{
 "cells": [
  {
   "cell_type": "code",
   "execution_count": 1,
   "metadata": {},
   "outputs": [],
   "source": [
    "%load_ext autoreload\n",
    "%autoreload 2\n",
    "import penzai\n",
    "from penzai import pz\n",
    "pz.ts.register_as_default()\n",
    "pz.ts.register_autovisualize_magic()\n",
    "pz.enable_interactive_context()"
   ]
  },
  {
   "cell_type": "code",
   "execution_count": 2,
   "metadata": {},
   "outputs": [],
   "source": [
    "\n",
    "pz.ts.active_autovisualizer.set_interactive(pz.ts.ArrayAutovisualizer())"
   ]
  },
  {
   "cell_type": "code",
   "execution_count": 3,
   "metadata": {},
   "outputs": [],
   "source": [
    "from matplotlib import pyplot as plt\n",
    "from tqdm.auto import tqdm, trange\n",
    "import jax.numpy as jnp\n",
    "import numpy as np\n",
    "import random\n",
    "from penzai.data_effects.side_output import SideOutputValue\n",
    "from micrlhf.utils.activation_manipulation import add_vector"
   ]
  },
  {
   "cell_type": "code",
   "execution_count": 4,
   "metadata": {},
   "outputs": [],
   "source": [
    "import plotly.express as px"
   ]
  },
  {
   "cell_type": "code",
   "execution_count": 5,
   "metadata": {},
   "outputs": [],
   "source": [
    "filename = \"models/phi-3-16.gguf\"\n",
    "from micrlhf.llama import LlamaTransformer\n",
    "llama = LlamaTransformer.from_pretrained(filename, device_map=\"auto\")\n",
    "from micrlhf.sampling import sample\n",
    "from transformers import AutoTokenizer\n",
    "import jax\n",
    "# tokenizer = load_tokenizer(filename)\n",
    "\n"
   ]
  },
  {
   "cell_type": "code",
   "execution_count": 6,
   "metadata": {},
   "outputs": [
    {
     "name": "stderr",
     "output_type": "stream",
     "text": [
      "/home/dmitrii/.cache/pypoetry/virtualenvs/micrlhf-progress-_SD4q1c9-py3.12/lib/python3.12/site-packages/huggingface_hub/file_download.py:1132: FutureWarning: `resume_download` is deprecated and will be removed in version 1.0.0. Downloads always resume when possible. If you want to force a new download, use `force_download=True`.\n",
      "  warnings.warn(\n",
      "Special tokens have been added in the vocabulary, make sure the associated word embeddings are fine-tuned or trained.\n"
     ]
    }
   ],
   "source": [
    "tokenizer = AutoTokenizer.from_pretrained(\"microsoft/Phi-3-mini-4k-instruct\")\n",
    "tokenizer.pad_token = tokenizer.eos_token\n",
    "tokenizer.padding_side = \"right\""
   ]
  },
  {
   "cell_type": "code",
   "execution_count": 7,
   "metadata": {},
   "outputs": [
    {
     "name": "stderr",
     "output_type": "stream",
     "text": [
      "Cloning into 'itv'...\n",
      "fatal: unable to access 'https://github.com/roeehendel/icl_task_vectors data/itv/': URL using bad/illegal format or missing URL\n"
     ]
    }
   ],
   "source": [
    "from task_vector_utils import load_tasks, ICLDataset, ICLSequence\n",
    "tasks = load_tasks()"
   ]
  },
  {
   "cell_type": "code",
   "execution_count": 8,
   "metadata": {},
   "outputs": [],
   "source": [
    "from micrlhf.llama import LlamaBlock\n",
    "from micrlhf.sampling import sample, jit_wrapper\n",
    "get_resids = llama.select().at_instances_of(LlamaBlock).apply_with_selected_index(lambda i, x:\n",
    "    pz.nn.Sequential([\n",
    "        pz.de.TellIntermediate.from_config(tag=f\"resid_pre_{i}\"),\n",
    "        x\n",
    "    ])\n",
    ")\n",
    "get_resids = pz.de.CollectingSideOutputs.handling(get_resids, tag_predicate=lambda x: x.startswith(\"resid_pre\"))\n",
    "get_resids_call = jit_wrapper.Jitted(get_resids)"
   ]
  },
  {
   "cell_type": "code",
   "execution_count": 9,
   "metadata": {},
   "outputs": [],
   "source": [
    "def generate_task_prompt(task, n_shots):\n",
    "    prompt = \"<user>Follow the pattern\\n{}\"\n",
    "    examples = []\n",
    "\n",
    "    for s, t in random.sample(list(tasks[task].items()), n_shots):\n",
    "        examples.append(f\"{s} -> {t}\")\n",
    "    prompt = prompt.format(\"\\n\".join(examples))\n",
    "\n",
    "    # print(prompt)\n",
    "\n",
    "    return prompt\n",
    "\n",
    "def tokenized_to_inputs(input_ids, attention_mask):\n",
    "    token_array = jnp.asarray(input_ids)\n",
    "    token_array = jax.device_put(token_array, jax.sharding.NamedSharding(llama.mesh, jax.sharding.PartitionSpec(\"dp\", \"sp\")))\n",
    "    token_array = pz.nx.wrap(token_array, \"batch\", \"seq\").untag(\"batch\").tag(\"batch\")\n",
    "\n",
    "    mask_array = jnp.asarray(attention_mask, dtype=jnp.bool)\n",
    "    mask_array = jax.device_put(mask_array, jax.sharding.NamedSharding(llama.mesh, jax.sharding.PartitionSpec(\"dp\", \"sp\")))\n",
    "    mask_array = pz.nx.wrap(mask_array, \"batch\", \"seq\").untag(\"batch\").tag(\"batch\")\n",
    "\n",
    "    inputs = llama.inputs.from_basic_segments(token_array)\n",
    "    return inputs"
   ]
  },
  {
   "cell_type": "code",
   "execution_count": 12,
   "metadata": {},
   "outputs": [],
   "source": [
    "task_names = [\n",
    "    \"en_es\"\n",
    "]\n",
    "layer = 18\n",
    "n_seeds = 10\n",
    "seed = 10\n",
    "\n",
    "# n_few_shots, batch_size, max_seq_len = 64, 64, 512\n",
    "n_few_shots, batch_size, max_seq_len = 20, 32, 128"
   ]
  },
  {
   "cell_type": "code",
   "execution_count": 13,
   "metadata": {},
   "outputs": [],
   "source": [
    "from task_vector_utils import ICLRunner, logprob_loss, get_tv, make_act_adder"
   ]
  },
  {
   "cell_type": "code",
   "execution_count": 14,
   "metadata": {},
   "outputs": [
    {
     "name": "stderr",
     "output_type": "stream",
     "text": [
      "--2024-05-30 17:13:03--  https://huggingface.co/nev/phi-3-4k-saex-test/resolve/main/l18-test-run-9-7.50E-06/sae_weights.safetensors?download=true\n",
      "Resolving huggingface.co (huggingface.co)... 108.156.211.125, 108.156.211.95, 108.156.211.51, ...\n",
      "Connecting to huggingface.co (huggingface.co)|108.156.211.125|:443... connected.\n",
      "HTTP request sent, awaiting response... 302 Found\n",
      "Location: https://cdn-lfs-us-1.huggingface.co/repos/eb/d8/ebd889d6ac58573e8e8a7aa1176d4d357581a6da60135b94aca378fddf4e9e54/d935d57ccf7d09a79bc7533bb2ed37d9e2c1ed747d5808d39c7faac01d561449?response-content-disposition=attachment%3B+filename*%3DUTF-8%27%27sae_weights.safetensors%3B+filename%3D%22sae_weights.safetensors%22%3B&Expires=1717348383&Policy=eyJTdGF0ZW1lbnQiOlt7IkNvbmRpdGlvbiI6eyJEYXRlTGVzc1RoYW4iOnsiQVdTOkVwb2NoVGltZSI6MTcxNzM0ODM4M319LCJSZXNvdXJjZSI6Imh0dHBzOi8vY2RuLWxmcy11cy0xLmh1Z2dpbmdmYWNlLmNvL3JlcG9zL2ViL2Q4L2ViZDg4OWQ2YWM1ODU3M2U4ZThhN2FhMTE3NmQ0ZDM1NzU4MWE2ZGE2MDEzNWI5NGFjYTM3OGZkZGY0ZTllNTQvZDkzNWQ1N2NjZjdkMDlhNzliYzc1MzNiYjJlZDM3ZDllMmMxZWQ3NDdkNTgwOGQzOWM3ZmFhYzAxZDU2MTQ0OT9yZXNwb25zZS1jb250ZW50LWRpc3Bvc2l0aW9uPSoifV19&Signature=ivB8x7lujWcwuOz4iJrEmzUSpFS1fOoF7Pe3stbsG2QrkwKRw4TVYlMC-WdeC8-uMJB89BdoUlfnxdrH-c66PBVTA1QUnWzL%7EUV%7ELreW2qJa8GFCyD26SakKXTnlFV%7EeQwnMHmo27M8z%7EiTZi0d66bGzCwWIJbgTpapn5thntnpvtMnJ3E1sJPdCsaQPqa9lIUj8K95vaBMT%7Ek9SiBPJvYeCSpTbktxIxJ5NAdhQpRTp3JSLUfdbJjIigs6uDWk1X56qnLCn3RbCuYoIiqYuJ7DCkfKvhxHc%7ETBGcwDNCONVmMi-skJjiPhixUtqXe9YifFQQt-DGgqRTq65eYS8AQ__&Key-Pair-Id=KCD77M1F0VK2B [following]\n",
      "--2024-05-30 17:13:03--  https://cdn-lfs-us-1.huggingface.co/repos/eb/d8/ebd889d6ac58573e8e8a7aa1176d4d357581a6da60135b94aca378fddf4e9e54/d935d57ccf7d09a79bc7533bb2ed37d9e2c1ed747d5808d39c7faac01d561449?response-content-disposition=attachment%3B+filename*%3DUTF-8%27%27sae_weights.safetensors%3B+filename%3D%22sae_weights.safetensors%22%3B&Expires=1717348383&Policy=eyJTdGF0ZW1lbnQiOlt7IkNvbmRpdGlvbiI6eyJEYXRlTGVzc1RoYW4iOnsiQVdTOkVwb2NoVGltZSI6MTcxNzM0ODM4M319LCJSZXNvdXJjZSI6Imh0dHBzOi8vY2RuLWxmcy11cy0xLmh1Z2dpbmdmYWNlLmNvL3JlcG9zL2ViL2Q4L2ViZDg4OWQ2YWM1ODU3M2U4ZThhN2FhMTE3NmQ0ZDM1NzU4MWE2ZGE2MDEzNWI5NGFjYTM3OGZkZGY0ZTllNTQvZDkzNWQ1N2NjZjdkMDlhNzliYzc1MzNiYjJlZDM3ZDllMmMxZWQ3NDdkNTgwOGQzOWM3ZmFhYzAxZDU2MTQ0OT9yZXNwb25zZS1jb250ZW50LWRpc3Bvc2l0aW9uPSoifV19&Signature=ivB8x7lujWcwuOz4iJrEmzUSpFS1fOoF7Pe3stbsG2QrkwKRw4TVYlMC-WdeC8-uMJB89BdoUlfnxdrH-c66PBVTA1QUnWzL%7EUV%7ELreW2qJa8GFCyD26SakKXTnlFV%7EeQwnMHmo27M8z%7EiTZi0d66bGzCwWIJbgTpapn5thntnpvtMnJ3E1sJPdCsaQPqa9lIUj8K95vaBMT%7Ek9SiBPJvYeCSpTbktxIxJ5NAdhQpRTp3JSLUfdbJjIigs6uDWk1X56qnLCn3RbCuYoIiqYuJ7DCkfKvhxHc%7ETBGcwDNCONVmMi-skJjiPhixUtqXe9YifFQQt-DGgqRTq65eYS8AQ__&Key-Pair-Id=KCD77M1F0VK2B\n",
      "Resolving cdn-lfs-us-1.huggingface.co (cdn-lfs-us-1.huggingface.co)... 18.161.156.3, 18.161.156.33, 18.161.156.61, ...\n",
      "Connecting to cdn-lfs-us-1.huggingface.co (cdn-lfs-us-1.huggingface.co)|18.161.156.3|:443... connected.\n",
      "HTTP request sent, awaiting response... 416 Requested Range Not Satisfiable\n",
      "\n",
      "    The file is already fully retrieved; nothing to do.\n",
      "\n"
     ]
    }
   ],
   "source": [
    "from micrlhf.utils.load_sae import get_sae, sae_encode_gated\n",
    "sae = get_sae(layer, 9)"
   ]
  },
  {
   "cell_type": "code",
   "execution_count": 15,
   "metadata": {},
   "outputs": [],
   "source": [
    "task_names = [\n",
    "    \"en_it\", \"en_fr\", \"en_de\", \"person_profession\", \"country_capital\", \"location_religion\", \"location_continent\", \"location_language\", \"es_en\", \"fr_en\"\n",
    "]"
   ]
  },
  {
   "cell_type": "code",
   "execution_count": 16,
   "metadata": {},
   "outputs": [],
   "source": [
    "task = \"antonyms\""
   ]
  },
  {
   "cell_type": "code",
   "execution_count": 17,
   "metadata": {},
   "outputs": [],
   "source": [
    "n_few_shots = 40\n",
    "\n",
    "pairs = list(tasks[task].items())\n",
    "\n",
    "runner = ICLRunner(task, pairs, batch_size=32, n_shot=n_few_shots-1, max_seq_len=256, seed=10)"
   ]
  },
  {
   "cell_type": "code",
   "execution_count": 18,
   "metadata": {},
   "outputs": [],
   "source": [
    "tokenized = runner.get_tokens(runner.train_pairs, tokenizer)\n",
    "\n",
    "train_inputs = tokenized_to_inputs(**tokenized)\n",
    "train_tokens = tokenized[\"input_ids\"]"
   ]
  },
  {
   "cell_type": "code",
   "execution_count": 15,
   "metadata": {},
   "outputs": [
    {
     "name": "stdout",
     "output_type": "stream",
     "text": [
      "Full: antonyms, loss: 0.339844, n_shot: 40\n"
     ]
    }
   ],
   "source": [
    "logits, resids = get_resids_call(train_inputs)\n",
    "\n",
    "loss = logprob_loss(\n",
    "    logits.unwrap(\"batch\", \"seq\", \"vocabulary\"), train_tokens, shift=1 if task.startswith(\"algo\") else 0, n_first=2\n",
    ")\n",
    "\n",
    "print(\n",
    "    f\"Full: {task}, loss: {loss}, n_shot: {n_few_shots}\"\n",
    ")\n",
    "\n",
    "mask = train_tokens == 1599\n",
    "\n",
    "resids = resids[layer].value.unwrap(\n",
    "    \"batch\", \"seq\", \"embedding\"\n",
    ")\n",
    "\n",
    "resids = resids[mask]\n",
    "\n",
    "        "
   ]
  },
  {
   "cell_type": "code",
   "execution_count": 16,
   "metadata": {},
   "outputs": [],
   "source": [
    "tv = resids.mean(axis=0)"
   ]
  },
  {
   "cell_type": "code",
   "execution_count": 16,
   "metadata": {},
   "outputs": [],
   "source": [
    "tokenized = runner.get_tokens(runner.eval_pairs, tokenizer)\n",
    "inputs = tokenized_to_inputs(**tokenized)\n",
    "tokens = tokenized[\"input_ids\"]"
   ]
  },
  {
   "cell_type": "code",
   "execution_count": 17,
   "metadata": {},
   "outputs": [
    {
     "name": "stdout",
     "output_type": "stream",
     "text": [
      "TV: antonyms, L: 18, Loss: 1.65625\n"
     ]
    }
   ],
   "source": [
    "\n",
    "\n",
    "logits = llama(inputs)\n",
    "\n",
    "add_act = make_act_adder(llama, tv.astype('bfloat16'), tokens, layer, length=1, shift= 0)\n",
    "\n",
    "logits = add_act(inputs)\n",
    "\n",
    "loss = logprob_loss(\n",
    "    logits.unwrap(\"batch\", \"seq\", \"vocabulary\"), tokens, shift=1 if task.startswith(\"algo\") else 0, n_first=2\n",
    ")\n",
    "\n",
    "print(\n",
    "    f\"TV: {task}, L: {layer}, Loss: {loss}\"  \n",
    ")"
   ]
  },
  {
   "cell_type": "code",
   "execution_count": 18,
   "metadata": {},
   "outputs": [
    {
     "name": "stderr",
     "output_type": "stream",
     "text": [
      "--2024-05-30 15:36:27--  https://huggingface.co/nev/phi-3-4k-saex-test/resolve/main/l18-test-run-4-8.86E-06/sae_weights.safetensors?download=true\n",
      "Resolving huggingface.co (huggingface.co)... 108.156.211.125, 108.156.211.51, 108.156.211.95, ...\n",
      "Connecting to huggingface.co (huggingface.co)|108.156.211.125|:443... connected.\n",
      "HTTP request sent, awaiting response... 302 Found\n",
      "Location: https://cdn-lfs-us-1.huggingface.co/repos/eb/d8/ebd889d6ac58573e8e8a7aa1176d4d357581a6da60135b94aca378fddf4e9e54/fa68513c10a8cdd065e4a0e66c05816325e4d72fb272857ca70564fca7fa808f?response-content-disposition=attachment%3B+filename*%3DUTF-8%27%27sae_weights.safetensors%3B+filename%3D%22sae_weights.safetensors%22%3B&Expires=1717342587&Policy=eyJTdGF0ZW1lbnQiOlt7IkNvbmRpdGlvbiI6eyJEYXRlTGVzc1RoYW4iOnsiQVdTOkVwb2NoVGltZSI6MTcxNzM0MjU4N319LCJSZXNvdXJjZSI6Imh0dHBzOi8vY2RuLWxmcy11cy0xLmh1Z2dpbmdmYWNlLmNvL3JlcG9zL2ViL2Q4L2ViZDg4OWQ2YWM1ODU3M2U4ZThhN2FhMTE3NmQ0ZDM1NzU4MWE2ZGE2MDEzNWI5NGFjYTM3OGZkZGY0ZTllNTQvZmE2ODUxM2MxMGE4Y2RkMDY1ZTRhMGU2NmMwNTgxNjMyNWU0ZDcyZmIyNzI4NTdjYTcwNTY0ZmNhN2ZhODA4Zj9yZXNwb25zZS1jb250ZW50LWRpc3Bvc2l0aW9uPSoifV19&Signature=iQdPmE-%7EqQhRYf-d5Ogt-A8vuUGubqi2gmY1S1vNIu%7EwMDryS4cIimh7G838sGsWSPUOpdgg-UxrRZ1vS4x2d19-3V9AmRPh8U%7Ej4UK0RkbkZYkIV5WmbUc0RjfMMfwjjUHtrzxOTpbs8wRTAFBzSwJL3vLG0VllahFe19Qmkm6qDGT5SPziDCYWtsZRjn17X-59M0OaBl7iJdF-tIEh3kUem-V01UHhRZ4dM05%7E3r2kuFFC6REs1Le5CPqarhPB4hV7yUJLONjs54MTDtX20rcEkd-caagjf4e%7Ezt3GC7FfzCSlg3Qun4Z0BxZfq-ANoJCOuw1A-YOcTe6Fc7f31Q__&Key-Pair-Id=KCD77M1F0VK2B [following]\n",
      "--2024-05-30 15:36:27--  https://cdn-lfs-us-1.huggingface.co/repos/eb/d8/ebd889d6ac58573e8e8a7aa1176d4d357581a6da60135b94aca378fddf4e9e54/fa68513c10a8cdd065e4a0e66c05816325e4d72fb272857ca70564fca7fa808f?response-content-disposition=attachment%3B+filename*%3DUTF-8%27%27sae_weights.safetensors%3B+filename%3D%22sae_weights.safetensors%22%3B&Expires=1717342587&Policy=eyJTdGF0ZW1lbnQiOlt7IkNvbmRpdGlvbiI6eyJEYXRlTGVzc1RoYW4iOnsiQVdTOkVwb2NoVGltZSI6MTcxNzM0MjU4N319LCJSZXNvdXJjZSI6Imh0dHBzOi8vY2RuLWxmcy11cy0xLmh1Z2dpbmdmYWNlLmNvL3JlcG9zL2ViL2Q4L2ViZDg4OWQ2YWM1ODU3M2U4ZThhN2FhMTE3NmQ0ZDM1NzU4MWE2ZGE2MDEzNWI5NGFjYTM3OGZkZGY0ZTllNTQvZmE2ODUxM2MxMGE4Y2RkMDY1ZTRhMGU2NmMwNTgxNjMyNWU0ZDcyZmIyNzI4NTdjYTcwNTY0ZmNhN2ZhODA4Zj9yZXNwb25zZS1jb250ZW50LWRpc3Bvc2l0aW9uPSoifV19&Signature=iQdPmE-%7EqQhRYf-d5Ogt-A8vuUGubqi2gmY1S1vNIu%7EwMDryS4cIimh7G838sGsWSPUOpdgg-UxrRZ1vS4x2d19-3V9AmRPh8U%7Ej4UK0RkbkZYkIV5WmbUc0RjfMMfwjjUHtrzxOTpbs8wRTAFBzSwJL3vLG0VllahFe19Qmkm6qDGT5SPziDCYWtsZRjn17X-59M0OaBl7iJdF-tIEh3kUem-V01UHhRZ4dM05%7E3r2kuFFC6REs1Le5CPqarhPB4hV7yUJLONjs54MTDtX20rcEkd-caagjf4e%7Ezt3GC7FfzCSlg3Qun4Z0BxZfq-ANoJCOuw1A-YOcTe6Fc7f31Q__&Key-Pair-Id=KCD77M1F0VK2B\n",
      "Resolving cdn-lfs-us-1.huggingface.co (cdn-lfs-us-1.huggingface.co)... 18.161.156.33, 18.161.156.61, 18.161.156.80, ...\n",
      "Connecting to cdn-lfs-us-1.huggingface.co (cdn-lfs-us-1.huggingface.co)|18.161.156.33|:443... connected.\n",
      "HTTP request sent, awaiting response... 416 Requested Range Not Satisfiable\n",
      "\n",
      "    The file is already fully retrieved; nothing to do.\n",
      "\n"
     ]
    }
   ],
   "source": [
    "from micrlhf.utils.load_sae import get_sae, sae_encode_gated\n",
    "sae = get_sae(layer, 4)"
   ]
  },
  {
   "cell_type": "code",
   "execution_count": 19,
   "metadata": {},
   "outputs": [],
   "source": [
    "_, pr, _ = sae_encode_gated(sae, tv)"
   ]
  },
  {
   "cell_type": "code",
   "execution_count": 20,
   "metadata": {},
   "outputs": [
    {
     "data": {
      "application/vnd.jupyter.widget-view+json": {
       "model_id": "3391ac5286304897a1ed72f0b6e350e8",
       "version_major": 2,
       "version_minor": 0
      },
      "text/plain": [
       "  0%|          | 0/2000 [00:00<?, ?it/s]"
      ]
     },
     "metadata": {},
     "output_type": "display_data"
    }
   ],
   "source": [
    "from task_vector_utils import FeatureSearch\n",
    "\n",
    "fs = FeatureSearch(task, pairs, layer, llama, tokenizer, n_shot=1, seed=seed+100, init_w=pr, early_stopping_steps=100, n_first=2)\n",
    "\n",
    "w, m = fs.find_weights()"
   ]
  },
  {
   "cell_type": "code",
   "execution_count": 21,
   "metadata": {},
   "outputs": [
    {
     "name": "stdout",
     "output_type": "stream",
     "text": [
      "Recon fs: antonyms, L: 18, Loss: 1.45312\n"
     ]
    }
   ],
   "source": [
    "weights = (w > 0) * jax.nn.relu(w * jax.nn.softplus(sae[\"s_gate\"]) * sae[\"scaling_factor\"] + sae[\"b_gate\"])   \n",
    "\n",
    "recon = jnp.einsum(\"fv,f->v\", sae[\"W_dec\"], weights) + sae[\"b_dec\"]\n",
    "recon = recon.astype('bfloat16')\n",
    "\n",
    "add_act = make_act_adder(llama, recon, tokens, layer, length=1, shift= 0)\n",
    "\n",
    "logits = add_act(inputs)\n",
    "\n",
    "loss = logprob_loss(\n",
    "    logits.unwrap(\"batch\", \"seq\", \"vocabulary\"), tokens, shift=1 if task.startswith(\"algo\") else 0, n_first=2\n",
    ")\n",
    "\n",
    "print(\n",
    "    f\"Recon fs: {task}, L: {layer}, Loss: {loss}\"  \n",
    ")"
   ]
  },
  {
   "cell_type": "code",
   "execution_count": 22,
   "metadata": {},
   "outputs": [],
   "source": [
    "_, i = jax.lax.top_k(weights, 25)"
   ]
  },
  {
   "cell_type": "code",
   "execution_count": 23,
   "metadata": {},
   "outputs": [
    {
     "name": "stdout",
     "output_type": "stream",
     "text": [
      "[46421  8787 48142 48437 21441 22813 47882  8281 45093 21885  1065 33278\n",
      "     0     1     2     3     4     5     6     7     8     9    10    11\n",
      "    12]\n"
     ]
    }
   ],
   "source": [
    "print(i)"
   ]
  },
  {
   "cell_type": "code",
   "execution_count": 25,
   "metadata": {},
   "outputs": [],
   "source": [
    "from micrlhf.utils.vector_storage import load_vector\n",
    "first_layer = 4\n",
    "w = load_vector(f\"fs_antonyms_{first_layer}_v4\")"
   ]
  },
  {
   "cell_type": "code",
   "execution_count": 24,
   "metadata": {},
   "outputs": [
    {
     "data": {
      "application/vnd.jupyter.widget-view+json": {
       "model_id": "655040ed33f24439a2946990513b41a8",
       "version_major": 2,
       "version_minor": 0
      },
      "text/plain": [
       "fs_antonyms_18_v4.npz:   0%|          | 0.00/197k [00:00<?, ?B/s]"
      ]
     },
     "metadata": {},
     "output_type": "display_data"
    }
   ],
   "source": [
    "from micrlhf.utils.vector_storage import save_and_upload_vector\n",
    "\n",
    "save_and_upload_vector(f\"fs_{task}_{layer}_v4\", w, overwrite=False)"
   ]
  },
  {
   "cell_type": "code",
   "execution_count": 19,
   "metadata": {},
   "outputs": [],
   "source": [
    "from micrlhf.utils.vector_storage import load_vector\n",
    "first_layer = 0\n",
    "# w = load_vector(f\"fs_{task}_{first_layer}_v4\")"
   ]
  },
  {
   "cell_type": "code",
   "execution_count": 20,
   "metadata": {},
   "outputs": [],
   "source": [
    "# first_sae = get_sae(first_layer, 4)"
   ]
  },
  {
   "cell_type": "code",
   "execution_count": null,
   "metadata": {},
   "outputs": [],
   "source": []
  },
  {
   "cell_type": "code",
   "execution_count": 22,
   "metadata": {},
   "outputs": [],
   "source": [
    "_, initial_resids = get_resids_call(train_inputs)"
   ]
  },
  {
   "cell_type": "code",
   "execution_count": 23,
   "metadata": {},
   "outputs": [],
   "source": [
    "initial_resids = initial_resids[first_layer].value.unwrap(\n",
    "    \"batch\", \"seq\", \"embedding\"\n",
    ")\n"
   ]
  },
  {
   "cell_type": "code",
   "execution_count": 24,
   "metadata": {},
   "outputs": [],
   "source": [
    "taker = llama.select().at_instances_of(LlamaBlock).apply_with_selected_index(\n",
    "    lambda i, x: x if i >= first_layer else pz.nn.Identity()\n",
    ").select().at_instances_of(pz.nn.EmbeddingLookup).apply(lambda _: pz.nn.Identity()).select().at_instances_of(pz.nn.ConstantRescale).pick_nth_selected(0).apply(lambda _: pz.nn.Identity())"
   ]
  },
  {
   "cell_type": "code",
   "execution_count": 25,
   "metadata": {},
   "outputs": [],
   "source": [
    "import dataclasses"
   ]
  },
  {
   "cell_type": "code",
   "execution_count": 26,
   "metadata": {},
   "outputs": [],
   "source": [
    "get_resids_taker = taker.select().at_instances_of(LlamaBlock).apply_with_selected_index(lambda i, x:\n",
    "    pz.nn.Sequential([\n",
    "        pz.de.TellIntermediate.from_config(tag=f\"resid_pre_{i}\"),\n",
    "        x\n",
    "    ])\n",
    ")\n",
    "get_resids_taker = pz.de.CollectingSideOutputs.handling(get_resids_taker, tag_predicate=lambda x: x.startswith(\"resid_pre\"))\n",
    "get_resids_taker_call = jit_wrapper.Jitted(get_resids_taker)"
   ]
  },
  {
   "cell_type": "code",
   "execution_count": 29,
   "metadata": {},
   "outputs": [],
   "source": [
    "mask = train_tokens == 1599\n",
    "\n",
    "positions = jnp.argwhere(mask)[:, -1]\n",
    "positions = jnp.column_stack(\n",
    "    tuple(\n",
    "        positions + i\n",
    "        for i in range(1)\n",
    "    )\n",
    ")\n",
    "\n"
   ]
  },
  {
   "cell_type": "code",
   "execution_count": 31,
   "metadata": {},
   "outputs": [
    {
     "data": {
      "text/html": [
       "<div id=\"output_cee770877e604353a7d236bbc49741bc\"><script> /* penzai.treescope rendering of a Python object (compressed) */ (()=>{ let observer; let lastStep = new Promise((resolve, reject) => { observer = new IntersectionObserver((entries) => { for (const entry of entries) { if (entry.isIntersecting) { resolve(); observer.disconnect(); return; } } }, {rootMargin: \"1000px\"}); }); window.treescope_decompress_enqueue = (encoded, destId) => { const previous = lastStep; const destElt = document.getElementById(destId); lastStep = (async () => { await previous; let blob = new Blob([ Uint8Array.from(atob(encoded), (m) => m.codePointAt(0)) ]); let reader = blob.stream().pipeThrough( new DecompressionStream(\"deflate\") ).pipeThrough( new TextDecoderStream(\"utf-8\") ).getReader(); let parts = []; while (true) { let step = await reader.read(); if (step.done) { break; } parts.push(step.value); } let newElt = document.createElement(\"div\"); newElt.innerHTML = parts.join(\"\"); destElt.parentNode.replaceChild(newElt, destElt); for (let oldScript of newElt.querySelectorAll(\"script\")) { let newScript = document.createElement(\"script\"); newScript.type = oldScript.type; newScript.textContent = oldScript.textContent; oldScript.parentNode.replaceChild(newScript, oldScript); } })(); requestAnimationFrame(() => { observer.observe(destElt); }); } })(); </script><div id=\"compress_html_92e87da96a35421fad3fb6c895d97699\"><script>window.treescope_decompress_enqueue(\"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\", \"compress_html_92e87da96a35421fad3fb6c895d97699\");</script><span style=\"color: #aaaaaa; font-family: monospace\">(Loading...)</span></div></div>"
      ],
      "text/plain": [
       "<IPython.core.display.HTML object>"
      ]
     },
     "metadata": {},
     "output_type": "display_data"
    },
    {
     "data": {
      "text/html": [
       "<div id=\"output_dest_cee770877e604353a7d236bbc49741bc\"><script> (()=>{ const output = document.getElementById(\"output_cee770877e604353a7d236bbc49741bc\"); const dest = document.getElementById(\"output_dest_cee770877e604353a7d236bbc49741bc\"); dest.parentNode.replaceChild(output, dest); })(); </script></div>"
      ],
      "text/plain": [
       "(32, 256, 3072)"
      ]
     },
     "execution_count": 31,
     "metadata": {},
     "output_type": "execute_result"
    }
   ],
   "source": [
    "initial_resids.shape"
   ]
  },
  {
   "cell_type": "code",
   "execution_count": 28,
   "metadata": {},
   "outputs": [
    {
     "name": "stderr",
     "output_type": "stream",
     "text": [
      "--2024-05-30 17:15:46--  https://huggingface.co/nev/phi-3-4k-saex-test/resolve/main/l18-test-run-4-8.86E-06/sae_weights.safetensors?download=true\n",
      "Resolving huggingface.co (huggingface.co)... 108.156.211.95, 108.156.211.90, 108.156.211.125, ...\n",
      "Connecting to huggingface.co (huggingface.co)|108.156.211.95|:443... connected.\n",
      "HTTP request sent, awaiting response... 302 Found\n",
      "Location: https://cdn-lfs-us-1.huggingface.co/repos/eb/d8/ebd889d6ac58573e8e8a7aa1176d4d357581a6da60135b94aca378fddf4e9e54/fa68513c10a8cdd065e4a0e66c05816325e4d72fb272857ca70564fca7fa808f?response-content-disposition=attachment%3B+filename*%3DUTF-8%27%27sae_weights.safetensors%3B+filename%3D%22sae_weights.safetensors%22%3B&Expires=1717348546&Policy=eyJTdGF0ZW1lbnQiOlt7IkNvbmRpdGlvbiI6eyJEYXRlTGVzc1RoYW4iOnsiQVdTOkVwb2NoVGltZSI6MTcxNzM0ODU0Nn19LCJSZXNvdXJjZSI6Imh0dHBzOi8vY2RuLWxmcy11cy0xLmh1Z2dpbmdmYWNlLmNvL3JlcG9zL2ViL2Q4L2ViZDg4OWQ2YWM1ODU3M2U4ZThhN2FhMTE3NmQ0ZDM1NzU4MWE2ZGE2MDEzNWI5NGFjYTM3OGZkZGY0ZTllNTQvZmE2ODUxM2MxMGE4Y2RkMDY1ZTRhMGU2NmMwNTgxNjMyNWU0ZDcyZmIyNzI4NTdjYTcwNTY0ZmNhN2ZhODA4Zj9yZXNwb25zZS1jb250ZW50LWRpc3Bvc2l0aW9uPSoifV19&Signature=HVxRbx0CNLvwk7I0UwlZ-MwtEWRRzmqeJkZAlSWiWNSN95LsTGwnPw3X%7E4SrLJV98MlNtQ38toKpNdXEAhf5L5z6pz1iMEODeZHA8rOhlp3sAaECyZajhkd7kgfnnfOJg-bE-HgGXw5gY4iLnfX4In4byeWoA29BbtxBSBwmjrcj0rAk6rucL8608jryIYYpFK6MEqy0q4K5fk9o0BGhuWizXHFHXczSqhcLWQS1ocFrzWVTMADfjBhALVZQel6VegdEcZiy6p0izbguqhZsA-RrMZeQWvanH2ldEwoTCexHLPTWtn6s1LlGAEm1fAUgmi7AMjb6PjOBojWyGG72xQ__&Key-Pair-Id=KCD77M1F0VK2B [following]\n",
      "--2024-05-30 17:15:46--  https://cdn-lfs-us-1.huggingface.co/repos/eb/d8/ebd889d6ac58573e8e8a7aa1176d4d357581a6da60135b94aca378fddf4e9e54/fa68513c10a8cdd065e4a0e66c05816325e4d72fb272857ca70564fca7fa808f?response-content-disposition=attachment%3B+filename*%3DUTF-8%27%27sae_weights.safetensors%3B+filename%3D%22sae_weights.safetensors%22%3B&Expires=1717348546&Policy=eyJTdGF0ZW1lbnQiOlt7IkNvbmRpdGlvbiI6eyJEYXRlTGVzc1RoYW4iOnsiQVdTOkVwb2NoVGltZSI6MTcxNzM0ODU0Nn19LCJSZXNvdXJjZSI6Imh0dHBzOi8vY2RuLWxmcy11cy0xLmh1Z2dpbmdmYWNlLmNvL3JlcG9zL2ViL2Q4L2ViZDg4OWQ2YWM1ODU3M2U4ZThhN2FhMTE3NmQ0ZDM1NzU4MWE2ZGE2MDEzNWI5NGFjYTM3OGZkZGY0ZTllNTQvZmE2ODUxM2MxMGE4Y2RkMDY1ZTRhMGU2NmMwNTgxNjMyNWU0ZDcyZmIyNzI4NTdjYTcwNTY0ZmNhN2ZhODA4Zj9yZXNwb25zZS1jb250ZW50LWRpc3Bvc2l0aW9uPSoifV19&Signature=HVxRbx0CNLvwk7I0UwlZ-MwtEWRRzmqeJkZAlSWiWNSN95LsTGwnPw3X%7E4SrLJV98MlNtQ38toKpNdXEAhf5L5z6pz1iMEODeZHA8rOhlp3sAaECyZajhkd7kgfnnfOJg-bE-HgGXw5gY4iLnfX4In4byeWoA29BbtxBSBwmjrcj0rAk6rucL8608jryIYYpFK6MEqy0q4K5fk9o0BGhuWizXHFHXczSqhcLWQS1ocFrzWVTMADfjBhALVZQel6VegdEcZiy6p0izbguqhZsA-RrMZeQWvanH2ldEwoTCexHLPTWtn6s1LlGAEm1fAUgmi7AMjb6PjOBojWyGG72xQ__&Key-Pair-Id=KCD77M1F0VK2B\n",
      "Resolving cdn-lfs-us-1.huggingface.co (cdn-lfs-us-1.huggingface.co)... 108.157.150.29, 108.157.150.122, 108.157.150.21, ...\n",
      "Connecting to cdn-lfs-us-1.huggingface.co (cdn-lfs-us-1.huggingface.co)|108.157.150.29|:443... connected.\n",
      "HTTP request sent, awaiting response... 416 Requested Range Not Satisfiable\n",
      "\n",
      "    The file is already fully retrieved; nothing to do.\n",
      "\n"
     ]
    }
   ],
   "source": [
    "sae = get_sae(18, 4)"
   ]
  },
  {
   "cell_type": "code",
   "execution_count": 25,
   "metadata": {},
   "outputs": [],
   "source": [
    "w4 = load_vector(f\"fs_antonyms_4_v4\")"
   ]
  },
  {
   "cell_type": "code",
   "execution_count": 32,
   "metadata": {},
   "outputs": [],
   "source": [
    "import dataclasses\n",
    "\n",
    "\n",
    "feature = 21885\n",
    "\n",
    "def calc_feature(w):\n",
    "    weights = (w > 0) * jax.nn.relu(w * jax.nn.softplus(first_sae[\"s_gate\"]) * first_sae[\"scaling_factor\"] + first_sae[\"b_gate\"])   \n",
    "    recon = jnp.einsum(\"fv,f->v\", first_sae[\"W_dec\"], weights) + first_sae[\"b_dec\"]\n",
    "    recon = recon.astype('bfloat16')\n",
    "\n",
    "\n",
    "    vm = jax.vmap(\n",
    "        lambda a, b: a.at[b].add(recon)\n",
    "    )\n",
    "\n",
    "    ir = vm(initial_resids, positions)\n",
    "    ir = pz.nx.wrap(ir, \"batch\", \"seq\", \"embedding\")\n",
    "\n",
    "    taker_inputs = dataclasses.replace(inputs, tokens=ir)\n",
    "\n",
    "    _, taker_resids = get_resids_taker_call(taker_inputs)\n",
    "\n",
    "    resid_stream = taker_resids[18].value.unwrap(\n",
    "        \"batch\", \"seq\", \"embedding\"\n",
    "    )\n",
    "\n",
    "    resid_stream = resid_stream[mask]\n",
    "\n",
    "    tv = resid_stream.mean(axis=0)\n",
    "\n",
    "    _, pr, _ = sae_encode_gated(sae, tv)\n",
    "\n",
    "    return pr[21885]\n",
    "\n",
    "    "
   ]
  },
  {
   "cell_type": "code",
   "execution_count": 45,
   "metadata": {},
   "outputs": [],
   "source": [
    "def calc_feature(initial_resids):\n",
    "    w = w4\n",
    "    weights = (w > 0) * jax.nn.relu(w * jax.nn.softplus(first_sae[\"s_gate\"]) * first_sae[\"scaling_factor\"] + first_sae[\"b_gate\"])   \n",
    "    recon = jnp.einsum(\"fv,f->v\", first_sae[\"W_dec\"], weights) + first_sae[\"b_dec\"]\n",
    "    recon = recon.astype('bfloat16')\n",
    "\n",
    "\n",
    "    vm = jax.vmap(\n",
    "        lambda a, b: a.at[b].add(recon)\n",
    "    )\n",
    "\n",
    "    ir = vm(initial_resids, positions)\n",
    "    ir = pz.nx.wrap(ir, \"batch\", \"seq\", \"embedding\")\n",
    "\n",
    "    taker_inputs = dataclasses.replace(inputs, tokens=ir)\n",
    "\n",
    "    _, taker_resids = get_resids_taker_call(taker_inputs)\n",
    "\n",
    "    resid_stream = taker_resids[18].value.unwrap(\n",
    "        \"batch\", \"seq\", \"embedding\"\n",
    "    )\n",
    "\n",
    "    resid_stream = resid_stream[mask]\n",
    "\n",
    "    tv = resid_stream.mean(axis=0)\n",
    "\n",
    "    _, pr, _ = sae_encode_gated(sae, tv)\n",
    "\n",
    "    return pr[21885]\n"
   ]
  },
  {
   "cell_type": "code",
   "execution_count": 36,
   "metadata": {},
   "outputs": [],
   "source": [
    "def calc_feature(initial_resids):\n",
    "\n",
    "    initial_resids = pz.nx.wrap(initial_resids, \"batch\", \"seq\", \"embedding\")\n",
    "\n",
    "    taker_inputs = dataclasses.replace(train_inputs, tokens=initial_resids)\n",
    "\n",
    "    _, taker_resids = get_resids_taker_call(taker_inputs)\n",
    "\n",
    "    resid_stream = taker_resids[18].value.unwrap(\n",
    "        \"batch\", \"seq\", \"embedding\"\n",
    "    )\n",
    "\n",
    "    resid_stream = resid_stream[mask]\n",
    "\n",
    "    tv = resid_stream.mean(axis=0)\n",
    "\n",
    "    _, pr, _ = sae_encode_gated(sae, tv)\n",
    "\n",
    "    return pr[21885]\n"
   ]
  },
  {
   "cell_type": "code",
   "execution_count": 44,
   "metadata": {},
   "outputs": [
    {
     "data": {
      "text/html": [
       "<div id=\"output_fb5c748e93da46d1964b651e64374687\"><script> /* penzai.treescope rendering of a Python object (compressed) */ (()=>{ let observer; let lastStep = new Promise((resolve, reject) => { observer = new IntersectionObserver((entries) => { for (const entry of entries) { if (entry.isIntersecting) { resolve(); observer.disconnect(); return; } } }, {rootMargin: \"1000px\"}); }); window.treescope_decompress_enqueue = (encoded, destId) => { const previous = lastStep; const destElt = document.getElementById(destId); lastStep = (async () => { await previous; let blob = new Blob([ Uint8Array.from(atob(encoded), (m) => m.codePointAt(0)) ]); let reader = blob.stream().pipeThrough( new DecompressionStream(\"deflate\") ).pipeThrough( new TextDecoderStream(\"utf-8\") ).getReader(); let parts = []; while (true) { let step = await reader.read(); if (step.done) { break; } parts.push(step.value); } let newElt = document.createElement(\"div\"); newElt.innerHTML = parts.join(\"\"); destElt.parentNode.replaceChild(newElt, destElt); for (let oldScript of newElt.querySelectorAll(\"script\")) { let newScript = document.createElement(\"script\"); newScript.type = oldScript.type; newScript.textContent = oldScript.textContent; oldScript.parentNode.replaceChild(newScript, oldScript); } })(); requestAnimationFrame(() => { observer.observe(destElt); }); } })(); </script><div id=\"compress_html_c0056afbcc9b423697705a2707b62d32\"><script>window.treescope_decompress_enqueue(\"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\", \"compress_html_c0056afbcc9b423697705a2707b62d32\");</script><span style=\"color: #aaaaaa; font-family: monospace\">(Loading...)</span></div></div>"
      ],
      "text/plain": [
       "<IPython.core.display.HTML object>"
      ]
     },
     "metadata": {},
     "output_type": "display_data"
    },
    {
     "data": {
      "text/html": [
       "<div id=\"output_dest_fb5c748e93da46d1964b651e64374687\"><script> (()=>{ const output = document.getElementById(\"output_fb5c748e93da46d1964b651e64374687\"); const dest = document.getElementById(\"output_dest_fb5c748e93da46d1964b651e64374687\"); dest.parentNode.replaceChild(output, dest); })(); </script></div>"
      ],
      "text/plain": [
       "[45690, 45844, 9420, 24958, 36610, 409, 40693, 30498, 35966, 0]"
      ]
     },
     "execution_count": 44,
     "metadata": {},
     "output_type": "execute_result"
    }
   ],
   "source": [
    "jax.lax.top_k(w4, 10)[1].tolist()"
   ]
  },
  {
   "cell_type": "code",
   "execution_count": 38,
   "metadata": {},
   "outputs": [],
   "source": [
    "lwg = jax.value_and_grad(calc_feature)"
   ]
  },
  {
   "cell_type": "code",
   "execution_count": 39,
   "metadata": {},
   "outputs": [],
   "source": [
    "_, grad2 = lwg(initial_resids)"
   ]
  },
  {
   "cell_type": "code",
   "execution_count": 40,
   "metadata": {},
   "outputs": [],
   "source": [
    "norm = jnp.linalg.norm(grad2, axis=-1)"
   ]
  },
  {
   "cell_type": "code",
   "execution_count": 45,
   "metadata": {},
   "outputs": [
    {
     "data": {
      "application/vnd.plotly.v1+json": {
       "config": {
        "plotlyServerURL": "https://plot.ly"
       },
       "data": [
        {
         "coloraxis": "coloraxis",
         "hovertemplate": "x: %{x}<br>y: %{y}<br>color: %{z}<extra></extra>",
         "name": "0",
         "type": "heatmap",
         "x": [
          "0_<s>",
          "1_<|user|>",
          "2_Follow",
          "3_the",
          "4_pattern",
          "5_:",
          "6_\n",
          "7_more",
          "8_->",
          "9_less",
          "10_\n",
          "11_new",
          "12_->",
          "13_old",
          "14_\n",
          "15_accept",
          "16_->",
          "17_reject",
          "18_\n",
          "19_def",
          "20_end",
          "21_->",
          "22_attack",
          "23_\n",
          "24_odd",
          "25_->",
          "26_even",
          "27_\n",
          "28_dark",
          "29_->",
          "30_light",
          "31_\n",
          "32_inner",
          "33_->",
          "34_outer",
          "35_\n",
          "36_build",
          "37_->",
          "38_destroy",
          "39_\n",
          "40_den",
          "41_y",
          "42_->",
          "43_admit",
          "44_\n",
          "45_first",
          "46_->",
          "47_last",
          "48_\n",
          "49_ru",
          "50_de",
          "51_->",
          "52_pol",
          "53_ite",
          "54_\n",
          "55_ser",
          "56_ious",
          "57_->",
          "58_fun",
          "59_ny",
          "60_\n",
          "61_f",
          "62_ake",
          "63_->",
          "64_real",
          "65_\n",
          "66_private",
          "67_->",
          "68_public",
          "69_\n",
          "70_male",
          "71_->",
          "72_female",
          "73_\n",
          "74_ear",
          "75_ly",
          "76_->",
          "77_late",
          "78_\n",
          "79_above",
          "80_->",
          "81_below",
          "82_\n",
          "83_best",
          "84_->",
          "85_worst",
          "86_\n",
          "87_w",
          "88_et",
          "89_->",
          "90_dry",
          "91_\n",
          "92_g",
          "93_ive",
          "94_->",
          "95_receive",
          "96_\n",
          "97_bit",
          "98_ter",
          "99_->"
         ],
         "xaxis": "x",
         "yaxis": "y",
         "z": [
          [
           0.1474609375,
           0.1865234375,
           0.047607421875,
           0.05908203125,
           0.0703125,
           0.039306640625,
           0.044677734375,
           0.045166015625,
           0.064453125,
           0.03564453125,
           0.025146484375,
           0.01519775390625,
           0.0189208984375,
           0.01324462890625,
           0.01300048828125,
           0.01300048828125,
           0.01171875,
           0.01495361328125,
           0.031982421875,
           0.017578125,
           0.01348876953125,
           0.0078125,
           0.01141357421875,
           0.0115966796875,
           0.01318359375,
           0.00677490234375,
           0.00982666015625,
           0.007781982421875,
           0.009521484375,
           0.005828857421875,
           0.007659912109375,
           0.007049560546875,
           0.0098876953125,
           0.00555419921875,
           0.005767822265625,
           0.00933837890625,
           0.007232666015625,
           0.005828857421875,
           0.00799560546875,
           0.007598876953125,
           0.0064697265625,
           0.00909423828125,
           0.00390625,
           0.007049560546875,
           0.005615234375,
           0.005340576171875,
           0.005157470703125,
           0.00592041015625,
           0.005950927734375,
           0.00628662109375,
           0.00927734375,
           0.0050048828125,
           0.003509521484375,
           0.00634765625,
           0.00665283203125,
           0.0037689208984375,
           0.006988525390625,
           0.0040283203125,
           0.0037994384765625,
           0.0045166015625,
           0.00445556640625,
           0.0025177001953125,
           0.006805419921875,
           0.004302978515625,
           0.004608154296875,
           0.005889892578125,
           0.00848388671875,
           0.004241943359375,
           0.004364013671875,
           0.005035400390625,
           0.007110595703125,
           0.003326416015625,
           0.004852294921875,
           0.00653076171875,
           0.0036468505859375,
           0.005462646484375,
           0.0033416748046875,
           0.003692626953125,
           0.00543212890625,
           0.007568359375,
           0.0032196044921875,
           0.004547119140625,
           0.0047607421875,
           0.00457763671875,
           0.0033416748046875,
           0.00494384765625,
           0.00445556640625,
           0.00238037109375,
           0.005706787109375,
           0.00384521484375,
           0.005462646484375,
           0.003814697265625,
           0.0021820068359375,
           0.0052490234375,
           0.00347900390625,
           0.00537109375,
           0.0033721923828125,
           0.004547119140625,
           0.0074462890625,
           0.0032958984375
          ]
         ]
        }
       ],
       "layout": {
        "coloraxis": {
         "colorscale": [
          [
           0,
           "#0d0887"
          ],
          [
           0.1111111111111111,
           "#46039f"
          ],
          [
           0.2222222222222222,
           "#7201a8"
          ],
          [
           0.3333333333333333,
           "#9c179e"
          ],
          [
           0.4444444444444444,
           "#bd3786"
          ],
          [
           0.5555555555555556,
           "#d8576b"
          ],
          [
           0.6666666666666666,
           "#ed7953"
          ],
          [
           0.7777777777777778,
           "#fb9f3a"
          ],
          [
           0.8888888888888888,
           "#fdca26"
          ],
          [
           1,
           "#f0f921"
          ]
         ]
        },
        "margin": {
         "t": 60
        },
        "template": {
         "data": {
          "bar": [
           {
            "error_x": {
             "color": "#2a3f5f"
            },
            "error_y": {
             "color": "#2a3f5f"
            },
            "marker": {
             "line": {
              "color": "#E5ECF6",
              "width": 0.5
             },
             "pattern": {
              "fillmode": "overlay",
              "size": 10,
              "solidity": 0.2
             }
            },
            "type": "bar"
           }
          ],
          "barpolar": [
           {
            "marker": {
             "line": {
              "color": "#E5ECF6",
              "width": 0.5
             },
             "pattern": {
              "fillmode": "overlay",
              "size": 10,
              "solidity": 0.2
             }
            },
            "type": "barpolar"
           }
          ],
          "carpet": [
           {
            "aaxis": {
             "endlinecolor": "#2a3f5f",
             "gridcolor": "white",
             "linecolor": "white",
             "minorgridcolor": "white",
             "startlinecolor": "#2a3f5f"
            },
            "baxis": {
             "endlinecolor": "#2a3f5f",
             "gridcolor": "white",
             "linecolor": "white",
             "minorgridcolor": "white",
             "startlinecolor": "#2a3f5f"
            },
            "type": "carpet"
           }
          ],
          "choropleth": [
           {
            "colorbar": {
             "outlinewidth": 0,
             "ticks": ""
            },
            "type": "choropleth"
           }
          ],
          "contour": [
           {
            "colorbar": {
             "outlinewidth": 0,
             "ticks": ""
            },
            "colorscale": [
             [
              0,
              "#0d0887"
             ],
             [
              0.1111111111111111,
              "#46039f"
             ],
             [
              0.2222222222222222,
              "#7201a8"
             ],
             [
              0.3333333333333333,
              "#9c179e"
             ],
             [
              0.4444444444444444,
              "#bd3786"
             ],
             [
              0.5555555555555556,
              "#d8576b"
             ],
             [
              0.6666666666666666,
              "#ed7953"
             ],
             [
              0.7777777777777778,
              "#fb9f3a"
             ],
             [
              0.8888888888888888,
              "#fdca26"
             ],
             [
              1,
              "#f0f921"
             ]
            ],
            "type": "contour"
           }
          ],
          "contourcarpet": [
           {
            "colorbar": {
             "outlinewidth": 0,
             "ticks": ""
            },
            "type": "contourcarpet"
           }
          ],
          "heatmap": [
           {
            "colorbar": {
             "outlinewidth": 0,
             "ticks": ""
            },
            "colorscale": [
             [
              0,
              "#0d0887"
             ],
             [
              0.1111111111111111,
              "#46039f"
             ],
             [
              0.2222222222222222,
              "#7201a8"
             ],
             [
              0.3333333333333333,
              "#9c179e"
             ],
             [
              0.4444444444444444,
              "#bd3786"
             ],
             [
              0.5555555555555556,
              "#d8576b"
             ],
             [
              0.6666666666666666,
              "#ed7953"
             ],
             [
              0.7777777777777778,
              "#fb9f3a"
             ],
             [
              0.8888888888888888,
              "#fdca26"
             ],
             [
              1,
              "#f0f921"
             ]
            ],
            "type": "heatmap"
           }
          ],
          "heatmapgl": [
           {
            "colorbar": {
             "outlinewidth": 0,
             "ticks": ""
            },
            "colorscale": [
             [
              0,
              "#0d0887"
             ],
             [
              0.1111111111111111,
              "#46039f"
             ],
             [
              0.2222222222222222,
              "#7201a8"
             ],
             [
              0.3333333333333333,
              "#9c179e"
             ],
             [
              0.4444444444444444,
              "#bd3786"
             ],
             [
              0.5555555555555556,
              "#d8576b"
             ],
             [
              0.6666666666666666,
              "#ed7953"
             ],
             [
              0.7777777777777778,
              "#fb9f3a"
             ],
             [
              0.8888888888888888,
              "#fdca26"
             ],
             [
              1,
              "#f0f921"
             ]
            ],
            "type": "heatmapgl"
           }
          ],
          "histogram": [
           {
            "marker": {
             "pattern": {
              "fillmode": "overlay",
              "size": 10,
              "solidity": 0.2
             }
            },
            "type": "histogram"
           }
          ],
          "histogram2d": [
           {
            "colorbar": {
             "outlinewidth": 0,
             "ticks": ""
            },
            "colorscale": [
             [
              0,
              "#0d0887"
             ],
             [
              0.1111111111111111,
              "#46039f"
             ],
             [
              0.2222222222222222,
              "#7201a8"
             ],
             [
              0.3333333333333333,
              "#9c179e"
             ],
             [
              0.4444444444444444,
              "#bd3786"
             ],
             [
              0.5555555555555556,
              "#d8576b"
             ],
             [
              0.6666666666666666,
              "#ed7953"
             ],
             [
              0.7777777777777778,
              "#fb9f3a"
             ],
             [
              0.8888888888888888,
              "#fdca26"
             ],
             [
              1,
              "#f0f921"
             ]
            ],
            "type": "histogram2d"
           }
          ],
          "histogram2dcontour": [
           {
            "colorbar": {
             "outlinewidth": 0,
             "ticks": ""
            },
            "colorscale": [
             [
              0,
              "#0d0887"
             ],
             [
              0.1111111111111111,
              "#46039f"
             ],
             [
              0.2222222222222222,
              "#7201a8"
             ],
             [
              0.3333333333333333,
              "#9c179e"
             ],
             [
              0.4444444444444444,
              "#bd3786"
             ],
             [
              0.5555555555555556,
              "#d8576b"
             ],
             [
              0.6666666666666666,
              "#ed7953"
             ],
             [
              0.7777777777777778,
              "#fb9f3a"
             ],
             [
              0.8888888888888888,
              "#fdca26"
             ],
             [
              1,
              "#f0f921"
             ]
            ],
            "type": "histogram2dcontour"
           }
          ],
          "mesh3d": [
           {
            "colorbar": {
             "outlinewidth": 0,
             "ticks": ""
            },
            "type": "mesh3d"
           }
          ],
          "parcoords": [
           {
            "line": {
             "colorbar": {
              "outlinewidth": 0,
              "ticks": ""
             }
            },
            "type": "parcoords"
           }
          ],
          "pie": [
           {
            "automargin": true,
            "type": "pie"
           }
          ],
          "scatter": [
           {
            "fillpattern": {
             "fillmode": "overlay",
             "size": 10,
             "solidity": 0.2
            },
            "type": "scatter"
           }
          ],
          "scatter3d": [
           {
            "line": {
             "colorbar": {
              "outlinewidth": 0,
              "ticks": ""
             }
            },
            "marker": {
             "colorbar": {
              "outlinewidth": 0,
              "ticks": ""
             }
            },
            "type": "scatter3d"
           }
          ],
          "scattercarpet": [
           {
            "marker": {
             "colorbar": {
              "outlinewidth": 0,
              "ticks": ""
             }
            },
            "type": "scattercarpet"
           }
          ],
          "scattergeo": [
           {
            "marker": {
             "colorbar": {
              "outlinewidth": 0,
              "ticks": ""
             }
            },
            "type": "scattergeo"
           }
          ],
          "scattergl": [
           {
            "marker": {
             "colorbar": {
              "outlinewidth": 0,
              "ticks": ""
             }
            },
            "type": "scattergl"
           }
          ],
          "scattermapbox": [
           {
            "marker": {
             "colorbar": {
              "outlinewidth": 0,
              "ticks": ""
             }
            },
            "type": "scattermapbox"
           }
          ],
          "scatterpolar": [
           {
            "marker": {
             "colorbar": {
              "outlinewidth": 0,
              "ticks": ""
             }
            },
            "type": "scatterpolar"
           }
          ],
          "scatterpolargl": [
           {
            "marker": {
             "colorbar": {
              "outlinewidth": 0,
              "ticks": ""
             }
            },
            "type": "scatterpolargl"
           }
          ],
          "scatterternary": [
           {
            "marker": {
             "colorbar": {
              "outlinewidth": 0,
              "ticks": ""
             }
            },
            "type": "scatterternary"
           }
          ],
          "surface": [
           {
            "colorbar": {
             "outlinewidth": 0,
             "ticks": ""
            },
            "colorscale": [
             [
              0,
              "#0d0887"
             ],
             [
              0.1111111111111111,
              "#46039f"
             ],
             [
              0.2222222222222222,
              "#7201a8"
             ],
             [
              0.3333333333333333,
              "#9c179e"
             ],
             [
              0.4444444444444444,
              "#bd3786"
             ],
             [
              0.5555555555555556,
              "#d8576b"
             ],
             [
              0.6666666666666666,
              "#ed7953"
             ],
             [
              0.7777777777777778,
              "#fb9f3a"
             ],
             [
              0.8888888888888888,
              "#fdca26"
             ],
             [
              1,
              "#f0f921"
             ]
            ],
            "type": "surface"
           }
          ],
          "table": [
           {
            "cells": {
             "fill": {
              "color": "#EBF0F8"
             },
             "line": {
              "color": "white"
             }
            },
            "header": {
             "fill": {
              "color": "#C8D4E3"
             },
             "line": {
              "color": "white"
             }
            },
            "type": "table"
           }
          ]
         },
         "layout": {
          "annotationdefaults": {
           "arrowcolor": "#2a3f5f",
           "arrowhead": 0,
           "arrowwidth": 1
          },
          "autotypenumbers": "strict",
          "coloraxis": {
           "colorbar": {
            "outlinewidth": 0,
            "ticks": ""
           }
          },
          "colorscale": {
           "diverging": [
            [
             0,
             "#8e0152"
            ],
            [
             0.1,
             "#c51b7d"
            ],
            [
             0.2,
             "#de77ae"
            ],
            [
             0.3,
             "#f1b6da"
            ],
            [
             0.4,
             "#fde0ef"
            ],
            [
             0.5,
             "#f7f7f7"
            ],
            [
             0.6,
             "#e6f5d0"
            ],
            [
             0.7,
             "#b8e186"
            ],
            [
             0.8,
             "#7fbc41"
            ],
            [
             0.9,
             "#4d9221"
            ],
            [
             1,
             "#276419"
            ]
           ],
           "sequential": [
            [
             0,
             "#0d0887"
            ],
            [
             0.1111111111111111,
             "#46039f"
            ],
            [
             0.2222222222222222,
             "#7201a8"
            ],
            [
             0.3333333333333333,
             "#9c179e"
            ],
            [
             0.4444444444444444,
             "#bd3786"
            ],
            [
             0.5555555555555556,
             "#d8576b"
            ],
            [
             0.6666666666666666,
             "#ed7953"
            ],
            [
             0.7777777777777778,
             "#fb9f3a"
            ],
            [
             0.8888888888888888,
             "#fdca26"
            ],
            [
             1,
             "#f0f921"
            ]
           ],
           "sequentialminus": [
            [
             0,
             "#0d0887"
            ],
            [
             0.1111111111111111,
             "#46039f"
            ],
            [
             0.2222222222222222,
             "#7201a8"
            ],
            [
             0.3333333333333333,
             "#9c179e"
            ],
            [
             0.4444444444444444,
             "#bd3786"
            ],
            [
             0.5555555555555556,
             "#d8576b"
            ],
            [
             0.6666666666666666,
             "#ed7953"
            ],
            [
             0.7777777777777778,
             "#fb9f3a"
            ],
            [
             0.8888888888888888,
             "#fdca26"
            ],
            [
             1,
             "#f0f921"
            ]
           ]
          },
          "colorway": [
           "#636efa",
           "#EF553B",
           "#00cc96",
           "#ab63fa",
           "#FFA15A",
           "#19d3f3",
           "#FF6692",
           "#B6E880",
           "#FF97FF",
           "#FECB52"
          ],
          "font": {
           "color": "#2a3f5f"
          },
          "geo": {
           "bgcolor": "white",
           "lakecolor": "white",
           "landcolor": "#E5ECF6",
           "showlakes": true,
           "showland": true,
           "subunitcolor": "white"
          },
          "hoverlabel": {
           "align": "left"
          },
          "hovermode": "closest",
          "mapbox": {
           "style": "light"
          },
          "paper_bgcolor": "white",
          "plot_bgcolor": "#E5ECF6",
          "polar": {
           "angularaxis": {
            "gridcolor": "white",
            "linecolor": "white",
            "ticks": ""
           },
           "bgcolor": "#E5ECF6",
           "radialaxis": {
            "gridcolor": "white",
            "linecolor": "white",
            "ticks": ""
           }
          },
          "scene": {
           "xaxis": {
            "backgroundcolor": "#E5ECF6",
            "gridcolor": "white",
            "gridwidth": 2,
            "linecolor": "white",
            "showbackground": true,
            "ticks": "",
            "zerolinecolor": "white"
           },
           "yaxis": {
            "backgroundcolor": "#E5ECF6",
            "gridcolor": "white",
            "gridwidth": 2,
            "linecolor": "white",
            "showbackground": true,
            "ticks": "",
            "zerolinecolor": "white"
           },
           "zaxis": {
            "backgroundcolor": "#E5ECF6",
            "gridcolor": "white",
            "gridwidth": 2,
            "linecolor": "white",
            "showbackground": true,
            "ticks": "",
            "zerolinecolor": "white"
           }
          },
          "shapedefaults": {
           "line": {
            "color": "#2a3f5f"
           }
          },
          "ternary": {
           "aaxis": {
            "gridcolor": "white",
            "linecolor": "white",
            "ticks": ""
           },
           "baxis": {
            "gridcolor": "white",
            "linecolor": "white",
            "ticks": ""
           },
           "bgcolor": "#E5ECF6",
           "caxis": {
            "gridcolor": "white",
            "linecolor": "white",
            "ticks": ""
           }
          },
          "title": {
           "x": 0.05
          },
          "xaxis": {
           "automargin": true,
           "gridcolor": "white",
           "linecolor": "white",
           "ticks": "",
           "title": {
            "standoff": 15
           },
           "zerolinecolor": "white",
           "zerolinewidth": 2
          },
          "yaxis": {
           "automargin": true,
           "gridcolor": "white",
           "linecolor": "white",
           "ticks": "",
           "title": {
            "standoff": 15
           },
           "zerolinecolor": "white",
           "zerolinewidth": 2
          }
         }
        },
        "xaxis": {
         "anchor": "y",
         "constrain": "domain",
         "domain": [
          0,
          1
         ],
         "scaleanchor": "y"
        },
        "yaxis": {
         "anchor": "x",
         "autorange": "reversed",
         "constrain": "domain",
         "domain": [
          0,
          1
         ]
        }
       }
      },
      "text/html": [
       "<div>                            <div id=\"07bff22e-66aa-4336-9d2e-be7acefdedf8\" class=\"plotly-graph-div\" style=\"height:525px; width:100%;\"></div>            <script type=\"text/javascript\">                require([\"plotly\"], function(Plotly) {                    window.PLOTLYENV=window.PLOTLYENV || {};                                    if (document.getElementById(\"07bff22e-66aa-4336-9d2e-be7acefdedf8\")) {                    Plotly.newPlot(                        \"07bff22e-66aa-4336-9d2e-be7acefdedf8\",                        [{\"coloraxis\":\"coloraxis\",\"name\":\"0\",\"x\":[\"0_\\u003cs\\u003e\",\"1_\\u003c|user|\\u003e\",\"2_Follow\",\"3_the\",\"4_pattern\",\"5_:\",\"6_\\n\",\"7_more\",\"8_-\\u003e\",\"9_less\",\"10_\\n\",\"11_new\",\"12_-\\u003e\",\"13_old\",\"14_\\n\",\"15_accept\",\"16_-\\u003e\",\"17_reject\",\"18_\\n\",\"19_def\",\"20_end\",\"21_-\\u003e\",\"22_attack\",\"23_\\n\",\"24_odd\",\"25_-\\u003e\",\"26_even\",\"27_\\n\",\"28_dark\",\"29_-\\u003e\",\"30_light\",\"31_\\n\",\"32_inner\",\"33_-\\u003e\",\"34_outer\",\"35_\\n\",\"36_build\",\"37_-\\u003e\",\"38_destroy\",\"39_\\n\",\"40_den\",\"41_y\",\"42_-\\u003e\",\"43_admit\",\"44_\\n\",\"45_first\",\"46_-\\u003e\",\"47_last\",\"48_\\n\",\"49_ru\",\"50_de\",\"51_-\\u003e\",\"52_pol\",\"53_ite\",\"54_\\n\",\"55_ser\",\"56_ious\",\"57_-\\u003e\",\"58_fun\",\"59_ny\",\"60_\\n\",\"61_f\",\"62_ake\",\"63_-\\u003e\",\"64_real\",\"65_\\n\",\"66_private\",\"67_-\\u003e\",\"68_public\",\"69_\\n\",\"70_male\",\"71_-\\u003e\",\"72_female\",\"73_\\n\",\"74_ear\",\"75_ly\",\"76_-\\u003e\",\"77_late\",\"78_\\n\",\"79_above\",\"80_-\\u003e\",\"81_below\",\"82_\\n\",\"83_best\",\"84_-\\u003e\",\"85_worst\",\"86_\\n\",\"87_w\",\"88_et\",\"89_-\\u003e\",\"90_dry\",\"91_\\n\",\"92_g\",\"93_ive\",\"94_-\\u003e\",\"95_receive\",\"96_\\n\",\"97_bit\",\"98_ter\",\"99_-\\u003e\"],\"z\":[[0.1474609375,0.1865234375,0.047607421875,0.05908203125,0.0703125,0.039306640625,0.044677734375,0.045166015625,0.064453125,0.03564453125,0.025146484375,0.01519775390625,0.0189208984375,0.01324462890625,0.01300048828125,0.01300048828125,0.01171875,0.01495361328125,0.031982421875,0.017578125,0.01348876953125,0.0078125,0.01141357421875,0.0115966796875,0.01318359375,0.00677490234375,0.00982666015625,0.007781982421875,0.009521484375,0.005828857421875,0.007659912109375,0.007049560546875,0.0098876953125,0.00555419921875,0.005767822265625,0.00933837890625,0.007232666015625,0.005828857421875,0.00799560546875,0.007598876953125,0.0064697265625,0.00909423828125,0.00390625,0.007049560546875,0.005615234375,0.005340576171875,0.005157470703125,0.00592041015625,0.005950927734375,0.00628662109375,0.00927734375,0.0050048828125,0.003509521484375,0.00634765625,0.00665283203125,0.0037689208984375,0.006988525390625,0.0040283203125,0.0037994384765625,0.0045166015625,0.00445556640625,0.0025177001953125,0.006805419921875,0.004302978515625,0.004608154296875,0.005889892578125,0.00848388671875,0.004241943359375,0.004364013671875,0.005035400390625,0.007110595703125,0.003326416015625,0.004852294921875,0.00653076171875,0.0036468505859375,0.005462646484375,0.0033416748046875,0.003692626953125,0.00543212890625,0.007568359375,0.0032196044921875,0.004547119140625,0.0047607421875,0.00457763671875,0.0033416748046875,0.00494384765625,0.00445556640625,0.00238037109375,0.005706787109375,0.00384521484375,0.005462646484375,0.003814697265625,0.0021820068359375,0.0052490234375,0.00347900390625,0.00537109375,0.0033721923828125,0.004547119140625,0.0074462890625,0.0032958984375]],\"type\":\"heatmap\",\"xaxis\":\"x\",\"yaxis\":\"y\",\"hovertemplate\":\"x: %{x}\\u003cbr\\u003ey: %{y}\\u003cbr\\u003ecolor: %{z}\\u003cextra\\u003e\\u003c\\u002fextra\\u003e\"}],                        {\"template\":{\"data\":{\"histogram2dcontour\":[{\"type\":\"histogram2dcontour\",\"colorbar\":{\"outlinewidth\":0,\"ticks\":\"\"},\"colorscale\":[[0.0,\"#0d0887\"],[0.1111111111111111,\"#46039f\"],[0.2222222222222222,\"#7201a8\"],[0.3333333333333333,\"#9c179e\"],[0.4444444444444444,\"#bd3786\"],[0.5555555555555556,\"#d8576b\"],[0.6666666666666666,\"#ed7953\"],[0.7777777777777778,\"#fb9f3a\"],[0.8888888888888888,\"#fdca26\"],[1.0,\"#f0f921\"]]}],\"choropleth\":[{\"type\":\"choropleth\",\"colorbar\":{\"outlinewidth\":0,\"ticks\":\"\"}}],\"histogram2d\":[{\"type\":\"histogram2d\",\"colorbar\":{\"outlinewidth\":0,\"ticks\":\"\"},\"colorscale\":[[0.0,\"#0d0887\"],[0.1111111111111111,\"#46039f\"],[0.2222222222222222,\"#7201a8\"],[0.3333333333333333,\"#9c179e\"],[0.4444444444444444,\"#bd3786\"],[0.5555555555555556,\"#d8576b\"],[0.6666666666666666,\"#ed7953\"],[0.7777777777777778,\"#fb9f3a\"],[0.8888888888888888,\"#fdca26\"],[1.0,\"#f0f921\"]]}],\"heatmap\":[{\"type\":\"heatmap\",\"colorbar\":{\"outlinewidth\":0,\"ticks\":\"\"},\"colorscale\":[[0.0,\"#0d0887\"],[0.1111111111111111,\"#46039f\"],[0.2222222222222222,\"#7201a8\"],[0.3333333333333333,\"#9c179e\"],[0.4444444444444444,\"#bd3786\"],[0.5555555555555556,\"#d8576b\"],[0.6666666666666666,\"#ed7953\"],[0.7777777777777778,\"#fb9f3a\"],[0.8888888888888888,\"#fdca26\"],[1.0,\"#f0f921\"]]}],\"heatmapgl\":[{\"type\":\"heatmapgl\",\"colorbar\":{\"outlinewidth\":0,\"ticks\":\"\"},\"colorscale\":[[0.0,\"#0d0887\"],[0.1111111111111111,\"#46039f\"],[0.2222222222222222,\"#7201a8\"],[0.3333333333333333,\"#9c179e\"],[0.4444444444444444,\"#bd3786\"],[0.5555555555555556,\"#d8576b\"],[0.6666666666666666,\"#ed7953\"],[0.7777777777777778,\"#fb9f3a\"],[0.8888888888888888,\"#fdca26\"],[1.0,\"#f0f921\"]]}],\"contourcarpet\":[{\"type\":\"contourcarpet\",\"colorbar\":{\"outlinewidth\":0,\"ticks\":\"\"}}],\"contour\":[{\"type\":\"contour\",\"colorbar\":{\"outlinewidth\":0,\"ticks\":\"\"},\"colorscale\":[[0.0,\"#0d0887\"],[0.1111111111111111,\"#46039f\"],[0.2222222222222222,\"#7201a8\"],[0.3333333333333333,\"#9c179e\"],[0.4444444444444444,\"#bd3786\"],[0.5555555555555556,\"#d8576b\"],[0.6666666666666666,\"#ed7953\"],[0.7777777777777778,\"#fb9f3a\"],[0.8888888888888888,\"#fdca26\"],[1.0,\"#f0f921\"]]}],\"surface\":[{\"type\":\"surface\",\"colorbar\":{\"outlinewidth\":0,\"ticks\":\"\"},\"colorscale\":[[0.0,\"#0d0887\"],[0.1111111111111111,\"#46039f\"],[0.2222222222222222,\"#7201a8\"],[0.3333333333333333,\"#9c179e\"],[0.4444444444444444,\"#bd3786\"],[0.5555555555555556,\"#d8576b\"],[0.6666666666666666,\"#ed7953\"],[0.7777777777777778,\"#fb9f3a\"],[0.8888888888888888,\"#fdca26\"],[1.0,\"#f0f921\"]]}],\"mesh3d\":[{\"type\":\"mesh3d\",\"colorbar\":{\"outlinewidth\":0,\"ticks\":\"\"}}],\"scatter\":[{\"fillpattern\":{\"fillmode\":\"overlay\",\"size\":10,\"solidity\":0.2},\"type\":\"scatter\"}],\"parcoords\":[{\"type\":\"parcoords\",\"line\":{\"colorbar\":{\"outlinewidth\":0,\"ticks\":\"\"}}}],\"scatterpolargl\":[{\"type\":\"scatterpolargl\",\"marker\":{\"colorbar\":{\"outlinewidth\":0,\"ticks\":\"\"}}}],\"bar\":[{\"error_x\":{\"color\":\"#2a3f5f\"},\"error_y\":{\"color\":\"#2a3f5f\"},\"marker\":{\"line\":{\"color\":\"#E5ECF6\",\"width\":0.5},\"pattern\":{\"fillmode\":\"overlay\",\"size\":10,\"solidity\":0.2}},\"type\":\"bar\"}],\"scattergeo\":[{\"type\":\"scattergeo\",\"marker\":{\"colorbar\":{\"outlinewidth\":0,\"ticks\":\"\"}}}],\"scatterpolar\":[{\"type\":\"scatterpolar\",\"marker\":{\"colorbar\":{\"outlinewidth\":0,\"ticks\":\"\"}}}],\"histogram\":[{\"marker\":{\"pattern\":{\"fillmode\":\"overlay\",\"size\":10,\"solidity\":0.2}},\"type\":\"histogram\"}],\"scattergl\":[{\"type\":\"scattergl\",\"marker\":{\"colorbar\":{\"outlinewidth\":0,\"ticks\":\"\"}}}],\"scatter3d\":[{\"type\":\"scatter3d\",\"line\":{\"colorbar\":{\"outlinewidth\":0,\"ticks\":\"\"}},\"marker\":{\"colorbar\":{\"outlinewidth\":0,\"ticks\":\"\"}}}],\"scattermapbox\":[{\"type\":\"scattermapbox\",\"marker\":{\"colorbar\":{\"outlinewidth\":0,\"ticks\":\"\"}}}],\"scatterternary\":[{\"type\":\"scatterternary\",\"marker\":{\"colorbar\":{\"outlinewidth\":0,\"ticks\":\"\"}}}],\"scattercarpet\":[{\"type\":\"scattercarpet\",\"marker\":{\"colorbar\":{\"outlinewidth\":0,\"ticks\":\"\"}}}],\"carpet\":[{\"aaxis\":{\"endlinecolor\":\"#2a3f5f\",\"gridcolor\":\"white\",\"linecolor\":\"white\",\"minorgridcolor\":\"white\",\"startlinecolor\":\"#2a3f5f\"},\"baxis\":{\"endlinecolor\":\"#2a3f5f\",\"gridcolor\":\"white\",\"linecolor\":\"white\",\"minorgridcolor\":\"white\",\"startlinecolor\":\"#2a3f5f\"},\"type\":\"carpet\"}],\"table\":[{\"cells\":{\"fill\":{\"color\":\"#EBF0F8\"},\"line\":{\"color\":\"white\"}},\"header\":{\"fill\":{\"color\":\"#C8D4E3\"},\"line\":{\"color\":\"white\"}},\"type\":\"table\"}],\"barpolar\":[{\"marker\":{\"line\":{\"color\":\"#E5ECF6\",\"width\":0.5},\"pattern\":{\"fillmode\":\"overlay\",\"size\":10,\"solidity\":0.2}},\"type\":\"barpolar\"}],\"pie\":[{\"automargin\":true,\"type\":\"pie\"}]},\"layout\":{\"autotypenumbers\":\"strict\",\"colorway\":[\"#636efa\",\"#EF553B\",\"#00cc96\",\"#ab63fa\",\"#FFA15A\",\"#19d3f3\",\"#FF6692\",\"#B6E880\",\"#FF97FF\",\"#FECB52\"],\"font\":{\"color\":\"#2a3f5f\"},\"hovermode\":\"closest\",\"hoverlabel\":{\"align\":\"left\"},\"paper_bgcolor\":\"white\",\"plot_bgcolor\":\"#E5ECF6\",\"polar\":{\"bgcolor\":\"#E5ECF6\",\"angularaxis\":{\"gridcolor\":\"white\",\"linecolor\":\"white\",\"ticks\":\"\"},\"radialaxis\":{\"gridcolor\":\"white\",\"linecolor\":\"white\",\"ticks\":\"\"}},\"ternary\":{\"bgcolor\":\"#E5ECF6\",\"aaxis\":{\"gridcolor\":\"white\",\"linecolor\":\"white\",\"ticks\":\"\"},\"baxis\":{\"gridcolor\":\"white\",\"linecolor\":\"white\",\"ticks\":\"\"},\"caxis\":{\"gridcolor\":\"white\",\"linecolor\":\"white\",\"ticks\":\"\"}},\"coloraxis\":{\"colorbar\":{\"outlinewidth\":0,\"ticks\":\"\"}},\"colorscale\":{\"sequential\":[[0.0,\"#0d0887\"],[0.1111111111111111,\"#46039f\"],[0.2222222222222222,\"#7201a8\"],[0.3333333333333333,\"#9c179e\"],[0.4444444444444444,\"#bd3786\"],[0.5555555555555556,\"#d8576b\"],[0.6666666666666666,\"#ed7953\"],[0.7777777777777778,\"#fb9f3a\"],[0.8888888888888888,\"#fdca26\"],[1.0,\"#f0f921\"]],\"sequentialminus\":[[0.0,\"#0d0887\"],[0.1111111111111111,\"#46039f\"],[0.2222222222222222,\"#7201a8\"],[0.3333333333333333,\"#9c179e\"],[0.4444444444444444,\"#bd3786\"],[0.5555555555555556,\"#d8576b\"],[0.6666666666666666,\"#ed7953\"],[0.7777777777777778,\"#fb9f3a\"],[0.8888888888888888,\"#fdca26\"],[1.0,\"#f0f921\"]],\"diverging\":[[0,\"#8e0152\"],[0.1,\"#c51b7d\"],[0.2,\"#de77ae\"],[0.3,\"#f1b6da\"],[0.4,\"#fde0ef\"],[0.5,\"#f7f7f7\"],[0.6,\"#e6f5d0\"],[0.7,\"#b8e186\"],[0.8,\"#7fbc41\"],[0.9,\"#4d9221\"],[1,\"#276419\"]]},\"xaxis\":{\"gridcolor\":\"white\",\"linecolor\":\"white\",\"ticks\":\"\",\"title\":{\"standoff\":15},\"zerolinecolor\":\"white\",\"automargin\":true,\"zerolinewidth\":2},\"yaxis\":{\"gridcolor\":\"white\",\"linecolor\":\"white\",\"ticks\":\"\",\"title\":{\"standoff\":15},\"zerolinecolor\":\"white\",\"automargin\":true,\"zerolinewidth\":2},\"scene\":{\"xaxis\":{\"backgroundcolor\":\"#E5ECF6\",\"gridcolor\":\"white\",\"linecolor\":\"white\",\"showbackground\":true,\"ticks\":\"\",\"zerolinecolor\":\"white\",\"gridwidth\":2},\"yaxis\":{\"backgroundcolor\":\"#E5ECF6\",\"gridcolor\":\"white\",\"linecolor\":\"white\",\"showbackground\":true,\"ticks\":\"\",\"zerolinecolor\":\"white\",\"gridwidth\":2},\"zaxis\":{\"backgroundcolor\":\"#E5ECF6\",\"gridcolor\":\"white\",\"linecolor\":\"white\",\"showbackground\":true,\"ticks\":\"\",\"zerolinecolor\":\"white\",\"gridwidth\":2}},\"shapedefaults\":{\"line\":{\"color\":\"#2a3f5f\"}},\"annotationdefaults\":{\"arrowcolor\":\"#2a3f5f\",\"arrowhead\":0,\"arrowwidth\":1},\"geo\":{\"bgcolor\":\"white\",\"landcolor\":\"#E5ECF6\",\"subunitcolor\":\"white\",\"showland\":true,\"showlakes\":true,\"lakecolor\":\"white\"},\"title\":{\"x\":0.05},\"mapbox\":{\"style\":\"light\"}}},\"xaxis\":{\"anchor\":\"y\",\"domain\":[0.0,1.0],\"scaleanchor\":\"y\",\"constrain\":\"domain\"},\"yaxis\":{\"anchor\":\"x\",\"domain\":[0.0,1.0],\"autorange\":\"reversed\",\"constrain\":\"domain\"},\"coloraxis\":{\"colorscale\":[[0.0,\"#0d0887\"],[0.1111111111111111,\"#46039f\"],[0.2222222222222222,\"#7201a8\"],[0.3333333333333333,\"#9c179e\"],[0.4444444444444444,\"#bd3786\"],[0.5555555555555556,\"#d8576b\"],[0.6666666666666666,\"#ed7953\"],[0.7777777777777778,\"#fb9f3a\"],[0.8888888888888888,\"#fdca26\"],[1.0,\"#f0f921\"]]},\"margin\":{\"t\":60}},                        {\"responsive\": true}                    ).then(function(){\n",
       "                            \n",
       "var gd = document.getElementById('07bff22e-66aa-4336-9d2e-be7acefdedf8');\n",
       "var x = new MutationObserver(function (mutations, observer) {{\n",
       "        var display = window.getComputedStyle(gd).display;\n",
       "        if (!display || display === 'none') {{\n",
       "            console.log([gd, 'removed!']);\n",
       "            Plotly.purge(gd);\n",
       "            observer.disconnect();\n",
       "        }}\n",
       "}});\n",
       "\n",
       "// Listen for the removal of the full notebook cells\n",
       "var notebookContainer = gd.closest('#notebook-container');\n",
       "if (notebookContainer) {{\n",
       "    x.observe(notebookContainer, {childList: true});\n",
       "}}\n",
       "\n",
       "// Listen for the clearing of the current output cell\n",
       "var outputEl = gd.closest('.output');\n",
       "if (outputEl) {{\n",
       "    x.observe(outputEl, {childList: true});\n",
       "}}\n",
       "\n",
       "                        })                };                });            </script>        </div>"
      ]
     },
     "metadata": {},
     "output_type": "display_data"
    }
   ],
   "source": [
    "i = 0\n",
    "\n",
    "px.imshow(norm[i:i+1, :100], x= [f\"{j}_{tokenizer.decode(x)}\" for j,x in enumerate(train_tokens[i, :100])])"
   ]
  },
  {
   "cell_type": "code",
   "execution_count": 43,
   "metadata": {},
   "outputs": [
    {
     "data": {
      "text/html": [
       "<div id=\"output_32dbad0cd3de49b4839ccb722e6606ab\"><script> /* penzai.treescope rendering of a Python object (compressed) */ (()=>{ let observer; let lastStep = new Promise((resolve, reject) => { observer = new IntersectionObserver((entries) => { for (const entry of entries) { if (entry.isIntersecting) { resolve(); observer.disconnect(); return; } } }, {rootMargin: \"1000px\"}); }); window.treescope_decompress_enqueue = (encoded, destId) => { const previous = lastStep; const destElt = document.getElementById(destId); lastStep = (async () => { await previous; let blob = new Blob([ Uint8Array.from(atob(encoded), (m) => m.codePointAt(0)) ]); let reader = blob.stream().pipeThrough( new DecompressionStream(\"deflate\") ).pipeThrough( new TextDecoderStream(\"utf-8\") ).getReader(); let parts = []; while (true) { let step = await reader.read(); if (step.done) { break; } parts.push(step.value); } let newElt = document.createElement(\"div\"); newElt.innerHTML = parts.join(\"\"); destElt.parentNode.replaceChild(newElt, destElt); for (let oldScript of newElt.querySelectorAll(\"script\")) { let newScript = document.createElement(\"script\"); newScript.type = oldScript.type; newScript.textContent = oldScript.textContent; oldScript.parentNode.replaceChild(newScript, oldScript); } })(); requestAnimationFrame(() => { observer.observe(destElt); }); } })(); </script><div id=\"compress_html_351ed8770f034088940d676892f5eaa1\"><script>window.treescope_decompress_enqueue(\"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\", \"compress_html_351ed8770f034088940d676892f5eaa1\");</script><span style=\"color: #aaaaaa; font-family: monospace\">(Loading...)</span></div></div>"
      ],
      "text/plain": [
       "<IPython.core.display.HTML object>"
      ]
     },
     "metadata": {},
     "output_type": "display_data"
    },
    {
     "data": {
      "text/html": [
       "<div id=\"output_dest_32dbad0cd3de49b4839ccb722e6606ab\"><script> (()=>{ const output = document.getElementById(\"output_32dbad0cd3de49b4839ccb722e6606ab\"); const dest = document.getElementById(\"output_dest_32dbad0cd3de49b4839ccb722e6606ab\"); dest.parentNode.replaceChild(output, dest); })(); </script></div>"
      ],
      "text/plain": [
       "['<s>',\n",
       " '<|user|>',\n",
       " 'Follow',\n",
       " 'the',\n",
       " 'pattern',\n",
       " ':',\n",
       " '\\n',\n",
       " 'more',\n",
       " '->',\n",
       " 'less',\n",
       " '\\n',\n",
       " 'new',\n",
       " '->',\n",
       " 'old',\n",
       " '\\n',\n",
       " 'accept',\n",
       " '->',\n",
       " 'reject',\n",
       " '\\n',\n",
       " 'def',\n",
       " 'end',\n",
       " '->',\n",
       " 'attack',\n",
       " '\\n',\n",
       " 'odd',\n",
       " '->',\n",
       " 'even',\n",
       " '\\n',\n",
       " 'dark',\n",
       " '->',\n",
       " 'light',\n",
       " '\\n',\n",
       " 'inner',\n",
       " '->',\n",
       " 'outer',\n",
       " '\\n',\n",
       " 'build',\n",
       " '->',\n",
       " 'destroy',\n",
       " '\\n',\n",
       " 'den',\n",
       " 'y',\n",
       " '->',\n",
       " 'admit',\n",
       " '\\n',\n",
       " 'first',\n",
       " '->',\n",
       " 'last',\n",
       " '\\n',\n",
       " 'ru',\n",
       " 'de',\n",
       " '->',\n",
       " 'pol',\n",
       " 'ite',\n",
       " '\\n',\n",
       " 'ser',\n",
       " 'ious',\n",
       " '->',\n",
       " 'fun',\n",
       " 'ny',\n",
       " '\\n',\n",
       " 'f',\n",
       " 'ake',\n",
       " '->',\n",
       " 'real',\n",
       " '\\n',\n",
       " 'private',\n",
       " '->',\n",
       " 'public',\n",
       " '\\n',\n",
       " 'male',\n",
       " '->',\n",
       " 'female',\n",
       " '\\n',\n",
       " 'ear',\n",
       " 'ly',\n",
       " '->',\n",
       " 'late',\n",
       " '\\n',\n",
       " 'above',\n",
       " '->',\n",
       " 'below',\n",
       " '\\n',\n",
       " 'best',\n",
       " '->',\n",
       " 'worst',\n",
       " '\\n',\n",
       " 'w',\n",
       " 'et',\n",
       " '->',\n",
       " 'dry',\n",
       " '\\n',\n",
       " 'g',\n",
       " 'ive',\n",
       " '->',\n",
       " 'receive',\n",
       " '\\n',\n",
       " 'bit',\n",
       " 'ter',\n",
       " '->']"
      ]
     },
     "execution_count": 43,
     "metadata": {},
     "output_type": "execute_result"
    }
   ],
   "source": [
    "[tokenizer.decode(x) for x in train_tokens[i, :100]]"
   ]
  },
  {
   "cell_type": "code",
   "execution_count": 39,
   "metadata": {},
   "outputs": [],
   "source": [
    "gw, i = jax.lax.top_k(grad, 10)"
   ]
  },
  {
   "cell_type": "code",
   "execution_count": 42,
   "metadata": {},
   "outputs": [
    {
     "data": {
      "text/html": [
       "<div id=\"output_23c3e80ddd784290ad09ed9ddf7e040f\"><script> /* penzai.treescope rendering of a Python object (compressed) */ (()=>{ let observer; let lastStep = new Promise((resolve, reject) => { observer = new IntersectionObserver((entries) => { for (const entry of entries) { if (entry.isIntersecting) { resolve(); observer.disconnect(); return; } } }, {rootMargin: \"1000px\"}); }); window.treescope_decompress_enqueue = (encoded, destId) => { const previous = lastStep; const destElt = document.getElementById(destId); lastStep = (async () => { await previous; let blob = new Blob([ Uint8Array.from(atob(encoded), (m) => m.codePointAt(0)) ]); let reader = blob.stream().pipeThrough( new DecompressionStream(\"deflate\") ).pipeThrough( new TextDecoderStream(\"utf-8\") ).getReader(); let parts = []; while (true) { let step = await reader.read(); if (step.done) { break; } parts.push(step.value); } let newElt = document.createElement(\"div\"); newElt.innerHTML = parts.join(\"\"); destElt.parentNode.replaceChild(newElt, destElt); for (let oldScript of newElt.querySelectorAll(\"script\")) { let newScript = document.createElement(\"script\"); newScript.type = oldScript.type; newScript.textContent = oldScript.textContent; oldScript.parentNode.replaceChild(newScript, oldScript); } })(); requestAnimationFrame(() => { observer.observe(destElt); }); } })(); </script><div id=\"compress_html_68084d6f0cfe4f308683b48583df7183\"><script>window.treescope_decompress_enqueue(\"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\", \"compress_html_68084d6f0cfe4f308683b48583df7183\");</script><span style=\"color: #aaaaaa; font-family: monospace\">(Loading...)</span></div></div>"
      ],
      "text/plain": [
       "<IPython.core.display.HTML object>"
      ]
     },
     "metadata": {},
     "output_type": "display_data"
    },
    {
     "data": {
      "text/html": [
       "<div id=\"output_dest_23c3e80ddd784290ad09ed9ddf7e040f\"><script> (()=>{ const output = document.getElementById(\"output_23c3e80ddd784290ad09ed9ddf7e040f\"); const dest = document.getElementById(\"output_dest_23c3e80ddd784290ad09ed9ddf7e040f\"); dest.parentNode.replaceChild(output, dest); })(); </script></div>"
      ],
      "text/plain": [
       "[45844, 35966, 24958, 30498, 36610, 40693, 409, 3, 4, 5]"
      ]
     },
     "execution_count": 42,
     "metadata": {},
     "output_type": "execute_result"
    }
   ],
   "source": [
    "i.tolist()"
   ]
  },
  {
   "cell_type": "code",
   "execution_count": 25,
   "metadata": {},
   "outputs": [
    {
     "data": {
      "application/vnd.jupyter.widget-view+json": {
       "model_id": "985341ca454e4008b0f6005471b0e22f",
       "version_major": 2,
       "version_minor": 0
      },
      "text/plain": [
       "antonyms_16_recon_wlito_v4.npz:   0%|          | 0.00/6.41k [00:00<?, ?B/s]"
      ]
     },
     "metadata": {},
     "output_type": "display_data"
    }
   ],
   "source": [
    "save_and_upload_vector(f\"antonyms_16_recon_wlito_v4\", recon)"
   ]
  },
  {
   "cell_type": "code",
   "execution_count": null,
   "metadata": {},
   "outputs": [],
   "source": []
  },
  {
   "cell_type": "code",
   "execution_count": 261,
   "metadata": {},
   "outputs": [],
   "source": [
    "from micrlhf.llama import LlamaBlock\n",
    "from micrlhf.sampling import sample, jit_wrapper\n",
    "first_get_resids = add_act.select().at_instances_of(LlamaBlock).apply_with_selected_index(lambda i, x:\n",
    "    pz.nn.Sequential([\n",
    "        pz.de.TellIntermediate.from_config(tag=f\"resid_pre_{i}\"),\n",
    "        x\n",
    "    ])\n",
    ")\n",
    "first_get_resids = pz.de.CollectingSideOutputs.handling(first_get_resids, tag_predicate=lambda x: x.startswith(\"resid_pre\"))\n",
    "first_get_resids_call = jit_wrapper.Jitted(first_get_resids)"
   ]
  },
  {
   "cell_type": "code",
   "execution_count": 262,
   "metadata": {},
   "outputs": [],
   "source": [
    "_, resids = first_get_resids_call(inputs)"
   ]
  },
  {
   "cell_type": "code",
   "execution_count": 263,
   "metadata": {},
   "outputs": [],
   "source": [
    "check_layer = 18\n",
    "sae = get_sae(check_layer, 4)"
   ]
  },
  {
   "cell_type": "code",
   "execution_count": 264,
   "metadata": {},
   "outputs": [],
   "source": [
    "resids = resids[check_layer].value.unwrap(\n",
    "    \"batch\", \"seq\", \"embedding\"\n",
    ")"
   ]
  },
  {
   "cell_type": "code",
   "execution_count": 265,
   "metadata": {},
   "outputs": [],
   "source": [
    "mask = tokens == 1599\n",
    "\n",
    "tv = resids[mask]"
   ]
  },
  {
   "cell_type": "code",
   "execution_count": 266,
   "metadata": {},
   "outputs": [],
   "source": [
    "tv = tv.mean(axis=0)"
   ]
  },
  {
   "cell_type": "code",
   "execution_count": 267,
   "metadata": {},
   "outputs": [],
   "source": [
    "\n",
    "_, pr, _ = sae_encode_gated(sae, tv)"
   ]
  },
  {
   "cell_type": "code",
   "execution_count": 268,
   "metadata": {},
   "outputs": [],
   "source": [
    "_, i = jax.lax.top_k(pr, 25)"
   ]
  },
  {
   "cell_type": "code",
   "execution_count": 269,
   "metadata": {},
   "outputs": [
    {
     "data": {
      "text/html": [
       "<div id=\"output_de81f73455d544108a2a05494f0a3461\"><script> /* penzai.treescope rendering of a Python object (compressed) */ (()=>{ let observer; let lastStep = new Promise((resolve, reject) => { observer = new IntersectionObserver((entries) => { for (const entry of entries) { if (entry.isIntersecting) { resolve(); observer.disconnect(); return; } } }, {rootMargin: \"1000px\"}); }); window.treescope_decompress_enqueue = (encoded, destId) => { const previous = lastStep; const destElt = document.getElementById(destId); lastStep = (async () => { await previous; let blob = new Blob([ Uint8Array.from(atob(encoded), (m) => m.codePointAt(0)) ]); let reader = blob.stream().pipeThrough( new DecompressionStream(\"deflate\") ).pipeThrough( new TextDecoderStream(\"utf-8\") ).getReader(); let parts = []; while (true) { let step = await reader.read(); if (step.done) { break; } parts.push(step.value); } let newElt = document.createElement(\"div\"); newElt.innerHTML = parts.join(\"\"); destElt.parentNode.replaceChild(newElt, destElt); for (let oldScript of newElt.querySelectorAll(\"script\")) { let newScript = document.createElement(\"script\"); newScript.type = oldScript.type; newScript.textContent = oldScript.textContent; oldScript.parentNode.replaceChild(newScript, oldScript); } })(); requestAnimationFrame(() => { observer.observe(destElt); }); } })(); </script><div id=\"compress_html_027647571aae4844a470fd2570da3b40\"><script>window.treescope_decompress_enqueue(\"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\", \"compress_html_027647571aae4844a470fd2570da3b40\");</script><span style=\"color: #aaaaaa; font-family: monospace\">(Loading...)</span></div></div>"
      ],
      "text/plain": [
       "<IPython.core.display.HTML object>"
      ]
     },
     "metadata": {},
     "output_type": "display_data"
    },
    {
     "data": {
      "text/html": [
       "<div id=\"output_dest_de81f73455d544108a2a05494f0a3461\"><script> (()=>{ const output = document.getElementById(\"output_de81f73455d544108a2a05494f0a3461\"); const dest = document.getElementById(\"output_dest_de81f73455d544108a2a05494f0a3461\"); dest.parentNode.replaceChild(output, dest); })(); </script></div>"
      ],
      "text/plain": [
       "[1065,\n",
       " 33039,\n",
       " 720,\n",
       " 46849,\n",
       " 46421,\n",
       " 24363,\n",
       " 1699,\n",
       " 11831,\n",
       " 33953,\n",
       " 8787,\n",
       " 45228,\n",
       " 34138,\n",
       " 14577,\n",
       " 22038,\n",
       " 43555,\n",
       " 5405,\n",
       " 27626,\n",
       " 44525,\n",
       " 47882,\n",
       " 1055,\n",
       " 33278,\n",
       " 4483,\n",
       " 39233,\n",
       " 11810,\n",
       " 44729]"
      ]
     },
     "execution_count": 269,
     "metadata": {},
     "output_type": "execute_result"
    }
   ],
   "source": [
    "i.tolist()"
   ]
  },
  {
   "cell_type": "code",
   "execution_count": 224,
   "metadata": {},
   "outputs": [
    {
     "data": {
      "text/html": [
       "<div id=\"output_aae6571acd564182ac5b48d0c5cd322f\"><script> /* penzai.treescope rendering of a Python object (compressed) */ (()=>{ let observer; let lastStep = new Promise((resolve, reject) => { observer = new IntersectionObserver((entries) => { for (const entry of entries) { if (entry.isIntersecting) { resolve(); observer.disconnect(); return; } } }, {rootMargin: \"1000px\"}); }); window.treescope_decompress_enqueue = (encoded, destId) => { const previous = lastStep; const destElt = document.getElementById(destId); lastStep = (async () => { await previous; let blob = new Blob([ Uint8Array.from(atob(encoded), (m) => m.codePointAt(0)) ]); let reader = blob.stream().pipeThrough( new DecompressionStream(\"deflate\") ).pipeThrough( new TextDecoderStream(\"utf-8\") ).getReader(); let parts = []; while (true) { let step = await reader.read(); if (step.done) { break; } parts.push(step.value); } let newElt = document.createElement(\"div\"); newElt.innerHTML = parts.join(\"\"); destElt.parentNode.replaceChild(newElt, destElt); for (let oldScript of newElt.querySelectorAll(\"script\")) { let newScript = document.createElement(\"script\"); newScript.type = oldScript.type; newScript.textContent = oldScript.textContent; oldScript.parentNode.replaceChild(newScript, oldScript); } })(); requestAnimationFrame(() => { observer.observe(destElt); }); } })(); </script><div id=\"compress_html_b4a802b5506b460ea474f1e265ab6d53\"><script>window.treescope_decompress_enqueue(\"eNrVWwtT4koW/is9uVUrXAdMwhsftQF5OaOO4oyOd29RIek8hpCOnQ6It/zve7oD8hBlsjt7F7RKoNOnz+nznXfhUcgmHj7JMopxaJAA9yghDP2FAhK6zCV+FVHs6cwd4UNkEZ9lLH3oepMqGhKfhIFuwPrYcRnOiA9VFFBY8dyQZcTRGTYJYNUnPiz3dWNgUxL5ZsYgHqHVmPQQTT/1PdgA57kmc6rIchls8xn22SEa6tR2/YyHLVZFquFwHj7OONi1HVhRsoVD9Hx0EF/nKDSoG7AT5FooNXZ9k4znN0THx8cIRMAWHGCm4a6vd6C/ng9fLWd7AfZN17c1g2smhG1//LlxW1v3TY8f6Ueet2a3jVlvRfvHKDVTeo+RNDo+ASEPfkefCRkACBQxByOx0ycmzqLfD5CHGZrSLpAKaIB5Kn724RiZxIiGoNBsn5gT9I9/oA/8Sdbw9DD8DKBlucJ11w9T0rJQUhpxVc14cKJAp3BSw8NDgdAzcGYR9cVD+LjmrjTyu4T4/IJjQgfTmwHLkIFkt7DEHy0tM9fgiwGmcPGh7hs465NxKv1ytVdPUCYmOkI5lYu8zgZWocx62LeZA6aB5HUW8T6m8b25BrAX4rnoTuRz2TcyDx3XYvxKgoK/eYbfn5UhNdtJ8UOEQ6b57lDnO5pUH+JUrNd0ej0iq6IEUejE2Bz+jOJmQhzHqkiiup8Xe63g2AeqCJ9iC1OKzRs8DMDscfjagAKPL74YPpDRSRd72GCEap4Hhj6lXQyCkd8LwVKl9KFwuBT3LzgJEUscyC8Krwt+Q/GQjPCS1yyc8ZYnpGay8vMtSp4wdw5xchz4lsVNSXFg40dyCvi0eDWDYrjG1CEX98K7LI/DsDlmIj5N1/Ejq8fMFh7PFw+FOLGvX/BwQzFoy8B1cD8zBSd85Bs4Tm9ixYhte3EY6Ynoz0AwEeVgBXvsI8IjOH2qCm524nN2gCfcIyUqzUIPbF7QeXxuSno5szcEAaWZHM8I8kGcCI5Md4QE4fFqXENM74PA+PFYkiVEfGAK0vsL+9bLn2KOG84klyDlxIlUZLKeHw37mAobFIntN7lSVgpFkClrEc/U+3Acj91vJNpntLytF0sAu003BO1PZgl1dSM6QZ7ex1612sdgt3hBAkP8HK7lF2fVjMLT6jT5yodzXq4vcm3fIzw7v8nTAQegrzmbOh2EWLdBnf5r6qpPWGplydHD1Ik482StHgRN1XCwMYAEnka/p+cycNL1RLP9SxIKE6+ivX+phb6x9/8Ub5noTSGLf4OQHEfOOKIhBzAgLkhA1/B1w1/HVriCYJQRPhW+ZeO/huv8ejzWveaSdcOe5dKQ9Yjf4+a/xrXec6WsWuDetBYq9F+LHyO+KiK/1VKdLBz6OcvDGyjW7Bk8Zv8ia1mIRdPAsMTa0D0jBXU6VGNK8ChC8oockFD+Z6L0CTXBkGJRTMKAKRcD/YZl/suVEjqQ0szeWKc+FCe9mQ3OwqVl6YaSW7MxgNQF0Osmr2kydNp+cEVP7z9dyshZYQHznqcqWhadZmyqmy5P0UquYGL7IyJU922MZCRni4YDCRU+h3HKjZdQrMDXoryygV+m0iU0Z5d5zo4d7PdASZ4ehKDUjRkpMfN3OMR5SPAQm/BjANXkm3t+hRzrWEwv+s9pO2zwULDUGu+dQxlGXd1D3cmwT6D+vIwYF8tEs0qrToLJ3rSjFpUDPxa6GG+6Np72tXkZjDWkRhVF1EuZOtOr/PnBmFiWetjXQ1zMfzTlSuvc1mqa+OlcaRoR72rXY/jbbmpaQ3vvpzbUNHtAPpmdRq0+/q5pN9/rZ9p5p1bXmvZjp/3ZYWHt3MV2rnl6p37uFL+PukHkfjkv3Chnd53rb+ej2/Mn9mXSbNb3b+3BjVs7lR339Co6a5itH3K7f2CNOmbw8KnoPNy67lV07rectvWVaV+LtQua15odf9AoGl+jyN+/LjwY4WA8sprewcOj3SBlu382bpWVtnbga9eFz5SeKdf79pN8bcramaXYF6X6uPVDtWUyia5LpWFDKY7bd5VL2w7wzWCSx53+U8Ho08sW0zX7qnMxPtXDSXgVdTp3t43mWPtyFXS+m18PDvbt0k3pLsdk69OXB21UgDM/axcl7XysDe2n6+5+dN/FjbtH1SoaTxf56/akENW0T0+1H0EzyLntq3pDvo++5Lsl36p9brSb50PN3S+PGqrjK05pv/9tfPdj3Kaj09bXuv/DajRstn9p3HteqVCpn41rZaeSPz9vdXOte80edgo/alcVdtPC7UqjVuu0cqd2/vrguzHpay3A9NunA+2qpWv4vO5p7afGpX3P7GLti3152TmtDdyrAm7W7uq1puHKgUNJ4INtBPeNU+VJGXStusWcySe/berNsG3JF8NW46JYM7WHb98CnYXd+6Fp6m5FtZ4q+a/uj4diMKTFS/K93nVpazg6a+W6t91cs6EatSvrZr/tkaCVb4bjgm4/FMvuPe5eeMGtX2t3sHlOcXT70KoPldsmHXS7jwW1eHsbjjWQKI1EB89Se8Ks99K/wn2hcp/0I8aIvzZIzR+vK7UkJK3sgvQPEXn95n9hJW9Kh/9pEABn7w9coBTBYAhdhgPRvYp0nwG5Cz5uvkzIXhLYq+IspnafIJLI2Qoert4yrurW3GJ9kT6nzI71sGd4LlfsC71usaX+ZtZdvMdzhWaZ5aLq0UinqUyGR7uM7gOwYi6QXlzmTPjAhCfKaQ0mjkVKiDBoLAOpi0Qs2VVeJABgXGx+WJZEsEQf3GFAKNP9V2f3KRmIzBVM5iX0Zu0ukC3o86VOWR1pvmquHTFQEfTx1aCxhujmGygVc1iessFNbgg3PNg2lYCvhZgJobhKuRz6WHcZ8vWRa+uMUGi63aBPdGpmx9Rl+AZq5tT8LEBieta8OYcCKSUt6FvMITC7cYcYgHkZfLyimw1SVkifPyJVlmURGgydQUmUEvXuer4LSpXmwi2POlIA72+oqbseGAMjiG/+IHwSah8/0j1vAtVEyLBucpvYX9TddMQwny9wU5oNGJa749UCTTo5isPYkesHEUN8EnMsicDVJ4/S2kOmMQ4exvHt5OhAEC/zdeAkCiwGPQa1G2aSkDgzwBOI5s6xJJ38AQIDAZBPRVgg35vb5B4ifp2r/njvHTsTA5D0HnpxjmMp5enDvqmLUU1V/E1LSNjvsbTgRRAc1+zkkXDV52Gn0De/ALyXYolPXq4Rvywq4VWPIb33XEqmwT/kP1coFsc90okiFwvLsn1c2r1c2konaN0NlupO6W/ACG718zDxzf85Uj+LW1JclPdxyeXkXGUHgVGSAKNsIzDqBodRyjllB4FRkwCjbiMwufeByRfL+V30mFwSYHLbCEz+fWDUfK6Y20Fg8kmAyW8jMIUNOSav5Mo7CEwhCTCFbQSmuMFjVHkngSkmAaa4jcCUNuSYcj5X2kFgSkmAKW0jMOVN5XKlsIs5ppwEmPI2AlN5H5iiUt7FSFZJgktlK/vLDY1/WVZ30WGURJ2/sp2tv7Ipy6iVnez9kzX/W9n9Kxva/3y+vJNuk6j9V7ay/1c2DABUSDW7OMtUEk0AlK0cASgbZgCFvLyT0CSaAShbOQRQNkwBlLJSKe4iNonGAMpWzgGUDYMAJV8o7WK/qSSaBChbOQpQNs0CirmSvIvYJBoGKFs5DVA2jAPUQim/kzEt0TxA2cqBgLJhIpBTSjs53FQSzQSUrRwKqBuGArmKmtvF9kZNNBVQt3IqoG6YCqjlgrKLtYCaaCqgbud3AjZNBZTdrAXUZN8K2MqxgLphLFAulXfSbRJNBdStnAqoG6YC+VyhUHiH+4rWP24JMomGAuovHArEL39uhRr+lq9Jzl5Md/T214nf+r/qVPrly67/BoRiJ4A=\", \"compress_html_b4a802b5506b460ea474f1e265ab6d53\");</script><span style=\"color: #aaaaaa; font-family: monospace\">(Loading...)</span></div></div>"
      ],
      "text/plain": [
       "<IPython.core.display.HTML object>"
      ]
     },
     "metadata": {},
     "output_type": "display_data"
    },
    {
     "data": {
      "text/html": [
       "<div id=\"output_dest_aae6571acd564182ac5b48d0c5cd322f\"><script> (()=>{ const output = document.getElementById(\"output_aae6571acd564182ac5b48d0c5cd322f\"); const dest = document.getElementById(\"output_dest_aae6571acd564182ac5b48d0c5cd322f\"); dest.parentNode.replaceChild(output, dest); })(); </script></div>"
      ],
      "text/plain": [
       "[1065,\n",
       " 33039,\n",
       " 11831,\n",
       " 46849,\n",
       " 24363,\n",
       " 34138,\n",
       " 22038,\n",
       " 48437,\n",
       " 33953,\n",
       " 6188,\n",
       " 8023,\n",
       " 48299,\n",
       " 4483,\n",
       " 21885,\n",
       " 5405,\n",
       " 18196,\n",
       " 14577,\n",
       " 46370,\n",
       " 25746,\n",
       " 31738,\n",
       " 39233,\n",
       " 28517,\n",
       " 41370,\n",
       " 8787,\n",
       " 43555]"
      ]
     },
     "execution_count": 224,
     "metadata": {},
     "output_type": "execute_result"
    }
   ],
   "source": [
    "i.tolist()"
   ]
  },
  {
   "cell_type": "code",
   "execution_count": 76,
   "metadata": {},
   "outputs": [
    {
     "name": "stdout",
     "output_type": "stream",
     "text": [
      "[45690 45844 24958 36610  9420   409 40693 30498 35966     0     1     2\n",
      "     3     4     5     6     7     8     9    10    11    12    13    14\n",
      "    15]\n"
     ]
    }
   ],
   "source": [
    "print(i)"
   ]
  },
  {
   "cell_type": "code",
   "execution_count": 63,
   "metadata": {},
   "outputs": [
    {
     "name": "stdout",
     "output_type": "stream",
     "text": [
      "[24305 45899   690 42632 37517 25177  8738     0     1     2     3     4\n",
      "     5     6     7     8     9    10    11    12    13    14    15    16\n",
      "    17]\n"
     ]
    }
   ],
   "source": [
    "print(i)"
   ]
  },
  {
   "cell_type": "code",
   "execution_count": 145,
   "metadata": {},
   "outputs": [],
   "source": [
    "selected_features = i.tolist()"
   ]
  },
  {
   "cell_type": "code",
   "execution_count": 146,
   "metadata": {},
   "outputs": [
    {
     "data": {
      "text/html": [
       "<div id=\"output_24973b1fef674360b5c3a8cf5f6bd248\"><script> /* penzai.treescope rendering of a Python object (compressed) */ (()=>{ let observer; let lastStep = new Promise((resolve, reject) => { observer = new IntersectionObserver((entries) => { for (const entry of entries) { if (entry.isIntersecting) { resolve(); observer.disconnect(); return; } } }, {rootMargin: \"1000px\"}); }); window.treescope_decompress_enqueue = (encoded, destId) => { const previous = lastStep; const destElt = document.getElementById(destId); lastStep = (async () => { await previous; let blob = new Blob([ Uint8Array.from(atob(encoded), (m) => m.codePointAt(0)) ]); let reader = blob.stream().pipeThrough( new DecompressionStream(\"deflate\") ).pipeThrough( new TextDecoderStream(\"utf-8\") ).getReader(); let parts = []; while (true) { let step = await reader.read(); if (step.done) { break; } parts.push(step.value); } let newElt = document.createElement(\"div\"); newElt.innerHTML = parts.join(\"\"); destElt.parentNode.replaceChild(newElt, destElt); for (let oldScript of newElt.querySelectorAll(\"script\")) { let newScript = document.createElement(\"script\"); newScript.type = oldScript.type; newScript.textContent = oldScript.textContent; oldScript.parentNode.replaceChild(newScript, oldScript); } })(); requestAnimationFrame(() => { observer.observe(destElt); }); } })(); </script><div id=\"compress_html_4e660a6dd91b418383944ea878206edd\"><script>window.treescope_decompress_enqueue(\"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\", \"compress_html_4e660a6dd91b418383944ea878206edd\");</script><span style=\"color: #aaaaaa; font-family: monospace\">(Loading...)</span></div></div>"
      ],
      "text/plain": [
       "<IPython.core.display.HTML object>"
      ]
     },
     "metadata": {},
     "output_type": "display_data"
    },
    {
     "data": {
      "text/html": [
       "<div id=\"output_dest_24973b1fef674360b5c3a8cf5f6bd248\"><script> (()=>{ const output = document.getElementById(\"output_24973b1fef674360b5c3a8cf5f6bd248\"); const dest = document.getElementById(\"output_dest_24973b1fef674360b5c3a8cf5f6bd248\"); dest.parentNode.replaceChild(output, dest); })(); </script></div>"
      ],
      "text/plain": [
       "[6950, 24938, 4857, 2287, 15031, 6996, 1541, 24774]"
      ]
     },
     "execution_count": 146,
     "metadata": {},
     "output_type": "execute_result"
    }
   ],
   "source": [
    "selected_features"
   ]
  },
  {
   "cell_type": "code",
   "execution_count": 147,
   "metadata": {},
   "outputs": [],
   "source": [
    "tokenized = runner.get_tokens(runner.train_pairs, tokenizer)\n",
    "\n",
    "inputs = tokenized_to_inputs(**tokenized)\n",
    "train_tokens = tokenized[\"input_ids\"]\n",
    "\n",
    "_, resids = get_resids_call(inputs)\n",
    "\n",
    "mask = train_tokens == 1599\n",
    "\n",
    "resids = resids[layer].value.unwrap(\n",
    "    \"batch\", \"seq\", \"embedding\"\n",
    ")"
   ]
  },
  {
   "cell_type": "code",
   "execution_count": 148,
   "metadata": {},
   "outputs": [],
   "source": [
    "_, sae_resids, _ = sae_encode_gated(sae, resids)"
   ]
  },
  {
   "cell_type": "code",
   "execution_count": 149,
   "metadata": {},
   "outputs": [],
   "source": [
    "n_tokens = 180"
   ]
  },
  {
   "cell_type": "code",
   "execution_count": 150,
   "metadata": {},
   "outputs": [],
   "source": [
    "heatmap = np.zeros((len(selected_features), n_tokens - 1))\n",
    "\n",
    "feature_to_index = {f: i for i, f in enumerate(selected_features)}\n",
    "\n",
    "for i, r in enumerate(sae_resids[0][1:n_tokens]):\n",
    "    for j, f in enumerate(selected_features):\n",
    "        heatmap[j, i] = r[f]\n"
   ]
  },
  {
   "cell_type": "code",
   "execution_count": 151,
   "metadata": {},
   "outputs": [],
   "source": [
    "token_labels = [tokenizer.decode([t]) for t in train_tokens[0, 1:n_tokens]]\n",
    "# token_labels = [t.replace(\"->\", \"\") for t in token_labels]\n",
    "token_labels = [f\"{i}_{t}\" for i, t in enumerate(token_labels)]"
   ]
  },
  {
   "cell_type": "code",
   "execution_count": 152,
   "metadata": {},
   "outputs": [
    {
     "data": {
      "application/vnd.plotly.v1+json": {
       "config": {
        "plotlyServerURL": "https://plot.ly"
       },
       "data": [
        {
         "coloraxis": "coloraxis",
         "hovertemplate": "x: %{x}<br>y: %{y}<br>color: %{z}<extra></extra>",
         "name": "0",
         "type": "heatmap",
         "x": [
          "0_<|user|>",
          "1_Follow",
          "2_the",
          "3_pattern",
          "4_:",
          "5_\n",
          "6_more",
          "7_->",
          "8_less",
          "9_\n",
          "10_new",
          "11_->",
          "12_old",
          "13_\n",
          "14_accept",
          "15_->",
          "16_reject",
          "17_\n",
          "18_def",
          "19_end",
          "20_->",
          "21_attack",
          "22_\n",
          "23_odd",
          "24_->",
          "25_even",
          "26_\n",
          "27_dark",
          "28_->",
          "29_light",
          "30_\n",
          "31_inner",
          "32_->",
          "33_outer",
          "34_\n",
          "35_build",
          "36_->",
          "37_destroy",
          "38_\n",
          "39_den",
          "40_y",
          "41_->",
          "42_admit",
          "43_\n",
          "44_first",
          "45_->",
          "46_last",
          "47_\n",
          "48_ru",
          "49_de",
          "50_->",
          "51_pol",
          "52_ite",
          "53_\n",
          "54_ser",
          "55_ious",
          "56_->",
          "57_fun",
          "58_ny",
          "59_\n",
          "60_f",
          "61_ake",
          "62_->",
          "63_real",
          "64_\n",
          "65_private",
          "66_->",
          "67_public",
          "68_\n",
          "69_male",
          "70_->",
          "71_female",
          "72_\n",
          "73_ear",
          "74_ly",
          "75_->",
          "76_late",
          "77_\n",
          "78_above",
          "79_->",
          "80_below",
          "81_\n",
          "82_best",
          "83_->",
          "84_worst",
          "85_\n",
          "86_w",
          "87_et",
          "88_->",
          "89_dry",
          "90_\n",
          "91_g",
          "92_ive",
          "93_->",
          "94_receive",
          "95_\n",
          "96_bit",
          "97_ter",
          "98_->",
          "99_sweet",
          "100_\n",
          "101_pe",
          "102_ace",
          "103_->",
          "104_war",
          "105_\n",
          "106_open",
          "107_->",
          "108_close",
          "109_\n",
          "110_join",
          "111_->",
          "112_separate",
          "113_\n",
          "114_real",
          "115_->",
          "116_fake",
          "117_\n",
          "118_left",
          "119_->",
          "120_right",
          "121_\n",
          "122_bold",
          "123_->",
          "124_tim",
          "125_id",
          "126_\n",
          "127_la",
          "128_zy",
          "129_->",
          "130_active",
          "131_\n",
          "132_soft",
          "133_->",
          "134_hard",
          "135_\n",
          "136_la",
          "137_ugh",
          "138_->",
          "139_cry",
          "140_\n",
          "141_lo",
          "142_ose",
          "143_->",
          "144_tight",
          "145_\n",
          "146_found",
          "147_->",
          "148_lost",
          "149_\n",
          "150_rough",
          "151_->",
          "152_smooth",
          "153_\n",
          "154_ask",
          "155_->",
          "156_answer",
          "157_\n",
          "158_qu",
          "159_iet",
          "160_->",
          "161_loud",
          "162_\n",
          "163_hot",
          "164_->",
          "165_cold",
          "166_\n",
          "167_d",
          "168_ry",
          "169_->",
          "170_wet",
          "171_\n",
          "172_high",
          "173_->",
          "174_low",
          "175_\n",
          "176_co",
          "177_ol",
          "178_->"
         ],
         "xaxis": "x",
         "y": [
          "6950",
          "24938",
          "4857",
          "2287",
          "15031",
          "6996",
          "1541",
          "24774"
         ],
         "yaxis": "y",
         "z": [
          [
           0,
           0,
           0,
           0,
           0,
           0,
           0.7971206307411194,
           0,
           0,
           0,
           0,
           0,
           0,
           0,
           0,
           0.93491530418396,
           0,
           0,
           0,
           0,
           0,
           0,
           0,
           0,
           0,
           0,
           0,
           0,
           0.7439063191413879,
           0,
           0,
           0,
           0.8069804906845093,
           0,
           0,
           0,
           0,
           0,
           0,
           0,
           0,
           0,
           0,
           0,
           0.539162278175354,
           1.1779817342758179,
           0,
           0,
           0,
           0,
           0.9612312316894531,
           0,
           0,
           0,
           0,
           0,
           0,
           0,
           0,
           0,
           0,
           0,
           0.7754855155944824,
           0,
           0,
           0,
           1.1602263450622559,
           0,
           0,
           0,
           0.886273980140686,
           0,
           0,
           0,
           0,
           0,
           0,
           0,
           0,
           0.6175252199172974,
           0,
           0,
           0,
           0.7078443765640259,
           1.191943645477295,
           0,
           0,
           0,
           0.9105008840560913,
           0,
           0,
           0,
           0,
           0.9954541921615601,
           0,
           0,
           0,
           0,
           0,
           0,
           0,
           0,
           0,
           0,
           0,
           0,
           0,
           0.978856086730957,
           0,
           0,
           0,
           0.5421842336654663,
           0,
           0,
           0,
           0.7536919713020325,
           0.7429482936859131,
           0,
           0.6795412302017212,
           1.3397564888000488,
           0,
           0,
           0,
           0.5791834592819214,
           0,
           0,
           0,
           0,
           0,
           0,
           0,
           0,
           0,
           0,
           0,
           0,
           0.6145656108856201,
           0,
           0,
           0,
           0,
           0,
           0,
           0,
           0,
           0,
           0,
           1.0350446701049805,
           0,
           0,
           0,
           0.5752696990966797,
           0,
           0,
           0,
           0.7085915803909302,
           0,
           0,
           0,
           0,
           0,
           0,
           0,
           0,
           0.8073129653930664,
           0,
           0,
           0,
           0,
           0.6727396249771118,
           0,
           0,
           0,
           0.7094629406929016,
           0,
           0,
           0,
           0,
           0
          ],
          [
           0,
           0,
           0,
           0,
           0,
           0,
           1.2838056087493896,
           0,
           4.271548748016357,
           0,
           5.192475318908691,
           0,
           3.7806804180145264,
           0,
           6.692583084106445,
           0.9359297752380371,
           6.369616508483887,
           0,
           4.367048263549805,
           5.008110523223877,
           0,
           4.741671085357666,
           0,
           5.001986026763916,
           1.8924102783203125,
           3.9073479175567627,
           0.8112748265266418,
           4.828280925750732,
           1.1197608709335327,
           4.068688869476318,
           0,
           6.083434104919434,
           1.4177017211914062,
           4.809090614318848,
           0,
           6.515507221221924,
           1.398810863494873,
           5.588590145111084,
           0,
           4.308624267578125,
           5.696069717407227,
           2.009201765060425,
           3.872605085372925,
           1.090785264968872,
           4.634957313537598,
           1.874992847442627,
           5.611790180206299,
           0.697178065776825,
           3.2412209510803223,
           5.776157855987549,
           2.078284502029419,
           3.0067074298858643,
           4.323101043701172,
           0,
           3.6118667125701904,
           4.847835540771484,
           1.3235832452774048,
           2.6338090896606445,
           3.436854362487793,
           0,
           2.124176025390625,
           6.145447731018066,
           1.5322792530059814,
           4.897774696350098,
           0,
           4.271055221557617,
           1.5872783660888672,
           3.197620391845703,
           0,
           4.530309677124023,
           1.6182754039764404,
           3.047239303588867,
           0,
           3.513190984725952,
           5.592051982879639,
           1.7938711643218994,
           4.546112060546875,
           0,
           4.5374755859375,
           1.1553313732147217,
           3.7526185512542725,
           0,
           5.05939245223999,
           1.4760749340057373,
           4.039685249328613,
           0,
           2.050255060195923,
           4.757225513458252,
           1.5936572551727295,
           4.102855682373047,
           0,
           1.783574104309082,
           6.0193915367126465,
           1.6515107154846191,
           4.479905605316162,
           0.6970847845077515,
           3.551886558532715,
           4.057973384857178,
           1.7447724342346191,
           4.289665222167969,
           0,
           2.374948263168335,
           5.176741600036621,
           1.98923921585083,
           3.6875085830688477,
           0.692897617816925,
           5.30908727645874,
           1.709618091583252,
           4.839719295501709,
           0,
           5.686259746551514,
           1.3213236331939697,
           4.278188705444336,
           0,
           5.5598530769348145,
           2.003018856048584,
           5.585348129272461,
           0,
           4.88983678817749,
           0.8131234049797058,
           3.8773999214172363,
           0,
           5.218246936798096,
           1.4643380641937256,
           3.0167837142944336,
           5.149526119232178,
           0,
           2.456275701522827,
           5.3437604904174805,
           1.064650058746338,
           4.46967077255249,
           0,
           4.679157733917236,
           1.2243142127990723,
           3.9070069789886475,
           0,
           2.475053071975708,
           4.615211009979248,
           1.4269020557403564,
           3.171016216278076,
           0,
           2.3990066051483154,
           5.294582366943359,
           1.1815612316131592,
           4.240612506866455,
           0,
           5.076300621032715,
           1.9100334644317627,
           4.9799909591674805,
           0.9160427451133728,
           4.865692615509033,
           1.4608042240142822,
           4.598418235778809,
           0,
           5.606762886047363,
           1.8169543743133545,
           4.350405693054199,
           0.7404308319091797,
           2.6112709045410156,
           4.830643653869629,
           1.1065162420272827,
           3.6639366149902344,
           0,
           4.907045841217041,
           1.352179765701294,
           4.049293041229248,
           0,
           2.005641460418701,
           3.406310796737671,
           1.144033670425415,
           2.2398853302001953,
           0,
           4.256668567657471,
           1.0367532968521118,
           3.127723217010498,
           0,
           2.750424385070801,
           3.861527681350708,
           0
          ],
          [
           0,
           0,
           0,
           0,
           0,
           0,
           0,
           0,
           0,
           0,
           0,
           0.7087980508804321,
           0,
           0,
           0,
           0,
           0,
           0,
           0,
           0,
           0,
           0,
           0,
           0,
           0.6189402341842651,
           0,
           0,
           0,
           0.8490729331970215,
           0,
           0,
           0,
           1.2191731929779053,
           0,
           0,
           0,
           0.6675666570663452,
           0,
           0,
           0,
           0,
           0,
           0,
           0,
           0,
           0.9814200401306152,
           0,
           0,
           0,
           0,
           0,
           0,
           0,
           0,
           0,
           0,
           0,
           0,
           0,
           0,
           0,
           0,
           0.631527304649353,
           0,
           0,
           0,
           0.5987472534179688,
           0,
           0,
           0,
           0,
           0,
           0,
           0,
           0,
           0.6208187937736511,
           0,
           0,
           0,
           0.7624171376228333,
           0,
           0,
           0,
           0.7244727611541748,
           0,
           0,
           0,
           0,
           0.6355839967727661,
           0,
           0,
           0,
           0,
           1.343056559562683,
           0,
           0,
           0,
           0,
           0,
           0,
           0,
           0,
           0,
           0.6831487417221069,
           0,
           0,
           0,
           0.9035172462463379,
           0,
           0,
           0,
           0.8621864318847656,
           0,
           0,
           0,
           1.8446054458618164,
           0,
           0,
           0,
           0.8997361660003662,
           0,
           0,
           0,
           0,
           0,
           0,
           0,
           0,
           0,
           0.8491743803024292,
           0,
           0,
           0,
           0.5991024971008301,
           0,
           0,
           0,
           0,
           0.6849273443222046,
           0,
           0,
           0,
           0,
           0,
           0,
           0,
           0,
           1.20133638381958,
           0,
           0,
           0,
           0.7356554865837097,
           0,
           0,
           0,
           0.5797709822654724,
           0,
           0,
           0,
           0,
           0,
           0,
           0,
           0,
           0.9321781396865845,
           0,
           0,
           0,
           0,
           0,
           0,
           0,
           0,
           0.9211642742156982,
           0,
           0,
           0,
           0,
           0
          ],
          [
           0,
           0,
           0,
           0,
           0,
           0,
           0,
           0,
           0,
           0,
           0,
           0.7266038656234741,
           0,
           0,
           0,
           0,
           0,
           0,
           0,
           0,
           0.8614327907562256,
           0,
           0,
           0,
           1.1307592391967773,
           0,
           0,
           0,
           0.9203559160232544,
           0,
           0,
           0,
           0.9838787913322449,
           0,
           0,
           0,
           0.7035107612609863,
           0,
           0,
           0,
           0,
           0.866153359413147,
           0,
           0,
           0,
           0.5781400203704834,
           0,
           0,
           0,
           0,
           1.047372817993164,
           0,
           0,
           0,
           0,
           0,
           0.8029869198799133,
           0,
           0,
           0,
           0,
           0,
           1.1308693885803223,
           0,
           0,
           0,
           0.9135404229164124,
           0,
           0.5598074197769165,
           0.5764746069908142,
           0.6795179843902588,
           0,
           0,
           0,
           0,
           0,
           0,
           0,
           0,
           0,
           0,
           0,
           0,
           1.0237793922424316,
           0,
           0,
           0,
           0,
           1.218798279762268,
           0,
           0,
           0,
           0,
           0.6463375687599182,
           0,
           0,
           0,
           0,
           1.221756100654602,
           0,
           0,
           0,
           0,
           0.891558051109314,
           0,
           0,
           0,
           1.1146596670150757,
           0,
           0,
           0,
           0,
           0,
           0,
           0,
           0.988596498966217,
           0,
           0,
           0,
           0.9142310619354248,
           0,
           0,
           0,
           0.8408713340759277,
           0,
           0,
           0,
           0,
           0,
           1.168094277381897,
           0,
           0,
           0,
           1.4017349481582642,
           0,
           0,
           0,
           0,
           0.6113669872283936,
           0,
           0,
           0,
           0,
           1.0740137100219727,
           0,
           0,
           0,
           1.0506699085235596,
           0,
           0,
           0,
           0.8587687611579895,
           0,
           0,
           0,
           1.0145962238311768,
           0,
           0,
           0,
           0,
           1.126760721206665,
           0,
           0,
           0,
           1.2936530113220215,
           0,
           0,
           0,
           0,
           1.0321495532989502,
           0,
           0.8939626812934875,
           0,
           0.8096641302108765,
           0,
           0,
           0,
           0,
           1.2852592468261719
          ],
          [
           0,
           0,
           0,
           0,
           0,
           0,
           0,
           1.358760952949524,
           0,
           0,
           0,
           1.5574254989624023,
           0,
           0,
           0.7078423500061035,
           2.6959726810455322,
           0,
           0.6702686548233032,
           0.8900778293609619,
           0,
           1.4554941654205322,
           0,
           0,
           0,
           2.7158758640289307,
           0,
           0.5946855545043945,
           0,
           2.5187504291534424,
           0,
           0.6186038255691528,
           1.1144200563430786,
           3.5776607990264893,
           0,
           1.3858076333999634,
           1.0549201965332031,
           2.202899694442749,
           0,
           1.0559900999069214,
           0,
           0,
           1.6694179773330688,
           0,
           0,
           1.3790732622146606,
           3.4672741889953613,
           0,
           1.6414356231689453,
           0.8224804401397705,
           0,
           2.8724465370178223,
           0,
           0,
           1.0248074531555176,
           1.7407293319702148,
           0,
           1.940796136856079,
           0,
           0,
           0,
           1.8318160772323608,
           0,
           2.050236940383911,
           0,
           0.9790128469467163,
           0,
           2.1275782585144043,
           0,
           0.6042349338531494,
           0,
           1.797702670097351,
           0,
           0,
           0,
           0.6453888416290283,
           3.0789453983306885,
           0,
           1.8162368535995483,
           1.323340892791748,
           2.355283737182617,
           0,
           1.104285717010498,
           1.6136093139648438,
           2.6350269317626953,
           0,
           1.3498053550720215,
           2.5339181423187256,
           0,
           2.3536713123321533,
           0,
           1.5429065227508545,
           1.3306764364242554,
           0,
           2.148224353790283,
           0,
           1.1525075435638428,
           0,
           0,
           2.1159403324127197,
           0,
           0.9852335453033447,
           0,
           0,
           2.755037307739258,
           0,
           1.059978723526001,
           0,
           2.400315523147583,
           0,
           1.4571887254714966,
           0,
           1.934765338897705,
           0,
           0.8752199411392212,
           0,
           2.7108891010284424,
           0,
           0.9231859445571899,
           0,
           2.4926538467407227,
           0,
           1.2506612539291382,
           0,
           2.186678647994995,
           0,
           0,
           0.6608918309211731,
           0,
           0,
           1.7026029825210571,
           0,
           0.7218952775001526,
           0,
           1.3840886354446411,
           0,
           0.6476033926010132,
           0,
           0,
           1.7330710887908936,
           0,
           0,
           0,
           0,
           1.2239248752593994,
           0,
           0,
           0,
           2.747345447540283,
           0,
           0.932451605796814,
           0,
           1.73336923122406,
           0,
           0.8505795001983643,
           0,
           1.858312964439392,
           0,
           0.9266302585601807,
           0,
           0,
           1.8857343196868896,
           0,
           0,
           0,
           2.51680326461792,
           0,
           1.2184407711029053,
           0,
           0,
           1.8072696924209595,
           0,
           1.3939541578292847,
           0,
           2.03778076171875,
           0,
           0.840143084526062,
           0.6042250394821167,
           0,
           2.123525857925415
          ],
          [
           0,
           0,
           0,
           0,
           0,
           0,
           0,
           0,
           0,
           0,
           0,
           0,
           0,
           0,
           0,
           0,
           0,
           0,
           0,
           0,
           0,
           0,
           0,
           0,
           0.5687459707260132,
           0,
           0,
           0,
           0,
           0,
           0,
           0,
           0.6631158590316772,
           0,
           0,
           0,
           1.070562720298767,
           0,
           0,
           0,
           0,
           0.9076807498931885,
           0,
           0,
           0,
           0.7967194318771362,
           0,
           0,
           0,
           0,
           0,
           0,
           0,
           0,
           0,
           0,
           1.0681378841400146,
           0,
           0,
           0,
           0,
           0,
           1.4167965650558472,
           0,
           0,
           0,
           1.4695230722427368,
           0,
           0,
           0,
           1.3721579313278198,
           0,
           0,
           0,
           0,
           0.8154351711273193,
           0,
           0,
           0,
           1.0722407102584839,
           0,
           0,
           0,
           1.3379931449890137,
           0,
           0,
           0,
           0,
           1.1885091066360474,
           0,
           0,
           0,
           0,
           1.356977939605713,
           0,
           0,
           0,
           0,
           1.3263651132583618,
           0,
           0,
           0,
           0,
           1.2160505056381226,
           0,
           0,
           0,
           1.182194471359253,
           0,
           0,
           0,
           1.9019309282302856,
           0,
           0,
           0,
           1.0842612981796265,
           0,
           0,
           0,
           1.7388674020767212,
           0,
           0,
           0,
           1.2174594402313232,
           0,
           0,
           0,
           0,
           0,
           1.6650307178497314,
           0,
           0,
           0,
           2.0896215438842773,
           0,
           0,
           0,
           0,
           1.6931191682815552,
           0,
           0,
           0,
           0,
           1.978102445602417,
           0,
           0,
           0,
           0.9926348924636841,
           0,
           0,
           0,
           1.5324463844299316,
           0,
           0,
           0,
           1.6658438444137573,
           0,
           0,
           0,
           0,
           1.8634705543518066,
           0,
           0,
           0,
           1.6136215925216675,
           0,
           0,
           0,
           0,
           1.5076121091842651,
           0,
           0,
           0,
           1.1674202680587769,
           0,
           0,
           0,
           0,
           1.3298602104187012
          ],
          [
           0,
           0,
           0,
           0,
           0,
           0,
           0,
           1.5144331455230713,
           0,
           0.5654485821723938,
           0.5784478187561035,
           2.1645302772521973,
           0.9190836548805237,
           0.6659354567527771,
           0,
           2.897291898727417,
           0,
           0,
           0,
           0,
           2.243875741958618,
           0,
           0.9241419434547424,
           0,
           2.548962354660034,
           0,
           0.9922928810119629,
           0,
           2.512190818786621,
           1.7885808944702148,
           0.9282526969909668,
           0,
           2.8993873596191406,
           0.6116064190864563,
           1.0239309072494507,
           0,
           2.79996657371521,
           1.2992432117462158,
           1.2897694110870361,
           0,
           0,
           3.2315289974212646,
           0.8405186533927917,
           1.4702427387237549,
           0,
           2.969240427017212,
           0.7310503721237183,
           1.4314148426055908,
           0,
           1.1095495223999023,
           3.4584991931915283,
           0,
           1.76743483543396,
           1.1386451721191406,
           0.772705078125,
           0.9594866633415222,
           3.241687536239624,
           0,
           0.9190428256988525,
           1.0008070468902588,
           0,
           0,
           3.4728102684020996,
           0.6613318920135498,
           1.3332676887512207,
           0,
           3.031683921813965,
           0,
           0.9790862202644348,
           1.1748676300048828,
           1.7891883850097656,
           0,
           0,
           0,
           0,
           4.0123066902160645,
           1.9975330829620361,
           1.7474644184112549,
           0,
           3.3694164752960205,
           0,
           1.8412225246429443,
           0,
           3.076117992401123,
           0.9900490641593933,
           1.6582255363464355,
           0,
           0,
           3.4792730808258057,
           1.0537009239196777,
           1.3501505851745605,
           0,
           0.7818903923034668,
           2.865950584411621,
           1.2933845520019531,
           1.0200603008270264,
           0,
           1.2188184261322021,
           3.761667013168335,
           2.028402805328369,
           1.5342819690704346,
           0,
           0,
           3.1217660903930664,
           0,
           1.2220954895019531,
           0.6507567167282104,
           3.931715250015259,
           1.3025695085525513,
           1.6899909973144531,
           0,
           3.1793100833892822,
           1.3474993705749512,
           1.4354054927825928,
           0,
           3.672605037689209,
           0,
           0.9548658728599548,
           0,
           2.567246437072754,
           0,
           1.048776388168335,
           0.633388876914978,
           3.42431902885437,
           0.9438831210136414,
           2.498689889907837,
           1.7185797691345215,
           0,
           1.657412052154541,
           3.12800931930542,
           2.2526392936706543,
           1.711395502090454,
           2.288905620574951,
           3.3357996940612793,
           2.4292564392089844,
           1.718287706375122,
           0.7964069843292236,
           0,
           3.047255277633667,
           1.3274312019348145,
           1.0628974437713623,
           0.6410802602767944,
           1.7347908020019531,
           3.501251459121704,
           2.130669355392456,
           1.7588870525360107,
           0,
           3.1938366889953613,
           0.9498288631439209,
           1.5620200634002686,
           0.6163486242294312,
           4.2135820388793945,
           1.0346364974975586,
           1.63655424118042,
           0,
           3.1509182453155518,
           0,
           1.0528314113616943,
           0.6621975898742676,
           1.7507436275482178,
           3.744145154953003,
           1.5689163208007812,
           1.4996752738952637,
           1.1785433292388916,
           3.684065341949463,
           1.907501459121704,
           1.197668433189392,
           0.7125228643417358,
           0,
           2.775179624557495,
           1.1041938066482544,
           1.0628223419189453,
           0.747972309589386,
           3.6570589542388916,
           0.7490757703781128,
           1.4676716327667236,
           0.828069806098938,
           0.8837727904319763,
           3.489478588104248
          ],
          [
           0,
           0,
           0,
           0,
           0,
           0,
           0,
           0,
           0,
           0,
           0,
           5.22420072555542,
           0,
           0,
           0,
           5.3069281578063965,
           0.5601199269294739,
           0,
           0,
           0,
           5.324872016906738,
           0,
           0,
           0,
           4.244981288909912,
           0,
           0,
           0,
           4.835541248321533,
           0,
           0,
           0,
           5.11848258972168,
           1.8590617179870605,
           0,
           0,
           4.8520612716674805,
           0,
           0,
           0,
           0,
           5.236145496368408,
           0,
           0,
           0,
           3.6362717151641846,
           0,
           0,
           0,
           0,
           4.858720779418945,
           0,
           0,
           0,
           0,
           0,
           4.242544174194336,
           0,
           0,
           0,
           0,
           0,
           4.666384220123291,
           0,
           0,
           0,
           4.008663177490234,
           1.536250352859497,
           0,
           0,
           4.967720985412598,
           0.9538179636001587,
           0,
           0,
           0,
           4.062056541442871,
           0,
           0,
           0,
           5.4920196533203125,
           0,
           0,
           0,
           4.4229230880737305,
           0,
           0,
           0,
           0,
           4.390364646911621,
           1.1253730058670044,
           0,
           0,
           0,
           4.477123260498047,
           0.9326872825622559,
           0,
           0,
           0,
           3.786287784576416,
           0.7441507577896118,
           0,
           0,
           0,
           4.778947353363037,
           0,
           0,
           0,
           4.720237731933594,
           0,
           0,
           0,
           5.479177951812744,
           0.962955892086029,
           0,
           0,
           3.58679461479187,
           0,
           0,
           0,
           4.823832988739014,
           0.8829675316810608,
           0,
           0,
           4.995465278625488,
           0,
           0,
           0,
           0,
           0,
           3.7801897525787354,
           0,
           0,
           0,
           4.063427925109863,
           0,
           0,
           0,
           0,
           3.6479005813598633,
           0.9252563714981079,
           0,
           0,
           0,
           4.501935005187988,
           0,
           0,
           0,
           4.369263648986816,
           0,
           0,
           0,
           4.719085216522217,
           0,
           0,
           0,
           3.8348124027252197,
           0,
           0,
           0,
           0,
           3.9589130878448486,
           0.6741496324539185,
           0,
           0,
           4.0826735496521,
           0.9740017056465149,
           0,
           0,
           0,
           3.8334901332855225,
           0,
           0,
           0,
           4.536412715911865,
           0.7628951072692871,
           0,
           0,
           0,
           4.9564361572265625
          ]
         ]
        }
       ],
       "layout": {
        "coloraxis": {
         "colorscale": [
          [
           0,
           "#0d0887"
          ],
          [
           0.1111111111111111,
           "#46039f"
          ],
          [
           0.2222222222222222,
           "#7201a8"
          ],
          [
           0.3333333333333333,
           "#9c179e"
          ],
          [
           0.4444444444444444,
           "#bd3786"
          ],
          [
           0.5555555555555556,
           "#d8576b"
          ],
          [
           0.6666666666666666,
           "#ed7953"
          ],
          [
           0.7777777777777778,
           "#fb9f3a"
          ],
          [
           0.8888888888888888,
           "#fdca26"
          ],
          [
           1,
           "#f0f921"
          ]
         ]
        },
        "template": {
         "data": {
          "bar": [
           {
            "error_x": {
             "color": "#2a3f5f"
            },
            "error_y": {
             "color": "#2a3f5f"
            },
            "marker": {
             "line": {
              "color": "#E5ECF6",
              "width": 0.5
             },
             "pattern": {
              "fillmode": "overlay",
              "size": 10,
              "solidity": 0.2
             }
            },
            "type": "bar"
           }
          ],
          "barpolar": [
           {
            "marker": {
             "line": {
              "color": "#E5ECF6",
              "width": 0.5
             },
             "pattern": {
              "fillmode": "overlay",
              "size": 10,
              "solidity": 0.2
             }
            },
            "type": "barpolar"
           }
          ],
          "carpet": [
           {
            "aaxis": {
             "endlinecolor": "#2a3f5f",
             "gridcolor": "white",
             "linecolor": "white",
             "minorgridcolor": "white",
             "startlinecolor": "#2a3f5f"
            },
            "baxis": {
             "endlinecolor": "#2a3f5f",
             "gridcolor": "white",
             "linecolor": "white",
             "minorgridcolor": "white",
             "startlinecolor": "#2a3f5f"
            },
            "type": "carpet"
           }
          ],
          "choropleth": [
           {
            "colorbar": {
             "outlinewidth": 0,
             "ticks": ""
            },
            "type": "choropleth"
           }
          ],
          "contour": [
           {
            "colorbar": {
             "outlinewidth": 0,
             "ticks": ""
            },
            "colorscale": [
             [
              0,
              "#0d0887"
             ],
             [
              0.1111111111111111,
              "#46039f"
             ],
             [
              0.2222222222222222,
              "#7201a8"
             ],
             [
              0.3333333333333333,
              "#9c179e"
             ],
             [
              0.4444444444444444,
              "#bd3786"
             ],
             [
              0.5555555555555556,
              "#d8576b"
             ],
             [
              0.6666666666666666,
              "#ed7953"
             ],
             [
              0.7777777777777778,
              "#fb9f3a"
             ],
             [
              0.8888888888888888,
              "#fdca26"
             ],
             [
              1,
              "#f0f921"
             ]
            ],
            "type": "contour"
           }
          ],
          "contourcarpet": [
           {
            "colorbar": {
             "outlinewidth": 0,
             "ticks": ""
            },
            "type": "contourcarpet"
           }
          ],
          "heatmap": [
           {
            "colorbar": {
             "outlinewidth": 0,
             "ticks": ""
            },
            "colorscale": [
             [
              0,
              "#0d0887"
             ],
             [
              0.1111111111111111,
              "#46039f"
             ],
             [
              0.2222222222222222,
              "#7201a8"
             ],
             [
              0.3333333333333333,
              "#9c179e"
             ],
             [
              0.4444444444444444,
              "#bd3786"
             ],
             [
              0.5555555555555556,
              "#d8576b"
             ],
             [
              0.6666666666666666,
              "#ed7953"
             ],
             [
              0.7777777777777778,
              "#fb9f3a"
             ],
             [
              0.8888888888888888,
              "#fdca26"
             ],
             [
              1,
              "#f0f921"
             ]
            ],
            "type": "heatmap"
           }
          ],
          "heatmapgl": [
           {
            "colorbar": {
             "outlinewidth": 0,
             "ticks": ""
            },
            "colorscale": [
             [
              0,
              "#0d0887"
             ],
             [
              0.1111111111111111,
              "#46039f"
             ],
             [
              0.2222222222222222,
              "#7201a8"
             ],
             [
              0.3333333333333333,
              "#9c179e"
             ],
             [
              0.4444444444444444,
              "#bd3786"
             ],
             [
              0.5555555555555556,
              "#d8576b"
             ],
             [
              0.6666666666666666,
              "#ed7953"
             ],
             [
              0.7777777777777778,
              "#fb9f3a"
             ],
             [
              0.8888888888888888,
              "#fdca26"
             ],
             [
              1,
              "#f0f921"
             ]
            ],
            "type": "heatmapgl"
           }
          ],
          "histogram": [
           {
            "marker": {
             "pattern": {
              "fillmode": "overlay",
              "size": 10,
              "solidity": 0.2
             }
            },
            "type": "histogram"
           }
          ],
          "histogram2d": [
           {
            "colorbar": {
             "outlinewidth": 0,
             "ticks": ""
            },
            "colorscale": [
             [
              0,
              "#0d0887"
             ],
             [
              0.1111111111111111,
              "#46039f"
             ],
             [
              0.2222222222222222,
              "#7201a8"
             ],
             [
              0.3333333333333333,
              "#9c179e"
             ],
             [
              0.4444444444444444,
              "#bd3786"
             ],
             [
              0.5555555555555556,
              "#d8576b"
             ],
             [
              0.6666666666666666,
              "#ed7953"
             ],
             [
              0.7777777777777778,
              "#fb9f3a"
             ],
             [
              0.8888888888888888,
              "#fdca26"
             ],
             [
              1,
              "#f0f921"
             ]
            ],
            "type": "histogram2d"
           }
          ],
          "histogram2dcontour": [
           {
            "colorbar": {
             "outlinewidth": 0,
             "ticks": ""
            },
            "colorscale": [
             [
              0,
              "#0d0887"
             ],
             [
              0.1111111111111111,
              "#46039f"
             ],
             [
              0.2222222222222222,
              "#7201a8"
             ],
             [
              0.3333333333333333,
              "#9c179e"
             ],
             [
              0.4444444444444444,
              "#bd3786"
             ],
             [
              0.5555555555555556,
              "#d8576b"
             ],
             [
              0.6666666666666666,
              "#ed7953"
             ],
             [
              0.7777777777777778,
              "#fb9f3a"
             ],
             [
              0.8888888888888888,
              "#fdca26"
             ],
             [
              1,
              "#f0f921"
             ]
            ],
            "type": "histogram2dcontour"
           }
          ],
          "mesh3d": [
           {
            "colorbar": {
             "outlinewidth": 0,
             "ticks": ""
            },
            "type": "mesh3d"
           }
          ],
          "parcoords": [
           {
            "line": {
             "colorbar": {
              "outlinewidth": 0,
              "ticks": ""
             }
            },
            "type": "parcoords"
           }
          ],
          "pie": [
           {
            "automargin": true,
            "type": "pie"
           }
          ],
          "scatter": [
           {
            "fillpattern": {
             "fillmode": "overlay",
             "size": 10,
             "solidity": 0.2
            },
            "type": "scatter"
           }
          ],
          "scatter3d": [
           {
            "line": {
             "colorbar": {
              "outlinewidth": 0,
              "ticks": ""
             }
            },
            "marker": {
             "colorbar": {
              "outlinewidth": 0,
              "ticks": ""
             }
            },
            "type": "scatter3d"
           }
          ],
          "scattercarpet": [
           {
            "marker": {
             "colorbar": {
              "outlinewidth": 0,
              "ticks": ""
             }
            },
            "type": "scattercarpet"
           }
          ],
          "scattergeo": [
           {
            "marker": {
             "colorbar": {
              "outlinewidth": 0,
              "ticks": ""
             }
            },
            "type": "scattergeo"
           }
          ],
          "scattergl": [
           {
            "marker": {
             "colorbar": {
              "outlinewidth": 0,
              "ticks": ""
             }
            },
            "type": "scattergl"
           }
          ],
          "scattermapbox": [
           {
            "marker": {
             "colorbar": {
              "outlinewidth": 0,
              "ticks": ""
             }
            },
            "type": "scattermapbox"
           }
          ],
          "scatterpolar": [
           {
            "marker": {
             "colorbar": {
              "outlinewidth": 0,
              "ticks": ""
             }
            },
            "type": "scatterpolar"
           }
          ],
          "scatterpolargl": [
           {
            "marker": {
             "colorbar": {
              "outlinewidth": 0,
              "ticks": ""
             }
            },
            "type": "scatterpolargl"
           }
          ],
          "scatterternary": [
           {
            "marker": {
             "colorbar": {
              "outlinewidth": 0,
              "ticks": ""
             }
            },
            "type": "scatterternary"
           }
          ],
          "surface": [
           {
            "colorbar": {
             "outlinewidth": 0,
             "ticks": ""
            },
            "colorscale": [
             [
              0,
              "#0d0887"
             ],
             [
              0.1111111111111111,
              "#46039f"
             ],
             [
              0.2222222222222222,
              "#7201a8"
             ],
             [
              0.3333333333333333,
              "#9c179e"
             ],
             [
              0.4444444444444444,
              "#bd3786"
             ],
             [
              0.5555555555555556,
              "#d8576b"
             ],
             [
              0.6666666666666666,
              "#ed7953"
             ],
             [
              0.7777777777777778,
              "#fb9f3a"
             ],
             [
              0.8888888888888888,
              "#fdca26"
             ],
             [
              1,
              "#f0f921"
             ]
            ],
            "type": "surface"
           }
          ],
          "table": [
           {
            "cells": {
             "fill": {
              "color": "#EBF0F8"
             },
             "line": {
              "color": "white"
             }
            },
            "header": {
             "fill": {
              "color": "#C8D4E3"
             },
             "line": {
              "color": "white"
             }
            },
            "type": "table"
           }
          ]
         },
         "layout": {
          "annotationdefaults": {
           "arrowcolor": "#2a3f5f",
           "arrowhead": 0,
           "arrowwidth": 1
          },
          "autotypenumbers": "strict",
          "coloraxis": {
           "colorbar": {
            "outlinewidth": 0,
            "ticks": ""
           }
          },
          "colorscale": {
           "diverging": [
            [
             0,
             "#8e0152"
            ],
            [
             0.1,
             "#c51b7d"
            ],
            [
             0.2,
             "#de77ae"
            ],
            [
             0.3,
             "#f1b6da"
            ],
            [
             0.4,
             "#fde0ef"
            ],
            [
             0.5,
             "#f7f7f7"
            ],
            [
             0.6,
             "#e6f5d0"
            ],
            [
             0.7,
             "#b8e186"
            ],
            [
             0.8,
             "#7fbc41"
            ],
            [
             0.9,
             "#4d9221"
            ],
            [
             1,
             "#276419"
            ]
           ],
           "sequential": [
            [
             0,
             "#0d0887"
            ],
            [
             0.1111111111111111,
             "#46039f"
            ],
            [
             0.2222222222222222,
             "#7201a8"
            ],
            [
             0.3333333333333333,
             "#9c179e"
            ],
            [
             0.4444444444444444,
             "#bd3786"
            ],
            [
             0.5555555555555556,
             "#d8576b"
            ],
            [
             0.6666666666666666,
             "#ed7953"
            ],
            [
             0.7777777777777778,
             "#fb9f3a"
            ],
            [
             0.8888888888888888,
             "#fdca26"
            ],
            [
             1,
             "#f0f921"
            ]
           ],
           "sequentialminus": [
            [
             0,
             "#0d0887"
            ],
            [
             0.1111111111111111,
             "#46039f"
            ],
            [
             0.2222222222222222,
             "#7201a8"
            ],
            [
             0.3333333333333333,
             "#9c179e"
            ],
            [
             0.4444444444444444,
             "#bd3786"
            ],
            [
             0.5555555555555556,
             "#d8576b"
            ],
            [
             0.6666666666666666,
             "#ed7953"
            ],
            [
             0.7777777777777778,
             "#fb9f3a"
            ],
            [
             0.8888888888888888,
             "#fdca26"
            ],
            [
             1,
             "#f0f921"
            ]
           ]
          },
          "colorway": [
           "#636efa",
           "#EF553B",
           "#00cc96",
           "#ab63fa",
           "#FFA15A",
           "#19d3f3",
           "#FF6692",
           "#B6E880",
           "#FF97FF",
           "#FECB52"
          ],
          "font": {
           "color": "#2a3f5f"
          },
          "geo": {
           "bgcolor": "white",
           "lakecolor": "white",
           "landcolor": "#E5ECF6",
           "showlakes": true,
           "showland": true,
           "subunitcolor": "white"
          },
          "hoverlabel": {
           "align": "left"
          },
          "hovermode": "closest",
          "mapbox": {
           "style": "light"
          },
          "paper_bgcolor": "white",
          "plot_bgcolor": "#E5ECF6",
          "polar": {
           "angularaxis": {
            "gridcolor": "white",
            "linecolor": "white",
            "ticks": ""
           },
           "bgcolor": "#E5ECF6",
           "radialaxis": {
            "gridcolor": "white",
            "linecolor": "white",
            "ticks": ""
           }
          },
          "scene": {
           "xaxis": {
            "backgroundcolor": "#E5ECF6",
            "gridcolor": "white",
            "gridwidth": 2,
            "linecolor": "white",
            "showbackground": true,
            "ticks": "",
            "zerolinecolor": "white"
           },
           "yaxis": {
            "backgroundcolor": "#E5ECF6",
            "gridcolor": "white",
            "gridwidth": 2,
            "linecolor": "white",
            "showbackground": true,
            "ticks": "",
            "zerolinecolor": "white"
           },
           "zaxis": {
            "backgroundcolor": "#E5ECF6",
            "gridcolor": "white",
            "gridwidth": 2,
            "linecolor": "white",
            "showbackground": true,
            "ticks": "",
            "zerolinecolor": "white"
           }
          },
          "shapedefaults": {
           "line": {
            "color": "#2a3f5f"
           }
          },
          "ternary": {
           "aaxis": {
            "gridcolor": "white",
            "linecolor": "white",
            "ticks": ""
           },
           "baxis": {
            "gridcolor": "white",
            "linecolor": "white",
            "ticks": ""
           },
           "bgcolor": "#E5ECF6",
           "caxis": {
            "gridcolor": "white",
            "linecolor": "white",
            "ticks": ""
           }
          },
          "title": {
           "x": 0.05
          },
          "xaxis": {
           "automargin": true,
           "gridcolor": "white",
           "linecolor": "white",
           "ticks": "",
           "title": {
            "standoff": 15
           },
           "zerolinecolor": "white",
           "zerolinewidth": 2
          },
          "yaxis": {
           "automargin": true,
           "gridcolor": "white",
           "linecolor": "white",
           "ticks": "",
           "title": {
            "standoff": 15
           },
           "zerolinecolor": "white",
           "zerolinewidth": 2
          }
         }
        },
        "title": {
         "text": "Feature heatmap layer 12"
        },
        "xaxis": {
         "anchor": "y",
         "constrain": "domain",
         "domain": [
          0,
          1
         ],
         "scaleanchor": "y"
        },
        "yaxis": {
         "anchor": "x",
         "autorange": "reversed",
         "constrain": "domain",
         "domain": [
          0,
          1
         ]
        }
       }
      },
      "text/html": [
       "<div>                            <div id=\"fd18f06b-f228-40f6-bfcc-728759ee18dd\" class=\"plotly-graph-div\" style=\"height:525px; width:100%;\"></div>            <script type=\"text/javascript\">                require([\"plotly\"], function(Plotly) {                    window.PLOTLYENV=window.PLOTLYENV || {};                                    if (document.getElementById(\"fd18f06b-f228-40f6-bfcc-728759ee18dd\")) {                    Plotly.newPlot(                        \"fd18f06b-f228-40f6-bfcc-728759ee18dd\",                        [{\"coloraxis\":\"coloraxis\",\"name\":\"0\",\"x\":[\"0_\\u003c|user|\\u003e\",\"1_Follow\",\"2_the\",\"3_pattern\",\"4_:\",\"5_\\n\",\"6_more\",\"7_-\\u003e\",\"8_less\",\"9_\\n\",\"10_new\",\"11_-\\u003e\",\"12_old\",\"13_\\n\",\"14_accept\",\"15_-\\u003e\",\"16_reject\",\"17_\\n\",\"18_def\",\"19_end\",\"20_-\\u003e\",\"21_attack\",\"22_\\n\",\"23_odd\",\"24_-\\u003e\",\"25_even\",\"26_\\n\",\"27_dark\",\"28_-\\u003e\",\"29_light\",\"30_\\n\",\"31_inner\",\"32_-\\u003e\",\"33_outer\",\"34_\\n\",\"35_build\",\"36_-\\u003e\",\"37_destroy\",\"38_\\n\",\"39_den\",\"40_y\",\"41_-\\u003e\",\"42_admit\",\"43_\\n\",\"44_first\",\"45_-\\u003e\",\"46_last\",\"47_\\n\",\"48_ru\",\"49_de\",\"50_-\\u003e\",\"51_pol\",\"52_ite\",\"53_\\n\",\"54_ser\",\"55_ious\",\"56_-\\u003e\",\"57_fun\",\"58_ny\",\"59_\\n\",\"60_f\",\"61_ake\",\"62_-\\u003e\",\"63_real\",\"64_\\n\",\"65_private\",\"66_-\\u003e\",\"67_public\",\"68_\\n\",\"69_male\",\"70_-\\u003e\",\"71_female\",\"72_\\n\",\"73_ear\",\"74_ly\",\"75_-\\u003e\",\"76_late\",\"77_\\n\",\"78_above\",\"79_-\\u003e\",\"80_below\",\"81_\\n\",\"82_best\",\"83_-\\u003e\",\"84_worst\",\"85_\\n\",\"86_w\",\"87_et\",\"88_-\\u003e\",\"89_dry\",\"90_\\n\",\"91_g\",\"92_ive\",\"93_-\\u003e\",\"94_receive\",\"95_\\n\",\"96_bit\",\"97_ter\",\"98_-\\u003e\",\"99_sweet\",\"100_\\n\",\"101_pe\",\"102_ace\",\"103_-\\u003e\",\"104_war\",\"105_\\n\",\"106_open\",\"107_-\\u003e\",\"108_close\",\"109_\\n\",\"110_join\",\"111_-\\u003e\",\"112_separate\",\"113_\\n\",\"114_real\",\"115_-\\u003e\",\"116_fake\",\"117_\\n\",\"118_left\",\"119_-\\u003e\",\"120_right\",\"121_\\n\",\"122_bold\",\"123_-\\u003e\",\"124_tim\",\"125_id\",\"126_\\n\",\"127_la\",\"128_zy\",\"129_-\\u003e\",\"130_active\",\"131_\\n\",\"132_soft\",\"133_-\\u003e\",\"134_hard\",\"135_\\n\",\"136_la\",\"137_ugh\",\"138_-\\u003e\",\"139_cry\",\"140_\\n\",\"141_lo\",\"142_ose\",\"143_-\\u003e\",\"144_tight\",\"145_\\n\",\"146_found\",\"147_-\\u003e\",\"148_lost\",\"149_\\n\",\"150_rough\",\"151_-\\u003e\",\"152_smooth\",\"153_\\n\",\"154_ask\",\"155_-\\u003e\",\"156_answer\",\"157_\\n\",\"158_qu\",\"159_iet\",\"160_-\\u003e\",\"161_loud\",\"162_\\n\",\"163_hot\",\"164_-\\u003e\",\"165_cold\",\"166_\\n\",\"167_d\",\"168_ry\",\"169_-\\u003e\",\"170_wet\",\"171_\\n\",\"172_high\",\"173_-\\u003e\",\"174_low\",\"175_\\n\",\"176_co\",\"177_ol\",\"178_-\\u003e\"],\"y\":[\"6950\",\"24938\",\"4857\",\"2287\",\"15031\",\"6996\",\"1541\",\"24774\"],\"z\":[[0.0,0.0,0.0,0.0,0.0,0.0,0.7971206307411194,0.0,0.0,0.0,0.0,0.0,0.0,0.0,0.0,0.93491530418396,0.0,0.0,0.0,0.0,0.0,0.0,0.0,0.0,0.0,0.0,0.0,0.0,0.7439063191413879,0.0,0.0,0.0,0.8069804906845093,0.0,0.0,0.0,0.0,0.0,0.0,0.0,0.0,0.0,0.0,0.0,0.539162278175354,1.1779817342758179,0.0,0.0,0.0,0.0,0.9612312316894531,0.0,0.0,0.0,0.0,0.0,0.0,0.0,0.0,0.0,0.0,0.0,0.7754855155944824,0.0,0.0,0.0,1.1602263450622559,0.0,0.0,0.0,0.886273980140686,0.0,0.0,0.0,0.0,0.0,0.0,0.0,0.0,0.6175252199172974,0.0,0.0,0.0,0.7078443765640259,1.191943645477295,0.0,0.0,0.0,0.9105008840560913,0.0,0.0,0.0,0.0,0.9954541921615601,0.0,0.0,0.0,0.0,0.0,0.0,0.0,0.0,0.0,0.0,0.0,0.0,0.0,0.978856086730957,0.0,0.0,0.0,0.5421842336654663,0.0,0.0,0.0,0.7536919713020325,0.7429482936859131,0.0,0.6795412302017212,1.3397564888000488,0.0,0.0,0.0,0.5791834592819214,0.0,0.0,0.0,0.0,0.0,0.0,0.0,0.0,0.0,0.0,0.0,0.0,0.6145656108856201,0.0,0.0,0.0,0.0,0.0,0.0,0.0,0.0,0.0,0.0,1.0350446701049805,0.0,0.0,0.0,0.5752696990966797,0.0,0.0,0.0,0.7085915803909302,0.0,0.0,0.0,0.0,0.0,0.0,0.0,0.0,0.8073129653930664,0.0,0.0,0.0,0.0,0.6727396249771118,0.0,0.0,0.0,0.7094629406929016,0.0,0.0,0.0,0.0,0.0],[0.0,0.0,0.0,0.0,0.0,0.0,1.2838056087493896,0.0,4.271548748016357,0.0,5.192475318908691,0.0,3.7806804180145264,0.0,6.692583084106445,0.9359297752380371,6.369616508483887,0.0,4.367048263549805,5.008110523223877,0.0,4.741671085357666,0.0,5.001986026763916,1.8924102783203125,3.9073479175567627,0.8112748265266418,4.828280925750732,1.1197608709335327,4.068688869476318,0.0,6.083434104919434,1.4177017211914062,4.809090614318848,0.0,6.515507221221924,1.398810863494873,5.588590145111084,0.0,4.308624267578125,5.696069717407227,2.009201765060425,3.872605085372925,1.090785264968872,4.634957313537598,1.874992847442627,5.611790180206299,0.697178065776825,3.2412209510803223,5.776157855987549,2.078284502029419,3.0067074298858643,4.323101043701172,0.0,3.6118667125701904,4.847835540771484,1.3235832452774048,2.6338090896606445,3.436854362487793,0.0,2.124176025390625,6.145447731018066,1.5322792530059814,4.897774696350098,0.0,4.271055221557617,1.5872783660888672,3.197620391845703,0.0,4.530309677124023,1.6182754039764404,3.047239303588867,0.0,3.513190984725952,5.592051982879639,1.7938711643218994,4.546112060546875,0.0,4.5374755859375,1.1553313732147217,3.7526185512542725,0.0,5.05939245223999,1.4760749340057373,4.039685249328613,0.0,2.050255060195923,4.757225513458252,1.5936572551727295,4.102855682373047,0.0,1.783574104309082,6.0193915367126465,1.6515107154846191,4.479905605316162,0.6970847845077515,3.551886558532715,4.057973384857178,1.7447724342346191,4.289665222167969,0.0,2.374948263168335,5.176741600036621,1.98923921585083,3.6875085830688477,0.692897617816925,5.30908727645874,1.709618091583252,4.839719295501709,0.0,5.686259746551514,1.3213236331939697,4.278188705444336,0.0,5.5598530769348145,2.003018856048584,5.585348129272461,0.0,4.88983678817749,0.8131234049797058,3.8773999214172363,0.0,5.218246936798096,1.4643380641937256,3.0167837142944336,5.149526119232178,0.0,2.456275701522827,5.3437604904174805,1.064650058746338,4.46967077255249,0.0,4.679157733917236,1.2243142127990723,3.9070069789886475,0.0,2.475053071975708,4.615211009979248,1.4269020557403564,3.171016216278076,0.0,2.3990066051483154,5.294582366943359,1.1815612316131592,4.240612506866455,0.0,5.076300621032715,1.9100334644317627,4.9799909591674805,0.9160427451133728,4.865692615509033,1.4608042240142822,4.598418235778809,0.0,5.606762886047363,1.8169543743133545,4.350405693054199,0.7404308319091797,2.6112709045410156,4.830643653869629,1.1065162420272827,3.6639366149902344,0.0,4.907045841217041,1.352179765701294,4.049293041229248,0.0,2.005641460418701,3.406310796737671,1.144033670425415,2.2398853302001953,0.0,4.256668567657471,1.0367532968521118,3.127723217010498,0.0,2.750424385070801,3.861527681350708,0.0],[0.0,0.0,0.0,0.0,0.0,0.0,0.0,0.0,0.0,0.0,0.0,0.7087980508804321,0.0,0.0,0.0,0.0,0.0,0.0,0.0,0.0,0.0,0.0,0.0,0.0,0.6189402341842651,0.0,0.0,0.0,0.8490729331970215,0.0,0.0,0.0,1.2191731929779053,0.0,0.0,0.0,0.6675666570663452,0.0,0.0,0.0,0.0,0.0,0.0,0.0,0.0,0.9814200401306152,0.0,0.0,0.0,0.0,0.0,0.0,0.0,0.0,0.0,0.0,0.0,0.0,0.0,0.0,0.0,0.0,0.631527304649353,0.0,0.0,0.0,0.5987472534179688,0.0,0.0,0.0,0.0,0.0,0.0,0.0,0.0,0.6208187937736511,0.0,0.0,0.0,0.7624171376228333,0.0,0.0,0.0,0.7244727611541748,0.0,0.0,0.0,0.0,0.6355839967727661,0.0,0.0,0.0,0.0,1.343056559562683,0.0,0.0,0.0,0.0,0.0,0.0,0.0,0.0,0.0,0.6831487417221069,0.0,0.0,0.0,0.9035172462463379,0.0,0.0,0.0,0.8621864318847656,0.0,0.0,0.0,1.8446054458618164,0.0,0.0,0.0,0.8997361660003662,0.0,0.0,0.0,0.0,0.0,0.0,0.0,0.0,0.0,0.8491743803024292,0.0,0.0,0.0,0.5991024971008301,0.0,0.0,0.0,0.0,0.6849273443222046,0.0,0.0,0.0,0.0,0.0,0.0,0.0,0.0,1.20133638381958,0.0,0.0,0.0,0.7356554865837097,0.0,0.0,0.0,0.5797709822654724,0.0,0.0,0.0,0.0,0.0,0.0,0.0,0.0,0.9321781396865845,0.0,0.0,0.0,0.0,0.0,0.0,0.0,0.0,0.9211642742156982,0.0,0.0,0.0,0.0,0.0],[0.0,0.0,0.0,0.0,0.0,0.0,0.0,0.0,0.0,0.0,0.0,0.7266038656234741,0.0,0.0,0.0,0.0,0.0,0.0,0.0,0.0,0.8614327907562256,0.0,0.0,0.0,1.1307592391967773,0.0,0.0,0.0,0.9203559160232544,0.0,0.0,0.0,0.9838787913322449,0.0,0.0,0.0,0.7035107612609863,0.0,0.0,0.0,0.0,0.866153359413147,0.0,0.0,0.0,0.5781400203704834,0.0,0.0,0.0,0.0,1.047372817993164,0.0,0.0,0.0,0.0,0.0,0.8029869198799133,0.0,0.0,0.0,0.0,0.0,1.1308693885803223,0.0,0.0,0.0,0.9135404229164124,0.0,0.5598074197769165,0.5764746069908142,0.6795179843902588,0.0,0.0,0.0,0.0,0.0,0.0,0.0,0.0,0.0,0.0,0.0,0.0,1.0237793922424316,0.0,0.0,0.0,0.0,1.218798279762268,0.0,0.0,0.0,0.0,0.6463375687599182,0.0,0.0,0.0,0.0,1.221756100654602,0.0,0.0,0.0,0.0,0.891558051109314,0.0,0.0,0.0,1.1146596670150757,0.0,0.0,0.0,0.0,0.0,0.0,0.0,0.988596498966217,0.0,0.0,0.0,0.9142310619354248,0.0,0.0,0.0,0.8408713340759277,0.0,0.0,0.0,0.0,0.0,1.168094277381897,0.0,0.0,0.0,1.4017349481582642,0.0,0.0,0.0,0.0,0.6113669872283936,0.0,0.0,0.0,0.0,1.0740137100219727,0.0,0.0,0.0,1.0506699085235596,0.0,0.0,0.0,0.8587687611579895,0.0,0.0,0.0,1.0145962238311768,0.0,0.0,0.0,0.0,1.126760721206665,0.0,0.0,0.0,1.2936530113220215,0.0,0.0,0.0,0.0,1.0321495532989502,0.0,0.8939626812934875,0.0,0.8096641302108765,0.0,0.0,0.0,0.0,1.2852592468261719],[0.0,0.0,0.0,0.0,0.0,0.0,0.0,1.358760952949524,0.0,0.0,0.0,1.5574254989624023,0.0,0.0,0.7078423500061035,2.6959726810455322,0.0,0.6702686548233032,0.8900778293609619,0.0,1.4554941654205322,0.0,0.0,0.0,2.7158758640289307,0.0,0.5946855545043945,0.0,2.5187504291534424,0.0,0.6186038255691528,1.1144200563430786,3.5776607990264893,0.0,1.3858076333999634,1.0549201965332031,2.202899694442749,0.0,1.0559900999069214,0.0,0.0,1.6694179773330688,0.0,0.0,1.3790732622146606,3.4672741889953613,0.0,1.6414356231689453,0.8224804401397705,0.0,2.8724465370178223,0.0,0.0,1.0248074531555176,1.7407293319702148,0.0,1.940796136856079,0.0,0.0,0.0,1.8318160772323608,0.0,2.050236940383911,0.0,0.9790128469467163,0.0,2.1275782585144043,0.0,0.6042349338531494,0.0,1.797702670097351,0.0,0.0,0.0,0.6453888416290283,3.0789453983306885,0.0,1.8162368535995483,1.323340892791748,2.355283737182617,0.0,1.104285717010498,1.6136093139648438,2.6350269317626953,0.0,1.3498053550720215,2.5339181423187256,0.0,2.3536713123321533,0.0,1.5429065227508545,1.3306764364242554,0.0,2.148224353790283,0.0,1.1525075435638428,0.0,0.0,2.1159403324127197,0.0,0.9852335453033447,0.0,0.0,2.755037307739258,0.0,1.059978723526001,0.0,2.400315523147583,0.0,1.4571887254714966,0.0,1.934765338897705,0.0,0.8752199411392212,0.0,2.7108891010284424,0.0,0.9231859445571899,0.0,2.4926538467407227,0.0,1.2506612539291382,0.0,2.186678647994995,0.0,0.0,0.6608918309211731,0.0,0.0,1.7026029825210571,0.0,0.7218952775001526,0.0,1.3840886354446411,0.0,0.6476033926010132,0.0,0.0,1.7330710887908936,0.0,0.0,0.0,0.0,1.2239248752593994,0.0,0.0,0.0,2.747345447540283,0.0,0.932451605796814,0.0,1.73336923122406,0.0,0.8505795001983643,0.0,1.858312964439392,0.0,0.9266302585601807,0.0,0.0,1.8857343196868896,0.0,0.0,0.0,2.51680326461792,0.0,1.2184407711029053,0.0,0.0,1.8072696924209595,0.0,1.3939541578292847,0.0,2.03778076171875,0.0,0.840143084526062,0.6042250394821167,0.0,2.123525857925415],[0.0,0.0,0.0,0.0,0.0,0.0,0.0,0.0,0.0,0.0,0.0,0.0,0.0,0.0,0.0,0.0,0.0,0.0,0.0,0.0,0.0,0.0,0.0,0.0,0.5687459707260132,0.0,0.0,0.0,0.0,0.0,0.0,0.0,0.6631158590316772,0.0,0.0,0.0,1.070562720298767,0.0,0.0,0.0,0.0,0.9076807498931885,0.0,0.0,0.0,0.7967194318771362,0.0,0.0,0.0,0.0,0.0,0.0,0.0,0.0,0.0,0.0,1.0681378841400146,0.0,0.0,0.0,0.0,0.0,1.4167965650558472,0.0,0.0,0.0,1.4695230722427368,0.0,0.0,0.0,1.3721579313278198,0.0,0.0,0.0,0.0,0.8154351711273193,0.0,0.0,0.0,1.0722407102584839,0.0,0.0,0.0,1.3379931449890137,0.0,0.0,0.0,0.0,1.1885091066360474,0.0,0.0,0.0,0.0,1.356977939605713,0.0,0.0,0.0,0.0,1.3263651132583618,0.0,0.0,0.0,0.0,1.2160505056381226,0.0,0.0,0.0,1.182194471359253,0.0,0.0,0.0,1.9019309282302856,0.0,0.0,0.0,1.0842612981796265,0.0,0.0,0.0,1.7388674020767212,0.0,0.0,0.0,1.2174594402313232,0.0,0.0,0.0,0.0,0.0,1.6650307178497314,0.0,0.0,0.0,2.0896215438842773,0.0,0.0,0.0,0.0,1.6931191682815552,0.0,0.0,0.0,0.0,1.978102445602417,0.0,0.0,0.0,0.9926348924636841,0.0,0.0,0.0,1.5324463844299316,0.0,0.0,0.0,1.6658438444137573,0.0,0.0,0.0,0.0,1.8634705543518066,0.0,0.0,0.0,1.6136215925216675,0.0,0.0,0.0,0.0,1.5076121091842651,0.0,0.0,0.0,1.1674202680587769,0.0,0.0,0.0,0.0,1.3298602104187012],[0.0,0.0,0.0,0.0,0.0,0.0,0.0,1.5144331455230713,0.0,0.5654485821723938,0.5784478187561035,2.1645302772521973,0.9190836548805237,0.6659354567527771,0.0,2.897291898727417,0.0,0.0,0.0,0.0,2.243875741958618,0.0,0.9241419434547424,0.0,2.548962354660034,0.0,0.9922928810119629,0.0,2.512190818786621,1.7885808944702148,0.9282526969909668,0.0,2.8993873596191406,0.6116064190864563,1.0239309072494507,0.0,2.79996657371521,1.2992432117462158,1.2897694110870361,0.0,0.0,3.2315289974212646,0.8405186533927917,1.4702427387237549,0.0,2.969240427017212,0.7310503721237183,1.4314148426055908,0.0,1.1095495223999023,3.4584991931915283,0.0,1.76743483543396,1.1386451721191406,0.772705078125,0.9594866633415222,3.241687536239624,0.0,0.9190428256988525,1.0008070468902588,0.0,0.0,3.4728102684020996,0.6613318920135498,1.3332676887512207,0.0,3.031683921813965,0.0,0.9790862202644348,1.1748676300048828,1.7891883850097656,0.0,0.0,0.0,0.0,4.0123066902160645,1.9975330829620361,1.7474644184112549,0.0,3.3694164752960205,0.0,1.8412225246429443,0.0,3.076117992401123,0.9900490641593933,1.6582255363464355,0.0,0.0,3.4792730808258057,1.0537009239196777,1.3501505851745605,0.0,0.7818903923034668,2.865950584411621,1.2933845520019531,1.0200603008270264,0.0,1.2188184261322021,3.761667013168335,2.028402805328369,1.5342819690704346,0.0,0.0,3.1217660903930664,0.0,1.2220954895019531,0.6507567167282104,3.931715250015259,1.3025695085525513,1.6899909973144531,0.0,3.1793100833892822,1.3474993705749512,1.4354054927825928,0.0,3.672605037689209,0.0,0.9548658728599548,0.0,2.567246437072754,0.0,1.048776388168335,0.633388876914978,3.42431902885437,0.9438831210136414,2.498689889907837,1.7185797691345215,0.0,1.657412052154541,3.12800931930542,2.2526392936706543,1.711395502090454,2.288905620574951,3.3357996940612793,2.4292564392089844,1.718287706375122,0.7964069843292236,0.0,3.047255277633667,1.3274312019348145,1.0628974437713623,0.6410802602767944,1.7347908020019531,3.501251459121704,2.130669355392456,1.7588870525360107,0.0,3.1938366889953613,0.9498288631439209,1.5620200634002686,0.6163486242294312,4.2135820388793945,1.0346364974975586,1.63655424118042,0.0,3.1509182453155518,0.0,1.0528314113616943,0.6621975898742676,1.7507436275482178,3.744145154953003,1.5689163208007812,1.4996752738952637,1.1785433292388916,3.684065341949463,1.907501459121704,1.197668433189392,0.7125228643417358,0.0,2.775179624557495,1.1041938066482544,1.0628223419189453,0.747972309589386,3.6570589542388916,0.7490757703781128,1.4676716327667236,0.828069806098938,0.8837727904319763,3.489478588104248],[0.0,0.0,0.0,0.0,0.0,0.0,0.0,0.0,0.0,0.0,0.0,5.22420072555542,0.0,0.0,0.0,5.3069281578063965,0.5601199269294739,0.0,0.0,0.0,5.324872016906738,0.0,0.0,0.0,4.244981288909912,0.0,0.0,0.0,4.835541248321533,0.0,0.0,0.0,5.11848258972168,1.8590617179870605,0.0,0.0,4.8520612716674805,0.0,0.0,0.0,0.0,5.236145496368408,0.0,0.0,0.0,3.6362717151641846,0.0,0.0,0.0,0.0,4.858720779418945,0.0,0.0,0.0,0.0,0.0,4.242544174194336,0.0,0.0,0.0,0.0,0.0,4.666384220123291,0.0,0.0,0.0,4.008663177490234,1.536250352859497,0.0,0.0,4.967720985412598,0.9538179636001587,0.0,0.0,0.0,4.062056541442871,0.0,0.0,0.0,5.4920196533203125,0.0,0.0,0.0,4.4229230880737305,0.0,0.0,0.0,0.0,4.390364646911621,1.1253730058670044,0.0,0.0,0.0,4.477123260498047,0.9326872825622559,0.0,0.0,0.0,3.786287784576416,0.7441507577896118,0.0,0.0,0.0,4.778947353363037,0.0,0.0,0.0,4.720237731933594,0.0,0.0,0.0,5.479177951812744,0.962955892086029,0.0,0.0,3.58679461479187,0.0,0.0,0.0,4.823832988739014,0.8829675316810608,0.0,0.0,4.995465278625488,0.0,0.0,0.0,0.0,0.0,3.7801897525787354,0.0,0.0,0.0,4.063427925109863,0.0,0.0,0.0,0.0,3.6479005813598633,0.9252563714981079,0.0,0.0,0.0,4.501935005187988,0.0,0.0,0.0,4.369263648986816,0.0,0.0,0.0,4.719085216522217,0.0,0.0,0.0,3.8348124027252197,0.0,0.0,0.0,0.0,3.9589130878448486,0.6741496324539185,0.0,0.0,4.0826735496521,0.9740017056465149,0.0,0.0,0.0,3.8334901332855225,0.0,0.0,0.0,4.536412715911865,0.7628951072692871,0.0,0.0,0.0,4.9564361572265625]],\"type\":\"heatmap\",\"xaxis\":\"x\",\"yaxis\":\"y\",\"hovertemplate\":\"x: %{x}\\u003cbr\\u003ey: %{y}\\u003cbr\\u003ecolor: %{z}\\u003cextra\\u003e\\u003c\\u002fextra\\u003e\"}],                        {\"template\":{\"data\":{\"histogram2dcontour\":[{\"type\":\"histogram2dcontour\",\"colorbar\":{\"outlinewidth\":0,\"ticks\":\"\"},\"colorscale\":[[0.0,\"#0d0887\"],[0.1111111111111111,\"#46039f\"],[0.2222222222222222,\"#7201a8\"],[0.3333333333333333,\"#9c179e\"],[0.4444444444444444,\"#bd3786\"],[0.5555555555555556,\"#d8576b\"],[0.6666666666666666,\"#ed7953\"],[0.7777777777777778,\"#fb9f3a\"],[0.8888888888888888,\"#fdca26\"],[1.0,\"#f0f921\"]]}],\"choropleth\":[{\"type\":\"choropleth\",\"colorbar\":{\"outlinewidth\":0,\"ticks\":\"\"}}],\"histogram2d\":[{\"type\":\"histogram2d\",\"colorbar\":{\"outlinewidth\":0,\"ticks\":\"\"},\"colorscale\":[[0.0,\"#0d0887\"],[0.1111111111111111,\"#46039f\"],[0.2222222222222222,\"#7201a8\"],[0.3333333333333333,\"#9c179e\"],[0.4444444444444444,\"#bd3786\"],[0.5555555555555556,\"#d8576b\"],[0.6666666666666666,\"#ed7953\"],[0.7777777777777778,\"#fb9f3a\"],[0.8888888888888888,\"#fdca26\"],[1.0,\"#f0f921\"]]}],\"heatmap\":[{\"type\":\"heatmap\",\"colorbar\":{\"outlinewidth\":0,\"ticks\":\"\"},\"colorscale\":[[0.0,\"#0d0887\"],[0.1111111111111111,\"#46039f\"],[0.2222222222222222,\"#7201a8\"],[0.3333333333333333,\"#9c179e\"],[0.4444444444444444,\"#bd3786\"],[0.5555555555555556,\"#d8576b\"],[0.6666666666666666,\"#ed7953\"],[0.7777777777777778,\"#fb9f3a\"],[0.8888888888888888,\"#fdca26\"],[1.0,\"#f0f921\"]]}],\"heatmapgl\":[{\"type\":\"heatmapgl\",\"colorbar\":{\"outlinewidth\":0,\"ticks\":\"\"},\"colorscale\":[[0.0,\"#0d0887\"],[0.1111111111111111,\"#46039f\"],[0.2222222222222222,\"#7201a8\"],[0.3333333333333333,\"#9c179e\"],[0.4444444444444444,\"#bd3786\"],[0.5555555555555556,\"#d8576b\"],[0.6666666666666666,\"#ed7953\"],[0.7777777777777778,\"#fb9f3a\"],[0.8888888888888888,\"#fdca26\"],[1.0,\"#f0f921\"]]}],\"contourcarpet\":[{\"type\":\"contourcarpet\",\"colorbar\":{\"outlinewidth\":0,\"ticks\":\"\"}}],\"contour\":[{\"type\":\"contour\",\"colorbar\":{\"outlinewidth\":0,\"ticks\":\"\"},\"colorscale\":[[0.0,\"#0d0887\"],[0.1111111111111111,\"#46039f\"],[0.2222222222222222,\"#7201a8\"],[0.3333333333333333,\"#9c179e\"],[0.4444444444444444,\"#bd3786\"],[0.5555555555555556,\"#d8576b\"],[0.6666666666666666,\"#ed7953\"],[0.7777777777777778,\"#fb9f3a\"],[0.8888888888888888,\"#fdca26\"],[1.0,\"#f0f921\"]]}],\"surface\":[{\"type\":\"surface\",\"colorbar\":{\"outlinewidth\":0,\"ticks\":\"\"},\"colorscale\":[[0.0,\"#0d0887\"],[0.1111111111111111,\"#46039f\"],[0.2222222222222222,\"#7201a8\"],[0.3333333333333333,\"#9c179e\"],[0.4444444444444444,\"#bd3786\"],[0.5555555555555556,\"#d8576b\"],[0.6666666666666666,\"#ed7953\"],[0.7777777777777778,\"#fb9f3a\"],[0.8888888888888888,\"#fdca26\"],[1.0,\"#f0f921\"]]}],\"mesh3d\":[{\"type\":\"mesh3d\",\"colorbar\":{\"outlinewidth\":0,\"ticks\":\"\"}}],\"scatter\":[{\"fillpattern\":{\"fillmode\":\"overlay\",\"size\":10,\"solidity\":0.2},\"type\":\"scatter\"}],\"parcoords\":[{\"type\":\"parcoords\",\"line\":{\"colorbar\":{\"outlinewidth\":0,\"ticks\":\"\"}}}],\"scatterpolargl\":[{\"type\":\"scatterpolargl\",\"marker\":{\"colorbar\":{\"outlinewidth\":0,\"ticks\":\"\"}}}],\"bar\":[{\"error_x\":{\"color\":\"#2a3f5f\"},\"error_y\":{\"color\":\"#2a3f5f\"},\"marker\":{\"line\":{\"color\":\"#E5ECF6\",\"width\":0.5},\"pattern\":{\"fillmode\":\"overlay\",\"size\":10,\"solidity\":0.2}},\"type\":\"bar\"}],\"scattergeo\":[{\"type\":\"scattergeo\",\"marker\":{\"colorbar\":{\"outlinewidth\":0,\"ticks\":\"\"}}}],\"scatterpolar\":[{\"type\":\"scatterpolar\",\"marker\":{\"colorbar\":{\"outlinewidth\":0,\"ticks\":\"\"}}}],\"histogram\":[{\"marker\":{\"pattern\":{\"fillmode\":\"overlay\",\"size\":10,\"solidity\":0.2}},\"type\":\"histogram\"}],\"scattergl\":[{\"type\":\"scattergl\",\"marker\":{\"colorbar\":{\"outlinewidth\":0,\"ticks\":\"\"}}}],\"scatter3d\":[{\"type\":\"scatter3d\",\"line\":{\"colorbar\":{\"outlinewidth\":0,\"ticks\":\"\"}},\"marker\":{\"colorbar\":{\"outlinewidth\":0,\"ticks\":\"\"}}}],\"scattermapbox\":[{\"type\":\"scattermapbox\",\"marker\":{\"colorbar\":{\"outlinewidth\":0,\"ticks\":\"\"}}}],\"scatterternary\":[{\"type\":\"scatterternary\",\"marker\":{\"colorbar\":{\"outlinewidth\":0,\"ticks\":\"\"}}}],\"scattercarpet\":[{\"type\":\"scattercarpet\",\"marker\":{\"colorbar\":{\"outlinewidth\":0,\"ticks\":\"\"}}}],\"carpet\":[{\"aaxis\":{\"endlinecolor\":\"#2a3f5f\",\"gridcolor\":\"white\",\"linecolor\":\"white\",\"minorgridcolor\":\"white\",\"startlinecolor\":\"#2a3f5f\"},\"baxis\":{\"endlinecolor\":\"#2a3f5f\",\"gridcolor\":\"white\",\"linecolor\":\"white\",\"minorgridcolor\":\"white\",\"startlinecolor\":\"#2a3f5f\"},\"type\":\"carpet\"}],\"table\":[{\"cells\":{\"fill\":{\"color\":\"#EBF0F8\"},\"line\":{\"color\":\"white\"}},\"header\":{\"fill\":{\"color\":\"#C8D4E3\"},\"line\":{\"color\":\"white\"}},\"type\":\"table\"}],\"barpolar\":[{\"marker\":{\"line\":{\"color\":\"#E5ECF6\",\"width\":0.5},\"pattern\":{\"fillmode\":\"overlay\",\"size\":10,\"solidity\":0.2}},\"type\":\"barpolar\"}],\"pie\":[{\"automargin\":true,\"type\":\"pie\"}]},\"layout\":{\"autotypenumbers\":\"strict\",\"colorway\":[\"#636efa\",\"#EF553B\",\"#00cc96\",\"#ab63fa\",\"#FFA15A\",\"#19d3f3\",\"#FF6692\",\"#B6E880\",\"#FF97FF\",\"#FECB52\"],\"font\":{\"color\":\"#2a3f5f\"},\"hovermode\":\"closest\",\"hoverlabel\":{\"align\":\"left\"},\"paper_bgcolor\":\"white\",\"plot_bgcolor\":\"#E5ECF6\",\"polar\":{\"bgcolor\":\"#E5ECF6\",\"angularaxis\":{\"gridcolor\":\"white\",\"linecolor\":\"white\",\"ticks\":\"\"},\"radialaxis\":{\"gridcolor\":\"white\",\"linecolor\":\"white\",\"ticks\":\"\"}},\"ternary\":{\"bgcolor\":\"#E5ECF6\",\"aaxis\":{\"gridcolor\":\"white\",\"linecolor\":\"white\",\"ticks\":\"\"},\"baxis\":{\"gridcolor\":\"white\",\"linecolor\":\"white\",\"ticks\":\"\"},\"caxis\":{\"gridcolor\":\"white\",\"linecolor\":\"white\",\"ticks\":\"\"}},\"coloraxis\":{\"colorbar\":{\"outlinewidth\":0,\"ticks\":\"\"}},\"colorscale\":{\"sequential\":[[0.0,\"#0d0887\"],[0.1111111111111111,\"#46039f\"],[0.2222222222222222,\"#7201a8\"],[0.3333333333333333,\"#9c179e\"],[0.4444444444444444,\"#bd3786\"],[0.5555555555555556,\"#d8576b\"],[0.6666666666666666,\"#ed7953\"],[0.7777777777777778,\"#fb9f3a\"],[0.8888888888888888,\"#fdca26\"],[1.0,\"#f0f921\"]],\"sequentialminus\":[[0.0,\"#0d0887\"],[0.1111111111111111,\"#46039f\"],[0.2222222222222222,\"#7201a8\"],[0.3333333333333333,\"#9c179e\"],[0.4444444444444444,\"#bd3786\"],[0.5555555555555556,\"#d8576b\"],[0.6666666666666666,\"#ed7953\"],[0.7777777777777778,\"#fb9f3a\"],[0.8888888888888888,\"#fdca26\"],[1.0,\"#f0f921\"]],\"diverging\":[[0,\"#8e0152\"],[0.1,\"#c51b7d\"],[0.2,\"#de77ae\"],[0.3,\"#f1b6da\"],[0.4,\"#fde0ef\"],[0.5,\"#f7f7f7\"],[0.6,\"#e6f5d0\"],[0.7,\"#b8e186\"],[0.8,\"#7fbc41\"],[0.9,\"#4d9221\"],[1,\"#276419\"]]},\"xaxis\":{\"gridcolor\":\"white\",\"linecolor\":\"white\",\"ticks\":\"\",\"title\":{\"standoff\":15},\"zerolinecolor\":\"white\",\"automargin\":true,\"zerolinewidth\":2},\"yaxis\":{\"gridcolor\":\"white\",\"linecolor\":\"white\",\"ticks\":\"\",\"title\":{\"standoff\":15},\"zerolinecolor\":\"white\",\"automargin\":true,\"zerolinewidth\":2},\"scene\":{\"xaxis\":{\"backgroundcolor\":\"#E5ECF6\",\"gridcolor\":\"white\",\"linecolor\":\"white\",\"showbackground\":true,\"ticks\":\"\",\"zerolinecolor\":\"white\",\"gridwidth\":2},\"yaxis\":{\"backgroundcolor\":\"#E5ECF6\",\"gridcolor\":\"white\",\"linecolor\":\"white\",\"showbackground\":true,\"ticks\":\"\",\"zerolinecolor\":\"white\",\"gridwidth\":2},\"zaxis\":{\"backgroundcolor\":\"#E5ECF6\",\"gridcolor\":\"white\",\"linecolor\":\"white\",\"showbackground\":true,\"ticks\":\"\",\"zerolinecolor\":\"white\",\"gridwidth\":2}},\"shapedefaults\":{\"line\":{\"color\":\"#2a3f5f\"}},\"annotationdefaults\":{\"arrowcolor\":\"#2a3f5f\",\"arrowhead\":0,\"arrowwidth\":1},\"geo\":{\"bgcolor\":\"white\",\"landcolor\":\"#E5ECF6\",\"subunitcolor\":\"white\",\"showland\":true,\"showlakes\":true,\"lakecolor\":\"white\"},\"title\":{\"x\":0.05},\"mapbox\":{\"style\":\"light\"}}},\"xaxis\":{\"anchor\":\"y\",\"domain\":[0.0,1.0],\"scaleanchor\":\"y\",\"constrain\":\"domain\"},\"yaxis\":{\"anchor\":\"x\",\"domain\":[0.0,1.0],\"autorange\":\"reversed\",\"constrain\":\"domain\"},\"coloraxis\":{\"colorscale\":[[0.0,\"#0d0887\"],[0.1111111111111111,\"#46039f\"],[0.2222222222222222,\"#7201a8\"],[0.3333333333333333,\"#9c179e\"],[0.4444444444444444,\"#bd3786\"],[0.5555555555555556,\"#d8576b\"],[0.6666666666666666,\"#ed7953\"],[0.7777777777777778,\"#fb9f3a\"],[0.8888888888888888,\"#fdca26\"],[1.0,\"#f0f921\"]]},\"title\":{\"text\":\"Feature heatmap layer 12\"}},                        {\"responsive\": true}                    ).then(function(){\n",
       "                            \n",
       "var gd = document.getElementById('fd18f06b-f228-40f6-bfcc-728759ee18dd');\n",
       "var x = new MutationObserver(function (mutations, observer) {{\n",
       "        var display = window.getComputedStyle(gd).display;\n",
       "        if (!display || display === 'none') {{\n",
       "            console.log([gd, 'removed!']);\n",
       "            Plotly.purge(gd);\n",
       "            observer.disconnect();\n",
       "        }}\n",
       "}});\n",
       "\n",
       "// Listen for the removal of the full notebook cells\n",
       "var notebookContainer = gd.closest('#notebook-container');\n",
       "if (notebookContainer) {{\n",
       "    x.observe(notebookContainer, {childList: true});\n",
       "}}\n",
       "\n",
       "// Listen for the clearing of the current output cell\n",
       "var outputEl = gd.closest('.output');\n",
       "if (outputEl) {{\n",
       "    x.observe(outputEl, {childList: true});\n",
       "}}\n",
       "\n",
       "                        })                };                });            </script>        </div>"
      ]
     },
     "metadata": {},
     "output_type": "display_data"
    }
   ],
   "source": [
    "px.imshow(heatmap, y = [str(x) for x in selected_features], x = token_labels, title=f\"Feature heatmap layer {layer}\")"
   ]
  },
  {
   "cell_type": "code",
   "execution_count": 134,
   "metadata": {},
   "outputs": [
    {
     "data": {
      "application/vnd.plotly.v1+json": {
       "config": {
        "plotlyServerURL": "https://plot.ly"
       },
       "data": [
        {
         "coloraxis": "coloraxis",
         "hovertemplate": "x: %{x}<br>y: %{y}<br>color: %{z}<extra></extra>",
         "name": "0",
         "type": "heatmap",
         "x": [
          "0_<|user|>",
          "1_Follow",
          "2_the",
          "3_pattern",
          "4_:",
          "5_\n",
          "6_more",
          "7_->",
          "8_less",
          "9_\n",
          "10_new",
          "11_->",
          "12_old",
          "13_\n",
          "14_accept",
          "15_->",
          "16_reject",
          "17_\n",
          "18_def",
          "19_end",
          "20_->",
          "21_attack",
          "22_\n",
          "23_odd",
          "24_->",
          "25_even",
          "26_\n",
          "27_dark",
          "28_->",
          "29_light",
          "30_\n",
          "31_inner",
          "32_->",
          "33_outer",
          "34_\n",
          "35_build",
          "36_->",
          "37_destroy",
          "38_\n",
          "39_den",
          "40_y",
          "41_->",
          "42_admit",
          "43_\n",
          "44_first",
          "45_->",
          "46_last",
          "47_\n",
          "48_ru",
          "49_de",
          "50_->",
          "51_pol",
          "52_ite",
          "53_\n",
          "54_ser",
          "55_ious",
          "56_->",
          "57_fun",
          "58_ny",
          "59_\n",
          "60_f",
          "61_ake",
          "62_->",
          "63_real",
          "64_\n",
          "65_private",
          "66_->",
          "67_public",
          "68_\n",
          "69_male",
          "70_->",
          "71_female",
          "72_\n",
          "73_ear",
          "74_ly",
          "75_->",
          "76_late",
          "77_\n",
          "78_above",
          "79_->",
          "80_below",
          "81_\n",
          "82_best",
          "83_->",
          "84_worst",
          "85_\n",
          "86_w",
          "87_et",
          "88_->",
          "89_dry",
          "90_\n",
          "91_g",
          "92_ive",
          "93_->",
          "94_receive",
          "95_\n",
          "96_bit",
          "97_ter",
          "98_->",
          "99_sweet",
          "100_\n",
          "101_pe",
          "102_ace",
          "103_->",
          "104_war",
          "105_\n",
          "106_open",
          "107_->",
          "108_close",
          "109_\n",
          "110_join",
          "111_->",
          "112_separate",
          "113_\n",
          "114_real",
          "115_->",
          "116_fake",
          "117_\n",
          "118_left",
          "119_->",
          "120_right",
          "121_\n",
          "122_bold",
          "123_->",
          "124_tim",
          "125_id",
          "126_\n",
          "127_la",
          "128_zy",
          "129_->",
          "130_active",
          "131_\n",
          "132_soft",
          "133_->",
          "134_hard",
          "135_\n",
          "136_la",
          "137_ugh",
          "138_->",
          "139_cry",
          "140_\n",
          "141_lo",
          "142_ose",
          "143_->",
          "144_tight",
          "145_\n",
          "146_found",
          "147_->",
          "148_lost",
          "149_\n",
          "150_rough",
          "151_->",
          "152_smooth",
          "153_\n",
          "154_ask",
          "155_->",
          "156_answer",
          "157_\n",
          "158_qu",
          "159_iet",
          "160_->",
          "161_loud",
          "162_\n",
          "163_hot",
          "164_->",
          "165_cold",
          "166_\n",
          "167_d",
          "168_ry",
          "169_->",
          "170_wet",
          "171_\n",
          "172_high",
          "173_->",
          "174_low",
          "175_\n",
          "176_co",
          "177_ol",
          "178_->"
         ],
         "xaxis": "x",
         "y": [
          "11710",
          "15961",
          "19817",
          "15631",
          "26861",
          "6267",
          "24847",
          "36112",
          "7207",
          "15234",
          "24086"
         ],
         "yaxis": "y",
         "z": [
          [
           0,
           0,
           0,
           0,
           0,
           0,
           0,
           1.019271969795227,
           0,
           0,
           0,
           1.1485865116119385,
           0,
           0,
           0,
           1.093815565109253,
           0,
           0,
           0,
           0,
           0,
           0,
           0,
           0,
           1.8383073806762695,
           0,
           0,
           0,
           2.2746522426605225,
           0,
           0,
           0,
           3.1556265354156494,
           0,
           0,
           0,
           1.4010725021362305,
           0,
           0,
           0,
           0,
           0.997482419013977,
           0,
           0,
           0,
           1.9187896251678467,
           0,
           0,
           0,
           0,
           1.3298194408416748,
           0,
           0,
           0,
           0,
           0,
           1.3859221935272217,
           0,
           0,
           0,
           0,
           0,
           1.8196563720703125,
           0,
           0,
           0,
           2.2897346019744873,
           0,
           0,
           0,
           0.9357200264930725,
           0,
           0,
           0,
           0,
           2.077963352203369,
           0,
           0,
           0,
           1.5617849826812744,
           0,
           0,
           0,
           3.0882811546325684,
           0,
           0,
           0,
           0,
           2.1784796714782715,
           0,
           0,
           0,
           0,
           1.3689563274383545,
           0,
           0,
           0,
           0,
           2.1009387969970703,
           0,
           0,
           0,
           0,
           1.0699713230133057,
           0,
           0,
           0,
           2.34578013420105,
           0,
           0,
           0,
           2.140993118286133,
           0,
           0,
           0,
           3.127462148666382,
           0,
           0,
           0,
           2.802121639251709,
           0,
           0,
           0,
           1.9961061477661133,
           0,
           0,
           0,
           0,
           0,
           1.8875248432159424,
           0,
           0,
           0,
           1.8061292171478271,
           0,
           0,
           0,
           0,
           0,
           0,
           0,
           0,
           0,
           2.1630561351776123,
           0,
           0,
           0,
           2.5354959964752197,
           0,
           0,
           0,
           1.9737915992736816,
           0,
           0,
           0,
           0,
           0,
           0,
           0,
           0,
           1.4618889093399048,
           0,
           0,
           0,
           1.631913185119629,
           0,
           0,
           0,
           0,
           1.4272098541259766,
           0,
           0,
           0,
           2.1371383666992188,
           0,
           0,
           0,
           0,
           2.23513126373291
          ],
          [
           0,
           0,
           0,
           0,
           0,
           0,
           0,
           1.2462735176086426,
           0,
           1.0937529802322388,
           0,
           0,
           0,
           0,
           0,
           1.0709493160247803,
           0,
           0,
           0,
           0,
           1.2754244804382324,
           0,
           0,
           0,
           1.2705674171447754,
           0,
           0,
           0,
           1.6758791208267212,
           0,
           0,
           0,
           1.472381591796875,
           0,
           0,
           0,
           1.1794825792312622,
           0,
           0,
           0,
           0,
           0,
           0,
           0,
           0,
           1.5935313701629639,
           0,
           0,
           0,
           0,
           1.4544278383255005,
           0,
           0,
           0,
           0,
           0,
           0,
           0,
           0,
           0,
           0,
           0,
           0,
           0,
           0,
           0,
           1.1119786500930786,
           0,
           0,
           0,
           0,
           0,
           0,
           0,
           0,
           1.1789811849594116,
           0,
           0,
           0,
           1.1287966966629028,
           0,
           0,
           0,
           1.1038354635238647,
           0,
           0,
           0,
           0,
           1.1024959087371826,
           0,
           0,
           0,
           0,
           1.0498292446136475,
           0,
           0,
           0,
           0,
           0,
           0,
           0,
           0,
           0,
           1.3146820068359375,
           0,
           0,
           0,
           1.3086543083190918,
           0,
           0,
           0,
           0.8159133195877075,
           0,
           0,
           0,
           0,
           0,
           0,
           0,
           0,
           0,
           0,
           0,
           0.9726917743682861,
           0,
           0,
           0,
           0,
           0,
           0,
           0,
           0,
           0,
           0,
           0,
           0,
           0,
           0,
           0,
           0,
           0,
           0,
           0,
           0,
           0,
           0,
           0,
           0,
           0,
           0,
           0,
           0,
           0,
           0,
           0,
           0,
           0,
           0,
           0,
           0,
           0,
           0,
           0,
           0,
           1.216883659362793,
           0,
           0,
           0,
           0,
           0,
           0,
           0,
           0,
           0,
           0,
           0,
           0,
           0,
           0
          ],
          [
           0,
           0,
           0,
           0,
           0,
           0,
           0,
           1.2043657302856445,
           0,
           2.1869702339172363,
           0,
           3.0826141834259033,
           0,
           4.974096298217773,
           0,
           4.299530982971191,
           0,
           3.5726876258850098,
           0,
           0,
           4.822109222412109,
           0,
           3.336684465408325,
           0,
           3.906998872756958,
           0,
           3.939601182937622,
           0,
           4.2658796310424805,
           0,
           3.8926901817321777,
           0,
           4.293717861175537,
           0,
           5.405450820922852,
           0,
           5.3503546714782715,
           0,
           5.770561218261719,
           0.9198908805847168,
           0,
           6.083713531494141,
           0,
           5.901467800140381,
           0,
           4.829104900360107,
           0,
           5.7218194007873535,
           0,
           0,
           5.418839931488037,
           0,
           0,
           5.872096538543701,
           1.3905344009399414,
           0,
           5.718029499053955,
           0,
           0,
           5.873395919799805,
           3.285310745239258,
           0,
           5.419783592224121,
           0,
           5.98079252243042,
           0,
           5.11692476272583,
           0,
           5.853574275970459,
           0,
           4.066664695739746,
           0,
           4.7838134765625,
           0,
           0,
           5.076578617095947,
           0,
           6.2080535888671875,
           0,
           3.9475650787353516,
           0,
           5.8536810874938965,
           0,
           4.431070327758789,
           0,
           6.568472385406494,
           2.5152878761291504,
           0,
           5.205949783325195,
           0,
           6.116516590118408,
           2.083209991455078,
           0,
           4.9284844398498535,
           0,
           5.75557804107666,
           0,
           0,
           5.063259124755859,
           0,
           6.611364841461182,
           1.2438969612121582,
           0,
           4.201169013977051,
           0,
           5.491449356079102,
           0,
           4.630828857421875,
           0,
           6.784754753112793,
           0,
           5.359554290771484,
           0,
           6.260011196136475,
           0,
           4.1310296058654785,
           0,
           4.682773590087891,
           0,
           4.795212745666504,
           0,
           6.3719377517700195,
           0,
           5.1191887855529785,
           0,
           0,
           5.518551826477051,
           2.322192907333374,
           0,
           6.082359313964844,
           0,
           6.414093971252441,
           0,
           5.481183052062988,
           0,
           6.2393975257873535,
           3.051750421524048,
           0,
           4.69374942779541,
           0,
           5.018988609313965,
           1.9596259593963623,
           0,
           5.532444477081299,
           0,
           7.01572322845459,
           0,
           5.513854503631592,
           0,
           6.27310037612915,
           0,
           5.457451820373535,
           0,
           6.865252494812012,
           0,
           5.520308017730713,
           0,
           5.6801981925964355,
           1.0882055759429932,
           0,
           4.994981288909912,
           0,
           6.976545333862305,
           0,
           4.876518726348877,
           0,
           6.509797096252441,
           2.314018487930298,
           0,
           4.404993057250977,
           0,
           5.154755592346191,
           0,
           3.4606411457061768,
           0,
           5.961146831512451,
           1.1035068035125732,
           0,
           4.638773441314697
          ],
          [
           0,
           0,
           0,
           0,
           0,
           0,
           0,
           0,
           0,
           0,
           0,
           0,
           0,
           0,
           0,
           0,
           0,
           0,
           0,
           0,
           0,
           0,
           0,
           0,
           0,
           0,
           0,
           0,
           0,
           0,
           0,
           0,
           0,
           0,
           0,
           0,
           1.243828296661377,
           0,
           0,
           0,
           0,
           1.1906405687332153,
           0,
           0,
           0,
           0,
           0,
           0,
           0,
           0,
           1.039617657661438,
           0,
           0,
           0,
           0,
           0,
           0,
           0,
           0,
           0,
           0,
           0,
           1.4115797281265259,
           0,
           0,
           0,
           1.2347806692123413,
           0,
           0,
           0,
           1.067457914352417,
           0,
           0,
           0,
           0,
           0,
           0,
           0,
           0,
           0,
           0,
           0,
           0,
           0,
           0,
           0,
           0,
           0,
           1.3766151666641235,
           0,
           0,
           0,
           0,
           1.1923625469207764,
           0,
           0,
           0,
           0,
           1.0335423946380615,
           0,
           0,
           0,
           0,
           1.0919898748397827,
           0,
           0,
           0,
           1.0462933778762817,
           0,
           0,
           0,
           1.6325531005859375,
           0,
           0,
           0,
           0.9171206951141357,
           0,
           0,
           0,
           0.966363787651062,
           0,
           0,
           0,
           1.4156954288482666,
           0,
           0,
           0,
           0,
           0,
           1.1916005611419678,
           0,
           0,
           0,
           0,
           0,
           0,
           0,
           0,
           1.4527819156646729,
           0,
           0,
           0,
           0,
           1.1352565288543701,
           0,
           0,
           0,
           1.5305657386779785,
           0,
           0,
           0,
           0,
           0,
           0,
           0,
           1.267327070236206,
           0,
           0,
           0,
           0,
           0.9643032550811768,
           0,
           0,
           0,
           1.0429283380508423,
           0,
           0,
           0,
           0,
           0,
           0,
           0,
           0,
           0,
           0,
           0,
           0,
           0,
           1.1741409301757812
          ],
          [
           0,
           0,
           0,
           0,
           0,
           0,
           0,
           0,
           0,
           0,
           0,
           0,
           0,
           0,
           0,
           0,
           0,
           0,
           0,
           0,
           0,
           0,
           0,
           0,
           0.7893755435943604,
           1.3007678985595703,
           0,
           0,
           0,
           0,
           0,
           0,
           0.9656587839126587,
           1.4885203838348389,
           0,
           0,
           0,
           0,
           0,
           0,
           0,
           0.8337242603302002,
           0,
           0,
           0,
           0.9506821632385254,
           0,
           0,
           0,
           0,
           0,
           0,
           0,
           0,
           0,
           0,
           0,
           0,
           0,
           0,
           0,
           0,
           0.7838871479034424,
           0,
           0,
           0,
           0,
           0,
           0,
           0,
           0.7766398191452026,
           1.5151479244232178,
           0,
           0,
           0,
           1.4643863439559937,
           0,
           0,
           0,
           1.7548511028289795,
           0,
           0,
           0,
           1.2203905582427979,
           0,
           0,
           0,
           0,
           1.7353042364120483,
           0,
           0,
           0,
           0,
           0,
           0,
           0,
           0,
           0,
           1.708778738975525,
           0,
           0,
           0,
           0,
           0,
           0,
           0,
           0,
           0.7271789312362671,
           0,
           0,
           0,
           0,
           0,
           0,
           0,
           1.0034586191177368,
           0,
           0,
           0,
           1.3289848566055298,
           0,
           0,
           0,
           1.0968927145004272,
           0,
           0,
           0,
           0,
           0,
           1.0137959718704224,
           0,
           0,
           0,
           0,
           0,
           0,
           0,
           0,
           0,
           0,
           0,
           0,
           0,
           0.9156004786491394,
           0,
           0,
           0,
           0,
           0,
           0,
           0,
           0.9789612293243408,
           0,
           0,
           0,
           0,
           0,
           0,
           0,
           0,
           0.8802174925804138,
           0.7930974960327148,
           0,
           0,
           0.987054705619812,
           0,
           0,
           0,
           0,
           1.091187596321106,
           0,
           0,
           0,
           1.0602620840072632,
           1.263386845588684,
           0,
           0,
           0,
           0.9940747022628784
          ],
          [
           0,
           3.953812599182129,
           5.187243938446045,
           2.8599109649658203,
           4.790626525878906,
           4.63775634765625,
           2.370720148086548,
           2.7612087726593018,
           4.9752960205078125,
           1.9518393278121948,
           2.847301959991455,
           1.5745186805725098,
           4.560606956481934,
           2.5166478157043457,
           4.32100248336792,
           0,
           3.933647394180298,
           2.168247938156128,
           2.806711435317993,
           6.520565032958984,
           1.2668505907058716,
           6.238941192626953,
           2.3284263610839844,
           2.7188546657562256,
           1.6144092082977295,
           2.946418523788452,
           2.6379268169403076,
           4.43269681930542,
           1.7096433639526367,
           4.627427577972412,
           2.9273300170898438,
           5.73278284072876,
           1.9323444366455078,
           6.3977789878845215,
           3.9120736122131348,
           7.904317855834961,
           2.993215799331665,
           7.672098636627197,
           4.2423601150512695,
           5.573904037475586,
           9.063276290893555,
           3.5028908252716064,
           8.462677955627441,
           4.353914260864258,
           9.113299369812012,
           4.180978298187256,
           8.989879608154297,
           5.200366020202637,
           5.304154872894287,
           5.971261978149414,
           1.815895676612854,
           6.108763217926025,
           8.40615177154541,
           3.9908788204193115,
           3.0691683292388916,
           6.373316764831543,
           2.3101866245269775,
           4.675380229949951,
           6.240257740020752,
           3.7157201766967773,
           3.864809274673462,
           4.723813056945801,
           2.3181207180023193,
           6.419092655181885,
           3.1898748874664307,
           7.1900458335876465,
           3.8097763061523438,
           6.787400722503662,
           4.093079566955566,
           6.774510383605957,
           3.7004339694976807,
           5.59422492980957,
           4.273891925811768,
           4.829616069793701,
           7.642211437225342,
           3.8616769313812256,
           8.56588363647461,
           4.53134298324585,
           7.547173500061035,
           4.133816719055176,
           8.64424991607666,
           4.665309906005859,
           8.855387687683105,
           4.302525997161865,
           9.04063892364502,
           4.943781852722168,
           4.963257789611816,
           7.09512996673584,
           3.304396152496338,
           7.2993364334106445,
           4.200417995452881,
           3.6529769897460938,
           8.335240364074707,
           5.083985328674316,
           7.884485721588135,
           5.398458003997803,
           3.9965083599090576,
           4.609434127807617,
           1.5064142942428589,
           5.80029296875,
           2.6456282138824463,
           2.861802577972412,
           8.01960563659668,
           4.811017036437988,
           10.65479850769043,
           4.885500907897949,
           5.03458833694458,
           4.097461700439453,
           7.781080722808838,
           4.614894866943359,
           9.388520240783691,
           5.460400104522705,
           9.070613861083984,
           5.83122444152832,
           6.087133884429932,
           4.272731304168701,
           5.710580348968506,
           4.457066535949707,
           7.1526360511779785,
           5.230788230895996,
           6.844217300415039,
           4.49124813079834,
           6.891176223754883,
           2.7090437412261963,
           5.078979015350342,
           6.868229389190674,
           3.547086238861084,
           5.361680507659912,
           7.029566287994385,
           3.8517467975616455,
           9.258562088012695,
           3.7257800102233887,
           3.860041856765747,
           3.283435344696045,
           5.101698398590088,
           2.8166446685791016,
           5.231481075286865,
           7.453075885772705,
           4.51520299911499,
           9.198769569396973,
           4.275859832763672,
           4.805948257446289,
           4.448760986328125,
           3.6785924434661865,
           6.6600213050842285,
           3.3475043773651123,
           7.723769664764404,
           5.166420936584473,
           8.961625099182129,
           4.730010032653809,
           3.022012948989868,
           1.8025667667388916,
           3.9170117378234863,
           2.6987175941467285,
           6.4551167488098145,
           4.1145920753479,
           8.240021705627441,
           3.945537567138672,
           2.877601146697998,
           6.573807716369629,
           4.133246421813965,
           7.0100998878479,
           3.836261510848999,
           5.3302836418151855,
           3.465435743331909,
           5.523324012756348,
           3.573404312133789,
           4.68522310256958,
           7.603708744049072,
           6.031116008758545,
           8.649017333984375,
           4.675782203674316,
           7.718891143798828,
           5.716012477874756,
           8.363204956054688,
           4.8202290534973145,
           4.778222560882568,
           5.430146217346191,
           3.6891584396362305
          ],
          [
           0,
           0,
           0,
           0,
           0,
           0,
           0,
           0,
           2.6990833282470703,
           0,
           4.294712543487549,
           0.7022404670715332,
           7.929566860198975,
           0,
           6.641118049621582,
           2.481328010559082,
           8.742920875549316,
           0,
           3.287384033203125,
           6.470661640167236,
           2.5287094116210938,
           8.963274002075195,
           0,
           4.72117805480957,
           3.1664834022521973,
           7.314379692077637,
           0,
           4.333303451538086,
           3.3128886222839355,
           7.362754821777344,
           0,
           3.3774843215942383,
           3.1764941215515137,
           8.134054183959961,
           0,
           3.880795478820801,
           3.234236717224121,
           8.170119285583496,
           0,
           2.9280710220336914,
           4.493842124938965,
           3.534412384033203,
           8.854379653930664,
           0,
           1.707249402999878,
           3.981283187866211,
           7.071170806884766,
           0,
           3.0951266288757324,
           6.093671798706055,
           4.753713130950928,
           10.692411422729492,
           8.9072265625,
           0,
           4.905767440795898,
           9.65450668334961,
           6.172658920288086,
           12.229423522949219,
           11.358845710754395,
           0.8296787738800049,
           3.491182327270508,
           8.523453712463379,
           5.1345438957214355,
           9.85982608795166,
           1.8818289041519165,
           7.245638370513916,
           6.238760948181152,
           10.536110877990723,
           1.3115873336791992,
           4.15631103515625,
           4.600678443908691,
           8.3601713180542,
           0.9041298627853394,
           3.8816380500793457,
           5.018457889556885,
           3.398266315460205,
           7.773954391479492,
           0.7653818130493164,
           3.1012978553771973,
           3.2914719581604004,
           6.27077054977417,
           0,
           5.010602951049805,
           4.829032897949219,
           9.744304656982422,
           1.7682445049285889,
           3.8147025108337402,
           6.187170505523682,
           6.332787036895752,
           8.389253616333008,
           1.601375699043274,
           2.899346351623535,
           3.072260856628418,
           4.508602142333984,
           9.652482032775879,
           1.3007749319076538,
           3.5921173095703125,
           9.225045204162598,
           5.433108806610107,
           11.76718521118164,
           2.8315296173095703,
           5.013418674468994,
           8.174107551574707,
           7.30932092666626,
           11.24290943145752,
           3.0765271186828613,
           5.075497150421143,
           4.8431172370910645,
           7.131221294403076,
           1.350553035736084,
           3.3418030738830566,
           5.018514633178711,
           7.276905059814453,
           0,
           2.5176305770874023,
           3.546387195587158,
           6.228073596954346,
           0,
           2.8309011459350586,
           4.320188999176025,
           6.982840061187744,
           0,
           4.894850730895996,
           4.448684215545654,
           7.896754264831543,
           8.582345008850098,
           0,
           3.2452540397644043,
           6.445184707641602,
           7.284946441650391,
           9.986343383789062,
           1.088256597518921,
           8.139567375183105,
           7.769708156585693,
           11.867663383483887,
           2.4681692123413086,
           3.5914697647094727,
           6.360324382781982,
           5.535254955291748,
           11.474656105041504,
           2.113297462463379,
           5.308068752288818,
           7.55747127532959,
           5.95851993560791,
           10.210756301879883,
           1.3698073625564575,
           2.039055347442627,
           5.08534574508667,
           8.3346529006958,
           1.5014808177947998,
           7.139632701873779,
           7.4919047355651855,
           9.786231994628906,
           2.3981995582580566,
           2.6399073600769043,
           5.6326069831848145,
           8.100482940673828,
           1.3802884817123413,
           3.039726734161377,
           6.485365867614746,
           5.937682151794434,
           9.432865142822266,
           1.4617213010787964,
           7.547748565673828,
           7.816106796264648,
           10.221822738647461,
           2.44203519821167,
           3.3550238609313965,
           5.848164081573486,
           5.040557384490967,
           6.375113010406494,
           0.6009558439254761,
           5.451798439025879,
           5.50501012802124,
           8.626856803894043,
           2.2611794471740723,
           4.519753932952881,
           7.495233058929443,
           7.007078647613525
          ],
          [
           0,
           0,
           0,
           0,
           0,
           0,
           0,
           1.296649694442749,
           0,
           0,
           0,
           0,
           0,
           0,
           0,
           0,
           0,
           0,
           0,
           0,
           0,
           0,
           0,
           0,
           0,
           0,
           0,
           0,
           0,
           0,
           0,
           0,
           2.1080784797668457,
           0,
           0,
           0,
           1.806908130645752,
           0,
           0,
           0,
           0,
           0,
           0,
           0,
           0,
           2.3909621238708496,
           0,
           0,
           0,
           0,
           0,
           0,
           0,
           0,
           0,
           0,
           0,
           0,
           0,
           0,
           0,
           0,
           0,
           0,
           0,
           0,
           0,
           0,
           0,
           0,
           0,
           0,
           0,
           0,
           0,
           0.9733082056045532,
           0,
           0,
           0,
           2.754364013671875,
           0,
           0,
           0,
           0.9118256568908691,
           0,
           0,
           0,
           0,
           0,
           0,
           0,
           0,
           0,
           2.0646395683288574,
           0,
           0,
           0,
           0,
           0,
           0,
           0,
           0,
           0,
           0,
           0,
           0,
           0,
           1.6709994077682495,
           0,
           0,
           0,
           2.159432888031006,
           0,
           0,
           0,
           0,
           0,
           0,
           0,
           1.9931036233901978,
           0,
           0,
           0,
           0,
           0,
           0,
           0,
           0,
           0,
           0,
           0,
           0,
           0,
           1.0295895338058472,
           0,
           0,
           0,
           0,
           0,
           0,
           0,
           0,
           0,
           0,
           0,
           0,
           0,
           1.8189303874969482,
           0,
           0,
           0,
           0,
           0,
           0,
           0,
           1.0973403453826904,
           0,
           0,
           0,
           0,
           0,
           0,
           0,
           0,
           0.8977722525596619,
           0,
           0,
           0,
           0,
           0,
           0,
           0,
           0,
           1.3160072565078735,
           0,
           0,
           0,
           0,
           0
          ],
          [
           0,
           0,
           0,
           0,
           0,
           0,
           0,
           0,
           0,
           0,
           0,
           0,
           0,
           0,
           0,
           0,
           0,
           0,
           0,
           0,
           0,
           0,
           0,
           0,
           0,
           0,
           0,
           0,
           0,
           0,
           0,
           0,
           1.2805523872375488,
           0,
           0,
           0,
           0,
           0,
           0,
           0,
           0,
           1.3983678817749023,
           0,
           0,
           0,
           0,
           0,
           0,
           0,
           0,
           1.51084566116333,
           0,
           0,
           0,
           0,
           0,
           1.5028154850006104,
           0,
           0,
           0,
           0,
           0,
           1.2359888553619385,
           0,
           0,
           0,
           0,
           0,
           0,
           0,
           0,
           0,
           0,
           0,
           0,
           0,
           0,
           0,
           0,
           1.082209587097168,
           0,
           0,
           0,
           1.3070948123931885,
           0,
           0,
           0,
           0,
           0,
           0,
           0,
           0,
           0,
           1.3938608169555664,
           0,
           0,
           0,
           0,
           1.2331445217132568,
           0,
           0,
           0,
           0,
           1.132277011871338,
           0,
           0,
           0,
           0,
           0,
           0,
           0,
           1.2733441591262817,
           0,
           0,
           0,
           0,
           0,
           0,
           0,
           0,
           0,
           0,
           0,
           1.1964826583862305,
           0,
           0,
           0,
           0,
           0,
           1.4807870388031006,
           0,
           0,
           0,
           1.0585638284683228,
           0,
           0,
           0,
           0,
           1.3677157163619995,
           0,
           0,
           0,
           0,
           2.031161308288574,
           0,
           0,
           0,
           1.2840410470962524,
           0,
           0,
           0,
           1.1394116878509521,
           0,
           0,
           0,
           0,
           0,
           0,
           0,
           0,
           1.2106995582580566,
           0,
           0,
           0,
           0,
           0,
           0,
           0,
           0,
           0,
           0,
           0,
           0,
           0,
           0,
           0,
           0,
           0,
           1.2476876974105835
          ],
          [
           0,
           0,
           1.1212903261184692,
           0.9216587543487549,
           0.49446022510528564,
           3.6095709800720215,
           0,
           0.31054145097732544,
           0,
           1.6593780517578125,
           0,
           2.088876247406006,
           1.0967665910720825,
           2.2912981510162354,
           0.677697479724884,
           2.3475828170776367,
           0.794737696647644,
           3.7699801921844482,
           0,
           0,
           2.5869603157043457,
           0,
           3.132636547088623,
           0.6883164048194885,
           2.138842821121216,
           1.5919610261917114,
           3.670489549636841,
           0,
           1.2449982166290283,
           0,
           3.0895538330078125,
           0,
           0.9530792236328125,
           0.512880802154541,
           2.397820234298706,
           0,
           1.2511454820632935,
           0,
           1.748230218887329,
           0,
           0,
           1.827026605606079,
           0,
           2.8034989833831787,
           0.8260802626609802,
           1.99112868309021,
           0,
           2.454165458679199,
           1.2123899459838867,
           0.20231899619102478,
           2.135744333267212,
           1.6090489625930786,
           1.054489254951477,
           2.4276487827301025,
           1.3027546405792236,
           2.20145845413208,
           3.5985000133514404,
           0.8780887722969055,
           1.5914210081100464,
           3.160444498062134,
           2.3242061138153076,
           1.2155494689941406,
           2.925400733947754,
           1.5325684547424316,
           2.1707441806793213,
           0,
           1.5226861238479614,
           0,
           1.8616713285446167,
           0.7497814297676086,
           2.796048879623413,
           2.1322474479675293,
           2.3749873638153076,
           0,
           0.24444305896759033,
           1.8646565675735474,
           0.23185423016548157,
           1.5647337436676025,
           0,
           0.8078228831291199,
           0,
           0.4567596912384033,
           0,
           0.5890825390815735,
           0,
           0.896514892578125,
           1.905749797821045,
           0,
           1.054317831993103,
           0,
           0,
           1.5140740871429443,
           0,
           0.48525846004486084,
           0,
           0,
           0,
           0,
           1.445807933807373,
           0,
           0.383297324180603,
           0.9962437748908997,
           0,
           1.0618504285812378,
           0,
           0,
           0,
           0.7684902548789978,
           0,
           0.40759962797164917,
           0,
           0.48422402143478394,
           0,
           0.29167842864990234,
           0,
           0.22206544876098633,
           0,
           0,
           0,
           0.7625769972801208,
           0,
           0.6646656394004822,
           0,
           1.4720380306243896,
           0,
           0,
           0.41458290815353394,
           0.8535761833190918,
           0,
           2.4060869216918945,
           0,
           0,
           0,
           0.5943383574485779,
           0,
           0,
           3.2273690700531006,
           0,
           0,
           0,
           0,
           1.6288108825683594,
           0,
           1.661441445350647,
           0,
           0.3796401619911194,
           0,
           0,
           0,
           0,
           0,
           2.1291699409484863,
           0,
           0.9540101289749146,
           0,
           0.4314494729042053,
           0,
           0,
           0.8127772808074951,
           0,
           1.9902788400650024,
           0,
           0,
           0,
           1.1844943761825562,
           0,
           0,
           1.5535446405410767,
           0,
           0,
           0,
           0,
           0,
           1.6537998914718628,
           0.37600791454315186,
           0.23932775855064392,
           1.334653615951538,
           0,
           2.5517172813415527
          ],
          [
           0,
           0,
           0,
           0,
           0.5437440872192383,
           1.240675926208496,
           0,
           0,
           0,
           0.9869775772094727,
           0,
           1.7944871187210083,
           2.104369878768921,
           1.960344672203064,
           2.4328932762145996,
           3.2078330516815186,
           4.276218891143799,
           3.2842495441436768,
           2.6593494415283203,
           1.533323049545288,
           4.397402286529541,
           4.425812244415283,
           3.983168840408325,
           0,
           2.0292434692382812,
           1.6526679992675781,
           3.5289552211761475,
           1.1691945791244507,
           4.182696342468262,
           4.488980770111084,
           3.7936253547668457,
           0,
           3.6194865703582764,
           0.5655343532562256,
           2.6294257640838623,
           2.692453622817993,
           5.972621917724609,
           5.562237739562988,
           3.9332518577575684,
           2.436687469482422,
           2.9872119426727295,
           6.418595314025879,
           5.749208927154541,
           5.057798385620117,
           2.4465432167053223,
           4.068706035614014,
           2.9083375930786133,
           3.731950044631958,
           2.4964375495910645,
           1.418256402015686,
           4.689622402191162,
           2.7580087184906006,
           2.7939436435699463,
           4.080021381378174,
           2.4842069149017334,
           2.6762046813964844,
           5.475841999053955,
           3.2144312858581543,
           3.923675537109375,
           5.0399370193481445,
           1.99385666847229,
           3.1827590465545654,
           5.035033226013184,
           5.582029342651367,
           4.6723952293396,
           1.7873953580856323,
           4.443157196044922,
           4.301823139190674,
           4.541891574859619,
           0,
           3.3298115730285645,
           1.286867380142212,
           3.662191152572632,
           0.588056743144989,
           0.5490145683288574,
           3.678382396697998,
           3.260002374649048,
           4.2126288414001465,
           3.2644431591033936,
           5.9021430015563965,
           3.6212375164031982,
           4.744374752044678,
           4.893186092376709,
           6.234457969665527,
           6.318475723266602,
           5.741065979003906,
           3.0509555339813232,
           2.236435890197754,
           4.698061466217041,
           4.8618059158325195,
           4.697821140289307,
           2.9745843410491943,
           4.861663341522217,
           5.915428638458252,
           6.512111663818359,
           5.475268363952637,
           1.5811868906021118,
           2.1284635066986084,
           5.119268894195557,
           5.270964622497559,
           5.3393754959106445,
           1.4420052766799927,
           4.55822229385376,
           6.4999613761901855,
           5.8122663497924805,
           5.8126325607299805,
           2.981367349624634,
           5.3467583656311035,
           5.1375579833984375,
           4.852969646453857,
           2.995147705078125,
           6.184438228607178,
           4.195666790008545,
           4.220904350280762,
           6.044920444488525,
           7.956059455871582,
           7.0238752365112305,
           6.9755167961120605,
           1.9726524353027344,
           3.394437074661255,
           3.2393534183502197,
           3.780621290206909,
           1.9023162126541138,
           5.307218551635742,
           1.4623366594314575,
           2.6015429496765137,
           4.155925750732422,
           1.35745370388031,
           0,
           2.3043317794799805,
           0.48230740427970886,
           2.740121841430664,
           1.6196178197860718,
           3.976083278656006,
           3.1101768016815186,
           2.7922890186309814,
           0,
           0.8251656293869019,
           4.180481433868408,
           1.1090725660324097,
           3.1408984661102295,
           1.1195865869522095,
           0.9766398668289185,
           3.41233229637146,
           1.974979043006897,
           2.7730374336242676,
           2.773545742034912,
           4.404755115509033,
           2.230947494506836,
           2.710993766784668,
           2.039262294769287,
           4.123793125152588,
           3.659285306930542,
           3.3327572345733643,
           2.5987167358398438,
           5.153071880340576,
           5.050689697265625,
           3.7995686531066895,
           4.142317295074463,
           2.563065528869629,
           4.6820549964904785,
           4.143085956573486,
           4.304765224456787,
           2.7006921768188477,
           5.20143461227417,
           4.1970438957214355,
           3.9171624183654785,
           3.3217110633850098,
           3.7588226795196533,
           6.276958465576172,
           5.638725280761719,
           4.910499095916748,
           2.636337995529175,
           4.640876770019531,
           3.2836875915527344,
           4.109055995941162,
           3.2797598838806152,
           4.038115501403809,
           6.038700580596924
          ]
         ]
        }
       ],
       "layout": {
        "coloraxis": {
         "colorscale": [
          [
           0,
           "#0d0887"
          ],
          [
           0.1111111111111111,
           "#46039f"
          ],
          [
           0.2222222222222222,
           "#7201a8"
          ],
          [
           0.3333333333333333,
           "#9c179e"
          ],
          [
           0.4444444444444444,
           "#bd3786"
          ],
          [
           0.5555555555555556,
           "#d8576b"
          ],
          [
           0.6666666666666666,
           "#ed7953"
          ],
          [
           0.7777777777777778,
           "#fb9f3a"
          ],
          [
           0.8888888888888888,
           "#fdca26"
          ],
          [
           1,
           "#f0f921"
          ]
         ]
        },
        "template": {
         "data": {
          "bar": [
           {
            "error_x": {
             "color": "#2a3f5f"
            },
            "error_y": {
             "color": "#2a3f5f"
            },
            "marker": {
             "line": {
              "color": "#E5ECF6",
              "width": 0.5
             },
             "pattern": {
              "fillmode": "overlay",
              "size": 10,
              "solidity": 0.2
             }
            },
            "type": "bar"
           }
          ],
          "barpolar": [
           {
            "marker": {
             "line": {
              "color": "#E5ECF6",
              "width": 0.5
             },
             "pattern": {
              "fillmode": "overlay",
              "size": 10,
              "solidity": 0.2
             }
            },
            "type": "barpolar"
           }
          ],
          "carpet": [
           {
            "aaxis": {
             "endlinecolor": "#2a3f5f",
             "gridcolor": "white",
             "linecolor": "white",
             "minorgridcolor": "white",
             "startlinecolor": "#2a3f5f"
            },
            "baxis": {
             "endlinecolor": "#2a3f5f",
             "gridcolor": "white",
             "linecolor": "white",
             "minorgridcolor": "white",
             "startlinecolor": "#2a3f5f"
            },
            "type": "carpet"
           }
          ],
          "choropleth": [
           {
            "colorbar": {
             "outlinewidth": 0,
             "ticks": ""
            },
            "type": "choropleth"
           }
          ],
          "contour": [
           {
            "colorbar": {
             "outlinewidth": 0,
             "ticks": ""
            },
            "colorscale": [
             [
              0,
              "#0d0887"
             ],
             [
              0.1111111111111111,
              "#46039f"
             ],
             [
              0.2222222222222222,
              "#7201a8"
             ],
             [
              0.3333333333333333,
              "#9c179e"
             ],
             [
              0.4444444444444444,
              "#bd3786"
             ],
             [
              0.5555555555555556,
              "#d8576b"
             ],
             [
              0.6666666666666666,
              "#ed7953"
             ],
             [
              0.7777777777777778,
              "#fb9f3a"
             ],
             [
              0.8888888888888888,
              "#fdca26"
             ],
             [
              1,
              "#f0f921"
             ]
            ],
            "type": "contour"
           }
          ],
          "contourcarpet": [
           {
            "colorbar": {
             "outlinewidth": 0,
             "ticks": ""
            },
            "type": "contourcarpet"
           }
          ],
          "heatmap": [
           {
            "colorbar": {
             "outlinewidth": 0,
             "ticks": ""
            },
            "colorscale": [
             [
              0,
              "#0d0887"
             ],
             [
              0.1111111111111111,
              "#46039f"
             ],
             [
              0.2222222222222222,
              "#7201a8"
             ],
             [
              0.3333333333333333,
              "#9c179e"
             ],
             [
              0.4444444444444444,
              "#bd3786"
             ],
             [
              0.5555555555555556,
              "#d8576b"
             ],
             [
              0.6666666666666666,
              "#ed7953"
             ],
             [
              0.7777777777777778,
              "#fb9f3a"
             ],
             [
              0.8888888888888888,
              "#fdca26"
             ],
             [
              1,
              "#f0f921"
             ]
            ],
            "type": "heatmap"
           }
          ],
          "heatmapgl": [
           {
            "colorbar": {
             "outlinewidth": 0,
             "ticks": ""
            },
            "colorscale": [
             [
              0,
              "#0d0887"
             ],
             [
              0.1111111111111111,
              "#46039f"
             ],
             [
              0.2222222222222222,
              "#7201a8"
             ],
             [
              0.3333333333333333,
              "#9c179e"
             ],
             [
              0.4444444444444444,
              "#bd3786"
             ],
             [
              0.5555555555555556,
              "#d8576b"
             ],
             [
              0.6666666666666666,
              "#ed7953"
             ],
             [
              0.7777777777777778,
              "#fb9f3a"
             ],
             [
              0.8888888888888888,
              "#fdca26"
             ],
             [
              1,
              "#f0f921"
             ]
            ],
            "type": "heatmapgl"
           }
          ],
          "histogram": [
           {
            "marker": {
             "pattern": {
              "fillmode": "overlay",
              "size": 10,
              "solidity": 0.2
             }
            },
            "type": "histogram"
           }
          ],
          "histogram2d": [
           {
            "colorbar": {
             "outlinewidth": 0,
             "ticks": ""
            },
            "colorscale": [
             [
              0,
              "#0d0887"
             ],
             [
              0.1111111111111111,
              "#46039f"
             ],
             [
              0.2222222222222222,
              "#7201a8"
             ],
             [
              0.3333333333333333,
              "#9c179e"
             ],
             [
              0.4444444444444444,
              "#bd3786"
             ],
             [
              0.5555555555555556,
              "#d8576b"
             ],
             [
              0.6666666666666666,
              "#ed7953"
             ],
             [
              0.7777777777777778,
              "#fb9f3a"
             ],
             [
              0.8888888888888888,
              "#fdca26"
             ],
             [
              1,
              "#f0f921"
             ]
            ],
            "type": "histogram2d"
           }
          ],
          "histogram2dcontour": [
           {
            "colorbar": {
             "outlinewidth": 0,
             "ticks": ""
            },
            "colorscale": [
             [
              0,
              "#0d0887"
             ],
             [
              0.1111111111111111,
              "#46039f"
             ],
             [
              0.2222222222222222,
              "#7201a8"
             ],
             [
              0.3333333333333333,
              "#9c179e"
             ],
             [
              0.4444444444444444,
              "#bd3786"
             ],
             [
              0.5555555555555556,
              "#d8576b"
             ],
             [
              0.6666666666666666,
              "#ed7953"
             ],
             [
              0.7777777777777778,
              "#fb9f3a"
             ],
             [
              0.8888888888888888,
              "#fdca26"
             ],
             [
              1,
              "#f0f921"
             ]
            ],
            "type": "histogram2dcontour"
           }
          ],
          "mesh3d": [
           {
            "colorbar": {
             "outlinewidth": 0,
             "ticks": ""
            },
            "type": "mesh3d"
           }
          ],
          "parcoords": [
           {
            "line": {
             "colorbar": {
              "outlinewidth": 0,
              "ticks": ""
             }
            },
            "type": "parcoords"
           }
          ],
          "pie": [
           {
            "automargin": true,
            "type": "pie"
           }
          ],
          "scatter": [
           {
            "fillpattern": {
             "fillmode": "overlay",
             "size": 10,
             "solidity": 0.2
            },
            "type": "scatter"
           }
          ],
          "scatter3d": [
           {
            "line": {
             "colorbar": {
              "outlinewidth": 0,
              "ticks": ""
             }
            },
            "marker": {
             "colorbar": {
              "outlinewidth": 0,
              "ticks": ""
             }
            },
            "type": "scatter3d"
           }
          ],
          "scattercarpet": [
           {
            "marker": {
             "colorbar": {
              "outlinewidth": 0,
              "ticks": ""
             }
            },
            "type": "scattercarpet"
           }
          ],
          "scattergeo": [
           {
            "marker": {
             "colorbar": {
              "outlinewidth": 0,
              "ticks": ""
             }
            },
            "type": "scattergeo"
           }
          ],
          "scattergl": [
           {
            "marker": {
             "colorbar": {
              "outlinewidth": 0,
              "ticks": ""
             }
            },
            "type": "scattergl"
           }
          ],
          "scattermapbox": [
           {
            "marker": {
             "colorbar": {
              "outlinewidth": 0,
              "ticks": ""
             }
            },
            "type": "scattermapbox"
           }
          ],
          "scatterpolar": [
           {
            "marker": {
             "colorbar": {
              "outlinewidth": 0,
              "ticks": ""
             }
            },
            "type": "scatterpolar"
           }
          ],
          "scatterpolargl": [
           {
            "marker": {
             "colorbar": {
              "outlinewidth": 0,
              "ticks": ""
             }
            },
            "type": "scatterpolargl"
           }
          ],
          "scatterternary": [
           {
            "marker": {
             "colorbar": {
              "outlinewidth": 0,
              "ticks": ""
             }
            },
            "type": "scatterternary"
           }
          ],
          "surface": [
           {
            "colorbar": {
             "outlinewidth": 0,
             "ticks": ""
            },
            "colorscale": [
             [
              0,
              "#0d0887"
             ],
             [
              0.1111111111111111,
              "#46039f"
             ],
             [
              0.2222222222222222,
              "#7201a8"
             ],
             [
              0.3333333333333333,
              "#9c179e"
             ],
             [
              0.4444444444444444,
              "#bd3786"
             ],
             [
              0.5555555555555556,
              "#d8576b"
             ],
             [
              0.6666666666666666,
              "#ed7953"
             ],
             [
              0.7777777777777778,
              "#fb9f3a"
             ],
             [
              0.8888888888888888,
              "#fdca26"
             ],
             [
              1,
              "#f0f921"
             ]
            ],
            "type": "surface"
           }
          ],
          "table": [
           {
            "cells": {
             "fill": {
              "color": "#EBF0F8"
             },
             "line": {
              "color": "white"
             }
            },
            "header": {
             "fill": {
              "color": "#C8D4E3"
             },
             "line": {
              "color": "white"
             }
            },
            "type": "table"
           }
          ]
         },
         "layout": {
          "annotationdefaults": {
           "arrowcolor": "#2a3f5f",
           "arrowhead": 0,
           "arrowwidth": 1
          },
          "autotypenumbers": "strict",
          "coloraxis": {
           "colorbar": {
            "outlinewidth": 0,
            "ticks": ""
           }
          },
          "colorscale": {
           "diverging": [
            [
             0,
             "#8e0152"
            ],
            [
             0.1,
             "#c51b7d"
            ],
            [
             0.2,
             "#de77ae"
            ],
            [
             0.3,
             "#f1b6da"
            ],
            [
             0.4,
             "#fde0ef"
            ],
            [
             0.5,
             "#f7f7f7"
            ],
            [
             0.6,
             "#e6f5d0"
            ],
            [
             0.7,
             "#b8e186"
            ],
            [
             0.8,
             "#7fbc41"
            ],
            [
             0.9,
             "#4d9221"
            ],
            [
             1,
             "#276419"
            ]
           ],
           "sequential": [
            [
             0,
             "#0d0887"
            ],
            [
             0.1111111111111111,
             "#46039f"
            ],
            [
             0.2222222222222222,
             "#7201a8"
            ],
            [
             0.3333333333333333,
             "#9c179e"
            ],
            [
             0.4444444444444444,
             "#bd3786"
            ],
            [
             0.5555555555555556,
             "#d8576b"
            ],
            [
             0.6666666666666666,
             "#ed7953"
            ],
            [
             0.7777777777777778,
             "#fb9f3a"
            ],
            [
             0.8888888888888888,
             "#fdca26"
            ],
            [
             1,
             "#f0f921"
            ]
           ],
           "sequentialminus": [
            [
             0,
             "#0d0887"
            ],
            [
             0.1111111111111111,
             "#46039f"
            ],
            [
             0.2222222222222222,
             "#7201a8"
            ],
            [
             0.3333333333333333,
             "#9c179e"
            ],
            [
             0.4444444444444444,
             "#bd3786"
            ],
            [
             0.5555555555555556,
             "#d8576b"
            ],
            [
             0.6666666666666666,
             "#ed7953"
            ],
            [
             0.7777777777777778,
             "#fb9f3a"
            ],
            [
             0.8888888888888888,
             "#fdca26"
            ],
            [
             1,
             "#f0f921"
            ]
           ]
          },
          "colorway": [
           "#636efa",
           "#EF553B",
           "#00cc96",
           "#ab63fa",
           "#FFA15A",
           "#19d3f3",
           "#FF6692",
           "#B6E880",
           "#FF97FF",
           "#FECB52"
          ],
          "font": {
           "color": "#2a3f5f"
          },
          "geo": {
           "bgcolor": "white",
           "lakecolor": "white",
           "landcolor": "#E5ECF6",
           "showlakes": true,
           "showland": true,
           "subunitcolor": "white"
          },
          "hoverlabel": {
           "align": "left"
          },
          "hovermode": "closest",
          "mapbox": {
           "style": "light"
          },
          "paper_bgcolor": "white",
          "plot_bgcolor": "#E5ECF6",
          "polar": {
           "angularaxis": {
            "gridcolor": "white",
            "linecolor": "white",
            "ticks": ""
           },
           "bgcolor": "#E5ECF6",
           "radialaxis": {
            "gridcolor": "white",
            "linecolor": "white",
            "ticks": ""
           }
          },
          "scene": {
           "xaxis": {
            "backgroundcolor": "#E5ECF6",
            "gridcolor": "white",
            "gridwidth": 2,
            "linecolor": "white",
            "showbackground": true,
            "ticks": "",
            "zerolinecolor": "white"
           },
           "yaxis": {
            "backgroundcolor": "#E5ECF6",
            "gridcolor": "white",
            "gridwidth": 2,
            "linecolor": "white",
            "showbackground": true,
            "ticks": "",
            "zerolinecolor": "white"
           },
           "zaxis": {
            "backgroundcolor": "#E5ECF6",
            "gridcolor": "white",
            "gridwidth": 2,
            "linecolor": "white",
            "showbackground": true,
            "ticks": "",
            "zerolinecolor": "white"
           }
          },
          "shapedefaults": {
           "line": {
            "color": "#2a3f5f"
           }
          },
          "ternary": {
           "aaxis": {
            "gridcolor": "white",
            "linecolor": "white",
            "ticks": ""
           },
           "baxis": {
            "gridcolor": "white",
            "linecolor": "white",
            "ticks": ""
           },
           "bgcolor": "#E5ECF6",
           "caxis": {
            "gridcolor": "white",
            "linecolor": "white",
            "ticks": ""
           }
          },
          "title": {
           "x": 0.05
          },
          "xaxis": {
           "automargin": true,
           "gridcolor": "white",
           "linecolor": "white",
           "ticks": "",
           "title": {
            "standoff": 15
           },
           "zerolinecolor": "white",
           "zerolinewidth": 2
          },
          "yaxis": {
           "automargin": true,
           "gridcolor": "white",
           "linecolor": "white",
           "ticks": "",
           "title": {
            "standoff": 15
           },
           "zerolinecolor": "white",
           "zerolinewidth": 2
          }
         }
        },
        "title": {
         "text": "Feature heatmap"
        },
        "xaxis": {
         "anchor": "y",
         "constrain": "domain",
         "domain": [
          0,
          1
         ],
         "scaleanchor": "y"
        },
        "yaxis": {
         "anchor": "x",
         "autorange": "reversed",
         "constrain": "domain",
         "domain": [
          0,
          1
         ]
        }
       }
      },
      "text/html": [
       "<div>                            <div id=\"99c36bef-a601-4e50-bb54-fcb32fa4953c\" class=\"plotly-graph-div\" style=\"height:525px; width:100%;\"></div>            <script type=\"text/javascript\">                require([\"plotly\"], function(Plotly) {                    window.PLOTLYENV=window.PLOTLYENV || {};                                    if (document.getElementById(\"99c36bef-a601-4e50-bb54-fcb32fa4953c\")) {                    Plotly.newPlot(                        \"99c36bef-a601-4e50-bb54-fcb32fa4953c\",                        [{\"coloraxis\":\"coloraxis\",\"name\":\"0\",\"x\":[\"0_\\u003c|user|\\u003e\",\"1_Follow\",\"2_the\",\"3_pattern\",\"4_:\",\"5_\\n\",\"6_more\",\"7_-\\u003e\",\"8_less\",\"9_\\n\",\"10_new\",\"11_-\\u003e\",\"12_old\",\"13_\\n\",\"14_accept\",\"15_-\\u003e\",\"16_reject\",\"17_\\n\",\"18_def\",\"19_end\",\"20_-\\u003e\",\"21_attack\",\"22_\\n\",\"23_odd\",\"24_-\\u003e\",\"25_even\",\"26_\\n\",\"27_dark\",\"28_-\\u003e\",\"29_light\",\"30_\\n\",\"31_inner\",\"32_-\\u003e\",\"33_outer\",\"34_\\n\",\"35_build\",\"36_-\\u003e\",\"37_destroy\",\"38_\\n\",\"39_den\",\"40_y\",\"41_-\\u003e\",\"42_admit\",\"43_\\n\",\"44_first\",\"45_-\\u003e\",\"46_last\",\"47_\\n\",\"48_ru\",\"49_de\",\"50_-\\u003e\",\"51_pol\",\"52_ite\",\"53_\\n\",\"54_ser\",\"55_ious\",\"56_-\\u003e\",\"57_fun\",\"58_ny\",\"59_\\n\",\"60_f\",\"61_ake\",\"62_-\\u003e\",\"63_real\",\"64_\\n\",\"65_private\",\"66_-\\u003e\",\"67_public\",\"68_\\n\",\"69_male\",\"70_-\\u003e\",\"71_female\",\"72_\\n\",\"73_ear\",\"74_ly\",\"75_-\\u003e\",\"76_late\",\"77_\\n\",\"78_above\",\"79_-\\u003e\",\"80_below\",\"81_\\n\",\"82_best\",\"83_-\\u003e\",\"84_worst\",\"85_\\n\",\"86_w\",\"87_et\",\"88_-\\u003e\",\"89_dry\",\"90_\\n\",\"91_g\",\"92_ive\",\"93_-\\u003e\",\"94_receive\",\"95_\\n\",\"96_bit\",\"97_ter\",\"98_-\\u003e\",\"99_sweet\",\"100_\\n\",\"101_pe\",\"102_ace\",\"103_-\\u003e\",\"104_war\",\"105_\\n\",\"106_open\",\"107_-\\u003e\",\"108_close\",\"109_\\n\",\"110_join\",\"111_-\\u003e\",\"112_separate\",\"113_\\n\",\"114_real\",\"115_-\\u003e\",\"116_fake\",\"117_\\n\",\"118_left\",\"119_-\\u003e\",\"120_right\",\"121_\\n\",\"122_bold\",\"123_-\\u003e\",\"124_tim\",\"125_id\",\"126_\\n\",\"127_la\",\"128_zy\",\"129_-\\u003e\",\"130_active\",\"131_\\n\",\"132_soft\",\"133_-\\u003e\",\"134_hard\",\"135_\\n\",\"136_la\",\"137_ugh\",\"138_-\\u003e\",\"139_cry\",\"140_\\n\",\"141_lo\",\"142_ose\",\"143_-\\u003e\",\"144_tight\",\"145_\\n\",\"146_found\",\"147_-\\u003e\",\"148_lost\",\"149_\\n\",\"150_rough\",\"151_-\\u003e\",\"152_smooth\",\"153_\\n\",\"154_ask\",\"155_-\\u003e\",\"156_answer\",\"157_\\n\",\"158_qu\",\"159_iet\",\"160_-\\u003e\",\"161_loud\",\"162_\\n\",\"163_hot\",\"164_-\\u003e\",\"165_cold\",\"166_\\n\",\"167_d\",\"168_ry\",\"169_-\\u003e\",\"170_wet\",\"171_\\n\",\"172_high\",\"173_-\\u003e\",\"174_low\",\"175_\\n\",\"176_co\",\"177_ol\",\"178_-\\u003e\"],\"y\":[\"11710\",\"15961\",\"19817\",\"15631\",\"26861\",\"6267\",\"24847\",\"36112\",\"7207\",\"15234\",\"24086\"],\"z\":[[0.0,0.0,0.0,0.0,0.0,0.0,0.0,1.019271969795227,0.0,0.0,0.0,1.1485865116119385,0.0,0.0,0.0,1.093815565109253,0.0,0.0,0.0,0.0,0.0,0.0,0.0,0.0,1.8383073806762695,0.0,0.0,0.0,2.2746522426605225,0.0,0.0,0.0,3.1556265354156494,0.0,0.0,0.0,1.4010725021362305,0.0,0.0,0.0,0.0,0.997482419013977,0.0,0.0,0.0,1.9187896251678467,0.0,0.0,0.0,0.0,1.3298194408416748,0.0,0.0,0.0,0.0,0.0,1.3859221935272217,0.0,0.0,0.0,0.0,0.0,1.8196563720703125,0.0,0.0,0.0,2.2897346019744873,0.0,0.0,0.0,0.9357200264930725,0.0,0.0,0.0,0.0,2.077963352203369,0.0,0.0,0.0,1.5617849826812744,0.0,0.0,0.0,3.0882811546325684,0.0,0.0,0.0,0.0,2.1784796714782715,0.0,0.0,0.0,0.0,1.3689563274383545,0.0,0.0,0.0,0.0,2.1009387969970703,0.0,0.0,0.0,0.0,1.0699713230133057,0.0,0.0,0.0,2.34578013420105,0.0,0.0,0.0,2.140993118286133,0.0,0.0,0.0,3.127462148666382,0.0,0.0,0.0,2.802121639251709,0.0,0.0,0.0,1.9961061477661133,0.0,0.0,0.0,0.0,0.0,1.8875248432159424,0.0,0.0,0.0,1.8061292171478271,0.0,0.0,0.0,0.0,0.0,0.0,0.0,0.0,0.0,2.1630561351776123,0.0,0.0,0.0,2.5354959964752197,0.0,0.0,0.0,1.9737915992736816,0.0,0.0,0.0,0.0,0.0,0.0,0.0,0.0,1.4618889093399048,0.0,0.0,0.0,1.631913185119629,0.0,0.0,0.0,0.0,1.4272098541259766,0.0,0.0,0.0,2.1371383666992188,0.0,0.0,0.0,0.0,2.23513126373291],[0.0,0.0,0.0,0.0,0.0,0.0,0.0,1.2462735176086426,0.0,1.0937529802322388,0.0,0.0,0.0,0.0,0.0,1.0709493160247803,0.0,0.0,0.0,0.0,1.2754244804382324,0.0,0.0,0.0,1.2705674171447754,0.0,0.0,0.0,1.6758791208267212,0.0,0.0,0.0,1.472381591796875,0.0,0.0,0.0,1.1794825792312622,0.0,0.0,0.0,0.0,0.0,0.0,0.0,0.0,1.5935313701629639,0.0,0.0,0.0,0.0,1.4544278383255005,0.0,0.0,0.0,0.0,0.0,0.0,0.0,0.0,0.0,0.0,0.0,0.0,0.0,0.0,0.0,1.1119786500930786,0.0,0.0,0.0,0.0,0.0,0.0,0.0,0.0,1.1789811849594116,0.0,0.0,0.0,1.1287966966629028,0.0,0.0,0.0,1.1038354635238647,0.0,0.0,0.0,0.0,1.1024959087371826,0.0,0.0,0.0,0.0,1.0498292446136475,0.0,0.0,0.0,0.0,0.0,0.0,0.0,0.0,0.0,1.3146820068359375,0.0,0.0,0.0,1.3086543083190918,0.0,0.0,0.0,0.8159133195877075,0.0,0.0,0.0,0.0,0.0,0.0,0.0,0.0,0.0,0.0,0.0,0.9726917743682861,0.0,0.0,0.0,0.0,0.0,0.0,0.0,0.0,0.0,0.0,0.0,0.0,0.0,0.0,0.0,0.0,0.0,0.0,0.0,0.0,0.0,0.0,0.0,0.0,0.0,0.0,0.0,0.0,0.0,0.0,0.0,0.0,0.0,0.0,0.0,0.0,0.0,0.0,0.0,0.0,1.216883659362793,0.0,0.0,0.0,0.0,0.0,0.0,0.0,0.0,0.0,0.0,0.0,0.0,0.0,0.0],[0.0,0.0,0.0,0.0,0.0,0.0,0.0,1.2043657302856445,0.0,2.1869702339172363,0.0,3.0826141834259033,0.0,4.974096298217773,0.0,4.299530982971191,0.0,3.5726876258850098,0.0,0.0,4.822109222412109,0.0,3.336684465408325,0.0,3.906998872756958,0.0,3.939601182937622,0.0,4.2658796310424805,0.0,3.8926901817321777,0.0,4.293717861175537,0.0,5.405450820922852,0.0,5.3503546714782715,0.0,5.770561218261719,0.9198908805847168,0.0,6.083713531494141,0.0,5.901467800140381,0.0,4.829104900360107,0.0,5.7218194007873535,0.0,0.0,5.418839931488037,0.0,0.0,5.872096538543701,1.3905344009399414,0.0,5.718029499053955,0.0,0.0,5.873395919799805,3.285310745239258,0.0,5.419783592224121,0.0,5.98079252243042,0.0,5.11692476272583,0.0,5.853574275970459,0.0,4.066664695739746,0.0,4.7838134765625,0.0,0.0,5.076578617095947,0.0,6.2080535888671875,0.0,3.9475650787353516,0.0,5.8536810874938965,0.0,4.431070327758789,0.0,6.568472385406494,2.5152878761291504,0.0,5.205949783325195,0.0,6.116516590118408,2.083209991455078,0.0,4.9284844398498535,0.0,5.75557804107666,0.0,0.0,5.063259124755859,0.0,6.611364841461182,1.2438969612121582,0.0,4.201169013977051,0.0,5.491449356079102,0.0,4.630828857421875,0.0,6.784754753112793,0.0,5.359554290771484,0.0,6.260011196136475,0.0,4.1310296058654785,0.0,4.682773590087891,0.0,4.795212745666504,0.0,6.3719377517700195,0.0,5.1191887855529785,0.0,0.0,5.518551826477051,2.322192907333374,0.0,6.082359313964844,0.0,6.414093971252441,0.0,5.481183052062988,0.0,6.2393975257873535,3.051750421524048,0.0,4.69374942779541,0.0,5.018988609313965,1.9596259593963623,0.0,5.532444477081299,0.0,7.01572322845459,0.0,5.513854503631592,0.0,6.27310037612915,0.0,5.457451820373535,0.0,6.865252494812012,0.0,5.520308017730713,0.0,5.6801981925964355,1.0882055759429932,0.0,4.994981288909912,0.0,6.976545333862305,0.0,4.876518726348877,0.0,6.509797096252441,2.314018487930298,0.0,4.404993057250977,0.0,5.154755592346191,0.0,3.4606411457061768,0.0,5.961146831512451,1.1035068035125732,0.0,4.638773441314697],[0.0,0.0,0.0,0.0,0.0,0.0,0.0,0.0,0.0,0.0,0.0,0.0,0.0,0.0,0.0,0.0,0.0,0.0,0.0,0.0,0.0,0.0,0.0,0.0,0.0,0.0,0.0,0.0,0.0,0.0,0.0,0.0,0.0,0.0,0.0,0.0,1.243828296661377,0.0,0.0,0.0,0.0,1.1906405687332153,0.0,0.0,0.0,0.0,0.0,0.0,0.0,0.0,1.039617657661438,0.0,0.0,0.0,0.0,0.0,0.0,0.0,0.0,0.0,0.0,0.0,1.4115797281265259,0.0,0.0,0.0,1.2347806692123413,0.0,0.0,0.0,1.067457914352417,0.0,0.0,0.0,0.0,0.0,0.0,0.0,0.0,0.0,0.0,0.0,0.0,0.0,0.0,0.0,0.0,0.0,1.3766151666641235,0.0,0.0,0.0,0.0,1.1923625469207764,0.0,0.0,0.0,0.0,1.0335423946380615,0.0,0.0,0.0,0.0,1.0919898748397827,0.0,0.0,0.0,1.0462933778762817,0.0,0.0,0.0,1.6325531005859375,0.0,0.0,0.0,0.9171206951141357,0.0,0.0,0.0,0.966363787651062,0.0,0.0,0.0,1.4156954288482666,0.0,0.0,0.0,0.0,0.0,1.1916005611419678,0.0,0.0,0.0,0.0,0.0,0.0,0.0,0.0,1.4527819156646729,0.0,0.0,0.0,0.0,1.1352565288543701,0.0,0.0,0.0,1.5305657386779785,0.0,0.0,0.0,0.0,0.0,0.0,0.0,1.267327070236206,0.0,0.0,0.0,0.0,0.9643032550811768,0.0,0.0,0.0,1.0429283380508423,0.0,0.0,0.0,0.0,0.0,0.0,0.0,0.0,0.0,0.0,0.0,0.0,0.0,1.1741409301757812],[0.0,0.0,0.0,0.0,0.0,0.0,0.0,0.0,0.0,0.0,0.0,0.0,0.0,0.0,0.0,0.0,0.0,0.0,0.0,0.0,0.0,0.0,0.0,0.0,0.7893755435943604,1.3007678985595703,0.0,0.0,0.0,0.0,0.0,0.0,0.9656587839126587,1.4885203838348389,0.0,0.0,0.0,0.0,0.0,0.0,0.0,0.8337242603302002,0.0,0.0,0.0,0.9506821632385254,0.0,0.0,0.0,0.0,0.0,0.0,0.0,0.0,0.0,0.0,0.0,0.0,0.0,0.0,0.0,0.0,0.7838871479034424,0.0,0.0,0.0,0.0,0.0,0.0,0.0,0.7766398191452026,1.5151479244232178,0.0,0.0,0.0,1.4643863439559937,0.0,0.0,0.0,1.7548511028289795,0.0,0.0,0.0,1.2203905582427979,0.0,0.0,0.0,0.0,1.7353042364120483,0.0,0.0,0.0,0.0,0.0,0.0,0.0,0.0,0.0,1.708778738975525,0.0,0.0,0.0,0.0,0.0,0.0,0.0,0.0,0.7271789312362671,0.0,0.0,0.0,0.0,0.0,0.0,0.0,1.0034586191177368,0.0,0.0,0.0,1.3289848566055298,0.0,0.0,0.0,1.0968927145004272,0.0,0.0,0.0,0.0,0.0,1.0137959718704224,0.0,0.0,0.0,0.0,0.0,0.0,0.0,0.0,0.0,0.0,0.0,0.0,0.0,0.9156004786491394,0.0,0.0,0.0,0.0,0.0,0.0,0.0,0.9789612293243408,0.0,0.0,0.0,0.0,0.0,0.0,0.0,0.0,0.8802174925804138,0.7930974960327148,0.0,0.0,0.987054705619812,0.0,0.0,0.0,0.0,1.091187596321106,0.0,0.0,0.0,1.0602620840072632,1.263386845588684,0.0,0.0,0.0,0.9940747022628784],[0.0,3.953812599182129,5.187243938446045,2.8599109649658203,4.790626525878906,4.63775634765625,2.370720148086548,2.7612087726593018,4.9752960205078125,1.9518393278121948,2.847301959991455,1.5745186805725098,4.560606956481934,2.5166478157043457,4.32100248336792,0.0,3.933647394180298,2.168247938156128,2.806711435317993,6.520565032958984,1.2668505907058716,6.238941192626953,2.3284263610839844,2.7188546657562256,1.6144092082977295,2.946418523788452,2.6379268169403076,4.43269681930542,1.7096433639526367,4.627427577972412,2.9273300170898438,5.73278284072876,1.9323444366455078,6.3977789878845215,3.9120736122131348,7.904317855834961,2.993215799331665,7.672098636627197,4.2423601150512695,5.573904037475586,9.063276290893555,3.5028908252716064,8.462677955627441,4.353914260864258,9.113299369812012,4.180978298187256,8.989879608154297,5.200366020202637,5.304154872894287,5.971261978149414,1.815895676612854,6.108763217926025,8.40615177154541,3.9908788204193115,3.0691683292388916,6.373316764831543,2.3101866245269775,4.675380229949951,6.240257740020752,3.7157201766967773,3.864809274673462,4.723813056945801,2.3181207180023193,6.419092655181885,3.1898748874664307,7.1900458335876465,3.8097763061523438,6.787400722503662,4.093079566955566,6.774510383605957,3.7004339694976807,5.59422492980957,4.273891925811768,4.829616069793701,7.642211437225342,3.8616769313812256,8.56588363647461,4.53134298324585,7.547173500061035,4.133816719055176,8.64424991607666,4.665309906005859,8.855387687683105,4.302525997161865,9.04063892364502,4.943781852722168,4.963257789611816,7.09512996673584,3.304396152496338,7.2993364334106445,4.200417995452881,3.6529769897460938,8.335240364074707,5.083985328674316,7.884485721588135,5.398458003997803,3.9965083599090576,4.609434127807617,1.5064142942428589,5.80029296875,2.6456282138824463,2.861802577972412,8.01960563659668,4.811017036437988,10.65479850769043,4.885500907897949,5.03458833694458,4.097461700439453,7.781080722808838,4.614894866943359,9.388520240783691,5.460400104522705,9.070613861083984,5.83122444152832,6.087133884429932,4.272731304168701,5.710580348968506,4.457066535949707,7.1526360511779785,5.230788230895996,6.844217300415039,4.49124813079834,6.891176223754883,2.7090437412261963,5.078979015350342,6.868229389190674,3.547086238861084,5.361680507659912,7.029566287994385,3.8517467975616455,9.258562088012695,3.7257800102233887,3.860041856765747,3.283435344696045,5.101698398590088,2.8166446685791016,5.231481075286865,7.453075885772705,4.51520299911499,9.198769569396973,4.275859832763672,4.805948257446289,4.448760986328125,3.6785924434661865,6.6600213050842285,3.3475043773651123,7.723769664764404,5.166420936584473,8.961625099182129,4.730010032653809,3.022012948989868,1.8025667667388916,3.9170117378234863,2.6987175941467285,6.4551167488098145,4.1145920753479,8.240021705627441,3.945537567138672,2.877601146697998,6.573807716369629,4.133246421813965,7.0100998878479,3.836261510848999,5.3302836418151855,3.465435743331909,5.523324012756348,3.573404312133789,4.68522310256958,7.603708744049072,6.031116008758545,8.649017333984375,4.675782203674316,7.718891143798828,5.716012477874756,8.363204956054688,4.8202290534973145,4.778222560882568,5.430146217346191,3.6891584396362305],[0.0,0.0,0.0,0.0,0.0,0.0,0.0,0.0,2.6990833282470703,0.0,4.294712543487549,0.7022404670715332,7.929566860198975,0.0,6.641118049621582,2.481328010559082,8.742920875549316,0.0,3.287384033203125,6.470661640167236,2.5287094116210938,8.963274002075195,0.0,4.72117805480957,3.1664834022521973,7.314379692077637,0.0,4.333303451538086,3.3128886222839355,7.362754821777344,0.0,3.3774843215942383,3.1764941215515137,8.134054183959961,0.0,3.880795478820801,3.234236717224121,8.170119285583496,0.0,2.9280710220336914,4.493842124938965,3.534412384033203,8.854379653930664,0.0,1.707249402999878,3.981283187866211,7.071170806884766,0.0,3.0951266288757324,6.093671798706055,4.753713130950928,10.692411422729492,8.9072265625,0.0,4.905767440795898,9.65450668334961,6.172658920288086,12.229423522949219,11.358845710754395,0.8296787738800049,3.491182327270508,8.523453712463379,5.1345438957214355,9.85982608795166,1.8818289041519165,7.245638370513916,6.238760948181152,10.536110877990723,1.3115873336791992,4.15631103515625,4.600678443908691,8.3601713180542,0.9041298627853394,3.8816380500793457,5.018457889556885,3.398266315460205,7.773954391479492,0.7653818130493164,3.1012978553771973,3.2914719581604004,6.27077054977417,0.0,5.010602951049805,4.829032897949219,9.744304656982422,1.7682445049285889,3.8147025108337402,6.187170505523682,6.332787036895752,8.389253616333008,1.601375699043274,2.899346351623535,3.072260856628418,4.508602142333984,9.652482032775879,1.3007749319076538,3.5921173095703125,9.225045204162598,5.433108806610107,11.76718521118164,2.8315296173095703,5.013418674468994,8.174107551574707,7.30932092666626,11.24290943145752,3.0765271186828613,5.075497150421143,4.8431172370910645,7.131221294403076,1.350553035736084,3.3418030738830566,5.018514633178711,7.276905059814453,0.0,2.5176305770874023,3.546387195587158,6.228073596954346,0.0,2.8309011459350586,4.320188999176025,6.982840061187744,0.0,4.894850730895996,4.448684215545654,7.896754264831543,8.582345008850098,0.0,3.2452540397644043,6.445184707641602,7.284946441650391,9.986343383789062,1.088256597518921,8.139567375183105,7.769708156585693,11.867663383483887,2.4681692123413086,3.5914697647094727,6.360324382781982,5.535254955291748,11.474656105041504,2.113297462463379,5.308068752288818,7.55747127532959,5.95851993560791,10.210756301879883,1.3698073625564575,2.039055347442627,5.08534574508667,8.3346529006958,1.5014808177947998,7.139632701873779,7.4919047355651855,9.786231994628906,2.3981995582580566,2.6399073600769043,5.6326069831848145,8.100482940673828,1.3802884817123413,3.039726734161377,6.485365867614746,5.937682151794434,9.432865142822266,1.4617213010787964,7.547748565673828,7.816106796264648,10.221822738647461,2.44203519821167,3.3550238609313965,5.848164081573486,5.040557384490967,6.375113010406494,0.6009558439254761,5.451798439025879,5.50501012802124,8.626856803894043,2.2611794471740723,4.519753932952881,7.495233058929443,7.007078647613525],[0.0,0.0,0.0,0.0,0.0,0.0,0.0,1.296649694442749,0.0,0.0,0.0,0.0,0.0,0.0,0.0,0.0,0.0,0.0,0.0,0.0,0.0,0.0,0.0,0.0,0.0,0.0,0.0,0.0,0.0,0.0,0.0,0.0,2.1080784797668457,0.0,0.0,0.0,1.806908130645752,0.0,0.0,0.0,0.0,0.0,0.0,0.0,0.0,2.3909621238708496,0.0,0.0,0.0,0.0,0.0,0.0,0.0,0.0,0.0,0.0,0.0,0.0,0.0,0.0,0.0,0.0,0.0,0.0,0.0,0.0,0.0,0.0,0.0,0.0,0.0,0.0,0.0,0.0,0.0,0.9733082056045532,0.0,0.0,0.0,2.754364013671875,0.0,0.0,0.0,0.9118256568908691,0.0,0.0,0.0,0.0,0.0,0.0,0.0,0.0,0.0,2.0646395683288574,0.0,0.0,0.0,0.0,0.0,0.0,0.0,0.0,0.0,0.0,0.0,0.0,0.0,1.6709994077682495,0.0,0.0,0.0,2.159432888031006,0.0,0.0,0.0,0.0,0.0,0.0,0.0,1.9931036233901978,0.0,0.0,0.0,0.0,0.0,0.0,0.0,0.0,0.0,0.0,0.0,0.0,0.0,1.0295895338058472,0.0,0.0,0.0,0.0,0.0,0.0,0.0,0.0,0.0,0.0,0.0,0.0,0.0,1.8189303874969482,0.0,0.0,0.0,0.0,0.0,0.0,0.0,1.0973403453826904,0.0,0.0,0.0,0.0,0.0,0.0,0.0,0.0,0.8977722525596619,0.0,0.0,0.0,0.0,0.0,0.0,0.0,0.0,1.3160072565078735,0.0,0.0,0.0,0.0,0.0],[0.0,0.0,0.0,0.0,0.0,0.0,0.0,0.0,0.0,0.0,0.0,0.0,0.0,0.0,0.0,0.0,0.0,0.0,0.0,0.0,0.0,0.0,0.0,0.0,0.0,0.0,0.0,0.0,0.0,0.0,0.0,0.0,1.2805523872375488,0.0,0.0,0.0,0.0,0.0,0.0,0.0,0.0,1.3983678817749023,0.0,0.0,0.0,0.0,0.0,0.0,0.0,0.0,1.51084566116333,0.0,0.0,0.0,0.0,0.0,1.5028154850006104,0.0,0.0,0.0,0.0,0.0,1.2359888553619385,0.0,0.0,0.0,0.0,0.0,0.0,0.0,0.0,0.0,0.0,0.0,0.0,0.0,0.0,0.0,0.0,1.082209587097168,0.0,0.0,0.0,1.3070948123931885,0.0,0.0,0.0,0.0,0.0,0.0,0.0,0.0,0.0,1.3938608169555664,0.0,0.0,0.0,0.0,1.2331445217132568,0.0,0.0,0.0,0.0,1.132277011871338,0.0,0.0,0.0,0.0,0.0,0.0,0.0,1.2733441591262817,0.0,0.0,0.0,0.0,0.0,0.0,0.0,0.0,0.0,0.0,0.0,1.1964826583862305,0.0,0.0,0.0,0.0,0.0,1.4807870388031006,0.0,0.0,0.0,1.0585638284683228,0.0,0.0,0.0,0.0,1.3677157163619995,0.0,0.0,0.0,0.0,2.031161308288574,0.0,0.0,0.0,1.2840410470962524,0.0,0.0,0.0,1.1394116878509521,0.0,0.0,0.0,0.0,0.0,0.0,0.0,0.0,1.2106995582580566,0.0,0.0,0.0,0.0,0.0,0.0,0.0,0.0,0.0,0.0,0.0,0.0,0.0,0.0,0.0,0.0,0.0,1.2476876974105835],[0.0,0.0,1.1212903261184692,0.9216587543487549,0.49446022510528564,3.6095709800720215,0.0,0.31054145097732544,0.0,1.6593780517578125,0.0,2.088876247406006,1.0967665910720825,2.2912981510162354,0.677697479724884,2.3475828170776367,0.794737696647644,3.7699801921844482,0.0,0.0,2.5869603157043457,0.0,3.132636547088623,0.6883164048194885,2.138842821121216,1.5919610261917114,3.670489549636841,0.0,1.2449982166290283,0.0,3.0895538330078125,0.0,0.9530792236328125,0.512880802154541,2.397820234298706,0.0,1.2511454820632935,0.0,1.748230218887329,0.0,0.0,1.827026605606079,0.0,2.8034989833831787,0.8260802626609802,1.99112868309021,0.0,2.454165458679199,1.2123899459838867,0.20231899619102478,2.135744333267212,1.6090489625930786,1.054489254951477,2.4276487827301025,1.3027546405792236,2.20145845413208,3.5985000133514404,0.8780887722969055,1.5914210081100464,3.160444498062134,2.3242061138153076,1.2155494689941406,2.925400733947754,1.5325684547424316,2.1707441806793213,0.0,1.5226861238479614,0.0,1.8616713285446167,0.7497814297676086,2.796048879623413,2.1322474479675293,2.3749873638153076,0.0,0.24444305896759033,1.8646565675735474,0.23185423016548157,1.5647337436676025,0.0,0.8078228831291199,0.0,0.4567596912384033,0.0,0.5890825390815735,0.0,0.896514892578125,1.905749797821045,0.0,1.054317831993103,0.0,0.0,1.5140740871429443,0.0,0.48525846004486084,0.0,0.0,0.0,0.0,1.445807933807373,0.0,0.383297324180603,0.9962437748908997,0.0,1.0618504285812378,0.0,0.0,0.0,0.7684902548789978,0.0,0.40759962797164917,0.0,0.48422402143478394,0.0,0.29167842864990234,0.0,0.22206544876098633,0.0,0.0,0.0,0.7625769972801208,0.0,0.6646656394004822,0.0,1.4720380306243896,0.0,0.0,0.41458290815353394,0.8535761833190918,0.0,2.4060869216918945,0.0,0.0,0.0,0.5943383574485779,0.0,0.0,3.2273690700531006,0.0,0.0,0.0,0.0,1.6288108825683594,0.0,1.661441445350647,0.0,0.3796401619911194,0.0,0.0,0.0,0.0,0.0,2.1291699409484863,0.0,0.9540101289749146,0.0,0.4314494729042053,0.0,0.0,0.8127772808074951,0.0,1.9902788400650024,0.0,0.0,0.0,1.1844943761825562,0.0,0.0,1.5535446405410767,0.0,0.0,0.0,0.0,0.0,1.6537998914718628,0.37600791454315186,0.23932775855064392,1.334653615951538,0.0,2.5517172813415527],[0.0,0.0,0.0,0.0,0.5437440872192383,1.240675926208496,0.0,0.0,0.0,0.9869775772094727,0.0,1.7944871187210083,2.104369878768921,1.960344672203064,2.4328932762145996,3.2078330516815186,4.276218891143799,3.2842495441436768,2.6593494415283203,1.533323049545288,4.397402286529541,4.425812244415283,3.983168840408325,0.0,2.0292434692382812,1.6526679992675781,3.5289552211761475,1.1691945791244507,4.182696342468262,4.488980770111084,3.7936253547668457,0.0,3.6194865703582764,0.5655343532562256,2.6294257640838623,2.692453622817993,5.972621917724609,5.562237739562988,3.9332518577575684,2.436687469482422,2.9872119426727295,6.418595314025879,5.749208927154541,5.057798385620117,2.4465432167053223,4.068706035614014,2.9083375930786133,3.731950044631958,2.4964375495910645,1.418256402015686,4.689622402191162,2.7580087184906006,2.7939436435699463,4.080021381378174,2.4842069149017334,2.6762046813964844,5.475841999053955,3.2144312858581543,3.923675537109375,5.0399370193481445,1.99385666847229,3.1827590465545654,5.035033226013184,5.582029342651367,4.6723952293396,1.7873953580856323,4.443157196044922,4.301823139190674,4.541891574859619,0.0,3.3298115730285645,1.286867380142212,3.662191152572632,0.588056743144989,0.5490145683288574,3.678382396697998,3.260002374649048,4.2126288414001465,3.2644431591033936,5.9021430015563965,3.6212375164031982,4.744374752044678,4.893186092376709,6.234457969665527,6.318475723266602,5.741065979003906,3.0509555339813232,2.236435890197754,4.698061466217041,4.8618059158325195,4.697821140289307,2.9745843410491943,4.861663341522217,5.915428638458252,6.512111663818359,5.475268363952637,1.5811868906021118,2.1284635066986084,5.119268894195557,5.270964622497559,5.3393754959106445,1.4420052766799927,4.55822229385376,6.4999613761901855,5.8122663497924805,5.8126325607299805,2.981367349624634,5.3467583656311035,5.1375579833984375,4.852969646453857,2.995147705078125,6.184438228607178,4.195666790008545,4.220904350280762,6.044920444488525,7.956059455871582,7.0238752365112305,6.9755167961120605,1.9726524353027344,3.394437074661255,3.2393534183502197,3.780621290206909,1.9023162126541138,5.307218551635742,1.4623366594314575,2.6015429496765137,4.155925750732422,1.35745370388031,0.0,2.3043317794799805,0.48230740427970886,2.740121841430664,1.6196178197860718,3.976083278656006,3.1101768016815186,2.7922890186309814,0.0,0.8251656293869019,4.180481433868408,1.1090725660324097,3.1408984661102295,1.1195865869522095,0.9766398668289185,3.41233229637146,1.974979043006897,2.7730374336242676,2.773545742034912,4.404755115509033,2.230947494506836,2.710993766784668,2.039262294769287,4.123793125152588,3.659285306930542,3.3327572345733643,2.5987167358398438,5.153071880340576,5.050689697265625,3.7995686531066895,4.142317295074463,2.563065528869629,4.6820549964904785,4.143085956573486,4.304765224456787,2.7006921768188477,5.20143461227417,4.1970438957214355,3.9171624183654785,3.3217110633850098,3.7588226795196533,6.276958465576172,5.638725280761719,4.910499095916748,2.636337995529175,4.640876770019531,3.2836875915527344,4.109055995941162,3.2797598838806152,4.038115501403809,6.038700580596924]],\"type\":\"heatmap\",\"xaxis\":\"x\",\"yaxis\":\"y\",\"hovertemplate\":\"x: %{x}\\u003cbr\\u003ey: %{y}\\u003cbr\\u003ecolor: %{z}\\u003cextra\\u003e\\u003c\\u002fextra\\u003e\"}],                        {\"template\":{\"data\":{\"histogram2dcontour\":[{\"type\":\"histogram2dcontour\",\"colorbar\":{\"outlinewidth\":0,\"ticks\":\"\"},\"colorscale\":[[0.0,\"#0d0887\"],[0.1111111111111111,\"#46039f\"],[0.2222222222222222,\"#7201a8\"],[0.3333333333333333,\"#9c179e\"],[0.4444444444444444,\"#bd3786\"],[0.5555555555555556,\"#d8576b\"],[0.6666666666666666,\"#ed7953\"],[0.7777777777777778,\"#fb9f3a\"],[0.8888888888888888,\"#fdca26\"],[1.0,\"#f0f921\"]]}],\"choropleth\":[{\"type\":\"choropleth\",\"colorbar\":{\"outlinewidth\":0,\"ticks\":\"\"}}],\"histogram2d\":[{\"type\":\"histogram2d\",\"colorbar\":{\"outlinewidth\":0,\"ticks\":\"\"},\"colorscale\":[[0.0,\"#0d0887\"],[0.1111111111111111,\"#46039f\"],[0.2222222222222222,\"#7201a8\"],[0.3333333333333333,\"#9c179e\"],[0.4444444444444444,\"#bd3786\"],[0.5555555555555556,\"#d8576b\"],[0.6666666666666666,\"#ed7953\"],[0.7777777777777778,\"#fb9f3a\"],[0.8888888888888888,\"#fdca26\"],[1.0,\"#f0f921\"]]}],\"heatmap\":[{\"type\":\"heatmap\",\"colorbar\":{\"outlinewidth\":0,\"ticks\":\"\"},\"colorscale\":[[0.0,\"#0d0887\"],[0.1111111111111111,\"#46039f\"],[0.2222222222222222,\"#7201a8\"],[0.3333333333333333,\"#9c179e\"],[0.4444444444444444,\"#bd3786\"],[0.5555555555555556,\"#d8576b\"],[0.6666666666666666,\"#ed7953\"],[0.7777777777777778,\"#fb9f3a\"],[0.8888888888888888,\"#fdca26\"],[1.0,\"#f0f921\"]]}],\"heatmapgl\":[{\"type\":\"heatmapgl\",\"colorbar\":{\"outlinewidth\":0,\"ticks\":\"\"},\"colorscale\":[[0.0,\"#0d0887\"],[0.1111111111111111,\"#46039f\"],[0.2222222222222222,\"#7201a8\"],[0.3333333333333333,\"#9c179e\"],[0.4444444444444444,\"#bd3786\"],[0.5555555555555556,\"#d8576b\"],[0.6666666666666666,\"#ed7953\"],[0.7777777777777778,\"#fb9f3a\"],[0.8888888888888888,\"#fdca26\"],[1.0,\"#f0f921\"]]}],\"contourcarpet\":[{\"type\":\"contourcarpet\",\"colorbar\":{\"outlinewidth\":0,\"ticks\":\"\"}}],\"contour\":[{\"type\":\"contour\",\"colorbar\":{\"outlinewidth\":0,\"ticks\":\"\"},\"colorscale\":[[0.0,\"#0d0887\"],[0.1111111111111111,\"#46039f\"],[0.2222222222222222,\"#7201a8\"],[0.3333333333333333,\"#9c179e\"],[0.4444444444444444,\"#bd3786\"],[0.5555555555555556,\"#d8576b\"],[0.6666666666666666,\"#ed7953\"],[0.7777777777777778,\"#fb9f3a\"],[0.8888888888888888,\"#fdca26\"],[1.0,\"#f0f921\"]]}],\"surface\":[{\"type\":\"surface\",\"colorbar\":{\"outlinewidth\":0,\"ticks\":\"\"},\"colorscale\":[[0.0,\"#0d0887\"],[0.1111111111111111,\"#46039f\"],[0.2222222222222222,\"#7201a8\"],[0.3333333333333333,\"#9c179e\"],[0.4444444444444444,\"#bd3786\"],[0.5555555555555556,\"#d8576b\"],[0.6666666666666666,\"#ed7953\"],[0.7777777777777778,\"#fb9f3a\"],[0.8888888888888888,\"#fdca26\"],[1.0,\"#f0f921\"]]}],\"mesh3d\":[{\"type\":\"mesh3d\",\"colorbar\":{\"outlinewidth\":0,\"ticks\":\"\"}}],\"scatter\":[{\"fillpattern\":{\"fillmode\":\"overlay\",\"size\":10,\"solidity\":0.2},\"type\":\"scatter\"}],\"parcoords\":[{\"type\":\"parcoords\",\"line\":{\"colorbar\":{\"outlinewidth\":0,\"ticks\":\"\"}}}],\"scatterpolargl\":[{\"type\":\"scatterpolargl\",\"marker\":{\"colorbar\":{\"outlinewidth\":0,\"ticks\":\"\"}}}],\"bar\":[{\"error_x\":{\"color\":\"#2a3f5f\"},\"error_y\":{\"color\":\"#2a3f5f\"},\"marker\":{\"line\":{\"color\":\"#E5ECF6\",\"width\":0.5},\"pattern\":{\"fillmode\":\"overlay\",\"size\":10,\"solidity\":0.2}},\"type\":\"bar\"}],\"scattergeo\":[{\"type\":\"scattergeo\",\"marker\":{\"colorbar\":{\"outlinewidth\":0,\"ticks\":\"\"}}}],\"scatterpolar\":[{\"type\":\"scatterpolar\",\"marker\":{\"colorbar\":{\"outlinewidth\":0,\"ticks\":\"\"}}}],\"histogram\":[{\"marker\":{\"pattern\":{\"fillmode\":\"overlay\",\"size\":10,\"solidity\":0.2}},\"type\":\"histogram\"}],\"scattergl\":[{\"type\":\"scattergl\",\"marker\":{\"colorbar\":{\"outlinewidth\":0,\"ticks\":\"\"}}}],\"scatter3d\":[{\"type\":\"scatter3d\",\"line\":{\"colorbar\":{\"outlinewidth\":0,\"ticks\":\"\"}},\"marker\":{\"colorbar\":{\"outlinewidth\":0,\"ticks\":\"\"}}}],\"scattermapbox\":[{\"type\":\"scattermapbox\",\"marker\":{\"colorbar\":{\"outlinewidth\":0,\"ticks\":\"\"}}}],\"scatterternary\":[{\"type\":\"scatterternary\",\"marker\":{\"colorbar\":{\"outlinewidth\":0,\"ticks\":\"\"}}}],\"scattercarpet\":[{\"type\":\"scattercarpet\",\"marker\":{\"colorbar\":{\"outlinewidth\":0,\"ticks\":\"\"}}}],\"carpet\":[{\"aaxis\":{\"endlinecolor\":\"#2a3f5f\",\"gridcolor\":\"white\",\"linecolor\":\"white\",\"minorgridcolor\":\"white\",\"startlinecolor\":\"#2a3f5f\"},\"baxis\":{\"endlinecolor\":\"#2a3f5f\",\"gridcolor\":\"white\",\"linecolor\":\"white\",\"minorgridcolor\":\"white\",\"startlinecolor\":\"#2a3f5f\"},\"type\":\"carpet\"}],\"table\":[{\"cells\":{\"fill\":{\"color\":\"#EBF0F8\"},\"line\":{\"color\":\"white\"}},\"header\":{\"fill\":{\"color\":\"#C8D4E3\"},\"line\":{\"color\":\"white\"}},\"type\":\"table\"}],\"barpolar\":[{\"marker\":{\"line\":{\"color\":\"#E5ECF6\",\"width\":0.5},\"pattern\":{\"fillmode\":\"overlay\",\"size\":10,\"solidity\":0.2}},\"type\":\"barpolar\"}],\"pie\":[{\"automargin\":true,\"type\":\"pie\"}]},\"layout\":{\"autotypenumbers\":\"strict\",\"colorway\":[\"#636efa\",\"#EF553B\",\"#00cc96\",\"#ab63fa\",\"#FFA15A\",\"#19d3f3\",\"#FF6692\",\"#B6E880\",\"#FF97FF\",\"#FECB52\"],\"font\":{\"color\":\"#2a3f5f\"},\"hovermode\":\"closest\",\"hoverlabel\":{\"align\":\"left\"},\"paper_bgcolor\":\"white\",\"plot_bgcolor\":\"#E5ECF6\",\"polar\":{\"bgcolor\":\"#E5ECF6\",\"angularaxis\":{\"gridcolor\":\"white\",\"linecolor\":\"white\",\"ticks\":\"\"},\"radialaxis\":{\"gridcolor\":\"white\",\"linecolor\":\"white\",\"ticks\":\"\"}},\"ternary\":{\"bgcolor\":\"#E5ECF6\",\"aaxis\":{\"gridcolor\":\"white\",\"linecolor\":\"white\",\"ticks\":\"\"},\"baxis\":{\"gridcolor\":\"white\",\"linecolor\":\"white\",\"ticks\":\"\"},\"caxis\":{\"gridcolor\":\"white\",\"linecolor\":\"white\",\"ticks\":\"\"}},\"coloraxis\":{\"colorbar\":{\"outlinewidth\":0,\"ticks\":\"\"}},\"colorscale\":{\"sequential\":[[0.0,\"#0d0887\"],[0.1111111111111111,\"#46039f\"],[0.2222222222222222,\"#7201a8\"],[0.3333333333333333,\"#9c179e\"],[0.4444444444444444,\"#bd3786\"],[0.5555555555555556,\"#d8576b\"],[0.6666666666666666,\"#ed7953\"],[0.7777777777777778,\"#fb9f3a\"],[0.8888888888888888,\"#fdca26\"],[1.0,\"#f0f921\"]],\"sequentialminus\":[[0.0,\"#0d0887\"],[0.1111111111111111,\"#46039f\"],[0.2222222222222222,\"#7201a8\"],[0.3333333333333333,\"#9c179e\"],[0.4444444444444444,\"#bd3786\"],[0.5555555555555556,\"#d8576b\"],[0.6666666666666666,\"#ed7953\"],[0.7777777777777778,\"#fb9f3a\"],[0.8888888888888888,\"#fdca26\"],[1.0,\"#f0f921\"]],\"diverging\":[[0,\"#8e0152\"],[0.1,\"#c51b7d\"],[0.2,\"#de77ae\"],[0.3,\"#f1b6da\"],[0.4,\"#fde0ef\"],[0.5,\"#f7f7f7\"],[0.6,\"#e6f5d0\"],[0.7,\"#b8e186\"],[0.8,\"#7fbc41\"],[0.9,\"#4d9221\"],[1,\"#276419\"]]},\"xaxis\":{\"gridcolor\":\"white\",\"linecolor\":\"white\",\"ticks\":\"\",\"title\":{\"standoff\":15},\"zerolinecolor\":\"white\",\"automargin\":true,\"zerolinewidth\":2},\"yaxis\":{\"gridcolor\":\"white\",\"linecolor\":\"white\",\"ticks\":\"\",\"title\":{\"standoff\":15},\"zerolinecolor\":\"white\",\"automargin\":true,\"zerolinewidth\":2},\"scene\":{\"xaxis\":{\"backgroundcolor\":\"#E5ECF6\",\"gridcolor\":\"white\",\"linecolor\":\"white\",\"showbackground\":true,\"ticks\":\"\",\"zerolinecolor\":\"white\",\"gridwidth\":2},\"yaxis\":{\"backgroundcolor\":\"#E5ECF6\",\"gridcolor\":\"white\",\"linecolor\":\"white\",\"showbackground\":true,\"ticks\":\"\",\"zerolinecolor\":\"white\",\"gridwidth\":2},\"zaxis\":{\"backgroundcolor\":\"#E5ECF6\",\"gridcolor\":\"white\",\"linecolor\":\"white\",\"showbackground\":true,\"ticks\":\"\",\"zerolinecolor\":\"white\",\"gridwidth\":2}},\"shapedefaults\":{\"line\":{\"color\":\"#2a3f5f\"}},\"annotationdefaults\":{\"arrowcolor\":\"#2a3f5f\",\"arrowhead\":0,\"arrowwidth\":1},\"geo\":{\"bgcolor\":\"white\",\"landcolor\":\"#E5ECF6\",\"subunitcolor\":\"white\",\"showland\":true,\"showlakes\":true,\"lakecolor\":\"white\"},\"title\":{\"x\":0.05},\"mapbox\":{\"style\":\"light\"}}},\"xaxis\":{\"anchor\":\"y\",\"domain\":[0.0,1.0],\"scaleanchor\":\"y\",\"constrain\":\"domain\"},\"yaxis\":{\"anchor\":\"x\",\"domain\":[0.0,1.0],\"autorange\":\"reversed\",\"constrain\":\"domain\"},\"coloraxis\":{\"colorscale\":[[0.0,\"#0d0887\"],[0.1111111111111111,\"#46039f\"],[0.2222222222222222,\"#7201a8\"],[0.3333333333333333,\"#9c179e\"],[0.4444444444444444,\"#bd3786\"],[0.5555555555555556,\"#d8576b\"],[0.6666666666666666,\"#ed7953\"],[0.7777777777777778,\"#fb9f3a\"],[0.8888888888888888,\"#fdca26\"],[1.0,\"#f0f921\"]]},\"title\":{\"text\":\"Feature heatmap\"}},                        {\"responsive\": true}                    ).then(function(){\n",
       "                            \n",
       "var gd = document.getElementById('99c36bef-a601-4e50-bb54-fcb32fa4953c');\n",
       "var x = new MutationObserver(function (mutations, observer) {{\n",
       "        var display = window.getComputedStyle(gd).display;\n",
       "        if (!display || display === 'none') {{\n",
       "            console.log([gd, 'removed!']);\n",
       "            Plotly.purge(gd);\n",
       "            observer.disconnect();\n",
       "        }}\n",
       "}});\n",
       "\n",
       "// Listen for the removal of the full notebook cells\n",
       "var notebookContainer = gd.closest('#notebook-container');\n",
       "if (notebookContainer) {{\n",
       "    x.observe(notebookContainer, {childList: true});\n",
       "}}\n",
       "\n",
       "// Listen for the clearing of the current output cell\n",
       "var outputEl = gd.closest('.output');\n",
       "if (outputEl) {{\n",
       "    x.observe(outputEl, {childList: true});\n",
       "}}\n",
       "\n",
       "                        })                };                });            </script>        </div>"
      ]
     },
     "metadata": {},
     "output_type": "display_data"
    }
   ],
   "source": [
    "px.imshow(heatmap, y = [str(x) for x in selected_features], x = token_labels, title=\"Feature heatmap\")"
   ]
  },
  {
   "cell_type": "code",
   "execution_count": 107,
   "metadata": {},
   "outputs": [
    {
     "data": {
      "application/vnd.plotly.v1+json": {
       "config": {
        "plotlyServerURL": "https://plot.ly"
       },
       "data": [
        {
         "coloraxis": "coloraxis",
         "hovertemplate": "x: %{x}<br>y: %{y}<br>color: %{z}<extra></extra>",
         "name": "0",
         "type": "heatmap",
         "x": [
          "0_<|user|>",
          "1_Follow",
          "2_the",
          "3_pattern",
          "4_:",
          "5_\n",
          "6_more",
          "7_->",
          "8_less",
          "9_\n",
          "10_new",
          "11_->",
          "12_old",
          "13_\n",
          "14_accept",
          "15_->",
          "16_reject",
          "17_\n",
          "18_def",
          "19_end",
          "20_->",
          "21_attack",
          "22_\n",
          "23_odd",
          "24_->",
          "25_even",
          "26_\n",
          "27_dark",
          "28_->",
          "29_light",
          "30_\n",
          "31_inner",
          "32_->",
          "33_outer",
          "34_\n",
          "35_build",
          "36_->",
          "37_destroy",
          "38_\n",
          "39_den",
          "40_y",
          "41_->",
          "42_admit",
          "43_\n",
          "44_first",
          "45_->",
          "46_last",
          "47_\n",
          "48_ru",
          "49_de",
          "50_->",
          "51_pol",
          "52_ite",
          "53_\n",
          "54_ser",
          "55_ious",
          "56_->",
          "57_fun",
          "58_ny",
          "59_\n",
          "60_f",
          "61_ake",
          "62_->",
          "63_real",
          "64_\n",
          "65_private",
          "66_->",
          "67_public",
          "68_\n",
          "69_male",
          "70_->",
          "71_female",
          "72_\n",
          "73_ear",
          "74_ly",
          "75_->",
          "76_late",
          "77_\n",
          "78_above",
          "79_->",
          "80_below",
          "81_\n",
          "82_best",
          "83_->",
          "84_worst",
          "85_\n",
          "86_w",
          "87_et",
          "88_->",
          "89_dry",
          "90_\n",
          "91_g",
          "92_ive",
          "93_->",
          "94_receive",
          "95_\n",
          "96_bit",
          "97_ter",
          "98_->",
          "99_sweet",
          "100_\n",
          "101_pe",
          "102_ace",
          "103_->",
          "104_war",
          "105_\n",
          "106_open",
          "107_->",
          "108_close",
          "109_\n",
          "110_join",
          "111_->",
          "112_separate",
          "113_\n",
          "114_real",
          "115_->",
          "116_fake",
          "117_\n",
          "118_left",
          "119_->",
          "120_right",
          "121_\n",
          "122_bold",
          "123_->",
          "124_tim",
          "125_id",
          "126_\n",
          "127_la",
          "128_zy",
          "129_->",
          "130_active",
          "131_\n",
          "132_soft",
          "133_->",
          "134_hard",
          "135_\n",
          "136_la",
          "137_ugh",
          "138_->",
          "139_cry",
          "140_\n",
          "141_lo",
          "142_ose",
          "143_->",
          "144_tight",
          "145_\n",
          "146_found",
          "147_->",
          "148_lost",
          "149_\n",
          "150_rough",
          "151_->",
          "152_smooth",
          "153_\n",
          "154_ask",
          "155_->",
          "156_answer",
          "157_\n",
          "158_qu",
          "159_iet",
          "160_->",
          "161_loud",
          "162_\n",
          "163_hot",
          "164_->",
          "165_cold",
          "166_\n",
          "167_d",
          "168_ry",
          "169_->",
          "170_wet",
          "171_\n",
          "172_high",
          "173_->",
          "174_low",
          "175_\n",
          "176_co",
          "177_ol",
          "178_->"
         ],
         "xaxis": "x",
         "y": [
          "46421",
          "8787",
          "48142",
          "21441",
          "48437",
          "22813",
          "47882",
          "8281",
          "45093",
          "21885",
          "1065",
          "33278"
         ],
         "yaxis": "y",
         "z": [
          [
           0,
           0,
           0,
           1.9433059692382812,
           0,
           0,
           0.9265801906585693,
           1.2925606966018677,
           3.8467893600463867,
           0,
           4.3790435791015625,
           6.12115478515625,
           7.028836250305176,
           1.7284449338912964,
           4.033493518829346,
           5.788754940032959,
           6.961647987365723,
           0,
           3.1603920459747314,
           2.333374261856079,
           4.94982385635376,
           5.770613670349121,
           1.0765633583068848,
           5.184905529022217,
           7.562376499176025,
           10.131973266601562,
           2.4615700244903564,
           2.255770683288574,
           7.805171012878418,
           7.209572792053223,
           1.7538251876831055,
           1.625880479812622,
           5.531530857086182,
           4.845163345336914,
           1.600116491317749,
           0,
           4.4675703048706055,
           4.5218119621276855,
           0,
           0,
           0,
           5.202679634094238,
           4.82118034362793,
           0,
           0,
           5.66650390625,
           5.3591508865356445,
           1.1751501560211182,
           2.2789254188537598,
           2.943960666656494,
           7.71395206451416,
           6.534158229827881,
           7.425924301147461,
           1.4345698356628418,
           4.53692626953125,
           6.3722243309021,
           10.62680721282959,
           11.86815071105957,
           12.630237579345703,
           4.843209743499756,
           4.070584297180176,
           6.416376113891602,
           8.553729057312012,
           11.26595401763916,
           4.987165451049805,
           4.535341739654541,
           9.748274803161621,
           11.373921394348145,
           4.348535060882568,
           2.4585225582122803,
           7.621269702911377,
           8.857632637023926,
           3.9401698112487793,
           3.278261184692383,
           3.590073585510254,
           7.206891059875488,
           6.926375389099121,
           4.03925085067749,
           1.2759218215942383,
           6.189150333404541,
           5.719845294952393,
           2.6518495082855225,
           4.136744022369385,
           9.385295867919922,
           11.240004539489746,
           4.600699424743652,
           3.6337523460388184,
           4.288143634796143,
           9.751608848571777,
           8.581366539001465,
           4.495519638061523,
           2.776883602142334,
           1.3110949993133545,
           5.387138843536377,
           7.697653293609619,
           2.5078284740448,
           1.277408242225647,
           5.70659875869751,
           9.007266998291016,
           11.177911758422852,
           5.126907825469971,
           3.841003894805908,
           7.35240364074707,
           10.954309463500977,
           11.465339660644531,
           6.015694618225098,
           2.524074077606201,
           7.33665657043457,
           6.300770282745361,
           3.0717556476593018,
           0,
           5.920920372009277,
           4.762754917144775,
           1.9803744554519653,
           1.400008201599121,
           8.018406867980957,
           7.913816452026367,
           2.9905691146850586,
           3.1846466064453125,
           8.14306354522705,
           7.880964279174805,
           3.572767496109009,
           1.079595923423767,
           6.813724517822266,
           4.089076042175293,
           6.754593849182129,
           3.7002475261688232,
           1.954911708831787,
           2.893157958984375,
           8.102717399597168,
           7.110380172729492,
           4.237750053405762,
           4.169346809387207,
           10.504022598266602,
           10.376558303833008,
           5.336910724639893,
           1.5938043594360352,
           3.1445815563201904,
           7.962708950042725,
           8.192453384399414,
           4.757009983062744,
           4.490789890289307,
           5.111213684082031,
           8.946450233459473,
           7.985650539398193,
           4.274095058441162,
           1.1510889530181885,
           7.03712272644043,
           7.92904806137085,
           4.399719715118408,
           6.049082279205322,
           11.20363998413086,
           12.419487953186035,
           5.701043128967285,
           0,
           6.659613609313965,
           6.171411514282227,
           3.4183826446533203,
           1.6642857789993286,
           1.3509917259216309,
           7.630135536193848,
           6.271617412567139,
           3.723245859146118,
           4.375706195831299,
           11.333383560180664,
           10.947694778442383,
           5.069258213043213,
           2.757085084915161,
           3.3250277042388916,
           9.443901062011719,
           8.426207542419434,
           4.938052654266357,
           4.531267166137695,
           9.271084785461426,
           9.830695152282715,
           5.554278373718262,
           3.3330297470092773,
           5.009076118469238,
           11.066389083862305
          ],
          [
           0,
           3.1381888389587402,
           3.155756950378418,
           0.9242322444915771,
           0,
           3.172682046890259,
           1.877722978591919,
           5.169830799102783,
           3.0572149753570557,
           0,
           3.429018020629883,
           2.897747278213501,
           3.6656060218811035,
           0.4818969964981079,
           7.308821678161621,
           3.937835931777954,
           4.269098281860352,
           1.2557698488235474,
           5.517080783843994,
           6.141549110412598,
           3.104624032974243,
           5.389033317565918,
           1.4615240097045898,
           3.97216796875,
           3.429384708404541,
           3.425563335418701,
           1.280571460723877,
           5.559698104858398,
           5.036524772644043,
           4.325507640838623,
           0.5337914228439331,
           6.442400932312012,
           4.7930731773376465,
           4.651336669921875,
           1.2540597915649414,
           5.376718997955322,
           6.437839984893799,
           3.4662935733795166,
           0,
           5.067598342895508,
           5.455564498901367,
           6.62908411026001,
           5.599093437194824,
           0.9913824796676636,
           4.44841194152832,
           7.411138534545898,
           7.496402740478516,
           2.595925807952881,
           9.151501655578613,
           5.978638172149658,
           7.409511566162109,
           7.733797073364258,
           6.191647529602051,
           1.718919038772583,
           7.479537010192871,
           8.607842445373535,
           8.472699165344238,
           11.588403701782227,
           10.726157188415527,
           2.983818292617798,
           5.001624584197998,
           8.759051322937012,
           7.875248432159424,
           8.253619194030762,
           2.6869661808013916,
           6.453146934509277,
           7.577506065368652,
           6.387387752532959,
           2.6107680797576904,
           6.903912544250488,
           5.836889266967773,
           5.237026214599609,
           1.679498314857483,
           5.861688137054443,
           5.43537712097168,
           7.342652797698975,
           5.752919673919678,
           1.5783476829528809,
           6.535950660705566,
           9.926023483276367,
           7.6267218589782715,
           2.632990598678589,
           6.875270366668701,
           9.95845890045166,
           8.559457778930664,
           2.7728166580200195,
           5.304567337036133,
           6.1025495529174805,
           7.97037410736084,
           5.901895999908447,
           1.5603188276290894,
           5.631681442260742,
           6.568813323974609,
           8.930421829223633,
           5.302392482757568,
           1.4908865690231323,
           6.224538803100586,
           6.781698226928711,
           7.747138500213623,
           5.817018985748291,
           1.5920374393463135,
           4.708377838134766,
           8.063353538513184,
           10.027817726135254,
           10.855746269226074,
           1.9552192687988281,
           4.701211929321289,
           8.33161449432373,
           6.361084461212158,
           2.2094311714172363,
           5.965637683868408,
           8.01326847076416,
           6.543608665466309,
           1.892581582069397,
           5.862344264984131,
           9.31062126159668,
           9.06424617767334,
           3.276442050933838,
           4.3806304931640625,
           6.64434814453125,
           5.707139015197754,
           1.9947960376739502,
           5.145358085632324,
           7.144982814788818,
           11.161359786987305,
           7.416624546051025,
           1.998055100440979,
           7.199012279510498,
           4.857510089874268,
           7.442873954772949,
           6.6611809730529785,
           1.4058576822280884,
           5.882822036743164,
           8.186128616333008,
           6.784446716308594,
           2.018129587173462,
           6.219133377075195,
           4.670487403869629,
           7.072659015655518,
           5.945657730102539,
           0.6800748109817505,
           5.084205627441406,
           6.259174346923828,
           7.565304756164551,
           5.379778861999512,
           0.7864620685577393,
           5.555814743041992,
           9.002655982971191,
           3.5432991981506348,
           1.2343846559524536,
           6.8870530128479,
           9.80359935760498,
           7.910674095153809,
           2.003187656402588,
           6.827825546264648,
           8.824708938598633,
           6.338835716247559,
           1.8689929246902466,
           6.7240681648254395,
           5.8338942527771,
           8.562703132629395,
           5.052370071411133,
           2.317356586456299,
           3.61967134475708,
           9.573328971862793,
           4.079527854919434,
           2.084946393966675,
           6.2144622802734375,
           5.613155364990234,
           7.774398326873779,
           6.060250282287598,
           1.5339077711105347,
           5.366402626037598,
           9.88459300994873,
           6.672163486480713,
           2.6208386421203613,
           6.969149589538574,
           7.53195858001709,
           10.416146278381348
          ],
          [
           0,
           0,
           0,
           0,
           0,
           0,
           0,
           0,
           0,
           0,
           0,
           0,
           0,
           0,
           0,
           2.4487931728363037,
           0,
           0,
           0,
           0,
           1.913179636001587,
           0,
           0,
           0,
           1.9510316848754883,
           0,
           0,
           0,
           2.6916325092315674,
           0,
           0,
           0,
           3.2084832191467285,
           0,
           0,
           0,
           2.9095726013183594,
           0,
           0,
           0,
           0,
           1.1920444965362549,
           0,
           0,
           0,
           1.6992311477661133,
           0,
           0,
           0,
           0,
           2.292231321334839,
           0,
           0,
           0,
           0,
           0,
           1.9571805000305176,
           0,
           0,
           0,
           0,
           0,
           2.1324234008789062,
           0,
           0,
           0,
           1.4742103815078735,
           0,
           0,
           0,
           2.037027597427368,
           0,
           0,
           0,
           0,
           2.4398274421691895,
           0,
           0,
           0,
           1.2641186714172363,
           0,
           0,
           0,
           2.2753548622131348,
           0,
           0,
           0,
           0,
           1.4256527423858643,
           0,
           0,
           0,
           0,
           1.5568788051605225,
           0,
           0,
           0,
           0,
           1.5669333934783936,
           0,
           0,
           0,
           0,
           2.344775915145874,
           0,
           0,
           0,
           2.387484073638916,
           0,
           0,
           0,
           1.9916834831237793,
           0,
           0,
           0,
           1.817697525024414,
           0,
           0,
           0,
           1.3321566581726074,
           0,
           0,
           0,
           1.7363214492797852,
           0,
           0,
           0,
           0,
           0,
           1.3040525913238525,
           0,
           0,
           0,
           1.7018554210662842,
           0,
           0,
           0,
           0,
           0,
           0,
           0,
           0,
           0,
           1.8526549339294434,
           0,
           0,
           0,
           2.0813939571380615,
           0,
           0,
           0,
           1.929136037826538,
           0,
           0,
           0,
           1.8699846267700195,
           0,
           0,
           0,
           0,
           1.6596693992614746,
           0,
           0,
           0,
           1.4315552711486816,
           0,
           1.1689190864562988,
           0,
           0,
           1.9908697605133057,
           0,
           0,
           0,
           1.7163355350494385,
           0,
           1.3119616508483887,
           0,
           0,
           1.3927193880081177
          ],
          [
           0,
           0,
           0,
           0,
           0,
           0,
           0,
           1.6130582094192505,
           0,
           0,
           0,
           1.530449390411377,
           0,
           0,
           0,
           0,
           0,
           0,
           0,
           0,
           1.9901349544525146,
           0,
           0,
           0,
           2.3952438831329346,
           0,
           0,
           0,
           2.5222997665405273,
           0,
           0,
           0,
           3.5677859783172607,
           0,
           0,
           0,
           2.6295504570007324,
           0,
           0,
           0,
           0,
           1.6618403196334839,
           0,
           0,
           0,
           3.0564932823181152,
           0,
           0,
           0,
           0,
           2.2466189861297607,
           0,
           0,
           0,
           0,
           0,
           3.6988565921783447,
           0,
           0,
           0,
           0,
           0,
           2.3708722591400146,
           0,
           0,
           0,
           2.9385528564453125,
           0,
           0,
           0,
           1.8821048736572266,
           0,
           0,
           0,
           0,
           2.1023082733154297,
           0,
           0,
           0,
           2.360515594482422,
           0,
           0,
           0,
           2.8810620307922363,
           0,
           0,
           0,
           0,
           2.316211462020874,
           0,
           0,
           0,
           0,
           2.4461660385131836,
           0,
           0,
           0,
           0,
           2.3081037998199463,
           0,
           0,
           0,
           0,
           3.031494617462158,
           0,
           0,
           0,
           2.634042739868164,
           0,
           0,
           0,
           2.9053688049316406,
           0,
           0,
           0,
           2.7064034938812256,
           0,
           0,
           0,
           2.2125234603881836,
           0,
           0,
           0,
           2.614258289337158,
           0,
           0,
           0,
           0,
           0,
           2.076761245727539,
           0,
           0,
           0,
           2.5996432304382324,
           0,
           0,
           0,
           0,
           3.5804638862609863,
           0,
           0,
           0,
           0,
           2.5028836727142334,
           0,
           0,
           0,
           2.0127954483032227,
           0,
           0,
           0,
           1.5171384811401367,
           0,
           0,
           0,
           1.971740961074829,
           0,
           0,
           0,
           0,
           2.6256654262542725,
           0,
           0,
           0,
           2.3617360591888428,
           0,
           0,
           0,
           0,
           2.1213583946228027,
           0,
           0,
           0,
           1.522797703742981,
           0,
           0,
           0,
           0,
           2.2718918323516846
          ],
          [
           0,
           8.024799346923828,
           11.261908531188965,
           9.45133113861084,
           7.541814804077148,
           7.609978199005127,
           9.53681468963623,
           2.848888635635376,
           9.388580322265625,
           5.654204845428467,
           10.21833610534668,
           6.533053398132324,
           12.673154830932617,
           7.971047401428223,
           12.196584701538086,
           6.011566638946533,
           11.3262357711792,
           7.294480323791504,
           8.173916816711426,
           12.347326278686523,
           4.591590404510498,
           8.397133827209473,
           5.870448589324951,
           10.36375904083252,
           7.429286003112793,
           10.430726051330566,
           7.417173862457275,
           9.492213249206543,
           4.939093589782715,
           8.542786598205566,
           6.352326393127441,
           12.12420654296875,
           6.772183418273926,
           10.136658668518066,
           8.06592082977295,
           10.477378845214844,
           5.999849796295166,
           7.174413681030273,
           7.414745330810547,
           11.674468040466309,
           15.522014617919922,
           8.30302906036377,
           13.193265914916992,
           9.716997146606445,
           14.4395751953125,
           11.039259910583496,
           14.938233375549316,
           9.98007583618164,
           10.742748260498047,
           18.753265380859375,
           11.448692321777344,
           16.68256187438965,
           17.576549530029297,
           10.68982982635498,
           11.715750694274902,
           16.293739318847656,
           11.475092887878418,
           15.825864791870117,
           18.033008575439453,
           10.600202560424805,
           12.79521656036377,
           15.029459953308105,
           9.11386489868164,
           12.550439834594727,
           10.09909725189209,
           10.043744087219238,
           7.232393264770508,
           8.413002014160156,
           8.247699737548828,
           14.509317398071289,
           11.56222915649414,
           13.326303482055664,
           10.645516395568848,
           10.660942077636719,
           14.340953826904297,
           9.703705787658691,
           12.329996109008789,
           10.301206588745117,
           8.419672012329102,
           5.452298164367676,
           5.672032833099365,
           7.942284107208252,
           10.618244171142578,
           7.935764789581299,
           8.2612886428833,
           8.610092163085938,
           13.018315315246582,
           13.460874557495117,
           7.9997968673706055,
           8.144357681274414,
           8.637162208557129,
           10.95323371887207,
           13.830740928649902,
           7.790510177612305,
           9.783124923706055,
           10.779007911682129,
           9.978754997253418,
           12.888989448547363,
           9.626785278320312,
           12.14243221282959,
           10.492960929870605,
           11.401896476745605,
           14.241358757019043,
           10.33831787109375,
           13.797677040100098,
           10.50832462310791,
           12.91418743133545,
           8.40222454071045,
           10.744010925292969,
           10.500685691833496,
           14.813074111938477,
           9.701997756958008,
           10.84736442565918,
           10.8197603225708,
           10.703509330749512,
           10.196563720703125,
           11.234204292297363,
           9.38461685180664,
           12.6777982711792,
           9.277345657348633,
           10.964472770690918,
           10.338074684143066,
           13.125846862792969,
           10.628249168395996,
           12.246088027954102,
           15.122653007507324,
           10.376936912536621,
           11.497982025146484,
           16.6873722076416,
           11.978635787963867,
           13.159106254577637,
           11.824121475219727,
           11.609461784362793,
           8.254807472229004,
           11.310501098632812,
           11.048327445983887,
           10.457919120788574,
           15.024378776550293,
           9.99909496307373,
           14.516263008117676,
           12.076237678527832,
           14.344217300415039,
           11.504350662231445,
           7.338929176330566,
           9.788675308227539,
           10.295112609863281,
           8.908180236816406,
           7.683192253112793,
           10.774688720703125,
           10.0659761428833,
           9.394696235656738,
           6.789296627044678,
           4.167597770690918,
           9.279889106750488,
           11.960756301879883,
           8.47071361541748,
           9.084586143493652,
           10.346729278564453,
           12.619316101074219,
           17.43765640258789,
           12.571216583251953,
           15.774956703186035,
           12.690018653869629,
           12.752283096313477,
           10.26835823059082,
           10.543519020080566,
           12.029804229736328,
           13.151212692260742,
           11.072315216064453,
           7.904494762420654,
           9.221927642822266,
           10.239057540893555,
           10.78958797454834,
           8.203770637512207,
           10.045036315917969,
           10.264300346374512,
           12.682578086853027,
           15.083578109741211,
           11.937505722045898
          ],
          [
           0,
           0,
           0,
           0,
           0,
           0,
           0,
           0,
           0,
           0,
           0,
           0,
           0,
           0,
           0,
           2.1617555618286133,
           0,
           0,
           0,
           0,
           2.6887104511260986,
           0,
           0,
           0,
           0,
           0,
           0,
           0,
           0,
           0,
           0,
           0,
           2.648122787475586,
           0,
           0,
           0,
           4.181556224822998,
           0,
           0,
           0,
           0,
           0,
           0,
           0,
           0,
           2.484647274017334,
           0,
           0,
           0,
           0,
           0,
           0,
           0,
           0,
           0,
           0,
           3.598705768585205,
           0,
           0,
           0,
           0,
           0,
           0,
           0,
           0,
           0,
           0,
           0,
           0,
           0,
           0,
           0,
           0,
           0,
           0,
           1.4226632118225098,
           0,
           0,
           0,
           4.0888447761535645,
           0,
           0,
           0,
           5.247581481933594,
           1.7959860563278198,
           0,
           0,
           0,
           0,
           0,
           0,
           0,
           0,
           2.85221004486084,
           0,
           0,
           0,
           0,
           0,
           0,
           0,
           0,
           0,
           0,
           0,
           0,
           0,
           2.980496644973755,
           0,
           0,
           0,
           4.476134300231934,
           0,
           0,
           0,
           3.188405990600586,
           1.5172083377838135,
           0,
           0,
           0,
           0,
           0,
           0,
           4.867559909820557,
           1.7468764781951904,
           1.8901824951171875,
           0,
           1.4352169036865234,
           0,
           0,
           0,
           0,
           0,
           1.8434841632843018,
           0,
           0,
           0,
           0,
           4.0981831550598145,
           2.2924904823303223,
           0,
           0,
           0,
           3.072718620300293,
           0,
           0,
           0,
           5.511162757873535,
           0,
           0,
           0,
           0,
           0,
           0,
           0,
           0,
           0,
           0,
           0,
           0,
           0,
           0,
           0,
           0,
           3.56598162651062,
           0,
           0,
           0,
           0,
           0,
           0,
           0,
           0,
           4.627231121063232,
           1.6850358247756958,
           0,
           0,
           0,
           3.6881120204925537
          ],
          [
           0,
           0,
           0,
           0,
           0,
           0,
           0,
           2.2730672359466553,
           0,
           7.481529712677002,
           0,
           3.9207513332366943,
           0,
           7.3807291984558105,
           0,
           5.232083320617676,
           0,
           4.382864952087402,
           0,
           0,
           5.310222148895264,
           0,
           3.6819138526916504,
           0,
           4.899001121520996,
           0,
           4.315604209899902,
           0,
           5.500121116638184,
           0,
           3.7953641414642334,
           0,
           5.34173583984375,
           0,
           5.9438323974609375,
           0,
           6.518102169036865,
           0,
           5.520884990692139,
           0,
           0,
           6.386256694793701,
           0,
           5.070505619049072,
           0,
           5.6405029296875,
           0,
           5.016626834869385,
           0,
           0,
           6.200962543487549,
           0,
           0,
           5.000637531280518,
           0,
           0,
           6.444687843322754,
           0,
           0,
           4.819516181945801,
           0,
           0,
           6.086468696594238,
           0,
           5.561697006225586,
           0,
           6.119414806365967,
           0,
           5.26149845123291,
           0,
           5.162068843841553,
           0,
           5.891990661621094,
           0,
           0,
           4.927989482879639,
           0,
           6.298274993896484,
           0,
           4.667836666107178,
           0,
           6.038466930389404,
           0,
           5.682275772094727,
           0,
           5.744299411773682,
           0,
           0,
           5.431975364685059,
           0,
           5.349409580230713,
           0,
           0,
           6.2414984703063965,
           0,
           6.665500164031982,
           0,
           0,
           5.841561317443848,
           0,
           5.697058200836182,
           0,
           0,
           6.115455627441406,
           0,
           5.653528690338135,
           0,
           5.688074111938477,
           0,
           5.748321056365967,
           0,
           6.704355716705322,
           0,
           5.837797164916992,
           0,
           5.565703868865967,
           0,
           4.740411281585693,
           0,
           4.6478800773620605,
           0,
           6.157690048217773,
           0,
           5.4934587478637695,
           0,
           0,
           6.08200216293335,
           0,
           0,
           6.239065170288086,
           0,
           6.1797871589660645,
           0,
           4.851033687591553,
           0,
           6.712307453155518,
           0,
           0,
           6.804813861846924,
           0,
           6.1799116134643555,
           0,
           0,
           5.513751029968262,
           0,
           5.569892406463623,
           0,
           6.291431427001953,
           0,
           5.944942951202393,
           0,
           4.928140640258789,
           0,
           5.5695343017578125,
           0,
           5.856439590454102,
           0,
           6.07385778427124,
           0,
           0,
           5.0985236167907715,
           0,
           5.569421768188477,
           0,
           4.316539287567139,
           0,
           6.263005256652832,
           0,
           0,
           4.848918437957764,
           0,
           5.827639102935791,
           0,
           3.3414525985717773,
           0,
           5.65098237991333,
           0,
           0,
           5.215355396270752
          ],
          [
           0,
           0,
           0,
           0,
           0,
           0,
           0,
           1.0519120693206787,
           0,
           3.4362947940826416,
           0,
           0,
           0,
           2.6614534854888916,
           0,
           0,
           0,
           0,
           0,
           0,
           0,
           0,
           0,
           0,
           2.0760326385498047,
           0,
           0,
           0,
           1.8713181018829346,
           0,
           0,
           0,
           3.117338180541992,
           0,
           0,
           0,
           1.4877628087997437,
           0,
           0,
           0,
           0,
           2.0067391395568848,
           0,
           0,
           0,
           0,
           0,
           0,
           0,
           0,
           1.9369826316833496,
           0,
           0,
           0,
           0,
           0,
           2.093656539916992,
           0,
           0,
           0,
           0,
           0,
           1.597769021987915,
           0,
           0,
           0,
           1.4770784378051758,
           0,
           0,
           0,
           3.724020481109619,
           0,
           1.4062933921813965,
           0,
           0,
           2.799513816833496,
           0,
           0,
           0,
           3.0400807857513428,
           0,
           0,
           0,
           1.964097499847412,
           0,
           0,
           0,
           0,
           2.7378339767456055,
           0,
           0,
           0,
           0,
           2.5882136821746826,
           0,
           0,
           0,
           0,
           2.38020920753479,
           0,
           0,
           0,
           0,
           2.2025604248046875,
           0,
           0,
           0,
           1.7154104709625244,
           0,
           0,
           0,
           1.6268081665039062,
           0,
           0,
           0,
           1.2859573364257812,
           0,
           0,
           0,
           4.132973670959473,
           0,
           0,
           0,
           3.205075263977051,
           0,
           0,
           0,
           0,
           0,
           0,
           0,
           0,
           0,
           1.579128384590149,
           0,
           0,
           0,
           0,
           3.036536931991577,
           0,
           0,
           0,
           0,
           2.087333917617798,
           0,
           0,
           0,
           0,
           0,
           0,
           0,
           1.295710802078247,
           0,
           0,
           0,
           1.5881996154785156,
           0,
           0,
           0,
           0,
           1.7551636695861816,
           0,
           0,
           0,
           2.8377597332000732,
           0,
           0,
           0,
           0,
           1.7562451362609863,
           0,
           0,
           0,
           3.0467917919158936,
           0,
           0,
           0,
           0,
           3.16054630279541
          ],
          [
           0,
           0,
           0,
           0,
           0,
           0,
           0,
           0,
           2.4746909141540527,
           0,
           0,
           0,
           1.2147185802459717,
           0,
           0,
           0,
           1.946765422821045,
           0,
           0,
           0,
           1.3051899671554565,
           2.4838778972625732,
           0,
           0,
           0,
           6.736664295196533,
           0,
           0,
           0,
           2.816291093826294,
           0,
           0,
           0,
           1.6529264450073242,
           0,
           0,
           0,
           1.4702377319335938,
           0,
           0,
           0,
           2.0455172061920166,
           4.5545973777771,
           0,
           0,
           1.4833691120147705,
           1.414159893989563,
           0,
           0,
           0,
           1.6987080574035645,
           0,
           3.231736183166504,
           0,
           0,
           0,
           3.571808099746704,
           2.1074256896972656,
           4.049068927764893,
           0,
           0,
           0,
           0,
           1.5442359447479248,
           0,
           0,
           2.476019859313965,
           1.9884510040283203,
           0,
           0,
           0,
           2.6356184482574463,
           0,
           0,
           0,
           1.6513662338256836,
           0,
           0,
           0,
           0,
           0,
           0,
           0,
           1.930121898651123,
           0,
           0,
           0,
           0,
           1.2764304876327515,
           1.589544415473938,
           0,
           0,
           0,
           1.5518951416015625,
           0,
           0,
           0,
           0,
           0,
           1.2370606660842896,
           0,
           0,
           0,
           3.4633843898773193,
           1.9875316619873047,
           0,
           0,
           2.3044545650482178,
           0,
           0,
           0,
           1.7983425855636597,
           0,
           0,
           0,
           0,
           0,
           0,
           0,
           0,
           2.672185182571411,
           0,
           0,
           0,
           0,
           2.6432390213012695,
           0,
           0,
           1.4380040168762207,
           1.5000905990600586,
           3.1086292266845703,
           1.2304353713989258,
           0,
           1.5181574821472168,
           0,
           1.5086829662322998,
           0,
           0,
           1.4921469688415527,
           0,
           0,
           0,
           0,
           1.3933167457580566,
           0,
           0,
           0,
           0,
           0,
           0,
           0,
           1.2513960599899292,
           0,
           0,
           0,
           1.4427276849746704,
           0,
           0,
           0,
           1.6128129959106445,
           1.7223906517028809,
           0,
           1.3560092449188232,
           0,
           1.668194055557251,
           0,
           0,
           0,
           0,
           0,
           3.179267406463623,
           0,
           0,
           0,
           0,
           0,
           0,
           0,
           1.2421952486038208
          ],
          [
           0,
           0,
           0,
           0,
           0,
           0,
           1.2878848314285278,
           3.553549289703369,
           1.1706870794296265,
           2.8216891288757324,
           4.299555778503418,
           4.8129963874816895,
           2.4472146034240723,
           4.479355812072754,
           0,
           2.5927646160125732,
           1.9010196924209595,
           1.8126959800720215,
           1.6577802896499634,
           1.1610618829727173,
           2.8417515754699707,
           2.234161853790283,
           1.2226274013519287,
           2.1796371936798096,
           4.693480968475342,
           2.3218090534210205,
           2.1470131874084473,
           4.4820780754089355,
           5.175968170166016,
           5.402688026428223,
           2.4089834690093994,
           2.9191975593566895,
           3.9043173789978027,
           3.224623680114746,
           2.831836223602295,
           2.203321933746338,
           4.147213935852051,
           4.212766170501709,
           2.666898250579834,
           0,
           0,
           1.8378291130065918,
           0,
           1.6264806985855103,
           1.7978308200836182,
           3.0735650062561035,
           0,
           2.7125754356384277,
           0,
           0,
           1.7978436946868896,
           0,
           1.787575364112854,
           1.5419256687164307,
           0,
           0,
           2.6682937145233154,
           0,
           1.3993735313415527,
           1.2213045358657837,
           3.1812148094177246,
           0,
           3.478343963623047,
           2.9126715660095215,
           2.146450996398926,
           0,
           3.2463788986206055,
           1.1823383569717407,
           2.366241216659546,
           2.8054285049438477,
           4.0812764167785645,
           2.6196255683898926,
           3.1198129653930664,
           2.615224599838257,
           3.620180606842041,
           4.335567474365234,
           2.265866994857788,
           3.4873547554016113,
           2.8861894607543945,
           3.7356162071228027,
           2.785438060760498,
           2.9638047218322754,
           1.5566322803497314,
           3.2289438247680664,
           0,
           2.8454694747924805,
           3.0182127952575684,
           4.636251926422119,
           4.627376556396484,
           4.6114912033081055,
           3.702331066131592,
           4.359635353088379,
           2.436701774597168,
           2.705702304840088,
           3.013160228729248,
           3.4041924476623535,
           0,
           2.6696295738220215,
           2.6280884742736816,
           1.3540456295013428,
           2.666224479675293,
           1.8751564025878906,
           2.2920022010803223,
           3.3354177474975586,
           1.8791773319244385,
           3.9228639602661133,
           0,
           2.526402473449707,
           2.3616113662719727,
           2.6186351776123047,
           1.4785529375076294,
           2.1268310546875,
           2.3312344551086426,
           2.522578716278076,
           1.4596219062805176,
           3.209545135498047,
           0,
           2.1260995864868164,
           2.272167444229126,
           3.6501331329345703,
           2.8417258262634277,
           1.9803049564361572,
           0,
           2.1822736263275146,
           0,
           0,
           1.7355855703353882,
           2.95729398727417,
           0,
           1.8212966918945312,
           1.1677429676055908,
           2.137559652328491,
           2.9438576698303223,
           2.7616772651672363,
           1.1025166511535645,
           2.2631843090057373,
           0,
           0,
           2.839784622192383,
           1.1614030599594116,
           3.1480226516723633,
           2.6382341384887695,
           2.0256638526916504,
           2.6010913848876953,
           3.007819175720215,
           1.6631447076797485,
           0,
           2.290037155151367,
           1.4673422574996948,
           1.350460171699524,
           3.155477523803711,
           2.4819254875183105,
           0,
           1.8449989557266235,
           0,
           1.6717778444290161,
           0,
           2.593255043029785,
           1.1056376695632935,
           1.9991896152496338,
           2.551532745361328,
           1.9569952487945557,
           1.8966565132141113,
           2.783452033996582,
           3.231659412384033,
           1.384834885597229,
           2.385251522064209,
           3.038140296936035,
           2.930508613586426,
           3.2593111991882324,
           3.0981483459472656,
           3.2706551551818848,
           3.2206244468688965,
           2.9490485191345215,
           2.2319607734680176,
           2.3313088417053223,
           3.321573257446289,
           3.0386013984680176,
           3.822373867034912
          ],
          [
           0,
           1.539856195449829,
           7.1373610496521,
           9.587124824523926,
           10.838446617126465,
           6.99946403503418,
           11.51965618133545,
           14.10914421081543,
           13.804171562194824,
           13.76760196685791,
           11.752663612365723,
           13.625639915466309,
           12.26002025604248,
           13.00748348236084,
           10.967864990234375,
           11.788769721984863,
           12.087540626525879,
           12.933370590209961,
           7.125026702880859,
           12.027213096618652,
           11.835270881652832,
           13.571709632873535,
           13.922964096069336,
           9.777135848999023,
           13.098126411437988,
           10.303058624267578,
           10.911605834960938,
           11.761551856994629,
           12.934106826782227,
           11.1871976852417,
           10.409856796264648,
           13.732177734375,
           14.11803913116455,
           12.96854019165039,
           11.71730899810791,
           13.267390251159668,
           12.600833892822266,
           12.895161628723145,
           12.101725578308105,
           8.322371482849121,
           11.781384468078613,
           11.4135103225708,
           11.765121459960938,
           11.07728099822998,
           9.94485092163086,
           10.972672462463379,
           8.883173942565918,
           11.48561954498291,
           6.5170488357543945,
           7.380692005157471,
           11.576090812683105,
           8.011296272277832,
           9.563970565795898,
           9.509506225585938,
           6.057647228240967,
           7.3012590408325195,
           11.225208282470703,
           7.217216968536377,
           8.128087997436523,
           8.997286796569824,
           5.4362359046936035,
           7.927639961242676,
           10.046470642089844,
           9.087701797485352,
           9.27138614654541,
           11.785503387451172,
           12.419820785522461,
           8.616588592529297,
           9.746122360229492,
           11.209015846252441,
           12.79906177520752,
           11.394461631774902,
           10.030472755432129,
           5.907161712646484,
           7.7946367263793945,
           11.570718765258789,
           8.884529113769531,
           10.426064491271973,
           11.587166786193848,
           12.673990249633789,
           13.572550773620605,
           11.580144882202148,
           10.781002044677734,
           11.75373649597168,
           10.488807678222656,
           10.471075057983398,
           5.261685848236084,
           7.076034069061279,
           10.722654342651367,
           9.080419540405273,
           9.981492042541504,
           4.314131259918213,
           7.708515167236328,
           10.38633918762207,
           10.824362754821777,
           10.913357734680176,
           5.951794624328613,
           6.519452095031738,
           11.506648063659668,
           9.914280891418457,
           10.58137321472168,
           3.0375497341156006,
           6.194587707519531,
           12.275480270385742,
           9.258511543273926,
           10.186042785644531,
           11.367573738098145,
           11.467058181762695,
           9.823176383972168,
           10.942341804504395,
           12.518427848815918,
           11.234344482421875,
           12.338668823242188,
           10.829244613647461,
           8.093262672424316,
           10.826762199401855,
           10.446722030639648,
           9.05798053741455,
           9.259405136108398,
           11.263644218444824,
           9.361482620239258,
           9.936176300048828,
           12.41750431060791,
           12.289499282836914,
           7.128519535064697,
           12.652114868164062,
           10.207414627075195,
           4.342525005340576,
           9.907100677490234,
           10.863493919372559,
           12.313669204711914,
           10.902013778686523,
           10.420802116394043,
           12.41616153717041,
           10.337160110473633,
           11.51459789276123,
           4.328730583190918,
           7.23246955871582,
           11.297107696533203,
           11.823363304138184,
           11.630471229553223,
           4.3863525390625,
           9.057357788085938,
           11.633635520935059,
           10.92800235748291,
           10.926166534423828,
           9.288707733154297,
           11.871071815490723,
           8.69301986694336,
           11.478311538696289,
           9.002326965332031,
           11.585349082946777,
           8.92387580871582,
           11.10940933227539,
           9.320942878723145,
           10.278587341308594,
           11.727347373962402,
           12.13107681274414,
           5.012257099151611,
           8.094818115234375,
           11.990412712097168,
           9.736654281616211,
           11.333734512329102,
           9.838286399841309,
           12.878265380859375,
           8.225566864013672,
           11.7598237991333,
           5.916409015655518,
           7.800740718841553,
           12.433483123779297,
           7.299534797668457,
           10.792204856872559,
           10.155096054077148,
           13.859553337097168,
           10.324097633361816,
           10.788373947143555,
           4.905097961425781,
           6.998213768005371,
           12.437198638916016
          ],
          [
           0,
           0,
           0,
           7.153098106384277,
           0,
           0.379635214805603,
           4.1268744468688965,
           3.2736103534698486,
           13.17136001586914,
           4.151533603668213,
           8.0134859085083,
           6.880237102508545,
           16.64541244506836,
           7.485739231109619,
           7.149927139282227,
           6.420594215393066,
           14.841414451599121,
           7.549473762512207,
           3.932868719100952,
           10.673283576965332,
           9.192458152770996,
           18.25098419189453,
           8.761361122131348,
           13.123308181762695,
           9.965436935424805,
           15.803621292114258,
           8.021685600280762,
           11.248974800109863,
           12.129396438598633,
           20.1374454498291,
           8.949151039123535,
           15.361608505249023,
           12.691509246826172,
           21.12205696105957,
           10.826934814453125,
           11.456281661987305,
           11.054637908935547,
           18.8167724609375,
           8.880524635314941,
           6.296844482421875,
           10.53106689453125,
           9.420632362365723,
           11.107916831970215,
           8.972222328186035,
           8.318686485290527,
           10.265376091003418,
           12.016094207763672,
           8.281991958618164,
           6.733922004699707,
           13.0431489944458,
           9.171213150024414,
           10.960875511169434,
           16.42650604248047,
           8.237187385559082,
           6.820024490356445,
           12.859183311462402,
           12.890685081481934,
           13.11332893371582,
           17.614870071411133,
           8.699390411376953,
           7.0161051750183105,
           14.202296257019043,
           12.57921028137207,
           20.0501651763916,
           9.148544311523438,
           12.913873672485352,
           12.133678436279297,
           17.38068389892578,
           9.874823570251465,
           13.192459106445312,
           9.999463081359863,
           18.332420349121094,
           10.302474975585938,
           6.7127275466918945,
           12.366609573364258,
           10.805174827575684,
           16.14764404296875,
           10.938148498535156,
           14.557613372802734,
           14.458972930908203,
           20.21601104736328,
           13.025050163269043,
           12.013468742370605,
           11.585051536560059,
           17.253738403320312,
           10.583648681640625,
           7.1610517501831055,
           12.351811408996582,
           10.273274421691895,
           11.477265357971191,
           9.308944702148438,
           7.39288330078125,
           11.185310363769531,
           10.62277889251709,
           13.99409294128418,
           10.438884735107422,
           7.250863075256348,
           11.46663761138916,
           10.796192169189453,
           13.948750495910645,
           10.291529655456543,
           9.131982803344727,
           12.995824813842773,
           11.24894905090332,
           17.551719665527344,
           9.377026557922363,
           15.180464744567871,
           14.5366792678833,
           18.109777450561523,
           11.87778377532959,
           14.514008522033691,
           14.28647518157959,
           18.659303665161133,
           11.6295804977417,
           11.432595252990723,
           13.002062797546387,
           17.288135528564453,
           10.305989265441895,
           13.636703491210938,
           11.383188247680664,
           17.091278076171875,
           9.65897274017334,
           12.941786766052246,
           12.873929977416992,
           11.320213317871094,
           19.455673217773438,
           10.684173583984375,
           6.696876525878906,
           13.057046890258789,
           12.850237846374512,
           18.752500534057617,
           10.396027565002441,
           14.482011795043945,
           13.11304759979248,
           16.88438606262207,
           11.395702362060547,
           6.891623020172119,
           9.096274375915527,
           11.423256874084473,
           14.261813163757324,
           9.976543426513672,
           8.116660118103027,
           16.992149353027344,
           12.94263744354248,
           19.585895538330078,
           11.172683715820312,
           12.38349723815918,
           11.544416427612305,
           16.865493774414062,
           10.511411666870117,
           17.432018280029297,
           13.739490509033203,
           20.152267456054688,
           12.681975364685059,
           16.080720901489258,
           14.937336921691895,
           20.456249237060547,
           12.56524658203125,
           9.865128517150879,
           13.780110359191895,
           13.245664596557617,
           17.266054153442383,
           11.312180519104004,
           12.655938148498535,
           12.097869873046875,
           13.779901504516602,
           10.63829517364502,
           8.007189750671387,
           10.28591537475586,
           9.692403793334961,
           12.670994758605957,
           9.120927810668945,
           13.54694938659668,
           11.488450050354004,
           16.309783935546875,
           10.896763801574707,
           8.097922325134277,
           10.289224624633789,
           11.843509674072266
          ]
         ]
        }
       ],
       "layout": {
        "coloraxis": {
         "colorscale": [
          [
           0,
           "#0d0887"
          ],
          [
           0.1111111111111111,
           "#46039f"
          ],
          [
           0.2222222222222222,
           "#7201a8"
          ],
          [
           0.3333333333333333,
           "#9c179e"
          ],
          [
           0.4444444444444444,
           "#bd3786"
          ],
          [
           0.5555555555555556,
           "#d8576b"
          ],
          [
           0.6666666666666666,
           "#ed7953"
          ],
          [
           0.7777777777777778,
           "#fb9f3a"
          ],
          [
           0.8888888888888888,
           "#fdca26"
          ],
          [
           1,
           "#f0f921"
          ]
         ]
        },
        "template": {
         "data": {
          "bar": [
           {
            "error_x": {
             "color": "#2a3f5f"
            },
            "error_y": {
             "color": "#2a3f5f"
            },
            "marker": {
             "line": {
              "color": "#E5ECF6",
              "width": 0.5
             },
             "pattern": {
              "fillmode": "overlay",
              "size": 10,
              "solidity": 0.2
             }
            },
            "type": "bar"
           }
          ],
          "barpolar": [
           {
            "marker": {
             "line": {
              "color": "#E5ECF6",
              "width": 0.5
             },
             "pattern": {
              "fillmode": "overlay",
              "size": 10,
              "solidity": 0.2
             }
            },
            "type": "barpolar"
           }
          ],
          "carpet": [
           {
            "aaxis": {
             "endlinecolor": "#2a3f5f",
             "gridcolor": "white",
             "linecolor": "white",
             "minorgridcolor": "white",
             "startlinecolor": "#2a3f5f"
            },
            "baxis": {
             "endlinecolor": "#2a3f5f",
             "gridcolor": "white",
             "linecolor": "white",
             "minorgridcolor": "white",
             "startlinecolor": "#2a3f5f"
            },
            "type": "carpet"
           }
          ],
          "choropleth": [
           {
            "colorbar": {
             "outlinewidth": 0,
             "ticks": ""
            },
            "type": "choropleth"
           }
          ],
          "contour": [
           {
            "colorbar": {
             "outlinewidth": 0,
             "ticks": ""
            },
            "colorscale": [
             [
              0,
              "#0d0887"
             ],
             [
              0.1111111111111111,
              "#46039f"
             ],
             [
              0.2222222222222222,
              "#7201a8"
             ],
             [
              0.3333333333333333,
              "#9c179e"
             ],
             [
              0.4444444444444444,
              "#bd3786"
             ],
             [
              0.5555555555555556,
              "#d8576b"
             ],
             [
              0.6666666666666666,
              "#ed7953"
             ],
             [
              0.7777777777777778,
              "#fb9f3a"
             ],
             [
              0.8888888888888888,
              "#fdca26"
             ],
             [
              1,
              "#f0f921"
             ]
            ],
            "type": "contour"
           }
          ],
          "contourcarpet": [
           {
            "colorbar": {
             "outlinewidth": 0,
             "ticks": ""
            },
            "type": "contourcarpet"
           }
          ],
          "heatmap": [
           {
            "colorbar": {
             "outlinewidth": 0,
             "ticks": ""
            },
            "colorscale": [
             [
              0,
              "#0d0887"
             ],
             [
              0.1111111111111111,
              "#46039f"
             ],
             [
              0.2222222222222222,
              "#7201a8"
             ],
             [
              0.3333333333333333,
              "#9c179e"
             ],
             [
              0.4444444444444444,
              "#bd3786"
             ],
             [
              0.5555555555555556,
              "#d8576b"
             ],
             [
              0.6666666666666666,
              "#ed7953"
             ],
             [
              0.7777777777777778,
              "#fb9f3a"
             ],
             [
              0.8888888888888888,
              "#fdca26"
             ],
             [
              1,
              "#f0f921"
             ]
            ],
            "type": "heatmap"
           }
          ],
          "heatmapgl": [
           {
            "colorbar": {
             "outlinewidth": 0,
             "ticks": ""
            },
            "colorscale": [
             [
              0,
              "#0d0887"
             ],
             [
              0.1111111111111111,
              "#46039f"
             ],
             [
              0.2222222222222222,
              "#7201a8"
             ],
             [
              0.3333333333333333,
              "#9c179e"
             ],
             [
              0.4444444444444444,
              "#bd3786"
             ],
             [
              0.5555555555555556,
              "#d8576b"
             ],
             [
              0.6666666666666666,
              "#ed7953"
             ],
             [
              0.7777777777777778,
              "#fb9f3a"
             ],
             [
              0.8888888888888888,
              "#fdca26"
             ],
             [
              1,
              "#f0f921"
             ]
            ],
            "type": "heatmapgl"
           }
          ],
          "histogram": [
           {
            "marker": {
             "pattern": {
              "fillmode": "overlay",
              "size": 10,
              "solidity": 0.2
             }
            },
            "type": "histogram"
           }
          ],
          "histogram2d": [
           {
            "colorbar": {
             "outlinewidth": 0,
             "ticks": ""
            },
            "colorscale": [
             [
              0,
              "#0d0887"
             ],
             [
              0.1111111111111111,
              "#46039f"
             ],
             [
              0.2222222222222222,
              "#7201a8"
             ],
             [
              0.3333333333333333,
              "#9c179e"
             ],
             [
              0.4444444444444444,
              "#bd3786"
             ],
             [
              0.5555555555555556,
              "#d8576b"
             ],
             [
              0.6666666666666666,
              "#ed7953"
             ],
             [
              0.7777777777777778,
              "#fb9f3a"
             ],
             [
              0.8888888888888888,
              "#fdca26"
             ],
             [
              1,
              "#f0f921"
             ]
            ],
            "type": "histogram2d"
           }
          ],
          "histogram2dcontour": [
           {
            "colorbar": {
             "outlinewidth": 0,
             "ticks": ""
            },
            "colorscale": [
             [
              0,
              "#0d0887"
             ],
             [
              0.1111111111111111,
              "#46039f"
             ],
             [
              0.2222222222222222,
              "#7201a8"
             ],
             [
              0.3333333333333333,
              "#9c179e"
             ],
             [
              0.4444444444444444,
              "#bd3786"
             ],
             [
              0.5555555555555556,
              "#d8576b"
             ],
             [
              0.6666666666666666,
              "#ed7953"
             ],
             [
              0.7777777777777778,
              "#fb9f3a"
             ],
             [
              0.8888888888888888,
              "#fdca26"
             ],
             [
              1,
              "#f0f921"
             ]
            ],
            "type": "histogram2dcontour"
           }
          ],
          "mesh3d": [
           {
            "colorbar": {
             "outlinewidth": 0,
             "ticks": ""
            },
            "type": "mesh3d"
           }
          ],
          "parcoords": [
           {
            "line": {
             "colorbar": {
              "outlinewidth": 0,
              "ticks": ""
             }
            },
            "type": "parcoords"
           }
          ],
          "pie": [
           {
            "automargin": true,
            "type": "pie"
           }
          ],
          "scatter": [
           {
            "fillpattern": {
             "fillmode": "overlay",
             "size": 10,
             "solidity": 0.2
            },
            "type": "scatter"
           }
          ],
          "scatter3d": [
           {
            "line": {
             "colorbar": {
              "outlinewidth": 0,
              "ticks": ""
             }
            },
            "marker": {
             "colorbar": {
              "outlinewidth": 0,
              "ticks": ""
             }
            },
            "type": "scatter3d"
           }
          ],
          "scattercarpet": [
           {
            "marker": {
             "colorbar": {
              "outlinewidth": 0,
              "ticks": ""
             }
            },
            "type": "scattercarpet"
           }
          ],
          "scattergeo": [
           {
            "marker": {
             "colorbar": {
              "outlinewidth": 0,
              "ticks": ""
             }
            },
            "type": "scattergeo"
           }
          ],
          "scattergl": [
           {
            "marker": {
             "colorbar": {
              "outlinewidth": 0,
              "ticks": ""
             }
            },
            "type": "scattergl"
           }
          ],
          "scattermapbox": [
           {
            "marker": {
             "colorbar": {
              "outlinewidth": 0,
              "ticks": ""
             }
            },
            "type": "scattermapbox"
           }
          ],
          "scatterpolar": [
           {
            "marker": {
             "colorbar": {
              "outlinewidth": 0,
              "ticks": ""
             }
            },
            "type": "scatterpolar"
           }
          ],
          "scatterpolargl": [
           {
            "marker": {
             "colorbar": {
              "outlinewidth": 0,
              "ticks": ""
             }
            },
            "type": "scatterpolargl"
           }
          ],
          "scatterternary": [
           {
            "marker": {
             "colorbar": {
              "outlinewidth": 0,
              "ticks": ""
             }
            },
            "type": "scatterternary"
           }
          ],
          "surface": [
           {
            "colorbar": {
             "outlinewidth": 0,
             "ticks": ""
            },
            "colorscale": [
             [
              0,
              "#0d0887"
             ],
             [
              0.1111111111111111,
              "#46039f"
             ],
             [
              0.2222222222222222,
              "#7201a8"
             ],
             [
              0.3333333333333333,
              "#9c179e"
             ],
             [
              0.4444444444444444,
              "#bd3786"
             ],
             [
              0.5555555555555556,
              "#d8576b"
             ],
             [
              0.6666666666666666,
              "#ed7953"
             ],
             [
              0.7777777777777778,
              "#fb9f3a"
             ],
             [
              0.8888888888888888,
              "#fdca26"
             ],
             [
              1,
              "#f0f921"
             ]
            ],
            "type": "surface"
           }
          ],
          "table": [
           {
            "cells": {
             "fill": {
              "color": "#EBF0F8"
             },
             "line": {
              "color": "white"
             }
            },
            "header": {
             "fill": {
              "color": "#C8D4E3"
             },
             "line": {
              "color": "white"
             }
            },
            "type": "table"
           }
          ]
         },
         "layout": {
          "annotationdefaults": {
           "arrowcolor": "#2a3f5f",
           "arrowhead": 0,
           "arrowwidth": 1
          },
          "autotypenumbers": "strict",
          "coloraxis": {
           "colorbar": {
            "outlinewidth": 0,
            "ticks": ""
           }
          },
          "colorscale": {
           "diverging": [
            [
             0,
             "#8e0152"
            ],
            [
             0.1,
             "#c51b7d"
            ],
            [
             0.2,
             "#de77ae"
            ],
            [
             0.3,
             "#f1b6da"
            ],
            [
             0.4,
             "#fde0ef"
            ],
            [
             0.5,
             "#f7f7f7"
            ],
            [
             0.6,
             "#e6f5d0"
            ],
            [
             0.7,
             "#b8e186"
            ],
            [
             0.8,
             "#7fbc41"
            ],
            [
             0.9,
             "#4d9221"
            ],
            [
             1,
             "#276419"
            ]
           ],
           "sequential": [
            [
             0,
             "#0d0887"
            ],
            [
             0.1111111111111111,
             "#46039f"
            ],
            [
             0.2222222222222222,
             "#7201a8"
            ],
            [
             0.3333333333333333,
             "#9c179e"
            ],
            [
             0.4444444444444444,
             "#bd3786"
            ],
            [
             0.5555555555555556,
             "#d8576b"
            ],
            [
             0.6666666666666666,
             "#ed7953"
            ],
            [
             0.7777777777777778,
             "#fb9f3a"
            ],
            [
             0.8888888888888888,
             "#fdca26"
            ],
            [
             1,
             "#f0f921"
            ]
           ],
           "sequentialminus": [
            [
             0,
             "#0d0887"
            ],
            [
             0.1111111111111111,
             "#46039f"
            ],
            [
             0.2222222222222222,
             "#7201a8"
            ],
            [
             0.3333333333333333,
             "#9c179e"
            ],
            [
             0.4444444444444444,
             "#bd3786"
            ],
            [
             0.5555555555555556,
             "#d8576b"
            ],
            [
             0.6666666666666666,
             "#ed7953"
            ],
            [
             0.7777777777777778,
             "#fb9f3a"
            ],
            [
             0.8888888888888888,
             "#fdca26"
            ],
            [
             1,
             "#f0f921"
            ]
           ]
          },
          "colorway": [
           "#636efa",
           "#EF553B",
           "#00cc96",
           "#ab63fa",
           "#FFA15A",
           "#19d3f3",
           "#FF6692",
           "#B6E880",
           "#FF97FF",
           "#FECB52"
          ],
          "font": {
           "color": "#2a3f5f"
          },
          "geo": {
           "bgcolor": "white",
           "lakecolor": "white",
           "landcolor": "#E5ECF6",
           "showlakes": true,
           "showland": true,
           "subunitcolor": "white"
          },
          "hoverlabel": {
           "align": "left"
          },
          "hovermode": "closest",
          "mapbox": {
           "style": "light"
          },
          "paper_bgcolor": "white",
          "plot_bgcolor": "#E5ECF6",
          "polar": {
           "angularaxis": {
            "gridcolor": "white",
            "linecolor": "white",
            "ticks": ""
           },
           "bgcolor": "#E5ECF6",
           "radialaxis": {
            "gridcolor": "white",
            "linecolor": "white",
            "ticks": ""
           }
          },
          "scene": {
           "xaxis": {
            "backgroundcolor": "#E5ECF6",
            "gridcolor": "white",
            "gridwidth": 2,
            "linecolor": "white",
            "showbackground": true,
            "ticks": "",
            "zerolinecolor": "white"
           },
           "yaxis": {
            "backgroundcolor": "#E5ECF6",
            "gridcolor": "white",
            "gridwidth": 2,
            "linecolor": "white",
            "showbackground": true,
            "ticks": "",
            "zerolinecolor": "white"
           },
           "zaxis": {
            "backgroundcolor": "#E5ECF6",
            "gridcolor": "white",
            "gridwidth": 2,
            "linecolor": "white",
            "showbackground": true,
            "ticks": "",
            "zerolinecolor": "white"
           }
          },
          "shapedefaults": {
           "line": {
            "color": "#2a3f5f"
           }
          },
          "ternary": {
           "aaxis": {
            "gridcolor": "white",
            "linecolor": "white",
            "ticks": ""
           },
           "baxis": {
            "gridcolor": "white",
            "linecolor": "white",
            "ticks": ""
           },
           "bgcolor": "#E5ECF6",
           "caxis": {
            "gridcolor": "white",
            "linecolor": "white",
            "ticks": ""
           }
          },
          "title": {
           "x": 0.05
          },
          "xaxis": {
           "automargin": true,
           "gridcolor": "white",
           "linecolor": "white",
           "ticks": "",
           "title": {
            "standoff": 15
           },
           "zerolinecolor": "white",
           "zerolinewidth": 2
          },
          "yaxis": {
           "automargin": true,
           "gridcolor": "white",
           "linecolor": "white",
           "ticks": "",
           "title": {
            "standoff": 15
           },
           "zerolinecolor": "white",
           "zerolinewidth": 2
          }
         }
        },
        "title": {
         "text": "Feature heatmap"
        },
        "xaxis": {
         "anchor": "y",
         "constrain": "domain",
         "domain": [
          0,
          1
         ],
         "scaleanchor": "y"
        },
        "yaxis": {
         "anchor": "x",
         "autorange": "reversed",
         "constrain": "domain",
         "domain": [
          0,
          1
         ]
        }
       }
      },
      "text/html": [
       "<div>                            <div id=\"dc07f717-87be-4428-88ba-0fb367e7f71e\" class=\"plotly-graph-div\" style=\"height:525px; width:100%;\"></div>            <script type=\"text/javascript\">                require([\"plotly\"], function(Plotly) {                    window.PLOTLYENV=window.PLOTLYENV || {};                                    if (document.getElementById(\"dc07f717-87be-4428-88ba-0fb367e7f71e\")) {                    Plotly.newPlot(                        \"dc07f717-87be-4428-88ba-0fb367e7f71e\",                        [{\"coloraxis\":\"coloraxis\",\"name\":\"0\",\"x\":[\"0_\\u003c|user|\\u003e\",\"1_Follow\",\"2_the\",\"3_pattern\",\"4_:\",\"5_\\n\",\"6_more\",\"7_-\\u003e\",\"8_less\",\"9_\\n\",\"10_new\",\"11_-\\u003e\",\"12_old\",\"13_\\n\",\"14_accept\",\"15_-\\u003e\",\"16_reject\",\"17_\\n\",\"18_def\",\"19_end\",\"20_-\\u003e\",\"21_attack\",\"22_\\n\",\"23_odd\",\"24_-\\u003e\",\"25_even\",\"26_\\n\",\"27_dark\",\"28_-\\u003e\",\"29_light\",\"30_\\n\",\"31_inner\",\"32_-\\u003e\",\"33_outer\",\"34_\\n\",\"35_build\",\"36_-\\u003e\",\"37_destroy\",\"38_\\n\",\"39_den\",\"40_y\",\"41_-\\u003e\",\"42_admit\",\"43_\\n\",\"44_first\",\"45_-\\u003e\",\"46_last\",\"47_\\n\",\"48_ru\",\"49_de\",\"50_-\\u003e\",\"51_pol\",\"52_ite\",\"53_\\n\",\"54_ser\",\"55_ious\",\"56_-\\u003e\",\"57_fun\",\"58_ny\",\"59_\\n\",\"60_f\",\"61_ake\",\"62_-\\u003e\",\"63_real\",\"64_\\n\",\"65_private\",\"66_-\\u003e\",\"67_public\",\"68_\\n\",\"69_male\",\"70_-\\u003e\",\"71_female\",\"72_\\n\",\"73_ear\",\"74_ly\",\"75_-\\u003e\",\"76_late\",\"77_\\n\",\"78_above\",\"79_-\\u003e\",\"80_below\",\"81_\\n\",\"82_best\",\"83_-\\u003e\",\"84_worst\",\"85_\\n\",\"86_w\",\"87_et\",\"88_-\\u003e\",\"89_dry\",\"90_\\n\",\"91_g\",\"92_ive\",\"93_-\\u003e\",\"94_receive\",\"95_\\n\",\"96_bit\",\"97_ter\",\"98_-\\u003e\",\"99_sweet\",\"100_\\n\",\"101_pe\",\"102_ace\",\"103_-\\u003e\",\"104_war\",\"105_\\n\",\"106_open\",\"107_-\\u003e\",\"108_close\",\"109_\\n\",\"110_join\",\"111_-\\u003e\",\"112_separate\",\"113_\\n\",\"114_real\",\"115_-\\u003e\",\"116_fake\",\"117_\\n\",\"118_left\",\"119_-\\u003e\",\"120_right\",\"121_\\n\",\"122_bold\",\"123_-\\u003e\",\"124_tim\",\"125_id\",\"126_\\n\",\"127_la\",\"128_zy\",\"129_-\\u003e\",\"130_active\",\"131_\\n\",\"132_soft\",\"133_-\\u003e\",\"134_hard\",\"135_\\n\",\"136_la\",\"137_ugh\",\"138_-\\u003e\",\"139_cry\",\"140_\\n\",\"141_lo\",\"142_ose\",\"143_-\\u003e\",\"144_tight\",\"145_\\n\",\"146_found\",\"147_-\\u003e\",\"148_lost\",\"149_\\n\",\"150_rough\",\"151_-\\u003e\",\"152_smooth\",\"153_\\n\",\"154_ask\",\"155_-\\u003e\",\"156_answer\",\"157_\\n\",\"158_qu\",\"159_iet\",\"160_-\\u003e\",\"161_loud\",\"162_\\n\",\"163_hot\",\"164_-\\u003e\",\"165_cold\",\"166_\\n\",\"167_d\",\"168_ry\",\"169_-\\u003e\",\"170_wet\",\"171_\\n\",\"172_high\",\"173_-\\u003e\",\"174_low\",\"175_\\n\",\"176_co\",\"177_ol\",\"178_-\\u003e\"],\"y\":[\"46421\",\"8787\",\"48142\",\"21441\",\"48437\",\"22813\",\"47882\",\"8281\",\"45093\",\"21885\",\"1065\",\"33278\"],\"z\":[[0.0,0.0,0.0,1.9433059692382812,0.0,0.0,0.9265801906585693,1.2925606966018677,3.8467893600463867,0.0,4.3790435791015625,6.12115478515625,7.028836250305176,1.7284449338912964,4.033493518829346,5.788754940032959,6.961647987365723,0.0,3.1603920459747314,2.333374261856079,4.94982385635376,5.770613670349121,1.0765633583068848,5.184905529022217,7.562376499176025,10.131973266601562,2.4615700244903564,2.255770683288574,7.805171012878418,7.209572792053223,1.7538251876831055,1.625880479812622,5.531530857086182,4.845163345336914,1.600116491317749,0.0,4.4675703048706055,4.5218119621276855,0.0,0.0,0.0,5.202679634094238,4.82118034362793,0.0,0.0,5.66650390625,5.3591508865356445,1.1751501560211182,2.2789254188537598,2.943960666656494,7.71395206451416,6.534158229827881,7.425924301147461,1.4345698356628418,4.53692626953125,6.3722243309021,10.62680721282959,11.86815071105957,12.630237579345703,4.843209743499756,4.070584297180176,6.416376113891602,8.553729057312012,11.26595401763916,4.987165451049805,4.535341739654541,9.748274803161621,11.373921394348145,4.348535060882568,2.4585225582122803,7.621269702911377,8.857632637023926,3.9401698112487793,3.278261184692383,3.590073585510254,7.206891059875488,6.926375389099121,4.03925085067749,1.2759218215942383,6.189150333404541,5.719845294952393,2.6518495082855225,4.136744022369385,9.385295867919922,11.240004539489746,4.600699424743652,3.6337523460388184,4.288143634796143,9.751608848571777,8.581366539001465,4.495519638061523,2.776883602142334,1.3110949993133545,5.387138843536377,7.697653293609619,2.5078284740448,1.277408242225647,5.70659875869751,9.007266998291016,11.177911758422852,5.126907825469971,3.841003894805908,7.35240364074707,10.954309463500977,11.465339660644531,6.015694618225098,2.524074077606201,7.33665657043457,6.300770282745361,3.0717556476593018,0.0,5.920920372009277,4.762754917144775,1.9803744554519653,1.400008201599121,8.018406867980957,7.913816452026367,2.9905691146850586,3.1846466064453125,8.14306354522705,7.880964279174805,3.572767496109009,1.079595923423767,6.813724517822266,4.089076042175293,6.754593849182129,3.7002475261688232,1.954911708831787,2.893157958984375,8.102717399597168,7.110380172729492,4.237750053405762,4.169346809387207,10.504022598266602,10.376558303833008,5.336910724639893,1.5938043594360352,3.1445815563201904,7.962708950042725,8.192453384399414,4.757009983062744,4.490789890289307,5.111213684082031,8.946450233459473,7.985650539398193,4.274095058441162,1.1510889530181885,7.03712272644043,7.92904806137085,4.399719715118408,6.049082279205322,11.20363998413086,12.419487953186035,5.701043128967285,0.0,6.659613609313965,6.171411514282227,3.4183826446533203,1.6642857789993286,1.3509917259216309,7.630135536193848,6.271617412567139,3.723245859146118,4.375706195831299,11.333383560180664,10.947694778442383,5.069258213043213,2.757085084915161,3.3250277042388916,9.443901062011719,8.426207542419434,4.938052654266357,4.531267166137695,9.271084785461426,9.830695152282715,5.554278373718262,3.3330297470092773,5.009076118469238,11.066389083862305],[0.0,3.1381888389587402,3.155756950378418,0.9242322444915771,0.0,3.172682046890259,1.877722978591919,5.169830799102783,3.0572149753570557,0.0,3.429018020629883,2.897747278213501,3.6656060218811035,0.4818969964981079,7.308821678161621,3.937835931777954,4.269098281860352,1.2557698488235474,5.517080783843994,6.141549110412598,3.104624032974243,5.389033317565918,1.4615240097045898,3.97216796875,3.429384708404541,3.425563335418701,1.280571460723877,5.559698104858398,5.036524772644043,4.325507640838623,0.5337914228439331,6.442400932312012,4.7930731773376465,4.651336669921875,1.2540597915649414,5.376718997955322,6.437839984893799,3.4662935733795166,0.0,5.067598342895508,5.455564498901367,6.62908411026001,5.599093437194824,0.9913824796676636,4.44841194152832,7.411138534545898,7.496402740478516,2.595925807952881,9.151501655578613,5.978638172149658,7.409511566162109,7.733797073364258,6.191647529602051,1.718919038772583,7.479537010192871,8.607842445373535,8.472699165344238,11.588403701782227,10.726157188415527,2.983818292617798,5.001624584197998,8.759051322937012,7.875248432159424,8.253619194030762,2.6869661808013916,6.453146934509277,7.577506065368652,6.387387752532959,2.6107680797576904,6.903912544250488,5.836889266967773,5.237026214599609,1.679498314857483,5.861688137054443,5.43537712097168,7.342652797698975,5.752919673919678,1.5783476829528809,6.535950660705566,9.926023483276367,7.6267218589782715,2.632990598678589,6.875270366668701,9.95845890045166,8.559457778930664,2.7728166580200195,5.304567337036133,6.1025495529174805,7.97037410736084,5.901895999908447,1.5603188276290894,5.631681442260742,6.568813323974609,8.930421829223633,5.302392482757568,1.4908865690231323,6.224538803100586,6.781698226928711,7.747138500213623,5.817018985748291,1.5920374393463135,4.708377838134766,8.063353538513184,10.027817726135254,10.855746269226074,1.9552192687988281,4.701211929321289,8.33161449432373,6.361084461212158,2.2094311714172363,5.965637683868408,8.01326847076416,6.543608665466309,1.892581582069397,5.862344264984131,9.31062126159668,9.06424617767334,3.276442050933838,4.3806304931640625,6.64434814453125,5.707139015197754,1.9947960376739502,5.145358085632324,7.144982814788818,11.161359786987305,7.416624546051025,1.998055100440979,7.199012279510498,4.857510089874268,7.442873954772949,6.6611809730529785,1.4058576822280884,5.882822036743164,8.186128616333008,6.784446716308594,2.018129587173462,6.219133377075195,4.670487403869629,7.072659015655518,5.945657730102539,0.6800748109817505,5.084205627441406,6.259174346923828,7.565304756164551,5.379778861999512,0.7864620685577393,5.555814743041992,9.002655982971191,3.5432991981506348,1.2343846559524536,6.8870530128479,9.80359935760498,7.910674095153809,2.003187656402588,6.827825546264648,8.824708938598633,6.338835716247559,1.8689929246902466,6.7240681648254395,5.8338942527771,8.562703132629395,5.052370071411133,2.317356586456299,3.61967134475708,9.573328971862793,4.079527854919434,2.084946393966675,6.2144622802734375,5.613155364990234,7.774398326873779,6.060250282287598,1.5339077711105347,5.366402626037598,9.88459300994873,6.672163486480713,2.6208386421203613,6.969149589538574,7.53195858001709,10.416146278381348],[0.0,0.0,0.0,0.0,0.0,0.0,0.0,0.0,0.0,0.0,0.0,0.0,0.0,0.0,0.0,2.4487931728363037,0.0,0.0,0.0,0.0,1.913179636001587,0.0,0.0,0.0,1.9510316848754883,0.0,0.0,0.0,2.6916325092315674,0.0,0.0,0.0,3.2084832191467285,0.0,0.0,0.0,2.9095726013183594,0.0,0.0,0.0,0.0,1.1920444965362549,0.0,0.0,0.0,1.6992311477661133,0.0,0.0,0.0,0.0,2.292231321334839,0.0,0.0,0.0,0.0,0.0,1.9571805000305176,0.0,0.0,0.0,0.0,0.0,2.1324234008789062,0.0,0.0,0.0,1.4742103815078735,0.0,0.0,0.0,2.037027597427368,0.0,0.0,0.0,0.0,2.4398274421691895,0.0,0.0,0.0,1.2641186714172363,0.0,0.0,0.0,2.2753548622131348,0.0,0.0,0.0,0.0,1.4256527423858643,0.0,0.0,0.0,0.0,1.5568788051605225,0.0,0.0,0.0,0.0,1.5669333934783936,0.0,0.0,0.0,0.0,2.344775915145874,0.0,0.0,0.0,2.387484073638916,0.0,0.0,0.0,1.9916834831237793,0.0,0.0,0.0,1.817697525024414,0.0,0.0,0.0,1.3321566581726074,0.0,0.0,0.0,1.7363214492797852,0.0,0.0,0.0,0.0,0.0,1.3040525913238525,0.0,0.0,0.0,1.7018554210662842,0.0,0.0,0.0,0.0,0.0,0.0,0.0,0.0,0.0,1.8526549339294434,0.0,0.0,0.0,2.0813939571380615,0.0,0.0,0.0,1.929136037826538,0.0,0.0,0.0,1.8699846267700195,0.0,0.0,0.0,0.0,1.6596693992614746,0.0,0.0,0.0,1.4315552711486816,0.0,1.1689190864562988,0.0,0.0,1.9908697605133057,0.0,0.0,0.0,1.7163355350494385,0.0,1.3119616508483887,0.0,0.0,1.3927193880081177],[0.0,0.0,0.0,0.0,0.0,0.0,0.0,1.6130582094192505,0.0,0.0,0.0,1.530449390411377,0.0,0.0,0.0,0.0,0.0,0.0,0.0,0.0,1.9901349544525146,0.0,0.0,0.0,2.3952438831329346,0.0,0.0,0.0,2.5222997665405273,0.0,0.0,0.0,3.5677859783172607,0.0,0.0,0.0,2.6295504570007324,0.0,0.0,0.0,0.0,1.6618403196334839,0.0,0.0,0.0,3.0564932823181152,0.0,0.0,0.0,0.0,2.2466189861297607,0.0,0.0,0.0,0.0,0.0,3.6988565921783447,0.0,0.0,0.0,0.0,0.0,2.3708722591400146,0.0,0.0,0.0,2.9385528564453125,0.0,0.0,0.0,1.8821048736572266,0.0,0.0,0.0,0.0,2.1023082733154297,0.0,0.0,0.0,2.360515594482422,0.0,0.0,0.0,2.8810620307922363,0.0,0.0,0.0,0.0,2.316211462020874,0.0,0.0,0.0,0.0,2.4461660385131836,0.0,0.0,0.0,0.0,2.3081037998199463,0.0,0.0,0.0,0.0,3.031494617462158,0.0,0.0,0.0,2.634042739868164,0.0,0.0,0.0,2.9053688049316406,0.0,0.0,0.0,2.7064034938812256,0.0,0.0,0.0,2.2125234603881836,0.0,0.0,0.0,2.614258289337158,0.0,0.0,0.0,0.0,0.0,2.076761245727539,0.0,0.0,0.0,2.5996432304382324,0.0,0.0,0.0,0.0,3.5804638862609863,0.0,0.0,0.0,0.0,2.5028836727142334,0.0,0.0,0.0,2.0127954483032227,0.0,0.0,0.0,1.5171384811401367,0.0,0.0,0.0,1.971740961074829,0.0,0.0,0.0,0.0,2.6256654262542725,0.0,0.0,0.0,2.3617360591888428,0.0,0.0,0.0,0.0,2.1213583946228027,0.0,0.0,0.0,1.522797703742981,0.0,0.0,0.0,0.0,2.2718918323516846],[0.0,8.024799346923828,11.261908531188965,9.45133113861084,7.541814804077148,7.609978199005127,9.53681468963623,2.848888635635376,9.388580322265625,5.654204845428467,10.21833610534668,6.533053398132324,12.673154830932617,7.971047401428223,12.196584701538086,6.011566638946533,11.3262357711792,7.294480323791504,8.173916816711426,12.347326278686523,4.591590404510498,8.397133827209473,5.870448589324951,10.36375904083252,7.429286003112793,10.430726051330566,7.417173862457275,9.492213249206543,4.939093589782715,8.542786598205566,6.352326393127441,12.12420654296875,6.772183418273926,10.136658668518066,8.06592082977295,10.477378845214844,5.999849796295166,7.174413681030273,7.414745330810547,11.674468040466309,15.522014617919922,8.30302906036377,13.193265914916992,9.716997146606445,14.4395751953125,11.039259910583496,14.938233375549316,9.98007583618164,10.742748260498047,18.753265380859375,11.448692321777344,16.68256187438965,17.576549530029297,10.68982982635498,11.715750694274902,16.293739318847656,11.475092887878418,15.825864791870117,18.033008575439453,10.600202560424805,12.79521656036377,15.029459953308105,9.11386489868164,12.550439834594727,10.09909725189209,10.043744087219238,7.232393264770508,8.413002014160156,8.247699737548828,14.509317398071289,11.56222915649414,13.326303482055664,10.645516395568848,10.660942077636719,14.340953826904297,9.703705787658691,12.329996109008789,10.301206588745117,8.419672012329102,5.452298164367676,5.672032833099365,7.942284107208252,10.618244171142578,7.935764789581299,8.2612886428833,8.610092163085938,13.018315315246582,13.460874557495117,7.9997968673706055,8.144357681274414,8.637162208557129,10.95323371887207,13.830740928649902,7.790510177612305,9.783124923706055,10.779007911682129,9.978754997253418,12.888989448547363,9.626785278320312,12.14243221282959,10.492960929870605,11.401896476745605,14.241358757019043,10.33831787109375,13.797677040100098,10.50832462310791,12.91418743133545,8.40222454071045,10.744010925292969,10.500685691833496,14.813074111938477,9.701997756958008,10.84736442565918,10.8197603225708,10.703509330749512,10.196563720703125,11.234204292297363,9.38461685180664,12.6777982711792,9.277345657348633,10.964472770690918,10.338074684143066,13.125846862792969,10.628249168395996,12.246088027954102,15.122653007507324,10.376936912536621,11.497982025146484,16.6873722076416,11.978635787963867,13.159106254577637,11.824121475219727,11.609461784362793,8.254807472229004,11.310501098632812,11.048327445983887,10.457919120788574,15.024378776550293,9.99909496307373,14.516263008117676,12.076237678527832,14.344217300415039,11.504350662231445,7.338929176330566,9.788675308227539,10.295112609863281,8.908180236816406,7.683192253112793,10.774688720703125,10.0659761428833,9.394696235656738,6.789296627044678,4.167597770690918,9.279889106750488,11.960756301879883,8.47071361541748,9.084586143493652,10.346729278564453,12.619316101074219,17.43765640258789,12.571216583251953,15.774956703186035,12.690018653869629,12.752283096313477,10.26835823059082,10.543519020080566,12.029804229736328,13.151212692260742,11.072315216064453,7.904494762420654,9.221927642822266,10.239057540893555,10.78958797454834,8.203770637512207,10.045036315917969,10.264300346374512,12.682578086853027,15.083578109741211,11.937505722045898],[0.0,0.0,0.0,0.0,0.0,0.0,0.0,0.0,0.0,0.0,0.0,0.0,0.0,0.0,0.0,2.1617555618286133,0.0,0.0,0.0,0.0,2.6887104511260986,0.0,0.0,0.0,0.0,0.0,0.0,0.0,0.0,0.0,0.0,0.0,2.648122787475586,0.0,0.0,0.0,4.181556224822998,0.0,0.0,0.0,0.0,0.0,0.0,0.0,0.0,2.484647274017334,0.0,0.0,0.0,0.0,0.0,0.0,0.0,0.0,0.0,0.0,3.598705768585205,0.0,0.0,0.0,0.0,0.0,0.0,0.0,0.0,0.0,0.0,0.0,0.0,0.0,0.0,0.0,0.0,0.0,0.0,1.4226632118225098,0.0,0.0,0.0,4.0888447761535645,0.0,0.0,0.0,5.247581481933594,1.7959860563278198,0.0,0.0,0.0,0.0,0.0,0.0,0.0,0.0,2.85221004486084,0.0,0.0,0.0,0.0,0.0,0.0,0.0,0.0,0.0,0.0,0.0,0.0,0.0,2.980496644973755,0.0,0.0,0.0,4.476134300231934,0.0,0.0,0.0,3.188405990600586,1.5172083377838135,0.0,0.0,0.0,0.0,0.0,0.0,4.867559909820557,1.7468764781951904,1.8901824951171875,0.0,1.4352169036865234,0.0,0.0,0.0,0.0,0.0,1.8434841632843018,0.0,0.0,0.0,0.0,4.0981831550598145,2.2924904823303223,0.0,0.0,0.0,3.072718620300293,0.0,0.0,0.0,5.511162757873535,0.0,0.0,0.0,0.0,0.0,0.0,0.0,0.0,0.0,0.0,0.0,0.0,0.0,0.0,0.0,0.0,3.56598162651062,0.0,0.0,0.0,0.0,0.0,0.0,0.0,0.0,4.627231121063232,1.6850358247756958,0.0,0.0,0.0,3.6881120204925537],[0.0,0.0,0.0,0.0,0.0,0.0,0.0,2.2730672359466553,0.0,7.481529712677002,0.0,3.9207513332366943,0.0,7.3807291984558105,0.0,5.232083320617676,0.0,4.382864952087402,0.0,0.0,5.310222148895264,0.0,3.6819138526916504,0.0,4.899001121520996,0.0,4.315604209899902,0.0,5.500121116638184,0.0,3.7953641414642334,0.0,5.34173583984375,0.0,5.9438323974609375,0.0,6.518102169036865,0.0,5.520884990692139,0.0,0.0,6.386256694793701,0.0,5.070505619049072,0.0,5.6405029296875,0.0,5.016626834869385,0.0,0.0,6.200962543487549,0.0,0.0,5.000637531280518,0.0,0.0,6.444687843322754,0.0,0.0,4.819516181945801,0.0,0.0,6.086468696594238,0.0,5.561697006225586,0.0,6.119414806365967,0.0,5.26149845123291,0.0,5.162068843841553,0.0,5.891990661621094,0.0,0.0,4.927989482879639,0.0,6.298274993896484,0.0,4.667836666107178,0.0,6.038466930389404,0.0,5.682275772094727,0.0,5.744299411773682,0.0,0.0,5.431975364685059,0.0,5.349409580230713,0.0,0.0,6.2414984703063965,0.0,6.665500164031982,0.0,0.0,5.841561317443848,0.0,5.697058200836182,0.0,0.0,6.115455627441406,0.0,5.653528690338135,0.0,5.688074111938477,0.0,5.748321056365967,0.0,6.704355716705322,0.0,5.837797164916992,0.0,5.565703868865967,0.0,4.740411281585693,0.0,4.6478800773620605,0.0,6.157690048217773,0.0,5.4934587478637695,0.0,0.0,6.08200216293335,0.0,0.0,6.239065170288086,0.0,6.1797871589660645,0.0,4.851033687591553,0.0,6.712307453155518,0.0,0.0,6.804813861846924,0.0,6.1799116134643555,0.0,0.0,5.513751029968262,0.0,5.569892406463623,0.0,6.291431427001953,0.0,5.944942951202393,0.0,4.928140640258789,0.0,5.5695343017578125,0.0,5.856439590454102,0.0,6.07385778427124,0.0,0.0,5.0985236167907715,0.0,5.569421768188477,0.0,4.316539287567139,0.0,6.263005256652832,0.0,0.0,4.848918437957764,0.0,5.827639102935791,0.0,3.3414525985717773,0.0,5.65098237991333,0.0,0.0,5.215355396270752],[0.0,0.0,0.0,0.0,0.0,0.0,0.0,1.0519120693206787,0.0,3.4362947940826416,0.0,0.0,0.0,2.6614534854888916,0.0,0.0,0.0,0.0,0.0,0.0,0.0,0.0,0.0,0.0,2.0760326385498047,0.0,0.0,0.0,1.8713181018829346,0.0,0.0,0.0,3.117338180541992,0.0,0.0,0.0,1.4877628087997437,0.0,0.0,0.0,0.0,2.0067391395568848,0.0,0.0,0.0,0.0,0.0,0.0,0.0,0.0,1.9369826316833496,0.0,0.0,0.0,0.0,0.0,2.093656539916992,0.0,0.0,0.0,0.0,0.0,1.597769021987915,0.0,0.0,0.0,1.4770784378051758,0.0,0.0,0.0,3.724020481109619,0.0,1.4062933921813965,0.0,0.0,2.799513816833496,0.0,0.0,0.0,3.0400807857513428,0.0,0.0,0.0,1.964097499847412,0.0,0.0,0.0,0.0,2.7378339767456055,0.0,0.0,0.0,0.0,2.5882136821746826,0.0,0.0,0.0,0.0,2.38020920753479,0.0,0.0,0.0,0.0,2.2025604248046875,0.0,0.0,0.0,1.7154104709625244,0.0,0.0,0.0,1.6268081665039062,0.0,0.0,0.0,1.2859573364257812,0.0,0.0,0.0,4.132973670959473,0.0,0.0,0.0,3.205075263977051,0.0,0.0,0.0,0.0,0.0,0.0,0.0,0.0,0.0,1.579128384590149,0.0,0.0,0.0,0.0,3.036536931991577,0.0,0.0,0.0,0.0,2.087333917617798,0.0,0.0,0.0,0.0,0.0,0.0,0.0,1.295710802078247,0.0,0.0,0.0,1.5881996154785156,0.0,0.0,0.0,0.0,1.7551636695861816,0.0,0.0,0.0,2.8377597332000732,0.0,0.0,0.0,0.0,1.7562451362609863,0.0,0.0,0.0,3.0467917919158936,0.0,0.0,0.0,0.0,3.16054630279541],[0.0,0.0,0.0,0.0,0.0,0.0,0.0,0.0,2.4746909141540527,0.0,0.0,0.0,1.2147185802459717,0.0,0.0,0.0,1.946765422821045,0.0,0.0,0.0,1.3051899671554565,2.4838778972625732,0.0,0.0,0.0,6.736664295196533,0.0,0.0,0.0,2.816291093826294,0.0,0.0,0.0,1.6529264450073242,0.0,0.0,0.0,1.4702377319335938,0.0,0.0,0.0,2.0455172061920166,4.5545973777771,0.0,0.0,1.4833691120147705,1.414159893989563,0.0,0.0,0.0,1.6987080574035645,0.0,3.231736183166504,0.0,0.0,0.0,3.571808099746704,2.1074256896972656,4.049068927764893,0.0,0.0,0.0,0.0,1.5442359447479248,0.0,0.0,2.476019859313965,1.9884510040283203,0.0,0.0,0.0,2.6356184482574463,0.0,0.0,0.0,1.6513662338256836,0.0,0.0,0.0,0.0,0.0,0.0,0.0,1.930121898651123,0.0,0.0,0.0,0.0,1.2764304876327515,1.589544415473938,0.0,0.0,0.0,1.5518951416015625,0.0,0.0,0.0,0.0,0.0,1.2370606660842896,0.0,0.0,0.0,3.4633843898773193,1.9875316619873047,0.0,0.0,2.3044545650482178,0.0,0.0,0.0,1.7983425855636597,0.0,0.0,0.0,0.0,0.0,0.0,0.0,0.0,2.672185182571411,0.0,0.0,0.0,0.0,2.6432390213012695,0.0,0.0,1.4380040168762207,1.5000905990600586,3.1086292266845703,1.2304353713989258,0.0,1.5181574821472168,0.0,1.5086829662322998,0.0,0.0,1.4921469688415527,0.0,0.0,0.0,0.0,1.3933167457580566,0.0,0.0,0.0,0.0,0.0,0.0,0.0,1.2513960599899292,0.0,0.0,0.0,1.4427276849746704,0.0,0.0,0.0,1.6128129959106445,1.7223906517028809,0.0,1.3560092449188232,0.0,1.668194055557251,0.0,0.0,0.0,0.0,0.0,3.179267406463623,0.0,0.0,0.0,0.0,0.0,0.0,0.0,1.2421952486038208],[0.0,0.0,0.0,0.0,0.0,0.0,1.2878848314285278,3.553549289703369,1.1706870794296265,2.8216891288757324,4.299555778503418,4.8129963874816895,2.4472146034240723,4.479355812072754,0.0,2.5927646160125732,1.9010196924209595,1.8126959800720215,1.6577802896499634,1.1610618829727173,2.8417515754699707,2.234161853790283,1.2226274013519287,2.1796371936798096,4.693480968475342,2.3218090534210205,2.1470131874084473,4.4820780754089355,5.175968170166016,5.402688026428223,2.4089834690093994,2.9191975593566895,3.9043173789978027,3.224623680114746,2.831836223602295,2.203321933746338,4.147213935852051,4.212766170501709,2.666898250579834,0.0,0.0,1.8378291130065918,0.0,1.6264806985855103,1.7978308200836182,3.0735650062561035,0.0,2.7125754356384277,0.0,0.0,1.7978436946868896,0.0,1.787575364112854,1.5419256687164307,0.0,0.0,2.6682937145233154,0.0,1.3993735313415527,1.2213045358657837,3.1812148094177246,0.0,3.478343963623047,2.9126715660095215,2.146450996398926,0.0,3.2463788986206055,1.1823383569717407,2.366241216659546,2.8054285049438477,4.0812764167785645,2.6196255683898926,3.1198129653930664,2.615224599838257,3.620180606842041,4.335567474365234,2.265866994857788,3.4873547554016113,2.8861894607543945,3.7356162071228027,2.785438060760498,2.9638047218322754,1.5566322803497314,3.2289438247680664,0.0,2.8454694747924805,3.0182127952575684,4.636251926422119,4.627376556396484,4.6114912033081055,3.702331066131592,4.359635353088379,2.436701774597168,2.705702304840088,3.013160228729248,3.4041924476623535,0.0,2.6696295738220215,2.6280884742736816,1.3540456295013428,2.666224479675293,1.8751564025878906,2.2920022010803223,3.3354177474975586,1.8791773319244385,3.9228639602661133,0.0,2.526402473449707,2.3616113662719727,2.6186351776123047,1.4785529375076294,2.1268310546875,2.3312344551086426,2.522578716278076,1.4596219062805176,3.209545135498047,0.0,2.1260995864868164,2.272167444229126,3.6501331329345703,2.8417258262634277,1.9803049564361572,0.0,2.1822736263275146,0.0,0.0,1.7355855703353882,2.95729398727417,0.0,1.8212966918945312,1.1677429676055908,2.137559652328491,2.9438576698303223,2.7616772651672363,1.1025166511535645,2.2631843090057373,0.0,0.0,2.839784622192383,1.1614030599594116,3.1480226516723633,2.6382341384887695,2.0256638526916504,2.6010913848876953,3.007819175720215,1.6631447076797485,0.0,2.290037155151367,1.4673422574996948,1.350460171699524,3.155477523803711,2.4819254875183105,0.0,1.8449989557266235,0.0,1.6717778444290161,0.0,2.593255043029785,1.1056376695632935,1.9991896152496338,2.551532745361328,1.9569952487945557,1.8966565132141113,2.783452033996582,3.231659412384033,1.384834885597229,2.385251522064209,3.038140296936035,2.930508613586426,3.2593111991882324,3.0981483459472656,3.2706551551818848,3.2206244468688965,2.9490485191345215,2.2319607734680176,2.3313088417053223,3.321573257446289,3.0386013984680176,3.822373867034912],[0.0,1.539856195449829,7.1373610496521,9.587124824523926,10.838446617126465,6.99946403503418,11.51965618133545,14.10914421081543,13.804171562194824,13.76760196685791,11.752663612365723,13.625639915466309,12.26002025604248,13.00748348236084,10.967864990234375,11.788769721984863,12.087540626525879,12.933370590209961,7.125026702880859,12.027213096618652,11.835270881652832,13.571709632873535,13.922964096069336,9.777135848999023,13.098126411437988,10.303058624267578,10.911605834960938,11.761551856994629,12.934106826782227,11.1871976852417,10.409856796264648,13.732177734375,14.11803913116455,12.96854019165039,11.71730899810791,13.267390251159668,12.600833892822266,12.895161628723145,12.101725578308105,8.322371482849121,11.781384468078613,11.4135103225708,11.765121459960938,11.07728099822998,9.94485092163086,10.972672462463379,8.883173942565918,11.48561954498291,6.5170488357543945,7.380692005157471,11.576090812683105,8.011296272277832,9.563970565795898,9.509506225585938,6.057647228240967,7.3012590408325195,11.225208282470703,7.217216968536377,8.128087997436523,8.997286796569824,5.4362359046936035,7.927639961242676,10.046470642089844,9.087701797485352,9.27138614654541,11.785503387451172,12.419820785522461,8.616588592529297,9.746122360229492,11.209015846252441,12.79906177520752,11.394461631774902,10.030472755432129,5.907161712646484,7.7946367263793945,11.570718765258789,8.884529113769531,10.426064491271973,11.587166786193848,12.673990249633789,13.572550773620605,11.580144882202148,10.781002044677734,11.75373649597168,10.488807678222656,10.471075057983398,5.261685848236084,7.076034069061279,10.722654342651367,9.080419540405273,9.981492042541504,4.314131259918213,7.708515167236328,10.38633918762207,10.824362754821777,10.913357734680176,5.951794624328613,6.519452095031738,11.506648063659668,9.914280891418457,10.58137321472168,3.0375497341156006,6.194587707519531,12.275480270385742,9.258511543273926,10.186042785644531,11.367573738098145,11.467058181762695,9.823176383972168,10.942341804504395,12.518427848815918,11.234344482421875,12.338668823242188,10.829244613647461,8.093262672424316,10.826762199401855,10.446722030639648,9.05798053741455,9.259405136108398,11.263644218444824,9.361482620239258,9.936176300048828,12.41750431060791,12.289499282836914,7.128519535064697,12.652114868164062,10.207414627075195,4.342525005340576,9.907100677490234,10.863493919372559,12.313669204711914,10.902013778686523,10.420802116394043,12.41616153717041,10.337160110473633,11.51459789276123,4.328730583190918,7.23246955871582,11.297107696533203,11.823363304138184,11.630471229553223,4.3863525390625,9.057357788085938,11.633635520935059,10.92800235748291,10.926166534423828,9.288707733154297,11.871071815490723,8.69301986694336,11.478311538696289,9.002326965332031,11.585349082946777,8.92387580871582,11.10940933227539,9.320942878723145,10.278587341308594,11.727347373962402,12.13107681274414,5.012257099151611,8.094818115234375,11.990412712097168,9.736654281616211,11.333734512329102,9.838286399841309,12.878265380859375,8.225566864013672,11.7598237991333,5.916409015655518,7.800740718841553,12.433483123779297,7.299534797668457,10.792204856872559,10.155096054077148,13.859553337097168,10.324097633361816,10.788373947143555,4.905097961425781,6.998213768005371,12.437198638916016],[0.0,0.0,0.0,7.153098106384277,0.0,0.379635214805603,4.1268744468688965,3.2736103534698486,13.17136001586914,4.151533603668213,8.0134859085083,6.880237102508545,16.64541244506836,7.485739231109619,7.149927139282227,6.420594215393066,14.841414451599121,7.549473762512207,3.932868719100952,10.673283576965332,9.192458152770996,18.25098419189453,8.761361122131348,13.123308181762695,9.965436935424805,15.803621292114258,8.021685600280762,11.248974800109863,12.129396438598633,20.1374454498291,8.949151039123535,15.361608505249023,12.691509246826172,21.12205696105957,10.826934814453125,11.456281661987305,11.054637908935547,18.8167724609375,8.880524635314941,6.296844482421875,10.53106689453125,9.420632362365723,11.107916831970215,8.972222328186035,8.318686485290527,10.265376091003418,12.016094207763672,8.281991958618164,6.733922004699707,13.0431489944458,9.171213150024414,10.960875511169434,16.42650604248047,8.237187385559082,6.820024490356445,12.859183311462402,12.890685081481934,13.11332893371582,17.614870071411133,8.699390411376953,7.0161051750183105,14.202296257019043,12.57921028137207,20.0501651763916,9.148544311523438,12.913873672485352,12.133678436279297,17.38068389892578,9.874823570251465,13.192459106445312,9.999463081359863,18.332420349121094,10.302474975585938,6.7127275466918945,12.366609573364258,10.805174827575684,16.14764404296875,10.938148498535156,14.557613372802734,14.458972930908203,20.21601104736328,13.025050163269043,12.013468742370605,11.585051536560059,17.253738403320312,10.583648681640625,7.1610517501831055,12.351811408996582,10.273274421691895,11.477265357971191,9.308944702148438,7.39288330078125,11.185310363769531,10.62277889251709,13.99409294128418,10.438884735107422,7.250863075256348,11.46663761138916,10.796192169189453,13.948750495910645,10.291529655456543,9.131982803344727,12.995824813842773,11.24894905090332,17.551719665527344,9.377026557922363,15.180464744567871,14.5366792678833,18.109777450561523,11.87778377532959,14.514008522033691,14.28647518157959,18.659303665161133,11.6295804977417,11.432595252990723,13.002062797546387,17.288135528564453,10.305989265441895,13.636703491210938,11.383188247680664,17.091278076171875,9.65897274017334,12.941786766052246,12.873929977416992,11.320213317871094,19.455673217773438,10.684173583984375,6.696876525878906,13.057046890258789,12.850237846374512,18.752500534057617,10.396027565002441,14.482011795043945,13.11304759979248,16.88438606262207,11.395702362060547,6.891623020172119,9.096274375915527,11.423256874084473,14.261813163757324,9.976543426513672,8.116660118103027,16.992149353027344,12.94263744354248,19.585895538330078,11.172683715820312,12.38349723815918,11.544416427612305,16.865493774414062,10.511411666870117,17.432018280029297,13.739490509033203,20.152267456054688,12.681975364685059,16.080720901489258,14.937336921691895,20.456249237060547,12.56524658203125,9.865128517150879,13.780110359191895,13.245664596557617,17.266054153442383,11.312180519104004,12.655938148498535,12.097869873046875,13.779901504516602,10.63829517364502,8.007189750671387,10.28591537475586,9.692403793334961,12.670994758605957,9.120927810668945,13.54694938659668,11.488450050354004,16.309783935546875,10.896763801574707,8.097922325134277,10.289224624633789,11.843509674072266]],\"type\":\"heatmap\",\"xaxis\":\"x\",\"yaxis\":\"y\",\"hovertemplate\":\"x: %{x}\\u003cbr\\u003ey: %{y}\\u003cbr\\u003ecolor: %{z}\\u003cextra\\u003e\\u003c\\u002fextra\\u003e\"}],                        {\"template\":{\"data\":{\"histogram2dcontour\":[{\"type\":\"histogram2dcontour\",\"colorbar\":{\"outlinewidth\":0,\"ticks\":\"\"},\"colorscale\":[[0.0,\"#0d0887\"],[0.1111111111111111,\"#46039f\"],[0.2222222222222222,\"#7201a8\"],[0.3333333333333333,\"#9c179e\"],[0.4444444444444444,\"#bd3786\"],[0.5555555555555556,\"#d8576b\"],[0.6666666666666666,\"#ed7953\"],[0.7777777777777778,\"#fb9f3a\"],[0.8888888888888888,\"#fdca26\"],[1.0,\"#f0f921\"]]}],\"choropleth\":[{\"type\":\"choropleth\",\"colorbar\":{\"outlinewidth\":0,\"ticks\":\"\"}}],\"histogram2d\":[{\"type\":\"histogram2d\",\"colorbar\":{\"outlinewidth\":0,\"ticks\":\"\"},\"colorscale\":[[0.0,\"#0d0887\"],[0.1111111111111111,\"#46039f\"],[0.2222222222222222,\"#7201a8\"],[0.3333333333333333,\"#9c179e\"],[0.4444444444444444,\"#bd3786\"],[0.5555555555555556,\"#d8576b\"],[0.6666666666666666,\"#ed7953\"],[0.7777777777777778,\"#fb9f3a\"],[0.8888888888888888,\"#fdca26\"],[1.0,\"#f0f921\"]]}],\"heatmap\":[{\"type\":\"heatmap\",\"colorbar\":{\"outlinewidth\":0,\"ticks\":\"\"},\"colorscale\":[[0.0,\"#0d0887\"],[0.1111111111111111,\"#46039f\"],[0.2222222222222222,\"#7201a8\"],[0.3333333333333333,\"#9c179e\"],[0.4444444444444444,\"#bd3786\"],[0.5555555555555556,\"#d8576b\"],[0.6666666666666666,\"#ed7953\"],[0.7777777777777778,\"#fb9f3a\"],[0.8888888888888888,\"#fdca26\"],[1.0,\"#f0f921\"]]}],\"heatmapgl\":[{\"type\":\"heatmapgl\",\"colorbar\":{\"outlinewidth\":0,\"ticks\":\"\"},\"colorscale\":[[0.0,\"#0d0887\"],[0.1111111111111111,\"#46039f\"],[0.2222222222222222,\"#7201a8\"],[0.3333333333333333,\"#9c179e\"],[0.4444444444444444,\"#bd3786\"],[0.5555555555555556,\"#d8576b\"],[0.6666666666666666,\"#ed7953\"],[0.7777777777777778,\"#fb9f3a\"],[0.8888888888888888,\"#fdca26\"],[1.0,\"#f0f921\"]]}],\"contourcarpet\":[{\"type\":\"contourcarpet\",\"colorbar\":{\"outlinewidth\":0,\"ticks\":\"\"}}],\"contour\":[{\"type\":\"contour\",\"colorbar\":{\"outlinewidth\":0,\"ticks\":\"\"},\"colorscale\":[[0.0,\"#0d0887\"],[0.1111111111111111,\"#46039f\"],[0.2222222222222222,\"#7201a8\"],[0.3333333333333333,\"#9c179e\"],[0.4444444444444444,\"#bd3786\"],[0.5555555555555556,\"#d8576b\"],[0.6666666666666666,\"#ed7953\"],[0.7777777777777778,\"#fb9f3a\"],[0.8888888888888888,\"#fdca26\"],[1.0,\"#f0f921\"]]}],\"surface\":[{\"type\":\"surface\",\"colorbar\":{\"outlinewidth\":0,\"ticks\":\"\"},\"colorscale\":[[0.0,\"#0d0887\"],[0.1111111111111111,\"#46039f\"],[0.2222222222222222,\"#7201a8\"],[0.3333333333333333,\"#9c179e\"],[0.4444444444444444,\"#bd3786\"],[0.5555555555555556,\"#d8576b\"],[0.6666666666666666,\"#ed7953\"],[0.7777777777777778,\"#fb9f3a\"],[0.8888888888888888,\"#fdca26\"],[1.0,\"#f0f921\"]]}],\"mesh3d\":[{\"type\":\"mesh3d\",\"colorbar\":{\"outlinewidth\":0,\"ticks\":\"\"}}],\"scatter\":[{\"fillpattern\":{\"fillmode\":\"overlay\",\"size\":10,\"solidity\":0.2},\"type\":\"scatter\"}],\"parcoords\":[{\"type\":\"parcoords\",\"line\":{\"colorbar\":{\"outlinewidth\":0,\"ticks\":\"\"}}}],\"scatterpolargl\":[{\"type\":\"scatterpolargl\",\"marker\":{\"colorbar\":{\"outlinewidth\":0,\"ticks\":\"\"}}}],\"bar\":[{\"error_x\":{\"color\":\"#2a3f5f\"},\"error_y\":{\"color\":\"#2a3f5f\"},\"marker\":{\"line\":{\"color\":\"#E5ECF6\",\"width\":0.5},\"pattern\":{\"fillmode\":\"overlay\",\"size\":10,\"solidity\":0.2}},\"type\":\"bar\"}],\"scattergeo\":[{\"type\":\"scattergeo\",\"marker\":{\"colorbar\":{\"outlinewidth\":0,\"ticks\":\"\"}}}],\"scatterpolar\":[{\"type\":\"scatterpolar\",\"marker\":{\"colorbar\":{\"outlinewidth\":0,\"ticks\":\"\"}}}],\"histogram\":[{\"marker\":{\"pattern\":{\"fillmode\":\"overlay\",\"size\":10,\"solidity\":0.2}},\"type\":\"histogram\"}],\"scattergl\":[{\"type\":\"scattergl\",\"marker\":{\"colorbar\":{\"outlinewidth\":0,\"ticks\":\"\"}}}],\"scatter3d\":[{\"type\":\"scatter3d\",\"line\":{\"colorbar\":{\"outlinewidth\":0,\"ticks\":\"\"}},\"marker\":{\"colorbar\":{\"outlinewidth\":0,\"ticks\":\"\"}}}],\"scattermapbox\":[{\"type\":\"scattermapbox\",\"marker\":{\"colorbar\":{\"outlinewidth\":0,\"ticks\":\"\"}}}],\"scatterternary\":[{\"type\":\"scatterternary\",\"marker\":{\"colorbar\":{\"outlinewidth\":0,\"ticks\":\"\"}}}],\"scattercarpet\":[{\"type\":\"scattercarpet\",\"marker\":{\"colorbar\":{\"outlinewidth\":0,\"ticks\":\"\"}}}],\"carpet\":[{\"aaxis\":{\"endlinecolor\":\"#2a3f5f\",\"gridcolor\":\"white\",\"linecolor\":\"white\",\"minorgridcolor\":\"white\",\"startlinecolor\":\"#2a3f5f\"},\"baxis\":{\"endlinecolor\":\"#2a3f5f\",\"gridcolor\":\"white\",\"linecolor\":\"white\",\"minorgridcolor\":\"white\",\"startlinecolor\":\"#2a3f5f\"},\"type\":\"carpet\"}],\"table\":[{\"cells\":{\"fill\":{\"color\":\"#EBF0F8\"},\"line\":{\"color\":\"white\"}},\"header\":{\"fill\":{\"color\":\"#C8D4E3\"},\"line\":{\"color\":\"white\"}},\"type\":\"table\"}],\"barpolar\":[{\"marker\":{\"line\":{\"color\":\"#E5ECF6\",\"width\":0.5},\"pattern\":{\"fillmode\":\"overlay\",\"size\":10,\"solidity\":0.2}},\"type\":\"barpolar\"}],\"pie\":[{\"automargin\":true,\"type\":\"pie\"}]},\"layout\":{\"autotypenumbers\":\"strict\",\"colorway\":[\"#636efa\",\"#EF553B\",\"#00cc96\",\"#ab63fa\",\"#FFA15A\",\"#19d3f3\",\"#FF6692\",\"#B6E880\",\"#FF97FF\",\"#FECB52\"],\"font\":{\"color\":\"#2a3f5f\"},\"hovermode\":\"closest\",\"hoverlabel\":{\"align\":\"left\"},\"paper_bgcolor\":\"white\",\"plot_bgcolor\":\"#E5ECF6\",\"polar\":{\"bgcolor\":\"#E5ECF6\",\"angularaxis\":{\"gridcolor\":\"white\",\"linecolor\":\"white\",\"ticks\":\"\"},\"radialaxis\":{\"gridcolor\":\"white\",\"linecolor\":\"white\",\"ticks\":\"\"}},\"ternary\":{\"bgcolor\":\"#E5ECF6\",\"aaxis\":{\"gridcolor\":\"white\",\"linecolor\":\"white\",\"ticks\":\"\"},\"baxis\":{\"gridcolor\":\"white\",\"linecolor\":\"white\",\"ticks\":\"\"},\"caxis\":{\"gridcolor\":\"white\",\"linecolor\":\"white\",\"ticks\":\"\"}},\"coloraxis\":{\"colorbar\":{\"outlinewidth\":0,\"ticks\":\"\"}},\"colorscale\":{\"sequential\":[[0.0,\"#0d0887\"],[0.1111111111111111,\"#46039f\"],[0.2222222222222222,\"#7201a8\"],[0.3333333333333333,\"#9c179e\"],[0.4444444444444444,\"#bd3786\"],[0.5555555555555556,\"#d8576b\"],[0.6666666666666666,\"#ed7953\"],[0.7777777777777778,\"#fb9f3a\"],[0.8888888888888888,\"#fdca26\"],[1.0,\"#f0f921\"]],\"sequentialminus\":[[0.0,\"#0d0887\"],[0.1111111111111111,\"#46039f\"],[0.2222222222222222,\"#7201a8\"],[0.3333333333333333,\"#9c179e\"],[0.4444444444444444,\"#bd3786\"],[0.5555555555555556,\"#d8576b\"],[0.6666666666666666,\"#ed7953\"],[0.7777777777777778,\"#fb9f3a\"],[0.8888888888888888,\"#fdca26\"],[1.0,\"#f0f921\"]],\"diverging\":[[0,\"#8e0152\"],[0.1,\"#c51b7d\"],[0.2,\"#de77ae\"],[0.3,\"#f1b6da\"],[0.4,\"#fde0ef\"],[0.5,\"#f7f7f7\"],[0.6,\"#e6f5d0\"],[0.7,\"#b8e186\"],[0.8,\"#7fbc41\"],[0.9,\"#4d9221\"],[1,\"#276419\"]]},\"xaxis\":{\"gridcolor\":\"white\",\"linecolor\":\"white\",\"ticks\":\"\",\"title\":{\"standoff\":15},\"zerolinecolor\":\"white\",\"automargin\":true,\"zerolinewidth\":2},\"yaxis\":{\"gridcolor\":\"white\",\"linecolor\":\"white\",\"ticks\":\"\",\"title\":{\"standoff\":15},\"zerolinecolor\":\"white\",\"automargin\":true,\"zerolinewidth\":2},\"scene\":{\"xaxis\":{\"backgroundcolor\":\"#E5ECF6\",\"gridcolor\":\"white\",\"linecolor\":\"white\",\"showbackground\":true,\"ticks\":\"\",\"zerolinecolor\":\"white\",\"gridwidth\":2},\"yaxis\":{\"backgroundcolor\":\"#E5ECF6\",\"gridcolor\":\"white\",\"linecolor\":\"white\",\"showbackground\":true,\"ticks\":\"\",\"zerolinecolor\":\"white\",\"gridwidth\":2},\"zaxis\":{\"backgroundcolor\":\"#E5ECF6\",\"gridcolor\":\"white\",\"linecolor\":\"white\",\"showbackground\":true,\"ticks\":\"\",\"zerolinecolor\":\"white\",\"gridwidth\":2}},\"shapedefaults\":{\"line\":{\"color\":\"#2a3f5f\"}},\"annotationdefaults\":{\"arrowcolor\":\"#2a3f5f\",\"arrowhead\":0,\"arrowwidth\":1},\"geo\":{\"bgcolor\":\"white\",\"landcolor\":\"#E5ECF6\",\"subunitcolor\":\"white\",\"showland\":true,\"showlakes\":true,\"lakecolor\":\"white\"},\"title\":{\"x\":0.05},\"mapbox\":{\"style\":\"light\"}}},\"xaxis\":{\"anchor\":\"y\",\"domain\":[0.0,1.0],\"scaleanchor\":\"y\",\"constrain\":\"domain\"},\"yaxis\":{\"anchor\":\"x\",\"domain\":[0.0,1.0],\"autorange\":\"reversed\",\"constrain\":\"domain\"},\"coloraxis\":{\"colorscale\":[[0.0,\"#0d0887\"],[0.1111111111111111,\"#46039f\"],[0.2222222222222222,\"#7201a8\"],[0.3333333333333333,\"#9c179e\"],[0.4444444444444444,\"#bd3786\"],[0.5555555555555556,\"#d8576b\"],[0.6666666666666666,\"#ed7953\"],[0.7777777777777778,\"#fb9f3a\"],[0.8888888888888888,\"#fdca26\"],[1.0,\"#f0f921\"]]},\"title\":{\"text\":\"Feature heatmap\"}},                        {\"responsive\": true}                    ).then(function(){\n",
       "                            \n",
       "var gd = document.getElementById('dc07f717-87be-4428-88ba-0fb367e7f71e');\n",
       "var x = new MutationObserver(function (mutations, observer) {{\n",
       "        var display = window.getComputedStyle(gd).display;\n",
       "        if (!display || display === 'none') {{\n",
       "            console.log([gd, 'removed!']);\n",
       "            Plotly.purge(gd);\n",
       "            observer.disconnect();\n",
       "        }}\n",
       "}});\n",
       "\n",
       "// Listen for the removal of the full notebook cells\n",
       "var notebookContainer = gd.closest('#notebook-container');\n",
       "if (notebookContainer) {{\n",
       "    x.observe(notebookContainer, {childList: true});\n",
       "}}\n",
       "\n",
       "// Listen for the clearing of the current output cell\n",
       "var outputEl = gd.closest('.output');\n",
       "if (outputEl) {{\n",
       "    x.observe(outputEl, {childList: true});\n",
       "}}\n",
       "\n",
       "                        })                };                });            </script>        </div>"
      ]
     },
     "metadata": {},
     "output_type": "display_data"
    }
   ],
   "source": [
    "px.imshow(heatmap, y = [str(x) for x in selected_features], x = token_labels, title=\"Feature heatmap\")"
   ]
  },
  {
   "cell_type": "code",
   "execution_count": 28,
   "metadata": {},
   "outputs": [
    {
     "name": "stdout",
     "output_type": "stream",
     "text": [
      "(49152,)\n",
      "(49152,)\n",
      "(49152,)\n",
      "(49152,)\n",
      "(49152,)\n",
      "(49152,)\n",
      "(49152,)\n",
      "(49152,)\n",
      "(49152,)\n",
      "(49152,)\n",
      "(49152,)\n",
      "(49152,)\n",
      "(49152,)\n",
      "(49152,)\n",
      "(49152,)\n",
      "(49152,)\n",
      "(49152,)\n",
      "(49152,)\n",
      "(49152,)\n",
      "(49152,)\n",
      "(49152,)\n",
      "(49152,)\n",
      "(49152,)\n",
      "(49152,)\n",
      "(49152,)\n",
      "(49152,)\n",
      "(49152,)\n",
      "(49152,)\n",
      "(49152,)\n",
      "(49152,)\n",
      "(49152,)\n",
      "(49152,)\n",
      "(49152,)\n",
      "(49152,)\n",
      "(49152,)\n",
      "(49152,)\n",
      "(49152,)\n",
      "(49152,)\n",
      "(49152,)\n",
      "(49152,)\n",
      "(49152,)\n",
      "(49152,)\n",
      "(49152,)\n",
      "(49152,)\n",
      "(49152,)\n",
      "(49152,)\n",
      "(49152,)\n",
      "(49152,)\n",
      "(49152,)\n",
      "(49152,)\n",
      "(49152,)\n",
      "(49152,)\n",
      "(49152,)\n",
      "(49152,)\n",
      "(49152,)\n",
      "(49152,)\n",
      "(49152,)\n",
      "(49152,)\n",
      "(49152,)\n",
      "(49152,)\n",
      "(49152,)\n",
      "(49152,)\n",
      "(49152,)\n",
      "(49152,)\n",
      "(49152,)\n",
      "(49152,)\n",
      "(49152,)\n",
      "(49152,)\n",
      "(49152,)\n",
      "(49152,)\n",
      "(49152,)\n",
      "(49152,)\n",
      "(49152,)\n",
      "(49152,)\n",
      "(49152,)\n",
      "(49152,)\n",
      "(49152,)\n",
      "(49152,)\n",
      "(49152,)\n",
      "(49152,)\n",
      "(49152,)\n",
      "(49152,)\n",
      "(49152,)\n",
      "(49152,)\n",
      "(49152,)\n",
      "(49152,)\n",
      "(49152,)\n",
      "(49152,)\n",
      "(49152,)\n",
      "(49152,)\n",
      "(49152,)\n",
      "(49152,)\n",
      "(49152,)\n",
      "(49152,)\n",
      "(49152,)\n",
      "(49152,)\n",
      "(49152,)\n",
      "(49152,)\n",
      "(49152,)\n",
      "(49152,)\n",
      "(49152,)\n",
      "(49152,)\n",
      "(49152,)\n",
      "(49152,)\n",
      "(49152,)\n",
      "(49152,)\n",
      "(49152,)\n",
      "(49152,)\n",
      "(49152,)\n",
      "(49152,)\n",
      "(49152,)\n",
      "(49152,)\n",
      "(49152,)\n",
      "(49152,)\n",
      "(49152,)\n",
      "(49152,)\n",
      "(49152,)\n",
      "(49152,)\n",
      "(49152,)\n",
      "(49152,)\n",
      "(49152,)\n",
      "(49152,)\n",
      "(49152,)\n",
      "(49152,)\n",
      "(49152,)\n",
      "(49152,)\n",
      "(49152,)\n",
      "(49152,)\n",
      "(49152,)\n",
      "(49152,)\n",
      "(49152,)\n",
      "(49152,)\n",
      "(49152,)\n",
      "(49152,)\n",
      "(49152,)\n",
      "(49152,)\n",
      "(49152,)\n",
      "(49152,)\n",
      "(49152,)\n",
      "(49152,)\n",
      "(49152,)\n",
      "(49152,)\n",
      "(49152,)\n",
      "(49152,)\n",
      "(49152,)\n",
      "(49152,)\n",
      "(49152,)\n",
      "(49152,)\n",
      "(49152,)\n",
      "(49152,)\n",
      "(49152,)\n",
      "(49152,)\n",
      "(49152,)\n",
      "(49152,)\n",
      "(49152,)\n",
      "(49152,)\n",
      "(49152,)\n",
      "(49152,)\n",
      "(49152,)\n",
      "(49152,)\n",
      "(49152,)\n",
      "(49152,)\n",
      "(49152,)\n",
      "(49152,)\n",
      "(49152,)\n",
      "(49152,)\n",
      "(49152,)\n",
      "(49152,)\n",
      "(49152,)\n",
      "(49152,)\n",
      "(49152,)\n",
      "(49152,)\n",
      "(49152,)\n",
      "(49152,)\n",
      "(49152,)\n",
      "(49152,)\n",
      "(49152,)\n",
      "(49152,)\n",
      "(49152,)\n",
      "(49152,)\n",
      "(49152,)\n",
      "(49152,)\n",
      "(49152,)\n",
      "(49152,)\n",
      "(49152,)\n",
      "(49152,)\n",
      "(49152,)\n",
      "(49152,)\n",
      "(49152,)\n",
      "(49152,)\n",
      "(49152,)\n",
      "(49152,)\n",
      "(49152,)\n",
      "(49152,)\n",
      "(49152,)\n",
      "(49152,)\n",
      "(49152,)\n",
      "(49152,)\n",
      "(49152,)\n",
      "(49152,)\n",
      "(49152,)\n",
      "(49152,)\n",
      "(49152,)\n",
      "(49152,)\n",
      "(49152,)\n",
      "(49152,)\n",
      "(49152,)\n",
      "(49152,)\n",
      "(49152,)\n",
      "(49152,)\n",
      "(49152,)\n",
      "(49152,)\n",
      "(49152,)\n",
      "(49152,)\n",
      "(49152,)\n",
      "(49152,)\n",
      "(49152,)\n",
      "(49152,)\n",
      "(49152,)\n",
      "(49152,)\n",
      "(49152,)\n",
      "(49152,)\n",
      "(49152,)\n",
      "(49152,)\n",
      "(49152,)\n",
      "(49152,)\n",
      "(49152,)\n",
      "(49152,)\n",
      "(49152,)\n",
      "(49152,)\n",
      "(49152,)\n",
      "(49152,)\n",
      "(49152,)\n",
      "(49152,)\n",
      "(49152,)\n",
      "(49152,)\n",
      "(49152,)\n",
      "(49152,)\n",
      "(49152,)\n",
      "(49152,)\n",
      "(49152,)\n",
      "(49152,)\n",
      "(49152,)\n",
      "(49152,)\n",
      "(49152,)\n",
      "(49152,)\n",
      "(49152,)\n",
      "(49152,)\n",
      "(49152,)\n",
      "(49152,)\n",
      "(49152,)\n",
      "(49152,)\n",
      "(49152,)\n",
      "(49152,)\n",
      "(49152,)\n",
      "(49152,)\n",
      "(49152,)\n",
      "(49152,)\n",
      "(49152,)\n",
      "(49152,)\n",
      "(49152,)\n",
      "(49152,)\n",
      "(49152,)\n",
      "(49152,)\n",
      "(49152,)\n",
      "(49152,)\n",
      "(49152,)\n",
      "(49152,)\n",
      "(49152,)\n",
      "(49152,)\n",
      "(49152,)\n",
      "(49152,)\n",
      "(49152,)\n",
      "(49152,)\n",
      "(49152,)\n",
      "(49152,)\n",
      "(49152,)\n",
      "(49152,)\n",
      "(49152,)\n",
      "(49152,)\n",
      "(49152,)\n",
      "(49152,)\n",
      "(49152,)\n",
      "(49152,)\n",
      "(49152,)\n",
      "(49152,)\n",
      "(49152,)\n",
      "(49152,)\n",
      "(49152,)\n",
      "(49152,)\n",
      "(49152,)\n",
      "(49152,)\n",
      "(49152,)\n",
      "(49152,)\n",
      "(49152,)\n",
      "(49152,)\n",
      "(49152,)\n",
      "(49152,)\n",
      "(49152,)\n",
      "(49152,)\n",
      "(49152,)\n",
      "(49152,)\n",
      "(49152,)\n",
      "(49152,)\n",
      "(49152,)\n",
      "(49152,)\n",
      "(49152,)\n",
      "(49152,)\n",
      "(49152,)\n",
      "(49152,)\n",
      "(49152,)\n",
      "(49152,)\n",
      "(49152,)\n",
      "(49152,)\n",
      "(49152,)\n",
      "(49152,)\n",
      "(49152,)\n",
      "(49152,)\n",
      "(49152,)\n",
      "(49152,)\n",
      "(49152,)\n",
      "(49152,)\n",
      "(49152,)\n",
      "(49152,)\n",
      "(49152,)\n",
      "(49152,)\n",
      "(49152,)\n",
      "(49152,)\n",
      "(49152,)\n",
      "(49152,)\n",
      "(49152,)\n",
      "(49152,)\n",
      "(49152,)\n",
      "(49152,)\n",
      "(49152,)\n",
      "(49152,)\n",
      "(49152,)\n",
      "(49152,)\n",
      "(49152,)\n",
      "(49152,)\n",
      "(49152,)\n",
      "(49152,)\n",
      "(49152,)\n",
      "(49152,)\n",
      "(49152,)\n",
      "(49152,)\n",
      "(49152,)\n",
      "(49152,)\n",
      "(49152,)\n",
      "(49152,)\n",
      "(49152,)\n",
      "(49152,)\n",
      "(49152,)\n",
      "(49152,)\n",
      "(49152,)\n",
      "(49152,)\n",
      "(49152,)\n",
      "(49152,)\n",
      "(49152,)\n",
      "(49152,)\n",
      "(49152,)\n",
      "(49152,)\n",
      "(49152,)\n",
      "(49152,)\n",
      "(49152,)\n",
      "(49152,)\n",
      "(49152,)\n",
      "(49152,)\n",
      "(49152,)\n",
      "(49152,)\n",
      "(49152,)\n",
      "(49152,)\n",
      "(49152,)\n",
      "(49152,)\n",
      "(49152,)\n",
      "(49152,)\n",
      "(49152,)\n",
      "(49152,)\n",
      "(49152,)\n",
      "(49152,)\n",
      "(49152,)\n",
      "(49152,)\n",
      "(49152,)\n",
      "(49152,)\n",
      "(49152,)\n",
      "(49152,)\n",
      "(49152,)\n",
      "(49152,)\n",
      "(49152,)\n",
      "(49152,)\n",
      "(49152,)\n",
      "(49152,)\n",
      "(49152,)\n",
      "(49152,)\n",
      "(49152,)\n",
      "(49152,)\n",
      "(49152,)\n",
      "(49152,)\n",
      "(49152,)\n",
      "(49152,)\n",
      "(49152,)\n",
      "(49152,)\n",
      "(49152,)\n",
      "(49152,)\n",
      "(49152,)\n",
      "(49152,)\n",
      "(49152,)\n",
      "(49152,)\n",
      "(49152,)\n",
      "(49152,)\n",
      "(49152,)\n",
      "(49152,)\n",
      "(49152,)\n",
      "(49152,)\n",
      "(49152,)\n",
      "(49152,)\n",
      "(49152,)\n",
      "(49152,)\n",
      "(49152,)\n",
      "(49152,)\n",
      "(49152,)\n",
      "(49152,)\n",
      "(49152,)\n",
      "(49152,)\n",
      "(49152,)\n",
      "(49152,)\n",
      "(49152,)\n",
      "(49152,)\n",
      "(49152,)\n",
      "(49152,)\n",
      "(49152,)\n",
      "(49152,)\n",
      "(49152,)\n",
      "(49152,)\n",
      "(49152,)\n",
      "(49152,)\n",
      "(49152,)\n",
      "(49152,)\n",
      "(49152,)\n",
      "(49152,)\n",
      "(49152,)\n",
      "(49152,)\n",
      "(49152,)\n",
      "(49152,)\n",
      "(49152,)\n",
      "(49152,)\n",
      "(49152,)\n",
      "(49152,)\n",
      "(49152,)\n",
      "(49152,)\n",
      "(49152,)\n",
      "(49152,)\n",
      "(49152,)\n",
      "(49152,)\n",
      "(49152,)\n",
      "(49152,)\n",
      "(49152,)\n",
      "(49152,)\n",
      "(49152,)\n",
      "(49152,)\n",
      "(49152,)\n",
      "(49152,)\n",
      "(49152,)\n",
      "(49152,)\n",
      "(49152,)\n",
      "(49152,)\n",
      "(49152,)\n",
      "(49152,)\n",
      "(49152,)\n",
      "(49152,)\n",
      "(49152,)\n",
      "(49152,)\n",
      "(49152,)\n",
      "(49152,)\n",
      "(49152,)\n",
      "(49152,)\n",
      "(49152,)\n",
      "(49152,)\n",
      "(49152,)\n",
      "(49152,)\n",
      "(49152,)\n",
      "(49152,)\n",
      "(49152,)\n",
      "(49152,)\n",
      "(49152,)\n",
      "(49152,)\n",
      "(49152,)\n",
      "(49152,)\n",
      "(49152,)\n",
      "(49152,)\n",
      "(49152,)\n",
      "(49152,)\n",
      "(49152,)\n",
      "(49152,)\n",
      "(49152,)\n",
      "(49152,)\n",
      "(49152,)\n",
      "(49152,)\n",
      "(49152,)\n",
      "(49152,)\n",
      "(49152,)\n",
      "(49152,)\n",
      "(49152,)\n",
      "(49152,)\n",
      "(49152,)\n",
      "(49152,)\n",
      "(49152,)\n",
      "(49152,)\n",
      "(49152,)\n",
      "(49152,)\n",
      "(49152,)\n",
      "(49152,)\n"
     ]
    }
   ],
   "source": [
    "for r in sae_resids[0]:\n",
    "    print(r.shape)"
   ]
  }
 ],
 "metadata": {
  "kernelspec": {
   "display_name": "micrlhf-progress-_SD4q1c9-py3.12",
   "language": "python",
   "name": "python3"
  },
  "language_info": {
   "codemirror_mode": {
    "name": "ipython",
    "version": 3
   },
   "file_extension": ".py",
   "mimetype": "text/x-python",
   "name": "python",
   "nbconvert_exporter": "python",
   "pygments_lexer": "ipython3",
   "version": "3.12.3"
  }
 },
 "nbformat": 4,
 "nbformat_minor": 2
}
