{
 "cells": [
  {
   "cell_type": "code",
   "execution_count": 1,
   "metadata": {},
   "outputs": [],
   "source": [
    "from tqdm.auto import tqdm, trange\n",
    "import jax.numpy as jnp\n",
    "import numpy as np\n",
    "import jax"
   ]
  },
  {
   "cell_type": "code",
   "execution_count": 2,
   "metadata": {},
   "outputs": [],
   "source": [
    "import jax_smi\n",
    "jax_smi.initialise_tracking()"
   ]
  },
  {
   "cell_type": "code",
   "execution_count": 3,
   "metadata": {},
   "outputs": [],
   "source": [
    "# input_size = 2**19 + 2**18\n",
    "input_size = 2**18\n",
    "hidden_size = 2**14\n",
    "w_chunk = 2**12\n",
    "w_size = 2**20\n",
    "k = 64\n",
    "# n_dp, n_mp = 1, 4\n",
    "n_dp, n_mp = 4, 1\n",
    "input_size = input_size * n_dp"
   ]
  },
  {
   "cell_type": "code",
   "execution_count": 4,
   "metadata": {},
   "outputs": [
    {
     "name": "stdout",
     "output_type": "stream",
     "text": [
      "For chunk: 0.06397158561605819\n",
      "For task: 16.376725917710896\n"
     ]
    }
   ],
   "source": [
    "one_v4_chip_flops = 275 * 1e12  # https://cloud.google.com/tpu/docs/v4\n",
    "v4_8_flops = one_v4_chip_flops * 4\n",
    "chunk_flops = input_size * hidden_size * w_chunk * n_mp\n",
    "task_flops = input_size * hidden_size * w_size\n",
    "print(\"For chunk:\", chunk_flops / v4_8_flops)\n",
    "print(\"For task:\", task_flops / v4_8_flops)"
   ]
  },
  {
   "cell_type": "code",
   "execution_count": 5,
   "metadata": {},
   "outputs": [],
   "source": [
    "devices = np.asarray(jax.local_devices()).reshape(n_dp, n_mp)\n",
    "mesh = jax.sharding.Mesh(devices, (\"dp\", \"mp\"))\n",
    "\n",
    "cpu = jax.devices(\"cpu\")[0]\n",
    "to_cpu = lambda x: jax.device_put(x, cpu)"
   ]
  },
  {
   "cell_type": "code",
   "execution_count": 6,
   "metadata": {},
   "outputs": [
    {
     "data": {
      "application/vnd.jupyter.widget-view+json": {
       "model_id": "a434a880aa3048468409a55aee4a17c0",
       "version_major": 2,
       "version_minor": 0
      },
      "text/plain": [
       "  0%|          | 0/256 [00:00<?, ?it/s, Generating weights...]"
      ]
     },
     "metadata": {},
     "output_type": "display_data"
    }
   ],
   "source": [
    "from functools import partial\n",
    "\n",
    "\n",
    "weights_enc = []\n",
    "with jax.default_device(cpu):\n",
    "    weight_dec = jnp.asarray(np.empty((w_size, hidden_size), dtype=np.uint16)).view(jnp.bfloat16)\n",
    "    @partial(jax.jit, device=cpu, donate_argnums=(0, 1, 2))\n",
    "    def generate_weight_dec(weight_dec, key, counter, scale):\n",
    "        key, rng = jax.random.split(key)\n",
    "        # weight_dec = weight_dec.at[counter:counter+w_chunk].set(jax.random.uniform(rng, (w_chunk, hidden_size), dtype=jnp.bfloat16, minval=-scale, maxval=scale))\n",
    "        weight_dec = jax.lax.dynamic_update_slice(weight_dec, jax.random.uniform(rng, (w_chunk, hidden_size), dtype=jnp.bfloat16, minval=-scale, maxval=scale), (counter, 0))\n",
    "        return weight_dec, key, counter + w_chunk\n",
    "    key = jax.random.key(0)\n",
    "    counter = 0\n",
    "    n_chunks = w_size // w_chunk // n_mp\n",
    "    try:\n",
    "        for _ in trange(n_chunks, postfix=\"Generating weights...\"):\n",
    "            key, subkey = jax.random.split(key)\n",
    "            scale = hidden_size ** -0.5\n",
    "            weights_enc.append(jax.random.uniform(subkey, (hidden_size, w_chunk * n_mp), dtype=jnp.bfloat16, minval=-scale, maxval=scale))\n",
    "            for _ in range(n_mp):\n",
    "                weight_dec, key, counter = generate_weight_dec(weight_dec, key, counter, scale)\n",
    "                # key, subkey = jax.random.split(key)\n",
    "                # weights_dec.append(jax.random.uniform(subkey, (w_chunk, hidden_size), dtype=jnp.bfloat16, minval=-scale, maxval=scale))\n",
    "    except KeyboardInterrupt:\n",
    "        pass"
   ]
  },
  {
   "cell_type": "code",
   "execution_count": 7,
   "metadata": {},
   "outputs": [],
   "source": [
    "import gc\n",
    "\n",
    "\n",
    "# key_sharding = jax.sharding.NamedSharding(mesh, jax.sharding.PartitionSpec(\"dp\"))\n",
    "key_sharding = jax.sharding.NamedSharding(mesh, jax.sharding.PartitionSpec())\n",
    "data_sharding = jax.sharding.NamedSharding(mesh, jax.sharding.PartitionSpec(\"dp\", None))\n",
    "weight_sharding = jax.sharding.NamedSharding(mesh, jax.sharding.PartitionSpec(None, \"mp\"))\n",
    "topk_sharding = jax.sharding.NamedSharding(mesh, jax.sharding.PartitionSpec(\"dp\", \"mp\"))\n",
    "# single_mesh = jax.sharding.Mesh(devices[:1, :], (\"dp\", \"mp\"))\n",
    "# single_sharding = jax.sharding.NamedSharding(single_mesh, jax.sharding.PartitionSpec(None, \"mp\"))\n",
    "\n",
    "def split(key):\n",
    "    a, b = jax.random.split(key)\n",
    "    return a, b\n",
    "\n",
    "def gen_inputs(input_key):\n",
    "    # input_key, subkey = split(input_key)\n",
    "    input_key, subkey = input_key + 1, input_key\n",
    "    \n",
    "    # inputs = jax.vmap(lambda x: jax.random.randint(x, (input_size // mesh.shape[\"dp\"], hidden_size), -100, 100, jnp.int8))(subkey).reshape(input_size, hidden_size)\n",
    "    # inputs = jax.random.randint(subkey, (input_size, hidden_size), -100, 100, jnp.int8)\n",
    "    # inputs = jax.random.bits(subkey, shape=(input_size, hidden_size), dtype=jnp.uint8)\n",
    "    inputs = jax.lax.broadcasted_iota(jnp.int4, (input_size, hidden_size), 0).astype(jnp.int8) + jax.lax.broadcasted_iota(jnp.int4, (input_size, hidden_size), 1).astype(jnp.int8) + subkey\n",
    "    # inputs = jnp.ones((input_size, hidden_size), jnp.int8)\n",
    "    return inputs, input_key\n",
    "gen_inputs_jit = jax.jit(gen_inputs, in_shardings=(key_sharding,), out_shardings=(data_sharding, key_sharding), donate_argnums=(0,))\n",
    "\n",
    "def matmul_topk(inputs, weight_chunk, old_weights, old_indices, offset):\n",
    "    output_chunk = inputs @ weight_chunk\n",
    "    # weights, indices = jax.lax.top_k(output_chunk, k=k)\n",
    "    # weights, indices = jax.lax.approx_max_k(output_chunk, k=k)\n",
    "    weights, indices = jax.lax.approx_max_k(output_chunk.astype(jnp.bfloat16), k=k, recall_target=0.8)\n",
    "    weights = weights / 128\n",
    "    indices += offset\n",
    "    # weights, indices = jax.lax.approx_max_k(output_chunk, k=k, recall_target=0.5)\n",
    "    # weights, indices = jax.lax.approx_max_k(output_chunk, k=k, recall_target=0.25)\n",
    "    \n",
    "    # _, indices = jax.lax.approx_max_k(output_chunk[:, :k * 4], k=k)\n",
    "    # _, indices = jax.lax.approx_max_k(output_chunk[:, :k], k=k)\n",
    "    # weights = output_chunk.reshape(output_chunk.shape[0], k, -1).sum(-1)\n",
    "    # weights, indices = jax.lax.top_k(output_chunk, k=k)\n",
    "    \n",
    "    if old_weights is None or old_indices is None:\n",
    "        return weights, indices\n",
    "    else:\n",
    "        # replace_mask = weights > old_weights\n",
    "        # return jnp.where(replace_mask, weights, old_weights), jnp.where(replace_mask, indices, old_indices)\n",
    "\n",
    "        new_full_weights = jnp.concatenate((weights, old_weights), axis=1)\n",
    "        new_full_indices = jnp.concatenate((indices, old_indices), axis=1)\n",
    "        \n",
    "        # over_indices = jnp.argsort(new_full_weights)[:, -k:]\n",
    "        # return jnp.take_along_axis(new_full_weights, over_indices, axis=1), jnp.take_along_axis(new_full_indices, over_indices, axis=1)\n",
    "        \n",
    "        _, over_indices = jax.lax.top_k(new_full_weights, k=k)\n",
    "        return jnp.take_along_axis(new_full_weights, over_indices, axis=1), jnp.take_along_axis(new_full_indices, over_indices, axis=1)\n",
    "\n",
    "matmul_topk_jit = jax.jit(matmul_topk, in_shardings=(data_sharding, weight_sharding, topk_sharding, topk_sharding, None), out_shardings=(topk_sharding, topk_sharding), donate_argnums=(2, 3))\n",
    "\n",
    "# weights_0_put = jax.device_put(weights_enc[0], weight_sharding)\n",
    "# send_weights = lambda _: weights_0_put\n",
    "def send_weights(weights):\n",
    "    # weights = jax.device_put(weights, single_sharding)\n",
    "    return jax.device_put(weights, weight_sharding)"
   ]
  },
  {
   "cell_type": "code",
   "execution_count": 8,
   "metadata": {},
   "outputs": [],
   "source": [
    "# input_key = jax.device_put(jax.random.split(jax.random.key(0), mesh.shape[\"dp\"]), key_sharding)\n",
    "# %time inputs, input_key = jax.block_until_ready(gen_inputs_jit(input_key))\n",
    "\n",
    "\n",
    "# for idx in trange(3):\n",
    "#     %time current_chunk = jax.block_until_ready(send_weights(weights_enc[idx]))\n",
    "#     %time inputs.block_until_ready()\n",
    "#     %time current_chunk.block_until_ready()\n",
    "#     %time weights, indices = jax.block_until_ready(matmul_topk_jit(inputs, current_chunk))\n",
    "# compiled = matmul_topk_jit.lower(inputs, current_chunk).compile()\n",
    "# estimated_chunk_flops = compiled.cost_analysis()[0]['flops']\n",
    "# print(\"Our flops estimate:\", estimated_chunk_flops / v4_8_flops)\n",
    "# print(\"Estimate from compiler:\", compiled.cost_analysis()[0][\"optimal_seconds\"])\n",
    "# for name in (\"current_chunk\", \"next_chunk\", \"weights\", \"indices\", \"inputs\"):\n",
    "#     try:\n",
    "#         del globals()[name]\n",
    "#     except KeyError:\n",
    "#         pass\n",
    "#     gc.collect()"
   ]
  },
  {
   "cell_type": "code",
   "execution_count": 9,
   "metadata": {},
   "outputs": [],
   "source": [
    "import splatmul\n",
    "\n",
    "\n",
    "def sparse_matmul(weights, indices, decoder_weight):\n",
    "    with jax.default_device(cpu):\n",
    "        weights = np.asarray(weights.view(jnp.uint16))\n",
    "        indices = np.asarray(indices.astype(jnp.uint32))\n",
    "        decoder_weight = np.asarray(decoder_weight.view(jnp.uint16))\n",
    "        result = splatmul.splatmul(weights, indices, decoder_weight)\n",
    "        return jnp.asarray(result).view(jnp.bfloat16)\n"
   ]
  },
  {
   "cell_type": "code",
   "execution_count": 10,
   "metadata": {},
   "outputs": [],
   "source": [
    "# %time result = sparse_matmul_jit(saved_encodings[0], saved_encodings[1], weight_dec)\n",
    "# %time result.block_until_ready();"
   ]
  },
  {
   "cell_type": "code",
   "execution_count": 11,
   "metadata": {},
   "outputs": [],
   "source": [
    "from threading import Thread\n",
    "from queue import Queue\n",
    "\n",
    "def sparse_matmul_async(weights, indices):\n",
    "    out_queue = Queue()\n",
    "    def worker():\n",
    "        out_queue.put(sparse_matmul(weights, indices, weight_dec))\n",
    "    thread = Thread(target=worker)\n",
    "    thread.start()\n",
    "    return out_queue"
   ]
  },
  {
   "cell_type": "code",
   "execution_count": 14,
   "metadata": {},
   "outputs": [
    {
     "data": {
      "application/vnd.jupyter.widget-view+json": {
       "model_id": "94d78f9ad0554f3385922497363551b6",
       "version_major": 2,
       "version_minor": 0
      },
      "text/plain": [
       "  0%|          | 0/100 [00:00<?, ?it/s, Measuring forward speed...]"
      ]
     },
     "metadata": {},
     "output_type": "display_data"
    },
    {
     "data": {
      "application/vnd.jupyter.widget-view+json": {
       "model_id": "01cd3fef3ae14e9cb705b15cf2ebbd32",
       "version_major": 2,
       "version_minor": 0
      },
      "text/plain": [
       "  0%|          | 0/256 [00:00<?, ?it/s, Encoder forward pass]"
      ]
     },
     "metadata": {},
     "output_type": "display_data"
    },
    {
     "name": "stdout",
     "output_type": "stream",
     "text": [
      "Waiting for encoder...\n",
      "Encoder time: 17.73179578781128\n",
      "Encoder to CPU time: 11.829431056976318\n"
     ]
    },
    {
     "data": {
      "application/vnd.jupyter.widget-view+json": {
       "model_id": "76b4edafd4794e13b20cbe0b3ee79281",
       "version_major": 2,
       "version_minor": 0
      },
      "text/plain": [
       "  0%|          | 0/256 [00:00<?, ?it/s, Encoder forward pass]"
      ]
     },
     "metadata": {},
     "output_type": "display_data"
    },
    {
     "name": "stdout",
     "output_type": "stream",
     "text": [
      "Computing decoder...\n",
      "Decoder time: 6.0558319091796875e-05\n",
      "(1048576, 16384) -0.000522614 0.00494385 (1048576, 16384)\n",
      "Sending past input data to CPU...\n",
      "Past input time: 8.570916175842285\n",
      "Waiting for encoder...\n",
      "Encoder time: 0.0028595924377441406\n",
      "Encoder to CPU time: 11.913974285125732\n"
     ]
    },
    {
     "data": {
      "application/vnd.jupyter.widget-view+json": {
       "model_id": "9ffefa46e9ad48a0b93a968591c24810",
       "version_major": 2,
       "version_minor": 0
      },
      "text/plain": [
       "  0%|          | 0/256 [00:00<?, ?it/s, Encoder forward pass]"
      ]
     },
     "metadata": {},
     "output_type": "display_data"
    },
    {
     "name": "stdout",
     "output_type": "stream",
     "text": [
      "Computing decoder...\n",
      "Decoder time: 9.369850158691406e-05\n",
      "(1048576, 16384) -0.000484467 0.0045166 (1048576, 16384)\n",
      "Sending past input data to CPU...\n",
      "Past input time: 9.029496431350708\n",
      "Waiting for encoder...\n",
      "Encoder time: 0.0031337738037109375\n",
      "Encoder to CPU time: 11.945184469223022\n"
     ]
    },
    {
     "data": {
      "application/vnd.jupyter.widget-view+json": {
       "model_id": "2edf8d3f6e3b45f9914c02fdfe45400f",
       "version_major": 2,
       "version_minor": 0
      },
      "text/plain": [
       "  0%|          | 0/256 [00:00<?, ?it/s, Encoder forward pass]"
      ]
     },
     "metadata": {},
     "output_type": "display_data"
    },
    {
     "ename": "KeyboardInterrupt",
     "evalue": "",
     "output_type": "error",
     "traceback": [
      "\u001b[0;31m---------------------------------------------------------------------------\u001b[0m",
      "\u001b[0;31mKeyboardInterrupt\u001b[0m                         Traceback (most recent call last)",
      "Cell \u001b[0;32mIn[14], line 61\u001b[0m\n\u001b[1;32m     58\u001b[0m             saved_encodings \u001b[38;5;241m=\u001b[39m encodings\n\u001b[1;32m     59\u001b[0m             \u001b[38;5;28;01mbreak\u001b[39;00m\n\u001b[0;32m---> 61\u001b[0m \u001b[43mtrial\u001b[49m\u001b[43m(\u001b[49m\u001b[43m)\u001b[49m\n",
      "Cell \u001b[0;32mIn[14], line 31\u001b[0m, in \u001b[0;36mtrial\u001b[0;34m(save_encodings)\u001b[0m\n\u001b[1;32m     29\u001b[0m     past_inputs \u001b[38;5;241m=\u001b[39m inputs\n\u001b[1;32m     30\u001b[0m inputs, input_key \u001b[38;5;241m=\u001b[39m gen_inputs_jit(input_key)\n\u001b[0;32m---> 31\u001b[0m weights, indices \u001b[38;5;241m=\u001b[39m \u001b[43mmatmul_trial\u001b[49m\u001b[43m(\u001b[49m\u001b[43minputs\u001b[49m\u001b[43m)\u001b[49m\n\u001b[1;32m     32\u001b[0m \u001b[38;5;28;01mif\u001b[39;00m decoder_outputs \u001b[38;5;129;01mis\u001b[39;00m \u001b[38;5;129;01mnot\u001b[39;00m \u001b[38;5;28;01mNone\u001b[39;00m:\n\u001b[1;32m     33\u001b[0m     \u001b[38;5;28mprint\u001b[39m(\u001b[38;5;124m\"\u001b[39m\u001b[38;5;124mComputing decoder...\u001b[39m\u001b[38;5;124m\"\u001b[39m)\n",
      "Cell \u001b[0;32mIn[14], line 13\u001b[0m, in \u001b[0;36mmatmul_trial\u001b[0;34m(inputs)\u001b[0m\n\u001b[1;32m     11\u001b[0m \u001b[38;5;28;01mfor\u001b[39;00m cpu_enc_chunk \u001b[38;5;129;01min\u001b[39;00m bar:\n\u001b[1;32m     12\u001b[0m     next_chunk \u001b[38;5;241m=\u001b[39m send_weights(cpu_enc_chunk)\n\u001b[0;32m---> 13\u001b[0m     weights, indices \u001b[38;5;241m=\u001b[39m \u001b[43mmatmul_topk_jit\u001b[49m\u001b[43m(\u001b[49m\u001b[43minputs\u001b[49m\u001b[43m,\u001b[49m\u001b[43m \u001b[49m\u001b[43mcurrent_chunk\u001b[49m\u001b[43m,\u001b[49m\u001b[43m \u001b[49m\u001b[43mweights\u001b[49m\u001b[43m,\u001b[49m\u001b[43m \u001b[49m\u001b[43mindices\u001b[49m\u001b[43m,\u001b[49m\u001b[43m \u001b[49m\u001b[43moffset\u001b[49m\u001b[43m)\u001b[49m\n\u001b[1;32m     14\u001b[0m     offset \u001b[38;5;241m+\u001b[39m\u001b[38;5;241m=\u001b[39m cpu_enc_chunk\u001b[38;5;241m.\u001b[39mshape[\u001b[38;5;241m1\u001b[39m]\n\u001b[1;32m     15\u001b[0m     current_chunk \u001b[38;5;241m=\u001b[39m next_chunk\n",
      "\u001b[0;31mKeyboardInterrupt\u001b[0m: "
     ]
    },
    {
     "ename": "",
     "evalue": "",
     "output_type": "error",
     "traceback": [
      "\u001b[1;31mThe Kernel crashed while executing code in the current cell or a previous cell. \n",
      "\u001b[1;31mPlease review the code in the cell(s) to identify a possible cause of the failure. \n",
      "\u001b[1;31mClick <a href='https://aka.ms/vscodeJupyterKernelCrash'>here</a> for more info. \n",
      "\u001b[1;31mView Jupyter <a href='command:jupyter.viewOutput'>log</a> for further details."
     ]
    }
   ],
   "source": [
    "import threading\n",
    "import queue\n",
    "import time\n",
    "\n",
    "\n",
    "def matmul_trial(inputs):\n",
    "    current_chunk = send_weights(weights_enc[0])\n",
    "    weights, indices = None, None\n",
    "    bar = tqdm(weights_enc, postfix=f\"Encoder forward pass\")\n",
    "    offset = 0\n",
    "    for cpu_enc_chunk in bar:\n",
    "        next_chunk = send_weights(cpu_enc_chunk)\n",
    "        weights, indices = matmul_topk_jit(inputs, current_chunk, weights, indices, offset)\n",
    "        offset += cpu_enc_chunk.shape[1]\n",
    "        current_chunk = next_chunk\n",
    "        gc.collect()\n",
    "    return weights, indices\n",
    "\n",
    "\n",
    "def trial(save_encodings=False):\n",
    "    global saved_encodings\n",
    "    gc.collect()\n",
    "    input_key = 0  # jax.random.split(jax.random.key(0), mesh.shape[\"dp\"])\n",
    "    encodings, past_inputs, decoder_outputs = None, None, None\n",
    "    for _ in trange(100, postfix=\"Measuring forward speed...\"):\n",
    "        gc.collect()\n",
    "        if encodings is not None:\n",
    "            decoder_outputs = sparse_matmul_async(encodings[0], encodings[1])\n",
    "            past_inputs = inputs\n",
    "        inputs, input_key = gen_inputs_jit(input_key)\n",
    "        weights, indices = matmul_trial(inputs)\n",
    "        if decoder_outputs is not None:\n",
    "            print(\"Computing decoder...\")\n",
    "            decoder_start = time.time()\n",
    "            decoder_outputs = decoder_outputs.get().block_until_ready()\n",
    "            decoder_end = time.time()\n",
    "            print(\"Decoder time:\", decoder_end - decoder_start)\n",
    "            with jax.default_device(cpu):\n",
    "                print(decoder_outputs.shape, decoder_outputs.mean(), decoder_outputs.std(), past_inputs.shape)\n",
    "            print(\"Sending past input data to CPU...\")\n",
    "            past_input_start = time.time()\n",
    "            past_inputs = jax.device_put(past_inputs, cpu).block_until_ready()\n",
    "            print(\"Past input time:\", time.time() - past_input_start)\n",
    "            past_inputs, decoder_outputs = None, None\n",
    "            gc.collect()\n",
    "        print(\"Waiting for encoder...\")\n",
    "        before_compute = time.time()\n",
    "        weights, indices = weights.block_until_ready(), indices.block_until_ready()\n",
    "        # wi = jax.block_until_ready((weights, indices))\n",
    "        after_compute = time.time()\n",
    "        print(\"Encoder time:\", (after_compute - before_compute))\n",
    "        weights, indices = to_cpu(weights), to_cpu(indices)\n",
    "        # weights, indices = jax.block_until_ready(jax.device_put((wi), cpu))\n",
    "        after_to_cpu = time.time()\n",
    "        print(\"Encoder to CPU time:\", after_to_cpu - after_compute)\n",
    "        encodings = weights, indices\n",
    "        if save_encodings:\n",
    "            saved_encodings = encodings\n",
    "            break\n",
    "\n",
    "trial()"
   ]
  },
  {
   "cell_type": "code",
   "execution_count": null,
   "metadata": {},
   "outputs": [],
   "source": [
    "# 1/0"
   ]
  },
  {
   "cell_type": "code",
   "execution_count": null,
   "metadata": {},
   "outputs": [],
   "source": [
    "weights, indices = saved_encodings"
   ]
  },
  {
   "cell_type": "code",
   "execution_count": null,
   "metadata": {},
   "outputs": [],
   "source": [
    "# # sort on CPU is slow\n",
    "# import jax.experimental.sparse\n",
    "\n",
    "\n",
    "# def sort_encodings(weights, indices):\n",
    "#     index_array = indices.ravel().astype(jnp.uint32)\n",
    "#     weight_array = weights.ravel().astype(jnp.bfloat16)\n",
    "#     indices_to_sort = jnp.argsort(index_array)\n",
    "#     sorted_indices = index_array[indices_to_sort]\n",
    "#     sorted_weights = weight_array[indices_to_sort]\n",
    "#     inverse_indices = jnp.argsort(indices_to_sort)\n",
    "#     bcoo = jax.experimental.sparse.BCOO((sorted_weights, jnp.stack((inverse_indices, sorted_indices), axis=-1).reshape(-1, 2)), shape=weights.shape)\n",
    "#     return bcoo\n",
    "\n",
    "# sort_encodings_jit = jax.jit(sort_encodings, backend=\"cpu\")\n",
    "# %time bcoo = sort_encodings_jit(weights, indices).block_until_ready();"
   ]
  },
  {
   "cell_type": "code",
   "execution_count": null,
   "metadata": {},
   "outputs": [],
   "source": [
    "# # Numba doesn't support bfloat16\n",
    "# import ml_dtypes\n",
    "# import numba as nb\n",
    "\n",
    "# index_array_np = np.asarray(indices.ravel().astype(np.uint32))\n",
    "# weight_array_np = np.asarray(weights.ravel().view(jnp.float16))\n",
    "# %time indices_to_sort = np.argsort(index_array_np);\n",
    "# %time inverse_indices = np.argsort(indices_to_sort);\n",
    "# %time sorted_indices = index_array_np[indices_to_sort];\n",
    "# %time sorted_weights = weight_array_np[indices_to_sort];\n",
    "\n",
    "# @nb.njit\n",
    "# def coo_matmul(inverse_indices, sorted_indices, sorted_weights, weights_dec):\n",
    "#     N = inverse_indices.shape[0] // k\n",
    "#     D = weights_dec.shape[1]\n",
    "#     out = np.zeros((N, D), dtype=ml_dtypes.bfloat16)\n",
    "#     for i in range(len(inverse_indices)):\n",
    "#         out[inverse_indices[i] // k] += (sorted_weights[i].view(ml_dtypes.bfloat16).astype(np.float32) * weights_dec[sorted_indices[i]].view(ml_dtypes.bfloat16).astype(np.float32))\n",
    "#     return out\n",
    "\n",
    "# %time coo_matmul(inverse_indices, sorted_indices, np.asarray(sorted_weights.view(np.float16)), np.asarray(weight_dec.view(np.float16)));"
   ]
  },
  {
   "cell_type": "code",
   "execution_count": null,
   "metadata": {},
   "outputs": [],
   "source": [
    "%time index_array_np = np.asarray(indices.ravel().astype(np.uint32))\n",
    "%time weight_array_np = np.asarray(weights.ravel().view(jnp.float16))\n",
    "%time indices_to_sort = np.argsort(index_array_np);\n",
    "%time inverse_indices = np.argsort(indices_to_sort);\n",
    "%time sorted_indices = index_array_np[indices_to_sort];\n",
    "%time sorted_weights = weight_array_np[indices_to_sort];"
   ]
  },
  {
   "cell_type": "code",
   "execution_count": null,
   "metadata": {},
   "outputs": [],
   "source": [
    "# # Too slow\n",
    "# import numba as nb\n",
    "\n",
    "# @nb.njit\n",
    "# def coo_matmul(inverse_indices, sorted_indices, sorted_weights, weights_dec):\n",
    "#     N = inverse_indices.shape[0] // k\n",
    "#     D = weights_dec.shape[1]\n",
    "#     out = np.zeros((N, D), dtype=np.float32)\n",
    "#     for i in range(len(inverse_indices)):\n",
    "#         out[inverse_indices[i] // k] += (sorted_weights[i] * weights_dec[sorted_indices[i]])\n",
    "#     return out\n",
    "\n",
    "# %time result = coo_matmul(inverse_indices, sorted_indices, np.asarray(sorted_weights.view(jnp.bfloat16).astype(np.float32)), np.asarray(weight_dec.view(jnp.bfloat16).astype(np.float32)));"
   ]
  },
  {
   "cell_type": "code",
   "execution_count": null,
   "metadata": {},
   "outputs": [],
   "source": [
    "import numba as nb\n",
    "\n",
    "@nb.njit\n",
    "def to_bf16(x):\n",
    "    x = x.view(np.uint32)\n",
    "    conv_lowbit = x >> 16 + (x & (1 << 15))\n",
    "    return conv_lowbit.astype(np.uint16)\n",
    "\n",
    "@nb.njit\n",
    "def from_bf16(x):\n",
    "    x = x.astype(np.uint32) << 16\n",
    "    return np.ascontiguousarray(x.view(np.float32)[..., ::2])\n",
    "    # return x.view(np.float32)\n",
    "    # return (x.astype(np.uint32) << 16).view(np.float32)\n",
    "\n",
    "print(to_bf16(np.array([200], dtype=np.float32)))\n",
    "print(from_bf16(np.array([[12, 13, 14], [15, 16, 17]], dtype=np.uint16)))"
   ]
  },
  {
   "cell_type": "code",
   "execution_count": null,
   "metadata": {},
   "outputs": [],
   "source": [
    "# # Too slow\n",
    "# @nb.njit\n",
    "# def coo_matmul(inverse_indices, sorted_indices, sorted_weights, weights_dec):\n",
    "#     N = inverse_indices.shape[0] // k\n",
    "#     D = weights_dec.shape[1]\n",
    "#     out = np.zeros((N, D), dtype=np.uint16)\n",
    "#     for i in range(len(inverse_indices)):\n",
    "#         out[inverse_indices[i] // k] = to_bf16(from_bf16(out[inverse_indices[i] // k]) + (sorted_weights[i] * from_bf16(weights_dec[sorted_indices[i]])))\n",
    "#     return out\n",
    "\n",
    "# %time result = coo_matmul(inverse_indices, sorted_indices, np.asarray(sorted_weights.view(jnp.uint16)), np.asarray(weight_dec.view(jnp.uint16)));"
   ]
  },
  {
   "cell_type": "code",
   "execution_count": null,
   "metadata": {},
   "outputs": [],
   "source": [
    "# from numba_progress import ProgressBar\n",
    "%env OPENBLAS_NUM_THREADS=64\n",
    "\n",
    "# @nb.njit(parallel=True)\n",
    "# def sparse_matmul(indices, weights, weights_dec):\n",
    "#     out = np.zeros((indices.shape[0], weights_dec.shape[1]), dtype=np.uint16)\n",
    "#     for i in nb.prange(indices.shape[0]):\n",
    "#         out[i] = to_bf16(from_bf16(weights[i]) @ from_bf16(weights_dec[indices[i]]))\n",
    "#     return out\n",
    "\n",
    "\n",
    "@nb.njit(nogil=True, parallel=True)\n",
    "# def sparse_matmul(indices, weights, weights_dec, bar):\n",
    "def sparse_matmul(indices, weights, weights_dec):\n",
    "    out = np.zeros((indices.shape[0], weights_dec.shape[1]), dtype=np.uint16)\n",
    "    for i in nb.prange(indices.shape[0]):\n",
    "        out[i] = to_bf16(from_bf16(weights[i]) @ from_bf16(weights_dec[indices[i]]))\n",
    "        # bar.update(1)\n",
    "    # chunk = 64\n",
    "    # for i_ in range(0, indices.shape[0], chunk):\n",
    "        # for i in nb.prange(i_, min(i_ + chunk, indices.shape[0])):\n",
    "        #     out[i] = to_bf16(from_bf16(weights[i]) @ from_bf16(weights_dec[indices[i]]))\n",
    "        # bar.update(chunk)\n",
    "    # return out\n",
    "\n",
    "%time indices_np = np.asarray(indices.astype(np.uint32))\n",
    "%time weights_np = np.asarray(weights.view(np.uint16))\n",
    "%time weight_dec_np = np.asarray(weight_dec.view(np.uint16))\n",
    "# with ProgressBar(total=indices_np.shape[0]) as bar:\n",
    "#     result = sparse_matmul(indices_np, weights_np, weight_dec_np, bar)\n",
    "%time result = sparse_matmul(indices_np, weights_np, weight_dec_np);"
   ]
  },
  {
   "cell_type": "code",
   "execution_count": null,
   "metadata": {},
   "outputs": [],
   "source": [
    "# %time bcoo = jax.experimental.sparse.BCOO((jnp.asarray(sorted_weights).view(jnp.bfloat16), jnp.stack((jnp.asarray(inverse_indices // k), jnp.asarray(sorted_indices)), axis=-1).reshape(-1, 2)), shape=(weights.shape[0], weight_dec.shape[0])).block_until_ready();"
   ]
  },
  {
   "cell_type": "code",
   "execution_count": null,
   "metadata": {},
   "outputs": [],
   "source": [
    "# import jax.experimental.sparse\n",
    "\n",
    "\n",
    "# chunk_size = 2**12\n",
    "# def sparse_matmul_cpu(row_indices, col_indices, weights, weight_dec):\n",
    "#     def sparse_matmul_cpu_chunk(carry, chunk):\n",
    "#         row_ind, col_ind, w = chunk\n",
    "#         bcoo = jax.experimental.sparse.BCOO((w, jnp.stack((row_ind, col_ind), axis=-1).reshape(-1, 2)), shape=(weights.shape[0], weight_dec.shape[0]))\n",
    "#         return carry + bcoo @ weight_dec, None\n",
    "#     out = jnp.zeros((weights.shape[0], weight_dec.shape[1]), jnp.bfloat16)\n",
    "#     return jax.lax.scan(sparse_matmul_cpu_chunk, out, tuple(x.reshape(-1, chunk_size) for x in (row_indices, col_indices, weights)))[0]\n",
    "\n",
    "# sparse_matmul_cpu_jit = jax.jit(sparse_matmul_cpu, device=cpu)\n",
    "# with jax.default_device(cpu):\n",
    "#     %time result = sparse_matmul_cpu_jit(jnp.asarray(inverse_indices // k), jnp.asarray(sorted_indices), jnp.asarray(sorted_weights).view(jnp.bfloat16), weight_dec).block_until_ready();"
   ]
  },
  {
   "cell_type": "code",
   "execution_count": null,
   "metadata": {},
   "outputs": [],
   "source": [
    "# import jax.experimental.sparse\n",
    "\n",
    "\n",
    "# chunk_size = 2**12\n",
    "# def sparse_matmul_cpu(row_ind, col_ind, w, weight_dec):\n",
    "#     bcoo = jax.experimental.sparse.BCOO((w, jnp.stack((row_ind, col_ind), axis=-1).reshape(-1, 2)), shape=(weights.shape[0], weight_dec.shape[0]))\n",
    "#     return bcoo @ weight_dec\n",
    "\n",
    "# sparse_matmul_cpu_jit = jax.jit(sparse_matmul_cpu, device=cpu)\n",
    "# with jax.default_device(cpu):\n",
    "#     out = 0\n",
    "#     for i in trange(0, len(sorted_indices), chunk_size):\n",
    "#         out += sparse_matmul_cpu_jit(jnp.asarray(inverse_indices[i:i+chunk_size] // k), jnp.asarray(sorted_indices[i:i+chunk_size]), jnp.asarray(sorted_weights[i:i+chunk_size]).view(jnp.bfloat16), weight_dec)"
   ]
  },
  {
   "cell_type": "code",
   "execution_count": null,
   "metadata": {},
   "outputs": [],
   "source": [
    "# from tqdm import trange\n",
    "# masks = []\n",
    "# chunked_weights = []\n",
    "# chunked_indices = []\n",
    "# for i in trange(0, w_size, w_chunk):\n",
    "#     mask = (i < index_array_np) & (index_array_np < (i + w_chunk))\n",
    "#     chunked_indices.append(index_array_np[mask] - i)\n",
    "#     chunked_weights.append(weight_array_np[mask])\n",
    "#     masks.append(np.nonzero(mask)[0])"
   ]
  },
  {
   "cell_type": "code",
   "execution_count": null,
   "metadata": {},
   "outputs": [],
   "source": [
    "# from matplotlib import pyplot as plt\n",
    "# plt.hist([x.shape[0] for x in chunked_indices])\n",
    "# plt.show()"
   ]
  },
  {
   "cell_type": "code",
   "execution_count": null,
   "metadata": {},
   "outputs": [],
   "source": [
    "b_chunk = 2**12\n",
    "for idx in trange(0, w_size, b_chunk):\n",
    "    sparse_matmul_out = sparse_matmul_jit(*(u[idx:idx + b_chunk] for u in encback), weight_dec)\n",
    "    del sparse_matmul_out\n",
    "    gc.collect()\n",
    "# %time sparse_matmul_out = sparse_matmul_jit(*encback, weight_dec)"
   ]
  },
  {
   "cell_type": "code",
   "execution_count": null,
   "metadata": {},
   "outputs": [],
   "source": [
    "encback[0].shape, encback[1].shape"
   ]
  },
  {
   "cell_type": "code",
   "execution_count": null,
   "metadata": {},
   "outputs": [],
   "source": [
    "weights_dec[0].shape"
   ]
  }
 ],
 "metadata": {
  "kernelspec": {
   "display_name": "micrlhf-progress-a058ydGG-py3.10",
   "language": "python",
   "name": "python3"
  },
  "language_info": {
   "codemirror_mode": {
    "name": "ipython",
    "version": 3
   },
   "file_extension": ".py",
   "mimetype": "text/x-python",
   "name": "python",
   "nbconvert_exporter": "python",
   "pygments_lexer": "ipython3",
   "version": "3.10.12"
  }
 },
 "nbformat": 4,
 "nbformat_minor": 2
}
