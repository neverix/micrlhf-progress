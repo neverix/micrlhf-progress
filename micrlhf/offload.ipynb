{
 "cells": [
  {
   "cell_type": "code",
   "execution_count": 1,
   "metadata": {},
   "outputs": [],
   "source": [
    "from tqdm.auto import tqdm, trange\n",
    "import jax.numpy as jnp\n",
    "import numpy as np\n",
    "import jax"
   ]
  },
  {
   "cell_type": "code",
   "execution_count": 2,
   "metadata": {},
   "outputs": [],
   "source": [
    "import jax_smi\n",
    "jax_smi.initialise_tracking()"
   ]
  },
  {
   "cell_type": "code",
   "execution_count": 3,
   "metadata": {},
   "outputs": [],
   "source": [
    "input_size = 2**20\n",
    "hidden_size = 2**14\n",
    "w_chunk = 2**12\n",
    "w_size = 2**20\n",
    "k = 64\n",
    "# n_dp, n_mp = 1, 4\n",
    "n_dp, n_mp = 4, 1\n",
    "input_size = input_size * n_dp"
   ]
  },
  {
   "cell_type": "code",
   "execution_count": 4,
   "metadata": {},
   "outputs": [
    {
     "name": "stdout",
     "output_type": "stream",
     "text": [
      "For chunk: 0.25588634246423275\n",
      "For task: 65.50690367084358\n"
     ]
    }
   ],
   "source": [
    "one_v4_chip_flops = 275 * 1e12  # https://cloud.google.com/tpu/docs/v4\n",
    "v4_8_flops = one_v4_chip_flops * 4\n",
    "chunk_flops = input_size * hidden_size * w_chunk * n_mp\n",
    "task_flops = input_size * hidden_size * w_size\n",
    "print(\"For chunk:\", chunk_flops / v4_8_flops)\n",
    "print(\"For task:\", task_flops / v4_8_flops)"
   ]
  },
  {
   "cell_type": "code",
   "execution_count": 5,
   "metadata": {},
   "outputs": [],
   "source": [
    "devices = np.asarray(jax.local_devices()).reshape(n_dp, n_mp)\n",
    "mesh = jax.sharding.Mesh(devices, (\"dp\", \"mp\"))\n",
    "\n",
    "cpu = jax.devices(\"cpu\")[0]\n",
    "to_cpu = lambda x: jax.device_put(x, cpu)"
   ]
  },
  {
   "cell_type": "code",
   "execution_count": 6,
   "metadata": {},
   "outputs": [
    {
     "data": {
      "application/vnd.jupyter.widget-view+json": {
       "model_id": "87b6d37c69844e9bbc55d625d8d24e9b",
       "version_major": 2,
       "version_minor": 0
      },
      "text/plain": [
       "  0%|          | 0/256 [00:00<?, ?it/s, Generating encoder weights...]"
      ]
     },
     "metadata": {},
     "output_type": "display_data"
    }
   ],
   "source": [
    "weights_enc = []\n",
    "weights_dec = []\n",
    "with jax.default_device(cpu):\n",
    "    key = jax.random.key(0)\n",
    "    n_chunks = w_size // w_chunk // n_mp\n",
    "    try:\n",
    "        for _ in trange(n_chunks, postfix=\"Generating encoder weights...\"):\n",
    "            key, subkey = jax.random.split(key)\n",
    "            scale = hidden_size ** -0.5 / 128\n",
    "            weights_enc.append(jax.random.uniform(subkey, (hidden_size, w_chunk * n_mp), dtype=jnp.bfloat16, minval=-scale, maxval=scale))\n",
    "            for _ in range(n_mp):\n",
    "                key, subkey = jax.random.split(key)\n",
    "                weights_dec.append(jax.random.uniform(subkey, (w_chunk, hidden_size), dtype=jnp.bfloat16, minval=-scale, maxval=scale))\n",
    "    except KeyboardInterrupt:\n",
    "        pass"
   ]
  },
  {
   "cell_type": "code",
   "execution_count": 7,
   "metadata": {},
   "outputs": [],
   "source": [
    "weight_dec = jax.jit(lambda x: jnp.concatenate(x, axis=0), backend=\"cpu\")(weights_dec)"
   ]
  },
  {
   "cell_type": "code",
   "execution_count": 8,
   "metadata": {},
   "outputs": [],
   "source": [
    "import gc\n",
    "\n",
    "\n",
    "# key_sharding = jax.sharding.NamedSharding(mesh, jax.sharding.PartitionSpec(\"dp\"))\n",
    "key_sharding = jax.sharding.NamedSharding(mesh, jax.sharding.PartitionSpec())\n",
    "data_sharding = jax.sharding.NamedSharding(mesh, jax.sharding.PartitionSpec(\"dp\", None))\n",
    "weight_sharding = jax.sharding.NamedSharding(mesh, jax.sharding.PartitionSpec(None, \"mp\"))\n",
    "topk_sharding = jax.sharding.NamedSharding(mesh, jax.sharding.PartitionSpec(\"dp\", \"mp\"))\n",
    "# single_mesh = jax.sharding.Mesh(devices[:1, :], (\"dp\", \"mp\"))\n",
    "# single_sharding = jax.sharding.NamedSharding(single_mesh, jax.sharding.PartitionSpec(None, \"mp\"))\n",
    "\n",
    "def split(key):\n",
    "    a, b = jax.random.split(key)\n",
    "    return a, b\n",
    "\n",
    "def gen_inputs(input_key):\n",
    "    # input_key, subkey = split(input_key)\n",
    "    input_key, subkey = input_key + 1, input_key\n",
    "    \n",
    "    # inputs = jax.vmap(lambda x: jax.random.randint(x, (input_size // mesh.shape[\"dp\"], hidden_size), -100, 100, jnp.int8))(subkey).reshape(input_size, hidden_size)\n",
    "    # inputs = jax.random.randint(subkey, (input_size, hidden_size), -100, 100, jnp.int8)\n",
    "    # inputs = jax.random.bits(subkey, shape=(input_size, hidden_size), dtype=jnp.uint8)\n",
    "    inputs = jax.lax.broadcasted_iota(jnp.int4, (input_size, hidden_size), 0).astype(jnp.int8) + jax.lax.broadcasted_iota(jnp.int4, (input_size, hidden_size), 1).astype(jnp.int8) + subkey\n",
    "    # inputs = jnp.ones((input_size, hidden_size), jnp.int8)\n",
    "    return inputs, input_key\n",
    "gen_inputs_jit = jax.jit(gen_inputs, in_shardings=(key_sharding,), out_shardings=(data_sharding, key_sharding), donate_argnums=(0,))\n",
    "\n",
    "def matmul_topk(inputs, weight_chunk, old_weights, old_indices, offset):\n",
    "    output_chunk = inputs @ weight_chunk\n",
    "    # weights, indices = jax.lax.top_k(output_chunk, k=k)\n",
    "    # weights, indices = jax.lax.approx_max_k(output_chunk, k=k)\n",
    "    weights, indices = jax.lax.approx_max_k(output_chunk.astype(jnp.bfloat16), k=k, recall_target=0.8)\n",
    "    indices += offset\n",
    "    # weights, indices = jax.lax.approx_max_k(output_chunk, k=k, recall_target=0.5)\n",
    "    # weights, indices = jax.lax.approx_max_k(output_chunk, k=k, recall_target=0.25)\n",
    "    \n",
    "    # _, indices = jax.lax.approx_max_k(output_chunk[:, :k * 4], k=k)\n",
    "    # _, indices = jax.lax.approx_max_k(output_chunk[:, :k], k=k)\n",
    "    # weights = output_chunk.reshape(output_chunk.shape[0], k, -1).sum(-1)\n",
    "    # weights, indices = jax.lax.top_k(output_chunk, k=k)\n",
    "    \n",
    "    if old_weights is None or old_indices is None:\n",
    "        return weights, indices\n",
    "    else:\n",
    "        # replace_mask = weights > old_weights\n",
    "        # return jnp.where(replace_mask, weights, old_weights), jnp.where(replace_mask, indices, old_indices)\n",
    "\n",
    "        new_full_weights = jnp.concatenate((weights, old_weights), axis=1)\n",
    "        new_full_indices = jnp.concatenate((indices, old_indices), axis=1)\n",
    "        \n",
    "        # over_indices = jnp.argsort(new_full_weights)[:, -k:]\n",
    "        # return jnp.take_along_axis(new_full_weights, over_indices, axis=1), jnp.take_along_axis(new_full_indices, over_indices, axis=1)\n",
    "        \n",
    "        _, over_indices = jax.lax.top_k(new_full_weights, k=k)\n",
    "        return jnp.take_along_axis(new_full_weights, over_indices, axis=1), jnp.take_along_axis(new_full_indices, over_indices, axis=1)\n",
    "\n",
    "matmul_topk_jit = jax.jit(matmul_topk, in_shardings=(data_sharding, weight_sharding, topk_sharding, topk_sharding, None), out_shardings=(topk_sharding, topk_sharding), donate_argnums=(2, 3))\n",
    "\n",
    "# weights_0_put = jax.device_put(weights_enc[0], weight_sharding)\n",
    "# send_weights = lambda _: weights_0_put\n",
    "def send_weights(weights):\n",
    "    # weights = jax.device_put(weights, single_sharding)\n",
    "    return jax.device_put(weights, weight_sharding)"
   ]
  },
  {
   "cell_type": "code",
   "execution_count": 9,
   "metadata": {},
   "outputs": [],
   "source": [
    "# input_key = jax.device_put(jax.random.split(jax.random.key(0), mesh.shape[\"dp\"]), key_sharding)\n",
    "# %time inputs, input_key = jax.block_until_ready(gen_inputs_jit(input_key))\n",
    "\n",
    "\n",
    "# for idx in trange(3):\n",
    "#     %time current_chunk = jax.block_until_ready(send_weights(weights_enc[idx]))\n",
    "#     %time inputs.block_until_ready()\n",
    "#     %time current_chunk.block_until_ready()\n",
    "#     %time weights, indices = jax.block_until_ready(matmul_topk_jit(inputs, current_chunk))\n",
    "# compiled = matmul_topk_jit.lower(inputs, current_chunk).compile()\n",
    "# estimated_chunk_flops = compiled.cost_analysis()[0]['flops']\n",
    "# print(\"Our flops estimate:\", estimated_chunk_flops / v4_8_flops)\n",
    "# print(\"Estimate from compiler:\", compiled.cost_analysis()[0][\"optimal_seconds\"])\n",
    "# for name in (\"current_chunk\", \"next_chunk\", \"weights\", \"indices\", \"inputs\"):\n",
    "#     try:\n",
    "#         del globals()[name]\n",
    "#     except KeyError:\n",
    "#         pass\n",
    "#     gc.collect()"
   ]
  },
  {
   "cell_type": "code",
   "execution_count": 10,
   "metadata": {},
   "outputs": [
    {
     "data": {
      "application/vnd.jupyter.widget-view+json": {
       "model_id": "35f4c4d183da4e78a95d4dd08faffed0",
       "version_major": 2,
       "version_minor": 0
      },
      "text/plain": [
       "  0%|          | 0/100 [00:00<?, ?it/s, Measuring forward speed...]"
      ]
     },
     "metadata": {},
     "output_type": "display_data"
    },
    {
     "data": {
      "application/vnd.jupyter.widget-view+json": {
       "model_id": "cfe860e48bf94fb6aa5483b79ed40db2",
       "version_major": 2,
       "version_minor": 0
      },
      "text/plain": [
       "  0%|          | 0/59 [00:00<?, ?it/s, Encoder forward pass]"
      ]
     },
     "metadata": {},
     "output_type": "display_data"
    },
    {
     "name": "stdout",
     "output_type": "stream",
     "text": [
      "Compute time: 106.80990624427795\n",
      "To CPU time: 41.33571815490723\n"
     ]
    }
   ],
   "source": [
    "import time\n",
    "\n",
    "\n",
    "def matmul_trial(inputs):\n",
    "    current_chunk = send_weights(weights_enc[0])\n",
    "    weights, indices = None, None\n",
    "    bar = tqdm(weights_enc[1:60], postfix=f\"Encoder forward pass\")\n",
    "    offset = 0\n",
    "    for cpu_enc_chunk in bar:\n",
    "        next_chunk = send_weights(cpu_enc_chunk)\n",
    "        weights, indices = matmul_topk_jit(inputs, current_chunk, weights, indices, offset)\n",
    "        offset += cpu_enc_chunk.shape[1]\n",
    "        current_chunk = next_chunk\n",
    "        gc.collect()\n",
    "    before_compute = time.time()\n",
    "    weights, indices = weights.block_until_ready(), indices.block_until_ready()\n",
    "    after_compute = time.time()\n",
    "    print(\"Compute time:\", (after_compute - before_compute) + (bar.last_print_t - bar.start_t))\n",
    "    weights, indices = to_cpu(weights), to_cpu(indices)\n",
    "    after_to_cpu = time.time()\n",
    "    print(\"To CPU time:\", after_to_cpu - after_compute)\n",
    "    return weights, indices\n",
    "\n",
    "\n",
    "def trial():\n",
    "    global encback\n",
    "    gc.collect()\n",
    "    # input_key = jax.device_put(jax.random.split(jax.random.key(0), mesh.shape[\"dp\"]), key_sharding)\n",
    "    # input_key = jax.device_put(jax.random.key(0), key_sharding)\n",
    "    input_key = 0\n",
    "    for _ in trange(100, postfix=\"Measuring forward speed...\"):\n",
    "        inputs, input_key = gen_inputs_jit(input_key)\n",
    "        weights, indices = matmul_trial(inputs)\n",
    "        encback = weights, indices\n",
    "        del inputs\n",
    "        gc.collect()\n",
    "        break\n",
    "\n",
    "trial()"
   ]
  },
  {
   "cell_type": "code",
   "execution_count": 11,
   "metadata": {},
   "outputs": [],
   "source": [
    "# index_array_np = np.asarray(encback[1].ravel())\n",
    "# weight_array_np = np.asarray(encback[0].ravel().view(jnp.float16))"
   ]
  },
  {
   "cell_type": "code",
   "execution_count": 12,
   "metadata": {},
   "outputs": [],
   "source": [
    "# from tqdm import trange\n",
    "# masks = []\n",
    "# chunked_weights = []\n",
    "# chunked_indices = []\n",
    "# for i in trange(0, w_size, w_chunk):\n",
    "#     mask = (i < index_array_np) & (index_array_np < (i + w_chunk))\n",
    "#     chunked_indices.append(index_array_np[mask] - i)\n",
    "#     chunked_weights.append(weight_array_np[mask])\n",
    "#     masks.append(np.nonzero(mask)[0])"
   ]
  },
  {
   "cell_type": "code",
   "execution_count": 13,
   "metadata": {},
   "outputs": [],
   "source": [
    "# from matplotlib import pyplot as plt\n",
    "# plt.hist([x.shape[0] for x in chunked_indices])\n",
    "# plt.show()"
   ]
  },
  {
   "cell_type": "code",
   "execution_count": 28,
   "metadata": {},
   "outputs": [],
   "source": [
    "def sparse_matmul_inner(weights, indices, decoder_weight):\n",
    "    out = weights @ decoder_weight[indices].astype(jnp.float32)\n",
    "    return out\n",
    "\n",
    "\n",
    "def sparse_matmul(weights, indices, decoder_weight):\n",
    "    out = jax.vmap(sparse_matmul_inner, in_axes=(0, 0, None), out_axes=0)(weights.astype(jnp.float32), indices, decoder_weight)\n",
    "    return out\n",
    "\n",
    "\n",
    "sparse_matmul_jit = jax.jit(sparse_matmul, backend=\"cpu\")"
   ]
  },
  {
   "cell_type": "code",
   "execution_count": 29,
   "metadata": {},
   "outputs": [
    {
     "data": {
      "application/vnd.jupyter.widget-view+json": {
       "model_id": "64cced2e3960423189c684a36593a00f",
       "version_major": 2,
       "version_minor": 0
      },
      "text/plain": [
       "  0%|          | 0/256 [00:00<?, ?it/s]"
      ]
     },
     "metadata": {},
     "output_type": "display_data"
    }
   ],
   "source": [
    "b_chunk = 2**12\n",
    "for idx in trange(0, w_size, b_chunk):\n",
    "    sparse_matmul_out = sparse_matmul_jit(*(u[idx:idx + b_chunk] for u in encback), weight_dec)\n",
    "    del sparse_matmul_out\n",
    "    gc.collect()\n",
    "# %time sparse_matmul_out = sparse_matmul_jit(*encback, weight_dec)"
   ]
  },
  {
   "cell_type": "code",
   "execution_count": 16,
   "metadata": {},
   "outputs": [
    {
     "ename": "TypeError",
     "evalue": "Only integer scalar arrays can be converted to a scalar index.",
     "output_type": "error",
     "traceback": [
      "\u001b[0;31m---------------------------------------------------------------------------\u001b[0m",
      "\u001b[0;31mTypeError\u001b[0m                                 Traceback (most recent call last)",
      "File \u001b[0;32m<timed exec>:1\u001b[0m\n",
      "Cell \u001b[0;32mIn[14], line 6\u001b[0m, in \u001b[0;36msparse_matmul\u001b[0;34m(indices, weights, decoder_weight)\u001b[0m\n\u001b[1;32m      5\u001b[0m \u001b[38;5;28;01mdef\u001b[39;00m \u001b[38;5;21msparse_matmul\u001b[39m(indices, weights, decoder_weight):\n\u001b[0;32m----> 6\u001b[0m     \u001b[38;5;28;01mreturn\u001b[39;00m \u001b[43mjax\u001b[49m\u001b[38;5;241;43m.\u001b[39;49m\u001b[43mvmap\u001b[49m\u001b[43m(\u001b[49m\u001b[43msparse_matmul_inner\u001b[49m\u001b[43m,\u001b[49m\u001b[43m \u001b[49m\u001b[43min_axes\u001b[49m\u001b[38;5;241;43m=\u001b[39;49m\u001b[43m(\u001b[49m\u001b[38;5;241;43m0\u001b[39;49m\u001b[43m,\u001b[49m\u001b[43m \u001b[49m\u001b[38;5;241;43m0\u001b[39;49m\u001b[43m,\u001b[49m\u001b[43m \u001b[49m\u001b[38;5;28;43;01mNone\u001b[39;49;00m\u001b[43m)\u001b[49m\u001b[43m,\u001b[49m\u001b[43m \u001b[49m\u001b[43mout_axes\u001b[49m\u001b[38;5;241;43m=\u001b[39;49m\u001b[38;5;241;43m0\u001b[39;49m\u001b[43m)\u001b[49m\u001b[43m(\u001b[49m\u001b[43mindices\u001b[49m\u001b[43m,\u001b[49m\u001b[43m \u001b[49m\u001b[43mweights\u001b[49m\u001b[43m,\u001b[49m\u001b[43m \u001b[49m\u001b[43mdecoder_weight\u001b[49m\u001b[43m)\u001b[49m\n",
      "    \u001b[0;31m[... skipping hidden 3 frame]\u001b[0m\n",
      "Cell \u001b[0;32mIn[14], line 2\u001b[0m, in \u001b[0;36msparse_matmul_inner\u001b[0;34m(indices, weights, decoder_weight)\u001b[0m\n\u001b[1;32m      1\u001b[0m \u001b[38;5;28;01mdef\u001b[39;00m \u001b[38;5;21msparse_matmul_inner\u001b[39m(indices, weights, decoder_weight):\n\u001b[0;32m----> 2\u001b[0m     \u001b[38;5;28;01mreturn\u001b[39;00m weights \u001b[38;5;241m@\u001b[39m \u001b[43mdecoder_weight\u001b[49m\u001b[43m[\u001b[49m\u001b[43mindices\u001b[49m\u001b[43m]\u001b[49m\n",
      "    \u001b[0;31m[... skipping hidden 1 frame]\u001b[0m\n",
      "File \u001b[0;32m~/.cache/pypoetry/virtualenvs/micrlhf-progress-a058ydGG-py3.10/lib/python3.10/site-packages/jax/_src/core.py:659\u001b[0m, in \u001b[0;36mcheck_integer_conversion\u001b[0;34m(arr)\u001b[0m\n\u001b[1;32m    657\u001b[0m \u001b[38;5;28;01mdef\u001b[39;00m \u001b[38;5;21mcheck_integer_conversion\u001b[39m(arr: Array):\n\u001b[1;32m    658\u001b[0m   \u001b[38;5;28;01mif\u001b[39;00m \u001b[38;5;129;01mnot\u001b[39;00m (arr\u001b[38;5;241m.\u001b[39mshape \u001b[38;5;241m==\u001b[39m () \u001b[38;5;129;01mand\u001b[39;00m dtypes\u001b[38;5;241m.\u001b[39missubdtype(arr\u001b[38;5;241m.\u001b[39mdtype, np\u001b[38;5;241m.\u001b[39minteger)):\n\u001b[0;32m--> 659\u001b[0m     \u001b[38;5;28;01mraise\u001b[39;00m \u001b[38;5;167;01mTypeError\u001b[39;00m(\u001b[38;5;124m\"\u001b[39m\u001b[38;5;124mOnly integer scalar arrays can be converted to a scalar index.\u001b[39m\u001b[38;5;124m\"\u001b[39m)\n",
      "\u001b[0;31mTypeError\u001b[0m: Only integer scalar arrays can be converted to a scalar index."
     ]
    }
   ],
   "source": [
    "from ml_dtypes import bfloat16\n",
    "to_bf = lambda x: np.asarray(x, dtype=bfloat16)\n",
    "%time matmul_outputs = sparse_matmul(to_bf(encback[1]), encback[0], [to_bf(w) for w in weights_dec])"
   ]
  },
  {
   "cell_type": "code",
   "execution_count": 17,
   "metadata": {},
   "outputs": [
    {
     "data": {
      "text/plain": [
       "((4194304, 64), (4194304, 64))"
      ]
     },
     "execution_count": 17,
     "metadata": {},
     "output_type": "execute_result"
    }
   ],
   "source": [
    "encback[0].shape, encback[1].shape"
   ]
  },
  {
   "cell_type": "code",
   "execution_count": 18,
   "metadata": {},
   "outputs": [
    {
     "data": {
      "text/plain": [
       "(4096, 16384)"
      ]
     },
     "execution_count": 18,
     "metadata": {},
     "output_type": "execute_result"
    }
   ],
   "source": [
    "weights_dec[0].shape"
   ]
  }
 ],
 "metadata": {
  "kernelspec": {
   "display_name": "micrlhf-progress-a058ydGG-py3.10",
   "language": "python",
   "name": "python3"
  },
  "language_info": {
   "codemirror_mode": {
    "name": "ipython",
    "version": 3
   },
   "file_extension": ".py",
   "mimetype": "text/x-python",
   "name": "python",
   "nbconvert_exporter": "python",
   "pygments_lexer": "ipython3",
   "version": "3.10.12"
  }
 },
 "nbformat": 4,
 "nbformat_minor": 2
}
