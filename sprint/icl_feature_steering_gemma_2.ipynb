{
 "cells": [
  {
   "cell_type": "code",
   "execution_count": 1,
   "metadata": {},
   "outputs": [],
   "source": [
    "import os\n",
    "if \"models\" not in os.listdir(\".\"):\n",
    "    os.chdir(\"../..\")"
   ]
  },
  {
   "cell_type": "code",
   "execution_count": 2,
   "metadata": {},
   "outputs": [],
   "source": [
    "%load_ext autoreload\n",
    "%autoreload 2\n",
    "import penzai\n",
    "import jax_smi\n",
    "jax_smi.initialise_tracking()\n",
    "from penzai import pz\n",
    "pz.ts.register_as_default()\n",
    "pz.ts.register_autovisualize_magic()\n",
    "pz.enable_interactive_context()"
   ]
  },
  {
   "cell_type": "code",
   "execution_count": 3,
   "metadata": {},
   "outputs": [
    {
     "ename": "KeyboardInterrupt",
     "evalue": "",
     "output_type": "error",
     "traceback": [
      "\u001b[0;31m---------------------------------------------------------------------------\u001b[0m",
      "\u001b[0;31mKeyboardInterrupt\u001b[0m                         Traceback (most recent call last)",
      "Cell \u001b[0;32mIn[3], line 2\u001b[0m\n\u001b[1;32m      1\u001b[0m \u001b[38;5;28;01mfrom\u001b[39;00m \u001b[38;5;21;01mmicrlhf\u001b[39;00m\u001b[38;5;21;01m.\u001b[39;00m\u001b[38;5;21;01mllama\u001b[39;00m \u001b[38;5;28;01mimport\u001b[39;00m LlamaTransformer\n\u001b[0;32m----> 2\u001b[0m llama \u001b[38;5;241m=\u001b[39m \u001b[43mLlamaTransformer\u001b[49m\u001b[38;5;241;43m.\u001b[39;49m\u001b[43mfrom_pretrained\u001b[49m\u001b[43m(\u001b[49m\u001b[38;5;124;43m\"\u001b[39;49m\u001b[38;5;124;43mmodels/gemma-2-2b-it.gguf\u001b[39;49m\u001b[38;5;124;43m\"\u001b[39;49m\u001b[43m,\u001b[49m\n\u001b[1;32m      3\u001b[0m \u001b[43m                                         \u001b[49m\u001b[43mfrom_type\u001b[49m\u001b[38;5;241;43m=\u001b[39;49m\u001b[38;5;124;43m\"\u001b[39;49m\u001b[38;5;124;43mgemma2\u001b[39;49m\u001b[38;5;124;43m\"\u001b[39;49m\u001b[43m,\u001b[49m\n\u001b[1;32m      4\u001b[0m \u001b[43m                                         \u001b[49m\u001b[43mload_eager\u001b[49m\u001b[38;5;241;43m=\u001b[39;49m\u001b[38;5;28;43;01mTrue\u001b[39;49;00m\n\u001b[1;32m      5\u001b[0m \u001b[43m                                         \u001b[49m\u001b[43m)\u001b[49m\n",
      "File \u001b[0;32m~/micrlhf-progress/micrlhf/llama.py:469\u001b[0m, in \u001b[0;36mLlamaTransformer.from_pretrained\u001b[0;34m(cls, gguf_path, from_type, device_map, extract_layer, load_eager, transpose_rotary, load_on_cpu)\u001b[0m\n\u001b[1;32m    461\u001b[0m \u001b[38;5;28;01mif\u001b[39;00m \u001b[38;5;129;01mnot\u001b[39;00m load_eager:\n\u001b[1;32m    462\u001b[0m     \u001b[38;5;66;03m# assume no linears are transposed\u001b[39;00m\n\u001b[1;32m    463\u001b[0m     transformer \u001b[38;5;241m=\u001b[39m transformer\u001b[38;5;241m.\u001b[39mselect()\u001b[38;5;241m.\u001b[39mat_instances_of(pz\u001b[38;5;241m.\u001b[39mnn\u001b[38;5;241m.\u001b[39mLinear)\u001b[38;5;241m.\u001b[39mapply(\n\u001b[1;32m    464\u001b[0m         \u001b[38;5;28;01mlambda\u001b[39;00m linear: make_linear(linear, \u001b[38;5;241m*\u001b[39mgguf[remove_unused_key(param_mapping[\n\u001b[1;32m    465\u001b[0m             linear\u001b[38;5;241m.\u001b[39mselect()\u001b[38;5;241m.\u001b[39mat_instances_of(pz\u001b[38;5;241m.\u001b[39mnn\u001b[38;5;241m.\u001b[39mUninitializedParameter)\u001b[38;5;241m.\u001b[39mpick_nth_selected(\u001b[38;5;241m0\u001b[39m)\u001b[38;5;241m.\u001b[39mget()\u001b[38;5;241m.\u001b[39mname\n\u001b[1;32m    466\u001b[0m             ])], mesh\u001b[38;5;241m=\u001b[39mmesh, axis_name_to_mesh_name\u001b[38;5;241m=\u001b[39mtransformer\u001b[38;5;241m.\u001b[39maxis_name_to_mesh_name,\n\u001b[1;32m    467\u001b[0m                                    transpose_rotary\u001b[38;5;241m=\u001b[39mtranspose_rotary, load_on_cpu\u001b[38;5;241m=\u001b[39mload_on_cpu)\n\u001b[1;32m    468\u001b[0m     )\n\u001b[0;32m--> 469\u001b[0m transformer \u001b[38;5;241m=\u001b[39m \u001b[43mtransformer\u001b[49m\u001b[38;5;241;43m.\u001b[39;49m\u001b[43mselect\u001b[49m\u001b[43m(\u001b[49m\u001b[43m)\u001b[49m\u001b[38;5;241;43m.\u001b[39;49m\u001b[43mat_instances_of\u001b[49m\u001b[43m(\u001b[49m\u001b[43mpz\u001b[49m\u001b[38;5;241;43m.\u001b[39;49m\u001b[43mnn\u001b[49m\u001b[38;5;241;43m.\u001b[39;49m\u001b[43mUninitializedParameter\u001b[49m\u001b[43m)\u001b[49m\u001b[38;5;241;43m.\u001b[39;49m\u001b[43mapply\u001b[49m\u001b[43m(\u001b[49m\n\u001b[1;32m    470\u001b[0m \u001b[43m    \u001b[49m\u001b[38;5;28;43;01mlambda\u001b[39;49;00m\u001b[43m \u001b[49m\u001b[43mparam\u001b[49m\u001b[43m:\u001b[49m\u001b[43m \u001b[49m\u001b[43mmake_param\u001b[49m\u001b[43m(\u001b[49m\u001b[43mparam\u001b[49m\u001b[43m,\u001b[49m\u001b[43m \u001b[49m\u001b[38;5;241;43m*\u001b[39;49m\u001b[43mgguf\u001b[49m\u001b[43m[\u001b[49m\u001b[43mremove_unused_key\u001b[49m\u001b[43m(\u001b[49m\u001b[43mparam_mapping\u001b[49m\u001b[43m[\u001b[49m\u001b[43mparam\u001b[49m\u001b[38;5;241;43m.\u001b[39;49m\u001b[43mname\u001b[49m\u001b[43m]\u001b[49m\u001b[43m)\u001b[49m\u001b[43m]\u001b[49m\u001b[43m,\u001b[49m\n\u001b[1;32m    471\u001b[0m \u001b[43m                             \u001b[49m\u001b[43mmesh\u001b[49m\u001b[38;5;241;43m=\u001b[39;49m\u001b[43mmesh\u001b[49m\u001b[43m,\u001b[49m\u001b[43m \u001b[49m\u001b[43maxis_name_to_mesh_name\u001b[49m\u001b[38;5;241;43m=\u001b[39;49m\u001b[43mtransformer\u001b[49m\u001b[38;5;241;43m.\u001b[39;49m\u001b[43maxis_name_to_mesh_name\u001b[49m\u001b[43m,\u001b[49m\n\u001b[1;32m    472\u001b[0m \u001b[43m                             \u001b[49m\u001b[43mis_transposed\u001b[49m\u001b[38;5;241;43m=\u001b[39;49m\u001b[43mis_transposed\u001b[49m\u001b[43m[\u001b[49m\u001b[43mparam\u001b[49m\u001b[38;5;241;43m.\u001b[39;49m\u001b[43mname\u001b[49m\u001b[43m]\u001b[49m\u001b[43m,\u001b[49m\n\u001b[1;32m    473\u001b[0m \u001b[43m                             \u001b[49m\u001b[43mtranspose_rotary\u001b[49m\u001b[38;5;241;43m=\u001b[39;49m\u001b[43mtranspose_rotary\u001b[49m\u001b[43m,\u001b[49m\u001b[43m \u001b[49m\u001b[43mload_on_cpu\u001b[49m\u001b[38;5;241;43m=\u001b[39;49m\u001b[43mload_on_cpu\u001b[49m\u001b[43m)\u001b[49m\n\u001b[1;32m    474\u001b[0m \u001b[43m\u001b[49m\u001b[43m)\u001b[49m\n\u001b[1;32m    475\u001b[0m \u001b[38;5;28;01mif\u001b[39;00m unused_keys:\n\u001b[1;32m    476\u001b[0m     \u001b[38;5;28;01mraise\u001b[39;00m \u001b[38;5;167;01mValueError\u001b[39;00m(\u001b[38;5;124mf\u001b[39m\u001b[38;5;124m\"\u001b[39m\u001b[38;5;124mUnused keys: \u001b[39m\u001b[38;5;132;01m{\u001b[39;00munused_keys\u001b[38;5;132;01m}\u001b[39;00m\u001b[38;5;124m\"\u001b[39m)\n",
      "File \u001b[0;32m~/.cache/pypoetry/virtualenvs/micrlhf-progress-_SD4q1c9-py3.10/lib/python3.10/site-packages/penzai/core/selectors.py:322\u001b[0m, in \u001b[0;36mSelection.apply\u001b[0;34m(self, fn, with_keypath, keep_selected)\u001b[0m\n\u001b[1;32m    317\u001b[0m   new_values \u001b[38;5;241m=\u001b[39m collections\u001b[38;5;241m.\u001b[39mOrderedDict(\n\u001b[1;32m    318\u001b[0m       [(k, fn(k, v)) \u001b[38;5;28;01mfor\u001b[39;00m k, v \u001b[38;5;129;01min\u001b[39;00m \u001b[38;5;28mself\u001b[39m\u001b[38;5;241m.\u001b[39mselected_by_path\u001b[38;5;241m.\u001b[39mitems()]\n\u001b[1;32m    319\u001b[0m   )\n\u001b[1;32m    320\u001b[0m \u001b[38;5;28;01melse\u001b[39;00m:\n\u001b[1;32m    321\u001b[0m   new_values \u001b[38;5;241m=\u001b[39m collections\u001b[38;5;241m.\u001b[39mOrderedDict(\n\u001b[0;32m--> 322\u001b[0m       [(k, fn(v)) \u001b[38;5;28;01mfor\u001b[39;00m k, v \u001b[38;5;129;01min\u001b[39;00m \u001b[38;5;28mself\u001b[39m\u001b[38;5;241m.\u001b[39mselected_by_path\u001b[38;5;241m.\u001b[39mitems()]\n\u001b[1;32m    323\u001b[0m   )\n\u001b[1;32m    324\u001b[0m new_selection \u001b[38;5;241m=\u001b[39m Selection(\n\u001b[1;32m    325\u001b[0m     selected_by_path\u001b[38;5;241m=\u001b[39mnew_values, remainder\u001b[38;5;241m=\u001b[39m\u001b[38;5;28mself\u001b[39m\u001b[38;5;241m.\u001b[39mremainder\n\u001b[1;32m    326\u001b[0m )\n\u001b[1;32m    327\u001b[0m \u001b[38;5;28;01mif\u001b[39;00m keep_selected:\n",
      "File \u001b[0;32m~/.cache/pypoetry/virtualenvs/micrlhf-progress-_SD4q1c9-py3.10/lib/python3.10/site-packages/penzai/core/selectors.py:322\u001b[0m, in \u001b[0;36m<listcomp>\u001b[0;34m(.0)\u001b[0m\n\u001b[1;32m    317\u001b[0m   new_values \u001b[38;5;241m=\u001b[39m collections\u001b[38;5;241m.\u001b[39mOrderedDict(\n\u001b[1;32m    318\u001b[0m       [(k, fn(k, v)) \u001b[38;5;28;01mfor\u001b[39;00m k, v \u001b[38;5;129;01min\u001b[39;00m \u001b[38;5;28mself\u001b[39m\u001b[38;5;241m.\u001b[39mselected_by_path\u001b[38;5;241m.\u001b[39mitems()]\n\u001b[1;32m    319\u001b[0m   )\n\u001b[1;32m    320\u001b[0m \u001b[38;5;28;01melse\u001b[39;00m:\n\u001b[1;32m    321\u001b[0m   new_values \u001b[38;5;241m=\u001b[39m collections\u001b[38;5;241m.\u001b[39mOrderedDict(\n\u001b[0;32m--> 322\u001b[0m       [(k, \u001b[43mfn\u001b[49m\u001b[43m(\u001b[49m\u001b[43mv\u001b[49m\u001b[43m)\u001b[49m) \u001b[38;5;28;01mfor\u001b[39;00m k, v \u001b[38;5;129;01min\u001b[39;00m \u001b[38;5;28mself\u001b[39m\u001b[38;5;241m.\u001b[39mselected_by_path\u001b[38;5;241m.\u001b[39mitems()]\n\u001b[1;32m    323\u001b[0m   )\n\u001b[1;32m    324\u001b[0m new_selection \u001b[38;5;241m=\u001b[39m Selection(\n\u001b[1;32m    325\u001b[0m     selected_by_path\u001b[38;5;241m=\u001b[39mnew_values, remainder\u001b[38;5;241m=\u001b[39m\u001b[38;5;28mself\u001b[39m\u001b[38;5;241m.\u001b[39mremainder\n\u001b[1;32m    326\u001b[0m )\n\u001b[1;32m    327\u001b[0m \u001b[38;5;28;01mif\u001b[39;00m keep_selected:\n",
      "File \u001b[0;32m~/micrlhf-progress/micrlhf/llama.py:470\u001b[0m, in \u001b[0;36mLlamaTransformer.from_pretrained.<locals>.<lambda>\u001b[0;34m(param)\u001b[0m\n\u001b[1;32m    461\u001b[0m \u001b[38;5;28;01mif\u001b[39;00m \u001b[38;5;129;01mnot\u001b[39;00m load_eager:\n\u001b[1;32m    462\u001b[0m     \u001b[38;5;66;03m# assume no linears are transposed\u001b[39;00m\n\u001b[1;32m    463\u001b[0m     transformer \u001b[38;5;241m=\u001b[39m transformer\u001b[38;5;241m.\u001b[39mselect()\u001b[38;5;241m.\u001b[39mat_instances_of(pz\u001b[38;5;241m.\u001b[39mnn\u001b[38;5;241m.\u001b[39mLinear)\u001b[38;5;241m.\u001b[39mapply(\n\u001b[1;32m    464\u001b[0m         \u001b[38;5;28;01mlambda\u001b[39;00m linear: make_linear(linear, \u001b[38;5;241m*\u001b[39mgguf[remove_unused_key(param_mapping[\n\u001b[1;32m    465\u001b[0m             linear\u001b[38;5;241m.\u001b[39mselect()\u001b[38;5;241m.\u001b[39mat_instances_of(pz\u001b[38;5;241m.\u001b[39mnn\u001b[38;5;241m.\u001b[39mUninitializedParameter)\u001b[38;5;241m.\u001b[39mpick_nth_selected(\u001b[38;5;241m0\u001b[39m)\u001b[38;5;241m.\u001b[39mget()\u001b[38;5;241m.\u001b[39mname\n\u001b[1;32m    466\u001b[0m             ])], mesh\u001b[38;5;241m=\u001b[39mmesh, axis_name_to_mesh_name\u001b[38;5;241m=\u001b[39mtransformer\u001b[38;5;241m.\u001b[39maxis_name_to_mesh_name,\n\u001b[1;32m    467\u001b[0m                                    transpose_rotary\u001b[38;5;241m=\u001b[39mtranspose_rotary, load_on_cpu\u001b[38;5;241m=\u001b[39mload_on_cpu)\n\u001b[1;32m    468\u001b[0m     )\n\u001b[1;32m    469\u001b[0m transformer \u001b[38;5;241m=\u001b[39m transformer\u001b[38;5;241m.\u001b[39mselect()\u001b[38;5;241m.\u001b[39mat_instances_of(pz\u001b[38;5;241m.\u001b[39mnn\u001b[38;5;241m.\u001b[39mUninitializedParameter)\u001b[38;5;241m.\u001b[39mapply(\n\u001b[0;32m--> 470\u001b[0m     \u001b[38;5;28;01mlambda\u001b[39;00m param: \u001b[43mmake_param\u001b[49m\u001b[43m(\u001b[49m\u001b[43mparam\u001b[49m\u001b[43m,\u001b[49m\u001b[43m \u001b[49m\u001b[38;5;241;43m*\u001b[39;49m\u001b[43mgguf\u001b[49m\u001b[43m[\u001b[49m\u001b[43mremove_unused_key\u001b[49m\u001b[43m(\u001b[49m\u001b[43mparam_mapping\u001b[49m\u001b[43m[\u001b[49m\u001b[43mparam\u001b[49m\u001b[38;5;241;43m.\u001b[39;49m\u001b[43mname\u001b[49m\u001b[43m]\u001b[49m\u001b[43m)\u001b[49m\u001b[43m]\u001b[49m\u001b[43m,\u001b[49m\n\u001b[1;32m    471\u001b[0m \u001b[43m                             \u001b[49m\u001b[43mmesh\u001b[49m\u001b[38;5;241;43m=\u001b[39;49m\u001b[43mmesh\u001b[49m\u001b[43m,\u001b[49m\u001b[43m \u001b[49m\u001b[43maxis_name_to_mesh_name\u001b[49m\u001b[38;5;241;43m=\u001b[39;49m\u001b[43mtransformer\u001b[49m\u001b[38;5;241;43m.\u001b[39;49m\u001b[43maxis_name_to_mesh_name\u001b[49m\u001b[43m,\u001b[49m\n\u001b[1;32m    472\u001b[0m \u001b[43m                             \u001b[49m\u001b[43mis_transposed\u001b[49m\u001b[38;5;241;43m=\u001b[39;49m\u001b[43mis_transposed\u001b[49m\u001b[43m[\u001b[49m\u001b[43mparam\u001b[49m\u001b[38;5;241;43m.\u001b[39;49m\u001b[43mname\u001b[49m\u001b[43m]\u001b[49m\u001b[43m,\u001b[49m\n\u001b[1;32m    473\u001b[0m \u001b[43m                             \u001b[49m\u001b[43mtranspose_rotary\u001b[49m\u001b[38;5;241;43m=\u001b[39;49m\u001b[43mtranspose_rotary\u001b[49m\u001b[43m,\u001b[49m\u001b[43m \u001b[49m\u001b[43mload_on_cpu\u001b[49m\u001b[38;5;241;43m=\u001b[39;49m\u001b[43mload_on_cpu\u001b[49m\u001b[43m)\u001b[49m\n\u001b[1;32m    474\u001b[0m )\n\u001b[1;32m    475\u001b[0m \u001b[38;5;28;01mif\u001b[39;00m unused_keys:\n\u001b[1;32m    476\u001b[0m     \u001b[38;5;28;01mraise\u001b[39;00m \u001b[38;5;167;01mValueError\u001b[39;00m(\u001b[38;5;124mf\u001b[39m\u001b[38;5;124m\"\u001b[39m\u001b[38;5;124mUnused keys: \u001b[39m\u001b[38;5;132;01m{\u001b[39;00munused_keys\u001b[38;5;132;01m}\u001b[39;00m\u001b[38;5;124m\"\u001b[39m)\n",
      "File \u001b[0;32m~/micrlhf-progress/micrlhf/quantizers.py:418\u001b[0m, in \u001b[0;36mmake_param\u001b[0;34m(uninitialized_param, quant_type, tensor_data, shape, mesh, axis_name_to_mesh_name, return_metadata, is_transposed, transpose_rotary, load_on_cpu)\u001b[0m\n\u001b[1;32m    416\u001b[0m     dequantized \u001b[38;5;241m=\u001b[39m tensor_data[\u001b[38;5;241m0\u001b[39m]\n\u001b[1;32m    417\u001b[0m \u001b[38;5;28;01melif\u001b[39;00m quant_type \u001b[38;5;241m==\u001b[39m \u001b[38;5;124m\"\u001b[39m\u001b[38;5;124mq8_0\u001b[39m\u001b[38;5;124m\"\u001b[39m:\n\u001b[0;32m--> 418\u001b[0m     dequantized \u001b[38;5;241m=\u001b[39m \u001b[43mtensor_data\u001b[49m\u001b[43m[\u001b[49m\u001b[38;5;241;43m0\u001b[39;49m\u001b[43m]\u001b[49m\u001b[38;5;241;43m.\u001b[39;49m\u001b[43mastype\u001b[49m\u001b[43m(\u001b[49m\u001b[43mdtype\u001b[49m\u001b[43m)\u001b[49m \u001b[38;5;241m*\u001b[39m tensor_data[\u001b[38;5;241m1\u001b[39m]\n\u001b[1;32m    419\u001b[0m \u001b[38;5;28;01melif\u001b[39;00m quant_type \u001b[38;5;241m==\u001b[39m \u001b[38;5;124m\"\u001b[39m\u001b[38;5;124mq4_k\u001b[39m\u001b[38;5;124m\"\u001b[39m:\n\u001b[1;32m    420\u001b[0m     scale_factors, scale_offsets, qs1, qs2 \u001b[38;5;241m=\u001b[39m tensor_data\n",
      "\u001b[0;31mKeyboardInterrupt\u001b[0m: "
     ]
    }
   ],
   "source": [
    "from micrlhf.llama import LlamaTransformer\n",
    "llama = LlamaTransformer.from_pretrained(\"models/gemma-2-2b-it.gguf\",\n",
    "                                         from_type=\"gemma2\",\n",
    "                                         load_eager=True\n",
    "                                         )"
   ]
  },
  {
   "cell_type": "code",
   "execution_count": 4,
   "metadata": {},
   "outputs": [],
   "source": [
    "from transformers import AutoTokenizer\n",
    "tokenizer = AutoTokenizer.from_pretrained(\"alpindale/gemma-2b\")\n",
    "tokenizer.padding_side = \"right\""
   ]
  },
  {
   "cell_type": "code",
   "execution_count": 5,
   "metadata": {},
   "outputs": [],
   "source": [
    "from sprint.icl_sfc_utils import Circuitizer"
   ]
  },
  {
   "cell_type": "code",
   "execution_count": 6,
   "metadata": {},
   "outputs": [],
   "source": [
    "from sprint.task_vector_utils import load_tasks, ICLRunner\n",
    "tasks = load_tasks()"
   ]
  },
  {
   "cell_type": "code",
   "execution_count": 23,
   "metadata": {},
   "outputs": [],
   "source": [
    "task_names = list(tasks.keys())\n",
    "# task_name = task_names[1]"
   ]
  },
  {
   "cell_type": "code",
   "execution_count": 19,
   "metadata": {},
   "outputs": [],
   "source": [
    "import json\n",
    "\n",
    "use_65k = True\n",
    "\n",
    "if use_65k:\n",
    "    file_name = \"gemma_2_cleaning_compact_65k.jsonl\"\n",
    "else:\n",
    "    file_name = \"gemma_2_cleaning_compact.jsonl\"\n",
    "\n",
    "with open(file_name) as f:\n",
    "    lines = f.readlines()\n",
    "    results = [json.loads(line) for line in lines]"
   ]
  },
  {
   "cell_type": "code",
   "execution_count": 9,
   "metadata": {},
   "outputs": [],
   "source": [
    "import jax.numpy as jnp\n",
    "import jax\n",
    "\n",
    "\n",
    "from sprint.task_vector_utils import ICLRunner, logprob_loss, get_tv, make_act_adder\n",
    "from micrlhf.llama import LlamaBlock\n",
    "from micrlhf.sampling import sample, jit_wrapper\n",
    "\n",
    "\n",
    "get_resids = llama.select().at_instances_of(LlamaBlock).apply_with_selected_index(lambda i, x:\n",
    "    pz.nn.Sequential([\n",
    "        pz.de.TellIntermediate.from_config(tag=f\"resid_pre_{i}\"),\n",
    "        x\n",
    "    ])\n",
    ")\n",
    "get_resids = pz.de.CollectingSideOutputs.handling(get_resids, tag_predicate=lambda x: x.startswith(\"resid_pre\"))\n",
    "get_resids_call = jit_wrapper.Jitted(get_resids)\n",
    "\n",
    "\n",
    "\n",
    "def tokenized_to_inputs(input_ids, attention_mask):\n",
    "    token_array = jnp.asarray(input_ids)\n",
    "    token_array = jax.device_put(token_array, jax.sharding.NamedSharding(llama.mesh, jax.sharding.PartitionSpec(\"dp\", \"sp\")))\n",
    "    token_array = pz.nx.wrap(token_array, \"batch\", \"seq\").untag(\"batch\").tag(\"batch\")\n",
    "\n",
    "    mask_array = jnp.asarray(attention_mask, dtype=jnp.bool)\n",
    "    mask_array = jax.device_put(mask_array, jax.sharding.NamedSharding(llama.mesh, jax.sharding.PartitionSpec(\"dp\", \"sp\")))\n",
    "    mask_array = pz.nx.wrap(mask_array, \"batch\", \"seq\").untag(\"batch\").tag(\"batch\")\n",
    "\n",
    "    inputs = llama.inputs.from_basic_segments(token_array)\n",
    "    return inputs\n"
   ]
  },
  {
   "cell_type": "code",
   "execution_count": 13,
   "metadata": {},
   "outputs": [],
   "source": [
    "from sprint.icl_sfc_utils import AblatedModule\n",
    "layer = 18\n",
    "mask_name = \"arrow\""
   ]
  },
  {
   "cell_type": "code",
   "execution_count": 24,
   "metadata": {},
   "outputs": [
    {
     "data": {
      "text/html": [
       "<script> (()=>{ if (customElements.get('treescope-container') === undefined) { class TreescopeContainer extends HTMLElement { constructor() { super(); this.attachShadow({mode: \"open\"}); this.defns = {}; this.state = {}; } } customElements.define(\"treescope-container\", TreescopeContainer); } if (customElements.get('treescope-run-here') === undefined) { class RunHere extends HTMLElement { constructor() { super() } connectedCallback() { const run = child => { const fn = new Function(child.textContent); child.textContent = \"\"; fn.call(this); this.remove(); }; const child = this.querySelector(\"script\"); if (child) { run(child); } else { new MutationObserver(()=>{ run(this.querySelector(\"script\")); }).observe(this, {childList: true}); } } } customElements.define(\"treescope-run-here\", RunHere); } })(); </script> <treescope-container class=\"treescope_out_a46efe024dca419683faff03379ccafe\" ></treescope-container> <treescope-run-here><script type=\"application/octet-stream\"> const root = ( Array.from(document.getElementsByClassName( \"treescope_out_a46efe024dca419683faff03379ccafe\")) .filter((elt) => !elt.dataset.setup) )[0]; root.dataset.setup = 1; const msg = document.createElement(\"span\"); msg.style = \"color: #aaaaaa; font-family: monospace; transition: opacity 0.2s; opacity: 0.0;\"; msg.textContent = \"(Loading...)\"; root.state.loadingMsg = msg; root.shadowRoot.appendChild(msg); root.state.chain = new Promise((resolve, reject) => { const observer = new IntersectionObserver((entries) => { for (const entry of entries) { if (entry.isIntersecting) { resolve(); observer.disconnect(); return; } } }, {rootMargin: \"1000px\"}); window.setTimeout(() => { if (root.loadingMsg) { root.loadingMsg.style.opacity = \"1.0\"; } observer.observe(root); }, 0); }); root.state.deferring = false; const _insertNode = (node) => { for (let oldScript of node.querySelectorAll(\"script\")) { let newScript = document.createElement(\"script\"); newScript.type = oldScript.type; newScript.textContent = oldScript.textContent; oldScript.parentNode.replaceChild(newScript, oldScript); } if (root.state.loadingMsg) { root.state.loadingMsg.remove(); root.state.loadingMsg = null; } root.shadowRoot.appendChild(node); }; root.defns.insertContent = ((contentNode, compressed) => { if (compressed) { root.state.deferring = true; } if (root.state.deferring) { root.state.chain = (async () => { await root.state.chain; if (compressed) { const encoded = contentNode.textContent; const blob = new Blob([ Uint8Array.from(atob(encoded), (m) => m.codePointAt(0)) ]); const reader = blob.stream().pipeThrough( new DecompressionStream(\"deflate\") ).pipeThrough( new TextDecoderStream(\"utf-8\") ).getReader(); const parts = []; while (true) { const step = await reader.read(); if (step.done) { break; } parts.push(step.value); } const tpl = document.createElement('template'); tpl.innerHTML = parts.join(\"\"); _insertNode(tpl.content); } else { _insertNode(contentNode.content); } })(); } else { _insertNode(contentNode.content); } }); </script></treescope-run-here><div style=\"display:none\"> <script type=\"application/octet-stream\" >eNqNVE1v2zAM/SuCd6gNzG7aocOWxAZ6GXYYdtgOOxRDoNi0LUSmNIlOlg3976PkJOtHVgw5xCKpx/cokktPew1VQQ7A18bCyhlD4rewxitSBufCgZaktrAQrUHKWzkovZ+LwaDxVtZs3/WKII+HubCOLVp5yiN0TnvLVjTI5rWsN50zIzZ5bbRx8+nqQhxOa80BjKca6ueiVcRhSIC0EFY2jcIu19DSXFzXfUiCkPegup4tV8VNgEGSijmfrh0+8q3yaq20ImYuRzKn2FwhOYVe1blXv2DyHujeLy+n8ixP5cndiJzTsc3XTlkSQV95Ia3VqpahYpemJgjqHcjhokrTrKy4oJzPk2igRS9KQb3yRQf0hav92TSQZkVvPBXRz9KAxMoCBsm3dUANl+6+n/N8lNhoYDeOWi+mDAXT/GoMsjXdGbfJxEMO5hubguuRmVQdjBZca9wgsYYCzS7N4vtygvSZR+TTpaV4c50xjmpF+oR1oQE76kVZilkIeZG6Axodct0FaA9/ifUjBmZPoX2vWgr8YkD4uOffPzKk3FXYmF3h4McInm5RDfG5Pjg5QDrVJAsYi2eJ7Oj7qYyLMxqPKcpJxgsq/59DYDE9JJmu09NUruLkcLfagBUsoOm1gC03+OElA7t4LjawD0VPXBIIHYKLWkvvP/FwHnDT5IS5GrgNk2Py+4zrye0fe7xaXp4bgEZtRQQsk8frIxEk16wUfpbJLBEGmQzLRo57qe3Pa03DnaPKhMduWlhxY6xwHNbgYqfEBfJq9v7d1c3bh6PLawmPNHueVcdrY7Mi6ZhGIhpJMmd6VlJfJsnj8Ic5kupqds2g7K5Of1yB6g+lCtu8</script> <treescope-run-here><script type=\"application/octet-stream\"> const root = ( Array.from(document.getElementsByClassName( \"treescope_out_a46efe024dca419683faff03379ccafe\")) .filter((elt) => !elt.dataset['step0']) )[0]; root.dataset['step0'] = 1; root.defns.insertContent( this.parentNode.querySelector('script[type=\"application/octet-stream\"]'), true ); this.parentNode.remove(); </script></treescope-run-here> </div>"
      ],
      "text/plain": [
       "<IPython.core.display.HTML object>"
      ]
     },
     "metadata": {},
     "output_type": "display_data"
    },
    {
     "data": {
      "text/html": [
       "<treescope-run-here><script type=\"application/octet-stream\"> const root = ( Array.from(document.getElementsByClassName( \"treescope_out_a46efe024dca419683faff03379ccafe\")) .filter((elt) => !elt.dataset.stolen) )[0]; root.dataset.stolen = 1; this.parentNode.replaceChild(root, this); </script></treescope-run-here>"
      ],
      "text/plain": [
       "102"
      ]
     },
     "execution_count": 24,
     "metadata": {},
     "output_type": "execute_result"
    }
   ],
   "source": [
    "import numpy as np\n",
    "from micrlhf.utils.load_sae import get_dm_res_sae\n",
    "\n",
    "features = []\n",
    "\n",
    "sae = get_dm_res_sae(layer, load_65k=use_65k)\n",
    "threshold = sae.get(\"threshold\", 0)\n",
    "\n",
    "for task_name in task_names:\n",
    "    task_results = [result for result in results if result[\"task\"] == task_name and result[\"layer\"] == layer]\n",
    "\n",
    "    for result in task_results:\n",
    "        features += result[\"indices\"]\n",
    "\n",
    "features = list(set(features))\n",
    "\n",
    "len(features)"
   ]
  },
  {
   "cell_type": "code",
   "execution_count": 68,
   "metadata": {},
   "outputs": [
    {
     "data": {
      "application/vnd.jupyter.widget-view+json": {
       "model_id": "518b2665b2524d2db8490770916ebaf6",
       "version_major": 2,
       "version_minor": 0
      },
      "text/plain": [
       "  0%|          | 0/23 [00:00<?, ?it/s]"
      ]
     },
     "metadata": {},
     "output_type": "display_data"
    },
    {
     "data": {
      "application/vnd.jupyter.widget-view+json": {
       "model_id": "632eff5011434bd8a9c5aece8e494005",
       "version_major": 2,
       "version_minor": 0
      },
      "text/plain": [
       "  0%|          | 0/102 [00:00<?, ?it/s]"
      ]
     },
     "metadata": {},
     "output_type": "display_data"
    },
    {
     "name": "stderr",
     "output_type": "stream",
     "text": [
      "/home/dmitrii/.cache/pypoetry/virtualenvs/micrlhf-progress-_SD4q1c9-py3.10/lib/python3.10/site-packages/jax/_src/ops/scatter.py:92: FutureWarning:\n",
      "\n",
      "scatter inputs have incompatible types: cannot safely cast value from dtype=float32 to dtype=bfloat16 with jax_numpy_dtype_promotion='standard'. In future JAX releases this will result in an error.\n",
      "\n"
     ]
    },
    {
     "data": {
      "application/vnd.jupyter.widget-view+json": {
       "model_id": "4934786a4fbc43c3bf1d9c7ac7ff1037",
       "version_major": 2,
       "version_minor": 0
      },
      "text/plain": [
       "  0%|          | 0/102 [00:00<?, ?it/s]"
      ]
     },
     "metadata": {},
     "output_type": "display_data"
    },
    {
     "name": "stderr",
     "output_type": "stream",
     "text": [
      "/home/dmitrii/.cache/pypoetry/virtualenvs/micrlhf-progress-_SD4q1c9-py3.10/lib/python3.10/site-packages/jax/_src/ops/scatter.py:92: FutureWarning:\n",
      "\n",
      "scatter inputs have incompatible types: cannot safely cast value from dtype=float32 to dtype=bfloat16 with jax_numpy_dtype_promotion='standard'. In future JAX releases this will result in an error.\n",
      "\n"
     ]
    },
    {
     "data": {
      "application/vnd.jupyter.widget-view+json": {
       "model_id": "c7c89929afb044559f3116c513143df4",
       "version_major": 2,
       "version_minor": 0
      },
      "text/plain": [
       "  0%|          | 0/102 [00:00<?, ?it/s]"
      ]
     },
     "metadata": {},
     "output_type": "display_data"
    },
    {
     "name": "stderr",
     "output_type": "stream",
     "text": [
      "/home/dmitrii/.cache/pypoetry/virtualenvs/micrlhf-progress-_SD4q1c9-py3.10/lib/python3.10/site-packages/jax/_src/ops/scatter.py:92: FutureWarning:\n",
      "\n",
      "scatter inputs have incompatible types: cannot safely cast value from dtype=float32 to dtype=bfloat16 with jax_numpy_dtype_promotion='standard'. In future JAX releases this will result in an error.\n",
      "\n"
     ]
    },
    {
     "data": {
      "application/vnd.jupyter.widget-view+json": {
       "model_id": "2a8be75919c1409587a47aa74ff17988",
       "version_major": 2,
       "version_minor": 0
      },
      "text/plain": [
       "  0%|          | 0/102 [00:00<?, ?it/s]"
      ]
     },
     "metadata": {},
     "output_type": "display_data"
    },
    {
     "name": "stderr",
     "output_type": "stream",
     "text": [
      "/home/dmitrii/.cache/pypoetry/virtualenvs/micrlhf-progress-_SD4q1c9-py3.10/lib/python3.10/site-packages/jax/_src/ops/scatter.py:92: FutureWarning:\n",
      "\n",
      "scatter inputs have incompatible types: cannot safely cast value from dtype=float32 to dtype=bfloat16 with jax_numpy_dtype_promotion='standard'. In future JAX releases this will result in an error.\n",
      "\n"
     ]
    },
    {
     "data": {
      "application/vnd.jupyter.widget-view+json": {
       "model_id": "8842b108a4f049f791114f223c276112",
       "version_major": 2,
       "version_minor": 0
      },
      "text/plain": [
       "  0%|          | 0/102 [00:00<?, ?it/s]"
      ]
     },
     "metadata": {},
     "output_type": "display_data"
    },
    {
     "name": "stderr",
     "output_type": "stream",
     "text": [
      "/home/dmitrii/.cache/pypoetry/virtualenvs/micrlhf-progress-_SD4q1c9-py3.10/lib/python3.10/site-packages/jax/_src/ops/scatter.py:92: FutureWarning:\n",
      "\n",
      "scatter inputs have incompatible types: cannot safely cast value from dtype=float32 to dtype=bfloat16 with jax_numpy_dtype_promotion='standard'. In future JAX releases this will result in an error.\n",
      "\n"
     ]
    },
    {
     "data": {
      "application/vnd.jupyter.widget-view+json": {
       "model_id": "a8245dbbd4164f528ab83eba58322fa5",
       "version_major": 2,
       "version_minor": 0
      },
      "text/plain": [
       "  0%|          | 0/102 [00:00<?, ?it/s]"
      ]
     },
     "metadata": {},
     "output_type": "display_data"
    },
    {
     "name": "stderr",
     "output_type": "stream",
     "text": [
      "/home/dmitrii/.cache/pypoetry/virtualenvs/micrlhf-progress-_SD4q1c9-py3.10/lib/python3.10/site-packages/jax/_src/ops/scatter.py:92: FutureWarning:\n",
      "\n",
      "scatter inputs have incompatible types: cannot safely cast value from dtype=float32 to dtype=bfloat16 with jax_numpy_dtype_promotion='standard'. In future JAX releases this will result in an error.\n",
      "\n"
     ]
    },
    {
     "data": {
      "application/vnd.jupyter.widget-view+json": {
       "model_id": "db55e227ffba4aac976c32240cc65ede",
       "version_major": 2,
       "version_minor": 0
      },
      "text/plain": [
       "  0%|          | 0/102 [00:00<?, ?it/s]"
      ]
     },
     "metadata": {},
     "output_type": "display_data"
    },
    {
     "name": "stderr",
     "output_type": "stream",
     "text": [
      "/home/dmitrii/.cache/pypoetry/virtualenvs/micrlhf-progress-_SD4q1c9-py3.10/lib/python3.10/site-packages/jax/_src/ops/scatter.py:92: FutureWarning:\n",
      "\n",
      "scatter inputs have incompatible types: cannot safely cast value from dtype=float32 to dtype=bfloat16 with jax_numpy_dtype_promotion='standard'. In future JAX releases this will result in an error.\n",
      "\n"
     ]
    },
    {
     "data": {
      "application/vnd.jupyter.widget-view+json": {
       "model_id": "909d99a251334207b5660e0b0367176a",
       "version_major": 2,
       "version_minor": 0
      },
      "text/plain": [
       "  0%|          | 0/102 [00:00<?, ?it/s]"
      ]
     },
     "metadata": {},
     "output_type": "display_data"
    },
    {
     "name": "stderr",
     "output_type": "stream",
     "text": [
      "/home/dmitrii/.cache/pypoetry/virtualenvs/micrlhf-progress-_SD4q1c9-py3.10/lib/python3.10/site-packages/jax/_src/ops/scatter.py:92: FutureWarning:\n",
      "\n",
      "scatter inputs have incompatible types: cannot safely cast value from dtype=float32 to dtype=bfloat16 with jax_numpy_dtype_promotion='standard'. In future JAX releases this will result in an error.\n",
      "\n"
     ]
    },
    {
     "data": {
      "application/vnd.jupyter.widget-view+json": {
       "model_id": "ef623a67675a44cb81d014330cc0b84b",
       "version_major": 2,
       "version_minor": 0
      },
      "text/plain": [
       "  0%|          | 0/102 [00:00<?, ?it/s]"
      ]
     },
     "metadata": {},
     "output_type": "display_data"
    },
    {
     "name": "stderr",
     "output_type": "stream",
     "text": [
      "/home/dmitrii/.cache/pypoetry/virtualenvs/micrlhf-progress-_SD4q1c9-py3.10/lib/python3.10/site-packages/jax/_src/ops/scatter.py:92: FutureWarning:\n",
      "\n",
      "scatter inputs have incompatible types: cannot safely cast value from dtype=float32 to dtype=bfloat16 with jax_numpy_dtype_promotion='standard'. In future JAX releases this will result in an error.\n",
      "\n"
     ]
    },
    {
     "data": {
      "application/vnd.jupyter.widget-view+json": {
       "model_id": "3e3f9b23ee02447e9a3af5613899efad",
       "version_major": 2,
       "version_minor": 0
      },
      "text/plain": [
       "  0%|          | 0/102 [00:00<?, ?it/s]"
      ]
     },
     "metadata": {},
     "output_type": "display_data"
    },
    {
     "name": "stderr",
     "output_type": "stream",
     "text": [
      "/home/dmitrii/.cache/pypoetry/virtualenvs/micrlhf-progress-_SD4q1c9-py3.10/lib/python3.10/site-packages/jax/_src/ops/scatter.py:92: FutureWarning:\n",
      "\n",
      "scatter inputs have incompatible types: cannot safely cast value from dtype=float32 to dtype=bfloat16 with jax_numpy_dtype_promotion='standard'. In future JAX releases this will result in an error.\n",
      "\n"
     ]
    },
    {
     "data": {
      "application/vnd.jupyter.widget-view+json": {
       "model_id": "a51ed4bf5bea46de99d87f79a816cbc0",
       "version_major": 2,
       "version_minor": 0
      },
      "text/plain": [
       "  0%|          | 0/102 [00:00<?, ?it/s]"
      ]
     },
     "metadata": {},
     "output_type": "display_data"
    },
    {
     "name": "stderr",
     "output_type": "stream",
     "text": [
      "/home/dmitrii/.cache/pypoetry/virtualenvs/micrlhf-progress-_SD4q1c9-py3.10/lib/python3.10/site-packages/jax/_src/ops/scatter.py:92: FutureWarning:\n",
      "\n",
      "scatter inputs have incompatible types: cannot safely cast value from dtype=float32 to dtype=bfloat16 with jax_numpy_dtype_promotion='standard'. In future JAX releases this will result in an error.\n",
      "\n"
     ]
    },
    {
     "data": {
      "application/vnd.jupyter.widget-view+json": {
       "model_id": "61c61d80f4d74f5a9db59afa78a28390",
       "version_major": 2,
       "version_minor": 0
      },
      "text/plain": [
       "  0%|          | 0/102 [00:00<?, ?it/s]"
      ]
     },
     "metadata": {},
     "output_type": "display_data"
    },
    {
     "name": "stderr",
     "output_type": "stream",
     "text": [
      "/home/dmitrii/.cache/pypoetry/virtualenvs/micrlhf-progress-_SD4q1c9-py3.10/lib/python3.10/site-packages/jax/_src/ops/scatter.py:92: FutureWarning:\n",
      "\n",
      "scatter inputs have incompatible types: cannot safely cast value from dtype=float32 to dtype=bfloat16 with jax_numpy_dtype_promotion='standard'. In future JAX releases this will result in an error.\n",
      "\n"
     ]
    },
    {
     "data": {
      "application/vnd.jupyter.widget-view+json": {
       "model_id": "a527ca3a93b6438f8b42f3c4b3dae365",
       "version_major": 2,
       "version_minor": 0
      },
      "text/plain": [
       "  0%|          | 0/102 [00:00<?, ?it/s]"
      ]
     },
     "metadata": {},
     "output_type": "display_data"
    },
    {
     "name": "stderr",
     "output_type": "stream",
     "text": [
      "/home/dmitrii/.cache/pypoetry/virtualenvs/micrlhf-progress-_SD4q1c9-py3.10/lib/python3.10/site-packages/jax/_src/ops/scatter.py:92: FutureWarning:\n",
      "\n",
      "scatter inputs have incompatible types: cannot safely cast value from dtype=float32 to dtype=bfloat16 with jax_numpy_dtype_promotion='standard'. In future JAX releases this will result in an error.\n",
      "\n"
     ]
    },
    {
     "data": {
      "application/vnd.jupyter.widget-view+json": {
       "model_id": "36e997db13244771ad300ac770acf809",
       "version_major": 2,
       "version_minor": 0
      },
      "text/plain": [
       "  0%|          | 0/102 [00:00<?, ?it/s]"
      ]
     },
     "metadata": {},
     "output_type": "display_data"
    },
    {
     "name": "stderr",
     "output_type": "stream",
     "text": [
      "/home/dmitrii/.cache/pypoetry/virtualenvs/micrlhf-progress-_SD4q1c9-py3.10/lib/python3.10/site-packages/jax/_src/ops/scatter.py:92: FutureWarning:\n",
      "\n",
      "scatter inputs have incompatible types: cannot safely cast value from dtype=float32 to dtype=bfloat16 with jax_numpy_dtype_promotion='standard'. In future JAX releases this will result in an error.\n",
      "\n"
     ]
    },
    {
     "data": {
      "application/vnd.jupyter.widget-view+json": {
       "model_id": "7cc64c7d602c4c8694086afad82266cc",
       "version_major": 2,
       "version_minor": 0
      },
      "text/plain": [
       "  0%|          | 0/102 [00:00<?, ?it/s]"
      ]
     },
     "metadata": {},
     "output_type": "display_data"
    },
    {
     "name": "stderr",
     "output_type": "stream",
     "text": [
      "/home/dmitrii/.cache/pypoetry/virtualenvs/micrlhf-progress-_SD4q1c9-py3.10/lib/python3.10/site-packages/jax/_src/ops/scatter.py:92: FutureWarning:\n",
      "\n",
      "scatter inputs have incompatible types: cannot safely cast value from dtype=float32 to dtype=bfloat16 with jax_numpy_dtype_promotion='standard'. In future JAX releases this will result in an error.\n",
      "\n"
     ]
    },
    {
     "data": {
      "application/vnd.jupyter.widget-view+json": {
       "model_id": "86fffc6370fa437a9d6e024c09bdc1b0",
       "version_major": 2,
       "version_minor": 0
      },
      "text/plain": [
       "  0%|          | 0/102 [00:00<?, ?it/s]"
      ]
     },
     "metadata": {},
     "output_type": "display_data"
    },
    {
     "name": "stderr",
     "output_type": "stream",
     "text": [
      "/home/dmitrii/.cache/pypoetry/virtualenvs/micrlhf-progress-_SD4q1c9-py3.10/lib/python3.10/site-packages/jax/_src/ops/scatter.py:92: FutureWarning:\n",
      "\n",
      "scatter inputs have incompatible types: cannot safely cast value from dtype=float32 to dtype=bfloat16 with jax_numpy_dtype_promotion='standard'. In future JAX releases this will result in an error.\n",
      "\n"
     ]
    },
    {
     "data": {
      "application/vnd.jupyter.widget-view+json": {
       "model_id": "001ab3fa85fb48f9b337f038475be6b8",
       "version_major": 2,
       "version_minor": 0
      },
      "text/plain": [
       "  0%|          | 0/102 [00:00<?, ?it/s]"
      ]
     },
     "metadata": {},
     "output_type": "display_data"
    },
    {
     "name": "stderr",
     "output_type": "stream",
     "text": [
      "/home/dmitrii/.cache/pypoetry/virtualenvs/micrlhf-progress-_SD4q1c9-py3.10/lib/python3.10/site-packages/jax/_src/ops/scatter.py:92: FutureWarning:\n",
      "\n",
      "scatter inputs have incompatible types: cannot safely cast value from dtype=float32 to dtype=bfloat16 with jax_numpy_dtype_promotion='standard'. In future JAX releases this will result in an error.\n",
      "\n"
     ]
    },
    {
     "data": {
      "application/vnd.jupyter.widget-view+json": {
       "model_id": "6a7f4ef3353e4f55854e299aa8dc2ea5",
       "version_major": 2,
       "version_minor": 0
      },
      "text/plain": [
       "  0%|          | 0/102 [00:00<?, ?it/s]"
      ]
     },
     "metadata": {},
     "output_type": "display_data"
    },
    {
     "name": "stderr",
     "output_type": "stream",
     "text": [
      "/home/dmitrii/.cache/pypoetry/virtualenvs/micrlhf-progress-_SD4q1c9-py3.10/lib/python3.10/site-packages/jax/_src/ops/scatter.py:92: FutureWarning:\n",
      "\n",
      "scatter inputs have incompatible types: cannot safely cast value from dtype=float32 to dtype=bfloat16 with jax_numpy_dtype_promotion='standard'. In future JAX releases this will result in an error.\n",
      "\n"
     ]
    },
    {
     "data": {
      "application/vnd.jupyter.widget-view+json": {
       "model_id": "a15bcb4e0c1d4f8cbdd6740a85b72cb1",
       "version_major": 2,
       "version_minor": 0
      },
      "text/plain": [
       "  0%|          | 0/102 [00:00<?, ?it/s]"
      ]
     },
     "metadata": {},
     "output_type": "display_data"
    },
    {
     "name": "stderr",
     "output_type": "stream",
     "text": [
      "/home/dmitrii/.cache/pypoetry/virtualenvs/micrlhf-progress-_SD4q1c9-py3.10/lib/python3.10/site-packages/jax/_src/ops/scatter.py:92: FutureWarning:\n",
      "\n",
      "scatter inputs have incompatible types: cannot safely cast value from dtype=float32 to dtype=bfloat16 with jax_numpy_dtype_promotion='standard'. In future JAX releases this will result in an error.\n",
      "\n"
     ]
    },
    {
     "data": {
      "application/vnd.jupyter.widget-view+json": {
       "model_id": "5332cd5fb55f44308a4e34a1fdee2dde",
       "version_major": 2,
       "version_minor": 0
      },
      "text/plain": [
       "  0%|          | 0/102 [00:00<?, ?it/s]"
      ]
     },
     "metadata": {},
     "output_type": "display_data"
    },
    {
     "name": "stderr",
     "output_type": "stream",
     "text": [
      "/home/dmitrii/.cache/pypoetry/virtualenvs/micrlhf-progress-_SD4q1c9-py3.10/lib/python3.10/site-packages/jax/_src/ops/scatter.py:92: FutureWarning:\n",
      "\n",
      "scatter inputs have incompatible types: cannot safely cast value from dtype=float32 to dtype=bfloat16 with jax_numpy_dtype_promotion='standard'. In future JAX releases this will result in an error.\n",
      "\n"
     ]
    },
    {
     "data": {
      "application/vnd.jupyter.widget-view+json": {
       "model_id": "c36b6c2bbe8b4e3887509bc6ee0785f5",
       "version_major": 2,
       "version_minor": 0
      },
      "text/plain": [
       "  0%|          | 0/102 [00:00<?, ?it/s]"
      ]
     },
     "metadata": {},
     "output_type": "display_data"
    },
    {
     "name": "stderr",
     "output_type": "stream",
     "text": [
      "/home/dmitrii/.cache/pypoetry/virtualenvs/micrlhf-progress-_SD4q1c9-py3.10/lib/python3.10/site-packages/jax/_src/ops/scatter.py:92: FutureWarning:\n",
      "\n",
      "scatter inputs have incompatible types: cannot safely cast value from dtype=float32 to dtype=bfloat16 with jax_numpy_dtype_promotion='standard'. In future JAX releases this will result in an error.\n",
      "\n"
     ]
    },
    {
     "data": {
      "application/vnd.jupyter.widget-view+json": {
       "model_id": "02e100c8e3b44f38ae7b95f48c341c4b",
       "version_major": 2,
       "version_minor": 0
      },
      "text/plain": [
       "  0%|          | 0/102 [00:00<?, ?it/s]"
      ]
     },
     "metadata": {},
     "output_type": "display_data"
    },
    {
     "name": "stderr",
     "output_type": "stream",
     "text": [
      "/home/dmitrii/.cache/pypoetry/virtualenvs/micrlhf-progress-_SD4q1c9-py3.10/lib/python3.10/site-packages/jax/_src/ops/scatter.py:92: FutureWarning:\n",
      "\n",
      "scatter inputs have incompatible types: cannot safely cast value from dtype=float32 to dtype=bfloat16 with jax_numpy_dtype_promotion='standard'. In future JAX releases this will result in an error.\n",
      "\n"
     ]
    },
    {
     "data": {
      "application/vnd.jupyter.widget-view+json": {
       "model_id": "d4fe9d4fbdaa49108726f288b1893999",
       "version_major": 2,
       "version_minor": 0
      },
      "text/plain": [
       "  0%|          | 0/102 [00:00<?, ?it/s]"
      ]
     },
     "metadata": {},
     "output_type": "display_data"
    },
    {
     "name": "stderr",
     "output_type": "stream",
     "text": [
      "/home/dmitrii/.cache/pypoetry/virtualenvs/micrlhf-progress-_SD4q1c9-py3.10/lib/python3.10/site-packages/jax/_src/ops/scatter.py:92: FutureWarning:\n",
      "\n",
      "scatter inputs have incompatible types: cannot safely cast value from dtype=float32 to dtype=bfloat16 with jax_numpy_dtype_promotion='standard'. In future JAX releases this will result in an error.\n",
      "\n"
     ]
    }
   ],
   "source": [
    "import dataclasses\n",
    "from tqdm.auto import tqdm\n",
    "from functools import partial\n",
    "from micrlhf.utils.activation_manipulation import add_vector\n",
    "\n",
    "task_losses_positive = {}\n",
    "\n",
    "n_few_shots, batch_size, max_seq_len = 20, 16, 256\n",
    "seed = 10\n",
    "\n",
    "prompt = \"<start_of_turn>user\\nFollow the pattern:\\n{}\"\n",
    "\n",
    "def make_taker(llama, layer):\n",
    "    taker = jit_wrapper.Jitted(llama.select().at_instances_of(LlamaBlock).apply_with_selected_index(\n",
    "        lambda i, x: x if i >= layer else pz.nn.Identity()\n",
    "    ).select().at_instances_of(pz.nn.EmbeddingLookup).apply(lambda _: pz.nn.Identity())\n",
    "                    .select().at_instances_of(pz.nn.ConstantRescale).pick_nth_selected(0).apply(lambda _: pz.nn.Identity()))\n",
    "\n",
    "    return taker\n",
    "\n",
    "taker = make_taker(llama, layer)\n",
    "\n",
    "for task_name in tqdm(task_names):\n",
    "\n",
    "    sep = 3978\n",
    "    pad = 0\n",
    "\n",
    "\n",
    "    pairs = list(tasks[task_name].items())\n",
    "\n",
    "    n_shot = n_few_shots - 1\n",
    "    if task_name.startswith(\"algo\"):\n",
    "        n_shot = 8\n",
    "\n",
    "    runner = ICLRunner(task_name, pairs, batch_size=batch_size, n_shot=1, max_seq_len=max_seq_len, seed=seed, prompt=prompt)\n",
    "\n",
    "    tokenized = runner.get_tokens([\n",
    "        x[:n_few_shots] for x in runner.train_pairs\n",
    "    ], tokenizer)\n",
    "\n",
    "    inputs = tokenized_to_inputs(**tokenized)\n",
    "    train_tokens = tokenized[\"input_ids\"]\n",
    "\n",
    "    _, all_resids = get_resids_call(inputs)\n",
    "\n",
    "    scale = 60\n",
    "\n",
    "    resids = all_resids[layer].value.unwrap(\"batch\", \"seq\", \"embedding\")\n",
    "\n",
    "    mask = train_tokens == sep\n",
    "    col_indices = jnp.arange(mask.shape[1])\n",
    "    col_indices_broadcasted = mask * col_indices\n",
    "    sorted_indices = jnp.sort(col_indices_broadcasted, axis=1, descending=True)\n",
    "    positions = sorted_indices[:, :1]\n",
    "    \n",
    "    def steer_with_direction(direction):\n",
    "        direction = direction / jnp.linalg.norm(direction)\n",
    "        direction = direction * scale\n",
    "        \n",
    "        modified = jax.vmap(lambda a, b: a.at[b].add(direction))(\n",
    "            resids, positions\n",
    "        )\n",
    "        modified = pz.nx.wrap(modified, \"batch\", \"seq\", \"embedding\")\n",
    "\n",
    "        _inputs = dataclasses.replace(inputs, tokens=modified)\n",
    "        logits = taker(_inputs).unwrap(\"batch\", \"seq\", \"vocabulary\")\n",
    "\n",
    "        return logprob_loss(logits, train_tokens, sep=sep, pad_token=pad, n_first=2)\n",
    "\n",
    "    task_losses_positive[task_name] = [[steer_with_direction(sae[\"W_dec\"][feature]).tolist() for feature in tqdm(features)]]\n",
    "\n",
    "    logits = llama(inputs)\n",
    "\n",
    "    logits = logits.unwrap(\"batch\", \"seq\", \"vocabulary\")\n",
    "\n",
    "    task_losses_positive[task_name].append(logprob_loss(logits, train_tokens, sep=sep, pad_token=pad, n_first=2).tolist())"
   ]
  },
  {
   "cell_type": "code",
   "execution_count": 117,
   "metadata": {},
   "outputs": [
    {
     "data": {
      "application/vnd.jupyter.widget-view+json": {
       "model_id": "7f6957d5b2254130a2a2a908452e98f7",
       "version_major": 2,
       "version_minor": 0
      },
      "text/plain": [
       "  0%|          | 0/23 [00:00<?, ?it/s]"
      ]
     },
     "metadata": {},
     "output_type": "display_data"
    },
    {
     "data": {
      "application/vnd.jupyter.widget-view+json": {
       "model_id": "7dfcd417925e4d27bb52179ffbfab338",
       "version_major": 2,
       "version_minor": 0
      },
      "text/plain": [
       "  0%|          | 0/102 [00:00<?, ?it/s]"
      ]
     },
     "metadata": {},
     "output_type": "display_data"
    },
    {
     "name": "stderr",
     "output_type": "stream",
     "text": [
      "/home/dmitrii/.cache/pypoetry/virtualenvs/micrlhf-progress-_SD4q1c9-py3.10/lib/python3.10/site-packages/jax/_src/ops/scatter.py:92: FutureWarning:\n",
      "\n",
      "scatter inputs have incompatible types: cannot safely cast value from dtype=float32 to dtype=bfloat16 with jax_numpy_dtype_promotion='standard'. In future JAX releases this will result in an error.\n",
      "\n"
     ]
    },
    {
     "data": {
      "application/vnd.jupyter.widget-view+json": {
       "model_id": "a7c0ca8aa50e4510af68d50b4bed1f81",
       "version_major": 2,
       "version_minor": 0
      },
      "text/plain": [
       "  0%|          | 0/102 [00:00<?, ?it/s]"
      ]
     },
     "metadata": {},
     "output_type": "display_data"
    },
    {
     "name": "stderr",
     "output_type": "stream",
     "text": [
      "/home/dmitrii/.cache/pypoetry/virtualenvs/micrlhf-progress-_SD4q1c9-py3.10/lib/python3.10/site-packages/jax/_src/ops/scatter.py:92: FutureWarning:\n",
      "\n",
      "scatter inputs have incompatible types: cannot safely cast value from dtype=float32 to dtype=bfloat16 with jax_numpy_dtype_promotion='standard'. In future JAX releases this will result in an error.\n",
      "\n"
     ]
    },
    {
     "data": {
      "application/vnd.jupyter.widget-view+json": {
       "model_id": "fe0abeac40af4e408bdb45ccddf1480e",
       "version_major": 2,
       "version_minor": 0
      },
      "text/plain": [
       "  0%|          | 0/102 [00:00<?, ?it/s]"
      ]
     },
     "metadata": {},
     "output_type": "display_data"
    },
    {
     "name": "stderr",
     "output_type": "stream",
     "text": [
      "/home/dmitrii/.cache/pypoetry/virtualenvs/micrlhf-progress-_SD4q1c9-py3.10/lib/python3.10/site-packages/jax/_src/ops/scatter.py:92: FutureWarning:\n",
      "\n",
      "scatter inputs have incompatible types: cannot safely cast value from dtype=float32 to dtype=bfloat16 with jax_numpy_dtype_promotion='standard'. In future JAX releases this will result in an error.\n",
      "\n"
     ]
    },
    {
     "data": {
      "application/vnd.jupyter.widget-view+json": {
       "model_id": "666cb1d14f854863971eb5cebbe19736",
       "version_major": 2,
       "version_minor": 0
      },
      "text/plain": [
       "  0%|          | 0/102 [00:00<?, ?it/s]"
      ]
     },
     "metadata": {},
     "output_type": "display_data"
    },
    {
     "name": "stderr",
     "output_type": "stream",
     "text": [
      "/home/dmitrii/.cache/pypoetry/virtualenvs/micrlhf-progress-_SD4q1c9-py3.10/lib/python3.10/site-packages/jax/_src/ops/scatter.py:92: FutureWarning:\n",
      "\n",
      "scatter inputs have incompatible types: cannot safely cast value from dtype=float32 to dtype=bfloat16 with jax_numpy_dtype_promotion='standard'. In future JAX releases this will result in an error.\n",
      "\n"
     ]
    },
    {
     "data": {
      "application/vnd.jupyter.widget-view+json": {
       "model_id": "6521f36bfad040e4a00b4b79ef47f532",
       "version_major": 2,
       "version_minor": 0
      },
      "text/plain": [
       "  0%|          | 0/102 [00:00<?, ?it/s]"
      ]
     },
     "metadata": {},
     "output_type": "display_data"
    },
    {
     "name": "stderr",
     "output_type": "stream",
     "text": [
      "/home/dmitrii/.cache/pypoetry/virtualenvs/micrlhf-progress-_SD4q1c9-py3.10/lib/python3.10/site-packages/jax/_src/ops/scatter.py:92: FutureWarning:\n",
      "\n",
      "scatter inputs have incompatible types: cannot safely cast value from dtype=float32 to dtype=bfloat16 with jax_numpy_dtype_promotion='standard'. In future JAX releases this will result in an error.\n",
      "\n"
     ]
    },
    {
     "data": {
      "application/vnd.jupyter.widget-view+json": {
       "model_id": "bcae2b4572324581a2577ac32795e401",
       "version_major": 2,
       "version_minor": 0
      },
      "text/plain": [
       "  0%|          | 0/102 [00:00<?, ?it/s]"
      ]
     },
     "metadata": {},
     "output_type": "display_data"
    },
    {
     "name": "stderr",
     "output_type": "stream",
     "text": [
      "/home/dmitrii/.cache/pypoetry/virtualenvs/micrlhf-progress-_SD4q1c9-py3.10/lib/python3.10/site-packages/jax/_src/ops/scatter.py:92: FutureWarning:\n",
      "\n",
      "scatter inputs have incompatible types: cannot safely cast value from dtype=float32 to dtype=bfloat16 with jax_numpy_dtype_promotion='standard'. In future JAX releases this will result in an error.\n",
      "\n"
     ]
    },
    {
     "data": {
      "application/vnd.jupyter.widget-view+json": {
       "model_id": "9b3fc29670fc432b85f44c64a3bbc6f0",
       "version_major": 2,
       "version_minor": 0
      },
      "text/plain": [
       "  0%|          | 0/102 [00:00<?, ?it/s]"
      ]
     },
     "metadata": {},
     "output_type": "display_data"
    },
    {
     "name": "stderr",
     "output_type": "stream",
     "text": [
      "/home/dmitrii/.cache/pypoetry/virtualenvs/micrlhf-progress-_SD4q1c9-py3.10/lib/python3.10/site-packages/jax/_src/ops/scatter.py:92: FutureWarning:\n",
      "\n",
      "scatter inputs have incompatible types: cannot safely cast value from dtype=float32 to dtype=bfloat16 with jax_numpy_dtype_promotion='standard'. In future JAX releases this will result in an error.\n",
      "\n"
     ]
    },
    {
     "data": {
      "application/vnd.jupyter.widget-view+json": {
       "model_id": "7dd11e272a504f87afdc0f8ea7efa9c6",
       "version_major": 2,
       "version_minor": 0
      },
      "text/plain": [
       "  0%|          | 0/102 [00:00<?, ?it/s]"
      ]
     },
     "metadata": {},
     "output_type": "display_data"
    },
    {
     "name": "stderr",
     "output_type": "stream",
     "text": [
      "/home/dmitrii/.cache/pypoetry/virtualenvs/micrlhf-progress-_SD4q1c9-py3.10/lib/python3.10/site-packages/jax/_src/ops/scatter.py:92: FutureWarning:\n",
      "\n",
      "scatter inputs have incompatible types: cannot safely cast value from dtype=float32 to dtype=bfloat16 with jax_numpy_dtype_promotion='standard'. In future JAX releases this will result in an error.\n",
      "\n"
     ]
    },
    {
     "data": {
      "application/vnd.jupyter.widget-view+json": {
       "model_id": "ded58982d66f45eca93c018bf1f2059c",
       "version_major": 2,
       "version_minor": 0
      },
      "text/plain": [
       "  0%|          | 0/102 [00:00<?, ?it/s]"
      ]
     },
     "metadata": {},
     "output_type": "display_data"
    },
    {
     "name": "stderr",
     "output_type": "stream",
     "text": [
      "/home/dmitrii/.cache/pypoetry/virtualenvs/micrlhf-progress-_SD4q1c9-py3.10/lib/python3.10/site-packages/jax/_src/ops/scatter.py:92: FutureWarning:\n",
      "\n",
      "scatter inputs have incompatible types: cannot safely cast value from dtype=float32 to dtype=bfloat16 with jax_numpy_dtype_promotion='standard'. In future JAX releases this will result in an error.\n",
      "\n"
     ]
    },
    {
     "data": {
      "application/vnd.jupyter.widget-view+json": {
       "model_id": "05253e8a7403425999c30da36eb4b42b",
       "version_major": 2,
       "version_minor": 0
      },
      "text/plain": [
       "  0%|          | 0/102 [00:00<?, ?it/s]"
      ]
     },
     "metadata": {},
     "output_type": "display_data"
    },
    {
     "name": "stderr",
     "output_type": "stream",
     "text": [
      "/home/dmitrii/.cache/pypoetry/virtualenvs/micrlhf-progress-_SD4q1c9-py3.10/lib/python3.10/site-packages/jax/_src/ops/scatter.py:92: FutureWarning:\n",
      "\n",
      "scatter inputs have incompatible types: cannot safely cast value from dtype=float32 to dtype=bfloat16 with jax_numpy_dtype_promotion='standard'. In future JAX releases this will result in an error.\n",
      "\n"
     ]
    },
    {
     "data": {
      "application/vnd.jupyter.widget-view+json": {
       "model_id": "a0e68acc8fe74fce9e30eb3d15e862fb",
       "version_major": 2,
       "version_minor": 0
      },
      "text/plain": [
       "  0%|          | 0/102 [00:00<?, ?it/s]"
      ]
     },
     "metadata": {},
     "output_type": "display_data"
    },
    {
     "name": "stderr",
     "output_type": "stream",
     "text": [
      "/home/dmitrii/.cache/pypoetry/virtualenvs/micrlhf-progress-_SD4q1c9-py3.10/lib/python3.10/site-packages/jax/_src/ops/scatter.py:92: FutureWarning:\n",
      "\n",
      "scatter inputs have incompatible types: cannot safely cast value from dtype=float32 to dtype=bfloat16 with jax_numpy_dtype_promotion='standard'. In future JAX releases this will result in an error.\n",
      "\n"
     ]
    },
    {
     "data": {
      "application/vnd.jupyter.widget-view+json": {
       "model_id": "d1fc94cc220f4e08ae069ce737a22798",
       "version_major": 2,
       "version_minor": 0
      },
      "text/plain": [
       "  0%|          | 0/102 [00:00<?, ?it/s]"
      ]
     },
     "metadata": {},
     "output_type": "display_data"
    },
    {
     "name": "stderr",
     "output_type": "stream",
     "text": [
      "/home/dmitrii/.cache/pypoetry/virtualenvs/micrlhf-progress-_SD4q1c9-py3.10/lib/python3.10/site-packages/jax/_src/ops/scatter.py:92: FutureWarning:\n",
      "\n",
      "scatter inputs have incompatible types: cannot safely cast value from dtype=float32 to dtype=bfloat16 with jax_numpy_dtype_promotion='standard'. In future JAX releases this will result in an error.\n",
      "\n"
     ]
    },
    {
     "data": {
      "application/vnd.jupyter.widget-view+json": {
       "model_id": "6ce9e14fa9f64dd695ca92148196a4fd",
       "version_major": 2,
       "version_minor": 0
      },
      "text/plain": [
       "  0%|          | 0/102 [00:00<?, ?it/s]"
      ]
     },
     "metadata": {},
     "output_type": "display_data"
    },
    {
     "name": "stderr",
     "output_type": "stream",
     "text": [
      "/home/dmitrii/.cache/pypoetry/virtualenvs/micrlhf-progress-_SD4q1c9-py3.10/lib/python3.10/site-packages/jax/_src/ops/scatter.py:92: FutureWarning:\n",
      "\n",
      "scatter inputs have incompatible types: cannot safely cast value from dtype=float32 to dtype=bfloat16 with jax_numpy_dtype_promotion='standard'. In future JAX releases this will result in an error.\n",
      "\n"
     ]
    },
    {
     "data": {
      "application/vnd.jupyter.widget-view+json": {
       "model_id": "e61af2a72c6c4b8c9274f21dd42ba9e9",
       "version_major": 2,
       "version_minor": 0
      },
      "text/plain": [
       "  0%|          | 0/102 [00:00<?, ?it/s]"
      ]
     },
     "metadata": {},
     "output_type": "display_data"
    },
    {
     "name": "stderr",
     "output_type": "stream",
     "text": [
      "/home/dmitrii/.cache/pypoetry/virtualenvs/micrlhf-progress-_SD4q1c9-py3.10/lib/python3.10/site-packages/jax/_src/ops/scatter.py:92: FutureWarning:\n",
      "\n",
      "scatter inputs have incompatible types: cannot safely cast value from dtype=float32 to dtype=bfloat16 with jax_numpy_dtype_promotion='standard'. In future JAX releases this will result in an error.\n",
      "\n"
     ]
    },
    {
     "data": {
      "application/vnd.jupyter.widget-view+json": {
       "model_id": "1cccfa926c30440d9405d8889b5fbed4",
       "version_major": 2,
       "version_minor": 0
      },
      "text/plain": [
       "  0%|          | 0/102 [00:00<?, ?it/s]"
      ]
     },
     "metadata": {},
     "output_type": "display_data"
    },
    {
     "name": "stderr",
     "output_type": "stream",
     "text": [
      "/home/dmitrii/.cache/pypoetry/virtualenvs/micrlhf-progress-_SD4q1c9-py3.10/lib/python3.10/site-packages/jax/_src/ops/scatter.py:92: FutureWarning:\n",
      "\n",
      "scatter inputs have incompatible types: cannot safely cast value from dtype=float32 to dtype=bfloat16 with jax_numpy_dtype_promotion='standard'. In future JAX releases this will result in an error.\n",
      "\n"
     ]
    },
    {
     "data": {
      "application/vnd.jupyter.widget-view+json": {
       "model_id": "d3c7b16a4a774a698d6223712b3270f0",
       "version_major": 2,
       "version_minor": 0
      },
      "text/plain": [
       "  0%|          | 0/102 [00:00<?, ?it/s]"
      ]
     },
     "metadata": {},
     "output_type": "display_data"
    },
    {
     "name": "stderr",
     "output_type": "stream",
     "text": [
      "/home/dmitrii/.cache/pypoetry/virtualenvs/micrlhf-progress-_SD4q1c9-py3.10/lib/python3.10/site-packages/jax/_src/ops/scatter.py:92: FutureWarning:\n",
      "\n",
      "scatter inputs have incompatible types: cannot safely cast value from dtype=float32 to dtype=bfloat16 with jax_numpy_dtype_promotion='standard'. In future JAX releases this will result in an error.\n",
      "\n"
     ]
    },
    {
     "data": {
      "application/vnd.jupyter.widget-view+json": {
       "model_id": "4056394757d0439c9a10fa4a970ea1c1",
       "version_major": 2,
       "version_minor": 0
      },
      "text/plain": [
       "  0%|          | 0/102 [00:00<?, ?it/s]"
      ]
     },
     "metadata": {},
     "output_type": "display_data"
    },
    {
     "name": "stderr",
     "output_type": "stream",
     "text": [
      "/home/dmitrii/.cache/pypoetry/virtualenvs/micrlhf-progress-_SD4q1c9-py3.10/lib/python3.10/site-packages/jax/_src/ops/scatter.py:92: FutureWarning:\n",
      "\n",
      "scatter inputs have incompatible types: cannot safely cast value from dtype=float32 to dtype=bfloat16 with jax_numpy_dtype_promotion='standard'. In future JAX releases this will result in an error.\n",
      "\n"
     ]
    },
    {
     "data": {
      "application/vnd.jupyter.widget-view+json": {
       "model_id": "e3c5bf3204c4409099f6b0c6c7345a16",
       "version_major": 2,
       "version_minor": 0
      },
      "text/plain": [
       "  0%|          | 0/102 [00:00<?, ?it/s]"
      ]
     },
     "metadata": {},
     "output_type": "display_data"
    },
    {
     "name": "stderr",
     "output_type": "stream",
     "text": [
      "/home/dmitrii/.cache/pypoetry/virtualenvs/micrlhf-progress-_SD4q1c9-py3.10/lib/python3.10/site-packages/jax/_src/ops/scatter.py:92: FutureWarning:\n",
      "\n",
      "scatter inputs have incompatible types: cannot safely cast value from dtype=float32 to dtype=bfloat16 with jax_numpy_dtype_promotion='standard'. In future JAX releases this will result in an error.\n",
      "\n"
     ]
    },
    {
     "data": {
      "application/vnd.jupyter.widget-view+json": {
       "model_id": "725610e0aea64de6bbda7b24720dfca1",
       "version_major": 2,
       "version_minor": 0
      },
      "text/plain": [
       "  0%|          | 0/102 [00:00<?, ?it/s]"
      ]
     },
     "metadata": {},
     "output_type": "display_data"
    },
    {
     "name": "stderr",
     "output_type": "stream",
     "text": [
      "/home/dmitrii/.cache/pypoetry/virtualenvs/micrlhf-progress-_SD4q1c9-py3.10/lib/python3.10/site-packages/jax/_src/ops/scatter.py:92: FutureWarning:\n",
      "\n",
      "scatter inputs have incompatible types: cannot safely cast value from dtype=float32 to dtype=bfloat16 with jax_numpy_dtype_promotion='standard'. In future JAX releases this will result in an error.\n",
      "\n"
     ]
    },
    {
     "data": {
      "application/vnd.jupyter.widget-view+json": {
       "model_id": "5960be6897b14ab286957cf555ef0233",
       "version_major": 2,
       "version_minor": 0
      },
      "text/plain": [
       "  0%|          | 0/102 [00:00<?, ?it/s]"
      ]
     },
     "metadata": {},
     "output_type": "display_data"
    },
    {
     "name": "stderr",
     "output_type": "stream",
     "text": [
      "/home/dmitrii/.cache/pypoetry/virtualenvs/micrlhf-progress-_SD4q1c9-py3.10/lib/python3.10/site-packages/jax/_src/ops/scatter.py:92: FutureWarning:\n",
      "\n",
      "scatter inputs have incompatible types: cannot safely cast value from dtype=float32 to dtype=bfloat16 with jax_numpy_dtype_promotion='standard'. In future JAX releases this will result in an error.\n",
      "\n"
     ]
    },
    {
     "data": {
      "application/vnd.jupyter.widget-view+json": {
       "model_id": "2ac73efc06ae4961af3c252c9b764b48",
       "version_major": 2,
       "version_minor": 0
      },
      "text/plain": [
       "  0%|          | 0/102 [00:00<?, ?it/s]"
      ]
     },
     "metadata": {},
     "output_type": "display_data"
    },
    {
     "name": "stderr",
     "output_type": "stream",
     "text": [
      "/home/dmitrii/.cache/pypoetry/virtualenvs/micrlhf-progress-_SD4q1c9-py3.10/lib/python3.10/site-packages/jax/_src/ops/scatter.py:92: FutureWarning:\n",
      "\n",
      "scatter inputs have incompatible types: cannot safely cast value from dtype=float32 to dtype=bfloat16 with jax_numpy_dtype_promotion='standard'. In future JAX releases this will result in an error.\n",
      "\n"
     ]
    },
    {
     "data": {
      "application/vnd.jupyter.widget-view+json": {
       "model_id": "0076280ace3e46b6acdb118a00b336b0",
       "version_major": 2,
       "version_minor": 0
      },
      "text/plain": [
       "  0%|          | 0/102 [00:00<?, ?it/s]"
      ]
     },
     "metadata": {},
     "output_type": "display_data"
    },
    {
     "name": "stderr",
     "output_type": "stream",
     "text": [
      "/home/dmitrii/.cache/pypoetry/virtualenvs/micrlhf-progress-_SD4q1c9-py3.10/lib/python3.10/site-packages/jax/_src/ops/scatter.py:92: FutureWarning:\n",
      "\n",
      "scatter inputs have incompatible types: cannot safely cast value from dtype=float32 to dtype=bfloat16 with jax_numpy_dtype_promotion='standard'. In future JAX releases this will result in an error.\n",
      "\n"
     ]
    },
    {
     "data": {
      "application/vnd.jupyter.widget-view+json": {
       "model_id": "e2ed0be69bd943e0b55e16a3b923815b",
       "version_major": 2,
       "version_minor": 0
      },
      "text/plain": [
       "  0%|          | 0/102 [00:00<?, ?it/s]"
      ]
     },
     "metadata": {},
     "output_type": "display_data"
    },
    {
     "name": "stderr",
     "output_type": "stream",
     "text": [
      "/home/dmitrii/.cache/pypoetry/virtualenvs/micrlhf-progress-_SD4q1c9-py3.10/lib/python3.10/site-packages/jax/_src/ops/scatter.py:92: FutureWarning:\n",
      "\n",
      "scatter inputs have incompatible types: cannot safely cast value from dtype=float32 to dtype=bfloat16 with jax_numpy_dtype_promotion='standard'. In future JAX releases this will result in an error.\n",
      "\n"
     ]
    }
   ],
   "source": [
    "import dataclasses\n",
    "from tqdm.auto import tqdm\n",
    "from functools import partial\n",
    "from micrlhf.utils.activation_manipulation import add_vector\n",
    "\n",
    "negative_task_losses = {}\n",
    "\n",
    "n_few_shots, batch_size, max_seq_len = 20, 16, 256\n",
    "seed = 10\n",
    "\n",
    "prompt = \"<start_of_turn>user\\nFollow the pattern:\\n{}\"\n",
    "\n",
    "def calc_acc(tokens, sep, logits, runner):\n",
    "    arrow_pos = jnp.nonzero(tokens == sep)\n",
    "    arrow_pos_single = []\n",
    "    for i in range(batch_size):\n",
    "        arrow_pos_single.append(arrow_pos[1][arrow_pos[0] == i].max())\n",
    "\n",
    "    arrow_pos_single = np.array(arrow_pos_single)\n",
    "\n",
    "    hits = 0\n",
    "\n",
    "    for i, (ap, l) in enumerate(zip(arrow_pos_single, logits)):\n",
    "        l = l.argmax(-1)\n",
    "        tgt = runner.eval_pairs[i][-1][1]\n",
    "        hits += int(tgt in repr(tokenizer.decode(l[ap:ap+3])))\n",
    "    return hits / runner.eval_batch_size\n",
    "\n",
    "def calc_acc(tokens, sep, logits, runner):\n",
    "    logits = logits.argmax(-1)\n",
    "    logits = logits[:, :-1]\n",
    "    tokens = tokens[:, 1:]\n",
    "\n",
    "    mask = tokens == sep\n",
    "\n",
    "    hits = tokens == logits\n",
    "\n",
    "    hits = hits * mask\n",
    "\n",
    "    hits = hits.sum()\n",
    "    return hits / mask.sum()\n",
    "\n",
    "\n",
    "\n",
    "\n",
    "def make_taker(llama, layer):\n",
    "    taker = jit_wrapper.Jitted(llama.select().at_instances_of(LlamaBlock).apply_with_selected_index(\n",
    "        lambda i, x: x if i >= layer else pz.nn.Identity()\n",
    "    ).select().at_instances_of(pz.nn.EmbeddingLookup).apply(lambda _: pz.nn.Identity())\n",
    "                    .select().at_instances_of(pz.nn.ConstantRescale).pick_nth_selected(0).apply(lambda _: pz.nn.Identity()))\n",
    "\n",
    "    return taker\n",
    "\n",
    "taker = make_taker(llama, layer)\n",
    "\n",
    "for task_name in tqdm(task_names):\n",
    "\n",
    "    sep = 3978\n",
    "    pad = 0\n",
    "\n",
    "\n",
    "    pairs = list(tasks[task_name].items())\n",
    "\n",
    "    n_shot = n_few_shots - 1\n",
    "    if task_name.startswith(\"algo\"):\n",
    "        n_shot = 16\n",
    "\n",
    "    runner = ICLRunner(task_name, pairs, batch_size=batch_size, n_shot=n_shot, max_seq_len=max_seq_len, seed=seed, prompt=prompt)\n",
    "\n",
    "    tokenized = runner.get_tokens([\n",
    "        x[:n_few_shots] for x in runner.train_pairs\n",
    "    ], tokenizer)\n",
    "\n",
    "    inputs = tokenized_to_inputs(**tokenized)\n",
    "    train_tokens = tokenized[\"input_ids\"]\n",
    "\n",
    "    _, all_resids = get_resids_call(inputs)\n",
    "\n",
    "    scale = 200\n",
    "\n",
    "    resids = all_resids[layer].value.unwrap(\"batch\", \"seq\", \"embedding\")\n",
    "\n",
    "    mask = train_tokens == sep\n",
    "    col_indices = jnp.arange(mask.shape[1])\n",
    "    col_indices_broadcasted = mask * col_indices\n",
    "    sorted_indices = jnp.sort(col_indices_broadcasted, axis=1, descending=True)\n",
    "\n",
    "    k = jnp.sum(mask[0]).astype(int)\n",
    "\n",
    "    positions = sorted_indices[:, :k]\n",
    "    \n",
    "    def steer_with_direction(direction):\n",
    "        direction = direction / jnp.linalg.norm(direction)\n",
    "        direction = direction * scale\n",
    "        \n",
    "        modified = jax.vmap(lambda a, b: a.at[b].add(direction))(\n",
    "            resids, positions\n",
    "        )\n",
    "        modified = pz.nx.wrap(modified, \"batch\", \"seq\", \"embedding\")\n",
    "\n",
    "        _inputs = dataclasses.replace(inputs, tokens=modified)\n",
    "        logits = taker(_inputs).unwrap(\"batch\", \"seq\", \"vocabulary\")\n",
    "\n",
    "        acc = calc_acc(train_tokens, sep, logits, runner)\n",
    "\n",
    "        return logprob_loss(logits, train_tokens, sep=sep, pad_token=pad, n_first=2), acc\n",
    "\n",
    "    negative_task_losses[task_name] = [[steer_with_direction(-sae[\"W_dec\"][feature]) for feature in tqdm(features)]]\n",
    "\n",
    "    logits = llama(inputs)\n",
    "\n",
    "    logits = logits.unwrap(\"batch\", \"seq\", \"vocabulary\")\n",
    "\n",
    "    acc = calc_acc(train_tokens, sep, logits, runner)\n",
    "    negative_task_losses[task_name].append((logprob_loss(logits, train_tokens, sep=sep, pad_token=pad, n_first=2), acc))"
   ]
  },
  {
   "cell_type": "code",
   "execution_count": 34,
   "metadata": {},
   "outputs": [
    {
     "data": {
      "application/vnd.jupyter.widget-view+json": {
       "model_id": "7542ee6de8b24580b16e6ab70aa25c58",
       "version_major": 2,
       "version_minor": 0
      },
      "text/plain": [
       "  0%|          | 0/4 [00:00<?, ?it/s]"
      ]
     },
     "metadata": {},
     "output_type": "display_data"
    },
    {
     "data": {
      "application/vnd.jupyter.widget-view+json": {
       "model_id": "48eb73ab499344558335d18d1e32b9e3",
       "version_major": 2,
       "version_minor": 0
      },
      "text/plain": [
       "  0%|          | 0/60 [00:00<?, ?it/s]"
      ]
     },
     "metadata": {},
     "output_type": "display_data"
    },
    {
     "name": "stderr",
     "output_type": "stream",
     "text": [
      "/home/dmitrii/.cache/pypoetry/virtualenvs/micrlhf-progress-_SD4q1c9-py3.10/lib/python3.10/site-packages/jax/_src/ops/scatter.py:92: FutureWarning:\n",
      "\n",
      "scatter inputs have incompatible types: cannot safely cast value from dtype=float32 to dtype=bfloat16 with jax_numpy_dtype_promotion='standard'. In future JAX releases this will result in an error.\n",
      "\n"
     ]
    },
    {
     "data": {
      "application/vnd.jupyter.widget-view+json": {
       "model_id": "415d2e52208d44d7af84a525124d4ab7",
       "version_major": 2,
       "version_minor": 0
      },
      "text/plain": [
       "  0%|          | 0/60 [00:00<?, ?it/s]"
      ]
     },
     "metadata": {},
     "output_type": "display_data"
    },
    {
     "name": "stderr",
     "output_type": "stream",
     "text": [
      "/home/dmitrii/.cache/pypoetry/virtualenvs/micrlhf-progress-_SD4q1c9-py3.10/lib/python3.10/site-packages/jax/_src/ops/scatter.py:92: FutureWarning:\n",
      "\n",
      "scatter inputs have incompatible types: cannot safely cast value from dtype=float32 to dtype=bfloat16 with jax_numpy_dtype_promotion='standard'. In future JAX releases this will result in an error.\n",
      "\n"
     ]
    },
    {
     "data": {
      "application/vnd.jupyter.widget-view+json": {
       "model_id": "2d4400d8b0d04331acd5365beed7affc",
       "version_major": 2,
       "version_minor": 0
      },
      "text/plain": [
       "  0%|          | 0/60 [00:00<?, ?it/s]"
      ]
     },
     "metadata": {},
     "output_type": "display_data"
    },
    {
     "name": "stderr",
     "output_type": "stream",
     "text": [
      "/home/dmitrii/.cache/pypoetry/virtualenvs/micrlhf-progress-_SD4q1c9-py3.10/lib/python3.10/site-packages/jax/_src/ops/scatter.py:92: FutureWarning:\n",
      "\n",
      "scatter inputs have incompatible types: cannot safely cast value from dtype=float32 to dtype=bfloat16 with jax_numpy_dtype_promotion='standard'. In future JAX releases this will result in an error.\n",
      "\n"
     ]
    },
    {
     "data": {
      "application/vnd.jupyter.widget-view+json": {
       "model_id": "79a79634a7e24a9e943d38c58ee166d0",
       "version_major": 2,
       "version_minor": 0
      },
      "text/plain": [
       "  0%|          | 0/60 [00:00<?, ?it/s]"
      ]
     },
     "metadata": {},
     "output_type": "display_data"
    },
    {
     "name": "stderr",
     "output_type": "stream",
     "text": [
      "/home/dmitrii/.cache/pypoetry/virtualenvs/micrlhf-progress-_SD4q1c9-py3.10/lib/python3.10/site-packages/jax/_src/ops/scatter.py:92: FutureWarning:\n",
      "\n",
      "scatter inputs have incompatible types: cannot safely cast value from dtype=float32 to dtype=bfloat16 with jax_numpy_dtype_promotion='standard'. In future JAX releases this will result in an error.\n",
      "\n"
     ]
    },
    {
     "data": {
      "application/vnd.jupyter.widget-view+json": {
       "model_id": "3b2d980b23184563be7ab057a7f141af",
       "version_major": 2,
       "version_minor": 0
      },
      "text/plain": [
       "  0%|          | 0/60 [00:00<?, ?it/s]"
      ]
     },
     "metadata": {},
     "output_type": "display_data"
    },
    {
     "name": "stderr",
     "output_type": "stream",
     "text": [
      "/home/dmitrii/.cache/pypoetry/virtualenvs/micrlhf-progress-_SD4q1c9-py3.10/lib/python3.10/site-packages/jax/_src/ops/scatter.py:92: FutureWarning:\n",
      "\n",
      "scatter inputs have incompatible types: cannot safely cast value from dtype=float32 to dtype=bfloat16 with jax_numpy_dtype_promotion='standard'. In future JAX releases this will result in an error.\n",
      "\n"
     ]
    }
   ],
   "source": [
    "import dataclasses\n",
    "from tqdm.auto import tqdm\n",
    "from functools import partial\n",
    "from micrlhf.utils.activation_manipulation import add_vector\n",
    "from collections import defaultdict\n",
    "\n",
    "task_losses = defaultdict(dict)\n",
    "\n",
    "n_few_shots, batch_size, max_seq_len = 20, 16, 256\n",
    "seed = 10\n",
    "\n",
    "prompt = \"<start_of_turn>user\\nFollow the pattern:\\n{}\"\n",
    "\n",
    "def make_taker(llama, layer):\n",
    "    taker = jit_wrapper.Jitted(llama.select().at_instances_of(LlamaBlock).apply_with_selected_index(\n",
    "        lambda i, x: x if i >= layer else pz.nn.Identity()\n",
    "    ).select().at_instances_of(pz.nn.EmbeddingLookup).apply(lambda _: pz.nn.Identity())\n",
    "                    .select().at_instances_of(pz.nn.ConstantRescale).pick_nth_selected(0).apply(lambda _: pz.nn.Identity()))\n",
    "\n",
    "    return taker\n",
    "\n",
    "taker = make_taker(llama, layer)\n",
    "\n",
    "task_features = {\n",
    "    \"antonyms\": [50800], \n",
    "    \"en_es\": [3608, 8300],\n",
    "    \"country_capital\": [6417],\n",
    "    \"present_simple_past_simple\": [47899]\n",
    "}\n",
    "\n",
    "for task_name in tqdm([\"antonyms\", \"en_es\", \"country_capital\", \"present_simple_past_simple\"]):\n",
    "    for feature in task_features[task_name]:\n",
    "        sep = 3978\n",
    "        pad = 0\n",
    "\n",
    "\n",
    "        pairs = list(tasks[task_name].items())\n",
    "\n",
    "        n_shot = n_few_shots - 1\n",
    "        if task_name.startswith(\"algo\"):\n",
    "            n_shot = 8\n",
    "\n",
    "        runner = ICLRunner(task_name, pairs, batch_size=batch_size, n_shot=1, max_seq_len=max_seq_len, seed=seed, prompt=prompt)\n",
    "\n",
    "        tokenized = runner.get_tokens([\n",
    "            x[:n_few_shots] for x in runner.train_pairs\n",
    "        ], tokenizer)\n",
    "\n",
    "        inputs = tokenized_to_inputs(**tokenized)\n",
    "        train_tokens = tokenized[\"input_ids\"]\n",
    "\n",
    "        _, all_resids = get_resids_call(inputs)\n",
    "\n",
    "        resids = all_resids[layer].value.unwrap(\"batch\", \"seq\", \"embedding\")\n",
    "\n",
    "        mask = train_tokens == sep\n",
    "        col_indices = jnp.arange(mask.shape[1])\n",
    "        col_indices_broadcasted = mask * col_indices\n",
    "        sorted_indices = jnp.sort(col_indices_broadcasted, axis=1, descending=True)\n",
    "        positions = sorted_indices[:, :1]\n",
    "        \n",
    "        def steer_with_direction(direction, scale):\n",
    "            direction = direction / jnp.linalg.norm(direction)\n",
    "            direction = direction * scale\n",
    "            \n",
    "            modified = jax.vmap(lambda a, b: a.at[b].add(direction))(\n",
    "                resids, positions\n",
    "            )\n",
    "            modified = pz.nx.wrap(modified, \"batch\", \"seq\", \"embedding\")\n",
    "\n",
    "            _inputs = dataclasses.replace(inputs, tokens=modified)\n",
    "            logits = taker(_inputs).unwrap(\"batch\", \"seq\", \"vocabulary\")\n",
    "\n",
    "            return logprob_loss(logits, train_tokens, sep=sep, pad_token=pad, n_first=2)\n",
    "\n",
    "        \n",
    "\n",
    "        task_losses[task_name][feature] = [[steer_with_direction(sae[\"W_dec\"][feature], scale).tolist() for scale in tqdm(np.logspace(0, 2, 60))]]\n",
    "\n",
    "        logits = llama(inputs)\n",
    "\n",
    "        logits = logits.unwrap(\"batch\", \"seq\", \"vocabulary\")\n",
    "\n",
    "        task_losses[task_name][feature].append(logprob_loss(logits, train_tokens, sep=sep, pad_token=pad, n_first=2).tolist())"
   ]
  },
  {
   "cell_type": "code",
   "execution_count": 82,
   "metadata": {},
   "outputs": [
    {
     "data": {
      "application/vnd.jupyter.widget-view+json": {
       "model_id": "17abdfb49ae441e49b96b5004737900a",
       "version_major": 2,
       "version_minor": 0
      },
      "text/plain": [
       "  0%|          | 0/4 [00:00<?, ?it/s]"
      ]
     },
     "metadata": {},
     "output_type": "display_data"
    },
    {
     "data": {
      "application/vnd.jupyter.widget-view+json": {
       "model_id": "a184c4bfc52543d0a5e226242ebfc37c",
       "version_major": 2,
       "version_minor": 0
      },
      "text/plain": [
       "  0%|          | 0/60 [00:00<?, ?it/s]"
      ]
     },
     "metadata": {},
     "output_type": "display_data"
    },
    {
     "name": "stderr",
     "output_type": "stream",
     "text": [
      "/home/dmitrii/.cache/pypoetry/virtualenvs/micrlhf-progress-_SD4q1c9-py3.10/lib/python3.10/site-packages/jax/_src/ops/scatter.py:92: FutureWarning:\n",
      "\n",
      "scatter inputs have incompatible types: cannot safely cast value from dtype=float32 to dtype=bfloat16 with jax_numpy_dtype_promotion='standard'. In future JAX releases this will result in an error.\n",
      "\n"
     ]
    },
    {
     "data": {
      "application/vnd.jupyter.widget-view+json": {
       "model_id": "cbb6fadaaba54121a0a9041e9de607bb",
       "version_major": 2,
       "version_minor": 0
      },
      "text/plain": [
       "  0%|          | 0/60 [00:00<?, ?it/s]"
      ]
     },
     "metadata": {},
     "output_type": "display_data"
    },
    {
     "name": "stderr",
     "output_type": "stream",
     "text": [
      "/home/dmitrii/.cache/pypoetry/virtualenvs/micrlhf-progress-_SD4q1c9-py3.10/lib/python3.10/site-packages/jax/_src/ops/scatter.py:92: FutureWarning:\n",
      "\n",
      "scatter inputs have incompatible types: cannot safely cast value from dtype=float32 to dtype=bfloat16 with jax_numpy_dtype_promotion='standard'. In future JAX releases this will result in an error.\n",
      "\n"
     ]
    },
    {
     "data": {
      "application/vnd.jupyter.widget-view+json": {
       "model_id": "2e7a96419db6451b975350e3a47db3c6",
       "version_major": 2,
       "version_minor": 0
      },
      "text/plain": [
       "  0%|          | 0/60 [00:00<?, ?it/s]"
      ]
     },
     "metadata": {},
     "output_type": "display_data"
    },
    {
     "name": "stderr",
     "output_type": "stream",
     "text": [
      "/home/dmitrii/.cache/pypoetry/virtualenvs/micrlhf-progress-_SD4q1c9-py3.10/lib/python3.10/site-packages/jax/_src/ops/scatter.py:92: FutureWarning:\n",
      "\n",
      "scatter inputs have incompatible types: cannot safely cast value from dtype=float32 to dtype=bfloat16 with jax_numpy_dtype_promotion='standard'. In future JAX releases this will result in an error.\n",
      "\n"
     ]
    },
    {
     "data": {
      "application/vnd.jupyter.widget-view+json": {
       "model_id": "4d81d2fd82bd4b23807fbb17e71f3b98",
       "version_major": 2,
       "version_minor": 0
      },
      "text/plain": [
       "  0%|          | 0/60 [00:00<?, ?it/s]"
      ]
     },
     "metadata": {},
     "output_type": "display_data"
    },
    {
     "name": "stderr",
     "output_type": "stream",
     "text": [
      "/home/dmitrii/.cache/pypoetry/virtualenvs/micrlhf-progress-_SD4q1c9-py3.10/lib/python3.10/site-packages/jax/_src/ops/scatter.py:92: FutureWarning:\n",
      "\n",
      "scatter inputs have incompatible types: cannot safely cast value from dtype=float32 to dtype=bfloat16 with jax_numpy_dtype_promotion='standard'. In future JAX releases this will result in an error.\n",
      "\n"
     ]
    },
    {
     "data": {
      "application/vnd.jupyter.widget-view+json": {
       "model_id": "cea9f50fcb06483fb7f58c5c9f8bf6ca",
       "version_major": 2,
       "version_minor": 0
      },
      "text/plain": [
       "  0%|          | 0/60 [00:00<?, ?it/s]"
      ]
     },
     "metadata": {},
     "output_type": "display_data"
    },
    {
     "name": "stderr",
     "output_type": "stream",
     "text": [
      "/home/dmitrii/.cache/pypoetry/virtualenvs/micrlhf-progress-_SD4q1c9-py3.10/lib/python3.10/site-packages/jax/_src/ops/scatter.py:92: FutureWarning:\n",
      "\n",
      "scatter inputs have incompatible types: cannot safely cast value from dtype=float32 to dtype=bfloat16 with jax_numpy_dtype_promotion='standard'. In future JAX releases this will result in an error.\n",
      "\n"
     ]
    }
   ],
   "source": [
    "import dataclasses\n",
    "from tqdm.auto import tqdm\n",
    "from functools import partial\n",
    "from micrlhf.utils.activation_manipulation import add_vector\n",
    "from collections import defaultdict\n",
    "\n",
    "task_losses = defaultdict(dict)\n",
    "\n",
    "n_few_shots, batch_size, max_seq_len = 20, 16, 256\n",
    "seed = 10\n",
    "\n",
    "prompt = \"<start_of_turn>user\\nFollow the pattern:\\n{}\"\n",
    "\n",
    "def make_taker(llama, layer):\n",
    "    taker = jit_wrapper.Jitted(llama.select().at_instances_of(LlamaBlock).apply_with_selected_index(\n",
    "        lambda i, x: x if i >= layer else pz.nn.Identity()\n",
    "    ).select().at_instances_of(pz.nn.EmbeddingLookup).apply(lambda _: pz.nn.Identity())\n",
    "                    .select().at_instances_of(pz.nn.ConstantRescale).pick_nth_selected(0).apply(lambda _: pz.nn.Identity()))\n",
    "\n",
    "    return taker\n",
    "\n",
    "taker = make_taker(llama, layer)\n",
    "\n",
    "task_features = {\n",
    "    \"antonyms\": [50800], \n",
    "    \"en_es\": [3608, 8300],\n",
    "    \"country_capital\": [6417],\n",
    "    \"present_simple_past_simple\": [47899]\n",
    "}\n",
    "\n",
    "def calc_acc(tokens, sep, logits, runner):\n",
    "    arrow_pos = jnp.nonzero(tokens == sep)\n",
    "    arrow_pos_single = []\n",
    "    for i in range(batch_size):\n",
    "        arrow_pos_single.append(arrow_pos[1][arrow_pos[0] == i].max())\n",
    "\n",
    "    arrow_pos_single = np.array(arrow_pos_single)\n",
    "\n",
    "    for i, (ap, l) in enumerate(zip(arrow_pos_single, logits)):\n",
    "        l = l.argmax(-1)\n",
    "        tgt = runner.eval_pairs[i][-1][1]\n",
    "        hits += int(tgt in repr(tokenizer.decode(l[ap:ap+3])))\n",
    "    return hits / runner.eval_batch_size\n",
    "\n",
    "\n",
    "\n",
    "\n",
    "for task_name in tqdm([\"antonyms\", \"en_es\", \"country_capital\", \"present_simple_past_simple\"]):\n",
    "    for feature in task_features[task_name]:\n",
    "        sep = 3978\n",
    "        pad = 0\n",
    "\n",
    "\n",
    "        pairs = list(tasks[task_name].items())\n",
    "\n",
    "        n_shot = n_few_shots - 1\n",
    "        if task_name.startswith(\"algo\"):\n",
    "            n_shot = 8\n",
    "\n",
    "        runner = ICLRunner(task_name, pairs, batch_size=batch_size, n_shot=1, max_seq_len=max_seq_len, seed=seed, prompt=prompt)\n",
    "\n",
    "        tokenized = runner.get_tokens([\n",
    "            x[:n_few_shots] for x in runner.train_pairs\n",
    "        ], tokenizer)\n",
    "\n",
    "        inputs = tokenized_to_inputs(**tokenized)\n",
    "        train_tokens = tokenized[\"input_ids\"]\n",
    "\n",
    "        _, all_resids = get_resids_call(inputs)\n",
    "\n",
    "        resids = all_resids[layer].value.unwrap(\"batch\", \"seq\", \"embedding\")\n",
    "\n",
    "        mask = train_tokens == sep\n",
    "        col_indices = jnp.arange(mask.shape[1])\n",
    "        col_indices_broadcasted = mask * col_indices\n",
    "        sorted_indices = jnp.sort(col_indices_broadcasted, axis=1, descending=True)\n",
    "\n",
    "        k = jnp.sum(mask[0]).astype(int)\n",
    "\n",
    "        positions = sorted_indices[:, :k]\n",
    "    \n",
    "        def steer_with_direction(direction, scale):\n",
    "            direction = direction / jnp.linalg.norm(direction)\n",
    "            direction = direction * scale\n",
    "            \n",
    "            modified = jax.vmap(lambda a, b: a.at[b].add(direction))(\n",
    "                resids, positions\n",
    "            )\n",
    "            modified = pz.nx.wrap(modified, \"batch\", \"seq\", \"embedding\")\n",
    "\n",
    "            _inputs = dataclasses.replace(inputs, tokens=modified)\n",
    "            logits = taker(_inputs).unwrap(\"batch\", \"seq\", \"vocabulary\")\n",
    "\n",
    "            acc = calc_acc(train_tokens, sep, logits, runner)\n",
    "            return logprob_loss(logits, train_tokens, sep=sep, pad_token=pad, n_first=2).tolist(), acc\n",
    "\n",
    "        \n",
    "\n",
    "        task_losses[task_name][feature] = [[steer_with_direction(-sae[\"W_dec\"][feature], scale) for scale in tqdm(np.logspace(0, 3, 60))]]\n",
    "\n",
    "        logits = llama(inputs)\n",
    "\n",
    "        logits = logits.unwrap(\"batch\", \"seq\", \"vocabulary\")\n",
    "\n",
    "        task_losses[task_name][feature].append(logprob_loss(logits, train_tokens, sep=sep, pad_token=pad, n_first=2).tolist())"
   ]
  },
  {
   "cell_type": "code",
   "execution_count": null,
   "metadata": {},
   "outputs": [],
   "source": []
  },
  {
   "cell_type": "code",
   "execution_count": 89,
   "metadata": {},
   "outputs": [
    {
     "data": {
      "text/html": [
       "<script> (()=>{ if (customElements.get('treescope-container') === undefined) { class TreescopeContainer extends HTMLElement { constructor() { super(); this.attachShadow({mode: \"open\"}); this.defns = {}; this.state = {}; } } customElements.define(\"treescope-container\", TreescopeContainer); } if (customElements.get('treescope-run-here') === undefined) { class RunHere extends HTMLElement { constructor() { super() } connectedCallback() { const run = child => { const fn = new Function(child.textContent); child.textContent = \"\"; fn.call(this); this.remove(); }; const child = this.querySelector(\"script\"); if (child) { run(child); } else { new MutationObserver(()=>{ run(this.querySelector(\"script\")); }).observe(this, {childList: true}); } } } customElements.define(\"treescope-run-here\", RunHere); } })(); </script> <treescope-container class=\"treescope_out_2143c487cef2477e825c5dc537096470\" ></treescope-container> <treescope-run-here><script type=\"application/octet-stream\"> const root = ( Array.from(document.getElementsByClassName( \"treescope_out_2143c487cef2477e825c5dc537096470\")) .filter((elt) => !elt.dataset.setup) )[0]; root.dataset.setup = 1; const msg = document.createElement(\"span\"); msg.style = \"color: #aaaaaa; font-family: monospace; transition: opacity 0.2s; opacity: 0.0;\"; msg.textContent = \"(Loading...)\"; root.state.loadingMsg = msg; root.shadowRoot.appendChild(msg); root.state.chain = new Promise((resolve, reject) => { const observer = new IntersectionObserver((entries) => { for (const entry of entries) { if (entry.isIntersecting) { resolve(); observer.disconnect(); return; } } }, {rootMargin: \"1000px\"}); window.setTimeout(() => { if (root.loadingMsg) { root.loadingMsg.style.opacity = \"1.0\"; } observer.observe(root); }, 0); }); root.state.deferring = false; const _insertNode = (node) => { for (let oldScript of node.querySelectorAll(\"script\")) { let newScript = document.createElement(\"script\"); newScript.type = oldScript.type; newScript.textContent = oldScript.textContent; oldScript.parentNode.replaceChild(newScript, oldScript); } if (root.state.loadingMsg) { root.state.loadingMsg.remove(); root.state.loadingMsg = null; } root.shadowRoot.appendChild(node); }; root.defns.insertContent = ((contentNode, compressed) => { if (compressed) { root.state.deferring = true; } if (root.state.deferring) { root.state.chain = (async () => { await root.state.chain; if (compressed) { const encoded = contentNode.textContent; const blob = new Blob([ Uint8Array.from(atob(encoded), (m) => m.codePointAt(0)) ]); const reader = blob.stream().pipeThrough( new DecompressionStream(\"deflate\") ).pipeThrough( new TextDecoderStream(\"utf-8\") ).getReader(); const parts = []; while (true) { const step = await reader.read(); if (step.done) { break; } parts.push(step.value); } const tpl = document.createElement('template'); tpl.innerHTML = parts.join(\"\"); _insertNode(tpl.content); } else { _insertNode(contentNode.content); } })(); } else { _insertNode(contentNode.content); } }); </script></treescope-run-here><div style=\"display:none\"> <script type=\"application/octet-stream\" >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</script> <treescope-run-here><script type=\"application/octet-stream\"> const root = ( Array.from(document.getElementsByClassName( \"treescope_out_2143c487cef2477e825c5dc537096470\")) .filter((elt) => !elt.dataset['step0']) )[0]; root.dataset['step0'] = 1; root.defns.insertContent( this.parentNode.querySelector('script[type=\"application/octet-stream\"]'), true ); this.parentNode.remove(); </script></treescope-run-here> </div>"
      ],
      "text/plain": [
       "<IPython.core.display.HTML object>"
      ]
     },
     "metadata": {},
     "output_type": "display_data"
    },
    {
     "data": {
      "text/html": [
       "<treescope-run-here><script type=\"application/octet-stream\"> const root = ( Array.from(document.getElementsByClassName( \"treescope_out_2143c487cef2477e825c5dc537096470\")) .filter((elt) => !elt.dataset.stolen) )[0]; root.dataset.stolen = 1; this.parentNode.replaceChild(root, this); </script></treescope-run-here>"
      ],
      "text/plain": [
       "[<matplotlib.lines.Line2D at 0x7f84a8153160>]"
      ]
     },
     "execution_count": 89,
     "metadata": {},
     "output_type": "execute_result"
    },
    {
     "data": {
      "image/png": "[encoded data removed]",
      "text/plain": [
       "<Figure size 640x480 with 1 Axes>"
      ]
     },
     "metadata": {},
     "output_type": "display_data"
    }
   ],
   "source": [
    "import matplotlib.pyplot as plt\n",
    "\n",
    "plot_task = \"country_capital\"\n",
    "feature = task_features[plot_task][0]\n",
    "\n",
    "plt.plot(np.logspace(0, 3, 60), task_losses[plot_task][feature][0], label=f\"{plot_task}: {feature}\")\n",
    "# plt.xscale(\"log\")"
   ]
  },
  {
   "cell_type": "code",
   "execution_count": 61,
   "metadata": {},
   "outputs": [
    {
     "data": {
      "text/html": [
       "<script> (()=>{ if (customElements.get('treescope-container') === undefined) { class TreescopeContainer extends HTMLElement { constructor() { super(); this.attachShadow({mode: \"open\"}); this.defns = {}; this.state = {}; } } customElements.define(\"treescope-container\", TreescopeContainer); } if (customElements.get('treescope-run-here') === undefined) { class RunHere extends HTMLElement { constructor() { super() } connectedCallback() { const run = child => { const fn = new Function(child.textContent); child.textContent = \"\"; fn.call(this); this.remove(); }; const child = this.querySelector(\"script\"); if (child) { run(child); } else { new MutationObserver(()=>{ run(this.querySelector(\"script\")); }).observe(this, {childList: true}); } } } customElements.define(\"treescope-run-here\", RunHere); } })(); </script> <treescope-container class=\"treescope_out_4d79ef3cf8534f41b71387ee5e2ecc63\" ></treescope-container> <treescope-run-here><script type=\"application/octet-stream\"> const root = ( Array.from(document.getElementsByClassName( \"treescope_out_4d79ef3cf8534f41b71387ee5e2ecc63\")) .filter((elt) => !elt.dataset.setup) )[0]; root.dataset.setup = 1; const msg = document.createElement(\"span\"); msg.style = \"color: #aaaaaa; font-family: monospace; transition: opacity 0.2s; opacity: 0.0;\"; msg.textContent = \"(Loading...)\"; root.state.loadingMsg = msg; root.shadowRoot.appendChild(msg); root.state.chain = new Promise((resolve, reject) => { const observer = new IntersectionObserver((entries) => { for (const entry of entries) { if (entry.isIntersecting) { resolve(); observer.disconnect(); return; } } }, {rootMargin: \"1000px\"}); window.setTimeout(() => { if (root.loadingMsg) { root.loadingMsg.style.opacity = \"1.0\"; } observer.observe(root); }, 0); }); root.state.deferring = false; const _insertNode = (node) => { for (let oldScript of node.querySelectorAll(\"script\")) { let newScript = document.createElement(\"script\"); newScript.type = oldScript.type; newScript.textContent = oldScript.textContent; oldScript.parentNode.replaceChild(newScript, oldScript); } if (root.state.loadingMsg) { root.state.loadingMsg.remove(); root.state.loadingMsg = null; } root.shadowRoot.appendChild(node); }; root.defns.insertContent = ((contentNode, compressed) => { if (compressed) { root.state.deferring = true; } if (root.state.deferring) { root.state.chain = (async () => { await root.state.chain; if (compressed) { const encoded = contentNode.textContent; const blob = new Blob([ Uint8Array.from(atob(encoded), (m) => m.codePointAt(0)) ]); const reader = blob.stream().pipeThrough( new DecompressionStream(\"deflate\") ).pipeThrough( new TextDecoderStream(\"utf-8\") ).getReader(); const parts = []; while (true) { const step = await reader.read(); if (step.done) { break; } parts.push(step.value); } const tpl = document.createElement('template'); tpl.innerHTML = parts.join(\"\"); _insertNode(tpl.content); } else { _insertNode(contentNode.content); } })(); } else { _insertNode(contentNode.content); } }); </script></treescope-run-here><div style=\"display:none\"> <script type=\"application/octet-stream\" >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</script> <treescope-run-here><script type=\"application/octet-stream\"> const root = ( Array.from(document.getElementsByClassName( \"treescope_out_4d79ef3cf8534f41b71387ee5e2ecc63\")) .filter((elt) => !elt.dataset['step0']) )[0]; root.dataset['step0'] = 1; root.defns.insertContent( this.parentNode.querySelector('script[type=\"application/octet-stream\"]'), true ); this.parentNode.remove(); </script></treescope-run-here> </div>"
      ],
      "text/plain": [
       "<IPython.core.display.HTML object>"
      ]
     },
     "metadata": {},
     "output_type": "display_data"
    },
    {
     "data": {
      "text/html": [
       "<treescope-run-here><script type=\"application/octet-stream\"> const root = ( Array.from(document.getElementsByClassName( \"treescope_out_4d79ef3cf8534f41b71387ee5e2ecc63\")) .filter((elt) => !elt.dataset.stolen) )[0]; root.dataset.stolen = 1; this.parentNode.replaceChild(root, this); </script></treescope-run-here>"
      ],
      "text/plain": [
       "[-3.484848484848485,\n",
       " -0.15656565656565657,\n",
       " -3.202020202020202,\n",
       " -0.3434343434343434,\n",
       " -0.7171717171717171,\n",
       " -0.2676767676767677,\n",
       " -0.696969696969697,\n",
       " -1.4646464646464648,\n",
       " -0.30303030303030304,\n",
       " -0.7070707070707071,\n",
       " -1.9090909090909092]"
      ]
     },
     "execution_count": 61,
     "metadata": {},
     "output_type": "execute_result"
    }
   ],
   "source": [
    "task_losses[task_name][0]"
   ]
  },
  {
   "cell_type": "code",
   "execution_count": 139,
   "metadata": {},
   "outputs": [
    {
     "data": {
      "application/vnd.plotly.v1+json": {
       "config": {
        "plotlyServerURL": "https://plot.ly"
       },
       "data": [
        {
         "coloraxis": "coloraxis",
         "hovertemplate": "x: %{x}<br>y: %{y}<br>color: %{z}<extra></extra>",
         "name": "0",
         "type": "heatmap",
         "x": [
          "12295",
          "3608",
          "54300",
          "1053",
          "16413",
          "55845",
          "32807",
          "25640",
          "60969",
          "36913",
          "59449",
          "50241",
          "10818",
          "8259",
          "12355",
          "56898",
          "38477",
          "44111",
          "33364",
          "46677",
          "8300",
          "50800",
          "53362",
          "2685",
          "62079",
          "14975",
          "50819",
          "29319",
          "19083",
          "14989",
          "4239",
          "37029",
          "29865",
          "11439",
          "31409",
          "2738",
          "1202",
          "18613",
          "49334",
          "5819",
          "35008",
          "52937",
          "37078",
          "32989",
          "26850",
          "233",
          "62189",
          "53000",
          "29453",
          "6417",
          "23825",
          "53010",
          "46357",
          "47899",
          "49947",
          "16157",
          "57630",
          "36658",
          "38197",
          "43322",
          "59710",
          "45893",
          "3915",
          "29520",
          "1874",
          "3923",
          "41300",
          "62805",
          "29530",
          "40795",
          "32092",
          "17756",
          "43358",
          "59236",
          "36201",
          "56170",
          "13165",
          "8560",
          "49523",
          "21375",
          "57215",
          "17281",
          "46985",
          "65419",
          "21389",
          "45455",
          "62868",
          "24483",
          "43943",
          "32174",
          "1461",
          "8641",
          "4036",
          "22469",
          "36806",
          "56773",
          "46571",
          "35308",
          "63994",
          "12284"
         ],
         "xaxis": "x",
         "y": [
          "location_continent",
          "football_player_position",
          "location_religion",
          "location_language",
          "person_profession",
          "location_country",
          "country_capital",
          "person_language",
          "singular_plural",
          "present_simple_past_simple",
          "antonyms",
          "plural_singular",
          "present_simple_past_perfect",
          "present_simple_gerund",
          "en_it",
          "it_en",
          "en_fr",
          "en_es",
          "fr_en",
          "es_en",
          "algo_last",
          "algo_first",
          "algo_second"
         ],
         "yaxis": "y",
         "z": [
          [
           0.5974268147941589,
           0.2729760320604602,
           0.9267741252853586,
           1.1902378492127257,
           0.9512002425150731,
           0.9812927395715206,
           0.22860285566345726,
           3.038616456007772,
           0.5553649843237136,
           0.8655275613503864,
           0.41169697087542023,
           0.6809034534757911,
           1.0575933494102119,
           1.946634594217619,
           1.0283332327566865,
           2.9087537689112866,
           1.0149733967917023,
           0.8342736473649621,
           0,
           1.0166537681103514,
           0.35631717453571055,
           0.48516290286057334,
           1.723712979318311,
           1.1829202319554446,
           0.39999061569088074,
           0.8572228115274004,
           1.4768840211609804,
           1.334713767914191,
           1.596776659024571,
           1.6840180700726268,
           0.3543307710107578,
           0.4638522680366654,
           1.9357688360381988,
           1.2915294285691812,
           0.8250349077787589,
           8.145284046126362,
           0.39056518702735177,
           0.8744062749728373,
           0.3876591100116836,
           0.45023822450886536,
           0.5261594637568873,
           0.06668846992651287,
           2.2290345606118205,
           0.642071344843992,
           2.1351890395815647,
           1.1623357044606466,
           1.0231913069908622,
           0.14587397424566914,
           0.664609950865612,
           0.9791792706418365,
           0.21923274426883793,
           0.21031771754877648,
           0.5729132219404217,
           0.4791300108178123,
           1.0220545167271156,
           0.9020101232903083,
           0.821525295423676,
           0.5093143084283624,
           1.1194473210997808,
           1.2086168242349806,
           0.2839921288510232,
           0.7290886022251077,
           0.31183075604916,
           1.545629610624673,
           1.7942144329495038,
           2.494320526052476,
           0.2373355218665227,
           0.14594996703491195,
           2.028972478274574,
           2.104364924067257,
           0.6789668388558014,
           0.47913461555331,
           0.4864203993402572,
           0.22082533322205217,
           1.03301241711071,
           0.1462595363848601,
           0.6366473579149714,
           1.0825004420414237,
           2.8300315578775,
           1.85541103592222,
           1.7764270370196522,
           0.4211095140791789,
           0.6875409797263984,
           0.6905158593303757,
           0.8470379094001715,
           0.18850640658203174,
           0.37212549116272026,
           0.16407036444759754,
           0.7373394501811898,
           0.4490422557876353,
           1.4821301166563905,
           1.381867760531429,
           0.5535133274985395,
           0.9189177694308174,
           0.47941388485690434,
           0.26289673124446783,
           2.072971244158852,
           1.7886615831237218,
           0.30315462418849554,
           0.9862175123462462
          ],
          [
           0.9529594485743629,
           0.8194722366390643,
           0.6214693257257587,
           0,
           2.405043884960185,
           1.1457052590315715,
           4.30530119162539,
           0.6894982787602097,
           4.686948161422997,
           3.8818177718572997,
           1.3075897350340966,
           0.08642814332744936,
           2.1421377334299394,
           0.3920384996907885,
           0.8602978796629355,
           0.8320818938231354,
           0.7192555481551358,
           1.5644585548981207,
           0.8781248596601635,
           1.2841288202983183,
           3.240445944205267,
           0.2182756950415022,
           0.9668262784916456,
           1.4046281996761192,
           2.1066239475338517,
           3.2860903190962967,
           1.4425191921135994,
           3.594952815781782,
           0.7116569481789794,
           2.8729751612722647,
           1.9940695016701966,
           2.1324771165197176,
           0.8176912340725326,
           1.066580950728955,
           0.6371257669957833,
           1.059407613507552,
           1.6314502834701987,
           2.872892008522143,
           0.14269791331212872,
           0.5892742541673535,
           4.111134787737494,
           0.49759720098392385,
           0.9373754859959189,
           2.9997947192577548,
           0.19703893961959543,
           0.5161820591856966,
           1.4523961203403821,
           6.504361151123499,
           0.5055974830409025,
           0.47577739860966944,
           1.156698824865298,
           1.8485589836700562,
           1.9298447277945205,
           1.552809576392699,
           1.4473562911240876,
           0.8677191337613187,
           2.2560353532112907,
           0.4017415585466418,
           1.1395240234080406,
           0.1339145100616287,
           2.3383485472977816,
           3.119374772794343,
           1.456891454213254,
           1.2075200537153465,
           1.1076890035506022,
           1.433676849680031,
           0.6989085585875109,
           0.035684110740823956,
           0.6799759515927665,
           1.2663481612528529,
           8.447372834161676,
           1.3324317098632077,
           2.1252706870433644,
           2.1947259144953186,
           1.3342226490174232,
           2.675989645190058,
           0.11878861284888724,
           2.7627260298208363,
           1.7534732606033407,
           0.7571494101730236,
           1.122508153966025,
           1.6910298298012696,
           0.05017101959657125,
           1.0475787949752329,
           2.8460782392128916,
           2.0186035629189583,
           0.5491007422072784,
           1.9827646940678274,
           4.743188693640375,
           1.8197409632962862,
           1.6572249932111933,
           2.3929071983999166,
           0.19251884000680486,
           1.5964373055287169,
           1.5000205004585345,
           0.22332159047661354,
           0.7770948167054051,
           1.3455226473398032,
           0.12011014371803594,
           0.6167105656200382
          ],
          [
           0.6859798579309714,
           0.2960294318902853,
           0.5240656057999028,
           0.3322311902590153,
           0.9781278721338713,
           1.3500343387210056,
           0.5695902961800908,
           2.2582993169752275,
           0.8645780118899478,
           1.3833848300020535,
           0.5813648467487784,
           0.8206833140741601,
           3.7677105587822846,
           0,
           1.179178484250178,
           1.108355114610102,
           1.237270240893833,
           1.8300136919848629,
           2.8584417877193378,
           1.3783976977904224,
           0.9419338221472658,
           2.220110581316468,
           1.5601362092614042,
           2.232619451624818,
           0.9398591070019414,
           0.9583768033535831,
           0.6623913369766111,
           1.0495253351716047,
           0.7181968053538077,
           1.4986642026374715,
           0.9941158713884467,
           0.1588339286307718,
           1.3155061272128163,
           1.1622881252070283,
           0.15124659645457345,
           0.5258934440887588,
           0.8825758585475333,
           0.988395226266456,
           0.3403855248354531,
           1.2924358508528035,
           1.9122723673210942,
           0.336910373681486,
           2.143712542136653,
           1.2384661167606983,
           1.3015612815761246,
           0.9234589628346092,
           1.1026950069742927,
           0.8030885561819068,
           1.420752048440381,
           0.3571360427917059,
           0.7996076007159456,
           0.23482403083316555,
           0.4106891621254827,
           0.9497450344722033,
           1.2266835912812748,
           0.7213835527403137,
           0.3170739850289359,
           1.5122449507304938,
           0.841112633597436,
           1.3729515932015264,
           0.43158516475536807,
           4.8641867876035585,
           0.6834977975848203,
           2.2433624586705774,
           0.7213900171526471,
           1.4293607583856067,
           0.8616262996116048,
           0.13504511802842703,
           0.6675855124176129,
           0.8988700931916224,
           0.3987645993373095,
           1.0683001142478679,
           1.6294916664105947,
           1.0403292647925393,
           1.115439318608331,
           0.09765493016189564,
           0.9717564301786806,
           0.8554441450153129,
           1.1147116774827086,
           0.3891418479510221,
           0.5572167611222284,
           0.4900420819854659,
           0.27962711099507004,
           1.2622766025754981,
           0.9779760715643795,
           1.1589205620737804,
           0.6508380835445049,
           0.7127334807142807,
           0.3209316372793298,
           1.8688105125155923,
           5.2407222819738974,
           2.058150891302134,
           0.3477313783832506,
           1.3769100797356792,
           1.2264249422428812,
           0.058671701167799725,
           0.2372759387301995,
           1.822038134522389,
           0.2563779678977075,
           0.9859332517508672
          ],
          [
           0.8681561700630219,
           1.0624396106184755,
           3.492835296587322,
           0.2071842609521636,
           1.347070572977293,
           0.8849180537367609,
           0.7708701253997724,
           0.5443881945330765,
           1.463443843013069,
           0.5939894859228477,
           0.8701144193258497,
           1.4018600112357804,
           1.7678659053021395,
           3.179422010971754,
           1.3821092557872219,
           0.7760690673398913,
           2.916571871285177,
           2.2824467956920502,
           2.5564609270477217,
           1.7569621499182684,
           0.5874037845045533,
           1.2874256768631505,
           0.5299557825690927,
           1.4674762240207446,
           1.5746236163518184,
           0.4424220504400084,
           2.000959885477361,
           1.9436649334314815,
           2.626194097943267,
           0,
           2.208554950124093,
           0.9848516034865145,
           0.5212935224196387,
           2.126564331950073,
           2.1652499485383916,
           2.8054753160419743,
           3.244388162012007,
           2.958613359045661,
           2.0083951446298047,
           0.9956248504806507,
           0.9314366049689183,
           0.2920933729941851,
           2.103615680162986,
           0.4914799696960187,
           0.8116727235627538,
           3.1629241085404747,
           0.028520326954120784,
           0.34039959183679314,
           0.11337463500729285,
           1.937622992776515,
           1.32972543716863,
           0.5857588346501954,
           1.137136300919446,
           0.7995711539350162,
           1.9455879108053378,
           7.17948436013142,
           0.8527192259012069,
           2.664899713916701,
           0.9601568896811402,
           1.7583556425534321,
           1.3598796861149773,
           2.441896610090358,
           1.159370789598358,
           4.814555360488311,
           1.349608269176282,
           2.308924075044078,
           1.3495549034211252,
           0.45476703688775694,
           1.140065716524227,
           1.3384527381933111,
           0.9104050090820661,
           1.4616793637068182,
           0.9019303941408482,
           2.040469374134221,
           2.2156285616704277,
           0.2435962042706759,
           0.8971089074054155,
           0.5129495492279116,
           0.38353135047331033,
           0.8115674614039742,
           2.105574239971265,
           2.0596430382010102,
           0.49084619521402517,
           3.1424245858144144,
           0.41552279931614805,
           1.120621836103459,
           0.7387785937622754,
           0.4224675529095789,
           1.2008259959325784,
           1.6514964401155576,
           2.401658807258061,
           4.782700616617025,
           3.1226456201023614,
           0.6592565662144638,
           2.2262978231672528,
           0.12544640302038287,
           0.7252552979624646,
           0.06235516519467315,
           0.8408559126831778,
           0.6283554479410816
          ],
          [
           1.378965192373604,
           0.22319679466949272,
           1.4520985460985039,
           4.582329645146991,
           1.2268153396714112,
           0.6553086792462778,
           5.910004353442207,
           4.580559188565455,
           4.10674569671643,
           2.4018146830353038,
           2.3319191367225667,
           2.6364948286441283,
           1.4769991247134315,
           2.192511524981818,
           0.20994744332903958,
           0.7423242523174914,
           2.742615808539936,
           2.2536279821943896,
           0,
           2.3503448961078015,
           0.9834563618237003,
           0.6355851944861948,
           1.7283582050813935,
           1.5335164394057528,
           1.7102163223402909,
           0.36786182626150354,
           1.2572605773641439,
           2.5849422902897388,
           0.4824251441263648,
           1.8060998599980835,
           3.1562318634877307,
           2.0789596906268946,
           1.583727766521366,
           1.0403987373536931,
           1.2147220821931883,
           0.038472954888369104,
           1.4873037866303054,
           0.6694547896626944,
           0.580400967247146,
           1.629060574996694,
           3.5532937564626823,
           0.5009145338698175,
           1.0807440615962312,
           0.6932491287768237,
           4.908724014101816,
           1.6008596381698208,
           1.4267846325196316,
           7.18562107326544,
           1.4925752631455143,
           1.759225802808096,
           0.6564679920272803,
           0.22893532024379115,
           1.3655415177863557,
           1.84210976244366,
           0.7535502406527864,
           0.47138028248903985,
           1.098199031692355,
           2.090583831058196,
           3.054775349730812,
           4.629744402585361,
           0.35665720066785844,
           0.8036881701099505,
           1.7507669537958774,
           2.040883597527872,
           2.0464432510420543,
           3.489445464361515,
           0.4885888761075831,
           0.562415182096939,
           1.9983820888807895,
           2.6092202357696386,
           3.1461850547260917,
           0.17672129393296462,
           1.923571643701962,
           0.18597285547272122,
           3.2560424350399617,
           2.7113219188448032,
           0.7918352288001326,
           3.7681585411064744,
           1.3727468436172166,
           0.5656379339666905,
           3.2611587247341833,
           0.8680159658126707,
           0.7652347309885161,
           3.0470096724012734,
           2.48812731351261,
           1.2026875133634989,
           1.0266341395004739,
           0.5474875644869679,
           3.4565122566532374,
           0.13877822888192456,
           1.1465794892682994,
           1.2486115898425063,
           1.504904225407914,
           0.5303895377100056,
           2.422493041793101,
           0.1703109178684916,
           1.407503079378132,
           3.2836188629436247,
           0.4677403422417841,
           4.1628293114142085
          ],
          [
           0.663786355716789,
           1.0065000223301142,
           1.1540361427994448,
           0.8527267377598572,
           0.7111564576440401,
           5.035529240489627,
           0.45809601382124854,
           0.7350542666652129,
           1.5994692266337622,
           0.41274758299868897,
           0.47671918248156087,
           1.0240700763338628,
           1.441664113170472,
           1.1140895040902032,
           0.6165824480598565,
           1.696885154733427,
           1.4377079756829385,
           0.987968140832348,
           3.416186623169308,
           0.6573896337871233,
           0.6211302691724406,
           0.35554536607433557,
           0.748092809207133,
           1.2754772708888853,
           0.84447039002126,
           1.1326271189025239,
           1.1400423236700572,
           1.499019035316997,
           2.170913037368518,
           0.5048975840468353,
           1.0546947893116247,
           0.8068763440884114,
           0.7989489479014532,
           3.6486628862632062,
           0.9390440939164617,
           1.2392340743496308,
           0.9429626091623446,
           1.037815023492132,
           0.46737547479745534,
           0.9898538208109865,
           0.7762241510322347,
           0.3163670445590637,
           2.229034427751007,
           1.1033606943133993,
           0.816187381446456,
           1.1038885955376245,
           0.2489956494162843,
           0.816891629628028,
           0.21681617893005306,
           3.774927906129806,
           1.3526695139522562,
           1.2647882696339499,
           3.599279547555847,
           0.8144063525018369,
           1.6288749121511719,
           3.8267678125225175,
           1.2346068170558224,
           0.5053825034392684,
           0.4590478901666106,
           1.328722269481343,
           1.311791793936387,
           0.8405732503833276,
           0.9441382727858548,
           1.3109860381399838,
           0.9107548782256184,
           0.573003639189737,
           0.2973612412385192,
           0.4210952226680299,
           0.6278727577126492,
           0.7062550446567893,
           0.823212307398044,
           2.288075499151663,
           1.6873433756291503,
           2.736737123270218,
           2.255666089234967,
           0.05247719686846498,
           0.7145588259570391,
           0.8751851536310868,
           0.04484472300851158,
           0.8305945837951104,
           1.2512550874057082,
           1.9078076099926706,
           0.8602848739270812,
           3.3865220675638215,
           0.4664193590098477,
           0.9297407388955775,
           0.7064152737596224,
           0.3062636893139484,
           0.6777640716313413,
           0.3812748983729167,
           1.392353422580584,
           2.3839884719923097,
           3.2130379026896385,
           1.0506280018857637,
           0,
           0.5691154916204559,
           1.1509553704570654,
           0.7310372287906067,
           0.5804903104856024,
           0.8570034752243825
          ],
          [
           0.16529692827033496,
           0.6137519124661865,
           1.5053033102403297,
           0.4199508892292793,
           0.8350311802055503,
           0.6043518413914509,
           0.5503396128182573,
           0.5064116669445239,
           0.5155882169507733,
           0.145100881087339,
           0.3927050025010385,
           0.9939374617010773,
           0.7883630238396739,
           0.27783504216825,
           0.37911467878267535,
           0.34895946671640915,
           0.3127898262942342,
           0.7783447922843146,
           1.5209878932676455,
           0.6878586275885326,
           0.6998093419591115,
           0.09588255701694363,
           0.40287172121863035,
           0.9180531440584286,
           0.5319456675551525,
           0.273865772111266,
           0.3641601435032726,
           0.9975808683206915,
           0.5578378207435466,
           0.48400155183263444,
           0.4472253856006712,
           0.4015423501666357,
           0.3148324188030313,
           1.9104715502231642,
           0.5356749656183829,
           0.25351522878587085,
           0.7285134124128093,
           0.9177421604479229,
           0.45661301600547666,
           0.6442181608877242,
           0.5456253721894453,
           0.5635889356118209,
           1.6584016195611817,
           0.860915616954058,
           0.4887406077113601,
           0.7150015643437638,
           0.25930832420028443,
           0.12630374533920216,
           0.7344903095059536,
           8.708167892590433,
           0.5563172348682268,
           0.5634180029294643,
           7.1254609739051755,
           0.5835803345417562,
           0.6415306355995622,
           1.4267070834666324,
           0.2968827170839014,
           0.7719185017759983,
           0.09343819752015066,
           0.5392290570204364,
           0.8533993021264028,
           0.5010693538823072,
           1.0495551144056356,
           0.6970144556331647,
           0.44929612798220286,
           1.2056843580534689,
           0.20825610767183453,
           0.24656863372059695,
           0.23881019869119485,
           0.6054583242994561,
           0.3448937746932481,
           1.7952620293115262,
           0.8080026609829212,
           5.707015538982131,
           0.6898251499213098,
           0.09143626807306218,
           0.6335111146829997,
           0.6418024738899705,
           0.24293642931496104,
           0.39721357065498764,
           0.5320645406932403,
           0.4619789340810574,
           0.12929405302831393,
           2.0271145601230662,
           0.32032680000514013,
           0.4206365846821777,
           0.08901242179050826,
           0.525287710168091,
           0.23173744745192823,
           0,
           0.802422143097775,
           1.6816375866430122,
           1.204675059209353,
           0.699605002937799,
           1.2222283620760916,
           0.12360484413996335,
           0.49752716254183293,
           0.3016726341837284,
           0.5793843043891765,
           0.2865819781762886
          ],
          [
           1.4814272001260638,
           0.8024074439920451,
           0.9494107789056669,
           2.6586730253674156,
           0.9022004516357243,
           3.057209193293107,
           0.7390036456559884,
           1.5820640508677222,
           0.10317277842308666,
           0.19701780497344729,
           0.5994092988593226,
           2.1549890749542664,
           1.8519412589874007,
           0.648965405052298,
           0.9470291083274269,
           0.3151118900605831,
           1.060402916448857,
           1.3488252678500525,
           3.850679336786367,
           1.6322317910297512,
           0.673934638264379,
           0.3325834045591969,
           0.8765888896928867,
           1.5105939580284367,
           0.9421130068398069,
           0.6113387499404797,
           0.9685577264462141,
           1.8224772782377863,
           1.1616876726893985,
           0.8073633764111295,
           1.1093846463621884,
           0.2410967466314641,
           0.5519039431184866,
           2.707389097907271,
           0.9228392524771861,
           1.5188315806532862,
           4.1867679019802875,
           1.39532815549867,
           0.5610144852062399,
           1.0402386223792692,
           1.139906789284721,
           0.586888550426487,
           2.2290345606118205,
           3.103590134492372,
           1.4881535446276963,
           0.6372906316748661,
           0.5017323842004242,
           0.8584724386285708,
           1.2115476765949675,
           0.7010686913009669,
           1.7533363380070974,
           0.8091434041897748,
           0,
           1.0531750634241834,
           1.041006026788081,
           3.9918818447890265,
           1.1571157101171516,
           0.5525595903910268,
           1.0503395070675319,
           0.6142297501222044,
           0.7371620020982644,
           1.6529050125477134,
           2.49389824072567,
           3.4271373043123745,
           1.662530353529092,
           1.006739138874938,
           0.33543407522682545,
           0.09783485166246463,
           0.39636430238511794,
           1.8250366341442659,
           0.3929459570734933,
           0.8191295048068568,
           0.7393790073973456,
           1.030209318923354,
           1.4148976741449106,
           0.14930562893006186,
           0.9749971712944342,
           0.9179600386905055,
           1.4224181358037697,
           0.6554540067563436,
           1.620356899775591,
           0.48785277551545,
           0.6817116398105075,
           2.1348850066738625,
           0.32856925136022785,
           1.5598104384733533,
           0.8100008704333107,
           0.760421680604354,
           0.5043621657825296,
           2.5934270778796966,
           3.2064160756225775,
           1.987078036827351,
           3.0225589432995053,
           2.1161071146882215,
           0.20692301290393134,
           0.7750634300263132,
           1.8324112172057687,
           0.5345583332480107,
           0.33578274705701483,
           0.9475710620957204
          ],
          [
           0.3119398743854096,
           0.23935425302375135,
           0.3059573542673627,
           0.09631194398089522,
           1.0897359106544784,
           0.05713391738690105,
           0.26153916029483903,
           0.25673261465309116,
           0.7260494711286982,
           0.13513944115695536,
           1.0834353512554917,
           2.689433795846349,
           0.725817293479862,
           0.2411183553545244,
           0.5903211822648451,
           0.09708072375898331,
           0.5738842410914811,
           0.48543453949055476,
           0.5524307568654085,
           0.5122944658168335,
           0.15499856203490167,
           0.11874491822592602,
           0.8502183493036487,
           0.28608205713130597,
           3.9310123264825787,
           0.9742021638838291,
           0.29361391016265853,
           0.09731949288115983,
           1.0725516109285198,
           0.28653848950672944,
           0.7354812601843441,
           1.1313928396419666,
           0.6058229660306124,
           0.2523344858955082,
           0.19698718506483828,
           0.47295817259987694,
           0.3740551871476609,
           0.9551006142995683,
           0.3795224164622621,
           0.2644728276158273,
           0.2952196548725897,
           0.23424536546025684,
           0.17814608919679867,
           0,
           0.052404895578347634,
           0.3363479785650212,
           0.7758383264455128,
           0.12125563459553775,
           0.4424490094706649,
           0.38536806102487275,
           1.1912033094061985,
           0.8068048277246435,
           0.1825532347590174,
           0.6997862087723289,
           0.5441006821347916,
           0.040307543530915584,
           0.11011004592320237,
           0.98991569408052,
           4.76646845088689,
           0.21369714053642377,
           0.09603056030935112,
           0.2522540527226391,
           3.8747797342248176,
           0.2018066212017439,
           0.5352652199000133,
           0.21904683235104505,
           0.13553984770711605,
           1.7961001580992069,
           0.6219402125099326,
           0.37225335176713753,
           0.48329776283209924,
           0.05007492353252017,
           0.2701978652124028,
           0.37292838666983796,
           1.1843209629877696,
           0.5414094194735294,
           1.3234071333490072,
           0.4557052028167834,
           1.659077079631774,
           0.040069133238152546,
           0.04264923782050491,
           0.3048785421105629,
           0.2535282334404652,
           0.3353114667531225,
           0.4084755521200687,
           0.4404029158678054,
           0.21199355990661653,
           0.09205725583873571,
           0.5676788597485534,
           0.4991066793589211,
           0.2726344859163193,
           0.1758536381082602,
           0.21121123439427011,
           0.29006772646239215,
           0.9739040759526303,
           0.20248326693636381,
           0.762124337296774,
           0.7515019815537943,
           1.3641088091381328,
           0.38213555139638217
          ],
          [
           0.29052470041556744,
           0.07887458505115073,
           0.09328113050967404,
           0.3316905776075979,
           1.0668042120824799,
           0.3140665638280252,
           0.08221265867862557,
           0.7189924867403172,
           0.4110338512272048,
           0.0362845108534898,
           0.29658764093978845,
           0.48640216379249607,
           0.4419367311601636,
           0.25895805123762905,
           0.643728615778829,
           0.2613313295651874,
           0.261304332052737,
           0.03674280078870127,
           0.26503307216575017,
           0.2122977377161979,
           0.24112848087146369,
           0.21391123038742535,
           0.7597634640845079,
           0.2824468943581537,
           0.25855238022059673,
           0.7360133054479179,
           0.19368036264641228,
           0.16893716763834032,
           0.12222070054250188,
           0.3723638469538414,
           0.09095911831888286,
           0.15509029195009102,
           0.8250972532746541,
           0.25559400737540405,
           0.0934283923983645,
           0.25991964725978256,
           0.30619900620753276,
           0.31311507135077704,
           0.2588953834029331,
           0.19559342561530024,
           0.21724631183967338,
           0.4007315912676557,
           0.2188081078545192,
           0.5548176578845496,
           0.19783191240232073,
           0.18002695850367723,
           0.5112299697537248,
           0.18550839061171426,
           0.3800777957593728,
           0.07999629267854312,
           0.20469395599722792,
           0.8641288535962096,
           0.17977837332197105,
           2.580196784891781,
           0.677317703126948,
           0.12060026176815969,
           0.3728688240857981,
           0.1648399524228247,
           0.7499668790037611,
           0.3998220772852542,
           1.2254867571153019,
           0.24725752441212032,
           0.10848180505340928,
           0.17332028389030868,
           0.15828925834086174,
           0.2611314164253627,
           0.08155971516692077,
           1.7961001580992069,
           0.5153208700118878,
           0.2289304546298683,
           0.23617032483550332,
           0.4316452464500181,
           0.2850857616080825,
           0.17074357654403133,
           0.29083252967942774,
           0.2196880195284405,
           1.2791525369513461,
           0.26531205123492013,
           1.5301113809382296,
           0.15432562011674236,
           0.32200733108675367,
           1.1290260783072692,
           1.9671954473846418,
           0.24910929067108067,
           0.470447367080237,
           0,
           0.16005791973758457,
           0.5798810724825265,
           0.1817184913033075,
           0.1911205682175791,
           0.13813122826575128,
           0.17303593105858217,
           0.32427549928917376,
           0.35582037880207834,
           0.1305560510684847,
           0.0949449830734678,
           0.6467631342195048,
           1.6211252435264123,
           1.1870291506950297,
           0.403549869264511
          ],
          [
           3.388805713580426,
           1.2689726882136856,
           1.0507557114804043,
           2.196443353830653,
           0.5859211832775012,
           2.199660518734551,
           0.3577341453610923,
           1.5972169726646368,
           1.800339299027962,
           1.0124522392365007,
           1.7687860454952034,
           2.258891973722699,
           1.7644191636313018,
           3.899138789098131,
           1.8195796488954112,
           0.7732180237130228,
           2.5988309175869984,
           1.952087789130153,
           2.275683944773936,
           1.762632777381742,
           2.2529389966791253,
           7.812343063607745,
           0.921929665294149,
           1.401669687452933,
           1.5296982190340231,
           1.3208245280407607,
           2.570677070365073,
           1.4508780916317807,
           0,
           1.577780550272622,
           3.109180329353523,
           1.7636051016121739,
           0.7039428932330719,
           1.337789323143376,
           3.1282590013060445,
           1.1965686372019102,
           1.8527913789036898,
           2.326849347172762,
           1.5186529133816837,
           1.1740162114551365,
           1.6810887805427492,
           2.931815918199381,
           1.0247537912766316,
           2.279711290367823,
           1.4983107489992586,
           1.23212327409115,
           1.7665293108752416,
           1.0239763028644728,
           1.7987062880619948,
           0.4312699724815019,
           1.9100460917206894,
           2.460935825411895,
           0.8596285800326622,
           1.3988606893125821,
           0.506702788859818,
           0.4633083877731034,
           2.516353629978333,
           2.220661635453213,
           2.7231664944468994,
           1.921964537125391,
           0.5943202816930253,
           0.9361540401027959,
           0.546916806509947,
           0.9219946478097182,
           2.2579753033170564,
           1.645188933809147,
           1.404906908374199,
           1.1204286533200114,
           1.0498273815624377,
           2.4098881019564122,
           2.1319322254820436,
           1.5812090939557746,
           2.2228366958310937,
           1.0499698298839775,
           2.590154091657603,
           2.886245919158457,
           0.8494465475070855,
           1.2280613386122383,
           1.3268789623303479,
           0.37350779187852534,
           0.6864094855306315,
           1.0366317842000146,
           1.2885343577393966,
           0.7913176395975751,
           0.7734267501367954,
           1.6868189508574174,
           1.3754589154863497,
           2.122653875140596,
           0.6568648228324684,
           1.7938422926206,
           0.5833273542482478,
           0.7515597396283148,
           2.8139630175214654,
           1.2274047045336909,
           1.83959208034511,
           0.984548763970217,
           1.2278085135742023,
           1.276570590878775,
           1.4941250400054538,
           1.5026121359451503
          ],
          [
           0.061756812331299,
           0.06334990070743354,
           0.4556269485838537,
           0.06242566081136587,
           0.9638310400935143,
           0.27296155422746826,
           0.6055201818529337,
           0.7641553095557407,
           0.16157928986959372,
           1.5436681695104804,
           0.8663485253728209,
           0.09408016667179292,
           0.12409802666850088,
           0.3245574618673243,
           0.2264739362370556,
           0.5535474578703922,
           0.2887262823524818,
           0.7141018651784331,
           0.3152429549215902,
           1.0218551592002278,
           0.5531383427103416,
           0.4036982687231656,
           0.8336416507359747,
           0.7348950616895906,
           0.269530709587581,
           0.9905384531799833,
           0.1981670531151584,
           0.04690743116470804,
           0.5629425736063776,
           0.7621609860185459,
           0.4787502825739401,
           0.7330498233803182,
           0.7497773657075497,
           0.5216950566378025,
           0.609832104698397,
           0.004418404354942559,
           0.1130902734375095,
           1.3509467716419126,
           0.03134410265065336,
           0.14515489355646516,
           0.2667925499912846,
           0.8788468958981134,
           0.5652699478963287,
           0.2843421404286295,
           0.2342066893467743,
           0.2553230267825342,
           1.1214434717213726,
           0.43847396747392525,
           0.6795338539268646,
           0.04509760718617178,
           0.6738132037123526,
           0.6754855577300516,
           0.06422350341008722,
           0.07123825367800221,
           0.8150877861454894,
           0.15615979811385974,
           0.9903582177506804,
           0.8474179524565209,
           0.14430442516173628,
           0.8182153702283284,
           0.6859955365193596,
           0.289555496523076,
           0.2772940714958751,
           0.13597544408305887,
           1.1903387668228187,
           0.1179330473041876,
           0.0653422054876315,
           1.7961001580992069,
           0.3089783485312088,
           0,
           0.10118649544086326,
           0.7968381898331232,
           0.21331398933553686,
           0.15001414164925547,
           0.6285168696417449,
           0.47938681117841525,
           1.1917703690776609,
           0.6494604089121365,
           1.2522875286370745,
           0.0846804749436111,
           0.11302657016014854,
           1.338244312040439,
           0.1510749616409347,
           0.48801505409599494,
           0.7454189445956226,
           0.6479893488120202,
           0.005762186677113899,
           0.6266203081936172,
           1.3956284038374478,
           0.815679250184817,
           0.18853933798166259,
           0.08430428899745754,
           0.03793826325142786,
           0.8642424556352797,
           0.2450895932088354,
           0.06934646497001129,
           0.4865521647374632,
           0.04309775249393781,
           1.445316972109701,
           0.3313052515243723
          ],
          [
           0.24898823074651338,
           0.1227988467519608,
           0.06076429267790517,
           0.09647123972056848,
           1.1257483163866358,
           0.08107358479778658,
           0.3616774073485224,
           0.44390238244929375,
           0.2739641625416982,
           0.10975374048294079,
           0.2692971311242001,
           0.24175865051861994,
           0.6449350717424839,
           0.515671741781952,
           1.0932129549448368,
           0.4234701290500895,
           0.467052137243209,
           0.6251624154064712,
           0.24967980981380386,
           0.43250521235418626,
           0.4657647546366177,
           0.3171768456697695,
           0.41023375750535745,
           0.31535844652951417,
           0.3801737894782656,
           0.3975536252691675,
           0.2646895828846663,
           0.04104440174955228,
           0.3396764560116492,
           0.570146242422554,
           0.32700355690655,
           0.08345743608319739,
           0.47327162341196954,
           0.2527518430570451,
           0.4009909249067573,
           0.09575604238181841,
           0.28100537769913675,
           0.4623955185641004,
           0.23442592059618925,
           0.3017033443677091,
           0.26285152542842544,
           0.43546255105017173,
           0.20719771693538305,
           0.2724379601835894,
           0.08529880168813388,
           0.1993923315645096,
           0.2926502123369426,
           0,
           0.7983771799421893,
           0.09218040791617657,
           1.2522946254505296,
           1.229571189396281,
           0.15105427558656517,
           2.9359195905243114,
           0.543610241574563,
           0.0569988869006644,
           0.5754373657569667,
           0.5902101206457876,
           0.6209417290073587,
           0.4325605240916872,
           0.733787610817582,
           0.1937146426209648,
           0.07938794071237612,
           0.1760577643315254,
           0.04052300542033133,
           0.16455684895762446,
           0.16097734580774015,
           1.7961001580992069,
           0.3860418595710665,
           0.1642399359864905,
           0.23550669270230093,
           1.192211026633213,
           0.060661756244084514,
           0.24361642782230825,
           0.1466188504385376,
           0.2186405280601888,
           1.3071361119678788,
           0.27069077061761526,
           1.2866712961113167,
           0.09262016529474669,
           0.34175822233342673,
           1.6341227886704248,
           1.520343959427698,
           0.18740351748182726,
           0.4802325117496663,
           0.8759607843961182,
           0.2548130295627697,
           1.0211350700970947,
           0.07370971688797738,
           0.12271062167388093,
           0.18091910044894072,
           0.20969581857398073,
           0.05769833932996724,
           0.5021418691854385,
           1.2047021535917268,
           0.046648175982525,
           0.824843814398541,
           2.618476917351455,
           1.265776803161019,
           0.06554239476081757
          ],
          [
           0,
           0.0010057820771756465,
           0.0037674861449886513,
           0.005933279679014942,
           0.7133604913604363,
           0.005637524521205986,
           0.1353854236398551,
           0.21077742834645338,
           0.000494585070721591,
           0.0009095601430672244,
           0.11905970960080578,
           0.0057783513111654815,
           0.0008709297786064573,
           0.03478420011240927,
           2.2127882984840634,
           0.04269176246534394,
           0.0008941499078008571,
           0.0017016222472502672,
           0.0029333420259502977,
           0.247954625044661,
           0.04231298439820884,
           0.019738801064091847,
           0.38745955715217145,
           0.23414125107460187,
           0.000338361175719831,
           0.04912759930184288,
           2.175567052606741,
           0.0007661318682220082,
           0.018873678627047134,
           0.11721739746457796,
           0.05265958756857788,
           0.008132036845403975,
           0.3155711983788733,
           0.21722731454045813,
           0.12484358220453311,
           0.0002511880502032389,
           0.00037348208127103543,
           0.2616830600865244,
           0.00015789206474310795,
           0,
           0.0018666458836794028,
           0.26584552291457647,
           0.11688263963259704,
           0.0053675288468858755,
           0.08404767957902433,
           0.0013653699864967675,
           0.1092700145260419,
           0,
           0.11218031358168314,
           0,
           0.04867605573014547,
           0.89465512954971,
           0.00019812341871940407,
           0.08279457689439554,
           0.5320408295490039,
           0.0005904572207580155,
           0.07006253574208421,
           0.021144910696533174,
           0.005005673222450292,
           0.012885857914728838,
           0.1947191021498744,
           0.0006288458697040912,
           0.027254307643812526,
           0.00016249792195130688,
           0.003197409995716617,
           0.09087713855392994,
           0.001128147274710413,
           1.7961001580992069,
           0.1452441946114713,
           0.0004407445654624775,
           0.002843686805179565,
           0.40773197467716077,
           0.0045529451385138975,
           0,
           0.0006617242391168485,
           0.46779195735142265,
           1.1766635151020597,
           0,
           0.613087686661259,
           0.00015387593462261876,
           0.02551693816410875,
           1.2484297702362217,
           0.09429653648275381,
           0.05187794797525354,
           0.18182318314059093,
           0.1639681082897787,
           0.000352781279144556,
           0.5249517228507694,
           0,
           0.09232739670448249,
           0,
           0.00010451441098223736,
           0.00023964503380863439,
           0.02860184645810656,
           0.0374905806094806,
           0.0012939073978544943,
           0.4997985652200248,
           0.010828589234519868,
           1.2623042669464453,
           0.02033293998806823
          ],
          [
           3.176259672774806,
           5.1982081014835675,
           3.274630380200657,
           0.8566819557636569,
           0.3279605395412834,
           0.6018140909932457,
           0.6907797565003787,
           0.47217344845745235,
           1.047639167132882,
           1.159300202874093,
           0.9693369754112313,
           1.2590608119918147,
           0.23018167469919992,
           0.8054123744291343,
           0.6169884104160124,
           0.2726905524815526,
           0.4197881174461219,
           0.4058153704528239,
           0.35954617597059574,
           0.626987054599113,
           1.4358154135485934,
           0.15009445782624797,
           0.27376729168954733,
           0.7662979815540869,
           0.46642263336553386,
           1.1486297307425573,
           1.2041111785468859,
           0.481979011990663,
           1.5506522712176258,
           1.4465717115821426,
           0.6956592416099014,
           0.3387376947848054,
           0.34179432500650375,
           0.277954372167124,
           0.963844830501511,
           0.3674559752741623,
           0.3467262421991288,
           1.1625411399175072,
           5.170306395016575,
           4.354097361411541,
           0.49908207931020515,
           0.6300928343352342,
           0.2460622616516274,
           0.5093258853120974,
           0.7544020072596933,
           3.2199289307004797,
           1.6275460037335419,
           0.4087147213981866,
           0.8498540948798351,
           0.4200600440584988,
           1.266045382931988,
           0.6550845336287284,
           0.6799839449506675,
           0.3222349247210178,
           0.38598060384140326,
           0.31302019888139293,
           0.7396034328133811,
           0.6488019006070779,
           0.47401688068872994,
           0.21884296927953356,
           0.25818042487587545,
           0.2361859157648675,
           0.43288194840406935,
           0.45714166490216923,
           1.0839253527723969,
           0.26918580600582603,
           5.514980742800001,
           1.009681560628929,
           0.1719093950335951,
           0.23651027678063113,
           0.3302118346388704,
           0.7357375751327478,
           0.88981538559319,
           0.5009880752617248,
           0,
           0.6425779436591387,
           0.24650698366112997,
           0.7888574442350718,
           0.36516417743374113,
           0.3809398139216037,
           0.14974708276492735,
           0.7106090014229667,
           0.7870985374401618,
           0.5187044626843581,
           0.5250672424205631,
           0.9366236584242238,
           5.776057544661512,
           1.5227495969453981,
           0.5758119814118209,
           0.5862672026676836,
           0.052649056709689536,
           0.2646194097562766,
           0.44495426260544896,
           1.115884517038838,
           1.6644338974579032,
           6.13119299758475,
           0.9978003057214351,
           0.09046705089255924,
           0.7130653563557802,
           0.42641226870945265
          ],
          [
           0.6606380752853686,
           0.4352037751249558,
           0.05004994641193559,
           0,
           0.3251223175217108,
           0.5420816271899652,
           0.4497317321895545,
           0.32312388726688623,
           0.5392324863093395,
           1.2574385738924592,
           0.9463704449532954,
           1.495508612882417,
           1.6343516437706294,
           0.7772914681473532,
           1.4700080424086988,
           0.3056162770968528,
           1.3450356774543566,
           1.1592731608609457,
           0.4930948166480352,
           0.9324426800454909,
           2.2796734723992316,
           0.7296345388301283,
           0.103997043226813,
           0.809499485957807,
           2.0026525059645044,
           0.3749424157529921,
           1.2575822404838148,
           0.6387144420688909,
           1.945464661832956,
           1.3330843554109855,
           0.9053327167865243,
           1.2660358402139131,
           0.07018310326623461,
           0.41578690963270637,
           0.6718055254173261,
           0.3546262521630177,
           0.9227408371578029,
           0.5825515187058988,
           1.0545422264898565,
           0.5277486472181069,
           1.1411557115994806,
           1.7704660070875953,
           0.24944433329666638,
           0.294925667999546,
           1.0121838147523878,
           0.8652634236594287,
           1.0449282753126194,
           0.649189871241022,
           2.0019482180602743,
           0.32743333660511686,
           0.6400122240582709,
           0.24775886641061431,
           0.4195647703682935,
           0.8707554941994387,
           0.39508008931680316,
           0.3406559312495948,
           1.7520059115418753,
           0.741155954895962,
           1.8858826342683492,
           0.8930830315554138,
           0.22313378991886287,
           0.5014669135892771,
           1.0981327124139992,
           0.28235557189923643,
           0.8689213747767833,
           0.37937175461811573,
           0.6666154114986004,
           1.7961001580992069,
           0.13900331767059482,
           0.925023390227068,
           0.3363870834014395,
           0.6160722364514715,
           1.1492062820909559,
           0.3516335280005079,
           0.6673502167410026,
           2.8242315684791546,
           0.24979520221631304,
           1.1635183796503046,
           0.33563285585790775,
           0.07519895267184361,
           0.419104158133921,
           0.43961416603333975,
           0.91334904880186,
           0.7443041113280203,
           0.25336727198354975,
           1.040362388517323,
           0.18198168986996993,
           1.4695828346265452,
           1.8737317530807822,
           1.3406945806957409,
           0.7113514119692713,
           0.7320899703937045,
           1.3403068012797528,
           0.7094019163212021,
           1.017866317314772,
           0.21407030781241612,
           0.7441070586450474,
           0.8439811952414692,
           1.1676758150525677,
           0.3263811777710165
          ],
          [
           2.430269066044041,
           4.713273391887372,
           1.2628664279901505,
           1.2897840912199423,
           0.5481506395606451,
           1.0533532072615195,
           1.9270352006087357,
           0.9183953118692798,
           0.8703135698979999,
           1.1216305404556899,
           1.3382803358749822,
           0.34156550409574654,
           0.6185034055476424,
           2.216420988377393,
           1.246634437511,
           1.0444296070276267,
           1.4804740479397243,
           1.2022047759034626,
           0.8230992677360512,
           1.0149798226586575,
           3.2778027262257057,
           0.09149099054247595,
           0.44166482065138224,
           1.317172438520819,
           0.9623462705008415,
           2.8395963726086015,
           1.241003739193658,
           1.353077683893114,
           2.0833190099582573,
           1.8284108118987994,
           0.669107335017289,
           1.5132005969642421,
           0.5001177056126832,
           1.2335020489231632,
           3.042501324623322,
           1.162999237692292,
           0.6916879274490907,
           0.2628175762136175,
           4.8979634410963,
           3.6751723490798773,
           0.9206789263973558,
           1.422444234249589,
           0.5906819699111315,
           2.0357482320085967,
           0.9950071590023815,
           1.9152961162445634,
           2.651052922048282,
           0.3803750654600277,
           1.0420355950666287,
           0.7027310698933386,
           2.7108832976827606,
           1.4725547659952365,
           0.8911013623228294,
           0.7386805390911055,
           0.5820809853178032,
           0.48541769045144495,
           1.0591571656659464,
           1.478730464716184,
           0,
           1.4847909893542006,
           0.5979596029858388,
           0.9579051989340402,
           1.6284290762966223,
           0.4729147953406101,
           0.935122458168442,
           0.502297478825884,
           3.9705168642841566,
           1.796100051043295,
           0.26763528859456837,
           0.6438704981751849,
           0.8626399242177057,
           1.6153520036800404,
           2.230531857673019,
           1.2715918067153673,
           0.790930677061148,
           1.1614228258091013,
           0.4549653335367981,
           1.4522792780112979,
           0.3781725605725219,
           0.40711125125386477,
           1.0738352130380875,
           2.0455912321886807,
           1.5751984717446592,
           0.553611272191454,
           0.9315972223230259,
           2.2644625697909486,
           4.678453253889115,
           1.4973813237648472,
           1.2757125447705506,
           1.273520959257982,
           0.41636962655731447,
           0.32490502411770983,
           1.34731687558848,
           2.280038665530514,
           1.2592383713196846,
           5.569556710469347,
           1.1196689241117905,
           0.26587645265294213,
           1.2203584693763767,
           0.7519178128350859
          ],
          [
           4.08680293981111,
           4.838052049211149,
           4.518604526753117,
           0.44715202874893323,
           0.39162167021594,
           0.7825120484347017,
           1.0493383750749787,
           0.6725973513186211,
           0.7480548493544744,
           1.0479580819275296,
           0.9724891768450269,
           1.7048686133341098,
           0.5054679475704733,
           0.4175251867090343,
           1.5870634898940583,
           0.619378241732978,
           0,
           0.9497945947652255,
           0,
           0.7135361516957544,
           2.4160830449088557,
           0.9372145250112258,
           0.2801654946244332,
           0.9920471556076923,
           0.30208051025058646,
           0.8878431279205866,
           1.0796347051915918,
           1.2128063148836699,
           0.5711877958730103,
           1.0247103976025833,
           0.6585403124734235,
           1.0322306534042975,
           0.259632264435277,
           0.7098064908012566,
           1.0443704382196113,
           0.33638173445499564,
           0.33343558828753955,
           0.8868581651875955,
           3.0923568157815726,
           3.1003983456090896,
           0.5787105897570554,
           0.30414311266568045,
           0.46139169144232606,
           0.4545979300911156,
           0.8211465740420695,
           2.57182440035882,
           1.8808022121577292,
           0.26177608019530646,
           1.169069434462421,
           0.008011193782597794,
           1.4498763001752373,
           0.9701013277308045,
           0.18793468247191475,
           0.6071771664556956,
           0.5761104617667528,
           0.4161062501689463,
           0.8001596857862561,
           0.8010047022258631,
           0.15349947766538208,
           0.9797399998910216,
           0.38215340271033504,
           1.0071906516205935,
           1.2510964330783925,
           0.7525720448027281,
           1.5690814072396624,
           0.2542447785505877,
           4.503827121088139,
           0.8641769461875399,
           0.410088040764231,
           0.46910410757796966,
           0.7823080943477234,
           1.4271016032325825,
           1.0122198314262876,
           1.2082246546754225,
           0.6486998108535266,
           0.5761870565995816,
           0.47670865447945854,
           0.7675650400035349,
           0.26729436208314045,
           0.4121299061588287,
           0.5049245724320554,
           0.7408651143977755,
           0.8642153528566462,
           0.5347154128291984,
           0.5641131684729823,
           1.3319626307267445,
           4.71447394654036,
           1.643110130560239,
           0.7394293098400476,
           0.808922570082548,
           0.5885844999063075,
           0.3032506307119466,
           0.5749884282307222,
           1.6950995376776357,
           1.0459582958957818,
           6.13119299758475,
           1.0345178064994165,
           0.4336370714762216,
           0.7767415079528972,
           0.3864263865488148
          ],
          [
           0.9213689379040199,
           0.6922394485593273,
           0.9699886407205783,
           1.7470737086880193,
           0.9745751848107203,
           0.8836625515133875,
           1.1068680586934734,
           0.7458303825648716,
           0.6836806910718577,
           1.719811829701505,
           1.1722982815201843,
           0.6814187499189297,
           0.9656657342559575,
           1.0527042194499128,
           1.9109746827474547,
           0.6780969950365883,
           1.7464330742916405,
           2.125274981038824,
           0.555718946294108,
           1.4840673515721343,
           0.7367550612900214,
           2.3807390970299327,
           0.6165136035125138,
           0.9857991748866229,
           2.399350039512096,
           0.6200622548921271,
           1.0697011041999913,
           0.5809518501118047,
           2.846089406198672,
           1.6369533179589337,
           1.66373910452772,
           3.9564256020038577,
           0.662927645490629,
           1.0798417238743383,
           1.4632921285934914,
           1.124056645644803,
           0.9127965334327991,
           2.05167758479023,
           0.8370027437653,
           0.7953697894654337,
           1.4092652665756558,
           3.800355041430126,
           0.7565055508377652,
           1.2464320654262682,
           1.6885856451911614,
           1.4509344440630247,
           3.0800445952829754,
           0.8022553697844054,
           4.483824967366511,
           0.8401751720068159,
           1.3462810140990404,
           0.37370385789054344,
           1.2957919782791556,
           1.6363025447026398,
           0.672654854061605,
           0.45635772475967884,
           2.188420359460646,
           3.224125820230772,
           1.5388062429726,
           0.9333988406899224,
           0.5941032619214057,
           1.8640459709476336,
           0,
           0.9956660357358336,
           2.72747469428438,
           0.7633211714218688,
           0.6721563257627855,
           1.567765099946343,
           0.7333824044893432,
           1.0509653274409088,
           0.9764551188758704,
           1.363622431402425,
           1.3930065356053718,
           0.682674487427586,
           1.532160211714741,
           2.886245919158457,
           0.7631196538292266,
           2.1308425656343295,
           0.79788997965501,
           0.6885887556251652,
           1.1177150441089003,
           1.3711471297053195,
           1.5707724872570914,
           0.8434719611961262,
           0.4818580065870873,
           1.751528259104885,
           0.20644307464418457,
           1.8632510515618947,
           1.978213114822065,
           2.9474228009746644,
           1.0190372260449723,
           1.3743121867090091,
           1.3033809687224054,
           2.6983042932551484,
           1.4720105183896464,
           0.7307324458055094,
           1.2764142140961177,
           0.9224695995466927,
           1.4454292149610621,
           0.7106759936712461
          ],
          [
           0.2977250270171478,
           0.2462240345335893,
           0.18412777347819811,
           0,
           0.5475460175634204,
           1.6757268789166995,
           1.1297703076742858,
           0.6845381377773974,
           0.9691551524560653,
           0.7967953026674282,
           1.715780357088903,
           1.5294710191947765,
           0.8002185685975176,
           0.03791086299714656,
           1.8568550923059974,
           0.3552556921319181,
           0.7476986956656556,
           0.8909070538839721,
           1.3129371285372862,
           1.8945966741885076,
           0.5659616014112115,
           2.1069296288653026,
           0.35889606430924526,
           1.1431184482705914,
           0.9265725582070232,
           0.19241187615429173,
           0.9394516522191698,
           1.35579105249265,
           1.6287062176448348,
           1.0024122871659609,
           1.844621925846244,
           2.251352822944643,
           0.46313769486801915,
           1.0146136774367753,
           2.162555533013887,
           0.9220204743928914,
           2.426306648986062,
           0.023151174828051537,
           0.41397477108230585,
           0.5662778528193302,
           1.4152940363510307,
           3.8398635123225837,
           0.5374521487069173,
           2.0569721487980703,
           1.0098639731166743,
           0.868534604680376,
           1.6354029421451672,
           1.1374617887009437,
           2.678032623559309,
           0.5270072976869472,
           1.1705751152672812,
           0.4079375429414064,
           0.981196035831029,
           1.2846990926722306,
           0.512745710481054,
           0.4206998713551926,
           2.3255235909895937,
           0.7267079819870094,
           0.9015883420640209,
           1.5151249458413025,
           0.4708673528064444,
           0.6970547652613783,
           1.664994566628259,
           0.426050797109986,
           0.7151099822949479,
           0.4336164166371152,
           0.6026398964985176,
           1.6442685392642604,
           0.34160503349195753,
           0.8636529726054316,
           0.7123926662665381,
           1.221261298767452,
           1.856434409766341,
           1.0022168468620667,
           0.6773647772573426,
           2.8197043306103344,
           0.5896703124822013,
           1.649204369985786,
           0.2520954178931047,
           0.29585962602359883,
           0.7908545269235875,
           1.6321130463072746,
           1.1546884776914408,
           0.6855611149084992,
           0.6091785172977614,
           1.8117257900041632,
           0.24665380765807904,
           0.7636426359444461,
           1.6435865436560302,
           1.8873039768561701,
           0.7831105372025591,
           0.4201712157139338,
           1.0472026108875252,
           0.8529030712996648,
           1.9966369094246734,
           0.14135315992256517,
           0.11271980589988888,
           0.7338462897655512,
           1.543543083396719,
           0.5557667827645125
          ],
          [
           0,
           0.0051364666723630655,
           0.006188063376728249,
           1.2300255400875915,
           1.9991159214859835,
           0.17251855675427544,
           0.023866771787629977,
           0.15833765548102244,
           0.007820120484396273,
           1.224623827487657,
           0.7237859154269435,
           0.0025577775980769827,
           0,
           0.7643278161372448,
           0.1466301980855303,
           3.000608044472314,
           0.005894862627155475,
           0.035334341643051215,
           0.020513099002902817,
           0.28417599531006354,
           0.0038692234720627008,
           1.1438122822849461,
           2.6626715523432685,
           0.8053918754507411,
           0.0033641600890304624,
           1.1519184785424466,
           0.041033700071108625,
           0.00607343643616982,
           0.10076607122234113,
           0.46342943899841726,
           0.1374668599380653,
           0.5145515475729627,
           2.894279102935378,
           0.09951705153030353,
           0.2847988249519951,
           0.0014929710350509936,
           0.0036652195144306226,
           0.14777527071107074,
           0.0015599783280822214,
           0.0014336874190138845,
           0.03015270802640463,
           1.5342999590912805,
           1.2038330948251879,
           0.17828873740523374,
           0.037273339190545124,
           0.0033415896025795096,
           0.023405455783134774,
           0.0015046731936142347,
           0.11658301544582071,
           0.2121433715841113,
           0.3936718440359264,
           1.8017958442620159,
           0.19133487929782472,
           0.2639501572180777,
           2.1723183751263364,
           0.0032699739148998068,
           0.06260300077432739,
           0.19150904700209662,
           0.0074797599675716035,
           0.4243990322478628,
           0.2911307546872482,
           0.10869386959611456,
           0.10416907167917921,
           0.09129939244710769,
           0.3500884762947198,
           2.3028071186109362,
           0.03169822493030543,
           1.636946771337286,
           3.0854056410927564,
           0.05109375229208449,
           0.025426186559900227,
           1.1930841172577034,
           0.0360403755645557,
           0.09427849016310551,
           0.12087651434548843,
           0.2191209750718223,
           2.163982250055606,
           0.005258297845658064,
           0.6423457947618048,
           5.906865799916833,
           0.6039909560571313,
           0.2547931077404191,
           2.471748196327596,
           0.07446033984584412,
           2.9189332708210403,
           0.27067314356686206,
           0.002106448100822071,
           1.4045622120688745,
           0.0070185595837759795,
           0.3328910590584697,
           0.016669912306232756,
           0.0049116104868453655,
           0.009465185153354802,
           0.3093703082527707,
           0.10482923176790773,
           0.011824581803488053,
           1.170448620076412,
           0.3681061814694385,
           1.543543083396719,
           3.7284722720221923
          ],
          [
           0.0004451611819164939,
           0.0005331920363952315,
           0,
           0.05200435154726841,
           1.3143843587457236,
           0.0017393984955473313,
           0.031139192785422883,
           0.006585606288827242,
           0.0018167690821878709,
           0.7448028181305201,
           2.001540000520234,
           0,
           0,
           0.005937885409577452,
           0.0055857879312816725,
           3.1976187340209634,
           0.0010919667240007313,
           0.005795562810902926,
           0.002451567676435316,
           0.012498102091002404,
           0.0003012008345840429,
           0.07331136736307046,
           2.5189704650613187,
           0.2509533507610202,
           0.002476069224959353,
           0.1345395694084496,
           0.0026753456227067217,
           0.0009356266762388009,
           0.0014405742286902803,
           0.2414272560378279,
           0.008816689724746299,
           0.00884591097746663,
           2.7346926682960886,
           0.023817265619103144,
           0.00289500654857265,
           0,
           0.0003416347507739417,
           0.043787011966567514,
           0,
           0.00033548641474254404,
           0.0024907194412225,
           0.07389944906334382,
           0.8164486296406104,
           0.014859386368943805,
           0.020571624740540306,
           0.000313465029079262,
           0.0017868744873676494,
           0.0013810685491725987,
           0.0014821685293344368,
           0,
           0.0038898208162175566,
           1.2483558789750349,
           0.00036245832488849915,
           0.0005238800950230239,
           1.4416923320657353,
           0,
           0.009766867508566937,
           0.004295188245429329,
           0.0006290960849796337,
           0.002436503169520081,
           3.1396566047842422,
           0.004216296489163596,
           0.01736036853820884,
           0.0011844687407805534,
           0.08788555075475944,
           0,
           0.00017684603169556643,
           0.01087754389432908,
           2.737259795247461,
           0.13327826246132057,
           0.0032561805567269254,
           0.02366344061000642,
           0.003817650195355357,
           0.0007404470181761216,
           0.016166702761813322,
           0.30764246604487744,
           2.5543472215041465,
           0.0028999805212267652,
           0.6357347618845064,
           0.08308834208645338,
           0.07674446678371342,
           0.0023512331218331307,
           0.07952656302831262,
           0.0008876784370941367,
           1.3508646185072473,
           0.002289454611122262,
           0,
           0.4001569720011221,
           0.006114785108465054,
           0.02496192620050779,
           0.0034177086950248643,
           0.002855322801776459,
           0,
           0.001436431353484853,
           0.0010674756894677273,
           0.0007368329261515905,
           0.26056894479439624,
           0.03469903211058845,
           1.543542991394382,
           0.028678647869705018
          ],
          [
           0.3304778206730699,
           0,
           0.13739818596215814,
           4.344668670387047,
           1.669476194956379,
           0.6417086314633966,
           1.255593532903261,
           1.0917496052469091,
           0.8635156159711392,
           1.208030560252318,
           1.7850855160222574,
           0.4098374453744901,
           0.24925874146210647,
           1.8967440177185038,
           0.9705626911389064,
           2.6464258210638594,
           1.6213039135248215,
           0.5304102532981279,
           0.6907536899176042,
           1.0832088056948586,
           0.4690247979666461,
           0.8705886063501802,
           3.043564345665171,
           1.14984177109589,
           0.5155867935716565,
           3.251991047221383,
           1.1556360959781242,
           0.736941540048765,
           0.13042078667906398,
           0.6787731044344321,
           0.30407390021456115,
           0.9754017534335876,
           3.5600793939649296,
           0.35388332116306387,
           1.4186575835786208,
           1.1149803590524496,
           0.9402574615027324,
           0.45410317665529887,
           0.16475336383615563,
           0.2672814188680795,
           0.7820512012297123,
           1.3164395229111168,
           1.2161690884678902,
           1.679245643783534,
           2.361597602883319,
           0.07804282142075822,
           0.43444566179406585,
           0.8071149056825629,
           0.08608189635641873,
           0.23542017544627716,
           0.9139820730425624,
           3.14538143505765,
           0.7744283455971247,
           1.432352808242204,
           2.935832431502475,
           0.3391728307208107,
           1.3934112307080027,
           1.3408337160475199,
           0.31040210228776727,
           1.163274131528497,
           5.83965913085719,
           0.7508932559089658,
           2.038871778162401,
           0.62440909067094,
           0.43487540600910773,
           1.6552664482865203,
           0.7108688135559565,
           0.47379376294281267,
           4.308329210338556,
           4.0967426679588375,
           0.6372393477095065,
           0.9236607078095448,
           1.0708688240687667,
           0.7440945780140755,
           0.39061176587269675,
           0.581662931093198,
           2.6341245251975214,
           0.753618498495574,
           2.492862177366943,
           7.742690640312037,
           4.505154749974209,
           0.7241029440486856,
           4.363718765449859,
           0.20292158054700674,
           3.615138629382347,
           1.1757043539377512,
           0.2424862258256844,
           2.0467672012106473,
           0.1521193945641994,
           1.380657738596344,
           0.7157511840789291,
           0.2613885463755381,
           0.32547357211482836,
           1.1210309000622867,
           0.7228228804651983,
           0.36164329419609637,
           3.1348696635692637,
           3.1158514624590845,
           1.543543083396719,
           3.908587910359838
          ]
         ]
        }
       ],
       "layout": {
        "coloraxis": {
         "colorscale": [
          [
           0,
           "#0d0887"
          ],
          [
           0.1111111111111111,
           "#46039f"
          ],
          [
           0.2222222222222222,
           "#7201a8"
          ],
          [
           0.3333333333333333,
           "#9c179e"
          ],
          [
           0.4444444444444444,
           "#bd3786"
          ],
          [
           0.5555555555555556,
           "#d8576b"
          ],
          [
           0.6666666666666666,
           "#ed7953"
          ],
          [
           0.7777777777777778,
           "#fb9f3a"
          ],
          [
           0.8888888888888888,
           "#fdca26"
          ],
          [
           1,
           "#f0f921"
          ]
         ]
        },
        "margin": {
         "t": 60
        },
        "template": {
         "data": {
          "bar": [
           {
            "error_x": {
             "color": "#2a3f5f"
            },
            "error_y": {
             "color": "#2a3f5f"
            },
            "marker": {
             "line": {
              "color": "#E5ECF6",
              "width": 0.5
             },
             "pattern": {
              "fillmode": "overlay",
              "size": 10,
              "solidity": 0.2
             }
            },
            "type": "bar"
           }
          ],
          "barpolar": [
           {
            "marker": {
             "line": {
              "color": "#E5ECF6",
              "width": 0.5
             },
             "pattern": {
              "fillmode": "overlay",
              "size": 10,
              "solidity": 0.2
             }
            },
            "type": "barpolar"
           }
          ],
          "carpet": [
           {
            "aaxis": {
             "endlinecolor": "#2a3f5f",
             "gridcolor": "white",
             "linecolor": "white",
             "minorgridcolor": "white",
             "startlinecolor": "#2a3f5f"
            },
            "baxis": {
             "endlinecolor": "#2a3f5f",
             "gridcolor": "white",
             "linecolor": "white",
             "minorgridcolor": "white",
             "startlinecolor": "#2a3f5f"
            },
            "type": "carpet"
           }
          ],
          "choropleth": [
           {
            "colorbar": {
             "outlinewidth": 0,
             "ticks": ""
            },
            "type": "choropleth"
           }
          ],
          "contour": [
           {
            "colorbar": {
             "outlinewidth": 0,
             "ticks": ""
            },
            "colorscale": [
             [
              0,
              "#0d0887"
             ],
             [
              0.1111111111111111,
              "#46039f"
             ],
             [
              0.2222222222222222,
              "#7201a8"
             ],
             [
              0.3333333333333333,
              "#9c179e"
             ],
             [
              0.4444444444444444,
              "#bd3786"
             ],
             [
              0.5555555555555556,
              "#d8576b"
             ],
             [
              0.6666666666666666,
              "#ed7953"
             ],
             [
              0.7777777777777778,
              "#fb9f3a"
             ],
             [
              0.8888888888888888,
              "#fdca26"
             ],
             [
              1,
              "#f0f921"
             ]
            ],
            "type": "contour"
           }
          ],
          "contourcarpet": [
           {
            "colorbar": {
             "outlinewidth": 0,
             "ticks": ""
            },
            "type": "contourcarpet"
           }
          ],
          "heatmap": [
           {
            "colorbar": {
             "outlinewidth": 0,
             "ticks": ""
            },
            "colorscale": [
             [
              0,
              "#0d0887"
             ],
             [
              0.1111111111111111,
              "#46039f"
             ],
             [
              0.2222222222222222,
              "#7201a8"
             ],
             [
              0.3333333333333333,
              "#9c179e"
             ],
             [
              0.4444444444444444,
              "#bd3786"
             ],
             [
              0.5555555555555556,
              "#d8576b"
             ],
             [
              0.6666666666666666,
              "#ed7953"
             ],
             [
              0.7777777777777778,
              "#fb9f3a"
             ],
             [
              0.8888888888888888,
              "#fdca26"
             ],
             [
              1,
              "#f0f921"
             ]
            ],
            "type": "heatmap"
           }
          ],
          "heatmapgl": [
           {
            "colorbar": {
             "outlinewidth": 0,
             "ticks": ""
            },
            "colorscale": [
             [
              0,
              "#0d0887"
             ],
             [
              0.1111111111111111,
              "#46039f"
             ],
             [
              0.2222222222222222,
              "#7201a8"
             ],
             [
              0.3333333333333333,
              "#9c179e"
             ],
             [
              0.4444444444444444,
              "#bd3786"
             ],
             [
              0.5555555555555556,
              "#d8576b"
             ],
             [
              0.6666666666666666,
              "#ed7953"
             ],
             [
              0.7777777777777778,
              "#fb9f3a"
             ],
             [
              0.8888888888888888,
              "#fdca26"
             ],
             [
              1,
              "#f0f921"
             ]
            ],
            "type": "heatmapgl"
           }
          ],
          "histogram": [
           {
            "marker": {
             "pattern": {
              "fillmode": "overlay",
              "size": 10,
              "solidity": 0.2
             }
            },
            "type": "histogram"
           }
          ],
          "histogram2d": [
           {
            "colorbar": {
             "outlinewidth": 0,
             "ticks": ""
            },
            "colorscale": [
             [
              0,
              "#0d0887"
             ],
             [
              0.1111111111111111,
              "#46039f"
             ],
             [
              0.2222222222222222,
              "#7201a8"
             ],
             [
              0.3333333333333333,
              "#9c179e"
             ],
             [
              0.4444444444444444,
              "#bd3786"
             ],
             [
              0.5555555555555556,
              "#d8576b"
             ],
             [
              0.6666666666666666,
              "#ed7953"
             ],
             [
              0.7777777777777778,
              "#fb9f3a"
             ],
             [
              0.8888888888888888,
              "#fdca26"
             ],
             [
              1,
              "#f0f921"
             ]
            ],
            "type": "histogram2d"
           }
          ],
          "histogram2dcontour": [
           {
            "colorbar": {
             "outlinewidth": 0,
             "ticks": ""
            },
            "colorscale": [
             [
              0,
              "#0d0887"
             ],
             [
              0.1111111111111111,
              "#46039f"
             ],
             [
              0.2222222222222222,
              "#7201a8"
             ],
             [
              0.3333333333333333,
              "#9c179e"
             ],
             [
              0.4444444444444444,
              "#bd3786"
             ],
             [
              0.5555555555555556,
              "#d8576b"
             ],
             [
              0.6666666666666666,
              "#ed7953"
             ],
             [
              0.7777777777777778,
              "#fb9f3a"
             ],
             [
              0.8888888888888888,
              "#fdca26"
             ],
             [
              1,
              "#f0f921"
             ]
            ],
            "type": "histogram2dcontour"
           }
          ],
          "mesh3d": [
           {
            "colorbar": {
             "outlinewidth": 0,
             "ticks": ""
            },
            "type": "mesh3d"
           }
          ],
          "parcoords": [
           {
            "line": {
             "colorbar": {
              "outlinewidth": 0,
              "ticks": ""
             }
            },
            "type": "parcoords"
           }
          ],
          "pie": [
           {
            "automargin": true,
            "type": "pie"
           }
          ],
          "scatter": [
           {
            "fillpattern": {
             "fillmode": "overlay",
             "size": 10,
             "solidity": 0.2
            },
            "type": "scatter"
           }
          ],
          "scatter3d": [
           {
            "line": {
             "colorbar": {
              "outlinewidth": 0,
              "ticks": ""
             }
            },
            "marker": {
             "colorbar": {
              "outlinewidth": 0,
              "ticks": ""
             }
            },
            "type": "scatter3d"
           }
          ],
          "scattercarpet": [
           {
            "marker": {
             "colorbar": {
              "outlinewidth": 0,
              "ticks": ""
             }
            },
            "type": "scattercarpet"
           }
          ],
          "scattergeo": [
           {
            "marker": {
             "colorbar": {
              "outlinewidth": 0,
              "ticks": ""
             }
            },
            "type": "scattergeo"
           }
          ],
          "scattergl": [
           {
            "marker": {
             "colorbar": {
              "outlinewidth": 0,
              "ticks": ""
             }
            },
            "type": "scattergl"
           }
          ],
          "scattermapbox": [
           {
            "marker": {
             "colorbar": {
              "outlinewidth": 0,
              "ticks": ""
             }
            },
            "type": "scattermapbox"
           }
          ],
          "scatterpolar": [
           {
            "marker": {
             "colorbar": {
              "outlinewidth": 0,
              "ticks": ""
             }
            },
            "type": "scatterpolar"
           }
          ],
          "scatterpolargl": [
           {
            "marker": {
             "colorbar": {
              "outlinewidth": 0,
              "ticks": ""
             }
            },
            "type": "scatterpolargl"
           }
          ],
          "scatterternary": [
           {
            "marker": {
             "colorbar": {
              "outlinewidth": 0,
              "ticks": ""
             }
            },
            "type": "scatterternary"
           }
          ],
          "surface": [
           {
            "colorbar": {
             "outlinewidth": 0,
             "ticks": ""
            },
            "colorscale": [
             [
              0,
              "#0d0887"
             ],
             [
              0.1111111111111111,
              "#46039f"
             ],
             [
              0.2222222222222222,
              "#7201a8"
             ],
             [
              0.3333333333333333,
              "#9c179e"
             ],
             [
              0.4444444444444444,
              "#bd3786"
             ],
             [
              0.5555555555555556,
              "#d8576b"
             ],
             [
              0.6666666666666666,
              "#ed7953"
             ],
             [
              0.7777777777777778,
              "#fb9f3a"
             ],
             [
              0.8888888888888888,
              "#fdca26"
             ],
             [
              1,
              "#f0f921"
             ]
            ],
            "type": "surface"
           }
          ],
          "table": [
           {
            "cells": {
             "fill": {
              "color": "#EBF0F8"
             },
             "line": {
              "color": "white"
             }
            },
            "header": {
             "fill": {
              "color": "#C8D4E3"
             },
             "line": {
              "color": "white"
             }
            },
            "type": "table"
           }
          ]
         },
         "layout": {
          "annotationdefaults": {
           "arrowcolor": "#2a3f5f",
           "arrowhead": 0,
           "arrowwidth": 1
          },
          "autotypenumbers": "strict",
          "coloraxis": {
           "colorbar": {
            "outlinewidth": 0,
            "ticks": ""
           }
          },
          "colorscale": {
           "diverging": [
            [
             0,
             "#8e0152"
            ],
            [
             0.1,
             "#c51b7d"
            ],
            [
             0.2,
             "#de77ae"
            ],
            [
             0.3,
             "#f1b6da"
            ],
            [
             0.4,
             "#fde0ef"
            ],
            [
             0.5,
             "#f7f7f7"
            ],
            [
             0.6,
             "#e6f5d0"
            ],
            [
             0.7,
             "#b8e186"
            ],
            [
             0.8,
             "#7fbc41"
            ],
            [
             0.9,
             "#4d9221"
            ],
            [
             1,
             "#276419"
            ]
           ],
           "sequential": [
            [
             0,
             "#0d0887"
            ],
            [
             0.1111111111111111,
             "#46039f"
            ],
            [
             0.2222222222222222,
             "#7201a8"
            ],
            [
             0.3333333333333333,
             "#9c179e"
            ],
            [
             0.4444444444444444,
             "#bd3786"
            ],
            [
             0.5555555555555556,
             "#d8576b"
            ],
            [
             0.6666666666666666,
             "#ed7953"
            ],
            [
             0.7777777777777778,
             "#fb9f3a"
            ],
            [
             0.8888888888888888,
             "#fdca26"
            ],
            [
             1,
             "#f0f921"
            ]
           ],
           "sequentialminus": [
            [
             0,
             "#0d0887"
            ],
            [
             0.1111111111111111,
             "#46039f"
            ],
            [
             0.2222222222222222,
             "#7201a8"
            ],
            [
             0.3333333333333333,
             "#9c179e"
            ],
            [
             0.4444444444444444,
             "#bd3786"
            ],
            [
             0.5555555555555556,
             "#d8576b"
            ],
            [
             0.6666666666666666,
             "#ed7953"
            ],
            [
             0.7777777777777778,
             "#fb9f3a"
            ],
            [
             0.8888888888888888,
             "#fdca26"
            ],
            [
             1,
             "#f0f921"
            ]
           ]
          },
          "colorway": [
           "#636efa",
           "#EF553B",
           "#00cc96",
           "#ab63fa",
           "#FFA15A",
           "#19d3f3",
           "#FF6692",
           "#B6E880",
           "#FF97FF",
           "#FECB52"
          ],
          "font": {
           "color": "#2a3f5f"
          },
          "geo": {
           "bgcolor": "white",
           "lakecolor": "white",
           "landcolor": "#E5ECF6",
           "showlakes": true,
           "showland": true,
           "subunitcolor": "white"
          },
          "hoverlabel": {
           "align": "left"
          },
          "hovermode": "closest",
          "mapbox": {
           "style": "light"
          },
          "paper_bgcolor": "white",
          "plot_bgcolor": "#E5ECF6",
          "polar": {
           "angularaxis": {
            "gridcolor": "white",
            "linecolor": "white",
            "ticks": ""
           },
           "bgcolor": "#E5ECF6",
           "radialaxis": {
            "gridcolor": "white",
            "linecolor": "white",
            "ticks": ""
           }
          },
          "scene": {
           "xaxis": {
            "backgroundcolor": "#E5ECF6",
            "gridcolor": "white",
            "gridwidth": 2,
            "linecolor": "white",
            "showbackground": true,
            "ticks": "",
            "zerolinecolor": "white"
           },
           "yaxis": {
            "backgroundcolor": "#E5ECF6",
            "gridcolor": "white",
            "gridwidth": 2,
            "linecolor": "white",
            "showbackground": true,
            "ticks": "",
            "zerolinecolor": "white"
           },
           "zaxis": {
            "backgroundcolor": "#E5ECF6",
            "gridcolor": "white",
            "gridwidth": 2,
            "linecolor": "white",
            "showbackground": true,
            "ticks": "",
            "zerolinecolor": "white"
           }
          },
          "shapedefaults": {
           "line": {
            "color": "#2a3f5f"
           }
          },
          "ternary": {
           "aaxis": {
            "gridcolor": "white",
            "linecolor": "white",
            "ticks": ""
           },
           "baxis": {
            "gridcolor": "white",
            "linecolor": "white",
            "ticks": ""
           },
           "bgcolor": "#E5ECF6",
           "caxis": {
            "gridcolor": "white",
            "linecolor": "white",
            "ticks": ""
           }
          },
          "title": {
           "x": 0.05
          },
          "xaxis": {
           "automargin": true,
           "gridcolor": "white",
           "linecolor": "white",
           "ticks": "",
           "title": {
            "standoff": 15
           },
           "zerolinecolor": "white",
           "zerolinewidth": 2
          },
          "yaxis": {
           "automargin": true,
           "gridcolor": "white",
           "linecolor": "white",
           "ticks": "",
           "title": {
            "standoff": 15
           },
           "zerolinecolor": "white",
           "zerolinewidth": 2
          }
         }
        },
        "xaxis": {
         "anchor": "y",
         "constrain": "domain",
         "domain": [
          0,
          1
         ],
         "scaleanchor": "y"
        },
        "yaxis": {
         "anchor": "x",
         "autorange": "reversed",
         "constrain": "domain",
         "domain": [
          0,
          1
         ]
        }
       }
      },
      "text/html": [
       "<div>                            <div id=\"dbd99def-47fd-4149-a191-ff795c59a58a\" class=\"plotly-graph-div\" style=\"height:525px; width:100%;\"></div>            <script type=\"text/javascript\">                require([\"plotly\"], function(Plotly) {                    window.PLOTLYENV=window.PLOTLYENV || {};                                    if (document.getElementById(\"dbd99def-47fd-4149-a191-ff795c59a58a\")) {                    Plotly.newPlot(                        \"dbd99def-47fd-4149-a191-ff795c59a58a\",                        [{\"coloraxis\":\"coloraxis\",\"name\":\"0\",\"x\":[\"12295\",\"3608\",\"54300\",\"1053\",\"16413\",\"55845\",\"32807\",\"25640\",\"60969\",\"36913\",\"59449\",\"50241\",\"10818\",\"8259\",\"12355\",\"56898\",\"38477\",\"44111\",\"33364\",\"46677\",\"8300\",\"50800\",\"53362\",\"2685\",\"62079\",\"14975\",\"50819\",\"29319\",\"19083\",\"14989\",\"4239\",\"37029\",\"29865\",\"11439\",\"31409\",\"2738\",\"1202\",\"18613\",\"49334\",\"5819\",\"35008\",\"52937\",\"37078\",\"32989\",\"26850\",\"233\",\"62189\",\"53000\",\"29453\",\"6417\",\"23825\",\"53010\",\"46357\",\"47899\",\"49947\",\"16157\",\"57630\",\"36658\",\"38197\",\"43322\",\"59710\",\"45893\",\"3915\",\"29520\",\"1874\",\"3923\",\"41300\",\"62805\",\"29530\",\"40795\",\"32092\",\"17756\",\"43358\",\"59236\",\"36201\",\"56170\",\"13165\",\"8560\",\"49523\",\"21375\",\"57215\",\"17281\",\"46985\",\"65419\",\"21389\",\"45455\",\"62868\",\"24483\",\"43943\",\"32174\",\"1461\",\"8641\",\"4036\",\"22469\",\"36806\",\"56773\",\"46571\",\"35308\",\"63994\",\"12284\"],\"y\":[\"location_continent\",\"football_player_position\",\"location_religion\",\"location_language\",\"person_profession\",\"location_country\",\"country_capital\",\"person_language\",\"singular_plural\",\"present_simple_past_simple\",\"antonyms\",\"plural_singular\",\"present_simple_past_perfect\",\"present_simple_gerund\",\"en_it\",\"it_en\",\"en_fr\",\"en_es\",\"fr_en\",\"es_en\",\"algo_last\",\"algo_first\",\"algo_second\"],\"z\":[[0.5974268147941589,0.2729760320604602,0.9267741252853586,1.1902378492127257,0.9512002425150731,0.9812927395715206,0.22860285566345726,3.038616456007772,0.5553649843237136,0.8655275613503864,0.41169697087542023,0.6809034534757911,1.0575933494102119,1.946634594217619,1.0283332327566865,2.9087537689112866,1.0149733967917023,0.8342736473649621,0.0,1.0166537681103514,0.35631717453571055,0.48516290286057334,1.723712979318311,1.1829202319554446,0.39999061569088074,0.8572228115274004,1.4768840211609804,1.334713767914191,1.596776659024571,1.6840180700726268,0.3543307710107578,0.4638522680366654,1.9357688360381988,1.2915294285691812,0.8250349077787589,8.145284046126362,0.39056518702735177,0.8744062749728373,0.3876591100116836,0.45023822450886536,0.5261594637568873,0.06668846992651287,2.2290345606118205,0.642071344843992,2.1351890395815647,1.1623357044606466,1.0231913069908622,0.14587397424566914,0.664609950865612,0.9791792706418365,0.21923274426883793,0.21031771754877648,0.5729132219404217,0.4791300108178123,1.0220545167271156,0.9020101232903083,0.821525295423676,0.5093143084283624,1.1194473210997808,1.2086168242349806,0.2839921288510232,0.7290886022251077,0.31183075604916,1.545629610624673,1.7942144329495038,2.494320526052476,0.2373355218665227,0.14594996703491195,2.028972478274574,2.104364924067257,0.6789668388558014,0.47913461555331,0.4864203993402572,0.22082533322205217,1.03301241711071,0.1462595363848601,0.6366473579149714,1.0825004420414237,2.8300315578775,1.85541103592222,1.7764270370196522,0.4211095140791789,0.6875409797263984,0.6905158593303757,0.8470379094001715,0.18850640658203174,0.37212549116272026,0.16407036444759754,0.7373394501811898,0.4490422557876353,1.4821301166563905,1.381867760531429,0.5535133274985395,0.9189177694308174,0.47941388485690434,0.26289673124446783,2.072971244158852,1.7886615831237218,0.30315462418849554,0.9862175123462462],[0.9529594485743629,0.8194722366390643,0.6214693257257587,0.0,2.405043884960185,1.1457052590315715,4.30530119162539,0.6894982787602097,4.686948161422997,3.8818177718572997,1.3075897350340966,0.08642814332744936,2.1421377334299394,0.3920384996907885,0.8602978796629355,0.8320818938231354,0.7192555481551358,1.5644585548981207,0.8781248596601635,1.2841288202983183,3.240445944205267,0.2182756950415022,0.9668262784916456,1.4046281996761192,2.1066239475338517,3.2860903190962967,1.4425191921135994,3.594952815781782,0.7116569481789794,2.8729751612722647,1.9940695016701966,2.1324771165197176,0.8176912340725326,1.066580950728955,0.6371257669957833,1.059407613507552,1.6314502834701987,2.872892008522143,0.14269791331212872,0.5892742541673535,4.111134787737494,0.49759720098392385,0.9373754859959189,2.9997947192577548,0.19703893961959543,0.5161820591856966,1.4523961203403821,6.504361151123499,0.5055974830409025,0.47577739860966944,1.156698824865298,1.8485589836700562,1.9298447277945205,1.552809576392699,1.4473562911240876,0.8677191337613187,2.2560353532112907,0.4017415585466418,1.1395240234080406,0.1339145100616287,2.3383485472977816,3.119374772794343,1.456891454213254,1.2075200537153465,1.1076890035506022,1.433676849680031,0.6989085585875109,0.035684110740823956,0.6799759515927665,1.2663481612528529,8.447372834161676,1.3324317098632077,2.1252706870433644,2.1947259144953186,1.3342226490174232,2.675989645190058,0.11878861284888724,2.7627260298208363,1.7534732606033407,0.7571494101730236,1.122508153966025,1.6910298298012696,0.05017101959657125,1.0475787949752329,2.8460782392128916,2.0186035629189583,0.5491007422072784,1.9827646940678274,4.743188693640375,1.8197409632962862,1.6572249932111933,2.3929071983999166,0.19251884000680486,1.5964373055287169,1.5000205004585345,0.22332159047661354,0.7770948167054051,1.3455226473398032,0.12011014371803594,0.6167105656200382],[0.6859798579309714,0.2960294318902853,0.5240656057999028,0.3322311902590153,0.9781278721338713,1.3500343387210056,0.5695902961800908,2.2582993169752275,0.8645780118899478,1.3833848300020535,0.5813648467487784,0.8206833140741601,3.7677105587822846,0.0,1.179178484250178,1.108355114610102,1.237270240893833,1.8300136919848629,2.8584417877193378,1.3783976977904224,0.9419338221472658,2.220110581316468,1.5601362092614042,2.232619451624818,0.9398591070019414,0.9583768033535831,0.6623913369766111,1.0495253351716047,0.7181968053538077,1.4986642026374715,0.9941158713884467,0.1588339286307718,1.3155061272128163,1.1622881252070283,0.15124659645457345,0.5258934440887588,0.8825758585475333,0.988395226266456,0.3403855248354531,1.2924358508528035,1.9122723673210942,0.336910373681486,2.143712542136653,1.2384661167606983,1.3015612815761246,0.9234589628346092,1.1026950069742927,0.8030885561819068,1.420752048440381,0.3571360427917059,0.7996076007159456,0.23482403083316555,0.4106891621254827,0.9497450344722033,1.2266835912812748,0.7213835527403137,0.3170739850289359,1.5122449507304938,0.841112633597436,1.3729515932015264,0.43158516475536807,4.8641867876035585,0.6834977975848203,2.2433624586705774,0.7213900171526471,1.4293607583856067,0.8616262996116048,0.13504511802842703,0.6675855124176129,0.8988700931916224,0.3987645993373095,1.0683001142478679,1.6294916664105947,1.0403292647925393,1.115439318608331,0.09765493016189564,0.9717564301786806,0.8554441450153129,1.1147116774827086,0.3891418479510221,0.5572167611222284,0.4900420819854659,0.27962711099507004,1.2622766025754981,0.9779760715643795,1.1589205620737804,0.6508380835445049,0.7127334807142807,0.3209316372793298,1.8688105125155923,5.2407222819738974,2.058150891302134,0.3477313783832506,1.3769100797356792,1.2264249422428812,0.058671701167799725,0.2372759387301995,1.822038134522389,0.2563779678977075,0.9859332517508672],[0.8681561700630219,1.0624396106184755,3.492835296587322,0.2071842609521636,1.347070572977293,0.8849180537367609,0.7708701253997724,0.5443881945330765,1.463443843013069,0.5939894859228477,0.8701144193258497,1.4018600112357804,1.7678659053021395,3.179422010971754,1.3821092557872219,0.7760690673398913,2.916571871285177,2.2824467956920502,2.5564609270477217,1.7569621499182684,0.5874037845045533,1.2874256768631505,0.5299557825690927,1.4674762240207446,1.5746236163518184,0.4424220504400084,2.000959885477361,1.9436649334314815,2.626194097943267,0.0,2.208554950124093,0.9848516034865145,0.5212935224196387,2.126564331950073,2.1652499485383916,2.8054753160419743,3.244388162012007,2.958613359045661,2.0083951446298047,0.9956248504806507,0.9314366049689183,0.2920933729941851,2.103615680162986,0.4914799696960187,0.8116727235627538,3.1629241085404747,0.028520326954120784,0.34039959183679314,0.11337463500729285,1.937622992776515,1.32972543716863,0.5857588346501954,1.137136300919446,0.7995711539350162,1.9455879108053378,7.17948436013142,0.8527192259012069,2.664899713916701,0.9601568896811402,1.7583556425534321,1.3598796861149773,2.441896610090358,1.159370789598358,4.814555360488311,1.349608269176282,2.308924075044078,1.3495549034211252,0.45476703688775694,1.140065716524227,1.3384527381933111,0.9104050090820661,1.4616793637068182,0.9019303941408482,2.040469374134221,2.2156285616704277,0.2435962042706759,0.8971089074054155,0.5129495492279116,0.38353135047331033,0.8115674614039742,2.105574239971265,2.0596430382010102,0.49084619521402517,3.1424245858144144,0.41552279931614805,1.120621836103459,0.7387785937622754,0.4224675529095789,1.2008259959325784,1.6514964401155576,2.401658807258061,4.782700616617025,3.1226456201023614,0.6592565662144638,2.2262978231672528,0.12544640302038287,0.7252552979624646,0.06235516519467315,0.8408559126831778,0.6283554479410816],[1.378965192373604,0.22319679466949272,1.4520985460985039,4.582329645146991,1.2268153396714112,0.6553086792462778,5.910004353442207,4.580559188565455,4.10674569671643,2.4018146830353038,2.3319191367225667,2.6364948286441283,1.4769991247134315,2.192511524981818,0.20994744332903958,0.7423242523174914,2.742615808539936,2.2536279821943896,0.0,2.3503448961078015,0.9834563618237003,0.6355851944861948,1.7283582050813935,1.5335164394057528,1.7102163223402909,0.36786182626150354,1.2572605773641439,2.5849422902897388,0.4824251441263648,1.8060998599980835,3.1562318634877307,2.0789596906268946,1.583727766521366,1.0403987373536931,1.2147220821931883,0.038472954888369104,1.4873037866303054,0.6694547896626944,0.580400967247146,1.629060574996694,3.5532937564626823,0.5009145338698175,1.0807440615962312,0.6932491287768237,4.908724014101816,1.6008596381698208,1.4267846325196316,7.18562107326544,1.4925752631455143,1.759225802808096,0.6564679920272803,0.22893532024379115,1.3655415177863557,1.84210976244366,0.7535502406527864,0.47138028248903985,1.098199031692355,2.090583831058196,3.054775349730812,4.629744402585361,0.35665720066785844,0.8036881701099505,1.7507669537958774,2.040883597527872,2.0464432510420543,3.489445464361515,0.4885888761075831,0.562415182096939,1.9983820888807895,2.6092202357696386,3.1461850547260917,0.17672129393296462,1.923571643701962,0.18597285547272122,3.2560424350399617,2.7113219188448032,0.7918352288001326,3.7681585411064744,1.3727468436172166,0.5656379339666905,3.2611587247341833,0.8680159658126707,0.7652347309885161,3.0470096724012734,2.48812731351261,1.2026875133634989,1.0266341395004739,0.5474875644869679,3.4565122566532374,0.13877822888192456,1.1465794892682994,1.2486115898425063,1.504904225407914,0.5303895377100056,2.422493041793101,0.1703109178684916,1.407503079378132,3.2836188629436247,0.4677403422417841,4.1628293114142085],[0.663786355716789,1.0065000223301142,1.1540361427994448,0.8527267377598572,0.7111564576440401,5.035529240489627,0.45809601382124854,0.7350542666652129,1.5994692266337622,0.41274758299868897,0.47671918248156087,1.0240700763338628,1.441664113170472,1.1140895040902032,0.6165824480598565,1.696885154733427,1.4377079756829385,0.987968140832348,3.416186623169308,0.6573896337871233,0.6211302691724406,0.35554536607433557,0.748092809207133,1.2754772708888853,0.84447039002126,1.1326271189025239,1.1400423236700572,1.499019035316997,2.170913037368518,0.5048975840468353,1.0546947893116247,0.8068763440884114,0.7989489479014532,3.6486628862632062,0.9390440939164617,1.2392340743496308,0.9429626091623446,1.037815023492132,0.46737547479745534,0.9898538208109865,0.7762241510322347,0.3163670445590637,2.229034427751007,1.1033606943133993,0.816187381446456,1.1038885955376245,0.2489956494162843,0.816891629628028,0.21681617893005306,3.774927906129806,1.3526695139522562,1.2647882696339499,3.599279547555847,0.8144063525018369,1.6288749121511719,3.8267678125225175,1.2346068170558224,0.5053825034392684,0.4590478901666106,1.328722269481343,1.311791793936387,0.8405732503833276,0.9441382727858548,1.3109860381399838,0.9107548782256184,0.573003639189737,0.2973612412385192,0.4210952226680299,0.6278727577126492,0.7062550446567893,0.823212307398044,2.288075499151663,1.6873433756291503,2.736737123270218,2.255666089234967,0.05247719686846498,0.7145588259570391,0.8751851536310868,0.04484472300851158,0.8305945837951104,1.2512550874057082,1.9078076099926706,0.8602848739270812,3.3865220675638215,0.4664193590098477,0.9297407388955775,0.7064152737596224,0.3062636893139484,0.6777640716313413,0.3812748983729167,1.392353422580584,2.3839884719923097,3.2130379026896385,1.0506280018857637,0.0,0.5691154916204559,1.1509553704570654,0.7310372287906067,0.5804903104856024,0.8570034752243825],[0.16529692827033496,0.6137519124661865,1.5053033102403297,0.4199508892292793,0.8350311802055503,0.6043518413914509,0.5503396128182573,0.5064116669445239,0.5155882169507733,0.145100881087339,0.3927050025010385,0.9939374617010773,0.7883630238396739,0.27783504216825,0.37911467878267535,0.34895946671640915,0.3127898262942342,0.7783447922843146,1.5209878932676455,0.6878586275885326,0.6998093419591115,0.09588255701694363,0.40287172121863035,0.9180531440584286,0.5319456675551525,0.273865772111266,0.3641601435032726,0.9975808683206915,0.5578378207435466,0.48400155183263444,0.4472253856006712,0.4015423501666357,0.3148324188030313,1.9104715502231642,0.5356749656183829,0.25351522878587085,0.7285134124128093,0.9177421604479229,0.45661301600547666,0.6442181608877242,0.5456253721894453,0.5635889356118209,1.6584016195611817,0.860915616954058,0.4887406077113601,0.7150015643437638,0.25930832420028443,0.12630374533920216,0.7344903095059536,8.708167892590433,0.5563172348682268,0.5634180029294643,7.1254609739051755,0.5835803345417562,0.6415306355995622,1.4267070834666324,0.2968827170839014,0.7719185017759983,0.09343819752015066,0.5392290570204364,0.8533993021264028,0.5010693538823072,1.0495551144056356,0.6970144556331647,0.44929612798220286,1.2056843580534689,0.20825610767183453,0.24656863372059695,0.23881019869119485,0.6054583242994561,0.3448937746932481,1.7952620293115262,0.8080026609829212,5.707015538982131,0.6898251499213098,0.09143626807306218,0.6335111146829997,0.6418024738899705,0.24293642931496104,0.39721357065498764,0.5320645406932403,0.4619789340810574,0.12929405302831393,2.0271145601230662,0.32032680000514013,0.4206365846821777,0.08901242179050826,0.525287710168091,0.23173744745192823,0.0,0.802422143097775,1.6816375866430122,1.204675059209353,0.699605002937799,1.2222283620760916,0.12360484413996335,0.49752716254183293,0.3016726341837284,0.5793843043891765,0.2865819781762886],[1.4814272001260638,0.8024074439920451,0.9494107789056669,2.6586730253674156,0.9022004516357243,3.057209193293107,0.7390036456559884,1.5820640508677222,0.10317277842308666,0.19701780497344729,0.5994092988593226,2.1549890749542664,1.8519412589874007,0.648965405052298,0.9470291083274269,0.3151118900605831,1.060402916448857,1.3488252678500525,3.850679336786367,1.6322317910297512,0.673934638264379,0.3325834045591969,0.8765888896928867,1.5105939580284367,0.9421130068398069,0.6113387499404797,0.9685577264462141,1.8224772782377863,1.1616876726893985,0.8073633764111295,1.1093846463621884,0.2410967466314641,0.5519039431184866,2.707389097907271,0.9228392524771861,1.5188315806532862,4.1867679019802875,1.39532815549867,0.5610144852062399,1.0402386223792692,1.139906789284721,0.586888550426487,2.2290345606118205,3.103590134492372,1.4881535446276963,0.6372906316748661,0.5017323842004242,0.8584724386285708,1.2115476765949675,0.7010686913009669,1.7533363380070974,0.8091434041897748,0.0,1.0531750634241834,1.041006026788081,3.9918818447890265,1.1571157101171516,0.5525595903910268,1.0503395070675319,0.6142297501222044,0.7371620020982644,1.6529050125477134,2.49389824072567,3.4271373043123745,1.662530353529092,1.006739138874938,0.33543407522682545,0.09783485166246463,0.39636430238511794,1.8250366341442659,0.3929459570734933,0.8191295048068568,0.7393790073973456,1.030209318923354,1.4148976741449106,0.14930562893006186,0.9749971712944342,0.9179600386905055,1.4224181358037697,0.6554540067563436,1.620356899775591,0.48785277551545,0.6817116398105075,2.1348850066738625,0.32856925136022785,1.5598104384733533,0.8100008704333107,0.760421680604354,0.5043621657825296,2.5934270778796966,3.2064160756225775,1.987078036827351,3.0225589432995053,2.1161071146882215,0.20692301290393134,0.7750634300263132,1.8324112172057687,0.5345583332480107,0.33578274705701483,0.9475710620957204],[0.3119398743854096,0.23935425302375135,0.3059573542673627,0.09631194398089522,1.0897359106544784,0.05713391738690105,0.26153916029483903,0.25673261465309116,0.7260494711286982,0.13513944115695536,1.0834353512554917,2.689433795846349,0.725817293479862,0.2411183553545244,0.5903211822648451,0.09708072375898331,0.5738842410914811,0.48543453949055476,0.5524307568654085,0.5122944658168335,0.15499856203490167,0.11874491822592602,0.8502183493036487,0.28608205713130597,3.9310123264825787,0.9742021638838291,0.29361391016265853,0.09731949288115983,1.0725516109285198,0.28653848950672944,0.7354812601843441,1.1313928396419666,0.6058229660306124,0.2523344858955082,0.19698718506483828,0.47295817259987694,0.3740551871476609,0.9551006142995683,0.3795224164622621,0.2644728276158273,0.2952196548725897,0.23424536546025684,0.17814608919679867,0.0,0.052404895578347634,0.3363479785650212,0.7758383264455128,0.12125563459553775,0.4424490094706649,0.38536806102487275,1.1912033094061985,0.8068048277246435,0.1825532347590174,0.6997862087723289,0.5441006821347916,0.040307543530915584,0.11011004592320237,0.98991569408052,4.76646845088689,0.21369714053642377,0.09603056030935112,0.2522540527226391,3.8747797342248176,0.2018066212017439,0.5352652199000133,0.21904683235104505,0.13553984770711605,1.7961001580992069,0.6219402125099326,0.37225335176713753,0.48329776283209924,0.05007492353252017,0.2701978652124028,0.37292838666983796,1.1843209629877696,0.5414094194735294,1.3234071333490072,0.4557052028167834,1.659077079631774,0.040069133238152546,0.04264923782050491,0.3048785421105629,0.2535282334404652,0.3353114667531225,0.4084755521200687,0.4404029158678054,0.21199355990661653,0.09205725583873571,0.5676788597485534,0.4991066793589211,0.2726344859163193,0.1758536381082602,0.21121123439427011,0.29006772646239215,0.9739040759526303,0.20248326693636381,0.762124337296774,0.7515019815537943,1.3641088091381328,0.38213555139638217],[0.29052470041556744,0.07887458505115073,0.09328113050967404,0.3316905776075979,1.0668042120824799,0.3140665638280252,0.08221265867862557,0.7189924867403172,0.4110338512272048,0.0362845108534898,0.29658764093978845,0.48640216379249607,0.4419367311601636,0.25895805123762905,0.643728615778829,0.2613313295651874,0.261304332052737,0.03674280078870127,0.26503307216575017,0.2122977377161979,0.24112848087146369,0.21391123038742535,0.7597634640845079,0.2824468943581537,0.25855238022059673,0.7360133054479179,0.19368036264641228,0.16893716763834032,0.12222070054250188,0.3723638469538414,0.09095911831888286,0.15509029195009102,0.8250972532746541,0.25559400737540405,0.0934283923983645,0.25991964725978256,0.30619900620753276,0.31311507135077704,0.2588953834029331,0.19559342561530024,0.21724631183967338,0.4007315912676557,0.2188081078545192,0.5548176578845496,0.19783191240232073,0.18002695850367723,0.5112299697537248,0.18550839061171426,0.3800777957593728,0.07999629267854312,0.20469395599722792,0.8641288535962096,0.17977837332197105,2.580196784891781,0.677317703126948,0.12060026176815969,0.3728688240857981,0.1648399524228247,0.7499668790037611,0.3998220772852542,1.2254867571153019,0.24725752441212032,0.10848180505340928,0.17332028389030868,0.15828925834086174,0.2611314164253627,0.08155971516692077,1.7961001580992069,0.5153208700118878,0.2289304546298683,0.23617032483550332,0.4316452464500181,0.2850857616080825,0.17074357654403133,0.29083252967942774,0.2196880195284405,1.2791525369513461,0.26531205123492013,1.5301113809382296,0.15432562011674236,0.32200733108675367,1.1290260783072692,1.9671954473846418,0.24910929067108067,0.470447367080237,0.0,0.16005791973758457,0.5798810724825265,0.1817184913033075,0.1911205682175791,0.13813122826575128,0.17303593105858217,0.32427549928917376,0.35582037880207834,0.1305560510684847,0.0949449830734678,0.6467631342195048,1.6211252435264123,1.1870291506950297,0.403549869264511],[3.388805713580426,1.2689726882136856,1.0507557114804043,2.196443353830653,0.5859211832775012,2.199660518734551,0.3577341453610923,1.5972169726646368,1.800339299027962,1.0124522392365007,1.7687860454952034,2.258891973722699,1.7644191636313018,3.899138789098131,1.8195796488954112,0.7732180237130228,2.5988309175869984,1.952087789130153,2.275683944773936,1.762632777381742,2.2529389966791253,7.812343063607745,0.921929665294149,1.401669687452933,1.5296982190340231,1.3208245280407607,2.570677070365073,1.4508780916317807,0.0,1.577780550272622,3.109180329353523,1.7636051016121739,0.7039428932330719,1.337789323143376,3.1282590013060445,1.1965686372019102,1.8527913789036898,2.326849347172762,1.5186529133816837,1.1740162114551365,1.6810887805427492,2.931815918199381,1.0247537912766316,2.279711290367823,1.4983107489992586,1.23212327409115,1.7665293108752416,1.0239763028644728,1.7987062880619948,0.4312699724815019,1.9100460917206894,2.460935825411895,0.8596285800326622,1.3988606893125821,0.506702788859818,0.4633083877731034,2.516353629978333,2.220661635453213,2.7231664944468994,1.921964537125391,0.5943202816930253,0.9361540401027959,0.546916806509947,0.9219946478097182,2.2579753033170564,1.645188933809147,1.404906908374199,1.1204286533200114,1.0498273815624377,2.4098881019564122,2.1319322254820436,1.5812090939557746,2.2228366958310937,1.0499698298839775,2.590154091657603,2.886245919158457,0.8494465475070855,1.2280613386122383,1.3268789623303479,0.37350779187852534,0.6864094855306315,1.0366317842000146,1.2885343577393966,0.7913176395975751,0.7734267501367954,1.6868189508574174,1.3754589154863497,2.122653875140596,0.6568648228324684,1.7938422926206,0.5833273542482478,0.7515597396283148,2.8139630175214654,1.2274047045336909,1.83959208034511,0.984548763970217,1.2278085135742023,1.276570590878775,1.4941250400054538,1.5026121359451503],[0.061756812331299,0.06334990070743354,0.4556269485838537,0.06242566081136587,0.9638310400935143,0.27296155422746826,0.6055201818529337,0.7641553095557407,0.16157928986959372,1.5436681695104804,0.8663485253728209,0.09408016667179292,0.12409802666850088,0.3245574618673243,0.2264739362370556,0.5535474578703922,0.2887262823524818,0.7141018651784331,0.3152429549215902,1.0218551592002278,0.5531383427103416,0.4036982687231656,0.8336416507359747,0.7348950616895906,0.269530709587581,0.9905384531799833,0.1981670531151584,0.04690743116470804,0.5629425736063776,0.7621609860185459,0.4787502825739401,0.7330498233803182,0.7497773657075497,0.5216950566378025,0.609832104698397,0.004418404354942559,0.1130902734375095,1.3509467716419126,0.03134410265065336,0.14515489355646516,0.2667925499912846,0.8788468958981134,0.5652699478963287,0.2843421404286295,0.2342066893467743,0.2553230267825342,1.1214434717213726,0.43847396747392525,0.6795338539268646,0.04509760718617178,0.6738132037123526,0.6754855577300516,0.06422350341008722,0.07123825367800221,0.8150877861454894,0.15615979811385974,0.9903582177506804,0.8474179524565209,0.14430442516173628,0.8182153702283284,0.6859955365193596,0.289555496523076,0.2772940714958751,0.13597544408305887,1.1903387668228187,0.1179330473041876,0.0653422054876315,1.7961001580992069,0.3089783485312088,0.0,0.10118649544086326,0.7968381898331232,0.21331398933553686,0.15001414164925547,0.6285168696417449,0.47938681117841525,1.1917703690776609,0.6494604089121365,1.2522875286370745,0.0846804749436111,0.11302657016014854,1.338244312040439,0.1510749616409347,0.48801505409599494,0.7454189445956226,0.6479893488120202,0.005762186677113899,0.6266203081936172,1.3956284038374478,0.815679250184817,0.18853933798166259,0.08430428899745754,0.03793826325142786,0.8642424556352797,0.2450895932088354,0.06934646497001129,0.4865521647374632,0.04309775249393781,1.445316972109701,0.3313052515243723],[0.24898823074651338,0.1227988467519608,0.06076429267790517,0.09647123972056848,1.1257483163866358,0.08107358479778658,0.3616774073485224,0.44390238244929375,0.2739641625416982,0.10975374048294079,0.2692971311242001,0.24175865051861994,0.6449350717424839,0.515671741781952,1.0932129549448368,0.4234701290500895,0.467052137243209,0.6251624154064712,0.24967980981380386,0.43250521235418626,0.4657647546366177,0.3171768456697695,0.41023375750535745,0.31535844652951417,0.3801737894782656,0.3975536252691675,0.2646895828846663,0.04104440174955228,0.3396764560116492,0.570146242422554,0.32700355690655,0.08345743608319739,0.47327162341196954,0.2527518430570451,0.4009909249067573,0.09575604238181841,0.28100537769913675,0.4623955185641004,0.23442592059618925,0.3017033443677091,0.26285152542842544,0.43546255105017173,0.20719771693538305,0.2724379601835894,0.08529880168813388,0.1993923315645096,0.2926502123369426,0.0,0.7983771799421893,0.09218040791617657,1.2522946254505296,1.229571189396281,0.15105427558656517,2.9359195905243114,0.543610241574563,0.0569988869006644,0.5754373657569667,0.5902101206457876,0.6209417290073587,0.4325605240916872,0.733787610817582,0.1937146426209648,0.07938794071237612,0.1760577643315254,0.04052300542033133,0.16455684895762446,0.16097734580774015,1.7961001580992069,0.3860418595710665,0.1642399359864905,0.23550669270230093,1.192211026633213,0.060661756244084514,0.24361642782230825,0.1466188504385376,0.2186405280601888,1.3071361119678788,0.27069077061761526,1.2866712961113167,0.09262016529474669,0.34175822233342673,1.6341227886704248,1.520343959427698,0.18740351748182726,0.4802325117496663,0.8759607843961182,0.2548130295627697,1.0211350700970947,0.07370971688797738,0.12271062167388093,0.18091910044894072,0.20969581857398073,0.05769833932996724,0.5021418691854385,1.2047021535917268,0.046648175982525,0.824843814398541,2.618476917351455,1.265776803161019,0.06554239476081757],[0.0,0.0010057820771756465,0.0037674861449886513,0.005933279679014942,0.7133604913604363,0.005637524521205986,0.1353854236398551,0.21077742834645338,0.000494585070721591,0.0009095601430672244,0.11905970960080578,0.0057783513111654815,0.0008709297786064573,0.03478420011240927,2.2127882984840634,0.04269176246534394,0.0008941499078008571,0.0017016222472502672,0.0029333420259502977,0.247954625044661,0.04231298439820884,0.019738801064091847,0.38745955715217145,0.23414125107460187,0.000338361175719831,0.04912759930184288,2.175567052606741,0.0007661318682220082,0.018873678627047134,0.11721739746457796,0.05265958756857788,0.008132036845403975,0.3155711983788733,0.21722731454045813,0.12484358220453311,0.0002511880502032389,0.00037348208127103543,0.2616830600865244,0.00015789206474310795,0.0,0.0018666458836794028,0.26584552291457647,0.11688263963259704,0.0053675288468858755,0.08404767957902433,0.0013653699864967675,0.1092700145260419,0.0,0.11218031358168314,0.0,0.04867605573014547,0.89465512954971,0.00019812341871940407,0.08279457689439554,0.5320408295490039,0.0005904572207580155,0.07006253574208421,0.021144910696533174,0.005005673222450292,0.012885857914728838,0.1947191021498744,0.0006288458697040912,0.027254307643812526,0.00016249792195130688,0.003197409995716617,0.09087713855392994,0.001128147274710413,1.7961001580992069,0.1452441946114713,0.0004407445654624775,0.002843686805179565,0.40773197467716077,0.0045529451385138975,0.0,0.0006617242391168485,0.46779195735142265,1.1766635151020597,0.0,0.613087686661259,0.00015387593462261876,0.02551693816410875,1.2484297702362217,0.09429653648275381,0.05187794797525354,0.18182318314059093,0.1639681082897787,0.000352781279144556,0.5249517228507694,0.0,0.09232739670448249,0.0,0.00010451441098223736,0.00023964503380863439,0.02860184645810656,0.0374905806094806,0.0012939073978544943,0.4997985652200248,0.010828589234519868,1.2623042669464453,0.02033293998806823],[3.176259672774806,5.1982081014835675,3.274630380200657,0.8566819557636569,0.3279605395412834,0.6018140909932457,0.6907797565003787,0.47217344845745235,1.047639167132882,1.159300202874093,0.9693369754112313,1.2590608119918147,0.23018167469919992,0.8054123744291343,0.6169884104160124,0.2726905524815526,0.4197881174461219,0.4058153704528239,0.35954617597059574,0.626987054599113,1.4358154135485934,0.15009445782624797,0.27376729168954733,0.7662979815540869,0.46642263336553386,1.1486297307425573,1.2041111785468859,0.481979011990663,1.5506522712176258,1.4465717115821426,0.6956592416099014,0.3387376947848054,0.34179432500650375,0.277954372167124,0.963844830501511,0.3674559752741623,0.3467262421991288,1.1625411399175072,5.170306395016575,4.354097361411541,0.49908207931020515,0.6300928343352342,0.2460622616516274,0.5093258853120974,0.7544020072596933,3.2199289307004797,1.6275460037335419,0.4087147213981866,0.8498540948798351,0.4200600440584988,1.266045382931988,0.6550845336287284,0.6799839449506675,0.3222349247210178,0.38598060384140326,0.31302019888139293,0.7396034328133811,0.6488019006070779,0.47401688068872994,0.21884296927953356,0.25818042487587545,0.2361859157648675,0.43288194840406935,0.45714166490216923,1.0839253527723969,0.26918580600582603,5.514980742800001,1.009681560628929,0.1719093950335951,0.23651027678063113,0.3302118346388704,0.7357375751327478,0.88981538559319,0.5009880752617248,0.0,0.6425779436591387,0.24650698366112997,0.7888574442350718,0.36516417743374113,0.3809398139216037,0.14974708276492735,0.7106090014229667,0.7870985374401618,0.5187044626843581,0.5250672424205631,0.9366236584242238,5.776057544661512,1.5227495969453981,0.5758119814118209,0.5862672026676836,0.052649056709689536,0.2646194097562766,0.44495426260544896,1.115884517038838,1.6644338974579032,6.13119299758475,0.9978003057214351,0.09046705089255924,0.7130653563557802,0.42641226870945265],[0.6606380752853686,0.4352037751249558,0.05004994641193559,0.0,0.3251223175217108,0.5420816271899652,0.4497317321895545,0.32312388726688623,0.5392324863093395,1.2574385738924592,0.9463704449532954,1.495508612882417,1.6343516437706294,0.7772914681473532,1.4700080424086988,0.3056162770968528,1.3450356774543566,1.1592731608609457,0.4930948166480352,0.9324426800454909,2.2796734723992316,0.7296345388301283,0.103997043226813,0.809499485957807,2.0026525059645044,0.3749424157529921,1.2575822404838148,0.6387144420688909,1.945464661832956,1.3330843554109855,0.9053327167865243,1.2660358402139131,0.07018310326623461,0.41578690963270637,0.6718055254173261,0.3546262521630177,0.9227408371578029,0.5825515187058988,1.0545422264898565,0.5277486472181069,1.1411557115994806,1.7704660070875953,0.24944433329666638,0.294925667999546,1.0121838147523878,0.8652634236594287,1.0449282753126194,0.649189871241022,2.0019482180602743,0.32743333660511686,0.6400122240582709,0.24775886641061431,0.4195647703682935,0.8707554941994387,0.39508008931680316,0.3406559312495948,1.7520059115418753,0.741155954895962,1.8858826342683492,0.8930830315554138,0.22313378991886287,0.5014669135892771,1.0981327124139992,0.28235557189923643,0.8689213747767833,0.37937175461811573,0.6666154114986004,1.7961001580992069,0.13900331767059482,0.925023390227068,0.3363870834014395,0.6160722364514715,1.1492062820909559,0.3516335280005079,0.6673502167410026,2.8242315684791546,0.24979520221631304,1.1635183796503046,0.33563285585790775,0.07519895267184361,0.419104158133921,0.43961416603333975,0.91334904880186,0.7443041113280203,0.25336727198354975,1.040362388517323,0.18198168986996993,1.4695828346265452,1.8737317530807822,1.3406945806957409,0.7113514119692713,0.7320899703937045,1.3403068012797528,0.7094019163212021,1.017866317314772,0.21407030781241612,0.7441070586450474,0.8439811952414692,1.1676758150525677,0.3263811777710165],[2.430269066044041,4.713273391887372,1.2628664279901505,1.2897840912199423,0.5481506395606451,1.0533532072615195,1.9270352006087357,0.9183953118692798,0.8703135698979999,1.1216305404556899,1.3382803358749822,0.34156550409574654,0.6185034055476424,2.216420988377393,1.246634437511,1.0444296070276267,1.4804740479397243,1.2022047759034626,0.8230992677360512,1.0149798226586575,3.2778027262257057,0.09149099054247595,0.44166482065138224,1.317172438520819,0.9623462705008415,2.8395963726086015,1.241003739193658,1.353077683893114,2.0833190099582573,1.8284108118987994,0.669107335017289,1.5132005969642421,0.5001177056126832,1.2335020489231632,3.042501324623322,1.162999237692292,0.6916879274490907,0.2628175762136175,4.8979634410963,3.6751723490798773,0.9206789263973558,1.422444234249589,0.5906819699111315,2.0357482320085967,0.9950071590023815,1.9152961162445634,2.651052922048282,0.3803750654600277,1.0420355950666287,0.7027310698933386,2.7108832976827606,1.4725547659952365,0.8911013623228294,0.7386805390911055,0.5820809853178032,0.48541769045144495,1.0591571656659464,1.478730464716184,0.0,1.4847909893542006,0.5979596029858388,0.9579051989340402,1.6284290762966223,0.4729147953406101,0.935122458168442,0.502297478825884,3.9705168642841566,1.796100051043295,0.26763528859456837,0.6438704981751849,0.8626399242177057,1.6153520036800404,2.230531857673019,1.2715918067153673,0.790930677061148,1.1614228258091013,0.4549653335367981,1.4522792780112979,0.3781725605725219,0.40711125125386477,1.0738352130380875,2.0455912321886807,1.5751984717446592,0.553611272191454,0.9315972223230259,2.2644625697909486,4.678453253889115,1.4973813237648472,1.2757125447705506,1.273520959257982,0.41636962655731447,0.32490502411770983,1.34731687558848,2.280038665530514,1.2592383713196846,5.569556710469347,1.1196689241117905,0.26587645265294213,1.2203584693763767,0.7519178128350859],[4.08680293981111,4.838052049211149,4.518604526753117,0.44715202874893323,0.39162167021594,0.7825120484347017,1.0493383750749787,0.6725973513186211,0.7480548493544744,1.0479580819275296,0.9724891768450269,1.7048686133341098,0.5054679475704733,0.4175251867090343,1.5870634898940583,0.619378241732978,0.0,0.9497945947652255,0.0,0.7135361516957544,2.4160830449088557,0.9372145250112258,0.2801654946244332,0.9920471556076923,0.30208051025058646,0.8878431279205866,1.0796347051915918,1.2128063148836699,0.5711877958730103,1.0247103976025833,0.6585403124734235,1.0322306534042975,0.259632264435277,0.7098064908012566,1.0443704382196113,0.33638173445499564,0.33343558828753955,0.8868581651875955,3.0923568157815726,3.1003983456090896,0.5787105897570554,0.30414311266568045,0.46139169144232606,0.4545979300911156,0.8211465740420695,2.57182440035882,1.8808022121577292,0.26177608019530646,1.169069434462421,0.008011193782597794,1.4498763001752373,0.9701013277308045,0.18793468247191475,0.6071771664556956,0.5761104617667528,0.4161062501689463,0.8001596857862561,0.8010047022258631,0.15349947766538208,0.9797399998910216,0.38215340271033504,1.0071906516205935,1.2510964330783925,0.7525720448027281,1.5690814072396624,0.2542447785505877,4.503827121088139,0.8641769461875399,0.410088040764231,0.46910410757796966,0.7823080943477234,1.4271016032325825,1.0122198314262876,1.2082246546754225,0.6486998108535266,0.5761870565995816,0.47670865447945854,0.7675650400035349,0.26729436208314045,0.4121299061588287,0.5049245724320554,0.7408651143977755,0.8642153528566462,0.5347154128291984,0.5641131684729823,1.3319626307267445,4.71447394654036,1.643110130560239,0.7394293098400476,0.808922570082548,0.5885844999063075,0.3032506307119466,0.5749884282307222,1.6950995376776357,1.0459582958957818,6.13119299758475,1.0345178064994165,0.4336370714762216,0.7767415079528972,0.3864263865488148],[0.9213689379040199,0.6922394485593273,0.9699886407205783,1.7470737086880193,0.9745751848107203,0.8836625515133875,1.1068680586934734,0.7458303825648716,0.6836806910718577,1.719811829701505,1.1722982815201843,0.6814187499189297,0.9656657342559575,1.0527042194499128,1.9109746827474547,0.6780969950365883,1.7464330742916405,2.125274981038824,0.555718946294108,1.4840673515721343,0.7367550612900214,2.3807390970299327,0.6165136035125138,0.9857991748866229,2.399350039512096,0.6200622548921271,1.0697011041999913,0.5809518501118047,2.846089406198672,1.6369533179589337,1.66373910452772,3.9564256020038577,0.662927645490629,1.0798417238743383,1.4632921285934914,1.124056645644803,0.9127965334327991,2.05167758479023,0.8370027437653,0.7953697894654337,1.4092652665756558,3.800355041430126,0.7565055508377652,1.2464320654262682,1.6885856451911614,1.4509344440630247,3.0800445952829754,0.8022553697844054,4.483824967366511,0.8401751720068159,1.3462810140990404,0.37370385789054344,1.2957919782791556,1.6363025447026398,0.672654854061605,0.45635772475967884,2.188420359460646,3.224125820230772,1.5388062429726,0.9333988406899224,0.5941032619214057,1.8640459709476336,0.0,0.9956660357358336,2.72747469428438,0.7633211714218688,0.6721563257627855,1.567765099946343,0.7333824044893432,1.0509653274409088,0.9764551188758704,1.363622431402425,1.3930065356053718,0.682674487427586,1.532160211714741,2.886245919158457,0.7631196538292266,2.1308425656343295,0.79788997965501,0.6885887556251652,1.1177150441089003,1.3711471297053195,1.5707724872570914,0.8434719611961262,0.4818580065870873,1.751528259104885,0.20644307464418457,1.8632510515618947,1.978213114822065,2.9474228009746644,1.0190372260449723,1.3743121867090091,1.3033809687224054,2.6983042932551484,1.4720105183896464,0.7307324458055094,1.2764142140961177,0.9224695995466927,1.4454292149610621,0.7106759936712461],[0.2977250270171478,0.2462240345335893,0.18412777347819811,0.0,0.5475460175634204,1.6757268789166995,1.1297703076742858,0.6845381377773974,0.9691551524560653,0.7967953026674282,1.715780357088903,1.5294710191947765,0.8002185685975176,0.03791086299714656,1.8568550923059974,0.3552556921319181,0.7476986956656556,0.8909070538839721,1.3129371285372862,1.8945966741885076,0.5659616014112115,2.1069296288653026,0.35889606430924526,1.1431184482705914,0.9265725582070232,0.19241187615429173,0.9394516522191698,1.35579105249265,1.6287062176448348,1.0024122871659609,1.844621925846244,2.251352822944643,0.46313769486801915,1.0146136774367753,2.162555533013887,0.9220204743928914,2.426306648986062,0.023151174828051537,0.41397477108230585,0.5662778528193302,1.4152940363510307,3.8398635123225837,0.5374521487069173,2.0569721487980703,1.0098639731166743,0.868534604680376,1.6354029421451672,1.1374617887009437,2.678032623559309,0.5270072976869472,1.1705751152672812,0.4079375429414064,0.981196035831029,1.2846990926722306,0.512745710481054,0.4206998713551926,2.3255235909895937,0.7267079819870094,0.9015883420640209,1.5151249458413025,0.4708673528064444,0.6970547652613783,1.664994566628259,0.426050797109986,0.7151099822949479,0.4336164166371152,0.6026398964985176,1.6442685392642604,0.34160503349195753,0.8636529726054316,0.7123926662665381,1.221261298767452,1.856434409766341,1.0022168468620667,0.6773647772573426,2.8197043306103344,0.5896703124822013,1.649204369985786,0.2520954178931047,0.29585962602359883,0.7908545269235875,1.6321130463072746,1.1546884776914408,0.6855611149084992,0.6091785172977614,1.8117257900041632,0.24665380765807904,0.7636426359444461,1.6435865436560302,1.8873039768561701,0.7831105372025591,0.4201712157139338,1.0472026108875252,0.8529030712996648,1.9966369094246734,0.14135315992256517,0.11271980589988888,0.7338462897655512,1.543543083396719,0.5557667827645125],[0.0,0.0051364666723630655,0.006188063376728249,1.2300255400875915,1.9991159214859835,0.17251855675427544,0.023866771787629977,0.15833765548102244,0.007820120484396273,1.224623827487657,0.7237859154269435,0.0025577775980769827,0.0,0.7643278161372448,0.1466301980855303,3.000608044472314,0.005894862627155475,0.035334341643051215,0.020513099002902817,0.28417599531006354,0.0038692234720627008,1.1438122822849461,2.6626715523432685,0.8053918754507411,0.0033641600890304624,1.1519184785424466,0.041033700071108625,0.00607343643616982,0.10076607122234113,0.46342943899841726,0.1374668599380653,0.5145515475729627,2.894279102935378,0.09951705153030353,0.2847988249519951,0.0014929710350509936,0.0036652195144306226,0.14777527071107074,0.0015599783280822214,0.0014336874190138845,0.03015270802640463,1.5342999590912805,1.2038330948251879,0.17828873740523374,0.037273339190545124,0.0033415896025795096,0.023405455783134774,0.0015046731936142347,0.11658301544582071,0.2121433715841113,0.3936718440359264,1.8017958442620159,0.19133487929782472,0.2639501572180777,2.1723183751263364,0.0032699739148998068,0.06260300077432739,0.19150904700209662,0.0074797599675716035,0.4243990322478628,0.2911307546872482,0.10869386959611456,0.10416907167917921,0.09129939244710769,0.3500884762947198,2.3028071186109362,0.03169822493030543,1.636946771337286,3.0854056410927564,0.05109375229208449,0.025426186559900227,1.1930841172577034,0.0360403755645557,0.09427849016310551,0.12087651434548843,0.2191209750718223,2.163982250055606,0.005258297845658064,0.6423457947618048,5.906865799916833,0.6039909560571313,0.2547931077404191,2.471748196327596,0.07446033984584412,2.9189332708210403,0.27067314356686206,0.002106448100822071,1.4045622120688745,0.0070185595837759795,0.3328910590584697,0.016669912306232756,0.0049116104868453655,0.009465185153354802,0.3093703082527707,0.10482923176790773,0.011824581803488053,1.170448620076412,0.3681061814694385,1.543543083396719,3.7284722720221923],[0.0004451611819164939,0.0005331920363952315,0.0,0.05200435154726841,1.3143843587457236,0.0017393984955473313,0.031139192785422883,0.006585606288827242,0.0018167690821878709,0.7448028181305201,2.001540000520234,0.0,0.0,0.005937885409577452,0.0055857879312816725,3.1976187340209634,0.0010919667240007313,0.005795562810902926,0.002451567676435316,0.012498102091002404,0.0003012008345840429,0.07331136736307046,2.5189704650613187,0.2509533507610202,0.002476069224959353,0.1345395694084496,0.0026753456227067217,0.0009356266762388009,0.0014405742286902803,0.2414272560378279,0.008816689724746299,0.00884591097746663,2.7346926682960886,0.023817265619103144,0.00289500654857265,0.0,0.0003416347507739417,0.043787011966567514,0.0,0.00033548641474254404,0.0024907194412225,0.07389944906334382,0.8164486296406104,0.014859386368943805,0.020571624740540306,0.000313465029079262,0.0017868744873676494,0.0013810685491725987,0.0014821685293344368,0.0,0.0038898208162175566,1.2483558789750349,0.00036245832488849915,0.0005238800950230239,1.4416923320657353,0.0,0.009766867508566937,0.004295188245429329,0.0006290960849796337,0.002436503169520081,3.1396566047842422,0.004216296489163596,0.01736036853820884,0.0011844687407805534,0.08788555075475944,0.0,0.00017684603169556643,0.01087754389432908,2.737259795247461,0.13327826246132057,0.0032561805567269254,0.02366344061000642,0.003817650195355357,0.0007404470181761216,0.016166702761813322,0.30764246604487744,2.5543472215041465,0.0028999805212267652,0.6357347618845064,0.08308834208645338,0.07674446678371342,0.0023512331218331307,0.07952656302831262,0.0008876784370941367,1.3508646185072473,0.002289454611122262,0.0,0.4001569720011221,0.006114785108465054,0.02496192620050779,0.0034177086950248643,0.002855322801776459,0.0,0.001436431353484853,0.0010674756894677273,0.0007368329261515905,0.26056894479439624,0.03469903211058845,1.543542991394382,0.028678647869705018],[0.3304778206730699,0.0,0.13739818596215814,4.344668670387047,1.669476194956379,0.6417086314633966,1.255593532903261,1.0917496052469091,0.8635156159711392,1.208030560252318,1.7850855160222574,0.4098374453744901,0.24925874146210647,1.8967440177185038,0.9705626911389064,2.6464258210638594,1.6213039135248215,0.5304102532981279,0.6907536899176042,1.0832088056948586,0.4690247979666461,0.8705886063501802,3.043564345665171,1.14984177109589,0.5155867935716565,3.251991047221383,1.1556360959781242,0.736941540048765,0.13042078667906398,0.6787731044344321,0.30407390021456115,0.9754017534335876,3.5600793939649296,0.35388332116306387,1.4186575835786208,1.1149803590524496,0.9402574615027324,0.45410317665529887,0.16475336383615563,0.2672814188680795,0.7820512012297123,1.3164395229111168,1.2161690884678902,1.679245643783534,2.361597602883319,0.07804282142075822,0.43444566179406585,0.8071149056825629,0.08608189635641873,0.23542017544627716,0.9139820730425624,3.14538143505765,0.7744283455971247,1.432352808242204,2.935832431502475,0.3391728307208107,1.3934112307080027,1.3408337160475199,0.31040210228776727,1.163274131528497,5.83965913085719,0.7508932559089658,2.038871778162401,0.62440909067094,0.43487540600910773,1.6552664482865203,0.7108688135559565,0.47379376294281267,4.308329210338556,4.0967426679588375,0.6372393477095065,0.9236607078095448,1.0708688240687667,0.7440945780140755,0.39061176587269675,0.581662931093198,2.6341245251975214,0.753618498495574,2.492862177366943,7.742690640312037,4.505154749974209,0.7241029440486856,4.363718765449859,0.20292158054700674,3.615138629382347,1.1757043539377512,0.2424862258256844,2.0467672012106473,0.1521193945641994,1.380657738596344,0.7157511840789291,0.2613885463755381,0.32547357211482836,1.1210309000622867,0.7228228804651983,0.36164329419609637,3.1348696635692637,3.1158514624590845,1.543543083396719,3.908587910359838]],\"type\":\"heatmap\",\"xaxis\":\"x\",\"yaxis\":\"y\",\"hovertemplate\":\"x: %{x}\\u003cbr\\u003ey: %{y}\\u003cbr\\u003ecolor: %{z}\\u003cextra\\u003e\\u003c\\u002fextra\\u003e\"}],                        {\"template\":{\"data\":{\"histogram2dcontour\":[{\"type\":\"histogram2dcontour\",\"colorbar\":{\"outlinewidth\":0,\"ticks\":\"\"},\"colorscale\":[[0.0,\"#0d0887\"],[0.1111111111111111,\"#46039f\"],[0.2222222222222222,\"#7201a8\"],[0.3333333333333333,\"#9c179e\"],[0.4444444444444444,\"#bd3786\"],[0.5555555555555556,\"#d8576b\"],[0.6666666666666666,\"#ed7953\"],[0.7777777777777778,\"#fb9f3a\"],[0.8888888888888888,\"#fdca26\"],[1.0,\"#f0f921\"]]}],\"choropleth\":[{\"type\":\"choropleth\",\"colorbar\":{\"outlinewidth\":0,\"ticks\":\"\"}}],\"histogram2d\":[{\"type\":\"histogram2d\",\"colorbar\":{\"outlinewidth\":0,\"ticks\":\"\"},\"colorscale\":[[0.0,\"#0d0887\"],[0.1111111111111111,\"#46039f\"],[0.2222222222222222,\"#7201a8\"],[0.3333333333333333,\"#9c179e\"],[0.4444444444444444,\"#bd3786\"],[0.5555555555555556,\"#d8576b\"],[0.6666666666666666,\"#ed7953\"],[0.7777777777777778,\"#fb9f3a\"],[0.8888888888888888,\"#fdca26\"],[1.0,\"#f0f921\"]]}],\"heatmap\":[{\"type\":\"heatmap\",\"colorbar\":{\"outlinewidth\":0,\"ticks\":\"\"},\"colorscale\":[[0.0,\"#0d0887\"],[0.1111111111111111,\"#46039f\"],[0.2222222222222222,\"#7201a8\"],[0.3333333333333333,\"#9c179e\"],[0.4444444444444444,\"#bd3786\"],[0.5555555555555556,\"#d8576b\"],[0.6666666666666666,\"#ed7953\"],[0.7777777777777778,\"#fb9f3a\"],[0.8888888888888888,\"#fdca26\"],[1.0,\"#f0f921\"]]}],\"heatmapgl\":[{\"type\":\"heatmapgl\",\"colorbar\":{\"outlinewidth\":0,\"ticks\":\"\"},\"colorscale\":[[0.0,\"#0d0887\"],[0.1111111111111111,\"#46039f\"],[0.2222222222222222,\"#7201a8\"],[0.3333333333333333,\"#9c179e\"],[0.4444444444444444,\"#bd3786\"],[0.5555555555555556,\"#d8576b\"],[0.6666666666666666,\"#ed7953\"],[0.7777777777777778,\"#fb9f3a\"],[0.8888888888888888,\"#fdca26\"],[1.0,\"#f0f921\"]]}],\"contourcarpet\":[{\"type\":\"contourcarpet\",\"colorbar\":{\"outlinewidth\":0,\"ticks\":\"\"}}],\"contour\":[{\"type\":\"contour\",\"colorbar\":{\"outlinewidth\":0,\"ticks\":\"\"},\"colorscale\":[[0.0,\"#0d0887\"],[0.1111111111111111,\"#46039f\"],[0.2222222222222222,\"#7201a8\"],[0.3333333333333333,\"#9c179e\"],[0.4444444444444444,\"#bd3786\"],[0.5555555555555556,\"#d8576b\"],[0.6666666666666666,\"#ed7953\"],[0.7777777777777778,\"#fb9f3a\"],[0.8888888888888888,\"#fdca26\"],[1.0,\"#f0f921\"]]}],\"surface\":[{\"type\":\"surface\",\"colorbar\":{\"outlinewidth\":0,\"ticks\":\"\"},\"colorscale\":[[0.0,\"#0d0887\"],[0.1111111111111111,\"#46039f\"],[0.2222222222222222,\"#7201a8\"],[0.3333333333333333,\"#9c179e\"],[0.4444444444444444,\"#bd3786\"],[0.5555555555555556,\"#d8576b\"],[0.6666666666666666,\"#ed7953\"],[0.7777777777777778,\"#fb9f3a\"],[0.8888888888888888,\"#fdca26\"],[1.0,\"#f0f921\"]]}],\"mesh3d\":[{\"type\":\"mesh3d\",\"colorbar\":{\"outlinewidth\":0,\"ticks\":\"\"}}],\"scatter\":[{\"fillpattern\":{\"fillmode\":\"overlay\",\"size\":10,\"solidity\":0.2},\"type\":\"scatter\"}],\"parcoords\":[{\"type\":\"parcoords\",\"line\":{\"colorbar\":{\"outlinewidth\":0,\"ticks\":\"\"}}}],\"scatterpolargl\":[{\"type\":\"scatterpolargl\",\"marker\":{\"colorbar\":{\"outlinewidth\":0,\"ticks\":\"\"}}}],\"bar\":[{\"error_x\":{\"color\":\"#2a3f5f\"},\"error_y\":{\"color\":\"#2a3f5f\"},\"marker\":{\"line\":{\"color\":\"#E5ECF6\",\"width\":0.5},\"pattern\":{\"fillmode\":\"overlay\",\"size\":10,\"solidity\":0.2}},\"type\":\"bar\"}],\"scattergeo\":[{\"type\":\"scattergeo\",\"marker\":{\"colorbar\":{\"outlinewidth\":0,\"ticks\":\"\"}}}],\"scatterpolar\":[{\"type\":\"scatterpolar\",\"marker\":{\"colorbar\":{\"outlinewidth\":0,\"ticks\":\"\"}}}],\"histogram\":[{\"marker\":{\"pattern\":{\"fillmode\":\"overlay\",\"size\":10,\"solidity\":0.2}},\"type\":\"histogram\"}],\"scattergl\":[{\"type\":\"scattergl\",\"marker\":{\"colorbar\":{\"outlinewidth\":0,\"ticks\":\"\"}}}],\"scatter3d\":[{\"type\":\"scatter3d\",\"line\":{\"colorbar\":{\"outlinewidth\":0,\"ticks\":\"\"}},\"marker\":{\"colorbar\":{\"outlinewidth\":0,\"ticks\":\"\"}}}],\"scattermapbox\":[{\"type\":\"scattermapbox\",\"marker\":{\"colorbar\":{\"outlinewidth\":0,\"ticks\":\"\"}}}],\"scatterternary\":[{\"type\":\"scatterternary\",\"marker\":{\"colorbar\":{\"outlinewidth\":0,\"ticks\":\"\"}}}],\"scattercarpet\":[{\"type\":\"scattercarpet\",\"marker\":{\"colorbar\":{\"outlinewidth\":0,\"ticks\":\"\"}}}],\"carpet\":[{\"aaxis\":{\"endlinecolor\":\"#2a3f5f\",\"gridcolor\":\"white\",\"linecolor\":\"white\",\"minorgridcolor\":\"white\",\"startlinecolor\":\"#2a3f5f\"},\"baxis\":{\"endlinecolor\":\"#2a3f5f\",\"gridcolor\":\"white\",\"linecolor\":\"white\",\"minorgridcolor\":\"white\",\"startlinecolor\":\"#2a3f5f\"},\"type\":\"carpet\"}],\"table\":[{\"cells\":{\"fill\":{\"color\":\"#EBF0F8\"},\"line\":{\"color\":\"white\"}},\"header\":{\"fill\":{\"color\":\"#C8D4E3\"},\"line\":{\"color\":\"white\"}},\"type\":\"table\"}],\"barpolar\":[{\"marker\":{\"line\":{\"color\":\"#E5ECF6\",\"width\":0.5},\"pattern\":{\"fillmode\":\"overlay\",\"size\":10,\"solidity\":0.2}},\"type\":\"barpolar\"}],\"pie\":[{\"automargin\":true,\"type\":\"pie\"}]},\"layout\":{\"autotypenumbers\":\"strict\",\"colorway\":[\"#636efa\",\"#EF553B\",\"#00cc96\",\"#ab63fa\",\"#FFA15A\",\"#19d3f3\",\"#FF6692\",\"#B6E880\",\"#FF97FF\",\"#FECB52\"],\"font\":{\"color\":\"#2a3f5f\"},\"hovermode\":\"closest\",\"hoverlabel\":{\"align\":\"left\"},\"paper_bgcolor\":\"white\",\"plot_bgcolor\":\"#E5ECF6\",\"polar\":{\"bgcolor\":\"#E5ECF6\",\"angularaxis\":{\"gridcolor\":\"white\",\"linecolor\":\"white\",\"ticks\":\"\"},\"radialaxis\":{\"gridcolor\":\"white\",\"linecolor\":\"white\",\"ticks\":\"\"}},\"ternary\":{\"bgcolor\":\"#E5ECF6\",\"aaxis\":{\"gridcolor\":\"white\",\"linecolor\":\"white\",\"ticks\":\"\"},\"baxis\":{\"gridcolor\":\"white\",\"linecolor\":\"white\",\"ticks\":\"\"},\"caxis\":{\"gridcolor\":\"white\",\"linecolor\":\"white\",\"ticks\":\"\"}},\"coloraxis\":{\"colorbar\":{\"outlinewidth\":0,\"ticks\":\"\"}},\"colorscale\":{\"sequential\":[[0.0,\"#0d0887\"],[0.1111111111111111,\"#46039f\"],[0.2222222222222222,\"#7201a8\"],[0.3333333333333333,\"#9c179e\"],[0.4444444444444444,\"#bd3786\"],[0.5555555555555556,\"#d8576b\"],[0.6666666666666666,\"#ed7953\"],[0.7777777777777778,\"#fb9f3a\"],[0.8888888888888888,\"#fdca26\"],[1.0,\"#f0f921\"]],\"sequentialminus\":[[0.0,\"#0d0887\"],[0.1111111111111111,\"#46039f\"],[0.2222222222222222,\"#7201a8\"],[0.3333333333333333,\"#9c179e\"],[0.4444444444444444,\"#bd3786\"],[0.5555555555555556,\"#d8576b\"],[0.6666666666666666,\"#ed7953\"],[0.7777777777777778,\"#fb9f3a\"],[0.8888888888888888,\"#fdca26\"],[1.0,\"#f0f921\"]],\"diverging\":[[0,\"#8e0152\"],[0.1,\"#c51b7d\"],[0.2,\"#de77ae\"],[0.3,\"#f1b6da\"],[0.4,\"#fde0ef\"],[0.5,\"#f7f7f7\"],[0.6,\"#e6f5d0\"],[0.7,\"#b8e186\"],[0.8,\"#7fbc41\"],[0.9,\"#4d9221\"],[1,\"#276419\"]]},\"xaxis\":{\"gridcolor\":\"white\",\"linecolor\":\"white\",\"ticks\":\"\",\"title\":{\"standoff\":15},\"zerolinecolor\":\"white\",\"automargin\":true,\"zerolinewidth\":2},\"yaxis\":{\"gridcolor\":\"white\",\"linecolor\":\"white\",\"ticks\":\"\",\"title\":{\"standoff\":15},\"zerolinecolor\":\"white\",\"automargin\":true,\"zerolinewidth\":2},\"scene\":{\"xaxis\":{\"backgroundcolor\":\"#E5ECF6\",\"gridcolor\":\"white\",\"linecolor\":\"white\",\"showbackground\":true,\"ticks\":\"\",\"zerolinecolor\":\"white\",\"gridwidth\":2},\"yaxis\":{\"backgroundcolor\":\"#E5ECF6\",\"gridcolor\":\"white\",\"linecolor\":\"white\",\"showbackground\":true,\"ticks\":\"\",\"zerolinecolor\":\"white\",\"gridwidth\":2},\"zaxis\":{\"backgroundcolor\":\"#E5ECF6\",\"gridcolor\":\"white\",\"linecolor\":\"white\",\"showbackground\":true,\"ticks\":\"\",\"zerolinecolor\":\"white\",\"gridwidth\":2}},\"shapedefaults\":{\"line\":{\"color\":\"#2a3f5f\"}},\"annotationdefaults\":{\"arrowcolor\":\"#2a3f5f\",\"arrowhead\":0,\"arrowwidth\":1},\"geo\":{\"bgcolor\":\"white\",\"landcolor\":\"#E5ECF6\",\"subunitcolor\":\"white\",\"showland\":true,\"showlakes\":true,\"lakecolor\":\"white\"},\"title\":{\"x\":0.05},\"mapbox\":{\"style\":\"light\"}}},\"xaxis\":{\"anchor\":\"y\",\"domain\":[0.0,1.0],\"scaleanchor\":\"y\",\"constrain\":\"domain\"},\"yaxis\":{\"anchor\":\"x\",\"domain\":[0.0,1.0],\"autorange\":\"reversed\",\"constrain\":\"domain\"},\"coloraxis\":{\"colorscale\":[[0.0,\"#0d0887\"],[0.1111111111111111,\"#46039f\"],[0.2222222222222222,\"#7201a8\"],[0.3333333333333333,\"#9c179e\"],[0.4444444444444444,\"#bd3786\"],[0.5555555555555556,\"#d8576b\"],[0.6666666666666666,\"#ed7953\"],[0.7777777777777778,\"#fb9f3a\"],[0.8888888888888888,\"#fdca26\"],[1.0,\"#f0f921\"]]},\"margin\":{\"t\":60}},                        {\"responsive\": true}                    ).then(function(){\n",
       "                            \n",
       "var gd = document.getElementById('dbd99def-47fd-4149-a191-ff795c59a58a');\n",
       "var x = new MutationObserver(function (mutations, observer) {{\n",
       "        var display = window.getComputedStyle(gd).display;\n",
       "        if (!display || display === 'none') {{\n",
       "            console.log([gd, 'removed!']);\n",
       "            Plotly.purge(gd);\n",
       "            observer.disconnect();\n",
       "        }}\n",
       "}});\n",
       "\n",
       "// Listen for the removal of the full notebook cells\n",
       "var notebookContainer = gd.closest('#notebook-container');\n",
       "if (notebookContainer) {{\n",
       "    x.observe(notebookContainer, {childList: true});\n",
       "}}\n",
       "\n",
       "// Listen for the clearing of the current output cell\n",
       "var outputEl = gd.closest('.output');\n",
       "if (outputEl) {{\n",
       "    x.observe(outputEl, {childList: true});\n",
       "}}\n",
       "\n",
       "                        })                };                });            </script>        </div>"
      ]
     },
     "metadata": {},
     "output_type": "display_data"
    },
    {
     "ename": "",
     "evalue": "",
     "output_type": "error",
     "traceback": [
      "\u001b[1;31mThe Kernel crashed while executing code in the current cell or a previous cell. \n",
      "\u001b[1;31mPlease review the code in the cell(s) to identify a possible cause of the failure. \n",
      "\u001b[1;31mClick <a href='https://aka.ms/vscodeJupyterKernelCrash'>here</a> for more info. \n",
      "\u001b[1;31mView Jupyter <a href='command:jupyter.viewOutput'>log</a> for further details."
     ]
    }
   ],
   "source": [
    "import plotly.express as px\n",
    "import pandas as pd\n",
    "import numpy as np\n",
    "\n",
    "normalized_losses = {}\n",
    "\n",
    "drop_features = [55186, 18719]\n",
    "drop_ids = [features.index(feature) for feature in drop_features]\n",
    "\n",
    "features_dropped = [feature for feature in features if feature not in drop_features]\n",
    "\n",
    "for task_name, losses in negative_task_losses.items():\n",
    "    base_loss = losses[1]\n",
    "    losses = [x[0].tolist() for x in losses[0]]\n",
    "    losses = np.array(losses)\n",
    "    losses = np.delete(losses, drop_ids)\n",
    "\n",
    "    losses = losses - base_loss[0]\n",
    "    \n",
    "    max_loss = np.max(losses)\n",
    "    min_loss = np.min(losses)\n",
    "\n",
    "    losses = (losses - min_loss) / (max_loss - min_loss)\n",
    "    \n",
    "    # mean_loss = np.mean(losses - base_loss)\n",
    "\n",
    "    # base_acc = losses[1][1]\n",
    "\n",
    "    # accs = [base_acc - loss[1] for loss in losses[0]]\n",
    "    normalized_losses[task_name] = losses\n",
    "\n",
    "\n",
    "heatmap = np.zeros((len(task_names), len(features_dropped)))\n",
    "\n",
    "for i, task_name in enumerate(task_names):\n",
    "    for j, feature in enumerate(features_dropped):\n",
    "        heatmap[i, j] = normalized_losses[task_name][j]\n",
    "\n",
    "heatmap /= np.mean(heatmap, axis=0, keepdims=True)\n",
    "\n",
    "\n",
    "\n",
    "# heatmap = np.where(heatmap > 0, np.log(heatmap), -10)\n",
    "# heatmap[np.isnan(heatmap)] = np.min(heatmap[np.isfinite(heatmap)])\n",
    "# heatmap[np.isinf(heatmap)] = np.max(heatmap[np.isfinite(heatmap)])\n",
    "\n",
    "# heatmap = np.clip(heatmap, -5, 5)\n",
    "\n",
    "\n",
    "fig = px.imshow(heatmap, x=[str(x) for x in features_dropped], y=task_names)\n",
    "\n",
    "fig.show()\n"
   ]
  },
  {
   "cell_type": "code",
   "execution_count": 113,
   "metadata": {},
   "outputs": [
    {
     "data": {
      "text/html": [
       "<script> (()=>{ if (customElements.get('treescope-container') === undefined) { class TreescopeContainer extends HTMLElement { constructor() { super(); this.attachShadow({mode: \"open\"}); this.defns = {}; this.state = {}; } } customElements.define(\"treescope-container\", TreescopeContainer); } if (customElements.get('treescope-run-here') === undefined) { class RunHere extends HTMLElement { constructor() { super() } connectedCallback() { const run = child => { const fn = new Function(child.textContent); child.textContent = \"\"; fn.call(this); this.remove(); }; const child = this.querySelector(\"script\"); if (child) { run(child); } else { new MutationObserver(()=>{ run(this.querySelector(\"script\")); }).observe(this, {childList: true}); } } } customElements.define(\"treescope-run-here\", RunHere); } })(); </script> <treescope-container class=\"treescope_out_d43704605e7646cfa15bf30e904d4b65\" ></treescope-container> <treescope-run-here><script type=\"application/octet-stream\"> const root = ( Array.from(document.getElementsByClassName( \"treescope_out_d43704605e7646cfa15bf30e904d4b65\")) .filter((elt) => !elt.dataset.setup) )[0]; root.dataset.setup = 1; const msg = document.createElement(\"span\"); msg.style = \"color: #aaaaaa; font-family: monospace; transition: opacity 0.2s; opacity: 0.0;\"; msg.textContent = \"(Loading...)\"; root.state.loadingMsg = msg; root.shadowRoot.appendChild(msg); root.state.chain = new Promise((resolve, reject) => { const observer = new IntersectionObserver((entries) => { for (const entry of entries) { if (entry.isIntersecting) { resolve(); observer.disconnect(); return; } } }, {rootMargin: \"1000px\"}); window.setTimeout(() => { if (root.loadingMsg) { root.loadingMsg.style.opacity = \"1.0\"; } observer.observe(root); }, 0); }); root.state.deferring = false; const _insertNode = (node) => { for (let oldScript of node.querySelectorAll(\"script\")) { let newScript = document.createElement(\"script\"); newScript.type = oldScript.type; newScript.textContent = oldScript.textContent; oldScript.parentNode.replaceChild(newScript, oldScript); } if (root.state.loadingMsg) { root.state.loadingMsg.remove(); root.state.loadingMsg = null; } root.shadowRoot.appendChild(node); }; root.defns.insertContent = ((contentNode, compressed) => { if (compressed) { root.state.deferring = true; } if (root.state.deferring) { root.state.chain = (async () => { await root.state.chain; if (compressed) { const encoded = contentNode.textContent; const blob = new Blob([ Uint8Array.from(atob(encoded), (m) => m.codePointAt(0)) ]); const reader = blob.stream().pipeThrough( new DecompressionStream(\"deflate\") ).pipeThrough( new TextDecoderStream(\"utf-8\") ).getReader(); const parts = []; while (true) { const step = await reader.read(); if (step.done) { break; } parts.push(step.value); } const tpl = document.createElement('template'); tpl.innerHTML = parts.join(\"\"); _insertNode(tpl.content); } else { _insertNode(contentNode.content); } })(); } else { _insertNode(contentNode.content); } }); </script></treescope-run-here><div style=\"display:none\"> <script type=\"application/octet-stream\" >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</script> <treescope-run-here><script type=\"application/octet-stream\"> const root = ( Array.from(document.getElementsByClassName( \"treescope_out_d43704605e7646cfa15bf30e904d4b65\")) .filter((elt) => !elt.dataset['step0']) )[0]; root.dataset['step0'] = 1; root.defns.insertContent( this.parentNode.querySelector('script[type=\"application/octet-stream\"]'), true ); this.parentNode.remove(); </script></treescope-run-here> </div>"
      ],
      "text/plain": [
       "<IPython.core.display.HTML object>"
      ]
     },
     "metadata": {},
     "output_type": "display_data"
    },
    {
     "data": {
      "text/html": [
       "<treescope-run-here><script type=\"application/octet-stream\"> const root = ( Array.from(document.getElementsByClassName( \"treescope_out_d43704605e7646cfa15bf30e904d4b65\")) .filter((elt) => !elt.dataset.stolen) )[0]; root.dataset.stolen = 1; this.parentNode.replaceChild(root, this); </script></treescope-run-here>"
      ],
      "text/plain": [
       "{'location_continent': [2738, 3915, 19083, 26850, 8259],\n",
       " 'football_player_position': [14975, 32092, 60969, 46677, 35008],\n",
       " 'location_religion': [45893, 33364, 46677, 10818, 1461],\n",
       " 'location_language': [23825, 56898, 3915, 19083, 8259],\n",
       " 'person_profession': [8259, 1461, 18613, 3915, 26850],\n",
       " 'location_country': [8259, 44111, 19083, 18613, 33364],\n",
       " 'country_capital': [46357, 6417, 59236, 50241, 19083],\n",
       " 'person_language': [50241, 18613, 33364, 1053, 1202],\n",
       " 'singular_plural': [45455, 41300, 46677, 50241, 62079],\n",
       " 'present_simple_past_simple': [18613, 3915, 47899, 35308, 46985],\n",
       " 'antonyms': [5819, 17281, 3915, 50800, 8259],\n",
       " 'plural_singular': [46677, 19083, 14975, 31409, 45455],\n",
       " 'present_simple_past_perfect': [1461, 47899, 3915, 35308, 36806],\n",
       " 'present_simple_gerund': [12295, 6417, 53000, 5819, 59236],\n",
       " 'en_it': [19083, 62868, 56773, 3608, 3915],\n",
       " 'it_en': [18613, 3915, 19083, 56170, 8300],\n",
       " 'en_fr': [19083, 14975, 31409, 18613, 8259],\n",
       " 'en_es': [18613, 50241, 12295, 56773, 62868],\n",
       " 'fr_en': [19083, 3915, 46677, 36658, 62079],\n",
       " 'es_en': [18613, 19083, 46677, 31409, 50241],\n",
       " 'algo_last': [12295, 10818, 21375, 14975, 12284],\n",
       " 'algo_first': [2738, 4036, 50241, 49334, 62868],\n",
       " 'algo_second': [14975, 21375, 57215, 1053, 26850]}"
      ]
     },
     "execution_count": 113,
     "metadata": {},
     "output_type": "execute_result"
    }
   ],
   "source": [
    "max_loss_features = {}\n",
    "\n",
    "# heatmap[np.isnan(heatmap)] = 0\n",
    "\n",
    "for i in range(heatmap.shape[0]):\n",
    "    topk = np.argsort(heatmap[i])[-5:][::-1]\n",
    "    max_loss_features[task_names[i]] = [features_dropped[j] for j in topk]\n",
    "\n",
    "max_loss_features"
   ]
  },
  {
   "cell_type": "code",
   "execution_count": 47,
   "metadata": {},
   "outputs": [
    {
     "data": {
      "application/vnd.plotly.v1+json": {
       "config": {
        "plotlyServerURL": "https://plot.ly"
       },
       "data": [
        {
         "coloraxis": "coloraxis",
         "hovertemplate": "x: %{x}<br>y: %{y}<br>color: %{z}<extra></extra>",
         "name": "0",
         "type": "heatmap",
         "x": [
          "644",
          "3462",
          "12423",
          "6793",
          "9356",
          "3086",
          "16147",
          "10388",
          "7445",
          "4505",
          "6814",
          "2977",
          "7333",
          "5927",
          "14763",
          "13099",
          "13229",
          "437",
          "12215",
          "13882",
          "16060",
          "8647",
          "2121",
          "2506",
          "14923",
          "12492",
          "16206",
          "5328",
          "15192",
          "5081",
          "11228",
          "14813",
          "13289",
          "8684",
          "2928",
          "12402",
          "7670",
          "8703"
         ],
         "xaxis": "x",
         "y": [
          "en_es",
          "antonyms",
          "person_profession",
          "country_capital",
          "algo_first",
          "algo_last",
          "algo_second"
         ],
         "yaxis": "y",
         "z": [
          [
           -0.06097560975609756,
           0.02032520325203252,
           0.016260162601626018,
           -0.008130081300813009,
           -0.012195121951219513,
           0.0040650406504065045,
           0.0040650406504065045,
           0.008130081300813009,
           -0.012195121951219513,
           0.02032520325203252,
           0.016260162601626018,
           -0.036585365853658534,
           0.012195121951219513,
           0,
           0.02032520325203252,
           0.024390243902439025,
           0.02032520325203252,
           0.028455284552845527,
           -0.008130081300813009,
           -0.012195121951219513,
           -0.012195121951219513,
           0.016260162601626018,
           0.008130081300813009,
           -0.02032520325203252,
           0.032520325203252036,
           -0.02032520325203252,
           0.008130081300813009,
           0.008130081300813009,
           -0.008130081300813009,
           -0.016260162601626018,
           -0.0040650406504065045,
           0.008130081300813009,
           0.0040650406504065045,
           0.016260162601626018,
           0.012195121951219513,
           -0.43902439024390244,
           -0.036585365853658534,
           0.008130081300813009
          ],
          [
           0.004545454545454545,
           0.00909090909090909,
           -0.09545454545454546,
           0.04090909090909091,
           0.4727272727272727,
           -0.02727272727272727,
           0.1409090909090909,
           -0.02727272727272727,
           0.32727272727272727,
           -0.013636363636363636,
           0.013636363636363636,
           0.17272727272727273,
           -0.07272727272727272,
           0.1409090909090909,
           -0.11363636363636363,
           -0.05909090909090909,
           -0.004545454545454545,
           0.00909090909090909,
           -0.00909090909090909,
           -0.01818181818181818,
           0.12727272727272726,
           -0.04090909090909091,
           0.01818181818181818,
           0.05454545454545454,
           0.09090909090909091,
           0.22727272727272727,
           -0.00909090909090909,
           0.05909090909090909,
           0.031818181818181815,
           0.44545454545454544,
           -0.004545454545454545,
           0.004545454545454545,
           -0.031818181818181815,
           -0.01818181818181818,
           -0.17272727272727273,
           0.013636363636363636,
           0.05,
           -0.031818181818181815
          ],
          [
           -0.03260869565217391,
           -0.08695652173913043,
           0.005434782608695652,
           -0.10326086956521739,
           0.10326086956521739,
           -0.20108695652173914,
           0.010869565217391304,
           -0.005434782608695652,
           0.09239130434782608,
           -0.125,
           -0.05434782608695652,
           0.02717391304347826,
           -0.03804347826086957,
           0.04891304347826087,
           -0.010869565217391304,
           -0.016304347826086956,
           -0.021739130434782608,
           -0.06521739130434782,
           -0.043478260869565216,
           0.010869565217391304,
           0.03804347826086957,
           0.016304347826086956,
           0.02717391304347826,
           0.021739130434782608,
           0.06521739130434782,
           0.005434782608695652,
           -0.005434782608695652,
           -0.016304347826086956,
           -0.08152173913043478,
           0.016304347826086956,
           -0.04891304347826087,
           -0.13043478260869565,
           0.03260869565217391,
           0.03260869565217391,
           -0.03804347826086957,
           0.02717391304347826,
           0.043478260869565216,
           -0.02717391304347826
          ],
          [
           0.011235955056179775,
           0.016853932584269662,
           0.02247191011235955,
           0.016853932584269662,
           0.07303370786516854,
           -0.028089887640449437,
           0.0056179775280898875,
           -0.028089887640449437,
           0.0449438202247191,
           -0.033707865168539325,
           -0.011235955056179775,
           0.033707865168539325,
           -0.011235955056179775,
           0.011235955056179775,
           0.016853932584269662,
           0.033707865168539325,
           0.0056179775280898875,
           0.05056179775280899,
           0.02247191011235955,
           -0.34831460674157305,
           -0.0056179775280898875,
           0.028089887640449437,
           -0.5168539325842697,
           -0.02247191011235955,
           0.08426966292134831,
           -0.0056179775280898875,
           0.0056179775280898875,
           -0.028089887640449437,
           -0.016853932584269662,
           0.016853932584269662,
           0.0449438202247191,
           0.06179775280898876,
           0.06741573033707865,
           0.0449438202247191,
           0.0056179775280898875,
           0.07303370786516854,
           0.011235955056179775,
           0
          ],
          [
           -0.0047169811320754715,
           -0.02358490566037736,
           0.07075471698113207,
           -0.009433962264150943,
           -0.39622641509433965,
           0.009433962264150943,
           -0.33490566037735847,
           -0.08962264150943396,
           -0.37735849056603776,
           0.08962264150943396,
           -0.02358490566037736,
           -0.0047169811320754715,
           0.08018867924528301,
           -0.08018867924528301,
           0.018867924528301886,
           -0.018867924528301886,
           -0.03773584905660377,
           0.13679245283018868,
           -0.0047169811320754715,
           0.02830188679245283,
           -0.018867924528301886,
           -0.3018867924528302,
           0.02358490566037736,
           -0.35377358490566035,
           0.05188679245283019,
           0.22641509433962265,
           0.05660377358490566,
           -0.20754716981132076,
           0,
           -0.02830188679245283,
           -0.10849056603773585,
           0.02830188679245283,
           -0.1650943396226415,
           0.014150943396226415,
           -0.08490566037735849,
           -0.0330188679245283,
           -0.15566037735849056,
           0.08018867924528301
          ],
          [
           -0.007246376811594203,
           -0.007246376811594203,
           0.021739130434782608,
           -0.021739130434782608,
           -0.322463768115942,
           0.057971014492753624,
           -0.26811594202898553,
           -0.07246376811594203,
           -0.2391304347826087,
           0.057971014492753624,
           -0.07246376811594203,
           -0.14492753623188406,
           -0.09420289855072464,
           -0.050724637681159424,
           -0.007246376811594203,
           0.021739130434782608,
           -0.057971014492753624,
           0.06521739130434782,
           0.007246376811594203,
           0.014492753623188406,
           -0.19927536231884058,
           0.18840579710144928,
           0.036231884057971016,
           0.2028985507246377,
           -0.014492753623188406,
           -0.30434782608695654,
           -0.06521739130434782,
           -0.11956521739130435,
           0.014492753623188406,
           -0.4855072463768116,
           -0.050724637681159424,
           0.021739130434782608,
           0.13768115942028986,
           0.036231884057971016,
           0.08695652173913043,
           -0.007246376811594203,
           -0.036231884057971016,
           -0.057971014492753624
          ],
          [
           0.018018018018018018,
           0.02252252252252252,
           0.04054054054054054,
           0.02252252252252252,
           -0.1891891891891892,
           0,
           -0.2882882882882883,
           -0.04504504504504504,
           -0.1981981981981982,
           0.009009009009009009,
           -0.04504504504504504,
           0.009009009009009009,
           0.009009009009009009,
           -0.02252252252252252,
           0.0045045045045045045,
           0.018018018018018018,
           -0.02252252252252252,
           0.03153153153153153,
           -0.0045045045045045045,
           -0.0045045045045045045,
           -0.04504504504504504,
           -0.02702702702702703,
           0.02252252252252252,
           -0.02702702702702703,
           0.0990990990990991,
           -0.02252252252252252,
           0.018018018018018018,
           -0.0990990990990991,
           0.018018018018018018,
           -0.05405405405405406,
           -0.04054054054054054,
           0.013513513513513514,
           0.06756756756756757,
           0.04054054054054054,
           -0.14414414414414414,
           0,
           -0.06756756756756757,
           -0.04054054054054054
          ]
         ]
        }
       ],
       "layout": {
        "coloraxis": {
         "colorscale": [
          [
           0,
           "#0d0887"
          ],
          [
           0.1111111111111111,
           "#46039f"
          ],
          [
           0.2222222222222222,
           "#7201a8"
          ],
          [
           0.3333333333333333,
           "#9c179e"
          ],
          [
           0.4444444444444444,
           "#bd3786"
          ],
          [
           0.5555555555555556,
           "#d8576b"
          ],
          [
           0.6666666666666666,
           "#ed7953"
          ],
          [
           0.7777777777777778,
           "#fb9f3a"
          ],
          [
           0.8888888888888888,
           "#fdca26"
          ],
          [
           1,
           "#f0f921"
          ]
         ]
        },
        "margin": {
         "t": 60
        },
        "template": {
         "data": {
          "bar": [
           {
            "error_x": {
             "color": "#2a3f5f"
            },
            "error_y": {
             "color": "#2a3f5f"
            },
            "marker": {
             "line": {
              "color": "#E5ECF6",
              "width": 0.5
             },
             "pattern": {
              "fillmode": "overlay",
              "size": 10,
              "solidity": 0.2
             }
            },
            "type": "bar"
           }
          ],
          "barpolar": [
           {
            "marker": {
             "line": {
              "color": "#E5ECF6",
              "width": 0.5
             },
             "pattern": {
              "fillmode": "overlay",
              "size": 10,
              "solidity": 0.2
             }
            },
            "type": "barpolar"
           }
          ],
          "carpet": [
           {
            "aaxis": {
             "endlinecolor": "#2a3f5f",
             "gridcolor": "white",
             "linecolor": "white",
             "minorgridcolor": "white",
             "startlinecolor": "#2a3f5f"
            },
            "baxis": {
             "endlinecolor": "#2a3f5f",
             "gridcolor": "white",
             "linecolor": "white",
             "minorgridcolor": "white",
             "startlinecolor": "#2a3f5f"
            },
            "type": "carpet"
           }
          ],
          "choropleth": [
           {
            "colorbar": {
             "outlinewidth": 0,
             "ticks": ""
            },
            "type": "choropleth"
           }
          ],
          "contour": [
           {
            "colorbar": {
             "outlinewidth": 0,
             "ticks": ""
            },
            "colorscale": [
             [
              0,
              "#0d0887"
             ],
             [
              0.1111111111111111,
              "#46039f"
             ],
             [
              0.2222222222222222,
              "#7201a8"
             ],
             [
              0.3333333333333333,
              "#9c179e"
             ],
             [
              0.4444444444444444,
              "#bd3786"
             ],
             [
              0.5555555555555556,
              "#d8576b"
             ],
             [
              0.6666666666666666,
              "#ed7953"
             ],
             [
              0.7777777777777778,
              "#fb9f3a"
             ],
             [
              0.8888888888888888,
              "#fdca26"
             ],
             [
              1,
              "#f0f921"
             ]
            ],
            "type": "contour"
           }
          ],
          "contourcarpet": [
           {
            "colorbar": {
             "outlinewidth": 0,
             "ticks": ""
            },
            "type": "contourcarpet"
           }
          ],
          "heatmap": [
           {
            "colorbar": {
             "outlinewidth": 0,
             "ticks": ""
            },
            "colorscale": [
             [
              0,
              "#0d0887"
             ],
             [
              0.1111111111111111,
              "#46039f"
             ],
             [
              0.2222222222222222,
              "#7201a8"
             ],
             [
              0.3333333333333333,
              "#9c179e"
             ],
             [
              0.4444444444444444,
              "#bd3786"
             ],
             [
              0.5555555555555556,
              "#d8576b"
             ],
             [
              0.6666666666666666,
              "#ed7953"
             ],
             [
              0.7777777777777778,
              "#fb9f3a"
             ],
             [
              0.8888888888888888,
              "#fdca26"
             ],
             [
              1,
              "#f0f921"
             ]
            ],
            "type": "heatmap"
           }
          ],
          "heatmapgl": [
           {
            "colorbar": {
             "outlinewidth": 0,
             "ticks": ""
            },
            "colorscale": [
             [
              0,
              "#0d0887"
             ],
             [
              0.1111111111111111,
              "#46039f"
             ],
             [
              0.2222222222222222,
              "#7201a8"
             ],
             [
              0.3333333333333333,
              "#9c179e"
             ],
             [
              0.4444444444444444,
              "#bd3786"
             ],
             [
              0.5555555555555556,
              "#d8576b"
             ],
             [
              0.6666666666666666,
              "#ed7953"
             ],
             [
              0.7777777777777778,
              "#fb9f3a"
             ],
             [
              0.8888888888888888,
              "#fdca26"
             ],
             [
              1,
              "#f0f921"
             ]
            ],
            "type": "heatmapgl"
           }
          ],
          "histogram": [
           {
            "marker": {
             "pattern": {
              "fillmode": "overlay",
              "size": 10,
              "solidity": 0.2
             }
            },
            "type": "histogram"
           }
          ],
          "histogram2d": [
           {
            "colorbar": {
             "outlinewidth": 0,
             "ticks": ""
            },
            "colorscale": [
             [
              0,
              "#0d0887"
             ],
             [
              0.1111111111111111,
              "#46039f"
             ],
             [
              0.2222222222222222,
              "#7201a8"
             ],
             [
              0.3333333333333333,
              "#9c179e"
             ],
             [
              0.4444444444444444,
              "#bd3786"
             ],
             [
              0.5555555555555556,
              "#d8576b"
             ],
             [
              0.6666666666666666,
              "#ed7953"
             ],
             [
              0.7777777777777778,
              "#fb9f3a"
             ],
             [
              0.8888888888888888,
              "#fdca26"
             ],
             [
              1,
              "#f0f921"
             ]
            ],
            "type": "histogram2d"
           }
          ],
          "histogram2dcontour": [
           {
            "colorbar": {
             "outlinewidth": 0,
             "ticks": ""
            },
            "colorscale": [
             [
              0,
              "#0d0887"
             ],
             [
              0.1111111111111111,
              "#46039f"
             ],
             [
              0.2222222222222222,
              "#7201a8"
             ],
             [
              0.3333333333333333,
              "#9c179e"
             ],
             [
              0.4444444444444444,
              "#bd3786"
             ],
             [
              0.5555555555555556,
              "#d8576b"
             ],
             [
              0.6666666666666666,
              "#ed7953"
             ],
             [
              0.7777777777777778,
              "#fb9f3a"
             ],
             [
              0.8888888888888888,
              "#fdca26"
             ],
             [
              1,
              "#f0f921"
             ]
            ],
            "type": "histogram2dcontour"
           }
          ],
          "mesh3d": [
           {
            "colorbar": {
             "outlinewidth": 0,
             "ticks": ""
            },
            "type": "mesh3d"
           }
          ],
          "parcoords": [
           {
            "line": {
             "colorbar": {
              "outlinewidth": 0,
              "ticks": ""
             }
            },
            "type": "parcoords"
           }
          ],
          "pie": [
           {
            "automargin": true,
            "type": "pie"
           }
          ],
          "scatter": [
           {
            "fillpattern": {
             "fillmode": "overlay",
             "size": 10,
             "solidity": 0.2
            },
            "type": "scatter"
           }
          ],
          "scatter3d": [
           {
            "line": {
             "colorbar": {
              "outlinewidth": 0,
              "ticks": ""
             }
            },
            "marker": {
             "colorbar": {
              "outlinewidth": 0,
              "ticks": ""
             }
            },
            "type": "scatter3d"
           }
          ],
          "scattercarpet": [
           {
            "marker": {
             "colorbar": {
              "outlinewidth": 0,
              "ticks": ""
             }
            },
            "type": "scattercarpet"
           }
          ],
          "scattergeo": [
           {
            "marker": {
             "colorbar": {
              "outlinewidth": 0,
              "ticks": ""
             }
            },
            "type": "scattergeo"
           }
          ],
          "scattergl": [
           {
            "marker": {
             "colorbar": {
              "outlinewidth": 0,
              "ticks": ""
             }
            },
            "type": "scattergl"
           }
          ],
          "scattermapbox": [
           {
            "marker": {
             "colorbar": {
              "outlinewidth": 0,
              "ticks": ""
             }
            },
            "type": "scattermapbox"
           }
          ],
          "scatterpolar": [
           {
            "marker": {
             "colorbar": {
              "outlinewidth": 0,
              "ticks": ""
             }
            },
            "type": "scatterpolar"
           }
          ],
          "scatterpolargl": [
           {
            "marker": {
             "colorbar": {
              "outlinewidth": 0,
              "ticks": ""
             }
            },
            "type": "scatterpolargl"
           }
          ],
          "scatterternary": [
           {
            "marker": {
             "colorbar": {
              "outlinewidth": 0,
              "ticks": ""
             }
            },
            "type": "scatterternary"
           }
          ],
          "surface": [
           {
            "colorbar": {
             "outlinewidth": 0,
             "ticks": ""
            },
            "colorscale": [
             [
              0,
              "#0d0887"
             ],
             [
              0.1111111111111111,
              "#46039f"
             ],
             [
              0.2222222222222222,
              "#7201a8"
             ],
             [
              0.3333333333333333,
              "#9c179e"
             ],
             [
              0.4444444444444444,
              "#bd3786"
             ],
             [
              0.5555555555555556,
              "#d8576b"
             ],
             [
              0.6666666666666666,
              "#ed7953"
             ],
             [
              0.7777777777777778,
              "#fb9f3a"
             ],
             [
              0.8888888888888888,
              "#fdca26"
             ],
             [
              1,
              "#f0f921"
             ]
            ],
            "type": "surface"
           }
          ],
          "table": [
           {
            "cells": {
             "fill": {
              "color": "#EBF0F8"
             },
             "line": {
              "color": "white"
             }
            },
            "header": {
             "fill": {
              "color": "#C8D4E3"
             },
             "line": {
              "color": "white"
             }
            },
            "type": "table"
           }
          ]
         },
         "layout": {
          "annotationdefaults": {
           "arrowcolor": "#2a3f5f",
           "arrowhead": 0,
           "arrowwidth": 1
          },
          "autotypenumbers": "strict",
          "coloraxis": {
           "colorbar": {
            "outlinewidth": 0,
            "ticks": ""
           }
          },
          "colorscale": {
           "diverging": [
            [
             0,
             "#8e0152"
            ],
            [
             0.1,
             "#c51b7d"
            ],
            [
             0.2,
             "#de77ae"
            ],
            [
             0.3,
             "#f1b6da"
            ],
            [
             0.4,
             "#fde0ef"
            ],
            [
             0.5,
             "#f7f7f7"
            ],
            [
             0.6,
             "#e6f5d0"
            ],
            [
             0.7,
             "#b8e186"
            ],
            [
             0.8,
             "#7fbc41"
            ],
            [
             0.9,
             "#4d9221"
            ],
            [
             1,
             "#276419"
            ]
           ],
           "sequential": [
            [
             0,
             "#0d0887"
            ],
            [
             0.1111111111111111,
             "#46039f"
            ],
            [
             0.2222222222222222,
             "#7201a8"
            ],
            [
             0.3333333333333333,
             "#9c179e"
            ],
            [
             0.4444444444444444,
             "#bd3786"
            ],
            [
             0.5555555555555556,
             "#d8576b"
            ],
            [
             0.6666666666666666,
             "#ed7953"
            ],
            [
             0.7777777777777778,
             "#fb9f3a"
            ],
            [
             0.8888888888888888,
             "#fdca26"
            ],
            [
             1,
             "#f0f921"
            ]
           ],
           "sequentialminus": [
            [
             0,
             "#0d0887"
            ],
            [
             0.1111111111111111,
             "#46039f"
            ],
            [
             0.2222222222222222,
             "#7201a8"
            ],
            [
             0.3333333333333333,
             "#9c179e"
            ],
            [
             0.4444444444444444,
             "#bd3786"
            ],
            [
             0.5555555555555556,
             "#d8576b"
            ],
            [
             0.6666666666666666,
             "#ed7953"
            ],
            [
             0.7777777777777778,
             "#fb9f3a"
            ],
            [
             0.8888888888888888,
             "#fdca26"
            ],
            [
             1,
             "#f0f921"
            ]
           ]
          },
          "colorway": [
           "#636efa",
           "#EF553B",
           "#00cc96",
           "#ab63fa",
           "#FFA15A",
           "#19d3f3",
           "#FF6692",
           "#B6E880",
           "#FF97FF",
           "#FECB52"
          ],
          "font": {
           "color": "#2a3f5f"
          },
          "geo": {
           "bgcolor": "white",
           "lakecolor": "white",
           "landcolor": "#E5ECF6",
           "showlakes": true,
           "showland": true,
           "subunitcolor": "white"
          },
          "hoverlabel": {
           "align": "left"
          },
          "hovermode": "closest",
          "mapbox": {
           "style": "light"
          },
          "paper_bgcolor": "white",
          "plot_bgcolor": "#E5ECF6",
          "polar": {
           "angularaxis": {
            "gridcolor": "white",
            "linecolor": "white",
            "ticks": ""
           },
           "bgcolor": "#E5ECF6",
           "radialaxis": {
            "gridcolor": "white",
            "linecolor": "white",
            "ticks": ""
           }
          },
          "scene": {
           "xaxis": {
            "backgroundcolor": "#E5ECF6",
            "gridcolor": "white",
            "gridwidth": 2,
            "linecolor": "white",
            "showbackground": true,
            "ticks": "",
            "zerolinecolor": "white"
           },
           "yaxis": {
            "backgroundcolor": "#E5ECF6",
            "gridcolor": "white",
            "gridwidth": 2,
            "linecolor": "white",
            "showbackground": true,
            "ticks": "",
            "zerolinecolor": "white"
           },
           "zaxis": {
            "backgroundcolor": "#E5ECF6",
            "gridcolor": "white",
            "gridwidth": 2,
            "linecolor": "white",
            "showbackground": true,
            "ticks": "",
            "zerolinecolor": "white"
           }
          },
          "shapedefaults": {
           "line": {
            "color": "#2a3f5f"
           }
          },
          "ternary": {
           "aaxis": {
            "gridcolor": "white",
            "linecolor": "white",
            "ticks": ""
           },
           "baxis": {
            "gridcolor": "white",
            "linecolor": "white",
            "ticks": ""
           },
           "bgcolor": "#E5ECF6",
           "caxis": {
            "gridcolor": "white",
            "linecolor": "white",
            "ticks": ""
           }
          },
          "title": {
           "x": 0.05
          },
          "xaxis": {
           "automargin": true,
           "gridcolor": "white",
           "linecolor": "white",
           "ticks": "",
           "title": {
            "standoff": 15
           },
           "zerolinecolor": "white",
           "zerolinewidth": 2
          },
          "yaxis": {
           "automargin": true,
           "gridcolor": "white",
           "linecolor": "white",
           "ticks": "",
           "title": {
            "standoff": 15
           },
           "zerolinecolor": "white",
           "zerolinewidth": 2
          }
         }
        },
        "xaxis": {
         "anchor": "y",
         "constrain": "domain",
         "domain": [
          0,
          1
         ],
         "scaleanchor": "y"
        },
        "yaxis": {
         "anchor": "x",
         "autorange": "reversed",
         "constrain": "domain",
         "domain": [
          0,
          1
         ]
        }
       }
      },
      "text/html": [
       "<div>                            <div id=\"d1f9dab4-c0d6-480a-87a8-04556cd0024f\" class=\"plotly-graph-div\" style=\"height:525px; width:100%;\"></div>            <script type=\"text/javascript\">                require([\"plotly\"], function(Plotly) {                    window.PLOTLYENV=window.PLOTLYENV || {};                                    if (document.getElementById(\"d1f9dab4-c0d6-480a-87a8-04556cd0024f\")) {                    Plotly.newPlot(                        \"d1f9dab4-c0d6-480a-87a8-04556cd0024f\",                        [{\"coloraxis\":\"coloraxis\",\"name\":\"0\",\"x\":[\"644\",\"3462\",\"12423\",\"6793\",\"9356\",\"3086\",\"16147\",\"10388\",\"7445\",\"4505\",\"6814\",\"2977\",\"7333\",\"5927\",\"14763\",\"13099\",\"13229\",\"437\",\"12215\",\"13882\",\"16060\",\"8647\",\"2121\",\"2506\",\"14923\",\"12492\",\"16206\",\"5328\",\"15192\",\"5081\",\"11228\",\"14813\",\"13289\",\"8684\",\"2928\",\"12402\",\"7670\",\"8703\"],\"y\":[\"en_es\",\"antonyms\",\"person_profession\",\"country_capital\",\"algo_first\",\"algo_last\",\"algo_second\"],\"z\":[[-0.06097560975609756,0.02032520325203252,0.016260162601626018,-0.008130081300813009,-0.012195121951219513,0.0040650406504065045,0.0040650406504065045,0.008130081300813009,-0.012195121951219513,0.02032520325203252,0.016260162601626018,-0.036585365853658534,0.012195121951219513,0.0,0.02032520325203252,0.024390243902439025,0.02032520325203252,0.028455284552845527,-0.008130081300813009,-0.012195121951219513,-0.012195121951219513,0.016260162601626018,0.008130081300813009,-0.02032520325203252,0.032520325203252036,-0.02032520325203252,0.008130081300813009,0.008130081300813009,-0.008130081300813009,-0.016260162601626018,-0.0040650406504065045,0.008130081300813009,0.0040650406504065045,0.016260162601626018,0.012195121951219513,-0.43902439024390244,-0.036585365853658534,0.008130081300813009],[0.004545454545454545,0.00909090909090909,-0.09545454545454546,0.04090909090909091,0.4727272727272727,-0.02727272727272727,0.1409090909090909,-0.02727272727272727,0.32727272727272727,-0.013636363636363636,0.013636363636363636,0.17272727272727273,-0.07272727272727272,0.1409090909090909,-0.11363636363636363,-0.05909090909090909,-0.004545454545454545,0.00909090909090909,-0.00909090909090909,-0.01818181818181818,0.12727272727272726,-0.04090909090909091,0.01818181818181818,0.05454545454545454,0.09090909090909091,0.22727272727272727,-0.00909090909090909,0.05909090909090909,0.031818181818181815,0.44545454545454544,-0.004545454545454545,0.004545454545454545,-0.031818181818181815,-0.01818181818181818,-0.17272727272727273,0.013636363636363636,0.05,-0.031818181818181815],[-0.03260869565217391,-0.08695652173913043,0.005434782608695652,-0.10326086956521739,0.10326086956521739,-0.20108695652173914,0.010869565217391304,-0.005434782608695652,0.09239130434782608,-0.125,-0.05434782608695652,0.02717391304347826,-0.03804347826086957,0.04891304347826087,-0.010869565217391304,-0.016304347826086956,-0.021739130434782608,-0.06521739130434782,-0.043478260869565216,0.010869565217391304,0.03804347826086957,0.016304347826086956,0.02717391304347826,0.021739130434782608,0.06521739130434782,0.005434782608695652,-0.005434782608695652,-0.016304347826086956,-0.08152173913043478,0.016304347826086956,-0.04891304347826087,-0.13043478260869565,0.03260869565217391,0.03260869565217391,-0.03804347826086957,0.02717391304347826,0.043478260869565216,-0.02717391304347826],[0.011235955056179775,0.016853932584269662,0.02247191011235955,0.016853932584269662,0.07303370786516854,-0.028089887640449437,0.0056179775280898875,-0.028089887640449437,0.0449438202247191,-0.033707865168539325,-0.011235955056179775,0.033707865168539325,-0.011235955056179775,0.011235955056179775,0.016853932584269662,0.033707865168539325,0.0056179775280898875,0.05056179775280899,0.02247191011235955,-0.34831460674157305,-0.0056179775280898875,0.028089887640449437,-0.5168539325842697,-0.02247191011235955,0.08426966292134831,-0.0056179775280898875,0.0056179775280898875,-0.028089887640449437,-0.016853932584269662,0.016853932584269662,0.0449438202247191,0.06179775280898876,0.06741573033707865,0.0449438202247191,0.0056179775280898875,0.07303370786516854,0.011235955056179775,0.0],[-0.0047169811320754715,-0.02358490566037736,0.07075471698113207,-0.009433962264150943,-0.39622641509433965,0.009433962264150943,-0.33490566037735847,-0.08962264150943396,-0.37735849056603776,0.08962264150943396,-0.02358490566037736,-0.0047169811320754715,0.08018867924528301,-0.08018867924528301,0.018867924528301886,-0.018867924528301886,-0.03773584905660377,0.13679245283018868,-0.0047169811320754715,0.02830188679245283,-0.018867924528301886,-0.3018867924528302,0.02358490566037736,-0.35377358490566035,0.05188679245283019,0.22641509433962265,0.05660377358490566,-0.20754716981132076,0.0,-0.02830188679245283,-0.10849056603773585,0.02830188679245283,-0.1650943396226415,0.014150943396226415,-0.08490566037735849,-0.0330188679245283,-0.15566037735849056,0.08018867924528301],[-0.007246376811594203,-0.007246376811594203,0.021739130434782608,-0.021739130434782608,-0.322463768115942,0.057971014492753624,-0.26811594202898553,-0.07246376811594203,-0.2391304347826087,0.057971014492753624,-0.07246376811594203,-0.14492753623188406,-0.09420289855072464,-0.050724637681159424,-0.007246376811594203,0.021739130434782608,-0.057971014492753624,0.06521739130434782,0.007246376811594203,0.014492753623188406,-0.19927536231884058,0.18840579710144928,0.036231884057971016,0.2028985507246377,-0.014492753623188406,-0.30434782608695654,-0.06521739130434782,-0.11956521739130435,0.014492753623188406,-0.4855072463768116,-0.050724637681159424,0.021739130434782608,0.13768115942028986,0.036231884057971016,0.08695652173913043,-0.007246376811594203,-0.036231884057971016,-0.057971014492753624],[0.018018018018018018,0.02252252252252252,0.04054054054054054,0.02252252252252252,-0.1891891891891892,0.0,-0.2882882882882883,-0.04504504504504504,-0.1981981981981982,0.009009009009009009,-0.04504504504504504,0.009009009009009009,0.009009009009009009,-0.02252252252252252,0.0045045045045045045,0.018018018018018018,-0.02252252252252252,0.03153153153153153,-0.0045045045045045045,-0.0045045045045045045,-0.04504504504504504,-0.02702702702702703,0.02252252252252252,-0.02702702702702703,0.0990990990990991,-0.02252252252252252,0.018018018018018018,-0.0990990990990991,0.018018018018018018,-0.05405405405405406,-0.04054054054054054,0.013513513513513514,0.06756756756756757,0.04054054054054054,-0.14414414414414414,0.0,-0.06756756756756757,-0.04054054054054054]],\"type\":\"heatmap\",\"xaxis\":\"x\",\"yaxis\":\"y\",\"hovertemplate\":\"x: %{x}\\u003cbr\\u003ey: %{y}\\u003cbr\\u003ecolor: %{z}\\u003cextra\\u003e\\u003c\\u002fextra\\u003e\"}],                        {\"template\":{\"data\":{\"histogram2dcontour\":[{\"type\":\"histogram2dcontour\",\"colorbar\":{\"outlinewidth\":0,\"ticks\":\"\"},\"colorscale\":[[0.0,\"#0d0887\"],[0.1111111111111111,\"#46039f\"],[0.2222222222222222,\"#7201a8\"],[0.3333333333333333,\"#9c179e\"],[0.4444444444444444,\"#bd3786\"],[0.5555555555555556,\"#d8576b\"],[0.6666666666666666,\"#ed7953\"],[0.7777777777777778,\"#fb9f3a\"],[0.8888888888888888,\"#fdca26\"],[1.0,\"#f0f921\"]]}],\"choropleth\":[{\"type\":\"choropleth\",\"colorbar\":{\"outlinewidth\":0,\"ticks\":\"\"}}],\"histogram2d\":[{\"type\":\"histogram2d\",\"colorbar\":{\"outlinewidth\":0,\"ticks\":\"\"},\"colorscale\":[[0.0,\"#0d0887\"],[0.1111111111111111,\"#46039f\"],[0.2222222222222222,\"#7201a8\"],[0.3333333333333333,\"#9c179e\"],[0.4444444444444444,\"#bd3786\"],[0.5555555555555556,\"#d8576b\"],[0.6666666666666666,\"#ed7953\"],[0.7777777777777778,\"#fb9f3a\"],[0.8888888888888888,\"#fdca26\"],[1.0,\"#f0f921\"]]}],\"heatmap\":[{\"type\":\"heatmap\",\"colorbar\":{\"outlinewidth\":0,\"ticks\":\"\"},\"colorscale\":[[0.0,\"#0d0887\"],[0.1111111111111111,\"#46039f\"],[0.2222222222222222,\"#7201a8\"],[0.3333333333333333,\"#9c179e\"],[0.4444444444444444,\"#bd3786\"],[0.5555555555555556,\"#d8576b\"],[0.6666666666666666,\"#ed7953\"],[0.7777777777777778,\"#fb9f3a\"],[0.8888888888888888,\"#fdca26\"],[1.0,\"#f0f921\"]]}],\"heatmapgl\":[{\"type\":\"heatmapgl\",\"colorbar\":{\"outlinewidth\":0,\"ticks\":\"\"},\"colorscale\":[[0.0,\"#0d0887\"],[0.1111111111111111,\"#46039f\"],[0.2222222222222222,\"#7201a8\"],[0.3333333333333333,\"#9c179e\"],[0.4444444444444444,\"#bd3786\"],[0.5555555555555556,\"#d8576b\"],[0.6666666666666666,\"#ed7953\"],[0.7777777777777778,\"#fb9f3a\"],[0.8888888888888888,\"#fdca26\"],[1.0,\"#f0f921\"]]}],\"contourcarpet\":[{\"type\":\"contourcarpet\",\"colorbar\":{\"outlinewidth\":0,\"ticks\":\"\"}}],\"contour\":[{\"type\":\"contour\",\"colorbar\":{\"outlinewidth\":0,\"ticks\":\"\"},\"colorscale\":[[0.0,\"#0d0887\"],[0.1111111111111111,\"#46039f\"],[0.2222222222222222,\"#7201a8\"],[0.3333333333333333,\"#9c179e\"],[0.4444444444444444,\"#bd3786\"],[0.5555555555555556,\"#d8576b\"],[0.6666666666666666,\"#ed7953\"],[0.7777777777777778,\"#fb9f3a\"],[0.8888888888888888,\"#fdca26\"],[1.0,\"#f0f921\"]]}],\"surface\":[{\"type\":\"surface\",\"colorbar\":{\"outlinewidth\":0,\"ticks\":\"\"},\"colorscale\":[[0.0,\"#0d0887\"],[0.1111111111111111,\"#46039f\"],[0.2222222222222222,\"#7201a8\"],[0.3333333333333333,\"#9c179e\"],[0.4444444444444444,\"#bd3786\"],[0.5555555555555556,\"#d8576b\"],[0.6666666666666666,\"#ed7953\"],[0.7777777777777778,\"#fb9f3a\"],[0.8888888888888888,\"#fdca26\"],[1.0,\"#f0f921\"]]}],\"mesh3d\":[{\"type\":\"mesh3d\",\"colorbar\":{\"outlinewidth\":0,\"ticks\":\"\"}}],\"scatter\":[{\"fillpattern\":{\"fillmode\":\"overlay\",\"size\":10,\"solidity\":0.2},\"type\":\"scatter\"}],\"parcoords\":[{\"type\":\"parcoords\",\"line\":{\"colorbar\":{\"outlinewidth\":0,\"ticks\":\"\"}}}],\"scatterpolargl\":[{\"type\":\"scatterpolargl\",\"marker\":{\"colorbar\":{\"outlinewidth\":0,\"ticks\":\"\"}}}],\"bar\":[{\"error_x\":{\"color\":\"#2a3f5f\"},\"error_y\":{\"color\":\"#2a3f5f\"},\"marker\":{\"line\":{\"color\":\"#E5ECF6\",\"width\":0.5},\"pattern\":{\"fillmode\":\"overlay\",\"size\":10,\"solidity\":0.2}},\"type\":\"bar\"}],\"scattergeo\":[{\"type\":\"scattergeo\",\"marker\":{\"colorbar\":{\"outlinewidth\":0,\"ticks\":\"\"}}}],\"scatterpolar\":[{\"type\":\"scatterpolar\",\"marker\":{\"colorbar\":{\"outlinewidth\":0,\"ticks\":\"\"}}}],\"histogram\":[{\"marker\":{\"pattern\":{\"fillmode\":\"overlay\",\"size\":10,\"solidity\":0.2}},\"type\":\"histogram\"}],\"scattergl\":[{\"type\":\"scattergl\",\"marker\":{\"colorbar\":{\"outlinewidth\":0,\"ticks\":\"\"}}}],\"scatter3d\":[{\"type\":\"scatter3d\",\"line\":{\"colorbar\":{\"outlinewidth\":0,\"ticks\":\"\"}},\"marker\":{\"colorbar\":{\"outlinewidth\":0,\"ticks\":\"\"}}}],\"scattermapbox\":[{\"type\":\"scattermapbox\",\"marker\":{\"colorbar\":{\"outlinewidth\":0,\"ticks\":\"\"}}}],\"scatterternary\":[{\"type\":\"scatterternary\",\"marker\":{\"colorbar\":{\"outlinewidth\":0,\"ticks\":\"\"}}}],\"scattercarpet\":[{\"type\":\"scattercarpet\",\"marker\":{\"colorbar\":{\"outlinewidth\":0,\"ticks\":\"\"}}}],\"carpet\":[{\"aaxis\":{\"endlinecolor\":\"#2a3f5f\",\"gridcolor\":\"white\",\"linecolor\":\"white\",\"minorgridcolor\":\"white\",\"startlinecolor\":\"#2a3f5f\"},\"baxis\":{\"endlinecolor\":\"#2a3f5f\",\"gridcolor\":\"white\",\"linecolor\":\"white\",\"minorgridcolor\":\"white\",\"startlinecolor\":\"#2a3f5f\"},\"type\":\"carpet\"}],\"table\":[{\"cells\":{\"fill\":{\"color\":\"#EBF0F8\"},\"line\":{\"color\":\"white\"}},\"header\":{\"fill\":{\"color\":\"#C8D4E3\"},\"line\":{\"color\":\"white\"}},\"type\":\"table\"}],\"barpolar\":[{\"marker\":{\"line\":{\"color\":\"#E5ECF6\",\"width\":0.5},\"pattern\":{\"fillmode\":\"overlay\",\"size\":10,\"solidity\":0.2}},\"type\":\"barpolar\"}],\"pie\":[{\"automargin\":true,\"type\":\"pie\"}]},\"layout\":{\"autotypenumbers\":\"strict\",\"colorway\":[\"#636efa\",\"#EF553B\",\"#00cc96\",\"#ab63fa\",\"#FFA15A\",\"#19d3f3\",\"#FF6692\",\"#B6E880\",\"#FF97FF\",\"#FECB52\"],\"font\":{\"color\":\"#2a3f5f\"},\"hovermode\":\"closest\",\"hoverlabel\":{\"align\":\"left\"},\"paper_bgcolor\":\"white\",\"plot_bgcolor\":\"#E5ECF6\",\"polar\":{\"bgcolor\":\"#E5ECF6\",\"angularaxis\":{\"gridcolor\":\"white\",\"linecolor\":\"white\",\"ticks\":\"\"},\"radialaxis\":{\"gridcolor\":\"white\",\"linecolor\":\"white\",\"ticks\":\"\"}},\"ternary\":{\"bgcolor\":\"#E5ECF6\",\"aaxis\":{\"gridcolor\":\"white\",\"linecolor\":\"white\",\"ticks\":\"\"},\"baxis\":{\"gridcolor\":\"white\",\"linecolor\":\"white\",\"ticks\":\"\"},\"caxis\":{\"gridcolor\":\"white\",\"linecolor\":\"white\",\"ticks\":\"\"}},\"coloraxis\":{\"colorbar\":{\"outlinewidth\":0,\"ticks\":\"\"}},\"colorscale\":{\"sequential\":[[0.0,\"#0d0887\"],[0.1111111111111111,\"#46039f\"],[0.2222222222222222,\"#7201a8\"],[0.3333333333333333,\"#9c179e\"],[0.4444444444444444,\"#bd3786\"],[0.5555555555555556,\"#d8576b\"],[0.6666666666666666,\"#ed7953\"],[0.7777777777777778,\"#fb9f3a\"],[0.8888888888888888,\"#fdca26\"],[1.0,\"#f0f921\"]],\"sequentialminus\":[[0.0,\"#0d0887\"],[0.1111111111111111,\"#46039f\"],[0.2222222222222222,\"#7201a8\"],[0.3333333333333333,\"#9c179e\"],[0.4444444444444444,\"#bd3786\"],[0.5555555555555556,\"#d8576b\"],[0.6666666666666666,\"#ed7953\"],[0.7777777777777778,\"#fb9f3a\"],[0.8888888888888888,\"#fdca26\"],[1.0,\"#f0f921\"]],\"diverging\":[[0,\"#8e0152\"],[0.1,\"#c51b7d\"],[0.2,\"#de77ae\"],[0.3,\"#f1b6da\"],[0.4,\"#fde0ef\"],[0.5,\"#f7f7f7\"],[0.6,\"#e6f5d0\"],[0.7,\"#b8e186\"],[0.8,\"#7fbc41\"],[0.9,\"#4d9221\"],[1,\"#276419\"]]},\"xaxis\":{\"gridcolor\":\"white\",\"linecolor\":\"white\",\"ticks\":\"\",\"title\":{\"standoff\":15},\"zerolinecolor\":\"white\",\"automargin\":true,\"zerolinewidth\":2},\"yaxis\":{\"gridcolor\":\"white\",\"linecolor\":\"white\",\"ticks\":\"\",\"title\":{\"standoff\":15},\"zerolinecolor\":\"white\",\"automargin\":true,\"zerolinewidth\":2},\"scene\":{\"xaxis\":{\"backgroundcolor\":\"#E5ECF6\",\"gridcolor\":\"white\",\"linecolor\":\"white\",\"showbackground\":true,\"ticks\":\"\",\"zerolinecolor\":\"white\",\"gridwidth\":2},\"yaxis\":{\"backgroundcolor\":\"#E5ECF6\",\"gridcolor\":\"white\",\"linecolor\":\"white\",\"showbackground\":true,\"ticks\":\"\",\"zerolinecolor\":\"white\",\"gridwidth\":2},\"zaxis\":{\"backgroundcolor\":\"#E5ECF6\",\"gridcolor\":\"white\",\"linecolor\":\"white\",\"showbackground\":true,\"ticks\":\"\",\"zerolinecolor\":\"white\",\"gridwidth\":2}},\"shapedefaults\":{\"line\":{\"color\":\"#2a3f5f\"}},\"annotationdefaults\":{\"arrowcolor\":\"#2a3f5f\",\"arrowhead\":0,\"arrowwidth\":1},\"geo\":{\"bgcolor\":\"white\",\"landcolor\":\"#E5ECF6\",\"subunitcolor\":\"white\",\"showland\":true,\"showlakes\":true,\"lakecolor\":\"white\"},\"title\":{\"x\":0.05},\"mapbox\":{\"style\":\"light\"}}},\"xaxis\":{\"anchor\":\"y\",\"domain\":[0.0,1.0],\"scaleanchor\":\"y\",\"constrain\":\"domain\"},\"yaxis\":{\"anchor\":\"x\",\"domain\":[0.0,1.0],\"autorange\":\"reversed\",\"constrain\":\"domain\"},\"coloraxis\":{\"colorscale\":[[0.0,\"#0d0887\"],[0.1111111111111111,\"#46039f\"],[0.2222222222222222,\"#7201a8\"],[0.3333333333333333,\"#9c179e\"],[0.4444444444444444,\"#bd3786\"],[0.5555555555555556,\"#d8576b\"],[0.6666666666666666,\"#ed7953\"],[0.7777777777777778,\"#fb9f3a\"],[0.8888888888888888,\"#fdca26\"],[1.0,\"#f0f921\"]]},\"margin\":{\"t\":60}},                        {\"responsive\": true}                    ).then(function(){\n",
       "                            \n",
       "var gd = document.getElementById('d1f9dab4-c0d6-480a-87a8-04556cd0024f');\n",
       "var x = new MutationObserver(function (mutations, observer) {{\n",
       "        var display = window.getComputedStyle(gd).display;\n",
       "        if (!display || display === 'none') {{\n",
       "            console.log([gd, 'removed!']);\n",
       "            Plotly.purge(gd);\n",
       "            observer.disconnect();\n",
       "        }}\n",
       "}});\n",
       "\n",
       "// Listen for the removal of the full notebook cells\n",
       "var notebookContainer = gd.closest('#notebook-container');\n",
       "if (notebookContainer) {{\n",
       "    x.observe(notebookContainer, {childList: true});\n",
       "}}\n",
       "\n",
       "// Listen for the clearing of the current output cell\n",
       "var outputEl = gd.closest('.output');\n",
       "if (outputEl) {{\n",
       "    x.observe(outputEl, {childList: true});\n",
       "}}\n",
       "\n",
       "                        })                };                });            </script>        </div>"
      ]
     },
     "metadata": {},
     "output_type": "display_data"
    }
   ],
   "source": [
    "import plotly.express as px\n",
    "import pandas as pd\n",
    "import numpy as np\n",
    "\n",
    "normalized_losses = {}\n",
    "\n",
    "for task_name, losses in task_losses.items():\n",
    "    base_loss = losses[1]\n",
    "    losses = losses[0]\n",
    "    mean_loss = np.mean(losses)\n",
    "\n",
    "    normalized_losses[task_name] = [(loss - base_loss) / base_loss for loss in losses]\n",
    "\n",
    "\n",
    "df = pd.DataFrame([\n",
    "    {\"task\": task_name, \"feature\": feature, \"loss\": loss}\n",
    "    for task_name, losses in normalized_losses.items()\n",
    "    for feature, loss in zip(features, losses)\n",
    "])\n",
    "\n",
    "\n",
    "\n",
    "heatmap = np.zeros((len(task_names), len(features)))\n",
    "\n",
    "for i, task_name in enumerate(task_names):\n",
    "    for j, feature in enumerate(features):\n",
    "        heatmap[i, j] = normalized_losses[task_name][j]\n",
    "\n",
    "fig = px.imshow(heatmap, x=[str(x) for x in features], y=task_names)\n",
    "\n",
    "fig.show()\n"
   ]
  },
  {
   "cell_type": "code",
   "execution_count": 39,
   "metadata": {},
   "outputs": [
    {
     "data": {
      "application/vnd.plotly.v1+json": {
       "config": {
        "plotlyServerURL": "https://plot.ly"
       },
       "data": [
        {
         "coloraxis": "coloraxis",
         "hovertemplate": "x: %{x}<br>y: %{y}<br>color: %{z}<extra></extra>",
         "name": "0",
         "type": "heatmap",
         "x": [
          "1281",
          "3969",
          "5637",
          "10373",
          "7301",
          "5640",
          "1160",
          "14220",
          "8333",
          "784",
          "1174",
          "1816",
          "10140",
          "5661",
          "14622",
          "6051",
          "809",
          "10027",
          "2606",
          "16176",
          "1847",
          "14904",
          "5817",
          "1848",
          "318",
          "15683",
          "4291",
          "15430",
          "14919",
          "7502",
          "10709",
          "15191",
          "5604",
          "741",
          "3557",
          "488",
          "1130",
          "14572",
          "9586",
          "883",
          "14842",
          "9083",
          "9343"
         ],
         "xaxis": "x",
         "y": [
          "en_es",
          "antonyms",
          "person_profession",
          "country_capital",
          "algo_first",
          "algo_last",
          "algo_second"
         ],
         "yaxis": "y",
         "z": [
          [
           -0.4375,
           0.375,
           0.5625,
           -0.5625,
           -0.1875,
           7.9375,
           -0.1875,
           -0.3125,
           8.28125,
           0,
           0.375,
           0.1875,
           0.25,
           6.6875,
           0,
           -0.125,
           -0.125,
           0.1875,
           -1,
           4.25,
           -0.4375,
           0.4375,
           1.3125,
           0.1875,
           -0.1875,
           -0.0625,
           -0.75,
           -0.1875,
           -0.5,
           -0.4375,
           -0.125,
           0.25,
           -0.875,
           0.125,
           0.125,
           0.0625,
           -0.3125,
           0.3125,
           -1,
           -0.75,
           -1.375,
           1.125,
           0.8125
          ],
          [
           -0.125,
           -0.59375,
           -2.5,
           1.375,
           -0.09375,
           0.171875,
           0.34375,
           0.375,
           0.3125,
           -0.109375,
           -0.21875,
           -0.40625,
           -0.421875,
           -0.140625,
           -0.484375,
           -0.1875,
           0.40625,
           -0.375,
           1.03125,
           -0.359375,
           0.84375,
           -0.9375,
           0.15625,
           0.46875,
           -0.625,
           0,
           1,
           0.15625,
           0.015625,
           0.40625,
           0.09375,
           -0.46875,
           0.765625,
           -0.71875,
           -1.0625,
           -0.015625,
           0.65625,
           -0.546875,
           1.7109375,
           0.828125,
           1.453125,
           -0.328125,
           -2.21875
          ],
          [
           -0.5,
           0.1875,
           -1.6875,
           -0.25,
           0.4375,
           0.25,
           -0.25,
           0.875,
           -0.4375,
           1.3125,
           -0.0625,
           -0.4375,
           -0.5,
           -0.5625,
           -0.5,
           0.125,
           0.125,
           0.0625,
           0.375,
           -0.625,
           -0.625,
           -0.75,
           0.3125,
           -0.1875,
           -0.5,
           -0.0625,
           -0.125,
           1.625,
           0.25,
           0.3125,
           2.125,
           -0.0625,
           -0.5625,
           -0.5,
           -0.875,
           0.5625,
           0.1875,
           -0.1875,
           -1.5625,
           0.0625,
           -0.9375,
           -0.1875,
           -0.6875
          ],
          [
           -0.15625,
           0,
           -0.5,
           -0.34375,
           0.125,
           -0.4375,
           -0.15625,
           -0.125,
           -0.84375,
           -0.40625,
           -0.125,
           4.7109375,
           -0.03125,
           -0.34375,
           -0.4375,
           0.1875,
           -0.1875,
           -0.125,
           0.125,
           -0.1875,
           -0.5,
           0,
           0.375,
           -0.09375,
           -0.8125,
           -0.125,
           -0.5625,
           -0.4375,
           0,
           -0.15625,
           -0.0625,
           -0.625,
           -0.15625,
           -0.15625,
           -0.09375,
           -0.46875,
           -0.28125,
           0.0625,
           -0.875,
           -0.125,
           -0.34375,
           -0.15625,
           0
          ],
          [
           -0.5625,
           -2.5,
           1.125,
           -0.03125,
           -0.671875,
           -0.046875,
           -1.25,
           -0.53125,
           -0.296875,
           0.203125,
           0.125,
           -0.28125,
           1.578125,
           -0.015625,
           0.21875,
           -0.25,
           0.40625,
           0.171875,
           -1.0625,
           0.5625,
           0.328125,
           1.5859375,
           -0.171875,
           0.953125,
           -0.28125,
           0,
           0.625,
           0.484375,
           0.265625,
           -1.34375,
           0,
           -0.4375,
           -0.265625,
           1.28125,
           1.8046875,
           0.234375,
           1.265625,
           1.765625,
           1.703125,
           -0.390625,
           -1,
           -0.046875,
           -1
          ],
          [
           -0.3125,
           1.859375,
           2.453125,
           -0.09375,
           0.28125,
           0.125,
           1.78125,
           -0.03125,
           -0.59375,
           -0.59375,
           0.421875,
           -0.3125,
           -1.125,
           -0.125,
           0.515625,
           -0.28125,
           -0.65625,
           0.09375,
           -0.375,
           0.21875,
           0.03125,
           -0.21875,
           0.0625,
           -0.84375,
           -0.46875,
           -0.03125,
           0.1875,
           0.03125,
           0.375,
           -0.875,
           -0.09375,
           -0.375,
           -0.375,
           0.09375,
           1.203125,
           0.1875,
           0.75,
           -1.6875,
           -0.625,
           -0.21875,
           -0.4375,
           0.484375,
           2.4296875
          ],
          [
           -0.6875,
           -0.75,
           0.3125,
           0.0625,
           0.0625,
           -0.15625,
           0.9375,
           0,
           -1.125,
           -0.625,
           -0.0625,
           -0.1875,
           -0.75,
           -0.4375,
           0.71875,
           -0.15625,
           0.75,
           0.1875,
           -0.6875,
           0,
           -0.125,
           0.34375,
           -0.125,
           2.15625,
           -0.6875,
           -0.09375,
           0.6875,
           0.34375,
           0.625,
           -1.125,
           0.0625,
           -0.09375,
           -0.59375,
           1.53125,
           1.59375,
           0.125,
           1.375,
           -1.125,
           0.09375,
           -0.03125,
           -0.9375,
           0,
           -0.3125
          ]
         ]
        }
       ],
       "layout": {
        "coloraxis": {
         "colorscale": [
          [
           0,
           "#0d0887"
          ],
          [
           0.1111111111111111,
           "#46039f"
          ],
          [
           0.2222222222222222,
           "#7201a8"
          ],
          [
           0.3333333333333333,
           "#9c179e"
          ],
          [
           0.4444444444444444,
           "#bd3786"
          ],
          [
           0.5555555555555556,
           "#d8576b"
          ],
          [
           0.6666666666666666,
           "#ed7953"
          ],
          [
           0.7777777777777778,
           "#fb9f3a"
          ],
          [
           0.8888888888888888,
           "#fdca26"
          ],
          [
           1,
           "#f0f921"
          ]
         ]
        },
        "margin": {
         "t": 60
        },
        "template": {
         "data": {
          "bar": [
           {
            "error_x": {
             "color": "#2a3f5f"
            },
            "error_y": {
             "color": "#2a3f5f"
            },
            "marker": {
             "line": {
              "color": "#E5ECF6",
              "width": 0.5
             },
             "pattern": {
              "fillmode": "overlay",
              "size": 10,
              "solidity": 0.2
             }
            },
            "type": "bar"
           }
          ],
          "barpolar": [
           {
            "marker": {
             "line": {
              "color": "#E5ECF6",
              "width": 0.5
             },
             "pattern": {
              "fillmode": "overlay",
              "size": 10,
              "solidity": 0.2
             }
            },
            "type": "barpolar"
           }
          ],
          "carpet": [
           {
            "aaxis": {
             "endlinecolor": "#2a3f5f",
             "gridcolor": "white",
             "linecolor": "white",
             "minorgridcolor": "white",
             "startlinecolor": "#2a3f5f"
            },
            "baxis": {
             "endlinecolor": "#2a3f5f",
             "gridcolor": "white",
             "linecolor": "white",
             "minorgridcolor": "white",
             "startlinecolor": "#2a3f5f"
            },
            "type": "carpet"
           }
          ],
          "choropleth": [
           {
            "colorbar": {
             "outlinewidth": 0,
             "ticks": ""
            },
            "type": "choropleth"
           }
          ],
          "contour": [
           {
            "colorbar": {
             "outlinewidth": 0,
             "ticks": ""
            },
            "colorscale": [
             [
              0,
              "#0d0887"
             ],
             [
              0.1111111111111111,
              "#46039f"
             ],
             [
              0.2222222222222222,
              "#7201a8"
             ],
             [
              0.3333333333333333,
              "#9c179e"
             ],
             [
              0.4444444444444444,
              "#bd3786"
             ],
             [
              0.5555555555555556,
              "#d8576b"
             ],
             [
              0.6666666666666666,
              "#ed7953"
             ],
             [
              0.7777777777777778,
              "#fb9f3a"
             ],
             [
              0.8888888888888888,
              "#fdca26"
             ],
             [
              1,
              "#f0f921"
             ]
            ],
            "type": "contour"
           }
          ],
          "contourcarpet": [
           {
            "colorbar": {
             "outlinewidth": 0,
             "ticks": ""
            },
            "type": "contourcarpet"
           }
          ],
          "heatmap": [
           {
            "colorbar": {
             "outlinewidth": 0,
             "ticks": ""
            },
            "colorscale": [
             [
              0,
              "#0d0887"
             ],
             [
              0.1111111111111111,
              "#46039f"
             ],
             [
              0.2222222222222222,
              "#7201a8"
             ],
             [
              0.3333333333333333,
              "#9c179e"
             ],
             [
              0.4444444444444444,
              "#bd3786"
             ],
             [
              0.5555555555555556,
              "#d8576b"
             ],
             [
              0.6666666666666666,
              "#ed7953"
             ],
             [
              0.7777777777777778,
              "#fb9f3a"
             ],
             [
              0.8888888888888888,
              "#fdca26"
             ],
             [
              1,
              "#f0f921"
             ]
            ],
            "type": "heatmap"
           }
          ],
          "heatmapgl": [
           {
            "colorbar": {
             "outlinewidth": 0,
             "ticks": ""
            },
            "colorscale": [
             [
              0,
              "#0d0887"
             ],
             [
              0.1111111111111111,
              "#46039f"
             ],
             [
              0.2222222222222222,
              "#7201a8"
             ],
             [
              0.3333333333333333,
              "#9c179e"
             ],
             [
              0.4444444444444444,
              "#bd3786"
             ],
             [
              0.5555555555555556,
              "#d8576b"
             ],
             [
              0.6666666666666666,
              "#ed7953"
             ],
             [
              0.7777777777777778,
              "#fb9f3a"
             ],
             [
              0.8888888888888888,
              "#fdca26"
             ],
             [
              1,
              "#f0f921"
             ]
            ],
            "type": "heatmapgl"
           }
          ],
          "histogram": [
           {
            "marker": {
             "pattern": {
              "fillmode": "overlay",
              "size": 10,
              "solidity": 0.2
             }
            },
            "type": "histogram"
           }
          ],
          "histogram2d": [
           {
            "colorbar": {
             "outlinewidth": 0,
             "ticks": ""
            },
            "colorscale": [
             [
              0,
              "#0d0887"
             ],
             [
              0.1111111111111111,
              "#46039f"
             ],
             [
              0.2222222222222222,
              "#7201a8"
             ],
             [
              0.3333333333333333,
              "#9c179e"
             ],
             [
              0.4444444444444444,
              "#bd3786"
             ],
             [
              0.5555555555555556,
              "#d8576b"
             ],
             [
              0.6666666666666666,
              "#ed7953"
             ],
             [
              0.7777777777777778,
              "#fb9f3a"
             ],
             [
              0.8888888888888888,
              "#fdca26"
             ],
             [
              1,
              "#f0f921"
             ]
            ],
            "type": "histogram2d"
           }
          ],
          "histogram2dcontour": [
           {
            "colorbar": {
             "outlinewidth": 0,
             "ticks": ""
            },
            "colorscale": [
             [
              0,
              "#0d0887"
             ],
             [
              0.1111111111111111,
              "#46039f"
             ],
             [
              0.2222222222222222,
              "#7201a8"
             ],
             [
              0.3333333333333333,
              "#9c179e"
             ],
             [
              0.4444444444444444,
              "#bd3786"
             ],
             [
              0.5555555555555556,
              "#d8576b"
             ],
             [
              0.6666666666666666,
              "#ed7953"
             ],
             [
              0.7777777777777778,
              "#fb9f3a"
             ],
             [
              0.8888888888888888,
              "#fdca26"
             ],
             [
              1,
              "#f0f921"
             ]
            ],
            "type": "histogram2dcontour"
           }
          ],
          "mesh3d": [
           {
            "colorbar": {
             "outlinewidth": 0,
             "ticks": ""
            },
            "type": "mesh3d"
           }
          ],
          "parcoords": [
           {
            "line": {
             "colorbar": {
              "outlinewidth": 0,
              "ticks": ""
             }
            },
            "type": "parcoords"
           }
          ],
          "pie": [
           {
            "automargin": true,
            "type": "pie"
           }
          ],
          "scatter": [
           {
            "fillpattern": {
             "fillmode": "overlay",
             "size": 10,
             "solidity": 0.2
            },
            "type": "scatter"
           }
          ],
          "scatter3d": [
           {
            "line": {
             "colorbar": {
              "outlinewidth": 0,
              "ticks": ""
             }
            },
            "marker": {
             "colorbar": {
              "outlinewidth": 0,
              "ticks": ""
             }
            },
            "type": "scatter3d"
           }
          ],
          "scattercarpet": [
           {
            "marker": {
             "colorbar": {
              "outlinewidth": 0,
              "ticks": ""
             }
            },
            "type": "scattercarpet"
           }
          ],
          "scattergeo": [
           {
            "marker": {
             "colorbar": {
              "outlinewidth": 0,
              "ticks": ""
             }
            },
            "type": "scattergeo"
           }
          ],
          "scattergl": [
           {
            "marker": {
             "colorbar": {
              "outlinewidth": 0,
              "ticks": ""
             }
            },
            "type": "scattergl"
           }
          ],
          "scattermapbox": [
           {
            "marker": {
             "colorbar": {
              "outlinewidth": 0,
              "ticks": ""
             }
            },
            "type": "scattermapbox"
           }
          ],
          "scatterpolar": [
           {
            "marker": {
             "colorbar": {
              "outlinewidth": 0,
              "ticks": ""
             }
            },
            "type": "scatterpolar"
           }
          ],
          "scatterpolargl": [
           {
            "marker": {
             "colorbar": {
              "outlinewidth": 0,
              "ticks": ""
             }
            },
            "type": "scatterpolargl"
           }
          ],
          "scatterternary": [
           {
            "marker": {
             "colorbar": {
              "outlinewidth": 0,
              "ticks": ""
             }
            },
            "type": "scatterternary"
           }
          ],
          "surface": [
           {
            "colorbar": {
             "outlinewidth": 0,
             "ticks": ""
            },
            "colorscale": [
             [
              0,
              "#0d0887"
             ],
             [
              0.1111111111111111,
              "#46039f"
             ],
             [
              0.2222222222222222,
              "#7201a8"
             ],
             [
              0.3333333333333333,
              "#9c179e"
             ],
             [
              0.4444444444444444,
              "#bd3786"
             ],
             [
              0.5555555555555556,
              "#d8576b"
             ],
             [
              0.6666666666666666,
              "#ed7953"
             ],
             [
              0.7777777777777778,
              "#fb9f3a"
             ],
             [
              0.8888888888888888,
              "#fdca26"
             ],
             [
              1,
              "#f0f921"
             ]
            ],
            "type": "surface"
           }
          ],
          "table": [
           {
            "cells": {
             "fill": {
              "color": "#EBF0F8"
             },
             "line": {
              "color": "white"
             }
            },
            "header": {
             "fill": {
              "color": "#C8D4E3"
             },
             "line": {
              "color": "white"
             }
            },
            "type": "table"
           }
          ]
         },
         "layout": {
          "annotationdefaults": {
           "arrowcolor": "#2a3f5f",
           "arrowhead": 0,
           "arrowwidth": 1
          },
          "autotypenumbers": "strict",
          "coloraxis": {
           "colorbar": {
            "outlinewidth": 0,
            "ticks": ""
           }
          },
          "colorscale": {
           "diverging": [
            [
             0,
             "#8e0152"
            ],
            [
             0.1,
             "#c51b7d"
            ],
            [
             0.2,
             "#de77ae"
            ],
            [
             0.3,
             "#f1b6da"
            ],
            [
             0.4,
             "#fde0ef"
            ],
            [
             0.5,
             "#f7f7f7"
            ],
            [
             0.6,
             "#e6f5d0"
            ],
            [
             0.7,
             "#b8e186"
            ],
            [
             0.8,
             "#7fbc41"
            ],
            [
             0.9,
             "#4d9221"
            ],
            [
             1,
             "#276419"
            ]
           ],
           "sequential": [
            [
             0,
             "#0d0887"
            ],
            [
             0.1111111111111111,
             "#46039f"
            ],
            [
             0.2222222222222222,
             "#7201a8"
            ],
            [
             0.3333333333333333,
             "#9c179e"
            ],
            [
             0.4444444444444444,
             "#bd3786"
            ],
            [
             0.5555555555555556,
             "#d8576b"
            ],
            [
             0.6666666666666666,
             "#ed7953"
            ],
            [
             0.7777777777777778,
             "#fb9f3a"
            ],
            [
             0.8888888888888888,
             "#fdca26"
            ],
            [
             1,
             "#f0f921"
            ]
           ],
           "sequentialminus": [
            [
             0,
             "#0d0887"
            ],
            [
             0.1111111111111111,
             "#46039f"
            ],
            [
             0.2222222222222222,
             "#7201a8"
            ],
            [
             0.3333333333333333,
             "#9c179e"
            ],
            [
             0.4444444444444444,
             "#bd3786"
            ],
            [
             0.5555555555555556,
             "#d8576b"
            ],
            [
             0.6666666666666666,
             "#ed7953"
            ],
            [
             0.7777777777777778,
             "#fb9f3a"
            ],
            [
             0.8888888888888888,
             "#fdca26"
            ],
            [
             1,
             "#f0f921"
            ]
           ]
          },
          "colorway": [
           "#636efa",
           "#EF553B",
           "#00cc96",
           "#ab63fa",
           "#FFA15A",
           "#19d3f3",
           "#FF6692",
           "#B6E880",
           "#FF97FF",
           "#FECB52"
          ],
          "font": {
           "color": "#2a3f5f"
          },
          "geo": {
           "bgcolor": "white",
           "lakecolor": "white",
           "landcolor": "#E5ECF6",
           "showlakes": true,
           "showland": true,
           "subunitcolor": "white"
          },
          "hoverlabel": {
           "align": "left"
          },
          "hovermode": "closest",
          "mapbox": {
           "style": "light"
          },
          "paper_bgcolor": "white",
          "plot_bgcolor": "#E5ECF6",
          "polar": {
           "angularaxis": {
            "gridcolor": "white",
            "linecolor": "white",
            "ticks": ""
           },
           "bgcolor": "#E5ECF6",
           "radialaxis": {
            "gridcolor": "white",
            "linecolor": "white",
            "ticks": ""
           }
          },
          "scene": {
           "xaxis": {
            "backgroundcolor": "#E5ECF6",
            "gridcolor": "white",
            "gridwidth": 2,
            "linecolor": "white",
            "showbackground": true,
            "ticks": "",
            "zerolinecolor": "white"
           },
           "yaxis": {
            "backgroundcolor": "#E5ECF6",
            "gridcolor": "white",
            "gridwidth": 2,
            "linecolor": "white",
            "showbackground": true,
            "ticks": "",
            "zerolinecolor": "white"
           },
           "zaxis": {
            "backgroundcolor": "#E5ECF6",
            "gridcolor": "white",
            "gridwidth": 2,
            "linecolor": "white",
            "showbackground": true,
            "ticks": "",
            "zerolinecolor": "white"
           }
          },
          "shapedefaults": {
           "line": {
            "color": "#2a3f5f"
           }
          },
          "ternary": {
           "aaxis": {
            "gridcolor": "white",
            "linecolor": "white",
            "ticks": ""
           },
           "baxis": {
            "gridcolor": "white",
            "linecolor": "white",
            "ticks": ""
           },
           "bgcolor": "#E5ECF6",
           "caxis": {
            "gridcolor": "white",
            "linecolor": "white",
            "ticks": ""
           }
          },
          "title": {
           "x": 0.05
          },
          "xaxis": {
           "automargin": true,
           "gridcolor": "white",
           "linecolor": "white",
           "ticks": "",
           "title": {
            "standoff": 15
           },
           "zerolinecolor": "white",
           "zerolinewidth": 2
          },
          "yaxis": {
           "automargin": true,
           "gridcolor": "white",
           "linecolor": "white",
           "ticks": "",
           "title": {
            "standoff": 15
           },
           "zerolinecolor": "white",
           "zerolinewidth": 2
          }
         }
        },
        "xaxis": {
         "anchor": "y",
         "constrain": "domain",
         "domain": [
          0,
          1
         ],
         "scaleanchor": "y"
        },
        "yaxis": {
         "anchor": "x",
         "autorange": "reversed",
         "constrain": "domain",
         "domain": [
          0,
          1
         ]
        }
       }
      },
      "text/html": [
       "<div>                            <div id=\"798441e3-e963-4c06-9334-8c3803b10ce9\" class=\"plotly-graph-div\" style=\"height:525px; width:100%;\"></div>            <script type=\"text/javascript\">                require([\"plotly\"], function(Plotly) {                    window.PLOTLYENV=window.PLOTLYENV || {};                                    if (document.getElementById(\"798441e3-e963-4c06-9334-8c3803b10ce9\")) {                    Plotly.newPlot(                        \"798441e3-e963-4c06-9334-8c3803b10ce9\",                        [{\"coloraxis\":\"coloraxis\",\"name\":\"0\",\"x\":[\"1281\",\"3969\",\"5637\",\"10373\",\"7301\",\"5640\",\"1160\",\"14220\",\"8333\",\"784\",\"1174\",\"1816\",\"10140\",\"5661\",\"14622\",\"6051\",\"809\",\"10027\",\"2606\",\"16176\",\"1847\",\"14904\",\"5817\",\"1848\",\"318\",\"15683\",\"4291\",\"15430\",\"14919\",\"7502\",\"10709\",\"15191\",\"5604\",\"741\",\"3557\",\"488\",\"1130\",\"14572\",\"9586\",\"883\",\"14842\",\"9083\",\"9343\"],\"y\":[\"en_es\",\"antonyms\",\"person_profession\",\"country_capital\",\"algo_first\",\"algo_last\",\"algo_second\"],\"z\":[[-0.4375,0.375,0.5625,-0.5625,-0.1875,7.9375,-0.1875,-0.3125,8.28125,0.0,0.375,0.1875,0.25,6.6875,0.0,-0.125,-0.125,0.1875,-1.0,4.25,-0.4375,0.4375,1.3125,0.1875,-0.1875,-0.0625,-0.75,-0.1875,-0.5,-0.4375,-0.125,0.25,-0.875,0.125,0.125,0.0625,-0.3125,0.3125,-1.0,-0.75,-1.375,1.125,0.8125],[-0.125,-0.59375,-2.5,1.375,-0.09375,0.171875,0.34375,0.375,0.3125,-0.109375,-0.21875,-0.40625,-0.421875,-0.140625,-0.484375,-0.1875,0.40625,-0.375,1.03125,-0.359375,0.84375,-0.9375,0.15625,0.46875,-0.625,0.0,1.0,0.15625,0.015625,0.40625,0.09375,-0.46875,0.765625,-0.71875,-1.0625,-0.015625,0.65625,-0.546875,1.7109375,0.828125,1.453125,-0.328125,-2.21875],[-0.5,0.1875,-1.6875,-0.25,0.4375,0.25,-0.25,0.875,-0.4375,1.3125,-0.0625,-0.4375,-0.5,-0.5625,-0.5,0.125,0.125,0.0625,0.375,-0.625,-0.625,-0.75,0.3125,-0.1875,-0.5,-0.0625,-0.125,1.625,0.25,0.3125,2.125,-0.0625,-0.5625,-0.5,-0.875,0.5625,0.1875,-0.1875,-1.5625,0.0625,-0.9375,-0.1875,-0.6875],[-0.15625,0.0,-0.5,-0.34375,0.125,-0.4375,-0.15625,-0.125,-0.84375,-0.40625,-0.125,4.7109375,-0.03125,-0.34375,-0.4375,0.1875,-0.1875,-0.125,0.125,-0.1875,-0.5,0.0,0.375,-0.09375,-0.8125,-0.125,-0.5625,-0.4375,0.0,-0.15625,-0.0625,-0.625,-0.15625,-0.15625,-0.09375,-0.46875,-0.28125,0.0625,-0.875,-0.125,-0.34375,-0.15625,0.0],[-0.5625,-2.5,1.125,-0.03125,-0.671875,-0.046875,-1.25,-0.53125,-0.296875,0.203125,0.125,-0.28125,1.578125,-0.015625,0.21875,-0.25,0.40625,0.171875,-1.0625,0.5625,0.328125,1.5859375,-0.171875,0.953125,-0.28125,0.0,0.625,0.484375,0.265625,-1.34375,0.0,-0.4375,-0.265625,1.28125,1.8046875,0.234375,1.265625,1.765625,1.703125,-0.390625,-1.0,-0.046875,-1.0],[-0.3125,1.859375,2.453125,-0.09375,0.28125,0.125,1.78125,-0.03125,-0.59375,-0.59375,0.421875,-0.3125,-1.125,-0.125,0.515625,-0.28125,-0.65625,0.09375,-0.375,0.21875,0.03125,-0.21875,0.0625,-0.84375,-0.46875,-0.03125,0.1875,0.03125,0.375,-0.875,-0.09375,-0.375,-0.375,0.09375,1.203125,0.1875,0.75,-1.6875,-0.625,-0.21875,-0.4375,0.484375,2.4296875],[-0.6875,-0.75,0.3125,0.0625,0.0625,-0.15625,0.9375,0.0,-1.125,-0.625,-0.0625,-0.1875,-0.75,-0.4375,0.71875,-0.15625,0.75,0.1875,-0.6875,0.0,-0.125,0.34375,-0.125,2.15625,-0.6875,-0.09375,0.6875,0.34375,0.625,-1.125,0.0625,-0.09375,-0.59375,1.53125,1.59375,0.125,1.375,-1.125,0.09375,-0.03125,-0.9375,0.0,-0.3125]],\"type\":\"heatmap\",\"xaxis\":\"x\",\"yaxis\":\"y\",\"hovertemplate\":\"x: %{x}\\u003cbr\\u003ey: %{y}\\u003cbr\\u003ecolor: %{z}\\u003cextra\\u003e\\u003c\\u002fextra\\u003e\"}],                        {\"template\":{\"data\":{\"histogram2dcontour\":[{\"type\":\"histogram2dcontour\",\"colorbar\":{\"outlinewidth\":0,\"ticks\":\"\"},\"colorscale\":[[0.0,\"#0d0887\"],[0.1111111111111111,\"#46039f\"],[0.2222222222222222,\"#7201a8\"],[0.3333333333333333,\"#9c179e\"],[0.4444444444444444,\"#bd3786\"],[0.5555555555555556,\"#d8576b\"],[0.6666666666666666,\"#ed7953\"],[0.7777777777777778,\"#fb9f3a\"],[0.8888888888888888,\"#fdca26\"],[1.0,\"#f0f921\"]]}],\"choropleth\":[{\"type\":\"choropleth\",\"colorbar\":{\"outlinewidth\":0,\"ticks\":\"\"}}],\"histogram2d\":[{\"type\":\"histogram2d\",\"colorbar\":{\"outlinewidth\":0,\"ticks\":\"\"},\"colorscale\":[[0.0,\"#0d0887\"],[0.1111111111111111,\"#46039f\"],[0.2222222222222222,\"#7201a8\"],[0.3333333333333333,\"#9c179e\"],[0.4444444444444444,\"#bd3786\"],[0.5555555555555556,\"#d8576b\"],[0.6666666666666666,\"#ed7953\"],[0.7777777777777778,\"#fb9f3a\"],[0.8888888888888888,\"#fdca26\"],[1.0,\"#f0f921\"]]}],\"heatmap\":[{\"type\":\"heatmap\",\"colorbar\":{\"outlinewidth\":0,\"ticks\":\"\"},\"colorscale\":[[0.0,\"#0d0887\"],[0.1111111111111111,\"#46039f\"],[0.2222222222222222,\"#7201a8\"],[0.3333333333333333,\"#9c179e\"],[0.4444444444444444,\"#bd3786\"],[0.5555555555555556,\"#d8576b\"],[0.6666666666666666,\"#ed7953\"],[0.7777777777777778,\"#fb9f3a\"],[0.8888888888888888,\"#fdca26\"],[1.0,\"#f0f921\"]]}],\"heatmapgl\":[{\"type\":\"heatmapgl\",\"colorbar\":{\"outlinewidth\":0,\"ticks\":\"\"},\"colorscale\":[[0.0,\"#0d0887\"],[0.1111111111111111,\"#46039f\"],[0.2222222222222222,\"#7201a8\"],[0.3333333333333333,\"#9c179e\"],[0.4444444444444444,\"#bd3786\"],[0.5555555555555556,\"#d8576b\"],[0.6666666666666666,\"#ed7953\"],[0.7777777777777778,\"#fb9f3a\"],[0.8888888888888888,\"#fdca26\"],[1.0,\"#f0f921\"]]}],\"contourcarpet\":[{\"type\":\"contourcarpet\",\"colorbar\":{\"outlinewidth\":0,\"ticks\":\"\"}}],\"contour\":[{\"type\":\"contour\",\"colorbar\":{\"outlinewidth\":0,\"ticks\":\"\"},\"colorscale\":[[0.0,\"#0d0887\"],[0.1111111111111111,\"#46039f\"],[0.2222222222222222,\"#7201a8\"],[0.3333333333333333,\"#9c179e\"],[0.4444444444444444,\"#bd3786\"],[0.5555555555555556,\"#d8576b\"],[0.6666666666666666,\"#ed7953\"],[0.7777777777777778,\"#fb9f3a\"],[0.8888888888888888,\"#fdca26\"],[1.0,\"#f0f921\"]]}],\"surface\":[{\"type\":\"surface\",\"colorbar\":{\"outlinewidth\":0,\"ticks\":\"\"},\"colorscale\":[[0.0,\"#0d0887\"],[0.1111111111111111,\"#46039f\"],[0.2222222222222222,\"#7201a8\"],[0.3333333333333333,\"#9c179e\"],[0.4444444444444444,\"#bd3786\"],[0.5555555555555556,\"#d8576b\"],[0.6666666666666666,\"#ed7953\"],[0.7777777777777778,\"#fb9f3a\"],[0.8888888888888888,\"#fdca26\"],[1.0,\"#f0f921\"]]}],\"mesh3d\":[{\"type\":\"mesh3d\",\"colorbar\":{\"outlinewidth\":0,\"ticks\":\"\"}}],\"scatter\":[{\"fillpattern\":{\"fillmode\":\"overlay\",\"size\":10,\"solidity\":0.2},\"type\":\"scatter\"}],\"parcoords\":[{\"type\":\"parcoords\",\"line\":{\"colorbar\":{\"outlinewidth\":0,\"ticks\":\"\"}}}],\"scatterpolargl\":[{\"type\":\"scatterpolargl\",\"marker\":{\"colorbar\":{\"outlinewidth\":0,\"ticks\":\"\"}}}],\"bar\":[{\"error_x\":{\"color\":\"#2a3f5f\"},\"error_y\":{\"color\":\"#2a3f5f\"},\"marker\":{\"line\":{\"color\":\"#E5ECF6\",\"width\":0.5},\"pattern\":{\"fillmode\":\"overlay\",\"size\":10,\"solidity\":0.2}},\"type\":\"bar\"}],\"scattergeo\":[{\"type\":\"scattergeo\",\"marker\":{\"colorbar\":{\"outlinewidth\":0,\"ticks\":\"\"}}}],\"scatterpolar\":[{\"type\":\"scatterpolar\",\"marker\":{\"colorbar\":{\"outlinewidth\":0,\"ticks\":\"\"}}}],\"histogram\":[{\"marker\":{\"pattern\":{\"fillmode\":\"overlay\",\"size\":10,\"solidity\":0.2}},\"type\":\"histogram\"}],\"scattergl\":[{\"type\":\"scattergl\",\"marker\":{\"colorbar\":{\"outlinewidth\":0,\"ticks\":\"\"}}}],\"scatter3d\":[{\"type\":\"scatter3d\",\"line\":{\"colorbar\":{\"outlinewidth\":0,\"ticks\":\"\"}},\"marker\":{\"colorbar\":{\"outlinewidth\":0,\"ticks\":\"\"}}}],\"scattermapbox\":[{\"type\":\"scattermapbox\",\"marker\":{\"colorbar\":{\"outlinewidth\":0,\"ticks\":\"\"}}}],\"scatterternary\":[{\"type\":\"scatterternary\",\"marker\":{\"colorbar\":{\"outlinewidth\":0,\"ticks\":\"\"}}}],\"scattercarpet\":[{\"type\":\"scattercarpet\",\"marker\":{\"colorbar\":{\"outlinewidth\":0,\"ticks\":\"\"}}}],\"carpet\":[{\"aaxis\":{\"endlinecolor\":\"#2a3f5f\",\"gridcolor\":\"white\",\"linecolor\":\"white\",\"minorgridcolor\":\"white\",\"startlinecolor\":\"#2a3f5f\"},\"baxis\":{\"endlinecolor\":\"#2a3f5f\",\"gridcolor\":\"white\",\"linecolor\":\"white\",\"minorgridcolor\":\"white\",\"startlinecolor\":\"#2a3f5f\"},\"type\":\"carpet\"}],\"table\":[{\"cells\":{\"fill\":{\"color\":\"#EBF0F8\"},\"line\":{\"color\":\"white\"}},\"header\":{\"fill\":{\"color\":\"#C8D4E3\"},\"line\":{\"color\":\"white\"}},\"type\":\"table\"}],\"barpolar\":[{\"marker\":{\"line\":{\"color\":\"#E5ECF6\",\"width\":0.5},\"pattern\":{\"fillmode\":\"overlay\",\"size\":10,\"solidity\":0.2}},\"type\":\"barpolar\"}],\"pie\":[{\"automargin\":true,\"type\":\"pie\"}]},\"layout\":{\"autotypenumbers\":\"strict\",\"colorway\":[\"#636efa\",\"#EF553B\",\"#00cc96\",\"#ab63fa\",\"#FFA15A\",\"#19d3f3\",\"#FF6692\",\"#B6E880\",\"#FF97FF\",\"#FECB52\"],\"font\":{\"color\":\"#2a3f5f\"},\"hovermode\":\"closest\",\"hoverlabel\":{\"align\":\"left\"},\"paper_bgcolor\":\"white\",\"plot_bgcolor\":\"#E5ECF6\",\"polar\":{\"bgcolor\":\"#E5ECF6\",\"angularaxis\":{\"gridcolor\":\"white\",\"linecolor\":\"white\",\"ticks\":\"\"},\"radialaxis\":{\"gridcolor\":\"white\",\"linecolor\":\"white\",\"ticks\":\"\"}},\"ternary\":{\"bgcolor\":\"#E5ECF6\",\"aaxis\":{\"gridcolor\":\"white\",\"linecolor\":\"white\",\"ticks\":\"\"},\"baxis\":{\"gridcolor\":\"white\",\"linecolor\":\"white\",\"ticks\":\"\"},\"caxis\":{\"gridcolor\":\"white\",\"linecolor\":\"white\",\"ticks\":\"\"}},\"coloraxis\":{\"colorbar\":{\"outlinewidth\":0,\"ticks\":\"\"}},\"colorscale\":{\"sequential\":[[0.0,\"#0d0887\"],[0.1111111111111111,\"#46039f\"],[0.2222222222222222,\"#7201a8\"],[0.3333333333333333,\"#9c179e\"],[0.4444444444444444,\"#bd3786\"],[0.5555555555555556,\"#d8576b\"],[0.6666666666666666,\"#ed7953\"],[0.7777777777777778,\"#fb9f3a\"],[0.8888888888888888,\"#fdca26\"],[1.0,\"#f0f921\"]],\"sequentialminus\":[[0.0,\"#0d0887\"],[0.1111111111111111,\"#46039f\"],[0.2222222222222222,\"#7201a8\"],[0.3333333333333333,\"#9c179e\"],[0.4444444444444444,\"#bd3786\"],[0.5555555555555556,\"#d8576b\"],[0.6666666666666666,\"#ed7953\"],[0.7777777777777778,\"#fb9f3a\"],[0.8888888888888888,\"#fdca26\"],[1.0,\"#f0f921\"]],\"diverging\":[[0,\"#8e0152\"],[0.1,\"#c51b7d\"],[0.2,\"#de77ae\"],[0.3,\"#f1b6da\"],[0.4,\"#fde0ef\"],[0.5,\"#f7f7f7\"],[0.6,\"#e6f5d0\"],[0.7,\"#b8e186\"],[0.8,\"#7fbc41\"],[0.9,\"#4d9221\"],[1,\"#276419\"]]},\"xaxis\":{\"gridcolor\":\"white\",\"linecolor\":\"white\",\"ticks\":\"\",\"title\":{\"standoff\":15},\"zerolinecolor\":\"white\",\"automargin\":true,\"zerolinewidth\":2},\"yaxis\":{\"gridcolor\":\"white\",\"linecolor\":\"white\",\"ticks\":\"\",\"title\":{\"standoff\":15},\"zerolinecolor\":\"white\",\"automargin\":true,\"zerolinewidth\":2},\"scene\":{\"xaxis\":{\"backgroundcolor\":\"#E5ECF6\",\"gridcolor\":\"white\",\"linecolor\":\"white\",\"showbackground\":true,\"ticks\":\"\",\"zerolinecolor\":\"white\",\"gridwidth\":2},\"yaxis\":{\"backgroundcolor\":\"#E5ECF6\",\"gridcolor\":\"white\",\"linecolor\":\"white\",\"showbackground\":true,\"ticks\":\"\",\"zerolinecolor\":\"white\",\"gridwidth\":2},\"zaxis\":{\"backgroundcolor\":\"#E5ECF6\",\"gridcolor\":\"white\",\"linecolor\":\"white\",\"showbackground\":true,\"ticks\":\"\",\"zerolinecolor\":\"white\",\"gridwidth\":2}},\"shapedefaults\":{\"line\":{\"color\":\"#2a3f5f\"}},\"annotationdefaults\":{\"arrowcolor\":\"#2a3f5f\",\"arrowhead\":0,\"arrowwidth\":1},\"geo\":{\"bgcolor\":\"white\",\"landcolor\":\"#E5ECF6\",\"subunitcolor\":\"white\",\"showland\":true,\"showlakes\":true,\"lakecolor\":\"white\"},\"title\":{\"x\":0.05},\"mapbox\":{\"style\":\"light\"}}},\"xaxis\":{\"anchor\":\"y\",\"domain\":[0.0,1.0],\"scaleanchor\":\"y\",\"constrain\":\"domain\"},\"yaxis\":{\"anchor\":\"x\",\"domain\":[0.0,1.0],\"autorange\":\"reversed\",\"constrain\":\"domain\"},\"coloraxis\":{\"colorscale\":[[0.0,\"#0d0887\"],[0.1111111111111111,\"#46039f\"],[0.2222222222222222,\"#7201a8\"],[0.3333333333333333,\"#9c179e\"],[0.4444444444444444,\"#bd3786\"],[0.5555555555555556,\"#d8576b\"],[0.6666666666666666,\"#ed7953\"],[0.7777777777777778,\"#fb9f3a\"],[0.8888888888888888,\"#fdca26\"],[1.0,\"#f0f921\"]]},\"margin\":{\"t\":60}},                        {\"responsive\": true}                    ).then(function(){\n",
       "                            \n",
       "var gd = document.getElementById('798441e3-e963-4c06-9334-8c3803b10ce9');\n",
       "var x = new MutationObserver(function (mutations, observer) {{\n",
       "        var display = window.getComputedStyle(gd).display;\n",
       "        if (!display || display === 'none') {{\n",
       "            console.log([gd, 'removed!']);\n",
       "            Plotly.purge(gd);\n",
       "            observer.disconnect();\n",
       "        }}\n",
       "}});\n",
       "\n",
       "// Listen for the removal of the full notebook cells\n",
       "var notebookContainer = gd.closest('#notebook-container');\n",
       "if (notebookContainer) {{\n",
       "    x.observe(notebookContainer, {childList: true});\n",
       "}}\n",
       "\n",
       "// Listen for the clearing of the current output cell\n",
       "var outputEl = gd.closest('.output');\n",
       "if (outputEl) {{\n",
       "    x.observe(outputEl, {childList: true});\n",
       "}}\n",
       "\n",
       "                        })                };                });            </script>        </div>"
      ]
     },
     "metadata": {},
     "output_type": "display_data"
    }
   ],
   "source": [
    "import plotly.express as px\n",
    "import pandas as pd\n",
    "import numpy as np\n",
    "\n",
    "for task_name, losses in task_losses.items():\n",
    "    base_loss = losses[1]\n",
    "    losses = losses[0]\n",
    "\n",
    "    task_losses[task_name][0] = [(base_loss - loss) for loss in losses]\n",
    "\n",
    "\n",
    "df = pd.DataFrame([\n",
    "    {\"task\": task_name, \"feature\": feature, \"loss\": loss}\n",
    "    for task_name, losses in task_losses.items()\n",
    "    for feature, loss in zip(features, losses[0])\n",
    "])\n",
    "\n",
    "\n",
    "\n",
    "heatmap = np.zeros((len(task_names), len(features)))\n",
    "\n",
    "for i, task_name in enumerate(task_names):\n",
    "    for j, feature in enumerate(features):\n",
    "        heatmap[i, j] = task_losses[task_name][0][j]\n",
    "\n",
    "fig = px.imshow(heatmap, x=[str(x) for x in features], y=task_names)\n",
    "\n",
    "fig.show()\n"
   ]
  },
  {
   "cell_type": "code",
   "execution_count": 73,
   "metadata": {},
   "outputs": [
    {
     "data": {
      "application/vnd.plotly.v1+json": {
       "config": {
        "plotlyServerURL": "https://plot.ly"
       },
       "data": [
        {
         "coloraxis": "coloraxis",
         "hovertemplate": "x: %{x}<br>y: %{y}<br>color: %{z}<extra></extra>",
         "name": "0",
         "type": "heatmap",
         "x": [
          "9600",
          "23682",
          "32643",
          "31620",
          "27268",
          "27401",
          "6413",
          "24206",
          "12943",
          "16016",
          "9488",
          "13458",
          "14612",
          "19097",
          "7578",
          "16671",
          "19112",
          "7739",
          "8125",
          "32320",
          "6594",
          "7491",
          "15947",
          "5579",
          "15356",
          "16340",
          "24925",
          "30814",
          "4448",
          "26594",
          "11618",
          "6756",
          "6629",
          "5991",
          "16490",
          "2539",
          "26987",
          "6765",
          "18416",
          "2930",
          "2931",
          "22136",
          "6780"
         ],
         "xaxis": "x",
         "y": [
          "en_es",
          "antonyms",
          "person_profession",
          "es_en",
          "present_simple_gerund",
          "present_simple_past_simple",
          "person_profession",
          "person_language",
          "country_capital",
          "football_player_position"
         ],
         "yaxis": "y",
         "z": [
          [
           -1.15625,
           -8.09375,
           0.09375,
           -1.28125,
           -5.15625,
           -6.59375,
           0.390625,
           -0.5625,
           -2.96875,
           -0.625,
           -0.03125,
           -0.15625,
           -1.875,
           0.453125,
           0.515625,
           -1,
           -2.21875,
           -0.65625,
           -2.3125,
           0.09375,
           -5.71875,
           -8.53125,
           -0.46875,
           -3.375,
           -0.5,
           0.453125,
           0,
           -0.90625,
           0.234375,
           -0.28125,
           -0.40625,
           0.09375,
           -1.71875,
           -6.21875,
           -0.46875,
           -1.21875,
           -10.71875,
           -0.34375,
           -0.8125,
           -0.90625,
           0.125,
           -0.3125,
           -0.75
          ],
          [
           -3.57421875,
           -6.91796875,
           0.34375,
           -4.79296875,
           -0.08203125,
           -2.04296875,
           -0.91796875,
           -0.95703125,
           -0.52734375,
           -0.59765625,
           -2.63671875,
           -0.32421875,
           -0.47265625,
           -3.54296875,
           -1.37109375,
           -1.19921875,
           -2.44921875,
           -1.29296875,
           -1.55859375,
           -0.12109375,
           -4.32421875,
           -3.51171875,
           -0.83203125,
           -0.80859375,
           -0.59765625,
           0.2109375,
           -0.24609375,
           -0.66015625,
           -0.65234375,
           -1.60546875,
           -4.91796875,
           -0.97265625,
           -0.95703125,
           -0.62109375,
           -0.10546875,
           -0.07421875,
           -0.29296875,
           -0.32421875,
           -1.19921875,
           -0.98046875,
           -1.15234375,
           -9.69921875,
           -0.54296875
          ],
          [
           -1.34375,
           -1.71875,
           -0.234375,
           -3.1875,
           -1.375,
           -9.71875,
           -0.9375,
           -2.0625,
           -0.46875,
           -0.890625,
           -0.875,
           -4.125,
           -0.359375,
           -0.859375,
           -0.734375,
           -3.78125,
           -1.8125,
           -1.8125,
           -2.3125,
           -1.78125,
           -6.78125,
           -7.21875,
           -1.25,
           -0.609375,
           -0.0625,
           -0.890625,
           -2.5,
           -1.96875,
           -1.34375,
           -1.6875,
           -0.5,
           -1.6875,
           -0.890625,
           -1.46875,
           -0.421875,
           -2.0625,
           0.09375,
           0.25,
           -1.96875,
           -1.53125,
           -0.625,
           -0.453125,
           -0.546875
          ],
          [
           -2.03125,
           -11.03125,
           0.140625,
           -1.875,
           -5.15625,
           -5.53125,
           -1.03125,
           -2.0625,
           -2.71875,
           -2.53125,
           -3.03125,
           -1.328125,
           -2.375,
           -0.875,
           -1.390625,
           -1.09375,
           -1.296875,
           -2.0625,
           -3.78125,
           -0.59375,
           -7.03125,
           -6.53125,
           -1.078125,
           -2.4375,
           -1.171875,
           -0.609375,
           -0.671875,
           -1.34375,
           -1.015625,
           -2.59375,
           -0.546875,
           -1.296875,
           -1.484375,
           -5.0625,
           -1.5,
           -1.96875,
           -1.59375,
           -0.796875,
           -2.15625,
           -2.9375,
           -0.671875,
           -1.59375,
           -0.96875
          ],
          [
           -0.1279296875,
           -14.6943359375,
           -0.2763671875,
           -1.2802734375,
           -10.1943359375,
           -1.7724609375,
           0.01953125,
           -0.0888671875,
           -0.1083984375,
           -0.6279296875,
           -2.1787109375,
           -0.2197265625,
           -5.4130859375,
           -0.1142578125,
           -0.3271484375,
           -0.6748046875,
           -0.1337890625,
           -0.5458984375,
           -2.3505859375,
           -0.4052734375,
           -7.3818359375,
           -3.5224609375,
           -0.0126953125,
           -2.6005859375,
           -4.5068359375,
           -0.1318359375,
           -0.3232421875,
           -0.2158203125,
           -0.2998046875,
           -2.4912109375,
           -0.3896484375,
           -0.1298828125,
           -2.3505859375,
           -1.4833984375,
           -0.4912109375,
           -2.3974609375,
           -1.0224609375,
           0.0712890625,
           -0.2197265625,
           -4.8193359375,
           -0.6748046875,
           -0.4169921875,
           -1.5068359375
          ],
          [
           -0.171875,
           -12.84375,
           0.48828125,
           -0.0859375,
           -8.21875,
           -1.09375,
           0.1015625,
           0.2109375,
           0.203125,
           -0.0625,
           -0.296875,
           0.23046875,
           -2.484375,
           -0.1171875,
           -0.0390625,
           0.25390625,
           0.3828125,
           -0.53125,
           -0.3125,
           0.1015625,
           -7.71875,
           -3.5625,
           0,
           -0.5390625,
           -7.15625,
           0.1640625,
           0.37890625,
           0.2421875,
           -0.921875,
           -1.640625,
           0.1015625,
           0.265625,
           -0.359375,
           -3.375,
           0.0546875,
           -0.84375,
           0.1328125,
           0.203125,
           0.0703125,
           -2.234375,
           -2.546875,
           -0.0234375,
           -0.5703125
          ],
          [
           -1.34375,
           -1.71875,
           -0.234375,
           -3.1875,
           -1.375,
           -9.71875,
           -0.9375,
           -2.0625,
           -0.46875,
           -0.890625,
           -0.875,
           -4.125,
           -0.359375,
           -0.859375,
           -0.734375,
           -3.78125,
           -1.8125,
           -1.8125,
           -2.3125,
           -1.78125,
           -6.78125,
           -7.21875,
           -1.25,
           -0.609375,
           -0.0625,
           -0.890625,
           -2.5,
           -1.96875,
           -1.34375,
           -1.6875,
           -0.5,
           -1.6875,
           -0.890625,
           -1.46875,
           -0.421875,
           -2.0625,
           0.09375,
           0.25,
           -1.96875,
           -1.53125,
           -0.625,
           -0.453125,
           -0.546875
          ],
          [
           -4.015625,
           -1.921875,
           0.109375,
           -1.453125,
           -1.96875,
           -5.734375,
           0.109375,
           -0.53125,
           -1.65625,
           -0.375,
           -0.90625,
           0.37109375,
           -1.15625,
           -1.046875,
           -0.8203125,
           -0.1875,
           -2.109375,
           -1.203125,
           -1.1875,
           -1.015625,
           -3.421875,
           -1.421875,
           -0.953125,
           -1.359375,
           -0.59375,
           -1.546875,
           -6.421875,
           -0.0859375,
           -0.15625,
           -2.15625,
           -0.421875,
           -0.2578125,
           -0.8203125,
           -1.53125,
           -0.71875,
           -0.96875,
           -0.3984375,
           -0.0625,
           -0.359375,
           -1.1875,
           -0.859375,
           -0.875,
           -0.8125
          ],
          [
           -0.265625,
           -6.5546875,
           0.0546875,
           -1.9296875,
           -1.6796875,
           -0.5078125,
           -0.7734375,
           -1.8671875,
           0.109375,
           -0.8984375,
           -1.3984375,
           -0.9921875,
           -3.1484375,
           0.09375,
           -2.3984375,
           -0.203125,
           -1.2265625,
           -0.7890625,
           -5.9921875,
           -0.25,
           0.0625,
           -1.0234375,
           -0.7734375,
           -0.4609375,
           -0.1484375,
           -0.7109375,
           -2.7109375,
           -1.6484375,
           -0.25,
           -1.4921875,
           -0.1484375,
           -0.6171875,
           -0.4453125,
           -2.1953125,
           -0.3203125,
           -4.6171875,
           -0.6796875,
           -0.4921875,
           -0.5234375,
           0.2265625,
           -0.0234375,
           -1.0078125,
           -3.2421875
          ],
          [
           -2.28125,
           -6.0625,
           0.125,
           -3.8125,
           -1.46875,
           -11.5,
           -2.28125,
           -3.5,
           -1.78125,
           -3.375,
           -3.6875,
           -3.375,
           -1.875,
           -0.46875,
           -2.15625,
           -3.625,
           -1.21875,
           -1.3125,
           -5.6875,
           -2.6875,
           -6.3125,
           -8.6875,
           -0.6875,
           -0.75,
           -0.359375,
           -1.21875,
           -4.40625,
           -2.90625,
           -2.46875,
           -2.96875,
           -0.90625,
           -3.0625,
           -0.5,
           -2.6875,
           -1.21875,
           -2.71875,
           -1.453125,
           -1,
           -4.25,
           -1.15625,
           -0.53125,
           -0.4375,
           -2.34375
          ]
         ]
        }
       ],
       "layout": {
        "coloraxis": {
         "colorscale": [
          [
           0,
           "#0d0887"
          ],
          [
           0.1111111111111111,
           "#46039f"
          ],
          [
           0.2222222222222222,
           "#7201a8"
          ],
          [
           0.3333333333333333,
           "#9c179e"
          ],
          [
           0.4444444444444444,
           "#bd3786"
          ],
          [
           0.5555555555555556,
           "#d8576b"
          ],
          [
           0.6666666666666666,
           "#ed7953"
          ],
          [
           0.7777777777777778,
           "#fb9f3a"
          ],
          [
           0.8888888888888888,
           "#fdca26"
          ],
          [
           1,
           "#f0f921"
          ]
         ]
        },
        "margin": {
         "t": 60
        },
        "template": {
         "data": {
          "bar": [
           {
            "error_x": {
             "color": "#2a3f5f"
            },
            "error_y": {
             "color": "#2a3f5f"
            },
            "marker": {
             "line": {
              "color": "#E5ECF6",
              "width": 0.5
             },
             "pattern": {
              "fillmode": "overlay",
              "size": 10,
              "solidity": 0.2
             }
            },
            "type": "bar"
           }
          ],
          "barpolar": [
           {
            "marker": {
             "line": {
              "color": "#E5ECF6",
              "width": 0.5
             },
             "pattern": {
              "fillmode": "overlay",
              "size": 10,
              "solidity": 0.2
             }
            },
            "type": "barpolar"
           }
          ],
          "carpet": [
           {
            "aaxis": {
             "endlinecolor": "#2a3f5f",
             "gridcolor": "white",
             "linecolor": "white",
             "minorgridcolor": "white",
             "startlinecolor": "#2a3f5f"
            },
            "baxis": {
             "endlinecolor": "#2a3f5f",
             "gridcolor": "white",
             "linecolor": "white",
             "minorgridcolor": "white",
             "startlinecolor": "#2a3f5f"
            },
            "type": "carpet"
           }
          ],
          "choropleth": [
           {
            "colorbar": {
             "outlinewidth": 0,
             "ticks": ""
            },
            "type": "choropleth"
           }
          ],
          "contour": [
           {
            "colorbar": {
             "outlinewidth": 0,
             "ticks": ""
            },
            "colorscale": [
             [
              0,
              "#0d0887"
             ],
             [
              0.1111111111111111,
              "#46039f"
             ],
             [
              0.2222222222222222,
              "#7201a8"
             ],
             [
              0.3333333333333333,
              "#9c179e"
             ],
             [
              0.4444444444444444,
              "#bd3786"
             ],
             [
              0.5555555555555556,
              "#d8576b"
             ],
             [
              0.6666666666666666,
              "#ed7953"
             ],
             [
              0.7777777777777778,
              "#fb9f3a"
             ],
             [
              0.8888888888888888,
              "#fdca26"
             ],
             [
              1,
              "#f0f921"
             ]
            ],
            "type": "contour"
           }
          ],
          "contourcarpet": [
           {
            "colorbar": {
             "outlinewidth": 0,
             "ticks": ""
            },
            "type": "contourcarpet"
           }
          ],
          "heatmap": [
           {
            "colorbar": {
             "outlinewidth": 0,
             "ticks": ""
            },
            "colorscale": [
             [
              0,
              "#0d0887"
             ],
             [
              0.1111111111111111,
              "#46039f"
             ],
             [
              0.2222222222222222,
              "#7201a8"
             ],
             [
              0.3333333333333333,
              "#9c179e"
             ],
             [
              0.4444444444444444,
              "#bd3786"
             ],
             [
              0.5555555555555556,
              "#d8576b"
             ],
             [
              0.6666666666666666,
              "#ed7953"
             ],
             [
              0.7777777777777778,
              "#fb9f3a"
             ],
             [
              0.8888888888888888,
              "#fdca26"
             ],
             [
              1,
              "#f0f921"
             ]
            ],
            "type": "heatmap"
           }
          ],
          "heatmapgl": [
           {
            "colorbar": {
             "outlinewidth": 0,
             "ticks": ""
            },
            "colorscale": [
             [
              0,
              "#0d0887"
             ],
             [
              0.1111111111111111,
              "#46039f"
             ],
             [
              0.2222222222222222,
              "#7201a8"
             ],
             [
              0.3333333333333333,
              "#9c179e"
             ],
             [
              0.4444444444444444,
              "#bd3786"
             ],
             [
              0.5555555555555556,
              "#d8576b"
             ],
             [
              0.6666666666666666,
              "#ed7953"
             ],
             [
              0.7777777777777778,
              "#fb9f3a"
             ],
             [
              0.8888888888888888,
              "#fdca26"
             ],
             [
              1,
              "#f0f921"
             ]
            ],
            "type": "heatmapgl"
           }
          ],
          "histogram": [
           {
            "marker": {
             "pattern": {
              "fillmode": "overlay",
              "size": 10,
              "solidity": 0.2
             }
            },
            "type": "histogram"
           }
          ],
          "histogram2d": [
           {
            "colorbar": {
             "outlinewidth": 0,
             "ticks": ""
            },
            "colorscale": [
             [
              0,
              "#0d0887"
             ],
             [
              0.1111111111111111,
              "#46039f"
             ],
             [
              0.2222222222222222,
              "#7201a8"
             ],
             [
              0.3333333333333333,
              "#9c179e"
             ],
             [
              0.4444444444444444,
              "#bd3786"
             ],
             [
              0.5555555555555556,
              "#d8576b"
             ],
             [
              0.6666666666666666,
              "#ed7953"
             ],
             [
              0.7777777777777778,
              "#fb9f3a"
             ],
             [
              0.8888888888888888,
              "#fdca26"
             ],
             [
              1,
              "#f0f921"
             ]
            ],
            "type": "histogram2d"
           }
          ],
          "histogram2dcontour": [
           {
            "colorbar": {
             "outlinewidth": 0,
             "ticks": ""
            },
            "colorscale": [
             [
              0,
              "#0d0887"
             ],
             [
              0.1111111111111111,
              "#46039f"
             ],
             [
              0.2222222222222222,
              "#7201a8"
             ],
             [
              0.3333333333333333,
              "#9c179e"
             ],
             [
              0.4444444444444444,
              "#bd3786"
             ],
             [
              0.5555555555555556,
              "#d8576b"
             ],
             [
              0.6666666666666666,
              "#ed7953"
             ],
             [
              0.7777777777777778,
              "#fb9f3a"
             ],
             [
              0.8888888888888888,
              "#fdca26"
             ],
             [
              1,
              "#f0f921"
             ]
            ],
            "type": "histogram2dcontour"
           }
          ],
          "mesh3d": [
           {
            "colorbar": {
             "outlinewidth": 0,
             "ticks": ""
            },
            "type": "mesh3d"
           }
          ],
          "parcoords": [
           {
            "line": {
             "colorbar": {
              "outlinewidth": 0,
              "ticks": ""
             }
            },
            "type": "parcoords"
           }
          ],
          "pie": [
           {
            "automargin": true,
            "type": "pie"
           }
          ],
          "scatter": [
           {
            "fillpattern": {
             "fillmode": "overlay",
             "size": 10,
             "solidity": 0.2
            },
            "type": "scatter"
           }
          ],
          "scatter3d": [
           {
            "line": {
             "colorbar": {
              "outlinewidth": 0,
              "ticks": ""
             }
            },
            "marker": {
             "colorbar": {
              "outlinewidth": 0,
              "ticks": ""
             }
            },
            "type": "scatter3d"
           }
          ],
          "scattercarpet": [
           {
            "marker": {
             "colorbar": {
              "outlinewidth": 0,
              "ticks": ""
             }
            },
            "type": "scattercarpet"
           }
          ],
          "scattergeo": [
           {
            "marker": {
             "colorbar": {
              "outlinewidth": 0,
              "ticks": ""
             }
            },
            "type": "scattergeo"
           }
          ],
          "scattergl": [
           {
            "marker": {
             "colorbar": {
              "outlinewidth": 0,
              "ticks": ""
             }
            },
            "type": "scattergl"
           }
          ],
          "scattermapbox": [
           {
            "marker": {
             "colorbar": {
              "outlinewidth": 0,
              "ticks": ""
             }
            },
            "type": "scattermapbox"
           }
          ],
          "scatterpolar": [
           {
            "marker": {
             "colorbar": {
              "outlinewidth": 0,
              "ticks": ""
             }
            },
            "type": "scatterpolar"
           }
          ],
          "scatterpolargl": [
           {
            "marker": {
             "colorbar": {
              "outlinewidth": 0,
              "ticks": ""
             }
            },
            "type": "scatterpolargl"
           }
          ],
          "scatterternary": [
           {
            "marker": {
             "colorbar": {
              "outlinewidth": 0,
              "ticks": ""
             }
            },
            "type": "scatterternary"
           }
          ],
          "surface": [
           {
            "colorbar": {
             "outlinewidth": 0,
             "ticks": ""
            },
            "colorscale": [
             [
              0,
              "#0d0887"
             ],
             [
              0.1111111111111111,
              "#46039f"
             ],
             [
              0.2222222222222222,
              "#7201a8"
             ],
             [
              0.3333333333333333,
              "#9c179e"
             ],
             [
              0.4444444444444444,
              "#bd3786"
             ],
             [
              0.5555555555555556,
              "#d8576b"
             ],
             [
              0.6666666666666666,
              "#ed7953"
             ],
             [
              0.7777777777777778,
              "#fb9f3a"
             ],
             [
              0.8888888888888888,
              "#fdca26"
             ],
             [
              1,
              "#f0f921"
             ]
            ],
            "type": "surface"
           }
          ],
          "table": [
           {
            "cells": {
             "fill": {
              "color": "#EBF0F8"
             },
             "line": {
              "color": "white"
             }
            },
            "header": {
             "fill": {
              "color": "#C8D4E3"
             },
             "line": {
              "color": "white"
             }
            },
            "type": "table"
           }
          ]
         },
         "layout": {
          "annotationdefaults": {
           "arrowcolor": "#2a3f5f",
           "arrowhead": 0,
           "arrowwidth": 1
          },
          "autotypenumbers": "strict",
          "coloraxis": {
           "colorbar": {
            "outlinewidth": 0,
            "ticks": ""
           }
          },
          "colorscale": {
           "diverging": [
            [
             0,
             "#8e0152"
            ],
            [
             0.1,
             "#c51b7d"
            ],
            [
             0.2,
             "#de77ae"
            ],
            [
             0.3,
             "#f1b6da"
            ],
            [
             0.4,
             "#fde0ef"
            ],
            [
             0.5,
             "#f7f7f7"
            ],
            [
             0.6,
             "#e6f5d0"
            ],
            [
             0.7,
             "#b8e186"
            ],
            [
             0.8,
             "#7fbc41"
            ],
            [
             0.9,
             "#4d9221"
            ],
            [
             1,
             "#276419"
            ]
           ],
           "sequential": [
            [
             0,
             "#0d0887"
            ],
            [
             0.1111111111111111,
             "#46039f"
            ],
            [
             0.2222222222222222,
             "#7201a8"
            ],
            [
             0.3333333333333333,
             "#9c179e"
            ],
            [
             0.4444444444444444,
             "#bd3786"
            ],
            [
             0.5555555555555556,
             "#d8576b"
            ],
            [
             0.6666666666666666,
             "#ed7953"
            ],
            [
             0.7777777777777778,
             "#fb9f3a"
            ],
            [
             0.8888888888888888,
             "#fdca26"
            ],
            [
             1,
             "#f0f921"
            ]
           ],
           "sequentialminus": [
            [
             0,
             "#0d0887"
            ],
            [
             0.1111111111111111,
             "#46039f"
            ],
            [
             0.2222222222222222,
             "#7201a8"
            ],
            [
             0.3333333333333333,
             "#9c179e"
            ],
            [
             0.4444444444444444,
             "#bd3786"
            ],
            [
             0.5555555555555556,
             "#d8576b"
            ],
            [
             0.6666666666666666,
             "#ed7953"
            ],
            [
             0.7777777777777778,
             "#fb9f3a"
            ],
            [
             0.8888888888888888,
             "#fdca26"
            ],
            [
             1,
             "#f0f921"
            ]
           ]
          },
          "colorway": [
           "#636efa",
           "#EF553B",
           "#00cc96",
           "#ab63fa",
           "#FFA15A",
           "#19d3f3",
           "#FF6692",
           "#B6E880",
           "#FF97FF",
           "#FECB52"
          ],
          "font": {
           "color": "#2a3f5f"
          },
          "geo": {
           "bgcolor": "white",
           "lakecolor": "white",
           "landcolor": "#E5ECF6",
           "showlakes": true,
           "showland": true,
           "subunitcolor": "white"
          },
          "hoverlabel": {
           "align": "left"
          },
          "hovermode": "closest",
          "mapbox": {
           "style": "light"
          },
          "paper_bgcolor": "white",
          "plot_bgcolor": "#E5ECF6",
          "polar": {
           "angularaxis": {
            "gridcolor": "white",
            "linecolor": "white",
            "ticks": ""
           },
           "bgcolor": "#E5ECF6",
           "radialaxis": {
            "gridcolor": "white",
            "linecolor": "white",
            "ticks": ""
           }
          },
          "scene": {
           "xaxis": {
            "backgroundcolor": "#E5ECF6",
            "gridcolor": "white",
            "gridwidth": 2,
            "linecolor": "white",
            "showbackground": true,
            "ticks": "",
            "zerolinecolor": "white"
           },
           "yaxis": {
            "backgroundcolor": "#E5ECF6",
            "gridcolor": "white",
            "gridwidth": 2,
            "linecolor": "white",
            "showbackground": true,
            "ticks": "",
            "zerolinecolor": "white"
           },
           "zaxis": {
            "backgroundcolor": "#E5ECF6",
            "gridcolor": "white",
            "gridwidth": 2,
            "linecolor": "white",
            "showbackground": true,
            "ticks": "",
            "zerolinecolor": "white"
           }
          },
          "shapedefaults": {
           "line": {
            "color": "#2a3f5f"
           }
          },
          "ternary": {
           "aaxis": {
            "gridcolor": "white",
            "linecolor": "white",
            "ticks": ""
           },
           "baxis": {
            "gridcolor": "white",
            "linecolor": "white",
            "ticks": ""
           },
           "bgcolor": "#E5ECF6",
           "caxis": {
            "gridcolor": "white",
            "linecolor": "white",
            "ticks": ""
           }
          },
          "title": {
           "x": 0.05
          },
          "xaxis": {
           "automargin": true,
           "gridcolor": "white",
           "linecolor": "white",
           "ticks": "",
           "title": {
            "standoff": 15
           },
           "zerolinecolor": "white",
           "zerolinewidth": 2
          },
          "yaxis": {
           "automargin": true,
           "gridcolor": "white",
           "linecolor": "white",
           "ticks": "",
           "title": {
            "standoff": 15
           },
           "zerolinecolor": "white",
           "zerolinewidth": 2
          }
         }
        },
        "xaxis": {
         "anchor": "y",
         "constrain": "domain",
         "domain": [
          0,
          1
         ],
         "scaleanchor": "y"
        },
        "yaxis": {
         "anchor": "x",
         "autorange": "reversed",
         "constrain": "domain",
         "domain": [
          0,
          1
         ]
        }
       }
      },
      "text/html": [
       "<div>                            <div id=\"32a2cf23-73c6-470c-8826-3f8144b22cc9\" class=\"plotly-graph-div\" style=\"height:525px; width:100%;\"></div>            <script type=\"text/javascript\">                require([\"plotly\"], function(Plotly) {                    window.PLOTLYENV=window.PLOTLYENV || {};                                    if (document.getElementById(\"32a2cf23-73c6-470c-8826-3f8144b22cc9\")) {                    Plotly.newPlot(                        \"32a2cf23-73c6-470c-8826-3f8144b22cc9\",                        [{\"coloraxis\":\"coloraxis\",\"name\":\"0\",\"x\":[\"9600\",\"23682\",\"32643\",\"31620\",\"27268\",\"27401\",\"6413\",\"24206\",\"12943\",\"16016\",\"9488\",\"13458\",\"14612\",\"19097\",\"7578\",\"16671\",\"19112\",\"7739\",\"8125\",\"32320\",\"6594\",\"7491\",\"15947\",\"5579\",\"15356\",\"16340\",\"24925\",\"30814\",\"4448\",\"26594\",\"11618\",\"6756\",\"6629\",\"5991\",\"16490\",\"2539\",\"26987\",\"6765\",\"18416\",\"2930\",\"2931\",\"22136\",\"6780\"],\"y\":[\"en_es\",\"antonyms\",\"person_profession\",\"es_en\",\"present_simple_gerund\",\"present_simple_past_simple\",\"person_profession\",\"person_language\",\"country_capital\",\"football_player_position\"],\"z\":[[-1.15625,-8.09375,0.09375,-1.28125,-5.15625,-6.59375,0.390625,-0.5625,-2.96875,-0.625,-0.03125,-0.15625,-1.875,0.453125,0.515625,-1.0,-2.21875,-0.65625,-2.3125,0.09375,-5.71875,-8.53125,-0.46875,-3.375,-0.5,0.453125,0.0,-0.90625,0.234375,-0.28125,-0.40625,0.09375,-1.71875,-6.21875,-0.46875,-1.21875,-10.71875,-0.34375,-0.8125,-0.90625,0.125,-0.3125,-0.75],[-3.57421875,-6.91796875,0.34375,-4.79296875,-0.08203125,-2.04296875,-0.91796875,-0.95703125,-0.52734375,-0.59765625,-2.63671875,-0.32421875,-0.47265625,-3.54296875,-1.37109375,-1.19921875,-2.44921875,-1.29296875,-1.55859375,-0.12109375,-4.32421875,-3.51171875,-0.83203125,-0.80859375,-0.59765625,0.2109375,-0.24609375,-0.66015625,-0.65234375,-1.60546875,-4.91796875,-0.97265625,-0.95703125,-0.62109375,-0.10546875,-0.07421875,-0.29296875,-0.32421875,-1.19921875,-0.98046875,-1.15234375,-9.69921875,-0.54296875],[-1.34375,-1.71875,-0.234375,-3.1875,-1.375,-9.71875,-0.9375,-2.0625,-0.46875,-0.890625,-0.875,-4.125,-0.359375,-0.859375,-0.734375,-3.78125,-1.8125,-1.8125,-2.3125,-1.78125,-6.78125,-7.21875,-1.25,-0.609375,-0.0625,-0.890625,-2.5,-1.96875,-1.34375,-1.6875,-0.5,-1.6875,-0.890625,-1.46875,-0.421875,-2.0625,0.09375,0.25,-1.96875,-1.53125,-0.625,-0.453125,-0.546875],[-2.03125,-11.03125,0.140625,-1.875,-5.15625,-5.53125,-1.03125,-2.0625,-2.71875,-2.53125,-3.03125,-1.328125,-2.375,-0.875,-1.390625,-1.09375,-1.296875,-2.0625,-3.78125,-0.59375,-7.03125,-6.53125,-1.078125,-2.4375,-1.171875,-0.609375,-0.671875,-1.34375,-1.015625,-2.59375,-0.546875,-1.296875,-1.484375,-5.0625,-1.5,-1.96875,-1.59375,-0.796875,-2.15625,-2.9375,-0.671875,-1.59375,-0.96875],[-0.1279296875,-14.6943359375,-0.2763671875,-1.2802734375,-10.1943359375,-1.7724609375,0.01953125,-0.0888671875,-0.1083984375,-0.6279296875,-2.1787109375,-0.2197265625,-5.4130859375,-0.1142578125,-0.3271484375,-0.6748046875,-0.1337890625,-0.5458984375,-2.3505859375,-0.4052734375,-7.3818359375,-3.5224609375,-0.0126953125,-2.6005859375,-4.5068359375,-0.1318359375,-0.3232421875,-0.2158203125,-0.2998046875,-2.4912109375,-0.3896484375,-0.1298828125,-2.3505859375,-1.4833984375,-0.4912109375,-2.3974609375,-1.0224609375,0.0712890625,-0.2197265625,-4.8193359375,-0.6748046875,-0.4169921875,-1.5068359375],[-0.171875,-12.84375,0.48828125,-0.0859375,-8.21875,-1.09375,0.1015625,0.2109375,0.203125,-0.0625,-0.296875,0.23046875,-2.484375,-0.1171875,-0.0390625,0.25390625,0.3828125,-0.53125,-0.3125,0.1015625,-7.71875,-3.5625,0.0,-0.5390625,-7.15625,0.1640625,0.37890625,0.2421875,-0.921875,-1.640625,0.1015625,0.265625,-0.359375,-3.375,0.0546875,-0.84375,0.1328125,0.203125,0.0703125,-2.234375,-2.546875,-0.0234375,-0.5703125],[-1.34375,-1.71875,-0.234375,-3.1875,-1.375,-9.71875,-0.9375,-2.0625,-0.46875,-0.890625,-0.875,-4.125,-0.359375,-0.859375,-0.734375,-3.78125,-1.8125,-1.8125,-2.3125,-1.78125,-6.78125,-7.21875,-1.25,-0.609375,-0.0625,-0.890625,-2.5,-1.96875,-1.34375,-1.6875,-0.5,-1.6875,-0.890625,-1.46875,-0.421875,-2.0625,0.09375,0.25,-1.96875,-1.53125,-0.625,-0.453125,-0.546875],[-4.015625,-1.921875,0.109375,-1.453125,-1.96875,-5.734375,0.109375,-0.53125,-1.65625,-0.375,-0.90625,0.37109375,-1.15625,-1.046875,-0.8203125,-0.1875,-2.109375,-1.203125,-1.1875,-1.015625,-3.421875,-1.421875,-0.953125,-1.359375,-0.59375,-1.546875,-6.421875,-0.0859375,-0.15625,-2.15625,-0.421875,-0.2578125,-0.8203125,-1.53125,-0.71875,-0.96875,-0.3984375,-0.0625,-0.359375,-1.1875,-0.859375,-0.875,-0.8125],[-0.265625,-6.5546875,0.0546875,-1.9296875,-1.6796875,-0.5078125,-0.7734375,-1.8671875,0.109375,-0.8984375,-1.3984375,-0.9921875,-3.1484375,0.09375,-2.3984375,-0.203125,-1.2265625,-0.7890625,-5.9921875,-0.25,0.0625,-1.0234375,-0.7734375,-0.4609375,-0.1484375,-0.7109375,-2.7109375,-1.6484375,-0.25,-1.4921875,-0.1484375,-0.6171875,-0.4453125,-2.1953125,-0.3203125,-4.6171875,-0.6796875,-0.4921875,-0.5234375,0.2265625,-0.0234375,-1.0078125,-3.2421875],[-2.28125,-6.0625,0.125,-3.8125,-1.46875,-11.5,-2.28125,-3.5,-1.78125,-3.375,-3.6875,-3.375,-1.875,-0.46875,-2.15625,-3.625,-1.21875,-1.3125,-5.6875,-2.6875,-6.3125,-8.6875,-0.6875,-0.75,-0.359375,-1.21875,-4.40625,-2.90625,-2.46875,-2.96875,-0.90625,-3.0625,-0.5,-2.6875,-1.21875,-2.71875,-1.453125,-1.0,-4.25,-1.15625,-0.53125,-0.4375,-2.34375]],\"type\":\"heatmap\",\"xaxis\":\"x\",\"yaxis\":\"y\",\"hovertemplate\":\"x: %{x}\\u003cbr\\u003ey: %{y}\\u003cbr\\u003ecolor: %{z}\\u003cextra\\u003e\\u003c\\u002fextra\\u003e\"}],                        {\"template\":{\"data\":{\"histogram2dcontour\":[{\"type\":\"histogram2dcontour\",\"colorbar\":{\"outlinewidth\":0,\"ticks\":\"\"},\"colorscale\":[[0.0,\"#0d0887\"],[0.1111111111111111,\"#46039f\"],[0.2222222222222222,\"#7201a8\"],[0.3333333333333333,\"#9c179e\"],[0.4444444444444444,\"#bd3786\"],[0.5555555555555556,\"#d8576b\"],[0.6666666666666666,\"#ed7953\"],[0.7777777777777778,\"#fb9f3a\"],[0.8888888888888888,\"#fdca26\"],[1.0,\"#f0f921\"]]}],\"choropleth\":[{\"type\":\"choropleth\",\"colorbar\":{\"outlinewidth\":0,\"ticks\":\"\"}}],\"histogram2d\":[{\"type\":\"histogram2d\",\"colorbar\":{\"outlinewidth\":0,\"ticks\":\"\"},\"colorscale\":[[0.0,\"#0d0887\"],[0.1111111111111111,\"#46039f\"],[0.2222222222222222,\"#7201a8\"],[0.3333333333333333,\"#9c179e\"],[0.4444444444444444,\"#bd3786\"],[0.5555555555555556,\"#d8576b\"],[0.6666666666666666,\"#ed7953\"],[0.7777777777777778,\"#fb9f3a\"],[0.8888888888888888,\"#fdca26\"],[1.0,\"#f0f921\"]]}],\"heatmap\":[{\"type\":\"heatmap\",\"colorbar\":{\"outlinewidth\":0,\"ticks\":\"\"},\"colorscale\":[[0.0,\"#0d0887\"],[0.1111111111111111,\"#46039f\"],[0.2222222222222222,\"#7201a8\"],[0.3333333333333333,\"#9c179e\"],[0.4444444444444444,\"#bd3786\"],[0.5555555555555556,\"#d8576b\"],[0.6666666666666666,\"#ed7953\"],[0.7777777777777778,\"#fb9f3a\"],[0.8888888888888888,\"#fdca26\"],[1.0,\"#f0f921\"]]}],\"heatmapgl\":[{\"type\":\"heatmapgl\",\"colorbar\":{\"outlinewidth\":0,\"ticks\":\"\"},\"colorscale\":[[0.0,\"#0d0887\"],[0.1111111111111111,\"#46039f\"],[0.2222222222222222,\"#7201a8\"],[0.3333333333333333,\"#9c179e\"],[0.4444444444444444,\"#bd3786\"],[0.5555555555555556,\"#d8576b\"],[0.6666666666666666,\"#ed7953\"],[0.7777777777777778,\"#fb9f3a\"],[0.8888888888888888,\"#fdca26\"],[1.0,\"#f0f921\"]]}],\"contourcarpet\":[{\"type\":\"contourcarpet\",\"colorbar\":{\"outlinewidth\":0,\"ticks\":\"\"}}],\"contour\":[{\"type\":\"contour\",\"colorbar\":{\"outlinewidth\":0,\"ticks\":\"\"},\"colorscale\":[[0.0,\"#0d0887\"],[0.1111111111111111,\"#46039f\"],[0.2222222222222222,\"#7201a8\"],[0.3333333333333333,\"#9c179e\"],[0.4444444444444444,\"#bd3786\"],[0.5555555555555556,\"#d8576b\"],[0.6666666666666666,\"#ed7953\"],[0.7777777777777778,\"#fb9f3a\"],[0.8888888888888888,\"#fdca26\"],[1.0,\"#f0f921\"]]}],\"surface\":[{\"type\":\"surface\",\"colorbar\":{\"outlinewidth\":0,\"ticks\":\"\"},\"colorscale\":[[0.0,\"#0d0887\"],[0.1111111111111111,\"#46039f\"],[0.2222222222222222,\"#7201a8\"],[0.3333333333333333,\"#9c179e\"],[0.4444444444444444,\"#bd3786\"],[0.5555555555555556,\"#d8576b\"],[0.6666666666666666,\"#ed7953\"],[0.7777777777777778,\"#fb9f3a\"],[0.8888888888888888,\"#fdca26\"],[1.0,\"#f0f921\"]]}],\"mesh3d\":[{\"type\":\"mesh3d\",\"colorbar\":{\"outlinewidth\":0,\"ticks\":\"\"}}],\"scatter\":[{\"fillpattern\":{\"fillmode\":\"overlay\",\"size\":10,\"solidity\":0.2},\"type\":\"scatter\"}],\"parcoords\":[{\"type\":\"parcoords\",\"line\":{\"colorbar\":{\"outlinewidth\":0,\"ticks\":\"\"}}}],\"scatterpolargl\":[{\"type\":\"scatterpolargl\",\"marker\":{\"colorbar\":{\"outlinewidth\":0,\"ticks\":\"\"}}}],\"bar\":[{\"error_x\":{\"color\":\"#2a3f5f\"},\"error_y\":{\"color\":\"#2a3f5f\"},\"marker\":{\"line\":{\"color\":\"#E5ECF6\",\"width\":0.5},\"pattern\":{\"fillmode\":\"overlay\",\"size\":10,\"solidity\":0.2}},\"type\":\"bar\"}],\"scattergeo\":[{\"type\":\"scattergeo\",\"marker\":{\"colorbar\":{\"outlinewidth\":0,\"ticks\":\"\"}}}],\"scatterpolar\":[{\"type\":\"scatterpolar\",\"marker\":{\"colorbar\":{\"outlinewidth\":0,\"ticks\":\"\"}}}],\"histogram\":[{\"marker\":{\"pattern\":{\"fillmode\":\"overlay\",\"size\":10,\"solidity\":0.2}},\"type\":\"histogram\"}],\"scattergl\":[{\"type\":\"scattergl\",\"marker\":{\"colorbar\":{\"outlinewidth\":0,\"ticks\":\"\"}}}],\"scatter3d\":[{\"type\":\"scatter3d\",\"line\":{\"colorbar\":{\"outlinewidth\":0,\"ticks\":\"\"}},\"marker\":{\"colorbar\":{\"outlinewidth\":0,\"ticks\":\"\"}}}],\"scattermapbox\":[{\"type\":\"scattermapbox\",\"marker\":{\"colorbar\":{\"outlinewidth\":0,\"ticks\":\"\"}}}],\"scatterternary\":[{\"type\":\"scatterternary\",\"marker\":{\"colorbar\":{\"outlinewidth\":0,\"ticks\":\"\"}}}],\"scattercarpet\":[{\"type\":\"scattercarpet\",\"marker\":{\"colorbar\":{\"outlinewidth\":0,\"ticks\":\"\"}}}],\"carpet\":[{\"aaxis\":{\"endlinecolor\":\"#2a3f5f\",\"gridcolor\":\"white\",\"linecolor\":\"white\",\"minorgridcolor\":\"white\",\"startlinecolor\":\"#2a3f5f\"},\"baxis\":{\"endlinecolor\":\"#2a3f5f\",\"gridcolor\":\"white\",\"linecolor\":\"white\",\"minorgridcolor\":\"white\",\"startlinecolor\":\"#2a3f5f\"},\"type\":\"carpet\"}],\"table\":[{\"cells\":{\"fill\":{\"color\":\"#EBF0F8\"},\"line\":{\"color\":\"white\"}},\"header\":{\"fill\":{\"color\":\"#C8D4E3\"},\"line\":{\"color\":\"white\"}},\"type\":\"table\"}],\"barpolar\":[{\"marker\":{\"line\":{\"color\":\"#E5ECF6\",\"width\":0.5},\"pattern\":{\"fillmode\":\"overlay\",\"size\":10,\"solidity\":0.2}},\"type\":\"barpolar\"}],\"pie\":[{\"automargin\":true,\"type\":\"pie\"}]},\"layout\":{\"autotypenumbers\":\"strict\",\"colorway\":[\"#636efa\",\"#EF553B\",\"#00cc96\",\"#ab63fa\",\"#FFA15A\",\"#19d3f3\",\"#FF6692\",\"#B6E880\",\"#FF97FF\",\"#FECB52\"],\"font\":{\"color\":\"#2a3f5f\"},\"hovermode\":\"closest\",\"hoverlabel\":{\"align\":\"left\"},\"paper_bgcolor\":\"white\",\"plot_bgcolor\":\"#E5ECF6\",\"polar\":{\"bgcolor\":\"#E5ECF6\",\"angularaxis\":{\"gridcolor\":\"white\",\"linecolor\":\"white\",\"ticks\":\"\"},\"radialaxis\":{\"gridcolor\":\"white\",\"linecolor\":\"white\",\"ticks\":\"\"}},\"ternary\":{\"bgcolor\":\"#E5ECF6\",\"aaxis\":{\"gridcolor\":\"white\",\"linecolor\":\"white\",\"ticks\":\"\"},\"baxis\":{\"gridcolor\":\"white\",\"linecolor\":\"white\",\"ticks\":\"\"},\"caxis\":{\"gridcolor\":\"white\",\"linecolor\":\"white\",\"ticks\":\"\"}},\"coloraxis\":{\"colorbar\":{\"outlinewidth\":0,\"ticks\":\"\"}},\"colorscale\":{\"sequential\":[[0.0,\"#0d0887\"],[0.1111111111111111,\"#46039f\"],[0.2222222222222222,\"#7201a8\"],[0.3333333333333333,\"#9c179e\"],[0.4444444444444444,\"#bd3786\"],[0.5555555555555556,\"#d8576b\"],[0.6666666666666666,\"#ed7953\"],[0.7777777777777778,\"#fb9f3a\"],[0.8888888888888888,\"#fdca26\"],[1.0,\"#f0f921\"]],\"sequentialminus\":[[0.0,\"#0d0887\"],[0.1111111111111111,\"#46039f\"],[0.2222222222222222,\"#7201a8\"],[0.3333333333333333,\"#9c179e\"],[0.4444444444444444,\"#bd3786\"],[0.5555555555555556,\"#d8576b\"],[0.6666666666666666,\"#ed7953\"],[0.7777777777777778,\"#fb9f3a\"],[0.8888888888888888,\"#fdca26\"],[1.0,\"#f0f921\"]],\"diverging\":[[0,\"#8e0152\"],[0.1,\"#c51b7d\"],[0.2,\"#de77ae\"],[0.3,\"#f1b6da\"],[0.4,\"#fde0ef\"],[0.5,\"#f7f7f7\"],[0.6,\"#e6f5d0\"],[0.7,\"#b8e186\"],[0.8,\"#7fbc41\"],[0.9,\"#4d9221\"],[1,\"#276419\"]]},\"xaxis\":{\"gridcolor\":\"white\",\"linecolor\":\"white\",\"ticks\":\"\",\"title\":{\"standoff\":15},\"zerolinecolor\":\"white\",\"automargin\":true,\"zerolinewidth\":2},\"yaxis\":{\"gridcolor\":\"white\",\"linecolor\":\"white\",\"ticks\":\"\",\"title\":{\"standoff\":15},\"zerolinecolor\":\"white\",\"automargin\":true,\"zerolinewidth\":2},\"scene\":{\"xaxis\":{\"backgroundcolor\":\"#E5ECF6\",\"gridcolor\":\"white\",\"linecolor\":\"white\",\"showbackground\":true,\"ticks\":\"\",\"zerolinecolor\":\"white\",\"gridwidth\":2},\"yaxis\":{\"backgroundcolor\":\"#E5ECF6\",\"gridcolor\":\"white\",\"linecolor\":\"white\",\"showbackground\":true,\"ticks\":\"\",\"zerolinecolor\":\"white\",\"gridwidth\":2},\"zaxis\":{\"backgroundcolor\":\"#E5ECF6\",\"gridcolor\":\"white\",\"linecolor\":\"white\",\"showbackground\":true,\"ticks\":\"\",\"zerolinecolor\":\"white\",\"gridwidth\":2}},\"shapedefaults\":{\"line\":{\"color\":\"#2a3f5f\"}},\"annotationdefaults\":{\"arrowcolor\":\"#2a3f5f\",\"arrowhead\":0,\"arrowwidth\":1},\"geo\":{\"bgcolor\":\"white\",\"landcolor\":\"#E5ECF6\",\"subunitcolor\":\"white\",\"showland\":true,\"showlakes\":true,\"lakecolor\":\"white\"},\"title\":{\"x\":0.05},\"mapbox\":{\"style\":\"light\"}}},\"xaxis\":{\"anchor\":\"y\",\"domain\":[0.0,1.0],\"scaleanchor\":\"y\",\"constrain\":\"domain\"},\"yaxis\":{\"anchor\":\"x\",\"domain\":[0.0,1.0],\"autorange\":\"reversed\",\"constrain\":\"domain\"},\"coloraxis\":{\"colorscale\":[[0.0,\"#0d0887\"],[0.1111111111111111,\"#46039f\"],[0.2222222222222222,\"#7201a8\"],[0.3333333333333333,\"#9c179e\"],[0.4444444444444444,\"#bd3786\"],[0.5555555555555556,\"#d8576b\"],[0.6666666666666666,\"#ed7953\"],[0.7777777777777778,\"#fb9f3a\"],[0.8888888888888888,\"#fdca26\"],[1.0,\"#f0f921\"]]},\"margin\":{\"t\":60}},                        {\"responsive\": true}                    ).then(function(){\n",
       "                            \n",
       "var gd = document.getElementById('32a2cf23-73c6-470c-8826-3f8144b22cc9');\n",
       "var x = new MutationObserver(function (mutations, observer) {{\n",
       "        var display = window.getComputedStyle(gd).display;\n",
       "        if (!display || display === 'none') {{\n",
       "            console.log([gd, 'removed!']);\n",
       "            Plotly.purge(gd);\n",
       "            observer.disconnect();\n",
       "        }}\n",
       "}});\n",
       "\n",
       "// Listen for the removal of the full notebook cells\n",
       "var notebookContainer = gd.closest('#notebook-container');\n",
       "if (notebookContainer) {{\n",
       "    x.observe(notebookContainer, {childList: true});\n",
       "}}\n",
       "\n",
       "// Listen for the clearing of the current output cell\n",
       "var outputEl = gd.closest('.output');\n",
       "if (outputEl) {{\n",
       "    x.observe(outputEl, {childList: true});\n",
       "}}\n",
       "\n",
       "                        })                };                });            </script>        </div>"
      ]
     },
     "metadata": {},
     "output_type": "display_data"
    }
   ],
   "source": [
    "import plotly.express as px\n",
    "import pandas as pd\n",
    "import numpy as np\n",
    "\n",
    "for task_name, losses in task_losses.items():\n",
    "    base_loss = losses[1]\n",
    "    losses = losses[0]\n",
    "\n",
    "    task_losses[task_name][0] = [(base_loss - loss) for loss in losses]\n",
    "\n",
    "\n",
    "df = pd.DataFrame([\n",
    "    {\"task\": task_name, \"feature\": feature, \"loss\": loss}\n",
    "    for task_name, losses in task_losses.items()\n",
    "    for feature, loss in zip(features, losses[0])\n",
    "])\n",
    "\n",
    "\n",
    "\n",
    "heatmap = np.zeros((len(task_names), len(features)))\n",
    "\n",
    "for i, task_name in enumerate(task_names):\n",
    "    for j, feature in enumerate(features):\n",
    "        heatmap[i, j] = task_losses[task_name][0][j]\n",
    "\n",
    "fig = px.imshow(heatmap, x=[str(x) for x in features], y=task_names)\n",
    "\n",
    "fig.show()\n"
   ]
  },
  {
   "cell_type": "code",
   "execution_count": 75,
   "metadata": {},
   "outputs": [
    {
     "data": {
      "application/vnd.plotly.v1+json": {
       "config": {
        "plotlyServerURL": "https://plot.ly"
       },
       "data": [
        {
         "coloraxis": "coloraxis",
         "hovertemplate": "x: %{x}<br>y: %{y}<br>color: %{z}<extra></extra>",
         "name": "0",
         "type": "heatmap",
         "x": [
          "9600",
          "23682",
          "32643",
          "31620",
          "27268",
          "27401",
          "6413",
          "24206",
          "12943",
          "16016",
          "9488",
          "13458",
          "14612",
          "19097",
          "7578",
          "16671",
          "19112",
          "7739",
          "8125",
          "32320",
          "6594",
          "7491",
          "15947",
          "5579",
          "15356",
          "16340",
          "24925",
          "30814",
          "4448",
          "26594",
          "11618",
          "6756",
          "6629",
          "5991",
          "16490",
          "2539",
          "26987",
          "6765",
          "18416",
          "2930",
          "2931",
          "22136",
          "6780"
         ],
         "xaxis": "x",
         "y": [
          "en_es",
          "antonyms",
          "person_profession",
          "es_en",
          "present_simple_gerund",
          "present_simple_past_simple",
          "person_profession",
          "person_language",
          "country_capital",
          "football_player_position"
         ],
         "yaxis": "y",
         "z": [
          [
           -0.0625,
           0.234375,
           0.09375,
           0.25,
           -0.625,
           -1.09375,
           0.09375,
           0.15625,
           -0.1875,
           -0.09375,
           0.359375,
           0.03125,
           0.46875,
           0.234375,
           0.5,
           0.125,
           -0.09375,
           -0.28125,
           -0.3125,
           0.328125,
           0.03125,
           -9.28125,
           -0.34375,
           -0.28125,
           0.390625,
           0.484375,
           0.25,
           -0.25,
           0.03125,
           -0.09375,
           0.421875,
           -0.15625,
           0.3125,
           0.15625,
           0.0625,
           0.03125,
           -1.75,
           -0.21875,
           -0.3125,
           0.1875,
           0.1875,
           0.28125,
           0.15625
          ],
          [
           -0.73046875,
           -0.0078125,
           0.140625,
           -0.65234375,
           0.21484375,
           -0.38671875,
           -0.30078125,
           -0.51171875,
           0.234375,
           -0.16015625,
           -0.49609375,
           -0.21484375,
           0.0546875,
           -0.89453125,
           -0.25390625,
           -0.51171875,
           -0.26171875,
           -0.23046875,
           -0.17578125,
           0.3125,
           0.171875,
           -7.07421875,
           -0.47265625,
           -0.12890625,
           0.0546875,
           0.17578125,
           -0.12109375,
           -0.14453125,
           -0.19140625,
           0.296875,
           -0.82421875,
           -0.29296875,
           -0.29296875,
           0.15234375,
           0.34765625,
           0.04296875,
           0.22265625,
           -0.07421875,
           -0.36328125,
           -0.31640625,
           -0.37890625,
           -2.05859375,
           -0.04296875
          ],
          [
           -0.296875,
           -0.21875,
           -0.265625,
           -0.890625,
           -0.53125,
           -1.4375,
           -0.15625,
           -0.53125,
           -0.375,
           -0.0625,
           0.25,
           -0.40625,
           0.203125,
           -0.046875,
           0.109375,
           -0.28125,
           -0.25,
           -0.484375,
           -0.96875,
           -0.328125,
           -1.34375,
           -5.65625,
           -0.015625,
           -0.046875,
           -0.015625,
           -0.46875,
           -0.265625,
           -0.4375,
           0.03125,
           -0.015625,
           -0.15625,
           -0.421875,
           -0.078125,
           -0.0625,
           -0.203125,
           -1.0625,
           0.3125,
           0.296875,
           -0.046875,
           -0.28125,
           -0.34375,
           -0.21875,
           -0.140625
          ],
          [
           -0.484375,
           -0.671875,
           0.265625,
           -0.765625,
           -0.671875,
           -1.59375,
           -0.578125,
           -0.953125,
           -1.203125,
           -1.203125,
           -0.640625,
           -0.484375,
           -0.015625,
           -0.453125,
           -0.234375,
           -0.21875,
           -0.21875,
           -0.90625,
           -1.15625,
           -0.1875,
           -1.1875,
           -7.96875,
           -0.40625,
           -0.65625,
           -0.234375,
           -0.125,
           -0.09375,
           -0.46875,
           -0.15625,
           0.1875,
           0.125,
           -0.390625,
           -0.03125,
           -0.890625,
           -0.34375,
           -0.875,
           -0.09375,
           -0.328125,
           -0.71875,
           -0.5,
           -0.3125,
           -0.359375,
           0.03125
          ],
          [
           0.1484375,
           -2.2255859375,
           0.017578125,
           0.13330078125,
           -2.8505859375,
           0.1005859375,
           -0.0419921875,
           0.0693359375,
           0.1435546875,
           0.0419921875,
           -0.0400390625,
           -0.0927734375,
           -0.0927734375,
           0.0439453125,
           -0.0615234375,
           0.09765625,
           0.11328125,
           -0.0380859375,
           0.15087890625,
           0.0361328125,
           -0.7294921875,
           -6.3505859375,
           -0.0478515625,
           -0.1044921875,
           -0.3037109375,
           0.037109375,
           -0.0693359375,
           -0.0908203125,
           -0.1142578125,
           -0.0712890625,
           -0.1279296875,
           -0.1044921875,
           -0.2314453125,
           -0.0517578125,
           -0.0283203125,
           -0.0244140625,
           -0.0615234375,
           0.0517578125,
           -0.1943359375,
           -1.2412109375,
           0.103515625,
           0.064453125,
           0.0869140625
          ],
          [
           0.203125,
           -0.015625,
           0.1640625,
           0.0546875,
           -2.03125,
           0.31640625,
           0.0625,
           0.1484375,
           0.09375,
           0.140625,
           0.125,
           0.1015625,
           0.33203125,
           0,
           -0.015625,
           0.1328125,
           0.1171875,
           -0.015625,
           0.28515625,
           0.046875,
           -0.5546875,
           -6.28125,
           -0.1484375,
           0.34765625,
           -3.53125,
           0.125,
           0.1328125,
           0.0859375,
           0.0546875,
           -0.0625,
           0.0625,
           0.171875,
           0.1015625,
           0.203125,
           0.1640625,
           0.015625,
           0.37109375,
           0.1015625,
           0.1328125,
           -0.0078125,
           0.0625,
           0.1171875,
           0.03125
          ],
          [
           -0.296875,
           -0.21875,
           -0.265625,
           -0.890625,
           -0.53125,
           -1.4375,
           -0.15625,
           -0.53125,
           -0.375,
           -0.0625,
           0.25,
           -0.40625,
           0.203125,
           -0.046875,
           0.109375,
           -0.28125,
           -0.25,
           -0.484375,
           -0.96875,
           -0.328125,
           -1.34375,
           -5.65625,
           -0.015625,
           -0.046875,
           -0.015625,
           -0.46875,
           -0.265625,
           -0.4375,
           0.03125,
           -0.015625,
           -0.15625,
           -0.421875,
           -0.078125,
           -0.0625,
           -0.203125,
           -1.0625,
           0.3125,
           0.296875,
           -0.046875,
           -0.28125,
           -0.34375,
           -0.21875,
           -0.140625
          ],
          [
           -1.09375,
           -0.1328125,
           -0.03125,
           -0.125,
           -0.53125,
           -0.6640625,
           0.0546875,
           -0.171875,
           -0.7421875,
           -0.140625,
           0.359375,
           0.1875,
           0.0546875,
           -0.203125,
           -0.1015625,
           -0.1328125,
           -0.1171875,
           -0.15625,
           -0.1953125,
           -0.1171875,
           -0.2421875,
           -0.1875,
           -0.171875,
           -0.0390625,
           0.2109375,
           -0.71875,
           -0.71875,
           -0.078125,
           0.09375,
           -0.3125,
           0.25390625,
           -0.046875,
           -0.015625,
           -0.1328125,
           -0.1953125,
           -0.46875,
           0.25390625,
           0.0703125,
           0.09375,
           -0.40625,
           0.0625,
           -0.328125,
           0.1171875
          ],
          [
           -0.109375,
           -3.3046875,
           0.2890625,
           -0.5234375,
           -0.0703125,
           -0.046875,
           -0.203125,
           -0.7421875,
           0.125,
           0.09375,
           0.046875,
           -0.015625,
           -0.1015625,
           0.1015625,
           -0.234375,
           -0.0078125,
           -0.3671875,
           -0.1484375,
           -1.0234375,
           0,
           0.328125,
           -0.140625,
           -0.3671875,
           0.1640625,
           0.046875,
           0,
           -0.1875,
           -0.15625,
           0.109375,
           0.15625,
           0.0390625,
           -0.0703125,
           0.125,
           0.0078125,
           0,
           -0.5078125,
           0.296875,
           -0.1796875,
           -0.046875,
           0.5390625,
           0.0234375,
           -0.2578125,
           -0.4921875
          ],
          [
           -0.34375,
           -1.90625,
           0.4921875,
           -1.65625,
           -0.234375,
           -3,
           -0.578125,
           -2.28125,
           -0.953125,
           -1.0625,
           -0.203125,
           -0.3125,
           -0.453125,
           0.21875,
           -1.421875,
           -0.265625,
           -0.0625,
           -0.03125,
           -3.25,
           0.125,
           -1.421875,
           -5.03125,
           -0.3125,
           0.234375,
           -0.03125,
           0.046875,
           -1.546875,
           0.0625,
           -0.15625,
           0.15625,
           -0.203125,
           -0.828125,
           0,
           -0.828125,
           -0.171875,
           -1.390625,
           -0.1875,
           -0.46875,
           -0.5,
           -0.9375,
           -0.484375,
           0.09375,
           -0.59375
          ]
         ]
        }
       ],
       "layout": {
        "coloraxis": {
         "colorscale": [
          [
           0,
           "#0d0887"
          ],
          [
           0.1111111111111111,
           "#46039f"
          ],
          [
           0.2222222222222222,
           "#7201a8"
          ],
          [
           0.3333333333333333,
           "#9c179e"
          ],
          [
           0.4444444444444444,
           "#bd3786"
          ],
          [
           0.5555555555555556,
           "#d8576b"
          ],
          [
           0.6666666666666666,
           "#ed7953"
          ],
          [
           0.7777777777777778,
           "#fb9f3a"
          ],
          [
           0.8888888888888888,
           "#fdca26"
          ],
          [
           1,
           "#f0f921"
          ]
         ]
        },
        "margin": {
         "t": 60
        },
        "template": {
         "data": {
          "bar": [
           {
            "error_x": {
             "color": "#2a3f5f"
            },
            "error_y": {
             "color": "#2a3f5f"
            },
            "marker": {
             "line": {
              "color": "#E5ECF6",
              "width": 0.5
             },
             "pattern": {
              "fillmode": "overlay",
              "size": 10,
              "solidity": 0.2
             }
            },
            "type": "bar"
           }
          ],
          "barpolar": [
           {
            "marker": {
             "line": {
              "color": "#E5ECF6",
              "width": 0.5
             },
             "pattern": {
              "fillmode": "overlay",
              "size": 10,
              "solidity": 0.2
             }
            },
            "type": "barpolar"
           }
          ],
          "carpet": [
           {
            "aaxis": {
             "endlinecolor": "#2a3f5f",
             "gridcolor": "white",
             "linecolor": "white",
             "minorgridcolor": "white",
             "startlinecolor": "#2a3f5f"
            },
            "baxis": {
             "endlinecolor": "#2a3f5f",
             "gridcolor": "white",
             "linecolor": "white",
             "minorgridcolor": "white",
             "startlinecolor": "#2a3f5f"
            },
            "type": "carpet"
           }
          ],
          "choropleth": [
           {
            "colorbar": {
             "outlinewidth": 0,
             "ticks": ""
            },
            "type": "choropleth"
           }
          ],
          "contour": [
           {
            "colorbar": {
             "outlinewidth": 0,
             "ticks": ""
            },
            "colorscale": [
             [
              0,
              "#0d0887"
             ],
             [
              0.1111111111111111,
              "#46039f"
             ],
             [
              0.2222222222222222,
              "#7201a8"
             ],
             [
              0.3333333333333333,
              "#9c179e"
             ],
             [
              0.4444444444444444,
              "#bd3786"
             ],
             [
              0.5555555555555556,
              "#d8576b"
             ],
             [
              0.6666666666666666,
              "#ed7953"
             ],
             [
              0.7777777777777778,
              "#fb9f3a"
             ],
             [
              0.8888888888888888,
              "#fdca26"
             ],
             [
              1,
              "#f0f921"
             ]
            ],
            "type": "contour"
           }
          ],
          "contourcarpet": [
           {
            "colorbar": {
             "outlinewidth": 0,
             "ticks": ""
            },
            "type": "contourcarpet"
           }
          ],
          "heatmap": [
           {
            "colorbar": {
             "outlinewidth": 0,
             "ticks": ""
            },
            "colorscale": [
             [
              0,
              "#0d0887"
             ],
             [
              0.1111111111111111,
              "#46039f"
             ],
             [
              0.2222222222222222,
              "#7201a8"
             ],
             [
              0.3333333333333333,
              "#9c179e"
             ],
             [
              0.4444444444444444,
              "#bd3786"
             ],
             [
              0.5555555555555556,
              "#d8576b"
             ],
             [
              0.6666666666666666,
              "#ed7953"
             ],
             [
              0.7777777777777778,
              "#fb9f3a"
             ],
             [
              0.8888888888888888,
              "#fdca26"
             ],
             [
              1,
              "#f0f921"
             ]
            ],
            "type": "heatmap"
           }
          ],
          "heatmapgl": [
           {
            "colorbar": {
             "outlinewidth": 0,
             "ticks": ""
            },
            "colorscale": [
             [
              0,
              "#0d0887"
             ],
             [
              0.1111111111111111,
              "#46039f"
             ],
             [
              0.2222222222222222,
              "#7201a8"
             ],
             [
              0.3333333333333333,
              "#9c179e"
             ],
             [
              0.4444444444444444,
              "#bd3786"
             ],
             [
              0.5555555555555556,
              "#d8576b"
             ],
             [
              0.6666666666666666,
              "#ed7953"
             ],
             [
              0.7777777777777778,
              "#fb9f3a"
             ],
             [
              0.8888888888888888,
              "#fdca26"
             ],
             [
              1,
              "#f0f921"
             ]
            ],
            "type": "heatmapgl"
           }
          ],
          "histogram": [
           {
            "marker": {
             "pattern": {
              "fillmode": "overlay",
              "size": 10,
              "solidity": 0.2
             }
            },
            "type": "histogram"
           }
          ],
          "histogram2d": [
           {
            "colorbar": {
             "outlinewidth": 0,
             "ticks": ""
            },
            "colorscale": [
             [
              0,
              "#0d0887"
             ],
             [
              0.1111111111111111,
              "#46039f"
             ],
             [
              0.2222222222222222,
              "#7201a8"
             ],
             [
              0.3333333333333333,
              "#9c179e"
             ],
             [
              0.4444444444444444,
              "#bd3786"
             ],
             [
              0.5555555555555556,
              "#d8576b"
             ],
             [
              0.6666666666666666,
              "#ed7953"
             ],
             [
              0.7777777777777778,
              "#fb9f3a"
             ],
             [
              0.8888888888888888,
              "#fdca26"
             ],
             [
              1,
              "#f0f921"
             ]
            ],
            "type": "histogram2d"
           }
          ],
          "histogram2dcontour": [
           {
            "colorbar": {
             "outlinewidth": 0,
             "ticks": ""
            },
            "colorscale": [
             [
              0,
              "#0d0887"
             ],
             [
              0.1111111111111111,
              "#46039f"
             ],
             [
              0.2222222222222222,
              "#7201a8"
             ],
             [
              0.3333333333333333,
              "#9c179e"
             ],
             [
              0.4444444444444444,
              "#bd3786"
             ],
             [
              0.5555555555555556,
              "#d8576b"
             ],
             [
              0.6666666666666666,
              "#ed7953"
             ],
             [
              0.7777777777777778,
              "#fb9f3a"
             ],
             [
              0.8888888888888888,
              "#fdca26"
             ],
             [
              1,
              "#f0f921"
             ]
            ],
            "type": "histogram2dcontour"
           }
          ],
          "mesh3d": [
           {
            "colorbar": {
             "outlinewidth": 0,
             "ticks": ""
            },
            "type": "mesh3d"
           }
          ],
          "parcoords": [
           {
            "line": {
             "colorbar": {
              "outlinewidth": 0,
              "ticks": ""
             }
            },
            "type": "parcoords"
           }
          ],
          "pie": [
           {
            "automargin": true,
            "type": "pie"
           }
          ],
          "scatter": [
           {
            "fillpattern": {
             "fillmode": "overlay",
             "size": 10,
             "solidity": 0.2
            },
            "type": "scatter"
           }
          ],
          "scatter3d": [
           {
            "line": {
             "colorbar": {
              "outlinewidth": 0,
              "ticks": ""
             }
            },
            "marker": {
             "colorbar": {
              "outlinewidth": 0,
              "ticks": ""
             }
            },
            "type": "scatter3d"
           }
          ],
          "scattercarpet": [
           {
            "marker": {
             "colorbar": {
              "outlinewidth": 0,
              "ticks": ""
             }
            },
            "type": "scattercarpet"
           }
          ],
          "scattergeo": [
           {
            "marker": {
             "colorbar": {
              "outlinewidth": 0,
              "ticks": ""
             }
            },
            "type": "scattergeo"
           }
          ],
          "scattergl": [
           {
            "marker": {
             "colorbar": {
              "outlinewidth": 0,
              "ticks": ""
             }
            },
            "type": "scattergl"
           }
          ],
          "scattermapbox": [
           {
            "marker": {
             "colorbar": {
              "outlinewidth": 0,
              "ticks": ""
             }
            },
            "type": "scattermapbox"
           }
          ],
          "scatterpolar": [
           {
            "marker": {
             "colorbar": {
              "outlinewidth": 0,
              "ticks": ""
             }
            },
            "type": "scatterpolar"
           }
          ],
          "scatterpolargl": [
           {
            "marker": {
             "colorbar": {
              "outlinewidth": 0,
              "ticks": ""
             }
            },
            "type": "scatterpolargl"
           }
          ],
          "scatterternary": [
           {
            "marker": {
             "colorbar": {
              "outlinewidth": 0,
              "ticks": ""
             }
            },
            "type": "scatterternary"
           }
          ],
          "surface": [
           {
            "colorbar": {
             "outlinewidth": 0,
             "ticks": ""
            },
            "colorscale": [
             [
              0,
              "#0d0887"
             ],
             [
              0.1111111111111111,
              "#46039f"
             ],
             [
              0.2222222222222222,
              "#7201a8"
             ],
             [
              0.3333333333333333,
              "#9c179e"
             ],
             [
              0.4444444444444444,
              "#bd3786"
             ],
             [
              0.5555555555555556,
              "#d8576b"
             ],
             [
              0.6666666666666666,
              "#ed7953"
             ],
             [
              0.7777777777777778,
              "#fb9f3a"
             ],
             [
              0.8888888888888888,
              "#fdca26"
             ],
             [
              1,
              "#f0f921"
             ]
            ],
            "type": "surface"
           }
          ],
          "table": [
           {
            "cells": {
             "fill": {
              "color": "#EBF0F8"
             },
             "line": {
              "color": "white"
             }
            },
            "header": {
             "fill": {
              "color": "#C8D4E3"
             },
             "line": {
              "color": "white"
             }
            },
            "type": "table"
           }
          ]
         },
         "layout": {
          "annotationdefaults": {
           "arrowcolor": "#2a3f5f",
           "arrowhead": 0,
           "arrowwidth": 1
          },
          "autotypenumbers": "strict",
          "coloraxis": {
           "colorbar": {
            "outlinewidth": 0,
            "ticks": ""
           }
          },
          "colorscale": {
           "diverging": [
            [
             0,
             "#8e0152"
            ],
            [
             0.1,
             "#c51b7d"
            ],
            [
             0.2,
             "#de77ae"
            ],
            [
             0.3,
             "#f1b6da"
            ],
            [
             0.4,
             "#fde0ef"
            ],
            [
             0.5,
             "#f7f7f7"
            ],
            [
             0.6,
             "#e6f5d0"
            ],
            [
             0.7,
             "#b8e186"
            ],
            [
             0.8,
             "#7fbc41"
            ],
            [
             0.9,
             "#4d9221"
            ],
            [
             1,
             "#276419"
            ]
           ],
           "sequential": [
            [
             0,
             "#0d0887"
            ],
            [
             0.1111111111111111,
             "#46039f"
            ],
            [
             0.2222222222222222,
             "#7201a8"
            ],
            [
             0.3333333333333333,
             "#9c179e"
            ],
            [
             0.4444444444444444,
             "#bd3786"
            ],
            [
             0.5555555555555556,
             "#d8576b"
            ],
            [
             0.6666666666666666,
             "#ed7953"
            ],
            [
             0.7777777777777778,
             "#fb9f3a"
            ],
            [
             0.8888888888888888,
             "#fdca26"
            ],
            [
             1,
             "#f0f921"
            ]
           ],
           "sequentialminus": [
            [
             0,
             "#0d0887"
            ],
            [
             0.1111111111111111,
             "#46039f"
            ],
            [
             0.2222222222222222,
             "#7201a8"
            ],
            [
             0.3333333333333333,
             "#9c179e"
            ],
            [
             0.4444444444444444,
             "#bd3786"
            ],
            [
             0.5555555555555556,
             "#d8576b"
            ],
            [
             0.6666666666666666,
             "#ed7953"
            ],
            [
             0.7777777777777778,
             "#fb9f3a"
            ],
            [
             0.8888888888888888,
             "#fdca26"
            ],
            [
             1,
             "#f0f921"
            ]
           ]
          },
          "colorway": [
           "#636efa",
           "#EF553B",
           "#00cc96",
           "#ab63fa",
           "#FFA15A",
           "#19d3f3",
           "#FF6692",
           "#B6E880",
           "#FF97FF",
           "#FECB52"
          ],
          "font": {
           "color": "#2a3f5f"
          },
          "geo": {
           "bgcolor": "white",
           "lakecolor": "white",
           "landcolor": "#E5ECF6",
           "showlakes": true,
           "showland": true,
           "subunitcolor": "white"
          },
          "hoverlabel": {
           "align": "left"
          },
          "hovermode": "closest",
          "mapbox": {
           "style": "light"
          },
          "paper_bgcolor": "white",
          "plot_bgcolor": "#E5ECF6",
          "polar": {
           "angularaxis": {
            "gridcolor": "white",
            "linecolor": "white",
            "ticks": ""
           },
           "bgcolor": "#E5ECF6",
           "radialaxis": {
            "gridcolor": "white",
            "linecolor": "white",
            "ticks": ""
           }
          },
          "scene": {
           "xaxis": {
            "backgroundcolor": "#E5ECF6",
            "gridcolor": "white",
            "gridwidth": 2,
            "linecolor": "white",
            "showbackground": true,
            "ticks": "",
            "zerolinecolor": "white"
           },
           "yaxis": {
            "backgroundcolor": "#E5ECF6",
            "gridcolor": "white",
            "gridwidth": 2,
            "linecolor": "white",
            "showbackground": true,
            "ticks": "",
            "zerolinecolor": "white"
           },
           "zaxis": {
            "backgroundcolor": "#E5ECF6",
            "gridcolor": "white",
            "gridwidth": 2,
            "linecolor": "white",
            "showbackground": true,
            "ticks": "",
            "zerolinecolor": "white"
           }
          },
          "shapedefaults": {
           "line": {
            "color": "#2a3f5f"
           }
          },
          "ternary": {
           "aaxis": {
            "gridcolor": "white",
            "linecolor": "white",
            "ticks": ""
           },
           "baxis": {
            "gridcolor": "white",
            "linecolor": "white",
            "ticks": ""
           },
           "bgcolor": "#E5ECF6",
           "caxis": {
            "gridcolor": "white",
            "linecolor": "white",
            "ticks": ""
           }
          },
          "title": {
           "x": 0.05
          },
          "xaxis": {
           "automargin": true,
           "gridcolor": "white",
           "linecolor": "white",
           "ticks": "",
           "title": {
            "standoff": 15
           },
           "zerolinecolor": "white",
           "zerolinewidth": 2
          },
          "yaxis": {
           "automargin": true,
           "gridcolor": "white",
           "linecolor": "white",
           "ticks": "",
           "title": {
            "standoff": 15
           },
           "zerolinecolor": "white",
           "zerolinewidth": 2
          }
         }
        },
        "xaxis": {
         "anchor": "y",
         "constrain": "domain",
         "domain": [
          0,
          1
         ],
         "scaleanchor": "y"
        },
        "yaxis": {
         "anchor": "x",
         "autorange": "reversed",
         "constrain": "domain",
         "domain": [
          0,
          1
         ]
        }
       }
      },
      "text/html": [
       "<div>                            <div id=\"2ccd7cb7-0ec6-4823-9720-2ea7d60e8ffa\" class=\"plotly-graph-div\" style=\"height:525px; width:100%;\"></div>            <script type=\"text/javascript\">                require([\"plotly\"], function(Plotly) {                    window.PLOTLYENV=window.PLOTLYENV || {};                                    if (document.getElementById(\"2ccd7cb7-0ec6-4823-9720-2ea7d60e8ffa\")) {                    Plotly.newPlot(                        \"2ccd7cb7-0ec6-4823-9720-2ea7d60e8ffa\",                        [{\"coloraxis\":\"coloraxis\",\"name\":\"0\",\"x\":[\"9600\",\"23682\",\"32643\",\"31620\",\"27268\",\"27401\",\"6413\",\"24206\",\"12943\",\"16016\",\"9488\",\"13458\",\"14612\",\"19097\",\"7578\",\"16671\",\"19112\",\"7739\",\"8125\",\"32320\",\"6594\",\"7491\",\"15947\",\"5579\",\"15356\",\"16340\",\"24925\",\"30814\",\"4448\",\"26594\",\"11618\",\"6756\",\"6629\",\"5991\",\"16490\",\"2539\",\"26987\",\"6765\",\"18416\",\"2930\",\"2931\",\"22136\",\"6780\"],\"y\":[\"en_es\",\"antonyms\",\"person_profession\",\"es_en\",\"present_simple_gerund\",\"present_simple_past_simple\",\"person_profession\",\"person_language\",\"country_capital\",\"football_player_position\"],\"z\":[[-0.0625,0.234375,0.09375,0.25,-0.625,-1.09375,0.09375,0.15625,-0.1875,-0.09375,0.359375,0.03125,0.46875,0.234375,0.5,0.125,-0.09375,-0.28125,-0.3125,0.328125,0.03125,-9.28125,-0.34375,-0.28125,0.390625,0.484375,0.25,-0.25,0.03125,-0.09375,0.421875,-0.15625,0.3125,0.15625,0.0625,0.03125,-1.75,-0.21875,-0.3125,0.1875,0.1875,0.28125,0.15625],[-0.73046875,-0.0078125,0.140625,-0.65234375,0.21484375,-0.38671875,-0.30078125,-0.51171875,0.234375,-0.16015625,-0.49609375,-0.21484375,0.0546875,-0.89453125,-0.25390625,-0.51171875,-0.26171875,-0.23046875,-0.17578125,0.3125,0.171875,-7.07421875,-0.47265625,-0.12890625,0.0546875,0.17578125,-0.12109375,-0.14453125,-0.19140625,0.296875,-0.82421875,-0.29296875,-0.29296875,0.15234375,0.34765625,0.04296875,0.22265625,-0.07421875,-0.36328125,-0.31640625,-0.37890625,-2.05859375,-0.04296875],[-0.296875,-0.21875,-0.265625,-0.890625,-0.53125,-1.4375,-0.15625,-0.53125,-0.375,-0.0625,0.25,-0.40625,0.203125,-0.046875,0.109375,-0.28125,-0.25,-0.484375,-0.96875,-0.328125,-1.34375,-5.65625,-0.015625,-0.046875,-0.015625,-0.46875,-0.265625,-0.4375,0.03125,-0.015625,-0.15625,-0.421875,-0.078125,-0.0625,-0.203125,-1.0625,0.3125,0.296875,-0.046875,-0.28125,-0.34375,-0.21875,-0.140625],[-0.484375,-0.671875,0.265625,-0.765625,-0.671875,-1.59375,-0.578125,-0.953125,-1.203125,-1.203125,-0.640625,-0.484375,-0.015625,-0.453125,-0.234375,-0.21875,-0.21875,-0.90625,-1.15625,-0.1875,-1.1875,-7.96875,-0.40625,-0.65625,-0.234375,-0.125,-0.09375,-0.46875,-0.15625,0.1875,0.125,-0.390625,-0.03125,-0.890625,-0.34375,-0.875,-0.09375,-0.328125,-0.71875,-0.5,-0.3125,-0.359375,0.03125],[0.1484375,-2.2255859375,0.017578125,0.13330078125,-2.8505859375,0.1005859375,-0.0419921875,0.0693359375,0.1435546875,0.0419921875,-0.0400390625,-0.0927734375,-0.0927734375,0.0439453125,-0.0615234375,0.09765625,0.11328125,-0.0380859375,0.15087890625,0.0361328125,-0.7294921875,-6.3505859375,-0.0478515625,-0.1044921875,-0.3037109375,0.037109375,-0.0693359375,-0.0908203125,-0.1142578125,-0.0712890625,-0.1279296875,-0.1044921875,-0.2314453125,-0.0517578125,-0.0283203125,-0.0244140625,-0.0615234375,0.0517578125,-0.1943359375,-1.2412109375,0.103515625,0.064453125,0.0869140625],[0.203125,-0.015625,0.1640625,0.0546875,-2.03125,0.31640625,0.0625,0.1484375,0.09375,0.140625,0.125,0.1015625,0.33203125,0.0,-0.015625,0.1328125,0.1171875,-0.015625,0.28515625,0.046875,-0.5546875,-6.28125,-0.1484375,0.34765625,-3.53125,0.125,0.1328125,0.0859375,0.0546875,-0.0625,0.0625,0.171875,0.1015625,0.203125,0.1640625,0.015625,0.37109375,0.1015625,0.1328125,-0.0078125,0.0625,0.1171875,0.03125],[-0.296875,-0.21875,-0.265625,-0.890625,-0.53125,-1.4375,-0.15625,-0.53125,-0.375,-0.0625,0.25,-0.40625,0.203125,-0.046875,0.109375,-0.28125,-0.25,-0.484375,-0.96875,-0.328125,-1.34375,-5.65625,-0.015625,-0.046875,-0.015625,-0.46875,-0.265625,-0.4375,0.03125,-0.015625,-0.15625,-0.421875,-0.078125,-0.0625,-0.203125,-1.0625,0.3125,0.296875,-0.046875,-0.28125,-0.34375,-0.21875,-0.140625],[-1.09375,-0.1328125,-0.03125,-0.125,-0.53125,-0.6640625,0.0546875,-0.171875,-0.7421875,-0.140625,0.359375,0.1875,0.0546875,-0.203125,-0.1015625,-0.1328125,-0.1171875,-0.15625,-0.1953125,-0.1171875,-0.2421875,-0.1875,-0.171875,-0.0390625,0.2109375,-0.71875,-0.71875,-0.078125,0.09375,-0.3125,0.25390625,-0.046875,-0.015625,-0.1328125,-0.1953125,-0.46875,0.25390625,0.0703125,0.09375,-0.40625,0.0625,-0.328125,0.1171875],[-0.109375,-3.3046875,0.2890625,-0.5234375,-0.0703125,-0.046875,-0.203125,-0.7421875,0.125,0.09375,0.046875,-0.015625,-0.1015625,0.1015625,-0.234375,-0.0078125,-0.3671875,-0.1484375,-1.0234375,0.0,0.328125,-0.140625,-0.3671875,0.1640625,0.046875,0.0,-0.1875,-0.15625,0.109375,0.15625,0.0390625,-0.0703125,0.125,0.0078125,0.0,-0.5078125,0.296875,-0.1796875,-0.046875,0.5390625,0.0234375,-0.2578125,-0.4921875],[-0.34375,-1.90625,0.4921875,-1.65625,-0.234375,-3.0,-0.578125,-2.28125,-0.953125,-1.0625,-0.203125,-0.3125,-0.453125,0.21875,-1.421875,-0.265625,-0.0625,-0.03125,-3.25,0.125,-1.421875,-5.03125,-0.3125,0.234375,-0.03125,0.046875,-1.546875,0.0625,-0.15625,0.15625,-0.203125,-0.828125,0.0,-0.828125,-0.171875,-1.390625,-0.1875,-0.46875,-0.5,-0.9375,-0.484375,0.09375,-0.59375]],\"type\":\"heatmap\",\"xaxis\":\"x\",\"yaxis\":\"y\",\"hovertemplate\":\"x: %{x}\\u003cbr\\u003ey: %{y}\\u003cbr\\u003ecolor: %{z}\\u003cextra\\u003e\\u003c\\u002fextra\\u003e\"}],                        {\"template\":{\"data\":{\"histogram2dcontour\":[{\"type\":\"histogram2dcontour\",\"colorbar\":{\"outlinewidth\":0,\"ticks\":\"\"},\"colorscale\":[[0.0,\"#0d0887\"],[0.1111111111111111,\"#46039f\"],[0.2222222222222222,\"#7201a8\"],[0.3333333333333333,\"#9c179e\"],[0.4444444444444444,\"#bd3786\"],[0.5555555555555556,\"#d8576b\"],[0.6666666666666666,\"#ed7953\"],[0.7777777777777778,\"#fb9f3a\"],[0.8888888888888888,\"#fdca26\"],[1.0,\"#f0f921\"]]}],\"choropleth\":[{\"type\":\"choropleth\",\"colorbar\":{\"outlinewidth\":0,\"ticks\":\"\"}}],\"histogram2d\":[{\"type\":\"histogram2d\",\"colorbar\":{\"outlinewidth\":0,\"ticks\":\"\"},\"colorscale\":[[0.0,\"#0d0887\"],[0.1111111111111111,\"#46039f\"],[0.2222222222222222,\"#7201a8\"],[0.3333333333333333,\"#9c179e\"],[0.4444444444444444,\"#bd3786\"],[0.5555555555555556,\"#d8576b\"],[0.6666666666666666,\"#ed7953\"],[0.7777777777777778,\"#fb9f3a\"],[0.8888888888888888,\"#fdca26\"],[1.0,\"#f0f921\"]]}],\"heatmap\":[{\"type\":\"heatmap\",\"colorbar\":{\"outlinewidth\":0,\"ticks\":\"\"},\"colorscale\":[[0.0,\"#0d0887\"],[0.1111111111111111,\"#46039f\"],[0.2222222222222222,\"#7201a8\"],[0.3333333333333333,\"#9c179e\"],[0.4444444444444444,\"#bd3786\"],[0.5555555555555556,\"#d8576b\"],[0.6666666666666666,\"#ed7953\"],[0.7777777777777778,\"#fb9f3a\"],[0.8888888888888888,\"#fdca26\"],[1.0,\"#f0f921\"]]}],\"heatmapgl\":[{\"type\":\"heatmapgl\",\"colorbar\":{\"outlinewidth\":0,\"ticks\":\"\"},\"colorscale\":[[0.0,\"#0d0887\"],[0.1111111111111111,\"#46039f\"],[0.2222222222222222,\"#7201a8\"],[0.3333333333333333,\"#9c179e\"],[0.4444444444444444,\"#bd3786\"],[0.5555555555555556,\"#d8576b\"],[0.6666666666666666,\"#ed7953\"],[0.7777777777777778,\"#fb9f3a\"],[0.8888888888888888,\"#fdca26\"],[1.0,\"#f0f921\"]]}],\"contourcarpet\":[{\"type\":\"contourcarpet\",\"colorbar\":{\"outlinewidth\":0,\"ticks\":\"\"}}],\"contour\":[{\"type\":\"contour\",\"colorbar\":{\"outlinewidth\":0,\"ticks\":\"\"},\"colorscale\":[[0.0,\"#0d0887\"],[0.1111111111111111,\"#46039f\"],[0.2222222222222222,\"#7201a8\"],[0.3333333333333333,\"#9c179e\"],[0.4444444444444444,\"#bd3786\"],[0.5555555555555556,\"#d8576b\"],[0.6666666666666666,\"#ed7953\"],[0.7777777777777778,\"#fb9f3a\"],[0.8888888888888888,\"#fdca26\"],[1.0,\"#f0f921\"]]}],\"surface\":[{\"type\":\"surface\",\"colorbar\":{\"outlinewidth\":0,\"ticks\":\"\"},\"colorscale\":[[0.0,\"#0d0887\"],[0.1111111111111111,\"#46039f\"],[0.2222222222222222,\"#7201a8\"],[0.3333333333333333,\"#9c179e\"],[0.4444444444444444,\"#bd3786\"],[0.5555555555555556,\"#d8576b\"],[0.6666666666666666,\"#ed7953\"],[0.7777777777777778,\"#fb9f3a\"],[0.8888888888888888,\"#fdca26\"],[1.0,\"#f0f921\"]]}],\"mesh3d\":[{\"type\":\"mesh3d\",\"colorbar\":{\"outlinewidth\":0,\"ticks\":\"\"}}],\"scatter\":[{\"fillpattern\":{\"fillmode\":\"overlay\",\"size\":10,\"solidity\":0.2},\"type\":\"scatter\"}],\"parcoords\":[{\"type\":\"parcoords\",\"line\":{\"colorbar\":{\"outlinewidth\":0,\"ticks\":\"\"}}}],\"scatterpolargl\":[{\"type\":\"scatterpolargl\",\"marker\":{\"colorbar\":{\"outlinewidth\":0,\"ticks\":\"\"}}}],\"bar\":[{\"error_x\":{\"color\":\"#2a3f5f\"},\"error_y\":{\"color\":\"#2a3f5f\"},\"marker\":{\"line\":{\"color\":\"#E5ECF6\",\"width\":0.5},\"pattern\":{\"fillmode\":\"overlay\",\"size\":10,\"solidity\":0.2}},\"type\":\"bar\"}],\"scattergeo\":[{\"type\":\"scattergeo\",\"marker\":{\"colorbar\":{\"outlinewidth\":0,\"ticks\":\"\"}}}],\"scatterpolar\":[{\"type\":\"scatterpolar\",\"marker\":{\"colorbar\":{\"outlinewidth\":0,\"ticks\":\"\"}}}],\"histogram\":[{\"marker\":{\"pattern\":{\"fillmode\":\"overlay\",\"size\":10,\"solidity\":0.2}},\"type\":\"histogram\"}],\"scattergl\":[{\"type\":\"scattergl\",\"marker\":{\"colorbar\":{\"outlinewidth\":0,\"ticks\":\"\"}}}],\"scatter3d\":[{\"type\":\"scatter3d\",\"line\":{\"colorbar\":{\"outlinewidth\":0,\"ticks\":\"\"}},\"marker\":{\"colorbar\":{\"outlinewidth\":0,\"ticks\":\"\"}}}],\"scattermapbox\":[{\"type\":\"scattermapbox\",\"marker\":{\"colorbar\":{\"outlinewidth\":0,\"ticks\":\"\"}}}],\"scatterternary\":[{\"type\":\"scatterternary\",\"marker\":{\"colorbar\":{\"outlinewidth\":0,\"ticks\":\"\"}}}],\"scattercarpet\":[{\"type\":\"scattercarpet\",\"marker\":{\"colorbar\":{\"outlinewidth\":0,\"ticks\":\"\"}}}],\"carpet\":[{\"aaxis\":{\"endlinecolor\":\"#2a3f5f\",\"gridcolor\":\"white\",\"linecolor\":\"white\",\"minorgridcolor\":\"white\",\"startlinecolor\":\"#2a3f5f\"},\"baxis\":{\"endlinecolor\":\"#2a3f5f\",\"gridcolor\":\"white\",\"linecolor\":\"white\",\"minorgridcolor\":\"white\",\"startlinecolor\":\"#2a3f5f\"},\"type\":\"carpet\"}],\"table\":[{\"cells\":{\"fill\":{\"color\":\"#EBF0F8\"},\"line\":{\"color\":\"white\"}},\"header\":{\"fill\":{\"color\":\"#C8D4E3\"},\"line\":{\"color\":\"white\"}},\"type\":\"table\"}],\"barpolar\":[{\"marker\":{\"line\":{\"color\":\"#E5ECF6\",\"width\":0.5},\"pattern\":{\"fillmode\":\"overlay\",\"size\":10,\"solidity\":0.2}},\"type\":\"barpolar\"}],\"pie\":[{\"automargin\":true,\"type\":\"pie\"}]},\"layout\":{\"autotypenumbers\":\"strict\",\"colorway\":[\"#636efa\",\"#EF553B\",\"#00cc96\",\"#ab63fa\",\"#FFA15A\",\"#19d3f3\",\"#FF6692\",\"#B6E880\",\"#FF97FF\",\"#FECB52\"],\"font\":{\"color\":\"#2a3f5f\"},\"hovermode\":\"closest\",\"hoverlabel\":{\"align\":\"left\"},\"paper_bgcolor\":\"white\",\"plot_bgcolor\":\"#E5ECF6\",\"polar\":{\"bgcolor\":\"#E5ECF6\",\"angularaxis\":{\"gridcolor\":\"white\",\"linecolor\":\"white\",\"ticks\":\"\"},\"radialaxis\":{\"gridcolor\":\"white\",\"linecolor\":\"white\",\"ticks\":\"\"}},\"ternary\":{\"bgcolor\":\"#E5ECF6\",\"aaxis\":{\"gridcolor\":\"white\",\"linecolor\":\"white\",\"ticks\":\"\"},\"baxis\":{\"gridcolor\":\"white\",\"linecolor\":\"white\",\"ticks\":\"\"},\"caxis\":{\"gridcolor\":\"white\",\"linecolor\":\"white\",\"ticks\":\"\"}},\"coloraxis\":{\"colorbar\":{\"outlinewidth\":0,\"ticks\":\"\"}},\"colorscale\":{\"sequential\":[[0.0,\"#0d0887\"],[0.1111111111111111,\"#46039f\"],[0.2222222222222222,\"#7201a8\"],[0.3333333333333333,\"#9c179e\"],[0.4444444444444444,\"#bd3786\"],[0.5555555555555556,\"#d8576b\"],[0.6666666666666666,\"#ed7953\"],[0.7777777777777778,\"#fb9f3a\"],[0.8888888888888888,\"#fdca26\"],[1.0,\"#f0f921\"]],\"sequentialminus\":[[0.0,\"#0d0887\"],[0.1111111111111111,\"#46039f\"],[0.2222222222222222,\"#7201a8\"],[0.3333333333333333,\"#9c179e\"],[0.4444444444444444,\"#bd3786\"],[0.5555555555555556,\"#d8576b\"],[0.6666666666666666,\"#ed7953\"],[0.7777777777777778,\"#fb9f3a\"],[0.8888888888888888,\"#fdca26\"],[1.0,\"#f0f921\"]],\"diverging\":[[0,\"#8e0152\"],[0.1,\"#c51b7d\"],[0.2,\"#de77ae\"],[0.3,\"#f1b6da\"],[0.4,\"#fde0ef\"],[0.5,\"#f7f7f7\"],[0.6,\"#e6f5d0\"],[0.7,\"#b8e186\"],[0.8,\"#7fbc41\"],[0.9,\"#4d9221\"],[1,\"#276419\"]]},\"xaxis\":{\"gridcolor\":\"white\",\"linecolor\":\"white\",\"ticks\":\"\",\"title\":{\"standoff\":15},\"zerolinecolor\":\"white\",\"automargin\":true,\"zerolinewidth\":2},\"yaxis\":{\"gridcolor\":\"white\",\"linecolor\":\"white\",\"ticks\":\"\",\"title\":{\"standoff\":15},\"zerolinecolor\":\"white\",\"automargin\":true,\"zerolinewidth\":2},\"scene\":{\"xaxis\":{\"backgroundcolor\":\"#E5ECF6\",\"gridcolor\":\"white\",\"linecolor\":\"white\",\"showbackground\":true,\"ticks\":\"\",\"zerolinecolor\":\"white\",\"gridwidth\":2},\"yaxis\":{\"backgroundcolor\":\"#E5ECF6\",\"gridcolor\":\"white\",\"linecolor\":\"white\",\"showbackground\":true,\"ticks\":\"\",\"zerolinecolor\":\"white\",\"gridwidth\":2},\"zaxis\":{\"backgroundcolor\":\"#E5ECF6\",\"gridcolor\":\"white\",\"linecolor\":\"white\",\"showbackground\":true,\"ticks\":\"\",\"zerolinecolor\":\"white\",\"gridwidth\":2}},\"shapedefaults\":{\"line\":{\"color\":\"#2a3f5f\"}},\"annotationdefaults\":{\"arrowcolor\":\"#2a3f5f\",\"arrowhead\":0,\"arrowwidth\":1},\"geo\":{\"bgcolor\":\"white\",\"landcolor\":\"#E5ECF6\",\"subunitcolor\":\"white\",\"showland\":true,\"showlakes\":true,\"lakecolor\":\"white\"},\"title\":{\"x\":0.05},\"mapbox\":{\"style\":\"light\"}}},\"xaxis\":{\"anchor\":\"y\",\"domain\":[0.0,1.0],\"scaleanchor\":\"y\",\"constrain\":\"domain\"},\"yaxis\":{\"anchor\":\"x\",\"domain\":[0.0,1.0],\"autorange\":\"reversed\",\"constrain\":\"domain\"},\"coloraxis\":{\"colorscale\":[[0.0,\"#0d0887\"],[0.1111111111111111,\"#46039f\"],[0.2222222222222222,\"#7201a8\"],[0.3333333333333333,\"#9c179e\"],[0.4444444444444444,\"#bd3786\"],[0.5555555555555556,\"#d8576b\"],[0.6666666666666666,\"#ed7953\"],[0.7777777777777778,\"#fb9f3a\"],[0.8888888888888888,\"#fdca26\"],[1.0,\"#f0f921\"]]},\"margin\":{\"t\":60}},                        {\"responsive\": true}                    ).then(function(){\n",
       "                            \n",
       "var gd = document.getElementById('2ccd7cb7-0ec6-4823-9720-2ea7d60e8ffa');\n",
       "var x = new MutationObserver(function (mutations, observer) {{\n",
       "        var display = window.getComputedStyle(gd).display;\n",
       "        if (!display || display === 'none') {{\n",
       "            console.log([gd, 'removed!']);\n",
       "            Plotly.purge(gd);\n",
       "            observer.disconnect();\n",
       "        }}\n",
       "}});\n",
       "\n",
       "// Listen for the removal of the full notebook cells\n",
       "var notebookContainer = gd.closest('#notebook-container');\n",
       "if (notebookContainer) {{\n",
       "    x.observe(notebookContainer, {childList: true});\n",
       "}}\n",
       "\n",
       "// Listen for the clearing of the current output cell\n",
       "var outputEl = gd.closest('.output');\n",
       "if (outputEl) {{\n",
       "    x.observe(outputEl, {childList: true});\n",
       "}}\n",
       "\n",
       "                        })                };                });            </script>        </div>"
      ]
     },
     "metadata": {},
     "output_type": "display_data"
    }
   ],
   "source": [
    "import plotly.express as px\n",
    "import pandas as pd\n",
    "import numpy as np\n",
    "\n",
    "for task_name, losses in task_losses.items():\n",
    "    base_loss = losses[1]\n",
    "    losses = losses[0]\n",
    "\n",
    "    task_losses[task_name][0] = [(base_loss - loss) for loss in losses]\n",
    "\n",
    "\n",
    "df = pd.DataFrame([\n",
    "    {\"task\": task_name, \"feature\": feature, \"loss\": loss}\n",
    "    for task_name, losses in task_losses.items()\n",
    "    for feature, loss in zip(features, losses[0])\n",
    "])\n",
    "\n",
    "\n",
    "\n",
    "heatmap = np.zeros((len(task_names), len(features)))\n",
    "\n",
    "for i, task_name in enumerate(task_names):\n",
    "    for j, feature in enumerate(features):\n",
    "        heatmap[i, j] = task_losses[task_name][0][j]\n",
    "\n",
    "fig = px.imshow(heatmap, x=[str(x) for x in features], y=task_names)\n",
    "\n",
    "fig.show()\n"
   ]
  },
  {
   "cell_type": "code",
   "execution_count": 77,
   "metadata": {},
   "outputs": [
    {
     "data": {
      "application/vnd.plotly.v1+json": {
       "config": {
        "plotlyServerURL": "https://plot.ly"
       },
       "data": [
        {
         "coloraxis": "coloraxis",
         "hovertemplate": "x: %{x}<br>y: %{y}<br>color: %{z}<extra></extra>",
         "name": "0",
         "type": "heatmap",
         "x": [
          "9600",
          "23682",
          "32643",
          "31620",
          "27268",
          "27401",
          "6413",
          "24206",
          "12943",
          "16016",
          "9488",
          "13458",
          "14612",
          "19097",
          "7578",
          "16671",
          "19112",
          "7739",
          "8125",
          "32320",
          "6594",
          "7491",
          "15947",
          "5579",
          "15356",
          "16340",
          "24925",
          "30814",
          "4448",
          "26594",
          "11618",
          "6756",
          "6629",
          "5991",
          "16490",
          "2539",
          "26987",
          "6765",
          "18416",
          "2930",
          "2931",
          "22136",
          "6780"
         ],
         "xaxis": "x",
         "y": [
          "en_es",
          "antonyms",
          "person_profession",
          "es_en",
          "present_simple_gerund",
          "present_simple_past_simple",
          "person_profession",
          "person_language",
          "country_capital",
          "football_player_position"
         ],
         "yaxis": "y",
         "z": [
          [
           -5.65625,
           -15.90625,
           -2.84375,
           -7.21875,
           -9.09375,
           -10.03125,
           -1.96875,
           -2.84375,
           -7.78125,
           -5.90625,
           -8.78125,
           -3.40625,
           -6.84375,
           -3.3125,
           -2.28125,
           -6.03125,
           -14.15625,
           -7.40625,
           -5.28125,
           -4.46875,
           -12.78125,
           -11.90625,
           -1.46875,
           -8.03125,
           -3.1875,
           -2.65625,
           -4.21875,
           -4.21875,
           -1.28125,
           -4.84375,
           -6.40625,
           -1.375,
           -5.40625,
           -15.15625,
           -2.8125,
           -6.84375,
           -15.78125,
           -0.84375,
           -4.28125,
           -4.96875,
           -0.5625,
           -4.59375,
           -5.34375
          ],
          [
           -11.44921875,
           -15.13671875,
           0.05078125,
           -10.13671875,
           -4.44921875,
           -6.51171875,
           -4.44921875,
           -5.01171875,
           -6.38671875,
           -8.26171875,
           -9.76171875,
           -2.44921875,
           -4.98046875,
           -9.94921875,
           -5.98046875,
           -8.76171875,
           -11.94921875,
           -9.51171875,
           -8.26171875,
           -4.04296875,
           -13.88671875,
           -10.07421875,
           -1.21484375,
           -6.32421875,
           -3.16796875,
           -1.08984375,
           -1.82421875,
           -3.10546875,
           -3.01171875,
           -5.88671875,
           -10.82421875,
           -4.13671875,
           -3.29296875,
           -7.94921875,
           -2.76171875,
           -6.32421875,
           -7.69921875,
           -1.49609375,
           -2.60546875,
           -6.91796875,
           -3.63671875,
           -12.19921875,
           -4.69921875
          ],
          [
           -8.09375,
           -5.46875,
           -0.84375,
           -8.09375,
           -6.34375,
           -15.53125,
           -6.65625,
           -6.40625,
           -4.5625,
           -5.90625,
           -13.03125,
           -10.65625,
           -2.1875,
           -7.53125,
           -4.96875,
           -14.40625,
           -8.03125,
           -4.375,
           -4.1875,
           -5.15625,
           -13.40625,
           -14.53125,
           -5.84375,
           -4.3125,
           -2.75,
           -1.28125,
           -5.46875,
           -7.84375,
           -2.65625,
           -6.84375,
           -2.9375,
           -5.03125,
           -4.40625,
           -5.84375,
           -2.625,
           -9.59375,
           -5.96875,
           -1.875,
           -10.21875,
           -3.375,
           -0.9375,
           -1.625,
           -7.21875
          ],
          [
           -6.90625,
           -13.90625,
           -1.4375,
           -5.84375,
           -9.28125,
           -12.03125,
           -2.46875,
           -5.46875,
           -7.78125,
           -9.40625,
           -10.09375,
           -5.15625,
           -5.71875,
           -3.75,
           -2.8125,
           -10.46875,
           -10.46875,
           -7.40625,
           -8.03125,
           -2,
           -13.03125,
           -10.78125,
           -2.25,
           -8.34375,
           -5.15625,
           -1.9375,
           -2.8125,
           -4,
           -2.65625,
           -8.03125,
           -4.75,
           -4.21875,
           -7.65625,
           -12.09375,
           -4.40625,
           -11.09375,
           -7.84375,
           -1.5,
           -6.09375,
           -8.78125,
           -2.5,
           -5.0625,
           -5.96875
          ],
          [
           -5.1005859375,
           -18.6318359375,
           -1.5068359375,
           -5.8818359375,
           -13.8818359375,
           -10.0068359375,
           -1.0615234375,
           -2.7255859375,
           -2.1787109375,
           -5.4443359375,
           -12.5068359375,
           -1.6083984375,
           -9.8818359375,
           -2.9599609375,
           -3.3818359375,
           -8.6943359375,
           -10.6318359375,
           -7.4130859375,
           -7.3818359375,
           -4.8505859375,
           -12.8818359375,
           -8.0693359375,
           -0.1298828125,
           -9.5693359375,
           -11.0068359375,
           -1.9287109375,
           -3.9130859375,
           -4.4443359375,
           -2.7255859375,
           -5.5068359375,
           -4.1005859375,
           -1.0068359375,
           -7.7255859375,
           -14.3818359375,
           -3.4287109375,
           -9.1943359375,
           -8.6318359375,
           -0.1396484375,
           -2.8037109375,
           -9.7568359375,
           -3.7255859375,
           -5.7255859375,
           -7.4130859375
          ],
          [
           -5.59375,
           -16.03125,
           -0.796875,
           -3.4375,
           -11.78125,
           -9.90625,
           -1.609375,
           -1.78125,
           -2.6875,
           -3.875,
           -9.40625,
           -1.25,
           -9.15625,
           -3.0625,
           -2.015625,
           -7.15625,
           -9.15625,
           -6.96875,
           -4.75,
           -2.3125,
           -14.90625,
           -6.90625,
           0.0625,
           -6.15625,
           -10.46875,
           -0.2109375,
           -3,
           -3.5,
           -2.84375,
           -4.1875,
           -2.34375,
           -2.28125,
           -5.84375,
           -15.90625,
           -2.671875,
           -11.21875,
           -7.96875,
           -0.15625,
           -2.484375,
           -9.21875,
           -6.125,
           -4.46875,
           -8.84375
          ],
          [
           -8.09375,
           -5.46875,
           -0.84375,
           -8.09375,
           -6.34375,
           -15.53125,
           -6.65625,
           -6.40625,
           -4.5625,
           -5.90625,
           -13.03125,
           -10.65625,
           -2.1875,
           -7.53125,
           -4.96875,
           -14.40625,
           -8.03125,
           -4.375,
           -4.1875,
           -5.15625,
           -13.40625,
           -14.53125,
           -5.84375,
           -4.3125,
           -2.75,
           -1.28125,
           -5.46875,
           -7.84375,
           -2.65625,
           -6.84375,
           -2.9375,
           -5.03125,
           -4.40625,
           -5.84375,
           -2.625,
           -9.59375,
           -5.96875,
           -1.875,
           -10.21875,
           -3.375,
           -0.9375,
           -1.625,
           -7.21875
          ],
          [
           -6.515625,
           -7.453125,
           -0.484375,
           -5.203125,
           -7.453125,
           -11.203125,
           -0.375,
           -3.328125,
           -4.203125,
           -1.984375,
           -7.078125,
           -1.078125,
           -4.703125,
           -2.859375,
           -5.796875,
           -2.171875,
           -12.640625,
           -5.171875,
           -2.578125,
           -3.828125,
           -9.578125,
           -6.015625,
           -1.328125,
           -5.984375,
           -1.1875,
           -2.6875,
           -11.140625,
           -1.5625,
           -0.765625,
           -4.953125,
           -4.234375,
           -3.328125,
           -3.640625,
           -5.796875,
           -1.484375,
           -10.765625,
           -4.796875,
           -0.65625,
           -4.890625,
           -9.703125,
           -2.40625,
           -2.046875,
           -4.546875
          ],
          [
           -1.2421875,
           -13.9921875,
           -2.0234375,
           -5.9296875,
           -6.8046875,
           -5.3671875,
           -3.0234375,
           -4.7734375,
           -1.9140625,
           -6.8046875,
           -9.0546875,
           -5.1796875,
           -8.6171875,
           -1.4609375,
           -7.8046875,
           -3.8984375,
           -10.9296875,
           -4.3984375,
           -7.4921875,
           -2.1796875,
           -3.8359375,
           -7.0546875,
           -1.1484375,
           -4.9921875,
           -2.3984375,
           -2.3203125,
           -8.6796875,
           -6.1484375,
           -2.3359375,
           -6.4296875,
           -5.0859375,
           -3.0546875,
           -1.7109375,
           -8.1171875,
           -2.2109375,
           -11.3671875,
           -6.9296875,
           -1.5078125,
           -3.1484375,
           -7.1796875,
           -1.4609375,
           -4.3984375,
           -10.9296875
          ],
          [
           -9.625,
           -8.5625,
           -1.3125,
           -7.5625,
           -6.6875,
           -14.6875,
           -8.6875,
           -6.5625,
           -5.5625,
           -7.9375,
           -11.75,
           -6.875,
           -6.5625,
           -5.875,
           -6.1875,
           -14.5625,
           -9.9375,
           -5.28125,
           -7.5,
           -7.0625,
           -16.9375,
           -14.5625,
           -6.25,
           -4.96875,
           -6.125,
           -3.46875,
           -7.25,
           -8.3125,
           -8,
           -7.625,
           -3.75,
           -7.4375,
           -2.875,
           -7.9375,
           -5.53125,
           -7.25,
           -7.9375,
           -2.5,
           -11.1875,
           -7.0625,
           -3.03125,
           -3.71875,
           -6.5625
          ]
         ]
        }
       ],
       "layout": {
        "coloraxis": {
         "colorscale": [
          [
           0,
           "#0d0887"
          ],
          [
           0.1111111111111111,
           "#46039f"
          ],
          [
           0.2222222222222222,
           "#7201a8"
          ],
          [
           0.3333333333333333,
           "#9c179e"
          ],
          [
           0.4444444444444444,
           "#bd3786"
          ],
          [
           0.5555555555555556,
           "#d8576b"
          ],
          [
           0.6666666666666666,
           "#ed7953"
          ],
          [
           0.7777777777777778,
           "#fb9f3a"
          ],
          [
           0.8888888888888888,
           "#fdca26"
          ],
          [
           1,
           "#f0f921"
          ]
         ]
        },
        "margin": {
         "t": 60
        },
        "template": {
         "data": {
          "bar": [
           {
            "error_x": {
             "color": "#2a3f5f"
            },
            "error_y": {
             "color": "#2a3f5f"
            },
            "marker": {
             "line": {
              "color": "#E5ECF6",
              "width": 0.5
             },
             "pattern": {
              "fillmode": "overlay",
              "size": 10,
              "solidity": 0.2
             }
            },
            "type": "bar"
           }
          ],
          "barpolar": [
           {
            "marker": {
             "line": {
              "color": "#E5ECF6",
              "width": 0.5
             },
             "pattern": {
              "fillmode": "overlay",
              "size": 10,
              "solidity": 0.2
             }
            },
            "type": "barpolar"
           }
          ],
          "carpet": [
           {
            "aaxis": {
             "endlinecolor": "#2a3f5f",
             "gridcolor": "white",
             "linecolor": "white",
             "minorgridcolor": "white",
             "startlinecolor": "#2a3f5f"
            },
            "baxis": {
             "endlinecolor": "#2a3f5f",
             "gridcolor": "white",
             "linecolor": "white",
             "minorgridcolor": "white",
             "startlinecolor": "#2a3f5f"
            },
            "type": "carpet"
           }
          ],
          "choropleth": [
           {
            "colorbar": {
             "outlinewidth": 0,
             "ticks": ""
            },
            "type": "choropleth"
           }
          ],
          "contour": [
           {
            "colorbar": {
             "outlinewidth": 0,
             "ticks": ""
            },
            "colorscale": [
             [
              0,
              "#0d0887"
             ],
             [
              0.1111111111111111,
              "#46039f"
             ],
             [
              0.2222222222222222,
              "#7201a8"
             ],
             [
              0.3333333333333333,
              "#9c179e"
             ],
             [
              0.4444444444444444,
              "#bd3786"
             ],
             [
              0.5555555555555556,
              "#d8576b"
             ],
             [
              0.6666666666666666,
              "#ed7953"
             ],
             [
              0.7777777777777778,
              "#fb9f3a"
             ],
             [
              0.8888888888888888,
              "#fdca26"
             ],
             [
              1,
              "#f0f921"
             ]
            ],
            "type": "contour"
           }
          ],
          "contourcarpet": [
           {
            "colorbar": {
             "outlinewidth": 0,
             "ticks": ""
            },
            "type": "contourcarpet"
           }
          ],
          "heatmap": [
           {
            "colorbar": {
             "outlinewidth": 0,
             "ticks": ""
            },
            "colorscale": [
             [
              0,
              "#0d0887"
             ],
             [
              0.1111111111111111,
              "#46039f"
             ],
             [
              0.2222222222222222,
              "#7201a8"
             ],
             [
              0.3333333333333333,
              "#9c179e"
             ],
             [
              0.4444444444444444,
              "#bd3786"
             ],
             [
              0.5555555555555556,
              "#d8576b"
             ],
             [
              0.6666666666666666,
              "#ed7953"
             ],
             [
              0.7777777777777778,
              "#fb9f3a"
             ],
             [
              0.8888888888888888,
              "#fdca26"
             ],
             [
              1,
              "#f0f921"
             ]
            ],
            "type": "heatmap"
           }
          ],
          "heatmapgl": [
           {
            "colorbar": {
             "outlinewidth": 0,
             "ticks": ""
            },
            "colorscale": [
             [
              0,
              "#0d0887"
             ],
             [
              0.1111111111111111,
              "#46039f"
             ],
             [
              0.2222222222222222,
              "#7201a8"
             ],
             [
              0.3333333333333333,
              "#9c179e"
             ],
             [
              0.4444444444444444,
              "#bd3786"
             ],
             [
              0.5555555555555556,
              "#d8576b"
             ],
             [
              0.6666666666666666,
              "#ed7953"
             ],
             [
              0.7777777777777778,
              "#fb9f3a"
             ],
             [
              0.8888888888888888,
              "#fdca26"
             ],
             [
              1,
              "#f0f921"
             ]
            ],
            "type": "heatmapgl"
           }
          ],
          "histogram": [
           {
            "marker": {
             "pattern": {
              "fillmode": "overlay",
              "size": 10,
              "solidity": 0.2
             }
            },
            "type": "histogram"
           }
          ],
          "histogram2d": [
           {
            "colorbar": {
             "outlinewidth": 0,
             "ticks": ""
            },
            "colorscale": [
             [
              0,
              "#0d0887"
             ],
             [
              0.1111111111111111,
              "#46039f"
             ],
             [
              0.2222222222222222,
              "#7201a8"
             ],
             [
              0.3333333333333333,
              "#9c179e"
             ],
             [
              0.4444444444444444,
              "#bd3786"
             ],
             [
              0.5555555555555556,
              "#d8576b"
             ],
             [
              0.6666666666666666,
              "#ed7953"
             ],
             [
              0.7777777777777778,
              "#fb9f3a"
             ],
             [
              0.8888888888888888,
              "#fdca26"
             ],
             [
              1,
              "#f0f921"
             ]
            ],
            "type": "histogram2d"
           }
          ],
          "histogram2dcontour": [
           {
            "colorbar": {
             "outlinewidth": 0,
             "ticks": ""
            },
            "colorscale": [
             [
              0,
              "#0d0887"
             ],
             [
              0.1111111111111111,
              "#46039f"
             ],
             [
              0.2222222222222222,
              "#7201a8"
             ],
             [
              0.3333333333333333,
              "#9c179e"
             ],
             [
              0.4444444444444444,
              "#bd3786"
             ],
             [
              0.5555555555555556,
              "#d8576b"
             ],
             [
              0.6666666666666666,
              "#ed7953"
             ],
             [
              0.7777777777777778,
              "#fb9f3a"
             ],
             [
              0.8888888888888888,
              "#fdca26"
             ],
             [
              1,
              "#f0f921"
             ]
            ],
            "type": "histogram2dcontour"
           }
          ],
          "mesh3d": [
           {
            "colorbar": {
             "outlinewidth": 0,
             "ticks": ""
            },
            "type": "mesh3d"
           }
          ],
          "parcoords": [
           {
            "line": {
             "colorbar": {
              "outlinewidth": 0,
              "ticks": ""
             }
            },
            "type": "parcoords"
           }
          ],
          "pie": [
           {
            "automargin": true,
            "type": "pie"
           }
          ],
          "scatter": [
           {
            "fillpattern": {
             "fillmode": "overlay",
             "size": 10,
             "solidity": 0.2
            },
            "type": "scatter"
           }
          ],
          "scatter3d": [
           {
            "line": {
             "colorbar": {
              "outlinewidth": 0,
              "ticks": ""
             }
            },
            "marker": {
             "colorbar": {
              "outlinewidth": 0,
              "ticks": ""
             }
            },
            "type": "scatter3d"
           }
          ],
          "scattercarpet": [
           {
            "marker": {
             "colorbar": {
              "outlinewidth": 0,
              "ticks": ""
             }
            },
            "type": "scattercarpet"
           }
          ],
          "scattergeo": [
           {
            "marker": {
             "colorbar": {
              "outlinewidth": 0,
              "ticks": ""
             }
            },
            "type": "scattergeo"
           }
          ],
          "scattergl": [
           {
            "marker": {
             "colorbar": {
              "outlinewidth": 0,
              "ticks": ""
             }
            },
            "type": "scattergl"
           }
          ],
          "scattermapbox": [
           {
            "marker": {
             "colorbar": {
              "outlinewidth": 0,
              "ticks": ""
             }
            },
            "type": "scattermapbox"
           }
          ],
          "scatterpolar": [
           {
            "marker": {
             "colorbar": {
              "outlinewidth": 0,
              "ticks": ""
             }
            },
            "type": "scatterpolar"
           }
          ],
          "scatterpolargl": [
           {
            "marker": {
             "colorbar": {
              "outlinewidth": 0,
              "ticks": ""
             }
            },
            "type": "scatterpolargl"
           }
          ],
          "scatterternary": [
           {
            "marker": {
             "colorbar": {
              "outlinewidth": 0,
              "ticks": ""
             }
            },
            "type": "scatterternary"
           }
          ],
          "surface": [
           {
            "colorbar": {
             "outlinewidth": 0,
             "ticks": ""
            },
            "colorscale": [
             [
              0,
              "#0d0887"
             ],
             [
              0.1111111111111111,
              "#46039f"
             ],
             [
              0.2222222222222222,
              "#7201a8"
             ],
             [
              0.3333333333333333,
              "#9c179e"
             ],
             [
              0.4444444444444444,
              "#bd3786"
             ],
             [
              0.5555555555555556,
              "#d8576b"
             ],
             [
              0.6666666666666666,
              "#ed7953"
             ],
             [
              0.7777777777777778,
              "#fb9f3a"
             ],
             [
              0.8888888888888888,
              "#fdca26"
             ],
             [
              1,
              "#f0f921"
             ]
            ],
            "type": "surface"
           }
          ],
          "table": [
           {
            "cells": {
             "fill": {
              "color": "#EBF0F8"
             },
             "line": {
              "color": "white"
             }
            },
            "header": {
             "fill": {
              "color": "#C8D4E3"
             },
             "line": {
              "color": "white"
             }
            },
            "type": "table"
           }
          ]
         },
         "layout": {
          "annotationdefaults": {
           "arrowcolor": "#2a3f5f",
           "arrowhead": 0,
           "arrowwidth": 1
          },
          "autotypenumbers": "strict",
          "coloraxis": {
           "colorbar": {
            "outlinewidth": 0,
            "ticks": ""
           }
          },
          "colorscale": {
           "diverging": [
            [
             0,
             "#8e0152"
            ],
            [
             0.1,
             "#c51b7d"
            ],
            [
             0.2,
             "#de77ae"
            ],
            [
             0.3,
             "#f1b6da"
            ],
            [
             0.4,
             "#fde0ef"
            ],
            [
             0.5,
             "#f7f7f7"
            ],
            [
             0.6,
             "#e6f5d0"
            ],
            [
             0.7,
             "#b8e186"
            ],
            [
             0.8,
             "#7fbc41"
            ],
            [
             0.9,
             "#4d9221"
            ],
            [
             1,
             "#276419"
            ]
           ],
           "sequential": [
            [
             0,
             "#0d0887"
            ],
            [
             0.1111111111111111,
             "#46039f"
            ],
            [
             0.2222222222222222,
             "#7201a8"
            ],
            [
             0.3333333333333333,
             "#9c179e"
            ],
            [
             0.4444444444444444,
             "#bd3786"
            ],
            [
             0.5555555555555556,
             "#d8576b"
            ],
            [
             0.6666666666666666,
             "#ed7953"
            ],
            [
             0.7777777777777778,
             "#fb9f3a"
            ],
            [
             0.8888888888888888,
             "#fdca26"
            ],
            [
             1,
             "#f0f921"
            ]
           ],
           "sequentialminus": [
            [
             0,
             "#0d0887"
            ],
            [
             0.1111111111111111,
             "#46039f"
            ],
            [
             0.2222222222222222,
             "#7201a8"
            ],
            [
             0.3333333333333333,
             "#9c179e"
            ],
            [
             0.4444444444444444,
             "#bd3786"
            ],
            [
             0.5555555555555556,
             "#d8576b"
            ],
            [
             0.6666666666666666,
             "#ed7953"
            ],
            [
             0.7777777777777778,
             "#fb9f3a"
            ],
            [
             0.8888888888888888,
             "#fdca26"
            ],
            [
             1,
             "#f0f921"
            ]
           ]
          },
          "colorway": [
           "#636efa",
           "#EF553B",
           "#00cc96",
           "#ab63fa",
           "#FFA15A",
           "#19d3f3",
           "#FF6692",
           "#B6E880",
           "#FF97FF",
           "#FECB52"
          ],
          "font": {
           "color": "#2a3f5f"
          },
          "geo": {
           "bgcolor": "white",
           "lakecolor": "white",
           "landcolor": "#E5ECF6",
           "showlakes": true,
           "showland": true,
           "subunitcolor": "white"
          },
          "hoverlabel": {
           "align": "left"
          },
          "hovermode": "closest",
          "mapbox": {
           "style": "light"
          },
          "paper_bgcolor": "white",
          "plot_bgcolor": "#E5ECF6",
          "polar": {
           "angularaxis": {
            "gridcolor": "white",
            "linecolor": "white",
            "ticks": ""
           },
           "bgcolor": "#E5ECF6",
           "radialaxis": {
            "gridcolor": "white",
            "linecolor": "white",
            "ticks": ""
           }
          },
          "scene": {
           "xaxis": {
            "backgroundcolor": "#E5ECF6",
            "gridcolor": "white",
            "gridwidth": 2,
            "linecolor": "white",
            "showbackground": true,
            "ticks": "",
            "zerolinecolor": "white"
           },
           "yaxis": {
            "backgroundcolor": "#E5ECF6",
            "gridcolor": "white",
            "gridwidth": 2,
            "linecolor": "white",
            "showbackground": true,
            "ticks": "",
            "zerolinecolor": "white"
           },
           "zaxis": {
            "backgroundcolor": "#E5ECF6",
            "gridcolor": "white",
            "gridwidth": 2,
            "linecolor": "white",
            "showbackground": true,
            "ticks": "",
            "zerolinecolor": "white"
           }
          },
          "shapedefaults": {
           "line": {
            "color": "#2a3f5f"
           }
          },
          "ternary": {
           "aaxis": {
            "gridcolor": "white",
            "linecolor": "white",
            "ticks": ""
           },
           "baxis": {
            "gridcolor": "white",
            "linecolor": "white",
            "ticks": ""
           },
           "bgcolor": "#E5ECF6",
           "caxis": {
            "gridcolor": "white",
            "linecolor": "white",
            "ticks": ""
           }
          },
          "title": {
           "x": 0.05
          },
          "xaxis": {
           "automargin": true,
           "gridcolor": "white",
           "linecolor": "white",
           "ticks": "",
           "title": {
            "standoff": 15
           },
           "zerolinecolor": "white",
           "zerolinewidth": 2
          },
          "yaxis": {
           "automargin": true,
           "gridcolor": "white",
           "linecolor": "white",
           "ticks": "",
           "title": {
            "standoff": 15
           },
           "zerolinecolor": "white",
           "zerolinewidth": 2
          }
         }
        },
        "xaxis": {
         "anchor": "y",
         "constrain": "domain",
         "domain": [
          0,
          1
         ],
         "scaleanchor": "y"
        },
        "yaxis": {
         "anchor": "x",
         "autorange": "reversed",
         "constrain": "domain",
         "domain": [
          0,
          1
         ]
        }
       }
      },
      "text/html": [
       "<div>                            <div id=\"9f5142e7-e716-491e-a210-f6deb76e450f\" class=\"plotly-graph-div\" style=\"height:525px; width:100%;\"></div>            <script type=\"text/javascript\">                require([\"plotly\"], function(Plotly) {                    window.PLOTLYENV=window.PLOTLYENV || {};                                    if (document.getElementById(\"9f5142e7-e716-491e-a210-f6deb76e450f\")) {                    Plotly.newPlot(                        \"9f5142e7-e716-491e-a210-f6deb76e450f\",                        [{\"coloraxis\":\"coloraxis\",\"name\":\"0\",\"x\":[\"9600\",\"23682\",\"32643\",\"31620\",\"27268\",\"27401\",\"6413\",\"24206\",\"12943\",\"16016\",\"9488\",\"13458\",\"14612\",\"19097\",\"7578\",\"16671\",\"19112\",\"7739\",\"8125\",\"32320\",\"6594\",\"7491\",\"15947\",\"5579\",\"15356\",\"16340\",\"24925\",\"30814\",\"4448\",\"26594\",\"11618\",\"6756\",\"6629\",\"5991\",\"16490\",\"2539\",\"26987\",\"6765\",\"18416\",\"2930\",\"2931\",\"22136\",\"6780\"],\"y\":[\"en_es\",\"antonyms\",\"person_profession\",\"es_en\",\"present_simple_gerund\",\"present_simple_past_simple\",\"person_profession\",\"person_language\",\"country_capital\",\"football_player_position\"],\"z\":[[-5.65625,-15.90625,-2.84375,-7.21875,-9.09375,-10.03125,-1.96875,-2.84375,-7.78125,-5.90625,-8.78125,-3.40625,-6.84375,-3.3125,-2.28125,-6.03125,-14.15625,-7.40625,-5.28125,-4.46875,-12.78125,-11.90625,-1.46875,-8.03125,-3.1875,-2.65625,-4.21875,-4.21875,-1.28125,-4.84375,-6.40625,-1.375,-5.40625,-15.15625,-2.8125,-6.84375,-15.78125,-0.84375,-4.28125,-4.96875,-0.5625,-4.59375,-5.34375],[-11.44921875,-15.13671875,0.05078125,-10.13671875,-4.44921875,-6.51171875,-4.44921875,-5.01171875,-6.38671875,-8.26171875,-9.76171875,-2.44921875,-4.98046875,-9.94921875,-5.98046875,-8.76171875,-11.94921875,-9.51171875,-8.26171875,-4.04296875,-13.88671875,-10.07421875,-1.21484375,-6.32421875,-3.16796875,-1.08984375,-1.82421875,-3.10546875,-3.01171875,-5.88671875,-10.82421875,-4.13671875,-3.29296875,-7.94921875,-2.76171875,-6.32421875,-7.69921875,-1.49609375,-2.60546875,-6.91796875,-3.63671875,-12.19921875,-4.69921875],[-8.09375,-5.46875,-0.84375,-8.09375,-6.34375,-15.53125,-6.65625,-6.40625,-4.5625,-5.90625,-13.03125,-10.65625,-2.1875,-7.53125,-4.96875,-14.40625,-8.03125,-4.375,-4.1875,-5.15625,-13.40625,-14.53125,-5.84375,-4.3125,-2.75,-1.28125,-5.46875,-7.84375,-2.65625,-6.84375,-2.9375,-5.03125,-4.40625,-5.84375,-2.625,-9.59375,-5.96875,-1.875,-10.21875,-3.375,-0.9375,-1.625,-7.21875],[-6.90625,-13.90625,-1.4375,-5.84375,-9.28125,-12.03125,-2.46875,-5.46875,-7.78125,-9.40625,-10.09375,-5.15625,-5.71875,-3.75,-2.8125,-10.46875,-10.46875,-7.40625,-8.03125,-2.0,-13.03125,-10.78125,-2.25,-8.34375,-5.15625,-1.9375,-2.8125,-4.0,-2.65625,-8.03125,-4.75,-4.21875,-7.65625,-12.09375,-4.40625,-11.09375,-7.84375,-1.5,-6.09375,-8.78125,-2.5,-5.0625,-5.96875],[-5.1005859375,-18.6318359375,-1.5068359375,-5.8818359375,-13.8818359375,-10.0068359375,-1.0615234375,-2.7255859375,-2.1787109375,-5.4443359375,-12.5068359375,-1.6083984375,-9.8818359375,-2.9599609375,-3.3818359375,-8.6943359375,-10.6318359375,-7.4130859375,-7.3818359375,-4.8505859375,-12.8818359375,-8.0693359375,-0.1298828125,-9.5693359375,-11.0068359375,-1.9287109375,-3.9130859375,-4.4443359375,-2.7255859375,-5.5068359375,-4.1005859375,-1.0068359375,-7.7255859375,-14.3818359375,-3.4287109375,-9.1943359375,-8.6318359375,-0.1396484375,-2.8037109375,-9.7568359375,-3.7255859375,-5.7255859375,-7.4130859375],[-5.59375,-16.03125,-0.796875,-3.4375,-11.78125,-9.90625,-1.609375,-1.78125,-2.6875,-3.875,-9.40625,-1.25,-9.15625,-3.0625,-2.015625,-7.15625,-9.15625,-6.96875,-4.75,-2.3125,-14.90625,-6.90625,0.0625,-6.15625,-10.46875,-0.2109375,-3.0,-3.5,-2.84375,-4.1875,-2.34375,-2.28125,-5.84375,-15.90625,-2.671875,-11.21875,-7.96875,-0.15625,-2.484375,-9.21875,-6.125,-4.46875,-8.84375],[-8.09375,-5.46875,-0.84375,-8.09375,-6.34375,-15.53125,-6.65625,-6.40625,-4.5625,-5.90625,-13.03125,-10.65625,-2.1875,-7.53125,-4.96875,-14.40625,-8.03125,-4.375,-4.1875,-5.15625,-13.40625,-14.53125,-5.84375,-4.3125,-2.75,-1.28125,-5.46875,-7.84375,-2.65625,-6.84375,-2.9375,-5.03125,-4.40625,-5.84375,-2.625,-9.59375,-5.96875,-1.875,-10.21875,-3.375,-0.9375,-1.625,-7.21875],[-6.515625,-7.453125,-0.484375,-5.203125,-7.453125,-11.203125,-0.375,-3.328125,-4.203125,-1.984375,-7.078125,-1.078125,-4.703125,-2.859375,-5.796875,-2.171875,-12.640625,-5.171875,-2.578125,-3.828125,-9.578125,-6.015625,-1.328125,-5.984375,-1.1875,-2.6875,-11.140625,-1.5625,-0.765625,-4.953125,-4.234375,-3.328125,-3.640625,-5.796875,-1.484375,-10.765625,-4.796875,-0.65625,-4.890625,-9.703125,-2.40625,-2.046875,-4.546875],[-1.2421875,-13.9921875,-2.0234375,-5.9296875,-6.8046875,-5.3671875,-3.0234375,-4.7734375,-1.9140625,-6.8046875,-9.0546875,-5.1796875,-8.6171875,-1.4609375,-7.8046875,-3.8984375,-10.9296875,-4.3984375,-7.4921875,-2.1796875,-3.8359375,-7.0546875,-1.1484375,-4.9921875,-2.3984375,-2.3203125,-8.6796875,-6.1484375,-2.3359375,-6.4296875,-5.0859375,-3.0546875,-1.7109375,-8.1171875,-2.2109375,-11.3671875,-6.9296875,-1.5078125,-3.1484375,-7.1796875,-1.4609375,-4.3984375,-10.9296875],[-9.625,-8.5625,-1.3125,-7.5625,-6.6875,-14.6875,-8.6875,-6.5625,-5.5625,-7.9375,-11.75,-6.875,-6.5625,-5.875,-6.1875,-14.5625,-9.9375,-5.28125,-7.5,-7.0625,-16.9375,-14.5625,-6.25,-4.96875,-6.125,-3.46875,-7.25,-8.3125,-8.0,-7.625,-3.75,-7.4375,-2.875,-7.9375,-5.53125,-7.25,-7.9375,-2.5,-11.1875,-7.0625,-3.03125,-3.71875,-6.5625]],\"type\":\"heatmap\",\"xaxis\":\"x\",\"yaxis\":\"y\",\"hovertemplate\":\"x: %{x}\\u003cbr\\u003ey: %{y}\\u003cbr\\u003ecolor: %{z}\\u003cextra\\u003e\\u003c\\u002fextra\\u003e\"}],                        {\"template\":{\"data\":{\"histogram2dcontour\":[{\"type\":\"histogram2dcontour\",\"colorbar\":{\"outlinewidth\":0,\"ticks\":\"\"},\"colorscale\":[[0.0,\"#0d0887\"],[0.1111111111111111,\"#46039f\"],[0.2222222222222222,\"#7201a8\"],[0.3333333333333333,\"#9c179e\"],[0.4444444444444444,\"#bd3786\"],[0.5555555555555556,\"#d8576b\"],[0.6666666666666666,\"#ed7953\"],[0.7777777777777778,\"#fb9f3a\"],[0.8888888888888888,\"#fdca26\"],[1.0,\"#f0f921\"]]}],\"choropleth\":[{\"type\":\"choropleth\",\"colorbar\":{\"outlinewidth\":0,\"ticks\":\"\"}}],\"histogram2d\":[{\"type\":\"histogram2d\",\"colorbar\":{\"outlinewidth\":0,\"ticks\":\"\"},\"colorscale\":[[0.0,\"#0d0887\"],[0.1111111111111111,\"#46039f\"],[0.2222222222222222,\"#7201a8\"],[0.3333333333333333,\"#9c179e\"],[0.4444444444444444,\"#bd3786\"],[0.5555555555555556,\"#d8576b\"],[0.6666666666666666,\"#ed7953\"],[0.7777777777777778,\"#fb9f3a\"],[0.8888888888888888,\"#fdca26\"],[1.0,\"#f0f921\"]]}],\"heatmap\":[{\"type\":\"heatmap\",\"colorbar\":{\"outlinewidth\":0,\"ticks\":\"\"},\"colorscale\":[[0.0,\"#0d0887\"],[0.1111111111111111,\"#46039f\"],[0.2222222222222222,\"#7201a8\"],[0.3333333333333333,\"#9c179e\"],[0.4444444444444444,\"#bd3786\"],[0.5555555555555556,\"#d8576b\"],[0.6666666666666666,\"#ed7953\"],[0.7777777777777778,\"#fb9f3a\"],[0.8888888888888888,\"#fdca26\"],[1.0,\"#f0f921\"]]}],\"heatmapgl\":[{\"type\":\"heatmapgl\",\"colorbar\":{\"outlinewidth\":0,\"ticks\":\"\"},\"colorscale\":[[0.0,\"#0d0887\"],[0.1111111111111111,\"#46039f\"],[0.2222222222222222,\"#7201a8\"],[0.3333333333333333,\"#9c179e\"],[0.4444444444444444,\"#bd3786\"],[0.5555555555555556,\"#d8576b\"],[0.6666666666666666,\"#ed7953\"],[0.7777777777777778,\"#fb9f3a\"],[0.8888888888888888,\"#fdca26\"],[1.0,\"#f0f921\"]]}],\"contourcarpet\":[{\"type\":\"contourcarpet\",\"colorbar\":{\"outlinewidth\":0,\"ticks\":\"\"}}],\"contour\":[{\"type\":\"contour\",\"colorbar\":{\"outlinewidth\":0,\"ticks\":\"\"},\"colorscale\":[[0.0,\"#0d0887\"],[0.1111111111111111,\"#46039f\"],[0.2222222222222222,\"#7201a8\"],[0.3333333333333333,\"#9c179e\"],[0.4444444444444444,\"#bd3786\"],[0.5555555555555556,\"#d8576b\"],[0.6666666666666666,\"#ed7953\"],[0.7777777777777778,\"#fb9f3a\"],[0.8888888888888888,\"#fdca26\"],[1.0,\"#f0f921\"]]}],\"surface\":[{\"type\":\"surface\",\"colorbar\":{\"outlinewidth\":0,\"ticks\":\"\"},\"colorscale\":[[0.0,\"#0d0887\"],[0.1111111111111111,\"#46039f\"],[0.2222222222222222,\"#7201a8\"],[0.3333333333333333,\"#9c179e\"],[0.4444444444444444,\"#bd3786\"],[0.5555555555555556,\"#d8576b\"],[0.6666666666666666,\"#ed7953\"],[0.7777777777777778,\"#fb9f3a\"],[0.8888888888888888,\"#fdca26\"],[1.0,\"#f0f921\"]]}],\"mesh3d\":[{\"type\":\"mesh3d\",\"colorbar\":{\"outlinewidth\":0,\"ticks\":\"\"}}],\"scatter\":[{\"fillpattern\":{\"fillmode\":\"overlay\",\"size\":10,\"solidity\":0.2},\"type\":\"scatter\"}],\"parcoords\":[{\"type\":\"parcoords\",\"line\":{\"colorbar\":{\"outlinewidth\":0,\"ticks\":\"\"}}}],\"scatterpolargl\":[{\"type\":\"scatterpolargl\",\"marker\":{\"colorbar\":{\"outlinewidth\":0,\"ticks\":\"\"}}}],\"bar\":[{\"error_x\":{\"color\":\"#2a3f5f\"},\"error_y\":{\"color\":\"#2a3f5f\"},\"marker\":{\"line\":{\"color\":\"#E5ECF6\",\"width\":0.5},\"pattern\":{\"fillmode\":\"overlay\",\"size\":10,\"solidity\":0.2}},\"type\":\"bar\"}],\"scattergeo\":[{\"type\":\"scattergeo\",\"marker\":{\"colorbar\":{\"outlinewidth\":0,\"ticks\":\"\"}}}],\"scatterpolar\":[{\"type\":\"scatterpolar\",\"marker\":{\"colorbar\":{\"outlinewidth\":0,\"ticks\":\"\"}}}],\"histogram\":[{\"marker\":{\"pattern\":{\"fillmode\":\"overlay\",\"size\":10,\"solidity\":0.2}},\"type\":\"histogram\"}],\"scattergl\":[{\"type\":\"scattergl\",\"marker\":{\"colorbar\":{\"outlinewidth\":0,\"ticks\":\"\"}}}],\"scatter3d\":[{\"type\":\"scatter3d\",\"line\":{\"colorbar\":{\"outlinewidth\":0,\"ticks\":\"\"}},\"marker\":{\"colorbar\":{\"outlinewidth\":0,\"ticks\":\"\"}}}],\"scattermapbox\":[{\"type\":\"scattermapbox\",\"marker\":{\"colorbar\":{\"outlinewidth\":0,\"ticks\":\"\"}}}],\"scatterternary\":[{\"type\":\"scatterternary\",\"marker\":{\"colorbar\":{\"outlinewidth\":0,\"ticks\":\"\"}}}],\"scattercarpet\":[{\"type\":\"scattercarpet\",\"marker\":{\"colorbar\":{\"outlinewidth\":0,\"ticks\":\"\"}}}],\"carpet\":[{\"aaxis\":{\"endlinecolor\":\"#2a3f5f\",\"gridcolor\":\"white\",\"linecolor\":\"white\",\"minorgridcolor\":\"white\",\"startlinecolor\":\"#2a3f5f\"},\"baxis\":{\"endlinecolor\":\"#2a3f5f\",\"gridcolor\":\"white\",\"linecolor\":\"white\",\"minorgridcolor\":\"white\",\"startlinecolor\":\"#2a3f5f\"},\"type\":\"carpet\"}],\"table\":[{\"cells\":{\"fill\":{\"color\":\"#EBF0F8\"},\"line\":{\"color\":\"white\"}},\"header\":{\"fill\":{\"color\":\"#C8D4E3\"},\"line\":{\"color\":\"white\"}},\"type\":\"table\"}],\"barpolar\":[{\"marker\":{\"line\":{\"color\":\"#E5ECF6\",\"width\":0.5},\"pattern\":{\"fillmode\":\"overlay\",\"size\":10,\"solidity\":0.2}},\"type\":\"barpolar\"}],\"pie\":[{\"automargin\":true,\"type\":\"pie\"}]},\"layout\":{\"autotypenumbers\":\"strict\",\"colorway\":[\"#636efa\",\"#EF553B\",\"#00cc96\",\"#ab63fa\",\"#FFA15A\",\"#19d3f3\",\"#FF6692\",\"#B6E880\",\"#FF97FF\",\"#FECB52\"],\"font\":{\"color\":\"#2a3f5f\"},\"hovermode\":\"closest\",\"hoverlabel\":{\"align\":\"left\"},\"paper_bgcolor\":\"white\",\"plot_bgcolor\":\"#E5ECF6\",\"polar\":{\"bgcolor\":\"#E5ECF6\",\"angularaxis\":{\"gridcolor\":\"white\",\"linecolor\":\"white\",\"ticks\":\"\"},\"radialaxis\":{\"gridcolor\":\"white\",\"linecolor\":\"white\",\"ticks\":\"\"}},\"ternary\":{\"bgcolor\":\"#E5ECF6\",\"aaxis\":{\"gridcolor\":\"white\",\"linecolor\":\"white\",\"ticks\":\"\"},\"baxis\":{\"gridcolor\":\"white\",\"linecolor\":\"white\",\"ticks\":\"\"},\"caxis\":{\"gridcolor\":\"white\",\"linecolor\":\"white\",\"ticks\":\"\"}},\"coloraxis\":{\"colorbar\":{\"outlinewidth\":0,\"ticks\":\"\"}},\"colorscale\":{\"sequential\":[[0.0,\"#0d0887\"],[0.1111111111111111,\"#46039f\"],[0.2222222222222222,\"#7201a8\"],[0.3333333333333333,\"#9c179e\"],[0.4444444444444444,\"#bd3786\"],[0.5555555555555556,\"#d8576b\"],[0.6666666666666666,\"#ed7953\"],[0.7777777777777778,\"#fb9f3a\"],[0.8888888888888888,\"#fdca26\"],[1.0,\"#f0f921\"]],\"sequentialminus\":[[0.0,\"#0d0887\"],[0.1111111111111111,\"#46039f\"],[0.2222222222222222,\"#7201a8\"],[0.3333333333333333,\"#9c179e\"],[0.4444444444444444,\"#bd3786\"],[0.5555555555555556,\"#d8576b\"],[0.6666666666666666,\"#ed7953\"],[0.7777777777777778,\"#fb9f3a\"],[0.8888888888888888,\"#fdca26\"],[1.0,\"#f0f921\"]],\"diverging\":[[0,\"#8e0152\"],[0.1,\"#c51b7d\"],[0.2,\"#de77ae\"],[0.3,\"#f1b6da\"],[0.4,\"#fde0ef\"],[0.5,\"#f7f7f7\"],[0.6,\"#e6f5d0\"],[0.7,\"#b8e186\"],[0.8,\"#7fbc41\"],[0.9,\"#4d9221\"],[1,\"#276419\"]]},\"xaxis\":{\"gridcolor\":\"white\",\"linecolor\":\"white\",\"ticks\":\"\",\"title\":{\"standoff\":15},\"zerolinecolor\":\"white\",\"automargin\":true,\"zerolinewidth\":2},\"yaxis\":{\"gridcolor\":\"white\",\"linecolor\":\"white\",\"ticks\":\"\",\"title\":{\"standoff\":15},\"zerolinecolor\":\"white\",\"automargin\":true,\"zerolinewidth\":2},\"scene\":{\"xaxis\":{\"backgroundcolor\":\"#E5ECF6\",\"gridcolor\":\"white\",\"linecolor\":\"white\",\"showbackground\":true,\"ticks\":\"\",\"zerolinecolor\":\"white\",\"gridwidth\":2},\"yaxis\":{\"backgroundcolor\":\"#E5ECF6\",\"gridcolor\":\"white\",\"linecolor\":\"white\",\"showbackground\":true,\"ticks\":\"\",\"zerolinecolor\":\"white\",\"gridwidth\":2},\"zaxis\":{\"backgroundcolor\":\"#E5ECF6\",\"gridcolor\":\"white\",\"linecolor\":\"white\",\"showbackground\":true,\"ticks\":\"\",\"zerolinecolor\":\"white\",\"gridwidth\":2}},\"shapedefaults\":{\"line\":{\"color\":\"#2a3f5f\"}},\"annotationdefaults\":{\"arrowcolor\":\"#2a3f5f\",\"arrowhead\":0,\"arrowwidth\":1},\"geo\":{\"bgcolor\":\"white\",\"landcolor\":\"#E5ECF6\",\"subunitcolor\":\"white\",\"showland\":true,\"showlakes\":true,\"lakecolor\":\"white\"},\"title\":{\"x\":0.05},\"mapbox\":{\"style\":\"light\"}}},\"xaxis\":{\"anchor\":\"y\",\"domain\":[0.0,1.0],\"scaleanchor\":\"y\",\"constrain\":\"domain\"},\"yaxis\":{\"anchor\":\"x\",\"domain\":[0.0,1.0],\"autorange\":\"reversed\",\"constrain\":\"domain\"},\"coloraxis\":{\"colorscale\":[[0.0,\"#0d0887\"],[0.1111111111111111,\"#46039f\"],[0.2222222222222222,\"#7201a8\"],[0.3333333333333333,\"#9c179e\"],[0.4444444444444444,\"#bd3786\"],[0.5555555555555556,\"#d8576b\"],[0.6666666666666666,\"#ed7953\"],[0.7777777777777778,\"#fb9f3a\"],[0.8888888888888888,\"#fdca26\"],[1.0,\"#f0f921\"]]},\"margin\":{\"t\":60}},                        {\"responsive\": true}                    ).then(function(){\n",
       "                            \n",
       "var gd = document.getElementById('9f5142e7-e716-491e-a210-f6deb76e450f');\n",
       "var x = new MutationObserver(function (mutations, observer) {{\n",
       "        var display = window.getComputedStyle(gd).display;\n",
       "        if (!display || display === 'none') {{\n",
       "            console.log([gd, 'removed!']);\n",
       "            Plotly.purge(gd);\n",
       "            observer.disconnect();\n",
       "        }}\n",
       "}});\n",
       "\n",
       "// Listen for the removal of the full notebook cells\n",
       "var notebookContainer = gd.closest('#notebook-container');\n",
       "if (notebookContainer) {{\n",
       "    x.observe(notebookContainer, {childList: true});\n",
       "}}\n",
       "\n",
       "// Listen for the clearing of the current output cell\n",
       "var outputEl = gd.closest('.output');\n",
       "if (outputEl) {{\n",
       "    x.observe(outputEl, {childList: true});\n",
       "}}\n",
       "\n",
       "                        })                };                });            </script>        </div>"
      ]
     },
     "metadata": {},
     "output_type": "display_data"
    }
   ],
   "source": [
    "import plotly.express as px\n",
    "import pandas as pd\n",
    "import numpy as np\n",
    "\n",
    "for task_name, losses in task_losses.items():\n",
    "    base_loss = losses[1]\n",
    "    losses = losses[0]\n",
    "\n",
    "    task_losses[task_name][0] = [(base_loss - loss) for loss in losses]\n",
    "\n",
    "\n",
    "df = pd.DataFrame([\n",
    "    {\"task\": task_name, \"feature\": feature, \"loss\": loss}\n",
    "    for task_name, losses in task_losses.items()\n",
    "    for feature, loss in zip(features, losses[0])\n",
    "])\n",
    "\n",
    "\n",
    "\n",
    "heatmap = np.zeros((len(task_names), len(features)))\n",
    "\n",
    "for i, task_name in enumerate(task_names):\n",
    "    for j, feature in enumerate(features):\n",
    "        heatmap[i, j] = task_losses[task_name][0][j]\n",
    "\n",
    "fig = px.imshow(heatmap, x=[str(x) for x in features], y=task_names)\n",
    "\n",
    "fig.show()\n"
   ]
  },
  {
   "cell_type": "code",
   "execution_count": 46,
   "metadata": {},
   "outputs": [],
   "source": [
    "feature = 11618\n",
    "\n",
    "direction = sae[\"W_dec\"][feature]\n",
    "\n",
    "\n",
    "def steer_with_direction(direction, scale):\n",
    "    direction = direction / jnp.linalg.norm(direction)\n",
    "    direction = direction * scale\n",
    "    add_act = make_act_adder(llama, direction, train_tokens, 12, sep=sep)\n",
    "\n",
    "    logits = add_act(inputs)\n",
    "    logits = logits.unwrap(\"batch\", \"seq\", \"vocabulary\")\n",
    "\n",
    "    return logprob_loss(logits, train_tokens, sep=sep, pad_token=pad, n_first=2)"
   ]
  },
  {
   "cell_type": "code",
   "execution_count": 38,
   "metadata": {},
   "outputs": [
    {
     "data": {
      "application/vnd.jupyter.widget-view+json": {
       "model_id": "851f5338eec144a180eb88b34a54eaff",
       "version_major": 2,
       "version_minor": 0
      },
      "text/plain": [
       "  0%|          | 0/30 [00:00<?, ?it/s]"
      ]
     },
     "metadata": {},
     "output_type": "display_data"
    },
    {
     "name": "stderr",
     "output_type": "stream",
     "text": [
      "/home/dmitrii/.cache/pypoetry/virtualenvs/micrlhf-progress-_SD4q1c9-py3.10/lib/python3.10/site-packages/jax/_src/ops/scatter.py:92: FutureWarning: scatter inputs have incompatible types: cannot safely cast value from dtype=float32 to dtype=bfloat16 with jax_numpy_dtype_promotion='standard'. In future JAX releases this will result in an error.\n",
      "  warnings.warn(\n",
      "/home/dmitrii/.cache/pypoetry/virtualenvs/micrlhf-progress-_SD4q1c9-py3.10/lib/python3.10/site-packages/jax/_src/ops/scatter.py:92: FutureWarning: scatter inputs have incompatible types: cannot safely cast value from dtype=float32 to dtype=bfloat16 with jax_numpy_dtype_promotion='standard'. In future JAX releases this will result in an error.\n",
      "  warnings.warn(\n",
      "/home/dmitrii/.cache/pypoetry/virtualenvs/micrlhf-progress-_SD4q1c9-py3.10/lib/python3.10/site-packages/jax/_src/ops/scatter.py:92: FutureWarning: scatter inputs have incompatible types: cannot safely cast value from dtype=float32 to dtype=bfloat16 with jax_numpy_dtype_promotion='standard'. In future JAX releases this will result in an error.\n",
      "  warnings.warn(\n",
      "/home/dmitrii/.cache/pypoetry/virtualenvs/micrlhf-progress-_SD4q1c9-py3.10/lib/python3.10/site-packages/jax/_src/ops/scatter.py:92: FutureWarning: scatter inputs have incompatible types: cannot safely cast value from dtype=float32 to dtype=bfloat16 with jax_numpy_dtype_promotion='standard'. In future JAX releases this will result in an error.\n",
      "  warnings.warn(\n",
      "/home/dmitrii/.cache/pypoetry/virtualenvs/micrlhf-progress-_SD4q1c9-py3.10/lib/python3.10/site-packages/jax/_src/ops/scatter.py:92: FutureWarning: scatter inputs have incompatible types: cannot safely cast value from dtype=float32 to dtype=bfloat16 with jax_numpy_dtype_promotion='standard'. In future JAX releases this will result in an error.\n",
      "  warnings.warn(\n",
      "/home/dmitrii/.cache/pypoetry/virtualenvs/micrlhf-progress-_SD4q1c9-py3.10/lib/python3.10/site-packages/jax/_src/ops/scatter.py:92: FutureWarning: scatter inputs have incompatible types: cannot safely cast value from dtype=float32 to dtype=bfloat16 with jax_numpy_dtype_promotion='standard'. In future JAX releases this will result in an error.\n",
      "  warnings.warn(\n",
      "/home/dmitrii/.cache/pypoetry/virtualenvs/micrlhf-progress-_SD4q1c9-py3.10/lib/python3.10/site-packages/jax/_src/ops/scatter.py:92: FutureWarning: scatter inputs have incompatible types: cannot safely cast value from dtype=float32 to dtype=bfloat16 with jax_numpy_dtype_promotion='standard'. In future JAX releases this will result in an error.\n",
      "  warnings.warn(\n",
      "/home/dmitrii/.cache/pypoetry/virtualenvs/micrlhf-progress-_SD4q1c9-py3.10/lib/python3.10/site-packages/jax/_src/ops/scatter.py:92: FutureWarning: scatter inputs have incompatible types: cannot safely cast value from dtype=float32 to dtype=bfloat16 with jax_numpy_dtype_promotion='standard'. In future JAX releases this will result in an error.\n",
      "  warnings.warn(\n",
      "/home/dmitrii/.cache/pypoetry/virtualenvs/micrlhf-progress-_SD4q1c9-py3.10/lib/python3.10/site-packages/jax/_src/ops/scatter.py:92: FutureWarning: scatter inputs have incompatible types: cannot safely cast value from dtype=float32 to dtype=bfloat16 with jax_numpy_dtype_promotion='standard'. In future JAX releases this will result in an error.\n",
      "  warnings.warn(\n",
      "/home/dmitrii/.cache/pypoetry/virtualenvs/micrlhf-progress-_SD4q1c9-py3.10/lib/python3.10/site-packages/jax/_src/ops/scatter.py:92: FutureWarning: scatter inputs have incompatible types: cannot safely cast value from dtype=float32 to dtype=bfloat16 with jax_numpy_dtype_promotion='standard'. In future JAX releases this will result in an error.\n",
      "  warnings.warn(\n",
      "/home/dmitrii/.cache/pypoetry/virtualenvs/micrlhf-progress-_SD4q1c9-py3.10/lib/python3.10/site-packages/jax/_src/ops/scatter.py:92: FutureWarning: scatter inputs have incompatible types: cannot safely cast value from dtype=float32 to dtype=bfloat16 with jax_numpy_dtype_promotion='standard'. In future JAX releases this will result in an error.\n",
      "  warnings.warn(\n",
      "/home/dmitrii/.cache/pypoetry/virtualenvs/micrlhf-progress-_SD4q1c9-py3.10/lib/python3.10/site-packages/jax/_src/ops/scatter.py:92: FutureWarning: scatter inputs have incompatible types: cannot safely cast value from dtype=float32 to dtype=bfloat16 with jax_numpy_dtype_promotion='standard'. In future JAX releases this will result in an error.\n",
      "  warnings.warn(\n",
      "/home/dmitrii/.cache/pypoetry/virtualenvs/micrlhf-progress-_SD4q1c9-py3.10/lib/python3.10/site-packages/jax/_src/ops/scatter.py:92: FutureWarning: scatter inputs have incompatible types: cannot safely cast value from dtype=float32 to dtype=bfloat16 with jax_numpy_dtype_promotion='standard'. In future JAX releases this will result in an error.\n",
      "  warnings.warn(\n",
      "/home/dmitrii/.cache/pypoetry/virtualenvs/micrlhf-progress-_SD4q1c9-py3.10/lib/python3.10/site-packages/jax/_src/ops/scatter.py:92: FutureWarning: scatter inputs have incompatible types: cannot safely cast value from dtype=float32 to dtype=bfloat16 with jax_numpy_dtype_promotion='standard'. In future JAX releases this will result in an error.\n",
      "  warnings.warn(\n",
      "/home/dmitrii/.cache/pypoetry/virtualenvs/micrlhf-progress-_SD4q1c9-py3.10/lib/python3.10/site-packages/jax/_src/ops/scatter.py:92: FutureWarning: scatter inputs have incompatible types: cannot safely cast value from dtype=float32 to dtype=bfloat16 with jax_numpy_dtype_promotion='standard'. In future JAX releases this will result in an error.\n",
      "  warnings.warn(\n",
      "/home/dmitrii/.cache/pypoetry/virtualenvs/micrlhf-progress-_SD4q1c9-py3.10/lib/python3.10/site-packages/jax/_src/ops/scatter.py:92: FutureWarning: scatter inputs have incompatible types: cannot safely cast value from dtype=float32 to dtype=bfloat16 with jax_numpy_dtype_promotion='standard'. In future JAX releases this will result in an error.\n",
      "  warnings.warn(\n",
      "/home/dmitrii/.cache/pypoetry/virtualenvs/micrlhf-progress-_SD4q1c9-py3.10/lib/python3.10/site-packages/jax/_src/ops/scatter.py:92: FutureWarning: scatter inputs have incompatible types: cannot safely cast value from dtype=float32 to dtype=bfloat16 with jax_numpy_dtype_promotion='standard'. In future JAX releases this will result in an error.\n",
      "  warnings.warn(\n",
      "/home/dmitrii/.cache/pypoetry/virtualenvs/micrlhf-progress-_SD4q1c9-py3.10/lib/python3.10/site-packages/jax/_src/ops/scatter.py:92: FutureWarning: scatter inputs have incompatible types: cannot safely cast value from dtype=float32 to dtype=bfloat16 with jax_numpy_dtype_promotion='standard'. In future JAX releases this will result in an error.\n",
      "  warnings.warn(\n",
      "/home/dmitrii/.cache/pypoetry/virtualenvs/micrlhf-progress-_SD4q1c9-py3.10/lib/python3.10/site-packages/jax/_src/ops/scatter.py:92: FutureWarning: scatter inputs have incompatible types: cannot safely cast value from dtype=float32 to dtype=bfloat16 with jax_numpy_dtype_promotion='standard'. In future JAX releases this will result in an error.\n",
      "  warnings.warn(\n",
      "/home/dmitrii/.cache/pypoetry/virtualenvs/micrlhf-progress-_SD4q1c9-py3.10/lib/python3.10/site-packages/jax/_src/ops/scatter.py:92: FutureWarning: scatter inputs have incompatible types: cannot safely cast value from dtype=float32 to dtype=bfloat16 with jax_numpy_dtype_promotion='standard'. In future JAX releases this will result in an error.\n",
      "  warnings.warn(\n",
      "/home/dmitrii/.cache/pypoetry/virtualenvs/micrlhf-progress-_SD4q1c9-py3.10/lib/python3.10/site-packages/jax/_src/ops/scatter.py:92: FutureWarning: scatter inputs have incompatible types: cannot safely cast value from dtype=float32 to dtype=bfloat16 with jax_numpy_dtype_promotion='standard'. In future JAX releases this will result in an error.\n",
      "  warnings.warn(\n",
      "/home/dmitrii/.cache/pypoetry/virtualenvs/micrlhf-progress-_SD4q1c9-py3.10/lib/python3.10/site-packages/jax/_src/ops/scatter.py:92: FutureWarning: scatter inputs have incompatible types: cannot safely cast value from dtype=float32 to dtype=bfloat16 with jax_numpy_dtype_promotion='standard'. In future JAX releases this will result in an error.\n",
      "  warnings.warn(\n",
      "/home/dmitrii/.cache/pypoetry/virtualenvs/micrlhf-progress-_SD4q1c9-py3.10/lib/python3.10/site-packages/jax/_src/ops/scatter.py:92: FutureWarning: scatter inputs have incompatible types: cannot safely cast value from dtype=float32 to dtype=bfloat16 with jax_numpy_dtype_promotion='standard'. In future JAX releases this will result in an error.\n",
      "  warnings.warn(\n",
      "/home/dmitrii/.cache/pypoetry/virtualenvs/micrlhf-progress-_SD4q1c9-py3.10/lib/python3.10/site-packages/jax/_src/ops/scatter.py:92: FutureWarning: scatter inputs have incompatible types: cannot safely cast value from dtype=float32 to dtype=bfloat16 with jax_numpy_dtype_promotion='standard'. In future JAX releases this will result in an error.\n",
      "  warnings.warn(\n",
      "/home/dmitrii/.cache/pypoetry/virtualenvs/micrlhf-progress-_SD4q1c9-py3.10/lib/python3.10/site-packages/jax/_src/ops/scatter.py:92: FutureWarning: scatter inputs have incompatible types: cannot safely cast value from dtype=float32 to dtype=bfloat16 with jax_numpy_dtype_promotion='standard'. In future JAX releases this will result in an error.\n",
      "  warnings.warn(\n",
      "/home/dmitrii/.cache/pypoetry/virtualenvs/micrlhf-progress-_SD4q1c9-py3.10/lib/python3.10/site-packages/jax/_src/ops/scatter.py:92: FutureWarning: scatter inputs have incompatible types: cannot safely cast value from dtype=float32 to dtype=bfloat16 with jax_numpy_dtype_promotion='standard'. In future JAX releases this will result in an error.\n",
      "  warnings.warn(\n",
      "/home/dmitrii/.cache/pypoetry/virtualenvs/micrlhf-progress-_SD4q1c9-py3.10/lib/python3.10/site-packages/jax/_src/ops/scatter.py:92: FutureWarning: scatter inputs have incompatible types: cannot safely cast value from dtype=float32 to dtype=bfloat16 with jax_numpy_dtype_promotion='standard'. In future JAX releases this will result in an error.\n",
      "  warnings.warn(\n",
      "/home/dmitrii/.cache/pypoetry/virtualenvs/micrlhf-progress-_SD4q1c9-py3.10/lib/python3.10/site-packages/jax/_src/ops/scatter.py:92: FutureWarning: scatter inputs have incompatible types: cannot safely cast value from dtype=float32 to dtype=bfloat16 with jax_numpy_dtype_promotion='standard'. In future JAX releases this will result in an error.\n",
      "  warnings.warn(\n",
      "/home/dmitrii/.cache/pypoetry/virtualenvs/micrlhf-progress-_SD4q1c9-py3.10/lib/python3.10/site-packages/jax/_src/ops/scatter.py:92: FutureWarning: scatter inputs have incompatible types: cannot safely cast value from dtype=float32 to dtype=bfloat16 with jax_numpy_dtype_promotion='standard'. In future JAX releases this will result in an error.\n",
      "  warnings.warn(\n",
      "/home/dmitrii/.cache/pypoetry/virtualenvs/micrlhf-progress-_SD4q1c9-py3.10/lib/python3.10/site-packages/jax/_src/ops/scatter.py:92: FutureWarning: scatter inputs have incompatible types: cannot safely cast value from dtype=float32 to dtype=bfloat16 with jax_numpy_dtype_promotion='standard'. In future JAX releases this will result in an error.\n",
      "  warnings.warn(\n"
     ]
    }
   ],
   "source": [
    "import numpy as np\n",
    "from tqdm.auto import tqdm\n",
    "\n",
    "scales = np.linspace(0, 100, 30)\n",
    "\n",
    "losses = [steer_with_direction(-direction, scale) for scale in tqdm(scales)]"
   ]
  },
  {
   "cell_type": "code",
   "execution_count": 40,
   "metadata": {},
   "outputs": [
    {
     "data": {
      "text/html": [
       "<script> (()=>{ if (customElements.get('treescope-container') === undefined) { class TreescopeContainer extends HTMLElement { constructor() { super(); this.attachShadow({mode: \"open\"}); this.defns = {}; this.state = {}; } } customElements.define(\"treescope-container\", TreescopeContainer); } if (customElements.get('treescope-run-here') === undefined) { class RunHere extends HTMLElement { constructor() { super() } connectedCallback() { const run = child => { const fn = new Function(child.textContent); child.textContent = \"\"; fn.call(this); this.remove(); }; const child = this.querySelector(\"script\"); if (child) { run(child); } else { new MutationObserver(()=>{ run(this.querySelector(\"script\")); }).observe(this, {childList: true}); } } } customElements.define(\"treescope-run-here\", RunHere); } })(); </script> <treescope-container class=\"treescope_out_7b23d3fc5d584db2a471210f453401cc\" ></treescope-container> <treescope-run-here><script type=\"application/octet-stream\"> const root = ( Array.from(document.getElementsByClassName( \"treescope_out_7b23d3fc5d584db2a471210f453401cc\")) .filter((elt) => !elt.dataset.setup) )[0]; root.dataset.setup = 1; const msg = document.createElement(\"span\"); msg.style = \"color: #aaaaaa; font-family: monospace; transition: opacity 0.2s; opacity: 0.0;\"; msg.textContent = \"(Loading...)\"; root.state.loadingMsg = msg; root.shadowRoot.appendChild(msg); root.state.chain = new Promise((resolve, reject) => { const observer = new IntersectionObserver((entries) => { for (const entry of entries) { if (entry.isIntersecting) { resolve(); observer.disconnect(); return; } } }, {rootMargin: \"1000px\"}); window.setTimeout(() => { if (root.loadingMsg) { root.loadingMsg.style.opacity = \"1.0\"; } observer.observe(root); }, 0); }); root.state.deferring = false; const _insertNode = (node) => { for (let oldScript of node.querySelectorAll(\"script\")) { let newScript = document.createElement(\"script\"); newScript.type = oldScript.type; newScript.textContent = oldScript.textContent; oldScript.parentNode.replaceChild(newScript, oldScript); } if (root.state.loadingMsg) { root.state.loadingMsg.remove(); root.state.loadingMsg = null; } root.shadowRoot.appendChild(node); }; root.defns.insertContent = ((contentNode, compressed) => { if (compressed) { root.state.deferring = true; } if (root.state.deferring) { root.state.chain = (async () => { await root.state.chain; if (compressed) { const encoded = contentNode.textContent; const blob = new Blob([ Uint8Array.from(atob(encoded), (m) => m.codePointAt(0)) ]); const reader = blob.stream().pipeThrough( new DecompressionStream(\"deflate\") ).pipeThrough( new TextDecoderStream(\"utf-8\") ).getReader(); const parts = []; while (true) { const step = await reader.read(); if (step.done) { break; } parts.push(step.value); } const tpl = document.createElement('template'); tpl.innerHTML = parts.join(\"\"); _insertNode(tpl.content); } else { _insertNode(contentNode.content); } })(); } else { _insertNode(contentNode.content); } }); </script></treescope-run-here><div style=\"display:none\"> <script type=\"application/octet-stream\" >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</script> <treescope-run-here><script type=\"application/octet-stream\"> const root = ( Array.from(document.getElementsByClassName( \"treescope_out_7b23d3fc5d584db2a471210f453401cc\")) .filter((elt) => !elt.dataset['step0']) )[0]; root.dataset['step0'] = 1; root.defns.insertContent( this.parentNode.querySelector('script[type=\"application/octet-stream\"]'), true ); this.parentNode.remove(); </script></treescope-run-here> </div>"
      ],
      "text/plain": [
       "<IPython.core.display.HTML object>"
      ]
     },
     "metadata": {},
     "output_type": "display_data"
    },
    {
     "data": {
      "text/html": [
       "<treescope-run-here><script type=\"application/octet-stream\"> const root = ( Array.from(document.getElementsByClassName( \"treescope_out_7b23d3fc5d584db2a471210f453401cc\")) .filter((elt) => !elt.dataset.stolen) )[0]; root.dataset.stolen = 1; this.parentNode.replaceChild(root, this); </script></treescope-run-here>"
      ],
      "text/plain": [
       "[<matplotlib.lines.Line2D at 0x7f0b30b1ee90>]"
      ]
     },
     "execution_count": 40,
     "metadata": {},
     "output_type": "execute_result"
    },
    {
     "data": {
      "image/png": "[encoded data removed]",
      "text/plain": [
       "<Figure size 640x480 with 1 Axes>"
      ]
     },
     "metadata": {},
     "output_type": "display_data"
    }
   ],
   "source": [
    "import matplotlib.pyplot as plt\n",
    "\n",
    "losses = [x.tolist() for x in losses]\n",
    "\n",
    "plt.plot(scales, losses)"
   ]
  },
  {
   "cell_type": "code",
   "execution_count": 47,
   "metadata": {},
   "outputs": [
    {
     "data": {
      "application/vnd.jupyter.widget-view+json": {
       "model_id": "718575a719c34e84b9aac7dd63299f64",
       "version_major": 2,
       "version_minor": 0
      },
      "text/plain": [
       "  0%|          | 0/11 [00:00<?, ?it/s]"
      ]
     },
     "metadata": {},
     "output_type": "display_data"
    }
   ],
   "source": [
    "losses_features = [steer_with_direction(-sae[\"W_dec\"][feature], 30).tolist() for feature in tqdm(features)]"
   ]
  },
  {
   "cell_type": "code",
   "execution_count": 42,
   "metadata": {},
   "outputs": [
    {
     "data": {
      "text/html": [
       "<script> (()=>{ if (customElements.get('treescope-container') === undefined) { class TreescopeContainer extends HTMLElement { constructor() { super(); this.attachShadow({mode: \"open\"}); this.defns = {}; this.state = {}; } } customElements.define(\"treescope-container\", TreescopeContainer); } if (customElements.get('treescope-run-here') === undefined) { class RunHere extends HTMLElement { constructor() { super() } connectedCallback() { const run = child => { const fn = new Function(child.textContent); child.textContent = \"\"; fn.call(this); this.remove(); }; const child = this.querySelector(\"script\"); if (child) { run(child); } else { new MutationObserver(()=>{ run(this.querySelector(\"script\")); }).observe(this, {childList: true}); } } } customElements.define(\"treescope-run-here\", RunHere); } })(); </script> <treescope-container class=\"treescope_out_0ea07c204e674958b8117b9fa7ba72f8\" ></treescope-container> <treescope-run-here><script type=\"application/octet-stream\"> const root = ( Array.from(document.getElementsByClassName( \"treescope_out_0ea07c204e674958b8117b9fa7ba72f8\")) .filter((elt) => !elt.dataset.setup) )[0]; root.dataset.setup = 1; const msg = document.createElement(\"span\"); msg.style = \"color: #aaaaaa; font-family: monospace; transition: opacity 0.2s; opacity: 0.0;\"; msg.textContent = \"(Loading...)\"; root.state.loadingMsg = msg; root.shadowRoot.appendChild(msg); root.state.chain = new Promise((resolve, reject) => { const observer = new IntersectionObserver((entries) => { for (const entry of entries) { if (entry.isIntersecting) { resolve(); observer.disconnect(); return; } } }, {rootMargin: \"1000px\"}); window.setTimeout(() => { if (root.loadingMsg) { root.loadingMsg.style.opacity = \"1.0\"; } observer.observe(root); }, 0); }); root.state.deferring = false; const _insertNode = (node) => { for (let oldScript of node.querySelectorAll(\"script\")) { let newScript = document.createElement(\"script\"); newScript.type = oldScript.type; newScript.textContent = oldScript.textContent; oldScript.parentNode.replaceChild(newScript, oldScript); } if (root.state.loadingMsg) { root.state.loadingMsg.remove(); root.state.loadingMsg = null; } root.shadowRoot.appendChild(node); }; root.defns.insertContent = ((contentNode, compressed) => { if (compressed) { root.state.deferring = true; } if (root.state.deferring) { root.state.chain = (async () => { await root.state.chain; if (compressed) { const encoded = contentNode.textContent; const blob = new Blob([ Uint8Array.from(atob(encoded), (m) => m.codePointAt(0)) ]); const reader = blob.stream().pipeThrough( new DecompressionStream(\"deflate\") ).pipeThrough( new TextDecoderStream(\"utf-8\") ).getReader(); const parts = []; while (true) { const step = await reader.read(); if (step.done) { break; } parts.push(step.value); } const tpl = document.createElement('template'); tpl.innerHTML = parts.join(\"\"); _insertNode(tpl.content); } else { _insertNode(contentNode.content); } })(); } else { _insertNode(contentNode.content); } }); </script></treescope-run-here><div style=\"display:none\"> <script type=\"application/octet-stream\" >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</script> <treescope-run-here><script type=\"application/octet-stream\"> const root = ( Array.from(document.getElementsByClassName( \"treescope_out_0ea07c204e674958b8117b9fa7ba72f8\")) .filter((elt) => !elt.dataset['step0']) )[0]; root.dataset['step0'] = 1; root.defns.insertContent( this.parentNode.querySelector('script[type=\"application/octet-stream\"]'), true ); this.parentNode.remove(); </script></treescope-run-here> </div>"
      ],
      "text/plain": [
       "<IPython.core.display.HTML object>"
      ]
     },
     "metadata": {},
     "output_type": "display_data"
    },
    {
     "data": {
      "text/html": [
       "<treescope-run-here><script type=\"application/octet-stream\"> const root = ( Array.from(document.getElementsByClassName( \"treescope_out_0ea07c204e674958b8117b9fa7ba72f8\")) .filter((elt) => !elt.dataset.stolen) )[0]; root.dataset.stolen = 1; this.parentNode.replaceChild(root, this); </script></treescope-run-here>"
      ],
      "text/plain": [
       "[3.65625,\n",
       " 0.3046875,\n",
       " 0.84765625,\n",
       " 5.78125,\n",
       " 8.1875,\n",
       " 2.59375,\n",
       " 11.0,\n",
       " 7.03125,\n",
       " 1.0390625,\n",
       " 1.6640625,\n",
       " 5.4375]"
      ]
     },
     "execution_count": 42,
     "metadata": {},
     "output_type": "execute_result"
    }
   ],
   "source": [
    "losses_features"
   ]
  },
  {
   "cell_type": "code",
   "execution_count": 48,
   "metadata": {},
   "outputs": [
    {
     "data": {
      "text/html": [
       "<script> (()=>{ if (customElements.get('treescope-container') === undefined) { class TreescopeContainer extends HTMLElement { constructor() { super(); this.attachShadow({mode: \"open\"}); this.defns = {}; this.state = {}; } } customElements.define(\"treescope-container\", TreescopeContainer); } if (customElements.get('treescope-run-here') === undefined) { class RunHere extends HTMLElement { constructor() { super() } connectedCallback() { const run = child => { const fn = new Function(child.textContent); child.textContent = \"\"; fn.call(this); this.remove(); }; const child = this.querySelector(\"script\"); if (child) { run(child); } else { new MutationObserver(()=>{ run(this.querySelector(\"script\")); }).observe(this, {childList: true}); } } } customElements.define(\"treescope-run-here\", RunHere); } })(); </script> <treescope-container class=\"treescope_out_3ad0e115fc994b6eb021e240cc0cffed\" ></treescope-container> <treescope-run-here><script type=\"application/octet-stream\"> const root = ( Array.from(document.getElementsByClassName( \"treescope_out_3ad0e115fc994b6eb021e240cc0cffed\")) .filter((elt) => !elt.dataset.setup) )[0]; root.dataset.setup = 1; const msg = document.createElement(\"span\"); msg.style = \"color: #aaaaaa; font-family: monospace; transition: opacity 0.2s; opacity: 0.0;\"; msg.textContent = \"(Loading...)\"; root.state.loadingMsg = msg; root.shadowRoot.appendChild(msg); root.state.chain = new Promise((resolve, reject) => { const observer = new IntersectionObserver((entries) => { for (const entry of entries) { if (entry.isIntersecting) { resolve(); observer.disconnect(); return; } } }, {rootMargin: \"1000px\"}); window.setTimeout(() => { if (root.loadingMsg) { root.loadingMsg.style.opacity = \"1.0\"; } observer.observe(root); }, 0); }); root.state.deferring = false; const _insertNode = (node) => { for (let oldScript of node.querySelectorAll(\"script\")) { let newScript = document.createElement(\"script\"); newScript.type = oldScript.type; newScript.textContent = oldScript.textContent; oldScript.parentNode.replaceChild(newScript, oldScript); } if (root.state.loadingMsg) { root.state.loadingMsg.remove(); root.state.loadingMsg = null; } root.shadowRoot.appendChild(node); }; root.defns.insertContent = ((contentNode, compressed) => { if (compressed) { root.state.deferring = true; } if (root.state.deferring) { root.state.chain = (async () => { await root.state.chain; if (compressed) { const encoded = contentNode.textContent; const blob = new Blob([ Uint8Array.from(atob(encoded), (m) => m.codePointAt(0)) ]); const reader = blob.stream().pipeThrough( new DecompressionStream(\"deflate\") ).pipeThrough( new TextDecoderStream(\"utf-8\") ).getReader(); const parts = []; while (true) { const step = await reader.read(); if (step.done) { break; } parts.push(step.value); } const tpl = document.createElement('template'); tpl.innerHTML = parts.join(\"\"); _insertNode(tpl.content); } else { _insertNode(contentNode.content); } })(); } else { _insertNode(contentNode.content); } }); </script></treescope-run-here><div style=\"display:none\"> <script type=\"application/octet-stream\" >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</script> <treescope-run-here><script type=\"application/octet-stream\"> const root = ( Array.from(document.getElementsByClassName( \"treescope_out_3ad0e115fc994b6eb021e240cc0cffed\")) .filter((elt) => !elt.dataset['step0']) )[0]; root.dataset['step0'] = 1; root.defns.insertContent( this.parentNode.querySelector('script[type=\"application/octet-stream\"]'), true ); this.parentNode.remove(); </script></treescope-run-here> </div>"
      ],
      "text/plain": [
       "<IPython.core.display.HTML object>"
      ]
     },
     "metadata": {},
     "output_type": "display_data"
    },
    {
     "data": {
      "text/html": [
       "<treescope-run-here><script type=\"application/octet-stream\"> const root = ( Array.from(document.getElementsByClassName( \"treescope_out_3ad0e115fc994b6eb021e240cc0cffed\")) .filter((elt) => !elt.dataset.stolen) )[0]; root.dataset.stolen = 1; this.parentNode.replaceChild(root, this); </script></treescope-run-here>"
      ],
      "text/plain": [
       "[4.25,\n",
       " 1.2578125,\n",
       " 2.15625,\n",
       " 4.84375,\n",
       " 6.03125,\n",
       " 3.84375,\n",
       " 9.5625,\n",
       " 6.8125,\n",
       " 2.703125,\n",
       " 2.90625,\n",
       " 6.09375]"
      ]
     },
     "execution_count": 48,
     "metadata": {},
     "output_type": "execute_result"
    }
   ],
   "source": [
    "losses_features"
   ]
  },
  {
   "cell_type": "code",
   "execution_count": 255,
   "metadata": {},
   "outputs": [
    {
     "data": {
      "application/vnd.jupyter.widget-view+json": {
       "model_id": "51a4b23526894a62b0e2de71ed49a2b5",
       "version_major": 2,
       "version_minor": 0
      },
      "text/plain": [
       "  0%|          | 0/19 [00:00<?, ?it/s]"
      ]
     },
     "metadata": {},
     "output_type": "display_data"
    }
   ],
   "source": [
    "from tqdm.auto import tqdm\n",
    "from functools import partial\n",
    "from micrlhf.utils.activation_manipulation import add_vector\n",
    "\n",
    "task_losses = {}\n",
    "\n",
    "n_few_shots, batch_size, max_seq_len = 20, 16, 256\n",
    "seed = 10\n",
    "\n",
    "prompt = \"<start_of_turn>user\\nFollow the pattern:\\n{}\"\n",
    "\n",
    "task_name = \"algo_first\"\n",
    "\n",
    "sep = 3978\n",
    "pad = 0\n",
    "\n",
    "pairs = list(tasks[task_name].items())\n",
    "\n",
    "n_shot_losses = []\n",
    "\n",
    "for n_shot in tqdm(range(2, 21)):\n",
    "    runner = ICLRunner(task_name, pairs, batch_size=batch_size, n_shot=n_shot, max_seq_len=max_seq_len, seed=seed, prompt=prompt)\n",
    "\n",
    "    tokenized = runner.get_tokens([\n",
    "        x for x in runner.train_pairs\n",
    "    ], tokenizer)\n",
    "\n",
    "    inputs = tokenized_to_inputs(**tokenized)\n",
    "    train_tokens = tokenized[\"input_ids\"]\n",
    "\n",
    "    logits, all_resids = get_resids_call(inputs)\n",
    "\n",
    "    icl_loss = logprob_loss(\n",
    "        logits.unwrap(\"batch\", \"seq\", \"vocabulary\"), train_tokens, shift=0, n_first=3, sep=sep, pad_token=0\n",
    "    )\n",
    "\n",
    "    tokenized = runner.get_tokens(runner.eval_pairs, tokenizer)\n",
    "    inputs = tokenized_to_inputs(**tokenized)\n",
    "    tokens = tokenized[\"input_ids\"]\n",
    "\n",
    "    logits = llama(inputs)\n",
    "\n",
    "    zero_loss = logprob_loss(\n",
    "        logits.unwrap(\"batch\", \"seq\", \"vocabulary\"), tokens, shift=0, n_first=3, sep=sep, pad_token=0\n",
    "    )\n",
    "\n",
    "\n",
    "    resids = all_resids[layer].value.unwrap(\n",
    "        \"batch\", \"seq\", \"embedding\"\n",
    "    )\n",
    "\n",
    "    tv = get_tv(resids, train_tokens, shift = 0, sep=sep)\n",
    "\n",
    "    add_act = make_act_adder(llama, tv.astype('bfloat16'), tokens, layer, length=1, shift= 0, sep=sep, scale=1)\n",
    "\n",
    "    logits = add_act(inputs)\n",
    "\n",
    "    tv_loss = logprob_loss(\n",
    "        logits.unwrap(\"batch\", \"seq\", \"vocabulary\"), tokens, shift=0, n_first=3, sep=sep, pad_token=0\n",
    "    )\n",
    "\n",
    "\n",
    "    arrow_pos = jnp.nonzero(tokens == sep)\n",
    "    arrow_pos_single = []\n",
    "    for i in range(runner.eval_batch_size):\n",
    "        arrow_pos_single.append(arrow_pos[1][arrow_pos[0] == i].max())\n",
    "\n",
    "    arrow_pos_single = np.array(arrow_pos_single)\n",
    "\n",
    "    hits = 0\n",
    "\n",
    "    logits = logits.unwrap(\"batch\", \"seq\", \"vocabulary\")\n",
    "\n",
    "    for i, (ap, l) in enumerate(zip(arrow_pos_single, logits)):\n",
    "        l = l.argmax(-1)\n",
    "        tgt = runner.eval_pairs[i][-1][1]\n",
    "        hits += int(tgt in repr(tokenizer.decode(l[ap:ap+3])))\n",
    "\n",
    "\n",
    "    n_shot_losses.append((icl_loss.tolist(), tv_loss.tolist(), hits / runner.eval_batch_size))"
   ]
  },
  {
   "cell_type": "code",
   "execution_count": 184,
   "metadata": {},
   "outputs": [],
   "source": [
    "logits = logits.unwrap(\"batch\", \"seq\", \"vocabulary\")"
   ]
  },
  {
   "cell_type": "code",
   "execution_count": 248,
   "metadata": {},
   "outputs": [
    {
     "data": {
      "text/html": [
       "<script> (()=>{ if (customElements.get('treescope-container') === undefined) { class TreescopeContainer extends HTMLElement { constructor() { super(); this.attachShadow({mode: \"open\"}); this.defns = {}; this.state = {}; } } customElements.define(\"treescope-container\", TreescopeContainer); } if (customElements.get('treescope-run-here') === undefined) { class RunHere extends HTMLElement { constructor() { super() } connectedCallback() { const run = child => { const fn = new Function(child.textContent); child.textContent = \"\"; fn.call(this); this.remove(); }; const child = this.querySelector(\"script\"); if (child) { run(child); } else { new MutationObserver(()=>{ run(this.querySelector(\"script\")); }).observe(this, {childList: true}); } } } customElements.define(\"treescope-run-here\", RunHere); } })(); </script> <treescope-container class=\"treescope_out_810a92537e7d407aa4220fee7085d2b4\" ></treescope-container> <treescope-run-here><script type=\"application/octet-stream\"> const root = ( Array.from(document.getElementsByClassName( \"treescope_out_810a92537e7d407aa4220fee7085d2b4\")) .filter((elt) => !elt.dataset.setup) )[0]; root.dataset.setup = 1; const msg = document.createElement(\"span\"); msg.style = \"color: #aaaaaa; font-family: monospace; transition: opacity 0.2s; opacity: 0.0;\"; msg.textContent = \"(Loading...)\"; root.state.loadingMsg = msg; root.shadowRoot.appendChild(msg); root.state.chain = new Promise((resolve, reject) => { const observer = new IntersectionObserver((entries) => { for (const entry of entries) { if (entry.isIntersecting) { resolve(); observer.disconnect(); return; } } }, {rootMargin: \"1000px\"}); window.setTimeout(() => { if (root.loadingMsg) { root.loadingMsg.style.opacity = \"1.0\"; } observer.observe(root); }, 0); }); root.state.deferring = false; const _insertNode = (node) => { for (let oldScript of node.querySelectorAll(\"script\")) { let newScript = document.createElement(\"script\"); newScript.type = oldScript.type; newScript.textContent = oldScript.textContent; oldScript.parentNode.replaceChild(newScript, oldScript); } if (root.state.loadingMsg) { root.state.loadingMsg.remove(); root.state.loadingMsg = null; } root.shadowRoot.appendChild(node); }; root.defns.insertContent = ((contentNode, compressed) => { if (compressed) { root.state.deferring = true; } if (root.state.deferring) { root.state.chain = (async () => { await root.state.chain; if (compressed) { const encoded = contentNode.textContent; const blob = new Blob([ Uint8Array.from(atob(encoded), (m) => m.codePointAt(0)) ]); const reader = blob.stream().pipeThrough( new DecompressionStream(\"deflate\") ).pipeThrough( new TextDecoderStream(\"utf-8\") ).getReader(); const parts = []; while (true) { const step = await reader.read(); if (step.done) { break; } parts.push(step.value); } const tpl = document.createElement('template'); tpl.innerHTML = parts.join(\"\"); _insertNode(tpl.content); } else { _insertNode(contentNode.content); } })(); } else { _insertNode(contentNode.content); } }); </script></treescope-run-here><div style=\"display:none\"> <script type=\"application/octet-stream\" >eNrFVk1v8zYM/iuCB7x1htpNkzYdnA/gvQw7DDtshx22wZAl2haqSJ4kN81e5L+Pkp2kSZxuw4otOSSiSD4PSZHSwrqthFXqDIBluoHcaO3IF9JoK5zQKiMGJHXiBeak1MolJV0Luc3IWittG8pQvqmFgyQsMtIYlEhhXRJcJ27boFRpheKCsufK6FbxhGmpTdaZzkm/KiQqoD/BXZ2RUjhUUw6Um5OGci5UlUgoXUYmrPYgCpIaRFWj5D599G6UowI5H8z6P8mLsKIQUjhkTlunD7qJUM4IZQVLrPgDut2e7m5x16VncUhPYlqFmAZllhnROOLjW97QppGCUZ+xO80c+OgN0PXNKo5HyxUmFPGsIxxKZcmSuFrYtAL3I2b7B80hHqW1ti4N+xgaOJI3oHzIn5n36o1++W1o5zuquATcVq2U8w4hRZo/aa1QGm+0eR6Rtxz0zyjyWydiJ5gXNmBKbdZUMUiV3sSjUF8EiC92SNIZLch0MkI/oiTxGetUgqpcTZZLMvYq71I34FqjMO8EpIUjsbpVntm5a1uL0nl+QcH/2eH3CkKMp0pxvUkN/N6CdZ+VWIdyfWvoGuIuJyPvY34B1LS27tI4H4hxD7Hswngnyr/PwbPoCul0VcmuK/PQOXhaG+/LS0C6WwIveMD7Snp2YZ0+w9YnPTKRJ9Qrp0xSa7/H5uz9xtHBZ77GYxjtwXcjzCce/3DGV4u7oQbg4oUEh8vodHxExNECI4XXZTSOiFZIBsNWqPfesR+ONfY2+ygjbLtuYKEFGAM8b3BmQK0lBxNOTBgkX9En/+1HVjDJiHAUexRjS0tUpwVCKeRwZdjtyKla3rFDbS4sgm73Q+1ckayIpAXILCsA+wXesGLhMx/E6wZbcu8nWz8Ax/MjllBh3BVS+wl5FbPWL2AukTk1zxZohWVSl9aZ0i4+E9XUxqvgczWYh2CTsRrYM/DRiHw9OnLwpsNGe/0ThmFCZ+Tm18ljwW7+T3qnRldJzv4Dkr6OHrg11hew0XhPgRnAFfbjYEMrBKAk9Ju9dsY/BvUYnoNXd4mSCpuXwliXa5X74z/QWu+1Ujp59N00WCryr+l3FT+n6KNaU1Phy6KjERp6h5cV9dNqQ43CiyHfp3s/GcqSsvvpgGKD0/7L4fVj+seO99mj9KJknIZgj0+sLDyQqEkqQ7nAasb300cO1S3RhqoKyJiM0xmrb4nDNb7eDOp0IhKugQEqF+F+0LE/y9k+mF26qUHlmCRJGwv8r4fvPwZ/B6EbuQEjKMFrgzf5VZ2P4DEEcf4WxUopIvgyOlyBEz4ZP8CMMT55epg9zb6BR1zMeAFT/vQwmUa9UX9Zn94c5xVF5Y72Qqim7d+3USBa6Ndo0EkfE2528eCDIRjjb+/rLf7Q1R2tPkk3V+262aYKbytDt5hbN53E97NbzE6akk+V8y8SdLQ6+3nr/CSN0VETHyurPwG7X5MP</script> <treescope-run-here><script type=\"application/octet-stream\"> const root = ( Array.from(document.getElementsByClassName( \"treescope_out_810a92537e7d407aa4220fee7085d2b4\")) .filter((elt) => !elt.dataset['step0']) )[0]; root.dataset['step0'] = 1; root.defns.insertContent( this.parentNode.querySelector('script[type=\"application/octet-stream\"]'), true ); this.parentNode.remove(); </script></treescope-run-here> </div>"
      ],
      "text/plain": [
       "<IPython.core.display.HTML object>"
      ]
     },
     "metadata": {},
     "output_type": "display_data"
    },
    {
     "data": {
      "text/html": [
       "<div style=\"display:none\"> <script type=\"application/octet-stream\" >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</script> <treescope-run-here><script type=\"application/octet-stream\"> const root = ( Array.from(document.getElementsByClassName( \"treescope_out_810a92537e7d407aa4220fee7085d2b4\")) .filter((elt) => !elt.dataset['step1']) )[0]; root.dataset['step1'] = 1; root.defns.insertContent( this.parentNode.querySelector('script[type=\"application/octet-stream\"]'), true ); this.parentNode.remove(); </script></treescope-run-here> </div>"
      ],
      "text/plain": [
       "<IPython.core.display.HTML object>"
      ]
     },
     "metadata": {},
     "output_type": "display_data"
    },
    {
     "data": {
      "text/html": [
       "<treescope-run-here><script type=\"application/octet-stream\"> const root = ( Array.from(document.getElementsByClassName( \"treescope_out_810a92537e7d407aa4220fee7085d2b4\")) .filter((elt) => !elt.dataset.stolen) )[0]; root.dataset.stolen = 1; this.parentNode.replaceChild(root, this); </script></treescope-run-here>"
      ],
      "text/plain": [
       "array([22, 22, 22, 22, 22, 22, 22, 22, 22, 22, 22, 22, 22, 22, 22, 22],\n",
       "      dtype=int32)"
      ]
     },
     "execution_count": 248,
     "metadata": {},
     "output_type": "execute_result"
    }
   ],
   "source": [
    "\n",
    "arrow_pos = jnp.nonzero(tokens == sep)\n",
    "arrow_pos_single = []\n",
    "for i in range(batch_size):\n",
    "    arrow_pos_single.append(arrow_pos[1][arrow_pos[0] == i].max())\n",
    "\n",
    "arrow_pos_single = np.array(arrow_pos_single)\n",
    "\n",
    "arrow_pos_single"
   ]
  },
  {
   "cell_type": "code",
   "execution_count": 247,
   "metadata": {},
   "outputs": [
    {
     "data": {
      "text/html": [
       "<script> (()=>{ if (customElements.get('treescope-container') === undefined) { class TreescopeContainer extends HTMLElement { constructor() { super(); this.attachShadow({mode: \"open\"}); this.defns = {}; this.state = {}; } } customElements.define(\"treescope-container\", TreescopeContainer); } if (customElements.get('treescope-run-here') === undefined) { class RunHere extends HTMLElement { constructor() { super() } connectedCallback() { const run = child => { const fn = new Function(child.textContent); child.textContent = \"\"; fn.call(this); this.remove(); }; const child = this.querySelector(\"script\"); if (child) { run(child); } else { new MutationObserver(()=>{ run(this.querySelector(\"script\")); }).observe(this, {childList: true}); } } } customElements.define(\"treescope-run-here\", RunHere); } })(); </script> <treescope-container class=\"treescope_out_f2aa0b60eec44c33a811599d368fd7ea\" ></treescope-container> <treescope-run-here><script type=\"application/octet-stream\"> const root = ( Array.from(document.getElementsByClassName( \"treescope_out_f2aa0b60eec44c33a811599d368fd7ea\")) .filter((elt) => !elt.dataset.setup) )[0]; root.dataset.setup = 1; const msg = document.createElement(\"span\"); msg.style = \"color: #aaaaaa; font-family: monospace; transition: opacity 0.2s; opacity: 0.0;\"; msg.textContent = \"(Loading...)\"; root.state.loadingMsg = msg; root.shadowRoot.appendChild(msg); root.state.chain = new Promise((resolve, reject) => { const observer = new IntersectionObserver((entries) => { for (const entry of entries) { if (entry.isIntersecting) { resolve(); observer.disconnect(); return; } } }, {rootMargin: \"1000px\"}); window.setTimeout(() => { if (root.loadingMsg) { root.loadingMsg.style.opacity = \"1.0\"; } observer.observe(root); }, 0); }); root.state.deferring = false; const _insertNode = (node) => { for (let oldScript of node.querySelectorAll(\"script\")) { let newScript = document.createElement(\"script\"); newScript.type = oldScript.type; newScript.textContent = oldScript.textContent; oldScript.parentNode.replaceChild(newScript, oldScript); } if (root.state.loadingMsg) { root.state.loadingMsg.remove(); root.state.loadingMsg = null; } root.shadowRoot.appendChild(node); }; root.defns.insertContent = ((contentNode, compressed) => { if (compressed) { root.state.deferring = true; } if (root.state.deferring) { root.state.chain = (async () => { await root.state.chain; if (compressed) { const encoded = contentNode.textContent; const blob = new Blob([ Uint8Array.from(atob(encoded), (m) => m.codePointAt(0)) ]); const reader = blob.stream().pipeThrough( new DecompressionStream(\"deflate\") ).pipeThrough( new TextDecoderStream(\"utf-8\") ).getReader(); const parts = []; while (true) { const step = await reader.read(); if (step.done) { break; } parts.push(step.value); } const tpl = document.createElement('template'); tpl.innerHTML = parts.join(\"\"); _insertNode(tpl.content); } else { _insertNode(contentNode.content); } })(); } else { _insertNode(contentNode.content); } }); </script></treescope-run-here><div style=\"display:none\"> <script type=\"application/octet-stream\" >eNrtnQtT27q2x7+Kd/bMIVySECkvHoW5CeXVlrZAW9rus4ej2LKtxraMLBPCmX73KznhnbCRd0+OomuYCcGxnkta+klJ1v9VwkcB3q5xhnFi0xifM0q59W8rpgnhhEYbFsMB4uQSb1oujXjVRSEJRhtWSCOaxMgW14c+4bia/bNhxUxcCUjCq1nWVT6KxdWIRuJyH9kDj9E0cqo2DSjbGCfdtCb/9QNxg8iPONzfsFzCxW0RxxHftGLkOCTyqgF2+YYFbV8WEuGqj4nniyug1pLZRBwRUefbZJMn1UuSkD4JCBc1Rymnt/dWScQZiRJiVxNyjcevTqr789XquHte3XZPlaWRKJOJa4nNSMwt2b6tJRTHAbGR7LFVanMsW88wCpe2y+XlrW3RoaK8hFsOdqPE2rK4T5Kah/mJ6O331MHl5ZpPE17LXhdNw9w6j3Ekm9y1Za4y0R9/TnvlAEVOgMXLURoEm+MSaqKap5RG4mp5SNlg2bpfB3omLsmXHlzmxJYXY8xcykIU2bgW0WF5ObOvKKD85BWrOk70ymrAZZEPca3yo1rXAhx53Le2tqy6vOXZqjPMUxaJfrdwkOC7ivlpJGv2OOvEJy6X9ctukE9+it8ZJZTFqIocOqwxfJHihHcjEmbm2mMoxOVxnyzLPDafFBSniT/uxs0pbbwpYmvcjGda+fI6yFqMDcmp5wXjWXmezRwxWmOZl7yCA16x8KUY4BNLytpl/9cGeCQ7vcRKskKTm2t2gJLknZick3zLpds8z0MxDEs3hf9cFv0phn82xrdfrU6bAA65tLIMt0oP3UfJ4qgvWoqvtkr1kkUjURnR7Ejc99ywn97Wskxz08qSmHZjh5V5jPNEzl0vGymZA/kdNUALCE/ws+bSwEF9kV0kypnh0H5aD287H9dA3O2QJA7Q6MZxPb7R2rYC1MfBxkYfizmB79XAzn42p5Y3dl5VIL3XxMnVN+/KIlHm0voBlV5wZpk+vcTsackOYoMEI0+YInqaeiOivPzoko+S8naW5/bUfsjSbNg+tgfYWV62/mf5rg4y6fREN/c/qGHmhTespX/CVt9e+m9W72GimZVsz6GS0o6y4JQl0oAxFWsRZlPKJcmvKzabCllB1WxOJbPG+K8p9a55HF/xp6XUSHLuEpbwcxqdy+E/ZWo9N5VqsCVn01RTWX+7+mOLP66ibFWImCfoYVyNbEL//JulCZcWj/op52LZnuaA7l6eNmhLVunRXaIjBZJNv/mfGDSd0iOiWzpCYlQQFFino7BPg8T6kHLZXsfaGacUf+ORmBjVIe4PBJ1lyZNQ+GtfuGHBThEXyQlKsHPLdL/juvzdfDrMx6kz6KrX1nH4uJXj+TGlFdPd3V3K2hAl57bgMdGxt+mRy8ez7ZGffq7MR2keFnm/661LxMrVqoM4qqJIGDZb1pfvX5aFSFZhKLoZzVm2FkgsLHpMgGiVplytKbc1EIYh2PntYU2yIq3fSBhTxlH0JO8+owMcncsrd87or3v3XrJ7/Xlj5p81ufKLijnntuBGh+FoUtWHZC7yfHjjL/Ku96bOZCF9MFVtFNhlsX0Q7Ariqwx3aglHMv1tff9jNelT5gi/O66JQ7lou6zF/c5LfMREVYaIRWJKnd+47Jtedl1kg8aUG2NBhf++3SWxyaZI+qVJ8yeXqvVa5jDvtmIb2UYKsarHkEOEQcqg0XKwV7GoGKsetupierZtvzIeu7EoVniC7JI16b8nVXniMn9Zlz4w5k1jftaGfjYigwDFwvn8NcCpe+fZJYyxLSsjuwlfiVnqzLznV9RjWhG/cM8qtxHWb13G0KjmMhqKrYmdhnJbIX12UrtEgdi/lJeXawkVG5fMk8sNiPxbGy8ncvPxwgWltGQtW8u3273Ex2KPKzZTeGjtnJ6eytacymtyh5e9KPZPosk2Ph1Fdvlf/ztZxGy5OORc0MZLkSxJ9qPY4waTa8PJ8UKzLmZnwuwNK2VBWXrXDfn66pC6LtzsC//dblac+vr+kdftdbOfw+Nul2bPeidD8Xiw1+3udp/76YXdrjegb53D3d7O8Fu3++nbzpvu0WFvp7vnXR0evPN50jsi2Gvsvf4K3x22v12exin5eNT6BN58PTz5cnR5dnTNP4729nZWzrzBJ9J7XffJ6+P0za6z/6N+0F91Lw+d+OJt2784I+Q4PYr2/QP3M+9+bvfes2Z37zAa7Lbtz2karZy0LuxkMLx094LViytvl655/TfD/TVw0F2Nuietd4y9AScr3nX9xKl337jAe9/ZGe7/gF6djtKTTifcBe3hwdf1D54X40+DURMf9q9bdp992Oeo6x0fvh++RskoOU4PD7+e7e4Nux+P48NvzufV1RWv86nztcHr7tuPF93LlsjzXfd9p3s07Ibe9cnpSvr9FO9+vYJu275+3zw5GLXSXvftde9HvBc3yMHxzm79e/qxedqJ3N673YO9o7BLVtYud6EfAb+z0v8y/PpjeMAuX+9/3ol+uLu7Hl/5YH8Pgk5rfefNsLfmrzePjvZPG/vfu1542PrRO17nn/bxwfpur3e433jtNU9Wv9mjfndf2PTL29Xu8T7q4qOdoHtwvfvB+869du+j9+HD4evegBy38F7v605vzyb12Gc0jsTYiL/vvgbXYHDq7rjcH72NDhy0lxy49ffh/u77ds/pXnz5EiOenH4PHQeRdeherzc/kx8X7Thk7Q/0284pYfvh5Zv9xunZaWNvF9q9Y/fTykFA4/3mXjJsIe+ivUa+49P3QXwW9Q4OsXPEcHp2sb8TgrM9Njg9vWrB9tlZMuyKGi1b2fkOLy9lw3pJevd/iYfb2Y8cGos1625KZqdStVrtmTsq4zn7p8jr+d2/nx2TZFgxJh6RtxgekW2Vx+Dx8BBLTMFPVE5fcdsETOS1RLgHmYUkLYknaIgItyJ0STzEKauJnOM+RcypDRnh+JPYlJTv8hKNneR1d1IiltRy6R6GyTMSUconEmLBa+WbQ7Qn6RgOBVM9SfqzYsF6vZ6tnML5ikW0nG0oppd7j7VKd5WTW6kbDyaPlUrW79YeIoFwbJxa8ubfMs8mVssoRYHwxkT0GUaORMWV+303Oe/5i5MeiZ03Rz0PzyQer/Ol7VfjxewVieJ0stKUsuWrT69KUzOZrHTixfEqJyqRJX5Yri9yYqKIwTkXCIB5KWtGdYBHYo74W6XS9h+iFSKBSD6pwv3kT6C09NzrpXm1OV9b/6j/+Xxzl+5wfcmi0Y4cfltLivMvO3lbXrJu9xJbpXKAwr6DsvPEjexRVGW5ZGVL51bp3r5DrL7Tb5bbx8cbJXFzNhpl68TzSe9v3zZw/Mdkc2YWLetiUVWjamLXl/Vz1tUP0t0/Sy5t/+P3K9jZTHgqS6qIe2iCK9aQuOIxRqKE8Q0PG1F5kOHDvUJp25rW1AcgX/qvGjuHvf+eyV86APIZGCgYeJoxnzNTRXdTAnVTgl9nyvGfZQM6co4OcNqfPxffscyLC3I6E+0oAOgDdUpOBBRQN92cOkEdUPRpYGGgDrwc6rLj94rYFY+PBStWnwTiMRE5c6OoDqhTHdCX6sDLqS6zsEFMB9SZDhRMp4H/M5Lp5ocFpjAd1IfpoIrxYMF0082pE9NBRZ8GF4bp4MuZziGui0X5tjyeY1QYOqxYNgoxQxWLREZhHVTHOqgv1sGXY92dkQ1iO6jOdrBgOw38oJFsNz88MIXtGvqwXUPFeI2C7aabUye2ayj6tMbCsF1D4U1Ynw4rFkfBoGL1sS/KrVgJzr5UZRTXNdS5rqEv1zUU3oQVBjaI6BrqRNcoiE4D72ck0c0PCkwhuqY+RNdUMV6zILrp5tSJ6JqKPq25METXfDnRoZT7lBE+qlgDcVl+OBwxeXKHWUIjFBiFdU11rGvqi3XNl2PdrZUNYrumOts1C7bTwA8ayXbzwwNT2K6lD9u1VIzXKthuujl1YruWok9rLQzbtV7OdjYNQ8I5xvL918ghIifxNI3IpYC7DPk88dQowmupE15LX8JrvZzwbm1tEOG11AmvVRCeBt7QSMKbHySYQnhtfQivrWK8dkF4082pE+G1FX1ae2EIr/1ywuMs5b58C1Z+a6KPnIrlI+YYRXRtdaJr60t07ZcTXWZbg2iurU5z7YLmNPB8RtLc/IDAFJrr6ENzHRXjdQqam25OnWiuo+jTOgtDcx2VECeI4zALcuKQxE6TRLQne19WgN0QmRXnpKPOdR19ua6jEudkYmWD2K6jznadgu008INGst388MAUtlvTh+3WVIy3VrDddHPqxHZrij5tbWHYbk3hpA5dyWh1TL7ramMmY68Ho+wLsi5OEmoW262ps92avmy3pnBmh64Moro1dapbK6hOAw9oJNXNDwxMobp1fahuXcV46wXVTTenTlS3rujT1heG6tZfTnX4CtlccpyDJduNz+6kOmHFoq5LbMNiE6+rc926vly3/nKum9jZILZbV2e79YLtNPCDRrLd/PDAmNjEGilOALVAjoXmxCyLahWfWDle7eLITgAF3YmQRKn82sQgosMAO554KrKUJ3fENuu7EyCH9ATQWHsCKIhPjK1sUpziHOIToFCf0MMTmhmreI6UYAzl6SRBoeZLChGKWRbVivKUw7AvkA6FghAFvsRslImmS7KTh3mC80YZ56UspolhpJdHjkJnPQoFQYo7S5tEe3lkKQpdCj08opm0N0daMIb2NBKnAErhp0EhTzHLolrRnmpgdrA4ChVAQaLCRlJB1qVMalQkIZLfno0Z/YFtw1THcuhTAI0FKoCCQoW0sUmEl0OcAhTqFHp4QTMJb46EYAzhaSRRAZTCUYNCpGKWRbUiPNVA7WBxdCpAQyn0nbCl1JYdsx6jMjgKjWPKeBrNCIS7uK44h14F0FiwAjSUAt9lljaJ9XLIVoBCt0IPf2gm682RFYxhPY3EK4BSeGpQyFfMsqhWrKcauB0sjoIFUJCwGGIUyzgpiS8aKSEPi39c4qXMsHdtc8hXAI31K4CCgMXYxiYxXg75ClDoV+jhB81kvDkygjGMp5GIBVAKUA0KGYtZFtWK8VRDt4PFUbIAClIWifwonktZKI/0kHgkNhKU5wvLm8V4OQQsgMYKFkBBwkLY2CTAy6FeAQr5Cj2coJmAN0dAMAbwNNKwAEoxq0GhYjHLoloBnmo0d7A4QhZAQckCMU7sQL5Tiy9SIr99gcUlv2KRMEamfSwvh6YF0FjUAiioWkzsbBLo5RC2AIWyhR7O0EzQmyMoGAN6GslbAKUA1qAQuJhlUa1ATzW0O1gcjQugIHKBXBfbXL5bS7ikvSSmUt7CxyiYLne1uG44h8QF0FjjAiiIXIytbBLl5ZC4AIXGhR6e0EzKmyMlGEN5GgldAKWA1qCQuphlUa0oTzXUO1gctQugIHchSkrFlVHFIlKelhGaJuIJujTsI3k5lC6AxlIXQEHr4sbEJkFeDsULUEhe6OEIzYS8OUKCMZCnke4FUIpsDQrli1kW1QryVGO+g8URvwAK6heuGA0VK8QhlaAXyC9fcMxCswgvh+YF0Fj0AiioXkj7mkR3OTQvQCF6oYcHNJPu5kgHptAd1Ej4AirNAVgIX8yyqE50B1WXe7g4whdQQfjCIYmdJknFGvpUfjDPoRUribFNXGIbhXgwh+4F1Fj3AiroXkyMbBDlwRzCF7AQvtDDExpJefOkBGMoTyPhC6jmSwrhi1kW1YryVMO8w8URvoAKwhcuIkHFyt6pZYjIUHkJnS6NsLj+N4faBdRY7QIqqF1I85oEdzl0LmChc6GHAzQT7uYIB8bAnUY6F1ApijUsdC5mWVQruFON8A4XR+cCKuhcJKnn4UTGxBtGFStEA4F31HVNE66FOWQuoMYyF1BB5mJiYpMYL4fSBSyULvTwg2Yy3hwZwRjG00jpAipFr4aF0sUsi2rFeKqR3eHiKF1ABaWLhNoE85HAO8qiTL9WhsmTuheMmaVyAXOoXECNVS6ggsrFxMomYV4OkQtYiFzo4QrNxLw5YoIxmKeRyAVUCmANC5GLWRbVCvNUg7vDxRG5gAoiF30cYVdGTAlJQER+AvgcjIKK6BfEDTvOy6FzATXWuYAKOhcTM5vEeTmELmAhdKGHLzST8+bICcZwnkZCF1ApjjUshC5mWVQrzlON8Q4XR+gCKghduFQKXKTcp4zIUz3hLTEjOLLlN21T26wIeTCH2gXUWO0CKqhdCEObRHk51C5goXahhyc0k/LmSAnGUJ5GahdQKYg1LNQuZllUK8pTDfAOF0ftAiqoXQTE83nF6jNEooo1RIL5PErNkjKDOVQuoMYqF1BB5SKzr0l4l0PjAhYaF3q4QDPxbo54YAzeaaRxAZWiV8NC42KWRbXCO9XI7nBxNC6ggsYFkQURV34oL5Vfv7BpGBLOMc4iqKCBWZyXQ+YCaixzARVkLm4MbRLq5RC6gIXQhR7u0EzUmyMqGIN6GgldQKUY1rAQuphlUa1QTzW+O1wcoQuoIHRh08hjWIbJC7CHslAqGAnki/CVWaK1MIfUBdRY6gIqSF3cGNkkzMshdQELqQs9XKGZmDdHTDAG8zSSuoBKwaxhIXUxy6JaYZ5qoHe4OFIXUEHqgmVhVJBt41iqXPg4k7xIRfnMLMrLIXcBNZa7gApyF8ywOCo55C5gIXehhxc0k/DmSAimEF5DI7mLhtIcaBRyF7MsqhPhNVSX+8biyF006kWsvKnWy2NxPQGvUf//HCuvkUPsolGIXejhB41kvHkygjGMp5HYRUPNlxRiF7MsqhXjqcZ6byyO2EVDQewiIWEcjOSbs9ipWAnxIilba5jcRSOH3EVDY7mLhoLcxdjAJgFeDsGLRiF4oYcTfA7wFrcT54YHebvvNoVDLrf/D3lJePs=</script> <treescope-run-here><script type=\"application/octet-stream\"> const root = ( Array.from(document.getElementsByClassName( \"treescope_out_f2aa0b60eec44c33a811599d368fd7ea\")) .filter((elt) => !elt.dataset['step0']) )[0]; root.dataset['step0'] = 1; root.defns.insertContent( this.parentNode.querySelector('script[type=\"application/octet-stream\"]'), true ); this.parentNode.remove(); </script></treescope-run-here> </div>"
      ],
      "text/plain": [
       "<IPython.core.display.HTML object>"
      ]
     },
     "metadata": {},
     "output_type": "display_data"
    },
    {
     "data": {
      "text/html": [
       "<treescope-run-here><script type=\"application/octet-stream\"> const root = ( Array.from(document.getElementsByClassName( \"treescope_out_f2aa0b60eec44c33a811599d368fd7ea\")) .filter((elt) => !elt.dataset.stolen) )[0]; root.dataset.stolen = 1; this.parentNode.replaceChild(root, this); </script></treescope-run-here>"
      ],
      "text/plain": [
       "[[('student, close, wife, paper', 'student')],\n",
       " [('order, material, bill, start', 'order')],\n",
       " [('difference, problem, camera, in', 'difference')],\n",
       " [('show, talk, behind, section', 'show')],\n",
       " [('authority, king, share, personal', 'authority')],\n",
       " [('committee, candidate, university, give', 'committee')],\n",
       " [('truth, sell, bad, hard', 'truth')],\n",
       " [('statement, discussion, kind, war', 'statement')],\n",
       " [('tax, party, certainly, professor', 'tax')],\n",
       " [('exactly, department, push, officer', 'exactly')],\n",
       " [('minute, knowledge, get, price', 'minute')],\n",
       " [('everything, prepare, yet, purpose', 'everything')],\n",
       " [('case, force, small, project', 'case')],\n",
       " [('computer, case, road, opportunity', 'computer')],\n",
       " [('weapon, shoot, open, figure', 'weapon')],\n",
       " [('set, former, american, hold', 'set')],\n",
       " [('article, require, earth, impact', 'article')],\n",
       " [('affect, shit, respond, health', 'affect')],\n",
       " [('industry, i, serious, save', 'industry')],\n",
       " [('fine, memory, lot, term', 'fine')],\n",
       " [('discuss, whole, do, specific', 'discuss')],\n",
       " [('fail, try, raise, song', 'fail')],\n",
       " [('suggest, own, make, office', 'suggest')],\n",
       " [('society, morning, form, carry', 'society')],\n",
       " [('benefit, military, deal, state', 'benefit')],\n",
       " [('for, authority, experience, much', 'for')],\n",
       " [('light, brain, war, good', 'light')],\n",
       " [('identify, must, committee, speak', 'identify')],\n",
       " [('congress, legal, treat, next', 'congress')],\n",
       " [('rest, accept, theory, under', 'rest')],\n",
       " [('suggest, own, make, office', 'suggest')],\n",
       " [('simply, need, sign, long', 'simply')]]"
      ]
     },
     "execution_count": 247,
     "metadata": {},
     "output_type": "execute_result"
    }
   ],
   "source": [
    "runner.eval_pairs"
   ]
  },
  {
   "cell_type": "code",
   "execution_count": 236,
   "metadata": {},
   "outputs": [
    {
     "name": "stdout",
     "output_type": "stream",
     "text": [
      "better ' better,\\n\\n'\n",
      "book '  ,\\n\\n'\n",
      "cut '  ,\\n\\n'\n",
      "defense '  ,\\n\\n'\n",
      "sign '  ,\\n\\n'\n",
      "official '  ,\\n\\n'\n",
      "artist ' artist,\\n\\n'\n",
      "think ' think,\\n\\n'\n",
      "south ' south,\\n\\n'\n",
      "truth '  ,\\n\\n'\n",
      "shit '  ,\\n\\n'\n",
      "free ' economic,\\n\\n'\n",
      "author '  ,\\n\\n'\n",
      "see '  ,\\n\\n'\n",
      "walk ' walk,\\n\\n'\n",
      "job '  ,\\n\\n'\n"
     ]
    }
   ],
   "source": [
    "for i, (ap, l) in enumerate(zip(arrow_pos_single, logits)):\n",
    "    l = l.argmax(-1)\n",
    "    tgt = runner.eval_pairs[i][-1][1]\n",
    "    print(tgt, repr(tokenizer.decode(l[ap:ap+3])))"
   ]
  },
  {
   "cell_type": "code",
   "execution_count": 21,
   "metadata": {},
   "outputs": [
    {
     "data": {
      "text/html": [
       "<script> (()=>{ if (customElements.get('treescope-container') === undefined) { class TreescopeContainer extends HTMLElement { constructor() { super(); this.attachShadow({mode: \"open\"}); this.defns = {}; this.state = {}; } } customElements.define(\"treescope-container\", TreescopeContainer); } if (customElements.get('treescope-run-here') === undefined) { class RunHere extends HTMLElement { constructor() { super() } connectedCallback() { const run = child => { const fn = new Function(child.textContent); child.textContent = \"\"; fn.call(this); this.remove(); }; const child = this.querySelector(\"script\"); if (child) { run(child); } else { new MutationObserver(()=>{ run(this.querySelector(\"script\")); }).observe(this, {childList: true}); } } } customElements.define(\"treescope-run-here\", RunHere); } })(); </script> <treescope-container class=\"treescope_out_73a308a6de9649eeabca119780188fd0\" ></treescope-container> <treescope-run-here><script type=\"application/octet-stream\"> const root = ( Array.from(document.getElementsByClassName( \"treescope_out_73a308a6de9649eeabca119780188fd0\")) .filter((elt) => !elt.dataset.setup) )[0]; root.dataset.setup = 1; const msg = document.createElement(\"span\"); msg.style = \"color: #aaaaaa; font-family: monospace; transition: opacity 0.2s; opacity: 0.0;\"; msg.textContent = \"(Loading...)\"; root.state.loadingMsg = msg; root.shadowRoot.appendChild(msg); root.state.chain = new Promise((resolve, reject) => { const observer = new IntersectionObserver((entries) => { for (const entry of entries) { if (entry.isIntersecting) { resolve(); observer.disconnect(); return; } } }, {rootMargin: \"1000px\"}); window.setTimeout(() => { if (root.loadingMsg) { root.loadingMsg.style.opacity = \"1.0\"; } observer.observe(root); }, 0); }); root.state.deferring = false; const _insertNode = (node) => { for (let oldScript of node.querySelectorAll(\"script\")) { let newScript = document.createElement(\"script\"); newScript.type = oldScript.type; newScript.textContent = oldScript.textContent; oldScript.parentNode.replaceChild(newScript, oldScript); } if (root.state.loadingMsg) { root.state.loadingMsg.remove(); root.state.loadingMsg = null; } root.shadowRoot.appendChild(node); }; root.defns.insertContent = ((contentNode, compressed) => { if (compressed) { root.state.deferring = true; } if (root.state.deferring) { root.state.chain = (async () => { await root.state.chain; if (compressed) { const encoded = contentNode.textContent; const blob = new Blob([ Uint8Array.from(atob(encoded), (m) => m.codePointAt(0)) ]); const reader = blob.stream().pipeThrough( new DecompressionStream(\"deflate\") ).pipeThrough( new TextDecoderStream(\"utf-8\") ).getReader(); const parts = []; while (true) { const step = await reader.read(); if (step.done) { break; } parts.push(step.value); } const tpl = document.createElement('template'); tpl.innerHTML = parts.join(\"\"); _insertNode(tpl.content); } else { _insertNode(contentNode.content); } })(); } else { _insertNode(contentNode.content); } }); </script></treescope-run-here><div style=\"display:none\"> <script type=\"application/octet-stream\" >eNrFVt9vo0YQ/ldWVLpAdRDHOTsnbCPlpepD1Yf2oQ9tZS0wwNbrXbo7JPFV+d87u2A7tnFUqafWPBhmZ+b75icsLe4kZAkaAFvoFtZGa2R/sVZbgUKrlBmQHMUTLFilFcYV3wq5S9lWK21bXpD8uREIsX9IWWtIIoXF2LuOcdeSVGlF4pwXm9roTpVxoaU2aW+6YMNTLkmB/IkSm5RVAklNIShcsJaXpVB1LKHClE2LxoEoiBsQdUOSu2Tm3CjkgjgfzIab+ElYkQspkJjzDvVBNxYKjVBWFLEVX6A/Hei+Lm/79CwP6YlNpwjTkMwWRrTIXHyrG962UhTcZexWFwguegN8e5OFYbTKKKGEZ5GVUCnLVgwbYZMa8CfK9o+6hDBKGm0x8ecUGiBbt6BcyI+F8+qMfv197OR7rkoJdKw6KRc9QkI0f9ZakTR81mYTsbcc9C8kckcnYhSFE7ZgKm22XBWQKP0cRr6+BBBenLC4N1qy+2lEfkTFwjPWiQRVY8NWKzZxKu9SN4CdUZR3BtLCkVjTKcfs3LVtRIWOn1dwN690XUEIqatUqZ8TA392YPFRia0v13eGbyHscxI5H4sLoLazTZ/GxUiMe4hVH8Y7Uf5zDo5FX0jUdS37qVz7yaFubZ0vJwGJHxk8UYMPlXTs/HOygZ1LemACR2hQTgrJrf2BhnPwGwYHn+sttWGwB3+NKJ/U/r7Hs+Xt2ACU4ol5h6vgdH0EDHlOkcLLKpgETCsiQ2Er0nuv7cdjDZ3NPsqAxq5fWGQBxkC5bmlnQKNlCcZ3jF8k3/AHdw0ry5ukTCCnGaXYkorUeU5QijhcWXav7FRt3bMj7VJYAt3tl9q5IsuY5DnINM2B5gXesCr8bzGK1y+2+M5ttmEBThZHLKH8usuldhvyKmajn8BcIpfcbCzwmsqkLq1TpTE8EzXchpn3mY3mwdukRQPFBsooYt9GRw7OdNxor3/C0G/olN38Np3lxc3/Se/U6CrJ+X9A0tXRAXfGugK2mt5TYEZwhf16sH4UPFDs581e6/Gvg3oMD+EFL1ESYdeVMBbXWq1d+4+M1nujlExnbppGS8X+Nf2+4ucUXVRbbmr6suhp+IE+fknQV5JiolwFhwU2LWZQ5lAU/H7yqczn/OHhMzyU8/LT5+lkNq+CwWhYtadzfw5Pyn0QS6Habvg6CTztXL8Eo06GCOmwj47WvTem/8HXW/yxxRtkHyQu/uAvyaMxfEfLCu+n4d38Y8SSJGEfanTvEnKSnf/ROyT7Gzxutyc=</script> <treescope-run-here><script type=\"application/octet-stream\"> const root = ( Array.from(document.getElementsByClassName( \"treescope_out_73a308a6de9649eeabca119780188fd0\")) .filter((elt) => !elt.dataset['step0']) )[0]; root.dataset['step0'] = 1; root.defns.insertContent( this.parentNode.querySelector('script[type=\"application/octet-stream\"]'), true ); this.parentNode.remove(); </script></treescope-run-here> </div>"
      ],
      "text/plain": [
       "<IPython.core.display.HTML object>"
      ]
     },
     "metadata": {},
     "output_type": "display_data"
    },
    {
     "data": {
      "text/html": [
       "<div style=\"display:none\"> <script type=\"application/octet-stream\" >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</script> <treescope-run-here><script type=\"application/octet-stream\"> const root = ( Array.from(document.getElementsByClassName( \"treescope_out_73a308a6de9649eeabca119780188fd0\")) .filter((elt) => !elt.dataset['step1']) )[0]; root.dataset['step1'] = 1; root.defns.insertContent( this.parentNode.querySelector('script[type=\"application/octet-stream\"]'), true ); this.parentNode.remove(); </script></treescope-run-here> </div>"
      ],
      "text/plain": [
       "<IPython.core.display.HTML object>"
      ]
     },
     "metadata": {},
     "output_type": "display_data"
    },
    {
     "data": {
      "text/html": [
       "<treescope-run-here><script type=\"application/octet-stream\"> const root = ( Array.from(document.getElementsByClassName( \"treescope_out_73a308a6de9649eeabca119780188fd0\")) .filter((elt) => !elt.dataset.stolen) )[0]; root.dataset.stolen = 1; this.parentNode.replaceChild(root, this); </script></treescope-run-here>"
      ],
      "text/plain": [
       "<jax.Array([31, 38, 35, 31, 35, 30, 38, 31, 30, 38, 35, 33, 31, 38, 27, 35],      dtype=int32)>"
      ]
     },
     "execution_count": 21,
     "metadata": {},
     "output_type": "execute_result"
    }
   ],
   "source": [
    "arrow_pos = jnp.nonzero(tokens == sep)[1]\n",
    "arrow_pos"
   ]
  },
  {
   "cell_type": "code",
   "execution_count": 69,
   "metadata": {},
   "outputs": [
    {
     "data": {
      "text/html": [
       "<script> (()=>{ if (customElements.get('treescope-container') === undefined) { class TreescopeContainer extends HTMLElement { constructor() { super(); this.attachShadow({mode: \"open\"}); this.defns = {}; this.state = {}; } } customElements.define(\"treescope-container\", TreescopeContainer); } if (customElements.get('treescope-run-here') === undefined) { class RunHere extends HTMLElement { constructor() { super() } connectedCallback() { const run = child => { const fn = new Function(child.textContent); child.textContent = \"\"; fn.call(this); this.remove(); }; const child = this.querySelector(\"script\"); if (child) { run(child); } else { new MutationObserver(()=>{ run(this.querySelector(\"script\")); }).observe(this, {childList: true}); } } } customElements.define(\"treescope-run-here\", RunHere); } })(); </script> <treescope-container class=\"treescope_out_921f5ca1012546c780135e40f4a7ade6\" ></treescope-container> <treescope-run-here><script type=\"application/octet-stream\"> const root = ( Array.from(document.getElementsByClassName( \"treescope_out_921f5ca1012546c780135e40f4a7ade6\")) .filter((elt) => !elt.dataset.setup) )[0]; root.dataset.setup = 1; const msg = document.createElement(\"span\"); msg.style = \"color: #aaaaaa; font-family: monospace; transition: opacity 0.2s; opacity: 0.0;\"; msg.textContent = \"(Loading...)\"; root.state.loadingMsg = msg; root.shadowRoot.appendChild(msg); root.state.chain = new Promise((resolve, reject) => { const observer = new IntersectionObserver((entries) => { for (const entry of entries) { if (entry.isIntersecting) { resolve(); observer.disconnect(); return; } } }, {rootMargin: \"1000px\"}); window.setTimeout(() => { if (root.loadingMsg) { root.loadingMsg.style.opacity = \"1.0\"; } observer.observe(root); }, 0); }); root.state.deferring = false; const _insertNode = (node) => { for (let oldScript of node.querySelectorAll(\"script\")) { let newScript = document.createElement(\"script\"); newScript.type = oldScript.type; newScript.textContent = oldScript.textContent; oldScript.parentNode.replaceChild(newScript, oldScript); } if (root.state.loadingMsg) { root.state.loadingMsg.remove(); root.state.loadingMsg = null; } root.shadowRoot.appendChild(node); }; root.defns.insertContent = ((contentNode, compressed) => { if (compressed) { root.state.deferring = true; } if (root.state.deferring) { root.state.chain = (async () => { await root.state.chain; if (compressed) { const encoded = contentNode.textContent; const blob = new Blob([ Uint8Array.from(atob(encoded), (m) => m.codePointAt(0)) ]); const reader = blob.stream().pipeThrough( new DecompressionStream(\"deflate\") ).pipeThrough( new TextDecoderStream(\"utf-8\") ).getReader(); const parts = []; while (true) { const step = await reader.read(); if (step.done) { break; } parts.push(step.value); } const tpl = document.createElement('template'); tpl.innerHTML = parts.join(\"\"); _insertNode(tpl.content); } else { _insertNode(contentNode.content); } })(); } else { _insertNode(contentNode.content); } }); </script></treescope-run-here><div style=\"display:none\"> <script type=\"application/octet-stream\" >eNrFVktv4zYQ/iuECmykYqV4vZtsLD+AXIoeih7aQw9tYVDUSGJNkyo5duIt8t87pGQ7tuWgQBetdbA0nJnvm6c0c7hTsMjQAjhhWlhaY5D9xVrjJEqjc2ZBcZRbmLLKaEwrvpZql7O10ca1XJD8qZEIaXjIWWtJoqTDNLhOcdeSVBtN4oKLVW3NRpepMMrYvDOdsv6pUKRA/mSJTc4qiaSmETROWcvLUuo6VVBhzsai8SAa0gZk3ZDkQ3bn3WjkkjgfzPqbdCudLKSSSMz5Bs1BN5UardROitTJL9Cd9nRfZrddemaH9KR2ownTkswJK1tkPr75DW9bJQX3Gbs1AsFHb4GvbxZxnMwXlFDCc8hKqLRjc4aNdFkN+BNl+0dTQpxkjXGYhXMKDZAtW9A+5EfhvXqjX38fOvme61IBHeuNUtMOISOaPxujSRo/GbtK2GsO5hcS+aMTMUrhhS3Yytg11wIybZ7iJNSXAOKLE5Z2RjP2cZyQH1mx+Ix1pkDX2LD5nI28ypvULeDGaso7A+XgSKzZaM/s3LVrZIWeX1DwNy90XUGIqat0aZ4yC39uwOGjlutQru8sX0Pc5STxPqYXQO3GNV0apwMx7iHmXRhvRPnPOXgWXSHR1LXqpnIZJoe6tfW+vAQUvmewpQbvK+nZhedsBTuf9MhGnlCvnAnFnfuBhrP3G0cHn8s1tWG0B39JKJ/U/qHHF7PboQEo5ZYFh/PodH1EDHlBkcLzPBpFzGgiQ2Fr0nur7Ydjjb3NPsqIxq5bWGQB1kK5bGlnQGNUCTZ0TFgk3/DP/upXVjDJmUROM0qxZRWp84KgNHG4suxe2KnasmNH2qV0BLrbL7VzRbZgiheg8rwAmhd4xUqE33QQr1ts6Qe/2foFOJoesaQO665Qxm/Iq5iN2YK9RC65XTngNZVJX1rn2mB8Jmq4ixfB52IwD8EmFw2IFZRJwr5Njhy86bDRXv+EYdjQObv5bXxXiJv/k96p0VWS9/8BSV9HD7yxzhewNfSeAjuAK93Xgw2jEIDSMG/uWo9/HdRjeAjPeImSSbespHW4NHrp239gtN4apWx856dpsFTsX9PvKn5O0Ue15ramL4uORhjo45cEfSVpJst5dFhgvKrGxSfxMBqJ+0/3k9FkUogJPDzApPhMvSai3qhftadzfw5Pyl0QM6nbTf91EgXahXmOBp30EdJhFx2t+2BM/72v1/hDizdavFM4/YM/Z4/W8h0tK/w4jsd39+8TlmUZe1ejf5mQl8X5H71EFn8DoRu3EQ==</script> <treescope-run-here><script type=\"application/octet-stream\"> const root = ( Array.from(document.getElementsByClassName( \"treescope_out_921f5ca1012546c780135e40f4a7ade6\")) .filter((elt) => !elt.dataset['step0']) )[0]; root.dataset['step0'] = 1; root.defns.insertContent( this.parentNode.querySelector('script[type=\"application/octet-stream\"]'), true ); this.parentNode.remove(); </script></treescope-run-here> </div>"
      ],
      "text/plain": [
       "<IPython.core.display.HTML object>"
      ]
     },
     "metadata": {},
     "output_type": "display_data"
    },
    {
     "data": {
      "text/html": [
       "<div style=\"display:none\"> <script type=\"application/octet-stream\" >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</script> <treescope-run-here><script type=\"application/octet-stream\"> const root = ( Array.from(document.getElementsByClassName( \"treescope_out_921f5ca1012546c780135e40f4a7ade6\")) .filter((elt) => !elt.dataset['step1']) )[0]; root.dataset['step1'] = 1; root.defns.insertContent( this.parentNode.querySelector('script[type=\"application/octet-stream\"]'), true ); this.parentNode.remove(); </script></treescope-run-here> </div>"
      ],
      "text/plain": [
       "<IPython.core.display.HTML object>"
      ]
     },
     "metadata": {},
     "output_type": "display_data"
    },
    {
     "data": {
      "text/html": [
       "<treescope-run-here><script type=\"application/octet-stream\"> const root = ( Array.from(document.getElementsByClassName( \"treescope_out_921f5ca1012546c780135e40f4a7ade6\")) .filter((elt) => !elt.dataset.stolen) )[0]; root.dataset.stolen = 1; this.parentNode.replaceChild(root, this); </script></treescope-run-here>"
      ],
      "text/plain": [
       "<jax.Array int32(256,) [≥1, ≤235_324] nonzero:256>"
      ]
     },
     "execution_count": 69,
     "metadata": {},
     "output_type": "execute_result"
    }
   ],
   "source": [
    "logits.argmax(-1)[0]"
   ]
  },
  {
   "cell_type": "code",
   "execution_count": 166,
   "metadata": {},
   "outputs": [
    {
     "name": "stdout",
     "output_type": "stream",
     "text": [
      "Follow the pattern:\n",
      "car, war, have, death -> war\n",
      "serious, go, understand, tree -> go\n",
      "car, important, never, data -> important\n",
      "president, face, word, color -> face\n",
      "product, hold, lady, worker -> hold\n",
      "sister, blood, too, bill -> blood\n",
      "central, little, per, high -> little\n",
      "energy, region, prawda, environment -> region\n",
      "pick, value, brain, state -> value\n",
      "floor, patient, attack, ask -> patient\n"
     ]
    }
   ],
   "source": [
    "prompts = [runner.get_prompt(p) for p in runner.train_pairs]\n",
    "print(prompts[0])"
   ]
  },
  {
   "cell_type": "code",
   "execution_count": 253,
   "metadata": {},
   "outputs": [
    {
     "data": {
      "text/html": [
       "<script> (()=>{ if (customElements.get('treescope-container') === undefined) { class TreescopeContainer extends HTMLElement { constructor() { super(); this.attachShadow({mode: \"open\"}); this.defns = {}; this.state = {}; } } customElements.define(\"treescope-container\", TreescopeContainer); } if (customElements.get('treescope-run-here') === undefined) { class RunHere extends HTMLElement { constructor() { super() } connectedCallback() { const run = child => { const fn = new Function(child.textContent); child.textContent = \"\"; fn.call(this); this.remove(); }; const child = this.querySelector(\"script\"); if (child) { run(child); } else { new MutationObserver(()=>{ run(this.querySelector(\"script\")); }).observe(this, {childList: true}); } } } customElements.define(\"treescope-run-here\", RunHere); } })(); </script> <treescope-container class=\"treescope_out_3df93291ab2e4018bd1ca4b5851b6fd6\" ></treescope-container> <treescope-run-here><script type=\"application/octet-stream\"> const root = ( Array.from(document.getElementsByClassName( \"treescope_out_3df93291ab2e4018bd1ca4b5851b6fd6\")) .filter((elt) => !elt.dataset.setup) )[0]; root.dataset.setup = 1; const msg = document.createElement(\"span\"); msg.style = \"color: #aaaaaa; font-family: monospace; transition: opacity 0.2s; opacity: 0.0;\"; msg.textContent = \"(Loading...)\"; root.state.loadingMsg = msg; root.shadowRoot.appendChild(msg); root.state.chain = new Promise((resolve, reject) => { const observer = new IntersectionObserver((entries) => { for (const entry of entries) { if (entry.isIntersecting) { resolve(); observer.disconnect(); return; } } }, {rootMargin: \"1000px\"}); window.setTimeout(() => { if (root.loadingMsg) { root.loadingMsg.style.opacity = \"1.0\"; } observer.observe(root); }, 0); }); root.state.deferring = false; const _insertNode = (node) => { for (let oldScript of node.querySelectorAll(\"script\")) { let newScript = document.createElement(\"script\"); newScript.type = oldScript.type; newScript.textContent = oldScript.textContent; oldScript.parentNode.replaceChild(newScript, oldScript); } if (root.state.loadingMsg) { root.state.loadingMsg.remove(); root.state.loadingMsg = null; } root.shadowRoot.appendChild(node); }; root.defns.insertContent = ((contentNode, compressed) => { if (compressed) { root.state.deferring = true; } if (root.state.deferring) { root.state.chain = (async () => { await root.state.chain; if (compressed) { const encoded = contentNode.textContent; const blob = new Blob([ Uint8Array.from(atob(encoded), (m) => m.codePointAt(0)) ]); const reader = blob.stream().pipeThrough( new DecompressionStream(\"deflate\") ).pipeThrough( new TextDecoderStream(\"utf-8\") ).getReader(); const parts = []; while (true) { const step = await reader.read(); if (step.done) { break; } parts.push(step.value); } const tpl = document.createElement('template'); tpl.innerHTML = parts.join(\"\"); _insertNode(tpl.content); } else { _insertNode(contentNode.content); } })(); } else { _insertNode(contentNode.content); } }); </script></treescope-run-here><div style=\"display:none\"> <script type=\"application/octet-stream\" >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</script> <treescope-run-here><script type=\"application/octet-stream\"> const root = ( Array.from(document.getElementsByClassName( \"treescope_out_3df93291ab2e4018bd1ca4b5851b6fd6\")) .filter((elt) => !elt.dataset['step0']) )[0]; root.dataset['step0'] = 1; root.defns.insertContent( this.parentNode.querySelector('script[type=\"application/octet-stream\"]'), true ); this.parentNode.remove(); </script></treescope-run-here> </div>"
      ],
      "text/plain": [
       "<IPython.core.display.HTML object>"
      ]
     },
     "metadata": {},
     "output_type": "display_data"
    },
    {
     "data": {
      "text/html": [
       "<treescope-run-here><script type=\"application/octet-stream\"> const root = ( Array.from(document.getElementsByClassName( \"treescope_out_3df93291ab2e4018bd1ca4b5851b6fd6\")) .filter((elt) => !elt.dataset.stolen) )[0]; root.dataset.stolen = 1; this.parentNode.replaceChild(root, this); </script></treescope-run-here>"
      ],
      "text/plain": [
       "[[('student, close, wife, paper', 'student')],\n",
       " [('order, material, bill, start', 'order')],\n",
       " [('difference, problem, camera, in', 'difference')],\n",
       " [('show, talk, behind, section', 'show')],\n",
       " [('authority, king, share, personal', 'authority')],\n",
       " [('committee, candidate, university, give', 'committee')],\n",
       " [('truth, sell, bad, hard', 'truth')],\n",
       " [('statement, discussion, kind, war', 'statement')],\n",
       " [('tax, party, certainly, professor', 'tax')],\n",
       " [('exactly, department, push, officer', 'exactly')],\n",
       " [('minute, knowledge, get, price', 'minute')],\n",
       " [('everything, prepare, yet, purpose', 'everything')],\n",
       " [('case, force, small, project', 'case')],\n",
       " [('computer, case, road, opportunity', 'computer')],\n",
       " [('weapon, shoot, open, figure', 'weapon')],\n",
       " [('set, former, american, hold', 'set')],\n",
       " [('article, require, earth, impact', 'article')],\n",
       " [('affect, shit, respond, health', 'affect')],\n",
       " [('industry, i, serious, save', 'industry')],\n",
       " [('fine, memory, lot, term', 'fine')],\n",
       " [('discuss, whole, do, specific', 'discuss')],\n",
       " [('fail, try, raise, song', 'fail')],\n",
       " [('suggest, own, make, office', 'suggest')],\n",
       " [('society, morning, form, carry', 'society')],\n",
       " [('benefit, military, deal, state', 'benefit')],\n",
       " [('for, authority, experience, much', 'for')],\n",
       " [('light, brain, war, good', 'light')],\n",
       " [('identify, must, committee, speak', 'identify')],\n",
       " [('congress, legal, treat, next', 'congress')],\n",
       " [('rest, accept, theory, under', 'rest')],\n",
       " [('suggest, own, make, office', 'suggest')],\n",
       " [('simply, need, sign, long', 'simply')]]"
      ]
     },
     "execution_count": 253,
     "metadata": {},
     "output_type": "execute_result"
    }
   ],
   "source": [
    "runner.eval_pairs"
   ]
  },
  {
   "cell_type": "code",
   "execution_count": 256,
   "metadata": {},
   "outputs": [
    {
     "data": {
      "text/html": [
       "<script> (()=>{ if (customElements.get('treescope-container') === undefined) { class TreescopeContainer extends HTMLElement { constructor() { super(); this.attachShadow({mode: \"open\"}); this.defns = {}; this.state = {}; } } customElements.define(\"treescope-container\", TreescopeContainer); } if (customElements.get('treescope-run-here') === undefined) { class RunHere extends HTMLElement { constructor() { super() } connectedCallback() { const run = child => { const fn = new Function(child.textContent); child.textContent = \"\"; fn.call(this); this.remove(); }; const child = this.querySelector(\"script\"); if (child) { run(child); } else { new MutationObserver(()=>{ run(this.querySelector(\"script\")); }).observe(this, {childList: true}); } } } customElements.define(\"treescope-run-here\", RunHere); } })(); </script> <treescope-container class=\"treescope_out_03dca2dd2e8f4ed7bfc1987749ab4470\" ></treescope-container> <treescope-run-here><script type=\"application/octet-stream\"> const root = ( Array.from(document.getElementsByClassName( \"treescope_out_03dca2dd2e8f4ed7bfc1987749ab4470\")) .filter((elt) => !elt.dataset.setup) )[0]; root.dataset.setup = 1; const msg = document.createElement(\"span\"); msg.style = \"color: #aaaaaa; font-family: monospace; transition: opacity 0.2s; opacity: 0.0;\"; msg.textContent = \"(Loading...)\"; root.state.loadingMsg = msg; root.shadowRoot.appendChild(msg); root.state.chain = new Promise((resolve, reject) => { const observer = new IntersectionObserver((entries) => { for (const entry of entries) { if (entry.isIntersecting) { resolve(); observer.disconnect(); return; } } }, {rootMargin: \"1000px\"}); window.setTimeout(() => { if (root.loadingMsg) { root.loadingMsg.style.opacity = \"1.0\"; } observer.observe(root); }, 0); }); root.state.deferring = false; const _insertNode = (node) => { for (let oldScript of node.querySelectorAll(\"script\")) { let newScript = document.createElement(\"script\"); newScript.type = oldScript.type; newScript.textContent = oldScript.textContent; oldScript.parentNode.replaceChild(newScript, oldScript); } if (root.state.loadingMsg) { root.state.loadingMsg.remove(); root.state.loadingMsg = null; } root.shadowRoot.appendChild(node); }; root.defns.insertContent = ((contentNode, compressed) => { if (compressed) { root.state.deferring = true; } if (root.state.deferring) { root.state.chain = (async () => { await root.state.chain; if (compressed) { const encoded = contentNode.textContent; const blob = new Blob([ Uint8Array.from(atob(encoded), (m) => m.codePointAt(0)) ]); const reader = blob.stream().pipeThrough( new DecompressionStream(\"deflate\") ).pipeThrough( new TextDecoderStream(\"utf-8\") ).getReader(); const parts = []; while (true) { const step = await reader.read(); if (step.done) { break; } parts.push(step.value); } const tpl = document.createElement('template'); tpl.innerHTML = parts.join(\"\"); _insertNode(tpl.content); } else { _insertNode(contentNode.content); } })(); } else { _insertNode(contentNode.content); } }); </script></treescope-run-here><div style=\"display:none\"> <script type=\"application/octet-stream\" >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</script> <treescope-run-here><script type=\"application/octet-stream\"> const root = ( Array.from(document.getElementsByClassName( \"treescope_out_03dca2dd2e8f4ed7bfc1987749ab4470\")) .filter((elt) => !elt.dataset['step0']) )[0]; root.dataset['step0'] = 1; root.defns.insertContent( this.parentNode.querySelector('script[type=\"application/octet-stream\"]'), true ); this.parentNode.remove(); </script></treescope-run-here> </div>"
      ],
      "text/plain": [
       "<IPython.core.display.HTML object>"
      ]
     },
     "metadata": {},
     "output_type": "display_data"
    },
    {
     "data": {
      "text/html": [
       "<treescope-run-here><script type=\"application/octet-stream\"> const root = ( Array.from(document.getElementsByClassName( \"treescope_out_03dca2dd2e8f4ed7bfc1987749ab4470\")) .filter((elt) => !elt.dataset.stolen) )[0]; root.dataset.stolen = 1; this.parentNode.replaceChild(root, this); </script></treescope-run-here>"
      ],
      "text/plain": [
       "([<matplotlib.axis.XTick at 0x7f607138f790>,\n",
       "  <matplotlib.axis.XTick at 0x7f607138c670>,\n",
       "  <matplotlib.axis.XTick at 0x7f607138d270>,\n",
       "  <matplotlib.axis.XTick at 0x7f607077c2e0>,\n",
       "  <matplotlib.axis.XTick at 0x7f607077ca60>,\n",
       "  <matplotlib.axis.XTick at 0x7f60704fc6a0>,\n",
       "  <matplotlib.axis.XTick at 0x7f60a81b8250>,\n",
       "  <matplotlib.axis.XTick at 0x7f607077d450>,\n",
       "  <matplotlib.axis.XTick at 0x7f605158b2b0>,\n",
       "  <matplotlib.axis.XTick at 0x7f6051589c90>,\n",
       "  <matplotlib.axis.XTick at 0x7f60515891e0>,\n",
       "  <matplotlib.axis.XTick at 0x7f605158afe0>,\n",
       "  <matplotlib.axis.XTick at 0x7f605158b7c0>,\n",
       "  <matplotlib.axis.XTick at 0x7f6051588af0>,\n",
       "  <matplotlib.axis.XTick at 0x7f64d81340a0>,\n",
       "  <matplotlib.axis.XTick at 0x7f605158be20>,\n",
       "  <matplotlib.axis.XTick at 0x7f6071720b20>,\n",
       "  <matplotlib.axis.XTick at 0x7f607169e620>,\n",
       "  <matplotlib.axis.XTick at 0x7f605158a680>],\n",
       " [Text(0, 0, '2'),\n",
       "  Text(1, 0, '3'),\n",
       "  Text(2, 0, '4'),\n",
       "  Text(3, 0, '5'),\n",
       "  Text(4, 0, '6'),\n",
       "  Text(5, 0, '7'),\n",
       "  Text(6, 0, '8'),\n",
       "  Text(7, 0, '9'),\n",
       "  Text(8, 0, '10'),\n",
       "  Text(9, 0, '11'),\n",
       "  Text(10, 0, '12'),\n",
       "  Text(11, 0, '13'),\n",
       "  Text(12, 0, '14'),\n",
       "  Text(13, 0, '15'),\n",
       "  Text(14, 0, '16'),\n",
       "  Text(15, 0, '17'),\n",
       "  Text(16, 0, '18'),\n",
       "  Text(17, 0, '19'),\n",
       "  Text(18, 0, '20')])"
      ]
     },
     "execution_count": 256,
     "metadata": {},
     "output_type": "execute_result"
    },
    {
     "data": {
      "image/png": "[encoded data removed]",
      "text/plain": [
       "<Figure size 640x480 with 1 Axes>"
      ]
     },
     "metadata": {},
     "output_type": "display_data"
    }
   ],
   "source": [
    "from matplotlib import pyplot as plt\n",
    "\n",
    "plt.plot([x[2] for x in n_shot_losses])\n",
    "plt.xticks(range(19), range(2, 21))\n",
    "# plt.plot([x[1] for x in n_shot_losses])"
   ]
  },
  {
   "cell_type": "code",
   "execution_count": 202,
   "metadata": {},
   "outputs": [
    {
     "data": {
      "text/html": [
       "<script> (()=>{ if (customElements.get('treescope-container') === undefined) { class TreescopeContainer extends HTMLElement { constructor() { super(); this.attachShadow({mode: \"open\"}); this.defns = {}; this.state = {}; } } customElements.define(\"treescope-container\", TreescopeContainer); } if (customElements.get('treescope-run-here') === undefined) { class RunHere extends HTMLElement { constructor() { super() } connectedCallback() { const run = child => { const fn = new Function(child.textContent); child.textContent = \"\"; fn.call(this); this.remove(); }; const child = this.querySelector(\"script\"); if (child) { run(child); } else { new MutationObserver(()=>{ run(this.querySelector(\"script\")); }).observe(this, {childList: true}); } } } customElements.define(\"treescope-run-here\", RunHere); } })(); </script> <treescope-container class=\"treescope_out_7d6b13e31c284d748331c99a1b2bb83d\" ></treescope-container> <treescope-run-here><script type=\"application/octet-stream\"> const root = ( Array.from(document.getElementsByClassName( \"treescope_out_7d6b13e31c284d748331c99a1b2bb83d\")) .filter((elt) => !elt.dataset.setup) )[0]; root.dataset.setup = 1; const msg = document.createElement(\"span\"); msg.style = \"color: #aaaaaa; font-family: monospace; transition: opacity 0.2s; opacity: 0.0;\"; msg.textContent = \"(Loading...)\"; root.state.loadingMsg = msg; root.shadowRoot.appendChild(msg); root.state.chain = new Promise((resolve, reject) => { const observer = new IntersectionObserver((entries) => { for (const entry of entries) { if (entry.isIntersecting) { resolve(); observer.disconnect(); return; } } }, {rootMargin: \"1000px\"}); window.setTimeout(() => { if (root.loadingMsg) { root.loadingMsg.style.opacity = \"1.0\"; } observer.observe(root); }, 0); }); root.state.deferring = false; const _insertNode = (node) => { for (let oldScript of node.querySelectorAll(\"script\")) { let newScript = document.createElement(\"script\"); newScript.type = oldScript.type; newScript.textContent = oldScript.textContent; oldScript.parentNode.replaceChild(newScript, oldScript); } if (root.state.loadingMsg) { root.state.loadingMsg.remove(); root.state.loadingMsg = null; } root.shadowRoot.appendChild(node); }; root.defns.insertContent = ((contentNode, compressed) => { if (compressed) { root.state.deferring = true; } if (root.state.deferring) { root.state.chain = (async () => { await root.state.chain; if (compressed) { const encoded = contentNode.textContent; const blob = new Blob([ Uint8Array.from(atob(encoded), (m) => m.codePointAt(0)) ]); const reader = blob.stream().pipeThrough( new DecompressionStream(\"deflate\") ).pipeThrough( new TextDecoderStream(\"utf-8\") ).getReader(); const parts = []; while (true) { const step = await reader.read(); if (step.done) { break; } parts.push(step.value); } const tpl = document.createElement('template'); tpl.innerHTML = parts.join(\"\"); _insertNode(tpl.content); } else { _insertNode(contentNode.content); } })(); } else { _insertNode(contentNode.content); } }); </script></treescope-run-here><div style=\"display:none\"> <script type=\"application/octet-stream\" >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</script> <treescope-run-here><script type=\"application/octet-stream\"> const root = ( Array.from(document.getElementsByClassName( \"treescope_out_7d6b13e31c284d748331c99a1b2bb83d\")) .filter((elt) => !elt.dataset['step0']) )[0]; root.dataset['step0'] = 1; root.defns.insertContent( this.parentNode.querySelector('script[type=\"application/octet-stream\"]'), true ); this.parentNode.remove(); </script></treescope-run-here> </div>"
      ],
      "text/plain": [
       "<IPython.core.display.HTML object>"
      ]
     },
     "metadata": {},
     "output_type": "display_data"
    },
    {
     "data": {
      "text/html": [
       "<treescope-run-here><script type=\"application/octet-stream\"> const root = ( Array.from(document.getElementsByClassName( \"treescope_out_7d6b13e31c284d748331c99a1b2bb83d\")) .filter((elt) => !elt.dataset.stolen) )[0]; root.dataset.stolen = 1; this.parentNode.replaceChild(root, this); </script></treescope-run-here>"
      ],
      "text/plain": [
       "[(2, 0.0625),\n",
       " (3, 0.0),\n",
       " (4, 0.25),\n",
       " (5, 0.25),\n",
       " (6, 0.1875),\n",
       " (7, 0.25),\n",
       " (8, 0.25),\n",
       " (9, 0.5),\n",
       " (10, 0.125),\n",
       " (11, 0.375),\n",
       " (12, 0.3125),\n",
       " (13, 0.3125),\n",
       " (14, 0.625),\n",
       " (15, 0.6875),\n",
       " (16, 0.6875),\n",
       " (17, 0.25)]"
      ]
     },
     "execution_count": 202,
     "metadata": {},
     "output_type": "execute_result"
    }
   ],
   "source": [
    "list(zip(list(range(2, 18)), [x[2] for x in n_shot_losses]))"
   ]
  },
  {
   "cell_type": "code",
   "execution_count": 13,
   "metadata": {},
   "outputs": [
    {
     "name": "stdout",
     "output_type": "stream",
     "text": [
      "Grad pursuit TV: L: 18, Loss: 0.380859\n"
     ]
    }
   ],
   "source": [
    "from tqdm.auto import tqdm\n",
    "from functools import partial\n",
    "from micrlhf.utils.activation_manipulation import add_vector\n",
    "\n",
    "from micrlhf.utils.ito import grad_pursuit\n",
    "\n",
    "\n",
    "task_losses = {}\n",
    "\n",
    "n_few_shots, batch_size, max_seq_len = 20, 16, 256\n",
    "seed = 10\n",
    "\n",
    "prompt = \"<start_of_turn>user\\nFollow the pattern:\\n{}\"\n",
    "\n",
    "task_name = \"algo_last\"\n",
    "\n",
    "sep = 3978\n",
    "pad = 0\n",
    "\n",
    "pairs = list(tasks[task_name].items())\n",
    "\n",
    "n_shot_losses = []\n",
    "\n",
    "n_shot = 15\n",
    "runner = ICLRunner(task_name, pairs, batch_size=batch_size, n_shot=n_shot, max_seq_len=max_seq_len, seed=seed, prompt=prompt)\n",
    "\n",
    "tokenized = runner.get_tokens([\n",
    "    x for x in runner.train_pairs\n",
    "], tokenizer)\n",
    "\n",
    "inputs = tokenized_to_inputs(**tokenized)\n",
    "train_tokens = tokenized[\"input_ids\"]\n",
    "\n",
    "logits, all_resids = get_resids_call(inputs)\n",
    "\n",
    "icl_loss = logprob_loss(\n",
    "    logits.unwrap(\"batch\", \"seq\", \"vocabulary\"), train_tokens, shift=0, n_first=3, sep=sep, pad_token=0\n",
    ")\n",
    "\n",
    "tokenized = runner.get_tokens(runner.eval_pairs, tokenizer)\n",
    "inputs = tokenized_to_inputs(**tokenized)\n",
    "tokens = tokenized[\"input_ids\"]\n",
    "\n",
    "logits = llama(inputs)\n",
    "\n",
    "zero_loss = logprob_loss(\n",
    "    logits.unwrap(\"batch\", \"seq\", \"vocabulary\"), tokens, shift=0, n_first=3, sep=sep, pad_token=0\n",
    ")\n",
    "\n",
    "\n",
    "resids = all_resids[layer].value.unwrap(\n",
    "    \"batch\", \"seq\", \"embedding\"\n",
    ")\n",
    "\n",
    "tv = get_tv(resids, train_tokens, shift = 0, sep=sep)\n",
    "\n",
    "add_act = make_act_adder(llama, tv.astype('bfloat16'), tokens, layer, length=1, shift= 0, sep=sep, scale=1)\n",
    "\n",
    "logits = add_act(inputs)\n",
    "\n",
    "tv_loss = logprob_loss(\n",
    "    logits.unwrap(\"batch\", \"seq\", \"vocabulary\"), tokens, shift=0, n_first=3, sep=sep, pad_token=0\n",
    ")\n",
    "\n",
    "gw, gtv = grad_pursuit(tv, sae[\"W_dec\"], 20)\n",
    "\n",
    "add_act = make_act_adder(llama, gtv.astype('bfloat16'), tokens, layer, length=1, shift= 0, sep=sep)\n",
    "\n",
    "logits = add_act(inputs)\n",
    "\n",
    "ito_loss = logprob_loss(\n",
    "    logits.unwrap(\"batch\", \"seq\", \"vocabulary\"), tokens, shift=0, n_first=3, sep=sep, pad_token=0\n",
    ")\n",
    "\n",
    "print(\n",
    "    f\"Grad pursuit TV: L: {layer}, Loss: {ito_loss}\"\n",
    ")\n",
    "\n",
    "\n",
    "\n",
    "# arrow_pos = jnp.nonzero(tokens == sep)\n",
    "# arrow_pos_single = []\n",
    "# for i in range(batch_size):\n",
    "#     arrow_pos_single.append(arrow_pos[1][arrow_pos[0] == i].max())\n",
    "\n",
    "# arrow_pos_single = np.array(arrow_pos_single)\n",
    "\n",
    "# hits = 0\n",
    "\n",
    "# logits = logits.unwrap(\"batch\", \"seq\", \"vocabulary\")\n",
    "\n",
    "# for i, (ap, l) in enumerate(zip(arrow_pos_single, logits)):\n",
    "#     l = l.argmax(-1)\n",
    "#     tgt = runner.eval_pairs[i][-1][1]\n",
    "#     hits += int(tgt in repr(tokenizer.decode(l[ap:ap+3])))"
   ]
  },
  {
   "cell_type": "code",
   "execution_count": 14,
   "metadata": {},
   "outputs": [
    {
     "data": {
      "text/html": [
       "<script> (()=>{ if (customElements.get('treescope-container') === undefined) { class TreescopeContainer extends HTMLElement { constructor() { super(); this.attachShadow({mode: \"open\"}); this.defns = {}; this.state = {}; } } customElements.define(\"treescope-container\", TreescopeContainer); } if (customElements.get('treescope-run-here') === undefined) { class RunHere extends HTMLElement { constructor() { super() } connectedCallback() { const run = child => { const fn = new Function(child.textContent); child.textContent = \"\"; fn.call(this); this.remove(); }; const child = this.querySelector(\"script\"); if (child) { run(child); } else { new MutationObserver(()=>{ run(this.querySelector(\"script\")); }).observe(this, {childList: true}); } } } customElements.define(\"treescope-run-here\", RunHere); } })(); </script> <treescope-container class=\"treescope_out_5b9d7c94e518473a8254355ecb248ff3\" ></treescope-container> <treescope-run-here><script type=\"application/octet-stream\"> const root = ( Array.from(document.getElementsByClassName( \"treescope_out_5b9d7c94e518473a8254355ecb248ff3\")) .filter((elt) => !elt.dataset.setup) )[0]; root.dataset.setup = 1; const msg = document.createElement(\"span\"); msg.style = \"color: #aaaaaa; font-family: monospace; transition: opacity 0.2s; opacity: 0.0;\"; msg.textContent = \"(Loading...)\"; root.state.loadingMsg = msg; root.shadowRoot.appendChild(msg); root.state.chain = new Promise((resolve, reject) => { const observer = new IntersectionObserver((entries) => { for (const entry of entries) { if (entry.isIntersecting) { resolve(); observer.disconnect(); return; } } }, {rootMargin: \"1000px\"}); window.setTimeout(() => { if (root.loadingMsg) { root.loadingMsg.style.opacity = \"1.0\"; } observer.observe(root); }, 0); }); root.state.deferring = false; const _insertNode = (node) => { for (let oldScript of node.querySelectorAll(\"script\")) { let newScript = document.createElement(\"script\"); newScript.type = oldScript.type; newScript.textContent = oldScript.textContent; oldScript.parentNode.replaceChild(newScript, oldScript); } if (root.state.loadingMsg) { root.state.loadingMsg.remove(); root.state.loadingMsg = null; } root.shadowRoot.appendChild(node); }; root.defns.insertContent = ((contentNode, compressed) => { if (compressed) { root.state.deferring = true; } if (root.state.deferring) { root.state.chain = (async () => { await root.state.chain; if (compressed) { const encoded = contentNode.textContent; const blob = new Blob([ Uint8Array.from(atob(encoded), (m) => m.codePointAt(0)) ]); const reader = blob.stream().pipeThrough( new DecompressionStream(\"deflate\") ).pipeThrough( new TextDecoderStream(\"utf-8\") ).getReader(); const parts = []; while (true) { const step = await reader.read(); if (step.done) { break; } parts.push(step.value); } const tpl = document.createElement('template'); tpl.innerHTML = parts.join(\"\"); _insertNode(tpl.content); } else { _insertNode(contentNode.content); } })(); } else { _insertNode(contentNode.content); } }); </script></treescope-run-here><div style=\"display:none\"> <script type=\"application/octet-stream\" >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</script> <treescope-run-here><script type=\"application/octet-stream\"> const root = ( Array.from(document.getElementsByClassName( \"treescope_out_5b9d7c94e518473a8254355ecb248ff3\")) .filter((elt) => !elt.dataset['step0']) )[0]; root.dataset['step0'] = 1; root.defns.insertContent( this.parentNode.querySelector('script[type=\"application/octet-stream\"]'), true ); this.parentNode.remove(); </script></treescope-run-here> </div>"
      ],
      "text/plain": [
       "<IPython.core.display.HTML object>"
      ]
     },
     "metadata": {},
     "output_type": "display_data"
    },
    {
     "data": {
      "text/html": [
       "<div style=\"display:none\"> <script type=\"application/octet-stream\" >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</script> <treescope-run-here><script type=\"application/octet-stream\"> const root = ( Array.from(document.getElementsByClassName( \"treescope_out_5b9d7c94e518473a8254355ecb248ff3\")) .filter((elt) => !elt.dataset['step1']) )[0]; root.dataset['step1'] = 1; root.defns.insertContent( this.parentNode.querySelector('script[type=\"application/octet-stream\"]'), true ); this.parentNode.remove(); </script></treescope-run-here> </div>"
      ],
      "text/plain": [
       "<IPython.core.display.HTML object>"
      ]
     },
     "metadata": {},
     "output_type": "display_data"
    },
    {
     "data": {
      "text/html": [
       "<treescope-run-here><script type=\"application/octet-stream\"> const root = ( Array.from(document.getElementsByClassName( \"treescope_out_5b9d7c94e518473a8254355ecb248ff3\")) .filter((elt) => !elt.dataset.stolen) )[0]; root.dataset.stolen = 1; this.parentNode.replaceChild(root, this); </script></treescope-run-here>"
      ],
      "text/plain": [
       "[# jax.Array float32(10,) ≈4.2e+01 ±3.2e+01 [≥2.3e+01, ≤1.4e+02] nonzero:10\n",
       "   Array([135.43867 ,  41.27712 ,  37.228954,  36.440758,  33.29375 ,\n",
       "           31.684303,  27.453093,  26.091726,  23.483995,  23.010355],      dtype=float32)\n",
       " ,\n",
       " # jax.Array int32(10,) [≥835, ≤15_693] nonzero:10\n",
       "   Array([ 3851, 14456, 12802,  6356,  6179,   835,  8580,  8678, 12165,\n",
       "          15693], dtype=int32)\n",
       " ]"
      ]
     },
     "execution_count": 14,
     "metadata": {},
     "output_type": "execute_result"
    }
   ],
   "source": [
    "jax.lax.top_k(gw, 10)"
   ]
  },
  {
   "cell_type": "code",
   "execution_count": 230,
   "metadata": {},
   "outputs": [
    {
     "data": {
      "text/html": [
       "<script> (()=>{ if (customElements.get('treescope-container') === undefined) { class TreescopeContainer extends HTMLElement { constructor() { super(); this.attachShadow({mode: \"open\"}); this.defns = {}; this.state = {}; } } customElements.define(\"treescope-container\", TreescopeContainer); } if (customElements.get('treescope-run-here') === undefined) { class RunHere extends HTMLElement { constructor() { super() } connectedCallback() { const run = child => { const fn = new Function(child.textContent); child.textContent = \"\"; fn.call(this); this.remove(); }; const child = this.querySelector(\"script\"); if (child) { run(child); } else { new MutationObserver(()=>{ run(this.querySelector(\"script\")); }).observe(this, {childList: true}); } } } customElements.define(\"treescope-run-here\", RunHere); } })(); </script> <treescope-container class=\"treescope_out_d6560b0a5d994fffb6108f591d0ba7cf\" ></treescope-container> <treescope-run-here><script type=\"application/octet-stream\"> const root = ( Array.from(document.getElementsByClassName( \"treescope_out_d6560b0a5d994fffb6108f591d0ba7cf\")) .filter((elt) => !elt.dataset.setup) )[0]; root.dataset.setup = 1; const msg = document.createElement(\"span\"); msg.style = \"color: #aaaaaa; font-family: monospace; transition: opacity 0.2s; opacity: 0.0;\"; msg.textContent = \"(Loading...)\"; root.state.loadingMsg = msg; root.shadowRoot.appendChild(msg); root.state.chain = new Promise((resolve, reject) => { const observer = new IntersectionObserver((entries) => { for (const entry of entries) { if (entry.isIntersecting) { resolve(); observer.disconnect(); return; } } }, {rootMargin: \"1000px\"}); window.setTimeout(() => { if (root.loadingMsg) { root.loadingMsg.style.opacity = \"1.0\"; } observer.observe(root); }, 0); }); root.state.deferring = false; const _insertNode = (node) => { for (let oldScript of node.querySelectorAll(\"script\")) { let newScript = document.createElement(\"script\"); newScript.type = oldScript.type; newScript.textContent = oldScript.textContent; oldScript.parentNode.replaceChild(newScript, oldScript); } if (root.state.loadingMsg) { root.state.loadingMsg.remove(); root.state.loadingMsg = null; } root.shadowRoot.appendChild(node); }; root.defns.insertContent = ((contentNode, compressed) => { if (compressed) { root.state.deferring = true; } if (root.state.deferring) { root.state.chain = (async () => { await root.state.chain; if (compressed) { const encoded = contentNode.textContent; const blob = new Blob([ Uint8Array.from(atob(encoded), (m) => m.codePointAt(0)) ]); const reader = blob.stream().pipeThrough( new DecompressionStream(\"deflate\") ).pipeThrough( new TextDecoderStream(\"utf-8\") ).getReader(); const parts = []; while (true) { const step = await reader.read(); if (step.done) { break; } parts.push(step.value); } const tpl = document.createElement('template'); tpl.innerHTML = parts.join(\"\"); _insertNode(tpl.content); } else { _insertNode(contentNode.content); } })(); } else { _insertNode(contentNode.content); } }); </script></treescope-run-here><div style=\"display:none\"> <script type=\"application/octet-stream\" >eNqNVE2P0zAQ/StWOGwi4WwXtLC0TaS9IA6IAxw4IFS5ySSx6oyNPWkpaP8746Qt+1FWqIfGM+M3b55nZhlob6DMyQOEyjpYeWtJ/BbOBk3a4lx4MIr0FhaisUiyUb02+7noLdrgVMX2XacJ5HiYC+fZYnQgOUJL2ju2okU2r1W1ab0dsJaVNdbPp6sLcTitDQcwnq6pm4tGE4chAdJCOFXXGltpoKG5eFV1MQmC7EC3HVuu8usIg6Q0cz5dO3zIrQ56rY0mZq4GsqdYqZG8xqArGfQvmLwHunfLy0me5Uke6QfknJ5tofLakYj1FRfKOaMrFRW7tBVBrN6D6i/KNM2KkgXlfIFEDQ0GUQjqdMhboM+s9idbQ5rlnQ2Uj34uDUisHGAs+baKqPHSt+/nPB8U1gbYjYMxiylDzjS/WItsTXfWbzJxn4P9yqboemAmXUWjA99Y3yusIEe7S7PxfTlB+sQj5HRpKV6/yhhHNyJ9xDo3gC11oijELIY8S90DDR5ZdwEmwF9i3YCR2WPo0OmGIr8xIH7c8e8fGVLuKqztLvfwY4BAt6j78bnee9VDOmmSRYzFk0RuCN0k4+JMjccUxVTGM1X+P4fIYnpIsm1rpqlcjZPD3eoiVrSAoZcCttzgh5eM7MZzvoF9FD3xSSR0CM4ro0L4yMN5wE2TE+aq5zZMjsnvMtaT23/s8XJ5eW4Aar0VI2CRPFwfiSC15krhZ5HMEmGRyXDZyHHPtf35WtN451hlwmM3LaxxY6xw6Nfgx04ZF8iL2bubq+s390eX1xIeaXY8q57XxmZFyjONRNSKlGR6TlFXJMnD8Ps5knKWX928vWZcjihPfyxC+QcyPNxc</script> <treescope-run-here><script type=\"application/octet-stream\"> const root = ( Array.from(document.getElementsByClassName( \"treescope_out_d6560b0a5d994fffb6108f591d0ba7cf\")) .filter((elt) => !elt.dataset['step0']) )[0]; root.dataset['step0'] = 1; root.defns.insertContent( this.parentNode.querySelector('script[type=\"application/octet-stream\"]'), true ); this.parentNode.remove(); </script></treescope-run-here> </div>"
      ],
      "text/plain": [
       "<IPython.core.display.HTML object>"
      ]
     },
     "metadata": {},
     "output_type": "display_data"
    },
    {
     "data": {
      "text/html": [
       "<treescope-run-here><script type=\"application/octet-stream\"> const root = ( Array.from(document.getElementsByClassName( \"treescope_out_d6560b0a5d994fffb6108f591d0ba7cf\")) .filter((elt) => !elt.dataset.stolen) )[0]; root.dataset.stolen = 1; this.parentNode.replaceChild(root, this); </script></treescope-run-here>"
      ],
      "text/plain": [
       "0.1875"
      ]
     },
     "execution_count": 230,
     "metadata": {},
     "output_type": "execute_result"
    }
   ],
   "source": [
    "hits/batch_size / 2"
   ]
  }
 ],
 "metadata": {
  "kernelspec": {
   "display_name": "micrlhf-progress-_SD4q1c9-py3.10",
   "language": "python",
   "name": "python3"
  },
  "language_info": {
   "codemirror_mode": {
    "name": "ipython",
    "version": 3
   },
   "file_extension": ".py",
   "mimetype": "text/x-python",
   "name": "python",
   "nbconvert_exporter": "python",
   "pygments_lexer": "ipython3",
   "version": "3.10.12"
  }
 },
 "nbformat": 4,
 "nbformat_minor": 2
}
