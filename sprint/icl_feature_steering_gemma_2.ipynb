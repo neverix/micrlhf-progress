{
 "cells": [
  {
   "cell_type": "code",
   "execution_count": 1,
   "metadata": {},
   "outputs": [],
   "source": [
    "import os\n",
    "if \"models\" not in os.listdir(\".\"):\n",
    "    os.chdir(\"../..\")"
   ]
  },
  {
   "cell_type": "code",
   "execution_count": 2,
   "metadata": {},
   "outputs": [],
   "source": [
    "%load_ext autoreload\n",
    "%autoreload 2\n",
    "import penzai\n",
    "import jax_smi\n",
    "jax_smi.initialise_tracking()\n",
    "from penzai import pz\n",
    "pz.ts.register_as_default()\n",
    "pz.ts.register_autovisualize_magic()\n",
    "pz.enable_interactive_context()"
   ]
  },
  {
   "cell_type": "code",
   "execution_count": 3,
   "metadata": {},
   "outputs": [],
   "source": [
    "from micrlhf.llama import LlamaTransformer\n",
    "llama = LlamaTransformer.from_pretrained(\"models/gemma-2-2b-it.gguf\",\n",
    "                                         from_type=\"gemma2\",\n",
    "                                         load_eager=True\n",
    "                                         )"
   ]
  },
  {
   "cell_type": "code",
   "execution_count": 4,
   "metadata": {},
   "outputs": [],
   "source": [
    "from transformers import AutoTokenizer\n",
    "tokenizer = AutoTokenizer.from_pretrained(\"alpindale/gemma-2b\")\n",
    "tokenizer.padding_side = \"right\""
   ]
  },
  {
   "cell_type": "code",
   "execution_count": 5,
   "metadata": {},
   "outputs": [],
   "source": [
    "from sprint.icl_sfc_utils import Circuitizer"
   ]
  },
  {
   "cell_type": "code",
   "execution_count": 6,
   "metadata": {},
   "outputs": [],
   "source": [
    "from sprint.task_vector_utils import load_tasks, ICLRunner\n",
    "tasks = load_tasks()"
   ]
  },
  {
   "cell_type": "code",
   "execution_count": 23,
   "metadata": {},
   "outputs": [],
   "source": [
    "task_names = list(tasks.keys())\n",
    "# task_name = task_names[1]"
   ]
  },
  {
   "cell_type": "code",
   "execution_count": 19,
   "metadata": {},
   "outputs": [],
   "source": [
    "import json\n",
    "\n",
    "use_65k = True\n",
    "\n",
    "if use_65k:\n",
    "    file_name = \"gemma_2_cleaning_compact_65k.jsonl\"\n",
    "else:\n",
    "    file_name = \"gemma_2_cleaning_compact.jsonl\"\n",
    "\n",
    "with open(file_name) as f:\n",
    "    lines = f.readlines()\n",
    "    results = [json.loads(line) for line in lines]"
   ]
  },
  {
   "cell_type": "code",
   "execution_count": 9,
   "metadata": {},
   "outputs": [],
   "source": [
    "import jax.numpy as jnp\n",
    "import jax\n",
    "\n",
    "\n",
    "from sprint.task_vector_utils import ICLRunner, logprob_loss, get_tv, make_act_adder\n",
    "from micrlhf.llama import LlamaBlock\n",
    "from micrlhf.sampling import sample, jit_wrapper\n",
    "\n",
    "\n",
    "get_resids = llama.select().at_instances_of(LlamaBlock).apply_with_selected_index(lambda i, x:\n",
    "    pz.nn.Sequential([\n",
    "        pz.de.TellIntermediate.from_config(tag=f\"resid_pre_{i}\"),\n",
    "        x\n",
    "    ])\n",
    ")\n",
    "get_resids = pz.de.CollectingSideOutputs.handling(get_resids, tag_predicate=lambda x: x.startswith(\"resid_pre\"))\n",
    "get_resids_call = jit_wrapper.Jitted(get_resids)\n",
    "\n",
    "\n",
    "\n",
    "def tokenized_to_inputs(input_ids, attention_mask):\n",
    "    token_array = jnp.asarray(input_ids)\n",
    "    token_array = jax.device_put(token_array, jax.sharding.NamedSharding(llama.mesh, jax.sharding.PartitionSpec(\"dp\", \"sp\")))\n",
    "    token_array = pz.nx.wrap(token_array, \"batch\", \"seq\").untag(\"batch\").tag(\"batch\")\n",
    "\n",
    "    mask_array = jnp.asarray(attention_mask, dtype=jnp.bool)\n",
    "    mask_array = jax.device_put(mask_array, jax.sharding.NamedSharding(llama.mesh, jax.sharding.PartitionSpec(\"dp\", \"sp\")))\n",
    "    mask_array = pz.nx.wrap(mask_array, \"batch\", \"seq\").untag(\"batch\").tag(\"batch\")\n",
    "\n",
    "    inputs = llama.inputs.from_basic_segments(token_array)\n",
    "    return inputs\n"
   ]
  },
  {
   "cell_type": "code",
   "execution_count": 13,
   "metadata": {},
   "outputs": [],
   "source": [
    "from sprint.icl_sfc_utils import AblatedModule\n",
    "layer = 18\n",
    "mask_name = \"arrow\""
   ]
  },
  {
   "cell_type": "code",
   "execution_count": 24,
   "metadata": {},
   "outputs": [
    {
     "data": {
      "text/html": [
       "<script> (()=>{ if (customElements.get('treescope-container') === undefined) { class TreescopeContainer extends HTMLElement { constructor() { super(); this.attachShadow({mode: \"open\"}); this.defns = {}; this.state = {}; } } customElements.define(\"treescope-container\", TreescopeContainer); } if (customElements.get('treescope-run-here') === undefined) { class RunHere extends HTMLElement { constructor() { super() } connectedCallback() { const run = child => { const fn = new Function(child.textContent); child.textContent = \"\"; fn.call(this); this.remove(); }; const child = this.querySelector(\"script\"); if (child) { run(child); } else { new MutationObserver(()=>{ run(this.querySelector(\"script\")); }).observe(this, {childList: true}); } } } customElements.define(\"treescope-run-here\", RunHere); } })(); </script> <treescope-container class=\"treescope_out_a46efe024dca419683faff03379ccafe\" ></treescope-container> <treescope-run-here><script type=\"application/octet-stream\"> const root = ( Array.from(document.getElementsByClassName( \"treescope_out_a46efe024dca419683faff03379ccafe\")) .filter((elt) => !elt.dataset.setup) )[0]; root.dataset.setup = 1; const msg = document.createElement(\"span\"); msg.style = \"color: #aaaaaa; font-family: monospace; transition: opacity 0.2s; opacity: 0.0;\"; msg.textContent = \"(Loading...)\"; root.state.loadingMsg = msg; root.shadowRoot.appendChild(msg); root.state.chain = new Promise((resolve, reject) => { const observer = new IntersectionObserver((entries) => { for (const entry of entries) { if (entry.isIntersecting) { resolve(); observer.disconnect(); return; } } }, {rootMargin: \"1000px\"}); window.setTimeout(() => { if (root.loadingMsg) { root.loadingMsg.style.opacity = \"1.0\"; } observer.observe(root); }, 0); }); root.state.deferring = false; const _insertNode = (node) => { for (let oldScript of node.querySelectorAll(\"script\")) { let newScript = document.createElement(\"script\"); newScript.type = oldScript.type; newScript.textContent = oldScript.textContent; oldScript.parentNode.replaceChild(newScript, oldScript); } if (root.state.loadingMsg) { root.state.loadingMsg.remove(); root.state.loadingMsg = null; } root.shadowRoot.appendChild(node); }; root.defns.insertContent = ((contentNode, compressed) => { if (compressed) { root.state.deferring = true; } if (root.state.deferring) { root.state.chain = (async () => { await root.state.chain; if (compressed) { const encoded = contentNode.textContent; const blob = new Blob([ Uint8Array.from(atob(encoded), (m) => m.codePointAt(0)) ]); const reader = blob.stream().pipeThrough( new DecompressionStream(\"deflate\") ).pipeThrough( new TextDecoderStream(\"utf-8\") ).getReader(); const parts = []; while (true) { const step = await reader.read(); if (step.done) { break; } parts.push(step.value); } const tpl = document.createElement('template'); tpl.innerHTML = parts.join(\"\"); _insertNode(tpl.content); } else { _insertNode(contentNode.content); } })(); } else { _insertNode(contentNode.content); } }); </script></treescope-run-here><div style=\"display:none\"> <script type=\"application/octet-stream\" >eNqNVE1v2zAM/SuCd6gNzG7aocOWxAZ6GXYYdtgOOxRDoNi0LUSmNIlOlg3976PkJOtHVgw5xCKpx/cokktPew1VQQ7A18bCyhlD4rewxitSBufCgZaktrAQrUHKWzkovZ+LwaDxVtZs3/WKII+HubCOLVp5yiN0TnvLVjTI5rWsN50zIzZ5bbRx8+nqQhxOa80BjKca6ueiVcRhSIC0EFY2jcIu19DSXFzXfUiCkPegup4tV8VNgEGSijmfrh0+8q3yaq20ImYuRzKn2FwhOYVe1blXv2DyHujeLy+n8ixP5cndiJzTsc3XTlkSQV95Ia3VqpahYpemJgjqHcjhokrTrKy4oJzPk2igRS9KQb3yRQf0hav92TSQZkVvPBXRz9KAxMoCBsm3dUANl+6+n/N8lNhoYDeOWi+mDAXT/GoMsjXdGbfJxEMO5hubguuRmVQdjBZca9wgsYYCzS7N4vtygvSZR+TTpaV4c50xjmpF+oR1oQE76kVZilkIeZG6Axodct0FaA9/ifUjBmZPoX2vWgr8YkD4uOffPzKk3FXYmF3h4McInm5RDfG5Pjg5QDrVJAsYi2eJ7Oj7qYyLMxqPKcpJxgsq/59DYDE9JJmu09NUruLkcLfagBUsoOm1gC03+OElA7t4LjawD0VPXBIIHYKLWkvvP/FwHnDT5IS5GrgNk2Py+4zrye0fe7xaXp4bgEZtRQQsk8frIxEk16wUfpbJLBEGmQzLRo57qe3Pa03DnaPKhMduWlhxY6xwHNbgYqfEBfJq9v7d1c3bh6PLawmPNHueVcdrY7Mi6ZhGIhpJMmd6VlJfJsnj8Ic5kupqds2g7K5Of1yB6g+lCtu8</script> <treescope-run-here><script type=\"application/octet-stream\"> const root = ( Array.from(document.getElementsByClassName( \"treescope_out_a46efe024dca419683faff03379ccafe\")) .filter((elt) => !elt.dataset['step0']) )[0]; root.dataset['step0'] = 1; root.defns.insertContent( this.parentNode.querySelector('script[type=\"application/octet-stream\"]'), true ); this.parentNode.remove(); </script></treescope-run-here> </div>"
      ],
      "text/plain": [
       "<IPython.core.display.HTML object>"
      ]
     },
     "metadata": {},
     "output_type": "display_data"
    },
    {
     "data": {
      "text/html": [
       "<treescope-run-here><script type=\"application/octet-stream\"> const root = ( Array.from(document.getElementsByClassName( \"treescope_out_a46efe024dca419683faff03379ccafe\")) .filter((elt) => !elt.dataset.stolen) )[0]; root.dataset.stolen = 1; this.parentNode.replaceChild(root, this); </script></treescope-run-here>"
      ],
      "text/plain": [
       "102"
      ]
     },
     "execution_count": 24,
     "metadata": {},
     "output_type": "execute_result"
    }
   ],
   "source": [
    "import numpy as np\n",
    "from micrlhf.utils.load_sae import get_dm_res_sae\n",
    "\n",
    "features = []\n",
    "\n",
    "sae = get_dm_res_sae(layer, load_65k=use_65k)\n",
    "threshold = sae.get(\"threshold\", 0)\n",
    "\n",
    "for task_name in task_names:\n",
    "    task_results = [result for result in results if result[\"task\"] == task_name and result[\"layer\"] == layer]\n",
    "\n",
    "    for result in task_results:\n",
    "        features += result[\"indices\"]\n",
    "\n",
    "features = list(set(features))\n",
    "\n",
    "len(features)"
   ]
  },
  {
   "cell_type": "code",
   "execution_count": 68,
   "metadata": {},
   "outputs": [
    {
     "data": {
      "application/vnd.jupyter.widget-view+json": {
       "model_id": "518b2665b2524d2db8490770916ebaf6",
       "version_major": 2,
       "version_minor": 0
      },
      "text/plain": [
       "  0%|          | 0/23 [00:00<?, ?it/s]"
      ]
     },
     "metadata": {},
     "output_type": "display_data"
    },
    {
     "data": {
      "application/vnd.jupyter.widget-view+json": {
       "model_id": "632eff5011434bd8a9c5aece8e494005",
       "version_major": 2,
       "version_minor": 0
      },
      "text/plain": [
       "  0%|          | 0/102 [00:00<?, ?it/s]"
      ]
     },
     "metadata": {},
     "output_type": "display_data"
    },
    {
     "name": "stderr",
     "output_type": "stream",
     "text": [
      "/home/dmitrii/.cache/pypoetry/virtualenvs/micrlhf-progress-_SD4q1c9-py3.10/lib/python3.10/site-packages/jax/_src/ops/scatter.py:92: FutureWarning:\n",
      "\n",
      "scatter inputs have incompatible types: cannot safely cast value from dtype=float32 to dtype=bfloat16 with jax_numpy_dtype_promotion='standard'. In future JAX releases this will result in an error.\n",
      "\n"
     ]
    },
    {
     "data": {
      "application/vnd.jupyter.widget-view+json": {
       "model_id": "4934786a4fbc43c3bf1d9c7ac7ff1037",
       "version_major": 2,
       "version_minor": 0
      },
      "text/plain": [
       "  0%|          | 0/102 [00:00<?, ?it/s]"
      ]
     },
     "metadata": {},
     "output_type": "display_data"
    },
    {
     "name": "stderr",
     "output_type": "stream",
     "text": [
      "/home/dmitrii/.cache/pypoetry/virtualenvs/micrlhf-progress-_SD4q1c9-py3.10/lib/python3.10/site-packages/jax/_src/ops/scatter.py:92: FutureWarning:\n",
      "\n",
      "scatter inputs have incompatible types: cannot safely cast value from dtype=float32 to dtype=bfloat16 with jax_numpy_dtype_promotion='standard'. In future JAX releases this will result in an error.\n",
      "\n"
     ]
    },
    {
     "data": {
      "application/vnd.jupyter.widget-view+json": {
       "model_id": "c7c89929afb044559f3116c513143df4",
       "version_major": 2,
       "version_minor": 0
      },
      "text/plain": [
       "  0%|          | 0/102 [00:00<?, ?it/s]"
      ]
     },
     "metadata": {},
     "output_type": "display_data"
    },
    {
     "name": "stderr",
     "output_type": "stream",
     "text": [
      "/home/dmitrii/.cache/pypoetry/virtualenvs/micrlhf-progress-_SD4q1c9-py3.10/lib/python3.10/site-packages/jax/_src/ops/scatter.py:92: FutureWarning:\n",
      "\n",
      "scatter inputs have incompatible types: cannot safely cast value from dtype=float32 to dtype=bfloat16 with jax_numpy_dtype_promotion='standard'. In future JAX releases this will result in an error.\n",
      "\n"
     ]
    },
    {
     "data": {
      "application/vnd.jupyter.widget-view+json": {
       "model_id": "2a8be75919c1409587a47aa74ff17988",
       "version_major": 2,
       "version_minor": 0
      },
      "text/plain": [
       "  0%|          | 0/102 [00:00<?, ?it/s]"
      ]
     },
     "metadata": {},
     "output_type": "display_data"
    },
    {
     "name": "stderr",
     "output_type": "stream",
     "text": [
      "/home/dmitrii/.cache/pypoetry/virtualenvs/micrlhf-progress-_SD4q1c9-py3.10/lib/python3.10/site-packages/jax/_src/ops/scatter.py:92: FutureWarning:\n",
      "\n",
      "scatter inputs have incompatible types: cannot safely cast value from dtype=float32 to dtype=bfloat16 with jax_numpy_dtype_promotion='standard'. In future JAX releases this will result in an error.\n",
      "\n"
     ]
    },
    {
     "data": {
      "application/vnd.jupyter.widget-view+json": {
       "model_id": "8842b108a4f049f791114f223c276112",
       "version_major": 2,
       "version_minor": 0
      },
      "text/plain": [
       "  0%|          | 0/102 [00:00<?, ?it/s]"
      ]
     },
     "metadata": {},
     "output_type": "display_data"
    },
    {
     "name": "stderr",
     "output_type": "stream",
     "text": [
      "/home/dmitrii/.cache/pypoetry/virtualenvs/micrlhf-progress-_SD4q1c9-py3.10/lib/python3.10/site-packages/jax/_src/ops/scatter.py:92: FutureWarning:\n",
      "\n",
      "scatter inputs have incompatible types: cannot safely cast value from dtype=float32 to dtype=bfloat16 with jax_numpy_dtype_promotion='standard'. In future JAX releases this will result in an error.\n",
      "\n"
     ]
    },
    {
     "data": {
      "application/vnd.jupyter.widget-view+json": {
       "model_id": "a8245dbbd4164f528ab83eba58322fa5",
       "version_major": 2,
       "version_minor": 0
      },
      "text/plain": [
       "  0%|          | 0/102 [00:00<?, ?it/s]"
      ]
     },
     "metadata": {},
     "output_type": "display_data"
    },
    {
     "name": "stderr",
     "output_type": "stream",
     "text": [
      "/home/dmitrii/.cache/pypoetry/virtualenvs/micrlhf-progress-_SD4q1c9-py3.10/lib/python3.10/site-packages/jax/_src/ops/scatter.py:92: FutureWarning:\n",
      "\n",
      "scatter inputs have incompatible types: cannot safely cast value from dtype=float32 to dtype=bfloat16 with jax_numpy_dtype_promotion='standard'. In future JAX releases this will result in an error.\n",
      "\n"
     ]
    },
    {
     "data": {
      "application/vnd.jupyter.widget-view+json": {
       "model_id": "db55e227ffba4aac976c32240cc65ede",
       "version_major": 2,
       "version_minor": 0
      },
      "text/plain": [
       "  0%|          | 0/102 [00:00<?, ?it/s]"
      ]
     },
     "metadata": {},
     "output_type": "display_data"
    },
    {
     "name": "stderr",
     "output_type": "stream",
     "text": [
      "/home/dmitrii/.cache/pypoetry/virtualenvs/micrlhf-progress-_SD4q1c9-py3.10/lib/python3.10/site-packages/jax/_src/ops/scatter.py:92: FutureWarning:\n",
      "\n",
      "scatter inputs have incompatible types: cannot safely cast value from dtype=float32 to dtype=bfloat16 with jax_numpy_dtype_promotion='standard'. In future JAX releases this will result in an error.\n",
      "\n"
     ]
    },
    {
     "data": {
      "application/vnd.jupyter.widget-view+json": {
       "model_id": "909d99a251334207b5660e0b0367176a",
       "version_major": 2,
       "version_minor": 0
      },
      "text/plain": [
       "  0%|          | 0/102 [00:00<?, ?it/s]"
      ]
     },
     "metadata": {},
     "output_type": "display_data"
    },
    {
     "name": "stderr",
     "output_type": "stream",
     "text": [
      "/home/dmitrii/.cache/pypoetry/virtualenvs/micrlhf-progress-_SD4q1c9-py3.10/lib/python3.10/site-packages/jax/_src/ops/scatter.py:92: FutureWarning:\n",
      "\n",
      "scatter inputs have incompatible types: cannot safely cast value from dtype=float32 to dtype=bfloat16 with jax_numpy_dtype_promotion='standard'. In future JAX releases this will result in an error.\n",
      "\n"
     ]
    },
    {
     "data": {
      "application/vnd.jupyter.widget-view+json": {
       "model_id": "ef623a67675a44cb81d014330cc0b84b",
       "version_major": 2,
       "version_minor": 0
      },
      "text/plain": [
       "  0%|          | 0/102 [00:00<?, ?it/s]"
      ]
     },
     "metadata": {},
     "output_type": "display_data"
    },
    {
     "name": "stderr",
     "output_type": "stream",
     "text": [
      "/home/dmitrii/.cache/pypoetry/virtualenvs/micrlhf-progress-_SD4q1c9-py3.10/lib/python3.10/site-packages/jax/_src/ops/scatter.py:92: FutureWarning:\n",
      "\n",
      "scatter inputs have incompatible types: cannot safely cast value from dtype=float32 to dtype=bfloat16 with jax_numpy_dtype_promotion='standard'. In future JAX releases this will result in an error.\n",
      "\n"
     ]
    },
    {
     "data": {
      "application/vnd.jupyter.widget-view+json": {
       "model_id": "3e3f9b23ee02447e9a3af5613899efad",
       "version_major": 2,
       "version_minor": 0
      },
      "text/plain": [
       "  0%|          | 0/102 [00:00<?, ?it/s]"
      ]
     },
     "metadata": {},
     "output_type": "display_data"
    },
    {
     "name": "stderr",
     "output_type": "stream",
     "text": [
      "/home/dmitrii/.cache/pypoetry/virtualenvs/micrlhf-progress-_SD4q1c9-py3.10/lib/python3.10/site-packages/jax/_src/ops/scatter.py:92: FutureWarning:\n",
      "\n",
      "scatter inputs have incompatible types: cannot safely cast value from dtype=float32 to dtype=bfloat16 with jax_numpy_dtype_promotion='standard'. In future JAX releases this will result in an error.\n",
      "\n"
     ]
    },
    {
     "data": {
      "application/vnd.jupyter.widget-view+json": {
       "model_id": "a51ed4bf5bea46de99d87f79a816cbc0",
       "version_major": 2,
       "version_minor": 0
      },
      "text/plain": [
       "  0%|          | 0/102 [00:00<?, ?it/s]"
      ]
     },
     "metadata": {},
     "output_type": "display_data"
    },
    {
     "name": "stderr",
     "output_type": "stream",
     "text": [
      "/home/dmitrii/.cache/pypoetry/virtualenvs/micrlhf-progress-_SD4q1c9-py3.10/lib/python3.10/site-packages/jax/_src/ops/scatter.py:92: FutureWarning:\n",
      "\n",
      "scatter inputs have incompatible types: cannot safely cast value from dtype=float32 to dtype=bfloat16 with jax_numpy_dtype_promotion='standard'. In future JAX releases this will result in an error.\n",
      "\n"
     ]
    },
    {
     "data": {
      "application/vnd.jupyter.widget-view+json": {
       "model_id": "61c61d80f4d74f5a9db59afa78a28390",
       "version_major": 2,
       "version_minor": 0
      },
      "text/plain": [
       "  0%|          | 0/102 [00:00<?, ?it/s]"
      ]
     },
     "metadata": {},
     "output_type": "display_data"
    },
    {
     "name": "stderr",
     "output_type": "stream",
     "text": [
      "/home/dmitrii/.cache/pypoetry/virtualenvs/micrlhf-progress-_SD4q1c9-py3.10/lib/python3.10/site-packages/jax/_src/ops/scatter.py:92: FutureWarning:\n",
      "\n",
      "scatter inputs have incompatible types: cannot safely cast value from dtype=float32 to dtype=bfloat16 with jax_numpy_dtype_promotion='standard'. In future JAX releases this will result in an error.\n",
      "\n"
     ]
    },
    {
     "data": {
      "application/vnd.jupyter.widget-view+json": {
       "model_id": "a527ca3a93b6438f8b42f3c4b3dae365",
       "version_major": 2,
       "version_minor": 0
      },
      "text/plain": [
       "  0%|          | 0/102 [00:00<?, ?it/s]"
      ]
     },
     "metadata": {},
     "output_type": "display_data"
    },
    {
     "name": "stderr",
     "output_type": "stream",
     "text": [
      "/home/dmitrii/.cache/pypoetry/virtualenvs/micrlhf-progress-_SD4q1c9-py3.10/lib/python3.10/site-packages/jax/_src/ops/scatter.py:92: FutureWarning:\n",
      "\n",
      "scatter inputs have incompatible types: cannot safely cast value from dtype=float32 to dtype=bfloat16 with jax_numpy_dtype_promotion='standard'. In future JAX releases this will result in an error.\n",
      "\n"
     ]
    },
    {
     "data": {
      "application/vnd.jupyter.widget-view+json": {
       "model_id": "36e997db13244771ad300ac770acf809",
       "version_major": 2,
       "version_minor": 0
      },
      "text/plain": [
       "  0%|          | 0/102 [00:00<?, ?it/s]"
      ]
     },
     "metadata": {},
     "output_type": "display_data"
    },
    {
     "name": "stderr",
     "output_type": "stream",
     "text": [
      "/home/dmitrii/.cache/pypoetry/virtualenvs/micrlhf-progress-_SD4q1c9-py3.10/lib/python3.10/site-packages/jax/_src/ops/scatter.py:92: FutureWarning:\n",
      "\n",
      "scatter inputs have incompatible types: cannot safely cast value from dtype=float32 to dtype=bfloat16 with jax_numpy_dtype_promotion='standard'. In future JAX releases this will result in an error.\n",
      "\n"
     ]
    },
    {
     "data": {
      "application/vnd.jupyter.widget-view+json": {
       "model_id": "7cc64c7d602c4c8694086afad82266cc",
       "version_major": 2,
       "version_minor": 0
      },
      "text/plain": [
       "  0%|          | 0/102 [00:00<?, ?it/s]"
      ]
     },
     "metadata": {},
     "output_type": "display_data"
    },
    {
     "name": "stderr",
     "output_type": "stream",
     "text": [
      "/home/dmitrii/.cache/pypoetry/virtualenvs/micrlhf-progress-_SD4q1c9-py3.10/lib/python3.10/site-packages/jax/_src/ops/scatter.py:92: FutureWarning:\n",
      "\n",
      "scatter inputs have incompatible types: cannot safely cast value from dtype=float32 to dtype=bfloat16 with jax_numpy_dtype_promotion='standard'. In future JAX releases this will result in an error.\n",
      "\n"
     ]
    },
    {
     "data": {
      "application/vnd.jupyter.widget-view+json": {
       "model_id": "86fffc6370fa437a9d6e024c09bdc1b0",
       "version_major": 2,
       "version_minor": 0
      },
      "text/plain": [
       "  0%|          | 0/102 [00:00<?, ?it/s]"
      ]
     },
     "metadata": {},
     "output_type": "display_data"
    },
    {
     "name": "stderr",
     "output_type": "stream",
     "text": [
      "/home/dmitrii/.cache/pypoetry/virtualenvs/micrlhf-progress-_SD4q1c9-py3.10/lib/python3.10/site-packages/jax/_src/ops/scatter.py:92: FutureWarning:\n",
      "\n",
      "scatter inputs have incompatible types: cannot safely cast value from dtype=float32 to dtype=bfloat16 with jax_numpy_dtype_promotion='standard'. In future JAX releases this will result in an error.\n",
      "\n"
     ]
    },
    {
     "data": {
      "application/vnd.jupyter.widget-view+json": {
       "model_id": "001ab3fa85fb48f9b337f038475be6b8",
       "version_major": 2,
       "version_minor": 0
      },
      "text/plain": [
       "  0%|          | 0/102 [00:00<?, ?it/s]"
      ]
     },
     "metadata": {},
     "output_type": "display_data"
    },
    {
     "name": "stderr",
     "output_type": "stream",
     "text": [
      "/home/dmitrii/.cache/pypoetry/virtualenvs/micrlhf-progress-_SD4q1c9-py3.10/lib/python3.10/site-packages/jax/_src/ops/scatter.py:92: FutureWarning:\n",
      "\n",
      "scatter inputs have incompatible types: cannot safely cast value from dtype=float32 to dtype=bfloat16 with jax_numpy_dtype_promotion='standard'. In future JAX releases this will result in an error.\n",
      "\n"
     ]
    },
    {
     "data": {
      "application/vnd.jupyter.widget-view+json": {
       "model_id": "6a7f4ef3353e4f55854e299aa8dc2ea5",
       "version_major": 2,
       "version_minor": 0
      },
      "text/plain": [
       "  0%|          | 0/102 [00:00<?, ?it/s]"
      ]
     },
     "metadata": {},
     "output_type": "display_data"
    },
    {
     "name": "stderr",
     "output_type": "stream",
     "text": [
      "/home/dmitrii/.cache/pypoetry/virtualenvs/micrlhf-progress-_SD4q1c9-py3.10/lib/python3.10/site-packages/jax/_src/ops/scatter.py:92: FutureWarning:\n",
      "\n",
      "scatter inputs have incompatible types: cannot safely cast value from dtype=float32 to dtype=bfloat16 with jax_numpy_dtype_promotion='standard'. In future JAX releases this will result in an error.\n",
      "\n"
     ]
    },
    {
     "data": {
      "application/vnd.jupyter.widget-view+json": {
       "model_id": "a15bcb4e0c1d4f8cbdd6740a85b72cb1",
       "version_major": 2,
       "version_minor": 0
      },
      "text/plain": [
       "  0%|          | 0/102 [00:00<?, ?it/s]"
      ]
     },
     "metadata": {},
     "output_type": "display_data"
    },
    {
     "name": "stderr",
     "output_type": "stream",
     "text": [
      "/home/dmitrii/.cache/pypoetry/virtualenvs/micrlhf-progress-_SD4q1c9-py3.10/lib/python3.10/site-packages/jax/_src/ops/scatter.py:92: FutureWarning:\n",
      "\n",
      "scatter inputs have incompatible types: cannot safely cast value from dtype=float32 to dtype=bfloat16 with jax_numpy_dtype_promotion='standard'. In future JAX releases this will result in an error.\n",
      "\n"
     ]
    },
    {
     "data": {
      "application/vnd.jupyter.widget-view+json": {
       "model_id": "5332cd5fb55f44308a4e34a1fdee2dde",
       "version_major": 2,
       "version_minor": 0
      },
      "text/plain": [
       "  0%|          | 0/102 [00:00<?, ?it/s]"
      ]
     },
     "metadata": {},
     "output_type": "display_data"
    },
    {
     "name": "stderr",
     "output_type": "stream",
     "text": [
      "/home/dmitrii/.cache/pypoetry/virtualenvs/micrlhf-progress-_SD4q1c9-py3.10/lib/python3.10/site-packages/jax/_src/ops/scatter.py:92: FutureWarning:\n",
      "\n",
      "scatter inputs have incompatible types: cannot safely cast value from dtype=float32 to dtype=bfloat16 with jax_numpy_dtype_promotion='standard'. In future JAX releases this will result in an error.\n",
      "\n"
     ]
    },
    {
     "data": {
      "application/vnd.jupyter.widget-view+json": {
       "model_id": "c36b6c2bbe8b4e3887509bc6ee0785f5",
       "version_major": 2,
       "version_minor": 0
      },
      "text/plain": [
       "  0%|          | 0/102 [00:00<?, ?it/s]"
      ]
     },
     "metadata": {},
     "output_type": "display_data"
    },
    {
     "name": "stderr",
     "output_type": "stream",
     "text": [
      "/home/dmitrii/.cache/pypoetry/virtualenvs/micrlhf-progress-_SD4q1c9-py3.10/lib/python3.10/site-packages/jax/_src/ops/scatter.py:92: FutureWarning:\n",
      "\n",
      "scatter inputs have incompatible types: cannot safely cast value from dtype=float32 to dtype=bfloat16 with jax_numpy_dtype_promotion='standard'. In future JAX releases this will result in an error.\n",
      "\n"
     ]
    },
    {
     "data": {
      "application/vnd.jupyter.widget-view+json": {
       "model_id": "02e100c8e3b44f38ae7b95f48c341c4b",
       "version_major": 2,
       "version_minor": 0
      },
      "text/plain": [
       "  0%|          | 0/102 [00:00<?, ?it/s]"
      ]
     },
     "metadata": {},
     "output_type": "display_data"
    },
    {
     "name": "stderr",
     "output_type": "stream",
     "text": [
      "/home/dmitrii/.cache/pypoetry/virtualenvs/micrlhf-progress-_SD4q1c9-py3.10/lib/python3.10/site-packages/jax/_src/ops/scatter.py:92: FutureWarning:\n",
      "\n",
      "scatter inputs have incompatible types: cannot safely cast value from dtype=float32 to dtype=bfloat16 with jax_numpy_dtype_promotion='standard'. In future JAX releases this will result in an error.\n",
      "\n"
     ]
    },
    {
     "data": {
      "application/vnd.jupyter.widget-view+json": {
       "model_id": "d4fe9d4fbdaa49108726f288b1893999",
       "version_major": 2,
       "version_minor": 0
      },
      "text/plain": [
       "  0%|          | 0/102 [00:00<?, ?it/s]"
      ]
     },
     "metadata": {},
     "output_type": "display_data"
    },
    {
     "name": "stderr",
     "output_type": "stream",
     "text": [
      "/home/dmitrii/.cache/pypoetry/virtualenvs/micrlhf-progress-_SD4q1c9-py3.10/lib/python3.10/site-packages/jax/_src/ops/scatter.py:92: FutureWarning:\n",
      "\n",
      "scatter inputs have incompatible types: cannot safely cast value from dtype=float32 to dtype=bfloat16 with jax_numpy_dtype_promotion='standard'. In future JAX releases this will result in an error.\n",
      "\n"
     ]
    }
   ],
   "source": [
    "import dataclasses\n",
    "from tqdm.auto import tqdm\n",
    "from functools import partial\n",
    "from micrlhf.utils.activation_manipulation import add_vector\n",
    "\n",
    "task_losses_positive = {}\n",
    "\n",
    "n_few_shots, batch_size, max_seq_len = 20, 16, 256\n",
    "seed = 10\n",
    "\n",
    "prompt = \"<start_of_turn>user\\nFollow the pattern:\\n{}\"\n",
    "\n",
    "def make_taker(llama, layer):\n",
    "    taker = jit_wrapper.Jitted(llama.select().at_instances_of(LlamaBlock).apply_with_selected_index(\n",
    "        lambda i, x: x if i >= layer else pz.nn.Identity()\n",
    "    ).select().at_instances_of(pz.nn.EmbeddingLookup).apply(lambda _: pz.nn.Identity())\n",
    "                    .select().at_instances_of(pz.nn.ConstantRescale).pick_nth_selected(0).apply(lambda _: pz.nn.Identity()))\n",
    "\n",
    "    return taker\n",
    "\n",
    "taker = make_taker(llama, layer)\n",
    "\n",
    "for task_name in tqdm(task_names):\n",
    "\n",
    "    sep = 3978\n",
    "    pad = 0\n",
    "\n",
    "\n",
    "    pairs = list(tasks[task_name].items())\n",
    "\n",
    "    n_shot = n_few_shots - 1\n",
    "    if task_name.startswith(\"algo\"):\n",
    "        n_shot = 8\n",
    "\n",
    "    runner = ICLRunner(task_name, pairs, batch_size=batch_size, n_shot=1, max_seq_len=max_seq_len, seed=seed, prompt=prompt)\n",
    "\n",
    "    tokenized = runner.get_tokens([\n",
    "        x[:n_few_shots] for x in runner.train_pairs\n",
    "    ], tokenizer)\n",
    "\n",
    "    inputs = tokenized_to_inputs(**tokenized)\n",
    "    train_tokens = tokenized[\"input_ids\"]\n",
    "\n",
    "    _, all_resids = get_resids_call(inputs)\n",
    "\n",
    "    scale = 60\n",
    "\n",
    "    resids = all_resids[layer].value.unwrap(\"batch\", \"seq\", \"embedding\")\n",
    "\n",
    "    mask = train_tokens == sep\n",
    "    col_indices = jnp.arange(mask.shape[1])\n",
    "    col_indices_broadcasted = mask * col_indices\n",
    "    sorted_indices = jnp.sort(col_indices_broadcasted, axis=1, descending=True)\n",
    "    positions = sorted_indices[:, :1]\n",
    "    \n",
    "    def steer_with_direction(direction):\n",
    "        direction = direction / jnp.linalg.norm(direction)\n",
    "        direction = direction * scale\n",
    "        \n",
    "        modified = jax.vmap(lambda a, b: a.at[b].add(direction))(\n",
    "            resids, positions\n",
    "        )\n",
    "        modified = pz.nx.wrap(modified, \"batch\", \"seq\", \"embedding\")\n",
    "\n",
    "        _inputs = dataclasses.replace(inputs, tokens=modified)\n",
    "        logits = taker(_inputs).unwrap(\"batch\", \"seq\", \"vocabulary\")\n",
    "\n",
    "        return logprob_loss(logits, train_tokens, sep=sep, pad_token=pad, n_first=2)\n",
    "\n",
    "    task_losses_positive[task_name] = [[steer_with_direction(sae[\"W_dec\"][feature]).tolist() for feature in tqdm(features)]]\n",
    "\n",
    "    logits = llama(inputs)\n",
    "\n",
    "    logits = logits.unwrap(\"batch\", \"seq\", \"vocabulary\")\n",
    "\n",
    "    task_losses_positive[task_name].append(logprob_loss(logits, train_tokens, sep=sep, pad_token=pad, n_first=2).tolist())"
   ]
  },
  {
   "cell_type": "code",
   "execution_count": 115,
   "metadata": {},
   "outputs": [
    {
     "data": {
      "application/vnd.jupyter.widget-view+json": {
       "model_id": "7e90347a9a56423fa878101b68cc6b87",
       "version_major": 2,
       "version_minor": 0
      },
      "text/plain": [
       "  0%|          | 0/23 [00:00<?, ?it/s]"
      ]
     },
     "metadata": {},
     "output_type": "display_data"
    },
    {
     "data": {
      "application/vnd.jupyter.widget-view+json": {
       "model_id": "2f1ae4e31bdf45fabab8fe6bc5a38f93",
       "version_major": 2,
       "version_minor": 0
      },
      "text/plain": [
       "  0%|          | 0/102 [00:00<?, ?it/s]"
      ]
     },
     "metadata": {},
     "output_type": "display_data"
    },
    {
     "name": "stderr",
     "output_type": "stream",
     "text": [
      "/home/dmitrii/.cache/pypoetry/virtualenvs/micrlhf-progress-_SD4q1c9-py3.10/lib/python3.10/site-packages/jax/_src/ops/scatter.py:92: FutureWarning:\n",
      "\n",
      "scatter inputs have incompatible types: cannot safely cast value from dtype=float32 to dtype=bfloat16 with jax_numpy_dtype_promotion='standard'. In future JAX releases this will result in an error.\n",
      "\n"
     ]
    },
    {
     "ename": "KeyboardInterrupt",
     "evalue": "",
     "output_type": "error",
     "traceback": [
      "\u001b[0;31m---------------------------------------------------------------------------\u001b[0m",
      "\u001b[0;31mKeyboardInterrupt\u001b[0m                         Traceback (most recent call last)",
      "Cell \u001b[0;32mIn[115], line 93\u001b[0m\n\u001b[1;32m     89\u001b[0m     acc \u001b[38;5;241m=\u001b[39m calc_acc(train_tokens, sep, logits, runner)\n\u001b[1;32m     91\u001b[0m     \u001b[38;5;28;01mreturn\u001b[39;00m logprob_loss(logits, train_tokens, sep\u001b[38;5;241m=\u001b[39msep, pad_token\u001b[38;5;241m=\u001b[39mpad, n_first\u001b[38;5;241m=\u001b[39m\u001b[38;5;241m2\u001b[39m), acc\n\u001b[0;32m---> 93\u001b[0m negative_task_losses[task_name] \u001b[38;5;241m=\u001b[39m [[steer_with_direction(\u001b[38;5;241m-\u001b[39msae[\u001b[38;5;124m\"\u001b[39m\u001b[38;5;124mW_dec\u001b[39m\u001b[38;5;124m\"\u001b[39m][feature]) \u001b[38;5;28;01mfor\u001b[39;00m feature \u001b[38;5;129;01min\u001b[39;00m tqdm(features)]]\n\u001b[1;32m     95\u001b[0m logits \u001b[38;5;241m=\u001b[39m llama(inputs)\n\u001b[1;32m     97\u001b[0m logits \u001b[38;5;241m=\u001b[39m logits\u001b[38;5;241m.\u001b[39munwrap(\u001b[38;5;124m\"\u001b[39m\u001b[38;5;124mbatch\u001b[39m\u001b[38;5;124m\"\u001b[39m, \u001b[38;5;124m\"\u001b[39m\u001b[38;5;124mseq\u001b[39m\u001b[38;5;124m\"\u001b[39m, \u001b[38;5;124m\"\u001b[39m\u001b[38;5;124mvocabulary\u001b[39m\u001b[38;5;124m\"\u001b[39m)\n",
      "Cell \u001b[0;32mIn[115], line 93\u001b[0m, in \u001b[0;36m<listcomp>\u001b[0;34m(.0)\u001b[0m\n\u001b[1;32m     89\u001b[0m     acc \u001b[38;5;241m=\u001b[39m calc_acc(train_tokens, sep, logits, runner)\n\u001b[1;32m     91\u001b[0m     \u001b[38;5;28;01mreturn\u001b[39;00m logprob_loss(logits, train_tokens, sep\u001b[38;5;241m=\u001b[39msep, pad_token\u001b[38;5;241m=\u001b[39mpad, n_first\u001b[38;5;241m=\u001b[39m\u001b[38;5;241m2\u001b[39m), acc\n\u001b[0;32m---> 93\u001b[0m negative_task_losses[task_name] \u001b[38;5;241m=\u001b[39m [[\u001b[43msteer_with_direction\u001b[49m\u001b[43m(\u001b[49m\u001b[38;5;241;43m-\u001b[39;49m\u001b[43msae\u001b[49m\u001b[43m[\u001b[49m\u001b[38;5;124;43m\"\u001b[39;49m\u001b[38;5;124;43mW_dec\u001b[39;49m\u001b[38;5;124;43m\"\u001b[39;49m\u001b[43m]\u001b[49m\u001b[43m[\u001b[49m\u001b[43mfeature\u001b[49m\u001b[43m]\u001b[49m\u001b[43m)\u001b[49m \u001b[38;5;28;01mfor\u001b[39;00m feature \u001b[38;5;129;01min\u001b[39;00m tqdm(features)]]\n\u001b[1;32m     95\u001b[0m logits \u001b[38;5;241m=\u001b[39m llama(inputs)\n\u001b[1;32m     97\u001b[0m logits \u001b[38;5;241m=\u001b[39m logits\u001b[38;5;241m.\u001b[39munwrap(\u001b[38;5;124m\"\u001b[39m\u001b[38;5;124mbatch\u001b[39m\u001b[38;5;124m\"\u001b[39m, \u001b[38;5;124m\"\u001b[39m\u001b[38;5;124mseq\u001b[39m\u001b[38;5;124m\"\u001b[39m, \u001b[38;5;124m\"\u001b[39m\u001b[38;5;124mvocabulary\u001b[39m\u001b[38;5;124m\"\u001b[39m)\n",
      "Cell \u001b[0;32mIn[115], line 89\u001b[0m, in \u001b[0;36msteer_with_direction\u001b[0;34m(direction)\u001b[0m\n\u001b[1;32m     86\u001b[0m _inputs \u001b[38;5;241m=\u001b[39m dataclasses\u001b[38;5;241m.\u001b[39mreplace(inputs, tokens\u001b[38;5;241m=\u001b[39mmodified)\n\u001b[1;32m     87\u001b[0m logits \u001b[38;5;241m=\u001b[39m taker(_inputs)\u001b[38;5;241m.\u001b[39munwrap(\u001b[38;5;124m\"\u001b[39m\u001b[38;5;124mbatch\u001b[39m\u001b[38;5;124m\"\u001b[39m, \u001b[38;5;124m\"\u001b[39m\u001b[38;5;124mseq\u001b[39m\u001b[38;5;124m\"\u001b[39m, \u001b[38;5;124m\"\u001b[39m\u001b[38;5;124mvocabulary\u001b[39m\u001b[38;5;124m\"\u001b[39m)\n\u001b[0;32m---> 89\u001b[0m acc \u001b[38;5;241m=\u001b[39m \u001b[43mcalc_acc\u001b[49m\u001b[43m(\u001b[49m\u001b[43mtrain_tokens\u001b[49m\u001b[43m,\u001b[49m\u001b[43m \u001b[49m\u001b[43msep\u001b[49m\u001b[43m,\u001b[49m\u001b[43m \u001b[49m\u001b[43mlogits\u001b[49m\u001b[43m,\u001b[49m\u001b[43m \u001b[49m\u001b[43mrunner\u001b[49m\u001b[43m)\u001b[49m\n\u001b[1;32m     91\u001b[0m \u001b[38;5;28;01mreturn\u001b[39;00m logprob_loss(logits, train_tokens, sep\u001b[38;5;241m=\u001b[39msep, pad_token\u001b[38;5;241m=\u001b[39mpad, n_first\u001b[38;5;241m=\u001b[39m\u001b[38;5;241m2\u001b[39m), acc\n",
      "Cell \u001b[0;32mIn[115], line 26\u001b[0m, in \u001b[0;36mcalc_acc\u001b[0;34m(tokens, sep, logits, runner)\u001b[0m\n\u001b[1;32m     24\u001b[0m     l \u001b[38;5;241m=\u001b[39m l\u001b[38;5;241m.\u001b[39margmax(\u001b[38;5;241m-\u001b[39m\u001b[38;5;241m1\u001b[39m)\n\u001b[1;32m     25\u001b[0m     tgt \u001b[38;5;241m=\u001b[39m runner\u001b[38;5;241m.\u001b[39meval_pairs[i][\u001b[38;5;241m-\u001b[39m\u001b[38;5;241m1\u001b[39m][\u001b[38;5;241m1\u001b[39m]\n\u001b[0;32m---> 26\u001b[0m     hits \u001b[38;5;241m+\u001b[39m\u001b[38;5;241m=\u001b[39m \u001b[38;5;28mint\u001b[39m(tgt \u001b[38;5;129;01min\u001b[39;00m \u001b[38;5;28mrepr\u001b[39m(\u001b[43mtokenizer\u001b[49m\u001b[38;5;241;43m.\u001b[39;49m\u001b[43mdecode\u001b[49m\u001b[43m(\u001b[49m\u001b[43ml\u001b[49m\u001b[43m[\u001b[49m\u001b[43map\u001b[49m\u001b[43m:\u001b[49m\u001b[43map\u001b[49m\u001b[38;5;241;43m+\u001b[39;49m\u001b[38;5;241;43m3\u001b[39;49m\u001b[43m]\u001b[49m\u001b[43m)\u001b[49m))\n\u001b[1;32m     27\u001b[0m \u001b[38;5;28;01mreturn\u001b[39;00m hits \u001b[38;5;241m/\u001b[39m runner\u001b[38;5;241m.\u001b[39meval_batch_size\n",
      "File \u001b[0;32m~/.cache/pypoetry/virtualenvs/micrlhf-progress-_SD4q1c9-py3.10/lib/python3.10/site-packages/transformers/tokenization_utils_base.py:4034\u001b[0m, in \u001b[0;36mPreTrainedTokenizerBase.decode\u001b[0;34m(self, token_ids, skip_special_tokens, clean_up_tokenization_spaces, **kwargs)\u001b[0m\n\u001b[1;32m   4031\u001b[0m \u001b[38;5;66;03m# Convert inputs to python lists\u001b[39;00m\n\u001b[1;32m   4032\u001b[0m token_ids \u001b[38;5;241m=\u001b[39m to_py_obj(token_ids)\n\u001b[0;32m-> 4034\u001b[0m \u001b[38;5;28;01mreturn\u001b[39;00m \u001b[38;5;28;43mself\u001b[39;49m\u001b[38;5;241;43m.\u001b[39;49m\u001b[43m_decode\u001b[49m\u001b[43m(\u001b[49m\n\u001b[1;32m   4035\u001b[0m \u001b[43m    \u001b[49m\u001b[43mtoken_ids\u001b[49m\u001b[38;5;241;43m=\u001b[39;49m\u001b[43mtoken_ids\u001b[49m\u001b[43m,\u001b[49m\n\u001b[1;32m   4036\u001b[0m \u001b[43m    \u001b[49m\u001b[43mskip_special_tokens\u001b[49m\u001b[38;5;241;43m=\u001b[39;49m\u001b[43mskip_special_tokens\u001b[49m\u001b[43m,\u001b[49m\n\u001b[1;32m   4037\u001b[0m \u001b[43m    \u001b[49m\u001b[43mclean_up_tokenization_spaces\u001b[49m\u001b[38;5;241;43m=\u001b[39;49m\u001b[43mclean_up_tokenization_spaces\u001b[49m\u001b[43m,\u001b[49m\n\u001b[1;32m   4038\u001b[0m \u001b[43m    \u001b[49m\u001b[38;5;241;43m*\u001b[39;49m\u001b[38;5;241;43m*\u001b[39;49m\u001b[43mkwargs\u001b[49m\u001b[43m,\u001b[49m\n\u001b[1;32m   4039\u001b[0m \u001b[43m\u001b[49m\u001b[43m)\u001b[49m\n",
      "File \u001b[0;32m~/.cache/pypoetry/virtualenvs/micrlhf-progress-_SD4q1c9-py3.10/lib/python3.10/site-packages/transformers/tokenization_utils_fast.py:651\u001b[0m, in \u001b[0;36mPreTrainedTokenizerFast._decode\u001b[0;34m(self, token_ids, skip_special_tokens, clean_up_tokenization_spaces, **kwargs)\u001b[0m\n\u001b[1;32m    649\u001b[0m \u001b[38;5;28;01mif\u001b[39;00m \u001b[38;5;28misinstance\u001b[39m(token_ids, \u001b[38;5;28mint\u001b[39m):\n\u001b[1;32m    650\u001b[0m     token_ids \u001b[38;5;241m=\u001b[39m [token_ids]\n\u001b[0;32m--> 651\u001b[0m text \u001b[38;5;241m=\u001b[39m \u001b[38;5;28;43mself\u001b[39;49m\u001b[38;5;241;43m.\u001b[39;49m\u001b[43m_tokenizer\u001b[49m\u001b[38;5;241;43m.\u001b[39;49m\u001b[43mdecode\u001b[49m\u001b[43m(\u001b[49m\u001b[43mtoken_ids\u001b[49m\u001b[43m,\u001b[49m\u001b[43m \u001b[49m\u001b[43mskip_special_tokens\u001b[49m\u001b[38;5;241;43m=\u001b[39;49m\u001b[43mskip_special_tokens\u001b[49m\u001b[43m)\u001b[49m\n\u001b[1;32m    653\u001b[0m clean_up_tokenization_spaces \u001b[38;5;241m=\u001b[39m (\n\u001b[1;32m    654\u001b[0m     clean_up_tokenization_spaces\n\u001b[1;32m    655\u001b[0m     \u001b[38;5;28;01mif\u001b[39;00m clean_up_tokenization_spaces \u001b[38;5;129;01mis\u001b[39;00m \u001b[38;5;129;01mnot\u001b[39;00m \u001b[38;5;28;01mNone\u001b[39;00m\n\u001b[1;32m    656\u001b[0m     \u001b[38;5;28;01melse\u001b[39;00m \u001b[38;5;28mself\u001b[39m\u001b[38;5;241m.\u001b[39mclean_up_tokenization_spaces\n\u001b[1;32m    657\u001b[0m )\n\u001b[1;32m    658\u001b[0m \u001b[38;5;28;01mif\u001b[39;00m clean_up_tokenization_spaces:\n",
      "File \u001b[0;32m~/.cache/pypoetry/virtualenvs/micrlhf-progress-_SD4q1c9-py3.10/lib/python3.10/site-packages/jax/_src/array.py:303\u001b[0m, in \u001b[0;36mArrayImpl.__index__\u001b[0;34m(self)\u001b[0m\n\u001b[1;32m    301\u001b[0m \u001b[38;5;28;01mdef\u001b[39;00m \u001b[38;5;21m__index__\u001b[39m(\u001b[38;5;28mself\u001b[39m):\n\u001b[1;32m    302\u001b[0m   core\u001b[38;5;241m.\u001b[39mcheck_integer_conversion(\u001b[38;5;28mself\u001b[39m)\n\u001b[0;32m--> 303\u001b[0m   \u001b[38;5;28;01mreturn\u001b[39;00m op\u001b[38;5;241m.\u001b[39mindex(\u001b[38;5;28;43mself\u001b[39;49m\u001b[38;5;241;43m.\u001b[39;49m\u001b[43m_value\u001b[49m)\n",
      "File \u001b[0;32m~/.cache/pypoetry/virtualenvs/micrlhf-progress-_SD4q1c9-py3.10/lib/python3.10/site-packages/jax/_src/profiler.py:336\u001b[0m, in \u001b[0;36mannotate_function.<locals>.wrapper\u001b[0;34m(*args, **kwargs)\u001b[0m\n\u001b[1;32m    333\u001b[0m \u001b[38;5;129m@wraps\u001b[39m(func)\n\u001b[1;32m    334\u001b[0m \u001b[38;5;28;01mdef\u001b[39;00m \u001b[38;5;21mwrapper\u001b[39m(\u001b[38;5;241m*\u001b[39margs, \u001b[38;5;241m*\u001b[39m\u001b[38;5;241m*\u001b[39mkwargs):\n\u001b[1;32m    335\u001b[0m   \u001b[38;5;28;01mwith\u001b[39;00m TraceAnnotation(name, \u001b[38;5;241m*\u001b[39m\u001b[38;5;241m*\u001b[39mdecorator_kwargs):\n\u001b[0;32m--> 336\u001b[0m     \u001b[38;5;28;01mreturn\u001b[39;00m \u001b[43mfunc\u001b[49m\u001b[43m(\u001b[49m\u001b[38;5;241;43m*\u001b[39;49m\u001b[43margs\u001b[49m\u001b[43m,\u001b[49m\u001b[43m \u001b[49m\u001b[38;5;241;43m*\u001b[39;49m\u001b[38;5;241;43m*\u001b[39;49m\u001b[43mkwargs\u001b[49m\u001b[43m)\u001b[49m\n\u001b[1;32m    337\u001b[0m   \u001b[38;5;28;01mreturn\u001b[39;00m wrapper\n",
      "File \u001b[0;32m~/.cache/pypoetry/virtualenvs/micrlhf-progress-_SD4q1c9-py3.10/lib/python3.10/site-packages/jax/_src/array.py:613\u001b[0m, in \u001b[0;36mArrayImpl._value\u001b[0;34m(self)\u001b[0m\n\u001b[1;32m    611\u001b[0m \u001b[38;5;28;01mif\u001b[39;00m \u001b[38;5;28mself\u001b[39m\u001b[38;5;241m.\u001b[39m_npy_value \u001b[38;5;129;01mis\u001b[39;00m \u001b[38;5;28;01mNone\u001b[39;00m:\n\u001b[1;32m    612\u001b[0m   \u001b[38;5;28;01mif\u001b[39;00m \u001b[38;5;28mself\u001b[39m\u001b[38;5;241m.\u001b[39mis_fully_replicated:\n\u001b[0;32m--> 613\u001b[0m     \u001b[38;5;28mself\u001b[39m\u001b[38;5;241m.\u001b[39m_npy_value \u001b[38;5;241m=\u001b[39m \u001b[38;5;28;43mself\u001b[39;49m\u001b[38;5;241;43m.\u001b[39;49m\u001b[43m_single_device_array_to_np_array\u001b[49m\u001b[43m(\u001b[49m\u001b[43m)\u001b[49m\n\u001b[1;32m    614\u001b[0m     \u001b[38;5;28mself\u001b[39m\u001b[38;5;241m.\u001b[39m_npy_value\u001b[38;5;241m.\u001b[39mflags\u001b[38;5;241m.\u001b[39mwriteable \u001b[38;5;241m=\u001b[39m \u001b[38;5;28;01mFalse\u001b[39;00m\n\u001b[1;32m    615\u001b[0m     \u001b[38;5;28;01mreturn\u001b[39;00m cast(np\u001b[38;5;241m.\u001b[39mndarray, \u001b[38;5;28mself\u001b[39m\u001b[38;5;241m.\u001b[39m_npy_value)\n",
      "\u001b[0;31mKeyboardInterrupt\u001b[0m: "
     ]
    }
   ],
   "source": [
    "import dataclasses\n",
    "from tqdm.auto import tqdm\n",
    "from functools import partial\n",
    "from micrlhf.utils.activation_manipulation import add_vector\n",
    "\n",
    "negative_task_losses = {}\n",
    "\n",
    "n_few_shots, batch_size, max_seq_len = 20, 16, 256\n",
    "seed = 10\n",
    "\n",
    "prompt = \"<start_of_turn>user\\nFollow the pattern:\\n{}\"\n",
    "\n",
    "def calc_acc(tokens, sep, logits, runner):\n",
    "    arrow_pos = jnp.nonzero(tokens == sep)\n",
    "    arrow_pos_single = []\n",
    "    for i in range(batch_size):\n",
    "        arrow_pos_single.append(arrow_pos[1][arrow_pos[0] == i].max())\n",
    "\n",
    "    arrow_pos_single = np.array(arrow_pos_single)\n",
    "\n",
    "    hits = 0\n",
    "\n",
    "    for i, (ap, l) in enumerate(zip(arrow_pos_single, logits)):\n",
    "        l = l.argmax(-1)\n",
    "        tgt = runner.eval_pairs[i][-1][1]\n",
    "        hits += int(tgt in repr(tokenizer.decode(l[ap:ap+3])))\n",
    "    return hits / runner.eval_batch_size\n",
    "\n",
    "def calc_acc(tokens, sep, logits, runner):\n",
    "    logits = logits.argmax(-1)\n",
    "    logits = logits[:, :-1]\n",
    "    tokens = tokens[:, 1:]\n",
    "\n",
    "    mask = tokens == sep\n",
    "\n",
    "    hits = tokens == logits\n",
    "\n",
    "    hits = hits * mask\n",
    "\n",
    "    hits = hits.sum()\n",
    "    return hits / mask.sum()\n",
    "\n",
    "\n",
    "\n",
    "\n",
    "def make_taker(llama, layer):\n",
    "    taker = jit_wrapper.Jitted(llama.select().at_instances_of(LlamaBlock).apply_with_selected_index(\n",
    "        lambda i, x: x if i >= layer else pz.nn.Identity()\n",
    "    ).select().at_instances_of(pz.nn.EmbeddingLookup).apply(lambda _: pz.nn.Identity())\n",
    "                    .select().at_instances_of(pz.nn.ConstantRescale).pick_nth_selected(0).apply(lambda _: pz.nn.Identity()))\n",
    "\n",
    "    return taker\n",
    "\n",
    "taker = make_taker(llama, layer)\n",
    "\n",
    "for task_name in tqdm(task_names):\n",
    "\n",
    "    sep = 3978\n",
    "    pad = 0\n",
    "\n",
    "\n",
    "    pairs = list(tasks[task_name].items())\n",
    "\n",
    "    n_shot = n_few_shots - 1\n",
    "    if task_name.startswith(\"algo\"):\n",
    "        n_shot = 16\n",
    "\n",
    "    runner = ICLRunner(task_name, pairs, batch_size=batch_size, n_shot=n_shot, max_seq_len=max_seq_len, seed=seed, prompt=prompt)\n",
    "\n",
    "    tokenized = runner.get_tokens([\n",
    "        x[:n_few_shots] for x in runner.train_pairs\n",
    "    ], tokenizer)\n",
    "\n",
    "    inputs = tokenized_to_inputs(**tokenized)\n",
    "    train_tokens = tokenized[\"input_ids\"]\n",
    "\n",
    "    _, all_resids = get_resids_call(inputs)\n",
    "\n",
    "    scale = 200\n",
    "\n",
    "    resids = all_resids[layer].value.unwrap(\"batch\", \"seq\", \"embedding\")\n",
    "\n",
    "    mask = train_tokens == sep\n",
    "    col_indices = jnp.arange(mask.shape[1])\n",
    "    col_indices_broadcasted = mask * col_indices\n",
    "    sorted_indices = jnp.sort(col_indices_broadcasted, axis=1, descending=True)\n",
    "\n",
    "    k = jnp.sum(mask[0]).astype(int)\n",
    "\n",
    "    positions = sorted_indices[:, :k]\n",
    "    \n",
    "    def steer_with_direction(direction):\n",
    "        direction = direction / jnp.linalg.norm(direction)\n",
    "        direction = direction * scale\n",
    "        \n",
    "        modified = jax.vmap(lambda a, b: a.at[b].add(direction))(\n",
    "            resids, positions\n",
    "        )\n",
    "        modified = pz.nx.wrap(modified, \"batch\", \"seq\", \"embedding\")\n",
    "\n",
    "        _inputs = dataclasses.replace(inputs, tokens=modified)\n",
    "        logits = taker(_inputs).unwrap(\"batch\", \"seq\", \"vocabulary\")\n",
    "\n",
    "        acc = calc_acc(train_tokens, sep, logits, runner)\n",
    "\n",
    "        return logprob_loss(logits, train_tokens, sep=sep, pad_token=pad, n_first=2), acc\n",
    "\n",
    "    negative_task_losses[task_name] = [[steer_with_direction(-sae[\"W_dec\"][feature]) for feature in tqdm(features)]]\n",
    "\n",
    "    logits = llama(inputs)\n",
    "\n",
    "    logits = logits.unwrap(\"batch\", \"seq\", \"vocabulary\")\n",
    "\n",
    "    negative_task_losses[task_name].append((logprob_loss(logits, train_tokens, sep=sep, pad_token=pad, n_first=2), acc))"
   ]
  },
  {
   "cell_type": "code",
   "execution_count": 34,
   "metadata": {},
   "outputs": [
    {
     "data": {
      "application/vnd.jupyter.widget-view+json": {
       "model_id": "7542ee6de8b24580b16e6ab70aa25c58",
       "version_major": 2,
       "version_minor": 0
      },
      "text/plain": [
       "  0%|          | 0/4 [00:00<?, ?it/s]"
      ]
     },
     "metadata": {},
     "output_type": "display_data"
    },
    {
     "data": {
      "application/vnd.jupyter.widget-view+json": {
       "model_id": "48eb73ab499344558335d18d1e32b9e3",
       "version_major": 2,
       "version_minor": 0
      },
      "text/plain": [
       "  0%|          | 0/60 [00:00<?, ?it/s]"
      ]
     },
     "metadata": {},
     "output_type": "display_data"
    },
    {
     "name": "stderr",
     "output_type": "stream",
     "text": [
      "/home/dmitrii/.cache/pypoetry/virtualenvs/micrlhf-progress-_SD4q1c9-py3.10/lib/python3.10/site-packages/jax/_src/ops/scatter.py:92: FutureWarning:\n",
      "\n",
      "scatter inputs have incompatible types: cannot safely cast value from dtype=float32 to dtype=bfloat16 with jax_numpy_dtype_promotion='standard'. In future JAX releases this will result in an error.\n",
      "\n"
     ]
    },
    {
     "data": {
      "application/vnd.jupyter.widget-view+json": {
       "model_id": "415d2e52208d44d7af84a525124d4ab7",
       "version_major": 2,
       "version_minor": 0
      },
      "text/plain": [
       "  0%|          | 0/60 [00:00<?, ?it/s]"
      ]
     },
     "metadata": {},
     "output_type": "display_data"
    },
    {
     "name": "stderr",
     "output_type": "stream",
     "text": [
      "/home/dmitrii/.cache/pypoetry/virtualenvs/micrlhf-progress-_SD4q1c9-py3.10/lib/python3.10/site-packages/jax/_src/ops/scatter.py:92: FutureWarning:\n",
      "\n",
      "scatter inputs have incompatible types: cannot safely cast value from dtype=float32 to dtype=bfloat16 with jax_numpy_dtype_promotion='standard'. In future JAX releases this will result in an error.\n",
      "\n"
     ]
    },
    {
     "data": {
      "application/vnd.jupyter.widget-view+json": {
       "model_id": "2d4400d8b0d04331acd5365beed7affc",
       "version_major": 2,
       "version_minor": 0
      },
      "text/plain": [
       "  0%|          | 0/60 [00:00<?, ?it/s]"
      ]
     },
     "metadata": {},
     "output_type": "display_data"
    },
    {
     "name": "stderr",
     "output_type": "stream",
     "text": [
      "/home/dmitrii/.cache/pypoetry/virtualenvs/micrlhf-progress-_SD4q1c9-py3.10/lib/python3.10/site-packages/jax/_src/ops/scatter.py:92: FutureWarning:\n",
      "\n",
      "scatter inputs have incompatible types: cannot safely cast value from dtype=float32 to dtype=bfloat16 with jax_numpy_dtype_promotion='standard'. In future JAX releases this will result in an error.\n",
      "\n"
     ]
    },
    {
     "data": {
      "application/vnd.jupyter.widget-view+json": {
       "model_id": "79a79634a7e24a9e943d38c58ee166d0",
       "version_major": 2,
       "version_minor": 0
      },
      "text/plain": [
       "  0%|          | 0/60 [00:00<?, ?it/s]"
      ]
     },
     "metadata": {},
     "output_type": "display_data"
    },
    {
     "name": "stderr",
     "output_type": "stream",
     "text": [
      "/home/dmitrii/.cache/pypoetry/virtualenvs/micrlhf-progress-_SD4q1c9-py3.10/lib/python3.10/site-packages/jax/_src/ops/scatter.py:92: FutureWarning:\n",
      "\n",
      "scatter inputs have incompatible types: cannot safely cast value from dtype=float32 to dtype=bfloat16 with jax_numpy_dtype_promotion='standard'. In future JAX releases this will result in an error.\n",
      "\n"
     ]
    },
    {
     "data": {
      "application/vnd.jupyter.widget-view+json": {
       "model_id": "3b2d980b23184563be7ab057a7f141af",
       "version_major": 2,
       "version_minor": 0
      },
      "text/plain": [
       "  0%|          | 0/60 [00:00<?, ?it/s]"
      ]
     },
     "metadata": {},
     "output_type": "display_data"
    },
    {
     "name": "stderr",
     "output_type": "stream",
     "text": [
      "/home/dmitrii/.cache/pypoetry/virtualenvs/micrlhf-progress-_SD4q1c9-py3.10/lib/python3.10/site-packages/jax/_src/ops/scatter.py:92: FutureWarning:\n",
      "\n",
      "scatter inputs have incompatible types: cannot safely cast value from dtype=float32 to dtype=bfloat16 with jax_numpy_dtype_promotion='standard'. In future JAX releases this will result in an error.\n",
      "\n"
     ]
    }
   ],
   "source": [
    "import dataclasses\n",
    "from tqdm.auto import tqdm\n",
    "from functools import partial\n",
    "from micrlhf.utils.activation_manipulation import add_vector\n",
    "from collections import defaultdict\n",
    "\n",
    "task_losses = defaultdict(dict)\n",
    "\n",
    "n_few_shots, batch_size, max_seq_len = 20, 16, 256\n",
    "seed = 10\n",
    "\n",
    "prompt = \"<start_of_turn>user\\nFollow the pattern:\\n{}\"\n",
    "\n",
    "def make_taker(llama, layer):\n",
    "    taker = jit_wrapper.Jitted(llama.select().at_instances_of(LlamaBlock).apply_with_selected_index(\n",
    "        lambda i, x: x if i >= layer else pz.nn.Identity()\n",
    "    ).select().at_instances_of(pz.nn.EmbeddingLookup).apply(lambda _: pz.nn.Identity())\n",
    "                    .select().at_instances_of(pz.nn.ConstantRescale).pick_nth_selected(0).apply(lambda _: pz.nn.Identity()))\n",
    "\n",
    "    return taker\n",
    "\n",
    "taker = make_taker(llama, layer)\n",
    "\n",
    "task_features = {\n",
    "    \"antonyms\": [50800], \n",
    "    \"en_es\": [3608, 8300],\n",
    "    \"country_capital\": [6417],\n",
    "    \"present_simple_past_simple\": [47899]\n",
    "}\n",
    "\n",
    "for task_name in tqdm([\"antonyms\", \"en_es\", \"country_capital\", \"present_simple_past_simple\"]):\n",
    "    for feature in task_features[task_name]:\n",
    "        sep = 3978\n",
    "        pad = 0\n",
    "\n",
    "\n",
    "        pairs = list(tasks[task_name].items())\n",
    "\n",
    "        n_shot = n_few_shots - 1\n",
    "        if task_name.startswith(\"algo\"):\n",
    "            n_shot = 8\n",
    "\n",
    "        runner = ICLRunner(task_name, pairs, batch_size=batch_size, n_shot=1, max_seq_len=max_seq_len, seed=seed, prompt=prompt)\n",
    "\n",
    "        tokenized = runner.get_tokens([\n",
    "            x[:n_few_shots] for x in runner.train_pairs\n",
    "        ], tokenizer)\n",
    "\n",
    "        inputs = tokenized_to_inputs(**tokenized)\n",
    "        train_tokens = tokenized[\"input_ids\"]\n",
    "\n",
    "        _, all_resids = get_resids_call(inputs)\n",
    "\n",
    "        resids = all_resids[layer].value.unwrap(\"batch\", \"seq\", \"embedding\")\n",
    "\n",
    "        mask = train_tokens == sep\n",
    "        col_indices = jnp.arange(mask.shape[1])\n",
    "        col_indices_broadcasted = mask * col_indices\n",
    "        sorted_indices = jnp.sort(col_indices_broadcasted, axis=1, descending=True)\n",
    "        positions = sorted_indices[:, :1]\n",
    "        \n",
    "        def steer_with_direction(direction, scale):\n",
    "            direction = direction / jnp.linalg.norm(direction)\n",
    "            direction = direction * scale\n",
    "            \n",
    "            modified = jax.vmap(lambda a, b: a.at[b].add(direction))(\n",
    "                resids, positions\n",
    "            )\n",
    "            modified = pz.nx.wrap(modified, \"batch\", \"seq\", \"embedding\")\n",
    "\n",
    "            _inputs = dataclasses.replace(inputs, tokens=modified)\n",
    "            logits = taker(_inputs).unwrap(\"batch\", \"seq\", \"vocabulary\")\n",
    "\n",
    "            return logprob_loss(logits, train_tokens, sep=sep, pad_token=pad, n_first=2)\n",
    "\n",
    "        \n",
    "\n",
    "        task_losses[task_name][feature] = [[steer_with_direction(sae[\"W_dec\"][feature], scale).tolist() for scale in tqdm(np.logspace(0, 2, 60))]]\n",
    "\n",
    "        logits = llama(inputs)\n",
    "\n",
    "        logits = logits.unwrap(\"batch\", \"seq\", \"vocabulary\")\n",
    "\n",
    "        task_losses[task_name][feature].append(logprob_loss(logits, train_tokens, sep=sep, pad_token=pad, n_first=2).tolist())"
   ]
  },
  {
   "cell_type": "code",
   "execution_count": 82,
   "metadata": {},
   "outputs": [
    {
     "data": {
      "application/vnd.jupyter.widget-view+json": {
       "model_id": "17abdfb49ae441e49b96b5004737900a",
       "version_major": 2,
       "version_minor": 0
      },
      "text/plain": [
       "  0%|          | 0/4 [00:00<?, ?it/s]"
      ]
     },
     "metadata": {},
     "output_type": "display_data"
    },
    {
     "data": {
      "application/vnd.jupyter.widget-view+json": {
       "model_id": "a184c4bfc52543d0a5e226242ebfc37c",
       "version_major": 2,
       "version_minor": 0
      },
      "text/plain": [
       "  0%|          | 0/60 [00:00<?, ?it/s]"
      ]
     },
     "metadata": {},
     "output_type": "display_data"
    },
    {
     "name": "stderr",
     "output_type": "stream",
     "text": [
      "/home/dmitrii/.cache/pypoetry/virtualenvs/micrlhf-progress-_SD4q1c9-py3.10/lib/python3.10/site-packages/jax/_src/ops/scatter.py:92: FutureWarning:\n",
      "\n",
      "scatter inputs have incompatible types: cannot safely cast value from dtype=float32 to dtype=bfloat16 with jax_numpy_dtype_promotion='standard'. In future JAX releases this will result in an error.\n",
      "\n"
     ]
    },
    {
     "data": {
      "application/vnd.jupyter.widget-view+json": {
       "model_id": "cbb6fadaaba54121a0a9041e9de607bb",
       "version_major": 2,
       "version_minor": 0
      },
      "text/plain": [
       "  0%|          | 0/60 [00:00<?, ?it/s]"
      ]
     },
     "metadata": {},
     "output_type": "display_data"
    },
    {
     "name": "stderr",
     "output_type": "stream",
     "text": [
      "/home/dmitrii/.cache/pypoetry/virtualenvs/micrlhf-progress-_SD4q1c9-py3.10/lib/python3.10/site-packages/jax/_src/ops/scatter.py:92: FutureWarning:\n",
      "\n",
      "scatter inputs have incompatible types: cannot safely cast value from dtype=float32 to dtype=bfloat16 with jax_numpy_dtype_promotion='standard'. In future JAX releases this will result in an error.\n",
      "\n"
     ]
    },
    {
     "data": {
      "application/vnd.jupyter.widget-view+json": {
       "model_id": "2e7a96419db6451b975350e3a47db3c6",
       "version_major": 2,
       "version_minor": 0
      },
      "text/plain": [
       "  0%|          | 0/60 [00:00<?, ?it/s]"
      ]
     },
     "metadata": {},
     "output_type": "display_data"
    },
    {
     "name": "stderr",
     "output_type": "stream",
     "text": [
      "/home/dmitrii/.cache/pypoetry/virtualenvs/micrlhf-progress-_SD4q1c9-py3.10/lib/python3.10/site-packages/jax/_src/ops/scatter.py:92: FutureWarning:\n",
      "\n",
      "scatter inputs have incompatible types: cannot safely cast value from dtype=float32 to dtype=bfloat16 with jax_numpy_dtype_promotion='standard'. In future JAX releases this will result in an error.\n",
      "\n"
     ]
    },
    {
     "data": {
      "application/vnd.jupyter.widget-view+json": {
       "model_id": "4d81d2fd82bd4b23807fbb17e71f3b98",
       "version_major": 2,
       "version_minor": 0
      },
      "text/plain": [
       "  0%|          | 0/60 [00:00<?, ?it/s]"
      ]
     },
     "metadata": {},
     "output_type": "display_data"
    },
    {
     "name": "stderr",
     "output_type": "stream",
     "text": [
      "/home/dmitrii/.cache/pypoetry/virtualenvs/micrlhf-progress-_SD4q1c9-py3.10/lib/python3.10/site-packages/jax/_src/ops/scatter.py:92: FutureWarning:\n",
      "\n",
      "scatter inputs have incompatible types: cannot safely cast value from dtype=float32 to dtype=bfloat16 with jax_numpy_dtype_promotion='standard'. In future JAX releases this will result in an error.\n",
      "\n"
     ]
    },
    {
     "data": {
      "application/vnd.jupyter.widget-view+json": {
       "model_id": "cea9f50fcb06483fb7f58c5c9f8bf6ca",
       "version_major": 2,
       "version_minor": 0
      },
      "text/plain": [
       "  0%|          | 0/60 [00:00<?, ?it/s]"
      ]
     },
     "metadata": {},
     "output_type": "display_data"
    },
    {
     "name": "stderr",
     "output_type": "stream",
     "text": [
      "/home/dmitrii/.cache/pypoetry/virtualenvs/micrlhf-progress-_SD4q1c9-py3.10/lib/python3.10/site-packages/jax/_src/ops/scatter.py:92: FutureWarning:\n",
      "\n",
      "scatter inputs have incompatible types: cannot safely cast value from dtype=float32 to dtype=bfloat16 with jax_numpy_dtype_promotion='standard'. In future JAX releases this will result in an error.\n",
      "\n"
     ]
    }
   ],
   "source": [
    "import dataclasses\n",
    "from tqdm.auto import tqdm\n",
    "from functools import partial\n",
    "from micrlhf.utils.activation_manipulation import add_vector\n",
    "from collections import defaultdict\n",
    "\n",
    "task_losses = defaultdict(dict)\n",
    "\n",
    "n_few_shots, batch_size, max_seq_len = 20, 16, 256\n",
    "seed = 10\n",
    "\n",
    "prompt = \"<start_of_turn>user\\nFollow the pattern:\\n{}\"\n",
    "\n",
    "def make_taker(llama, layer):\n",
    "    taker = jit_wrapper.Jitted(llama.select().at_instances_of(LlamaBlock).apply_with_selected_index(\n",
    "        lambda i, x: x if i >= layer else pz.nn.Identity()\n",
    "    ).select().at_instances_of(pz.nn.EmbeddingLookup).apply(lambda _: pz.nn.Identity())\n",
    "                    .select().at_instances_of(pz.nn.ConstantRescale).pick_nth_selected(0).apply(lambda _: pz.nn.Identity()))\n",
    "\n",
    "    return taker\n",
    "\n",
    "taker = make_taker(llama, layer)\n",
    "\n",
    "task_features = {\n",
    "    \"antonyms\": [50800], \n",
    "    \"en_es\": [3608, 8300],\n",
    "    \"country_capital\": [6417],\n",
    "    \"present_simple_past_simple\": [47899]\n",
    "}\n",
    "\n",
    "def calc_acc(tokens, sep, logits, runner):\n",
    "    arrow_pos = jnp.nonzero(tokens == sep)\n",
    "    arrow_pos_single = []\n",
    "    for i in range(batch_size):\n",
    "        arrow_pos_single.append(arrow_pos[1][arrow_pos[0] == i].max())\n",
    "\n",
    "    arrow_pos_single = np.array(arrow_pos_single)\n",
    "\n",
    "    for i, (ap, l) in enumerate(zip(arrow_pos_single, logits)):\n",
    "        l = l.argmax(-1)\n",
    "        tgt = runner.eval_pairs[i][-1][1]\n",
    "        hits += int(tgt in repr(tokenizer.decode(l[ap:ap+3])))\n",
    "    return hits / runner.eval_batch_size\n",
    "\n",
    "\n",
    "\n",
    "\n",
    "for task_name in tqdm([\"antonyms\", \"en_es\", \"country_capital\", \"present_simple_past_simple\"]):\n",
    "    for feature in task_features[task_name]:\n",
    "        sep = 3978\n",
    "        pad = 0\n",
    "\n",
    "\n",
    "        pairs = list(tasks[task_name].items())\n",
    "\n",
    "        n_shot = n_few_shots - 1\n",
    "        if task_name.startswith(\"algo\"):\n",
    "            n_shot = 8\n",
    "\n",
    "        runner = ICLRunner(task_name, pairs, batch_size=batch_size, n_shot=1, max_seq_len=max_seq_len, seed=seed, prompt=prompt)\n",
    "\n",
    "        tokenized = runner.get_tokens([\n",
    "            x[:n_few_shots] for x in runner.train_pairs\n",
    "        ], tokenizer)\n",
    "\n",
    "        inputs = tokenized_to_inputs(**tokenized)\n",
    "        train_tokens = tokenized[\"input_ids\"]\n",
    "\n",
    "        _, all_resids = get_resids_call(inputs)\n",
    "\n",
    "        resids = all_resids[layer].value.unwrap(\"batch\", \"seq\", \"embedding\")\n",
    "\n",
    "        mask = train_tokens == sep\n",
    "        col_indices = jnp.arange(mask.shape[1])\n",
    "        col_indices_broadcasted = mask * col_indices\n",
    "        sorted_indices = jnp.sort(col_indices_broadcasted, axis=1, descending=True)\n",
    "\n",
    "        k = jnp.sum(mask[0]).astype(int)\n",
    "\n",
    "        positions = sorted_indices[:, :k]\n",
    "    \n",
    "        def steer_with_direction(direction, scale):\n",
    "            direction = direction / jnp.linalg.norm(direction)\n",
    "            direction = direction * scale\n",
    "            \n",
    "            modified = jax.vmap(lambda a, b: a.at[b].add(direction))(\n",
    "                resids, positions\n",
    "            )\n",
    "            modified = pz.nx.wrap(modified, \"batch\", \"seq\", \"embedding\")\n",
    "\n",
    "            _inputs = dataclasses.replace(inputs, tokens=modified)\n",
    "            logits = taker(_inputs).unwrap(\"batch\", \"seq\", \"vocabulary\")\n",
    "\n",
    "            acc = calc_acc(train_tokens, sep, logits, runner)\n",
    "            return logprob_loss(logits, train_tokens, sep=sep, pad_token=pad, n_first=2).tolist(), acc\n",
    "\n",
    "        \n",
    "\n",
    "        task_losses[task_name][feature] = [[steer_with_direction(-sae[\"W_dec\"][feature], scale) for scale in tqdm(np.logspace(0, 3, 60))]]\n",
    "\n",
    "        logits = llama(inputs)\n",
    "\n",
    "        logits = logits.unwrap(\"batch\", \"seq\", \"vocabulary\")\n",
    "\n",
    "        task_losses[task_name][feature].append(logprob_loss(logits, train_tokens, sep=sep, pad_token=pad, n_first=2).tolist())"
   ]
  },
  {
   "cell_type": "code",
   "execution_count": null,
   "metadata": {},
   "outputs": [],
   "source": []
  },
  {
   "cell_type": "code",
   "execution_count": 89,
   "metadata": {},
   "outputs": [
    {
     "data": {
      "text/html": [
       "<script> (()=>{ if (customElements.get('treescope-container') === undefined) { class TreescopeContainer extends HTMLElement { constructor() { super(); this.attachShadow({mode: \"open\"}); this.defns = {}; this.state = {}; } } customElements.define(\"treescope-container\", TreescopeContainer); } if (customElements.get('treescope-run-here') === undefined) { class RunHere extends HTMLElement { constructor() { super() } connectedCallback() { const run = child => { const fn = new Function(child.textContent); child.textContent = \"\"; fn.call(this); this.remove(); }; const child = this.querySelector(\"script\"); if (child) { run(child); } else { new MutationObserver(()=>{ run(this.querySelector(\"script\")); }).observe(this, {childList: true}); } } } customElements.define(\"treescope-run-here\", RunHere); } })(); </script> <treescope-container class=\"treescope_out_2143c487cef2477e825c5dc537096470\" ></treescope-container> <treescope-run-here><script type=\"application/octet-stream\"> const root = ( Array.from(document.getElementsByClassName( \"treescope_out_2143c487cef2477e825c5dc537096470\")) .filter((elt) => !elt.dataset.setup) )[0]; root.dataset.setup = 1; const msg = document.createElement(\"span\"); msg.style = \"color: #aaaaaa; font-family: monospace; transition: opacity 0.2s; opacity: 0.0;\"; msg.textContent = \"(Loading...)\"; root.state.loadingMsg = msg; root.shadowRoot.appendChild(msg); root.state.chain = new Promise((resolve, reject) => { const observer = new IntersectionObserver((entries) => { for (const entry of entries) { if (entry.isIntersecting) { resolve(); observer.disconnect(); return; } } }, {rootMargin: \"1000px\"}); window.setTimeout(() => { if (root.loadingMsg) { root.loadingMsg.style.opacity = \"1.0\"; } observer.observe(root); }, 0); }); root.state.deferring = false; const _insertNode = (node) => { for (let oldScript of node.querySelectorAll(\"script\")) { let newScript = document.createElement(\"script\"); newScript.type = oldScript.type; newScript.textContent = oldScript.textContent; oldScript.parentNode.replaceChild(newScript, oldScript); } if (root.state.loadingMsg) { root.state.loadingMsg.remove(); root.state.loadingMsg = null; } root.shadowRoot.appendChild(node); }; root.defns.insertContent = ((contentNode, compressed) => { if (compressed) { root.state.deferring = true; } if (root.state.deferring) { root.state.chain = (async () => { await root.state.chain; if (compressed) { const encoded = contentNode.textContent; const blob = new Blob([ Uint8Array.from(atob(encoded), (m) => m.codePointAt(0)) ]); const reader = blob.stream().pipeThrough( new DecompressionStream(\"deflate\") ).pipeThrough( new TextDecoderStream(\"utf-8\") ).getReader(); const parts = []; while (true) { const step = await reader.read(); if (step.done) { break; } parts.push(step.value); } const tpl = document.createElement('template'); tpl.innerHTML = parts.join(\"\"); _insertNode(tpl.content); } else { _insertNode(contentNode.content); } })(); } else { _insertNode(contentNode.content); } }); </script></treescope-run-here><div style=\"display:none\"> <script type=\"application/octet-stream\" >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</script> <treescope-run-here><script type=\"application/octet-stream\"> const root = ( Array.from(document.getElementsByClassName( \"treescope_out_2143c487cef2477e825c5dc537096470\")) .filter((elt) => !elt.dataset['step0']) )[0]; root.dataset['step0'] = 1; root.defns.insertContent( this.parentNode.querySelector('script[type=\"application/octet-stream\"]'), true ); this.parentNode.remove(); </script></treescope-run-here> </div>"
      ],
      "text/plain": [
       "<IPython.core.display.HTML object>"
      ]
     },
     "metadata": {},
     "output_type": "display_data"
    },
    {
     "data": {
      "text/html": [
       "<treescope-run-here><script type=\"application/octet-stream\"> const root = ( Array.from(document.getElementsByClassName( \"treescope_out_2143c487cef2477e825c5dc537096470\")) .filter((elt) => !elt.dataset.stolen) )[0]; root.dataset.stolen = 1; this.parentNode.replaceChild(root, this); </script></treescope-run-here>"
      ],
      "text/plain": [
       "[<matplotlib.lines.Line2D at 0x7f84a8153160>]"
      ]
     },
     "execution_count": 89,
     "metadata": {},
     "output_type": "execute_result"
    },
    {
     "data": {
      "image/png": "[encoded data removed]",
      "text/plain": [
       "<Figure size 640x480 with 1 Axes>"
      ]
     },
     "metadata": {},
     "output_type": "display_data"
    }
   ],
   "source": [
    "import matplotlib.pyplot as plt\n",
    "\n",
    "plot_task = \"country_capital\"\n",
    "feature = task_features[plot_task][0]\n",
    "\n",
    "plt.plot(np.logspace(0, 3, 60), task_losses[plot_task][feature][0], label=f\"{plot_task}: {feature}\")\n",
    "# plt.xscale(\"log\")"
   ]
  },
  {
   "cell_type": "code",
   "execution_count": 61,
   "metadata": {},
   "outputs": [
    {
     "data": {
      "text/html": [
       "<script> (()=>{ if (customElements.get('treescope-container') === undefined) { class TreescopeContainer extends HTMLElement { constructor() { super(); this.attachShadow({mode: \"open\"}); this.defns = {}; this.state = {}; } } customElements.define(\"treescope-container\", TreescopeContainer); } if (customElements.get('treescope-run-here') === undefined) { class RunHere extends HTMLElement { constructor() { super() } connectedCallback() { const run = child => { const fn = new Function(child.textContent); child.textContent = \"\"; fn.call(this); this.remove(); }; const child = this.querySelector(\"script\"); if (child) { run(child); } else { new MutationObserver(()=>{ run(this.querySelector(\"script\")); }).observe(this, {childList: true}); } } } customElements.define(\"treescope-run-here\", RunHere); } })(); </script> <treescope-container class=\"treescope_out_4d79ef3cf8534f41b71387ee5e2ecc63\" ></treescope-container> <treescope-run-here><script type=\"application/octet-stream\"> const root = ( Array.from(document.getElementsByClassName( \"treescope_out_4d79ef3cf8534f41b71387ee5e2ecc63\")) .filter((elt) => !elt.dataset.setup) )[0]; root.dataset.setup = 1; const msg = document.createElement(\"span\"); msg.style = \"color: #aaaaaa; font-family: monospace; transition: opacity 0.2s; opacity: 0.0;\"; msg.textContent = \"(Loading...)\"; root.state.loadingMsg = msg; root.shadowRoot.appendChild(msg); root.state.chain = new Promise((resolve, reject) => { const observer = new IntersectionObserver((entries) => { for (const entry of entries) { if (entry.isIntersecting) { resolve(); observer.disconnect(); return; } } }, {rootMargin: \"1000px\"}); window.setTimeout(() => { if (root.loadingMsg) { root.loadingMsg.style.opacity = \"1.0\"; } observer.observe(root); }, 0); }); root.state.deferring = false; const _insertNode = (node) => { for (let oldScript of node.querySelectorAll(\"script\")) { let newScript = document.createElement(\"script\"); newScript.type = oldScript.type; newScript.textContent = oldScript.textContent; oldScript.parentNode.replaceChild(newScript, oldScript); } if (root.state.loadingMsg) { root.state.loadingMsg.remove(); root.state.loadingMsg = null; } root.shadowRoot.appendChild(node); }; root.defns.insertContent = ((contentNode, compressed) => { if (compressed) { root.state.deferring = true; } if (root.state.deferring) { root.state.chain = (async () => { await root.state.chain; if (compressed) { const encoded = contentNode.textContent; const blob = new Blob([ Uint8Array.from(atob(encoded), (m) => m.codePointAt(0)) ]); const reader = blob.stream().pipeThrough( new DecompressionStream(\"deflate\") ).pipeThrough( new TextDecoderStream(\"utf-8\") ).getReader(); const parts = []; while (true) { const step = await reader.read(); if (step.done) { break; } parts.push(step.value); } const tpl = document.createElement('template'); tpl.innerHTML = parts.join(\"\"); _insertNode(tpl.content); } else { _insertNode(contentNode.content); } })(); } else { _insertNode(contentNode.content); } }); </script></treescope-run-here><div style=\"display:none\"> <script type=\"application/octet-stream\" >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</script> <treescope-run-here><script type=\"application/octet-stream\"> const root = ( Array.from(document.getElementsByClassName( \"treescope_out_4d79ef3cf8534f41b71387ee5e2ecc63\")) .filter((elt) => !elt.dataset['step0']) )[0]; root.dataset['step0'] = 1; root.defns.insertContent( this.parentNode.querySelector('script[type=\"application/octet-stream\"]'), true ); this.parentNode.remove(); </script></treescope-run-here> </div>"
      ],
      "text/plain": [
       "<IPython.core.display.HTML object>"
      ]
     },
     "metadata": {},
     "output_type": "display_data"
    },
    {
     "data": {
      "text/html": [
       "<treescope-run-here><script type=\"application/octet-stream\"> const root = ( Array.from(document.getElementsByClassName( \"treescope_out_4d79ef3cf8534f41b71387ee5e2ecc63\")) .filter((elt) => !elt.dataset.stolen) )[0]; root.dataset.stolen = 1; this.parentNode.replaceChild(root, this); </script></treescope-run-here>"
      ],
      "text/plain": [
       "[-3.484848484848485,\n",
       " -0.15656565656565657,\n",
       " -3.202020202020202,\n",
       " -0.3434343434343434,\n",
       " -0.7171717171717171,\n",
       " -0.2676767676767677,\n",
       " -0.696969696969697,\n",
       " -1.4646464646464648,\n",
       " -0.30303030303030304,\n",
       " -0.7070707070707071,\n",
       " -1.9090909090909092]"
      ]
     },
     "execution_count": 61,
     "metadata": {},
     "output_type": "execute_result"
    }
   ],
   "source": [
    "task_losses[task_name][0]"
   ]
  },
  {
   "cell_type": "code",
   "execution_count": 111,
   "metadata": {},
   "outputs": [
    {
     "name": "stderr",
     "output_type": "stream",
     "text": [
      "/tmp/ipykernel_1644953/354035232.py:32: RuntimeWarning:\n",
      "\n",
      "divide by zero encountered in log\n",
      "\n",
      "/tmp/ipykernel_1644953/354035232.py:32: RuntimeWarning:\n",
      "\n",
      "invalid value encountered in log\n",
      "\n"
     ]
    },
    {
     "data": {
      "application/vnd.plotly.v1+json": {
       "config": {
        "plotlyServerURL": "https://plot.ly"
       },
       "data": [
        {
         "coloraxis": "coloraxis",
         "hovertemplate": "x: %{x}<br>y: %{y}<br>color: %{z}<extra></extra>",
         "name": "0",
         "type": "heatmap",
         "x": [
          "12295",
          "3608",
          "54300",
          "1053",
          "16413",
          "55845",
          "32807",
          "25640",
          "60969",
          "36913",
          "59449",
          "50241",
          "10818",
          "8259",
          "12355",
          "56898",
          "38477",
          "44111",
          "33364",
          "46677",
          "8300",
          "50800",
          "53362",
          "2685",
          "62079",
          "14975",
          "50819",
          "29319",
          "19083",
          "14989",
          "4239",
          "37029",
          "29865",
          "11439",
          "31409",
          "2738",
          "1202",
          "18613",
          "49334",
          "5819",
          "35008",
          "52937",
          "37078",
          "32989",
          "26850",
          "233",
          "62189",
          "53000",
          "29453",
          "6417",
          "23825",
          "53010",
          "46357",
          "47899",
          "49947",
          "16157",
          "57630",
          "18719",
          "36658",
          "38197",
          "43322",
          "59710",
          "45893",
          "3915",
          "29520",
          "1874",
          "3923",
          "41300",
          "62805",
          "29530",
          "40795",
          "32092",
          "17756",
          "43358",
          "59236",
          "36201",
          "56170",
          "13165",
          "8560",
          "49523",
          "21375",
          "57215",
          "17281",
          "46985",
          "65419",
          "21389",
          "45455",
          "62868",
          "24483",
          "43943",
          "32174",
          "1461",
          "8641",
          "4036",
          "22469",
          "36806",
          "56773",
          "46571",
          "35308",
          "63994",
          "12284"
         ],
         "xaxis": "x",
         "y": [
          "location_continent",
          "football_player_position",
          "location_religion",
          "location_language",
          "person_profession",
          "location_country",
          "country_capital",
          "person_language",
          "singular_plural",
          "present_simple_past_simple",
          "antonyms",
          "plural_singular",
          "present_simple_past_perfect",
          "present_simple_gerund",
          "en_it",
          "it_en",
          "en_fr",
          "en_es",
          "fr_en",
          "es_en",
          "algo_last",
          "algo_first",
          "algo_second"
         ],
         "yaxis": "y",
         "z": [
          [
           -8.278039765328664,
           -8.278039765328664,
           0.013893870572038683,
           0.8570561393491832,
           0.0015363207674278904,
           -0.09261037905126779,
           -8.278039765328664,
           1.491154441321584,
           -8.278039765328664,
           0.013847196804293655,
           -8.278039765328664,
           -8.278039765328664,
           -0.02934322011347979,
           2.120709151609581,
           -0.4575852526262612,
           1.6759201011937772,
           0.03209463611337974,
           -0.9686256086500942,
           -8.278039765328664,
           0.24318090079141394,
           -8.278039765328664,
           -8.278039765328664,
           0.7274389434865125,
           0.253312227466486,
           -8.278039765328664,
           0.10048231945626607,
           0.8349731933919077,
           0.9340697230553542,
           2.655383744325135,
           0.96380841794672,
           -8.278039765328664,
           -1.2058353256342782,
           0.9114445274806899,
           0.3590116936539256,
           -2.307644920102678,
           3.1000159539423304,
           -8.278039765328664,
           1.8279735766786527,
           -8.278039765328664,
           -8.278039765328664,
           -8.278039765328664,
           -8.278039765328664,
           0.9223126836435659,
           0.2400662767181688,
           2.2373468432094406,
           0.3276636723900222,
           0.1453322523039444,
           -8.278039765328664,
           -0.9098646138583127,
           0.06883897414436677,
           -8.278039765328664,
           -4.439900176498735,
           -1.7551482781645384,
           -8.278039765328664,
           0.1426719264022887,
           -0.1960790129445836,
           -0.5935824885697947,
           -8.278039765328664,
           -8.278039765328664,
           -0.29161998789150323,
           0.4681824110815862,
           -8.278039765328664,
           -0.6318014514492868,
           2.6672012002751795,
           0.6623294269173705,
           0.8879021184695378,
           1.417010756235468,
           -8.278039765328664,
           -2.730151636519185,
           1.0445496882937153,
           1.4203316186678696,
           -0.341851875810806,
           -8.278039765328664,
           -8.278039765328664,
           -8.278039765328664,
           0.11187364465736639,
           -3.5981815436565054,
           -0.5429756323645085,
           0.44081882480360146,
           1.337672957226512,
           1.5874079461703416,
           1.7139984060558506,
           -4.590932129968815,
           -0.7114019679248895,
           -0.6076190457065979,
           0.07538321478937215,
           -8.278039765328664,
           -8.278039765328664,
           -8.278039765328664,
           -0.3782709767654547,
           -8.278039765328664,
           0.628986185187033,
           0.47083892512470044,
           -8.278039765328664,
           -0.024334127495419976,
           -8.278039765328664,
           -5.088215725947161,
           1.0666437150745598,
           1.1538735087941292,
           -1.4239169100321085,
           0.25647025257686906
          ],
          [
           0.06806335736703502,
           -0.41630722742426357,
           -0.8280004400089324,
           -8.278039765328664,
           0.2291297214298716,
           0.13946906827131506,
           1.201097677185403,
           -0.7537000537645652,
           2.117634513368943,
           1.466130643381395,
           0.2280608676986581,
           -8.278039765328664,
           1.0465573835951896,
           -0.1340541598827026,
           0.3111204644070456,
           -0.31221454704455803,
           0.10142262283610506,
           0.9552627485397168,
           0.5049690694590545,
           2.094498565146389,
           0.9418801632860123,
           -2.0052612455742187,
           -0.598801067695982,
           -0.30873980959354597,
           1.3322334767667119,
           2.8840910570318377,
           0.6312179070840047,
           1.765355096740899,
           1.7899589363339696,
           1.0128129316975312,
           0.5549873260516555,
           0.4216372791349971,
           -0.6995097264880629,
           -0.40507648352439657,
           0.6740337312349874,
           0.2361689333141722,
           0.19742866484365534,
           -8.278039765328664,
           -2.7208105685020763,
           -0.6827933333008929,
           2.0651367612595264,
           -1.2264780328548912,
           -0.723018617611316,
           -8.278039765328664,
           -1.551763929361874,
           -0.9587400515969763,
           0.021716427576092413,
           1.8670405128544953,
           -1.1426074370394679,
           -1.1169492015690314,
           0.45063185270561507,
           0.10865677285423425,
           0.7893165667503823,
           0.5258369500419992,
           -0.14424868248067704,
           -0.6873565123801318,
           0.9372632805104087,
           -8.278039765328664,
           -0.8986435083210955,
           0.34032679202641425,
           -2.999028331727606,
           0.7000235149694605,
           1.328225952356397,
           -8.278039765328664,
           -0.13235882998201615,
           -0.20770366966958925,
           0.18311098053691613,
           -0.7595987290522472,
           -4.616007435637102,
           -0.7948800139496504,
           0.3474400332712457,
           2.321373044408325,
           0.21190824726067703,
           1.0121032897600741,
           0.8907234713831066,
           1.1964323111091504,
           0.2926193500767024,
           -2.9944492381028467,
           1.5174093216062088,
           0.16737304055105,
           0.03863995771585183,
           0.8332866761677801,
           0.22332798511716104,
           -8.278039765328664,
           -0.4461571655979683,
           0.7719118349550932,
           1.7427734260377987,
           -0.7189464051299101,
           0.48842962868417167,
           1.2749328843411463,
           0.6622495419087686,
           0.2407768925150996,
           0.4114022970605571,
           -2.4030563485183656,
           0.25965710977558193,
           1.025725928986257,
           -1.988754038953112,
           -0.5855236195525326,
           0.4642170156687679,
           -3.0027029501358817,
           -0.6932206284598093
          ],
          [
           -0.7851254859130014,
           -5.32895337392596,
           -0.996726092022223,
           -8.278039765328664,
           -0.13252087353000533,
           0.570026739006614,
           -0.6175911690055756,
           0.9961944755162457,
           0.20397620488100388,
           0.7619015153616472,
           -1.0830153087013599,
           -8.278039765328664,
           2.114446713669285,
           -8.278039765328664,
           0.539302103360613,
           0.3358209374692732,
           0.7790169095914811,
           1.4241715671561128,
           2.1987273787206227,
           2.1417601892312903,
           -0.08963183082128331,
           1.1855004596164394,
           0.4488214771418228,
           0.7479471903978576,
           -0.07869404905575197,
           1.3117795467885953,
           -1.6519403608185836,
           0.5064182999258375,
           -8.278039765328664,
           0.7056147103886,
           0.03751628706734683,
           -8.278039765328664,
           0.32065444586634095,
           0.10453762307072029,
           -8.278039765328664,
           -2.976525293212592,
           -0.30761704767206016,
           -8.278039765328664,
           -3.3457407598011324,
           0.5166611719441826,
           1.6049246451215757,
           -1.8118292378732892,
           0.7014016460325162,
           -1.0100846503433956,
           1.3475633537584526,
           -0.08448881673196507,
           0.14419848161368962,
           -0.07519116807749991,
           0.38397845136567155,
           -2.3101532435466248,
           -0.3241846196342416,
           -2.4406773622791715,
           -3.606073065655033,
           -0.2044537569148833,
           0.2055921491922862,
           -0.5996617161596718,
           -8.278039765328664,
           -8.278039765328664,
           0.9362968720065238,
           -0.9438490281569056,
           0.6497269678512555,
           -1.3660335160748809,
           2.325548043024793,
           1.074105522086785,
           1.0016239341746866,
           -0.5296116305222329,
           0.5996346640660213,
           -0.13236637216817904,
           -2.84466704986479,
           -0.4328186595424437,
           0.010865541933444883,
           -1.833831570828029,
           0.21778210594743072,
           1.0695896766758763,
           0.30220998113638936,
           0.8258982146284084,
           -6.2964041915342035,
           -0.2109617997662603,
           0.02837415160356771,
           0.04007566953342115,
           -1.510549135106536,
           -2.379407550358984,
           -1.451424330680573,
           -8.278039765328664,
           0.18960822632404858,
           0.13678877898474917,
           1.0814755905678677,
           -0.5817365443820693,
           -0.5375113203736684,
           -2.5168778367077302,
           1.0772240384510443,
           1.9831143141959182,
           0.7871133647769273,
           -8.278039765328664,
           0.5073688856816674,
           0.8681362495134528,
           -8.278039765328664,
           -8.278039765328664,
           1.1165909017811975,
           -1.7617261501312669,
           0.17142548632660876
          ],
          [
           -8.278039765328664,
           -0.5101501767341214,
           1.4946239455975565,
           -8.278039765328664,
           0.2126592512376713,
           -8.278039765328664,
           -0.7827550188278316,
           -8.278039765328664,
           -0.15619120684262822,
           -8.278039765328664,
           -8.278039765328664,
           -8.278039765328664,
           -0.09228840377739701,
           2.369842071091967,
           -8.278039765328664,
           4.547703273637116,
           1.6890281219366199,
           1.1370292904473707,
           1.3964905283263143,
           -8.278039765328664,
           -8.278039765328664,
           -0.49923573346612665,
           -1.1270966619872564,
           0.3271220173903391,
           -8.278039765328664,
           -8.278039765328664,
           0.45881263527104477,
           0.8352641232304228,
           2.698147447686441,
           -8.278039765328664,
           0.8635547148550049,
           -0.4179396868346476,
           -1.358447929497969,
           0.7070026898477311,
           1.535702226952566,
           1.4368127958710821,
           1.3099652598902984,
           -8.278039765328664,
           0.7311250926613289,
           -1.7670349866386277,
           -8.278039765328664,
           -8.278039765328664,
           0.7249539630481588,
           1.0165852285356913,
           -8.278039765328664,
           1.3984220972054848,
           -8.278039765328664,
           -8.278039765328664,
           -8.278039765328664,
           0.672438721846325,
           4.547703273637116,
           -1.4074832456598203,
           -0.9844944457994138,
           -8.278039765328664,
           0.6909281977899251,
           2.111209939680247,
           -8.278039765328664,
           -8.278039765328664,
           1.399329769091035,
           -8.278039765328664,
           0.4016140350482488,
           0.2031221975820032,
           1.2689633366433182,
           2.8018662659203075,
           1.8374006983582156,
           -0.08499189054325018,
           1.022306620402436,
           0.23068714448742494,
           -1.341405789756613,
           0.04081299536466757,
           -0.5275911630562035,
           -1.381306651341933,
           0.020084889590615426,
           -8.278039765328664,
           0.8921907018775737,
           1.1601592136207703,
           -4.878798376004521,
           -0.3754226998745456,
           -8.278039765328664,
           -8.278039765328664,
           -1.925524783325163,
           1.2894900637771942,
           0.679531372726575,
           -8.278039765328664,
           1.2017489337455673,
           -8.278039765328664,
           -8.278039765328664,
           -8.278039765328664,
           -8.278039765328664,
           -0.1548104123371957,
           0.18891697089400702,
           0.9350654114369223,
           1.721260845552641,
           1.3112435771125308,
           -8.278039765328664,
           1.158142239501774,
           -8.278039765328664,
           -8.278039765328664,
           -8.278039765328664,
           -0.41605546639425905,
           -8.278039765328664
          ],
          [
           -8.278039765328664,
           -8.278039765328664,
           -0.1268411131977325,
           2.464564987371305,
           0.02495003157025027,
           -8.278039765328664,
           2.1172415417640242,
           1.6867633327069618,
           2.1917367714491878,
           0.9964171142930036,
           0.7130778386546316,
           -8.278039765328664,
           -8.278039765328664,
           4.547703273637116,
           -8.278039765328664,
           -8.278039765328664,
           1.0084340038514537,
           0.1193048244964423,
           -8.278039765328664,
           -8.278039765328664,
           -8.278039765328664,
           -8.278039765328664,
           0.4864024767713101,
           0.3211716083005586,
           -8.278039765328664,
           -8.278039765328664,
           -8.278039765328664,
           1.0738975966927213,
           -8.278039765328664,
           0.006367908507304967,
           1.2498241871233684,
           0.686794773977951,
           0.38021435221460353,
           -1.2837455256607209,
           -8.278039765328664,
           -8.278039765328664,
           -1.0118154689435483,
           4.36114090657853,
           -8.278039765328664,
           -0.24578558153127988,
           1.925257138585056,
           -8.278039765328664,
           -0.11711232937988902,
           1.3110471515509319,
           2.8742278689720133,
           -0.25346831323268404,
           -0.11859118568911811,
           2.530958298733795,
           -0.5357006484744572,
           0.2294288392301629,
           -8.278039765328664,
           -8.278039765328664,
           -2.613127994073315,
           -8.278039765328664,
           -1.036376877991006,
           -8.278039765328664,
           -8.278039765328664,
           -8.278039765328664,
           0.3056193961621847,
           0.7422432239847573,
           1.9597679970910475,
           -8.278039765328664,
           -8.278039765328664,
           2.964992186874461,
           0.3868870200245689,
           0.45542826155237137,
           1.4768953366482767,
           -8.278039765328664,
           -1.1832674103134984,
           0.7147645400848117,
           1.0038106135151625,
           1.6199225989626285,
           -8.278039765328664,
           -0.021064803570905424,
           -8.278039765328664,
           1.7388005785365899,
           0.8950195965398221,
           -0.6957234284982683,
           1.9342143660583022,
           -0.7547625797332768,
           -8.278039765328664,
           1.9093743872270625,
           -8.278039765328664,
           -8.278039765328664,
           1.0647702622493829,
           1.0911365510683229,
           -8.278039765328664,
           -8.278039765328664,
           -8.278039765328664,
           1.3821873497382915,
           -8.278039765328664,
           4.547703273637116,
           -0.34372829784876296,
           -8.278039765328664,
           -8.278039765328664,
           0.6083183525998025,
           -8.278039765328664,
           -0.6746089636796988,
           1.349249489965341,
           -1.3030147932135547,
           1.775600616000385
          ],
          [
           -8.278039765328664,
           -0.043329971418368966,
           0.16246443371176691,
           -8.278039765328664,
           -0.416462603558807,
           2.308740948670656,
           -1.5556257004400942,
           -1.059341877755706,
           1.083818886706606,
           -8.278039765328664,
           -8.278039765328664,
           -8.278039765328664,
           0.30042382938463374,
           4.547703273637116,
           -8.278039765328664,
           0.8778718311296541,
           0.5136205919952811,
           4.547703273637116,
           2.397393219572325,
           -8.278039765328664,
           -2.293979327148493,
           -8.278039765328664,
           -0.3259072702470696,
           0.2794060195435654,
           -8.278039765328664,
           0.25176658846759054,
           -0.8661266286412576,
           0.8202462416534368,
           2.9642969575400424,
           -8.278039765328664,
           -0.2025229151410084,
           -0.37600267548416094,
           -0.23670175644246894,
           1.527328264340937,
           -8.278039765328664,
           0.08655572397448989,
           -0.6593310204125176,
           2.603412154762971,
           -8.278039765328664,
           -0.258760906494714,
           -8.278039765328664,
           -8.278039765328664,
           0.8790532314942944,
           0.38479314518333424,
           -8.278039765328664,
           -0.03571645867180966,
           -8.278039765328664,
           -0.4264560053960796,
           -8.278039765328664,
           1.72198229010765,
           0.3491511291163939,
           0.28494893908534924,
           2.0239277529808843,
           -8.278039765328664,
           0.6139465110980522,
           1.519013472412483,
           0.06852740420752057,
           -0.37080403586906213,
           -8.278039765328664,
           -8.278039765328664,
           0.3218905339959314,
           0.4813512330902057,
           -1.1091258418603365,
           2.2653843623722754,
           0.23104897500772778,
           -0.4448502584119655,
           -2.2950628082000724,
           -8.278039765328664,
           -1.2398258912385156,
           -0.6450463092579652,
           -8.278039765328664,
           -0.35487065809075785,
           1.2510040114385976,
           0.9657263254971375,
           1.6352642838214844,
           1.903232795564681,
           -8.278039765328664,
           -0.4973896597944954,
           -8.278039765328664,
           -8.278039765328664,
           -0.011785595073084942,
           0.5166193821649314,
           0.8178475110702917,
           -0.6324383604931912,
           1.4220053135390116,
           -1.2525947438558533,
           -8.278039765328664,
           -1.482321765774972,
           -8.278039765328664,
           -0.9689240524835074,
           -8.278039765328664,
           0.3447730589913181,
           1.040773650547439,
           1.5880201795404185,
           -0.05982576562743034,
           -8.278039765328664,
           -1.0116632247576693,
           0.01904624225409945,
           -8.278039765328664,
           -0.7228856604875225,
           -0.23556028522387606
          ],
          [
           -3.0747376774150292,
           -0.1155516067050305,
           0.7614110722662755,
           0.05317802088124516,
           -0.18119953909750805,
           -0.01329771407139557,
           -0.28961026956064456,
           -0.4993770322721095,
           0.2596847616337476,
           -2.542569677738418,
           -0.608065088837835,
           2.3119555802693843,
           0.5208347717096092,
           -0.6222936785135427,
           -0.4490527697074362,
           -0.7469653807244118,
           -0.7325627692012769,
           0.7516236358232496,
           1.7484469790894026,
           1.8764187682751279,
           -0.05292058032436106,
           -8.278039765328664,
           -0.8630520835470481,
           -0.07798256620311532,
           0.21006613723589782,
           0.02897209470155474,
           -0.6526843556323756,
           1.014751313642568,
           1.9148238905895385,
           -0.3457802236204384,
           -0.5219442445961161,
           -0.7365390944110631,
           -1.083650559281499,
           0.8556391045394007,
           0.9530493653178147,
           -1.3306421231013315,
           -0.059360840315221784,
           -8.278039765328664,
           -0.5333111908830527,
           0.021890116207618018,
           0.38444892415470433,
           -0.4605222599954302,
           0.5198254278032127,
           -8.278039765328664,
           0.609982952154735,
           0.024351833577986502,
           -1.331520528541352,
           -2.671533627002003,
           -0.10392394005513304,
           2.5792276651649653,
           0.14405621244975877,
           -0.4801239749984833,
           2.790659817004489,
           -0.05586829659451809,
           -0.33579705871737026,
           0.4849121855098331,
           -1.0397861627659168,
           -0.3539256763696779,
           0.48991348496203163,
           -8.278039765328664,
           -0.12262806443008811,
           0.28416931518089594,
           -0.093546104583104,
           -8.278039765328664,
           -0.10757733428343004,
           -0.6154589990074314,
           0.6444481714136979,
           -1.5708271339670132,
           -1.6827443064450416,
           -1.354651550586118,
           0.10388115109899938,
           -0.5339900883541323,
           1.1730212257168644,
           0.5696601104570646,
           2.5324048481923795,
           0.9698993785268305,
           -2.782388573410314,
           -0.5328078261049528,
           0.48178658347558023,
           -1.5856991706624886,
           -0.1167970531827375,
           0.49861930104490876,
           -0.6019993441771067,
           -3.0400349115968894,
           0.8948019535158812,
           -0.9074052000159502,
           0.31226768912954284,
           -8.278039765328664,
           -0.35178631310384645,
           -1.4794006187013242,
           -8.278039765328664,
           0.0910163396213152,
           0.7081175082427852,
           0.666247584903644,
           -0.0005341724458065714,
           1.4167667504726433,
           -2.3871372284620906,
           -0.4914303239637175,
           -1.0423348492285387,
           -0.6971140100260296,
           -1.0214488313016594
          ],
          [
           0.12862643556840117,
           -1.5248296945483928,
           -0.26109404048107504,
           2.251840444646467,
           0.2467986811116475,
           1.954841051081994,
           -0.3915955794492421,
           0.7503548855620967,
           -8.278039765328664,
           -8.278039765328664,
           -8.278039765328664,
           4.547703273637116,
           0.6360013834669547,
           -8.278039765328664,
           -8.278039765328664,
           -8.278039765328664,
           -8.278039765328664,
           -8.278039765328664,
           2.815166334689283,
           -8.278039765328664,
           -8.278039765328664,
           -8.278039765328664,
           0.21448906265614162,
           0.8845246254663991,
           -8.278039765328664,
           -8.278039765328664,
           -8.278039765328664,
           1.1423404453984707,
           -8.278039765328664,
           -8.278039765328664,
           -0.621128432205002,
           -8.278039765328664,
           -0.7030649130617053,
           1.554832056323243,
           -8.278039765328664,
           0.17527320012528508,
           2.1742735786384926,
           3.675811952907899,
           -8.278039765328664,
           -0.8845945195670177,
           -8.278039765328664,
           -1.6062623743163726,
           1.313013411886908,
           0.5127313344874106,
           -8.278039765328664,
           -8.278039765328664,
           -8.278039765328664,
           -1.0522896184683832,
           -0.0030922574687797626,
           -8.278039765328664,
           0.7558027208894907,
           -0.12742084794107209,
           -8.278039765328664,
           -8.278039765328664,
           0.38024285883505937,
           1.9744914084595764,
           -8.278039765328664,
           -0.9931714409648797,
           -8.278039765328664,
           -8.278039765328664,
           -8.278039765328664,
           -1.8569250943815656,
           0.9503337590469536,
           -8.278039765328664,
           1.9353852226677044,
           0.8653992384368676,
           -0.29532244199440477,
           -8.278039765328664,
           -8.278039765328664,
           -8.278039765328664,
           1.0916715480780133,
           -8.278039765328664,
           -8.278039765328664,
           -8.278039765328664,
           -2.702705645529023,
           -8.278039765328664,
           -8.278039765328664,
           0.2561496678679998,
           -8.278039765328664,
           0.4489602768324635,
           -8.278039765328664,
           0.8116116561321741,
           -8.278039765328664,
           -8.278039765328664,
           1.2186709943164453,
           -8.278039765328664,
           -8.278039765328664,
           -8.278039765328664,
           -8.278039765328664,
           -8.278039765328664,
           1.732755920210982,
           1.8741344910115854,
           1.1776537772271767,
           1.7779500448724628,
           1.3559667119832841,
           -8.278039765328664,
           -0.36242811182030693,
           1.0185392695909394,
           -8.278039765328664,
           -1.122884735422158,
           -0.10762209591979965
          ],
          [
           -8.278039765328664,
           -2.357809641521205,
           -1.235724504516914,
           -8.278039765328664,
           0.5286915436787253,
           -8.278039765328664,
           -1.1928268281074739,
           -2.303380136157129,
           0.758266750742774,
           -8.278039765328664,
           0.9403390247698692,
           3.822138481056891,
           0.32626958025869013,
           -8.278039765328664,
           -0.43597859638011044,
           -8.278039765328664,
           -0.11137845799991812,
           -0.7928682725766849,
           -0.5763320794147754,
           4.547703273637116,
           -8.278039765328664,
           -8.278039765328664,
           0.34210010645406447,
           -0.9514429155067781,
           3.0310358466351497,
           2.2767539386198403,
           -8.278039765328664,
           -8.278039765328664,
           2.8653910034416223,
           -3.0458713520620933,
           0.291131074415348,
           0.7997668136910606,
           0.007755888759603902,
           -1.8212251732924376,
           -8.278039765328664,
           -0.6985287413677823,
           -1.2953799065943017,
           -8.278039765328664,
           -0.8933908208115449,
           -3.797016008219666,
           -8.278039765328664,
           -1.6590837637396096,
           -1.5721504039636236,
           0.2906604698375717,
           -8.278039765328664,
           -1.359797424746769,
           0.3156841698104455,
           -8.278039765328664,
           -0.7239549063208857,
           -0.8005272934993477,
           1.3357853821187307,
           0.28672200070522263,
           -8.278039765328664,
           0.08989231789176606,
           -0.16298247608399963,
           -8.278039765328664,
           -8.278039765328664,
           -1.327160221818704,
           1.0028842115231575,
           2.9308057094756053,
           -8.278039765328664,
           -8.278039765328664,
           -8.278039765328664,
           -8.278039765328664,
           -8.278039765328664,
           -0.26258882107979853,
           -4.098716854536918,
           4.547703273637116,
           0.8216543206502923,
           0.09683091600962435,
           -1.458959895969132,
           -0.035408099245105795,
           -8.278039765328664,
           -8.278039765328664,
           -1.1377903197034647,
           1.8198792544737457,
           -0.2927142124527414,
           0.6658997389454813,
           -0.7903374874456157,
           1.1450454471440377,
           -8.278039765328664,
           -8.278039765328664,
           -1.678953715826499,
           -2.946918030596027,
           -1.1085340529896293,
           -0.37200923778420725,
           4.547703273637116,
           -8.278039765328664,
           -8.278039765328664,
           -0.09155657010606205,
           -0.45476968956714053,
           -2.464402852947625,
           -2.8363517704827386,
           -8.278039765328664,
           -1.6991767606729995,
           1.2647611734405202,
           -1.9530937604906355,
           0.267109189582235,
           0.4089055159255175,
           0.6265033465518318,
           -0.598852749170555
          ],
          [
           -8.278039765328664,
           -8.278039765328664,
           -8.278039765328664,
           -8.278039765328664,
           0.785917396324476,
           -8.278039765328664,
           -8.278039765328664,
           0.38407272689812494,
           -2.8206673753764275,
           -8.278039765328664,
           -8.278039765328664,
           -8.278039765328664,
           -8.278039765328664,
           -8.278039765328664,
           -0.3773265627729264,
           -3.521935868183405,
           -8.278039765328664,
           -8.278039765328664,
           -8.278039765328664,
           -8.278039765328664,
           -8.278039765328664,
           -8.278039765328664,
           0.48998327378919126,
           -0.7146710119593392,
           -8.278039765328664,
           1.7648611137594115,
           -8.278039765328664,
           -8.278039765328664,
           -8.278039765328664,
           -1.429074700408359,
           -8.278039765328664,
           -8.278039765328664,
           0.631036252125755,
           -1.896104532309776,
           -8.278039765328664,
           -8.278039765328664,
           -4.637925254649273,
           3.278778270683739,
           -4.7467617926325065,
           -8.278039765328664,
           -8.278039765328664,
           -0.44775222019404,
           -1.0551907808738954,
           0.2518571672940429,
           -8.278039765328664,
           -8.278039765328664,
           -0.05582151728090631,
           -8.278039765328664,
           -1.0482951249698074,
           -8.278039765328664,
           -8.278039765328664,
           0.6307911001333356,
           -8.278039765328664,
           2.337185185143778,
           0.359442637018284,
           -8.278039765328664,
           -8.278039765328664,
           1.0340769047825258,
           -8.278039765328664,
           0.11186571183302382,
           -1.7107935511855108,
           1.3027489043997276,
           -8.278039765328664,
           2.9880965988902415,
           -8.278039765328664,
           -8.278039765328664,
           -2.941452532261624,
           -8.278039765328664,
           1.1062856376724772,
           0.10177877064494749,
           -8.278039765328664,
           -8.278039765328664,
           -0.7154306882016438,
           -8.278039765328664,
           -8.278039765328664,
           -8.278039765328664,
           -1.2082202930402608,
           0.9105753233940539,
           -8.278039765328664,
           1.3133406582010492,
           -8.278039765328664,
           -8.278039765328664,
           1.0187556473959438,
           1.7814427101368193,
           -1.9735528585542228,
           0.05529393080842494,
           -8.278039765328664,
           -8.278039765328664,
           0.07191631698784143,
           -8.278039765328664,
           -8.278039765328664,
           -8.278039765328664,
           -4.723609885930868,
           -8.278039765328664,
           -1.042687726310195,
           -8.278039765328664,
           -8.278039765328664,
           0.22440872892913186,
           1.8466834211739798,
           0.7669086494906889,
           -0.3491454788006616
          ],
          [
           1.6954258184093378,
           -0.3675358293526256,
           -0.968675060754333,
           0.8785286884544751,
           -0.8781172917023904,
           0.5678559929897922,
           -8.278039765328664,
           0.09984945584877283,
           -0.09581495769810415,
           -8.278039765328664,
           0.1684954145659629,
           -8.278039765328664,
           -8.278039765328664,
           2.6707218324131814,
           -8.278039765328664,
           -8.278039765328664,
           1.1057054659351797,
           -0.8025718307336945,
           -0.43188495774452645,
           -8.278039765328664,
           0.8343054909669565,
           2.713876538042053,
           -0.2039368350161484,
           0.38176759182587805,
           -8.278039765328664,
           -8.278039765328664,
           0.8505460203700113,
           -8.278039765328664,
           -8.278039765328664,
           -0.22727558096531564,
           1.4164074490973229,
           0.6122159791350177,
           -0.8370367210904701,
           -0.15890733271357887,
           2.306925233756436,
           -8.278039765328664,
           0.20146002452015638,
           2.2941319470453903,
           0.002472389542625074,
           4.547703273637116,
           -8.278039765328664,
           1.2527301361892689,
           -0.012753665413108281,
           1.0386426133780786,
           -8.278039765328664,
           -1.289458275230242,
           0.5307488586946476,
           -2.028504516222728,
           0.2677900757365669,
           -8.278039765328664,
           -0.3655941867093512,
           1.0491635805560722,
           -8.278039765328664,
           -8.278039765328664,
           -2.391889518296004,
           -8.278039765328664,
           1.0193902722829302,
           -0.8260381562097229,
           0.8108590965721935,
           0.5543357438348209,
           0.28117135728335296,
           -8.278039765328664,
           -8.278039765328664,
           3.749545710065734,
           -8.278039765328664,
           0.8478724678170358,
           0.336189708281722,
           0.28116232264923713,
           -0.08304477813077556,
           -0.1447689845711897,
           1.0436421698499734,
           1.145957742087913,
           -0.1988526840461249,
           0.8598678466135976,
           -8.278039765328664,
           1.11083654550887,
           1.129985787926314,
           -0.4015384820834651,
           -8.278039765328664,
           -0.5780269462953038,
           -8.278039765328664,
           -8.278039765328664,
           4.547703273637116,
           -0.8100407442355724,
           -3.7973002753755964,
           -0.9087331056271881,
           -8.278039765328664,
           -0.5168600982784097,
           0.7375299003038484,
           -8.278039765328664,
           -0.08717901658268191,
           -8.278039765328664,
           -2.0728654404062663,
           1.0504150617666304,
           -0.8171306958719714,
           -8.278039765328664,
           -0.5093636546901259,
           -1.011552022990123,
           -8.278039765328664,
           0.3577811617609285,
           0.33882501161662165
          ],
          [
           -1.1770574534816012,
           -1.7569487961147134,
           -0.3036089719843865,
           -0.6145778490886952,
           0.004820389547882689,
           -0.3293275747639599,
           -0.037188133568028185,
           0.16601053457697657,
           -0.21674073056198018,
           1.266291790517501,
           0.6115774213255265,
           1.0480351255289075,
           -0.5914662824355457,
           0.9888891225439398,
           0.1581025620410023,
           0.10292650001107709,
           0.2838560279571675,
           1.0214951142007336,
           0.5672719927260119,
           2.749847432322476,
           -0.05739447495882423,
           -0.1447375979963183,
           -0.03639431293067035,
           -0.26018247959660323,
           0.30039146036669107,
           2.4715619591807094,
           -0.2677453614089546,
           -0.9835479633751941,
           2.648170819273618,
           0.4504533694774002,
           -0.06278191656786439,
           0.08581650115215778,
           -0.058867729813707484,
           -0.3395607470496585,
           1.6541445594940323,
           -1.7026114188075518,
           -1.3916380830407298,
           -8.278039765328664,
           -2.1332525967370635,
           -0.9911531008643478,
           0.2678342151292144,
           0.12761343741719272,
           -0.5232892793766069,
           -8.278039765328664,
           0.704733972093472,
           -0.6845528592184495,
           0.4986095942740229,
           -0.06103082369907989,
           0.024789213446209418,
           -2.063560785350417,
           0.7799044235779579,
           -0.17799900517900785,
           -1.3053196325894332,
           -1.0857388337990088,
           -0.00424166798444399,
           -1.491755946788501,
           0.8916038964648649,
           0.7327644994749649,
           0.8591013506025289,
           -0.4382256818815813,
           0.6511180806989454,
           0.22131838165876677,
           -0.17446359745083875,
           -8.278039765328664,
           -1.3149961495292177,
           0.6286531537476391,
           -1.3072599586251146,
           -2.0714072129509935,
           0.3851535588443577,
           -0.7931194900773626,
           -1.9888835921715222,
           -1.0699606526759753,
           0.491671263649761,
           -0.31735531354170365,
           -0.7786724458474485,
           1.3517157683976235,
           -0.7213382008604067,
           0.154058597142549,
           0.8831245977157189,
           0.5713837965770716,
           -1.0040422014090242,
           -0.20821664499208165,
           0.732556131977371,
           -1.135618841098958,
           -0.4264815942990329,
           0.14712507781874523,
           1.4635442125337383,
           -2.263563720845537,
           0.11322435037557367,
           0.7598367944487187,
           0.6542104180075986,
           -1.0053385786605427,
           -1.9621975900765656,
           -1.6835861416686466,
           0.40581608007383746,
           0.24143624977835587,
           -1.960774011455709,
           -0.210590648627122,
           -1.2527074143234223,
           0.2512406157457736,
           -0.45437604075146115
          ],
          [
           -8.278039765328664,
           -8.278039765328664,
           -8.278039765328664,
           -8.278039765328664,
           0.5903864198330022,
           -8.278039765328664,
           -0.45226577666744133,
           -0.4040066765100135,
           -2.862677196770278,
           -8.278039765328664,
           -1.7022787999495754,
           -8.278039765328664,
           0.3969790137422998,
           0.5860777033687629,
           1.471513987705509,
           -0.25583873098111215,
           -0.13395695893986578,
           0.5920497952538609,
           -8.278039765328664,
           -0.006252303200882701,
           -0.2968015273537435,
           -1.1138576617153835,
           -0.4265201508003527,
           -0.7725962886590892,
           -2.0881203782017783,
           0.3365569312456704,
           -8.278039765328664,
           -8.278039765328664,
           -8.278039765328664,
           0.1277712813013538,
           -1.0021480957066349,
           -8.278039765328664,
           -0.21905071650201782,
           -1.3784985657682038,
           -0.2544930311009288,
           -8.278039765328664,
           -1.5888926226848075,
           -8.278039765328664,
           -1.7442491763029342,
           -1.1062251465798034,
           -8.278039765328664,
           -0.4016547740776238,
           -1.2736570396093023,
           -0.30360640027206787,
           -8.278039765328664,
           -3.065921810274539,
           -0.9833504118821581,
           -8.278039765328664,
           0.3605279358938039,
           -8.278039765328664,
           1.5215039243759985,
           0.7996043456656543,
           -8.278039765328664,
           2.2821599956378575,
           -0.09784591393205536,
           -8.278039765328664,
           0.18362309648092914,
           1.2815332776339576,
           0.3545501201432423,
           0.12542574159398404,
           -0.36650901145947057,
           0.495488608544588,
           -8.278039765328664,
           2.2701319974768186,
           -4.839377205121556,
           -8.278039765328664,
           -4.7752218228835295,
           -2.036432185656379,
           0.8423451213896261,
           -0.4171551228392124,
           -8.278039765328664,
           -1.4310357345549234,
           1.1241752887544216,
           -8.278039765328664,
           -2.2662804117931334,
           -8.278039765328664,
           -1.3161880822259089,
           0.6797564340373886,
           -8.278039765328664,
           0.9091462370574966,
           -8.278039765328664,
           -0.8649273438504158,
           1.2688822488032543,
           1.2744168010082726,
           -2.133345715604457,
           -0.05570876207237702,
           1.644253026979025,
           -1.5288674250579795,
           0.8167391602312593,
           -8.278039765328664,
           -8.278039765328664,
           4.547703273637116,
           -1.6086192861746047,
           -8.278039765328664,
           -0.11013790770591447,
           1.7409357150322942,
           -8.278039765328664,
           0.4800313108402304,
           2.250097020189897,
           0.5715728905843706,
           -8.278039765328664
          ],
          [
           4.547703273637116,
           -5.713541413666101,
           -4.513178579640934,
           -3.0622715704534116,
           0.35199064152960197,
           -3.7562972034801843,
           -0.9176935411990612,
           -0.5142182131886287,
           -5.685879352354168,
           -5.542121248112463,
           -0.7731884728036923,
           -1.8721287182272557,
           -5.3732902434143,
           -0.8192328276261035,
           2.7617567263293803,
           -1.872114890072232,
           -5.074801417243973,
           -4.459936308071251,
           -3.6980702842213953,
           1.9028223254911625,
           -2.0443198754752516,
           -2.6248958616780294,
           -0.159915509620395,
           -0.7582081307022234,
           -6.006005544313888,
           0.04999879646803178,
           2.4588269194221604,
           -5.327791555521239,
           -0.25700143756759447,
           -0.8273082811566991,
           -1.7090779952764106,
           -3.795203811034364,
           -0.2877964587883613,
           -0.6171645705053579,
           0.5988247375726239,
           -6.679213236946395,
           -6.806060772927179,
           -8.278039765328664,
           -7.608044491470357,
           4.547703273637116,
           -4.273592811672493,
           -0.4384190059004945,
           -1.4575058937522907,
           -8.278039765328664,
           0.02638422334469858,
           -5.419120336612693,
           -1.1993923890392775,
           4.547703273637116,
           -1.1785375763234978,
           4.547703273637116,
           -1.2883148733712502,
           0.7317281686514953,
           -7.021078936937054,
           -0.9971076864632457,
           0.20594866719329885,
           -6.592176828769931,
           -1.1596746987646191,
           1.0639002102445962,
           -2.2432363517148675,
           -3.6267024997465755,
           -2.909934274098693,
           -0.4302551103464625,
           -5.822079113745691,
           -8.278039765328664,
           -7.658650082565556,
           -4.665853514129237,
           -1.2003401339410438,
           -5.799830593967979,
           1.0396781609751895,
           -0.9569576803559501,
           -6.211429988395001,
           -4.3358013003933715,
           0.41902951097814733,
           -3.757272474537853,
           4.547703273637116,
           -4.975664735461085,
           -0.1127100506348173,
           0.7905389506393872,
           4.547703273637116,
           0.48412010597662,
           -7.045818542588649,
           -1.519055347284966,
           1.2906505140577427,
           -1.2023400142355538,
           -2.0723191778058956,
           -0.6349277466093481,
           0.6283755641781262,
           -6.599432101108475,
           0.5261327404435951,
           4.547703273637116,
           -0.9360127499888747,
           4.547703273637116,
           -8.278039765328664,
           -7.067146720172437,
           -2.39043894867502,
           -1.2501874193383655,
           -5.6074766364578865,
           0.3916835464608283,
           -2.9431964881687995,
           0.7700824563419592,
           -2.68487773844717
          ],
          [
           1.9383352408779035,
           2.1839402156353356,
           1.572665762339585,
           0.1682038638572014,
           -1.3227389505666582,
           -1.6900313403234941,
           -0.2477066914136508,
           -1.5317536421336948,
           0.6491474503114643,
           0.5955874129796437,
           0.13026436133080205,
           1.5362452137606524,
           -8.278039765328664,
           -0.4411280330330414,
           -8.278039765328664,
           -8.278039765328664,
           -8.278039765328664,
           -8.278039765328664,
           -8.278039765328664,
           -8.278039765328664,
           0.6009047384599921,
           -8.278039765328664,
           -1.6325448134449094,
           -0.2732808215109807,
           -8.278039765328664,
           1.7603562929561851,
           0.5138456980252434,
           -8.278039765328664,
           2.747818567299254,
           0.7492241704869312,
           -0.6112188651328896,
           -1.8898683146903108,
           -1.3332678298934517,
           -4.648865974693253,
           0.7724249661928131,
           -8.278039765328664,
           -8.278039765328664,
           -8.278039765328664,
           2.129790595093156,
           2.095966901799946,
           -8.278039765328664,
           -0.5881245800444195,
           -1.699523144704284,
           0.047556159173598,
           -1.388834173266477,
           1.6330685228167583,
           0.7316514640149824,
           -1.8225386089458462,
           -0.28653050038412564,
           -1.7563659179985718,
           0.7566624524416854,
           -0.4751448977444205,
           -0.4893107169491609,
           -8.278039765328664,
           -1.205094358007396,
           -2.6790917192021584,
           -0.6270279114846781,
           0.22722561145436218,
           -0.9980780166931899,
           -8.278039765328664,
           -8.278039765328664,
           -8.278039765328664,
           -8.278039765328664,
           2.175448187877752,
           -1.8200290431376078,
           0.1931847235251581,
           -8.278039765328664,
           2.06626079286489,
           -0.19215991749378952,
           -8.278039765328664,
           -8.278039765328664,
           -8.278039765328664,
           -0.43225343655308923,
           0.07642075718736131,
           -1.9812997592287689,
           -8.278039765328664,
           -0.5619142800194074,
           -1.8561398337632884,
           -0.28577377867122733,
           -3.262432796914587,
           -1.9956548635249707,
           -8.278039765328664,
           -0.5553507986458872,
           -0.2939199086548513,
           -1.0790287441226,
           -0.6117954201445798,
           0.4504159495263534,
           2.445255804895093,
           0.72035225626652,
           -0.7735064442858408,
           -1.5596438932268524,
           -8.278039765328664,
           -3.045554529471031,
           -8.278039765328664,
           0.3137840060221796,
           1.4656424684166867,
           2.2298179503453475,
           0.055896379665918414,
           -8.278039765328664,
           -0.4719230996735022,
           -1.3470520088915343
          ],
          [
           -8.278039765328664,
           -8.278039765328664,
           -8.278039765328664,
           -8.278039765328664,
           -0.7917897102349488,
           -8.278039765328664,
           -1.3050328376177902,
           -8.278039765328664,
           -8.278039765328664,
           1.1424881199968524,
           -0.16820042428813872,
           -8.278039765328664,
           1.253000454567381,
           -8.278039765328664,
           0.2190705468232403,
           -8.278039765328664,
           0.5101479931647893,
           -1.2570507052441795,
           -8.278039765328664,
           -8.278039765328664,
           1.9004333151839563,
           -8.278039765328664,
           -8.278039765328664,
           0.5763759080813078,
           1.8892707499488217,
           -8.278039765328664,
           -0.22297206254669705,
           -8.278039765328664,
           3.101902956969456,
           1.056895188438306,
           -0.23020977209209514,
           1.1299354684369838,
           -8.278039765328664,
           -8.278039765328664,
           -8.278039765328664,
           -8.278039765328664,
           -0.2704105927021977,
           4.547703273637116,
           0.6081395228724537,
           -8.278039765328664,
           -0.30246957693040516,
           1.5005190266355382,
           -1.267625250837136,
           1.7135476862024572,
           -8.278039765328664,
           -0.16575178081073105,
           0.734731606756218,
           -1.2302204222378446,
           1.6115431849597541,
           -8.278039765328664,
           -8.278039765328664,
           -8.278039765328664,
           -8.278039765328664,
           -8.278039765328664,
           -0.9592987437741087,
           -8.278039765328664,
           1.5871507076559812,
           0.11819985039823995,
           -8.278039765328664,
           1.346889163110719,
           -1.9924659606433013,
           -8.278039765328664,
           -8.278039765328664,
           3.2091244057545247,
           -8.278039765328664,
           0.02815328650889563,
           -8.278039765328664,
           0.03478912208842143,
           1.2628855581662775,
           -8.278039765328664,
           -1.0068515967624712,
           -8.278039765328664,
           -8.278039765328664,
           0.4971965213562353,
           -8.278039765328664,
           -8.278039765328664,
           1.90695124507509,
           -1.6268735214812116,
           0.11602608403864134,
           -8.278039765328664,
           -8.278039765328664,
           -8.278039765328664,
           -8.278039765328664,
           0.11034604655021073,
           -0.13274197507360913,
           -8.278039765328664,
           -8.278039765328664,
           -8.278039765328664,
           1.2424012471279655,
           1.65883795262005,
           0.9489964853509666,
           -1.6758223171197515,
           0.04936988412437187,
           0.6511988659311948,
           -0.9105962248451258,
           -8.278039765328664,
           -8.278039765328664,
           -0.7982015249249526,
           -8.278039765328664,
           0.8929383538422822,
           -8.278039765328664
          ],
          [
           1.1565801609631783,
           1.568469289285895,
           0.006655090196701847,
           0.818759956459726,
           -1.1502186589071337,
           -0.06869633056274507,
           0.5356909007194585,
           -0.45592981412682637,
           0.09573073858805262,
           0.16892240689537588,
           0.26573043138087843,
           -8.278039765328664,
           -1.1984899424999103,
           1.960365534277283,
           0.5241685306492891,
           -0.05549141729965296,
           0.8487686690294813,
           0.523953798391447,
           -0.15518145311806275,
           1.3967849409936233,
           1.1038405061148078,
           -8.278039765328664,
           -1.3475340594947702,
           -0.19651910955801757,
           0.059357340940223685,
           2.8094570508223002,
           0.3299620851839327,
           0.6875860800053373,
           2.985787475719201,
           0.6223259760695165,
           -0.8441636815815294,
           0.19219448185365204,
           -1.1684013877853756,
           -0.1679308657030927,
           2.497300654894403,
           0.24056497646378505,
           -0.9330697803205227,
           2.0912623714099676,
           1.5619050722498273,
           1.4116263608590929,
           0.2055692508923336,
           0.004573330885281928,
           -1.059017387955261,
           -8.278039765328664,
           0.6824177071732703,
           0.558604633255818,
           0.7943802817537586,
           -1.6828081401093125,
           -0.34254460867368736,
           -0.7605847976652396,
           1.4464392581974912,
           0.02309369611250646,
           -0.144785835466614,
           -0.8217627319804257,
           -1.026143176017581,
           -1.4660667696818048,
           0.01347784526434476,
           0.5492776370848507,
           0.604907854399363,
           -8.278039765328664,
           0.4563679155679806,
           -0.8589295565275805,
           -0.021111349564568574,
           -8.278039765328664,
           -1.5444970331420123,
           -0.4010539827185087,
           -1.2290272226230798,
           1.2063189208882177,
           -0.10790860097748431,
           -2.10165770145182,
           -0.7864948413915133,
           -0.08206571163069307,
           0.47374647767235234,
           1.142050817004687,
           0.3148332924237292,
           -0.030302668719483054,
           -0.38987556795021583,
           -1.4402690529151452,
           0.7984182990061579,
           -2.093082910896895,
           -1.1429745868323118,
           0.6251212773337199,
           0.5339563796982684,
           0.315814189427418,
           -1.2324004152071866,
           -0.2753546570619919,
           1.8946107612351457,
           1.7119455256512883,
           0.2622457243474334,
           0.01211832026009259,
           0.25048518783346907,
           -1.860930669856958,
           -2.0303553232805975,
           0.12961827657277541,
           0.754895391668656,
           0.7050825467255066,
           1.6097430519831477,
           -0.17115940504060081,
           -8.278039765328664,
           -0.41813506063769307,
           -0.5037030596277599
          ],
          [
           2.1320460321810883,
           2.0062274967215172,
           1.8199798140756298,
           -8.278039765328664,
           -1.193008678977376,
           -0.6454712574997316,
           0.2087036842095779,
           -0.7489001453584527,
           -0.4034335856440101,
           0.32653761905238365,
           0.02214493421617932,
           2.297163633669639,
           -8.278039765328664,
           -8.278039765328664,
           1.082608471357959,
           -0.7152373116892644,
           -8.278039765328664,
           0.042489051258785236,
           -8.278039765328664,
           -8.278039765328664,
           1.1463668916991234,
           -0.08969857587843809,
           -1.7049461579574532,
           -0.0899488539575309,
           -8.278039765328664,
           0.849890393316625,
           0.1374622843159412,
           0.7141730297559409,
           -8.278039765328664,
           0.1051431463347755,
           -0.8796809423226921,
           0.08923594031695689,
           -1.982984539440819,
           -0.6138506754163432,
           0.9006943171424207,
           -8.278039765328664,
           -8.278039765328664,
           4.547703273637116,
           1.4643547602238314,
           1.6119665176824416,
           -8.278039765328664,
           -2.2922588992610025,
           -0.9693133814144638,
           0.006128106557647302,
           -0.5806628685069448,
           1.2716957429165552,
           0.7999138223065299,
           -8.278039765328664,
           0.10500239566911686,
           -8.278039765328664,
           0.8849318033912927,
           -0.07611517582236141,
           -8.278039765328664,
           -8.278039765328664,
           -0.7162104651149759,
           -1.7311584720674675,
           -0.5120037872850912,
           -0.30074766122052465,
           -0.3642600990784353,
           -8.278039765328664,
           0.02619646282286925,
           -2.054568851412263,
           0.24186437825026535,
           -8.278039765328664,
           -0.564843627357039,
           0.5911739302983869,
           -8.278039765328664,
           1.754046009406752,
           -0.46062199468359183,
           -1.2049582135478414,
           -8.278039765328664,
           -0.033499855161314145,
           0.6249307994990698,
           0.23859165981265018,
           0.505835520613474,
           -8.278039765328664,
           -0.7971888826192768,
           -1.0317080081319758,
           -0.5480438856131085,
           -8.278039765328664,
           -1.6337706613938578,
           -8.278039765328664,
           -0.5893622536067881,
           -0.2384099119876721,
           -1.1345044377518012,
           -0.6102159300027785,
           1.2867581312525818,
           2.124526470921706,
           0.7150902145916048,
           -0.4343136533567989,
           -0.43561963904884304,
           -1.1459698182990665,
           -2.4605267760257084,
           -2.6359280919893724,
           0.7701943816454083,
           0.4084424866049179,
           2.129368743002034,
           0.002585189046290489,
           -8.278039765328664,
           -0.4805817332574872,
           -1.834661057711061
          ],
          [
           -0.6113186625438712,
           -0.9162207595236216,
           -0.35511102997079286,
           1.1609396440944022,
           -0.41388465431015964,
           -0.8259129379083872,
           -0.038920018561671446,
           -0.9553173121703687,
           -2.01309467188959,
           0.7193570333505113,
           -0.02601770188441949,
           -8.278039765328664,
           -0.8040595645213563,
           0.07468367511384996,
           1.0363819442842266,
           -0.9603440234513598,
           0.9624856438723479,
           1.2773292688432727,
           -8.278039765328664,
           1.7371480977019018,
           -0.9978164148842225,
           0.9616765742100156,
           -0.9045585853543825,
           -0.38910349370300046,
           1.447039491929061,
           -8.278039765328664,
           -0.4172615767641909,
           -8.278039765328664,
           3.3560035955771608,
           0.48294121205738116,
           0.43739737349876767,
           1.350522896510001,
           -0.7994376162438821,
           -0.3263917767760418,
           1.2882366743397047,
           -0.08361843255466674,
           -0.7094571346544384,
           -8.278039765328664,
           -0.6557747431398975,
           -0.771307021772272,
           0.7047105829599185,
           1.1843036659138297,
           -0.6905407480301227,
           -0.6638617991697139,
           1.3782693334869094,
           0.22310499031739212,
           1.0641258712480837,
           -0.5082192045811832,
           1.4443038482752868,
           -0.6274497369652715,
           0.35618342871442155,
           -1.8780923495868918,
           0.30275436782588866,
           0.4280496247852909,
           -0.832383493501178,
           -1.991429754128608,
           0.9873960853303229,
           -0.5097256488941145,
           1.6095977531320946,
           0.29082975589748716,
           -0.5285273982572626,
           -1.168273451683258,
           0.8657955135117796,
           2.5409776929753054,
           -0.44401606976760516,
           0.9576930574108766,
           -0.7475854676548961,
           -0.8346290671863392,
           -0.11407417967328393,
           -0.6442059799078588,
           -0.1715216937988067,
           -0.01933429152069416,
           0.2127700030738083,
           0.44381246021597937,
           -1.2831664942879228,
           0.9997050379975386,
           0.6955978341044199,
           -0.7690707626654886,
           1.2798600539743419,
           -0.900794398269365,
           -0.4502237381969211,
           0.3593486304716827,
           0.05809937906492017,
           0.32725231514986636,
           -0.7083990458202067,
           -1.2390477632366321,
           1.418212781416302,
           -8.278039765328664,
           0.5595460858046766,
           0.589603124248254,
           1.3409910061510568,
           -0.3942053115276674,
           0.022303131301489285,
           -0.06608680767254481,
           1.0271266896265545,
           0.7446915494146512,
           -0.674023807990827,
           -0.02741014309885915,
           -0.8138807396764476,
           -0.10881069228922227,
           -0.7311568421876605
          ],
          [
           -8.278039765328664,
           -8.278039765328664,
           -8.278039765328664,
           -8.278039765328664,
           -0.8294694256477484,
           0.8717506557430613,
           0.2589658636325993,
           -0.6115128038856572,
           0.5192283832773392,
           -0.05913323167644583,
           0.8849726531962602,
           2.2479650195620224,
           -0.34872406207269624,
           -8.278039765328664,
           1.4153444679483125,
           -2.001198552945808,
           -0.32374857838319177,
           0.18434567391387768,
           1.0304562436181206,
           2.7436605194401196,
           -0.9427076638821379,
           1.084878241636061,
           -1.3085596701674802,
           -0.012127068010544,
           0.11061552514966616,
           -8.278039765328664,
           0.049042957055043065,
           0.9691857900513158,
           2.870085388296176,
           0.1261487909004072,
           0.8701001607712334,
           0.9578772450703249,
           -0.9653195631949062,
           -0.09665381460315835,
           2.372964842522947,
           0.10070204992742389,
           1.0468899608251003,
           3.1073859576421228,
           -1.6165865649608093,
           -0.8738919126737899,
           1.1646792983300664,
           1.404117284421863,
           -0.8407051190826524,
           -8.278039765328664,
           0.8961948208804879,
           -0.16817360691075098,
           0.5844345187792468,
           0.4180386226302848,
           1.1005569005568807,
           -0.9821257552158679,
           0.5993444112194457,
           -1.2462733772900842,
           0.2696619737027548,
           0.4695732611970689,
           -0.8820459829483535,
           -1.4818640976190878,
           1.363046250881426,
           -0.06771380764392507,
           -0.3224869349803253,
           -0.31330712198469235,
           0.77934432124019,
           -1.0390567285274515,
           -0.3401387663421172,
           -8.278039765328664,
           -1.667192156056008,
           -0.5149642760767713,
           -1.366647995753751,
           -0.6296892975015126,
           0.13779197205907118,
           -1.432405059061777,
           -0.006322252763494341,
           -0.1046773759877059,
           0.41258054470521865,
           1.224635720440554,
           0.2592774723473622,
           -0.7720370000397019,
           0.8721328101327589,
           -0.8210268310997634,
           1.2616562723449585,
           -8.278039765328664,
           -2.6637985285132006,
           0.24583466903797457,
           0.5866141442621342,
           0.23073593008472917,
           -0.6425720785980982,
           -0.49236045944722884,
           1.8881470832861147,
           -8.278039765328664,
           -0.374309926027707,
           0.625969693440598,
           1.0645157352079355,
           -0.3943905876543725,
           -1.331070393791679,
           0.022923495005221155,
           -0.166307427463111,
           1.6470981608039397,
           -8.278039765328664,
           -8.278039765328664,
           -0.5255993218909537,
           0.16040386806418447,
           -0.687608913586652
          ],
          [
           4.547703273637116,
           -5.090328430372147,
           -5.0243513646756,
           1.2645545061281784,
           0.3750771159283521,
           -1.3426244101346057,
           -3.660719088646046,
           -1.8076781505519466,
           -3.9325303335601314,
           0.655674876498311,
           0.02429501613349684,
           -3.6944954261280523,
           4.547703273637116,
           1.2632136097643851,
           -0.9597251446703409,
           1.3730623274378064,
           -4.1962252882413775,
           -2.434050073700855,
           -2.760536074430043,
           1.0317833062891553,
           -5.443747016305181,
           0.42725290497191254,
           0.7601712604120674,
           -0.5301907743156002,
           -4.716572819415758,
           2.1973747987314467,
           -2.519210978336383,
           -4.264852985511245,
           0.4106449480369066,
           -0.4600713946468874,
           -1.756930435215614,
           -0.6551065226736849,
           0.9209235574481832,
           -2.405166915674798,
           0.4161591568743635,
           -5.904278752743985,
           -5.5296742896028075,
           -8.278039765328664,
           -6.324915963968013,
           -6.243737948354333,
           -2.4988482609065996,
           0.30710812381663993,
           -0.1327972459340902,
           -8.278039765328664,
           -1.7941087534475306,
           -5.5314861835321425,
           -3.7476323107407623,
           -6.171056228013513,
           -2.147428473409389,
           -1.471259264475899,
           -0.2053714193133615,
           0.42444196011297536,
           -1.1555756250227789,
           -0.8450969787119604,
           0.6053916494606069,
           -5.887923711965367,
           -2.279636688074878,
           0.8129977533354973,
           -1.0470875224341416,
           -4.232460769792132,
           -0.42277752121494455,
           -1.0354276600244832,
           -1.6770616433013612,
           -8.278039765328664,
           -2.334802941262594,
           -0.9773957486803432,
           1.0246485643260925,
           -3.4715336278041473,
           -0.06049377377246146,
           1.0916773026047901,
           -2.465864970258497,
           -3.1525101147812484,
           0.4853294609611242,
           -2.6957939302934966,
           -1.8949296490255323,
           -0.7753759173022959,
           -1.8784967879113414,
           0.3924192371132472,
           -4.383369819590717,
           -0.47664811462761175,
           2.5022737050188906,
           0.6377744482670362,
           -1.3059264287108707,
           1.0565094991189692,
           -2.7183333811284998,
           1.1336241098046909,
           0.12222857738953843,
           -5.819908949398634,
           0.502920293938099,
           -4.905634795506436,
           -0.6609254242668928,
           -3.992240026031091,
           -5.435394563767588,
           -4.39831689275173,
           -1.016758214497745,
           -1.229331484209353,
           -4.402349711050338,
           0.23523375403463187,
           -0.4244018423746167,
           -0.036162936396551715,
           1.5192468749525183
          ],
          [
           -6.6538571051921815,
           -6.840976166515548,
           4.547703273637116,
           -1.384317057770959,
           0.4703317187628447,
           -5.4249986055968575,
           -2.8801477686977686,
           -4.472930201067426,
           -4.877579284189954,
           0.672996717301884,
           1.5560628416266693,
           4.547703273637116,
           4.547703273637116,
           -3.079838723330754,
           -3.712822139703564,
           1.9512450356703503,
           -5.367734871227743,
           -3.7272215069533625,
           -4.370280701989063,
           -1.5776423768217998,
           -7.482187609811572,
           -1.8055621989769932,
           1.219282800663543,
           -1.1816613608260154,
           -4.508487573729619,
           0.5646404304188501,
           -4.734934785014476,
           -5.62072500950501,
           -3.322523613791146,
           -0.5975660714569828,
           -3.9890755515227094,
           -4.2038556608558935,
           1.378797841839842,
           -3.3204938823797923,
           -3.6580451933329545,
           4.547703273637116,
           -7.387984344022745,
           -8.278039765328664,
           4.547703273637116,
           -7.181570244545899,
           -4.477960062776971,
           -2.211424771490919,
           -0.006507938802914292,
           -8.278039765328664,
           -1.873883046962251,
           -7.3834089906882605,
           -5.805542158348259,
           -5.742183144705623,
           -5.9979345053719575,
           4.547703273637116,
           -4.307934709244903,
           0.5720768239804743,
           -6.909855327472676,
           -6.552758456455949,
           0.7100056378599414,
           4.547703273637116,
           -3.622862882956273,
           -1.3066031771616455,
           -4.329935887550848,
           -6.193541439029862,
           -5.068296488789314,
           1.8572598667876699,
           -4.412048597284537,
           -8.278039765328664,
           -6.165061390121177,
           -1.8449550078356467,
           4.547703273637116,
           -8.145678835298156,
           -4.559790112517567,
           1.4865428119098776,
           -0.9924967736453985,
           -4.693143505405101,
           -2.92044490499266,
           -4.426207422623049,
           -6.227092648268123,
           -2.272600396103449,
           -1.024591177330403,
           1.072857054303937,
           -4.463881840883645,
           0.02759780142232581,
           -1.247101266464452,
           -0.9107121799589637,
           -5.476847116691802,
           -1.8654890252537062,
           -6.633154452812133,
           0.8777420289955236,
           -4.135778454274103,
           4.547703273637116,
           -0.23811238744592594,
           -4.528891910897599,
           -2.7367977379041277,
           -5.06228385070309,
           -5.463220305111455,
           4.547703273637116,
           -5.874544071055962,
           -5.3017761713735485,
           -6.6633331149390775,
           -0.7524498477472076,
           -2.27147017275077,
           0.4784282812631243,
           -2.833762874530472
          ],
          [
           -1.15971346412295,
           -8.278039765328664,
           -2.589316722768546,
           2.098197971965539,
           -0.22455264369620467,
           -0.5327107248781648,
           -0.129913242173789,
           -0.32372715312079475,
           0.28887694981379664,
           0.19249346796822997,
           0.48674222266971096,
           0.6891905731216791,
           -1.4551446532023826,
           1.7176137287438022,
           0.43090736685525255,
           0.8197521382994514,
           0.9631468700136896,
           -0.2739857435617244,
           0.22247051671647697,
           1.8745203693851455,
           -1.1449566408914804,
           -0.3136787722947865,
           0.4760072038080787,
           -0.5955027611225813,
           -0.26343717226679375,
           2.7996624180513536,
           0.3442650039920469,
           0.03593756106199602,
           -0.949275389229912,
           -0.5606698023606123,
           -1.53110515356598,
           -0.455831573881125,
           0.7098402791071526,
           -1.6348279937450965,
           1.5546859882980908,
           0.24398057542964507,
           -0.443467485149101,
           -8.278039765328664,
           -2.330364648002228,
           -1.602869215448605,
           0.2584978765947432,
           -0.2775578046627852,
           -0.5435457128054224,
           -8.278039765328664,
           1.9081577389375146,
           -3.506083369350753,
           -1.3081011194470442,
           -0.34452962458056596,
           -3.44000901032431,
           -1.933530240241867,
           0.15262911342707222,
           0.5618650150903979,
           -0.23254200970727223,
           0.38483795957312106,
           0.48718778295844123,
           -1.7444952799338378,
           0.36856304048648464,
           0.9159605755488164,
           0.4435633235012156,
           -1.2176035290242442,
           0.12631503991064047,
           1.5438617989098473,
           -0.22525611499507675,
           -8.278039765328664,
           -0.8882954744189643,
           -1.2609076373179868,
           0.25906357113432676,
           -0.8072576907174239,
           -1.7288204077022509,
           1.0071780756543782,
           1.4919068813794865,
           -0.4062106639355817,
           -0.23401462209448817,
           0.2302078090751286,
           -0.30806581323362614,
           -0.23597182468908748,
           -1.3352940169648417,
           0.17124380230339267,
           0.08289770346840605,
           0.45102197760711016,
           2.354376740068278,
           2.21948749989603,
           -0.728601221568046,
           1.202107581213107,
           -2.2789047593843157,
           0.9280663815741752,
           1.1130786733110325,
           -1.6726132317136577,
           0.446072203624375,
           -2.466582620952413,
           0.30887664957953403,
           -0.7031201424728432,
           -1.9721992941430357,
           -1.4617794696388273,
           -0.17630507364321565,
           0.1889166405379499,
           -1.46279456462475,
           0.7945255654529385,
           1.2774279919363385,
           -0.45390517981190026,
           1.144730384204826
          ]
         ]
        }
       ],
       "layout": {
        "coloraxis": {
         "colorscale": [
          [
           0,
           "#0d0887"
          ],
          [
           0.1111111111111111,
           "#46039f"
          ],
          [
           0.2222222222222222,
           "#7201a8"
          ],
          [
           0.3333333333333333,
           "#9c179e"
          ],
          [
           0.4444444444444444,
           "#bd3786"
          ],
          [
           0.5555555555555556,
           "#d8576b"
          ],
          [
           0.6666666666666666,
           "#ed7953"
          ],
          [
           0.7777777777777778,
           "#fb9f3a"
          ],
          [
           0.8888888888888888,
           "#fdca26"
          ],
          [
           1,
           "#f0f921"
          ]
         ]
        },
        "margin": {
         "t": 60
        },
        "template": {
         "data": {
          "bar": [
           {
            "error_x": {
             "color": "#2a3f5f"
            },
            "error_y": {
             "color": "#2a3f5f"
            },
            "marker": {
             "line": {
              "color": "#E5ECF6",
              "width": 0.5
             },
             "pattern": {
              "fillmode": "overlay",
              "size": 10,
              "solidity": 0.2
             }
            },
            "type": "bar"
           }
          ],
          "barpolar": [
           {
            "marker": {
             "line": {
              "color": "#E5ECF6",
              "width": 0.5
             },
             "pattern": {
              "fillmode": "overlay",
              "size": 10,
              "solidity": 0.2
             }
            },
            "type": "barpolar"
           }
          ],
          "carpet": [
           {
            "aaxis": {
             "endlinecolor": "#2a3f5f",
             "gridcolor": "white",
             "linecolor": "white",
             "minorgridcolor": "white",
             "startlinecolor": "#2a3f5f"
            },
            "baxis": {
             "endlinecolor": "#2a3f5f",
             "gridcolor": "white",
             "linecolor": "white",
             "minorgridcolor": "white",
             "startlinecolor": "#2a3f5f"
            },
            "type": "carpet"
           }
          ],
          "choropleth": [
           {
            "colorbar": {
             "outlinewidth": 0,
             "ticks": ""
            },
            "type": "choropleth"
           }
          ],
          "contour": [
           {
            "colorbar": {
             "outlinewidth": 0,
             "ticks": ""
            },
            "colorscale": [
             [
              0,
              "#0d0887"
             ],
             [
              0.1111111111111111,
              "#46039f"
             ],
             [
              0.2222222222222222,
              "#7201a8"
             ],
             [
              0.3333333333333333,
              "#9c179e"
             ],
             [
              0.4444444444444444,
              "#bd3786"
             ],
             [
              0.5555555555555556,
              "#d8576b"
             ],
             [
              0.6666666666666666,
              "#ed7953"
             ],
             [
              0.7777777777777778,
              "#fb9f3a"
             ],
             [
              0.8888888888888888,
              "#fdca26"
             ],
             [
              1,
              "#f0f921"
             ]
            ],
            "type": "contour"
           }
          ],
          "contourcarpet": [
           {
            "colorbar": {
             "outlinewidth": 0,
             "ticks": ""
            },
            "type": "contourcarpet"
           }
          ],
          "heatmap": [
           {
            "colorbar": {
             "outlinewidth": 0,
             "ticks": ""
            },
            "colorscale": [
             [
              0,
              "#0d0887"
             ],
             [
              0.1111111111111111,
              "#46039f"
             ],
             [
              0.2222222222222222,
              "#7201a8"
             ],
             [
              0.3333333333333333,
              "#9c179e"
             ],
             [
              0.4444444444444444,
              "#bd3786"
             ],
             [
              0.5555555555555556,
              "#d8576b"
             ],
             [
              0.6666666666666666,
              "#ed7953"
             ],
             [
              0.7777777777777778,
              "#fb9f3a"
             ],
             [
              0.8888888888888888,
              "#fdca26"
             ],
             [
              1,
              "#f0f921"
             ]
            ],
            "type": "heatmap"
           }
          ],
          "heatmapgl": [
           {
            "colorbar": {
             "outlinewidth": 0,
             "ticks": ""
            },
            "colorscale": [
             [
              0,
              "#0d0887"
             ],
             [
              0.1111111111111111,
              "#46039f"
             ],
             [
              0.2222222222222222,
              "#7201a8"
             ],
             [
              0.3333333333333333,
              "#9c179e"
             ],
             [
              0.4444444444444444,
              "#bd3786"
             ],
             [
              0.5555555555555556,
              "#d8576b"
             ],
             [
              0.6666666666666666,
              "#ed7953"
             ],
             [
              0.7777777777777778,
              "#fb9f3a"
             ],
             [
              0.8888888888888888,
              "#fdca26"
             ],
             [
              1,
              "#f0f921"
             ]
            ],
            "type": "heatmapgl"
           }
          ],
          "histogram": [
           {
            "marker": {
             "pattern": {
              "fillmode": "overlay",
              "size": 10,
              "solidity": 0.2
             }
            },
            "type": "histogram"
           }
          ],
          "histogram2d": [
           {
            "colorbar": {
             "outlinewidth": 0,
             "ticks": ""
            },
            "colorscale": [
             [
              0,
              "#0d0887"
             ],
             [
              0.1111111111111111,
              "#46039f"
             ],
             [
              0.2222222222222222,
              "#7201a8"
             ],
             [
              0.3333333333333333,
              "#9c179e"
             ],
             [
              0.4444444444444444,
              "#bd3786"
             ],
             [
              0.5555555555555556,
              "#d8576b"
             ],
             [
              0.6666666666666666,
              "#ed7953"
             ],
             [
              0.7777777777777778,
              "#fb9f3a"
             ],
             [
              0.8888888888888888,
              "#fdca26"
             ],
             [
              1,
              "#f0f921"
             ]
            ],
            "type": "histogram2d"
           }
          ],
          "histogram2dcontour": [
           {
            "colorbar": {
             "outlinewidth": 0,
             "ticks": ""
            },
            "colorscale": [
             [
              0,
              "#0d0887"
             ],
             [
              0.1111111111111111,
              "#46039f"
             ],
             [
              0.2222222222222222,
              "#7201a8"
             ],
             [
              0.3333333333333333,
              "#9c179e"
             ],
             [
              0.4444444444444444,
              "#bd3786"
             ],
             [
              0.5555555555555556,
              "#d8576b"
             ],
             [
              0.6666666666666666,
              "#ed7953"
             ],
             [
              0.7777777777777778,
              "#fb9f3a"
             ],
             [
              0.8888888888888888,
              "#fdca26"
             ],
             [
              1,
              "#f0f921"
             ]
            ],
            "type": "histogram2dcontour"
           }
          ],
          "mesh3d": [
           {
            "colorbar": {
             "outlinewidth": 0,
             "ticks": ""
            },
            "type": "mesh3d"
           }
          ],
          "parcoords": [
           {
            "line": {
             "colorbar": {
              "outlinewidth": 0,
              "ticks": ""
             }
            },
            "type": "parcoords"
           }
          ],
          "pie": [
           {
            "automargin": true,
            "type": "pie"
           }
          ],
          "scatter": [
           {
            "fillpattern": {
             "fillmode": "overlay",
             "size": 10,
             "solidity": 0.2
            },
            "type": "scatter"
           }
          ],
          "scatter3d": [
           {
            "line": {
             "colorbar": {
              "outlinewidth": 0,
              "ticks": ""
             }
            },
            "marker": {
             "colorbar": {
              "outlinewidth": 0,
              "ticks": ""
             }
            },
            "type": "scatter3d"
           }
          ],
          "scattercarpet": [
           {
            "marker": {
             "colorbar": {
              "outlinewidth": 0,
              "ticks": ""
             }
            },
            "type": "scattercarpet"
           }
          ],
          "scattergeo": [
           {
            "marker": {
             "colorbar": {
              "outlinewidth": 0,
              "ticks": ""
             }
            },
            "type": "scattergeo"
           }
          ],
          "scattergl": [
           {
            "marker": {
             "colorbar": {
              "outlinewidth": 0,
              "ticks": ""
             }
            },
            "type": "scattergl"
           }
          ],
          "scattermapbox": [
           {
            "marker": {
             "colorbar": {
              "outlinewidth": 0,
              "ticks": ""
             }
            },
            "type": "scattermapbox"
           }
          ],
          "scatterpolar": [
           {
            "marker": {
             "colorbar": {
              "outlinewidth": 0,
              "ticks": ""
             }
            },
            "type": "scatterpolar"
           }
          ],
          "scatterpolargl": [
           {
            "marker": {
             "colorbar": {
              "outlinewidth": 0,
              "ticks": ""
             }
            },
            "type": "scatterpolargl"
           }
          ],
          "scatterternary": [
           {
            "marker": {
             "colorbar": {
              "outlinewidth": 0,
              "ticks": ""
             }
            },
            "type": "scatterternary"
           }
          ],
          "surface": [
           {
            "colorbar": {
             "outlinewidth": 0,
             "ticks": ""
            },
            "colorscale": [
             [
              0,
              "#0d0887"
             ],
             [
              0.1111111111111111,
              "#46039f"
             ],
             [
              0.2222222222222222,
              "#7201a8"
             ],
             [
              0.3333333333333333,
              "#9c179e"
             ],
             [
              0.4444444444444444,
              "#bd3786"
             ],
             [
              0.5555555555555556,
              "#d8576b"
             ],
             [
              0.6666666666666666,
              "#ed7953"
             ],
             [
              0.7777777777777778,
              "#fb9f3a"
             ],
             [
              0.8888888888888888,
              "#fdca26"
             ],
             [
              1,
              "#f0f921"
             ]
            ],
            "type": "surface"
           }
          ],
          "table": [
           {
            "cells": {
             "fill": {
              "color": "#EBF0F8"
             },
             "line": {
              "color": "white"
             }
            },
            "header": {
             "fill": {
              "color": "#C8D4E3"
             },
             "line": {
              "color": "white"
             }
            },
            "type": "table"
           }
          ]
         },
         "layout": {
          "annotationdefaults": {
           "arrowcolor": "#2a3f5f",
           "arrowhead": 0,
           "arrowwidth": 1
          },
          "autotypenumbers": "strict",
          "coloraxis": {
           "colorbar": {
            "outlinewidth": 0,
            "ticks": ""
           }
          },
          "colorscale": {
           "diverging": [
            [
             0,
             "#8e0152"
            ],
            [
             0.1,
             "#c51b7d"
            ],
            [
             0.2,
             "#de77ae"
            ],
            [
             0.3,
             "#f1b6da"
            ],
            [
             0.4,
             "#fde0ef"
            ],
            [
             0.5,
             "#f7f7f7"
            ],
            [
             0.6,
             "#e6f5d0"
            ],
            [
             0.7,
             "#b8e186"
            ],
            [
             0.8,
             "#7fbc41"
            ],
            [
             0.9,
             "#4d9221"
            ],
            [
             1,
             "#276419"
            ]
           ],
           "sequential": [
            [
             0,
             "#0d0887"
            ],
            [
             0.1111111111111111,
             "#46039f"
            ],
            [
             0.2222222222222222,
             "#7201a8"
            ],
            [
             0.3333333333333333,
             "#9c179e"
            ],
            [
             0.4444444444444444,
             "#bd3786"
            ],
            [
             0.5555555555555556,
             "#d8576b"
            ],
            [
             0.6666666666666666,
             "#ed7953"
            ],
            [
             0.7777777777777778,
             "#fb9f3a"
            ],
            [
             0.8888888888888888,
             "#fdca26"
            ],
            [
             1,
             "#f0f921"
            ]
           ],
           "sequentialminus": [
            [
             0,
             "#0d0887"
            ],
            [
             0.1111111111111111,
             "#46039f"
            ],
            [
             0.2222222222222222,
             "#7201a8"
            ],
            [
             0.3333333333333333,
             "#9c179e"
            ],
            [
             0.4444444444444444,
             "#bd3786"
            ],
            [
             0.5555555555555556,
             "#d8576b"
            ],
            [
             0.6666666666666666,
             "#ed7953"
            ],
            [
             0.7777777777777778,
             "#fb9f3a"
            ],
            [
             0.8888888888888888,
             "#fdca26"
            ],
            [
             1,
             "#f0f921"
            ]
           ]
          },
          "colorway": [
           "#636efa",
           "#EF553B",
           "#00cc96",
           "#ab63fa",
           "#FFA15A",
           "#19d3f3",
           "#FF6692",
           "#B6E880",
           "#FF97FF",
           "#FECB52"
          ],
          "font": {
           "color": "#2a3f5f"
          },
          "geo": {
           "bgcolor": "white",
           "lakecolor": "white",
           "landcolor": "#E5ECF6",
           "showlakes": true,
           "showland": true,
           "subunitcolor": "white"
          },
          "hoverlabel": {
           "align": "left"
          },
          "hovermode": "closest",
          "mapbox": {
           "style": "light"
          },
          "paper_bgcolor": "white",
          "plot_bgcolor": "#E5ECF6",
          "polar": {
           "angularaxis": {
            "gridcolor": "white",
            "linecolor": "white",
            "ticks": ""
           },
           "bgcolor": "#E5ECF6",
           "radialaxis": {
            "gridcolor": "white",
            "linecolor": "white",
            "ticks": ""
           }
          },
          "scene": {
           "xaxis": {
            "backgroundcolor": "#E5ECF6",
            "gridcolor": "white",
            "gridwidth": 2,
            "linecolor": "white",
            "showbackground": true,
            "ticks": "",
            "zerolinecolor": "white"
           },
           "yaxis": {
            "backgroundcolor": "#E5ECF6",
            "gridcolor": "white",
            "gridwidth": 2,
            "linecolor": "white",
            "showbackground": true,
            "ticks": "",
            "zerolinecolor": "white"
           },
           "zaxis": {
            "backgroundcolor": "#E5ECF6",
            "gridcolor": "white",
            "gridwidth": 2,
            "linecolor": "white",
            "showbackground": true,
            "ticks": "",
            "zerolinecolor": "white"
           }
          },
          "shapedefaults": {
           "line": {
            "color": "#2a3f5f"
           }
          },
          "ternary": {
           "aaxis": {
            "gridcolor": "white",
            "linecolor": "white",
            "ticks": ""
           },
           "baxis": {
            "gridcolor": "white",
            "linecolor": "white",
            "ticks": ""
           },
           "bgcolor": "#E5ECF6",
           "caxis": {
            "gridcolor": "white",
            "linecolor": "white",
            "ticks": ""
           }
          },
          "title": {
           "x": 0.05
          },
          "xaxis": {
           "automargin": true,
           "gridcolor": "white",
           "linecolor": "white",
           "ticks": "",
           "title": {
            "standoff": 15
           },
           "zerolinecolor": "white",
           "zerolinewidth": 2
          },
          "yaxis": {
           "automargin": true,
           "gridcolor": "white",
           "linecolor": "white",
           "ticks": "",
           "title": {
            "standoff": 15
           },
           "zerolinecolor": "white",
           "zerolinewidth": 2
          }
         }
        },
        "xaxis": {
         "anchor": "y",
         "constrain": "domain",
         "domain": [
          0,
          1
         ],
         "scaleanchor": "y"
        },
        "yaxis": {
         "anchor": "x",
         "autorange": "reversed",
         "constrain": "domain",
         "domain": [
          0,
          1
         ]
        }
       }
      },
      "text/html": [
       "<div>                            <div id=\"d5f03e0d-dd11-4caf-80d8-e98734d2a25c\" class=\"plotly-graph-div\" style=\"height:525px; width:100%;\"></div>            <script type=\"text/javascript\">                require([\"plotly\"], function(Plotly) {                    window.PLOTLYENV=window.PLOTLYENV || {};                                    if (document.getElementById(\"d5f03e0d-dd11-4caf-80d8-e98734d2a25c\")) {                    Plotly.newPlot(                        \"d5f03e0d-dd11-4caf-80d8-e98734d2a25c\",                        [{\"coloraxis\":\"coloraxis\",\"name\":\"0\",\"x\":[\"12295\",\"3608\",\"54300\",\"1053\",\"16413\",\"55845\",\"32807\",\"25640\",\"60969\",\"36913\",\"59449\",\"50241\",\"10818\",\"8259\",\"12355\",\"56898\",\"38477\",\"44111\",\"33364\",\"46677\",\"8300\",\"50800\",\"53362\",\"2685\",\"62079\",\"14975\",\"50819\",\"29319\",\"19083\",\"14989\",\"4239\",\"37029\",\"29865\",\"11439\",\"31409\",\"2738\",\"1202\",\"18613\",\"49334\",\"5819\",\"35008\",\"52937\",\"37078\",\"32989\",\"26850\",\"233\",\"62189\",\"53000\",\"29453\",\"6417\",\"23825\",\"53010\",\"46357\",\"47899\",\"49947\",\"16157\",\"57630\",\"18719\",\"36658\",\"38197\",\"43322\",\"59710\",\"45893\",\"3915\",\"29520\",\"1874\",\"3923\",\"41300\",\"62805\",\"29530\",\"40795\",\"32092\",\"17756\",\"43358\",\"59236\",\"36201\",\"56170\",\"13165\",\"8560\",\"49523\",\"21375\",\"57215\",\"17281\",\"46985\",\"65419\",\"21389\",\"45455\",\"62868\",\"24483\",\"43943\",\"32174\",\"1461\",\"8641\",\"4036\",\"22469\",\"36806\",\"56773\",\"46571\",\"35308\",\"63994\",\"12284\"],\"y\":[\"location_continent\",\"football_player_position\",\"location_religion\",\"location_language\",\"person_profession\",\"location_country\",\"country_capital\",\"person_language\",\"singular_plural\",\"present_simple_past_simple\",\"antonyms\",\"plural_singular\",\"present_simple_past_perfect\",\"present_simple_gerund\",\"en_it\",\"it_en\",\"en_fr\",\"en_es\",\"fr_en\",\"es_en\",\"algo_last\",\"algo_first\",\"algo_second\"],\"z\":[[-8.278039765328664,-8.278039765328664,0.013893870572038683,0.8570561393491832,0.0015363207674278904,-0.09261037905126779,-8.278039765328664,1.491154441321584,-8.278039765328664,0.013847196804293655,-8.278039765328664,-8.278039765328664,-0.02934322011347979,2.120709151609581,-0.4575852526262612,1.6759201011937772,0.03209463611337974,-0.9686256086500942,-8.278039765328664,0.24318090079141394,-8.278039765328664,-8.278039765328664,0.7274389434865125,0.253312227466486,-8.278039765328664,0.10048231945626607,0.8349731933919077,0.9340697230553542,2.655383744325135,0.96380841794672,-8.278039765328664,-1.2058353256342782,0.9114445274806899,0.3590116936539256,-2.307644920102678,3.1000159539423304,-8.278039765328664,1.8279735766786527,-8.278039765328664,-8.278039765328664,-8.278039765328664,-8.278039765328664,0.9223126836435659,0.2400662767181688,2.2373468432094406,0.3276636723900222,0.1453322523039444,-8.278039765328664,-0.9098646138583127,0.06883897414436677,-8.278039765328664,-4.439900176498735,-1.7551482781645384,-8.278039765328664,0.1426719264022887,-0.1960790129445836,-0.5935824885697947,-8.278039765328664,-8.278039765328664,-0.29161998789150323,0.4681824110815862,-8.278039765328664,-0.6318014514492868,2.6672012002751795,0.6623294269173705,0.8879021184695378,1.417010756235468,-8.278039765328664,-2.730151636519185,1.0445496882937153,1.4203316186678696,-0.341851875810806,-8.278039765328664,-8.278039765328664,-8.278039765328664,0.11187364465736639,-3.5981815436565054,-0.5429756323645085,0.44081882480360146,1.337672957226512,1.5874079461703416,1.7139984060558506,-4.590932129968815,-0.7114019679248895,-0.6076190457065979,0.07538321478937215,-8.278039765328664,-8.278039765328664,-8.278039765328664,-0.3782709767654547,-8.278039765328664,0.628986185187033,0.47083892512470044,-8.278039765328664,-0.024334127495419976,-8.278039765328664,-5.088215725947161,1.0666437150745598,1.1538735087941292,-1.4239169100321085,0.25647025257686906],[0.06806335736703502,-0.41630722742426357,-0.8280004400089324,-8.278039765328664,0.2291297214298716,0.13946906827131506,1.201097677185403,-0.7537000537645652,2.117634513368943,1.466130643381395,0.2280608676986581,-8.278039765328664,1.0465573835951896,-0.1340541598827026,0.3111204644070456,-0.31221454704455803,0.10142262283610506,0.9552627485397168,0.5049690694590545,2.094498565146389,0.9418801632860123,-2.0052612455742187,-0.598801067695982,-0.30873980959354597,1.3322334767667119,2.8840910570318377,0.6312179070840047,1.765355096740899,1.7899589363339696,1.0128129316975312,0.5549873260516555,0.4216372791349971,-0.6995097264880629,-0.40507648352439657,0.6740337312349874,0.2361689333141722,0.19742866484365534,-8.278039765328664,-2.7208105685020763,-0.6827933333008929,2.0651367612595264,-1.2264780328548912,-0.723018617611316,-8.278039765328664,-1.551763929361874,-0.9587400515969763,0.021716427576092413,1.8670405128544953,-1.1426074370394679,-1.1169492015690314,0.45063185270561507,0.10865677285423425,0.7893165667503823,0.5258369500419992,-0.14424868248067704,-0.6873565123801318,0.9372632805104087,-8.278039765328664,-0.8986435083210955,0.34032679202641425,-2.999028331727606,0.7000235149694605,1.328225952356397,-8.278039765328664,-0.13235882998201615,-0.20770366966958925,0.18311098053691613,-0.7595987290522472,-4.616007435637102,-0.7948800139496504,0.3474400332712457,2.321373044408325,0.21190824726067703,1.0121032897600741,0.8907234713831066,1.1964323111091504,0.2926193500767024,-2.9944492381028467,1.5174093216062088,0.16737304055105,0.03863995771585183,0.8332866761677801,0.22332798511716104,-8.278039765328664,-0.4461571655979683,0.7719118349550932,1.7427734260377987,-0.7189464051299101,0.48842962868417167,1.2749328843411463,0.6622495419087686,0.2407768925150996,0.4114022970605571,-2.4030563485183656,0.25965710977558193,1.025725928986257,-1.988754038953112,-0.5855236195525326,0.4642170156687679,-3.0027029501358817,-0.6932206284598093],[-0.7851254859130014,-5.32895337392596,-0.996726092022223,-8.278039765328664,-0.13252087353000533,0.570026739006614,-0.6175911690055756,0.9961944755162457,0.20397620488100388,0.7619015153616472,-1.0830153087013599,-8.278039765328664,2.114446713669285,-8.278039765328664,0.539302103360613,0.3358209374692732,0.7790169095914811,1.4241715671561128,2.1987273787206227,2.1417601892312903,-0.08963183082128331,1.1855004596164394,0.4488214771418228,0.7479471903978576,-0.07869404905575197,1.3117795467885953,-1.6519403608185836,0.5064182999258375,-8.278039765328664,0.7056147103886,0.03751628706734683,-8.278039765328664,0.32065444586634095,0.10453762307072029,-8.278039765328664,-2.976525293212592,-0.30761704767206016,-8.278039765328664,-3.3457407598011324,0.5166611719441826,1.6049246451215757,-1.8118292378732892,0.7014016460325162,-1.0100846503433956,1.3475633537584526,-0.08448881673196507,0.14419848161368962,-0.07519116807749991,0.38397845136567155,-2.3101532435466248,-0.3241846196342416,-2.4406773622791715,-3.606073065655033,-0.2044537569148833,0.2055921491922862,-0.5996617161596718,-8.278039765328664,-8.278039765328664,0.9362968720065238,-0.9438490281569056,0.6497269678512555,-1.3660335160748809,2.325548043024793,1.074105522086785,1.0016239341746866,-0.5296116305222329,0.5996346640660213,-0.13236637216817904,-2.84466704986479,-0.4328186595424437,0.010865541933444883,-1.833831570828029,0.21778210594743072,1.0695896766758763,0.30220998113638936,0.8258982146284084,-6.2964041915342035,-0.2109617997662603,0.02837415160356771,0.04007566953342115,-1.510549135106536,-2.379407550358984,-1.451424330680573,-8.278039765328664,0.18960822632404858,0.13678877898474917,1.0814755905678677,-0.5817365443820693,-0.5375113203736684,-2.5168778367077302,1.0772240384510443,1.9831143141959182,0.7871133647769273,-8.278039765328664,0.5073688856816674,0.8681362495134528,-8.278039765328664,-8.278039765328664,1.1165909017811975,-1.7617261501312669,0.17142548632660876],[-8.278039765328664,-0.5101501767341214,1.4946239455975565,-8.278039765328664,0.2126592512376713,-8.278039765328664,-0.7827550188278316,-8.278039765328664,-0.15619120684262822,-8.278039765328664,-8.278039765328664,-8.278039765328664,-0.09228840377739701,2.369842071091967,-8.278039765328664,4.547703273637116,1.6890281219366199,1.1370292904473707,1.3964905283263143,-8.278039765328664,-8.278039765328664,-0.49923573346612665,-1.1270966619872564,0.3271220173903391,-8.278039765328664,-8.278039765328664,0.45881263527104477,0.8352641232304228,2.698147447686441,-8.278039765328664,0.8635547148550049,-0.4179396868346476,-1.358447929497969,0.7070026898477311,1.535702226952566,1.4368127958710821,1.3099652598902984,-8.278039765328664,0.7311250926613289,-1.7670349866386277,-8.278039765328664,-8.278039765328664,0.7249539630481588,1.0165852285356913,-8.278039765328664,1.3984220972054848,-8.278039765328664,-8.278039765328664,-8.278039765328664,0.672438721846325,4.547703273637116,-1.4074832456598203,-0.9844944457994138,-8.278039765328664,0.6909281977899251,2.111209939680247,-8.278039765328664,-8.278039765328664,1.399329769091035,-8.278039765328664,0.4016140350482488,0.2031221975820032,1.2689633366433182,2.8018662659203075,1.8374006983582156,-0.08499189054325018,1.022306620402436,0.23068714448742494,-1.341405789756613,0.04081299536466757,-0.5275911630562035,-1.381306651341933,0.020084889590615426,-8.278039765328664,0.8921907018775737,1.1601592136207703,-4.878798376004521,-0.3754226998745456,-8.278039765328664,-8.278039765328664,-1.925524783325163,1.2894900637771942,0.679531372726575,-8.278039765328664,1.2017489337455673,-8.278039765328664,-8.278039765328664,-8.278039765328664,-8.278039765328664,-0.1548104123371957,0.18891697089400702,0.9350654114369223,1.721260845552641,1.3112435771125308,-8.278039765328664,1.158142239501774,-8.278039765328664,-8.278039765328664,-8.278039765328664,-0.41605546639425905,-8.278039765328664],[-8.278039765328664,-8.278039765328664,-0.1268411131977325,2.464564987371305,0.02495003157025027,-8.278039765328664,2.1172415417640242,1.6867633327069618,2.1917367714491878,0.9964171142930036,0.7130778386546316,-8.278039765328664,-8.278039765328664,4.547703273637116,-8.278039765328664,-8.278039765328664,1.0084340038514537,0.1193048244964423,-8.278039765328664,-8.278039765328664,-8.278039765328664,-8.278039765328664,0.4864024767713101,0.3211716083005586,-8.278039765328664,-8.278039765328664,-8.278039765328664,1.0738975966927213,-8.278039765328664,0.006367908507304967,1.2498241871233684,0.686794773977951,0.38021435221460353,-1.2837455256607209,-8.278039765328664,-8.278039765328664,-1.0118154689435483,4.36114090657853,-8.278039765328664,-0.24578558153127988,1.925257138585056,-8.278039765328664,-0.11711232937988902,1.3110471515509319,2.8742278689720133,-0.25346831323268404,-0.11859118568911811,2.530958298733795,-0.5357006484744572,0.2294288392301629,-8.278039765328664,-8.278039765328664,-2.613127994073315,-8.278039765328664,-1.036376877991006,-8.278039765328664,-8.278039765328664,-8.278039765328664,0.3056193961621847,0.7422432239847573,1.9597679970910475,-8.278039765328664,-8.278039765328664,2.964992186874461,0.3868870200245689,0.45542826155237137,1.4768953366482767,-8.278039765328664,-1.1832674103134984,0.7147645400848117,1.0038106135151625,1.6199225989626285,-8.278039765328664,-0.021064803570905424,-8.278039765328664,1.7388005785365899,0.8950195965398221,-0.6957234284982683,1.9342143660583022,-0.7547625797332768,-8.278039765328664,1.9093743872270625,-8.278039765328664,-8.278039765328664,1.0647702622493829,1.0911365510683229,-8.278039765328664,-8.278039765328664,-8.278039765328664,1.3821873497382915,-8.278039765328664,4.547703273637116,-0.34372829784876296,-8.278039765328664,-8.278039765328664,0.6083183525998025,-8.278039765328664,-0.6746089636796988,1.349249489965341,-1.3030147932135547,1.775600616000385],[-8.278039765328664,-0.043329971418368966,0.16246443371176691,-8.278039765328664,-0.416462603558807,2.308740948670656,-1.5556257004400942,-1.059341877755706,1.083818886706606,-8.278039765328664,-8.278039765328664,-8.278039765328664,0.30042382938463374,4.547703273637116,-8.278039765328664,0.8778718311296541,0.5136205919952811,4.547703273637116,2.397393219572325,-8.278039765328664,-2.293979327148493,-8.278039765328664,-0.3259072702470696,0.2794060195435654,-8.278039765328664,0.25176658846759054,-0.8661266286412576,0.8202462416534368,2.9642969575400424,-8.278039765328664,-0.2025229151410084,-0.37600267548416094,-0.23670175644246894,1.527328264340937,-8.278039765328664,0.08655572397448989,-0.6593310204125176,2.603412154762971,-8.278039765328664,-0.258760906494714,-8.278039765328664,-8.278039765328664,0.8790532314942944,0.38479314518333424,-8.278039765328664,-0.03571645867180966,-8.278039765328664,-0.4264560053960796,-8.278039765328664,1.72198229010765,0.3491511291163939,0.28494893908534924,2.0239277529808843,-8.278039765328664,0.6139465110980522,1.519013472412483,0.06852740420752057,-0.37080403586906213,-8.278039765328664,-8.278039765328664,0.3218905339959314,0.4813512330902057,-1.1091258418603365,2.2653843623722754,0.23104897500772778,-0.4448502584119655,-2.2950628082000724,-8.278039765328664,-1.2398258912385156,-0.6450463092579652,-8.278039765328664,-0.35487065809075785,1.2510040114385976,0.9657263254971375,1.6352642838214844,1.903232795564681,-8.278039765328664,-0.4973896597944954,-8.278039765328664,-8.278039765328664,-0.011785595073084942,0.5166193821649314,0.8178475110702917,-0.6324383604931912,1.4220053135390116,-1.2525947438558533,-8.278039765328664,-1.482321765774972,-8.278039765328664,-0.9689240524835074,-8.278039765328664,0.3447730589913181,1.040773650547439,1.5880201795404185,-0.05982576562743034,-8.278039765328664,-1.0116632247576693,0.01904624225409945,-8.278039765328664,-0.7228856604875225,-0.23556028522387606],[-3.0747376774150292,-0.1155516067050305,0.7614110722662755,0.05317802088124516,-0.18119953909750805,-0.01329771407139557,-0.28961026956064456,-0.4993770322721095,0.2596847616337476,-2.542569677738418,-0.608065088837835,2.3119555802693843,0.5208347717096092,-0.6222936785135427,-0.4490527697074362,-0.7469653807244118,-0.7325627692012769,0.7516236358232496,1.7484469790894026,1.8764187682751279,-0.05292058032436106,-8.278039765328664,-0.8630520835470481,-0.07798256620311532,0.21006613723589782,0.02897209470155474,-0.6526843556323756,1.014751313642568,1.9148238905895385,-0.3457802236204384,-0.5219442445961161,-0.7365390944110631,-1.083650559281499,0.8556391045394007,0.9530493653178147,-1.3306421231013315,-0.059360840315221784,-8.278039765328664,-0.5333111908830527,0.021890116207618018,0.38444892415470433,-0.4605222599954302,0.5198254278032127,-8.278039765328664,0.609982952154735,0.024351833577986502,-1.331520528541352,-2.671533627002003,-0.10392394005513304,2.5792276651649653,0.14405621244975877,-0.4801239749984833,2.790659817004489,-0.05586829659451809,-0.33579705871737026,0.4849121855098331,-1.0397861627659168,-0.3539256763696779,0.48991348496203163,-8.278039765328664,-0.12262806443008811,0.28416931518089594,-0.093546104583104,-8.278039765328664,-0.10757733428343004,-0.6154589990074314,0.6444481714136979,-1.5708271339670132,-1.6827443064450416,-1.354651550586118,0.10388115109899938,-0.5339900883541323,1.1730212257168644,0.5696601104570646,2.5324048481923795,0.9698993785268305,-2.782388573410314,-0.5328078261049528,0.48178658347558023,-1.5856991706624886,-0.1167970531827375,0.49861930104490876,-0.6019993441771067,-3.0400349115968894,0.8948019535158812,-0.9074052000159502,0.31226768912954284,-8.278039765328664,-0.35178631310384645,-1.4794006187013242,-8.278039765328664,0.0910163396213152,0.7081175082427852,0.666247584903644,-0.0005341724458065714,1.4167667504726433,-2.3871372284620906,-0.4914303239637175,-1.0423348492285387,-0.6971140100260296,-1.0214488313016594],[0.12862643556840117,-1.5248296945483928,-0.26109404048107504,2.251840444646467,0.2467986811116475,1.954841051081994,-0.3915955794492421,0.7503548855620967,-8.278039765328664,-8.278039765328664,-8.278039765328664,4.547703273637116,0.6360013834669547,-8.278039765328664,-8.278039765328664,-8.278039765328664,-8.278039765328664,-8.278039765328664,2.815166334689283,-8.278039765328664,-8.278039765328664,-8.278039765328664,0.21448906265614162,0.8845246254663991,-8.278039765328664,-8.278039765328664,-8.278039765328664,1.1423404453984707,-8.278039765328664,-8.278039765328664,-0.621128432205002,-8.278039765328664,-0.7030649130617053,1.554832056323243,-8.278039765328664,0.17527320012528508,2.1742735786384926,3.675811952907899,-8.278039765328664,-0.8845945195670177,-8.278039765328664,-1.6062623743163726,1.313013411886908,0.5127313344874106,-8.278039765328664,-8.278039765328664,-8.278039765328664,-1.0522896184683832,-0.0030922574687797626,-8.278039765328664,0.7558027208894907,-0.12742084794107209,-8.278039765328664,-8.278039765328664,0.38024285883505937,1.9744914084595764,-8.278039765328664,-0.9931714409648797,-8.278039765328664,-8.278039765328664,-8.278039765328664,-1.8569250943815656,0.9503337590469536,-8.278039765328664,1.9353852226677044,0.8653992384368676,-0.29532244199440477,-8.278039765328664,-8.278039765328664,-8.278039765328664,1.0916715480780133,-8.278039765328664,-8.278039765328664,-8.278039765328664,-2.702705645529023,-8.278039765328664,-8.278039765328664,0.2561496678679998,-8.278039765328664,0.4489602768324635,-8.278039765328664,0.8116116561321741,-8.278039765328664,-8.278039765328664,1.2186709943164453,-8.278039765328664,-8.278039765328664,-8.278039765328664,-8.278039765328664,-8.278039765328664,1.732755920210982,1.8741344910115854,1.1776537772271767,1.7779500448724628,1.3559667119832841,-8.278039765328664,-0.36242811182030693,1.0185392695909394,-8.278039765328664,-1.122884735422158,-0.10762209591979965],[-8.278039765328664,-2.357809641521205,-1.235724504516914,-8.278039765328664,0.5286915436787253,-8.278039765328664,-1.1928268281074739,-2.303380136157129,0.758266750742774,-8.278039765328664,0.9403390247698692,3.822138481056891,0.32626958025869013,-8.278039765328664,-0.43597859638011044,-8.278039765328664,-0.11137845799991812,-0.7928682725766849,-0.5763320794147754,4.547703273637116,-8.278039765328664,-8.278039765328664,0.34210010645406447,-0.9514429155067781,3.0310358466351497,2.2767539386198403,-8.278039765328664,-8.278039765328664,2.8653910034416223,-3.0458713520620933,0.291131074415348,0.7997668136910606,0.007755888759603902,-1.8212251732924376,-8.278039765328664,-0.6985287413677823,-1.2953799065943017,-8.278039765328664,-0.8933908208115449,-3.797016008219666,-8.278039765328664,-1.6590837637396096,-1.5721504039636236,0.2906604698375717,-8.278039765328664,-1.359797424746769,0.3156841698104455,-8.278039765328664,-0.7239549063208857,-0.8005272934993477,1.3357853821187307,0.28672200070522263,-8.278039765328664,0.08989231789176606,-0.16298247608399963,-8.278039765328664,-8.278039765328664,-1.327160221818704,1.0028842115231575,2.9308057094756053,-8.278039765328664,-8.278039765328664,-8.278039765328664,-8.278039765328664,-8.278039765328664,-0.26258882107979853,-4.098716854536918,4.547703273637116,0.8216543206502923,0.09683091600962435,-1.458959895969132,-0.035408099245105795,-8.278039765328664,-8.278039765328664,-1.1377903197034647,1.8198792544737457,-0.2927142124527414,0.6658997389454813,-0.7903374874456157,1.1450454471440377,-8.278039765328664,-8.278039765328664,-1.678953715826499,-2.946918030596027,-1.1085340529896293,-0.37200923778420725,4.547703273637116,-8.278039765328664,-8.278039765328664,-0.09155657010606205,-0.45476968956714053,-2.464402852947625,-2.8363517704827386,-8.278039765328664,-1.6991767606729995,1.2647611734405202,-1.9530937604906355,0.267109189582235,0.4089055159255175,0.6265033465518318,-0.598852749170555],[-8.278039765328664,-8.278039765328664,-8.278039765328664,-8.278039765328664,0.785917396324476,-8.278039765328664,-8.278039765328664,0.38407272689812494,-2.8206673753764275,-8.278039765328664,-8.278039765328664,-8.278039765328664,-8.278039765328664,-8.278039765328664,-0.3773265627729264,-3.521935868183405,-8.278039765328664,-8.278039765328664,-8.278039765328664,-8.278039765328664,-8.278039765328664,-8.278039765328664,0.48998327378919126,-0.7146710119593392,-8.278039765328664,1.7648611137594115,-8.278039765328664,-8.278039765328664,-8.278039765328664,-1.429074700408359,-8.278039765328664,-8.278039765328664,0.631036252125755,-1.896104532309776,-8.278039765328664,-8.278039765328664,-4.637925254649273,3.278778270683739,-4.7467617926325065,-8.278039765328664,-8.278039765328664,-0.44775222019404,-1.0551907808738954,0.2518571672940429,-8.278039765328664,-8.278039765328664,-0.05582151728090631,-8.278039765328664,-1.0482951249698074,-8.278039765328664,-8.278039765328664,0.6307911001333356,-8.278039765328664,2.337185185143778,0.359442637018284,-8.278039765328664,-8.278039765328664,1.0340769047825258,-8.278039765328664,0.11186571183302382,-1.7107935511855108,1.3027489043997276,-8.278039765328664,2.9880965988902415,-8.278039765328664,-8.278039765328664,-2.941452532261624,-8.278039765328664,1.1062856376724772,0.10177877064494749,-8.278039765328664,-8.278039765328664,-0.7154306882016438,-8.278039765328664,-8.278039765328664,-8.278039765328664,-1.2082202930402608,0.9105753233940539,-8.278039765328664,1.3133406582010492,-8.278039765328664,-8.278039765328664,1.0187556473959438,1.7814427101368193,-1.9735528585542228,0.05529393080842494,-8.278039765328664,-8.278039765328664,0.07191631698784143,-8.278039765328664,-8.278039765328664,-8.278039765328664,-4.723609885930868,-8.278039765328664,-1.042687726310195,-8.278039765328664,-8.278039765328664,0.22440872892913186,1.8466834211739798,0.7669086494906889,-0.3491454788006616],[1.6954258184093378,-0.3675358293526256,-0.968675060754333,0.8785286884544751,-0.8781172917023904,0.5678559929897922,-8.278039765328664,0.09984945584877283,-0.09581495769810415,-8.278039765328664,0.1684954145659629,-8.278039765328664,-8.278039765328664,2.6707218324131814,-8.278039765328664,-8.278039765328664,1.1057054659351797,-0.8025718307336945,-0.43188495774452645,-8.278039765328664,0.8343054909669565,2.713876538042053,-0.2039368350161484,0.38176759182587805,-8.278039765328664,-8.278039765328664,0.8505460203700113,-8.278039765328664,-8.278039765328664,-0.22727558096531564,1.4164074490973229,0.6122159791350177,-0.8370367210904701,-0.15890733271357887,2.306925233756436,-8.278039765328664,0.20146002452015638,2.2941319470453903,0.002472389542625074,4.547703273637116,-8.278039765328664,1.2527301361892689,-0.012753665413108281,1.0386426133780786,-8.278039765328664,-1.289458275230242,0.5307488586946476,-2.028504516222728,0.2677900757365669,-8.278039765328664,-0.3655941867093512,1.0491635805560722,-8.278039765328664,-8.278039765328664,-2.391889518296004,-8.278039765328664,1.0193902722829302,-0.8260381562097229,0.8108590965721935,0.5543357438348209,0.28117135728335296,-8.278039765328664,-8.278039765328664,3.749545710065734,-8.278039765328664,0.8478724678170358,0.336189708281722,0.28116232264923713,-0.08304477813077556,-0.1447689845711897,1.0436421698499734,1.145957742087913,-0.1988526840461249,0.8598678466135976,-8.278039765328664,1.11083654550887,1.129985787926314,-0.4015384820834651,-8.278039765328664,-0.5780269462953038,-8.278039765328664,-8.278039765328664,4.547703273637116,-0.8100407442355724,-3.7973002753755964,-0.9087331056271881,-8.278039765328664,-0.5168600982784097,0.7375299003038484,-8.278039765328664,-0.08717901658268191,-8.278039765328664,-2.0728654404062663,1.0504150617666304,-0.8171306958719714,-8.278039765328664,-0.5093636546901259,-1.011552022990123,-8.278039765328664,0.3577811617609285,0.33882501161662165],[-1.1770574534816012,-1.7569487961147134,-0.3036089719843865,-0.6145778490886952,0.004820389547882689,-0.3293275747639599,-0.037188133568028185,0.16601053457697657,-0.21674073056198018,1.266291790517501,0.6115774213255265,1.0480351255289075,-0.5914662824355457,0.9888891225439398,0.1581025620410023,0.10292650001107709,0.2838560279571675,1.0214951142007336,0.5672719927260119,2.749847432322476,-0.05739447495882423,-0.1447375979963183,-0.03639431293067035,-0.26018247959660323,0.30039146036669107,2.4715619591807094,-0.2677453614089546,-0.9835479633751941,2.648170819273618,0.4504533694774002,-0.06278191656786439,0.08581650115215778,-0.058867729813707484,-0.3395607470496585,1.6541445594940323,-1.7026114188075518,-1.3916380830407298,-8.278039765328664,-2.1332525967370635,-0.9911531008643478,0.2678342151292144,0.12761343741719272,-0.5232892793766069,-8.278039765328664,0.704733972093472,-0.6845528592184495,0.4986095942740229,-0.06103082369907989,0.024789213446209418,-2.063560785350417,0.7799044235779579,-0.17799900517900785,-1.3053196325894332,-1.0857388337990088,-0.00424166798444399,-1.491755946788501,0.8916038964648649,0.7327644994749649,0.8591013506025289,-0.4382256818815813,0.6511180806989454,0.22131838165876677,-0.17446359745083875,-8.278039765328664,-1.3149961495292177,0.6286531537476391,-1.3072599586251146,-2.0714072129509935,0.3851535588443577,-0.7931194900773626,-1.9888835921715222,-1.0699606526759753,0.491671263649761,-0.31735531354170365,-0.7786724458474485,1.3517157683976235,-0.7213382008604067,0.154058597142549,0.8831245977157189,0.5713837965770716,-1.0040422014090242,-0.20821664499208165,0.732556131977371,-1.135618841098958,-0.4264815942990329,0.14712507781874523,1.4635442125337383,-2.263563720845537,0.11322435037557367,0.7598367944487187,0.6542104180075986,-1.0053385786605427,-1.9621975900765656,-1.6835861416686466,0.40581608007383746,0.24143624977835587,-1.960774011455709,-0.210590648627122,-1.2527074143234223,0.2512406157457736,-0.45437604075146115],[-8.278039765328664,-8.278039765328664,-8.278039765328664,-8.278039765328664,0.5903864198330022,-8.278039765328664,-0.45226577666744133,-0.4040066765100135,-2.862677196770278,-8.278039765328664,-1.7022787999495754,-8.278039765328664,0.3969790137422998,0.5860777033687629,1.471513987705509,-0.25583873098111215,-0.13395695893986578,0.5920497952538609,-8.278039765328664,-0.006252303200882701,-0.2968015273537435,-1.1138576617153835,-0.4265201508003527,-0.7725962886590892,-2.0881203782017783,0.3365569312456704,-8.278039765328664,-8.278039765328664,-8.278039765328664,0.1277712813013538,-1.0021480957066349,-8.278039765328664,-0.21905071650201782,-1.3784985657682038,-0.2544930311009288,-8.278039765328664,-1.5888926226848075,-8.278039765328664,-1.7442491763029342,-1.1062251465798034,-8.278039765328664,-0.4016547740776238,-1.2736570396093023,-0.30360640027206787,-8.278039765328664,-3.065921810274539,-0.9833504118821581,-8.278039765328664,0.3605279358938039,-8.278039765328664,1.5215039243759985,0.7996043456656543,-8.278039765328664,2.2821599956378575,-0.09784591393205536,-8.278039765328664,0.18362309648092914,1.2815332776339576,0.3545501201432423,0.12542574159398404,-0.36650901145947057,0.495488608544588,-8.278039765328664,2.2701319974768186,-4.839377205121556,-8.278039765328664,-4.7752218228835295,-2.036432185656379,0.8423451213896261,-0.4171551228392124,-8.278039765328664,-1.4310357345549234,1.1241752887544216,-8.278039765328664,-2.2662804117931334,-8.278039765328664,-1.3161880822259089,0.6797564340373886,-8.278039765328664,0.9091462370574966,-8.278039765328664,-0.8649273438504158,1.2688822488032543,1.2744168010082726,-2.133345715604457,-0.05570876207237702,1.644253026979025,-1.5288674250579795,0.8167391602312593,-8.278039765328664,-8.278039765328664,4.547703273637116,-1.6086192861746047,-8.278039765328664,-0.11013790770591447,1.7409357150322942,-8.278039765328664,0.4800313108402304,2.250097020189897,0.5715728905843706,-8.278039765328664],[4.547703273637116,-5.713541413666101,-4.513178579640934,-3.0622715704534116,0.35199064152960197,-3.7562972034801843,-0.9176935411990612,-0.5142182131886287,-5.685879352354168,-5.542121248112463,-0.7731884728036923,-1.8721287182272557,-5.3732902434143,-0.8192328276261035,2.7617567263293803,-1.872114890072232,-5.074801417243973,-4.459936308071251,-3.6980702842213953,1.9028223254911625,-2.0443198754752516,-2.6248958616780294,-0.159915509620395,-0.7582081307022234,-6.006005544313888,0.04999879646803178,2.4588269194221604,-5.327791555521239,-0.25700143756759447,-0.8273082811566991,-1.7090779952764106,-3.795203811034364,-0.2877964587883613,-0.6171645705053579,0.5988247375726239,-6.679213236946395,-6.806060772927179,-8.278039765328664,-7.608044491470357,4.547703273637116,-4.273592811672493,-0.4384190059004945,-1.4575058937522907,-8.278039765328664,0.02638422334469858,-5.419120336612693,-1.1993923890392775,4.547703273637116,-1.1785375763234978,4.547703273637116,-1.2883148733712502,0.7317281686514953,-7.021078936937054,-0.9971076864632457,0.20594866719329885,-6.592176828769931,-1.1596746987646191,1.0639002102445962,-2.2432363517148675,-3.6267024997465755,-2.909934274098693,-0.4302551103464625,-5.822079113745691,-8.278039765328664,-7.658650082565556,-4.665853514129237,-1.2003401339410438,-5.799830593967979,1.0396781609751895,-0.9569576803559501,-6.211429988395001,-4.3358013003933715,0.41902951097814733,-3.757272474537853,4.547703273637116,-4.975664735461085,-0.1127100506348173,0.7905389506393872,4.547703273637116,0.48412010597662,-7.045818542588649,-1.519055347284966,1.2906505140577427,-1.2023400142355538,-2.0723191778058956,-0.6349277466093481,0.6283755641781262,-6.599432101108475,0.5261327404435951,4.547703273637116,-0.9360127499888747,4.547703273637116,-8.278039765328664,-7.067146720172437,-2.39043894867502,-1.2501874193383655,-5.6074766364578865,0.3916835464608283,-2.9431964881687995,0.7700824563419592,-2.68487773844717],[1.9383352408779035,2.1839402156353356,1.572665762339585,0.1682038638572014,-1.3227389505666582,-1.6900313403234941,-0.2477066914136508,-1.5317536421336948,0.6491474503114643,0.5955874129796437,0.13026436133080205,1.5362452137606524,-8.278039765328664,-0.4411280330330414,-8.278039765328664,-8.278039765328664,-8.278039765328664,-8.278039765328664,-8.278039765328664,-8.278039765328664,0.6009047384599921,-8.278039765328664,-1.6325448134449094,-0.2732808215109807,-8.278039765328664,1.7603562929561851,0.5138456980252434,-8.278039765328664,2.747818567299254,0.7492241704869312,-0.6112188651328896,-1.8898683146903108,-1.3332678298934517,-4.648865974693253,0.7724249661928131,-8.278039765328664,-8.278039765328664,-8.278039765328664,2.129790595093156,2.095966901799946,-8.278039765328664,-0.5881245800444195,-1.699523144704284,0.047556159173598,-1.388834173266477,1.6330685228167583,0.7316514640149824,-1.8225386089458462,-0.28653050038412564,-1.7563659179985718,0.7566624524416854,-0.4751448977444205,-0.4893107169491609,-8.278039765328664,-1.205094358007396,-2.6790917192021584,-0.6270279114846781,0.22722561145436218,-0.9980780166931899,-8.278039765328664,-8.278039765328664,-8.278039765328664,-8.278039765328664,2.175448187877752,-1.8200290431376078,0.1931847235251581,-8.278039765328664,2.06626079286489,-0.19215991749378952,-8.278039765328664,-8.278039765328664,-8.278039765328664,-0.43225343655308923,0.07642075718736131,-1.9812997592287689,-8.278039765328664,-0.5619142800194074,-1.8561398337632884,-0.28577377867122733,-3.262432796914587,-1.9956548635249707,-8.278039765328664,-0.5553507986458872,-0.2939199086548513,-1.0790287441226,-0.6117954201445798,0.4504159495263534,2.445255804895093,0.72035225626652,-0.7735064442858408,-1.5596438932268524,-8.278039765328664,-3.045554529471031,-8.278039765328664,0.3137840060221796,1.4656424684166867,2.2298179503453475,0.055896379665918414,-8.278039765328664,-0.4719230996735022,-1.3470520088915343],[-8.278039765328664,-8.278039765328664,-8.278039765328664,-8.278039765328664,-0.7917897102349488,-8.278039765328664,-1.3050328376177902,-8.278039765328664,-8.278039765328664,1.1424881199968524,-0.16820042428813872,-8.278039765328664,1.253000454567381,-8.278039765328664,0.2190705468232403,-8.278039765328664,0.5101479931647893,-1.2570507052441795,-8.278039765328664,-8.278039765328664,1.9004333151839563,-8.278039765328664,-8.278039765328664,0.5763759080813078,1.8892707499488217,-8.278039765328664,-0.22297206254669705,-8.278039765328664,3.101902956969456,1.056895188438306,-0.23020977209209514,1.1299354684369838,-8.278039765328664,-8.278039765328664,-8.278039765328664,-8.278039765328664,-0.2704105927021977,4.547703273637116,0.6081395228724537,-8.278039765328664,-0.30246957693040516,1.5005190266355382,-1.267625250837136,1.7135476862024572,-8.278039765328664,-0.16575178081073105,0.734731606756218,-1.2302204222378446,1.6115431849597541,-8.278039765328664,-8.278039765328664,-8.278039765328664,-8.278039765328664,-8.278039765328664,-0.9592987437741087,-8.278039765328664,1.5871507076559812,0.11819985039823995,-8.278039765328664,1.346889163110719,-1.9924659606433013,-8.278039765328664,-8.278039765328664,3.2091244057545247,-8.278039765328664,0.02815328650889563,-8.278039765328664,0.03478912208842143,1.2628855581662775,-8.278039765328664,-1.0068515967624712,-8.278039765328664,-8.278039765328664,0.4971965213562353,-8.278039765328664,-8.278039765328664,1.90695124507509,-1.6268735214812116,0.11602608403864134,-8.278039765328664,-8.278039765328664,-8.278039765328664,-8.278039765328664,0.11034604655021073,-0.13274197507360913,-8.278039765328664,-8.278039765328664,-8.278039765328664,1.2424012471279655,1.65883795262005,0.9489964853509666,-1.6758223171197515,0.04936988412437187,0.6511988659311948,-0.9105962248451258,-8.278039765328664,-8.278039765328664,-0.7982015249249526,-8.278039765328664,0.8929383538422822,-8.278039765328664],[1.1565801609631783,1.568469289285895,0.006655090196701847,0.818759956459726,-1.1502186589071337,-0.06869633056274507,0.5356909007194585,-0.45592981412682637,0.09573073858805262,0.16892240689537588,0.26573043138087843,-8.278039765328664,-1.1984899424999103,1.960365534277283,0.5241685306492891,-0.05549141729965296,0.8487686690294813,0.523953798391447,-0.15518145311806275,1.3967849409936233,1.1038405061148078,-8.278039765328664,-1.3475340594947702,-0.19651910955801757,0.059357340940223685,2.8094570508223002,0.3299620851839327,0.6875860800053373,2.985787475719201,0.6223259760695165,-0.8441636815815294,0.19219448185365204,-1.1684013877853756,-0.1679308657030927,2.497300654894403,0.24056497646378505,-0.9330697803205227,2.0912623714099676,1.5619050722498273,1.4116263608590929,0.2055692508923336,0.004573330885281928,-1.059017387955261,-8.278039765328664,0.6824177071732703,0.558604633255818,0.7943802817537586,-1.6828081401093125,-0.34254460867368736,-0.7605847976652396,1.4464392581974912,0.02309369611250646,-0.144785835466614,-0.8217627319804257,-1.026143176017581,-1.4660667696818048,0.01347784526434476,0.5492776370848507,0.604907854399363,-8.278039765328664,0.4563679155679806,-0.8589295565275805,-0.021111349564568574,-8.278039765328664,-1.5444970331420123,-0.4010539827185087,-1.2290272226230798,1.2063189208882177,-0.10790860097748431,-2.10165770145182,-0.7864948413915133,-0.08206571163069307,0.47374647767235234,1.142050817004687,0.3148332924237292,-0.030302668719483054,-0.38987556795021583,-1.4402690529151452,0.7984182990061579,-2.093082910896895,-1.1429745868323118,0.6251212773337199,0.5339563796982684,0.315814189427418,-1.2324004152071866,-0.2753546570619919,1.8946107612351457,1.7119455256512883,0.2622457243474334,0.01211832026009259,0.25048518783346907,-1.860930669856958,-2.0303553232805975,0.12961827657277541,0.754895391668656,0.7050825467255066,1.6097430519831477,-0.17115940504060081,-8.278039765328664,-0.41813506063769307,-0.5037030596277599],[2.1320460321810883,2.0062274967215172,1.8199798140756298,-8.278039765328664,-1.193008678977376,-0.6454712574997316,0.2087036842095779,-0.7489001453584527,-0.4034335856440101,0.32653761905238365,0.02214493421617932,2.297163633669639,-8.278039765328664,-8.278039765328664,1.082608471357959,-0.7152373116892644,-8.278039765328664,0.042489051258785236,-8.278039765328664,-8.278039765328664,1.1463668916991234,-0.08969857587843809,-1.7049461579574532,-0.0899488539575309,-8.278039765328664,0.849890393316625,0.1374622843159412,0.7141730297559409,-8.278039765328664,0.1051431463347755,-0.8796809423226921,0.08923594031695689,-1.982984539440819,-0.6138506754163432,0.9006943171424207,-8.278039765328664,-8.278039765328664,4.547703273637116,1.4643547602238314,1.6119665176824416,-8.278039765328664,-2.2922588992610025,-0.9693133814144638,0.006128106557647302,-0.5806628685069448,1.2716957429165552,0.7999138223065299,-8.278039765328664,0.10500239566911686,-8.278039765328664,0.8849318033912927,-0.07611517582236141,-8.278039765328664,-8.278039765328664,-0.7162104651149759,-1.7311584720674675,-0.5120037872850912,-0.30074766122052465,-0.3642600990784353,-8.278039765328664,0.02619646282286925,-2.054568851412263,0.24186437825026535,-8.278039765328664,-0.564843627357039,0.5911739302983869,-8.278039765328664,1.754046009406752,-0.46062199468359183,-1.2049582135478414,-8.278039765328664,-0.033499855161314145,0.6249307994990698,0.23859165981265018,0.505835520613474,-8.278039765328664,-0.7971888826192768,-1.0317080081319758,-0.5480438856131085,-8.278039765328664,-1.6337706613938578,-8.278039765328664,-0.5893622536067881,-0.2384099119876721,-1.1345044377518012,-0.6102159300027785,1.2867581312525818,2.124526470921706,0.7150902145916048,-0.4343136533567989,-0.43561963904884304,-1.1459698182990665,-2.4605267760257084,-2.6359280919893724,0.7701943816454083,0.4084424866049179,2.129368743002034,0.002585189046290489,-8.278039765328664,-0.4805817332574872,-1.834661057711061],[-0.6113186625438712,-0.9162207595236216,-0.35511102997079286,1.1609396440944022,-0.41388465431015964,-0.8259129379083872,-0.038920018561671446,-0.9553173121703687,-2.01309467188959,0.7193570333505113,-0.02601770188441949,-8.278039765328664,-0.8040595645213563,0.07468367511384996,1.0363819442842266,-0.9603440234513598,0.9624856438723479,1.2773292688432727,-8.278039765328664,1.7371480977019018,-0.9978164148842225,0.9616765742100156,-0.9045585853543825,-0.38910349370300046,1.447039491929061,-8.278039765328664,-0.4172615767641909,-8.278039765328664,3.3560035955771608,0.48294121205738116,0.43739737349876767,1.350522896510001,-0.7994376162438821,-0.3263917767760418,1.2882366743397047,-0.08361843255466674,-0.7094571346544384,-8.278039765328664,-0.6557747431398975,-0.771307021772272,0.7047105829599185,1.1843036659138297,-0.6905407480301227,-0.6638617991697139,1.3782693334869094,0.22310499031739212,1.0641258712480837,-0.5082192045811832,1.4443038482752868,-0.6274497369652715,0.35618342871442155,-1.8780923495868918,0.30275436782588866,0.4280496247852909,-0.832383493501178,-1.991429754128608,0.9873960853303229,-0.5097256488941145,1.6095977531320946,0.29082975589748716,-0.5285273982572626,-1.168273451683258,0.8657955135117796,2.5409776929753054,-0.44401606976760516,0.9576930574108766,-0.7475854676548961,-0.8346290671863392,-0.11407417967328393,-0.6442059799078588,-0.1715216937988067,-0.01933429152069416,0.2127700030738083,0.44381246021597937,-1.2831664942879228,0.9997050379975386,0.6955978341044199,-0.7690707626654886,1.2798600539743419,-0.900794398269365,-0.4502237381969211,0.3593486304716827,0.05809937906492017,0.32725231514986636,-0.7083990458202067,-1.2390477632366321,1.418212781416302,-8.278039765328664,0.5595460858046766,0.589603124248254,1.3409910061510568,-0.3942053115276674,0.022303131301489285,-0.06608680767254481,1.0271266896265545,0.7446915494146512,-0.674023807990827,-0.02741014309885915,-0.8138807396764476,-0.10881069228922227,-0.7311568421876605],[-8.278039765328664,-8.278039765328664,-8.278039765328664,-8.278039765328664,-0.8294694256477484,0.8717506557430613,0.2589658636325993,-0.6115128038856572,0.5192283832773392,-0.05913323167644583,0.8849726531962602,2.2479650195620224,-0.34872406207269624,-8.278039765328664,1.4153444679483125,-2.001198552945808,-0.32374857838319177,0.18434567391387768,1.0304562436181206,2.7436605194401196,-0.9427076638821379,1.084878241636061,-1.3085596701674802,-0.012127068010544,0.11061552514966616,-8.278039765328664,0.049042957055043065,0.9691857900513158,2.870085388296176,0.1261487909004072,0.8701001607712334,0.9578772450703249,-0.9653195631949062,-0.09665381460315835,2.372964842522947,0.10070204992742389,1.0468899608251003,3.1073859576421228,-1.6165865649608093,-0.8738919126737899,1.1646792983300664,1.404117284421863,-0.8407051190826524,-8.278039765328664,0.8961948208804879,-0.16817360691075098,0.5844345187792468,0.4180386226302848,1.1005569005568807,-0.9821257552158679,0.5993444112194457,-1.2462733772900842,0.2696619737027548,0.4695732611970689,-0.8820459829483535,-1.4818640976190878,1.363046250881426,-0.06771380764392507,-0.3224869349803253,-0.31330712198469235,0.77934432124019,-1.0390567285274515,-0.3401387663421172,-8.278039765328664,-1.667192156056008,-0.5149642760767713,-1.366647995753751,-0.6296892975015126,0.13779197205907118,-1.432405059061777,-0.006322252763494341,-0.1046773759877059,0.41258054470521865,1.224635720440554,0.2592774723473622,-0.7720370000397019,0.8721328101327589,-0.8210268310997634,1.2616562723449585,-8.278039765328664,-2.6637985285132006,0.24583466903797457,0.5866141442621342,0.23073593008472917,-0.6425720785980982,-0.49236045944722884,1.8881470832861147,-8.278039765328664,-0.374309926027707,0.625969693440598,1.0645157352079355,-0.3943905876543725,-1.331070393791679,0.022923495005221155,-0.166307427463111,1.6470981608039397,-8.278039765328664,-8.278039765328664,-0.5255993218909537,0.16040386806418447,-0.687608913586652],[4.547703273637116,-5.090328430372147,-5.0243513646756,1.2645545061281784,0.3750771159283521,-1.3426244101346057,-3.660719088646046,-1.8076781505519466,-3.9325303335601314,0.655674876498311,0.02429501613349684,-3.6944954261280523,4.547703273637116,1.2632136097643851,-0.9597251446703409,1.3730623274378064,-4.1962252882413775,-2.434050073700855,-2.760536074430043,1.0317833062891553,-5.443747016305181,0.42725290497191254,0.7601712604120674,-0.5301907743156002,-4.716572819415758,2.1973747987314467,-2.519210978336383,-4.264852985511245,0.4106449480369066,-0.4600713946468874,-1.756930435215614,-0.6551065226736849,0.9209235574481832,-2.405166915674798,0.4161591568743635,-5.904278752743985,-5.5296742896028075,-8.278039765328664,-6.324915963968013,-6.243737948354333,-2.4988482609065996,0.30710812381663993,-0.1327972459340902,-8.278039765328664,-1.7941087534475306,-5.5314861835321425,-3.7476323107407623,-6.171056228013513,-2.147428473409389,-1.471259264475899,-0.2053714193133615,0.42444196011297536,-1.1555756250227789,-0.8450969787119604,0.6053916494606069,-5.887923711965367,-2.279636688074878,0.8129977533354973,-1.0470875224341416,-4.232460769792132,-0.42277752121494455,-1.0354276600244832,-1.6770616433013612,-8.278039765328664,-2.334802941262594,-0.9773957486803432,1.0246485643260925,-3.4715336278041473,-0.06049377377246146,1.0916773026047901,-2.465864970258497,-3.1525101147812484,0.4853294609611242,-2.6957939302934966,-1.8949296490255323,-0.7753759173022959,-1.8784967879113414,0.3924192371132472,-4.383369819590717,-0.47664811462761175,2.5022737050188906,0.6377744482670362,-1.3059264287108707,1.0565094991189692,-2.7183333811284998,1.1336241098046909,0.12222857738953843,-5.819908949398634,0.502920293938099,-4.905634795506436,-0.6609254242668928,-3.992240026031091,-5.435394563767588,-4.39831689275173,-1.016758214497745,-1.229331484209353,-4.402349711050338,0.23523375403463187,-0.4244018423746167,-0.036162936396551715,1.5192468749525183],[-6.6538571051921815,-6.840976166515548,4.547703273637116,-1.384317057770959,0.4703317187628447,-5.4249986055968575,-2.8801477686977686,-4.472930201067426,-4.877579284189954,0.672996717301884,1.5560628416266693,4.547703273637116,4.547703273637116,-3.079838723330754,-3.712822139703564,1.9512450356703503,-5.367734871227743,-3.7272215069533625,-4.370280701989063,-1.5776423768217998,-7.482187609811572,-1.8055621989769932,1.219282800663543,-1.1816613608260154,-4.508487573729619,0.5646404304188501,-4.734934785014476,-5.62072500950501,-3.322523613791146,-0.5975660714569828,-3.9890755515227094,-4.2038556608558935,1.378797841839842,-3.3204938823797923,-3.6580451933329545,4.547703273637116,-7.387984344022745,-8.278039765328664,4.547703273637116,-7.181570244545899,-4.477960062776971,-2.211424771490919,-0.006507938802914292,-8.278039765328664,-1.873883046962251,-7.3834089906882605,-5.805542158348259,-5.742183144705623,-5.9979345053719575,4.547703273637116,-4.307934709244903,0.5720768239804743,-6.909855327472676,-6.552758456455949,0.7100056378599414,4.547703273637116,-3.622862882956273,-1.3066031771616455,-4.329935887550848,-6.193541439029862,-5.068296488789314,1.8572598667876699,-4.412048597284537,-8.278039765328664,-6.165061390121177,-1.8449550078356467,4.547703273637116,-8.145678835298156,-4.559790112517567,1.4865428119098776,-0.9924967736453985,-4.693143505405101,-2.92044490499266,-4.426207422623049,-6.227092648268123,-2.272600396103449,-1.024591177330403,1.072857054303937,-4.463881840883645,0.02759780142232581,-1.247101266464452,-0.9107121799589637,-5.476847116691802,-1.8654890252537062,-6.633154452812133,0.8777420289955236,-4.135778454274103,4.547703273637116,-0.23811238744592594,-4.528891910897599,-2.7367977379041277,-5.06228385070309,-5.463220305111455,4.547703273637116,-5.874544071055962,-5.3017761713735485,-6.6633331149390775,-0.7524498477472076,-2.27147017275077,0.4784282812631243,-2.833762874530472],[-1.15971346412295,-8.278039765328664,-2.589316722768546,2.098197971965539,-0.22455264369620467,-0.5327107248781648,-0.129913242173789,-0.32372715312079475,0.28887694981379664,0.19249346796822997,0.48674222266971096,0.6891905731216791,-1.4551446532023826,1.7176137287438022,0.43090736685525255,0.8197521382994514,0.9631468700136896,-0.2739857435617244,0.22247051671647697,1.8745203693851455,-1.1449566408914804,-0.3136787722947865,0.4760072038080787,-0.5955027611225813,-0.26343717226679375,2.7996624180513536,0.3442650039920469,0.03593756106199602,-0.949275389229912,-0.5606698023606123,-1.53110515356598,-0.455831573881125,0.7098402791071526,-1.6348279937450965,1.5546859882980908,0.24398057542964507,-0.443467485149101,-8.278039765328664,-2.330364648002228,-1.602869215448605,0.2584978765947432,-0.2775578046627852,-0.5435457128054224,-8.278039765328664,1.9081577389375146,-3.506083369350753,-1.3081011194470442,-0.34452962458056596,-3.44000901032431,-1.933530240241867,0.15262911342707222,0.5618650150903979,-0.23254200970727223,0.38483795957312106,0.48718778295844123,-1.7444952799338378,0.36856304048648464,0.9159605755488164,0.4435633235012156,-1.2176035290242442,0.12631503991064047,1.5438617989098473,-0.22525611499507675,-8.278039765328664,-0.8882954744189643,-1.2609076373179868,0.25906357113432676,-0.8072576907174239,-1.7288204077022509,1.0071780756543782,1.4919068813794865,-0.4062106639355817,-0.23401462209448817,0.2302078090751286,-0.30806581323362614,-0.23597182468908748,-1.3352940169648417,0.17124380230339267,0.08289770346840605,0.45102197760711016,2.354376740068278,2.21948749989603,-0.728601221568046,1.202107581213107,-2.2789047593843157,0.9280663815741752,1.1130786733110325,-1.6726132317136577,0.446072203624375,-2.466582620952413,0.30887664957953403,-0.7031201424728432,-1.9721992941430357,-1.4617794696388273,-0.17630507364321565,0.1889166405379499,-1.46279456462475,0.7945255654529385,1.2774279919363385,-0.45390517981190026,1.144730384204826]],\"type\":\"heatmap\",\"xaxis\":\"x\",\"yaxis\":\"y\",\"hovertemplate\":\"x: %{x}\\u003cbr\\u003ey: %{y}\\u003cbr\\u003ecolor: %{z}\\u003cextra\\u003e\\u003c\\u002fextra\\u003e\"}],                        {\"template\":{\"data\":{\"histogram2dcontour\":[{\"type\":\"histogram2dcontour\",\"colorbar\":{\"outlinewidth\":0,\"ticks\":\"\"},\"colorscale\":[[0.0,\"#0d0887\"],[0.1111111111111111,\"#46039f\"],[0.2222222222222222,\"#7201a8\"],[0.3333333333333333,\"#9c179e\"],[0.4444444444444444,\"#bd3786\"],[0.5555555555555556,\"#d8576b\"],[0.6666666666666666,\"#ed7953\"],[0.7777777777777778,\"#fb9f3a\"],[0.8888888888888888,\"#fdca26\"],[1.0,\"#f0f921\"]]}],\"choropleth\":[{\"type\":\"choropleth\",\"colorbar\":{\"outlinewidth\":0,\"ticks\":\"\"}}],\"histogram2d\":[{\"type\":\"histogram2d\",\"colorbar\":{\"outlinewidth\":0,\"ticks\":\"\"},\"colorscale\":[[0.0,\"#0d0887\"],[0.1111111111111111,\"#46039f\"],[0.2222222222222222,\"#7201a8\"],[0.3333333333333333,\"#9c179e\"],[0.4444444444444444,\"#bd3786\"],[0.5555555555555556,\"#d8576b\"],[0.6666666666666666,\"#ed7953\"],[0.7777777777777778,\"#fb9f3a\"],[0.8888888888888888,\"#fdca26\"],[1.0,\"#f0f921\"]]}],\"heatmap\":[{\"type\":\"heatmap\",\"colorbar\":{\"outlinewidth\":0,\"ticks\":\"\"},\"colorscale\":[[0.0,\"#0d0887\"],[0.1111111111111111,\"#46039f\"],[0.2222222222222222,\"#7201a8\"],[0.3333333333333333,\"#9c179e\"],[0.4444444444444444,\"#bd3786\"],[0.5555555555555556,\"#d8576b\"],[0.6666666666666666,\"#ed7953\"],[0.7777777777777778,\"#fb9f3a\"],[0.8888888888888888,\"#fdca26\"],[1.0,\"#f0f921\"]]}],\"heatmapgl\":[{\"type\":\"heatmapgl\",\"colorbar\":{\"outlinewidth\":0,\"ticks\":\"\"},\"colorscale\":[[0.0,\"#0d0887\"],[0.1111111111111111,\"#46039f\"],[0.2222222222222222,\"#7201a8\"],[0.3333333333333333,\"#9c179e\"],[0.4444444444444444,\"#bd3786\"],[0.5555555555555556,\"#d8576b\"],[0.6666666666666666,\"#ed7953\"],[0.7777777777777778,\"#fb9f3a\"],[0.8888888888888888,\"#fdca26\"],[1.0,\"#f0f921\"]]}],\"contourcarpet\":[{\"type\":\"contourcarpet\",\"colorbar\":{\"outlinewidth\":0,\"ticks\":\"\"}}],\"contour\":[{\"type\":\"contour\",\"colorbar\":{\"outlinewidth\":0,\"ticks\":\"\"},\"colorscale\":[[0.0,\"#0d0887\"],[0.1111111111111111,\"#46039f\"],[0.2222222222222222,\"#7201a8\"],[0.3333333333333333,\"#9c179e\"],[0.4444444444444444,\"#bd3786\"],[0.5555555555555556,\"#d8576b\"],[0.6666666666666666,\"#ed7953\"],[0.7777777777777778,\"#fb9f3a\"],[0.8888888888888888,\"#fdca26\"],[1.0,\"#f0f921\"]]}],\"surface\":[{\"type\":\"surface\",\"colorbar\":{\"outlinewidth\":0,\"ticks\":\"\"},\"colorscale\":[[0.0,\"#0d0887\"],[0.1111111111111111,\"#46039f\"],[0.2222222222222222,\"#7201a8\"],[0.3333333333333333,\"#9c179e\"],[0.4444444444444444,\"#bd3786\"],[0.5555555555555556,\"#d8576b\"],[0.6666666666666666,\"#ed7953\"],[0.7777777777777778,\"#fb9f3a\"],[0.8888888888888888,\"#fdca26\"],[1.0,\"#f0f921\"]]}],\"mesh3d\":[{\"type\":\"mesh3d\",\"colorbar\":{\"outlinewidth\":0,\"ticks\":\"\"}}],\"scatter\":[{\"fillpattern\":{\"fillmode\":\"overlay\",\"size\":10,\"solidity\":0.2},\"type\":\"scatter\"}],\"parcoords\":[{\"type\":\"parcoords\",\"line\":{\"colorbar\":{\"outlinewidth\":0,\"ticks\":\"\"}}}],\"scatterpolargl\":[{\"type\":\"scatterpolargl\",\"marker\":{\"colorbar\":{\"outlinewidth\":0,\"ticks\":\"\"}}}],\"bar\":[{\"error_x\":{\"color\":\"#2a3f5f\"},\"error_y\":{\"color\":\"#2a3f5f\"},\"marker\":{\"line\":{\"color\":\"#E5ECF6\",\"width\":0.5},\"pattern\":{\"fillmode\":\"overlay\",\"size\":10,\"solidity\":0.2}},\"type\":\"bar\"}],\"scattergeo\":[{\"type\":\"scattergeo\",\"marker\":{\"colorbar\":{\"outlinewidth\":0,\"ticks\":\"\"}}}],\"scatterpolar\":[{\"type\":\"scatterpolar\",\"marker\":{\"colorbar\":{\"outlinewidth\":0,\"ticks\":\"\"}}}],\"histogram\":[{\"marker\":{\"pattern\":{\"fillmode\":\"overlay\",\"size\":10,\"solidity\":0.2}},\"type\":\"histogram\"}],\"scattergl\":[{\"type\":\"scattergl\",\"marker\":{\"colorbar\":{\"outlinewidth\":0,\"ticks\":\"\"}}}],\"scatter3d\":[{\"type\":\"scatter3d\",\"line\":{\"colorbar\":{\"outlinewidth\":0,\"ticks\":\"\"}},\"marker\":{\"colorbar\":{\"outlinewidth\":0,\"ticks\":\"\"}}}],\"scattermapbox\":[{\"type\":\"scattermapbox\",\"marker\":{\"colorbar\":{\"outlinewidth\":0,\"ticks\":\"\"}}}],\"scatterternary\":[{\"type\":\"scatterternary\",\"marker\":{\"colorbar\":{\"outlinewidth\":0,\"ticks\":\"\"}}}],\"scattercarpet\":[{\"type\":\"scattercarpet\",\"marker\":{\"colorbar\":{\"outlinewidth\":0,\"ticks\":\"\"}}}],\"carpet\":[{\"aaxis\":{\"endlinecolor\":\"#2a3f5f\",\"gridcolor\":\"white\",\"linecolor\":\"white\",\"minorgridcolor\":\"white\",\"startlinecolor\":\"#2a3f5f\"},\"baxis\":{\"endlinecolor\":\"#2a3f5f\",\"gridcolor\":\"white\",\"linecolor\":\"white\",\"minorgridcolor\":\"white\",\"startlinecolor\":\"#2a3f5f\"},\"type\":\"carpet\"}],\"table\":[{\"cells\":{\"fill\":{\"color\":\"#EBF0F8\"},\"line\":{\"color\":\"white\"}},\"header\":{\"fill\":{\"color\":\"#C8D4E3\"},\"line\":{\"color\":\"white\"}},\"type\":\"table\"}],\"barpolar\":[{\"marker\":{\"line\":{\"color\":\"#E5ECF6\",\"width\":0.5},\"pattern\":{\"fillmode\":\"overlay\",\"size\":10,\"solidity\":0.2}},\"type\":\"barpolar\"}],\"pie\":[{\"automargin\":true,\"type\":\"pie\"}]},\"layout\":{\"autotypenumbers\":\"strict\",\"colorway\":[\"#636efa\",\"#EF553B\",\"#00cc96\",\"#ab63fa\",\"#FFA15A\",\"#19d3f3\",\"#FF6692\",\"#B6E880\",\"#FF97FF\",\"#FECB52\"],\"font\":{\"color\":\"#2a3f5f\"},\"hovermode\":\"closest\",\"hoverlabel\":{\"align\":\"left\"},\"paper_bgcolor\":\"white\",\"plot_bgcolor\":\"#E5ECF6\",\"polar\":{\"bgcolor\":\"#E5ECF6\",\"angularaxis\":{\"gridcolor\":\"white\",\"linecolor\":\"white\",\"ticks\":\"\"},\"radialaxis\":{\"gridcolor\":\"white\",\"linecolor\":\"white\",\"ticks\":\"\"}},\"ternary\":{\"bgcolor\":\"#E5ECF6\",\"aaxis\":{\"gridcolor\":\"white\",\"linecolor\":\"white\",\"ticks\":\"\"},\"baxis\":{\"gridcolor\":\"white\",\"linecolor\":\"white\",\"ticks\":\"\"},\"caxis\":{\"gridcolor\":\"white\",\"linecolor\":\"white\",\"ticks\":\"\"}},\"coloraxis\":{\"colorbar\":{\"outlinewidth\":0,\"ticks\":\"\"}},\"colorscale\":{\"sequential\":[[0.0,\"#0d0887\"],[0.1111111111111111,\"#46039f\"],[0.2222222222222222,\"#7201a8\"],[0.3333333333333333,\"#9c179e\"],[0.4444444444444444,\"#bd3786\"],[0.5555555555555556,\"#d8576b\"],[0.6666666666666666,\"#ed7953\"],[0.7777777777777778,\"#fb9f3a\"],[0.8888888888888888,\"#fdca26\"],[1.0,\"#f0f921\"]],\"sequentialminus\":[[0.0,\"#0d0887\"],[0.1111111111111111,\"#46039f\"],[0.2222222222222222,\"#7201a8\"],[0.3333333333333333,\"#9c179e\"],[0.4444444444444444,\"#bd3786\"],[0.5555555555555556,\"#d8576b\"],[0.6666666666666666,\"#ed7953\"],[0.7777777777777778,\"#fb9f3a\"],[0.8888888888888888,\"#fdca26\"],[1.0,\"#f0f921\"]],\"diverging\":[[0,\"#8e0152\"],[0.1,\"#c51b7d\"],[0.2,\"#de77ae\"],[0.3,\"#f1b6da\"],[0.4,\"#fde0ef\"],[0.5,\"#f7f7f7\"],[0.6,\"#e6f5d0\"],[0.7,\"#b8e186\"],[0.8,\"#7fbc41\"],[0.9,\"#4d9221\"],[1,\"#276419\"]]},\"xaxis\":{\"gridcolor\":\"white\",\"linecolor\":\"white\",\"ticks\":\"\",\"title\":{\"standoff\":15},\"zerolinecolor\":\"white\",\"automargin\":true,\"zerolinewidth\":2},\"yaxis\":{\"gridcolor\":\"white\",\"linecolor\":\"white\",\"ticks\":\"\",\"title\":{\"standoff\":15},\"zerolinecolor\":\"white\",\"automargin\":true,\"zerolinewidth\":2},\"scene\":{\"xaxis\":{\"backgroundcolor\":\"#E5ECF6\",\"gridcolor\":\"white\",\"linecolor\":\"white\",\"showbackground\":true,\"ticks\":\"\",\"zerolinecolor\":\"white\",\"gridwidth\":2},\"yaxis\":{\"backgroundcolor\":\"#E5ECF6\",\"gridcolor\":\"white\",\"linecolor\":\"white\",\"showbackground\":true,\"ticks\":\"\",\"zerolinecolor\":\"white\",\"gridwidth\":2},\"zaxis\":{\"backgroundcolor\":\"#E5ECF6\",\"gridcolor\":\"white\",\"linecolor\":\"white\",\"showbackground\":true,\"ticks\":\"\",\"zerolinecolor\":\"white\",\"gridwidth\":2}},\"shapedefaults\":{\"line\":{\"color\":\"#2a3f5f\"}},\"annotationdefaults\":{\"arrowcolor\":\"#2a3f5f\",\"arrowhead\":0,\"arrowwidth\":1},\"geo\":{\"bgcolor\":\"white\",\"landcolor\":\"#E5ECF6\",\"subunitcolor\":\"white\",\"showland\":true,\"showlakes\":true,\"lakecolor\":\"white\"},\"title\":{\"x\":0.05},\"mapbox\":{\"style\":\"light\"}}},\"xaxis\":{\"anchor\":\"y\",\"domain\":[0.0,1.0],\"scaleanchor\":\"y\",\"constrain\":\"domain\"},\"yaxis\":{\"anchor\":\"x\",\"domain\":[0.0,1.0],\"autorange\":\"reversed\",\"constrain\":\"domain\"},\"coloraxis\":{\"colorscale\":[[0.0,\"#0d0887\"],[0.1111111111111111,\"#46039f\"],[0.2222222222222222,\"#7201a8\"],[0.3333333333333333,\"#9c179e\"],[0.4444444444444444,\"#bd3786\"],[0.5555555555555556,\"#d8576b\"],[0.6666666666666666,\"#ed7953\"],[0.7777777777777778,\"#fb9f3a\"],[0.8888888888888888,\"#fdca26\"],[1.0,\"#f0f921\"]]},\"margin\":{\"t\":60}},                        {\"responsive\": true}                    ).then(function(){\n",
       "                            \n",
       "var gd = document.getElementById('d5f03e0d-dd11-4caf-80d8-e98734d2a25c');\n",
       "var x = new MutationObserver(function (mutations, observer) {{\n",
       "        var display = window.getComputedStyle(gd).display;\n",
       "        if (!display || display === 'none') {{\n",
       "            console.log([gd, 'removed!']);\n",
       "            Plotly.purge(gd);\n",
       "            observer.disconnect();\n",
       "        }}\n",
       "}});\n",
       "\n",
       "// Listen for the removal of the full notebook cells\n",
       "var notebookContainer = gd.closest('#notebook-container');\n",
       "if (notebookContainer) {{\n",
       "    x.observe(notebookContainer, {childList: true});\n",
       "}}\n",
       "\n",
       "// Listen for the clearing of the current output cell\n",
       "var outputEl = gd.closest('.output');\n",
       "if (outputEl) {{\n",
       "    x.observe(outputEl, {childList: true});\n",
       "}}\n",
       "\n",
       "                        })                };                });            </script>        </div>"
      ]
     },
     "metadata": {},
     "output_type": "display_data"
    }
   ],
   "source": [
    "import plotly.express as px\n",
    "import pandas as pd\n",
    "import numpy as np\n",
    "\n",
    "normalized_losses = {}\n",
    "\n",
    "drop_features = [55186]\n",
    "drop_ids = [features.index(feature) for feature in drop_features]\n",
    "\n",
    "features_dropped = [feature for feature in features if feature not in drop_features]\n",
    "\n",
    "for task_name, losses in negative_task_losses.items():\n",
    "    base_loss = losses[1]\n",
    "    losses = losses[0]\n",
    "    losses = np.array(losses)\n",
    "    losses = np.delete(losses, drop_ids)\n",
    "    mean_loss = np.mean(losses - base_loss)\n",
    "\n",
    "    normalized_losses[task_name] = [(loss - base_loss) / mean_loss for loss in losses]\n",
    "\n",
    "\n",
    "heatmap = np.zeros((len(task_names), len(features_dropped)))\n",
    "\n",
    "for i, task_name in enumerate(task_names):\n",
    "    for j, feature in enumerate(features_dropped):\n",
    "        heatmap[i, j] = normalized_losses[task_name][j]\n",
    "\n",
    "heatmap /= np.mean(heatmap, axis=0, keepdims=True)\n",
    "\n",
    "\n",
    "\n",
    "heatmap = np.log(heatmap)\n",
    "heatmap[np.isnan(heatmap)] = np.min(heatmap[np.isfinite(heatmap)])\n",
    "heatmap[np.isinf(heatmap)] = np.max(heatmap[np.isfinite(heatmap)])\n",
    "\n",
    "\n",
    "fig = px.imshow(heatmap, x=[str(x) for x in features_dropped], y=task_names)\n",
    "\n",
    "fig.show()\n"
   ]
  },
  {
   "cell_type": "code",
   "execution_count": 113,
   "metadata": {},
   "outputs": [
    {
     "data": {
      "text/html": [
       "<script> (()=>{ if (customElements.get('treescope-container') === undefined) { class TreescopeContainer extends HTMLElement { constructor() { super(); this.attachShadow({mode: \"open\"}); this.defns = {}; this.state = {}; } } customElements.define(\"treescope-container\", TreescopeContainer); } if (customElements.get('treescope-run-here') === undefined) { class RunHere extends HTMLElement { constructor() { super() } connectedCallback() { const run = child => { const fn = new Function(child.textContent); child.textContent = \"\"; fn.call(this); this.remove(); }; const child = this.querySelector(\"script\"); if (child) { run(child); } else { new MutationObserver(()=>{ run(this.querySelector(\"script\")); }).observe(this, {childList: true}); } } } customElements.define(\"treescope-run-here\", RunHere); } })(); </script> <treescope-container class=\"treescope_out_d43704605e7646cfa15bf30e904d4b65\" ></treescope-container> <treescope-run-here><script type=\"application/octet-stream\"> const root = ( Array.from(document.getElementsByClassName( \"treescope_out_d43704605e7646cfa15bf30e904d4b65\")) .filter((elt) => !elt.dataset.setup) )[0]; root.dataset.setup = 1; const msg = document.createElement(\"span\"); msg.style = \"color: #aaaaaa; font-family: monospace; transition: opacity 0.2s; opacity: 0.0;\"; msg.textContent = \"(Loading...)\"; root.state.loadingMsg = msg; root.shadowRoot.appendChild(msg); root.state.chain = new Promise((resolve, reject) => { const observer = new IntersectionObserver((entries) => { for (const entry of entries) { if (entry.isIntersecting) { resolve(); observer.disconnect(); return; } } }, {rootMargin: \"1000px\"}); window.setTimeout(() => { if (root.loadingMsg) { root.loadingMsg.style.opacity = \"1.0\"; } observer.observe(root); }, 0); }); root.state.deferring = false; const _insertNode = (node) => { for (let oldScript of node.querySelectorAll(\"script\")) { let newScript = document.createElement(\"script\"); newScript.type = oldScript.type; newScript.textContent = oldScript.textContent; oldScript.parentNode.replaceChild(newScript, oldScript); } if (root.state.loadingMsg) { root.state.loadingMsg.remove(); root.state.loadingMsg = null; } root.shadowRoot.appendChild(node); }; root.defns.insertContent = ((contentNode, compressed) => { if (compressed) { root.state.deferring = true; } if (root.state.deferring) { root.state.chain = (async () => { await root.state.chain; if (compressed) { const encoded = contentNode.textContent; const blob = new Blob([ Uint8Array.from(atob(encoded), (m) => m.codePointAt(0)) ]); const reader = blob.stream().pipeThrough( new DecompressionStream(\"deflate\") ).pipeThrough( new TextDecoderStream(\"utf-8\") ).getReader(); const parts = []; while (true) { const step = await reader.read(); if (step.done) { break; } parts.push(step.value); } const tpl = document.createElement('template'); tpl.innerHTML = parts.join(\"\"); _insertNode(tpl.content); } else { _insertNode(contentNode.content); } })(); } else { _insertNode(contentNode.content); } }); </script></treescope-run-here><div style=\"display:none\"> <script type=\"application/octet-stream\" >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</script> <treescope-run-here><script type=\"application/octet-stream\"> const root = ( Array.from(document.getElementsByClassName( \"treescope_out_d43704605e7646cfa15bf30e904d4b65\")) .filter((elt) => !elt.dataset['step0']) )[0]; root.dataset['step0'] = 1; root.defns.insertContent( this.parentNode.querySelector('script[type=\"application/octet-stream\"]'), true ); this.parentNode.remove(); </script></treescope-run-here> </div>"
      ],
      "text/plain": [
       "<IPython.core.display.HTML object>"
      ]
     },
     "metadata": {},
     "output_type": "display_data"
    },
    {
     "data": {
      "text/html": [
       "<treescope-run-here><script type=\"application/octet-stream\"> const root = ( Array.from(document.getElementsByClassName( \"treescope_out_d43704605e7646cfa15bf30e904d4b65\")) .filter((elt) => !elt.dataset.stolen) )[0]; root.dataset.stolen = 1; this.parentNode.replaceChild(root, this); </script></treescope-run-here>"
      ],
      "text/plain": [
       "{'location_continent': [2738, 3915, 19083, 26850, 8259],\n",
       " 'football_player_position': [14975, 32092, 60969, 46677, 35008],\n",
       " 'location_religion': [45893, 33364, 46677, 10818, 1461],\n",
       " 'location_language': [23825, 56898, 3915, 19083, 8259],\n",
       " 'person_profession': [8259, 1461, 18613, 3915, 26850],\n",
       " 'location_country': [8259, 44111, 19083, 18613, 33364],\n",
       " 'country_capital': [46357, 6417, 59236, 50241, 19083],\n",
       " 'person_language': [50241, 18613, 33364, 1053, 1202],\n",
       " 'singular_plural': [45455, 41300, 46677, 50241, 62079],\n",
       " 'present_simple_past_simple': [18613, 3915, 47899, 35308, 46985],\n",
       " 'antonyms': [5819, 17281, 3915, 50800, 8259],\n",
       " 'plural_singular': [46677, 19083, 14975, 31409, 45455],\n",
       " 'present_simple_past_perfect': [1461, 47899, 3915, 35308, 36806],\n",
       " 'present_simple_gerund': [12295, 6417, 53000, 5819, 59236],\n",
       " 'en_it': [19083, 62868, 56773, 3608, 3915],\n",
       " 'it_en': [18613, 3915, 19083, 56170, 8300],\n",
       " 'en_fr': [19083, 14975, 31409, 18613, 8259],\n",
       " 'en_es': [18613, 50241, 12295, 56773, 62868],\n",
       " 'fr_en': [19083, 3915, 46677, 36658, 62079],\n",
       " 'es_en': [18613, 19083, 46677, 31409, 50241],\n",
       " 'algo_last': [12295, 10818, 21375, 14975, 12284],\n",
       " 'algo_first': [2738, 4036, 50241, 49334, 62868],\n",
       " 'algo_second': [14975, 21375, 57215, 1053, 26850]}"
      ]
     },
     "execution_count": 113,
     "metadata": {},
     "output_type": "execute_result"
    }
   ],
   "source": [
    "max_loss_features = {}\n",
    "\n",
    "# heatmap[np.isnan(heatmap)] = 0\n",
    "\n",
    "for i in range(heatmap.shape[0]):\n",
    "    topk = np.argsort(heatmap[i])[-5:][::-1]\n",
    "    max_loss_features[task_names[i]] = [features_dropped[j] for j in topk]\n",
    "\n",
    "max_loss_features"
   ]
  },
  {
   "cell_type": "code",
   "execution_count": 47,
   "metadata": {},
   "outputs": [
    {
     "data": {
      "application/vnd.plotly.v1+json": {
       "config": {
        "plotlyServerURL": "https://plot.ly"
       },
       "data": [
        {
         "coloraxis": "coloraxis",
         "hovertemplate": "x: %{x}<br>y: %{y}<br>color: %{z}<extra></extra>",
         "name": "0",
         "type": "heatmap",
         "x": [
          "644",
          "3462",
          "12423",
          "6793",
          "9356",
          "3086",
          "16147",
          "10388",
          "7445",
          "4505",
          "6814",
          "2977",
          "7333",
          "5927",
          "14763",
          "13099",
          "13229",
          "437",
          "12215",
          "13882",
          "16060",
          "8647",
          "2121",
          "2506",
          "14923",
          "12492",
          "16206",
          "5328",
          "15192",
          "5081",
          "11228",
          "14813",
          "13289",
          "8684",
          "2928",
          "12402",
          "7670",
          "8703"
         ],
         "xaxis": "x",
         "y": [
          "en_es",
          "antonyms",
          "person_profession",
          "country_capital",
          "algo_first",
          "algo_last",
          "algo_second"
         ],
         "yaxis": "y",
         "z": [
          [
           -0.06097560975609756,
           0.02032520325203252,
           0.016260162601626018,
           -0.008130081300813009,
           -0.012195121951219513,
           0.0040650406504065045,
           0.0040650406504065045,
           0.008130081300813009,
           -0.012195121951219513,
           0.02032520325203252,
           0.016260162601626018,
           -0.036585365853658534,
           0.012195121951219513,
           0,
           0.02032520325203252,
           0.024390243902439025,
           0.02032520325203252,
           0.028455284552845527,
           -0.008130081300813009,
           -0.012195121951219513,
           -0.012195121951219513,
           0.016260162601626018,
           0.008130081300813009,
           -0.02032520325203252,
           0.032520325203252036,
           -0.02032520325203252,
           0.008130081300813009,
           0.008130081300813009,
           -0.008130081300813009,
           -0.016260162601626018,
           -0.0040650406504065045,
           0.008130081300813009,
           0.0040650406504065045,
           0.016260162601626018,
           0.012195121951219513,
           -0.43902439024390244,
           -0.036585365853658534,
           0.008130081300813009
          ],
          [
           0.004545454545454545,
           0.00909090909090909,
           -0.09545454545454546,
           0.04090909090909091,
           0.4727272727272727,
           -0.02727272727272727,
           0.1409090909090909,
           -0.02727272727272727,
           0.32727272727272727,
           -0.013636363636363636,
           0.013636363636363636,
           0.17272727272727273,
           -0.07272727272727272,
           0.1409090909090909,
           -0.11363636363636363,
           -0.05909090909090909,
           -0.004545454545454545,
           0.00909090909090909,
           -0.00909090909090909,
           -0.01818181818181818,
           0.12727272727272726,
           -0.04090909090909091,
           0.01818181818181818,
           0.05454545454545454,
           0.09090909090909091,
           0.22727272727272727,
           -0.00909090909090909,
           0.05909090909090909,
           0.031818181818181815,
           0.44545454545454544,
           -0.004545454545454545,
           0.004545454545454545,
           -0.031818181818181815,
           -0.01818181818181818,
           -0.17272727272727273,
           0.013636363636363636,
           0.05,
           -0.031818181818181815
          ],
          [
           -0.03260869565217391,
           -0.08695652173913043,
           0.005434782608695652,
           -0.10326086956521739,
           0.10326086956521739,
           -0.20108695652173914,
           0.010869565217391304,
           -0.005434782608695652,
           0.09239130434782608,
           -0.125,
           -0.05434782608695652,
           0.02717391304347826,
           -0.03804347826086957,
           0.04891304347826087,
           -0.010869565217391304,
           -0.016304347826086956,
           -0.021739130434782608,
           -0.06521739130434782,
           -0.043478260869565216,
           0.010869565217391304,
           0.03804347826086957,
           0.016304347826086956,
           0.02717391304347826,
           0.021739130434782608,
           0.06521739130434782,
           0.005434782608695652,
           -0.005434782608695652,
           -0.016304347826086956,
           -0.08152173913043478,
           0.016304347826086956,
           -0.04891304347826087,
           -0.13043478260869565,
           0.03260869565217391,
           0.03260869565217391,
           -0.03804347826086957,
           0.02717391304347826,
           0.043478260869565216,
           -0.02717391304347826
          ],
          [
           0.011235955056179775,
           0.016853932584269662,
           0.02247191011235955,
           0.016853932584269662,
           0.07303370786516854,
           -0.028089887640449437,
           0.0056179775280898875,
           -0.028089887640449437,
           0.0449438202247191,
           -0.033707865168539325,
           -0.011235955056179775,
           0.033707865168539325,
           -0.011235955056179775,
           0.011235955056179775,
           0.016853932584269662,
           0.033707865168539325,
           0.0056179775280898875,
           0.05056179775280899,
           0.02247191011235955,
           -0.34831460674157305,
           -0.0056179775280898875,
           0.028089887640449437,
           -0.5168539325842697,
           -0.02247191011235955,
           0.08426966292134831,
           -0.0056179775280898875,
           0.0056179775280898875,
           -0.028089887640449437,
           -0.016853932584269662,
           0.016853932584269662,
           0.0449438202247191,
           0.06179775280898876,
           0.06741573033707865,
           0.0449438202247191,
           0.0056179775280898875,
           0.07303370786516854,
           0.011235955056179775,
           0
          ],
          [
           -0.0047169811320754715,
           -0.02358490566037736,
           0.07075471698113207,
           -0.009433962264150943,
           -0.39622641509433965,
           0.009433962264150943,
           -0.33490566037735847,
           -0.08962264150943396,
           -0.37735849056603776,
           0.08962264150943396,
           -0.02358490566037736,
           -0.0047169811320754715,
           0.08018867924528301,
           -0.08018867924528301,
           0.018867924528301886,
           -0.018867924528301886,
           -0.03773584905660377,
           0.13679245283018868,
           -0.0047169811320754715,
           0.02830188679245283,
           -0.018867924528301886,
           -0.3018867924528302,
           0.02358490566037736,
           -0.35377358490566035,
           0.05188679245283019,
           0.22641509433962265,
           0.05660377358490566,
           -0.20754716981132076,
           0,
           -0.02830188679245283,
           -0.10849056603773585,
           0.02830188679245283,
           -0.1650943396226415,
           0.014150943396226415,
           -0.08490566037735849,
           -0.0330188679245283,
           -0.15566037735849056,
           0.08018867924528301
          ],
          [
           -0.007246376811594203,
           -0.007246376811594203,
           0.021739130434782608,
           -0.021739130434782608,
           -0.322463768115942,
           0.057971014492753624,
           -0.26811594202898553,
           -0.07246376811594203,
           -0.2391304347826087,
           0.057971014492753624,
           -0.07246376811594203,
           -0.14492753623188406,
           -0.09420289855072464,
           -0.050724637681159424,
           -0.007246376811594203,
           0.021739130434782608,
           -0.057971014492753624,
           0.06521739130434782,
           0.007246376811594203,
           0.014492753623188406,
           -0.19927536231884058,
           0.18840579710144928,
           0.036231884057971016,
           0.2028985507246377,
           -0.014492753623188406,
           -0.30434782608695654,
           -0.06521739130434782,
           -0.11956521739130435,
           0.014492753623188406,
           -0.4855072463768116,
           -0.050724637681159424,
           0.021739130434782608,
           0.13768115942028986,
           0.036231884057971016,
           0.08695652173913043,
           -0.007246376811594203,
           -0.036231884057971016,
           -0.057971014492753624
          ],
          [
           0.018018018018018018,
           0.02252252252252252,
           0.04054054054054054,
           0.02252252252252252,
           -0.1891891891891892,
           0,
           -0.2882882882882883,
           -0.04504504504504504,
           -0.1981981981981982,
           0.009009009009009009,
           -0.04504504504504504,
           0.009009009009009009,
           0.009009009009009009,
           -0.02252252252252252,
           0.0045045045045045045,
           0.018018018018018018,
           -0.02252252252252252,
           0.03153153153153153,
           -0.0045045045045045045,
           -0.0045045045045045045,
           -0.04504504504504504,
           -0.02702702702702703,
           0.02252252252252252,
           -0.02702702702702703,
           0.0990990990990991,
           -0.02252252252252252,
           0.018018018018018018,
           -0.0990990990990991,
           0.018018018018018018,
           -0.05405405405405406,
           -0.04054054054054054,
           0.013513513513513514,
           0.06756756756756757,
           0.04054054054054054,
           -0.14414414414414414,
           0,
           -0.06756756756756757,
           -0.04054054054054054
          ]
         ]
        }
       ],
       "layout": {
        "coloraxis": {
         "colorscale": [
          [
           0,
           "#0d0887"
          ],
          [
           0.1111111111111111,
           "#46039f"
          ],
          [
           0.2222222222222222,
           "#7201a8"
          ],
          [
           0.3333333333333333,
           "#9c179e"
          ],
          [
           0.4444444444444444,
           "#bd3786"
          ],
          [
           0.5555555555555556,
           "#d8576b"
          ],
          [
           0.6666666666666666,
           "#ed7953"
          ],
          [
           0.7777777777777778,
           "#fb9f3a"
          ],
          [
           0.8888888888888888,
           "#fdca26"
          ],
          [
           1,
           "#f0f921"
          ]
         ]
        },
        "margin": {
         "t": 60
        },
        "template": {
         "data": {
          "bar": [
           {
            "error_x": {
             "color": "#2a3f5f"
            },
            "error_y": {
             "color": "#2a3f5f"
            },
            "marker": {
             "line": {
              "color": "#E5ECF6",
              "width": 0.5
             },
             "pattern": {
              "fillmode": "overlay",
              "size": 10,
              "solidity": 0.2
             }
            },
            "type": "bar"
           }
          ],
          "barpolar": [
           {
            "marker": {
             "line": {
              "color": "#E5ECF6",
              "width": 0.5
             },
             "pattern": {
              "fillmode": "overlay",
              "size": 10,
              "solidity": 0.2
             }
            },
            "type": "barpolar"
           }
          ],
          "carpet": [
           {
            "aaxis": {
             "endlinecolor": "#2a3f5f",
             "gridcolor": "white",
             "linecolor": "white",
             "minorgridcolor": "white",
             "startlinecolor": "#2a3f5f"
            },
            "baxis": {
             "endlinecolor": "#2a3f5f",
             "gridcolor": "white",
             "linecolor": "white",
             "minorgridcolor": "white",
             "startlinecolor": "#2a3f5f"
            },
            "type": "carpet"
           }
          ],
          "choropleth": [
           {
            "colorbar": {
             "outlinewidth": 0,
             "ticks": ""
            },
            "type": "choropleth"
           }
          ],
          "contour": [
           {
            "colorbar": {
             "outlinewidth": 0,
             "ticks": ""
            },
            "colorscale": [
             [
              0,
              "#0d0887"
             ],
             [
              0.1111111111111111,
              "#46039f"
             ],
             [
              0.2222222222222222,
              "#7201a8"
             ],
             [
              0.3333333333333333,
              "#9c179e"
             ],
             [
              0.4444444444444444,
              "#bd3786"
             ],
             [
              0.5555555555555556,
              "#d8576b"
             ],
             [
              0.6666666666666666,
              "#ed7953"
             ],
             [
              0.7777777777777778,
              "#fb9f3a"
             ],
             [
              0.8888888888888888,
              "#fdca26"
             ],
             [
              1,
              "#f0f921"
             ]
            ],
            "type": "contour"
           }
          ],
          "contourcarpet": [
           {
            "colorbar": {
             "outlinewidth": 0,
             "ticks": ""
            },
            "type": "contourcarpet"
           }
          ],
          "heatmap": [
           {
            "colorbar": {
             "outlinewidth": 0,
             "ticks": ""
            },
            "colorscale": [
             [
              0,
              "#0d0887"
             ],
             [
              0.1111111111111111,
              "#46039f"
             ],
             [
              0.2222222222222222,
              "#7201a8"
             ],
             [
              0.3333333333333333,
              "#9c179e"
             ],
             [
              0.4444444444444444,
              "#bd3786"
             ],
             [
              0.5555555555555556,
              "#d8576b"
             ],
             [
              0.6666666666666666,
              "#ed7953"
             ],
             [
              0.7777777777777778,
              "#fb9f3a"
             ],
             [
              0.8888888888888888,
              "#fdca26"
             ],
             [
              1,
              "#f0f921"
             ]
            ],
            "type": "heatmap"
           }
          ],
          "heatmapgl": [
           {
            "colorbar": {
             "outlinewidth": 0,
             "ticks": ""
            },
            "colorscale": [
             [
              0,
              "#0d0887"
             ],
             [
              0.1111111111111111,
              "#46039f"
             ],
             [
              0.2222222222222222,
              "#7201a8"
             ],
             [
              0.3333333333333333,
              "#9c179e"
             ],
             [
              0.4444444444444444,
              "#bd3786"
             ],
             [
              0.5555555555555556,
              "#d8576b"
             ],
             [
              0.6666666666666666,
              "#ed7953"
             ],
             [
              0.7777777777777778,
              "#fb9f3a"
             ],
             [
              0.8888888888888888,
              "#fdca26"
             ],
             [
              1,
              "#f0f921"
             ]
            ],
            "type": "heatmapgl"
           }
          ],
          "histogram": [
           {
            "marker": {
             "pattern": {
              "fillmode": "overlay",
              "size": 10,
              "solidity": 0.2
             }
            },
            "type": "histogram"
           }
          ],
          "histogram2d": [
           {
            "colorbar": {
             "outlinewidth": 0,
             "ticks": ""
            },
            "colorscale": [
             [
              0,
              "#0d0887"
             ],
             [
              0.1111111111111111,
              "#46039f"
             ],
             [
              0.2222222222222222,
              "#7201a8"
             ],
             [
              0.3333333333333333,
              "#9c179e"
             ],
             [
              0.4444444444444444,
              "#bd3786"
             ],
             [
              0.5555555555555556,
              "#d8576b"
             ],
             [
              0.6666666666666666,
              "#ed7953"
             ],
             [
              0.7777777777777778,
              "#fb9f3a"
             ],
             [
              0.8888888888888888,
              "#fdca26"
             ],
             [
              1,
              "#f0f921"
             ]
            ],
            "type": "histogram2d"
           }
          ],
          "histogram2dcontour": [
           {
            "colorbar": {
             "outlinewidth": 0,
             "ticks": ""
            },
            "colorscale": [
             [
              0,
              "#0d0887"
             ],
             [
              0.1111111111111111,
              "#46039f"
             ],
             [
              0.2222222222222222,
              "#7201a8"
             ],
             [
              0.3333333333333333,
              "#9c179e"
             ],
             [
              0.4444444444444444,
              "#bd3786"
             ],
             [
              0.5555555555555556,
              "#d8576b"
             ],
             [
              0.6666666666666666,
              "#ed7953"
             ],
             [
              0.7777777777777778,
              "#fb9f3a"
             ],
             [
              0.8888888888888888,
              "#fdca26"
             ],
             [
              1,
              "#f0f921"
             ]
            ],
            "type": "histogram2dcontour"
           }
          ],
          "mesh3d": [
           {
            "colorbar": {
             "outlinewidth": 0,
             "ticks": ""
            },
            "type": "mesh3d"
           }
          ],
          "parcoords": [
           {
            "line": {
             "colorbar": {
              "outlinewidth": 0,
              "ticks": ""
             }
            },
            "type": "parcoords"
           }
          ],
          "pie": [
           {
            "automargin": true,
            "type": "pie"
           }
          ],
          "scatter": [
           {
            "fillpattern": {
             "fillmode": "overlay",
             "size": 10,
             "solidity": 0.2
            },
            "type": "scatter"
           }
          ],
          "scatter3d": [
           {
            "line": {
             "colorbar": {
              "outlinewidth": 0,
              "ticks": ""
             }
            },
            "marker": {
             "colorbar": {
              "outlinewidth": 0,
              "ticks": ""
             }
            },
            "type": "scatter3d"
           }
          ],
          "scattercarpet": [
           {
            "marker": {
             "colorbar": {
              "outlinewidth": 0,
              "ticks": ""
             }
            },
            "type": "scattercarpet"
           }
          ],
          "scattergeo": [
           {
            "marker": {
             "colorbar": {
              "outlinewidth": 0,
              "ticks": ""
             }
            },
            "type": "scattergeo"
           }
          ],
          "scattergl": [
           {
            "marker": {
             "colorbar": {
              "outlinewidth": 0,
              "ticks": ""
             }
            },
            "type": "scattergl"
           }
          ],
          "scattermapbox": [
           {
            "marker": {
             "colorbar": {
              "outlinewidth": 0,
              "ticks": ""
             }
            },
            "type": "scattermapbox"
           }
          ],
          "scatterpolar": [
           {
            "marker": {
             "colorbar": {
              "outlinewidth": 0,
              "ticks": ""
             }
            },
            "type": "scatterpolar"
           }
          ],
          "scatterpolargl": [
           {
            "marker": {
             "colorbar": {
              "outlinewidth": 0,
              "ticks": ""
             }
            },
            "type": "scatterpolargl"
           }
          ],
          "scatterternary": [
           {
            "marker": {
             "colorbar": {
              "outlinewidth": 0,
              "ticks": ""
             }
            },
            "type": "scatterternary"
           }
          ],
          "surface": [
           {
            "colorbar": {
             "outlinewidth": 0,
             "ticks": ""
            },
            "colorscale": [
             [
              0,
              "#0d0887"
             ],
             [
              0.1111111111111111,
              "#46039f"
             ],
             [
              0.2222222222222222,
              "#7201a8"
             ],
             [
              0.3333333333333333,
              "#9c179e"
             ],
             [
              0.4444444444444444,
              "#bd3786"
             ],
             [
              0.5555555555555556,
              "#d8576b"
             ],
             [
              0.6666666666666666,
              "#ed7953"
             ],
             [
              0.7777777777777778,
              "#fb9f3a"
             ],
             [
              0.8888888888888888,
              "#fdca26"
             ],
             [
              1,
              "#f0f921"
             ]
            ],
            "type": "surface"
           }
          ],
          "table": [
           {
            "cells": {
             "fill": {
              "color": "#EBF0F8"
             },
             "line": {
              "color": "white"
             }
            },
            "header": {
             "fill": {
              "color": "#C8D4E3"
             },
             "line": {
              "color": "white"
             }
            },
            "type": "table"
           }
          ]
         },
         "layout": {
          "annotationdefaults": {
           "arrowcolor": "#2a3f5f",
           "arrowhead": 0,
           "arrowwidth": 1
          },
          "autotypenumbers": "strict",
          "coloraxis": {
           "colorbar": {
            "outlinewidth": 0,
            "ticks": ""
           }
          },
          "colorscale": {
           "diverging": [
            [
             0,
             "#8e0152"
            ],
            [
             0.1,
             "#c51b7d"
            ],
            [
             0.2,
             "#de77ae"
            ],
            [
             0.3,
             "#f1b6da"
            ],
            [
             0.4,
             "#fde0ef"
            ],
            [
             0.5,
             "#f7f7f7"
            ],
            [
             0.6,
             "#e6f5d0"
            ],
            [
             0.7,
             "#b8e186"
            ],
            [
             0.8,
             "#7fbc41"
            ],
            [
             0.9,
             "#4d9221"
            ],
            [
             1,
             "#276419"
            ]
           ],
           "sequential": [
            [
             0,
             "#0d0887"
            ],
            [
             0.1111111111111111,
             "#46039f"
            ],
            [
             0.2222222222222222,
             "#7201a8"
            ],
            [
             0.3333333333333333,
             "#9c179e"
            ],
            [
             0.4444444444444444,
             "#bd3786"
            ],
            [
             0.5555555555555556,
             "#d8576b"
            ],
            [
             0.6666666666666666,
             "#ed7953"
            ],
            [
             0.7777777777777778,
             "#fb9f3a"
            ],
            [
             0.8888888888888888,
             "#fdca26"
            ],
            [
             1,
             "#f0f921"
            ]
           ],
           "sequentialminus": [
            [
             0,
             "#0d0887"
            ],
            [
             0.1111111111111111,
             "#46039f"
            ],
            [
             0.2222222222222222,
             "#7201a8"
            ],
            [
             0.3333333333333333,
             "#9c179e"
            ],
            [
             0.4444444444444444,
             "#bd3786"
            ],
            [
             0.5555555555555556,
             "#d8576b"
            ],
            [
             0.6666666666666666,
             "#ed7953"
            ],
            [
             0.7777777777777778,
             "#fb9f3a"
            ],
            [
             0.8888888888888888,
             "#fdca26"
            ],
            [
             1,
             "#f0f921"
            ]
           ]
          },
          "colorway": [
           "#636efa",
           "#EF553B",
           "#00cc96",
           "#ab63fa",
           "#FFA15A",
           "#19d3f3",
           "#FF6692",
           "#B6E880",
           "#FF97FF",
           "#FECB52"
          ],
          "font": {
           "color": "#2a3f5f"
          },
          "geo": {
           "bgcolor": "white",
           "lakecolor": "white",
           "landcolor": "#E5ECF6",
           "showlakes": true,
           "showland": true,
           "subunitcolor": "white"
          },
          "hoverlabel": {
           "align": "left"
          },
          "hovermode": "closest",
          "mapbox": {
           "style": "light"
          },
          "paper_bgcolor": "white",
          "plot_bgcolor": "#E5ECF6",
          "polar": {
           "angularaxis": {
            "gridcolor": "white",
            "linecolor": "white",
            "ticks": ""
           },
           "bgcolor": "#E5ECF6",
           "radialaxis": {
            "gridcolor": "white",
            "linecolor": "white",
            "ticks": ""
           }
          },
          "scene": {
           "xaxis": {
            "backgroundcolor": "#E5ECF6",
            "gridcolor": "white",
            "gridwidth": 2,
            "linecolor": "white",
            "showbackground": true,
            "ticks": "",
            "zerolinecolor": "white"
           },
           "yaxis": {
            "backgroundcolor": "#E5ECF6",
            "gridcolor": "white",
            "gridwidth": 2,
            "linecolor": "white",
            "showbackground": true,
            "ticks": "",
            "zerolinecolor": "white"
           },
           "zaxis": {
            "backgroundcolor": "#E5ECF6",
            "gridcolor": "white",
            "gridwidth": 2,
            "linecolor": "white",
            "showbackground": true,
            "ticks": "",
            "zerolinecolor": "white"
           }
          },
          "shapedefaults": {
           "line": {
            "color": "#2a3f5f"
           }
          },
          "ternary": {
           "aaxis": {
            "gridcolor": "white",
            "linecolor": "white",
            "ticks": ""
           },
           "baxis": {
            "gridcolor": "white",
            "linecolor": "white",
            "ticks": ""
           },
           "bgcolor": "#E5ECF6",
           "caxis": {
            "gridcolor": "white",
            "linecolor": "white",
            "ticks": ""
           }
          },
          "title": {
           "x": 0.05
          },
          "xaxis": {
           "automargin": true,
           "gridcolor": "white",
           "linecolor": "white",
           "ticks": "",
           "title": {
            "standoff": 15
           },
           "zerolinecolor": "white",
           "zerolinewidth": 2
          },
          "yaxis": {
           "automargin": true,
           "gridcolor": "white",
           "linecolor": "white",
           "ticks": "",
           "title": {
            "standoff": 15
           },
           "zerolinecolor": "white",
           "zerolinewidth": 2
          }
         }
        },
        "xaxis": {
         "anchor": "y",
         "constrain": "domain",
         "domain": [
          0,
          1
         ],
         "scaleanchor": "y"
        },
        "yaxis": {
         "anchor": "x",
         "autorange": "reversed",
         "constrain": "domain",
         "domain": [
          0,
          1
         ]
        }
       }
      },
      "text/html": [
       "<div>                            <div id=\"d1f9dab4-c0d6-480a-87a8-04556cd0024f\" class=\"plotly-graph-div\" style=\"height:525px; width:100%;\"></div>            <script type=\"text/javascript\">                require([\"plotly\"], function(Plotly) {                    window.PLOTLYENV=window.PLOTLYENV || {};                                    if (document.getElementById(\"d1f9dab4-c0d6-480a-87a8-04556cd0024f\")) {                    Plotly.newPlot(                        \"d1f9dab4-c0d6-480a-87a8-04556cd0024f\",                        [{\"coloraxis\":\"coloraxis\",\"name\":\"0\",\"x\":[\"644\",\"3462\",\"12423\",\"6793\",\"9356\",\"3086\",\"16147\",\"10388\",\"7445\",\"4505\",\"6814\",\"2977\",\"7333\",\"5927\",\"14763\",\"13099\",\"13229\",\"437\",\"12215\",\"13882\",\"16060\",\"8647\",\"2121\",\"2506\",\"14923\",\"12492\",\"16206\",\"5328\",\"15192\",\"5081\",\"11228\",\"14813\",\"13289\",\"8684\",\"2928\",\"12402\",\"7670\",\"8703\"],\"y\":[\"en_es\",\"antonyms\",\"person_profession\",\"country_capital\",\"algo_first\",\"algo_last\",\"algo_second\"],\"z\":[[-0.06097560975609756,0.02032520325203252,0.016260162601626018,-0.008130081300813009,-0.012195121951219513,0.0040650406504065045,0.0040650406504065045,0.008130081300813009,-0.012195121951219513,0.02032520325203252,0.016260162601626018,-0.036585365853658534,0.012195121951219513,0.0,0.02032520325203252,0.024390243902439025,0.02032520325203252,0.028455284552845527,-0.008130081300813009,-0.012195121951219513,-0.012195121951219513,0.016260162601626018,0.008130081300813009,-0.02032520325203252,0.032520325203252036,-0.02032520325203252,0.008130081300813009,0.008130081300813009,-0.008130081300813009,-0.016260162601626018,-0.0040650406504065045,0.008130081300813009,0.0040650406504065045,0.016260162601626018,0.012195121951219513,-0.43902439024390244,-0.036585365853658534,0.008130081300813009],[0.004545454545454545,0.00909090909090909,-0.09545454545454546,0.04090909090909091,0.4727272727272727,-0.02727272727272727,0.1409090909090909,-0.02727272727272727,0.32727272727272727,-0.013636363636363636,0.013636363636363636,0.17272727272727273,-0.07272727272727272,0.1409090909090909,-0.11363636363636363,-0.05909090909090909,-0.004545454545454545,0.00909090909090909,-0.00909090909090909,-0.01818181818181818,0.12727272727272726,-0.04090909090909091,0.01818181818181818,0.05454545454545454,0.09090909090909091,0.22727272727272727,-0.00909090909090909,0.05909090909090909,0.031818181818181815,0.44545454545454544,-0.004545454545454545,0.004545454545454545,-0.031818181818181815,-0.01818181818181818,-0.17272727272727273,0.013636363636363636,0.05,-0.031818181818181815],[-0.03260869565217391,-0.08695652173913043,0.005434782608695652,-0.10326086956521739,0.10326086956521739,-0.20108695652173914,0.010869565217391304,-0.005434782608695652,0.09239130434782608,-0.125,-0.05434782608695652,0.02717391304347826,-0.03804347826086957,0.04891304347826087,-0.010869565217391304,-0.016304347826086956,-0.021739130434782608,-0.06521739130434782,-0.043478260869565216,0.010869565217391304,0.03804347826086957,0.016304347826086956,0.02717391304347826,0.021739130434782608,0.06521739130434782,0.005434782608695652,-0.005434782608695652,-0.016304347826086956,-0.08152173913043478,0.016304347826086956,-0.04891304347826087,-0.13043478260869565,0.03260869565217391,0.03260869565217391,-0.03804347826086957,0.02717391304347826,0.043478260869565216,-0.02717391304347826],[0.011235955056179775,0.016853932584269662,0.02247191011235955,0.016853932584269662,0.07303370786516854,-0.028089887640449437,0.0056179775280898875,-0.028089887640449437,0.0449438202247191,-0.033707865168539325,-0.011235955056179775,0.033707865168539325,-0.011235955056179775,0.011235955056179775,0.016853932584269662,0.033707865168539325,0.0056179775280898875,0.05056179775280899,0.02247191011235955,-0.34831460674157305,-0.0056179775280898875,0.028089887640449437,-0.5168539325842697,-0.02247191011235955,0.08426966292134831,-0.0056179775280898875,0.0056179775280898875,-0.028089887640449437,-0.016853932584269662,0.016853932584269662,0.0449438202247191,0.06179775280898876,0.06741573033707865,0.0449438202247191,0.0056179775280898875,0.07303370786516854,0.011235955056179775,0.0],[-0.0047169811320754715,-0.02358490566037736,0.07075471698113207,-0.009433962264150943,-0.39622641509433965,0.009433962264150943,-0.33490566037735847,-0.08962264150943396,-0.37735849056603776,0.08962264150943396,-0.02358490566037736,-0.0047169811320754715,0.08018867924528301,-0.08018867924528301,0.018867924528301886,-0.018867924528301886,-0.03773584905660377,0.13679245283018868,-0.0047169811320754715,0.02830188679245283,-0.018867924528301886,-0.3018867924528302,0.02358490566037736,-0.35377358490566035,0.05188679245283019,0.22641509433962265,0.05660377358490566,-0.20754716981132076,0.0,-0.02830188679245283,-0.10849056603773585,0.02830188679245283,-0.1650943396226415,0.014150943396226415,-0.08490566037735849,-0.0330188679245283,-0.15566037735849056,0.08018867924528301],[-0.007246376811594203,-0.007246376811594203,0.021739130434782608,-0.021739130434782608,-0.322463768115942,0.057971014492753624,-0.26811594202898553,-0.07246376811594203,-0.2391304347826087,0.057971014492753624,-0.07246376811594203,-0.14492753623188406,-0.09420289855072464,-0.050724637681159424,-0.007246376811594203,0.021739130434782608,-0.057971014492753624,0.06521739130434782,0.007246376811594203,0.014492753623188406,-0.19927536231884058,0.18840579710144928,0.036231884057971016,0.2028985507246377,-0.014492753623188406,-0.30434782608695654,-0.06521739130434782,-0.11956521739130435,0.014492753623188406,-0.4855072463768116,-0.050724637681159424,0.021739130434782608,0.13768115942028986,0.036231884057971016,0.08695652173913043,-0.007246376811594203,-0.036231884057971016,-0.057971014492753624],[0.018018018018018018,0.02252252252252252,0.04054054054054054,0.02252252252252252,-0.1891891891891892,0.0,-0.2882882882882883,-0.04504504504504504,-0.1981981981981982,0.009009009009009009,-0.04504504504504504,0.009009009009009009,0.009009009009009009,-0.02252252252252252,0.0045045045045045045,0.018018018018018018,-0.02252252252252252,0.03153153153153153,-0.0045045045045045045,-0.0045045045045045045,-0.04504504504504504,-0.02702702702702703,0.02252252252252252,-0.02702702702702703,0.0990990990990991,-0.02252252252252252,0.018018018018018018,-0.0990990990990991,0.018018018018018018,-0.05405405405405406,-0.04054054054054054,0.013513513513513514,0.06756756756756757,0.04054054054054054,-0.14414414414414414,0.0,-0.06756756756756757,-0.04054054054054054]],\"type\":\"heatmap\",\"xaxis\":\"x\",\"yaxis\":\"y\",\"hovertemplate\":\"x: %{x}\\u003cbr\\u003ey: %{y}\\u003cbr\\u003ecolor: %{z}\\u003cextra\\u003e\\u003c\\u002fextra\\u003e\"}],                        {\"template\":{\"data\":{\"histogram2dcontour\":[{\"type\":\"histogram2dcontour\",\"colorbar\":{\"outlinewidth\":0,\"ticks\":\"\"},\"colorscale\":[[0.0,\"#0d0887\"],[0.1111111111111111,\"#46039f\"],[0.2222222222222222,\"#7201a8\"],[0.3333333333333333,\"#9c179e\"],[0.4444444444444444,\"#bd3786\"],[0.5555555555555556,\"#d8576b\"],[0.6666666666666666,\"#ed7953\"],[0.7777777777777778,\"#fb9f3a\"],[0.8888888888888888,\"#fdca26\"],[1.0,\"#f0f921\"]]}],\"choropleth\":[{\"type\":\"choropleth\",\"colorbar\":{\"outlinewidth\":0,\"ticks\":\"\"}}],\"histogram2d\":[{\"type\":\"histogram2d\",\"colorbar\":{\"outlinewidth\":0,\"ticks\":\"\"},\"colorscale\":[[0.0,\"#0d0887\"],[0.1111111111111111,\"#46039f\"],[0.2222222222222222,\"#7201a8\"],[0.3333333333333333,\"#9c179e\"],[0.4444444444444444,\"#bd3786\"],[0.5555555555555556,\"#d8576b\"],[0.6666666666666666,\"#ed7953\"],[0.7777777777777778,\"#fb9f3a\"],[0.8888888888888888,\"#fdca26\"],[1.0,\"#f0f921\"]]}],\"heatmap\":[{\"type\":\"heatmap\",\"colorbar\":{\"outlinewidth\":0,\"ticks\":\"\"},\"colorscale\":[[0.0,\"#0d0887\"],[0.1111111111111111,\"#46039f\"],[0.2222222222222222,\"#7201a8\"],[0.3333333333333333,\"#9c179e\"],[0.4444444444444444,\"#bd3786\"],[0.5555555555555556,\"#d8576b\"],[0.6666666666666666,\"#ed7953\"],[0.7777777777777778,\"#fb9f3a\"],[0.8888888888888888,\"#fdca26\"],[1.0,\"#f0f921\"]]}],\"heatmapgl\":[{\"type\":\"heatmapgl\",\"colorbar\":{\"outlinewidth\":0,\"ticks\":\"\"},\"colorscale\":[[0.0,\"#0d0887\"],[0.1111111111111111,\"#46039f\"],[0.2222222222222222,\"#7201a8\"],[0.3333333333333333,\"#9c179e\"],[0.4444444444444444,\"#bd3786\"],[0.5555555555555556,\"#d8576b\"],[0.6666666666666666,\"#ed7953\"],[0.7777777777777778,\"#fb9f3a\"],[0.8888888888888888,\"#fdca26\"],[1.0,\"#f0f921\"]]}],\"contourcarpet\":[{\"type\":\"contourcarpet\",\"colorbar\":{\"outlinewidth\":0,\"ticks\":\"\"}}],\"contour\":[{\"type\":\"contour\",\"colorbar\":{\"outlinewidth\":0,\"ticks\":\"\"},\"colorscale\":[[0.0,\"#0d0887\"],[0.1111111111111111,\"#46039f\"],[0.2222222222222222,\"#7201a8\"],[0.3333333333333333,\"#9c179e\"],[0.4444444444444444,\"#bd3786\"],[0.5555555555555556,\"#d8576b\"],[0.6666666666666666,\"#ed7953\"],[0.7777777777777778,\"#fb9f3a\"],[0.8888888888888888,\"#fdca26\"],[1.0,\"#f0f921\"]]}],\"surface\":[{\"type\":\"surface\",\"colorbar\":{\"outlinewidth\":0,\"ticks\":\"\"},\"colorscale\":[[0.0,\"#0d0887\"],[0.1111111111111111,\"#46039f\"],[0.2222222222222222,\"#7201a8\"],[0.3333333333333333,\"#9c179e\"],[0.4444444444444444,\"#bd3786\"],[0.5555555555555556,\"#d8576b\"],[0.6666666666666666,\"#ed7953\"],[0.7777777777777778,\"#fb9f3a\"],[0.8888888888888888,\"#fdca26\"],[1.0,\"#f0f921\"]]}],\"mesh3d\":[{\"type\":\"mesh3d\",\"colorbar\":{\"outlinewidth\":0,\"ticks\":\"\"}}],\"scatter\":[{\"fillpattern\":{\"fillmode\":\"overlay\",\"size\":10,\"solidity\":0.2},\"type\":\"scatter\"}],\"parcoords\":[{\"type\":\"parcoords\",\"line\":{\"colorbar\":{\"outlinewidth\":0,\"ticks\":\"\"}}}],\"scatterpolargl\":[{\"type\":\"scatterpolargl\",\"marker\":{\"colorbar\":{\"outlinewidth\":0,\"ticks\":\"\"}}}],\"bar\":[{\"error_x\":{\"color\":\"#2a3f5f\"},\"error_y\":{\"color\":\"#2a3f5f\"},\"marker\":{\"line\":{\"color\":\"#E5ECF6\",\"width\":0.5},\"pattern\":{\"fillmode\":\"overlay\",\"size\":10,\"solidity\":0.2}},\"type\":\"bar\"}],\"scattergeo\":[{\"type\":\"scattergeo\",\"marker\":{\"colorbar\":{\"outlinewidth\":0,\"ticks\":\"\"}}}],\"scatterpolar\":[{\"type\":\"scatterpolar\",\"marker\":{\"colorbar\":{\"outlinewidth\":0,\"ticks\":\"\"}}}],\"histogram\":[{\"marker\":{\"pattern\":{\"fillmode\":\"overlay\",\"size\":10,\"solidity\":0.2}},\"type\":\"histogram\"}],\"scattergl\":[{\"type\":\"scattergl\",\"marker\":{\"colorbar\":{\"outlinewidth\":0,\"ticks\":\"\"}}}],\"scatter3d\":[{\"type\":\"scatter3d\",\"line\":{\"colorbar\":{\"outlinewidth\":0,\"ticks\":\"\"}},\"marker\":{\"colorbar\":{\"outlinewidth\":0,\"ticks\":\"\"}}}],\"scattermapbox\":[{\"type\":\"scattermapbox\",\"marker\":{\"colorbar\":{\"outlinewidth\":0,\"ticks\":\"\"}}}],\"scatterternary\":[{\"type\":\"scatterternary\",\"marker\":{\"colorbar\":{\"outlinewidth\":0,\"ticks\":\"\"}}}],\"scattercarpet\":[{\"type\":\"scattercarpet\",\"marker\":{\"colorbar\":{\"outlinewidth\":0,\"ticks\":\"\"}}}],\"carpet\":[{\"aaxis\":{\"endlinecolor\":\"#2a3f5f\",\"gridcolor\":\"white\",\"linecolor\":\"white\",\"minorgridcolor\":\"white\",\"startlinecolor\":\"#2a3f5f\"},\"baxis\":{\"endlinecolor\":\"#2a3f5f\",\"gridcolor\":\"white\",\"linecolor\":\"white\",\"minorgridcolor\":\"white\",\"startlinecolor\":\"#2a3f5f\"},\"type\":\"carpet\"}],\"table\":[{\"cells\":{\"fill\":{\"color\":\"#EBF0F8\"},\"line\":{\"color\":\"white\"}},\"header\":{\"fill\":{\"color\":\"#C8D4E3\"},\"line\":{\"color\":\"white\"}},\"type\":\"table\"}],\"barpolar\":[{\"marker\":{\"line\":{\"color\":\"#E5ECF6\",\"width\":0.5},\"pattern\":{\"fillmode\":\"overlay\",\"size\":10,\"solidity\":0.2}},\"type\":\"barpolar\"}],\"pie\":[{\"automargin\":true,\"type\":\"pie\"}]},\"layout\":{\"autotypenumbers\":\"strict\",\"colorway\":[\"#636efa\",\"#EF553B\",\"#00cc96\",\"#ab63fa\",\"#FFA15A\",\"#19d3f3\",\"#FF6692\",\"#B6E880\",\"#FF97FF\",\"#FECB52\"],\"font\":{\"color\":\"#2a3f5f\"},\"hovermode\":\"closest\",\"hoverlabel\":{\"align\":\"left\"},\"paper_bgcolor\":\"white\",\"plot_bgcolor\":\"#E5ECF6\",\"polar\":{\"bgcolor\":\"#E5ECF6\",\"angularaxis\":{\"gridcolor\":\"white\",\"linecolor\":\"white\",\"ticks\":\"\"},\"radialaxis\":{\"gridcolor\":\"white\",\"linecolor\":\"white\",\"ticks\":\"\"}},\"ternary\":{\"bgcolor\":\"#E5ECF6\",\"aaxis\":{\"gridcolor\":\"white\",\"linecolor\":\"white\",\"ticks\":\"\"},\"baxis\":{\"gridcolor\":\"white\",\"linecolor\":\"white\",\"ticks\":\"\"},\"caxis\":{\"gridcolor\":\"white\",\"linecolor\":\"white\",\"ticks\":\"\"}},\"coloraxis\":{\"colorbar\":{\"outlinewidth\":0,\"ticks\":\"\"}},\"colorscale\":{\"sequential\":[[0.0,\"#0d0887\"],[0.1111111111111111,\"#46039f\"],[0.2222222222222222,\"#7201a8\"],[0.3333333333333333,\"#9c179e\"],[0.4444444444444444,\"#bd3786\"],[0.5555555555555556,\"#d8576b\"],[0.6666666666666666,\"#ed7953\"],[0.7777777777777778,\"#fb9f3a\"],[0.8888888888888888,\"#fdca26\"],[1.0,\"#f0f921\"]],\"sequentialminus\":[[0.0,\"#0d0887\"],[0.1111111111111111,\"#46039f\"],[0.2222222222222222,\"#7201a8\"],[0.3333333333333333,\"#9c179e\"],[0.4444444444444444,\"#bd3786\"],[0.5555555555555556,\"#d8576b\"],[0.6666666666666666,\"#ed7953\"],[0.7777777777777778,\"#fb9f3a\"],[0.8888888888888888,\"#fdca26\"],[1.0,\"#f0f921\"]],\"diverging\":[[0,\"#8e0152\"],[0.1,\"#c51b7d\"],[0.2,\"#de77ae\"],[0.3,\"#f1b6da\"],[0.4,\"#fde0ef\"],[0.5,\"#f7f7f7\"],[0.6,\"#e6f5d0\"],[0.7,\"#b8e186\"],[0.8,\"#7fbc41\"],[0.9,\"#4d9221\"],[1,\"#276419\"]]},\"xaxis\":{\"gridcolor\":\"white\",\"linecolor\":\"white\",\"ticks\":\"\",\"title\":{\"standoff\":15},\"zerolinecolor\":\"white\",\"automargin\":true,\"zerolinewidth\":2},\"yaxis\":{\"gridcolor\":\"white\",\"linecolor\":\"white\",\"ticks\":\"\",\"title\":{\"standoff\":15},\"zerolinecolor\":\"white\",\"automargin\":true,\"zerolinewidth\":2},\"scene\":{\"xaxis\":{\"backgroundcolor\":\"#E5ECF6\",\"gridcolor\":\"white\",\"linecolor\":\"white\",\"showbackground\":true,\"ticks\":\"\",\"zerolinecolor\":\"white\",\"gridwidth\":2},\"yaxis\":{\"backgroundcolor\":\"#E5ECF6\",\"gridcolor\":\"white\",\"linecolor\":\"white\",\"showbackground\":true,\"ticks\":\"\",\"zerolinecolor\":\"white\",\"gridwidth\":2},\"zaxis\":{\"backgroundcolor\":\"#E5ECF6\",\"gridcolor\":\"white\",\"linecolor\":\"white\",\"showbackground\":true,\"ticks\":\"\",\"zerolinecolor\":\"white\",\"gridwidth\":2}},\"shapedefaults\":{\"line\":{\"color\":\"#2a3f5f\"}},\"annotationdefaults\":{\"arrowcolor\":\"#2a3f5f\",\"arrowhead\":0,\"arrowwidth\":1},\"geo\":{\"bgcolor\":\"white\",\"landcolor\":\"#E5ECF6\",\"subunitcolor\":\"white\",\"showland\":true,\"showlakes\":true,\"lakecolor\":\"white\"},\"title\":{\"x\":0.05},\"mapbox\":{\"style\":\"light\"}}},\"xaxis\":{\"anchor\":\"y\",\"domain\":[0.0,1.0],\"scaleanchor\":\"y\",\"constrain\":\"domain\"},\"yaxis\":{\"anchor\":\"x\",\"domain\":[0.0,1.0],\"autorange\":\"reversed\",\"constrain\":\"domain\"},\"coloraxis\":{\"colorscale\":[[0.0,\"#0d0887\"],[0.1111111111111111,\"#46039f\"],[0.2222222222222222,\"#7201a8\"],[0.3333333333333333,\"#9c179e\"],[0.4444444444444444,\"#bd3786\"],[0.5555555555555556,\"#d8576b\"],[0.6666666666666666,\"#ed7953\"],[0.7777777777777778,\"#fb9f3a\"],[0.8888888888888888,\"#fdca26\"],[1.0,\"#f0f921\"]]},\"margin\":{\"t\":60}},                        {\"responsive\": true}                    ).then(function(){\n",
       "                            \n",
       "var gd = document.getElementById('d1f9dab4-c0d6-480a-87a8-04556cd0024f');\n",
       "var x = new MutationObserver(function (mutations, observer) {{\n",
       "        var display = window.getComputedStyle(gd).display;\n",
       "        if (!display || display === 'none') {{\n",
       "            console.log([gd, 'removed!']);\n",
       "            Plotly.purge(gd);\n",
       "            observer.disconnect();\n",
       "        }}\n",
       "}});\n",
       "\n",
       "// Listen for the removal of the full notebook cells\n",
       "var notebookContainer = gd.closest('#notebook-container');\n",
       "if (notebookContainer) {{\n",
       "    x.observe(notebookContainer, {childList: true});\n",
       "}}\n",
       "\n",
       "// Listen for the clearing of the current output cell\n",
       "var outputEl = gd.closest('.output');\n",
       "if (outputEl) {{\n",
       "    x.observe(outputEl, {childList: true});\n",
       "}}\n",
       "\n",
       "                        })                };                });            </script>        </div>"
      ]
     },
     "metadata": {},
     "output_type": "display_data"
    }
   ],
   "source": [
    "import plotly.express as px\n",
    "import pandas as pd\n",
    "import numpy as np\n",
    "\n",
    "normalized_losses = {}\n",
    "\n",
    "for task_name, losses in task_losses.items():\n",
    "    base_loss = losses[1]\n",
    "    losses = losses[0]\n",
    "    mean_loss = np.mean(losses)\n",
    "\n",
    "    normalized_losses[task_name] = [(loss - base_loss) / base_loss for loss in losses]\n",
    "\n",
    "\n",
    "df = pd.DataFrame([\n",
    "    {\"task\": task_name, \"feature\": feature, \"loss\": loss}\n",
    "    for task_name, losses in normalized_losses.items()\n",
    "    for feature, loss in zip(features, losses)\n",
    "])\n",
    "\n",
    "\n",
    "\n",
    "heatmap = np.zeros((len(task_names), len(features)))\n",
    "\n",
    "for i, task_name in enumerate(task_names):\n",
    "    for j, feature in enumerate(features):\n",
    "        heatmap[i, j] = normalized_losses[task_name][j]\n",
    "\n",
    "fig = px.imshow(heatmap, x=[str(x) for x in features], y=task_names)\n",
    "\n",
    "fig.show()\n"
   ]
  },
  {
   "cell_type": "code",
   "execution_count": 39,
   "metadata": {},
   "outputs": [
    {
     "data": {
      "application/vnd.plotly.v1+json": {
       "config": {
        "plotlyServerURL": "https://plot.ly"
       },
       "data": [
        {
         "coloraxis": "coloraxis",
         "hovertemplate": "x: %{x}<br>y: %{y}<br>color: %{z}<extra></extra>",
         "name": "0",
         "type": "heatmap",
         "x": [
          "1281",
          "3969",
          "5637",
          "10373",
          "7301",
          "5640",
          "1160",
          "14220",
          "8333",
          "784",
          "1174",
          "1816",
          "10140",
          "5661",
          "14622",
          "6051",
          "809",
          "10027",
          "2606",
          "16176",
          "1847",
          "14904",
          "5817",
          "1848",
          "318",
          "15683",
          "4291",
          "15430",
          "14919",
          "7502",
          "10709",
          "15191",
          "5604",
          "741",
          "3557",
          "488",
          "1130",
          "14572",
          "9586",
          "883",
          "14842",
          "9083",
          "9343"
         ],
         "xaxis": "x",
         "y": [
          "en_es",
          "antonyms",
          "person_profession",
          "country_capital",
          "algo_first",
          "algo_last",
          "algo_second"
         ],
         "yaxis": "y",
         "z": [
          [
           -0.4375,
           0.375,
           0.5625,
           -0.5625,
           -0.1875,
           7.9375,
           -0.1875,
           -0.3125,
           8.28125,
           0,
           0.375,
           0.1875,
           0.25,
           6.6875,
           0,
           -0.125,
           -0.125,
           0.1875,
           -1,
           4.25,
           -0.4375,
           0.4375,
           1.3125,
           0.1875,
           -0.1875,
           -0.0625,
           -0.75,
           -0.1875,
           -0.5,
           -0.4375,
           -0.125,
           0.25,
           -0.875,
           0.125,
           0.125,
           0.0625,
           -0.3125,
           0.3125,
           -1,
           -0.75,
           -1.375,
           1.125,
           0.8125
          ],
          [
           -0.125,
           -0.59375,
           -2.5,
           1.375,
           -0.09375,
           0.171875,
           0.34375,
           0.375,
           0.3125,
           -0.109375,
           -0.21875,
           -0.40625,
           -0.421875,
           -0.140625,
           -0.484375,
           -0.1875,
           0.40625,
           -0.375,
           1.03125,
           -0.359375,
           0.84375,
           -0.9375,
           0.15625,
           0.46875,
           -0.625,
           0,
           1,
           0.15625,
           0.015625,
           0.40625,
           0.09375,
           -0.46875,
           0.765625,
           -0.71875,
           -1.0625,
           -0.015625,
           0.65625,
           -0.546875,
           1.7109375,
           0.828125,
           1.453125,
           -0.328125,
           -2.21875
          ],
          [
           -0.5,
           0.1875,
           -1.6875,
           -0.25,
           0.4375,
           0.25,
           -0.25,
           0.875,
           -0.4375,
           1.3125,
           -0.0625,
           -0.4375,
           -0.5,
           -0.5625,
           -0.5,
           0.125,
           0.125,
           0.0625,
           0.375,
           -0.625,
           -0.625,
           -0.75,
           0.3125,
           -0.1875,
           -0.5,
           -0.0625,
           -0.125,
           1.625,
           0.25,
           0.3125,
           2.125,
           -0.0625,
           -0.5625,
           -0.5,
           -0.875,
           0.5625,
           0.1875,
           -0.1875,
           -1.5625,
           0.0625,
           -0.9375,
           -0.1875,
           -0.6875
          ],
          [
           -0.15625,
           0,
           -0.5,
           -0.34375,
           0.125,
           -0.4375,
           -0.15625,
           -0.125,
           -0.84375,
           -0.40625,
           -0.125,
           4.7109375,
           -0.03125,
           -0.34375,
           -0.4375,
           0.1875,
           -0.1875,
           -0.125,
           0.125,
           -0.1875,
           -0.5,
           0,
           0.375,
           -0.09375,
           -0.8125,
           -0.125,
           -0.5625,
           -0.4375,
           0,
           -0.15625,
           -0.0625,
           -0.625,
           -0.15625,
           -0.15625,
           -0.09375,
           -0.46875,
           -0.28125,
           0.0625,
           -0.875,
           -0.125,
           -0.34375,
           -0.15625,
           0
          ],
          [
           -0.5625,
           -2.5,
           1.125,
           -0.03125,
           -0.671875,
           -0.046875,
           -1.25,
           -0.53125,
           -0.296875,
           0.203125,
           0.125,
           -0.28125,
           1.578125,
           -0.015625,
           0.21875,
           -0.25,
           0.40625,
           0.171875,
           -1.0625,
           0.5625,
           0.328125,
           1.5859375,
           -0.171875,
           0.953125,
           -0.28125,
           0,
           0.625,
           0.484375,
           0.265625,
           -1.34375,
           0,
           -0.4375,
           -0.265625,
           1.28125,
           1.8046875,
           0.234375,
           1.265625,
           1.765625,
           1.703125,
           -0.390625,
           -1,
           -0.046875,
           -1
          ],
          [
           -0.3125,
           1.859375,
           2.453125,
           -0.09375,
           0.28125,
           0.125,
           1.78125,
           -0.03125,
           -0.59375,
           -0.59375,
           0.421875,
           -0.3125,
           -1.125,
           -0.125,
           0.515625,
           -0.28125,
           -0.65625,
           0.09375,
           -0.375,
           0.21875,
           0.03125,
           -0.21875,
           0.0625,
           -0.84375,
           -0.46875,
           -0.03125,
           0.1875,
           0.03125,
           0.375,
           -0.875,
           -0.09375,
           -0.375,
           -0.375,
           0.09375,
           1.203125,
           0.1875,
           0.75,
           -1.6875,
           -0.625,
           -0.21875,
           -0.4375,
           0.484375,
           2.4296875
          ],
          [
           -0.6875,
           -0.75,
           0.3125,
           0.0625,
           0.0625,
           -0.15625,
           0.9375,
           0,
           -1.125,
           -0.625,
           -0.0625,
           -0.1875,
           -0.75,
           -0.4375,
           0.71875,
           -0.15625,
           0.75,
           0.1875,
           -0.6875,
           0,
           -0.125,
           0.34375,
           -0.125,
           2.15625,
           -0.6875,
           -0.09375,
           0.6875,
           0.34375,
           0.625,
           -1.125,
           0.0625,
           -0.09375,
           -0.59375,
           1.53125,
           1.59375,
           0.125,
           1.375,
           -1.125,
           0.09375,
           -0.03125,
           -0.9375,
           0,
           -0.3125
          ]
         ]
        }
       ],
       "layout": {
        "coloraxis": {
         "colorscale": [
          [
           0,
           "#0d0887"
          ],
          [
           0.1111111111111111,
           "#46039f"
          ],
          [
           0.2222222222222222,
           "#7201a8"
          ],
          [
           0.3333333333333333,
           "#9c179e"
          ],
          [
           0.4444444444444444,
           "#bd3786"
          ],
          [
           0.5555555555555556,
           "#d8576b"
          ],
          [
           0.6666666666666666,
           "#ed7953"
          ],
          [
           0.7777777777777778,
           "#fb9f3a"
          ],
          [
           0.8888888888888888,
           "#fdca26"
          ],
          [
           1,
           "#f0f921"
          ]
         ]
        },
        "margin": {
         "t": 60
        },
        "template": {
         "data": {
          "bar": [
           {
            "error_x": {
             "color": "#2a3f5f"
            },
            "error_y": {
             "color": "#2a3f5f"
            },
            "marker": {
             "line": {
              "color": "#E5ECF6",
              "width": 0.5
             },
             "pattern": {
              "fillmode": "overlay",
              "size": 10,
              "solidity": 0.2
             }
            },
            "type": "bar"
           }
          ],
          "barpolar": [
           {
            "marker": {
             "line": {
              "color": "#E5ECF6",
              "width": 0.5
             },
             "pattern": {
              "fillmode": "overlay",
              "size": 10,
              "solidity": 0.2
             }
            },
            "type": "barpolar"
           }
          ],
          "carpet": [
           {
            "aaxis": {
             "endlinecolor": "#2a3f5f",
             "gridcolor": "white",
             "linecolor": "white",
             "minorgridcolor": "white",
             "startlinecolor": "#2a3f5f"
            },
            "baxis": {
             "endlinecolor": "#2a3f5f",
             "gridcolor": "white",
             "linecolor": "white",
             "minorgridcolor": "white",
             "startlinecolor": "#2a3f5f"
            },
            "type": "carpet"
           }
          ],
          "choropleth": [
           {
            "colorbar": {
             "outlinewidth": 0,
             "ticks": ""
            },
            "type": "choropleth"
           }
          ],
          "contour": [
           {
            "colorbar": {
             "outlinewidth": 0,
             "ticks": ""
            },
            "colorscale": [
             [
              0,
              "#0d0887"
             ],
             [
              0.1111111111111111,
              "#46039f"
             ],
             [
              0.2222222222222222,
              "#7201a8"
             ],
             [
              0.3333333333333333,
              "#9c179e"
             ],
             [
              0.4444444444444444,
              "#bd3786"
             ],
             [
              0.5555555555555556,
              "#d8576b"
             ],
             [
              0.6666666666666666,
              "#ed7953"
             ],
             [
              0.7777777777777778,
              "#fb9f3a"
             ],
             [
              0.8888888888888888,
              "#fdca26"
             ],
             [
              1,
              "#f0f921"
             ]
            ],
            "type": "contour"
           }
          ],
          "contourcarpet": [
           {
            "colorbar": {
             "outlinewidth": 0,
             "ticks": ""
            },
            "type": "contourcarpet"
           }
          ],
          "heatmap": [
           {
            "colorbar": {
             "outlinewidth": 0,
             "ticks": ""
            },
            "colorscale": [
             [
              0,
              "#0d0887"
             ],
             [
              0.1111111111111111,
              "#46039f"
             ],
             [
              0.2222222222222222,
              "#7201a8"
             ],
             [
              0.3333333333333333,
              "#9c179e"
             ],
             [
              0.4444444444444444,
              "#bd3786"
             ],
             [
              0.5555555555555556,
              "#d8576b"
             ],
             [
              0.6666666666666666,
              "#ed7953"
             ],
             [
              0.7777777777777778,
              "#fb9f3a"
             ],
             [
              0.8888888888888888,
              "#fdca26"
             ],
             [
              1,
              "#f0f921"
             ]
            ],
            "type": "heatmap"
           }
          ],
          "heatmapgl": [
           {
            "colorbar": {
             "outlinewidth": 0,
             "ticks": ""
            },
            "colorscale": [
             [
              0,
              "#0d0887"
             ],
             [
              0.1111111111111111,
              "#46039f"
             ],
             [
              0.2222222222222222,
              "#7201a8"
             ],
             [
              0.3333333333333333,
              "#9c179e"
             ],
             [
              0.4444444444444444,
              "#bd3786"
             ],
             [
              0.5555555555555556,
              "#d8576b"
             ],
             [
              0.6666666666666666,
              "#ed7953"
             ],
             [
              0.7777777777777778,
              "#fb9f3a"
             ],
             [
              0.8888888888888888,
              "#fdca26"
             ],
             [
              1,
              "#f0f921"
             ]
            ],
            "type": "heatmapgl"
           }
          ],
          "histogram": [
           {
            "marker": {
             "pattern": {
              "fillmode": "overlay",
              "size": 10,
              "solidity": 0.2
             }
            },
            "type": "histogram"
           }
          ],
          "histogram2d": [
           {
            "colorbar": {
             "outlinewidth": 0,
             "ticks": ""
            },
            "colorscale": [
             [
              0,
              "#0d0887"
             ],
             [
              0.1111111111111111,
              "#46039f"
             ],
             [
              0.2222222222222222,
              "#7201a8"
             ],
             [
              0.3333333333333333,
              "#9c179e"
             ],
             [
              0.4444444444444444,
              "#bd3786"
             ],
             [
              0.5555555555555556,
              "#d8576b"
             ],
             [
              0.6666666666666666,
              "#ed7953"
             ],
             [
              0.7777777777777778,
              "#fb9f3a"
             ],
             [
              0.8888888888888888,
              "#fdca26"
             ],
             [
              1,
              "#f0f921"
             ]
            ],
            "type": "histogram2d"
           }
          ],
          "histogram2dcontour": [
           {
            "colorbar": {
             "outlinewidth": 0,
             "ticks": ""
            },
            "colorscale": [
             [
              0,
              "#0d0887"
             ],
             [
              0.1111111111111111,
              "#46039f"
             ],
             [
              0.2222222222222222,
              "#7201a8"
             ],
             [
              0.3333333333333333,
              "#9c179e"
             ],
             [
              0.4444444444444444,
              "#bd3786"
             ],
             [
              0.5555555555555556,
              "#d8576b"
             ],
             [
              0.6666666666666666,
              "#ed7953"
             ],
             [
              0.7777777777777778,
              "#fb9f3a"
             ],
             [
              0.8888888888888888,
              "#fdca26"
             ],
             [
              1,
              "#f0f921"
             ]
            ],
            "type": "histogram2dcontour"
           }
          ],
          "mesh3d": [
           {
            "colorbar": {
             "outlinewidth": 0,
             "ticks": ""
            },
            "type": "mesh3d"
           }
          ],
          "parcoords": [
           {
            "line": {
             "colorbar": {
              "outlinewidth": 0,
              "ticks": ""
             }
            },
            "type": "parcoords"
           }
          ],
          "pie": [
           {
            "automargin": true,
            "type": "pie"
           }
          ],
          "scatter": [
           {
            "fillpattern": {
             "fillmode": "overlay",
             "size": 10,
             "solidity": 0.2
            },
            "type": "scatter"
           }
          ],
          "scatter3d": [
           {
            "line": {
             "colorbar": {
              "outlinewidth": 0,
              "ticks": ""
             }
            },
            "marker": {
             "colorbar": {
              "outlinewidth": 0,
              "ticks": ""
             }
            },
            "type": "scatter3d"
           }
          ],
          "scattercarpet": [
           {
            "marker": {
             "colorbar": {
              "outlinewidth": 0,
              "ticks": ""
             }
            },
            "type": "scattercarpet"
           }
          ],
          "scattergeo": [
           {
            "marker": {
             "colorbar": {
              "outlinewidth": 0,
              "ticks": ""
             }
            },
            "type": "scattergeo"
           }
          ],
          "scattergl": [
           {
            "marker": {
             "colorbar": {
              "outlinewidth": 0,
              "ticks": ""
             }
            },
            "type": "scattergl"
           }
          ],
          "scattermapbox": [
           {
            "marker": {
             "colorbar": {
              "outlinewidth": 0,
              "ticks": ""
             }
            },
            "type": "scattermapbox"
           }
          ],
          "scatterpolar": [
           {
            "marker": {
             "colorbar": {
              "outlinewidth": 0,
              "ticks": ""
             }
            },
            "type": "scatterpolar"
           }
          ],
          "scatterpolargl": [
           {
            "marker": {
             "colorbar": {
              "outlinewidth": 0,
              "ticks": ""
             }
            },
            "type": "scatterpolargl"
           }
          ],
          "scatterternary": [
           {
            "marker": {
             "colorbar": {
              "outlinewidth": 0,
              "ticks": ""
             }
            },
            "type": "scatterternary"
           }
          ],
          "surface": [
           {
            "colorbar": {
             "outlinewidth": 0,
             "ticks": ""
            },
            "colorscale": [
             [
              0,
              "#0d0887"
             ],
             [
              0.1111111111111111,
              "#46039f"
             ],
             [
              0.2222222222222222,
              "#7201a8"
             ],
             [
              0.3333333333333333,
              "#9c179e"
             ],
             [
              0.4444444444444444,
              "#bd3786"
             ],
             [
              0.5555555555555556,
              "#d8576b"
             ],
             [
              0.6666666666666666,
              "#ed7953"
             ],
             [
              0.7777777777777778,
              "#fb9f3a"
             ],
             [
              0.8888888888888888,
              "#fdca26"
             ],
             [
              1,
              "#f0f921"
             ]
            ],
            "type": "surface"
           }
          ],
          "table": [
           {
            "cells": {
             "fill": {
              "color": "#EBF0F8"
             },
             "line": {
              "color": "white"
             }
            },
            "header": {
             "fill": {
              "color": "#C8D4E3"
             },
             "line": {
              "color": "white"
             }
            },
            "type": "table"
           }
          ]
         },
         "layout": {
          "annotationdefaults": {
           "arrowcolor": "#2a3f5f",
           "arrowhead": 0,
           "arrowwidth": 1
          },
          "autotypenumbers": "strict",
          "coloraxis": {
           "colorbar": {
            "outlinewidth": 0,
            "ticks": ""
           }
          },
          "colorscale": {
           "diverging": [
            [
             0,
             "#8e0152"
            ],
            [
             0.1,
             "#c51b7d"
            ],
            [
             0.2,
             "#de77ae"
            ],
            [
             0.3,
             "#f1b6da"
            ],
            [
             0.4,
             "#fde0ef"
            ],
            [
             0.5,
             "#f7f7f7"
            ],
            [
             0.6,
             "#e6f5d0"
            ],
            [
             0.7,
             "#b8e186"
            ],
            [
             0.8,
             "#7fbc41"
            ],
            [
             0.9,
             "#4d9221"
            ],
            [
             1,
             "#276419"
            ]
           ],
           "sequential": [
            [
             0,
             "#0d0887"
            ],
            [
             0.1111111111111111,
             "#46039f"
            ],
            [
             0.2222222222222222,
             "#7201a8"
            ],
            [
             0.3333333333333333,
             "#9c179e"
            ],
            [
             0.4444444444444444,
             "#bd3786"
            ],
            [
             0.5555555555555556,
             "#d8576b"
            ],
            [
             0.6666666666666666,
             "#ed7953"
            ],
            [
             0.7777777777777778,
             "#fb9f3a"
            ],
            [
             0.8888888888888888,
             "#fdca26"
            ],
            [
             1,
             "#f0f921"
            ]
           ],
           "sequentialminus": [
            [
             0,
             "#0d0887"
            ],
            [
             0.1111111111111111,
             "#46039f"
            ],
            [
             0.2222222222222222,
             "#7201a8"
            ],
            [
             0.3333333333333333,
             "#9c179e"
            ],
            [
             0.4444444444444444,
             "#bd3786"
            ],
            [
             0.5555555555555556,
             "#d8576b"
            ],
            [
             0.6666666666666666,
             "#ed7953"
            ],
            [
             0.7777777777777778,
             "#fb9f3a"
            ],
            [
             0.8888888888888888,
             "#fdca26"
            ],
            [
             1,
             "#f0f921"
            ]
           ]
          },
          "colorway": [
           "#636efa",
           "#EF553B",
           "#00cc96",
           "#ab63fa",
           "#FFA15A",
           "#19d3f3",
           "#FF6692",
           "#B6E880",
           "#FF97FF",
           "#FECB52"
          ],
          "font": {
           "color": "#2a3f5f"
          },
          "geo": {
           "bgcolor": "white",
           "lakecolor": "white",
           "landcolor": "#E5ECF6",
           "showlakes": true,
           "showland": true,
           "subunitcolor": "white"
          },
          "hoverlabel": {
           "align": "left"
          },
          "hovermode": "closest",
          "mapbox": {
           "style": "light"
          },
          "paper_bgcolor": "white",
          "plot_bgcolor": "#E5ECF6",
          "polar": {
           "angularaxis": {
            "gridcolor": "white",
            "linecolor": "white",
            "ticks": ""
           },
           "bgcolor": "#E5ECF6",
           "radialaxis": {
            "gridcolor": "white",
            "linecolor": "white",
            "ticks": ""
           }
          },
          "scene": {
           "xaxis": {
            "backgroundcolor": "#E5ECF6",
            "gridcolor": "white",
            "gridwidth": 2,
            "linecolor": "white",
            "showbackground": true,
            "ticks": "",
            "zerolinecolor": "white"
           },
           "yaxis": {
            "backgroundcolor": "#E5ECF6",
            "gridcolor": "white",
            "gridwidth": 2,
            "linecolor": "white",
            "showbackground": true,
            "ticks": "",
            "zerolinecolor": "white"
           },
           "zaxis": {
            "backgroundcolor": "#E5ECF6",
            "gridcolor": "white",
            "gridwidth": 2,
            "linecolor": "white",
            "showbackground": true,
            "ticks": "",
            "zerolinecolor": "white"
           }
          },
          "shapedefaults": {
           "line": {
            "color": "#2a3f5f"
           }
          },
          "ternary": {
           "aaxis": {
            "gridcolor": "white",
            "linecolor": "white",
            "ticks": ""
           },
           "baxis": {
            "gridcolor": "white",
            "linecolor": "white",
            "ticks": ""
           },
           "bgcolor": "#E5ECF6",
           "caxis": {
            "gridcolor": "white",
            "linecolor": "white",
            "ticks": ""
           }
          },
          "title": {
           "x": 0.05
          },
          "xaxis": {
           "automargin": true,
           "gridcolor": "white",
           "linecolor": "white",
           "ticks": "",
           "title": {
            "standoff": 15
           },
           "zerolinecolor": "white",
           "zerolinewidth": 2
          },
          "yaxis": {
           "automargin": true,
           "gridcolor": "white",
           "linecolor": "white",
           "ticks": "",
           "title": {
            "standoff": 15
           },
           "zerolinecolor": "white",
           "zerolinewidth": 2
          }
         }
        },
        "xaxis": {
         "anchor": "y",
         "constrain": "domain",
         "domain": [
          0,
          1
         ],
         "scaleanchor": "y"
        },
        "yaxis": {
         "anchor": "x",
         "autorange": "reversed",
         "constrain": "domain",
         "domain": [
          0,
          1
         ]
        }
       }
      },
      "text/html": [
       "<div>                            <div id=\"798441e3-e963-4c06-9334-8c3803b10ce9\" class=\"plotly-graph-div\" style=\"height:525px; width:100%;\"></div>            <script type=\"text/javascript\">                require([\"plotly\"], function(Plotly) {                    window.PLOTLYENV=window.PLOTLYENV || {};                                    if (document.getElementById(\"798441e3-e963-4c06-9334-8c3803b10ce9\")) {                    Plotly.newPlot(                        \"798441e3-e963-4c06-9334-8c3803b10ce9\",                        [{\"coloraxis\":\"coloraxis\",\"name\":\"0\",\"x\":[\"1281\",\"3969\",\"5637\",\"10373\",\"7301\",\"5640\",\"1160\",\"14220\",\"8333\",\"784\",\"1174\",\"1816\",\"10140\",\"5661\",\"14622\",\"6051\",\"809\",\"10027\",\"2606\",\"16176\",\"1847\",\"14904\",\"5817\",\"1848\",\"318\",\"15683\",\"4291\",\"15430\",\"14919\",\"7502\",\"10709\",\"15191\",\"5604\",\"741\",\"3557\",\"488\",\"1130\",\"14572\",\"9586\",\"883\",\"14842\",\"9083\",\"9343\"],\"y\":[\"en_es\",\"antonyms\",\"person_profession\",\"country_capital\",\"algo_first\",\"algo_last\",\"algo_second\"],\"z\":[[-0.4375,0.375,0.5625,-0.5625,-0.1875,7.9375,-0.1875,-0.3125,8.28125,0.0,0.375,0.1875,0.25,6.6875,0.0,-0.125,-0.125,0.1875,-1.0,4.25,-0.4375,0.4375,1.3125,0.1875,-0.1875,-0.0625,-0.75,-0.1875,-0.5,-0.4375,-0.125,0.25,-0.875,0.125,0.125,0.0625,-0.3125,0.3125,-1.0,-0.75,-1.375,1.125,0.8125],[-0.125,-0.59375,-2.5,1.375,-0.09375,0.171875,0.34375,0.375,0.3125,-0.109375,-0.21875,-0.40625,-0.421875,-0.140625,-0.484375,-0.1875,0.40625,-0.375,1.03125,-0.359375,0.84375,-0.9375,0.15625,0.46875,-0.625,0.0,1.0,0.15625,0.015625,0.40625,0.09375,-0.46875,0.765625,-0.71875,-1.0625,-0.015625,0.65625,-0.546875,1.7109375,0.828125,1.453125,-0.328125,-2.21875],[-0.5,0.1875,-1.6875,-0.25,0.4375,0.25,-0.25,0.875,-0.4375,1.3125,-0.0625,-0.4375,-0.5,-0.5625,-0.5,0.125,0.125,0.0625,0.375,-0.625,-0.625,-0.75,0.3125,-0.1875,-0.5,-0.0625,-0.125,1.625,0.25,0.3125,2.125,-0.0625,-0.5625,-0.5,-0.875,0.5625,0.1875,-0.1875,-1.5625,0.0625,-0.9375,-0.1875,-0.6875],[-0.15625,0.0,-0.5,-0.34375,0.125,-0.4375,-0.15625,-0.125,-0.84375,-0.40625,-0.125,4.7109375,-0.03125,-0.34375,-0.4375,0.1875,-0.1875,-0.125,0.125,-0.1875,-0.5,0.0,0.375,-0.09375,-0.8125,-0.125,-0.5625,-0.4375,0.0,-0.15625,-0.0625,-0.625,-0.15625,-0.15625,-0.09375,-0.46875,-0.28125,0.0625,-0.875,-0.125,-0.34375,-0.15625,0.0],[-0.5625,-2.5,1.125,-0.03125,-0.671875,-0.046875,-1.25,-0.53125,-0.296875,0.203125,0.125,-0.28125,1.578125,-0.015625,0.21875,-0.25,0.40625,0.171875,-1.0625,0.5625,0.328125,1.5859375,-0.171875,0.953125,-0.28125,0.0,0.625,0.484375,0.265625,-1.34375,0.0,-0.4375,-0.265625,1.28125,1.8046875,0.234375,1.265625,1.765625,1.703125,-0.390625,-1.0,-0.046875,-1.0],[-0.3125,1.859375,2.453125,-0.09375,0.28125,0.125,1.78125,-0.03125,-0.59375,-0.59375,0.421875,-0.3125,-1.125,-0.125,0.515625,-0.28125,-0.65625,0.09375,-0.375,0.21875,0.03125,-0.21875,0.0625,-0.84375,-0.46875,-0.03125,0.1875,0.03125,0.375,-0.875,-0.09375,-0.375,-0.375,0.09375,1.203125,0.1875,0.75,-1.6875,-0.625,-0.21875,-0.4375,0.484375,2.4296875],[-0.6875,-0.75,0.3125,0.0625,0.0625,-0.15625,0.9375,0.0,-1.125,-0.625,-0.0625,-0.1875,-0.75,-0.4375,0.71875,-0.15625,0.75,0.1875,-0.6875,0.0,-0.125,0.34375,-0.125,2.15625,-0.6875,-0.09375,0.6875,0.34375,0.625,-1.125,0.0625,-0.09375,-0.59375,1.53125,1.59375,0.125,1.375,-1.125,0.09375,-0.03125,-0.9375,0.0,-0.3125]],\"type\":\"heatmap\",\"xaxis\":\"x\",\"yaxis\":\"y\",\"hovertemplate\":\"x: %{x}\\u003cbr\\u003ey: %{y}\\u003cbr\\u003ecolor: %{z}\\u003cextra\\u003e\\u003c\\u002fextra\\u003e\"}],                        {\"template\":{\"data\":{\"histogram2dcontour\":[{\"type\":\"histogram2dcontour\",\"colorbar\":{\"outlinewidth\":0,\"ticks\":\"\"},\"colorscale\":[[0.0,\"#0d0887\"],[0.1111111111111111,\"#46039f\"],[0.2222222222222222,\"#7201a8\"],[0.3333333333333333,\"#9c179e\"],[0.4444444444444444,\"#bd3786\"],[0.5555555555555556,\"#d8576b\"],[0.6666666666666666,\"#ed7953\"],[0.7777777777777778,\"#fb9f3a\"],[0.8888888888888888,\"#fdca26\"],[1.0,\"#f0f921\"]]}],\"choropleth\":[{\"type\":\"choropleth\",\"colorbar\":{\"outlinewidth\":0,\"ticks\":\"\"}}],\"histogram2d\":[{\"type\":\"histogram2d\",\"colorbar\":{\"outlinewidth\":0,\"ticks\":\"\"},\"colorscale\":[[0.0,\"#0d0887\"],[0.1111111111111111,\"#46039f\"],[0.2222222222222222,\"#7201a8\"],[0.3333333333333333,\"#9c179e\"],[0.4444444444444444,\"#bd3786\"],[0.5555555555555556,\"#d8576b\"],[0.6666666666666666,\"#ed7953\"],[0.7777777777777778,\"#fb9f3a\"],[0.8888888888888888,\"#fdca26\"],[1.0,\"#f0f921\"]]}],\"heatmap\":[{\"type\":\"heatmap\",\"colorbar\":{\"outlinewidth\":0,\"ticks\":\"\"},\"colorscale\":[[0.0,\"#0d0887\"],[0.1111111111111111,\"#46039f\"],[0.2222222222222222,\"#7201a8\"],[0.3333333333333333,\"#9c179e\"],[0.4444444444444444,\"#bd3786\"],[0.5555555555555556,\"#d8576b\"],[0.6666666666666666,\"#ed7953\"],[0.7777777777777778,\"#fb9f3a\"],[0.8888888888888888,\"#fdca26\"],[1.0,\"#f0f921\"]]}],\"heatmapgl\":[{\"type\":\"heatmapgl\",\"colorbar\":{\"outlinewidth\":0,\"ticks\":\"\"},\"colorscale\":[[0.0,\"#0d0887\"],[0.1111111111111111,\"#46039f\"],[0.2222222222222222,\"#7201a8\"],[0.3333333333333333,\"#9c179e\"],[0.4444444444444444,\"#bd3786\"],[0.5555555555555556,\"#d8576b\"],[0.6666666666666666,\"#ed7953\"],[0.7777777777777778,\"#fb9f3a\"],[0.8888888888888888,\"#fdca26\"],[1.0,\"#f0f921\"]]}],\"contourcarpet\":[{\"type\":\"contourcarpet\",\"colorbar\":{\"outlinewidth\":0,\"ticks\":\"\"}}],\"contour\":[{\"type\":\"contour\",\"colorbar\":{\"outlinewidth\":0,\"ticks\":\"\"},\"colorscale\":[[0.0,\"#0d0887\"],[0.1111111111111111,\"#46039f\"],[0.2222222222222222,\"#7201a8\"],[0.3333333333333333,\"#9c179e\"],[0.4444444444444444,\"#bd3786\"],[0.5555555555555556,\"#d8576b\"],[0.6666666666666666,\"#ed7953\"],[0.7777777777777778,\"#fb9f3a\"],[0.8888888888888888,\"#fdca26\"],[1.0,\"#f0f921\"]]}],\"surface\":[{\"type\":\"surface\",\"colorbar\":{\"outlinewidth\":0,\"ticks\":\"\"},\"colorscale\":[[0.0,\"#0d0887\"],[0.1111111111111111,\"#46039f\"],[0.2222222222222222,\"#7201a8\"],[0.3333333333333333,\"#9c179e\"],[0.4444444444444444,\"#bd3786\"],[0.5555555555555556,\"#d8576b\"],[0.6666666666666666,\"#ed7953\"],[0.7777777777777778,\"#fb9f3a\"],[0.8888888888888888,\"#fdca26\"],[1.0,\"#f0f921\"]]}],\"mesh3d\":[{\"type\":\"mesh3d\",\"colorbar\":{\"outlinewidth\":0,\"ticks\":\"\"}}],\"scatter\":[{\"fillpattern\":{\"fillmode\":\"overlay\",\"size\":10,\"solidity\":0.2},\"type\":\"scatter\"}],\"parcoords\":[{\"type\":\"parcoords\",\"line\":{\"colorbar\":{\"outlinewidth\":0,\"ticks\":\"\"}}}],\"scatterpolargl\":[{\"type\":\"scatterpolargl\",\"marker\":{\"colorbar\":{\"outlinewidth\":0,\"ticks\":\"\"}}}],\"bar\":[{\"error_x\":{\"color\":\"#2a3f5f\"},\"error_y\":{\"color\":\"#2a3f5f\"},\"marker\":{\"line\":{\"color\":\"#E5ECF6\",\"width\":0.5},\"pattern\":{\"fillmode\":\"overlay\",\"size\":10,\"solidity\":0.2}},\"type\":\"bar\"}],\"scattergeo\":[{\"type\":\"scattergeo\",\"marker\":{\"colorbar\":{\"outlinewidth\":0,\"ticks\":\"\"}}}],\"scatterpolar\":[{\"type\":\"scatterpolar\",\"marker\":{\"colorbar\":{\"outlinewidth\":0,\"ticks\":\"\"}}}],\"histogram\":[{\"marker\":{\"pattern\":{\"fillmode\":\"overlay\",\"size\":10,\"solidity\":0.2}},\"type\":\"histogram\"}],\"scattergl\":[{\"type\":\"scattergl\",\"marker\":{\"colorbar\":{\"outlinewidth\":0,\"ticks\":\"\"}}}],\"scatter3d\":[{\"type\":\"scatter3d\",\"line\":{\"colorbar\":{\"outlinewidth\":0,\"ticks\":\"\"}},\"marker\":{\"colorbar\":{\"outlinewidth\":0,\"ticks\":\"\"}}}],\"scattermapbox\":[{\"type\":\"scattermapbox\",\"marker\":{\"colorbar\":{\"outlinewidth\":0,\"ticks\":\"\"}}}],\"scatterternary\":[{\"type\":\"scatterternary\",\"marker\":{\"colorbar\":{\"outlinewidth\":0,\"ticks\":\"\"}}}],\"scattercarpet\":[{\"type\":\"scattercarpet\",\"marker\":{\"colorbar\":{\"outlinewidth\":0,\"ticks\":\"\"}}}],\"carpet\":[{\"aaxis\":{\"endlinecolor\":\"#2a3f5f\",\"gridcolor\":\"white\",\"linecolor\":\"white\",\"minorgridcolor\":\"white\",\"startlinecolor\":\"#2a3f5f\"},\"baxis\":{\"endlinecolor\":\"#2a3f5f\",\"gridcolor\":\"white\",\"linecolor\":\"white\",\"minorgridcolor\":\"white\",\"startlinecolor\":\"#2a3f5f\"},\"type\":\"carpet\"}],\"table\":[{\"cells\":{\"fill\":{\"color\":\"#EBF0F8\"},\"line\":{\"color\":\"white\"}},\"header\":{\"fill\":{\"color\":\"#C8D4E3\"},\"line\":{\"color\":\"white\"}},\"type\":\"table\"}],\"barpolar\":[{\"marker\":{\"line\":{\"color\":\"#E5ECF6\",\"width\":0.5},\"pattern\":{\"fillmode\":\"overlay\",\"size\":10,\"solidity\":0.2}},\"type\":\"barpolar\"}],\"pie\":[{\"automargin\":true,\"type\":\"pie\"}]},\"layout\":{\"autotypenumbers\":\"strict\",\"colorway\":[\"#636efa\",\"#EF553B\",\"#00cc96\",\"#ab63fa\",\"#FFA15A\",\"#19d3f3\",\"#FF6692\",\"#B6E880\",\"#FF97FF\",\"#FECB52\"],\"font\":{\"color\":\"#2a3f5f\"},\"hovermode\":\"closest\",\"hoverlabel\":{\"align\":\"left\"},\"paper_bgcolor\":\"white\",\"plot_bgcolor\":\"#E5ECF6\",\"polar\":{\"bgcolor\":\"#E5ECF6\",\"angularaxis\":{\"gridcolor\":\"white\",\"linecolor\":\"white\",\"ticks\":\"\"},\"radialaxis\":{\"gridcolor\":\"white\",\"linecolor\":\"white\",\"ticks\":\"\"}},\"ternary\":{\"bgcolor\":\"#E5ECF6\",\"aaxis\":{\"gridcolor\":\"white\",\"linecolor\":\"white\",\"ticks\":\"\"},\"baxis\":{\"gridcolor\":\"white\",\"linecolor\":\"white\",\"ticks\":\"\"},\"caxis\":{\"gridcolor\":\"white\",\"linecolor\":\"white\",\"ticks\":\"\"}},\"coloraxis\":{\"colorbar\":{\"outlinewidth\":0,\"ticks\":\"\"}},\"colorscale\":{\"sequential\":[[0.0,\"#0d0887\"],[0.1111111111111111,\"#46039f\"],[0.2222222222222222,\"#7201a8\"],[0.3333333333333333,\"#9c179e\"],[0.4444444444444444,\"#bd3786\"],[0.5555555555555556,\"#d8576b\"],[0.6666666666666666,\"#ed7953\"],[0.7777777777777778,\"#fb9f3a\"],[0.8888888888888888,\"#fdca26\"],[1.0,\"#f0f921\"]],\"sequentialminus\":[[0.0,\"#0d0887\"],[0.1111111111111111,\"#46039f\"],[0.2222222222222222,\"#7201a8\"],[0.3333333333333333,\"#9c179e\"],[0.4444444444444444,\"#bd3786\"],[0.5555555555555556,\"#d8576b\"],[0.6666666666666666,\"#ed7953\"],[0.7777777777777778,\"#fb9f3a\"],[0.8888888888888888,\"#fdca26\"],[1.0,\"#f0f921\"]],\"diverging\":[[0,\"#8e0152\"],[0.1,\"#c51b7d\"],[0.2,\"#de77ae\"],[0.3,\"#f1b6da\"],[0.4,\"#fde0ef\"],[0.5,\"#f7f7f7\"],[0.6,\"#e6f5d0\"],[0.7,\"#b8e186\"],[0.8,\"#7fbc41\"],[0.9,\"#4d9221\"],[1,\"#276419\"]]},\"xaxis\":{\"gridcolor\":\"white\",\"linecolor\":\"white\",\"ticks\":\"\",\"title\":{\"standoff\":15},\"zerolinecolor\":\"white\",\"automargin\":true,\"zerolinewidth\":2},\"yaxis\":{\"gridcolor\":\"white\",\"linecolor\":\"white\",\"ticks\":\"\",\"title\":{\"standoff\":15},\"zerolinecolor\":\"white\",\"automargin\":true,\"zerolinewidth\":2},\"scene\":{\"xaxis\":{\"backgroundcolor\":\"#E5ECF6\",\"gridcolor\":\"white\",\"linecolor\":\"white\",\"showbackground\":true,\"ticks\":\"\",\"zerolinecolor\":\"white\",\"gridwidth\":2},\"yaxis\":{\"backgroundcolor\":\"#E5ECF6\",\"gridcolor\":\"white\",\"linecolor\":\"white\",\"showbackground\":true,\"ticks\":\"\",\"zerolinecolor\":\"white\",\"gridwidth\":2},\"zaxis\":{\"backgroundcolor\":\"#E5ECF6\",\"gridcolor\":\"white\",\"linecolor\":\"white\",\"showbackground\":true,\"ticks\":\"\",\"zerolinecolor\":\"white\",\"gridwidth\":2}},\"shapedefaults\":{\"line\":{\"color\":\"#2a3f5f\"}},\"annotationdefaults\":{\"arrowcolor\":\"#2a3f5f\",\"arrowhead\":0,\"arrowwidth\":1},\"geo\":{\"bgcolor\":\"white\",\"landcolor\":\"#E5ECF6\",\"subunitcolor\":\"white\",\"showland\":true,\"showlakes\":true,\"lakecolor\":\"white\"},\"title\":{\"x\":0.05},\"mapbox\":{\"style\":\"light\"}}},\"xaxis\":{\"anchor\":\"y\",\"domain\":[0.0,1.0],\"scaleanchor\":\"y\",\"constrain\":\"domain\"},\"yaxis\":{\"anchor\":\"x\",\"domain\":[0.0,1.0],\"autorange\":\"reversed\",\"constrain\":\"domain\"},\"coloraxis\":{\"colorscale\":[[0.0,\"#0d0887\"],[0.1111111111111111,\"#46039f\"],[0.2222222222222222,\"#7201a8\"],[0.3333333333333333,\"#9c179e\"],[0.4444444444444444,\"#bd3786\"],[0.5555555555555556,\"#d8576b\"],[0.6666666666666666,\"#ed7953\"],[0.7777777777777778,\"#fb9f3a\"],[0.8888888888888888,\"#fdca26\"],[1.0,\"#f0f921\"]]},\"margin\":{\"t\":60}},                        {\"responsive\": true}                    ).then(function(){\n",
       "                            \n",
       "var gd = document.getElementById('798441e3-e963-4c06-9334-8c3803b10ce9');\n",
       "var x = new MutationObserver(function (mutations, observer) {{\n",
       "        var display = window.getComputedStyle(gd).display;\n",
       "        if (!display || display === 'none') {{\n",
       "            console.log([gd, 'removed!']);\n",
       "            Plotly.purge(gd);\n",
       "            observer.disconnect();\n",
       "        }}\n",
       "}});\n",
       "\n",
       "// Listen for the removal of the full notebook cells\n",
       "var notebookContainer = gd.closest('#notebook-container');\n",
       "if (notebookContainer) {{\n",
       "    x.observe(notebookContainer, {childList: true});\n",
       "}}\n",
       "\n",
       "// Listen for the clearing of the current output cell\n",
       "var outputEl = gd.closest('.output');\n",
       "if (outputEl) {{\n",
       "    x.observe(outputEl, {childList: true});\n",
       "}}\n",
       "\n",
       "                        })                };                });            </script>        </div>"
      ]
     },
     "metadata": {},
     "output_type": "display_data"
    }
   ],
   "source": [
    "import plotly.express as px\n",
    "import pandas as pd\n",
    "import numpy as np\n",
    "\n",
    "for task_name, losses in task_losses.items():\n",
    "    base_loss = losses[1]\n",
    "    losses = losses[0]\n",
    "\n",
    "    task_losses[task_name][0] = [(base_loss - loss) for loss in losses]\n",
    "\n",
    "\n",
    "df = pd.DataFrame([\n",
    "    {\"task\": task_name, \"feature\": feature, \"loss\": loss}\n",
    "    for task_name, losses in task_losses.items()\n",
    "    for feature, loss in zip(features, losses[0])\n",
    "])\n",
    "\n",
    "\n",
    "\n",
    "heatmap = np.zeros((len(task_names), len(features)))\n",
    "\n",
    "for i, task_name in enumerate(task_names):\n",
    "    for j, feature in enumerate(features):\n",
    "        heatmap[i, j] = task_losses[task_name][0][j]\n",
    "\n",
    "fig = px.imshow(heatmap, x=[str(x) for x in features], y=task_names)\n",
    "\n",
    "fig.show()\n"
   ]
  },
  {
   "cell_type": "code",
   "execution_count": 73,
   "metadata": {},
   "outputs": [
    {
     "data": {
      "application/vnd.plotly.v1+json": {
       "config": {
        "plotlyServerURL": "https://plot.ly"
       },
       "data": [
        {
         "coloraxis": "coloraxis",
         "hovertemplate": "x: %{x}<br>y: %{y}<br>color: %{z}<extra></extra>",
         "name": "0",
         "type": "heatmap",
         "x": [
          "9600",
          "23682",
          "32643",
          "31620",
          "27268",
          "27401",
          "6413",
          "24206",
          "12943",
          "16016",
          "9488",
          "13458",
          "14612",
          "19097",
          "7578",
          "16671",
          "19112",
          "7739",
          "8125",
          "32320",
          "6594",
          "7491",
          "15947",
          "5579",
          "15356",
          "16340",
          "24925",
          "30814",
          "4448",
          "26594",
          "11618",
          "6756",
          "6629",
          "5991",
          "16490",
          "2539",
          "26987",
          "6765",
          "18416",
          "2930",
          "2931",
          "22136",
          "6780"
         ],
         "xaxis": "x",
         "y": [
          "en_es",
          "antonyms",
          "person_profession",
          "es_en",
          "present_simple_gerund",
          "present_simple_past_simple",
          "person_profession",
          "person_language",
          "country_capital",
          "football_player_position"
         ],
         "yaxis": "y",
         "z": [
          [
           -1.15625,
           -8.09375,
           0.09375,
           -1.28125,
           -5.15625,
           -6.59375,
           0.390625,
           -0.5625,
           -2.96875,
           -0.625,
           -0.03125,
           -0.15625,
           -1.875,
           0.453125,
           0.515625,
           -1,
           -2.21875,
           -0.65625,
           -2.3125,
           0.09375,
           -5.71875,
           -8.53125,
           -0.46875,
           -3.375,
           -0.5,
           0.453125,
           0,
           -0.90625,
           0.234375,
           -0.28125,
           -0.40625,
           0.09375,
           -1.71875,
           -6.21875,
           -0.46875,
           -1.21875,
           -10.71875,
           -0.34375,
           -0.8125,
           -0.90625,
           0.125,
           -0.3125,
           -0.75
          ],
          [
           -3.57421875,
           -6.91796875,
           0.34375,
           -4.79296875,
           -0.08203125,
           -2.04296875,
           -0.91796875,
           -0.95703125,
           -0.52734375,
           -0.59765625,
           -2.63671875,
           -0.32421875,
           -0.47265625,
           -3.54296875,
           -1.37109375,
           -1.19921875,
           -2.44921875,
           -1.29296875,
           -1.55859375,
           -0.12109375,
           -4.32421875,
           -3.51171875,
           -0.83203125,
           -0.80859375,
           -0.59765625,
           0.2109375,
           -0.24609375,
           -0.66015625,
           -0.65234375,
           -1.60546875,
           -4.91796875,
           -0.97265625,
           -0.95703125,
           -0.62109375,
           -0.10546875,
           -0.07421875,
           -0.29296875,
           -0.32421875,
           -1.19921875,
           -0.98046875,
           -1.15234375,
           -9.69921875,
           -0.54296875
          ],
          [
           -1.34375,
           -1.71875,
           -0.234375,
           -3.1875,
           -1.375,
           -9.71875,
           -0.9375,
           -2.0625,
           -0.46875,
           -0.890625,
           -0.875,
           -4.125,
           -0.359375,
           -0.859375,
           -0.734375,
           -3.78125,
           -1.8125,
           -1.8125,
           -2.3125,
           -1.78125,
           -6.78125,
           -7.21875,
           -1.25,
           -0.609375,
           -0.0625,
           -0.890625,
           -2.5,
           -1.96875,
           -1.34375,
           -1.6875,
           -0.5,
           -1.6875,
           -0.890625,
           -1.46875,
           -0.421875,
           -2.0625,
           0.09375,
           0.25,
           -1.96875,
           -1.53125,
           -0.625,
           -0.453125,
           -0.546875
          ],
          [
           -2.03125,
           -11.03125,
           0.140625,
           -1.875,
           -5.15625,
           -5.53125,
           -1.03125,
           -2.0625,
           -2.71875,
           -2.53125,
           -3.03125,
           -1.328125,
           -2.375,
           -0.875,
           -1.390625,
           -1.09375,
           -1.296875,
           -2.0625,
           -3.78125,
           -0.59375,
           -7.03125,
           -6.53125,
           -1.078125,
           -2.4375,
           -1.171875,
           -0.609375,
           -0.671875,
           -1.34375,
           -1.015625,
           -2.59375,
           -0.546875,
           -1.296875,
           -1.484375,
           -5.0625,
           -1.5,
           -1.96875,
           -1.59375,
           -0.796875,
           -2.15625,
           -2.9375,
           -0.671875,
           -1.59375,
           -0.96875
          ],
          [
           -0.1279296875,
           -14.6943359375,
           -0.2763671875,
           -1.2802734375,
           -10.1943359375,
           -1.7724609375,
           0.01953125,
           -0.0888671875,
           -0.1083984375,
           -0.6279296875,
           -2.1787109375,
           -0.2197265625,
           -5.4130859375,
           -0.1142578125,
           -0.3271484375,
           -0.6748046875,
           -0.1337890625,
           -0.5458984375,
           -2.3505859375,
           -0.4052734375,
           -7.3818359375,
           -3.5224609375,
           -0.0126953125,
           -2.6005859375,
           -4.5068359375,
           -0.1318359375,
           -0.3232421875,
           -0.2158203125,
           -0.2998046875,
           -2.4912109375,
           -0.3896484375,
           -0.1298828125,
           -2.3505859375,
           -1.4833984375,
           -0.4912109375,
           -2.3974609375,
           -1.0224609375,
           0.0712890625,
           -0.2197265625,
           -4.8193359375,
           -0.6748046875,
           -0.4169921875,
           -1.5068359375
          ],
          [
           -0.171875,
           -12.84375,
           0.48828125,
           -0.0859375,
           -8.21875,
           -1.09375,
           0.1015625,
           0.2109375,
           0.203125,
           -0.0625,
           -0.296875,
           0.23046875,
           -2.484375,
           -0.1171875,
           -0.0390625,
           0.25390625,
           0.3828125,
           -0.53125,
           -0.3125,
           0.1015625,
           -7.71875,
           -3.5625,
           0,
           -0.5390625,
           -7.15625,
           0.1640625,
           0.37890625,
           0.2421875,
           -0.921875,
           -1.640625,
           0.1015625,
           0.265625,
           -0.359375,
           -3.375,
           0.0546875,
           -0.84375,
           0.1328125,
           0.203125,
           0.0703125,
           -2.234375,
           -2.546875,
           -0.0234375,
           -0.5703125
          ],
          [
           -1.34375,
           -1.71875,
           -0.234375,
           -3.1875,
           -1.375,
           -9.71875,
           -0.9375,
           -2.0625,
           -0.46875,
           -0.890625,
           -0.875,
           -4.125,
           -0.359375,
           -0.859375,
           -0.734375,
           -3.78125,
           -1.8125,
           -1.8125,
           -2.3125,
           -1.78125,
           -6.78125,
           -7.21875,
           -1.25,
           -0.609375,
           -0.0625,
           -0.890625,
           -2.5,
           -1.96875,
           -1.34375,
           -1.6875,
           -0.5,
           -1.6875,
           -0.890625,
           -1.46875,
           -0.421875,
           -2.0625,
           0.09375,
           0.25,
           -1.96875,
           -1.53125,
           -0.625,
           -0.453125,
           -0.546875
          ],
          [
           -4.015625,
           -1.921875,
           0.109375,
           -1.453125,
           -1.96875,
           -5.734375,
           0.109375,
           -0.53125,
           -1.65625,
           -0.375,
           -0.90625,
           0.37109375,
           -1.15625,
           -1.046875,
           -0.8203125,
           -0.1875,
           -2.109375,
           -1.203125,
           -1.1875,
           -1.015625,
           -3.421875,
           -1.421875,
           -0.953125,
           -1.359375,
           -0.59375,
           -1.546875,
           -6.421875,
           -0.0859375,
           -0.15625,
           -2.15625,
           -0.421875,
           -0.2578125,
           -0.8203125,
           -1.53125,
           -0.71875,
           -0.96875,
           -0.3984375,
           -0.0625,
           -0.359375,
           -1.1875,
           -0.859375,
           -0.875,
           -0.8125
          ],
          [
           -0.265625,
           -6.5546875,
           0.0546875,
           -1.9296875,
           -1.6796875,
           -0.5078125,
           -0.7734375,
           -1.8671875,
           0.109375,
           -0.8984375,
           -1.3984375,
           -0.9921875,
           -3.1484375,
           0.09375,
           -2.3984375,
           -0.203125,
           -1.2265625,
           -0.7890625,
           -5.9921875,
           -0.25,
           0.0625,
           -1.0234375,
           -0.7734375,
           -0.4609375,
           -0.1484375,
           -0.7109375,
           -2.7109375,
           -1.6484375,
           -0.25,
           -1.4921875,
           -0.1484375,
           -0.6171875,
           -0.4453125,
           -2.1953125,
           -0.3203125,
           -4.6171875,
           -0.6796875,
           -0.4921875,
           -0.5234375,
           0.2265625,
           -0.0234375,
           -1.0078125,
           -3.2421875
          ],
          [
           -2.28125,
           -6.0625,
           0.125,
           -3.8125,
           -1.46875,
           -11.5,
           -2.28125,
           -3.5,
           -1.78125,
           -3.375,
           -3.6875,
           -3.375,
           -1.875,
           -0.46875,
           -2.15625,
           -3.625,
           -1.21875,
           -1.3125,
           -5.6875,
           -2.6875,
           -6.3125,
           -8.6875,
           -0.6875,
           -0.75,
           -0.359375,
           -1.21875,
           -4.40625,
           -2.90625,
           -2.46875,
           -2.96875,
           -0.90625,
           -3.0625,
           -0.5,
           -2.6875,
           -1.21875,
           -2.71875,
           -1.453125,
           -1,
           -4.25,
           -1.15625,
           -0.53125,
           -0.4375,
           -2.34375
          ]
         ]
        }
       ],
       "layout": {
        "coloraxis": {
         "colorscale": [
          [
           0,
           "#0d0887"
          ],
          [
           0.1111111111111111,
           "#46039f"
          ],
          [
           0.2222222222222222,
           "#7201a8"
          ],
          [
           0.3333333333333333,
           "#9c179e"
          ],
          [
           0.4444444444444444,
           "#bd3786"
          ],
          [
           0.5555555555555556,
           "#d8576b"
          ],
          [
           0.6666666666666666,
           "#ed7953"
          ],
          [
           0.7777777777777778,
           "#fb9f3a"
          ],
          [
           0.8888888888888888,
           "#fdca26"
          ],
          [
           1,
           "#f0f921"
          ]
         ]
        },
        "margin": {
         "t": 60
        },
        "template": {
         "data": {
          "bar": [
           {
            "error_x": {
             "color": "#2a3f5f"
            },
            "error_y": {
             "color": "#2a3f5f"
            },
            "marker": {
             "line": {
              "color": "#E5ECF6",
              "width": 0.5
             },
             "pattern": {
              "fillmode": "overlay",
              "size": 10,
              "solidity": 0.2
             }
            },
            "type": "bar"
           }
          ],
          "barpolar": [
           {
            "marker": {
             "line": {
              "color": "#E5ECF6",
              "width": 0.5
             },
             "pattern": {
              "fillmode": "overlay",
              "size": 10,
              "solidity": 0.2
             }
            },
            "type": "barpolar"
           }
          ],
          "carpet": [
           {
            "aaxis": {
             "endlinecolor": "#2a3f5f",
             "gridcolor": "white",
             "linecolor": "white",
             "minorgridcolor": "white",
             "startlinecolor": "#2a3f5f"
            },
            "baxis": {
             "endlinecolor": "#2a3f5f",
             "gridcolor": "white",
             "linecolor": "white",
             "minorgridcolor": "white",
             "startlinecolor": "#2a3f5f"
            },
            "type": "carpet"
           }
          ],
          "choropleth": [
           {
            "colorbar": {
             "outlinewidth": 0,
             "ticks": ""
            },
            "type": "choropleth"
           }
          ],
          "contour": [
           {
            "colorbar": {
             "outlinewidth": 0,
             "ticks": ""
            },
            "colorscale": [
             [
              0,
              "#0d0887"
             ],
             [
              0.1111111111111111,
              "#46039f"
             ],
             [
              0.2222222222222222,
              "#7201a8"
             ],
             [
              0.3333333333333333,
              "#9c179e"
             ],
             [
              0.4444444444444444,
              "#bd3786"
             ],
             [
              0.5555555555555556,
              "#d8576b"
             ],
             [
              0.6666666666666666,
              "#ed7953"
             ],
             [
              0.7777777777777778,
              "#fb9f3a"
             ],
             [
              0.8888888888888888,
              "#fdca26"
             ],
             [
              1,
              "#f0f921"
             ]
            ],
            "type": "contour"
           }
          ],
          "contourcarpet": [
           {
            "colorbar": {
             "outlinewidth": 0,
             "ticks": ""
            },
            "type": "contourcarpet"
           }
          ],
          "heatmap": [
           {
            "colorbar": {
             "outlinewidth": 0,
             "ticks": ""
            },
            "colorscale": [
             [
              0,
              "#0d0887"
             ],
             [
              0.1111111111111111,
              "#46039f"
             ],
             [
              0.2222222222222222,
              "#7201a8"
             ],
             [
              0.3333333333333333,
              "#9c179e"
             ],
             [
              0.4444444444444444,
              "#bd3786"
             ],
             [
              0.5555555555555556,
              "#d8576b"
             ],
             [
              0.6666666666666666,
              "#ed7953"
             ],
             [
              0.7777777777777778,
              "#fb9f3a"
             ],
             [
              0.8888888888888888,
              "#fdca26"
             ],
             [
              1,
              "#f0f921"
             ]
            ],
            "type": "heatmap"
           }
          ],
          "heatmapgl": [
           {
            "colorbar": {
             "outlinewidth": 0,
             "ticks": ""
            },
            "colorscale": [
             [
              0,
              "#0d0887"
             ],
             [
              0.1111111111111111,
              "#46039f"
             ],
             [
              0.2222222222222222,
              "#7201a8"
             ],
             [
              0.3333333333333333,
              "#9c179e"
             ],
             [
              0.4444444444444444,
              "#bd3786"
             ],
             [
              0.5555555555555556,
              "#d8576b"
             ],
             [
              0.6666666666666666,
              "#ed7953"
             ],
             [
              0.7777777777777778,
              "#fb9f3a"
             ],
             [
              0.8888888888888888,
              "#fdca26"
             ],
             [
              1,
              "#f0f921"
             ]
            ],
            "type": "heatmapgl"
           }
          ],
          "histogram": [
           {
            "marker": {
             "pattern": {
              "fillmode": "overlay",
              "size": 10,
              "solidity": 0.2
             }
            },
            "type": "histogram"
           }
          ],
          "histogram2d": [
           {
            "colorbar": {
             "outlinewidth": 0,
             "ticks": ""
            },
            "colorscale": [
             [
              0,
              "#0d0887"
             ],
             [
              0.1111111111111111,
              "#46039f"
             ],
             [
              0.2222222222222222,
              "#7201a8"
             ],
             [
              0.3333333333333333,
              "#9c179e"
             ],
             [
              0.4444444444444444,
              "#bd3786"
             ],
             [
              0.5555555555555556,
              "#d8576b"
             ],
             [
              0.6666666666666666,
              "#ed7953"
             ],
             [
              0.7777777777777778,
              "#fb9f3a"
             ],
             [
              0.8888888888888888,
              "#fdca26"
             ],
             [
              1,
              "#f0f921"
             ]
            ],
            "type": "histogram2d"
           }
          ],
          "histogram2dcontour": [
           {
            "colorbar": {
             "outlinewidth": 0,
             "ticks": ""
            },
            "colorscale": [
             [
              0,
              "#0d0887"
             ],
             [
              0.1111111111111111,
              "#46039f"
             ],
             [
              0.2222222222222222,
              "#7201a8"
             ],
             [
              0.3333333333333333,
              "#9c179e"
             ],
             [
              0.4444444444444444,
              "#bd3786"
             ],
             [
              0.5555555555555556,
              "#d8576b"
             ],
             [
              0.6666666666666666,
              "#ed7953"
             ],
             [
              0.7777777777777778,
              "#fb9f3a"
             ],
             [
              0.8888888888888888,
              "#fdca26"
             ],
             [
              1,
              "#f0f921"
             ]
            ],
            "type": "histogram2dcontour"
           }
          ],
          "mesh3d": [
           {
            "colorbar": {
             "outlinewidth": 0,
             "ticks": ""
            },
            "type": "mesh3d"
           }
          ],
          "parcoords": [
           {
            "line": {
             "colorbar": {
              "outlinewidth": 0,
              "ticks": ""
             }
            },
            "type": "parcoords"
           }
          ],
          "pie": [
           {
            "automargin": true,
            "type": "pie"
           }
          ],
          "scatter": [
           {
            "fillpattern": {
             "fillmode": "overlay",
             "size": 10,
             "solidity": 0.2
            },
            "type": "scatter"
           }
          ],
          "scatter3d": [
           {
            "line": {
             "colorbar": {
              "outlinewidth": 0,
              "ticks": ""
             }
            },
            "marker": {
             "colorbar": {
              "outlinewidth": 0,
              "ticks": ""
             }
            },
            "type": "scatter3d"
           }
          ],
          "scattercarpet": [
           {
            "marker": {
             "colorbar": {
              "outlinewidth": 0,
              "ticks": ""
             }
            },
            "type": "scattercarpet"
           }
          ],
          "scattergeo": [
           {
            "marker": {
             "colorbar": {
              "outlinewidth": 0,
              "ticks": ""
             }
            },
            "type": "scattergeo"
           }
          ],
          "scattergl": [
           {
            "marker": {
             "colorbar": {
              "outlinewidth": 0,
              "ticks": ""
             }
            },
            "type": "scattergl"
           }
          ],
          "scattermapbox": [
           {
            "marker": {
             "colorbar": {
              "outlinewidth": 0,
              "ticks": ""
             }
            },
            "type": "scattermapbox"
           }
          ],
          "scatterpolar": [
           {
            "marker": {
             "colorbar": {
              "outlinewidth": 0,
              "ticks": ""
             }
            },
            "type": "scatterpolar"
           }
          ],
          "scatterpolargl": [
           {
            "marker": {
             "colorbar": {
              "outlinewidth": 0,
              "ticks": ""
             }
            },
            "type": "scatterpolargl"
           }
          ],
          "scatterternary": [
           {
            "marker": {
             "colorbar": {
              "outlinewidth": 0,
              "ticks": ""
             }
            },
            "type": "scatterternary"
           }
          ],
          "surface": [
           {
            "colorbar": {
             "outlinewidth": 0,
             "ticks": ""
            },
            "colorscale": [
             [
              0,
              "#0d0887"
             ],
             [
              0.1111111111111111,
              "#46039f"
             ],
             [
              0.2222222222222222,
              "#7201a8"
             ],
             [
              0.3333333333333333,
              "#9c179e"
             ],
             [
              0.4444444444444444,
              "#bd3786"
             ],
             [
              0.5555555555555556,
              "#d8576b"
             ],
             [
              0.6666666666666666,
              "#ed7953"
             ],
             [
              0.7777777777777778,
              "#fb9f3a"
             ],
             [
              0.8888888888888888,
              "#fdca26"
             ],
             [
              1,
              "#f0f921"
             ]
            ],
            "type": "surface"
           }
          ],
          "table": [
           {
            "cells": {
             "fill": {
              "color": "#EBF0F8"
             },
             "line": {
              "color": "white"
             }
            },
            "header": {
             "fill": {
              "color": "#C8D4E3"
             },
             "line": {
              "color": "white"
             }
            },
            "type": "table"
           }
          ]
         },
         "layout": {
          "annotationdefaults": {
           "arrowcolor": "#2a3f5f",
           "arrowhead": 0,
           "arrowwidth": 1
          },
          "autotypenumbers": "strict",
          "coloraxis": {
           "colorbar": {
            "outlinewidth": 0,
            "ticks": ""
           }
          },
          "colorscale": {
           "diverging": [
            [
             0,
             "#8e0152"
            ],
            [
             0.1,
             "#c51b7d"
            ],
            [
             0.2,
             "#de77ae"
            ],
            [
             0.3,
             "#f1b6da"
            ],
            [
             0.4,
             "#fde0ef"
            ],
            [
             0.5,
             "#f7f7f7"
            ],
            [
             0.6,
             "#e6f5d0"
            ],
            [
             0.7,
             "#b8e186"
            ],
            [
             0.8,
             "#7fbc41"
            ],
            [
             0.9,
             "#4d9221"
            ],
            [
             1,
             "#276419"
            ]
           ],
           "sequential": [
            [
             0,
             "#0d0887"
            ],
            [
             0.1111111111111111,
             "#46039f"
            ],
            [
             0.2222222222222222,
             "#7201a8"
            ],
            [
             0.3333333333333333,
             "#9c179e"
            ],
            [
             0.4444444444444444,
             "#bd3786"
            ],
            [
             0.5555555555555556,
             "#d8576b"
            ],
            [
             0.6666666666666666,
             "#ed7953"
            ],
            [
             0.7777777777777778,
             "#fb9f3a"
            ],
            [
             0.8888888888888888,
             "#fdca26"
            ],
            [
             1,
             "#f0f921"
            ]
           ],
           "sequentialminus": [
            [
             0,
             "#0d0887"
            ],
            [
             0.1111111111111111,
             "#46039f"
            ],
            [
             0.2222222222222222,
             "#7201a8"
            ],
            [
             0.3333333333333333,
             "#9c179e"
            ],
            [
             0.4444444444444444,
             "#bd3786"
            ],
            [
             0.5555555555555556,
             "#d8576b"
            ],
            [
             0.6666666666666666,
             "#ed7953"
            ],
            [
             0.7777777777777778,
             "#fb9f3a"
            ],
            [
             0.8888888888888888,
             "#fdca26"
            ],
            [
             1,
             "#f0f921"
            ]
           ]
          },
          "colorway": [
           "#636efa",
           "#EF553B",
           "#00cc96",
           "#ab63fa",
           "#FFA15A",
           "#19d3f3",
           "#FF6692",
           "#B6E880",
           "#FF97FF",
           "#FECB52"
          ],
          "font": {
           "color": "#2a3f5f"
          },
          "geo": {
           "bgcolor": "white",
           "lakecolor": "white",
           "landcolor": "#E5ECF6",
           "showlakes": true,
           "showland": true,
           "subunitcolor": "white"
          },
          "hoverlabel": {
           "align": "left"
          },
          "hovermode": "closest",
          "mapbox": {
           "style": "light"
          },
          "paper_bgcolor": "white",
          "plot_bgcolor": "#E5ECF6",
          "polar": {
           "angularaxis": {
            "gridcolor": "white",
            "linecolor": "white",
            "ticks": ""
           },
           "bgcolor": "#E5ECF6",
           "radialaxis": {
            "gridcolor": "white",
            "linecolor": "white",
            "ticks": ""
           }
          },
          "scene": {
           "xaxis": {
            "backgroundcolor": "#E5ECF6",
            "gridcolor": "white",
            "gridwidth": 2,
            "linecolor": "white",
            "showbackground": true,
            "ticks": "",
            "zerolinecolor": "white"
           },
           "yaxis": {
            "backgroundcolor": "#E5ECF6",
            "gridcolor": "white",
            "gridwidth": 2,
            "linecolor": "white",
            "showbackground": true,
            "ticks": "",
            "zerolinecolor": "white"
           },
           "zaxis": {
            "backgroundcolor": "#E5ECF6",
            "gridcolor": "white",
            "gridwidth": 2,
            "linecolor": "white",
            "showbackground": true,
            "ticks": "",
            "zerolinecolor": "white"
           }
          },
          "shapedefaults": {
           "line": {
            "color": "#2a3f5f"
           }
          },
          "ternary": {
           "aaxis": {
            "gridcolor": "white",
            "linecolor": "white",
            "ticks": ""
           },
           "baxis": {
            "gridcolor": "white",
            "linecolor": "white",
            "ticks": ""
           },
           "bgcolor": "#E5ECF6",
           "caxis": {
            "gridcolor": "white",
            "linecolor": "white",
            "ticks": ""
           }
          },
          "title": {
           "x": 0.05
          },
          "xaxis": {
           "automargin": true,
           "gridcolor": "white",
           "linecolor": "white",
           "ticks": "",
           "title": {
            "standoff": 15
           },
           "zerolinecolor": "white",
           "zerolinewidth": 2
          },
          "yaxis": {
           "automargin": true,
           "gridcolor": "white",
           "linecolor": "white",
           "ticks": "",
           "title": {
            "standoff": 15
           },
           "zerolinecolor": "white",
           "zerolinewidth": 2
          }
         }
        },
        "xaxis": {
         "anchor": "y",
         "constrain": "domain",
         "domain": [
          0,
          1
         ],
         "scaleanchor": "y"
        },
        "yaxis": {
         "anchor": "x",
         "autorange": "reversed",
         "constrain": "domain",
         "domain": [
          0,
          1
         ]
        }
       }
      },
      "text/html": [
       "<div>                            <div id=\"32a2cf23-73c6-470c-8826-3f8144b22cc9\" class=\"plotly-graph-div\" style=\"height:525px; width:100%;\"></div>            <script type=\"text/javascript\">                require([\"plotly\"], function(Plotly) {                    window.PLOTLYENV=window.PLOTLYENV || {};                                    if (document.getElementById(\"32a2cf23-73c6-470c-8826-3f8144b22cc9\")) {                    Plotly.newPlot(                        \"32a2cf23-73c6-470c-8826-3f8144b22cc9\",                        [{\"coloraxis\":\"coloraxis\",\"name\":\"0\",\"x\":[\"9600\",\"23682\",\"32643\",\"31620\",\"27268\",\"27401\",\"6413\",\"24206\",\"12943\",\"16016\",\"9488\",\"13458\",\"14612\",\"19097\",\"7578\",\"16671\",\"19112\",\"7739\",\"8125\",\"32320\",\"6594\",\"7491\",\"15947\",\"5579\",\"15356\",\"16340\",\"24925\",\"30814\",\"4448\",\"26594\",\"11618\",\"6756\",\"6629\",\"5991\",\"16490\",\"2539\",\"26987\",\"6765\",\"18416\",\"2930\",\"2931\",\"22136\",\"6780\"],\"y\":[\"en_es\",\"antonyms\",\"person_profession\",\"es_en\",\"present_simple_gerund\",\"present_simple_past_simple\",\"person_profession\",\"person_language\",\"country_capital\",\"football_player_position\"],\"z\":[[-1.15625,-8.09375,0.09375,-1.28125,-5.15625,-6.59375,0.390625,-0.5625,-2.96875,-0.625,-0.03125,-0.15625,-1.875,0.453125,0.515625,-1.0,-2.21875,-0.65625,-2.3125,0.09375,-5.71875,-8.53125,-0.46875,-3.375,-0.5,0.453125,0.0,-0.90625,0.234375,-0.28125,-0.40625,0.09375,-1.71875,-6.21875,-0.46875,-1.21875,-10.71875,-0.34375,-0.8125,-0.90625,0.125,-0.3125,-0.75],[-3.57421875,-6.91796875,0.34375,-4.79296875,-0.08203125,-2.04296875,-0.91796875,-0.95703125,-0.52734375,-0.59765625,-2.63671875,-0.32421875,-0.47265625,-3.54296875,-1.37109375,-1.19921875,-2.44921875,-1.29296875,-1.55859375,-0.12109375,-4.32421875,-3.51171875,-0.83203125,-0.80859375,-0.59765625,0.2109375,-0.24609375,-0.66015625,-0.65234375,-1.60546875,-4.91796875,-0.97265625,-0.95703125,-0.62109375,-0.10546875,-0.07421875,-0.29296875,-0.32421875,-1.19921875,-0.98046875,-1.15234375,-9.69921875,-0.54296875],[-1.34375,-1.71875,-0.234375,-3.1875,-1.375,-9.71875,-0.9375,-2.0625,-0.46875,-0.890625,-0.875,-4.125,-0.359375,-0.859375,-0.734375,-3.78125,-1.8125,-1.8125,-2.3125,-1.78125,-6.78125,-7.21875,-1.25,-0.609375,-0.0625,-0.890625,-2.5,-1.96875,-1.34375,-1.6875,-0.5,-1.6875,-0.890625,-1.46875,-0.421875,-2.0625,0.09375,0.25,-1.96875,-1.53125,-0.625,-0.453125,-0.546875],[-2.03125,-11.03125,0.140625,-1.875,-5.15625,-5.53125,-1.03125,-2.0625,-2.71875,-2.53125,-3.03125,-1.328125,-2.375,-0.875,-1.390625,-1.09375,-1.296875,-2.0625,-3.78125,-0.59375,-7.03125,-6.53125,-1.078125,-2.4375,-1.171875,-0.609375,-0.671875,-1.34375,-1.015625,-2.59375,-0.546875,-1.296875,-1.484375,-5.0625,-1.5,-1.96875,-1.59375,-0.796875,-2.15625,-2.9375,-0.671875,-1.59375,-0.96875],[-0.1279296875,-14.6943359375,-0.2763671875,-1.2802734375,-10.1943359375,-1.7724609375,0.01953125,-0.0888671875,-0.1083984375,-0.6279296875,-2.1787109375,-0.2197265625,-5.4130859375,-0.1142578125,-0.3271484375,-0.6748046875,-0.1337890625,-0.5458984375,-2.3505859375,-0.4052734375,-7.3818359375,-3.5224609375,-0.0126953125,-2.6005859375,-4.5068359375,-0.1318359375,-0.3232421875,-0.2158203125,-0.2998046875,-2.4912109375,-0.3896484375,-0.1298828125,-2.3505859375,-1.4833984375,-0.4912109375,-2.3974609375,-1.0224609375,0.0712890625,-0.2197265625,-4.8193359375,-0.6748046875,-0.4169921875,-1.5068359375],[-0.171875,-12.84375,0.48828125,-0.0859375,-8.21875,-1.09375,0.1015625,0.2109375,0.203125,-0.0625,-0.296875,0.23046875,-2.484375,-0.1171875,-0.0390625,0.25390625,0.3828125,-0.53125,-0.3125,0.1015625,-7.71875,-3.5625,0.0,-0.5390625,-7.15625,0.1640625,0.37890625,0.2421875,-0.921875,-1.640625,0.1015625,0.265625,-0.359375,-3.375,0.0546875,-0.84375,0.1328125,0.203125,0.0703125,-2.234375,-2.546875,-0.0234375,-0.5703125],[-1.34375,-1.71875,-0.234375,-3.1875,-1.375,-9.71875,-0.9375,-2.0625,-0.46875,-0.890625,-0.875,-4.125,-0.359375,-0.859375,-0.734375,-3.78125,-1.8125,-1.8125,-2.3125,-1.78125,-6.78125,-7.21875,-1.25,-0.609375,-0.0625,-0.890625,-2.5,-1.96875,-1.34375,-1.6875,-0.5,-1.6875,-0.890625,-1.46875,-0.421875,-2.0625,0.09375,0.25,-1.96875,-1.53125,-0.625,-0.453125,-0.546875],[-4.015625,-1.921875,0.109375,-1.453125,-1.96875,-5.734375,0.109375,-0.53125,-1.65625,-0.375,-0.90625,0.37109375,-1.15625,-1.046875,-0.8203125,-0.1875,-2.109375,-1.203125,-1.1875,-1.015625,-3.421875,-1.421875,-0.953125,-1.359375,-0.59375,-1.546875,-6.421875,-0.0859375,-0.15625,-2.15625,-0.421875,-0.2578125,-0.8203125,-1.53125,-0.71875,-0.96875,-0.3984375,-0.0625,-0.359375,-1.1875,-0.859375,-0.875,-0.8125],[-0.265625,-6.5546875,0.0546875,-1.9296875,-1.6796875,-0.5078125,-0.7734375,-1.8671875,0.109375,-0.8984375,-1.3984375,-0.9921875,-3.1484375,0.09375,-2.3984375,-0.203125,-1.2265625,-0.7890625,-5.9921875,-0.25,0.0625,-1.0234375,-0.7734375,-0.4609375,-0.1484375,-0.7109375,-2.7109375,-1.6484375,-0.25,-1.4921875,-0.1484375,-0.6171875,-0.4453125,-2.1953125,-0.3203125,-4.6171875,-0.6796875,-0.4921875,-0.5234375,0.2265625,-0.0234375,-1.0078125,-3.2421875],[-2.28125,-6.0625,0.125,-3.8125,-1.46875,-11.5,-2.28125,-3.5,-1.78125,-3.375,-3.6875,-3.375,-1.875,-0.46875,-2.15625,-3.625,-1.21875,-1.3125,-5.6875,-2.6875,-6.3125,-8.6875,-0.6875,-0.75,-0.359375,-1.21875,-4.40625,-2.90625,-2.46875,-2.96875,-0.90625,-3.0625,-0.5,-2.6875,-1.21875,-2.71875,-1.453125,-1.0,-4.25,-1.15625,-0.53125,-0.4375,-2.34375]],\"type\":\"heatmap\",\"xaxis\":\"x\",\"yaxis\":\"y\",\"hovertemplate\":\"x: %{x}\\u003cbr\\u003ey: %{y}\\u003cbr\\u003ecolor: %{z}\\u003cextra\\u003e\\u003c\\u002fextra\\u003e\"}],                        {\"template\":{\"data\":{\"histogram2dcontour\":[{\"type\":\"histogram2dcontour\",\"colorbar\":{\"outlinewidth\":0,\"ticks\":\"\"},\"colorscale\":[[0.0,\"#0d0887\"],[0.1111111111111111,\"#46039f\"],[0.2222222222222222,\"#7201a8\"],[0.3333333333333333,\"#9c179e\"],[0.4444444444444444,\"#bd3786\"],[0.5555555555555556,\"#d8576b\"],[0.6666666666666666,\"#ed7953\"],[0.7777777777777778,\"#fb9f3a\"],[0.8888888888888888,\"#fdca26\"],[1.0,\"#f0f921\"]]}],\"choropleth\":[{\"type\":\"choropleth\",\"colorbar\":{\"outlinewidth\":0,\"ticks\":\"\"}}],\"histogram2d\":[{\"type\":\"histogram2d\",\"colorbar\":{\"outlinewidth\":0,\"ticks\":\"\"},\"colorscale\":[[0.0,\"#0d0887\"],[0.1111111111111111,\"#46039f\"],[0.2222222222222222,\"#7201a8\"],[0.3333333333333333,\"#9c179e\"],[0.4444444444444444,\"#bd3786\"],[0.5555555555555556,\"#d8576b\"],[0.6666666666666666,\"#ed7953\"],[0.7777777777777778,\"#fb9f3a\"],[0.8888888888888888,\"#fdca26\"],[1.0,\"#f0f921\"]]}],\"heatmap\":[{\"type\":\"heatmap\",\"colorbar\":{\"outlinewidth\":0,\"ticks\":\"\"},\"colorscale\":[[0.0,\"#0d0887\"],[0.1111111111111111,\"#46039f\"],[0.2222222222222222,\"#7201a8\"],[0.3333333333333333,\"#9c179e\"],[0.4444444444444444,\"#bd3786\"],[0.5555555555555556,\"#d8576b\"],[0.6666666666666666,\"#ed7953\"],[0.7777777777777778,\"#fb9f3a\"],[0.8888888888888888,\"#fdca26\"],[1.0,\"#f0f921\"]]}],\"heatmapgl\":[{\"type\":\"heatmapgl\",\"colorbar\":{\"outlinewidth\":0,\"ticks\":\"\"},\"colorscale\":[[0.0,\"#0d0887\"],[0.1111111111111111,\"#46039f\"],[0.2222222222222222,\"#7201a8\"],[0.3333333333333333,\"#9c179e\"],[0.4444444444444444,\"#bd3786\"],[0.5555555555555556,\"#d8576b\"],[0.6666666666666666,\"#ed7953\"],[0.7777777777777778,\"#fb9f3a\"],[0.8888888888888888,\"#fdca26\"],[1.0,\"#f0f921\"]]}],\"contourcarpet\":[{\"type\":\"contourcarpet\",\"colorbar\":{\"outlinewidth\":0,\"ticks\":\"\"}}],\"contour\":[{\"type\":\"contour\",\"colorbar\":{\"outlinewidth\":0,\"ticks\":\"\"},\"colorscale\":[[0.0,\"#0d0887\"],[0.1111111111111111,\"#46039f\"],[0.2222222222222222,\"#7201a8\"],[0.3333333333333333,\"#9c179e\"],[0.4444444444444444,\"#bd3786\"],[0.5555555555555556,\"#d8576b\"],[0.6666666666666666,\"#ed7953\"],[0.7777777777777778,\"#fb9f3a\"],[0.8888888888888888,\"#fdca26\"],[1.0,\"#f0f921\"]]}],\"surface\":[{\"type\":\"surface\",\"colorbar\":{\"outlinewidth\":0,\"ticks\":\"\"},\"colorscale\":[[0.0,\"#0d0887\"],[0.1111111111111111,\"#46039f\"],[0.2222222222222222,\"#7201a8\"],[0.3333333333333333,\"#9c179e\"],[0.4444444444444444,\"#bd3786\"],[0.5555555555555556,\"#d8576b\"],[0.6666666666666666,\"#ed7953\"],[0.7777777777777778,\"#fb9f3a\"],[0.8888888888888888,\"#fdca26\"],[1.0,\"#f0f921\"]]}],\"mesh3d\":[{\"type\":\"mesh3d\",\"colorbar\":{\"outlinewidth\":0,\"ticks\":\"\"}}],\"scatter\":[{\"fillpattern\":{\"fillmode\":\"overlay\",\"size\":10,\"solidity\":0.2},\"type\":\"scatter\"}],\"parcoords\":[{\"type\":\"parcoords\",\"line\":{\"colorbar\":{\"outlinewidth\":0,\"ticks\":\"\"}}}],\"scatterpolargl\":[{\"type\":\"scatterpolargl\",\"marker\":{\"colorbar\":{\"outlinewidth\":0,\"ticks\":\"\"}}}],\"bar\":[{\"error_x\":{\"color\":\"#2a3f5f\"},\"error_y\":{\"color\":\"#2a3f5f\"},\"marker\":{\"line\":{\"color\":\"#E5ECF6\",\"width\":0.5},\"pattern\":{\"fillmode\":\"overlay\",\"size\":10,\"solidity\":0.2}},\"type\":\"bar\"}],\"scattergeo\":[{\"type\":\"scattergeo\",\"marker\":{\"colorbar\":{\"outlinewidth\":0,\"ticks\":\"\"}}}],\"scatterpolar\":[{\"type\":\"scatterpolar\",\"marker\":{\"colorbar\":{\"outlinewidth\":0,\"ticks\":\"\"}}}],\"histogram\":[{\"marker\":{\"pattern\":{\"fillmode\":\"overlay\",\"size\":10,\"solidity\":0.2}},\"type\":\"histogram\"}],\"scattergl\":[{\"type\":\"scattergl\",\"marker\":{\"colorbar\":{\"outlinewidth\":0,\"ticks\":\"\"}}}],\"scatter3d\":[{\"type\":\"scatter3d\",\"line\":{\"colorbar\":{\"outlinewidth\":0,\"ticks\":\"\"}},\"marker\":{\"colorbar\":{\"outlinewidth\":0,\"ticks\":\"\"}}}],\"scattermapbox\":[{\"type\":\"scattermapbox\",\"marker\":{\"colorbar\":{\"outlinewidth\":0,\"ticks\":\"\"}}}],\"scatterternary\":[{\"type\":\"scatterternary\",\"marker\":{\"colorbar\":{\"outlinewidth\":0,\"ticks\":\"\"}}}],\"scattercarpet\":[{\"type\":\"scattercarpet\",\"marker\":{\"colorbar\":{\"outlinewidth\":0,\"ticks\":\"\"}}}],\"carpet\":[{\"aaxis\":{\"endlinecolor\":\"#2a3f5f\",\"gridcolor\":\"white\",\"linecolor\":\"white\",\"minorgridcolor\":\"white\",\"startlinecolor\":\"#2a3f5f\"},\"baxis\":{\"endlinecolor\":\"#2a3f5f\",\"gridcolor\":\"white\",\"linecolor\":\"white\",\"minorgridcolor\":\"white\",\"startlinecolor\":\"#2a3f5f\"},\"type\":\"carpet\"}],\"table\":[{\"cells\":{\"fill\":{\"color\":\"#EBF0F8\"},\"line\":{\"color\":\"white\"}},\"header\":{\"fill\":{\"color\":\"#C8D4E3\"},\"line\":{\"color\":\"white\"}},\"type\":\"table\"}],\"barpolar\":[{\"marker\":{\"line\":{\"color\":\"#E5ECF6\",\"width\":0.5},\"pattern\":{\"fillmode\":\"overlay\",\"size\":10,\"solidity\":0.2}},\"type\":\"barpolar\"}],\"pie\":[{\"automargin\":true,\"type\":\"pie\"}]},\"layout\":{\"autotypenumbers\":\"strict\",\"colorway\":[\"#636efa\",\"#EF553B\",\"#00cc96\",\"#ab63fa\",\"#FFA15A\",\"#19d3f3\",\"#FF6692\",\"#B6E880\",\"#FF97FF\",\"#FECB52\"],\"font\":{\"color\":\"#2a3f5f\"},\"hovermode\":\"closest\",\"hoverlabel\":{\"align\":\"left\"},\"paper_bgcolor\":\"white\",\"plot_bgcolor\":\"#E5ECF6\",\"polar\":{\"bgcolor\":\"#E5ECF6\",\"angularaxis\":{\"gridcolor\":\"white\",\"linecolor\":\"white\",\"ticks\":\"\"},\"radialaxis\":{\"gridcolor\":\"white\",\"linecolor\":\"white\",\"ticks\":\"\"}},\"ternary\":{\"bgcolor\":\"#E5ECF6\",\"aaxis\":{\"gridcolor\":\"white\",\"linecolor\":\"white\",\"ticks\":\"\"},\"baxis\":{\"gridcolor\":\"white\",\"linecolor\":\"white\",\"ticks\":\"\"},\"caxis\":{\"gridcolor\":\"white\",\"linecolor\":\"white\",\"ticks\":\"\"}},\"coloraxis\":{\"colorbar\":{\"outlinewidth\":0,\"ticks\":\"\"}},\"colorscale\":{\"sequential\":[[0.0,\"#0d0887\"],[0.1111111111111111,\"#46039f\"],[0.2222222222222222,\"#7201a8\"],[0.3333333333333333,\"#9c179e\"],[0.4444444444444444,\"#bd3786\"],[0.5555555555555556,\"#d8576b\"],[0.6666666666666666,\"#ed7953\"],[0.7777777777777778,\"#fb9f3a\"],[0.8888888888888888,\"#fdca26\"],[1.0,\"#f0f921\"]],\"sequentialminus\":[[0.0,\"#0d0887\"],[0.1111111111111111,\"#46039f\"],[0.2222222222222222,\"#7201a8\"],[0.3333333333333333,\"#9c179e\"],[0.4444444444444444,\"#bd3786\"],[0.5555555555555556,\"#d8576b\"],[0.6666666666666666,\"#ed7953\"],[0.7777777777777778,\"#fb9f3a\"],[0.8888888888888888,\"#fdca26\"],[1.0,\"#f0f921\"]],\"diverging\":[[0,\"#8e0152\"],[0.1,\"#c51b7d\"],[0.2,\"#de77ae\"],[0.3,\"#f1b6da\"],[0.4,\"#fde0ef\"],[0.5,\"#f7f7f7\"],[0.6,\"#e6f5d0\"],[0.7,\"#b8e186\"],[0.8,\"#7fbc41\"],[0.9,\"#4d9221\"],[1,\"#276419\"]]},\"xaxis\":{\"gridcolor\":\"white\",\"linecolor\":\"white\",\"ticks\":\"\",\"title\":{\"standoff\":15},\"zerolinecolor\":\"white\",\"automargin\":true,\"zerolinewidth\":2},\"yaxis\":{\"gridcolor\":\"white\",\"linecolor\":\"white\",\"ticks\":\"\",\"title\":{\"standoff\":15},\"zerolinecolor\":\"white\",\"automargin\":true,\"zerolinewidth\":2},\"scene\":{\"xaxis\":{\"backgroundcolor\":\"#E5ECF6\",\"gridcolor\":\"white\",\"linecolor\":\"white\",\"showbackground\":true,\"ticks\":\"\",\"zerolinecolor\":\"white\",\"gridwidth\":2},\"yaxis\":{\"backgroundcolor\":\"#E5ECF6\",\"gridcolor\":\"white\",\"linecolor\":\"white\",\"showbackground\":true,\"ticks\":\"\",\"zerolinecolor\":\"white\",\"gridwidth\":2},\"zaxis\":{\"backgroundcolor\":\"#E5ECF6\",\"gridcolor\":\"white\",\"linecolor\":\"white\",\"showbackground\":true,\"ticks\":\"\",\"zerolinecolor\":\"white\",\"gridwidth\":2}},\"shapedefaults\":{\"line\":{\"color\":\"#2a3f5f\"}},\"annotationdefaults\":{\"arrowcolor\":\"#2a3f5f\",\"arrowhead\":0,\"arrowwidth\":1},\"geo\":{\"bgcolor\":\"white\",\"landcolor\":\"#E5ECF6\",\"subunitcolor\":\"white\",\"showland\":true,\"showlakes\":true,\"lakecolor\":\"white\"},\"title\":{\"x\":0.05},\"mapbox\":{\"style\":\"light\"}}},\"xaxis\":{\"anchor\":\"y\",\"domain\":[0.0,1.0],\"scaleanchor\":\"y\",\"constrain\":\"domain\"},\"yaxis\":{\"anchor\":\"x\",\"domain\":[0.0,1.0],\"autorange\":\"reversed\",\"constrain\":\"domain\"},\"coloraxis\":{\"colorscale\":[[0.0,\"#0d0887\"],[0.1111111111111111,\"#46039f\"],[0.2222222222222222,\"#7201a8\"],[0.3333333333333333,\"#9c179e\"],[0.4444444444444444,\"#bd3786\"],[0.5555555555555556,\"#d8576b\"],[0.6666666666666666,\"#ed7953\"],[0.7777777777777778,\"#fb9f3a\"],[0.8888888888888888,\"#fdca26\"],[1.0,\"#f0f921\"]]},\"margin\":{\"t\":60}},                        {\"responsive\": true}                    ).then(function(){\n",
       "                            \n",
       "var gd = document.getElementById('32a2cf23-73c6-470c-8826-3f8144b22cc9');\n",
       "var x = new MutationObserver(function (mutations, observer) {{\n",
       "        var display = window.getComputedStyle(gd).display;\n",
       "        if (!display || display === 'none') {{\n",
       "            console.log([gd, 'removed!']);\n",
       "            Plotly.purge(gd);\n",
       "            observer.disconnect();\n",
       "        }}\n",
       "}});\n",
       "\n",
       "// Listen for the removal of the full notebook cells\n",
       "var notebookContainer = gd.closest('#notebook-container');\n",
       "if (notebookContainer) {{\n",
       "    x.observe(notebookContainer, {childList: true});\n",
       "}}\n",
       "\n",
       "// Listen for the clearing of the current output cell\n",
       "var outputEl = gd.closest('.output');\n",
       "if (outputEl) {{\n",
       "    x.observe(outputEl, {childList: true});\n",
       "}}\n",
       "\n",
       "                        })                };                });            </script>        </div>"
      ]
     },
     "metadata": {},
     "output_type": "display_data"
    }
   ],
   "source": [
    "import plotly.express as px\n",
    "import pandas as pd\n",
    "import numpy as np\n",
    "\n",
    "for task_name, losses in task_losses.items():\n",
    "    base_loss = losses[1]\n",
    "    losses = losses[0]\n",
    "\n",
    "    task_losses[task_name][0] = [(base_loss - loss) for loss in losses]\n",
    "\n",
    "\n",
    "df = pd.DataFrame([\n",
    "    {\"task\": task_name, \"feature\": feature, \"loss\": loss}\n",
    "    for task_name, losses in task_losses.items()\n",
    "    for feature, loss in zip(features, losses[0])\n",
    "])\n",
    "\n",
    "\n",
    "\n",
    "heatmap = np.zeros((len(task_names), len(features)))\n",
    "\n",
    "for i, task_name in enumerate(task_names):\n",
    "    for j, feature in enumerate(features):\n",
    "        heatmap[i, j] = task_losses[task_name][0][j]\n",
    "\n",
    "fig = px.imshow(heatmap, x=[str(x) for x in features], y=task_names)\n",
    "\n",
    "fig.show()\n"
   ]
  },
  {
   "cell_type": "code",
   "execution_count": 75,
   "metadata": {},
   "outputs": [
    {
     "data": {
      "application/vnd.plotly.v1+json": {
       "config": {
        "plotlyServerURL": "https://plot.ly"
       },
       "data": [
        {
         "coloraxis": "coloraxis",
         "hovertemplate": "x: %{x}<br>y: %{y}<br>color: %{z}<extra></extra>",
         "name": "0",
         "type": "heatmap",
         "x": [
          "9600",
          "23682",
          "32643",
          "31620",
          "27268",
          "27401",
          "6413",
          "24206",
          "12943",
          "16016",
          "9488",
          "13458",
          "14612",
          "19097",
          "7578",
          "16671",
          "19112",
          "7739",
          "8125",
          "32320",
          "6594",
          "7491",
          "15947",
          "5579",
          "15356",
          "16340",
          "24925",
          "30814",
          "4448",
          "26594",
          "11618",
          "6756",
          "6629",
          "5991",
          "16490",
          "2539",
          "26987",
          "6765",
          "18416",
          "2930",
          "2931",
          "22136",
          "6780"
         ],
         "xaxis": "x",
         "y": [
          "en_es",
          "antonyms",
          "person_profession",
          "es_en",
          "present_simple_gerund",
          "present_simple_past_simple",
          "person_profession",
          "person_language",
          "country_capital",
          "football_player_position"
         ],
         "yaxis": "y",
         "z": [
          [
           -0.0625,
           0.234375,
           0.09375,
           0.25,
           -0.625,
           -1.09375,
           0.09375,
           0.15625,
           -0.1875,
           -0.09375,
           0.359375,
           0.03125,
           0.46875,
           0.234375,
           0.5,
           0.125,
           -0.09375,
           -0.28125,
           -0.3125,
           0.328125,
           0.03125,
           -9.28125,
           -0.34375,
           -0.28125,
           0.390625,
           0.484375,
           0.25,
           -0.25,
           0.03125,
           -0.09375,
           0.421875,
           -0.15625,
           0.3125,
           0.15625,
           0.0625,
           0.03125,
           -1.75,
           -0.21875,
           -0.3125,
           0.1875,
           0.1875,
           0.28125,
           0.15625
          ],
          [
           -0.73046875,
           -0.0078125,
           0.140625,
           -0.65234375,
           0.21484375,
           -0.38671875,
           -0.30078125,
           -0.51171875,
           0.234375,
           -0.16015625,
           -0.49609375,
           -0.21484375,
           0.0546875,
           -0.89453125,
           -0.25390625,
           -0.51171875,
           -0.26171875,
           -0.23046875,
           -0.17578125,
           0.3125,
           0.171875,
           -7.07421875,
           -0.47265625,
           -0.12890625,
           0.0546875,
           0.17578125,
           -0.12109375,
           -0.14453125,
           -0.19140625,
           0.296875,
           -0.82421875,
           -0.29296875,
           -0.29296875,
           0.15234375,
           0.34765625,
           0.04296875,
           0.22265625,
           -0.07421875,
           -0.36328125,
           -0.31640625,
           -0.37890625,
           -2.05859375,
           -0.04296875
          ],
          [
           -0.296875,
           -0.21875,
           -0.265625,
           -0.890625,
           -0.53125,
           -1.4375,
           -0.15625,
           -0.53125,
           -0.375,
           -0.0625,
           0.25,
           -0.40625,
           0.203125,
           -0.046875,
           0.109375,
           -0.28125,
           -0.25,
           -0.484375,
           -0.96875,
           -0.328125,
           -1.34375,
           -5.65625,
           -0.015625,
           -0.046875,
           -0.015625,
           -0.46875,
           -0.265625,
           -0.4375,
           0.03125,
           -0.015625,
           -0.15625,
           -0.421875,
           -0.078125,
           -0.0625,
           -0.203125,
           -1.0625,
           0.3125,
           0.296875,
           -0.046875,
           -0.28125,
           -0.34375,
           -0.21875,
           -0.140625
          ],
          [
           -0.484375,
           -0.671875,
           0.265625,
           -0.765625,
           -0.671875,
           -1.59375,
           -0.578125,
           -0.953125,
           -1.203125,
           -1.203125,
           -0.640625,
           -0.484375,
           -0.015625,
           -0.453125,
           -0.234375,
           -0.21875,
           -0.21875,
           -0.90625,
           -1.15625,
           -0.1875,
           -1.1875,
           -7.96875,
           -0.40625,
           -0.65625,
           -0.234375,
           -0.125,
           -0.09375,
           -0.46875,
           -0.15625,
           0.1875,
           0.125,
           -0.390625,
           -0.03125,
           -0.890625,
           -0.34375,
           -0.875,
           -0.09375,
           -0.328125,
           -0.71875,
           -0.5,
           -0.3125,
           -0.359375,
           0.03125
          ],
          [
           0.1484375,
           -2.2255859375,
           0.017578125,
           0.13330078125,
           -2.8505859375,
           0.1005859375,
           -0.0419921875,
           0.0693359375,
           0.1435546875,
           0.0419921875,
           -0.0400390625,
           -0.0927734375,
           -0.0927734375,
           0.0439453125,
           -0.0615234375,
           0.09765625,
           0.11328125,
           -0.0380859375,
           0.15087890625,
           0.0361328125,
           -0.7294921875,
           -6.3505859375,
           -0.0478515625,
           -0.1044921875,
           -0.3037109375,
           0.037109375,
           -0.0693359375,
           -0.0908203125,
           -0.1142578125,
           -0.0712890625,
           -0.1279296875,
           -0.1044921875,
           -0.2314453125,
           -0.0517578125,
           -0.0283203125,
           -0.0244140625,
           -0.0615234375,
           0.0517578125,
           -0.1943359375,
           -1.2412109375,
           0.103515625,
           0.064453125,
           0.0869140625
          ],
          [
           0.203125,
           -0.015625,
           0.1640625,
           0.0546875,
           -2.03125,
           0.31640625,
           0.0625,
           0.1484375,
           0.09375,
           0.140625,
           0.125,
           0.1015625,
           0.33203125,
           0,
           -0.015625,
           0.1328125,
           0.1171875,
           -0.015625,
           0.28515625,
           0.046875,
           -0.5546875,
           -6.28125,
           -0.1484375,
           0.34765625,
           -3.53125,
           0.125,
           0.1328125,
           0.0859375,
           0.0546875,
           -0.0625,
           0.0625,
           0.171875,
           0.1015625,
           0.203125,
           0.1640625,
           0.015625,
           0.37109375,
           0.1015625,
           0.1328125,
           -0.0078125,
           0.0625,
           0.1171875,
           0.03125
          ],
          [
           -0.296875,
           -0.21875,
           -0.265625,
           -0.890625,
           -0.53125,
           -1.4375,
           -0.15625,
           -0.53125,
           -0.375,
           -0.0625,
           0.25,
           -0.40625,
           0.203125,
           -0.046875,
           0.109375,
           -0.28125,
           -0.25,
           -0.484375,
           -0.96875,
           -0.328125,
           -1.34375,
           -5.65625,
           -0.015625,
           -0.046875,
           -0.015625,
           -0.46875,
           -0.265625,
           -0.4375,
           0.03125,
           -0.015625,
           -0.15625,
           -0.421875,
           -0.078125,
           -0.0625,
           -0.203125,
           -1.0625,
           0.3125,
           0.296875,
           -0.046875,
           -0.28125,
           -0.34375,
           -0.21875,
           -0.140625
          ],
          [
           -1.09375,
           -0.1328125,
           -0.03125,
           -0.125,
           -0.53125,
           -0.6640625,
           0.0546875,
           -0.171875,
           -0.7421875,
           -0.140625,
           0.359375,
           0.1875,
           0.0546875,
           -0.203125,
           -0.1015625,
           -0.1328125,
           -0.1171875,
           -0.15625,
           -0.1953125,
           -0.1171875,
           -0.2421875,
           -0.1875,
           -0.171875,
           -0.0390625,
           0.2109375,
           -0.71875,
           -0.71875,
           -0.078125,
           0.09375,
           -0.3125,
           0.25390625,
           -0.046875,
           -0.015625,
           -0.1328125,
           -0.1953125,
           -0.46875,
           0.25390625,
           0.0703125,
           0.09375,
           -0.40625,
           0.0625,
           -0.328125,
           0.1171875
          ],
          [
           -0.109375,
           -3.3046875,
           0.2890625,
           -0.5234375,
           -0.0703125,
           -0.046875,
           -0.203125,
           -0.7421875,
           0.125,
           0.09375,
           0.046875,
           -0.015625,
           -0.1015625,
           0.1015625,
           -0.234375,
           -0.0078125,
           -0.3671875,
           -0.1484375,
           -1.0234375,
           0,
           0.328125,
           -0.140625,
           -0.3671875,
           0.1640625,
           0.046875,
           0,
           -0.1875,
           -0.15625,
           0.109375,
           0.15625,
           0.0390625,
           -0.0703125,
           0.125,
           0.0078125,
           0,
           -0.5078125,
           0.296875,
           -0.1796875,
           -0.046875,
           0.5390625,
           0.0234375,
           -0.2578125,
           -0.4921875
          ],
          [
           -0.34375,
           -1.90625,
           0.4921875,
           -1.65625,
           -0.234375,
           -3,
           -0.578125,
           -2.28125,
           -0.953125,
           -1.0625,
           -0.203125,
           -0.3125,
           -0.453125,
           0.21875,
           -1.421875,
           -0.265625,
           -0.0625,
           -0.03125,
           -3.25,
           0.125,
           -1.421875,
           -5.03125,
           -0.3125,
           0.234375,
           -0.03125,
           0.046875,
           -1.546875,
           0.0625,
           -0.15625,
           0.15625,
           -0.203125,
           -0.828125,
           0,
           -0.828125,
           -0.171875,
           -1.390625,
           -0.1875,
           -0.46875,
           -0.5,
           -0.9375,
           -0.484375,
           0.09375,
           -0.59375
          ]
         ]
        }
       ],
       "layout": {
        "coloraxis": {
         "colorscale": [
          [
           0,
           "#0d0887"
          ],
          [
           0.1111111111111111,
           "#46039f"
          ],
          [
           0.2222222222222222,
           "#7201a8"
          ],
          [
           0.3333333333333333,
           "#9c179e"
          ],
          [
           0.4444444444444444,
           "#bd3786"
          ],
          [
           0.5555555555555556,
           "#d8576b"
          ],
          [
           0.6666666666666666,
           "#ed7953"
          ],
          [
           0.7777777777777778,
           "#fb9f3a"
          ],
          [
           0.8888888888888888,
           "#fdca26"
          ],
          [
           1,
           "#f0f921"
          ]
         ]
        },
        "margin": {
         "t": 60
        },
        "template": {
         "data": {
          "bar": [
           {
            "error_x": {
             "color": "#2a3f5f"
            },
            "error_y": {
             "color": "#2a3f5f"
            },
            "marker": {
             "line": {
              "color": "#E5ECF6",
              "width": 0.5
             },
             "pattern": {
              "fillmode": "overlay",
              "size": 10,
              "solidity": 0.2
             }
            },
            "type": "bar"
           }
          ],
          "barpolar": [
           {
            "marker": {
             "line": {
              "color": "#E5ECF6",
              "width": 0.5
             },
             "pattern": {
              "fillmode": "overlay",
              "size": 10,
              "solidity": 0.2
             }
            },
            "type": "barpolar"
           }
          ],
          "carpet": [
           {
            "aaxis": {
             "endlinecolor": "#2a3f5f",
             "gridcolor": "white",
             "linecolor": "white",
             "minorgridcolor": "white",
             "startlinecolor": "#2a3f5f"
            },
            "baxis": {
             "endlinecolor": "#2a3f5f",
             "gridcolor": "white",
             "linecolor": "white",
             "minorgridcolor": "white",
             "startlinecolor": "#2a3f5f"
            },
            "type": "carpet"
           }
          ],
          "choropleth": [
           {
            "colorbar": {
             "outlinewidth": 0,
             "ticks": ""
            },
            "type": "choropleth"
           }
          ],
          "contour": [
           {
            "colorbar": {
             "outlinewidth": 0,
             "ticks": ""
            },
            "colorscale": [
             [
              0,
              "#0d0887"
             ],
             [
              0.1111111111111111,
              "#46039f"
             ],
             [
              0.2222222222222222,
              "#7201a8"
             ],
             [
              0.3333333333333333,
              "#9c179e"
             ],
             [
              0.4444444444444444,
              "#bd3786"
             ],
             [
              0.5555555555555556,
              "#d8576b"
             ],
             [
              0.6666666666666666,
              "#ed7953"
             ],
             [
              0.7777777777777778,
              "#fb9f3a"
             ],
             [
              0.8888888888888888,
              "#fdca26"
             ],
             [
              1,
              "#f0f921"
             ]
            ],
            "type": "contour"
           }
          ],
          "contourcarpet": [
           {
            "colorbar": {
             "outlinewidth": 0,
             "ticks": ""
            },
            "type": "contourcarpet"
           }
          ],
          "heatmap": [
           {
            "colorbar": {
             "outlinewidth": 0,
             "ticks": ""
            },
            "colorscale": [
             [
              0,
              "#0d0887"
             ],
             [
              0.1111111111111111,
              "#46039f"
             ],
             [
              0.2222222222222222,
              "#7201a8"
             ],
             [
              0.3333333333333333,
              "#9c179e"
             ],
             [
              0.4444444444444444,
              "#bd3786"
             ],
             [
              0.5555555555555556,
              "#d8576b"
             ],
             [
              0.6666666666666666,
              "#ed7953"
             ],
             [
              0.7777777777777778,
              "#fb9f3a"
             ],
             [
              0.8888888888888888,
              "#fdca26"
             ],
             [
              1,
              "#f0f921"
             ]
            ],
            "type": "heatmap"
           }
          ],
          "heatmapgl": [
           {
            "colorbar": {
             "outlinewidth": 0,
             "ticks": ""
            },
            "colorscale": [
             [
              0,
              "#0d0887"
             ],
             [
              0.1111111111111111,
              "#46039f"
             ],
             [
              0.2222222222222222,
              "#7201a8"
             ],
             [
              0.3333333333333333,
              "#9c179e"
             ],
             [
              0.4444444444444444,
              "#bd3786"
             ],
             [
              0.5555555555555556,
              "#d8576b"
             ],
             [
              0.6666666666666666,
              "#ed7953"
             ],
             [
              0.7777777777777778,
              "#fb9f3a"
             ],
             [
              0.8888888888888888,
              "#fdca26"
             ],
             [
              1,
              "#f0f921"
             ]
            ],
            "type": "heatmapgl"
           }
          ],
          "histogram": [
           {
            "marker": {
             "pattern": {
              "fillmode": "overlay",
              "size": 10,
              "solidity": 0.2
             }
            },
            "type": "histogram"
           }
          ],
          "histogram2d": [
           {
            "colorbar": {
             "outlinewidth": 0,
             "ticks": ""
            },
            "colorscale": [
             [
              0,
              "#0d0887"
             ],
             [
              0.1111111111111111,
              "#46039f"
             ],
             [
              0.2222222222222222,
              "#7201a8"
             ],
             [
              0.3333333333333333,
              "#9c179e"
             ],
             [
              0.4444444444444444,
              "#bd3786"
             ],
             [
              0.5555555555555556,
              "#d8576b"
             ],
             [
              0.6666666666666666,
              "#ed7953"
             ],
             [
              0.7777777777777778,
              "#fb9f3a"
             ],
             [
              0.8888888888888888,
              "#fdca26"
             ],
             [
              1,
              "#f0f921"
             ]
            ],
            "type": "histogram2d"
           }
          ],
          "histogram2dcontour": [
           {
            "colorbar": {
             "outlinewidth": 0,
             "ticks": ""
            },
            "colorscale": [
             [
              0,
              "#0d0887"
             ],
             [
              0.1111111111111111,
              "#46039f"
             ],
             [
              0.2222222222222222,
              "#7201a8"
             ],
             [
              0.3333333333333333,
              "#9c179e"
             ],
             [
              0.4444444444444444,
              "#bd3786"
             ],
             [
              0.5555555555555556,
              "#d8576b"
             ],
             [
              0.6666666666666666,
              "#ed7953"
             ],
             [
              0.7777777777777778,
              "#fb9f3a"
             ],
             [
              0.8888888888888888,
              "#fdca26"
             ],
             [
              1,
              "#f0f921"
             ]
            ],
            "type": "histogram2dcontour"
           }
          ],
          "mesh3d": [
           {
            "colorbar": {
             "outlinewidth": 0,
             "ticks": ""
            },
            "type": "mesh3d"
           }
          ],
          "parcoords": [
           {
            "line": {
             "colorbar": {
              "outlinewidth": 0,
              "ticks": ""
             }
            },
            "type": "parcoords"
           }
          ],
          "pie": [
           {
            "automargin": true,
            "type": "pie"
           }
          ],
          "scatter": [
           {
            "fillpattern": {
             "fillmode": "overlay",
             "size": 10,
             "solidity": 0.2
            },
            "type": "scatter"
           }
          ],
          "scatter3d": [
           {
            "line": {
             "colorbar": {
              "outlinewidth": 0,
              "ticks": ""
             }
            },
            "marker": {
             "colorbar": {
              "outlinewidth": 0,
              "ticks": ""
             }
            },
            "type": "scatter3d"
           }
          ],
          "scattercarpet": [
           {
            "marker": {
             "colorbar": {
              "outlinewidth": 0,
              "ticks": ""
             }
            },
            "type": "scattercarpet"
           }
          ],
          "scattergeo": [
           {
            "marker": {
             "colorbar": {
              "outlinewidth": 0,
              "ticks": ""
             }
            },
            "type": "scattergeo"
           }
          ],
          "scattergl": [
           {
            "marker": {
             "colorbar": {
              "outlinewidth": 0,
              "ticks": ""
             }
            },
            "type": "scattergl"
           }
          ],
          "scattermapbox": [
           {
            "marker": {
             "colorbar": {
              "outlinewidth": 0,
              "ticks": ""
             }
            },
            "type": "scattermapbox"
           }
          ],
          "scatterpolar": [
           {
            "marker": {
             "colorbar": {
              "outlinewidth": 0,
              "ticks": ""
             }
            },
            "type": "scatterpolar"
           }
          ],
          "scatterpolargl": [
           {
            "marker": {
             "colorbar": {
              "outlinewidth": 0,
              "ticks": ""
             }
            },
            "type": "scatterpolargl"
           }
          ],
          "scatterternary": [
           {
            "marker": {
             "colorbar": {
              "outlinewidth": 0,
              "ticks": ""
             }
            },
            "type": "scatterternary"
           }
          ],
          "surface": [
           {
            "colorbar": {
             "outlinewidth": 0,
             "ticks": ""
            },
            "colorscale": [
             [
              0,
              "#0d0887"
             ],
             [
              0.1111111111111111,
              "#46039f"
             ],
             [
              0.2222222222222222,
              "#7201a8"
             ],
             [
              0.3333333333333333,
              "#9c179e"
             ],
             [
              0.4444444444444444,
              "#bd3786"
             ],
             [
              0.5555555555555556,
              "#d8576b"
             ],
             [
              0.6666666666666666,
              "#ed7953"
             ],
             [
              0.7777777777777778,
              "#fb9f3a"
             ],
             [
              0.8888888888888888,
              "#fdca26"
             ],
             [
              1,
              "#f0f921"
             ]
            ],
            "type": "surface"
           }
          ],
          "table": [
           {
            "cells": {
             "fill": {
              "color": "#EBF0F8"
             },
             "line": {
              "color": "white"
             }
            },
            "header": {
             "fill": {
              "color": "#C8D4E3"
             },
             "line": {
              "color": "white"
             }
            },
            "type": "table"
           }
          ]
         },
         "layout": {
          "annotationdefaults": {
           "arrowcolor": "#2a3f5f",
           "arrowhead": 0,
           "arrowwidth": 1
          },
          "autotypenumbers": "strict",
          "coloraxis": {
           "colorbar": {
            "outlinewidth": 0,
            "ticks": ""
           }
          },
          "colorscale": {
           "diverging": [
            [
             0,
             "#8e0152"
            ],
            [
             0.1,
             "#c51b7d"
            ],
            [
             0.2,
             "#de77ae"
            ],
            [
             0.3,
             "#f1b6da"
            ],
            [
             0.4,
             "#fde0ef"
            ],
            [
             0.5,
             "#f7f7f7"
            ],
            [
             0.6,
             "#e6f5d0"
            ],
            [
             0.7,
             "#b8e186"
            ],
            [
             0.8,
             "#7fbc41"
            ],
            [
             0.9,
             "#4d9221"
            ],
            [
             1,
             "#276419"
            ]
           ],
           "sequential": [
            [
             0,
             "#0d0887"
            ],
            [
             0.1111111111111111,
             "#46039f"
            ],
            [
             0.2222222222222222,
             "#7201a8"
            ],
            [
             0.3333333333333333,
             "#9c179e"
            ],
            [
             0.4444444444444444,
             "#bd3786"
            ],
            [
             0.5555555555555556,
             "#d8576b"
            ],
            [
             0.6666666666666666,
             "#ed7953"
            ],
            [
             0.7777777777777778,
             "#fb9f3a"
            ],
            [
             0.8888888888888888,
             "#fdca26"
            ],
            [
             1,
             "#f0f921"
            ]
           ],
           "sequentialminus": [
            [
             0,
             "#0d0887"
            ],
            [
             0.1111111111111111,
             "#46039f"
            ],
            [
             0.2222222222222222,
             "#7201a8"
            ],
            [
             0.3333333333333333,
             "#9c179e"
            ],
            [
             0.4444444444444444,
             "#bd3786"
            ],
            [
             0.5555555555555556,
             "#d8576b"
            ],
            [
             0.6666666666666666,
             "#ed7953"
            ],
            [
             0.7777777777777778,
             "#fb9f3a"
            ],
            [
             0.8888888888888888,
             "#fdca26"
            ],
            [
             1,
             "#f0f921"
            ]
           ]
          },
          "colorway": [
           "#636efa",
           "#EF553B",
           "#00cc96",
           "#ab63fa",
           "#FFA15A",
           "#19d3f3",
           "#FF6692",
           "#B6E880",
           "#FF97FF",
           "#FECB52"
          ],
          "font": {
           "color": "#2a3f5f"
          },
          "geo": {
           "bgcolor": "white",
           "lakecolor": "white",
           "landcolor": "#E5ECF6",
           "showlakes": true,
           "showland": true,
           "subunitcolor": "white"
          },
          "hoverlabel": {
           "align": "left"
          },
          "hovermode": "closest",
          "mapbox": {
           "style": "light"
          },
          "paper_bgcolor": "white",
          "plot_bgcolor": "#E5ECF6",
          "polar": {
           "angularaxis": {
            "gridcolor": "white",
            "linecolor": "white",
            "ticks": ""
           },
           "bgcolor": "#E5ECF6",
           "radialaxis": {
            "gridcolor": "white",
            "linecolor": "white",
            "ticks": ""
           }
          },
          "scene": {
           "xaxis": {
            "backgroundcolor": "#E5ECF6",
            "gridcolor": "white",
            "gridwidth": 2,
            "linecolor": "white",
            "showbackground": true,
            "ticks": "",
            "zerolinecolor": "white"
           },
           "yaxis": {
            "backgroundcolor": "#E5ECF6",
            "gridcolor": "white",
            "gridwidth": 2,
            "linecolor": "white",
            "showbackground": true,
            "ticks": "",
            "zerolinecolor": "white"
           },
           "zaxis": {
            "backgroundcolor": "#E5ECF6",
            "gridcolor": "white",
            "gridwidth": 2,
            "linecolor": "white",
            "showbackground": true,
            "ticks": "",
            "zerolinecolor": "white"
           }
          },
          "shapedefaults": {
           "line": {
            "color": "#2a3f5f"
           }
          },
          "ternary": {
           "aaxis": {
            "gridcolor": "white",
            "linecolor": "white",
            "ticks": ""
           },
           "baxis": {
            "gridcolor": "white",
            "linecolor": "white",
            "ticks": ""
           },
           "bgcolor": "#E5ECF6",
           "caxis": {
            "gridcolor": "white",
            "linecolor": "white",
            "ticks": ""
           }
          },
          "title": {
           "x": 0.05
          },
          "xaxis": {
           "automargin": true,
           "gridcolor": "white",
           "linecolor": "white",
           "ticks": "",
           "title": {
            "standoff": 15
           },
           "zerolinecolor": "white",
           "zerolinewidth": 2
          },
          "yaxis": {
           "automargin": true,
           "gridcolor": "white",
           "linecolor": "white",
           "ticks": "",
           "title": {
            "standoff": 15
           },
           "zerolinecolor": "white",
           "zerolinewidth": 2
          }
         }
        },
        "xaxis": {
         "anchor": "y",
         "constrain": "domain",
         "domain": [
          0,
          1
         ],
         "scaleanchor": "y"
        },
        "yaxis": {
         "anchor": "x",
         "autorange": "reversed",
         "constrain": "domain",
         "domain": [
          0,
          1
         ]
        }
       }
      },
      "text/html": [
       "<div>                            <div id=\"2ccd7cb7-0ec6-4823-9720-2ea7d60e8ffa\" class=\"plotly-graph-div\" style=\"height:525px; width:100%;\"></div>            <script type=\"text/javascript\">                require([\"plotly\"], function(Plotly) {                    window.PLOTLYENV=window.PLOTLYENV || {};                                    if (document.getElementById(\"2ccd7cb7-0ec6-4823-9720-2ea7d60e8ffa\")) {                    Plotly.newPlot(                        \"2ccd7cb7-0ec6-4823-9720-2ea7d60e8ffa\",                        [{\"coloraxis\":\"coloraxis\",\"name\":\"0\",\"x\":[\"9600\",\"23682\",\"32643\",\"31620\",\"27268\",\"27401\",\"6413\",\"24206\",\"12943\",\"16016\",\"9488\",\"13458\",\"14612\",\"19097\",\"7578\",\"16671\",\"19112\",\"7739\",\"8125\",\"32320\",\"6594\",\"7491\",\"15947\",\"5579\",\"15356\",\"16340\",\"24925\",\"30814\",\"4448\",\"26594\",\"11618\",\"6756\",\"6629\",\"5991\",\"16490\",\"2539\",\"26987\",\"6765\",\"18416\",\"2930\",\"2931\",\"22136\",\"6780\"],\"y\":[\"en_es\",\"antonyms\",\"person_profession\",\"es_en\",\"present_simple_gerund\",\"present_simple_past_simple\",\"person_profession\",\"person_language\",\"country_capital\",\"football_player_position\"],\"z\":[[-0.0625,0.234375,0.09375,0.25,-0.625,-1.09375,0.09375,0.15625,-0.1875,-0.09375,0.359375,0.03125,0.46875,0.234375,0.5,0.125,-0.09375,-0.28125,-0.3125,0.328125,0.03125,-9.28125,-0.34375,-0.28125,0.390625,0.484375,0.25,-0.25,0.03125,-0.09375,0.421875,-0.15625,0.3125,0.15625,0.0625,0.03125,-1.75,-0.21875,-0.3125,0.1875,0.1875,0.28125,0.15625],[-0.73046875,-0.0078125,0.140625,-0.65234375,0.21484375,-0.38671875,-0.30078125,-0.51171875,0.234375,-0.16015625,-0.49609375,-0.21484375,0.0546875,-0.89453125,-0.25390625,-0.51171875,-0.26171875,-0.23046875,-0.17578125,0.3125,0.171875,-7.07421875,-0.47265625,-0.12890625,0.0546875,0.17578125,-0.12109375,-0.14453125,-0.19140625,0.296875,-0.82421875,-0.29296875,-0.29296875,0.15234375,0.34765625,0.04296875,0.22265625,-0.07421875,-0.36328125,-0.31640625,-0.37890625,-2.05859375,-0.04296875],[-0.296875,-0.21875,-0.265625,-0.890625,-0.53125,-1.4375,-0.15625,-0.53125,-0.375,-0.0625,0.25,-0.40625,0.203125,-0.046875,0.109375,-0.28125,-0.25,-0.484375,-0.96875,-0.328125,-1.34375,-5.65625,-0.015625,-0.046875,-0.015625,-0.46875,-0.265625,-0.4375,0.03125,-0.015625,-0.15625,-0.421875,-0.078125,-0.0625,-0.203125,-1.0625,0.3125,0.296875,-0.046875,-0.28125,-0.34375,-0.21875,-0.140625],[-0.484375,-0.671875,0.265625,-0.765625,-0.671875,-1.59375,-0.578125,-0.953125,-1.203125,-1.203125,-0.640625,-0.484375,-0.015625,-0.453125,-0.234375,-0.21875,-0.21875,-0.90625,-1.15625,-0.1875,-1.1875,-7.96875,-0.40625,-0.65625,-0.234375,-0.125,-0.09375,-0.46875,-0.15625,0.1875,0.125,-0.390625,-0.03125,-0.890625,-0.34375,-0.875,-0.09375,-0.328125,-0.71875,-0.5,-0.3125,-0.359375,0.03125],[0.1484375,-2.2255859375,0.017578125,0.13330078125,-2.8505859375,0.1005859375,-0.0419921875,0.0693359375,0.1435546875,0.0419921875,-0.0400390625,-0.0927734375,-0.0927734375,0.0439453125,-0.0615234375,0.09765625,0.11328125,-0.0380859375,0.15087890625,0.0361328125,-0.7294921875,-6.3505859375,-0.0478515625,-0.1044921875,-0.3037109375,0.037109375,-0.0693359375,-0.0908203125,-0.1142578125,-0.0712890625,-0.1279296875,-0.1044921875,-0.2314453125,-0.0517578125,-0.0283203125,-0.0244140625,-0.0615234375,0.0517578125,-0.1943359375,-1.2412109375,0.103515625,0.064453125,0.0869140625],[0.203125,-0.015625,0.1640625,0.0546875,-2.03125,0.31640625,0.0625,0.1484375,0.09375,0.140625,0.125,0.1015625,0.33203125,0.0,-0.015625,0.1328125,0.1171875,-0.015625,0.28515625,0.046875,-0.5546875,-6.28125,-0.1484375,0.34765625,-3.53125,0.125,0.1328125,0.0859375,0.0546875,-0.0625,0.0625,0.171875,0.1015625,0.203125,0.1640625,0.015625,0.37109375,0.1015625,0.1328125,-0.0078125,0.0625,0.1171875,0.03125],[-0.296875,-0.21875,-0.265625,-0.890625,-0.53125,-1.4375,-0.15625,-0.53125,-0.375,-0.0625,0.25,-0.40625,0.203125,-0.046875,0.109375,-0.28125,-0.25,-0.484375,-0.96875,-0.328125,-1.34375,-5.65625,-0.015625,-0.046875,-0.015625,-0.46875,-0.265625,-0.4375,0.03125,-0.015625,-0.15625,-0.421875,-0.078125,-0.0625,-0.203125,-1.0625,0.3125,0.296875,-0.046875,-0.28125,-0.34375,-0.21875,-0.140625],[-1.09375,-0.1328125,-0.03125,-0.125,-0.53125,-0.6640625,0.0546875,-0.171875,-0.7421875,-0.140625,0.359375,0.1875,0.0546875,-0.203125,-0.1015625,-0.1328125,-0.1171875,-0.15625,-0.1953125,-0.1171875,-0.2421875,-0.1875,-0.171875,-0.0390625,0.2109375,-0.71875,-0.71875,-0.078125,0.09375,-0.3125,0.25390625,-0.046875,-0.015625,-0.1328125,-0.1953125,-0.46875,0.25390625,0.0703125,0.09375,-0.40625,0.0625,-0.328125,0.1171875],[-0.109375,-3.3046875,0.2890625,-0.5234375,-0.0703125,-0.046875,-0.203125,-0.7421875,0.125,0.09375,0.046875,-0.015625,-0.1015625,0.1015625,-0.234375,-0.0078125,-0.3671875,-0.1484375,-1.0234375,0.0,0.328125,-0.140625,-0.3671875,0.1640625,0.046875,0.0,-0.1875,-0.15625,0.109375,0.15625,0.0390625,-0.0703125,0.125,0.0078125,0.0,-0.5078125,0.296875,-0.1796875,-0.046875,0.5390625,0.0234375,-0.2578125,-0.4921875],[-0.34375,-1.90625,0.4921875,-1.65625,-0.234375,-3.0,-0.578125,-2.28125,-0.953125,-1.0625,-0.203125,-0.3125,-0.453125,0.21875,-1.421875,-0.265625,-0.0625,-0.03125,-3.25,0.125,-1.421875,-5.03125,-0.3125,0.234375,-0.03125,0.046875,-1.546875,0.0625,-0.15625,0.15625,-0.203125,-0.828125,0.0,-0.828125,-0.171875,-1.390625,-0.1875,-0.46875,-0.5,-0.9375,-0.484375,0.09375,-0.59375]],\"type\":\"heatmap\",\"xaxis\":\"x\",\"yaxis\":\"y\",\"hovertemplate\":\"x: %{x}\\u003cbr\\u003ey: %{y}\\u003cbr\\u003ecolor: %{z}\\u003cextra\\u003e\\u003c\\u002fextra\\u003e\"}],                        {\"template\":{\"data\":{\"histogram2dcontour\":[{\"type\":\"histogram2dcontour\",\"colorbar\":{\"outlinewidth\":0,\"ticks\":\"\"},\"colorscale\":[[0.0,\"#0d0887\"],[0.1111111111111111,\"#46039f\"],[0.2222222222222222,\"#7201a8\"],[0.3333333333333333,\"#9c179e\"],[0.4444444444444444,\"#bd3786\"],[0.5555555555555556,\"#d8576b\"],[0.6666666666666666,\"#ed7953\"],[0.7777777777777778,\"#fb9f3a\"],[0.8888888888888888,\"#fdca26\"],[1.0,\"#f0f921\"]]}],\"choropleth\":[{\"type\":\"choropleth\",\"colorbar\":{\"outlinewidth\":0,\"ticks\":\"\"}}],\"histogram2d\":[{\"type\":\"histogram2d\",\"colorbar\":{\"outlinewidth\":0,\"ticks\":\"\"},\"colorscale\":[[0.0,\"#0d0887\"],[0.1111111111111111,\"#46039f\"],[0.2222222222222222,\"#7201a8\"],[0.3333333333333333,\"#9c179e\"],[0.4444444444444444,\"#bd3786\"],[0.5555555555555556,\"#d8576b\"],[0.6666666666666666,\"#ed7953\"],[0.7777777777777778,\"#fb9f3a\"],[0.8888888888888888,\"#fdca26\"],[1.0,\"#f0f921\"]]}],\"heatmap\":[{\"type\":\"heatmap\",\"colorbar\":{\"outlinewidth\":0,\"ticks\":\"\"},\"colorscale\":[[0.0,\"#0d0887\"],[0.1111111111111111,\"#46039f\"],[0.2222222222222222,\"#7201a8\"],[0.3333333333333333,\"#9c179e\"],[0.4444444444444444,\"#bd3786\"],[0.5555555555555556,\"#d8576b\"],[0.6666666666666666,\"#ed7953\"],[0.7777777777777778,\"#fb9f3a\"],[0.8888888888888888,\"#fdca26\"],[1.0,\"#f0f921\"]]}],\"heatmapgl\":[{\"type\":\"heatmapgl\",\"colorbar\":{\"outlinewidth\":0,\"ticks\":\"\"},\"colorscale\":[[0.0,\"#0d0887\"],[0.1111111111111111,\"#46039f\"],[0.2222222222222222,\"#7201a8\"],[0.3333333333333333,\"#9c179e\"],[0.4444444444444444,\"#bd3786\"],[0.5555555555555556,\"#d8576b\"],[0.6666666666666666,\"#ed7953\"],[0.7777777777777778,\"#fb9f3a\"],[0.8888888888888888,\"#fdca26\"],[1.0,\"#f0f921\"]]}],\"contourcarpet\":[{\"type\":\"contourcarpet\",\"colorbar\":{\"outlinewidth\":0,\"ticks\":\"\"}}],\"contour\":[{\"type\":\"contour\",\"colorbar\":{\"outlinewidth\":0,\"ticks\":\"\"},\"colorscale\":[[0.0,\"#0d0887\"],[0.1111111111111111,\"#46039f\"],[0.2222222222222222,\"#7201a8\"],[0.3333333333333333,\"#9c179e\"],[0.4444444444444444,\"#bd3786\"],[0.5555555555555556,\"#d8576b\"],[0.6666666666666666,\"#ed7953\"],[0.7777777777777778,\"#fb9f3a\"],[0.8888888888888888,\"#fdca26\"],[1.0,\"#f0f921\"]]}],\"surface\":[{\"type\":\"surface\",\"colorbar\":{\"outlinewidth\":0,\"ticks\":\"\"},\"colorscale\":[[0.0,\"#0d0887\"],[0.1111111111111111,\"#46039f\"],[0.2222222222222222,\"#7201a8\"],[0.3333333333333333,\"#9c179e\"],[0.4444444444444444,\"#bd3786\"],[0.5555555555555556,\"#d8576b\"],[0.6666666666666666,\"#ed7953\"],[0.7777777777777778,\"#fb9f3a\"],[0.8888888888888888,\"#fdca26\"],[1.0,\"#f0f921\"]]}],\"mesh3d\":[{\"type\":\"mesh3d\",\"colorbar\":{\"outlinewidth\":0,\"ticks\":\"\"}}],\"scatter\":[{\"fillpattern\":{\"fillmode\":\"overlay\",\"size\":10,\"solidity\":0.2},\"type\":\"scatter\"}],\"parcoords\":[{\"type\":\"parcoords\",\"line\":{\"colorbar\":{\"outlinewidth\":0,\"ticks\":\"\"}}}],\"scatterpolargl\":[{\"type\":\"scatterpolargl\",\"marker\":{\"colorbar\":{\"outlinewidth\":0,\"ticks\":\"\"}}}],\"bar\":[{\"error_x\":{\"color\":\"#2a3f5f\"},\"error_y\":{\"color\":\"#2a3f5f\"},\"marker\":{\"line\":{\"color\":\"#E5ECF6\",\"width\":0.5},\"pattern\":{\"fillmode\":\"overlay\",\"size\":10,\"solidity\":0.2}},\"type\":\"bar\"}],\"scattergeo\":[{\"type\":\"scattergeo\",\"marker\":{\"colorbar\":{\"outlinewidth\":0,\"ticks\":\"\"}}}],\"scatterpolar\":[{\"type\":\"scatterpolar\",\"marker\":{\"colorbar\":{\"outlinewidth\":0,\"ticks\":\"\"}}}],\"histogram\":[{\"marker\":{\"pattern\":{\"fillmode\":\"overlay\",\"size\":10,\"solidity\":0.2}},\"type\":\"histogram\"}],\"scattergl\":[{\"type\":\"scattergl\",\"marker\":{\"colorbar\":{\"outlinewidth\":0,\"ticks\":\"\"}}}],\"scatter3d\":[{\"type\":\"scatter3d\",\"line\":{\"colorbar\":{\"outlinewidth\":0,\"ticks\":\"\"}},\"marker\":{\"colorbar\":{\"outlinewidth\":0,\"ticks\":\"\"}}}],\"scattermapbox\":[{\"type\":\"scattermapbox\",\"marker\":{\"colorbar\":{\"outlinewidth\":0,\"ticks\":\"\"}}}],\"scatterternary\":[{\"type\":\"scatterternary\",\"marker\":{\"colorbar\":{\"outlinewidth\":0,\"ticks\":\"\"}}}],\"scattercarpet\":[{\"type\":\"scattercarpet\",\"marker\":{\"colorbar\":{\"outlinewidth\":0,\"ticks\":\"\"}}}],\"carpet\":[{\"aaxis\":{\"endlinecolor\":\"#2a3f5f\",\"gridcolor\":\"white\",\"linecolor\":\"white\",\"minorgridcolor\":\"white\",\"startlinecolor\":\"#2a3f5f\"},\"baxis\":{\"endlinecolor\":\"#2a3f5f\",\"gridcolor\":\"white\",\"linecolor\":\"white\",\"minorgridcolor\":\"white\",\"startlinecolor\":\"#2a3f5f\"},\"type\":\"carpet\"}],\"table\":[{\"cells\":{\"fill\":{\"color\":\"#EBF0F8\"},\"line\":{\"color\":\"white\"}},\"header\":{\"fill\":{\"color\":\"#C8D4E3\"},\"line\":{\"color\":\"white\"}},\"type\":\"table\"}],\"barpolar\":[{\"marker\":{\"line\":{\"color\":\"#E5ECF6\",\"width\":0.5},\"pattern\":{\"fillmode\":\"overlay\",\"size\":10,\"solidity\":0.2}},\"type\":\"barpolar\"}],\"pie\":[{\"automargin\":true,\"type\":\"pie\"}]},\"layout\":{\"autotypenumbers\":\"strict\",\"colorway\":[\"#636efa\",\"#EF553B\",\"#00cc96\",\"#ab63fa\",\"#FFA15A\",\"#19d3f3\",\"#FF6692\",\"#B6E880\",\"#FF97FF\",\"#FECB52\"],\"font\":{\"color\":\"#2a3f5f\"},\"hovermode\":\"closest\",\"hoverlabel\":{\"align\":\"left\"},\"paper_bgcolor\":\"white\",\"plot_bgcolor\":\"#E5ECF6\",\"polar\":{\"bgcolor\":\"#E5ECF6\",\"angularaxis\":{\"gridcolor\":\"white\",\"linecolor\":\"white\",\"ticks\":\"\"},\"radialaxis\":{\"gridcolor\":\"white\",\"linecolor\":\"white\",\"ticks\":\"\"}},\"ternary\":{\"bgcolor\":\"#E5ECF6\",\"aaxis\":{\"gridcolor\":\"white\",\"linecolor\":\"white\",\"ticks\":\"\"},\"baxis\":{\"gridcolor\":\"white\",\"linecolor\":\"white\",\"ticks\":\"\"},\"caxis\":{\"gridcolor\":\"white\",\"linecolor\":\"white\",\"ticks\":\"\"}},\"coloraxis\":{\"colorbar\":{\"outlinewidth\":0,\"ticks\":\"\"}},\"colorscale\":{\"sequential\":[[0.0,\"#0d0887\"],[0.1111111111111111,\"#46039f\"],[0.2222222222222222,\"#7201a8\"],[0.3333333333333333,\"#9c179e\"],[0.4444444444444444,\"#bd3786\"],[0.5555555555555556,\"#d8576b\"],[0.6666666666666666,\"#ed7953\"],[0.7777777777777778,\"#fb9f3a\"],[0.8888888888888888,\"#fdca26\"],[1.0,\"#f0f921\"]],\"sequentialminus\":[[0.0,\"#0d0887\"],[0.1111111111111111,\"#46039f\"],[0.2222222222222222,\"#7201a8\"],[0.3333333333333333,\"#9c179e\"],[0.4444444444444444,\"#bd3786\"],[0.5555555555555556,\"#d8576b\"],[0.6666666666666666,\"#ed7953\"],[0.7777777777777778,\"#fb9f3a\"],[0.8888888888888888,\"#fdca26\"],[1.0,\"#f0f921\"]],\"diverging\":[[0,\"#8e0152\"],[0.1,\"#c51b7d\"],[0.2,\"#de77ae\"],[0.3,\"#f1b6da\"],[0.4,\"#fde0ef\"],[0.5,\"#f7f7f7\"],[0.6,\"#e6f5d0\"],[0.7,\"#b8e186\"],[0.8,\"#7fbc41\"],[0.9,\"#4d9221\"],[1,\"#276419\"]]},\"xaxis\":{\"gridcolor\":\"white\",\"linecolor\":\"white\",\"ticks\":\"\",\"title\":{\"standoff\":15},\"zerolinecolor\":\"white\",\"automargin\":true,\"zerolinewidth\":2},\"yaxis\":{\"gridcolor\":\"white\",\"linecolor\":\"white\",\"ticks\":\"\",\"title\":{\"standoff\":15},\"zerolinecolor\":\"white\",\"automargin\":true,\"zerolinewidth\":2},\"scene\":{\"xaxis\":{\"backgroundcolor\":\"#E5ECF6\",\"gridcolor\":\"white\",\"linecolor\":\"white\",\"showbackground\":true,\"ticks\":\"\",\"zerolinecolor\":\"white\",\"gridwidth\":2},\"yaxis\":{\"backgroundcolor\":\"#E5ECF6\",\"gridcolor\":\"white\",\"linecolor\":\"white\",\"showbackground\":true,\"ticks\":\"\",\"zerolinecolor\":\"white\",\"gridwidth\":2},\"zaxis\":{\"backgroundcolor\":\"#E5ECF6\",\"gridcolor\":\"white\",\"linecolor\":\"white\",\"showbackground\":true,\"ticks\":\"\",\"zerolinecolor\":\"white\",\"gridwidth\":2}},\"shapedefaults\":{\"line\":{\"color\":\"#2a3f5f\"}},\"annotationdefaults\":{\"arrowcolor\":\"#2a3f5f\",\"arrowhead\":0,\"arrowwidth\":1},\"geo\":{\"bgcolor\":\"white\",\"landcolor\":\"#E5ECF6\",\"subunitcolor\":\"white\",\"showland\":true,\"showlakes\":true,\"lakecolor\":\"white\"},\"title\":{\"x\":0.05},\"mapbox\":{\"style\":\"light\"}}},\"xaxis\":{\"anchor\":\"y\",\"domain\":[0.0,1.0],\"scaleanchor\":\"y\",\"constrain\":\"domain\"},\"yaxis\":{\"anchor\":\"x\",\"domain\":[0.0,1.0],\"autorange\":\"reversed\",\"constrain\":\"domain\"},\"coloraxis\":{\"colorscale\":[[0.0,\"#0d0887\"],[0.1111111111111111,\"#46039f\"],[0.2222222222222222,\"#7201a8\"],[0.3333333333333333,\"#9c179e\"],[0.4444444444444444,\"#bd3786\"],[0.5555555555555556,\"#d8576b\"],[0.6666666666666666,\"#ed7953\"],[0.7777777777777778,\"#fb9f3a\"],[0.8888888888888888,\"#fdca26\"],[1.0,\"#f0f921\"]]},\"margin\":{\"t\":60}},                        {\"responsive\": true}                    ).then(function(){\n",
       "                            \n",
       "var gd = document.getElementById('2ccd7cb7-0ec6-4823-9720-2ea7d60e8ffa');\n",
       "var x = new MutationObserver(function (mutations, observer) {{\n",
       "        var display = window.getComputedStyle(gd).display;\n",
       "        if (!display || display === 'none') {{\n",
       "            console.log([gd, 'removed!']);\n",
       "            Plotly.purge(gd);\n",
       "            observer.disconnect();\n",
       "        }}\n",
       "}});\n",
       "\n",
       "// Listen for the removal of the full notebook cells\n",
       "var notebookContainer = gd.closest('#notebook-container');\n",
       "if (notebookContainer) {{\n",
       "    x.observe(notebookContainer, {childList: true});\n",
       "}}\n",
       "\n",
       "// Listen for the clearing of the current output cell\n",
       "var outputEl = gd.closest('.output');\n",
       "if (outputEl) {{\n",
       "    x.observe(outputEl, {childList: true});\n",
       "}}\n",
       "\n",
       "                        })                };                });            </script>        </div>"
      ]
     },
     "metadata": {},
     "output_type": "display_data"
    }
   ],
   "source": [
    "import plotly.express as px\n",
    "import pandas as pd\n",
    "import numpy as np\n",
    "\n",
    "for task_name, losses in task_losses.items():\n",
    "    base_loss = losses[1]\n",
    "    losses = losses[0]\n",
    "\n",
    "    task_losses[task_name][0] = [(base_loss - loss) for loss in losses]\n",
    "\n",
    "\n",
    "df = pd.DataFrame([\n",
    "    {\"task\": task_name, \"feature\": feature, \"loss\": loss}\n",
    "    for task_name, losses in task_losses.items()\n",
    "    for feature, loss in zip(features, losses[0])\n",
    "])\n",
    "\n",
    "\n",
    "\n",
    "heatmap = np.zeros((len(task_names), len(features)))\n",
    "\n",
    "for i, task_name in enumerate(task_names):\n",
    "    for j, feature in enumerate(features):\n",
    "        heatmap[i, j] = task_losses[task_name][0][j]\n",
    "\n",
    "fig = px.imshow(heatmap, x=[str(x) for x in features], y=task_names)\n",
    "\n",
    "fig.show()\n"
   ]
  },
  {
   "cell_type": "code",
   "execution_count": 77,
   "metadata": {},
   "outputs": [
    {
     "data": {
      "application/vnd.plotly.v1+json": {
       "config": {
        "plotlyServerURL": "https://plot.ly"
       },
       "data": [
        {
         "coloraxis": "coloraxis",
         "hovertemplate": "x: %{x}<br>y: %{y}<br>color: %{z}<extra></extra>",
         "name": "0",
         "type": "heatmap",
         "x": [
          "9600",
          "23682",
          "32643",
          "31620",
          "27268",
          "27401",
          "6413",
          "24206",
          "12943",
          "16016",
          "9488",
          "13458",
          "14612",
          "19097",
          "7578",
          "16671",
          "19112",
          "7739",
          "8125",
          "32320",
          "6594",
          "7491",
          "15947",
          "5579",
          "15356",
          "16340",
          "24925",
          "30814",
          "4448",
          "26594",
          "11618",
          "6756",
          "6629",
          "5991",
          "16490",
          "2539",
          "26987",
          "6765",
          "18416",
          "2930",
          "2931",
          "22136",
          "6780"
         ],
         "xaxis": "x",
         "y": [
          "en_es",
          "antonyms",
          "person_profession",
          "es_en",
          "present_simple_gerund",
          "present_simple_past_simple",
          "person_profession",
          "person_language",
          "country_capital",
          "football_player_position"
         ],
         "yaxis": "y",
         "z": [
          [
           -5.65625,
           -15.90625,
           -2.84375,
           -7.21875,
           -9.09375,
           -10.03125,
           -1.96875,
           -2.84375,
           -7.78125,
           -5.90625,
           -8.78125,
           -3.40625,
           -6.84375,
           -3.3125,
           -2.28125,
           -6.03125,
           -14.15625,
           -7.40625,
           -5.28125,
           -4.46875,
           -12.78125,
           -11.90625,
           -1.46875,
           -8.03125,
           -3.1875,
           -2.65625,
           -4.21875,
           -4.21875,
           -1.28125,
           -4.84375,
           -6.40625,
           -1.375,
           -5.40625,
           -15.15625,
           -2.8125,
           -6.84375,
           -15.78125,
           -0.84375,
           -4.28125,
           -4.96875,
           -0.5625,
           -4.59375,
           -5.34375
          ],
          [
           -11.44921875,
           -15.13671875,
           0.05078125,
           -10.13671875,
           -4.44921875,
           -6.51171875,
           -4.44921875,
           -5.01171875,
           -6.38671875,
           -8.26171875,
           -9.76171875,
           -2.44921875,
           -4.98046875,
           -9.94921875,
           -5.98046875,
           -8.76171875,
           -11.94921875,
           -9.51171875,
           -8.26171875,
           -4.04296875,
           -13.88671875,
           -10.07421875,
           -1.21484375,
           -6.32421875,
           -3.16796875,
           -1.08984375,
           -1.82421875,
           -3.10546875,
           -3.01171875,
           -5.88671875,
           -10.82421875,
           -4.13671875,
           -3.29296875,
           -7.94921875,
           -2.76171875,
           -6.32421875,
           -7.69921875,
           -1.49609375,
           -2.60546875,
           -6.91796875,
           -3.63671875,
           -12.19921875,
           -4.69921875
          ],
          [
           -8.09375,
           -5.46875,
           -0.84375,
           -8.09375,
           -6.34375,
           -15.53125,
           -6.65625,
           -6.40625,
           -4.5625,
           -5.90625,
           -13.03125,
           -10.65625,
           -2.1875,
           -7.53125,
           -4.96875,
           -14.40625,
           -8.03125,
           -4.375,
           -4.1875,
           -5.15625,
           -13.40625,
           -14.53125,
           -5.84375,
           -4.3125,
           -2.75,
           -1.28125,
           -5.46875,
           -7.84375,
           -2.65625,
           -6.84375,
           -2.9375,
           -5.03125,
           -4.40625,
           -5.84375,
           -2.625,
           -9.59375,
           -5.96875,
           -1.875,
           -10.21875,
           -3.375,
           -0.9375,
           -1.625,
           -7.21875
          ],
          [
           -6.90625,
           -13.90625,
           -1.4375,
           -5.84375,
           -9.28125,
           -12.03125,
           -2.46875,
           -5.46875,
           -7.78125,
           -9.40625,
           -10.09375,
           -5.15625,
           -5.71875,
           -3.75,
           -2.8125,
           -10.46875,
           -10.46875,
           -7.40625,
           -8.03125,
           -2,
           -13.03125,
           -10.78125,
           -2.25,
           -8.34375,
           -5.15625,
           -1.9375,
           -2.8125,
           -4,
           -2.65625,
           -8.03125,
           -4.75,
           -4.21875,
           -7.65625,
           -12.09375,
           -4.40625,
           -11.09375,
           -7.84375,
           -1.5,
           -6.09375,
           -8.78125,
           -2.5,
           -5.0625,
           -5.96875
          ],
          [
           -5.1005859375,
           -18.6318359375,
           -1.5068359375,
           -5.8818359375,
           -13.8818359375,
           -10.0068359375,
           -1.0615234375,
           -2.7255859375,
           -2.1787109375,
           -5.4443359375,
           -12.5068359375,
           -1.6083984375,
           -9.8818359375,
           -2.9599609375,
           -3.3818359375,
           -8.6943359375,
           -10.6318359375,
           -7.4130859375,
           -7.3818359375,
           -4.8505859375,
           -12.8818359375,
           -8.0693359375,
           -0.1298828125,
           -9.5693359375,
           -11.0068359375,
           -1.9287109375,
           -3.9130859375,
           -4.4443359375,
           -2.7255859375,
           -5.5068359375,
           -4.1005859375,
           -1.0068359375,
           -7.7255859375,
           -14.3818359375,
           -3.4287109375,
           -9.1943359375,
           -8.6318359375,
           -0.1396484375,
           -2.8037109375,
           -9.7568359375,
           -3.7255859375,
           -5.7255859375,
           -7.4130859375
          ],
          [
           -5.59375,
           -16.03125,
           -0.796875,
           -3.4375,
           -11.78125,
           -9.90625,
           -1.609375,
           -1.78125,
           -2.6875,
           -3.875,
           -9.40625,
           -1.25,
           -9.15625,
           -3.0625,
           -2.015625,
           -7.15625,
           -9.15625,
           -6.96875,
           -4.75,
           -2.3125,
           -14.90625,
           -6.90625,
           0.0625,
           -6.15625,
           -10.46875,
           -0.2109375,
           -3,
           -3.5,
           -2.84375,
           -4.1875,
           -2.34375,
           -2.28125,
           -5.84375,
           -15.90625,
           -2.671875,
           -11.21875,
           -7.96875,
           -0.15625,
           -2.484375,
           -9.21875,
           -6.125,
           -4.46875,
           -8.84375
          ],
          [
           -8.09375,
           -5.46875,
           -0.84375,
           -8.09375,
           -6.34375,
           -15.53125,
           -6.65625,
           -6.40625,
           -4.5625,
           -5.90625,
           -13.03125,
           -10.65625,
           -2.1875,
           -7.53125,
           -4.96875,
           -14.40625,
           -8.03125,
           -4.375,
           -4.1875,
           -5.15625,
           -13.40625,
           -14.53125,
           -5.84375,
           -4.3125,
           -2.75,
           -1.28125,
           -5.46875,
           -7.84375,
           -2.65625,
           -6.84375,
           -2.9375,
           -5.03125,
           -4.40625,
           -5.84375,
           -2.625,
           -9.59375,
           -5.96875,
           -1.875,
           -10.21875,
           -3.375,
           -0.9375,
           -1.625,
           -7.21875
          ],
          [
           -6.515625,
           -7.453125,
           -0.484375,
           -5.203125,
           -7.453125,
           -11.203125,
           -0.375,
           -3.328125,
           -4.203125,
           -1.984375,
           -7.078125,
           -1.078125,
           -4.703125,
           -2.859375,
           -5.796875,
           -2.171875,
           -12.640625,
           -5.171875,
           -2.578125,
           -3.828125,
           -9.578125,
           -6.015625,
           -1.328125,
           -5.984375,
           -1.1875,
           -2.6875,
           -11.140625,
           -1.5625,
           -0.765625,
           -4.953125,
           -4.234375,
           -3.328125,
           -3.640625,
           -5.796875,
           -1.484375,
           -10.765625,
           -4.796875,
           -0.65625,
           -4.890625,
           -9.703125,
           -2.40625,
           -2.046875,
           -4.546875
          ],
          [
           -1.2421875,
           -13.9921875,
           -2.0234375,
           -5.9296875,
           -6.8046875,
           -5.3671875,
           -3.0234375,
           -4.7734375,
           -1.9140625,
           -6.8046875,
           -9.0546875,
           -5.1796875,
           -8.6171875,
           -1.4609375,
           -7.8046875,
           -3.8984375,
           -10.9296875,
           -4.3984375,
           -7.4921875,
           -2.1796875,
           -3.8359375,
           -7.0546875,
           -1.1484375,
           -4.9921875,
           -2.3984375,
           -2.3203125,
           -8.6796875,
           -6.1484375,
           -2.3359375,
           -6.4296875,
           -5.0859375,
           -3.0546875,
           -1.7109375,
           -8.1171875,
           -2.2109375,
           -11.3671875,
           -6.9296875,
           -1.5078125,
           -3.1484375,
           -7.1796875,
           -1.4609375,
           -4.3984375,
           -10.9296875
          ],
          [
           -9.625,
           -8.5625,
           -1.3125,
           -7.5625,
           -6.6875,
           -14.6875,
           -8.6875,
           -6.5625,
           -5.5625,
           -7.9375,
           -11.75,
           -6.875,
           -6.5625,
           -5.875,
           -6.1875,
           -14.5625,
           -9.9375,
           -5.28125,
           -7.5,
           -7.0625,
           -16.9375,
           -14.5625,
           -6.25,
           -4.96875,
           -6.125,
           -3.46875,
           -7.25,
           -8.3125,
           -8,
           -7.625,
           -3.75,
           -7.4375,
           -2.875,
           -7.9375,
           -5.53125,
           -7.25,
           -7.9375,
           -2.5,
           -11.1875,
           -7.0625,
           -3.03125,
           -3.71875,
           -6.5625
          ]
         ]
        }
       ],
       "layout": {
        "coloraxis": {
         "colorscale": [
          [
           0,
           "#0d0887"
          ],
          [
           0.1111111111111111,
           "#46039f"
          ],
          [
           0.2222222222222222,
           "#7201a8"
          ],
          [
           0.3333333333333333,
           "#9c179e"
          ],
          [
           0.4444444444444444,
           "#bd3786"
          ],
          [
           0.5555555555555556,
           "#d8576b"
          ],
          [
           0.6666666666666666,
           "#ed7953"
          ],
          [
           0.7777777777777778,
           "#fb9f3a"
          ],
          [
           0.8888888888888888,
           "#fdca26"
          ],
          [
           1,
           "#f0f921"
          ]
         ]
        },
        "margin": {
         "t": 60
        },
        "template": {
         "data": {
          "bar": [
           {
            "error_x": {
             "color": "#2a3f5f"
            },
            "error_y": {
             "color": "#2a3f5f"
            },
            "marker": {
             "line": {
              "color": "#E5ECF6",
              "width": 0.5
             },
             "pattern": {
              "fillmode": "overlay",
              "size": 10,
              "solidity": 0.2
             }
            },
            "type": "bar"
           }
          ],
          "barpolar": [
           {
            "marker": {
             "line": {
              "color": "#E5ECF6",
              "width": 0.5
             },
             "pattern": {
              "fillmode": "overlay",
              "size": 10,
              "solidity": 0.2
             }
            },
            "type": "barpolar"
           }
          ],
          "carpet": [
           {
            "aaxis": {
             "endlinecolor": "#2a3f5f",
             "gridcolor": "white",
             "linecolor": "white",
             "minorgridcolor": "white",
             "startlinecolor": "#2a3f5f"
            },
            "baxis": {
             "endlinecolor": "#2a3f5f",
             "gridcolor": "white",
             "linecolor": "white",
             "minorgridcolor": "white",
             "startlinecolor": "#2a3f5f"
            },
            "type": "carpet"
           }
          ],
          "choropleth": [
           {
            "colorbar": {
             "outlinewidth": 0,
             "ticks": ""
            },
            "type": "choropleth"
           }
          ],
          "contour": [
           {
            "colorbar": {
             "outlinewidth": 0,
             "ticks": ""
            },
            "colorscale": [
             [
              0,
              "#0d0887"
             ],
             [
              0.1111111111111111,
              "#46039f"
             ],
             [
              0.2222222222222222,
              "#7201a8"
             ],
             [
              0.3333333333333333,
              "#9c179e"
             ],
             [
              0.4444444444444444,
              "#bd3786"
             ],
             [
              0.5555555555555556,
              "#d8576b"
             ],
             [
              0.6666666666666666,
              "#ed7953"
             ],
             [
              0.7777777777777778,
              "#fb9f3a"
             ],
             [
              0.8888888888888888,
              "#fdca26"
             ],
             [
              1,
              "#f0f921"
             ]
            ],
            "type": "contour"
           }
          ],
          "contourcarpet": [
           {
            "colorbar": {
             "outlinewidth": 0,
             "ticks": ""
            },
            "type": "contourcarpet"
           }
          ],
          "heatmap": [
           {
            "colorbar": {
             "outlinewidth": 0,
             "ticks": ""
            },
            "colorscale": [
             [
              0,
              "#0d0887"
             ],
             [
              0.1111111111111111,
              "#46039f"
             ],
             [
              0.2222222222222222,
              "#7201a8"
             ],
             [
              0.3333333333333333,
              "#9c179e"
             ],
             [
              0.4444444444444444,
              "#bd3786"
             ],
             [
              0.5555555555555556,
              "#d8576b"
             ],
             [
              0.6666666666666666,
              "#ed7953"
             ],
             [
              0.7777777777777778,
              "#fb9f3a"
             ],
             [
              0.8888888888888888,
              "#fdca26"
             ],
             [
              1,
              "#f0f921"
             ]
            ],
            "type": "heatmap"
           }
          ],
          "heatmapgl": [
           {
            "colorbar": {
             "outlinewidth": 0,
             "ticks": ""
            },
            "colorscale": [
             [
              0,
              "#0d0887"
             ],
             [
              0.1111111111111111,
              "#46039f"
             ],
             [
              0.2222222222222222,
              "#7201a8"
             ],
             [
              0.3333333333333333,
              "#9c179e"
             ],
             [
              0.4444444444444444,
              "#bd3786"
             ],
             [
              0.5555555555555556,
              "#d8576b"
             ],
             [
              0.6666666666666666,
              "#ed7953"
             ],
             [
              0.7777777777777778,
              "#fb9f3a"
             ],
             [
              0.8888888888888888,
              "#fdca26"
             ],
             [
              1,
              "#f0f921"
             ]
            ],
            "type": "heatmapgl"
           }
          ],
          "histogram": [
           {
            "marker": {
             "pattern": {
              "fillmode": "overlay",
              "size": 10,
              "solidity": 0.2
             }
            },
            "type": "histogram"
           }
          ],
          "histogram2d": [
           {
            "colorbar": {
             "outlinewidth": 0,
             "ticks": ""
            },
            "colorscale": [
             [
              0,
              "#0d0887"
             ],
             [
              0.1111111111111111,
              "#46039f"
             ],
             [
              0.2222222222222222,
              "#7201a8"
             ],
             [
              0.3333333333333333,
              "#9c179e"
             ],
             [
              0.4444444444444444,
              "#bd3786"
             ],
             [
              0.5555555555555556,
              "#d8576b"
             ],
             [
              0.6666666666666666,
              "#ed7953"
             ],
             [
              0.7777777777777778,
              "#fb9f3a"
             ],
             [
              0.8888888888888888,
              "#fdca26"
             ],
             [
              1,
              "#f0f921"
             ]
            ],
            "type": "histogram2d"
           }
          ],
          "histogram2dcontour": [
           {
            "colorbar": {
             "outlinewidth": 0,
             "ticks": ""
            },
            "colorscale": [
             [
              0,
              "#0d0887"
             ],
             [
              0.1111111111111111,
              "#46039f"
             ],
             [
              0.2222222222222222,
              "#7201a8"
             ],
             [
              0.3333333333333333,
              "#9c179e"
             ],
             [
              0.4444444444444444,
              "#bd3786"
             ],
             [
              0.5555555555555556,
              "#d8576b"
             ],
             [
              0.6666666666666666,
              "#ed7953"
             ],
             [
              0.7777777777777778,
              "#fb9f3a"
             ],
             [
              0.8888888888888888,
              "#fdca26"
             ],
             [
              1,
              "#f0f921"
             ]
            ],
            "type": "histogram2dcontour"
           }
          ],
          "mesh3d": [
           {
            "colorbar": {
             "outlinewidth": 0,
             "ticks": ""
            },
            "type": "mesh3d"
           }
          ],
          "parcoords": [
           {
            "line": {
             "colorbar": {
              "outlinewidth": 0,
              "ticks": ""
             }
            },
            "type": "parcoords"
           }
          ],
          "pie": [
           {
            "automargin": true,
            "type": "pie"
           }
          ],
          "scatter": [
           {
            "fillpattern": {
             "fillmode": "overlay",
             "size": 10,
             "solidity": 0.2
            },
            "type": "scatter"
           }
          ],
          "scatter3d": [
           {
            "line": {
             "colorbar": {
              "outlinewidth": 0,
              "ticks": ""
             }
            },
            "marker": {
             "colorbar": {
              "outlinewidth": 0,
              "ticks": ""
             }
            },
            "type": "scatter3d"
           }
          ],
          "scattercarpet": [
           {
            "marker": {
             "colorbar": {
              "outlinewidth": 0,
              "ticks": ""
             }
            },
            "type": "scattercarpet"
           }
          ],
          "scattergeo": [
           {
            "marker": {
             "colorbar": {
              "outlinewidth": 0,
              "ticks": ""
             }
            },
            "type": "scattergeo"
           }
          ],
          "scattergl": [
           {
            "marker": {
             "colorbar": {
              "outlinewidth": 0,
              "ticks": ""
             }
            },
            "type": "scattergl"
           }
          ],
          "scattermapbox": [
           {
            "marker": {
             "colorbar": {
              "outlinewidth": 0,
              "ticks": ""
             }
            },
            "type": "scattermapbox"
           }
          ],
          "scatterpolar": [
           {
            "marker": {
             "colorbar": {
              "outlinewidth": 0,
              "ticks": ""
             }
            },
            "type": "scatterpolar"
           }
          ],
          "scatterpolargl": [
           {
            "marker": {
             "colorbar": {
              "outlinewidth": 0,
              "ticks": ""
             }
            },
            "type": "scatterpolargl"
           }
          ],
          "scatterternary": [
           {
            "marker": {
             "colorbar": {
              "outlinewidth": 0,
              "ticks": ""
             }
            },
            "type": "scatterternary"
           }
          ],
          "surface": [
           {
            "colorbar": {
             "outlinewidth": 0,
             "ticks": ""
            },
            "colorscale": [
             [
              0,
              "#0d0887"
             ],
             [
              0.1111111111111111,
              "#46039f"
             ],
             [
              0.2222222222222222,
              "#7201a8"
             ],
             [
              0.3333333333333333,
              "#9c179e"
             ],
             [
              0.4444444444444444,
              "#bd3786"
             ],
             [
              0.5555555555555556,
              "#d8576b"
             ],
             [
              0.6666666666666666,
              "#ed7953"
             ],
             [
              0.7777777777777778,
              "#fb9f3a"
             ],
             [
              0.8888888888888888,
              "#fdca26"
             ],
             [
              1,
              "#f0f921"
             ]
            ],
            "type": "surface"
           }
          ],
          "table": [
           {
            "cells": {
             "fill": {
              "color": "#EBF0F8"
             },
             "line": {
              "color": "white"
             }
            },
            "header": {
             "fill": {
              "color": "#C8D4E3"
             },
             "line": {
              "color": "white"
             }
            },
            "type": "table"
           }
          ]
         },
         "layout": {
          "annotationdefaults": {
           "arrowcolor": "#2a3f5f",
           "arrowhead": 0,
           "arrowwidth": 1
          },
          "autotypenumbers": "strict",
          "coloraxis": {
           "colorbar": {
            "outlinewidth": 0,
            "ticks": ""
           }
          },
          "colorscale": {
           "diverging": [
            [
             0,
             "#8e0152"
            ],
            [
             0.1,
             "#c51b7d"
            ],
            [
             0.2,
             "#de77ae"
            ],
            [
             0.3,
             "#f1b6da"
            ],
            [
             0.4,
             "#fde0ef"
            ],
            [
             0.5,
             "#f7f7f7"
            ],
            [
             0.6,
             "#e6f5d0"
            ],
            [
             0.7,
             "#b8e186"
            ],
            [
             0.8,
             "#7fbc41"
            ],
            [
             0.9,
             "#4d9221"
            ],
            [
             1,
             "#276419"
            ]
           ],
           "sequential": [
            [
             0,
             "#0d0887"
            ],
            [
             0.1111111111111111,
             "#46039f"
            ],
            [
             0.2222222222222222,
             "#7201a8"
            ],
            [
             0.3333333333333333,
             "#9c179e"
            ],
            [
             0.4444444444444444,
             "#bd3786"
            ],
            [
             0.5555555555555556,
             "#d8576b"
            ],
            [
             0.6666666666666666,
             "#ed7953"
            ],
            [
             0.7777777777777778,
             "#fb9f3a"
            ],
            [
             0.8888888888888888,
             "#fdca26"
            ],
            [
             1,
             "#f0f921"
            ]
           ],
           "sequentialminus": [
            [
             0,
             "#0d0887"
            ],
            [
             0.1111111111111111,
             "#46039f"
            ],
            [
             0.2222222222222222,
             "#7201a8"
            ],
            [
             0.3333333333333333,
             "#9c179e"
            ],
            [
             0.4444444444444444,
             "#bd3786"
            ],
            [
             0.5555555555555556,
             "#d8576b"
            ],
            [
             0.6666666666666666,
             "#ed7953"
            ],
            [
             0.7777777777777778,
             "#fb9f3a"
            ],
            [
             0.8888888888888888,
             "#fdca26"
            ],
            [
             1,
             "#f0f921"
            ]
           ]
          },
          "colorway": [
           "#636efa",
           "#EF553B",
           "#00cc96",
           "#ab63fa",
           "#FFA15A",
           "#19d3f3",
           "#FF6692",
           "#B6E880",
           "#FF97FF",
           "#FECB52"
          ],
          "font": {
           "color": "#2a3f5f"
          },
          "geo": {
           "bgcolor": "white",
           "lakecolor": "white",
           "landcolor": "#E5ECF6",
           "showlakes": true,
           "showland": true,
           "subunitcolor": "white"
          },
          "hoverlabel": {
           "align": "left"
          },
          "hovermode": "closest",
          "mapbox": {
           "style": "light"
          },
          "paper_bgcolor": "white",
          "plot_bgcolor": "#E5ECF6",
          "polar": {
           "angularaxis": {
            "gridcolor": "white",
            "linecolor": "white",
            "ticks": ""
           },
           "bgcolor": "#E5ECF6",
           "radialaxis": {
            "gridcolor": "white",
            "linecolor": "white",
            "ticks": ""
           }
          },
          "scene": {
           "xaxis": {
            "backgroundcolor": "#E5ECF6",
            "gridcolor": "white",
            "gridwidth": 2,
            "linecolor": "white",
            "showbackground": true,
            "ticks": "",
            "zerolinecolor": "white"
           },
           "yaxis": {
            "backgroundcolor": "#E5ECF6",
            "gridcolor": "white",
            "gridwidth": 2,
            "linecolor": "white",
            "showbackground": true,
            "ticks": "",
            "zerolinecolor": "white"
           },
           "zaxis": {
            "backgroundcolor": "#E5ECF6",
            "gridcolor": "white",
            "gridwidth": 2,
            "linecolor": "white",
            "showbackground": true,
            "ticks": "",
            "zerolinecolor": "white"
           }
          },
          "shapedefaults": {
           "line": {
            "color": "#2a3f5f"
           }
          },
          "ternary": {
           "aaxis": {
            "gridcolor": "white",
            "linecolor": "white",
            "ticks": ""
           },
           "baxis": {
            "gridcolor": "white",
            "linecolor": "white",
            "ticks": ""
           },
           "bgcolor": "#E5ECF6",
           "caxis": {
            "gridcolor": "white",
            "linecolor": "white",
            "ticks": ""
           }
          },
          "title": {
           "x": 0.05
          },
          "xaxis": {
           "automargin": true,
           "gridcolor": "white",
           "linecolor": "white",
           "ticks": "",
           "title": {
            "standoff": 15
           },
           "zerolinecolor": "white",
           "zerolinewidth": 2
          },
          "yaxis": {
           "automargin": true,
           "gridcolor": "white",
           "linecolor": "white",
           "ticks": "",
           "title": {
            "standoff": 15
           },
           "zerolinecolor": "white",
           "zerolinewidth": 2
          }
         }
        },
        "xaxis": {
         "anchor": "y",
         "constrain": "domain",
         "domain": [
          0,
          1
         ],
         "scaleanchor": "y"
        },
        "yaxis": {
         "anchor": "x",
         "autorange": "reversed",
         "constrain": "domain",
         "domain": [
          0,
          1
         ]
        }
       }
      },
      "text/html": [
       "<div>                            <div id=\"9f5142e7-e716-491e-a210-f6deb76e450f\" class=\"plotly-graph-div\" style=\"height:525px; width:100%;\"></div>            <script type=\"text/javascript\">                require([\"plotly\"], function(Plotly) {                    window.PLOTLYENV=window.PLOTLYENV || {};                                    if (document.getElementById(\"9f5142e7-e716-491e-a210-f6deb76e450f\")) {                    Plotly.newPlot(                        \"9f5142e7-e716-491e-a210-f6deb76e450f\",                        [{\"coloraxis\":\"coloraxis\",\"name\":\"0\",\"x\":[\"9600\",\"23682\",\"32643\",\"31620\",\"27268\",\"27401\",\"6413\",\"24206\",\"12943\",\"16016\",\"9488\",\"13458\",\"14612\",\"19097\",\"7578\",\"16671\",\"19112\",\"7739\",\"8125\",\"32320\",\"6594\",\"7491\",\"15947\",\"5579\",\"15356\",\"16340\",\"24925\",\"30814\",\"4448\",\"26594\",\"11618\",\"6756\",\"6629\",\"5991\",\"16490\",\"2539\",\"26987\",\"6765\",\"18416\",\"2930\",\"2931\",\"22136\",\"6780\"],\"y\":[\"en_es\",\"antonyms\",\"person_profession\",\"es_en\",\"present_simple_gerund\",\"present_simple_past_simple\",\"person_profession\",\"person_language\",\"country_capital\",\"football_player_position\"],\"z\":[[-5.65625,-15.90625,-2.84375,-7.21875,-9.09375,-10.03125,-1.96875,-2.84375,-7.78125,-5.90625,-8.78125,-3.40625,-6.84375,-3.3125,-2.28125,-6.03125,-14.15625,-7.40625,-5.28125,-4.46875,-12.78125,-11.90625,-1.46875,-8.03125,-3.1875,-2.65625,-4.21875,-4.21875,-1.28125,-4.84375,-6.40625,-1.375,-5.40625,-15.15625,-2.8125,-6.84375,-15.78125,-0.84375,-4.28125,-4.96875,-0.5625,-4.59375,-5.34375],[-11.44921875,-15.13671875,0.05078125,-10.13671875,-4.44921875,-6.51171875,-4.44921875,-5.01171875,-6.38671875,-8.26171875,-9.76171875,-2.44921875,-4.98046875,-9.94921875,-5.98046875,-8.76171875,-11.94921875,-9.51171875,-8.26171875,-4.04296875,-13.88671875,-10.07421875,-1.21484375,-6.32421875,-3.16796875,-1.08984375,-1.82421875,-3.10546875,-3.01171875,-5.88671875,-10.82421875,-4.13671875,-3.29296875,-7.94921875,-2.76171875,-6.32421875,-7.69921875,-1.49609375,-2.60546875,-6.91796875,-3.63671875,-12.19921875,-4.69921875],[-8.09375,-5.46875,-0.84375,-8.09375,-6.34375,-15.53125,-6.65625,-6.40625,-4.5625,-5.90625,-13.03125,-10.65625,-2.1875,-7.53125,-4.96875,-14.40625,-8.03125,-4.375,-4.1875,-5.15625,-13.40625,-14.53125,-5.84375,-4.3125,-2.75,-1.28125,-5.46875,-7.84375,-2.65625,-6.84375,-2.9375,-5.03125,-4.40625,-5.84375,-2.625,-9.59375,-5.96875,-1.875,-10.21875,-3.375,-0.9375,-1.625,-7.21875],[-6.90625,-13.90625,-1.4375,-5.84375,-9.28125,-12.03125,-2.46875,-5.46875,-7.78125,-9.40625,-10.09375,-5.15625,-5.71875,-3.75,-2.8125,-10.46875,-10.46875,-7.40625,-8.03125,-2.0,-13.03125,-10.78125,-2.25,-8.34375,-5.15625,-1.9375,-2.8125,-4.0,-2.65625,-8.03125,-4.75,-4.21875,-7.65625,-12.09375,-4.40625,-11.09375,-7.84375,-1.5,-6.09375,-8.78125,-2.5,-5.0625,-5.96875],[-5.1005859375,-18.6318359375,-1.5068359375,-5.8818359375,-13.8818359375,-10.0068359375,-1.0615234375,-2.7255859375,-2.1787109375,-5.4443359375,-12.5068359375,-1.6083984375,-9.8818359375,-2.9599609375,-3.3818359375,-8.6943359375,-10.6318359375,-7.4130859375,-7.3818359375,-4.8505859375,-12.8818359375,-8.0693359375,-0.1298828125,-9.5693359375,-11.0068359375,-1.9287109375,-3.9130859375,-4.4443359375,-2.7255859375,-5.5068359375,-4.1005859375,-1.0068359375,-7.7255859375,-14.3818359375,-3.4287109375,-9.1943359375,-8.6318359375,-0.1396484375,-2.8037109375,-9.7568359375,-3.7255859375,-5.7255859375,-7.4130859375],[-5.59375,-16.03125,-0.796875,-3.4375,-11.78125,-9.90625,-1.609375,-1.78125,-2.6875,-3.875,-9.40625,-1.25,-9.15625,-3.0625,-2.015625,-7.15625,-9.15625,-6.96875,-4.75,-2.3125,-14.90625,-6.90625,0.0625,-6.15625,-10.46875,-0.2109375,-3.0,-3.5,-2.84375,-4.1875,-2.34375,-2.28125,-5.84375,-15.90625,-2.671875,-11.21875,-7.96875,-0.15625,-2.484375,-9.21875,-6.125,-4.46875,-8.84375],[-8.09375,-5.46875,-0.84375,-8.09375,-6.34375,-15.53125,-6.65625,-6.40625,-4.5625,-5.90625,-13.03125,-10.65625,-2.1875,-7.53125,-4.96875,-14.40625,-8.03125,-4.375,-4.1875,-5.15625,-13.40625,-14.53125,-5.84375,-4.3125,-2.75,-1.28125,-5.46875,-7.84375,-2.65625,-6.84375,-2.9375,-5.03125,-4.40625,-5.84375,-2.625,-9.59375,-5.96875,-1.875,-10.21875,-3.375,-0.9375,-1.625,-7.21875],[-6.515625,-7.453125,-0.484375,-5.203125,-7.453125,-11.203125,-0.375,-3.328125,-4.203125,-1.984375,-7.078125,-1.078125,-4.703125,-2.859375,-5.796875,-2.171875,-12.640625,-5.171875,-2.578125,-3.828125,-9.578125,-6.015625,-1.328125,-5.984375,-1.1875,-2.6875,-11.140625,-1.5625,-0.765625,-4.953125,-4.234375,-3.328125,-3.640625,-5.796875,-1.484375,-10.765625,-4.796875,-0.65625,-4.890625,-9.703125,-2.40625,-2.046875,-4.546875],[-1.2421875,-13.9921875,-2.0234375,-5.9296875,-6.8046875,-5.3671875,-3.0234375,-4.7734375,-1.9140625,-6.8046875,-9.0546875,-5.1796875,-8.6171875,-1.4609375,-7.8046875,-3.8984375,-10.9296875,-4.3984375,-7.4921875,-2.1796875,-3.8359375,-7.0546875,-1.1484375,-4.9921875,-2.3984375,-2.3203125,-8.6796875,-6.1484375,-2.3359375,-6.4296875,-5.0859375,-3.0546875,-1.7109375,-8.1171875,-2.2109375,-11.3671875,-6.9296875,-1.5078125,-3.1484375,-7.1796875,-1.4609375,-4.3984375,-10.9296875],[-9.625,-8.5625,-1.3125,-7.5625,-6.6875,-14.6875,-8.6875,-6.5625,-5.5625,-7.9375,-11.75,-6.875,-6.5625,-5.875,-6.1875,-14.5625,-9.9375,-5.28125,-7.5,-7.0625,-16.9375,-14.5625,-6.25,-4.96875,-6.125,-3.46875,-7.25,-8.3125,-8.0,-7.625,-3.75,-7.4375,-2.875,-7.9375,-5.53125,-7.25,-7.9375,-2.5,-11.1875,-7.0625,-3.03125,-3.71875,-6.5625]],\"type\":\"heatmap\",\"xaxis\":\"x\",\"yaxis\":\"y\",\"hovertemplate\":\"x: %{x}\\u003cbr\\u003ey: %{y}\\u003cbr\\u003ecolor: %{z}\\u003cextra\\u003e\\u003c\\u002fextra\\u003e\"}],                        {\"template\":{\"data\":{\"histogram2dcontour\":[{\"type\":\"histogram2dcontour\",\"colorbar\":{\"outlinewidth\":0,\"ticks\":\"\"},\"colorscale\":[[0.0,\"#0d0887\"],[0.1111111111111111,\"#46039f\"],[0.2222222222222222,\"#7201a8\"],[0.3333333333333333,\"#9c179e\"],[0.4444444444444444,\"#bd3786\"],[0.5555555555555556,\"#d8576b\"],[0.6666666666666666,\"#ed7953\"],[0.7777777777777778,\"#fb9f3a\"],[0.8888888888888888,\"#fdca26\"],[1.0,\"#f0f921\"]]}],\"choropleth\":[{\"type\":\"choropleth\",\"colorbar\":{\"outlinewidth\":0,\"ticks\":\"\"}}],\"histogram2d\":[{\"type\":\"histogram2d\",\"colorbar\":{\"outlinewidth\":0,\"ticks\":\"\"},\"colorscale\":[[0.0,\"#0d0887\"],[0.1111111111111111,\"#46039f\"],[0.2222222222222222,\"#7201a8\"],[0.3333333333333333,\"#9c179e\"],[0.4444444444444444,\"#bd3786\"],[0.5555555555555556,\"#d8576b\"],[0.6666666666666666,\"#ed7953\"],[0.7777777777777778,\"#fb9f3a\"],[0.8888888888888888,\"#fdca26\"],[1.0,\"#f0f921\"]]}],\"heatmap\":[{\"type\":\"heatmap\",\"colorbar\":{\"outlinewidth\":0,\"ticks\":\"\"},\"colorscale\":[[0.0,\"#0d0887\"],[0.1111111111111111,\"#46039f\"],[0.2222222222222222,\"#7201a8\"],[0.3333333333333333,\"#9c179e\"],[0.4444444444444444,\"#bd3786\"],[0.5555555555555556,\"#d8576b\"],[0.6666666666666666,\"#ed7953\"],[0.7777777777777778,\"#fb9f3a\"],[0.8888888888888888,\"#fdca26\"],[1.0,\"#f0f921\"]]}],\"heatmapgl\":[{\"type\":\"heatmapgl\",\"colorbar\":{\"outlinewidth\":0,\"ticks\":\"\"},\"colorscale\":[[0.0,\"#0d0887\"],[0.1111111111111111,\"#46039f\"],[0.2222222222222222,\"#7201a8\"],[0.3333333333333333,\"#9c179e\"],[0.4444444444444444,\"#bd3786\"],[0.5555555555555556,\"#d8576b\"],[0.6666666666666666,\"#ed7953\"],[0.7777777777777778,\"#fb9f3a\"],[0.8888888888888888,\"#fdca26\"],[1.0,\"#f0f921\"]]}],\"contourcarpet\":[{\"type\":\"contourcarpet\",\"colorbar\":{\"outlinewidth\":0,\"ticks\":\"\"}}],\"contour\":[{\"type\":\"contour\",\"colorbar\":{\"outlinewidth\":0,\"ticks\":\"\"},\"colorscale\":[[0.0,\"#0d0887\"],[0.1111111111111111,\"#46039f\"],[0.2222222222222222,\"#7201a8\"],[0.3333333333333333,\"#9c179e\"],[0.4444444444444444,\"#bd3786\"],[0.5555555555555556,\"#d8576b\"],[0.6666666666666666,\"#ed7953\"],[0.7777777777777778,\"#fb9f3a\"],[0.8888888888888888,\"#fdca26\"],[1.0,\"#f0f921\"]]}],\"surface\":[{\"type\":\"surface\",\"colorbar\":{\"outlinewidth\":0,\"ticks\":\"\"},\"colorscale\":[[0.0,\"#0d0887\"],[0.1111111111111111,\"#46039f\"],[0.2222222222222222,\"#7201a8\"],[0.3333333333333333,\"#9c179e\"],[0.4444444444444444,\"#bd3786\"],[0.5555555555555556,\"#d8576b\"],[0.6666666666666666,\"#ed7953\"],[0.7777777777777778,\"#fb9f3a\"],[0.8888888888888888,\"#fdca26\"],[1.0,\"#f0f921\"]]}],\"mesh3d\":[{\"type\":\"mesh3d\",\"colorbar\":{\"outlinewidth\":0,\"ticks\":\"\"}}],\"scatter\":[{\"fillpattern\":{\"fillmode\":\"overlay\",\"size\":10,\"solidity\":0.2},\"type\":\"scatter\"}],\"parcoords\":[{\"type\":\"parcoords\",\"line\":{\"colorbar\":{\"outlinewidth\":0,\"ticks\":\"\"}}}],\"scatterpolargl\":[{\"type\":\"scatterpolargl\",\"marker\":{\"colorbar\":{\"outlinewidth\":0,\"ticks\":\"\"}}}],\"bar\":[{\"error_x\":{\"color\":\"#2a3f5f\"},\"error_y\":{\"color\":\"#2a3f5f\"},\"marker\":{\"line\":{\"color\":\"#E5ECF6\",\"width\":0.5},\"pattern\":{\"fillmode\":\"overlay\",\"size\":10,\"solidity\":0.2}},\"type\":\"bar\"}],\"scattergeo\":[{\"type\":\"scattergeo\",\"marker\":{\"colorbar\":{\"outlinewidth\":0,\"ticks\":\"\"}}}],\"scatterpolar\":[{\"type\":\"scatterpolar\",\"marker\":{\"colorbar\":{\"outlinewidth\":0,\"ticks\":\"\"}}}],\"histogram\":[{\"marker\":{\"pattern\":{\"fillmode\":\"overlay\",\"size\":10,\"solidity\":0.2}},\"type\":\"histogram\"}],\"scattergl\":[{\"type\":\"scattergl\",\"marker\":{\"colorbar\":{\"outlinewidth\":0,\"ticks\":\"\"}}}],\"scatter3d\":[{\"type\":\"scatter3d\",\"line\":{\"colorbar\":{\"outlinewidth\":0,\"ticks\":\"\"}},\"marker\":{\"colorbar\":{\"outlinewidth\":0,\"ticks\":\"\"}}}],\"scattermapbox\":[{\"type\":\"scattermapbox\",\"marker\":{\"colorbar\":{\"outlinewidth\":0,\"ticks\":\"\"}}}],\"scatterternary\":[{\"type\":\"scatterternary\",\"marker\":{\"colorbar\":{\"outlinewidth\":0,\"ticks\":\"\"}}}],\"scattercarpet\":[{\"type\":\"scattercarpet\",\"marker\":{\"colorbar\":{\"outlinewidth\":0,\"ticks\":\"\"}}}],\"carpet\":[{\"aaxis\":{\"endlinecolor\":\"#2a3f5f\",\"gridcolor\":\"white\",\"linecolor\":\"white\",\"minorgridcolor\":\"white\",\"startlinecolor\":\"#2a3f5f\"},\"baxis\":{\"endlinecolor\":\"#2a3f5f\",\"gridcolor\":\"white\",\"linecolor\":\"white\",\"minorgridcolor\":\"white\",\"startlinecolor\":\"#2a3f5f\"},\"type\":\"carpet\"}],\"table\":[{\"cells\":{\"fill\":{\"color\":\"#EBF0F8\"},\"line\":{\"color\":\"white\"}},\"header\":{\"fill\":{\"color\":\"#C8D4E3\"},\"line\":{\"color\":\"white\"}},\"type\":\"table\"}],\"barpolar\":[{\"marker\":{\"line\":{\"color\":\"#E5ECF6\",\"width\":0.5},\"pattern\":{\"fillmode\":\"overlay\",\"size\":10,\"solidity\":0.2}},\"type\":\"barpolar\"}],\"pie\":[{\"automargin\":true,\"type\":\"pie\"}]},\"layout\":{\"autotypenumbers\":\"strict\",\"colorway\":[\"#636efa\",\"#EF553B\",\"#00cc96\",\"#ab63fa\",\"#FFA15A\",\"#19d3f3\",\"#FF6692\",\"#B6E880\",\"#FF97FF\",\"#FECB52\"],\"font\":{\"color\":\"#2a3f5f\"},\"hovermode\":\"closest\",\"hoverlabel\":{\"align\":\"left\"},\"paper_bgcolor\":\"white\",\"plot_bgcolor\":\"#E5ECF6\",\"polar\":{\"bgcolor\":\"#E5ECF6\",\"angularaxis\":{\"gridcolor\":\"white\",\"linecolor\":\"white\",\"ticks\":\"\"},\"radialaxis\":{\"gridcolor\":\"white\",\"linecolor\":\"white\",\"ticks\":\"\"}},\"ternary\":{\"bgcolor\":\"#E5ECF6\",\"aaxis\":{\"gridcolor\":\"white\",\"linecolor\":\"white\",\"ticks\":\"\"},\"baxis\":{\"gridcolor\":\"white\",\"linecolor\":\"white\",\"ticks\":\"\"},\"caxis\":{\"gridcolor\":\"white\",\"linecolor\":\"white\",\"ticks\":\"\"}},\"coloraxis\":{\"colorbar\":{\"outlinewidth\":0,\"ticks\":\"\"}},\"colorscale\":{\"sequential\":[[0.0,\"#0d0887\"],[0.1111111111111111,\"#46039f\"],[0.2222222222222222,\"#7201a8\"],[0.3333333333333333,\"#9c179e\"],[0.4444444444444444,\"#bd3786\"],[0.5555555555555556,\"#d8576b\"],[0.6666666666666666,\"#ed7953\"],[0.7777777777777778,\"#fb9f3a\"],[0.8888888888888888,\"#fdca26\"],[1.0,\"#f0f921\"]],\"sequentialminus\":[[0.0,\"#0d0887\"],[0.1111111111111111,\"#46039f\"],[0.2222222222222222,\"#7201a8\"],[0.3333333333333333,\"#9c179e\"],[0.4444444444444444,\"#bd3786\"],[0.5555555555555556,\"#d8576b\"],[0.6666666666666666,\"#ed7953\"],[0.7777777777777778,\"#fb9f3a\"],[0.8888888888888888,\"#fdca26\"],[1.0,\"#f0f921\"]],\"diverging\":[[0,\"#8e0152\"],[0.1,\"#c51b7d\"],[0.2,\"#de77ae\"],[0.3,\"#f1b6da\"],[0.4,\"#fde0ef\"],[0.5,\"#f7f7f7\"],[0.6,\"#e6f5d0\"],[0.7,\"#b8e186\"],[0.8,\"#7fbc41\"],[0.9,\"#4d9221\"],[1,\"#276419\"]]},\"xaxis\":{\"gridcolor\":\"white\",\"linecolor\":\"white\",\"ticks\":\"\",\"title\":{\"standoff\":15},\"zerolinecolor\":\"white\",\"automargin\":true,\"zerolinewidth\":2},\"yaxis\":{\"gridcolor\":\"white\",\"linecolor\":\"white\",\"ticks\":\"\",\"title\":{\"standoff\":15},\"zerolinecolor\":\"white\",\"automargin\":true,\"zerolinewidth\":2},\"scene\":{\"xaxis\":{\"backgroundcolor\":\"#E5ECF6\",\"gridcolor\":\"white\",\"linecolor\":\"white\",\"showbackground\":true,\"ticks\":\"\",\"zerolinecolor\":\"white\",\"gridwidth\":2},\"yaxis\":{\"backgroundcolor\":\"#E5ECF6\",\"gridcolor\":\"white\",\"linecolor\":\"white\",\"showbackground\":true,\"ticks\":\"\",\"zerolinecolor\":\"white\",\"gridwidth\":2},\"zaxis\":{\"backgroundcolor\":\"#E5ECF6\",\"gridcolor\":\"white\",\"linecolor\":\"white\",\"showbackground\":true,\"ticks\":\"\",\"zerolinecolor\":\"white\",\"gridwidth\":2}},\"shapedefaults\":{\"line\":{\"color\":\"#2a3f5f\"}},\"annotationdefaults\":{\"arrowcolor\":\"#2a3f5f\",\"arrowhead\":0,\"arrowwidth\":1},\"geo\":{\"bgcolor\":\"white\",\"landcolor\":\"#E5ECF6\",\"subunitcolor\":\"white\",\"showland\":true,\"showlakes\":true,\"lakecolor\":\"white\"},\"title\":{\"x\":0.05},\"mapbox\":{\"style\":\"light\"}}},\"xaxis\":{\"anchor\":\"y\",\"domain\":[0.0,1.0],\"scaleanchor\":\"y\",\"constrain\":\"domain\"},\"yaxis\":{\"anchor\":\"x\",\"domain\":[0.0,1.0],\"autorange\":\"reversed\",\"constrain\":\"domain\"},\"coloraxis\":{\"colorscale\":[[0.0,\"#0d0887\"],[0.1111111111111111,\"#46039f\"],[0.2222222222222222,\"#7201a8\"],[0.3333333333333333,\"#9c179e\"],[0.4444444444444444,\"#bd3786\"],[0.5555555555555556,\"#d8576b\"],[0.6666666666666666,\"#ed7953\"],[0.7777777777777778,\"#fb9f3a\"],[0.8888888888888888,\"#fdca26\"],[1.0,\"#f0f921\"]]},\"margin\":{\"t\":60}},                        {\"responsive\": true}                    ).then(function(){\n",
       "                            \n",
       "var gd = document.getElementById('9f5142e7-e716-491e-a210-f6deb76e450f');\n",
       "var x = new MutationObserver(function (mutations, observer) {{\n",
       "        var display = window.getComputedStyle(gd).display;\n",
       "        if (!display || display === 'none') {{\n",
       "            console.log([gd, 'removed!']);\n",
       "            Plotly.purge(gd);\n",
       "            observer.disconnect();\n",
       "        }}\n",
       "}});\n",
       "\n",
       "// Listen for the removal of the full notebook cells\n",
       "var notebookContainer = gd.closest('#notebook-container');\n",
       "if (notebookContainer) {{\n",
       "    x.observe(notebookContainer, {childList: true});\n",
       "}}\n",
       "\n",
       "// Listen for the clearing of the current output cell\n",
       "var outputEl = gd.closest('.output');\n",
       "if (outputEl) {{\n",
       "    x.observe(outputEl, {childList: true});\n",
       "}}\n",
       "\n",
       "                        })                };                });            </script>        </div>"
      ]
     },
     "metadata": {},
     "output_type": "display_data"
    }
   ],
   "source": [
    "import plotly.express as px\n",
    "import pandas as pd\n",
    "import numpy as np\n",
    "\n",
    "for task_name, losses in task_losses.items():\n",
    "    base_loss = losses[1]\n",
    "    losses = losses[0]\n",
    "\n",
    "    task_losses[task_name][0] = [(base_loss - loss) for loss in losses]\n",
    "\n",
    "\n",
    "df = pd.DataFrame([\n",
    "    {\"task\": task_name, \"feature\": feature, \"loss\": loss}\n",
    "    for task_name, losses in task_losses.items()\n",
    "    for feature, loss in zip(features, losses[0])\n",
    "])\n",
    "\n",
    "\n",
    "\n",
    "heatmap = np.zeros((len(task_names), len(features)))\n",
    "\n",
    "for i, task_name in enumerate(task_names):\n",
    "    for j, feature in enumerate(features):\n",
    "        heatmap[i, j] = task_losses[task_name][0][j]\n",
    "\n",
    "fig = px.imshow(heatmap, x=[str(x) for x in features], y=task_names)\n",
    "\n",
    "fig.show()\n"
   ]
  },
  {
   "cell_type": "code",
   "execution_count": 46,
   "metadata": {},
   "outputs": [],
   "source": [
    "feature = 11618\n",
    "\n",
    "direction = sae[\"W_dec\"][feature]\n",
    "\n",
    "\n",
    "def steer_with_direction(direction, scale):\n",
    "    direction = direction / jnp.linalg.norm(direction)\n",
    "    direction = direction * scale\n",
    "    add_act = make_act_adder(llama, direction, train_tokens, 12, sep=sep)\n",
    "\n",
    "    logits = add_act(inputs)\n",
    "    logits = logits.unwrap(\"batch\", \"seq\", \"vocabulary\")\n",
    "\n",
    "    return logprob_loss(logits, train_tokens, sep=sep, pad_token=pad, n_first=2)"
   ]
  },
  {
   "cell_type": "code",
   "execution_count": 38,
   "metadata": {},
   "outputs": [
    {
     "data": {
      "application/vnd.jupyter.widget-view+json": {
       "model_id": "851f5338eec144a180eb88b34a54eaff",
       "version_major": 2,
       "version_minor": 0
      },
      "text/plain": [
       "  0%|          | 0/30 [00:00<?, ?it/s]"
      ]
     },
     "metadata": {},
     "output_type": "display_data"
    },
    {
     "name": "stderr",
     "output_type": "stream",
     "text": [
      "/home/dmitrii/.cache/pypoetry/virtualenvs/micrlhf-progress-_SD4q1c9-py3.10/lib/python3.10/site-packages/jax/_src/ops/scatter.py:92: FutureWarning: scatter inputs have incompatible types: cannot safely cast value from dtype=float32 to dtype=bfloat16 with jax_numpy_dtype_promotion='standard'. In future JAX releases this will result in an error.\n",
      "  warnings.warn(\n",
      "/home/dmitrii/.cache/pypoetry/virtualenvs/micrlhf-progress-_SD4q1c9-py3.10/lib/python3.10/site-packages/jax/_src/ops/scatter.py:92: FutureWarning: scatter inputs have incompatible types: cannot safely cast value from dtype=float32 to dtype=bfloat16 with jax_numpy_dtype_promotion='standard'. In future JAX releases this will result in an error.\n",
      "  warnings.warn(\n",
      "/home/dmitrii/.cache/pypoetry/virtualenvs/micrlhf-progress-_SD4q1c9-py3.10/lib/python3.10/site-packages/jax/_src/ops/scatter.py:92: FutureWarning: scatter inputs have incompatible types: cannot safely cast value from dtype=float32 to dtype=bfloat16 with jax_numpy_dtype_promotion='standard'. In future JAX releases this will result in an error.\n",
      "  warnings.warn(\n",
      "/home/dmitrii/.cache/pypoetry/virtualenvs/micrlhf-progress-_SD4q1c9-py3.10/lib/python3.10/site-packages/jax/_src/ops/scatter.py:92: FutureWarning: scatter inputs have incompatible types: cannot safely cast value from dtype=float32 to dtype=bfloat16 with jax_numpy_dtype_promotion='standard'. In future JAX releases this will result in an error.\n",
      "  warnings.warn(\n",
      "/home/dmitrii/.cache/pypoetry/virtualenvs/micrlhf-progress-_SD4q1c9-py3.10/lib/python3.10/site-packages/jax/_src/ops/scatter.py:92: FutureWarning: scatter inputs have incompatible types: cannot safely cast value from dtype=float32 to dtype=bfloat16 with jax_numpy_dtype_promotion='standard'. In future JAX releases this will result in an error.\n",
      "  warnings.warn(\n",
      "/home/dmitrii/.cache/pypoetry/virtualenvs/micrlhf-progress-_SD4q1c9-py3.10/lib/python3.10/site-packages/jax/_src/ops/scatter.py:92: FutureWarning: scatter inputs have incompatible types: cannot safely cast value from dtype=float32 to dtype=bfloat16 with jax_numpy_dtype_promotion='standard'. In future JAX releases this will result in an error.\n",
      "  warnings.warn(\n",
      "/home/dmitrii/.cache/pypoetry/virtualenvs/micrlhf-progress-_SD4q1c9-py3.10/lib/python3.10/site-packages/jax/_src/ops/scatter.py:92: FutureWarning: scatter inputs have incompatible types: cannot safely cast value from dtype=float32 to dtype=bfloat16 with jax_numpy_dtype_promotion='standard'. In future JAX releases this will result in an error.\n",
      "  warnings.warn(\n",
      "/home/dmitrii/.cache/pypoetry/virtualenvs/micrlhf-progress-_SD4q1c9-py3.10/lib/python3.10/site-packages/jax/_src/ops/scatter.py:92: FutureWarning: scatter inputs have incompatible types: cannot safely cast value from dtype=float32 to dtype=bfloat16 with jax_numpy_dtype_promotion='standard'. In future JAX releases this will result in an error.\n",
      "  warnings.warn(\n",
      "/home/dmitrii/.cache/pypoetry/virtualenvs/micrlhf-progress-_SD4q1c9-py3.10/lib/python3.10/site-packages/jax/_src/ops/scatter.py:92: FutureWarning: scatter inputs have incompatible types: cannot safely cast value from dtype=float32 to dtype=bfloat16 with jax_numpy_dtype_promotion='standard'. In future JAX releases this will result in an error.\n",
      "  warnings.warn(\n",
      "/home/dmitrii/.cache/pypoetry/virtualenvs/micrlhf-progress-_SD4q1c9-py3.10/lib/python3.10/site-packages/jax/_src/ops/scatter.py:92: FutureWarning: scatter inputs have incompatible types: cannot safely cast value from dtype=float32 to dtype=bfloat16 with jax_numpy_dtype_promotion='standard'. In future JAX releases this will result in an error.\n",
      "  warnings.warn(\n",
      "/home/dmitrii/.cache/pypoetry/virtualenvs/micrlhf-progress-_SD4q1c9-py3.10/lib/python3.10/site-packages/jax/_src/ops/scatter.py:92: FutureWarning: scatter inputs have incompatible types: cannot safely cast value from dtype=float32 to dtype=bfloat16 with jax_numpy_dtype_promotion='standard'. In future JAX releases this will result in an error.\n",
      "  warnings.warn(\n",
      "/home/dmitrii/.cache/pypoetry/virtualenvs/micrlhf-progress-_SD4q1c9-py3.10/lib/python3.10/site-packages/jax/_src/ops/scatter.py:92: FutureWarning: scatter inputs have incompatible types: cannot safely cast value from dtype=float32 to dtype=bfloat16 with jax_numpy_dtype_promotion='standard'. In future JAX releases this will result in an error.\n",
      "  warnings.warn(\n",
      "/home/dmitrii/.cache/pypoetry/virtualenvs/micrlhf-progress-_SD4q1c9-py3.10/lib/python3.10/site-packages/jax/_src/ops/scatter.py:92: FutureWarning: scatter inputs have incompatible types: cannot safely cast value from dtype=float32 to dtype=bfloat16 with jax_numpy_dtype_promotion='standard'. In future JAX releases this will result in an error.\n",
      "  warnings.warn(\n",
      "/home/dmitrii/.cache/pypoetry/virtualenvs/micrlhf-progress-_SD4q1c9-py3.10/lib/python3.10/site-packages/jax/_src/ops/scatter.py:92: FutureWarning: scatter inputs have incompatible types: cannot safely cast value from dtype=float32 to dtype=bfloat16 with jax_numpy_dtype_promotion='standard'. In future JAX releases this will result in an error.\n",
      "  warnings.warn(\n",
      "/home/dmitrii/.cache/pypoetry/virtualenvs/micrlhf-progress-_SD4q1c9-py3.10/lib/python3.10/site-packages/jax/_src/ops/scatter.py:92: FutureWarning: scatter inputs have incompatible types: cannot safely cast value from dtype=float32 to dtype=bfloat16 with jax_numpy_dtype_promotion='standard'. In future JAX releases this will result in an error.\n",
      "  warnings.warn(\n",
      "/home/dmitrii/.cache/pypoetry/virtualenvs/micrlhf-progress-_SD4q1c9-py3.10/lib/python3.10/site-packages/jax/_src/ops/scatter.py:92: FutureWarning: scatter inputs have incompatible types: cannot safely cast value from dtype=float32 to dtype=bfloat16 with jax_numpy_dtype_promotion='standard'. In future JAX releases this will result in an error.\n",
      "  warnings.warn(\n",
      "/home/dmitrii/.cache/pypoetry/virtualenvs/micrlhf-progress-_SD4q1c9-py3.10/lib/python3.10/site-packages/jax/_src/ops/scatter.py:92: FutureWarning: scatter inputs have incompatible types: cannot safely cast value from dtype=float32 to dtype=bfloat16 with jax_numpy_dtype_promotion='standard'. In future JAX releases this will result in an error.\n",
      "  warnings.warn(\n",
      "/home/dmitrii/.cache/pypoetry/virtualenvs/micrlhf-progress-_SD4q1c9-py3.10/lib/python3.10/site-packages/jax/_src/ops/scatter.py:92: FutureWarning: scatter inputs have incompatible types: cannot safely cast value from dtype=float32 to dtype=bfloat16 with jax_numpy_dtype_promotion='standard'. In future JAX releases this will result in an error.\n",
      "  warnings.warn(\n",
      "/home/dmitrii/.cache/pypoetry/virtualenvs/micrlhf-progress-_SD4q1c9-py3.10/lib/python3.10/site-packages/jax/_src/ops/scatter.py:92: FutureWarning: scatter inputs have incompatible types: cannot safely cast value from dtype=float32 to dtype=bfloat16 with jax_numpy_dtype_promotion='standard'. In future JAX releases this will result in an error.\n",
      "  warnings.warn(\n",
      "/home/dmitrii/.cache/pypoetry/virtualenvs/micrlhf-progress-_SD4q1c9-py3.10/lib/python3.10/site-packages/jax/_src/ops/scatter.py:92: FutureWarning: scatter inputs have incompatible types: cannot safely cast value from dtype=float32 to dtype=bfloat16 with jax_numpy_dtype_promotion='standard'. In future JAX releases this will result in an error.\n",
      "  warnings.warn(\n",
      "/home/dmitrii/.cache/pypoetry/virtualenvs/micrlhf-progress-_SD4q1c9-py3.10/lib/python3.10/site-packages/jax/_src/ops/scatter.py:92: FutureWarning: scatter inputs have incompatible types: cannot safely cast value from dtype=float32 to dtype=bfloat16 with jax_numpy_dtype_promotion='standard'. In future JAX releases this will result in an error.\n",
      "  warnings.warn(\n",
      "/home/dmitrii/.cache/pypoetry/virtualenvs/micrlhf-progress-_SD4q1c9-py3.10/lib/python3.10/site-packages/jax/_src/ops/scatter.py:92: FutureWarning: scatter inputs have incompatible types: cannot safely cast value from dtype=float32 to dtype=bfloat16 with jax_numpy_dtype_promotion='standard'. In future JAX releases this will result in an error.\n",
      "  warnings.warn(\n",
      "/home/dmitrii/.cache/pypoetry/virtualenvs/micrlhf-progress-_SD4q1c9-py3.10/lib/python3.10/site-packages/jax/_src/ops/scatter.py:92: FutureWarning: scatter inputs have incompatible types: cannot safely cast value from dtype=float32 to dtype=bfloat16 with jax_numpy_dtype_promotion='standard'. In future JAX releases this will result in an error.\n",
      "  warnings.warn(\n",
      "/home/dmitrii/.cache/pypoetry/virtualenvs/micrlhf-progress-_SD4q1c9-py3.10/lib/python3.10/site-packages/jax/_src/ops/scatter.py:92: FutureWarning: scatter inputs have incompatible types: cannot safely cast value from dtype=float32 to dtype=bfloat16 with jax_numpy_dtype_promotion='standard'. In future JAX releases this will result in an error.\n",
      "  warnings.warn(\n",
      "/home/dmitrii/.cache/pypoetry/virtualenvs/micrlhf-progress-_SD4q1c9-py3.10/lib/python3.10/site-packages/jax/_src/ops/scatter.py:92: FutureWarning: scatter inputs have incompatible types: cannot safely cast value from dtype=float32 to dtype=bfloat16 with jax_numpy_dtype_promotion='standard'. In future JAX releases this will result in an error.\n",
      "  warnings.warn(\n",
      "/home/dmitrii/.cache/pypoetry/virtualenvs/micrlhf-progress-_SD4q1c9-py3.10/lib/python3.10/site-packages/jax/_src/ops/scatter.py:92: FutureWarning: scatter inputs have incompatible types: cannot safely cast value from dtype=float32 to dtype=bfloat16 with jax_numpy_dtype_promotion='standard'. In future JAX releases this will result in an error.\n",
      "  warnings.warn(\n",
      "/home/dmitrii/.cache/pypoetry/virtualenvs/micrlhf-progress-_SD4q1c9-py3.10/lib/python3.10/site-packages/jax/_src/ops/scatter.py:92: FutureWarning: scatter inputs have incompatible types: cannot safely cast value from dtype=float32 to dtype=bfloat16 with jax_numpy_dtype_promotion='standard'. In future JAX releases this will result in an error.\n",
      "  warnings.warn(\n",
      "/home/dmitrii/.cache/pypoetry/virtualenvs/micrlhf-progress-_SD4q1c9-py3.10/lib/python3.10/site-packages/jax/_src/ops/scatter.py:92: FutureWarning: scatter inputs have incompatible types: cannot safely cast value from dtype=float32 to dtype=bfloat16 with jax_numpy_dtype_promotion='standard'. In future JAX releases this will result in an error.\n",
      "  warnings.warn(\n",
      "/home/dmitrii/.cache/pypoetry/virtualenvs/micrlhf-progress-_SD4q1c9-py3.10/lib/python3.10/site-packages/jax/_src/ops/scatter.py:92: FutureWarning: scatter inputs have incompatible types: cannot safely cast value from dtype=float32 to dtype=bfloat16 with jax_numpy_dtype_promotion='standard'. In future JAX releases this will result in an error.\n",
      "  warnings.warn(\n",
      "/home/dmitrii/.cache/pypoetry/virtualenvs/micrlhf-progress-_SD4q1c9-py3.10/lib/python3.10/site-packages/jax/_src/ops/scatter.py:92: FutureWarning: scatter inputs have incompatible types: cannot safely cast value from dtype=float32 to dtype=bfloat16 with jax_numpy_dtype_promotion='standard'. In future JAX releases this will result in an error.\n",
      "  warnings.warn(\n"
     ]
    }
   ],
   "source": [
    "import numpy as np\n",
    "from tqdm.auto import tqdm\n",
    "\n",
    "scales = np.linspace(0, 100, 30)\n",
    "\n",
    "losses = [steer_with_direction(-direction, scale) for scale in tqdm(scales)]"
   ]
  },
  {
   "cell_type": "code",
   "execution_count": 40,
   "metadata": {},
   "outputs": [
    {
     "data": {
      "text/html": [
       "<script> (()=>{ if (customElements.get('treescope-container') === undefined) { class TreescopeContainer extends HTMLElement { constructor() { super(); this.attachShadow({mode: \"open\"}); this.defns = {}; this.state = {}; } } customElements.define(\"treescope-container\", TreescopeContainer); } if (customElements.get('treescope-run-here') === undefined) { class RunHere extends HTMLElement { constructor() { super() } connectedCallback() { const run = child => { const fn = new Function(child.textContent); child.textContent = \"\"; fn.call(this); this.remove(); }; const child = this.querySelector(\"script\"); if (child) { run(child); } else { new MutationObserver(()=>{ run(this.querySelector(\"script\")); }).observe(this, {childList: true}); } } } customElements.define(\"treescope-run-here\", RunHere); } })(); </script> <treescope-container class=\"treescope_out_7b23d3fc5d584db2a471210f453401cc\" ></treescope-container> <treescope-run-here><script type=\"application/octet-stream\"> const root = ( Array.from(document.getElementsByClassName( \"treescope_out_7b23d3fc5d584db2a471210f453401cc\")) .filter((elt) => !elt.dataset.setup) )[0]; root.dataset.setup = 1; const msg = document.createElement(\"span\"); msg.style = \"color: #aaaaaa; font-family: monospace; transition: opacity 0.2s; opacity: 0.0;\"; msg.textContent = \"(Loading...)\"; root.state.loadingMsg = msg; root.shadowRoot.appendChild(msg); root.state.chain = new Promise((resolve, reject) => { const observer = new IntersectionObserver((entries) => { for (const entry of entries) { if (entry.isIntersecting) { resolve(); observer.disconnect(); return; } } }, {rootMargin: \"1000px\"}); window.setTimeout(() => { if (root.loadingMsg) { root.loadingMsg.style.opacity = \"1.0\"; } observer.observe(root); }, 0); }); root.state.deferring = false; const _insertNode = (node) => { for (let oldScript of node.querySelectorAll(\"script\")) { let newScript = document.createElement(\"script\"); newScript.type = oldScript.type; newScript.textContent = oldScript.textContent; oldScript.parentNode.replaceChild(newScript, oldScript); } if (root.state.loadingMsg) { root.state.loadingMsg.remove(); root.state.loadingMsg = null; } root.shadowRoot.appendChild(node); }; root.defns.insertContent = ((contentNode, compressed) => { if (compressed) { root.state.deferring = true; } if (root.state.deferring) { root.state.chain = (async () => { await root.state.chain; if (compressed) { const encoded = contentNode.textContent; const blob = new Blob([ Uint8Array.from(atob(encoded), (m) => m.codePointAt(0)) ]); const reader = blob.stream().pipeThrough( new DecompressionStream(\"deflate\") ).pipeThrough( new TextDecoderStream(\"utf-8\") ).getReader(); const parts = []; while (true) { const step = await reader.read(); if (step.done) { break; } parts.push(step.value); } const tpl = document.createElement('template'); tpl.innerHTML = parts.join(\"\"); _insertNode(tpl.content); } else { _insertNode(contentNode.content); } })(); } else { _insertNode(contentNode.content); } }); </script></treescope-run-here><div style=\"display:none\"> <script type=\"application/octet-stream\" >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</script> <treescope-run-here><script type=\"application/octet-stream\"> const root = ( Array.from(document.getElementsByClassName( \"treescope_out_7b23d3fc5d584db2a471210f453401cc\")) .filter((elt) => !elt.dataset['step0']) )[0]; root.dataset['step0'] = 1; root.defns.insertContent( this.parentNode.querySelector('script[type=\"application/octet-stream\"]'), true ); this.parentNode.remove(); </script></treescope-run-here> </div>"
      ],
      "text/plain": [
       "<IPython.core.display.HTML object>"
      ]
     },
     "metadata": {},
     "output_type": "display_data"
    },
    {
     "data": {
      "text/html": [
       "<treescope-run-here><script type=\"application/octet-stream\"> const root = ( Array.from(document.getElementsByClassName( \"treescope_out_7b23d3fc5d584db2a471210f453401cc\")) .filter((elt) => !elt.dataset.stolen) )[0]; root.dataset.stolen = 1; this.parentNode.replaceChild(root, this); </script></treescope-run-here>"
      ],
      "text/plain": [
       "[<matplotlib.lines.Line2D at 0x7f0b30b1ee90>]"
      ]
     },
     "execution_count": 40,
     "metadata": {},
     "output_type": "execute_result"
    },
    {
     "data": {
      "image/png": "[encoded data removed]",
      "text/plain": [
       "<Figure size 640x480 with 1 Axes>"
      ]
     },
     "metadata": {},
     "output_type": "display_data"
    }
   ],
   "source": [
    "import matplotlib.pyplot as plt\n",
    "\n",
    "losses = [x.tolist() for x in losses]\n",
    "\n",
    "plt.plot(scales, losses)"
   ]
  },
  {
   "cell_type": "code",
   "execution_count": 47,
   "metadata": {},
   "outputs": [
    {
     "data": {
      "application/vnd.jupyter.widget-view+json": {
       "model_id": "718575a719c34e84b9aac7dd63299f64",
       "version_major": 2,
       "version_minor": 0
      },
      "text/plain": [
       "  0%|          | 0/11 [00:00<?, ?it/s]"
      ]
     },
     "metadata": {},
     "output_type": "display_data"
    }
   ],
   "source": [
    "losses_features = [steer_with_direction(-sae[\"W_dec\"][feature], 30).tolist() for feature in tqdm(features)]"
   ]
  },
  {
   "cell_type": "code",
   "execution_count": 42,
   "metadata": {},
   "outputs": [
    {
     "data": {
      "text/html": [
       "<script> (()=>{ if (customElements.get('treescope-container') === undefined) { class TreescopeContainer extends HTMLElement { constructor() { super(); this.attachShadow({mode: \"open\"}); this.defns = {}; this.state = {}; } } customElements.define(\"treescope-container\", TreescopeContainer); } if (customElements.get('treescope-run-here') === undefined) { class RunHere extends HTMLElement { constructor() { super() } connectedCallback() { const run = child => { const fn = new Function(child.textContent); child.textContent = \"\"; fn.call(this); this.remove(); }; const child = this.querySelector(\"script\"); if (child) { run(child); } else { new MutationObserver(()=>{ run(this.querySelector(\"script\")); }).observe(this, {childList: true}); } } } customElements.define(\"treescope-run-here\", RunHere); } })(); </script> <treescope-container class=\"treescope_out_0ea07c204e674958b8117b9fa7ba72f8\" ></treescope-container> <treescope-run-here><script type=\"application/octet-stream\"> const root = ( Array.from(document.getElementsByClassName( \"treescope_out_0ea07c204e674958b8117b9fa7ba72f8\")) .filter((elt) => !elt.dataset.setup) )[0]; root.dataset.setup = 1; const msg = document.createElement(\"span\"); msg.style = \"color: #aaaaaa; font-family: monospace; transition: opacity 0.2s; opacity: 0.0;\"; msg.textContent = \"(Loading...)\"; root.state.loadingMsg = msg; root.shadowRoot.appendChild(msg); root.state.chain = new Promise((resolve, reject) => { const observer = new IntersectionObserver((entries) => { for (const entry of entries) { if (entry.isIntersecting) { resolve(); observer.disconnect(); return; } } }, {rootMargin: \"1000px\"}); window.setTimeout(() => { if (root.loadingMsg) { root.loadingMsg.style.opacity = \"1.0\"; } observer.observe(root); }, 0); }); root.state.deferring = false; const _insertNode = (node) => { for (let oldScript of node.querySelectorAll(\"script\")) { let newScript = document.createElement(\"script\"); newScript.type = oldScript.type; newScript.textContent = oldScript.textContent; oldScript.parentNode.replaceChild(newScript, oldScript); } if (root.state.loadingMsg) { root.state.loadingMsg.remove(); root.state.loadingMsg = null; } root.shadowRoot.appendChild(node); }; root.defns.insertContent = ((contentNode, compressed) => { if (compressed) { root.state.deferring = true; } if (root.state.deferring) { root.state.chain = (async () => { await root.state.chain; if (compressed) { const encoded = contentNode.textContent; const blob = new Blob([ Uint8Array.from(atob(encoded), (m) => m.codePointAt(0)) ]); const reader = blob.stream().pipeThrough( new DecompressionStream(\"deflate\") ).pipeThrough( new TextDecoderStream(\"utf-8\") ).getReader(); const parts = []; while (true) { const step = await reader.read(); if (step.done) { break; } parts.push(step.value); } const tpl = document.createElement('template'); tpl.innerHTML = parts.join(\"\"); _insertNode(tpl.content); } else { _insertNode(contentNode.content); } })(); } else { _insertNode(contentNode.content); } }); </script></treescope-run-here><div style=\"display:none\"> <script type=\"application/octet-stream\" >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</script> <treescope-run-here><script type=\"application/octet-stream\"> const root = ( Array.from(document.getElementsByClassName( \"treescope_out_0ea07c204e674958b8117b9fa7ba72f8\")) .filter((elt) => !elt.dataset['step0']) )[0]; root.dataset['step0'] = 1; root.defns.insertContent( this.parentNode.querySelector('script[type=\"application/octet-stream\"]'), true ); this.parentNode.remove(); </script></treescope-run-here> </div>"
      ],
      "text/plain": [
       "<IPython.core.display.HTML object>"
      ]
     },
     "metadata": {},
     "output_type": "display_data"
    },
    {
     "data": {
      "text/html": [
       "<treescope-run-here><script type=\"application/octet-stream\"> const root = ( Array.from(document.getElementsByClassName( \"treescope_out_0ea07c204e674958b8117b9fa7ba72f8\")) .filter((elt) => !elt.dataset.stolen) )[0]; root.dataset.stolen = 1; this.parentNode.replaceChild(root, this); </script></treescope-run-here>"
      ],
      "text/plain": [
       "[3.65625,\n",
       " 0.3046875,\n",
       " 0.84765625,\n",
       " 5.78125,\n",
       " 8.1875,\n",
       " 2.59375,\n",
       " 11.0,\n",
       " 7.03125,\n",
       " 1.0390625,\n",
       " 1.6640625,\n",
       " 5.4375]"
      ]
     },
     "execution_count": 42,
     "metadata": {},
     "output_type": "execute_result"
    }
   ],
   "source": [
    "losses_features"
   ]
  },
  {
   "cell_type": "code",
   "execution_count": 48,
   "metadata": {},
   "outputs": [
    {
     "data": {
      "text/html": [
       "<script> (()=>{ if (customElements.get('treescope-container') === undefined) { class TreescopeContainer extends HTMLElement { constructor() { super(); this.attachShadow({mode: \"open\"}); this.defns = {}; this.state = {}; } } customElements.define(\"treescope-container\", TreescopeContainer); } if (customElements.get('treescope-run-here') === undefined) { class RunHere extends HTMLElement { constructor() { super() } connectedCallback() { const run = child => { const fn = new Function(child.textContent); child.textContent = \"\"; fn.call(this); this.remove(); }; const child = this.querySelector(\"script\"); if (child) { run(child); } else { new MutationObserver(()=>{ run(this.querySelector(\"script\")); }).observe(this, {childList: true}); } } } customElements.define(\"treescope-run-here\", RunHere); } })(); </script> <treescope-container class=\"treescope_out_3ad0e115fc994b6eb021e240cc0cffed\" ></treescope-container> <treescope-run-here><script type=\"application/octet-stream\"> const root = ( Array.from(document.getElementsByClassName( \"treescope_out_3ad0e115fc994b6eb021e240cc0cffed\")) .filter((elt) => !elt.dataset.setup) )[0]; root.dataset.setup = 1; const msg = document.createElement(\"span\"); msg.style = \"color: #aaaaaa; font-family: monospace; transition: opacity 0.2s; opacity: 0.0;\"; msg.textContent = \"(Loading...)\"; root.state.loadingMsg = msg; root.shadowRoot.appendChild(msg); root.state.chain = new Promise((resolve, reject) => { const observer = new IntersectionObserver((entries) => { for (const entry of entries) { if (entry.isIntersecting) { resolve(); observer.disconnect(); return; } } }, {rootMargin: \"1000px\"}); window.setTimeout(() => { if (root.loadingMsg) { root.loadingMsg.style.opacity = \"1.0\"; } observer.observe(root); }, 0); }); root.state.deferring = false; const _insertNode = (node) => { for (let oldScript of node.querySelectorAll(\"script\")) { let newScript = document.createElement(\"script\"); newScript.type = oldScript.type; newScript.textContent = oldScript.textContent; oldScript.parentNode.replaceChild(newScript, oldScript); } if (root.state.loadingMsg) { root.state.loadingMsg.remove(); root.state.loadingMsg = null; } root.shadowRoot.appendChild(node); }; root.defns.insertContent = ((contentNode, compressed) => { if (compressed) { root.state.deferring = true; } if (root.state.deferring) { root.state.chain = (async () => { await root.state.chain; if (compressed) { const encoded = contentNode.textContent; const blob = new Blob([ Uint8Array.from(atob(encoded), (m) => m.codePointAt(0)) ]); const reader = blob.stream().pipeThrough( new DecompressionStream(\"deflate\") ).pipeThrough( new TextDecoderStream(\"utf-8\") ).getReader(); const parts = []; while (true) { const step = await reader.read(); if (step.done) { break; } parts.push(step.value); } const tpl = document.createElement('template'); tpl.innerHTML = parts.join(\"\"); _insertNode(tpl.content); } else { _insertNode(contentNode.content); } })(); } else { _insertNode(contentNode.content); } }); </script></treescope-run-here><div style=\"display:none\"> <script type=\"application/octet-stream\" >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</script> <treescope-run-here><script type=\"application/octet-stream\"> const root = ( Array.from(document.getElementsByClassName( \"treescope_out_3ad0e115fc994b6eb021e240cc0cffed\")) .filter((elt) => !elt.dataset['step0']) )[0]; root.dataset['step0'] = 1; root.defns.insertContent( this.parentNode.querySelector('script[type=\"application/octet-stream\"]'), true ); this.parentNode.remove(); </script></treescope-run-here> </div>"
      ],
      "text/plain": [
       "<IPython.core.display.HTML object>"
      ]
     },
     "metadata": {},
     "output_type": "display_data"
    },
    {
     "data": {
      "text/html": [
       "<treescope-run-here><script type=\"application/octet-stream\"> const root = ( Array.from(document.getElementsByClassName( \"treescope_out_3ad0e115fc994b6eb021e240cc0cffed\")) .filter((elt) => !elt.dataset.stolen) )[0]; root.dataset.stolen = 1; this.parentNode.replaceChild(root, this); </script></treescope-run-here>"
      ],
      "text/plain": [
       "[4.25,\n",
       " 1.2578125,\n",
       " 2.15625,\n",
       " 4.84375,\n",
       " 6.03125,\n",
       " 3.84375,\n",
       " 9.5625,\n",
       " 6.8125,\n",
       " 2.703125,\n",
       " 2.90625,\n",
       " 6.09375]"
      ]
     },
     "execution_count": 48,
     "metadata": {},
     "output_type": "execute_result"
    }
   ],
   "source": [
    "losses_features"
   ]
  },
  {
   "cell_type": "code",
   "execution_count": 255,
   "metadata": {},
   "outputs": [
    {
     "data": {
      "application/vnd.jupyter.widget-view+json": {
       "model_id": "51a4b23526894a62b0e2de71ed49a2b5",
       "version_major": 2,
       "version_minor": 0
      },
      "text/plain": [
       "  0%|          | 0/19 [00:00<?, ?it/s]"
      ]
     },
     "metadata": {},
     "output_type": "display_data"
    }
   ],
   "source": [
    "from tqdm.auto import tqdm\n",
    "from functools import partial\n",
    "from micrlhf.utils.activation_manipulation import add_vector\n",
    "\n",
    "task_losses = {}\n",
    "\n",
    "n_few_shots, batch_size, max_seq_len = 20, 16, 256\n",
    "seed = 10\n",
    "\n",
    "prompt = \"<start_of_turn>user\\nFollow the pattern:\\n{}\"\n",
    "\n",
    "task_name = \"algo_first\"\n",
    "\n",
    "sep = 3978\n",
    "pad = 0\n",
    "\n",
    "pairs = list(tasks[task_name].items())\n",
    "\n",
    "n_shot_losses = []\n",
    "\n",
    "for n_shot in tqdm(range(2, 21)):\n",
    "    runner = ICLRunner(task_name, pairs, batch_size=batch_size, n_shot=n_shot, max_seq_len=max_seq_len, seed=seed, prompt=prompt)\n",
    "\n",
    "    tokenized = runner.get_tokens([\n",
    "        x for x in runner.train_pairs\n",
    "    ], tokenizer)\n",
    "\n",
    "    inputs = tokenized_to_inputs(**tokenized)\n",
    "    train_tokens = tokenized[\"input_ids\"]\n",
    "\n",
    "    logits, all_resids = get_resids_call(inputs)\n",
    "\n",
    "    icl_loss = logprob_loss(\n",
    "        logits.unwrap(\"batch\", \"seq\", \"vocabulary\"), train_tokens, shift=0, n_first=3, sep=sep, pad_token=0\n",
    "    )\n",
    "\n",
    "    tokenized = runner.get_tokens(runner.eval_pairs, tokenizer)\n",
    "    inputs = tokenized_to_inputs(**tokenized)\n",
    "    tokens = tokenized[\"input_ids\"]\n",
    "\n",
    "    logits = llama(inputs)\n",
    "\n",
    "    zero_loss = logprob_loss(\n",
    "        logits.unwrap(\"batch\", \"seq\", \"vocabulary\"), tokens, shift=0, n_first=3, sep=sep, pad_token=0\n",
    "    )\n",
    "\n",
    "\n",
    "    resids = all_resids[layer].value.unwrap(\n",
    "        \"batch\", \"seq\", \"embedding\"\n",
    "    )\n",
    "\n",
    "    tv = get_tv(resids, train_tokens, shift = 0, sep=sep)\n",
    "\n",
    "    add_act = make_act_adder(llama, tv.astype('bfloat16'), tokens, layer, length=1, shift= 0, sep=sep, scale=1)\n",
    "\n",
    "    logits = add_act(inputs)\n",
    "\n",
    "    tv_loss = logprob_loss(\n",
    "        logits.unwrap(\"batch\", \"seq\", \"vocabulary\"), tokens, shift=0, n_first=3, sep=sep, pad_token=0\n",
    "    )\n",
    "\n",
    "\n",
    "    arrow_pos = jnp.nonzero(tokens == sep)\n",
    "    arrow_pos_single = []\n",
    "    for i in range(runner.eval_batch_size):\n",
    "        arrow_pos_single.append(arrow_pos[1][arrow_pos[0] == i].max())\n",
    "\n",
    "    arrow_pos_single = np.array(arrow_pos_single)\n",
    "\n",
    "    hits = 0\n",
    "\n",
    "    logits = logits.unwrap(\"batch\", \"seq\", \"vocabulary\")\n",
    "\n",
    "    for i, (ap, l) in enumerate(zip(arrow_pos_single, logits)):\n",
    "        l = l.argmax(-1)\n",
    "        tgt = runner.eval_pairs[i][-1][1]\n",
    "        hits += int(tgt in repr(tokenizer.decode(l[ap:ap+3])))\n",
    "\n",
    "\n",
    "    n_shot_losses.append((icl_loss.tolist(), tv_loss.tolist(), hits / runner.eval_batch_size))"
   ]
  },
  {
   "cell_type": "code",
   "execution_count": 184,
   "metadata": {},
   "outputs": [],
   "source": [
    "logits = logits.unwrap(\"batch\", \"seq\", \"vocabulary\")"
   ]
  },
  {
   "cell_type": "code",
   "execution_count": 248,
   "metadata": {},
   "outputs": [
    {
     "data": {
      "text/html": [
       "<script> (()=>{ if (customElements.get('treescope-container') === undefined) { class TreescopeContainer extends HTMLElement { constructor() { super(); this.attachShadow({mode: \"open\"}); this.defns = {}; this.state = {}; } } customElements.define(\"treescope-container\", TreescopeContainer); } if (customElements.get('treescope-run-here') === undefined) { class RunHere extends HTMLElement { constructor() { super() } connectedCallback() { const run = child => { const fn = new Function(child.textContent); child.textContent = \"\"; fn.call(this); this.remove(); }; const child = this.querySelector(\"script\"); if (child) { run(child); } else { new MutationObserver(()=>{ run(this.querySelector(\"script\")); }).observe(this, {childList: true}); } } } customElements.define(\"treescope-run-here\", RunHere); } })(); </script> <treescope-container class=\"treescope_out_810a92537e7d407aa4220fee7085d2b4\" ></treescope-container> <treescope-run-here><script type=\"application/octet-stream\"> const root = ( Array.from(document.getElementsByClassName( \"treescope_out_810a92537e7d407aa4220fee7085d2b4\")) .filter((elt) => !elt.dataset.setup) )[0]; root.dataset.setup = 1; const msg = document.createElement(\"span\"); msg.style = \"color: #aaaaaa; font-family: monospace; transition: opacity 0.2s; opacity: 0.0;\"; msg.textContent = \"(Loading...)\"; root.state.loadingMsg = msg; root.shadowRoot.appendChild(msg); root.state.chain = new Promise((resolve, reject) => { const observer = new IntersectionObserver((entries) => { for (const entry of entries) { if (entry.isIntersecting) { resolve(); observer.disconnect(); return; } } }, {rootMargin: \"1000px\"}); window.setTimeout(() => { if (root.loadingMsg) { root.loadingMsg.style.opacity = \"1.0\"; } observer.observe(root); }, 0); }); root.state.deferring = false; const _insertNode = (node) => { for (let oldScript of node.querySelectorAll(\"script\")) { let newScript = document.createElement(\"script\"); newScript.type = oldScript.type; newScript.textContent = oldScript.textContent; oldScript.parentNode.replaceChild(newScript, oldScript); } if (root.state.loadingMsg) { root.state.loadingMsg.remove(); root.state.loadingMsg = null; } root.shadowRoot.appendChild(node); }; root.defns.insertContent = ((contentNode, compressed) => { if (compressed) { root.state.deferring = true; } if (root.state.deferring) { root.state.chain = (async () => { await root.state.chain; if (compressed) { const encoded = contentNode.textContent; const blob = new Blob([ Uint8Array.from(atob(encoded), (m) => m.codePointAt(0)) ]); const reader = blob.stream().pipeThrough( new DecompressionStream(\"deflate\") ).pipeThrough( new TextDecoderStream(\"utf-8\") ).getReader(); const parts = []; while (true) { const step = await reader.read(); if (step.done) { break; } parts.push(step.value); } const tpl = document.createElement('template'); tpl.innerHTML = parts.join(\"\"); _insertNode(tpl.content); } else { _insertNode(contentNode.content); } })(); } else { _insertNode(contentNode.content); } }); </script></treescope-run-here><div style=\"display:none\"> <script type=\"application/octet-stream\" >eNrFVk1v8zYM/iuCB7x1htpNkzYdnA/gvQw7DDtshx22wZAl2haqSJ4kN81e5L+Pkp2kSZxuw4otOSSiSD4PSZHSwrqthFXqDIBluoHcaO3IF9JoK5zQKiMGJHXiBeak1MolJV0Luc3IWittG8pQvqmFgyQsMtIYlEhhXRJcJ27boFRpheKCsufK6FbxhGmpTdaZzkm/KiQqoD/BXZ2RUjhUUw6Um5OGci5UlUgoXUYmrPYgCpIaRFWj5D599G6UowI5H8z6P8mLsKIQUjhkTlunD7qJUM4IZQVLrPgDut2e7m5x16VncUhPYlqFmAZllhnROOLjW97QppGCUZ+xO80c+OgN0PXNKo5HyxUmFPGsIxxKZcmSuFrYtAL3I2b7B80hHqW1ti4N+xgaOJI3oHzIn5n36o1++W1o5zuquATcVq2U8w4hRZo/aa1QGm+0eR6Rtxz0zyjyWydiJ5gXNmBKbdZUMUiV3sSjUF8EiC92SNIZLch0MkI/oiTxGetUgqpcTZZLMvYq71I34FqjMO8EpIUjsbpVntm5a1uL0nl+QcH/2eH3CkKMp0pxvUkN/N6CdZ+VWIdyfWvoGuIuJyPvY34B1LS27tI4H4hxD7Hswngnyr/PwbPoCul0VcmuK/PQOXhaG+/LS0C6WwIveMD7Snp2YZ0+w9YnPTKRJ9Qrp0xSa7/H5uz9xtHBZ77GYxjtwXcjzCce/3DGV4u7oQbg4oUEh8vodHxExNECI4XXZTSOiFZIBsNWqPfesR+ONfY2+ygjbLtuYKEFGAM8b3BmQK0lBxNOTBgkX9En/+1HVjDJiHAUexRjS0tUpwVCKeRwZdjtyKla3rFDbS4sgm73Q+1ckayIpAXILCsA+wXesGLhMx/E6wZbcu8nWz8Ax/MjllBh3BVS+wl5FbPWL2AukTk1zxZohWVSl9aZ0i4+E9XUxqvgczWYh2CTsRrYM/DRiHw9OnLwpsNGe/0ThmFCZ+Tm18ljwW7+T3qnRldJzv4Dkr6OHrg11hew0XhPgRnAFfbjYEMrBKAk9Ju9dsY/BvUYnoNXd4mSCpuXwliXa5X74z/QWu+1Ujp59N00WCryr+l3FT+n6KNaU1Phy6KjERp6h5cV9dNqQ43CiyHfp3s/GcqSsvvpgGKD0/7L4fVj+seO99mj9KJknIZgj0+sLDyQqEkqQ7nAasb300cO1S3RhqoKyJiM0xmrb4nDNb7eDOp0IhKugQEqF+F+0LE/y9k+mF26qUHlmCRJGwv8r4fvPwZ/B6EbuQEjKMFrgzf5VZ2P4DEEcf4WxUopIvgyOlyBEz4ZP8CMMT55epg9zb6BR1zMeAFT/vQwmUa9UX9Zn94c5xVF5Y72Qqim7d+3USBa6Ndo0EkfE2528eCDIRjjb+/rLf7Q1R2tPkk3V+262aYKbytDt5hbN53E97NbzE6akk+V8y8SdLQ6+3nr/CSN0VETHyurPwG7X5MP</script> <treescope-run-here><script type=\"application/octet-stream\"> const root = ( Array.from(document.getElementsByClassName( \"treescope_out_810a92537e7d407aa4220fee7085d2b4\")) .filter((elt) => !elt.dataset['step0']) )[0]; root.dataset['step0'] = 1; root.defns.insertContent( this.parentNode.querySelector('script[type=\"application/octet-stream\"]'), true ); this.parentNode.remove(); </script></treescope-run-here> </div>"
      ],
      "text/plain": [
       "<IPython.core.display.HTML object>"
      ]
     },
     "metadata": {},
     "output_type": "display_data"
    },
    {
     "data": {
      "text/html": [
       "<div style=\"display:none\"> <script type=\"application/octet-stream\" >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</script> <treescope-run-here><script type=\"application/octet-stream\"> const root = ( Array.from(document.getElementsByClassName( \"treescope_out_810a92537e7d407aa4220fee7085d2b4\")) .filter((elt) => !elt.dataset['step1']) )[0]; root.dataset['step1'] = 1; root.defns.insertContent( this.parentNode.querySelector('script[type=\"application/octet-stream\"]'), true ); this.parentNode.remove(); </script></treescope-run-here> </div>"
      ],
      "text/plain": [
       "<IPython.core.display.HTML object>"
      ]
     },
     "metadata": {},
     "output_type": "display_data"
    },
    {
     "data": {
      "text/html": [
       "<treescope-run-here><script type=\"application/octet-stream\"> const root = ( Array.from(document.getElementsByClassName( \"treescope_out_810a92537e7d407aa4220fee7085d2b4\")) .filter((elt) => !elt.dataset.stolen) )[0]; root.dataset.stolen = 1; this.parentNode.replaceChild(root, this); </script></treescope-run-here>"
      ],
      "text/plain": [
       "array([22, 22, 22, 22, 22, 22, 22, 22, 22, 22, 22, 22, 22, 22, 22, 22],\n",
       "      dtype=int32)"
      ]
     },
     "execution_count": 248,
     "metadata": {},
     "output_type": "execute_result"
    }
   ],
   "source": [
    "\n",
    "arrow_pos = jnp.nonzero(tokens == sep)\n",
    "arrow_pos_single = []\n",
    "for i in range(batch_size):\n",
    "    arrow_pos_single.append(arrow_pos[1][arrow_pos[0] == i].max())\n",
    "\n",
    "arrow_pos_single = np.array(arrow_pos_single)\n",
    "\n",
    "arrow_pos_single"
   ]
  },
  {
   "cell_type": "code",
   "execution_count": 247,
   "metadata": {},
   "outputs": [
    {
     "data": {
      "text/html": [
       "<script> (()=>{ if (customElements.get('treescope-container') === undefined) { class TreescopeContainer extends HTMLElement { constructor() { super(); this.attachShadow({mode: \"open\"}); this.defns = {}; this.state = {}; } } customElements.define(\"treescope-container\", TreescopeContainer); } if (customElements.get('treescope-run-here') === undefined) { class RunHere extends HTMLElement { constructor() { super() } connectedCallback() { const run = child => { const fn = new Function(child.textContent); child.textContent = \"\"; fn.call(this); this.remove(); }; const child = this.querySelector(\"script\"); if (child) { run(child); } else { new MutationObserver(()=>{ run(this.querySelector(\"script\")); }).observe(this, {childList: true}); } } } customElements.define(\"treescope-run-here\", RunHere); } })(); </script> <treescope-container class=\"treescope_out_f2aa0b60eec44c33a811599d368fd7ea\" ></treescope-container> <treescope-run-here><script type=\"application/octet-stream\"> const root = ( Array.from(document.getElementsByClassName( \"treescope_out_f2aa0b60eec44c33a811599d368fd7ea\")) .filter((elt) => !elt.dataset.setup) )[0]; root.dataset.setup = 1; const msg = document.createElement(\"span\"); msg.style = \"color: #aaaaaa; font-family: monospace; transition: opacity 0.2s; opacity: 0.0;\"; msg.textContent = \"(Loading...)\"; root.state.loadingMsg = msg; root.shadowRoot.appendChild(msg); root.state.chain = new Promise((resolve, reject) => { const observer = new IntersectionObserver((entries) => { for (const entry of entries) { if (entry.isIntersecting) { resolve(); observer.disconnect(); return; } } }, {rootMargin: \"1000px\"}); window.setTimeout(() => { if (root.loadingMsg) { root.loadingMsg.style.opacity = \"1.0\"; } observer.observe(root); }, 0); }); root.state.deferring = false; const _insertNode = (node) => { for (let oldScript of node.querySelectorAll(\"script\")) { let newScript = document.createElement(\"script\"); newScript.type = oldScript.type; newScript.textContent = oldScript.textContent; oldScript.parentNode.replaceChild(newScript, oldScript); } if (root.state.loadingMsg) { root.state.loadingMsg.remove(); root.state.loadingMsg = null; } root.shadowRoot.appendChild(node); }; root.defns.insertContent = ((contentNode, compressed) => { if (compressed) { root.state.deferring = true; } if (root.state.deferring) { root.state.chain = (async () => { await root.state.chain; if (compressed) { const encoded = contentNode.textContent; const blob = new Blob([ Uint8Array.from(atob(encoded), (m) => m.codePointAt(0)) ]); const reader = blob.stream().pipeThrough( new DecompressionStream(\"deflate\") ).pipeThrough( new TextDecoderStream(\"utf-8\") ).getReader(); const parts = []; while (true) { const step = await reader.read(); if (step.done) { break; } parts.push(step.value); } const tpl = document.createElement('template'); tpl.innerHTML = parts.join(\"\"); _insertNode(tpl.content); } else { _insertNode(contentNode.content); } })(); } else { _insertNode(contentNode.content); } }); </script></treescope-run-here><div style=\"display:none\"> <script type=\"application/octet-stream\" >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</script> <treescope-run-here><script type=\"application/octet-stream\"> const root = ( Array.from(document.getElementsByClassName( \"treescope_out_f2aa0b60eec44c33a811599d368fd7ea\")) .filter((elt) => !elt.dataset['step0']) )[0]; root.dataset['step0'] = 1; root.defns.insertContent( this.parentNode.querySelector('script[type=\"application/octet-stream\"]'), true ); this.parentNode.remove(); </script></treescope-run-here> </div>"
      ],
      "text/plain": [
       "<IPython.core.display.HTML object>"
      ]
     },
     "metadata": {},
     "output_type": "display_data"
    },
    {
     "data": {
      "text/html": [
       "<treescope-run-here><script type=\"application/octet-stream\"> const root = ( Array.from(document.getElementsByClassName( \"treescope_out_f2aa0b60eec44c33a811599d368fd7ea\")) .filter((elt) => !elt.dataset.stolen) )[0]; root.dataset.stolen = 1; this.parentNode.replaceChild(root, this); </script></treescope-run-here>"
      ],
      "text/plain": [
       "[[('student, close, wife, paper', 'student')],\n",
       " [('order, material, bill, start', 'order')],\n",
       " [('difference, problem, camera, in', 'difference')],\n",
       " [('show, talk, behind, section', 'show')],\n",
       " [('authority, king, share, personal', 'authority')],\n",
       " [('committee, candidate, university, give', 'committee')],\n",
       " [('truth, sell, bad, hard', 'truth')],\n",
       " [('statement, discussion, kind, war', 'statement')],\n",
       " [('tax, party, certainly, professor', 'tax')],\n",
       " [('exactly, department, push, officer', 'exactly')],\n",
       " [('minute, knowledge, get, price', 'minute')],\n",
       " [('everything, prepare, yet, purpose', 'everything')],\n",
       " [('case, force, small, project', 'case')],\n",
       " [('computer, case, road, opportunity', 'computer')],\n",
       " [('weapon, shoot, open, figure', 'weapon')],\n",
       " [('set, former, american, hold', 'set')],\n",
       " [('article, require, earth, impact', 'article')],\n",
       " [('affect, shit, respond, health', 'affect')],\n",
       " [('industry, i, serious, save', 'industry')],\n",
       " [('fine, memory, lot, term', 'fine')],\n",
       " [('discuss, whole, do, specific', 'discuss')],\n",
       " [('fail, try, raise, song', 'fail')],\n",
       " [('suggest, own, make, office', 'suggest')],\n",
       " [('society, morning, form, carry', 'society')],\n",
       " [('benefit, military, deal, state', 'benefit')],\n",
       " [('for, authority, experience, much', 'for')],\n",
       " [('light, brain, war, good', 'light')],\n",
       " [('identify, must, committee, speak', 'identify')],\n",
       " [('congress, legal, treat, next', 'congress')],\n",
       " [('rest, accept, theory, under', 'rest')],\n",
       " [('suggest, own, make, office', 'suggest')],\n",
       " [('simply, need, sign, long', 'simply')]]"
      ]
     },
     "execution_count": 247,
     "metadata": {},
     "output_type": "execute_result"
    }
   ],
   "source": [
    "runner.eval_pairs"
   ]
  },
  {
   "cell_type": "code",
   "execution_count": 236,
   "metadata": {},
   "outputs": [
    {
     "name": "stdout",
     "output_type": "stream",
     "text": [
      "better ' better,\\n\\n'\n",
      "book '  ,\\n\\n'\n",
      "cut '  ,\\n\\n'\n",
      "defense '  ,\\n\\n'\n",
      "sign '  ,\\n\\n'\n",
      "official '  ,\\n\\n'\n",
      "artist ' artist,\\n\\n'\n",
      "think ' think,\\n\\n'\n",
      "south ' south,\\n\\n'\n",
      "truth '  ,\\n\\n'\n",
      "shit '  ,\\n\\n'\n",
      "free ' economic,\\n\\n'\n",
      "author '  ,\\n\\n'\n",
      "see '  ,\\n\\n'\n",
      "walk ' walk,\\n\\n'\n",
      "job '  ,\\n\\n'\n"
     ]
    }
   ],
   "source": [
    "for i, (ap, l) in enumerate(zip(arrow_pos_single, logits)):\n",
    "    l = l.argmax(-1)\n",
    "    tgt = runner.eval_pairs[i][-1][1]\n",
    "    print(tgt, repr(tokenizer.decode(l[ap:ap+3])))"
   ]
  },
  {
   "cell_type": "code",
   "execution_count": 21,
   "metadata": {},
   "outputs": [
    {
     "data": {
      "text/html": [
       "<script> (()=>{ if (customElements.get('treescope-container') === undefined) { class TreescopeContainer extends HTMLElement { constructor() { super(); this.attachShadow({mode: \"open\"}); this.defns = {}; this.state = {}; } } customElements.define(\"treescope-container\", TreescopeContainer); } if (customElements.get('treescope-run-here') === undefined) { class RunHere extends HTMLElement { constructor() { super() } connectedCallback() { const run = child => { const fn = new Function(child.textContent); child.textContent = \"\"; fn.call(this); this.remove(); }; const child = this.querySelector(\"script\"); if (child) { run(child); } else { new MutationObserver(()=>{ run(this.querySelector(\"script\")); }).observe(this, {childList: true}); } } } customElements.define(\"treescope-run-here\", RunHere); } })(); </script> <treescope-container class=\"treescope_out_73a308a6de9649eeabca119780188fd0\" ></treescope-container> <treescope-run-here><script type=\"application/octet-stream\"> const root = ( Array.from(document.getElementsByClassName( \"treescope_out_73a308a6de9649eeabca119780188fd0\")) .filter((elt) => !elt.dataset.setup) )[0]; root.dataset.setup = 1; const msg = document.createElement(\"span\"); msg.style = \"color: #aaaaaa; font-family: monospace; transition: opacity 0.2s; opacity: 0.0;\"; msg.textContent = \"(Loading...)\"; root.state.loadingMsg = msg; root.shadowRoot.appendChild(msg); root.state.chain = new Promise((resolve, reject) => { const observer = new IntersectionObserver((entries) => { for (const entry of entries) { if (entry.isIntersecting) { resolve(); observer.disconnect(); return; } } }, {rootMargin: \"1000px\"}); window.setTimeout(() => { if (root.loadingMsg) { root.loadingMsg.style.opacity = \"1.0\"; } observer.observe(root); }, 0); }); root.state.deferring = false; const _insertNode = (node) => { for (let oldScript of node.querySelectorAll(\"script\")) { let newScript = document.createElement(\"script\"); newScript.type = oldScript.type; newScript.textContent = oldScript.textContent; oldScript.parentNode.replaceChild(newScript, oldScript); } if (root.state.loadingMsg) { root.state.loadingMsg.remove(); root.state.loadingMsg = null; } root.shadowRoot.appendChild(node); }; root.defns.insertContent = ((contentNode, compressed) => { if (compressed) { root.state.deferring = true; } if (root.state.deferring) { root.state.chain = (async () => { await root.state.chain; if (compressed) { const encoded = contentNode.textContent; const blob = new Blob([ Uint8Array.from(atob(encoded), (m) => m.codePointAt(0)) ]); const reader = blob.stream().pipeThrough( new DecompressionStream(\"deflate\") ).pipeThrough( new TextDecoderStream(\"utf-8\") ).getReader(); const parts = []; while (true) { const step = await reader.read(); if (step.done) { break; } parts.push(step.value); } const tpl = document.createElement('template'); tpl.innerHTML = parts.join(\"\"); _insertNode(tpl.content); } else { _insertNode(contentNode.content); } })(); } else { _insertNode(contentNode.content); } }); </script></treescope-run-here><div style=\"display:none\"> <script type=\"application/octet-stream\" >eNrFVt9vo0YQ/ldWVLpAdRDHOTsnbCPlpepD1Yf2oQ9tZS0wwNbrXbo7JPFV+d87u2A7tnFUqafWPBhmZ+b75icsLe4kZAkaAFvoFtZGa2R/sVZbgUKrlBmQHMUTLFilFcYV3wq5S9lWK21bXpD8uREIsX9IWWtIIoXF2LuOcdeSVGlF4pwXm9roTpVxoaU2aW+6YMNTLkmB/IkSm5RVAklNIShcsJaXpVB1LKHClE2LxoEoiBsQdUOSu2Tm3CjkgjgfzIab+ElYkQspkJjzDvVBNxYKjVBWFLEVX6A/Hei+Lm/79CwP6YlNpwjTkMwWRrTIXHyrG962UhTcZexWFwguegN8e5OFYbTKKKGEZ5GVUCnLVgwbYZMa8CfK9o+6hDBKGm0x8ecUGiBbt6BcyI+F8+qMfv197OR7rkoJdKw6KRc9QkI0f9ZakTR81mYTsbcc9C8kckcnYhSFE7ZgKm22XBWQKP0cRr6+BBBenLC4N1qy+2lEfkTFwjPWiQRVY8NWKzZxKu9SN4CdUZR3BtLCkVjTKcfs3LVtRIWOn1dwN690XUEIqatUqZ8TA392YPFRia0v13eGbyHscxI5H4sLoLazTZ/GxUiMe4hVH8Y7Uf5zDo5FX0jUdS37qVz7yaFubZ0vJwGJHxk8UYMPlXTs/HOygZ1LemACR2hQTgrJrf2BhnPwGwYHn+sttWGwB3+NKJ/U/r7Hs+Xt2ACU4ol5h6vgdH0EDHlOkcLLKpgETCsiQ2Er0nuv7cdjDZ3NPsqAxq5fWGQBxkC5bmlnQKNlCcZ3jF8k3/AHdw0ry5ukTCCnGaXYkorUeU5QijhcWXav7FRt3bMj7VJYAt3tl9q5IsuY5DnINM2B5gXesCr8bzGK1y+2+M5ttmEBThZHLKH8usuldhvyKmajn8BcIpfcbCzwmsqkLq1TpTE8EzXchpn3mY3mwdukRQPFBsooYt9GRw7OdNxor3/C0G/olN38Np3lxc3/Se/U6CrJ+X9A0tXRAXfGugK2mt5TYEZwhf16sH4UPFDs581e6/Gvg3oMD+EFL1ESYdeVMBbXWq1d+4+M1nujlExnbppGS8X+Nf2+4ucUXVRbbmr6suhp+IE+fknQV5JiolwFhwU2LWZQ5lAU/H7yqczn/OHhMzyU8/LT5+lkNq+CwWhYtadzfw5Pyn0QS6Habvg6CTztXL8Eo06GCOmwj47WvTem/8HXW/yxxRtkHyQu/uAvyaMxfEfLCu+n4d38Y8SSJGEfanTvEnKSnf/ROyT7Gzxutyc=</script> <treescope-run-here><script type=\"application/octet-stream\"> const root = ( Array.from(document.getElementsByClassName( \"treescope_out_73a308a6de9649eeabca119780188fd0\")) .filter((elt) => !elt.dataset['step0']) )[0]; root.dataset['step0'] = 1; root.defns.insertContent( this.parentNode.querySelector('script[type=\"application/octet-stream\"]'), true ); this.parentNode.remove(); </script></treescope-run-here> </div>"
      ],
      "text/plain": [
       "<IPython.core.display.HTML object>"
      ]
     },
     "metadata": {},
     "output_type": "display_data"
    },
    {
     "data": {
      "text/html": [
       "<div style=\"display:none\"> <script type=\"application/octet-stream\" >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</script> <treescope-run-here><script type=\"application/octet-stream\"> const root = ( Array.from(document.getElementsByClassName( \"treescope_out_73a308a6de9649eeabca119780188fd0\")) .filter((elt) => !elt.dataset['step1']) )[0]; root.dataset['step1'] = 1; root.defns.insertContent( this.parentNode.querySelector('script[type=\"application/octet-stream\"]'), true ); this.parentNode.remove(); </script></treescope-run-here> </div>"
      ],
      "text/plain": [
       "<IPython.core.display.HTML object>"
      ]
     },
     "metadata": {},
     "output_type": "display_data"
    },
    {
     "data": {
      "text/html": [
       "<treescope-run-here><script type=\"application/octet-stream\"> const root = ( Array.from(document.getElementsByClassName( \"treescope_out_73a308a6de9649eeabca119780188fd0\")) .filter((elt) => !elt.dataset.stolen) )[0]; root.dataset.stolen = 1; this.parentNode.replaceChild(root, this); </script></treescope-run-here>"
      ],
      "text/plain": [
       "<jax.Array([31, 38, 35, 31, 35, 30, 38, 31, 30, 38, 35, 33, 31, 38, 27, 35],      dtype=int32)>"
      ]
     },
     "execution_count": 21,
     "metadata": {},
     "output_type": "execute_result"
    }
   ],
   "source": [
    "arrow_pos = jnp.nonzero(tokens == sep)[1]\n",
    "arrow_pos"
   ]
  },
  {
   "cell_type": "code",
   "execution_count": 69,
   "metadata": {},
   "outputs": [
    {
     "data": {
      "text/html": [
       "<script> (()=>{ if (customElements.get('treescope-container') === undefined) { class TreescopeContainer extends HTMLElement { constructor() { super(); this.attachShadow({mode: \"open\"}); this.defns = {}; this.state = {}; } } customElements.define(\"treescope-container\", TreescopeContainer); } if (customElements.get('treescope-run-here') === undefined) { class RunHere extends HTMLElement { constructor() { super() } connectedCallback() { const run = child => { const fn = new Function(child.textContent); child.textContent = \"\"; fn.call(this); this.remove(); }; const child = this.querySelector(\"script\"); if (child) { run(child); } else { new MutationObserver(()=>{ run(this.querySelector(\"script\")); }).observe(this, {childList: true}); } } } customElements.define(\"treescope-run-here\", RunHere); } })(); </script> <treescope-container class=\"treescope_out_921f5ca1012546c780135e40f4a7ade6\" ></treescope-container> <treescope-run-here><script type=\"application/octet-stream\"> const root = ( Array.from(document.getElementsByClassName( \"treescope_out_921f5ca1012546c780135e40f4a7ade6\")) .filter((elt) => !elt.dataset.setup) )[0]; root.dataset.setup = 1; const msg = document.createElement(\"span\"); msg.style = \"color: #aaaaaa; font-family: monospace; transition: opacity 0.2s; opacity: 0.0;\"; msg.textContent = \"(Loading...)\"; root.state.loadingMsg = msg; root.shadowRoot.appendChild(msg); root.state.chain = new Promise((resolve, reject) => { const observer = new IntersectionObserver((entries) => { for (const entry of entries) { if (entry.isIntersecting) { resolve(); observer.disconnect(); return; } } }, {rootMargin: \"1000px\"}); window.setTimeout(() => { if (root.loadingMsg) { root.loadingMsg.style.opacity = \"1.0\"; } observer.observe(root); }, 0); }); root.state.deferring = false; const _insertNode = (node) => { for (let oldScript of node.querySelectorAll(\"script\")) { let newScript = document.createElement(\"script\"); newScript.type = oldScript.type; newScript.textContent = oldScript.textContent; oldScript.parentNode.replaceChild(newScript, oldScript); } if (root.state.loadingMsg) { root.state.loadingMsg.remove(); root.state.loadingMsg = null; } root.shadowRoot.appendChild(node); }; root.defns.insertContent = ((contentNode, compressed) => { if (compressed) { root.state.deferring = true; } if (root.state.deferring) { root.state.chain = (async () => { await root.state.chain; if (compressed) { const encoded = contentNode.textContent; const blob = new Blob([ Uint8Array.from(atob(encoded), (m) => m.codePointAt(0)) ]); const reader = blob.stream().pipeThrough( new DecompressionStream(\"deflate\") ).pipeThrough( new TextDecoderStream(\"utf-8\") ).getReader(); const parts = []; while (true) { const step = await reader.read(); if (step.done) { break; } parts.push(step.value); } const tpl = document.createElement('template'); tpl.innerHTML = parts.join(\"\"); _insertNode(tpl.content); } else { _insertNode(contentNode.content); } })(); } else { _insertNode(contentNode.content); } }); </script></treescope-run-here><div style=\"display:none\"> <script type=\"application/octet-stream\" >eNrFVktv4zYQ/iuECmykYqV4vZtsLD+AXIoeih7aQw9tYVDUSGJNkyo5duIt8t87pGQ7tuWgQBetdbA0nJnvm6c0c7hTsMjQAjhhWlhaY5D9xVrjJEqjc2ZBcZRbmLLKaEwrvpZql7O10ca1XJD8qZEIaXjIWWtJoqTDNLhOcdeSVBtN4oKLVW3NRpepMMrYvDOdsv6pUKRA/mSJTc4qiaSmETROWcvLUuo6VVBhzsai8SAa0gZk3ZDkQ3bn3WjkkjgfzPqbdCudLKSSSMz5Bs1BN5UardROitTJL9Cd9nRfZrddemaH9KR2ownTkswJK1tkPr75DW9bJQX3Gbs1AsFHb4GvbxZxnMwXlFDCc8hKqLRjc4aNdFkN+BNl+0dTQpxkjXGYhXMKDZAtW9A+5EfhvXqjX38fOvme61IBHeuNUtMOISOaPxujSRo/GbtK2GsO5hcS+aMTMUrhhS3Yytg11wIybZ7iJNSXAOKLE5Z2RjP2cZyQH1mx+Ix1pkDX2LD5nI28ypvULeDGaso7A+XgSKzZaM/s3LVrZIWeX1DwNy90XUGIqat0aZ4yC39uwOGjlutQru8sX0Pc5STxPqYXQO3GNV0apwMx7iHmXRhvRPnPOXgWXSHR1LXqpnIZJoe6tfW+vAQUvmewpQbvK+nZhedsBTuf9MhGnlCvnAnFnfuBhrP3G0cHn8s1tWG0B39JKJ/U/qHHF7PboQEo5ZYFh/PodH1EDHlBkcLzPBpFzGgiQ2Fr0nur7Ydjjb3NPsqIxq5bWGQB1kK5bGlnQGNUCTZ0TFgk3/DP/upXVjDJmUROM0qxZRWp84KgNHG4suxe2KnasmNH2qV0BLrbL7VzRbZgiheg8rwAmhd4xUqE33QQr1ts6Qe/2foFOJoesaQO665Qxm/Iq5iN2YK9RC65XTngNZVJX1rn2mB8Jmq4ixfB52IwD8EmFw2IFZRJwr5Njhy86bDRXv+EYdjQObv5bXxXiJv/k96p0VWS9/8BSV9HD7yxzhewNfSeAjuAK93Xgw2jEIDSMG/uWo9/HdRjeAjPeImSSbespHW4NHrp239gtN4apWx856dpsFTsX9PvKn5O0Ue15ramL4uORhjo45cEfSVpJst5dFhgvKrGxSfxMBqJ+0/3k9FkUogJPDzApPhMvSai3qhftadzfw5Pyl0QM6nbTf91EgXahXmOBp30EdJhFx2t+2BM/72v1/hDizdavFM4/YM/Z4/W8h0tK/w4jsd39+8TlmUZe1ejf5mQl8X5H71EFn8DoRu3EQ==</script> <treescope-run-here><script type=\"application/octet-stream\"> const root = ( Array.from(document.getElementsByClassName( \"treescope_out_921f5ca1012546c780135e40f4a7ade6\")) .filter((elt) => !elt.dataset['step0']) )[0]; root.dataset['step0'] = 1; root.defns.insertContent( this.parentNode.querySelector('script[type=\"application/octet-stream\"]'), true ); this.parentNode.remove(); </script></treescope-run-here> </div>"
      ],
      "text/plain": [
       "<IPython.core.display.HTML object>"
      ]
     },
     "metadata": {},
     "output_type": "display_data"
    },
    {
     "data": {
      "text/html": [
       "<div style=\"display:none\"> <script type=\"application/octet-stream\" >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</script> <treescope-run-here><script type=\"application/octet-stream\"> const root = ( Array.from(document.getElementsByClassName( \"treescope_out_921f5ca1012546c780135e40f4a7ade6\")) .filter((elt) => !elt.dataset['step1']) )[0]; root.dataset['step1'] = 1; root.defns.insertContent( this.parentNode.querySelector('script[type=\"application/octet-stream\"]'), true ); this.parentNode.remove(); </script></treescope-run-here> </div>"
      ],
      "text/plain": [
       "<IPython.core.display.HTML object>"
      ]
     },
     "metadata": {},
     "output_type": "display_data"
    },
    {
     "data": {
      "text/html": [
       "<treescope-run-here><script type=\"application/octet-stream\"> const root = ( Array.from(document.getElementsByClassName( \"treescope_out_921f5ca1012546c780135e40f4a7ade6\")) .filter((elt) => !elt.dataset.stolen) )[0]; root.dataset.stolen = 1; this.parentNode.replaceChild(root, this); </script></treescope-run-here>"
      ],
      "text/plain": [
       "<jax.Array int32(256,) [≥1, ≤235_324] nonzero:256>"
      ]
     },
     "execution_count": 69,
     "metadata": {},
     "output_type": "execute_result"
    }
   ],
   "source": [
    "logits.argmax(-1)[0]"
   ]
  },
  {
   "cell_type": "code",
   "execution_count": 166,
   "metadata": {},
   "outputs": [
    {
     "name": "stdout",
     "output_type": "stream",
     "text": [
      "Follow the pattern:\n",
      "car, war, have, death -> war\n",
      "serious, go, understand, tree -> go\n",
      "car, important, never, data -> important\n",
      "president, face, word, color -> face\n",
      "product, hold, lady, worker -> hold\n",
      "sister, blood, too, bill -> blood\n",
      "central, little, per, high -> little\n",
      "energy, region, prawda, environment -> region\n",
      "pick, value, brain, state -> value\n",
      "floor, patient, attack, ask -> patient\n"
     ]
    }
   ],
   "source": [
    "prompts = [runner.get_prompt(p) for p in runner.train_pairs]\n",
    "print(prompts[0])"
   ]
  },
  {
   "cell_type": "code",
   "execution_count": 253,
   "metadata": {},
   "outputs": [
    {
     "data": {
      "text/html": [
       "<script> (()=>{ if (customElements.get('treescope-container') === undefined) { class TreescopeContainer extends HTMLElement { constructor() { super(); this.attachShadow({mode: \"open\"}); this.defns = {}; this.state = {}; } } customElements.define(\"treescope-container\", TreescopeContainer); } if (customElements.get('treescope-run-here') === undefined) { class RunHere extends HTMLElement { constructor() { super() } connectedCallback() { const run = child => { const fn = new Function(child.textContent); child.textContent = \"\"; fn.call(this); this.remove(); }; const child = this.querySelector(\"script\"); if (child) { run(child); } else { new MutationObserver(()=>{ run(this.querySelector(\"script\")); }).observe(this, {childList: true}); } } } customElements.define(\"treescope-run-here\", RunHere); } })(); </script> <treescope-container class=\"treescope_out_3df93291ab2e4018bd1ca4b5851b6fd6\" ></treescope-container> <treescope-run-here><script type=\"application/octet-stream\"> const root = ( Array.from(document.getElementsByClassName( \"treescope_out_3df93291ab2e4018bd1ca4b5851b6fd6\")) .filter((elt) => !elt.dataset.setup) )[0]; root.dataset.setup = 1; const msg = document.createElement(\"span\"); msg.style = \"color: #aaaaaa; font-family: monospace; transition: opacity 0.2s; opacity: 0.0;\"; msg.textContent = \"(Loading...)\"; root.state.loadingMsg = msg; root.shadowRoot.appendChild(msg); root.state.chain = new Promise((resolve, reject) => { const observer = new IntersectionObserver((entries) => { for (const entry of entries) { if (entry.isIntersecting) { resolve(); observer.disconnect(); return; } } }, {rootMargin: \"1000px\"}); window.setTimeout(() => { if (root.loadingMsg) { root.loadingMsg.style.opacity = \"1.0\"; } observer.observe(root); }, 0); }); root.state.deferring = false; const _insertNode = (node) => { for (let oldScript of node.querySelectorAll(\"script\")) { let newScript = document.createElement(\"script\"); newScript.type = oldScript.type; newScript.textContent = oldScript.textContent; oldScript.parentNode.replaceChild(newScript, oldScript); } if (root.state.loadingMsg) { root.state.loadingMsg.remove(); root.state.loadingMsg = null; } root.shadowRoot.appendChild(node); }; root.defns.insertContent = ((contentNode, compressed) => { if (compressed) { root.state.deferring = true; } if (root.state.deferring) { root.state.chain = (async () => { await root.state.chain; if (compressed) { const encoded = contentNode.textContent; const blob = new Blob([ Uint8Array.from(atob(encoded), (m) => m.codePointAt(0)) ]); const reader = blob.stream().pipeThrough( new DecompressionStream(\"deflate\") ).pipeThrough( new TextDecoderStream(\"utf-8\") ).getReader(); const parts = []; while (true) { const step = await reader.read(); if (step.done) { break; } parts.push(step.value); } const tpl = document.createElement('template'); tpl.innerHTML = parts.join(\"\"); _insertNode(tpl.content); } else { _insertNode(contentNode.content); } })(); } else { _insertNode(contentNode.content); } }); </script></treescope-run-here><div style=\"display:none\"> <script type=\"application/octet-stream\" >eNrtnQtT27q2x7+Kd/bMIVySECkvHoW5CeXVlrZAW9rus4ej2LKtxraMLBPCmX73KznhnbCRd0+OomuYCcGxnkta+klJ1v9VwkcB3q5xhnFi0xifM0q59W8rpgnhhEYbFsMB4uQSb1oujXjVRSEJRhtWSCOaxMgW14c+4bia/bNhxUxcCUjCq1nWVT6KxdWIRuJyH9kDj9E0cqo2DSjbGCfdtCb/9QNxg8iPONzfsFzCxW0RxxHftGLkOCTyqgF2+YYFbV8WEuGqj4nniyug1pLZRBwRUefbZJMn1UuSkD4JCBc1Rymnt/dWScQZiRJiVxNyjcevTqr789XquHte3XZPlaWRKJOJa4nNSMwt2b6tJRTHAbGR7LFVanMsW88wCpe2y+XlrW3RoaK8hFsOdqPE2rK4T5Kah/mJ6O331MHl5ZpPE17LXhdNw9w6j3Ekm9y1Za4y0R9/TnvlAEVOgMXLURoEm+MSaqKap5RG4mp5SNlg2bpfB3omLsmXHlzmxJYXY8xcykIU2bgW0WF5ObOvKKD85BWrOk70ymrAZZEPca3yo1rXAhx53Le2tqy6vOXZqjPMUxaJfrdwkOC7ivlpJGv2OOvEJy6X9ctukE9+it8ZJZTFqIocOqwxfJHihHcjEmbm2mMoxOVxnyzLPDafFBSniT/uxs0pbbwpYmvcjGda+fI6yFqMDcmp5wXjWXmezRwxWmOZl7yCA16x8KUY4BNLytpl/9cGeCQ7vcRKskKTm2t2gJLknZick3zLpds8z0MxDEs3hf9cFv0phn82xrdfrU6bAA65tLIMt0oP3UfJ4qgvWoqvtkr1kkUjURnR7Ejc99ywn97Wskxz08qSmHZjh5V5jPNEzl0vGymZA/kdNUALCE/ws+bSwEF9kV0kypnh0H5aD287H9dA3O2QJA7Q6MZxPb7R2rYC1MfBxkYfizmB79XAzn42p5Y3dl5VIL3XxMnVN+/KIlHm0voBlV5wZpk+vcTsackOYoMEI0+YInqaeiOivPzoko+S8naW5/bUfsjSbNg+tgfYWV62/mf5rg4y6fREN/c/qGHmhTespX/CVt9e+m9W72GimZVsz6GS0o6y4JQl0oAxFWsRZlPKJcmvKzabCllB1WxOJbPG+K8p9a55HF/xp6XUSHLuEpbwcxqdy+E/ZWo9N5VqsCVn01RTWX+7+mOLP66ibFWImCfoYVyNbEL//JulCZcWj/op52LZnuaA7l6eNmhLVunRXaIjBZJNv/mfGDSd0iOiWzpCYlQQFFino7BPg8T6kHLZXsfaGacUf+ORmBjVIe4PBJ1lyZNQ+GtfuGHBThEXyQlKsHPLdL/juvzdfDrMx6kz6KrX1nH4uJXj+TGlFdPd3V3K2hAl57bgMdGxt+mRy8ez7ZGffq7MR2keFnm/661LxMrVqoM4qqJIGDZb1pfvX5aFSFZhKLoZzVm2FkgsLHpMgGiVplytKbc1EIYh2PntYU2yIq3fSBhTxlH0JO8+owMcncsrd87or3v3XrJ7/Xlj5p81ufKLijnntuBGh+FoUtWHZC7yfHjjL/Ku96bOZCF9MFVtFNhlsX0Q7Ariqwx3aglHMv1tff9jNelT5gi/O66JQ7lou6zF/c5LfMREVYaIRWJKnd+47Jtedl1kg8aUG2NBhf++3SWxyaZI+qVJ8yeXqvVa5jDvtmIb2UYKsarHkEOEQcqg0XKwV7GoGKsetupierZtvzIeu7EoVniC7JI16b8nVXniMn9Zlz4w5k1jftaGfjYigwDFwvn8NcCpe+fZJYyxLSsjuwlfiVnqzLznV9RjWhG/cM8qtxHWb13G0KjmMhqKrYmdhnJbIX12UrtEgdi/lJeXawkVG5fMk8sNiPxbGy8ncvPxwgWltGQtW8u3273Ex2KPKzZTeGjtnJ6eytacymtyh5e9KPZPosk2Ph1Fdvlf/ztZxGy5OORc0MZLkSxJ9qPY4waTa8PJ8UKzLmZnwuwNK2VBWXrXDfn66pC6LtzsC//dblac+vr+kdftdbOfw+Nul2bPeidD8Xiw1+3udp/76YXdrjegb53D3d7O8Fu3++nbzpvu0WFvp7vnXR0evPN50jsi2Gvsvf4K3x22v12exin5eNT6BN58PTz5cnR5dnTNP4729nZWzrzBJ9J7XffJ6+P0za6z/6N+0F91Lw+d+OJt2784I+Q4PYr2/QP3M+9+bvfes2Z37zAa7Lbtz2karZy0LuxkMLx094LViytvl655/TfD/TVw0F2Nuietd4y9AScr3nX9xKl337jAe9/ZGe7/gF6djtKTTifcBe3hwdf1D54X40+DURMf9q9bdp992Oeo6x0fvh++RskoOU4PD7+e7e4Nux+P48NvzufV1RWv86nztcHr7tuPF93LlsjzXfd9p3s07Ibe9cnpSvr9FO9+vYJu275+3zw5GLXSXvftde9HvBc3yMHxzm79e/qxedqJ3N673YO9o7BLVtYud6EfAb+z0v8y/PpjeMAuX+9/3ol+uLu7Hl/5YH8Pgk5rfefNsLfmrzePjvZPG/vfu1542PrRO17nn/bxwfpur3e433jtNU9Wv9mjfndf2PTL29Xu8T7q4qOdoHtwvfvB+869du+j9+HD4evegBy38F7v605vzyb12Gc0jsTYiL/vvgbXYHDq7rjcH72NDhy0lxy49ffh/u77ds/pXnz5EiOenH4PHQeRdeherzc/kx8X7Thk7Q/0284pYfvh5Zv9xunZaWNvF9q9Y/fTykFA4/3mXjJsIe+ivUa+49P3QXwW9Q4OsXPEcHp2sb8TgrM9Njg9vWrB9tlZMuyKGi1b2fkOLy9lw3pJevd/iYfb2Y8cGos1625KZqdStVrtmTsq4zn7p8jr+d2/nx2TZFgxJh6RtxgekW2Vx+Dx8BBLTMFPVE5fcdsETOS1RLgHmYUkLYknaIgItyJ0STzEKauJnOM+RcypDRnh+JPYlJTv8hKNneR1d1IiltRy6R6GyTMSUconEmLBa+WbQ7Qn6RgOBVM9SfqzYsF6vZ6tnML5ikW0nG0oppd7j7VKd5WTW6kbDyaPlUrW79YeIoFwbJxa8ubfMs8mVssoRYHwxkT0GUaORMWV+303Oe/5i5MeiZ03Rz0PzyQer/Ol7VfjxewVieJ0stKUsuWrT69KUzOZrHTixfEqJyqRJX5Yri9yYqKIwTkXCIB5KWtGdYBHYo74W6XS9h+iFSKBSD6pwv3kT6C09NzrpXm1OV9b/6j/+Xxzl+5wfcmi0Y4cfltLivMvO3lbXrJu9xJbpXKAwr6DsvPEjexRVGW5ZGVL51bp3r5DrL7Tb5bbx8cbJXFzNhpl68TzSe9v3zZw/Mdkc2YWLetiUVWjamLXl/Vz1tUP0t0/Sy5t/+P3K9jZTHgqS6qIe2iCK9aQuOIxRqKE8Q0PG1F5kOHDvUJp25rW1AcgX/qvGjuHvf+eyV86APIZGCgYeJoxnzNTRXdTAnVTgl9nyvGfZQM6co4OcNqfPxffscyLC3I6E+0oAOgDdUpOBBRQN92cOkEdUPRpYGGgDrwc6rLj94rYFY+PBStWnwTiMRE5c6OoDqhTHdCX6sDLqS6zsEFMB9SZDhRMp4H/M5Lp5ocFpjAd1IfpoIrxYMF0082pE9NBRZ8GF4bp4MuZziGui0X5tjyeY1QYOqxYNgoxQxWLREZhHVTHOqgv1sGXY92dkQ1iO6jOdrBgOw38oJFsNz88MIXtGvqwXUPFeI2C7aabUye2ayj6tMbCsF1D4U1Ynw4rFkfBoGL1sS/KrVgJzr5UZRTXNdS5rqEv1zUU3oQVBjaI6BrqRNcoiE4D72ck0c0PCkwhuqY+RNdUMV6zILrp5tSJ6JqKPq25METXfDnRoZT7lBE+qlgDcVl+OBwxeXKHWUIjFBiFdU11rGvqi3XNl2PdrZUNYrumOts1C7bTwA8ayXbzwwNT2K6lD9u1VIzXKthuujl1YruWok9rLQzbtV7OdjYNQ8I5xvL918ghIifxNI3IpYC7DPk88dQowmupE15LX8JrvZzwbm1tEOG11AmvVRCeBt7QSMKbHySYQnhtfQivrWK8dkF4082pE+G1FX1ae2EIr/1ywuMs5b58C1Z+a6KPnIrlI+YYRXRtdaJr60t07ZcTXWZbg2iurU5z7YLmNPB8RtLc/IDAFJrr6ENzHRXjdQqam25OnWiuo+jTOgtDcx2VECeI4zALcuKQxE6TRLQne19WgN0QmRXnpKPOdR19ua6jEudkYmWD2K6jznadgu008INGst388MAUtlvTh+3WVIy3VrDddHPqxHZrij5tbWHYbk3hpA5dyWh1TL7ramMmY68Ho+wLsi5OEmoW262ps92avmy3pnBmh64Moro1dapbK6hOAw9oJNXNDwxMobp1fahuXcV46wXVTTenTlS3rujT1heG6tZfTnX4CtlccpyDJduNz+6kOmHFoq5LbMNiE6+rc926vly3/nKum9jZILZbV2e79YLtNPCDRrLd/PDAmNjEGilOALVAjoXmxCyLahWfWDle7eLITgAF3YmQRKn82sQgosMAO554KrKUJ3fENuu7EyCH9ATQWHsCKIhPjK1sUpziHOIToFCf0MMTmhmreI6UYAzl6SRBoeZLChGKWRbVivKUw7AvkA6FghAFvsRslImmS7KTh3mC80YZ56UspolhpJdHjkJnPQoFQYo7S5tEe3lkKQpdCj08opm0N0daMIb2NBKnAErhp0EhTzHLolrRnmpgdrA4ChVAQaLCRlJB1qVMalQkIZLfno0Z/YFtw1THcuhTAI0FKoCCQoW0sUmEl0OcAhTqFHp4QTMJb46EYAzhaSRRAZTCUYNCpGKWRbUiPNVA7WBxdCpAQyn0nbCl1JYdsx6jMjgKjWPKeBrNCIS7uK44h14F0FiwAjSUAt9lljaJ9XLIVoBCt0IPf2gm682RFYxhPY3EK4BSeGpQyFfMsqhWrKcauB0sjoIFUJCwGGIUyzgpiS8aKSEPi39c4qXMsHdtc8hXAI31K4CCgMXYxiYxXg75ClDoV+jhB81kvDkygjGMp5GIBVAKUA0KGYtZFtWK8VRDt4PFUbIAClIWifwonktZKI/0kHgkNhKU5wvLm8V4OQQsgMYKFkBBwkLY2CTAy6FeAQr5Cj2coJmAN0dAMAbwNNKwAEoxq0GhYjHLoloBnmo0d7A4QhZAQckCMU7sQL5Tiy9SIr99gcUlv2KRMEamfSwvh6YF0FjUAiioWkzsbBLo5RC2AIWyhR7O0EzQmyMoGAN6GslbAKUA1qAQuJhlUa1ATzW0O1gcjQugIHKBXBfbXL5bS7ikvSSmUt7CxyiYLne1uG44h8QF0FjjAiiIXIytbBLl5ZC4AIXGhR6e0EzKmyMlGEN5GgldAKWA1qCQuphlUa0oTzXUO1gctQugIHchSkrFlVHFIlKelhGaJuIJujTsI3k5lC6AxlIXQEHr4sbEJkFeDsULUEhe6OEIzYS8OUKCMZCnke4FUIpsDQrli1kW1QryVGO+g8URvwAK6heuGA0VK8QhlaAXyC9fcMxCswgvh+YF0Fj0AiioXkj7mkR3OTQvQCF6oYcHNJPu5kgHptAd1Ej4AirNAVgIX8yyqE50B1WXe7g4whdQQfjCIYmdJknFGvpUfjDPoRUribFNXGIbhXgwh+4F1Fj3AiroXkyMbBDlwRzCF7AQvtDDExpJefOkBGMoTyPhC6jmSwrhi1kW1YryVMO8w8URvoAKwhcuIkHFyt6pZYjIUHkJnS6NsLj+N4faBdRY7QIqqF1I85oEdzl0LmChc6GHAzQT7uYIB8bAnUY6F1ApijUsdC5mWVQruFON8A4XR+cCKuhcJKnn4UTGxBtGFStEA4F31HVNE66FOWQuoMYyF1BB5mJiYpMYL4fSBSyULvTwg2Yy3hwZwRjG00jpAipFr4aF0sUsi2rFeKqR3eHiKF1ABaWLhNoE85HAO8qiTL9WhsmTuheMmaVyAXOoXECNVS6ggsrFxMomYV4OkQtYiFzo4QrNxLw5YoIxmKeRyAVUCmANC5GLWRbVCvNUg7vDxRG5gAoiF30cYVdGTAlJQER+AvgcjIKK6BfEDTvOy6FzATXWuYAKOhcTM5vEeTmELmAhdKGHLzST8+bICcZwnkZCF1ApjjUshC5mWVQrzlON8Q4XR+gCKghduFQKXKTcp4zIUz3hLTEjOLLlN21T26wIeTCH2gXUWO0CKqhdCEObRHk51C5goXahhyc0k/LmSAnGUJ5GahdQKYg1LNQuZllUK8pTDfAOF0ftAiqoXQTE83nF6jNEooo1RIL5PErNkjKDOVQuoMYqF1BB5SKzr0l4l0PjAhYaF3q4QDPxbo54YAzeaaRxAZWiV8NC42KWRbXCO9XI7nBxNC6ggsYFkQURV34oL5Vfv7BpGBLOMc4iqKCBWZyXQ+YCaixzARVkLm4MbRLq5RC6gIXQhR7u0EzUmyMqGIN6GgldQKUY1rAQuphlUa1QTzW+O1wcoQuoIHRh08hjWIbJC7CHslAqGAnki/CVWaK1MIfUBdRY6gIqSF3cGNkkzMshdQELqQs9XKGZmDdHTDAG8zSSuoBKwaxhIXUxy6JaYZ5qoHe4OFIXUEHqgmVhVJBt41iqXPg4k7xIRfnMLMrLIXcBNZa7gApyF8ywOCo55C5gIXehhxc0k/DmSAimEF5DI7mLhtIcaBRyF7MsqhPhNVSX+8biyF006kWsvKnWy2NxPQGvUf//HCuvkUPsolGIXejhB41kvHkygjGMp5HYRUPNlxRiF7MsqhXjqcZ6byyO2EVDQewiIWEcjOSbs9ipWAnxIilba5jcRSOH3EVDY7mLhoLcxdjAJgFeDsGLRiF4oYcTfA7wFrcT54YHebvvNoVDLrf/D3lJePs=</script> <treescope-run-here><script type=\"application/octet-stream\"> const root = ( Array.from(document.getElementsByClassName( \"treescope_out_3df93291ab2e4018bd1ca4b5851b6fd6\")) .filter((elt) => !elt.dataset['step0']) )[0]; root.dataset['step0'] = 1; root.defns.insertContent( this.parentNode.querySelector('script[type=\"application/octet-stream\"]'), true ); this.parentNode.remove(); </script></treescope-run-here> </div>"
      ],
      "text/plain": [
       "<IPython.core.display.HTML object>"
      ]
     },
     "metadata": {},
     "output_type": "display_data"
    },
    {
     "data": {
      "text/html": [
       "<treescope-run-here><script type=\"application/octet-stream\"> const root = ( Array.from(document.getElementsByClassName( \"treescope_out_3df93291ab2e4018bd1ca4b5851b6fd6\")) .filter((elt) => !elt.dataset.stolen) )[0]; root.dataset.stolen = 1; this.parentNode.replaceChild(root, this); </script></treescope-run-here>"
      ],
      "text/plain": [
       "[[('student, close, wife, paper', 'student')],\n",
       " [('order, material, bill, start', 'order')],\n",
       " [('difference, problem, camera, in', 'difference')],\n",
       " [('show, talk, behind, section', 'show')],\n",
       " [('authority, king, share, personal', 'authority')],\n",
       " [('committee, candidate, university, give', 'committee')],\n",
       " [('truth, sell, bad, hard', 'truth')],\n",
       " [('statement, discussion, kind, war', 'statement')],\n",
       " [('tax, party, certainly, professor', 'tax')],\n",
       " [('exactly, department, push, officer', 'exactly')],\n",
       " [('minute, knowledge, get, price', 'minute')],\n",
       " [('everything, prepare, yet, purpose', 'everything')],\n",
       " [('case, force, small, project', 'case')],\n",
       " [('computer, case, road, opportunity', 'computer')],\n",
       " [('weapon, shoot, open, figure', 'weapon')],\n",
       " [('set, former, american, hold', 'set')],\n",
       " [('article, require, earth, impact', 'article')],\n",
       " [('affect, shit, respond, health', 'affect')],\n",
       " [('industry, i, serious, save', 'industry')],\n",
       " [('fine, memory, lot, term', 'fine')],\n",
       " [('discuss, whole, do, specific', 'discuss')],\n",
       " [('fail, try, raise, song', 'fail')],\n",
       " [('suggest, own, make, office', 'suggest')],\n",
       " [('society, morning, form, carry', 'society')],\n",
       " [('benefit, military, deal, state', 'benefit')],\n",
       " [('for, authority, experience, much', 'for')],\n",
       " [('light, brain, war, good', 'light')],\n",
       " [('identify, must, committee, speak', 'identify')],\n",
       " [('congress, legal, treat, next', 'congress')],\n",
       " [('rest, accept, theory, under', 'rest')],\n",
       " [('suggest, own, make, office', 'suggest')],\n",
       " [('simply, need, sign, long', 'simply')]]"
      ]
     },
     "execution_count": 253,
     "metadata": {},
     "output_type": "execute_result"
    }
   ],
   "source": [
    "runner.eval_pairs"
   ]
  },
  {
   "cell_type": "code",
   "execution_count": 256,
   "metadata": {},
   "outputs": [
    {
     "data": {
      "text/html": [
       "<script> (()=>{ if (customElements.get('treescope-container') === undefined) { class TreescopeContainer extends HTMLElement { constructor() { super(); this.attachShadow({mode: \"open\"}); this.defns = {}; this.state = {}; } } customElements.define(\"treescope-container\", TreescopeContainer); } if (customElements.get('treescope-run-here') === undefined) { class RunHere extends HTMLElement { constructor() { super() } connectedCallback() { const run = child => { const fn = new Function(child.textContent); child.textContent = \"\"; fn.call(this); this.remove(); }; const child = this.querySelector(\"script\"); if (child) { run(child); } else { new MutationObserver(()=>{ run(this.querySelector(\"script\")); }).observe(this, {childList: true}); } } } customElements.define(\"treescope-run-here\", RunHere); } })(); </script> <treescope-container class=\"treescope_out_03dca2dd2e8f4ed7bfc1987749ab4470\" ></treescope-container> <treescope-run-here><script type=\"application/octet-stream\"> const root = ( Array.from(document.getElementsByClassName( \"treescope_out_03dca2dd2e8f4ed7bfc1987749ab4470\")) .filter((elt) => !elt.dataset.setup) )[0]; root.dataset.setup = 1; const msg = document.createElement(\"span\"); msg.style = \"color: #aaaaaa; font-family: monospace; transition: opacity 0.2s; opacity: 0.0;\"; msg.textContent = \"(Loading...)\"; root.state.loadingMsg = msg; root.shadowRoot.appendChild(msg); root.state.chain = new Promise((resolve, reject) => { const observer = new IntersectionObserver((entries) => { for (const entry of entries) { if (entry.isIntersecting) { resolve(); observer.disconnect(); return; } } }, {rootMargin: \"1000px\"}); window.setTimeout(() => { if (root.loadingMsg) { root.loadingMsg.style.opacity = \"1.0\"; } observer.observe(root); }, 0); }); root.state.deferring = false; const _insertNode = (node) => { for (let oldScript of node.querySelectorAll(\"script\")) { let newScript = document.createElement(\"script\"); newScript.type = oldScript.type; newScript.textContent = oldScript.textContent; oldScript.parentNode.replaceChild(newScript, oldScript); } if (root.state.loadingMsg) { root.state.loadingMsg.remove(); root.state.loadingMsg = null; } root.shadowRoot.appendChild(node); }; root.defns.insertContent = ((contentNode, compressed) => { if (compressed) { root.state.deferring = true; } if (root.state.deferring) { root.state.chain = (async () => { await root.state.chain; if (compressed) { const encoded = contentNode.textContent; const blob = new Blob([ Uint8Array.from(atob(encoded), (m) => m.codePointAt(0)) ]); const reader = blob.stream().pipeThrough( new DecompressionStream(\"deflate\") ).pipeThrough( new TextDecoderStream(\"utf-8\") ).getReader(); const parts = []; while (true) { const step = await reader.read(); if (step.done) { break; } parts.push(step.value); } const tpl = document.createElement('template'); tpl.innerHTML = parts.join(\"\"); _insertNode(tpl.content); } else { _insertNode(contentNode.content); } })(); } else { _insertNode(contentNode.content); } }); </script></treescope-run-here><div style=\"display:none\"> <script type=\"application/octet-stream\" >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</script> <treescope-run-here><script type=\"application/octet-stream\"> const root = ( Array.from(document.getElementsByClassName( \"treescope_out_03dca2dd2e8f4ed7bfc1987749ab4470\")) .filter((elt) => !elt.dataset['step0']) )[0]; root.dataset['step0'] = 1; root.defns.insertContent( this.parentNode.querySelector('script[type=\"application/octet-stream\"]'), true ); this.parentNode.remove(); </script></treescope-run-here> </div>"
      ],
      "text/plain": [
       "<IPython.core.display.HTML object>"
      ]
     },
     "metadata": {},
     "output_type": "display_data"
    },
    {
     "data": {
      "text/html": [
       "<treescope-run-here><script type=\"application/octet-stream\"> const root = ( Array.from(document.getElementsByClassName( \"treescope_out_03dca2dd2e8f4ed7bfc1987749ab4470\")) .filter((elt) => !elt.dataset.stolen) )[0]; root.dataset.stolen = 1; this.parentNode.replaceChild(root, this); </script></treescope-run-here>"
      ],
      "text/plain": [
       "([<matplotlib.axis.XTick at 0x7f607138f790>,\n",
       "  <matplotlib.axis.XTick at 0x7f607138c670>,\n",
       "  <matplotlib.axis.XTick at 0x7f607138d270>,\n",
       "  <matplotlib.axis.XTick at 0x7f607077c2e0>,\n",
       "  <matplotlib.axis.XTick at 0x7f607077ca60>,\n",
       "  <matplotlib.axis.XTick at 0x7f60704fc6a0>,\n",
       "  <matplotlib.axis.XTick at 0x7f60a81b8250>,\n",
       "  <matplotlib.axis.XTick at 0x7f607077d450>,\n",
       "  <matplotlib.axis.XTick at 0x7f605158b2b0>,\n",
       "  <matplotlib.axis.XTick at 0x7f6051589c90>,\n",
       "  <matplotlib.axis.XTick at 0x7f60515891e0>,\n",
       "  <matplotlib.axis.XTick at 0x7f605158afe0>,\n",
       "  <matplotlib.axis.XTick at 0x7f605158b7c0>,\n",
       "  <matplotlib.axis.XTick at 0x7f6051588af0>,\n",
       "  <matplotlib.axis.XTick at 0x7f64d81340a0>,\n",
       "  <matplotlib.axis.XTick at 0x7f605158be20>,\n",
       "  <matplotlib.axis.XTick at 0x7f6071720b20>,\n",
       "  <matplotlib.axis.XTick at 0x7f607169e620>,\n",
       "  <matplotlib.axis.XTick at 0x7f605158a680>],\n",
       " [Text(0, 0, '2'),\n",
       "  Text(1, 0, '3'),\n",
       "  Text(2, 0, '4'),\n",
       "  Text(3, 0, '5'),\n",
       "  Text(4, 0, '6'),\n",
       "  Text(5, 0, '7'),\n",
       "  Text(6, 0, '8'),\n",
       "  Text(7, 0, '9'),\n",
       "  Text(8, 0, '10'),\n",
       "  Text(9, 0, '11'),\n",
       "  Text(10, 0, '12'),\n",
       "  Text(11, 0, '13'),\n",
       "  Text(12, 0, '14'),\n",
       "  Text(13, 0, '15'),\n",
       "  Text(14, 0, '16'),\n",
       "  Text(15, 0, '17'),\n",
       "  Text(16, 0, '18'),\n",
       "  Text(17, 0, '19'),\n",
       "  Text(18, 0, '20')])"
      ]
     },
     "execution_count": 256,
     "metadata": {},
     "output_type": "execute_result"
    },
    {
     "data": {
      "image/png": "[encoded data removed]",
      "text/plain": [
       "<Figure size 640x480 with 1 Axes>"
      ]
     },
     "metadata": {},
     "output_type": "display_data"
    }
   ],
   "source": [
    "from matplotlib import pyplot as plt\n",
    "\n",
    "plt.plot([x[2] for x in n_shot_losses])\n",
    "plt.xticks(range(19), range(2, 21))\n",
    "# plt.plot([x[1] for x in n_shot_losses])"
   ]
  },
  {
   "cell_type": "code",
   "execution_count": 202,
   "metadata": {},
   "outputs": [
    {
     "data": {
      "text/html": [
       "<script> (()=>{ if (customElements.get('treescope-container') === undefined) { class TreescopeContainer extends HTMLElement { constructor() { super(); this.attachShadow({mode: \"open\"}); this.defns = {}; this.state = {}; } } customElements.define(\"treescope-container\", TreescopeContainer); } if (customElements.get('treescope-run-here') === undefined) { class RunHere extends HTMLElement { constructor() { super() } connectedCallback() { const run = child => { const fn = new Function(child.textContent); child.textContent = \"\"; fn.call(this); this.remove(); }; const child = this.querySelector(\"script\"); if (child) { run(child); } else { new MutationObserver(()=>{ run(this.querySelector(\"script\")); }).observe(this, {childList: true}); } } } customElements.define(\"treescope-run-here\", RunHere); } })(); </script> <treescope-container class=\"treescope_out_7d6b13e31c284d748331c99a1b2bb83d\" ></treescope-container> <treescope-run-here><script type=\"application/octet-stream\"> const root = ( Array.from(document.getElementsByClassName( \"treescope_out_7d6b13e31c284d748331c99a1b2bb83d\")) .filter((elt) => !elt.dataset.setup) )[0]; root.dataset.setup = 1; const msg = document.createElement(\"span\"); msg.style = \"color: #aaaaaa; font-family: monospace; transition: opacity 0.2s; opacity: 0.0;\"; msg.textContent = \"(Loading...)\"; root.state.loadingMsg = msg; root.shadowRoot.appendChild(msg); root.state.chain = new Promise((resolve, reject) => { const observer = new IntersectionObserver((entries) => { for (const entry of entries) { if (entry.isIntersecting) { resolve(); observer.disconnect(); return; } } }, {rootMargin: \"1000px\"}); window.setTimeout(() => { if (root.loadingMsg) { root.loadingMsg.style.opacity = \"1.0\"; } observer.observe(root); }, 0); }); root.state.deferring = false; const _insertNode = (node) => { for (let oldScript of node.querySelectorAll(\"script\")) { let newScript = document.createElement(\"script\"); newScript.type = oldScript.type; newScript.textContent = oldScript.textContent; oldScript.parentNode.replaceChild(newScript, oldScript); } if (root.state.loadingMsg) { root.state.loadingMsg.remove(); root.state.loadingMsg = null; } root.shadowRoot.appendChild(node); }; root.defns.insertContent = ((contentNode, compressed) => { if (compressed) { root.state.deferring = true; } if (root.state.deferring) { root.state.chain = (async () => { await root.state.chain; if (compressed) { const encoded = contentNode.textContent; const blob = new Blob([ Uint8Array.from(atob(encoded), (m) => m.codePointAt(0)) ]); const reader = blob.stream().pipeThrough( new DecompressionStream(\"deflate\") ).pipeThrough( new TextDecoderStream(\"utf-8\") ).getReader(); const parts = []; while (true) { const step = await reader.read(); if (step.done) { break; } parts.push(step.value); } const tpl = document.createElement('template'); tpl.innerHTML = parts.join(\"\"); _insertNode(tpl.content); } else { _insertNode(contentNode.content); } })(); } else { _insertNode(contentNode.content); } }); </script></treescope-run-here><div style=\"display:none\"> <script type=\"application/octet-stream\" >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</script> <treescope-run-here><script type=\"application/octet-stream\"> const root = ( Array.from(document.getElementsByClassName( \"treescope_out_7d6b13e31c284d748331c99a1b2bb83d\")) .filter((elt) => !elt.dataset['step0']) )[0]; root.dataset['step0'] = 1; root.defns.insertContent( this.parentNode.querySelector('script[type=\"application/octet-stream\"]'), true ); this.parentNode.remove(); </script></treescope-run-here> </div>"
      ],
      "text/plain": [
       "<IPython.core.display.HTML object>"
      ]
     },
     "metadata": {},
     "output_type": "display_data"
    },
    {
     "data": {
      "text/html": [
       "<treescope-run-here><script type=\"application/octet-stream\"> const root = ( Array.from(document.getElementsByClassName( \"treescope_out_7d6b13e31c284d748331c99a1b2bb83d\")) .filter((elt) => !elt.dataset.stolen) )[0]; root.dataset.stolen = 1; this.parentNode.replaceChild(root, this); </script></treescope-run-here>"
      ],
      "text/plain": [
       "[(2, 0.0625),\n",
       " (3, 0.0),\n",
       " (4, 0.25),\n",
       " (5, 0.25),\n",
       " (6, 0.1875),\n",
       " (7, 0.25),\n",
       " (8, 0.25),\n",
       " (9, 0.5),\n",
       " (10, 0.125),\n",
       " (11, 0.375),\n",
       " (12, 0.3125),\n",
       " (13, 0.3125),\n",
       " (14, 0.625),\n",
       " (15, 0.6875),\n",
       " (16, 0.6875),\n",
       " (17, 0.25)]"
      ]
     },
     "execution_count": 202,
     "metadata": {},
     "output_type": "execute_result"
    }
   ],
   "source": [
    "list(zip(list(range(2, 18)), [x[2] for x in n_shot_losses]))"
   ]
  },
  {
   "cell_type": "code",
   "execution_count": 13,
   "metadata": {},
   "outputs": [
    {
     "name": "stdout",
     "output_type": "stream",
     "text": [
      "Grad pursuit TV: L: 18, Loss: 0.380859\n"
     ]
    }
   ],
   "source": [
    "from tqdm.auto import tqdm\n",
    "from functools import partial\n",
    "from micrlhf.utils.activation_manipulation import add_vector\n",
    "\n",
    "from micrlhf.utils.ito import grad_pursuit\n",
    "\n",
    "\n",
    "task_losses = {}\n",
    "\n",
    "n_few_shots, batch_size, max_seq_len = 20, 16, 256\n",
    "seed = 10\n",
    "\n",
    "prompt = \"<start_of_turn>user\\nFollow the pattern:\\n{}\"\n",
    "\n",
    "task_name = \"algo_last\"\n",
    "\n",
    "sep = 3978\n",
    "pad = 0\n",
    "\n",
    "pairs = list(tasks[task_name].items())\n",
    "\n",
    "n_shot_losses = []\n",
    "\n",
    "n_shot = 15\n",
    "runner = ICLRunner(task_name, pairs, batch_size=batch_size, n_shot=n_shot, max_seq_len=max_seq_len, seed=seed, prompt=prompt)\n",
    "\n",
    "tokenized = runner.get_tokens([\n",
    "    x for x in runner.train_pairs\n",
    "], tokenizer)\n",
    "\n",
    "inputs = tokenized_to_inputs(**tokenized)\n",
    "train_tokens = tokenized[\"input_ids\"]\n",
    "\n",
    "logits, all_resids = get_resids_call(inputs)\n",
    "\n",
    "icl_loss = logprob_loss(\n",
    "    logits.unwrap(\"batch\", \"seq\", \"vocabulary\"), train_tokens, shift=0, n_first=3, sep=sep, pad_token=0\n",
    ")\n",
    "\n",
    "tokenized = runner.get_tokens(runner.eval_pairs, tokenizer)\n",
    "inputs = tokenized_to_inputs(**tokenized)\n",
    "tokens = tokenized[\"input_ids\"]\n",
    "\n",
    "logits = llama(inputs)\n",
    "\n",
    "zero_loss = logprob_loss(\n",
    "    logits.unwrap(\"batch\", \"seq\", \"vocabulary\"), tokens, shift=0, n_first=3, sep=sep, pad_token=0\n",
    ")\n",
    "\n",
    "\n",
    "resids = all_resids[layer].value.unwrap(\n",
    "    \"batch\", \"seq\", \"embedding\"\n",
    ")\n",
    "\n",
    "tv = get_tv(resids, train_tokens, shift = 0, sep=sep)\n",
    "\n",
    "add_act = make_act_adder(llama, tv.astype('bfloat16'), tokens, layer, length=1, shift= 0, sep=sep, scale=1)\n",
    "\n",
    "logits = add_act(inputs)\n",
    "\n",
    "tv_loss = logprob_loss(\n",
    "    logits.unwrap(\"batch\", \"seq\", \"vocabulary\"), tokens, shift=0, n_first=3, sep=sep, pad_token=0\n",
    ")\n",
    "\n",
    "gw, gtv = grad_pursuit(tv, sae[\"W_dec\"], 20)\n",
    "\n",
    "add_act = make_act_adder(llama, gtv.astype('bfloat16'), tokens, layer, length=1, shift= 0, sep=sep)\n",
    "\n",
    "logits = add_act(inputs)\n",
    "\n",
    "ito_loss = logprob_loss(\n",
    "    logits.unwrap(\"batch\", \"seq\", \"vocabulary\"), tokens, shift=0, n_first=3, sep=sep, pad_token=0\n",
    ")\n",
    "\n",
    "print(\n",
    "    f\"Grad pursuit TV: L: {layer}, Loss: {ito_loss}\"\n",
    ")\n",
    "\n",
    "\n",
    "\n",
    "# arrow_pos = jnp.nonzero(tokens == sep)\n",
    "# arrow_pos_single = []\n",
    "# for i in range(batch_size):\n",
    "#     arrow_pos_single.append(arrow_pos[1][arrow_pos[0] == i].max())\n",
    "\n",
    "# arrow_pos_single = np.array(arrow_pos_single)\n",
    "\n",
    "# hits = 0\n",
    "\n",
    "# logits = logits.unwrap(\"batch\", \"seq\", \"vocabulary\")\n",
    "\n",
    "# for i, (ap, l) in enumerate(zip(arrow_pos_single, logits)):\n",
    "#     l = l.argmax(-1)\n",
    "#     tgt = runner.eval_pairs[i][-1][1]\n",
    "#     hits += int(tgt in repr(tokenizer.decode(l[ap:ap+3])))"
   ]
  },
  {
   "cell_type": "code",
   "execution_count": 14,
   "metadata": {},
   "outputs": [
    {
     "data": {
      "text/html": [
       "<script> (()=>{ if (customElements.get('treescope-container') === undefined) { class TreescopeContainer extends HTMLElement { constructor() { super(); this.attachShadow({mode: \"open\"}); this.defns = {}; this.state = {}; } } customElements.define(\"treescope-container\", TreescopeContainer); } if (customElements.get('treescope-run-here') === undefined) { class RunHere extends HTMLElement { constructor() { super() } connectedCallback() { const run = child => { const fn = new Function(child.textContent); child.textContent = \"\"; fn.call(this); this.remove(); }; const child = this.querySelector(\"script\"); if (child) { run(child); } else { new MutationObserver(()=>{ run(this.querySelector(\"script\")); }).observe(this, {childList: true}); } } } customElements.define(\"treescope-run-here\", RunHere); } })(); </script> <treescope-container class=\"treescope_out_5b9d7c94e518473a8254355ecb248ff3\" ></treescope-container> <treescope-run-here><script type=\"application/octet-stream\"> const root = ( Array.from(document.getElementsByClassName( \"treescope_out_5b9d7c94e518473a8254355ecb248ff3\")) .filter((elt) => !elt.dataset.setup) )[0]; root.dataset.setup = 1; const msg = document.createElement(\"span\"); msg.style = \"color: #aaaaaa; font-family: monospace; transition: opacity 0.2s; opacity: 0.0;\"; msg.textContent = \"(Loading...)\"; root.state.loadingMsg = msg; root.shadowRoot.appendChild(msg); root.state.chain = new Promise((resolve, reject) => { const observer = new IntersectionObserver((entries) => { for (const entry of entries) { if (entry.isIntersecting) { resolve(); observer.disconnect(); return; } } }, {rootMargin: \"1000px\"}); window.setTimeout(() => { if (root.loadingMsg) { root.loadingMsg.style.opacity = \"1.0\"; } observer.observe(root); }, 0); }); root.state.deferring = false; const _insertNode = (node) => { for (let oldScript of node.querySelectorAll(\"script\")) { let newScript = document.createElement(\"script\"); newScript.type = oldScript.type; newScript.textContent = oldScript.textContent; oldScript.parentNode.replaceChild(newScript, oldScript); } if (root.state.loadingMsg) { root.state.loadingMsg.remove(); root.state.loadingMsg = null; } root.shadowRoot.appendChild(node); }; root.defns.insertContent = ((contentNode, compressed) => { if (compressed) { root.state.deferring = true; } if (root.state.deferring) { root.state.chain = (async () => { await root.state.chain; if (compressed) { const encoded = contentNode.textContent; const blob = new Blob([ Uint8Array.from(atob(encoded), (m) => m.codePointAt(0)) ]); const reader = blob.stream().pipeThrough( new DecompressionStream(\"deflate\") ).pipeThrough( new TextDecoderStream(\"utf-8\") ).getReader(); const parts = []; while (true) { const step = await reader.read(); if (step.done) { break; } parts.push(step.value); } const tpl = document.createElement('template'); tpl.innerHTML = parts.join(\"\"); _insertNode(tpl.content); } else { _insertNode(contentNode.content); } })(); } else { _insertNode(contentNode.content); } }); </script></treescope-run-here><div style=\"display:none\"> <script type=\"application/octet-stream\" >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</script> <treescope-run-here><script type=\"application/octet-stream\"> const root = ( Array.from(document.getElementsByClassName( \"treescope_out_5b9d7c94e518473a8254355ecb248ff3\")) .filter((elt) => !elt.dataset['step0']) )[0]; root.dataset['step0'] = 1; root.defns.insertContent( this.parentNode.querySelector('script[type=\"application/octet-stream\"]'), true ); this.parentNode.remove(); </script></treescope-run-here> </div>"
      ],
      "text/plain": [
       "<IPython.core.display.HTML object>"
      ]
     },
     "metadata": {},
     "output_type": "display_data"
    },
    {
     "data": {
      "text/html": [
       "<div style=\"display:none\"> <script type=\"application/octet-stream\" >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</script> <treescope-run-here><script type=\"application/octet-stream\"> const root = ( Array.from(document.getElementsByClassName( \"treescope_out_5b9d7c94e518473a8254355ecb248ff3\")) .filter((elt) => !elt.dataset['step1']) )[0]; root.dataset['step1'] = 1; root.defns.insertContent( this.parentNode.querySelector('script[type=\"application/octet-stream\"]'), true ); this.parentNode.remove(); </script></treescope-run-here> </div>"
      ],
      "text/plain": [
       "<IPython.core.display.HTML object>"
      ]
     },
     "metadata": {},
     "output_type": "display_data"
    },
    {
     "data": {
      "text/html": [
       "<treescope-run-here><script type=\"application/octet-stream\"> const root = ( Array.from(document.getElementsByClassName( \"treescope_out_5b9d7c94e518473a8254355ecb248ff3\")) .filter((elt) => !elt.dataset.stolen) )[0]; root.dataset.stolen = 1; this.parentNode.replaceChild(root, this); </script></treescope-run-here>"
      ],
      "text/plain": [
       "[# jax.Array float32(10,) ≈4.2e+01 ±3.2e+01 [≥2.3e+01, ≤1.4e+02] nonzero:10\n",
       "   Array([135.43867 ,  41.27712 ,  37.228954,  36.440758,  33.29375 ,\n",
       "           31.684303,  27.453093,  26.091726,  23.483995,  23.010355],      dtype=float32)\n",
       " ,\n",
       " # jax.Array int32(10,) [≥835, ≤15_693] nonzero:10\n",
       "   Array([ 3851, 14456, 12802,  6356,  6179,   835,  8580,  8678, 12165,\n",
       "          15693], dtype=int32)\n",
       " ]"
      ]
     },
     "execution_count": 14,
     "metadata": {},
     "output_type": "execute_result"
    }
   ],
   "source": [
    "jax.lax.top_k(gw, 10)"
   ]
  },
  {
   "cell_type": "code",
   "execution_count": 230,
   "metadata": {},
   "outputs": [
    {
     "data": {
      "text/html": [
       "<script> (()=>{ if (customElements.get('treescope-container') === undefined) { class TreescopeContainer extends HTMLElement { constructor() { super(); this.attachShadow({mode: \"open\"}); this.defns = {}; this.state = {}; } } customElements.define(\"treescope-container\", TreescopeContainer); } if (customElements.get('treescope-run-here') === undefined) { class RunHere extends HTMLElement { constructor() { super() } connectedCallback() { const run = child => { const fn = new Function(child.textContent); child.textContent = \"\"; fn.call(this); this.remove(); }; const child = this.querySelector(\"script\"); if (child) { run(child); } else { new MutationObserver(()=>{ run(this.querySelector(\"script\")); }).observe(this, {childList: true}); } } } customElements.define(\"treescope-run-here\", RunHere); } })(); </script> <treescope-container class=\"treescope_out_d6560b0a5d994fffb6108f591d0ba7cf\" ></treescope-container> <treescope-run-here><script type=\"application/octet-stream\"> const root = ( Array.from(document.getElementsByClassName( \"treescope_out_d6560b0a5d994fffb6108f591d0ba7cf\")) .filter((elt) => !elt.dataset.setup) )[0]; root.dataset.setup = 1; const msg = document.createElement(\"span\"); msg.style = \"color: #aaaaaa; font-family: monospace; transition: opacity 0.2s; opacity: 0.0;\"; msg.textContent = \"(Loading...)\"; root.state.loadingMsg = msg; root.shadowRoot.appendChild(msg); root.state.chain = new Promise((resolve, reject) => { const observer = new IntersectionObserver((entries) => { for (const entry of entries) { if (entry.isIntersecting) { resolve(); observer.disconnect(); return; } } }, {rootMargin: \"1000px\"}); window.setTimeout(() => { if (root.loadingMsg) { root.loadingMsg.style.opacity = \"1.0\"; } observer.observe(root); }, 0); }); root.state.deferring = false; const _insertNode = (node) => { for (let oldScript of node.querySelectorAll(\"script\")) { let newScript = document.createElement(\"script\"); newScript.type = oldScript.type; newScript.textContent = oldScript.textContent; oldScript.parentNode.replaceChild(newScript, oldScript); } if (root.state.loadingMsg) { root.state.loadingMsg.remove(); root.state.loadingMsg = null; } root.shadowRoot.appendChild(node); }; root.defns.insertContent = ((contentNode, compressed) => { if (compressed) { root.state.deferring = true; } if (root.state.deferring) { root.state.chain = (async () => { await root.state.chain; if (compressed) { const encoded = contentNode.textContent; const blob = new Blob([ Uint8Array.from(atob(encoded), (m) => m.codePointAt(0)) ]); const reader = blob.stream().pipeThrough( new DecompressionStream(\"deflate\") ).pipeThrough( new TextDecoderStream(\"utf-8\") ).getReader(); const parts = []; while (true) { const step = await reader.read(); if (step.done) { break; } parts.push(step.value); } const tpl = document.createElement('template'); tpl.innerHTML = parts.join(\"\"); _insertNode(tpl.content); } else { _insertNode(contentNode.content); } })(); } else { _insertNode(contentNode.content); } }); </script></treescope-run-here><div style=\"display:none\"> <script type=\"application/octet-stream\" >eNqNVE2P0zAQ/StWOGwi4WwXtLC0TaS9IA6IAxw4IFS5ySSx6oyNPWkpaP8746Qt+1FWqIfGM+M3b55nZhlob6DMyQOEyjpYeWtJ/BbOBk3a4lx4MIr0FhaisUiyUb02+7noLdrgVMX2XacJ5HiYC+fZYnQgOUJL2ju2okU2r1W1ab0dsJaVNdbPp6sLcTitDQcwnq6pm4tGE4chAdJCOFXXGltpoKG5eFV1MQmC7EC3HVuu8usIg6Q0cz5dO3zIrQ56rY0mZq4GsqdYqZG8xqArGfQvmLwHunfLy0me5Uke6QfknJ5tofLakYj1FRfKOaMrFRW7tBVBrN6D6i/KNM2KkgXlfIFEDQ0GUQjqdMhboM+s9idbQ5rlnQ2Uj34uDUisHGAs+baKqPHSt+/nPB8U1gbYjYMxiylDzjS/WItsTXfWbzJxn4P9yqboemAmXUWjA99Y3yusIEe7S7PxfTlB+sQj5HRpKV6/yhhHNyJ9xDo3gC11oijELIY8S90DDR5ZdwEmwF9i3YCR2WPo0OmGIr8xIH7c8e8fGVLuKqztLvfwY4BAt6j78bnee9VDOmmSRYzFk0RuCN0k4+JMjccUxVTGM1X+P4fIYnpIsm1rpqlcjZPD3eoiVrSAoZcCttzgh5eM7MZzvoF9FD3xSSR0CM4ro0L4yMN5wE2TE+aq5zZMjsnvMtaT23/s8XJ5eW4Aar0VI2CRPFwfiSC15krhZ5HMEmGRyXDZyHHPtf35WtN451hlwmM3LaxxY6xw6Nfgx04ZF8iL2bubq+s390eX1xIeaXY8q57XxmZFyjONRNSKlGR6TlFXJMnD8Ps5knKWX928vWZcjihPfyxC+QcyPNxc</script> <treescope-run-here><script type=\"application/octet-stream\"> const root = ( Array.from(document.getElementsByClassName( \"treescope_out_d6560b0a5d994fffb6108f591d0ba7cf\")) .filter((elt) => !elt.dataset['step0']) )[0]; root.dataset['step0'] = 1; root.defns.insertContent( this.parentNode.querySelector('script[type=\"application/octet-stream\"]'), true ); this.parentNode.remove(); </script></treescope-run-here> </div>"
      ],
      "text/plain": [
       "<IPython.core.display.HTML object>"
      ]
     },
     "metadata": {},
     "output_type": "display_data"
    },
    {
     "data": {
      "text/html": [
       "<treescope-run-here><script type=\"application/octet-stream\"> const root = ( Array.from(document.getElementsByClassName( \"treescope_out_d6560b0a5d994fffb6108f591d0ba7cf\")) .filter((elt) => !elt.dataset.stolen) )[0]; root.dataset.stolen = 1; this.parentNode.replaceChild(root, this); </script></treescope-run-here>"
      ],
      "text/plain": [
       "0.1875"
      ]
     },
     "execution_count": 230,
     "metadata": {},
     "output_type": "execute_result"
    }
   ],
   "source": [
    "hits/batch_size / 2"
   ]
  }
 ],
 "metadata": {
  "kernelspec": {
   "display_name": "micrlhf-progress-_SD4q1c9-py3.10",
   "language": "python",
   "name": "python3"
  },
  "language_info": {
   "codemirror_mode": {
    "name": "ipython",
    "version": 3
   },
   "file_extension": ".py",
   "mimetype": "text/x-python",
   "name": "python",
   "nbconvert_exporter": "python",
   "pygments_lexer": "ipython3",
   "version": "3.10.12"
  }
 },
 "nbformat": 4,
 "nbformat_minor": 2
}
