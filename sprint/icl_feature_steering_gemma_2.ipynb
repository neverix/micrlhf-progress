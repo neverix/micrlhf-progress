{
 "cells": [
  {
   "cell_type": "code",
   "execution_count": 1,
   "metadata": {},
   "outputs": [],
   "source": [
    "import os\n",
    "if \"models\" not in os.listdir(\".\"):\n",
    "    os.chdir(\"../..\")"
   ]
  },
  {
   "cell_type": "code",
   "execution_count": 2,
   "metadata": {},
   "outputs": [],
   "source": [
    "%load_ext autoreload\n",
    "%autoreload 2\n",
    "import penzai\n",
    "import jax_smi\n",
    "jax_smi.initialise_tracking()\n",
    "from penzai import pz\n",
    "pz.ts.register_as_default()\n",
    "pz.ts.register_autovisualize_magic()\n",
    "pz.enable_interactive_context()"
   ]
  },
  {
   "cell_type": "code",
   "execution_count": 3,
   "metadata": {},
   "outputs": [],
   "source": [
    "from micrlhf.llama import LlamaTransformer\n",
    "llama = LlamaTransformer.from_pretrained(\"models/gemma-2-2b-it.gguf\",\n",
    "                                         from_type=\"gemma2\",\n",
    "                                         load_eager=True\n",
    "                                         )"
   ]
  },
  {
   "cell_type": "code",
   "execution_count": 4,
   "metadata": {},
   "outputs": [],
   "source": [
    "from transformers import AutoTokenizer\n",
    "tokenizer = AutoTokenizer.from_pretrained(\"alpindale/gemma-2b\")\n",
    "tokenizer.padding_side = \"right\""
   ]
  },
  {
   "cell_type": "code",
   "execution_count": 5,
   "metadata": {},
   "outputs": [],
   "source": [
    "from sprint.icl_sfc_utils import Circuitizer"
   ]
  },
  {
   "cell_type": "code",
   "execution_count": 6,
   "metadata": {},
   "outputs": [],
   "source": [
    "from sprint.task_vector_utils import load_tasks, ICLRunner\n",
    "tasks = load_tasks()"
   ]
  },
  {
   "cell_type": "code",
   "execution_count": 7,
   "metadata": {},
   "outputs": [],
   "source": [
    "task_names = [\"en_es\", \"antonyms\", \"person_profession\", \"country_capital\", \"algo_first\", \"algo_last\", \"algo_second\"]\n",
    "# task_name = task_names[1]"
   ]
  },
  {
   "cell_type": "code",
   "execution_count": 8,
   "metadata": {},
   "outputs": [],
   "source": [
    "import json\n",
    "\n",
    "with open(\"gemma_2_cleaning_compact.jsonl\") as f:\n",
    "    lines = f.readlines()\n",
    "    results = [json.loads(line) for line in lines]"
   ]
  },
  {
   "cell_type": "code",
   "execution_count": 9,
   "metadata": {},
   "outputs": [],
   "source": [
    "import jax.numpy as jnp\n",
    "import jax\n",
    "\n",
    "\n",
    "from sprint.task_vector_utils import ICLRunner, logprob_loss, get_tv, make_act_adder\n",
    "from micrlhf.llama import LlamaBlock\n",
    "from micrlhf.sampling import sample, jit_wrapper\n",
    "\n",
    "\n",
    "get_resids = llama.select().at_instances_of(LlamaBlock).apply_with_selected_index(lambda i, x:\n",
    "    pz.nn.Sequential([\n",
    "        pz.de.TellIntermediate.from_config(tag=f\"resid_pre_{i}\"),\n",
    "        x\n",
    "    ])\n",
    ")\n",
    "get_resids = pz.de.CollectingSideOutputs.handling(get_resids, tag_predicate=lambda x: x.startswith(\"resid_pre\"))\n",
    "get_resids_call = jit_wrapper.Jitted(get_resids)\n",
    "\n",
    "\n",
    "\n",
    "def tokenized_to_inputs(input_ids, attention_mask):\n",
    "    token_array = jnp.asarray(input_ids)\n",
    "    token_array = jax.device_put(token_array, jax.sharding.NamedSharding(llama.mesh, jax.sharding.PartitionSpec(\"dp\", \"sp\")))\n",
    "    token_array = pz.nx.wrap(token_array, \"batch\", \"seq\").untag(\"batch\").tag(\"batch\")\n",
    "\n",
    "    mask_array = jnp.asarray(attention_mask, dtype=jnp.bool)\n",
    "    mask_array = jax.device_put(mask_array, jax.sharding.NamedSharding(llama.mesh, jax.sharding.PartitionSpec(\"dp\", \"sp\")))\n",
    "    mask_array = pz.nx.wrap(mask_array, \"batch\", \"seq\").untag(\"batch\").tag(\"batch\")\n",
    "\n",
    "    inputs = llama.inputs.from_basic_segments(token_array)\n",
    "    return inputs\n"
   ]
  },
  {
   "cell_type": "code",
   "execution_count": 10,
   "metadata": {},
   "outputs": [],
   "source": [
    "from sprint.icl_sfc_utils import AblatedModule\n",
    "layer = 18\n",
    "mask_name = \"arrow\""
   ]
  },
  {
   "cell_type": "code",
   "execution_count": 13,
   "metadata": {},
   "outputs": [
    {
     "data": {
      "text/html": [
       "<script> (()=>{ if (customElements.get('treescope-container') === undefined) { class TreescopeContainer extends HTMLElement { constructor() { super(); this.attachShadow({mode: \"open\"}); this.defns = {}; this.state = {}; } } customElements.define(\"treescope-container\", TreescopeContainer); } if (customElements.get('treescope-run-here') === undefined) { class RunHere extends HTMLElement { constructor() { super() } connectedCallback() { const run = child => { const fn = new Function(child.textContent); child.textContent = \"\"; fn.call(this); this.remove(); }; const child = this.querySelector(\"script\"); if (child) { run(child); } else { new MutationObserver(()=>{ run(this.querySelector(\"script\")); }).observe(this, {childList: true}); } } } customElements.define(\"treescope-run-here\", RunHere); } })(); </script> <treescope-container class=\"treescope_out_817eb7bbb46c4a9799352221fea8399a\" ></treescope-container> <treescope-run-here><script type=\"application/octet-stream\"> const root = ( Array.from(document.getElementsByClassName( \"treescope_out_817eb7bbb46c4a9799352221fea8399a\")) .filter((elt) => !elt.dataset.setup) )[0]; root.dataset.setup = 1; const msg = document.createElement(\"span\"); msg.style = \"color: #aaaaaa; font-family: monospace; transition: opacity 0.2s; opacity: 0.0;\"; msg.textContent = \"(Loading...)\"; root.state.loadingMsg = msg; root.shadowRoot.appendChild(msg); root.state.chain = new Promise((resolve, reject) => { const observer = new IntersectionObserver((entries) => { for (const entry of entries) { if (entry.isIntersecting) { resolve(); observer.disconnect(); return; } } }, {rootMargin: \"1000px\"}); window.setTimeout(() => { if (root.loadingMsg) { root.loadingMsg.style.opacity = \"1.0\"; } observer.observe(root); }, 0); }); root.state.deferring = false; const _insertNode = (node) => { for (let oldScript of node.querySelectorAll(\"script\")) { let newScript = document.createElement(\"script\"); newScript.type = oldScript.type; newScript.textContent = oldScript.textContent; oldScript.parentNode.replaceChild(newScript, oldScript); } if (root.state.loadingMsg) { root.state.loadingMsg.remove(); root.state.loadingMsg = null; } root.shadowRoot.appendChild(node); }; root.defns.insertContent = ((contentNode, compressed) => { if (compressed) { root.state.deferring = true; } if (root.state.deferring) { root.state.chain = (async () => { await root.state.chain; if (compressed) { const encoded = contentNode.textContent; const blob = new Blob([ Uint8Array.from(atob(encoded), (m) => m.codePointAt(0)) ]); const reader = blob.stream().pipeThrough( new DecompressionStream(\"deflate\") ).pipeThrough( new TextDecoderStream(\"utf-8\") ).getReader(); const parts = []; while (true) { const step = await reader.read(); if (step.done) { break; } parts.push(step.value); } const tpl = document.createElement('template'); tpl.innerHTML = parts.join(\"\"); _insertNode(tpl.content); } else { _insertNode(contentNode.content); } })(); } else { _insertNode(contentNode.content); } }); </script></treescope-run-here><div style=\"display:none\"> <script type=\"application/octet-stream\" >eNqNVE2P0zAQ/StWOGwi4Wx3YRG0TaS9IA6IAxw4IFS5ySSx6oyNPWkpaP8746Qt+1FWqIfGM+M3741nZhlob6DMyQOEyjpYeWtJ/BbOBk3a4lx4MIr0FhaisUiyUb02+7noLdrgVMX2XacJ5HiYC+fZYnQgOUJL2ju2okU2r1W1ab0dsJaVNdbPp6sLcTitDQcwnq6pm4tGE4chAdJCOFXXGltpoKG5uK66mARBdqDbji1X+U2EQVKaOZ+uHT7kVge91kYTM1cD2VOs1EheY9CVDPoXTN4D3bvl5VSe5ak80g/IOT3bQuW1IxH1FRfKOaMrFSt2aSuCqN6D6i/KNM2KkgvK+QKJGhoMohDU6ZC3QJ+52p9sDWmWdzZQPvpZGpBYOcAo+baKqPHSt+/nPB8U1gbYjYMxiylDzjS/WItsTXfWbzJxn4P9yqboemAmXUWjA99Y3yusIEe7S7PxfTlB+sQj5HRpKV5dZ4yjG5E+Yp0bwJY6URRiFkOepe6BBo9cdwEmwF9i3YCR2WPo0OmGIr8xIH7c8e8fGVLuKqztLvfwY4BAt6j78bnee9VDOtUkixiLJ4ncELqpjIszGo8piknGMyr/n0NkMT0k2bY101SuxsnhbnURK1rA0EsBW27ww0tGduM538A+Fj3xSSR0CM4ro0L4yMN5wE2TE+aq5zZMjsnvMq4nt//Y4+Xy8twA1HorRsAiebg+EkFqzUrhZ5HMEmGRybBs5Ljn2v681jTeOapMeOymhTVujBUO/Rr82CnjAnkxe/f26ubN/dHltYRHmh3Pque1sVmR8kwjEbUiJZmeU9QVSfIw/H6OpHw9Y0z2lqc/LkD5B8w7240=</script> <treescope-run-here><script type=\"application/octet-stream\"> const root = ( Array.from(document.getElementsByClassName( \"treescope_out_817eb7bbb46c4a9799352221fea8399a\")) .filter((elt) => !elt.dataset['step0']) )[0]; root.dataset['step0'] = 1; root.defns.insertContent( this.parentNode.querySelector('script[type=\"application/octet-stream\"]'), true ); this.parentNode.remove(); </script></treescope-run-here> </div>"
      ],
      "text/plain": [
       "<IPython.core.display.HTML object>"
      ]
     },
     "metadata": {},
     "output_type": "display_data"
    },
    {
     "data": {
      "text/html": [
       "<treescope-run-here><script type=\"application/octet-stream\"> const root = ( Array.from(document.getElementsByClassName( \"treescope_out_817eb7bbb46c4a9799352221fea8399a\")) .filter((elt) => !elt.dataset.stolen) )[0]; root.dataset.stolen = 1; this.parentNode.replaceChild(root, this); </script></treescope-run-here>"
      ],
      "text/plain": [
       "40"
      ]
     },
     "execution_count": 13,
     "metadata": {},
     "output_type": "execute_result"
    }
   ],
   "source": [
    "import numpy as np\n",
    "from micrlhf.utils.load_sae import get_dm_res_sae\n",
    "\n",
    "features = []\n",
    "\n",
    "sae = get_dm_res_sae(layer)\n",
    "threshold = sae.get(\"threshold\", 0)\n",
    "\n",
    "for task_name in task_names:\n",
    "    task_results = [result for result in results if result[\"task\"] == task_name and result[\"layer\"] == layer]\n",
    "\n",
    "    for result in task_results:\n",
    "        features += result[\"indices\"]\n",
    "\n",
    "features = list(set(features))\n",
    "\n",
    "len(features)"
   ]
  },
  {
   "cell_type": "code",
   "execution_count": 12,
   "metadata": {},
   "outputs": [
    {
     "data": {
      "application/vnd.jupyter.widget-view+json": {
       "model_id": "891e4df5c9d54b1e8d3b616bd714dde7",
       "version_major": 2,
       "version_minor": 0
      },
      "text/plain": [
       "  0%|          | 0/7 [00:00<?, ?it/s]"
      ]
     },
     "metadata": {},
     "output_type": "display_data"
    },
    {
     "ename": "KeyboardInterrupt",
     "evalue": "",
     "output_type": "error",
     "traceback": [
      "\u001b[0;31m---------------------------------------------------------------------------\u001b[0m",
      "\u001b[0;31mKeyboardInterrupt\u001b[0m                         Traceback (most recent call last)",
      "Cell \u001b[0;32mIn[12], line 35\u001b[0m\n\u001b[1;32m     32\u001b[0m inputs \u001b[38;5;241m=\u001b[39m tokenized_to_inputs(\u001b[38;5;241m*\u001b[39m\u001b[38;5;241m*\u001b[39mtokenized)\n\u001b[1;32m     33\u001b[0m train_tokens \u001b[38;5;241m=\u001b[39m tokenized[\u001b[38;5;124m\"\u001b[39m\u001b[38;5;124minput_ids\u001b[39m\u001b[38;5;124m\"\u001b[39m]\n\u001b[0;32m---> 35\u001b[0m _, all_resids \u001b[38;5;241m=\u001b[39m \u001b[43mget_resids_call\u001b[49m\u001b[43m(\u001b[49m\u001b[43minputs\u001b[49m\u001b[43m)\u001b[49m\n\u001b[1;32m     37\u001b[0m scale \u001b[38;5;241m=\u001b[39m \u001b[38;5;241m33\u001b[39m\n\u001b[1;32m     39\u001b[0m \u001b[38;5;28;01mdef\u001b[39;00m \u001b[38;5;21msteer_with_direction\u001b[39m(direction):\n",
      "File \u001b[0;32m~/.cache/pypoetry/virtualenvs/micrlhf-progress-_SD4q1c9-py3.10/lib/python3.10/site-packages/penzai/toolshed/jit_wrapper.py:62\u001b[0m, in \u001b[0;36mJitted.__call__\u001b[0;34m(self, argument)\u001b[0m\n\u001b[1;32m     60\u001b[0m \u001b[38;5;28;01mdef\u001b[39;00m \u001b[38;5;21m__call__\u001b[39m(\u001b[38;5;28mself\u001b[39m, argument: Any, \u001b[38;5;241m/\u001b[39m) \u001b[38;5;241m-\u001b[39m\u001b[38;5;241m>\u001b[39m Any:\n\u001b[1;32m     61\u001b[0m   \u001b[38;5;28;01mtry\u001b[39;00m:\n\u001b[0;32m---> 62\u001b[0m     \u001b[38;5;28;01mreturn\u001b[39;00m \u001b[43m_flat_jit_call_layer\u001b[49m\u001b[43m(\u001b[49m\u001b[38;5;28;43mself\u001b[39;49m\u001b[38;5;241;43m.\u001b[39;49m\u001b[43mbody\u001b[49m\u001b[43m,\u001b[49m\u001b[43m \u001b[49m\u001b[43margument\u001b[49m\u001b[43m)\u001b[49m\n\u001b[1;32m     63\u001b[0m   \u001b[38;5;28;01mexcept\u001b[39;00m \u001b[38;5;167;01mTypeError\u001b[39;00m \u001b[38;5;28;01mas\u001b[39;00m exc:\n\u001b[1;32m     64\u001b[0m     impls \u001b[38;5;241m=\u001b[39m pz\u001b[38;5;241m.\u001b[39mselect(\u001b[38;5;28mself\u001b[39m\u001b[38;5;241m.\u001b[39mbody)\u001b[38;5;241m.\u001b[39mat_instances_of(pz\u001b[38;5;241m.\u001b[39mde\u001b[38;5;241m.\u001b[39mEffectRuntimeImpl)\n",
      "    \u001b[0;31m[... skipping hidden 1 frame]\u001b[0m\n",
      "File \u001b[0;32m~/.cache/pypoetry/virtualenvs/micrlhf-progress-_SD4q1c9-py3.10/lib/python3.10/site-packages/jax/_src/pjit.py:332\u001b[0m, in \u001b[0;36m_cpp_pjit.<locals>.cache_miss\u001b[0;34m(*args, **kwargs)\u001b[0m\n\u001b[1;32m    330\u001b[0m \u001b[38;5;129m@api_boundary\u001b[39m\n\u001b[1;32m    331\u001b[0m \u001b[38;5;28;01mdef\u001b[39;00m \u001b[38;5;21mcache_miss\u001b[39m(\u001b[38;5;241m*\u001b[39margs, \u001b[38;5;241m*\u001b[39m\u001b[38;5;241m*\u001b[39mkwargs):\n\u001b[0;32m--> 332\u001b[0m   outs, out_flat, out_tree, args_flat, jaxpr, attrs_tracked \u001b[38;5;241m=\u001b[39m \u001b[43m_python_pjit_helper\u001b[49m\u001b[43m(\u001b[49m\n\u001b[1;32m    333\u001b[0m \u001b[43m      \u001b[49m\u001b[43mfun\u001b[49m\u001b[43m,\u001b[49m\u001b[43m \u001b[49m\u001b[43mjit_info\u001b[49m\u001b[43m,\u001b[49m\u001b[43m \u001b[49m\u001b[38;5;241;43m*\u001b[39;49m\u001b[43margs\u001b[49m\u001b[43m,\u001b[49m\u001b[43m \u001b[49m\u001b[38;5;241;43m*\u001b[39;49m\u001b[38;5;241;43m*\u001b[39;49m\u001b[43mkwargs\u001b[49m\u001b[43m)\u001b[49m\n\u001b[1;32m    334\u001b[0m   executable \u001b[38;5;241m=\u001b[39m _read_most_recent_pjit_call_executable(jaxpr)\n\u001b[1;32m    335\u001b[0m   pgle_profiler \u001b[38;5;241m=\u001b[39m _read_pgle_profiler(jaxpr)\n",
      "File \u001b[0;32m~/.cache/pypoetry/virtualenvs/micrlhf-progress-_SD4q1c9-py3.10/lib/python3.10/site-packages/jax/_src/pjit.py:190\u001b[0m, in \u001b[0;36m_python_pjit_helper\u001b[0;34m(fun, jit_info, *args, **kwargs)\u001b[0m\n\u001b[1;32m    187\u001b[0m   args_flat \u001b[38;5;241m=\u001b[39m [\u001b[38;5;241m*\u001b[39minit_states, \u001b[38;5;241m*\u001b[39margs_flat]\n\u001b[1;32m    189\u001b[0m \u001b[38;5;28;01mtry\u001b[39;00m:\n\u001b[0;32m--> 190\u001b[0m   out_flat \u001b[38;5;241m=\u001b[39m \u001b[43mpjit_p\u001b[49m\u001b[38;5;241;43m.\u001b[39;49m\u001b[43mbind\u001b[49m\u001b[43m(\u001b[49m\u001b[38;5;241;43m*\u001b[39;49m\u001b[43margs_flat\u001b[49m\u001b[43m,\u001b[49m\u001b[43m \u001b[49m\u001b[38;5;241;43m*\u001b[39;49m\u001b[38;5;241;43m*\u001b[39;49m\u001b[43mp\u001b[49m\u001b[38;5;241;43m.\u001b[39;49m\u001b[43mparams\u001b[49m\u001b[43m)\u001b[49m\n\u001b[1;32m    191\u001b[0m \u001b[38;5;28;01mexcept\u001b[39;00m pxla\u001b[38;5;241m.\u001b[39mDeviceAssignmentMismatchError \u001b[38;5;28;01mas\u001b[39;00m e:\n\u001b[1;32m    192\u001b[0m   fails, \u001b[38;5;241m=\u001b[39m e\u001b[38;5;241m.\u001b[39margs\n",
      "File \u001b[0;32m~/.cache/pypoetry/virtualenvs/micrlhf-progress-_SD4q1c9-py3.10/lib/python3.10/site-packages/jax/_src/core.py:2739\u001b[0m, in \u001b[0;36mAxisPrimitive.bind\u001b[0;34m(self, *args, **params)\u001b[0m\n\u001b[1;32m   2735\u001b[0m axis_main \u001b[38;5;241m=\u001b[39m \u001b[38;5;28mmax\u001b[39m((axis_frame(a)\u001b[38;5;241m.\u001b[39mmain_trace \u001b[38;5;28;01mfor\u001b[39;00m a \u001b[38;5;129;01min\u001b[39;00m used_axis_names(\u001b[38;5;28mself\u001b[39m, params)),\n\u001b[1;32m   2736\u001b[0m                 default\u001b[38;5;241m=\u001b[39m\u001b[38;5;28;01mNone\u001b[39;00m, key\u001b[38;5;241m=\u001b[39m\u001b[38;5;28;01mlambda\u001b[39;00m t: \u001b[38;5;28mgetattr\u001b[39m(t, \u001b[38;5;124m'\u001b[39m\u001b[38;5;124mlevel\u001b[39m\u001b[38;5;124m'\u001b[39m, \u001b[38;5;241m-\u001b[39m\u001b[38;5;241m1\u001b[39m))\n\u001b[1;32m   2737\u001b[0m top_trace \u001b[38;5;241m=\u001b[39m (top_trace \u001b[38;5;28;01mif\u001b[39;00m \u001b[38;5;129;01mnot\u001b[39;00m axis_main \u001b[38;5;129;01mor\u001b[39;00m axis_main\u001b[38;5;241m.\u001b[39mlevel \u001b[38;5;241m<\u001b[39m top_trace\u001b[38;5;241m.\u001b[39mlevel\n\u001b[1;32m   2738\u001b[0m              \u001b[38;5;28;01melse\u001b[39;00m axis_main\u001b[38;5;241m.\u001b[39mwith_cur_sublevel())\n\u001b[0;32m-> 2739\u001b[0m \u001b[38;5;28;01mreturn\u001b[39;00m \u001b[38;5;28;43mself\u001b[39;49m\u001b[38;5;241;43m.\u001b[39;49m\u001b[43mbind_with_trace\u001b[49m\u001b[43m(\u001b[49m\u001b[43mtop_trace\u001b[49m\u001b[43m,\u001b[49m\u001b[43m \u001b[49m\u001b[43margs\u001b[49m\u001b[43m,\u001b[49m\u001b[43m \u001b[49m\u001b[43mparams\u001b[49m\u001b[43m)\u001b[49m\n",
      "File \u001b[0;32m~/.cache/pypoetry/virtualenvs/micrlhf-progress-_SD4q1c9-py3.10/lib/python3.10/site-packages/jax/_src/core.py:433\u001b[0m, in \u001b[0;36mPrimitive.bind_with_trace\u001b[0;34m(self, trace, args, params)\u001b[0m\n\u001b[1;32m    431\u001b[0m \u001b[38;5;28;01mdef\u001b[39;00m \u001b[38;5;21mbind_with_trace\u001b[39m(\u001b[38;5;28mself\u001b[39m, trace, args, params):\n\u001b[1;32m    432\u001b[0m   \u001b[38;5;28;01mwith\u001b[39;00m pop_level(trace\u001b[38;5;241m.\u001b[39mlevel):\n\u001b[0;32m--> 433\u001b[0m     out \u001b[38;5;241m=\u001b[39m \u001b[43mtrace\u001b[49m\u001b[38;5;241;43m.\u001b[39;49m\u001b[43mprocess_primitive\u001b[49m\u001b[43m(\u001b[49m\u001b[38;5;28;43mself\u001b[39;49m\u001b[43m,\u001b[49m\u001b[43m \u001b[49m\u001b[38;5;28;43mmap\u001b[39;49m\u001b[43m(\u001b[49m\u001b[43mtrace\u001b[49m\u001b[38;5;241;43m.\u001b[39;49m\u001b[43mfull_raise\u001b[49m\u001b[43m,\u001b[49m\u001b[43m \u001b[49m\u001b[43margs\u001b[49m\u001b[43m)\u001b[49m\u001b[43m,\u001b[49m\u001b[43m \u001b[49m\u001b[43mparams\u001b[49m\u001b[43m)\u001b[49m\n\u001b[1;32m    434\u001b[0m   \u001b[38;5;28;01mreturn\u001b[39;00m \u001b[38;5;28mmap\u001b[39m(full_lower, out) \u001b[38;5;28;01mif\u001b[39;00m \u001b[38;5;28mself\u001b[39m\u001b[38;5;241m.\u001b[39mmultiple_results \u001b[38;5;28;01melse\u001b[39;00m full_lower(out)\n",
      "File \u001b[0;32m~/.cache/pypoetry/virtualenvs/micrlhf-progress-_SD4q1c9-py3.10/lib/python3.10/site-packages/jax/_src/core.py:939\u001b[0m, in \u001b[0;36mEvalTrace.process_primitive\u001b[0;34m(self, primitive, tracers, params)\u001b[0m\n\u001b[1;32m    937\u001b[0m   \u001b[38;5;28;01mreturn\u001b[39;00m call_impl_with_key_reuse_checks(primitive, primitive\u001b[38;5;241m.\u001b[39mimpl, \u001b[38;5;241m*\u001b[39mtracers, \u001b[38;5;241m*\u001b[39m\u001b[38;5;241m*\u001b[39mparams)\n\u001b[1;32m    938\u001b[0m \u001b[38;5;28;01melse\u001b[39;00m:\n\u001b[0;32m--> 939\u001b[0m   \u001b[38;5;28;01mreturn\u001b[39;00m \u001b[43mprimitive\u001b[49m\u001b[38;5;241;43m.\u001b[39;49m\u001b[43mimpl\u001b[49m\u001b[43m(\u001b[49m\u001b[38;5;241;43m*\u001b[39;49m\u001b[43mtracers\u001b[49m\u001b[43m,\u001b[49m\u001b[43m \u001b[49m\u001b[38;5;241;43m*\u001b[39;49m\u001b[38;5;241;43m*\u001b[39;49m\u001b[43mparams\u001b[49m\u001b[43m)\u001b[49m\n",
      "File \u001b[0;32m~/.cache/pypoetry/virtualenvs/micrlhf-progress-_SD4q1c9-py3.10/lib/python3.10/site-packages/jax/_src/pjit.py:1730\u001b[0m, in \u001b[0;36m_pjit_call_impl\u001b[0;34m(jaxpr, in_shardings, out_shardings, in_layouts, out_layouts, resource_env, donated_invars, name, keep_unused, inline, *args)\u001b[0m\n\u001b[1;32m   1727\u001b[0m donated_argnums \u001b[38;5;241m=\u001b[39m [i \u001b[38;5;28;01mfor\u001b[39;00m i, d \u001b[38;5;129;01min\u001b[39;00m \u001b[38;5;28menumerate\u001b[39m(donated_invars) \u001b[38;5;28;01mif\u001b[39;00m d]\n\u001b[1;32m   1728\u001b[0m has_explicit_sharding \u001b[38;5;241m=\u001b[39m _pjit_explicit_sharding(\n\u001b[1;32m   1729\u001b[0m     in_shardings, out_shardings, \u001b[38;5;28;01mNone\u001b[39;00m, \u001b[38;5;28;01mNone\u001b[39;00m)\n\u001b[0;32m-> 1730\u001b[0m \u001b[38;5;28;01mreturn\u001b[39;00m \u001b[43mxc\u001b[49m\u001b[38;5;241;43m.\u001b[39;49m\u001b[43m_xla\u001b[49m\u001b[38;5;241;43m.\u001b[39;49m\u001b[43mpjit\u001b[49m\u001b[43m(\u001b[49m\n\u001b[1;32m   1731\u001b[0m \u001b[43m    \u001b[49m\u001b[43mname\u001b[49m\u001b[43m,\u001b[49m\u001b[43m \u001b[49m\u001b[43mf\u001b[49m\u001b[43m,\u001b[49m\u001b[43m \u001b[49m\u001b[43mcall_impl_cache_miss\u001b[49m\u001b[43m,\u001b[49m\u001b[43m \u001b[49m\u001b[43m[\u001b[49m\u001b[43m]\u001b[49m\u001b[43m,\u001b[49m\u001b[43m \u001b[49m\u001b[43m[\u001b[49m\u001b[43m]\u001b[49m\u001b[43m,\u001b[49m\u001b[43m \u001b[49m\u001b[43mdonated_argnums\u001b[49m\u001b[43m,\u001b[49m\n\u001b[1;32m   1732\u001b[0m \u001b[43m    \u001b[49m\u001b[43mtree_util\u001b[49m\u001b[38;5;241;43m.\u001b[39;49m\u001b[43mdispatch_registry\u001b[49m\u001b[43m,\u001b[49m\n\u001b[1;32m   1733\u001b[0m \u001b[43m    \u001b[49m\u001b[38;5;28;43;01mlambda\u001b[39;49;00m\u001b[43m \u001b[49m\u001b[43mx\u001b[49m\u001b[43m,\u001b[49m\u001b[43m \u001b[49m\u001b[43msharding\u001b[49m\u001b[43m:\u001b[49m\u001b[43m \u001b[49m\u001b[43mpxla\u001b[49m\u001b[38;5;241;43m.\u001b[39;49m\u001b[43mshard_args\u001b[49m\u001b[43m(\u001b[49m\u001b[43m[\u001b[49m\u001b[43msharding\u001b[49m\u001b[43m]\u001b[49m\u001b[43m,\u001b[49m\u001b[43m \u001b[49m\u001b[43m[\u001b[49m\u001b[43mx\u001b[49m\u001b[43m]\u001b[49m\u001b[43m)\u001b[49m\u001b[43m[\u001b[49m\u001b[38;5;241;43m0\u001b[39;49m\u001b[43m]\u001b[49m\u001b[43m,\u001b[49m\n\u001b[1;32m   1734\u001b[0m \u001b[43m    \u001b[49m\u001b[43m_get_cpp_global_cache\u001b[49m\u001b[43m(\u001b[49m\u001b[43mhas_explicit_sharding\u001b[49m\u001b[43m)\u001b[49m\u001b[43m)\u001b[49m\u001b[43m(\u001b[49m\u001b[38;5;241;43m*\u001b[39;49m\u001b[43margs\u001b[49m\u001b[43m)\u001b[49m\n",
      "File \u001b[0;32m~/.cache/pypoetry/virtualenvs/micrlhf-progress-_SD4q1c9-py3.10/lib/python3.10/site-packages/jax/_src/pjit.py:1712\u001b[0m, in \u001b[0;36m_pjit_call_impl.<locals>.call_impl_cache_miss\u001b[0;34m(*args_, **kwargs_)\u001b[0m\n\u001b[1;32m   1711\u001b[0m \u001b[38;5;28;01mdef\u001b[39;00m \u001b[38;5;21mcall_impl_cache_miss\u001b[39m(\u001b[38;5;241m*\u001b[39margs_, \u001b[38;5;241m*\u001b[39m\u001b[38;5;241m*\u001b[39mkwargs_):\n\u001b[0;32m-> 1712\u001b[0m   out_flat, compiled \u001b[38;5;241m=\u001b[39m \u001b[43m_pjit_call_impl_python\u001b[49m\u001b[43m(\u001b[49m\n\u001b[1;32m   1713\u001b[0m \u001b[43m      \u001b[49m\u001b[38;5;241;43m*\u001b[39;49m\u001b[43margs\u001b[49m\u001b[43m,\u001b[49m\u001b[43m \u001b[49m\u001b[43mjaxpr\u001b[49m\u001b[38;5;241;43m=\u001b[39;49m\u001b[43mjaxpr\u001b[49m\u001b[43m,\u001b[49m\u001b[43m \u001b[49m\u001b[43min_shardings\u001b[49m\u001b[38;5;241;43m=\u001b[39;49m\u001b[43min_shardings\u001b[49m\u001b[43m,\u001b[49m\n\u001b[1;32m   1714\u001b[0m \u001b[43m      \u001b[49m\u001b[43mout_shardings\u001b[49m\u001b[38;5;241;43m=\u001b[39;49m\u001b[43mout_shardings\u001b[49m\u001b[43m,\u001b[49m\u001b[43m \u001b[49m\u001b[43min_layouts\u001b[49m\u001b[38;5;241;43m=\u001b[39;49m\u001b[43min_layouts\u001b[49m\u001b[43m,\u001b[49m\n\u001b[1;32m   1715\u001b[0m \u001b[43m      \u001b[49m\u001b[43mout_layouts\u001b[49m\u001b[38;5;241;43m=\u001b[39;49m\u001b[43mout_layouts\u001b[49m\u001b[43m,\u001b[49m\u001b[43m \u001b[49m\u001b[43mresource_env\u001b[49m\u001b[38;5;241;43m=\u001b[39;49m\u001b[43mresource_env\u001b[49m\u001b[43m,\u001b[49m\n\u001b[1;32m   1716\u001b[0m \u001b[43m      \u001b[49m\u001b[43mdonated_invars\u001b[49m\u001b[38;5;241;43m=\u001b[39;49m\u001b[43mdonated_invars\u001b[49m\u001b[43m,\u001b[49m\u001b[43m \u001b[49m\u001b[43mname\u001b[49m\u001b[38;5;241;43m=\u001b[39;49m\u001b[43mname\u001b[49m\u001b[43m,\u001b[49m\u001b[43m \u001b[49m\u001b[43mkeep_unused\u001b[49m\u001b[38;5;241;43m=\u001b[39;49m\u001b[43mkeep_unused\u001b[49m\u001b[43m,\u001b[49m\n\u001b[1;32m   1717\u001b[0m \u001b[43m      \u001b[49m\u001b[43minline\u001b[49m\u001b[38;5;241;43m=\u001b[39;49m\u001b[43minline\u001b[49m\u001b[43m)\u001b[49m\n\u001b[1;32m   1718\u001b[0m   pgle_profiler \u001b[38;5;241m=\u001b[39m _read_pgle_profiler(jaxpr)\n\u001b[1;32m   1719\u001b[0m   fastpath_data \u001b[38;5;241m=\u001b[39m _get_fastpath_data(\n\u001b[1;32m   1720\u001b[0m       compiled, tree_structure(out_flat), args, out_flat, [], jaxpr\u001b[38;5;241m.\u001b[39meffects,\n\u001b[1;32m   1721\u001b[0m       jaxpr\u001b[38;5;241m.\u001b[39mconsts, \u001b[38;5;28;01mNone\u001b[39;00m, pgle_profiler)\n",
      "File \u001b[0;32m~/.cache/pypoetry/virtualenvs/micrlhf-progress-_SD4q1c9-py3.10/lib/python3.10/site-packages/jax/_src/pjit.py:1634\u001b[0m, in \u001b[0;36m_pjit_call_impl_python\u001b[0;34m(jaxpr, in_shardings, out_shardings, in_layouts, out_layouts, resource_env, donated_invars, name, keep_unused, inline, *args)\u001b[0m\n\u001b[1;32m   1629\u001b[0m     compile_options \u001b[38;5;241m=\u001b[39m {\u001b[38;5;124m'\u001b[39m\u001b[38;5;124mfdo_profile\u001b[39m\u001b[38;5;124m'\u001b[39m: fdo_profile}\n\u001b[1;32m   1631\u001b[0m \u001b[38;5;66;03m# TODO(patrios): Do not pass mutable profile session through cached lowering\u001b[39;00m\n\u001b[1;32m   1632\u001b[0m \u001b[38;5;66;03m# chain. Instead we need to move profilers dictionary to pxla module and use\u001b[39;00m\n\u001b[1;32m   1633\u001b[0m \u001b[38;5;66;03m# module as key. Right now we can't do that since there is no way to evict _pjit_lower_cached cache for in PGLE mode.\u001b[39;00m\n\u001b[0;32m-> 1634\u001b[0m compiled \u001b[38;5;241m=\u001b[39m \u001b[43m_resolve_and_lower\u001b[49m\u001b[43m(\u001b[49m\n\u001b[1;32m   1635\u001b[0m \u001b[43m    \u001b[49m\u001b[43margs\u001b[49m\u001b[43m,\u001b[49m\u001b[43m \u001b[49m\u001b[43mjaxpr\u001b[49m\u001b[38;5;241;43m=\u001b[39;49m\u001b[43mjaxpr\u001b[49m\u001b[43m,\u001b[49m\u001b[43m \u001b[49m\u001b[43min_shardings\u001b[49m\u001b[38;5;241;43m=\u001b[39;49m\u001b[43min_shardings\u001b[49m\u001b[43m,\u001b[49m\n\u001b[1;32m   1636\u001b[0m \u001b[43m    \u001b[49m\u001b[43mout_shardings\u001b[49m\u001b[38;5;241;43m=\u001b[39;49m\u001b[43mout_shardings\u001b[49m\u001b[43m,\u001b[49m\u001b[43m \u001b[49m\u001b[43min_layouts\u001b[49m\u001b[38;5;241;43m=\u001b[39;49m\u001b[43min_layouts\u001b[49m\u001b[43m,\u001b[49m\n\u001b[1;32m   1637\u001b[0m \u001b[43m    \u001b[49m\u001b[43mout_layouts\u001b[49m\u001b[38;5;241;43m=\u001b[39;49m\u001b[43mout_layouts\u001b[49m\u001b[43m,\u001b[49m\u001b[43m \u001b[49m\u001b[43mresource_env\u001b[49m\u001b[38;5;241;43m=\u001b[39;49m\u001b[43mresource_env\u001b[49m\u001b[43m,\u001b[49m\n\u001b[1;32m   1638\u001b[0m \u001b[43m    \u001b[49m\u001b[43mdonated_invars\u001b[49m\u001b[38;5;241;43m=\u001b[39;49m\u001b[43mdonated_invars\u001b[49m\u001b[43m,\u001b[49m\u001b[43m \u001b[49m\u001b[43mname\u001b[49m\u001b[38;5;241;43m=\u001b[39;49m\u001b[43mname\u001b[49m\u001b[43m,\u001b[49m\u001b[43m \u001b[49m\u001b[43mkeep_unused\u001b[49m\u001b[38;5;241;43m=\u001b[39;49m\u001b[43mkeep_unused\u001b[49m\u001b[43m,\u001b[49m\n\u001b[1;32m   1639\u001b[0m \u001b[43m    \u001b[49m\u001b[43minline\u001b[49m\u001b[38;5;241;43m=\u001b[39;49m\u001b[43minline\u001b[49m\u001b[43m,\u001b[49m\u001b[43m \u001b[49m\u001b[43mlowering_platforms\u001b[49m\u001b[38;5;241;43m=\u001b[39;49m\u001b[38;5;28;43;01mNone\u001b[39;49;00m\u001b[43m,\u001b[49m\n\u001b[1;32m   1640\u001b[0m \u001b[43m    \u001b[49m\u001b[43mlowering_parameters\u001b[49m\u001b[38;5;241;43m=\u001b[39;49m\u001b[43mmlir\u001b[49m\u001b[38;5;241;43m.\u001b[39;49m\u001b[43mLoweringParameters\u001b[49m\u001b[43m(\u001b[49m\u001b[43m)\u001b[49m\u001b[43m,\u001b[49m\n\u001b[1;32m   1641\u001b[0m \u001b[43m    \u001b[49m\u001b[43mpgle_profiler\u001b[49m\u001b[38;5;241;43m=\u001b[39;49m\u001b[43mpgle_profiler\u001b[49m\n\u001b[1;32m   1642\u001b[0m \u001b[43m\u001b[49m\u001b[43m)\u001b[49m\u001b[38;5;241m.\u001b[39mcompile(compile_options)\n\u001b[1;32m   1644\u001b[0m _most_recent_pjit_call_executable\u001b[38;5;241m.\u001b[39mweak_key_dict[jaxpr] \u001b[38;5;241m=\u001b[39m compiled\n\u001b[1;32m   1645\u001b[0m \u001b[38;5;66;03m# This check is expensive so only do it if enable_checks is on.\u001b[39;00m\n",
      "File \u001b[0;32m~/.cache/pypoetry/virtualenvs/micrlhf-progress-_SD4q1c9-py3.10/lib/python3.10/site-packages/jax/_src/pjit.py:1601\u001b[0m, in \u001b[0;36m_resolve_and_lower\u001b[0;34m(args, jaxpr, in_shardings, out_shardings, in_layouts, out_layouts, resource_env, donated_invars, name, keep_unused, inline, lowering_platforms, lowering_parameters, pgle_profiler)\u001b[0m\n\u001b[1;32m   1596\u001b[0m in_shardings \u001b[38;5;241m=\u001b[39m _resolve_in_shardings(\n\u001b[1;32m   1597\u001b[0m     args, in_shardings, out_shardings,\n\u001b[1;32m   1598\u001b[0m     resource_env\u001b[38;5;241m.\u001b[39mphysical_mesh \u001b[38;5;28;01mif\u001b[39;00m resource_env \u001b[38;5;129;01mis\u001b[39;00m \u001b[38;5;129;01mnot\u001b[39;00m \u001b[38;5;28;01mNone\u001b[39;00m \u001b[38;5;28;01melse\u001b[39;00m \u001b[38;5;28;01mNone\u001b[39;00m)\n\u001b[1;32m   1599\u001b[0m in_layouts \u001b[38;5;241m=\u001b[39m _resolve_in_layouts(args, in_layouts, in_shardings,\n\u001b[1;32m   1600\u001b[0m                                  jaxpr\u001b[38;5;241m.\u001b[39min_avals)\n\u001b[0;32m-> 1601\u001b[0m lowered \u001b[38;5;241m=\u001b[39m \u001b[43m_pjit_lower\u001b[49m\u001b[43m(\u001b[49m\n\u001b[1;32m   1602\u001b[0m \u001b[43m    \u001b[49m\u001b[43mjaxpr\u001b[49m\u001b[43m,\u001b[49m\u001b[43m \u001b[49m\u001b[43min_shardings\u001b[49m\u001b[43m,\u001b[49m\u001b[43m \u001b[49m\u001b[43mout_shardings\u001b[49m\u001b[43m,\u001b[49m\u001b[43m \u001b[49m\u001b[43min_layouts\u001b[49m\u001b[43m,\u001b[49m\u001b[43m \u001b[49m\u001b[43mout_layouts\u001b[49m\u001b[43m,\u001b[49m\u001b[43m \u001b[49m\u001b[43mresource_env\u001b[49m\u001b[43m,\u001b[49m\n\u001b[1;32m   1603\u001b[0m \u001b[43m    \u001b[49m\u001b[43mdonated_invars\u001b[49m\u001b[43m,\u001b[49m\u001b[43m \u001b[49m\u001b[43mname\u001b[49m\u001b[43m,\u001b[49m\u001b[43m \u001b[49m\u001b[43mkeep_unused\u001b[49m\u001b[43m,\u001b[49m\u001b[43m \u001b[49m\u001b[43minline\u001b[49m\u001b[43m,\u001b[49m\n\u001b[1;32m   1604\u001b[0m \u001b[43m    \u001b[49m\u001b[43mlowering_platforms\u001b[49m\u001b[38;5;241;43m=\u001b[39;49m\u001b[43mlowering_platforms\u001b[49m\u001b[43m,\u001b[49m\n\u001b[1;32m   1605\u001b[0m \u001b[43m    \u001b[49m\u001b[43mlowering_parameters\u001b[49m\u001b[38;5;241;43m=\u001b[39;49m\u001b[43mlowering_parameters\u001b[49m\u001b[43m,\u001b[49m\n\u001b[1;32m   1606\u001b[0m \u001b[43m    \u001b[49m\u001b[43mpgle_profiler\u001b[49m\u001b[38;5;241;43m=\u001b[39;49m\u001b[43mpgle_profiler\u001b[49m\u001b[43m)\u001b[49m\n\u001b[1;32m   1607\u001b[0m \u001b[38;5;28;01mreturn\u001b[39;00m lowered\n",
      "File \u001b[0;32m~/.cache/pypoetry/virtualenvs/micrlhf-progress-_SD4q1c9-py3.10/lib/python3.10/site-packages/jax/_src/pjit.py:1740\u001b[0m, in \u001b[0;36m_pjit_lower\u001b[0;34m(*args, **kwargs)\u001b[0m\n\u001b[1;32m   1739\u001b[0m \u001b[38;5;28;01mdef\u001b[39;00m \u001b[38;5;21m_pjit_lower\u001b[39m(\u001b[38;5;241m*\u001b[39margs, \u001b[38;5;241m*\u001b[39m\u001b[38;5;241m*\u001b[39mkwargs):\n\u001b[0;32m-> 1740\u001b[0m   \u001b[38;5;28;01mreturn\u001b[39;00m \u001b[43m_pjit_lower_cached\u001b[49m\u001b[43m(\u001b[49m\u001b[38;5;241;43m*\u001b[39;49m\u001b[43margs\u001b[49m\u001b[43m,\u001b[49m\u001b[43m \u001b[49m\u001b[38;5;241;43m*\u001b[39;49m\u001b[38;5;241;43m*\u001b[39;49m\u001b[43mkwargs\u001b[49m\u001b[43m)\u001b[49m\n",
      "File \u001b[0;32m~/.cache/pypoetry/virtualenvs/micrlhf-progress-_SD4q1c9-py3.10/lib/python3.10/site-packages/jax/_src/pjit.py:1767\u001b[0m, in \u001b[0;36m_pjit_lower_cached\u001b[0;34m(jaxpr, in_shardings, out_shardings, in_layouts, out_layouts, resource_env, donated_invars, name, keep_unused, inline, lowering_platforms, lowering_parameters, pgle_profiler)\u001b[0m\n\u001b[1;32m   1764\u001b[0m   mesh \u001b[38;5;241m=\u001b[39m \u001b[38;5;28;01mNone\u001b[39;00m\n\u001b[1;32m   1765\u001b[0m   api_name \u001b[38;5;241m=\u001b[39m \u001b[38;5;124m'\u001b[39m\u001b[38;5;124mjit\u001b[39m\u001b[38;5;124m'\u001b[39m\n\u001b[0;32m-> 1767\u001b[0m \u001b[38;5;28;01mreturn\u001b[39;00m \u001b[43mpxla\u001b[49m\u001b[38;5;241;43m.\u001b[39;49m\u001b[43mlower_sharding_computation\u001b[49m\u001b[43m(\u001b[49m\n\u001b[1;32m   1768\u001b[0m \u001b[43m    \u001b[49m\u001b[43mjaxpr\u001b[49m\u001b[43m,\u001b[49m\u001b[43m \u001b[49m\u001b[43mapi_name\u001b[49m\u001b[43m,\u001b[49m\u001b[43m \u001b[49m\u001b[43mname\u001b[49m\u001b[43m,\u001b[49m\u001b[43m \u001b[49m\u001b[43min_shardings\u001b[49m\u001b[43m,\u001b[49m\u001b[43m \u001b[49m\u001b[43mout_shardings\u001b[49m\u001b[43m,\u001b[49m\n\u001b[1;32m   1769\u001b[0m \u001b[43m    \u001b[49m\u001b[43min_layouts\u001b[49m\u001b[43m,\u001b[49m\u001b[43m \u001b[49m\u001b[43mout_layouts\u001b[49m\u001b[43m,\u001b[49m\u001b[43m \u001b[49m\u001b[38;5;28;43mtuple\u001b[39;49m\u001b[43m(\u001b[49m\u001b[43mdonated_invars\u001b[49m\u001b[43m)\u001b[49m\u001b[43m,\u001b[49m\n\u001b[1;32m   1770\u001b[0m \u001b[43m    \u001b[49m\u001b[43mkeep_unused\u001b[49m\u001b[38;5;241;43m=\u001b[39;49m\u001b[43mkeep_unused\u001b[49m\u001b[43m,\u001b[49m\n\u001b[1;32m   1771\u001b[0m \u001b[43m    \u001b[49m\u001b[43mdevices_from_context\u001b[49m\u001b[38;5;241;43m=\u001b[39;49m\u001b[43m(\u001b[49m\n\u001b[1;32m   1772\u001b[0m \u001b[43m        \u001b[49m\u001b[38;5;28;43;01mNone\u001b[39;49;00m\u001b[43m \u001b[49m\u001b[38;5;28;43;01mif\u001b[39;49;00m\u001b[43m \u001b[49m\u001b[43mmesh\u001b[49m\u001b[43m \u001b[49m\u001b[38;5;129;43;01mis\u001b[39;49;00m\u001b[43m \u001b[49m\u001b[38;5;28;43;01mNone\u001b[39;49;00m\u001b[43m \u001b[49m\u001b[38;5;129;43;01mor\u001b[39;49;00m\u001b[43m \u001b[49m\u001b[43mmesh\u001b[49m\u001b[38;5;241;43m.\u001b[39;49m\u001b[43mempty\u001b[49m\u001b[43m \u001b[49m\u001b[38;5;28;43;01melse\u001b[39;49;00m\u001b[43m \u001b[49m\u001b[38;5;28;43mlist\u001b[39;49m\u001b[43m(\u001b[49m\u001b[43mmesh\u001b[49m\u001b[38;5;241;43m.\u001b[39;49m\u001b[43mdevices\u001b[49m\u001b[38;5;241;43m.\u001b[39;49m\u001b[43mflat\u001b[49m\u001b[43m)\u001b[49m\u001b[43m)\u001b[49m\u001b[43m,\u001b[49m\n\u001b[1;32m   1773\u001b[0m \u001b[43m    \u001b[49m\u001b[43mlowering_platforms\u001b[49m\u001b[38;5;241;43m=\u001b[39;49m\u001b[43mlowering_platforms\u001b[49m\u001b[43m,\u001b[49m\n\u001b[1;32m   1774\u001b[0m \u001b[43m    \u001b[49m\u001b[43mlowering_parameters\u001b[49m\u001b[38;5;241;43m=\u001b[39;49m\u001b[43mlowering_parameters\u001b[49m\u001b[43m,\u001b[49m\n\u001b[1;32m   1775\u001b[0m \u001b[43m    \u001b[49m\u001b[43mpgle_profiler\u001b[49m\u001b[38;5;241;43m=\u001b[39;49m\u001b[43mpgle_profiler\u001b[49m\u001b[43m)\u001b[49m\n",
      "File \u001b[0;32m~/.cache/pypoetry/virtualenvs/micrlhf-progress-_SD4q1c9-py3.10/lib/python3.10/site-packages/jax/_src/profiler.py:336\u001b[0m, in \u001b[0;36mannotate_function.<locals>.wrapper\u001b[0;34m(*args, **kwargs)\u001b[0m\n\u001b[1;32m    333\u001b[0m \u001b[38;5;129m@wraps\u001b[39m(func)\n\u001b[1;32m    334\u001b[0m \u001b[38;5;28;01mdef\u001b[39;00m \u001b[38;5;21mwrapper\u001b[39m(\u001b[38;5;241m*\u001b[39margs, \u001b[38;5;241m*\u001b[39m\u001b[38;5;241m*\u001b[39mkwargs):\n\u001b[1;32m    335\u001b[0m   \u001b[38;5;28;01mwith\u001b[39;00m TraceAnnotation(name, \u001b[38;5;241m*\u001b[39m\u001b[38;5;241m*\u001b[39mdecorator_kwargs):\n\u001b[0;32m--> 336\u001b[0m     \u001b[38;5;28;01mreturn\u001b[39;00m \u001b[43mfunc\u001b[49m\u001b[43m(\u001b[49m\u001b[38;5;241;43m*\u001b[39;49m\u001b[43margs\u001b[49m\u001b[43m,\u001b[49m\u001b[43m \u001b[49m\u001b[38;5;241;43m*\u001b[39;49m\u001b[38;5;241;43m*\u001b[39;49m\u001b[43mkwargs\u001b[49m\u001b[43m)\u001b[49m\n\u001b[1;32m    337\u001b[0m   \u001b[38;5;28;01mreturn\u001b[39;00m wrapper\n",
      "File \u001b[0;32m~/.cache/pypoetry/virtualenvs/micrlhf-progress-_SD4q1c9-py3.10/lib/python3.10/site-packages/jax/_src/interpreters/pxla.py:2215\u001b[0m, in \u001b[0;36mlower_sharding_computation\u001b[0;34m(closed_jaxpr, api_name, fun_name, in_shardings, out_shardings, in_layouts, out_layouts, donated_invars, keep_unused, devices_from_context, lowering_platforms, lowering_parameters, pgle_profiler)\u001b[0m\n\u001b[1;32m   2211\u001b[0m       mesh_shape_tuple \u001b[38;5;241m=\u001b[39m sharding\u001b[38;5;241m.\u001b[39mmesh\u001b[38;5;241m.\u001b[39mshape_tuple\n\u001b[1;32m   2212\u001b[0m       \u001b[38;5;28;01mbreak\u001b[39;00m\n\u001b[1;32m   2214\u001b[0m (module, keepalive, host_callbacks, unordered_effects, ordered_effects,\n\u001b[0;32m-> 2215\u001b[0m  nreps, tuple_args, shape_poly_state) \u001b[38;5;241m=\u001b[39m \u001b[43m_cached_lowering_to_hlo\u001b[49m\u001b[43m(\u001b[49m\n\u001b[1;32m   2216\u001b[0m \u001b[43m     \u001b[49m\u001b[43mclosed_jaxpr\u001b[49m\u001b[43m,\u001b[49m\u001b[43m \u001b[49m\u001b[43mapi_name\u001b[49m\u001b[43m,\u001b[49m\u001b[43m \u001b[49m\u001b[43mfun_name\u001b[49m\u001b[43m,\u001b[49m\u001b[43m \u001b[49m\u001b[43mbackend\u001b[49m\u001b[43m,\u001b[49m\u001b[43m \u001b[49m\u001b[43msemantic_in_shardings\u001b[49m\u001b[43m,\u001b[49m\n\u001b[1;32m   2217\u001b[0m \u001b[43m     \u001b[49m\u001b[43msemantic_out_shardings\u001b[49m\u001b[43m,\u001b[49m\u001b[43m \u001b[49m\u001b[43min_layouts\u001b[49m\u001b[43m,\u001b[49m\u001b[43m \u001b[49m\u001b[43mout_layouts\u001b[49m\u001b[43m,\u001b[49m\u001b[43m \u001b[49m\u001b[38;5;28;43mlen\u001b[39;49m\u001b[43m(\u001b[49m\u001b[43mda_object\u001b[49m\u001b[43m)\u001b[49m\u001b[43m,\u001b[49m\n\u001b[1;32m   2218\u001b[0m \u001b[43m     \u001b[49m\u001b[38;5;28;43mtuple\u001b[39;49m\u001b[43m(\u001b[49m\u001b[43mda_object\u001b[49m\u001b[43m)\u001b[49m\u001b[43m \u001b[49m\u001b[38;5;28;43;01mif\u001b[39;49;00m\u001b[43m \u001b[49m\u001b[43mprim_requires_devices\u001b[49m\u001b[43m \u001b[49m\u001b[38;5;28;43;01melse\u001b[39;49;00m\u001b[43m \u001b[49m\u001b[38;5;28;43;01mNone\u001b[39;49;00m\u001b[43m,\u001b[49m\u001b[43m \u001b[49m\u001b[43mdonated_invars\u001b[49m\u001b[43m,\u001b[49m\n\u001b[1;32m   2219\u001b[0m \u001b[43m     \u001b[49m\u001b[43mname_stack\u001b[49m\u001b[43m,\u001b[49m\u001b[43m \u001b[49m\u001b[43mall_default_mem_kind\u001b[49m\u001b[43m,\u001b[49m\u001b[43m \u001b[49m\u001b[43minout_aliases\u001b[49m\u001b[43m,\u001b[49m\n\u001b[1;32m   2220\u001b[0m \u001b[43m     \u001b[49m\u001b[43mpropagated_out_mem_kinds\u001b[49m\u001b[43m,\u001b[49m\u001b[43m \u001b[49m\u001b[43mplatforms\u001b[49m\u001b[43m,\u001b[49m\n\u001b[1;32m   2221\u001b[0m \u001b[43m     \u001b[49m\u001b[43mlowering_parameters\u001b[49m\u001b[38;5;241;43m=\u001b[39;49m\u001b[43mlowering_parameters\u001b[49m\u001b[43m,\u001b[49m\n\u001b[1;32m   2222\u001b[0m \u001b[43m     \u001b[49m\u001b[43mmesh_shape_tuple\u001b[49m\u001b[38;5;241;43m=\u001b[39;49m\u001b[43mmesh_shape_tuple\u001b[49m\u001b[43m)\u001b[49m\n\u001b[1;32m   2224\u001b[0m \u001b[38;5;66;03m# backend and device_assignment is passed through to MeshExecutable because\u001b[39;00m\n\u001b[1;32m   2225\u001b[0m \u001b[38;5;66;03m# if keep_unused=False and all in_shardings are pruned, then there is no way\u001b[39;00m\n\u001b[1;32m   2226\u001b[0m \u001b[38;5;66;03m# to get the device_assignment and backend. So pass it to MeshExecutable\u001b[39;00m\n\u001b[1;32m   2227\u001b[0m \u001b[38;5;66;03m# because we calculate the device_assignment and backend before in_shardings,\u001b[39;00m\n\u001b[1;32m   2228\u001b[0m \u001b[38;5;66;03m# etc are pruned.\u001b[39;00m\n\u001b[1;32m   2229\u001b[0m \u001b[38;5;28;01mreturn\u001b[39;00m MeshComputation(\n\u001b[1;32m   2230\u001b[0m     \u001b[38;5;28mstr\u001b[39m(name_stack),\n\u001b[1;32m   2231\u001b[0m     module,\n\u001b[0;32m   (...)\u001b[0m\n\u001b[1;32m   2256\u001b[0m     pgle_profiler\u001b[38;5;241m=\u001b[39mpgle_profiler,\n\u001b[1;32m   2257\u001b[0m     intermediate_shardings\u001b[38;5;241m=\u001b[39m[s \u001b[38;5;28;01mfor\u001b[39;00m s, _ \u001b[38;5;129;01min\u001b[39;00m unique_intermediate_shardings])\n",
      "File \u001b[0;32m~/.cache/pypoetry/virtualenvs/micrlhf-progress-_SD4q1c9-py3.10/lib/python3.10/site-packages/jax/_src/interpreters/pxla.py:1940\u001b[0m, in \u001b[0;36m_cached_lowering_to_hlo\u001b[0;34m(closed_jaxpr, api_name, fun_name, backend, semantic_in_shardings, semantic_out_shardings, in_layouts, out_layouts, num_devices, device_assignment, donated_invars, name_stack, all_default_mem_kind, inout_aliases, propagated_out_mem_kinds, platforms, lowering_parameters, mesh_shape_tuple)\u001b[0m\n\u001b[1;32m   1936\u001b[0m ordered_effects \u001b[38;5;241m=\u001b[39m \u001b[38;5;28mlist\u001b[39m(effects\u001b[38;5;241m.\u001b[39mordered_effects\u001b[38;5;241m.\u001b[39mfilter_in(closed_jaxpr\u001b[38;5;241m.\u001b[39meffects))\n\u001b[1;32m   1937\u001b[0m \u001b[38;5;28;01mwith\u001b[39;00m dispatch\u001b[38;5;241m.\u001b[39mlog_elapsed_time(\n\u001b[1;32m   1938\u001b[0m       \u001b[38;5;124m\"\u001b[39m\u001b[38;5;124mFinished jaxpr to MLIR module conversion \u001b[39m\u001b[38;5;132;01m{fun_name}\u001b[39;00m\u001b[38;5;124m in \u001b[39m\u001b[38;5;132;01m{elapsed_time:.9f}\u001b[39;00m\u001b[38;5;124m sec\u001b[39m\u001b[38;5;124m\"\u001b[39m,\n\u001b[1;32m   1939\u001b[0m       fun_name\u001b[38;5;241m=\u001b[39m\u001b[38;5;28mstr\u001b[39m(name_stack), event\u001b[38;5;241m=\u001b[39mdispatch\u001b[38;5;241m.\u001b[39mJAXPR_TO_MLIR_MODULE_EVENT):\n\u001b[0;32m-> 1940\u001b[0m   lowering_result \u001b[38;5;241m=\u001b[39m \u001b[43mmlir\u001b[49m\u001b[38;5;241;43m.\u001b[39;49m\u001b[43mlower_jaxpr_to_module\u001b[49m\u001b[43m(\u001b[49m\n\u001b[1;32m   1941\u001b[0m \u001b[43m      \u001b[49m\u001b[43mmodule_name\u001b[49m\u001b[43m,\u001b[49m\n\u001b[1;32m   1942\u001b[0m \u001b[43m      \u001b[49m\u001b[43mclosed_jaxpr\u001b[49m\u001b[43m,\u001b[49m\n\u001b[1;32m   1943\u001b[0m \u001b[43m      \u001b[49m\u001b[43mordered_effects\u001b[49m\u001b[38;5;241;43m=\u001b[39;49m\u001b[43mordered_effects\u001b[49m\u001b[43m,\u001b[49m\n\u001b[1;32m   1944\u001b[0m \u001b[43m      \u001b[49m\u001b[43mbackend_or_name\u001b[49m\u001b[38;5;241;43m=\u001b[39;49m\u001b[43mbackend\u001b[49m\u001b[43m,\u001b[49m\n\u001b[1;32m   1945\u001b[0m \u001b[43m      \u001b[49m\u001b[43mplatforms\u001b[49m\u001b[38;5;241;43m=\u001b[39;49m\u001b[43mplatforms\u001b[49m\u001b[43m,\u001b[49m\n\u001b[1;32m   1946\u001b[0m \u001b[43m      \u001b[49m\u001b[43maxis_context\u001b[49m\u001b[38;5;241;43m=\u001b[39;49m\u001b[43maxis_ctx\u001b[49m\u001b[43m,\u001b[49m\n\u001b[1;32m   1947\u001b[0m \u001b[43m      \u001b[49m\u001b[43mname_stack\u001b[49m\u001b[38;5;241;43m=\u001b[39;49m\u001b[43mname_stack\u001b[49m\u001b[43m,\u001b[49m\n\u001b[1;32m   1948\u001b[0m \u001b[43m      \u001b[49m\u001b[43mdonated_args\u001b[49m\u001b[38;5;241;43m=\u001b[39;49m\u001b[43mdonated_invars\u001b[49m\u001b[43m,\u001b[49m\n\u001b[1;32m   1949\u001b[0m \u001b[43m      \u001b[49m\u001b[43mreplicated_args\u001b[49m\u001b[38;5;241;43m=\u001b[39;49m\u001b[43mreplicated_args\u001b[49m\u001b[43m,\u001b[49m\n\u001b[1;32m   1950\u001b[0m \u001b[43m      \u001b[49m\u001b[43marg_shardings\u001b[49m\u001b[38;5;241;43m=\u001b[39;49m\u001b[43min_mlir_shardings\u001b[49m\u001b[43m,\u001b[49m\n\u001b[1;32m   1951\u001b[0m \u001b[43m      \u001b[49m\u001b[43mresult_shardings\u001b[49m\u001b[38;5;241;43m=\u001b[39;49m\u001b[43mout_mlir_shardings\u001b[49m\u001b[43m,\u001b[49m\n\u001b[1;32m   1952\u001b[0m \u001b[43m      \u001b[49m\u001b[43min_layouts\u001b[49m\u001b[38;5;241;43m=\u001b[39;49m\u001b[43min_layouts\u001b[49m\u001b[43m,\u001b[49m\n\u001b[1;32m   1953\u001b[0m \u001b[43m      \u001b[49m\u001b[43mout_layouts\u001b[49m\u001b[38;5;241;43m=\u001b[39;49m\u001b[43mout_layouts\u001b[49m\u001b[43m,\u001b[49m\n\u001b[1;32m   1954\u001b[0m \u001b[43m      \u001b[49m\u001b[43marg_names\u001b[49m\u001b[38;5;241;43m=\u001b[39;49m\u001b[43mjaxpr\u001b[49m\u001b[38;5;241;43m.\u001b[39;49m\u001b[43mdebug_info\u001b[49m\u001b[43m \u001b[49m\u001b[38;5;129;43;01mand\u001b[39;49;00m\u001b[43m \u001b[49m\u001b[43mjaxpr\u001b[49m\u001b[38;5;241;43m.\u001b[39;49m\u001b[43mdebug_info\u001b[49m\u001b[38;5;241;43m.\u001b[39;49m\u001b[43marg_names\u001b[49m\u001b[43m,\u001b[49m\n\u001b[1;32m   1955\u001b[0m \u001b[43m      \u001b[49m\u001b[43mresult_names\u001b[49m\u001b[38;5;241;43m=\u001b[39;49m\u001b[43mjaxpr\u001b[49m\u001b[38;5;241;43m.\u001b[39;49m\u001b[43mdebug_info\u001b[49m\u001b[43m \u001b[49m\u001b[38;5;129;43;01mand\u001b[39;49;00m\u001b[43m \u001b[49m\u001b[43mjaxpr\u001b[49m\u001b[38;5;241;43m.\u001b[39;49m\u001b[43mdebug_info\u001b[49m\u001b[38;5;241;43m.\u001b[39;49m\u001b[43mresult_paths\u001b[49m\u001b[43m,\u001b[49m\n\u001b[1;32m   1956\u001b[0m \u001b[43m      \u001b[49m\u001b[43mnum_replicas\u001b[49m\u001b[38;5;241;43m=\u001b[39;49m\u001b[43mnreps\u001b[49m\u001b[43m,\u001b[49m\n\u001b[1;32m   1957\u001b[0m \u001b[43m      \u001b[49m\u001b[43mnum_partitions\u001b[49m\u001b[38;5;241;43m=\u001b[39;49m\u001b[43mnum_partitions\u001b[49m\u001b[43m,\u001b[49m\n\u001b[1;32m   1958\u001b[0m \u001b[43m      \u001b[49m\u001b[43mall_default_mem_kind\u001b[49m\u001b[38;5;241;43m=\u001b[39;49m\u001b[43mall_default_mem_kind\u001b[49m\u001b[43m,\u001b[49m\n\u001b[1;32m   1959\u001b[0m \u001b[43m      \u001b[49m\u001b[43minput_output_aliases\u001b[49m\u001b[38;5;241;43m=\u001b[39;49m\u001b[43minout_aliases\u001b[49m\u001b[43m,\u001b[49m\n\u001b[1;32m   1960\u001b[0m \u001b[43m      \u001b[49m\u001b[43mpropagated_out_mem_kinds\u001b[49m\u001b[38;5;241;43m=\u001b[39;49m\u001b[43mpropagated_out_mem_kinds\u001b[49m\u001b[43m,\u001b[49m\n\u001b[1;32m   1961\u001b[0m \u001b[43m      \u001b[49m\u001b[43mlowering_parameters\u001b[49m\u001b[38;5;241;43m=\u001b[39;49m\u001b[43mlowering_parameters\u001b[49m\u001b[43m,\u001b[49m\n\u001b[1;32m   1962\u001b[0m \u001b[43m      \u001b[49m\u001b[43mmesh_shape_tuple\u001b[49m\u001b[38;5;241;43m=\u001b[39;49m\u001b[43mmesh_shape_tuple\u001b[49m\u001b[43m)\u001b[49m\n\u001b[1;32m   1963\u001b[0m tuple_args \u001b[38;5;241m=\u001b[39m dispatch\u001b[38;5;241m.\u001b[39mshould_tuple_args(\u001b[38;5;28mlen\u001b[39m(global_in_avals), backend\u001b[38;5;241m.\u001b[39mplatform)\n\u001b[1;32m   1964\u001b[0m unordered_effects \u001b[38;5;241m=\u001b[39m \u001b[38;5;28mlist\u001b[39m(\n\u001b[1;32m   1965\u001b[0m     effects\u001b[38;5;241m.\u001b[39mordered_effects\u001b[38;5;241m.\u001b[39mfilter_not_in(closed_jaxpr\u001b[38;5;241m.\u001b[39meffects))\n",
      "File \u001b[0;32m~/.cache/pypoetry/virtualenvs/micrlhf-progress-_SD4q1c9-py3.10/lib/python3.10/site-packages/jax/_src/interpreters/mlir.py:1061\u001b[0m, in \u001b[0;36mlower_jaxpr_to_module\u001b[0;34m(***failed resolving arguments***)\u001b[0m\n\u001b[1;32m   1059\u001b[0m   attrs[\u001b[38;5;124m\"\u001b[39m\u001b[38;5;124mmhlo.num_replicas\u001b[39m\u001b[38;5;124m\"\u001b[39m] \u001b[38;5;241m=\u001b[39m i32_attr(num_replicas)\n\u001b[1;32m   1060\u001b[0m   attrs[\u001b[38;5;124m\"\u001b[39m\u001b[38;5;124mmhlo.num_partitions\u001b[39m\u001b[38;5;124m\"\u001b[39m] \u001b[38;5;241m=\u001b[39m i32_attr(num_partitions)\n\u001b[0;32m-> 1061\u001b[0m   \u001b[43mlower_jaxpr_to_fun\u001b[49m\u001b[43m(\u001b[49m\n\u001b[1;32m   1062\u001b[0m \u001b[43m      \u001b[49m\u001b[43mctx\u001b[49m\u001b[43m,\u001b[49m\u001b[43m \u001b[49m\u001b[38;5;124;43m\"\u001b[39;49m\u001b[38;5;124;43mmain\u001b[39;49m\u001b[38;5;124;43m\"\u001b[39;49m\u001b[43m,\u001b[49m\u001b[43m \u001b[49m\u001b[43mjaxpr\u001b[49m\u001b[43m,\u001b[49m\u001b[43m \u001b[49m\u001b[43mordered_effects\u001b[49m\u001b[43m,\u001b[49m\n\u001b[1;32m   1063\u001b[0m \u001b[43m      \u001b[49m\u001b[43mname_stack\u001b[49m\u001b[38;5;241;43m=\u001b[39;49m\u001b[43mname_stack\u001b[49m\u001b[43m,\u001b[49m\n\u001b[1;32m   1064\u001b[0m \u001b[43m      \u001b[49m\u001b[43mpublic\u001b[49m\u001b[38;5;241;43m=\u001b[39;49m\u001b[38;5;28;43;01mTrue\u001b[39;49;00m\u001b[43m,\u001b[49m\n\u001b[1;32m   1065\u001b[0m \u001b[43m      \u001b[49m\u001b[43mreplicated_args\u001b[49m\u001b[38;5;241;43m=\u001b[39;49m\u001b[43mreplicated_args\u001b[49m\u001b[43m,\u001b[49m\n\u001b[1;32m   1066\u001b[0m \u001b[43m      \u001b[49m\u001b[43marg_shardings\u001b[49m\u001b[38;5;241;43m=\u001b[39;49m\u001b[43marg_shardings\u001b[49m\u001b[43m,\u001b[49m\n\u001b[1;32m   1067\u001b[0m \u001b[43m      \u001b[49m\u001b[43mresult_shardings\u001b[49m\u001b[38;5;241;43m=\u001b[39;49m\u001b[43mresult_shardings\u001b[49m\u001b[43m,\u001b[49m\n\u001b[1;32m   1068\u001b[0m \u001b[43m      \u001b[49m\u001b[43minput_output_aliases\u001b[49m\u001b[38;5;241;43m=\u001b[39;49m\u001b[43minput_output_aliases\u001b[49m\u001b[43m,\u001b[49m\n\u001b[1;32m   1069\u001b[0m \u001b[43m      \u001b[49m\u001b[43mxla_donated_args\u001b[49m\u001b[38;5;241;43m=\u001b[39;49m\u001b[43mxla_donated_args\u001b[49m\u001b[43m,\u001b[49m\n\u001b[1;32m   1070\u001b[0m \u001b[43m      \u001b[49m\u001b[43marg_names\u001b[49m\u001b[38;5;241;43m=\u001b[39;49m\u001b[43marg_names\u001b[49m\u001b[43m,\u001b[49m\n\u001b[1;32m   1071\u001b[0m \u001b[43m      \u001b[49m\u001b[43mresult_names\u001b[49m\u001b[38;5;241;43m=\u001b[39;49m\u001b[43mresult_names\u001b[49m\u001b[43m,\u001b[49m\n\u001b[1;32m   1072\u001b[0m \u001b[43m      \u001b[49m\u001b[43marg_memory_kinds\u001b[49m\u001b[38;5;241;43m=\u001b[39;49m\u001b[43marg_memory_kinds\u001b[49m\u001b[43m,\u001b[49m\n\u001b[1;32m   1073\u001b[0m \u001b[43m      \u001b[49m\u001b[43mresult_memory_kinds\u001b[49m\u001b[38;5;241;43m=\u001b[39;49m\u001b[43mresult_memory_kinds\u001b[49m\u001b[43m,\u001b[49m\n\u001b[1;32m   1074\u001b[0m \u001b[43m      \u001b[49m\u001b[43marg_layouts\u001b[49m\u001b[38;5;241;43m=\u001b[39;49m\u001b[43min_layouts\u001b[49m\u001b[43m,\u001b[49m\n\u001b[1;32m   1075\u001b[0m \u001b[43m      \u001b[49m\u001b[43mresult_layouts\u001b[49m\u001b[38;5;241;43m=\u001b[39;49m\u001b[43mout_layouts\u001b[49m\u001b[43m,\u001b[49m\n\u001b[1;32m   1076\u001b[0m \u001b[43m      \u001b[49m\u001b[43mpropagated_out_mem_kinds\u001b[49m\u001b[38;5;241;43m=\u001b[39;49m\u001b[43mpropagated_out_mem_kinds\u001b[49m\u001b[43m)\u001b[49m\n\u001b[1;32m   1078\u001b[0m \u001b[38;5;28;01mtry\u001b[39;00m:\n\u001b[1;32m   1079\u001b[0m   \u001b[38;5;28;01mif\u001b[39;00m \u001b[38;5;129;01mnot\u001b[39;00m ctx\u001b[38;5;241m.\u001b[39mmodule\u001b[38;5;241m.\u001b[39moperation\u001b[38;5;241m.\u001b[39mverify():\n",
      "File \u001b[0;32m~/.cache/pypoetry/virtualenvs/micrlhf-progress-_SD4q1c9-py3.10/lib/python3.10/site-packages/jax/_src/interpreters/mlir.py:1504\u001b[0m, in \u001b[0;36mlower_jaxpr_to_fun\u001b[0;34m(ctx, name, jaxpr, effects, name_stack, public, replicated_args, arg_shardings, result_shardings, use_sharding_annotations, input_output_aliases, xla_donated_args, api_name, arg_names, result_names, arg_memory_kinds, result_memory_kinds, arg_layouts, result_layouts, propagated_out_mem_kinds)\u001b[0m\n\u001b[1;32m   1502\u001b[0m   callee_name_stack \u001b[38;5;241m=\u001b[39m name_stack\n\u001b[1;32m   1503\u001b[0m consts \u001b[38;5;241m=\u001b[39m [ir_constant(xla\u001b[38;5;241m.\u001b[39mcanonicalize_dtype(x)) \u001b[38;5;28;01mfor\u001b[39;00m x \u001b[38;5;129;01min\u001b[39;00m jaxpr\u001b[38;5;241m.\u001b[39mconsts]\n\u001b[0;32m-> 1504\u001b[0m out_vals, tokens_out \u001b[38;5;241m=\u001b[39m \u001b[43mjaxpr_subcomp\u001b[49m\u001b[43m(\u001b[49m\n\u001b[1;32m   1505\u001b[0m \u001b[43m    \u001b[49m\u001b[43mctx\u001b[49m\u001b[43m,\u001b[49m\u001b[43m \u001b[49m\u001b[43mjaxpr\u001b[49m\u001b[38;5;241;43m.\u001b[39;49m\u001b[43mjaxpr\u001b[49m\u001b[43m,\u001b[49m\u001b[43m \u001b[49m\u001b[43mcallee_name_stack\u001b[49m\u001b[43m,\u001b[49m\u001b[43m \u001b[49m\u001b[43mtokens_in\u001b[49m\u001b[43m,\u001b[49m\n\u001b[1;32m   1506\u001b[0m \u001b[43m    \u001b[49m\u001b[43mconsts\u001b[49m\u001b[43m,\u001b[49m\u001b[43m \u001b[49m\u001b[38;5;241;43m*\u001b[39;49m\u001b[43margs\u001b[49m\u001b[43m,\u001b[49m\u001b[43m \u001b[49m\u001b[43mdim_var_values\u001b[49m\u001b[38;5;241;43m=\u001b[39;49m\u001b[43mdim_var_values\u001b[49m\u001b[43m)\u001b[49m\n\u001b[1;32m   1507\u001b[0m outs: \u001b[38;5;28mlist\u001b[39m[IrValues] \u001b[38;5;241m=\u001b[39m []\n\u001b[1;32m   1508\u001b[0m \u001b[38;5;28;01mfor\u001b[39;00m eff \u001b[38;5;129;01min\u001b[39;00m effects:\n",
      "File \u001b[0;32m~/.cache/pypoetry/virtualenvs/micrlhf-progress-_SD4q1c9-py3.10/lib/python3.10/site-packages/jax/_src/interpreters/mlir.py:1711\u001b[0m, in \u001b[0;36mjaxpr_subcomp\u001b[0;34m(ctx, jaxpr, name_stack, tokens, consts, dim_var_values, *args)\u001b[0m\n\u001b[1;32m   1708\u001b[0m   rule_ctx \u001b[38;5;241m=\u001b[39m rule_ctx\u001b[38;5;241m.\u001b[39mreplace(axis_size_env\u001b[38;5;241m=\u001b[39maxis_size_env)\n\u001b[1;32m   1710\u001b[0m \u001b[38;5;28;01massert\u001b[39;00m \u001b[38;5;28mall\u001b[39m(_is_ir_values(v) \u001b[38;5;28;01mfor\u001b[39;00m v \u001b[38;5;129;01min\u001b[39;00m in_nodes), (eqn, in_nodes)\n\u001b[0;32m-> 1711\u001b[0m ans \u001b[38;5;241m=\u001b[39m \u001b[43mlower_per_platform\u001b[49m\u001b[43m(\u001b[49m\u001b[43mrule_ctx\u001b[49m\u001b[43m,\u001b[49m\u001b[43m \u001b[49m\u001b[38;5;28;43mstr\u001b[39;49m\u001b[43m(\u001b[49m\u001b[43meqn\u001b[49m\u001b[38;5;241;43m.\u001b[39;49m\u001b[43mprimitive\u001b[49m\u001b[43m)\u001b[49m\u001b[43m,\u001b[49m\n\u001b[1;32m   1712\u001b[0m \u001b[43m                         \u001b[49m\u001b[43mplatform_rules\u001b[49m\u001b[43m,\u001b[49m\u001b[43m \u001b[49m\u001b[43mdefault_rule\u001b[49m\u001b[43m,\u001b[49m\n\u001b[1;32m   1713\u001b[0m \u001b[43m                         \u001b[49m\u001b[43meqn\u001b[49m\u001b[38;5;241;43m.\u001b[39;49m\u001b[43meffects\u001b[49m\u001b[43m,\u001b[49m\n\u001b[1;32m   1714\u001b[0m \u001b[43m                         \u001b[49m\u001b[38;5;241;43m*\u001b[39;49m\u001b[43min_nodes\u001b[49m\u001b[43m,\u001b[49m\u001b[43m \u001b[49m\u001b[38;5;241;43m*\u001b[39;49m\u001b[38;5;241;43m*\u001b[39;49m\u001b[43meqn\u001b[49m\u001b[38;5;241;43m.\u001b[39;49m\u001b[43mparams\u001b[49m\u001b[43m)\u001b[49m\n\u001b[1;32m   1716\u001b[0m \u001b[38;5;28;01mif\u001b[39;00m effects:\n\u001b[1;32m   1717\u001b[0m   \u001b[38;5;66;03m# If there were ordered effects in the primitive, there should be output\u001b[39;00m\n\u001b[1;32m   1718\u001b[0m   \u001b[38;5;66;03m# tokens we need for subsequent ordered effects.\u001b[39;00m\n\u001b[1;32m   1719\u001b[0m   tokens_out \u001b[38;5;241m=\u001b[39m rule_ctx\u001b[38;5;241m.\u001b[39mtokens_out\n",
      "File \u001b[0;32m~/.cache/pypoetry/virtualenvs/micrlhf-progress-_SD4q1c9-py3.10/lib/python3.10/site-packages/jax/_src/interpreters/mlir.py:1827\u001b[0m, in \u001b[0;36mlower_per_platform\u001b[0;34m(ctx, description, platform_rules, default_rule, effects, *rule_args, **rule_kwargs)\u001b[0m\n\u001b[1;32m   1825\u001b[0m \u001b[38;5;66;03m# If there is a single rule left just apply the rule, without conditionals.\u001b[39;00m\n\u001b[1;32m   1826\u001b[0m \u001b[38;5;28;01mif\u001b[39;00m \u001b[38;5;28mlen\u001b[39m(kept_rules) \u001b[38;5;241m==\u001b[39m \u001b[38;5;241m1\u001b[39m:\n\u001b[0;32m-> 1827\u001b[0m   output \u001b[38;5;241m=\u001b[39m \u001b[43mkept_rules\u001b[49m\u001b[43m[\u001b[49m\u001b[38;5;241;43m0\u001b[39;49m\u001b[43m]\u001b[49m\u001b[43m(\u001b[49m\u001b[43mctx\u001b[49m\u001b[43m,\u001b[49m\u001b[43m \u001b[49m\u001b[38;5;241;43m*\u001b[39;49m\u001b[43mrule_args\u001b[49m\u001b[43m,\u001b[49m\u001b[43m \u001b[49m\u001b[38;5;241;43m*\u001b[39;49m\u001b[38;5;241;43m*\u001b[39;49m\u001b[43mrule_kwargs\u001b[49m\u001b[43m)\u001b[49m\n\u001b[1;32m   1828\u001b[0m   \u001b[38;5;28mmap\u001b[39m(\n\u001b[1;32m   1829\u001b[0m       \u001b[38;5;28;01mlambda\u001b[39;00m o: wrap_compute_type_in_place(ctx, o\u001b[38;5;241m.\u001b[39mowner),\n\u001b[1;32m   1830\u001b[0m       \u001b[38;5;28mfilter\u001b[39m(_is_not_block_argument, flatten_ir_values(output)),\n\u001b[1;32m   1831\u001b[0m   )\n\u001b[1;32m   1832\u001b[0m   \u001b[38;5;28;01mreturn\u001b[39;00m output\n",
      "File \u001b[0;32m~/.cache/pypoetry/virtualenvs/micrlhf-progress-_SD4q1c9-py3.10/lib/python3.10/site-packages/jax/_src/lax/lax.py:1810\u001b[0m, in \u001b[0;36m_nary_lower_hlo\u001b[0;34m(***failed resolving arguments***)\u001b[0m\n\u001b[1;32m   1808\u001b[0m   \u001b[38;5;28;01mreturn\u001b[39;00m [op(mlir\u001b[38;5;241m.\u001b[39maval_to_ir_type(aval_out), \u001b[38;5;241m*\u001b[39mbroadcasted_args)]\n\u001b[1;32m   1809\u001b[0m \u001b[38;5;28;01melse\u001b[39;00m:\n\u001b[0;32m-> 1810\u001b[0m   \u001b[38;5;28;01mreturn\u001b[39;00m [\u001b[43mop\u001b[49m\u001b[43m(\u001b[49m\u001b[38;5;241;43m*\u001b[39;49m\u001b[43mbroadcasted_args\u001b[49m\u001b[43m)\u001b[49m]\n",
      "File \u001b[0;32m~/.cache/pypoetry/virtualenvs/micrlhf-progress-_SD4q1c9-py3.10/lib/python3.10/site-packages/jaxlib/mlir/dialects/_stablehlo_ops_gen.py:80\u001b[0m, in \u001b[0;36madd\u001b[0;34m(lhs, rhs, loc, ip)\u001b[0m\n\u001b[1;32m     79\u001b[0m \u001b[38;5;28;01mdef\u001b[39;00m \u001b[38;5;21madd\u001b[39m(lhs, rhs, \u001b[38;5;241m*\u001b[39m, loc\u001b[38;5;241m=\u001b[39m\u001b[38;5;28;01mNone\u001b[39;00m, ip\u001b[38;5;241m=\u001b[39m\u001b[38;5;28;01mNone\u001b[39;00m) \u001b[38;5;241m-\u001b[39m\u001b[38;5;241m>\u001b[39m _ods_ir\u001b[38;5;241m.\u001b[39mValue:\n\u001b[0;32m---> 80\u001b[0m   \u001b[38;5;28;01mreturn\u001b[39;00m _get_op_result_or_op_results(\u001b[43mAddOp\u001b[49m\u001b[43m(\u001b[49m\u001b[43mlhs\u001b[49m\u001b[38;5;241;43m=\u001b[39;49m\u001b[43mlhs\u001b[49m\u001b[43m,\u001b[49m\u001b[43m \u001b[49m\u001b[43mrhs\u001b[49m\u001b[38;5;241;43m=\u001b[39;49m\u001b[43mrhs\u001b[49m\u001b[43m,\u001b[49m\u001b[43m \u001b[49m\u001b[43mloc\u001b[49m\u001b[38;5;241;43m=\u001b[39;49m\u001b[43mloc\u001b[49m\u001b[43m,\u001b[49m\u001b[43m \u001b[49m\u001b[43mip\u001b[49m\u001b[38;5;241;43m=\u001b[39;49m\u001b[43mip\u001b[49m\u001b[43m)\u001b[49m)\n",
      "File \u001b[0;32m~/.cache/pypoetry/virtualenvs/micrlhf-progress-_SD4q1c9-py3.10/lib/python3.10/site-packages/jaxlib/mlir/dialects/_stablehlo_ops_gen.py:65\u001b[0m, in \u001b[0;36mAddOp.__init__\u001b[0;34m(self, lhs, rhs, loc, ip)\u001b[0m\n\u001b[1;32m     63\u001b[0m _ods_context \u001b[38;5;241m=\u001b[39m _ods_get_default_loc_context(loc)\n\u001b[1;32m     64\u001b[0m _ods_successors \u001b[38;5;241m=\u001b[39m \u001b[38;5;28;01mNone\u001b[39;00m\n\u001b[0;32m---> 65\u001b[0m \u001b[38;5;28;43msuper\u001b[39;49m\u001b[43m(\u001b[49m\u001b[43m)\u001b[49m\u001b[38;5;241;43m.\u001b[39;49m\u001b[38;5;21;43m__init__\u001b[39;49m\u001b[43m(\u001b[49m\u001b[38;5;28;43mself\u001b[39;49m\u001b[38;5;241;43m.\u001b[39;49m\u001b[43mbuild_generic\u001b[49m\u001b[43m(\u001b[49m\u001b[43mattributes\u001b[49m\u001b[38;5;241;43m=\u001b[39;49m\u001b[43mattributes\u001b[49m\u001b[43m,\u001b[49m\u001b[43m \u001b[49m\u001b[43moperands\u001b[49m\u001b[38;5;241;43m=\u001b[39;49m\u001b[43moperands\u001b[49m\u001b[43m,\u001b[49m\u001b[43m \u001b[49m\u001b[43msuccessors\u001b[49m\u001b[38;5;241;43m=\u001b[39;49m\u001b[43m_ods_successors\u001b[49m\u001b[43m,\u001b[49m\u001b[43m \u001b[49m\u001b[43mregions\u001b[49m\u001b[38;5;241;43m=\u001b[39;49m\u001b[43mregions\u001b[49m\u001b[43m,\u001b[49m\u001b[43m \u001b[49m\u001b[43mloc\u001b[49m\u001b[38;5;241;43m=\u001b[39;49m\u001b[43mloc\u001b[49m\u001b[43m,\u001b[49m\u001b[43m \u001b[49m\u001b[43mip\u001b[49m\u001b[38;5;241;43m=\u001b[39;49m\u001b[43mip\u001b[49m\u001b[43m)\u001b[49m\u001b[43m)\u001b[49m\n",
      "\u001b[0;31mKeyboardInterrupt\u001b[0m: "
     ]
    }
   ],
   "source": [
    "from tqdm.auto import tqdm\n",
    "from functools import partial\n",
    "from micrlhf.utils.activation_manipulation import add_vector\n",
    "\n",
    "task_losses = {}\n",
    "\n",
    "n_few_shots, batch_size, max_seq_len = 20, 16, 256\n",
    "seed = 10\n",
    "\n",
    "prompt = \"<start_of_turn>user\\nFollow the pattern:\\n{}\"\n",
    "\n",
    "\n",
    "\n",
    "for task_name in tqdm(task_names):\n",
    "\n",
    "    sep = 3978\n",
    "    pad = 0\n",
    "\n",
    "\n",
    "    pairs = list(tasks[task_name].items())\n",
    "\n",
    "    n_shot = n_few_shots - 1\n",
    "    if task_name.startswith(\"algo\"):\n",
    "        n_shot = 8\n",
    "\n",
    "    runner = ICLRunner(task_name, pairs, batch_size=batch_size, n_shot=1, max_seq_len=max_seq_len, seed=seed, prompt=prompt)\n",
    "\n",
    "    tokenized = runner.get_tokens([\n",
    "        x[:n_few_shots] for x in runner.train_pairs\n",
    "    ], tokenizer)\n",
    "\n",
    "    inputs = tokenized_to_inputs(**tokenized)\n",
    "    train_tokens = tokenized[\"input_ids\"]\n",
    "\n",
    "    _, all_resids = get_resids_call(inputs)\n",
    "\n",
    "    scale = 33\n",
    "    \n",
    "    def steer_with_direction(direction):\n",
    "        direction = direction / jnp.linalg.norm(direction)\n",
    "        direction = direction * scale\n",
    "        \n",
    "        mask = train_tokens == sep\n",
    "\n",
    "        col_indices = jnp.arange(mask.shape[1])\n",
    "\n",
    "        col_indices_broadcasted = mask * col_indices\n",
    "\n",
    "        sorted_indices = jnp.sort(col_indices_broadcasted, axis=1, descending=True)\n",
    "\n",
    "        positions = sorted_indices[:, :1]\n",
    "\n",
    "        add_act = add_vector(llama, direction, layer, 1, position = positions)\n",
    "\n",
    "        logits = add_act(inputs)\n",
    "        logits = logits.unwrap(\"batch\", \"seq\", \"vocabulary\")\n",
    "\n",
    "        return logprob_loss(logits, train_tokens, sep=sep, pad_token=pad, n_first=3)\n",
    "\n",
    "    task_losses[task_name] = [[steer_with_direction(sae[\"W_dec\"][feature]).tolist() for feature in tqdm(features)]]\n",
    "\n",
    "    logits = llama(inputs)\n",
    "\n",
    "    logits = logits.unwrap(\"batch\", \"seq\", \"vocabulary\")\n",
    "\n",
    "    task_losses[task_name].append(logprob_loss(logits, train_tokens, sep=sep, pad_token=pad, n_first=3).tolist())"
   ]
  },
  {
   "cell_type": "code",
   "execution_count": null,
   "metadata": {},
   "outputs": [],
   "source": [
    "from tqdm.auto import tqdm\n",
    "from functools import partial\n",
    "from micrlhf.utils.activation_manipulation import add_vector\n",
    "\n",
    "task_losses = {}\n",
    "\n",
    "n_few_shots, batch_size, max_seq_len = 20, 16, 256\n",
    "seed = 10\n",
    "\n",
    "prompt = \"<start_of_turn>user\\nFollow the pattern:\\n{}\"\n",
    "\n",
    "\n",
    "\n",
    "for task_name in tqdm([\"antonyms\"]):\n",
    "\n",
    "    sep = 3978\n",
    "    pad = 0\n",
    "\n",
    "\n",
    "    pairs = list(tasks[task_name].items())\n",
    "\n",
    "    n_shot = n_few_shots - 1\n",
    "    if task_name.startswith(\"algo\"):\n",
    "        n_shot = 8\n",
    "\n",
    "    runner = ICLRunner(task_name, pairs, batch_size=batch_size, n_shot=1, max_seq_len=max_seq_len, seed=seed, prompt=prompt)\n",
    "\n",
    "    tokenized = runner.get_tokens([\n",
    "        x[:n_few_shots] for x in runner.train_pairs\n",
    "    ], tokenizer)\n",
    "\n",
    "    inputs = tokenized_to_inputs(**tokenized)\n",
    "    train_tokens = tokenized[\"input_ids\"]\n",
    "\n",
    "    _, all_resids = get_resids_call(inputs)\n",
    "    \n",
    "    def steer_with_direction(direction, scale):\n",
    "        direction = direction / jnp.linalg.norm(direction)\n",
    "        direction = direction * scale\n",
    "        \n",
    "        mask = train_tokens == sep\n",
    "\n",
    "        col_indices = jnp.arange(mask.shape[1])\n",
    "\n",
    "        col_indices_broadcasted = mask * col_indices\n",
    "\n",
    "        sorted_indices = jnp.sort(col_indices_broadcasted, axis=1, descending=True)\n",
    "\n",
    "        positions = sorted_indices[:, :1]\n",
    "\n",
    "        add_act = add_vector(llama, direction, layer, 1, position = positions)\n",
    "\n",
    "        logits = add_act(inputs)\n",
    "        logits = logits.unwrap(\"batch\", \"seq\", \"vocabulary\")\n",
    "\n",
    "        return logprob_loss(logits, train_tokens, sep=sep, pad_token=pad, n_first=3)\n",
    "\n",
    "    feature = 1\n",
    "\n",
    "    task_losses[task_name] = [[steer_with_direction(sae[\"W_dec\"][feature], scale).tolist() for scale in tqdm(np.logspace(0, 2, 40))]]\n",
    "\n",
    "    logits = llama(inputs)\n",
    "\n",
    "    logits = logits.unwrap(\"batch\", \"seq\", \"vocabulary\")\n",
    "\n",
    "    task_losses[task_name].append(logprob_loss(logits, train_tokens, sep=sep, pad_token=pad, n_first=3).tolist())"
   ]
  },
  {
   "cell_type": "code",
   "execution_count": 61,
   "metadata": {},
   "outputs": [
    {
     "data": {
      "text/html": [
       "<script> (()=>{ if (customElements.get('treescope-container') === undefined) { class TreescopeContainer extends HTMLElement { constructor() { super(); this.attachShadow({mode: \"open\"}); this.defns = {}; this.state = {}; } } customElements.define(\"treescope-container\", TreescopeContainer); } if (customElements.get('treescope-run-here') === undefined) { class RunHere extends HTMLElement { constructor() { super() } connectedCallback() { const run = child => { const fn = new Function(child.textContent); child.textContent = \"\"; fn.call(this); this.remove(); }; const child = this.querySelector(\"script\"); if (child) { run(child); } else { new MutationObserver(()=>{ run(this.querySelector(\"script\")); }).observe(this, {childList: true}); } } } customElements.define(\"treescope-run-here\", RunHere); } })(); </script> <treescope-container class=\"treescope_out_4d79ef3cf8534f41b71387ee5e2ecc63\" ></treescope-container> <treescope-run-here><script type=\"application/octet-stream\"> const root = ( Array.from(document.getElementsByClassName( \"treescope_out_4d79ef3cf8534f41b71387ee5e2ecc63\")) .filter((elt) => !elt.dataset.setup) )[0]; root.dataset.setup = 1; const msg = document.createElement(\"span\"); msg.style = \"color: #aaaaaa; font-family: monospace; transition: opacity 0.2s; opacity: 0.0;\"; msg.textContent = \"(Loading...)\"; root.state.loadingMsg = msg; root.shadowRoot.appendChild(msg); root.state.chain = new Promise((resolve, reject) => { const observer = new IntersectionObserver((entries) => { for (const entry of entries) { if (entry.isIntersecting) { resolve(); observer.disconnect(); return; } } }, {rootMargin: \"1000px\"}); window.setTimeout(() => { if (root.loadingMsg) { root.loadingMsg.style.opacity = \"1.0\"; } observer.observe(root); }, 0); }); root.state.deferring = false; const _insertNode = (node) => { for (let oldScript of node.querySelectorAll(\"script\")) { let newScript = document.createElement(\"script\"); newScript.type = oldScript.type; newScript.textContent = oldScript.textContent; oldScript.parentNode.replaceChild(newScript, oldScript); } if (root.state.loadingMsg) { root.state.loadingMsg.remove(); root.state.loadingMsg = null; } root.shadowRoot.appendChild(node); }; root.defns.insertContent = ((contentNode, compressed) => { if (compressed) { root.state.deferring = true; } if (root.state.deferring) { root.state.chain = (async () => { await root.state.chain; if (compressed) { const encoded = contentNode.textContent; const blob = new Blob([ Uint8Array.from(atob(encoded), (m) => m.codePointAt(0)) ]); const reader = blob.stream().pipeThrough( new DecompressionStream(\"deflate\") ).pipeThrough( new TextDecoderStream(\"utf-8\") ).getReader(); const parts = []; while (true) { const step = await reader.read(); if (step.done) { break; } parts.push(step.value); } const tpl = document.createElement('template'); tpl.innerHTML = parts.join(\"\"); _insertNode(tpl.content); } else { _insertNode(contentNode.content); } })(); } else { _insertNode(contentNode.content); } }); </script></treescope-run-here><div style=\"display:none\"> <script type=\"application/octet-stream\" >eNrdGGtX4kj2r1SnPwijxPAWfJwNyMtutBW7tZ3pwxRJJSlJKrFSAXGO/31vJaCAqMOOu+uROodA5b5v3VfthWLikgNVcEJCww9In/u+QH+hwA+poD6rIk5cLOiI7CLLZyJjYY+6kyryfOaHATZgf+xQQTLxnyoKOOy4NBSZmHRGTALYZT6D7QE2hjb3I2ZmDN/1eTVB3UXTfwMXAIAeNYVTRRYVAMYEYWIXBdg0KbMzLrFEFeUMRzJhJOMQajuwk1WLkgwTmILMD2jTH5kRDemAulSA5DgS/gNshjLBKQupkQnpHUneTsW939tOzLP3YJ4Mjxjw5LAXGpwGAkn99jdwELjUwNJi274hiNSeE+xtHKRS6f0DMCjwCwUyicVCtI+EQ0PVJuIMrH3smySVVh0/FGr8HlQjAvUDwqTKuiGpSqTff61608bMdAm8ZpHr7iYcVBCz5/sMdlNjnw/TaF4G/wK25KuFbUENuRkQbvncw8wgKvPHqXTsX2CQevIGZRKkPZTPpYEOtVBqSWrVJcwWDtrfR5oEeVF0TkTEGdgdETckj4I5EZOSLZMOHWoJKV8MIH/cw3qGQwpOFTP9scrJTURCoTPqxe5qcuyRVGKTtKSx+4RREIVOYsbdFTrOWOwnaryg5d+XQUqROFL4tu0mUdmPIwdOayBpyR3iii1ERnDAp56U0sX/1SGZSKMrXJECTYFVw8Vh+BWCc0o3pTzQ7HtwDJUZ8/s02BOOf3zGD/a2VwWASUcoJrivLKYPBQk8AE3J7b6iKchnIAyozQDupWO/WteUxJlpqUDYJQkrzhh9FnkDwuOTEieQz1plJ1ssgfyq5bsmHgA5BnyeSWj3aBGsn0gA0CYNAxdPZolrGRAdIBcPiFutDgjEBJmTwIg/uyv5Jckrk5XZa5rktN1HXpTFKW3g+jILPsvT8UeEP+VsYj4MCbbBFewpdpX5IrW05eAwdRDTPFhphxinajjEGBIznUa/pR9lkKirkWbwCxLGWbiKNv7IFQfGxv9TvEWkZ4Us/Q+ElH6UjCMeSgcGPtQiwlfwpeHbsY1DIWaUiWMqfO6Mvw3XR/UEuRVPuag07FuUh6Lvs748/itC66VQUnNFGU0rXYX+sfiJx5dFlFp5mNvQPSRixAF9/w+5QUoLJoNICCjbqxLQ4+tVh1ZByhIUGBJastXAf5BswVSWOrqNLoZTQbGLehNv4LshOomE1NdE9QQTnsEEAiMzJoMhdGcxeuhBvnag2kHvxASgUxwS86Gn+0w0uXafHvMEO266NLVCvGUtk/hYocXqdPeIqY5x2DegHwPDPuBjSyxUilmefonnEs4iy3nToxHmqUzGxAJnMAPHxmU9Pb8tmchehWM2O80xWZQNEQGLQSOa8SOxnioPEoBjKDE/LUoSs0SfqBf4XGD2hPaA+0PC+nLnMRm9bt05tDl7ztx8r8rKD4KZfQP6RpMTNhV1sTMHmouAb5Rd50JnWkgXQtXArpGC8QF612xwG7c7aiiwxH+Q978mycDnJuTdRBLTF6C7lGLeeKGDOYgyxpxBSPVnKXtmZcvCRja/AjCArvCvhymJT4cimZem6k+3MpoaJ8zHUawaD1KYZ2yOTQoOSWXzRZPYW8iHs2oTpEF4lgxnKzm7AbCFTBBvoan9nojyJGW+mUkXnDlT5l4dO/GJdF0cQPJ5vYFbPzs/zyFp22IeMRC5hSg1n4V5CzlWsXjDmVWOEeiTzjmeqBb3PRhNjMiTY4XM2aE6wi7ML6l0Wg19GFziTC4HEPlUk3Iih4+/WVCUDZRG6YdxL3QIzLgwTJExqvd6PalNT+7JCS9+CfMTqGyQ3oQZqT//NS1ihiwO/2FBS0qR5CTtCDOuO90bT68XChpEZ8iNKoq4m5LZtSrfb499y8rtDiB/lwpbplZpdW29psefzqmu+/Gv2tkYvttNXW/oL31qnq7bQ/+L2WnU6uOfun7+s36kdzu1ut60bzvtr44Ia11K7Hzz8DL3tVP6OeoFEf3WLZ5njy47Zz+6o4vunfg2aTbrmxf28JzWDjWHHp5GRw2zda21B9vWqGMGN19Kzs0FpadRl7WctvVd6N9LtWNe0JsdNmyUjO9RxDbPijdGOByPrKa7fXNrN/wde3A0bu1k2/o208+KXzk/yp5t2nfamanpR1bWPi7Xx63rnK35k+isXPYa2dK4fVk5se2AnA8nBdIZ3BWNAT9pCazbp53j8SEOJ+Fp1OlcXjSaY/3badD5aX7f3t60y+fly7zQrC/fbvRREWh+1Y/Lenese/bdWW8zuuqRxuVtzioZd8eFs/akGNX0L3e166AZ5Gn7tN7QrqJvhV6ZWbWvjXaz6+l0c2fUyDks65Q3Bz/Gl9fjNh8dtr7X2bXVaNhi88S4ct1ysVI/Gtd2nEqh22318q0r3fY6xevaaUWct0i70qjVOq38oV042/5pTAZ6C3z648u2ftrCOunWXb191zixr4Rdqn2zT046h7UhPS2SZu2yXmsaVAsc7gcMzkZw1TjM3mWHPatuCWfyhbVN3AzblnbstRrHpZqp3/z4EWAR9q4808S0krPuKoXv9PqmFHi8dOL/rPcob3mjo1a+d9HLNxs5o3ZqnW+2XT9oFZrhuIjtm9IOvSK9Yze4YLV2h5hdTqKLm1bdy140+bDXuy3mShcX4VgHidIovt8RqY34WG/I7P4nfD1EPzb9AGrWY0jGt1Kqqr4AsZXE7C+g9fL078TXJHFbkXQ8QBuOBzNQKmk8Fi+xIATPfRm+ADZtTOReCOlBkpCdlmxP8BhTgRgeURsLn6tAORj4mJvqmFNBzmEoST3SAmWntB5vSqCkppS5NkzekQCXc+oR6NdSs0u0J3iceNBTPUG930I5TdPiygnJF4poKh4oVvOd67WUR+HkKDXLYPJaSUGfURNTFxKb8JEE/hRnNqiWLMIuZGMKNiPYlK3i5rztpvc9r9z0yLZzdtWzeCexXOeVg72kmO1RFkTTSqPE5Wvg3yoriUwrHbxMqhwIESMv8nWAEgcWw76AFoAIJVYjMyQTiBFnX1EOfgctAAHQpyLMoz9pSpWX3ivr8f5d+7WEMX89pRxk8mphZ34VH0SNH1sLuIudhnKAZsBPgGZtwCLzjcdefQP5rC7P3v7GmsEXX7ulN9DDILGvpFzsDUwcXyZW42/QO62guG7uK3NDB5Te1cBydlyekgA4PorSlPB7qsvBooWWHm/nuewrntPUbLG0sMofxHfZdXyXfY++y70adTltYX0Qz+XW8VzuPXou/2rU5QuL64O4Lr+O6/Lv0XWFV11Xzi6uD+K6wjquK7xH1xVfdV2uVJ5fH6XUFddxXfE9uq70qutKlfn1UTxXWsdzpffoufIrnsuqhdLC2vkgriuv47rye3Tdzutdira4PkqbsrOO73beo+8qr7cp2sL6KG1KZR3XVd7lSK69mjIr2sLKvSDLkle23vFAvtZtSvYNr1OSx6+/Y5oZhklHB/8GbIqvNQ==</script> <treescope-run-here><script type=\"application/octet-stream\"> const root = ( Array.from(document.getElementsByClassName( \"treescope_out_4d79ef3cf8534f41b71387ee5e2ecc63\")) .filter((elt) => !elt.dataset['step0']) )[0]; root.dataset['step0'] = 1; root.defns.insertContent( this.parentNode.querySelector('script[type=\"application/octet-stream\"]'), true ); this.parentNode.remove(); </script></treescope-run-here> </div>"
      ],
      "text/plain": [
       "<IPython.core.display.HTML object>"
      ]
     },
     "metadata": {},
     "output_type": "display_data"
    },
    {
     "data": {
      "text/html": [
       "<treescope-run-here><script type=\"application/octet-stream\"> const root = ( Array.from(document.getElementsByClassName( \"treescope_out_4d79ef3cf8534f41b71387ee5e2ecc63\")) .filter((elt) => !elt.dataset.stolen) )[0]; root.dataset.stolen = 1; this.parentNode.replaceChild(root, this); </script></treescope-run-here>"
      ],
      "text/plain": [
       "[-3.484848484848485,\n",
       " -0.15656565656565657,\n",
       " -3.202020202020202,\n",
       " -0.3434343434343434,\n",
       " -0.7171717171717171,\n",
       " -0.2676767676767677,\n",
       " -0.696969696969697,\n",
       " -1.4646464646464648,\n",
       " -0.30303030303030304,\n",
       " -0.7070707070707071,\n",
       " -1.9090909090909092]"
      ]
     },
     "execution_count": 61,
     "metadata": {},
     "output_type": "execute_result"
    }
   ],
   "source": [
    "task_losses[task_name][0]"
   ]
  },
  {
   "cell_type": "code",
   "execution_count": 66,
   "metadata": {},
   "outputs": [
    {
     "data": {
      "application/vnd.plotly.v1+json": {
       "config": {
        "plotlyServerURL": "https://plot.ly"
       },
       "data": [
        {
         "coloraxis": "coloraxis",
         "hovertemplate": "x: %{x}<br>y: %{y}<br>color: %{z}<extra></extra>",
         "name": "0",
         "type": "heatmap",
         "x": [
          "9790",
          "12605",
          "13458",
          "11491",
          "18803",
          "2931",
          "11618",
          "26987",
          "5679",
          "15554",
          "26594"
         ],
         "xaxis": "x",
         "y": [
          "en_es",
          "antonyms",
          "person_profession",
          "es_en",
          "present_simple_gerund",
          "present_simple_past_simple",
          "person_profession",
          "person_language",
          "country_capital",
          "football_player_position"
         ],
         "yaxis": "y",
         "z": [
          [
           -0.6875,
           0.59375,
           -0.15625,
           -0.40625,
           -1.375,
           0.125,
           -0.40625,
           -10.71875,
           -0.5,
           0.3125,
           -0.28125
          ],
          [
           -0.74609375,
           0.07421875,
           -0.32421875,
           -1.69921875,
           -2.52734375,
           -1.15234375,
           -4.91796875,
           -0.29296875,
           -0.66015625,
           -0.16015625,
           -1.60546875
          ],
          [
           -1.4375,
           -0.3125,
           -4.125,
           -0.1875,
           -1.09375,
           -0.625,
           -0.5,
           0.09375,
           -0.4375,
           -0.5625,
           -1.6875
          ],
          [
           -0.671875,
           0.296875,
           -1.328125,
           -1.8125,
           -1.328125,
           -0.671875,
           -0.546875,
           -1.59375,
           -0.25,
           -0.5625,
           -2.59375
          ],
          [
           -0.3427734375,
           -0.0810546875,
           -0.2197265625,
           -0.5224609375,
           -0.2158203125,
           -0.6748046875,
           -0.3896484375,
           -1.0224609375,
           -0.0224609375,
           -4.4443359375,
           -2.4912109375
          ],
          [
           0.34765625,
           0.171875,
           0.23046875,
           0.125,
           -0.2578125,
           -2.546875,
           0.1015625,
           0.1328125,
           0.09375,
           -4.53125,
           -1.640625
          ],
          [
           -1.4375,
           -0.3125,
           -4.125,
           -0.1875,
           -1.09375,
           -0.625,
           -0.5,
           0.09375,
           -0.4375,
           -0.5625,
           -1.6875
          ],
          [
           0.015625,
           -0.2265625,
           0.37109375,
           -0.875,
           0.0859375,
           -0.859375,
           -0.421875,
           -0.3984375,
           -0.15625,
           -0.1953125,
           -2.15625
          ],
          [
           -0.34375,
           -0.0078125,
           -0.9921875,
           -1.8828125,
           -9.6171875,
           -0.0234375,
           -0.1484375,
           -0.6796875,
           -0.1484375,
           0.0234375,
           -1.4921875
          ],
          [
           -7.9375,
           -0.578125,
           -3.375,
           -1.203125,
           -2.5625,
           -0.53125,
           -0.90625,
           -1.453125,
           -0.703125,
           -0.984375,
           -2.96875
          ]
         ]
        }
       ],
       "layout": {
        "coloraxis": {
         "colorscale": [
          [
           0,
           "#0d0887"
          ],
          [
           0.1111111111111111,
           "#46039f"
          ],
          [
           0.2222222222222222,
           "#7201a8"
          ],
          [
           0.3333333333333333,
           "#9c179e"
          ],
          [
           0.4444444444444444,
           "#bd3786"
          ],
          [
           0.5555555555555556,
           "#d8576b"
          ],
          [
           0.6666666666666666,
           "#ed7953"
          ],
          [
           0.7777777777777778,
           "#fb9f3a"
          ],
          [
           0.8888888888888888,
           "#fdca26"
          ],
          [
           1,
           "#f0f921"
          ]
         ]
        },
        "margin": {
         "t": 60
        },
        "template": {
         "data": {
          "bar": [
           {
            "error_x": {
             "color": "#2a3f5f"
            },
            "error_y": {
             "color": "#2a3f5f"
            },
            "marker": {
             "line": {
              "color": "#E5ECF6",
              "width": 0.5
             },
             "pattern": {
              "fillmode": "overlay",
              "size": 10,
              "solidity": 0.2
             }
            },
            "type": "bar"
           }
          ],
          "barpolar": [
           {
            "marker": {
             "line": {
              "color": "#E5ECF6",
              "width": 0.5
             },
             "pattern": {
              "fillmode": "overlay",
              "size": 10,
              "solidity": 0.2
             }
            },
            "type": "barpolar"
           }
          ],
          "carpet": [
           {
            "aaxis": {
             "endlinecolor": "#2a3f5f",
             "gridcolor": "white",
             "linecolor": "white",
             "minorgridcolor": "white",
             "startlinecolor": "#2a3f5f"
            },
            "baxis": {
             "endlinecolor": "#2a3f5f",
             "gridcolor": "white",
             "linecolor": "white",
             "minorgridcolor": "white",
             "startlinecolor": "#2a3f5f"
            },
            "type": "carpet"
           }
          ],
          "choropleth": [
           {
            "colorbar": {
             "outlinewidth": 0,
             "ticks": ""
            },
            "type": "choropleth"
           }
          ],
          "contour": [
           {
            "colorbar": {
             "outlinewidth": 0,
             "ticks": ""
            },
            "colorscale": [
             [
              0,
              "#0d0887"
             ],
             [
              0.1111111111111111,
              "#46039f"
             ],
             [
              0.2222222222222222,
              "#7201a8"
             ],
             [
              0.3333333333333333,
              "#9c179e"
             ],
             [
              0.4444444444444444,
              "#bd3786"
             ],
             [
              0.5555555555555556,
              "#d8576b"
             ],
             [
              0.6666666666666666,
              "#ed7953"
             ],
             [
              0.7777777777777778,
              "#fb9f3a"
             ],
             [
              0.8888888888888888,
              "#fdca26"
             ],
             [
              1,
              "#f0f921"
             ]
            ],
            "type": "contour"
           }
          ],
          "contourcarpet": [
           {
            "colorbar": {
             "outlinewidth": 0,
             "ticks": ""
            },
            "type": "contourcarpet"
           }
          ],
          "heatmap": [
           {
            "colorbar": {
             "outlinewidth": 0,
             "ticks": ""
            },
            "colorscale": [
             [
              0,
              "#0d0887"
             ],
             [
              0.1111111111111111,
              "#46039f"
             ],
             [
              0.2222222222222222,
              "#7201a8"
             ],
             [
              0.3333333333333333,
              "#9c179e"
             ],
             [
              0.4444444444444444,
              "#bd3786"
             ],
             [
              0.5555555555555556,
              "#d8576b"
             ],
             [
              0.6666666666666666,
              "#ed7953"
             ],
             [
              0.7777777777777778,
              "#fb9f3a"
             ],
             [
              0.8888888888888888,
              "#fdca26"
             ],
             [
              1,
              "#f0f921"
             ]
            ],
            "type": "heatmap"
           }
          ],
          "heatmapgl": [
           {
            "colorbar": {
             "outlinewidth": 0,
             "ticks": ""
            },
            "colorscale": [
             [
              0,
              "#0d0887"
             ],
             [
              0.1111111111111111,
              "#46039f"
             ],
             [
              0.2222222222222222,
              "#7201a8"
             ],
             [
              0.3333333333333333,
              "#9c179e"
             ],
             [
              0.4444444444444444,
              "#bd3786"
             ],
             [
              0.5555555555555556,
              "#d8576b"
             ],
             [
              0.6666666666666666,
              "#ed7953"
             ],
             [
              0.7777777777777778,
              "#fb9f3a"
             ],
             [
              0.8888888888888888,
              "#fdca26"
             ],
             [
              1,
              "#f0f921"
             ]
            ],
            "type": "heatmapgl"
           }
          ],
          "histogram": [
           {
            "marker": {
             "pattern": {
              "fillmode": "overlay",
              "size": 10,
              "solidity": 0.2
             }
            },
            "type": "histogram"
           }
          ],
          "histogram2d": [
           {
            "colorbar": {
             "outlinewidth": 0,
             "ticks": ""
            },
            "colorscale": [
             [
              0,
              "#0d0887"
             ],
             [
              0.1111111111111111,
              "#46039f"
             ],
             [
              0.2222222222222222,
              "#7201a8"
             ],
             [
              0.3333333333333333,
              "#9c179e"
             ],
             [
              0.4444444444444444,
              "#bd3786"
             ],
             [
              0.5555555555555556,
              "#d8576b"
             ],
             [
              0.6666666666666666,
              "#ed7953"
             ],
             [
              0.7777777777777778,
              "#fb9f3a"
             ],
             [
              0.8888888888888888,
              "#fdca26"
             ],
             [
              1,
              "#f0f921"
             ]
            ],
            "type": "histogram2d"
           }
          ],
          "histogram2dcontour": [
           {
            "colorbar": {
             "outlinewidth": 0,
             "ticks": ""
            },
            "colorscale": [
             [
              0,
              "#0d0887"
             ],
             [
              0.1111111111111111,
              "#46039f"
             ],
             [
              0.2222222222222222,
              "#7201a8"
             ],
             [
              0.3333333333333333,
              "#9c179e"
             ],
             [
              0.4444444444444444,
              "#bd3786"
             ],
             [
              0.5555555555555556,
              "#d8576b"
             ],
             [
              0.6666666666666666,
              "#ed7953"
             ],
             [
              0.7777777777777778,
              "#fb9f3a"
             ],
             [
              0.8888888888888888,
              "#fdca26"
             ],
             [
              1,
              "#f0f921"
             ]
            ],
            "type": "histogram2dcontour"
           }
          ],
          "mesh3d": [
           {
            "colorbar": {
             "outlinewidth": 0,
             "ticks": ""
            },
            "type": "mesh3d"
           }
          ],
          "parcoords": [
           {
            "line": {
             "colorbar": {
              "outlinewidth": 0,
              "ticks": ""
             }
            },
            "type": "parcoords"
           }
          ],
          "pie": [
           {
            "automargin": true,
            "type": "pie"
           }
          ],
          "scatter": [
           {
            "fillpattern": {
             "fillmode": "overlay",
             "size": 10,
             "solidity": 0.2
            },
            "type": "scatter"
           }
          ],
          "scatter3d": [
           {
            "line": {
             "colorbar": {
              "outlinewidth": 0,
              "ticks": ""
             }
            },
            "marker": {
             "colorbar": {
              "outlinewidth": 0,
              "ticks": ""
             }
            },
            "type": "scatter3d"
           }
          ],
          "scattercarpet": [
           {
            "marker": {
             "colorbar": {
              "outlinewidth": 0,
              "ticks": ""
             }
            },
            "type": "scattercarpet"
           }
          ],
          "scattergeo": [
           {
            "marker": {
             "colorbar": {
              "outlinewidth": 0,
              "ticks": ""
             }
            },
            "type": "scattergeo"
           }
          ],
          "scattergl": [
           {
            "marker": {
             "colorbar": {
              "outlinewidth": 0,
              "ticks": ""
             }
            },
            "type": "scattergl"
           }
          ],
          "scattermapbox": [
           {
            "marker": {
             "colorbar": {
              "outlinewidth": 0,
              "ticks": ""
             }
            },
            "type": "scattermapbox"
           }
          ],
          "scatterpolar": [
           {
            "marker": {
             "colorbar": {
              "outlinewidth": 0,
              "ticks": ""
             }
            },
            "type": "scatterpolar"
           }
          ],
          "scatterpolargl": [
           {
            "marker": {
             "colorbar": {
              "outlinewidth": 0,
              "ticks": ""
             }
            },
            "type": "scatterpolargl"
           }
          ],
          "scatterternary": [
           {
            "marker": {
             "colorbar": {
              "outlinewidth": 0,
              "ticks": ""
             }
            },
            "type": "scatterternary"
           }
          ],
          "surface": [
           {
            "colorbar": {
             "outlinewidth": 0,
             "ticks": ""
            },
            "colorscale": [
             [
              0,
              "#0d0887"
             ],
             [
              0.1111111111111111,
              "#46039f"
             ],
             [
              0.2222222222222222,
              "#7201a8"
             ],
             [
              0.3333333333333333,
              "#9c179e"
             ],
             [
              0.4444444444444444,
              "#bd3786"
             ],
             [
              0.5555555555555556,
              "#d8576b"
             ],
             [
              0.6666666666666666,
              "#ed7953"
             ],
             [
              0.7777777777777778,
              "#fb9f3a"
             ],
             [
              0.8888888888888888,
              "#fdca26"
             ],
             [
              1,
              "#f0f921"
             ]
            ],
            "type": "surface"
           }
          ],
          "table": [
           {
            "cells": {
             "fill": {
              "color": "#EBF0F8"
             },
             "line": {
              "color": "white"
             }
            },
            "header": {
             "fill": {
              "color": "#C8D4E3"
             },
             "line": {
              "color": "white"
             }
            },
            "type": "table"
           }
          ]
         },
         "layout": {
          "annotationdefaults": {
           "arrowcolor": "#2a3f5f",
           "arrowhead": 0,
           "arrowwidth": 1
          },
          "autotypenumbers": "strict",
          "coloraxis": {
           "colorbar": {
            "outlinewidth": 0,
            "ticks": ""
           }
          },
          "colorscale": {
           "diverging": [
            [
             0,
             "#8e0152"
            ],
            [
             0.1,
             "#c51b7d"
            ],
            [
             0.2,
             "#de77ae"
            ],
            [
             0.3,
             "#f1b6da"
            ],
            [
             0.4,
             "#fde0ef"
            ],
            [
             0.5,
             "#f7f7f7"
            ],
            [
             0.6,
             "#e6f5d0"
            ],
            [
             0.7,
             "#b8e186"
            ],
            [
             0.8,
             "#7fbc41"
            ],
            [
             0.9,
             "#4d9221"
            ],
            [
             1,
             "#276419"
            ]
           ],
           "sequential": [
            [
             0,
             "#0d0887"
            ],
            [
             0.1111111111111111,
             "#46039f"
            ],
            [
             0.2222222222222222,
             "#7201a8"
            ],
            [
             0.3333333333333333,
             "#9c179e"
            ],
            [
             0.4444444444444444,
             "#bd3786"
            ],
            [
             0.5555555555555556,
             "#d8576b"
            ],
            [
             0.6666666666666666,
             "#ed7953"
            ],
            [
             0.7777777777777778,
             "#fb9f3a"
            ],
            [
             0.8888888888888888,
             "#fdca26"
            ],
            [
             1,
             "#f0f921"
            ]
           ],
           "sequentialminus": [
            [
             0,
             "#0d0887"
            ],
            [
             0.1111111111111111,
             "#46039f"
            ],
            [
             0.2222222222222222,
             "#7201a8"
            ],
            [
             0.3333333333333333,
             "#9c179e"
            ],
            [
             0.4444444444444444,
             "#bd3786"
            ],
            [
             0.5555555555555556,
             "#d8576b"
            ],
            [
             0.6666666666666666,
             "#ed7953"
            ],
            [
             0.7777777777777778,
             "#fb9f3a"
            ],
            [
             0.8888888888888888,
             "#fdca26"
            ],
            [
             1,
             "#f0f921"
            ]
           ]
          },
          "colorway": [
           "#636efa",
           "#EF553B",
           "#00cc96",
           "#ab63fa",
           "#FFA15A",
           "#19d3f3",
           "#FF6692",
           "#B6E880",
           "#FF97FF",
           "#FECB52"
          ],
          "font": {
           "color": "#2a3f5f"
          },
          "geo": {
           "bgcolor": "white",
           "lakecolor": "white",
           "landcolor": "#E5ECF6",
           "showlakes": true,
           "showland": true,
           "subunitcolor": "white"
          },
          "hoverlabel": {
           "align": "left"
          },
          "hovermode": "closest",
          "mapbox": {
           "style": "light"
          },
          "paper_bgcolor": "white",
          "plot_bgcolor": "#E5ECF6",
          "polar": {
           "angularaxis": {
            "gridcolor": "white",
            "linecolor": "white",
            "ticks": ""
           },
           "bgcolor": "#E5ECF6",
           "radialaxis": {
            "gridcolor": "white",
            "linecolor": "white",
            "ticks": ""
           }
          },
          "scene": {
           "xaxis": {
            "backgroundcolor": "#E5ECF6",
            "gridcolor": "white",
            "gridwidth": 2,
            "linecolor": "white",
            "showbackground": true,
            "ticks": "",
            "zerolinecolor": "white"
           },
           "yaxis": {
            "backgroundcolor": "#E5ECF6",
            "gridcolor": "white",
            "gridwidth": 2,
            "linecolor": "white",
            "showbackground": true,
            "ticks": "",
            "zerolinecolor": "white"
           },
           "zaxis": {
            "backgroundcolor": "#E5ECF6",
            "gridcolor": "white",
            "gridwidth": 2,
            "linecolor": "white",
            "showbackground": true,
            "ticks": "",
            "zerolinecolor": "white"
           }
          },
          "shapedefaults": {
           "line": {
            "color": "#2a3f5f"
           }
          },
          "ternary": {
           "aaxis": {
            "gridcolor": "white",
            "linecolor": "white",
            "ticks": ""
           },
           "baxis": {
            "gridcolor": "white",
            "linecolor": "white",
            "ticks": ""
           },
           "bgcolor": "#E5ECF6",
           "caxis": {
            "gridcolor": "white",
            "linecolor": "white",
            "ticks": ""
           }
          },
          "title": {
           "x": 0.05
          },
          "xaxis": {
           "automargin": true,
           "gridcolor": "white",
           "linecolor": "white",
           "ticks": "",
           "title": {
            "standoff": 15
           },
           "zerolinecolor": "white",
           "zerolinewidth": 2
          },
          "yaxis": {
           "automargin": true,
           "gridcolor": "white",
           "linecolor": "white",
           "ticks": "",
           "title": {
            "standoff": 15
           },
           "zerolinecolor": "white",
           "zerolinewidth": 2
          }
         }
        },
        "xaxis": {
         "anchor": "y",
         "constrain": "domain",
         "domain": [
          0,
          1
         ],
         "scaleanchor": "y"
        },
        "yaxis": {
         "anchor": "x",
         "autorange": "reversed",
         "constrain": "domain",
         "domain": [
          0,
          1
         ]
        }
       }
      },
      "text/html": [
       "<div>                            <div id=\"d7b29250-9a0d-4d1e-841b-7f2031c72c49\" class=\"plotly-graph-div\" style=\"height:525px; width:100%;\"></div>            <script type=\"text/javascript\">                require([\"plotly\"], function(Plotly) {                    window.PLOTLYENV=window.PLOTLYENV || {};                                    if (document.getElementById(\"d7b29250-9a0d-4d1e-841b-7f2031c72c49\")) {                    Plotly.newPlot(                        \"d7b29250-9a0d-4d1e-841b-7f2031c72c49\",                        [{\"coloraxis\":\"coloraxis\",\"name\":\"0\",\"x\":[\"9790\",\"12605\",\"13458\",\"11491\",\"18803\",\"2931\",\"11618\",\"26987\",\"5679\",\"15554\",\"26594\"],\"y\":[\"en_es\",\"antonyms\",\"person_profession\",\"es_en\",\"present_simple_gerund\",\"present_simple_past_simple\",\"person_profession\",\"person_language\",\"country_capital\",\"football_player_position\"],\"z\":[[-0.6875,0.59375,-0.15625,-0.40625,-1.375,0.125,-0.40625,-10.71875,-0.5,0.3125,-0.28125],[-0.74609375,0.07421875,-0.32421875,-1.69921875,-2.52734375,-1.15234375,-4.91796875,-0.29296875,-0.66015625,-0.16015625,-1.60546875],[-1.4375,-0.3125,-4.125,-0.1875,-1.09375,-0.625,-0.5,0.09375,-0.4375,-0.5625,-1.6875],[-0.671875,0.296875,-1.328125,-1.8125,-1.328125,-0.671875,-0.546875,-1.59375,-0.25,-0.5625,-2.59375],[-0.3427734375,-0.0810546875,-0.2197265625,-0.5224609375,-0.2158203125,-0.6748046875,-0.3896484375,-1.0224609375,-0.0224609375,-4.4443359375,-2.4912109375],[0.34765625,0.171875,0.23046875,0.125,-0.2578125,-2.546875,0.1015625,0.1328125,0.09375,-4.53125,-1.640625],[-1.4375,-0.3125,-4.125,-0.1875,-1.09375,-0.625,-0.5,0.09375,-0.4375,-0.5625,-1.6875],[0.015625,-0.2265625,0.37109375,-0.875,0.0859375,-0.859375,-0.421875,-0.3984375,-0.15625,-0.1953125,-2.15625],[-0.34375,-0.0078125,-0.9921875,-1.8828125,-9.6171875,-0.0234375,-0.1484375,-0.6796875,-0.1484375,0.0234375,-1.4921875],[-7.9375,-0.578125,-3.375,-1.203125,-2.5625,-0.53125,-0.90625,-1.453125,-0.703125,-0.984375,-2.96875]],\"type\":\"heatmap\",\"xaxis\":\"x\",\"yaxis\":\"y\",\"hovertemplate\":\"x: %{x}\\u003cbr\\u003ey: %{y}\\u003cbr\\u003ecolor: %{z}\\u003cextra\\u003e\\u003c\\u002fextra\\u003e\"}],                        {\"template\":{\"data\":{\"histogram2dcontour\":[{\"type\":\"histogram2dcontour\",\"colorbar\":{\"outlinewidth\":0,\"ticks\":\"\"},\"colorscale\":[[0.0,\"#0d0887\"],[0.1111111111111111,\"#46039f\"],[0.2222222222222222,\"#7201a8\"],[0.3333333333333333,\"#9c179e\"],[0.4444444444444444,\"#bd3786\"],[0.5555555555555556,\"#d8576b\"],[0.6666666666666666,\"#ed7953\"],[0.7777777777777778,\"#fb9f3a\"],[0.8888888888888888,\"#fdca26\"],[1.0,\"#f0f921\"]]}],\"choropleth\":[{\"type\":\"choropleth\",\"colorbar\":{\"outlinewidth\":0,\"ticks\":\"\"}}],\"histogram2d\":[{\"type\":\"histogram2d\",\"colorbar\":{\"outlinewidth\":0,\"ticks\":\"\"},\"colorscale\":[[0.0,\"#0d0887\"],[0.1111111111111111,\"#46039f\"],[0.2222222222222222,\"#7201a8\"],[0.3333333333333333,\"#9c179e\"],[0.4444444444444444,\"#bd3786\"],[0.5555555555555556,\"#d8576b\"],[0.6666666666666666,\"#ed7953\"],[0.7777777777777778,\"#fb9f3a\"],[0.8888888888888888,\"#fdca26\"],[1.0,\"#f0f921\"]]}],\"heatmap\":[{\"type\":\"heatmap\",\"colorbar\":{\"outlinewidth\":0,\"ticks\":\"\"},\"colorscale\":[[0.0,\"#0d0887\"],[0.1111111111111111,\"#46039f\"],[0.2222222222222222,\"#7201a8\"],[0.3333333333333333,\"#9c179e\"],[0.4444444444444444,\"#bd3786\"],[0.5555555555555556,\"#d8576b\"],[0.6666666666666666,\"#ed7953\"],[0.7777777777777778,\"#fb9f3a\"],[0.8888888888888888,\"#fdca26\"],[1.0,\"#f0f921\"]]}],\"heatmapgl\":[{\"type\":\"heatmapgl\",\"colorbar\":{\"outlinewidth\":0,\"ticks\":\"\"},\"colorscale\":[[0.0,\"#0d0887\"],[0.1111111111111111,\"#46039f\"],[0.2222222222222222,\"#7201a8\"],[0.3333333333333333,\"#9c179e\"],[0.4444444444444444,\"#bd3786\"],[0.5555555555555556,\"#d8576b\"],[0.6666666666666666,\"#ed7953\"],[0.7777777777777778,\"#fb9f3a\"],[0.8888888888888888,\"#fdca26\"],[1.0,\"#f0f921\"]]}],\"contourcarpet\":[{\"type\":\"contourcarpet\",\"colorbar\":{\"outlinewidth\":0,\"ticks\":\"\"}}],\"contour\":[{\"type\":\"contour\",\"colorbar\":{\"outlinewidth\":0,\"ticks\":\"\"},\"colorscale\":[[0.0,\"#0d0887\"],[0.1111111111111111,\"#46039f\"],[0.2222222222222222,\"#7201a8\"],[0.3333333333333333,\"#9c179e\"],[0.4444444444444444,\"#bd3786\"],[0.5555555555555556,\"#d8576b\"],[0.6666666666666666,\"#ed7953\"],[0.7777777777777778,\"#fb9f3a\"],[0.8888888888888888,\"#fdca26\"],[1.0,\"#f0f921\"]]}],\"surface\":[{\"type\":\"surface\",\"colorbar\":{\"outlinewidth\":0,\"ticks\":\"\"},\"colorscale\":[[0.0,\"#0d0887\"],[0.1111111111111111,\"#46039f\"],[0.2222222222222222,\"#7201a8\"],[0.3333333333333333,\"#9c179e\"],[0.4444444444444444,\"#bd3786\"],[0.5555555555555556,\"#d8576b\"],[0.6666666666666666,\"#ed7953\"],[0.7777777777777778,\"#fb9f3a\"],[0.8888888888888888,\"#fdca26\"],[1.0,\"#f0f921\"]]}],\"mesh3d\":[{\"type\":\"mesh3d\",\"colorbar\":{\"outlinewidth\":0,\"ticks\":\"\"}}],\"scatter\":[{\"fillpattern\":{\"fillmode\":\"overlay\",\"size\":10,\"solidity\":0.2},\"type\":\"scatter\"}],\"parcoords\":[{\"type\":\"parcoords\",\"line\":{\"colorbar\":{\"outlinewidth\":0,\"ticks\":\"\"}}}],\"scatterpolargl\":[{\"type\":\"scatterpolargl\",\"marker\":{\"colorbar\":{\"outlinewidth\":0,\"ticks\":\"\"}}}],\"bar\":[{\"error_x\":{\"color\":\"#2a3f5f\"},\"error_y\":{\"color\":\"#2a3f5f\"},\"marker\":{\"line\":{\"color\":\"#E5ECF6\",\"width\":0.5},\"pattern\":{\"fillmode\":\"overlay\",\"size\":10,\"solidity\":0.2}},\"type\":\"bar\"}],\"scattergeo\":[{\"type\":\"scattergeo\",\"marker\":{\"colorbar\":{\"outlinewidth\":0,\"ticks\":\"\"}}}],\"scatterpolar\":[{\"type\":\"scatterpolar\",\"marker\":{\"colorbar\":{\"outlinewidth\":0,\"ticks\":\"\"}}}],\"histogram\":[{\"marker\":{\"pattern\":{\"fillmode\":\"overlay\",\"size\":10,\"solidity\":0.2}},\"type\":\"histogram\"}],\"scattergl\":[{\"type\":\"scattergl\",\"marker\":{\"colorbar\":{\"outlinewidth\":0,\"ticks\":\"\"}}}],\"scatter3d\":[{\"type\":\"scatter3d\",\"line\":{\"colorbar\":{\"outlinewidth\":0,\"ticks\":\"\"}},\"marker\":{\"colorbar\":{\"outlinewidth\":0,\"ticks\":\"\"}}}],\"scattermapbox\":[{\"type\":\"scattermapbox\",\"marker\":{\"colorbar\":{\"outlinewidth\":0,\"ticks\":\"\"}}}],\"scatterternary\":[{\"type\":\"scatterternary\",\"marker\":{\"colorbar\":{\"outlinewidth\":0,\"ticks\":\"\"}}}],\"scattercarpet\":[{\"type\":\"scattercarpet\",\"marker\":{\"colorbar\":{\"outlinewidth\":0,\"ticks\":\"\"}}}],\"carpet\":[{\"aaxis\":{\"endlinecolor\":\"#2a3f5f\",\"gridcolor\":\"white\",\"linecolor\":\"white\",\"minorgridcolor\":\"white\",\"startlinecolor\":\"#2a3f5f\"},\"baxis\":{\"endlinecolor\":\"#2a3f5f\",\"gridcolor\":\"white\",\"linecolor\":\"white\",\"minorgridcolor\":\"white\",\"startlinecolor\":\"#2a3f5f\"},\"type\":\"carpet\"}],\"table\":[{\"cells\":{\"fill\":{\"color\":\"#EBF0F8\"},\"line\":{\"color\":\"white\"}},\"header\":{\"fill\":{\"color\":\"#C8D4E3\"},\"line\":{\"color\":\"white\"}},\"type\":\"table\"}],\"barpolar\":[{\"marker\":{\"line\":{\"color\":\"#E5ECF6\",\"width\":0.5},\"pattern\":{\"fillmode\":\"overlay\",\"size\":10,\"solidity\":0.2}},\"type\":\"barpolar\"}],\"pie\":[{\"automargin\":true,\"type\":\"pie\"}]},\"layout\":{\"autotypenumbers\":\"strict\",\"colorway\":[\"#636efa\",\"#EF553B\",\"#00cc96\",\"#ab63fa\",\"#FFA15A\",\"#19d3f3\",\"#FF6692\",\"#B6E880\",\"#FF97FF\",\"#FECB52\"],\"font\":{\"color\":\"#2a3f5f\"},\"hovermode\":\"closest\",\"hoverlabel\":{\"align\":\"left\"},\"paper_bgcolor\":\"white\",\"plot_bgcolor\":\"#E5ECF6\",\"polar\":{\"bgcolor\":\"#E5ECF6\",\"angularaxis\":{\"gridcolor\":\"white\",\"linecolor\":\"white\",\"ticks\":\"\"},\"radialaxis\":{\"gridcolor\":\"white\",\"linecolor\":\"white\",\"ticks\":\"\"}},\"ternary\":{\"bgcolor\":\"#E5ECF6\",\"aaxis\":{\"gridcolor\":\"white\",\"linecolor\":\"white\",\"ticks\":\"\"},\"baxis\":{\"gridcolor\":\"white\",\"linecolor\":\"white\",\"ticks\":\"\"},\"caxis\":{\"gridcolor\":\"white\",\"linecolor\":\"white\",\"ticks\":\"\"}},\"coloraxis\":{\"colorbar\":{\"outlinewidth\":0,\"ticks\":\"\"}},\"colorscale\":{\"sequential\":[[0.0,\"#0d0887\"],[0.1111111111111111,\"#46039f\"],[0.2222222222222222,\"#7201a8\"],[0.3333333333333333,\"#9c179e\"],[0.4444444444444444,\"#bd3786\"],[0.5555555555555556,\"#d8576b\"],[0.6666666666666666,\"#ed7953\"],[0.7777777777777778,\"#fb9f3a\"],[0.8888888888888888,\"#fdca26\"],[1.0,\"#f0f921\"]],\"sequentialminus\":[[0.0,\"#0d0887\"],[0.1111111111111111,\"#46039f\"],[0.2222222222222222,\"#7201a8\"],[0.3333333333333333,\"#9c179e\"],[0.4444444444444444,\"#bd3786\"],[0.5555555555555556,\"#d8576b\"],[0.6666666666666666,\"#ed7953\"],[0.7777777777777778,\"#fb9f3a\"],[0.8888888888888888,\"#fdca26\"],[1.0,\"#f0f921\"]],\"diverging\":[[0,\"#8e0152\"],[0.1,\"#c51b7d\"],[0.2,\"#de77ae\"],[0.3,\"#f1b6da\"],[0.4,\"#fde0ef\"],[0.5,\"#f7f7f7\"],[0.6,\"#e6f5d0\"],[0.7,\"#b8e186\"],[0.8,\"#7fbc41\"],[0.9,\"#4d9221\"],[1,\"#276419\"]]},\"xaxis\":{\"gridcolor\":\"white\",\"linecolor\":\"white\",\"ticks\":\"\",\"title\":{\"standoff\":15},\"zerolinecolor\":\"white\",\"automargin\":true,\"zerolinewidth\":2},\"yaxis\":{\"gridcolor\":\"white\",\"linecolor\":\"white\",\"ticks\":\"\",\"title\":{\"standoff\":15},\"zerolinecolor\":\"white\",\"automargin\":true,\"zerolinewidth\":2},\"scene\":{\"xaxis\":{\"backgroundcolor\":\"#E5ECF6\",\"gridcolor\":\"white\",\"linecolor\":\"white\",\"showbackground\":true,\"ticks\":\"\",\"zerolinecolor\":\"white\",\"gridwidth\":2},\"yaxis\":{\"backgroundcolor\":\"#E5ECF6\",\"gridcolor\":\"white\",\"linecolor\":\"white\",\"showbackground\":true,\"ticks\":\"\",\"zerolinecolor\":\"white\",\"gridwidth\":2},\"zaxis\":{\"backgroundcolor\":\"#E5ECF6\",\"gridcolor\":\"white\",\"linecolor\":\"white\",\"showbackground\":true,\"ticks\":\"\",\"zerolinecolor\":\"white\",\"gridwidth\":2}},\"shapedefaults\":{\"line\":{\"color\":\"#2a3f5f\"}},\"annotationdefaults\":{\"arrowcolor\":\"#2a3f5f\",\"arrowhead\":0,\"arrowwidth\":1},\"geo\":{\"bgcolor\":\"white\",\"landcolor\":\"#E5ECF6\",\"subunitcolor\":\"white\",\"showland\":true,\"showlakes\":true,\"lakecolor\":\"white\"},\"title\":{\"x\":0.05},\"mapbox\":{\"style\":\"light\"}}},\"xaxis\":{\"anchor\":\"y\",\"domain\":[0.0,1.0],\"scaleanchor\":\"y\",\"constrain\":\"domain\"},\"yaxis\":{\"anchor\":\"x\",\"domain\":[0.0,1.0],\"autorange\":\"reversed\",\"constrain\":\"domain\"},\"coloraxis\":{\"colorscale\":[[0.0,\"#0d0887\"],[0.1111111111111111,\"#46039f\"],[0.2222222222222222,\"#7201a8\"],[0.3333333333333333,\"#9c179e\"],[0.4444444444444444,\"#bd3786\"],[0.5555555555555556,\"#d8576b\"],[0.6666666666666666,\"#ed7953\"],[0.7777777777777778,\"#fb9f3a\"],[0.8888888888888888,\"#fdca26\"],[1.0,\"#f0f921\"]]},\"margin\":{\"t\":60}},                        {\"responsive\": true}                    ).then(function(){\n",
       "                            \n",
       "var gd = document.getElementById('d7b29250-9a0d-4d1e-841b-7f2031c72c49');\n",
       "var x = new MutationObserver(function (mutations, observer) {{\n",
       "        var display = window.getComputedStyle(gd).display;\n",
       "        if (!display || display === 'none') {{\n",
       "            console.log([gd, 'removed!']);\n",
       "            Plotly.purge(gd);\n",
       "            observer.disconnect();\n",
       "        }}\n",
       "}});\n",
       "\n",
       "// Listen for the removal of the full notebook cells\n",
       "var notebookContainer = gd.closest('#notebook-container');\n",
       "if (notebookContainer) {{\n",
       "    x.observe(notebookContainer, {childList: true});\n",
       "}}\n",
       "\n",
       "// Listen for the clearing of the current output cell\n",
       "var outputEl = gd.closest('.output');\n",
       "if (outputEl) {{\n",
       "    x.observe(outputEl, {childList: true});\n",
       "}}\n",
       "\n",
       "                        })                };                });            </script>        </div>"
      ]
     },
     "metadata": {},
     "output_type": "display_data"
    }
   ],
   "source": [
    "import plotly.express as px\n",
    "import pandas as pd\n",
    "import numpy as np\n",
    "\n",
    "for task_name, losses in task_losses.items():\n",
    "    base_loss = losses[1]\n",
    "    losses = losses[0]\n",
    "\n",
    "    task_losses[task_name][0] = [(base_loss - loss) for loss in losses]\n",
    "\n",
    "\n",
    "df = pd.DataFrame([\n",
    "    {\"task\": task_name, \"feature\": feature, \"loss\": loss}\n",
    "    for task_name, losses in task_losses.items()\n",
    "    for feature, loss in zip(features, losses[0])\n",
    "])\n",
    "\n",
    "\n",
    "\n",
    "heatmap = np.zeros((len(task_names), len(features)))\n",
    "\n",
    "for i, task_name in enumerate(task_names):\n",
    "    for j, feature in enumerate(features):\n",
    "        heatmap[i, j] = task_losses[task_name][0][j]\n",
    "\n",
    "fig = px.imshow(heatmap, x=[str(x) for x in features], y=task_names)\n",
    "\n",
    "fig.show()\n"
   ]
  },
  {
   "cell_type": "code",
   "execution_count": 64,
   "metadata": {},
   "outputs": [
    {
     "data": {
      "application/vnd.plotly.v1+json": {
       "config": {
        "plotlyServerURL": "https://plot.ly"
       },
       "data": [
        {
         "coloraxis": "coloraxis",
         "hovertemplate": "x: %{x}<br>y: %{y}<br>color: %{z}<extra></extra>",
         "name": "0",
         "type": "heatmap",
         "x": [
          "9790",
          "12605",
          "13458",
          "11491",
          "18803",
          "2931",
          "11618",
          "26987",
          "5679",
          "15554",
          "26594"
         ],
         "xaxis": "x",
         "y": [
          "en_es",
          "antonyms",
          "person_profession",
          "es_en",
          "present_simple_gerund",
          "present_simple_past_simple",
          "person_profession",
          "person_language",
          "country_capital",
          "football_player_position"
         ],
         "yaxis": "y",
         "z": [
          [
           -4.53125,
           0.375,
           -2.40625,
           -2.1875,
           -4.96875,
           -0.25,
           -4.71875,
           -14.78125,
           -1.0625,
           -0.5625,
           -4.21875
          ],
          [
           -3.73046875,
           -0.23828125,
           -1.41796875,
           -4.69921875,
           -5.35546875,
           -2.90234375,
           -9.88671875,
           -6.10546875,
           -1.90234375,
           -1.40234375,
           -4.35546875
          ],
          [
           -10.78125,
           -0.484375,
           -9.90625,
           -1.0625,
           -2.21875,
           -0.828125,
           -2.15625,
           -4.53125,
           -0.9375,
           -2.1875,
           -5.90625
          ],
          [
           -3.375,
           -0.296875,
           -3.8125,
           -5.375,
           -4.40625,
           -1.96875,
           -3.40625,
           -6.90625,
           -0.8125,
           -1.6875,
           -6.71875
          ],
          [
           -4.1005859375,
           -0.6279296875,
           -0.9521484375,
           -2.5380859375,
           -2.3193359375,
           -3.0537109375,
           -2.5224609375,
           -7.1318359375,
           -0.3505859375,
           -4.9443359375,
           -3.9130859375
          ],
          [
           -2.28125,
           0.1171875,
           -0.328125,
           -1.546875,
           -1.9375,
           -5.65625,
           -1.25,
           -5.40625,
           0.0703125,
           -6.375,
           -3.0625
          ],
          [
           -10.78125,
           -0.484375,
           -9.90625,
           -1.0625,
           -2.21875,
           -0.828125,
           -2.15625,
           -4.53125,
           -0.9375,
           -2.1875,
           -5.90625
          ],
          [
           -1.3125,
           -0.3671875,
           -0.515625,
           -4.984375,
           -2.140625,
           -2.15625,
           -3.109375,
           -3.703125,
           -0.1484375,
           -0.5625,
           -4.234375
          ],
          [
           -2.1171875,
           -0.3203125,
           -4.5859375,
           -6.2109375,
           -12.0546875,
           -0.9453125,
           -2.9921875,
           -5.2734375,
           -0.9765625,
           -0.5390625,
           -4.9921875
          ],
          [
           -17.8125,
           -1.53125,
           -6.5,
           -2.65625,
           -5.5625,
           -2.125,
           -3.09375,
           -6.5625,
           -1.6875,
           -5,
           -6.875
          ]
         ]
        }
       ],
       "layout": {
        "coloraxis": {
         "colorscale": [
          [
           0,
           "#0d0887"
          ],
          [
           0.1111111111111111,
           "#46039f"
          ],
          [
           0.2222222222222222,
           "#7201a8"
          ],
          [
           0.3333333333333333,
           "#9c179e"
          ],
          [
           0.4444444444444444,
           "#bd3786"
          ],
          [
           0.5555555555555556,
           "#d8576b"
          ],
          [
           0.6666666666666666,
           "#ed7953"
          ],
          [
           0.7777777777777778,
           "#fb9f3a"
          ],
          [
           0.8888888888888888,
           "#fdca26"
          ],
          [
           1,
           "#f0f921"
          ]
         ]
        },
        "margin": {
         "t": 60
        },
        "template": {
         "data": {
          "bar": [
           {
            "error_x": {
             "color": "#2a3f5f"
            },
            "error_y": {
             "color": "#2a3f5f"
            },
            "marker": {
             "line": {
              "color": "#E5ECF6",
              "width": 0.5
             },
             "pattern": {
              "fillmode": "overlay",
              "size": 10,
              "solidity": 0.2
             }
            },
            "type": "bar"
           }
          ],
          "barpolar": [
           {
            "marker": {
             "line": {
              "color": "#E5ECF6",
              "width": 0.5
             },
             "pattern": {
              "fillmode": "overlay",
              "size": 10,
              "solidity": 0.2
             }
            },
            "type": "barpolar"
           }
          ],
          "carpet": [
           {
            "aaxis": {
             "endlinecolor": "#2a3f5f",
             "gridcolor": "white",
             "linecolor": "white",
             "minorgridcolor": "white",
             "startlinecolor": "#2a3f5f"
            },
            "baxis": {
             "endlinecolor": "#2a3f5f",
             "gridcolor": "white",
             "linecolor": "white",
             "minorgridcolor": "white",
             "startlinecolor": "#2a3f5f"
            },
            "type": "carpet"
           }
          ],
          "choropleth": [
           {
            "colorbar": {
             "outlinewidth": 0,
             "ticks": ""
            },
            "type": "choropleth"
           }
          ],
          "contour": [
           {
            "colorbar": {
             "outlinewidth": 0,
             "ticks": ""
            },
            "colorscale": [
             [
              0,
              "#0d0887"
             ],
             [
              0.1111111111111111,
              "#46039f"
             ],
             [
              0.2222222222222222,
              "#7201a8"
             ],
             [
              0.3333333333333333,
              "#9c179e"
             ],
             [
              0.4444444444444444,
              "#bd3786"
             ],
             [
              0.5555555555555556,
              "#d8576b"
             ],
             [
              0.6666666666666666,
              "#ed7953"
             ],
             [
              0.7777777777777778,
              "#fb9f3a"
             ],
             [
              0.8888888888888888,
              "#fdca26"
             ],
             [
              1,
              "#f0f921"
             ]
            ],
            "type": "contour"
           }
          ],
          "contourcarpet": [
           {
            "colorbar": {
             "outlinewidth": 0,
             "ticks": ""
            },
            "type": "contourcarpet"
           }
          ],
          "heatmap": [
           {
            "colorbar": {
             "outlinewidth": 0,
             "ticks": ""
            },
            "colorscale": [
             [
              0,
              "#0d0887"
             ],
             [
              0.1111111111111111,
              "#46039f"
             ],
             [
              0.2222222222222222,
              "#7201a8"
             ],
             [
              0.3333333333333333,
              "#9c179e"
             ],
             [
              0.4444444444444444,
              "#bd3786"
             ],
             [
              0.5555555555555556,
              "#d8576b"
             ],
             [
              0.6666666666666666,
              "#ed7953"
             ],
             [
              0.7777777777777778,
              "#fb9f3a"
             ],
             [
              0.8888888888888888,
              "#fdca26"
             ],
             [
              1,
              "#f0f921"
             ]
            ],
            "type": "heatmap"
           }
          ],
          "heatmapgl": [
           {
            "colorbar": {
             "outlinewidth": 0,
             "ticks": ""
            },
            "colorscale": [
             [
              0,
              "#0d0887"
             ],
             [
              0.1111111111111111,
              "#46039f"
             ],
             [
              0.2222222222222222,
              "#7201a8"
             ],
             [
              0.3333333333333333,
              "#9c179e"
             ],
             [
              0.4444444444444444,
              "#bd3786"
             ],
             [
              0.5555555555555556,
              "#d8576b"
             ],
             [
              0.6666666666666666,
              "#ed7953"
             ],
             [
              0.7777777777777778,
              "#fb9f3a"
             ],
             [
              0.8888888888888888,
              "#fdca26"
             ],
             [
              1,
              "#f0f921"
             ]
            ],
            "type": "heatmapgl"
           }
          ],
          "histogram": [
           {
            "marker": {
             "pattern": {
              "fillmode": "overlay",
              "size": 10,
              "solidity": 0.2
             }
            },
            "type": "histogram"
           }
          ],
          "histogram2d": [
           {
            "colorbar": {
             "outlinewidth": 0,
             "ticks": ""
            },
            "colorscale": [
             [
              0,
              "#0d0887"
             ],
             [
              0.1111111111111111,
              "#46039f"
             ],
             [
              0.2222222222222222,
              "#7201a8"
             ],
             [
              0.3333333333333333,
              "#9c179e"
             ],
             [
              0.4444444444444444,
              "#bd3786"
             ],
             [
              0.5555555555555556,
              "#d8576b"
             ],
             [
              0.6666666666666666,
              "#ed7953"
             ],
             [
              0.7777777777777778,
              "#fb9f3a"
             ],
             [
              0.8888888888888888,
              "#fdca26"
             ],
             [
              1,
              "#f0f921"
             ]
            ],
            "type": "histogram2d"
           }
          ],
          "histogram2dcontour": [
           {
            "colorbar": {
             "outlinewidth": 0,
             "ticks": ""
            },
            "colorscale": [
             [
              0,
              "#0d0887"
             ],
             [
              0.1111111111111111,
              "#46039f"
             ],
             [
              0.2222222222222222,
              "#7201a8"
             ],
             [
              0.3333333333333333,
              "#9c179e"
             ],
             [
              0.4444444444444444,
              "#bd3786"
             ],
             [
              0.5555555555555556,
              "#d8576b"
             ],
             [
              0.6666666666666666,
              "#ed7953"
             ],
             [
              0.7777777777777778,
              "#fb9f3a"
             ],
             [
              0.8888888888888888,
              "#fdca26"
             ],
             [
              1,
              "#f0f921"
             ]
            ],
            "type": "histogram2dcontour"
           }
          ],
          "mesh3d": [
           {
            "colorbar": {
             "outlinewidth": 0,
             "ticks": ""
            },
            "type": "mesh3d"
           }
          ],
          "parcoords": [
           {
            "line": {
             "colorbar": {
              "outlinewidth": 0,
              "ticks": ""
             }
            },
            "type": "parcoords"
           }
          ],
          "pie": [
           {
            "automargin": true,
            "type": "pie"
           }
          ],
          "scatter": [
           {
            "fillpattern": {
             "fillmode": "overlay",
             "size": 10,
             "solidity": 0.2
            },
            "type": "scatter"
           }
          ],
          "scatter3d": [
           {
            "line": {
             "colorbar": {
              "outlinewidth": 0,
              "ticks": ""
             }
            },
            "marker": {
             "colorbar": {
              "outlinewidth": 0,
              "ticks": ""
             }
            },
            "type": "scatter3d"
           }
          ],
          "scattercarpet": [
           {
            "marker": {
             "colorbar": {
              "outlinewidth": 0,
              "ticks": ""
             }
            },
            "type": "scattercarpet"
           }
          ],
          "scattergeo": [
           {
            "marker": {
             "colorbar": {
              "outlinewidth": 0,
              "ticks": ""
             }
            },
            "type": "scattergeo"
           }
          ],
          "scattergl": [
           {
            "marker": {
             "colorbar": {
              "outlinewidth": 0,
              "ticks": ""
             }
            },
            "type": "scattergl"
           }
          ],
          "scattermapbox": [
           {
            "marker": {
             "colorbar": {
              "outlinewidth": 0,
              "ticks": ""
             }
            },
            "type": "scattermapbox"
           }
          ],
          "scatterpolar": [
           {
            "marker": {
             "colorbar": {
              "outlinewidth": 0,
              "ticks": ""
             }
            },
            "type": "scatterpolar"
           }
          ],
          "scatterpolargl": [
           {
            "marker": {
             "colorbar": {
              "outlinewidth": 0,
              "ticks": ""
             }
            },
            "type": "scatterpolargl"
           }
          ],
          "scatterternary": [
           {
            "marker": {
             "colorbar": {
              "outlinewidth": 0,
              "ticks": ""
             }
            },
            "type": "scatterternary"
           }
          ],
          "surface": [
           {
            "colorbar": {
             "outlinewidth": 0,
             "ticks": ""
            },
            "colorscale": [
             [
              0,
              "#0d0887"
             ],
             [
              0.1111111111111111,
              "#46039f"
             ],
             [
              0.2222222222222222,
              "#7201a8"
             ],
             [
              0.3333333333333333,
              "#9c179e"
             ],
             [
              0.4444444444444444,
              "#bd3786"
             ],
             [
              0.5555555555555556,
              "#d8576b"
             ],
             [
              0.6666666666666666,
              "#ed7953"
             ],
             [
              0.7777777777777778,
              "#fb9f3a"
             ],
             [
              0.8888888888888888,
              "#fdca26"
             ],
             [
              1,
              "#f0f921"
             ]
            ],
            "type": "surface"
           }
          ],
          "table": [
           {
            "cells": {
             "fill": {
              "color": "#EBF0F8"
             },
             "line": {
              "color": "white"
             }
            },
            "header": {
             "fill": {
              "color": "#C8D4E3"
             },
             "line": {
              "color": "white"
             }
            },
            "type": "table"
           }
          ]
         },
         "layout": {
          "annotationdefaults": {
           "arrowcolor": "#2a3f5f",
           "arrowhead": 0,
           "arrowwidth": 1
          },
          "autotypenumbers": "strict",
          "coloraxis": {
           "colorbar": {
            "outlinewidth": 0,
            "ticks": ""
           }
          },
          "colorscale": {
           "diverging": [
            [
             0,
             "#8e0152"
            ],
            [
             0.1,
             "#c51b7d"
            ],
            [
             0.2,
             "#de77ae"
            ],
            [
             0.3,
             "#f1b6da"
            ],
            [
             0.4,
             "#fde0ef"
            ],
            [
             0.5,
             "#f7f7f7"
            ],
            [
             0.6,
             "#e6f5d0"
            ],
            [
             0.7,
             "#b8e186"
            ],
            [
             0.8,
             "#7fbc41"
            ],
            [
             0.9,
             "#4d9221"
            ],
            [
             1,
             "#276419"
            ]
           ],
           "sequential": [
            [
             0,
             "#0d0887"
            ],
            [
             0.1111111111111111,
             "#46039f"
            ],
            [
             0.2222222222222222,
             "#7201a8"
            ],
            [
             0.3333333333333333,
             "#9c179e"
            ],
            [
             0.4444444444444444,
             "#bd3786"
            ],
            [
             0.5555555555555556,
             "#d8576b"
            ],
            [
             0.6666666666666666,
             "#ed7953"
            ],
            [
             0.7777777777777778,
             "#fb9f3a"
            ],
            [
             0.8888888888888888,
             "#fdca26"
            ],
            [
             1,
             "#f0f921"
            ]
           ],
           "sequentialminus": [
            [
             0,
             "#0d0887"
            ],
            [
             0.1111111111111111,
             "#46039f"
            ],
            [
             0.2222222222222222,
             "#7201a8"
            ],
            [
             0.3333333333333333,
             "#9c179e"
            ],
            [
             0.4444444444444444,
             "#bd3786"
            ],
            [
             0.5555555555555556,
             "#d8576b"
            ],
            [
             0.6666666666666666,
             "#ed7953"
            ],
            [
             0.7777777777777778,
             "#fb9f3a"
            ],
            [
             0.8888888888888888,
             "#fdca26"
            ],
            [
             1,
             "#f0f921"
            ]
           ]
          },
          "colorway": [
           "#636efa",
           "#EF553B",
           "#00cc96",
           "#ab63fa",
           "#FFA15A",
           "#19d3f3",
           "#FF6692",
           "#B6E880",
           "#FF97FF",
           "#FECB52"
          ],
          "font": {
           "color": "#2a3f5f"
          },
          "geo": {
           "bgcolor": "white",
           "lakecolor": "white",
           "landcolor": "#E5ECF6",
           "showlakes": true,
           "showland": true,
           "subunitcolor": "white"
          },
          "hoverlabel": {
           "align": "left"
          },
          "hovermode": "closest",
          "mapbox": {
           "style": "light"
          },
          "paper_bgcolor": "white",
          "plot_bgcolor": "#E5ECF6",
          "polar": {
           "angularaxis": {
            "gridcolor": "white",
            "linecolor": "white",
            "ticks": ""
           },
           "bgcolor": "#E5ECF6",
           "radialaxis": {
            "gridcolor": "white",
            "linecolor": "white",
            "ticks": ""
           }
          },
          "scene": {
           "xaxis": {
            "backgroundcolor": "#E5ECF6",
            "gridcolor": "white",
            "gridwidth": 2,
            "linecolor": "white",
            "showbackground": true,
            "ticks": "",
            "zerolinecolor": "white"
           },
           "yaxis": {
            "backgroundcolor": "#E5ECF6",
            "gridcolor": "white",
            "gridwidth": 2,
            "linecolor": "white",
            "showbackground": true,
            "ticks": "",
            "zerolinecolor": "white"
           },
           "zaxis": {
            "backgroundcolor": "#E5ECF6",
            "gridcolor": "white",
            "gridwidth": 2,
            "linecolor": "white",
            "showbackground": true,
            "ticks": "",
            "zerolinecolor": "white"
           }
          },
          "shapedefaults": {
           "line": {
            "color": "#2a3f5f"
           }
          },
          "ternary": {
           "aaxis": {
            "gridcolor": "white",
            "linecolor": "white",
            "ticks": ""
           },
           "baxis": {
            "gridcolor": "white",
            "linecolor": "white",
            "ticks": ""
           },
           "bgcolor": "#E5ECF6",
           "caxis": {
            "gridcolor": "white",
            "linecolor": "white",
            "ticks": ""
           }
          },
          "title": {
           "x": 0.05
          },
          "xaxis": {
           "automargin": true,
           "gridcolor": "white",
           "linecolor": "white",
           "ticks": "",
           "title": {
            "standoff": 15
           },
           "zerolinecolor": "white",
           "zerolinewidth": 2
          },
          "yaxis": {
           "automargin": true,
           "gridcolor": "white",
           "linecolor": "white",
           "ticks": "",
           "title": {
            "standoff": 15
           },
           "zerolinecolor": "white",
           "zerolinewidth": 2
          }
         }
        },
        "xaxis": {
         "anchor": "y",
         "constrain": "domain",
         "domain": [
          0,
          1
         ],
         "scaleanchor": "y"
        },
        "yaxis": {
         "anchor": "x",
         "autorange": "reversed",
         "constrain": "domain",
         "domain": [
          0,
          1
         ]
        }
       }
      },
      "text/html": [
       "<div>                            <div id=\"b38a7eb7-034b-41ad-adbf-85f63a7546dc\" class=\"plotly-graph-div\" style=\"height:525px; width:100%;\"></div>            <script type=\"text/javascript\">                require([\"plotly\"], function(Plotly) {                    window.PLOTLYENV=window.PLOTLYENV || {};                                    if (document.getElementById(\"b38a7eb7-034b-41ad-adbf-85f63a7546dc\")) {                    Plotly.newPlot(                        \"b38a7eb7-034b-41ad-adbf-85f63a7546dc\",                        [{\"coloraxis\":\"coloraxis\",\"name\":\"0\",\"x\":[\"9790\",\"12605\",\"13458\",\"11491\",\"18803\",\"2931\",\"11618\",\"26987\",\"5679\",\"15554\",\"26594\"],\"y\":[\"en_es\",\"antonyms\",\"person_profession\",\"es_en\",\"present_simple_gerund\",\"present_simple_past_simple\",\"person_profession\",\"person_language\",\"country_capital\",\"football_player_position\"],\"z\":[[-4.53125,0.375,-2.40625,-2.1875,-4.96875,-0.25,-4.71875,-14.78125,-1.0625,-0.5625,-4.21875],[-3.73046875,-0.23828125,-1.41796875,-4.69921875,-5.35546875,-2.90234375,-9.88671875,-6.10546875,-1.90234375,-1.40234375,-4.35546875],[-10.78125,-0.484375,-9.90625,-1.0625,-2.21875,-0.828125,-2.15625,-4.53125,-0.9375,-2.1875,-5.90625],[-3.375,-0.296875,-3.8125,-5.375,-4.40625,-1.96875,-3.40625,-6.90625,-0.8125,-1.6875,-6.71875],[-4.1005859375,-0.6279296875,-0.9521484375,-2.5380859375,-2.3193359375,-3.0537109375,-2.5224609375,-7.1318359375,-0.3505859375,-4.9443359375,-3.9130859375],[-2.28125,0.1171875,-0.328125,-1.546875,-1.9375,-5.65625,-1.25,-5.40625,0.0703125,-6.375,-3.0625],[-10.78125,-0.484375,-9.90625,-1.0625,-2.21875,-0.828125,-2.15625,-4.53125,-0.9375,-2.1875,-5.90625],[-1.3125,-0.3671875,-0.515625,-4.984375,-2.140625,-2.15625,-3.109375,-3.703125,-0.1484375,-0.5625,-4.234375],[-2.1171875,-0.3203125,-4.5859375,-6.2109375,-12.0546875,-0.9453125,-2.9921875,-5.2734375,-0.9765625,-0.5390625,-4.9921875],[-17.8125,-1.53125,-6.5,-2.65625,-5.5625,-2.125,-3.09375,-6.5625,-1.6875,-5.0,-6.875]],\"type\":\"heatmap\",\"xaxis\":\"x\",\"yaxis\":\"y\",\"hovertemplate\":\"x: %{x}\\u003cbr\\u003ey: %{y}\\u003cbr\\u003ecolor: %{z}\\u003cextra\\u003e\\u003c\\u002fextra\\u003e\"}],                        {\"template\":{\"data\":{\"histogram2dcontour\":[{\"type\":\"histogram2dcontour\",\"colorbar\":{\"outlinewidth\":0,\"ticks\":\"\"},\"colorscale\":[[0.0,\"#0d0887\"],[0.1111111111111111,\"#46039f\"],[0.2222222222222222,\"#7201a8\"],[0.3333333333333333,\"#9c179e\"],[0.4444444444444444,\"#bd3786\"],[0.5555555555555556,\"#d8576b\"],[0.6666666666666666,\"#ed7953\"],[0.7777777777777778,\"#fb9f3a\"],[0.8888888888888888,\"#fdca26\"],[1.0,\"#f0f921\"]]}],\"choropleth\":[{\"type\":\"choropleth\",\"colorbar\":{\"outlinewidth\":0,\"ticks\":\"\"}}],\"histogram2d\":[{\"type\":\"histogram2d\",\"colorbar\":{\"outlinewidth\":0,\"ticks\":\"\"},\"colorscale\":[[0.0,\"#0d0887\"],[0.1111111111111111,\"#46039f\"],[0.2222222222222222,\"#7201a8\"],[0.3333333333333333,\"#9c179e\"],[0.4444444444444444,\"#bd3786\"],[0.5555555555555556,\"#d8576b\"],[0.6666666666666666,\"#ed7953\"],[0.7777777777777778,\"#fb9f3a\"],[0.8888888888888888,\"#fdca26\"],[1.0,\"#f0f921\"]]}],\"heatmap\":[{\"type\":\"heatmap\",\"colorbar\":{\"outlinewidth\":0,\"ticks\":\"\"},\"colorscale\":[[0.0,\"#0d0887\"],[0.1111111111111111,\"#46039f\"],[0.2222222222222222,\"#7201a8\"],[0.3333333333333333,\"#9c179e\"],[0.4444444444444444,\"#bd3786\"],[0.5555555555555556,\"#d8576b\"],[0.6666666666666666,\"#ed7953\"],[0.7777777777777778,\"#fb9f3a\"],[0.8888888888888888,\"#fdca26\"],[1.0,\"#f0f921\"]]}],\"heatmapgl\":[{\"type\":\"heatmapgl\",\"colorbar\":{\"outlinewidth\":0,\"ticks\":\"\"},\"colorscale\":[[0.0,\"#0d0887\"],[0.1111111111111111,\"#46039f\"],[0.2222222222222222,\"#7201a8\"],[0.3333333333333333,\"#9c179e\"],[0.4444444444444444,\"#bd3786\"],[0.5555555555555556,\"#d8576b\"],[0.6666666666666666,\"#ed7953\"],[0.7777777777777778,\"#fb9f3a\"],[0.8888888888888888,\"#fdca26\"],[1.0,\"#f0f921\"]]}],\"contourcarpet\":[{\"type\":\"contourcarpet\",\"colorbar\":{\"outlinewidth\":0,\"ticks\":\"\"}}],\"contour\":[{\"type\":\"contour\",\"colorbar\":{\"outlinewidth\":0,\"ticks\":\"\"},\"colorscale\":[[0.0,\"#0d0887\"],[0.1111111111111111,\"#46039f\"],[0.2222222222222222,\"#7201a8\"],[0.3333333333333333,\"#9c179e\"],[0.4444444444444444,\"#bd3786\"],[0.5555555555555556,\"#d8576b\"],[0.6666666666666666,\"#ed7953\"],[0.7777777777777778,\"#fb9f3a\"],[0.8888888888888888,\"#fdca26\"],[1.0,\"#f0f921\"]]}],\"surface\":[{\"type\":\"surface\",\"colorbar\":{\"outlinewidth\":0,\"ticks\":\"\"},\"colorscale\":[[0.0,\"#0d0887\"],[0.1111111111111111,\"#46039f\"],[0.2222222222222222,\"#7201a8\"],[0.3333333333333333,\"#9c179e\"],[0.4444444444444444,\"#bd3786\"],[0.5555555555555556,\"#d8576b\"],[0.6666666666666666,\"#ed7953\"],[0.7777777777777778,\"#fb9f3a\"],[0.8888888888888888,\"#fdca26\"],[1.0,\"#f0f921\"]]}],\"mesh3d\":[{\"type\":\"mesh3d\",\"colorbar\":{\"outlinewidth\":0,\"ticks\":\"\"}}],\"scatter\":[{\"fillpattern\":{\"fillmode\":\"overlay\",\"size\":10,\"solidity\":0.2},\"type\":\"scatter\"}],\"parcoords\":[{\"type\":\"parcoords\",\"line\":{\"colorbar\":{\"outlinewidth\":0,\"ticks\":\"\"}}}],\"scatterpolargl\":[{\"type\":\"scatterpolargl\",\"marker\":{\"colorbar\":{\"outlinewidth\":0,\"ticks\":\"\"}}}],\"bar\":[{\"error_x\":{\"color\":\"#2a3f5f\"},\"error_y\":{\"color\":\"#2a3f5f\"},\"marker\":{\"line\":{\"color\":\"#E5ECF6\",\"width\":0.5},\"pattern\":{\"fillmode\":\"overlay\",\"size\":10,\"solidity\":0.2}},\"type\":\"bar\"}],\"scattergeo\":[{\"type\":\"scattergeo\",\"marker\":{\"colorbar\":{\"outlinewidth\":0,\"ticks\":\"\"}}}],\"scatterpolar\":[{\"type\":\"scatterpolar\",\"marker\":{\"colorbar\":{\"outlinewidth\":0,\"ticks\":\"\"}}}],\"histogram\":[{\"marker\":{\"pattern\":{\"fillmode\":\"overlay\",\"size\":10,\"solidity\":0.2}},\"type\":\"histogram\"}],\"scattergl\":[{\"type\":\"scattergl\",\"marker\":{\"colorbar\":{\"outlinewidth\":0,\"ticks\":\"\"}}}],\"scatter3d\":[{\"type\":\"scatter3d\",\"line\":{\"colorbar\":{\"outlinewidth\":0,\"ticks\":\"\"}},\"marker\":{\"colorbar\":{\"outlinewidth\":0,\"ticks\":\"\"}}}],\"scattermapbox\":[{\"type\":\"scattermapbox\",\"marker\":{\"colorbar\":{\"outlinewidth\":0,\"ticks\":\"\"}}}],\"scatterternary\":[{\"type\":\"scatterternary\",\"marker\":{\"colorbar\":{\"outlinewidth\":0,\"ticks\":\"\"}}}],\"scattercarpet\":[{\"type\":\"scattercarpet\",\"marker\":{\"colorbar\":{\"outlinewidth\":0,\"ticks\":\"\"}}}],\"carpet\":[{\"aaxis\":{\"endlinecolor\":\"#2a3f5f\",\"gridcolor\":\"white\",\"linecolor\":\"white\",\"minorgridcolor\":\"white\",\"startlinecolor\":\"#2a3f5f\"},\"baxis\":{\"endlinecolor\":\"#2a3f5f\",\"gridcolor\":\"white\",\"linecolor\":\"white\",\"minorgridcolor\":\"white\",\"startlinecolor\":\"#2a3f5f\"},\"type\":\"carpet\"}],\"table\":[{\"cells\":{\"fill\":{\"color\":\"#EBF0F8\"},\"line\":{\"color\":\"white\"}},\"header\":{\"fill\":{\"color\":\"#C8D4E3\"},\"line\":{\"color\":\"white\"}},\"type\":\"table\"}],\"barpolar\":[{\"marker\":{\"line\":{\"color\":\"#E5ECF6\",\"width\":0.5},\"pattern\":{\"fillmode\":\"overlay\",\"size\":10,\"solidity\":0.2}},\"type\":\"barpolar\"}],\"pie\":[{\"automargin\":true,\"type\":\"pie\"}]},\"layout\":{\"autotypenumbers\":\"strict\",\"colorway\":[\"#636efa\",\"#EF553B\",\"#00cc96\",\"#ab63fa\",\"#FFA15A\",\"#19d3f3\",\"#FF6692\",\"#B6E880\",\"#FF97FF\",\"#FECB52\"],\"font\":{\"color\":\"#2a3f5f\"},\"hovermode\":\"closest\",\"hoverlabel\":{\"align\":\"left\"},\"paper_bgcolor\":\"white\",\"plot_bgcolor\":\"#E5ECF6\",\"polar\":{\"bgcolor\":\"#E5ECF6\",\"angularaxis\":{\"gridcolor\":\"white\",\"linecolor\":\"white\",\"ticks\":\"\"},\"radialaxis\":{\"gridcolor\":\"white\",\"linecolor\":\"white\",\"ticks\":\"\"}},\"ternary\":{\"bgcolor\":\"#E5ECF6\",\"aaxis\":{\"gridcolor\":\"white\",\"linecolor\":\"white\",\"ticks\":\"\"},\"baxis\":{\"gridcolor\":\"white\",\"linecolor\":\"white\",\"ticks\":\"\"},\"caxis\":{\"gridcolor\":\"white\",\"linecolor\":\"white\",\"ticks\":\"\"}},\"coloraxis\":{\"colorbar\":{\"outlinewidth\":0,\"ticks\":\"\"}},\"colorscale\":{\"sequential\":[[0.0,\"#0d0887\"],[0.1111111111111111,\"#46039f\"],[0.2222222222222222,\"#7201a8\"],[0.3333333333333333,\"#9c179e\"],[0.4444444444444444,\"#bd3786\"],[0.5555555555555556,\"#d8576b\"],[0.6666666666666666,\"#ed7953\"],[0.7777777777777778,\"#fb9f3a\"],[0.8888888888888888,\"#fdca26\"],[1.0,\"#f0f921\"]],\"sequentialminus\":[[0.0,\"#0d0887\"],[0.1111111111111111,\"#46039f\"],[0.2222222222222222,\"#7201a8\"],[0.3333333333333333,\"#9c179e\"],[0.4444444444444444,\"#bd3786\"],[0.5555555555555556,\"#d8576b\"],[0.6666666666666666,\"#ed7953\"],[0.7777777777777778,\"#fb9f3a\"],[0.8888888888888888,\"#fdca26\"],[1.0,\"#f0f921\"]],\"diverging\":[[0,\"#8e0152\"],[0.1,\"#c51b7d\"],[0.2,\"#de77ae\"],[0.3,\"#f1b6da\"],[0.4,\"#fde0ef\"],[0.5,\"#f7f7f7\"],[0.6,\"#e6f5d0\"],[0.7,\"#b8e186\"],[0.8,\"#7fbc41\"],[0.9,\"#4d9221\"],[1,\"#276419\"]]},\"xaxis\":{\"gridcolor\":\"white\",\"linecolor\":\"white\",\"ticks\":\"\",\"title\":{\"standoff\":15},\"zerolinecolor\":\"white\",\"automargin\":true,\"zerolinewidth\":2},\"yaxis\":{\"gridcolor\":\"white\",\"linecolor\":\"white\",\"ticks\":\"\",\"title\":{\"standoff\":15},\"zerolinecolor\":\"white\",\"automargin\":true,\"zerolinewidth\":2},\"scene\":{\"xaxis\":{\"backgroundcolor\":\"#E5ECF6\",\"gridcolor\":\"white\",\"linecolor\":\"white\",\"showbackground\":true,\"ticks\":\"\",\"zerolinecolor\":\"white\",\"gridwidth\":2},\"yaxis\":{\"backgroundcolor\":\"#E5ECF6\",\"gridcolor\":\"white\",\"linecolor\":\"white\",\"showbackground\":true,\"ticks\":\"\",\"zerolinecolor\":\"white\",\"gridwidth\":2},\"zaxis\":{\"backgroundcolor\":\"#E5ECF6\",\"gridcolor\":\"white\",\"linecolor\":\"white\",\"showbackground\":true,\"ticks\":\"\",\"zerolinecolor\":\"white\",\"gridwidth\":2}},\"shapedefaults\":{\"line\":{\"color\":\"#2a3f5f\"}},\"annotationdefaults\":{\"arrowcolor\":\"#2a3f5f\",\"arrowhead\":0,\"arrowwidth\":1},\"geo\":{\"bgcolor\":\"white\",\"landcolor\":\"#E5ECF6\",\"subunitcolor\":\"white\",\"showland\":true,\"showlakes\":true,\"lakecolor\":\"white\"},\"title\":{\"x\":0.05},\"mapbox\":{\"style\":\"light\"}}},\"xaxis\":{\"anchor\":\"y\",\"domain\":[0.0,1.0],\"scaleanchor\":\"y\",\"constrain\":\"domain\"},\"yaxis\":{\"anchor\":\"x\",\"domain\":[0.0,1.0],\"autorange\":\"reversed\",\"constrain\":\"domain\"},\"coloraxis\":{\"colorscale\":[[0.0,\"#0d0887\"],[0.1111111111111111,\"#46039f\"],[0.2222222222222222,\"#7201a8\"],[0.3333333333333333,\"#9c179e\"],[0.4444444444444444,\"#bd3786\"],[0.5555555555555556,\"#d8576b\"],[0.6666666666666666,\"#ed7953\"],[0.7777777777777778,\"#fb9f3a\"],[0.8888888888888888,\"#fdca26\"],[1.0,\"#f0f921\"]]},\"margin\":{\"t\":60}},                        {\"responsive\": true}                    ).then(function(){\n",
       "                            \n",
       "var gd = document.getElementById('b38a7eb7-034b-41ad-adbf-85f63a7546dc');\n",
       "var x = new MutationObserver(function (mutations, observer) {{\n",
       "        var display = window.getComputedStyle(gd).display;\n",
       "        if (!display || display === 'none') {{\n",
       "            console.log([gd, 'removed!']);\n",
       "            Plotly.purge(gd);\n",
       "            observer.disconnect();\n",
       "        }}\n",
       "}});\n",
       "\n",
       "// Listen for the removal of the full notebook cells\n",
       "var notebookContainer = gd.closest('#notebook-container');\n",
       "if (notebookContainer) {{\n",
       "    x.observe(notebookContainer, {childList: true});\n",
       "}}\n",
       "\n",
       "// Listen for the clearing of the current output cell\n",
       "var outputEl = gd.closest('.output');\n",
       "if (outputEl) {{\n",
       "    x.observe(outputEl, {childList: true});\n",
       "}}\n",
       "\n",
       "                        })                };                });            </script>        </div>"
      ]
     },
     "metadata": {},
     "output_type": "display_data"
    }
   ],
   "source": [
    "import plotly.express as px\n",
    "import pandas as pd\n",
    "import numpy as np\n",
    "\n",
    "for task_name, losses in task_losses.items():\n",
    "    base_loss = losses[1]\n",
    "    losses = losses[0]\n",
    "\n",
    "    task_losses[task_name][0] = [(base_loss - loss) for loss in losses]\n",
    "\n",
    "\n",
    "df = pd.DataFrame([\n",
    "    {\"task\": task_name, \"feature\": feature, \"loss\": loss}\n",
    "    for task_name, losses in task_losses.items()\n",
    "    for feature, loss in zip(features, losses[0])\n",
    "])\n",
    "\n",
    "\n",
    "\n",
    "heatmap = np.zeros((len(task_names), len(features)))\n",
    "\n",
    "for i, task_name in enumerate(task_names):\n",
    "    for j, feature in enumerate(features):\n",
    "        heatmap[i, j] = task_losses[task_name][0][j]\n",
    "\n",
    "fig = px.imshow(heatmap, x=[str(x) for x in features], y=task_names)\n",
    "\n",
    "fig.show()\n"
   ]
  },
  {
   "cell_type": "code",
   "execution_count": 73,
   "metadata": {},
   "outputs": [
    {
     "data": {
      "application/vnd.plotly.v1+json": {
       "config": {
        "plotlyServerURL": "https://plot.ly"
       },
       "data": [
        {
         "coloraxis": "coloraxis",
         "hovertemplate": "x: %{x}<br>y: %{y}<br>color: %{z}<extra></extra>",
         "name": "0",
         "type": "heatmap",
         "x": [
          "9600",
          "23682",
          "32643",
          "31620",
          "27268",
          "27401",
          "6413",
          "24206",
          "12943",
          "16016",
          "9488",
          "13458",
          "14612",
          "19097",
          "7578",
          "16671",
          "19112",
          "7739",
          "8125",
          "32320",
          "6594",
          "7491",
          "15947",
          "5579",
          "15356",
          "16340",
          "24925",
          "30814",
          "4448",
          "26594",
          "11618",
          "6756",
          "6629",
          "5991",
          "16490",
          "2539",
          "26987",
          "6765",
          "18416",
          "2930",
          "2931",
          "22136",
          "6780"
         ],
         "xaxis": "x",
         "y": [
          "en_es",
          "antonyms",
          "person_profession",
          "es_en",
          "present_simple_gerund",
          "present_simple_past_simple",
          "person_profession",
          "person_language",
          "country_capital",
          "football_player_position"
         ],
         "yaxis": "y",
         "z": [
          [
           -1.15625,
           -8.09375,
           0.09375,
           -1.28125,
           -5.15625,
           -6.59375,
           0.390625,
           -0.5625,
           -2.96875,
           -0.625,
           -0.03125,
           -0.15625,
           -1.875,
           0.453125,
           0.515625,
           -1,
           -2.21875,
           -0.65625,
           -2.3125,
           0.09375,
           -5.71875,
           -8.53125,
           -0.46875,
           -3.375,
           -0.5,
           0.453125,
           0,
           -0.90625,
           0.234375,
           -0.28125,
           -0.40625,
           0.09375,
           -1.71875,
           -6.21875,
           -0.46875,
           -1.21875,
           -10.71875,
           -0.34375,
           -0.8125,
           -0.90625,
           0.125,
           -0.3125,
           -0.75
          ],
          [
           -3.57421875,
           -6.91796875,
           0.34375,
           -4.79296875,
           -0.08203125,
           -2.04296875,
           -0.91796875,
           -0.95703125,
           -0.52734375,
           -0.59765625,
           -2.63671875,
           -0.32421875,
           -0.47265625,
           -3.54296875,
           -1.37109375,
           -1.19921875,
           -2.44921875,
           -1.29296875,
           -1.55859375,
           -0.12109375,
           -4.32421875,
           -3.51171875,
           -0.83203125,
           -0.80859375,
           -0.59765625,
           0.2109375,
           -0.24609375,
           -0.66015625,
           -0.65234375,
           -1.60546875,
           -4.91796875,
           -0.97265625,
           -0.95703125,
           -0.62109375,
           -0.10546875,
           -0.07421875,
           -0.29296875,
           -0.32421875,
           -1.19921875,
           -0.98046875,
           -1.15234375,
           -9.69921875,
           -0.54296875
          ],
          [
           -1.34375,
           -1.71875,
           -0.234375,
           -3.1875,
           -1.375,
           -9.71875,
           -0.9375,
           -2.0625,
           -0.46875,
           -0.890625,
           -0.875,
           -4.125,
           -0.359375,
           -0.859375,
           -0.734375,
           -3.78125,
           -1.8125,
           -1.8125,
           -2.3125,
           -1.78125,
           -6.78125,
           -7.21875,
           -1.25,
           -0.609375,
           -0.0625,
           -0.890625,
           -2.5,
           -1.96875,
           -1.34375,
           -1.6875,
           -0.5,
           -1.6875,
           -0.890625,
           -1.46875,
           -0.421875,
           -2.0625,
           0.09375,
           0.25,
           -1.96875,
           -1.53125,
           -0.625,
           -0.453125,
           -0.546875
          ],
          [
           -2.03125,
           -11.03125,
           0.140625,
           -1.875,
           -5.15625,
           -5.53125,
           -1.03125,
           -2.0625,
           -2.71875,
           -2.53125,
           -3.03125,
           -1.328125,
           -2.375,
           -0.875,
           -1.390625,
           -1.09375,
           -1.296875,
           -2.0625,
           -3.78125,
           -0.59375,
           -7.03125,
           -6.53125,
           -1.078125,
           -2.4375,
           -1.171875,
           -0.609375,
           -0.671875,
           -1.34375,
           -1.015625,
           -2.59375,
           -0.546875,
           -1.296875,
           -1.484375,
           -5.0625,
           -1.5,
           -1.96875,
           -1.59375,
           -0.796875,
           -2.15625,
           -2.9375,
           -0.671875,
           -1.59375,
           -0.96875
          ],
          [
           -0.1279296875,
           -14.6943359375,
           -0.2763671875,
           -1.2802734375,
           -10.1943359375,
           -1.7724609375,
           0.01953125,
           -0.0888671875,
           -0.1083984375,
           -0.6279296875,
           -2.1787109375,
           -0.2197265625,
           -5.4130859375,
           -0.1142578125,
           -0.3271484375,
           -0.6748046875,
           -0.1337890625,
           -0.5458984375,
           -2.3505859375,
           -0.4052734375,
           -7.3818359375,
           -3.5224609375,
           -0.0126953125,
           -2.6005859375,
           -4.5068359375,
           -0.1318359375,
           -0.3232421875,
           -0.2158203125,
           -0.2998046875,
           -2.4912109375,
           -0.3896484375,
           -0.1298828125,
           -2.3505859375,
           -1.4833984375,
           -0.4912109375,
           -2.3974609375,
           -1.0224609375,
           0.0712890625,
           -0.2197265625,
           -4.8193359375,
           -0.6748046875,
           -0.4169921875,
           -1.5068359375
          ],
          [
           -0.171875,
           -12.84375,
           0.48828125,
           -0.0859375,
           -8.21875,
           -1.09375,
           0.1015625,
           0.2109375,
           0.203125,
           -0.0625,
           -0.296875,
           0.23046875,
           -2.484375,
           -0.1171875,
           -0.0390625,
           0.25390625,
           0.3828125,
           -0.53125,
           -0.3125,
           0.1015625,
           -7.71875,
           -3.5625,
           0,
           -0.5390625,
           -7.15625,
           0.1640625,
           0.37890625,
           0.2421875,
           -0.921875,
           -1.640625,
           0.1015625,
           0.265625,
           -0.359375,
           -3.375,
           0.0546875,
           -0.84375,
           0.1328125,
           0.203125,
           0.0703125,
           -2.234375,
           -2.546875,
           -0.0234375,
           -0.5703125
          ],
          [
           -1.34375,
           -1.71875,
           -0.234375,
           -3.1875,
           -1.375,
           -9.71875,
           -0.9375,
           -2.0625,
           -0.46875,
           -0.890625,
           -0.875,
           -4.125,
           -0.359375,
           -0.859375,
           -0.734375,
           -3.78125,
           -1.8125,
           -1.8125,
           -2.3125,
           -1.78125,
           -6.78125,
           -7.21875,
           -1.25,
           -0.609375,
           -0.0625,
           -0.890625,
           -2.5,
           -1.96875,
           -1.34375,
           -1.6875,
           -0.5,
           -1.6875,
           -0.890625,
           -1.46875,
           -0.421875,
           -2.0625,
           0.09375,
           0.25,
           -1.96875,
           -1.53125,
           -0.625,
           -0.453125,
           -0.546875
          ],
          [
           -4.015625,
           -1.921875,
           0.109375,
           -1.453125,
           -1.96875,
           -5.734375,
           0.109375,
           -0.53125,
           -1.65625,
           -0.375,
           -0.90625,
           0.37109375,
           -1.15625,
           -1.046875,
           -0.8203125,
           -0.1875,
           -2.109375,
           -1.203125,
           -1.1875,
           -1.015625,
           -3.421875,
           -1.421875,
           -0.953125,
           -1.359375,
           -0.59375,
           -1.546875,
           -6.421875,
           -0.0859375,
           -0.15625,
           -2.15625,
           -0.421875,
           -0.2578125,
           -0.8203125,
           -1.53125,
           -0.71875,
           -0.96875,
           -0.3984375,
           -0.0625,
           -0.359375,
           -1.1875,
           -0.859375,
           -0.875,
           -0.8125
          ],
          [
           -0.265625,
           -6.5546875,
           0.0546875,
           -1.9296875,
           -1.6796875,
           -0.5078125,
           -0.7734375,
           -1.8671875,
           0.109375,
           -0.8984375,
           -1.3984375,
           -0.9921875,
           -3.1484375,
           0.09375,
           -2.3984375,
           -0.203125,
           -1.2265625,
           -0.7890625,
           -5.9921875,
           -0.25,
           0.0625,
           -1.0234375,
           -0.7734375,
           -0.4609375,
           -0.1484375,
           -0.7109375,
           -2.7109375,
           -1.6484375,
           -0.25,
           -1.4921875,
           -0.1484375,
           -0.6171875,
           -0.4453125,
           -2.1953125,
           -0.3203125,
           -4.6171875,
           -0.6796875,
           -0.4921875,
           -0.5234375,
           0.2265625,
           -0.0234375,
           -1.0078125,
           -3.2421875
          ],
          [
           -2.28125,
           -6.0625,
           0.125,
           -3.8125,
           -1.46875,
           -11.5,
           -2.28125,
           -3.5,
           -1.78125,
           -3.375,
           -3.6875,
           -3.375,
           -1.875,
           -0.46875,
           -2.15625,
           -3.625,
           -1.21875,
           -1.3125,
           -5.6875,
           -2.6875,
           -6.3125,
           -8.6875,
           -0.6875,
           -0.75,
           -0.359375,
           -1.21875,
           -4.40625,
           -2.90625,
           -2.46875,
           -2.96875,
           -0.90625,
           -3.0625,
           -0.5,
           -2.6875,
           -1.21875,
           -2.71875,
           -1.453125,
           -1,
           -4.25,
           -1.15625,
           -0.53125,
           -0.4375,
           -2.34375
          ]
         ]
        }
       ],
       "layout": {
        "coloraxis": {
         "colorscale": [
          [
           0,
           "#0d0887"
          ],
          [
           0.1111111111111111,
           "#46039f"
          ],
          [
           0.2222222222222222,
           "#7201a8"
          ],
          [
           0.3333333333333333,
           "#9c179e"
          ],
          [
           0.4444444444444444,
           "#bd3786"
          ],
          [
           0.5555555555555556,
           "#d8576b"
          ],
          [
           0.6666666666666666,
           "#ed7953"
          ],
          [
           0.7777777777777778,
           "#fb9f3a"
          ],
          [
           0.8888888888888888,
           "#fdca26"
          ],
          [
           1,
           "#f0f921"
          ]
         ]
        },
        "margin": {
         "t": 60
        },
        "template": {
         "data": {
          "bar": [
           {
            "error_x": {
             "color": "#2a3f5f"
            },
            "error_y": {
             "color": "#2a3f5f"
            },
            "marker": {
             "line": {
              "color": "#E5ECF6",
              "width": 0.5
             },
             "pattern": {
              "fillmode": "overlay",
              "size": 10,
              "solidity": 0.2
             }
            },
            "type": "bar"
           }
          ],
          "barpolar": [
           {
            "marker": {
             "line": {
              "color": "#E5ECF6",
              "width": 0.5
             },
             "pattern": {
              "fillmode": "overlay",
              "size": 10,
              "solidity": 0.2
             }
            },
            "type": "barpolar"
           }
          ],
          "carpet": [
           {
            "aaxis": {
             "endlinecolor": "#2a3f5f",
             "gridcolor": "white",
             "linecolor": "white",
             "minorgridcolor": "white",
             "startlinecolor": "#2a3f5f"
            },
            "baxis": {
             "endlinecolor": "#2a3f5f",
             "gridcolor": "white",
             "linecolor": "white",
             "minorgridcolor": "white",
             "startlinecolor": "#2a3f5f"
            },
            "type": "carpet"
           }
          ],
          "choropleth": [
           {
            "colorbar": {
             "outlinewidth": 0,
             "ticks": ""
            },
            "type": "choropleth"
           }
          ],
          "contour": [
           {
            "colorbar": {
             "outlinewidth": 0,
             "ticks": ""
            },
            "colorscale": [
             [
              0,
              "#0d0887"
             ],
             [
              0.1111111111111111,
              "#46039f"
             ],
             [
              0.2222222222222222,
              "#7201a8"
             ],
             [
              0.3333333333333333,
              "#9c179e"
             ],
             [
              0.4444444444444444,
              "#bd3786"
             ],
             [
              0.5555555555555556,
              "#d8576b"
             ],
             [
              0.6666666666666666,
              "#ed7953"
             ],
             [
              0.7777777777777778,
              "#fb9f3a"
             ],
             [
              0.8888888888888888,
              "#fdca26"
             ],
             [
              1,
              "#f0f921"
             ]
            ],
            "type": "contour"
           }
          ],
          "contourcarpet": [
           {
            "colorbar": {
             "outlinewidth": 0,
             "ticks": ""
            },
            "type": "contourcarpet"
           }
          ],
          "heatmap": [
           {
            "colorbar": {
             "outlinewidth": 0,
             "ticks": ""
            },
            "colorscale": [
             [
              0,
              "#0d0887"
             ],
             [
              0.1111111111111111,
              "#46039f"
             ],
             [
              0.2222222222222222,
              "#7201a8"
             ],
             [
              0.3333333333333333,
              "#9c179e"
             ],
             [
              0.4444444444444444,
              "#bd3786"
             ],
             [
              0.5555555555555556,
              "#d8576b"
             ],
             [
              0.6666666666666666,
              "#ed7953"
             ],
             [
              0.7777777777777778,
              "#fb9f3a"
             ],
             [
              0.8888888888888888,
              "#fdca26"
             ],
             [
              1,
              "#f0f921"
             ]
            ],
            "type": "heatmap"
           }
          ],
          "heatmapgl": [
           {
            "colorbar": {
             "outlinewidth": 0,
             "ticks": ""
            },
            "colorscale": [
             [
              0,
              "#0d0887"
             ],
             [
              0.1111111111111111,
              "#46039f"
             ],
             [
              0.2222222222222222,
              "#7201a8"
             ],
             [
              0.3333333333333333,
              "#9c179e"
             ],
             [
              0.4444444444444444,
              "#bd3786"
             ],
             [
              0.5555555555555556,
              "#d8576b"
             ],
             [
              0.6666666666666666,
              "#ed7953"
             ],
             [
              0.7777777777777778,
              "#fb9f3a"
             ],
             [
              0.8888888888888888,
              "#fdca26"
             ],
             [
              1,
              "#f0f921"
             ]
            ],
            "type": "heatmapgl"
           }
          ],
          "histogram": [
           {
            "marker": {
             "pattern": {
              "fillmode": "overlay",
              "size": 10,
              "solidity": 0.2
             }
            },
            "type": "histogram"
           }
          ],
          "histogram2d": [
           {
            "colorbar": {
             "outlinewidth": 0,
             "ticks": ""
            },
            "colorscale": [
             [
              0,
              "#0d0887"
             ],
             [
              0.1111111111111111,
              "#46039f"
             ],
             [
              0.2222222222222222,
              "#7201a8"
             ],
             [
              0.3333333333333333,
              "#9c179e"
             ],
             [
              0.4444444444444444,
              "#bd3786"
             ],
             [
              0.5555555555555556,
              "#d8576b"
             ],
             [
              0.6666666666666666,
              "#ed7953"
             ],
             [
              0.7777777777777778,
              "#fb9f3a"
             ],
             [
              0.8888888888888888,
              "#fdca26"
             ],
             [
              1,
              "#f0f921"
             ]
            ],
            "type": "histogram2d"
           }
          ],
          "histogram2dcontour": [
           {
            "colorbar": {
             "outlinewidth": 0,
             "ticks": ""
            },
            "colorscale": [
             [
              0,
              "#0d0887"
             ],
             [
              0.1111111111111111,
              "#46039f"
             ],
             [
              0.2222222222222222,
              "#7201a8"
             ],
             [
              0.3333333333333333,
              "#9c179e"
             ],
             [
              0.4444444444444444,
              "#bd3786"
             ],
             [
              0.5555555555555556,
              "#d8576b"
             ],
             [
              0.6666666666666666,
              "#ed7953"
             ],
             [
              0.7777777777777778,
              "#fb9f3a"
             ],
             [
              0.8888888888888888,
              "#fdca26"
             ],
             [
              1,
              "#f0f921"
             ]
            ],
            "type": "histogram2dcontour"
           }
          ],
          "mesh3d": [
           {
            "colorbar": {
             "outlinewidth": 0,
             "ticks": ""
            },
            "type": "mesh3d"
           }
          ],
          "parcoords": [
           {
            "line": {
             "colorbar": {
              "outlinewidth": 0,
              "ticks": ""
             }
            },
            "type": "parcoords"
           }
          ],
          "pie": [
           {
            "automargin": true,
            "type": "pie"
           }
          ],
          "scatter": [
           {
            "fillpattern": {
             "fillmode": "overlay",
             "size": 10,
             "solidity": 0.2
            },
            "type": "scatter"
           }
          ],
          "scatter3d": [
           {
            "line": {
             "colorbar": {
              "outlinewidth": 0,
              "ticks": ""
             }
            },
            "marker": {
             "colorbar": {
              "outlinewidth": 0,
              "ticks": ""
             }
            },
            "type": "scatter3d"
           }
          ],
          "scattercarpet": [
           {
            "marker": {
             "colorbar": {
              "outlinewidth": 0,
              "ticks": ""
             }
            },
            "type": "scattercarpet"
           }
          ],
          "scattergeo": [
           {
            "marker": {
             "colorbar": {
              "outlinewidth": 0,
              "ticks": ""
             }
            },
            "type": "scattergeo"
           }
          ],
          "scattergl": [
           {
            "marker": {
             "colorbar": {
              "outlinewidth": 0,
              "ticks": ""
             }
            },
            "type": "scattergl"
           }
          ],
          "scattermapbox": [
           {
            "marker": {
             "colorbar": {
              "outlinewidth": 0,
              "ticks": ""
             }
            },
            "type": "scattermapbox"
           }
          ],
          "scatterpolar": [
           {
            "marker": {
             "colorbar": {
              "outlinewidth": 0,
              "ticks": ""
             }
            },
            "type": "scatterpolar"
           }
          ],
          "scatterpolargl": [
           {
            "marker": {
             "colorbar": {
              "outlinewidth": 0,
              "ticks": ""
             }
            },
            "type": "scatterpolargl"
           }
          ],
          "scatterternary": [
           {
            "marker": {
             "colorbar": {
              "outlinewidth": 0,
              "ticks": ""
             }
            },
            "type": "scatterternary"
           }
          ],
          "surface": [
           {
            "colorbar": {
             "outlinewidth": 0,
             "ticks": ""
            },
            "colorscale": [
             [
              0,
              "#0d0887"
             ],
             [
              0.1111111111111111,
              "#46039f"
             ],
             [
              0.2222222222222222,
              "#7201a8"
             ],
             [
              0.3333333333333333,
              "#9c179e"
             ],
             [
              0.4444444444444444,
              "#bd3786"
             ],
             [
              0.5555555555555556,
              "#d8576b"
             ],
             [
              0.6666666666666666,
              "#ed7953"
             ],
             [
              0.7777777777777778,
              "#fb9f3a"
             ],
             [
              0.8888888888888888,
              "#fdca26"
             ],
             [
              1,
              "#f0f921"
             ]
            ],
            "type": "surface"
           }
          ],
          "table": [
           {
            "cells": {
             "fill": {
              "color": "#EBF0F8"
             },
             "line": {
              "color": "white"
             }
            },
            "header": {
             "fill": {
              "color": "#C8D4E3"
             },
             "line": {
              "color": "white"
             }
            },
            "type": "table"
           }
          ]
         },
         "layout": {
          "annotationdefaults": {
           "arrowcolor": "#2a3f5f",
           "arrowhead": 0,
           "arrowwidth": 1
          },
          "autotypenumbers": "strict",
          "coloraxis": {
           "colorbar": {
            "outlinewidth": 0,
            "ticks": ""
           }
          },
          "colorscale": {
           "diverging": [
            [
             0,
             "#8e0152"
            ],
            [
             0.1,
             "#c51b7d"
            ],
            [
             0.2,
             "#de77ae"
            ],
            [
             0.3,
             "#f1b6da"
            ],
            [
             0.4,
             "#fde0ef"
            ],
            [
             0.5,
             "#f7f7f7"
            ],
            [
             0.6,
             "#e6f5d0"
            ],
            [
             0.7,
             "#b8e186"
            ],
            [
             0.8,
             "#7fbc41"
            ],
            [
             0.9,
             "#4d9221"
            ],
            [
             1,
             "#276419"
            ]
           ],
           "sequential": [
            [
             0,
             "#0d0887"
            ],
            [
             0.1111111111111111,
             "#46039f"
            ],
            [
             0.2222222222222222,
             "#7201a8"
            ],
            [
             0.3333333333333333,
             "#9c179e"
            ],
            [
             0.4444444444444444,
             "#bd3786"
            ],
            [
             0.5555555555555556,
             "#d8576b"
            ],
            [
             0.6666666666666666,
             "#ed7953"
            ],
            [
             0.7777777777777778,
             "#fb9f3a"
            ],
            [
             0.8888888888888888,
             "#fdca26"
            ],
            [
             1,
             "#f0f921"
            ]
           ],
           "sequentialminus": [
            [
             0,
             "#0d0887"
            ],
            [
             0.1111111111111111,
             "#46039f"
            ],
            [
             0.2222222222222222,
             "#7201a8"
            ],
            [
             0.3333333333333333,
             "#9c179e"
            ],
            [
             0.4444444444444444,
             "#bd3786"
            ],
            [
             0.5555555555555556,
             "#d8576b"
            ],
            [
             0.6666666666666666,
             "#ed7953"
            ],
            [
             0.7777777777777778,
             "#fb9f3a"
            ],
            [
             0.8888888888888888,
             "#fdca26"
            ],
            [
             1,
             "#f0f921"
            ]
           ]
          },
          "colorway": [
           "#636efa",
           "#EF553B",
           "#00cc96",
           "#ab63fa",
           "#FFA15A",
           "#19d3f3",
           "#FF6692",
           "#B6E880",
           "#FF97FF",
           "#FECB52"
          ],
          "font": {
           "color": "#2a3f5f"
          },
          "geo": {
           "bgcolor": "white",
           "lakecolor": "white",
           "landcolor": "#E5ECF6",
           "showlakes": true,
           "showland": true,
           "subunitcolor": "white"
          },
          "hoverlabel": {
           "align": "left"
          },
          "hovermode": "closest",
          "mapbox": {
           "style": "light"
          },
          "paper_bgcolor": "white",
          "plot_bgcolor": "#E5ECF6",
          "polar": {
           "angularaxis": {
            "gridcolor": "white",
            "linecolor": "white",
            "ticks": ""
           },
           "bgcolor": "#E5ECF6",
           "radialaxis": {
            "gridcolor": "white",
            "linecolor": "white",
            "ticks": ""
           }
          },
          "scene": {
           "xaxis": {
            "backgroundcolor": "#E5ECF6",
            "gridcolor": "white",
            "gridwidth": 2,
            "linecolor": "white",
            "showbackground": true,
            "ticks": "",
            "zerolinecolor": "white"
           },
           "yaxis": {
            "backgroundcolor": "#E5ECF6",
            "gridcolor": "white",
            "gridwidth": 2,
            "linecolor": "white",
            "showbackground": true,
            "ticks": "",
            "zerolinecolor": "white"
           },
           "zaxis": {
            "backgroundcolor": "#E5ECF6",
            "gridcolor": "white",
            "gridwidth": 2,
            "linecolor": "white",
            "showbackground": true,
            "ticks": "",
            "zerolinecolor": "white"
           }
          },
          "shapedefaults": {
           "line": {
            "color": "#2a3f5f"
           }
          },
          "ternary": {
           "aaxis": {
            "gridcolor": "white",
            "linecolor": "white",
            "ticks": ""
           },
           "baxis": {
            "gridcolor": "white",
            "linecolor": "white",
            "ticks": ""
           },
           "bgcolor": "#E5ECF6",
           "caxis": {
            "gridcolor": "white",
            "linecolor": "white",
            "ticks": ""
           }
          },
          "title": {
           "x": 0.05
          },
          "xaxis": {
           "automargin": true,
           "gridcolor": "white",
           "linecolor": "white",
           "ticks": "",
           "title": {
            "standoff": 15
           },
           "zerolinecolor": "white",
           "zerolinewidth": 2
          },
          "yaxis": {
           "automargin": true,
           "gridcolor": "white",
           "linecolor": "white",
           "ticks": "",
           "title": {
            "standoff": 15
           },
           "zerolinecolor": "white",
           "zerolinewidth": 2
          }
         }
        },
        "xaxis": {
         "anchor": "y",
         "constrain": "domain",
         "domain": [
          0,
          1
         ],
         "scaleanchor": "y"
        },
        "yaxis": {
         "anchor": "x",
         "autorange": "reversed",
         "constrain": "domain",
         "domain": [
          0,
          1
         ]
        }
       }
      },
      "text/html": [
       "<div>                            <div id=\"32a2cf23-73c6-470c-8826-3f8144b22cc9\" class=\"plotly-graph-div\" style=\"height:525px; width:100%;\"></div>            <script type=\"text/javascript\">                require([\"plotly\"], function(Plotly) {                    window.PLOTLYENV=window.PLOTLYENV || {};                                    if (document.getElementById(\"32a2cf23-73c6-470c-8826-3f8144b22cc9\")) {                    Plotly.newPlot(                        \"32a2cf23-73c6-470c-8826-3f8144b22cc9\",                        [{\"coloraxis\":\"coloraxis\",\"name\":\"0\",\"x\":[\"9600\",\"23682\",\"32643\",\"31620\",\"27268\",\"27401\",\"6413\",\"24206\",\"12943\",\"16016\",\"9488\",\"13458\",\"14612\",\"19097\",\"7578\",\"16671\",\"19112\",\"7739\",\"8125\",\"32320\",\"6594\",\"7491\",\"15947\",\"5579\",\"15356\",\"16340\",\"24925\",\"30814\",\"4448\",\"26594\",\"11618\",\"6756\",\"6629\",\"5991\",\"16490\",\"2539\",\"26987\",\"6765\",\"18416\",\"2930\",\"2931\",\"22136\",\"6780\"],\"y\":[\"en_es\",\"antonyms\",\"person_profession\",\"es_en\",\"present_simple_gerund\",\"present_simple_past_simple\",\"person_profession\",\"person_language\",\"country_capital\",\"football_player_position\"],\"z\":[[-1.15625,-8.09375,0.09375,-1.28125,-5.15625,-6.59375,0.390625,-0.5625,-2.96875,-0.625,-0.03125,-0.15625,-1.875,0.453125,0.515625,-1.0,-2.21875,-0.65625,-2.3125,0.09375,-5.71875,-8.53125,-0.46875,-3.375,-0.5,0.453125,0.0,-0.90625,0.234375,-0.28125,-0.40625,0.09375,-1.71875,-6.21875,-0.46875,-1.21875,-10.71875,-0.34375,-0.8125,-0.90625,0.125,-0.3125,-0.75],[-3.57421875,-6.91796875,0.34375,-4.79296875,-0.08203125,-2.04296875,-0.91796875,-0.95703125,-0.52734375,-0.59765625,-2.63671875,-0.32421875,-0.47265625,-3.54296875,-1.37109375,-1.19921875,-2.44921875,-1.29296875,-1.55859375,-0.12109375,-4.32421875,-3.51171875,-0.83203125,-0.80859375,-0.59765625,0.2109375,-0.24609375,-0.66015625,-0.65234375,-1.60546875,-4.91796875,-0.97265625,-0.95703125,-0.62109375,-0.10546875,-0.07421875,-0.29296875,-0.32421875,-1.19921875,-0.98046875,-1.15234375,-9.69921875,-0.54296875],[-1.34375,-1.71875,-0.234375,-3.1875,-1.375,-9.71875,-0.9375,-2.0625,-0.46875,-0.890625,-0.875,-4.125,-0.359375,-0.859375,-0.734375,-3.78125,-1.8125,-1.8125,-2.3125,-1.78125,-6.78125,-7.21875,-1.25,-0.609375,-0.0625,-0.890625,-2.5,-1.96875,-1.34375,-1.6875,-0.5,-1.6875,-0.890625,-1.46875,-0.421875,-2.0625,0.09375,0.25,-1.96875,-1.53125,-0.625,-0.453125,-0.546875],[-2.03125,-11.03125,0.140625,-1.875,-5.15625,-5.53125,-1.03125,-2.0625,-2.71875,-2.53125,-3.03125,-1.328125,-2.375,-0.875,-1.390625,-1.09375,-1.296875,-2.0625,-3.78125,-0.59375,-7.03125,-6.53125,-1.078125,-2.4375,-1.171875,-0.609375,-0.671875,-1.34375,-1.015625,-2.59375,-0.546875,-1.296875,-1.484375,-5.0625,-1.5,-1.96875,-1.59375,-0.796875,-2.15625,-2.9375,-0.671875,-1.59375,-0.96875],[-0.1279296875,-14.6943359375,-0.2763671875,-1.2802734375,-10.1943359375,-1.7724609375,0.01953125,-0.0888671875,-0.1083984375,-0.6279296875,-2.1787109375,-0.2197265625,-5.4130859375,-0.1142578125,-0.3271484375,-0.6748046875,-0.1337890625,-0.5458984375,-2.3505859375,-0.4052734375,-7.3818359375,-3.5224609375,-0.0126953125,-2.6005859375,-4.5068359375,-0.1318359375,-0.3232421875,-0.2158203125,-0.2998046875,-2.4912109375,-0.3896484375,-0.1298828125,-2.3505859375,-1.4833984375,-0.4912109375,-2.3974609375,-1.0224609375,0.0712890625,-0.2197265625,-4.8193359375,-0.6748046875,-0.4169921875,-1.5068359375],[-0.171875,-12.84375,0.48828125,-0.0859375,-8.21875,-1.09375,0.1015625,0.2109375,0.203125,-0.0625,-0.296875,0.23046875,-2.484375,-0.1171875,-0.0390625,0.25390625,0.3828125,-0.53125,-0.3125,0.1015625,-7.71875,-3.5625,0.0,-0.5390625,-7.15625,0.1640625,0.37890625,0.2421875,-0.921875,-1.640625,0.1015625,0.265625,-0.359375,-3.375,0.0546875,-0.84375,0.1328125,0.203125,0.0703125,-2.234375,-2.546875,-0.0234375,-0.5703125],[-1.34375,-1.71875,-0.234375,-3.1875,-1.375,-9.71875,-0.9375,-2.0625,-0.46875,-0.890625,-0.875,-4.125,-0.359375,-0.859375,-0.734375,-3.78125,-1.8125,-1.8125,-2.3125,-1.78125,-6.78125,-7.21875,-1.25,-0.609375,-0.0625,-0.890625,-2.5,-1.96875,-1.34375,-1.6875,-0.5,-1.6875,-0.890625,-1.46875,-0.421875,-2.0625,0.09375,0.25,-1.96875,-1.53125,-0.625,-0.453125,-0.546875],[-4.015625,-1.921875,0.109375,-1.453125,-1.96875,-5.734375,0.109375,-0.53125,-1.65625,-0.375,-0.90625,0.37109375,-1.15625,-1.046875,-0.8203125,-0.1875,-2.109375,-1.203125,-1.1875,-1.015625,-3.421875,-1.421875,-0.953125,-1.359375,-0.59375,-1.546875,-6.421875,-0.0859375,-0.15625,-2.15625,-0.421875,-0.2578125,-0.8203125,-1.53125,-0.71875,-0.96875,-0.3984375,-0.0625,-0.359375,-1.1875,-0.859375,-0.875,-0.8125],[-0.265625,-6.5546875,0.0546875,-1.9296875,-1.6796875,-0.5078125,-0.7734375,-1.8671875,0.109375,-0.8984375,-1.3984375,-0.9921875,-3.1484375,0.09375,-2.3984375,-0.203125,-1.2265625,-0.7890625,-5.9921875,-0.25,0.0625,-1.0234375,-0.7734375,-0.4609375,-0.1484375,-0.7109375,-2.7109375,-1.6484375,-0.25,-1.4921875,-0.1484375,-0.6171875,-0.4453125,-2.1953125,-0.3203125,-4.6171875,-0.6796875,-0.4921875,-0.5234375,0.2265625,-0.0234375,-1.0078125,-3.2421875],[-2.28125,-6.0625,0.125,-3.8125,-1.46875,-11.5,-2.28125,-3.5,-1.78125,-3.375,-3.6875,-3.375,-1.875,-0.46875,-2.15625,-3.625,-1.21875,-1.3125,-5.6875,-2.6875,-6.3125,-8.6875,-0.6875,-0.75,-0.359375,-1.21875,-4.40625,-2.90625,-2.46875,-2.96875,-0.90625,-3.0625,-0.5,-2.6875,-1.21875,-2.71875,-1.453125,-1.0,-4.25,-1.15625,-0.53125,-0.4375,-2.34375]],\"type\":\"heatmap\",\"xaxis\":\"x\",\"yaxis\":\"y\",\"hovertemplate\":\"x: %{x}\\u003cbr\\u003ey: %{y}\\u003cbr\\u003ecolor: %{z}\\u003cextra\\u003e\\u003c\\u002fextra\\u003e\"}],                        {\"template\":{\"data\":{\"histogram2dcontour\":[{\"type\":\"histogram2dcontour\",\"colorbar\":{\"outlinewidth\":0,\"ticks\":\"\"},\"colorscale\":[[0.0,\"#0d0887\"],[0.1111111111111111,\"#46039f\"],[0.2222222222222222,\"#7201a8\"],[0.3333333333333333,\"#9c179e\"],[0.4444444444444444,\"#bd3786\"],[0.5555555555555556,\"#d8576b\"],[0.6666666666666666,\"#ed7953\"],[0.7777777777777778,\"#fb9f3a\"],[0.8888888888888888,\"#fdca26\"],[1.0,\"#f0f921\"]]}],\"choropleth\":[{\"type\":\"choropleth\",\"colorbar\":{\"outlinewidth\":0,\"ticks\":\"\"}}],\"histogram2d\":[{\"type\":\"histogram2d\",\"colorbar\":{\"outlinewidth\":0,\"ticks\":\"\"},\"colorscale\":[[0.0,\"#0d0887\"],[0.1111111111111111,\"#46039f\"],[0.2222222222222222,\"#7201a8\"],[0.3333333333333333,\"#9c179e\"],[0.4444444444444444,\"#bd3786\"],[0.5555555555555556,\"#d8576b\"],[0.6666666666666666,\"#ed7953\"],[0.7777777777777778,\"#fb9f3a\"],[0.8888888888888888,\"#fdca26\"],[1.0,\"#f0f921\"]]}],\"heatmap\":[{\"type\":\"heatmap\",\"colorbar\":{\"outlinewidth\":0,\"ticks\":\"\"},\"colorscale\":[[0.0,\"#0d0887\"],[0.1111111111111111,\"#46039f\"],[0.2222222222222222,\"#7201a8\"],[0.3333333333333333,\"#9c179e\"],[0.4444444444444444,\"#bd3786\"],[0.5555555555555556,\"#d8576b\"],[0.6666666666666666,\"#ed7953\"],[0.7777777777777778,\"#fb9f3a\"],[0.8888888888888888,\"#fdca26\"],[1.0,\"#f0f921\"]]}],\"heatmapgl\":[{\"type\":\"heatmapgl\",\"colorbar\":{\"outlinewidth\":0,\"ticks\":\"\"},\"colorscale\":[[0.0,\"#0d0887\"],[0.1111111111111111,\"#46039f\"],[0.2222222222222222,\"#7201a8\"],[0.3333333333333333,\"#9c179e\"],[0.4444444444444444,\"#bd3786\"],[0.5555555555555556,\"#d8576b\"],[0.6666666666666666,\"#ed7953\"],[0.7777777777777778,\"#fb9f3a\"],[0.8888888888888888,\"#fdca26\"],[1.0,\"#f0f921\"]]}],\"contourcarpet\":[{\"type\":\"contourcarpet\",\"colorbar\":{\"outlinewidth\":0,\"ticks\":\"\"}}],\"contour\":[{\"type\":\"contour\",\"colorbar\":{\"outlinewidth\":0,\"ticks\":\"\"},\"colorscale\":[[0.0,\"#0d0887\"],[0.1111111111111111,\"#46039f\"],[0.2222222222222222,\"#7201a8\"],[0.3333333333333333,\"#9c179e\"],[0.4444444444444444,\"#bd3786\"],[0.5555555555555556,\"#d8576b\"],[0.6666666666666666,\"#ed7953\"],[0.7777777777777778,\"#fb9f3a\"],[0.8888888888888888,\"#fdca26\"],[1.0,\"#f0f921\"]]}],\"surface\":[{\"type\":\"surface\",\"colorbar\":{\"outlinewidth\":0,\"ticks\":\"\"},\"colorscale\":[[0.0,\"#0d0887\"],[0.1111111111111111,\"#46039f\"],[0.2222222222222222,\"#7201a8\"],[0.3333333333333333,\"#9c179e\"],[0.4444444444444444,\"#bd3786\"],[0.5555555555555556,\"#d8576b\"],[0.6666666666666666,\"#ed7953\"],[0.7777777777777778,\"#fb9f3a\"],[0.8888888888888888,\"#fdca26\"],[1.0,\"#f0f921\"]]}],\"mesh3d\":[{\"type\":\"mesh3d\",\"colorbar\":{\"outlinewidth\":0,\"ticks\":\"\"}}],\"scatter\":[{\"fillpattern\":{\"fillmode\":\"overlay\",\"size\":10,\"solidity\":0.2},\"type\":\"scatter\"}],\"parcoords\":[{\"type\":\"parcoords\",\"line\":{\"colorbar\":{\"outlinewidth\":0,\"ticks\":\"\"}}}],\"scatterpolargl\":[{\"type\":\"scatterpolargl\",\"marker\":{\"colorbar\":{\"outlinewidth\":0,\"ticks\":\"\"}}}],\"bar\":[{\"error_x\":{\"color\":\"#2a3f5f\"},\"error_y\":{\"color\":\"#2a3f5f\"},\"marker\":{\"line\":{\"color\":\"#E5ECF6\",\"width\":0.5},\"pattern\":{\"fillmode\":\"overlay\",\"size\":10,\"solidity\":0.2}},\"type\":\"bar\"}],\"scattergeo\":[{\"type\":\"scattergeo\",\"marker\":{\"colorbar\":{\"outlinewidth\":0,\"ticks\":\"\"}}}],\"scatterpolar\":[{\"type\":\"scatterpolar\",\"marker\":{\"colorbar\":{\"outlinewidth\":0,\"ticks\":\"\"}}}],\"histogram\":[{\"marker\":{\"pattern\":{\"fillmode\":\"overlay\",\"size\":10,\"solidity\":0.2}},\"type\":\"histogram\"}],\"scattergl\":[{\"type\":\"scattergl\",\"marker\":{\"colorbar\":{\"outlinewidth\":0,\"ticks\":\"\"}}}],\"scatter3d\":[{\"type\":\"scatter3d\",\"line\":{\"colorbar\":{\"outlinewidth\":0,\"ticks\":\"\"}},\"marker\":{\"colorbar\":{\"outlinewidth\":0,\"ticks\":\"\"}}}],\"scattermapbox\":[{\"type\":\"scattermapbox\",\"marker\":{\"colorbar\":{\"outlinewidth\":0,\"ticks\":\"\"}}}],\"scatterternary\":[{\"type\":\"scatterternary\",\"marker\":{\"colorbar\":{\"outlinewidth\":0,\"ticks\":\"\"}}}],\"scattercarpet\":[{\"type\":\"scattercarpet\",\"marker\":{\"colorbar\":{\"outlinewidth\":0,\"ticks\":\"\"}}}],\"carpet\":[{\"aaxis\":{\"endlinecolor\":\"#2a3f5f\",\"gridcolor\":\"white\",\"linecolor\":\"white\",\"minorgridcolor\":\"white\",\"startlinecolor\":\"#2a3f5f\"},\"baxis\":{\"endlinecolor\":\"#2a3f5f\",\"gridcolor\":\"white\",\"linecolor\":\"white\",\"minorgridcolor\":\"white\",\"startlinecolor\":\"#2a3f5f\"},\"type\":\"carpet\"}],\"table\":[{\"cells\":{\"fill\":{\"color\":\"#EBF0F8\"},\"line\":{\"color\":\"white\"}},\"header\":{\"fill\":{\"color\":\"#C8D4E3\"},\"line\":{\"color\":\"white\"}},\"type\":\"table\"}],\"barpolar\":[{\"marker\":{\"line\":{\"color\":\"#E5ECF6\",\"width\":0.5},\"pattern\":{\"fillmode\":\"overlay\",\"size\":10,\"solidity\":0.2}},\"type\":\"barpolar\"}],\"pie\":[{\"automargin\":true,\"type\":\"pie\"}]},\"layout\":{\"autotypenumbers\":\"strict\",\"colorway\":[\"#636efa\",\"#EF553B\",\"#00cc96\",\"#ab63fa\",\"#FFA15A\",\"#19d3f3\",\"#FF6692\",\"#B6E880\",\"#FF97FF\",\"#FECB52\"],\"font\":{\"color\":\"#2a3f5f\"},\"hovermode\":\"closest\",\"hoverlabel\":{\"align\":\"left\"},\"paper_bgcolor\":\"white\",\"plot_bgcolor\":\"#E5ECF6\",\"polar\":{\"bgcolor\":\"#E5ECF6\",\"angularaxis\":{\"gridcolor\":\"white\",\"linecolor\":\"white\",\"ticks\":\"\"},\"radialaxis\":{\"gridcolor\":\"white\",\"linecolor\":\"white\",\"ticks\":\"\"}},\"ternary\":{\"bgcolor\":\"#E5ECF6\",\"aaxis\":{\"gridcolor\":\"white\",\"linecolor\":\"white\",\"ticks\":\"\"},\"baxis\":{\"gridcolor\":\"white\",\"linecolor\":\"white\",\"ticks\":\"\"},\"caxis\":{\"gridcolor\":\"white\",\"linecolor\":\"white\",\"ticks\":\"\"}},\"coloraxis\":{\"colorbar\":{\"outlinewidth\":0,\"ticks\":\"\"}},\"colorscale\":{\"sequential\":[[0.0,\"#0d0887\"],[0.1111111111111111,\"#46039f\"],[0.2222222222222222,\"#7201a8\"],[0.3333333333333333,\"#9c179e\"],[0.4444444444444444,\"#bd3786\"],[0.5555555555555556,\"#d8576b\"],[0.6666666666666666,\"#ed7953\"],[0.7777777777777778,\"#fb9f3a\"],[0.8888888888888888,\"#fdca26\"],[1.0,\"#f0f921\"]],\"sequentialminus\":[[0.0,\"#0d0887\"],[0.1111111111111111,\"#46039f\"],[0.2222222222222222,\"#7201a8\"],[0.3333333333333333,\"#9c179e\"],[0.4444444444444444,\"#bd3786\"],[0.5555555555555556,\"#d8576b\"],[0.6666666666666666,\"#ed7953\"],[0.7777777777777778,\"#fb9f3a\"],[0.8888888888888888,\"#fdca26\"],[1.0,\"#f0f921\"]],\"diverging\":[[0,\"#8e0152\"],[0.1,\"#c51b7d\"],[0.2,\"#de77ae\"],[0.3,\"#f1b6da\"],[0.4,\"#fde0ef\"],[0.5,\"#f7f7f7\"],[0.6,\"#e6f5d0\"],[0.7,\"#b8e186\"],[0.8,\"#7fbc41\"],[0.9,\"#4d9221\"],[1,\"#276419\"]]},\"xaxis\":{\"gridcolor\":\"white\",\"linecolor\":\"white\",\"ticks\":\"\",\"title\":{\"standoff\":15},\"zerolinecolor\":\"white\",\"automargin\":true,\"zerolinewidth\":2},\"yaxis\":{\"gridcolor\":\"white\",\"linecolor\":\"white\",\"ticks\":\"\",\"title\":{\"standoff\":15},\"zerolinecolor\":\"white\",\"automargin\":true,\"zerolinewidth\":2},\"scene\":{\"xaxis\":{\"backgroundcolor\":\"#E5ECF6\",\"gridcolor\":\"white\",\"linecolor\":\"white\",\"showbackground\":true,\"ticks\":\"\",\"zerolinecolor\":\"white\",\"gridwidth\":2},\"yaxis\":{\"backgroundcolor\":\"#E5ECF6\",\"gridcolor\":\"white\",\"linecolor\":\"white\",\"showbackground\":true,\"ticks\":\"\",\"zerolinecolor\":\"white\",\"gridwidth\":2},\"zaxis\":{\"backgroundcolor\":\"#E5ECF6\",\"gridcolor\":\"white\",\"linecolor\":\"white\",\"showbackground\":true,\"ticks\":\"\",\"zerolinecolor\":\"white\",\"gridwidth\":2}},\"shapedefaults\":{\"line\":{\"color\":\"#2a3f5f\"}},\"annotationdefaults\":{\"arrowcolor\":\"#2a3f5f\",\"arrowhead\":0,\"arrowwidth\":1},\"geo\":{\"bgcolor\":\"white\",\"landcolor\":\"#E5ECF6\",\"subunitcolor\":\"white\",\"showland\":true,\"showlakes\":true,\"lakecolor\":\"white\"},\"title\":{\"x\":0.05},\"mapbox\":{\"style\":\"light\"}}},\"xaxis\":{\"anchor\":\"y\",\"domain\":[0.0,1.0],\"scaleanchor\":\"y\",\"constrain\":\"domain\"},\"yaxis\":{\"anchor\":\"x\",\"domain\":[0.0,1.0],\"autorange\":\"reversed\",\"constrain\":\"domain\"},\"coloraxis\":{\"colorscale\":[[0.0,\"#0d0887\"],[0.1111111111111111,\"#46039f\"],[0.2222222222222222,\"#7201a8\"],[0.3333333333333333,\"#9c179e\"],[0.4444444444444444,\"#bd3786\"],[0.5555555555555556,\"#d8576b\"],[0.6666666666666666,\"#ed7953\"],[0.7777777777777778,\"#fb9f3a\"],[0.8888888888888888,\"#fdca26\"],[1.0,\"#f0f921\"]]},\"margin\":{\"t\":60}},                        {\"responsive\": true}                    ).then(function(){\n",
       "                            \n",
       "var gd = document.getElementById('32a2cf23-73c6-470c-8826-3f8144b22cc9');\n",
       "var x = new MutationObserver(function (mutations, observer) {{\n",
       "        var display = window.getComputedStyle(gd).display;\n",
       "        if (!display || display === 'none') {{\n",
       "            console.log([gd, 'removed!']);\n",
       "            Plotly.purge(gd);\n",
       "            observer.disconnect();\n",
       "        }}\n",
       "}});\n",
       "\n",
       "// Listen for the removal of the full notebook cells\n",
       "var notebookContainer = gd.closest('#notebook-container');\n",
       "if (notebookContainer) {{\n",
       "    x.observe(notebookContainer, {childList: true});\n",
       "}}\n",
       "\n",
       "// Listen for the clearing of the current output cell\n",
       "var outputEl = gd.closest('.output');\n",
       "if (outputEl) {{\n",
       "    x.observe(outputEl, {childList: true});\n",
       "}}\n",
       "\n",
       "                        })                };                });            </script>        </div>"
      ]
     },
     "metadata": {},
     "output_type": "display_data"
    }
   ],
   "source": [
    "import plotly.express as px\n",
    "import pandas as pd\n",
    "import numpy as np\n",
    "\n",
    "for task_name, losses in task_losses.items():\n",
    "    base_loss = losses[1]\n",
    "    losses = losses[0]\n",
    "\n",
    "    task_losses[task_name][0] = [(base_loss - loss) for loss in losses]\n",
    "\n",
    "\n",
    "df = pd.DataFrame([\n",
    "    {\"task\": task_name, \"feature\": feature, \"loss\": loss}\n",
    "    for task_name, losses in task_losses.items()\n",
    "    for feature, loss in zip(features, losses[0])\n",
    "])\n",
    "\n",
    "\n",
    "\n",
    "heatmap = np.zeros((len(task_names), len(features)))\n",
    "\n",
    "for i, task_name in enumerate(task_names):\n",
    "    for j, feature in enumerate(features):\n",
    "        heatmap[i, j] = task_losses[task_name][0][j]\n",
    "\n",
    "fig = px.imshow(heatmap, x=[str(x) for x in features], y=task_names)\n",
    "\n",
    "fig.show()\n"
   ]
  },
  {
   "cell_type": "code",
   "execution_count": 75,
   "metadata": {},
   "outputs": [
    {
     "data": {
      "application/vnd.plotly.v1+json": {
       "config": {
        "plotlyServerURL": "https://plot.ly"
       },
       "data": [
        {
         "coloraxis": "coloraxis",
         "hovertemplate": "x: %{x}<br>y: %{y}<br>color: %{z}<extra></extra>",
         "name": "0",
         "type": "heatmap",
         "x": [
          "9600",
          "23682",
          "32643",
          "31620",
          "27268",
          "27401",
          "6413",
          "24206",
          "12943",
          "16016",
          "9488",
          "13458",
          "14612",
          "19097",
          "7578",
          "16671",
          "19112",
          "7739",
          "8125",
          "32320",
          "6594",
          "7491",
          "15947",
          "5579",
          "15356",
          "16340",
          "24925",
          "30814",
          "4448",
          "26594",
          "11618",
          "6756",
          "6629",
          "5991",
          "16490",
          "2539",
          "26987",
          "6765",
          "18416",
          "2930",
          "2931",
          "22136",
          "6780"
         ],
         "xaxis": "x",
         "y": [
          "en_es",
          "antonyms",
          "person_profession",
          "es_en",
          "present_simple_gerund",
          "present_simple_past_simple",
          "person_profession",
          "person_language",
          "country_capital",
          "football_player_position"
         ],
         "yaxis": "y",
         "z": [
          [
           -0.0625,
           0.234375,
           0.09375,
           0.25,
           -0.625,
           -1.09375,
           0.09375,
           0.15625,
           -0.1875,
           -0.09375,
           0.359375,
           0.03125,
           0.46875,
           0.234375,
           0.5,
           0.125,
           -0.09375,
           -0.28125,
           -0.3125,
           0.328125,
           0.03125,
           -9.28125,
           -0.34375,
           -0.28125,
           0.390625,
           0.484375,
           0.25,
           -0.25,
           0.03125,
           -0.09375,
           0.421875,
           -0.15625,
           0.3125,
           0.15625,
           0.0625,
           0.03125,
           -1.75,
           -0.21875,
           -0.3125,
           0.1875,
           0.1875,
           0.28125,
           0.15625
          ],
          [
           -0.73046875,
           -0.0078125,
           0.140625,
           -0.65234375,
           0.21484375,
           -0.38671875,
           -0.30078125,
           -0.51171875,
           0.234375,
           -0.16015625,
           -0.49609375,
           -0.21484375,
           0.0546875,
           -0.89453125,
           -0.25390625,
           -0.51171875,
           -0.26171875,
           -0.23046875,
           -0.17578125,
           0.3125,
           0.171875,
           -7.07421875,
           -0.47265625,
           -0.12890625,
           0.0546875,
           0.17578125,
           -0.12109375,
           -0.14453125,
           -0.19140625,
           0.296875,
           -0.82421875,
           -0.29296875,
           -0.29296875,
           0.15234375,
           0.34765625,
           0.04296875,
           0.22265625,
           -0.07421875,
           -0.36328125,
           -0.31640625,
           -0.37890625,
           -2.05859375,
           -0.04296875
          ],
          [
           -0.296875,
           -0.21875,
           -0.265625,
           -0.890625,
           -0.53125,
           -1.4375,
           -0.15625,
           -0.53125,
           -0.375,
           -0.0625,
           0.25,
           -0.40625,
           0.203125,
           -0.046875,
           0.109375,
           -0.28125,
           -0.25,
           -0.484375,
           -0.96875,
           -0.328125,
           -1.34375,
           -5.65625,
           -0.015625,
           -0.046875,
           -0.015625,
           -0.46875,
           -0.265625,
           -0.4375,
           0.03125,
           -0.015625,
           -0.15625,
           -0.421875,
           -0.078125,
           -0.0625,
           -0.203125,
           -1.0625,
           0.3125,
           0.296875,
           -0.046875,
           -0.28125,
           -0.34375,
           -0.21875,
           -0.140625
          ],
          [
           -0.484375,
           -0.671875,
           0.265625,
           -0.765625,
           -0.671875,
           -1.59375,
           -0.578125,
           -0.953125,
           -1.203125,
           -1.203125,
           -0.640625,
           -0.484375,
           -0.015625,
           -0.453125,
           -0.234375,
           -0.21875,
           -0.21875,
           -0.90625,
           -1.15625,
           -0.1875,
           -1.1875,
           -7.96875,
           -0.40625,
           -0.65625,
           -0.234375,
           -0.125,
           -0.09375,
           -0.46875,
           -0.15625,
           0.1875,
           0.125,
           -0.390625,
           -0.03125,
           -0.890625,
           -0.34375,
           -0.875,
           -0.09375,
           -0.328125,
           -0.71875,
           -0.5,
           -0.3125,
           -0.359375,
           0.03125
          ],
          [
           0.1484375,
           -2.2255859375,
           0.017578125,
           0.13330078125,
           -2.8505859375,
           0.1005859375,
           -0.0419921875,
           0.0693359375,
           0.1435546875,
           0.0419921875,
           -0.0400390625,
           -0.0927734375,
           -0.0927734375,
           0.0439453125,
           -0.0615234375,
           0.09765625,
           0.11328125,
           -0.0380859375,
           0.15087890625,
           0.0361328125,
           -0.7294921875,
           -6.3505859375,
           -0.0478515625,
           -0.1044921875,
           -0.3037109375,
           0.037109375,
           -0.0693359375,
           -0.0908203125,
           -0.1142578125,
           -0.0712890625,
           -0.1279296875,
           -0.1044921875,
           -0.2314453125,
           -0.0517578125,
           -0.0283203125,
           -0.0244140625,
           -0.0615234375,
           0.0517578125,
           -0.1943359375,
           -1.2412109375,
           0.103515625,
           0.064453125,
           0.0869140625
          ],
          [
           0.203125,
           -0.015625,
           0.1640625,
           0.0546875,
           -2.03125,
           0.31640625,
           0.0625,
           0.1484375,
           0.09375,
           0.140625,
           0.125,
           0.1015625,
           0.33203125,
           0,
           -0.015625,
           0.1328125,
           0.1171875,
           -0.015625,
           0.28515625,
           0.046875,
           -0.5546875,
           -6.28125,
           -0.1484375,
           0.34765625,
           -3.53125,
           0.125,
           0.1328125,
           0.0859375,
           0.0546875,
           -0.0625,
           0.0625,
           0.171875,
           0.1015625,
           0.203125,
           0.1640625,
           0.015625,
           0.37109375,
           0.1015625,
           0.1328125,
           -0.0078125,
           0.0625,
           0.1171875,
           0.03125
          ],
          [
           -0.296875,
           -0.21875,
           -0.265625,
           -0.890625,
           -0.53125,
           -1.4375,
           -0.15625,
           -0.53125,
           -0.375,
           -0.0625,
           0.25,
           -0.40625,
           0.203125,
           -0.046875,
           0.109375,
           -0.28125,
           -0.25,
           -0.484375,
           -0.96875,
           -0.328125,
           -1.34375,
           -5.65625,
           -0.015625,
           -0.046875,
           -0.015625,
           -0.46875,
           -0.265625,
           -0.4375,
           0.03125,
           -0.015625,
           -0.15625,
           -0.421875,
           -0.078125,
           -0.0625,
           -0.203125,
           -1.0625,
           0.3125,
           0.296875,
           -0.046875,
           -0.28125,
           -0.34375,
           -0.21875,
           -0.140625
          ],
          [
           -1.09375,
           -0.1328125,
           -0.03125,
           -0.125,
           -0.53125,
           -0.6640625,
           0.0546875,
           -0.171875,
           -0.7421875,
           -0.140625,
           0.359375,
           0.1875,
           0.0546875,
           -0.203125,
           -0.1015625,
           -0.1328125,
           -0.1171875,
           -0.15625,
           -0.1953125,
           -0.1171875,
           -0.2421875,
           -0.1875,
           -0.171875,
           -0.0390625,
           0.2109375,
           -0.71875,
           -0.71875,
           -0.078125,
           0.09375,
           -0.3125,
           0.25390625,
           -0.046875,
           -0.015625,
           -0.1328125,
           -0.1953125,
           -0.46875,
           0.25390625,
           0.0703125,
           0.09375,
           -0.40625,
           0.0625,
           -0.328125,
           0.1171875
          ],
          [
           -0.109375,
           -3.3046875,
           0.2890625,
           -0.5234375,
           -0.0703125,
           -0.046875,
           -0.203125,
           -0.7421875,
           0.125,
           0.09375,
           0.046875,
           -0.015625,
           -0.1015625,
           0.1015625,
           -0.234375,
           -0.0078125,
           -0.3671875,
           -0.1484375,
           -1.0234375,
           0,
           0.328125,
           -0.140625,
           -0.3671875,
           0.1640625,
           0.046875,
           0,
           -0.1875,
           -0.15625,
           0.109375,
           0.15625,
           0.0390625,
           -0.0703125,
           0.125,
           0.0078125,
           0,
           -0.5078125,
           0.296875,
           -0.1796875,
           -0.046875,
           0.5390625,
           0.0234375,
           -0.2578125,
           -0.4921875
          ],
          [
           -0.34375,
           -1.90625,
           0.4921875,
           -1.65625,
           -0.234375,
           -3,
           -0.578125,
           -2.28125,
           -0.953125,
           -1.0625,
           -0.203125,
           -0.3125,
           -0.453125,
           0.21875,
           -1.421875,
           -0.265625,
           -0.0625,
           -0.03125,
           -3.25,
           0.125,
           -1.421875,
           -5.03125,
           -0.3125,
           0.234375,
           -0.03125,
           0.046875,
           -1.546875,
           0.0625,
           -0.15625,
           0.15625,
           -0.203125,
           -0.828125,
           0,
           -0.828125,
           -0.171875,
           -1.390625,
           -0.1875,
           -0.46875,
           -0.5,
           -0.9375,
           -0.484375,
           0.09375,
           -0.59375
          ]
         ]
        }
       ],
       "layout": {
        "coloraxis": {
         "colorscale": [
          [
           0,
           "#0d0887"
          ],
          [
           0.1111111111111111,
           "#46039f"
          ],
          [
           0.2222222222222222,
           "#7201a8"
          ],
          [
           0.3333333333333333,
           "#9c179e"
          ],
          [
           0.4444444444444444,
           "#bd3786"
          ],
          [
           0.5555555555555556,
           "#d8576b"
          ],
          [
           0.6666666666666666,
           "#ed7953"
          ],
          [
           0.7777777777777778,
           "#fb9f3a"
          ],
          [
           0.8888888888888888,
           "#fdca26"
          ],
          [
           1,
           "#f0f921"
          ]
         ]
        },
        "margin": {
         "t": 60
        },
        "template": {
         "data": {
          "bar": [
           {
            "error_x": {
             "color": "#2a3f5f"
            },
            "error_y": {
             "color": "#2a3f5f"
            },
            "marker": {
             "line": {
              "color": "#E5ECF6",
              "width": 0.5
             },
             "pattern": {
              "fillmode": "overlay",
              "size": 10,
              "solidity": 0.2
             }
            },
            "type": "bar"
           }
          ],
          "barpolar": [
           {
            "marker": {
             "line": {
              "color": "#E5ECF6",
              "width": 0.5
             },
             "pattern": {
              "fillmode": "overlay",
              "size": 10,
              "solidity": 0.2
             }
            },
            "type": "barpolar"
           }
          ],
          "carpet": [
           {
            "aaxis": {
             "endlinecolor": "#2a3f5f",
             "gridcolor": "white",
             "linecolor": "white",
             "minorgridcolor": "white",
             "startlinecolor": "#2a3f5f"
            },
            "baxis": {
             "endlinecolor": "#2a3f5f",
             "gridcolor": "white",
             "linecolor": "white",
             "minorgridcolor": "white",
             "startlinecolor": "#2a3f5f"
            },
            "type": "carpet"
           }
          ],
          "choropleth": [
           {
            "colorbar": {
             "outlinewidth": 0,
             "ticks": ""
            },
            "type": "choropleth"
           }
          ],
          "contour": [
           {
            "colorbar": {
             "outlinewidth": 0,
             "ticks": ""
            },
            "colorscale": [
             [
              0,
              "#0d0887"
             ],
             [
              0.1111111111111111,
              "#46039f"
             ],
             [
              0.2222222222222222,
              "#7201a8"
             ],
             [
              0.3333333333333333,
              "#9c179e"
             ],
             [
              0.4444444444444444,
              "#bd3786"
             ],
             [
              0.5555555555555556,
              "#d8576b"
             ],
             [
              0.6666666666666666,
              "#ed7953"
             ],
             [
              0.7777777777777778,
              "#fb9f3a"
             ],
             [
              0.8888888888888888,
              "#fdca26"
             ],
             [
              1,
              "#f0f921"
             ]
            ],
            "type": "contour"
           }
          ],
          "contourcarpet": [
           {
            "colorbar": {
             "outlinewidth": 0,
             "ticks": ""
            },
            "type": "contourcarpet"
           }
          ],
          "heatmap": [
           {
            "colorbar": {
             "outlinewidth": 0,
             "ticks": ""
            },
            "colorscale": [
             [
              0,
              "#0d0887"
             ],
             [
              0.1111111111111111,
              "#46039f"
             ],
             [
              0.2222222222222222,
              "#7201a8"
             ],
             [
              0.3333333333333333,
              "#9c179e"
             ],
             [
              0.4444444444444444,
              "#bd3786"
             ],
             [
              0.5555555555555556,
              "#d8576b"
             ],
             [
              0.6666666666666666,
              "#ed7953"
             ],
             [
              0.7777777777777778,
              "#fb9f3a"
             ],
             [
              0.8888888888888888,
              "#fdca26"
             ],
             [
              1,
              "#f0f921"
             ]
            ],
            "type": "heatmap"
           }
          ],
          "heatmapgl": [
           {
            "colorbar": {
             "outlinewidth": 0,
             "ticks": ""
            },
            "colorscale": [
             [
              0,
              "#0d0887"
             ],
             [
              0.1111111111111111,
              "#46039f"
             ],
             [
              0.2222222222222222,
              "#7201a8"
             ],
             [
              0.3333333333333333,
              "#9c179e"
             ],
             [
              0.4444444444444444,
              "#bd3786"
             ],
             [
              0.5555555555555556,
              "#d8576b"
             ],
             [
              0.6666666666666666,
              "#ed7953"
             ],
             [
              0.7777777777777778,
              "#fb9f3a"
             ],
             [
              0.8888888888888888,
              "#fdca26"
             ],
             [
              1,
              "#f0f921"
             ]
            ],
            "type": "heatmapgl"
           }
          ],
          "histogram": [
           {
            "marker": {
             "pattern": {
              "fillmode": "overlay",
              "size": 10,
              "solidity": 0.2
             }
            },
            "type": "histogram"
           }
          ],
          "histogram2d": [
           {
            "colorbar": {
             "outlinewidth": 0,
             "ticks": ""
            },
            "colorscale": [
             [
              0,
              "#0d0887"
             ],
             [
              0.1111111111111111,
              "#46039f"
             ],
             [
              0.2222222222222222,
              "#7201a8"
             ],
             [
              0.3333333333333333,
              "#9c179e"
             ],
             [
              0.4444444444444444,
              "#bd3786"
             ],
             [
              0.5555555555555556,
              "#d8576b"
             ],
             [
              0.6666666666666666,
              "#ed7953"
             ],
             [
              0.7777777777777778,
              "#fb9f3a"
             ],
             [
              0.8888888888888888,
              "#fdca26"
             ],
             [
              1,
              "#f0f921"
             ]
            ],
            "type": "histogram2d"
           }
          ],
          "histogram2dcontour": [
           {
            "colorbar": {
             "outlinewidth": 0,
             "ticks": ""
            },
            "colorscale": [
             [
              0,
              "#0d0887"
             ],
             [
              0.1111111111111111,
              "#46039f"
             ],
             [
              0.2222222222222222,
              "#7201a8"
             ],
             [
              0.3333333333333333,
              "#9c179e"
             ],
             [
              0.4444444444444444,
              "#bd3786"
             ],
             [
              0.5555555555555556,
              "#d8576b"
             ],
             [
              0.6666666666666666,
              "#ed7953"
             ],
             [
              0.7777777777777778,
              "#fb9f3a"
             ],
             [
              0.8888888888888888,
              "#fdca26"
             ],
             [
              1,
              "#f0f921"
             ]
            ],
            "type": "histogram2dcontour"
           }
          ],
          "mesh3d": [
           {
            "colorbar": {
             "outlinewidth": 0,
             "ticks": ""
            },
            "type": "mesh3d"
           }
          ],
          "parcoords": [
           {
            "line": {
             "colorbar": {
              "outlinewidth": 0,
              "ticks": ""
             }
            },
            "type": "parcoords"
           }
          ],
          "pie": [
           {
            "automargin": true,
            "type": "pie"
           }
          ],
          "scatter": [
           {
            "fillpattern": {
             "fillmode": "overlay",
             "size": 10,
             "solidity": 0.2
            },
            "type": "scatter"
           }
          ],
          "scatter3d": [
           {
            "line": {
             "colorbar": {
              "outlinewidth": 0,
              "ticks": ""
             }
            },
            "marker": {
             "colorbar": {
              "outlinewidth": 0,
              "ticks": ""
             }
            },
            "type": "scatter3d"
           }
          ],
          "scattercarpet": [
           {
            "marker": {
             "colorbar": {
              "outlinewidth": 0,
              "ticks": ""
             }
            },
            "type": "scattercarpet"
           }
          ],
          "scattergeo": [
           {
            "marker": {
             "colorbar": {
              "outlinewidth": 0,
              "ticks": ""
             }
            },
            "type": "scattergeo"
           }
          ],
          "scattergl": [
           {
            "marker": {
             "colorbar": {
              "outlinewidth": 0,
              "ticks": ""
             }
            },
            "type": "scattergl"
           }
          ],
          "scattermapbox": [
           {
            "marker": {
             "colorbar": {
              "outlinewidth": 0,
              "ticks": ""
             }
            },
            "type": "scattermapbox"
           }
          ],
          "scatterpolar": [
           {
            "marker": {
             "colorbar": {
              "outlinewidth": 0,
              "ticks": ""
             }
            },
            "type": "scatterpolar"
           }
          ],
          "scatterpolargl": [
           {
            "marker": {
             "colorbar": {
              "outlinewidth": 0,
              "ticks": ""
             }
            },
            "type": "scatterpolargl"
           }
          ],
          "scatterternary": [
           {
            "marker": {
             "colorbar": {
              "outlinewidth": 0,
              "ticks": ""
             }
            },
            "type": "scatterternary"
           }
          ],
          "surface": [
           {
            "colorbar": {
             "outlinewidth": 0,
             "ticks": ""
            },
            "colorscale": [
             [
              0,
              "#0d0887"
             ],
             [
              0.1111111111111111,
              "#46039f"
             ],
             [
              0.2222222222222222,
              "#7201a8"
             ],
             [
              0.3333333333333333,
              "#9c179e"
             ],
             [
              0.4444444444444444,
              "#bd3786"
             ],
             [
              0.5555555555555556,
              "#d8576b"
             ],
             [
              0.6666666666666666,
              "#ed7953"
             ],
             [
              0.7777777777777778,
              "#fb9f3a"
             ],
             [
              0.8888888888888888,
              "#fdca26"
             ],
             [
              1,
              "#f0f921"
             ]
            ],
            "type": "surface"
           }
          ],
          "table": [
           {
            "cells": {
             "fill": {
              "color": "#EBF0F8"
             },
             "line": {
              "color": "white"
             }
            },
            "header": {
             "fill": {
              "color": "#C8D4E3"
             },
             "line": {
              "color": "white"
             }
            },
            "type": "table"
           }
          ]
         },
         "layout": {
          "annotationdefaults": {
           "arrowcolor": "#2a3f5f",
           "arrowhead": 0,
           "arrowwidth": 1
          },
          "autotypenumbers": "strict",
          "coloraxis": {
           "colorbar": {
            "outlinewidth": 0,
            "ticks": ""
           }
          },
          "colorscale": {
           "diverging": [
            [
             0,
             "#8e0152"
            ],
            [
             0.1,
             "#c51b7d"
            ],
            [
             0.2,
             "#de77ae"
            ],
            [
             0.3,
             "#f1b6da"
            ],
            [
             0.4,
             "#fde0ef"
            ],
            [
             0.5,
             "#f7f7f7"
            ],
            [
             0.6,
             "#e6f5d0"
            ],
            [
             0.7,
             "#b8e186"
            ],
            [
             0.8,
             "#7fbc41"
            ],
            [
             0.9,
             "#4d9221"
            ],
            [
             1,
             "#276419"
            ]
           ],
           "sequential": [
            [
             0,
             "#0d0887"
            ],
            [
             0.1111111111111111,
             "#46039f"
            ],
            [
             0.2222222222222222,
             "#7201a8"
            ],
            [
             0.3333333333333333,
             "#9c179e"
            ],
            [
             0.4444444444444444,
             "#bd3786"
            ],
            [
             0.5555555555555556,
             "#d8576b"
            ],
            [
             0.6666666666666666,
             "#ed7953"
            ],
            [
             0.7777777777777778,
             "#fb9f3a"
            ],
            [
             0.8888888888888888,
             "#fdca26"
            ],
            [
             1,
             "#f0f921"
            ]
           ],
           "sequentialminus": [
            [
             0,
             "#0d0887"
            ],
            [
             0.1111111111111111,
             "#46039f"
            ],
            [
             0.2222222222222222,
             "#7201a8"
            ],
            [
             0.3333333333333333,
             "#9c179e"
            ],
            [
             0.4444444444444444,
             "#bd3786"
            ],
            [
             0.5555555555555556,
             "#d8576b"
            ],
            [
             0.6666666666666666,
             "#ed7953"
            ],
            [
             0.7777777777777778,
             "#fb9f3a"
            ],
            [
             0.8888888888888888,
             "#fdca26"
            ],
            [
             1,
             "#f0f921"
            ]
           ]
          },
          "colorway": [
           "#636efa",
           "#EF553B",
           "#00cc96",
           "#ab63fa",
           "#FFA15A",
           "#19d3f3",
           "#FF6692",
           "#B6E880",
           "#FF97FF",
           "#FECB52"
          ],
          "font": {
           "color": "#2a3f5f"
          },
          "geo": {
           "bgcolor": "white",
           "lakecolor": "white",
           "landcolor": "#E5ECF6",
           "showlakes": true,
           "showland": true,
           "subunitcolor": "white"
          },
          "hoverlabel": {
           "align": "left"
          },
          "hovermode": "closest",
          "mapbox": {
           "style": "light"
          },
          "paper_bgcolor": "white",
          "plot_bgcolor": "#E5ECF6",
          "polar": {
           "angularaxis": {
            "gridcolor": "white",
            "linecolor": "white",
            "ticks": ""
           },
           "bgcolor": "#E5ECF6",
           "radialaxis": {
            "gridcolor": "white",
            "linecolor": "white",
            "ticks": ""
           }
          },
          "scene": {
           "xaxis": {
            "backgroundcolor": "#E5ECF6",
            "gridcolor": "white",
            "gridwidth": 2,
            "linecolor": "white",
            "showbackground": true,
            "ticks": "",
            "zerolinecolor": "white"
           },
           "yaxis": {
            "backgroundcolor": "#E5ECF6",
            "gridcolor": "white",
            "gridwidth": 2,
            "linecolor": "white",
            "showbackground": true,
            "ticks": "",
            "zerolinecolor": "white"
           },
           "zaxis": {
            "backgroundcolor": "#E5ECF6",
            "gridcolor": "white",
            "gridwidth": 2,
            "linecolor": "white",
            "showbackground": true,
            "ticks": "",
            "zerolinecolor": "white"
           }
          },
          "shapedefaults": {
           "line": {
            "color": "#2a3f5f"
           }
          },
          "ternary": {
           "aaxis": {
            "gridcolor": "white",
            "linecolor": "white",
            "ticks": ""
           },
           "baxis": {
            "gridcolor": "white",
            "linecolor": "white",
            "ticks": ""
           },
           "bgcolor": "#E5ECF6",
           "caxis": {
            "gridcolor": "white",
            "linecolor": "white",
            "ticks": ""
           }
          },
          "title": {
           "x": 0.05
          },
          "xaxis": {
           "automargin": true,
           "gridcolor": "white",
           "linecolor": "white",
           "ticks": "",
           "title": {
            "standoff": 15
           },
           "zerolinecolor": "white",
           "zerolinewidth": 2
          },
          "yaxis": {
           "automargin": true,
           "gridcolor": "white",
           "linecolor": "white",
           "ticks": "",
           "title": {
            "standoff": 15
           },
           "zerolinecolor": "white",
           "zerolinewidth": 2
          }
         }
        },
        "xaxis": {
         "anchor": "y",
         "constrain": "domain",
         "domain": [
          0,
          1
         ],
         "scaleanchor": "y"
        },
        "yaxis": {
         "anchor": "x",
         "autorange": "reversed",
         "constrain": "domain",
         "domain": [
          0,
          1
         ]
        }
       }
      },
      "text/html": [
       "<div>                            <div id=\"2ccd7cb7-0ec6-4823-9720-2ea7d60e8ffa\" class=\"plotly-graph-div\" style=\"height:525px; width:100%;\"></div>            <script type=\"text/javascript\">                require([\"plotly\"], function(Plotly) {                    window.PLOTLYENV=window.PLOTLYENV || {};                                    if (document.getElementById(\"2ccd7cb7-0ec6-4823-9720-2ea7d60e8ffa\")) {                    Plotly.newPlot(                        \"2ccd7cb7-0ec6-4823-9720-2ea7d60e8ffa\",                        [{\"coloraxis\":\"coloraxis\",\"name\":\"0\",\"x\":[\"9600\",\"23682\",\"32643\",\"31620\",\"27268\",\"27401\",\"6413\",\"24206\",\"12943\",\"16016\",\"9488\",\"13458\",\"14612\",\"19097\",\"7578\",\"16671\",\"19112\",\"7739\",\"8125\",\"32320\",\"6594\",\"7491\",\"15947\",\"5579\",\"15356\",\"16340\",\"24925\",\"30814\",\"4448\",\"26594\",\"11618\",\"6756\",\"6629\",\"5991\",\"16490\",\"2539\",\"26987\",\"6765\",\"18416\",\"2930\",\"2931\",\"22136\",\"6780\"],\"y\":[\"en_es\",\"antonyms\",\"person_profession\",\"es_en\",\"present_simple_gerund\",\"present_simple_past_simple\",\"person_profession\",\"person_language\",\"country_capital\",\"football_player_position\"],\"z\":[[-0.0625,0.234375,0.09375,0.25,-0.625,-1.09375,0.09375,0.15625,-0.1875,-0.09375,0.359375,0.03125,0.46875,0.234375,0.5,0.125,-0.09375,-0.28125,-0.3125,0.328125,0.03125,-9.28125,-0.34375,-0.28125,0.390625,0.484375,0.25,-0.25,0.03125,-0.09375,0.421875,-0.15625,0.3125,0.15625,0.0625,0.03125,-1.75,-0.21875,-0.3125,0.1875,0.1875,0.28125,0.15625],[-0.73046875,-0.0078125,0.140625,-0.65234375,0.21484375,-0.38671875,-0.30078125,-0.51171875,0.234375,-0.16015625,-0.49609375,-0.21484375,0.0546875,-0.89453125,-0.25390625,-0.51171875,-0.26171875,-0.23046875,-0.17578125,0.3125,0.171875,-7.07421875,-0.47265625,-0.12890625,0.0546875,0.17578125,-0.12109375,-0.14453125,-0.19140625,0.296875,-0.82421875,-0.29296875,-0.29296875,0.15234375,0.34765625,0.04296875,0.22265625,-0.07421875,-0.36328125,-0.31640625,-0.37890625,-2.05859375,-0.04296875],[-0.296875,-0.21875,-0.265625,-0.890625,-0.53125,-1.4375,-0.15625,-0.53125,-0.375,-0.0625,0.25,-0.40625,0.203125,-0.046875,0.109375,-0.28125,-0.25,-0.484375,-0.96875,-0.328125,-1.34375,-5.65625,-0.015625,-0.046875,-0.015625,-0.46875,-0.265625,-0.4375,0.03125,-0.015625,-0.15625,-0.421875,-0.078125,-0.0625,-0.203125,-1.0625,0.3125,0.296875,-0.046875,-0.28125,-0.34375,-0.21875,-0.140625],[-0.484375,-0.671875,0.265625,-0.765625,-0.671875,-1.59375,-0.578125,-0.953125,-1.203125,-1.203125,-0.640625,-0.484375,-0.015625,-0.453125,-0.234375,-0.21875,-0.21875,-0.90625,-1.15625,-0.1875,-1.1875,-7.96875,-0.40625,-0.65625,-0.234375,-0.125,-0.09375,-0.46875,-0.15625,0.1875,0.125,-0.390625,-0.03125,-0.890625,-0.34375,-0.875,-0.09375,-0.328125,-0.71875,-0.5,-0.3125,-0.359375,0.03125],[0.1484375,-2.2255859375,0.017578125,0.13330078125,-2.8505859375,0.1005859375,-0.0419921875,0.0693359375,0.1435546875,0.0419921875,-0.0400390625,-0.0927734375,-0.0927734375,0.0439453125,-0.0615234375,0.09765625,0.11328125,-0.0380859375,0.15087890625,0.0361328125,-0.7294921875,-6.3505859375,-0.0478515625,-0.1044921875,-0.3037109375,0.037109375,-0.0693359375,-0.0908203125,-0.1142578125,-0.0712890625,-0.1279296875,-0.1044921875,-0.2314453125,-0.0517578125,-0.0283203125,-0.0244140625,-0.0615234375,0.0517578125,-0.1943359375,-1.2412109375,0.103515625,0.064453125,0.0869140625],[0.203125,-0.015625,0.1640625,0.0546875,-2.03125,0.31640625,0.0625,0.1484375,0.09375,0.140625,0.125,0.1015625,0.33203125,0.0,-0.015625,0.1328125,0.1171875,-0.015625,0.28515625,0.046875,-0.5546875,-6.28125,-0.1484375,0.34765625,-3.53125,0.125,0.1328125,0.0859375,0.0546875,-0.0625,0.0625,0.171875,0.1015625,0.203125,0.1640625,0.015625,0.37109375,0.1015625,0.1328125,-0.0078125,0.0625,0.1171875,0.03125],[-0.296875,-0.21875,-0.265625,-0.890625,-0.53125,-1.4375,-0.15625,-0.53125,-0.375,-0.0625,0.25,-0.40625,0.203125,-0.046875,0.109375,-0.28125,-0.25,-0.484375,-0.96875,-0.328125,-1.34375,-5.65625,-0.015625,-0.046875,-0.015625,-0.46875,-0.265625,-0.4375,0.03125,-0.015625,-0.15625,-0.421875,-0.078125,-0.0625,-0.203125,-1.0625,0.3125,0.296875,-0.046875,-0.28125,-0.34375,-0.21875,-0.140625],[-1.09375,-0.1328125,-0.03125,-0.125,-0.53125,-0.6640625,0.0546875,-0.171875,-0.7421875,-0.140625,0.359375,0.1875,0.0546875,-0.203125,-0.1015625,-0.1328125,-0.1171875,-0.15625,-0.1953125,-0.1171875,-0.2421875,-0.1875,-0.171875,-0.0390625,0.2109375,-0.71875,-0.71875,-0.078125,0.09375,-0.3125,0.25390625,-0.046875,-0.015625,-0.1328125,-0.1953125,-0.46875,0.25390625,0.0703125,0.09375,-0.40625,0.0625,-0.328125,0.1171875],[-0.109375,-3.3046875,0.2890625,-0.5234375,-0.0703125,-0.046875,-0.203125,-0.7421875,0.125,0.09375,0.046875,-0.015625,-0.1015625,0.1015625,-0.234375,-0.0078125,-0.3671875,-0.1484375,-1.0234375,0.0,0.328125,-0.140625,-0.3671875,0.1640625,0.046875,0.0,-0.1875,-0.15625,0.109375,0.15625,0.0390625,-0.0703125,0.125,0.0078125,0.0,-0.5078125,0.296875,-0.1796875,-0.046875,0.5390625,0.0234375,-0.2578125,-0.4921875],[-0.34375,-1.90625,0.4921875,-1.65625,-0.234375,-3.0,-0.578125,-2.28125,-0.953125,-1.0625,-0.203125,-0.3125,-0.453125,0.21875,-1.421875,-0.265625,-0.0625,-0.03125,-3.25,0.125,-1.421875,-5.03125,-0.3125,0.234375,-0.03125,0.046875,-1.546875,0.0625,-0.15625,0.15625,-0.203125,-0.828125,0.0,-0.828125,-0.171875,-1.390625,-0.1875,-0.46875,-0.5,-0.9375,-0.484375,0.09375,-0.59375]],\"type\":\"heatmap\",\"xaxis\":\"x\",\"yaxis\":\"y\",\"hovertemplate\":\"x: %{x}\\u003cbr\\u003ey: %{y}\\u003cbr\\u003ecolor: %{z}\\u003cextra\\u003e\\u003c\\u002fextra\\u003e\"}],                        {\"template\":{\"data\":{\"histogram2dcontour\":[{\"type\":\"histogram2dcontour\",\"colorbar\":{\"outlinewidth\":0,\"ticks\":\"\"},\"colorscale\":[[0.0,\"#0d0887\"],[0.1111111111111111,\"#46039f\"],[0.2222222222222222,\"#7201a8\"],[0.3333333333333333,\"#9c179e\"],[0.4444444444444444,\"#bd3786\"],[0.5555555555555556,\"#d8576b\"],[0.6666666666666666,\"#ed7953\"],[0.7777777777777778,\"#fb9f3a\"],[0.8888888888888888,\"#fdca26\"],[1.0,\"#f0f921\"]]}],\"choropleth\":[{\"type\":\"choropleth\",\"colorbar\":{\"outlinewidth\":0,\"ticks\":\"\"}}],\"histogram2d\":[{\"type\":\"histogram2d\",\"colorbar\":{\"outlinewidth\":0,\"ticks\":\"\"},\"colorscale\":[[0.0,\"#0d0887\"],[0.1111111111111111,\"#46039f\"],[0.2222222222222222,\"#7201a8\"],[0.3333333333333333,\"#9c179e\"],[0.4444444444444444,\"#bd3786\"],[0.5555555555555556,\"#d8576b\"],[0.6666666666666666,\"#ed7953\"],[0.7777777777777778,\"#fb9f3a\"],[0.8888888888888888,\"#fdca26\"],[1.0,\"#f0f921\"]]}],\"heatmap\":[{\"type\":\"heatmap\",\"colorbar\":{\"outlinewidth\":0,\"ticks\":\"\"},\"colorscale\":[[0.0,\"#0d0887\"],[0.1111111111111111,\"#46039f\"],[0.2222222222222222,\"#7201a8\"],[0.3333333333333333,\"#9c179e\"],[0.4444444444444444,\"#bd3786\"],[0.5555555555555556,\"#d8576b\"],[0.6666666666666666,\"#ed7953\"],[0.7777777777777778,\"#fb9f3a\"],[0.8888888888888888,\"#fdca26\"],[1.0,\"#f0f921\"]]}],\"heatmapgl\":[{\"type\":\"heatmapgl\",\"colorbar\":{\"outlinewidth\":0,\"ticks\":\"\"},\"colorscale\":[[0.0,\"#0d0887\"],[0.1111111111111111,\"#46039f\"],[0.2222222222222222,\"#7201a8\"],[0.3333333333333333,\"#9c179e\"],[0.4444444444444444,\"#bd3786\"],[0.5555555555555556,\"#d8576b\"],[0.6666666666666666,\"#ed7953\"],[0.7777777777777778,\"#fb9f3a\"],[0.8888888888888888,\"#fdca26\"],[1.0,\"#f0f921\"]]}],\"contourcarpet\":[{\"type\":\"contourcarpet\",\"colorbar\":{\"outlinewidth\":0,\"ticks\":\"\"}}],\"contour\":[{\"type\":\"contour\",\"colorbar\":{\"outlinewidth\":0,\"ticks\":\"\"},\"colorscale\":[[0.0,\"#0d0887\"],[0.1111111111111111,\"#46039f\"],[0.2222222222222222,\"#7201a8\"],[0.3333333333333333,\"#9c179e\"],[0.4444444444444444,\"#bd3786\"],[0.5555555555555556,\"#d8576b\"],[0.6666666666666666,\"#ed7953\"],[0.7777777777777778,\"#fb9f3a\"],[0.8888888888888888,\"#fdca26\"],[1.0,\"#f0f921\"]]}],\"surface\":[{\"type\":\"surface\",\"colorbar\":{\"outlinewidth\":0,\"ticks\":\"\"},\"colorscale\":[[0.0,\"#0d0887\"],[0.1111111111111111,\"#46039f\"],[0.2222222222222222,\"#7201a8\"],[0.3333333333333333,\"#9c179e\"],[0.4444444444444444,\"#bd3786\"],[0.5555555555555556,\"#d8576b\"],[0.6666666666666666,\"#ed7953\"],[0.7777777777777778,\"#fb9f3a\"],[0.8888888888888888,\"#fdca26\"],[1.0,\"#f0f921\"]]}],\"mesh3d\":[{\"type\":\"mesh3d\",\"colorbar\":{\"outlinewidth\":0,\"ticks\":\"\"}}],\"scatter\":[{\"fillpattern\":{\"fillmode\":\"overlay\",\"size\":10,\"solidity\":0.2},\"type\":\"scatter\"}],\"parcoords\":[{\"type\":\"parcoords\",\"line\":{\"colorbar\":{\"outlinewidth\":0,\"ticks\":\"\"}}}],\"scatterpolargl\":[{\"type\":\"scatterpolargl\",\"marker\":{\"colorbar\":{\"outlinewidth\":0,\"ticks\":\"\"}}}],\"bar\":[{\"error_x\":{\"color\":\"#2a3f5f\"},\"error_y\":{\"color\":\"#2a3f5f\"},\"marker\":{\"line\":{\"color\":\"#E5ECF6\",\"width\":0.5},\"pattern\":{\"fillmode\":\"overlay\",\"size\":10,\"solidity\":0.2}},\"type\":\"bar\"}],\"scattergeo\":[{\"type\":\"scattergeo\",\"marker\":{\"colorbar\":{\"outlinewidth\":0,\"ticks\":\"\"}}}],\"scatterpolar\":[{\"type\":\"scatterpolar\",\"marker\":{\"colorbar\":{\"outlinewidth\":0,\"ticks\":\"\"}}}],\"histogram\":[{\"marker\":{\"pattern\":{\"fillmode\":\"overlay\",\"size\":10,\"solidity\":0.2}},\"type\":\"histogram\"}],\"scattergl\":[{\"type\":\"scattergl\",\"marker\":{\"colorbar\":{\"outlinewidth\":0,\"ticks\":\"\"}}}],\"scatter3d\":[{\"type\":\"scatter3d\",\"line\":{\"colorbar\":{\"outlinewidth\":0,\"ticks\":\"\"}},\"marker\":{\"colorbar\":{\"outlinewidth\":0,\"ticks\":\"\"}}}],\"scattermapbox\":[{\"type\":\"scattermapbox\",\"marker\":{\"colorbar\":{\"outlinewidth\":0,\"ticks\":\"\"}}}],\"scatterternary\":[{\"type\":\"scatterternary\",\"marker\":{\"colorbar\":{\"outlinewidth\":0,\"ticks\":\"\"}}}],\"scattercarpet\":[{\"type\":\"scattercarpet\",\"marker\":{\"colorbar\":{\"outlinewidth\":0,\"ticks\":\"\"}}}],\"carpet\":[{\"aaxis\":{\"endlinecolor\":\"#2a3f5f\",\"gridcolor\":\"white\",\"linecolor\":\"white\",\"minorgridcolor\":\"white\",\"startlinecolor\":\"#2a3f5f\"},\"baxis\":{\"endlinecolor\":\"#2a3f5f\",\"gridcolor\":\"white\",\"linecolor\":\"white\",\"minorgridcolor\":\"white\",\"startlinecolor\":\"#2a3f5f\"},\"type\":\"carpet\"}],\"table\":[{\"cells\":{\"fill\":{\"color\":\"#EBF0F8\"},\"line\":{\"color\":\"white\"}},\"header\":{\"fill\":{\"color\":\"#C8D4E3\"},\"line\":{\"color\":\"white\"}},\"type\":\"table\"}],\"barpolar\":[{\"marker\":{\"line\":{\"color\":\"#E5ECF6\",\"width\":0.5},\"pattern\":{\"fillmode\":\"overlay\",\"size\":10,\"solidity\":0.2}},\"type\":\"barpolar\"}],\"pie\":[{\"automargin\":true,\"type\":\"pie\"}]},\"layout\":{\"autotypenumbers\":\"strict\",\"colorway\":[\"#636efa\",\"#EF553B\",\"#00cc96\",\"#ab63fa\",\"#FFA15A\",\"#19d3f3\",\"#FF6692\",\"#B6E880\",\"#FF97FF\",\"#FECB52\"],\"font\":{\"color\":\"#2a3f5f\"},\"hovermode\":\"closest\",\"hoverlabel\":{\"align\":\"left\"},\"paper_bgcolor\":\"white\",\"plot_bgcolor\":\"#E5ECF6\",\"polar\":{\"bgcolor\":\"#E5ECF6\",\"angularaxis\":{\"gridcolor\":\"white\",\"linecolor\":\"white\",\"ticks\":\"\"},\"radialaxis\":{\"gridcolor\":\"white\",\"linecolor\":\"white\",\"ticks\":\"\"}},\"ternary\":{\"bgcolor\":\"#E5ECF6\",\"aaxis\":{\"gridcolor\":\"white\",\"linecolor\":\"white\",\"ticks\":\"\"},\"baxis\":{\"gridcolor\":\"white\",\"linecolor\":\"white\",\"ticks\":\"\"},\"caxis\":{\"gridcolor\":\"white\",\"linecolor\":\"white\",\"ticks\":\"\"}},\"coloraxis\":{\"colorbar\":{\"outlinewidth\":0,\"ticks\":\"\"}},\"colorscale\":{\"sequential\":[[0.0,\"#0d0887\"],[0.1111111111111111,\"#46039f\"],[0.2222222222222222,\"#7201a8\"],[0.3333333333333333,\"#9c179e\"],[0.4444444444444444,\"#bd3786\"],[0.5555555555555556,\"#d8576b\"],[0.6666666666666666,\"#ed7953\"],[0.7777777777777778,\"#fb9f3a\"],[0.8888888888888888,\"#fdca26\"],[1.0,\"#f0f921\"]],\"sequentialminus\":[[0.0,\"#0d0887\"],[0.1111111111111111,\"#46039f\"],[0.2222222222222222,\"#7201a8\"],[0.3333333333333333,\"#9c179e\"],[0.4444444444444444,\"#bd3786\"],[0.5555555555555556,\"#d8576b\"],[0.6666666666666666,\"#ed7953\"],[0.7777777777777778,\"#fb9f3a\"],[0.8888888888888888,\"#fdca26\"],[1.0,\"#f0f921\"]],\"diverging\":[[0,\"#8e0152\"],[0.1,\"#c51b7d\"],[0.2,\"#de77ae\"],[0.3,\"#f1b6da\"],[0.4,\"#fde0ef\"],[0.5,\"#f7f7f7\"],[0.6,\"#e6f5d0\"],[0.7,\"#b8e186\"],[0.8,\"#7fbc41\"],[0.9,\"#4d9221\"],[1,\"#276419\"]]},\"xaxis\":{\"gridcolor\":\"white\",\"linecolor\":\"white\",\"ticks\":\"\",\"title\":{\"standoff\":15},\"zerolinecolor\":\"white\",\"automargin\":true,\"zerolinewidth\":2},\"yaxis\":{\"gridcolor\":\"white\",\"linecolor\":\"white\",\"ticks\":\"\",\"title\":{\"standoff\":15},\"zerolinecolor\":\"white\",\"automargin\":true,\"zerolinewidth\":2},\"scene\":{\"xaxis\":{\"backgroundcolor\":\"#E5ECF6\",\"gridcolor\":\"white\",\"linecolor\":\"white\",\"showbackground\":true,\"ticks\":\"\",\"zerolinecolor\":\"white\",\"gridwidth\":2},\"yaxis\":{\"backgroundcolor\":\"#E5ECF6\",\"gridcolor\":\"white\",\"linecolor\":\"white\",\"showbackground\":true,\"ticks\":\"\",\"zerolinecolor\":\"white\",\"gridwidth\":2},\"zaxis\":{\"backgroundcolor\":\"#E5ECF6\",\"gridcolor\":\"white\",\"linecolor\":\"white\",\"showbackground\":true,\"ticks\":\"\",\"zerolinecolor\":\"white\",\"gridwidth\":2}},\"shapedefaults\":{\"line\":{\"color\":\"#2a3f5f\"}},\"annotationdefaults\":{\"arrowcolor\":\"#2a3f5f\",\"arrowhead\":0,\"arrowwidth\":1},\"geo\":{\"bgcolor\":\"white\",\"landcolor\":\"#E5ECF6\",\"subunitcolor\":\"white\",\"showland\":true,\"showlakes\":true,\"lakecolor\":\"white\"},\"title\":{\"x\":0.05},\"mapbox\":{\"style\":\"light\"}}},\"xaxis\":{\"anchor\":\"y\",\"domain\":[0.0,1.0],\"scaleanchor\":\"y\",\"constrain\":\"domain\"},\"yaxis\":{\"anchor\":\"x\",\"domain\":[0.0,1.0],\"autorange\":\"reversed\",\"constrain\":\"domain\"},\"coloraxis\":{\"colorscale\":[[0.0,\"#0d0887\"],[0.1111111111111111,\"#46039f\"],[0.2222222222222222,\"#7201a8\"],[0.3333333333333333,\"#9c179e\"],[0.4444444444444444,\"#bd3786\"],[0.5555555555555556,\"#d8576b\"],[0.6666666666666666,\"#ed7953\"],[0.7777777777777778,\"#fb9f3a\"],[0.8888888888888888,\"#fdca26\"],[1.0,\"#f0f921\"]]},\"margin\":{\"t\":60}},                        {\"responsive\": true}                    ).then(function(){\n",
       "                            \n",
       "var gd = document.getElementById('2ccd7cb7-0ec6-4823-9720-2ea7d60e8ffa');\n",
       "var x = new MutationObserver(function (mutations, observer) {{\n",
       "        var display = window.getComputedStyle(gd).display;\n",
       "        if (!display || display === 'none') {{\n",
       "            console.log([gd, 'removed!']);\n",
       "            Plotly.purge(gd);\n",
       "            observer.disconnect();\n",
       "        }}\n",
       "}});\n",
       "\n",
       "// Listen for the removal of the full notebook cells\n",
       "var notebookContainer = gd.closest('#notebook-container');\n",
       "if (notebookContainer) {{\n",
       "    x.observe(notebookContainer, {childList: true});\n",
       "}}\n",
       "\n",
       "// Listen for the clearing of the current output cell\n",
       "var outputEl = gd.closest('.output');\n",
       "if (outputEl) {{\n",
       "    x.observe(outputEl, {childList: true});\n",
       "}}\n",
       "\n",
       "                        })                };                });            </script>        </div>"
      ]
     },
     "metadata": {},
     "output_type": "display_data"
    }
   ],
   "source": [
    "import plotly.express as px\n",
    "import pandas as pd\n",
    "import numpy as np\n",
    "\n",
    "for task_name, losses in task_losses.items():\n",
    "    base_loss = losses[1]\n",
    "    losses = losses[0]\n",
    "\n",
    "    task_losses[task_name][0] = [(base_loss - loss) for loss in losses]\n",
    "\n",
    "\n",
    "df = pd.DataFrame([\n",
    "    {\"task\": task_name, \"feature\": feature, \"loss\": loss}\n",
    "    for task_name, losses in task_losses.items()\n",
    "    for feature, loss in zip(features, losses[0])\n",
    "])\n",
    "\n",
    "\n",
    "\n",
    "heatmap = np.zeros((len(task_names), len(features)))\n",
    "\n",
    "for i, task_name in enumerate(task_names):\n",
    "    for j, feature in enumerate(features):\n",
    "        heatmap[i, j] = task_losses[task_name][0][j]\n",
    "\n",
    "fig = px.imshow(heatmap, x=[str(x) for x in features], y=task_names)\n",
    "\n",
    "fig.show()\n"
   ]
  },
  {
   "cell_type": "code",
   "execution_count": 77,
   "metadata": {},
   "outputs": [
    {
     "data": {
      "application/vnd.plotly.v1+json": {
       "config": {
        "plotlyServerURL": "https://plot.ly"
       },
       "data": [
        {
         "coloraxis": "coloraxis",
         "hovertemplate": "x: %{x}<br>y: %{y}<br>color: %{z}<extra></extra>",
         "name": "0",
         "type": "heatmap",
         "x": [
          "9600",
          "23682",
          "32643",
          "31620",
          "27268",
          "27401",
          "6413",
          "24206",
          "12943",
          "16016",
          "9488",
          "13458",
          "14612",
          "19097",
          "7578",
          "16671",
          "19112",
          "7739",
          "8125",
          "32320",
          "6594",
          "7491",
          "15947",
          "5579",
          "15356",
          "16340",
          "24925",
          "30814",
          "4448",
          "26594",
          "11618",
          "6756",
          "6629",
          "5991",
          "16490",
          "2539",
          "26987",
          "6765",
          "18416",
          "2930",
          "2931",
          "22136",
          "6780"
         ],
         "xaxis": "x",
         "y": [
          "en_es",
          "antonyms",
          "person_profession",
          "es_en",
          "present_simple_gerund",
          "present_simple_past_simple",
          "person_profession",
          "person_language",
          "country_capital",
          "football_player_position"
         ],
         "yaxis": "y",
         "z": [
          [
           -5.65625,
           -15.90625,
           -2.84375,
           -7.21875,
           -9.09375,
           -10.03125,
           -1.96875,
           -2.84375,
           -7.78125,
           -5.90625,
           -8.78125,
           -3.40625,
           -6.84375,
           -3.3125,
           -2.28125,
           -6.03125,
           -14.15625,
           -7.40625,
           -5.28125,
           -4.46875,
           -12.78125,
           -11.90625,
           -1.46875,
           -8.03125,
           -3.1875,
           -2.65625,
           -4.21875,
           -4.21875,
           -1.28125,
           -4.84375,
           -6.40625,
           -1.375,
           -5.40625,
           -15.15625,
           -2.8125,
           -6.84375,
           -15.78125,
           -0.84375,
           -4.28125,
           -4.96875,
           -0.5625,
           -4.59375,
           -5.34375
          ],
          [
           -11.44921875,
           -15.13671875,
           0.05078125,
           -10.13671875,
           -4.44921875,
           -6.51171875,
           -4.44921875,
           -5.01171875,
           -6.38671875,
           -8.26171875,
           -9.76171875,
           -2.44921875,
           -4.98046875,
           -9.94921875,
           -5.98046875,
           -8.76171875,
           -11.94921875,
           -9.51171875,
           -8.26171875,
           -4.04296875,
           -13.88671875,
           -10.07421875,
           -1.21484375,
           -6.32421875,
           -3.16796875,
           -1.08984375,
           -1.82421875,
           -3.10546875,
           -3.01171875,
           -5.88671875,
           -10.82421875,
           -4.13671875,
           -3.29296875,
           -7.94921875,
           -2.76171875,
           -6.32421875,
           -7.69921875,
           -1.49609375,
           -2.60546875,
           -6.91796875,
           -3.63671875,
           -12.19921875,
           -4.69921875
          ],
          [
           -8.09375,
           -5.46875,
           -0.84375,
           -8.09375,
           -6.34375,
           -15.53125,
           -6.65625,
           -6.40625,
           -4.5625,
           -5.90625,
           -13.03125,
           -10.65625,
           -2.1875,
           -7.53125,
           -4.96875,
           -14.40625,
           -8.03125,
           -4.375,
           -4.1875,
           -5.15625,
           -13.40625,
           -14.53125,
           -5.84375,
           -4.3125,
           -2.75,
           -1.28125,
           -5.46875,
           -7.84375,
           -2.65625,
           -6.84375,
           -2.9375,
           -5.03125,
           -4.40625,
           -5.84375,
           -2.625,
           -9.59375,
           -5.96875,
           -1.875,
           -10.21875,
           -3.375,
           -0.9375,
           -1.625,
           -7.21875
          ],
          [
           -6.90625,
           -13.90625,
           -1.4375,
           -5.84375,
           -9.28125,
           -12.03125,
           -2.46875,
           -5.46875,
           -7.78125,
           -9.40625,
           -10.09375,
           -5.15625,
           -5.71875,
           -3.75,
           -2.8125,
           -10.46875,
           -10.46875,
           -7.40625,
           -8.03125,
           -2,
           -13.03125,
           -10.78125,
           -2.25,
           -8.34375,
           -5.15625,
           -1.9375,
           -2.8125,
           -4,
           -2.65625,
           -8.03125,
           -4.75,
           -4.21875,
           -7.65625,
           -12.09375,
           -4.40625,
           -11.09375,
           -7.84375,
           -1.5,
           -6.09375,
           -8.78125,
           -2.5,
           -5.0625,
           -5.96875
          ],
          [
           -5.1005859375,
           -18.6318359375,
           -1.5068359375,
           -5.8818359375,
           -13.8818359375,
           -10.0068359375,
           -1.0615234375,
           -2.7255859375,
           -2.1787109375,
           -5.4443359375,
           -12.5068359375,
           -1.6083984375,
           -9.8818359375,
           -2.9599609375,
           -3.3818359375,
           -8.6943359375,
           -10.6318359375,
           -7.4130859375,
           -7.3818359375,
           -4.8505859375,
           -12.8818359375,
           -8.0693359375,
           -0.1298828125,
           -9.5693359375,
           -11.0068359375,
           -1.9287109375,
           -3.9130859375,
           -4.4443359375,
           -2.7255859375,
           -5.5068359375,
           -4.1005859375,
           -1.0068359375,
           -7.7255859375,
           -14.3818359375,
           -3.4287109375,
           -9.1943359375,
           -8.6318359375,
           -0.1396484375,
           -2.8037109375,
           -9.7568359375,
           -3.7255859375,
           -5.7255859375,
           -7.4130859375
          ],
          [
           -5.59375,
           -16.03125,
           -0.796875,
           -3.4375,
           -11.78125,
           -9.90625,
           -1.609375,
           -1.78125,
           -2.6875,
           -3.875,
           -9.40625,
           -1.25,
           -9.15625,
           -3.0625,
           -2.015625,
           -7.15625,
           -9.15625,
           -6.96875,
           -4.75,
           -2.3125,
           -14.90625,
           -6.90625,
           0.0625,
           -6.15625,
           -10.46875,
           -0.2109375,
           -3,
           -3.5,
           -2.84375,
           -4.1875,
           -2.34375,
           -2.28125,
           -5.84375,
           -15.90625,
           -2.671875,
           -11.21875,
           -7.96875,
           -0.15625,
           -2.484375,
           -9.21875,
           -6.125,
           -4.46875,
           -8.84375
          ],
          [
           -8.09375,
           -5.46875,
           -0.84375,
           -8.09375,
           -6.34375,
           -15.53125,
           -6.65625,
           -6.40625,
           -4.5625,
           -5.90625,
           -13.03125,
           -10.65625,
           -2.1875,
           -7.53125,
           -4.96875,
           -14.40625,
           -8.03125,
           -4.375,
           -4.1875,
           -5.15625,
           -13.40625,
           -14.53125,
           -5.84375,
           -4.3125,
           -2.75,
           -1.28125,
           -5.46875,
           -7.84375,
           -2.65625,
           -6.84375,
           -2.9375,
           -5.03125,
           -4.40625,
           -5.84375,
           -2.625,
           -9.59375,
           -5.96875,
           -1.875,
           -10.21875,
           -3.375,
           -0.9375,
           -1.625,
           -7.21875
          ],
          [
           -6.515625,
           -7.453125,
           -0.484375,
           -5.203125,
           -7.453125,
           -11.203125,
           -0.375,
           -3.328125,
           -4.203125,
           -1.984375,
           -7.078125,
           -1.078125,
           -4.703125,
           -2.859375,
           -5.796875,
           -2.171875,
           -12.640625,
           -5.171875,
           -2.578125,
           -3.828125,
           -9.578125,
           -6.015625,
           -1.328125,
           -5.984375,
           -1.1875,
           -2.6875,
           -11.140625,
           -1.5625,
           -0.765625,
           -4.953125,
           -4.234375,
           -3.328125,
           -3.640625,
           -5.796875,
           -1.484375,
           -10.765625,
           -4.796875,
           -0.65625,
           -4.890625,
           -9.703125,
           -2.40625,
           -2.046875,
           -4.546875
          ],
          [
           -1.2421875,
           -13.9921875,
           -2.0234375,
           -5.9296875,
           -6.8046875,
           -5.3671875,
           -3.0234375,
           -4.7734375,
           -1.9140625,
           -6.8046875,
           -9.0546875,
           -5.1796875,
           -8.6171875,
           -1.4609375,
           -7.8046875,
           -3.8984375,
           -10.9296875,
           -4.3984375,
           -7.4921875,
           -2.1796875,
           -3.8359375,
           -7.0546875,
           -1.1484375,
           -4.9921875,
           -2.3984375,
           -2.3203125,
           -8.6796875,
           -6.1484375,
           -2.3359375,
           -6.4296875,
           -5.0859375,
           -3.0546875,
           -1.7109375,
           -8.1171875,
           -2.2109375,
           -11.3671875,
           -6.9296875,
           -1.5078125,
           -3.1484375,
           -7.1796875,
           -1.4609375,
           -4.3984375,
           -10.9296875
          ],
          [
           -9.625,
           -8.5625,
           -1.3125,
           -7.5625,
           -6.6875,
           -14.6875,
           -8.6875,
           -6.5625,
           -5.5625,
           -7.9375,
           -11.75,
           -6.875,
           -6.5625,
           -5.875,
           -6.1875,
           -14.5625,
           -9.9375,
           -5.28125,
           -7.5,
           -7.0625,
           -16.9375,
           -14.5625,
           -6.25,
           -4.96875,
           -6.125,
           -3.46875,
           -7.25,
           -8.3125,
           -8,
           -7.625,
           -3.75,
           -7.4375,
           -2.875,
           -7.9375,
           -5.53125,
           -7.25,
           -7.9375,
           -2.5,
           -11.1875,
           -7.0625,
           -3.03125,
           -3.71875,
           -6.5625
          ]
         ]
        }
       ],
       "layout": {
        "coloraxis": {
         "colorscale": [
          [
           0,
           "#0d0887"
          ],
          [
           0.1111111111111111,
           "#46039f"
          ],
          [
           0.2222222222222222,
           "#7201a8"
          ],
          [
           0.3333333333333333,
           "#9c179e"
          ],
          [
           0.4444444444444444,
           "#bd3786"
          ],
          [
           0.5555555555555556,
           "#d8576b"
          ],
          [
           0.6666666666666666,
           "#ed7953"
          ],
          [
           0.7777777777777778,
           "#fb9f3a"
          ],
          [
           0.8888888888888888,
           "#fdca26"
          ],
          [
           1,
           "#f0f921"
          ]
         ]
        },
        "margin": {
         "t": 60
        },
        "template": {
         "data": {
          "bar": [
           {
            "error_x": {
             "color": "#2a3f5f"
            },
            "error_y": {
             "color": "#2a3f5f"
            },
            "marker": {
             "line": {
              "color": "#E5ECF6",
              "width": 0.5
             },
             "pattern": {
              "fillmode": "overlay",
              "size": 10,
              "solidity": 0.2
             }
            },
            "type": "bar"
           }
          ],
          "barpolar": [
           {
            "marker": {
             "line": {
              "color": "#E5ECF6",
              "width": 0.5
             },
             "pattern": {
              "fillmode": "overlay",
              "size": 10,
              "solidity": 0.2
             }
            },
            "type": "barpolar"
           }
          ],
          "carpet": [
           {
            "aaxis": {
             "endlinecolor": "#2a3f5f",
             "gridcolor": "white",
             "linecolor": "white",
             "minorgridcolor": "white",
             "startlinecolor": "#2a3f5f"
            },
            "baxis": {
             "endlinecolor": "#2a3f5f",
             "gridcolor": "white",
             "linecolor": "white",
             "minorgridcolor": "white",
             "startlinecolor": "#2a3f5f"
            },
            "type": "carpet"
           }
          ],
          "choropleth": [
           {
            "colorbar": {
             "outlinewidth": 0,
             "ticks": ""
            },
            "type": "choropleth"
           }
          ],
          "contour": [
           {
            "colorbar": {
             "outlinewidth": 0,
             "ticks": ""
            },
            "colorscale": [
             [
              0,
              "#0d0887"
             ],
             [
              0.1111111111111111,
              "#46039f"
             ],
             [
              0.2222222222222222,
              "#7201a8"
             ],
             [
              0.3333333333333333,
              "#9c179e"
             ],
             [
              0.4444444444444444,
              "#bd3786"
             ],
             [
              0.5555555555555556,
              "#d8576b"
             ],
             [
              0.6666666666666666,
              "#ed7953"
             ],
             [
              0.7777777777777778,
              "#fb9f3a"
             ],
             [
              0.8888888888888888,
              "#fdca26"
             ],
             [
              1,
              "#f0f921"
             ]
            ],
            "type": "contour"
           }
          ],
          "contourcarpet": [
           {
            "colorbar": {
             "outlinewidth": 0,
             "ticks": ""
            },
            "type": "contourcarpet"
           }
          ],
          "heatmap": [
           {
            "colorbar": {
             "outlinewidth": 0,
             "ticks": ""
            },
            "colorscale": [
             [
              0,
              "#0d0887"
             ],
             [
              0.1111111111111111,
              "#46039f"
             ],
             [
              0.2222222222222222,
              "#7201a8"
             ],
             [
              0.3333333333333333,
              "#9c179e"
             ],
             [
              0.4444444444444444,
              "#bd3786"
             ],
             [
              0.5555555555555556,
              "#d8576b"
             ],
             [
              0.6666666666666666,
              "#ed7953"
             ],
             [
              0.7777777777777778,
              "#fb9f3a"
             ],
             [
              0.8888888888888888,
              "#fdca26"
             ],
             [
              1,
              "#f0f921"
             ]
            ],
            "type": "heatmap"
           }
          ],
          "heatmapgl": [
           {
            "colorbar": {
             "outlinewidth": 0,
             "ticks": ""
            },
            "colorscale": [
             [
              0,
              "#0d0887"
             ],
             [
              0.1111111111111111,
              "#46039f"
             ],
             [
              0.2222222222222222,
              "#7201a8"
             ],
             [
              0.3333333333333333,
              "#9c179e"
             ],
             [
              0.4444444444444444,
              "#bd3786"
             ],
             [
              0.5555555555555556,
              "#d8576b"
             ],
             [
              0.6666666666666666,
              "#ed7953"
             ],
             [
              0.7777777777777778,
              "#fb9f3a"
             ],
             [
              0.8888888888888888,
              "#fdca26"
             ],
             [
              1,
              "#f0f921"
             ]
            ],
            "type": "heatmapgl"
           }
          ],
          "histogram": [
           {
            "marker": {
             "pattern": {
              "fillmode": "overlay",
              "size": 10,
              "solidity": 0.2
             }
            },
            "type": "histogram"
           }
          ],
          "histogram2d": [
           {
            "colorbar": {
             "outlinewidth": 0,
             "ticks": ""
            },
            "colorscale": [
             [
              0,
              "#0d0887"
             ],
             [
              0.1111111111111111,
              "#46039f"
             ],
             [
              0.2222222222222222,
              "#7201a8"
             ],
             [
              0.3333333333333333,
              "#9c179e"
             ],
             [
              0.4444444444444444,
              "#bd3786"
             ],
             [
              0.5555555555555556,
              "#d8576b"
             ],
             [
              0.6666666666666666,
              "#ed7953"
             ],
             [
              0.7777777777777778,
              "#fb9f3a"
             ],
             [
              0.8888888888888888,
              "#fdca26"
             ],
             [
              1,
              "#f0f921"
             ]
            ],
            "type": "histogram2d"
           }
          ],
          "histogram2dcontour": [
           {
            "colorbar": {
             "outlinewidth": 0,
             "ticks": ""
            },
            "colorscale": [
             [
              0,
              "#0d0887"
             ],
             [
              0.1111111111111111,
              "#46039f"
             ],
             [
              0.2222222222222222,
              "#7201a8"
             ],
             [
              0.3333333333333333,
              "#9c179e"
             ],
             [
              0.4444444444444444,
              "#bd3786"
             ],
             [
              0.5555555555555556,
              "#d8576b"
             ],
             [
              0.6666666666666666,
              "#ed7953"
             ],
             [
              0.7777777777777778,
              "#fb9f3a"
             ],
             [
              0.8888888888888888,
              "#fdca26"
             ],
             [
              1,
              "#f0f921"
             ]
            ],
            "type": "histogram2dcontour"
           }
          ],
          "mesh3d": [
           {
            "colorbar": {
             "outlinewidth": 0,
             "ticks": ""
            },
            "type": "mesh3d"
           }
          ],
          "parcoords": [
           {
            "line": {
             "colorbar": {
              "outlinewidth": 0,
              "ticks": ""
             }
            },
            "type": "parcoords"
           }
          ],
          "pie": [
           {
            "automargin": true,
            "type": "pie"
           }
          ],
          "scatter": [
           {
            "fillpattern": {
             "fillmode": "overlay",
             "size": 10,
             "solidity": 0.2
            },
            "type": "scatter"
           }
          ],
          "scatter3d": [
           {
            "line": {
             "colorbar": {
              "outlinewidth": 0,
              "ticks": ""
             }
            },
            "marker": {
             "colorbar": {
              "outlinewidth": 0,
              "ticks": ""
             }
            },
            "type": "scatter3d"
           }
          ],
          "scattercarpet": [
           {
            "marker": {
             "colorbar": {
              "outlinewidth": 0,
              "ticks": ""
             }
            },
            "type": "scattercarpet"
           }
          ],
          "scattergeo": [
           {
            "marker": {
             "colorbar": {
              "outlinewidth": 0,
              "ticks": ""
             }
            },
            "type": "scattergeo"
           }
          ],
          "scattergl": [
           {
            "marker": {
             "colorbar": {
              "outlinewidth": 0,
              "ticks": ""
             }
            },
            "type": "scattergl"
           }
          ],
          "scattermapbox": [
           {
            "marker": {
             "colorbar": {
              "outlinewidth": 0,
              "ticks": ""
             }
            },
            "type": "scattermapbox"
           }
          ],
          "scatterpolar": [
           {
            "marker": {
             "colorbar": {
              "outlinewidth": 0,
              "ticks": ""
             }
            },
            "type": "scatterpolar"
           }
          ],
          "scatterpolargl": [
           {
            "marker": {
             "colorbar": {
              "outlinewidth": 0,
              "ticks": ""
             }
            },
            "type": "scatterpolargl"
           }
          ],
          "scatterternary": [
           {
            "marker": {
             "colorbar": {
              "outlinewidth": 0,
              "ticks": ""
             }
            },
            "type": "scatterternary"
           }
          ],
          "surface": [
           {
            "colorbar": {
             "outlinewidth": 0,
             "ticks": ""
            },
            "colorscale": [
             [
              0,
              "#0d0887"
             ],
             [
              0.1111111111111111,
              "#46039f"
             ],
             [
              0.2222222222222222,
              "#7201a8"
             ],
             [
              0.3333333333333333,
              "#9c179e"
             ],
             [
              0.4444444444444444,
              "#bd3786"
             ],
             [
              0.5555555555555556,
              "#d8576b"
             ],
             [
              0.6666666666666666,
              "#ed7953"
             ],
             [
              0.7777777777777778,
              "#fb9f3a"
             ],
             [
              0.8888888888888888,
              "#fdca26"
             ],
             [
              1,
              "#f0f921"
             ]
            ],
            "type": "surface"
           }
          ],
          "table": [
           {
            "cells": {
             "fill": {
              "color": "#EBF0F8"
             },
             "line": {
              "color": "white"
             }
            },
            "header": {
             "fill": {
              "color": "#C8D4E3"
             },
             "line": {
              "color": "white"
             }
            },
            "type": "table"
           }
          ]
         },
         "layout": {
          "annotationdefaults": {
           "arrowcolor": "#2a3f5f",
           "arrowhead": 0,
           "arrowwidth": 1
          },
          "autotypenumbers": "strict",
          "coloraxis": {
           "colorbar": {
            "outlinewidth": 0,
            "ticks": ""
           }
          },
          "colorscale": {
           "diverging": [
            [
             0,
             "#8e0152"
            ],
            [
             0.1,
             "#c51b7d"
            ],
            [
             0.2,
             "#de77ae"
            ],
            [
             0.3,
             "#f1b6da"
            ],
            [
             0.4,
             "#fde0ef"
            ],
            [
             0.5,
             "#f7f7f7"
            ],
            [
             0.6,
             "#e6f5d0"
            ],
            [
             0.7,
             "#b8e186"
            ],
            [
             0.8,
             "#7fbc41"
            ],
            [
             0.9,
             "#4d9221"
            ],
            [
             1,
             "#276419"
            ]
           ],
           "sequential": [
            [
             0,
             "#0d0887"
            ],
            [
             0.1111111111111111,
             "#46039f"
            ],
            [
             0.2222222222222222,
             "#7201a8"
            ],
            [
             0.3333333333333333,
             "#9c179e"
            ],
            [
             0.4444444444444444,
             "#bd3786"
            ],
            [
             0.5555555555555556,
             "#d8576b"
            ],
            [
             0.6666666666666666,
             "#ed7953"
            ],
            [
             0.7777777777777778,
             "#fb9f3a"
            ],
            [
             0.8888888888888888,
             "#fdca26"
            ],
            [
             1,
             "#f0f921"
            ]
           ],
           "sequentialminus": [
            [
             0,
             "#0d0887"
            ],
            [
             0.1111111111111111,
             "#46039f"
            ],
            [
             0.2222222222222222,
             "#7201a8"
            ],
            [
             0.3333333333333333,
             "#9c179e"
            ],
            [
             0.4444444444444444,
             "#bd3786"
            ],
            [
             0.5555555555555556,
             "#d8576b"
            ],
            [
             0.6666666666666666,
             "#ed7953"
            ],
            [
             0.7777777777777778,
             "#fb9f3a"
            ],
            [
             0.8888888888888888,
             "#fdca26"
            ],
            [
             1,
             "#f0f921"
            ]
           ]
          },
          "colorway": [
           "#636efa",
           "#EF553B",
           "#00cc96",
           "#ab63fa",
           "#FFA15A",
           "#19d3f3",
           "#FF6692",
           "#B6E880",
           "#FF97FF",
           "#FECB52"
          ],
          "font": {
           "color": "#2a3f5f"
          },
          "geo": {
           "bgcolor": "white",
           "lakecolor": "white",
           "landcolor": "#E5ECF6",
           "showlakes": true,
           "showland": true,
           "subunitcolor": "white"
          },
          "hoverlabel": {
           "align": "left"
          },
          "hovermode": "closest",
          "mapbox": {
           "style": "light"
          },
          "paper_bgcolor": "white",
          "plot_bgcolor": "#E5ECF6",
          "polar": {
           "angularaxis": {
            "gridcolor": "white",
            "linecolor": "white",
            "ticks": ""
           },
           "bgcolor": "#E5ECF6",
           "radialaxis": {
            "gridcolor": "white",
            "linecolor": "white",
            "ticks": ""
           }
          },
          "scene": {
           "xaxis": {
            "backgroundcolor": "#E5ECF6",
            "gridcolor": "white",
            "gridwidth": 2,
            "linecolor": "white",
            "showbackground": true,
            "ticks": "",
            "zerolinecolor": "white"
           },
           "yaxis": {
            "backgroundcolor": "#E5ECF6",
            "gridcolor": "white",
            "gridwidth": 2,
            "linecolor": "white",
            "showbackground": true,
            "ticks": "",
            "zerolinecolor": "white"
           },
           "zaxis": {
            "backgroundcolor": "#E5ECF6",
            "gridcolor": "white",
            "gridwidth": 2,
            "linecolor": "white",
            "showbackground": true,
            "ticks": "",
            "zerolinecolor": "white"
           }
          },
          "shapedefaults": {
           "line": {
            "color": "#2a3f5f"
           }
          },
          "ternary": {
           "aaxis": {
            "gridcolor": "white",
            "linecolor": "white",
            "ticks": ""
           },
           "baxis": {
            "gridcolor": "white",
            "linecolor": "white",
            "ticks": ""
           },
           "bgcolor": "#E5ECF6",
           "caxis": {
            "gridcolor": "white",
            "linecolor": "white",
            "ticks": ""
           }
          },
          "title": {
           "x": 0.05
          },
          "xaxis": {
           "automargin": true,
           "gridcolor": "white",
           "linecolor": "white",
           "ticks": "",
           "title": {
            "standoff": 15
           },
           "zerolinecolor": "white",
           "zerolinewidth": 2
          },
          "yaxis": {
           "automargin": true,
           "gridcolor": "white",
           "linecolor": "white",
           "ticks": "",
           "title": {
            "standoff": 15
           },
           "zerolinecolor": "white",
           "zerolinewidth": 2
          }
         }
        },
        "xaxis": {
         "anchor": "y",
         "constrain": "domain",
         "domain": [
          0,
          1
         ],
         "scaleanchor": "y"
        },
        "yaxis": {
         "anchor": "x",
         "autorange": "reversed",
         "constrain": "domain",
         "domain": [
          0,
          1
         ]
        }
       }
      },
      "text/html": [
       "<div>                            <div id=\"9f5142e7-e716-491e-a210-f6deb76e450f\" class=\"plotly-graph-div\" style=\"height:525px; width:100%;\"></div>            <script type=\"text/javascript\">                require([\"plotly\"], function(Plotly) {                    window.PLOTLYENV=window.PLOTLYENV || {};                                    if (document.getElementById(\"9f5142e7-e716-491e-a210-f6deb76e450f\")) {                    Plotly.newPlot(                        \"9f5142e7-e716-491e-a210-f6deb76e450f\",                        [{\"coloraxis\":\"coloraxis\",\"name\":\"0\",\"x\":[\"9600\",\"23682\",\"32643\",\"31620\",\"27268\",\"27401\",\"6413\",\"24206\",\"12943\",\"16016\",\"9488\",\"13458\",\"14612\",\"19097\",\"7578\",\"16671\",\"19112\",\"7739\",\"8125\",\"32320\",\"6594\",\"7491\",\"15947\",\"5579\",\"15356\",\"16340\",\"24925\",\"30814\",\"4448\",\"26594\",\"11618\",\"6756\",\"6629\",\"5991\",\"16490\",\"2539\",\"26987\",\"6765\",\"18416\",\"2930\",\"2931\",\"22136\",\"6780\"],\"y\":[\"en_es\",\"antonyms\",\"person_profession\",\"es_en\",\"present_simple_gerund\",\"present_simple_past_simple\",\"person_profession\",\"person_language\",\"country_capital\",\"football_player_position\"],\"z\":[[-5.65625,-15.90625,-2.84375,-7.21875,-9.09375,-10.03125,-1.96875,-2.84375,-7.78125,-5.90625,-8.78125,-3.40625,-6.84375,-3.3125,-2.28125,-6.03125,-14.15625,-7.40625,-5.28125,-4.46875,-12.78125,-11.90625,-1.46875,-8.03125,-3.1875,-2.65625,-4.21875,-4.21875,-1.28125,-4.84375,-6.40625,-1.375,-5.40625,-15.15625,-2.8125,-6.84375,-15.78125,-0.84375,-4.28125,-4.96875,-0.5625,-4.59375,-5.34375],[-11.44921875,-15.13671875,0.05078125,-10.13671875,-4.44921875,-6.51171875,-4.44921875,-5.01171875,-6.38671875,-8.26171875,-9.76171875,-2.44921875,-4.98046875,-9.94921875,-5.98046875,-8.76171875,-11.94921875,-9.51171875,-8.26171875,-4.04296875,-13.88671875,-10.07421875,-1.21484375,-6.32421875,-3.16796875,-1.08984375,-1.82421875,-3.10546875,-3.01171875,-5.88671875,-10.82421875,-4.13671875,-3.29296875,-7.94921875,-2.76171875,-6.32421875,-7.69921875,-1.49609375,-2.60546875,-6.91796875,-3.63671875,-12.19921875,-4.69921875],[-8.09375,-5.46875,-0.84375,-8.09375,-6.34375,-15.53125,-6.65625,-6.40625,-4.5625,-5.90625,-13.03125,-10.65625,-2.1875,-7.53125,-4.96875,-14.40625,-8.03125,-4.375,-4.1875,-5.15625,-13.40625,-14.53125,-5.84375,-4.3125,-2.75,-1.28125,-5.46875,-7.84375,-2.65625,-6.84375,-2.9375,-5.03125,-4.40625,-5.84375,-2.625,-9.59375,-5.96875,-1.875,-10.21875,-3.375,-0.9375,-1.625,-7.21875],[-6.90625,-13.90625,-1.4375,-5.84375,-9.28125,-12.03125,-2.46875,-5.46875,-7.78125,-9.40625,-10.09375,-5.15625,-5.71875,-3.75,-2.8125,-10.46875,-10.46875,-7.40625,-8.03125,-2.0,-13.03125,-10.78125,-2.25,-8.34375,-5.15625,-1.9375,-2.8125,-4.0,-2.65625,-8.03125,-4.75,-4.21875,-7.65625,-12.09375,-4.40625,-11.09375,-7.84375,-1.5,-6.09375,-8.78125,-2.5,-5.0625,-5.96875],[-5.1005859375,-18.6318359375,-1.5068359375,-5.8818359375,-13.8818359375,-10.0068359375,-1.0615234375,-2.7255859375,-2.1787109375,-5.4443359375,-12.5068359375,-1.6083984375,-9.8818359375,-2.9599609375,-3.3818359375,-8.6943359375,-10.6318359375,-7.4130859375,-7.3818359375,-4.8505859375,-12.8818359375,-8.0693359375,-0.1298828125,-9.5693359375,-11.0068359375,-1.9287109375,-3.9130859375,-4.4443359375,-2.7255859375,-5.5068359375,-4.1005859375,-1.0068359375,-7.7255859375,-14.3818359375,-3.4287109375,-9.1943359375,-8.6318359375,-0.1396484375,-2.8037109375,-9.7568359375,-3.7255859375,-5.7255859375,-7.4130859375],[-5.59375,-16.03125,-0.796875,-3.4375,-11.78125,-9.90625,-1.609375,-1.78125,-2.6875,-3.875,-9.40625,-1.25,-9.15625,-3.0625,-2.015625,-7.15625,-9.15625,-6.96875,-4.75,-2.3125,-14.90625,-6.90625,0.0625,-6.15625,-10.46875,-0.2109375,-3.0,-3.5,-2.84375,-4.1875,-2.34375,-2.28125,-5.84375,-15.90625,-2.671875,-11.21875,-7.96875,-0.15625,-2.484375,-9.21875,-6.125,-4.46875,-8.84375],[-8.09375,-5.46875,-0.84375,-8.09375,-6.34375,-15.53125,-6.65625,-6.40625,-4.5625,-5.90625,-13.03125,-10.65625,-2.1875,-7.53125,-4.96875,-14.40625,-8.03125,-4.375,-4.1875,-5.15625,-13.40625,-14.53125,-5.84375,-4.3125,-2.75,-1.28125,-5.46875,-7.84375,-2.65625,-6.84375,-2.9375,-5.03125,-4.40625,-5.84375,-2.625,-9.59375,-5.96875,-1.875,-10.21875,-3.375,-0.9375,-1.625,-7.21875],[-6.515625,-7.453125,-0.484375,-5.203125,-7.453125,-11.203125,-0.375,-3.328125,-4.203125,-1.984375,-7.078125,-1.078125,-4.703125,-2.859375,-5.796875,-2.171875,-12.640625,-5.171875,-2.578125,-3.828125,-9.578125,-6.015625,-1.328125,-5.984375,-1.1875,-2.6875,-11.140625,-1.5625,-0.765625,-4.953125,-4.234375,-3.328125,-3.640625,-5.796875,-1.484375,-10.765625,-4.796875,-0.65625,-4.890625,-9.703125,-2.40625,-2.046875,-4.546875],[-1.2421875,-13.9921875,-2.0234375,-5.9296875,-6.8046875,-5.3671875,-3.0234375,-4.7734375,-1.9140625,-6.8046875,-9.0546875,-5.1796875,-8.6171875,-1.4609375,-7.8046875,-3.8984375,-10.9296875,-4.3984375,-7.4921875,-2.1796875,-3.8359375,-7.0546875,-1.1484375,-4.9921875,-2.3984375,-2.3203125,-8.6796875,-6.1484375,-2.3359375,-6.4296875,-5.0859375,-3.0546875,-1.7109375,-8.1171875,-2.2109375,-11.3671875,-6.9296875,-1.5078125,-3.1484375,-7.1796875,-1.4609375,-4.3984375,-10.9296875],[-9.625,-8.5625,-1.3125,-7.5625,-6.6875,-14.6875,-8.6875,-6.5625,-5.5625,-7.9375,-11.75,-6.875,-6.5625,-5.875,-6.1875,-14.5625,-9.9375,-5.28125,-7.5,-7.0625,-16.9375,-14.5625,-6.25,-4.96875,-6.125,-3.46875,-7.25,-8.3125,-8.0,-7.625,-3.75,-7.4375,-2.875,-7.9375,-5.53125,-7.25,-7.9375,-2.5,-11.1875,-7.0625,-3.03125,-3.71875,-6.5625]],\"type\":\"heatmap\",\"xaxis\":\"x\",\"yaxis\":\"y\",\"hovertemplate\":\"x: %{x}\\u003cbr\\u003ey: %{y}\\u003cbr\\u003ecolor: %{z}\\u003cextra\\u003e\\u003c\\u002fextra\\u003e\"}],                        {\"template\":{\"data\":{\"histogram2dcontour\":[{\"type\":\"histogram2dcontour\",\"colorbar\":{\"outlinewidth\":0,\"ticks\":\"\"},\"colorscale\":[[0.0,\"#0d0887\"],[0.1111111111111111,\"#46039f\"],[0.2222222222222222,\"#7201a8\"],[0.3333333333333333,\"#9c179e\"],[0.4444444444444444,\"#bd3786\"],[0.5555555555555556,\"#d8576b\"],[0.6666666666666666,\"#ed7953\"],[0.7777777777777778,\"#fb9f3a\"],[0.8888888888888888,\"#fdca26\"],[1.0,\"#f0f921\"]]}],\"choropleth\":[{\"type\":\"choropleth\",\"colorbar\":{\"outlinewidth\":0,\"ticks\":\"\"}}],\"histogram2d\":[{\"type\":\"histogram2d\",\"colorbar\":{\"outlinewidth\":0,\"ticks\":\"\"},\"colorscale\":[[0.0,\"#0d0887\"],[0.1111111111111111,\"#46039f\"],[0.2222222222222222,\"#7201a8\"],[0.3333333333333333,\"#9c179e\"],[0.4444444444444444,\"#bd3786\"],[0.5555555555555556,\"#d8576b\"],[0.6666666666666666,\"#ed7953\"],[0.7777777777777778,\"#fb9f3a\"],[0.8888888888888888,\"#fdca26\"],[1.0,\"#f0f921\"]]}],\"heatmap\":[{\"type\":\"heatmap\",\"colorbar\":{\"outlinewidth\":0,\"ticks\":\"\"},\"colorscale\":[[0.0,\"#0d0887\"],[0.1111111111111111,\"#46039f\"],[0.2222222222222222,\"#7201a8\"],[0.3333333333333333,\"#9c179e\"],[0.4444444444444444,\"#bd3786\"],[0.5555555555555556,\"#d8576b\"],[0.6666666666666666,\"#ed7953\"],[0.7777777777777778,\"#fb9f3a\"],[0.8888888888888888,\"#fdca26\"],[1.0,\"#f0f921\"]]}],\"heatmapgl\":[{\"type\":\"heatmapgl\",\"colorbar\":{\"outlinewidth\":0,\"ticks\":\"\"},\"colorscale\":[[0.0,\"#0d0887\"],[0.1111111111111111,\"#46039f\"],[0.2222222222222222,\"#7201a8\"],[0.3333333333333333,\"#9c179e\"],[0.4444444444444444,\"#bd3786\"],[0.5555555555555556,\"#d8576b\"],[0.6666666666666666,\"#ed7953\"],[0.7777777777777778,\"#fb9f3a\"],[0.8888888888888888,\"#fdca26\"],[1.0,\"#f0f921\"]]}],\"contourcarpet\":[{\"type\":\"contourcarpet\",\"colorbar\":{\"outlinewidth\":0,\"ticks\":\"\"}}],\"contour\":[{\"type\":\"contour\",\"colorbar\":{\"outlinewidth\":0,\"ticks\":\"\"},\"colorscale\":[[0.0,\"#0d0887\"],[0.1111111111111111,\"#46039f\"],[0.2222222222222222,\"#7201a8\"],[0.3333333333333333,\"#9c179e\"],[0.4444444444444444,\"#bd3786\"],[0.5555555555555556,\"#d8576b\"],[0.6666666666666666,\"#ed7953\"],[0.7777777777777778,\"#fb9f3a\"],[0.8888888888888888,\"#fdca26\"],[1.0,\"#f0f921\"]]}],\"surface\":[{\"type\":\"surface\",\"colorbar\":{\"outlinewidth\":0,\"ticks\":\"\"},\"colorscale\":[[0.0,\"#0d0887\"],[0.1111111111111111,\"#46039f\"],[0.2222222222222222,\"#7201a8\"],[0.3333333333333333,\"#9c179e\"],[0.4444444444444444,\"#bd3786\"],[0.5555555555555556,\"#d8576b\"],[0.6666666666666666,\"#ed7953\"],[0.7777777777777778,\"#fb9f3a\"],[0.8888888888888888,\"#fdca26\"],[1.0,\"#f0f921\"]]}],\"mesh3d\":[{\"type\":\"mesh3d\",\"colorbar\":{\"outlinewidth\":0,\"ticks\":\"\"}}],\"scatter\":[{\"fillpattern\":{\"fillmode\":\"overlay\",\"size\":10,\"solidity\":0.2},\"type\":\"scatter\"}],\"parcoords\":[{\"type\":\"parcoords\",\"line\":{\"colorbar\":{\"outlinewidth\":0,\"ticks\":\"\"}}}],\"scatterpolargl\":[{\"type\":\"scatterpolargl\",\"marker\":{\"colorbar\":{\"outlinewidth\":0,\"ticks\":\"\"}}}],\"bar\":[{\"error_x\":{\"color\":\"#2a3f5f\"},\"error_y\":{\"color\":\"#2a3f5f\"},\"marker\":{\"line\":{\"color\":\"#E5ECF6\",\"width\":0.5},\"pattern\":{\"fillmode\":\"overlay\",\"size\":10,\"solidity\":0.2}},\"type\":\"bar\"}],\"scattergeo\":[{\"type\":\"scattergeo\",\"marker\":{\"colorbar\":{\"outlinewidth\":0,\"ticks\":\"\"}}}],\"scatterpolar\":[{\"type\":\"scatterpolar\",\"marker\":{\"colorbar\":{\"outlinewidth\":0,\"ticks\":\"\"}}}],\"histogram\":[{\"marker\":{\"pattern\":{\"fillmode\":\"overlay\",\"size\":10,\"solidity\":0.2}},\"type\":\"histogram\"}],\"scattergl\":[{\"type\":\"scattergl\",\"marker\":{\"colorbar\":{\"outlinewidth\":0,\"ticks\":\"\"}}}],\"scatter3d\":[{\"type\":\"scatter3d\",\"line\":{\"colorbar\":{\"outlinewidth\":0,\"ticks\":\"\"}},\"marker\":{\"colorbar\":{\"outlinewidth\":0,\"ticks\":\"\"}}}],\"scattermapbox\":[{\"type\":\"scattermapbox\",\"marker\":{\"colorbar\":{\"outlinewidth\":0,\"ticks\":\"\"}}}],\"scatterternary\":[{\"type\":\"scatterternary\",\"marker\":{\"colorbar\":{\"outlinewidth\":0,\"ticks\":\"\"}}}],\"scattercarpet\":[{\"type\":\"scattercarpet\",\"marker\":{\"colorbar\":{\"outlinewidth\":0,\"ticks\":\"\"}}}],\"carpet\":[{\"aaxis\":{\"endlinecolor\":\"#2a3f5f\",\"gridcolor\":\"white\",\"linecolor\":\"white\",\"minorgridcolor\":\"white\",\"startlinecolor\":\"#2a3f5f\"},\"baxis\":{\"endlinecolor\":\"#2a3f5f\",\"gridcolor\":\"white\",\"linecolor\":\"white\",\"minorgridcolor\":\"white\",\"startlinecolor\":\"#2a3f5f\"},\"type\":\"carpet\"}],\"table\":[{\"cells\":{\"fill\":{\"color\":\"#EBF0F8\"},\"line\":{\"color\":\"white\"}},\"header\":{\"fill\":{\"color\":\"#C8D4E3\"},\"line\":{\"color\":\"white\"}},\"type\":\"table\"}],\"barpolar\":[{\"marker\":{\"line\":{\"color\":\"#E5ECF6\",\"width\":0.5},\"pattern\":{\"fillmode\":\"overlay\",\"size\":10,\"solidity\":0.2}},\"type\":\"barpolar\"}],\"pie\":[{\"automargin\":true,\"type\":\"pie\"}]},\"layout\":{\"autotypenumbers\":\"strict\",\"colorway\":[\"#636efa\",\"#EF553B\",\"#00cc96\",\"#ab63fa\",\"#FFA15A\",\"#19d3f3\",\"#FF6692\",\"#B6E880\",\"#FF97FF\",\"#FECB52\"],\"font\":{\"color\":\"#2a3f5f\"},\"hovermode\":\"closest\",\"hoverlabel\":{\"align\":\"left\"},\"paper_bgcolor\":\"white\",\"plot_bgcolor\":\"#E5ECF6\",\"polar\":{\"bgcolor\":\"#E5ECF6\",\"angularaxis\":{\"gridcolor\":\"white\",\"linecolor\":\"white\",\"ticks\":\"\"},\"radialaxis\":{\"gridcolor\":\"white\",\"linecolor\":\"white\",\"ticks\":\"\"}},\"ternary\":{\"bgcolor\":\"#E5ECF6\",\"aaxis\":{\"gridcolor\":\"white\",\"linecolor\":\"white\",\"ticks\":\"\"},\"baxis\":{\"gridcolor\":\"white\",\"linecolor\":\"white\",\"ticks\":\"\"},\"caxis\":{\"gridcolor\":\"white\",\"linecolor\":\"white\",\"ticks\":\"\"}},\"coloraxis\":{\"colorbar\":{\"outlinewidth\":0,\"ticks\":\"\"}},\"colorscale\":{\"sequential\":[[0.0,\"#0d0887\"],[0.1111111111111111,\"#46039f\"],[0.2222222222222222,\"#7201a8\"],[0.3333333333333333,\"#9c179e\"],[0.4444444444444444,\"#bd3786\"],[0.5555555555555556,\"#d8576b\"],[0.6666666666666666,\"#ed7953\"],[0.7777777777777778,\"#fb9f3a\"],[0.8888888888888888,\"#fdca26\"],[1.0,\"#f0f921\"]],\"sequentialminus\":[[0.0,\"#0d0887\"],[0.1111111111111111,\"#46039f\"],[0.2222222222222222,\"#7201a8\"],[0.3333333333333333,\"#9c179e\"],[0.4444444444444444,\"#bd3786\"],[0.5555555555555556,\"#d8576b\"],[0.6666666666666666,\"#ed7953\"],[0.7777777777777778,\"#fb9f3a\"],[0.8888888888888888,\"#fdca26\"],[1.0,\"#f0f921\"]],\"diverging\":[[0,\"#8e0152\"],[0.1,\"#c51b7d\"],[0.2,\"#de77ae\"],[0.3,\"#f1b6da\"],[0.4,\"#fde0ef\"],[0.5,\"#f7f7f7\"],[0.6,\"#e6f5d0\"],[0.7,\"#b8e186\"],[0.8,\"#7fbc41\"],[0.9,\"#4d9221\"],[1,\"#276419\"]]},\"xaxis\":{\"gridcolor\":\"white\",\"linecolor\":\"white\",\"ticks\":\"\",\"title\":{\"standoff\":15},\"zerolinecolor\":\"white\",\"automargin\":true,\"zerolinewidth\":2},\"yaxis\":{\"gridcolor\":\"white\",\"linecolor\":\"white\",\"ticks\":\"\",\"title\":{\"standoff\":15},\"zerolinecolor\":\"white\",\"automargin\":true,\"zerolinewidth\":2},\"scene\":{\"xaxis\":{\"backgroundcolor\":\"#E5ECF6\",\"gridcolor\":\"white\",\"linecolor\":\"white\",\"showbackground\":true,\"ticks\":\"\",\"zerolinecolor\":\"white\",\"gridwidth\":2},\"yaxis\":{\"backgroundcolor\":\"#E5ECF6\",\"gridcolor\":\"white\",\"linecolor\":\"white\",\"showbackground\":true,\"ticks\":\"\",\"zerolinecolor\":\"white\",\"gridwidth\":2},\"zaxis\":{\"backgroundcolor\":\"#E5ECF6\",\"gridcolor\":\"white\",\"linecolor\":\"white\",\"showbackground\":true,\"ticks\":\"\",\"zerolinecolor\":\"white\",\"gridwidth\":2}},\"shapedefaults\":{\"line\":{\"color\":\"#2a3f5f\"}},\"annotationdefaults\":{\"arrowcolor\":\"#2a3f5f\",\"arrowhead\":0,\"arrowwidth\":1},\"geo\":{\"bgcolor\":\"white\",\"landcolor\":\"#E5ECF6\",\"subunitcolor\":\"white\",\"showland\":true,\"showlakes\":true,\"lakecolor\":\"white\"},\"title\":{\"x\":0.05},\"mapbox\":{\"style\":\"light\"}}},\"xaxis\":{\"anchor\":\"y\",\"domain\":[0.0,1.0],\"scaleanchor\":\"y\",\"constrain\":\"domain\"},\"yaxis\":{\"anchor\":\"x\",\"domain\":[0.0,1.0],\"autorange\":\"reversed\",\"constrain\":\"domain\"},\"coloraxis\":{\"colorscale\":[[0.0,\"#0d0887\"],[0.1111111111111111,\"#46039f\"],[0.2222222222222222,\"#7201a8\"],[0.3333333333333333,\"#9c179e\"],[0.4444444444444444,\"#bd3786\"],[0.5555555555555556,\"#d8576b\"],[0.6666666666666666,\"#ed7953\"],[0.7777777777777778,\"#fb9f3a\"],[0.8888888888888888,\"#fdca26\"],[1.0,\"#f0f921\"]]},\"margin\":{\"t\":60}},                        {\"responsive\": true}                    ).then(function(){\n",
       "                            \n",
       "var gd = document.getElementById('9f5142e7-e716-491e-a210-f6deb76e450f');\n",
       "var x = new MutationObserver(function (mutations, observer) {{\n",
       "        var display = window.getComputedStyle(gd).display;\n",
       "        if (!display || display === 'none') {{\n",
       "            console.log([gd, 'removed!']);\n",
       "            Plotly.purge(gd);\n",
       "            observer.disconnect();\n",
       "        }}\n",
       "}});\n",
       "\n",
       "// Listen for the removal of the full notebook cells\n",
       "var notebookContainer = gd.closest('#notebook-container');\n",
       "if (notebookContainer) {{\n",
       "    x.observe(notebookContainer, {childList: true});\n",
       "}}\n",
       "\n",
       "// Listen for the clearing of the current output cell\n",
       "var outputEl = gd.closest('.output');\n",
       "if (outputEl) {{\n",
       "    x.observe(outputEl, {childList: true});\n",
       "}}\n",
       "\n",
       "                        })                };                });            </script>        </div>"
      ]
     },
     "metadata": {},
     "output_type": "display_data"
    }
   ],
   "source": [
    "import plotly.express as px\n",
    "import pandas as pd\n",
    "import numpy as np\n",
    "\n",
    "for task_name, losses in task_losses.items():\n",
    "    base_loss = losses[1]\n",
    "    losses = losses[0]\n",
    "\n",
    "    task_losses[task_name][0] = [(base_loss - loss) for loss in losses]\n",
    "\n",
    "\n",
    "df = pd.DataFrame([\n",
    "    {\"task\": task_name, \"feature\": feature, \"loss\": loss}\n",
    "    for task_name, losses in task_losses.items()\n",
    "    for feature, loss in zip(features, losses[0])\n",
    "])\n",
    "\n",
    "\n",
    "\n",
    "heatmap = np.zeros((len(task_names), len(features)))\n",
    "\n",
    "for i, task_name in enumerate(task_names):\n",
    "    for j, feature in enumerate(features):\n",
    "        heatmap[i, j] = task_losses[task_name][0][j]\n",
    "\n",
    "fig = px.imshow(heatmap, x=[str(x) for x in features], y=task_names)\n",
    "\n",
    "fig.show()\n"
   ]
  },
  {
   "cell_type": "code",
   "execution_count": 46,
   "metadata": {},
   "outputs": [],
   "source": [
    "feature = 11618\n",
    "\n",
    "direction = sae[\"W_dec\"][feature]\n",
    "\n",
    "\n",
    "def steer_with_direction(direction, scale):\n",
    "    direction = direction / jnp.linalg.norm(direction)\n",
    "    direction = direction * scale\n",
    "    add_act = make_act_adder(llama, direction, train_tokens, 12, sep=sep)\n",
    "\n",
    "    logits = add_act(inputs)\n",
    "    logits = logits.unwrap(\"batch\", \"seq\", \"vocabulary\")\n",
    "\n",
    "    return logprob_loss(logits, train_tokens, sep=sep, pad_token=pad, n_first=2)"
   ]
  },
  {
   "cell_type": "code",
   "execution_count": 38,
   "metadata": {},
   "outputs": [
    {
     "data": {
      "application/vnd.jupyter.widget-view+json": {
       "model_id": "851f5338eec144a180eb88b34a54eaff",
       "version_major": 2,
       "version_minor": 0
      },
      "text/plain": [
       "  0%|          | 0/30 [00:00<?, ?it/s]"
      ]
     },
     "metadata": {},
     "output_type": "display_data"
    },
    {
     "name": "stderr",
     "output_type": "stream",
     "text": [
      "/home/dmitrii/.cache/pypoetry/virtualenvs/micrlhf-progress-_SD4q1c9-py3.10/lib/python3.10/site-packages/jax/_src/ops/scatter.py:92: FutureWarning: scatter inputs have incompatible types: cannot safely cast value from dtype=float32 to dtype=bfloat16 with jax_numpy_dtype_promotion='standard'. In future JAX releases this will result in an error.\n",
      "  warnings.warn(\n",
      "/home/dmitrii/.cache/pypoetry/virtualenvs/micrlhf-progress-_SD4q1c9-py3.10/lib/python3.10/site-packages/jax/_src/ops/scatter.py:92: FutureWarning: scatter inputs have incompatible types: cannot safely cast value from dtype=float32 to dtype=bfloat16 with jax_numpy_dtype_promotion='standard'. In future JAX releases this will result in an error.\n",
      "  warnings.warn(\n",
      "/home/dmitrii/.cache/pypoetry/virtualenvs/micrlhf-progress-_SD4q1c9-py3.10/lib/python3.10/site-packages/jax/_src/ops/scatter.py:92: FutureWarning: scatter inputs have incompatible types: cannot safely cast value from dtype=float32 to dtype=bfloat16 with jax_numpy_dtype_promotion='standard'. In future JAX releases this will result in an error.\n",
      "  warnings.warn(\n",
      "/home/dmitrii/.cache/pypoetry/virtualenvs/micrlhf-progress-_SD4q1c9-py3.10/lib/python3.10/site-packages/jax/_src/ops/scatter.py:92: FutureWarning: scatter inputs have incompatible types: cannot safely cast value from dtype=float32 to dtype=bfloat16 with jax_numpy_dtype_promotion='standard'. In future JAX releases this will result in an error.\n",
      "  warnings.warn(\n",
      "/home/dmitrii/.cache/pypoetry/virtualenvs/micrlhf-progress-_SD4q1c9-py3.10/lib/python3.10/site-packages/jax/_src/ops/scatter.py:92: FutureWarning: scatter inputs have incompatible types: cannot safely cast value from dtype=float32 to dtype=bfloat16 with jax_numpy_dtype_promotion='standard'. In future JAX releases this will result in an error.\n",
      "  warnings.warn(\n",
      "/home/dmitrii/.cache/pypoetry/virtualenvs/micrlhf-progress-_SD4q1c9-py3.10/lib/python3.10/site-packages/jax/_src/ops/scatter.py:92: FutureWarning: scatter inputs have incompatible types: cannot safely cast value from dtype=float32 to dtype=bfloat16 with jax_numpy_dtype_promotion='standard'. In future JAX releases this will result in an error.\n",
      "  warnings.warn(\n",
      "/home/dmitrii/.cache/pypoetry/virtualenvs/micrlhf-progress-_SD4q1c9-py3.10/lib/python3.10/site-packages/jax/_src/ops/scatter.py:92: FutureWarning: scatter inputs have incompatible types: cannot safely cast value from dtype=float32 to dtype=bfloat16 with jax_numpy_dtype_promotion='standard'. In future JAX releases this will result in an error.\n",
      "  warnings.warn(\n",
      "/home/dmitrii/.cache/pypoetry/virtualenvs/micrlhf-progress-_SD4q1c9-py3.10/lib/python3.10/site-packages/jax/_src/ops/scatter.py:92: FutureWarning: scatter inputs have incompatible types: cannot safely cast value from dtype=float32 to dtype=bfloat16 with jax_numpy_dtype_promotion='standard'. In future JAX releases this will result in an error.\n",
      "  warnings.warn(\n",
      "/home/dmitrii/.cache/pypoetry/virtualenvs/micrlhf-progress-_SD4q1c9-py3.10/lib/python3.10/site-packages/jax/_src/ops/scatter.py:92: FutureWarning: scatter inputs have incompatible types: cannot safely cast value from dtype=float32 to dtype=bfloat16 with jax_numpy_dtype_promotion='standard'. In future JAX releases this will result in an error.\n",
      "  warnings.warn(\n",
      "/home/dmitrii/.cache/pypoetry/virtualenvs/micrlhf-progress-_SD4q1c9-py3.10/lib/python3.10/site-packages/jax/_src/ops/scatter.py:92: FutureWarning: scatter inputs have incompatible types: cannot safely cast value from dtype=float32 to dtype=bfloat16 with jax_numpy_dtype_promotion='standard'. In future JAX releases this will result in an error.\n",
      "  warnings.warn(\n",
      "/home/dmitrii/.cache/pypoetry/virtualenvs/micrlhf-progress-_SD4q1c9-py3.10/lib/python3.10/site-packages/jax/_src/ops/scatter.py:92: FutureWarning: scatter inputs have incompatible types: cannot safely cast value from dtype=float32 to dtype=bfloat16 with jax_numpy_dtype_promotion='standard'. In future JAX releases this will result in an error.\n",
      "  warnings.warn(\n",
      "/home/dmitrii/.cache/pypoetry/virtualenvs/micrlhf-progress-_SD4q1c9-py3.10/lib/python3.10/site-packages/jax/_src/ops/scatter.py:92: FutureWarning: scatter inputs have incompatible types: cannot safely cast value from dtype=float32 to dtype=bfloat16 with jax_numpy_dtype_promotion='standard'. In future JAX releases this will result in an error.\n",
      "  warnings.warn(\n",
      "/home/dmitrii/.cache/pypoetry/virtualenvs/micrlhf-progress-_SD4q1c9-py3.10/lib/python3.10/site-packages/jax/_src/ops/scatter.py:92: FutureWarning: scatter inputs have incompatible types: cannot safely cast value from dtype=float32 to dtype=bfloat16 with jax_numpy_dtype_promotion='standard'. In future JAX releases this will result in an error.\n",
      "  warnings.warn(\n",
      "/home/dmitrii/.cache/pypoetry/virtualenvs/micrlhf-progress-_SD4q1c9-py3.10/lib/python3.10/site-packages/jax/_src/ops/scatter.py:92: FutureWarning: scatter inputs have incompatible types: cannot safely cast value from dtype=float32 to dtype=bfloat16 with jax_numpy_dtype_promotion='standard'. In future JAX releases this will result in an error.\n",
      "  warnings.warn(\n",
      "/home/dmitrii/.cache/pypoetry/virtualenvs/micrlhf-progress-_SD4q1c9-py3.10/lib/python3.10/site-packages/jax/_src/ops/scatter.py:92: FutureWarning: scatter inputs have incompatible types: cannot safely cast value from dtype=float32 to dtype=bfloat16 with jax_numpy_dtype_promotion='standard'. In future JAX releases this will result in an error.\n",
      "  warnings.warn(\n",
      "/home/dmitrii/.cache/pypoetry/virtualenvs/micrlhf-progress-_SD4q1c9-py3.10/lib/python3.10/site-packages/jax/_src/ops/scatter.py:92: FutureWarning: scatter inputs have incompatible types: cannot safely cast value from dtype=float32 to dtype=bfloat16 with jax_numpy_dtype_promotion='standard'. In future JAX releases this will result in an error.\n",
      "  warnings.warn(\n",
      "/home/dmitrii/.cache/pypoetry/virtualenvs/micrlhf-progress-_SD4q1c9-py3.10/lib/python3.10/site-packages/jax/_src/ops/scatter.py:92: FutureWarning: scatter inputs have incompatible types: cannot safely cast value from dtype=float32 to dtype=bfloat16 with jax_numpy_dtype_promotion='standard'. In future JAX releases this will result in an error.\n",
      "  warnings.warn(\n",
      "/home/dmitrii/.cache/pypoetry/virtualenvs/micrlhf-progress-_SD4q1c9-py3.10/lib/python3.10/site-packages/jax/_src/ops/scatter.py:92: FutureWarning: scatter inputs have incompatible types: cannot safely cast value from dtype=float32 to dtype=bfloat16 with jax_numpy_dtype_promotion='standard'. In future JAX releases this will result in an error.\n",
      "  warnings.warn(\n",
      "/home/dmitrii/.cache/pypoetry/virtualenvs/micrlhf-progress-_SD4q1c9-py3.10/lib/python3.10/site-packages/jax/_src/ops/scatter.py:92: FutureWarning: scatter inputs have incompatible types: cannot safely cast value from dtype=float32 to dtype=bfloat16 with jax_numpy_dtype_promotion='standard'. In future JAX releases this will result in an error.\n",
      "  warnings.warn(\n",
      "/home/dmitrii/.cache/pypoetry/virtualenvs/micrlhf-progress-_SD4q1c9-py3.10/lib/python3.10/site-packages/jax/_src/ops/scatter.py:92: FutureWarning: scatter inputs have incompatible types: cannot safely cast value from dtype=float32 to dtype=bfloat16 with jax_numpy_dtype_promotion='standard'. In future JAX releases this will result in an error.\n",
      "  warnings.warn(\n",
      "/home/dmitrii/.cache/pypoetry/virtualenvs/micrlhf-progress-_SD4q1c9-py3.10/lib/python3.10/site-packages/jax/_src/ops/scatter.py:92: FutureWarning: scatter inputs have incompatible types: cannot safely cast value from dtype=float32 to dtype=bfloat16 with jax_numpy_dtype_promotion='standard'. In future JAX releases this will result in an error.\n",
      "  warnings.warn(\n",
      "/home/dmitrii/.cache/pypoetry/virtualenvs/micrlhf-progress-_SD4q1c9-py3.10/lib/python3.10/site-packages/jax/_src/ops/scatter.py:92: FutureWarning: scatter inputs have incompatible types: cannot safely cast value from dtype=float32 to dtype=bfloat16 with jax_numpy_dtype_promotion='standard'. In future JAX releases this will result in an error.\n",
      "  warnings.warn(\n",
      "/home/dmitrii/.cache/pypoetry/virtualenvs/micrlhf-progress-_SD4q1c9-py3.10/lib/python3.10/site-packages/jax/_src/ops/scatter.py:92: FutureWarning: scatter inputs have incompatible types: cannot safely cast value from dtype=float32 to dtype=bfloat16 with jax_numpy_dtype_promotion='standard'. In future JAX releases this will result in an error.\n",
      "  warnings.warn(\n",
      "/home/dmitrii/.cache/pypoetry/virtualenvs/micrlhf-progress-_SD4q1c9-py3.10/lib/python3.10/site-packages/jax/_src/ops/scatter.py:92: FutureWarning: scatter inputs have incompatible types: cannot safely cast value from dtype=float32 to dtype=bfloat16 with jax_numpy_dtype_promotion='standard'. In future JAX releases this will result in an error.\n",
      "  warnings.warn(\n",
      "/home/dmitrii/.cache/pypoetry/virtualenvs/micrlhf-progress-_SD4q1c9-py3.10/lib/python3.10/site-packages/jax/_src/ops/scatter.py:92: FutureWarning: scatter inputs have incompatible types: cannot safely cast value from dtype=float32 to dtype=bfloat16 with jax_numpy_dtype_promotion='standard'. In future JAX releases this will result in an error.\n",
      "  warnings.warn(\n",
      "/home/dmitrii/.cache/pypoetry/virtualenvs/micrlhf-progress-_SD4q1c9-py3.10/lib/python3.10/site-packages/jax/_src/ops/scatter.py:92: FutureWarning: scatter inputs have incompatible types: cannot safely cast value from dtype=float32 to dtype=bfloat16 with jax_numpy_dtype_promotion='standard'. In future JAX releases this will result in an error.\n",
      "  warnings.warn(\n",
      "/home/dmitrii/.cache/pypoetry/virtualenvs/micrlhf-progress-_SD4q1c9-py3.10/lib/python3.10/site-packages/jax/_src/ops/scatter.py:92: FutureWarning: scatter inputs have incompatible types: cannot safely cast value from dtype=float32 to dtype=bfloat16 with jax_numpy_dtype_promotion='standard'. In future JAX releases this will result in an error.\n",
      "  warnings.warn(\n",
      "/home/dmitrii/.cache/pypoetry/virtualenvs/micrlhf-progress-_SD4q1c9-py3.10/lib/python3.10/site-packages/jax/_src/ops/scatter.py:92: FutureWarning: scatter inputs have incompatible types: cannot safely cast value from dtype=float32 to dtype=bfloat16 with jax_numpy_dtype_promotion='standard'. In future JAX releases this will result in an error.\n",
      "  warnings.warn(\n",
      "/home/dmitrii/.cache/pypoetry/virtualenvs/micrlhf-progress-_SD4q1c9-py3.10/lib/python3.10/site-packages/jax/_src/ops/scatter.py:92: FutureWarning: scatter inputs have incompatible types: cannot safely cast value from dtype=float32 to dtype=bfloat16 with jax_numpy_dtype_promotion='standard'. In future JAX releases this will result in an error.\n",
      "  warnings.warn(\n",
      "/home/dmitrii/.cache/pypoetry/virtualenvs/micrlhf-progress-_SD4q1c9-py3.10/lib/python3.10/site-packages/jax/_src/ops/scatter.py:92: FutureWarning: scatter inputs have incompatible types: cannot safely cast value from dtype=float32 to dtype=bfloat16 with jax_numpy_dtype_promotion='standard'. In future JAX releases this will result in an error.\n",
      "  warnings.warn(\n"
     ]
    }
   ],
   "source": [
    "import numpy as np\n",
    "from tqdm.auto import tqdm\n",
    "\n",
    "scales = np.linspace(0, 100, 30)\n",
    "\n",
    "losses = [steer_with_direction(-direction, scale) for scale in tqdm(scales)]"
   ]
  },
  {
   "cell_type": "code",
   "execution_count": 40,
   "metadata": {},
   "outputs": [
    {
     "data": {
      "text/html": [
       "<script> (()=>{ if (customElements.get('treescope-container') === undefined) { class TreescopeContainer extends HTMLElement { constructor() { super(); this.attachShadow({mode: \"open\"}); this.defns = {}; this.state = {}; } } customElements.define(\"treescope-container\", TreescopeContainer); } if (customElements.get('treescope-run-here') === undefined) { class RunHere extends HTMLElement { constructor() { super() } connectedCallback() { const run = child => { const fn = new Function(child.textContent); child.textContent = \"\"; fn.call(this); this.remove(); }; const child = this.querySelector(\"script\"); if (child) { run(child); } else { new MutationObserver(()=>{ run(this.querySelector(\"script\")); }).observe(this, {childList: true}); } } } customElements.define(\"treescope-run-here\", RunHere); } })(); </script> <treescope-container class=\"treescope_out_7b23d3fc5d584db2a471210f453401cc\" ></treescope-container> <treescope-run-here><script type=\"application/octet-stream\"> const root = ( Array.from(document.getElementsByClassName( \"treescope_out_7b23d3fc5d584db2a471210f453401cc\")) .filter((elt) => !elt.dataset.setup) )[0]; root.dataset.setup = 1; const msg = document.createElement(\"span\"); msg.style = \"color: #aaaaaa; font-family: monospace; transition: opacity 0.2s; opacity: 0.0;\"; msg.textContent = \"(Loading...)\"; root.state.loadingMsg = msg; root.shadowRoot.appendChild(msg); root.state.chain = new Promise((resolve, reject) => { const observer = new IntersectionObserver((entries) => { for (const entry of entries) { if (entry.isIntersecting) { resolve(); observer.disconnect(); return; } } }, {rootMargin: \"1000px\"}); window.setTimeout(() => { if (root.loadingMsg) { root.loadingMsg.style.opacity = \"1.0\"; } observer.observe(root); }, 0); }); root.state.deferring = false; const _insertNode = (node) => { for (let oldScript of node.querySelectorAll(\"script\")) { let newScript = document.createElement(\"script\"); newScript.type = oldScript.type; newScript.textContent = oldScript.textContent; oldScript.parentNode.replaceChild(newScript, oldScript); } if (root.state.loadingMsg) { root.state.loadingMsg.remove(); root.state.loadingMsg = null; } root.shadowRoot.appendChild(node); }; root.defns.insertContent = ((contentNode, compressed) => { if (compressed) { root.state.deferring = true; } if (root.state.deferring) { root.state.chain = (async () => { await root.state.chain; if (compressed) { const encoded = contentNode.textContent; const blob = new Blob([ Uint8Array.from(atob(encoded), (m) => m.codePointAt(0)) ]); const reader = blob.stream().pipeThrough( new DecompressionStream(\"deflate\") ).pipeThrough( new TextDecoderStream(\"utf-8\") ).getReader(); const parts = []; while (true) { const step = await reader.read(); if (step.done) { break; } parts.push(step.value); } const tpl = document.createElement('template'); tpl.innerHTML = parts.join(\"\"); _insertNode(tpl.content); } else { _insertNode(contentNode.content); } })(); } else { _insertNode(contentNode.content); } }); </script></treescope-run-here><div style=\"display:none\"> <script type=\"application/octet-stream\" >eNrtGg1z2rjyr+jceRe4BGM+k5Am80zCV9ukTUibtvdueMKWbRXbcmQBITf9728l82UgJO3lejc3j8wEkHe136vdFS9jMfHJiS44IbHFItLjjAn0O4pYTAVlYQ1x4mNBR+QIOSwUOQcH1J/UUMBCFkfYgvWxRwXJqS81FHFY8WkscmrrnJhEsBqyEJb72Bq4nA1DO2cxn/FagnqEpt/6PgDAftQWXg05VABYKEgojlCEbZuGbs4njqihouVJIiHJeYS6HqwU9IrcJhSYAs9ztOmH3IjGtE99KoBzPBRsDpujoeA0jKmVi+k9SZ5O2f36Mp+o5+VcPTk+DIEmh7XY4jQSSMp3vIOjyKcWlhrLM0sQKT0nONg5yWSyxyegUKAXC2QTJ4zRMRIejXWXiCvQ9gWzSSareywWunoOohGBehEJpcimJXeVSL/+tulJG4e2T+BxOPT9o4SCDmx2GQthNTNmfJBFyzywG1iSj1LLglpyMSLcYTzAoUX0kI0zWWVfIJBZe4JyCdJLVCpmYR/qoMwK17pPQld46PgYGRJkK+uciCEPQe+I+DFZMOYNQ8nZ6taxRx0h+VMA8sNX+HuAQga8KrTZWOfkdkhiYYY0UOZqchyQTKKTrNzjaI1QNIy9RI1HG2SckThOxNgi5dN5kFwkhhTMdf0kKnsqcsBbI7mXXCG+2ENkBA4+taTkTn3XB2Qila5xTTI0BdYtH8fxGwjO6b4Zbb5nLwA31GbEv2ZBn+D+ysdPXuY3BYBNR0hteKyl04eGBO6DpOTuWDM0xEJgBsQOAW6b22+WNSNxZlJqEHZJwuozIVggU0AtZCKjO8y3cR+wQ9i25uE4c+LjPvFP0k96CQ2FU7M8Yg2Inc2iX6SSZilGsKiGDL1QIcF6kpFr9zklHHw/2pgnv+oqn/Vwv8/JSPmxSm8vqgdFbBgLAIsFAYi1BIHVSxphBQQnLHtsRHh2A3wavDf2SNgjdxG4HrGfTUMPUQ2HQZ/wJQDj8KBQqS4AYplj3eUdSoVKoTIHIHZPKnoBMD0J1g+MEeaZXK7vM2uQLIHH9hm3CU/sVojuUMx8am+DTJznMWCwgQfJnQNngx4nAYRQT+kfrTK9ziYb+JaXOSj/SzpSuYIKxmGy4xjHPYgq5vuALpjuUB6LnkqjT931sKwX5L7GISqUqvr+xo2V/baSy64RFByHM29eJY4KMSI4JuD6OTaEtKOKgbEKjJVn0qopl3qgnACmN3keQNs0jnw8mZUNq4DoBCnPrdX6BE6kJbd5YanX5rBMSodcQdYO0xIDYnFOi4Yq1pUPbKGpPGCdso35ICbYhUQYrmM/UwTOeZCom5Fm8CkOVQ1UQzv/KVb61s5fyV4a6UEmqz+ASRXJQHjIY2nAiEElSPgGujR+PrIqFBShnDrR4od8/HmoLsQT5E6sU9Fp3EtSAguTLLAeWttCSS9WZDRtNBX6w+wnFl9lUUoVYO5CsknYUAH99Q9Sg1wYTfpDOBfCjQlo8XiT02pIW4ECRUJDtBn4P6RQtrWVfmrnHINXUOyj7iToMz9Gb4dCymuj0wQT3qMJBAZk3f4AeiOFHgdQLXlwuELnEgpAp5CI7XlH9YIY8u9o3c0TbNXyGPqhLGvSUibxsUGKzeluganOHAu6IVDsHB87IlUgzPL0NporOGmSy6qfnt42FjiHQzCsKqqzy8uSiOwUlk64Tcfat4ky5wAMQ4n9U5oTRRL9RIOIcYHDtb37nA2gSJMri2T0uHaX0Jb0OTPzV92zvJ5qxXsyOpbK2iRYDD2J2CU4rs7wBSBPit05pCx2QVS7Z0EfaHMSToVPd9rAZRrw2arOeTBOj+ZU8FvYtzJFy4NeFKq5pBSKBZb4c37/NE6m5WTCiQ1FJbiJrCmXzHE7xH4I3V0v4sShd7BJKvAOVOBBK4tlHTbGPAQL9GZHxcy6joOtQmkDYAS94JrhVD6cKmm6lJsac1HV1VRng3nO5dimYLZMoVSxibuHGMSIS5AB3FUtby+JmQjIQgZSS2iq5TVW1lL1syk+ZfLc3DNXDf2QY67CzQvfxIAQ2mmQH+66hl62vOxTeP0xvpw0RYqrja1RqlVWcoBNfA/9gjIFEGcZZbpvDFAkK4cbUx0sUHNPx53RnTVwCnO+5Ww1N13+gdpctKBKgzkZVMN4KmCBBCDdw4JtKKC+uXx5zMV/T3XJiX1lqnpCl7wd+KsOO/4pc5iFkf/IKEZNQoBZH0dQGD3eXH676h+mkLSUSXu+PJB5AOY5+NhEYipoGqDH+NJAcZNaHgZ/HlPvoZVrBz09jERPZHhVy3NT9AAPWBB/GO2HyvtE9lNG3W7Ip1B9koqeosunEHtMqOe4d5GjcPSTyTme6A5nQcZm1lDORnVZgMX6CPtDEmeyWT1mAcmoskwO0eW7njRlcoD+xLZM20FZlJ1fWcQeIULea5AxOu12u1KarlyTtxTqoc4JiGyR7iS0Mv/997QVtMisQPz2tjCpKyUlqUceYP9oeUhXQ2U5eo65VUND7mdkj1KTz/Nj5jjFoz50QdXynm0cts5ds26qV+fSNJn6VL8aw/920zQb5rZXPTBNd8Be251G/XT8yTSvP52+Ms879VOz6d512m88EdfPKXFLzbOPxTed6qdRNxrSd+eV68Krj52rD+ejm/N78W7SbJ7u3riDa1o/Mzx6djl81bBbX4x2P++MOnZ0+7rq3d5Qejk8D1te23kvzPfV+gUvm81OOGhUrffDYbh7Vbm14sF45DT9/O2d22AHbv/VuHVQaJv50LyqvOH8VeFq1703rmzDfOUU3Iv903HrS9E12GR4tb8fNArVcfvj4VvXjcj1YFImnf59xerzty2BTfeyczE+w/Ekvhx2Oh9vGs2x+e4y6nyy3+fzu+7+9f7HkjCc1+9uzVEF9nxjXuyb52MzcO+vurvDz13S+HhXdKrW/UX5qj2pDOvm6/v6l6gZlWj78rRhfB6+K3f3Q6f+ptFungcm3T0YNYpeWPD2d/sfxh+/jNt8dNZ6fxp+cRoNV+y+tT77/n7l8PTVuH7gHZbPz1vdUuuz6Qadypf65aG4bpH2YaNe77RKZ275Kv/JmvTNFtj0w+u8ednCJjk/9c32feOt+1m41fo79+3bzll9QC8rpFn/eFpvWtSIPM6iEHwj+tw4K9wXBl3n1BHe5HXYtnEzbjvGRdBqXFTrtnn74UOERdz9HNg2podF5/6w/J5+ua1GAa++ZZ9Ou5S3gtGrVql70y01G0Wrfulc77Z9FrXKzXhcwe5t9YB+Jt0LP7oJ6+0Osc85Gd7ctk6Dwk2TD7rdu0qxenMTj03gKIvUHaXI7Ci33pEVyn/h3zz6sc0i6NMWIaluVnVd3wKxl8Tsb7DX9hssT131qeY8mRvA3uAeoYUySfuevoiFELxmMnwBbNrey7UY0oPcQs4rZJOPx5gKFOIRdbFgXIedoz7D3NbHnApyTe5EZrGXLOCSvRa3fVBRZbSlYYa85wMq1zQgbCgys4vgNTx56zEia6hf91DRMAxVuELyhSYho8Zym+kuTSy0BXNyIDnLYPJqVEMvUBNTHxKbYEgC/6QyGxT3IfTQkI0p6IxgWw5cdpd1N72zfOS2Ug5vZteV6cn+ateqnbxMzvWXNIyG05NGUyd5n91pGzeZHvqAmldIaXqLayQBnQoRmmI/NyATiA3vWNNOfgXuAQHQp6SX0dcGMNq259q30f7V+G0FI10PzB6qk+VYS5X/NfTC7h+UK/hoU2Mjr1e0v7viU+Cp+7BpW4PSA7Un6Wr6cGX2o51EJLzHdFEiqSiPMLh1zwEXl9MZfe4I6u2CQaaZ7h5JoTPp5xv9ZW0sku4FtS3Qa6CMU2itsd+DeoUff5Ny9RTuJlVP74W1k59f3BX3j372xRGk7shnUOH0dan9WH8D/4tniPW/EEsgLJBxt+8Y/ZLRLxByaPzsiqMEO62YvXUzzQtr7QTNgNeAZt1Gmt2dxQB2B7HwVKbC451vPAvULxmyO2g+HT7WMj4O+jZWv8+oqf9ppWW1RdzN0aAofBRPXhOsDsQBT+VLaR34PJXwZNWhUm/f4SjU/l43ofZGJ0l+XaCdFEqH1YOqUToolSqFovFPsze1v8fagPUX2lpl6O+0tsTddjw8/2mw5Scy2lbXePG4/6SmE4+dA2tJLm2JJOVty/DbeP9Tq4Wt5lv+1RPkdMjm6gFK8vMDmX2a+iGNb3HHv1moStm/J1gV3veH64O+DAkOquczcC45F4AzUhUuxUIVMQflPRaQvB1Q8Eya1y0MIZSHsoMR6C7yI8oFuCcJR3E+oBb3PScXceZyEse5XvesfFuwDnPRpKQXjDzYDjCFx0L1NZY/+4XKaIBdAthz++YT+0aTrenm0Ry0YvS9/zvG0/L4Q94yK2wXP51EK5fA2kn226yTGuQ9mg2+p7b7B7kJdFpP9w0J/LwO8dtTFDPDsOno5H+2fwL1</script> <treescope-run-here><script type=\"application/octet-stream\"> const root = ( Array.from(document.getElementsByClassName( \"treescope_out_7b23d3fc5d584db2a471210f453401cc\")) .filter((elt) => !elt.dataset['step0']) )[0]; root.dataset['step0'] = 1; root.defns.insertContent( this.parentNode.querySelector('script[type=\"application/octet-stream\"]'), true ); this.parentNode.remove(); </script></treescope-run-here> </div>"
      ],
      "text/plain": [
       "<IPython.core.display.HTML object>"
      ]
     },
     "metadata": {},
     "output_type": "display_data"
    },
    {
     "data": {
      "text/html": [
       "<treescope-run-here><script type=\"application/octet-stream\"> const root = ( Array.from(document.getElementsByClassName( \"treescope_out_7b23d3fc5d584db2a471210f453401cc\")) .filter((elt) => !elt.dataset.stolen) )[0]; root.dataset.stolen = 1; this.parentNode.replaceChild(root, this); </script></treescope-run-here>"
      ],
      "text/plain": [
       "[<matplotlib.lines.Line2D at 0x7f0b30b1ee90>]"
      ]
     },
     "execution_count": 40,
     "metadata": {},
     "output_type": "execute_result"
    },
    {
     "data": {
      "image/png": "[encoded data removed]",
      "text/plain": [
       "<Figure size 640x480 with 1 Axes>"
      ]
     },
     "metadata": {},
     "output_type": "display_data"
    }
   ],
   "source": [
    "import matplotlib.pyplot as plt\n",
    "\n",
    "losses = [x.tolist() for x in losses]\n",
    "\n",
    "plt.plot(scales, losses)"
   ]
  },
  {
   "cell_type": "code",
   "execution_count": 47,
   "metadata": {},
   "outputs": [
    {
     "data": {
      "application/vnd.jupyter.widget-view+json": {
       "model_id": "718575a719c34e84b9aac7dd63299f64",
       "version_major": 2,
       "version_minor": 0
      },
      "text/plain": [
       "  0%|          | 0/11 [00:00<?, ?it/s]"
      ]
     },
     "metadata": {},
     "output_type": "display_data"
    }
   ],
   "source": [
    "losses_features = [steer_with_direction(-sae[\"W_dec\"][feature], 30).tolist() for feature in tqdm(features)]"
   ]
  },
  {
   "cell_type": "code",
   "execution_count": 42,
   "metadata": {},
   "outputs": [
    {
     "data": {
      "text/html": [
       "<script> (()=>{ if (customElements.get('treescope-container') === undefined) { class TreescopeContainer extends HTMLElement { constructor() { super(); this.attachShadow({mode: \"open\"}); this.defns = {}; this.state = {}; } } customElements.define(\"treescope-container\", TreescopeContainer); } if (customElements.get('treescope-run-here') === undefined) { class RunHere extends HTMLElement { constructor() { super() } connectedCallback() { const run = child => { const fn = new Function(child.textContent); child.textContent = \"\"; fn.call(this); this.remove(); }; const child = this.querySelector(\"script\"); if (child) { run(child); } else { new MutationObserver(()=>{ run(this.querySelector(\"script\")); }).observe(this, {childList: true}); } } } customElements.define(\"treescope-run-here\", RunHere); } })(); </script> <treescope-container class=\"treescope_out_0ea07c204e674958b8117b9fa7ba72f8\" ></treescope-container> <treescope-run-here><script type=\"application/octet-stream\"> const root = ( Array.from(document.getElementsByClassName( \"treescope_out_0ea07c204e674958b8117b9fa7ba72f8\")) .filter((elt) => !elt.dataset.setup) )[0]; root.dataset.setup = 1; const msg = document.createElement(\"span\"); msg.style = \"color: #aaaaaa; font-family: monospace; transition: opacity 0.2s; opacity: 0.0;\"; msg.textContent = \"(Loading...)\"; root.state.loadingMsg = msg; root.shadowRoot.appendChild(msg); root.state.chain = new Promise((resolve, reject) => { const observer = new IntersectionObserver((entries) => { for (const entry of entries) { if (entry.isIntersecting) { resolve(); observer.disconnect(); return; } } }, {rootMargin: \"1000px\"}); window.setTimeout(() => { if (root.loadingMsg) { root.loadingMsg.style.opacity = \"1.0\"; } observer.observe(root); }, 0); }); root.state.deferring = false; const _insertNode = (node) => { for (let oldScript of node.querySelectorAll(\"script\")) { let newScript = document.createElement(\"script\"); newScript.type = oldScript.type; newScript.textContent = oldScript.textContent; oldScript.parentNode.replaceChild(newScript, oldScript); } if (root.state.loadingMsg) { root.state.loadingMsg.remove(); root.state.loadingMsg = null; } root.shadowRoot.appendChild(node); }; root.defns.insertContent = ((contentNode, compressed) => { if (compressed) { root.state.deferring = true; } if (root.state.deferring) { root.state.chain = (async () => { await root.state.chain; if (compressed) { const encoded = contentNode.textContent; const blob = new Blob([ Uint8Array.from(atob(encoded), (m) => m.codePointAt(0)) ]); const reader = blob.stream().pipeThrough( new DecompressionStream(\"deflate\") ).pipeThrough( new TextDecoderStream(\"utf-8\") ).getReader(); const parts = []; while (true) { const step = await reader.read(); if (step.done) { break; } parts.push(step.value); } const tpl = document.createElement('template'); tpl.innerHTML = parts.join(\"\"); _insertNode(tpl.content); } else { _insertNode(contentNode.content); } })(); } else { _insertNode(contentNode.content); } }); </script></treescope-run-here><div style=\"display:none\"> <script type=\"application/octet-stream\" >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</script> <treescope-run-here><script type=\"application/octet-stream\"> const root = ( Array.from(document.getElementsByClassName( \"treescope_out_0ea07c204e674958b8117b9fa7ba72f8\")) .filter((elt) => !elt.dataset['step0']) )[0]; root.dataset['step0'] = 1; root.defns.insertContent( this.parentNode.querySelector('script[type=\"application/octet-stream\"]'), true ); this.parentNode.remove(); </script></treescope-run-here> </div>"
      ],
      "text/plain": [
       "<IPython.core.display.HTML object>"
      ]
     },
     "metadata": {},
     "output_type": "display_data"
    },
    {
     "data": {
      "text/html": [
       "<treescope-run-here><script type=\"application/octet-stream\"> const root = ( Array.from(document.getElementsByClassName( \"treescope_out_0ea07c204e674958b8117b9fa7ba72f8\")) .filter((elt) => !elt.dataset.stolen) )[0]; root.dataset.stolen = 1; this.parentNode.replaceChild(root, this); </script></treescope-run-here>"
      ],
      "text/plain": [
       "[3.65625,\n",
       " 0.3046875,\n",
       " 0.84765625,\n",
       " 5.78125,\n",
       " 8.1875,\n",
       " 2.59375,\n",
       " 11.0,\n",
       " 7.03125,\n",
       " 1.0390625,\n",
       " 1.6640625,\n",
       " 5.4375]"
      ]
     },
     "execution_count": 42,
     "metadata": {},
     "output_type": "execute_result"
    }
   ],
   "source": [
    "losses_features"
   ]
  },
  {
   "cell_type": "code",
   "execution_count": 48,
   "metadata": {},
   "outputs": [
    {
     "data": {
      "text/html": [
       "<script> (()=>{ if (customElements.get('treescope-container') === undefined) { class TreescopeContainer extends HTMLElement { constructor() { super(); this.attachShadow({mode: \"open\"}); this.defns = {}; this.state = {}; } } customElements.define(\"treescope-container\", TreescopeContainer); } if (customElements.get('treescope-run-here') === undefined) { class RunHere extends HTMLElement { constructor() { super() } connectedCallback() { const run = child => { const fn = new Function(child.textContent); child.textContent = \"\"; fn.call(this); this.remove(); }; const child = this.querySelector(\"script\"); if (child) { run(child); } else { new MutationObserver(()=>{ run(this.querySelector(\"script\")); }).observe(this, {childList: true}); } } } customElements.define(\"treescope-run-here\", RunHere); } })(); </script> <treescope-container class=\"treescope_out_3ad0e115fc994b6eb021e240cc0cffed\" ></treescope-container> <treescope-run-here><script type=\"application/octet-stream\"> const root = ( Array.from(document.getElementsByClassName( \"treescope_out_3ad0e115fc994b6eb021e240cc0cffed\")) .filter((elt) => !elt.dataset.setup) )[0]; root.dataset.setup = 1; const msg = document.createElement(\"span\"); msg.style = \"color: #aaaaaa; font-family: monospace; transition: opacity 0.2s; opacity: 0.0;\"; msg.textContent = \"(Loading...)\"; root.state.loadingMsg = msg; root.shadowRoot.appendChild(msg); root.state.chain = new Promise((resolve, reject) => { const observer = new IntersectionObserver((entries) => { for (const entry of entries) { if (entry.isIntersecting) { resolve(); observer.disconnect(); return; } } }, {rootMargin: \"1000px\"}); window.setTimeout(() => { if (root.loadingMsg) { root.loadingMsg.style.opacity = \"1.0\"; } observer.observe(root); }, 0); }); root.state.deferring = false; const _insertNode = (node) => { for (let oldScript of node.querySelectorAll(\"script\")) { let newScript = document.createElement(\"script\"); newScript.type = oldScript.type; newScript.textContent = oldScript.textContent; oldScript.parentNode.replaceChild(newScript, oldScript); } if (root.state.loadingMsg) { root.state.loadingMsg.remove(); root.state.loadingMsg = null; } root.shadowRoot.appendChild(node); }; root.defns.insertContent = ((contentNode, compressed) => { if (compressed) { root.state.deferring = true; } if (root.state.deferring) { root.state.chain = (async () => { await root.state.chain; if (compressed) { const encoded = contentNode.textContent; const blob = new Blob([ Uint8Array.from(atob(encoded), (m) => m.codePointAt(0)) ]); const reader = blob.stream().pipeThrough( new DecompressionStream(\"deflate\") ).pipeThrough( new TextDecoderStream(\"utf-8\") ).getReader(); const parts = []; while (true) { const step = await reader.read(); if (step.done) { break; } parts.push(step.value); } const tpl = document.createElement('template'); tpl.innerHTML = parts.join(\"\"); _insertNode(tpl.content); } else { _insertNode(contentNode.content); } })(); } else { _insertNode(contentNode.content); } }); </script></treescope-run-here><div style=\"display:none\"> <script type=\"application/octet-stream\" >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</script> <treescope-run-here><script type=\"application/octet-stream\"> const root = ( Array.from(document.getElementsByClassName( \"treescope_out_3ad0e115fc994b6eb021e240cc0cffed\")) .filter((elt) => !elt.dataset['step0']) )[0]; root.dataset['step0'] = 1; root.defns.insertContent( this.parentNode.querySelector('script[type=\"application/octet-stream\"]'), true ); this.parentNode.remove(); </script></treescope-run-here> </div>"
      ],
      "text/plain": [
       "<IPython.core.display.HTML object>"
      ]
     },
     "metadata": {},
     "output_type": "display_data"
    },
    {
     "data": {
      "text/html": [
       "<treescope-run-here><script type=\"application/octet-stream\"> const root = ( Array.from(document.getElementsByClassName( \"treescope_out_3ad0e115fc994b6eb021e240cc0cffed\")) .filter((elt) => !elt.dataset.stolen) )[0]; root.dataset.stolen = 1; this.parentNode.replaceChild(root, this); </script></treescope-run-here>"
      ],
      "text/plain": [
       "[4.25,\n",
       " 1.2578125,\n",
       " 2.15625,\n",
       " 4.84375,\n",
       " 6.03125,\n",
       " 3.84375,\n",
       " 9.5625,\n",
       " 6.8125,\n",
       " 2.703125,\n",
       " 2.90625,\n",
       " 6.09375]"
      ]
     },
     "execution_count": 48,
     "metadata": {},
     "output_type": "execute_result"
    }
   ],
   "source": [
    "losses_features"
   ]
  },
  {
   "cell_type": "code",
   "execution_count": 255,
   "metadata": {},
   "outputs": [
    {
     "data": {
      "application/vnd.jupyter.widget-view+json": {
       "model_id": "51a4b23526894a62b0e2de71ed49a2b5",
       "version_major": 2,
       "version_minor": 0
      },
      "text/plain": [
       "  0%|          | 0/19 [00:00<?, ?it/s]"
      ]
     },
     "metadata": {},
     "output_type": "display_data"
    }
   ],
   "source": [
    "from tqdm.auto import tqdm\n",
    "from functools import partial\n",
    "from micrlhf.utils.activation_manipulation import add_vector\n",
    "\n",
    "task_losses = {}\n",
    "\n",
    "n_few_shots, batch_size, max_seq_len = 20, 16, 256\n",
    "seed = 10\n",
    "\n",
    "prompt = \"<start_of_turn>user\\nFollow the pattern:\\n{}\"\n",
    "\n",
    "task_name = \"algo_first\"\n",
    "\n",
    "sep = 3978\n",
    "pad = 0\n",
    "\n",
    "pairs = list(tasks[task_name].items())\n",
    "\n",
    "n_shot_losses = []\n",
    "\n",
    "for n_shot in tqdm(range(2, 21)):\n",
    "    runner = ICLRunner(task_name, pairs, batch_size=batch_size, n_shot=n_shot, max_seq_len=max_seq_len, seed=seed, prompt=prompt)\n",
    "\n",
    "    tokenized = runner.get_tokens([\n",
    "        x for x in runner.train_pairs\n",
    "    ], tokenizer)\n",
    "\n",
    "    inputs = tokenized_to_inputs(**tokenized)\n",
    "    train_tokens = tokenized[\"input_ids\"]\n",
    "\n",
    "    logits, all_resids = get_resids_call(inputs)\n",
    "\n",
    "    icl_loss = logprob_loss(\n",
    "        logits.unwrap(\"batch\", \"seq\", \"vocabulary\"), train_tokens, shift=0, n_first=3, sep=sep, pad_token=0\n",
    "    )\n",
    "\n",
    "    tokenized = runner.get_tokens(runner.eval_pairs, tokenizer)\n",
    "    inputs = tokenized_to_inputs(**tokenized)\n",
    "    tokens = tokenized[\"input_ids\"]\n",
    "\n",
    "    logits = llama(inputs)\n",
    "\n",
    "    zero_loss = logprob_loss(\n",
    "        logits.unwrap(\"batch\", \"seq\", \"vocabulary\"), tokens, shift=0, n_first=3, sep=sep, pad_token=0\n",
    "    )\n",
    "\n",
    "\n",
    "    resids = all_resids[layer].value.unwrap(\n",
    "        \"batch\", \"seq\", \"embedding\"\n",
    "    )\n",
    "\n",
    "    tv = get_tv(resids, train_tokens, shift = 0, sep=sep)\n",
    "\n",
    "    add_act = make_act_adder(llama, tv.astype('bfloat16'), tokens, layer, length=1, shift= 0, sep=sep, scale=1)\n",
    "\n",
    "    logits = add_act(inputs)\n",
    "\n",
    "    tv_loss = logprob_loss(\n",
    "        logits.unwrap(\"batch\", \"seq\", \"vocabulary\"), tokens, shift=0, n_first=3, sep=sep, pad_token=0\n",
    "    )\n",
    "\n",
    "\n",
    "    arrow_pos = jnp.nonzero(tokens == sep)\n",
    "    arrow_pos_single = []\n",
    "    for i in range(runner.eval_batch_size):\n",
    "        arrow_pos_single.append(arrow_pos[1][arrow_pos[0] == i].max())\n",
    "\n",
    "    arrow_pos_single = np.array(arrow_pos_single)\n",
    "\n",
    "    hits = 0\n",
    "\n",
    "    logits = logits.unwrap(\"batch\", \"seq\", \"vocabulary\")\n",
    "\n",
    "    for i, (ap, l) in enumerate(zip(arrow_pos_single, logits)):\n",
    "        l = l.argmax(-1)\n",
    "        tgt = runner.eval_pairs[i][-1][1]\n",
    "        hits += int(tgt in repr(tokenizer.decode(l[ap:ap+3])))\n",
    "\n",
    "\n",
    "    n_shot_losses.append((icl_loss.tolist(), tv_loss.tolist(), hits / runner.eval_batch_size))"
   ]
  },
  {
   "cell_type": "code",
   "execution_count": 184,
   "metadata": {},
   "outputs": [],
   "source": [
    "logits = logits.unwrap(\"batch\", \"seq\", \"vocabulary\")"
   ]
  },
  {
   "cell_type": "code",
   "execution_count": 248,
   "metadata": {},
   "outputs": [
    {
     "data": {
      "text/html": [
       "<script> (()=>{ if (customElements.get('treescope-container') === undefined) { class TreescopeContainer extends HTMLElement { constructor() { super(); this.attachShadow({mode: \"open\"}); this.defns = {}; this.state = {}; } } customElements.define(\"treescope-container\", TreescopeContainer); } if (customElements.get('treescope-run-here') === undefined) { class RunHere extends HTMLElement { constructor() { super() } connectedCallback() { const run = child => { const fn = new Function(child.textContent); child.textContent = \"\"; fn.call(this); this.remove(); }; const child = this.querySelector(\"script\"); if (child) { run(child); } else { new MutationObserver(()=>{ run(this.querySelector(\"script\")); }).observe(this, {childList: true}); } } } customElements.define(\"treescope-run-here\", RunHere); } })(); </script> <treescope-container class=\"treescope_out_810a92537e7d407aa4220fee7085d2b4\" ></treescope-container> <treescope-run-here><script type=\"application/octet-stream\"> const root = ( Array.from(document.getElementsByClassName( \"treescope_out_810a92537e7d407aa4220fee7085d2b4\")) .filter((elt) => !elt.dataset.setup) )[0]; root.dataset.setup = 1; const msg = document.createElement(\"span\"); msg.style = \"color: #aaaaaa; font-family: monospace; transition: opacity 0.2s; opacity: 0.0;\"; msg.textContent = \"(Loading...)\"; root.state.loadingMsg = msg; root.shadowRoot.appendChild(msg); root.state.chain = new Promise((resolve, reject) => { const observer = new IntersectionObserver((entries) => { for (const entry of entries) { if (entry.isIntersecting) { resolve(); observer.disconnect(); return; } } }, {rootMargin: \"1000px\"}); window.setTimeout(() => { if (root.loadingMsg) { root.loadingMsg.style.opacity = \"1.0\"; } observer.observe(root); }, 0); }); root.state.deferring = false; const _insertNode = (node) => { for (let oldScript of node.querySelectorAll(\"script\")) { let newScript = document.createElement(\"script\"); newScript.type = oldScript.type; newScript.textContent = oldScript.textContent; oldScript.parentNode.replaceChild(newScript, oldScript); } if (root.state.loadingMsg) { root.state.loadingMsg.remove(); root.state.loadingMsg = null; } root.shadowRoot.appendChild(node); }; root.defns.insertContent = ((contentNode, compressed) => { if (compressed) { root.state.deferring = true; } if (root.state.deferring) { root.state.chain = (async () => { await root.state.chain; if (compressed) { const encoded = contentNode.textContent; const blob = new Blob([ Uint8Array.from(atob(encoded), (m) => m.codePointAt(0)) ]); const reader = blob.stream().pipeThrough( new DecompressionStream(\"deflate\") ).pipeThrough( new TextDecoderStream(\"utf-8\") ).getReader(); const parts = []; while (true) { const step = await reader.read(); if (step.done) { break; } parts.push(step.value); } const tpl = document.createElement('template'); tpl.innerHTML = parts.join(\"\"); _insertNode(tpl.content); } else { _insertNode(contentNode.content); } })(); } else { _insertNode(contentNode.content); } }); </script></treescope-run-here><div style=\"display:none\"> <script type=\"application/octet-stream\" >eNrFVk1v8zYM/iuCB7x1htpNkzYdnA/gvQw7DDtshx22wZAl2haqSJ4kN81e5L+Pkp2kSZxuw4otOSSiSD4PSZHSwrqthFXqDIBluoHcaO3IF9JoK5zQKiMGJHXiBeak1MolJV0Luc3IWittG8pQvqmFgyQsMtIYlEhhXRJcJ27boFRpheKCsufK6FbxhGmpTdaZzkm/KiQqoD/BXZ2RUjhUUw6Um5OGci5UlUgoXUYmrPYgCpIaRFWj5D599G6UowI5H8z6P8mLsKIQUjhkTlunD7qJUM4IZQVLrPgDut2e7m5x16VncUhPYlqFmAZllhnROOLjW97QppGCUZ+xO80c+OgN0PXNKo5HyxUmFPGsIxxKZcmSuFrYtAL3I2b7B80hHqW1ti4N+xgaOJI3oHzIn5n36o1++W1o5zuquATcVq2U8w4hRZo/aa1QGm+0eR6Rtxz0zyjyWydiJ5gXNmBKbdZUMUiV3sSjUF8EiC92SNIZLch0MkI/oiTxGetUgqpcTZZLMvYq71I34FqjMO8EpIUjsbpVntm5a1uL0nl+QcH/2eH3CkKMp0pxvUkN/N6CdZ+VWIdyfWvoGuIuJyPvY34B1LS27tI4H4hxD7Hswngnyr/PwbPoCul0VcmuK/PQOXhaG+/LS0C6WwIveMD7Snp2YZ0+w9YnPTKRJ9Qrp0xSa7/H5uz9xtHBZ77GYxjtwXcjzCce/3DGV4u7oQbg4oUEh8vodHxExNECI4XXZTSOiFZIBsNWqPfesR+ONfY2+ygjbLtuYKEFGAM8b3BmQK0lBxNOTBgkX9En/+1HVjDJiHAUexRjS0tUpwVCKeRwZdjtyKla3rFDbS4sgm73Q+1ckayIpAXILCsA+wXesGLhMx/E6wZbcu8nWz8Ax/MjllBh3BVS+wl5FbPWL2AukTk1zxZohWVSl9aZ0i4+E9XUxqvgczWYh2CTsRrYM/DRiHw9OnLwpsNGe/0ThmFCZ+Tm18ljwW7+T3qnRldJzv4Dkr6OHrg11hew0XhPgRnAFfbjYEMrBKAk9Ju9dsY/BvUYnoNXd4mSCpuXwliXa5X74z/QWu+1Ujp59N00WCryr+l3FT+n6KNaU1Phy6KjERp6h5cV9dNqQ43CiyHfp3s/GcqSsvvpgGKD0/7L4fVj+seO99mj9KJknIZgj0+sLDyQqEkqQ7nAasb300cO1S3RhqoKyJiM0xmrb4nDNb7eDOp0IhKugQEqF+F+0LE/y9k+mF26qUHlmCRJGwv8r4fvPwZ/B6EbuQEjKMFrgzf5VZ2P4DEEcf4WxUopIvgyOlyBEz4ZP8CMMT55epg9zb6BR1zMeAFT/vQwmUa9UX9Zn94c5xVF5Y72Qqim7d+3USBa6Ndo0EkfE2528eCDIRjjb+/rLf7Q1R2tPkk3V+262aYKbytDt5hbN53E97NbzE6akk+V8y8SdLQ6+3nr/CSN0VETHyurPwG7X5MP</script> <treescope-run-here><script type=\"application/octet-stream\"> const root = ( Array.from(document.getElementsByClassName( \"treescope_out_810a92537e7d407aa4220fee7085d2b4\")) .filter((elt) => !elt.dataset['step0']) )[0]; root.dataset['step0'] = 1; root.defns.insertContent( this.parentNode.querySelector('script[type=\"application/octet-stream\"]'), true ); this.parentNode.remove(); </script></treescope-run-here> </div>"
      ],
      "text/plain": [
       "<IPython.core.display.HTML object>"
      ]
     },
     "metadata": {},
     "output_type": "display_data"
    },
    {
     "data": {
      "text/html": [
       "<div style=\"display:none\"> <script type=\"application/octet-stream\" >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</script> <treescope-run-here><script type=\"application/octet-stream\"> const root = ( Array.from(document.getElementsByClassName( \"treescope_out_810a92537e7d407aa4220fee7085d2b4\")) .filter((elt) => !elt.dataset['step1']) )[0]; root.dataset['step1'] = 1; root.defns.insertContent( this.parentNode.querySelector('script[type=\"application/octet-stream\"]'), true ); this.parentNode.remove(); </script></treescope-run-here> </div>"
      ],
      "text/plain": [
       "<IPython.core.display.HTML object>"
      ]
     },
     "metadata": {},
     "output_type": "display_data"
    },
    {
     "data": {
      "text/html": [
       "<treescope-run-here><script type=\"application/octet-stream\"> const root = ( Array.from(document.getElementsByClassName( \"treescope_out_810a92537e7d407aa4220fee7085d2b4\")) .filter((elt) => !elt.dataset.stolen) )[0]; root.dataset.stolen = 1; this.parentNode.replaceChild(root, this); </script></treescope-run-here>"
      ],
      "text/plain": [
       "array([22, 22, 22, 22, 22, 22, 22, 22, 22, 22, 22, 22, 22, 22, 22, 22],\n",
       "      dtype=int32)"
      ]
     },
     "execution_count": 248,
     "metadata": {},
     "output_type": "execute_result"
    }
   ],
   "source": [
    "\n",
    "arrow_pos = jnp.nonzero(tokens == sep)\n",
    "arrow_pos_single = []\n",
    "for i in range(batch_size):\n",
    "    arrow_pos_single.append(arrow_pos[1][arrow_pos[0] == i].max())\n",
    "\n",
    "arrow_pos_single = np.array(arrow_pos_single)\n",
    "\n",
    "arrow_pos_single"
   ]
  },
  {
   "cell_type": "code",
   "execution_count": 247,
   "metadata": {},
   "outputs": [
    {
     "data": {
      "text/html": [
       "<script> (()=>{ if (customElements.get('treescope-container') === undefined) { class TreescopeContainer extends HTMLElement { constructor() { super(); this.attachShadow({mode: \"open\"}); this.defns = {}; this.state = {}; } } customElements.define(\"treescope-container\", TreescopeContainer); } if (customElements.get('treescope-run-here') === undefined) { class RunHere extends HTMLElement { constructor() { super() } connectedCallback() { const run = child => { const fn = new Function(child.textContent); child.textContent = \"\"; fn.call(this); this.remove(); }; const child = this.querySelector(\"script\"); if (child) { run(child); } else { new MutationObserver(()=>{ run(this.querySelector(\"script\")); }).observe(this, {childList: true}); } } } customElements.define(\"treescope-run-here\", RunHere); } })(); </script> <treescope-container class=\"treescope_out_f2aa0b60eec44c33a811599d368fd7ea\" ></treescope-container> <treescope-run-here><script type=\"application/octet-stream\"> const root = ( Array.from(document.getElementsByClassName( \"treescope_out_f2aa0b60eec44c33a811599d368fd7ea\")) .filter((elt) => !elt.dataset.setup) )[0]; root.dataset.setup = 1; const msg = document.createElement(\"span\"); msg.style = \"color: #aaaaaa; font-family: monospace; transition: opacity 0.2s; opacity: 0.0;\"; msg.textContent = \"(Loading...)\"; root.state.loadingMsg = msg; root.shadowRoot.appendChild(msg); root.state.chain = new Promise((resolve, reject) => { const observer = new IntersectionObserver((entries) => { for (const entry of entries) { if (entry.isIntersecting) { resolve(); observer.disconnect(); return; } } }, {rootMargin: \"1000px\"}); window.setTimeout(() => { if (root.loadingMsg) { root.loadingMsg.style.opacity = \"1.0\"; } observer.observe(root); }, 0); }); root.state.deferring = false; const _insertNode = (node) => { for (let oldScript of node.querySelectorAll(\"script\")) { let newScript = document.createElement(\"script\"); newScript.type = oldScript.type; newScript.textContent = oldScript.textContent; oldScript.parentNode.replaceChild(newScript, oldScript); } if (root.state.loadingMsg) { root.state.loadingMsg.remove(); root.state.loadingMsg = null; } root.shadowRoot.appendChild(node); }; root.defns.insertContent = ((contentNode, compressed) => { if (compressed) { root.state.deferring = true; } if (root.state.deferring) { root.state.chain = (async () => { await root.state.chain; if (compressed) { const encoded = contentNode.textContent; const blob = new Blob([ Uint8Array.from(atob(encoded), (m) => m.codePointAt(0)) ]); const reader = blob.stream().pipeThrough( new DecompressionStream(\"deflate\") ).pipeThrough( new TextDecoderStream(\"utf-8\") ).getReader(); const parts = []; while (true) { const step = await reader.read(); if (step.done) { break; } parts.push(step.value); } const tpl = document.createElement('template'); tpl.innerHTML = parts.join(\"\"); _insertNode(tpl.content); } else { _insertNode(contentNode.content); } })(); } else { _insertNode(contentNode.content); } }); </script></treescope-run-here><div style=\"display:none\"> <script type=\"application/octet-stream\" >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</script> <treescope-run-here><script type=\"application/octet-stream\"> const root = ( Array.from(document.getElementsByClassName( \"treescope_out_f2aa0b60eec44c33a811599d368fd7ea\")) .filter((elt) => !elt.dataset['step0']) )[0]; root.dataset['step0'] = 1; root.defns.insertContent( this.parentNode.querySelector('script[type=\"application/octet-stream\"]'), true ); this.parentNode.remove(); </script></treescope-run-here> </div>"
      ],
      "text/plain": [
       "<IPython.core.display.HTML object>"
      ]
     },
     "metadata": {},
     "output_type": "display_data"
    },
    {
     "data": {
      "text/html": [
       "<treescope-run-here><script type=\"application/octet-stream\"> const root = ( Array.from(document.getElementsByClassName( \"treescope_out_f2aa0b60eec44c33a811599d368fd7ea\")) .filter((elt) => !elt.dataset.stolen) )[0]; root.dataset.stolen = 1; this.parentNode.replaceChild(root, this); </script></treescope-run-here>"
      ],
      "text/plain": [
       "[[('student, close, wife, paper', 'student')],\n",
       " [('order, material, bill, start', 'order')],\n",
       " [('difference, problem, camera, in', 'difference')],\n",
       " [('show, talk, behind, section', 'show')],\n",
       " [('authority, king, share, personal', 'authority')],\n",
       " [('committee, candidate, university, give', 'committee')],\n",
       " [('truth, sell, bad, hard', 'truth')],\n",
       " [('statement, discussion, kind, war', 'statement')],\n",
       " [('tax, party, certainly, professor', 'tax')],\n",
       " [('exactly, department, push, officer', 'exactly')],\n",
       " [('minute, knowledge, get, price', 'minute')],\n",
       " [('everything, prepare, yet, purpose', 'everything')],\n",
       " [('case, force, small, project', 'case')],\n",
       " [('computer, case, road, opportunity', 'computer')],\n",
       " [('weapon, shoot, open, figure', 'weapon')],\n",
       " [('set, former, american, hold', 'set')],\n",
       " [('article, require, earth, impact', 'article')],\n",
       " [('affect, shit, respond, health', 'affect')],\n",
       " [('industry, i, serious, save', 'industry')],\n",
       " [('fine, memory, lot, term', 'fine')],\n",
       " [('discuss, whole, do, specific', 'discuss')],\n",
       " [('fail, try, raise, song', 'fail')],\n",
       " [('suggest, own, make, office', 'suggest')],\n",
       " [('society, morning, form, carry', 'society')],\n",
       " [('benefit, military, deal, state', 'benefit')],\n",
       " [('for, authority, experience, much', 'for')],\n",
       " [('light, brain, war, good', 'light')],\n",
       " [('identify, must, committee, speak', 'identify')],\n",
       " [('congress, legal, treat, next', 'congress')],\n",
       " [('rest, accept, theory, under', 'rest')],\n",
       " [('suggest, own, make, office', 'suggest')],\n",
       " [('simply, need, sign, long', 'simply')]]"
      ]
     },
     "execution_count": 247,
     "metadata": {},
     "output_type": "execute_result"
    }
   ],
   "source": [
    "runner.eval_pairs"
   ]
  },
  {
   "cell_type": "code",
   "execution_count": 236,
   "metadata": {},
   "outputs": [
    {
     "name": "stdout",
     "output_type": "stream",
     "text": [
      "better ' better,\\n\\n'\n",
      "book '  ,\\n\\n'\n",
      "cut '  ,\\n\\n'\n",
      "defense '  ,\\n\\n'\n",
      "sign '  ,\\n\\n'\n",
      "official '  ,\\n\\n'\n",
      "artist ' artist,\\n\\n'\n",
      "think ' think,\\n\\n'\n",
      "south ' south,\\n\\n'\n",
      "truth '  ,\\n\\n'\n",
      "shit '  ,\\n\\n'\n",
      "free ' economic,\\n\\n'\n",
      "author '  ,\\n\\n'\n",
      "see '  ,\\n\\n'\n",
      "walk ' walk,\\n\\n'\n",
      "job '  ,\\n\\n'\n"
     ]
    }
   ],
   "source": [
    "for i, (ap, l) in enumerate(zip(arrow_pos_single, logits)):\n",
    "    l = l.argmax(-1)\n",
    "    tgt = runner.eval_pairs[i][-1][1]\n",
    "    print(tgt, repr(tokenizer.decode(l[ap:ap+3])))"
   ]
  },
  {
   "cell_type": "code",
   "execution_count": 21,
   "metadata": {},
   "outputs": [
    {
     "data": {
      "text/html": [
       "<script> (()=>{ if (customElements.get('treescope-container') === undefined) { class TreescopeContainer extends HTMLElement { constructor() { super(); this.attachShadow({mode: \"open\"}); this.defns = {}; this.state = {}; } } customElements.define(\"treescope-container\", TreescopeContainer); } if (customElements.get('treescope-run-here') === undefined) { class RunHere extends HTMLElement { constructor() { super() } connectedCallback() { const run = child => { const fn = new Function(child.textContent); child.textContent = \"\"; fn.call(this); this.remove(); }; const child = this.querySelector(\"script\"); if (child) { run(child); } else { new MutationObserver(()=>{ run(this.querySelector(\"script\")); }).observe(this, {childList: true}); } } } customElements.define(\"treescope-run-here\", RunHere); } })(); </script> <treescope-container class=\"treescope_out_73a308a6de9649eeabca119780188fd0\" ></treescope-container> <treescope-run-here><script type=\"application/octet-stream\"> const root = ( Array.from(document.getElementsByClassName( \"treescope_out_73a308a6de9649eeabca119780188fd0\")) .filter((elt) => !elt.dataset.setup) )[0]; root.dataset.setup = 1; const msg = document.createElement(\"span\"); msg.style = \"color: #aaaaaa; font-family: monospace; transition: opacity 0.2s; opacity: 0.0;\"; msg.textContent = \"(Loading...)\"; root.state.loadingMsg = msg; root.shadowRoot.appendChild(msg); root.state.chain = new Promise((resolve, reject) => { const observer = new IntersectionObserver((entries) => { for (const entry of entries) { if (entry.isIntersecting) { resolve(); observer.disconnect(); return; } } }, {rootMargin: \"1000px\"}); window.setTimeout(() => { if (root.loadingMsg) { root.loadingMsg.style.opacity = \"1.0\"; } observer.observe(root); }, 0); }); root.state.deferring = false; const _insertNode = (node) => { for (let oldScript of node.querySelectorAll(\"script\")) { let newScript = document.createElement(\"script\"); newScript.type = oldScript.type; newScript.textContent = oldScript.textContent; oldScript.parentNode.replaceChild(newScript, oldScript); } if (root.state.loadingMsg) { root.state.loadingMsg.remove(); root.state.loadingMsg = null; } root.shadowRoot.appendChild(node); }; root.defns.insertContent = ((contentNode, compressed) => { if (compressed) { root.state.deferring = true; } if (root.state.deferring) { root.state.chain = (async () => { await root.state.chain; if (compressed) { const encoded = contentNode.textContent; const blob = new Blob([ Uint8Array.from(atob(encoded), (m) => m.codePointAt(0)) ]); const reader = blob.stream().pipeThrough( new DecompressionStream(\"deflate\") ).pipeThrough( new TextDecoderStream(\"utf-8\") ).getReader(); const parts = []; while (true) { const step = await reader.read(); if (step.done) { break; } parts.push(step.value); } const tpl = document.createElement('template'); tpl.innerHTML = parts.join(\"\"); _insertNode(tpl.content); } else { _insertNode(contentNode.content); } })(); } else { _insertNode(contentNode.content); } }); </script></treescope-run-here><div style=\"display:none\"> <script type=\"application/octet-stream\" >eNrFVt9vo0YQ/ldWVLpAdRDHOTsnbCPlpepD1Yf2oQ9tZS0wwNbrXbo7JPFV+d87u2A7tnFUqafWPBhmZ+b75icsLe4kZAkaAFvoFtZGa2R/sVZbgUKrlBmQHMUTLFilFcYV3wq5S9lWK21bXpD8uREIsX9IWWtIIoXF2LuOcdeSVGlF4pwXm9roTpVxoaU2aW+6YMNTLkmB/IkSm5RVAklNIShcsJaXpVB1LKHClE2LxoEoiBsQdUOSu2Tm3CjkgjgfzIab+ElYkQspkJjzDvVBNxYKjVBWFLEVX6A/Hei+Lm/79CwP6YlNpwjTkMwWRrTIXHyrG962UhTcZexWFwguegN8e5OFYbTKKKGEZ5GVUCnLVgwbYZMa8CfK9o+6hDBKGm0x8ecUGiBbt6BcyI+F8+qMfv197OR7rkoJdKw6KRc9QkI0f9ZakTR81mYTsbcc9C8kckcnYhSFE7ZgKm22XBWQKP0cRr6+BBBenLC4N1qy+2lEfkTFwjPWiQRVY8NWKzZxKu9SN4CdUZR3BtLCkVjTKcfs3LVtRIWOn1dwN690XUEIqatUqZ8TA392YPFRia0v13eGbyHscxI5H4sLoLazTZ/GxUiMe4hVH8Y7Uf5zDo5FX0jUdS37qVz7yaFubZ0vJwGJHxk8UYMPlXTs/HOygZ1LemACR2hQTgrJrf2BhnPwGwYHn+sttWGwB3+NKJ/U/r7Hs+Xt2ACU4ol5h6vgdH0EDHlOkcLLKpgETCsiQ2Er0nuv7cdjDZ3NPsqAxq5fWGQBxkC5bmlnQKNlCcZ3jF8k3/AHdw0ry5ukTCCnGaXYkorUeU5QijhcWXav7FRt3bMj7VJYAt3tl9q5IsuY5DnINM2B5gXesCr8bzGK1y+2+M5ttmEBThZHLKH8usuldhvyKmajn8BcIpfcbCzwmsqkLq1TpTE8EzXchpn3mY3mwdukRQPFBsooYt9GRw7OdNxor3/C0G/olN38Np3lxc3/Se/U6CrJ+X9A0tXRAXfGugK2mt5TYEZwhf16sH4UPFDs581e6/Gvg3oMD+EFL1ESYdeVMBbXWq1d+4+M1nujlExnbppGS8X+Nf2+4ucUXVRbbmr6suhp+IE+fknQV5JiolwFhwU2LWZQ5lAU/H7yqczn/OHhMzyU8/LT5+lkNq+CwWhYtadzfw5Pyn0QS6Habvg6CTztXL8Eo06GCOmwj47WvTem/8HXW/yxxRtkHyQu/uAvyaMxfEfLCu+n4d38Y8SSJGEfanTvEnKSnf/ROyT7Gzxutyc=</script> <treescope-run-here><script type=\"application/octet-stream\"> const root = ( Array.from(document.getElementsByClassName( \"treescope_out_73a308a6de9649eeabca119780188fd0\")) .filter((elt) => !elt.dataset['step0']) )[0]; root.dataset['step0'] = 1; root.defns.insertContent( this.parentNode.querySelector('script[type=\"application/octet-stream\"]'), true ); this.parentNode.remove(); </script></treescope-run-here> </div>"
      ],
      "text/plain": [
       "<IPython.core.display.HTML object>"
      ]
     },
     "metadata": {},
     "output_type": "display_data"
    },
    {
     "data": {
      "text/html": [
       "<div style=\"display:none\"> <script type=\"application/octet-stream\" >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</script> <treescope-run-here><script type=\"application/octet-stream\"> const root = ( Array.from(document.getElementsByClassName( \"treescope_out_73a308a6de9649eeabca119780188fd0\")) .filter((elt) => !elt.dataset['step1']) )[0]; root.dataset['step1'] = 1; root.defns.insertContent( this.parentNode.querySelector('script[type=\"application/octet-stream\"]'), true ); this.parentNode.remove(); </script></treescope-run-here> </div>"
      ],
      "text/plain": [
       "<IPython.core.display.HTML object>"
      ]
     },
     "metadata": {},
     "output_type": "display_data"
    },
    {
     "data": {
      "text/html": [
       "<treescope-run-here><script type=\"application/octet-stream\"> const root = ( Array.from(document.getElementsByClassName( \"treescope_out_73a308a6de9649eeabca119780188fd0\")) .filter((elt) => !elt.dataset.stolen) )[0]; root.dataset.stolen = 1; this.parentNode.replaceChild(root, this); </script></treescope-run-here>"
      ],
      "text/plain": [
       "<jax.Array([31, 38, 35, 31, 35, 30, 38, 31, 30, 38, 35, 33, 31, 38, 27, 35],      dtype=int32)>"
      ]
     },
     "execution_count": 21,
     "metadata": {},
     "output_type": "execute_result"
    }
   ],
   "source": [
    "arrow_pos = jnp.nonzero(tokens == sep)[1]\n",
    "arrow_pos"
   ]
  },
  {
   "cell_type": "code",
   "execution_count": 69,
   "metadata": {},
   "outputs": [
    {
     "data": {
      "text/html": [
       "<script> (()=>{ if (customElements.get('treescope-container') === undefined) { class TreescopeContainer extends HTMLElement { constructor() { super(); this.attachShadow({mode: \"open\"}); this.defns = {}; this.state = {}; } } customElements.define(\"treescope-container\", TreescopeContainer); } if (customElements.get('treescope-run-here') === undefined) { class RunHere extends HTMLElement { constructor() { super() } connectedCallback() { const run = child => { const fn = new Function(child.textContent); child.textContent = \"\"; fn.call(this); this.remove(); }; const child = this.querySelector(\"script\"); if (child) { run(child); } else { new MutationObserver(()=>{ run(this.querySelector(\"script\")); }).observe(this, {childList: true}); } } } customElements.define(\"treescope-run-here\", RunHere); } })(); </script> <treescope-container class=\"treescope_out_921f5ca1012546c780135e40f4a7ade6\" ></treescope-container> <treescope-run-here><script type=\"application/octet-stream\"> const root = ( Array.from(document.getElementsByClassName( \"treescope_out_921f5ca1012546c780135e40f4a7ade6\")) .filter((elt) => !elt.dataset.setup) )[0]; root.dataset.setup = 1; const msg = document.createElement(\"span\"); msg.style = \"color: #aaaaaa; font-family: monospace; transition: opacity 0.2s; opacity: 0.0;\"; msg.textContent = \"(Loading...)\"; root.state.loadingMsg = msg; root.shadowRoot.appendChild(msg); root.state.chain = new Promise((resolve, reject) => { const observer = new IntersectionObserver((entries) => { for (const entry of entries) { if (entry.isIntersecting) { resolve(); observer.disconnect(); return; } } }, {rootMargin: \"1000px\"}); window.setTimeout(() => { if (root.loadingMsg) { root.loadingMsg.style.opacity = \"1.0\"; } observer.observe(root); }, 0); }); root.state.deferring = false; const _insertNode = (node) => { for (let oldScript of node.querySelectorAll(\"script\")) { let newScript = document.createElement(\"script\"); newScript.type = oldScript.type; newScript.textContent = oldScript.textContent; oldScript.parentNode.replaceChild(newScript, oldScript); } if (root.state.loadingMsg) { root.state.loadingMsg.remove(); root.state.loadingMsg = null; } root.shadowRoot.appendChild(node); }; root.defns.insertContent = ((contentNode, compressed) => { if (compressed) { root.state.deferring = true; } if (root.state.deferring) { root.state.chain = (async () => { await root.state.chain; if (compressed) { const encoded = contentNode.textContent; const blob = new Blob([ Uint8Array.from(atob(encoded), (m) => m.codePointAt(0)) ]); const reader = blob.stream().pipeThrough( new DecompressionStream(\"deflate\") ).pipeThrough( new TextDecoderStream(\"utf-8\") ).getReader(); const parts = []; while (true) { const step = await reader.read(); if (step.done) { break; } parts.push(step.value); } const tpl = document.createElement('template'); tpl.innerHTML = parts.join(\"\"); _insertNode(tpl.content); } else { _insertNode(contentNode.content); } })(); } else { _insertNode(contentNode.content); } }); </script></treescope-run-here><div style=\"display:none\"> <script type=\"application/octet-stream\" >eNrFVktv4zYQ/iuECmykYqV4vZtsLD+AXIoeih7aQw9tYVDUSGJNkyo5duIt8t87pGQ7tuWgQBetdbA0nJnvm6c0c7hTsMjQAjhhWlhaY5D9xVrjJEqjc2ZBcZRbmLLKaEwrvpZql7O10ca1XJD8qZEIaXjIWWtJoqTDNLhOcdeSVBtN4oKLVW3NRpepMMrYvDOdsv6pUKRA/mSJTc4qiaSmETROWcvLUuo6VVBhzsai8SAa0gZk3ZDkQ3bn3WjkkjgfzPqbdCudLKSSSMz5Bs1BN5UardROitTJL9Cd9nRfZrddemaH9KR2ownTkswJK1tkPr75DW9bJQX3Gbs1AsFHb4GvbxZxnMwXlFDCc8hKqLRjc4aNdFkN+BNl+0dTQpxkjXGYhXMKDZAtW9A+5EfhvXqjX38fOvme61IBHeuNUtMOISOaPxujSRo/GbtK2GsO5hcS+aMTMUrhhS3Yytg11wIybZ7iJNSXAOKLE5Z2RjP2cZyQH1mx+Ix1pkDX2LD5nI28ypvULeDGaso7A+XgSKzZaM/s3LVrZIWeX1DwNy90XUGIqat0aZ4yC39uwOGjlutQru8sX0Pc5STxPqYXQO3GNV0apwMx7iHmXRhvRPnPOXgWXSHR1LXqpnIZJoe6tfW+vAQUvmewpQbvK+nZhedsBTuf9MhGnlCvnAnFnfuBhrP3G0cHn8s1tWG0B39JKJ/U/qHHF7PboQEo5ZYFh/PodH1EDHlBkcLzPBpFzGgiQ2Fr0nur7Ydjjb3NPsqIxq5bWGQB1kK5bGlnQGNUCTZ0TFgk3/DP/upXVjDJmUROM0qxZRWp84KgNHG4suxe2KnasmNH2qV0BLrbL7VzRbZgiheg8rwAmhd4xUqE33QQr1ts6Qe/2foFOJoesaQO665Qxm/Iq5iN2YK9RC65XTngNZVJX1rn2mB8Jmq4ixfB52IwD8EmFw2IFZRJwr5Njhy86bDRXv+EYdjQObv5bXxXiJv/k96p0VWS9/8BSV9HD7yxzhewNfSeAjuAK93Xgw2jEIDSMG/uWo9/HdRjeAjPeImSSbespHW4NHrp239gtN4apWx856dpsFTsX9PvKn5O0Ue15ramL4uORhjo45cEfSVpJst5dFhgvKrGxSfxMBqJ+0/3k9FkUogJPDzApPhMvSai3qhftadzfw5Pyl0QM6nbTf91EgXahXmOBp30EdJhFx2t+2BM/72v1/hDizdavFM4/YM/Z4/W8h0tK/w4jsd39+8TlmUZe1ejf5mQl8X5H71EFn8DoRu3EQ==</script> <treescope-run-here><script type=\"application/octet-stream\"> const root = ( Array.from(document.getElementsByClassName( \"treescope_out_921f5ca1012546c780135e40f4a7ade6\")) .filter((elt) => !elt.dataset['step0']) )[0]; root.dataset['step0'] = 1; root.defns.insertContent( this.parentNode.querySelector('script[type=\"application/octet-stream\"]'), true ); this.parentNode.remove(); </script></treescope-run-here> </div>"
      ],
      "text/plain": [
       "<IPython.core.display.HTML object>"
      ]
     },
     "metadata": {},
     "output_type": "display_data"
    },
    {
     "data": {
      "text/html": [
       "<div style=\"display:none\"> <script type=\"application/octet-stream\" >eNrtGulS20j6/z5FR6kd7AELyfcB1MrGFwkQMAmE2ZSnLbWlxrIkpLaNmcoDzHvsvtg8yX4tybbkiyOZ7NbWmCrLkr777m4ONDpGHpua5FDQqOeYeFpGlm0RAVHtUOjbblcjfeK6ROvifj/dy6pFSVLz2XxJKpV6aokUi6TUK+R6eVU4OvAcbME3p3ck9mzG7KFJLVK2bJYQ+7ap4Z5JupatkbKBvcSRiXvEPIq/6TJb180Ap6waRB0QLZlEPyfRb8jBmkYtPcVsp4wkUc6RYQVxDimDUN1gZSSL/rPHFLU08gD3FeTYHmXUtsrIJSZmdEwq6Kuo2iYoh3s9l4yBsn9bRm/zxTSWpAWAag+HxGLdiUGsLnkA/TSifTd9Zlyx/1lwtUbDHnEjAFKpKOfyCwCPuWCHKIWMnJNzcwBwFzfLAqBnYnVQQT341l17ZGmp8MUYu4lUqmfa6iB4lAQo29WIG1hZdh6QZ5tU2wYZuPop4K9INKYOcUGyQdclQ5uRrmGPQdFloVfFtAemaiSK2b9zt2dzSJZKAcUJ9rqe6tqmCejMFvvU9ViXUXXwbKqlrChzulIJyZm8WFhL2PffVnbJFYbMxdYs9paZI9lDBHsEAjVlj9ge6tsWS038MF56x736bcEGgjnT3gicZIFYsUT3dV28Lpd7BLI+iByLQeiXkYCEJSh0hHiqrwX+J5GzGiD4+vTxkJrAaecUM+JSbKLOdNizTQ+djxi3koZqASZcnelOBYEJegMKmBzdG9o2MyDSywhbDNApWEWrzKOeSPwP7keuxx84NgVibsjco4+El4kSrwhxLYOwW6OFT1fD7sAjWHcJsZYw/QBQTcoNO8fHfRbLVtX/bOe5hBNnGTV9mEoaZjiFLXAs5gGVjD7mTCBoo+G2LsZepspcAnAMJdqbuCQ+S/SGDh3bZeCbZdo91x5AxeRPQsWfZd0IWsSeMzd/FQ3V6IKgKumapM8iHYHfcl/nVCMO5/oJtQB0gz4xh+R9AlTVuqpBTc0lVqg8pr4VfSv4UsYBv1sLmCejXysraIhdHdwV6KNiU02kVQOleGkN6pLHMMefy/unSRLW9kASDSo8hAkv8BF33I+waeEh6Tou6dMHIBJLvKKfeCsSb7LwMty8nAaSQIzGQX64DyQxqxrJ58j6Y5wStFpfqrUNNzYu+XpA2JsG+hklZFAnihLS9QCKJJPJuQ0WqKnn4874zsYCH3NOcvY0FT7+gdZcDDa+BVMu1ujICxWUyRC026yYL+k39uGnQvy32OwV+Jfn3DNmr+3AX0Wg+KfM4gsnf8s47s/XIKyJHejwa4eUbzT9Zg7U4jIHQ190zN8A8z3kWMciVDQA8CdFGPKdtaZg0Ds9aJLQ3mBAEufA3SEwRlsoLKsKwj0J+BxmG+mEIh/sB4vCgzmxlDuyIExceAbzNHUYYrA2ONzBDoSp6s84+7bKCHQTwMHDnSPaRwn0RnFdPBX7rj1MaLY64oszkTcdTxxjc0S8RDIpevaQJPxWhA6P/KsYDKLo8PC5o6iwAwN9sEazPIY8gxCghiwyQbVOp8O16fBnCUgu/6XoElBZJZ2ppSZ+/Uc4/qpk1hRfPgoHvZRz4nZ0h9isRFcJZZTlK1XPVcto5JoJPpeV+fv9iQ1L9UoPJr98dk+TSs1TXakq/qd9oSi2/6t6OYHvVkNR6sq2T3WoKPrAfqe169Xa5LOiXH2unSin7WpNaegP7dZ7g3nVU0r0TOP4Jv2+nf887jgj+uE0dyWf3LQvP52Or08f2Ydpo1HbvdYHV7R6LBn0+GJ0Utead1Krt98ftzXn/l3euL+m9GJ0ajWNVv8jUz7mq2duVmm0rUE9r34cjazdy9y96g0m437D3L9/0Ot2Ue+dTJpFuaXsW8pl7r3rnsiXu/qjdKlJyklf1s8KtUnzLq1L9nR0WSgM63J+0ropneu6Q64G0yxp9x5zas89bzKs6Bfts8kx9qbexajdvrmuNybKhwun/Vn7uL+/qxeuCjcZJvXffbhXxjmg+V45KyinE2WoP152dke3HVK/eUj38+rjWfayNc2Nqsq7x+qd03AytHVRq0u3ow/ZTsHqV9/XW43ToUJ3i+N62rBko7Db+zS5uZu03PFx82PNuuvX6zrbPVdvTbOQK9VOJtWiUcqenjY7meatog/bubvqRYldNUmrVK9W283MsZ693P+sTntKE3z66d2+ctHECjmtmUrrsX6u3zI9X/2gn5+3j6sDepEjjepNrdpQqeQYru1YEBvObf1YfpQHnX6tz4zpO6ul4YbX6ktnw2b9LF/VlPtPnxzMvM7tUNMwLaX7j6XsR3p3n3eGbv7c/lzrULc5HJ80M53rTqZRT6vVi/7Vbsu0nWa24U1yWL/PF+kt6ZyZzrVVbbWJduqS0fV9szaUrxvuoNN5yKXz19feRAGJkhDzEPssseOH9Q5vZr/C1zz7sWY7MJsuUtKDPP1FFMUtEHtBzn4BWrC+9ESdsEsobmdQ0RJJ0bA9Jmqkb3miAWUaCjpfkARrJaAN4WGpKBEsWZK8xMyqBE/BK5unL4CFSxr+zIPywEnwNRpf2OAJpgxZeEx1zGxXBMpOz8auJk5cysgVeWCJBS3e6wNaqok97z31uEpaQogs4ARehgi7okMCK71EIhRrBY9vu4zJCurXPZSWJMmfcaD4wjyZIMl1+D7fyCpNWAjHQOpZBTuEUi2gt6iBqQmFjdmIA7/xKxvMgRasG6AaU7AZwRpfZO5GbeeL8bUCTcPvDEcH+2vbBrRQ5Et2KMQ7XrgTOdvYjM1CsJzUesVsDlfWTXkwxlSEOOlYU0fU6wZbPrbl7/IAcND8D6jljMImJvjtvmc/CGuJhJMBoO77SHF+iy0yBvMyYYJvmdSATCHtjENhSbzYllM446H4Mll4jq3Cl0srOuHIIdYjposhwI9jB4Pjun1wIt/WEsFR/sZvcDmzIZdC6g5XOhF/f7AfWizKd2WNGB+MhS3QK6A2rPGphc0udGT38EXGFWO460wdbr0KRz+9fUgXKj+ZrHKHH0R/LIGAZpl0Ip3L7yXRL3/8/m95D/3x+7/SmVw3k85+4cPQI3HtMgD8pLNKQCFunL1VV81nVuEIzYBXgGYDZVzkncXWyg6yrRpP+MOdF1a8BIdP7qD5vs+hkDDxsKdhxAfCsv8dN1xSWOTeHA1Gnyfx+Abg8lYX4PlVgXsIfs+PGfa3XF4RLFR7bahQbW2gBJv4wlEpKxckqVTKlXKFUvr/zd1Ue42zAeu/6Gq/SL/S2Rx3W4f4/g1hy0GUsDU03q6Nn5UKz8tXCOhXsW1lehv3lZ3Ure+Fo+/ngOhZHhRmKMn+CxQU2Hl5Dis2VN4tIfQ/ll5c29ckmI/3vVLsuem3ZLu9v+z7IvtuHOsWJ+lo6WBDOEq+zDuxjRrhmybPHz0Yx7P8W0pkpMXyYvGMMJ2X0tfMetsFWC1HP6j++mokfkEIycUcrP8yOa4Mv2bkzB5/nJfSwfNSEe7lTEEqRN8jWSru/Q0FHx8sBOfk4FOSfLS0lC7497lCPkQrBXCF7PwaJZMPX8+u2WLANS2H4Pn175ek2QQmh8oWsxveL5GJgIU682uRKzu7X8MuA0pGyDwpvFzcKFWUjCyFtohJlSkVikvkpLlN1ngqs+KBTVJJK1JFbZONCz0H3ySVtGriiAlXpNrkIWnhyXVxs2yD0OGZMHpXlAPl1ylVyK6ir1MqvRrFr1AqasNnKLUUlmtMnY3HTXFvm1SxeFpiF5XmKeFnybBGqmVpZqbdZqs1YbmGTMwWW2wVDYB1GV7YHm4xMqFya+JmlulPmTzKbh2ZeabLG6R6EZmX2GgRxZszmHOPVMPFNaiS8CuaDPz2tde/yPxF5hXXL+EPzR88/WEt+YpFjkbHTx9aCpsOLYWj4FwgmKfbmn8yITz/P2q/VMJzBVvlyw/AXl0NVcKzBy5kCBSCi/cj4k47xCQqs92EsHSSK8xR+y7Wh8G2/fzMRAX5GTkObxshxCq7mmnDsuRwTkMEWxBLq/EZMzEDElUO5cvL3JH/vxR920UJkzBEAVmqwOVgYSbRJJbODHi6u8uPIThc8DLKCW7rJuE/q9M2MJth/0K/AAOO49kjVyXHdLzZKG/5/zjz84cl9OB2dqh7TZmRmFML/usz5O1ryk9f5m/DMxb/FGNugSihmO2ST5xz/AdWYG+o</script> <treescope-run-here><script type=\"application/octet-stream\"> const root = ( Array.from(document.getElementsByClassName( \"treescope_out_921f5ca1012546c780135e40f4a7ade6\")) .filter((elt) => !elt.dataset['step1']) )[0]; root.dataset['step1'] = 1; root.defns.insertContent( this.parentNode.querySelector('script[type=\"application/octet-stream\"]'), true ); this.parentNode.remove(); </script></treescope-run-here> </div>"
      ],
      "text/plain": [
       "<IPython.core.display.HTML object>"
      ]
     },
     "metadata": {},
     "output_type": "display_data"
    },
    {
     "data": {
      "text/html": [
       "<treescope-run-here><script type=\"application/octet-stream\"> const root = ( Array.from(document.getElementsByClassName( \"treescope_out_921f5ca1012546c780135e40f4a7ade6\")) .filter((elt) => !elt.dataset.stolen) )[0]; root.dataset.stolen = 1; this.parentNode.replaceChild(root, this); </script></treescope-run-here>"
      ],
      "text/plain": [
       "<jax.Array int32(256,) [≥1, ≤235_324] nonzero:256>"
      ]
     },
     "execution_count": 69,
     "metadata": {},
     "output_type": "execute_result"
    }
   ],
   "source": [
    "logits.argmax(-1)[0]"
   ]
  },
  {
   "cell_type": "code",
   "execution_count": 166,
   "metadata": {},
   "outputs": [
    {
     "name": "stdout",
     "output_type": "stream",
     "text": [
      "Follow the pattern:\n",
      "car, war, have, death -> war\n",
      "serious, go, understand, tree -> go\n",
      "car, important, never, data -> important\n",
      "president, face, word, color -> face\n",
      "product, hold, lady, worker -> hold\n",
      "sister, blood, too, bill -> blood\n",
      "central, little, per, high -> little\n",
      "energy, region, prawda, environment -> region\n",
      "pick, value, brain, state -> value\n",
      "floor, patient, attack, ask -> patient\n"
     ]
    }
   ],
   "source": [
    "prompts = [runner.get_prompt(p) for p in runner.train_pairs]\n",
    "print(prompts[0])"
   ]
  },
  {
   "cell_type": "code",
   "execution_count": 253,
   "metadata": {},
   "outputs": [
    {
     "data": {
      "text/html": [
       "<script> (()=>{ if (customElements.get('treescope-container') === undefined) { class TreescopeContainer extends HTMLElement { constructor() { super(); this.attachShadow({mode: \"open\"}); this.defns = {}; this.state = {}; } } customElements.define(\"treescope-container\", TreescopeContainer); } if (customElements.get('treescope-run-here') === undefined) { class RunHere extends HTMLElement { constructor() { super() } connectedCallback() { const run = child => { const fn = new Function(child.textContent); child.textContent = \"\"; fn.call(this); this.remove(); }; const child = this.querySelector(\"script\"); if (child) { run(child); } else { new MutationObserver(()=>{ run(this.querySelector(\"script\")); }).observe(this, {childList: true}); } } } customElements.define(\"treescope-run-here\", RunHere); } })(); </script> <treescope-container class=\"treescope_out_3df93291ab2e4018bd1ca4b5851b6fd6\" ></treescope-container> <treescope-run-here><script type=\"application/octet-stream\"> const root = ( Array.from(document.getElementsByClassName( \"treescope_out_3df93291ab2e4018bd1ca4b5851b6fd6\")) .filter((elt) => !elt.dataset.setup) )[0]; root.dataset.setup = 1; const msg = document.createElement(\"span\"); msg.style = \"color: #aaaaaa; font-family: monospace; transition: opacity 0.2s; opacity: 0.0;\"; msg.textContent = \"(Loading...)\"; root.state.loadingMsg = msg; root.shadowRoot.appendChild(msg); root.state.chain = new Promise((resolve, reject) => { const observer = new IntersectionObserver((entries) => { for (const entry of entries) { if (entry.isIntersecting) { resolve(); observer.disconnect(); return; } } }, {rootMargin: \"1000px\"}); window.setTimeout(() => { if (root.loadingMsg) { root.loadingMsg.style.opacity = \"1.0\"; } observer.observe(root); }, 0); }); root.state.deferring = false; const _insertNode = (node) => { for (let oldScript of node.querySelectorAll(\"script\")) { let newScript = document.createElement(\"script\"); newScript.type = oldScript.type; newScript.textContent = oldScript.textContent; oldScript.parentNode.replaceChild(newScript, oldScript); } if (root.state.loadingMsg) { root.state.loadingMsg.remove(); root.state.loadingMsg = null; } root.shadowRoot.appendChild(node); }; root.defns.insertContent = ((contentNode, compressed) => { if (compressed) { root.state.deferring = true; } if (root.state.deferring) { root.state.chain = (async () => { await root.state.chain; if (compressed) { const encoded = contentNode.textContent; const blob = new Blob([ Uint8Array.from(atob(encoded), (m) => m.codePointAt(0)) ]); const reader = blob.stream().pipeThrough( new DecompressionStream(\"deflate\") ).pipeThrough( new TextDecoderStream(\"utf-8\") ).getReader(); const parts = []; while (true) { const step = await reader.read(); if (step.done) { break; } parts.push(step.value); } const tpl = document.createElement('template'); tpl.innerHTML = parts.join(\"\"); _insertNode(tpl.content); } else { _insertNode(contentNode.content); } })(); } else { _insertNode(contentNode.content); } }); </script></treescope-run-here><div style=\"display:none\"> <script type=\"application/octet-stream\" >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</script> <treescope-run-here><script type=\"application/octet-stream\"> const root = ( Array.from(document.getElementsByClassName( \"treescope_out_3df93291ab2e4018bd1ca4b5851b6fd6\")) .filter((elt) => !elt.dataset['step0']) )[0]; root.dataset['step0'] = 1; root.defns.insertContent( this.parentNode.querySelector('script[type=\"application/octet-stream\"]'), true ); this.parentNode.remove(); </script></treescope-run-here> </div>"
      ],
      "text/plain": [
       "<IPython.core.display.HTML object>"
      ]
     },
     "metadata": {},
     "output_type": "display_data"
    },
    {
     "data": {
      "text/html": [
       "<treescope-run-here><script type=\"application/octet-stream\"> const root = ( Array.from(document.getElementsByClassName( \"treescope_out_3df93291ab2e4018bd1ca4b5851b6fd6\")) .filter((elt) => !elt.dataset.stolen) )[0]; root.dataset.stolen = 1; this.parentNode.replaceChild(root, this); </script></treescope-run-here>"
      ],
      "text/plain": [
       "[[('student, close, wife, paper', 'student')],\n",
       " [('order, material, bill, start', 'order')],\n",
       " [('difference, problem, camera, in', 'difference')],\n",
       " [('show, talk, behind, section', 'show')],\n",
       " [('authority, king, share, personal', 'authority')],\n",
       " [('committee, candidate, university, give', 'committee')],\n",
       " [('truth, sell, bad, hard', 'truth')],\n",
       " [('statement, discussion, kind, war', 'statement')],\n",
       " [('tax, party, certainly, professor', 'tax')],\n",
       " [('exactly, department, push, officer', 'exactly')],\n",
       " [('minute, knowledge, get, price', 'minute')],\n",
       " [('everything, prepare, yet, purpose', 'everything')],\n",
       " [('case, force, small, project', 'case')],\n",
       " [('computer, case, road, opportunity', 'computer')],\n",
       " [('weapon, shoot, open, figure', 'weapon')],\n",
       " [('set, former, american, hold', 'set')],\n",
       " [('article, require, earth, impact', 'article')],\n",
       " [('affect, shit, respond, health', 'affect')],\n",
       " [('industry, i, serious, save', 'industry')],\n",
       " [('fine, memory, lot, term', 'fine')],\n",
       " [('discuss, whole, do, specific', 'discuss')],\n",
       " [('fail, try, raise, song', 'fail')],\n",
       " [('suggest, own, make, office', 'suggest')],\n",
       " [('society, morning, form, carry', 'society')],\n",
       " [('benefit, military, deal, state', 'benefit')],\n",
       " [('for, authority, experience, much', 'for')],\n",
       " [('light, brain, war, good', 'light')],\n",
       " [('identify, must, committee, speak', 'identify')],\n",
       " [('congress, legal, treat, next', 'congress')],\n",
       " [('rest, accept, theory, under', 'rest')],\n",
       " [('suggest, own, make, office', 'suggest')],\n",
       " [('simply, need, sign, long', 'simply')]]"
      ]
     },
     "execution_count": 253,
     "metadata": {},
     "output_type": "execute_result"
    }
   ],
   "source": [
    "runner.eval_pairs"
   ]
  },
  {
   "cell_type": "code",
   "execution_count": 256,
   "metadata": {},
   "outputs": [
    {
     "data": {
      "text/html": [
       "<script> (()=>{ if (customElements.get('treescope-container') === undefined) { class TreescopeContainer extends HTMLElement { constructor() { super(); this.attachShadow({mode: \"open\"}); this.defns = {}; this.state = {}; } } customElements.define(\"treescope-container\", TreescopeContainer); } if (customElements.get('treescope-run-here') === undefined) { class RunHere extends HTMLElement { constructor() { super() } connectedCallback() { const run = child => { const fn = new Function(child.textContent); child.textContent = \"\"; fn.call(this); this.remove(); }; const child = this.querySelector(\"script\"); if (child) { run(child); } else { new MutationObserver(()=>{ run(this.querySelector(\"script\")); }).observe(this, {childList: true}); } } } customElements.define(\"treescope-run-here\", RunHere); } })(); </script> <treescope-container class=\"treescope_out_03dca2dd2e8f4ed7bfc1987749ab4470\" ></treescope-container> <treescope-run-here><script type=\"application/octet-stream\"> const root = ( Array.from(document.getElementsByClassName( \"treescope_out_03dca2dd2e8f4ed7bfc1987749ab4470\")) .filter((elt) => !elt.dataset.setup) )[0]; root.dataset.setup = 1; const msg = document.createElement(\"span\"); msg.style = \"color: #aaaaaa; font-family: monospace; transition: opacity 0.2s; opacity: 0.0;\"; msg.textContent = \"(Loading...)\"; root.state.loadingMsg = msg; root.shadowRoot.appendChild(msg); root.state.chain = new Promise((resolve, reject) => { const observer = new IntersectionObserver((entries) => { for (const entry of entries) { if (entry.isIntersecting) { resolve(); observer.disconnect(); return; } } }, {rootMargin: \"1000px\"}); window.setTimeout(() => { if (root.loadingMsg) { root.loadingMsg.style.opacity = \"1.0\"; } observer.observe(root); }, 0); }); root.state.deferring = false; const _insertNode = (node) => { for (let oldScript of node.querySelectorAll(\"script\")) { let newScript = document.createElement(\"script\"); newScript.type = oldScript.type; newScript.textContent = oldScript.textContent; oldScript.parentNode.replaceChild(newScript, oldScript); } if (root.state.loadingMsg) { root.state.loadingMsg.remove(); root.state.loadingMsg = null; } root.shadowRoot.appendChild(node); }; root.defns.insertContent = ((contentNode, compressed) => { if (compressed) { root.state.deferring = true; } if (root.state.deferring) { root.state.chain = (async () => { await root.state.chain; if (compressed) { const encoded = contentNode.textContent; const blob = new Blob([ Uint8Array.from(atob(encoded), (m) => m.codePointAt(0)) ]); const reader = blob.stream().pipeThrough( new DecompressionStream(\"deflate\") ).pipeThrough( new TextDecoderStream(\"utf-8\") ).getReader(); const parts = []; while (true) { const step = await reader.read(); if (step.done) { break; } parts.push(step.value); } const tpl = document.createElement('template'); tpl.innerHTML = parts.join(\"\"); _insertNode(tpl.content); } else { _insertNode(contentNode.content); } })(); } else { _insertNode(contentNode.content); } }); </script></treescope-run-here><div style=\"display:none\"> <script type=\"application/octet-stream\" >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</script> <treescope-run-here><script type=\"application/octet-stream\"> const root = ( Array.from(document.getElementsByClassName( \"treescope_out_03dca2dd2e8f4ed7bfc1987749ab4470\")) .filter((elt) => !elt.dataset['step0']) )[0]; root.dataset['step0'] = 1; root.defns.insertContent( this.parentNode.querySelector('script[type=\"application/octet-stream\"]'), true ); this.parentNode.remove(); </script></treescope-run-here> </div>"
      ],
      "text/plain": [
       "<IPython.core.display.HTML object>"
      ]
     },
     "metadata": {},
     "output_type": "display_data"
    },
    {
     "data": {
      "text/html": [
       "<treescope-run-here><script type=\"application/octet-stream\"> const root = ( Array.from(document.getElementsByClassName( \"treescope_out_03dca2dd2e8f4ed7bfc1987749ab4470\")) .filter((elt) => !elt.dataset.stolen) )[0]; root.dataset.stolen = 1; this.parentNode.replaceChild(root, this); </script></treescope-run-here>"
      ],
      "text/plain": [
       "([<matplotlib.axis.XTick at 0x7f607138f790>,\n",
       "  <matplotlib.axis.XTick at 0x7f607138c670>,\n",
       "  <matplotlib.axis.XTick at 0x7f607138d270>,\n",
       "  <matplotlib.axis.XTick at 0x7f607077c2e0>,\n",
       "  <matplotlib.axis.XTick at 0x7f607077ca60>,\n",
       "  <matplotlib.axis.XTick at 0x7f60704fc6a0>,\n",
       "  <matplotlib.axis.XTick at 0x7f60a81b8250>,\n",
       "  <matplotlib.axis.XTick at 0x7f607077d450>,\n",
       "  <matplotlib.axis.XTick at 0x7f605158b2b0>,\n",
       "  <matplotlib.axis.XTick at 0x7f6051589c90>,\n",
       "  <matplotlib.axis.XTick at 0x7f60515891e0>,\n",
       "  <matplotlib.axis.XTick at 0x7f605158afe0>,\n",
       "  <matplotlib.axis.XTick at 0x7f605158b7c0>,\n",
       "  <matplotlib.axis.XTick at 0x7f6051588af0>,\n",
       "  <matplotlib.axis.XTick at 0x7f64d81340a0>,\n",
       "  <matplotlib.axis.XTick at 0x7f605158be20>,\n",
       "  <matplotlib.axis.XTick at 0x7f6071720b20>,\n",
       "  <matplotlib.axis.XTick at 0x7f607169e620>,\n",
       "  <matplotlib.axis.XTick at 0x7f605158a680>],\n",
       " [Text(0, 0, '2'),\n",
       "  Text(1, 0, '3'),\n",
       "  Text(2, 0, '4'),\n",
       "  Text(3, 0, '5'),\n",
       "  Text(4, 0, '6'),\n",
       "  Text(5, 0, '7'),\n",
       "  Text(6, 0, '8'),\n",
       "  Text(7, 0, '9'),\n",
       "  Text(8, 0, '10'),\n",
       "  Text(9, 0, '11'),\n",
       "  Text(10, 0, '12'),\n",
       "  Text(11, 0, '13'),\n",
       "  Text(12, 0, '14'),\n",
       "  Text(13, 0, '15'),\n",
       "  Text(14, 0, '16'),\n",
       "  Text(15, 0, '17'),\n",
       "  Text(16, 0, '18'),\n",
       "  Text(17, 0, '19'),\n",
       "  Text(18, 0, '20')])"
      ]
     },
     "execution_count": 256,
     "metadata": {},
     "output_type": "execute_result"
    },
    {
     "data": {
      "image/png": "[encoded data removed]",
      "text/plain": [
       "<Figure size 640x480 with 1 Axes>"
      ]
     },
     "metadata": {},
     "output_type": "display_data"
    }
   ],
   "source": [
    "from matplotlib import pyplot as plt\n",
    "\n",
    "plt.plot([x[2] for x in n_shot_losses])\n",
    "plt.xticks(range(19), range(2, 21))\n",
    "# plt.plot([x[1] for x in n_shot_losses])"
   ]
  },
  {
   "cell_type": "code",
   "execution_count": 202,
   "metadata": {},
   "outputs": [
    {
     "data": {
      "text/html": [
       "<script> (()=>{ if (customElements.get('treescope-container') === undefined) { class TreescopeContainer extends HTMLElement { constructor() { super(); this.attachShadow({mode: \"open\"}); this.defns = {}; this.state = {}; } } customElements.define(\"treescope-container\", TreescopeContainer); } if (customElements.get('treescope-run-here') === undefined) { class RunHere extends HTMLElement { constructor() { super() } connectedCallback() { const run = child => { const fn = new Function(child.textContent); child.textContent = \"\"; fn.call(this); this.remove(); }; const child = this.querySelector(\"script\"); if (child) { run(child); } else { new MutationObserver(()=>{ run(this.querySelector(\"script\")); }).observe(this, {childList: true}); } } } customElements.define(\"treescope-run-here\", RunHere); } })(); </script> <treescope-container class=\"treescope_out_7d6b13e31c284d748331c99a1b2bb83d\" ></treescope-container> <treescope-run-here><script type=\"application/octet-stream\"> const root = ( Array.from(document.getElementsByClassName( \"treescope_out_7d6b13e31c284d748331c99a1b2bb83d\")) .filter((elt) => !elt.dataset.setup) )[0]; root.dataset.setup = 1; const msg = document.createElement(\"span\"); msg.style = \"color: #aaaaaa; font-family: monospace; transition: opacity 0.2s; opacity: 0.0;\"; msg.textContent = \"(Loading...)\"; root.state.loadingMsg = msg; root.shadowRoot.appendChild(msg); root.state.chain = new Promise((resolve, reject) => { const observer = new IntersectionObserver((entries) => { for (const entry of entries) { if (entry.isIntersecting) { resolve(); observer.disconnect(); return; } } }, {rootMargin: \"1000px\"}); window.setTimeout(() => { if (root.loadingMsg) { root.loadingMsg.style.opacity = \"1.0\"; } observer.observe(root); }, 0); }); root.state.deferring = false; const _insertNode = (node) => { for (let oldScript of node.querySelectorAll(\"script\")) { let newScript = document.createElement(\"script\"); newScript.type = oldScript.type; newScript.textContent = oldScript.textContent; oldScript.parentNode.replaceChild(newScript, oldScript); } if (root.state.loadingMsg) { root.state.loadingMsg.remove(); root.state.loadingMsg = null; } root.shadowRoot.appendChild(node); }; root.defns.insertContent = ((contentNode, compressed) => { if (compressed) { root.state.deferring = true; } if (root.state.deferring) { root.state.chain = (async () => { await root.state.chain; if (compressed) { const encoded = contentNode.textContent; const blob = new Blob([ Uint8Array.from(atob(encoded), (m) => m.codePointAt(0)) ]); const reader = blob.stream().pipeThrough( new DecompressionStream(\"deflate\") ).pipeThrough( new TextDecoderStream(\"utf-8\") ).getReader(); const parts = []; while (true) { const step = await reader.read(); if (step.done) { break; } parts.push(step.value); } const tpl = document.createElement('template'); tpl.innerHTML = parts.join(\"\"); _insertNode(tpl.content); } else { _insertNode(contentNode.content); } })(); } else { _insertNode(contentNode.content); } }); </script></treescope-run-here><div style=\"display:none\"> <script type=\"application/octet-stream\" >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</script> <treescope-run-here><script type=\"application/octet-stream\"> const root = ( Array.from(document.getElementsByClassName( \"treescope_out_7d6b13e31c284d748331c99a1b2bb83d\")) .filter((elt) => !elt.dataset['step0']) )[0]; root.dataset['step0'] = 1; root.defns.insertContent( this.parentNode.querySelector('script[type=\"application/octet-stream\"]'), true ); this.parentNode.remove(); </script></treescope-run-here> </div>"
      ],
      "text/plain": [
       "<IPython.core.display.HTML object>"
      ]
     },
     "metadata": {},
     "output_type": "display_data"
    },
    {
     "data": {
      "text/html": [
       "<treescope-run-here><script type=\"application/octet-stream\"> const root = ( Array.from(document.getElementsByClassName( \"treescope_out_7d6b13e31c284d748331c99a1b2bb83d\")) .filter((elt) => !elt.dataset.stolen) )[0]; root.dataset.stolen = 1; this.parentNode.replaceChild(root, this); </script></treescope-run-here>"
      ],
      "text/plain": [
       "[(2, 0.0625),\n",
       " (3, 0.0),\n",
       " (4, 0.25),\n",
       " (5, 0.25),\n",
       " (6, 0.1875),\n",
       " (7, 0.25),\n",
       " (8, 0.25),\n",
       " (9, 0.5),\n",
       " (10, 0.125),\n",
       " (11, 0.375),\n",
       " (12, 0.3125),\n",
       " (13, 0.3125),\n",
       " (14, 0.625),\n",
       " (15, 0.6875),\n",
       " (16, 0.6875),\n",
       " (17, 0.25)]"
      ]
     },
     "execution_count": 202,
     "metadata": {},
     "output_type": "execute_result"
    }
   ],
   "source": [
    "list(zip(list(range(2, 18)), [x[2] for x in n_shot_losses]))"
   ]
  },
  {
   "cell_type": "code",
   "execution_count": 13,
   "metadata": {},
   "outputs": [
    {
     "name": "stdout",
     "output_type": "stream",
     "text": [
      "Grad pursuit TV: L: 18, Loss: 0.380859\n"
     ]
    }
   ],
   "source": [
    "from tqdm.auto import tqdm\n",
    "from functools import partial\n",
    "from micrlhf.utils.activation_manipulation import add_vector\n",
    "\n",
    "from micrlhf.utils.ito import grad_pursuit\n",
    "\n",
    "\n",
    "task_losses = {}\n",
    "\n",
    "n_few_shots, batch_size, max_seq_len = 20, 16, 256\n",
    "seed = 10\n",
    "\n",
    "prompt = \"<start_of_turn>user\\nFollow the pattern:\\n{}\"\n",
    "\n",
    "task_name = \"algo_last\"\n",
    "\n",
    "sep = 3978\n",
    "pad = 0\n",
    "\n",
    "pairs = list(tasks[task_name].items())\n",
    "\n",
    "n_shot_losses = []\n",
    "\n",
    "n_shot = 15\n",
    "runner = ICLRunner(task_name, pairs, batch_size=batch_size, n_shot=n_shot, max_seq_len=max_seq_len, seed=seed, prompt=prompt)\n",
    "\n",
    "tokenized = runner.get_tokens([\n",
    "    x for x in runner.train_pairs\n",
    "], tokenizer)\n",
    "\n",
    "inputs = tokenized_to_inputs(**tokenized)\n",
    "train_tokens = tokenized[\"input_ids\"]\n",
    "\n",
    "logits, all_resids = get_resids_call(inputs)\n",
    "\n",
    "icl_loss = logprob_loss(\n",
    "    logits.unwrap(\"batch\", \"seq\", \"vocabulary\"), train_tokens, shift=0, n_first=3, sep=sep, pad_token=0\n",
    ")\n",
    "\n",
    "tokenized = runner.get_tokens(runner.eval_pairs, tokenizer)\n",
    "inputs = tokenized_to_inputs(**tokenized)\n",
    "tokens = tokenized[\"input_ids\"]\n",
    "\n",
    "logits = llama(inputs)\n",
    "\n",
    "zero_loss = logprob_loss(\n",
    "    logits.unwrap(\"batch\", \"seq\", \"vocabulary\"), tokens, shift=0, n_first=3, sep=sep, pad_token=0\n",
    ")\n",
    "\n",
    "\n",
    "resids = all_resids[layer].value.unwrap(\n",
    "    \"batch\", \"seq\", \"embedding\"\n",
    ")\n",
    "\n",
    "tv = get_tv(resids, train_tokens, shift = 0, sep=sep)\n",
    "\n",
    "add_act = make_act_adder(llama, tv.astype('bfloat16'), tokens, layer, length=1, shift= 0, sep=sep, scale=1)\n",
    "\n",
    "logits = add_act(inputs)\n",
    "\n",
    "tv_loss = logprob_loss(\n",
    "    logits.unwrap(\"batch\", \"seq\", \"vocabulary\"), tokens, shift=0, n_first=3, sep=sep, pad_token=0\n",
    ")\n",
    "\n",
    "gw, gtv = grad_pursuit(tv, sae[\"W_dec\"], 20)\n",
    "\n",
    "add_act = make_act_adder(llama, gtv.astype('bfloat16'), tokens, layer, length=1, shift= 0, sep=sep)\n",
    "\n",
    "logits = add_act(inputs)\n",
    "\n",
    "ito_loss = logprob_loss(\n",
    "    logits.unwrap(\"batch\", \"seq\", \"vocabulary\"), tokens, shift=0, n_first=3, sep=sep, pad_token=0\n",
    ")\n",
    "\n",
    "print(\n",
    "    f\"Grad pursuit TV: L: {layer}, Loss: {ito_loss}\"\n",
    ")\n",
    "\n",
    "\n",
    "\n",
    "# arrow_pos = jnp.nonzero(tokens == sep)\n",
    "# arrow_pos_single = []\n",
    "# for i in range(batch_size):\n",
    "#     arrow_pos_single.append(arrow_pos[1][arrow_pos[0] == i].max())\n",
    "\n",
    "# arrow_pos_single = np.array(arrow_pos_single)\n",
    "\n",
    "# hits = 0\n",
    "\n",
    "# logits = logits.unwrap(\"batch\", \"seq\", \"vocabulary\")\n",
    "\n",
    "# for i, (ap, l) in enumerate(zip(arrow_pos_single, logits)):\n",
    "#     l = l.argmax(-1)\n",
    "#     tgt = runner.eval_pairs[i][-1][1]\n",
    "#     hits += int(tgt in repr(tokenizer.decode(l[ap:ap+3])))"
   ]
  },
  {
   "cell_type": "code",
   "execution_count": 14,
   "metadata": {},
   "outputs": [
    {
     "data": {
      "text/html": [
       "<script> (()=>{ if (customElements.get('treescope-container') === undefined) { class TreescopeContainer extends HTMLElement { constructor() { super(); this.attachShadow({mode: \"open\"}); this.defns = {}; this.state = {}; } } customElements.define(\"treescope-container\", TreescopeContainer); } if (customElements.get('treescope-run-here') === undefined) { class RunHere extends HTMLElement { constructor() { super() } connectedCallback() { const run = child => { const fn = new Function(child.textContent); child.textContent = \"\"; fn.call(this); this.remove(); }; const child = this.querySelector(\"script\"); if (child) { run(child); } else { new MutationObserver(()=>{ run(this.querySelector(\"script\")); }).observe(this, {childList: true}); } } } customElements.define(\"treescope-run-here\", RunHere); } })(); </script> <treescope-container class=\"treescope_out_5b9d7c94e518473a8254355ecb248ff3\" ></treescope-container> <treescope-run-here><script type=\"application/octet-stream\"> const root = ( Array.from(document.getElementsByClassName( \"treescope_out_5b9d7c94e518473a8254355ecb248ff3\")) .filter((elt) => !elt.dataset.setup) )[0]; root.dataset.setup = 1; const msg = document.createElement(\"span\"); msg.style = \"color: #aaaaaa; font-family: monospace; transition: opacity 0.2s; opacity: 0.0;\"; msg.textContent = \"(Loading...)\"; root.state.loadingMsg = msg; root.shadowRoot.appendChild(msg); root.state.chain = new Promise((resolve, reject) => { const observer = new IntersectionObserver((entries) => { for (const entry of entries) { if (entry.isIntersecting) { resolve(); observer.disconnect(); return; } } }, {rootMargin: \"1000px\"}); window.setTimeout(() => { if (root.loadingMsg) { root.loadingMsg.style.opacity = \"1.0\"; } observer.observe(root); }, 0); }); root.state.deferring = false; const _insertNode = (node) => { for (let oldScript of node.querySelectorAll(\"script\")) { let newScript = document.createElement(\"script\"); newScript.type = oldScript.type; newScript.textContent = oldScript.textContent; oldScript.parentNode.replaceChild(newScript, oldScript); } if (root.state.loadingMsg) { root.state.loadingMsg.remove(); root.state.loadingMsg = null; } root.shadowRoot.appendChild(node); }; root.defns.insertContent = ((contentNode, compressed) => { if (compressed) { root.state.deferring = true; } if (root.state.deferring) { root.state.chain = (async () => { await root.state.chain; if (compressed) { const encoded = contentNode.textContent; const blob = new Blob([ Uint8Array.from(atob(encoded), (m) => m.codePointAt(0)) ]); const reader = blob.stream().pipeThrough( new DecompressionStream(\"deflate\") ).pipeThrough( new TextDecoderStream(\"utf-8\") ).getReader(); const parts = []; while (true) { const step = await reader.read(); if (step.done) { break; } parts.push(step.value); } const tpl = document.createElement('template'); tpl.innerHTML = parts.join(\"\"); _insertNode(tpl.content); } else { _insertNode(contentNode.content); } })(); } else { _insertNode(contentNode.content); } }); </script></treescope-run-here><div style=\"display:none\"> <script type=\"application/octet-stream\" >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</script> <treescope-run-here><script type=\"application/octet-stream\"> const root = ( Array.from(document.getElementsByClassName( \"treescope_out_5b9d7c94e518473a8254355ecb248ff3\")) .filter((elt) => !elt.dataset['step0']) )[0]; root.dataset['step0'] = 1; root.defns.insertContent( this.parentNode.querySelector('script[type=\"application/octet-stream\"]'), true ); this.parentNode.remove(); </script></treescope-run-here> </div>"
      ],
      "text/plain": [
       "<IPython.core.display.HTML object>"
      ]
     },
     "metadata": {},
     "output_type": "display_data"
    },
    {
     "data": {
      "text/html": [
       "<div style=\"display:none\"> <script type=\"application/octet-stream\" >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</script> <treescope-run-here><script type=\"application/octet-stream\"> const root = ( Array.from(document.getElementsByClassName( \"treescope_out_5b9d7c94e518473a8254355ecb248ff3\")) .filter((elt) => !elt.dataset['step1']) )[0]; root.dataset['step1'] = 1; root.defns.insertContent( this.parentNode.querySelector('script[type=\"application/octet-stream\"]'), true ); this.parentNode.remove(); </script></treescope-run-here> </div>"
      ],
      "text/plain": [
       "<IPython.core.display.HTML object>"
      ]
     },
     "metadata": {},
     "output_type": "display_data"
    },
    {
     "data": {
      "text/html": [
       "<treescope-run-here><script type=\"application/octet-stream\"> const root = ( Array.from(document.getElementsByClassName( \"treescope_out_5b9d7c94e518473a8254355ecb248ff3\")) .filter((elt) => !elt.dataset.stolen) )[0]; root.dataset.stolen = 1; this.parentNode.replaceChild(root, this); </script></treescope-run-here>"
      ],
      "text/plain": [
       "[# jax.Array float32(10,) ≈4.2e+01 ±3.2e+01 [≥2.3e+01, ≤1.4e+02] nonzero:10\n",
       "   Array([135.43867 ,  41.27712 ,  37.228954,  36.440758,  33.29375 ,\n",
       "           31.684303,  27.453093,  26.091726,  23.483995,  23.010355],      dtype=float32)\n",
       " ,\n",
       " # jax.Array int32(10,) [≥835, ≤15_693] nonzero:10\n",
       "   Array([ 3851, 14456, 12802,  6356,  6179,   835,  8580,  8678, 12165,\n",
       "          15693], dtype=int32)\n",
       " ]"
      ]
     },
     "execution_count": 14,
     "metadata": {},
     "output_type": "execute_result"
    }
   ],
   "source": [
    "jax.lax.top_k(gw, 10)"
   ]
  },
  {
   "cell_type": "code",
   "execution_count": 230,
   "metadata": {},
   "outputs": [
    {
     "data": {
      "text/html": [
       "<script> (()=>{ if (customElements.get('treescope-container') === undefined) { class TreescopeContainer extends HTMLElement { constructor() { super(); this.attachShadow({mode: \"open\"}); this.defns = {}; this.state = {}; } } customElements.define(\"treescope-container\", TreescopeContainer); } if (customElements.get('treescope-run-here') === undefined) { class RunHere extends HTMLElement { constructor() { super() } connectedCallback() { const run = child => { const fn = new Function(child.textContent); child.textContent = \"\"; fn.call(this); this.remove(); }; const child = this.querySelector(\"script\"); if (child) { run(child); } else { new MutationObserver(()=>{ run(this.querySelector(\"script\")); }).observe(this, {childList: true}); } } } customElements.define(\"treescope-run-here\", RunHere); } })(); </script> <treescope-container class=\"treescope_out_d6560b0a5d994fffb6108f591d0ba7cf\" ></treescope-container> <treescope-run-here><script type=\"application/octet-stream\"> const root = ( Array.from(document.getElementsByClassName( \"treescope_out_d6560b0a5d994fffb6108f591d0ba7cf\")) .filter((elt) => !elt.dataset.setup) )[0]; root.dataset.setup = 1; const msg = document.createElement(\"span\"); msg.style = \"color: #aaaaaa; font-family: monospace; transition: opacity 0.2s; opacity: 0.0;\"; msg.textContent = \"(Loading...)\"; root.state.loadingMsg = msg; root.shadowRoot.appendChild(msg); root.state.chain = new Promise((resolve, reject) => { const observer = new IntersectionObserver((entries) => { for (const entry of entries) { if (entry.isIntersecting) { resolve(); observer.disconnect(); return; } } }, {rootMargin: \"1000px\"}); window.setTimeout(() => { if (root.loadingMsg) { root.loadingMsg.style.opacity = \"1.0\"; } observer.observe(root); }, 0); }); root.state.deferring = false; const _insertNode = (node) => { for (let oldScript of node.querySelectorAll(\"script\")) { let newScript = document.createElement(\"script\"); newScript.type = oldScript.type; newScript.textContent = oldScript.textContent; oldScript.parentNode.replaceChild(newScript, oldScript); } if (root.state.loadingMsg) { root.state.loadingMsg.remove(); root.state.loadingMsg = null; } root.shadowRoot.appendChild(node); }; root.defns.insertContent = ((contentNode, compressed) => { if (compressed) { root.state.deferring = true; } if (root.state.deferring) { root.state.chain = (async () => { await root.state.chain; if (compressed) { const encoded = contentNode.textContent; const blob = new Blob([ Uint8Array.from(atob(encoded), (m) => m.codePointAt(0)) ]); const reader = blob.stream().pipeThrough( new DecompressionStream(\"deflate\") ).pipeThrough( new TextDecoderStream(\"utf-8\") ).getReader(); const parts = []; while (true) { const step = await reader.read(); if (step.done) { break; } parts.push(step.value); } const tpl = document.createElement('template'); tpl.innerHTML = parts.join(\"\"); _insertNode(tpl.content); } else { _insertNode(contentNode.content); } })(); } else { _insertNode(contentNode.content); } }); </script></treescope-run-here><div style=\"display:none\"> <script type=\"application/octet-stream\" >eNqNVE2P0zAQ/StWOGwi4WwXtLC0TaS9IA6IAxw4IFS5ySSx6oyNPWkpaP8746Qt+1FWqIfGM+M3b55nZhlob6DMyQOEyjpYeWtJ/BbOBk3a4lx4MIr0FhaisUiyUb02+7noLdrgVMX2XacJ5HiYC+fZYnQgOUJL2ju2okU2r1W1ab0dsJaVNdbPp6sLcTitDQcwnq6pm4tGE4chAdJCOFXXGltpoKG5eFV1MQmC7EC3HVuu8usIg6Q0cz5dO3zIrQ56rY0mZq4GsqdYqZG8xqArGfQvmLwHunfLy0me5Uke6QfknJ5tofLakYj1FRfKOaMrFRW7tBVBrN6D6i/KNM2KkgXlfIFEDQ0GUQjqdMhboM+s9idbQ5rlnQ2Uj34uDUisHGAs+baKqPHSt+/nPB8U1gbYjYMxiylDzjS/WItsTXfWbzJxn4P9yqboemAmXUWjA99Y3yusIEe7S7PxfTlB+sQj5HRpKV6/yhhHNyJ9xDo3gC11oijELIY8S90DDR5ZdwEmwF9i3YCR2WPo0OmGIr8xIH7c8e8fGVLuKqztLvfwY4BAt6j78bnee9VDOmmSRYzFk0RuCN0k4+JMjccUxVTGM1X+P4fIYnpIsm1rpqlcjZPD3eoiVrSAoZcCttzgh5eM7MZzvoF9FD3xSSR0CM4ro0L4yMN5wE2TE+aq5zZMjsnvMtaT23/s8XJ5eW4Aar0VI2CRPFwfiSC15krhZ5HMEmGRyXDZyHHPtf35WtN451hlwmM3LaxxY6xw6Nfgx04ZF8iL2bubq+s390eX1xIeaXY8q57XxmZFyjONRNSKlGR6TlFXJMnD8Ps5knKWX928vWZcjihPfyxC+QcyPNxc</script> <treescope-run-here><script type=\"application/octet-stream\"> const root = ( Array.from(document.getElementsByClassName( \"treescope_out_d6560b0a5d994fffb6108f591d0ba7cf\")) .filter((elt) => !elt.dataset['step0']) )[0]; root.dataset['step0'] = 1; root.defns.insertContent( this.parentNode.querySelector('script[type=\"application/octet-stream\"]'), true ); this.parentNode.remove(); </script></treescope-run-here> </div>"
      ],
      "text/plain": [
       "<IPython.core.display.HTML object>"
      ]
     },
     "metadata": {},
     "output_type": "display_data"
    },
    {
     "data": {
      "text/html": [
       "<treescope-run-here><script type=\"application/octet-stream\"> const root = ( Array.from(document.getElementsByClassName( \"treescope_out_d6560b0a5d994fffb6108f591d0ba7cf\")) .filter((elt) => !elt.dataset.stolen) )[0]; root.dataset.stolen = 1; this.parentNode.replaceChild(root, this); </script></treescope-run-here>"
      ],
      "text/plain": [
       "0.1875"
      ]
     },
     "execution_count": 230,
     "metadata": {},
     "output_type": "execute_result"
    }
   ],
   "source": [
    "hits/batch_size / 2"
   ]
  }
 ],
 "metadata": {
  "kernelspec": {
   "display_name": "micrlhf-progress-_SD4q1c9-py3.10",
   "language": "python",
   "name": "python3"
  },
  "language_info": {
   "codemirror_mode": {
    "name": "ipython",
    "version": 3
   },
   "file_extension": ".py",
   "mimetype": "text/x-python",
   "name": "python",
   "nbconvert_exporter": "python",
   "pygments_lexer": "ipython3",
   "version": "3.10.12"
  }
 },
 "nbformat": 4,
 "nbformat_minor": 2
}
