{
 "cells": [
  {
   "cell_type": "code",
   "execution_count": 1,
   "metadata": {},
   "outputs": [],
   "source": [
    "import os\n",
    "if \"models\" not in os.listdir(\".\"):\n",
    "    os.chdir(\"../..\")"
   ]
  },
  {
   "cell_type": "code",
   "execution_count": 2,
   "metadata": {},
   "outputs": [],
   "source": [
    "%load_ext autoreload\n",
    "%autoreload 2\n",
    "import penzai\n",
    "import jax_smi\n",
    "jax_smi.initialise_tracking()\n",
    "from penzai import pz\n",
    "pz.ts.register_as_default()\n",
    "pz.ts.register_autovisualize_magic()\n",
    "pz.enable_interactive_context()"
   ]
  },
  {
   "cell_type": "code",
   "execution_count": 3,
   "metadata": {},
   "outputs": [
    {
     "name": "stdout",
     "output_type": "stream",
     "text": [
      "env: JAX_TRACEBACK_FILTERING=off\n"
     ]
    }
   ],
   "source": [
    "%env JAX_TRACEBACK_FILTERING=off\n",
    "import jax\n",
    "jax.config.update('jax_traceback_filtering', 'off')\n"
   ]
  },
  {
   "cell_type": "code",
   "execution_count": 4,
   "metadata": {},
   "outputs": [],
   "source": [
    "from sprint.icl_sfc_utils import Circuitizer"
   ]
  },
  {
   "cell_type": "code",
   "execution_count": 5,
   "metadata": {},
   "outputs": [],
   "source": [
    "from micrlhf.llama import LlamaTransformer\n",
    "llama = LlamaTransformer.from_pretrained(\"models/gemma-2b-it.gguf\", from_type=\"gemma\", load_eager=True, device_map=\"tpu:0\")"
   ]
  },
  {
   "cell_type": "code",
   "execution_count": 6,
   "metadata": {},
   "outputs": [],
   "source": [
    "from transformers import AutoTokenizer\n",
    "tokenizer = AutoTokenizer.from_pretrained(\"alpindale/gemma-2b\")\n",
    "tokenizer.padding_side = \"right\""
   ]
  },
  {
   "cell_type": "code",
   "execution_count": 7,
   "metadata": {},
   "outputs": [],
   "source": [
    "from sprint.task_vector_utils import load_tasks, ICLRunner\n",
    "tasks = load_tasks()"
   ]
  },
  {
   "cell_type": "code",
   "execution_count": 8,
   "metadata": {},
   "outputs": [
    {
     "name": "stdout",
     "output_type": "stream",
     "text": [
      "143\n"
     ]
    }
   ],
   "source": [
    "def check_if_single_token(token):\n",
    "    return len(tokenizer.tokenize(token)) == 1\n",
    "\n",
    "task_name = \"antonyms\"\n",
    "\n",
    "task = tasks[task_name]\n",
    "\n",
    "# print(len(task))\n",
    "\n",
    "task = {\n",
    "    k:v for k,v in task.items() if check_if_single_token(k) and check_if_single_token(v)\n",
    "}\n",
    "\n",
    "print(len(task))\n",
    "\n",
    "pairs = list(task.items())\n",
    "\n",
    "batch_size = 8 \n",
    "n_shot=16\n",
    "max_seq_len = 128\n",
    "seed = 10\n",
    "\n",
    "prompt = \"Follow the pattern:\\n{}\"\n",
    "\n",
    "runner = ICLRunner(task_name, pairs, batch_size=batch_size, n_shot=n_shot, max_seq_len=max_seq_len, seed=seed, prompt=prompt)"
   ]
  },
  {
   "cell_type": "code",
   "execution_count": 9,
   "metadata": {},
   "outputs": [
    {
     "name": "stdout",
     "output_type": "stream",
     "text": [
      "Setting up masks...\n"
     ]
    },
    {
     "name": "stderr",
     "output_type": "stream",
     "text": [
      "/home/dmitrii/.cache/pypoetry/virtualenvs/micrlhf-progress-_SD4q1c9-py3.12/lib/python3.12/site-packages/jax/_src/ops/scatter.py:96: FutureWarning: scatter inputs have incompatible types: cannot safely cast value from dtype=int32 to dtype=bool with jax_numpy_dtype_promotion='standard'. In future JAX releases this will result in an error.\n",
      "  warnings.warn(\n"
     ]
    },
    {
     "name": "stdout",
     "output_type": "stream",
     "text": [
      "Running metrics...\n",
      "Setting up RMS...\n"
     ]
    },
    {
     "data": {
      "application/vnd.jupyter.widget-view+json": {
       "model_id": "2a83aed870ac45518ad51dcdf4b01c28",
       "version_major": 2,
       "version_minor": 0
      },
      "text/plain": [
       "  0%|          | 0/18 [00:00<?, ?it/s]"
      ]
     },
     "metadata": {},
     "output_type": "display_data"
    },
    {
     "name": "stdout",
     "output_type": "stream",
     "text": [
      "Loading SAEs...\n"
     ]
    },
    {
     "data": {
      "application/vnd.jupyter.widget-view+json": {
       "model_id": "6a5e8924f38b40209bcc103f41252dc8",
       "version_major": 2,
       "version_minor": 0
      },
      "text/plain": [
       "  0%|          | 0/11 [00:00<?, ?it/s]"
      ]
     },
     "metadata": {},
     "output_type": "display_data"
    },
    {
     "name": "stdout",
     "output_type": "stream",
     "text": [
      "Running node IEs...\n"
     ]
    },
    {
     "data": {
      "application/vnd.jupyter.widget-view+json": {
       "model_id": "3f1ba2fd87d84d3ebb8a2a2007430b5b",
       "version_major": 2,
       "version_minor": 0
      },
      "text/plain": [
       "  0%|          | 0/11 [00:00<?, ?it/s]"
      ]
     },
     "metadata": {},
     "output_type": "display_data"
    },
    {
     "data": {
      "application/vnd.jupyter.widget-view+json": {
       "model_id": "ce4355a91f1b4c7b988407430aab19e1",
       "version_major": 2,
       "version_minor": 0
      },
      "text/plain": [
       "  0%|          | 0/11 [00:00<?, ?it/s]"
      ]
     },
     "metadata": {},
     "output_type": "display_data"
    },
    {
     "data": {
      "application/vnd.jupyter.widget-view+json": {
       "model_id": "54301b8229ff4908bf4eeed6de3eafa7",
       "version_major": 2,
       "version_minor": 0
      },
      "text/plain": [
       "  0%|          | 0/10 [00:00<?, ?it/s]"
      ]
     },
     "metadata": {},
     "output_type": "display_data"
    }
   ],
   "source": [
    "layers = list(range(6, 17))\n",
    "circuitizer = Circuitizer(llama, tokenizer, runner, layers, prompt)"
   ]
  },
  {
   "cell_type": "code",
   "execution_count": 12,
   "metadata": {},
   "outputs": [],
   "source": [
    "\n",
    "from micrlhf.llama import LlamaBlock, LlamaAttention, LlamaInputs\n",
    "\n",
    "block = llama.select().at_instances_of(LlamaBlock).pick_nth_selected(11).get()"
   ]
  },
  {
   "cell_type": "code",
   "execution_count": 38,
   "metadata": {},
   "outputs": [],
   "source": [
    "from penzai.toolshed.jit_wrapper import Jitted\n",
    "layer = 11\n",
    "attn_getter = llama.select().at_instances_of(LlamaBlock).pick_nth_selected(layer).at_instances_of(pz.nn.Residual).pick_nth_selected(0).at(lambda x: x.delta).at_instances_of(LlamaAttention).pick_nth_selected(0).at(lambda x: x.attn_value_to_output).at_instances_of(pz.nn.Linear)\n",
    "attn_layer = attn_getter.get()\n",
    "attn_getter = attn_getter.apply(lambda x: pz.nn.Sequential([pz.de.TellIntermediate.from_config(tag=f\"attn_heads_{layer}\"), x]))\n",
    "attn_getter = pz.de.CollectingSideOutputs.handling(attn_getter, tag_predicate=lambda x: x.startswith(\"attn_heads_\"))\n",
    "attn_getter = Jitted(attn_getter)"
   ]
  },
  {
   "cell_type": "code",
   "execution_count": 43,
   "metadata": {},
   "outputs": [
    {
     "data": {
      "text/html": [
       "<div id=\"output_6cae40e39957486c86c8be11ff7462fd\"><script> /* penzai.treescope rendering of a Python object (compressed) */ (()=>{ let observer; let lastStep = new Promise((resolve, reject) => { observer = new IntersectionObserver((entries) => { for (const entry of entries) { if (entry.isIntersecting) { resolve(); observer.disconnect(); return; } } }, {rootMargin: \"1000px\"}); }); window.treescope_decompress_enqueue = (encoded, destId) => { const previous = lastStep; const destElt = document.getElementById(destId); lastStep = (async () => { await previous; let blob = new Blob([ Uint8Array.from(atob(encoded), (m) => m.codePointAt(0)) ]); let reader = blob.stream().pipeThrough( new DecompressionStream(\"deflate\") ).pipeThrough( new TextDecoderStream(\"utf-8\") ).getReader(); let parts = []; while (true) { let step = await reader.read(); if (step.done) { break; } parts.push(step.value); } let newElt = document.createElement(\"div\"); newElt.innerHTML = parts.join(\"\"); destElt.parentNode.replaceChild(newElt, destElt); for (let oldScript of newElt.querySelectorAll(\"script\")) { let newScript = document.createElement(\"script\"); newScript.type = oldScript.type; newScript.textContent = oldScript.textContent; oldScript.parentNode.replaceChild(newScript, oldScript); } })(); requestAnimationFrame(() => { observer.observe(destElt); }); } })(); </script><div id=\"compress_html_083db08fc71847c0ace29d5ef9e3b56b\"><script>window.treescope_decompress_enqueue(\"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\", \"compress_html_083db08fc71847c0ace29d5ef9e3b56b\");</script><span style=\"color: #aaaaaa; font-family: monospace\">(Loading...)</span></div></div>"
      ],
      "text/plain": [
       "<IPython.core.display.HTML object>"
      ]
     },
     "metadata": {},
     "output_type": "display_data"
    },
    {
     "data": {
      "text/html": [
       "<div id=\"compress_html_d7986ddba2e14e719ed3f2629a1317fa\"><script>window.treescope_decompress_enqueue(\"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\", \"compress_html_d7986ddba2e14e719ed3f2629a1317fa\");</script></div>"
      ],
      "text/plain": [
       "<IPython.core.display.HTML object>"
      ]
     },
     "metadata": {},
     "output_type": "display_data"
    },
    {
     "data": {
      "text/html": [
       "<div id=\"output_dest_6cae40e39957486c86c8be11ff7462fd\"><script> (()=>{ const output = document.getElementById(\"output_6cae40e39957486c86c8be11ff7462fd\"); const dest = document.getElementById(\"output_dest_6cae40e39957486c86c8be11ff7462fd\"); dest.parentNode.replaceChild(output, dest); })(); </script></div>"
      ],
      "text/plain": [
       "Linear(weights=Parameter(value=<NamedArray bfloat16(| kv_heads:1, q_rep:8, projection:256, embedding:2048) ≈6.8e-07 ±0.0081 [≥-0.17, ≤0.17] zero:31_788 nonzero:4_162_516 (wrapping jax.Array)>, name='blocks.11.attn.output.weights'), in_axis_names=('kv_heads', 'q_rep', 'projection'), out_axis_names=('embedding',))"
      ]
     },
     "execution_count": 43,
     "metadata": {},
     "output_type": "execute_result"
    }
   ],
   "source": [
    "attn_layer"
   ]
  },
  {
   "cell_type": "code",
   "execution_count": 34,
   "metadata": {},
   "outputs": [],
   "source": [
    "_, attns = attn_getter(circuitizer.llama_inputs)"
   ]
  },
  {
   "cell_type": "code",
   "execution_count": 50,
   "metadata": {},
   "outputs": [],
   "source": [
    "attn_output = attns[0].value\n",
    "attn_outs = []\n",
    "for kv_heads in range(attn_output.named_shape[\"kv_heads\"]):\n",
    "    for q_rep in range(attn_output.named_shape[\"q_rep\"]):\n",
    "        attn_pre = attn_output[{\"kv_heads\":kv_heads,\"q_rep\":q_rep}]\n",
    "        layer_restricted = pz.nn.Linear(weights=pz.nn.Parameter(attn_layer.weights.value[{\"kv_heads\":kv_heads,\"q_rep\":q_rep}], \"at\"), in_axis_names=(\"projection\",), out_axis_names=(\"embedding\",))\n",
    "        attn_out = layer_restricted(attn_pre)\n",
    "        attn_outs.append(attn_out)"
   ]
  },
  {
   "cell_type": "code",
   "execution_count": 58,
   "metadata": {},
   "outputs": [
    {
     "data": {
      "text/html": [
       "<div id=\"output_e10abc0277e046c1a265fc5e27f19a30\"><script> /* penzai.treescope rendering of a Python object (compressed) */ (()=>{ let observer; let lastStep = new Promise((resolve, reject) => { observer = new IntersectionObserver((entries) => { for (const entry of entries) { if (entry.isIntersecting) { resolve(); observer.disconnect(); return; } } }, {rootMargin: \"1000px\"}); }); window.treescope_decompress_enqueue = (encoded, destId) => { const previous = lastStep; const destElt = document.getElementById(destId); lastStep = (async () => { await previous; let blob = new Blob([ Uint8Array.from(atob(encoded), (m) => m.codePointAt(0)) ]); let reader = blob.stream().pipeThrough( new DecompressionStream(\"deflate\") ).pipeThrough( new TextDecoderStream(\"utf-8\") ).getReader(); let parts = []; while (true) { let step = await reader.read(); if (step.done) { break; } parts.push(step.value); } let newElt = document.createElement(\"div\"); newElt.innerHTML = parts.join(\"\"); destElt.parentNode.replaceChild(newElt, destElt); for (let oldScript of newElt.querySelectorAll(\"script\")) { let newScript = document.createElement(\"script\"); newScript.type = oldScript.type; newScript.textContent = oldScript.textContent; oldScript.parentNode.replaceChild(newScript, oldScript); } })(); requestAnimationFrame(() => { observer.observe(destElt); }); } })(); </script><div id=\"compress_html_86ca6a315ac44ace853c793df0017f25\"><script>window.treescope_decompress_enqueue(\"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\", \"compress_html_86ca6a315ac44ace853c793df0017f25\");</script><span style=\"color: #aaaaaa; font-family: monospace\">(Loading...)</span></div></div>"
      ],
      "text/plain": [
       "<IPython.core.display.HTML object>"
      ]
     },
     "metadata": {},
     "output_type": "display_data"
    },
    {
     "data": {
      "text/html": [
       "<div id=\"compress_html_b09deb03bbd741509931459ca17d5fbe\"><script>window.treescope_decompress_enqueue(\"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\", \"compress_html_b09deb03bbd741509931459ca17d5fbe\");</script></div>"
      ],
      "text/plain": [
       "<IPython.core.display.HTML object>"
      ]
     },
     "metadata": {},
     "output_type": "display_data"
    },
    {
     "data": {
      "text/html": [
       "<div id=\"output_dest_e10abc0277e046c1a265fc5e27f19a30\"><script> (()=>{ const output = document.getElementById(\"output_e10abc0277e046c1a265fc5e27f19a30\"); const dest = document.getElementById(\"output_dest_e10abc0277e046c1a265fc5e27f19a30\"); dest.parentNode.replaceChild(output, dest); })(); </script></div>"
      ],
      "text/plain": [
       "<NamedArray bfloat16(| batch:8, seq:128, embedding:2048) ≈0.0014 ±0.043 [≥-0.58, ≤0.68] nonzero:2_097_152 (wrapping jax.Array)>"
      ]
     },
     "execution_count": 58,
     "metadata": {},
     "output_type": "execute_result"
    }
   ],
   "source": [
    "attn_outs[0]"
   ]
  },
  {
   "cell_type": "code",
   "execution_count": 53,
   "metadata": {},
   "outputs": [],
   "source": [
    "from micrlhf.utils.load_sae import get_nev_it_sae_suite\n",
    "\n",
    "\n",
    "sae = get_nev_it_sae_suite(layer, label=\"attn_out\")"
   ]
  },
  {
   "cell_type": "code",
   "execution_count": 57,
   "metadata": {},
   "outputs": [],
   "source": [
    "feature = 4080\n",
    "# r_pre = circuitizer.resids_pre[layer]\n",
    "# r_mid = circuitizer.resids_mid[layer]\n",
    "# attn_out = (r_mid - r_pre)\n",
    "direction = sae[\"W_dec\"][feature]"
   ]
  },
  {
   "cell_type": "code",
   "execution_count": 66,
   "metadata": {},
   "outputs": [],
   "source": [
    "import jax.numpy as jnp\n",
    "\n",
    "cossims = []\n",
    "masks = list(circuitizer.masks.keys())\n",
    "for ao in attn_outs:\n",
    "    ao = ao.unwrap(\"batch\", \"seq\", \"embedding\")\n",
    "    cossims_all = (ao @ direction) / jnp.linalg.norm(ao, axis=-1) / jnp.linalg.norm(direction, axis=-1, keepdims=True)\n",
    "    cossims_masks = []\n",
    "    for mask in masks:\n",
    "        cossims_masks.append(circuitizer.mask_average(cossims_all, mask))\n",
    "    cossims.append(cossims_masks)"
   ]
  },
  {
   "cell_type": "code",
   "execution_count": 73,
   "metadata": {},
   "outputs": [
    {
     "name": "stdout",
     "output_type": "stream",
     "text": [
      "Head 0\n",
      "Head 1\n",
      "Head 2\n",
      " Arrow: 0.466797\n",
      "  prompt: -0.020874\n",
      "  arrow: 0.466797\n",
      "  newline: 0.057373\n",
      "  input: 0.219727\n",
      "  output: 0.120117\n",
      "Head 3\n",
      " Arrow: 0.168945\n",
      "  prompt: 0.0112305\n",
      "  arrow: 0.168945\n",
      "  newline: 0.0810547\n",
      "  input: 0.0400391\n",
      "  output: 0.0634766\n",
      "Head 4\n",
      "Head 5\n",
      "Head 6\n",
      "Head 7\n"
     ]
    }
   ],
   "source": [
    "for i in range(len(cossims)):\n",
    "    print(f\"Head {i}\")\n",
    "    overall = sum(map(abs, cossims[i]))\n",
    "    # print(f\" Overall: {overall}\")\n",
    "    # if overall < 0.1:\n",
    "        # continue\n",
    "    arrow_index = masks.index(\"arrow\")\n",
    "    arrow_sim = cossims[i][arrow_index]\n",
    "    if abs(arrow_sim) < 0.1:\n",
    "        continue\n",
    "    print(f\" Arrow: {arrow_sim}\")\n",
    "    for j in range(len(cossims[i])):\n",
    "        print(f\"  {masks[j]}: {cossims[i][j]}\")"
   ]
  }
 ],
 "metadata": {
  "kernelspec": {
   "display_name": "micrlhf-progress-_SD4q1c9-py3.12",
   "language": "python",
   "name": "python3"
  },
  "language_info": {
   "codemirror_mode": {
    "name": "ipython",
    "version": 3
   },
   "file_extension": ".py",
   "mimetype": "text/x-python",
   "name": "python",
   "nbconvert_exporter": "python",
   "pygments_lexer": "ipython3",
   "version": "3.12.0"
  }
 },
 "nbformat": 4,
 "nbformat_minor": 2
}
