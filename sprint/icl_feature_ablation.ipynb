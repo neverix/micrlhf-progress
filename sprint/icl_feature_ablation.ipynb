{
 "cells": [
  {
   "cell_type": "code",
   "execution_count": 1,
   "metadata": {},
   "outputs": [],
   "source": [
    "import os\n",
    "if \"models\" not in os.listdir(\".\"):\n",
    "    os.chdir(\"../..\")"
   ]
  },
  {
   "cell_type": "code",
   "execution_count": 2,
   "metadata": {},
   "outputs": [],
   "source": [
    "%load_ext autoreload\n",
    "%autoreload 2\n",
    "import penzai\n",
    "import jax_smi\n",
    "jax_smi.initialise_tracking()\n",
    "from penzai import pz\n",
    "pz.ts.register_as_default()\n",
    "pz.ts.register_autovisualize_magic()\n",
    "pz.enable_interactive_context()"
   ]
  },
  {
   "cell_type": "code",
   "execution_count": 3,
   "metadata": {},
   "outputs": [],
   "source": [
    "from micrlhf.llama import LlamaTransformer\n",
    "llama = LlamaTransformer.from_pretrained(\"models/gemma-2b-it.gguf\", from_type=\"gemma\", load_eager=True, device_map=\"tpu:0\")"
   ]
  },
  {
   "cell_type": "code",
   "execution_count": 4,
   "metadata": {},
   "outputs": [],
   "source": [
    "from transformers import AutoTokenizer\n",
    "tokenizer = AutoTokenizer.from_pretrained(\"alpindale/gemma-2b\")\n",
    "tokenizer.padding_side = \"right\""
   ]
  },
  {
   "cell_type": "code",
   "execution_count": 5,
   "metadata": {},
   "outputs": [],
   "source": [
    "from sprint.icl_sfc_utils import Circuitizer"
   ]
  },
  {
   "cell_type": "code",
   "execution_count": 6,
   "metadata": {},
   "outputs": [],
   "source": [
    "from sprint.task_vector_utils import load_tasks, ICLRunner\n",
    "tasks = load_tasks()"
   ]
  },
  {
   "cell_type": "code",
   "execution_count": 7,
   "metadata": {},
   "outputs": [],
   "source": [
    "task_names = [\"en_es\", \"antonyms\", \"person_profession\"]\n",
    "task_name = task_names[1]"
   ]
  },
  {
   "cell_type": "code",
   "execution_count": 8,
   "metadata": {},
   "outputs": [],
   "source": [
    "import json\n",
    "\n",
    "with open(\"cleanup_results.jsonl\") as f:\n",
    "    lines = f.readlines()\n",
    "    results = [json.loads(line) for line in lines]"
   ]
  },
  {
   "cell_type": "code",
   "execution_count": 9,
   "metadata": {},
   "outputs": [
    {
     "name": "stdout",
     "output_type": "stream",
     "text": [
      "162\n",
      "Setting up masks...\n"
     ]
    },
    {
     "name": "stdout",
     "output_type": "stream",
     "text": [
      "Running metrics...\n",
      "Setting up RMS...\n"
     ]
    },
    {
     "data": {
      "application/vnd.jupyter.widget-view+json": {
       "model_id": "d8f079f2a23e4778959dfed6de18ad02",
       "version_major": 2,
       "version_minor": 0
      },
      "text/plain": [
       "  0%|          | 0/18 [00:00<?, ?it/s]"
      ]
     },
     "metadata": {},
     "output_type": "display_data"
    },
    {
     "name": "stdout",
     "output_type": "stream",
     "text": [
      "Loading SAEs...\n"
     ]
    },
    {
     "data": {
      "application/vnd.jupyter.widget-view+json": {
       "model_id": "09eadea6eb3849b3b53a2e93db619563",
       "version_major": 2,
       "version_minor": 0
      },
      "text/plain": [
       "  0%|          | 0/11 [00:00<?, ?it/s]"
      ]
     },
     "metadata": {},
     "output_type": "display_data"
    },
    {
     "name": "stdout",
     "output_type": "stream",
     "text": [
      "Running node IEs...\n"
     ]
    },
    {
     "data": {
      "application/vnd.jupyter.widget-view+json": {
       "model_id": "556dd47ab38d4247b9b53b9aa06c36d2",
       "version_major": 2,
       "version_minor": 0
      },
      "text/plain": [
       "  0%|          | 0/11 [00:00<?, ?it/s]"
      ]
     },
     "metadata": {},
     "output_type": "display_data"
    },
    {
     "data": {
      "application/vnd.jupyter.widget-view+json": {
       "model_id": "aa3ff6c7cb9a40e49fd648c23a8d9006",
       "version_major": 2,
       "version_minor": 0
      },
      "text/plain": [
       "  0%|          | 0/11 [00:00<?, ?it/s]"
      ]
     },
     "metadata": {},
     "output_type": "display_data"
    },
    {
     "data": {
      "application/vnd.jupyter.widget-view+json": {
       "model_id": "f5fd01a7e8a1499b837a53fe4c75e181",
       "version_major": 2,
       "version_minor": 0
      },
      "text/plain": [
       "  0%|          | 0/10 [00:00<?, ?it/s]"
      ]
     },
     "metadata": {},
     "output_type": "display_data"
    },
    {
     "data": {
      "application/vnd.jupyter.widget-view+json": {
       "model_id": "8222f6eaaeb14a33a7f091a5a5784065",
       "version_major": 2,
       "version_minor": 0
      },
      "text/plain": [
       "  0%|          | 0/100 [00:00<?, ?it/s]"
      ]
     },
     "metadata": {},
     "output_type": "display_data"
    },
    {
     "ename": "IndexError",
     "evalue": "list index out of range",
     "output_type": "error",
     "traceback": [
      "\u001b[0;31m---------------------------------------------------------------------------\u001b[0m",
      "\u001b[0;31mIndexError\u001b[0m                                Traceback (most recent call last)",
      "Cell \u001b[0;32mIn[9], line 38\u001b[0m\n\u001b[1;32m     34\u001b[0m ablated_metrics, n_nodes_counts \u001b[38;5;241m=\u001b[39m circuitizer\u001b[38;5;241m.\u001b[39mrun_ablated_metrics(thresholds, inverse\u001b[38;5;241m=\u001b[39m\u001b[38;5;28;01mTrue\u001b[39;00m)\n\u001b[1;32m     37\u001b[0m target_metric \u001b[38;5;241m=\u001b[39m (\u001b[38;5;28mmax\u001b[39m(ablated_metrics) \u001b[38;5;241m-\u001b[39m \u001b[38;5;28mmin\u001b[39m(ablated_metrics)) \u001b[38;5;241m*\u001b[39m \u001b[38;5;241m0.95\u001b[39m \u001b[38;5;241m+\u001b[39m \u001b[38;5;28mmin\u001b[39m(ablated_metrics)\n\u001b[0;32m---> 38\u001b[0m target_threshold \u001b[38;5;241m=\u001b[39m \u001b[43m[\u001b[49m\u001b[43mthreshold\u001b[49m\u001b[43m \u001b[49m\u001b[38;5;28;43;01mfor\u001b[39;49;00m\u001b[43m \u001b[49m\u001b[43mthreshold\u001b[49m\u001b[43m,\u001b[49m\u001b[43m \u001b[49m\u001b[43mmetric\u001b[49m\u001b[43m \u001b[49m\u001b[38;5;129;43;01min\u001b[39;49;00m\u001b[43m \u001b[49m\u001b[38;5;28;43mreversed\u001b[39;49m\u001b[43m(\u001b[49m\u001b[38;5;28;43mlist\u001b[39;49m\u001b[43m(\u001b[49m\u001b[38;5;28;43mzip\u001b[39;49m\u001b[43m(\u001b[49m\u001b[43mthresholds\u001b[49m\u001b[43m,\u001b[49m\u001b[43m \u001b[49m\u001b[43mablated_metrics\u001b[49m\u001b[43m)\u001b[49m\u001b[43m)\u001b[49m\u001b[43m)\u001b[49m\u001b[43m \u001b[49m\u001b[38;5;28;43;01mif\u001b[39;49;00m\u001b[43m \u001b[49m\u001b[43mmetric\u001b[49m\u001b[43m \u001b[49m\u001b[38;5;241;43m>\u001b[39;49m\u001b[43m \u001b[49m\u001b[43mtarget_metric\u001b[49m\u001b[43m]\u001b[49m\u001b[43m[\u001b[49m\u001b[38;5;241;43m0\u001b[39;49m\u001b[43m]\u001b[49m\n",
      "\u001b[0;31mIndexError\u001b[0m: list index out of range"
     ]
    }
   ],
   "source": [
    "def check_if_single_token(token):\n",
    "    return len(tokenizer.tokenize(token)) == 1\n",
    "\n",
    "task = tasks[task_name]\n",
    "\n",
    "print(len(task))\n",
    "\n",
    "task = {\n",
    "    k:v for k,v in task.items() if check_if_single_token(k) and check_if_single_token(v)\n",
    "}\n",
    "\n",
    "\n",
    "pairs = list(task.items())\n",
    "\n",
    "batch_size = 8 \n",
    "n_shot=16\n",
    "max_seq_len = 128\n",
    "seed = 10\n",
    "\n",
    "prompt = \"Follow the pattern:\\n{}\"\n",
    "\n",
    "runner = ICLRunner(task_name, pairs, batch_size=batch_size, n_shot=n_shot, max_seq_len=max_seq_len, seed=seed, prompt=prompt)\n",
    "\n",
    "\n",
    "layers = list(range(6, 17))\n",
    "circuitizer = Circuitizer(llama, tokenizer, runner, layers, prompt)"
   ]
  },
  {
   "cell_type": "code",
   "execution_count": 14,
   "metadata": {},
   "outputs": [
    {
     "data": {
      "application/vnd.jupyter.widget-view+json": {
       "model_id": "2a540aaded6241c382972ef9f968c658",
       "version_major": 2,
       "version_minor": 0
      },
      "text/plain": [
       "  0%|          | 0/100 [00:00<?, ?it/s]"
      ]
     },
     "metadata": {},
     "output_type": "display_data"
    }
   ],
   "source": [
    "import numpy as np\n",
    "thresholds = np.logspace(-5, 0, 100)\n",
    "topks = [4, 6, 12, 16, 24, 32]\n",
    "\n",
    "\n",
    "ablated_metrics, n_nodes_counts = circuitizer.run_ablated_metrics(thresholds, inverse=True)\n",
    "\n",
    "\n",
    "target_metric = (max(ablated_metrics) - min(ablated_metrics)) * 0.95 + min(ablated_metrics)\n",
    "target_threshold = [threshold for threshold, metric in reversed(list(zip(thresholds, ablated_metrics))) if metric > target_metric][0]"
   ]
  },
  {
   "cell_type": "code",
   "execution_count": 26,
   "metadata": {},
   "outputs": [
    {
     "data": {
      "image/png": "[encoded data removed]",
      "text/plain": [
       "<Figure size 640x480 with 1 Axes>"
      ]
     },
     "metadata": {},
     "output_type": "display_data"
    }
   ],
   "source": [
    "import matplotlib.pyplot as plt\n",
    "\n",
    "plt.plot(thresholds, ablated_metrics)\n",
    "plt.xscale(\"log\")"
   ]
  },
  {
   "cell_type": "code",
   "execution_count": 25,
   "metadata": {},
   "outputs": [
    {
     "data": {
      "text/html": [
       "<script> (()=>{ if (customElements.get('treescope-container') === undefined) { class TreescopeContainer extends HTMLElement { constructor() { super(); this.attachShadow({mode: \"open\"}); this.defns = {}; this.state = {}; } } customElements.define(\"treescope-container\", TreescopeContainer); } if (customElements.get('treescope-run-here') === undefined) { class RunHere extends HTMLElement { constructor() { super() } connectedCallback() { const run = child => { const fn = new Function(child.textContent); child.textContent = \"\"; fn.call(this); this.remove(); }; const child = this.querySelector(\"script\"); if (child) { run(child); } else { new MutationObserver(()=>{ run(this.querySelector(\"script\")); }).observe(this, {childList: true}); } } } customElements.define(\"treescope-run-here\", RunHere); } })(); </script> <treescope-container class=\"treescope_out_c415550f0fa648de85de28c00c410edd\" ></treescope-container> <treescope-run-here><script type=\"application/octet-stream\"> const root = ( Array.from(document.getElementsByClassName( \"treescope_out_c415550f0fa648de85de28c00c410edd\")) .filter((elt) => !elt.dataset.setup) )[0]; root.dataset.setup = 1; const msg = document.createElement(\"span\"); msg.style = \"color: #aaaaaa; font-family: monospace; transition: opacity 0.2s; opacity: 0.0;\"; msg.textContent = \"(Loading...)\"; root.state.loadingMsg = msg; root.shadowRoot.appendChild(msg); root.state.chain = new Promise((resolve, reject) => { const observer = new IntersectionObserver((entries) => { for (const entry of entries) { if (entry.isIntersecting) { resolve(); observer.disconnect(); return; } } }, {rootMargin: \"1000px\"}); window.setTimeout(() => { if (root.loadingMsg) { root.loadingMsg.style.opacity = \"1.0\"; } observer.observe(root); }, 0); }); root.state.deferring = false; const _insertNode = (node) => { for (let oldScript of node.querySelectorAll(\"script\")) { let newScript = document.createElement(\"script\"); newScript.type = oldScript.type; newScript.textContent = oldScript.textContent; oldScript.parentNode.replaceChild(newScript, oldScript); } if (root.state.loadingMsg) { root.state.loadingMsg.remove(); root.state.loadingMsg = null; } root.shadowRoot.appendChild(node); }; root.defns.insertContent = ((contentNode, compressed) => { if (compressed) { root.state.deferring = true; } if (root.state.deferring) { root.state.chain = (async () => { await root.state.chain; if (compressed) { const encoded = contentNode.textContent; const blob = new Blob([ Uint8Array.from(atob(encoded), (m) => m.codePointAt(0)) ]); const reader = blob.stream().pipeThrough( new DecompressionStream(\"deflate\") ).pipeThrough( new TextDecoderStream(\"utf-8\") ).getReader(); const parts = []; while (true) { const step = await reader.read(); if (step.done) { break; } parts.push(step.value); } const tpl = document.createElement('template'); tpl.innerHTML = parts.join(\"\"); _insertNode(tpl.content); } else { _insertNode(contentNode.content); } })(); } else { _insertNode(contentNode.content); } }); </script></treescope-run-here><div style=\"display:none\"> <script type=\"application/octet-stream\" >eNqNVE1v2zAM/SuCd6gNzG7aYkOXxAZ6GXYYdtgOOwxDoNi0LUSmNIlOlg3976PkJOtHVgw5xCKpx8cnkktPew1VQQ7A18bCyhlD4rewxitSBufCgZaktrAQrUHKWzkovZ+LwaDxVtZs3/WKII+HubCOLVp5yiN0TnvLVjTI5rWsN50zIzZ5bbRx8+nqQhxOa80BjKca6ueiVcRhSIC0EFY2jcIu19DSXFzXfUiCkPegup4tV8WbAIMkFXM+XTt85Fvl1VppRcxcjmROsblCcgq9qnOvfsHkPdC9X15O8ixP8uRuRM7p2OZrpyyJUF95Ia3VqpZBsUtTE4TqHcjhokrTrKxYUM7nSTTQoheloF75ogP6zGp/Mg2kWdEbT0X0c2lAYmUBQ8l3dUANl759P+f5ILHRwG4ctV5MGQqm+cUYZGu6M26TiYcczFc2BdcjM6k6GC241rhBYg0Fml2axfflBOkzj8inS0txc50xjmpF+oR1oQE76kVZilkIeZG6Axodsu4CtIe/xPoRA7On0L5XLQV+MSB83PPvHxlS7ipszK5w8GMET3eohvhc750cIJ00yQLG4lkiO/p+knFxpsZjinIq44Uq/59DYDE9JJmu09NUruLkcLfagBUsoOm1gC03+OElA7t4LjawD6InLgmEDsFFraX3H3k4D7hpcsJcDdyGyTH5fcZ6cvvHHq+Wl+cGoFFbEQHL5PH6SATJNVcKP8tklgiDTIbLRo57qe3P15qGO8cqEx67aWHFjbHCcViDi50SF8ir2bvbqzdvH44uryU80ux5Vh2vjc2KpGMaiWgkyZzpWUl9mSSPwx/mSKqr2e3NDcNyQHX6Yw2qP1h33Cg=</script> <treescope-run-here><script type=\"application/octet-stream\"> const root = ( Array.from(document.getElementsByClassName( \"treescope_out_c415550f0fa648de85de28c00c410edd\")) .filter((elt) => !elt.dataset['step0']) )[0]; root.dataset['step0'] = 1; root.defns.insertContent( this.parentNode.querySelector('script[type=\"application/octet-stream\"]'), true ); this.parentNode.remove(); </script></treescope-run-here> </div>"
      ],
      "text/plain": [
       "<IPython.core.display.HTML object>"
      ]
     },
     "metadata": {},
     "output_type": "display_data"
    },
    {
     "data": {
      "text/html": [
       "<treescope-run-here><script type=\"application/octet-stream\"> const root = ( Array.from(document.getElementsByClassName( \"treescope_out_c415550f0fa648de85de28c00c410edd\")) .filter((elt) => !elt.dataset.stolen) )[0]; root.dataset.stolen = 1; this.parentNode.replaceChild(root, this); </script></treescope-run-here>"
      ],
      "text/plain": [
       "10833"
      ]
     },
     "execution_count": 25,
     "metadata": {},
     "output_type": "execute_result"
    }
   ],
   "source": [
    "n_nodes_counts[-1] - n_nodes_counts[50]"
   ]
  },
  {
   "cell_type": "code",
   "execution_count": 10,
   "metadata": {},
   "outputs": [],
   "source": [
    "features = [9790, 12605, 13458, 11491, 18803, 2931, 11618, 26987, 5679, 15554, 26594]"
   ]
  },
  {
   "cell_type": "code",
   "execution_count": 11,
   "metadata": {},
   "outputs": [],
   "source": [
    "from sprint.icl_sfc_utils import AblatedModule\n",
    "layer = 12\n",
    "mask_name = \"arrow\""
   ]
  },
  {
   "cell_type": "code",
   "execution_count": 51,
   "metadata": {},
   "outputs": [],
   "source": [
    "task_results = [result for result in results if result[\"task\"] == task_name]"
   ]
  },
  {
   "cell_type": "code",
   "execution_count": 75,
   "metadata": {},
   "outputs": [
    {
     "data": {
      "text/html": [
       "<script> (()=>{ if (customElements.get('treescope-container') === undefined) { class TreescopeContainer extends HTMLElement { constructor() { super(); this.attachShadow({mode: \"open\"}); this.defns = {}; this.state = {}; } } customElements.define(\"treescope-container\", TreescopeContainer); } if (customElements.get('treescope-run-here') === undefined) { class RunHere extends HTMLElement { constructor() { super() } connectedCallback() { const run = child => { const fn = new Function(child.textContent); child.textContent = \"\"; fn.call(this); this.remove(); }; const child = this.querySelector(\"script\"); if (child) { run(child); } else { new MutationObserver(()=>{ run(this.querySelector(\"script\")); }).observe(this, {childList: true}); } } } customElements.define(\"treescope-run-here\", RunHere); } })(); </script> <treescope-container class=\"treescope_out_c9be0e4d9af8428da644d5cf5444ee97\" ></treescope-container> <treescope-run-here><script type=\"application/octet-stream\"> const root = ( Array.from(document.getElementsByClassName( \"treescope_out_c9be0e4d9af8428da644d5cf5444ee97\")) .filter((elt) => !elt.dataset.setup) )[0]; root.dataset.setup = 1; const msg = document.createElement(\"span\"); msg.style = \"color: #aaaaaa; font-family: monospace; transition: opacity 0.2s; opacity: 0.0;\"; msg.textContent = \"(Loading...)\"; root.state.loadingMsg = msg; root.shadowRoot.appendChild(msg); root.state.chain = new Promise((resolve, reject) => { const observer = new IntersectionObserver((entries) => { for (const entry of entries) { if (entry.isIntersecting) { resolve(); observer.disconnect(); return; } } }, {rootMargin: \"1000px\"}); window.setTimeout(() => { if (root.loadingMsg) { root.loadingMsg.style.opacity = \"1.0\"; } observer.observe(root); }, 0); }); root.state.deferring = false; const _insertNode = (node) => { for (let oldScript of node.querySelectorAll(\"script\")) { let newScript = document.createElement(\"script\"); newScript.type = oldScript.type; newScript.textContent = oldScript.textContent; oldScript.parentNode.replaceChild(newScript, oldScript); } if (root.state.loadingMsg) { root.state.loadingMsg.remove(); root.state.loadingMsg = null; } root.shadowRoot.appendChild(node); }; root.defns.insertContent = ((contentNode, compressed) => { if (compressed) { root.state.deferring = true; } if (root.state.deferring) { root.state.chain = (async () => { await root.state.chain; if (compressed) { const encoded = contentNode.textContent; const blob = new Blob([ Uint8Array.from(atob(encoded), (m) => m.codePointAt(0)) ]); const reader = blob.stream().pipeThrough( new DecompressionStream(\"deflate\") ).pipeThrough( new TextDecoderStream(\"utf-8\") ).getReader(); const parts = []; while (true) { const step = await reader.read(); if (step.done) { break; } parts.push(step.value); } const tpl = document.createElement('template'); tpl.innerHTML = parts.join(\"\"); _insertNode(tpl.content); } else { _insertNode(contentNode.content); } })(); } else { _insertNode(contentNode.content); } }); </script></treescope-run-here><div style=\"display:none\"> <script type=\"application/octet-stream\" >eNqNVE1v2zAM/SuCd6gNzO7H0KFLYgO9DDsMO2yHHYYhUGzaFiJTmkQny4b+91FykqVtVgw5xCKpx/cokgtPOw1VQQ7A18bC0hlD4rewxitSBmfCgZakNjAXrUHKWzkovZuJwaDxVtZs3/aKII+HmbCOLVp5yiN0TjvLVjTI5pWs150zIzZ5bbRxs+nqXOxPK80BjKca6meiVcRhSIA0F1Y2jcIu19DSTNzUfUiCkPegup4t18VtgEGSijkfr+0/8o3yaqW0ImYuRzLH2FwhOYVe1blXv2Dy7uk+LC6n8iyO5cndiJzTsc3XTlkSQV95Ia3VqpahYpemJgjqHcjhokrTrKy4oJzPk2igRS9KQb3yRQf0mav9yTSQZkVvPBXRz9KAxNICBsn3dUANl759P+f5ILHRwG4ctZ5PGQqm+cUYZGu6NW6diVMO5iubguuRmVQdjBZca9wgsYYCzTbN4vtygvSZR+TTpYV4c5MxjmpF+oR1oQE76kVZiqsQ8iJ1BzQ65LoL0B7+EutHDMyeQvtetRT4xYDw8cC/f2RIuauwMdvCwY8RPN2jGuJzvXdygHSqSRYw5s8S2dH3UxnnZzQeUpSTjBdU/j+HwGJ6SDJdp6epXMbJ4W61AStYQNNrARtu8P1LBnbxXKxhF4qeuCQQ2gcXtZbef+Th3OOmyRFzOXAbJofkDxnXk9s/9ni1uDw3AI3aiAhYJo/XRyJIrlgp/CyTq0QYZDIsGznupbY/rzUNdw4qEx67aWHFjbHEcViBi50SF8irq3d317dvT0eX1xIeaPY8q47XxnpJ0jGNRDSSZM70rKS+TJLH4ac5kuqOIdlZHf9Yf/UH89XbYQ==</script> <treescope-run-here><script type=\"application/octet-stream\"> const root = ( Array.from(document.getElementsByClassName( \"treescope_out_c9be0e4d9af8428da644d5cf5444ee97\")) .filter((elt) => !elt.dataset['step0']) )[0]; root.dataset['step0'] = 1; root.defns.insertContent( this.parentNode.querySelector('script[type=\"application/octet-stream\"]'), true ); this.parentNode.remove(); </script></treescope-run-here> </div>"
      ],
      "text/plain": [
       "<IPython.core.display.HTML object>"
      ]
     },
     "metadata": {},
     "output_type": "display_data"
    },
    {
     "data": {
      "text/html": [
       "<treescope-run-here><script type=\"application/octet-stream\"> const root = ( Array.from(document.getElementsByClassName( \"treescope_out_c9be0e4d9af8428da644d5cf5444ee97\")) .filter((elt) => !elt.dataset.stolen) )[0]; root.dataset.stolen = 1; this.parentNode.replaceChild(root, this); </script></treescope-run-here>"
      ],
      "text/plain": [
       "8"
      ]
     },
     "execution_count": 75,
     "metadata": {},
     "output_type": "execute_result"
    }
   ],
   "source": [
    "len(task_results)"
   ]
  },
  {
   "cell_type": "code",
   "execution_count": 72,
   "metadata": {},
   "outputs": [],
   "source": [
    "import jax.numpy as jnp\n",
    "\n",
    "layer_masks = {}\n",
    "\n",
    "resid = circuitizer.saes[(12, \"resid\")]\n",
    "\n",
    "\n",
    "for r in task_results:\n",
    "    layer = r[\"layer\"]\n",
    "    w = np.array(r[\"weights\"])\n",
    "    f_ids = jnp.nonzero(w * (w > 0))\n",
    "\n",
    "    feature = features[0]\n",
    "\n",
    "    mask = np.ones(resid[\"W_dec\"].shape[0])\n",
    "    mask[f_ids] = 0\n",
    "\n",
    "    mask = jnp.array(mask)\n",
    "\n",
    "    masks = {\n",
    "        k: mask for k in circuitizer.masks\n",
    "    }\n",
    "\n",
    "    # masks[mask_name] = mask\n",
    "\n",
    "    layer_masks[layer] = masks\n",
    "\n"
   ]
  },
  {
   "cell_type": "code",
   "execution_count": 73,
   "metadata": {},
   "outputs": [],
   "source": [
    "from micrlhf.llama import LlamaBlock\n",
    "\n",
    "llama_ablated = llama\n",
    "\n",
    "for layer, masks in layer_masks.items():\n",
    "    block_selection = llama_ablated.select().at_instances_of(LlamaBlock).pick_nth_selected(layer)\n",
    "\n",
    "    def converter(block):\n",
    "        block = block.select().at_instances_of(LlamaBlock).apply(lambda x: pz.nn.Sequential([AblatedModule.wrap(resid, masks, circuitizer.masks), x]))    \n",
    "        return block\n",
    "\n",
    "    llama_ablated = block_selection.apply(converter)"
   ]
  },
  {
   "cell_type": "code",
   "execution_count": 74,
   "metadata": {},
   "outputs": [
    {
     "name": "stdout",
     "output_type": "stream",
     "text": [
      "-1.6610659\n",
      "-1.40625\n"
     ]
    }
   ],
   "source": [
    "print(circuitizer.ablated_metric(llama_ablated))\n",
    "print(circuitizer.ablated_metric(llama))"
   ]
  },
  {
   "cell_type": "code",
   "execution_count": 18,
   "metadata": {},
   "outputs": [
    {
     "data": {
      "application/vnd.jupyter.widget-view+json": {
       "model_id": "2180c4a3860a41ce981742afed30f0cb",
       "version_major": 2,
       "version_minor": 0
      },
      "text/plain": [
       "  0%|          | 0/3 [00:00<?, ?it/s]"
      ]
     },
     "metadata": {},
     "output_type": "display_data"
    },
    {
     "data": {
      "text/html": [
       "<script> (()=>{ if (customElements.get('treescope-container') === undefined) { class TreescopeContainer extends HTMLElement { constructor() { super(); this.attachShadow({mode: \"open\"}); this.defns = {}; this.state = {}; } } customElements.define(\"treescope-container\", TreescopeContainer); } if (customElements.get('treescope-run-here') === undefined) { class RunHere extends HTMLElement { constructor() { super() } connectedCallback() { const run = child => { const fn = new Function(child.textContent); child.textContent = \"\"; fn.call(this); this.remove(); }; const child = this.querySelector(\"script\"); if (child) { run(child); } else { new MutationObserver(()=>{ run(this.querySelector(\"script\")); }).observe(this, {childList: true}); } } } customElements.define(\"treescope-run-here\", RunHere); } })(); </script> <treescope-container class=\"treescope_out_c8c2032c99a34453893e9b8a700039fb\" ></treescope-container> <treescope-run-here><script type=\"application/octet-stream\"> const root = ( Array.from(document.getElementsByClassName( \"treescope_out_c8c2032c99a34453893e9b8a700039fb\")) .filter((elt) => !elt.dataset.setup) )[0]; root.dataset.setup = 1; const msg = document.createElement(\"span\"); msg.style = \"color: #aaaaaa; font-family: monospace; transition: opacity 0.2s; opacity: 0.0;\"; msg.textContent = \"(Loading...)\"; root.state.loadingMsg = msg; root.shadowRoot.appendChild(msg); root.state.chain = new Promise((resolve, reject) => { const observer = new IntersectionObserver((entries) => { for (const entry of entries) { if (entry.isIntersecting) { resolve(); observer.disconnect(); return; } } }, {rootMargin: \"1000px\"}); window.setTimeout(() => { if (root.loadingMsg) { root.loadingMsg.style.opacity = \"1.0\"; } observer.observe(root); }, 0); }); root.state.deferring = false; const _insertNode = (node) => { for (let oldScript of node.querySelectorAll(\"script\")) { let newScript = document.createElement(\"script\"); newScript.type = oldScript.type; newScript.textContent = oldScript.textContent; oldScript.parentNode.replaceChild(newScript, oldScript); } if (root.state.loadingMsg) { root.state.loadingMsg.remove(); root.state.loadingMsg = null; } root.shadowRoot.appendChild(node); }; root.defns.insertContent = ((contentNode, compressed) => { if (compressed) { root.state.deferring = true; } if (root.state.deferring) { root.state.chain = (async () => { await root.state.chain; if (compressed) { const encoded = contentNode.textContent; const blob = new Blob([ Uint8Array.from(atob(encoded), (m) => m.codePointAt(0)) ]); const reader = blob.stream().pipeThrough( new DecompressionStream(\"deflate\") ).pipeThrough( new TextDecoderStream(\"utf-8\") ).getReader(); const parts = []; while (true) { const step = await reader.read(); if (step.done) { break; } parts.push(step.value); } const tpl = document.createElement('template'); tpl.innerHTML = parts.join(\"\"); _insertNode(tpl.content); } else { _insertNode(contentNode.content); } })(); } else { _insertNode(contentNode.content); } }); </script></treescope-run-here><div style=\"display:none\"> <script type=\"application/octet-stream\" >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</script> <treescope-run-here><script type=\"application/octet-stream\"> const root = ( Array.from(document.getElementsByClassName( \"treescope_out_c8c2032c99a34453893e9b8a700039fb\")) .filter((elt) => !elt.dataset['step0']) )[0]; root.dataset['step0'] = 1; root.defns.insertContent( this.parentNode.querySelector('script[type=\"application/octet-stream\"]'), true ); this.parentNode.remove(); </script></treescope-run-here> </div>"
      ],
      "text/plain": [
       "<IPython.core.display.HTML object>"
      ]
     },
     "metadata": {},
     "output_type": "display_data"
    },
    {
     "data": {
      "text/html": [
       "<treescope-run-here><script type=\"application/octet-stream\"> const root = ( Array.from(document.getElementsByClassName( \"treescope_out_c8c2032c99a34453893e9b8a700039fb\")) .filter((elt) => !elt.dataset.stolen) )[0]; root.dataset.stolen = 1; this.parentNode.replaceChild(root, this); </script></treescope-run-here>"
      ],
      "text/plain": [
       "([-1.3984375, -1.4296875, -1.0703125], [5242880, 200719, 118202])"
      ]
     },
     "execution_count": 18,
     "metadata": {},
     "output_type": "execute_result"
    }
   ],
   "source": [
    "circuitizer.run_ablated_metrics([-1, 0, target_threshold])"
   ]
  },
  {
   "cell_type": "code",
   "execution_count": 20,
   "metadata": {},
   "outputs": [
    {
     "data": {
      "text/html": [
       "<script> (()=>{ if (customElements.get('treescope-container') === undefined) { class TreescopeContainer extends HTMLElement { constructor() { super(); this.attachShadow({mode: \"open\"}); this.defns = {}; this.state = {}; } } customElements.define(\"treescope-container\", TreescopeContainer); } if (customElements.get('treescope-run-here') === undefined) { class RunHere extends HTMLElement { constructor() { super() } connectedCallback() { const run = child => { const fn = new Function(child.textContent); child.textContent = \"\"; fn.call(this); this.remove(); }; const child = this.querySelector(\"script\"); if (child) { run(child); } else { new MutationObserver(()=>{ run(this.querySelector(\"script\")); }).observe(this, {childList: true}); } } } customElements.define(\"treescope-run-here\", RunHere); } })(); </script> <treescope-container class=\"treescope_out_3070f60a7aa5411a8add12a948bb5289\" ></treescope-container> <treescope-run-here><script type=\"application/octet-stream\"> const root = ( Array.from(document.getElementsByClassName( \"treescope_out_3070f60a7aa5411a8add12a948bb5289\")) .filter((elt) => !elt.dataset.setup) )[0]; root.dataset.setup = 1; const msg = document.createElement(\"span\"); msg.style = \"color: #aaaaaa; font-family: monospace; transition: opacity 0.2s; opacity: 0.0;\"; msg.textContent = \"(Loading...)\"; root.state.loadingMsg = msg; root.shadowRoot.appendChild(msg); root.state.chain = new Promise((resolve, reject) => { const observer = new IntersectionObserver((entries) => { for (const entry of entries) { if (entry.isIntersecting) { resolve(); observer.disconnect(); return; } } }, {rootMargin: \"1000px\"}); window.setTimeout(() => { if (root.loadingMsg) { root.loadingMsg.style.opacity = \"1.0\"; } observer.observe(root); }, 0); }); root.state.deferring = false; const _insertNode = (node) => { for (let oldScript of node.querySelectorAll(\"script\")) { let newScript = document.createElement(\"script\"); newScript.type = oldScript.type; newScript.textContent = oldScript.textContent; oldScript.parentNode.replaceChild(newScript, oldScript); } if (root.state.loadingMsg) { root.state.loadingMsg.remove(); root.state.loadingMsg = null; } root.shadowRoot.appendChild(node); }; root.defns.insertContent = ((contentNode, compressed) => { if (compressed) { root.state.deferring = true; } if (root.state.deferring) { root.state.chain = (async () => { await root.state.chain; if (compressed) { const encoded = contentNode.textContent; const blob = new Blob([ Uint8Array.from(atob(encoded), (m) => m.codePointAt(0)) ]); const reader = blob.stream().pipeThrough( new DecompressionStream(\"deflate\") ).pipeThrough( new TextDecoderStream(\"utf-8\") ).getReader(); const parts = []; while (true) { const step = await reader.read(); if (step.done) { break; } parts.push(step.value); } const tpl = document.createElement('template'); tpl.innerHTML = parts.join(\"\"); _insertNode(tpl.content); } else { _insertNode(contentNode.content); } })(); } else { _insertNode(contentNode.content); } }); </script></treescope-run-here><div style=\"display:none\"> <script type=\"application/octet-stream\" >eNrlW3tX4kgW/yrVmT+EVWIePARbzwbkZTfait3azvRxiqSSlIQkJgWIc/zueysBFUUxM+5uDug5gpW6dV91Xz/xc8gmDtkXWUBIqHs+uQo8j6G/kO+FlFHPraCAOJjREdlFpueynIkH1JlU0MBzvdDHOqyPbcpILvqlgvwAVhwaslx0dI5NfFh1PReWe1jvW4E3dI2c7jleUIlJd9H0t54DG+A8ajC7gkzKYJvLiMt2kY8Ng7pWziEmqyBFtzkTl+RsQi0bVmSxwI9xGaYg8wPZ9E1uREPaow5lIDkeMu9hb466LKBuSPVcSO9I/HQq7v3n7dg8nx/MkwuGLvAMYC3UA+ozxPXb28C+71Adc4ttezojXPuA4MHGfiaT3dsHgwK/kCGDmG6I9hCzaShahJ2CtY88g2Syou2FTIyeg2qEoSufuFxlTeencqLffy160sKu4RB47A4dZzfmIIKYXc9zYTUz9oJ+Fj2VwTuHJf5obplRnS/6JDC9YIBdnYiuN85kI/8Cg8yLJygXE31GqpKFc6iJMs+kFh3iWsxGe3tI4lveFD0gbBi4YHdEnJA8CmYPXS7Z86NDm5qMyxdt4G/u4fsVDhm4Va7hjcWA3AxJyDSXDiJ3NQI8IJnYJll+xu4LRv4wtGMz7i7QccZiL1bjDS3fLwOXInYk8yzLiaPyKoocuK0+P4uvEIdtITKCCz71JJcu+l3skwk3uhAIXKDpZlF3cBh+heCcnpsRHs68GsA1FGbM77NgT7j+0R3f/7y9KAAMOkLRgXvCfPoQEMM90JTc7gmSgDwXhAG1Xdj31rVfrGuG08y0FCDs4oQVZYwrdzjokSC6KVEC+U0q78iFIsgvmp5j4B4c5wKfVxLaPZrfdhVLALsNGvoOnswS1/ONaB85uEecSqVHICbIEwn06Gt3Ib84eeVknr2mSU7afeRF3Sil9RyPZ8FXedreiAQvORs46IcEW+AK9yV1xfVY5tmSjcPMfnTm/kI7RDQV3SZ6nxjZLPpX9lEGTrqYaLZ/TsIoC1fQxh9Koadv/D/Fmyd6Vcji/0BI7kfOeBiE3IG+B7WIBAv40vDj2EahEDHKRTEVvnbHP4bro3qM3LKXXEQaXpk0CNmV517x678gtN4KJVEp8Gha6Cr0j8WPPf5cRK7VAAcWdA+xGFFA3/9DbpDS/ElvyBiU7UUJ6PHxoksrIOHZLjAktGSLN/9B5LwhPOvoNjoYbgXFDupOBj3PCdHxkHF9DVSLKeHVn0Bg5Mak14fuLCIPB5Cvbah20Du5DMgpDonx0NP9RiT+vfvymsfUUdMliWUyeK5lHB8LtFic7h4pxTEOr3Tox8CwD/TYZHOVYpan3+L5jGae5VPToxEOMrmcgRnOYRccG5X17NNlzoT3KgF2Z7c5OhbJISJgMWhEc96QJVPlQQJwDCXGp3lJIpboEx34XsCw++LsXuD1iXvFVx6T0XLrPiF7Ys+Zm+9FXvlBMONKh77RCIg7FXW+M4cz5zd+UHZ9EjrTQjoXqjp29AyMD9C7yv5t1O6IIcOc/kHe/5okPS8wIO/GkhgeA925FE+NF9o4AFHGOHAhpK5mKXtmZdPEuqwu2OhDV/jXw5QUTIcinpem6k+XcpIYJczHUawSDVI4yFkBNig4JCOrBYNYW8iDu2oRJEF4FnV7K767PrCFTBAtoan9XojyImV+mEnnnDlT5l4c29GNdBzsQ/JZ3sAlz86vc4jbtohHtIncQpQar+75CDkWsfjAmZWPEeiTFgR4IpqBN4DRRB8O+FjBc3YojrAD80smmxVDDwaXKJPzAYS/inE54cPHOwuKsIGyKPsw7oU2gRkXhikyRrVut8u16fI1PuFFD2F+ApV10p24eubPf0+LmM6Lw98saHEp4py4HWHGdaZr4ym8kJcgOsNAr6Bh4GR4dq3w59tjzzSV3R7k72J+y5DKzY6lVbXoq32iaV70rno6hp+thqbVtbe+qgNNs/reF6Ndr9bGPzXt7GftUOu0qzWtYd22W19tFlY7lFhq4+BC+dou/hx1/SH91imcyYcX7dMfndF55459mzQatc1zq39GqweSTQ9Ohod1o3kttXrb5qht+DdfivbNOaUnw47btFvmd6Z9L1aPgrzWaLv9elH/Phy6m6eFGz3sj0dmw9m+ubXq3o7VOxw3d+SWtu1qp4WvQXAon25ad9KpIWmHpmwdlWrj5rViSd5keFoqDepycdy6KB9blk/O+pM8affuCnovOG4yrFkn7aPxAQ4n4cmw3b44rzfG2rcTv/3T+L69vWmVzkoXKpPML99utFEBzvyqHZW0zlgbWHen3c3hZZfUL24Vs6jfHeVPW5PCsKp9uate+w1fpa2TWl26HH7Ld0uuWf1abzU6A41u7ozqiu3Kdmmz92N8cT1uBaOD5veae23W6xbbPNYvHadUKNcOx9Udu5zvdJpdtXmpWYN24bp6UmZnTdIq16vVdlM9sPKn2z/1SU9rgk9/fNnWTppYI52ao7Xu6sfWJbOK1W/W8XH7oNqnJwXSqF7Uqg2dSr4deL4Ld8O/rB/Id3K/a9ZMZk++uC0DN8KWKR0NmvWjYtXQbn788DELu5cDw8C0rJh35fx3en1T9AdB8dj7WevSoDkYHTbV7nlXbdQVvXpinm22HM9v5hvhuICtm+IOvSTdI8c/d6utNjE6ARme3zRrA/m8EfS73duCUjw/D8caSJRFEb7DMhvRtd7g2f1P+PEQ/djwfKhZjyEZoVKiKL6xYyuO2V9w1tvTvx3BJFFbEXc8cDZcD1dHmbjxmAexIATPPB6+sG3amPC1ENIDP4J3Wrw9wWNMGXLxiFqYeYEIJ/s9DweGOA4oI2cwlGQezwJlp2c9IiVQUjPCkzaMYyTA5YwOCPRrmRmI9oIuIAPoqV6Q3m8hRZKkqHJC8oUimokGisV8n/RawqNwfJSaZTAOKwnoN9TA1IHExjzEN3+KMhtUS3eIHcjGFGxGsMFbxc2ntpviPUuQHt52zqCeeUzieZ0X9j/Hxewzdf3htNIIUfnqebfCwkOmlQ4exlUOhIiI5/nacFIALPpXDFoAwoRIjVyfTCBG7D1B2P8dtAACIJ+K8JT8RVMqvPVcSMb7d+nXM4qn8JSwz8fUkppXS4UHEaOXrTma+Q5D2EezzS82zcr/PNONxx59A3lujd+5vY2EQRfBbdkN9DBA7AkZBw96Bo5AxEr0E/TNCiiql3vCk2EDSu7izXxmfD4dweboCnITwvupLvvzFnr28nEek5d7bEdWVsVfchJ/yWn0l7LcX4XSCnlMSeIxJY0eU5d7rFgorozD1CQOU9PosPxSh8kleWdlalg+icPyaXRYYanDpFVKiYUkDiuk0WHF5REmySuUE4tJPFZMo8dKyz2mrlKjWErisVIaPbazXklxJ4nDdtLosPKaJcVyEo+VUzk7S+/oFMvF1WkV5UR4h5xOwENer/ZeToZ5pBL0kJejHnK5oK4QTpUI9pBTiXvI7wA+ZKm8OmCwnAj6kFOJfcjvAD9WKDcmwj7kVIIfcmGtPJYI/JBTiX7IxbXyWCLwQ04l+iGX1q3RT4R/yKkEQOTlCMgqjdNyIgRETiUEIi/HQKRCfpXiLBEIIqcSBVGkNXOakggFUVKJgijLURBppXyWCAVR0vnRD2W9IH0l2Wc/UgmCKOqa/eFMSQSCKKkEQZTlIMgq4VZKIhRESSUKorzjMyCr0+sriVAQJZUoiPIOFGSl/hCjJAJClFQCIco7gJD8KgVaIhxESSUOouys2QcLlERIiJJKJEQpr1mgJQJClFQCIaq0ZhVNTQSEqKkEQlR5zaB9NRESoqYSCVHf818wq+KvRCiIms5/gVHX6zNXarJ/gkklCKLm16sDUROhIGoqURC1sFbAlZoIBlFTCYOoy2EQaaVQfTURDKKmEgZRl8Mg0gp9GlVNhIKoqURB1HVDQdREKIiaShRE/Zv/E/OWO7ZS7LJEIIj6gSBI/PLrPaaZURh0tP8f3Fy3yA==</script> <treescope-run-here><script type=\"application/octet-stream\"> const root = ( Array.from(document.getElementsByClassName( \"treescope_out_3070f60a7aa5411a8add12a948bb5289\")) .filter((elt) => !elt.dataset['step0']) )[0]; root.dataset['step0'] = 1; root.defns.insertContent( this.parentNode.querySelector('script[type=\"application/octet-stream\"]'), true ); this.parentNode.remove(); </script></treescope-run-here> </div>"
      ],
      "text/plain": [
       "<IPython.core.display.HTML object>"
      ]
     },
     "metadata": {},
     "output_type": "display_data"
    },
    {
     "data": {
      "text/html": [
       "<treescope-run-here><script type=\"application/octet-stream\"> const root = ( Array.from(document.getElementsByClassName( \"treescope_out_3070f60a7aa5411a8add12a948bb5289\")) .filter((elt) => !elt.dataset.stolen) )[0]; root.dataset.stolen = 1; this.parentNode.replaceChild(root, this); </script></treescope-run-here>"
      ],
      "text/plain": [
       "[-1.2734375,\n",
       " -1.28125,\n",
       " -1.2578125,\n",
       " -1.265625,\n",
       " -1.171875,\n",
       " -1.078125,\n",
       " -1.1015625,\n",
       " -1.1328125,\n",
       " -1.078125,\n",
       " -1.1015625,\n",
       " -1.1796875,\n",
       " -1.171875,\n",
       " -1.1953125,\n",
       " -1.2109375,\n",
       " -1.1875,\n",
       " -1.1875,\n",
       " -1.1875,\n",
       " -1.1796875,\n",
       " -1.15625,\n",
       " -1.0546875,\n",
       " -1.0546875,\n",
       " -1.046875,\n",
       " -1.078125,\n",
       " -1.1328125,\n",
       " -1.09375,\n",
       " -1.0625,\n",
       " -1.1171875,\n",
       " -1.140625,\n",
       " -1.1015625,\n",
       " -1.140625,\n",
       " -1.1171875,\n",
       " -1.1796875,\n",
       " -1.25,\n",
       " -1.171875,\n",
       " -1.140625,\n",
       " -1.09375,\n",
       " -1.0078125,\n",
       " -1.03125,\n",
       " -1.1015625,\n",
       " -1.1015625]"
      ]
     },
     "execution_count": 20,
     "metadata": {},
     "output_type": "execute_result"
    }
   ],
   "source": [
    "import matplotlib.pyplot as plt\n",
    "\n",
    "ablated_metrics[:40]"
   ]
  },
  {
   "cell_type": "code",
   "execution_count": 22,
   "metadata": {},
   "outputs": [],
   "source": [
    "logits = llama(circuitizer.llama_inputs)"
   ]
  },
  {
   "cell_type": "code",
   "execution_count": 24,
   "metadata": {},
   "outputs": [],
   "source": [
    "logits = logits.unwrap(\"batch\", \"seq\", \"vocabulary\")"
   ]
  },
  {
   "cell_type": "code",
   "execution_count": 26,
   "metadata": {},
   "outputs": [],
   "source": [
    "logits = logits.argmax(-1)"
   ]
  },
  {
   "cell_type": "code",
   "execution_count": 29,
   "metadata": {},
   "outputs": [],
   "source": [
    "logits = logits[:, :-1]\n",
    "\n",
    "res = logits == circuitizer.train_tokens[:, 1:]"
   ]
  },
  {
   "cell_type": "code",
   "execution_count": 31,
   "metadata": {},
   "outputs": [],
   "source": [
    "answer_mask = circuitizer.train_tokens[:, 1:] == 3978\n",
    "answer_mask = np.roll(answer_mask, 1, axis=1)"
   ]
  },
  {
   "cell_type": "code",
   "execution_count": 32,
   "metadata": {},
   "outputs": [
    {
     "data": {
      "text/html": [
       "<script> (()=>{ if (customElements.get('treescope-container') === undefined) { class TreescopeContainer extends HTMLElement { constructor() { super(); this.attachShadow({mode: \"open\"}); this.defns = {}; this.state = {}; } } customElements.define(\"treescope-container\", TreescopeContainer); } if (customElements.get('treescope-run-here') === undefined) { class RunHere extends HTMLElement { constructor() { super() } connectedCallback() { const run = child => { const fn = new Function(child.textContent); child.textContent = \"\"; fn.call(this); this.remove(); }; const child = this.querySelector(\"script\"); if (child) { run(child); } else { new MutationObserver(()=>{ run(this.querySelector(\"script\")); }).observe(this, {childList: true}); } } } customElements.define(\"treescope-run-here\", RunHere); } })(); </script> <treescope-container class=\"treescope_out_715231acf9a74298b22ac5a853c492eb\" ></treescope-container> <treescope-run-here><script type=\"application/octet-stream\"> const root = ( Array.from(document.getElementsByClassName( \"treescope_out_715231acf9a74298b22ac5a853c492eb\")) .filter((elt) => !elt.dataset.setup) )[0]; root.dataset.setup = 1; const msg = document.createElement(\"span\"); msg.style = \"color: #aaaaaa; font-family: monospace; transition: opacity 0.2s; opacity: 0.0;\"; msg.textContent = \"(Loading...)\"; root.state.loadingMsg = msg; root.shadowRoot.appendChild(msg); root.state.chain = new Promise((resolve, reject) => { const observer = new IntersectionObserver((entries) => { for (const entry of entries) { if (entry.isIntersecting) { resolve(); observer.disconnect(); return; } } }, {rootMargin: \"1000px\"}); window.setTimeout(() => { if (root.loadingMsg) { root.loadingMsg.style.opacity = \"1.0\"; } observer.observe(root); }, 0); }); root.state.deferring = false; const _insertNode = (node) => { for (let oldScript of node.querySelectorAll(\"script\")) { let newScript = document.createElement(\"script\"); newScript.type = oldScript.type; newScript.textContent = oldScript.textContent; oldScript.parentNode.replaceChild(newScript, oldScript); } if (root.state.loadingMsg) { root.state.loadingMsg.remove(); root.state.loadingMsg = null; } root.shadowRoot.appendChild(node); }; root.defns.insertContent = ((contentNode, compressed) => { if (compressed) { root.state.deferring = true; } if (root.state.deferring) { root.state.chain = (async () => { await root.state.chain; if (compressed) { const encoded = contentNode.textContent; const blob = new Blob([ Uint8Array.from(atob(encoded), (m) => m.codePointAt(0)) ]); const reader = blob.stream().pipeThrough( new DecompressionStream(\"deflate\") ).pipeThrough( new TextDecoderStream(\"utf-8\") ).getReader(); const parts = []; while (true) { const step = await reader.read(); if (step.done) { break; } parts.push(step.value); } const tpl = document.createElement('template'); tpl.innerHTML = parts.join(\"\"); _insertNode(tpl.content); } else { _insertNode(contentNode.content); } })(); } else { _insertNode(contentNode.content); } }); </script></treescope-run-here><div style=\"display:none\"> <script type=\"application/octet-stream\" >eNrFVk1v4zYQ/SuECmykolIcZ71JZVtALkUPRQ/toYe2MChpJLGmSZUcOfEW+e8dUrId23JQoIvWPtgazsx78ykuLO4kZAkaAFvoFlZGa2R/sVZbgUKrlBmQHMUW5qzSCuOKb4TcpWyjlbYtL0j+3AiE2D+krDUkkcJi7F3HuGtJqrQicc6LdW10p8q40FKbtDeds+Epl6RA/kSJTcoqgaSmEBTOWcvLUqg6llBhyqZF40AUxA2IuiHJXTJzbhRyQZwPZsOfeCusyIUUSMx5h/qgGwuFRigritiKz9CfDnRfF7d9ehaH9MSmU4RpSGYLI1pkLr7lDW9bKQruMnarCwQXvQG+ucnCMFpmlFDCs8hKqJRlS4aNsEkN+BNl+0ddQhgljbaY+HMKDZCtWlAu5KfCeXVGv/4+dvI9V6UEOladlPMeISGaP2utSBo+a7OO2FsO+hcSuaMTMYrCCVswlTYbrgpIlH4OI19fAggvTljcGy3Y/TQiP6Ji4RnrRIKqsWHLJZs4lXepG8DOKMo7A2nhSKzplGN27to2okLHzyu4P6/0vYIQUlepUj8nBv7swOKTEhtfru8M30DY5yRyPuYXQG1nmz6N85EY9xDLPox3ovznHByLvpCo61r2U7nyk0Pd2jpfTgISv2GwpQYfKunY+edkDTuX9MAEjtCgnBSSW/sDDefgNwwOPlcbasNgD/4aUT6p/X2PZ4vbsQEoxZZ5h8vgdH0EDHlOkcLLMpgETCsiQ2Er0nuv7cdjDZ3NPsqAxq5fWGQBxkC5amlnQKNlCcZ3jF8kX/EH9x1WljdJmUBOM0qxJRWp85ygFHG4suxe2anaqmdH2qWwBLrbL7VzRZYxyXOQaZoDzQu8YVX4z3wUr19s8Z3bbMMCnMyPWEL5dZdL7TbkVcxGb8FcIpfcrC3wmsqkLq1TpTE8EzXchpn3mY3mwdukRQPFGsooYl9HRw7OdNxor3/C0G/olN38Np3lxc3/Se/U6CrJT/8BSVdHB9wZ6wrYanpPgRnBFfbLwfpR8ECxnzd7rce/DOoxPIQXvERJhF1VwlhcabVy7T8yWu+NUjKduWkaLRX71/T7ip9TdFFtuKnpZtHT8AN9vEnQLUkxUS6DwwL7VDzefSzL2beTh/LjbDKlpyk83lfT2f3DY1XcBYPRsGpP5/4cnpT7IBZCtd1wOwk87Vy/BKNOhgjJ9NYb0e/g4y3u2MINsg8S53/wl+TJGL5jldQc76d0M0iShH2o0b1CyEd2/kOvjuxvnp2zLg==</script> <treescope-run-here><script type=\"application/octet-stream\"> const root = ( Array.from(document.getElementsByClassName( \"treescope_out_715231acf9a74298b22ac5a853c492eb\")) .filter((elt) => !elt.dataset['step0']) )[0]; root.dataset['step0'] = 1; root.defns.insertContent( this.parentNode.querySelector('script[type=\"application/octet-stream\"]'), true ); this.parentNode.remove(); </script></treescope-run-here> </div>"
      ],
      "text/plain": [
       "<IPython.core.display.HTML object>"
      ]
     },
     "metadata": {},
     "output_type": "display_data"
    },
    {
     "data": {
      "text/html": [
       "<div style=\"display:none\"> <script type=\"application/octet-stream\" >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</script> <treescope-run-here><script type=\"application/octet-stream\"> const root = ( Array.from(document.getElementsByClassName( \"treescope_out_715231acf9a74298b22ac5a853c492eb\")) .filter((elt) => !elt.dataset['step1']) )[0]; root.dataset['step1'] = 1; root.defns.insertContent( this.parentNode.querySelector('script[type=\"application/octet-stream\"]'), true ); this.parentNode.remove(); </script></treescope-run-here> </div>"
      ],
      "text/plain": [
       "<IPython.core.display.HTML object>"
      ]
     },
     "metadata": {},
     "output_type": "display_data"
    },
    {
     "data": {
      "text/html": [
       "<treescope-run-here><script type=\"application/octet-stream\"> const root = ( Array.from(document.getElementsByClassName( \"treescope_out_715231acf9a74298b22ac5a853c492eb\")) .filter((elt) => !elt.dataset.stolen) )[0]; root.dataset.stolen = 1; this.parentNode.replaceChild(root, this); </script></treescope-run-here>"
      ],
      "text/plain": [
       "<jax.Array(0.7265625, dtype=float32)>"
      ]
     },
     "execution_count": 32,
     "metadata": {},
     "output_type": "execute_result"
    }
   ],
   "source": [
    "(res * answer_mask).sum() / answer_mask.sum()"
   ]
  }
 ],
 "metadata": {
  "kernelspec": {
   "display_name": "micrlhf-progress-_SD4q1c9-py3.10",
   "language": "python",
   "name": "python3"
  },
  "language_info": {
   "codemirror_mode": {
    "name": "ipython",
    "version": 3
   },
   "file_extension": ".py",
   "mimetype": "text/x-python",
   "name": "python",
   "nbconvert_exporter": "python",
   "pygments_lexer": "ipython3",
   "version": "3.10.12"
  }
 },
 "nbformat": 4,
 "nbformat_minor": 2
}
