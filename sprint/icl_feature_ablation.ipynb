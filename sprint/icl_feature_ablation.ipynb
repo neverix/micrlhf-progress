{
 "cells": [
  {
   "cell_type": "code",
   "execution_count": 1,
   "metadata": {},
   "outputs": [],
   "source": [
    "import os\n",
    "if \"models\" not in os.listdir(\".\"):\n",
    "    os.chdir(\"../..\")"
   ]
  },
  {
   "cell_type": "code",
   "execution_count": 2,
   "metadata": {},
   "outputs": [],
   "source": [
    "%load_ext autoreload\n",
    "%autoreload 2\n",
    "import penzai\n",
    "import jax_smi\n",
    "jax_smi.initialise_tracking()\n",
    "from penzai import pz\n",
    "pz.ts.register_as_default()\n",
    "pz.ts.register_autovisualize_magic()\n",
    "pz.enable_interactive_context()"
   ]
  },
  {
   "cell_type": "code",
   "execution_count": 3,
   "metadata": {},
   "outputs": [],
   "source": [
    "from micrlhf.llama import LlamaTransformer\n",
    "llama = LlamaTransformer.from_pretrained(\"models/gemma-2b-it.gguf\", from_type=\"gemma\", load_eager=True, device_map=\"tpu:0\")"
   ]
  },
  {
   "cell_type": "code",
   "execution_count": 4,
   "metadata": {},
   "outputs": [],
   "source": [
    "from transformers import AutoTokenizer\n",
    "tokenizer = AutoTokenizer.from_pretrained(\"alpindale/gemma-2b\")\n",
    "tokenizer.padding_side = \"right\""
   ]
  },
  {
   "cell_type": "code",
   "execution_count": 5,
   "metadata": {},
   "outputs": [],
   "source": [
    "from sprint.icl_sfc_utils import Circuitizer"
   ]
  },
  {
   "cell_type": "code",
   "execution_count": 6,
   "metadata": {},
   "outputs": [],
   "source": [
    "from sprint.task_vector_utils import load_tasks, ICLRunner\n",
    "tasks = load_tasks()"
   ]
  },
  {
   "cell_type": "code",
   "execution_count": 7,
   "metadata": {},
   "outputs": [],
   "source": [
    "task_names = [\"en_es\", \"antonyms\", \"person_profession\"]\n",
    "task_name = task_names[0]"
   ]
  },
  {
   "cell_type": "code",
   "execution_count": 8,
   "metadata": {},
   "outputs": [],
   "source": [
    "import json\n",
    "\n",
    "with open(\"cleanup_results.jsonl\") as f:\n",
    "    lines = f.readlines()\n",
    "    results = [json.loads(line) for line in lines]"
   ]
  },
  {
   "cell_type": "code",
   "execution_count": 9,
   "metadata": {},
   "outputs": [
    {
     "name": "stdout",
     "output_type": "stream",
     "text": [
      "719\n"
     ]
    },
    {
     "name": "stdout",
     "output_type": "stream",
     "text": [
      "Setting up masks...\n",
      "Running metrics...\n",
      "Setting up RMS...\n"
     ]
    },
    {
     "data": {
      "application/vnd.jupyter.widget-view+json": {
       "model_id": "c743c91be245456a9554e9c8cd50af3a",
       "version_major": 2,
       "version_minor": 0
      },
      "text/plain": [
       "  0%|          | 0/18 [00:00<?, ?it/s]"
      ]
     },
     "metadata": {},
     "output_type": "display_data"
    },
    {
     "name": "stdout",
     "output_type": "stream",
     "text": [
      "Loading SAEs...\n"
     ]
    },
    {
     "data": {
      "application/vnd.jupyter.widget-view+json": {
       "model_id": "a9f7ad54209a4ba899147f2cda0787a4",
       "version_major": 2,
       "version_minor": 0
      },
      "text/plain": [
       "  0%|          | 0/11 [00:00<?, ?it/s]"
      ]
     },
     "metadata": {},
     "output_type": "display_data"
    },
    {
     "name": "stdout",
     "output_type": "stream",
     "text": [
      "Running node IEs...\n"
     ]
    },
    {
     "data": {
      "application/vnd.jupyter.widget-view+json": {
       "model_id": "16ee54229b4c4cad8cd05a6811598152",
       "version_major": 2,
       "version_minor": 0
      },
      "text/plain": [
       "  0%|          | 0/11 [00:00<?, ?it/s]"
      ]
     },
     "metadata": {},
     "output_type": "display_data"
    },
    {
     "data": {
      "application/vnd.jupyter.widget-view+json": {
       "model_id": "c0c952f6719b44d781ecd03e6acd039d",
       "version_major": 2,
       "version_minor": 0
      },
      "text/plain": [
       "  0%|          | 0/11 [00:00<?, ?it/s]"
      ]
     },
     "metadata": {},
     "output_type": "display_data"
    },
    {
     "data": {
      "application/vnd.jupyter.widget-view+json": {
       "model_id": "68fcadd920d44c758a65926c33915844",
       "version_major": 2,
       "version_minor": 0
      },
      "text/plain": [
       "  0%|          | 0/10 [00:00<?, ?it/s]"
      ]
     },
     "metadata": {},
     "output_type": "display_data"
    }
   ],
   "source": [
    "def check_if_single_token(token):\n",
    "    return len(tokenizer.tokenize(token)) == 1\n",
    "\n",
    "task = tasks[task_name]\n",
    "\n",
    "print(len(task))\n",
    "\n",
    "task = {\n",
    "    k:v for k,v in task.items() if check_if_single_token(k) and check_if_single_token(v)\n",
    "}\n",
    "\n",
    "\n",
    "pairs = list(task.items())\n",
    "\n",
    "batch_size = 8 \n",
    "n_shot=16\n",
    "max_seq_len = 128\n",
    "seed = 10\n",
    "\n",
    "prompt = \"Follow the pattern:\\n{}\"\n",
    "\n",
    "runner = ICLRunner(task_name, pairs, batch_size=batch_size, n_shot=n_shot, max_seq_len=max_seq_len, seed=seed, prompt=prompt)\n",
    "\n",
    "\n",
    "layers = list(range(6, 17))\n",
    "circuitizer = Circuitizer(llama, tokenizer, runner, layers, prompt)"
   ]
  },
  {
   "cell_type": "code",
   "execution_count": 23,
   "metadata": {},
   "outputs": [
    {
     "data": {
      "application/vnd.jupyter.widget-view+json": {
       "model_id": "fb6bd40595f0446385ce57245b9528bb",
       "version_major": 2,
       "version_minor": 0
      },
      "text/plain": [
       "  0%|          | 0/100 [00:00<?, ?it/s]"
      ]
     },
     "metadata": {},
     "output_type": "display_data"
    }
   ],
   "source": [
    "import numpy as np\n",
    "thresholds = np.logspace(-5, 0, 100)\n",
    "topks = [4, 6, 12, 16, 24, 32]\n",
    "\n",
    "\n",
    "ablated_metrics, n_nodes_counts = circuitizer.run_ablated_metrics(thresholds, inverse=True, sae_types=[\"attn_out\"], layers=[12])\n",
    "\n",
    "\n",
    "# target_metric = (max(ablated_metrics) - min(ablated_metrics)) * 0.95 + min(ablated_metrics)\n",
    "# target_threshold = [threshold for threshold, metric in reversed(list(zip(thresholds, ablated_metrics))) if metric > target_metric][0]"
   ]
  },
  {
   "cell_type": "code",
   "execution_count": 24,
   "metadata": {},
   "outputs": [
    {
     "data": {
      "text/html": [
       "<script> (()=>{ if (customElements.get('treescope-container') === undefined) { class TreescopeContainer extends HTMLElement { constructor() { super(); this.attachShadow({mode: \"open\"}); this.defns = {}; this.state = {}; } } customElements.define(\"treescope-container\", TreescopeContainer); } if (customElements.get('treescope-run-here') === undefined) { class RunHere extends HTMLElement { constructor() { super() } connectedCallback() { const run = child => { const fn = new Function(child.textContent); child.textContent = \"\"; fn.call(this); this.remove(); }; const child = this.querySelector(\"script\"); if (child) { run(child); } else { new MutationObserver(()=>{ run(this.querySelector(\"script\")); }).observe(this, {childList: true}); } } } customElements.define(\"treescope-run-here\", RunHere); } })(); </script> <treescope-container class=\"treescope_out_5ace55bdf2d840148be0a81e045bdc3e\" ></treescope-container> <treescope-run-here><script type=\"application/octet-stream\"> const root = ( Array.from(document.getElementsByClassName( \"treescope_out_5ace55bdf2d840148be0a81e045bdc3e\")) .filter((elt) => !elt.dataset.setup) )[0]; root.dataset.setup = 1; const msg = document.createElement(\"span\"); msg.style = \"color: #aaaaaa; font-family: monospace; transition: opacity 0.2s; opacity: 0.0;\"; msg.textContent = \"(Loading...)\"; root.state.loadingMsg = msg; root.shadowRoot.appendChild(msg); root.state.chain = new Promise((resolve, reject) => { const observer = new IntersectionObserver((entries) => { for (const entry of entries) { if (entry.isIntersecting) { resolve(); observer.disconnect(); return; } } }, {rootMargin: \"1000px\"}); window.setTimeout(() => { if (root.loadingMsg) { root.loadingMsg.style.opacity = \"1.0\"; } observer.observe(root); }, 0); }); root.state.deferring = false; const _insertNode = (node) => { for (let oldScript of node.querySelectorAll(\"script\")) { let newScript = document.createElement(\"script\"); newScript.type = oldScript.type; newScript.textContent = oldScript.textContent; oldScript.parentNode.replaceChild(newScript, oldScript); } if (root.state.loadingMsg) { root.state.loadingMsg.remove(); root.state.loadingMsg = null; } root.shadowRoot.appendChild(node); }; root.defns.insertContent = ((contentNode, compressed) => { if (compressed) { root.state.deferring = true; } if (root.state.deferring) { root.state.chain = (async () => { await root.state.chain; if (compressed) { const encoded = contentNode.textContent; const blob = new Blob([ Uint8Array.from(atob(encoded), (m) => m.codePointAt(0)) ]); const reader = blob.stream().pipeThrough( new DecompressionStream(\"deflate\") ).pipeThrough( new TextDecoderStream(\"utf-8\") ).getReader(); const parts = []; while (true) { const step = await reader.read(); if (step.done) { break; } parts.push(step.value); } const tpl = document.createElement('template'); tpl.innerHTML = parts.join(\"\"); _insertNode(tpl.content); } else { _insertNode(contentNode.content); } })(); } else { _insertNode(contentNode.content); } }); </script></treescope-run-here><div style=\"display:none\"> <script type=\"application/octet-stream\" >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</script> <treescope-run-here><script type=\"application/octet-stream\"> const root = ( Array.from(document.getElementsByClassName( \"treescope_out_5ace55bdf2d840148be0a81e045bdc3e\")) .filter((elt) => !elt.dataset['step0']) )[0]; root.dataset['step0'] = 1; root.defns.insertContent( this.parentNode.querySelector('script[type=\"application/octet-stream\"]'), true ); this.parentNode.remove(); </script></treescope-run-here> </div>"
      ],
      "text/plain": [
       "<IPython.core.display.HTML object>"
      ]
     },
     "metadata": {},
     "output_type": "display_data"
    },
    {
     "data": {
      "text/html": [
       "<treescope-run-here><script type=\"application/octet-stream\"> const root = ( Array.from(document.getElementsByClassName( \"treescope_out_5ace55bdf2d840148be0a81e045bdc3e\")) .filter((elt) => !elt.dataset.stolen) )[0]; root.dataset.stolen = 1; this.parentNode.replaceChild(root, this); </script></treescope-run-here>"
      ],
      "text/plain": [
       "[<matplotlib.lines.Line2D at 0x7f90c41a3670>]"
      ]
     },
     "execution_count": 24,
     "metadata": {},
     "output_type": "execute_result"
    },
    {
     "data": {
      "image/png": "[encoded data removed]",
      "text/plain": [
       "<Figure size 640x480 with 1 Axes>"
      ]
     },
     "metadata": {},
     "output_type": "display_data"
    }
   ],
   "source": [
    "import matplotlib.pyplot as plt\n",
    "\n",
    "plt.plot(ablated_metrics)\n",
    "# plt.xscale(\"log\")"
   ]
  },
  {
   "cell_type": "code",
   "execution_count": 26,
   "metadata": {},
   "outputs": [
    {
     "data": {
      "application/vnd.jupyter.widget-view+json": {
       "model_id": "0071aa914c3f45b2bc8eebc1424430a3",
       "version_major": 2,
       "version_minor": 0
      },
      "text/plain": [
       "  0%|          | 0/11 [00:00<?, ?it/s]"
      ]
     },
     "metadata": {},
     "output_type": "display_data"
    },
    {
     "data": {
      "application/vnd.jupyter.widget-view+json": {
       "model_id": "d3f8cffe118f4b8e86cddf48cf00cd86",
       "version_major": 2,
       "version_minor": 0
      },
      "text/plain": [
       "  0%|          | 0/100 [00:00<?, ?it/s]"
      ]
     },
     "metadata": {},
     "output_type": "display_data"
    },
    {
     "data": {
      "application/vnd.jupyter.widget-view+json": {
       "model_id": "d13088c026c44dd98c32e49b04c1de42",
       "version_major": 2,
       "version_minor": 0
      },
      "text/plain": [
       "  0%|          | 0/100 [00:00<?, ?it/s]"
      ]
     },
     "metadata": {},
     "output_type": "display_data"
    },
    {
     "data": {
      "application/vnd.jupyter.widget-view+json": {
       "model_id": "7d9e2435911b43b280c9949a469d1f8a",
       "version_major": 2,
       "version_minor": 0
      },
      "text/plain": [
       "  0%|          | 0/100 [00:00<?, ?it/s]"
      ]
     },
     "metadata": {},
     "output_type": "display_data"
    },
    {
     "data": {
      "application/vnd.jupyter.widget-view+json": {
       "model_id": "31ae2387030b488fa435332dd63fa068",
       "version_major": 2,
       "version_minor": 0
      },
      "text/plain": [
       "  0%|          | 0/100 [00:00<?, ?it/s]"
      ]
     },
     "metadata": {},
     "output_type": "display_data"
    },
    {
     "data": {
      "application/vnd.jupyter.widget-view+json": {
       "model_id": "63faf0757ed440ce8ca71f5a762118c1",
       "version_major": 2,
       "version_minor": 0
      },
      "text/plain": [
       "  0%|          | 0/100 [00:00<?, ?it/s]"
      ]
     },
     "metadata": {},
     "output_type": "display_data"
    },
    {
     "data": {
      "application/vnd.jupyter.widget-view+json": {
       "model_id": "7177dd98331442bfbf59bbe3b308fb76",
       "version_major": 2,
       "version_minor": 0
      },
      "text/plain": [
       "  0%|          | 0/100 [00:00<?, ?it/s]"
      ]
     },
     "metadata": {},
     "output_type": "display_data"
    },
    {
     "data": {
      "application/vnd.jupyter.widget-view+json": {
       "model_id": "c9c7377cb169471a85adce4c2c5bba6d",
       "version_major": 2,
       "version_minor": 0
      },
      "text/plain": [
       "  0%|          | 0/100 [00:00<?, ?it/s]"
      ]
     },
     "metadata": {},
     "output_type": "display_data"
    },
    {
     "data": {
      "application/vnd.jupyter.widget-view+json": {
       "model_id": "989c90e730c64692aae54b502f69254d",
       "version_major": 2,
       "version_minor": 0
      },
      "text/plain": [
       "  0%|          | 0/100 [00:00<?, ?it/s]"
      ]
     },
     "metadata": {},
     "output_type": "display_data"
    },
    {
     "data": {
      "application/vnd.jupyter.widget-view+json": {
       "model_id": "43464237c7dd4c88b04c8769a322d8bb",
       "version_major": 2,
       "version_minor": 0
      },
      "text/plain": [
       "  0%|          | 0/100 [00:00<?, ?it/s]"
      ]
     },
     "metadata": {},
     "output_type": "display_data"
    },
    {
     "data": {
      "application/vnd.jupyter.widget-view+json": {
       "model_id": "b81d683bc0594656b1e85c48f5093af1",
       "version_major": 2,
       "version_minor": 0
      },
      "text/plain": [
       "  0%|          | 0/100 [00:00<?, ?it/s]"
      ]
     },
     "metadata": {},
     "output_type": "display_data"
    },
    {
     "data": {
      "application/vnd.jupyter.widget-view+json": {
       "model_id": "687eb675c9554d5995d0d9dfc7522379",
       "version_major": 2,
       "version_minor": 0
      },
      "text/plain": [
       "  0%|          | 0/100 [00:00<?, ?it/s]"
      ]
     },
     "metadata": {},
     "output_type": "display_data"
    }
   ],
   "source": [
    "from tqdm.auto import tqdm\n",
    "\n",
    "ams = []\n",
    "\n",
    "for layer in tqdm(circuitizer.layers):\n",
    "    ablated_metrics, n_nodes_counts = circuitizer.run_ablated_metrics(thresholds, inverse=True, sae_types=[\"attn_out\"], layers=[layer])\n",
    "    ams.append(ablated_metrics)"
   ]
  },
  {
   "cell_type": "code",
   "execution_count": 27,
   "metadata": {},
   "outputs": [
    {
     "data": {
      "text/html": [
       "<script> (()=>{ if (customElements.get('treescope-container') === undefined) { class TreescopeContainer extends HTMLElement { constructor() { super(); this.attachShadow({mode: \"open\"}); this.defns = {}; this.state = {}; } } customElements.define(\"treescope-container\", TreescopeContainer); } if (customElements.get('treescope-run-here') === undefined) { class RunHere extends HTMLElement { constructor() { super() } connectedCallback() { const run = child => { const fn = new Function(child.textContent); child.textContent = \"\"; fn.call(this); this.remove(); }; const child = this.querySelector(\"script\"); if (child) { run(child); } else { new MutationObserver(()=>{ run(this.querySelector(\"script\")); }).observe(this, {childList: true}); } } } customElements.define(\"treescope-run-here\", RunHere); } })(); </script> <treescope-container class=\"treescope_out_0407be1dba9b4ee1ad1bf208679d1684\" ></treescope-container> <treescope-run-here><script type=\"application/octet-stream\"> const root = ( Array.from(document.getElementsByClassName( \"treescope_out_0407be1dba9b4ee1ad1bf208679d1684\")) .filter((elt) => !elt.dataset.setup) )[0]; root.dataset.setup = 1; const msg = document.createElement(\"span\"); msg.style = \"color: #aaaaaa; font-family: monospace; transition: opacity 0.2s; opacity: 0.0;\"; msg.textContent = \"(Loading...)\"; root.state.loadingMsg = msg; root.shadowRoot.appendChild(msg); root.state.chain = new Promise((resolve, reject) => { const observer = new IntersectionObserver((entries) => { for (const entry of entries) { if (entry.isIntersecting) { resolve(); observer.disconnect(); return; } } }, {rootMargin: \"1000px\"}); window.setTimeout(() => { if (root.loadingMsg) { root.loadingMsg.style.opacity = \"1.0\"; } observer.observe(root); }, 0); }); root.state.deferring = false; const _insertNode = (node) => { for (let oldScript of node.querySelectorAll(\"script\")) { let newScript = document.createElement(\"script\"); newScript.type = oldScript.type; newScript.textContent = oldScript.textContent; oldScript.parentNode.replaceChild(newScript, oldScript); } if (root.state.loadingMsg) { root.state.loadingMsg.remove(); root.state.loadingMsg = null; } root.shadowRoot.appendChild(node); }; root.defns.insertContent = ((contentNode, compressed) => { if (compressed) { root.state.deferring = true; } if (root.state.deferring) { root.state.chain = (async () => { await root.state.chain; if (compressed) { const encoded = contentNode.textContent; const blob = new Blob([ Uint8Array.from(atob(encoded), (m) => m.codePointAt(0)) ]); const reader = blob.stream().pipeThrough( new DecompressionStream(\"deflate\") ).pipeThrough( new TextDecoderStream(\"utf-8\") ).getReader(); const parts = []; while (true) { const step = await reader.read(); if (step.done) { break; } parts.push(step.value); } const tpl = document.createElement('template'); tpl.innerHTML = parts.join(\"\"); _insertNode(tpl.content); } else { _insertNode(contentNode.content); } })(); } else { _insertNode(contentNode.content); } }); </script></treescope-run-here><div style=\"display:none\"> <script type=\"application/octet-stream\" >eNrlGGtX4kj2r1RnPgijRN4KPs4G5GU32ord2s70cYqkkpQkVbFSAXGO/31vJaCAqMOOu+tx4Bwelft+39oN5dgj+7oUhIQmD8iV4FyiP1HAQyopZ1UkiIclHZIdZHMmMzb2qTeuIp8zHgbYhPORSyXJxH+qKBBw4tFQZmLSGTkO4JRxBsd9bA4cwSNmZUzucVFNUHfQ5F/fAwCgRy3pVpFNJYAxSZjcQQG2LMqcjEdsWUV501VMGMm4hDounOT0kiLDJKYg8wPa5EdmSEPapx6VIDmOJH+AzVAmBWUhNTMhvSPJ04m497ubiXl2H8yTEREDngLOQlPQQCKl394aDgKPmlhZbJObkijtBcH+2n4qld7bB4MCv1Aii9gsRHtIujTUHSJPwdpH3CKptO7yUOrxc1CNSHQVEKZUNkxFVSH99nPZkzZmlkfgMYs8byfhoIOYPc4ZnKZGXAzSaFYGfg5H6tHcsaSmOgyIsLnwMTOJzvgolY79CwxST56gTIK0iwr5NNChNkotSK17hDnSRXt7KKtAXhRdEBkJBnZHxAvJo2BuxJRki6RDl9pSyRcDqB/38H6GQwqiill8pAtyE5FQGoz6sbuaAvskldgkrWjsPGEURKGbmHFniY5TFnuJGi9o+ddlUFIkjpTccbwkK6/izIFoDRQtdUI8uYHIEAJ84kklXfxfH5CxMromNCXQBFg3PRyGXyA5J3RT2gPNKx/CUJsyv0+DPSH84xjf391clgAWHaKY4J42Xz40JHEfNCW3e1pWQ5yBMKA2A7iXwn65rimFM9VSg7RLClZcMa5Y5PeJiCMlLiC/ZCvbuVIZ5Ndt7lm4D+QY8HmmoN2jebCrRAKAtmgYeHg8LVyLgGgfebhPvGq1TyAnyIwEZvzaWcovKV6ZnKpekyKX3XnkRVlc0voeV1XwWZ4uHxLxlLOFxSAk2AFXsKfYVcZlauHIxWFqP6a5v9QOMU7VdIk5IFY6jX5NP8qgUJcjTeHnJIyrcBWt/Z4v9c21/6d480jPCln+Hwip/KgYRyJUDgw49CIilvCl4duxjVMhZpSJcyp8LsbfhuujepLcyqdcdBpe2VSE8oqzKxX+S1LrpVTS8yWVTUtdhf62+InHF0VUWvlYODA9JGLECX3/N7lBSQvG/UhKaNvLCtDj42VBqyFtAQoMCSPZcuDfSa5oaQsT3VoXQ1RQ7KHe2O9zL0THkVT6WqieYMJ3MIbEyIxIfwDTWYwe+lCvXeh2MDsxCegUh8R6mOl+IVn13nka5gl2PHRl9QrxF7VM8mOJFsvL3SOmPsLhlQnzGBj2AR/bcq5TTOv0SzwXcOZZzpoeDbFIZTIWljiDGTg2buvp2WPFRM0qArNpNMdkUS5EBCwGg2iGR3I1VR4kAMdQYn2alyRmiT5RP+BCYvaEdl/wAWFX6uSxGL1u3Rm0GXtO3Xyvq84PgllXJsyNliBsIur8ZA405wHfqLrOpM6kkc6lqok9MwXrA8yuueA2Hnf0UGKF/yDvf02SPhcW1N1EEotL0F1JMWu80MUCRBlhwSClrqYle2pl28ZmrrAEMICp8M+HLUlMliJVlybqT44yWT0umI+rWDVepLDIOAJbFBySyhVKFnE2EIdYdQjKQnqWTXcjid0A2EIliI/QxH5PRHlSMt/MpHPOnCpzr4/cOCI9DwdQfF4f4Favzs9zSMa2mEcMRG4hS61nYd5CjmUs3nBnVWsE+mQIgce6LbgPq4kZ+WqtUDU71IfYg/0llU7rIYfFJa7kagFR33rSTtTy8RcbiraG0ij9sO6FLoEdF5YpMkL1Xq+ntOmpM7XhxQ9hfwKVTdIbMzP1x78mTcxUzeE/bGhJK1KclB1hx/UmZ6PJ9UIxC9kZCrOKIuGlVHWtquebI27b+Z0+1O9yccPKVlpdx6gZ8atzYhg8/lU7HcFnu2kYDeOlV803DGfAP1udRq0++mEYZz/qh0a3U6sbTee20/7iyrDWpcQpNA8u8l865R/DXhDRr93SWe7wonP6vTs8797Jr+Nms75+7gzOaO0g69KDk+iwYbWus+3+pj3sWMHN57J7c07pSdRlLbdtf5PGt3LtSBSNZocNGmXzWxSx9dPSjRkORkO76W3e3DoNvu30D0et7Vzb2GTGaemLEIe503XnLntqZY1DO+ccbdVHreu8k+Xj6HRry2/kyqP2ReXYcQJyNhgXSad/VzL74rglseGcdI5GBzgchydRp3Nx3miOjK8nQeeH9W1zc93ZOtu6KMis/fnrjTEsAc0vxtGW0R0ZvnN32luPLnukcXGbt8vm3VHxtD0uRTXj813tOmgGBdo+qTeyl9HXYm+L2bUvjXaz6xt0fXvYyLss526t97+PLq5HbTE8aH2rs2u70XDk+rF56XlbpUr9cFTbdivFbrfVK7QuDcfvlK5rJxV51iLtSqNW67QKB07xdPOHOe4bLfDp98+bxkkLG6Rb94z2XePYuZROufbVOT7uHNQG9KREmrWLeq1p0mzgCh4wiI3gsnGQu8sNenbdlu74M2tbuBm27eyR32oclWuWcfP9e4Bl2Lv0LQvTSt6+qxS/0eubcuCL8jH/Ue9R0fKHh61C77xXaDbyZu3EPltvezxoFZvhqISdm/I2vSS9Iy84Z7V2h1hdQaLzm1bdz503xaDXuy3ly+fn4cgAidIovt+RqbU4rNdUdf8DPh6yH1s8gJ71mJLxrZSu6y9AbCQ5+xNovbz9u/E1STxWJBMP0IbwYCZKJYPH/CUWpOAZV+kLYJPBRJ2FUB4UCTVpqfEEjzCViOEhdbDkQgfKQZ9jYekjQSU5g6Uk9UgLlJ3QerwpgZaa0mbGMHVHAlzOqE9gXktNL9Ge4Aniw0z1BPV+A+Wz2WzcOaH4QhNNxQvFcr4zs5b2KJxapaYVTF0raegX1MTUg8ImOVLAn+LKBt2SRdiDakzBZgRbalRcn7Xd5L7nlZseNXZOr3rm7yQW+7y2v5s0s13KgmjSabS4ffX5rbaUyKTTwcOky4EQMfI8XxcoCWAxuJIwAhCpxWpkBmQMOeLuadr+b6AFIAD6RIRZ9CdDqfbSc2013r9lfy5gzF5PafuwppazlcJW6UHC+GtjDmV+wND20RT4CdC0+8/zXHsc0dcQZ3UVcntrK+ZcfNuWXkMP+8OelvKw37dwfIdYjT9B3bSG4na5p83sGtBxlwOrlXFxOQLgOAKVBeH3RJf9eQstfL2dw3KvOqyULxQ/jsdyq3gs9x49lv+HeSy/isfy79Fjhdc9Vqhky/mP4rHCKh4rvEePFV/32HbpA/Wx4ioeK75Hj5VeHzyK2x+oKpZW8VjpPXqs/KrHPoyzyqs4q/wenbX1irMKen4792Ea2NYq/tp6j/7a/oeNHNureGz7PXqs8noDK3ykHKus4rHKu1ydX7/sKBXL24td7CVfbLzjxXmlu47cG152JF8//4ppphgWHe7/G+IdmWk=</script> <treescope-run-here><script type=\"application/octet-stream\"> const root = ( Array.from(document.getElementsByClassName( \"treescope_out_0407be1dba9b4ee1ad1bf208679d1684\")) .filter((elt) => !elt.dataset['step0']) )[0]; root.dataset['step0'] = 1; root.defns.insertContent( this.parentNode.querySelector('script[type=\"application/octet-stream\"]'), true ); this.parentNode.remove(); </script></treescope-run-here> </div>"
      ],
      "text/plain": [
       "<IPython.core.display.HTML object>"
      ]
     },
     "metadata": {},
     "output_type": "display_data"
    },
    {
     "data": {
      "text/html": [
       "<treescope-run-here><script type=\"application/octet-stream\"> const root = ( Array.from(document.getElementsByClassName( \"treescope_out_0407be1dba9b4ee1ad1bf208679d1684\")) .filter((elt) => !elt.dataset.stolen) )[0]; root.dataset.stolen = 1; this.parentNode.replaceChild(root, this); </script></treescope-run-here>"
      ],
      "text/plain": [
       "[-1.609375,\n",
       " -1.5234375,\n",
       " -1.5234375,\n",
       " -1.5390625,\n",
       " -1.5859375,\n",
       " -1.6484375,\n",
       " -1.75,\n",
       " -3.28125,\n",
       " -1.5390625,\n",
       " -1.6328125,\n",
       " -1.546875]"
      ]
     },
     "execution_count": 27,
     "metadata": {},
     "output_type": "execute_result"
    }
   ],
   "source": [
    "[min(x) for x in ams]"
   ]
  },
  {
   "cell_type": "code",
   "execution_count": 16,
   "metadata": {},
   "outputs": [
    {
     "data": {
      "image/png": "[encoded data removed]",
      "text/plain": [
       "<Figure size 640x480 with 1 Axes>"
      ]
     },
     "metadata": {},
     "output_type": "display_data"
    }
   ],
   "source": [
    "plt.plot(thresholds, n_nodes_counts)\n",
    "plt.xscale(\"log\")"
   ]
  },
  {
   "cell_type": "code",
   "execution_count": 111,
   "metadata": {},
   "outputs": [
    {
     "data": {
      "text/html": [
       "<script> (()=>{ if (customElements.get('treescope-container') === undefined) { class TreescopeContainer extends HTMLElement { constructor() { super(); this.attachShadow({mode: \"open\"}); this.defns = {}; this.state = {}; } } customElements.define(\"treescope-container\", TreescopeContainer); } if (customElements.get('treescope-run-here') === undefined) { class RunHere extends HTMLElement { constructor() { super() } connectedCallback() { const run = child => { const fn = new Function(child.textContent); child.textContent = \"\"; fn.call(this); this.remove(); }; const child = this.querySelector(\"script\"); if (child) { run(child); } else { new MutationObserver(()=>{ run(this.querySelector(\"script\")); }).observe(this, {childList: true}); } } } customElements.define(\"treescope-run-here\", RunHere); } })(); </script> <treescope-container class=\"treescope_out_9c5de1c09fad4875b6d717ca1de3b22e\" ></treescope-container> <treescope-run-here><script type=\"application/octet-stream\"> const root = ( Array.from(document.getElementsByClassName( \"treescope_out_9c5de1c09fad4875b6d717ca1de3b22e\")) .filter((elt) => !elt.dataset.setup) )[0]; root.dataset.setup = 1; const msg = document.createElement(\"span\"); msg.style = \"color: #aaaaaa; font-family: monospace; transition: opacity 0.2s; opacity: 0.0;\"; msg.textContent = \"(Loading...)\"; root.state.loadingMsg = msg; root.shadowRoot.appendChild(msg); root.state.chain = new Promise((resolve, reject) => { const observer = new IntersectionObserver((entries) => { for (const entry of entries) { if (entry.isIntersecting) { resolve(); observer.disconnect(); return; } } }, {rootMargin: \"1000px\"}); window.setTimeout(() => { if (root.loadingMsg) { root.loadingMsg.style.opacity = \"1.0\"; } observer.observe(root); }, 0); }); root.state.deferring = false; const _insertNode = (node) => { for (let oldScript of node.querySelectorAll(\"script\")) { let newScript = document.createElement(\"script\"); newScript.type = oldScript.type; newScript.textContent = oldScript.textContent; oldScript.parentNode.replaceChild(newScript, oldScript); } if (root.state.loadingMsg) { root.state.loadingMsg.remove(); root.state.loadingMsg = null; } root.shadowRoot.appendChild(node); }; root.defns.insertContent = ((contentNode, compressed) => { if (compressed) { root.state.deferring = true; } if (root.state.deferring) { root.state.chain = (async () => { await root.state.chain; if (compressed) { const encoded = contentNode.textContent; const blob = new Blob([ Uint8Array.from(atob(encoded), (m) => m.codePointAt(0)) ]); const reader = blob.stream().pipeThrough( new DecompressionStream(\"deflate\") ).pipeThrough( new TextDecoderStream(\"utf-8\") ).getReader(); const parts = []; while (true) { const step = await reader.read(); if (step.done) { break; } parts.push(step.value); } const tpl = document.createElement('template'); tpl.innerHTML = parts.join(\"\"); _insertNode(tpl.content); } else { _insertNode(contentNode.content); } })(); } else { _insertNode(contentNode.content); } }); </script></treescope-run-here><div style=\"display:none\"> <script type=\"application/octet-stream\" >eNqNVE2P0zAQ/StWOGwi4ewHKoK2ibQXxAFxgAOHFarcZJJYdcbGnrQUtP+dcdKW/Sgr1EPjmfGbN88zswy0N1Dm5AFCZR2svLUkfgtngyZtcS48GEV6CwvRWCTZqF6b/Vz0Fm1wqmL7rtMEcjzMhfNsMTqQHKEl7R1b0SKb16ratN4OWMvKGuvn09WFOJzWhgMYT9fUzUWjicOQAGkhnKprja000NBc3FRdTIIgO9Btx5brfBZhkJRmzqdrhw+51UGvtdHEzNVA9hQrNZLXGHQlg/4Fk/dA9355OcmzPMkj/YCc07MtVF47ErG+4kI5Z3SlomKXtiKI1XtQ/UWZpllRsqCcL5CoocEgCkGdDnkL9IXV/mxrSLO8s4Hy0c+lAYmVA4wl31YRNV66+37O81FhbYDdOBizmDLkTPOrtcjWdGf9JhMPOdhvbIquR2bSVTQ68I31vcIKcrS7NBvflxOkzzxCTpeW4s1Nxji6EekT1rkBbKkTRSGuYsiL1D3Q4JF1F2AC/CXWDRiZPYUOnW4o8hsD4sc9//6RIeWuwtrucg8/Bgh0i7ofn+uDVz2kkyZZxFg8S+SG0E0yLs7UeExRTGW8UOX/c4gspock27ZmmsrVODncrS5iRQsYei1gyw1+eMnIbjznG9hH0ROfREKH4LwyKoRPPJwH3DQ5Ya56bsPkmPw+Yz25/cceL5eX5wag1lsxAhbJ4/WRCFJrrhR+FslVIiwyGS4bOe6ltj9faxrvHKtMeOymhTVujBUO/Rr82CnjAnl19f7d9eztw9HltYRHmh3Pque1sVmR8kwjEbUiJZmeU9QVSfI4/GGOpJSz/GbGsBxQnv5Yg/IPV7ncIA==</script> <treescope-run-here><script type=\"application/octet-stream\"> const root = ( Array.from(document.getElementsByClassName( \"treescope_out_9c5de1c09fad4875b6d717ca1de3b22e\")) .filter((elt) => !elt.dataset['step0']) )[0]; root.dataset['step0'] = 1; root.defns.insertContent( this.parentNode.querySelector('script[type=\"application/octet-stream\"]'), true ); this.parentNode.remove(); </script></treescope-run-here> </div>"
      ],
      "text/plain": [
       "<IPython.core.display.HTML object>"
      ]
     },
     "metadata": {},
     "output_type": "display_data"
    },
    {
     "data": {
      "text/html": [
       "<treescope-run-here><script type=\"application/octet-stream\"> const root = ( Array.from(document.getElementsByClassName( \"treescope_out_9c5de1c09fad4875b6d717ca1de3b22e\")) .filter((elt) => !elt.dataset.stolen) )[0]; root.dataset.stolen = 1; this.parentNode.replaceChild(root, this); </script></treescope-run-here>"
      ],
      "text/plain": [
       "-5.25"
      ]
     },
     "execution_count": 111,
     "metadata": {},
     "output_type": "execute_result"
    }
   ],
   "source": [
    "ablated_metrics[22]"
   ]
  },
  {
   "cell_type": "code",
   "execution_count": 112,
   "metadata": {},
   "outputs": [],
   "source": [
    "\n",
    "\n",
    "mask_attn_out_1, n_nodes_attn = circuitizer.mask_ie(circuitizer.ie_attn[11], thresholds[22], None, inverse=True)\n",
    "mask_attn_out_2, n_nodes_attn = circuitizer.mask_ie(circuitizer.ie_attn[11], thresholds[-1], None, inverse=True)"
   ]
  },
  {
   "cell_type": "code",
   "execution_count": 113,
   "metadata": {},
   "outputs": [],
   "source": [
    "removed_features_attn_mask = mask_attn_out_2[\"arrow\"].astype(np.int32) -  mask_attn_out_1[\"arrow\"].astype(np.int32)\n",
    "removed_features_attn_mask = removed_features_attn_mask == 1"
   ]
  },
  {
   "cell_type": "code",
   "execution_count": 114,
   "metadata": {},
   "outputs": [
    {
     "data": {
      "text/html": [
       "<script> (()=>{ if (customElements.get('treescope-container') === undefined) { class TreescopeContainer extends HTMLElement { constructor() { super(); this.attachShadow({mode: \"open\"}); this.defns = {}; this.state = {}; } } customElements.define(\"treescope-container\", TreescopeContainer); } if (customElements.get('treescope-run-here') === undefined) { class RunHere extends HTMLElement { constructor() { super() } connectedCallback() { const run = child => { const fn = new Function(child.textContent); child.textContent = \"\"; fn.call(this); this.remove(); }; const child = this.querySelector(\"script\"); if (child) { run(child); } else { new MutationObserver(()=>{ run(this.querySelector(\"script\")); }).observe(this, {childList: true}); } } } customElements.define(\"treescope-run-here\", RunHere); } })(); </script> <treescope-container class=\"treescope_out_351127e1b97f48c298559d47607b6379\" ></treescope-container> <treescope-run-here><script type=\"application/octet-stream\"> const root = ( Array.from(document.getElementsByClassName( \"treescope_out_351127e1b97f48c298559d47607b6379\")) .filter((elt) => !elt.dataset.setup) )[0]; root.dataset.setup = 1; const msg = document.createElement(\"span\"); msg.style = \"color: #aaaaaa; font-family: monospace; transition: opacity 0.2s; opacity: 0.0;\"; msg.textContent = \"(Loading...)\"; root.state.loadingMsg = msg; root.shadowRoot.appendChild(msg); root.state.chain = new Promise((resolve, reject) => { const observer = new IntersectionObserver((entries) => { for (const entry of entries) { if (entry.isIntersecting) { resolve(); observer.disconnect(); return; } } }, {rootMargin: \"1000px\"}); window.setTimeout(() => { if (root.loadingMsg) { root.loadingMsg.style.opacity = \"1.0\"; } observer.observe(root); }, 0); }); root.state.deferring = false; const _insertNode = (node) => { for (let oldScript of node.querySelectorAll(\"script\")) { let newScript = document.createElement(\"script\"); newScript.type = oldScript.type; newScript.textContent = oldScript.textContent; oldScript.parentNode.replaceChild(newScript, oldScript); } if (root.state.loadingMsg) { root.state.loadingMsg.remove(); root.state.loadingMsg = null; } root.shadowRoot.appendChild(node); }; root.defns.insertContent = ((contentNode, compressed) => { if (compressed) { root.state.deferring = true; } if (root.state.deferring) { root.state.chain = (async () => { await root.state.chain; if (compressed) { const encoded = contentNode.textContent; const blob = new Blob([ Uint8Array.from(atob(encoded), (m) => m.codePointAt(0)) ]); const reader = blob.stream().pipeThrough( new DecompressionStream(\"deflate\") ).pipeThrough( new TextDecoderStream(\"utf-8\") ).getReader(); const parts = []; while (true) { const step = await reader.read(); if (step.done) { break; } parts.push(step.value); } const tpl = document.createElement('template'); tpl.innerHTML = parts.join(\"\"); _insertNode(tpl.content); } else { _insertNode(contentNode.content); } })(); } else { _insertNode(contentNode.content); } }); </script></treescope-run-here><div style=\"display:none\"> <script type=\"application/octet-stream\" >eNrFVt+P4jYQ/lesVLpNqia7C0uXCxBpX6o+VH3oPdxDWyEnmSQuxk7tgV2u2v+9YyfAAmFVqacWHiDjmfm++RnPLe4kZAkaAFvoFpZGa2R/sVZbgUKrlBmQHMUWZqzSCuOKr4XcpWytlbYtL0j+3AiE2D+krDUkkcJi7F3HuGtJqrQicc6LVW30RpVxoaU2aWc6Y/1TLkmB/IkSm5RVAklNISicsZaXpVB1LKHClI2KxoEoiBsQdUOS+2Ti3CjkgjgfzPo/8VZYkQspkJjzDeqDbiwUGqGsKGIrvkB32tN9nd926Zkf0hObjSJMQzJbGNEic/EtbnjbSlFwl7FbXSC46A3w9U0WhtEio4QSnkVWQqUsWzBshE1qwF8o2z/rEsIoabTFxJ9TaIBs2YJyIT8Vzqsz+vX3oZMfuSol0LHaSDnrEBKi+UlrRdLwWZtVxN5y0J9J5I5OxCgKJ2zBVNqsuSogUfo5jHx9CSC8OGFxZzRn41FEfkTFwjPWiQRVY8MWC3bnVN6lbgA3RlHeGUgLR2LNRjlm565tIyp0/LyC+/NK3ysIIXWVKvVzYuDPDVh8UmLty/WD4WsIu5xEzsfsAqjd2KZL42wgxj3EogvjnSj/OQfHoisk6rqW3VQu/eRQt7bOl5OAxO8YbKnB+0o6dv45WcHOJT0wgSPUKyeF5Nb+RMPZ+w2Dg8/lmtow2IO/RpRPan/f49n8dmgASrFl3uEiOF0fAUOeU6TwsgjuAqYVkaGwFem91/bDsYbOZh9lQGPXLSyyAGOgXLa0M6DRsgTjO8Yvkm/4o/v2K8ubpEwgpxml2JKK1HlOUIo4XFl2r+xUbdmxI+1SWALd7ZfauSLLmOQ5yDTNgeYF3rAq/Gc2iNcttvjebbZ+Ad7NjlhC+XWXS+025FXMRm/BXCKX3Kws8JrKpC6tU6UxPBM13IaZ95kN5sHbpEUDxQrKKGLfRkcOznTYaK9/wtBv6JTd/Daa5MXN/0nv1Ogqye//A5Kujg54Y6wrYKvpPQVmAFfYrwfrR8EDxX7e7LUe/zqox/AQXvASJRF2WQljcanV0rX/wGi9N0rJaOKmabBU7F/T7yp+TtFFteampptFR8MP9PEmQbckxUS5CA4L7G46mnwsxqPy47h6eJxOpw8TDsXjQ3E/fYRqXAW9Ub9qT+f+HJ6UuyDmQrWb/nYSeNq5fgkGnfQR0mEXHa17b0y/va+3+EOLN8g+SJz9wV+SJ2P4jpYVjkd0P0iShH2o0b1IyEN2/kMvkOxvSua1vQ==</script> <treescope-run-here><script type=\"application/octet-stream\"> const root = ( Array.from(document.getElementsByClassName( \"treescope_out_351127e1b97f48c298559d47607b6379\")) .filter((elt) => !elt.dataset['step0']) )[0]; root.dataset['step0'] = 1; root.defns.insertContent( this.parentNode.querySelector('script[type=\"application/octet-stream\"]'), true ); this.parentNode.remove(); </script></treescope-run-here> </div>"
      ],
      "text/plain": [
       "<IPython.core.display.HTML object>"
      ]
     },
     "metadata": {},
     "output_type": "display_data"
    },
    {
     "data": {
      "text/html": [
       "<div style=\"display:none\"> <script type=\"application/octet-stream\" >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</script> <treescope-run-here><script type=\"application/octet-stream\"> const root = ( Array.from(document.getElementsByClassName( \"treescope_out_351127e1b97f48c298559d47607b6379\")) .filter((elt) => !elt.dataset['step1']) )[0]; root.dataset['step1'] = 1; root.defns.insertContent( this.parentNode.querySelector('script[type=\"application/octet-stream\"]'), true ); this.parentNode.remove(); </script></treescope-run-here> </div>"
      ],
      "text/plain": [
       "<IPython.core.display.HTML object>"
      ]
     },
     "metadata": {},
     "output_type": "display_data"
    },
    {
     "data": {
      "text/html": [
       "<treescope-run-here><script type=\"application/octet-stream\"> const root = ( Array.from(document.getElementsByClassName( \"treescope_out_351127e1b97f48c298559d47607b6379\")) .filter((elt) => !elt.dataset.stolen) )[0]; root.dataset.stolen = 1; this.parentNode.replaceChild(root, this); </script></treescope-run-here>"
      ],
      "text/plain": [
       "<jax.Array(57, dtype=int32)>"
      ]
     },
     "execution_count": 114,
     "metadata": {},
     "output_type": "execute_result"
    }
   ],
   "source": [
    "removed_features_attn_mask.sum()"
   ]
  },
  {
   "cell_type": "code",
   "execution_count": 115,
   "metadata": {},
   "outputs": [],
   "source": [
    "removed_features_attn = circuitizer.saes[(12, \"resid\")][\"W_dec\"][removed_features_attn_mask]"
   ]
  },
  {
   "cell_type": "code",
   "execution_count": 116,
   "metadata": {},
   "outputs": [],
   "source": [
    "removed_features_attn = removed_features_attn / np.linalg.norm(removed_features_attn, axis=1, keepdims=True)\n",
    "\n",
    "pairwise_sims = removed_features_attn @ removed_features_attn.T\n",
    "\n"
   ]
  },
  {
   "cell_type": "code",
   "execution_count": 102,
   "metadata": {},
   "outputs": [
    {
     "name": "stderr",
     "output_type": "stream",
     "text": [
      "/usr/lib/python3.10/pty.py:89: RuntimeWarning:\n",
      "\n",
      "os.fork() was called. os.fork() is incompatible with multithreaded code, and JAX is multithreaded, so this will likely lead to a deadlock.\n",
      "\n",
      "huggingface/tokenizers: The current process just got forked, after parallelism has already been used. Disabling parallelism to avoid deadlocks...\n",
      "To disable this warning, you can either:\n",
      "\t- Avoid using `tokenizers` before the fork if possible\n",
      "\t- Explicitly set the environment variable TOKENIZERS_PARALLELISM=(true | false)\n"
     ]
    },
    {
     "name": "stdout",
     "output_type": "stream",
     "text": [
      "Collecting kaleido\n",
      "  Downloading kaleido-0.2.1-py2.py3-none-manylinux1_x86_64.whl (79.9 MB)\n",
      "\u001b[2K     \u001b[90m━━━━━━━━━━━━━━━━━━━━━━━━━━━━━━━━━━━━━━━━\u001b[0m \u001b[32m79.9/79.9 MB\u001b[0m \u001b[31m14.9 MB/s\u001b[0m eta \u001b[36m0:00:00\u001b[0m00:01\u001b[0m00:01\u001b[0m\n",
      "\u001b[?25hInstalling collected packages: kaleido\n",
      "Successfully installed kaleido-0.2.1\n",
      "\n",
      "\u001b[1m[\u001b[0m\u001b[34;49mnotice\u001b[0m\u001b[1;39;49m]\u001b[0m\u001b[39;49m A new release of pip is available: \u001b[0m\u001b[31;49m23.1.2\u001b[0m\u001b[39;49m -> \u001b[0m\u001b[32;49m24.2\u001b[0m\n",
      "\u001b[1m[\u001b[0m\u001b[34;49mnotice\u001b[0m\u001b[1;39;49m]\u001b[0m\u001b[39;49m To update, run: \u001b[0m\u001b[32;49mpip install --upgrade pip\u001b[0m\n",
      "Note: you may need to restart the kernel to use updated packages.\n"
     ]
    }
   ],
   "source": [
    "%pip install -U kaleido"
   ]
  },
  {
   "cell_type": "code",
   "execution_count": 118,
   "metadata": {},
   "outputs": [
    {
     "data": {
      "application/vnd.plotly.v1+json": {
       "config": {
        "plotlyServerURL": "https://plot.ly"
       },
       "data": [
        {
         "coloraxis": "coloraxis",
         "hovertemplate": "x: %{x}<br>y: %{y}<br>color: %{z}<extra></extra>",
         "name": "0",
         "type": "heatmap",
         "xaxis": "x",
         "yaxis": "y",
         "z": [
          [
           1.0001314,
           -0.00012887269,
           0.03458308,
           0.023274546,
           0.008309703,
           0.0117855,
           0.030620363,
           -0.044199593,
           0.035448015,
           0.091682054,
           0.073338896,
           0.08892405,
           -0.024842668,
           0.067102954,
           0.0063984036,
           0.08645108,
           0.090123005,
           0.07567079,
           -0.019064356,
           0.010266778,
           0.02117975,
           0.05164379,
           0.021410882,
           -0.0024047606,
           -0.010442596,
           0.033530667,
           0.015884794,
           0.0134455105,
           0.038951285,
           0.039600313,
           0.06651008,
           0.002242202,
           0.036568604,
           0.04162038,
           0.009225409,
           0.035594687,
           -0.007941109,
           0.032591008,
           0.040709216,
           0.042070456,
           -0.046681166,
           -0.009270172,
           0.015643703,
           0.08464483,
           -0.02989452,
           0.027931273,
           0.06926136,
           0.05079957,
           0.05376058,
           0.021483205,
           0.02816856,
           0.009217219,
           0.00027395412,
           0.064475596,
           0.039919615,
           0.025279885,
           0.03770216
          ],
          [
           -0.00012887269,
           0.99971974,
           0.019328834,
           -0.06648039,
           0.00011558086,
           0.037158556,
           -0.0055359905,
           0.06010129,
           0.027153265,
           -0.01359801,
           0.031132735,
           -0.0037104795,
           0.038753115,
           0.012771189,
           0.01667605,
           -0.0008667847,
           0.041011535,
           -0.007179902,
           0.085835524,
           0.076827005,
           0.010686776,
           0.0020355394,
           0.042991918,
           0.016755117,
           0.055703938,
           -0.0095607005,
           -0.059634663,
           -0.01918985,
           0.05507522,
           0.09290503,
           -0.025736969,
           0.047287725,
           -0.06727454,
           -0.016535142,
           0.019136896,
           -0.0075983796,
           0.03833136,
           -0.0093511,
           0.034752995,
           -0.05618369,
           0.03348431,
           -0.021031415,
           0.034897227,
           -0.00334155,
           0.03562627,
           -0.023056269,
           0.010926627,
           -0.01326903,
           -0.036910202,
           0.05428406,
           -0.007293769,
           0.019342467,
           -0.032060854,
           0.100782365,
           0.0155470185,
           0.1009523,
           0.0315891
          ],
          [
           0.03458308,
           0.019328834,
           0.99994767,
           0.16924003,
           0.027344275,
           -0.0005661268,
           0.02665861,
           0.17741482,
           -0.0034895744,
           0.38045704,
           0.14374253,
           0.025368318,
           0.047824513,
           -0.006660592,
           0.37556595,
           -0.011128263,
           0.16178526,
           0.14176801,
           0.11434621,
           -0.013637826,
           -0.009723268,
           0.019295938,
           0.02085769,
           0.032048054,
           -0.012718695,
           -0.035797082,
           -0.035443984,
           0.038786437,
           -0.0296438,
           0.042716537,
           -0.016402362,
           0.021213502,
           0.2068231,
           -0.011586458,
           0.027854241,
           -0.008523772,
           -0.0073094545,
           -0.0051502483,
           0.012331828,
           0.30919862,
           0.013581281,
           -0.025211968,
           -0.03807028,
           -0.038922854,
           0.2201246,
           -0.070124045,
           0.16865912,
           0.21209125,
           -0.044599723,
           -0.011285153,
           -0.07171483,
           0.01506464,
           0.43353546,
           0.2150321,
           0.012380496,
           -0.02031102,
           -0.08935906
          ],
          [
           0.023274546,
           -0.06648039,
           0.16924003,
           1.000088,
           0.022653125,
           -0.054262064,
           0.0009923391,
           0.16280812,
           0.0032186098,
           0.12723942,
           0.009460304,
           -0.09348855,
           0.037805893,
           -0.020007538,
           0.1297045,
           0.0132201705,
           0.059311632,
           -0.035989065,
           0.02581661,
           -0.072832644,
           0.04526676,
           0.03154796,
           0.008370054,
           -0.01040423,
           0.022314942,
           -0.003226853,
           0.0028463528,
           -0.004229472,
           -0.015117931,
           0.059430275,
           0.044233292,
           -0.0011895485,
           0.114427,
           -0.071336426,
           0.008244651,
           -0.0039935373,
           0.014711526,
           0.03193804,
           0.04994132,
           0.2907415,
           0.0041491985,
           0.008729316,
           -0.0049925335,
           -0.05214828,
           0.22569636,
           0.025661556,
           0.17652217,
           0.018616693,
           0.0003468222,
           0.031506553,
           0.11152644,
           -0.009060567,
           0.09216134,
           0.004254318,
           -0.020164195,
           -0.018970141,
           0.031992223
          ],
          [
           0.008309703,
           0.00011558086,
           0.027344275,
           0.022653125,
           1.0001897,
           -0.015854612,
           -0.0085177915,
           0.06117718,
           -0.040421166,
           0.14951782,
           -0.022401009,
           -0.06825953,
           -0.031909965,
           0.031019395,
           -0.0019297544,
           0.012644054,
           0.10969584,
           -0.03319838,
           -0.046790004,
           -0.05810376,
           0.033528134,
           0.046106473,
           -0.0019450178,
           -0.008936426,
           -0.00030661747,
           0.013313936,
           -0.026035901,
           -0.0068210587,
           -0.026404899,
           0.05999594,
           0.031016694,
           0.007987484,
           0.06468086,
           0.03152152,
           -0.024843426,
           0.019966219,
           0.037938405,
           -0.03079663,
           0.029540597,
           0.026157461,
           -0.02301173,
           0.0199336,
           0.034090046,
           0.0068454603,
           0.0035040285,
           0.023438456,
           0.044970073,
           0.004605541,
           0.021690434,
           0.03685015,
           0.104433686,
           0.021812528,
           0.040697135,
           0.03852901,
           0.0033377595,
           -0.049193785,
           -0.0024181139
          ],
          [
           0.0117855,
           0.037158556,
           -0.0005661268,
           -0.054262064,
           -0.015854612,
           1.0000228,
           0.03840039,
           -0.030965827,
           0.18045625,
           -0.033588294,
           0.051483475,
           0.05914214,
           0.025534105,
           0.29057088,
           0.015741317,
           -0.001457084,
           -0.023835547,
           0.04881638,
           -0.040450037,
           0.09058801,
           0.023188762,
           0.021540128,
           0.09703353,
           0.0047563296,
           0.052520327,
           0.11418657,
           0.026913568,
           -0.0008148253,
           0.11034949,
           -0.006545376,
           0.014664406,
           -0.008865832,
           -0.007325266,
           0.0152283525,
           0.014042834,
           0.02762828,
           0.029282076,
           0.043854617,
           0.07482127,
           0.008934213,
           -0.054987498,
           0.005318273,
           0.029784173,
           0.3217728,
           0.0042149443,
           -0.007815087,
           -0.027009826,
           0.010186171,
           0.15292028,
           0.034155875,
           -0.05128686,
           0.014376864,
           -0.025251223,
           0.00844368,
           0.010133079,
           0.012689828,
           0.033571377
          ],
          [
           0.030620363,
           -0.0055359905,
           0.02665861,
           0.0009923391,
           -0.0085177915,
           0.03840039,
           1.0001868,
           0.057229787,
           0.0102449795,
           0.020320795,
           0.09103339,
           0.068136886,
           0.023066893,
           0.067531675,
           0.011998346,
           0.08906728,
           0.029423185,
           0.039845005,
           0.030875321,
           0.032800876,
           0.029407177,
           0.037317693,
           0.07960028,
           -0.02700014,
           0.15225233,
           0.123911366,
           0.0077395663,
           0.09256916,
           -0.005897497,
           -0.022945441,
           0.01697091,
           0.018375345,
           -0.026147358,
           -0.012696529,
           0.0011594947,
           0.036246855,
           0.032440618,
           0.058698155,
           0.011834695,
           0.011700475,
           0.01336756,
           -0.0028418424,
           0.04996242,
           -0.0032617156,
           -0.03307919,
           -0.0135070635,
           0.013690187,
           0.048548378,
           -0.006689257,
           0.008192528,
           -0.020681852,
           0.022807168,
           0.031116012,
           0.028307632,
           0.11325089,
           -0.008463204,
           0.027347906
          ],
          [
           -0.044199593,
           0.06010129,
           0.17741482,
           0.16280812,
           0.06117718,
           -0.030965827,
           0.057229787,
           1.0000141,
           -0.050822727,
           0.15413225,
           0.029365344,
           -0.01743996,
           -0.023600139,
           -0.014327703,
           0.26926786,
           -0.018154804,
           0.18636233,
           -0.0036554132,
           0.14001118,
           0.111117214,
           -0.006365913,
           0.03473045,
           0.037212633,
           -0.0314622,
           0.115936756,
           -0.062434804,
           0.028420195,
           -0.0015039518,
           -0.018107219,
           0.031990662,
           0.07006522,
           0.013558943,
           0.16509712,
           -0.007367027,
           0.01828638,
           -0.017863281,
           -0.028834684,
           0.056065824,
           0.04333029,
           0.24946779,
           0.008030341,
           0.00029695313,
           0.07971308,
           -0.027206542,
           0.25442496,
           -0.0001930343,
           0.18589017,
           0.03125482,
           -0.053650662,
           0.0051778816,
           0.019781671,
           -0.0037194926,
           0.17486177,
           0.2763314,
           0.02836609,
           -0.031833813,
           -0.022353817
          ],
          [
           0.035448015,
           0.027153265,
           -0.0034895744,
           0.0032186098,
           -0.040421166,
           0.18045625,
           0.0102449795,
           -0.050822727,
           0.9994508,
           0.021878239,
           -0.025231171,
           0.10665764,
           0.026721723,
           0.39505345,
           0.046115354,
           0.1332736,
           0.09522259,
           0.15716133,
           -0.003494108,
           0.015631508,
           0.30462703,
           0.07410833,
           0.08863958,
           0.086992994,
           0.007875711,
           0.25965953,
           -0.04105284,
           -0.0066417353,
           0.082582995,
           0.03112136,
           0.32026482,
           0.07613197,
           -0.005954503,
           0.03840393,
           0.009324843,
           0.012808073,
           0.052795075,
           -0.0003049504,
           0.07027288,
           0.0016144719,
           0.019515734,
           0.011076319,
           0.04115728,
           0.21362251,
           -0.02718189,
           0.0013688793,
           0.05569406,
           -0.002912078,
           0.18575025,
           0.10910766,
           0.03559791,
           0.015293141,
           -0.05885638,
           -0.0058538187,
           0.0073411176,
           -0.0058191535,
           0.068814956
          ],
          [
           0.091682054,
           -0.01359801,
           0.38045704,
           0.12723942,
           0.14951782,
           -0.033588294,
           0.020320795,
           0.15413225,
           0.021878239,
           1.000066,
           0.11078094,
           0.09112288,
           0.0060530202,
           0.105174705,
           0.08945803,
           0.052472226,
           0.31692427,
           0.11462375,
           0.114199296,
           0.0491295,
           0.0877801,
           0.059138812,
           0.029062487,
           0.009421044,
           0.04904373,
           0.03871322,
           0.026273128,
           0.04320964,
           -0.00081471866,
           0.049183853,
           0.04387746,
           0.023514085,
           0.25024855,
           -0.008311827,
           -0.013548814,
           -0.012674186,
           0.027698558,
           0.03190213,
           0.103599176,
           0.21841335,
           -0.015575793,
           0.10760605,
           0.034771375,
           0.007826325,
           0.23388922,
           0.09100312,
           0.20813781,
           0.17465883,
           0.081982546,
           -0.0103934035,
           0.05574765,
           0.019121746,
           0.326737,
           0.09538957,
           0.11921722,
           -0.0027281232,
           0.014521854
          ],
          [
           0.073338896,
           0.031132735,
           0.14374253,
           0.009460304,
           -0.022401009,
           0.051483475,
           0.09103339,
           0.029365344,
           -0.025231171,
           0.11078094,
           1.0001644,
           0.13899735,
           0.041507214,
           0.13914196,
           0.09670515,
           0.020937089,
           0.09984417,
           0.13209963,
           0.21055949,
           0.25897995,
           0.05206321,
           0.052881785,
           0.028443217,
           -0.034260217,
           0.042046726,
           0.19456457,
           0.033260036,
           0.14947286,
           0.15569031,
           -0.012938507,
           0.012073429,
           -0.006385288,
           0.064210184,
           0.009227632,
           -0.028052222,
           0.06503284,
           0.01567593,
           0.2373762,
           0.16094966,
           0.041914947,
           -0.023176085,
           0.12071717,
           -0.032324184,
           -0.017916365,
           0.067096926,
           0.116695985,
           0.1177105,
           0.24526103,
           -0.001795033,
           0.016299553,
           0.064835735,
           -0.014369051,
           0.33456498,
           0.06909667,
           0.34956217,
           -0.034508914,
           0.049157213
          ],
          [
           0.08892405,
           -0.0037104795,
           0.025368318,
           -0.09348855,
           -0.06825953,
           0.05914214,
           0.068136886,
           -0.01743996,
           0.10665764,
           0.09112288,
           0.13899735,
           0.9999979,
           -0.019632973,
           0.19196516,
           0.046984978,
           0.27854806,
           0.106921345,
           0.045211717,
           0.044586264,
           0.15768602,
           0.08883323,
           -0.012725846,
           0.062003367,
           0.010130795,
           0.17996088,
           0.12750322,
           0.086740956,
           0.0042265556,
           0.1294106,
           0.0018537245,
           0.089683875,
           0.005064578,
           0.030639602,
           0.12225036,
           -0.00070025213,
           0.024104945,
           0.045474015,
           0.07393117,
           0.07426408,
           -0.06917101,
           -0.036964484,
           0.09314575,
           0.08240258,
           0.06888382,
           0.02749215,
           0.050631672,
           0.07250228,
           0.0936386,
           0.060825065,
           0.026183939,
           0.09465156,
           0.0056827166,
           0.050030194,
           0.053313714,
           0.1172485,
           -0.004001376,
           0.22476709
          ],
          [
           -0.024842668,
           0.038753115,
           0.047824513,
           0.037805893,
           -0.031909965,
           0.025534105,
           0.023066893,
           -0.023600139,
           0.026721723,
           0.0060530202,
           0.041507214,
           -0.019632973,
           1.000165,
           0.05532246,
           0.04189392,
           -0.02035137,
           0.016497169,
           0.055962518,
           -0.027709948,
           0.012233054,
           0.0022137682,
           0.050436474,
           0.14008382,
           0.00948438,
           0.018332796,
           0.0965395,
           -0.034135908,
           0.010967835,
           0.05472274,
           0.027191397,
           0.06564895,
           0.03314998,
           -0.07360062,
           0.0048403144,
           0.025542669,
           0.058163144,
           0.034169655,
           0.05475316,
           0.021348557,
           0.024191871,
           0.029625375,
           0.023213692,
           -0.028628256,
           0.007016917,
           -0.027856775,
           -0.008335435,
           0.02929563,
           0.025454491,
           0.039824363,
           0.006880726,
           -0.013782737,
           0.03579843,
           0.030754358,
           -0.048880268,
           0.05354602,
           0.029538557,
           0.0005821055
          ],
          [
           0.067102954,
           0.012771189,
           -0.006660592,
           -0.020007538,
           0.031019395,
           0.29057088,
           0.067531675,
           -0.014327703,
           0.39505345,
           0.105174705,
           0.13914196,
           0.19196516,
           0.05532246,
           0.9998562,
           0.036738053,
           0.1029752,
           0.18569091,
           0.10522042,
           0.0071375053,
           0.094936535,
           0.25201902,
           0.1189758,
           0.09340077,
           0.031426355,
           0.030835465,
           0.31192118,
           0.011644429,
           0.078480214,
           0.12668335,
           0.04869793,
           0.2387613,
           0.026543949,
           0.05495076,
           0.033988435,
           0.01764945,
           0.02533352,
           0.070702866,
           0.09673646,
           0.09216404,
           -0.0300208,
           -0.016302466,
           0.06262133,
           0.044458747,
           0.19522853,
           0.02505074,
           0.05162043,
           0.053182766,
           0.06207952,
           0.2603783,
           0.11161681,
           0.13029425,
           0.018979663,
           0.076236,
           0.06067677,
           0.12880239,
           -0.020597849,
           0.09482196
          ],
          [
           0.0063984036,
           0.01667605,
           0.37556595,
           0.1297045,
           -0.0019297544,
           0.015741317,
           0.011998346,
           0.26926786,
           0.046115354,
           0.08945803,
           0.09670515,
           0.046984978,
           0.04189392,
           0.036738053,
           1.0002298,
           0.029683009,
           0.12357582,
           0.15075955,
           0.1326713,
           0.12709585,
           0.001122196,
           0.021349486,
           0.08366153,
           0.03698663,
           0.042759635,
           0.11603662,
           0.06155392,
           -0.015628159,
           0.05075774,
           0.03343772,
           0.08697155,
           0.029383563,
           0.21687146,
           0.044868954,
           0.00999002,
           0.015912268,
           -0.03563039,
           0.1521917,
           0.05360698,
           0.19446228,
           0.01403148,
           0.037017666,
           0.013894338,
           -0.0041083335,
           0.24042526,
           0.04340757,
           0.23155178,
           0.03811118,
           -0.012566129,
           0.035369415,
           0.08468449,
           0.015114235,
           0.14352158,
           0.1625711,
           0.072860196,
           -0.02450785,
           0.05848611
          ],
          [
           0.08645108,
           -0.0008667847,
           -0.011128263,
           0.0132201705,
           0.012644054,
           -0.001457084,
           0.08906728,
           -0.018154804,
           0.1332736,
           0.052472226,
           0.020937089,
           0.27854806,
           -0.02035137,
           0.1029752,
           0.029683009,
           0.9996392,
           0.0062147863,
           0.006425704,
           0.020045593,
           0.035512354,
           0.09004547,
           0.04484979,
           0.09858543,
           0.04847896,
           0.13639176,
           0.13184497,
           0.038441416,
           0.04693133,
           0.020148061,
           -0.00506798,
           0.19745839,
           -0.022987196,
           -0.00049456395,
           0.09571552,
           -0.061889734,
           0.02007694,
           0.050260596,
           0.057052925,
           0.12793958,
           0.0019252263,
           -0.009179249,
           0.07989387,
           0.17690463,
           0.07403779,
           -0.050454743,
           0.09174319,
           0.037670724,
           -0.004149911,
           0.040896416,
           0.091848835,
           0.13151291,
           0.020494333,
           -0.06605609,
           -0.016292103,
           0.047161173,
           0.008066159,
           0.1701493
          ],
          [
           0.090123005,
           0.041011535,
           0.16178526,
           0.059311632,
           0.10969584,
           -0.023835547,
           0.029423185,
           0.18636233,
           0.09522259,
           0.31692427,
           0.09984417,
           0.106921345,
           0.016497169,
           0.18569091,
           0.12357582,
           0.0062147863,
           0.99939525,
           0.13273467,
           0.09135075,
           0.03819497,
           0.10123263,
           -0.0072869984,
           0.1005179,
           0.036423285,
           0.060789466,
           0.093322635,
           0.012268794,
           -0.022722669,
           0.040512335,
           0.19055465,
           0.1554775,
           0.05376485,
           0.13955957,
           -0.022599565,
           0.00027445937,
           0.020578682,
           0.074409805,
           0.07014994,
           0.079979785,
           0.120457195,
           -0.011348663,
           0.047263004,
           0.057074767,
           0.052932166,
           0.16520561,
           0.049416695,
           0.16625929,
           0.08771513,
           0.14099196,
           0.2331396,
           0.05053526,
           0.0376655,
           0.21275932,
           0.121050514,
           0.03092384,
           0.00031032786,
           0.020315904
          ],
          [
           0.07567079,
           -0.007179902,
           0.14176801,
           -0.035989065,
           -0.03319838,
           0.04881638,
           0.039845005,
           -0.0036554132,
           0.15716133,
           0.11462375,
           0.13209963,
           0.045211717,
           0.055962518,
           0.10522042,
           0.15075955,
           0.006425704,
           0.13273467,
           1.0000741,
           0.3696327,
           0.08314012,
           0.2038384,
           -0.06523718,
           0.015878981,
           0.029908631,
           -0.037147865,
           0.13711208,
           0.018021535,
           0.022037331,
           0.034433495,
           0.043866284,
           0.08368028,
           0.006907521,
           0.13659656,
           0.042696588,
           0.0037649164,
           -0.009325657,
           -0.019311393,
           0.07907143,
           0.065727755,
           0.022016907,
           -0.016239671,
           0.028241811,
           0.019898733,
           0.021427713,
           0.14837593,
           0.054376476,
           0.124107465,
           0.1219998,
           0.20027241,
           0.020824803,
           0.0017401315,
           0.0097484,
           0.18965942,
           0.069169894,
           0.10984784,
           -0.009470791,
           0.004140923
          ],
          [
           -0.019064356,
           0.085835524,
           0.11434621,
           0.02581661,
           -0.046790004,
           -0.040450037,
           0.030875321,
           0.14001118,
           -0.003494108,
           0.114199296,
           0.21055949,
           0.044586264,
           -0.027709948,
           0.0071375053,
           0.1326713,
           0.020045593,
           0.09135075,
           0.3696327,
           1.0000168,
           0.16465724,
           0.09934452,
           -0.08225556,
           0.043253064,
           0.022051234,
           0.021209314,
           0.0690006,
           0.031329453,
           0.0008612154,
           -0.013745263,
           -0.0016993438,
           -0.024121815,
           0.009363334,
           0.14044768,
           -0.03135792,
           -0.038458385,
           -0.0061700717,
           0.020900598,
           0.08652947,
           0.089072905,
           0.087355316,
           0.022504207,
           0.057131335,
           0.0444865,
           -0.08350456,
           0.16388342,
           0.024225624,
           0.24298929,
           0.038472496,
           -0.0929027,
           -0.07162549,
           0.018306449,
           0.015021931,
           0.08183612,
           0.16897386,
           0.063580856,
           -0.004403593,
           0.017825529
          ],
          [
           0.010266778,
           0.076827005,
           -0.013637826,
           -0.072832644,
           -0.05810376,
           0.09058801,
           0.032800876,
           0.111117214,
           0.015631508,
           0.0491295,
           0.25897995,
           0.15768602,
           0.012233054,
           0.094936535,
           0.12709585,
           0.035512354,
           0.03819497,
           0.08314012,
           0.16465724,
           1.0004733,
           0.082755476,
           0.05766218,
           0.07316466,
           -0.035624146,
           0.11556718,
           0.049226183,
           0.08307817,
           -0.005403361,
           0.27957863,
           -0.00397914,
           0.019251712,
           0.030868348,
           0.1043057,
           -0.01614131,
           -0.056517694,
           -0.019568872,
           -0.0036008307,
           0.09280914,
           0.1966119,
           -0.06752041,
           0.010875035,
           0.16357857,
           0.032773364,
           -0.014924517,
           0.14025488,
           0.14020854,
           0.07772869,
           0.049830366,
           0.061534982,
           0.06373128,
           -0.00033411756,
           0.043199975,
           0.047948197,
           0.12166883,
           0.14892343,
           0.024475861,
           0.11481428
          ],
          [
           0.02117975,
           0.010686776,
           -0.009723268,
           0.04526676,
           0.033528134,
           0.023188762,
           0.029407177,
           -0.006365913,
           0.30462703,
           0.0877801,
           0.05206321,
           0.08883323,
           0.0022137682,
           0.25201902,
           0.001122196,
           0.09004547,
           0.10123263,
           0.2038384,
           0.09934452,
           0.082755476,
           1.0000813,
           -0.0010571415,
           0.0122245625,
           0.04284869,
           0.018971045,
           0.08082395,
           -0.021243542,
           0.035646442,
           0.095825806,
           0.011944853,
           0.27609915,
           0.031822,
           0.029055804,
           -0.048573554,
           -0.004446215,
           0.009662566,
           0.0019799406,
           0.037376523,
           0.07549297,
           -0.03381968,
           0.012015054,
           0.048852175,
           0.030004334,
           0.0646914,
           0.029533766,
           0.07150406,
           0.17431135,
           0.061849985,
           0.22012107,
           0.14606716,
           0.0746931,
           0.0108851,
           -0.026672378,
           0.05753913,
           0.059568293,
           -0.009726364,
           0.104038626
          ],
          [
           0.05164379,
           0.0020355394,
           0.019295938,
           0.03154796,
           0.046106473,
           0.021540128,
           0.037317693,
           0.03473045,
           0.07410833,
           0.059138812,
           0.052881785,
           -0.012725846,
           0.050436474,
           0.1189758,
           0.021349486,
           0.04484979,
           -0.0072869984,
           -0.06523718,
           -0.08225556,
           0.05766218,
           -0.0010571415,
           0.999761,
           0.10353339,
           -0.03155006,
           0.1186602,
           0.0454665,
           -0.005424414,
           -0.0077049453,
           0.122419916,
           0.0077677043,
           0.1402688,
           0.008822005,
           0.03467538,
           0.01957241,
           0.004186971,
           0.021153135,
           0.022882838,
           0.024910733,
           0.029027108,
           0.007644563,
           -0.0043321135,
           -0.009185524,
           -0.010193894,
           0.054479934,
           -0.027894668,
           -0.039822005,
           0.020919513,
           -0.007454438,
           0.08278311,
           0.033425573,
           -0.015710667,
           0.009622549,
           0.027771428,
           0.03581799,
           0.07708118,
           -0.017270334,
           0.016593676
          ],
          [
           0.021410882,
           0.042991918,
           0.02085769,
           0.008370054,
           -0.0019450178,
           0.09703353,
           0.07960028,
           0.037212633,
           0.08863958,
           0.029062487,
           0.028443217,
           0.062003367,
           0.14008382,
           0.09340077,
           0.08366153,
           0.09858543,
           0.1005179,
           0.015878981,
           0.043253064,
           0.07316466,
           0.0122245625,
           0.10353339,
           1.0004293,
           0.0063603544,
           0.37843648,
           0.24907923,
           0.012819901,
           -0.010598046,
           0.1841524,
           0.077127665,
           0.031335935,
           0.04336445,
           -0.00006776303,
           -0.024939751,
           0.016523054,
           0.06487849,
           0.121641055,
           0.08554665,
           0.029305262,
           0.03722439,
           0.014653385,
           0.085301176,
           0.1841937,
           0.04521083,
           -0.07301724,
           0.11256024,
           -0.0023194924,
           -0.0014537126,
           0.066626884,
           0.110968634,
           0.006934153,
           0.2690484,
           -0.048371047,
           -0.012444418,
           0.11886722,
           -0.013040672,
           0.1037989
          ],
          [
           -0.0024047606,
           0.016755117,
           0.032048054,
           -0.01040423,
           -0.008936426,
           0.0047563296,
           -0.02700014,
           -0.0314622,
           0.086992994,
           0.009421044,
           -0.034260217,
           0.010130795,
           0.00948438,
           0.031426355,
           0.03698663,
           0.04847896,
           0.036423285,
           0.029908631,
           0.022051234,
           -0.035624146,
           0.04284869,
           -0.03155006,
           0.0063603544,
           1.0004768,
           -0.040970393,
           -0.0009052269,
           -0.017382309,
           0.013679956,
           0.018970476,
           0.02838559,
           0.052639343,
           0.033657666,
           -0.008653399,
           0.009278869,
           0.06713951,
           0.05427644,
           -0.030556042,
           -0.013866369,
           -0.012917822,
           0.007220393,
           0.037607312,
           0.0024228971,
           -0.0081071155,
           -0.019227646,
           -0.0049793636,
           0.011412079,
           0.0125130005,
           -0.0011530537,
           0.0025811428,
           0.0031045275,
           0.0130659705,
           0.041849077,
           -0.0044000535,
           0.0029296065,
           -0.01805203,
           -0.025733499,
           0.010346349
          ],
          [
           -0.010442596,
           0.055703938,
           -0.012718695,
           0.022314942,
           -0.00030661747,
           0.052520327,
           0.15225233,
           0.115936756,
           0.007875711,
           0.04904373,
           0.042046726,
           0.17996088,
           0.018332796,
           0.030835465,
           0.042759635,
           0.13639176,
           0.060789466,
           -0.037147865,
           0.021209314,
           0.11556718,
           0.018971045,
           0.1186602,
           0.37843648,
           -0.040970393,
           1.0002182,
           0.06608189,
           0.13310535,
           -0.038831763,
           0.12472517,
           0.030563068,
           0.010778446,
           0.02259783,
           0.010631177,
           0.049669534,
           -0.0042364877,
           -0.0020867363,
           0.13942035,
           0.058861606,
           0.040575996,
           0.011337464,
           -0.014506191,
           0.05120475,
           0.29309765,
           0.018535316,
           -0.030004147,
           0.058732305,
           0.07481134,
           -0.03243243,
           -0.0054204073,
           0.018481351,
           0.0056457147,
           0.12719877,
           -0.03389892,
           0.016286852,
           0.04906925,
           0.012428989,
           0.12957679
          ],
          [
           0.033530667,
           -0.0095607005,
           -0.035797082,
           -0.003226853,
           0.013313936,
           0.11418657,
           0.123911366,
           -0.062434804,
           0.25965953,
           0.03871322,
           0.19456457,
           0.12750322,
           0.0965395,
           0.31192118,
           0.11603662,
           0.13184497,
           0.093322635,
           0.13711208,
           0.0690006,
           0.049226183,
           0.08082395,
           0.0454665,
           0.24907923,
           -0.0009052269,
           0.06608189,
           1.0000336,
           0.024930902,
           0.043660134,
           0.07929118,
           0.028870054,
           0.18892872,
           0.010610749,
           0.013703404,
           0.036836825,
           0.008357078,
           0.0050438493,
           0.0023518098,
           0.18628544,
           0.056694955,
           -0.009028529,
           0.020933775,
           0.074965015,
           0.060611207,
           0.12104224,
           -0.06424942,
           0.13972783,
           0.039534256,
           0.07052353,
           0.10719709,
           -0.01236043,
           0.06367034,
           -0.013752254,
           0.0810651,
           -0.008595578,
           0.2496801,
           0.004789171,
           0.15102693
          ],
          [
           0.015884794,
           -0.059634663,
           -0.035443984,
           0.0028463528,
           -0.026035901,
           0.026913568,
           0.0077395663,
           0.028420195,
           -0.04105284,
           0.026273128,
           0.033260036,
           0.086740956,
           -0.034135908,
           0.011644429,
           0.06155392,
           0.038441416,
           0.012268794,
           0.018021535,
           0.031329453,
           0.08307817,
           -0.021243542,
           -0.005424414,
           0.012819901,
           -0.017382309,
           0.13310535,
           0.024930902,
           0.9999896,
           0.0094886515,
           -0.0016884524,
           0.013640224,
           0.0142699415,
           -0.0051977714,
           0.023158193,
           0.03177027,
           -0.017441832,
           -0.007239603,
           0.050615877,
           0.1309863,
           0.08273322,
           0.03850238,
           -0.0118648335,
           0.09973119,
           0.15066512,
           0.054010384,
           0.013014287,
           0.08767949,
           0.012395505,
           0.0018498842,
           0.023594687,
           0.017944854,
           0.077326104,
           0.01985963,
           0.07660597,
           0.018353216,
           0.077965684,
           -0.019012412,
           0.0429441
          ],
          [
           0.0134455105,
           -0.01918985,
           0.038786437,
           -0.004229472,
           -0.0068210587,
           -0.0008148253,
           0.09256916,
           -0.0015039518,
           -0.0066417353,
           0.04320964,
           0.14947286,
           0.0042265556,
           0.010967835,
           0.078480214,
           -0.015628159,
           0.04693133,
           -0.022722669,
           0.022037331,
           0.0008612154,
           -0.005403361,
           0.035646442,
           -0.0077049453,
           -0.010598046,
           0.013679956,
           -0.038831763,
           0.043660134,
           0.0094886515,
           0.99990785,
           0.04825047,
           -0.01826643,
           0.022025485,
           -0.023907315,
           -0.00064453296,
           -0.045020886,
           0.015853863,
           0.030369166,
           0.03948711,
           0.07797949,
           0.056415047,
           -0.03211728,
           -0.0035347033,
           0.103988245,
           0.059711322,
           0.004664315,
           -0.004662461,
           0.04003233,
           0.027598262,
           0.046243686,
           0.06667349,
           0.032506403,
           -0.0025801752,
           0.02927067,
           0.083631605,
           -0.016445205,
           0.12254953,
           -0.03192506,
           0.016865231
          ],
          [
           0.038951285,
           0.05507522,
           -0.0296438,
           -0.015117931,
           -0.026404899,
           0.11034949,
           -0.005897497,
           -0.018107219,
           0.082582995,
           -0.00081471866,
           0.15569031,
           0.1294106,
           0.05472274,
           0.12668335,
           0.05075774,
           0.020148061,
           0.040512335,
           0.034433495,
           -0.013745263,
           0.27957863,
           0.095825806,
           0.122419916,
           0.1841524,
           0.018970476,
           0.12472517,
           0.07929118,
           -0.0016884524,
           0.04825047,
           1.0001074,
           0.010830126,
           0.025834244,
           0.029417573,
           -0.023893237,
           0.053684466,
           0.0032689953,
           0.043302804,
           0.077569336,
           0.05727925,
           0.112473965,
           -0.013672525,
           -0.0057170484,
           0.060642615,
           0.0173751,
           0.046047695,
           -0.020217579,
           0.081033155,
           0.045732163,
           0.04831999,
           0.16714494,
           0.13882998,
           0.035569087,
           0.041238043,
           -0.025605291,
           0.024652883,
           0.10916537,
           -0.006392449,
           0.06498769
          ],
          [
           0.039600313,
           0.09290503,
           0.042716537,
           0.059430275,
           0.05999594,
           -0.006545376,
           -0.022945441,
           0.031990662,
           0.03112136,
           0.049183853,
           -0.012938507,
           0.0018537245,
           0.027191397,
           0.04869793,
           0.03343772,
           -0.00506798,
           0.19055465,
           0.043866284,
           -0.0016993438,
           -0.00397914,
           0.011944853,
           0.0077677043,
           0.077127665,
           0.02838559,
           0.030563068,
           0.028870054,
           0.013640224,
           -0.01826643,
           0.010830126,
           0.99990857,
           0.101692125,
           -0.000035425648,
           -0.00889839,
           -0.053925894,
           0.09302403,
           0.015342624,
           0.043263704,
           0.027311036,
           0.018719416,
           0.021050192,
           0.036005903,
           0.0063275415,
           0.066321515,
           0.008512726,
           0.043486036,
           0.0089579625,
           0.013955671,
           0.010055679,
           0.105761364,
           0.11435078,
           0.019646794,
           0.03354892,
           0.017653365,
           -0.041963015,
           -0.016972398,
           -0.033266623,
           0.04571494
          ],
          [
           0.06651008,
           -0.025736969,
           -0.016402362,
           0.044233292,
           0.031016694,
           0.014664406,
           0.01697091,
           0.07006522,
           0.32026482,
           0.04387746,
           0.012073429,
           0.089683875,
           0.06564895,
           0.2387613,
           0.08697155,
           0.19745839,
           0.1554775,
           0.08368028,
           -0.024121815,
           0.019251712,
           0.27609915,
           0.1402688,
           0.031335935,
           0.052639343,
           0.010778446,
           0.18892872,
           0.0142699415,
           0.022025485,
           0.025834244,
           0.101692125,
           0.99999857,
           0.026856925,
           0.049630485,
           0.058403373,
           0.0019569378,
           0.01278645,
           0.022465913,
           0.07209216,
           0.09889772,
           0.003533749,
           0.0253474,
           0.050673805,
           0.054201473,
           0.19898748,
           0.022201614,
           0.053310674,
           0.11455117,
           -0.023270082,
           0.13316067,
           0.10854409,
           0.06317,
           -0.019939473,
           -0.0058253095,
           0.024330981,
           -0.040777795,
           -0.007791345,
           0.08857719
          ],
          [
           0.002242202,
           0.047287725,
           0.021213502,
           -0.0011895485,
           0.007987484,
           -0.008865832,
           0.018375345,
           0.013558943,
           0.07613197,
           0.023514085,
           -0.006385288,
           0.005064578,
           0.03314998,
           0.026543949,
           0.029383563,
           -0.022987196,
           0.05376485,
           0.006907521,
           0.009363334,
           0.030868348,
           0.031822,
           0.008822005,
           0.04336445,
           0.033657666,
           0.02259783,
           0.010610749,
           -0.0051977714,
           -0.023907315,
           0.029417573,
           -0.000035425648,
           0.026856925,
           1.0002565,
           -0.026760023,
           -0.033064626,
           0.2002526,
           0.010555675,
           -0.005722911,
           0.0075810608,
           0.019067142,
           0.051130485,
           0.374155,
           -0.05200179,
           0.009455312,
           -0.0034957766,
           -0.013196557,
           0.022761848,
           -0.010257316,
           -0.006287314,
           0.036970884,
           0.03499026,
           -0.015506984,
           0.032445606,
           -0.009620715,
           -0.027616326,
           0.01429612,
           0.12162292,
           0.0015616771
          ],
          [
           0.036568604,
           -0.06727454,
           0.2068231,
           0.114427,
           0.06468086,
           -0.007325266,
           -0.026147358,
           0.16509712,
           -0.005954503,
           0.25024855,
           0.064210184,
           0.030639602,
           -0.07360062,
           0.05495076,
           0.21687146,
           -0.00049456395,
           0.13955957,
           0.13659656,
           0.14044768,
           0.1043057,
           0.029055804,
           0.03467538,
           -0.00006776303,
           -0.008653399,
           0.010631177,
           0.013703404,
           0.023158193,
           -0.00064453296,
           -0.023893237,
           -0.00889839,
           0.049630485,
           -0.026760023,
           1.000262,
           0.0002541598,
           -0.07126272,
           -0.0044458155,
           -0.015395227,
           0.020013722,
           0.071060546,
           0.2234981,
           -0.01841057,
           0.028256712,
           -0.0018357914,
           0.015771177,
           0.17292169,
           0.05606553,
           0.113676324,
           0.04772863,
           0.04398341,
           0.013634663,
           0.07684949,
           -0.0031847043,
           0.14591777,
           0.13801539,
           -0.0051319674,
           -0.02303034,
           0.010647908
          ],
          [
           0.04162038,
           -0.016535142,
           -0.011586458,
           -0.071336426,
           0.03152152,
           0.0152283525,
           -0.012696529,
           -0.007367027,
           0.03840393,
           -0.008311827,
           0.009227632,
           0.12225036,
           0.0048403144,
           0.033988435,
           0.044868954,
           0.09571552,
           -0.022599565,
           0.042696588,
           -0.03135792,
           -0.01614131,
           -0.048573554,
           0.01957241,
           -0.024939751,
           0.009278869,
           0.049669534,
           0.036836825,
           0.03177027,
           -0.045020886,
           0.053684466,
           -0.053925894,
           0.058403373,
           -0.033064626,
           0.0002541598,
           1.0000856,
           -0.013259567,
           -0.037119463,
           -0.012738314,
           -0.0111857485,
           -0.023829198,
           0.040070698,
           -0.026620962,
           -0.018597841,
           0.006358536,
           0.16169249,
           -0.049525265,
           -0.03138637,
           0.00029342435,
           -0.019685403,
           0.04053743,
           -0.01608244,
           -0.018714778,
           -0.027576812,
           -0.00077695306,
           0.024190733,
           0.014875995,
           0.0321023,
           0.012901043
          ],
          [
           0.009225409,
           0.019136896,
           0.027854241,
           0.008244651,
           -0.024843426,
           0.014042834,
           0.0011594947,
           0.01828638,
           0.009324843,
           -0.013548814,
           -0.028052222,
           -0.00070025213,
           0.025542669,
           0.01764945,
           0.00999002,
           -0.061889734,
           0.00027445937,
           0.0037649164,
           -0.038458385,
           -0.056517694,
           -0.004446215,
           0.004186971,
           0.016523054,
           0.06713951,
           -0.0042364877,
           0.008357078,
           -0.017441832,
           0.015853863,
           0.0032689953,
           0.09302403,
           0.0019569378,
           0.2002526,
           -0.07126272,
           -0.013259567,
           0.9998063,
           0.023376536,
           -0.0051353825,
           0.0023929253,
           -0.010920921,
           0.028330985,
           0.18613493,
           -0.0356682,
           0.00623055,
           -0.026590433,
           0.009707727,
           0.0018343767,
           0.019449426,
           -0.0055849953,
           0.015773166,
           0.021410555,
           -0.01873495,
           -0.03268107,
           0.011099711,
           0.016291969,
           -0.014095068,
           0.05936812,
           -0.021085728
          ],
          [
           0.035594687,
           -0.0075983796,
           -0.008523772,
           -0.0039935373,
           0.019966219,
           0.02762828,
           0.036246855,
           -0.017863281,
           0.012808073,
           -0.012674186,
           0.06503284,
           0.024104945,
           0.058163144,
           0.02533352,
           0.015912268,
           0.02007694,
           0.020578682,
           -0.009325657,
           -0.0061700717,
           -0.019568872,
           0.009662566,
           0.021153135,
           0.06487849,
           0.05427644,
           -0.0020867363,
           0.0050438493,
           -0.007239603,
           0.030369166,
           0.043302804,
           0.015342624,
           0.01278645,
           0.010555675,
           -0.0044458155,
           -0.037119463,
           0.023376536,
           0.99967426,
           0.035130464,
           0.05583522,
           0.017535593,
           -0.0026474074,
           -0.013754036,
           0.05208791,
           0.05022531,
           0.004030156,
           -0.011394433,
           0.023288675,
           0.025190976,
           -0.018522585,
           0.021143772,
           0.01384588,
           0.025747329,
           0.17430758,
           0.0080058575,
           -0.026982205,
           -0.043498386,
           0.0069711423,
           0.053432103
          ],
          [
           -0.007941109,
           0.03833136,
           -0.0073094545,
           0.014711526,
           0.037938405,
           0.029282076,
           0.032440618,
           -0.028834684,
           0.052795075,
           0.027698558,
           0.01567593,
           0.045474015,
           0.034169655,
           0.070702866,
           -0.03563039,
           0.050260596,
           0.074409805,
           -0.019311393,
           0.020900598,
           -0.0036008307,
           0.0019799406,
           0.022882838,
           0.121641055,
           -0.030556042,
           0.13942035,
           0.0023518098,
           0.050615877,
           0.03948711,
           0.077569336,
           0.043263704,
           0.022465913,
           -0.005722911,
           -0.015395227,
           -0.012738314,
           -0.0051353825,
           0.035130464,
           1.0002726,
           0.046170615,
           0.032348905,
           -0.041034285,
           -0.03710203,
           0.025410395,
           0.108289555,
           0.019248687,
           -0.02196134,
           0.035720196,
           -0.029672757,
           -0.023554537,
           0.034805905,
           0.07752705,
           0.017171038,
           0.053513132,
           0.010644225,
           -0.0024547167,
           0.004642283,
           0.04694895,
           0.03755261
          ],
          [
           0.032591008,
           -0.0093511,
           -0.0051502483,
           0.03193804,
           -0.03079663,
           0.043854617,
           0.058698155,
           0.056065824,
           -0.0003049504,
           0.03190213,
           0.2373762,
           0.07393117,
           0.05475316,
           0.09673646,
           0.1521917,
           0.057052925,
           0.07014994,
           0.07907143,
           0.08652947,
           0.09280914,
           0.037376523,
           0.024910733,
           0.08554665,
           -0.013866369,
           0.058861606,
           0.18628544,
           0.1309863,
           0.07797949,
           0.05727925,
           0.027311036,
           0.07209216,
           0.0075810608,
           0.020013722,
           -0.0111857485,
           0.0023929253,
           0.05583522,
           0.046170615,
           0.9997022,
           0.154398,
           -0.011145469,
           -0.016037464,
           0.22826312,
           0.043605313,
           0.01375503,
           0.009457378,
           0.10584466,
           0.004794011,
           0.07844353,
           0.062462404,
           0.047450155,
           0.09037696,
           0.017584108,
           0.17256938,
           -0.028325252,
           0.08957885,
           -0.017023688,
           0.11745429
          ],
          [
           0.040709216,
           0.034752995,
           0.012331828,
           0.04994132,
           0.029540597,
           0.07482127,
           0.011834695,
           0.04333029,
           0.07027288,
           0.103599176,
           0.16094966,
           0.07426408,
           0.021348557,
           0.09216404,
           0.05360698,
           0.12793958,
           0.079979785,
           0.065727755,
           0.089072905,
           0.1966119,
           0.07549297,
           0.029027108,
           0.029305262,
           -0.012917822,
           0.040575996,
           0.056694955,
           0.08273322,
           0.056415047,
           0.112473965,
           0.018719416,
           0.09889772,
           0.019067142,
           0.071060546,
           -0.023829198,
           -0.010920921,
           0.017535593,
           0.032348905,
           0.154398,
           0.9997808,
           0.05033866,
           0.006366816,
           0.24566285,
           0.027340055,
           0.040021658,
           0.067631885,
           0.19889402,
           0.0452301,
           0.08714597,
           0.04415939,
           0.05733064,
           0.18481094,
           0.017472997,
           0.0710783,
           0.02985112,
           0.112072974,
           -0.022714093,
           0.10028368
          ],
          [
           0.042070456,
           -0.05618369,
           0.30919862,
           0.2907415,
           0.026157461,
           0.008934213,
           0.011700475,
           0.24946779,
           0.0016144719,
           0.21841335,
           0.041914947,
           -0.06917101,
           0.024191871,
           -0.0300208,
           0.19446228,
           0.0019252263,
           0.120457195,
           0.022016907,
           0.087355316,
           -0.06752041,
           -0.03381968,
           0.007644563,
           0.03722439,
           0.007220393,
           0.011337464,
           -0.009028529,
           0.03850238,
           -0.03211728,
           -0.013672525,
           0.021050192,
           0.003533749,
           0.051130485,
           0.2234981,
           0.040070698,
           0.028330985,
           -0.0026474074,
           -0.041034285,
           -0.011145469,
           0.05033866,
           1.0000721,
           -0.0011966592,
           -0.05448879,
           -0.032201968,
           0.035338223,
           0.08772886,
           -0.040178973,
           0.1420503,
           0.089980915,
           -0.039519954,
           0.016032849,
           -0.007937718,
           -0.0019640932,
           0.1772283,
           -0.07506932,
           -0.00278477,
           -0.0021141097,
           -0.057635166
          ],
          [
           -0.046681166,
           0.03348431,
           0.013581281,
           0.0041491985,
           -0.02301173,
           -0.054987498,
           0.01336756,
           0.008030341,
           0.019515734,
           -0.015575793,
           -0.023176085,
           -0.036964484,
           0.029625375,
           -0.016302466,
           0.01403148,
           -0.009179249,
           -0.011348663,
           -0.016239671,
           0.022504207,
           0.010875035,
           0.012015054,
           -0.0043321135,
           0.014653385,
           0.037607312,
           -0.014506191,
           0.020933775,
           -0.0118648335,
           -0.0035347033,
           -0.0057170484,
           0.036005903,
           0.0253474,
           0.374155,
           -0.01841057,
           -0.026620962,
           0.18613493,
           -0.013754036,
           -0.03710203,
           -0.016037464,
           0.006366816,
           -0.0011966592,
           1.0001533,
           -0.008127137,
           -0.0077776127,
           0.00881146,
           0.025496619,
           0.0042696875,
           0.0049174633,
           -0.027860422,
           0.015423058,
           0.0034304457,
           -0.010403457,
           0.0039995406,
           -0.030974448,
           0.046430234,
           0.014882211,
           0.080708206,
           -0.014914149
          ],
          [
           -0.009270172,
           -0.021031415,
           -0.025211968,
           0.008729316,
           0.0199336,
           0.005318273,
           -0.0028418424,
           0.00029695313,
           0.011076319,
           0.10760605,
           0.12071717,
           0.09314575,
           0.023213692,
           0.06262133,
           0.037017666,
           0.07989387,
           0.047263004,
           0.028241811,
           0.057131335,
           0.16357857,
           0.048852175,
           -0.009185524,
           0.085301176,
           0.0024228971,
           0.05120475,
           0.074965015,
           0.09973119,
           0.103988245,
           0.060642615,
           0.0063275415,
           0.050673805,
           -0.05200179,
           0.028256712,
           -0.018597841,
           -0.0356682,
           0.05208791,
           0.025410395,
           0.22826312,
           0.24566285,
           -0.05448879,
           -0.008127137,
           0.9999287,
           0.12225923,
           -0.020811107,
           0.057151474,
           0.36882716,
           0.08499874,
           0.13307709,
           -0.01710046,
           0.023795884,
           0.09856098,
           0.12518482,
           0.1078112,
           0.013737994,
           0.15646295,
           0.004018658,
           0.17838466
          ],
          [
           0.015643703,
           0.034897227,
           -0.03807028,
           -0.0049925335,
           0.034090046,
           0.029784173,
           0.04996242,
           0.07971308,
           0.04115728,
           0.034771375,
           -0.032324184,
           0.08240258,
           -0.028628256,
           0.044458747,
           0.013894338,
           0.17690463,
           0.057074767,
           0.019898733,
           0.0444865,
           0.032773364,
           0.030004334,
           -0.010193894,
           0.1841937,
           -0.0081071155,
           0.29309765,
           0.060611207,
           0.15066512,
           0.059711322,
           0.0173751,
           0.066321515,
           0.054201473,
           0.009455312,
           -0.0018357914,
           0.006358536,
           0.00623055,
           0.05022531,
           0.108289555,
           0.043605313,
           0.027340055,
           -0.032201968,
           -0.0077776127,
           0.12225923,
           0.99969935,
           0.046649955,
           0.014537288,
           0.09831383,
           0.007899327,
           -0.027808126,
           0.06487356,
           0.0329328,
           0.05911769,
           0.09549229,
           0.007374973,
           0.0010997215,
           -0.0031865826,
           0.02081908,
           0.15134192
          ],
          [
           0.08464483,
           -0.00334155,
           -0.038922854,
           -0.05214828,
           0.0068454603,
           0.3217728,
           -0.0032617156,
           -0.027206542,
           0.21362251,
           0.007826325,
           -0.017916365,
           0.06888382,
           0.007016917,
           0.19522853,
           -0.0041083335,
           0.07403779,
           0.052932166,
           0.021427713,
           -0.08350456,
           -0.014924517,
           0.0646914,
           0.054479934,
           0.04521083,
           -0.019227646,
           0.018535316,
           0.12104224,
           0.054010384,
           0.004664315,
           0.046047695,
           0.008512726,
           0.19898748,
           -0.0034957766,
           0.015771177,
           0.16169249,
           -0.026590433,
           0.004030156,
           0.019248687,
           0.01375503,
           0.040021658,
           0.035338223,
           0.00881146,
           -0.020811107,
           0.046649955,
           0.9999355,
           -0.029584069,
           0.011377715,
           -0.024871405,
           0.00029912218,
           0.23853776,
           0.072428405,
           0.056340802,
           0.005322966,
           -0.016755845,
           -0.012861034,
           0.0145743005,
           -0.027658628,
           0.042200863
          ],
          [
           -0.02989452,
           0.03562627,
           0.2201246,
           0.22569636,
           0.0035040285,
           0.0042149443,
           -0.03307919,
           0.25442496,
           -0.02718189,
           0.23388922,
           0.067096926,
           0.02749215,
           -0.027856775,
           0.02505074,
           0.24042526,
           -0.050454743,
           0.16520561,
           0.14837593,
           0.16388342,
           0.14025488,
           0.029533766,
           -0.027894668,
           -0.07301724,
           -0.0049793636,
           -0.030004147,
           -0.06424942,
           0.013014287,
           -0.004662461,
           -0.020217579,
           0.043486036,
           0.022201614,
           -0.013196557,
           0.17292169,
           -0.049525265,
           0.009707727,
           -0.011394433,
           -0.02196134,
           0.009457378,
           0.067631885,
           0.08772886,
           0.025496619,
           0.057151474,
           0.014537288,
           -0.029584069,
           0.99990475,
           0.038928866,
           0.14443262,
           -0.015136448,
           0.011604771,
           0.02835895,
           -0.0029357644,
           0.005985575,
           0.18886141,
           0.24652894,
           -0.031839684,
           -0.026709525,
           -0.017909419
          ],
          [
           0.027931273,
           -0.023056269,
           -0.070124045,
           0.025661556,
           0.023438456,
           -0.007815087,
           -0.0135070635,
           -0.0001930343,
           0.0013688793,
           0.09100312,
           0.116695985,
           0.050631672,
           -0.008335435,
           0.05162043,
           0.04340757,
           0.09174319,
           0.049416695,
           0.054376476,
           0.024225624,
           0.14020854,
           0.07150406,
           -0.039822005,
           0.11256024,
           0.011412079,
           0.058732305,
           0.13972783,
           0.08767949,
           0.04003233,
           0.081033155,
           0.0089579625,
           0.053310674,
           0.022761848,
           0.05606553,
           -0.03138637,
           0.0018343767,
           0.023288675,
           0.035720196,
           0.10584466,
           0.19889402,
           -0.040178973,
           0.0042696875,
           0.36882716,
           0.09831383,
           0.011377715,
           0.038928866,
           1.0002904,
           0.03537535,
           0.18221074,
           0.02518644,
           0.061227534,
           0.17728738,
           0.11445014,
           0.0742289,
           0.015667558,
           0.19333875,
           -0.014855739,
           0.09766885
          ],
          [
           0.06926136,
           0.010926627,
           0.16865912,
           0.17652217,
           0.044970073,
           -0.027009826,
           0.013690187,
           0.18589017,
           0.05569406,
           0.20813781,
           0.1177105,
           0.07250228,
           0.02929563,
           0.053182766,
           0.23155178,
           0.037670724,
           0.16625929,
           0.124107465,
           0.24298929,
           0.07772869,
           0.17431135,
           0.020919513,
           -0.0023194924,
           0.0125130005,
           0.07481134,
           0.039534256,
           0.012395505,
           0.027598262,
           0.045732163,
           0.013955671,
           0.11455117,
           -0.010257316,
           0.113676324,
           0.00029342435,
           0.019449426,
           0.025190976,
           -0.029672757,
           0.004794011,
           0.0452301,
           0.1420503,
           0.0049174633,
           0.08499874,
           0.007899327,
           -0.024871405,
           0.14443262,
           0.03537535,
           0.99972105,
           0.10456692,
           0.0050712507,
           0.06008376,
           0.121320345,
           -0.03502194,
           0.14121132,
           0.12139003,
           -0.035981547,
           -0.015611708,
           0.068118684
          ],
          [
           0.05079957,
           -0.01326903,
           0.21209125,
           0.018616693,
           0.004605541,
           0.010186171,
           0.048548378,
           0.03125482,
           -0.002912078,
           0.17465883,
           0.24526103,
           0.0936386,
           0.025454491,
           0.06207952,
           0.03811118,
           -0.004149911,
           0.08771513,
           0.1219998,
           0.038472496,
           0.049830366,
           0.061849985,
           -0.007454438,
           -0.0014537126,
           -0.0011530537,
           -0.03243243,
           0.07052353,
           0.0018498842,
           0.046243686,
           0.04831999,
           0.010055679,
           -0.023270082,
           -0.006287314,
           0.04772863,
           -0.019685403,
           -0.0055849953,
           -0.018522585,
           -0.023554537,
           0.07844353,
           0.08714597,
           0.089980915,
           -0.027860422,
           0.13307709,
           -0.027808126,
           0.00029912218,
           -0.015136448,
           0.18221074,
           0.10456692,
           1.0003343,
           0.0066168057,
           -0.009538604,
           0.1209524,
           0.00051526166,
           0.35214216,
           0.018563617,
           0.34070772,
           -0.030987153,
           0.028812211
          ],
          [
           0.05376058,
           -0.036910202,
           -0.044599723,
           0.0003468222,
           0.021690434,
           0.15292028,
           -0.006689257,
           -0.053650662,
           0.18575025,
           0.081982546,
           -0.001795033,
           0.060825065,
           0.039824363,
           0.2603783,
           -0.012566129,
           0.040896416,
           0.14099196,
           0.20027241,
           -0.0929027,
           0.061534982,
           0.22012107,
           0.08278311,
           0.066626884,
           0.0025811428,
           -0.0054204073,
           0.10719709,
           0.023594687,
           0.06667349,
           0.16714494,
           0.105761364,
           0.13316067,
           0.036970884,
           0.04398341,
           0.04053743,
           0.015773166,
           0.021143772,
           0.034805905,
           0.062462404,
           0.04415939,
           -0.039519954,
           0.015423058,
           -0.01710046,
           0.06487356,
           0.23853776,
           0.011604771,
           0.02518644,
           0.0050712507,
           0.0066168057,
           1.0000403,
           0.17645541,
           0.05316072,
           -0.006064862,
           -0.0069723567,
           -0.004889466,
           0.013761414,
           -0.0028731031,
           0.085253775
          ],
          [
           0.021483205,
           0.05428406,
           -0.011285153,
           0.031506553,
           0.03685015,
           0.034155875,
           0.008192528,
           0.0051778816,
           0.10910766,
           -0.0103934035,
           0.016299553,
           0.026183939,
           0.006880726,
           0.11161681,
           0.035369415,
           0.091848835,
           0.2331396,
           0.020824803,
           -0.07162549,
           0.06373128,
           0.14606716,
           0.033425573,
           0.110968634,
           0.0031045275,
           0.018481351,
           -0.01236043,
           0.017944854,
           0.032506403,
           0.13882998,
           0.11435078,
           0.10854409,
           0.03499026,
           0.013634663,
           -0.01608244,
           0.021410555,
           0.01384588,
           0.07752705,
           0.047450155,
           0.05733064,
           0.016032849,
           0.0034304457,
           0.023795884,
           0.0329328,
           0.072428405,
           0.02835895,
           0.061227534,
           0.06008376,
           -0.009538604,
           0.17645541,
           1.0000969,
           0.02021798,
           0.01612143,
           -0.013939645,
           -0.022794299,
           0.028000306,
           0.011777563,
           0.09697631
          ],
          [
           0.02816856,
           -0.007293769,
           -0.07171483,
           0.11152644,
           0.104433686,
           -0.05128686,
           -0.020681852,
           0.019781671,
           0.03559791,
           0.05574765,
           0.064835735,
           0.09465156,
           -0.013782737,
           0.13029425,
           0.08468449,
           0.13151291,
           0.05053526,
           0.0017401315,
           0.018306449,
           -0.00033411756,
           0.0746931,
           -0.015710667,
           0.006934153,
           0.0130659705,
           0.0056457147,
           0.06367034,
           0.077326104,
           -0.0025801752,
           0.035569087,
           0.019646794,
           0.06317,
           -0.015506984,
           0.07684949,
           -0.018714778,
           -0.01873495,
           0.025747329,
           0.017171038,
           0.09037696,
           0.18481094,
           -0.007937718,
           -0.010403457,
           0.09856098,
           0.05911769,
           0.056340802,
           -0.0029357644,
           0.17728738,
           0.121320345,
           0.1209524,
           0.05316072,
           0.02021798,
           0.99963385,
           -0.01866063,
           0.059372976,
           0.037619814,
           0.051239885,
           -0.057364862,
           0.1057771
          ],
          [
           0.009217219,
           0.019342467,
           0.01506464,
           -0.009060567,
           0.021812528,
           0.014376864,
           0.022807168,
           -0.0037194926,
           0.015293141,
           0.019121746,
           -0.014369051,
           0.0056827166,
           0.03579843,
           0.018979663,
           0.015114235,
           0.020494333,
           0.0376655,
           0.0097484,
           0.015021931,
           0.043199975,
           0.0108851,
           0.009622549,
           0.2690484,
           0.041849077,
           0.12719877,
           -0.013752254,
           0.01985963,
           0.02927067,
           0.041238043,
           0.03354892,
           -0.019939473,
           0.032445606,
           -0.0031847043,
           -0.027576812,
           -0.03268107,
           0.17430758,
           0.053513132,
           0.017584108,
           0.017472997,
           -0.0019640932,
           0.0039995406,
           0.12518482,
           0.09549229,
           0.005322966,
           0.005985575,
           0.11445014,
           -0.03502194,
           0.00051526166,
           -0.006064862,
           0.01612143,
           -0.01866063,
           1.0001442,
           -0.025483292,
           -0.012241808,
           0.06034811,
           0.0021361643,
           0.022913285
          ],
          [
           0.00027395412,
           -0.032060854,
           0.43353546,
           0.09216134,
           0.040697135,
           -0.025251223,
           0.031116012,
           0.17486177,
           -0.05885638,
           0.326737,
           0.33456498,
           0.050030194,
           0.030754358,
           0.076236,
           0.14352158,
           -0.06605609,
           0.21275932,
           0.18965942,
           0.08183612,
           0.047948197,
           -0.026672378,
           0.027771428,
           -0.048371047,
           -0.0044000535,
           -0.03389892,
           0.0810651,
           0.07660597,
           0.083631605,
           -0.025605291,
           0.017653365,
           -0.0058253095,
           -0.009620715,
           0.14591777,
           -0.00077695306,
           0.011099711,
           0.0080058575,
           0.010644225,
           0.17256938,
           0.0710783,
           0.1772283,
           -0.030974448,
           0.1078112,
           0.007374973,
           -0.016755845,
           0.18886141,
           0.0742289,
           0.14121132,
           0.35214216,
           -0.0069723567,
           -0.013939645,
           0.059372976,
           -0.025483292,
           0.99966323,
           0.108464584,
           0.3128264,
           -0.025591437,
           0.012068827
          ],
          [
           0.064475596,
           0.100782365,
           0.2150321,
           0.004254318,
           0.03852901,
           0.00844368,
           0.028307632,
           0.2763314,
           -0.0058538187,
           0.09538957,
           0.06909667,
           0.053313714,
           -0.048880268,
           0.06067677,
           0.1625711,
           -0.016292103,
           0.121050514,
           0.069169894,
           0.16897386,
           0.12166883,
           0.05753913,
           0.03581799,
           -0.012444418,
           0.0029296065,
           0.016286852,
           -0.008595578,
           0.018353216,
           -0.016445205,
           0.024652883,
           -0.041963015,
           0.024330981,
           -0.027616326,
           0.13801539,
           0.024190733,
           0.016291969,
           -0.026982205,
           -0.0024547167,
           -0.028325252,
           0.02985112,
           -0.07506932,
           0.046430234,
           0.013737994,
           0.0010997215,
           -0.012861034,
           0.24652894,
           0.015667558,
           0.12139003,
           0.018563617,
           -0.004889466,
           -0.022794299,
           0.037619814,
           -0.012241808,
           0.108464584,
           1.0001119,
           0.056515187,
           0.010381157,
           -0.024587888
          ],
          [
           0.039919615,
           0.0155470185,
           0.012380496,
           -0.020164195,
           0.0033377595,
           0.010133079,
           0.11325089,
           0.02836609,
           0.0073411176,
           0.11921722,
           0.34956217,
           0.1172485,
           0.05354602,
           0.12880239,
           0.072860196,
           0.047161173,
           0.03092384,
           0.10984784,
           0.063580856,
           0.14892343,
           0.059568293,
           0.07708118,
           0.11886722,
           -0.01805203,
           0.04906925,
           0.2496801,
           0.077965684,
           0.12254953,
           0.10916537,
           -0.016972398,
           -0.040777795,
           0.01429612,
           -0.0051319674,
           0.014875995,
           -0.014095068,
           -0.043498386,
           0.004642283,
           0.08957885,
           0.112072974,
           -0.00278477,
           0.014882211,
           0.15646295,
           -0.0031865826,
           0.0145743005,
           -0.031839684,
           0.19333875,
           -0.035981547,
           0.34070772,
           0.013761414,
           0.028000306,
           0.051239885,
           0.06034811,
           0.3128264,
           0.056515187,
           0.99991673,
           -0.009200454,
           0.17087913
          ],
          [
           0.025279885,
           0.1009523,
           -0.02031102,
           -0.018970141,
           -0.049193785,
           0.012689828,
           -0.008463204,
           -0.031833813,
           -0.0058191535,
           -0.0027281232,
           -0.034508914,
           -0.004001376,
           0.029538557,
           -0.020597849,
           -0.02450785,
           0.008066159,
           0.00031032786,
           -0.009470791,
           -0.004403593,
           0.024475861,
           -0.009726364,
           -0.017270334,
           -0.013040672,
           -0.025733499,
           0.012428989,
           0.004789171,
           -0.019012412,
           -0.03192506,
           -0.006392449,
           -0.033266623,
           -0.007791345,
           0.12162292,
           -0.02303034,
           0.0321023,
           0.05936812,
           0.0069711423,
           0.04694895,
           -0.017023688,
           -0.022714093,
           -0.0021141097,
           0.080708206,
           0.004018658,
           0.02081908,
           -0.027658628,
           -0.026709525,
           -0.014855739,
           -0.015611708,
           -0.030987153,
           -0.0028731031,
           0.011777563,
           -0.057364862,
           0.0021361643,
           -0.025591437,
           0.010381157,
           -0.009200454,
           1.0002089,
           0.0110363215
          ],
          [
           0.03770216,
           0.0315891,
           -0.08935906,
           0.031992223,
           -0.0024181139,
           0.033571377,
           0.027347906,
           -0.022353817,
           0.068814956,
           0.014521854,
           0.049157213,
           0.22476709,
           0.0005821055,
           0.09482196,
           0.05848611,
           0.1701493,
           0.020315904,
           0.004140923,
           0.017825529,
           0.11481428,
           0.104038626,
           0.016593676,
           0.1037989,
           0.010346349,
           0.12957679,
           0.15102693,
           0.0429441,
           0.016865231,
           0.06498769,
           0.04571494,
           0.08857719,
           0.0015616771,
           0.010647908,
           0.012901043,
           -0.021085728,
           0.053432103,
           0.03755261,
           0.11745429,
           0.10028368,
           -0.057635166,
           -0.014914149,
           0.17838466,
           0.15134192,
           0.042200863,
           -0.017909419,
           0.09766885,
           0.068118684,
           0.028812211,
           0.085253775,
           0.09697631,
           0.1057771,
           0.022913285,
           0.012068827,
           -0.024587888,
           0.17087913,
           0.0110363215,
           1.0006361
          ]
         ]
        }
       ],
       "layout": {
        "coloraxis": {
         "colorscale": [
          [
           0,
           "#0d0887"
          ],
          [
           0.1111111111111111,
           "#46039f"
          ],
          [
           0.2222222222222222,
           "#7201a8"
          ],
          [
           0.3333333333333333,
           "#9c179e"
          ],
          [
           0.4444444444444444,
           "#bd3786"
          ],
          [
           0.5555555555555556,
           "#d8576b"
          ],
          [
           0.6666666666666666,
           "#ed7953"
          ],
          [
           0.7777777777777778,
           "#fb9f3a"
          ],
          [
           0.8888888888888888,
           "#fdca26"
          ],
          [
           1,
           "#f0f921"
          ]
         ]
        },
        "height": 800,
        "margin": {
         "t": 60
        },
        "template": {
         "data": {
          "bar": [
           {
            "error_x": {
             "color": "#2a3f5f"
            },
            "error_y": {
             "color": "#2a3f5f"
            },
            "marker": {
             "line": {
              "color": "#E5ECF6",
              "width": 0.5
             },
             "pattern": {
              "fillmode": "overlay",
              "size": 10,
              "solidity": 0.2
             }
            },
            "type": "bar"
           }
          ],
          "barpolar": [
           {
            "marker": {
             "line": {
              "color": "#E5ECF6",
              "width": 0.5
             },
             "pattern": {
              "fillmode": "overlay",
              "size": 10,
              "solidity": 0.2
             }
            },
            "type": "barpolar"
           }
          ],
          "carpet": [
           {
            "aaxis": {
             "endlinecolor": "#2a3f5f",
             "gridcolor": "white",
             "linecolor": "white",
             "minorgridcolor": "white",
             "startlinecolor": "#2a3f5f"
            },
            "baxis": {
             "endlinecolor": "#2a3f5f",
             "gridcolor": "white",
             "linecolor": "white",
             "minorgridcolor": "white",
             "startlinecolor": "#2a3f5f"
            },
            "type": "carpet"
           }
          ],
          "choropleth": [
           {
            "colorbar": {
             "outlinewidth": 0,
             "ticks": ""
            },
            "type": "choropleth"
           }
          ],
          "contour": [
           {
            "colorbar": {
             "outlinewidth": 0,
             "ticks": ""
            },
            "colorscale": [
             [
              0,
              "#0d0887"
             ],
             [
              0.1111111111111111,
              "#46039f"
             ],
             [
              0.2222222222222222,
              "#7201a8"
             ],
             [
              0.3333333333333333,
              "#9c179e"
             ],
             [
              0.4444444444444444,
              "#bd3786"
             ],
             [
              0.5555555555555556,
              "#d8576b"
             ],
             [
              0.6666666666666666,
              "#ed7953"
             ],
             [
              0.7777777777777778,
              "#fb9f3a"
             ],
             [
              0.8888888888888888,
              "#fdca26"
             ],
             [
              1,
              "#f0f921"
             ]
            ],
            "type": "contour"
           }
          ],
          "contourcarpet": [
           {
            "colorbar": {
             "outlinewidth": 0,
             "ticks": ""
            },
            "type": "contourcarpet"
           }
          ],
          "heatmap": [
           {
            "colorbar": {
             "outlinewidth": 0,
             "ticks": ""
            },
            "colorscale": [
             [
              0,
              "#0d0887"
             ],
             [
              0.1111111111111111,
              "#46039f"
             ],
             [
              0.2222222222222222,
              "#7201a8"
             ],
             [
              0.3333333333333333,
              "#9c179e"
             ],
             [
              0.4444444444444444,
              "#bd3786"
             ],
             [
              0.5555555555555556,
              "#d8576b"
             ],
             [
              0.6666666666666666,
              "#ed7953"
             ],
             [
              0.7777777777777778,
              "#fb9f3a"
             ],
             [
              0.8888888888888888,
              "#fdca26"
             ],
             [
              1,
              "#f0f921"
             ]
            ],
            "type": "heatmap"
           }
          ],
          "heatmapgl": [
           {
            "colorbar": {
             "outlinewidth": 0,
             "ticks": ""
            },
            "colorscale": [
             [
              0,
              "#0d0887"
             ],
             [
              0.1111111111111111,
              "#46039f"
             ],
             [
              0.2222222222222222,
              "#7201a8"
             ],
             [
              0.3333333333333333,
              "#9c179e"
             ],
             [
              0.4444444444444444,
              "#bd3786"
             ],
             [
              0.5555555555555556,
              "#d8576b"
             ],
             [
              0.6666666666666666,
              "#ed7953"
             ],
             [
              0.7777777777777778,
              "#fb9f3a"
             ],
             [
              0.8888888888888888,
              "#fdca26"
             ],
             [
              1,
              "#f0f921"
             ]
            ],
            "type": "heatmapgl"
           }
          ],
          "histogram": [
           {
            "marker": {
             "pattern": {
              "fillmode": "overlay",
              "size": 10,
              "solidity": 0.2
             }
            },
            "type": "histogram"
           }
          ],
          "histogram2d": [
           {
            "colorbar": {
             "outlinewidth": 0,
             "ticks": ""
            },
            "colorscale": [
             [
              0,
              "#0d0887"
             ],
             [
              0.1111111111111111,
              "#46039f"
             ],
             [
              0.2222222222222222,
              "#7201a8"
             ],
             [
              0.3333333333333333,
              "#9c179e"
             ],
             [
              0.4444444444444444,
              "#bd3786"
             ],
             [
              0.5555555555555556,
              "#d8576b"
             ],
             [
              0.6666666666666666,
              "#ed7953"
             ],
             [
              0.7777777777777778,
              "#fb9f3a"
             ],
             [
              0.8888888888888888,
              "#fdca26"
             ],
             [
              1,
              "#f0f921"
             ]
            ],
            "type": "histogram2d"
           }
          ],
          "histogram2dcontour": [
           {
            "colorbar": {
             "outlinewidth": 0,
             "ticks": ""
            },
            "colorscale": [
             [
              0,
              "#0d0887"
             ],
             [
              0.1111111111111111,
              "#46039f"
             ],
             [
              0.2222222222222222,
              "#7201a8"
             ],
             [
              0.3333333333333333,
              "#9c179e"
             ],
             [
              0.4444444444444444,
              "#bd3786"
             ],
             [
              0.5555555555555556,
              "#d8576b"
             ],
             [
              0.6666666666666666,
              "#ed7953"
             ],
             [
              0.7777777777777778,
              "#fb9f3a"
             ],
             [
              0.8888888888888888,
              "#fdca26"
             ],
             [
              1,
              "#f0f921"
             ]
            ],
            "type": "histogram2dcontour"
           }
          ],
          "mesh3d": [
           {
            "colorbar": {
             "outlinewidth": 0,
             "ticks": ""
            },
            "type": "mesh3d"
           }
          ],
          "parcoords": [
           {
            "line": {
             "colorbar": {
              "outlinewidth": 0,
              "ticks": ""
             }
            },
            "type": "parcoords"
           }
          ],
          "pie": [
           {
            "automargin": true,
            "type": "pie"
           }
          ],
          "scatter": [
           {
            "fillpattern": {
             "fillmode": "overlay",
             "size": 10,
             "solidity": 0.2
            },
            "type": "scatter"
           }
          ],
          "scatter3d": [
           {
            "line": {
             "colorbar": {
              "outlinewidth": 0,
              "ticks": ""
             }
            },
            "marker": {
             "colorbar": {
              "outlinewidth": 0,
              "ticks": ""
             }
            },
            "type": "scatter3d"
           }
          ],
          "scattercarpet": [
           {
            "marker": {
             "colorbar": {
              "outlinewidth": 0,
              "ticks": ""
             }
            },
            "type": "scattercarpet"
           }
          ],
          "scattergeo": [
           {
            "marker": {
             "colorbar": {
              "outlinewidth": 0,
              "ticks": ""
             }
            },
            "type": "scattergeo"
           }
          ],
          "scattergl": [
           {
            "marker": {
             "colorbar": {
              "outlinewidth": 0,
              "ticks": ""
             }
            },
            "type": "scattergl"
           }
          ],
          "scattermapbox": [
           {
            "marker": {
             "colorbar": {
              "outlinewidth": 0,
              "ticks": ""
             }
            },
            "type": "scattermapbox"
           }
          ],
          "scatterpolar": [
           {
            "marker": {
             "colorbar": {
              "outlinewidth": 0,
              "ticks": ""
             }
            },
            "type": "scatterpolar"
           }
          ],
          "scatterpolargl": [
           {
            "marker": {
             "colorbar": {
              "outlinewidth": 0,
              "ticks": ""
             }
            },
            "type": "scatterpolargl"
           }
          ],
          "scatterternary": [
           {
            "marker": {
             "colorbar": {
              "outlinewidth": 0,
              "ticks": ""
             }
            },
            "type": "scatterternary"
           }
          ],
          "surface": [
           {
            "colorbar": {
             "outlinewidth": 0,
             "ticks": ""
            },
            "colorscale": [
             [
              0,
              "#0d0887"
             ],
             [
              0.1111111111111111,
              "#46039f"
             ],
             [
              0.2222222222222222,
              "#7201a8"
             ],
             [
              0.3333333333333333,
              "#9c179e"
             ],
             [
              0.4444444444444444,
              "#bd3786"
             ],
             [
              0.5555555555555556,
              "#d8576b"
             ],
             [
              0.6666666666666666,
              "#ed7953"
             ],
             [
              0.7777777777777778,
              "#fb9f3a"
             ],
             [
              0.8888888888888888,
              "#fdca26"
             ],
             [
              1,
              "#f0f921"
             ]
            ],
            "type": "surface"
           }
          ],
          "table": [
           {
            "cells": {
             "fill": {
              "color": "#EBF0F8"
             },
             "line": {
              "color": "white"
             }
            },
            "header": {
             "fill": {
              "color": "#C8D4E3"
             },
             "line": {
              "color": "white"
             }
            },
            "type": "table"
           }
          ]
         },
         "layout": {
          "annotationdefaults": {
           "arrowcolor": "#2a3f5f",
           "arrowhead": 0,
           "arrowwidth": 1
          },
          "autotypenumbers": "strict",
          "coloraxis": {
           "colorbar": {
            "outlinewidth": 0,
            "ticks": ""
           }
          },
          "colorscale": {
           "diverging": [
            [
             0,
             "#8e0152"
            ],
            [
             0.1,
             "#c51b7d"
            ],
            [
             0.2,
             "#de77ae"
            ],
            [
             0.3,
             "#f1b6da"
            ],
            [
             0.4,
             "#fde0ef"
            ],
            [
             0.5,
             "#f7f7f7"
            ],
            [
             0.6,
             "#e6f5d0"
            ],
            [
             0.7,
             "#b8e186"
            ],
            [
             0.8,
             "#7fbc41"
            ],
            [
             0.9,
             "#4d9221"
            ],
            [
             1,
             "#276419"
            ]
           ],
           "sequential": [
            [
             0,
             "#0d0887"
            ],
            [
             0.1111111111111111,
             "#46039f"
            ],
            [
             0.2222222222222222,
             "#7201a8"
            ],
            [
             0.3333333333333333,
             "#9c179e"
            ],
            [
             0.4444444444444444,
             "#bd3786"
            ],
            [
             0.5555555555555556,
             "#d8576b"
            ],
            [
             0.6666666666666666,
             "#ed7953"
            ],
            [
             0.7777777777777778,
             "#fb9f3a"
            ],
            [
             0.8888888888888888,
             "#fdca26"
            ],
            [
             1,
             "#f0f921"
            ]
           ],
           "sequentialminus": [
            [
             0,
             "#0d0887"
            ],
            [
             0.1111111111111111,
             "#46039f"
            ],
            [
             0.2222222222222222,
             "#7201a8"
            ],
            [
             0.3333333333333333,
             "#9c179e"
            ],
            [
             0.4444444444444444,
             "#bd3786"
            ],
            [
             0.5555555555555556,
             "#d8576b"
            ],
            [
             0.6666666666666666,
             "#ed7953"
            ],
            [
             0.7777777777777778,
             "#fb9f3a"
            ],
            [
             0.8888888888888888,
             "#fdca26"
            ],
            [
             1,
             "#f0f921"
            ]
           ]
          },
          "colorway": [
           "#636efa",
           "#EF553B",
           "#00cc96",
           "#ab63fa",
           "#FFA15A",
           "#19d3f3",
           "#FF6692",
           "#B6E880",
           "#FF97FF",
           "#FECB52"
          ],
          "font": {
           "color": "#2a3f5f"
          },
          "geo": {
           "bgcolor": "white",
           "lakecolor": "white",
           "landcolor": "#E5ECF6",
           "showlakes": true,
           "showland": true,
           "subunitcolor": "white"
          },
          "hoverlabel": {
           "align": "left"
          },
          "hovermode": "closest",
          "mapbox": {
           "style": "light"
          },
          "paper_bgcolor": "white",
          "plot_bgcolor": "#E5ECF6",
          "polar": {
           "angularaxis": {
            "gridcolor": "white",
            "linecolor": "white",
            "ticks": ""
           },
           "bgcolor": "#E5ECF6",
           "radialaxis": {
            "gridcolor": "white",
            "linecolor": "white",
            "ticks": ""
           }
          },
          "scene": {
           "xaxis": {
            "backgroundcolor": "#E5ECF6",
            "gridcolor": "white",
            "gridwidth": 2,
            "linecolor": "white",
            "showbackground": true,
            "ticks": "",
            "zerolinecolor": "white"
           },
           "yaxis": {
            "backgroundcolor": "#E5ECF6",
            "gridcolor": "white",
            "gridwidth": 2,
            "linecolor": "white",
            "showbackground": true,
            "ticks": "",
            "zerolinecolor": "white"
           },
           "zaxis": {
            "backgroundcolor": "#E5ECF6",
            "gridcolor": "white",
            "gridwidth": 2,
            "linecolor": "white",
            "showbackground": true,
            "ticks": "",
            "zerolinecolor": "white"
           }
          },
          "shapedefaults": {
           "line": {
            "color": "#2a3f5f"
           }
          },
          "ternary": {
           "aaxis": {
            "gridcolor": "white",
            "linecolor": "white",
            "ticks": ""
           },
           "baxis": {
            "gridcolor": "white",
            "linecolor": "white",
            "ticks": ""
           },
           "bgcolor": "#E5ECF6",
           "caxis": {
            "gridcolor": "white",
            "linecolor": "white",
            "ticks": ""
           }
          },
          "title": {
           "x": 0.05
          },
          "xaxis": {
           "automargin": true,
           "gridcolor": "white",
           "linecolor": "white",
           "ticks": "",
           "title": {
            "standoff": 15
           },
           "zerolinecolor": "white",
           "zerolinewidth": 2
          },
          "yaxis": {
           "automargin": true,
           "gridcolor": "white",
           "linecolor": "white",
           "ticks": "",
           "title": {
            "standoff": 15
           },
           "zerolinecolor": "white",
           "zerolinewidth": 2
          }
         }
        },
        "width": 800,
        "xaxis": {
         "anchor": "y",
         "constrain": "domain",
         "domain": [
          0,
          1
         ],
         "scaleanchor": "y"
        },
        "yaxis": {
         "anchor": "x",
         "autorange": "reversed",
         "constrain": "domain",
         "domain": [
          0,
          1
         ]
        }
       }
      },
      "text/html": [
       "<div>                            <div id=\"a454225e-5a7f-4b6d-bce0-a5d36cf46be9\" class=\"plotly-graph-div\" style=\"height:800px; width:800px;\"></div>            <script type=\"text/javascript\">                require([\"plotly\"], function(Plotly) {                    window.PLOTLYENV=window.PLOTLYENV || {};                                    if (document.getElementById(\"a454225e-5a7f-4b6d-bce0-a5d36cf46be9\")) {                    Plotly.newPlot(                        \"a454225e-5a7f-4b6d-bce0-a5d36cf46be9\",                        [{\"coloraxis\":\"coloraxis\",\"name\":\"0\",\"z\":[[1.0001314,-0.00012887269,0.03458308,0.023274546,0.008309703,0.0117855,0.030620363,-0.044199593,0.035448015,0.091682054,0.073338896,0.08892405,-0.024842668,0.067102954,0.0063984036,0.08645108,0.090123005,0.07567079,-0.019064356,0.010266778,0.02117975,0.05164379,0.021410882,-0.0024047606,-0.010442596,0.033530667,0.015884794,0.0134455105,0.038951285,0.039600313,0.06651008,0.002242202,0.036568604,0.04162038,0.009225409,0.035594687,-0.007941109,0.032591008,0.040709216,0.042070456,-0.046681166,-0.009270172,0.015643703,0.08464483,-0.02989452,0.027931273,0.06926136,0.05079957,0.05376058,0.021483205,0.02816856,0.009217219,0.00027395412,0.064475596,0.039919615,0.025279885,0.03770216],[-0.00012887269,0.99971974,0.019328834,-0.06648039,0.00011558086,0.037158556,-0.0055359905,0.06010129,0.027153265,-0.01359801,0.031132735,-0.0037104795,0.038753115,0.012771189,0.01667605,-0.0008667847,0.041011535,-0.007179902,0.085835524,0.076827005,0.010686776,0.0020355394,0.042991918,0.016755117,0.055703938,-0.0095607005,-0.059634663,-0.01918985,0.05507522,0.09290503,-0.025736969,0.047287725,-0.06727454,-0.016535142,0.019136896,-0.0075983796,0.03833136,-0.0093511,0.034752995,-0.05618369,0.03348431,-0.021031415,0.034897227,-0.00334155,0.03562627,-0.023056269,0.010926627,-0.01326903,-0.036910202,0.05428406,-0.007293769,0.019342467,-0.032060854,0.100782365,0.0155470185,0.1009523,0.0315891],[0.03458308,0.019328834,0.99994767,0.16924003,0.027344275,-0.0005661268,0.02665861,0.17741482,-0.0034895744,0.38045704,0.14374253,0.025368318,0.047824513,-0.006660592,0.37556595,-0.011128263,0.16178526,0.14176801,0.11434621,-0.013637826,-0.009723268,0.019295938,0.02085769,0.032048054,-0.012718695,-0.035797082,-0.035443984,0.038786437,-0.0296438,0.042716537,-0.016402362,0.021213502,0.2068231,-0.011586458,0.027854241,-0.008523772,-0.0073094545,-0.0051502483,0.012331828,0.30919862,0.013581281,-0.025211968,-0.03807028,-0.038922854,0.2201246,-0.070124045,0.16865912,0.21209125,-0.044599723,-0.011285153,-0.07171483,0.01506464,0.43353546,0.2150321,0.012380496,-0.02031102,-0.08935906],[0.023274546,-0.06648039,0.16924003,1.000088,0.022653125,-0.054262064,0.0009923391,0.16280812,0.0032186098,0.12723942,0.009460304,-0.09348855,0.037805893,-0.020007538,0.1297045,0.0132201705,0.059311632,-0.035989065,0.02581661,-0.072832644,0.04526676,0.03154796,0.008370054,-0.01040423,0.022314942,-0.003226853,0.0028463528,-0.004229472,-0.015117931,0.059430275,0.044233292,-0.0011895485,0.114427,-0.071336426,0.008244651,-0.0039935373,0.014711526,0.03193804,0.04994132,0.2907415,0.0041491985,0.008729316,-0.0049925335,-0.05214828,0.22569636,0.025661556,0.17652217,0.018616693,0.0003468222,0.031506553,0.11152644,-0.009060567,0.09216134,0.004254318,-0.020164195,-0.018970141,0.031992223],[0.008309703,0.00011558086,0.027344275,0.022653125,1.0001897,-0.015854612,-0.0085177915,0.06117718,-0.040421166,0.14951782,-0.022401009,-0.06825953,-0.031909965,0.031019395,-0.0019297544,0.012644054,0.10969584,-0.03319838,-0.046790004,-0.05810376,0.033528134,0.046106473,-0.0019450178,-0.008936426,-0.00030661747,0.013313936,-0.026035901,-0.0068210587,-0.026404899,0.05999594,0.031016694,0.007987484,0.06468086,0.03152152,-0.024843426,0.019966219,0.037938405,-0.03079663,0.029540597,0.026157461,-0.02301173,0.0199336,0.034090046,0.0068454603,0.0035040285,0.023438456,0.044970073,0.004605541,0.021690434,0.03685015,0.104433686,0.021812528,0.040697135,0.03852901,0.0033377595,-0.049193785,-0.0024181139],[0.0117855,0.037158556,-0.0005661268,-0.054262064,-0.015854612,1.0000228,0.03840039,-0.030965827,0.18045625,-0.033588294,0.051483475,0.05914214,0.025534105,0.29057088,0.015741317,-0.001457084,-0.023835547,0.04881638,-0.040450037,0.09058801,0.023188762,0.021540128,0.09703353,0.0047563296,0.052520327,0.11418657,0.026913568,-0.0008148253,0.11034949,-0.006545376,0.014664406,-0.008865832,-0.007325266,0.0152283525,0.014042834,0.02762828,0.029282076,0.043854617,0.07482127,0.008934213,-0.054987498,0.005318273,0.029784173,0.3217728,0.0042149443,-0.007815087,-0.027009826,0.010186171,0.15292028,0.034155875,-0.05128686,0.014376864,-0.025251223,0.00844368,0.010133079,0.012689828,0.033571377],[0.030620363,-0.0055359905,0.02665861,0.0009923391,-0.0085177915,0.03840039,1.0001868,0.057229787,0.0102449795,0.020320795,0.09103339,0.068136886,0.023066893,0.067531675,0.011998346,0.08906728,0.029423185,0.039845005,0.030875321,0.032800876,0.029407177,0.037317693,0.07960028,-0.02700014,0.15225233,0.123911366,0.0077395663,0.09256916,-0.005897497,-0.022945441,0.01697091,0.018375345,-0.026147358,-0.012696529,0.0011594947,0.036246855,0.032440618,0.058698155,0.011834695,0.011700475,0.01336756,-0.0028418424,0.04996242,-0.0032617156,-0.03307919,-0.0135070635,0.013690187,0.048548378,-0.006689257,0.008192528,-0.020681852,0.022807168,0.031116012,0.028307632,0.11325089,-0.008463204,0.027347906],[-0.044199593,0.06010129,0.17741482,0.16280812,0.06117718,-0.030965827,0.057229787,1.0000141,-0.050822727,0.15413225,0.029365344,-0.01743996,-0.023600139,-0.014327703,0.26926786,-0.018154804,0.18636233,-0.0036554132,0.14001118,0.111117214,-0.006365913,0.03473045,0.037212633,-0.0314622,0.115936756,-0.062434804,0.028420195,-0.0015039518,-0.018107219,0.031990662,0.07006522,0.013558943,0.16509712,-0.007367027,0.01828638,-0.017863281,-0.028834684,0.056065824,0.04333029,0.24946779,0.008030341,0.00029695313,0.07971308,-0.027206542,0.25442496,-0.0001930343,0.18589017,0.03125482,-0.053650662,0.0051778816,0.019781671,-0.0037194926,0.17486177,0.2763314,0.02836609,-0.031833813,-0.022353817],[0.035448015,0.027153265,-0.0034895744,0.0032186098,-0.040421166,0.18045625,0.0102449795,-0.050822727,0.9994508,0.021878239,-0.025231171,0.10665764,0.026721723,0.39505345,0.046115354,0.1332736,0.09522259,0.15716133,-0.003494108,0.015631508,0.30462703,0.07410833,0.08863958,0.086992994,0.007875711,0.25965953,-0.04105284,-0.0066417353,0.082582995,0.03112136,0.32026482,0.07613197,-0.005954503,0.03840393,0.009324843,0.012808073,0.052795075,-0.0003049504,0.07027288,0.0016144719,0.019515734,0.011076319,0.04115728,0.21362251,-0.02718189,0.0013688793,0.05569406,-0.002912078,0.18575025,0.10910766,0.03559791,0.015293141,-0.05885638,-0.0058538187,0.0073411176,-0.0058191535,0.068814956],[0.091682054,-0.01359801,0.38045704,0.12723942,0.14951782,-0.033588294,0.020320795,0.15413225,0.021878239,1.000066,0.11078094,0.09112288,0.0060530202,0.105174705,0.08945803,0.052472226,0.31692427,0.11462375,0.114199296,0.0491295,0.0877801,0.059138812,0.029062487,0.009421044,0.04904373,0.03871322,0.026273128,0.04320964,-0.00081471866,0.049183853,0.04387746,0.023514085,0.25024855,-0.008311827,-0.013548814,-0.012674186,0.027698558,0.03190213,0.103599176,0.21841335,-0.015575793,0.10760605,0.034771375,0.007826325,0.23388922,0.09100312,0.20813781,0.17465883,0.081982546,-0.0103934035,0.05574765,0.019121746,0.326737,0.09538957,0.11921722,-0.0027281232,0.014521854],[0.073338896,0.031132735,0.14374253,0.009460304,-0.022401009,0.051483475,0.09103339,0.029365344,-0.025231171,0.11078094,1.0001644,0.13899735,0.041507214,0.13914196,0.09670515,0.020937089,0.09984417,0.13209963,0.21055949,0.25897995,0.05206321,0.052881785,0.028443217,-0.034260217,0.042046726,0.19456457,0.033260036,0.14947286,0.15569031,-0.012938507,0.012073429,-0.006385288,0.064210184,0.009227632,-0.028052222,0.06503284,0.01567593,0.2373762,0.16094966,0.041914947,-0.023176085,0.12071717,-0.032324184,-0.017916365,0.067096926,0.116695985,0.1177105,0.24526103,-0.001795033,0.016299553,0.064835735,-0.014369051,0.33456498,0.06909667,0.34956217,-0.034508914,0.049157213],[0.08892405,-0.0037104795,0.025368318,-0.09348855,-0.06825953,0.05914214,0.068136886,-0.01743996,0.10665764,0.09112288,0.13899735,0.9999979,-0.019632973,0.19196516,0.046984978,0.27854806,0.106921345,0.045211717,0.044586264,0.15768602,0.08883323,-0.012725846,0.062003367,0.010130795,0.17996088,0.12750322,0.086740956,0.0042265556,0.1294106,0.0018537245,0.089683875,0.005064578,0.030639602,0.12225036,-0.00070025213,0.024104945,0.045474015,0.07393117,0.07426408,-0.06917101,-0.036964484,0.09314575,0.08240258,0.06888382,0.02749215,0.050631672,0.07250228,0.0936386,0.060825065,0.026183939,0.09465156,0.0056827166,0.050030194,0.053313714,0.1172485,-0.004001376,0.22476709],[-0.024842668,0.038753115,0.047824513,0.037805893,-0.031909965,0.025534105,0.023066893,-0.023600139,0.026721723,0.0060530202,0.041507214,-0.019632973,1.000165,0.05532246,0.04189392,-0.02035137,0.016497169,0.055962518,-0.027709948,0.012233054,0.0022137682,0.050436474,0.14008382,0.00948438,0.018332796,0.0965395,-0.034135908,0.010967835,0.05472274,0.027191397,0.06564895,0.03314998,-0.07360062,0.0048403144,0.025542669,0.058163144,0.034169655,0.05475316,0.021348557,0.024191871,0.029625375,0.023213692,-0.028628256,0.007016917,-0.027856775,-0.008335435,0.02929563,0.025454491,0.039824363,0.006880726,-0.013782737,0.03579843,0.030754358,-0.048880268,0.05354602,0.029538557,0.0005821055],[0.067102954,0.012771189,-0.006660592,-0.020007538,0.031019395,0.29057088,0.067531675,-0.014327703,0.39505345,0.105174705,0.13914196,0.19196516,0.05532246,0.9998562,0.036738053,0.1029752,0.18569091,0.10522042,0.0071375053,0.094936535,0.25201902,0.1189758,0.09340077,0.031426355,0.030835465,0.31192118,0.011644429,0.078480214,0.12668335,0.04869793,0.2387613,0.026543949,0.05495076,0.033988435,0.01764945,0.02533352,0.070702866,0.09673646,0.09216404,-0.0300208,-0.016302466,0.06262133,0.044458747,0.19522853,0.02505074,0.05162043,0.053182766,0.06207952,0.2603783,0.11161681,0.13029425,0.018979663,0.076236,0.06067677,0.12880239,-0.020597849,0.09482196],[0.0063984036,0.01667605,0.37556595,0.1297045,-0.0019297544,0.015741317,0.011998346,0.26926786,0.046115354,0.08945803,0.09670515,0.046984978,0.04189392,0.036738053,1.0002298,0.029683009,0.12357582,0.15075955,0.1326713,0.12709585,0.001122196,0.021349486,0.08366153,0.03698663,0.042759635,0.11603662,0.06155392,-0.015628159,0.05075774,0.03343772,0.08697155,0.029383563,0.21687146,0.044868954,0.00999002,0.015912268,-0.03563039,0.1521917,0.05360698,0.19446228,0.01403148,0.037017666,0.013894338,-0.0041083335,0.24042526,0.04340757,0.23155178,0.03811118,-0.012566129,0.035369415,0.08468449,0.015114235,0.14352158,0.1625711,0.072860196,-0.02450785,0.05848611],[0.08645108,-0.0008667847,-0.011128263,0.0132201705,0.012644054,-0.001457084,0.08906728,-0.018154804,0.1332736,0.052472226,0.020937089,0.27854806,-0.02035137,0.1029752,0.029683009,0.9996392,0.0062147863,0.006425704,0.020045593,0.035512354,0.09004547,0.04484979,0.09858543,0.04847896,0.13639176,0.13184497,0.038441416,0.04693133,0.020148061,-0.00506798,0.19745839,-0.022987196,-0.00049456395,0.09571552,-0.061889734,0.02007694,0.050260596,0.057052925,0.12793958,0.0019252263,-0.009179249,0.07989387,0.17690463,0.07403779,-0.050454743,0.09174319,0.037670724,-0.004149911,0.040896416,0.091848835,0.13151291,0.020494333,-0.06605609,-0.016292103,0.047161173,0.008066159,0.1701493],[0.090123005,0.041011535,0.16178526,0.059311632,0.10969584,-0.023835547,0.029423185,0.18636233,0.09522259,0.31692427,0.09984417,0.106921345,0.016497169,0.18569091,0.12357582,0.0062147863,0.99939525,0.13273467,0.09135075,0.03819497,0.10123263,-0.0072869984,0.1005179,0.036423285,0.060789466,0.093322635,0.012268794,-0.022722669,0.040512335,0.19055465,0.1554775,0.05376485,0.13955957,-0.022599565,0.00027445937,0.020578682,0.074409805,0.07014994,0.079979785,0.120457195,-0.011348663,0.047263004,0.057074767,0.052932166,0.16520561,0.049416695,0.16625929,0.08771513,0.14099196,0.2331396,0.05053526,0.0376655,0.21275932,0.121050514,0.03092384,0.00031032786,0.020315904],[0.07567079,-0.007179902,0.14176801,-0.035989065,-0.03319838,0.04881638,0.039845005,-0.0036554132,0.15716133,0.11462375,0.13209963,0.045211717,0.055962518,0.10522042,0.15075955,0.006425704,0.13273467,1.0000741,0.3696327,0.08314012,0.2038384,-0.06523718,0.015878981,0.029908631,-0.037147865,0.13711208,0.018021535,0.022037331,0.034433495,0.043866284,0.08368028,0.006907521,0.13659656,0.042696588,0.0037649164,-0.009325657,-0.019311393,0.07907143,0.065727755,0.022016907,-0.016239671,0.028241811,0.019898733,0.021427713,0.14837593,0.054376476,0.124107465,0.1219998,0.20027241,0.020824803,0.0017401315,0.0097484,0.18965942,0.069169894,0.10984784,-0.009470791,0.004140923],[-0.019064356,0.085835524,0.11434621,0.02581661,-0.046790004,-0.040450037,0.030875321,0.14001118,-0.003494108,0.114199296,0.21055949,0.044586264,-0.027709948,0.0071375053,0.1326713,0.020045593,0.09135075,0.3696327,1.0000168,0.16465724,0.09934452,-0.08225556,0.043253064,0.022051234,0.021209314,0.0690006,0.031329453,0.0008612154,-0.013745263,-0.0016993438,-0.024121815,0.009363334,0.14044768,-0.03135792,-0.038458385,-0.0061700717,0.020900598,0.08652947,0.089072905,0.087355316,0.022504207,0.057131335,0.0444865,-0.08350456,0.16388342,0.024225624,0.24298929,0.038472496,-0.0929027,-0.07162549,0.018306449,0.015021931,0.08183612,0.16897386,0.063580856,-0.004403593,0.017825529],[0.010266778,0.076827005,-0.013637826,-0.072832644,-0.05810376,0.09058801,0.032800876,0.111117214,0.015631508,0.0491295,0.25897995,0.15768602,0.012233054,0.094936535,0.12709585,0.035512354,0.03819497,0.08314012,0.16465724,1.0004733,0.082755476,0.05766218,0.07316466,-0.035624146,0.11556718,0.049226183,0.08307817,-0.005403361,0.27957863,-0.00397914,0.019251712,0.030868348,0.1043057,-0.01614131,-0.056517694,-0.019568872,-0.0036008307,0.09280914,0.1966119,-0.06752041,0.010875035,0.16357857,0.032773364,-0.014924517,0.14025488,0.14020854,0.07772869,0.049830366,0.061534982,0.06373128,-0.00033411756,0.043199975,0.047948197,0.12166883,0.14892343,0.024475861,0.11481428],[0.02117975,0.010686776,-0.009723268,0.04526676,0.033528134,0.023188762,0.029407177,-0.006365913,0.30462703,0.0877801,0.05206321,0.08883323,0.0022137682,0.25201902,0.001122196,0.09004547,0.10123263,0.2038384,0.09934452,0.082755476,1.0000813,-0.0010571415,0.0122245625,0.04284869,0.018971045,0.08082395,-0.021243542,0.035646442,0.095825806,0.011944853,0.27609915,0.031822,0.029055804,-0.048573554,-0.004446215,0.009662566,0.0019799406,0.037376523,0.07549297,-0.03381968,0.012015054,0.048852175,0.030004334,0.0646914,0.029533766,0.07150406,0.17431135,0.061849985,0.22012107,0.14606716,0.0746931,0.0108851,-0.026672378,0.05753913,0.059568293,-0.009726364,0.104038626],[0.05164379,0.0020355394,0.019295938,0.03154796,0.046106473,0.021540128,0.037317693,0.03473045,0.07410833,0.059138812,0.052881785,-0.012725846,0.050436474,0.1189758,0.021349486,0.04484979,-0.0072869984,-0.06523718,-0.08225556,0.05766218,-0.0010571415,0.999761,0.10353339,-0.03155006,0.1186602,0.0454665,-0.005424414,-0.0077049453,0.122419916,0.0077677043,0.1402688,0.008822005,0.03467538,0.01957241,0.004186971,0.021153135,0.022882838,0.024910733,0.029027108,0.007644563,-0.0043321135,-0.009185524,-0.010193894,0.054479934,-0.027894668,-0.039822005,0.020919513,-0.007454438,0.08278311,0.033425573,-0.015710667,0.009622549,0.027771428,0.03581799,0.07708118,-0.017270334,0.016593676],[0.021410882,0.042991918,0.02085769,0.008370054,-0.0019450178,0.09703353,0.07960028,0.037212633,0.08863958,0.029062487,0.028443217,0.062003367,0.14008382,0.09340077,0.08366153,0.09858543,0.1005179,0.015878981,0.043253064,0.07316466,0.0122245625,0.10353339,1.0004293,0.0063603544,0.37843648,0.24907923,0.012819901,-0.010598046,0.1841524,0.077127665,0.031335935,0.04336445,-0.00006776303,-0.024939751,0.016523054,0.06487849,0.121641055,0.08554665,0.029305262,0.03722439,0.014653385,0.085301176,0.1841937,0.04521083,-0.07301724,0.11256024,-0.0023194924,-0.0014537126,0.066626884,0.110968634,0.006934153,0.2690484,-0.048371047,-0.012444418,0.11886722,-0.013040672,0.1037989],[-0.0024047606,0.016755117,0.032048054,-0.01040423,-0.008936426,0.0047563296,-0.02700014,-0.0314622,0.086992994,0.009421044,-0.034260217,0.010130795,0.00948438,0.031426355,0.03698663,0.04847896,0.036423285,0.029908631,0.022051234,-0.035624146,0.04284869,-0.03155006,0.0063603544,1.0004768,-0.040970393,-0.0009052269,-0.017382309,0.013679956,0.018970476,0.02838559,0.052639343,0.033657666,-0.008653399,0.009278869,0.06713951,0.05427644,-0.030556042,-0.013866369,-0.012917822,0.007220393,0.037607312,0.0024228971,-0.0081071155,-0.019227646,-0.0049793636,0.011412079,0.0125130005,-0.0011530537,0.0025811428,0.0031045275,0.0130659705,0.041849077,-0.0044000535,0.0029296065,-0.01805203,-0.025733499,0.010346349],[-0.010442596,0.055703938,-0.012718695,0.022314942,-0.00030661747,0.052520327,0.15225233,0.115936756,0.007875711,0.04904373,0.042046726,0.17996088,0.018332796,0.030835465,0.042759635,0.13639176,0.060789466,-0.037147865,0.021209314,0.11556718,0.018971045,0.1186602,0.37843648,-0.040970393,1.0002182,0.06608189,0.13310535,-0.038831763,0.12472517,0.030563068,0.010778446,0.02259783,0.010631177,0.049669534,-0.0042364877,-0.0020867363,0.13942035,0.058861606,0.040575996,0.011337464,-0.014506191,0.05120475,0.29309765,0.018535316,-0.030004147,0.058732305,0.07481134,-0.03243243,-0.0054204073,0.018481351,0.0056457147,0.12719877,-0.03389892,0.016286852,0.04906925,0.012428989,0.12957679],[0.033530667,-0.0095607005,-0.035797082,-0.003226853,0.013313936,0.11418657,0.123911366,-0.062434804,0.25965953,0.03871322,0.19456457,0.12750322,0.0965395,0.31192118,0.11603662,0.13184497,0.093322635,0.13711208,0.0690006,0.049226183,0.08082395,0.0454665,0.24907923,-0.0009052269,0.06608189,1.0000336,0.024930902,0.043660134,0.07929118,0.028870054,0.18892872,0.010610749,0.013703404,0.036836825,0.008357078,0.0050438493,0.0023518098,0.18628544,0.056694955,-0.009028529,0.020933775,0.074965015,0.060611207,0.12104224,-0.06424942,0.13972783,0.039534256,0.07052353,0.10719709,-0.01236043,0.06367034,-0.013752254,0.0810651,-0.008595578,0.2496801,0.004789171,0.15102693],[0.015884794,-0.059634663,-0.035443984,0.0028463528,-0.026035901,0.026913568,0.0077395663,0.028420195,-0.04105284,0.026273128,0.033260036,0.086740956,-0.034135908,0.011644429,0.06155392,0.038441416,0.012268794,0.018021535,0.031329453,0.08307817,-0.021243542,-0.005424414,0.012819901,-0.017382309,0.13310535,0.024930902,0.9999896,0.0094886515,-0.0016884524,0.013640224,0.0142699415,-0.0051977714,0.023158193,0.03177027,-0.017441832,-0.007239603,0.050615877,0.1309863,0.08273322,0.03850238,-0.0118648335,0.09973119,0.15066512,0.054010384,0.013014287,0.08767949,0.012395505,0.0018498842,0.023594687,0.017944854,0.077326104,0.01985963,0.07660597,0.018353216,0.077965684,-0.019012412,0.0429441],[0.0134455105,-0.01918985,0.038786437,-0.004229472,-0.0068210587,-0.0008148253,0.09256916,-0.0015039518,-0.0066417353,0.04320964,0.14947286,0.0042265556,0.010967835,0.078480214,-0.015628159,0.04693133,-0.022722669,0.022037331,0.0008612154,-0.005403361,0.035646442,-0.0077049453,-0.010598046,0.013679956,-0.038831763,0.043660134,0.0094886515,0.99990785,0.04825047,-0.01826643,0.022025485,-0.023907315,-0.00064453296,-0.045020886,0.015853863,0.030369166,0.03948711,0.07797949,0.056415047,-0.03211728,-0.0035347033,0.103988245,0.059711322,0.004664315,-0.004662461,0.04003233,0.027598262,0.046243686,0.06667349,0.032506403,-0.0025801752,0.02927067,0.083631605,-0.016445205,0.12254953,-0.03192506,0.016865231],[0.038951285,0.05507522,-0.0296438,-0.015117931,-0.026404899,0.11034949,-0.005897497,-0.018107219,0.082582995,-0.00081471866,0.15569031,0.1294106,0.05472274,0.12668335,0.05075774,0.020148061,0.040512335,0.034433495,-0.013745263,0.27957863,0.095825806,0.122419916,0.1841524,0.018970476,0.12472517,0.07929118,-0.0016884524,0.04825047,1.0001074,0.010830126,0.025834244,0.029417573,-0.023893237,0.053684466,0.0032689953,0.043302804,0.077569336,0.05727925,0.112473965,-0.013672525,-0.0057170484,0.060642615,0.0173751,0.046047695,-0.020217579,0.081033155,0.045732163,0.04831999,0.16714494,0.13882998,0.035569087,0.041238043,-0.025605291,0.024652883,0.10916537,-0.006392449,0.06498769],[0.039600313,0.09290503,0.042716537,0.059430275,0.05999594,-0.006545376,-0.022945441,0.031990662,0.03112136,0.049183853,-0.012938507,0.0018537245,0.027191397,0.04869793,0.03343772,-0.00506798,0.19055465,0.043866284,-0.0016993438,-0.00397914,0.011944853,0.0077677043,0.077127665,0.02838559,0.030563068,0.028870054,0.013640224,-0.01826643,0.010830126,0.99990857,0.101692125,-0.000035425648,-0.00889839,-0.053925894,0.09302403,0.015342624,0.043263704,0.027311036,0.018719416,0.021050192,0.036005903,0.0063275415,0.066321515,0.008512726,0.043486036,0.0089579625,0.013955671,0.010055679,0.105761364,0.11435078,0.019646794,0.03354892,0.017653365,-0.041963015,-0.016972398,-0.033266623,0.04571494],[0.06651008,-0.025736969,-0.016402362,0.044233292,0.031016694,0.014664406,0.01697091,0.07006522,0.32026482,0.04387746,0.012073429,0.089683875,0.06564895,0.2387613,0.08697155,0.19745839,0.1554775,0.08368028,-0.024121815,0.019251712,0.27609915,0.1402688,0.031335935,0.052639343,0.010778446,0.18892872,0.0142699415,0.022025485,0.025834244,0.101692125,0.99999857,0.026856925,0.049630485,0.058403373,0.0019569378,0.01278645,0.022465913,0.07209216,0.09889772,0.003533749,0.0253474,0.050673805,0.054201473,0.19898748,0.022201614,0.053310674,0.11455117,-0.023270082,0.13316067,0.10854409,0.06317,-0.019939473,-0.0058253095,0.024330981,-0.040777795,-0.007791345,0.08857719],[0.002242202,0.047287725,0.021213502,-0.0011895485,0.007987484,-0.008865832,0.018375345,0.013558943,0.07613197,0.023514085,-0.006385288,0.005064578,0.03314998,0.026543949,0.029383563,-0.022987196,0.05376485,0.006907521,0.009363334,0.030868348,0.031822,0.008822005,0.04336445,0.033657666,0.02259783,0.010610749,-0.0051977714,-0.023907315,0.029417573,-0.000035425648,0.026856925,1.0002565,-0.026760023,-0.033064626,0.2002526,0.010555675,-0.005722911,0.0075810608,0.019067142,0.051130485,0.374155,-0.05200179,0.009455312,-0.0034957766,-0.013196557,0.022761848,-0.010257316,-0.006287314,0.036970884,0.03499026,-0.015506984,0.032445606,-0.009620715,-0.027616326,0.01429612,0.12162292,0.0015616771],[0.036568604,-0.06727454,0.2068231,0.114427,0.06468086,-0.007325266,-0.026147358,0.16509712,-0.005954503,0.25024855,0.064210184,0.030639602,-0.07360062,0.05495076,0.21687146,-0.00049456395,0.13955957,0.13659656,0.14044768,0.1043057,0.029055804,0.03467538,-0.00006776303,-0.008653399,0.010631177,0.013703404,0.023158193,-0.00064453296,-0.023893237,-0.00889839,0.049630485,-0.026760023,1.000262,0.0002541598,-0.07126272,-0.0044458155,-0.015395227,0.020013722,0.071060546,0.2234981,-0.01841057,0.028256712,-0.0018357914,0.015771177,0.17292169,0.05606553,0.113676324,0.04772863,0.04398341,0.013634663,0.07684949,-0.0031847043,0.14591777,0.13801539,-0.0051319674,-0.02303034,0.010647908],[0.04162038,-0.016535142,-0.011586458,-0.071336426,0.03152152,0.0152283525,-0.012696529,-0.007367027,0.03840393,-0.008311827,0.009227632,0.12225036,0.0048403144,0.033988435,0.044868954,0.09571552,-0.022599565,0.042696588,-0.03135792,-0.01614131,-0.048573554,0.01957241,-0.024939751,0.009278869,0.049669534,0.036836825,0.03177027,-0.045020886,0.053684466,-0.053925894,0.058403373,-0.033064626,0.0002541598,1.0000856,-0.013259567,-0.037119463,-0.012738314,-0.0111857485,-0.023829198,0.040070698,-0.026620962,-0.018597841,0.006358536,0.16169249,-0.049525265,-0.03138637,0.00029342435,-0.019685403,0.04053743,-0.01608244,-0.018714778,-0.027576812,-0.00077695306,0.024190733,0.014875995,0.0321023,0.012901043],[0.009225409,0.019136896,0.027854241,0.008244651,-0.024843426,0.014042834,0.0011594947,0.01828638,0.009324843,-0.013548814,-0.028052222,-0.00070025213,0.025542669,0.01764945,0.00999002,-0.061889734,0.00027445937,0.0037649164,-0.038458385,-0.056517694,-0.004446215,0.004186971,0.016523054,0.06713951,-0.0042364877,0.008357078,-0.017441832,0.015853863,0.0032689953,0.09302403,0.0019569378,0.2002526,-0.07126272,-0.013259567,0.9998063,0.023376536,-0.0051353825,0.0023929253,-0.010920921,0.028330985,0.18613493,-0.0356682,0.00623055,-0.026590433,0.009707727,0.0018343767,0.019449426,-0.0055849953,0.015773166,0.021410555,-0.01873495,-0.03268107,0.011099711,0.016291969,-0.014095068,0.05936812,-0.021085728],[0.035594687,-0.0075983796,-0.008523772,-0.0039935373,0.019966219,0.02762828,0.036246855,-0.017863281,0.012808073,-0.012674186,0.06503284,0.024104945,0.058163144,0.02533352,0.015912268,0.02007694,0.020578682,-0.009325657,-0.0061700717,-0.019568872,0.009662566,0.021153135,0.06487849,0.05427644,-0.0020867363,0.0050438493,-0.007239603,0.030369166,0.043302804,0.015342624,0.01278645,0.010555675,-0.0044458155,-0.037119463,0.023376536,0.99967426,0.035130464,0.05583522,0.017535593,-0.0026474074,-0.013754036,0.05208791,0.05022531,0.004030156,-0.011394433,0.023288675,0.025190976,-0.018522585,0.021143772,0.01384588,0.025747329,0.17430758,0.0080058575,-0.026982205,-0.043498386,0.0069711423,0.053432103],[-0.007941109,0.03833136,-0.0073094545,0.014711526,0.037938405,0.029282076,0.032440618,-0.028834684,0.052795075,0.027698558,0.01567593,0.045474015,0.034169655,0.070702866,-0.03563039,0.050260596,0.074409805,-0.019311393,0.020900598,-0.0036008307,0.0019799406,0.022882838,0.121641055,-0.030556042,0.13942035,0.0023518098,0.050615877,0.03948711,0.077569336,0.043263704,0.022465913,-0.005722911,-0.015395227,-0.012738314,-0.0051353825,0.035130464,1.0002726,0.046170615,0.032348905,-0.041034285,-0.03710203,0.025410395,0.108289555,0.019248687,-0.02196134,0.035720196,-0.029672757,-0.023554537,0.034805905,0.07752705,0.017171038,0.053513132,0.010644225,-0.0024547167,0.004642283,0.04694895,0.03755261],[0.032591008,-0.0093511,-0.0051502483,0.03193804,-0.03079663,0.043854617,0.058698155,0.056065824,-0.0003049504,0.03190213,0.2373762,0.07393117,0.05475316,0.09673646,0.1521917,0.057052925,0.07014994,0.07907143,0.08652947,0.09280914,0.037376523,0.024910733,0.08554665,-0.013866369,0.058861606,0.18628544,0.1309863,0.07797949,0.05727925,0.027311036,0.07209216,0.0075810608,0.020013722,-0.0111857485,0.0023929253,0.05583522,0.046170615,0.9997022,0.154398,-0.011145469,-0.016037464,0.22826312,0.043605313,0.01375503,0.009457378,0.10584466,0.004794011,0.07844353,0.062462404,0.047450155,0.09037696,0.017584108,0.17256938,-0.028325252,0.08957885,-0.017023688,0.11745429],[0.040709216,0.034752995,0.012331828,0.04994132,0.029540597,0.07482127,0.011834695,0.04333029,0.07027288,0.103599176,0.16094966,0.07426408,0.021348557,0.09216404,0.05360698,0.12793958,0.079979785,0.065727755,0.089072905,0.1966119,0.07549297,0.029027108,0.029305262,-0.012917822,0.040575996,0.056694955,0.08273322,0.056415047,0.112473965,0.018719416,0.09889772,0.019067142,0.071060546,-0.023829198,-0.010920921,0.017535593,0.032348905,0.154398,0.9997808,0.05033866,0.006366816,0.24566285,0.027340055,0.040021658,0.067631885,0.19889402,0.0452301,0.08714597,0.04415939,0.05733064,0.18481094,0.017472997,0.0710783,0.02985112,0.112072974,-0.022714093,0.10028368],[0.042070456,-0.05618369,0.30919862,0.2907415,0.026157461,0.008934213,0.011700475,0.24946779,0.0016144719,0.21841335,0.041914947,-0.06917101,0.024191871,-0.0300208,0.19446228,0.0019252263,0.120457195,0.022016907,0.087355316,-0.06752041,-0.03381968,0.007644563,0.03722439,0.007220393,0.011337464,-0.009028529,0.03850238,-0.03211728,-0.013672525,0.021050192,0.003533749,0.051130485,0.2234981,0.040070698,0.028330985,-0.0026474074,-0.041034285,-0.011145469,0.05033866,1.0000721,-0.0011966592,-0.05448879,-0.032201968,0.035338223,0.08772886,-0.040178973,0.1420503,0.089980915,-0.039519954,0.016032849,-0.007937718,-0.0019640932,0.1772283,-0.07506932,-0.00278477,-0.0021141097,-0.057635166],[-0.046681166,0.03348431,0.013581281,0.0041491985,-0.02301173,-0.054987498,0.01336756,0.008030341,0.019515734,-0.015575793,-0.023176085,-0.036964484,0.029625375,-0.016302466,0.01403148,-0.009179249,-0.011348663,-0.016239671,0.022504207,0.010875035,0.012015054,-0.0043321135,0.014653385,0.037607312,-0.014506191,0.020933775,-0.0118648335,-0.0035347033,-0.0057170484,0.036005903,0.0253474,0.374155,-0.01841057,-0.026620962,0.18613493,-0.013754036,-0.03710203,-0.016037464,0.006366816,-0.0011966592,1.0001533,-0.008127137,-0.0077776127,0.00881146,0.025496619,0.0042696875,0.0049174633,-0.027860422,0.015423058,0.0034304457,-0.010403457,0.0039995406,-0.030974448,0.046430234,0.014882211,0.080708206,-0.014914149],[-0.009270172,-0.021031415,-0.025211968,0.008729316,0.0199336,0.005318273,-0.0028418424,0.00029695313,0.011076319,0.10760605,0.12071717,0.09314575,0.023213692,0.06262133,0.037017666,0.07989387,0.047263004,0.028241811,0.057131335,0.16357857,0.048852175,-0.009185524,0.085301176,0.0024228971,0.05120475,0.074965015,0.09973119,0.103988245,0.060642615,0.0063275415,0.050673805,-0.05200179,0.028256712,-0.018597841,-0.0356682,0.05208791,0.025410395,0.22826312,0.24566285,-0.05448879,-0.008127137,0.9999287,0.12225923,-0.020811107,0.057151474,0.36882716,0.08499874,0.13307709,-0.01710046,0.023795884,0.09856098,0.12518482,0.1078112,0.013737994,0.15646295,0.004018658,0.17838466],[0.015643703,0.034897227,-0.03807028,-0.0049925335,0.034090046,0.029784173,0.04996242,0.07971308,0.04115728,0.034771375,-0.032324184,0.08240258,-0.028628256,0.044458747,0.013894338,0.17690463,0.057074767,0.019898733,0.0444865,0.032773364,0.030004334,-0.010193894,0.1841937,-0.0081071155,0.29309765,0.060611207,0.15066512,0.059711322,0.0173751,0.066321515,0.054201473,0.009455312,-0.0018357914,0.006358536,0.00623055,0.05022531,0.108289555,0.043605313,0.027340055,-0.032201968,-0.0077776127,0.12225923,0.99969935,0.046649955,0.014537288,0.09831383,0.007899327,-0.027808126,0.06487356,0.0329328,0.05911769,0.09549229,0.007374973,0.0010997215,-0.0031865826,0.02081908,0.15134192],[0.08464483,-0.00334155,-0.038922854,-0.05214828,0.0068454603,0.3217728,-0.0032617156,-0.027206542,0.21362251,0.007826325,-0.017916365,0.06888382,0.007016917,0.19522853,-0.0041083335,0.07403779,0.052932166,0.021427713,-0.08350456,-0.014924517,0.0646914,0.054479934,0.04521083,-0.019227646,0.018535316,0.12104224,0.054010384,0.004664315,0.046047695,0.008512726,0.19898748,-0.0034957766,0.015771177,0.16169249,-0.026590433,0.004030156,0.019248687,0.01375503,0.040021658,0.035338223,0.00881146,-0.020811107,0.046649955,0.9999355,-0.029584069,0.011377715,-0.024871405,0.00029912218,0.23853776,0.072428405,0.056340802,0.005322966,-0.016755845,-0.012861034,0.0145743005,-0.027658628,0.042200863],[-0.02989452,0.03562627,0.2201246,0.22569636,0.0035040285,0.0042149443,-0.03307919,0.25442496,-0.02718189,0.23388922,0.067096926,0.02749215,-0.027856775,0.02505074,0.24042526,-0.050454743,0.16520561,0.14837593,0.16388342,0.14025488,0.029533766,-0.027894668,-0.07301724,-0.0049793636,-0.030004147,-0.06424942,0.013014287,-0.004662461,-0.020217579,0.043486036,0.022201614,-0.013196557,0.17292169,-0.049525265,0.009707727,-0.011394433,-0.02196134,0.009457378,0.067631885,0.08772886,0.025496619,0.057151474,0.014537288,-0.029584069,0.99990475,0.038928866,0.14443262,-0.015136448,0.011604771,0.02835895,-0.0029357644,0.005985575,0.18886141,0.24652894,-0.031839684,-0.026709525,-0.017909419],[0.027931273,-0.023056269,-0.070124045,0.025661556,0.023438456,-0.007815087,-0.0135070635,-0.0001930343,0.0013688793,0.09100312,0.116695985,0.050631672,-0.008335435,0.05162043,0.04340757,0.09174319,0.049416695,0.054376476,0.024225624,0.14020854,0.07150406,-0.039822005,0.11256024,0.011412079,0.058732305,0.13972783,0.08767949,0.04003233,0.081033155,0.0089579625,0.053310674,0.022761848,0.05606553,-0.03138637,0.0018343767,0.023288675,0.035720196,0.10584466,0.19889402,-0.040178973,0.0042696875,0.36882716,0.09831383,0.011377715,0.038928866,1.0002904,0.03537535,0.18221074,0.02518644,0.061227534,0.17728738,0.11445014,0.0742289,0.015667558,0.19333875,-0.014855739,0.09766885],[0.06926136,0.010926627,0.16865912,0.17652217,0.044970073,-0.027009826,0.013690187,0.18589017,0.05569406,0.20813781,0.1177105,0.07250228,0.02929563,0.053182766,0.23155178,0.037670724,0.16625929,0.124107465,0.24298929,0.07772869,0.17431135,0.020919513,-0.0023194924,0.0125130005,0.07481134,0.039534256,0.012395505,0.027598262,0.045732163,0.013955671,0.11455117,-0.010257316,0.113676324,0.00029342435,0.019449426,0.025190976,-0.029672757,0.004794011,0.0452301,0.1420503,0.0049174633,0.08499874,0.007899327,-0.024871405,0.14443262,0.03537535,0.99972105,0.10456692,0.0050712507,0.06008376,0.121320345,-0.03502194,0.14121132,0.12139003,-0.035981547,-0.015611708,0.068118684],[0.05079957,-0.01326903,0.21209125,0.018616693,0.004605541,0.010186171,0.048548378,0.03125482,-0.002912078,0.17465883,0.24526103,0.0936386,0.025454491,0.06207952,0.03811118,-0.004149911,0.08771513,0.1219998,0.038472496,0.049830366,0.061849985,-0.007454438,-0.0014537126,-0.0011530537,-0.03243243,0.07052353,0.0018498842,0.046243686,0.04831999,0.010055679,-0.023270082,-0.006287314,0.04772863,-0.019685403,-0.0055849953,-0.018522585,-0.023554537,0.07844353,0.08714597,0.089980915,-0.027860422,0.13307709,-0.027808126,0.00029912218,-0.015136448,0.18221074,0.10456692,1.0003343,0.0066168057,-0.009538604,0.1209524,0.00051526166,0.35214216,0.018563617,0.34070772,-0.030987153,0.028812211],[0.05376058,-0.036910202,-0.044599723,0.0003468222,0.021690434,0.15292028,-0.006689257,-0.053650662,0.18575025,0.081982546,-0.001795033,0.060825065,0.039824363,0.2603783,-0.012566129,0.040896416,0.14099196,0.20027241,-0.0929027,0.061534982,0.22012107,0.08278311,0.066626884,0.0025811428,-0.0054204073,0.10719709,0.023594687,0.06667349,0.16714494,0.105761364,0.13316067,0.036970884,0.04398341,0.04053743,0.015773166,0.021143772,0.034805905,0.062462404,0.04415939,-0.039519954,0.015423058,-0.01710046,0.06487356,0.23853776,0.011604771,0.02518644,0.0050712507,0.0066168057,1.0000403,0.17645541,0.05316072,-0.006064862,-0.0069723567,-0.004889466,0.013761414,-0.0028731031,0.085253775],[0.021483205,0.05428406,-0.011285153,0.031506553,0.03685015,0.034155875,0.008192528,0.0051778816,0.10910766,-0.0103934035,0.016299553,0.026183939,0.006880726,0.11161681,0.035369415,0.091848835,0.2331396,0.020824803,-0.07162549,0.06373128,0.14606716,0.033425573,0.110968634,0.0031045275,0.018481351,-0.01236043,0.017944854,0.032506403,0.13882998,0.11435078,0.10854409,0.03499026,0.013634663,-0.01608244,0.021410555,0.01384588,0.07752705,0.047450155,0.05733064,0.016032849,0.0034304457,0.023795884,0.0329328,0.072428405,0.02835895,0.061227534,0.06008376,-0.009538604,0.17645541,1.0000969,0.02021798,0.01612143,-0.013939645,-0.022794299,0.028000306,0.011777563,0.09697631],[0.02816856,-0.007293769,-0.07171483,0.11152644,0.104433686,-0.05128686,-0.020681852,0.019781671,0.03559791,0.05574765,0.064835735,0.09465156,-0.013782737,0.13029425,0.08468449,0.13151291,0.05053526,0.0017401315,0.018306449,-0.00033411756,0.0746931,-0.015710667,0.006934153,0.0130659705,0.0056457147,0.06367034,0.077326104,-0.0025801752,0.035569087,0.019646794,0.06317,-0.015506984,0.07684949,-0.018714778,-0.01873495,0.025747329,0.017171038,0.09037696,0.18481094,-0.007937718,-0.010403457,0.09856098,0.05911769,0.056340802,-0.0029357644,0.17728738,0.121320345,0.1209524,0.05316072,0.02021798,0.99963385,-0.01866063,0.059372976,0.037619814,0.051239885,-0.057364862,0.1057771],[0.009217219,0.019342467,0.01506464,-0.009060567,0.021812528,0.014376864,0.022807168,-0.0037194926,0.015293141,0.019121746,-0.014369051,0.0056827166,0.03579843,0.018979663,0.015114235,0.020494333,0.0376655,0.0097484,0.015021931,0.043199975,0.0108851,0.009622549,0.2690484,0.041849077,0.12719877,-0.013752254,0.01985963,0.02927067,0.041238043,0.03354892,-0.019939473,0.032445606,-0.0031847043,-0.027576812,-0.03268107,0.17430758,0.053513132,0.017584108,0.017472997,-0.0019640932,0.0039995406,0.12518482,0.09549229,0.005322966,0.005985575,0.11445014,-0.03502194,0.00051526166,-0.006064862,0.01612143,-0.01866063,1.0001442,-0.025483292,-0.012241808,0.06034811,0.0021361643,0.022913285],[0.00027395412,-0.032060854,0.43353546,0.09216134,0.040697135,-0.025251223,0.031116012,0.17486177,-0.05885638,0.326737,0.33456498,0.050030194,0.030754358,0.076236,0.14352158,-0.06605609,0.21275932,0.18965942,0.08183612,0.047948197,-0.026672378,0.027771428,-0.048371047,-0.0044000535,-0.03389892,0.0810651,0.07660597,0.083631605,-0.025605291,0.017653365,-0.0058253095,-0.009620715,0.14591777,-0.00077695306,0.011099711,0.0080058575,0.010644225,0.17256938,0.0710783,0.1772283,-0.030974448,0.1078112,0.007374973,-0.016755845,0.18886141,0.0742289,0.14121132,0.35214216,-0.0069723567,-0.013939645,0.059372976,-0.025483292,0.99966323,0.108464584,0.3128264,-0.025591437,0.012068827],[0.064475596,0.100782365,0.2150321,0.004254318,0.03852901,0.00844368,0.028307632,0.2763314,-0.0058538187,0.09538957,0.06909667,0.053313714,-0.048880268,0.06067677,0.1625711,-0.016292103,0.121050514,0.069169894,0.16897386,0.12166883,0.05753913,0.03581799,-0.012444418,0.0029296065,0.016286852,-0.008595578,0.018353216,-0.016445205,0.024652883,-0.041963015,0.024330981,-0.027616326,0.13801539,0.024190733,0.016291969,-0.026982205,-0.0024547167,-0.028325252,0.02985112,-0.07506932,0.046430234,0.013737994,0.0010997215,-0.012861034,0.24652894,0.015667558,0.12139003,0.018563617,-0.004889466,-0.022794299,0.037619814,-0.012241808,0.108464584,1.0001119,0.056515187,0.010381157,-0.024587888],[0.039919615,0.0155470185,0.012380496,-0.020164195,0.0033377595,0.010133079,0.11325089,0.02836609,0.0073411176,0.11921722,0.34956217,0.1172485,0.05354602,0.12880239,0.072860196,0.047161173,0.03092384,0.10984784,0.063580856,0.14892343,0.059568293,0.07708118,0.11886722,-0.01805203,0.04906925,0.2496801,0.077965684,0.12254953,0.10916537,-0.016972398,-0.040777795,0.01429612,-0.0051319674,0.014875995,-0.014095068,-0.043498386,0.004642283,0.08957885,0.112072974,-0.00278477,0.014882211,0.15646295,-0.0031865826,0.0145743005,-0.031839684,0.19333875,-0.035981547,0.34070772,0.013761414,0.028000306,0.051239885,0.06034811,0.3128264,0.056515187,0.99991673,-0.009200454,0.17087913],[0.025279885,0.1009523,-0.02031102,-0.018970141,-0.049193785,0.012689828,-0.008463204,-0.031833813,-0.0058191535,-0.0027281232,-0.034508914,-0.004001376,0.029538557,-0.020597849,-0.02450785,0.008066159,0.00031032786,-0.009470791,-0.004403593,0.024475861,-0.009726364,-0.017270334,-0.013040672,-0.025733499,0.012428989,0.004789171,-0.019012412,-0.03192506,-0.006392449,-0.033266623,-0.007791345,0.12162292,-0.02303034,0.0321023,0.05936812,0.0069711423,0.04694895,-0.017023688,-0.022714093,-0.0021141097,0.080708206,0.004018658,0.02081908,-0.027658628,-0.026709525,-0.014855739,-0.015611708,-0.030987153,-0.0028731031,0.011777563,-0.057364862,0.0021361643,-0.025591437,0.010381157,-0.009200454,1.0002089,0.0110363215],[0.03770216,0.0315891,-0.08935906,0.031992223,-0.0024181139,0.033571377,0.027347906,-0.022353817,0.068814956,0.014521854,0.049157213,0.22476709,0.0005821055,0.09482196,0.05848611,0.1701493,0.020315904,0.004140923,0.017825529,0.11481428,0.104038626,0.016593676,0.1037989,0.010346349,0.12957679,0.15102693,0.0429441,0.016865231,0.06498769,0.04571494,0.08857719,0.0015616771,0.010647908,0.012901043,-0.021085728,0.053432103,0.03755261,0.11745429,0.10028368,-0.057635166,-0.014914149,0.17838466,0.15134192,0.042200863,-0.017909419,0.09766885,0.068118684,0.028812211,0.085253775,0.09697631,0.1057771,0.022913285,0.012068827,-0.024587888,0.17087913,0.0110363215,1.0006361]],\"type\":\"heatmap\",\"xaxis\":\"x\",\"yaxis\":\"y\",\"hovertemplate\":\"x: %{x}\\u003cbr\\u003ey: %{y}\\u003cbr\\u003ecolor: %{z}\\u003cextra\\u003e\\u003c\\u002fextra\\u003e\"}],                        {\"template\":{\"data\":{\"histogram2dcontour\":[{\"type\":\"histogram2dcontour\",\"colorbar\":{\"outlinewidth\":0,\"ticks\":\"\"},\"colorscale\":[[0.0,\"#0d0887\"],[0.1111111111111111,\"#46039f\"],[0.2222222222222222,\"#7201a8\"],[0.3333333333333333,\"#9c179e\"],[0.4444444444444444,\"#bd3786\"],[0.5555555555555556,\"#d8576b\"],[0.6666666666666666,\"#ed7953\"],[0.7777777777777778,\"#fb9f3a\"],[0.8888888888888888,\"#fdca26\"],[1.0,\"#f0f921\"]]}],\"choropleth\":[{\"type\":\"choropleth\",\"colorbar\":{\"outlinewidth\":0,\"ticks\":\"\"}}],\"histogram2d\":[{\"type\":\"histogram2d\",\"colorbar\":{\"outlinewidth\":0,\"ticks\":\"\"},\"colorscale\":[[0.0,\"#0d0887\"],[0.1111111111111111,\"#46039f\"],[0.2222222222222222,\"#7201a8\"],[0.3333333333333333,\"#9c179e\"],[0.4444444444444444,\"#bd3786\"],[0.5555555555555556,\"#d8576b\"],[0.6666666666666666,\"#ed7953\"],[0.7777777777777778,\"#fb9f3a\"],[0.8888888888888888,\"#fdca26\"],[1.0,\"#f0f921\"]]}],\"heatmap\":[{\"type\":\"heatmap\",\"colorbar\":{\"outlinewidth\":0,\"ticks\":\"\"},\"colorscale\":[[0.0,\"#0d0887\"],[0.1111111111111111,\"#46039f\"],[0.2222222222222222,\"#7201a8\"],[0.3333333333333333,\"#9c179e\"],[0.4444444444444444,\"#bd3786\"],[0.5555555555555556,\"#d8576b\"],[0.6666666666666666,\"#ed7953\"],[0.7777777777777778,\"#fb9f3a\"],[0.8888888888888888,\"#fdca26\"],[1.0,\"#f0f921\"]]}],\"heatmapgl\":[{\"type\":\"heatmapgl\",\"colorbar\":{\"outlinewidth\":0,\"ticks\":\"\"},\"colorscale\":[[0.0,\"#0d0887\"],[0.1111111111111111,\"#46039f\"],[0.2222222222222222,\"#7201a8\"],[0.3333333333333333,\"#9c179e\"],[0.4444444444444444,\"#bd3786\"],[0.5555555555555556,\"#d8576b\"],[0.6666666666666666,\"#ed7953\"],[0.7777777777777778,\"#fb9f3a\"],[0.8888888888888888,\"#fdca26\"],[1.0,\"#f0f921\"]]}],\"contourcarpet\":[{\"type\":\"contourcarpet\",\"colorbar\":{\"outlinewidth\":0,\"ticks\":\"\"}}],\"contour\":[{\"type\":\"contour\",\"colorbar\":{\"outlinewidth\":0,\"ticks\":\"\"},\"colorscale\":[[0.0,\"#0d0887\"],[0.1111111111111111,\"#46039f\"],[0.2222222222222222,\"#7201a8\"],[0.3333333333333333,\"#9c179e\"],[0.4444444444444444,\"#bd3786\"],[0.5555555555555556,\"#d8576b\"],[0.6666666666666666,\"#ed7953\"],[0.7777777777777778,\"#fb9f3a\"],[0.8888888888888888,\"#fdca26\"],[1.0,\"#f0f921\"]]}],\"surface\":[{\"type\":\"surface\",\"colorbar\":{\"outlinewidth\":0,\"ticks\":\"\"},\"colorscale\":[[0.0,\"#0d0887\"],[0.1111111111111111,\"#46039f\"],[0.2222222222222222,\"#7201a8\"],[0.3333333333333333,\"#9c179e\"],[0.4444444444444444,\"#bd3786\"],[0.5555555555555556,\"#d8576b\"],[0.6666666666666666,\"#ed7953\"],[0.7777777777777778,\"#fb9f3a\"],[0.8888888888888888,\"#fdca26\"],[1.0,\"#f0f921\"]]}],\"mesh3d\":[{\"type\":\"mesh3d\",\"colorbar\":{\"outlinewidth\":0,\"ticks\":\"\"}}],\"scatter\":[{\"fillpattern\":{\"fillmode\":\"overlay\",\"size\":10,\"solidity\":0.2},\"type\":\"scatter\"}],\"parcoords\":[{\"type\":\"parcoords\",\"line\":{\"colorbar\":{\"outlinewidth\":0,\"ticks\":\"\"}}}],\"scatterpolargl\":[{\"type\":\"scatterpolargl\",\"marker\":{\"colorbar\":{\"outlinewidth\":0,\"ticks\":\"\"}}}],\"bar\":[{\"error_x\":{\"color\":\"#2a3f5f\"},\"error_y\":{\"color\":\"#2a3f5f\"},\"marker\":{\"line\":{\"color\":\"#E5ECF6\",\"width\":0.5},\"pattern\":{\"fillmode\":\"overlay\",\"size\":10,\"solidity\":0.2}},\"type\":\"bar\"}],\"scattergeo\":[{\"type\":\"scattergeo\",\"marker\":{\"colorbar\":{\"outlinewidth\":0,\"ticks\":\"\"}}}],\"scatterpolar\":[{\"type\":\"scatterpolar\",\"marker\":{\"colorbar\":{\"outlinewidth\":0,\"ticks\":\"\"}}}],\"histogram\":[{\"marker\":{\"pattern\":{\"fillmode\":\"overlay\",\"size\":10,\"solidity\":0.2}},\"type\":\"histogram\"}],\"scattergl\":[{\"type\":\"scattergl\",\"marker\":{\"colorbar\":{\"outlinewidth\":0,\"ticks\":\"\"}}}],\"scatter3d\":[{\"type\":\"scatter3d\",\"line\":{\"colorbar\":{\"outlinewidth\":0,\"ticks\":\"\"}},\"marker\":{\"colorbar\":{\"outlinewidth\":0,\"ticks\":\"\"}}}],\"scattermapbox\":[{\"type\":\"scattermapbox\",\"marker\":{\"colorbar\":{\"outlinewidth\":0,\"ticks\":\"\"}}}],\"scatterternary\":[{\"type\":\"scatterternary\",\"marker\":{\"colorbar\":{\"outlinewidth\":0,\"ticks\":\"\"}}}],\"scattercarpet\":[{\"type\":\"scattercarpet\",\"marker\":{\"colorbar\":{\"outlinewidth\":0,\"ticks\":\"\"}}}],\"carpet\":[{\"aaxis\":{\"endlinecolor\":\"#2a3f5f\",\"gridcolor\":\"white\",\"linecolor\":\"white\",\"minorgridcolor\":\"white\",\"startlinecolor\":\"#2a3f5f\"},\"baxis\":{\"endlinecolor\":\"#2a3f5f\",\"gridcolor\":\"white\",\"linecolor\":\"white\",\"minorgridcolor\":\"white\",\"startlinecolor\":\"#2a3f5f\"},\"type\":\"carpet\"}],\"table\":[{\"cells\":{\"fill\":{\"color\":\"#EBF0F8\"},\"line\":{\"color\":\"white\"}},\"header\":{\"fill\":{\"color\":\"#C8D4E3\"},\"line\":{\"color\":\"white\"}},\"type\":\"table\"}],\"barpolar\":[{\"marker\":{\"line\":{\"color\":\"#E5ECF6\",\"width\":0.5},\"pattern\":{\"fillmode\":\"overlay\",\"size\":10,\"solidity\":0.2}},\"type\":\"barpolar\"}],\"pie\":[{\"automargin\":true,\"type\":\"pie\"}]},\"layout\":{\"autotypenumbers\":\"strict\",\"colorway\":[\"#636efa\",\"#EF553B\",\"#00cc96\",\"#ab63fa\",\"#FFA15A\",\"#19d3f3\",\"#FF6692\",\"#B6E880\",\"#FF97FF\",\"#FECB52\"],\"font\":{\"color\":\"#2a3f5f\"},\"hovermode\":\"closest\",\"hoverlabel\":{\"align\":\"left\"},\"paper_bgcolor\":\"white\",\"plot_bgcolor\":\"#E5ECF6\",\"polar\":{\"bgcolor\":\"#E5ECF6\",\"angularaxis\":{\"gridcolor\":\"white\",\"linecolor\":\"white\",\"ticks\":\"\"},\"radialaxis\":{\"gridcolor\":\"white\",\"linecolor\":\"white\",\"ticks\":\"\"}},\"ternary\":{\"bgcolor\":\"#E5ECF6\",\"aaxis\":{\"gridcolor\":\"white\",\"linecolor\":\"white\",\"ticks\":\"\"},\"baxis\":{\"gridcolor\":\"white\",\"linecolor\":\"white\",\"ticks\":\"\"},\"caxis\":{\"gridcolor\":\"white\",\"linecolor\":\"white\",\"ticks\":\"\"}},\"coloraxis\":{\"colorbar\":{\"outlinewidth\":0,\"ticks\":\"\"}},\"colorscale\":{\"sequential\":[[0.0,\"#0d0887\"],[0.1111111111111111,\"#46039f\"],[0.2222222222222222,\"#7201a8\"],[0.3333333333333333,\"#9c179e\"],[0.4444444444444444,\"#bd3786\"],[0.5555555555555556,\"#d8576b\"],[0.6666666666666666,\"#ed7953\"],[0.7777777777777778,\"#fb9f3a\"],[0.8888888888888888,\"#fdca26\"],[1.0,\"#f0f921\"]],\"sequentialminus\":[[0.0,\"#0d0887\"],[0.1111111111111111,\"#46039f\"],[0.2222222222222222,\"#7201a8\"],[0.3333333333333333,\"#9c179e\"],[0.4444444444444444,\"#bd3786\"],[0.5555555555555556,\"#d8576b\"],[0.6666666666666666,\"#ed7953\"],[0.7777777777777778,\"#fb9f3a\"],[0.8888888888888888,\"#fdca26\"],[1.0,\"#f0f921\"]],\"diverging\":[[0,\"#8e0152\"],[0.1,\"#c51b7d\"],[0.2,\"#de77ae\"],[0.3,\"#f1b6da\"],[0.4,\"#fde0ef\"],[0.5,\"#f7f7f7\"],[0.6,\"#e6f5d0\"],[0.7,\"#b8e186\"],[0.8,\"#7fbc41\"],[0.9,\"#4d9221\"],[1,\"#276419\"]]},\"xaxis\":{\"gridcolor\":\"white\",\"linecolor\":\"white\",\"ticks\":\"\",\"title\":{\"standoff\":15},\"zerolinecolor\":\"white\",\"automargin\":true,\"zerolinewidth\":2},\"yaxis\":{\"gridcolor\":\"white\",\"linecolor\":\"white\",\"ticks\":\"\",\"title\":{\"standoff\":15},\"zerolinecolor\":\"white\",\"automargin\":true,\"zerolinewidth\":2},\"scene\":{\"xaxis\":{\"backgroundcolor\":\"#E5ECF6\",\"gridcolor\":\"white\",\"linecolor\":\"white\",\"showbackground\":true,\"ticks\":\"\",\"zerolinecolor\":\"white\",\"gridwidth\":2},\"yaxis\":{\"backgroundcolor\":\"#E5ECF6\",\"gridcolor\":\"white\",\"linecolor\":\"white\",\"showbackground\":true,\"ticks\":\"\",\"zerolinecolor\":\"white\",\"gridwidth\":2},\"zaxis\":{\"backgroundcolor\":\"#E5ECF6\",\"gridcolor\":\"white\",\"linecolor\":\"white\",\"showbackground\":true,\"ticks\":\"\",\"zerolinecolor\":\"white\",\"gridwidth\":2}},\"shapedefaults\":{\"line\":{\"color\":\"#2a3f5f\"}},\"annotationdefaults\":{\"arrowcolor\":\"#2a3f5f\",\"arrowhead\":0,\"arrowwidth\":1},\"geo\":{\"bgcolor\":\"white\",\"landcolor\":\"#E5ECF6\",\"subunitcolor\":\"white\",\"showland\":true,\"showlakes\":true,\"lakecolor\":\"white\"},\"title\":{\"x\":0.05},\"mapbox\":{\"style\":\"light\"}}},\"xaxis\":{\"anchor\":\"y\",\"domain\":[0.0,1.0],\"scaleanchor\":\"y\",\"constrain\":\"domain\"},\"yaxis\":{\"anchor\":\"x\",\"domain\":[0.0,1.0],\"autorange\":\"reversed\",\"constrain\":\"domain\"},\"coloraxis\":{\"colorscale\":[[0.0,\"#0d0887\"],[0.1111111111111111,\"#46039f\"],[0.2222222222222222,\"#7201a8\"],[0.3333333333333333,\"#9c179e\"],[0.4444444444444444,\"#bd3786\"],[0.5555555555555556,\"#d8576b\"],[0.6666666666666666,\"#ed7953\"],[0.7777777777777778,\"#fb9f3a\"],[0.8888888888888888,\"#fdca26\"],[1.0,\"#f0f921\"]]},\"margin\":{\"t\":60},\"height\":800,\"width\":800},                        {\"responsive\": true}                    ).then(function(){\n",
       "                            \n",
       "var gd = document.getElementById('a454225e-5a7f-4b6d-bce0-a5d36cf46be9');\n",
       "var x = new MutationObserver(function (mutations, observer) {{\n",
       "        var display = window.getComputedStyle(gd).display;\n",
       "        if (!display || display === 'none') {{\n",
       "            console.log([gd, 'removed!']);\n",
       "            Plotly.purge(gd);\n",
       "            observer.disconnect();\n",
       "        }}\n",
       "}});\n",
       "\n",
       "// Listen for the removal of the full notebook cells\n",
       "var notebookContainer = gd.closest('#notebook-container');\n",
       "if (notebookContainer) {{\n",
       "    x.observe(notebookContainer, {childList: true});\n",
       "}}\n",
       "\n",
       "// Listen for the clearing of the current output cell\n",
       "var outputEl = gd.closest('.output');\n",
       "if (outputEl) {{\n",
       "    x.observe(outputEl, {childList: true});\n",
       "}}\n",
       "\n",
       "                        })                };                });            </script>        </div>"
      ]
     },
     "metadata": {},
     "output_type": "display_data"
    }
   ],
   "source": [
    "import plotly.express as px\n",
    "import plotly.io as pio\n",
    "\n",
    "fig = px.imshow(pairwise_sims, width=800, height=800)\n",
    "# pio.write_image(fig, \"pairwise_sims.png\")\n",
    "\n",
    "fig"
   ]
  },
  {
   "cell_type": "code",
   "execution_count": 10,
   "metadata": {},
   "outputs": [],
   "source": [
    "features = [9790, 12605, 13458, 11491, 18803, 2931, 11618, 26987, 5679, 15554, 26594]"
   ]
  },
  {
   "cell_type": "code",
   "execution_count": 11,
   "metadata": {},
   "outputs": [],
   "source": [
    "from sprint.icl_sfc_utils import AblatedModule\n",
    "layer = 12\n",
    "mask_name = \"arrow\""
   ]
  },
  {
   "cell_type": "code",
   "execution_count": 51,
   "metadata": {},
   "outputs": [],
   "source": [
    "task_results = [result for result in results if result[\"task\"] == task_name]"
   ]
  },
  {
   "cell_type": "code",
   "execution_count": 75,
   "metadata": {},
   "outputs": [
    {
     "data": {
      "text/html": [
       "<script> (()=>{ if (customElements.get('treescope-container') === undefined) { class TreescopeContainer extends HTMLElement { constructor() { super(); this.attachShadow({mode: \"open\"}); this.defns = {}; this.state = {}; } } customElements.define(\"treescope-container\", TreescopeContainer); } if (customElements.get('treescope-run-here') === undefined) { class RunHere extends HTMLElement { constructor() { super() } connectedCallback() { const run = child => { const fn = new Function(child.textContent); child.textContent = \"\"; fn.call(this); this.remove(); }; const child = this.querySelector(\"script\"); if (child) { run(child); } else { new MutationObserver(()=>{ run(this.querySelector(\"script\")); }).observe(this, {childList: true}); } } } customElements.define(\"treescope-run-here\", RunHere); } })(); </script> <treescope-container class=\"treescope_out_c9be0e4d9af8428da644d5cf5444ee97\" ></treescope-container> <treescope-run-here><script type=\"application/octet-stream\"> const root = ( Array.from(document.getElementsByClassName( \"treescope_out_c9be0e4d9af8428da644d5cf5444ee97\")) .filter((elt) => !elt.dataset.setup) )[0]; root.dataset.setup = 1; const msg = document.createElement(\"span\"); msg.style = \"color: #aaaaaa; font-family: monospace; transition: opacity 0.2s; opacity: 0.0;\"; msg.textContent = \"(Loading...)\"; root.state.loadingMsg = msg; root.shadowRoot.appendChild(msg); root.state.chain = new Promise((resolve, reject) => { const observer = new IntersectionObserver((entries) => { for (const entry of entries) { if (entry.isIntersecting) { resolve(); observer.disconnect(); return; } } }, {rootMargin: \"1000px\"}); window.setTimeout(() => { if (root.loadingMsg) { root.loadingMsg.style.opacity = \"1.0\"; } observer.observe(root); }, 0); }); root.state.deferring = false; const _insertNode = (node) => { for (let oldScript of node.querySelectorAll(\"script\")) { let newScript = document.createElement(\"script\"); newScript.type = oldScript.type; newScript.textContent = oldScript.textContent; oldScript.parentNode.replaceChild(newScript, oldScript); } if (root.state.loadingMsg) { root.state.loadingMsg.remove(); root.state.loadingMsg = null; } root.shadowRoot.appendChild(node); }; root.defns.insertContent = ((contentNode, compressed) => { if (compressed) { root.state.deferring = true; } if (root.state.deferring) { root.state.chain = (async () => { await root.state.chain; if (compressed) { const encoded = contentNode.textContent; const blob = new Blob([ Uint8Array.from(atob(encoded), (m) => m.codePointAt(0)) ]); const reader = blob.stream().pipeThrough( new DecompressionStream(\"deflate\") ).pipeThrough( new TextDecoderStream(\"utf-8\") ).getReader(); const parts = []; while (true) { const step = await reader.read(); if (step.done) { break; } parts.push(step.value); } const tpl = document.createElement('template'); tpl.innerHTML = parts.join(\"\"); _insertNode(tpl.content); } else { _insertNode(contentNode.content); } })(); } else { _insertNode(contentNode.content); } }); </script></treescope-run-here><div style=\"display:none\"> <script type=\"application/octet-stream\" >eNqNVE1v2zAM/SuCd6gNzO7H0KFLYgO9DDsMO2yHHYYhUGzaFiJTmkQny4b+91FykqVtVgw5xCKpx/cokgtPOw1VQQ7A18bC0hlD4rewxitSBmfCgZakNjAXrUHKWzkovZuJwaDxVtZs3/aKII+HmbCOLVp5yiN0TjvLVjTI5pWs150zIzZ5bbRxs+nqXOxPK80BjKca6meiVcRhSIA0F1Y2jcIu19DSTNzUfUiCkPegup4t18VtgEGSijkfr+0/8o3yaqW0ImYuRzLH2FwhOYVe1blXv2Dy7uk+LC6n8iyO5cndiJzTsc3XTlkSQV95Ia3VqpahYpemJgjqHcjhokrTrKy4oJzPk2igRS9KQb3yRQf0mav9yTSQZkVvPBXRz9KAxNICBsn3dUANl759P+f5ILHRwG4ctZ5PGQqm+cUYZGu6NW6diVMO5iubguuRmVQdjBZca9wgsYYCzTbN4vtygvSZR+TTpYV4c5MxjmpF+oR1oQE76kVZiqsQ8iJ1BzQ65LoL0B7+EutHDMyeQvtetRT4xYDw8cC/f2RIuauwMdvCwY8RPN2jGuJzvXdygHSqSRYw5s8S2dH3UxnnZzQeUpSTjBdU/j+HwGJ6SDJdp6epXMbJ4W61AStYQNNrARtu8P1LBnbxXKxhF4qeuCQQ2gcXtZbef+Th3OOmyRFzOXAbJofkDxnXk9s/9ni1uDw3AI3aiAhYJo/XRyJIrlgp/CyTq0QYZDIsGznupbY/rzUNdw4qEx67aWHFjbHEcViBi50SF8irq3d317dvT0eX1xIeaPY8q47XxnpJ0jGNRDSSZM70rKS+TJLH4ac5kuqOIdlZHf9Yf/UH89XbYQ==</script> <treescope-run-here><script type=\"application/octet-stream\"> const root = ( Array.from(document.getElementsByClassName( \"treescope_out_c9be0e4d9af8428da644d5cf5444ee97\")) .filter((elt) => !elt.dataset['step0']) )[0]; root.dataset['step0'] = 1; root.defns.insertContent( this.parentNode.querySelector('script[type=\"application/octet-stream\"]'), true ); this.parentNode.remove(); </script></treescope-run-here> </div>"
      ],
      "text/plain": [
       "<IPython.core.display.HTML object>"
      ]
     },
     "metadata": {},
     "output_type": "display_data"
    },
    {
     "data": {
      "text/html": [
       "<treescope-run-here><script type=\"application/octet-stream\"> const root = ( Array.from(document.getElementsByClassName( \"treescope_out_c9be0e4d9af8428da644d5cf5444ee97\")) .filter((elt) => !elt.dataset.stolen) )[0]; root.dataset.stolen = 1; this.parentNode.replaceChild(root, this); </script></treescope-run-here>"
      ],
      "text/plain": [
       "8"
      ]
     },
     "execution_count": 75,
     "metadata": {},
     "output_type": "execute_result"
    }
   ],
   "source": [
    "len(task_results)"
   ]
  },
  {
   "cell_type": "code",
   "execution_count": 72,
   "metadata": {},
   "outputs": [],
   "source": [
    "import jax.numpy as jnp\n",
    "\n",
    "layer_masks = {}\n",
    "\n",
    "resid = circuitizer.saes[(12, \"resid\")]\n",
    "\n",
    "\n",
    "for r in task_results:\n",
    "    layer = r[\"layer\"]\n",
    "    w = np.array(r[\"weights\"])\n",
    "    f_ids = jnp.nonzero(w * (w > 0))\n",
    "\n",
    "    feature = features[0]\n",
    "\n",
    "    mask = np.ones(resid[\"W_dec\"].shape[0])\n",
    "    mask[f_ids] = 0\n",
    "\n",
    "    mask = jnp.array(mask)\n",
    "\n",
    "    masks = {\n",
    "        k: mask for k in circuitizer.masks\n",
    "    }\n",
    "\n",
    "    # masks[mask_name] = mask\n",
    "\n",
    "    layer_masks[layer] = masks\n",
    "\n"
   ]
  },
  {
   "cell_type": "code",
   "execution_count": 73,
   "metadata": {},
   "outputs": [],
   "source": [
    "from micrlhf.llama import LlamaBlock\n",
    "\n",
    "llama_ablated = llama\n",
    "\n",
    "for layer, masks in layer_masks.items():\n",
    "    block_selection = llama_ablated.select().at_instances_of(LlamaBlock).pick_nth_selected(layer)\n",
    "\n",
    "    def converter(block):\n",
    "        block = block.select().at_instances_of(LlamaBlock).apply(lambda x: pz.nn.Sequential([AblatedModule.wrap(resid, masks, circuitizer.masks), x]))    \n",
    "        return block\n",
    "\n",
    "    llama_ablated = block_selection.apply(converter)"
   ]
  },
  {
   "cell_type": "code",
   "execution_count": 74,
   "metadata": {},
   "outputs": [
    {
     "name": "stdout",
     "output_type": "stream",
     "text": [
      "-1.6610659\n",
      "-1.40625\n"
     ]
    }
   ],
   "source": [
    "print(circuitizer.ablated_metric(llama_ablated))\n",
    "print(circuitizer.ablated_metric(llama))"
   ]
  },
  {
   "cell_type": "code",
   "execution_count": 18,
   "metadata": {},
   "outputs": [
    {
     "data": {
      "application/vnd.jupyter.widget-view+json": {
       "model_id": "2180c4a3860a41ce981742afed30f0cb",
       "version_major": 2,
       "version_minor": 0
      },
      "text/plain": [
       "  0%|          | 0/3 [00:00<?, ?it/s]"
      ]
     },
     "metadata": {},
     "output_type": "display_data"
    },
    {
     "data": {
      "text/html": [
       "<script> (()=>{ if (customElements.get('treescope-container') === undefined) { class TreescopeContainer extends HTMLElement { constructor() { super(); this.attachShadow({mode: \"open\"}); this.defns = {}; this.state = {}; } } customElements.define(\"treescope-container\", TreescopeContainer); } if (customElements.get('treescope-run-here') === undefined) { class RunHere extends HTMLElement { constructor() { super() } connectedCallback() { const run = child => { const fn = new Function(child.textContent); child.textContent = \"\"; fn.call(this); this.remove(); }; const child = this.querySelector(\"script\"); if (child) { run(child); } else { new MutationObserver(()=>{ run(this.querySelector(\"script\")); }).observe(this, {childList: true}); } } } customElements.define(\"treescope-run-here\", RunHere); } })(); </script> <treescope-container class=\"treescope_out_c8c2032c99a34453893e9b8a700039fb\" ></treescope-container> <treescope-run-here><script type=\"application/octet-stream\"> const root = ( Array.from(document.getElementsByClassName( \"treescope_out_c8c2032c99a34453893e9b8a700039fb\")) .filter((elt) => !elt.dataset.setup) )[0]; root.dataset.setup = 1; const msg = document.createElement(\"span\"); msg.style = \"color: #aaaaaa; font-family: monospace; transition: opacity 0.2s; opacity: 0.0;\"; msg.textContent = \"(Loading...)\"; root.state.loadingMsg = msg; root.shadowRoot.appendChild(msg); root.state.chain = new Promise((resolve, reject) => { const observer = new IntersectionObserver((entries) => { for (const entry of entries) { if (entry.isIntersecting) { resolve(); observer.disconnect(); return; } } }, {rootMargin: \"1000px\"}); window.setTimeout(() => { if (root.loadingMsg) { root.loadingMsg.style.opacity = \"1.0\"; } observer.observe(root); }, 0); }); root.state.deferring = false; const _insertNode = (node) => { for (let oldScript of node.querySelectorAll(\"script\")) { let newScript = document.createElement(\"script\"); newScript.type = oldScript.type; newScript.textContent = oldScript.textContent; oldScript.parentNode.replaceChild(newScript, oldScript); } if (root.state.loadingMsg) { root.state.loadingMsg.remove(); root.state.loadingMsg = null; } root.shadowRoot.appendChild(node); }; root.defns.insertContent = ((contentNode, compressed) => { if (compressed) { root.state.deferring = true; } if (root.state.deferring) { root.state.chain = (async () => { await root.state.chain; if (compressed) { const encoded = contentNode.textContent; const blob = new Blob([ Uint8Array.from(atob(encoded), (m) => m.codePointAt(0)) ]); const reader = blob.stream().pipeThrough( new DecompressionStream(\"deflate\") ).pipeThrough( new TextDecoderStream(\"utf-8\") ).getReader(); const parts = []; while (true) { const step = await reader.read(); if (step.done) { break; } parts.push(step.value); } const tpl = document.createElement('template'); tpl.innerHTML = parts.join(\"\"); _insertNode(tpl.content); } else { _insertNode(contentNode.content); } })(); } else { _insertNode(contentNode.content); } }); </script></treescope-run-here><div style=\"display:none\"> <script type=\"application/octet-stream\" >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</script> <treescope-run-here><script type=\"application/octet-stream\"> const root = ( Array.from(document.getElementsByClassName( \"treescope_out_c8c2032c99a34453893e9b8a700039fb\")) .filter((elt) => !elt.dataset['step0']) )[0]; root.dataset['step0'] = 1; root.defns.insertContent( this.parentNode.querySelector('script[type=\"application/octet-stream\"]'), true ); this.parentNode.remove(); </script></treescope-run-here> </div>"
      ],
      "text/plain": [
       "<IPython.core.display.HTML object>"
      ]
     },
     "metadata": {},
     "output_type": "display_data"
    },
    {
     "data": {
      "text/html": [
       "<treescope-run-here><script type=\"application/octet-stream\"> const root = ( Array.from(document.getElementsByClassName( \"treescope_out_c8c2032c99a34453893e9b8a700039fb\")) .filter((elt) => !elt.dataset.stolen) )[0]; root.dataset.stolen = 1; this.parentNode.replaceChild(root, this); </script></treescope-run-here>"
      ],
      "text/plain": [
       "([-1.3984375, -1.4296875, -1.0703125], [5242880, 200719, 118202])"
      ]
     },
     "execution_count": 18,
     "metadata": {},
     "output_type": "execute_result"
    }
   ],
   "source": [
    "circuitizer.run_ablated_metrics([-1, 0, target_threshold])"
   ]
  },
  {
   "cell_type": "code",
   "execution_count": 20,
   "metadata": {},
   "outputs": [
    {
     "data": {
      "text/html": [
       "<script> (()=>{ if (customElements.get('treescope-container') === undefined) { class TreescopeContainer extends HTMLElement { constructor() { super(); this.attachShadow({mode: \"open\"}); this.defns = {}; this.state = {}; } } customElements.define(\"treescope-container\", TreescopeContainer); } if (customElements.get('treescope-run-here') === undefined) { class RunHere extends HTMLElement { constructor() { super() } connectedCallback() { const run = child => { const fn = new Function(child.textContent); child.textContent = \"\"; fn.call(this); this.remove(); }; const child = this.querySelector(\"script\"); if (child) { run(child); } else { new MutationObserver(()=>{ run(this.querySelector(\"script\")); }).observe(this, {childList: true}); } } } customElements.define(\"treescope-run-here\", RunHere); } })(); </script> <treescope-container class=\"treescope_out_3070f60a7aa5411a8add12a948bb5289\" ></treescope-container> <treescope-run-here><script type=\"application/octet-stream\"> const root = ( Array.from(document.getElementsByClassName( \"treescope_out_3070f60a7aa5411a8add12a948bb5289\")) .filter((elt) => !elt.dataset.setup) )[0]; root.dataset.setup = 1; const msg = document.createElement(\"span\"); msg.style = \"color: #aaaaaa; font-family: monospace; transition: opacity 0.2s; opacity: 0.0;\"; msg.textContent = \"(Loading...)\"; root.state.loadingMsg = msg; root.shadowRoot.appendChild(msg); root.state.chain = new Promise((resolve, reject) => { const observer = new IntersectionObserver((entries) => { for (const entry of entries) { if (entry.isIntersecting) { resolve(); observer.disconnect(); return; } } }, {rootMargin: \"1000px\"}); window.setTimeout(() => { if (root.loadingMsg) { root.loadingMsg.style.opacity = \"1.0\"; } observer.observe(root); }, 0); }); root.state.deferring = false; const _insertNode = (node) => { for (let oldScript of node.querySelectorAll(\"script\")) { let newScript = document.createElement(\"script\"); newScript.type = oldScript.type; newScript.textContent = oldScript.textContent; oldScript.parentNode.replaceChild(newScript, oldScript); } if (root.state.loadingMsg) { root.state.loadingMsg.remove(); root.state.loadingMsg = null; } root.shadowRoot.appendChild(node); }; root.defns.insertContent = ((contentNode, compressed) => { if (compressed) { root.state.deferring = true; } if (root.state.deferring) { root.state.chain = (async () => { await root.state.chain; if (compressed) { const encoded = contentNode.textContent; const blob = new Blob([ Uint8Array.from(atob(encoded), (m) => m.codePointAt(0)) ]); const reader = blob.stream().pipeThrough( new DecompressionStream(\"deflate\") ).pipeThrough( new TextDecoderStream(\"utf-8\") ).getReader(); const parts = []; while (true) { const step = await reader.read(); if (step.done) { break; } parts.push(step.value); } const tpl = document.createElement('template'); tpl.innerHTML = parts.join(\"\"); _insertNode(tpl.content); } else { _insertNode(contentNode.content); } })(); } else { _insertNode(contentNode.content); } }); </script></treescope-run-here><div style=\"display:none\"> <script type=\"application/octet-stream\" >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</script> <treescope-run-here><script type=\"application/octet-stream\"> const root = ( Array.from(document.getElementsByClassName( \"treescope_out_3070f60a7aa5411a8add12a948bb5289\")) .filter((elt) => !elt.dataset['step0']) )[0]; root.dataset['step0'] = 1; root.defns.insertContent( this.parentNode.querySelector('script[type=\"application/octet-stream\"]'), true ); this.parentNode.remove(); </script></treescope-run-here> </div>"
      ],
      "text/plain": [
       "<IPython.core.display.HTML object>"
      ]
     },
     "metadata": {},
     "output_type": "display_data"
    },
    {
     "data": {
      "text/html": [
       "<treescope-run-here><script type=\"application/octet-stream\"> const root = ( Array.from(document.getElementsByClassName( \"treescope_out_3070f60a7aa5411a8add12a948bb5289\")) .filter((elt) => !elt.dataset.stolen) )[0]; root.dataset.stolen = 1; this.parentNode.replaceChild(root, this); </script></treescope-run-here>"
      ],
      "text/plain": [
       "[-1.2734375,\n",
       " -1.28125,\n",
       " -1.2578125,\n",
       " -1.265625,\n",
       " -1.171875,\n",
       " -1.078125,\n",
       " -1.1015625,\n",
       " -1.1328125,\n",
       " -1.078125,\n",
       " -1.1015625,\n",
       " -1.1796875,\n",
       " -1.171875,\n",
       " -1.1953125,\n",
       " -1.2109375,\n",
       " -1.1875,\n",
       " -1.1875,\n",
       " -1.1875,\n",
       " -1.1796875,\n",
       " -1.15625,\n",
       " -1.0546875,\n",
       " -1.0546875,\n",
       " -1.046875,\n",
       " -1.078125,\n",
       " -1.1328125,\n",
       " -1.09375,\n",
       " -1.0625,\n",
       " -1.1171875,\n",
       " -1.140625,\n",
       " -1.1015625,\n",
       " -1.140625,\n",
       " -1.1171875,\n",
       " -1.1796875,\n",
       " -1.25,\n",
       " -1.171875,\n",
       " -1.140625,\n",
       " -1.09375,\n",
       " -1.0078125,\n",
       " -1.03125,\n",
       " -1.1015625,\n",
       " -1.1015625]"
      ]
     },
     "execution_count": 20,
     "metadata": {},
     "output_type": "execute_result"
    }
   ],
   "source": [
    "import matplotlib.pyplot as plt\n",
    "\n",
    "ablated_metrics[:40]"
   ]
  },
  {
   "cell_type": "code",
   "execution_count": 22,
   "metadata": {},
   "outputs": [],
   "source": [
    "logits = llama(circuitizer.llama_inputs)"
   ]
  },
  {
   "cell_type": "code",
   "execution_count": 24,
   "metadata": {},
   "outputs": [],
   "source": [
    "logits = logits.unwrap(\"batch\", \"seq\", \"vocabulary\")"
   ]
  },
  {
   "cell_type": "code",
   "execution_count": 26,
   "metadata": {},
   "outputs": [],
   "source": [
    "logits = logits.argmax(-1)"
   ]
  },
  {
   "cell_type": "code",
   "execution_count": 29,
   "metadata": {},
   "outputs": [],
   "source": [
    "logits = logits[:, :-1]\n",
    "\n",
    "res = logits == circuitizer.train_tokens[:, 1:]"
   ]
  },
  {
   "cell_type": "code",
   "execution_count": 31,
   "metadata": {},
   "outputs": [],
   "source": [
    "answer_mask = circuitizer.train_tokens[:, 1:] == 3978\n",
    "answer_mask = np.roll(answer_mask, 1, axis=1)"
   ]
  },
  {
   "cell_type": "code",
   "execution_count": 32,
   "metadata": {},
   "outputs": [
    {
     "data": {
      "text/html": [
       "<script> (()=>{ if (customElements.get('treescope-container') === undefined) { class TreescopeContainer extends HTMLElement { constructor() { super(); this.attachShadow({mode: \"open\"}); this.defns = {}; this.state = {}; } } customElements.define(\"treescope-container\", TreescopeContainer); } if (customElements.get('treescope-run-here') === undefined) { class RunHere extends HTMLElement { constructor() { super() } connectedCallback() { const run = child => { const fn = new Function(child.textContent); child.textContent = \"\"; fn.call(this); this.remove(); }; const child = this.querySelector(\"script\"); if (child) { run(child); } else { new MutationObserver(()=>{ run(this.querySelector(\"script\")); }).observe(this, {childList: true}); } } } customElements.define(\"treescope-run-here\", RunHere); } })(); </script> <treescope-container class=\"treescope_out_715231acf9a74298b22ac5a853c492eb\" ></treescope-container> <treescope-run-here><script type=\"application/octet-stream\"> const root = ( Array.from(document.getElementsByClassName( \"treescope_out_715231acf9a74298b22ac5a853c492eb\")) .filter((elt) => !elt.dataset.setup) )[0]; root.dataset.setup = 1; const msg = document.createElement(\"span\"); msg.style = \"color: #aaaaaa; font-family: monospace; transition: opacity 0.2s; opacity: 0.0;\"; msg.textContent = \"(Loading...)\"; root.state.loadingMsg = msg; root.shadowRoot.appendChild(msg); root.state.chain = new Promise((resolve, reject) => { const observer = new IntersectionObserver((entries) => { for (const entry of entries) { if (entry.isIntersecting) { resolve(); observer.disconnect(); return; } } }, {rootMargin: \"1000px\"}); window.setTimeout(() => { if (root.loadingMsg) { root.loadingMsg.style.opacity = \"1.0\"; } observer.observe(root); }, 0); }); root.state.deferring = false; const _insertNode = (node) => { for (let oldScript of node.querySelectorAll(\"script\")) { let newScript = document.createElement(\"script\"); newScript.type = oldScript.type; newScript.textContent = oldScript.textContent; oldScript.parentNode.replaceChild(newScript, oldScript); } if (root.state.loadingMsg) { root.state.loadingMsg.remove(); root.state.loadingMsg = null; } root.shadowRoot.appendChild(node); }; root.defns.insertContent = ((contentNode, compressed) => { if (compressed) { root.state.deferring = true; } if (root.state.deferring) { root.state.chain = (async () => { await root.state.chain; if (compressed) { const encoded = contentNode.textContent; const blob = new Blob([ Uint8Array.from(atob(encoded), (m) => m.codePointAt(0)) ]); const reader = blob.stream().pipeThrough( new DecompressionStream(\"deflate\") ).pipeThrough( new TextDecoderStream(\"utf-8\") ).getReader(); const parts = []; while (true) { const step = await reader.read(); if (step.done) { break; } parts.push(step.value); } const tpl = document.createElement('template'); tpl.innerHTML = parts.join(\"\"); _insertNode(tpl.content); } else { _insertNode(contentNode.content); } })(); } else { _insertNode(contentNode.content); } }); </script></treescope-run-here><div style=\"display:none\"> <script type=\"application/octet-stream\" >eNrFVk1v4zYQ/SuECmykolIcZ71JZVtALkUPRQ/toYe2MChpJLGmSZUcOfEW+e8dUrId23JQoIvWPtgazsx78ykuLO4kZAkaAFvoFlZGa2R/sVZbgUKrlBmQHMUW5qzSCuOKb4TcpWyjlbYtL0j+3AiE2D+krDUkkcJi7F3HuGtJqrQicc6LdW10p8q40FKbtDeds+Epl6RA/kSJTcoqgaSmEBTOWcvLUqg6llBhyqZF40AUxA2IuiHJXTJzbhRyQZwPZsOfeCusyIUUSMx5h/qgGwuFRigritiKz9CfDnRfF7d9ehaH9MSmU4RpSGYLI1pkLr7lDW9bKQruMnarCwQXvQG+ucnCMFpmlFDCs8hKqJRlS4aNsEkN+BNl+0ddQhgljbaY+HMKDZCtWlAu5KfCeXVGv/4+dvI9V6UEOladlPMeISGaP2utSBo+a7OO2FsO+hcSuaMTMYrCCVswlTYbrgpIlH4OI19fAggvTljcGy3Y/TQiP6Ji4RnrRIKqsWHLJZs4lXepG8DOKMo7A2nhSKzplGN27to2okLHzyu4P6/0vYIQUlepUj8nBv7swOKTEhtfru8M30DY5yRyPuYXQG1nmz6N85EY9xDLPox3ovznHByLvpCo61r2U7nyk0Pd2jpfTgISv2GwpQYfKunY+edkDTuX9MAEjtCgnBSSW/sDDefgNwwOPlcbasNgD/4aUT6p/X2PZ4vbsQEoxZZ5h8vgdH0EDHlOkcLLMpgETCsiQ2Er0nuv7cdjDZ3NPsqAxq5fWGQBxkC5amlnQKNlCcZ3jF8kX/EH9x1WljdJmUBOM0qxJRWp85ygFHG4suxe2anaqmdH2qWwBLrbL7VzRZYxyXOQaZoDzQu8YVX4z3wUr19s8Z3bbMMCnMyPWEL5dZdL7TbkVcxGb8FcIpfcrC3wmsqkLq1TpTE8EzXchpn3mY3mwdukRQPFGsooYl9HRw7OdNxor3/C0G/olN38Np3lxc3/Se/U6CrJT/8BSVdHB9wZ6wrYanpPgRnBFfbLwfpR8ECxnzd7rce/DOoxPIQXvERJhF1VwlhcabVy7T8yWu+NUjKduWkaLRX71/T7ip9TdFFtuKnpZtHT8AN9vEnQLUkxUS6DwwL7VDzefSzL2beTh/LjbDKlpyk83lfT2f3DY1XcBYPRsGpP5/4cnpT7IBZCtd1wOwk87Vy/BKNOhgjJ9NYb0e/g4y3u2MINsg8S53/wl+TJGL5jldQc76d0M0iShH2o0b1CyEd2/kOvjuxvnp2zLg==</script> <treescope-run-here><script type=\"application/octet-stream\"> const root = ( Array.from(document.getElementsByClassName( \"treescope_out_715231acf9a74298b22ac5a853c492eb\")) .filter((elt) => !elt.dataset['step0']) )[0]; root.dataset['step0'] = 1; root.defns.insertContent( this.parentNode.querySelector('script[type=\"application/octet-stream\"]'), true ); this.parentNode.remove(); </script></treescope-run-here> </div>"
      ],
      "text/plain": [
       "<IPython.core.display.HTML object>"
      ]
     },
     "metadata": {},
     "output_type": "display_data"
    },
    {
     "data": {
      "text/html": [
       "<div style=\"display:none\"> <script type=\"application/octet-stream\" >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</script> <treescope-run-here><script type=\"application/octet-stream\"> const root = ( Array.from(document.getElementsByClassName( \"treescope_out_715231acf9a74298b22ac5a853c492eb\")) .filter((elt) => !elt.dataset['step1']) )[0]; root.dataset['step1'] = 1; root.defns.insertContent( this.parentNode.querySelector('script[type=\"application/octet-stream\"]'), true ); this.parentNode.remove(); </script></treescope-run-here> </div>"
      ],
      "text/plain": [
       "<IPython.core.display.HTML object>"
      ]
     },
     "metadata": {},
     "output_type": "display_data"
    },
    {
     "data": {
      "text/html": [
       "<treescope-run-here><script type=\"application/octet-stream\"> const root = ( Array.from(document.getElementsByClassName( \"treescope_out_715231acf9a74298b22ac5a853c492eb\")) .filter((elt) => !elt.dataset.stolen) )[0]; root.dataset.stolen = 1; this.parentNode.replaceChild(root, this); </script></treescope-run-here>"
      ],
      "text/plain": [
       "<jax.Array(0.7265625, dtype=float32)>"
      ]
     },
     "execution_count": 32,
     "metadata": {},
     "output_type": "execute_result"
    }
   ],
   "source": [
    "(res * answer_mask).sum() / answer_mask.sum()"
   ]
  }
 ],
 "metadata": {
  "kernelspec": {
   "display_name": "micrlhf-progress-_SD4q1c9-py3.10",
   "language": "python",
   "name": "python3"
  },
  "language_info": {
   "codemirror_mode": {
    "name": "ipython",
    "version": 3
   },
   "file_extension": ".py",
   "mimetype": "text/x-python",
   "name": "python",
   "nbconvert_exporter": "python",
   "pygments_lexer": "ipython3",
   "version": "3.10.12"
  }
 },
 "nbformat": 4,
 "nbformat_minor": 2
}
