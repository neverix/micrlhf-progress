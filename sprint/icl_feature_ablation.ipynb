{
 "cells": [
  {
   "cell_type": "code",
   "execution_count": 1,
   "metadata": {},
   "outputs": [],
   "source": [
    "import os\n",
    "if \"models\" not in os.listdir(\".\"):\n",
    "    os.chdir(\"../..\")"
   ]
  },
  {
   "cell_type": "code",
   "execution_count": 2,
   "metadata": {},
   "outputs": [],
   "source": [
    "%load_ext autoreload\n",
    "%autoreload 2\n",
    "import penzai\n",
    "import jax_smi\n",
    "jax_smi.initialise_tracking()\n",
    "from penzai import pz\n",
    "pz.ts.register_as_default()\n",
    "pz.ts.register_autovisualize_magic()\n",
    "pz.enable_interactive_context()"
   ]
  },
  {
   "cell_type": "code",
   "execution_count": 3,
   "metadata": {},
   "outputs": [],
   "source": [
    "from micrlhf.llama import LlamaTransformer\n",
    "llama = LlamaTransformer.from_pretrained(\"models/gemma-2b-it.gguf\", from_type=\"gemma\", load_eager=True, device_map=\"tpu:0\")"
   ]
  },
  {
   "cell_type": "code",
   "execution_count": 4,
   "metadata": {},
   "outputs": [],
   "source": [
    "from transformers import AutoTokenizer\n",
    "tokenizer = AutoTokenizer.from_pretrained(\"alpindale/gemma-2b\")\n",
    "tokenizer.padding_side = \"right\""
   ]
  },
  {
   "cell_type": "code",
   "execution_count": 5,
   "metadata": {},
   "outputs": [],
   "source": [
    "from sprint.icl_sfc_utils import Circuitizer"
   ]
  },
  {
   "cell_type": "code",
   "execution_count": 6,
   "metadata": {},
   "outputs": [
    {
     "name": "stderr",
     "output_type": "stream",
     "text": [
      "fatal: destination path 'data/itv' already exists and is not an empty directory.\n"
     ]
    }
   ],
   "source": [
    "from sprint.task_vector_utils import load_tasks, ICLRunner\n",
    "tasks = load_tasks()"
   ]
  },
  {
   "cell_type": "code",
   "execution_count": 7,
   "metadata": {},
   "outputs": [],
   "source": [
    "task_names = [\"en_es\", \"antonyms\", \"person_profession\"]\n",
    "task_name = task_names[0]\n",
    "task_name = \"antonyms\""
   ]
  },
  {
   "cell_type": "code",
   "execution_count": 8,
   "metadata": {},
   "outputs": [],
   "source": [
    "import json\n",
    "\n",
    "with open(\"cleanup_results.jsonl\") as f:\n",
    "    lines = f.readlines()\n",
    "    results = [json.loads(line) for line in lines]"
   ]
  },
  {
   "cell_type": "code",
   "execution_count": 9,
   "metadata": {},
   "outputs": [
    {
     "name": "stdout",
     "output_type": "stream",
     "text": [
      "162\n",
      "162\n",
      "Setting up masks...\n"
     ]
    },
    {
     "name": "stdout",
     "output_type": "stream",
     "text": [
      "Running metrics...\n",
      "Setting up RMS...\n"
     ]
    },
    {
     "data": {
      "application/vnd.jupyter.widget-view+json": {
       "model_id": "4103c129437044acb90043f3e6ea4059",
       "version_major": 2,
       "version_minor": 0
      },
      "text/plain": [
       "  0%|          | 0/18 [00:00<?, ?it/s]"
      ]
     },
     "metadata": {},
     "output_type": "display_data"
    },
    {
     "name": "stdout",
     "output_type": "stream",
     "text": [
      "Loading SAEs...\n"
     ]
    },
    {
     "data": {
      "application/vnd.jupyter.widget-view+json": {
       "model_id": "214f9d8f2a5a4f86aea05aeff30d4104",
       "version_major": 2,
       "version_minor": 0
      },
      "text/plain": [
       "  0%|          | 0/12 [00:00<?, ?it/s]"
      ]
     },
     "metadata": {},
     "output_type": "display_data"
    },
    {
     "name": "stdout",
     "output_type": "stream",
     "text": [
      "Running node IEs...\n"
     ]
    },
    {
     "data": {
      "application/vnd.jupyter.widget-view+json": {
       "model_id": "1d89b90242764f659b215f3bf5f188b9",
       "version_major": 2,
       "version_minor": 0
      },
      "text/plain": [
       "  0%|          | 0/12 [00:00<?, ?it/s]"
      ]
     },
     "metadata": {},
     "output_type": "display_data"
    },
    {
     "data": {
      "application/vnd.jupyter.widget-view+json": {
       "model_id": "2eda335b91ce46f08339cad7f98699eb",
       "version_major": 2,
       "version_minor": 0
      },
      "text/plain": [
       "  0%|          | 0/12 [00:00<?, ?it/s]"
      ]
     },
     "metadata": {},
     "output_type": "display_data"
    },
    {
     "data": {
      "application/vnd.jupyter.widget-view+json": {
       "model_id": "76e1aa9732ed4132a676de2e044de41c",
       "version_major": 2,
       "version_minor": 0
      },
      "text/plain": [
       "  0%|          | 0/11 [00:00<?, ?it/s]"
      ]
     },
     "metadata": {},
     "output_type": "display_data"
    }
   ],
   "source": [
    "def check_if_single_token(token):\n",
    "    return len(tokenizer.tokenize(token)) == 1\n",
    "\n",
    "task = tasks[task_name]\n",
    "\n",
    "print(len(task))\n",
    "\n",
    "# task = {\n",
    "#     k:v for k,v in task.items() if check_if_single_token(k) and check_if_single_token(v)\n",
    "# }\n",
    "\n",
    "print(len(task))\n",
    "\n",
    "pairs = list(task.items())\n",
    "\n",
    "batch_size = 8 \n",
    "n_shot=5\n",
    "if task_name.startswith(\"algo\"):\n",
    "    n_shot = 8\n",
    "max_seq_len = 128\n",
    "seed = 10\n",
    "\n",
    "prompt = \"Follow the pattern:\\n{}\"\n",
    "\n",
    "runner = ICLRunner(task_name, pairs, batch_size=batch_size, n_shot=n_shot, max_seq_len=max_seq_len, seed=seed, prompt=prompt, use_same_examples=False, use_same_target=False)\n",
    "\n",
    "\n",
    "layers = list(range(5, 17))\n",
    "circuitizer = Circuitizer(llama, tokenizer, runner, layers, prompt)"
   ]
  },
  {
   "cell_type": "code",
   "execution_count": 10,
   "metadata": {},
   "outputs": [
    {
     "data": {
      "text/html": [
       "<script> (()=>{ if (customElements.get('treescope-container') === undefined) { class TreescopeContainer extends HTMLElement { constructor() { super(); this.attachShadow({mode: \"open\"}); this.defns = {}; this.state = {}; } } customElements.define(\"treescope-container\", TreescopeContainer); } if (customElements.get('treescope-run-here') === undefined) { class RunHere extends HTMLElement { constructor() { super() } connectedCallback() { const run = child => { const fn = new Function(child.textContent); child.textContent = \"\"; fn.call(this); this.remove(); }; const child = this.querySelector(\"script\"); if (child) { run(child); } else { new MutationObserver(()=>{ run(this.querySelector(\"script\")); }).observe(this, {childList: true}); } } } customElements.define(\"treescope-run-here\", RunHere); } })(); </script> <treescope-container class=\"treescope_out_244de3e1fb5e41dd9cbc57696a55d708\" ></treescope-container> <treescope-run-here><script type=\"application/octet-stream\"> const root = ( Array.from(document.getElementsByClassName( \"treescope_out_244de3e1fb5e41dd9cbc57696a55d708\")) .filter((elt) => !elt.dataset.setup) )[0]; root.dataset.setup = 1; const msg = document.createElement(\"span\"); msg.style = \"color: #aaaaaa; font-family: monospace; transition: opacity 0.2s; opacity: 0.0;\"; msg.textContent = \"(Loading...)\"; root.state.loadingMsg = msg; root.shadowRoot.appendChild(msg); root.state.chain = new Promise((resolve, reject) => { const observer = new IntersectionObserver((entries) => { for (const entry of entries) { if (entry.isIntersecting) { resolve(); observer.disconnect(); return; } } }, {rootMargin: \"1000px\"}); window.setTimeout(() => { if (root.loadingMsg) { root.loadingMsg.style.opacity = \"1.0\"; } observer.observe(root); }, 0); }); root.state.deferring = false; const _insertNode = (node) => { for (let oldScript of node.querySelectorAll(\"script\")) { let newScript = document.createElement(\"script\"); newScript.type = oldScript.type; newScript.textContent = oldScript.textContent; oldScript.parentNode.replaceChild(newScript, oldScript); } if (root.state.loadingMsg) { root.state.loadingMsg.remove(); root.state.loadingMsg = null; } root.shadowRoot.appendChild(node); }; root.defns.insertContent = ((contentNode, compressed) => { if (compressed) { root.state.deferring = true; } if (root.state.deferring) { root.state.chain = (async () => { await root.state.chain; if (compressed) { const encoded = contentNode.textContent; const blob = new Blob([ Uint8Array.from(atob(encoded), (m) => m.codePointAt(0)) ]); const reader = blob.stream().pipeThrough( new DecompressionStream(\"deflate\") ).pipeThrough( new TextDecoderStream(\"utf-8\") ).getReader(); const parts = []; while (true) { const step = await reader.read(); if (step.done) { break; } parts.push(step.value); } const tpl = document.createElement('template'); tpl.innerHTML = parts.join(\"\"); _insertNode(tpl.content); } else { _insertNode(contentNode.content); } })(); } else { _insertNode(contentNode.content); } }); </script></treescope-run-here><div style=\"display:none\"> <script type=\"application/octet-stream\" >eNqNVE1v2zAM/SuCd6gNzO7H0KFLYgO9DDsMO2yHHYYhUGzaFiJTmkQny4b+91FykqVtVgw5xCKpx/cokgtPOw1VQQ7A18bC0hlD4rewxitSBmfCgZakNjAXrUHKWzkovZuJwaDxVtZs3/aKII+HmbCOLVp5yiN0TjvLVjTI5pWs150zIzZ5bbRxs+nqXOxPK80BjKca6meiVcRhSIA0F1Y2jcIu19DSTNzUfUiCkPegup4t18VtgEGSijkfr+0/8o3yaqW0ImYuRzLH2FwhOYVe1blXv2Dy7uk+LC6n8iyO5cndiJzTsc3XTlkSQV95Ia3VqpahYpemJgjqHcjhokrTrKy4oJzPk2igRS9KQb3yRQf0mav9yTSQZkVvPBXRz9KAxNICBsn3dUANl759P+f5ILHRwG4ctZ5PGQqm+cUYZGu6NW6diVMO5iubguuRmVQdjBZca9wgsYYCzTbN4vtygvSZR+TTpYV4c5MxjmpF+oR1oQE76kVZiqsQ8iJ1BzQ65LoL0B7+EutHDMyeQvtetRT4xYDw8cC/f2RIuauwMdvCwY8RPN2jGuJzvXdygHSqSRYw5s8S2dH3UxnnZzQeUpSTjBdU/j+HwGJ6SDJdp6epXMbJ4W61AStYQNNrARtu8P1LBnbxXKxhF4qeuCQQ2gcXtZbef+Th3OOmyRFzOXAbJofkDxnXk9s/9ni1uDw3AI3aiAhYJo/XRyJIrlgp/CyTq0QYZDIsGznupbY/rzUNdw4qEx67aWHFjbHEcViBi50SF8irq3d317dvT0eX1xIeaPY8q47XxnpJ0jGNRDSSZM70rKS+TJLH4ac5kur6jjHZWx3/uADVH8yh25I=</script> <treescope-run-here><script type=\"application/octet-stream\"> const root = ( Array.from(document.getElementsByClassName( \"treescope_out_244de3e1fb5e41dd9cbc57696a55d708\")) .filter((elt) => !elt.dataset['step0']) )[0]; root.dataset['step0'] = 1; root.defns.insertContent( this.parentNode.querySelector('script[type=\"application/octet-stream\"]'), true ); this.parentNode.remove(); </script></treescope-run-here> </div>"
      ],
      "text/plain": [
       "<IPython.core.display.HTML object>"
      ]
     },
     "metadata": {},
     "output_type": "display_data"
    },
    {
     "data": {
      "text/html": [
       "<treescope-run-here><script type=\"application/octet-stream\"> const root = ( Array.from(document.getElementsByClassName( \"treescope_out_244de3e1fb5e41dd9cbc57696a55d708\")) .filter((elt) => !elt.dataset.stolen) )[0]; root.dataset.stolen = 1; this.parentNode.replaceChild(root, this); </script></treescope-run-here>"
      ],
      "text/plain": [
       "18"
      ]
     },
     "execution_count": 10,
     "metadata": {},
     "output_type": "execute_result"
    }
   ],
   "source": [
    "llama.config.num_layers"
   ]
  },
  {
   "cell_type": "code",
   "execution_count": 11,
   "metadata": {},
   "outputs": [],
   "source": [
    "second_task_name = \"antonyms\"\n",
    "\n",
    "second_task = tasks[second_task_name]\n",
    "\n",
    "second_task = {\n",
    "    k:v for k,v in second_task.items() if check_if_single_token(k) and check_if_single_token(v)\n",
    "}\n",
    "\n",
    "second_pairs = list(second_task.items())\n",
    "\n",
    "second_runner = ICLRunner(second_task_name, second_pairs, batch_size=4, n_shot=8, max_seq_len=max_seq_len, seed=seed, prompt=prompt, use_same_examples=True, use_same_target=True)"
   ]
  },
  {
   "cell_type": "code",
   "execution_count": 12,
   "metadata": {},
   "outputs": [
    {
     "data": {
      "text/html": [
       "<script> (()=>{ if (customElements.get('treescope-container') === undefined) { class TreescopeContainer extends HTMLElement { constructor() { super(); this.attachShadow({mode: \"open\"}); this.defns = {}; this.state = {}; } } customElements.define(\"treescope-container\", TreescopeContainer); } if (customElements.get('treescope-run-here') === undefined) { class RunHere extends HTMLElement { constructor() { super() } connectedCallback() { const run = child => { const fn = new Function(child.textContent); child.textContent = \"\"; fn.call(this); this.remove(); }; const child = this.querySelector(\"script\"); if (child) { run(child); } else { new MutationObserver(()=>{ run(this.querySelector(\"script\")); }).observe(this, {childList: true}); } } } customElements.define(\"treescope-run-here\", RunHere); } })(); </script> <treescope-container class=\"treescope_out_e611d87f2c124e0bb15acb004099f91c\" ></treescope-container> <treescope-run-here><script type=\"application/octet-stream\"> const root = ( Array.from(document.getElementsByClassName( \"treescope_out_e611d87f2c124e0bb15acb004099f91c\")) .filter((elt) => !elt.dataset.setup) )[0]; root.dataset.setup = 1; const msg = document.createElement(\"span\"); msg.style = \"color: #aaaaaa; font-family: monospace; transition: opacity 0.2s; opacity: 0.0;\"; msg.textContent = \"(Loading...)\"; root.state.loadingMsg = msg; root.shadowRoot.appendChild(msg); root.state.chain = new Promise((resolve, reject) => { const observer = new IntersectionObserver((entries) => { for (const entry of entries) { if (entry.isIntersecting) { resolve(); observer.disconnect(); return; } } }, {rootMargin: \"1000px\"}); window.setTimeout(() => { if (root.loadingMsg) { root.loadingMsg.style.opacity = \"1.0\"; } observer.observe(root); }, 0); }); root.state.deferring = false; const _insertNode = (node) => { for (let oldScript of node.querySelectorAll(\"script\")) { let newScript = document.createElement(\"script\"); newScript.type = oldScript.type; newScript.textContent = oldScript.textContent; oldScript.parentNode.replaceChild(newScript, oldScript); } if (root.state.loadingMsg) { root.state.loadingMsg.remove(); root.state.loadingMsg = null; } root.shadowRoot.appendChild(node); }; root.defns.insertContent = ((contentNode, compressed) => { if (compressed) { root.state.deferring = true; } if (root.state.deferring) { root.state.chain = (async () => { await root.state.chain; if (compressed) { const encoded = contentNode.textContent; const blob = new Blob([ Uint8Array.from(atob(encoded), (m) => m.codePointAt(0)) ]); const reader = blob.stream().pipeThrough( new DecompressionStream(\"deflate\") ).pipeThrough( new TextDecoderStream(\"utf-8\") ).getReader(); const parts = []; while (true) { const step = await reader.read(); if (step.done) { break; } parts.push(step.value); } const tpl = document.createElement('template'); tpl.innerHTML = parts.join(\"\"); _insertNode(tpl.content); } else { _insertNode(contentNode.content); } })(); } else { _insertNode(contentNode.content); } }); </script></treescope-run-here><div style=\"display:none\"> <script type=\"application/octet-stream\" >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</script> <treescope-run-here><script type=\"application/octet-stream\"> const root = ( Array.from(document.getElementsByClassName( \"treescope_out_e611d87f2c124e0bb15acb004099f91c\")) .filter((elt) => !elt.dataset['step0']) )[0]; root.dataset['step0'] = 1; root.defns.insertContent( this.parentNode.querySelector('script[type=\"application/octet-stream\"]'), true ); this.parentNode.remove(); </script></treescope-run-here> </div>"
      ],
      "text/plain": [
       "<IPython.core.display.HTML object>"
      ]
     },
     "metadata": {},
     "output_type": "display_data"
    },
    {
     "data": {
      "text/html": [
       "<treescope-run-here><script type=\"application/octet-stream\"> const root = ( Array.from(document.getElementsByClassName( \"treescope_out_e611d87f2c124e0bb15acb004099f91c\")) .filter((elt) => !elt.dataset.stolen) )[0]; root.dataset.stolen = 1; this.parentNode.replaceChild(root, this); </script></treescope-run-here>"
      ],
      "text/plain": [
       "[[('new', 'old'),\n",
       "  ('dim', 'bright'),\n",
       "  ('innocent', 'guilty'),\n",
       "  ('dark', 'light'),\n",
       "  ('even', 'odd'),\n",
       "  ('go', 'stop'),\n",
       "  ('junior', 'senior'),\n",
       "  ('young', 'old')],\n",
       " [('new', 'old'),\n",
       "  ('dim', 'bright'),\n",
       "  ('innocent', 'guilty'),\n",
       "  ('dark', 'light'),\n",
       "  ('even', 'odd'),\n",
       "  ('go', 'stop'),\n",
       "  ('junior', 'senior'),\n",
       "  ('smooth', 'rough')],\n",
       " [('new', 'old'),\n",
       "  ('dim', 'bright'),\n",
       "  ('innocent', 'guilty'),\n",
       "  ('dark', 'light'),\n",
       "  ('even', 'odd'),\n",
       "  ('go', 'stop'),\n",
       "  ('junior', 'senior'),\n",
       "  ('new', 'old')],\n",
       " [('new', 'old'),\n",
       "  ('dim', 'bright'),\n",
       "  ('innocent', 'guilty'),\n",
       "  ('dark', 'light'),\n",
       "  ('even', 'odd'),\n",
       "  ('go', 'stop'),\n",
       "  ('junior', 'senior'),\n",
       "  ('parent', 'child')]]"
      ]
     },
     "execution_count": 12,
     "metadata": {},
     "output_type": "execute_result"
    }
   ],
   "source": [
    "second_runner.train_pairs"
   ]
  },
  {
   "cell_type": "code",
   "execution_count": 13,
   "metadata": {},
   "outputs": [
    {
     "data": {
      "text/html": [
       "<script> (()=>{ if (customElements.get('treescope-container') === undefined) { class TreescopeContainer extends HTMLElement { constructor() { super(); this.attachShadow({mode: \"open\"}); this.defns = {}; this.state = {}; } } customElements.define(\"treescope-container\", TreescopeContainer); } if (customElements.get('treescope-run-here') === undefined) { class RunHere extends HTMLElement { constructor() { super() } connectedCallback() { const run = child => { const fn = new Function(child.textContent); child.textContent = \"\"; fn.call(this); this.remove(); }; const child = this.querySelector(\"script\"); if (child) { run(child); } else { new MutationObserver(()=>{ run(this.querySelector(\"script\")); }).observe(this, {childList: true}); } } } customElements.define(\"treescope-run-here\", RunHere); } })(); </script> <treescope-container class=\"treescope_out_2a1a5ccd568446aa9f68ad8f0dfe60cb\" ></treescope-container> <treescope-run-here><script type=\"application/octet-stream\"> const root = ( Array.from(document.getElementsByClassName( \"treescope_out_2a1a5ccd568446aa9f68ad8f0dfe60cb\")) .filter((elt) => !elt.dataset.setup) )[0]; root.dataset.setup = 1; const msg = document.createElement(\"span\"); msg.style = \"color: #aaaaaa; font-family: monospace; transition: opacity 0.2s; opacity: 0.0;\"; msg.textContent = \"(Loading...)\"; root.state.loadingMsg = msg; root.shadowRoot.appendChild(msg); root.state.chain = new Promise((resolve, reject) => { const observer = new IntersectionObserver((entries) => { for (const entry of entries) { if (entry.isIntersecting) { resolve(); observer.disconnect(); return; } } }, {rootMargin: \"1000px\"}); window.setTimeout(() => { if (root.loadingMsg) { root.loadingMsg.style.opacity = \"1.0\"; } observer.observe(root); }, 0); }); root.state.deferring = false; const _insertNode = (node) => { for (let oldScript of node.querySelectorAll(\"script\")) { let newScript = document.createElement(\"script\"); newScript.type = oldScript.type; newScript.textContent = oldScript.textContent; oldScript.parentNode.replaceChild(newScript, oldScript); } if (root.state.loadingMsg) { root.state.loadingMsg.remove(); root.state.loadingMsg = null; } root.shadowRoot.appendChild(node); }; root.defns.insertContent = ((contentNode, compressed) => { if (compressed) { root.state.deferring = true; } if (root.state.deferring) { root.state.chain = (async () => { await root.state.chain; if (compressed) { const encoded = contentNode.textContent; const blob = new Blob([ Uint8Array.from(atob(encoded), (m) => m.codePointAt(0)) ]); const reader = blob.stream().pipeThrough( new DecompressionStream(\"deflate\") ).pipeThrough( new TextDecoderStream(\"utf-8\") ).getReader(); const parts = []; while (true) { const step = await reader.read(); if (step.done) { break; } parts.push(step.value); } const tpl = document.createElement('template'); tpl.innerHTML = parts.join(\"\"); _insertNode(tpl.content); } else { _insertNode(contentNode.content); } })(); } else { _insertNode(contentNode.content); } }); </script></treescope-run-here><div style=\"display:none\"> <script type=\"application/octet-stream\" >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</script> <treescope-run-here><script type=\"application/octet-stream\"> const root = ( Array.from(document.getElementsByClassName( \"treescope_out_2a1a5ccd568446aa9f68ad8f0dfe60cb\")) .filter((elt) => !elt.dataset['step0']) )[0]; root.dataset['step0'] = 1; root.defns.insertContent( this.parentNode.querySelector('script[type=\"application/octet-stream\"]'), true ); this.parentNode.remove(); </script></treescope-run-here> </div>"
      ],
      "text/plain": [
       "<IPython.core.display.HTML object>"
      ]
     },
     "metadata": {},
     "output_type": "display_data"
    },
    {
     "data": {
      "text/html": [
       "<treescope-run-here><script type=\"application/octet-stream\"> const root = ( Array.from(document.getElementsByClassName( \"treescope_out_2a1a5ccd568446aa9f68ad8f0dfe60cb\")) .filter((elt) => !elt.dataset.stolen) )[0]; root.dataset.stolen = 1; this.parentNode.replaceChild(root, this); </script></treescope-run-here>"
      ],
      "text/plain": [
       "70"
      ]
     },
     "execution_count": 13,
     "metadata": {},
     "output_type": "execute_result"
    }
   ],
   "source": [
    "circuitizer.train_tokens[0].shape[0] - (circuitizer.train_tokens[0] == 0).sum()"
   ]
  },
  {
   "cell_type": "code",
   "execution_count": 14,
   "metadata": {},
   "outputs": [
    {
     "data": {
      "text/html": [
       "<script> (()=>{ if (customElements.get('treescope-container') === undefined) { class TreescopeContainer extends HTMLElement { constructor() { super(); this.attachShadow({mode: \"open\"}); this.defns = {}; this.state = {}; } } customElements.define(\"treescope-container\", TreescopeContainer); } if (customElements.get('treescope-run-here') === undefined) { class RunHere extends HTMLElement { constructor() { super() } connectedCallback() { const run = child => { const fn = new Function(child.textContent); child.textContent = \"\"; fn.call(this); this.remove(); }; const child = this.querySelector(\"script\"); if (child) { run(child); } else { new MutationObserver(()=>{ run(this.querySelector(\"script\")); }).observe(this, {childList: true}); } } } customElements.define(\"treescope-run-here\", RunHere); } })(); </script> <treescope-container class=\"treescope_out_7353d87e0df04c36a462b0671b73b68b\" ></treescope-container> <treescope-run-here><script type=\"application/octet-stream\"> const root = ( Array.from(document.getElementsByClassName( \"treescope_out_7353d87e0df04c36a462b0671b73b68b\")) .filter((elt) => !elt.dataset.setup) )[0]; root.dataset.setup = 1; const msg = document.createElement(\"span\"); msg.style = \"color: #aaaaaa; font-family: monospace; transition: opacity 0.2s; opacity: 0.0;\"; msg.textContent = \"(Loading...)\"; root.state.loadingMsg = msg; root.shadowRoot.appendChild(msg); root.state.chain = new Promise((resolve, reject) => { const observer = new IntersectionObserver((entries) => { for (const entry of entries) { if (entry.isIntersecting) { resolve(); observer.disconnect(); return; } } }, {rootMargin: \"1000px\"}); window.setTimeout(() => { if (root.loadingMsg) { root.loadingMsg.style.opacity = \"1.0\"; } observer.observe(root); }, 0); }); root.state.deferring = false; const _insertNode = (node) => { for (let oldScript of node.querySelectorAll(\"script\")) { let newScript = document.createElement(\"script\"); newScript.type = oldScript.type; newScript.textContent = oldScript.textContent; oldScript.parentNode.replaceChild(newScript, oldScript); } if (root.state.loadingMsg) { root.state.loadingMsg.remove(); root.state.loadingMsg = null; } root.shadowRoot.appendChild(node); }; root.defns.insertContent = ((contentNode, compressed) => { if (compressed) { root.state.deferring = true; } if (root.state.deferring) { root.state.chain = (async () => { await root.state.chain; if (compressed) { const encoded = contentNode.textContent; const blob = new Blob([ Uint8Array.from(atob(encoded), (m) => m.codePointAt(0)) ]); const reader = blob.stream().pipeThrough( new DecompressionStream(\"deflate\") ).pipeThrough( new TextDecoderStream(\"utf-8\") ).getReader(); const parts = []; while (true) { const step = await reader.read(); if (step.done) { break; } parts.push(step.value); } const tpl = document.createElement('template'); tpl.innerHTML = parts.join(\"\"); _insertNode(tpl.content); } else { _insertNode(contentNode.content); } })(); } else { _insertNode(contentNode.content); } }); </script></treescope-run-here><div style=\"display:none\"> <script type=\"application/octet-stream\" >eNrFVs9v6zYM/lcED3h1htp12qYtnB/Auww7DDu8HXbYBkO2aFuIInmS3DR7yP8+SnaSJnGyDSu2+BCbIvl9JEVKM2M3Ahax1QCmUA1kWilLvpJGGW65kinRIKjlrzAlpZI2KumKi01KVkoq09AC5euaW4j8R0oajRLBjY2868huGpRKJVGc02JZadVKFhVKKJ12plPSf+UCFdAfZ7ZOScktqkkL0k5JQxnjsooElDYl90XtQCRENfCqRsk4njg30lKOnPdm/Uv0yg3PueAWmdPWqr1uxKXVXBpeRIb/Ad1qT3c7u+vSM9unJ9KtREyNMlNo3lji4pvf0KYRvKAuY3eqsOCi10BXN4swHM0XmFDEM5YwKKUhc2JrbuIK7BfM9o+KQTiKa2Vs7NcxNLAka0C6kD8Xzqsz+uW3oZXvqWQCcFm2Qkw7hBhp/qSURGm4Vno5Iu85qJ9R5JaOxJYXTtiALpVeUVlALNU6HPn6IkB4tkKizmhGHu5H6IeXJDxhHQuQla3JfE4Sp3KVugbbaol5JyAMHIjVrXTMTl2bmpfW8fMK7mWLzwWEEHeVZGoda/i9BWM/S77y5fpO0xWEXU5Gzsf0DKhpTd2lcToQ4w5i3oVxJcq/z8Gx6AppVVWJrisz3zm4Wxvny0lA2FsCr7jB+0o6dv47XsLGJT3QgSPUK8eFoMb8gM3Z+w2Dvc9shdsw2IFvR5hP3P5+jy9md0MNwPgr8Q7nwfH4CIilOUYKb/MgCYiSSAbDlqh3bdsPxxo6m12UAbZdN7DQArQGljU4M6BWgoH2O8YPkm/os3v6keVNUsItxR7F2OIS1WmOUBI5XBh2W3KslnXsUJtxg6Cb3VA7VSQLImgOIk1zwH6Bd6wK/5sO4nWDLRq7ydYPwGR6wOLSj7tcKDchL2LW6hX0OTKjemmAVlgmeW6dSmXDE1FNTbjwPheDefA2aVFDsQQ2GpFvRwcOznTYaKd/xNBP6JTc/Ho/yYub/5PesdFFkk//AUlXRwfcauMK2Cg8p0AP4HLzcbC+FTxQ5PvNXNrjH4N6CM/Cmz1HibnJSq6NzZTM3PYfaK1rrRTfT1w3DZaK/Gv6XcVPKbqoVlRXeLPoaPiG3uJhRd20WlMt8WDIduneTYaypMX4YUCxwWn/dX/70f1lx/nsUXpRlMQ+2MMVK/UXJKqjSlPGsZrh+GHCoLolSlNZAUlIEj8V9S2x+I23N406nYj4Y2CAylm4H7TtT3K2C2Ybr2uQGSZJ0MYA++vh+4/BryB0I9djeCV4a/Akv6jzETyGIE7volgpSTibB/sjsHycPD+/0HFCX9jjy4TmNHlJkvyBjZOynDyxoDfqD+vjk+O0oqjc0Z5x2bT9/TbwRHP1Fgw66WPCxS4evDB4Y/zvfb3HHzq6g8UnYaeyXTWbWOJppekGc2ufHsPJLSYnjsmnyroLCfpZnPy9932UxeCgiXeVxZ8eK5LR</script> <treescope-run-here><script type=\"application/octet-stream\"> const root = ( Array.from(document.getElementsByClassName( \"treescope_out_7353d87e0df04c36a462b0671b73b68b\")) .filter((elt) => !elt.dataset['step0']) )[0]; root.dataset['step0'] = 1; root.defns.insertContent( this.parentNode.querySelector('script[type=\"application/octet-stream\"]'), true ); this.parentNode.remove(); </script></treescope-run-here> </div>"
      ],
      "text/plain": [
       "<IPython.core.display.HTML object>"
      ]
     },
     "metadata": {},
     "output_type": "display_data"
    },
    {
     "data": {
      "text/html": [
       "<div style=\"display:none\"> <script type=\"application/octet-stream\" >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</script> <treescope-run-here><script type=\"application/octet-stream\"> const root = ( Array.from(document.getElementsByClassName( \"treescope_out_7353d87e0df04c36a462b0671b73b68b\")) .filter((elt) => !elt.dataset['step1']) )[0]; root.dataset['step1'] = 1; root.defns.insertContent( this.parentNode.querySelector('script[type=\"application/octet-stream\"]'), true ); this.parentNode.remove(); </script></treescope-run-here> </div>"
      ],
      "text/plain": [
       "<IPython.core.display.HTML object>"
      ]
     },
     "metadata": {},
     "output_type": "display_data"
    },
    {
     "data": {
      "text/html": [
       "<treescope-run-here><script type=\"application/octet-stream\"> const root = ( Array.from(document.getElementsByClassName( \"treescope_out_7353d87e0df04c36a462b0671b73b68b\")) .filter((elt) => !elt.dataset.stolen) )[0]; root.dataset.stolen = 1; this.parentNode.replaceChild(root, this); </script></treescope-run-here>"
      ],
      "text/plain": [
       "array([3978, 3582,  108, 8351, 3978])"
      ]
     },
     "execution_count": 14,
     "metadata": {},
     "output_type": "execute_result"
    }
   ],
   "source": [
    "circuitizer.train_tokens[0][64:69]"
   ]
  },
  {
   "cell_type": "code",
   "execution_count": 17,
   "metadata": {},
   "outputs": [
    {
     "data": {
      "application/vnd.jupyter.widget-view+json": {
       "model_id": "086979498765441eb9a87e786d226fb5",
       "version_major": 2,
       "version_minor": 0
      },
      "text/plain": [
       "  0%|          | 0/1 [00:00<?, ?it/s]"
      ]
     },
     "metadata": {},
     "output_type": "display_data"
    },
    {
     "name": "stdout",
     "output_type": "stream",
     "text": [
      "-20.0 -105.0\n"
     ]
    }
   ],
   "source": [
    "\n",
    "layers = [10,11,12,13,14,15,16]\n",
    "orig_metric = circuitizer.ablated_metric(llama).tolist()\n",
    "zero_metric = circuitizer.run_ablated_metrics([100000], layers=layers)[0][0]\n",
    "\n",
    "print(orig_metric, zero_metric)"
   ]
  },
  {
   "cell_type": "code",
   "execution_count": 27,
   "metadata": {},
   "outputs": [
    {
     "data": {
      "application/vnd.jupyter.widget-view+json": {
       "model_id": "7acc363b4b364838a273338e15550103",
       "version_major": 2,
       "version_minor": 0
      },
      "text/plain": [
       "  0%|          | 0/150 [00:00<?, ?it/s]"
      ]
     },
     "metadata": {},
     "output_type": "display_data"
    }
   ],
   "source": [
    "import numpy as np\n",
    "# thresholds = np.linspace(0, 1e-4, 100)\n",
    "# thresholds = np.linspace(1.4 * 1e-4, 1.45 * 1e-4, 200)\n",
    "thresholds = np.logspace(-5, -1, 150)\n",
    "topks = [4, 6, 12, 16, 24, 32]\n",
    "\n",
    "inverse = False\n",
    "do_abs = False\n",
    "mean_ablate = False\n",
    "average_over_positions = False\n",
    "\n",
    "\n",
    "ablated_metrics, n_nodes_counts = circuitizer.run_ablated_metrics(thresholds, inverse=inverse, \n",
    "                                                                  do_abs=do_abs, mean_ablate=mean_ablate, \n",
    "                                                                  average_over_positions=average_over_positions,\n",
    "                                                                  token_prefix=None, layers=layers)\n",
    "\n",
    "faithfullness = np.array(ablated_metrics)\n",
    "faithfullness = (faithfullness - zero_metric) / (orig_metric - zero_metric)\n",
    "\n",
    "\n",
    "\n",
    "# target_metric = (max(ablated_metrics) - min(ablated_metrics)) * 0.95 + min(ablated_metrics)\n",
    "# target_threshold = [threshold for threshold, metric in reversed(list(zip(thresholds, ablated_metrics))) if metric > target_metric][0]"
   ]
  },
  {
   "cell_type": "code",
   "execution_count": 15,
   "metadata": {},
   "outputs": [
    {
     "name": "stdout",
     "output_type": "stream",
     "text": [
      "-0.6205566406250007\n",
      "1e-07\n"
     ]
    }
   ],
   "source": [
    "target_metric = (max(ablated_metrics) - min(ablated_metrics)) * 0.95 + min(ablated_metrics)\n",
    "\n",
    "print(target_metric)\n",
    "target_threshold = [threshold for threshold, metric in list(zip(thresholds, ablated_metrics)) if metric > target_metric][0]\n",
    "print(target_threshold)"
   ]
  },
  {
   "cell_type": "code",
   "execution_count": 78,
   "metadata": {},
   "outputs": [
    {
     "data": {
      "text/html": [
       "<script> (()=>{ if (customElements.get('treescope-container') === undefined) { class TreescopeContainer extends HTMLElement { constructor() { super(); this.attachShadow({mode: \"open\"}); this.defns = {}; this.state = {}; } } customElements.define(\"treescope-container\", TreescopeContainer); } if (customElements.get('treescope-run-here') === undefined) { class RunHere extends HTMLElement { constructor() { super() } connectedCallback() { const run = child => { const fn = new Function(child.textContent); child.textContent = \"\"; fn.call(this); this.remove(); }; const child = this.querySelector(\"script\"); if (child) { run(child); } else { new MutationObserver(()=>{ run(this.querySelector(\"script\")); }).observe(this, {childList: true}); } } } customElements.define(\"treescope-run-here\", RunHere); } })(); </script> <treescope-container class=\"treescope_out_24cb1b14076b46e08a2db1989c7efb74\" ></treescope-container> <treescope-run-here><script type=\"application/octet-stream\"> const root = ( Array.from(document.getElementsByClassName( \"treescope_out_24cb1b14076b46e08a2db1989c7efb74\")) .filter((elt) => !elt.dataset.setup) )[0]; root.dataset.setup = 1; const msg = document.createElement(\"span\"); msg.style = \"color: #aaaaaa; font-family: monospace; transition: opacity 0.2s; opacity: 0.0;\"; msg.textContent = \"(Loading...)\"; root.state.loadingMsg = msg; root.shadowRoot.appendChild(msg); root.state.chain = new Promise((resolve, reject) => { const observer = new IntersectionObserver((entries) => { for (const entry of entries) { if (entry.isIntersecting) { resolve(); observer.disconnect(); return; } } }, {rootMargin: \"1000px\"}); window.setTimeout(() => { if (root.loadingMsg) { root.loadingMsg.style.opacity = \"1.0\"; } observer.observe(root); }, 0); }); root.state.deferring = false; const _insertNode = (node) => { for (let oldScript of node.querySelectorAll(\"script\")) { let newScript = document.createElement(\"script\"); newScript.type = oldScript.type; newScript.textContent = oldScript.textContent; oldScript.parentNode.replaceChild(newScript, oldScript); } if (root.state.loadingMsg) { root.state.loadingMsg.remove(); root.state.loadingMsg = null; } root.shadowRoot.appendChild(node); }; root.defns.insertContent = ((contentNode, compressed) => { if (compressed) { root.state.deferring = true; } if (root.state.deferring) { root.state.chain = (async () => { await root.state.chain; if (compressed) { const encoded = contentNode.textContent; const blob = new Blob([ Uint8Array.from(atob(encoded), (m) => m.codePointAt(0)) ]); const reader = blob.stream().pipeThrough( new DecompressionStream(\"deflate\") ).pipeThrough( new TextDecoderStream(\"utf-8\") ).getReader(); const parts = []; while (true) { const step = await reader.read(); if (step.done) { break; } parts.push(step.value); } const tpl = document.createElement('template'); tpl.innerHTML = parts.join(\"\"); _insertNode(tpl.content); } else { _insertNode(contentNode.content); } })(); } else { _insertNode(contentNode.content); } }); </script></treescope-run-here><div style=\"display:none\"> <script type=\"application/octet-stream\" >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</script> <treescope-run-here><script type=\"application/octet-stream\"> const root = ( Array.from(document.getElementsByClassName( \"treescope_out_24cb1b14076b46e08a2db1989c7efb74\")) .filter((elt) => !elt.dataset['step0']) )[0]; root.dataset['step0'] = 1; root.defns.insertContent( this.parentNode.querySelector('script[type=\"application/octet-stream\"]'), true ); this.parentNode.remove(); </script></treescope-run-here> </div>"
      ],
      "text/plain": [
       "<IPython.core.display.HTML object>"
      ]
     },
     "metadata": {},
     "output_type": "display_data"
    },
    {
     "data": {
      "text/html": [
       "<treescope-run-here><script type=\"application/octet-stream\"> const root = ( Array.from(document.getElementsByClassName( \"treescope_out_24cb1b14076b46e08a2db1989c7efb74\")) .filter((elt) => !elt.dataset.stolen) )[0]; root.dataset.stolen = 1; this.parentNode.replaceChild(root, this); </script></treescope-run-here>"
      ],
      "text/plain": [
       "[-6.25,\n",
       " -6.21875,\n",
       " -5.15625,\n",
       " -3.90625,\n",
       " -3.703125,\n",
       " -3.765625,\n",
       " -3.625,\n",
       " -3.640625,\n",
       " -3.296875,\n",
       " -3.296875,\n",
       " -3.296875,\n",
       " -3.125,\n",
       " -2.421875]"
      ]
     },
     "execution_count": 78,
     "metadata": {},
     "output_type": "execute_result"
    }
   ],
   "source": [
    "ablated_metrics[113:126]"
   ]
  },
  {
   "cell_type": "code",
   "execution_count": 28,
   "metadata": {},
   "outputs": [
    {
     "data": {
      "application/vnd.plotly.v1+json": {
       "config": {
        "plotlyServerURL": "https://plot.ly"
       },
       "data": [
        {
         "hovertemplate": "x=%{x}<br>y=%{y}<extra></extra>",
         "legendgroup": "",
         "line": {
          "color": "#636efa",
          "dash": "solid"
         },
         "marker": {
          "symbol": "circle"
         },
         "mode": "lines",
         "name": "",
         "orientation": "v",
         "showlegend": false,
         "type": "scatter",
         "x": [
          126550,
          126096,
          125683,
          125176,
          124628,
          124110,
          123586,
          123010,
          122353,
          121628,
          120910,
          120218,
          119466,
          118701,
          117908,
          117050,
          116169,
          115256,
          114349,
          113459,
          112521,
          111550,
          110516,
          109511,
          108409,
          107254,
          106132,
          104978,
          103773,
          102520,
          101275,
          100021,
          98694,
          97383,
          95998,
          94614,
          93179,
          91749,
          90327,
          88884,
          87433,
          85942,
          84448,
          82923,
          81395,
          79739,
          78170,
          76583,
          75000,
          73332,
          71637,
          69957,
          68357,
          66637,
          64917,
          63246,
          61558,
          59887,
          58177,
          56621,
          54976,
          53327,
          51657,
          50095,
          48534,
          46970,
          45336,
          43828,
          42301,
          40736,
          39240,
          37780,
          36401,
          35027,
          33689,
          32365,
          31024,
          29702,
          28468,
          27252,
          26134,
          24976,
          23878,
          22795,
          21764,
          20735,
          19776,
          18794,
          17833,
          16946,
          16101,
          15259,
          14440,
          13686,
          12935,
          12219,
          11515,
          10841,
          10215,
          9604,
          9016,
          8451,
          7915,
          7398,
          6954,
          6545,
          6144,
          5741,
          5360,
          5007,
          4652,
          4345,
          4042,
          3723,
          3474,
          3227,
          2972,
          2739,
          2542,
          2341,
          2124,
          1933,
          1772,
          1610,
          1457,
          1306,
          1180,
          1055,
          942,
          833,
          734,
          661,
          571,
          514,
          451,
          383,
          341,
          298,
          260,
          230,
          196,
          159,
          131,
          112,
          92,
          82,
          71,
          62,
          46,
          39
         ],
         "xaxis": "x",
         "y": [
          1.0536764705882353,
          1.0551470588235294,
          1.0544117647058824,
          1.0522058823529412,
          1.0514705882352942,
          1.0522058823529412,
          1.0544117647058824,
          1.0566176470588236,
          1.0529411764705883,
          1.0536764705882353,
          1.0536764705882353,
          1.0536764705882353,
          1.0558823529411765,
          1.0558823529411765,
          1.0536764705882353,
          1.0551470588235294,
          1.0551470588235294,
          1.0566176470588236,
          1.0551470588235294,
          1.0522058823529412,
          1.0529411764705883,
          1.0529411764705883,
          1.0536764705882353,
          1.0529411764705883,
          1.0529411764705883,
          1.0522058823529412,
          1.0529411764705883,
          1.05,
          1.049264705882353,
          1.05,
          1.0522058823529412,
          1.0536764705882353,
          1.0529411764705883,
          1.0536764705882353,
          1.0514705882352942,
          1.0529411764705883,
          1.0536764705882353,
          1.0529411764705883,
          1.05,
          1.0514705882352942,
          1.049264705882353,
          1.050735294117647,
          1.0529411764705883,
          1.0529411764705883,
          1.0529411764705883,
          1.0536764705882353,
          1.0522058823529412,
          1.0514705882352942,
          1.0477941176470589,
          1.0477941176470589,
          1.0470588235294118,
          1.0455882352941177,
          1.0455882352941177,
          1.0470588235294118,
          1.0441176470588236,
          1.0441176470588236,
          1.0397058823529413,
          1.0441176470588236,
          1.0426470588235295,
          1.0397058823529413,
          1.036764705882353,
          1.0426470588235295,
          1.035294117647059,
          1.035294117647059,
          1.0338235294117648,
          1.0308823529411764,
          1.0279411764705881,
          1.0191176470588235,
          1.0147058823529411,
          1.0161764705882352,
          1.0147058823529411,
          1.0088235294117647,
          1.0014705882352941,
          1.0088235294117647,
          1.0044117647058823,
          0.9911764705882353,
          0.9823529411764705,
          0.986764705882353,
          0.986764705882353,
          0.9794117647058823,
          0.9779411764705882,
          0.9735294117647059,
          0.9588235294117647,
          0.9455882352941176,
          0.9441176470588235,
          0.9441176470588235,
          0.9397058823529412,
          0.9220588235294118,
          0.913235294117647,
          0.9044117647058824,
          0.8985294117647059,
          0.8779411764705882,
          0.8647058823529412,
          0.8529411764705882,
          0.8382352941176471,
          0.8352941176470589,
          0.8205882352941176,
          0.8117647058823529,
          0.8029411764705883,
          0.7823529411764706,
          0.7617647058823529,
          0.7470588235294118,
          0.7235294117647059,
          0.7147058823529412,
          0.7088235294117647,
          0.6911764705882353,
          0.6558823529411765,
          0.6352941176470588,
          0.611764705882353,
          0.5970588235294118,
          0.5794117647058824,
          0.5705882352941176,
          0.5617647058823529,
          0.5058823529411764,
          0.4647058823529412,
          0.45294117647058824,
          0.4235294117647059,
          0.4117647058823529,
          0.3941176470588235,
          0.37058823529411766,
          0.34705882352941175,
          0.32941176470588235,
          0.3176470588235294,
          0.29411764705882354,
          0.27647058823529413,
          0.27058823529411763,
          0.2411764705882353,
          0.2235294117647059,
          0.21176470588235294,
          0.19411764705882353,
          0.17647058823529413,
          0.16470588235294117,
          0.15294117647058825,
          0.15294117647058825,
          0.1411764705882353,
          0.12941176470588237,
          0.12352941176470589,
          0.11764705882352941,
          0.10588235294117647,
          0.08823529411764706,
          0.08235294117647059,
          0.07058823529411765,
          0.058823529411764705,
          0.052941176470588235,
          0.047058823529411764,
          0.041176470588235294,
          0.041176470588235294,
          0.041176470588235294,
          0.03529411764705882,
          0.041176470588235294
         ],
         "yaxis": "y"
        }
       ],
       "layout": {
        "legend": {
         "tracegroupgap": 0
        },
        "template": {
         "data": {
          "bar": [
           {
            "error_x": {
             "color": "#2a3f5f"
            },
            "error_y": {
             "color": "#2a3f5f"
            },
            "marker": {
             "line": {
              "color": "#E5ECF6",
              "width": 0.5
             },
             "pattern": {
              "fillmode": "overlay",
              "size": 10,
              "solidity": 0.2
             }
            },
            "type": "bar"
           }
          ],
          "barpolar": [
           {
            "marker": {
             "line": {
              "color": "#E5ECF6",
              "width": 0.5
             },
             "pattern": {
              "fillmode": "overlay",
              "size": 10,
              "solidity": 0.2
             }
            },
            "type": "barpolar"
           }
          ],
          "carpet": [
           {
            "aaxis": {
             "endlinecolor": "#2a3f5f",
             "gridcolor": "white",
             "linecolor": "white",
             "minorgridcolor": "white",
             "startlinecolor": "#2a3f5f"
            },
            "baxis": {
             "endlinecolor": "#2a3f5f",
             "gridcolor": "white",
             "linecolor": "white",
             "minorgridcolor": "white",
             "startlinecolor": "#2a3f5f"
            },
            "type": "carpet"
           }
          ],
          "choropleth": [
           {
            "colorbar": {
             "outlinewidth": 0,
             "ticks": ""
            },
            "type": "choropleth"
           }
          ],
          "contour": [
           {
            "colorbar": {
             "outlinewidth": 0,
             "ticks": ""
            },
            "colorscale": [
             [
              0,
              "#0d0887"
             ],
             [
              0.1111111111111111,
              "#46039f"
             ],
             [
              0.2222222222222222,
              "#7201a8"
             ],
             [
              0.3333333333333333,
              "#9c179e"
             ],
             [
              0.4444444444444444,
              "#bd3786"
             ],
             [
              0.5555555555555556,
              "#d8576b"
             ],
             [
              0.6666666666666666,
              "#ed7953"
             ],
             [
              0.7777777777777778,
              "#fb9f3a"
             ],
             [
              0.8888888888888888,
              "#fdca26"
             ],
             [
              1,
              "#f0f921"
             ]
            ],
            "type": "contour"
           }
          ],
          "contourcarpet": [
           {
            "colorbar": {
             "outlinewidth": 0,
             "ticks": ""
            },
            "type": "contourcarpet"
           }
          ],
          "heatmap": [
           {
            "colorbar": {
             "outlinewidth": 0,
             "ticks": ""
            },
            "colorscale": [
             [
              0,
              "#0d0887"
             ],
             [
              0.1111111111111111,
              "#46039f"
             ],
             [
              0.2222222222222222,
              "#7201a8"
             ],
             [
              0.3333333333333333,
              "#9c179e"
             ],
             [
              0.4444444444444444,
              "#bd3786"
             ],
             [
              0.5555555555555556,
              "#d8576b"
             ],
             [
              0.6666666666666666,
              "#ed7953"
             ],
             [
              0.7777777777777778,
              "#fb9f3a"
             ],
             [
              0.8888888888888888,
              "#fdca26"
             ],
             [
              1,
              "#f0f921"
             ]
            ],
            "type": "heatmap"
           }
          ],
          "heatmapgl": [
           {
            "colorbar": {
             "outlinewidth": 0,
             "ticks": ""
            },
            "colorscale": [
             [
              0,
              "#0d0887"
             ],
             [
              0.1111111111111111,
              "#46039f"
             ],
             [
              0.2222222222222222,
              "#7201a8"
             ],
             [
              0.3333333333333333,
              "#9c179e"
             ],
             [
              0.4444444444444444,
              "#bd3786"
             ],
             [
              0.5555555555555556,
              "#d8576b"
             ],
             [
              0.6666666666666666,
              "#ed7953"
             ],
             [
              0.7777777777777778,
              "#fb9f3a"
             ],
             [
              0.8888888888888888,
              "#fdca26"
             ],
             [
              1,
              "#f0f921"
             ]
            ],
            "type": "heatmapgl"
           }
          ],
          "histogram": [
           {
            "marker": {
             "pattern": {
              "fillmode": "overlay",
              "size": 10,
              "solidity": 0.2
             }
            },
            "type": "histogram"
           }
          ],
          "histogram2d": [
           {
            "colorbar": {
             "outlinewidth": 0,
             "ticks": ""
            },
            "colorscale": [
             [
              0,
              "#0d0887"
             ],
             [
              0.1111111111111111,
              "#46039f"
             ],
             [
              0.2222222222222222,
              "#7201a8"
             ],
             [
              0.3333333333333333,
              "#9c179e"
             ],
             [
              0.4444444444444444,
              "#bd3786"
             ],
             [
              0.5555555555555556,
              "#d8576b"
             ],
             [
              0.6666666666666666,
              "#ed7953"
             ],
             [
              0.7777777777777778,
              "#fb9f3a"
             ],
             [
              0.8888888888888888,
              "#fdca26"
             ],
             [
              1,
              "#f0f921"
             ]
            ],
            "type": "histogram2d"
           }
          ],
          "histogram2dcontour": [
           {
            "colorbar": {
             "outlinewidth": 0,
             "ticks": ""
            },
            "colorscale": [
             [
              0,
              "#0d0887"
             ],
             [
              0.1111111111111111,
              "#46039f"
             ],
             [
              0.2222222222222222,
              "#7201a8"
             ],
             [
              0.3333333333333333,
              "#9c179e"
             ],
             [
              0.4444444444444444,
              "#bd3786"
             ],
             [
              0.5555555555555556,
              "#d8576b"
             ],
             [
              0.6666666666666666,
              "#ed7953"
             ],
             [
              0.7777777777777778,
              "#fb9f3a"
             ],
             [
              0.8888888888888888,
              "#fdca26"
             ],
             [
              1,
              "#f0f921"
             ]
            ],
            "type": "histogram2dcontour"
           }
          ],
          "mesh3d": [
           {
            "colorbar": {
             "outlinewidth": 0,
             "ticks": ""
            },
            "type": "mesh3d"
           }
          ],
          "parcoords": [
           {
            "line": {
             "colorbar": {
              "outlinewidth": 0,
              "ticks": ""
             }
            },
            "type": "parcoords"
           }
          ],
          "pie": [
           {
            "automargin": true,
            "type": "pie"
           }
          ],
          "scatter": [
           {
            "fillpattern": {
             "fillmode": "overlay",
             "size": 10,
             "solidity": 0.2
            },
            "type": "scatter"
           }
          ],
          "scatter3d": [
           {
            "line": {
             "colorbar": {
              "outlinewidth": 0,
              "ticks": ""
             }
            },
            "marker": {
             "colorbar": {
              "outlinewidth": 0,
              "ticks": ""
             }
            },
            "type": "scatter3d"
           }
          ],
          "scattercarpet": [
           {
            "marker": {
             "colorbar": {
              "outlinewidth": 0,
              "ticks": ""
             }
            },
            "type": "scattercarpet"
           }
          ],
          "scattergeo": [
           {
            "marker": {
             "colorbar": {
              "outlinewidth": 0,
              "ticks": ""
             }
            },
            "type": "scattergeo"
           }
          ],
          "scattergl": [
           {
            "marker": {
             "colorbar": {
              "outlinewidth": 0,
              "ticks": ""
             }
            },
            "type": "scattergl"
           }
          ],
          "scattermapbox": [
           {
            "marker": {
             "colorbar": {
              "outlinewidth": 0,
              "ticks": ""
             }
            },
            "type": "scattermapbox"
           }
          ],
          "scatterpolar": [
           {
            "marker": {
             "colorbar": {
              "outlinewidth": 0,
              "ticks": ""
             }
            },
            "type": "scatterpolar"
           }
          ],
          "scatterpolargl": [
           {
            "marker": {
             "colorbar": {
              "outlinewidth": 0,
              "ticks": ""
             }
            },
            "type": "scatterpolargl"
           }
          ],
          "scatterternary": [
           {
            "marker": {
             "colorbar": {
              "outlinewidth": 0,
              "ticks": ""
             }
            },
            "type": "scatterternary"
           }
          ],
          "surface": [
           {
            "colorbar": {
             "outlinewidth": 0,
             "ticks": ""
            },
            "colorscale": [
             [
              0,
              "#0d0887"
             ],
             [
              0.1111111111111111,
              "#46039f"
             ],
             [
              0.2222222222222222,
              "#7201a8"
             ],
             [
              0.3333333333333333,
              "#9c179e"
             ],
             [
              0.4444444444444444,
              "#bd3786"
             ],
             [
              0.5555555555555556,
              "#d8576b"
             ],
             [
              0.6666666666666666,
              "#ed7953"
             ],
             [
              0.7777777777777778,
              "#fb9f3a"
             ],
             [
              0.8888888888888888,
              "#fdca26"
             ],
             [
              1,
              "#f0f921"
             ]
            ],
            "type": "surface"
           }
          ],
          "table": [
           {
            "cells": {
             "fill": {
              "color": "#EBF0F8"
             },
             "line": {
              "color": "white"
             }
            },
            "header": {
             "fill": {
              "color": "#C8D4E3"
             },
             "line": {
              "color": "white"
             }
            },
            "type": "table"
           }
          ]
         },
         "layout": {
          "annotationdefaults": {
           "arrowcolor": "#2a3f5f",
           "arrowhead": 0,
           "arrowwidth": 1
          },
          "autotypenumbers": "strict",
          "coloraxis": {
           "colorbar": {
            "outlinewidth": 0,
            "ticks": ""
           }
          },
          "colorscale": {
           "diverging": [
            [
             0,
             "#8e0152"
            ],
            [
             0.1,
             "#c51b7d"
            ],
            [
             0.2,
             "#de77ae"
            ],
            [
             0.3,
             "#f1b6da"
            ],
            [
             0.4,
             "#fde0ef"
            ],
            [
             0.5,
             "#f7f7f7"
            ],
            [
             0.6,
             "#e6f5d0"
            ],
            [
             0.7,
             "#b8e186"
            ],
            [
             0.8,
             "#7fbc41"
            ],
            [
             0.9,
             "#4d9221"
            ],
            [
             1,
             "#276419"
            ]
           ],
           "sequential": [
            [
             0,
             "#0d0887"
            ],
            [
             0.1111111111111111,
             "#46039f"
            ],
            [
             0.2222222222222222,
             "#7201a8"
            ],
            [
             0.3333333333333333,
             "#9c179e"
            ],
            [
             0.4444444444444444,
             "#bd3786"
            ],
            [
             0.5555555555555556,
             "#d8576b"
            ],
            [
             0.6666666666666666,
             "#ed7953"
            ],
            [
             0.7777777777777778,
             "#fb9f3a"
            ],
            [
             0.8888888888888888,
             "#fdca26"
            ],
            [
             1,
             "#f0f921"
            ]
           ],
           "sequentialminus": [
            [
             0,
             "#0d0887"
            ],
            [
             0.1111111111111111,
             "#46039f"
            ],
            [
             0.2222222222222222,
             "#7201a8"
            ],
            [
             0.3333333333333333,
             "#9c179e"
            ],
            [
             0.4444444444444444,
             "#bd3786"
            ],
            [
             0.5555555555555556,
             "#d8576b"
            ],
            [
             0.6666666666666666,
             "#ed7953"
            ],
            [
             0.7777777777777778,
             "#fb9f3a"
            ],
            [
             0.8888888888888888,
             "#fdca26"
            ],
            [
             1,
             "#f0f921"
            ]
           ]
          },
          "colorway": [
           "#636efa",
           "#EF553B",
           "#00cc96",
           "#ab63fa",
           "#FFA15A",
           "#19d3f3",
           "#FF6692",
           "#B6E880",
           "#FF97FF",
           "#FECB52"
          ],
          "font": {
           "color": "#2a3f5f"
          },
          "geo": {
           "bgcolor": "white",
           "lakecolor": "white",
           "landcolor": "#E5ECF6",
           "showlakes": true,
           "showland": true,
           "subunitcolor": "white"
          },
          "hoverlabel": {
           "align": "left"
          },
          "hovermode": "closest",
          "mapbox": {
           "style": "light"
          },
          "paper_bgcolor": "white",
          "plot_bgcolor": "#E5ECF6",
          "polar": {
           "angularaxis": {
            "gridcolor": "white",
            "linecolor": "white",
            "ticks": ""
           },
           "bgcolor": "#E5ECF6",
           "radialaxis": {
            "gridcolor": "white",
            "linecolor": "white",
            "ticks": ""
           }
          },
          "scene": {
           "xaxis": {
            "backgroundcolor": "#E5ECF6",
            "gridcolor": "white",
            "gridwidth": 2,
            "linecolor": "white",
            "showbackground": true,
            "ticks": "",
            "zerolinecolor": "white"
           },
           "yaxis": {
            "backgroundcolor": "#E5ECF6",
            "gridcolor": "white",
            "gridwidth": 2,
            "linecolor": "white",
            "showbackground": true,
            "ticks": "",
            "zerolinecolor": "white"
           },
           "zaxis": {
            "backgroundcolor": "#E5ECF6",
            "gridcolor": "white",
            "gridwidth": 2,
            "linecolor": "white",
            "showbackground": true,
            "ticks": "",
            "zerolinecolor": "white"
           }
          },
          "shapedefaults": {
           "line": {
            "color": "#2a3f5f"
           }
          },
          "ternary": {
           "aaxis": {
            "gridcolor": "white",
            "linecolor": "white",
            "ticks": ""
           },
           "baxis": {
            "gridcolor": "white",
            "linecolor": "white",
            "ticks": ""
           },
           "bgcolor": "#E5ECF6",
           "caxis": {
            "gridcolor": "white",
            "linecolor": "white",
            "ticks": ""
           }
          },
          "title": {
           "x": 0.05
          },
          "xaxis": {
           "automargin": true,
           "gridcolor": "white",
           "linecolor": "white",
           "ticks": "",
           "title": {
            "standoff": 15
           },
           "zerolinecolor": "white",
           "zerolinewidth": 2
          },
          "yaxis": {
           "automargin": true,
           "gridcolor": "white",
           "linecolor": "white",
           "ticks": "",
           "title": {
            "standoff": 15
           },
           "zerolinecolor": "white",
           "zerolinewidth": 2
          }
         }
        },
        "title": {
         "text": "inverse=False, abs=False, mean=False, aop=False, layers=[10, 11, 12, 13, 14, 15, 16]"
        },
        "xaxis": {
         "anchor": "y",
         "domain": [
          0,
          1
         ],
         "title": {
          "text": "Number of nodes"
         }
        },
        "yaxis": {
         "anchor": "x",
         "domain": [
          0,
          1
         ],
         "title": {
          "text": "Faithfullness"
         }
        }
       }
      },
      "text/html": [
       "<div>                            <div id=\"4695383a-a28e-4ed0-8639-614adb3c6554\" class=\"plotly-graph-div\" style=\"height:525px; width:100%;\"></div>            <script type=\"text/javascript\">                require([\"plotly\"], function(Plotly) {                    window.PLOTLYENV=window.PLOTLYENV || {};                                    if (document.getElementById(\"4695383a-a28e-4ed0-8639-614adb3c6554\")) {                    Plotly.newPlot(                        \"4695383a-a28e-4ed0-8639-614adb3c6554\",                        [{\"hovertemplate\":\"x=%{x}\\u003cbr\\u003ey=%{y}\\u003cextra\\u003e\\u003c\\u002fextra\\u003e\",\"legendgroup\":\"\",\"line\":{\"color\":\"#636efa\",\"dash\":\"solid\"},\"marker\":{\"symbol\":\"circle\"},\"mode\":\"lines\",\"name\":\"\",\"orientation\":\"v\",\"showlegend\":false,\"x\":[126550,126096,125683,125176,124628,124110,123586,123010,122353,121628,120910,120218,119466,118701,117908,117050,116169,115256,114349,113459,112521,111550,110516,109511,108409,107254,106132,104978,103773,102520,101275,100021,98694,97383,95998,94614,93179,91749,90327,88884,87433,85942,84448,82923,81395,79739,78170,76583,75000,73332,71637,69957,68357,66637,64917,63246,61558,59887,58177,56621,54976,53327,51657,50095,48534,46970,45336,43828,42301,40736,39240,37780,36401,35027,33689,32365,31024,29702,28468,27252,26134,24976,23878,22795,21764,20735,19776,18794,17833,16946,16101,15259,14440,13686,12935,12219,11515,10841,10215,9604,9016,8451,7915,7398,6954,6545,6144,5741,5360,5007,4652,4345,4042,3723,3474,3227,2972,2739,2542,2341,2124,1933,1772,1610,1457,1306,1180,1055,942,833,734,661,571,514,451,383,341,298,260,230,196,159,131,112,92,82,71,62,46,39],\"xaxis\":\"x\",\"y\":[1.0536764705882353,1.0551470588235294,1.0544117647058824,1.0522058823529412,1.0514705882352942,1.0522058823529412,1.0544117647058824,1.0566176470588236,1.0529411764705883,1.0536764705882353,1.0536764705882353,1.0536764705882353,1.0558823529411765,1.0558823529411765,1.0536764705882353,1.0551470588235294,1.0551470588235294,1.0566176470588236,1.0551470588235294,1.0522058823529412,1.0529411764705883,1.0529411764705883,1.0536764705882353,1.0529411764705883,1.0529411764705883,1.0522058823529412,1.0529411764705883,1.05,1.049264705882353,1.05,1.0522058823529412,1.0536764705882353,1.0529411764705883,1.0536764705882353,1.0514705882352942,1.0529411764705883,1.0536764705882353,1.0529411764705883,1.05,1.0514705882352942,1.049264705882353,1.050735294117647,1.0529411764705883,1.0529411764705883,1.0529411764705883,1.0536764705882353,1.0522058823529412,1.0514705882352942,1.0477941176470589,1.0477941176470589,1.0470588235294118,1.0455882352941177,1.0455882352941177,1.0470588235294118,1.0441176470588236,1.0441176470588236,1.0397058823529413,1.0441176470588236,1.0426470588235295,1.0397058823529413,1.036764705882353,1.0426470588235295,1.035294117647059,1.035294117647059,1.0338235294117648,1.0308823529411764,1.0279411764705881,1.0191176470588235,1.0147058823529411,1.0161764705882352,1.0147058823529411,1.0088235294117647,1.0014705882352941,1.0088235294117647,1.0044117647058823,0.9911764705882353,0.9823529411764705,0.986764705882353,0.986764705882353,0.9794117647058823,0.9779411764705882,0.9735294117647059,0.9588235294117647,0.9455882352941176,0.9441176470588235,0.9441176470588235,0.9397058823529412,0.9220588235294118,0.913235294117647,0.9044117647058824,0.8985294117647059,0.8779411764705882,0.8647058823529412,0.8529411764705882,0.8382352941176471,0.8352941176470589,0.8205882352941176,0.8117647058823529,0.8029411764705883,0.7823529411764706,0.7617647058823529,0.7470588235294118,0.7235294117647059,0.7147058823529412,0.7088235294117647,0.6911764705882353,0.6558823529411765,0.6352941176470588,0.611764705882353,0.5970588235294118,0.5794117647058824,0.5705882352941176,0.5617647058823529,0.5058823529411764,0.4647058823529412,0.45294117647058824,0.4235294117647059,0.4117647058823529,0.3941176470588235,0.37058823529411766,0.34705882352941175,0.32941176470588235,0.3176470588235294,0.29411764705882354,0.27647058823529413,0.27058823529411763,0.2411764705882353,0.2235294117647059,0.21176470588235294,0.19411764705882353,0.17647058823529413,0.16470588235294117,0.15294117647058825,0.15294117647058825,0.1411764705882353,0.12941176470588237,0.12352941176470589,0.11764705882352941,0.10588235294117647,0.08823529411764706,0.08235294117647059,0.07058823529411765,0.058823529411764705,0.052941176470588235,0.047058823529411764,0.041176470588235294,0.041176470588235294,0.041176470588235294,0.03529411764705882,0.041176470588235294],\"yaxis\":\"y\",\"type\":\"scatter\"}],                        {\"template\":{\"data\":{\"histogram2dcontour\":[{\"type\":\"histogram2dcontour\",\"colorbar\":{\"outlinewidth\":0,\"ticks\":\"\"},\"colorscale\":[[0.0,\"#0d0887\"],[0.1111111111111111,\"#46039f\"],[0.2222222222222222,\"#7201a8\"],[0.3333333333333333,\"#9c179e\"],[0.4444444444444444,\"#bd3786\"],[0.5555555555555556,\"#d8576b\"],[0.6666666666666666,\"#ed7953\"],[0.7777777777777778,\"#fb9f3a\"],[0.8888888888888888,\"#fdca26\"],[1.0,\"#f0f921\"]]}],\"choropleth\":[{\"type\":\"choropleth\",\"colorbar\":{\"outlinewidth\":0,\"ticks\":\"\"}}],\"histogram2d\":[{\"type\":\"histogram2d\",\"colorbar\":{\"outlinewidth\":0,\"ticks\":\"\"},\"colorscale\":[[0.0,\"#0d0887\"],[0.1111111111111111,\"#46039f\"],[0.2222222222222222,\"#7201a8\"],[0.3333333333333333,\"#9c179e\"],[0.4444444444444444,\"#bd3786\"],[0.5555555555555556,\"#d8576b\"],[0.6666666666666666,\"#ed7953\"],[0.7777777777777778,\"#fb9f3a\"],[0.8888888888888888,\"#fdca26\"],[1.0,\"#f0f921\"]]}],\"heatmap\":[{\"type\":\"heatmap\",\"colorbar\":{\"outlinewidth\":0,\"ticks\":\"\"},\"colorscale\":[[0.0,\"#0d0887\"],[0.1111111111111111,\"#46039f\"],[0.2222222222222222,\"#7201a8\"],[0.3333333333333333,\"#9c179e\"],[0.4444444444444444,\"#bd3786\"],[0.5555555555555556,\"#d8576b\"],[0.6666666666666666,\"#ed7953\"],[0.7777777777777778,\"#fb9f3a\"],[0.8888888888888888,\"#fdca26\"],[1.0,\"#f0f921\"]]}],\"heatmapgl\":[{\"type\":\"heatmapgl\",\"colorbar\":{\"outlinewidth\":0,\"ticks\":\"\"},\"colorscale\":[[0.0,\"#0d0887\"],[0.1111111111111111,\"#46039f\"],[0.2222222222222222,\"#7201a8\"],[0.3333333333333333,\"#9c179e\"],[0.4444444444444444,\"#bd3786\"],[0.5555555555555556,\"#d8576b\"],[0.6666666666666666,\"#ed7953\"],[0.7777777777777778,\"#fb9f3a\"],[0.8888888888888888,\"#fdca26\"],[1.0,\"#f0f921\"]]}],\"contourcarpet\":[{\"type\":\"contourcarpet\",\"colorbar\":{\"outlinewidth\":0,\"ticks\":\"\"}}],\"contour\":[{\"type\":\"contour\",\"colorbar\":{\"outlinewidth\":0,\"ticks\":\"\"},\"colorscale\":[[0.0,\"#0d0887\"],[0.1111111111111111,\"#46039f\"],[0.2222222222222222,\"#7201a8\"],[0.3333333333333333,\"#9c179e\"],[0.4444444444444444,\"#bd3786\"],[0.5555555555555556,\"#d8576b\"],[0.6666666666666666,\"#ed7953\"],[0.7777777777777778,\"#fb9f3a\"],[0.8888888888888888,\"#fdca26\"],[1.0,\"#f0f921\"]]}],\"surface\":[{\"type\":\"surface\",\"colorbar\":{\"outlinewidth\":0,\"ticks\":\"\"},\"colorscale\":[[0.0,\"#0d0887\"],[0.1111111111111111,\"#46039f\"],[0.2222222222222222,\"#7201a8\"],[0.3333333333333333,\"#9c179e\"],[0.4444444444444444,\"#bd3786\"],[0.5555555555555556,\"#d8576b\"],[0.6666666666666666,\"#ed7953\"],[0.7777777777777778,\"#fb9f3a\"],[0.8888888888888888,\"#fdca26\"],[1.0,\"#f0f921\"]]}],\"mesh3d\":[{\"type\":\"mesh3d\",\"colorbar\":{\"outlinewidth\":0,\"ticks\":\"\"}}],\"scatter\":[{\"fillpattern\":{\"fillmode\":\"overlay\",\"size\":10,\"solidity\":0.2},\"type\":\"scatter\"}],\"parcoords\":[{\"type\":\"parcoords\",\"line\":{\"colorbar\":{\"outlinewidth\":0,\"ticks\":\"\"}}}],\"scatterpolargl\":[{\"type\":\"scatterpolargl\",\"marker\":{\"colorbar\":{\"outlinewidth\":0,\"ticks\":\"\"}}}],\"bar\":[{\"error_x\":{\"color\":\"#2a3f5f\"},\"error_y\":{\"color\":\"#2a3f5f\"},\"marker\":{\"line\":{\"color\":\"#E5ECF6\",\"width\":0.5},\"pattern\":{\"fillmode\":\"overlay\",\"size\":10,\"solidity\":0.2}},\"type\":\"bar\"}],\"scattergeo\":[{\"type\":\"scattergeo\",\"marker\":{\"colorbar\":{\"outlinewidth\":0,\"ticks\":\"\"}}}],\"scatterpolar\":[{\"type\":\"scatterpolar\",\"marker\":{\"colorbar\":{\"outlinewidth\":0,\"ticks\":\"\"}}}],\"histogram\":[{\"marker\":{\"pattern\":{\"fillmode\":\"overlay\",\"size\":10,\"solidity\":0.2}},\"type\":\"histogram\"}],\"scattergl\":[{\"type\":\"scattergl\",\"marker\":{\"colorbar\":{\"outlinewidth\":0,\"ticks\":\"\"}}}],\"scatter3d\":[{\"type\":\"scatter3d\",\"line\":{\"colorbar\":{\"outlinewidth\":0,\"ticks\":\"\"}},\"marker\":{\"colorbar\":{\"outlinewidth\":0,\"ticks\":\"\"}}}],\"scattermapbox\":[{\"type\":\"scattermapbox\",\"marker\":{\"colorbar\":{\"outlinewidth\":0,\"ticks\":\"\"}}}],\"scatterternary\":[{\"type\":\"scatterternary\",\"marker\":{\"colorbar\":{\"outlinewidth\":0,\"ticks\":\"\"}}}],\"scattercarpet\":[{\"type\":\"scattercarpet\",\"marker\":{\"colorbar\":{\"outlinewidth\":0,\"ticks\":\"\"}}}],\"carpet\":[{\"aaxis\":{\"endlinecolor\":\"#2a3f5f\",\"gridcolor\":\"white\",\"linecolor\":\"white\",\"minorgridcolor\":\"white\",\"startlinecolor\":\"#2a3f5f\"},\"baxis\":{\"endlinecolor\":\"#2a3f5f\",\"gridcolor\":\"white\",\"linecolor\":\"white\",\"minorgridcolor\":\"white\",\"startlinecolor\":\"#2a3f5f\"},\"type\":\"carpet\"}],\"table\":[{\"cells\":{\"fill\":{\"color\":\"#EBF0F8\"},\"line\":{\"color\":\"white\"}},\"header\":{\"fill\":{\"color\":\"#C8D4E3\"},\"line\":{\"color\":\"white\"}},\"type\":\"table\"}],\"barpolar\":[{\"marker\":{\"line\":{\"color\":\"#E5ECF6\",\"width\":0.5},\"pattern\":{\"fillmode\":\"overlay\",\"size\":10,\"solidity\":0.2}},\"type\":\"barpolar\"}],\"pie\":[{\"automargin\":true,\"type\":\"pie\"}]},\"layout\":{\"autotypenumbers\":\"strict\",\"colorway\":[\"#636efa\",\"#EF553B\",\"#00cc96\",\"#ab63fa\",\"#FFA15A\",\"#19d3f3\",\"#FF6692\",\"#B6E880\",\"#FF97FF\",\"#FECB52\"],\"font\":{\"color\":\"#2a3f5f\"},\"hovermode\":\"closest\",\"hoverlabel\":{\"align\":\"left\"},\"paper_bgcolor\":\"white\",\"plot_bgcolor\":\"#E5ECF6\",\"polar\":{\"bgcolor\":\"#E5ECF6\",\"angularaxis\":{\"gridcolor\":\"white\",\"linecolor\":\"white\",\"ticks\":\"\"},\"radialaxis\":{\"gridcolor\":\"white\",\"linecolor\":\"white\",\"ticks\":\"\"}},\"ternary\":{\"bgcolor\":\"#E5ECF6\",\"aaxis\":{\"gridcolor\":\"white\",\"linecolor\":\"white\",\"ticks\":\"\"},\"baxis\":{\"gridcolor\":\"white\",\"linecolor\":\"white\",\"ticks\":\"\"},\"caxis\":{\"gridcolor\":\"white\",\"linecolor\":\"white\",\"ticks\":\"\"}},\"coloraxis\":{\"colorbar\":{\"outlinewidth\":0,\"ticks\":\"\"}},\"colorscale\":{\"sequential\":[[0.0,\"#0d0887\"],[0.1111111111111111,\"#46039f\"],[0.2222222222222222,\"#7201a8\"],[0.3333333333333333,\"#9c179e\"],[0.4444444444444444,\"#bd3786\"],[0.5555555555555556,\"#d8576b\"],[0.6666666666666666,\"#ed7953\"],[0.7777777777777778,\"#fb9f3a\"],[0.8888888888888888,\"#fdca26\"],[1.0,\"#f0f921\"]],\"sequentialminus\":[[0.0,\"#0d0887\"],[0.1111111111111111,\"#46039f\"],[0.2222222222222222,\"#7201a8\"],[0.3333333333333333,\"#9c179e\"],[0.4444444444444444,\"#bd3786\"],[0.5555555555555556,\"#d8576b\"],[0.6666666666666666,\"#ed7953\"],[0.7777777777777778,\"#fb9f3a\"],[0.8888888888888888,\"#fdca26\"],[1.0,\"#f0f921\"]],\"diverging\":[[0,\"#8e0152\"],[0.1,\"#c51b7d\"],[0.2,\"#de77ae\"],[0.3,\"#f1b6da\"],[0.4,\"#fde0ef\"],[0.5,\"#f7f7f7\"],[0.6,\"#e6f5d0\"],[0.7,\"#b8e186\"],[0.8,\"#7fbc41\"],[0.9,\"#4d9221\"],[1,\"#276419\"]]},\"xaxis\":{\"gridcolor\":\"white\",\"linecolor\":\"white\",\"ticks\":\"\",\"title\":{\"standoff\":15},\"zerolinecolor\":\"white\",\"automargin\":true,\"zerolinewidth\":2},\"yaxis\":{\"gridcolor\":\"white\",\"linecolor\":\"white\",\"ticks\":\"\",\"title\":{\"standoff\":15},\"zerolinecolor\":\"white\",\"automargin\":true,\"zerolinewidth\":2},\"scene\":{\"xaxis\":{\"backgroundcolor\":\"#E5ECF6\",\"gridcolor\":\"white\",\"linecolor\":\"white\",\"showbackground\":true,\"ticks\":\"\",\"zerolinecolor\":\"white\",\"gridwidth\":2},\"yaxis\":{\"backgroundcolor\":\"#E5ECF6\",\"gridcolor\":\"white\",\"linecolor\":\"white\",\"showbackground\":true,\"ticks\":\"\",\"zerolinecolor\":\"white\",\"gridwidth\":2},\"zaxis\":{\"backgroundcolor\":\"#E5ECF6\",\"gridcolor\":\"white\",\"linecolor\":\"white\",\"showbackground\":true,\"ticks\":\"\",\"zerolinecolor\":\"white\",\"gridwidth\":2}},\"shapedefaults\":{\"line\":{\"color\":\"#2a3f5f\"}},\"annotationdefaults\":{\"arrowcolor\":\"#2a3f5f\",\"arrowhead\":0,\"arrowwidth\":1},\"geo\":{\"bgcolor\":\"white\",\"landcolor\":\"#E5ECF6\",\"subunitcolor\":\"white\",\"showland\":true,\"showlakes\":true,\"lakecolor\":\"white\"},\"title\":{\"x\":0.05},\"mapbox\":{\"style\":\"light\"}}},\"xaxis\":{\"anchor\":\"y\",\"domain\":[0.0,1.0],\"title\":{\"text\":\"Number of nodes\"}},\"yaxis\":{\"anchor\":\"x\",\"domain\":[0.0,1.0],\"title\":{\"text\":\"Faithfullness\"}},\"legend\":{\"tracegroupgap\":0},\"title\":{\"text\":\"inverse=False, abs=False, mean=False, aop=False, layers=[10, 11, 12, 13, 14, 15, 16]\"}},                        {\"responsive\": true}                    ).then(function(){\n",
       "                            \n",
       "var gd = document.getElementById('4695383a-a28e-4ed0-8639-614adb3c6554');\n",
       "var x = new MutationObserver(function (mutations, observer) {{\n",
       "        var display = window.getComputedStyle(gd).display;\n",
       "        if (!display || display === 'none') {{\n",
       "            console.log([gd, 'removed!']);\n",
       "            Plotly.purge(gd);\n",
       "            observer.disconnect();\n",
       "        }}\n",
       "}});\n",
       "\n",
       "// Listen for the removal of the full notebook cells\n",
       "var notebookContainer = gd.closest('#notebook-container');\n",
       "if (notebookContainer) {{\n",
       "    x.observe(notebookContainer, {childList: true});\n",
       "}}\n",
       "\n",
       "// Listen for the clearing of the current output cell\n",
       "var outputEl = gd.closest('.output');\n",
       "if (outputEl) {{\n",
       "    x.observe(outputEl, {childList: true});\n",
       "}}\n",
       "\n",
       "                        })                };                });            </script>        </div>"
      ]
     },
     "metadata": {},
     "output_type": "display_data"
    }
   ],
   "source": [
    "import matplotlib.pyplot as plt\n",
    "import plotly.express as px\n",
    "\n",
    "# plt.plot([max(n_nodes_counts) - x for x in n_nodes_counts], ablated_metrics)\n",
    "# plt.plot(thresholds, ablated_metrics)\n",
    "# plt.plot(thresholds, ablated_metrics)\n",
    "# plt.plot(n_nodes_counts, ablated_metrics)\n",
    "# plt.plot(thresholds, n_nodes_counts)\n",
    "# plt.xscale(\"log\")\n",
    "# plt.plot(n_nodes_counts)\n",
    "\n",
    "# px.line(x=list(range(len(ablated_metrics))), y=ablated_metrics)\n",
    "# fig = px.line(x=thresholds, y=ablated_metrics)\n",
    "# fig.update_xaxes(type=\"log\", exponentformat=\"power\")\n",
    "\n",
    "fig = px.line(x=n_nodes_counts, y=faithfullness, title=f\"inverse={inverse}, abs={do_abs}, mean={mean_ablate}, aop={average_over_positions}, layers={layers}\")\n",
    "fig.update_xaxes(title=\"Number of nodes\")\n",
    "fig.update_yaxes(title=\"Faithfullness\")\n",
    "\n",
    "fig\n"
   ]
  },
  {
   "cell_type": "code",
   "execution_count": 16,
   "metadata": {},
   "outputs": [
    {
     "data": {
      "application/vnd.plotly.v1+json": {
       "config": {
        "plotlyServerURL": "https://plot.ly"
       },
       "data": [
        {
         "hovertemplate": "x=%{x}<br>y=%{y}<extra></extra>",
         "legendgroup": "",
         "line": {
          "color": "#636efa",
          "dash": "solid"
         },
         "marker": {
          "symbol": "circle"
         },
         "mode": "lines",
         "name": "",
         "orientation": "v",
         "showlegend": false,
         "type": "scatter",
         "x": [
          1e-7,
          1.0392556829367131e-7,
          1.080052374516254e-7,
          1.1224505680853059e-7,
          1.1665131316981961e-7,
          1.2123054013376528e-7,
          1.2598952777950286e-7,
          1.3093533273536096e-7,
          1.3607528864243332e-7,
          1.414170170289024e-7,
          1.4696843861124475e-7,
          1.5273778503907124e-7,
          1.5873361110102087e-7,
          1.6496480740980207e-7,
          1.714406135851972e-7,
          1.7817063195457288e-7,
          1.8516484179121542e-7,
          1.92433614111598e-7,
          1.999877270535287e-7,
          2.0783838185797552e-7,
          2.1599721947827173e-7,
          2.244763378413224e-7,
          2.3328830978641583e-7,
          2.424462017082331e-7,
          2.5196359293170135e-7,
          2.618545958474233e-7,
          2.721338768375309e-7,
          2.828166780230035e-7,
          2.9391883986468845e-7,
          3.054568246515432e-7,
          3.1744774091091933e-7,
          3.2990936877709424e-7,
          3.428601863556583e-7,
          3.563193971228584e-7,
          3.703069584005141e-7,
          3.848436109487433e-7,
          3.9995090972036615e-7,
          4.156512558225988e-7,
          4.319679297334174e-7,
          4.4892512582186075e-7,
          4.6654798822344683e-7,
          4.848626481239078e-7,
          5.038962625065151e-7,
          5.236770544204655e-7,
          5.442343548300272e-7,
          5.655986461065002e-7,
          5.878016072274911e-7,
          6.10876160750504e-7,
          6.34856521630521e-7,
          6.597782479539533e-7,
          6.856782936641738e-7,
          7.125950633568411e-7,
          7.405684692262442e-7,
          7.696399902471151e-7,
          7.998527336796708e-7,
          8.312514989890632e-7,
          8.638828442740454e-7,
          8.977951553033314e-7,
          9.33038717262036e-7,
          9.69665789314552e-7,
          0.0000010077306820944618,
          0.0000010472898382363574,
          0.0000010884019160690054,
          0.0000011311278765939215,
          0.00000117553107387837,
          0.0000012216773489967931,
          0.0000012696351276599729,
          0.000001319475521676706,
          0.000001371272434398401,
          0.0000014251026703029963,
          0.000001481046048880674,
          0.0000015391855229902055,
          0.0000015996073018614878,
          0.0000016624009789266135,
          0.0000017276596646690347,
          0.0000017954801246878305,
          0.000001865962923181746,
          0.000001939212572065831,
          0.0000020153376859417353,
          0.000002094451143151469,
          0.0000021766702531534593,
          0.0000022621169304690264,
          0.0000023509178754572842,
          0.000002443204762186487,
          0.000002539114433680347,
          0.0000026387891048289347,
          0.000002742376573264952,
          0.0000028500304385181054,
          0.0000029619103297725534,
          0.00000307818214256508,
          0.0000031990182847750606,
          0.0000033245979322709383,
          0.000003455107294592218,
          0.000003590739891061055,
          0.0000037316968377327556,
          0.00000387818714561072,
          0.000004030428030568051,
          0.000004188645235435271,
          0.000004353073364731892,
          0.000004523956232538058,
          0.00000470154722402213,
          0.000004886109671160326,
          0.000005077917243205403,
          0.000005277254352483532,
          0.000005484416576121015,
          0.000005699711094326075,
          0.000005923457145875806,
          0.0000061559865014835144,
          0.000006397643955748424,
          0.000006648787838417263,
          0.000006909790545715645,
          0.000007181039092537342,
          0.0000074629356863101295,
          0.000007755898323389001,
          0.000008060361408861345,
          0.000008376776400682924,
          0.000008705612479099856,
          0.000009047357242349294,
          0.000009402517429670132,
          0.000009771619672696182,
          0.00001015521127634569,
          0.00001055386103036523,
          0.00001096816005273138,
          0.000011398722666160525,
          0.000011846187309026824,
          0.000012311217482038896,
          0.000012794502732078734,
          0.000013296759674662099,
          0.000013818733056536336,
          0.000014361196859990772,
          0.00001492495545051829,
          0.000015510844769528404,
          0.000016119733573881553,
          0.000016752524724082173,
          0.000017410156523040152,
          0.000018093604107387166,
          0.000018803880893409167,
          0.000019542040079740515,
          0.000020309176209047348,
          0.000021106426791015548,
          0.000021934973989050556,
          0.00002279604637318982,
          0.00002369092074182632,
          0.000024620924014946254,
          0.00002558743520168589,
          0.00002659188744512691,
          0.000027635770147361573,
          0.00002872063117797828,
          0.000029848079169243213,
          0.000031019785901380997,
          0.00003223748878149027,
          0.0000335029934197723,
          0.000034818176306889665,
          0.000036184987596427426,
          0.00003760545399658176,
          0.00003908168177536264,
          0.000040615859883769796,
          0.00004221026320156903,
          0.00004386725591048494,
          0.0000455892949998106,
          0.00004737893390963144,
          0.000049238826317067314,
          0.0000511717300711461,
          0.00005318051128214197,
          0.00005526814857144603,
          0.00005743773748826587,
          0.000059692495099707275,
          0.00006203576476104269,
          0.0000644710210732387,
          0.00006700187503509576,
          0.0000696320793976389,
          0.0000723655342286965,
          0.00007520629269592407,
          0.00007815856707684091,
          0.00008122673500479703,
          0.00008441534596012994,
          0.00008772912801613357,
          0.00009117299484984922,
          0.00009475205302806548,
          0.00009847160957933764,
          0.00010233717986325192,
          0.00010635449574860112,
          0.0001105295141126021,
          0.00011486842567375536,
          0.00011937766417144357,
          0.0001240639159058832,
          0.00012893412965257143,
          0.00013399552696593384,
          0.0001392556128874462,
          0.00014472218707411343,
          0.00015040335536380237,
          0.0001563075417945816,
          0.00016244350109588654,
          0.00016882033167003627,
          0.00017544748908334597,
          0.00018233480008684403,
          0.00018949247718738217,
          0.00019693113379074217,
          0.00020466179993919897,
          0.00021269593866686897,
          0.00022104546299710217,
          0.00022972275360711513,
          0.0002387406771860647,
          0.0002481126055137768,
          0.00025785243528842736,
          0.00026797460873256894,
          0.0002784941350080644,
          0.0002894266124716749,
          0.0003007882518043099,
          0.00031259590004822777,
          0.00032486706558783747,
          0.00033761994411113367,
          0.00035087344559027114,
          0.0003646472223212745,
          0.0003789616980644716,
          0.0003938380983288489,
          0.0004092984818452438,
          0.00042536577327503876,
          0.000442063797202853,
          0.00045941731346364767,
          0.00047745205385661265,
          0.0004961947603002903,
          0.0005156732244854963,
          0.0005359163290848515,
          0.000556954090580013,
          0.0005788177037701274,
          0.0006015395880274833,
          0.0006251534353689712,
          0.0006496942604146118,
          0.0006751984523072501,
          0.0007017038286703822,
          0.0007292496916841444,
          0.0007578768863625923,
          0.0007876278611187055,
          0.0008185467307069021,
          0.0008506793416364154,
          0.0008840733401525063,
          0.0009187782428863331,
          0.0009548455102782293,
          0.0009923286228832545,
          0.0010312831606721848,
          0.0010717668854455034,
          0.0011138398264826184,
          0.0011575643695533036,
          0.0012030053494233243,
          0.001250230145991456,
          0.0012993087842004146,
          0.0013503140378698722,
          0.0014033215376054848,
          0.0014584098829439863,
          0.0015156607589006013,
          0.0015751590570916212,
          0.0016369930016117019,
          0.0017012542798525892,
          0.001768038178457205,
          0.0018374437246107247,
          0.0019095738328780967,
          0.001984535457805803,
          0.002062439752514093,
          0.0021434022335148546,
          0.0022275429519995563,
          0.002314986671851161,
          0.002405863054644067,
          0.0025003068519063214,
          0.0025984581049292473,
          0.0027004623524206823,
          0.0028064708463098388,
          0.002916640776023701,
          0.003031135501567576,
          0.0031501247957553278,
          0.003273785095948577,
          0.0034022997656780645,
          0.0035358593665351756,
          0.003674661940736688,
          0.003818913304781854,
          0.003968827354637158,
          0.004124626382901348,
          0.004286541408420925,
          0.0044548125188449885,
          0.0046296892266272675,
          0.004811430839003254,
          0.00500030684249109,
          0.005196597302486197,
          0.005400593278542374,
          0.005612597255954966,
          0.0058329235942862,
          0.006061898993497572,
          0.006299862978380693,
          0.00654716840200473,
          0.006804181968927094,
          0.007071284778942996,
          0.007348872892180388,
          0.007637357916378012,
          0.007937167617217543,
          0.008248746552614582,
          0.008572556731909325,
          0.008909078300934124,
          0.009258810253973945,
          0.009622271173675135,
          0.01
         ],
         "xaxis": "x",
         "y": [
          -0.185546875,
          -0.1845703125,
          -0.185546875,
          -0.1865234375,
          -0.1845703125,
          -0.185546875,
          -0.18359375,
          -0.1875,
          -0.1826171875,
          -0.18359375,
          -0.185546875,
          -0.185546875,
          -0.185546875,
          -0.1865234375,
          -0.1865234375,
          -0.1865234375,
          -0.1865234375,
          -0.189453125,
          -0.1865234375,
          -0.1875,
          -0.189453125,
          -0.189453125,
          -0.1875,
          -0.18359375,
          -0.1826171875,
          -0.1826171875,
          -0.181640625,
          -0.18359375,
          -0.1787109375,
          -0.18359375,
          -0.181640625,
          -0.181640625,
          -0.185546875,
          -0.1796875,
          -0.1845703125,
          -0.18359375,
          -0.1845703125,
          -0.181640625,
          -0.18359375,
          -0.185546875,
          -0.181640625,
          -0.18359375,
          -0.1806640625,
          -0.17578125,
          -0.1787109375,
          -0.177734375,
          -0.17578125,
          -0.1796875,
          -0.181640625,
          -0.1806640625,
          -0.1767578125,
          -0.1787109375,
          -0.177734375,
          -0.17578125,
          -0.1787109375,
          -0.173828125,
          -0.177734375,
          -0.177734375,
          -0.1767578125,
          -0.177734375,
          -0.18359375,
          -0.1787109375,
          -0.173828125,
          -0.1806640625,
          -0.1826171875,
          -0.177734375,
          -0.1767578125,
          -0.1748046875,
          -0.177734375,
          -0.1796875,
          -0.1865234375,
          -0.1826171875,
          -0.181640625,
          -0.18359375,
          -0.18359375,
          -0.189453125,
          -0.1826171875,
          -0.1904296875,
          -0.189453125,
          -0.203125,
          -0.201171875,
          -0.19921875,
          -0.197265625,
          -0.19921875,
          -0.1982421875,
          -0.193359375,
          -0.19140625,
          -0.1962890625,
          -0.1904296875,
          -0.1982421875,
          -0.193359375,
          -0.1943359375,
          -0.1982421875,
          -0.1962890625,
          -0.205078125,
          -0.2080078125,
          -0.2099609375,
          -0.20703125,
          -0.2099609375,
          -0.2060546875,
          -0.1923828125,
          -0.2001953125,
          -0.19921875,
          -0.19921875,
          -0.197265625,
          -0.1982421875,
          -0.193359375,
          -0.205078125,
          -0.203125,
          -0.201171875,
          -0.173828125,
          -0.173828125,
          -0.1669921875,
          -0.1728515625,
          -0.173828125,
          -0.173828125,
          -0.177734375,
          -0.19140625,
          -0.197265625,
          -0.2080078125,
          -0.216796875,
          -0.220703125,
          -0.22265625,
          -0.2255859375,
          -0.224609375,
          -0.2158203125,
          -0.201171875,
          -0.2109375,
          -0.216796875,
          -0.2060546875,
          -7.8125,
          -0.1923828125,
          -0.203125,
          -8.125,
          -8.4375,
          -8.3125,
          -8.3125,
          -8.375,
          -8.3125,
          -4.65625,
          -9.125,
          -17.125,
          -17.25,
          -9.9375,
          -17.25,
          -17.25,
          -3.390625,
          -3.390625,
          -3.421875,
          -10.75,
          -10.75,
          -10.75,
          -10.75,
          -10.8125,
          -1.8828125,
          -1.9765625,
          -10.8125,
          -10.75,
          -3.421875,
          -4.1875,
          -4.125,
          -4.15625,
          -4.1875,
          -4.21875,
          -4.1875,
          -4.21875,
          -11.6875,
          -10.5625,
          -10.5625,
          -3.546875,
          -4.15625,
          -3.96875,
          -3.96875,
          -4.125,
          -11.1875,
          -5.375,
          -11.875,
          -11.5,
          -2.78125,
          -2.90625,
          -3,
          -4.25,
          -4.21875,
          -4.125,
          -4.15625,
          -11.0625,
          -13.3125,
          -4.03125,
          -4.625,
          -4.375,
          -4.59375,
          -4.59375,
          -12.8125,
          -13,
          -13.1875,
          -12.875,
          -13,
          -13.0625,
          -5.3125,
          -5.25,
          -12.9375,
          -38.25,
          -22.625,
          -29.75,
          -23.625,
          -22.25,
          -35.5,
          -37,
          -61.5,
          -41.5,
          -50.75,
          -56.25,
          -53.5,
          -49.25,
          -40.75,
          -32.25,
          -40.25,
          -19.625,
          -33.25,
          -26.625,
          -33.25,
          -26.75,
          -26.75,
          -27.125,
          -33.75,
          -19.5,
          -40,
          -40.25,
          -26.125,
          -19.625,
          -26.375,
          -27,
          -23.5,
          -22.75,
          -26.625,
          -26.375,
          -26.25,
          -26.5,
          -26.375,
          -26.375,
          -19.75,
          -19.625,
          -12.4375,
          -12.4375,
          -12.4375,
          -12.4375,
          -12.4375,
          -12.4375,
          -12.4375,
          -12.4375,
          -12.4375,
          -12.4375,
          -12.4375,
          -12.4375,
          -12.4375,
          -12.4375,
          -12.4375,
          -12.4375,
          -12.4375,
          -12.4375,
          -19,
          -19,
          -12.4375,
          -12.4375,
          -12.4375,
          -19,
          -19,
          -12.4375,
          -12.4375,
          -19,
          -19,
          -19,
          -19,
          -19,
          -19,
          -19,
          -19,
          -19,
          -19,
          -19,
          -19,
          -19,
          -19.125,
          -19.125,
          -19,
          -19,
          -19,
          -19,
          -19,
          -19,
          -19,
          -19,
          -19,
          -19,
          -19,
          -19,
          -19,
          -19,
          -19,
          -19
         ],
         "yaxis": "y"
        }
       ],
       "layout": {
        "legend": {
         "tracegroupgap": 0
        },
        "margin": {
         "t": 60
        },
        "template": {
         "data": {
          "bar": [
           {
            "error_x": {
             "color": "#2a3f5f"
            },
            "error_y": {
             "color": "#2a3f5f"
            },
            "marker": {
             "line": {
              "color": "#E5ECF6",
              "width": 0.5
             },
             "pattern": {
              "fillmode": "overlay",
              "size": 10,
              "solidity": 0.2
             }
            },
            "type": "bar"
           }
          ],
          "barpolar": [
           {
            "marker": {
             "line": {
              "color": "#E5ECF6",
              "width": 0.5
             },
             "pattern": {
              "fillmode": "overlay",
              "size": 10,
              "solidity": 0.2
             }
            },
            "type": "barpolar"
           }
          ],
          "carpet": [
           {
            "aaxis": {
             "endlinecolor": "#2a3f5f",
             "gridcolor": "white",
             "linecolor": "white",
             "minorgridcolor": "white",
             "startlinecolor": "#2a3f5f"
            },
            "baxis": {
             "endlinecolor": "#2a3f5f",
             "gridcolor": "white",
             "linecolor": "white",
             "minorgridcolor": "white",
             "startlinecolor": "#2a3f5f"
            },
            "type": "carpet"
           }
          ],
          "choropleth": [
           {
            "colorbar": {
             "outlinewidth": 0,
             "ticks": ""
            },
            "type": "choropleth"
           }
          ],
          "contour": [
           {
            "colorbar": {
             "outlinewidth": 0,
             "ticks": ""
            },
            "colorscale": [
             [
              0,
              "#0d0887"
             ],
             [
              0.1111111111111111,
              "#46039f"
             ],
             [
              0.2222222222222222,
              "#7201a8"
             ],
             [
              0.3333333333333333,
              "#9c179e"
             ],
             [
              0.4444444444444444,
              "#bd3786"
             ],
             [
              0.5555555555555556,
              "#d8576b"
             ],
             [
              0.6666666666666666,
              "#ed7953"
             ],
             [
              0.7777777777777778,
              "#fb9f3a"
             ],
             [
              0.8888888888888888,
              "#fdca26"
             ],
             [
              1,
              "#f0f921"
             ]
            ],
            "type": "contour"
           }
          ],
          "contourcarpet": [
           {
            "colorbar": {
             "outlinewidth": 0,
             "ticks": ""
            },
            "type": "contourcarpet"
           }
          ],
          "heatmap": [
           {
            "colorbar": {
             "outlinewidth": 0,
             "ticks": ""
            },
            "colorscale": [
             [
              0,
              "#0d0887"
             ],
             [
              0.1111111111111111,
              "#46039f"
             ],
             [
              0.2222222222222222,
              "#7201a8"
             ],
             [
              0.3333333333333333,
              "#9c179e"
             ],
             [
              0.4444444444444444,
              "#bd3786"
             ],
             [
              0.5555555555555556,
              "#d8576b"
             ],
             [
              0.6666666666666666,
              "#ed7953"
             ],
             [
              0.7777777777777778,
              "#fb9f3a"
             ],
             [
              0.8888888888888888,
              "#fdca26"
             ],
             [
              1,
              "#f0f921"
             ]
            ],
            "type": "heatmap"
           }
          ],
          "heatmapgl": [
           {
            "colorbar": {
             "outlinewidth": 0,
             "ticks": ""
            },
            "colorscale": [
             [
              0,
              "#0d0887"
             ],
             [
              0.1111111111111111,
              "#46039f"
             ],
             [
              0.2222222222222222,
              "#7201a8"
             ],
             [
              0.3333333333333333,
              "#9c179e"
             ],
             [
              0.4444444444444444,
              "#bd3786"
             ],
             [
              0.5555555555555556,
              "#d8576b"
             ],
             [
              0.6666666666666666,
              "#ed7953"
             ],
             [
              0.7777777777777778,
              "#fb9f3a"
             ],
             [
              0.8888888888888888,
              "#fdca26"
             ],
             [
              1,
              "#f0f921"
             ]
            ],
            "type": "heatmapgl"
           }
          ],
          "histogram": [
           {
            "marker": {
             "pattern": {
              "fillmode": "overlay",
              "size": 10,
              "solidity": 0.2
             }
            },
            "type": "histogram"
           }
          ],
          "histogram2d": [
           {
            "colorbar": {
             "outlinewidth": 0,
             "ticks": ""
            },
            "colorscale": [
             [
              0,
              "#0d0887"
             ],
             [
              0.1111111111111111,
              "#46039f"
             ],
             [
              0.2222222222222222,
              "#7201a8"
             ],
             [
              0.3333333333333333,
              "#9c179e"
             ],
             [
              0.4444444444444444,
              "#bd3786"
             ],
             [
              0.5555555555555556,
              "#d8576b"
             ],
             [
              0.6666666666666666,
              "#ed7953"
             ],
             [
              0.7777777777777778,
              "#fb9f3a"
             ],
             [
              0.8888888888888888,
              "#fdca26"
             ],
             [
              1,
              "#f0f921"
             ]
            ],
            "type": "histogram2d"
           }
          ],
          "histogram2dcontour": [
           {
            "colorbar": {
             "outlinewidth": 0,
             "ticks": ""
            },
            "colorscale": [
             [
              0,
              "#0d0887"
             ],
             [
              0.1111111111111111,
              "#46039f"
             ],
             [
              0.2222222222222222,
              "#7201a8"
             ],
             [
              0.3333333333333333,
              "#9c179e"
             ],
             [
              0.4444444444444444,
              "#bd3786"
             ],
             [
              0.5555555555555556,
              "#d8576b"
             ],
             [
              0.6666666666666666,
              "#ed7953"
             ],
             [
              0.7777777777777778,
              "#fb9f3a"
             ],
             [
              0.8888888888888888,
              "#fdca26"
             ],
             [
              1,
              "#f0f921"
             ]
            ],
            "type": "histogram2dcontour"
           }
          ],
          "mesh3d": [
           {
            "colorbar": {
             "outlinewidth": 0,
             "ticks": ""
            },
            "type": "mesh3d"
           }
          ],
          "parcoords": [
           {
            "line": {
             "colorbar": {
              "outlinewidth": 0,
              "ticks": ""
             }
            },
            "type": "parcoords"
           }
          ],
          "pie": [
           {
            "automargin": true,
            "type": "pie"
           }
          ],
          "scatter": [
           {
            "fillpattern": {
             "fillmode": "overlay",
             "size": 10,
             "solidity": 0.2
            },
            "type": "scatter"
           }
          ],
          "scatter3d": [
           {
            "line": {
             "colorbar": {
              "outlinewidth": 0,
              "ticks": ""
             }
            },
            "marker": {
             "colorbar": {
              "outlinewidth": 0,
              "ticks": ""
             }
            },
            "type": "scatter3d"
           }
          ],
          "scattercarpet": [
           {
            "marker": {
             "colorbar": {
              "outlinewidth": 0,
              "ticks": ""
             }
            },
            "type": "scattercarpet"
           }
          ],
          "scattergeo": [
           {
            "marker": {
             "colorbar": {
              "outlinewidth": 0,
              "ticks": ""
             }
            },
            "type": "scattergeo"
           }
          ],
          "scattergl": [
           {
            "marker": {
             "colorbar": {
              "outlinewidth": 0,
              "ticks": ""
             }
            },
            "type": "scattergl"
           }
          ],
          "scattermapbox": [
           {
            "marker": {
             "colorbar": {
              "outlinewidth": 0,
              "ticks": ""
             }
            },
            "type": "scattermapbox"
           }
          ],
          "scatterpolar": [
           {
            "marker": {
             "colorbar": {
              "outlinewidth": 0,
              "ticks": ""
             }
            },
            "type": "scatterpolar"
           }
          ],
          "scatterpolargl": [
           {
            "marker": {
             "colorbar": {
              "outlinewidth": 0,
              "ticks": ""
             }
            },
            "type": "scatterpolargl"
           }
          ],
          "scatterternary": [
           {
            "marker": {
             "colorbar": {
              "outlinewidth": 0,
              "ticks": ""
             }
            },
            "type": "scatterternary"
           }
          ],
          "surface": [
           {
            "colorbar": {
             "outlinewidth": 0,
             "ticks": ""
            },
            "colorscale": [
             [
              0,
              "#0d0887"
             ],
             [
              0.1111111111111111,
              "#46039f"
             ],
             [
              0.2222222222222222,
              "#7201a8"
             ],
             [
              0.3333333333333333,
              "#9c179e"
             ],
             [
              0.4444444444444444,
              "#bd3786"
             ],
             [
              0.5555555555555556,
              "#d8576b"
             ],
             [
              0.6666666666666666,
              "#ed7953"
             ],
             [
              0.7777777777777778,
              "#fb9f3a"
             ],
             [
              0.8888888888888888,
              "#fdca26"
             ],
             [
              1,
              "#f0f921"
             ]
            ],
            "type": "surface"
           }
          ],
          "table": [
           {
            "cells": {
             "fill": {
              "color": "#EBF0F8"
             },
             "line": {
              "color": "white"
             }
            },
            "header": {
             "fill": {
              "color": "#C8D4E3"
             },
             "line": {
              "color": "white"
             }
            },
            "type": "table"
           }
          ]
         },
         "layout": {
          "annotationdefaults": {
           "arrowcolor": "#2a3f5f",
           "arrowhead": 0,
           "arrowwidth": 1
          },
          "autotypenumbers": "strict",
          "coloraxis": {
           "colorbar": {
            "outlinewidth": 0,
            "ticks": ""
           }
          },
          "colorscale": {
           "diverging": [
            [
             0,
             "#8e0152"
            ],
            [
             0.1,
             "#c51b7d"
            ],
            [
             0.2,
             "#de77ae"
            ],
            [
             0.3,
             "#f1b6da"
            ],
            [
             0.4,
             "#fde0ef"
            ],
            [
             0.5,
             "#f7f7f7"
            ],
            [
             0.6,
             "#e6f5d0"
            ],
            [
             0.7,
             "#b8e186"
            ],
            [
             0.8,
             "#7fbc41"
            ],
            [
             0.9,
             "#4d9221"
            ],
            [
             1,
             "#276419"
            ]
           ],
           "sequential": [
            [
             0,
             "#0d0887"
            ],
            [
             0.1111111111111111,
             "#46039f"
            ],
            [
             0.2222222222222222,
             "#7201a8"
            ],
            [
             0.3333333333333333,
             "#9c179e"
            ],
            [
             0.4444444444444444,
             "#bd3786"
            ],
            [
             0.5555555555555556,
             "#d8576b"
            ],
            [
             0.6666666666666666,
             "#ed7953"
            ],
            [
             0.7777777777777778,
             "#fb9f3a"
            ],
            [
             0.8888888888888888,
             "#fdca26"
            ],
            [
             1,
             "#f0f921"
            ]
           ],
           "sequentialminus": [
            [
             0,
             "#0d0887"
            ],
            [
             0.1111111111111111,
             "#46039f"
            ],
            [
             0.2222222222222222,
             "#7201a8"
            ],
            [
             0.3333333333333333,
             "#9c179e"
            ],
            [
             0.4444444444444444,
             "#bd3786"
            ],
            [
             0.5555555555555556,
             "#d8576b"
            ],
            [
             0.6666666666666666,
             "#ed7953"
            ],
            [
             0.7777777777777778,
             "#fb9f3a"
            ],
            [
             0.8888888888888888,
             "#fdca26"
            ],
            [
             1,
             "#f0f921"
            ]
           ]
          },
          "colorway": [
           "#636efa",
           "#EF553B",
           "#00cc96",
           "#ab63fa",
           "#FFA15A",
           "#19d3f3",
           "#FF6692",
           "#B6E880",
           "#FF97FF",
           "#FECB52"
          ],
          "font": {
           "color": "#2a3f5f"
          },
          "geo": {
           "bgcolor": "white",
           "lakecolor": "white",
           "landcolor": "#E5ECF6",
           "showlakes": true,
           "showland": true,
           "subunitcolor": "white"
          },
          "hoverlabel": {
           "align": "left"
          },
          "hovermode": "closest",
          "mapbox": {
           "style": "light"
          },
          "paper_bgcolor": "white",
          "plot_bgcolor": "#E5ECF6",
          "polar": {
           "angularaxis": {
            "gridcolor": "white",
            "linecolor": "white",
            "ticks": ""
           },
           "bgcolor": "#E5ECF6",
           "radialaxis": {
            "gridcolor": "white",
            "linecolor": "white",
            "ticks": ""
           }
          },
          "scene": {
           "xaxis": {
            "backgroundcolor": "#E5ECF6",
            "gridcolor": "white",
            "gridwidth": 2,
            "linecolor": "white",
            "showbackground": true,
            "ticks": "",
            "zerolinecolor": "white"
           },
           "yaxis": {
            "backgroundcolor": "#E5ECF6",
            "gridcolor": "white",
            "gridwidth": 2,
            "linecolor": "white",
            "showbackground": true,
            "ticks": "",
            "zerolinecolor": "white"
           },
           "zaxis": {
            "backgroundcolor": "#E5ECF6",
            "gridcolor": "white",
            "gridwidth": 2,
            "linecolor": "white",
            "showbackground": true,
            "ticks": "",
            "zerolinecolor": "white"
           }
          },
          "shapedefaults": {
           "line": {
            "color": "#2a3f5f"
           }
          },
          "ternary": {
           "aaxis": {
            "gridcolor": "white",
            "linecolor": "white",
            "ticks": ""
           },
           "baxis": {
            "gridcolor": "white",
            "linecolor": "white",
            "ticks": ""
           },
           "bgcolor": "#E5ECF6",
           "caxis": {
            "gridcolor": "white",
            "linecolor": "white",
            "ticks": ""
           }
          },
          "title": {
           "x": 0.05
          },
          "xaxis": {
           "automargin": true,
           "gridcolor": "white",
           "linecolor": "white",
           "ticks": "",
           "title": {
            "standoff": 15
           },
           "zerolinecolor": "white",
           "zerolinewidth": 2
          },
          "yaxis": {
           "automargin": true,
           "gridcolor": "white",
           "linecolor": "white",
           "ticks": "",
           "title": {
            "standoff": 15
           },
           "zerolinecolor": "white",
           "zerolinewidth": 2
          }
         }
        },
        "xaxis": {
         "anchor": "y",
         "domain": [
          0,
          1
         ],
         "exponentformat": "power",
         "title": {
          "text": "x"
         },
         "type": "log"
        },
        "yaxis": {
         "anchor": "x",
         "domain": [
          0,
          1
         ],
         "title": {
          "text": "y"
         }
        }
       }
      },
      "text/html": [
       "<div>                            <div id=\"8e29d5f4-535b-4016-8572-c20b57ab3aba\" class=\"plotly-graph-div\" style=\"height:525px; width:100%;\"></div>            <script type=\"text/javascript\">                require([\"plotly\"], function(Plotly) {                    window.PLOTLYENV=window.PLOTLYENV || {};                                    if (document.getElementById(\"8e29d5f4-535b-4016-8572-c20b57ab3aba\")) {                    Plotly.newPlot(                        \"8e29d5f4-535b-4016-8572-c20b57ab3aba\",                        [{\"hovertemplate\":\"x=%{x}\\u003cbr\\u003ey=%{y}\\u003cextra\\u003e\\u003c\\u002fextra\\u003e\",\"legendgroup\":\"\",\"line\":{\"color\":\"#636efa\",\"dash\":\"solid\"},\"marker\":{\"symbol\":\"circle\"},\"mode\":\"lines\",\"name\":\"\",\"orientation\":\"v\",\"showlegend\":false,\"x\":[1e-7,1.0392556829367131e-7,1.080052374516254e-7,1.1224505680853059e-7,1.1665131316981961e-7,1.2123054013376528e-7,1.2598952777950286e-7,1.3093533273536096e-7,1.3607528864243332e-7,1.414170170289024e-7,1.4696843861124475e-7,1.5273778503907124e-7,1.5873361110102087e-7,1.6496480740980207e-7,1.714406135851972e-7,1.7817063195457288e-7,1.8516484179121542e-7,1.92433614111598e-7,1.999877270535287e-7,2.0783838185797552e-7,2.1599721947827173e-7,2.244763378413224e-7,2.3328830978641583e-7,2.424462017082331e-7,2.5196359293170135e-7,2.618545958474233e-7,2.721338768375309e-7,2.828166780230035e-7,2.9391883986468845e-7,3.054568246515432e-7,3.1744774091091933e-7,3.2990936877709424e-7,3.428601863556583e-7,3.563193971228584e-7,3.703069584005141e-7,3.848436109487433e-7,3.9995090972036615e-7,4.156512558225988e-7,4.319679297334174e-7,4.4892512582186075e-7,4.6654798822344683e-7,4.848626481239078e-7,5.038962625065151e-7,5.236770544204655e-7,5.442343548300272e-7,5.655986461065002e-7,5.878016072274911e-7,6.10876160750504e-7,6.34856521630521e-7,6.597782479539533e-7,6.856782936641738e-7,7.125950633568411e-7,7.405684692262442e-7,7.696399902471151e-7,7.998527336796708e-7,8.312514989890632e-7,8.638828442740454e-7,8.977951553033314e-7,9.33038717262036e-7,9.69665789314552e-7,1.0077306820944618e-6,1.0472898382363574e-6,1.0884019160690054e-6,1.1311278765939215e-6,1.17553107387837e-6,1.2216773489967931e-6,1.2696351276599729e-6,1.319475521676706e-6,1.371272434398401e-6,1.4251026703029963e-6,1.481046048880674e-6,1.5391855229902055e-6,1.5996073018614878e-6,1.6624009789266135e-6,1.7276596646690347e-6,1.7954801246878305e-6,1.865962923181746e-6,1.939212572065831e-6,2.0153376859417353e-6,2.094451143151469e-6,2.1766702531534593e-6,2.2621169304690264e-6,2.3509178754572842e-6,2.443204762186487e-6,2.539114433680347e-6,2.6387891048289347e-6,2.742376573264952e-6,2.8500304385181054e-6,2.9619103297725534e-6,3.07818214256508e-6,3.1990182847750606e-6,3.3245979322709383e-6,3.455107294592218e-6,3.590739891061055e-6,3.7316968377327556e-6,3.87818714561072e-6,4.030428030568051e-6,4.188645235435271e-6,4.353073364731892e-6,4.523956232538058e-6,4.70154722402213e-6,4.886109671160326e-6,5.077917243205403e-6,5.277254352483532e-6,5.484416576121015e-6,5.699711094326075e-6,5.923457145875806e-6,6.1559865014835144e-6,6.397643955748424e-6,6.648787838417263e-6,6.909790545715645e-6,7.181039092537342e-6,7.4629356863101295e-6,7.755898323389001e-6,8.060361408861345e-6,8.376776400682924e-6,8.705612479099856e-6,9.047357242349294e-6,9.402517429670132e-6,9.771619672696182e-6,0.00001015521127634569,0.00001055386103036523,0.00001096816005273138,0.000011398722666160525,0.000011846187309026824,0.000012311217482038896,0.000012794502732078734,0.000013296759674662099,0.000013818733056536336,0.000014361196859990772,0.00001492495545051829,0.000015510844769528404,0.000016119733573881553,0.000016752524724082173,0.000017410156523040152,0.000018093604107387166,0.000018803880893409167,0.000019542040079740515,0.000020309176209047348,0.000021106426791015548,0.000021934973989050556,0.00002279604637318982,0.00002369092074182632,0.000024620924014946254,0.00002558743520168589,0.00002659188744512691,0.000027635770147361573,0.00002872063117797828,0.000029848079169243213,0.000031019785901380997,0.00003223748878149027,0.0000335029934197723,0.000034818176306889665,0.000036184987596427426,0.00003760545399658176,0.00003908168177536264,0.000040615859883769796,0.00004221026320156903,0.00004386725591048494,0.0000455892949998106,0.00004737893390963144,0.000049238826317067314,0.0000511717300711461,0.00005318051128214197,0.00005526814857144603,0.00005743773748826587,0.000059692495099707275,0.00006203576476104269,0.0000644710210732387,0.00006700187503509576,0.0000696320793976389,0.0000723655342286965,0.00007520629269592407,0.00007815856707684091,0.00008122673500479703,0.00008441534596012994,0.00008772912801613357,0.00009117299484984922,0.00009475205302806548,0.00009847160957933764,0.00010233717986325192,0.00010635449574860112,0.0001105295141126021,0.00011486842567375536,0.00011937766417144357,0.0001240639159058832,0.00012893412965257143,0.00013399552696593384,0.0001392556128874462,0.00014472218707411343,0.00015040335536380237,0.0001563075417945816,0.00016244350109588654,0.00016882033167003627,0.00017544748908334597,0.00018233480008684403,0.00018949247718738217,0.00019693113379074217,0.00020466179993919897,0.00021269593866686897,0.00022104546299710217,0.00022972275360711513,0.0002387406771860647,0.0002481126055137768,0.00025785243528842736,0.00026797460873256894,0.0002784941350080644,0.0002894266124716749,0.0003007882518043099,0.00031259590004822777,0.00032486706558783747,0.00033761994411113367,0.00035087344559027114,0.0003646472223212745,0.0003789616980644716,0.0003938380983288489,0.0004092984818452438,0.00042536577327503876,0.000442063797202853,0.00045941731346364767,0.00047745205385661265,0.0004961947603002903,0.0005156732244854963,0.0005359163290848515,0.000556954090580013,0.0005788177037701274,0.0006015395880274833,0.0006251534353689712,0.0006496942604146118,0.0006751984523072501,0.0007017038286703822,0.0007292496916841444,0.0007578768863625923,0.0007876278611187055,0.0008185467307069021,0.0008506793416364154,0.0008840733401525063,0.0009187782428863331,0.0009548455102782293,0.0009923286228832545,0.0010312831606721848,0.0010717668854455034,0.0011138398264826184,0.0011575643695533036,0.0012030053494233243,0.001250230145991456,0.0012993087842004146,0.0013503140378698722,0.0014033215376054848,0.0014584098829439863,0.0015156607589006013,0.0015751590570916212,0.0016369930016117019,0.0017012542798525892,0.001768038178457205,0.0018374437246107247,0.0019095738328780967,0.001984535457805803,0.002062439752514093,0.0021434022335148546,0.0022275429519995563,0.002314986671851161,0.002405863054644067,0.0025003068519063214,0.0025984581049292473,0.0027004623524206823,0.0028064708463098388,0.002916640776023701,0.003031135501567576,0.0031501247957553278,0.003273785095948577,0.0034022997656780645,0.0035358593665351756,0.003674661940736688,0.003818913304781854,0.003968827354637158,0.004124626382901348,0.004286541408420925,0.0044548125188449885,0.0046296892266272675,0.004811430839003254,0.00500030684249109,0.005196597302486197,0.005400593278542374,0.005612597255954966,0.0058329235942862,0.006061898993497572,0.006299862978380693,0.00654716840200473,0.006804181968927094,0.007071284778942996,0.007348872892180388,0.007637357916378012,0.007937167617217543,0.008248746552614582,0.008572556731909325,0.008909078300934124,0.009258810253973945,0.009622271173675135,0.01],\"xaxis\":\"x\",\"y\":[-0.185546875,-0.1845703125,-0.185546875,-0.1865234375,-0.1845703125,-0.185546875,-0.18359375,-0.1875,-0.1826171875,-0.18359375,-0.185546875,-0.185546875,-0.185546875,-0.1865234375,-0.1865234375,-0.1865234375,-0.1865234375,-0.189453125,-0.1865234375,-0.1875,-0.189453125,-0.189453125,-0.1875,-0.18359375,-0.1826171875,-0.1826171875,-0.181640625,-0.18359375,-0.1787109375,-0.18359375,-0.181640625,-0.181640625,-0.185546875,-0.1796875,-0.1845703125,-0.18359375,-0.1845703125,-0.181640625,-0.18359375,-0.185546875,-0.181640625,-0.18359375,-0.1806640625,-0.17578125,-0.1787109375,-0.177734375,-0.17578125,-0.1796875,-0.181640625,-0.1806640625,-0.1767578125,-0.1787109375,-0.177734375,-0.17578125,-0.1787109375,-0.173828125,-0.177734375,-0.177734375,-0.1767578125,-0.177734375,-0.18359375,-0.1787109375,-0.173828125,-0.1806640625,-0.1826171875,-0.177734375,-0.1767578125,-0.1748046875,-0.177734375,-0.1796875,-0.1865234375,-0.1826171875,-0.181640625,-0.18359375,-0.18359375,-0.189453125,-0.1826171875,-0.1904296875,-0.189453125,-0.203125,-0.201171875,-0.19921875,-0.197265625,-0.19921875,-0.1982421875,-0.193359375,-0.19140625,-0.1962890625,-0.1904296875,-0.1982421875,-0.193359375,-0.1943359375,-0.1982421875,-0.1962890625,-0.205078125,-0.2080078125,-0.2099609375,-0.20703125,-0.2099609375,-0.2060546875,-0.1923828125,-0.2001953125,-0.19921875,-0.19921875,-0.197265625,-0.1982421875,-0.193359375,-0.205078125,-0.203125,-0.201171875,-0.173828125,-0.173828125,-0.1669921875,-0.1728515625,-0.173828125,-0.173828125,-0.177734375,-0.19140625,-0.197265625,-0.2080078125,-0.216796875,-0.220703125,-0.22265625,-0.2255859375,-0.224609375,-0.2158203125,-0.201171875,-0.2109375,-0.216796875,-0.2060546875,-7.8125,-0.1923828125,-0.203125,-8.125,-8.4375,-8.3125,-8.3125,-8.375,-8.3125,-4.65625,-9.125,-17.125,-17.25,-9.9375,-17.25,-17.25,-3.390625,-3.390625,-3.421875,-10.75,-10.75,-10.75,-10.75,-10.8125,-1.8828125,-1.9765625,-10.8125,-10.75,-3.421875,-4.1875,-4.125,-4.15625,-4.1875,-4.21875,-4.1875,-4.21875,-11.6875,-10.5625,-10.5625,-3.546875,-4.15625,-3.96875,-3.96875,-4.125,-11.1875,-5.375,-11.875,-11.5,-2.78125,-2.90625,-3.0,-4.25,-4.21875,-4.125,-4.15625,-11.0625,-13.3125,-4.03125,-4.625,-4.375,-4.59375,-4.59375,-12.8125,-13.0,-13.1875,-12.875,-13.0,-13.0625,-5.3125,-5.25,-12.9375,-38.25,-22.625,-29.75,-23.625,-22.25,-35.5,-37.0,-61.5,-41.5,-50.75,-56.25,-53.5,-49.25,-40.75,-32.25,-40.25,-19.625,-33.25,-26.625,-33.25,-26.75,-26.75,-27.125,-33.75,-19.5,-40.0,-40.25,-26.125,-19.625,-26.375,-27.0,-23.5,-22.75,-26.625,-26.375,-26.25,-26.5,-26.375,-26.375,-19.75,-19.625,-12.4375,-12.4375,-12.4375,-12.4375,-12.4375,-12.4375,-12.4375,-12.4375,-12.4375,-12.4375,-12.4375,-12.4375,-12.4375,-12.4375,-12.4375,-12.4375,-12.4375,-12.4375,-19.0,-19.0,-12.4375,-12.4375,-12.4375,-19.0,-19.0,-12.4375,-12.4375,-19.0,-19.0,-19.0,-19.0,-19.0,-19.0,-19.0,-19.0,-19.0,-19.0,-19.0,-19.0,-19.0,-19.125,-19.125,-19.0,-19.0,-19.0,-19.0,-19.0,-19.0,-19.0,-19.0,-19.0,-19.0,-19.0,-19.0,-19.0,-19.0,-19.0,-19.0],\"yaxis\":\"y\",\"type\":\"scatter\"}],                        {\"template\":{\"data\":{\"histogram2dcontour\":[{\"type\":\"histogram2dcontour\",\"colorbar\":{\"outlinewidth\":0,\"ticks\":\"\"},\"colorscale\":[[0.0,\"#0d0887\"],[0.1111111111111111,\"#46039f\"],[0.2222222222222222,\"#7201a8\"],[0.3333333333333333,\"#9c179e\"],[0.4444444444444444,\"#bd3786\"],[0.5555555555555556,\"#d8576b\"],[0.6666666666666666,\"#ed7953\"],[0.7777777777777778,\"#fb9f3a\"],[0.8888888888888888,\"#fdca26\"],[1.0,\"#f0f921\"]]}],\"choropleth\":[{\"type\":\"choropleth\",\"colorbar\":{\"outlinewidth\":0,\"ticks\":\"\"}}],\"histogram2d\":[{\"type\":\"histogram2d\",\"colorbar\":{\"outlinewidth\":0,\"ticks\":\"\"},\"colorscale\":[[0.0,\"#0d0887\"],[0.1111111111111111,\"#46039f\"],[0.2222222222222222,\"#7201a8\"],[0.3333333333333333,\"#9c179e\"],[0.4444444444444444,\"#bd3786\"],[0.5555555555555556,\"#d8576b\"],[0.6666666666666666,\"#ed7953\"],[0.7777777777777778,\"#fb9f3a\"],[0.8888888888888888,\"#fdca26\"],[1.0,\"#f0f921\"]]}],\"heatmap\":[{\"type\":\"heatmap\",\"colorbar\":{\"outlinewidth\":0,\"ticks\":\"\"},\"colorscale\":[[0.0,\"#0d0887\"],[0.1111111111111111,\"#46039f\"],[0.2222222222222222,\"#7201a8\"],[0.3333333333333333,\"#9c179e\"],[0.4444444444444444,\"#bd3786\"],[0.5555555555555556,\"#d8576b\"],[0.6666666666666666,\"#ed7953\"],[0.7777777777777778,\"#fb9f3a\"],[0.8888888888888888,\"#fdca26\"],[1.0,\"#f0f921\"]]}],\"heatmapgl\":[{\"type\":\"heatmapgl\",\"colorbar\":{\"outlinewidth\":0,\"ticks\":\"\"},\"colorscale\":[[0.0,\"#0d0887\"],[0.1111111111111111,\"#46039f\"],[0.2222222222222222,\"#7201a8\"],[0.3333333333333333,\"#9c179e\"],[0.4444444444444444,\"#bd3786\"],[0.5555555555555556,\"#d8576b\"],[0.6666666666666666,\"#ed7953\"],[0.7777777777777778,\"#fb9f3a\"],[0.8888888888888888,\"#fdca26\"],[1.0,\"#f0f921\"]]}],\"contourcarpet\":[{\"type\":\"contourcarpet\",\"colorbar\":{\"outlinewidth\":0,\"ticks\":\"\"}}],\"contour\":[{\"type\":\"contour\",\"colorbar\":{\"outlinewidth\":0,\"ticks\":\"\"},\"colorscale\":[[0.0,\"#0d0887\"],[0.1111111111111111,\"#46039f\"],[0.2222222222222222,\"#7201a8\"],[0.3333333333333333,\"#9c179e\"],[0.4444444444444444,\"#bd3786\"],[0.5555555555555556,\"#d8576b\"],[0.6666666666666666,\"#ed7953\"],[0.7777777777777778,\"#fb9f3a\"],[0.8888888888888888,\"#fdca26\"],[1.0,\"#f0f921\"]]}],\"surface\":[{\"type\":\"surface\",\"colorbar\":{\"outlinewidth\":0,\"ticks\":\"\"},\"colorscale\":[[0.0,\"#0d0887\"],[0.1111111111111111,\"#46039f\"],[0.2222222222222222,\"#7201a8\"],[0.3333333333333333,\"#9c179e\"],[0.4444444444444444,\"#bd3786\"],[0.5555555555555556,\"#d8576b\"],[0.6666666666666666,\"#ed7953\"],[0.7777777777777778,\"#fb9f3a\"],[0.8888888888888888,\"#fdca26\"],[1.0,\"#f0f921\"]]}],\"mesh3d\":[{\"type\":\"mesh3d\",\"colorbar\":{\"outlinewidth\":0,\"ticks\":\"\"}}],\"scatter\":[{\"fillpattern\":{\"fillmode\":\"overlay\",\"size\":10,\"solidity\":0.2},\"type\":\"scatter\"}],\"parcoords\":[{\"type\":\"parcoords\",\"line\":{\"colorbar\":{\"outlinewidth\":0,\"ticks\":\"\"}}}],\"scatterpolargl\":[{\"type\":\"scatterpolargl\",\"marker\":{\"colorbar\":{\"outlinewidth\":0,\"ticks\":\"\"}}}],\"bar\":[{\"error_x\":{\"color\":\"#2a3f5f\"},\"error_y\":{\"color\":\"#2a3f5f\"},\"marker\":{\"line\":{\"color\":\"#E5ECF6\",\"width\":0.5},\"pattern\":{\"fillmode\":\"overlay\",\"size\":10,\"solidity\":0.2}},\"type\":\"bar\"}],\"scattergeo\":[{\"type\":\"scattergeo\",\"marker\":{\"colorbar\":{\"outlinewidth\":0,\"ticks\":\"\"}}}],\"scatterpolar\":[{\"type\":\"scatterpolar\",\"marker\":{\"colorbar\":{\"outlinewidth\":0,\"ticks\":\"\"}}}],\"histogram\":[{\"marker\":{\"pattern\":{\"fillmode\":\"overlay\",\"size\":10,\"solidity\":0.2}},\"type\":\"histogram\"}],\"scattergl\":[{\"type\":\"scattergl\",\"marker\":{\"colorbar\":{\"outlinewidth\":0,\"ticks\":\"\"}}}],\"scatter3d\":[{\"type\":\"scatter3d\",\"line\":{\"colorbar\":{\"outlinewidth\":0,\"ticks\":\"\"}},\"marker\":{\"colorbar\":{\"outlinewidth\":0,\"ticks\":\"\"}}}],\"scattermapbox\":[{\"type\":\"scattermapbox\",\"marker\":{\"colorbar\":{\"outlinewidth\":0,\"ticks\":\"\"}}}],\"scatterternary\":[{\"type\":\"scatterternary\",\"marker\":{\"colorbar\":{\"outlinewidth\":0,\"ticks\":\"\"}}}],\"scattercarpet\":[{\"type\":\"scattercarpet\",\"marker\":{\"colorbar\":{\"outlinewidth\":0,\"ticks\":\"\"}}}],\"carpet\":[{\"aaxis\":{\"endlinecolor\":\"#2a3f5f\",\"gridcolor\":\"white\",\"linecolor\":\"white\",\"minorgridcolor\":\"white\",\"startlinecolor\":\"#2a3f5f\"},\"baxis\":{\"endlinecolor\":\"#2a3f5f\",\"gridcolor\":\"white\",\"linecolor\":\"white\",\"minorgridcolor\":\"white\",\"startlinecolor\":\"#2a3f5f\"},\"type\":\"carpet\"}],\"table\":[{\"cells\":{\"fill\":{\"color\":\"#EBF0F8\"},\"line\":{\"color\":\"white\"}},\"header\":{\"fill\":{\"color\":\"#C8D4E3\"},\"line\":{\"color\":\"white\"}},\"type\":\"table\"}],\"barpolar\":[{\"marker\":{\"line\":{\"color\":\"#E5ECF6\",\"width\":0.5},\"pattern\":{\"fillmode\":\"overlay\",\"size\":10,\"solidity\":0.2}},\"type\":\"barpolar\"}],\"pie\":[{\"automargin\":true,\"type\":\"pie\"}]},\"layout\":{\"autotypenumbers\":\"strict\",\"colorway\":[\"#636efa\",\"#EF553B\",\"#00cc96\",\"#ab63fa\",\"#FFA15A\",\"#19d3f3\",\"#FF6692\",\"#B6E880\",\"#FF97FF\",\"#FECB52\"],\"font\":{\"color\":\"#2a3f5f\"},\"hovermode\":\"closest\",\"hoverlabel\":{\"align\":\"left\"},\"paper_bgcolor\":\"white\",\"plot_bgcolor\":\"#E5ECF6\",\"polar\":{\"bgcolor\":\"#E5ECF6\",\"angularaxis\":{\"gridcolor\":\"white\",\"linecolor\":\"white\",\"ticks\":\"\"},\"radialaxis\":{\"gridcolor\":\"white\",\"linecolor\":\"white\",\"ticks\":\"\"}},\"ternary\":{\"bgcolor\":\"#E5ECF6\",\"aaxis\":{\"gridcolor\":\"white\",\"linecolor\":\"white\",\"ticks\":\"\"},\"baxis\":{\"gridcolor\":\"white\",\"linecolor\":\"white\",\"ticks\":\"\"},\"caxis\":{\"gridcolor\":\"white\",\"linecolor\":\"white\",\"ticks\":\"\"}},\"coloraxis\":{\"colorbar\":{\"outlinewidth\":0,\"ticks\":\"\"}},\"colorscale\":{\"sequential\":[[0.0,\"#0d0887\"],[0.1111111111111111,\"#46039f\"],[0.2222222222222222,\"#7201a8\"],[0.3333333333333333,\"#9c179e\"],[0.4444444444444444,\"#bd3786\"],[0.5555555555555556,\"#d8576b\"],[0.6666666666666666,\"#ed7953\"],[0.7777777777777778,\"#fb9f3a\"],[0.8888888888888888,\"#fdca26\"],[1.0,\"#f0f921\"]],\"sequentialminus\":[[0.0,\"#0d0887\"],[0.1111111111111111,\"#46039f\"],[0.2222222222222222,\"#7201a8\"],[0.3333333333333333,\"#9c179e\"],[0.4444444444444444,\"#bd3786\"],[0.5555555555555556,\"#d8576b\"],[0.6666666666666666,\"#ed7953\"],[0.7777777777777778,\"#fb9f3a\"],[0.8888888888888888,\"#fdca26\"],[1.0,\"#f0f921\"]],\"diverging\":[[0,\"#8e0152\"],[0.1,\"#c51b7d\"],[0.2,\"#de77ae\"],[0.3,\"#f1b6da\"],[0.4,\"#fde0ef\"],[0.5,\"#f7f7f7\"],[0.6,\"#e6f5d0\"],[0.7,\"#b8e186\"],[0.8,\"#7fbc41\"],[0.9,\"#4d9221\"],[1,\"#276419\"]]},\"xaxis\":{\"gridcolor\":\"white\",\"linecolor\":\"white\",\"ticks\":\"\",\"title\":{\"standoff\":15},\"zerolinecolor\":\"white\",\"automargin\":true,\"zerolinewidth\":2},\"yaxis\":{\"gridcolor\":\"white\",\"linecolor\":\"white\",\"ticks\":\"\",\"title\":{\"standoff\":15},\"zerolinecolor\":\"white\",\"automargin\":true,\"zerolinewidth\":2},\"scene\":{\"xaxis\":{\"backgroundcolor\":\"#E5ECF6\",\"gridcolor\":\"white\",\"linecolor\":\"white\",\"showbackground\":true,\"ticks\":\"\",\"zerolinecolor\":\"white\",\"gridwidth\":2},\"yaxis\":{\"backgroundcolor\":\"#E5ECF6\",\"gridcolor\":\"white\",\"linecolor\":\"white\",\"showbackground\":true,\"ticks\":\"\",\"zerolinecolor\":\"white\",\"gridwidth\":2},\"zaxis\":{\"backgroundcolor\":\"#E5ECF6\",\"gridcolor\":\"white\",\"linecolor\":\"white\",\"showbackground\":true,\"ticks\":\"\",\"zerolinecolor\":\"white\",\"gridwidth\":2}},\"shapedefaults\":{\"line\":{\"color\":\"#2a3f5f\"}},\"annotationdefaults\":{\"arrowcolor\":\"#2a3f5f\",\"arrowhead\":0,\"arrowwidth\":1},\"geo\":{\"bgcolor\":\"white\",\"landcolor\":\"#E5ECF6\",\"subunitcolor\":\"white\",\"showland\":true,\"showlakes\":true,\"lakecolor\":\"white\"},\"title\":{\"x\":0.05},\"mapbox\":{\"style\":\"light\"}}},\"xaxis\":{\"anchor\":\"y\",\"domain\":[0.0,1.0],\"title\":{\"text\":\"x\"},\"type\":\"log\",\"exponentformat\":\"power\"},\"yaxis\":{\"anchor\":\"x\",\"domain\":[0.0,1.0],\"title\":{\"text\":\"y\"}},\"legend\":{\"tracegroupgap\":0},\"margin\":{\"t\":60}},                        {\"responsive\": true}                    ).then(function(){\n",
       "                            \n",
       "var gd = document.getElementById('8e29d5f4-535b-4016-8572-c20b57ab3aba');\n",
       "var x = new MutationObserver(function (mutations, observer) {{\n",
       "        var display = window.getComputedStyle(gd).display;\n",
       "        if (!display || display === 'none') {{\n",
       "            console.log([gd, 'removed!']);\n",
       "            Plotly.purge(gd);\n",
       "            observer.disconnect();\n",
       "        }}\n",
       "}});\n",
       "\n",
       "// Listen for the removal of the full notebook cells\n",
       "var notebookContainer = gd.closest('#notebook-container');\n",
       "if (notebookContainer) {{\n",
       "    x.observe(notebookContainer, {childList: true});\n",
       "}}\n",
       "\n",
       "// Listen for the clearing of the current output cell\n",
       "var outputEl = gd.closest('.output');\n",
       "if (outputEl) {{\n",
       "    x.observe(outputEl, {childList: true});\n",
       "}}\n",
       "\n",
       "                        })                };                });            </script>        </div>"
      ]
     },
     "metadata": {},
     "output_type": "display_data"
    }
   ],
   "source": [
    "import matplotlib.pyplot as plt\n",
    "import plotly.express as px\n",
    "\n",
    "# plt.plot([max(n_nodes_counts) - x for x in n_nodes_counts], ablated_metrics)\n",
    "# plt.plot(thresholds, ablated_metrics)\n",
    "# plt.plot(thresholds, ablated_metrics)\n",
    "# plt.plot(n_nodes_counts, ablated_metrics)\n",
    "# plt.plot(thresholds, n_nodes_counts)\n",
    "# plt.xscale(\"log\")\n",
    "# plt.plot(n_nodes_counts)\n",
    "\n",
    "# px.line(x=list(range(len(ablated_metrics))), y=ablated_metrics)\n",
    "# fig\n",
    "fig = px.line(x=thresholds, y=ablated_metrics)\n",
    "fig.update_xaxes(type=\"log\", exponentformat=\"power\")\n",
    "fig\n",
    "\n",
    "# px.line(x=n_nodes_counts, y=ablated_metrics)\n"
   ]
  },
  {
   "cell_type": "code",
   "execution_count": 16,
   "metadata": {},
   "outputs": [
    {
     "data": {
      "application/vnd.plotly.v1+json": {
       "config": {
        "plotlyServerURL": "https://plot.ly"
       },
       "data": [
        {
         "hovertemplate": "x=%{x}<br>y=%{y}<extra></extra>",
         "legendgroup": "",
         "line": {
          "color": "#636efa",
          "dash": "solid"
         },
         "marker": {
          "symbol": "circle"
         },
         "mode": "lines",
         "name": "",
         "orientation": "v",
         "showlegend": false,
         "type": "scatter",
         "x": [
          165610,
          164545,
          163472,
          162377,
          161317,
          160204,
          159103,
          158005,
          156903,
          155774,
          154675,
          153557,
          152388,
          151203,
          149994,
          148813,
          147649,
          146428,
          145251,
          144077,
          142888,
          141742,
          140540,
          139295,
          138091,
          136888,
          135663,
          134454,
          133209,
          131974,
          130765,
          129515,
          128346,
          127103,
          125821,
          124509,
          123278,
          122020,
          120748,
          119454,
          118201,
          116979,
          115755,
          114525,
          113301,
          112068,
          110843,
          109560,
          108299,
          107076,
          105818,
          104548,
          103365,
          102198,
          101007,
          99861,
          98609,
          97432,
          96235,
          95011,
          93763,
          92568,
          91300,
          90074,
          88922,
          87789,
          86611,
          85432,
          84296,
          83131,
          81994,
          80832,
          79693,
          78504,
          77344,
          76231,
          75136,
          74051,
          72980,
          71952,
          70920,
          69850,
          68760,
          67647,
          66617,
          65531,
          64508,
          63535,
          62497,
          61517,
          60536,
          59511,
          58517,
          57581,
          56572,
          55619,
          54659,
          53710,
          52799,
          51802,
          50849,
          49907,
          48973,
          48073,
          47173,
          46261,
          45410,
          44600,
          43756,
          42897,
          42058,
          41251,
          40473,
          39640,
          38873,
          38089,
          37325,
          36537,
          35766,
          35042,
          34341,
          33654,
          32940,
          32213,
          31515,
          30838,
          30227,
          29582,
          28936,
          28263,
          27632,
          26971,
          26349,
          25740,
          25163,
          24558,
          23990,
          23404,
          22797,
          22276,
          21705,
          21125,
          20594,
          20015,
          19471,
          18952,
          18417,
          17890,
          17356,
          16832,
          16312,
          15764,
          15243,
          14754,
          14218,
          13737,
          13254,
          12710,
          12196,
          11709,
          11244,
          10825,
          10427,
          10014,
          9631,
          9273,
          8940,
          8606,
          8277,
          7993,
          7695,
          7386,
          7119,
          6872,
          6630,
          6382,
          6164,
          5940,
          5744,
          5554,
          5366,
          5166,
          5012,
          4846,
          4685,
          4533,
          4366,
          4191,
          4044,
          3902,
          3780,
          3658,
          3528,
          3411,
          3288,
          3173,
          3072,
          2960,
          2849,
          2721,
          2626,
          2525,
          2430,
          2330,
          2229,
          2155,
          2071,
          1999,
          1910,
          1836,
          1765,
          1691,
          1622,
          1554,
          1485,
          1428,
          1364,
          1305,
          1257,
          1190,
          1126,
          1086,
          1042,
          988,
          946,
          905,
          849,
          805,
          760,
          725,
          695,
          668,
          638,
          612,
          589,
          563,
          533,
          510,
          485,
          458,
          438,
          424,
          402,
          387,
          373,
          351,
          341,
          328,
          313,
          304,
          288,
          275,
          261,
          247,
          236,
          226,
          219,
          207,
          188,
          180,
          175,
          167,
          151,
          142,
          130,
          120,
          116,
          105,
          102,
          93,
          89,
          86,
          81,
          69,
          61,
          57,
          52,
          46,
          44,
          43,
          43,
          37,
          35,
          32,
          26,
          25,
          23,
          20,
          19,
          17,
          13,
          13,
          10,
          8,
          7,
          5,
          5,
          5,
          5,
          5
         ],
         "xaxis": "x",
         "y": [
          -0.18359375,
          -0.18359375,
          -0.1796875,
          -0.1767578125,
          -0.189453125,
          -0.1767578125,
          -0.1904296875,
          -0.181640625,
          -0.1796875,
          -0.1796875,
          -0.1748046875,
          -0.177734375,
          -0.18359375,
          -0.1865234375,
          -0.1796875,
          -0.1796875,
          -0.18359375,
          -0.1884765625,
          -0.1845703125,
          -0.181640625,
          -0.185546875,
          -0.1748046875,
          -0.19140625,
          -0.1728515625,
          -0.1708984375,
          -0.1689453125,
          -0.1806640625,
          -0.1767578125,
          -0.17578125,
          -0.1669921875,
          -0.1728515625,
          -0.17578125,
          -0.177734375,
          -0.1767578125,
          -0.177734375,
          -0.189453125,
          -0.1865234375,
          -0.1875,
          -0.1904296875,
          -0.1962890625,
          -0.1806640625,
          -0.1953125,
          -0.205078125,
          -0.1923828125,
          -0.19921875,
          -0.193359375,
          -0.1826171875,
          -0.1826171875,
          -0.1787109375,
          -0.1767578125,
          -0.1875,
          -0.1787109375,
          -0.1806640625,
          -0.1796875,
          -0.1767578125,
          -0.1787109375,
          -0.19140625,
          -0.18359375,
          -0.181640625,
          -0.173828125,
          -0.1865234375,
          -0.1796875,
          -0.1904296875,
          -0.19921875,
          -0.201171875,
          -0.1884765625,
          -0.185546875,
          -0.19921875,
          -0.17578125,
          -0.1875,
          -0.1875,
          -0.1826171875,
          -0.1923828125,
          -0.19140625,
          -0.1923828125,
          -0.189453125,
          -0.2158203125,
          -0.205078125,
          -0.216796875,
          -0.21484375,
          -0.21875,
          -0.2060546875,
          -0.2099609375,
          -0.21875,
          -0.2216796875,
          -0.25390625,
          -0.23046875,
          -0.26953125,
          -0.279296875,
          -2.625,
          -0.2431640625,
          -0.22265625,
          -0.251953125,
          -0.240234375,
          -0.255859375,
          -1.78125,
          -1.8046875,
          -1.8046875,
          -1.8203125,
          -1.8359375,
          -0.259765625,
          -1.7421875,
          -1.8203125,
          -1.8125,
          -1.8203125,
          -1.796875,
          -1.7890625,
          -1.8046875,
          -1.796875,
          -1.796875,
          -4.5,
          -1.84375,
          -4.28125,
          -2.703125,
          -4.53125,
          -4.53125,
          -12.25,
          -4.4375,
          -4.5,
          -4.09375,
          -5.5625,
          -2.96875,
          -6.4375,
          -10.5625,
          -12.4375,
          -4.625,
          -12.5625,
          -18.375,
          -10.625,
          -18,
          -10.8125,
          -12.5,
          -12.375,
          -14,
          -4.75,
          -19.875,
          -18.125,
          -4.65625,
          -23.5,
          -10.875,
          -27.875,
          -10.875,
          -19.5,
          -19.75,
          -21.25,
          -16.25,
          -21.5,
          -28.75,
          -15.75,
          -18.375,
          -21,
          -15.375,
          -22.875,
          -17.375,
          -23.875,
          -23.75,
          -13.125,
          -15.4375,
          -30.125,
          -11.1875,
          -19.625,
          -9.5,
          -18.125,
          -17.875,
          -7.59375,
          -15.25,
          -10.5,
          -15.1875,
          -16.625,
          -15.1875,
          -25,
          -10.6875,
          -12.6875,
          -23.5,
          -20.5,
          -10.9375,
          -19.25,
          -14.1875,
          -24.75,
          -19.75,
          -18,
          -11.625,
          -11.875,
          -11.875,
          -19.5,
          -15.0625,
          -11.875,
          -12,
          -11.875,
          -19.75,
          -19.5,
          -19.75,
          -12.4375,
          -12.4375,
          -12.4375,
          -12.4375,
          -19.75,
          -19.875,
          -19.75,
          -19.75,
          -19.75,
          -12.375,
          -12.4375,
          -12.4375,
          -12.4375,
          -12.4375,
          -12.4375,
          -12.4375,
          -12.4375,
          -12.4375,
          -12.4375,
          -12.4375,
          -12.4375,
          -12.4375,
          -12.4375,
          -12.4375,
          -12.4375,
          -12.4375,
          -12.4375,
          -12.4375,
          -12.4375,
          -12.4375,
          -12.4375,
          -12.4375,
          -12.4375,
          -12.4375,
          -12.4375,
          -12.4375,
          -12.4375,
          -12.4375,
          -12.4375,
          -12.4375,
          -12.4375,
          -12.4375,
          -12.4375,
          -12.4375,
          -12.4375,
          -12.4375,
          -12.4375,
          -12.4375,
          -12.4375,
          -12.4375,
          -12.4375,
          -12.4375,
          -12.4375,
          -12.4375,
          -12.4375,
          -12.4375,
          -12.4375,
          -12.4375,
          -12.4375,
          -12.4375,
          -12.4375,
          -12.4375,
          -12.4375,
          -12.4375,
          -12.4375,
          -12.4375,
          -12.4375,
          -12.4375,
          -12.4375,
          -12.4375,
          -12.4375,
          -12.4375,
          -12.4375,
          -12.4375,
          -12.4375,
          -12.4375,
          -12.4375,
          -12.4375,
          -12.4375,
          -12.4375,
          -12.4375,
          -12.4375,
          -12.4375,
          -12.4375,
          -12.4375,
          -12.4375,
          -12.4375,
          -12.4375,
          -12.4375,
          -12.4375,
          -12.4375,
          -12.4375,
          -12.4375,
          -12.4375,
          -12.4375,
          -12.4375,
          -12.4375,
          -12.4375,
          -12.4375,
          -12.4375,
          -12.4375,
          -12.4375,
          -12.4375,
          -12.4375,
          -12.4375,
          -12.4375,
          -12.4375,
          -12.4375
         ],
         "yaxis": "y"
        }
       ],
       "layout": {
        "legend": {
         "tracegroupgap": 0
        },
        "margin": {
         "t": 60
        },
        "template": {
         "data": {
          "bar": [
           {
            "error_x": {
             "color": "#2a3f5f"
            },
            "error_y": {
             "color": "#2a3f5f"
            },
            "marker": {
             "line": {
              "color": "#E5ECF6",
              "width": 0.5
             },
             "pattern": {
              "fillmode": "overlay",
              "size": 10,
              "solidity": 0.2
             }
            },
            "type": "bar"
           }
          ],
          "barpolar": [
           {
            "marker": {
             "line": {
              "color": "#E5ECF6",
              "width": 0.5
             },
             "pattern": {
              "fillmode": "overlay",
              "size": 10,
              "solidity": 0.2
             }
            },
            "type": "barpolar"
           }
          ],
          "carpet": [
           {
            "aaxis": {
             "endlinecolor": "#2a3f5f",
             "gridcolor": "white",
             "linecolor": "white",
             "minorgridcolor": "white",
             "startlinecolor": "#2a3f5f"
            },
            "baxis": {
             "endlinecolor": "#2a3f5f",
             "gridcolor": "white",
             "linecolor": "white",
             "minorgridcolor": "white",
             "startlinecolor": "#2a3f5f"
            },
            "type": "carpet"
           }
          ],
          "choropleth": [
           {
            "colorbar": {
             "outlinewidth": 0,
             "ticks": ""
            },
            "type": "choropleth"
           }
          ],
          "contour": [
           {
            "colorbar": {
             "outlinewidth": 0,
             "ticks": ""
            },
            "colorscale": [
             [
              0,
              "#0d0887"
             ],
             [
              0.1111111111111111,
              "#46039f"
             ],
             [
              0.2222222222222222,
              "#7201a8"
             ],
             [
              0.3333333333333333,
              "#9c179e"
             ],
             [
              0.4444444444444444,
              "#bd3786"
             ],
             [
              0.5555555555555556,
              "#d8576b"
             ],
             [
              0.6666666666666666,
              "#ed7953"
             ],
             [
              0.7777777777777778,
              "#fb9f3a"
             ],
             [
              0.8888888888888888,
              "#fdca26"
             ],
             [
              1,
              "#f0f921"
             ]
            ],
            "type": "contour"
           }
          ],
          "contourcarpet": [
           {
            "colorbar": {
             "outlinewidth": 0,
             "ticks": ""
            },
            "type": "contourcarpet"
           }
          ],
          "heatmap": [
           {
            "colorbar": {
             "outlinewidth": 0,
             "ticks": ""
            },
            "colorscale": [
             [
              0,
              "#0d0887"
             ],
             [
              0.1111111111111111,
              "#46039f"
             ],
             [
              0.2222222222222222,
              "#7201a8"
             ],
             [
              0.3333333333333333,
              "#9c179e"
             ],
             [
              0.4444444444444444,
              "#bd3786"
             ],
             [
              0.5555555555555556,
              "#d8576b"
             ],
             [
              0.6666666666666666,
              "#ed7953"
             ],
             [
              0.7777777777777778,
              "#fb9f3a"
             ],
             [
              0.8888888888888888,
              "#fdca26"
             ],
             [
              1,
              "#f0f921"
             ]
            ],
            "type": "heatmap"
           }
          ],
          "heatmapgl": [
           {
            "colorbar": {
             "outlinewidth": 0,
             "ticks": ""
            },
            "colorscale": [
             [
              0,
              "#0d0887"
             ],
             [
              0.1111111111111111,
              "#46039f"
             ],
             [
              0.2222222222222222,
              "#7201a8"
             ],
             [
              0.3333333333333333,
              "#9c179e"
             ],
             [
              0.4444444444444444,
              "#bd3786"
             ],
             [
              0.5555555555555556,
              "#d8576b"
             ],
             [
              0.6666666666666666,
              "#ed7953"
             ],
             [
              0.7777777777777778,
              "#fb9f3a"
             ],
             [
              0.8888888888888888,
              "#fdca26"
             ],
             [
              1,
              "#f0f921"
             ]
            ],
            "type": "heatmapgl"
           }
          ],
          "histogram": [
           {
            "marker": {
             "pattern": {
              "fillmode": "overlay",
              "size": 10,
              "solidity": 0.2
             }
            },
            "type": "histogram"
           }
          ],
          "histogram2d": [
           {
            "colorbar": {
             "outlinewidth": 0,
             "ticks": ""
            },
            "colorscale": [
             [
              0,
              "#0d0887"
             ],
             [
              0.1111111111111111,
              "#46039f"
             ],
             [
              0.2222222222222222,
              "#7201a8"
             ],
             [
              0.3333333333333333,
              "#9c179e"
             ],
             [
              0.4444444444444444,
              "#bd3786"
             ],
             [
              0.5555555555555556,
              "#d8576b"
             ],
             [
              0.6666666666666666,
              "#ed7953"
             ],
             [
              0.7777777777777778,
              "#fb9f3a"
             ],
             [
              0.8888888888888888,
              "#fdca26"
             ],
             [
              1,
              "#f0f921"
             ]
            ],
            "type": "histogram2d"
           }
          ],
          "histogram2dcontour": [
           {
            "colorbar": {
             "outlinewidth": 0,
             "ticks": ""
            },
            "colorscale": [
             [
              0,
              "#0d0887"
             ],
             [
              0.1111111111111111,
              "#46039f"
             ],
             [
              0.2222222222222222,
              "#7201a8"
             ],
             [
              0.3333333333333333,
              "#9c179e"
             ],
             [
              0.4444444444444444,
              "#bd3786"
             ],
             [
              0.5555555555555556,
              "#d8576b"
             ],
             [
              0.6666666666666666,
              "#ed7953"
             ],
             [
              0.7777777777777778,
              "#fb9f3a"
             ],
             [
              0.8888888888888888,
              "#fdca26"
             ],
             [
              1,
              "#f0f921"
             ]
            ],
            "type": "histogram2dcontour"
           }
          ],
          "mesh3d": [
           {
            "colorbar": {
             "outlinewidth": 0,
             "ticks": ""
            },
            "type": "mesh3d"
           }
          ],
          "parcoords": [
           {
            "line": {
             "colorbar": {
              "outlinewidth": 0,
              "ticks": ""
             }
            },
            "type": "parcoords"
           }
          ],
          "pie": [
           {
            "automargin": true,
            "type": "pie"
           }
          ],
          "scatter": [
           {
            "fillpattern": {
             "fillmode": "overlay",
             "size": 10,
             "solidity": 0.2
            },
            "type": "scatter"
           }
          ],
          "scatter3d": [
           {
            "line": {
             "colorbar": {
              "outlinewidth": 0,
              "ticks": ""
             }
            },
            "marker": {
             "colorbar": {
              "outlinewidth": 0,
              "ticks": ""
             }
            },
            "type": "scatter3d"
           }
          ],
          "scattercarpet": [
           {
            "marker": {
             "colorbar": {
              "outlinewidth": 0,
              "ticks": ""
             }
            },
            "type": "scattercarpet"
           }
          ],
          "scattergeo": [
           {
            "marker": {
             "colorbar": {
              "outlinewidth": 0,
              "ticks": ""
             }
            },
            "type": "scattergeo"
           }
          ],
          "scattergl": [
           {
            "marker": {
             "colorbar": {
              "outlinewidth": 0,
              "ticks": ""
             }
            },
            "type": "scattergl"
           }
          ],
          "scattermapbox": [
           {
            "marker": {
             "colorbar": {
              "outlinewidth": 0,
              "ticks": ""
             }
            },
            "type": "scattermapbox"
           }
          ],
          "scatterpolar": [
           {
            "marker": {
             "colorbar": {
              "outlinewidth": 0,
              "ticks": ""
             }
            },
            "type": "scatterpolar"
           }
          ],
          "scatterpolargl": [
           {
            "marker": {
             "colorbar": {
              "outlinewidth": 0,
              "ticks": ""
             }
            },
            "type": "scatterpolargl"
           }
          ],
          "scatterternary": [
           {
            "marker": {
             "colorbar": {
              "outlinewidth": 0,
              "ticks": ""
             }
            },
            "type": "scatterternary"
           }
          ],
          "surface": [
           {
            "colorbar": {
             "outlinewidth": 0,
             "ticks": ""
            },
            "colorscale": [
             [
              0,
              "#0d0887"
             ],
             [
              0.1111111111111111,
              "#46039f"
             ],
             [
              0.2222222222222222,
              "#7201a8"
             ],
             [
              0.3333333333333333,
              "#9c179e"
             ],
             [
              0.4444444444444444,
              "#bd3786"
             ],
             [
              0.5555555555555556,
              "#d8576b"
             ],
             [
              0.6666666666666666,
              "#ed7953"
             ],
             [
              0.7777777777777778,
              "#fb9f3a"
             ],
             [
              0.8888888888888888,
              "#fdca26"
             ],
             [
              1,
              "#f0f921"
             ]
            ],
            "type": "surface"
           }
          ],
          "table": [
           {
            "cells": {
             "fill": {
              "color": "#EBF0F8"
             },
             "line": {
              "color": "white"
             }
            },
            "header": {
             "fill": {
              "color": "#C8D4E3"
             },
             "line": {
              "color": "white"
             }
            },
            "type": "table"
           }
          ]
         },
         "layout": {
          "annotationdefaults": {
           "arrowcolor": "#2a3f5f",
           "arrowhead": 0,
           "arrowwidth": 1
          },
          "autotypenumbers": "strict",
          "coloraxis": {
           "colorbar": {
            "outlinewidth": 0,
            "ticks": ""
           }
          },
          "colorscale": {
           "diverging": [
            [
             0,
             "#8e0152"
            ],
            [
             0.1,
             "#c51b7d"
            ],
            [
             0.2,
             "#de77ae"
            ],
            [
             0.3,
             "#f1b6da"
            ],
            [
             0.4,
             "#fde0ef"
            ],
            [
             0.5,
             "#f7f7f7"
            ],
            [
             0.6,
             "#e6f5d0"
            ],
            [
             0.7,
             "#b8e186"
            ],
            [
             0.8,
             "#7fbc41"
            ],
            [
             0.9,
             "#4d9221"
            ],
            [
             1,
             "#276419"
            ]
           ],
           "sequential": [
            [
             0,
             "#0d0887"
            ],
            [
             0.1111111111111111,
             "#46039f"
            ],
            [
             0.2222222222222222,
             "#7201a8"
            ],
            [
             0.3333333333333333,
             "#9c179e"
            ],
            [
             0.4444444444444444,
             "#bd3786"
            ],
            [
             0.5555555555555556,
             "#d8576b"
            ],
            [
             0.6666666666666666,
             "#ed7953"
            ],
            [
             0.7777777777777778,
             "#fb9f3a"
            ],
            [
             0.8888888888888888,
             "#fdca26"
            ],
            [
             1,
             "#f0f921"
            ]
           ],
           "sequentialminus": [
            [
             0,
             "#0d0887"
            ],
            [
             0.1111111111111111,
             "#46039f"
            ],
            [
             0.2222222222222222,
             "#7201a8"
            ],
            [
             0.3333333333333333,
             "#9c179e"
            ],
            [
             0.4444444444444444,
             "#bd3786"
            ],
            [
             0.5555555555555556,
             "#d8576b"
            ],
            [
             0.6666666666666666,
             "#ed7953"
            ],
            [
             0.7777777777777778,
             "#fb9f3a"
            ],
            [
             0.8888888888888888,
             "#fdca26"
            ],
            [
             1,
             "#f0f921"
            ]
           ]
          },
          "colorway": [
           "#636efa",
           "#EF553B",
           "#00cc96",
           "#ab63fa",
           "#FFA15A",
           "#19d3f3",
           "#FF6692",
           "#B6E880",
           "#FF97FF",
           "#FECB52"
          ],
          "font": {
           "color": "#2a3f5f"
          },
          "geo": {
           "bgcolor": "white",
           "lakecolor": "white",
           "landcolor": "#E5ECF6",
           "showlakes": true,
           "showland": true,
           "subunitcolor": "white"
          },
          "hoverlabel": {
           "align": "left"
          },
          "hovermode": "closest",
          "mapbox": {
           "style": "light"
          },
          "paper_bgcolor": "white",
          "plot_bgcolor": "#E5ECF6",
          "polar": {
           "angularaxis": {
            "gridcolor": "white",
            "linecolor": "white",
            "ticks": ""
           },
           "bgcolor": "#E5ECF6",
           "radialaxis": {
            "gridcolor": "white",
            "linecolor": "white",
            "ticks": ""
           }
          },
          "scene": {
           "xaxis": {
            "backgroundcolor": "#E5ECF6",
            "gridcolor": "white",
            "gridwidth": 2,
            "linecolor": "white",
            "showbackground": true,
            "ticks": "",
            "zerolinecolor": "white"
           },
           "yaxis": {
            "backgroundcolor": "#E5ECF6",
            "gridcolor": "white",
            "gridwidth": 2,
            "linecolor": "white",
            "showbackground": true,
            "ticks": "",
            "zerolinecolor": "white"
           },
           "zaxis": {
            "backgroundcolor": "#E5ECF6",
            "gridcolor": "white",
            "gridwidth": 2,
            "linecolor": "white",
            "showbackground": true,
            "ticks": "",
            "zerolinecolor": "white"
           }
          },
          "shapedefaults": {
           "line": {
            "color": "#2a3f5f"
           }
          },
          "ternary": {
           "aaxis": {
            "gridcolor": "white",
            "linecolor": "white",
            "ticks": ""
           },
           "baxis": {
            "gridcolor": "white",
            "linecolor": "white",
            "ticks": ""
           },
           "bgcolor": "#E5ECF6",
           "caxis": {
            "gridcolor": "white",
            "linecolor": "white",
            "ticks": ""
           }
          },
          "title": {
           "x": 0.05
          },
          "xaxis": {
           "automargin": true,
           "gridcolor": "white",
           "linecolor": "white",
           "ticks": "",
           "title": {
            "standoff": 15
           },
           "zerolinecolor": "white",
           "zerolinewidth": 2
          },
          "yaxis": {
           "automargin": true,
           "gridcolor": "white",
           "linecolor": "white",
           "ticks": "",
           "title": {
            "standoff": 15
           },
           "zerolinecolor": "white",
           "zerolinewidth": 2
          }
         }
        },
        "xaxis": {
         "anchor": "y",
         "domain": [
          0,
          1
         ],
         "title": {
          "text": "x"
         }
        },
        "yaxis": {
         "anchor": "x",
         "domain": [
          0,
          1
         ],
         "title": {
          "text": "y"
         }
        }
       }
      },
      "text/html": [
       "<div>                            <div id=\"76d2158a-846f-4939-b7e9-a7749bdbeca5\" class=\"plotly-graph-div\" style=\"height:525px; width:100%;\"></div>            <script type=\"text/javascript\">                require([\"plotly\"], function(Plotly) {                    window.PLOTLYENV=window.PLOTLYENV || {};                                    if (document.getElementById(\"76d2158a-846f-4939-b7e9-a7749bdbeca5\")) {                    Plotly.newPlot(                        \"76d2158a-846f-4939-b7e9-a7749bdbeca5\",                        [{\"hovertemplate\":\"x=%{x}\\u003cbr\\u003ey=%{y}\\u003cextra\\u003e\\u003c\\u002fextra\\u003e\",\"legendgroup\":\"\",\"line\":{\"color\":\"#636efa\",\"dash\":\"solid\"},\"marker\":{\"symbol\":\"circle\"},\"mode\":\"lines\",\"name\":\"\",\"orientation\":\"v\",\"showlegend\":false,\"x\":[165610,164545,163472,162377,161317,160204,159103,158005,156903,155774,154675,153557,152388,151203,149994,148813,147649,146428,145251,144077,142888,141742,140540,139295,138091,136888,135663,134454,133209,131974,130765,129515,128346,127103,125821,124509,123278,122020,120748,119454,118201,116979,115755,114525,113301,112068,110843,109560,108299,107076,105818,104548,103365,102198,101007,99861,98609,97432,96235,95011,93763,92568,91300,90074,88922,87789,86611,85432,84296,83131,81994,80832,79693,78504,77344,76231,75136,74051,72980,71952,70920,69850,68760,67647,66617,65531,64508,63535,62497,61517,60536,59511,58517,57581,56572,55619,54659,53710,52799,51802,50849,49907,48973,48073,47173,46261,45410,44600,43756,42897,42058,41251,40473,39640,38873,38089,37325,36537,35766,35042,34341,33654,32940,32213,31515,30838,30227,29582,28936,28263,27632,26971,26349,25740,25163,24558,23990,23404,22797,22276,21705,21125,20594,20015,19471,18952,18417,17890,17356,16832,16312,15764,15243,14754,14218,13737,13254,12710,12196,11709,11244,10825,10427,10014,9631,9273,8940,8606,8277,7993,7695,7386,7119,6872,6630,6382,6164,5940,5744,5554,5366,5166,5012,4846,4685,4533,4366,4191,4044,3902,3780,3658,3528,3411,3288,3173,3072,2960,2849,2721,2626,2525,2430,2330,2229,2155,2071,1999,1910,1836,1765,1691,1622,1554,1485,1428,1364,1305,1257,1190,1126,1086,1042,988,946,905,849,805,760,725,695,668,638,612,589,563,533,510,485,458,438,424,402,387,373,351,341,328,313,304,288,275,261,247,236,226,219,207,188,180,175,167,151,142,130,120,116,105,102,93,89,86,81,69,61,57,52,46,44,43,43,37,35,32,26,25,23,20,19,17,13,13,10,8,7,5,5,5,5,5],\"xaxis\":\"x\",\"y\":[-0.18359375,-0.18359375,-0.1796875,-0.1767578125,-0.189453125,-0.1767578125,-0.1904296875,-0.181640625,-0.1796875,-0.1796875,-0.1748046875,-0.177734375,-0.18359375,-0.1865234375,-0.1796875,-0.1796875,-0.18359375,-0.1884765625,-0.1845703125,-0.181640625,-0.185546875,-0.1748046875,-0.19140625,-0.1728515625,-0.1708984375,-0.1689453125,-0.1806640625,-0.1767578125,-0.17578125,-0.1669921875,-0.1728515625,-0.17578125,-0.177734375,-0.1767578125,-0.177734375,-0.189453125,-0.1865234375,-0.1875,-0.1904296875,-0.1962890625,-0.1806640625,-0.1953125,-0.205078125,-0.1923828125,-0.19921875,-0.193359375,-0.1826171875,-0.1826171875,-0.1787109375,-0.1767578125,-0.1875,-0.1787109375,-0.1806640625,-0.1796875,-0.1767578125,-0.1787109375,-0.19140625,-0.18359375,-0.181640625,-0.173828125,-0.1865234375,-0.1796875,-0.1904296875,-0.19921875,-0.201171875,-0.1884765625,-0.185546875,-0.19921875,-0.17578125,-0.1875,-0.1875,-0.1826171875,-0.1923828125,-0.19140625,-0.1923828125,-0.189453125,-0.2158203125,-0.205078125,-0.216796875,-0.21484375,-0.21875,-0.2060546875,-0.2099609375,-0.21875,-0.2216796875,-0.25390625,-0.23046875,-0.26953125,-0.279296875,-2.625,-0.2431640625,-0.22265625,-0.251953125,-0.240234375,-0.255859375,-1.78125,-1.8046875,-1.8046875,-1.8203125,-1.8359375,-0.259765625,-1.7421875,-1.8203125,-1.8125,-1.8203125,-1.796875,-1.7890625,-1.8046875,-1.796875,-1.796875,-4.5,-1.84375,-4.28125,-2.703125,-4.53125,-4.53125,-12.25,-4.4375,-4.5,-4.09375,-5.5625,-2.96875,-6.4375,-10.5625,-12.4375,-4.625,-12.5625,-18.375,-10.625,-18.0,-10.8125,-12.5,-12.375,-14.0,-4.75,-19.875,-18.125,-4.65625,-23.5,-10.875,-27.875,-10.875,-19.5,-19.75,-21.25,-16.25,-21.5,-28.75,-15.75,-18.375,-21.0,-15.375,-22.875,-17.375,-23.875,-23.75,-13.125,-15.4375,-30.125,-11.1875,-19.625,-9.5,-18.125,-17.875,-7.59375,-15.25,-10.5,-15.1875,-16.625,-15.1875,-25.0,-10.6875,-12.6875,-23.5,-20.5,-10.9375,-19.25,-14.1875,-24.75,-19.75,-18.0,-11.625,-11.875,-11.875,-19.5,-15.0625,-11.875,-12.0,-11.875,-19.75,-19.5,-19.75,-12.4375,-12.4375,-12.4375,-12.4375,-19.75,-19.875,-19.75,-19.75,-19.75,-12.375,-12.4375,-12.4375,-12.4375,-12.4375,-12.4375,-12.4375,-12.4375,-12.4375,-12.4375,-12.4375,-12.4375,-12.4375,-12.4375,-12.4375,-12.4375,-12.4375,-12.4375,-12.4375,-12.4375,-12.4375,-12.4375,-12.4375,-12.4375,-12.4375,-12.4375,-12.4375,-12.4375,-12.4375,-12.4375,-12.4375,-12.4375,-12.4375,-12.4375,-12.4375,-12.4375,-12.4375,-12.4375,-12.4375,-12.4375,-12.4375,-12.4375,-12.4375,-12.4375,-12.4375,-12.4375,-12.4375,-12.4375,-12.4375,-12.4375,-12.4375,-12.4375,-12.4375,-12.4375,-12.4375,-12.4375,-12.4375,-12.4375,-12.4375,-12.4375,-12.4375,-12.4375,-12.4375,-12.4375,-12.4375,-12.4375,-12.4375,-12.4375,-12.4375,-12.4375,-12.4375,-12.4375,-12.4375,-12.4375,-12.4375,-12.4375,-12.4375,-12.4375,-12.4375,-12.4375,-12.4375,-12.4375,-12.4375,-12.4375,-12.4375,-12.4375,-12.4375,-12.4375,-12.4375,-12.4375,-12.4375,-12.4375,-12.4375,-12.4375,-12.4375,-12.4375,-12.4375,-12.4375,-12.4375],\"yaxis\":\"y\",\"type\":\"scatter\"}],                        {\"template\":{\"data\":{\"histogram2dcontour\":[{\"type\":\"histogram2dcontour\",\"colorbar\":{\"outlinewidth\":0,\"ticks\":\"\"},\"colorscale\":[[0.0,\"#0d0887\"],[0.1111111111111111,\"#46039f\"],[0.2222222222222222,\"#7201a8\"],[0.3333333333333333,\"#9c179e\"],[0.4444444444444444,\"#bd3786\"],[0.5555555555555556,\"#d8576b\"],[0.6666666666666666,\"#ed7953\"],[0.7777777777777778,\"#fb9f3a\"],[0.8888888888888888,\"#fdca26\"],[1.0,\"#f0f921\"]]}],\"choropleth\":[{\"type\":\"choropleth\",\"colorbar\":{\"outlinewidth\":0,\"ticks\":\"\"}}],\"histogram2d\":[{\"type\":\"histogram2d\",\"colorbar\":{\"outlinewidth\":0,\"ticks\":\"\"},\"colorscale\":[[0.0,\"#0d0887\"],[0.1111111111111111,\"#46039f\"],[0.2222222222222222,\"#7201a8\"],[0.3333333333333333,\"#9c179e\"],[0.4444444444444444,\"#bd3786\"],[0.5555555555555556,\"#d8576b\"],[0.6666666666666666,\"#ed7953\"],[0.7777777777777778,\"#fb9f3a\"],[0.8888888888888888,\"#fdca26\"],[1.0,\"#f0f921\"]]}],\"heatmap\":[{\"type\":\"heatmap\",\"colorbar\":{\"outlinewidth\":0,\"ticks\":\"\"},\"colorscale\":[[0.0,\"#0d0887\"],[0.1111111111111111,\"#46039f\"],[0.2222222222222222,\"#7201a8\"],[0.3333333333333333,\"#9c179e\"],[0.4444444444444444,\"#bd3786\"],[0.5555555555555556,\"#d8576b\"],[0.6666666666666666,\"#ed7953\"],[0.7777777777777778,\"#fb9f3a\"],[0.8888888888888888,\"#fdca26\"],[1.0,\"#f0f921\"]]}],\"heatmapgl\":[{\"type\":\"heatmapgl\",\"colorbar\":{\"outlinewidth\":0,\"ticks\":\"\"},\"colorscale\":[[0.0,\"#0d0887\"],[0.1111111111111111,\"#46039f\"],[0.2222222222222222,\"#7201a8\"],[0.3333333333333333,\"#9c179e\"],[0.4444444444444444,\"#bd3786\"],[0.5555555555555556,\"#d8576b\"],[0.6666666666666666,\"#ed7953\"],[0.7777777777777778,\"#fb9f3a\"],[0.8888888888888888,\"#fdca26\"],[1.0,\"#f0f921\"]]}],\"contourcarpet\":[{\"type\":\"contourcarpet\",\"colorbar\":{\"outlinewidth\":0,\"ticks\":\"\"}}],\"contour\":[{\"type\":\"contour\",\"colorbar\":{\"outlinewidth\":0,\"ticks\":\"\"},\"colorscale\":[[0.0,\"#0d0887\"],[0.1111111111111111,\"#46039f\"],[0.2222222222222222,\"#7201a8\"],[0.3333333333333333,\"#9c179e\"],[0.4444444444444444,\"#bd3786\"],[0.5555555555555556,\"#d8576b\"],[0.6666666666666666,\"#ed7953\"],[0.7777777777777778,\"#fb9f3a\"],[0.8888888888888888,\"#fdca26\"],[1.0,\"#f0f921\"]]}],\"surface\":[{\"type\":\"surface\",\"colorbar\":{\"outlinewidth\":0,\"ticks\":\"\"},\"colorscale\":[[0.0,\"#0d0887\"],[0.1111111111111111,\"#46039f\"],[0.2222222222222222,\"#7201a8\"],[0.3333333333333333,\"#9c179e\"],[0.4444444444444444,\"#bd3786\"],[0.5555555555555556,\"#d8576b\"],[0.6666666666666666,\"#ed7953\"],[0.7777777777777778,\"#fb9f3a\"],[0.8888888888888888,\"#fdca26\"],[1.0,\"#f0f921\"]]}],\"mesh3d\":[{\"type\":\"mesh3d\",\"colorbar\":{\"outlinewidth\":0,\"ticks\":\"\"}}],\"scatter\":[{\"fillpattern\":{\"fillmode\":\"overlay\",\"size\":10,\"solidity\":0.2},\"type\":\"scatter\"}],\"parcoords\":[{\"type\":\"parcoords\",\"line\":{\"colorbar\":{\"outlinewidth\":0,\"ticks\":\"\"}}}],\"scatterpolargl\":[{\"type\":\"scatterpolargl\",\"marker\":{\"colorbar\":{\"outlinewidth\":0,\"ticks\":\"\"}}}],\"bar\":[{\"error_x\":{\"color\":\"#2a3f5f\"},\"error_y\":{\"color\":\"#2a3f5f\"},\"marker\":{\"line\":{\"color\":\"#E5ECF6\",\"width\":0.5},\"pattern\":{\"fillmode\":\"overlay\",\"size\":10,\"solidity\":0.2}},\"type\":\"bar\"}],\"scattergeo\":[{\"type\":\"scattergeo\",\"marker\":{\"colorbar\":{\"outlinewidth\":0,\"ticks\":\"\"}}}],\"scatterpolar\":[{\"type\":\"scatterpolar\",\"marker\":{\"colorbar\":{\"outlinewidth\":0,\"ticks\":\"\"}}}],\"histogram\":[{\"marker\":{\"pattern\":{\"fillmode\":\"overlay\",\"size\":10,\"solidity\":0.2}},\"type\":\"histogram\"}],\"scattergl\":[{\"type\":\"scattergl\",\"marker\":{\"colorbar\":{\"outlinewidth\":0,\"ticks\":\"\"}}}],\"scatter3d\":[{\"type\":\"scatter3d\",\"line\":{\"colorbar\":{\"outlinewidth\":0,\"ticks\":\"\"}},\"marker\":{\"colorbar\":{\"outlinewidth\":0,\"ticks\":\"\"}}}],\"scattermapbox\":[{\"type\":\"scattermapbox\",\"marker\":{\"colorbar\":{\"outlinewidth\":0,\"ticks\":\"\"}}}],\"scatterternary\":[{\"type\":\"scatterternary\",\"marker\":{\"colorbar\":{\"outlinewidth\":0,\"ticks\":\"\"}}}],\"scattercarpet\":[{\"type\":\"scattercarpet\",\"marker\":{\"colorbar\":{\"outlinewidth\":0,\"ticks\":\"\"}}}],\"carpet\":[{\"aaxis\":{\"endlinecolor\":\"#2a3f5f\",\"gridcolor\":\"white\",\"linecolor\":\"white\",\"minorgridcolor\":\"white\",\"startlinecolor\":\"#2a3f5f\"},\"baxis\":{\"endlinecolor\":\"#2a3f5f\",\"gridcolor\":\"white\",\"linecolor\":\"white\",\"minorgridcolor\":\"white\",\"startlinecolor\":\"#2a3f5f\"},\"type\":\"carpet\"}],\"table\":[{\"cells\":{\"fill\":{\"color\":\"#EBF0F8\"},\"line\":{\"color\":\"white\"}},\"header\":{\"fill\":{\"color\":\"#C8D4E3\"},\"line\":{\"color\":\"white\"}},\"type\":\"table\"}],\"barpolar\":[{\"marker\":{\"line\":{\"color\":\"#E5ECF6\",\"width\":0.5},\"pattern\":{\"fillmode\":\"overlay\",\"size\":10,\"solidity\":0.2}},\"type\":\"barpolar\"}],\"pie\":[{\"automargin\":true,\"type\":\"pie\"}]},\"layout\":{\"autotypenumbers\":\"strict\",\"colorway\":[\"#636efa\",\"#EF553B\",\"#00cc96\",\"#ab63fa\",\"#FFA15A\",\"#19d3f3\",\"#FF6692\",\"#B6E880\",\"#FF97FF\",\"#FECB52\"],\"font\":{\"color\":\"#2a3f5f\"},\"hovermode\":\"closest\",\"hoverlabel\":{\"align\":\"left\"},\"paper_bgcolor\":\"white\",\"plot_bgcolor\":\"#E5ECF6\",\"polar\":{\"bgcolor\":\"#E5ECF6\",\"angularaxis\":{\"gridcolor\":\"white\",\"linecolor\":\"white\",\"ticks\":\"\"},\"radialaxis\":{\"gridcolor\":\"white\",\"linecolor\":\"white\",\"ticks\":\"\"}},\"ternary\":{\"bgcolor\":\"#E5ECF6\",\"aaxis\":{\"gridcolor\":\"white\",\"linecolor\":\"white\",\"ticks\":\"\"},\"baxis\":{\"gridcolor\":\"white\",\"linecolor\":\"white\",\"ticks\":\"\"},\"caxis\":{\"gridcolor\":\"white\",\"linecolor\":\"white\",\"ticks\":\"\"}},\"coloraxis\":{\"colorbar\":{\"outlinewidth\":0,\"ticks\":\"\"}},\"colorscale\":{\"sequential\":[[0.0,\"#0d0887\"],[0.1111111111111111,\"#46039f\"],[0.2222222222222222,\"#7201a8\"],[0.3333333333333333,\"#9c179e\"],[0.4444444444444444,\"#bd3786\"],[0.5555555555555556,\"#d8576b\"],[0.6666666666666666,\"#ed7953\"],[0.7777777777777778,\"#fb9f3a\"],[0.8888888888888888,\"#fdca26\"],[1.0,\"#f0f921\"]],\"sequentialminus\":[[0.0,\"#0d0887\"],[0.1111111111111111,\"#46039f\"],[0.2222222222222222,\"#7201a8\"],[0.3333333333333333,\"#9c179e\"],[0.4444444444444444,\"#bd3786\"],[0.5555555555555556,\"#d8576b\"],[0.6666666666666666,\"#ed7953\"],[0.7777777777777778,\"#fb9f3a\"],[0.8888888888888888,\"#fdca26\"],[1.0,\"#f0f921\"]],\"diverging\":[[0,\"#8e0152\"],[0.1,\"#c51b7d\"],[0.2,\"#de77ae\"],[0.3,\"#f1b6da\"],[0.4,\"#fde0ef\"],[0.5,\"#f7f7f7\"],[0.6,\"#e6f5d0\"],[0.7,\"#b8e186\"],[0.8,\"#7fbc41\"],[0.9,\"#4d9221\"],[1,\"#276419\"]]},\"xaxis\":{\"gridcolor\":\"white\",\"linecolor\":\"white\",\"ticks\":\"\",\"title\":{\"standoff\":15},\"zerolinecolor\":\"white\",\"automargin\":true,\"zerolinewidth\":2},\"yaxis\":{\"gridcolor\":\"white\",\"linecolor\":\"white\",\"ticks\":\"\",\"title\":{\"standoff\":15},\"zerolinecolor\":\"white\",\"automargin\":true,\"zerolinewidth\":2},\"scene\":{\"xaxis\":{\"backgroundcolor\":\"#E5ECF6\",\"gridcolor\":\"white\",\"linecolor\":\"white\",\"showbackground\":true,\"ticks\":\"\",\"zerolinecolor\":\"white\",\"gridwidth\":2},\"yaxis\":{\"backgroundcolor\":\"#E5ECF6\",\"gridcolor\":\"white\",\"linecolor\":\"white\",\"showbackground\":true,\"ticks\":\"\",\"zerolinecolor\":\"white\",\"gridwidth\":2},\"zaxis\":{\"backgroundcolor\":\"#E5ECF6\",\"gridcolor\":\"white\",\"linecolor\":\"white\",\"showbackground\":true,\"ticks\":\"\",\"zerolinecolor\":\"white\",\"gridwidth\":2}},\"shapedefaults\":{\"line\":{\"color\":\"#2a3f5f\"}},\"annotationdefaults\":{\"arrowcolor\":\"#2a3f5f\",\"arrowhead\":0,\"arrowwidth\":1},\"geo\":{\"bgcolor\":\"white\",\"landcolor\":\"#E5ECF6\",\"subunitcolor\":\"white\",\"showland\":true,\"showlakes\":true,\"lakecolor\":\"white\"},\"title\":{\"x\":0.05},\"mapbox\":{\"style\":\"light\"}}},\"xaxis\":{\"anchor\":\"y\",\"domain\":[0.0,1.0],\"title\":{\"text\":\"x\"}},\"yaxis\":{\"anchor\":\"x\",\"domain\":[0.0,1.0],\"title\":{\"text\":\"y\"}},\"legend\":{\"tracegroupgap\":0},\"margin\":{\"t\":60}},                        {\"responsive\": true}                    ).then(function(){\n",
       "                            \n",
       "var gd = document.getElementById('76d2158a-846f-4939-b7e9-a7749bdbeca5');\n",
       "var x = new MutationObserver(function (mutations, observer) {{\n",
       "        var display = window.getComputedStyle(gd).display;\n",
       "        if (!display || display === 'none') {{\n",
       "            console.log([gd, 'removed!']);\n",
       "            Plotly.purge(gd);\n",
       "            observer.disconnect();\n",
       "        }}\n",
       "}});\n",
       "\n",
       "// Listen for the removal of the full notebook cells\n",
       "var notebookContainer = gd.closest('#notebook-container');\n",
       "if (notebookContainer) {{\n",
       "    x.observe(notebookContainer, {childList: true});\n",
       "}}\n",
       "\n",
       "// Listen for the clearing of the current output cell\n",
       "var outputEl = gd.closest('.output');\n",
       "if (outputEl) {{\n",
       "    x.observe(outputEl, {childList: true});\n",
       "}}\n",
       "\n",
       "                        })                };                });            </script>        </div>"
      ]
     },
     "metadata": {},
     "output_type": "display_data"
    }
   ],
   "source": [
    "import matplotlib.pyplot as plt\n",
    "import plotly.express as px\n",
    "\n",
    "# plt.plot([max(n_nodes_counts) - x for x in n_nodes_counts], ablated_metrics)\n",
    "# plt.plot(thresholds, ablated_metrics)\n",
    "# plt.plot(thresholds, ablated_metrics)\n",
    "# plt.plot(n_nodes_counts, ablated_metrics)\n",
    "# plt.plot(thresholds, n_nodes_counts)\n",
    "# plt.xscale(\"log\")\n",
    "# plt.plot(n_nodes_counts)\n",
    "\n",
    "# px.line(x=list(range(len(ablated_metrics))), y=ablated_metrics)\n",
    "# fig\n",
    "# fig = px.line(x=thresholds, y=ablated_metrics)\n",
    "# fig.update_xaxes(type=\"log\", exponentformat=\"power\")\n",
    "# fig\n",
    "\n",
    "px.line(x=n_nodes_counts, y=ablated_metrics)\n"
   ]
  },
  {
   "cell_type": "code",
   "execution_count": 47,
   "metadata": {},
   "outputs": [
    {
     "data": {
      "text/html": [
       "<script> (()=>{ if (customElements.get('treescope-container') === undefined) { class TreescopeContainer extends HTMLElement { constructor() { super(); this.attachShadow({mode: \"open\"}); this.defns = {}; this.state = {}; } } customElements.define(\"treescope-container\", TreescopeContainer); } if (customElements.get('treescope-run-here') === undefined) { class RunHere extends HTMLElement { constructor() { super() } connectedCallback() { const run = child => { const fn = new Function(child.textContent); child.textContent = \"\"; fn.call(this); this.remove(); }; const child = this.querySelector(\"script\"); if (child) { run(child); } else { new MutationObserver(()=>{ run(this.querySelector(\"script\")); }).observe(this, {childList: true}); } } } customElements.define(\"treescope-run-here\", RunHere); } })(); </script> <treescope-container class=\"treescope_out_e23678921eec45e9a4ad7ba0f0687f7e\" ></treescope-container> <treescope-run-here><script type=\"application/octet-stream\"> const root = ( Array.from(document.getElementsByClassName( \"treescope_out_e23678921eec45e9a4ad7ba0f0687f7e\")) .filter((elt) => !elt.dataset.setup) )[0]; root.dataset.setup = 1; const msg = document.createElement(\"span\"); msg.style = \"color: #aaaaaa; font-family: monospace; transition: opacity 0.2s; opacity: 0.0;\"; msg.textContent = \"(Loading...)\"; root.state.loadingMsg = msg; root.shadowRoot.appendChild(msg); root.state.chain = new Promise((resolve, reject) => { const observer = new IntersectionObserver((entries) => { for (const entry of entries) { if (entry.isIntersecting) { resolve(); observer.disconnect(); return; } } }, {rootMargin: \"1000px\"}); window.setTimeout(() => { if (root.loadingMsg) { root.loadingMsg.style.opacity = \"1.0\"; } observer.observe(root); }, 0); }); root.state.deferring = false; const _insertNode = (node) => { for (let oldScript of node.querySelectorAll(\"script\")) { let newScript = document.createElement(\"script\"); newScript.type = oldScript.type; newScript.textContent = oldScript.textContent; oldScript.parentNode.replaceChild(newScript, oldScript); } if (root.state.loadingMsg) { root.state.loadingMsg.remove(); root.state.loadingMsg = null; } root.shadowRoot.appendChild(node); }; root.defns.insertContent = ((contentNode, compressed) => { if (compressed) { root.state.deferring = true; } if (root.state.deferring) { root.state.chain = (async () => { await root.state.chain; if (compressed) { const encoded = contentNode.textContent; const blob = new Blob([ Uint8Array.from(atob(encoded), (m) => m.codePointAt(0)) ]); const reader = blob.stream().pipeThrough( new DecompressionStream(\"deflate\") ).pipeThrough( new TextDecoderStream(\"utf-8\") ).getReader(); const parts = []; while (true) { const step = await reader.read(); if (step.done) { break; } parts.push(step.value); } const tpl = document.createElement('template'); tpl.innerHTML = parts.join(\"\"); _insertNode(tpl.content); } else { _insertNode(contentNode.content); } })(); } else { _insertNode(contentNode.content); } }); </script></treescope-run-here><div style=\"display:none\"> <script type=\"application/octet-stream\" >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</script> <treescope-run-here><script type=\"application/octet-stream\"> const root = ( Array.from(document.getElementsByClassName( \"treescope_out_e23678921eec45e9a4ad7ba0f0687f7e\")) .filter((elt) => !elt.dataset['step0']) )[0]; root.dataset['step0'] = 1; root.defns.insertContent( this.parentNode.querySelector('script[type=\"application/octet-stream\"]'), true ); this.parentNode.remove(); </script></treescope-run-here> </div>"
      ],
      "text/plain": [
       "<IPython.core.display.HTML object>"
      ]
     },
     "metadata": {},
     "output_type": "display_data"
    },
    {
     "data": {
      "text/html": [
       "<div style=\"display:none\"> <script type=\"application/octet-stream\" >eNrtXc1yHDlyvu9TdHAidqQYsgeZ+NdfhD27jtjLHNYHHxSMjvpBiVy1ujndzRlpbd+972E/gF/Bj7JP4kQVUF2oapKixBUpERMxItldVSgk8g+JzC9f1Oe/zra7D0v38qg+314siw/PZqv1yh3NzuuXR816s6hd4zYbVy9qUTo0ShWGKVEDGsRSm7pkStWVAXH06sX2olh1/86qZbHdvjz67cytFpv15arebc4vwiVxxJOTcrmu3p5U6+V682z2XV0aIYvn8eNyvand5mRbFUv3bAbPj9JHN+tlXZRLt1ita0ffLYvSLV+9OF9dXO5muw8XNEB15qq35fr90cF7Frv1mzdLf+uP7U3p48/oCZvl+ertYlds3rjd0awudsXJW/fhotidvTwavU07B6IS3eFmu/VF+/OsOlvQRZVbLF2zO/oY0oQvf7kslqvinVtcbFxz/v7o1YVb/bU4n+82zm2r9YWb0z/0JtudWzTFclkW1dv5ix+7Beh+/Lze/Tk+/cJP+kn6/YsfA8WG42539CCaRnV2vqw3jj4P8+oW4+iaqyeXrjfnb85XxXKxcRebl7ci7jy59xCpF1ua1+rN0avff/ce9fN/2myKD0/s3BqujTth+nhWtzxQNst1sQP1tLsuJcHxdEHo4cviYuvqo1ezePHkIveePqn9NcPvvvdLUl7uduvV97P16qflefX25fe7s/PtnKb45/V69zNx3ZOn87P1djcnuVpt52f0HGJHf+ei8jc88dc//b6jh//45dGTZfGurIvZhp7wrP03Jc/To71A9bc9m31/433fP5+FO4rVar0rdufrFd33E90+8+tAv/dC/eM1Pz6BJUi7fCJDnNcH2WF1+a70I1ihmQAOWihh2Le23Of1pyw23XWPS92K4Scutr/3y6r9jpuq9bt3brVbXLP8Y9b47iD/TPT4X4r3UU+3Ous6ZXzd6Of02Wo30NTXfn/06u4WoKNQUZYb9yup3+XuefvFrFOwfn7txLo/f/9m9/waFnpg4uVn+ykC1t53VyL2seI3ot1xpu+t6Hul81auiSbvRv4bvckZOXBPb7c69JpXenhTMepF53o/ZipR8Qc5869e3MKjRwUNL5BLLQvBsLbaaMmd0gUwkJXNHn326O/No08kYhbZ/wkyYY6fzv7+t//COZ/93/+yueGz13//2/+wOcdj+vy/xVyfeo7/q9usn+GCrvcik93/R+X+c6WRZfc/u//Z/c/uf3b/M30fmvt/owxuL0vy3d1m+xpOif7LXTH4iJ2m3//m/Atu578Wy0s3909aFF4K70N5RtXwOXp1YJe9hvkI3u717x35jNe/09V7sH+wHu/2h69xLriWxzOcA7Pc+F8MIH0wn8/9HwLB0Kd83n6Ic7pIy9PJXvITFNFt95iqaapSOXSKl6LhzhS6dIahEQ4sr5qr95g9vRdEuFtupX8mm1uPuOA/Zo58xLqmPcYzzxG3ZIjZk982xcUF3T3rWezpbezbgt7xqhl80s6xIqU1918Qhd677Xiz2JPgyUdzYyKl5BLPvrsz8t0tVwmhaqk1axC4EKKwYERjmWWmauirOkcucuTiQUYuZnA88+paqlZ+TmCO7oSpVogYM7YVoxP63apWkNgcTmetFHG+QCV7oRILULBg3ObgxuMLbkjSeSYHN3JwIwc3cnAjBzcyfb+p4AaezlvlRcps8cul23xIAx851nFjrOPuvcyHHQ6h//zElKR94PHMT4whAwGq+wO0QeQhONJ+C0ozI45/N+v/6z5llu5vf2VorT4dXPG6u5FLw3h3DWpF2076PTzZf8aQW66x/QM058kY7bsYi8xOHywFDQ/dQ+gRSuv4qgKsTwPYvzy9Oi3i5MGKSy3ChJGjheEg/u7BkO3rc2GNDM9kgrbTSoTJT4YUihmQ4yGJ4sC4xEhyMET10/E4ioOG8GQuQFvd/S6MQQMD2lnGOU7GkMZYY8OLKSIun4wATPdTpxtQCYzLKKzkajATVAcXhdY1co5nG4anpzTK7+Jlgb+4lDKsvTaavPDudyVp7mJILgRaYz2ZCjeKiTB7oImgnUxFaM4QW55q7yDiSZssPhFT8fCqjGs1ZmJJyyDTVVBztAIlqQAZOFeggrj0nBstZLLanPPpYitSJx2D+g2INTewl9VKKgxSwZVCgH5AjTCcFDCLRNjxgGA4hDcG4vl0xI6FpeIiLHXHfXHZDYPhAFrTBVP2FTQpFWhijdF6MoJs+TSyljUkGWFOKIkHRMJawtjpLCzt2fwSdlNCEnQxYa6OLNpaEVjKWCJRxylEAlJrw+VRTPPxqiNKE1iTkwng8oDqEvTyKjyfexbuNQynFU8ZgNSfmdKLW6N4VKpMGcDpMEIpC3G+JJi2DUGfBOWoJAzngpwYml/Fau0wJMDpMCNe66RCWXrpjl4kMCoqT1LizGvjPSd0CmHKCQP1dwUBaR6AUddpJE0UHgngbcmAfJbTSsJ4icgk0dY9LJIkKyCmuhKVIR3Tk0txhKjXOmEfLhJxyYGpgBUyCI3khkxNwmwt8cZ6DWj6yCPJJOmlsMaMFJa0yajIwfKJ5exUd0c9TQRWU76g1yGVGfiPCbJPUZcicNWb5065ep4ZDaEk8YqKsopqNMZQYSRyp+atjeqUXz8EF2S+x0sUV7LlE9LWN1lQkAL69bGkR3mvKQzpO8TBgMpwaSeGZ6/vW/MA4oDLIbwJjJaZlH+rhIdPDjaYBfYnmRoxr5gDCiX2+p9WnJS46tWaZ7XEygTbPLX3tMzhVZBmC/yQnQSyD1HmwWhrgoaOMjYwZoKYQk+YSZH49UJg6D8UB/hJeD7tCU5KjMmg/knHgjI60TOkrMamkivgGB6ApHPs1ByTCwdGR6Ope+XfW7d+FcK3oxEMM1H3Tx2/Q4oM0U83rgKSxo78JawWfDgnIOczdQNbkkqyDuEBQMtgzJR0ZGiiKWdSK90PyKSiRRr6At0jRoOg1zJy6KtOCTfwk0kjk7LrmY10o0yMc+sJjYYQnr/Ca9HlJOwHbSYNw0TUqCQ+4aWMkYn99/JOdmbqkSXGijPaFRywaHHhuxHJjIrIZ4L2CJi6TuTmiIl1FqhJAKOiAClRH9oBWB53LOmYfkUFYuIDgPJqfryBCe7u3su6kd+CFxMcLtUzuNIS2dA7J8Xu1cRkSJJ2Y/dSqMwh5Z/YTuk3av3c/Mz4UPsHEbjawtAy09SmtjPs+JKViX4eUXc4hkWtp1ZMk2WT6b7r1PPdPRybQ2FITuoKKqdEbbGUWBeqsJW2DbjG3N+x+fHs7a+LM1fU22fEHr/405Zn9OHFZv0XV7VxqzsMO+RD93sk/t1ytKyBoYMCatrlVAqNbmqHWJpKlKQdZT6yz0f291w+TMKhvNHIlcOPunLYkh+G+XQ9n67n0/V8up5P1zN9v6LK4atcmLsrGraFdJy2/XVVGEH7/UJJWdAvUhVl5UrMfnz24x9s6m2/O1bJ7tj2u2N/OtVtjjHsjmk7rHm/OZbIFgAyJ90+xopiK/O2IG8L8rYgbwvytiDT99tNuqVbcsrtJ6Tc3pV3+dCTbcc5BL4EuU+29flpqJPcFyFQsuFhdZsOAabPPuVKKCPbE/7+gL/LslJ9XibjgCYmsIScgUHKkLQmyVPociUFxKxDQNqrpiOEfARlLO8zkdq8zZirZ2yfcOGzHlAoNsxTCDmdWupwO72vUf7M+HiUb5UOicynY44y1LrUAASacJK4oNrUzTHtBnlOQtOQYkq7eF4fs8K4NnFmysP4JukEkvssozH5JN0TcwOU4PR2BwjIJbNtCjAxvVBSd1lGw3yCwTBKK9QjEiLRcH/qTmTm4p4O3dHIqoHKoBKVsK4qUVrZlI5hzXgp3UM5dD903PuZKicftH9hgt8t55aGdF1VNMz5XE5XmLIkeVY+CUhLeuUclMtBuYcflOtSVuREpJiMKSv0Wy9UEsReqMAutBY5LPf4wnI+yzGH5XJYLoflclguh+Uyfb/dsFwXfcuBuc8IzH22h/k1hOaSSrRhIQ1TXGilBmGzcQXxSV+2Poy5TaM+QJtLC32lRFd1EioxpbXDuhHwRYg4Ci3FqFlXSGqU4IciS6H4+aQvaztOKt0HcaWuSjcdAxCZjuUePq52TVyuLTSNFaRJdSz4gshhpNEopaxNEADScbsLpgG5pAhIWOAh6khOLKJKRmiLLkerArKvnuyKzw5QLBaH7+vzrqzj5MwgmvEgbbFtjyFgGdxTJK5pnLACGy7rWnjoSGwcr0ve2MpYI+1DjsR9to7JsbgvTvI7Lt7C2tSl5BWXpai1LGuwoCuNTDaqlLnUJUfj7rvU5YTPuSFt737wnkIueHnMITQjtBC5V0YOoeUQWg6h5RBapu/XVPByvSNzd2UvklsQUClbSxRGWFtqhQVnjltXM8WzT599+od2wt6jgNI/sWMD7ZVhiAsh417ZI3C1W2XkERcCFlzZBBcCF5bn4pfHeMquRG6nl7cIeYuQtwh5i5Dp++2dshe73ao7YfdH7evLHemy3GPv48/a/0G+5oPHne9OwLVHouxOc1HL/gg2QFLvYUiFkuYADrXSlgXowu68eYpD3VVOjE+gwWotU+zhHiexO/+ewKm3R+WT53OrNNrp8zkYPjibBrTcTqDB/fm1gSvgZw+iTgqj90j9oeimAw82wn8xmI9EEFMoao10n6f4eCYATOgIUWsVXTVAyw21QtpAwPkHpej/A7CvWgdccOBEYrgKTvqq14tn/S2SMC16kt4QT+u7yp3jAzDhsXCpJ/shqFeQHvY+AuMbBRPYTVr/CM4PVrCIuQltC4EhGmaXMDJG9kTgMYGCuNaYQ7iee4j2PscgsBnv+XKPyD6aQGCufYOBmzoWWCEi7ixRjrWAv8N0lKvLwUKmijYytgboOGgqCAOMfgVWsojyzVL03WnJVMirCB0OOshfktoD+LuoQTGVAiSHmxXXMkEVBmbG2LhBCMNrCI4wZq8ORrWD255iy0bA6J67OH1yiIcH6MPM0HrCob4VILXoq7eUlDJOxkharURYSDnYA10khLaAgQ9IFZAcpKuSwqwHnGKTJOVIsQfyj9jM42FQEjnFDSwWkXZDMZrhPcq7wpSjlSfQVGis7dFwAdSBZhX0DhABhC2zAsUVUhlShEYDdOD08Z1Iax/oijDM/BFSaMBIpY4L9nMgMk47PQy7YXhqohYmYbAkeSqwm9dY++4FHhX4uEPANpCA4wMJLk7Qfb00Wh0kU2ktphYwaVdCRoLZQETdpm4loknsdMBKtbq+K+VsYfYnQ9CjpIbYa0R6rPVgJQASiOKuHcWkB0MnrMN3uMkQAll13qMnE6GVjJ1LaFJJk4zQMmCq04LM9Q1wpg1YFCKHkWnpRMKQ3RjqGzCGzNXUQYmNGzzt2pecmN1hDiBYcgiiag4W4qZeHLH0dd/Z4IDJHDpXgXdDawXpey7szXzoYqHExOiEdifT99csmJaY8dfxDCmnBOAbJD2UH2jtQrKcmu/JEG3XlB5pnUyL7YU0uAv7YcgwwhQEO9icqM+EQbwZUB513+lDKTJ/PDH611XnhgUkC9PbEX2o/84w4XTofwXw+CH1aJ44wd2OeqlLUSXvbIonz8mu9l09mFfSwo6g0vfG3yuTA82KiPO4iUmnbY+CA2ZTCBIn3S8k9HY6IJjvXbI2H3NiZAzTqvezRl1yIhY6KfC9jdh3KwltcIZ9MNomQ4cNWe/vexMyHSXxxoZ19AfalXSiN5YTIlYPDC+1xWsb/vQY8WR7Y2cATRMYGunY12FAhIlb3/pt09mQBpM9zQbKqG/BsW/s4fcTB2g2sImAhrYZU+0fZXhc1j/Jmp7gGXRWj7zL/U5B+X3DfaHHk6wIZ3mJ3p0xRVVWTUkaUiio6lqJ4kumz34EYPnxodbidxA8yIm090j8u+VopaCoGnKBvEastSkl0FfOktNYlkaJfPyej9/vOaXWzq0h54XERueM2sd9XG59jEbl4/J8XJ6Py/NxeT4uz/T9ijJqr/Vj7i6htkFR1rr2R0AoZGNKwVhXUQsVWJchq7JH/zAhq9oNMp+zdm9seLszpk2y6UpNzRxP+80wLuiGnC77+NJlLVMy+//Z/8/+f/b/s/+f6fsVp8vyabosO82ZsbdEobqt0/iw8175XLR5ajgXCP6En8df2jNSnJvuez5XHhvef6JQ3stRaKmhcA0rC1PThrMqLZiy4KVTEqVWkt8fktBtWSKfZn4e/e6Wr5xxRWlRKmVKYaQusAaslShraSsh6xy+yOGLB4q4rbgRrfB0h/wRNkuafYt4PWoRj4r77gi9QPmW8RYWIHSObjy+6IYRFk2ObuToRo5u5OhGjm5k+n5T0Q08TUMd5aZYkdobhT0y+PbHgW/fqbP5wKuBu0JGblSsyuxqRbpyAb2Pj3SVNj5hvC/tMSAGCeWDNnH7NPXXCZ53V9sVK5R8ISpXKSg20yj0EHn7ZNjUbVB3PBiiq8dVSscc/kHPva4qZ4hTPUh4B2Nx2Byvq0zyxTP7pw9rBhJadQULViNEwhlr0zrbUJOcPt9yhnEqXenWeCqcrolXGA6K9RUNw/IqPbe+PqLtXJdSS9Cguu9yaMEgjBfEaGNZXx8jZd/ZT1gthv0D/esYAaNJMCN4Kyn7Ssj7qRkAW0vH6K9aFaISomiMqIxUWivW8FrdJ+T2yl1u1qvts7vVJjmg9mXofLd8KhXyqoESZFULJbjRrCodqIo1pFNVkQNvOfD20ANvJ3IufH5dECvF92KFEbBe816wmEefTAWLL8gY59jbI4y9McVy7C3H3nLsLcfecuwt0/eRxN5yltEtw2135GJ+BRE3Jnzoqcee6aB5IopK18htEBTzkBpKjcI8wCQaFYF3DMpxTCwdg4HoIeu67nXDITrUtVEsz1jbR/vQgyWNRwCle3grRS8A/QvTK+9Bm0JYTlnabo/GaO+6Jto2hM3g0nggwoin4WN7Q9QxTY7meArcN2TrIcToBmXHoTAP7oQRzAy5xT1WzXCIIeRNEgsLuBpdcFEgGjkewfe360kzQF2MOHyD+KpVCaZdNy+LPUiRMAja3E+sjYFrKmlUra0UWFelaIwRvJSysWXD7cOKtd2RKsnhti9G6rvl1orUowdAM1gpARUWtVdXxMOGRKq0VY645Yjbg2t9oVr0qiGgjRkIluxbRPpDoA7QBnuxkgsAnYiVsQsOufHFY6zkkyLH23K8Lcfbcrwtx9syfb/leFuOsd3U4+If4VQ+8AhbF2nhPlcrgtR3wLBJIGyQ4+TDLJOkswDRHaJEymopRvEvQ9RRMVwUU806cGCPvz3EevdAsj1oOlgcZVQhAkpMHx/TvULTAhVbIRyYwQDzN7amGE1Gefz9qwNtAELH3g9DpH5lpUm6gZCDKVmP/t3Fo8ZBtxb2eBwqpCnGrLbQZ+FQgwLvv5p+dCIabeLHAbEWHHocZEOpeMxIi6j0HT60kEl3AmY502YcTB12UBCcc3k/MTbdGGsbx23BGmEtN6WDUhjHCvoXa/ElY2xJoOcqwNXPVyU5wvaFCP0RnNrHa042l6uTM7dxNI+KKBcNJC0UuT6t+/Hjutq53cmW7ineHb2qaAZ0VWvO/1RvZy9nr496tq5F6dAoVRimRA1oEEtt6pIpVVcGxNHxbH8xKmh4gZzEthAMa6uNltwpXZDilJVNLlZNU5XKoVO8FA13ptClMwyNcGB51SQXC6FqqTVrELgQorBgRGOZZaZq6Ks6uRgKEkVRV1A5emeLpcS6UIWttG3ANSa5WNak3xwUUFshKoVGN7WjSZpKlBqFTC62hXScNG5dFUaAUIWSNFMQUhVl5UpMqWFk1UBlUIlKWFeVKK1sSkeEYbyULrm4NBpEVTTMkWKVrjBlySRpNs61lqQhk4ubxvnTkYbLuhaefkiKpy55YytjjUzpDFjTeklecVmKWsuyBgu60shko0qZTvDGtsPJotwE+50s902IyskEbwJrS0h3U8n98OIb66gT0t2Uo5yQ7qZE0eHFN57IDC++MSA+vPhGO3T6vBP4el357QqJ+3T39HwWlAJplXBRuHz+y6XbfPhXt3TVbr15crQPFC/810f9rc2meON1Znfrpf91XpHC2bk/hD//JVwxHe6nJdlYujE+Y07Ky63qn7yr+CReNK/8Ve377jaX7ik9hQzy7MnS7WbndDN7Tj9e7PXafOlWb3Zn9OkPPzyd/fvMX9d9ORyJ/vzj0vlf//nDn2iwePfr81MawN+zXV9uKvcH8gyuJMp33jM4mv0wG93e/TnfOPIkKvdv57uzJ/3T5s35ZhvHbmdKN+y/3bh361/blfnPnkzJgxLaPfUmuNX+ZB8OmIb/B7dvQfE=</script> <treescope-run-here><script type=\"application/octet-stream\"> const root = ( Array.from(document.getElementsByClassName( \"treescope_out_e23678921eec45e9a4ad7ba0f0687f7e\")) .filter((elt) => !elt.dataset['step1']) )[0]; root.dataset['step1'] = 1; root.defns.insertContent( this.parentNode.querySelector('script[type=\"application/octet-stream\"]'), true ); this.parentNode.remove(); </script></treescope-run-here> </div>"
      ],
      "text/plain": [
       "<IPython.core.display.HTML object>"
      ]
     },
     "metadata": {},
     "output_type": "display_data"
    },
    {
     "data": {
      "text/html": [
       "<treescope-run-here><script type=\"application/octet-stream\"> const root = ( Array.from(document.getElementsByClassName( \"treescope_out_e23678921eec45e9a4ad7ba0f0687f7e\")) .filter((elt) => !elt.dataset.stolen) )[0]; root.dataset.stolen = 1; this.parentNode.replaceChild(root, this); </script></treescope-run-here>"
      ],
      "text/plain": [
       "LlamaBlock( # Sequential\n",
       "  #╭┄┄┄┄┄┄┄┄┄┄┄┄┄┄┄┄┄┄┄┄┄┄┄┄┄┄┄┄┄┄┄┄┄┄┄┄┄┄┄┄╮\n",
       "  # Broken handler refs: [HandledSideInputRef(handler_id='WithSideInputsFromInputTuple_91b22', tag='positions'), HandledSideInputRef(handler_id='WithSideInputsFromInputTuple_91b22', tag='attn_mask')]\n",
       "  #╰┄┄┄┄┄┄┄┄┄┄┄┄┄┄┄┄┄┄┄┄┄┄┄┄┄┄┄┄┄┄┄┄┄┄┄┄┄┄┄┄╯\n",
       "  sublayers=[\n",
       "    WithConstantSideInputsNonPytree(\n",
       "      handler_id='WithConstantSideInputsNonPytree_febf8',\n",
       "      body=ConstrainedSharding(mesh=HandledSideInputRef(handler_id='WithConstantSideInputsNonPytree_febf8', tag='mesh'), axis_name_to_mesh_name=HandledSideInputRef(handler_id='WithConstantSideInputsNonPytree_febf8', tag='axis_name_to_mesh_name')),\n",
       "      side_inputs={'axis_name_to_mesh_name': {'neurons': 'mp', 'kv_heads': 'mp', 'seq': 'sp', 'batch': 'dp', 'sp': 'sp', 'mp': 'mp', 'dp': 'dp'}, 'mesh': Mesh(device_ids=array([[[0]]]), axis_names=('dp', 'sp', 'mp'))},\n",
       "    ),\n",
       "    Residual(\n",
       "      delta=Sequential(sublayers=[RMSLayerNorm(sublayers=[RMSStandardize(across=('embedding',), epsilon=<jax.Array(9.98378e-07, dtype=bfloat16)>), Linear(weights=Parameter(value=<NamedArray bfloat16(| embedding:2048) ≈2.3 ±0.83 [≥0.32, ≤4.7] nonzero:2_048 (wrapping jax.Array)>, name='blocks.12.pre_attn_norm.scale.weights'), in_axis_names=(), out_axis_names=())]), CastToDType(dtype=jax.numpy.bfloat16), LlamaAttention(input_to_query=Sequential(sublayers=[Linear(weights=Parameter(value=<NamedArray bfloat16(| embedding:2048, kv_heads:1, q_rep:8, projection:256) ≈-1.2e-06 ±0.0089 [≥-0.096, ≤0.1] zero:33_265 nonzero:4_161_039 (wrapping jax.Array)>, name='blocks.12.attn.query.weights'), in_axis_names=('embedding',), out_axis_names=('kv_heads', 'q_rep', 'projection')), ApplyRoPE(embedding_axis='projection', max_wavelength=10000, positions=HandledSideInputRef(handler_id='WithSideInputsFromInputTuple_91b22', tag='positions')), ConstantRescale(by=<jax.Array(0.0625, dtype=bfloat16)>)]), input_to_key=Sequential(sublayers=[Linear(weights=Parameter(value=<NamedArray bfloat16(| embedding:2048, kv_heads:1, projection:256) ≈-6.2e-06 ±0.0099 [≥-0.11, ≤0.12] zero:4_173 nonzero:520_115 (wrapping jax.Array)>, name='blocks.12.attn.key.weights'), in_axis_names=('embedding',), out_axis_names=('kv_heads', 'projection')), ApplyRoPE(embedding_axis='projection', max_wavelength=10000, positions=HandledSideInputRef(handler_id='WithSideInputsFromInputTuple_91b22', tag='positions')), CastToDType(dtype=jax.numpy.bfloat16)]), input_to_value=Sequential(sublayers=[Linear(weights=Parameter(value=<NamedArray bfloat16(| embedding:2048, kv_heads:1, projection:256) ≈-1.2e-05 ±0.0099 [≥-0.056, ≤0.056] zero:4_514 nonzero:519_774 (wrapping jax.Array)>, name='blocks.12.attn.value.weights'), in_axis_names=('embedding',), out_axis_names=('kv_heads', 'projection')), CastToDType(dtype=jax.numpy.bfloat16)]), query_key_to_attn=Sequential(sublayers=[NamedEinsum(input_axes=({'seq': 'tq', 'kv_heads': 'h', 'q_rep': 'r', 'projection': 'p'}, {'seq': 'tkv', 'kv_heads': 'h', 'projection': 'p'}), output_axes={'seq': 'tq', 'kv_heads': 'h', 'q_rep': 'r', 'kv_seq': 'tkv'}), ApplyAttentionMask(mask=HandledSideInputRef(handler_id='WithSideInputsFromInputTuple_91b22', tag='attn_mask'), masked_out_value=<jax.Array(-3.38953e+38, dtype=bfloat16)>), Softmax(axes='kv_seq')]), attn_value_to_output=Sequential(sublayers=[NamedEinsum(input_axes=({'seq': 'tq', 'kv_heads': 'h', 'q_rep': 'r', 'kv_seq': 'tkv'}, {'seq': 'tkv', 'kv_heads': 'h', 'projection': 'p'}), output_axes={'seq': 'tq', 'kv_heads': 'h', 'q_rep': 'r', 'projection': 'p'}), Linear(weights=Parameter(value=<NamedArray bfloat16(| kv_heads:1, q_rep:8, projection:256, embedding:2048) ≈-1.1e-06 ±0.0085 [≥-0.23, ≤0.23] zero:31_369 nonzero:4_162_935 (wrapping jax.Array)>, name='blocks.12.attn.output.weights'), in_axis_names=('kv_heads', 'q_rep', 'projection'), out_axis_names=('embedding',))]))]),\n",
       "    ),\n",
       "    WithConstantSideInputsNonPytree(handler_id='WithConstantSideInputsNonPytree_febf8', body=ConstrainedSharding(mesh=HandledSideInputRef(handler_id='WithConstantSideInputsNonPytree_febf8', tag='mesh'), axis_name_to_mesh_name=HandledSideInputRef(handler_id='WithConstantSideInputsNonPytree_febf8', tag='axis_name_to_mesh_name')), side_inputs={'axis_name_to_mesh_name': {'neurons': 'mp', 'kv_heads': 'mp', 'seq': 'sp', 'batch': 'dp', 'sp': 'sp', 'mp': 'mp', 'dp': 'dp'}, 'mesh': Mesh(device_ids=array([[[0]]]), axis_names=('dp', 'sp', 'mp'))}),\n",
       "    Residual(\n",
       "      delta=Sequential(sublayers=[RMSLayerNorm(sublayers=[RMSStandardize(across=('embedding',), epsilon=<jax.Array(9.98378e-07, dtype=bfloat16)>), Linear(weights=Parameter(value=<NamedArray bfloat16(| embedding:2048) ≈3.0 ±0.83 [≥0.086, ≤8.2] nonzero:2_048 (wrapping jax.Array)>, name='blocks.12.pre_mlp_norm.scale.weights'), in_axis_names=(), out_axis_names=())]), CastToDType(dtype=jax.numpy.bfloat16), LlamaMLP(sublayers=[BranchAndMultiplyTogether(branches=[NamedGroup(name='gate', sublayers=[Linear(weights=Parameter(value=<NamedArray bfloat16(| embedding:2048, neurons:16384) ≈1.1e-05 ±0.0058 [≥-0.097, ≤0.1] zero:263_285 nonzero:33_291_147 (wrapping jax.Array)>, name='blocks.12.mlp.gate_proj.weights'), in_axis_names=('embedding',), out_axis_names=('neurons',)), Elementwise(fn=jax.nn.gelu)]), Linear(weights=Parameter(value=<NamedArray bfloat16(| embedding:2048, neurons:16384) ≈-5.4e-07 ±0.0063 [≥-0.092, ≤0.073] zero:260_539 nonzero:33_293_893 (wrapping jax.Array)>, name='blocks.12.mlp.up_proj.weights'), in_axis_names=('embedding',), out_axis_names=('neurons',))]), Linear(weights=Parameter(value=<NamedArray bfloat16(| neurons:16384, embedding:2048) ≈-1.8e-07 ±0.0059 [≥-0.19, ≤0.22] zero:265_117 nonzero:33_289_315 (wrapping jax.Array)>, name='blocks.12.mlp.out_proj.weights'), in_axis_names=('neurons',), out_axis_names=('embedding',))])]),\n",
       "    ),\n",
       "    WithConstantSideInputsNonPytree(handler_id='WithConstantSideInputsNonPytree_febf8', body=ConstrainedSharding(mesh=HandledSideInputRef(handler_id='WithConstantSideInputsNonPytree_febf8', tag='mesh'), axis_name_to_mesh_name=HandledSideInputRef(handler_id='WithConstantSideInputsNonPytree_febf8', tag='axis_name_to_mesh_name')), side_inputs={'axis_name_to_mesh_name': {'neurons': 'mp', 'kv_heads': 'mp', 'seq': 'sp', 'batch': 'dp', 'sp': 'sp', 'mp': 'mp', 'dp': 'dp'}, 'mesh': Mesh(device_ids=array([[[0]]]), axis_names=('dp', 'sp', 'mp'))}),\n",
       "  ],\n",
       ")"
      ]
     },
     "execution_count": 47,
     "metadata": {},
     "output_type": "execute_result"
    }
   ],
   "source": [
    "from micrlhf.llama import LlamaBlock\n",
    "\n",
    "block = llama.select().at_instances_of(LlamaBlock).pick_nth_selected(12).get()\n",
    "block"
   ]
  },
  {
   "cell_type": "code",
   "execution_count": 43,
   "metadata": {},
   "outputs": [
    {
     "data": {
      "application/vnd.plotly.v1+json": {
       "config": {
        "plotlyServerURL": "https://plot.ly"
       },
       "data": [
        {
         "hovertemplate": "x=%{x}<br>y=%{y}<extra></extra>",
         "legendgroup": "",
         "line": {
          "color": "#636efa",
          "dash": "solid"
         },
         "marker": {
          "symbol": "circle"
         },
         "mode": "lines",
         "name": "",
         "orientation": "v",
         "showlegend": false,
         "type": "scatter",
         "x": [
          0,
          1,
          2,
          3,
          4,
          5,
          6,
          7,
          8,
          9,
          10,
          11,
          12,
          13,
          14,
          15,
          16,
          17,
          18,
          19,
          20,
          21,
          22,
          23,
          24,
          25,
          26,
          27,
          28,
          29,
          30,
          31,
          32,
          33,
          34,
          35,
          36,
          37,
          38,
          39,
          40,
          41,
          42,
          43,
          44,
          45,
          46,
          47,
          48,
          49,
          50,
          51,
          52,
          53,
          54,
          55,
          56,
          57,
          58,
          59,
          60,
          61,
          62,
          63,
          64,
          65,
          66,
          67,
          68,
          69,
          70,
          71,
          72,
          73,
          74,
          75,
          76,
          77,
          78,
          79,
          80,
          81,
          82,
          83,
          84,
          85,
          86,
          87,
          88,
          89,
          90,
          91,
          92,
          93,
          94,
          95,
          96,
          97,
          98,
          99,
          100,
          101,
          102,
          103,
          104,
          105,
          106,
          107,
          108,
          109,
          110,
          111,
          112,
          113,
          114,
          115,
          116,
          117,
          118,
          119,
          120,
          121,
          122,
          123,
          124,
          125,
          126,
          127,
          128,
          129,
          130,
          131,
          132,
          133,
          134,
          135,
          136,
          137,
          138,
          139,
          140,
          141,
          142,
          143,
          144,
          145,
          146,
          147,
          148,
          149,
          150,
          151,
          152,
          153,
          154,
          155,
          156,
          157,
          158,
          159,
          160,
          161,
          162,
          163,
          164,
          165,
          166,
          167,
          168,
          169,
          170,
          171,
          172,
          173,
          174,
          175,
          176,
          177,
          178,
          179,
          180,
          181,
          182,
          183,
          184,
          185,
          186,
          187,
          188,
          189,
          190,
          191,
          192,
          193,
          194,
          195,
          196,
          197,
          198,
          199,
          200,
          201,
          202,
          203,
          204,
          205,
          206,
          207,
          208,
          209,
          210,
          211,
          212,
          213,
          214,
          215,
          216,
          217,
          218,
          219,
          220,
          221,
          222,
          223,
          224,
          225,
          226,
          227,
          228,
          229,
          230,
          231,
          232,
          233,
          234,
          235,
          236,
          237,
          238,
          239,
          240,
          241,
          242,
          243,
          244,
          245,
          246,
          247,
          248,
          249,
          250,
          251,
          252,
          253,
          254,
          255,
          256,
          257,
          258,
          259,
          260,
          261,
          262,
          263,
          264,
          265,
          266,
          267,
          268,
          269,
          270,
          271,
          272,
          273,
          274,
          275,
          276,
          277,
          278,
          279,
          280,
          281,
          282,
          283,
          284,
          285,
          286,
          287,
          288,
          289,
          290,
          291,
          292,
          293,
          294,
          295,
          296,
          297,
          298,
          299,
          300,
          301,
          302,
          303,
          304,
          305,
          306,
          307,
          308,
          309,
          310,
          311,
          312,
          313,
          314,
          315,
          316,
          317,
          318,
          319,
          320,
          321,
          322,
          323,
          324,
          325,
          326,
          327,
          328,
          329,
          330,
          331,
          332,
          333,
          334,
          335,
          336,
          337,
          338,
          339,
          340,
          341,
          342,
          343,
          344,
          345,
          346,
          347,
          348,
          349,
          350,
          351,
          352,
          353,
          354,
          355,
          356,
          357,
          358,
          359,
          360,
          361,
          362,
          363,
          364,
          365,
          366,
          367,
          368,
          369,
          370,
          371,
          372,
          373,
          374,
          375,
          376,
          377,
          378,
          379,
          380,
          381,
          382,
          383,
          384,
          385,
          386,
          387,
          388,
          389,
          390,
          391,
          392,
          393,
          394,
          395,
          396,
          397,
          398,
          399
         ],
         "xaxis": "x",
         "y": [
          -1.71875,
          -1.734375,
          -1.734375,
          -1.7109375,
          -1.7734375,
          -1.78125,
          -1.765625,
          -1.7578125,
          -1.765625,
          -1.765625,
          -1.734375,
          -1.7421875,
          -1.734375,
          -1.7421875,
          -1.734375,
          -1.734375,
          -1.734375,
          -1.7265625,
          -1.71875,
          -1.7421875,
          -1.7265625,
          -1.7265625,
          -1.7265625,
          -1.7265625,
          -1.734375,
          -1.734375,
          -1.7265625,
          -1.7265625,
          -1.7265625,
          -1.7265625,
          -1.71875,
          -1.7265625,
          -1.7265625,
          -1.7265625,
          -1.7265625,
          -1.7265625,
          -1.7265625,
          -1.71875,
          -1.71875,
          -1.71875,
          -1.71875,
          -1.71875,
          -1.71875,
          -1.71875,
          -1.7265625,
          -1.71875,
          -1.7265625,
          -1.7265625,
          -1.7265625,
          -1.7265625,
          -1.71875,
          -1.71875,
          -1.71875,
          -1.7265625,
          -1.7265625,
          -1.7265625,
          -1.7265625,
          -1.7265625,
          -1.7265625,
          -1.71875,
          -1.7265625,
          -1.7265625,
          -1.7265625,
          -1.7265625,
          -1.7265625,
          -1.7265625,
          -1.7265625,
          -1.7265625,
          -3.0625,
          -3.046875,
          -3.125,
          -2.84375,
          -2.84375,
          -2.875,
          -1.71875,
          -1.71875,
          -1.71875,
          -1.71875,
          -1.734375,
          -1.734375,
          -1.734375,
          -1.734375,
          -1.7265625,
          -1.734375,
          -1.734375,
          -1.734375,
          -1.7265625,
          -1.7265625,
          -1.7265625,
          -1.7265625,
          -1.7265625,
          -1.7265625,
          -1.7265625,
          -1.7265625,
          -1.7265625,
          -1.7265625,
          -1.71875,
          -1.71875,
          -1.71875,
          -1.7265625,
          -1.7265625,
          -1.734375,
          -1.734375,
          -1.734375,
          -1.734375,
          -1.7265625,
          -1.71875,
          -1.7265625,
          -1.7265625,
          -1.7265625,
          -1.734375,
          -1.734375,
          -1.7265625,
          -1.7265625,
          -1.7265625,
          -1.734375,
          -1.734375,
          -7.09375,
          -7.09375,
          -7.15625,
          -6.6875,
          -1.7265625,
          -1.7265625,
          -1.7265625,
          -1.7265625,
          -1.734375,
          -1.734375,
          -4.6875,
          -4.65625,
          -4.65625,
          -4.65625,
          -4.65625,
          -4.65625,
          -4.65625,
          -4.65625,
          -4.65625,
          -4.65625,
          -4.65625,
          -4.65625,
          -4.65625,
          -4.65625,
          -4.65625,
          -4.625,
          -4.625,
          -4.625,
          -4.65625,
          -4.65625,
          -4.65625,
          -4.625,
          -4.625,
          -4.625,
          -4.625,
          -4.5625,
          -4.625,
          -4.625,
          -4.65625,
          -4.625,
          -4.625,
          -4.625,
          -4.625,
          -4.65625,
          -4.4375,
          -4.4375,
          -4.4375,
          -4.46875,
          -4.65625,
          -4.6875,
          -4.59375,
          -4.53125,
          -4.53125,
          -2.59375,
          -1.734375,
          -4.25,
          -4.25,
          -4.34375,
          -4.46875,
          -4.46875,
          -4.40625,
          -4.59375,
          -4.5625,
          -4.65625,
          -4.65625,
          -4.65625,
          -4.65625,
          -4.65625,
          -4.625,
          -4.625,
          -4.625,
          -4.625,
          -4.625,
          -13,
          -9.75,
          -9.8125,
          -4.625,
          -4.65625,
          -4.65625,
          -4.625,
          -4.65625,
          -4.625,
          -4.625,
          -4.625,
          -4.625,
          -4.625,
          -4.625,
          -4.65625,
          -4.65625,
          -4.625,
          -7.21875,
          -7.21875,
          -7.28125,
          -7.25,
          -11.25,
          -11.25,
          -11.1875,
          -11.0625,
          -11.0625,
          -11.125,
          -11.75,
          -7.25,
          -10.1875,
          -4.65625,
          -4.65625,
          -4.65625,
          -4.65625,
          -4.625,
          -4.65625,
          -4.65625,
          -4.65625,
          -4.6875,
          -4.65625,
          -4.65625,
          -4.65625,
          -7.03125,
          -7.0625,
          -7.0625,
          -9.6875,
          -9.6875,
          -3.671875,
          -3.6875,
          -3.65625,
          -3.65625,
          -3.71875,
          -3.71875,
          -1.734375,
          -1.734375,
          -9,
          -9,
          -1.734375,
          -1.71875,
          -1.71875,
          -4.6875,
          -4.65625,
          -4.6875,
          -4.6875,
          -1.8046875,
          -1.7421875,
          -1.734375,
          -1.7421875,
          -3.5625,
          -4.625,
          -4.625,
          -4.5,
          -4.5,
          -4.53125,
          -4.53125,
          -4.65625,
          -4.65625,
          -4.65625,
          -4.625,
          -4.625,
          -4.5625,
          -4.5625,
          -4.5625,
          -4.625,
          -4.625,
          -4.65625,
          -4.65625,
          -4.625,
          -4.65625,
          -4.625,
          -4.625,
          -4.625,
          -4.65625,
          -4.65625,
          -4.09375,
          -4.125,
          -4.25,
          -4.25,
          -4.25,
          -4.28125,
          -4.28125,
          -4.28125,
          -4.15625,
          -4.1875,
          -4.125,
          -4.34375,
          -1.9453125,
          -4.6875,
          -4.6875,
          -4.6875,
          -4.6875,
          -4.6875,
          -4.6875,
          -4.65625,
          -4.59375,
          -4.625,
          -4.625,
          -4.6875,
          -4.65625,
          -4.65625,
          -4.4375,
          -4.4375,
          -4.4375,
          -4.65625,
          -4.65625,
          -4.65625,
          -4.65625,
          -4.65625,
          -4.65625,
          -4.65625,
          -4.65625,
          -4.65625,
          -4.65625,
          -4.65625,
          -4.65625,
          -4.65625,
          -4.65625,
          -4.65625,
          -4.65625,
          -4.65625,
          -4.65625,
          -4.65625,
          -4.65625,
          -4.65625,
          -4.65625,
          -4.65625,
          -4.65625,
          -4.65625,
          -4.65625,
          -4.65625,
          -4.65625,
          -4.65625,
          -4.65625,
          -4.65625,
          -4.65625,
          -4.625,
          -4.625,
          -4.625,
          -4.625,
          -4.625,
          -4.625,
          -4.65625,
          -4.5625,
          -1.75,
          -1.734375,
          -1.7421875,
          -1.7421875,
          -1.7421875,
          -1.75,
          -1.75,
          -1.7421875,
          -1.796875,
          -1.9453125,
          -1.7421875,
          -1.7421875,
          -1.734375,
          -4.625,
          -4.625,
          -4.625,
          -4.625,
          -4.625,
          -4.65625,
          -4.65625,
          -4.65625,
          -4.65625,
          -4.625,
          -4.625,
          -4.625,
          -4.65625,
          -4.65625,
          -4.65625,
          -4.625,
          -4.625,
          -4.65625,
          -4.65625,
          -4.65625,
          -4.65625,
          -4.625,
          -4.625,
          -4.625,
          -4.625,
          -4.625,
          -4.625,
          -4.375,
          -4.40625,
          -4.3125,
          -4.34375,
          -4.625,
          -4.625,
          -4.625
         ],
         "yaxis": "y"
        }
       ],
       "layout": {
        "legend": {
         "tracegroupgap": 0
        },
        "margin": {
         "t": 60
        },
        "template": {
         "data": {
          "bar": [
           {
            "error_x": {
             "color": "#2a3f5f"
            },
            "error_y": {
             "color": "#2a3f5f"
            },
            "marker": {
             "line": {
              "color": "#E5ECF6",
              "width": 0.5
             },
             "pattern": {
              "fillmode": "overlay",
              "size": 10,
              "solidity": 0.2
             }
            },
            "type": "bar"
           }
          ],
          "barpolar": [
           {
            "marker": {
             "line": {
              "color": "#E5ECF6",
              "width": 0.5
             },
             "pattern": {
              "fillmode": "overlay",
              "size": 10,
              "solidity": 0.2
             }
            },
            "type": "barpolar"
           }
          ],
          "carpet": [
           {
            "aaxis": {
             "endlinecolor": "#2a3f5f",
             "gridcolor": "white",
             "linecolor": "white",
             "minorgridcolor": "white",
             "startlinecolor": "#2a3f5f"
            },
            "baxis": {
             "endlinecolor": "#2a3f5f",
             "gridcolor": "white",
             "linecolor": "white",
             "minorgridcolor": "white",
             "startlinecolor": "#2a3f5f"
            },
            "type": "carpet"
           }
          ],
          "choropleth": [
           {
            "colorbar": {
             "outlinewidth": 0,
             "ticks": ""
            },
            "type": "choropleth"
           }
          ],
          "contour": [
           {
            "colorbar": {
             "outlinewidth": 0,
             "ticks": ""
            },
            "colorscale": [
             [
              0,
              "#0d0887"
             ],
             [
              0.1111111111111111,
              "#46039f"
             ],
             [
              0.2222222222222222,
              "#7201a8"
             ],
             [
              0.3333333333333333,
              "#9c179e"
             ],
             [
              0.4444444444444444,
              "#bd3786"
             ],
             [
              0.5555555555555556,
              "#d8576b"
             ],
             [
              0.6666666666666666,
              "#ed7953"
             ],
             [
              0.7777777777777778,
              "#fb9f3a"
             ],
             [
              0.8888888888888888,
              "#fdca26"
             ],
             [
              1,
              "#f0f921"
             ]
            ],
            "type": "contour"
           }
          ],
          "contourcarpet": [
           {
            "colorbar": {
             "outlinewidth": 0,
             "ticks": ""
            },
            "type": "contourcarpet"
           }
          ],
          "heatmap": [
           {
            "colorbar": {
             "outlinewidth": 0,
             "ticks": ""
            },
            "colorscale": [
             [
              0,
              "#0d0887"
             ],
             [
              0.1111111111111111,
              "#46039f"
             ],
             [
              0.2222222222222222,
              "#7201a8"
             ],
             [
              0.3333333333333333,
              "#9c179e"
             ],
             [
              0.4444444444444444,
              "#bd3786"
             ],
             [
              0.5555555555555556,
              "#d8576b"
             ],
             [
              0.6666666666666666,
              "#ed7953"
             ],
             [
              0.7777777777777778,
              "#fb9f3a"
             ],
             [
              0.8888888888888888,
              "#fdca26"
             ],
             [
              1,
              "#f0f921"
             ]
            ],
            "type": "heatmap"
           }
          ],
          "heatmapgl": [
           {
            "colorbar": {
             "outlinewidth": 0,
             "ticks": ""
            },
            "colorscale": [
             [
              0,
              "#0d0887"
             ],
             [
              0.1111111111111111,
              "#46039f"
             ],
             [
              0.2222222222222222,
              "#7201a8"
             ],
             [
              0.3333333333333333,
              "#9c179e"
             ],
             [
              0.4444444444444444,
              "#bd3786"
             ],
             [
              0.5555555555555556,
              "#d8576b"
             ],
             [
              0.6666666666666666,
              "#ed7953"
             ],
             [
              0.7777777777777778,
              "#fb9f3a"
             ],
             [
              0.8888888888888888,
              "#fdca26"
             ],
             [
              1,
              "#f0f921"
             ]
            ],
            "type": "heatmapgl"
           }
          ],
          "histogram": [
           {
            "marker": {
             "pattern": {
              "fillmode": "overlay",
              "size": 10,
              "solidity": 0.2
             }
            },
            "type": "histogram"
           }
          ],
          "histogram2d": [
           {
            "colorbar": {
             "outlinewidth": 0,
             "ticks": ""
            },
            "colorscale": [
             [
              0,
              "#0d0887"
             ],
             [
              0.1111111111111111,
              "#46039f"
             ],
             [
              0.2222222222222222,
              "#7201a8"
             ],
             [
              0.3333333333333333,
              "#9c179e"
             ],
             [
              0.4444444444444444,
              "#bd3786"
             ],
             [
              0.5555555555555556,
              "#d8576b"
             ],
             [
              0.6666666666666666,
              "#ed7953"
             ],
             [
              0.7777777777777778,
              "#fb9f3a"
             ],
             [
              0.8888888888888888,
              "#fdca26"
             ],
             [
              1,
              "#f0f921"
             ]
            ],
            "type": "histogram2d"
           }
          ],
          "histogram2dcontour": [
           {
            "colorbar": {
             "outlinewidth": 0,
             "ticks": ""
            },
            "colorscale": [
             [
              0,
              "#0d0887"
             ],
             [
              0.1111111111111111,
              "#46039f"
             ],
             [
              0.2222222222222222,
              "#7201a8"
             ],
             [
              0.3333333333333333,
              "#9c179e"
             ],
             [
              0.4444444444444444,
              "#bd3786"
             ],
             [
              0.5555555555555556,
              "#d8576b"
             ],
             [
              0.6666666666666666,
              "#ed7953"
             ],
             [
              0.7777777777777778,
              "#fb9f3a"
             ],
             [
              0.8888888888888888,
              "#fdca26"
             ],
             [
              1,
              "#f0f921"
             ]
            ],
            "type": "histogram2dcontour"
           }
          ],
          "mesh3d": [
           {
            "colorbar": {
             "outlinewidth": 0,
             "ticks": ""
            },
            "type": "mesh3d"
           }
          ],
          "parcoords": [
           {
            "line": {
             "colorbar": {
              "outlinewidth": 0,
              "ticks": ""
             }
            },
            "type": "parcoords"
           }
          ],
          "pie": [
           {
            "automargin": true,
            "type": "pie"
           }
          ],
          "scatter": [
           {
            "fillpattern": {
             "fillmode": "overlay",
             "size": 10,
             "solidity": 0.2
            },
            "type": "scatter"
           }
          ],
          "scatter3d": [
           {
            "line": {
             "colorbar": {
              "outlinewidth": 0,
              "ticks": ""
             }
            },
            "marker": {
             "colorbar": {
              "outlinewidth": 0,
              "ticks": ""
             }
            },
            "type": "scatter3d"
           }
          ],
          "scattercarpet": [
           {
            "marker": {
             "colorbar": {
              "outlinewidth": 0,
              "ticks": ""
             }
            },
            "type": "scattercarpet"
           }
          ],
          "scattergeo": [
           {
            "marker": {
             "colorbar": {
              "outlinewidth": 0,
              "ticks": ""
             }
            },
            "type": "scattergeo"
           }
          ],
          "scattergl": [
           {
            "marker": {
             "colorbar": {
              "outlinewidth": 0,
              "ticks": ""
             }
            },
            "type": "scattergl"
           }
          ],
          "scattermapbox": [
           {
            "marker": {
             "colorbar": {
              "outlinewidth": 0,
              "ticks": ""
             }
            },
            "type": "scattermapbox"
           }
          ],
          "scatterpolar": [
           {
            "marker": {
             "colorbar": {
              "outlinewidth": 0,
              "ticks": ""
             }
            },
            "type": "scatterpolar"
           }
          ],
          "scatterpolargl": [
           {
            "marker": {
             "colorbar": {
              "outlinewidth": 0,
              "ticks": ""
             }
            },
            "type": "scatterpolargl"
           }
          ],
          "scatterternary": [
           {
            "marker": {
             "colorbar": {
              "outlinewidth": 0,
              "ticks": ""
             }
            },
            "type": "scatterternary"
           }
          ],
          "surface": [
           {
            "colorbar": {
             "outlinewidth": 0,
             "ticks": ""
            },
            "colorscale": [
             [
              0,
              "#0d0887"
             ],
             [
              0.1111111111111111,
              "#46039f"
             ],
             [
              0.2222222222222222,
              "#7201a8"
             ],
             [
              0.3333333333333333,
              "#9c179e"
             ],
             [
              0.4444444444444444,
              "#bd3786"
             ],
             [
              0.5555555555555556,
              "#d8576b"
             ],
             [
              0.6666666666666666,
              "#ed7953"
             ],
             [
              0.7777777777777778,
              "#fb9f3a"
             ],
             [
              0.8888888888888888,
              "#fdca26"
             ],
             [
              1,
              "#f0f921"
             ]
            ],
            "type": "surface"
           }
          ],
          "table": [
           {
            "cells": {
             "fill": {
              "color": "#EBF0F8"
             },
             "line": {
              "color": "white"
             }
            },
            "header": {
             "fill": {
              "color": "#C8D4E3"
             },
             "line": {
              "color": "white"
             }
            },
            "type": "table"
           }
          ]
         },
         "layout": {
          "annotationdefaults": {
           "arrowcolor": "#2a3f5f",
           "arrowhead": 0,
           "arrowwidth": 1
          },
          "autotypenumbers": "strict",
          "coloraxis": {
           "colorbar": {
            "outlinewidth": 0,
            "ticks": ""
           }
          },
          "colorscale": {
           "diverging": [
            [
             0,
             "#8e0152"
            ],
            [
             0.1,
             "#c51b7d"
            ],
            [
             0.2,
             "#de77ae"
            ],
            [
             0.3,
             "#f1b6da"
            ],
            [
             0.4,
             "#fde0ef"
            ],
            [
             0.5,
             "#f7f7f7"
            ],
            [
             0.6,
             "#e6f5d0"
            ],
            [
             0.7,
             "#b8e186"
            ],
            [
             0.8,
             "#7fbc41"
            ],
            [
             0.9,
             "#4d9221"
            ],
            [
             1,
             "#276419"
            ]
           ],
           "sequential": [
            [
             0,
             "#0d0887"
            ],
            [
             0.1111111111111111,
             "#46039f"
            ],
            [
             0.2222222222222222,
             "#7201a8"
            ],
            [
             0.3333333333333333,
             "#9c179e"
            ],
            [
             0.4444444444444444,
             "#bd3786"
            ],
            [
             0.5555555555555556,
             "#d8576b"
            ],
            [
             0.6666666666666666,
             "#ed7953"
            ],
            [
             0.7777777777777778,
             "#fb9f3a"
            ],
            [
             0.8888888888888888,
             "#fdca26"
            ],
            [
             1,
             "#f0f921"
            ]
           ],
           "sequentialminus": [
            [
             0,
             "#0d0887"
            ],
            [
             0.1111111111111111,
             "#46039f"
            ],
            [
             0.2222222222222222,
             "#7201a8"
            ],
            [
             0.3333333333333333,
             "#9c179e"
            ],
            [
             0.4444444444444444,
             "#bd3786"
            ],
            [
             0.5555555555555556,
             "#d8576b"
            ],
            [
             0.6666666666666666,
             "#ed7953"
            ],
            [
             0.7777777777777778,
             "#fb9f3a"
            ],
            [
             0.8888888888888888,
             "#fdca26"
            ],
            [
             1,
             "#f0f921"
            ]
           ]
          },
          "colorway": [
           "#636efa",
           "#EF553B",
           "#00cc96",
           "#ab63fa",
           "#FFA15A",
           "#19d3f3",
           "#FF6692",
           "#B6E880",
           "#FF97FF",
           "#FECB52"
          ],
          "font": {
           "color": "#2a3f5f"
          },
          "geo": {
           "bgcolor": "white",
           "lakecolor": "white",
           "landcolor": "#E5ECF6",
           "showlakes": true,
           "showland": true,
           "subunitcolor": "white"
          },
          "hoverlabel": {
           "align": "left"
          },
          "hovermode": "closest",
          "mapbox": {
           "style": "light"
          },
          "paper_bgcolor": "white",
          "plot_bgcolor": "#E5ECF6",
          "polar": {
           "angularaxis": {
            "gridcolor": "white",
            "linecolor": "white",
            "ticks": ""
           },
           "bgcolor": "#E5ECF6",
           "radialaxis": {
            "gridcolor": "white",
            "linecolor": "white",
            "ticks": ""
           }
          },
          "scene": {
           "xaxis": {
            "backgroundcolor": "#E5ECF6",
            "gridcolor": "white",
            "gridwidth": 2,
            "linecolor": "white",
            "showbackground": true,
            "ticks": "",
            "zerolinecolor": "white"
           },
           "yaxis": {
            "backgroundcolor": "#E5ECF6",
            "gridcolor": "white",
            "gridwidth": 2,
            "linecolor": "white",
            "showbackground": true,
            "ticks": "",
            "zerolinecolor": "white"
           },
           "zaxis": {
            "backgroundcolor": "#E5ECF6",
            "gridcolor": "white",
            "gridwidth": 2,
            "linecolor": "white",
            "showbackground": true,
            "ticks": "",
            "zerolinecolor": "white"
           }
          },
          "shapedefaults": {
           "line": {
            "color": "#2a3f5f"
           }
          },
          "ternary": {
           "aaxis": {
            "gridcolor": "white",
            "linecolor": "white",
            "ticks": ""
           },
           "baxis": {
            "gridcolor": "white",
            "linecolor": "white",
            "ticks": ""
           },
           "bgcolor": "#E5ECF6",
           "caxis": {
            "gridcolor": "white",
            "linecolor": "white",
            "ticks": ""
           }
          },
          "title": {
           "x": 0.05
          },
          "xaxis": {
           "automargin": true,
           "gridcolor": "white",
           "linecolor": "white",
           "ticks": "",
           "title": {
            "standoff": 15
           },
           "zerolinecolor": "white",
           "zerolinewidth": 2
          },
          "yaxis": {
           "automargin": true,
           "gridcolor": "white",
           "linecolor": "white",
           "ticks": "",
           "title": {
            "standoff": 15
           },
           "zerolinecolor": "white",
           "zerolinewidth": 2
          }
         }
        },
        "xaxis": {
         "anchor": "y",
         "domain": [
          0,
          1
         ],
         "title": {
          "text": "x"
         }
        },
        "yaxis": {
         "anchor": "x",
         "domain": [
          0,
          1
         ],
         "title": {
          "text": "y"
         }
        }
       }
      },
      "text/html": [
       "<div>                            <div id=\"2c387c40-62f5-42e1-8b0d-4a463399cf10\" class=\"plotly-graph-div\" style=\"height:525px; width:100%;\"></div>            <script type=\"text/javascript\">                require([\"plotly\"], function(Plotly) {                    window.PLOTLYENV=window.PLOTLYENV || {};                                    if (document.getElementById(\"2c387c40-62f5-42e1-8b0d-4a463399cf10\")) {                    Plotly.newPlot(                        \"2c387c40-62f5-42e1-8b0d-4a463399cf10\",                        [{\"hovertemplate\":\"x=%{x}\\u003cbr\\u003ey=%{y}\\u003cextra\\u003e\\u003c\\u002fextra\\u003e\",\"legendgroup\":\"\",\"line\":{\"color\":\"#636efa\",\"dash\":\"solid\"},\"marker\":{\"symbol\":\"circle\"},\"mode\":\"lines\",\"name\":\"\",\"orientation\":\"v\",\"showlegend\":false,\"x\":[0,1,2,3,4,5,6,7,8,9,10,11,12,13,14,15,16,17,18,19,20,21,22,23,24,25,26,27,28,29,30,31,32,33,34,35,36,37,38,39,40,41,42,43,44,45,46,47,48,49,50,51,52,53,54,55,56,57,58,59,60,61,62,63,64,65,66,67,68,69,70,71,72,73,74,75,76,77,78,79,80,81,82,83,84,85,86,87,88,89,90,91,92,93,94,95,96,97,98,99,100,101,102,103,104,105,106,107,108,109,110,111,112,113,114,115,116,117,118,119,120,121,122,123,124,125,126,127,128,129,130,131,132,133,134,135,136,137,138,139,140,141,142,143,144,145,146,147,148,149,150,151,152,153,154,155,156,157,158,159,160,161,162,163,164,165,166,167,168,169,170,171,172,173,174,175,176,177,178,179,180,181,182,183,184,185,186,187,188,189,190,191,192,193,194,195,196,197,198,199,200,201,202,203,204,205,206,207,208,209,210,211,212,213,214,215,216,217,218,219,220,221,222,223,224,225,226,227,228,229,230,231,232,233,234,235,236,237,238,239,240,241,242,243,244,245,246,247,248,249,250,251,252,253,254,255,256,257,258,259,260,261,262,263,264,265,266,267,268,269,270,271,272,273,274,275,276,277,278,279,280,281,282,283,284,285,286,287,288,289,290,291,292,293,294,295,296,297,298,299,300,301,302,303,304,305,306,307,308,309,310,311,312,313,314,315,316,317,318,319,320,321,322,323,324,325,326,327,328,329,330,331,332,333,334,335,336,337,338,339,340,341,342,343,344,345,346,347,348,349,350,351,352,353,354,355,356,357,358,359,360,361,362,363,364,365,366,367,368,369,370,371,372,373,374,375,376,377,378,379,380,381,382,383,384,385,386,387,388,389,390,391,392,393,394,395,396,397,398,399],\"xaxis\":\"x\",\"y\":[-1.71875,-1.734375,-1.734375,-1.7109375,-1.7734375,-1.78125,-1.765625,-1.7578125,-1.765625,-1.765625,-1.734375,-1.7421875,-1.734375,-1.7421875,-1.734375,-1.734375,-1.734375,-1.7265625,-1.71875,-1.7421875,-1.7265625,-1.7265625,-1.7265625,-1.7265625,-1.734375,-1.734375,-1.7265625,-1.7265625,-1.7265625,-1.7265625,-1.71875,-1.7265625,-1.7265625,-1.7265625,-1.7265625,-1.7265625,-1.7265625,-1.71875,-1.71875,-1.71875,-1.71875,-1.71875,-1.71875,-1.71875,-1.7265625,-1.71875,-1.7265625,-1.7265625,-1.7265625,-1.7265625,-1.71875,-1.71875,-1.71875,-1.7265625,-1.7265625,-1.7265625,-1.7265625,-1.7265625,-1.7265625,-1.71875,-1.7265625,-1.7265625,-1.7265625,-1.7265625,-1.7265625,-1.7265625,-1.7265625,-1.7265625,-3.0625,-3.046875,-3.125,-2.84375,-2.84375,-2.875,-1.71875,-1.71875,-1.71875,-1.71875,-1.734375,-1.734375,-1.734375,-1.734375,-1.7265625,-1.734375,-1.734375,-1.734375,-1.7265625,-1.7265625,-1.7265625,-1.7265625,-1.7265625,-1.7265625,-1.7265625,-1.7265625,-1.7265625,-1.7265625,-1.71875,-1.71875,-1.71875,-1.7265625,-1.7265625,-1.734375,-1.734375,-1.734375,-1.734375,-1.7265625,-1.71875,-1.7265625,-1.7265625,-1.7265625,-1.734375,-1.734375,-1.7265625,-1.7265625,-1.7265625,-1.734375,-1.734375,-7.09375,-7.09375,-7.15625,-6.6875,-1.7265625,-1.7265625,-1.7265625,-1.7265625,-1.734375,-1.734375,-4.6875,-4.65625,-4.65625,-4.65625,-4.65625,-4.65625,-4.65625,-4.65625,-4.65625,-4.65625,-4.65625,-4.65625,-4.65625,-4.65625,-4.65625,-4.625,-4.625,-4.625,-4.65625,-4.65625,-4.65625,-4.625,-4.625,-4.625,-4.625,-4.5625,-4.625,-4.625,-4.65625,-4.625,-4.625,-4.625,-4.625,-4.65625,-4.4375,-4.4375,-4.4375,-4.46875,-4.65625,-4.6875,-4.59375,-4.53125,-4.53125,-2.59375,-1.734375,-4.25,-4.25,-4.34375,-4.46875,-4.46875,-4.40625,-4.59375,-4.5625,-4.65625,-4.65625,-4.65625,-4.65625,-4.65625,-4.625,-4.625,-4.625,-4.625,-4.625,-13.0,-9.75,-9.8125,-4.625,-4.65625,-4.65625,-4.625,-4.65625,-4.625,-4.625,-4.625,-4.625,-4.625,-4.625,-4.65625,-4.65625,-4.625,-7.21875,-7.21875,-7.28125,-7.25,-11.25,-11.25,-11.1875,-11.0625,-11.0625,-11.125,-11.75,-7.25,-10.1875,-4.65625,-4.65625,-4.65625,-4.65625,-4.625,-4.65625,-4.65625,-4.65625,-4.6875,-4.65625,-4.65625,-4.65625,-7.03125,-7.0625,-7.0625,-9.6875,-9.6875,-3.671875,-3.6875,-3.65625,-3.65625,-3.71875,-3.71875,-1.734375,-1.734375,-9.0,-9.0,-1.734375,-1.71875,-1.71875,-4.6875,-4.65625,-4.6875,-4.6875,-1.8046875,-1.7421875,-1.734375,-1.7421875,-3.5625,-4.625,-4.625,-4.5,-4.5,-4.53125,-4.53125,-4.65625,-4.65625,-4.65625,-4.625,-4.625,-4.5625,-4.5625,-4.5625,-4.625,-4.625,-4.65625,-4.65625,-4.625,-4.65625,-4.625,-4.625,-4.625,-4.65625,-4.65625,-4.09375,-4.125,-4.25,-4.25,-4.25,-4.28125,-4.28125,-4.28125,-4.15625,-4.1875,-4.125,-4.34375,-1.9453125,-4.6875,-4.6875,-4.6875,-4.6875,-4.6875,-4.6875,-4.65625,-4.59375,-4.625,-4.625,-4.6875,-4.65625,-4.65625,-4.4375,-4.4375,-4.4375,-4.65625,-4.65625,-4.65625,-4.65625,-4.65625,-4.65625,-4.65625,-4.65625,-4.65625,-4.65625,-4.65625,-4.65625,-4.65625,-4.65625,-4.65625,-4.65625,-4.65625,-4.65625,-4.65625,-4.65625,-4.65625,-4.65625,-4.65625,-4.65625,-4.65625,-4.65625,-4.65625,-4.65625,-4.65625,-4.65625,-4.65625,-4.65625,-4.625,-4.625,-4.625,-4.625,-4.625,-4.625,-4.65625,-4.5625,-1.75,-1.734375,-1.7421875,-1.7421875,-1.7421875,-1.75,-1.75,-1.7421875,-1.796875,-1.9453125,-1.7421875,-1.7421875,-1.734375,-4.625,-4.625,-4.625,-4.625,-4.625,-4.65625,-4.65625,-4.65625,-4.65625,-4.625,-4.625,-4.625,-4.65625,-4.65625,-4.65625,-4.625,-4.625,-4.65625,-4.65625,-4.65625,-4.65625,-4.625,-4.625,-4.625,-4.625,-4.625,-4.625,-4.375,-4.40625,-4.3125,-4.34375,-4.625,-4.625,-4.625],\"yaxis\":\"y\",\"type\":\"scatter\"}],                        {\"template\":{\"data\":{\"histogram2dcontour\":[{\"type\":\"histogram2dcontour\",\"colorbar\":{\"outlinewidth\":0,\"ticks\":\"\"},\"colorscale\":[[0.0,\"#0d0887\"],[0.1111111111111111,\"#46039f\"],[0.2222222222222222,\"#7201a8\"],[0.3333333333333333,\"#9c179e\"],[0.4444444444444444,\"#bd3786\"],[0.5555555555555556,\"#d8576b\"],[0.6666666666666666,\"#ed7953\"],[0.7777777777777778,\"#fb9f3a\"],[0.8888888888888888,\"#fdca26\"],[1.0,\"#f0f921\"]]}],\"choropleth\":[{\"type\":\"choropleth\",\"colorbar\":{\"outlinewidth\":0,\"ticks\":\"\"}}],\"histogram2d\":[{\"type\":\"histogram2d\",\"colorbar\":{\"outlinewidth\":0,\"ticks\":\"\"},\"colorscale\":[[0.0,\"#0d0887\"],[0.1111111111111111,\"#46039f\"],[0.2222222222222222,\"#7201a8\"],[0.3333333333333333,\"#9c179e\"],[0.4444444444444444,\"#bd3786\"],[0.5555555555555556,\"#d8576b\"],[0.6666666666666666,\"#ed7953\"],[0.7777777777777778,\"#fb9f3a\"],[0.8888888888888888,\"#fdca26\"],[1.0,\"#f0f921\"]]}],\"heatmap\":[{\"type\":\"heatmap\",\"colorbar\":{\"outlinewidth\":0,\"ticks\":\"\"},\"colorscale\":[[0.0,\"#0d0887\"],[0.1111111111111111,\"#46039f\"],[0.2222222222222222,\"#7201a8\"],[0.3333333333333333,\"#9c179e\"],[0.4444444444444444,\"#bd3786\"],[0.5555555555555556,\"#d8576b\"],[0.6666666666666666,\"#ed7953\"],[0.7777777777777778,\"#fb9f3a\"],[0.8888888888888888,\"#fdca26\"],[1.0,\"#f0f921\"]]}],\"heatmapgl\":[{\"type\":\"heatmapgl\",\"colorbar\":{\"outlinewidth\":0,\"ticks\":\"\"},\"colorscale\":[[0.0,\"#0d0887\"],[0.1111111111111111,\"#46039f\"],[0.2222222222222222,\"#7201a8\"],[0.3333333333333333,\"#9c179e\"],[0.4444444444444444,\"#bd3786\"],[0.5555555555555556,\"#d8576b\"],[0.6666666666666666,\"#ed7953\"],[0.7777777777777778,\"#fb9f3a\"],[0.8888888888888888,\"#fdca26\"],[1.0,\"#f0f921\"]]}],\"contourcarpet\":[{\"type\":\"contourcarpet\",\"colorbar\":{\"outlinewidth\":0,\"ticks\":\"\"}}],\"contour\":[{\"type\":\"contour\",\"colorbar\":{\"outlinewidth\":0,\"ticks\":\"\"},\"colorscale\":[[0.0,\"#0d0887\"],[0.1111111111111111,\"#46039f\"],[0.2222222222222222,\"#7201a8\"],[0.3333333333333333,\"#9c179e\"],[0.4444444444444444,\"#bd3786\"],[0.5555555555555556,\"#d8576b\"],[0.6666666666666666,\"#ed7953\"],[0.7777777777777778,\"#fb9f3a\"],[0.8888888888888888,\"#fdca26\"],[1.0,\"#f0f921\"]]}],\"surface\":[{\"type\":\"surface\",\"colorbar\":{\"outlinewidth\":0,\"ticks\":\"\"},\"colorscale\":[[0.0,\"#0d0887\"],[0.1111111111111111,\"#46039f\"],[0.2222222222222222,\"#7201a8\"],[0.3333333333333333,\"#9c179e\"],[0.4444444444444444,\"#bd3786\"],[0.5555555555555556,\"#d8576b\"],[0.6666666666666666,\"#ed7953\"],[0.7777777777777778,\"#fb9f3a\"],[0.8888888888888888,\"#fdca26\"],[1.0,\"#f0f921\"]]}],\"mesh3d\":[{\"type\":\"mesh3d\",\"colorbar\":{\"outlinewidth\":0,\"ticks\":\"\"}}],\"scatter\":[{\"fillpattern\":{\"fillmode\":\"overlay\",\"size\":10,\"solidity\":0.2},\"type\":\"scatter\"}],\"parcoords\":[{\"type\":\"parcoords\",\"line\":{\"colorbar\":{\"outlinewidth\":0,\"ticks\":\"\"}}}],\"scatterpolargl\":[{\"type\":\"scatterpolargl\",\"marker\":{\"colorbar\":{\"outlinewidth\":0,\"ticks\":\"\"}}}],\"bar\":[{\"error_x\":{\"color\":\"#2a3f5f\"},\"error_y\":{\"color\":\"#2a3f5f\"},\"marker\":{\"line\":{\"color\":\"#E5ECF6\",\"width\":0.5},\"pattern\":{\"fillmode\":\"overlay\",\"size\":10,\"solidity\":0.2}},\"type\":\"bar\"}],\"scattergeo\":[{\"type\":\"scattergeo\",\"marker\":{\"colorbar\":{\"outlinewidth\":0,\"ticks\":\"\"}}}],\"scatterpolar\":[{\"type\":\"scatterpolar\",\"marker\":{\"colorbar\":{\"outlinewidth\":0,\"ticks\":\"\"}}}],\"histogram\":[{\"marker\":{\"pattern\":{\"fillmode\":\"overlay\",\"size\":10,\"solidity\":0.2}},\"type\":\"histogram\"}],\"scattergl\":[{\"type\":\"scattergl\",\"marker\":{\"colorbar\":{\"outlinewidth\":0,\"ticks\":\"\"}}}],\"scatter3d\":[{\"type\":\"scatter3d\",\"line\":{\"colorbar\":{\"outlinewidth\":0,\"ticks\":\"\"}},\"marker\":{\"colorbar\":{\"outlinewidth\":0,\"ticks\":\"\"}}}],\"scattermapbox\":[{\"type\":\"scattermapbox\",\"marker\":{\"colorbar\":{\"outlinewidth\":0,\"ticks\":\"\"}}}],\"scatterternary\":[{\"type\":\"scatterternary\",\"marker\":{\"colorbar\":{\"outlinewidth\":0,\"ticks\":\"\"}}}],\"scattercarpet\":[{\"type\":\"scattercarpet\",\"marker\":{\"colorbar\":{\"outlinewidth\":0,\"ticks\":\"\"}}}],\"carpet\":[{\"aaxis\":{\"endlinecolor\":\"#2a3f5f\",\"gridcolor\":\"white\",\"linecolor\":\"white\",\"minorgridcolor\":\"white\",\"startlinecolor\":\"#2a3f5f\"},\"baxis\":{\"endlinecolor\":\"#2a3f5f\",\"gridcolor\":\"white\",\"linecolor\":\"white\",\"minorgridcolor\":\"white\",\"startlinecolor\":\"#2a3f5f\"},\"type\":\"carpet\"}],\"table\":[{\"cells\":{\"fill\":{\"color\":\"#EBF0F8\"},\"line\":{\"color\":\"white\"}},\"header\":{\"fill\":{\"color\":\"#C8D4E3\"},\"line\":{\"color\":\"white\"}},\"type\":\"table\"}],\"barpolar\":[{\"marker\":{\"line\":{\"color\":\"#E5ECF6\",\"width\":0.5},\"pattern\":{\"fillmode\":\"overlay\",\"size\":10,\"solidity\":0.2}},\"type\":\"barpolar\"}],\"pie\":[{\"automargin\":true,\"type\":\"pie\"}]},\"layout\":{\"autotypenumbers\":\"strict\",\"colorway\":[\"#636efa\",\"#EF553B\",\"#00cc96\",\"#ab63fa\",\"#FFA15A\",\"#19d3f3\",\"#FF6692\",\"#B6E880\",\"#FF97FF\",\"#FECB52\"],\"font\":{\"color\":\"#2a3f5f\"},\"hovermode\":\"closest\",\"hoverlabel\":{\"align\":\"left\"},\"paper_bgcolor\":\"white\",\"plot_bgcolor\":\"#E5ECF6\",\"polar\":{\"bgcolor\":\"#E5ECF6\",\"angularaxis\":{\"gridcolor\":\"white\",\"linecolor\":\"white\",\"ticks\":\"\"},\"radialaxis\":{\"gridcolor\":\"white\",\"linecolor\":\"white\",\"ticks\":\"\"}},\"ternary\":{\"bgcolor\":\"#E5ECF6\",\"aaxis\":{\"gridcolor\":\"white\",\"linecolor\":\"white\",\"ticks\":\"\"},\"baxis\":{\"gridcolor\":\"white\",\"linecolor\":\"white\",\"ticks\":\"\"},\"caxis\":{\"gridcolor\":\"white\",\"linecolor\":\"white\",\"ticks\":\"\"}},\"coloraxis\":{\"colorbar\":{\"outlinewidth\":0,\"ticks\":\"\"}},\"colorscale\":{\"sequential\":[[0.0,\"#0d0887\"],[0.1111111111111111,\"#46039f\"],[0.2222222222222222,\"#7201a8\"],[0.3333333333333333,\"#9c179e\"],[0.4444444444444444,\"#bd3786\"],[0.5555555555555556,\"#d8576b\"],[0.6666666666666666,\"#ed7953\"],[0.7777777777777778,\"#fb9f3a\"],[0.8888888888888888,\"#fdca26\"],[1.0,\"#f0f921\"]],\"sequentialminus\":[[0.0,\"#0d0887\"],[0.1111111111111111,\"#46039f\"],[0.2222222222222222,\"#7201a8\"],[0.3333333333333333,\"#9c179e\"],[0.4444444444444444,\"#bd3786\"],[0.5555555555555556,\"#d8576b\"],[0.6666666666666666,\"#ed7953\"],[0.7777777777777778,\"#fb9f3a\"],[0.8888888888888888,\"#fdca26\"],[1.0,\"#f0f921\"]],\"diverging\":[[0,\"#8e0152\"],[0.1,\"#c51b7d\"],[0.2,\"#de77ae\"],[0.3,\"#f1b6da\"],[0.4,\"#fde0ef\"],[0.5,\"#f7f7f7\"],[0.6,\"#e6f5d0\"],[0.7,\"#b8e186\"],[0.8,\"#7fbc41\"],[0.9,\"#4d9221\"],[1,\"#276419\"]]},\"xaxis\":{\"gridcolor\":\"white\",\"linecolor\":\"white\",\"ticks\":\"\",\"title\":{\"standoff\":15},\"zerolinecolor\":\"white\",\"automargin\":true,\"zerolinewidth\":2},\"yaxis\":{\"gridcolor\":\"white\",\"linecolor\":\"white\",\"ticks\":\"\",\"title\":{\"standoff\":15},\"zerolinecolor\":\"white\",\"automargin\":true,\"zerolinewidth\":2},\"scene\":{\"xaxis\":{\"backgroundcolor\":\"#E5ECF6\",\"gridcolor\":\"white\",\"linecolor\":\"white\",\"showbackground\":true,\"ticks\":\"\",\"zerolinecolor\":\"white\",\"gridwidth\":2},\"yaxis\":{\"backgroundcolor\":\"#E5ECF6\",\"gridcolor\":\"white\",\"linecolor\":\"white\",\"showbackground\":true,\"ticks\":\"\",\"zerolinecolor\":\"white\",\"gridwidth\":2},\"zaxis\":{\"backgroundcolor\":\"#E5ECF6\",\"gridcolor\":\"white\",\"linecolor\":\"white\",\"showbackground\":true,\"ticks\":\"\",\"zerolinecolor\":\"white\",\"gridwidth\":2}},\"shapedefaults\":{\"line\":{\"color\":\"#2a3f5f\"}},\"annotationdefaults\":{\"arrowcolor\":\"#2a3f5f\",\"arrowhead\":0,\"arrowwidth\":1},\"geo\":{\"bgcolor\":\"white\",\"landcolor\":\"#E5ECF6\",\"subunitcolor\":\"white\",\"showland\":true,\"showlakes\":true,\"lakecolor\":\"white\"},\"title\":{\"x\":0.05},\"mapbox\":{\"style\":\"light\"}}},\"xaxis\":{\"anchor\":\"y\",\"domain\":[0.0,1.0],\"title\":{\"text\":\"x\"}},\"yaxis\":{\"anchor\":\"x\",\"domain\":[0.0,1.0],\"title\":{\"text\":\"y\"}},\"legend\":{\"tracegroupgap\":0},\"margin\":{\"t\":60}},                        {\"responsive\": true}                    ).then(function(){\n",
       "                            \n",
       "var gd = document.getElementById('2c387c40-62f5-42e1-8b0d-4a463399cf10');\n",
       "var x = new MutationObserver(function (mutations, observer) {{\n",
       "        var display = window.getComputedStyle(gd).display;\n",
       "        if (!display || display === 'none') {{\n",
       "            console.log([gd, 'removed!']);\n",
       "            Plotly.purge(gd);\n",
       "            observer.disconnect();\n",
       "        }}\n",
       "}});\n",
       "\n",
       "// Listen for the removal of the full notebook cells\n",
       "var notebookContainer = gd.closest('#notebook-container');\n",
       "if (notebookContainer) {{\n",
       "    x.observe(notebookContainer, {childList: true});\n",
       "}}\n",
       "\n",
       "// Listen for the clearing of the current output cell\n",
       "var outputEl = gd.closest('.output');\n",
       "if (outputEl) {{\n",
       "    x.observe(outputEl, {childList: true});\n",
       "}}\n",
       "\n",
       "                        })                };                });            </script>        </div>"
      ]
     },
     "metadata": {},
     "output_type": "display_data"
    }
   ],
   "source": [
    "import matplotlib.pyplot as plt\n",
    "import plotly.express as px\n",
    "\n",
    "# plt.plot([max(n_nodes_counts) - x for x in n_nodes_counts], ablated_metrics)\n",
    "# plt.plot(thresholds, ablated_metrics)\n",
    "# plt.plot(thresholds, ablated_metrics)\n",
    "# plt.plot(n_nodes_counts, ablated_metrics)\n",
    "# plt.plot(thresholds, n_nodes_counts)\n",
    "# plt.xscale(\"log\")\n",
    "# plt.plot(n_nodes_counts)\n",
    "\n",
    "fig = px.line(x=list(range(len(ablated_metrics))), y=ablated_metrics)\n",
    "fig\n",
    "# fig = px.line(x=thresholds, y=ablated_metrics)\n",
    "# fig.update_xaxes(type=\"log\", exponentformat=\"power\")\n",
    "# fig\n",
    "\n",
    "# px.line(x=n_nodes_counts, y=ablated_metrics)\n"
   ]
  },
  {
   "cell_type": "code",
   "execution_count": 27,
   "metadata": {},
   "outputs": [
    {
     "data": {
      "image/png": "[encoded data removed]",
      "text/plain": [
       "<Figure size 640x480 with 1 Axes>"
      ]
     },
     "metadata": {},
     "output_type": "display_data"
    }
   ],
   "source": [
    "import matplotlib.pyplot as plt\n",
    "import plotly.express as px\n",
    "\n",
    "# plt.plot([max(n_nodes_counts) - x for x in n_nodes_counts], ablated_metrics)\n",
    "# plt.plot(thresholds, ablated_metrics)\n",
    "plt.plot(thresholds, ablated_metrics)\n",
    "# plt.plot(n_nodes_counts, ablated_metrics)\n",
    "# plt.plot(thresholds, n_nodes_counts)\n",
    "plt.xscale(\"log\")\n",
    "# plt.plot(n_nodes_counts)\n",
    "\n",
    "\n",
    "# px.line(x=n_nodes_counts, y=ablated_metrics)"
   ]
  },
  {
   "cell_type": "code",
   "execution_count": 13,
   "metadata": {},
   "outputs": [
    {
     "data": {
      "text/html": [
       "<script> (()=>{ if (customElements.get('treescope-container') === undefined) { class TreescopeContainer extends HTMLElement { constructor() { super(); this.attachShadow({mode: \"open\"}); this.defns = {}; this.state = {}; } } customElements.define(\"treescope-container\", TreescopeContainer); } if (customElements.get('treescope-run-here') === undefined) { class RunHere extends HTMLElement { constructor() { super() } connectedCallback() { const run = child => { const fn = new Function(child.textContent); child.textContent = \"\"; fn.call(this); this.remove(); }; const child = this.querySelector(\"script\"); if (child) { run(child); } else { new MutationObserver(()=>{ run(this.querySelector(\"script\")); }).observe(this, {childList: true}); } } } customElements.define(\"treescope-run-here\", RunHere); } })(); </script> <treescope-container class=\"treescope_out_c8ed5117993c4309a142e3cc07cd2a08\" ></treescope-container> <treescope-run-here><script type=\"application/octet-stream\"> const root = ( Array.from(document.getElementsByClassName( \"treescope_out_c8ed5117993c4309a142e3cc07cd2a08\")) .filter((elt) => !elt.dataset.setup) )[0]; root.dataset.setup = 1; const msg = document.createElement(\"span\"); msg.style = \"color: #aaaaaa; font-family: monospace; transition: opacity 0.2s; opacity: 0.0;\"; msg.textContent = \"(Loading...)\"; root.state.loadingMsg = msg; root.shadowRoot.appendChild(msg); root.state.chain = new Promise((resolve, reject) => { const observer = new IntersectionObserver((entries) => { for (const entry of entries) { if (entry.isIntersecting) { resolve(); observer.disconnect(); return; } } }, {rootMargin: \"1000px\"}); window.setTimeout(() => { if (root.loadingMsg) { root.loadingMsg.style.opacity = \"1.0\"; } observer.observe(root); }, 0); }); root.state.deferring = false; const _insertNode = (node) => { for (let oldScript of node.querySelectorAll(\"script\")) { let newScript = document.createElement(\"script\"); newScript.type = oldScript.type; newScript.textContent = oldScript.textContent; oldScript.parentNode.replaceChild(newScript, oldScript); } if (root.state.loadingMsg) { root.state.loadingMsg.remove(); root.state.loadingMsg = null; } root.shadowRoot.appendChild(node); }; root.defns.insertContent = ((contentNode, compressed) => { if (compressed) { root.state.deferring = true; } if (root.state.deferring) { root.state.chain = (async () => { await root.state.chain; if (compressed) { const encoded = contentNode.textContent; const blob = new Blob([ Uint8Array.from(atob(encoded), (m) => m.codePointAt(0)) ]); const reader = blob.stream().pipeThrough( new DecompressionStream(\"deflate\") ).pipeThrough( new TextDecoderStream(\"utf-8\") ).getReader(); const parts = []; while (true) { const step = await reader.read(); if (step.done) { break; } parts.push(step.value); } const tpl = document.createElement('template'); tpl.innerHTML = parts.join(\"\"); _insertNode(tpl.content); } else { _insertNode(contentNode.content); } })(); } else { _insertNode(contentNode.content); } }); </script></treescope-run-here><div style=\"display:none\"> <script type=\"application/octet-stream\" >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</script> <treescope-run-here><script type=\"application/octet-stream\"> const root = ( Array.from(document.getElementsByClassName( \"treescope_out_c8ed5117993c4309a142e3cc07cd2a08\")) .filter((elt) => !elt.dataset['step0']) )[0]; root.dataset['step0'] = 1; root.defns.insertContent( this.parentNode.querySelector('script[type=\"application/octet-stream\"]'), true ); this.parentNode.remove(); </script></treescope-run-here> </div>"
      ],
      "text/plain": [
       "<IPython.core.display.HTML object>"
      ]
     },
     "metadata": {},
     "output_type": "display_data"
    },
    {
     "data": {
      "text/html": [
       "<treescope-run-here><script type=\"application/octet-stream\"> const root = ( Array.from(document.getElementsByClassName( \"treescope_out_c8ed5117993c4309a142e3cc07cd2a08\")) .filter((elt) => !elt.dataset.stolen) )[0]; root.dataset.stolen = 1; this.parentNode.replaceChild(root, this); </script></treescope-run-here>"
      ],
      "text/plain": [
       "[<matplotlib.lines.Line2D at 0x7fa81018e650>]"
      ]
     },
     "execution_count": 13,
     "metadata": {},
     "output_type": "execute_result"
    },
    {
     "data": {
      "image/png": "[encoded data removed]",
      "text/plain": [
       "<Figure size 640x480 with 1 Axes>"
      ]
     },
     "metadata": {},
     "output_type": "display_data"
    }
   ],
   "source": [
    "import matplotlib.pyplot as plt\n",
    "\n",
    "# plt.plot([max(n_nodes_counts) - x for x in n_nodes_counts], ablated_metrics)\n",
    "# plt.plot(thresholds, ablated_metrics)\n",
    "# plt.plot(thresholds, ablated_metrics)\n",
    "plt.plot(n_nodes_counts, ablated_metrics)\n",
    "# plt.plot(thresholds, n_nodes_counts)\n",
    "# plt.xscale(\"log\")"
   ]
  },
  {
   "cell_type": "code",
   "execution_count": 43,
   "metadata": {},
   "outputs": [
    {
     "data": {
      "text/html": [
       "<script> (()=>{ if (customElements.get('treescope-container') === undefined) { class TreescopeContainer extends HTMLElement { constructor() { super(); this.attachShadow({mode: \"open\"}); this.defns = {}; this.state = {}; } } customElements.define(\"treescope-container\", TreescopeContainer); } if (customElements.get('treescope-run-here') === undefined) { class RunHere extends HTMLElement { constructor() { super() } connectedCallback() { const run = child => { const fn = new Function(child.textContent); child.textContent = \"\"; fn.call(this); this.remove(); }; const child = this.querySelector(\"script\"); if (child) { run(child); } else { new MutationObserver(()=>{ run(this.querySelector(\"script\")); }).observe(this, {childList: true}); } } } customElements.define(\"treescope-run-here\", RunHere); } })(); </script> <treescope-container class=\"treescope_out_7348d56e9c584f669d92218983b0dc66\" ></treescope-container> <treescope-run-here><script type=\"application/octet-stream\"> const root = ( Array.from(document.getElementsByClassName( \"treescope_out_7348d56e9c584f669d92218983b0dc66\")) .filter((elt) => !elt.dataset.setup) )[0]; root.dataset.setup = 1; const msg = document.createElement(\"span\"); msg.style = \"color: #aaaaaa; font-family: monospace; transition: opacity 0.2s; opacity: 0.0;\"; msg.textContent = \"(Loading...)\"; root.state.loadingMsg = msg; root.shadowRoot.appendChild(msg); root.state.chain = new Promise((resolve, reject) => { const observer = new IntersectionObserver((entries) => { for (const entry of entries) { if (entry.isIntersecting) { resolve(); observer.disconnect(); return; } } }, {rootMargin: \"1000px\"}); window.setTimeout(() => { if (root.loadingMsg) { root.loadingMsg.style.opacity = \"1.0\"; } observer.observe(root); }, 0); }); root.state.deferring = false; const _insertNode = (node) => { for (let oldScript of node.querySelectorAll(\"script\")) { let newScript = document.createElement(\"script\"); newScript.type = oldScript.type; newScript.textContent = oldScript.textContent; oldScript.parentNode.replaceChild(newScript, oldScript); } if (root.state.loadingMsg) { root.state.loadingMsg.remove(); root.state.loadingMsg = null; } root.shadowRoot.appendChild(node); }; root.defns.insertContent = ((contentNode, compressed) => { if (compressed) { root.state.deferring = true; } if (root.state.deferring) { root.state.chain = (async () => { await root.state.chain; if (compressed) { const encoded = contentNode.textContent; const blob = new Blob([ Uint8Array.from(atob(encoded), (m) => m.codePointAt(0)) ]); const reader = blob.stream().pipeThrough( new DecompressionStream(\"deflate\") ).pipeThrough( new TextDecoderStream(\"utf-8\") ).getReader(); const parts = []; while (true) { const step = await reader.read(); if (step.done) { break; } parts.push(step.value); } const tpl = document.createElement('template'); tpl.innerHTML = parts.join(\"\"); _insertNode(tpl.content); } else { _insertNode(contentNode.content); } })(); } else { _insertNode(contentNode.content); } }); </script></treescope-run-here><div style=\"display:none\"> <script type=\"application/octet-stream\" >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</script> <treescope-run-here><script type=\"application/octet-stream\"> const root = ( Array.from(document.getElementsByClassName( \"treescope_out_7348d56e9c584f669d92218983b0dc66\")) .filter((elt) => !elt.dataset['step0']) )[0]; root.dataset['step0'] = 1; root.defns.insertContent( this.parentNode.querySelector('script[type=\"application/octet-stream\"]'), true ); this.parentNode.remove(); </script></treescope-run-here> </div>"
      ],
      "text/plain": [
       "<IPython.core.display.HTML object>"
      ]
     },
     "metadata": {},
     "output_type": "display_data"
    },
    {
     "data": {
      "text/html": [
       "<treescope-run-here><script type=\"application/octet-stream\"> const root = ( Array.from(document.getElementsByClassName( \"treescope_out_7348d56e9c584f669d92218983b0dc66\")) .filter((elt) => !elt.dataset.stolen) )[0]; root.dataset.stolen = 1; this.parentNode.replaceChild(root, this); </script></treescope-run-here>"
      ],
      "text/plain": [
       "[<matplotlib.lines.Line2D at 0x7f45c4d70eb0>]"
      ]
     },
     "execution_count": 43,
     "metadata": {},
     "output_type": "execute_result"
    },
    {
     "data": {
      "image/png": "[encoded data removed]",
      "text/plain": [
       "<Figure size 640x480 with 1 Axes>"
      ]
     },
     "metadata": {},
     "output_type": "display_data"
    }
   ],
   "source": [
    "import matplotlib.pyplot as plt\n",
    "\n",
    "# plt.plot([max(n_nodes_counts) - x for x in n_nodes_counts], ablated_metrics)\n",
    "# plt.plot(thresholds, ablated_metrics)\n",
    "# plt.plot(thresholds, ablated_metrics)\n",
    "plt.plot(n_nodes_counts, ablated_metrics)\n",
    "# plt.plot(thresholds, n_nodes_counts)\n",
    "# plt.xscale(\"log\")"
   ]
  },
  {
   "cell_type": "code",
   "execution_count": 18,
   "metadata": {},
   "outputs": [
    {
     "data": {
      "text/html": [
       "<script> (()=>{ if (customElements.get('treescope-container') === undefined) { class TreescopeContainer extends HTMLElement { constructor() { super(); this.attachShadow({mode: \"open\"}); this.defns = {}; this.state = {}; } } customElements.define(\"treescope-container\", TreescopeContainer); } if (customElements.get('treescope-run-here') === undefined) { class RunHere extends HTMLElement { constructor() { super() } connectedCallback() { const run = child => { const fn = new Function(child.textContent); child.textContent = \"\"; fn.call(this); this.remove(); }; const child = this.querySelector(\"script\"); if (child) { run(child); } else { new MutationObserver(()=>{ run(this.querySelector(\"script\")); }).observe(this, {childList: true}); } } } customElements.define(\"treescope-run-here\", RunHere); } })(); </script> <treescope-container class=\"treescope_out_fd9201e1407447b3a62f6135526c261f\" ></treescope-container> <treescope-run-here><script type=\"application/octet-stream\"> const root = ( Array.from(document.getElementsByClassName( \"treescope_out_fd9201e1407447b3a62f6135526c261f\")) .filter((elt) => !elt.dataset.setup) )[0]; root.dataset.setup = 1; const msg = document.createElement(\"span\"); msg.style = \"color: #aaaaaa; font-family: monospace; transition: opacity 0.2s; opacity: 0.0;\"; msg.textContent = \"(Loading...)\"; root.state.loadingMsg = msg; root.shadowRoot.appendChild(msg); root.state.chain = new Promise((resolve, reject) => { const observer = new IntersectionObserver((entries) => { for (const entry of entries) { if (entry.isIntersecting) { resolve(); observer.disconnect(); return; } } }, {rootMargin: \"1000px\"}); window.setTimeout(() => { if (root.loadingMsg) { root.loadingMsg.style.opacity = \"1.0\"; } observer.observe(root); }, 0); }); root.state.deferring = false; const _insertNode = (node) => { for (let oldScript of node.querySelectorAll(\"script\")) { let newScript = document.createElement(\"script\"); newScript.type = oldScript.type; newScript.textContent = oldScript.textContent; oldScript.parentNode.replaceChild(newScript, oldScript); } if (root.state.loadingMsg) { root.state.loadingMsg.remove(); root.state.loadingMsg = null; } root.shadowRoot.appendChild(node); }; root.defns.insertContent = ((contentNode, compressed) => { if (compressed) { root.state.deferring = true; } if (root.state.deferring) { root.state.chain = (async () => { await root.state.chain; if (compressed) { const encoded = contentNode.textContent; const blob = new Blob([ Uint8Array.from(atob(encoded), (m) => m.codePointAt(0)) ]); const reader = blob.stream().pipeThrough( new DecompressionStream(\"deflate\") ).pipeThrough( new TextDecoderStream(\"utf-8\") ).getReader(); const parts = []; while (true) { const step = await reader.read(); if (step.done) { break; } parts.push(step.value); } const tpl = document.createElement('template'); tpl.innerHTML = parts.join(\"\"); _insertNode(tpl.content); } else { _insertNode(contentNode.content); } })(); } else { _insertNode(contentNode.content); } }); </script></treescope-run-here><div style=\"display:none\"> <script type=\"application/octet-stream\" >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</script> <treescope-run-here><script type=\"application/octet-stream\"> const root = ( Array.from(document.getElementsByClassName( \"treescope_out_fd9201e1407447b3a62f6135526c261f\")) .filter((elt) => !elt.dataset['step0']) )[0]; root.dataset['step0'] = 1; root.defns.insertContent( this.parentNode.querySelector('script[type=\"application/octet-stream\"]'), true ); this.parentNode.remove(); </script></treescope-run-here> </div>"
      ],
      "text/plain": [
       "<IPython.core.display.HTML object>"
      ]
     },
     "metadata": {},
     "output_type": "display_data"
    },
    {
     "data": {
      "text/html": [
       "<treescope-run-here><script type=\"application/octet-stream\"> const root = ( Array.from(document.getElementsByClassName( \"treescope_out_fd9201e1407447b3a62f6135526c261f\")) .filter((elt) => !elt.dataset.stolen) )[0]; root.dataset.stolen = 1; this.parentNode.replaceChild(root, this); </script></treescope-run-here>"
      ],
      "text/plain": [
       "[<matplotlib.lines.Line2D at 0x7f8c737d7d00>]"
      ]
     },
     "execution_count": 18,
     "metadata": {},
     "output_type": "execute_result"
    },
    {
     "data": {
      "image/png": "[encoded data removed]",
      "text/plain": [
       "<Figure size 640x480 with 1 Axes>"
      ]
     },
     "metadata": {},
     "output_type": "display_data"
    }
   ],
   "source": [
    "import matplotlib.pyplot as plt\n",
    "\n",
    "# plt.plot([max(n_nodes_counts) - x for x in n_nodes_counts], ablated_metrics)\n",
    "# plt.plot(thresholds, ablated_metrics)\n",
    "plt.plot(n_nodes_counts, ablated_metrics)\n",
    "# plt.plot(n_nodes_counts, ablated_metrics)\n",
    "# plt.xscale(\"log\")"
   ]
  },
  {
   "cell_type": "code",
   "execution_count": 23,
   "metadata": {},
   "outputs": [
    {
     "data": {
      "image/png": "[encoded data removed]",
      "text/plain": [
       "<Figure size 640x480 with 1 Axes>"
      ]
     },
     "metadata": {},
     "output_type": "display_data"
    }
   ],
   "source": [
    "import matplotlib.pyplot as plt\n",
    "\n",
    "# plt.plot([max(n_nodes_counts) - x for x in n_nodes_counts], ablated_metrics)\n",
    "plt.plot(thresholds, ablated_metrics)\n",
    "# plt.plot(n_nodes_counts, ablated_metrics)\n",
    "# plt.plot(n_nodes_counts, ablated_metrics)\n",
    "plt.xscale(\"log\")"
   ]
  },
  {
   "cell_type": "code",
   "execution_count": 23,
   "metadata": {},
   "outputs": [
    {
     "data": {
      "text/html": [
       "<script> (()=>{ if (customElements.get('treescope-container') === undefined) { class TreescopeContainer extends HTMLElement { constructor() { super(); this.attachShadow({mode: \"open\"}); this.defns = {}; this.state = {}; } } customElements.define(\"treescope-container\", TreescopeContainer); } if (customElements.get('treescope-run-here') === undefined) { class RunHere extends HTMLElement { constructor() { super() } connectedCallback() { const run = child => { const fn = new Function(child.textContent); child.textContent = \"\"; fn.call(this); this.remove(); }; const child = this.querySelector(\"script\"); if (child) { run(child); } else { new MutationObserver(()=>{ run(this.querySelector(\"script\")); }).observe(this, {childList: true}); } } } customElements.define(\"treescope-run-here\", RunHere); } })(); </script> <treescope-container class=\"treescope_out_1a6424f4763144d3a595dd3b19a0d26c\" ></treescope-container> <treescope-run-here><script type=\"application/octet-stream\"> const root = ( Array.from(document.getElementsByClassName( \"treescope_out_1a6424f4763144d3a595dd3b19a0d26c\")) .filter((elt) => !elt.dataset.setup) )[0]; root.dataset.setup = 1; const msg = document.createElement(\"span\"); msg.style = \"color: #aaaaaa; font-family: monospace; transition: opacity 0.2s; opacity: 0.0;\"; msg.textContent = \"(Loading...)\"; root.state.loadingMsg = msg; root.shadowRoot.appendChild(msg); root.state.chain = new Promise((resolve, reject) => { const observer = new IntersectionObserver((entries) => { for (const entry of entries) { if (entry.isIntersecting) { resolve(); observer.disconnect(); return; } } }, {rootMargin: \"1000px\"}); window.setTimeout(() => { if (root.loadingMsg) { root.loadingMsg.style.opacity = \"1.0\"; } observer.observe(root); }, 0); }); root.state.deferring = false; const _insertNode = (node) => { for (let oldScript of node.querySelectorAll(\"script\")) { let newScript = document.createElement(\"script\"); newScript.type = oldScript.type; newScript.textContent = oldScript.textContent; oldScript.parentNode.replaceChild(newScript, oldScript); } if (root.state.loadingMsg) { root.state.loadingMsg.remove(); root.state.loadingMsg = null; } root.shadowRoot.appendChild(node); }; root.defns.insertContent = ((contentNode, compressed) => { if (compressed) { root.state.deferring = true; } if (root.state.deferring) { root.state.chain = (async () => { await root.state.chain; if (compressed) { const encoded = contentNode.textContent; const blob = new Blob([ Uint8Array.from(atob(encoded), (m) => m.codePointAt(0)) ]); const reader = blob.stream().pipeThrough( new DecompressionStream(\"deflate\") ).pipeThrough( new TextDecoderStream(\"utf-8\") ).getReader(); const parts = []; while (true) { const step = await reader.read(); if (step.done) { break; } parts.push(step.value); } const tpl = document.createElement('template'); tpl.innerHTML = parts.join(\"\"); _insertNode(tpl.content); } else { _insertNode(contentNode.content); } })(); } else { _insertNode(contentNode.content); } }); </script></treescope-run-here><div style=\"display:none\"> <script type=\"application/octet-stream\" >eNrFVkuPo0YQ/istIu3AamFmHD8ibCPNJcohyiE55LCJrAYK6LjdTbrLnvFG899T3WB7bONRpKwSczBUV9X31RMWFvcSsgQNgC10CyujNbK/WKutQKFVygxIjmIHc1ZphXHFN0LuU7bRStuWFyR/bgRC7B9S1hqSSGEx9q5j3LckVVqROOfFujZ6q8q40FKbtDOds/4pl6RA/kSJTcoqgaSmEBTOWcvLUqg6llBhykZF40AUxA2IuiHJYzJxbhRyQZyPZv1NvBNW5EIKJOZ8i/qoGwuFRigritiKL9Cd9nRfF/ddehbH9MRmqwjTkMwWRrTIXHzLO962UhTcZexeFwguegN8c5eFYbTMKKGEZ5GVUCnLlgwbYZMa8GfK9k+6hDBKGm0x8ecUGiBbtaBcyE+F8+qMPv8+dPIDV6UEOlZbKecdQkI0f9FakTR81mYdsbcc9K8kckdnYhSFE7ZgKm02XBWQKP0cRr6+BBBenbC4M1qwb0cR+REVCy9YJxJUjQ1bLtmDU3mXugHcGkV5ZyAtnIg1W+WYXbq2jajQ8fMK7uaVrhsIIXWVKvVzYuDPLVh8UmLjy/W94RsIu5xEzsf8Cqjd2qZL43wgxgPEsgvjnSj/OQfHoisk6rqW3VSu/ORQt7bOl5OAxE8MdtTgfSUdO/+crGHvkh6YwBHqlZNCcmt/pOHs/YbB0edqQ20YHMBfI8ontb/v8WxxPzQApdgx73AZnK+PgCHPKVJ4WQYPAdOKyFDYivTea/vhWENnc4gyoLHrFhZZgDFQrlraGdBoWYLxHeMXyTd85q5+ZXmTlAnkNKMUW1KROs8JShGHG8vulZ2rrTp2pF0KS6D7w1K7VGQZkzwHmaY50LzAG1aF/80H8brFFj+6zdYvwIf5CUsov+5yqd2GvInZ6B2Ya+SSm7UFXlOZ1LV1qjSGF6KG2zDzPrPBPHibtGigWEMZRexjdOLgTIeNDvpnDP2GTtndb6NJXtz9n/TOjW6SnP4HJF0dHfDWWFfAVtN7CswArrBfD9aPggeK/bzZWz3+dVBP4SG84DVKIuyqEsbiSquVa/+B0XpvlJLRxE3TYKnYv6bfVfySootqw01NXxYdDT/Qpy8J+kpSTJTL4LjA8mJUPU7G1bicwng8K/lkWkzL0Xfj0WxWzibToDfqV+353F/Ck3IXxEKodtt/nQSedq5fgkEnfYR02EVH694b03/v6y3+0OINsg8S53/wl+TJGL5nudYyfBzNPkUsSRL2oUb3LiEn2eUfvUOyvwGYn7ai</script> <treescope-run-here><script type=\"application/octet-stream\"> const root = ( Array.from(document.getElementsByClassName( \"treescope_out_1a6424f4763144d3a595dd3b19a0d26c\")) .filter((elt) => !elt.dataset['step0']) )[0]; root.dataset['step0'] = 1; root.defns.insertContent( this.parentNode.querySelector('script[type=\"application/octet-stream\"]'), true ); this.parentNode.remove(); </script></treescope-run-here> </div>"
      ],
      "text/plain": [
       "<IPython.core.display.HTML object>"
      ]
     },
     "metadata": {},
     "output_type": "display_data"
    },
    {
     "data": {
      "text/html": [
       "<div style=\"display:none\"> <script type=\"application/octet-stream\" >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</script> <treescope-run-here><script type=\"application/octet-stream\"> const root = ( Array.from(document.getElementsByClassName( \"treescope_out_1a6424f4763144d3a595dd3b19a0d26c\")) .filter((elt) => !elt.dataset['step1']) )[0]; root.dataset['step1'] = 1; root.defns.insertContent( this.parentNode.querySelector('script[type=\"application/octet-stream\"]'), true ); this.parentNode.remove(); </script></treescope-run-here> </div>"
      ],
      "text/plain": [
       "<IPython.core.display.HTML object>"
      ]
     },
     "metadata": {},
     "output_type": "display_data"
    },
    {
     "data": {
      "text/html": [
       "<treescope-run-here><script type=\"application/octet-stream\"> const root = ( Array.from(document.getElementsByClassName( \"treescope_out_1a6424f4763144d3a595dd3b19a0d26c\")) .filter((elt) => !elt.dataset.stolen) )[0]; root.dataset.stolen = 1; this.parentNode.replaceChild(root, this); </script></treescope-run-here>"
      ],
      "text/plain": [
       "# jax.Array bool(127,) true:59 false:68\n",
       "  Array([False, False, False, False, False, False, False, False, False,\n",
       "         False, False, False, False, False, False, False, False, False,\n",
       "         False, False, False, False, False, False, False, False, False,\n",
       "         False, False, False, False, False, False, False, False, False,\n",
       "         False, False, False, False, False, False, False, False, False,\n",
       "         False, False, False, False, False, False, False, False, False,\n",
       "         False, False, False, False, False, False, False, False, False,\n",
       "         False, False, False, False, False,  True,  True,  True,  True,\n",
       "          True,  True,  True,  True,  True,  True,  True,  True,  True,\n",
       "          True,  True,  True,  True,  True,  True,  True,  True,  True,\n",
       "          True,  True,  True,  True,  True,  True,  True,  True,  True,\n",
       "          True,  True,  True,  True,  True,  True,  True,  True,  True,\n",
       "          True,  True,  True,  True,  True,  True,  True,  True,  True,\n",
       "          True,  True,  True,  True,  True,  True,  True,  True,  True,\n",
       "          True], dtype=bool)\n"
      ]
     },
     "execution_count": 23,
     "metadata": {},
     "output_type": "execute_result"
    }
   ],
   "source": [
    "mask[0]"
   ]
  },
  {
   "cell_type": "code",
   "execution_count": 17,
   "metadata": {},
   "outputs": [
    {
     "data": {
      "text/html": [
       "<script> (()=>{ if (customElements.get('treescope-container') === undefined) { class TreescopeContainer extends HTMLElement { constructor() { super(); this.attachShadow({mode: \"open\"}); this.defns = {}; this.state = {}; } } customElements.define(\"treescope-container\", TreescopeContainer); } if (customElements.get('treescope-run-here') === undefined) { class RunHere extends HTMLElement { constructor() { super() } connectedCallback() { const run = child => { const fn = new Function(child.textContent); child.textContent = \"\"; fn.call(this); this.remove(); }; const child = this.querySelector(\"script\"); if (child) { run(child); } else { new MutationObserver(()=>{ run(this.querySelector(\"script\")); }).observe(this, {childList: true}); } } } customElements.define(\"treescope-run-here\", RunHere); } })(); </script> <treescope-container class=\"treescope_out_9328b1451a5f4cce8a0f2ef851929169\" ></treescope-container> <treescope-run-here><script type=\"application/octet-stream\"> const root = ( Array.from(document.getElementsByClassName( \"treescope_out_9328b1451a5f4cce8a0f2ef851929169\")) .filter((elt) => !elt.dataset.setup) )[0]; root.dataset.setup = 1; const msg = document.createElement(\"span\"); msg.style = \"color: #aaaaaa; font-family: monospace; transition: opacity 0.2s; opacity: 0.0;\"; msg.textContent = \"(Loading...)\"; root.state.loadingMsg = msg; root.shadowRoot.appendChild(msg); root.state.chain = new Promise((resolve, reject) => { const observer = new IntersectionObserver((entries) => { for (const entry of entries) { if (entry.isIntersecting) { resolve(); observer.disconnect(); return; } } }, {rootMargin: \"1000px\"}); window.setTimeout(() => { if (root.loadingMsg) { root.loadingMsg.style.opacity = \"1.0\"; } observer.observe(root); }, 0); }); root.state.deferring = false; const _insertNode = (node) => { for (let oldScript of node.querySelectorAll(\"script\")) { let newScript = document.createElement(\"script\"); newScript.type = oldScript.type; newScript.textContent = oldScript.textContent; oldScript.parentNode.replaceChild(newScript, oldScript); } if (root.state.loadingMsg) { root.state.loadingMsg.remove(); root.state.loadingMsg = null; } root.shadowRoot.appendChild(node); }; root.defns.insertContent = ((contentNode, compressed) => { if (compressed) { root.state.deferring = true; } if (root.state.deferring) { root.state.chain = (async () => { await root.state.chain; if (compressed) { const encoded = contentNode.textContent; const blob = new Blob([ Uint8Array.from(atob(encoded), (m) => m.codePointAt(0)) ]); const reader = blob.stream().pipeThrough( new DecompressionStream(\"deflate\") ).pipeThrough( new TextDecoderStream(\"utf-8\") ).getReader(); const parts = []; while (true) { const step = await reader.read(); if (step.done) { break; } parts.push(step.value); } const tpl = document.createElement('template'); tpl.innerHTML = parts.join(\"\"); _insertNode(tpl.content); } else { _insertNode(contentNode.content); } })(); } else { _insertNode(contentNode.content); } }); </script></treescope-run-here><div style=\"display:none\"> <script type=\"application/octet-stream\" >eNrNWPtX4rge/1cy3R+EdaiAgorKuQV5OYOO4oyOu3vc0KZtpE1qmlLxHv/3+00KCIjOzl3vA87hkX7f+T4+yWEsJwGpm1IQEts8IreCc4n+iSIeU0k5qyFBAizpmBwglzNZcHFIg0kNhZzxOMI2rKc+laSg/9RQJGAloLEsaNEFOYlglXEGy0NsjzzBE+YUbB5wUctYD9D03zAAApBHHenXkEslkDFJmDxAEXYcyrxCQFxZQ2XbV0oYKfiEej6slMyKEsMkpmDznG36ozCmMR3SgEqwHCeSz2kLlElBWUztQkwfSfZ0au7T4VYWnsN5eAoiYaBTwFpsCxpJpPw72sBRFFAbq4htcVsS5b0gONyo53L5ozoEFPTFEjnEZTE6QtKnsekReQHRPuUOyeVNn8fS1M/BNSLRbUSYctmylVTF9Nsf6550MXMCAo9ZEgQHmQYTzBxwzmA1l3IxyqNFG/gVLKlHS8uS2moxIsLlIsTMJibjaS6v9xcU5F48QYWM6RBtl/Mgh7oot2K1GRDmSR8dHaGiInnTdEFkIhjEHZEgJs+G+QlTlq2Kjn3qSmWfJlA/nuD9ioYcZBVzeGoKcp+QWFqMhnq72gKHJJfFJK9kHLxQFCWxn4XxYI2PMxVHmRtvePnXbVBWZBspuecFWVXe6sqBbI2ULLVCAvkRkTEk+HQnlXX6vzkiExV0QxjKoCmxaQc4jj9DcU7l5oy5zNsQ0tCYKX/KQzwh/XWO1w+31hWAQ8dICzwyltuHgSQegqfk4cgoGogzMAbcZkD3Vtqv9zWneGZeGlB2WcPSHeOWJeGQCJ0puoH8UtzfK1WqYL/p8sDBQxDHQM8rDe0JLZPdZhYAtUPjKMCTWeNaJUR1FOAhCWq1IYGaIAsW2Pp1sFZf1rwKJdW9pk2uePCsizLd0oYBV13wVZ0+HxPxUrODxSgm2IOtYC+5a4zL3MqSj+NcXcusr42D5qnZPrFHxMnn0a/5ZxsU63qmGf2ShboL19DG7+XK0N74X5q3zPSqkdX/gpFqH5XiRMRqAyMOs4iINXpp/H5qdSloRQVdU/FrOf4+Wp/dk+RBvtRi0vjWpSKWt5zdqvRfU1pvlZJZrqhqWrtV6G+bn+34qonKqxALD9BDZoYu6Ke/qQ1aWjQZJlLC2F7XgJ4fr0taAxkrVBBIgGTriX8npR3HWEF0G30MWUFxgAaTcMiDGJ0lUvnroGbGCd/RBAqjkJLhCNCZZo9D6Nc+TDvATkwCO8UxceaY7hdSVO+Dl2mecWvQVTT3SbjqZVYfa7xY3+6eOc0Ux7c24DEI7Jwfu3JpUsz69Fs6V3iWVS6GHo2xyBUKDpa4gBlsrB7r+cVlpURhFYHZLJu1WFSKEYGIARAt8ET+nCtzC2BjKHE+LFuiVaIPNIy4kJi9kD0UfETYrVp5bkY/ju4C20I8Z9v8ZKrJD4Y5tzbgRkcQNjV1GZmDzGXCd+quC6UzHaRLpWrjwM7B8QGwayl60HDHjCVW/HN7/2OWDLlwoO9mljhcgu/KisXgpb4ObRDgCKrox0jk59vM6xoy/KF1aCLyAOnmvErzHnasU/GOhy+Fh9EHSwg8MV3BQ8DYdhIqfKyaT2yOcQBAPJfPmzEHBK5bkkLS6tvM+qJC0X+xMxobKI/y83NL7BM4rMGpgKSoORgMlDcDtaaOKvohHATAZZsMJszO/fmPaTe2VZf7Nztz1lOVJhVHOKwF07V0ek7eKUKaxcKuoUQEOdUmaur5Vspdt3wwhEZU3fnoFPc7fc9qWPrVO7csrn81LlL47LYtq2W99WqEluWN+Cen12o00++Wdfm9eWL1e42m1fYeet3PvowbfUq87fbxdflzr/p9PIgS+qVfuSydXPcuvvXHV/1H+WXSbjc3r7zRJW0cF316fJ6ctJzOXbE73HLHPSe6/1T1768oPU/6rON33a/S+lptnIodq91jo1bV/pokbPOicm/Ho3TstoOt+wevxfe84Una2St1rS1mXVQ+C3FSutj0HosXTtE6cUve6W4z7dyVvSKfJBe7u2GrVE271/tnnheRy9Fkh/SGjxV7KM46Elveee80PcbxJD5Per3rq1Y7tb6cR73vztetrU1v93L3elsW3U9f7q1xBWR+tk53rX5qhd7jxWAzuRmQ1vVD2a3aj6c7F91JJWlYnx4bd1E72qbd82areJN82RnsMrfxudVt90OLbu6NW2WflfzdzeG39Pou7Yrxcedrk925rZYnN8/smyDYrew3T9LGnr+/0+93BtudG8sLe5W7xvm+vOyQ7n6r0eh1to+9nYut7/ZkaHVgT7992rLOO9gi/WZgdR9bZ96N9KqNL97ZWe+4MaLnFdJuXDcbbZsWI1/wiEFuRDet49JjaTRwm670J59Y18HtuOsWT8NO67TacKz7b98iLOPBTeg4mO6X3cf9na/07r4ahaJ6xr83B1R0wvFJZ3twNdhut8p249y93OwGPOrstOO0gr376h69IYPTILpijW6POH1Bkqv7TjMsXbXFaDB4qJSrV1dxaoFFeaQvKmRuQ6f1hmrzf8LHvPqxwyNovs8lqa9XTNN8g+JjVrN/gKy3j7G+Pu/r+ZiNbpAN6cFslMsm6PJtDJTgJVflC2TTCavWYmgPSoSCDGrO4hRTiRgeUw9LLuAoT6Mhx8IxU0EluQR0nXuWBc5OZT0f+bHj5IwFPKEO+6DlkoYEgEdudhv0gk+QEMDBC9anj6hcLBb1CIXmCyM1p5Hxer0LoMF4Nk6dCWYdTN2PGOgX1MY0gMYmOVLEH3RngxnOEhxAN6YQM4IdhXk2F2M3vbj4wZWFwk+zO4vlw/Uqxjfqh9kwO6QsSqaTxtDja8gfjLVCppMOWLc007I+HyQIED26lQBIiDS0+YURmUBt+EeGUc+B9cAA7FPVi+wvUJXx1nPj53T/VvxjhWPxfsWoF0q75t5uZW6f/vq4xLAMK4w6mhG/IJrN/GWNG88IcwNx1lSJdrTxk5WmL4vyG2gOf4+MXIDDoYP1FVhNf4KzeQPpIXlkLEBlmLPridWJZxXbA7HOOxU/+D31pb4coZWv99uu0o+2q1iqmsU31K9sxMf/380q/cxmld5vs7Kv/PyvQ8f1fwFcRc/7</script> <treescope-run-here><script type=\"application/octet-stream\"> const root = ( Array.from(document.getElementsByClassName( \"treescope_out_9328b1451a5f4cce8a0f2ef851929169\")) .filter((elt) => !elt.dataset['step0']) )[0]; root.dataset['step0'] = 1; root.defns.insertContent( this.parentNode.querySelector('script[type=\"application/octet-stream\"]'), true ); this.parentNode.remove(); </script></treescope-run-here> </div>"
      ],
      "text/plain": [
       "<IPython.core.display.HTML object>"
      ]
     },
     "metadata": {},
     "output_type": "display_data"
    },
    {
     "data": {
      "text/html": [
       "<treescope-run-here><script type=\"application/octet-stream\"> const root = ( Array.from(document.getElementsByClassName( \"treescope_out_9328b1451a5f4cce8a0f2ef851929169\")) .filter((elt) => !elt.dataset.stolen) )[0]; root.dataset.stolen = 1; this.parentNode.replaceChild(root, this); </script></treescope-run-here>"
      ],
      "text/plain": [
       "(-17.875, -1016.0)"
      ]
     },
     "execution_count": 17,
     "metadata": {},
     "output_type": "execute_result"
    }
   ],
   "source": [
    "max(ablated_metrics), min(ablated_metrics)"
   ]
  },
  {
   "cell_type": "code",
   "execution_count": 33,
   "metadata": {},
   "outputs": [
    {
     "data": {
      "text/html": [
       "<script> (()=>{ if (customElements.get('treescope-container') === undefined) { class TreescopeContainer extends HTMLElement { constructor() { super(); this.attachShadow({mode: \"open\"}); this.defns = {}; this.state = {}; } } customElements.define(\"treescope-container\", TreescopeContainer); } if (customElements.get('treescope-run-here') === undefined) { class RunHere extends HTMLElement { constructor() { super() } connectedCallback() { const run = child => { const fn = new Function(child.textContent); child.textContent = \"\"; fn.call(this); this.remove(); }; const child = this.querySelector(\"script\"); if (child) { run(child); } else { new MutationObserver(()=>{ run(this.querySelector(\"script\")); }).observe(this, {childList: true}); } } } customElements.define(\"treescope-run-here\", RunHere); } })(); </script> <treescope-container class=\"treescope_out_9879b4fdd6fd42309e0889aa80025db5\" ></treescope-container> <treescope-run-here><script type=\"application/octet-stream\"> const root = ( Array.from(document.getElementsByClassName( \"treescope_out_9879b4fdd6fd42309e0889aa80025db5\")) .filter((elt) => !elt.dataset.setup) )[0]; root.dataset.setup = 1; const msg = document.createElement(\"span\"); msg.style = \"color: #aaaaaa; font-family: monospace; transition: opacity 0.2s; opacity: 0.0;\"; msg.textContent = \"(Loading...)\"; root.state.loadingMsg = msg; root.shadowRoot.appendChild(msg); root.state.chain = new Promise((resolve, reject) => { const observer = new IntersectionObserver((entries) => { for (const entry of entries) { if (entry.isIntersecting) { resolve(); observer.disconnect(); return; } } }, {rootMargin: \"1000px\"}); window.setTimeout(() => { if (root.loadingMsg) { root.loadingMsg.style.opacity = \"1.0\"; } observer.observe(root); }, 0); }); root.state.deferring = false; const _insertNode = (node) => { for (let oldScript of node.querySelectorAll(\"script\")) { let newScript = document.createElement(\"script\"); newScript.type = oldScript.type; newScript.textContent = oldScript.textContent; oldScript.parentNode.replaceChild(newScript, oldScript); } if (root.state.loadingMsg) { root.state.loadingMsg.remove(); root.state.loadingMsg = null; } root.shadowRoot.appendChild(node); }; root.defns.insertContent = ((contentNode, compressed) => { if (compressed) { root.state.deferring = true; } if (root.state.deferring) { root.state.chain = (async () => { await root.state.chain; if (compressed) { const encoded = contentNode.textContent; const blob = new Blob([ Uint8Array.from(atob(encoded), (m) => m.codePointAt(0)) ]); const reader = blob.stream().pipeThrough( new DecompressionStream(\"deflate\") ).pipeThrough( new TextDecoderStream(\"utf-8\") ).getReader(); const parts = []; while (true) { const step = await reader.read(); if (step.done) { break; } parts.push(step.value); } const tpl = document.createElement('template'); tpl.innerHTML = parts.join(\"\"); _insertNode(tpl.content); } else { _insertNode(contentNode.content); } })(); } else { _insertNode(contentNode.content); } }); </script></treescope-run-here><div style=\"display:none\"> <script type=\"application/octet-stream\" >eNrFVk1v4zYQ/SuECmykolISZ+1sZVtALkUPRQ/toYe2MChpJLGmSZUcOfEW+e8dUrId23JQoIvWPtgazsx78ykuLO4kZAkaAFvoFlZGa2R/sVZbgUKrlBmQHMUW5qzSCuOKb4TcpWyjlbYtL0j+3AiE2D+krDUkkcJi7F3HuGtJqrQicc6LdW10p8q40FKbtDeds+Epl6RA/kSJTcoqgaSmEBTOWcvLUqg6llBhyiZF40AUxA2IuiHJfTJ1bhRyQZwPZsOfeCusyIUUSMx5h/qgGwuFRigritiKz9CfDnRfF7d9ehaH9MSmU4RpSGYLI1pkLr7lDW9bKQruMnarCwQXvQG+ucnCMFpmlFDCs8hKqJRlS4aNsEkN+BNl+0ddQhgljbaY+HMKDZCtWlAu5KfCeXVGv/4+dvI9V6UEOladlPMeISGaP2utSBo+a7OO2FsO+hcSuaMTMYrCCVswlTYbrgpIlH4OI19fAggvTljcGy3YwyQiP6Ji4RnrRIKqsWHLJbtzKu9SN4CdUZR3BtLCkVjTKcfs3LVtRIWOn1dwf17pewUhpK5SpX5ODPzZgcUnJTa+XN8ZvoGwz0nkfMwvgNrONn0a5yMx7iGWfRjvRPnPOTgWfSFR17Xsp3LlJ4e6tXW+nAQkfsNgSw0+VNKx88/JGnYu6YEJHKFBOSkkt/YHGs7BbxgcfK421IbBHvw1onxS+/sezxa3YwNQii3zDpfB6foIGPKcIoWXZXAXMK2IDIWtSO+9th+PNXQ2+ygDGrt+YZEFGAPlqqWdAY2WJRjfMX6RfMUf3XdYWd4kZQI5zSjFllSkznOCUsThyrJ7Zadqq54daZfCEuhuv9TOFVnGJM9BpmkONC/whlXhP/NRvH6xxfdusw0L8G5+xBLKr7tcarchr2I2egvmErnkZm2B11QmdWmdKo3hmajhNsy8z2w0D94mLRoo1lBGEfs6OnJwpuNGe/0Thn5Dp+zmt8k0L27+T3qnRldJzv4Dkq6ODrgz1hWw1fSeAjOCK+yXg/Wj4IFiP2/2Wo9/GdRjeAgveImSCLuqhLG40mrl2n9ktN4bpWQyddM0Wir2r+n3FT+n6KLacFPTzaKn4Qf6eJOgW5JiolwGhwVW8lk5yXP+6eP948fZI3xblcUdTGflp2I6fZg8BIPRsGpP5/4cnpT7IBZCtd1wOwk87Vy/BKNOhgjpsI+O1r03pt/B11v8scUbZB8kzv/gL8mTMXzH8kpqjvczuiIkScI+1OjeJeQkO/+hd0j2N/ySt2Y=</script> <treescope-run-here><script type=\"application/octet-stream\"> const root = ( Array.from(document.getElementsByClassName( \"treescope_out_9879b4fdd6fd42309e0889aa80025db5\")) .filter((elt) => !elt.dataset['step0']) )[0]; root.dataset['step0'] = 1; root.defns.insertContent( this.parentNode.querySelector('script[type=\"application/octet-stream\"]'), true ); this.parentNode.remove(); </script></treescope-run-here> </div>"
      ],
      "text/plain": [
       "<IPython.core.display.HTML object>"
      ]
     },
     "metadata": {},
     "output_type": "display_data"
    },
    {
     "data": {
      "text/html": [
       "<div style=\"display:none\"> <script type=\"application/octet-stream\" >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</script> <treescope-run-here><script type=\"application/octet-stream\"> const root = ( Array.from(document.getElementsByClassName( \"treescope_out_9879b4fdd6fd42309e0889aa80025db5\")) .filter((elt) => !elt.dataset['step1']) )[0]; root.dataset['step1'] = 1; root.defns.insertContent( this.parentNode.querySelector('script[type=\"application/octet-stream\"]'), true ); this.parentNode.remove(); </script></treescope-run-here> </div>"
      ],
      "text/plain": [
       "<IPython.core.display.HTML object>"
      ]
     },
     "metadata": {},
     "output_type": "display_data"
    },
    {
     "data": {
      "text/html": [
       "<treescope-run-here><script type=\"application/octet-stream\"> const root = ( Array.from(document.getElementsByClassName( \"treescope_out_9879b4fdd6fd42309e0889aa80025db5\")) .filter((elt) => !elt.dataset.stolen) )[0]; root.dataset.stolen = 1; this.parentNode.replaceChild(root, this); </script></treescope-run-here>"
      ],
      "text/plain": [
       "<jax.Array(-20, dtype=bfloat16)>"
      ]
     },
     "execution_count": 33,
     "metadata": {},
     "output_type": "execute_result"
    }
   ],
   "source": [
    "circuitizer.ablated_metric(llama)"
   ]
  },
  {
   "cell_type": "code",
   "execution_count": null,
   "metadata": {},
   "outputs": [
    {
     "data": {
      "application/vnd.jupyter.widget-view+json": {
       "model_id": "0071aa914c3f45b2bc8eebc1424430a3",
       "version_major": 2,
       "version_minor": 0
      },
      "text/plain": [
       "  0%|          | 0/11 [00:00<?, ?it/s]"
      ]
     },
     "metadata": {},
     "output_type": "display_data"
    },
    {
     "data": {
      "application/vnd.jupyter.widget-view+json": {
       "model_id": "d3f8cffe118f4b8e86cddf48cf00cd86",
       "version_major": 2,
       "version_minor": 0
      },
      "text/plain": [
       "  0%|          | 0/100 [00:00<?, ?it/s]"
      ]
     },
     "metadata": {},
     "output_type": "display_data"
    },
    {
     "data": {
      "application/vnd.jupyter.widget-view+json": {
       "model_id": "d13088c026c44dd98c32e49b04c1de42",
       "version_major": 2,
       "version_minor": 0
      },
      "text/plain": [
       "  0%|          | 0/100 [00:00<?, ?it/s]"
      ]
     },
     "metadata": {},
     "output_type": "display_data"
    },
    {
     "data": {
      "application/vnd.jupyter.widget-view+json": {
       "model_id": "7d9e2435911b43b280c9949a469d1f8a",
       "version_major": 2,
       "version_minor": 0
      },
      "text/plain": [
       "  0%|          | 0/100 [00:00<?, ?it/s]"
      ]
     },
     "metadata": {},
     "output_type": "display_data"
    },
    {
     "data": {
      "application/vnd.jupyter.widget-view+json": {
       "model_id": "31ae2387030b488fa435332dd63fa068",
       "version_major": 2,
       "version_minor": 0
      },
      "text/plain": [
       "  0%|          | 0/100 [00:00<?, ?it/s]"
      ]
     },
     "metadata": {},
     "output_type": "display_data"
    },
    {
     "data": {
      "application/vnd.jupyter.widget-view+json": {
       "model_id": "63faf0757ed440ce8ca71f5a762118c1",
       "version_major": 2,
       "version_minor": 0
      },
      "text/plain": [
       "  0%|          | 0/100 [00:00<?, ?it/s]"
      ]
     },
     "metadata": {},
     "output_type": "display_data"
    },
    {
     "data": {
      "application/vnd.jupyter.widget-view+json": {
       "model_id": "7177dd98331442bfbf59bbe3b308fb76",
       "version_major": 2,
       "version_minor": 0
      },
      "text/plain": [
       "  0%|          | 0/100 [00:00<?, ?it/s]"
      ]
     },
     "metadata": {},
     "output_type": "display_data"
    },
    {
     "data": {
      "application/vnd.jupyter.widget-view+json": {
       "model_id": "c9c7377cb169471a85adce4c2c5bba6d",
       "version_major": 2,
       "version_minor": 0
      },
      "text/plain": [
       "  0%|          | 0/100 [00:00<?, ?it/s]"
      ]
     },
     "metadata": {},
     "output_type": "display_data"
    },
    {
     "data": {
      "application/vnd.jupyter.widget-view+json": {
       "model_id": "989c90e730c64692aae54b502f69254d",
       "version_major": 2,
       "version_minor": 0
      },
      "text/plain": [
       "  0%|          | 0/100 [00:00<?, ?it/s]"
      ]
     },
     "metadata": {},
     "output_type": "display_data"
    },
    {
     "data": {
      "application/vnd.jupyter.widget-view+json": {
       "model_id": "43464237c7dd4c88b04c8769a322d8bb",
       "version_major": 2,
       "version_minor": 0
      },
      "text/plain": [
       "  0%|          | 0/100 [00:00<?, ?it/s]"
      ]
     },
     "metadata": {},
     "output_type": "display_data"
    },
    {
     "data": {
      "application/vnd.jupyter.widget-view+json": {
       "model_id": "b81d683bc0594656b1e85c48f5093af1",
       "version_major": 2,
       "version_minor": 0
      },
      "text/plain": [
       "  0%|          | 0/100 [00:00<?, ?it/s]"
      ]
     },
     "metadata": {},
     "output_type": "display_data"
    },
    {
     "data": {
      "application/vnd.jupyter.widget-view+json": {
       "model_id": "687eb675c9554d5995d0d9dfc7522379",
       "version_major": 2,
       "version_minor": 0
      },
      "text/plain": [
       "  0%|          | 0/100 [00:00<?, ?it/s]"
      ]
     },
     "metadata": {},
     "output_type": "display_data"
    }
   ],
   "source": [
    "from tqdm.auto import tqdm\n",
    "\n",
    "ams = []\n",
    "\n",
    "for layer in tqdm(circuitizer.layers):\n",
    "    ablated_metrics, n_nodes_counts = circuitizer.run_ablated_metrics(thresholds, inverse=True, sae_types=[\"attn_out\"], layers=[layer])\n",
    "    ams.append(ablated_metrics)"
   ]
  },
  {
   "cell_type": "code",
   "execution_count": null,
   "metadata": {},
   "outputs": [
    {
     "data": {
      "text/html": [
       "<script> (()=>{ if (customElements.get('treescope-container') === undefined) { class TreescopeContainer extends HTMLElement { constructor() { super(); this.attachShadow({mode: \"open\"}); this.defns = {}; this.state = {}; } } customElements.define(\"treescope-container\", TreescopeContainer); } if (customElements.get('treescope-run-here') === undefined) { class RunHere extends HTMLElement { constructor() { super() } connectedCallback() { const run = child => { const fn = new Function(child.textContent); child.textContent = \"\"; fn.call(this); this.remove(); }; const child = this.querySelector(\"script\"); if (child) { run(child); } else { new MutationObserver(()=>{ run(this.querySelector(\"script\")); }).observe(this, {childList: true}); } } } customElements.define(\"treescope-run-here\", RunHere); } })(); </script> <treescope-container class=\"treescope_out_0407be1dba9b4ee1ad1bf208679d1684\" ></treescope-container> <treescope-run-here><script type=\"application/octet-stream\"> const root = ( Array.from(document.getElementsByClassName( \"treescope_out_0407be1dba9b4ee1ad1bf208679d1684\")) .filter((elt) => !elt.dataset.setup) )[0]; root.dataset.setup = 1; const msg = document.createElement(\"span\"); msg.style = \"color: #aaaaaa; font-family: monospace; transition: opacity 0.2s; opacity: 0.0;\"; msg.textContent = \"(Loading...)\"; root.state.loadingMsg = msg; root.shadowRoot.appendChild(msg); root.state.chain = new Promise((resolve, reject) => { const observer = new IntersectionObserver((entries) => { for (const entry of entries) { if (entry.isIntersecting) { resolve(); observer.disconnect(); return; } } }, {rootMargin: \"1000px\"}); window.setTimeout(() => { if (root.loadingMsg) { root.loadingMsg.style.opacity = \"1.0\"; } observer.observe(root); }, 0); }); root.state.deferring = false; const _insertNode = (node) => { for (let oldScript of node.querySelectorAll(\"script\")) { let newScript = document.createElement(\"script\"); newScript.type = oldScript.type; newScript.textContent = oldScript.textContent; oldScript.parentNode.replaceChild(newScript, oldScript); } if (root.state.loadingMsg) { root.state.loadingMsg.remove(); root.state.loadingMsg = null; } root.shadowRoot.appendChild(node); }; root.defns.insertContent = ((contentNode, compressed) => { if (compressed) { root.state.deferring = true; } if (root.state.deferring) { root.state.chain = (async () => { await root.state.chain; if (compressed) { const encoded = contentNode.textContent; const blob = new Blob([ Uint8Array.from(atob(encoded), (m) => m.codePointAt(0)) ]); const reader = blob.stream().pipeThrough( new DecompressionStream(\"deflate\") ).pipeThrough( new TextDecoderStream(\"utf-8\") ).getReader(); const parts = []; while (true) { const step = await reader.read(); if (step.done) { break; } parts.push(step.value); } const tpl = document.createElement('template'); tpl.innerHTML = parts.join(\"\"); _insertNode(tpl.content); } else { _insertNode(contentNode.content); } })(); } else { _insertNode(contentNode.content); } }); </script></treescope-run-here><div style=\"display:none\"> <script type=\"application/octet-stream\" >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</script> <treescope-run-here><script type=\"application/octet-stream\"> const root = ( Array.from(document.getElementsByClassName( \"treescope_out_0407be1dba9b4ee1ad1bf208679d1684\")) .filter((elt) => !elt.dataset['step0']) )[0]; root.dataset['step0'] = 1; root.defns.insertContent( this.parentNode.querySelector('script[type=\"application/octet-stream\"]'), true ); this.parentNode.remove(); </script></treescope-run-here> </div>"
      ],
      "text/plain": [
       "<IPython.core.display.HTML object>"
      ]
     },
     "metadata": {},
     "output_type": "display_data"
    },
    {
     "data": {
      "text/html": [
       "<treescope-run-here><script type=\"application/octet-stream\"> const root = ( Array.from(document.getElementsByClassName( \"treescope_out_0407be1dba9b4ee1ad1bf208679d1684\")) .filter((elt) => !elt.dataset.stolen) )[0]; root.dataset.stolen = 1; this.parentNode.replaceChild(root, this); </script></treescope-run-here>"
      ],
      "text/plain": [
       "[-1.609375,\n",
       " -1.5234375,\n",
       " -1.5234375,\n",
       " -1.5390625,\n",
       " -1.5859375,\n",
       " -1.6484375,\n",
       " -1.75,\n",
       " -3.28125,\n",
       " -1.5390625,\n",
       " -1.6328125,\n",
       " -1.546875]"
      ]
     },
     "execution_count": 27,
     "metadata": {},
     "output_type": "execute_result"
    },
    {
     "ename": "",
     "evalue": "",
     "output_type": "error",
     "traceback": [
      "\u001b[1;31mThe Kernel crashed while executing code in the current cell or a previous cell. \n",
      "\u001b[1;31mPlease review the code in the cell(s) to identify a possible cause of the failure. \n",
      "\u001b[1;31mClick <a href='https://aka.ms/vscodeJupyterKernelCrash'>here</a> for more info. \n",
      "\u001b[1;31mView Jupyter <a href='command:jupyter.viewOutput'>log</a> for further details."
     ]
    }
   ],
   "source": [
    "[min(x) for x in ams]"
   ]
  },
  {
   "cell_type": "code",
   "execution_count": null,
   "metadata": {},
   "outputs": [
    {
     "data": {
      "image/png": "[encoded data removed]",
      "text/plain": [
       "<Figure size 640x480 with 1 Axes>"
      ]
     },
     "metadata": {},
     "output_type": "display_data"
    }
   ],
   "source": [
    "plt.plot(thresholds, n_nodes_counts)\n",
    "plt.xscale(\"log\")"
   ]
  },
  {
   "cell_type": "code",
   "execution_count": null,
   "metadata": {},
   "outputs": [
    {
     "data": {
      "text/html": [
       "<script> (()=>{ if (customElements.get('treescope-container') === undefined) { class TreescopeContainer extends HTMLElement { constructor() { super(); this.attachShadow({mode: \"open\"}); this.defns = {}; this.state = {}; } } customElements.define(\"treescope-container\", TreescopeContainer); } if (customElements.get('treescope-run-here') === undefined) { class RunHere extends HTMLElement { constructor() { super() } connectedCallback() { const run = child => { const fn = new Function(child.textContent); child.textContent = \"\"; fn.call(this); this.remove(); }; const child = this.querySelector(\"script\"); if (child) { run(child); } else { new MutationObserver(()=>{ run(this.querySelector(\"script\")); }).observe(this, {childList: true}); } } } customElements.define(\"treescope-run-here\", RunHere); } })(); </script> <treescope-container class=\"treescope_out_9c5de1c09fad4875b6d717ca1de3b22e\" ></treescope-container> <treescope-run-here><script type=\"application/octet-stream\"> const root = ( Array.from(document.getElementsByClassName( \"treescope_out_9c5de1c09fad4875b6d717ca1de3b22e\")) .filter((elt) => !elt.dataset.setup) )[0]; root.dataset.setup = 1; const msg = document.createElement(\"span\"); msg.style = \"color: #aaaaaa; font-family: monospace; transition: opacity 0.2s; opacity: 0.0;\"; msg.textContent = \"(Loading...)\"; root.state.loadingMsg = msg; root.shadowRoot.appendChild(msg); root.state.chain = new Promise((resolve, reject) => { const observer = new IntersectionObserver((entries) => { for (const entry of entries) { if (entry.isIntersecting) { resolve(); observer.disconnect(); return; } } }, {rootMargin: \"1000px\"}); window.setTimeout(() => { if (root.loadingMsg) { root.loadingMsg.style.opacity = \"1.0\"; } observer.observe(root); }, 0); }); root.state.deferring = false; const _insertNode = (node) => { for (let oldScript of node.querySelectorAll(\"script\")) { let newScript = document.createElement(\"script\"); newScript.type = oldScript.type; newScript.textContent = oldScript.textContent; oldScript.parentNode.replaceChild(newScript, oldScript); } if (root.state.loadingMsg) { root.state.loadingMsg.remove(); root.state.loadingMsg = null; } root.shadowRoot.appendChild(node); }; root.defns.insertContent = ((contentNode, compressed) => { if (compressed) { root.state.deferring = true; } if (root.state.deferring) { root.state.chain = (async () => { await root.state.chain; if (compressed) { const encoded = contentNode.textContent; const blob = new Blob([ Uint8Array.from(atob(encoded), (m) => m.codePointAt(0)) ]); const reader = blob.stream().pipeThrough( new DecompressionStream(\"deflate\") ).pipeThrough( new TextDecoderStream(\"utf-8\") ).getReader(); const parts = []; while (true) { const step = await reader.read(); if (step.done) { break; } parts.push(step.value); } const tpl = document.createElement('template'); tpl.innerHTML = parts.join(\"\"); _insertNode(tpl.content); } else { _insertNode(contentNode.content); } })(); } else { _insertNode(contentNode.content); } }); </script></treescope-run-here><div style=\"display:none\"> <script type=\"application/octet-stream\" >eNqNVE2P0zAQ/StWOGwi4ewHKoK2ibQXxAFxgAOHFarcZJJYdcbGnrQUtP+dcdKW/Sgr1EPjmfGbN88zswy0N1Dm5AFCZR2svLUkfgtngyZtcS48GEV6CwvRWCTZqF6b/Vz0Fm1wqmL7rtMEcjzMhfNsMTqQHKEl7R1b0SKb16ratN4OWMvKGuvn09WFOJzWhgMYT9fUzUWjicOQAGkhnKprja000NBc3FRdTIIgO9Btx5brfBZhkJRmzqdrhw+51UGvtdHEzNVA9hQrNZLXGHQlg/4Fk/dA9355OcmzPMkj/YCc07MtVF47ErG+4kI5Z3SlomKXtiKI1XtQ/UWZpllRsqCcL5CoocEgCkGdDnkL9IXV/mxrSLO8s4Hy0c+lAYmVA4wl31YRNV66+37O81FhbYDdOBizmDLkTPOrtcjWdGf9JhMPOdhvbIquR2bSVTQ68I31vcIKcrS7NBvflxOkzzxCTpeW4s1Nxji6EekT1rkBbKkTRSGuYsiL1D3Q4JF1F2AC/CXWDRiZPYUOnW4o8hsD4sc9//6RIeWuwtrucg8/Bgh0i7ofn+uDVz2kkyZZxFg8S+SG0E0yLs7UeExRTGW8UOX/c4gspock27ZmmsrVODncrS5iRQsYei1gyw1+eMnIbjznG9hH0ROfREKH4LwyKoRPPJwH3DQ5Ya56bsPkmPw+Yz25/cceL5eX5wag1lsxAhbJ4/WRCFJrrhR+FslVIiwyGS4bOe6ltj9faxrvHKtMeOymhTVujBUO/Rr82CnjAnl19f7d9eztw9HltYRHmh3Pque1sVmR8kwjEbUiJZmeU9QVSfI4/GGOpJSz/GbGsBxQnv5Yg/IPV7ncIA==</script> <treescope-run-here><script type=\"application/octet-stream\"> const root = ( Array.from(document.getElementsByClassName( \"treescope_out_9c5de1c09fad4875b6d717ca1de3b22e\")) .filter((elt) => !elt.dataset['step0']) )[0]; root.dataset['step0'] = 1; root.defns.insertContent( this.parentNode.querySelector('script[type=\"application/octet-stream\"]'), true ); this.parentNode.remove(); </script></treescope-run-here> </div>"
      ],
      "text/plain": [
       "<IPython.core.display.HTML object>"
      ]
     },
     "metadata": {},
     "output_type": "display_data"
    },
    {
     "data": {
      "text/html": [
       "<treescope-run-here><script type=\"application/octet-stream\"> const root = ( Array.from(document.getElementsByClassName( \"treescope_out_9c5de1c09fad4875b6d717ca1de3b22e\")) .filter((elt) => !elt.dataset.stolen) )[0]; root.dataset.stolen = 1; this.parentNode.replaceChild(root, this); </script></treescope-run-here>"
      ],
      "text/plain": [
       "-5.25"
      ]
     },
     "execution_count": 111,
     "metadata": {},
     "output_type": "execute_result"
    }
   ],
   "source": [
    "ablated_metrics[22]"
   ]
  },
  {
   "cell_type": "code",
   "execution_count": 43,
   "metadata": {},
   "outputs": [
    {
     "data": {
      "text/html": [
       "<script> (()=>{ if (customElements.get('treescope-container') === undefined) { class TreescopeContainer extends HTMLElement { constructor() { super(); this.attachShadow({mode: \"open\"}); this.defns = {}; this.state = {}; } } customElements.define(\"treescope-container\", TreescopeContainer); } if (customElements.get('treescope-run-here') === undefined) { class RunHere extends HTMLElement { constructor() { super() } connectedCallback() { const run = child => { const fn = new Function(child.textContent); child.textContent = \"\"; fn.call(this); this.remove(); }; const child = this.querySelector(\"script\"); if (child) { run(child); } else { new MutationObserver(()=>{ run(this.querySelector(\"script\")); }).observe(this, {childList: true}); } } } customElements.define(\"treescope-run-here\", RunHere); } })(); </script> <treescope-container class=\"treescope_out_821ff0a3840440178bb226ce58338913\" ></treescope-container> <treescope-run-here><script type=\"application/octet-stream\"> const root = ( Array.from(document.getElementsByClassName( \"treescope_out_821ff0a3840440178bb226ce58338913\")) .filter((elt) => !elt.dataset.setup) )[0]; root.dataset.setup = 1; const msg = document.createElement(\"span\"); msg.style = \"color: #aaaaaa; font-family: monospace; transition: opacity 0.2s; opacity: 0.0;\"; msg.textContent = \"(Loading...)\"; root.state.loadingMsg = msg; root.shadowRoot.appendChild(msg); root.state.chain = new Promise((resolve, reject) => { const observer = new IntersectionObserver((entries) => { for (const entry of entries) { if (entry.isIntersecting) { resolve(); observer.disconnect(); return; } } }, {rootMargin: \"1000px\"}); window.setTimeout(() => { if (root.loadingMsg) { root.loadingMsg.style.opacity = \"1.0\"; } observer.observe(root); }, 0); }); root.state.deferring = false; const _insertNode = (node) => { for (let oldScript of node.querySelectorAll(\"script\")) { let newScript = document.createElement(\"script\"); newScript.type = oldScript.type; newScript.textContent = oldScript.textContent; oldScript.parentNode.replaceChild(newScript, oldScript); } if (root.state.loadingMsg) { root.state.loadingMsg.remove(); root.state.loadingMsg = null; } root.shadowRoot.appendChild(node); }; root.defns.insertContent = ((contentNode, compressed) => { if (compressed) { root.state.deferring = true; } if (root.state.deferring) { root.state.chain = (async () => { await root.state.chain; if (compressed) { const encoded = contentNode.textContent; const blob = new Blob([ Uint8Array.from(atob(encoded), (m) => m.codePointAt(0)) ]); const reader = blob.stream().pipeThrough( new DecompressionStream(\"deflate\") ).pipeThrough( new TextDecoderStream(\"utf-8\") ).getReader(); const parts = []; while (true) { const step = await reader.read(); if (step.done) { break; } parts.push(step.value); } const tpl = document.createElement('template'); tpl.innerHTML = parts.join(\"\"); _insertNode(tpl.content); } else { _insertNode(contentNode.content); } })(); } else { _insertNode(contentNode.content); } }); </script></treescope-run-here><div style=\"display:none\"> <script type=\"application/octet-stream\" >eNqNVE2P00AM/SujcNhEItm2qwLbNpH2gjggDnDggFA1TZxk1IlnmHFaCtr/jidpy36UFcohybPn+dlje+XpoKHIyAH40lhYO2NI/BbWeEXK4EI40JLUDpaiNkhpLTulDwvRGTTeypLxfasI0uFnIaxjRCtP6UCd0sEyigYZ3shy2zjTY5WWRhu3GI8uxfFvo9mB+VRF7ULUitgNCZCWwsqqUtikGmpaiFnZhiAIaQuqaRmZZvNAgyQVaz4fO36kO+XVRmlFrFz2ZM6+qUJyCr0qU69+wWg9yr1fXY/lWZ3Lk7oeOaZjzJdOWRIhv/xKWqtVKUPFrk1JELJ3ILurIo6TvOCCcjxPooIavcgFtcpnDdBnrvYnU0GcZK3xlA12Tg1IrC1gSPmuDKzh0LfvlywfJFYa2Iy91ssxQsYyvxiDjMZ747aJeKjBfGUomB7BpMoAWnC1cZ3EEjI0+zgZ7pcDxM8sIh0PrcTNLGEeVYv4iepMAzbUijwXk+DyonQH1DvkugvQHv4Ka3sMyp5S+1bVFPQNDuHjnp9/RIi5q7Ay+8zBjx483aHqhut672QH8ViTJHAsnwWyvW/HMi4v5HgKkY9pvJDl/2sIKsaLJNM0epzK9TA53K02cAUENL0WsOMGP95kUDf8Z1s4hKJHLgqCjs5ZqaX3H3k4j7xxdOZcd9yG0Sn4fcL15PYferxYXV8agErtxECYR4/XRyRIbjhT+JlHk0gYZDGcNrLfS21/Odc4nDllGfHYjQtr2Bhr7LsNuKFThgXyanL7bjp/83B0eS3hSWbLs+p4bWzXJB3LiEQlSaYsz0pq8yh67P4wRlRMssnN7HZ2+3Y6m88n/JpPOQi7F+cXV6T4A1Ps3vs=</script> <treescope-run-here><script type=\"application/octet-stream\"> const root = ( Array.from(document.getElementsByClassName( \"treescope_out_821ff0a3840440178bb226ce58338913\")) .filter((elt) => !elt.dataset['step0']) )[0]; root.dataset['step0'] = 1; root.defns.insertContent( this.parentNode.querySelector('script[type=\"application/octet-stream\"]'), true ); this.parentNode.remove(); </script></treescope-run-here> </div>"
      ],
      "text/plain": [
       "<IPython.core.display.HTML object>"
      ]
     },
     "metadata": {},
     "output_type": "display_data"
    },
    {
     "data": {
      "text/html": [
       "<treescope-run-here><script type=\"application/octet-stream\"> const root = ( Array.from(document.getElementsByClassName( \"treescope_out_821ff0a3840440178bb226ce58338913\")) .filter((elt) => !elt.dataset.stolen) )[0]; root.dataset.stolen = 1; this.parentNode.replaceChild(root, this); </script></treescope-run-here>"
      ],
      "text/plain": [
       "0.03292971255097151"
      ]
     },
     "execution_count": 43,
     "metadata": {},
     "output_type": "execute_result"
    }
   ],
   "source": [
    "selected_threshold"
   ]
  },
  {
   "cell_type": "code",
   "execution_count": 44,
   "metadata": {},
   "outputs": [],
   "source": [
    "from tqdm.auto import tqdm\n",
    "\n",
    "layers = circuitizer.layers\n",
    "selected_threshold = target_threshold\n",
    "\n",
    "\n",
    "\n",
    "mask_resid, _ = circuitizer.mask_ie(circuitizer.ie_resid[12], selected_threshold, None, do_abs=False, average_over_positions=False, token_prefix=68)\n",
    "\n",
    "\n",
    "    "
   ]
  },
  {
   "cell_type": "code",
   "execution_count": 77,
   "metadata": {},
   "outputs": [],
   "source": [
    "mean_ie = circuitizer.ie_resid[12].mean(0)"
   ]
  },
  {
   "cell_type": "code",
   "execution_count": 83,
   "metadata": {},
   "outputs": [
    {
     "data": {
      "text/html": [
       "<script> (()=>{ if (customElements.get('treescope-container') === undefined) { class TreescopeContainer extends HTMLElement { constructor() { super(); this.attachShadow({mode: \"open\"}); this.defns = {}; this.state = {}; } } customElements.define(\"treescope-container\", TreescopeContainer); } if (customElements.get('treescope-run-here') === undefined) { class RunHere extends HTMLElement { constructor() { super() } connectedCallback() { const run = child => { const fn = new Function(child.textContent); child.textContent = \"\"; fn.call(this); this.remove(); }; const child = this.querySelector(\"script\"); if (child) { run(child); } else { new MutationObserver(()=>{ run(this.querySelector(\"script\")); }).observe(this, {childList: true}); } } } customElements.define(\"treescope-run-here\", RunHere); } })(); </script> <treescope-container class=\"treescope_out_15c5306ad27b475e9b26952067d87b67\" ></treescope-container> <treescope-run-here><script type=\"application/octet-stream\"> const root = ( Array.from(document.getElementsByClassName( \"treescope_out_15c5306ad27b475e9b26952067d87b67\")) .filter((elt) => !elt.dataset.setup) )[0]; root.dataset.setup = 1; const msg = document.createElement(\"span\"); msg.style = \"color: #aaaaaa; font-family: monospace; transition: opacity 0.2s; opacity: 0.0;\"; msg.textContent = \"(Loading...)\"; root.state.loadingMsg = msg; root.shadowRoot.appendChild(msg); root.state.chain = new Promise((resolve, reject) => { const observer = new IntersectionObserver((entries) => { for (const entry of entries) { if (entry.isIntersecting) { resolve(); observer.disconnect(); return; } } }, {rootMargin: \"1000px\"}); window.setTimeout(() => { if (root.loadingMsg) { root.loadingMsg.style.opacity = \"1.0\"; } observer.observe(root); }, 0); }); root.state.deferring = false; const _insertNode = (node) => { for (let oldScript of node.querySelectorAll(\"script\")) { let newScript = document.createElement(\"script\"); newScript.type = oldScript.type; newScript.textContent = oldScript.textContent; oldScript.parentNode.replaceChild(newScript, oldScript); } if (root.state.loadingMsg) { root.state.loadingMsg.remove(); root.state.loadingMsg = null; } root.shadowRoot.appendChild(node); }; root.defns.insertContent = ((contentNode, compressed) => { if (compressed) { root.state.deferring = true; } if (root.state.deferring) { root.state.chain = (async () => { await root.state.chain; if (compressed) { const encoded = contentNode.textContent; const blob = new Blob([ Uint8Array.from(atob(encoded), (m) => m.codePointAt(0)) ]); const reader = blob.stream().pipeThrough( new DecompressionStream(\"deflate\") ).pipeThrough( new TextDecoderStream(\"utf-8\") ).getReader(); const parts = []; while (true) { const step = await reader.read(); if (step.done) { break; } parts.push(step.value); } const tpl = document.createElement('template'); tpl.innerHTML = parts.join(\"\"); _insertNode(tpl.content); } else { _insertNode(contentNode.content); } })(); } else { _insertNode(contentNode.content); } }); </script></treescope-run-here><div style=\"display:none\"> <script type=\"application/octet-stream\" >eNrVGAtX4jr6r2Q651xhlQoIqPg4W5CXM+gozug4dw43tGkbaZOapiDe43/fLykgKDoze927u3AOLcn3zvfMfiwnATk0pSAktnlE+oJzif5EEY+ppJxVkSABlnRE9pDLmcy5OKTBpIpCzngcYRvWxz6VJKf/VFEkYCWgscxp0jk5iWCVcQbLA2wPPcET5uRsHnBRTVH30PTfIAAAoEcd6VeRSyWAMUmY3EMRdhzKvFxAXFlFRdtXTBjJ+YR6PqwUzLIiwySmIPMcbfqSG9GYDmhAJUiOE8nnsDnKpKAspnYupvck3Z2K+7C/mZpnf26enEgY8BSwFtuCRhIp/Q7WcBQF1MbKYpvclkRpLwgO1w4zmezBIRgU+MUSOcRlMTpA0qex6RF5DtY+4Q7JZE2fx9LU+6AakagfEaZUtmxFVSF9+75qp42ZExDYZkkQ7KUcTBCzxzmD1cyYi2EWLcrAL2FJbS0tS2qrxYgIl4sQM5uYjI8zWX2+wCDzbAflUqR9tFXMAh3qoswTqc2AME/66OAA5RXIq6ILIhPBwO6IBDF5FMxPmJLsKenYp65U8mkA9fIA3xc4ZMCrmMPHpiC3CYmlxWioj6spcEgyqU2yisbeM0ZREvupGfdW6DhjcZCq8YqWPy+DkiI9SMk9L0ijsq8jB7w1UrTUCgnkBiIjcPDpSSrp9H9zSCbK6IYwlEBTYNMOcBx/hOCc0s0Yc5r9ENzQmDF/yII9wf21jx/ub64KAIeOkCZ4YCynDwNJPABNyd2BkTcQZyAMqM0A7jW3X61rRuHMtDQg7NKEBRhECOL0I8gZxOeBQ4T2GJ1I3uNt9Z2mLI1SRVRiiFHQzXQBHA+AFQMZXkh2D2gZrJ9KB9AOjYHpZJbUngKiQxTgAQmq1QGBeCELUtn6s7eSX5rYcgWV2aYJML/3yIsyne4GAVcZ8kWePh8R8Zyzg8UwJtiDY2LPsauMy8yTJR/HmUNN83ClHTRO1faJPSRONov+kX2UQaGuRprBL0moM3QVrf1eLA/stf+meMtILwpZ+RuEVOeoGCciVgcYcahTRKzgS+O3Y6tDQTPK6XiLX/Lxt+H6qJ4kd/I5F5PGfZeKWPY56yv3XxFar4WSWSyraFp5VOgvi5+e+FMRlVYhFh50FqkYOqAf/iI3E3LrZJBICSV9VQJ63F7ltAYynkCBIaFdWw38OymUHONJt7fWxeAVFAeoNwkHPIjRaSKVvg6qp5jwjCYQGLkxGQyhc0szbwi53IdKCH0Vk4BOcUyceb/3nuTVd++5m6fYuiHLm7skfKplGh8rtFid7h4xzTGO+zbUATDsHB+7cql6zPL0azyf4CyzXDQ9GmGRyeUcLHEOMzhYXfKzi8uKiepjBGYzb9ZkUSFGBCwGTWqOJ/LXVJlLAAdDifNuWRLNEr2jYcSFxOwZ7YHgQ8L6auUxGf3YugtoC/acHfODqboCEMzp29BTOoKwqajLXTvQXAZ8o+y6EDrTQroUqjYO7AyMFtDXFqI73QqZscQKfy7vf0ySARfQwkwlcbgE3ZUUi8aLfaw6njEWDEKqP0vZMyu7LrYLWysAI+gY/5xPUGI6MKm8NFV/upTLmzphPo5pVT1kYZHzBHYoHEimsFV2iLeBOPiqR1AewrNi+xup70bAFjKBXkJT+z0T5VnKfDOTLh3mTJkHc+xrjwwCHEHy+XED9+vZ+WUOadumeWggcgdR6rwI8xZyrGLxhvOsGjHQO0sIPDFdwUMYW+wkVCOHytmxOcIBzDaZbNaMOQw1OpOr4UQ9zbScqMHkJwuKsYayKDsfBWOfwPwLgxYZo3qv11Pa9NSamv70JsxWeiLoTZid+eOf0yJmq+Lwbxa0xRGCqfk3mK6Np1cPpTxEZyzsKkpEkFHZtar2N8fcdYt7A8jfldKGk99tdT2rZulP58yyuH6rnY/ht920rIb12qcWWpY35B+cTqNWH3+1rIuv9WOr26nVraZ312l/9GVc61LibTWProofO5Wvo16U0E/d8kXh+Kpz/qU7uuzey0+TZrO+fukNL2jtKO/To7PkuOG0bvLtwaY76jjR7YeKf3tJ6VnSZS2/7X6W1udK7USUrGaHDRsV+3OSsPXz8q0dD8cjtxls3t55Db7jDY7HrZ1C29pk1nn5oxDHhfN17z5/7uStY7fgnWzXx62bopfnk+R8eztsFCrj9tXuqedF5GI4KZHO4L5sD8RpS2LLO+ucjI9wPInPkk7n6rLRHFufzqLOV+fz5ua6t32xfbUl8+6HT7fWqAw0P1on21Z3bIXe/XlvPbnukcbVXdGt2PcnpfP2pJzUrA/3tZuoGW3R9lm9kb9OPpV628ytfWy0m93Qous7o0bRZwV/e33wZXx1M26L0VHrc53duI2GJ9dP7esg2C7v1o/HtR1/t9TttnpbrWvLCzvlm9rZrrxokfZuo1brtLaOvNL55ld7MrBacKZfPmxaZy1skW49sNr3jVPvWnqV2ifv9LRzVBvSszJp1q7qtaZN85EveMTAN6LrxlHhvjDsuXVX+pMPrO3gZtx28ydhq3FSqTnW7ZcvEZZx7zp0HEx3i+79bukzvbmtRKGonPKv9R4VrXB03NrqXfa2mo2iXTtzL9bbAY9apWY8LmPvtrJDr0nvJIguWa3dIU5XkOTytlUPC5dNMez17srFyuVlPLZAoizSdz8ys6bdek1l9z/gZx792OER1KzHkNQ3VqZpvgKxkcbsd6D1+s2Ar69QdFuRdjxAG9yD2SiTNh7LF1wQghdchS+ATRsTtRZDelAkVKel2hM8xlQihkfUw5ILEyhHA46FY44FleQChpLMIy1Qdkrr8RYFSmrGWGjD1P0JcLmgIYF+LTO7YHuGJ0gIPdUz1IcNVMzn87pyQvKFIprRA8Vqvgu9lvEonBqlZhlMXTkZ6D1qYhpAYpMcKeB3OrNBtWQJDiAbU7AZwY5qFdcXbTe9C/rBLZBqO2fXQMt3Ek/rvHG4nxazfcqiZFppDF2+BvzOWElkWukAdVMjLfPzgYIA0sO+hNJPpKHFzw3JBGLDPzCMw28gPSAA+pT1IvqzZtR4bX+2SZ0DY377VMGuXcCVvFOs5EuVys5uubTt4G1S3toul3fcvPH3G2iVpqtuy4zD3wK5d4PvTF3MkRtwLLeKmUJ+A1oJ00S/eXJvbr7Fx8YS7eXmxzhEM+BnQLPOZNkoa4/jwxrirK7C4WDtF/OBviXMrqH5bHNgZAIcDhys7z6r+vdb/nvWQLqUHxgLcxB0A6uB1Tj7dHADYB0dysPgfarL4UpDrbLETzhV2cVbu/YO3i25xRJWb7azU8JF2HdKhYLzf+RUMM7/lEu95iwb/7sOVfgVhyq8nUOlj+8/Y5gZhkNHh/8CCNDE7g==</script> <treescope-run-here><script type=\"application/octet-stream\"> const root = ( Array.from(document.getElementsByClassName( \"treescope_out_15c5306ad27b475e9b26952067d87b67\")) .filter((elt) => !elt.dataset['step0']) )[0]; root.dataset['step0'] = 1; root.defns.insertContent( this.parentNode.querySelector('script[type=\"application/octet-stream\"]'), true ); this.parentNode.remove(); </script></treescope-run-here> </div>"
      ],
      "text/plain": [
       "<IPython.core.display.HTML object>"
      ]
     },
     "metadata": {},
     "output_type": "display_data"
    },
    {
     "data": {
      "text/html": [
       "<div style=\"display:none\"> <script type=\"application/octet-stream\" >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</script> <treescope-run-here><script type=\"application/octet-stream\"> const root = ( Array.from(document.getElementsByClassName( \"treescope_out_15c5306ad27b475e9b26952067d87b67\")) .filter((elt) => !elt.dataset['step1']) )[0]; root.dataset['step1'] = 1; root.defns.insertContent( this.parentNode.querySelector('script[type=\"application/octet-stream\"]'), true ); this.parentNode.remove(); </script></treescope-run-here> </div>"
      ],
      "text/plain": [
       "<IPython.core.display.HTML object>"
      ]
     },
     "metadata": {},
     "output_type": "display_data"
    },
    {
     "data": {
      "text/html": [
       "<treescope-run-here><script type=\"application/octet-stream\"> const root = ( Array.from(document.getElementsByClassName( \"treescope_out_15c5306ad27b475e9b26952067d87b67\")) .filter((elt) => !elt.dataset.stolen) )[0]; root.dataset.stolen = 1; this.parentNode.replaceChild(root, this); </script></treescope-run-here>"
      ],
      "text/plain": [
       "[# jax.Array float32(10,) ≈0.018 ±0.006 [≥0.0091, ≤0.027] nonzero:10\n",
       "   Array([0.02726172, 0.02616928, 0.02356915, 0.01795517, 0.01743256,\n",
       "          0.01719484, 0.01396573, 0.01238095, 0.01110678, 0.00913343],      dtype=float32)\n",
       " ,\n",
       " # jax.Array int32(10,) [≥1_163, ≤31_539] nonzero:10\n",
       "   Array([24942,  4338, 31539,  1163, 29472,  5703, 13025,  7666, 20768,\n",
       "          17235], dtype=int32)\n",
       " ]"
      ]
     },
     "execution_count": 83,
     "metadata": {},
     "output_type": "execute_result"
    }
   ],
   "source": [
    "import jax\n",
    "\n",
    "jax.lax.top_k(circuitizer.ie_resid[10].mean(0)[65], 10)\n",
    "\n",
    "# mean_ie[67].max()"
   ]
  },
  {
   "cell_type": "code",
   "execution_count": 52,
   "metadata": {},
   "outputs": [
    {
     "data": {
      "text/html": [
       "<script> (()=>{ if (customElements.get('treescope-container') === undefined) { class TreescopeContainer extends HTMLElement { constructor() { super(); this.attachShadow({mode: \"open\"}); this.defns = {}; this.state = {}; } } customElements.define(\"treescope-container\", TreescopeContainer); } if (customElements.get('treescope-run-here') === undefined) { class RunHere extends HTMLElement { constructor() { super() } connectedCallback() { const run = child => { const fn = new Function(child.textContent); child.textContent = \"\"; fn.call(this); this.remove(); }; const child = this.querySelector(\"script\"); if (child) { run(child); } else { new MutationObserver(()=>{ run(this.querySelector(\"script\")); }).observe(this, {childList: true}); } } } customElements.define(\"treescope-run-here\", RunHere); } })(); </script> <treescope-container class=\"treescope_out_a869872b7c254b0aa0c7f96c0129842e\" ></treescope-container> <treescope-run-here><script type=\"application/octet-stream\"> const root = ( Array.from(document.getElementsByClassName( \"treescope_out_a869872b7c254b0aa0c7f96c0129842e\")) .filter((elt) => !elt.dataset.setup) )[0]; root.dataset.setup = 1; const msg = document.createElement(\"span\"); msg.style = \"color: #aaaaaa; font-family: monospace; transition: opacity 0.2s; opacity: 0.0;\"; msg.textContent = \"(Loading...)\"; root.state.loadingMsg = msg; root.shadowRoot.appendChild(msg); root.state.chain = new Promise((resolve, reject) => { const observer = new IntersectionObserver((entries) => { for (const entry of entries) { if (entry.isIntersecting) { resolve(); observer.disconnect(); return; } } }, {rootMargin: \"1000px\"}); window.setTimeout(() => { if (root.loadingMsg) { root.loadingMsg.style.opacity = \"1.0\"; } observer.observe(root); }, 0); }); root.state.deferring = false; const _insertNode = (node) => { for (let oldScript of node.querySelectorAll(\"script\")) { let newScript = document.createElement(\"script\"); newScript.type = oldScript.type; newScript.textContent = oldScript.textContent; oldScript.parentNode.replaceChild(newScript, oldScript); } if (root.state.loadingMsg) { root.state.loadingMsg.remove(); root.state.loadingMsg = null; } root.shadowRoot.appendChild(node); }; root.defns.insertContent = ((contentNode, compressed) => { if (compressed) { root.state.deferring = true; } if (root.state.deferring) { root.state.chain = (async () => { await root.state.chain; if (compressed) { const encoded = contentNode.textContent; const blob = new Blob([ Uint8Array.from(atob(encoded), (m) => m.codePointAt(0)) ]); const reader = blob.stream().pipeThrough( new DecompressionStream(\"deflate\") ).pipeThrough( new TextDecoderStream(\"utf-8\") ).getReader(); const parts = []; while (true) { const step = await reader.read(); if (step.done) { break; } parts.push(step.value); } const tpl = document.createElement('template'); tpl.innerHTML = parts.join(\"\"); _insertNode(tpl.content); } else { _insertNode(contentNode.content); } })(); } else { _insertNode(contentNode.content); } }); </script></treescope-run-here><div style=\"display:none\"> <script type=\"application/octet-stream\" >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</script> <treescope-run-here><script type=\"application/octet-stream\"> const root = ( Array.from(document.getElementsByClassName( \"treescope_out_a869872b7c254b0aa0c7f96c0129842e\")) .filter((elt) => !elt.dataset['step0']) )[0]; root.dataset['step0'] = 1; root.defns.insertContent( this.parentNode.querySelector('script[type=\"application/octet-stream\"]'), true ); this.parentNode.remove(); </script></treescope-run-here> </div>"
      ],
      "text/plain": [
       "<IPython.core.display.HTML object>"
      ]
     },
     "metadata": {},
     "output_type": "display_data"
    },
    {
     "data": {
      "text/html": [
       "<treescope-run-here><script type=\"application/octet-stream\"> const root = ( Array.from(document.getElementsByClassName( \"treescope_out_a869872b7c254b0aa0c7f96c0129842e\")) .filter((elt) => !elt.dataset.stolen) )[0]; root.dataset.stolen = 1; this.parentNode.replaceChild(root, this); </script></treescope-run-here>"
      ],
      "text/plain": [
       "3978"
      ]
     },
     "execution_count": 52,
     "metadata": {},
     "output_type": "execute_result"
    }
   ],
   "source": [
    "circuitizer.train_tokens[0, 64]"
   ]
  },
  {
   "cell_type": "code",
   "execution_count": 21,
   "metadata": {},
   "outputs": [
    {
     "data": {
      "text/html": [
       "<script> (()=>{ if (customElements.get('treescope-container') === undefined) { class TreescopeContainer extends HTMLElement { constructor() { super(); this.attachShadow({mode: \"open\"}); this.defns = {}; this.state = {}; } } customElements.define(\"treescope-container\", TreescopeContainer); } if (customElements.get('treescope-run-here') === undefined) { class RunHere extends HTMLElement { constructor() { super() } connectedCallback() { const run = child => { const fn = new Function(child.textContent); child.textContent = \"\"; fn.call(this); this.remove(); }; const child = this.querySelector(\"script\"); if (child) { run(child); } else { new MutationObserver(()=>{ run(this.querySelector(\"script\")); }).observe(this, {childList: true}); } } } customElements.define(\"treescope-run-here\", RunHere); } })(); </script> <treescope-container class=\"treescope_out_6b8b75e76e55495cb2b3a2641fff5bc9\" ></treescope-container> <treescope-run-here><script type=\"application/octet-stream\"> const root = ( Array.from(document.getElementsByClassName( \"treescope_out_6b8b75e76e55495cb2b3a2641fff5bc9\")) .filter((elt) => !elt.dataset.setup) )[0]; root.dataset.setup = 1; const msg = document.createElement(\"span\"); msg.style = \"color: #aaaaaa; font-family: monospace; transition: opacity 0.2s; opacity: 0.0;\"; msg.textContent = \"(Loading...)\"; root.state.loadingMsg = msg; root.shadowRoot.appendChild(msg); root.state.chain = new Promise((resolve, reject) => { const observer = new IntersectionObserver((entries) => { for (const entry of entries) { if (entry.isIntersecting) { resolve(); observer.disconnect(); return; } } }, {rootMargin: \"1000px\"}); window.setTimeout(() => { if (root.loadingMsg) { root.loadingMsg.style.opacity = \"1.0\"; } observer.observe(root); }, 0); }); root.state.deferring = false; const _insertNode = (node) => { for (let oldScript of node.querySelectorAll(\"script\")) { let newScript = document.createElement(\"script\"); newScript.type = oldScript.type; newScript.textContent = oldScript.textContent; oldScript.parentNode.replaceChild(newScript, oldScript); } if (root.state.loadingMsg) { root.state.loadingMsg.remove(); root.state.loadingMsg = null; } root.shadowRoot.appendChild(node); }; root.defns.insertContent = ((contentNode, compressed) => { if (compressed) { root.state.deferring = true; } if (root.state.deferring) { root.state.chain = (async () => { await root.state.chain; if (compressed) { const encoded = contentNode.textContent; const blob = new Blob([ Uint8Array.from(atob(encoded), (m) => m.codePointAt(0)) ]); const reader = blob.stream().pipeThrough( new DecompressionStream(\"deflate\") ).pipeThrough( new TextDecoderStream(\"utf-8\") ).getReader(); const parts = []; while (true) { const step = await reader.read(); if (step.done) { break; } parts.push(step.value); } const tpl = document.createElement('template'); tpl.innerHTML = parts.join(\"\"); _insertNode(tpl.content); } else { _insertNode(contentNode.content); } })(); } else { _insertNode(contentNode.content); } }); </script></treescope-run-here><div style=\"display:none\"> <script type=\"application/octet-stream\" >eNrFVk1v4zYQ/SuECmykYqUk9robyLaAXIoeih7aQw9tYVDSSGJNkyo5cuIt8t87pGQ7tuVggV1s7YOt4cy8N5/iwuJOQpagAbCFbmFltEb2L2u1FSi0SpkByVFsYc4qrTCu+EbIXco2Wmnb8oLkT41AiP1DylpDEiksxt51jLuWpEorEue8WNdGd6qMCy21SXvTORueckkK5E+U2KSsEkhqCkHhnLW8LIWqYwkVpmxSNA5EQdyAqBuS3Ccz50YhF8T5YDb8ibfCilxIgcScd6gPurFQaISyooit+AT96UD3ZXHbp2dxSE9sOkWYhmS2MKJF5uJb3vC2laLgLmO3ukBw0Rvgm5ssDKNlRgklPIushEpZtmTYCJvUgL9Stn/RJYRR0miLiT+n0ADZqgXlQn4snFdn9MdfYyc/cVVKoGPVSTnvERKi+ZvWiqThkzbriL3moH8nkTs6EaMonLAFU2mz4aqAROmnMPL1JYDw4oTFvdGCTScR+REVC89YJxJUjQ1bLtmdU3mTugHsjKK8M5AWjsSaTjlm565tIyp0/LyC+/NC3ysIIXWVKvVTYuCfDiw+KrHx5frR8A2EfU4i52N+AdR2tunTOB+JcQ+x7MN4I8rP5+BY9IVEXdeyn8qVnxzq1tb5chKQ+J7Blhp8qKRj55+TNexc0gMTOEKDclJIbu3PNJyD3zA4+FxtqA2DPfhLRPmk9vc9ni1uxwagFFvmHS6D0/URMOQ5RQrPy+AuYFoRGQpbkd5bbT8ea+hs9lEGNHb9wiILMAbKVUs7AxotSzC+Y/wi+Y5/dN9hZXmTlAnkNKMUW1KROs8JShGHK8vuhZ2qrXp2pF0KS6C7/VI7V2QZkzwHmaY50LzAK1aF/8xH8frFFt+7zTYswLv5EUsov+5yqd2GvIrZ6C2YS+SSm7UFXlOZ1KV1qjSGZ6KG2zDzPrPRPHibtGigWEMZRez76MjBmY4b7fVPGPoNnbKbPyezvLj5P+mdGl0l+cM3IOnq6IA7Y10BW03vKTAjuMJ+PVg/Ch4o9vNmr/X410E9hofwjJcoibCrShiLK61Wrv1HRuutUUomMzdNo6ViX0y/r/g5RRfVhpuabhY9DT/Qx5sE3ZIUE+UyOCww6qfpdHY/BcjLD8Xdw8MH+FjePzzks0k1mc3yYDAaVu3p3J/Dk3IfxEKothtuJ4GnnevnYNTJECEd9tHRuvfG9Dv4eo0/tniD7J3E+d/8OXk0hu9YJTXH6YRuCEmSsHc1ulcJ+cjOf+gVkv0H3bK2oA==</script> <treescope-run-here><script type=\"application/octet-stream\"> const root = ( Array.from(document.getElementsByClassName( \"treescope_out_6b8b75e76e55495cb2b3a2641fff5bc9\")) .filter((elt) => !elt.dataset['step0']) )[0]; root.dataset['step0'] = 1; root.defns.insertContent( this.parentNode.querySelector('script[type=\"application/octet-stream\"]'), true ); this.parentNode.remove(); </script></treescope-run-here> </div>"
      ],
      "text/plain": [
       "<IPython.core.display.HTML object>"
      ]
     },
     "metadata": {},
     "output_type": "display_data"
    },
    {
     "data": {
      "text/html": [
       "<div style=\"display:none\"> <script type=\"application/octet-stream\" >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</script> <treescope-run-here><script type=\"application/octet-stream\"> const root = ( Array.from(document.getElementsByClassName( \"treescope_out_6b8b75e76e55495cb2b3a2641fff5bc9\")) .filter((elt) => !elt.dataset['step1']) )[0]; root.dataset['step1'] = 1; root.defns.insertContent( this.parentNode.querySelector('script[type=\"application/octet-stream\"]'), true ); this.parentNode.remove(); </script></treescope-run-here> </div>"
      ],
      "text/plain": [
       "<IPython.core.display.HTML object>"
      ]
     },
     "metadata": {},
     "output_type": "display_data"
    },
    {
     "data": {
      "text/html": [
       "<treescope-run-here><script type=\"application/octet-stream\"> const root = ( Array.from(document.getElementsByClassName( \"treescope_out_6b8b75e76e55495cb2b3a2641fff5bc9\")) .filter((elt) => !elt.dataset.stolen) )[0]; root.dataset.stolen = 1; this.parentNode.replaceChild(root, this); </script></treescope-run-here>"
      ],
      "text/plain": [
       "<jax.Array(0.0752492, dtype=float32)>"
      ]
     },
     "execution_count": 21,
     "metadata": {},
     "output_type": "execute_result"
    }
   ],
   "source": [
    "circuitizer.ie_resid[12][0, 68, 11618]"
   ]
  },
  {
   "cell_type": "code",
   "execution_count": 51,
   "metadata": {},
   "outputs": [
    {
     "data": {
      "text/html": [
       "<script> (()=>{ if (customElements.get('treescope-container') === undefined) { class TreescopeContainer extends HTMLElement { constructor() { super(); this.attachShadow({mode: \"open\"}); this.defns = {}; this.state = {}; } } customElements.define(\"treescope-container\", TreescopeContainer); } if (customElements.get('treescope-run-here') === undefined) { class RunHere extends HTMLElement { constructor() { super() } connectedCallback() { const run = child => { const fn = new Function(child.textContent); child.textContent = \"\"; fn.call(this); this.remove(); }; const child = this.querySelector(\"script\"); if (child) { run(child); } else { new MutationObserver(()=>{ run(this.querySelector(\"script\")); }).observe(this, {childList: true}); } } } customElements.define(\"treescope-run-here\", RunHere); } })(); </script> <treescope-container class=\"treescope_out_ea295500e9ea4e8aa406773c85697e07\" ></treescope-container> <treescope-run-here><script type=\"application/octet-stream\"> const root = ( Array.from(document.getElementsByClassName( \"treescope_out_ea295500e9ea4e8aa406773c85697e07\")) .filter((elt) => !elt.dataset.setup) )[0]; root.dataset.setup = 1; const msg = document.createElement(\"span\"); msg.style = \"color: #aaaaaa; font-family: monospace; transition: opacity 0.2s; opacity: 0.0;\"; msg.textContent = \"(Loading...)\"; root.state.loadingMsg = msg; root.shadowRoot.appendChild(msg); root.state.chain = new Promise((resolve, reject) => { const observer = new IntersectionObserver((entries) => { for (const entry of entries) { if (entry.isIntersecting) { resolve(); observer.disconnect(); return; } } }, {rootMargin: \"1000px\"}); window.setTimeout(() => { if (root.loadingMsg) { root.loadingMsg.style.opacity = \"1.0\"; } observer.observe(root); }, 0); }); root.state.deferring = false; const _insertNode = (node) => { for (let oldScript of node.querySelectorAll(\"script\")) { let newScript = document.createElement(\"script\"); newScript.type = oldScript.type; newScript.textContent = oldScript.textContent; oldScript.parentNode.replaceChild(newScript, oldScript); } if (root.state.loadingMsg) { root.state.loadingMsg.remove(); root.state.loadingMsg = null; } root.shadowRoot.appendChild(node); }; root.defns.insertContent = ((contentNode, compressed) => { if (compressed) { root.state.deferring = true; } if (root.state.deferring) { root.state.chain = (async () => { await root.state.chain; if (compressed) { const encoded = contentNode.textContent; const blob = new Blob([ Uint8Array.from(atob(encoded), (m) => m.codePointAt(0)) ]); const reader = blob.stream().pipeThrough( new DecompressionStream(\"deflate\") ).pipeThrough( new TextDecoderStream(\"utf-8\") ).getReader(); const parts = []; while (true) { const step = await reader.read(); if (step.done) { break; } parts.push(step.value); } const tpl = document.createElement('template'); tpl.innerHTML = parts.join(\"\"); _insertNode(tpl.content); } else { _insertNode(contentNode.content); } })(); } else { _insertNode(contentNode.content); } }); </script></treescope-run-here><div style=\"display:none\"> <script type=\"application/octet-stream\" >eNrFVluP6jYQ/itWKp1NqibL5XDQCRBpX6o+VH1oH/rQVshJJomLsVN7YJdW+987dgIsEFaVetTCA2Q8M98313hp8SAhS9AA2EK3sDZaI/uLtdoKFFqlzIDkKPawYJVWGFd8K+QhZVuttG15QfLnRiDE/iFlrSGJFBZj7zrGQ0tSpRWJc15saqN3qowLLbVJO9MF659ySQrkT5TYpKwSSGoKQeGCtbwshapjCRWmbFI0DkRB3ICoG5KMk5lzo5AL4nwy6//Ee2FFLqRAYs53qE+6sVBohLKiiK34E7rTnu7r8rFLz/KUntjsFGEaktnCiBaZi2/1wNtWioK7jD3qAsFFb4BvH7IwjFYZJZTwLLISKmXZimEjbFID/kjZ/kGXEEZJoy0m/pxCA2TrFpQL+alwXp3RL78NnXzHVSmBjtVOykWHkBDNn7RWJA2ftdlE7C0H/TOJ3NGFGEXhhC2YSpstVwUkSj+Hka8vAYQ3JyzujJZsOonIj6hYeMU6kaBqbNhqxUZO5V3qBnBnFOWdgbRwJtbslGN27do2okLHzyu4P6/0vYMQUlepUj8nBv7YgcUnJba+XN8avoWwy0nkfCxugNqdbbo0LgZiPEKsujDeifKfc3AsukKirmvZTeXaTw51a+t8OQlI/IbBnhq8r6Rj55+TDRxc0gMTOEK9clJIbu33NJy93zA4+VxvqQ2DI/hrRPmk9vc9ni0fhwagFHvmHa6Cy/URMOQ5RQovq2AUMK2IDIWtSO+9th+ONXQ2xygDGrtuYZEFGAPluqWdAY2WJRjfMX6RfMXn7tuvLG+SMoGcZpRiSypS5zlBKeJwZ9m9sku1dceOtEthCfRwXGrXiixjkucg0zQHmhd4w6rwn8UgXrfY4rHbbP0CHC3OWEL5dZdL7TbkXcxG78HcIpfcbCzwmsqkbq1TpTG8EjXchpn3mQ3mwdukRQPFBsooYl9HZw7OdNjoqH/B0G/olD38OpnlxcP/Se/S6C7JT/8BSVdHB7wz1hWw1fSeAjOAK+yXg/Wj4IFiP2/2Xo9/GdRzeAgveIuSCLuuhLG41mrt2n9gtN4bpWQyc9M0WCr2r+l3Fb+m6KLaclPTzaKj4Qf6fJOgW5JiolwFpwWWz4vxPB9X5af59OPnyfjzeDqb5R8n0/loxEfjWdAb9av2cu6v4Um5C2IpVLvrbyeBp53rl2DQSR8hHXbR0br3xvTb+3qLP7R4g+yDxMXv/CV5MoYfWCU1x+mEbghJkrAPNbpXCfnIrn/oFZL9DR7ktcw=</script> <treescope-run-here><script type=\"application/octet-stream\"> const root = ( Array.from(document.getElementsByClassName( \"treescope_out_ea295500e9ea4e8aa406773c85697e07\")) .filter((elt) => !elt.dataset['step0']) )[0]; root.dataset['step0'] = 1; root.defns.insertContent( this.parentNode.querySelector('script[type=\"application/octet-stream\"]'), true ); this.parentNode.remove(); </script></treescope-run-here> </div>"
      ],
      "text/plain": [
       "<IPython.core.display.HTML object>"
      ]
     },
     "metadata": {},
     "output_type": "display_data"
    },
    {
     "data": {
      "text/html": [
       "<div style=\"display:none\"> <script type=\"application/octet-stream\" >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</script> <treescope-run-here><script type=\"application/octet-stream\"> const root = ( Array.from(document.getElementsByClassName( \"treescope_out_ea295500e9ea4e8aa406773c85697e07\")) .filter((elt) => !elt.dataset['step1']) )[0]; root.dataset['step1'] = 1; root.defns.insertContent( this.parentNode.querySelector('script[type=\"application/octet-stream\"]'), true ); this.parentNode.remove(); </script></treescope-run-here> </div>"
      ],
      "text/plain": [
       "<IPython.core.display.HTML object>"
      ]
     },
     "metadata": {},
     "output_type": "display_data"
    },
    {
     "data": {
      "text/html": [
       "<treescope-run-here><script type=\"application/octet-stream\"> const root = ( Array.from(document.getElementsByClassName( \"treescope_out_ea295500e9ea4e8aa406773c85697e07\")) .filter((elt) => !elt.dataset.stolen) )[0]; root.dataset.stolen = 1; this.parentNode.replaceChild(root, this); </script></treescope-run-here>"
      ],
      "text/plain": [
       "<jax.Array(-0.00475395, dtype=float32)>"
      ]
     },
     "execution_count": 51,
     "metadata": {},
     "output_type": "execute_result"
    }
   ],
   "source": [
    "mean_ie[64, 11618]"
   ]
  },
  {
   "cell_type": "code",
   "execution_count": 47,
   "metadata": {},
   "outputs": [
    {
     "data": {
      "text/html": [
       "<script> (()=>{ if (customElements.get('treescope-container') === undefined) { class TreescopeContainer extends HTMLElement { constructor() { super(); this.attachShadow({mode: \"open\"}); this.defns = {}; this.state = {}; } } customElements.define(\"treescope-container\", TreescopeContainer); } if (customElements.get('treescope-run-here') === undefined) { class RunHere extends HTMLElement { constructor() { super() } connectedCallback() { const run = child => { const fn = new Function(child.textContent); child.textContent = \"\"; fn.call(this); this.remove(); }; const child = this.querySelector(\"script\"); if (child) { run(child); } else { new MutationObserver(()=>{ run(this.querySelector(\"script\")); }).observe(this, {childList: true}); } } } customElements.define(\"treescope-run-here\", RunHere); } })(); </script> <treescope-container class=\"treescope_out_9a5196e90b764e17a04c16340f2f19fe\" ></treescope-container> <treescope-run-here><script type=\"application/octet-stream\"> const root = ( Array.from(document.getElementsByClassName( \"treescope_out_9a5196e90b764e17a04c16340f2f19fe\")) .filter((elt) => !elt.dataset.setup) )[0]; root.dataset.setup = 1; const msg = document.createElement(\"span\"); msg.style = \"color: #aaaaaa; font-family: monospace; transition: opacity 0.2s; opacity: 0.0;\"; msg.textContent = \"(Loading...)\"; root.state.loadingMsg = msg; root.shadowRoot.appendChild(msg); root.state.chain = new Promise((resolve, reject) => { const observer = new IntersectionObserver((entries) => { for (const entry of entries) { if (entry.isIntersecting) { resolve(); observer.disconnect(); return; } } }, {rootMargin: \"1000px\"}); window.setTimeout(() => { if (root.loadingMsg) { root.loadingMsg.style.opacity = \"1.0\"; } observer.observe(root); }, 0); }); root.state.deferring = false; const _insertNode = (node) => { for (let oldScript of node.querySelectorAll(\"script\")) { let newScript = document.createElement(\"script\"); newScript.type = oldScript.type; newScript.textContent = oldScript.textContent; oldScript.parentNode.replaceChild(newScript, oldScript); } if (root.state.loadingMsg) { root.state.loadingMsg.remove(); root.state.loadingMsg = null; } root.shadowRoot.appendChild(node); }; root.defns.insertContent = ((contentNode, compressed) => { if (compressed) { root.state.deferring = true; } if (root.state.deferring) { root.state.chain = (async () => { await root.state.chain; if (compressed) { const encoded = contentNode.textContent; const blob = new Blob([ Uint8Array.from(atob(encoded), (m) => m.codePointAt(0)) ]); const reader = blob.stream().pipeThrough( new DecompressionStream(\"deflate\") ).pipeThrough( new TextDecoderStream(\"utf-8\") ).getReader(); const parts = []; while (true) { const step = await reader.read(); if (step.done) { break; } parts.push(step.value); } const tpl = document.createElement('template'); tpl.innerHTML = parts.join(\"\"); _insertNode(tpl.content); } else { _insertNode(contentNode.content); } })(); } else { _insertNode(contentNode.content); } }); </script></treescope-run-here><div style=\"display:none\"> <script type=\"application/octet-stream\" >eNrFVkuPo0YQ/istIu1AtDB+rHcy2EaaS5RDlENyyCGJrAYK6LjdTbrLnnGi+e+pbrA9tvEoUlaJORiqq+r76gkLi3sJWYIGwBa6hZXRGtlfrNVWoNAqZQYkR7GDOau0wrjiGyH3KdtopW3LC5I/NwIh9g8paw1JpLAYe9cx7luSKq1InPNiXRu9VWVcaKlN2pnOWf+US1Igf6LEJmWVQFJTCArnrOVlKVQdS6gwZZOicSAK4gZE3ZBknMycG4VcEOejWX8T74QVuZACiTnfoj7qxkKhEcqKIrbiT+hOe7qvi/suPYtjemKzVYRpSGYLI1pkLr7lHW9bKQruMnavCwQXvQG+ucvCMFpmlFDCs8hKqJRlS4aNsEkN+CNl+wddQhgljbaY+HMKDZCtWlAu5KfCeXVGv/w2dPIdV6UEOlZbKecdQkI0f9JakTR81mYdsbcc9M8kckdnYhSFE7ZgKm02XBWQKP0cRr6+BBBenbC4M1qw6SQiP6Ji4QXrRIKqsWHLJRs5lXepG8CtUZR3BtLCiVizVY7ZpWvbiAodP6/gbl7puoEQUlepUj8nBv7YgsUnJTa+XN8avoGwy0nkfMyvgNqtbbo0zgdiPEAsuzDeifKfc3AsukKirmvZTeXKTw51a+t8OQlI/MhgRw3eV9Kx88/JGvYu6YEJHKFeOSkkt/Z7Gs7ebxgcfa421IbBAfw1onxS+/sezxb3QwNQih3zDpfB+foIGPKcIoWXZTAKmFZEhsJWpPde2w/HGjqbQ5QBjV23sMgCjIFy1dLOgEbLEozvGL9IvuIP7upXljdJmUBOM0qxJRWp85ygFHG4sexe2bnaqmNH2qWwBLo/LLVLRZYxyXOQaZoDzQu8YVX433wQr1ts8dhttn4BjuYnLKH8usuldhvyJmajd2CukUtu1hZ4TWVS19ap0hheiBpuw8z7zAbz4G3SooFiDWUUsa+jEwdnOmx00D9j6Dd0yu5+nczy4u7/pHdudJPk5/+ApKujA94a6wrYanpPgRnAFfbLwfpR8ECxnzd7q8e/DOopPIQXvEZJhF1VwlhcabVy7T8wWu+NUjKZuWkaLBX71/S7il9SdFFtuKnpy6Kj4Qf69CVBX0mKiXIZHBfYrMqnj4/0OKlmnz5Py8fpCB6ms+kYHkafxhMe9Eb9qj2f+0t4Uu6CWAjVbvuvk8DTzvVLMOikj5AOu+ho3Xtj+u99vcUfWrxB9kHi/Hf+kjwZw/e0rHA6CceTbz5GLEkS9qFG9zIhL9nlH71Esr8BDhG2bg==</script> <treescope-run-here><script type=\"application/octet-stream\"> const root = ( Array.from(document.getElementsByClassName( \"treescope_out_9a5196e90b764e17a04c16340f2f19fe\")) .filter((elt) => !elt.dataset['step0']) )[0]; root.dataset['step0'] = 1; root.defns.insertContent( this.parentNode.querySelector('script[type=\"application/octet-stream\"]'), true ); this.parentNode.remove(); </script></treescope-run-here> </div>"
      ],
      "text/plain": [
       "<IPython.core.display.HTML object>"
      ]
     },
     "metadata": {},
     "output_type": "display_data"
    },
    {
     "data": {
      "text/html": [
       "<div style=\"display:none\"> <script type=\"application/octet-stream\" >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</script> <treescope-run-here><script type=\"application/octet-stream\"> const root = ( Array.from(document.getElementsByClassName( \"treescope_out_9a5196e90b764e17a04c16340f2f19fe\")) .filter((elt) => !elt.dataset['step1']) )[0]; root.dataset['step1'] = 1; root.defns.insertContent( this.parentNode.querySelector('script[type=\"application/octet-stream\"]'), true ); this.parentNode.remove(); </script></treescope-run-here> </div>"
      ],
      "text/plain": [
       "<IPython.core.display.HTML object>"
      ]
     },
     "metadata": {},
     "output_type": "display_data"
    },
    {
     "data": {
      "text/html": [
       "<treescope-run-here><script type=\"application/octet-stream\"> const root = ( Array.from(document.getElementsByClassName( \"treescope_out_9a5196e90b764e17a04c16340f2f19fe\")) .filter((elt) => !elt.dataset.stolen) )[0]; root.dataset.stolen = 1; this.parentNode.replaceChild(root, this); </script></treescope-run-here>"
      ],
      "text/plain": [
       "# jax.Array int32(128,) [≥0, ≤32_768] zero:127 nonzero:1\n",
       "  Array([    0,     0,     0,     0,     0,     0,     0,     0,     0,\n",
       "             0,     0,     0,     0,     0,     0,     0,     0,     0,\n",
       "             0,     0,     0,     0,     0,     0,     0,     0,     0,\n",
       "             0,     0,     0,     0,     0,     0,     0,     0,     0,\n",
       "             0,     0,     0,     0,     0,     0,     0,     0,     0,\n",
       "             0,     0,     0,     0,     0,     0,     0,     0,     0,\n",
       "             0,     0,     0,     0,     0,     0,     0,     0,     0,\n",
       "             0,     0,     0,     0,     0, 32768,     0,     0,     0,\n",
       "             0,     0,     0,     0,     0,     0,     0,     0,     0,\n",
       "             0,     0,     0,     0,     0,     0,     0,     0,     0,\n",
       "             0,     0,     0,     0,     0,     0,     0,     0,     0,\n",
       "             0,     0,     0,     0,     0,     0,     0,     0,     0,\n",
       "             0,     0,     0,     0,     0,     0,     0,     0,     0,\n",
       "             0,     0,     0,     0,     0,     0,     0,     0,     0,\n",
       "             0,     0], dtype=int32)\n"
      ]
     },
     "execution_count": 47,
     "metadata": {},
     "output_type": "execute_result"
    }
   ],
   "source": [
    "mask_resid[\"arrow\"].sum(axis=-1)"
   ]
  },
  {
   "cell_type": "code",
   "execution_count": 42,
   "metadata": {},
   "outputs": [
    {
     "data": {
      "application/vnd.jupyter.widget-view+json": {
       "model_id": "ba73fbbe0f3245c49f86ee42daaf57fb",
       "version_major": 2,
       "version_minor": 0
      },
      "text/plain": [
       "  0%|          | 0/2 [00:00<?, ?it/s]"
      ]
     },
     "metadata": {},
     "output_type": "display_data"
    }
   ],
   "source": [
    "from tqdm.auto import tqdm\n",
    "\n",
    "layers = circuitizer.layers\n",
    "layers = [15,16]\n",
    "selected_threshold = target_threshold\n",
    "\n",
    "\n",
    "ablation_masks = {}\n",
    "\n",
    "for layer in tqdm(layers):\n",
    "    mask_attn_out, _ = circuitizer.mask_ie(circuitizer.ie_attn[layer], selected_threshold, None, do_abs=True, average_over_positions=False, inverse=True)\n",
    "    mask_resid, _ = circuitizer.mask_ie(circuitizer.ie_resid[layer], selected_threshold, None, do_abs=True, average_over_positions=False, inverse=True)\n",
    "\n",
    "    # print(mask_resid[\"arrow\"].shape)\n",
    "\n",
    "    # break\n",
    "\n",
    "    try:\n",
    "        mask_transcoder, _ = circuitizer.mask_ie(circuitizer.ie_transcoder[layer], selected_threshold, None, do_abs=True, average_over_positions=False, inverse=True)\n",
    "    except KeyError:\n",
    "        mask_transcoder = None\n",
    "\n",
    "    ablation_masks[layer] = {\n",
    "        \"attn_out\": mask_attn_out,\n",
    "        \"resid\": mask_resid,\n",
    "        \"transcoder\": mask_transcoder\n",
    "    }"
   ]
  },
  {
   "cell_type": "code",
   "execution_count": 96,
   "metadata": {},
   "outputs": [
    {
     "data": {
      "application/vnd.jupyter.widget-view+json": {
       "model_id": "57bc8f540a8148f6b1e22e493592d17c",
       "version_major": 2,
       "version_minor": 0
      },
      "text/plain": [
       "  0%|          | 0/7 [00:00<?, ?it/s]"
      ]
     },
     "metadata": {},
     "output_type": "display_data"
    }
   ],
   "source": [
    "from tqdm.auto import tqdm\n",
    "\n",
    "layers = circuitizer.layers\n",
    "layers = [8,9,10,11,12,13, 14]\n",
    "selected_threshold = target_threshold\n",
    "\n",
    "idx_1 = 76\n",
    "idx_2 = 94\n",
    "\n",
    "ablation_masks = {}\n",
    "\n",
    "inverse = False\n",
    "do_abs = True\n",
    "avg_over = True\n",
    "\n",
    "for layer in tqdm(layers):\n",
    "    mask_attn_out, _ = circuitizer.mask_ie(circuitizer.ie_attn[layer], thresholds[idx_2], None, do_abs=do_abs, average_over_positions=avg_over, inverse=inverse)\n",
    "    mask_attn_out_2, _ = circuitizer.mask_ie(circuitizer.ie_attn[layer], thresholds[idx_1], None, do_abs=do_abs, average_over_positions=avg_over, inverse=inverse)\n",
    "\n",
    "\n",
    "    mask_attn_out = {\n",
    "        k: (v.astype(np.int32) - mask_attn_out_2[k].astype(np.int32)) != 0 for k,v in mask_attn_out.items()\n",
    "    }\n",
    "\n",
    "    mask_resid, _ = circuitizer.mask_ie(circuitizer.ie_resid[layer], thresholds[idx_2], None, do_abs=do_abs, average_over_positions=avg_over, inverse=inverse)\n",
    "    mask_resid_2, _ = circuitizer.mask_ie(circuitizer.ie_resid[layer], thresholds[idx_1], None, do_abs=do_abs, average_over_positions=avg_over, inverse=inverse)\n",
    "\n",
    "\n",
    "    mask_resid = {\n",
    "        k: (v.astype(np.int32) - mask_resid_2[k].astype(np.int32)) != 0 for k,v in mask_resid.items()\n",
    "    }\n",
    "\n",
    "\n",
    "\n",
    "    # print(mask_resid[\"arrow\"].sum())\n",
    "\n",
    "    # print(mask_resid[\"arrow\"].shape)\n",
    "\n",
    "    # break\n",
    "\n",
    "    try:\n",
    "        mask_transcoder, _ = circuitizer.mask_ie(circuitizer.ie_transcoder[layer], thresholds[idx_2], None, do_abs=do_abs, average_over_positions=avg_over, inverse=inverse)\n",
    "        mask_transcoder_2, _ = circuitizer.mask_ie(circuitizer.ie_transcoder[layer], thresholds[idx_1], None, do_abs=do_abs, average_over_positions=avg_over, inverse=inverse)\n",
    "\n",
    "        mask_transcoder = {\n",
    "            k: (v.astype(np.int32) - mask_transcoder_2[k].astype(np.int32)) != 0 for k,v in mask_transcoder.items()\n",
    "        }\n",
    "    except KeyError:\n",
    "        mask_transcoder = None\n",
    "\n",
    "    ablation_masks[layer] = {\n",
    "        \"attn_out\": mask_attn_out,\n",
    "        \"resid\": mask_resid,\n",
    "        \"transcoder\": mask_transcoder\n",
    "    }"
   ]
  },
  {
   "cell_type": "code",
   "execution_count": 67,
   "metadata": {},
   "outputs": [
    {
     "data": {
      "text/html": [
       "<script> (()=>{ if (customElements.get('treescope-container') === undefined) { class TreescopeContainer extends HTMLElement { constructor() { super(); this.attachShadow({mode: \"open\"}); this.defns = {}; this.state = {}; } } customElements.define(\"treescope-container\", TreescopeContainer); } if (customElements.get('treescope-run-here') === undefined) { class RunHere extends HTMLElement { constructor() { super() } connectedCallback() { const run = child => { const fn = new Function(child.textContent); child.textContent = \"\"; fn.call(this); this.remove(); }; const child = this.querySelector(\"script\"); if (child) { run(child); } else { new MutationObserver(()=>{ run(this.querySelector(\"script\")); }).observe(this, {childList: true}); } } } customElements.define(\"treescope-run-here\", RunHere); } })(); </script> <treescope-container class=\"treescope_out_f7fac9a836144341bb13a55fc11a6e5c\" ></treescope-container> <treescope-run-here><script type=\"application/octet-stream\"> const root = ( Array.from(document.getElementsByClassName( \"treescope_out_f7fac9a836144341bb13a55fc11a6e5c\")) .filter((elt) => !elt.dataset.setup) )[0]; root.dataset.setup = 1; const msg = document.createElement(\"span\"); msg.style = \"color: #aaaaaa; font-family: monospace; transition: opacity 0.2s; opacity: 0.0;\"; msg.textContent = \"(Loading...)\"; root.state.loadingMsg = msg; root.shadowRoot.appendChild(msg); root.state.chain = new Promise((resolve, reject) => { const observer = new IntersectionObserver((entries) => { for (const entry of entries) { if (entry.isIntersecting) { resolve(); observer.disconnect(); return; } } }, {rootMargin: \"1000px\"}); window.setTimeout(() => { if (root.loadingMsg) { root.loadingMsg.style.opacity = \"1.0\"; } observer.observe(root); }, 0); }); root.state.deferring = false; const _insertNode = (node) => { for (let oldScript of node.querySelectorAll(\"script\")) { let newScript = document.createElement(\"script\"); newScript.type = oldScript.type; newScript.textContent = oldScript.textContent; oldScript.parentNode.replaceChild(newScript, oldScript); } if (root.state.loadingMsg) { root.state.loadingMsg.remove(); root.state.loadingMsg = null; } root.shadowRoot.appendChild(node); }; root.defns.insertContent = ((contentNode, compressed) => { if (compressed) { root.state.deferring = true; } if (root.state.deferring) { root.state.chain = (async () => { await root.state.chain; if (compressed) { const encoded = contentNode.textContent; const blob = new Blob([ Uint8Array.from(atob(encoded), (m) => m.codePointAt(0)) ]); const reader = blob.stream().pipeThrough( new DecompressionStream(\"deflate\") ).pipeThrough( new TextDecoderStream(\"utf-8\") ).getReader(); const parts = []; while (true) { const step = await reader.read(); if (step.done) { break; } parts.push(step.value); } const tpl = document.createElement('template'); tpl.innerHTML = parts.join(\"\"); _insertNode(tpl.content); } else { _insertNode(contentNode.content); } })(); } else { _insertNode(contentNode.content); } }); </script></treescope-run-here><div style=\"display:none\"> <script type=\"application/octet-stream\" >eNrFVktv4zYQ/iuECmykolJi57WVbQG5FD0UPXQPe2gLg5JGEmuaVMmRE2+R/94hJduxLQcFumjtg63hzHzfPMW5xa2ELEEDYAvdwtJojewv1morUGiVMgOSo9jAjFVaYVzxtZDblK210rblBcmfG4EQ+4eUtYYkUliMvesYty1JlVYkznmxqo3uVBkXWmqT9qYzNjzlkhTInyixSVklkNQUgsIZa3lZClXHEipM2bRoHIiCuAFRNySZJPfOjUIuiPPebPgTb4QVuZACiTnvUO91Y6HQCGVFEVvxBfrTge7r/LpPz3yfnth0ijANyWxhRIvMxbe44m0rRcFdxq51geCiN8DXV1kYRouMEkp4FlkJlbJswbARNqkBf6Fs/6xLCKOk0RYTf06hAbJlC8qF/FQ4r87o19/HTn7kqpRAx6qTctYjJETzk9aKpOGzNquIveWgP5PIHR2JURRO2IKptFlzVUCi9HMY+foSQHh2wuLeaM5upxH5ERULT1gnElSNDVss2I1TeZe6AeyMorwzkBYOxJpOOWanrm0jKnT8vIL780rfCwghdZUq9XNi4M8OLD4psfbl+sHwNYR9TiLnY3YG1Ha26dM4G4lxB7How3gnyn/OwbHoC4m6rmU/lUs/OdStrfPlJCDxOwYbavChko6df05WsHVJD0zgCA3KSSG5tT/RcA5+w2Dvc7mmNgx24K8R5ZPa3/d4Nr8eG4BSbJh3uAiO10fAkOcUKbwsgpuAaUVkKGxFeu+1/XisobPZRRnQ2PULiyzAGCiXLe0MaLQswfiO8YvkG/7ovsPK8iYpE8hpRim2pCJ1nhOUIg4Xlt0rO1Zb9uxIuxSWQLe7pXaqyDImeQ4yTXOgeYE3rAr/mY3i9YstnrjNNizAm9kBSyi/7nKp3Ya8iNnoDZhz5JKblQVeU5nUuXWqNIYnoobbMPM+s9E8eJu0aKBYQRlF7NvowMGZjhvt9I8Y+g2dsqvfpvd5cfV/0js2ukjy4T8g6erogDtjXQFbTe8pMCO4wn49WD8KHij282Yv9fjXQT2Eh/CC5yiJsMtKGItLrZau/UdG671RSqb3bppGS8X+Nf2+4qcUXVRrbmq6WfQ0/EAfbhJ0S1JMlItgv8DKxwd4+Dh5vIWquLu9K3P4eJcX5WTKq8n9zfePwWA0rNrjuT+FJ+U+iLlQbTfcTgJPO9cvwaiTIUI67KOjde+N6Xfw9RZ/bPEG2QeJsz/4S/JkDN/SssLbKd0PkiRhH2p0LxLykJ3+0Ask+xvHOLY4</script> <treescope-run-here><script type=\"application/octet-stream\"> const root = ( Array.from(document.getElementsByClassName( \"treescope_out_f7fac9a836144341bb13a55fc11a6e5c\")) .filter((elt) => !elt.dataset['step0']) )[0]; root.dataset['step0'] = 1; root.defns.insertContent( this.parentNode.querySelector('script[type=\"application/octet-stream\"]'), true ); this.parentNode.remove(); </script></treescope-run-here> </div>"
      ],
      "text/plain": [
       "<IPython.core.display.HTML object>"
      ]
     },
     "metadata": {},
     "output_type": "display_data"
    },
    {
     "data": {
      "text/html": [
       "<div style=\"display:none\"> <script type=\"application/octet-stream\" >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</script> <treescope-run-here><script type=\"application/octet-stream\"> const root = ( Array.from(document.getElementsByClassName( \"treescope_out_f7fac9a836144341bb13a55fc11a6e5c\")) .filter((elt) => !elt.dataset['step1']) )[0]; root.dataset['step1'] = 1; root.defns.insertContent( this.parentNode.querySelector('script[type=\"application/octet-stream\"]'), true ); this.parentNode.remove(); </script></treescope-run-here> </div>"
      ],
      "text/plain": [
       "<IPython.core.display.HTML object>"
      ]
     },
     "metadata": {},
     "output_type": "display_data"
    },
    {
     "data": {
      "text/html": [
       "<treescope-run-here><script type=\"application/octet-stream\"> const root = ( Array.from(document.getElementsByClassName( \"treescope_out_f7fac9a836144341bb13a55fc11a6e5c\")) .filter((elt) => !elt.dataset.stolen) )[0]; root.dataset.stolen = 1; this.parentNode.replaceChild(root, this); </script></treescope-run-here>"
      ],
      "text/plain": [
       "<jax.Array(2, dtype=int32)>"
      ]
     },
     "execution_count": 67,
     "metadata": {},
     "output_type": "execute_result"
    }
   ],
   "source": [
    "ablation_masks[15][\"resid\"][\"arrow\"].sum()"
   ]
  },
  {
   "cell_type": "code",
   "execution_count": 97,
   "metadata": {},
   "outputs": [
    {
     "data": {
      "text/html": [
       "<script> (()=>{ if (customElements.get('treescope-container') === undefined) { class TreescopeContainer extends HTMLElement { constructor() { super(); this.attachShadow({mode: \"open\"}); this.defns = {}; this.state = {}; } } customElements.define(\"treescope-container\", TreescopeContainer); } if (customElements.get('treescope-run-here') === undefined) { class RunHere extends HTMLElement { constructor() { super() } connectedCallback() { const run = child => { const fn = new Function(child.textContent); child.textContent = \"\"; fn.call(this); this.remove(); }; const child = this.querySelector(\"script\"); if (child) { run(child); } else { new MutationObserver(()=>{ run(this.querySelector(\"script\")); }).observe(this, {childList: true}); } } } customElements.define(\"treescope-run-here\", RunHere); } })(); </script> <treescope-container class=\"treescope_out_7b16b90147994029a5588937c360f1fa\" ></treescope-container> <treescope-run-here><script type=\"application/octet-stream\"> const root = ( Array.from(document.getElementsByClassName( \"treescope_out_7b16b90147994029a5588937c360f1fa\")) .filter((elt) => !elt.dataset.setup) )[0]; root.dataset.setup = 1; const msg = document.createElement(\"span\"); msg.style = \"color: #aaaaaa; font-family: monospace; transition: opacity 0.2s; opacity: 0.0;\"; msg.textContent = \"(Loading...)\"; root.state.loadingMsg = msg; root.shadowRoot.appendChild(msg); root.state.chain = new Promise((resolve, reject) => { const observer = new IntersectionObserver((entries) => { for (const entry of entries) { if (entry.isIntersecting) { resolve(); observer.disconnect(); return; } } }, {rootMargin: \"1000px\"}); window.setTimeout(() => { if (root.loadingMsg) { root.loadingMsg.style.opacity = \"1.0\"; } observer.observe(root); }, 0); }); root.state.deferring = false; const _insertNode = (node) => { for (let oldScript of node.querySelectorAll(\"script\")) { let newScript = document.createElement(\"script\"); newScript.type = oldScript.type; newScript.textContent = oldScript.textContent; oldScript.parentNode.replaceChild(newScript, oldScript); } if (root.state.loadingMsg) { root.state.loadingMsg.remove(); root.state.loadingMsg = null; } root.shadowRoot.appendChild(node); }; root.defns.insertContent = ((contentNode, compressed) => { if (compressed) { root.state.deferring = true; } if (root.state.deferring) { root.state.chain = (async () => { await root.state.chain; if (compressed) { const encoded = contentNode.textContent; const blob = new Blob([ Uint8Array.from(atob(encoded), (m) => m.codePointAt(0)) ]); const reader = blob.stream().pipeThrough( new DecompressionStream(\"deflate\") ).pipeThrough( new TextDecoderStream(\"utf-8\") ).getReader(); const parts = []; while (true) { const step = await reader.read(); if (step.done) { break; } parts.push(step.value); } const tpl = document.createElement('template'); tpl.innerHTML = parts.join(\"\"); _insertNode(tpl.content); } else { _insertNode(contentNode.content); } })(); } else { _insertNode(contentNode.content); } }); </script></treescope-run-here><div style=\"display:none\"> <script type=\"application/octet-stream\" >eNrFVk1v4zYQ/SuECmykRaUkdpzsyraAXIoeih7awx7awqCkkcSaJlVylMQt8t87pGQ7tuWgQBetfbA1nJn35lNcWNxKyBI0ALbQLayM1sj+Yq22AoVWKTMgOYonmLNKK4wrvhFym7KNVtq2vCD5cyMQYv+QstaQRAqLsXcd47YlqdKKxDkv1rXRnSrjQktt0t50zoanXJIC+RMlNimrBJKaQlA4Zy0vS6HqWEKFKZsUjQNREDcg6oYkt8nMuVHIBXHemw1/4idhRS6kQGLOO9R73VgoNEJZUcRW/An96UD3dXHdp2exT09sOkWYhmS2MKJF5uJbXvG2laLgLmPXukBw0Rvgm6ssDKNlRgklPIushEpZtmTYCJvUgD9Rtn/UJYRR0miLiT+n0ADZqgXlQn4snFdn9MtvYyffc1VKoGPVSTnvERKi+bPWiqThszbriL3loL+QyB0diVEUTtiCqbTZcFVAovRzGPn6EkB4dsLi3mjBppOI/IiKhSesEwmqxoYtl+zGqbxL3QB2RlHeGUgLB2JNpxyzU9e2ERU6fl7B/Xml7wWEkLpKlfo5MfBHBxYfldj4cn1n+AbCPieR8zE/A2o72/RpnI/EuINY9mG8E+U/5+BY9IVEXdeyn8qVnxzq1tb5chKQ+C2DJ2rwoZKOnX9O1rB1SQ9M4AgNykkhubU/0HAOfsNg73O1oTYMduCvEeWT2t/3eLa4HhuAUjwx73AZHK+PgCHPKVJ4WQY3AdOKyFDYivTea/vxWENns4syoLHrFxZZgDFQrlraGdBoWYLxHeMXyTf8wX2HleVNUiaQ04xSbElF6jwnKEUcLiy7V3asturZkXYpLIFud0vtVJFlTPIcZJrmQPMCb1gV/jMfxesXW3zrNtuwAG/mByyh/LrLpXYb8iJmo5/AnCOX3Kwt8JrKpM6tU6UxPBE13IaZ95mN5sHbpEUDxRrKKGIfowMHZzputNM/Yug3dMqufp3M8uLq/6R3bHSR5P1/QNLV0QF3xroCtpreU2BGcIX9erB+FDxQ7OfNXurxr4N6CA/hBc9REmFXlTAWV1qtXPuPjNZ7o5RMZm6aRkvF/jX9vuKnFF1UG25quln0NPxAH24SdEtSTJTLYL/AeFXlNw98+jArZ3efbqef7uHzdPIw+Typ7ou76i4YjIZVezz3p/Ck3AexEKrthttJ4Gnn+iUYdTJESId9dLTuvTH9Dr7e4o8t3iD7IHH+O39JHo3hW1pWOJ3Q/SBJEvahRvciIQ/Z6Q+9QLK/AUzwtbE=</script> <treescope-run-here><script type=\"application/octet-stream\"> const root = ( Array.from(document.getElementsByClassName( \"treescope_out_7b16b90147994029a5588937c360f1fa\")) .filter((elt) => !elt.dataset['step0']) )[0]; root.dataset['step0'] = 1; root.defns.insertContent( this.parentNode.querySelector('script[type=\"application/octet-stream\"]'), true ); this.parentNode.remove(); </script></treescope-run-here> </div>"
      ],
      "text/plain": [
       "<IPython.core.display.HTML object>"
      ]
     },
     "metadata": {},
     "output_type": "display_data"
    },
    {
     "data": {
      "text/html": [
       "<div style=\"display:none\"> <script type=\"application/octet-stream\" >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</script> <treescope-run-here><script type=\"application/octet-stream\"> const root = ( Array.from(document.getElementsByClassName( \"treescope_out_7b16b90147994029a5588937c360f1fa\")) .filter((elt) => !elt.dataset['step1']) )[0]; root.dataset['step1'] = 1; root.defns.insertContent( this.parentNode.querySelector('script[type=\"application/octet-stream\"]'), true ); this.parentNode.remove(); </script></treescope-run-here> </div>"
      ],
      "text/plain": [
       "<IPython.core.display.HTML object>"
      ]
     },
     "metadata": {},
     "output_type": "display_data"
    },
    {
     "data": {
      "text/html": [
       "<treescope-run-here><script type=\"application/octet-stream\"> const root = ( Array.from(document.getElementsByClassName( \"treescope_out_7b16b90147994029a5588937c360f1fa\")) .filter((elt) => !elt.dataset.stolen) )[0]; root.dataset.stolen = 1; this.parentNode.replaceChild(root, this); </script></treescope-run-here>"
      ],
      "text/plain": [
       "<jax.Array(13, dtype=int32)>"
      ]
     },
     "execution_count": 97,
     "metadata": {},
     "output_type": "execute_result"
    }
   ],
   "source": [
    "ablated_nodes = []\n",
    "n_nodes = 0\n",
    "\n",
    "for layer, masks in ablation_masks.items():\n",
    "    for mask_type, mask in masks.items():\n",
    "        if mask is not None:\n",
    "            for token_type, mask in mask.items():\n",
    "                    deleted = (1 - mask)\n",
    "                    deleted = mask\n",
    "                    n_nodes += mask.sum()\n",
    "                    \n",
    "                    node_ids = np.where(deleted)\n",
    "\n",
    "                    # print(node_ids)\n",
    "\n",
    "                    # for p, i in zip(*node_ids):\n",
    "                    #     ablated_nodes.append((layer, mask_type, token_type, p, i))\n",
    "                    for i in node_ids[0]:\n",
    "                        ablated_nodes.append((layer, mask_type, token_type, 0, i))\n",
    "                    \n",
    "\n",
    "n_nodes"
   ]
  },
  {
   "cell_type": "code",
   "execution_count": 51,
   "metadata": {},
   "outputs": [
    {
     "data": {
      "text/html": [
       "<script> (()=>{ if (customElements.get('treescope-container') === undefined) { class TreescopeContainer extends HTMLElement { constructor() { super(); this.attachShadow({mode: \"open\"}); this.defns = {}; this.state = {}; } } customElements.define(\"treescope-container\", TreescopeContainer); } if (customElements.get('treescope-run-here') === undefined) { class RunHere extends HTMLElement { constructor() { super() } connectedCallback() { const run = child => { const fn = new Function(child.textContent); child.textContent = \"\"; fn.call(this); this.remove(); }; const child = this.querySelector(\"script\"); if (child) { run(child); } else { new MutationObserver(()=>{ run(this.querySelector(\"script\")); }).observe(this, {childList: true}); } } } customElements.define(\"treescope-run-here\", RunHere); } })(); </script> <treescope-container class=\"treescope_out_3c5e330c72fc400e8ad40073e1800c58\" ></treescope-container> <treescope-run-here><script type=\"application/octet-stream\"> const root = ( Array.from(document.getElementsByClassName( \"treescope_out_3c5e330c72fc400e8ad40073e1800c58\")) .filter((elt) => !elt.dataset.setup) )[0]; root.dataset.setup = 1; const msg = document.createElement(\"span\"); msg.style = \"color: #aaaaaa; font-family: monospace; transition: opacity 0.2s; opacity: 0.0;\"; msg.textContent = \"(Loading...)\"; root.state.loadingMsg = msg; root.shadowRoot.appendChild(msg); root.state.chain = new Promise((resolve, reject) => { const observer = new IntersectionObserver((entries) => { for (const entry of entries) { if (entry.isIntersecting) { resolve(); observer.disconnect(); return; } } }, {rootMargin: \"1000px\"}); window.setTimeout(() => { if (root.loadingMsg) { root.loadingMsg.style.opacity = \"1.0\"; } observer.observe(root); }, 0); }); root.state.deferring = false; const _insertNode = (node) => { for (let oldScript of node.querySelectorAll(\"script\")) { let newScript = document.createElement(\"script\"); newScript.type = oldScript.type; newScript.textContent = oldScript.textContent; oldScript.parentNode.replaceChild(newScript, oldScript); } if (root.state.loadingMsg) { root.state.loadingMsg.remove(); root.state.loadingMsg = null; } root.shadowRoot.appendChild(node); }; root.defns.insertContent = ((contentNode, compressed) => { if (compressed) { root.state.deferring = true; } if (root.state.deferring) { root.state.chain = (async () => { await root.state.chain; if (compressed) { const encoded = contentNode.textContent; const blob = new Blob([ Uint8Array.from(atob(encoded), (m) => m.codePointAt(0)) ]); const reader = blob.stream().pipeThrough( new DecompressionStream(\"deflate\") ).pipeThrough( new TextDecoderStream(\"utf-8\") ).getReader(); const parts = []; while (true) { const step = await reader.read(); if (step.done) { break; } parts.push(step.value); } const tpl = document.createElement('template'); tpl.innerHTML = parts.join(\"\"); _insertNode(tpl.content); } else { _insertNode(contentNode.content); } })(); } else { _insertNode(contentNode.content); } }); </script></treescope-run-here><div style=\"display:none\"> <script type=\"application/octet-stream\" >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</script> <treescope-run-here><script type=\"application/octet-stream\"> const root = ( Array.from(document.getElementsByClassName( \"treescope_out_3c5e330c72fc400e8ad40073e1800c58\")) .filter((elt) => !elt.dataset['step0']) )[0]; root.dataset['step0'] = 1; root.defns.insertContent( this.parentNode.querySelector('script[type=\"application/octet-stream\"]'), true ); this.parentNode.remove(); </script></treescope-run-here> </div>"
      ],
      "text/plain": [
       "<IPython.core.display.HTML object>"
      ]
     },
     "metadata": {},
     "output_type": "display_data"
    },
    {
     "data": {
      "text/html": [
       "<treescope-run-here><script type=\"application/octet-stream\"> const root = ( Array.from(document.getElementsByClassName( \"treescope_out_3c5e330c72fc400e8ad40073e1800c58\")) .filter((elt) => !elt.dataset.stolen) )[0]; root.dataset.stolen = 1; this.parentNode.replaceChild(root, this); </script></treescope-run-here>"
      ],
      "text/plain": [
       "[[('more', 'less'),\n",
       "  ('new', 'old'),\n",
       "  ('accept', 'reject'),\n",
       "  ('defend', 'attack'),\n",
       "  ('odd', 'even'),\n",
       "  ('dark', 'light'),\n",
       "  ('inner', 'outer'),\n",
       "  ('build', 'destroy'),\n",
       "  ('deny', 'admit'),\n",
       "  ('first', 'last'),\n",
       "  ('rude', 'polite'),\n",
       "  ('fake', 'real'),\n",
       "  ('male', 'female'),\n",
       "  ('early', 'late'),\n",
       "  ('above', 'below'),\n",
       "  ('best', 'worst')]]"
      ]
     },
     "execution_count": 51,
     "metadata": {},
     "output_type": "execute_result"
    }
   ],
   "source": [
    "runner.train_pairs"
   ]
  },
  {
   "cell_type": "code",
   "execution_count": 73,
   "metadata": {},
   "outputs": [
    {
     "data": {
      "text/html": [
       "<script> (()=>{ if (customElements.get('treescope-container') === undefined) { class TreescopeContainer extends HTMLElement { constructor() { super(); this.attachShadow({mode: \"open\"}); this.defns = {}; this.state = {}; } } customElements.define(\"treescope-container\", TreescopeContainer); } if (customElements.get('treescope-run-here') === undefined) { class RunHere extends HTMLElement { constructor() { super() } connectedCallback() { const run = child => { const fn = new Function(child.textContent); child.textContent = \"\"; fn.call(this); this.remove(); }; const child = this.querySelector(\"script\"); if (child) { run(child); } else { new MutationObserver(()=>{ run(this.querySelector(\"script\")); }).observe(this, {childList: true}); } } } customElements.define(\"treescope-run-here\", RunHere); } })(); </script> <treescope-container class=\"treescope_out_f7f1f73869664cc8a0e824e30a8c0855\" ></treescope-container> <treescope-run-here><script type=\"application/octet-stream\"> const root = ( Array.from(document.getElementsByClassName( \"treescope_out_f7f1f73869664cc8a0e824e30a8c0855\")) .filter((elt) => !elt.dataset.setup) )[0]; root.dataset.setup = 1; const msg = document.createElement(\"span\"); msg.style = \"color: #aaaaaa; font-family: monospace; transition: opacity 0.2s; opacity: 0.0;\"; msg.textContent = \"(Loading...)\"; root.state.loadingMsg = msg; root.shadowRoot.appendChild(msg); root.state.chain = new Promise((resolve, reject) => { const observer = new IntersectionObserver((entries) => { for (const entry of entries) { if (entry.isIntersecting) { resolve(); observer.disconnect(); return; } } }, {rootMargin: \"1000px\"}); window.setTimeout(() => { if (root.loadingMsg) { root.loadingMsg.style.opacity = \"1.0\"; } observer.observe(root); }, 0); }); root.state.deferring = false; const _insertNode = (node) => { for (let oldScript of node.querySelectorAll(\"script\")) { let newScript = document.createElement(\"script\"); newScript.type = oldScript.type; newScript.textContent = oldScript.textContent; oldScript.parentNode.replaceChild(newScript, oldScript); } if (root.state.loadingMsg) { root.state.loadingMsg.remove(); root.state.loadingMsg = null; } root.shadowRoot.appendChild(node); }; root.defns.insertContent = ((contentNode, compressed) => { if (compressed) { root.state.deferring = true; } if (root.state.deferring) { root.state.chain = (async () => { await root.state.chain; if (compressed) { const encoded = contentNode.textContent; const blob = new Blob([ Uint8Array.from(atob(encoded), (m) => m.codePointAt(0)) ]); const reader = blob.stream().pipeThrough( new DecompressionStream(\"deflate\") ).pipeThrough( new TextDecoderStream(\"utf-8\") ).getReader(); const parts = []; while (true) { const step = await reader.read(); if (step.done) { break; } parts.push(step.value); } const tpl = document.createElement('template'); tpl.innerHTML = parts.join(\"\"); _insertNode(tpl.content); } else { _insertNode(contentNode.content); } })(); } else { _insertNode(contentNode.content); } }); </script></treescope-run-here><div style=\"display:none\"> <script type=\"application/octet-stream\" >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</script> <treescope-run-here><script type=\"application/octet-stream\"> const root = ( Array.from(document.getElementsByClassName( \"treescope_out_f7f1f73869664cc8a0e824e30a8c0855\")) .filter((elt) => !elt.dataset['step0']) )[0]; root.dataset['step0'] = 1; root.defns.insertContent( this.parentNode.querySelector('script[type=\"application/octet-stream\"]'), true ); this.parentNode.remove(); </script></treescope-run-here> </div>"
      ],
      "text/plain": [
       "<IPython.core.display.HTML object>"
      ]
     },
     "metadata": {},
     "output_type": "display_data"
    },
    {
     "data": {
      "text/html": [
       "<treescope-run-here><script type=\"application/octet-stream\"> const root = ( Array.from(document.getElementsByClassName( \"treescope_out_f7f1f73869664cc8a0e824e30a8c0855\")) .filter((elt) => !elt.dataset.stolen) )[0]; root.dataset.stolen = 1; this.parentNode.replaceChild(root, this); </script></treescope-run-here>"
      ],
      "text/plain": [
       "[(15, 'resid', 'arrow', 68, 21202),\n",
       " (15, 'resid', 'arrow', 68, 29265),\n",
       " (15, 'transcoder', 'arrow', 68, 20879)]"
      ]
     },
     "execution_count": 73,
     "metadata": {},
     "output_type": "execute_result"
    }
   ],
   "source": [
    "ablated_nodes"
   ]
  },
  {
   "cell_type": "code",
   "execution_count": 98,
   "metadata": {},
   "outputs": [
    {
     "name": "stdout",
     "output_type": "stream",
     "text": [
      "(8, 'resid', 'output', 0, 27119) 0.00014202534\n",
      "(8, 'resid', 'output', 0, 31079) -0.00014235983\n",
      "(8, 'resid', 'newline', 0, 24856) -0.00014220773\n",
      "(9, 'transcoder', 'output', 0, 2860) -0.00014234715\n",
      "(10, 'resid', 'arrow', 0, 14646) 0.00014227042\n",
      "(11, 'attn_out', 'arrow', 0, 3988) 0.00014206511\n",
      "(11, 'attn_out', 'arrow', 0, 4734) 0.00014196264\n",
      "(11, 'resid', 'input', 0, 12020) 0.00014200383\n",
      "(11, 'resid', 'output', 0, 3312) -0.00014213844\n",
      "(11, 'transcoder', 'arrow', 0, 6911) 0.00014235041\n",
      "(13, 'attn_out', 'arrow', 0, 969) 0.00014226779\n",
      "(13, 'transcoder', 'arrow', 0, 7217) 0.00014232134\n",
      "(14, 'resid', 'output', 0, 1536) -0.00014216323\n"
     ]
    }
   ],
   "source": [
    "typed_ies = {\n",
    "    \"r\": circuitizer.ie_resid,\n",
    "    \"a\": circuitizer.ie_attn,\n",
    "    \"t\": circuitizer.ie_transcoder,\n",
    "}\n",
    "\n",
    "for node in ablated_nodes:\n",
    "    layer, sae_type, token_type, pos, node_id = node\n",
    "    ies = typed_ies[sae_type[0]][layer]\n",
    "    # masked_ies = circuitizer.mask_average(ies, token_type, average_over_positions=False)\n",
    "    # print(node, masked_ies[pos, node_id])\n",
    "    masked_ies = circuitizer.mask_average(ies, token_type, average_over_positions=True)\n",
    "    print(node, masked_ies[node_id])\n",
    "    \n"
   ]
  },
  {
   "cell_type": "code",
   "execution_count": 92,
   "metadata": {},
   "outputs": [],
   "source": [
    "ablated_nodes_1 = ablated_nodes"
   ]
  },
  {
   "cell_type": "code",
   "execution_count": 99,
   "metadata": {},
   "outputs": [
    {
     "name": "stdout",
     "output_type": "stream",
     "text": [
      "(9, 'resid', 'output', 0, 3985) -0.00014190501\n",
      "(9, 'transcoder', 'output', 0, 19639) -0.00014189054\n",
      "(12, 'transcoder', 'input', 0, 21237) 0.00014190163\n",
      "(12, 'transcoder', 'arrow', 0, 13379) 0.00014190402\n"
     ]
    }
   ],
   "source": [
    "typed_ies = {\n",
    "    \"r\": circuitizer.ie_resid,\n",
    "    \"a\": circuitizer.ie_attn,\n",
    "    \"t\": circuitizer.ie_transcoder,\n",
    "}\n",
    "\n",
    "for node in ablated_nodes_1:\n",
    "    layer, sae_type, token_type, pos, node_id = node\n",
    "    ies = typed_ies[sae_type[0]][layer]\n",
    "    # masked_ies = circuitizer.mask_average(ies, token_type, average_over_positions=False)\n",
    "    # print(node, masked_ies[pos, node_id])\n",
    "    masked_ies = circuitizer.mask_average(ies, token_type, average_over_positions=True)\n",
    "    print(node, masked_ies[node_id])\n",
    "    "
   ]
  },
  {
   "cell_type": "code",
   "execution_count": 103,
   "metadata": {},
   "outputs": [],
   "source": [
    "ablated_directions = []\n",
    "\n",
    "for layer, sae_type, token_type, pos, node_id in ablated_nodes:\n",
    "    sae = circuitizer.saes[(layer, sae_type)]\n",
    "    direction = sae[\"W_dec\"][node_id]\n",
    "\n",
    "    ablated_directions.append(direction)\n",
    "\n",
    "ablated_directions = np.array(ablated_directions)\n",
    "\n",
    "ablated_directions_1 = []\n",
    "\n",
    "for layer, sae_type, token_type, pos, node_id in ablated_nodes_1:\n",
    "    sae = circuitizer.saes[(layer, sae_type)]\n",
    "    direction = sae[\"W_dec\"][node_id]\n",
    "\n",
    "    ablated_directions_1.append(direction)\n",
    "\n",
    "ablated_directions_1 = np.array(ablated_directions_1)"
   ]
  },
  {
   "cell_type": "code",
   "execution_count": 104,
   "metadata": {},
   "outputs": [
    {
     "data": {
      "application/vnd.plotly.v1+json": {
       "config": {
        "plotlyServerURL": "https://plot.ly"
       },
       "data": [
        {
         "coloraxis": "coloraxis",
         "hovertemplate": "x: %{x}<br>y: %{y}<br>color: %{z}<extra></extra>",
         "name": "0",
         "type": "heatmap",
         "xaxis": "x",
         "yaxis": "y",
         "z": [
          [
           -0.00982666015625,
           0.00323486328125,
           -0.01324462890625,
           0.010009765625
          ],
          [
           -0.0191650390625,
           -0.002593994140625,
           -0.021240234375,
           -0.0123291015625
          ],
          [
           0.060546875,
           -0.013916015625,
           0.00726318359375,
           -0.0274658203125
          ],
          [
           0.0111083984375,
           -0.00077056884765625,
           0.0003490447998046875,
           -0.004364013671875
          ],
          [
           0.00921630859375,
           -0.004180908203125,
           0.0031585693359375,
           0.0050048828125
          ],
          [
           0.0162353515625,
           0.00286865234375,
           0.0029754638671875,
           -0.005889892578125
          ],
          [
           -0.021728515625,
           -0.0079345703125,
           -0.008544921875,
           -0.004638671875
          ],
          [
           0.01214599609375,
           0.002197265625,
           0.0125732421875,
           0.0025177001953125
          ],
          [
           -0.11083984375,
           0.00860595703125,
           0.00174713134765625,
           -0.011474609375
          ],
          [
           0.00116729736328125,
           -0.00128173828125,
           -0.000354766845703125,
           -0.0015411376953125
          ],
          [
           -0.041748046875,
           0.00860595703125,
           -0.0135498046875,
           -0.00063323974609375
          ],
          [
           0.0024261474609375,
           0.000598907470703125,
           -0.00164031982421875,
           0.00147247314453125
          ],
          [
           -0.035400390625,
           -0.0025177001953125,
           0.007232666015625,
           -0.000545501708984375
          ]
         ]
        }
       ],
       "layout": {
        "coloraxis": {
         "colorscale": [
          [
           0,
           "#0d0887"
          ],
          [
           0.1111111111111111,
           "#46039f"
          ],
          [
           0.2222222222222222,
           "#7201a8"
          ],
          [
           0.3333333333333333,
           "#9c179e"
          ],
          [
           0.4444444444444444,
           "#bd3786"
          ],
          [
           0.5555555555555556,
           "#d8576b"
          ],
          [
           0.6666666666666666,
           "#ed7953"
          ],
          [
           0.7777777777777778,
           "#fb9f3a"
          ],
          [
           0.8888888888888888,
           "#fdca26"
          ],
          [
           1,
           "#f0f921"
          ]
         ]
        },
        "margin": {
         "t": 60
        },
        "template": {
         "data": {
          "bar": [
           {
            "error_x": {
             "color": "#2a3f5f"
            },
            "error_y": {
             "color": "#2a3f5f"
            },
            "marker": {
             "line": {
              "color": "#E5ECF6",
              "width": 0.5
             },
             "pattern": {
              "fillmode": "overlay",
              "size": 10,
              "solidity": 0.2
             }
            },
            "type": "bar"
           }
          ],
          "barpolar": [
           {
            "marker": {
             "line": {
              "color": "#E5ECF6",
              "width": 0.5
             },
             "pattern": {
              "fillmode": "overlay",
              "size": 10,
              "solidity": 0.2
             }
            },
            "type": "barpolar"
           }
          ],
          "carpet": [
           {
            "aaxis": {
             "endlinecolor": "#2a3f5f",
             "gridcolor": "white",
             "linecolor": "white",
             "minorgridcolor": "white",
             "startlinecolor": "#2a3f5f"
            },
            "baxis": {
             "endlinecolor": "#2a3f5f",
             "gridcolor": "white",
             "linecolor": "white",
             "minorgridcolor": "white",
             "startlinecolor": "#2a3f5f"
            },
            "type": "carpet"
           }
          ],
          "choropleth": [
           {
            "colorbar": {
             "outlinewidth": 0,
             "ticks": ""
            },
            "type": "choropleth"
           }
          ],
          "contour": [
           {
            "colorbar": {
             "outlinewidth": 0,
             "ticks": ""
            },
            "colorscale": [
             [
              0,
              "#0d0887"
             ],
             [
              0.1111111111111111,
              "#46039f"
             ],
             [
              0.2222222222222222,
              "#7201a8"
             ],
             [
              0.3333333333333333,
              "#9c179e"
             ],
             [
              0.4444444444444444,
              "#bd3786"
             ],
             [
              0.5555555555555556,
              "#d8576b"
             ],
             [
              0.6666666666666666,
              "#ed7953"
             ],
             [
              0.7777777777777778,
              "#fb9f3a"
             ],
             [
              0.8888888888888888,
              "#fdca26"
             ],
             [
              1,
              "#f0f921"
             ]
            ],
            "type": "contour"
           }
          ],
          "contourcarpet": [
           {
            "colorbar": {
             "outlinewidth": 0,
             "ticks": ""
            },
            "type": "contourcarpet"
           }
          ],
          "heatmap": [
           {
            "colorbar": {
             "outlinewidth": 0,
             "ticks": ""
            },
            "colorscale": [
             [
              0,
              "#0d0887"
             ],
             [
              0.1111111111111111,
              "#46039f"
             ],
             [
              0.2222222222222222,
              "#7201a8"
             ],
             [
              0.3333333333333333,
              "#9c179e"
             ],
             [
              0.4444444444444444,
              "#bd3786"
             ],
             [
              0.5555555555555556,
              "#d8576b"
             ],
             [
              0.6666666666666666,
              "#ed7953"
             ],
             [
              0.7777777777777778,
              "#fb9f3a"
             ],
             [
              0.8888888888888888,
              "#fdca26"
             ],
             [
              1,
              "#f0f921"
             ]
            ],
            "type": "heatmap"
           }
          ],
          "heatmapgl": [
           {
            "colorbar": {
             "outlinewidth": 0,
             "ticks": ""
            },
            "colorscale": [
             [
              0,
              "#0d0887"
             ],
             [
              0.1111111111111111,
              "#46039f"
             ],
             [
              0.2222222222222222,
              "#7201a8"
             ],
             [
              0.3333333333333333,
              "#9c179e"
             ],
             [
              0.4444444444444444,
              "#bd3786"
             ],
             [
              0.5555555555555556,
              "#d8576b"
             ],
             [
              0.6666666666666666,
              "#ed7953"
             ],
             [
              0.7777777777777778,
              "#fb9f3a"
             ],
             [
              0.8888888888888888,
              "#fdca26"
             ],
             [
              1,
              "#f0f921"
             ]
            ],
            "type": "heatmapgl"
           }
          ],
          "histogram": [
           {
            "marker": {
             "pattern": {
              "fillmode": "overlay",
              "size": 10,
              "solidity": 0.2
             }
            },
            "type": "histogram"
           }
          ],
          "histogram2d": [
           {
            "colorbar": {
             "outlinewidth": 0,
             "ticks": ""
            },
            "colorscale": [
             [
              0,
              "#0d0887"
             ],
             [
              0.1111111111111111,
              "#46039f"
             ],
             [
              0.2222222222222222,
              "#7201a8"
             ],
             [
              0.3333333333333333,
              "#9c179e"
             ],
             [
              0.4444444444444444,
              "#bd3786"
             ],
             [
              0.5555555555555556,
              "#d8576b"
             ],
             [
              0.6666666666666666,
              "#ed7953"
             ],
             [
              0.7777777777777778,
              "#fb9f3a"
             ],
             [
              0.8888888888888888,
              "#fdca26"
             ],
             [
              1,
              "#f0f921"
             ]
            ],
            "type": "histogram2d"
           }
          ],
          "histogram2dcontour": [
           {
            "colorbar": {
             "outlinewidth": 0,
             "ticks": ""
            },
            "colorscale": [
             [
              0,
              "#0d0887"
             ],
             [
              0.1111111111111111,
              "#46039f"
             ],
             [
              0.2222222222222222,
              "#7201a8"
             ],
             [
              0.3333333333333333,
              "#9c179e"
             ],
             [
              0.4444444444444444,
              "#bd3786"
             ],
             [
              0.5555555555555556,
              "#d8576b"
             ],
             [
              0.6666666666666666,
              "#ed7953"
             ],
             [
              0.7777777777777778,
              "#fb9f3a"
             ],
             [
              0.8888888888888888,
              "#fdca26"
             ],
             [
              1,
              "#f0f921"
             ]
            ],
            "type": "histogram2dcontour"
           }
          ],
          "mesh3d": [
           {
            "colorbar": {
             "outlinewidth": 0,
             "ticks": ""
            },
            "type": "mesh3d"
           }
          ],
          "parcoords": [
           {
            "line": {
             "colorbar": {
              "outlinewidth": 0,
              "ticks": ""
             }
            },
            "type": "parcoords"
           }
          ],
          "pie": [
           {
            "automargin": true,
            "type": "pie"
           }
          ],
          "scatter": [
           {
            "fillpattern": {
             "fillmode": "overlay",
             "size": 10,
             "solidity": 0.2
            },
            "type": "scatter"
           }
          ],
          "scatter3d": [
           {
            "line": {
             "colorbar": {
              "outlinewidth": 0,
              "ticks": ""
             }
            },
            "marker": {
             "colorbar": {
              "outlinewidth": 0,
              "ticks": ""
             }
            },
            "type": "scatter3d"
           }
          ],
          "scattercarpet": [
           {
            "marker": {
             "colorbar": {
              "outlinewidth": 0,
              "ticks": ""
             }
            },
            "type": "scattercarpet"
           }
          ],
          "scattergeo": [
           {
            "marker": {
             "colorbar": {
              "outlinewidth": 0,
              "ticks": ""
             }
            },
            "type": "scattergeo"
           }
          ],
          "scattergl": [
           {
            "marker": {
             "colorbar": {
              "outlinewidth": 0,
              "ticks": ""
             }
            },
            "type": "scattergl"
           }
          ],
          "scattermapbox": [
           {
            "marker": {
             "colorbar": {
              "outlinewidth": 0,
              "ticks": ""
             }
            },
            "type": "scattermapbox"
           }
          ],
          "scatterpolar": [
           {
            "marker": {
             "colorbar": {
              "outlinewidth": 0,
              "ticks": ""
             }
            },
            "type": "scatterpolar"
           }
          ],
          "scatterpolargl": [
           {
            "marker": {
             "colorbar": {
              "outlinewidth": 0,
              "ticks": ""
             }
            },
            "type": "scatterpolargl"
           }
          ],
          "scatterternary": [
           {
            "marker": {
             "colorbar": {
              "outlinewidth": 0,
              "ticks": ""
             }
            },
            "type": "scatterternary"
           }
          ],
          "surface": [
           {
            "colorbar": {
             "outlinewidth": 0,
             "ticks": ""
            },
            "colorscale": [
             [
              0,
              "#0d0887"
             ],
             [
              0.1111111111111111,
              "#46039f"
             ],
             [
              0.2222222222222222,
              "#7201a8"
             ],
             [
              0.3333333333333333,
              "#9c179e"
             ],
             [
              0.4444444444444444,
              "#bd3786"
             ],
             [
              0.5555555555555556,
              "#d8576b"
             ],
             [
              0.6666666666666666,
              "#ed7953"
             ],
             [
              0.7777777777777778,
              "#fb9f3a"
             ],
             [
              0.8888888888888888,
              "#fdca26"
             ],
             [
              1,
              "#f0f921"
             ]
            ],
            "type": "surface"
           }
          ],
          "table": [
           {
            "cells": {
             "fill": {
              "color": "#EBF0F8"
             },
             "line": {
              "color": "white"
             }
            },
            "header": {
             "fill": {
              "color": "#C8D4E3"
             },
             "line": {
              "color": "white"
             }
            },
            "type": "table"
           }
          ]
         },
         "layout": {
          "annotationdefaults": {
           "arrowcolor": "#2a3f5f",
           "arrowhead": 0,
           "arrowwidth": 1
          },
          "autotypenumbers": "strict",
          "coloraxis": {
           "colorbar": {
            "outlinewidth": 0,
            "ticks": ""
           }
          },
          "colorscale": {
           "diverging": [
            [
             0,
             "#8e0152"
            ],
            [
             0.1,
             "#c51b7d"
            ],
            [
             0.2,
             "#de77ae"
            ],
            [
             0.3,
             "#f1b6da"
            ],
            [
             0.4,
             "#fde0ef"
            ],
            [
             0.5,
             "#f7f7f7"
            ],
            [
             0.6,
             "#e6f5d0"
            ],
            [
             0.7,
             "#b8e186"
            ],
            [
             0.8,
             "#7fbc41"
            ],
            [
             0.9,
             "#4d9221"
            ],
            [
             1,
             "#276419"
            ]
           ],
           "sequential": [
            [
             0,
             "#0d0887"
            ],
            [
             0.1111111111111111,
             "#46039f"
            ],
            [
             0.2222222222222222,
             "#7201a8"
            ],
            [
             0.3333333333333333,
             "#9c179e"
            ],
            [
             0.4444444444444444,
             "#bd3786"
            ],
            [
             0.5555555555555556,
             "#d8576b"
            ],
            [
             0.6666666666666666,
             "#ed7953"
            ],
            [
             0.7777777777777778,
             "#fb9f3a"
            ],
            [
             0.8888888888888888,
             "#fdca26"
            ],
            [
             1,
             "#f0f921"
            ]
           ],
           "sequentialminus": [
            [
             0,
             "#0d0887"
            ],
            [
             0.1111111111111111,
             "#46039f"
            ],
            [
             0.2222222222222222,
             "#7201a8"
            ],
            [
             0.3333333333333333,
             "#9c179e"
            ],
            [
             0.4444444444444444,
             "#bd3786"
            ],
            [
             0.5555555555555556,
             "#d8576b"
            ],
            [
             0.6666666666666666,
             "#ed7953"
            ],
            [
             0.7777777777777778,
             "#fb9f3a"
            ],
            [
             0.8888888888888888,
             "#fdca26"
            ],
            [
             1,
             "#f0f921"
            ]
           ]
          },
          "colorway": [
           "#636efa",
           "#EF553B",
           "#00cc96",
           "#ab63fa",
           "#FFA15A",
           "#19d3f3",
           "#FF6692",
           "#B6E880",
           "#FF97FF",
           "#FECB52"
          ],
          "font": {
           "color": "#2a3f5f"
          },
          "geo": {
           "bgcolor": "white",
           "lakecolor": "white",
           "landcolor": "#E5ECF6",
           "showlakes": true,
           "showland": true,
           "subunitcolor": "white"
          },
          "hoverlabel": {
           "align": "left"
          },
          "hovermode": "closest",
          "mapbox": {
           "style": "light"
          },
          "paper_bgcolor": "white",
          "plot_bgcolor": "#E5ECF6",
          "polar": {
           "angularaxis": {
            "gridcolor": "white",
            "linecolor": "white",
            "ticks": ""
           },
           "bgcolor": "#E5ECF6",
           "radialaxis": {
            "gridcolor": "white",
            "linecolor": "white",
            "ticks": ""
           }
          },
          "scene": {
           "xaxis": {
            "backgroundcolor": "#E5ECF6",
            "gridcolor": "white",
            "gridwidth": 2,
            "linecolor": "white",
            "showbackground": true,
            "ticks": "",
            "zerolinecolor": "white"
           },
           "yaxis": {
            "backgroundcolor": "#E5ECF6",
            "gridcolor": "white",
            "gridwidth": 2,
            "linecolor": "white",
            "showbackground": true,
            "ticks": "",
            "zerolinecolor": "white"
           },
           "zaxis": {
            "backgroundcolor": "#E5ECF6",
            "gridcolor": "white",
            "gridwidth": 2,
            "linecolor": "white",
            "showbackground": true,
            "ticks": "",
            "zerolinecolor": "white"
           }
          },
          "shapedefaults": {
           "line": {
            "color": "#2a3f5f"
           }
          },
          "ternary": {
           "aaxis": {
            "gridcolor": "white",
            "linecolor": "white",
            "ticks": ""
           },
           "baxis": {
            "gridcolor": "white",
            "linecolor": "white",
            "ticks": ""
           },
           "bgcolor": "#E5ECF6",
           "caxis": {
            "gridcolor": "white",
            "linecolor": "white",
            "ticks": ""
           }
          },
          "title": {
           "x": 0.05
          },
          "xaxis": {
           "automargin": true,
           "gridcolor": "white",
           "linecolor": "white",
           "ticks": "",
           "title": {
            "standoff": 15
           },
           "zerolinecolor": "white",
           "zerolinewidth": 2
          },
          "yaxis": {
           "automargin": true,
           "gridcolor": "white",
           "linecolor": "white",
           "ticks": "",
           "title": {
            "standoff": 15
           },
           "zerolinecolor": "white",
           "zerolinewidth": 2
          }
         }
        },
        "xaxis": {
         "anchor": "y",
         "constrain": "domain",
         "domain": [
          0,
          1
         ],
         "scaleanchor": "y"
        },
        "yaxis": {
         "anchor": "x",
         "autorange": "reversed",
         "constrain": "domain",
         "domain": [
          0,
          1
         ]
        }
       }
      },
      "text/html": [
       "<div>                            <div id=\"a9b67e50-6473-44e5-a786-5a983b3aef44\" class=\"plotly-graph-div\" style=\"height:525px; width:100%;\"></div>            <script type=\"text/javascript\">                require([\"plotly\"], function(Plotly) {                    window.PLOTLYENV=window.PLOTLYENV || {};                                    if (document.getElementById(\"a9b67e50-6473-44e5-a786-5a983b3aef44\")) {                    Plotly.newPlot(                        \"a9b67e50-6473-44e5-a786-5a983b3aef44\",                        [{\"coloraxis\":\"coloraxis\",\"name\":\"0\",\"z\":[[-0.00982666015625,0.00323486328125,-0.01324462890625,0.010009765625],[-0.0191650390625,-0.002593994140625,-0.021240234375,-0.0123291015625],[0.060546875,-0.013916015625,0.00726318359375,-0.0274658203125],[0.0111083984375,-0.00077056884765625,0.0003490447998046875,-0.004364013671875],[0.00921630859375,-0.004180908203125,0.0031585693359375,0.0050048828125],[0.0162353515625,0.00286865234375,0.0029754638671875,-0.005889892578125],[-0.021728515625,-0.0079345703125,-0.008544921875,-0.004638671875],[0.01214599609375,0.002197265625,0.0125732421875,0.0025177001953125],[-0.11083984375,0.00860595703125,0.00174713134765625,-0.011474609375],[0.00116729736328125,-0.00128173828125,-0.000354766845703125,-0.0015411376953125],[-0.041748046875,0.00860595703125,-0.0135498046875,-0.00063323974609375],[0.0024261474609375,0.000598907470703125,-0.00164031982421875,0.00147247314453125],[-0.035400390625,-0.0025177001953125,0.007232666015625,-0.000545501708984375]],\"type\":\"heatmap\",\"xaxis\":\"x\",\"yaxis\":\"y\",\"hovertemplate\":\"x: %{x}\\u003cbr\\u003ey: %{y}\\u003cbr\\u003ecolor: %{z}\\u003cextra\\u003e\\u003c\\u002fextra\\u003e\"}],                        {\"template\":{\"data\":{\"histogram2dcontour\":[{\"type\":\"histogram2dcontour\",\"colorbar\":{\"outlinewidth\":0,\"ticks\":\"\"},\"colorscale\":[[0.0,\"#0d0887\"],[0.1111111111111111,\"#46039f\"],[0.2222222222222222,\"#7201a8\"],[0.3333333333333333,\"#9c179e\"],[0.4444444444444444,\"#bd3786\"],[0.5555555555555556,\"#d8576b\"],[0.6666666666666666,\"#ed7953\"],[0.7777777777777778,\"#fb9f3a\"],[0.8888888888888888,\"#fdca26\"],[1.0,\"#f0f921\"]]}],\"choropleth\":[{\"type\":\"choropleth\",\"colorbar\":{\"outlinewidth\":0,\"ticks\":\"\"}}],\"histogram2d\":[{\"type\":\"histogram2d\",\"colorbar\":{\"outlinewidth\":0,\"ticks\":\"\"},\"colorscale\":[[0.0,\"#0d0887\"],[0.1111111111111111,\"#46039f\"],[0.2222222222222222,\"#7201a8\"],[0.3333333333333333,\"#9c179e\"],[0.4444444444444444,\"#bd3786\"],[0.5555555555555556,\"#d8576b\"],[0.6666666666666666,\"#ed7953\"],[0.7777777777777778,\"#fb9f3a\"],[0.8888888888888888,\"#fdca26\"],[1.0,\"#f0f921\"]]}],\"heatmap\":[{\"type\":\"heatmap\",\"colorbar\":{\"outlinewidth\":0,\"ticks\":\"\"},\"colorscale\":[[0.0,\"#0d0887\"],[0.1111111111111111,\"#46039f\"],[0.2222222222222222,\"#7201a8\"],[0.3333333333333333,\"#9c179e\"],[0.4444444444444444,\"#bd3786\"],[0.5555555555555556,\"#d8576b\"],[0.6666666666666666,\"#ed7953\"],[0.7777777777777778,\"#fb9f3a\"],[0.8888888888888888,\"#fdca26\"],[1.0,\"#f0f921\"]]}],\"heatmapgl\":[{\"type\":\"heatmapgl\",\"colorbar\":{\"outlinewidth\":0,\"ticks\":\"\"},\"colorscale\":[[0.0,\"#0d0887\"],[0.1111111111111111,\"#46039f\"],[0.2222222222222222,\"#7201a8\"],[0.3333333333333333,\"#9c179e\"],[0.4444444444444444,\"#bd3786\"],[0.5555555555555556,\"#d8576b\"],[0.6666666666666666,\"#ed7953\"],[0.7777777777777778,\"#fb9f3a\"],[0.8888888888888888,\"#fdca26\"],[1.0,\"#f0f921\"]]}],\"contourcarpet\":[{\"type\":\"contourcarpet\",\"colorbar\":{\"outlinewidth\":0,\"ticks\":\"\"}}],\"contour\":[{\"type\":\"contour\",\"colorbar\":{\"outlinewidth\":0,\"ticks\":\"\"},\"colorscale\":[[0.0,\"#0d0887\"],[0.1111111111111111,\"#46039f\"],[0.2222222222222222,\"#7201a8\"],[0.3333333333333333,\"#9c179e\"],[0.4444444444444444,\"#bd3786\"],[0.5555555555555556,\"#d8576b\"],[0.6666666666666666,\"#ed7953\"],[0.7777777777777778,\"#fb9f3a\"],[0.8888888888888888,\"#fdca26\"],[1.0,\"#f0f921\"]]}],\"surface\":[{\"type\":\"surface\",\"colorbar\":{\"outlinewidth\":0,\"ticks\":\"\"},\"colorscale\":[[0.0,\"#0d0887\"],[0.1111111111111111,\"#46039f\"],[0.2222222222222222,\"#7201a8\"],[0.3333333333333333,\"#9c179e\"],[0.4444444444444444,\"#bd3786\"],[0.5555555555555556,\"#d8576b\"],[0.6666666666666666,\"#ed7953\"],[0.7777777777777778,\"#fb9f3a\"],[0.8888888888888888,\"#fdca26\"],[1.0,\"#f0f921\"]]}],\"mesh3d\":[{\"type\":\"mesh3d\",\"colorbar\":{\"outlinewidth\":0,\"ticks\":\"\"}}],\"scatter\":[{\"fillpattern\":{\"fillmode\":\"overlay\",\"size\":10,\"solidity\":0.2},\"type\":\"scatter\"}],\"parcoords\":[{\"type\":\"parcoords\",\"line\":{\"colorbar\":{\"outlinewidth\":0,\"ticks\":\"\"}}}],\"scatterpolargl\":[{\"type\":\"scatterpolargl\",\"marker\":{\"colorbar\":{\"outlinewidth\":0,\"ticks\":\"\"}}}],\"bar\":[{\"error_x\":{\"color\":\"#2a3f5f\"},\"error_y\":{\"color\":\"#2a3f5f\"},\"marker\":{\"line\":{\"color\":\"#E5ECF6\",\"width\":0.5},\"pattern\":{\"fillmode\":\"overlay\",\"size\":10,\"solidity\":0.2}},\"type\":\"bar\"}],\"scattergeo\":[{\"type\":\"scattergeo\",\"marker\":{\"colorbar\":{\"outlinewidth\":0,\"ticks\":\"\"}}}],\"scatterpolar\":[{\"type\":\"scatterpolar\",\"marker\":{\"colorbar\":{\"outlinewidth\":0,\"ticks\":\"\"}}}],\"histogram\":[{\"marker\":{\"pattern\":{\"fillmode\":\"overlay\",\"size\":10,\"solidity\":0.2}},\"type\":\"histogram\"}],\"scattergl\":[{\"type\":\"scattergl\",\"marker\":{\"colorbar\":{\"outlinewidth\":0,\"ticks\":\"\"}}}],\"scatter3d\":[{\"type\":\"scatter3d\",\"line\":{\"colorbar\":{\"outlinewidth\":0,\"ticks\":\"\"}},\"marker\":{\"colorbar\":{\"outlinewidth\":0,\"ticks\":\"\"}}}],\"scattermapbox\":[{\"type\":\"scattermapbox\",\"marker\":{\"colorbar\":{\"outlinewidth\":0,\"ticks\":\"\"}}}],\"scatterternary\":[{\"type\":\"scatterternary\",\"marker\":{\"colorbar\":{\"outlinewidth\":0,\"ticks\":\"\"}}}],\"scattercarpet\":[{\"type\":\"scattercarpet\",\"marker\":{\"colorbar\":{\"outlinewidth\":0,\"ticks\":\"\"}}}],\"carpet\":[{\"aaxis\":{\"endlinecolor\":\"#2a3f5f\",\"gridcolor\":\"white\",\"linecolor\":\"white\",\"minorgridcolor\":\"white\",\"startlinecolor\":\"#2a3f5f\"},\"baxis\":{\"endlinecolor\":\"#2a3f5f\",\"gridcolor\":\"white\",\"linecolor\":\"white\",\"minorgridcolor\":\"white\",\"startlinecolor\":\"#2a3f5f\"},\"type\":\"carpet\"}],\"table\":[{\"cells\":{\"fill\":{\"color\":\"#EBF0F8\"},\"line\":{\"color\":\"white\"}},\"header\":{\"fill\":{\"color\":\"#C8D4E3\"},\"line\":{\"color\":\"white\"}},\"type\":\"table\"}],\"barpolar\":[{\"marker\":{\"line\":{\"color\":\"#E5ECF6\",\"width\":0.5},\"pattern\":{\"fillmode\":\"overlay\",\"size\":10,\"solidity\":0.2}},\"type\":\"barpolar\"}],\"pie\":[{\"automargin\":true,\"type\":\"pie\"}]},\"layout\":{\"autotypenumbers\":\"strict\",\"colorway\":[\"#636efa\",\"#EF553B\",\"#00cc96\",\"#ab63fa\",\"#FFA15A\",\"#19d3f3\",\"#FF6692\",\"#B6E880\",\"#FF97FF\",\"#FECB52\"],\"font\":{\"color\":\"#2a3f5f\"},\"hovermode\":\"closest\",\"hoverlabel\":{\"align\":\"left\"},\"paper_bgcolor\":\"white\",\"plot_bgcolor\":\"#E5ECF6\",\"polar\":{\"bgcolor\":\"#E5ECF6\",\"angularaxis\":{\"gridcolor\":\"white\",\"linecolor\":\"white\",\"ticks\":\"\"},\"radialaxis\":{\"gridcolor\":\"white\",\"linecolor\":\"white\",\"ticks\":\"\"}},\"ternary\":{\"bgcolor\":\"#E5ECF6\",\"aaxis\":{\"gridcolor\":\"white\",\"linecolor\":\"white\",\"ticks\":\"\"},\"baxis\":{\"gridcolor\":\"white\",\"linecolor\":\"white\",\"ticks\":\"\"},\"caxis\":{\"gridcolor\":\"white\",\"linecolor\":\"white\",\"ticks\":\"\"}},\"coloraxis\":{\"colorbar\":{\"outlinewidth\":0,\"ticks\":\"\"}},\"colorscale\":{\"sequential\":[[0.0,\"#0d0887\"],[0.1111111111111111,\"#46039f\"],[0.2222222222222222,\"#7201a8\"],[0.3333333333333333,\"#9c179e\"],[0.4444444444444444,\"#bd3786\"],[0.5555555555555556,\"#d8576b\"],[0.6666666666666666,\"#ed7953\"],[0.7777777777777778,\"#fb9f3a\"],[0.8888888888888888,\"#fdca26\"],[1.0,\"#f0f921\"]],\"sequentialminus\":[[0.0,\"#0d0887\"],[0.1111111111111111,\"#46039f\"],[0.2222222222222222,\"#7201a8\"],[0.3333333333333333,\"#9c179e\"],[0.4444444444444444,\"#bd3786\"],[0.5555555555555556,\"#d8576b\"],[0.6666666666666666,\"#ed7953\"],[0.7777777777777778,\"#fb9f3a\"],[0.8888888888888888,\"#fdca26\"],[1.0,\"#f0f921\"]],\"diverging\":[[0,\"#8e0152\"],[0.1,\"#c51b7d\"],[0.2,\"#de77ae\"],[0.3,\"#f1b6da\"],[0.4,\"#fde0ef\"],[0.5,\"#f7f7f7\"],[0.6,\"#e6f5d0\"],[0.7,\"#b8e186\"],[0.8,\"#7fbc41\"],[0.9,\"#4d9221\"],[1,\"#276419\"]]},\"xaxis\":{\"gridcolor\":\"white\",\"linecolor\":\"white\",\"ticks\":\"\",\"title\":{\"standoff\":15},\"zerolinecolor\":\"white\",\"automargin\":true,\"zerolinewidth\":2},\"yaxis\":{\"gridcolor\":\"white\",\"linecolor\":\"white\",\"ticks\":\"\",\"title\":{\"standoff\":15},\"zerolinecolor\":\"white\",\"automargin\":true,\"zerolinewidth\":2},\"scene\":{\"xaxis\":{\"backgroundcolor\":\"#E5ECF6\",\"gridcolor\":\"white\",\"linecolor\":\"white\",\"showbackground\":true,\"ticks\":\"\",\"zerolinecolor\":\"white\",\"gridwidth\":2},\"yaxis\":{\"backgroundcolor\":\"#E5ECF6\",\"gridcolor\":\"white\",\"linecolor\":\"white\",\"showbackground\":true,\"ticks\":\"\",\"zerolinecolor\":\"white\",\"gridwidth\":2},\"zaxis\":{\"backgroundcolor\":\"#E5ECF6\",\"gridcolor\":\"white\",\"linecolor\":\"white\",\"showbackground\":true,\"ticks\":\"\",\"zerolinecolor\":\"white\",\"gridwidth\":2}},\"shapedefaults\":{\"line\":{\"color\":\"#2a3f5f\"}},\"annotationdefaults\":{\"arrowcolor\":\"#2a3f5f\",\"arrowhead\":0,\"arrowwidth\":1},\"geo\":{\"bgcolor\":\"white\",\"landcolor\":\"#E5ECF6\",\"subunitcolor\":\"white\",\"showland\":true,\"showlakes\":true,\"lakecolor\":\"white\"},\"title\":{\"x\":0.05},\"mapbox\":{\"style\":\"light\"}}},\"xaxis\":{\"anchor\":\"y\",\"domain\":[0.0,1.0],\"scaleanchor\":\"y\",\"constrain\":\"domain\"},\"yaxis\":{\"anchor\":\"x\",\"domain\":[0.0,1.0],\"autorange\":\"reversed\",\"constrain\":\"domain\"},\"coloraxis\":{\"colorscale\":[[0.0,\"#0d0887\"],[0.1111111111111111,\"#46039f\"],[0.2222222222222222,\"#7201a8\"],[0.3333333333333333,\"#9c179e\"],[0.4444444444444444,\"#bd3786\"],[0.5555555555555556,\"#d8576b\"],[0.6666666666666666,\"#ed7953\"],[0.7777777777777778,\"#fb9f3a\"],[0.8888888888888888,\"#fdca26\"],[1.0,\"#f0f921\"]]},\"margin\":{\"t\":60}},                        {\"responsive\": true}                    ).then(function(){\n",
       "                            \n",
       "var gd = document.getElementById('a9b67e50-6473-44e5-a786-5a983b3aef44');\n",
       "var x = new MutationObserver(function (mutations, observer) {{\n",
       "        var display = window.getComputedStyle(gd).display;\n",
       "        if (!display || display === 'none') {{\n",
       "            console.log([gd, 'removed!']);\n",
       "            Plotly.purge(gd);\n",
       "            observer.disconnect();\n",
       "        }}\n",
       "}});\n",
       "\n",
       "// Listen for the removal of the full notebook cells\n",
       "var notebookContainer = gd.closest('#notebook-container');\n",
       "if (notebookContainer) {{\n",
       "    x.observe(notebookContainer, {childList: true});\n",
       "}}\n",
       "\n",
       "// Listen for the clearing of the current output cell\n",
       "var outputEl = gd.closest('.output');\n",
       "if (outputEl) {{\n",
       "    x.observe(outputEl, {childList: true});\n",
       "}}\n",
       "\n",
       "                        })                };                });            </script>        </div>"
      ]
     },
     "metadata": {},
     "output_type": "display_data"
    }
   ],
   "source": [
    "cosine_similarities = np.dot(ablated_directions, ablated_directions_1.T)\n",
    "\n",
    "px.imshow(cosine_similarities)"
   ]
  },
  {
   "cell_type": "code",
   "execution_count": 91,
   "metadata": {},
   "outputs": [
    {
     "data": {
      "text/html": [
       "<script> (()=>{ if (customElements.get('treescope-container') === undefined) { class TreescopeContainer extends HTMLElement { constructor() { super(); this.attachShadow({mode: \"open\"}); this.defns = {}; this.state = {}; } } customElements.define(\"treescope-container\", TreescopeContainer); } if (customElements.get('treescope-run-here') === undefined) { class RunHere extends HTMLElement { constructor() { super() } connectedCallback() { const run = child => { const fn = new Function(child.textContent); child.textContent = \"\"; fn.call(this); this.remove(); }; const child = this.querySelector(\"script\"); if (child) { run(child); } else { new MutationObserver(()=>{ run(this.querySelector(\"script\")); }).observe(this, {childList: true}); } } } customElements.define(\"treescope-run-here\", RunHere); } })(); </script> <treescope-container class=\"treescope_out_4e1d9d94eb684427a783d3c1ddcfc355\" ></treescope-container> <treescope-run-here><script type=\"application/octet-stream\"> const root = ( Array.from(document.getElementsByClassName( \"treescope_out_4e1d9d94eb684427a783d3c1ddcfc355\")) .filter((elt) => !elt.dataset.setup) )[0]; root.dataset.setup = 1; const msg = document.createElement(\"span\"); msg.style = \"color: #aaaaaa; font-family: monospace; transition: opacity 0.2s; opacity: 0.0;\"; msg.textContent = \"(Loading...)\"; root.state.loadingMsg = msg; root.shadowRoot.appendChild(msg); root.state.chain = new Promise((resolve, reject) => { const observer = new IntersectionObserver((entries) => { for (const entry of entries) { if (entry.isIntersecting) { resolve(); observer.disconnect(); return; } } }, {rootMargin: \"1000px\"}); window.setTimeout(() => { if (root.loadingMsg) { root.loadingMsg.style.opacity = \"1.0\"; } observer.observe(root); }, 0); }); root.state.deferring = false; const _insertNode = (node) => { for (let oldScript of node.querySelectorAll(\"script\")) { let newScript = document.createElement(\"script\"); newScript.type = oldScript.type; newScript.textContent = oldScript.textContent; oldScript.parentNode.replaceChild(newScript, oldScript); } if (root.state.loadingMsg) { root.state.loadingMsg.remove(); root.state.loadingMsg = null; } root.shadowRoot.appendChild(node); }; root.defns.insertContent = ((contentNode, compressed) => { if (compressed) { root.state.deferring = true; } if (root.state.deferring) { root.state.chain = (async () => { await root.state.chain; if (compressed) { const encoded = contentNode.textContent; const blob = new Blob([ Uint8Array.from(atob(encoded), (m) => m.codePointAt(0)) ]); const reader = blob.stream().pipeThrough( new DecompressionStream(\"deflate\") ).pipeThrough( new TextDecoderStream(\"utf-8\") ).getReader(); const parts = []; while (true) { const step = await reader.read(); if (step.done) { break; } parts.push(step.value); } const tpl = document.createElement('template'); tpl.innerHTML = parts.join(\"\"); _insertNode(tpl.content); } else { _insertNode(contentNode.content); } })(); } else { _insertNode(contentNode.content); } }); </script></treescope-run-here><div style=\"display:none\"> <script type=\"application/octet-stream\" >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</script> <treescope-run-here><script type=\"application/octet-stream\"> const root = ( Array.from(document.getElementsByClassName( \"treescope_out_4e1d9d94eb684427a783d3c1ddcfc355\")) .filter((elt) => !elt.dataset['step0']) )[0]; root.dataset['step0'] = 1; root.defns.insertContent( this.parentNode.querySelector('script[type=\"application/octet-stream\"]'), true ); this.parentNode.remove(); </script></treescope-run-here> </div>"
      ],
      "text/plain": [
       "<IPython.core.display.HTML object>"
      ]
     },
     "metadata": {},
     "output_type": "display_data"
    },
    {
     "data": {
      "text/html": [
       "<treescope-run-here><script type=\"application/octet-stream\"> const root = ( Array.from(document.getElementsByClassName( \"treescope_out_4e1d9d94eb684427a783d3c1ddcfc355\")) .filter((elt) => !elt.dataset.stolen) )[0]; root.dataset.stolen = 1; this.parentNode.replaceChild(root, this); </script></treescope-run-here>"
      ],
      "text/plain": [
       "[[('quiet', 'loud'),\n",
       "  ('wet', 'dry'),\n",
       "  ('on', 'off'),\n",
       "  ('big', 'small'),\n",
       "  ('push', 'pull'),\n",
       "  ('loose', 'tight'),\n",
       "  ('urban', 'rural'),\n",
       "  ('soft', 'hard'),\n",
       "  ('guilty', 'innocent'),\n",
       "  ('fun', 'boring'),\n",
       "  ('rough', 'smooth'),\n",
       "  ('positive', 'negative'),\n",
       "  ('increase', 'decrease'),\n",
       "  ('blunt', 'sharp'),\n",
       "  ('arrive', 'depart'),\n",
       "  ('complex', 'simple')],\n",
       " [('loud', 'quiet'),\n",
       "  ('on', 'off'),\n",
       "  ('male', 'female'),\n",
       "  ('divide', 'unite'),\n",
       "  ('gentle', 'rough'),\n",
       "  ('front', 'back'),\n",
       "  ('lead', 'follow'),\n",
       "  ('rough', 'smooth'),\n",
       "  ('right', 'wrong'),\n",
       "  ('new', 'old'),\n",
       "  ('disappear', 'appear'),\n",
       "  ('soft', 'hard'),\n",
       "  ('receive', 'send'),\n",
       "  ('happy', 'sad'),\n",
       "  ('go', 'stop'),\n",
       "  ('sharp', 'dull')],\n",
       " [('horizontal', 'vertical'),\n",
       "  ('wet', 'dry'),\n",
       "  ('inside', 'outside'),\n",
       "  ('straight', 'curvy'),\n",
       "  ('wide', 'narrow'),\n",
       "  ('sharp', 'dull'),\n",
       "  ('left', 'right'),\n",
       "  ('back', 'front'),\n",
       "  ('rare', 'common'),\n",
       "  ('on', 'off'),\n",
       "  ('gentle', 'rough'),\n",
       "  ('tiny', 'huge'),\n",
       "  ('dim', 'bright'),\n",
       "  ('rough', 'smooth'),\n",
       "  ('forget', 'remember'),\n",
       "  ('strong', 'weak')]]"
      ]
     },
     "execution_count": 91,
     "metadata": {},
     "output_type": "execute_result"
    }
   ],
   "source": [
    "[x for x in runner.train_pairs if \"sharp\" in str(x)]"
   ]
  },
  {
   "cell_type": "code",
   "execution_count": null,
   "metadata": {},
   "outputs": [
    {
     "data": {
      "text/html": [
       "<script> (()=>{ if (customElements.get('treescope-container') === undefined) { class TreescopeContainer extends HTMLElement { constructor() { super(); this.attachShadow({mode: \"open\"}); this.defns = {}; this.state = {}; } } customElements.define(\"treescope-container\", TreescopeContainer); } if (customElements.get('treescope-run-here') === undefined) { class RunHere extends HTMLElement { constructor() { super() } connectedCallback() { const run = child => { const fn = new Function(child.textContent); child.textContent = \"\"; fn.call(this); this.remove(); }; const child = this.querySelector(\"script\"); if (child) { run(child); } else { new MutationObserver(()=>{ run(this.querySelector(\"script\")); }).observe(this, {childList: true}); } } } customElements.define(\"treescope-run-here\", RunHere); } })(); </script> <treescope-container class=\"treescope_out_6dff33be9f8c489da231ea703b29eded\" ></treescope-container> <treescope-run-here><script type=\"application/octet-stream\"> const root = ( Array.from(document.getElementsByClassName( \"treescope_out_6dff33be9f8c489da231ea703b29eded\")) .filter((elt) => !elt.dataset.setup) )[0]; root.dataset.setup = 1; const msg = document.createElement(\"span\"); msg.style = \"color: #aaaaaa; font-family: monospace; transition: opacity 0.2s; opacity: 0.0;\"; msg.textContent = \"(Loading...)\"; root.state.loadingMsg = msg; root.shadowRoot.appendChild(msg); root.state.chain = new Promise((resolve, reject) => { const observer = new IntersectionObserver((entries) => { for (const entry of entries) { if (entry.isIntersecting) { resolve(); observer.disconnect(); return; } } }, {rootMargin: \"1000px\"}); window.setTimeout(() => { if (root.loadingMsg) { root.loadingMsg.style.opacity = \"1.0\"; } observer.observe(root); }, 0); }); root.state.deferring = false; const _insertNode = (node) => { for (let oldScript of node.querySelectorAll(\"script\")) { let newScript = document.createElement(\"script\"); newScript.type = oldScript.type; newScript.textContent = oldScript.textContent; oldScript.parentNode.replaceChild(newScript, oldScript); } if (root.state.loadingMsg) { root.state.loadingMsg.remove(); root.state.loadingMsg = null; } root.shadowRoot.appendChild(node); }; root.defns.insertContent = ((contentNode, compressed) => { if (compressed) { root.state.deferring = true; } if (root.state.deferring) { root.state.chain = (async () => { await root.state.chain; if (compressed) { const encoded = contentNode.textContent; const blob = new Blob([ Uint8Array.from(atob(encoded), (m) => m.codePointAt(0)) ]); const reader = blob.stream().pipeThrough( new DecompressionStream(\"deflate\") ).pipeThrough( new TextDecoderStream(\"utf-8\") ).getReader(); const parts = []; while (true) { const step = await reader.read(); if (step.done) { break; } parts.push(step.value); } const tpl = document.createElement('template'); tpl.innerHTML = parts.join(\"\"); _insertNode(tpl.content); } else { _insertNode(contentNode.content); } })(); } else { _insertNode(contentNode.content); } }); </script></treescope-run-here><div style=\"display:none\"> <script type=\"application/octet-stream\" >eNqNVE1v2zAM/SuCd6gNzG7aocWWxAZ6GXYYdtgOOwxDoNi0LUSmNIlOlg3976PkJOtHVgw5xCKpx/cokktPew1VQQ7A18bCyhlD4rewxitSBufCgZaktrAQrUHKWzkovZ+LwaDxVtZs3/WKII+HubCOLVp5yiN0TnvLVjTI5rWsN50zIzZ5bbRx8+nqQhxOa80BjKca6ueiVcRhSIC0EFY2jcIu19DSXFzXfUiCkPegup4tV8VNgEGSijmfrh0+8q3yaq20ImYuRzKn2FwhOYVe1blXv2DyHujeLy+n8ixP5cndiJzTsc3XTlkSQV95Ia3VqpahYpemJgjqHcjhokrTrKy4oJzPk2igRS9KQb3yRQf0mav9yTSQZkVvPBXRz9KAxMoCBsl3dUANl759P+f5ILHRwG4ctV5MGQqm+cUYZGu6M26TiYcczFc2BdcjM6k6GC241rhBYg0Fml2axfflBOkzj8inS0vx5jpjHNWK9AnrQgN21IuyFLMQ8iJ1BzQ65LoL0B7+EutHDMyeQvtetRT4xYDwcc+/f2RIuauwMbvCwY8RPN2hGuJzvXdygHSqSRYwFs8S2dH3UxkXZzQeU5STjBdU/j+HwGJ6SDJdp6epXMXJ4W61AStYQNNrAVtu8MNLBnbxXGxgH4qeuCQQOgQXtZbef+ThPOCmyQlzNXAbJsfk9xnXk9s/9ni1vDw3AI3aighYJo/XRyJIrlkp/CyTWSIMMhmWjRz3Utuf15qGO0eVCY/dtLDixljhOKzBxU6JC+TV7N3bq5vbh6PLawmPNHueVcdrY7Mi6ZhGIhpJMmd6VlJfJsnj8Ic5kup6dsug7K5Of1yB6g+lddvB</script> <treescope-run-here><script type=\"application/octet-stream\"> const root = ( Array.from(document.getElementsByClassName( \"treescope_out_6dff33be9f8c489da231ea703b29eded\")) .filter((elt) => !elt.dataset['step0']) )[0]; root.dataset['step0'] = 1; root.defns.insertContent( this.parentNode.querySelector('script[type=\"application/octet-stream\"]'), true ); this.parentNode.remove(); </script></treescope-run-here> </div>"
      ],
      "text/plain": [
       "<IPython.core.display.HTML object>"
      ]
     },
     "metadata": {},
     "output_type": "display_data"
    },
    {
     "data": {
      "text/html": [
       "<treescope-run-here><script type=\"application/octet-stream\"> const root = ( Array.from(document.getElementsByClassName( \"treescope_out_6dff33be9f8c489da231ea703b29eded\")) .filter((elt) => !elt.dataset.stolen) )[0]; root.dataset.stolen = 1; this.parentNode.replaceChild(root, this); </script></treescope-run-here>"
      ],
      "text/plain": [
       "206"
      ]
     },
     "execution_count": 32,
     "metadata": {},
     "output_type": "execute_result"
    }
   ],
   "source": [
    "len(ablated_nodes)"
   ]
  },
  {
   "cell_type": "code",
   "execution_count": null,
   "metadata": {},
   "outputs": [],
   "source": [
    "removed_features_attn_mask = mask_attn_out_2[\"arrow\"].astype(np.int32) -  mask_attn_out_1[\"arrow\"].astype(np.int32)\n",
    "removed_features_attn_mask = removed_features_attn_mask == 1"
   ]
  },
  {
   "cell_type": "code",
   "execution_count": null,
   "metadata": {},
   "outputs": [
    {
     "data": {
      "text/html": [
       "<script> (()=>{ if (customElements.get('treescope-container') === undefined) { class TreescopeContainer extends HTMLElement { constructor() { super(); this.attachShadow({mode: \"open\"}); this.defns = {}; this.state = {}; } } customElements.define(\"treescope-container\", TreescopeContainer); } if (customElements.get('treescope-run-here') === undefined) { class RunHere extends HTMLElement { constructor() { super() } connectedCallback() { const run = child => { const fn = new Function(child.textContent); child.textContent = \"\"; fn.call(this); this.remove(); }; const child = this.querySelector(\"script\"); if (child) { run(child); } else { new MutationObserver(()=>{ run(this.querySelector(\"script\")); }).observe(this, {childList: true}); } } } customElements.define(\"treescope-run-here\", RunHere); } })(); </script> <treescope-container class=\"treescope_out_351127e1b97f48c298559d47607b6379\" ></treescope-container> <treescope-run-here><script type=\"application/octet-stream\"> const root = ( Array.from(document.getElementsByClassName( \"treescope_out_351127e1b97f48c298559d47607b6379\")) .filter((elt) => !elt.dataset.setup) )[0]; root.dataset.setup = 1; const msg = document.createElement(\"span\"); msg.style = \"color: #aaaaaa; font-family: monospace; transition: opacity 0.2s; opacity: 0.0;\"; msg.textContent = \"(Loading...)\"; root.state.loadingMsg = msg; root.shadowRoot.appendChild(msg); root.state.chain = new Promise((resolve, reject) => { const observer = new IntersectionObserver((entries) => { for (const entry of entries) { if (entry.isIntersecting) { resolve(); observer.disconnect(); return; } } }, {rootMargin: \"1000px\"}); window.setTimeout(() => { if (root.loadingMsg) { root.loadingMsg.style.opacity = \"1.0\"; } observer.observe(root); }, 0); }); root.state.deferring = false; const _insertNode = (node) => { for (let oldScript of node.querySelectorAll(\"script\")) { let newScript = document.createElement(\"script\"); newScript.type = oldScript.type; newScript.textContent = oldScript.textContent; oldScript.parentNode.replaceChild(newScript, oldScript); } if (root.state.loadingMsg) { root.state.loadingMsg.remove(); root.state.loadingMsg = null; } root.shadowRoot.appendChild(node); }; root.defns.insertContent = ((contentNode, compressed) => { if (compressed) { root.state.deferring = true; } if (root.state.deferring) { root.state.chain = (async () => { await root.state.chain; if (compressed) { const encoded = contentNode.textContent; const blob = new Blob([ Uint8Array.from(atob(encoded), (m) => m.codePointAt(0)) ]); const reader = blob.stream().pipeThrough( new DecompressionStream(\"deflate\") ).pipeThrough( new TextDecoderStream(\"utf-8\") ).getReader(); const parts = []; while (true) { const step = await reader.read(); if (step.done) { break; } parts.push(step.value); } const tpl = document.createElement('template'); tpl.innerHTML = parts.join(\"\"); _insertNode(tpl.content); } else { _insertNode(contentNode.content); } })(); } else { _insertNode(contentNode.content); } }); </script></treescope-run-here><div style=\"display:none\"> <script type=\"application/octet-stream\" >eNrFVt+P4jYQ/lesVLpNqia7C0uXCxBpX6o+VH3oPdxDWyEnmSQuxk7tgV2u2v+9YyfAAmFVqacWHiDjmfm++RnPLe4kZAkaAFvoFpZGa2R/sVZbgUKrlBmQHMUWZqzSCuOKr4XcpWytlbYtL0j+3AiE2D+krDUkkcJi7F3HuGtJqrQicc6LVW30RpVxoaU2aWc6Y/1TLkmB/IkSm5RVAklNISicsZaXpVB1LKHClI2KxoEoiBsQdUOS+2Ti3CjkgjgfzPo/8VZYkQspkJjzDeqDbiwUGqGsKGIrvkB32tN9nd926Zkf0hObjSJMQzJbGNEic/EtbnjbSlFwl7FbXSC46A3w9U0WhtEio4QSnkVWQqUsWzBshE1qwF8o2z/rEsIoabTFxJ9TaIBs2YJyIT8Vzqsz+vX3oZMfuSol0LHaSDnrEBKi+UlrRdLwWZtVxN5y0J9J5I5OxCgKJ2zBVNqsuSogUfo5jHx9CSC8OGFxZzRn41FEfkTFwjPWiQRVY8MWC3bnVN6lbgA3RlHeGUgLR2LNRjlm565tIyp0/LyC+/NK3ysIIXWVKvVzYuDPDVh8UmLty/WD4WsIu5xEzsfsAqjd2KZL42wgxj3EogvjnSj/OQfHoisk6rqW3VQu/eRQt7bOl5OAxO8YbKnB+0o6dv45WcHOJT0wgSPUKyeF5Nb+RMPZ+w2Dg8/lmtow2IO/RpRPan/f49n8dmgASrFl3uEiOF0fAUOeU6TwsgjuAqYVkaGwFem91/bDsYbOZh9lQGPXLSyyAGOgXLa0M6DRsgTjO8Yvkm/4o/v2K8ubpEwgpxml2JKK1HlOUIo4XFl2r+xUbdmxI+1SWALd7ZfauSLLmOQ5yDTNgeYF3rAq/Gc2iNcttvjebbZ+Ad7NjlhC+XWXS+025FXMRm/BXCKX3Kws8JrKpC6tU6UxPBM13IaZ95kN5sHbpEUDxQrKKGLfRkcOznTYaK9/wtBv6JTd/Daa5MXN/0nv1Ogqye//A5Kujg54Y6wrYKvpPQVmAFfYrwfrR8EDxX7e7LUe/zqox/AQXvASJRF2WQljcanV0rX/wGi9N0rJaOKmabBU7F/T7yp+TtFFteampptFR8MP9PEmQbckxUS5CA4L7G46mnwsxqPy47h6eJxOpw8TDsXjQ3E/fYRqXAW9Ub9qT+f+HJ6UuyDmQrWb/nYSeNq5fgkGnfQR0mEXHa17b0y/va+3+EOLN8g+SJz9wV+SJ2P4jpYVjkd0P0iShH2o0b1IyEN2/kMvkOxvSua1vQ==</script> <treescope-run-here><script type=\"application/octet-stream\"> const root = ( Array.from(document.getElementsByClassName( \"treescope_out_351127e1b97f48c298559d47607b6379\")) .filter((elt) => !elt.dataset['step0']) )[0]; root.dataset['step0'] = 1; root.defns.insertContent( this.parentNode.querySelector('script[type=\"application/octet-stream\"]'), true ); this.parentNode.remove(); </script></treescope-run-here> </div>"
      ],
      "text/plain": [
       "<IPython.core.display.HTML object>"
      ]
     },
     "metadata": {},
     "output_type": "display_data"
    },
    {
     "data": {
      "text/html": [
       "<div style=\"display:none\"> <script type=\"application/octet-stream\" >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</script> <treescope-run-here><script type=\"application/octet-stream\"> const root = ( Array.from(document.getElementsByClassName( \"treescope_out_351127e1b97f48c298559d47607b6379\")) .filter((elt) => !elt.dataset['step1']) )[0]; root.dataset['step1'] = 1; root.defns.insertContent( this.parentNode.querySelector('script[type=\"application/octet-stream\"]'), true ); this.parentNode.remove(); </script></treescope-run-here> </div>"
      ],
      "text/plain": [
       "<IPython.core.display.HTML object>"
      ]
     },
     "metadata": {},
     "output_type": "display_data"
    },
    {
     "data": {
      "text/html": [
       "<treescope-run-here><script type=\"application/octet-stream\"> const root = ( Array.from(document.getElementsByClassName( \"treescope_out_351127e1b97f48c298559d47607b6379\")) .filter((elt) => !elt.dataset.stolen) )[0]; root.dataset.stolen = 1; this.parentNode.replaceChild(root, this); </script></treescope-run-here>"
      ],
      "text/plain": [
       "<jax.Array(57, dtype=int32)>"
      ]
     },
     "execution_count": 114,
     "metadata": {},
     "output_type": "execute_result"
    }
   ],
   "source": [
    "removed_features_attn_mask.sum()"
   ]
  },
  {
   "cell_type": "code",
   "execution_count": null,
   "metadata": {},
   "outputs": [],
   "source": [
    "removed_features_attn = circuitizer.saes[(12, \"resid\")][\"W_dec\"][removed_features_attn_mask]"
   ]
  },
  {
   "cell_type": "code",
   "execution_count": null,
   "metadata": {},
   "outputs": [],
   "source": [
    "removed_features_attn = removed_features_attn / np.linalg.norm(removed_features_attn, axis=1, keepdims=True)\n",
    "\n",
    "pairwise_sims = removed_features_attn @ removed_features_attn.T\n",
    "\n"
   ]
  },
  {
   "cell_type": "code",
   "execution_count": null,
   "metadata": {},
   "outputs": [
    {
     "name": "stderr",
     "output_type": "stream",
     "text": [
      "/usr/lib/python3.10/pty.py:89: RuntimeWarning:\n",
      "\n",
      "os.fork() was called. os.fork() is incompatible with multithreaded code, and JAX is multithreaded, so this will likely lead to a deadlock.\n",
      "\n",
      "huggingface/tokenizers: The current process just got forked, after parallelism has already been used. Disabling parallelism to avoid deadlocks...\n",
      "To disable this warning, you can either:\n",
      "\t- Avoid using `tokenizers` before the fork if possible\n",
      "\t- Explicitly set the environment variable TOKENIZERS_PARALLELISM=(true | false)\n"
     ]
    },
    {
     "name": "stdout",
     "output_type": "stream",
     "text": [
      "Collecting kaleido\n",
      "  Downloading kaleido-0.2.1-py2.py3-none-manylinux1_x86_64.whl (79.9 MB)\n",
      "\u001b[2K     \u001b[90m━━━━━━━━━━━━━━━━━━━━━━━━━━━━━━━━━━━━━━━━\u001b[0m \u001b[32m79.9/79.9 MB\u001b[0m \u001b[31m14.9 MB/s\u001b[0m eta \u001b[36m0:00:00\u001b[0m00:01\u001b[0m00:01\u001b[0m\n",
      "\u001b[?25hInstalling collected packages: kaleido\n",
      "Successfully installed kaleido-0.2.1\n",
      "\n",
      "\u001b[1m[\u001b[0m\u001b[34;49mnotice\u001b[0m\u001b[1;39;49m]\u001b[0m\u001b[39;49m A new release of pip is available: \u001b[0m\u001b[31;49m23.1.2\u001b[0m\u001b[39;49m -> \u001b[0m\u001b[32;49m24.2\u001b[0m\n",
      "\u001b[1m[\u001b[0m\u001b[34;49mnotice\u001b[0m\u001b[1;39;49m]\u001b[0m\u001b[39;49m To update, run: \u001b[0m\u001b[32;49mpip install --upgrade pip\u001b[0m\n",
      "Note: you may need to restart the kernel to use updated packages.\n"
     ]
    }
   ],
   "source": [
    "%pip install -U kaleido"
   ]
  },
  {
   "cell_type": "code",
   "execution_count": null,
   "metadata": {},
   "outputs": [
    {
     "data": {
      "application/vnd.plotly.v1+json": {
       "config": {
        "plotlyServerURL": "https://plot.ly"
       },
       "data": [
        {
         "coloraxis": "coloraxis",
         "hovertemplate": "x: %{x}<br>y: %{y}<br>color: %{z}<extra></extra>",
         "name": "0",
         "type": "heatmap",
         "xaxis": "x",
         "yaxis": "y",
         "z": [
          [
           1.0001314,
           -0.00012887269,
           0.03458308,
           0.023274546,
           0.008309703,
           0.0117855,
           0.030620363,
           -0.044199593,
           0.035448015,
           0.091682054,
           0.073338896,
           0.08892405,
           -0.024842668,
           0.067102954,
           0.0063984036,
           0.08645108,
           0.090123005,
           0.07567079,
           -0.019064356,
           0.010266778,
           0.02117975,
           0.05164379,
           0.021410882,
           -0.0024047606,
           -0.010442596,
           0.033530667,
           0.015884794,
           0.0134455105,
           0.038951285,
           0.039600313,
           0.06651008,
           0.002242202,
           0.036568604,
           0.04162038,
           0.009225409,
           0.035594687,
           -0.007941109,
           0.032591008,
           0.040709216,
           0.042070456,
           -0.046681166,
           -0.009270172,
           0.015643703,
           0.08464483,
           -0.02989452,
           0.027931273,
           0.06926136,
           0.05079957,
           0.05376058,
           0.021483205,
           0.02816856,
           0.009217219,
           0.00027395412,
           0.064475596,
           0.039919615,
           0.025279885,
           0.03770216
          ],
          [
           -0.00012887269,
           0.99971974,
           0.019328834,
           -0.06648039,
           0.00011558086,
           0.037158556,
           -0.0055359905,
           0.06010129,
           0.027153265,
           -0.01359801,
           0.031132735,
           -0.0037104795,
           0.038753115,
           0.012771189,
           0.01667605,
           -0.0008667847,
           0.041011535,
           -0.007179902,
           0.085835524,
           0.076827005,
           0.010686776,
           0.0020355394,
           0.042991918,
           0.016755117,
           0.055703938,
           -0.0095607005,
           -0.059634663,
           -0.01918985,
           0.05507522,
           0.09290503,
           -0.025736969,
           0.047287725,
           -0.06727454,
           -0.016535142,
           0.019136896,
           -0.0075983796,
           0.03833136,
           -0.0093511,
           0.034752995,
           -0.05618369,
           0.03348431,
           -0.021031415,
           0.034897227,
           -0.00334155,
           0.03562627,
           -0.023056269,
           0.010926627,
           -0.01326903,
           -0.036910202,
           0.05428406,
           -0.007293769,
           0.019342467,
           -0.032060854,
           0.100782365,
           0.0155470185,
           0.1009523,
           0.0315891
          ],
          [
           0.03458308,
           0.019328834,
           0.99994767,
           0.16924003,
           0.027344275,
           -0.0005661268,
           0.02665861,
           0.17741482,
           -0.0034895744,
           0.38045704,
           0.14374253,
           0.025368318,
           0.047824513,
           -0.006660592,
           0.37556595,
           -0.011128263,
           0.16178526,
           0.14176801,
           0.11434621,
           -0.013637826,
           -0.009723268,
           0.019295938,
           0.02085769,
           0.032048054,
           -0.012718695,
           -0.035797082,
           -0.035443984,
           0.038786437,
           -0.0296438,
           0.042716537,
           -0.016402362,
           0.021213502,
           0.2068231,
           -0.011586458,
           0.027854241,
           -0.008523772,
           -0.0073094545,
           -0.0051502483,
           0.012331828,
           0.30919862,
           0.013581281,
           -0.025211968,
           -0.03807028,
           -0.038922854,
           0.2201246,
           -0.070124045,
           0.16865912,
           0.21209125,
           -0.044599723,
           -0.011285153,
           -0.07171483,
           0.01506464,
           0.43353546,
           0.2150321,
           0.012380496,
           -0.02031102,
           -0.08935906
          ],
          [
           0.023274546,
           -0.06648039,
           0.16924003,
           1.000088,
           0.022653125,
           -0.054262064,
           0.0009923391,
           0.16280812,
           0.0032186098,
           0.12723942,
           0.009460304,
           -0.09348855,
           0.037805893,
           -0.020007538,
           0.1297045,
           0.0132201705,
           0.059311632,
           -0.035989065,
           0.02581661,
           -0.072832644,
           0.04526676,
           0.03154796,
           0.008370054,
           -0.01040423,
           0.022314942,
           -0.003226853,
           0.0028463528,
           -0.004229472,
           -0.015117931,
           0.059430275,
           0.044233292,
           -0.0011895485,
           0.114427,
           -0.071336426,
           0.008244651,
           -0.0039935373,
           0.014711526,
           0.03193804,
           0.04994132,
           0.2907415,
           0.0041491985,
           0.008729316,
           -0.0049925335,
           -0.05214828,
           0.22569636,
           0.025661556,
           0.17652217,
           0.018616693,
           0.0003468222,
           0.031506553,
           0.11152644,
           -0.009060567,
           0.09216134,
           0.004254318,
           -0.020164195,
           -0.018970141,
           0.031992223
          ],
          [
           0.008309703,
           0.00011558086,
           0.027344275,
           0.022653125,
           1.0001897,
           -0.015854612,
           -0.0085177915,
           0.06117718,
           -0.040421166,
           0.14951782,
           -0.022401009,
           -0.06825953,
           -0.031909965,
           0.031019395,
           -0.0019297544,
           0.012644054,
           0.10969584,
           -0.03319838,
           -0.046790004,
           -0.05810376,
           0.033528134,
           0.046106473,
           -0.0019450178,
           -0.008936426,
           -0.00030661747,
           0.013313936,
           -0.026035901,
           -0.0068210587,
           -0.026404899,
           0.05999594,
           0.031016694,
           0.007987484,
           0.06468086,
           0.03152152,
           -0.024843426,
           0.019966219,
           0.037938405,
           -0.03079663,
           0.029540597,
           0.026157461,
           -0.02301173,
           0.0199336,
           0.034090046,
           0.0068454603,
           0.0035040285,
           0.023438456,
           0.044970073,
           0.004605541,
           0.021690434,
           0.03685015,
           0.104433686,
           0.021812528,
           0.040697135,
           0.03852901,
           0.0033377595,
           -0.049193785,
           -0.0024181139
          ],
          [
           0.0117855,
           0.037158556,
           -0.0005661268,
           -0.054262064,
           -0.015854612,
           1.0000228,
           0.03840039,
           -0.030965827,
           0.18045625,
           -0.033588294,
           0.051483475,
           0.05914214,
           0.025534105,
           0.29057088,
           0.015741317,
           -0.001457084,
           -0.023835547,
           0.04881638,
           -0.040450037,
           0.09058801,
           0.023188762,
           0.021540128,
           0.09703353,
           0.0047563296,
           0.052520327,
           0.11418657,
           0.026913568,
           -0.0008148253,
           0.11034949,
           -0.006545376,
           0.014664406,
           -0.008865832,
           -0.007325266,
           0.0152283525,
           0.014042834,
           0.02762828,
           0.029282076,
           0.043854617,
           0.07482127,
           0.008934213,
           -0.054987498,
           0.005318273,
           0.029784173,
           0.3217728,
           0.0042149443,
           -0.007815087,
           -0.027009826,
           0.010186171,
           0.15292028,
           0.034155875,
           -0.05128686,
           0.014376864,
           -0.025251223,
           0.00844368,
           0.010133079,
           0.012689828,
           0.033571377
          ],
          [
           0.030620363,
           -0.0055359905,
           0.02665861,
           0.0009923391,
           -0.0085177915,
           0.03840039,
           1.0001868,
           0.057229787,
           0.0102449795,
           0.020320795,
           0.09103339,
           0.068136886,
           0.023066893,
           0.067531675,
           0.011998346,
           0.08906728,
           0.029423185,
           0.039845005,
           0.030875321,
           0.032800876,
           0.029407177,
           0.037317693,
           0.07960028,
           -0.02700014,
           0.15225233,
           0.123911366,
           0.0077395663,
           0.09256916,
           -0.005897497,
           -0.022945441,
           0.01697091,
           0.018375345,
           -0.026147358,
           -0.012696529,
           0.0011594947,
           0.036246855,
           0.032440618,
           0.058698155,
           0.011834695,
           0.011700475,
           0.01336756,
           -0.0028418424,
           0.04996242,
           -0.0032617156,
           -0.03307919,
           -0.0135070635,
           0.013690187,
           0.048548378,
           -0.006689257,
           0.008192528,
           -0.020681852,
           0.022807168,
           0.031116012,
           0.028307632,
           0.11325089,
           -0.008463204,
           0.027347906
          ],
          [
           -0.044199593,
           0.06010129,
           0.17741482,
           0.16280812,
           0.06117718,
           -0.030965827,
           0.057229787,
           1.0000141,
           -0.050822727,
           0.15413225,
           0.029365344,
           -0.01743996,
           -0.023600139,
           -0.014327703,
           0.26926786,
           -0.018154804,
           0.18636233,
           -0.0036554132,
           0.14001118,
           0.111117214,
           -0.006365913,
           0.03473045,
           0.037212633,
           -0.0314622,
           0.115936756,
           -0.062434804,
           0.028420195,
           -0.0015039518,
           -0.018107219,
           0.031990662,
           0.07006522,
           0.013558943,
           0.16509712,
           -0.007367027,
           0.01828638,
           -0.017863281,
           -0.028834684,
           0.056065824,
           0.04333029,
           0.24946779,
           0.008030341,
           0.00029695313,
           0.07971308,
           -0.027206542,
           0.25442496,
           -0.0001930343,
           0.18589017,
           0.03125482,
           -0.053650662,
           0.0051778816,
           0.019781671,
           -0.0037194926,
           0.17486177,
           0.2763314,
           0.02836609,
           -0.031833813,
           -0.022353817
          ],
          [
           0.035448015,
           0.027153265,
           -0.0034895744,
           0.0032186098,
           -0.040421166,
           0.18045625,
           0.0102449795,
           -0.050822727,
           0.9994508,
           0.021878239,
           -0.025231171,
           0.10665764,
           0.026721723,
           0.39505345,
           0.046115354,
           0.1332736,
           0.09522259,
           0.15716133,
           -0.003494108,
           0.015631508,
           0.30462703,
           0.07410833,
           0.08863958,
           0.086992994,
           0.007875711,
           0.25965953,
           -0.04105284,
           -0.0066417353,
           0.082582995,
           0.03112136,
           0.32026482,
           0.07613197,
           -0.005954503,
           0.03840393,
           0.009324843,
           0.012808073,
           0.052795075,
           -0.0003049504,
           0.07027288,
           0.0016144719,
           0.019515734,
           0.011076319,
           0.04115728,
           0.21362251,
           -0.02718189,
           0.0013688793,
           0.05569406,
           -0.002912078,
           0.18575025,
           0.10910766,
           0.03559791,
           0.015293141,
           -0.05885638,
           -0.0058538187,
           0.0073411176,
           -0.0058191535,
           0.068814956
          ],
          [
           0.091682054,
           -0.01359801,
           0.38045704,
           0.12723942,
           0.14951782,
           -0.033588294,
           0.020320795,
           0.15413225,
           0.021878239,
           1.000066,
           0.11078094,
           0.09112288,
           0.0060530202,
           0.105174705,
           0.08945803,
           0.052472226,
           0.31692427,
           0.11462375,
           0.114199296,
           0.0491295,
           0.0877801,
           0.059138812,
           0.029062487,
           0.009421044,
           0.04904373,
           0.03871322,
           0.026273128,
           0.04320964,
           -0.00081471866,
           0.049183853,
           0.04387746,
           0.023514085,
           0.25024855,
           -0.008311827,
           -0.013548814,
           -0.012674186,
           0.027698558,
           0.03190213,
           0.103599176,
           0.21841335,
           -0.015575793,
           0.10760605,
           0.034771375,
           0.007826325,
           0.23388922,
           0.09100312,
           0.20813781,
           0.17465883,
           0.081982546,
           -0.0103934035,
           0.05574765,
           0.019121746,
           0.326737,
           0.09538957,
           0.11921722,
           -0.0027281232,
           0.014521854
          ],
          [
           0.073338896,
           0.031132735,
           0.14374253,
           0.009460304,
           -0.022401009,
           0.051483475,
           0.09103339,
           0.029365344,
           -0.025231171,
           0.11078094,
           1.0001644,
           0.13899735,
           0.041507214,
           0.13914196,
           0.09670515,
           0.020937089,
           0.09984417,
           0.13209963,
           0.21055949,
           0.25897995,
           0.05206321,
           0.052881785,
           0.028443217,
           -0.034260217,
           0.042046726,
           0.19456457,
           0.033260036,
           0.14947286,
           0.15569031,
           -0.012938507,
           0.012073429,
           -0.006385288,
           0.064210184,
           0.009227632,
           -0.028052222,
           0.06503284,
           0.01567593,
           0.2373762,
           0.16094966,
           0.041914947,
           -0.023176085,
           0.12071717,
           -0.032324184,
           -0.017916365,
           0.067096926,
           0.116695985,
           0.1177105,
           0.24526103,
           -0.001795033,
           0.016299553,
           0.064835735,
           -0.014369051,
           0.33456498,
           0.06909667,
           0.34956217,
           -0.034508914,
           0.049157213
          ],
          [
           0.08892405,
           -0.0037104795,
           0.025368318,
           -0.09348855,
           -0.06825953,
           0.05914214,
           0.068136886,
           -0.01743996,
           0.10665764,
           0.09112288,
           0.13899735,
           0.9999979,
           -0.019632973,
           0.19196516,
           0.046984978,
           0.27854806,
           0.106921345,
           0.045211717,
           0.044586264,
           0.15768602,
           0.08883323,
           -0.012725846,
           0.062003367,
           0.010130795,
           0.17996088,
           0.12750322,
           0.086740956,
           0.0042265556,
           0.1294106,
           0.0018537245,
           0.089683875,
           0.005064578,
           0.030639602,
           0.12225036,
           -0.00070025213,
           0.024104945,
           0.045474015,
           0.07393117,
           0.07426408,
           -0.06917101,
           -0.036964484,
           0.09314575,
           0.08240258,
           0.06888382,
           0.02749215,
           0.050631672,
           0.07250228,
           0.0936386,
           0.060825065,
           0.026183939,
           0.09465156,
           0.0056827166,
           0.050030194,
           0.053313714,
           0.1172485,
           -0.004001376,
           0.22476709
          ],
          [
           -0.024842668,
           0.038753115,
           0.047824513,
           0.037805893,
           -0.031909965,
           0.025534105,
           0.023066893,
           -0.023600139,
           0.026721723,
           0.0060530202,
           0.041507214,
           -0.019632973,
           1.000165,
           0.05532246,
           0.04189392,
           -0.02035137,
           0.016497169,
           0.055962518,
           -0.027709948,
           0.012233054,
           0.0022137682,
           0.050436474,
           0.14008382,
           0.00948438,
           0.018332796,
           0.0965395,
           -0.034135908,
           0.010967835,
           0.05472274,
           0.027191397,
           0.06564895,
           0.03314998,
           -0.07360062,
           0.0048403144,
           0.025542669,
           0.058163144,
           0.034169655,
           0.05475316,
           0.021348557,
           0.024191871,
           0.029625375,
           0.023213692,
           -0.028628256,
           0.007016917,
           -0.027856775,
           -0.008335435,
           0.02929563,
           0.025454491,
           0.039824363,
           0.006880726,
           -0.013782737,
           0.03579843,
           0.030754358,
           -0.048880268,
           0.05354602,
           0.029538557,
           0.0005821055
          ],
          [
           0.067102954,
           0.012771189,
           -0.006660592,
           -0.020007538,
           0.031019395,
           0.29057088,
           0.067531675,
           -0.014327703,
           0.39505345,
           0.105174705,
           0.13914196,
           0.19196516,
           0.05532246,
           0.9998562,
           0.036738053,
           0.1029752,
           0.18569091,
           0.10522042,
           0.0071375053,
           0.094936535,
           0.25201902,
           0.1189758,
           0.09340077,
           0.031426355,
           0.030835465,
           0.31192118,
           0.011644429,
           0.078480214,
           0.12668335,
           0.04869793,
           0.2387613,
           0.026543949,
           0.05495076,
           0.033988435,
           0.01764945,
           0.02533352,
           0.070702866,
           0.09673646,
           0.09216404,
           -0.0300208,
           -0.016302466,
           0.06262133,
           0.044458747,
           0.19522853,
           0.02505074,
           0.05162043,
           0.053182766,
           0.06207952,
           0.2603783,
           0.11161681,
           0.13029425,
           0.018979663,
           0.076236,
           0.06067677,
           0.12880239,
           -0.020597849,
           0.09482196
          ],
          [
           0.0063984036,
           0.01667605,
           0.37556595,
           0.1297045,
           -0.0019297544,
           0.015741317,
           0.011998346,
           0.26926786,
           0.046115354,
           0.08945803,
           0.09670515,
           0.046984978,
           0.04189392,
           0.036738053,
           1.0002298,
           0.029683009,
           0.12357582,
           0.15075955,
           0.1326713,
           0.12709585,
           0.001122196,
           0.021349486,
           0.08366153,
           0.03698663,
           0.042759635,
           0.11603662,
           0.06155392,
           -0.015628159,
           0.05075774,
           0.03343772,
           0.08697155,
           0.029383563,
           0.21687146,
           0.044868954,
           0.00999002,
           0.015912268,
           -0.03563039,
           0.1521917,
           0.05360698,
           0.19446228,
           0.01403148,
           0.037017666,
           0.013894338,
           -0.0041083335,
           0.24042526,
           0.04340757,
           0.23155178,
           0.03811118,
           -0.012566129,
           0.035369415,
           0.08468449,
           0.015114235,
           0.14352158,
           0.1625711,
           0.072860196,
           -0.02450785,
           0.05848611
          ],
          [
           0.08645108,
           -0.0008667847,
           -0.011128263,
           0.0132201705,
           0.012644054,
           -0.001457084,
           0.08906728,
           -0.018154804,
           0.1332736,
           0.052472226,
           0.020937089,
           0.27854806,
           -0.02035137,
           0.1029752,
           0.029683009,
           0.9996392,
           0.0062147863,
           0.006425704,
           0.020045593,
           0.035512354,
           0.09004547,
           0.04484979,
           0.09858543,
           0.04847896,
           0.13639176,
           0.13184497,
           0.038441416,
           0.04693133,
           0.020148061,
           -0.00506798,
           0.19745839,
           -0.022987196,
           -0.00049456395,
           0.09571552,
           -0.061889734,
           0.02007694,
           0.050260596,
           0.057052925,
           0.12793958,
           0.0019252263,
           -0.009179249,
           0.07989387,
           0.17690463,
           0.07403779,
           -0.050454743,
           0.09174319,
           0.037670724,
           -0.004149911,
           0.040896416,
           0.091848835,
           0.13151291,
           0.020494333,
           -0.06605609,
           -0.016292103,
           0.047161173,
           0.008066159,
           0.1701493
          ],
          [
           0.090123005,
           0.041011535,
           0.16178526,
           0.059311632,
           0.10969584,
           -0.023835547,
           0.029423185,
           0.18636233,
           0.09522259,
           0.31692427,
           0.09984417,
           0.106921345,
           0.016497169,
           0.18569091,
           0.12357582,
           0.0062147863,
           0.99939525,
           0.13273467,
           0.09135075,
           0.03819497,
           0.10123263,
           -0.0072869984,
           0.1005179,
           0.036423285,
           0.060789466,
           0.093322635,
           0.012268794,
           -0.022722669,
           0.040512335,
           0.19055465,
           0.1554775,
           0.05376485,
           0.13955957,
           -0.022599565,
           0.00027445937,
           0.020578682,
           0.074409805,
           0.07014994,
           0.079979785,
           0.120457195,
           -0.011348663,
           0.047263004,
           0.057074767,
           0.052932166,
           0.16520561,
           0.049416695,
           0.16625929,
           0.08771513,
           0.14099196,
           0.2331396,
           0.05053526,
           0.0376655,
           0.21275932,
           0.121050514,
           0.03092384,
           0.00031032786,
           0.020315904
          ],
          [
           0.07567079,
           -0.007179902,
           0.14176801,
           -0.035989065,
           -0.03319838,
           0.04881638,
           0.039845005,
           -0.0036554132,
           0.15716133,
           0.11462375,
           0.13209963,
           0.045211717,
           0.055962518,
           0.10522042,
           0.15075955,
           0.006425704,
           0.13273467,
           1.0000741,
           0.3696327,
           0.08314012,
           0.2038384,
           -0.06523718,
           0.015878981,
           0.029908631,
           -0.037147865,
           0.13711208,
           0.018021535,
           0.022037331,
           0.034433495,
           0.043866284,
           0.08368028,
           0.006907521,
           0.13659656,
           0.042696588,
           0.0037649164,
           -0.009325657,
           -0.019311393,
           0.07907143,
           0.065727755,
           0.022016907,
           -0.016239671,
           0.028241811,
           0.019898733,
           0.021427713,
           0.14837593,
           0.054376476,
           0.124107465,
           0.1219998,
           0.20027241,
           0.020824803,
           0.0017401315,
           0.0097484,
           0.18965942,
           0.069169894,
           0.10984784,
           -0.009470791,
           0.004140923
          ],
          [
           -0.019064356,
           0.085835524,
           0.11434621,
           0.02581661,
           -0.046790004,
           -0.040450037,
           0.030875321,
           0.14001118,
           -0.003494108,
           0.114199296,
           0.21055949,
           0.044586264,
           -0.027709948,
           0.0071375053,
           0.1326713,
           0.020045593,
           0.09135075,
           0.3696327,
           1.0000168,
           0.16465724,
           0.09934452,
           -0.08225556,
           0.043253064,
           0.022051234,
           0.021209314,
           0.0690006,
           0.031329453,
           0.0008612154,
           -0.013745263,
           -0.0016993438,
           -0.024121815,
           0.009363334,
           0.14044768,
           -0.03135792,
           -0.038458385,
           -0.0061700717,
           0.020900598,
           0.08652947,
           0.089072905,
           0.087355316,
           0.022504207,
           0.057131335,
           0.0444865,
           -0.08350456,
           0.16388342,
           0.024225624,
           0.24298929,
           0.038472496,
           -0.0929027,
           -0.07162549,
           0.018306449,
           0.015021931,
           0.08183612,
           0.16897386,
           0.063580856,
           -0.004403593,
           0.017825529
          ],
          [
           0.010266778,
           0.076827005,
           -0.013637826,
           -0.072832644,
           -0.05810376,
           0.09058801,
           0.032800876,
           0.111117214,
           0.015631508,
           0.0491295,
           0.25897995,
           0.15768602,
           0.012233054,
           0.094936535,
           0.12709585,
           0.035512354,
           0.03819497,
           0.08314012,
           0.16465724,
           1.0004733,
           0.082755476,
           0.05766218,
           0.07316466,
           -0.035624146,
           0.11556718,
           0.049226183,
           0.08307817,
           -0.005403361,
           0.27957863,
           -0.00397914,
           0.019251712,
           0.030868348,
           0.1043057,
           -0.01614131,
           -0.056517694,
           -0.019568872,
           -0.0036008307,
           0.09280914,
           0.1966119,
           -0.06752041,
           0.010875035,
           0.16357857,
           0.032773364,
           -0.014924517,
           0.14025488,
           0.14020854,
           0.07772869,
           0.049830366,
           0.061534982,
           0.06373128,
           -0.00033411756,
           0.043199975,
           0.047948197,
           0.12166883,
           0.14892343,
           0.024475861,
           0.11481428
          ],
          [
           0.02117975,
           0.010686776,
           -0.009723268,
           0.04526676,
           0.033528134,
           0.023188762,
           0.029407177,
           -0.006365913,
           0.30462703,
           0.0877801,
           0.05206321,
           0.08883323,
           0.0022137682,
           0.25201902,
           0.001122196,
           0.09004547,
           0.10123263,
           0.2038384,
           0.09934452,
           0.082755476,
           1.0000813,
           -0.0010571415,
           0.0122245625,
           0.04284869,
           0.018971045,
           0.08082395,
           -0.021243542,
           0.035646442,
           0.095825806,
           0.011944853,
           0.27609915,
           0.031822,
           0.029055804,
           -0.048573554,
           -0.004446215,
           0.009662566,
           0.0019799406,
           0.037376523,
           0.07549297,
           -0.03381968,
           0.012015054,
           0.048852175,
           0.030004334,
           0.0646914,
           0.029533766,
           0.07150406,
           0.17431135,
           0.061849985,
           0.22012107,
           0.14606716,
           0.0746931,
           0.0108851,
           -0.026672378,
           0.05753913,
           0.059568293,
           -0.009726364,
           0.104038626
          ],
          [
           0.05164379,
           0.0020355394,
           0.019295938,
           0.03154796,
           0.046106473,
           0.021540128,
           0.037317693,
           0.03473045,
           0.07410833,
           0.059138812,
           0.052881785,
           -0.012725846,
           0.050436474,
           0.1189758,
           0.021349486,
           0.04484979,
           -0.0072869984,
           -0.06523718,
           -0.08225556,
           0.05766218,
           -0.0010571415,
           0.999761,
           0.10353339,
           -0.03155006,
           0.1186602,
           0.0454665,
           -0.005424414,
           -0.0077049453,
           0.122419916,
           0.0077677043,
           0.1402688,
           0.008822005,
           0.03467538,
           0.01957241,
           0.004186971,
           0.021153135,
           0.022882838,
           0.024910733,
           0.029027108,
           0.007644563,
           -0.0043321135,
           -0.009185524,
           -0.010193894,
           0.054479934,
           -0.027894668,
           -0.039822005,
           0.020919513,
           -0.007454438,
           0.08278311,
           0.033425573,
           -0.015710667,
           0.009622549,
           0.027771428,
           0.03581799,
           0.07708118,
           -0.017270334,
           0.016593676
          ],
          [
           0.021410882,
           0.042991918,
           0.02085769,
           0.008370054,
           -0.0019450178,
           0.09703353,
           0.07960028,
           0.037212633,
           0.08863958,
           0.029062487,
           0.028443217,
           0.062003367,
           0.14008382,
           0.09340077,
           0.08366153,
           0.09858543,
           0.1005179,
           0.015878981,
           0.043253064,
           0.07316466,
           0.0122245625,
           0.10353339,
           1.0004293,
           0.0063603544,
           0.37843648,
           0.24907923,
           0.012819901,
           -0.010598046,
           0.1841524,
           0.077127665,
           0.031335935,
           0.04336445,
           -0.00006776303,
           -0.024939751,
           0.016523054,
           0.06487849,
           0.121641055,
           0.08554665,
           0.029305262,
           0.03722439,
           0.014653385,
           0.085301176,
           0.1841937,
           0.04521083,
           -0.07301724,
           0.11256024,
           -0.0023194924,
           -0.0014537126,
           0.066626884,
           0.110968634,
           0.006934153,
           0.2690484,
           -0.048371047,
           -0.012444418,
           0.11886722,
           -0.013040672,
           0.1037989
          ],
          [
           -0.0024047606,
           0.016755117,
           0.032048054,
           -0.01040423,
           -0.008936426,
           0.0047563296,
           -0.02700014,
           -0.0314622,
           0.086992994,
           0.009421044,
           -0.034260217,
           0.010130795,
           0.00948438,
           0.031426355,
           0.03698663,
           0.04847896,
           0.036423285,
           0.029908631,
           0.022051234,
           -0.035624146,
           0.04284869,
           -0.03155006,
           0.0063603544,
           1.0004768,
           -0.040970393,
           -0.0009052269,
           -0.017382309,
           0.013679956,
           0.018970476,
           0.02838559,
           0.052639343,
           0.033657666,
           -0.008653399,
           0.009278869,
           0.06713951,
           0.05427644,
           -0.030556042,
           -0.013866369,
           -0.012917822,
           0.007220393,
           0.037607312,
           0.0024228971,
           -0.0081071155,
           -0.019227646,
           -0.0049793636,
           0.011412079,
           0.0125130005,
           -0.0011530537,
           0.0025811428,
           0.0031045275,
           0.0130659705,
           0.041849077,
           -0.0044000535,
           0.0029296065,
           -0.01805203,
           -0.025733499,
           0.010346349
          ],
          [
           -0.010442596,
           0.055703938,
           -0.012718695,
           0.022314942,
           -0.00030661747,
           0.052520327,
           0.15225233,
           0.115936756,
           0.007875711,
           0.04904373,
           0.042046726,
           0.17996088,
           0.018332796,
           0.030835465,
           0.042759635,
           0.13639176,
           0.060789466,
           -0.037147865,
           0.021209314,
           0.11556718,
           0.018971045,
           0.1186602,
           0.37843648,
           -0.040970393,
           1.0002182,
           0.06608189,
           0.13310535,
           -0.038831763,
           0.12472517,
           0.030563068,
           0.010778446,
           0.02259783,
           0.010631177,
           0.049669534,
           -0.0042364877,
           -0.0020867363,
           0.13942035,
           0.058861606,
           0.040575996,
           0.011337464,
           -0.014506191,
           0.05120475,
           0.29309765,
           0.018535316,
           -0.030004147,
           0.058732305,
           0.07481134,
           -0.03243243,
           -0.0054204073,
           0.018481351,
           0.0056457147,
           0.12719877,
           -0.03389892,
           0.016286852,
           0.04906925,
           0.012428989,
           0.12957679
          ],
          [
           0.033530667,
           -0.0095607005,
           -0.035797082,
           -0.003226853,
           0.013313936,
           0.11418657,
           0.123911366,
           -0.062434804,
           0.25965953,
           0.03871322,
           0.19456457,
           0.12750322,
           0.0965395,
           0.31192118,
           0.11603662,
           0.13184497,
           0.093322635,
           0.13711208,
           0.0690006,
           0.049226183,
           0.08082395,
           0.0454665,
           0.24907923,
           -0.0009052269,
           0.06608189,
           1.0000336,
           0.024930902,
           0.043660134,
           0.07929118,
           0.028870054,
           0.18892872,
           0.010610749,
           0.013703404,
           0.036836825,
           0.008357078,
           0.0050438493,
           0.0023518098,
           0.18628544,
           0.056694955,
           -0.009028529,
           0.020933775,
           0.074965015,
           0.060611207,
           0.12104224,
           -0.06424942,
           0.13972783,
           0.039534256,
           0.07052353,
           0.10719709,
           -0.01236043,
           0.06367034,
           -0.013752254,
           0.0810651,
           -0.008595578,
           0.2496801,
           0.004789171,
           0.15102693
          ],
          [
           0.015884794,
           -0.059634663,
           -0.035443984,
           0.0028463528,
           -0.026035901,
           0.026913568,
           0.0077395663,
           0.028420195,
           -0.04105284,
           0.026273128,
           0.033260036,
           0.086740956,
           -0.034135908,
           0.011644429,
           0.06155392,
           0.038441416,
           0.012268794,
           0.018021535,
           0.031329453,
           0.08307817,
           -0.021243542,
           -0.005424414,
           0.012819901,
           -0.017382309,
           0.13310535,
           0.024930902,
           0.9999896,
           0.0094886515,
           -0.0016884524,
           0.013640224,
           0.0142699415,
           -0.0051977714,
           0.023158193,
           0.03177027,
           -0.017441832,
           -0.007239603,
           0.050615877,
           0.1309863,
           0.08273322,
           0.03850238,
           -0.0118648335,
           0.09973119,
           0.15066512,
           0.054010384,
           0.013014287,
           0.08767949,
           0.012395505,
           0.0018498842,
           0.023594687,
           0.017944854,
           0.077326104,
           0.01985963,
           0.07660597,
           0.018353216,
           0.077965684,
           -0.019012412,
           0.0429441
          ],
          [
           0.0134455105,
           -0.01918985,
           0.038786437,
           -0.004229472,
           -0.0068210587,
           -0.0008148253,
           0.09256916,
           -0.0015039518,
           -0.0066417353,
           0.04320964,
           0.14947286,
           0.0042265556,
           0.010967835,
           0.078480214,
           -0.015628159,
           0.04693133,
           -0.022722669,
           0.022037331,
           0.0008612154,
           -0.005403361,
           0.035646442,
           -0.0077049453,
           -0.010598046,
           0.013679956,
           -0.038831763,
           0.043660134,
           0.0094886515,
           0.99990785,
           0.04825047,
           -0.01826643,
           0.022025485,
           -0.023907315,
           -0.00064453296,
           -0.045020886,
           0.015853863,
           0.030369166,
           0.03948711,
           0.07797949,
           0.056415047,
           -0.03211728,
           -0.0035347033,
           0.103988245,
           0.059711322,
           0.004664315,
           -0.004662461,
           0.04003233,
           0.027598262,
           0.046243686,
           0.06667349,
           0.032506403,
           -0.0025801752,
           0.02927067,
           0.083631605,
           -0.016445205,
           0.12254953,
           -0.03192506,
           0.016865231
          ],
          [
           0.038951285,
           0.05507522,
           -0.0296438,
           -0.015117931,
           -0.026404899,
           0.11034949,
           -0.005897497,
           -0.018107219,
           0.082582995,
           -0.00081471866,
           0.15569031,
           0.1294106,
           0.05472274,
           0.12668335,
           0.05075774,
           0.020148061,
           0.040512335,
           0.034433495,
           -0.013745263,
           0.27957863,
           0.095825806,
           0.122419916,
           0.1841524,
           0.018970476,
           0.12472517,
           0.07929118,
           -0.0016884524,
           0.04825047,
           1.0001074,
           0.010830126,
           0.025834244,
           0.029417573,
           -0.023893237,
           0.053684466,
           0.0032689953,
           0.043302804,
           0.077569336,
           0.05727925,
           0.112473965,
           -0.013672525,
           -0.0057170484,
           0.060642615,
           0.0173751,
           0.046047695,
           -0.020217579,
           0.081033155,
           0.045732163,
           0.04831999,
           0.16714494,
           0.13882998,
           0.035569087,
           0.041238043,
           -0.025605291,
           0.024652883,
           0.10916537,
           -0.006392449,
           0.06498769
          ],
          [
           0.039600313,
           0.09290503,
           0.042716537,
           0.059430275,
           0.05999594,
           -0.006545376,
           -0.022945441,
           0.031990662,
           0.03112136,
           0.049183853,
           -0.012938507,
           0.0018537245,
           0.027191397,
           0.04869793,
           0.03343772,
           -0.00506798,
           0.19055465,
           0.043866284,
           -0.0016993438,
           -0.00397914,
           0.011944853,
           0.0077677043,
           0.077127665,
           0.02838559,
           0.030563068,
           0.028870054,
           0.013640224,
           -0.01826643,
           0.010830126,
           0.99990857,
           0.101692125,
           -0.000035425648,
           -0.00889839,
           -0.053925894,
           0.09302403,
           0.015342624,
           0.043263704,
           0.027311036,
           0.018719416,
           0.021050192,
           0.036005903,
           0.0063275415,
           0.066321515,
           0.008512726,
           0.043486036,
           0.0089579625,
           0.013955671,
           0.010055679,
           0.105761364,
           0.11435078,
           0.019646794,
           0.03354892,
           0.017653365,
           -0.041963015,
           -0.016972398,
           -0.033266623,
           0.04571494
          ],
          [
           0.06651008,
           -0.025736969,
           -0.016402362,
           0.044233292,
           0.031016694,
           0.014664406,
           0.01697091,
           0.07006522,
           0.32026482,
           0.04387746,
           0.012073429,
           0.089683875,
           0.06564895,
           0.2387613,
           0.08697155,
           0.19745839,
           0.1554775,
           0.08368028,
           -0.024121815,
           0.019251712,
           0.27609915,
           0.1402688,
           0.031335935,
           0.052639343,
           0.010778446,
           0.18892872,
           0.0142699415,
           0.022025485,
           0.025834244,
           0.101692125,
           0.99999857,
           0.026856925,
           0.049630485,
           0.058403373,
           0.0019569378,
           0.01278645,
           0.022465913,
           0.07209216,
           0.09889772,
           0.003533749,
           0.0253474,
           0.050673805,
           0.054201473,
           0.19898748,
           0.022201614,
           0.053310674,
           0.11455117,
           -0.023270082,
           0.13316067,
           0.10854409,
           0.06317,
           -0.019939473,
           -0.0058253095,
           0.024330981,
           -0.040777795,
           -0.007791345,
           0.08857719
          ],
          [
           0.002242202,
           0.047287725,
           0.021213502,
           -0.0011895485,
           0.007987484,
           -0.008865832,
           0.018375345,
           0.013558943,
           0.07613197,
           0.023514085,
           -0.006385288,
           0.005064578,
           0.03314998,
           0.026543949,
           0.029383563,
           -0.022987196,
           0.05376485,
           0.006907521,
           0.009363334,
           0.030868348,
           0.031822,
           0.008822005,
           0.04336445,
           0.033657666,
           0.02259783,
           0.010610749,
           -0.0051977714,
           -0.023907315,
           0.029417573,
           -0.000035425648,
           0.026856925,
           1.0002565,
           -0.026760023,
           -0.033064626,
           0.2002526,
           0.010555675,
           -0.005722911,
           0.0075810608,
           0.019067142,
           0.051130485,
           0.374155,
           -0.05200179,
           0.009455312,
           -0.0034957766,
           -0.013196557,
           0.022761848,
           -0.010257316,
           -0.006287314,
           0.036970884,
           0.03499026,
           -0.015506984,
           0.032445606,
           -0.009620715,
           -0.027616326,
           0.01429612,
           0.12162292,
           0.0015616771
          ],
          [
           0.036568604,
           -0.06727454,
           0.2068231,
           0.114427,
           0.06468086,
           -0.007325266,
           -0.026147358,
           0.16509712,
           -0.005954503,
           0.25024855,
           0.064210184,
           0.030639602,
           -0.07360062,
           0.05495076,
           0.21687146,
           -0.00049456395,
           0.13955957,
           0.13659656,
           0.14044768,
           0.1043057,
           0.029055804,
           0.03467538,
           -0.00006776303,
           -0.008653399,
           0.010631177,
           0.013703404,
           0.023158193,
           -0.00064453296,
           -0.023893237,
           -0.00889839,
           0.049630485,
           -0.026760023,
           1.000262,
           0.0002541598,
           -0.07126272,
           -0.0044458155,
           -0.015395227,
           0.020013722,
           0.071060546,
           0.2234981,
           -0.01841057,
           0.028256712,
           -0.0018357914,
           0.015771177,
           0.17292169,
           0.05606553,
           0.113676324,
           0.04772863,
           0.04398341,
           0.013634663,
           0.07684949,
           -0.0031847043,
           0.14591777,
           0.13801539,
           -0.0051319674,
           -0.02303034,
           0.010647908
          ],
          [
           0.04162038,
           -0.016535142,
           -0.011586458,
           -0.071336426,
           0.03152152,
           0.0152283525,
           -0.012696529,
           -0.007367027,
           0.03840393,
           -0.008311827,
           0.009227632,
           0.12225036,
           0.0048403144,
           0.033988435,
           0.044868954,
           0.09571552,
           -0.022599565,
           0.042696588,
           -0.03135792,
           -0.01614131,
           -0.048573554,
           0.01957241,
           -0.024939751,
           0.009278869,
           0.049669534,
           0.036836825,
           0.03177027,
           -0.045020886,
           0.053684466,
           -0.053925894,
           0.058403373,
           -0.033064626,
           0.0002541598,
           1.0000856,
           -0.013259567,
           -0.037119463,
           -0.012738314,
           -0.0111857485,
           -0.023829198,
           0.040070698,
           -0.026620962,
           -0.018597841,
           0.006358536,
           0.16169249,
           -0.049525265,
           -0.03138637,
           0.00029342435,
           -0.019685403,
           0.04053743,
           -0.01608244,
           -0.018714778,
           -0.027576812,
           -0.00077695306,
           0.024190733,
           0.014875995,
           0.0321023,
           0.012901043
          ],
          [
           0.009225409,
           0.019136896,
           0.027854241,
           0.008244651,
           -0.024843426,
           0.014042834,
           0.0011594947,
           0.01828638,
           0.009324843,
           -0.013548814,
           -0.028052222,
           -0.00070025213,
           0.025542669,
           0.01764945,
           0.00999002,
           -0.061889734,
           0.00027445937,
           0.0037649164,
           -0.038458385,
           -0.056517694,
           -0.004446215,
           0.004186971,
           0.016523054,
           0.06713951,
           -0.0042364877,
           0.008357078,
           -0.017441832,
           0.015853863,
           0.0032689953,
           0.09302403,
           0.0019569378,
           0.2002526,
           -0.07126272,
           -0.013259567,
           0.9998063,
           0.023376536,
           -0.0051353825,
           0.0023929253,
           -0.010920921,
           0.028330985,
           0.18613493,
           -0.0356682,
           0.00623055,
           -0.026590433,
           0.009707727,
           0.0018343767,
           0.019449426,
           -0.0055849953,
           0.015773166,
           0.021410555,
           -0.01873495,
           -0.03268107,
           0.011099711,
           0.016291969,
           -0.014095068,
           0.05936812,
           -0.021085728
          ],
          [
           0.035594687,
           -0.0075983796,
           -0.008523772,
           -0.0039935373,
           0.019966219,
           0.02762828,
           0.036246855,
           -0.017863281,
           0.012808073,
           -0.012674186,
           0.06503284,
           0.024104945,
           0.058163144,
           0.02533352,
           0.015912268,
           0.02007694,
           0.020578682,
           -0.009325657,
           -0.0061700717,
           -0.019568872,
           0.009662566,
           0.021153135,
           0.06487849,
           0.05427644,
           -0.0020867363,
           0.0050438493,
           -0.007239603,
           0.030369166,
           0.043302804,
           0.015342624,
           0.01278645,
           0.010555675,
           -0.0044458155,
           -0.037119463,
           0.023376536,
           0.99967426,
           0.035130464,
           0.05583522,
           0.017535593,
           -0.0026474074,
           -0.013754036,
           0.05208791,
           0.05022531,
           0.004030156,
           -0.011394433,
           0.023288675,
           0.025190976,
           -0.018522585,
           0.021143772,
           0.01384588,
           0.025747329,
           0.17430758,
           0.0080058575,
           -0.026982205,
           -0.043498386,
           0.0069711423,
           0.053432103
          ],
          [
           -0.007941109,
           0.03833136,
           -0.0073094545,
           0.014711526,
           0.037938405,
           0.029282076,
           0.032440618,
           -0.028834684,
           0.052795075,
           0.027698558,
           0.01567593,
           0.045474015,
           0.034169655,
           0.070702866,
           -0.03563039,
           0.050260596,
           0.074409805,
           -0.019311393,
           0.020900598,
           -0.0036008307,
           0.0019799406,
           0.022882838,
           0.121641055,
           -0.030556042,
           0.13942035,
           0.0023518098,
           0.050615877,
           0.03948711,
           0.077569336,
           0.043263704,
           0.022465913,
           -0.005722911,
           -0.015395227,
           -0.012738314,
           -0.0051353825,
           0.035130464,
           1.0002726,
           0.046170615,
           0.032348905,
           -0.041034285,
           -0.03710203,
           0.025410395,
           0.108289555,
           0.019248687,
           -0.02196134,
           0.035720196,
           -0.029672757,
           -0.023554537,
           0.034805905,
           0.07752705,
           0.017171038,
           0.053513132,
           0.010644225,
           -0.0024547167,
           0.004642283,
           0.04694895,
           0.03755261
          ],
          [
           0.032591008,
           -0.0093511,
           -0.0051502483,
           0.03193804,
           -0.03079663,
           0.043854617,
           0.058698155,
           0.056065824,
           -0.0003049504,
           0.03190213,
           0.2373762,
           0.07393117,
           0.05475316,
           0.09673646,
           0.1521917,
           0.057052925,
           0.07014994,
           0.07907143,
           0.08652947,
           0.09280914,
           0.037376523,
           0.024910733,
           0.08554665,
           -0.013866369,
           0.058861606,
           0.18628544,
           0.1309863,
           0.07797949,
           0.05727925,
           0.027311036,
           0.07209216,
           0.0075810608,
           0.020013722,
           -0.0111857485,
           0.0023929253,
           0.05583522,
           0.046170615,
           0.9997022,
           0.154398,
           -0.011145469,
           -0.016037464,
           0.22826312,
           0.043605313,
           0.01375503,
           0.009457378,
           0.10584466,
           0.004794011,
           0.07844353,
           0.062462404,
           0.047450155,
           0.09037696,
           0.017584108,
           0.17256938,
           -0.028325252,
           0.08957885,
           -0.017023688,
           0.11745429
          ],
          [
           0.040709216,
           0.034752995,
           0.012331828,
           0.04994132,
           0.029540597,
           0.07482127,
           0.011834695,
           0.04333029,
           0.07027288,
           0.103599176,
           0.16094966,
           0.07426408,
           0.021348557,
           0.09216404,
           0.05360698,
           0.12793958,
           0.079979785,
           0.065727755,
           0.089072905,
           0.1966119,
           0.07549297,
           0.029027108,
           0.029305262,
           -0.012917822,
           0.040575996,
           0.056694955,
           0.08273322,
           0.056415047,
           0.112473965,
           0.018719416,
           0.09889772,
           0.019067142,
           0.071060546,
           -0.023829198,
           -0.010920921,
           0.017535593,
           0.032348905,
           0.154398,
           0.9997808,
           0.05033866,
           0.006366816,
           0.24566285,
           0.027340055,
           0.040021658,
           0.067631885,
           0.19889402,
           0.0452301,
           0.08714597,
           0.04415939,
           0.05733064,
           0.18481094,
           0.017472997,
           0.0710783,
           0.02985112,
           0.112072974,
           -0.022714093,
           0.10028368
          ],
          [
           0.042070456,
           -0.05618369,
           0.30919862,
           0.2907415,
           0.026157461,
           0.008934213,
           0.011700475,
           0.24946779,
           0.0016144719,
           0.21841335,
           0.041914947,
           -0.06917101,
           0.024191871,
           -0.0300208,
           0.19446228,
           0.0019252263,
           0.120457195,
           0.022016907,
           0.087355316,
           -0.06752041,
           -0.03381968,
           0.007644563,
           0.03722439,
           0.007220393,
           0.011337464,
           -0.009028529,
           0.03850238,
           -0.03211728,
           -0.013672525,
           0.021050192,
           0.003533749,
           0.051130485,
           0.2234981,
           0.040070698,
           0.028330985,
           -0.0026474074,
           -0.041034285,
           -0.011145469,
           0.05033866,
           1.0000721,
           -0.0011966592,
           -0.05448879,
           -0.032201968,
           0.035338223,
           0.08772886,
           -0.040178973,
           0.1420503,
           0.089980915,
           -0.039519954,
           0.016032849,
           -0.007937718,
           -0.0019640932,
           0.1772283,
           -0.07506932,
           -0.00278477,
           -0.0021141097,
           -0.057635166
          ],
          [
           -0.046681166,
           0.03348431,
           0.013581281,
           0.0041491985,
           -0.02301173,
           -0.054987498,
           0.01336756,
           0.008030341,
           0.019515734,
           -0.015575793,
           -0.023176085,
           -0.036964484,
           0.029625375,
           -0.016302466,
           0.01403148,
           -0.009179249,
           -0.011348663,
           -0.016239671,
           0.022504207,
           0.010875035,
           0.012015054,
           -0.0043321135,
           0.014653385,
           0.037607312,
           -0.014506191,
           0.020933775,
           -0.0118648335,
           -0.0035347033,
           -0.0057170484,
           0.036005903,
           0.0253474,
           0.374155,
           -0.01841057,
           -0.026620962,
           0.18613493,
           -0.013754036,
           -0.03710203,
           -0.016037464,
           0.006366816,
           -0.0011966592,
           1.0001533,
           -0.008127137,
           -0.0077776127,
           0.00881146,
           0.025496619,
           0.0042696875,
           0.0049174633,
           -0.027860422,
           0.015423058,
           0.0034304457,
           -0.010403457,
           0.0039995406,
           -0.030974448,
           0.046430234,
           0.014882211,
           0.080708206,
           -0.014914149
          ],
          [
           -0.009270172,
           -0.021031415,
           -0.025211968,
           0.008729316,
           0.0199336,
           0.005318273,
           -0.0028418424,
           0.00029695313,
           0.011076319,
           0.10760605,
           0.12071717,
           0.09314575,
           0.023213692,
           0.06262133,
           0.037017666,
           0.07989387,
           0.047263004,
           0.028241811,
           0.057131335,
           0.16357857,
           0.048852175,
           -0.009185524,
           0.085301176,
           0.0024228971,
           0.05120475,
           0.074965015,
           0.09973119,
           0.103988245,
           0.060642615,
           0.0063275415,
           0.050673805,
           -0.05200179,
           0.028256712,
           -0.018597841,
           -0.0356682,
           0.05208791,
           0.025410395,
           0.22826312,
           0.24566285,
           -0.05448879,
           -0.008127137,
           0.9999287,
           0.12225923,
           -0.020811107,
           0.057151474,
           0.36882716,
           0.08499874,
           0.13307709,
           -0.01710046,
           0.023795884,
           0.09856098,
           0.12518482,
           0.1078112,
           0.013737994,
           0.15646295,
           0.004018658,
           0.17838466
          ],
          [
           0.015643703,
           0.034897227,
           -0.03807028,
           -0.0049925335,
           0.034090046,
           0.029784173,
           0.04996242,
           0.07971308,
           0.04115728,
           0.034771375,
           -0.032324184,
           0.08240258,
           -0.028628256,
           0.044458747,
           0.013894338,
           0.17690463,
           0.057074767,
           0.019898733,
           0.0444865,
           0.032773364,
           0.030004334,
           -0.010193894,
           0.1841937,
           -0.0081071155,
           0.29309765,
           0.060611207,
           0.15066512,
           0.059711322,
           0.0173751,
           0.066321515,
           0.054201473,
           0.009455312,
           -0.0018357914,
           0.006358536,
           0.00623055,
           0.05022531,
           0.108289555,
           0.043605313,
           0.027340055,
           -0.032201968,
           -0.0077776127,
           0.12225923,
           0.99969935,
           0.046649955,
           0.014537288,
           0.09831383,
           0.007899327,
           -0.027808126,
           0.06487356,
           0.0329328,
           0.05911769,
           0.09549229,
           0.007374973,
           0.0010997215,
           -0.0031865826,
           0.02081908,
           0.15134192
          ],
          [
           0.08464483,
           -0.00334155,
           -0.038922854,
           -0.05214828,
           0.0068454603,
           0.3217728,
           -0.0032617156,
           -0.027206542,
           0.21362251,
           0.007826325,
           -0.017916365,
           0.06888382,
           0.007016917,
           0.19522853,
           -0.0041083335,
           0.07403779,
           0.052932166,
           0.021427713,
           -0.08350456,
           -0.014924517,
           0.0646914,
           0.054479934,
           0.04521083,
           -0.019227646,
           0.018535316,
           0.12104224,
           0.054010384,
           0.004664315,
           0.046047695,
           0.008512726,
           0.19898748,
           -0.0034957766,
           0.015771177,
           0.16169249,
           -0.026590433,
           0.004030156,
           0.019248687,
           0.01375503,
           0.040021658,
           0.035338223,
           0.00881146,
           -0.020811107,
           0.046649955,
           0.9999355,
           -0.029584069,
           0.011377715,
           -0.024871405,
           0.00029912218,
           0.23853776,
           0.072428405,
           0.056340802,
           0.005322966,
           -0.016755845,
           -0.012861034,
           0.0145743005,
           -0.027658628,
           0.042200863
          ],
          [
           -0.02989452,
           0.03562627,
           0.2201246,
           0.22569636,
           0.0035040285,
           0.0042149443,
           -0.03307919,
           0.25442496,
           -0.02718189,
           0.23388922,
           0.067096926,
           0.02749215,
           -0.027856775,
           0.02505074,
           0.24042526,
           -0.050454743,
           0.16520561,
           0.14837593,
           0.16388342,
           0.14025488,
           0.029533766,
           -0.027894668,
           -0.07301724,
           -0.0049793636,
           -0.030004147,
           -0.06424942,
           0.013014287,
           -0.004662461,
           -0.020217579,
           0.043486036,
           0.022201614,
           -0.013196557,
           0.17292169,
           -0.049525265,
           0.009707727,
           -0.011394433,
           -0.02196134,
           0.009457378,
           0.067631885,
           0.08772886,
           0.025496619,
           0.057151474,
           0.014537288,
           -0.029584069,
           0.99990475,
           0.038928866,
           0.14443262,
           -0.015136448,
           0.011604771,
           0.02835895,
           -0.0029357644,
           0.005985575,
           0.18886141,
           0.24652894,
           -0.031839684,
           -0.026709525,
           -0.017909419
          ],
          [
           0.027931273,
           -0.023056269,
           -0.070124045,
           0.025661556,
           0.023438456,
           -0.007815087,
           -0.0135070635,
           -0.0001930343,
           0.0013688793,
           0.09100312,
           0.116695985,
           0.050631672,
           -0.008335435,
           0.05162043,
           0.04340757,
           0.09174319,
           0.049416695,
           0.054376476,
           0.024225624,
           0.14020854,
           0.07150406,
           -0.039822005,
           0.11256024,
           0.011412079,
           0.058732305,
           0.13972783,
           0.08767949,
           0.04003233,
           0.081033155,
           0.0089579625,
           0.053310674,
           0.022761848,
           0.05606553,
           -0.03138637,
           0.0018343767,
           0.023288675,
           0.035720196,
           0.10584466,
           0.19889402,
           -0.040178973,
           0.0042696875,
           0.36882716,
           0.09831383,
           0.011377715,
           0.038928866,
           1.0002904,
           0.03537535,
           0.18221074,
           0.02518644,
           0.061227534,
           0.17728738,
           0.11445014,
           0.0742289,
           0.015667558,
           0.19333875,
           -0.014855739,
           0.09766885
          ],
          [
           0.06926136,
           0.010926627,
           0.16865912,
           0.17652217,
           0.044970073,
           -0.027009826,
           0.013690187,
           0.18589017,
           0.05569406,
           0.20813781,
           0.1177105,
           0.07250228,
           0.02929563,
           0.053182766,
           0.23155178,
           0.037670724,
           0.16625929,
           0.124107465,
           0.24298929,
           0.07772869,
           0.17431135,
           0.020919513,
           -0.0023194924,
           0.0125130005,
           0.07481134,
           0.039534256,
           0.012395505,
           0.027598262,
           0.045732163,
           0.013955671,
           0.11455117,
           -0.010257316,
           0.113676324,
           0.00029342435,
           0.019449426,
           0.025190976,
           -0.029672757,
           0.004794011,
           0.0452301,
           0.1420503,
           0.0049174633,
           0.08499874,
           0.007899327,
           -0.024871405,
           0.14443262,
           0.03537535,
           0.99972105,
           0.10456692,
           0.0050712507,
           0.06008376,
           0.121320345,
           -0.03502194,
           0.14121132,
           0.12139003,
           -0.035981547,
           -0.015611708,
           0.068118684
          ],
          [
           0.05079957,
           -0.01326903,
           0.21209125,
           0.018616693,
           0.004605541,
           0.010186171,
           0.048548378,
           0.03125482,
           -0.002912078,
           0.17465883,
           0.24526103,
           0.0936386,
           0.025454491,
           0.06207952,
           0.03811118,
           -0.004149911,
           0.08771513,
           0.1219998,
           0.038472496,
           0.049830366,
           0.061849985,
           -0.007454438,
           -0.0014537126,
           -0.0011530537,
           -0.03243243,
           0.07052353,
           0.0018498842,
           0.046243686,
           0.04831999,
           0.010055679,
           -0.023270082,
           -0.006287314,
           0.04772863,
           -0.019685403,
           -0.0055849953,
           -0.018522585,
           -0.023554537,
           0.07844353,
           0.08714597,
           0.089980915,
           -0.027860422,
           0.13307709,
           -0.027808126,
           0.00029912218,
           -0.015136448,
           0.18221074,
           0.10456692,
           1.0003343,
           0.0066168057,
           -0.009538604,
           0.1209524,
           0.00051526166,
           0.35214216,
           0.018563617,
           0.34070772,
           -0.030987153,
           0.028812211
          ],
          [
           0.05376058,
           -0.036910202,
           -0.044599723,
           0.0003468222,
           0.021690434,
           0.15292028,
           -0.006689257,
           -0.053650662,
           0.18575025,
           0.081982546,
           -0.001795033,
           0.060825065,
           0.039824363,
           0.2603783,
           -0.012566129,
           0.040896416,
           0.14099196,
           0.20027241,
           -0.0929027,
           0.061534982,
           0.22012107,
           0.08278311,
           0.066626884,
           0.0025811428,
           -0.0054204073,
           0.10719709,
           0.023594687,
           0.06667349,
           0.16714494,
           0.105761364,
           0.13316067,
           0.036970884,
           0.04398341,
           0.04053743,
           0.015773166,
           0.021143772,
           0.034805905,
           0.062462404,
           0.04415939,
           -0.039519954,
           0.015423058,
           -0.01710046,
           0.06487356,
           0.23853776,
           0.011604771,
           0.02518644,
           0.0050712507,
           0.0066168057,
           1.0000403,
           0.17645541,
           0.05316072,
           -0.006064862,
           -0.0069723567,
           -0.004889466,
           0.013761414,
           -0.0028731031,
           0.085253775
          ],
          [
           0.021483205,
           0.05428406,
           -0.011285153,
           0.031506553,
           0.03685015,
           0.034155875,
           0.008192528,
           0.0051778816,
           0.10910766,
           -0.0103934035,
           0.016299553,
           0.026183939,
           0.006880726,
           0.11161681,
           0.035369415,
           0.091848835,
           0.2331396,
           0.020824803,
           -0.07162549,
           0.06373128,
           0.14606716,
           0.033425573,
           0.110968634,
           0.0031045275,
           0.018481351,
           -0.01236043,
           0.017944854,
           0.032506403,
           0.13882998,
           0.11435078,
           0.10854409,
           0.03499026,
           0.013634663,
           -0.01608244,
           0.021410555,
           0.01384588,
           0.07752705,
           0.047450155,
           0.05733064,
           0.016032849,
           0.0034304457,
           0.023795884,
           0.0329328,
           0.072428405,
           0.02835895,
           0.061227534,
           0.06008376,
           -0.009538604,
           0.17645541,
           1.0000969,
           0.02021798,
           0.01612143,
           -0.013939645,
           -0.022794299,
           0.028000306,
           0.011777563,
           0.09697631
          ],
          [
           0.02816856,
           -0.007293769,
           -0.07171483,
           0.11152644,
           0.104433686,
           -0.05128686,
           -0.020681852,
           0.019781671,
           0.03559791,
           0.05574765,
           0.064835735,
           0.09465156,
           -0.013782737,
           0.13029425,
           0.08468449,
           0.13151291,
           0.05053526,
           0.0017401315,
           0.018306449,
           -0.00033411756,
           0.0746931,
           -0.015710667,
           0.006934153,
           0.0130659705,
           0.0056457147,
           0.06367034,
           0.077326104,
           -0.0025801752,
           0.035569087,
           0.019646794,
           0.06317,
           -0.015506984,
           0.07684949,
           -0.018714778,
           -0.01873495,
           0.025747329,
           0.017171038,
           0.09037696,
           0.18481094,
           -0.007937718,
           -0.010403457,
           0.09856098,
           0.05911769,
           0.056340802,
           -0.0029357644,
           0.17728738,
           0.121320345,
           0.1209524,
           0.05316072,
           0.02021798,
           0.99963385,
           -0.01866063,
           0.059372976,
           0.037619814,
           0.051239885,
           -0.057364862,
           0.1057771
          ],
          [
           0.009217219,
           0.019342467,
           0.01506464,
           -0.009060567,
           0.021812528,
           0.014376864,
           0.022807168,
           -0.0037194926,
           0.015293141,
           0.019121746,
           -0.014369051,
           0.0056827166,
           0.03579843,
           0.018979663,
           0.015114235,
           0.020494333,
           0.0376655,
           0.0097484,
           0.015021931,
           0.043199975,
           0.0108851,
           0.009622549,
           0.2690484,
           0.041849077,
           0.12719877,
           -0.013752254,
           0.01985963,
           0.02927067,
           0.041238043,
           0.03354892,
           -0.019939473,
           0.032445606,
           -0.0031847043,
           -0.027576812,
           -0.03268107,
           0.17430758,
           0.053513132,
           0.017584108,
           0.017472997,
           -0.0019640932,
           0.0039995406,
           0.12518482,
           0.09549229,
           0.005322966,
           0.005985575,
           0.11445014,
           -0.03502194,
           0.00051526166,
           -0.006064862,
           0.01612143,
           -0.01866063,
           1.0001442,
           -0.025483292,
           -0.012241808,
           0.06034811,
           0.0021361643,
           0.022913285
          ],
          [
           0.00027395412,
           -0.032060854,
           0.43353546,
           0.09216134,
           0.040697135,
           -0.025251223,
           0.031116012,
           0.17486177,
           -0.05885638,
           0.326737,
           0.33456498,
           0.050030194,
           0.030754358,
           0.076236,
           0.14352158,
           -0.06605609,
           0.21275932,
           0.18965942,
           0.08183612,
           0.047948197,
           -0.026672378,
           0.027771428,
           -0.048371047,
           -0.0044000535,
           -0.03389892,
           0.0810651,
           0.07660597,
           0.083631605,
           -0.025605291,
           0.017653365,
           -0.0058253095,
           -0.009620715,
           0.14591777,
           -0.00077695306,
           0.011099711,
           0.0080058575,
           0.010644225,
           0.17256938,
           0.0710783,
           0.1772283,
           -0.030974448,
           0.1078112,
           0.007374973,
           -0.016755845,
           0.18886141,
           0.0742289,
           0.14121132,
           0.35214216,
           -0.0069723567,
           -0.013939645,
           0.059372976,
           -0.025483292,
           0.99966323,
           0.108464584,
           0.3128264,
           -0.025591437,
           0.012068827
          ],
          [
           0.064475596,
           0.100782365,
           0.2150321,
           0.004254318,
           0.03852901,
           0.00844368,
           0.028307632,
           0.2763314,
           -0.0058538187,
           0.09538957,
           0.06909667,
           0.053313714,
           -0.048880268,
           0.06067677,
           0.1625711,
           -0.016292103,
           0.121050514,
           0.069169894,
           0.16897386,
           0.12166883,
           0.05753913,
           0.03581799,
           -0.012444418,
           0.0029296065,
           0.016286852,
           -0.008595578,
           0.018353216,
           -0.016445205,
           0.024652883,
           -0.041963015,
           0.024330981,
           -0.027616326,
           0.13801539,
           0.024190733,
           0.016291969,
           -0.026982205,
           -0.0024547167,
           -0.028325252,
           0.02985112,
           -0.07506932,
           0.046430234,
           0.013737994,
           0.0010997215,
           -0.012861034,
           0.24652894,
           0.015667558,
           0.12139003,
           0.018563617,
           -0.004889466,
           -0.022794299,
           0.037619814,
           -0.012241808,
           0.108464584,
           1.0001119,
           0.056515187,
           0.010381157,
           -0.024587888
          ],
          [
           0.039919615,
           0.0155470185,
           0.012380496,
           -0.020164195,
           0.0033377595,
           0.010133079,
           0.11325089,
           0.02836609,
           0.0073411176,
           0.11921722,
           0.34956217,
           0.1172485,
           0.05354602,
           0.12880239,
           0.072860196,
           0.047161173,
           0.03092384,
           0.10984784,
           0.063580856,
           0.14892343,
           0.059568293,
           0.07708118,
           0.11886722,
           -0.01805203,
           0.04906925,
           0.2496801,
           0.077965684,
           0.12254953,
           0.10916537,
           -0.016972398,
           -0.040777795,
           0.01429612,
           -0.0051319674,
           0.014875995,
           -0.014095068,
           -0.043498386,
           0.004642283,
           0.08957885,
           0.112072974,
           -0.00278477,
           0.014882211,
           0.15646295,
           -0.0031865826,
           0.0145743005,
           -0.031839684,
           0.19333875,
           -0.035981547,
           0.34070772,
           0.013761414,
           0.028000306,
           0.051239885,
           0.06034811,
           0.3128264,
           0.056515187,
           0.99991673,
           -0.009200454,
           0.17087913
          ],
          [
           0.025279885,
           0.1009523,
           -0.02031102,
           -0.018970141,
           -0.049193785,
           0.012689828,
           -0.008463204,
           -0.031833813,
           -0.0058191535,
           -0.0027281232,
           -0.034508914,
           -0.004001376,
           0.029538557,
           -0.020597849,
           -0.02450785,
           0.008066159,
           0.00031032786,
           -0.009470791,
           -0.004403593,
           0.024475861,
           -0.009726364,
           -0.017270334,
           -0.013040672,
           -0.025733499,
           0.012428989,
           0.004789171,
           -0.019012412,
           -0.03192506,
           -0.006392449,
           -0.033266623,
           -0.007791345,
           0.12162292,
           -0.02303034,
           0.0321023,
           0.05936812,
           0.0069711423,
           0.04694895,
           -0.017023688,
           -0.022714093,
           -0.0021141097,
           0.080708206,
           0.004018658,
           0.02081908,
           -0.027658628,
           -0.026709525,
           -0.014855739,
           -0.015611708,
           -0.030987153,
           -0.0028731031,
           0.011777563,
           -0.057364862,
           0.0021361643,
           -0.025591437,
           0.010381157,
           -0.009200454,
           1.0002089,
           0.0110363215
          ],
          [
           0.03770216,
           0.0315891,
           -0.08935906,
           0.031992223,
           -0.0024181139,
           0.033571377,
           0.027347906,
           -0.022353817,
           0.068814956,
           0.014521854,
           0.049157213,
           0.22476709,
           0.0005821055,
           0.09482196,
           0.05848611,
           0.1701493,
           0.020315904,
           0.004140923,
           0.017825529,
           0.11481428,
           0.104038626,
           0.016593676,
           0.1037989,
           0.010346349,
           0.12957679,
           0.15102693,
           0.0429441,
           0.016865231,
           0.06498769,
           0.04571494,
           0.08857719,
           0.0015616771,
           0.010647908,
           0.012901043,
           -0.021085728,
           0.053432103,
           0.03755261,
           0.11745429,
           0.10028368,
           -0.057635166,
           -0.014914149,
           0.17838466,
           0.15134192,
           0.042200863,
           -0.017909419,
           0.09766885,
           0.068118684,
           0.028812211,
           0.085253775,
           0.09697631,
           0.1057771,
           0.022913285,
           0.012068827,
           -0.024587888,
           0.17087913,
           0.0110363215,
           1.0006361
          ]
         ]
        }
       ],
       "layout": {
        "coloraxis": {
         "colorscale": [
          [
           0,
           "#0d0887"
          ],
          [
           0.1111111111111111,
           "#46039f"
          ],
          [
           0.2222222222222222,
           "#7201a8"
          ],
          [
           0.3333333333333333,
           "#9c179e"
          ],
          [
           0.4444444444444444,
           "#bd3786"
          ],
          [
           0.5555555555555556,
           "#d8576b"
          ],
          [
           0.6666666666666666,
           "#ed7953"
          ],
          [
           0.7777777777777778,
           "#fb9f3a"
          ],
          [
           0.8888888888888888,
           "#fdca26"
          ],
          [
           1,
           "#f0f921"
          ]
         ]
        },
        "height": 800,
        "margin": {
         "t": 60
        },
        "template": {
         "data": {
          "bar": [
           {
            "error_x": {
             "color": "#2a3f5f"
            },
            "error_y": {
             "color": "#2a3f5f"
            },
            "marker": {
             "line": {
              "color": "#E5ECF6",
              "width": 0.5
             },
             "pattern": {
              "fillmode": "overlay",
              "size": 10,
              "solidity": 0.2
             }
            },
            "type": "bar"
           }
          ],
          "barpolar": [
           {
            "marker": {
             "line": {
              "color": "#E5ECF6",
              "width": 0.5
             },
             "pattern": {
              "fillmode": "overlay",
              "size": 10,
              "solidity": 0.2
             }
            },
            "type": "barpolar"
           }
          ],
          "carpet": [
           {
            "aaxis": {
             "endlinecolor": "#2a3f5f",
             "gridcolor": "white",
             "linecolor": "white",
             "minorgridcolor": "white",
             "startlinecolor": "#2a3f5f"
            },
            "baxis": {
             "endlinecolor": "#2a3f5f",
             "gridcolor": "white",
             "linecolor": "white",
             "minorgridcolor": "white",
             "startlinecolor": "#2a3f5f"
            },
            "type": "carpet"
           }
          ],
          "choropleth": [
           {
            "colorbar": {
             "outlinewidth": 0,
             "ticks": ""
            },
            "type": "choropleth"
           }
          ],
          "contour": [
           {
            "colorbar": {
             "outlinewidth": 0,
             "ticks": ""
            },
            "colorscale": [
             [
              0,
              "#0d0887"
             ],
             [
              0.1111111111111111,
              "#46039f"
             ],
             [
              0.2222222222222222,
              "#7201a8"
             ],
             [
              0.3333333333333333,
              "#9c179e"
             ],
             [
              0.4444444444444444,
              "#bd3786"
             ],
             [
              0.5555555555555556,
              "#d8576b"
             ],
             [
              0.6666666666666666,
              "#ed7953"
             ],
             [
              0.7777777777777778,
              "#fb9f3a"
             ],
             [
              0.8888888888888888,
              "#fdca26"
             ],
             [
              1,
              "#f0f921"
             ]
            ],
            "type": "contour"
           }
          ],
          "contourcarpet": [
           {
            "colorbar": {
             "outlinewidth": 0,
             "ticks": ""
            },
            "type": "contourcarpet"
           }
          ],
          "heatmap": [
           {
            "colorbar": {
             "outlinewidth": 0,
             "ticks": ""
            },
            "colorscale": [
             [
              0,
              "#0d0887"
             ],
             [
              0.1111111111111111,
              "#46039f"
             ],
             [
              0.2222222222222222,
              "#7201a8"
             ],
             [
              0.3333333333333333,
              "#9c179e"
             ],
             [
              0.4444444444444444,
              "#bd3786"
             ],
             [
              0.5555555555555556,
              "#d8576b"
             ],
             [
              0.6666666666666666,
              "#ed7953"
             ],
             [
              0.7777777777777778,
              "#fb9f3a"
             ],
             [
              0.8888888888888888,
              "#fdca26"
             ],
             [
              1,
              "#f0f921"
             ]
            ],
            "type": "heatmap"
           }
          ],
          "heatmapgl": [
           {
            "colorbar": {
             "outlinewidth": 0,
             "ticks": ""
            },
            "colorscale": [
             [
              0,
              "#0d0887"
             ],
             [
              0.1111111111111111,
              "#46039f"
             ],
             [
              0.2222222222222222,
              "#7201a8"
             ],
             [
              0.3333333333333333,
              "#9c179e"
             ],
             [
              0.4444444444444444,
              "#bd3786"
             ],
             [
              0.5555555555555556,
              "#d8576b"
             ],
             [
              0.6666666666666666,
              "#ed7953"
             ],
             [
              0.7777777777777778,
              "#fb9f3a"
             ],
             [
              0.8888888888888888,
              "#fdca26"
             ],
             [
              1,
              "#f0f921"
             ]
            ],
            "type": "heatmapgl"
           }
          ],
          "histogram": [
           {
            "marker": {
             "pattern": {
              "fillmode": "overlay",
              "size": 10,
              "solidity": 0.2
             }
            },
            "type": "histogram"
           }
          ],
          "histogram2d": [
           {
            "colorbar": {
             "outlinewidth": 0,
             "ticks": ""
            },
            "colorscale": [
             [
              0,
              "#0d0887"
             ],
             [
              0.1111111111111111,
              "#46039f"
             ],
             [
              0.2222222222222222,
              "#7201a8"
             ],
             [
              0.3333333333333333,
              "#9c179e"
             ],
             [
              0.4444444444444444,
              "#bd3786"
             ],
             [
              0.5555555555555556,
              "#d8576b"
             ],
             [
              0.6666666666666666,
              "#ed7953"
             ],
             [
              0.7777777777777778,
              "#fb9f3a"
             ],
             [
              0.8888888888888888,
              "#fdca26"
             ],
             [
              1,
              "#f0f921"
             ]
            ],
            "type": "histogram2d"
           }
          ],
          "histogram2dcontour": [
           {
            "colorbar": {
             "outlinewidth": 0,
             "ticks": ""
            },
            "colorscale": [
             [
              0,
              "#0d0887"
             ],
             [
              0.1111111111111111,
              "#46039f"
             ],
             [
              0.2222222222222222,
              "#7201a8"
             ],
             [
              0.3333333333333333,
              "#9c179e"
             ],
             [
              0.4444444444444444,
              "#bd3786"
             ],
             [
              0.5555555555555556,
              "#d8576b"
             ],
             [
              0.6666666666666666,
              "#ed7953"
             ],
             [
              0.7777777777777778,
              "#fb9f3a"
             ],
             [
              0.8888888888888888,
              "#fdca26"
             ],
             [
              1,
              "#f0f921"
             ]
            ],
            "type": "histogram2dcontour"
           }
          ],
          "mesh3d": [
           {
            "colorbar": {
             "outlinewidth": 0,
             "ticks": ""
            },
            "type": "mesh3d"
           }
          ],
          "parcoords": [
           {
            "line": {
             "colorbar": {
              "outlinewidth": 0,
              "ticks": ""
             }
            },
            "type": "parcoords"
           }
          ],
          "pie": [
           {
            "automargin": true,
            "type": "pie"
           }
          ],
          "scatter": [
           {
            "fillpattern": {
             "fillmode": "overlay",
             "size": 10,
             "solidity": 0.2
            },
            "type": "scatter"
           }
          ],
          "scatter3d": [
           {
            "line": {
             "colorbar": {
              "outlinewidth": 0,
              "ticks": ""
             }
            },
            "marker": {
             "colorbar": {
              "outlinewidth": 0,
              "ticks": ""
             }
            },
            "type": "scatter3d"
           }
          ],
          "scattercarpet": [
           {
            "marker": {
             "colorbar": {
              "outlinewidth": 0,
              "ticks": ""
             }
            },
            "type": "scattercarpet"
           }
          ],
          "scattergeo": [
           {
            "marker": {
             "colorbar": {
              "outlinewidth": 0,
              "ticks": ""
             }
            },
            "type": "scattergeo"
           }
          ],
          "scattergl": [
           {
            "marker": {
             "colorbar": {
              "outlinewidth": 0,
              "ticks": ""
             }
            },
            "type": "scattergl"
           }
          ],
          "scattermapbox": [
           {
            "marker": {
             "colorbar": {
              "outlinewidth": 0,
              "ticks": ""
             }
            },
            "type": "scattermapbox"
           }
          ],
          "scatterpolar": [
           {
            "marker": {
             "colorbar": {
              "outlinewidth": 0,
              "ticks": ""
             }
            },
            "type": "scatterpolar"
           }
          ],
          "scatterpolargl": [
           {
            "marker": {
             "colorbar": {
              "outlinewidth": 0,
              "ticks": ""
             }
            },
            "type": "scatterpolargl"
           }
          ],
          "scatterternary": [
           {
            "marker": {
             "colorbar": {
              "outlinewidth": 0,
              "ticks": ""
             }
            },
            "type": "scatterternary"
           }
          ],
          "surface": [
           {
            "colorbar": {
             "outlinewidth": 0,
             "ticks": ""
            },
            "colorscale": [
             [
              0,
              "#0d0887"
             ],
             [
              0.1111111111111111,
              "#46039f"
             ],
             [
              0.2222222222222222,
              "#7201a8"
             ],
             [
              0.3333333333333333,
              "#9c179e"
             ],
             [
              0.4444444444444444,
              "#bd3786"
             ],
             [
              0.5555555555555556,
              "#d8576b"
             ],
             [
              0.6666666666666666,
              "#ed7953"
             ],
             [
              0.7777777777777778,
              "#fb9f3a"
             ],
             [
              0.8888888888888888,
              "#fdca26"
             ],
             [
              1,
              "#f0f921"
             ]
            ],
            "type": "surface"
           }
          ],
          "table": [
           {
            "cells": {
             "fill": {
              "color": "#EBF0F8"
             },
             "line": {
              "color": "white"
             }
            },
            "header": {
             "fill": {
              "color": "#C8D4E3"
             },
             "line": {
              "color": "white"
             }
            },
            "type": "table"
           }
          ]
         },
         "layout": {
          "annotationdefaults": {
           "arrowcolor": "#2a3f5f",
           "arrowhead": 0,
           "arrowwidth": 1
          },
          "autotypenumbers": "strict",
          "coloraxis": {
           "colorbar": {
            "outlinewidth": 0,
            "ticks": ""
           }
          },
          "colorscale": {
           "diverging": [
            [
             0,
             "#8e0152"
            ],
            [
             0.1,
             "#c51b7d"
            ],
            [
             0.2,
             "#de77ae"
            ],
            [
             0.3,
             "#f1b6da"
            ],
            [
             0.4,
             "#fde0ef"
            ],
            [
             0.5,
             "#f7f7f7"
            ],
            [
             0.6,
             "#e6f5d0"
            ],
            [
             0.7,
             "#b8e186"
            ],
            [
             0.8,
             "#7fbc41"
            ],
            [
             0.9,
             "#4d9221"
            ],
            [
             1,
             "#276419"
            ]
           ],
           "sequential": [
            [
             0,
             "#0d0887"
            ],
            [
             0.1111111111111111,
             "#46039f"
            ],
            [
             0.2222222222222222,
             "#7201a8"
            ],
            [
             0.3333333333333333,
             "#9c179e"
            ],
            [
             0.4444444444444444,
             "#bd3786"
            ],
            [
             0.5555555555555556,
             "#d8576b"
            ],
            [
             0.6666666666666666,
             "#ed7953"
            ],
            [
             0.7777777777777778,
             "#fb9f3a"
            ],
            [
             0.8888888888888888,
             "#fdca26"
            ],
            [
             1,
             "#f0f921"
            ]
           ],
           "sequentialminus": [
            [
             0,
             "#0d0887"
            ],
            [
             0.1111111111111111,
             "#46039f"
            ],
            [
             0.2222222222222222,
             "#7201a8"
            ],
            [
             0.3333333333333333,
             "#9c179e"
            ],
            [
             0.4444444444444444,
             "#bd3786"
            ],
            [
             0.5555555555555556,
             "#d8576b"
            ],
            [
             0.6666666666666666,
             "#ed7953"
            ],
            [
             0.7777777777777778,
             "#fb9f3a"
            ],
            [
             0.8888888888888888,
             "#fdca26"
            ],
            [
             1,
             "#f0f921"
            ]
           ]
          },
          "colorway": [
           "#636efa",
           "#EF553B",
           "#00cc96",
           "#ab63fa",
           "#FFA15A",
           "#19d3f3",
           "#FF6692",
           "#B6E880",
           "#FF97FF",
           "#FECB52"
          ],
          "font": {
           "color": "#2a3f5f"
          },
          "geo": {
           "bgcolor": "white",
           "lakecolor": "white",
           "landcolor": "#E5ECF6",
           "showlakes": true,
           "showland": true,
           "subunitcolor": "white"
          },
          "hoverlabel": {
           "align": "left"
          },
          "hovermode": "closest",
          "mapbox": {
           "style": "light"
          },
          "paper_bgcolor": "white",
          "plot_bgcolor": "#E5ECF6",
          "polar": {
           "angularaxis": {
            "gridcolor": "white",
            "linecolor": "white",
            "ticks": ""
           },
           "bgcolor": "#E5ECF6",
           "radialaxis": {
            "gridcolor": "white",
            "linecolor": "white",
            "ticks": ""
           }
          },
          "scene": {
           "xaxis": {
            "backgroundcolor": "#E5ECF6",
            "gridcolor": "white",
            "gridwidth": 2,
            "linecolor": "white",
            "showbackground": true,
            "ticks": "",
            "zerolinecolor": "white"
           },
           "yaxis": {
            "backgroundcolor": "#E5ECF6",
            "gridcolor": "white",
            "gridwidth": 2,
            "linecolor": "white",
            "showbackground": true,
            "ticks": "",
            "zerolinecolor": "white"
           },
           "zaxis": {
            "backgroundcolor": "#E5ECF6",
            "gridcolor": "white",
            "gridwidth": 2,
            "linecolor": "white",
            "showbackground": true,
            "ticks": "",
            "zerolinecolor": "white"
           }
          },
          "shapedefaults": {
           "line": {
            "color": "#2a3f5f"
           }
          },
          "ternary": {
           "aaxis": {
            "gridcolor": "white",
            "linecolor": "white",
            "ticks": ""
           },
           "baxis": {
            "gridcolor": "white",
            "linecolor": "white",
            "ticks": ""
           },
           "bgcolor": "#E5ECF6",
           "caxis": {
            "gridcolor": "white",
            "linecolor": "white",
            "ticks": ""
           }
          },
          "title": {
           "x": 0.05
          },
          "xaxis": {
           "automargin": true,
           "gridcolor": "white",
           "linecolor": "white",
           "ticks": "",
           "title": {
            "standoff": 15
           },
           "zerolinecolor": "white",
           "zerolinewidth": 2
          },
          "yaxis": {
           "automargin": true,
           "gridcolor": "white",
           "linecolor": "white",
           "ticks": "",
           "title": {
            "standoff": 15
           },
           "zerolinecolor": "white",
           "zerolinewidth": 2
          }
         }
        },
        "width": 800,
        "xaxis": {
         "anchor": "y",
         "constrain": "domain",
         "domain": [
          0,
          1
         ],
         "scaleanchor": "y"
        },
        "yaxis": {
         "anchor": "x",
         "autorange": "reversed",
         "constrain": "domain",
         "domain": [
          0,
          1
         ]
        }
       }
      },
      "text/html": [
       "<div>                            <div id=\"a454225e-5a7f-4b6d-bce0-a5d36cf46be9\" class=\"plotly-graph-div\" style=\"height:800px; width:800px;\"></div>            <script type=\"text/javascript\">                require([\"plotly\"], function(Plotly) {                    window.PLOTLYENV=window.PLOTLYENV || {};                                    if (document.getElementById(\"a454225e-5a7f-4b6d-bce0-a5d36cf46be9\")) {                    Plotly.newPlot(                        \"a454225e-5a7f-4b6d-bce0-a5d36cf46be9\",                        [{\"coloraxis\":\"coloraxis\",\"name\":\"0\",\"z\":[[1.0001314,-0.00012887269,0.03458308,0.023274546,0.008309703,0.0117855,0.030620363,-0.044199593,0.035448015,0.091682054,0.073338896,0.08892405,-0.024842668,0.067102954,0.0063984036,0.08645108,0.090123005,0.07567079,-0.019064356,0.010266778,0.02117975,0.05164379,0.021410882,-0.0024047606,-0.010442596,0.033530667,0.015884794,0.0134455105,0.038951285,0.039600313,0.06651008,0.002242202,0.036568604,0.04162038,0.009225409,0.035594687,-0.007941109,0.032591008,0.040709216,0.042070456,-0.046681166,-0.009270172,0.015643703,0.08464483,-0.02989452,0.027931273,0.06926136,0.05079957,0.05376058,0.021483205,0.02816856,0.009217219,0.00027395412,0.064475596,0.039919615,0.025279885,0.03770216],[-0.00012887269,0.99971974,0.019328834,-0.06648039,0.00011558086,0.037158556,-0.0055359905,0.06010129,0.027153265,-0.01359801,0.031132735,-0.0037104795,0.038753115,0.012771189,0.01667605,-0.0008667847,0.041011535,-0.007179902,0.085835524,0.076827005,0.010686776,0.0020355394,0.042991918,0.016755117,0.055703938,-0.0095607005,-0.059634663,-0.01918985,0.05507522,0.09290503,-0.025736969,0.047287725,-0.06727454,-0.016535142,0.019136896,-0.0075983796,0.03833136,-0.0093511,0.034752995,-0.05618369,0.03348431,-0.021031415,0.034897227,-0.00334155,0.03562627,-0.023056269,0.010926627,-0.01326903,-0.036910202,0.05428406,-0.007293769,0.019342467,-0.032060854,0.100782365,0.0155470185,0.1009523,0.0315891],[0.03458308,0.019328834,0.99994767,0.16924003,0.027344275,-0.0005661268,0.02665861,0.17741482,-0.0034895744,0.38045704,0.14374253,0.025368318,0.047824513,-0.006660592,0.37556595,-0.011128263,0.16178526,0.14176801,0.11434621,-0.013637826,-0.009723268,0.019295938,0.02085769,0.032048054,-0.012718695,-0.035797082,-0.035443984,0.038786437,-0.0296438,0.042716537,-0.016402362,0.021213502,0.2068231,-0.011586458,0.027854241,-0.008523772,-0.0073094545,-0.0051502483,0.012331828,0.30919862,0.013581281,-0.025211968,-0.03807028,-0.038922854,0.2201246,-0.070124045,0.16865912,0.21209125,-0.044599723,-0.011285153,-0.07171483,0.01506464,0.43353546,0.2150321,0.012380496,-0.02031102,-0.08935906],[0.023274546,-0.06648039,0.16924003,1.000088,0.022653125,-0.054262064,0.0009923391,0.16280812,0.0032186098,0.12723942,0.009460304,-0.09348855,0.037805893,-0.020007538,0.1297045,0.0132201705,0.059311632,-0.035989065,0.02581661,-0.072832644,0.04526676,0.03154796,0.008370054,-0.01040423,0.022314942,-0.003226853,0.0028463528,-0.004229472,-0.015117931,0.059430275,0.044233292,-0.0011895485,0.114427,-0.071336426,0.008244651,-0.0039935373,0.014711526,0.03193804,0.04994132,0.2907415,0.0041491985,0.008729316,-0.0049925335,-0.05214828,0.22569636,0.025661556,0.17652217,0.018616693,0.0003468222,0.031506553,0.11152644,-0.009060567,0.09216134,0.004254318,-0.020164195,-0.018970141,0.031992223],[0.008309703,0.00011558086,0.027344275,0.022653125,1.0001897,-0.015854612,-0.0085177915,0.06117718,-0.040421166,0.14951782,-0.022401009,-0.06825953,-0.031909965,0.031019395,-0.0019297544,0.012644054,0.10969584,-0.03319838,-0.046790004,-0.05810376,0.033528134,0.046106473,-0.0019450178,-0.008936426,-0.00030661747,0.013313936,-0.026035901,-0.0068210587,-0.026404899,0.05999594,0.031016694,0.007987484,0.06468086,0.03152152,-0.024843426,0.019966219,0.037938405,-0.03079663,0.029540597,0.026157461,-0.02301173,0.0199336,0.034090046,0.0068454603,0.0035040285,0.023438456,0.044970073,0.004605541,0.021690434,0.03685015,0.104433686,0.021812528,0.040697135,0.03852901,0.0033377595,-0.049193785,-0.0024181139],[0.0117855,0.037158556,-0.0005661268,-0.054262064,-0.015854612,1.0000228,0.03840039,-0.030965827,0.18045625,-0.033588294,0.051483475,0.05914214,0.025534105,0.29057088,0.015741317,-0.001457084,-0.023835547,0.04881638,-0.040450037,0.09058801,0.023188762,0.021540128,0.09703353,0.0047563296,0.052520327,0.11418657,0.026913568,-0.0008148253,0.11034949,-0.006545376,0.014664406,-0.008865832,-0.007325266,0.0152283525,0.014042834,0.02762828,0.029282076,0.043854617,0.07482127,0.008934213,-0.054987498,0.005318273,0.029784173,0.3217728,0.0042149443,-0.007815087,-0.027009826,0.010186171,0.15292028,0.034155875,-0.05128686,0.014376864,-0.025251223,0.00844368,0.010133079,0.012689828,0.033571377],[0.030620363,-0.0055359905,0.02665861,0.0009923391,-0.0085177915,0.03840039,1.0001868,0.057229787,0.0102449795,0.020320795,0.09103339,0.068136886,0.023066893,0.067531675,0.011998346,0.08906728,0.029423185,0.039845005,0.030875321,0.032800876,0.029407177,0.037317693,0.07960028,-0.02700014,0.15225233,0.123911366,0.0077395663,0.09256916,-0.005897497,-0.022945441,0.01697091,0.018375345,-0.026147358,-0.012696529,0.0011594947,0.036246855,0.032440618,0.058698155,0.011834695,0.011700475,0.01336756,-0.0028418424,0.04996242,-0.0032617156,-0.03307919,-0.0135070635,0.013690187,0.048548378,-0.006689257,0.008192528,-0.020681852,0.022807168,0.031116012,0.028307632,0.11325089,-0.008463204,0.027347906],[-0.044199593,0.06010129,0.17741482,0.16280812,0.06117718,-0.030965827,0.057229787,1.0000141,-0.050822727,0.15413225,0.029365344,-0.01743996,-0.023600139,-0.014327703,0.26926786,-0.018154804,0.18636233,-0.0036554132,0.14001118,0.111117214,-0.006365913,0.03473045,0.037212633,-0.0314622,0.115936756,-0.062434804,0.028420195,-0.0015039518,-0.018107219,0.031990662,0.07006522,0.013558943,0.16509712,-0.007367027,0.01828638,-0.017863281,-0.028834684,0.056065824,0.04333029,0.24946779,0.008030341,0.00029695313,0.07971308,-0.027206542,0.25442496,-0.0001930343,0.18589017,0.03125482,-0.053650662,0.0051778816,0.019781671,-0.0037194926,0.17486177,0.2763314,0.02836609,-0.031833813,-0.022353817],[0.035448015,0.027153265,-0.0034895744,0.0032186098,-0.040421166,0.18045625,0.0102449795,-0.050822727,0.9994508,0.021878239,-0.025231171,0.10665764,0.026721723,0.39505345,0.046115354,0.1332736,0.09522259,0.15716133,-0.003494108,0.015631508,0.30462703,0.07410833,0.08863958,0.086992994,0.007875711,0.25965953,-0.04105284,-0.0066417353,0.082582995,0.03112136,0.32026482,0.07613197,-0.005954503,0.03840393,0.009324843,0.012808073,0.052795075,-0.0003049504,0.07027288,0.0016144719,0.019515734,0.011076319,0.04115728,0.21362251,-0.02718189,0.0013688793,0.05569406,-0.002912078,0.18575025,0.10910766,0.03559791,0.015293141,-0.05885638,-0.0058538187,0.0073411176,-0.0058191535,0.068814956],[0.091682054,-0.01359801,0.38045704,0.12723942,0.14951782,-0.033588294,0.020320795,0.15413225,0.021878239,1.000066,0.11078094,0.09112288,0.0060530202,0.105174705,0.08945803,0.052472226,0.31692427,0.11462375,0.114199296,0.0491295,0.0877801,0.059138812,0.029062487,0.009421044,0.04904373,0.03871322,0.026273128,0.04320964,-0.00081471866,0.049183853,0.04387746,0.023514085,0.25024855,-0.008311827,-0.013548814,-0.012674186,0.027698558,0.03190213,0.103599176,0.21841335,-0.015575793,0.10760605,0.034771375,0.007826325,0.23388922,0.09100312,0.20813781,0.17465883,0.081982546,-0.0103934035,0.05574765,0.019121746,0.326737,0.09538957,0.11921722,-0.0027281232,0.014521854],[0.073338896,0.031132735,0.14374253,0.009460304,-0.022401009,0.051483475,0.09103339,0.029365344,-0.025231171,0.11078094,1.0001644,0.13899735,0.041507214,0.13914196,0.09670515,0.020937089,0.09984417,0.13209963,0.21055949,0.25897995,0.05206321,0.052881785,0.028443217,-0.034260217,0.042046726,0.19456457,0.033260036,0.14947286,0.15569031,-0.012938507,0.012073429,-0.006385288,0.064210184,0.009227632,-0.028052222,0.06503284,0.01567593,0.2373762,0.16094966,0.041914947,-0.023176085,0.12071717,-0.032324184,-0.017916365,0.067096926,0.116695985,0.1177105,0.24526103,-0.001795033,0.016299553,0.064835735,-0.014369051,0.33456498,0.06909667,0.34956217,-0.034508914,0.049157213],[0.08892405,-0.0037104795,0.025368318,-0.09348855,-0.06825953,0.05914214,0.068136886,-0.01743996,0.10665764,0.09112288,0.13899735,0.9999979,-0.019632973,0.19196516,0.046984978,0.27854806,0.106921345,0.045211717,0.044586264,0.15768602,0.08883323,-0.012725846,0.062003367,0.010130795,0.17996088,0.12750322,0.086740956,0.0042265556,0.1294106,0.0018537245,0.089683875,0.005064578,0.030639602,0.12225036,-0.00070025213,0.024104945,0.045474015,0.07393117,0.07426408,-0.06917101,-0.036964484,0.09314575,0.08240258,0.06888382,0.02749215,0.050631672,0.07250228,0.0936386,0.060825065,0.026183939,0.09465156,0.0056827166,0.050030194,0.053313714,0.1172485,-0.004001376,0.22476709],[-0.024842668,0.038753115,0.047824513,0.037805893,-0.031909965,0.025534105,0.023066893,-0.023600139,0.026721723,0.0060530202,0.041507214,-0.019632973,1.000165,0.05532246,0.04189392,-0.02035137,0.016497169,0.055962518,-0.027709948,0.012233054,0.0022137682,0.050436474,0.14008382,0.00948438,0.018332796,0.0965395,-0.034135908,0.010967835,0.05472274,0.027191397,0.06564895,0.03314998,-0.07360062,0.0048403144,0.025542669,0.058163144,0.034169655,0.05475316,0.021348557,0.024191871,0.029625375,0.023213692,-0.028628256,0.007016917,-0.027856775,-0.008335435,0.02929563,0.025454491,0.039824363,0.006880726,-0.013782737,0.03579843,0.030754358,-0.048880268,0.05354602,0.029538557,0.0005821055],[0.067102954,0.012771189,-0.006660592,-0.020007538,0.031019395,0.29057088,0.067531675,-0.014327703,0.39505345,0.105174705,0.13914196,0.19196516,0.05532246,0.9998562,0.036738053,0.1029752,0.18569091,0.10522042,0.0071375053,0.094936535,0.25201902,0.1189758,0.09340077,0.031426355,0.030835465,0.31192118,0.011644429,0.078480214,0.12668335,0.04869793,0.2387613,0.026543949,0.05495076,0.033988435,0.01764945,0.02533352,0.070702866,0.09673646,0.09216404,-0.0300208,-0.016302466,0.06262133,0.044458747,0.19522853,0.02505074,0.05162043,0.053182766,0.06207952,0.2603783,0.11161681,0.13029425,0.018979663,0.076236,0.06067677,0.12880239,-0.020597849,0.09482196],[0.0063984036,0.01667605,0.37556595,0.1297045,-0.0019297544,0.015741317,0.011998346,0.26926786,0.046115354,0.08945803,0.09670515,0.046984978,0.04189392,0.036738053,1.0002298,0.029683009,0.12357582,0.15075955,0.1326713,0.12709585,0.001122196,0.021349486,0.08366153,0.03698663,0.042759635,0.11603662,0.06155392,-0.015628159,0.05075774,0.03343772,0.08697155,0.029383563,0.21687146,0.044868954,0.00999002,0.015912268,-0.03563039,0.1521917,0.05360698,0.19446228,0.01403148,0.037017666,0.013894338,-0.0041083335,0.24042526,0.04340757,0.23155178,0.03811118,-0.012566129,0.035369415,0.08468449,0.015114235,0.14352158,0.1625711,0.072860196,-0.02450785,0.05848611],[0.08645108,-0.0008667847,-0.011128263,0.0132201705,0.012644054,-0.001457084,0.08906728,-0.018154804,0.1332736,0.052472226,0.020937089,0.27854806,-0.02035137,0.1029752,0.029683009,0.9996392,0.0062147863,0.006425704,0.020045593,0.035512354,0.09004547,0.04484979,0.09858543,0.04847896,0.13639176,0.13184497,0.038441416,0.04693133,0.020148061,-0.00506798,0.19745839,-0.022987196,-0.00049456395,0.09571552,-0.061889734,0.02007694,0.050260596,0.057052925,0.12793958,0.0019252263,-0.009179249,0.07989387,0.17690463,0.07403779,-0.050454743,0.09174319,0.037670724,-0.004149911,0.040896416,0.091848835,0.13151291,0.020494333,-0.06605609,-0.016292103,0.047161173,0.008066159,0.1701493],[0.090123005,0.041011535,0.16178526,0.059311632,0.10969584,-0.023835547,0.029423185,0.18636233,0.09522259,0.31692427,0.09984417,0.106921345,0.016497169,0.18569091,0.12357582,0.0062147863,0.99939525,0.13273467,0.09135075,0.03819497,0.10123263,-0.0072869984,0.1005179,0.036423285,0.060789466,0.093322635,0.012268794,-0.022722669,0.040512335,0.19055465,0.1554775,0.05376485,0.13955957,-0.022599565,0.00027445937,0.020578682,0.074409805,0.07014994,0.079979785,0.120457195,-0.011348663,0.047263004,0.057074767,0.052932166,0.16520561,0.049416695,0.16625929,0.08771513,0.14099196,0.2331396,0.05053526,0.0376655,0.21275932,0.121050514,0.03092384,0.00031032786,0.020315904],[0.07567079,-0.007179902,0.14176801,-0.035989065,-0.03319838,0.04881638,0.039845005,-0.0036554132,0.15716133,0.11462375,0.13209963,0.045211717,0.055962518,0.10522042,0.15075955,0.006425704,0.13273467,1.0000741,0.3696327,0.08314012,0.2038384,-0.06523718,0.015878981,0.029908631,-0.037147865,0.13711208,0.018021535,0.022037331,0.034433495,0.043866284,0.08368028,0.006907521,0.13659656,0.042696588,0.0037649164,-0.009325657,-0.019311393,0.07907143,0.065727755,0.022016907,-0.016239671,0.028241811,0.019898733,0.021427713,0.14837593,0.054376476,0.124107465,0.1219998,0.20027241,0.020824803,0.0017401315,0.0097484,0.18965942,0.069169894,0.10984784,-0.009470791,0.004140923],[-0.019064356,0.085835524,0.11434621,0.02581661,-0.046790004,-0.040450037,0.030875321,0.14001118,-0.003494108,0.114199296,0.21055949,0.044586264,-0.027709948,0.0071375053,0.1326713,0.020045593,0.09135075,0.3696327,1.0000168,0.16465724,0.09934452,-0.08225556,0.043253064,0.022051234,0.021209314,0.0690006,0.031329453,0.0008612154,-0.013745263,-0.0016993438,-0.024121815,0.009363334,0.14044768,-0.03135792,-0.038458385,-0.0061700717,0.020900598,0.08652947,0.089072905,0.087355316,0.022504207,0.057131335,0.0444865,-0.08350456,0.16388342,0.024225624,0.24298929,0.038472496,-0.0929027,-0.07162549,0.018306449,0.015021931,0.08183612,0.16897386,0.063580856,-0.004403593,0.017825529],[0.010266778,0.076827005,-0.013637826,-0.072832644,-0.05810376,0.09058801,0.032800876,0.111117214,0.015631508,0.0491295,0.25897995,0.15768602,0.012233054,0.094936535,0.12709585,0.035512354,0.03819497,0.08314012,0.16465724,1.0004733,0.082755476,0.05766218,0.07316466,-0.035624146,0.11556718,0.049226183,0.08307817,-0.005403361,0.27957863,-0.00397914,0.019251712,0.030868348,0.1043057,-0.01614131,-0.056517694,-0.019568872,-0.0036008307,0.09280914,0.1966119,-0.06752041,0.010875035,0.16357857,0.032773364,-0.014924517,0.14025488,0.14020854,0.07772869,0.049830366,0.061534982,0.06373128,-0.00033411756,0.043199975,0.047948197,0.12166883,0.14892343,0.024475861,0.11481428],[0.02117975,0.010686776,-0.009723268,0.04526676,0.033528134,0.023188762,0.029407177,-0.006365913,0.30462703,0.0877801,0.05206321,0.08883323,0.0022137682,0.25201902,0.001122196,0.09004547,0.10123263,0.2038384,0.09934452,0.082755476,1.0000813,-0.0010571415,0.0122245625,0.04284869,0.018971045,0.08082395,-0.021243542,0.035646442,0.095825806,0.011944853,0.27609915,0.031822,0.029055804,-0.048573554,-0.004446215,0.009662566,0.0019799406,0.037376523,0.07549297,-0.03381968,0.012015054,0.048852175,0.030004334,0.0646914,0.029533766,0.07150406,0.17431135,0.061849985,0.22012107,0.14606716,0.0746931,0.0108851,-0.026672378,0.05753913,0.059568293,-0.009726364,0.104038626],[0.05164379,0.0020355394,0.019295938,0.03154796,0.046106473,0.021540128,0.037317693,0.03473045,0.07410833,0.059138812,0.052881785,-0.012725846,0.050436474,0.1189758,0.021349486,0.04484979,-0.0072869984,-0.06523718,-0.08225556,0.05766218,-0.0010571415,0.999761,0.10353339,-0.03155006,0.1186602,0.0454665,-0.005424414,-0.0077049453,0.122419916,0.0077677043,0.1402688,0.008822005,0.03467538,0.01957241,0.004186971,0.021153135,0.022882838,0.024910733,0.029027108,0.007644563,-0.0043321135,-0.009185524,-0.010193894,0.054479934,-0.027894668,-0.039822005,0.020919513,-0.007454438,0.08278311,0.033425573,-0.015710667,0.009622549,0.027771428,0.03581799,0.07708118,-0.017270334,0.016593676],[0.021410882,0.042991918,0.02085769,0.008370054,-0.0019450178,0.09703353,0.07960028,0.037212633,0.08863958,0.029062487,0.028443217,0.062003367,0.14008382,0.09340077,0.08366153,0.09858543,0.1005179,0.015878981,0.043253064,0.07316466,0.0122245625,0.10353339,1.0004293,0.0063603544,0.37843648,0.24907923,0.012819901,-0.010598046,0.1841524,0.077127665,0.031335935,0.04336445,-0.00006776303,-0.024939751,0.016523054,0.06487849,0.121641055,0.08554665,0.029305262,0.03722439,0.014653385,0.085301176,0.1841937,0.04521083,-0.07301724,0.11256024,-0.0023194924,-0.0014537126,0.066626884,0.110968634,0.006934153,0.2690484,-0.048371047,-0.012444418,0.11886722,-0.013040672,0.1037989],[-0.0024047606,0.016755117,0.032048054,-0.01040423,-0.008936426,0.0047563296,-0.02700014,-0.0314622,0.086992994,0.009421044,-0.034260217,0.010130795,0.00948438,0.031426355,0.03698663,0.04847896,0.036423285,0.029908631,0.022051234,-0.035624146,0.04284869,-0.03155006,0.0063603544,1.0004768,-0.040970393,-0.0009052269,-0.017382309,0.013679956,0.018970476,0.02838559,0.052639343,0.033657666,-0.008653399,0.009278869,0.06713951,0.05427644,-0.030556042,-0.013866369,-0.012917822,0.007220393,0.037607312,0.0024228971,-0.0081071155,-0.019227646,-0.0049793636,0.011412079,0.0125130005,-0.0011530537,0.0025811428,0.0031045275,0.0130659705,0.041849077,-0.0044000535,0.0029296065,-0.01805203,-0.025733499,0.010346349],[-0.010442596,0.055703938,-0.012718695,0.022314942,-0.00030661747,0.052520327,0.15225233,0.115936756,0.007875711,0.04904373,0.042046726,0.17996088,0.018332796,0.030835465,0.042759635,0.13639176,0.060789466,-0.037147865,0.021209314,0.11556718,0.018971045,0.1186602,0.37843648,-0.040970393,1.0002182,0.06608189,0.13310535,-0.038831763,0.12472517,0.030563068,0.010778446,0.02259783,0.010631177,0.049669534,-0.0042364877,-0.0020867363,0.13942035,0.058861606,0.040575996,0.011337464,-0.014506191,0.05120475,0.29309765,0.018535316,-0.030004147,0.058732305,0.07481134,-0.03243243,-0.0054204073,0.018481351,0.0056457147,0.12719877,-0.03389892,0.016286852,0.04906925,0.012428989,0.12957679],[0.033530667,-0.0095607005,-0.035797082,-0.003226853,0.013313936,0.11418657,0.123911366,-0.062434804,0.25965953,0.03871322,0.19456457,0.12750322,0.0965395,0.31192118,0.11603662,0.13184497,0.093322635,0.13711208,0.0690006,0.049226183,0.08082395,0.0454665,0.24907923,-0.0009052269,0.06608189,1.0000336,0.024930902,0.043660134,0.07929118,0.028870054,0.18892872,0.010610749,0.013703404,0.036836825,0.008357078,0.0050438493,0.0023518098,0.18628544,0.056694955,-0.009028529,0.020933775,0.074965015,0.060611207,0.12104224,-0.06424942,0.13972783,0.039534256,0.07052353,0.10719709,-0.01236043,0.06367034,-0.013752254,0.0810651,-0.008595578,0.2496801,0.004789171,0.15102693],[0.015884794,-0.059634663,-0.035443984,0.0028463528,-0.026035901,0.026913568,0.0077395663,0.028420195,-0.04105284,0.026273128,0.033260036,0.086740956,-0.034135908,0.011644429,0.06155392,0.038441416,0.012268794,0.018021535,0.031329453,0.08307817,-0.021243542,-0.005424414,0.012819901,-0.017382309,0.13310535,0.024930902,0.9999896,0.0094886515,-0.0016884524,0.013640224,0.0142699415,-0.0051977714,0.023158193,0.03177027,-0.017441832,-0.007239603,0.050615877,0.1309863,0.08273322,0.03850238,-0.0118648335,0.09973119,0.15066512,0.054010384,0.013014287,0.08767949,0.012395505,0.0018498842,0.023594687,0.017944854,0.077326104,0.01985963,0.07660597,0.018353216,0.077965684,-0.019012412,0.0429441],[0.0134455105,-0.01918985,0.038786437,-0.004229472,-0.0068210587,-0.0008148253,0.09256916,-0.0015039518,-0.0066417353,0.04320964,0.14947286,0.0042265556,0.010967835,0.078480214,-0.015628159,0.04693133,-0.022722669,0.022037331,0.0008612154,-0.005403361,0.035646442,-0.0077049453,-0.010598046,0.013679956,-0.038831763,0.043660134,0.0094886515,0.99990785,0.04825047,-0.01826643,0.022025485,-0.023907315,-0.00064453296,-0.045020886,0.015853863,0.030369166,0.03948711,0.07797949,0.056415047,-0.03211728,-0.0035347033,0.103988245,0.059711322,0.004664315,-0.004662461,0.04003233,0.027598262,0.046243686,0.06667349,0.032506403,-0.0025801752,0.02927067,0.083631605,-0.016445205,0.12254953,-0.03192506,0.016865231],[0.038951285,0.05507522,-0.0296438,-0.015117931,-0.026404899,0.11034949,-0.005897497,-0.018107219,0.082582995,-0.00081471866,0.15569031,0.1294106,0.05472274,0.12668335,0.05075774,0.020148061,0.040512335,0.034433495,-0.013745263,0.27957863,0.095825806,0.122419916,0.1841524,0.018970476,0.12472517,0.07929118,-0.0016884524,0.04825047,1.0001074,0.010830126,0.025834244,0.029417573,-0.023893237,0.053684466,0.0032689953,0.043302804,0.077569336,0.05727925,0.112473965,-0.013672525,-0.0057170484,0.060642615,0.0173751,0.046047695,-0.020217579,0.081033155,0.045732163,0.04831999,0.16714494,0.13882998,0.035569087,0.041238043,-0.025605291,0.024652883,0.10916537,-0.006392449,0.06498769],[0.039600313,0.09290503,0.042716537,0.059430275,0.05999594,-0.006545376,-0.022945441,0.031990662,0.03112136,0.049183853,-0.012938507,0.0018537245,0.027191397,0.04869793,0.03343772,-0.00506798,0.19055465,0.043866284,-0.0016993438,-0.00397914,0.011944853,0.0077677043,0.077127665,0.02838559,0.030563068,0.028870054,0.013640224,-0.01826643,0.010830126,0.99990857,0.101692125,-0.000035425648,-0.00889839,-0.053925894,0.09302403,0.015342624,0.043263704,0.027311036,0.018719416,0.021050192,0.036005903,0.0063275415,0.066321515,0.008512726,0.043486036,0.0089579625,0.013955671,0.010055679,0.105761364,0.11435078,0.019646794,0.03354892,0.017653365,-0.041963015,-0.016972398,-0.033266623,0.04571494],[0.06651008,-0.025736969,-0.016402362,0.044233292,0.031016694,0.014664406,0.01697091,0.07006522,0.32026482,0.04387746,0.012073429,0.089683875,0.06564895,0.2387613,0.08697155,0.19745839,0.1554775,0.08368028,-0.024121815,0.019251712,0.27609915,0.1402688,0.031335935,0.052639343,0.010778446,0.18892872,0.0142699415,0.022025485,0.025834244,0.101692125,0.99999857,0.026856925,0.049630485,0.058403373,0.0019569378,0.01278645,0.022465913,0.07209216,0.09889772,0.003533749,0.0253474,0.050673805,0.054201473,0.19898748,0.022201614,0.053310674,0.11455117,-0.023270082,0.13316067,0.10854409,0.06317,-0.019939473,-0.0058253095,0.024330981,-0.040777795,-0.007791345,0.08857719],[0.002242202,0.047287725,0.021213502,-0.0011895485,0.007987484,-0.008865832,0.018375345,0.013558943,0.07613197,0.023514085,-0.006385288,0.005064578,0.03314998,0.026543949,0.029383563,-0.022987196,0.05376485,0.006907521,0.009363334,0.030868348,0.031822,0.008822005,0.04336445,0.033657666,0.02259783,0.010610749,-0.0051977714,-0.023907315,0.029417573,-0.000035425648,0.026856925,1.0002565,-0.026760023,-0.033064626,0.2002526,0.010555675,-0.005722911,0.0075810608,0.019067142,0.051130485,0.374155,-0.05200179,0.009455312,-0.0034957766,-0.013196557,0.022761848,-0.010257316,-0.006287314,0.036970884,0.03499026,-0.015506984,0.032445606,-0.009620715,-0.027616326,0.01429612,0.12162292,0.0015616771],[0.036568604,-0.06727454,0.2068231,0.114427,0.06468086,-0.007325266,-0.026147358,0.16509712,-0.005954503,0.25024855,0.064210184,0.030639602,-0.07360062,0.05495076,0.21687146,-0.00049456395,0.13955957,0.13659656,0.14044768,0.1043057,0.029055804,0.03467538,-0.00006776303,-0.008653399,0.010631177,0.013703404,0.023158193,-0.00064453296,-0.023893237,-0.00889839,0.049630485,-0.026760023,1.000262,0.0002541598,-0.07126272,-0.0044458155,-0.015395227,0.020013722,0.071060546,0.2234981,-0.01841057,0.028256712,-0.0018357914,0.015771177,0.17292169,0.05606553,0.113676324,0.04772863,0.04398341,0.013634663,0.07684949,-0.0031847043,0.14591777,0.13801539,-0.0051319674,-0.02303034,0.010647908],[0.04162038,-0.016535142,-0.011586458,-0.071336426,0.03152152,0.0152283525,-0.012696529,-0.007367027,0.03840393,-0.008311827,0.009227632,0.12225036,0.0048403144,0.033988435,0.044868954,0.09571552,-0.022599565,0.042696588,-0.03135792,-0.01614131,-0.048573554,0.01957241,-0.024939751,0.009278869,0.049669534,0.036836825,0.03177027,-0.045020886,0.053684466,-0.053925894,0.058403373,-0.033064626,0.0002541598,1.0000856,-0.013259567,-0.037119463,-0.012738314,-0.0111857485,-0.023829198,0.040070698,-0.026620962,-0.018597841,0.006358536,0.16169249,-0.049525265,-0.03138637,0.00029342435,-0.019685403,0.04053743,-0.01608244,-0.018714778,-0.027576812,-0.00077695306,0.024190733,0.014875995,0.0321023,0.012901043],[0.009225409,0.019136896,0.027854241,0.008244651,-0.024843426,0.014042834,0.0011594947,0.01828638,0.009324843,-0.013548814,-0.028052222,-0.00070025213,0.025542669,0.01764945,0.00999002,-0.061889734,0.00027445937,0.0037649164,-0.038458385,-0.056517694,-0.004446215,0.004186971,0.016523054,0.06713951,-0.0042364877,0.008357078,-0.017441832,0.015853863,0.0032689953,0.09302403,0.0019569378,0.2002526,-0.07126272,-0.013259567,0.9998063,0.023376536,-0.0051353825,0.0023929253,-0.010920921,0.028330985,0.18613493,-0.0356682,0.00623055,-0.026590433,0.009707727,0.0018343767,0.019449426,-0.0055849953,0.015773166,0.021410555,-0.01873495,-0.03268107,0.011099711,0.016291969,-0.014095068,0.05936812,-0.021085728],[0.035594687,-0.0075983796,-0.008523772,-0.0039935373,0.019966219,0.02762828,0.036246855,-0.017863281,0.012808073,-0.012674186,0.06503284,0.024104945,0.058163144,0.02533352,0.015912268,0.02007694,0.020578682,-0.009325657,-0.0061700717,-0.019568872,0.009662566,0.021153135,0.06487849,0.05427644,-0.0020867363,0.0050438493,-0.007239603,0.030369166,0.043302804,0.015342624,0.01278645,0.010555675,-0.0044458155,-0.037119463,0.023376536,0.99967426,0.035130464,0.05583522,0.017535593,-0.0026474074,-0.013754036,0.05208791,0.05022531,0.004030156,-0.011394433,0.023288675,0.025190976,-0.018522585,0.021143772,0.01384588,0.025747329,0.17430758,0.0080058575,-0.026982205,-0.043498386,0.0069711423,0.053432103],[-0.007941109,0.03833136,-0.0073094545,0.014711526,0.037938405,0.029282076,0.032440618,-0.028834684,0.052795075,0.027698558,0.01567593,0.045474015,0.034169655,0.070702866,-0.03563039,0.050260596,0.074409805,-0.019311393,0.020900598,-0.0036008307,0.0019799406,0.022882838,0.121641055,-0.030556042,0.13942035,0.0023518098,0.050615877,0.03948711,0.077569336,0.043263704,0.022465913,-0.005722911,-0.015395227,-0.012738314,-0.0051353825,0.035130464,1.0002726,0.046170615,0.032348905,-0.041034285,-0.03710203,0.025410395,0.108289555,0.019248687,-0.02196134,0.035720196,-0.029672757,-0.023554537,0.034805905,0.07752705,0.017171038,0.053513132,0.010644225,-0.0024547167,0.004642283,0.04694895,0.03755261],[0.032591008,-0.0093511,-0.0051502483,0.03193804,-0.03079663,0.043854617,0.058698155,0.056065824,-0.0003049504,0.03190213,0.2373762,0.07393117,0.05475316,0.09673646,0.1521917,0.057052925,0.07014994,0.07907143,0.08652947,0.09280914,0.037376523,0.024910733,0.08554665,-0.013866369,0.058861606,0.18628544,0.1309863,0.07797949,0.05727925,0.027311036,0.07209216,0.0075810608,0.020013722,-0.0111857485,0.0023929253,0.05583522,0.046170615,0.9997022,0.154398,-0.011145469,-0.016037464,0.22826312,0.043605313,0.01375503,0.009457378,0.10584466,0.004794011,0.07844353,0.062462404,0.047450155,0.09037696,0.017584108,0.17256938,-0.028325252,0.08957885,-0.017023688,0.11745429],[0.040709216,0.034752995,0.012331828,0.04994132,0.029540597,0.07482127,0.011834695,0.04333029,0.07027288,0.103599176,0.16094966,0.07426408,0.021348557,0.09216404,0.05360698,0.12793958,0.079979785,0.065727755,0.089072905,0.1966119,0.07549297,0.029027108,0.029305262,-0.012917822,0.040575996,0.056694955,0.08273322,0.056415047,0.112473965,0.018719416,0.09889772,0.019067142,0.071060546,-0.023829198,-0.010920921,0.017535593,0.032348905,0.154398,0.9997808,0.05033866,0.006366816,0.24566285,0.027340055,0.040021658,0.067631885,0.19889402,0.0452301,0.08714597,0.04415939,0.05733064,0.18481094,0.017472997,0.0710783,0.02985112,0.112072974,-0.022714093,0.10028368],[0.042070456,-0.05618369,0.30919862,0.2907415,0.026157461,0.008934213,0.011700475,0.24946779,0.0016144719,0.21841335,0.041914947,-0.06917101,0.024191871,-0.0300208,0.19446228,0.0019252263,0.120457195,0.022016907,0.087355316,-0.06752041,-0.03381968,0.007644563,0.03722439,0.007220393,0.011337464,-0.009028529,0.03850238,-0.03211728,-0.013672525,0.021050192,0.003533749,0.051130485,0.2234981,0.040070698,0.028330985,-0.0026474074,-0.041034285,-0.011145469,0.05033866,1.0000721,-0.0011966592,-0.05448879,-0.032201968,0.035338223,0.08772886,-0.040178973,0.1420503,0.089980915,-0.039519954,0.016032849,-0.007937718,-0.0019640932,0.1772283,-0.07506932,-0.00278477,-0.0021141097,-0.057635166],[-0.046681166,0.03348431,0.013581281,0.0041491985,-0.02301173,-0.054987498,0.01336756,0.008030341,0.019515734,-0.015575793,-0.023176085,-0.036964484,0.029625375,-0.016302466,0.01403148,-0.009179249,-0.011348663,-0.016239671,0.022504207,0.010875035,0.012015054,-0.0043321135,0.014653385,0.037607312,-0.014506191,0.020933775,-0.0118648335,-0.0035347033,-0.0057170484,0.036005903,0.0253474,0.374155,-0.01841057,-0.026620962,0.18613493,-0.013754036,-0.03710203,-0.016037464,0.006366816,-0.0011966592,1.0001533,-0.008127137,-0.0077776127,0.00881146,0.025496619,0.0042696875,0.0049174633,-0.027860422,0.015423058,0.0034304457,-0.010403457,0.0039995406,-0.030974448,0.046430234,0.014882211,0.080708206,-0.014914149],[-0.009270172,-0.021031415,-0.025211968,0.008729316,0.0199336,0.005318273,-0.0028418424,0.00029695313,0.011076319,0.10760605,0.12071717,0.09314575,0.023213692,0.06262133,0.037017666,0.07989387,0.047263004,0.028241811,0.057131335,0.16357857,0.048852175,-0.009185524,0.085301176,0.0024228971,0.05120475,0.074965015,0.09973119,0.103988245,0.060642615,0.0063275415,0.050673805,-0.05200179,0.028256712,-0.018597841,-0.0356682,0.05208791,0.025410395,0.22826312,0.24566285,-0.05448879,-0.008127137,0.9999287,0.12225923,-0.020811107,0.057151474,0.36882716,0.08499874,0.13307709,-0.01710046,0.023795884,0.09856098,0.12518482,0.1078112,0.013737994,0.15646295,0.004018658,0.17838466],[0.015643703,0.034897227,-0.03807028,-0.0049925335,0.034090046,0.029784173,0.04996242,0.07971308,0.04115728,0.034771375,-0.032324184,0.08240258,-0.028628256,0.044458747,0.013894338,0.17690463,0.057074767,0.019898733,0.0444865,0.032773364,0.030004334,-0.010193894,0.1841937,-0.0081071155,0.29309765,0.060611207,0.15066512,0.059711322,0.0173751,0.066321515,0.054201473,0.009455312,-0.0018357914,0.006358536,0.00623055,0.05022531,0.108289555,0.043605313,0.027340055,-0.032201968,-0.0077776127,0.12225923,0.99969935,0.046649955,0.014537288,0.09831383,0.007899327,-0.027808126,0.06487356,0.0329328,0.05911769,0.09549229,0.007374973,0.0010997215,-0.0031865826,0.02081908,0.15134192],[0.08464483,-0.00334155,-0.038922854,-0.05214828,0.0068454603,0.3217728,-0.0032617156,-0.027206542,0.21362251,0.007826325,-0.017916365,0.06888382,0.007016917,0.19522853,-0.0041083335,0.07403779,0.052932166,0.021427713,-0.08350456,-0.014924517,0.0646914,0.054479934,0.04521083,-0.019227646,0.018535316,0.12104224,0.054010384,0.004664315,0.046047695,0.008512726,0.19898748,-0.0034957766,0.015771177,0.16169249,-0.026590433,0.004030156,0.019248687,0.01375503,0.040021658,0.035338223,0.00881146,-0.020811107,0.046649955,0.9999355,-0.029584069,0.011377715,-0.024871405,0.00029912218,0.23853776,0.072428405,0.056340802,0.005322966,-0.016755845,-0.012861034,0.0145743005,-0.027658628,0.042200863],[-0.02989452,0.03562627,0.2201246,0.22569636,0.0035040285,0.0042149443,-0.03307919,0.25442496,-0.02718189,0.23388922,0.067096926,0.02749215,-0.027856775,0.02505074,0.24042526,-0.050454743,0.16520561,0.14837593,0.16388342,0.14025488,0.029533766,-0.027894668,-0.07301724,-0.0049793636,-0.030004147,-0.06424942,0.013014287,-0.004662461,-0.020217579,0.043486036,0.022201614,-0.013196557,0.17292169,-0.049525265,0.009707727,-0.011394433,-0.02196134,0.009457378,0.067631885,0.08772886,0.025496619,0.057151474,0.014537288,-0.029584069,0.99990475,0.038928866,0.14443262,-0.015136448,0.011604771,0.02835895,-0.0029357644,0.005985575,0.18886141,0.24652894,-0.031839684,-0.026709525,-0.017909419],[0.027931273,-0.023056269,-0.070124045,0.025661556,0.023438456,-0.007815087,-0.0135070635,-0.0001930343,0.0013688793,0.09100312,0.116695985,0.050631672,-0.008335435,0.05162043,0.04340757,0.09174319,0.049416695,0.054376476,0.024225624,0.14020854,0.07150406,-0.039822005,0.11256024,0.011412079,0.058732305,0.13972783,0.08767949,0.04003233,0.081033155,0.0089579625,0.053310674,0.022761848,0.05606553,-0.03138637,0.0018343767,0.023288675,0.035720196,0.10584466,0.19889402,-0.040178973,0.0042696875,0.36882716,0.09831383,0.011377715,0.038928866,1.0002904,0.03537535,0.18221074,0.02518644,0.061227534,0.17728738,0.11445014,0.0742289,0.015667558,0.19333875,-0.014855739,0.09766885],[0.06926136,0.010926627,0.16865912,0.17652217,0.044970073,-0.027009826,0.013690187,0.18589017,0.05569406,0.20813781,0.1177105,0.07250228,0.02929563,0.053182766,0.23155178,0.037670724,0.16625929,0.124107465,0.24298929,0.07772869,0.17431135,0.020919513,-0.0023194924,0.0125130005,0.07481134,0.039534256,0.012395505,0.027598262,0.045732163,0.013955671,0.11455117,-0.010257316,0.113676324,0.00029342435,0.019449426,0.025190976,-0.029672757,0.004794011,0.0452301,0.1420503,0.0049174633,0.08499874,0.007899327,-0.024871405,0.14443262,0.03537535,0.99972105,0.10456692,0.0050712507,0.06008376,0.121320345,-0.03502194,0.14121132,0.12139003,-0.035981547,-0.015611708,0.068118684],[0.05079957,-0.01326903,0.21209125,0.018616693,0.004605541,0.010186171,0.048548378,0.03125482,-0.002912078,0.17465883,0.24526103,0.0936386,0.025454491,0.06207952,0.03811118,-0.004149911,0.08771513,0.1219998,0.038472496,0.049830366,0.061849985,-0.007454438,-0.0014537126,-0.0011530537,-0.03243243,0.07052353,0.0018498842,0.046243686,0.04831999,0.010055679,-0.023270082,-0.006287314,0.04772863,-0.019685403,-0.0055849953,-0.018522585,-0.023554537,0.07844353,0.08714597,0.089980915,-0.027860422,0.13307709,-0.027808126,0.00029912218,-0.015136448,0.18221074,0.10456692,1.0003343,0.0066168057,-0.009538604,0.1209524,0.00051526166,0.35214216,0.018563617,0.34070772,-0.030987153,0.028812211],[0.05376058,-0.036910202,-0.044599723,0.0003468222,0.021690434,0.15292028,-0.006689257,-0.053650662,0.18575025,0.081982546,-0.001795033,0.060825065,0.039824363,0.2603783,-0.012566129,0.040896416,0.14099196,0.20027241,-0.0929027,0.061534982,0.22012107,0.08278311,0.066626884,0.0025811428,-0.0054204073,0.10719709,0.023594687,0.06667349,0.16714494,0.105761364,0.13316067,0.036970884,0.04398341,0.04053743,0.015773166,0.021143772,0.034805905,0.062462404,0.04415939,-0.039519954,0.015423058,-0.01710046,0.06487356,0.23853776,0.011604771,0.02518644,0.0050712507,0.0066168057,1.0000403,0.17645541,0.05316072,-0.006064862,-0.0069723567,-0.004889466,0.013761414,-0.0028731031,0.085253775],[0.021483205,0.05428406,-0.011285153,0.031506553,0.03685015,0.034155875,0.008192528,0.0051778816,0.10910766,-0.0103934035,0.016299553,0.026183939,0.006880726,0.11161681,0.035369415,0.091848835,0.2331396,0.020824803,-0.07162549,0.06373128,0.14606716,0.033425573,0.110968634,0.0031045275,0.018481351,-0.01236043,0.017944854,0.032506403,0.13882998,0.11435078,0.10854409,0.03499026,0.013634663,-0.01608244,0.021410555,0.01384588,0.07752705,0.047450155,0.05733064,0.016032849,0.0034304457,0.023795884,0.0329328,0.072428405,0.02835895,0.061227534,0.06008376,-0.009538604,0.17645541,1.0000969,0.02021798,0.01612143,-0.013939645,-0.022794299,0.028000306,0.011777563,0.09697631],[0.02816856,-0.007293769,-0.07171483,0.11152644,0.104433686,-0.05128686,-0.020681852,0.019781671,0.03559791,0.05574765,0.064835735,0.09465156,-0.013782737,0.13029425,0.08468449,0.13151291,0.05053526,0.0017401315,0.018306449,-0.00033411756,0.0746931,-0.015710667,0.006934153,0.0130659705,0.0056457147,0.06367034,0.077326104,-0.0025801752,0.035569087,0.019646794,0.06317,-0.015506984,0.07684949,-0.018714778,-0.01873495,0.025747329,0.017171038,0.09037696,0.18481094,-0.007937718,-0.010403457,0.09856098,0.05911769,0.056340802,-0.0029357644,0.17728738,0.121320345,0.1209524,0.05316072,0.02021798,0.99963385,-0.01866063,0.059372976,0.037619814,0.051239885,-0.057364862,0.1057771],[0.009217219,0.019342467,0.01506464,-0.009060567,0.021812528,0.014376864,0.022807168,-0.0037194926,0.015293141,0.019121746,-0.014369051,0.0056827166,0.03579843,0.018979663,0.015114235,0.020494333,0.0376655,0.0097484,0.015021931,0.043199975,0.0108851,0.009622549,0.2690484,0.041849077,0.12719877,-0.013752254,0.01985963,0.02927067,0.041238043,0.03354892,-0.019939473,0.032445606,-0.0031847043,-0.027576812,-0.03268107,0.17430758,0.053513132,0.017584108,0.017472997,-0.0019640932,0.0039995406,0.12518482,0.09549229,0.005322966,0.005985575,0.11445014,-0.03502194,0.00051526166,-0.006064862,0.01612143,-0.01866063,1.0001442,-0.025483292,-0.012241808,0.06034811,0.0021361643,0.022913285],[0.00027395412,-0.032060854,0.43353546,0.09216134,0.040697135,-0.025251223,0.031116012,0.17486177,-0.05885638,0.326737,0.33456498,0.050030194,0.030754358,0.076236,0.14352158,-0.06605609,0.21275932,0.18965942,0.08183612,0.047948197,-0.026672378,0.027771428,-0.048371047,-0.0044000535,-0.03389892,0.0810651,0.07660597,0.083631605,-0.025605291,0.017653365,-0.0058253095,-0.009620715,0.14591777,-0.00077695306,0.011099711,0.0080058575,0.010644225,0.17256938,0.0710783,0.1772283,-0.030974448,0.1078112,0.007374973,-0.016755845,0.18886141,0.0742289,0.14121132,0.35214216,-0.0069723567,-0.013939645,0.059372976,-0.025483292,0.99966323,0.108464584,0.3128264,-0.025591437,0.012068827],[0.064475596,0.100782365,0.2150321,0.004254318,0.03852901,0.00844368,0.028307632,0.2763314,-0.0058538187,0.09538957,0.06909667,0.053313714,-0.048880268,0.06067677,0.1625711,-0.016292103,0.121050514,0.069169894,0.16897386,0.12166883,0.05753913,0.03581799,-0.012444418,0.0029296065,0.016286852,-0.008595578,0.018353216,-0.016445205,0.024652883,-0.041963015,0.024330981,-0.027616326,0.13801539,0.024190733,0.016291969,-0.026982205,-0.0024547167,-0.028325252,0.02985112,-0.07506932,0.046430234,0.013737994,0.0010997215,-0.012861034,0.24652894,0.015667558,0.12139003,0.018563617,-0.004889466,-0.022794299,0.037619814,-0.012241808,0.108464584,1.0001119,0.056515187,0.010381157,-0.024587888],[0.039919615,0.0155470185,0.012380496,-0.020164195,0.0033377595,0.010133079,0.11325089,0.02836609,0.0073411176,0.11921722,0.34956217,0.1172485,0.05354602,0.12880239,0.072860196,0.047161173,0.03092384,0.10984784,0.063580856,0.14892343,0.059568293,0.07708118,0.11886722,-0.01805203,0.04906925,0.2496801,0.077965684,0.12254953,0.10916537,-0.016972398,-0.040777795,0.01429612,-0.0051319674,0.014875995,-0.014095068,-0.043498386,0.004642283,0.08957885,0.112072974,-0.00278477,0.014882211,0.15646295,-0.0031865826,0.0145743005,-0.031839684,0.19333875,-0.035981547,0.34070772,0.013761414,0.028000306,0.051239885,0.06034811,0.3128264,0.056515187,0.99991673,-0.009200454,0.17087913],[0.025279885,0.1009523,-0.02031102,-0.018970141,-0.049193785,0.012689828,-0.008463204,-0.031833813,-0.0058191535,-0.0027281232,-0.034508914,-0.004001376,0.029538557,-0.020597849,-0.02450785,0.008066159,0.00031032786,-0.009470791,-0.004403593,0.024475861,-0.009726364,-0.017270334,-0.013040672,-0.025733499,0.012428989,0.004789171,-0.019012412,-0.03192506,-0.006392449,-0.033266623,-0.007791345,0.12162292,-0.02303034,0.0321023,0.05936812,0.0069711423,0.04694895,-0.017023688,-0.022714093,-0.0021141097,0.080708206,0.004018658,0.02081908,-0.027658628,-0.026709525,-0.014855739,-0.015611708,-0.030987153,-0.0028731031,0.011777563,-0.057364862,0.0021361643,-0.025591437,0.010381157,-0.009200454,1.0002089,0.0110363215],[0.03770216,0.0315891,-0.08935906,0.031992223,-0.0024181139,0.033571377,0.027347906,-0.022353817,0.068814956,0.014521854,0.049157213,0.22476709,0.0005821055,0.09482196,0.05848611,0.1701493,0.020315904,0.004140923,0.017825529,0.11481428,0.104038626,0.016593676,0.1037989,0.010346349,0.12957679,0.15102693,0.0429441,0.016865231,0.06498769,0.04571494,0.08857719,0.0015616771,0.010647908,0.012901043,-0.021085728,0.053432103,0.03755261,0.11745429,0.10028368,-0.057635166,-0.014914149,0.17838466,0.15134192,0.042200863,-0.017909419,0.09766885,0.068118684,0.028812211,0.085253775,0.09697631,0.1057771,0.022913285,0.012068827,-0.024587888,0.17087913,0.0110363215,1.0006361]],\"type\":\"heatmap\",\"xaxis\":\"x\",\"yaxis\":\"y\",\"hovertemplate\":\"x: %{x}\\u003cbr\\u003ey: %{y}\\u003cbr\\u003ecolor: %{z}\\u003cextra\\u003e\\u003c\\u002fextra\\u003e\"}],                        {\"template\":{\"data\":{\"histogram2dcontour\":[{\"type\":\"histogram2dcontour\",\"colorbar\":{\"outlinewidth\":0,\"ticks\":\"\"},\"colorscale\":[[0.0,\"#0d0887\"],[0.1111111111111111,\"#46039f\"],[0.2222222222222222,\"#7201a8\"],[0.3333333333333333,\"#9c179e\"],[0.4444444444444444,\"#bd3786\"],[0.5555555555555556,\"#d8576b\"],[0.6666666666666666,\"#ed7953\"],[0.7777777777777778,\"#fb9f3a\"],[0.8888888888888888,\"#fdca26\"],[1.0,\"#f0f921\"]]}],\"choropleth\":[{\"type\":\"choropleth\",\"colorbar\":{\"outlinewidth\":0,\"ticks\":\"\"}}],\"histogram2d\":[{\"type\":\"histogram2d\",\"colorbar\":{\"outlinewidth\":0,\"ticks\":\"\"},\"colorscale\":[[0.0,\"#0d0887\"],[0.1111111111111111,\"#46039f\"],[0.2222222222222222,\"#7201a8\"],[0.3333333333333333,\"#9c179e\"],[0.4444444444444444,\"#bd3786\"],[0.5555555555555556,\"#d8576b\"],[0.6666666666666666,\"#ed7953\"],[0.7777777777777778,\"#fb9f3a\"],[0.8888888888888888,\"#fdca26\"],[1.0,\"#f0f921\"]]}],\"heatmap\":[{\"type\":\"heatmap\",\"colorbar\":{\"outlinewidth\":0,\"ticks\":\"\"},\"colorscale\":[[0.0,\"#0d0887\"],[0.1111111111111111,\"#46039f\"],[0.2222222222222222,\"#7201a8\"],[0.3333333333333333,\"#9c179e\"],[0.4444444444444444,\"#bd3786\"],[0.5555555555555556,\"#d8576b\"],[0.6666666666666666,\"#ed7953\"],[0.7777777777777778,\"#fb9f3a\"],[0.8888888888888888,\"#fdca26\"],[1.0,\"#f0f921\"]]}],\"heatmapgl\":[{\"type\":\"heatmapgl\",\"colorbar\":{\"outlinewidth\":0,\"ticks\":\"\"},\"colorscale\":[[0.0,\"#0d0887\"],[0.1111111111111111,\"#46039f\"],[0.2222222222222222,\"#7201a8\"],[0.3333333333333333,\"#9c179e\"],[0.4444444444444444,\"#bd3786\"],[0.5555555555555556,\"#d8576b\"],[0.6666666666666666,\"#ed7953\"],[0.7777777777777778,\"#fb9f3a\"],[0.8888888888888888,\"#fdca26\"],[1.0,\"#f0f921\"]]}],\"contourcarpet\":[{\"type\":\"contourcarpet\",\"colorbar\":{\"outlinewidth\":0,\"ticks\":\"\"}}],\"contour\":[{\"type\":\"contour\",\"colorbar\":{\"outlinewidth\":0,\"ticks\":\"\"},\"colorscale\":[[0.0,\"#0d0887\"],[0.1111111111111111,\"#46039f\"],[0.2222222222222222,\"#7201a8\"],[0.3333333333333333,\"#9c179e\"],[0.4444444444444444,\"#bd3786\"],[0.5555555555555556,\"#d8576b\"],[0.6666666666666666,\"#ed7953\"],[0.7777777777777778,\"#fb9f3a\"],[0.8888888888888888,\"#fdca26\"],[1.0,\"#f0f921\"]]}],\"surface\":[{\"type\":\"surface\",\"colorbar\":{\"outlinewidth\":0,\"ticks\":\"\"},\"colorscale\":[[0.0,\"#0d0887\"],[0.1111111111111111,\"#46039f\"],[0.2222222222222222,\"#7201a8\"],[0.3333333333333333,\"#9c179e\"],[0.4444444444444444,\"#bd3786\"],[0.5555555555555556,\"#d8576b\"],[0.6666666666666666,\"#ed7953\"],[0.7777777777777778,\"#fb9f3a\"],[0.8888888888888888,\"#fdca26\"],[1.0,\"#f0f921\"]]}],\"mesh3d\":[{\"type\":\"mesh3d\",\"colorbar\":{\"outlinewidth\":0,\"ticks\":\"\"}}],\"scatter\":[{\"fillpattern\":{\"fillmode\":\"overlay\",\"size\":10,\"solidity\":0.2},\"type\":\"scatter\"}],\"parcoords\":[{\"type\":\"parcoords\",\"line\":{\"colorbar\":{\"outlinewidth\":0,\"ticks\":\"\"}}}],\"scatterpolargl\":[{\"type\":\"scatterpolargl\",\"marker\":{\"colorbar\":{\"outlinewidth\":0,\"ticks\":\"\"}}}],\"bar\":[{\"error_x\":{\"color\":\"#2a3f5f\"},\"error_y\":{\"color\":\"#2a3f5f\"},\"marker\":{\"line\":{\"color\":\"#E5ECF6\",\"width\":0.5},\"pattern\":{\"fillmode\":\"overlay\",\"size\":10,\"solidity\":0.2}},\"type\":\"bar\"}],\"scattergeo\":[{\"type\":\"scattergeo\",\"marker\":{\"colorbar\":{\"outlinewidth\":0,\"ticks\":\"\"}}}],\"scatterpolar\":[{\"type\":\"scatterpolar\",\"marker\":{\"colorbar\":{\"outlinewidth\":0,\"ticks\":\"\"}}}],\"histogram\":[{\"marker\":{\"pattern\":{\"fillmode\":\"overlay\",\"size\":10,\"solidity\":0.2}},\"type\":\"histogram\"}],\"scattergl\":[{\"type\":\"scattergl\",\"marker\":{\"colorbar\":{\"outlinewidth\":0,\"ticks\":\"\"}}}],\"scatter3d\":[{\"type\":\"scatter3d\",\"line\":{\"colorbar\":{\"outlinewidth\":0,\"ticks\":\"\"}},\"marker\":{\"colorbar\":{\"outlinewidth\":0,\"ticks\":\"\"}}}],\"scattermapbox\":[{\"type\":\"scattermapbox\",\"marker\":{\"colorbar\":{\"outlinewidth\":0,\"ticks\":\"\"}}}],\"scatterternary\":[{\"type\":\"scatterternary\",\"marker\":{\"colorbar\":{\"outlinewidth\":0,\"ticks\":\"\"}}}],\"scattercarpet\":[{\"type\":\"scattercarpet\",\"marker\":{\"colorbar\":{\"outlinewidth\":0,\"ticks\":\"\"}}}],\"carpet\":[{\"aaxis\":{\"endlinecolor\":\"#2a3f5f\",\"gridcolor\":\"white\",\"linecolor\":\"white\",\"minorgridcolor\":\"white\",\"startlinecolor\":\"#2a3f5f\"},\"baxis\":{\"endlinecolor\":\"#2a3f5f\",\"gridcolor\":\"white\",\"linecolor\":\"white\",\"minorgridcolor\":\"white\",\"startlinecolor\":\"#2a3f5f\"},\"type\":\"carpet\"}],\"table\":[{\"cells\":{\"fill\":{\"color\":\"#EBF0F8\"},\"line\":{\"color\":\"white\"}},\"header\":{\"fill\":{\"color\":\"#C8D4E3\"},\"line\":{\"color\":\"white\"}},\"type\":\"table\"}],\"barpolar\":[{\"marker\":{\"line\":{\"color\":\"#E5ECF6\",\"width\":0.5},\"pattern\":{\"fillmode\":\"overlay\",\"size\":10,\"solidity\":0.2}},\"type\":\"barpolar\"}],\"pie\":[{\"automargin\":true,\"type\":\"pie\"}]},\"layout\":{\"autotypenumbers\":\"strict\",\"colorway\":[\"#636efa\",\"#EF553B\",\"#00cc96\",\"#ab63fa\",\"#FFA15A\",\"#19d3f3\",\"#FF6692\",\"#B6E880\",\"#FF97FF\",\"#FECB52\"],\"font\":{\"color\":\"#2a3f5f\"},\"hovermode\":\"closest\",\"hoverlabel\":{\"align\":\"left\"},\"paper_bgcolor\":\"white\",\"plot_bgcolor\":\"#E5ECF6\",\"polar\":{\"bgcolor\":\"#E5ECF6\",\"angularaxis\":{\"gridcolor\":\"white\",\"linecolor\":\"white\",\"ticks\":\"\"},\"radialaxis\":{\"gridcolor\":\"white\",\"linecolor\":\"white\",\"ticks\":\"\"}},\"ternary\":{\"bgcolor\":\"#E5ECF6\",\"aaxis\":{\"gridcolor\":\"white\",\"linecolor\":\"white\",\"ticks\":\"\"},\"baxis\":{\"gridcolor\":\"white\",\"linecolor\":\"white\",\"ticks\":\"\"},\"caxis\":{\"gridcolor\":\"white\",\"linecolor\":\"white\",\"ticks\":\"\"}},\"coloraxis\":{\"colorbar\":{\"outlinewidth\":0,\"ticks\":\"\"}},\"colorscale\":{\"sequential\":[[0.0,\"#0d0887\"],[0.1111111111111111,\"#46039f\"],[0.2222222222222222,\"#7201a8\"],[0.3333333333333333,\"#9c179e\"],[0.4444444444444444,\"#bd3786\"],[0.5555555555555556,\"#d8576b\"],[0.6666666666666666,\"#ed7953\"],[0.7777777777777778,\"#fb9f3a\"],[0.8888888888888888,\"#fdca26\"],[1.0,\"#f0f921\"]],\"sequentialminus\":[[0.0,\"#0d0887\"],[0.1111111111111111,\"#46039f\"],[0.2222222222222222,\"#7201a8\"],[0.3333333333333333,\"#9c179e\"],[0.4444444444444444,\"#bd3786\"],[0.5555555555555556,\"#d8576b\"],[0.6666666666666666,\"#ed7953\"],[0.7777777777777778,\"#fb9f3a\"],[0.8888888888888888,\"#fdca26\"],[1.0,\"#f0f921\"]],\"diverging\":[[0,\"#8e0152\"],[0.1,\"#c51b7d\"],[0.2,\"#de77ae\"],[0.3,\"#f1b6da\"],[0.4,\"#fde0ef\"],[0.5,\"#f7f7f7\"],[0.6,\"#e6f5d0\"],[0.7,\"#b8e186\"],[0.8,\"#7fbc41\"],[0.9,\"#4d9221\"],[1,\"#276419\"]]},\"xaxis\":{\"gridcolor\":\"white\",\"linecolor\":\"white\",\"ticks\":\"\",\"title\":{\"standoff\":15},\"zerolinecolor\":\"white\",\"automargin\":true,\"zerolinewidth\":2},\"yaxis\":{\"gridcolor\":\"white\",\"linecolor\":\"white\",\"ticks\":\"\",\"title\":{\"standoff\":15},\"zerolinecolor\":\"white\",\"automargin\":true,\"zerolinewidth\":2},\"scene\":{\"xaxis\":{\"backgroundcolor\":\"#E5ECF6\",\"gridcolor\":\"white\",\"linecolor\":\"white\",\"showbackground\":true,\"ticks\":\"\",\"zerolinecolor\":\"white\",\"gridwidth\":2},\"yaxis\":{\"backgroundcolor\":\"#E5ECF6\",\"gridcolor\":\"white\",\"linecolor\":\"white\",\"showbackground\":true,\"ticks\":\"\",\"zerolinecolor\":\"white\",\"gridwidth\":2},\"zaxis\":{\"backgroundcolor\":\"#E5ECF6\",\"gridcolor\":\"white\",\"linecolor\":\"white\",\"showbackground\":true,\"ticks\":\"\",\"zerolinecolor\":\"white\",\"gridwidth\":2}},\"shapedefaults\":{\"line\":{\"color\":\"#2a3f5f\"}},\"annotationdefaults\":{\"arrowcolor\":\"#2a3f5f\",\"arrowhead\":0,\"arrowwidth\":1},\"geo\":{\"bgcolor\":\"white\",\"landcolor\":\"#E5ECF6\",\"subunitcolor\":\"white\",\"showland\":true,\"showlakes\":true,\"lakecolor\":\"white\"},\"title\":{\"x\":0.05},\"mapbox\":{\"style\":\"light\"}}},\"xaxis\":{\"anchor\":\"y\",\"domain\":[0.0,1.0],\"scaleanchor\":\"y\",\"constrain\":\"domain\"},\"yaxis\":{\"anchor\":\"x\",\"domain\":[0.0,1.0],\"autorange\":\"reversed\",\"constrain\":\"domain\"},\"coloraxis\":{\"colorscale\":[[0.0,\"#0d0887\"],[0.1111111111111111,\"#46039f\"],[0.2222222222222222,\"#7201a8\"],[0.3333333333333333,\"#9c179e\"],[0.4444444444444444,\"#bd3786\"],[0.5555555555555556,\"#d8576b\"],[0.6666666666666666,\"#ed7953\"],[0.7777777777777778,\"#fb9f3a\"],[0.8888888888888888,\"#fdca26\"],[1.0,\"#f0f921\"]]},\"margin\":{\"t\":60},\"height\":800,\"width\":800},                        {\"responsive\": true}                    ).then(function(){\n",
       "                            \n",
       "var gd = document.getElementById('a454225e-5a7f-4b6d-bce0-a5d36cf46be9');\n",
       "var x = new MutationObserver(function (mutations, observer) {{\n",
       "        var display = window.getComputedStyle(gd).display;\n",
       "        if (!display || display === 'none') {{\n",
       "            console.log([gd, 'removed!']);\n",
       "            Plotly.purge(gd);\n",
       "            observer.disconnect();\n",
       "        }}\n",
       "}});\n",
       "\n",
       "// Listen for the removal of the full notebook cells\n",
       "var notebookContainer = gd.closest('#notebook-container');\n",
       "if (notebookContainer) {{\n",
       "    x.observe(notebookContainer, {childList: true});\n",
       "}}\n",
       "\n",
       "// Listen for the clearing of the current output cell\n",
       "var outputEl = gd.closest('.output');\n",
       "if (outputEl) {{\n",
       "    x.observe(outputEl, {childList: true});\n",
       "}}\n",
       "\n",
       "                        })                };                });            </script>        </div>"
      ]
     },
     "metadata": {},
     "output_type": "display_data"
    }
   ],
   "source": [
    "import plotly.express as px\n",
    "import plotly.io as pio\n",
    "\n",
    "fig = px.imshow(pairwise_sims, width=800, height=800)\n",
    "# pio.write_image(fig, \"pairwise_sims.png\")\n",
    "\n",
    "fig"
   ]
  },
  {
   "cell_type": "code",
   "execution_count": null,
   "metadata": {},
   "outputs": [],
   "source": [
    "features = [9790, 12605, 13458, 11491, 18803, 2931, 11618, 26987, 5679, 15554, 26594]"
   ]
  },
  {
   "cell_type": "code",
   "execution_count": null,
   "metadata": {},
   "outputs": [],
   "source": [
    "from sprint.icl_sfc_utils import AblatedModule\n",
    "layer = 12\n",
    "mask_name = \"arrow\""
   ]
  },
  {
   "cell_type": "code",
   "execution_count": null,
   "metadata": {},
   "outputs": [],
   "source": [
    "task_results = [result for result in results if result[\"task\"] == task_name]"
   ]
  },
  {
   "cell_type": "code",
   "execution_count": null,
   "metadata": {},
   "outputs": [
    {
     "data": {
      "text/html": [
       "<script> (()=>{ if (customElements.get('treescope-container') === undefined) { class TreescopeContainer extends HTMLElement { constructor() { super(); this.attachShadow({mode: \"open\"}); this.defns = {}; this.state = {}; } } customElements.define(\"treescope-container\", TreescopeContainer); } if (customElements.get('treescope-run-here') === undefined) { class RunHere extends HTMLElement { constructor() { super() } connectedCallback() { const run = child => { const fn = new Function(child.textContent); child.textContent = \"\"; fn.call(this); this.remove(); }; const child = this.querySelector(\"script\"); if (child) { run(child); } else { new MutationObserver(()=>{ run(this.querySelector(\"script\")); }).observe(this, {childList: true}); } } } customElements.define(\"treescope-run-here\", RunHere); } })(); </script> <treescope-container class=\"treescope_out_c9be0e4d9af8428da644d5cf5444ee97\" ></treescope-container> <treescope-run-here><script type=\"application/octet-stream\"> const root = ( Array.from(document.getElementsByClassName( \"treescope_out_c9be0e4d9af8428da644d5cf5444ee97\")) .filter((elt) => !elt.dataset.setup) )[0]; root.dataset.setup = 1; const msg = document.createElement(\"span\"); msg.style = \"color: #aaaaaa; font-family: monospace; transition: opacity 0.2s; opacity: 0.0;\"; msg.textContent = \"(Loading...)\"; root.state.loadingMsg = msg; root.shadowRoot.appendChild(msg); root.state.chain = new Promise((resolve, reject) => { const observer = new IntersectionObserver((entries) => { for (const entry of entries) { if (entry.isIntersecting) { resolve(); observer.disconnect(); return; } } }, {rootMargin: \"1000px\"}); window.setTimeout(() => { if (root.loadingMsg) { root.loadingMsg.style.opacity = \"1.0\"; } observer.observe(root); }, 0); }); root.state.deferring = false; const _insertNode = (node) => { for (let oldScript of node.querySelectorAll(\"script\")) { let newScript = document.createElement(\"script\"); newScript.type = oldScript.type; newScript.textContent = oldScript.textContent; oldScript.parentNode.replaceChild(newScript, oldScript); } if (root.state.loadingMsg) { root.state.loadingMsg.remove(); root.state.loadingMsg = null; } root.shadowRoot.appendChild(node); }; root.defns.insertContent = ((contentNode, compressed) => { if (compressed) { root.state.deferring = true; } if (root.state.deferring) { root.state.chain = (async () => { await root.state.chain; if (compressed) { const encoded = contentNode.textContent; const blob = new Blob([ Uint8Array.from(atob(encoded), (m) => m.codePointAt(0)) ]); const reader = blob.stream().pipeThrough( new DecompressionStream(\"deflate\") ).pipeThrough( new TextDecoderStream(\"utf-8\") ).getReader(); const parts = []; while (true) { const step = await reader.read(); if (step.done) { break; } parts.push(step.value); } const tpl = document.createElement('template'); tpl.innerHTML = parts.join(\"\"); _insertNode(tpl.content); } else { _insertNode(contentNode.content); } })(); } else { _insertNode(contentNode.content); } }); </script></treescope-run-here><div style=\"display:none\"> <script type=\"application/octet-stream\" >eNqNVE1v2zAM/SuCd6gNzO7H0KFLYgO9DDsMO2yHHYYhUGzaFiJTmkQny4b+91FykqVtVgw5xCKpx/cokgtPOw1VQQ7A18bC0hlD4rewxitSBmfCgZakNjAXrUHKWzkovZuJwaDxVtZs3/aKII+HmbCOLVp5yiN0TjvLVjTI5pWs150zIzZ5bbRxs+nqXOxPK80BjKca6meiVcRhSIA0F1Y2jcIu19DSTNzUfUiCkPegup4t18VtgEGSijkfr+0/8o3yaqW0ImYuRzLH2FwhOYVe1blXv2Dy7uk+LC6n8iyO5cndiJzTsc3XTlkSQV95Ia3VqpahYpemJgjqHcjhokrTrKy4oJzPk2igRS9KQb3yRQf0mav9yTSQZkVvPBXRz9KAxNICBsn3dUANl759P+f5ILHRwG4ctZ5PGQqm+cUYZGu6NW6diVMO5iubguuRmVQdjBZca9wgsYYCzTbN4vtygvSZR+TTpYV4c5MxjmpF+oR1oQE76kVZiqsQ8iJ1BzQ65LoL0B7+EutHDMyeQvtetRT4xYDw8cC/f2RIuauwMdvCwY8RPN2jGuJzvXdygHSqSRYw5s8S2dH3UxnnZzQeUpSTjBdU/j+HwGJ6SDJdp6epXMbJ4W61AStYQNNrARtu8P1LBnbxXKxhF4qeuCQQ2gcXtZbef+Th3OOmyRFzOXAbJofkDxnXk9s/9ni1uDw3AI3aiAhYJo/XRyJIrlgp/CyTq0QYZDIsGznupbY/rzUNdw4qEx67aWHFjbHEcViBi50SF8irq3d317dvT0eX1xIeaPY8q47XxnpJ0jGNRDSSZM70rKS+TJLH4ac5kuqOIdlZHf9Yf/UH89XbYQ==</script> <treescope-run-here><script type=\"application/octet-stream\"> const root = ( Array.from(document.getElementsByClassName( \"treescope_out_c9be0e4d9af8428da644d5cf5444ee97\")) .filter((elt) => !elt.dataset['step0']) )[0]; root.dataset['step0'] = 1; root.defns.insertContent( this.parentNode.querySelector('script[type=\"application/octet-stream\"]'), true ); this.parentNode.remove(); </script></treescope-run-here> </div>"
      ],
      "text/plain": [
       "<IPython.core.display.HTML object>"
      ]
     },
     "metadata": {},
     "output_type": "display_data"
    },
    {
     "data": {
      "text/html": [
       "<treescope-run-here><script type=\"application/octet-stream\"> const root = ( Array.from(document.getElementsByClassName( \"treescope_out_c9be0e4d9af8428da644d5cf5444ee97\")) .filter((elt) => !elt.dataset.stolen) )[0]; root.dataset.stolen = 1; this.parentNode.replaceChild(root, this); </script></treescope-run-here>"
      ],
      "text/plain": [
       "8"
      ]
     },
     "execution_count": 75,
     "metadata": {},
     "output_type": "execute_result"
    }
   ],
   "source": [
    "len(task_results)"
   ]
  },
  {
   "cell_type": "code",
   "execution_count": null,
   "metadata": {},
   "outputs": [],
   "source": [
    "import jax.numpy as jnp\n",
    "\n",
    "layer_masks = {}\n",
    "\n",
    "resid = circuitizer.saes[(12, \"resid\")]\n",
    "\n",
    "\n",
    "for r in task_results:\n",
    "    layer = r[\"layer\"]\n",
    "    w = np.array(r[\"weights\"])\n",
    "    f_ids = jnp.nonzero(w * (w > 0))\n",
    "\n",
    "    feature = features[0]\n",
    "\n",
    "    mask = np.ones(resid[\"W_dec\"].shape[0])\n",
    "    mask[f_ids] = 0\n",
    "\n",
    "    mask = jnp.array(mask)\n",
    "\n",
    "    masks = {\n",
    "        k: mask for k in circuitizer.masks\n",
    "    }\n",
    "\n",
    "    # masks[mask_name] = mask\n",
    "\n",
    "    layer_masks[layer] = masks\n",
    "\n"
   ]
  },
  {
   "cell_type": "code",
   "execution_count": null,
   "metadata": {},
   "outputs": [],
   "source": [
    "from micrlhf.llama import LlamaBlock\n",
    "\n",
    "llama_ablated = llama\n",
    "\n",
    "for layer, masks in layer_masks.items():\n",
    "    block_selection = llama_ablated.select().at_instances_of(LlamaBlock).pick_nth_selected(layer)\n",
    "\n",
    "    def converter(block):\n",
    "        block = block.select().at_instances_of(LlamaBlock).apply(lambda x: pz.nn.Sequential([AblatedModule.wrap(resid, masks, circuitizer.masks), x]))    \n",
    "        return block\n",
    "\n",
    "    llama_ablated = block_selection.apply(converter)"
   ]
  },
  {
   "cell_type": "code",
   "execution_count": null,
   "metadata": {},
   "outputs": [
    {
     "name": "stdout",
     "output_type": "stream",
     "text": [
      "-1.6610659\n",
      "-1.40625\n"
     ]
    }
   ],
   "source": [
    "print(circuitizer.ablated_metric(llama_ablated))\n",
    "print(circuitizer.ablated_metric(llama))"
   ]
  },
  {
   "cell_type": "code",
   "execution_count": null,
   "metadata": {},
   "outputs": [
    {
     "data": {
      "application/vnd.jupyter.widget-view+json": {
       "model_id": "2180c4a3860a41ce981742afed30f0cb",
       "version_major": 2,
       "version_minor": 0
      },
      "text/plain": [
       "  0%|          | 0/3 [00:00<?, ?it/s]"
      ]
     },
     "metadata": {},
     "output_type": "display_data"
    },
    {
     "data": {
      "text/html": [
       "<script> (()=>{ if (customElements.get('treescope-container') === undefined) { class TreescopeContainer extends HTMLElement { constructor() { super(); this.attachShadow({mode: \"open\"}); this.defns = {}; this.state = {}; } } customElements.define(\"treescope-container\", TreescopeContainer); } if (customElements.get('treescope-run-here') === undefined) { class RunHere extends HTMLElement { constructor() { super() } connectedCallback() { const run = child => { const fn = new Function(child.textContent); child.textContent = \"\"; fn.call(this); this.remove(); }; const child = this.querySelector(\"script\"); if (child) { run(child); } else { new MutationObserver(()=>{ run(this.querySelector(\"script\")); }).observe(this, {childList: true}); } } } customElements.define(\"treescope-run-here\", RunHere); } })(); </script> <treescope-container class=\"treescope_out_c8c2032c99a34453893e9b8a700039fb\" ></treescope-container> <treescope-run-here><script type=\"application/octet-stream\"> const root = ( Array.from(document.getElementsByClassName( \"treescope_out_c8c2032c99a34453893e9b8a700039fb\")) .filter((elt) => !elt.dataset.setup) )[0]; root.dataset.setup = 1; const msg = document.createElement(\"span\"); msg.style = \"color: #aaaaaa; font-family: monospace; transition: opacity 0.2s; opacity: 0.0;\"; msg.textContent = \"(Loading...)\"; root.state.loadingMsg = msg; root.shadowRoot.appendChild(msg); root.state.chain = new Promise((resolve, reject) => { const observer = new IntersectionObserver((entries) => { for (const entry of entries) { if (entry.isIntersecting) { resolve(); observer.disconnect(); return; } } }, {rootMargin: \"1000px\"}); window.setTimeout(() => { if (root.loadingMsg) { root.loadingMsg.style.opacity = \"1.0\"; } observer.observe(root); }, 0); }); root.state.deferring = false; const _insertNode = (node) => { for (let oldScript of node.querySelectorAll(\"script\")) { let newScript = document.createElement(\"script\"); newScript.type = oldScript.type; newScript.textContent = oldScript.textContent; oldScript.parentNode.replaceChild(newScript, oldScript); } if (root.state.loadingMsg) { root.state.loadingMsg.remove(); root.state.loadingMsg = null; } root.shadowRoot.appendChild(node); }; root.defns.insertContent = ((contentNode, compressed) => { if (compressed) { root.state.deferring = true; } if (root.state.deferring) { root.state.chain = (async () => { await root.state.chain; if (compressed) { const encoded = contentNode.textContent; const blob = new Blob([ Uint8Array.from(atob(encoded), (m) => m.codePointAt(0)) ]); const reader = blob.stream().pipeThrough( new DecompressionStream(\"deflate\") ).pipeThrough( new TextDecoderStream(\"utf-8\") ).getReader(); const parts = []; while (true) { const step = await reader.read(); if (step.done) { break; } parts.push(step.value); } const tpl = document.createElement('template'); tpl.innerHTML = parts.join(\"\"); _insertNode(tpl.content); } else { _insertNode(contentNode.content); } })(); } else { _insertNode(contentNode.content); } }); </script></treescope-run-here><div style=\"display:none\"> <script type=\"application/octet-stream\" >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</script> <treescope-run-here><script type=\"application/octet-stream\"> const root = ( Array.from(document.getElementsByClassName( \"treescope_out_c8c2032c99a34453893e9b8a700039fb\")) .filter((elt) => !elt.dataset['step0']) )[0]; root.dataset['step0'] = 1; root.defns.insertContent( this.parentNode.querySelector('script[type=\"application/octet-stream\"]'), true ); this.parentNode.remove(); </script></treescope-run-here> </div>"
      ],
      "text/plain": [
       "<IPython.core.display.HTML object>"
      ]
     },
     "metadata": {},
     "output_type": "display_data"
    },
    {
     "data": {
      "text/html": [
       "<treescope-run-here><script type=\"application/octet-stream\"> const root = ( Array.from(document.getElementsByClassName( \"treescope_out_c8c2032c99a34453893e9b8a700039fb\")) .filter((elt) => !elt.dataset.stolen) )[0]; root.dataset.stolen = 1; this.parentNode.replaceChild(root, this); </script></treescope-run-here>"
      ],
      "text/plain": [
       "([-1.3984375, -1.4296875, -1.0703125], [5242880, 200719, 118202])"
      ]
     },
     "execution_count": 18,
     "metadata": {},
     "output_type": "execute_result"
    }
   ],
   "source": [
    "circuitizer.run_ablated_metrics([-1, 0, target_threshold])"
   ]
  },
  {
   "cell_type": "code",
   "execution_count": null,
   "metadata": {},
   "outputs": [
    {
     "data": {
      "text/html": [
       "<script> (()=>{ if (customElements.get('treescope-container') === undefined) { class TreescopeContainer extends HTMLElement { constructor() { super(); this.attachShadow({mode: \"open\"}); this.defns = {}; this.state = {}; } } customElements.define(\"treescope-container\", TreescopeContainer); } if (customElements.get('treescope-run-here') === undefined) { class RunHere extends HTMLElement { constructor() { super() } connectedCallback() { const run = child => { const fn = new Function(child.textContent); child.textContent = \"\"; fn.call(this); this.remove(); }; const child = this.querySelector(\"script\"); if (child) { run(child); } else { new MutationObserver(()=>{ run(this.querySelector(\"script\")); }).observe(this, {childList: true}); } } } customElements.define(\"treescope-run-here\", RunHere); } })(); </script> <treescope-container class=\"treescope_out_3070f60a7aa5411a8add12a948bb5289\" ></treescope-container> <treescope-run-here><script type=\"application/octet-stream\"> const root = ( Array.from(document.getElementsByClassName( \"treescope_out_3070f60a7aa5411a8add12a948bb5289\")) .filter((elt) => !elt.dataset.setup) )[0]; root.dataset.setup = 1; const msg = document.createElement(\"span\"); msg.style = \"color: #aaaaaa; font-family: monospace; transition: opacity 0.2s; opacity: 0.0;\"; msg.textContent = \"(Loading...)\"; root.state.loadingMsg = msg; root.shadowRoot.appendChild(msg); root.state.chain = new Promise((resolve, reject) => { const observer = new IntersectionObserver((entries) => { for (const entry of entries) { if (entry.isIntersecting) { resolve(); observer.disconnect(); return; } } }, {rootMargin: \"1000px\"}); window.setTimeout(() => { if (root.loadingMsg) { root.loadingMsg.style.opacity = \"1.0\"; } observer.observe(root); }, 0); }); root.state.deferring = false; const _insertNode = (node) => { for (let oldScript of node.querySelectorAll(\"script\")) { let newScript = document.createElement(\"script\"); newScript.type = oldScript.type; newScript.textContent = oldScript.textContent; oldScript.parentNode.replaceChild(newScript, oldScript); } if (root.state.loadingMsg) { root.state.loadingMsg.remove(); root.state.loadingMsg = null; } root.shadowRoot.appendChild(node); }; root.defns.insertContent = ((contentNode, compressed) => { if (compressed) { root.state.deferring = true; } if (root.state.deferring) { root.state.chain = (async () => { await root.state.chain; if (compressed) { const encoded = contentNode.textContent; const blob = new Blob([ Uint8Array.from(atob(encoded), (m) => m.codePointAt(0)) ]); const reader = blob.stream().pipeThrough( new DecompressionStream(\"deflate\") ).pipeThrough( new TextDecoderStream(\"utf-8\") ).getReader(); const parts = []; while (true) { const step = await reader.read(); if (step.done) { break; } parts.push(step.value); } const tpl = document.createElement('template'); tpl.innerHTML = parts.join(\"\"); _insertNode(tpl.content); } else { _insertNode(contentNode.content); } })(); } else { _insertNode(contentNode.content); } }); </script></treescope-run-here><div style=\"display:none\"> <script type=\"application/octet-stream\" >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</script> <treescope-run-here><script type=\"application/octet-stream\"> const root = ( Array.from(document.getElementsByClassName( \"treescope_out_3070f60a7aa5411a8add12a948bb5289\")) .filter((elt) => !elt.dataset['step0']) )[0]; root.dataset['step0'] = 1; root.defns.insertContent( this.parentNode.querySelector('script[type=\"application/octet-stream\"]'), true ); this.parentNode.remove(); </script></treescope-run-here> </div>"
      ],
      "text/plain": [
       "<IPython.core.display.HTML object>"
      ]
     },
     "metadata": {},
     "output_type": "display_data"
    },
    {
     "data": {
      "text/html": [
       "<treescope-run-here><script type=\"application/octet-stream\"> const root = ( Array.from(document.getElementsByClassName( \"treescope_out_3070f60a7aa5411a8add12a948bb5289\")) .filter((elt) => !elt.dataset.stolen) )[0]; root.dataset.stolen = 1; this.parentNode.replaceChild(root, this); </script></treescope-run-here>"
      ],
      "text/plain": [
       "[-1.2734375,\n",
       " -1.28125,\n",
       " -1.2578125,\n",
       " -1.265625,\n",
       " -1.171875,\n",
       " -1.078125,\n",
       " -1.1015625,\n",
       " -1.1328125,\n",
       " -1.078125,\n",
       " -1.1015625,\n",
       " -1.1796875,\n",
       " -1.171875,\n",
       " -1.1953125,\n",
       " -1.2109375,\n",
       " -1.1875,\n",
       " -1.1875,\n",
       " -1.1875,\n",
       " -1.1796875,\n",
       " -1.15625,\n",
       " -1.0546875,\n",
       " -1.0546875,\n",
       " -1.046875,\n",
       " -1.078125,\n",
       " -1.1328125,\n",
       " -1.09375,\n",
       " -1.0625,\n",
       " -1.1171875,\n",
       " -1.140625,\n",
       " -1.1015625,\n",
       " -1.140625,\n",
       " -1.1171875,\n",
       " -1.1796875,\n",
       " -1.25,\n",
       " -1.171875,\n",
       " -1.140625,\n",
       " -1.09375,\n",
       " -1.0078125,\n",
       " -1.03125,\n",
       " -1.1015625,\n",
       " -1.1015625]"
      ]
     },
     "execution_count": 20,
     "metadata": {},
     "output_type": "execute_result"
    }
   ],
   "source": [
    "import matplotlib.pyplot as plt\n",
    "\n",
    "ablated_metrics[:40]"
   ]
  },
  {
   "cell_type": "code",
   "execution_count": null,
   "metadata": {},
   "outputs": [],
   "source": [
    "logits = llama(circuitizer.llama_inputs)"
   ]
  },
  {
   "cell_type": "code",
   "execution_count": null,
   "metadata": {},
   "outputs": [],
   "source": [
    "logits = logits.unwrap(\"batch\", \"seq\", \"vocabulary\")"
   ]
  },
  {
   "cell_type": "code",
   "execution_count": null,
   "metadata": {},
   "outputs": [],
   "source": [
    "logits = logits.argmax(-1)"
   ]
  },
  {
   "cell_type": "code",
   "execution_count": null,
   "metadata": {},
   "outputs": [],
   "source": [
    "logits = logits[:, :-1]\n",
    "\n",
    "res = logits == circuitizer.train_tokens[:, 1:]"
   ]
  },
  {
   "cell_type": "code",
   "execution_count": null,
   "metadata": {},
   "outputs": [],
   "source": [
    "answer_mask = circuitizer.train_tokens[:, 1:] == 3978\n",
    "answer_mask = np.roll(answer_mask, 1, axis=1)"
   ]
  },
  {
   "cell_type": "code",
   "execution_count": null,
   "metadata": {},
   "outputs": [
    {
     "data": {
      "text/html": [
       "<script> (()=>{ if (customElements.get('treescope-container') === undefined) { class TreescopeContainer extends HTMLElement { constructor() { super(); this.attachShadow({mode: \"open\"}); this.defns = {}; this.state = {}; } } customElements.define(\"treescope-container\", TreescopeContainer); } if (customElements.get('treescope-run-here') === undefined) { class RunHere extends HTMLElement { constructor() { super() } connectedCallback() { const run = child => { const fn = new Function(child.textContent); child.textContent = \"\"; fn.call(this); this.remove(); }; const child = this.querySelector(\"script\"); if (child) { run(child); } else { new MutationObserver(()=>{ run(this.querySelector(\"script\")); }).observe(this, {childList: true}); } } } customElements.define(\"treescope-run-here\", RunHere); } })(); </script> <treescope-container class=\"treescope_out_715231acf9a74298b22ac5a853c492eb\" ></treescope-container> <treescope-run-here><script type=\"application/octet-stream\"> const root = ( Array.from(document.getElementsByClassName( \"treescope_out_715231acf9a74298b22ac5a853c492eb\")) .filter((elt) => !elt.dataset.setup) )[0]; root.dataset.setup = 1; const msg = document.createElement(\"span\"); msg.style = \"color: #aaaaaa; font-family: monospace; transition: opacity 0.2s; opacity: 0.0;\"; msg.textContent = \"(Loading...)\"; root.state.loadingMsg = msg; root.shadowRoot.appendChild(msg); root.state.chain = new Promise((resolve, reject) => { const observer = new IntersectionObserver((entries) => { for (const entry of entries) { if (entry.isIntersecting) { resolve(); observer.disconnect(); return; } } }, {rootMargin: \"1000px\"}); window.setTimeout(() => { if (root.loadingMsg) { root.loadingMsg.style.opacity = \"1.0\"; } observer.observe(root); }, 0); }); root.state.deferring = false; const _insertNode = (node) => { for (let oldScript of node.querySelectorAll(\"script\")) { let newScript = document.createElement(\"script\"); newScript.type = oldScript.type; newScript.textContent = oldScript.textContent; oldScript.parentNode.replaceChild(newScript, oldScript); } if (root.state.loadingMsg) { root.state.loadingMsg.remove(); root.state.loadingMsg = null; } root.shadowRoot.appendChild(node); }; root.defns.insertContent = ((contentNode, compressed) => { if (compressed) { root.state.deferring = true; } if (root.state.deferring) { root.state.chain = (async () => { await root.state.chain; if (compressed) { const encoded = contentNode.textContent; const blob = new Blob([ Uint8Array.from(atob(encoded), (m) => m.codePointAt(0)) ]); const reader = blob.stream().pipeThrough( new DecompressionStream(\"deflate\") ).pipeThrough( new TextDecoderStream(\"utf-8\") ).getReader(); const parts = []; while (true) { const step = await reader.read(); if (step.done) { break; } parts.push(step.value); } const tpl = document.createElement('template'); tpl.innerHTML = parts.join(\"\"); _insertNode(tpl.content); } else { _insertNode(contentNode.content); } })(); } else { _insertNode(contentNode.content); } }); </script></treescope-run-here><div style=\"display:none\"> <script type=\"application/octet-stream\" >eNrFVk1v4zYQ/SuECmykolIcZ71JZVtALkUPRQ/toYe2MChpJLGmSZUcOfEW+e8dUrId23JQoIvWPtgazsx78ykuLO4kZAkaAFvoFlZGa2R/sVZbgUKrlBmQHMUW5qzSCuOKb4TcpWyjlbYtL0j+3AiE2D+krDUkkcJi7F3HuGtJqrQicc6LdW10p8q40FKbtDeds+Epl6RA/kSJTcoqgaSmEBTOWcvLUqg6llBhyqZF40AUxA2IuiHJXTJzbhRyQZwPZsOfeCusyIUUSMx5h/qgGwuFRigritiKz9CfDnRfF7d9ehaH9MSmU4RpSGYLI1pkLr7lDW9bKQruMnarCwQXvQG+ucnCMFpmlFDCs8hKqJRlS4aNsEkN+BNl+0ddQhgljbaY+HMKDZCtWlAu5KfCeXVGv/4+dvI9V6UEOladlPMeISGaP2utSBo+a7OO2FsO+hcSuaMTMYrCCVswlTYbrgpIlH4OI19fAggvTljcGy3Y/TQiP6Ji4RnrRIKqsWHLJZs4lXepG8DOKMo7A2nhSKzplGN27to2okLHzyu4P6/0vYIQUlepUj8nBv7swOKTEhtfru8M30DY5yRyPuYXQG1nmz6N85EY9xDLPox3ovznHByLvpCo61r2U7nyk0Pd2jpfTgISv2GwpQYfKunY+edkDTuX9MAEjtCgnBSSW/sDDefgNwwOPlcbasNgD/4aUT6p/X2PZ4vbsQEoxZZ5h8vgdH0EDHlOkcLLMpgETCsiQ2Er0nuv7cdjDZ3NPsqAxq5fWGQBxkC5amlnQKNlCcZ3jF8kX/EH9x1WljdJmUBOM0qxJRWp85ygFHG4suxe2anaqmdH2qWwBLrbL7VzRZYxyXOQaZoDzQu8YVX4z3wUr19s8Z3bbMMCnMyPWEL5dZdL7TbkVcxGb8FcIpfcrC3wmsqkLq1TpTE8EzXchpn3mY3mwdukRQPFGsooYl9HRw7OdNxor3/C0G/olN38Np3lxc3/Se/U6CrJT/8BSVdHB9wZ6wrYanpPgRnBFfbLwfpR8ECxnzd7rce/DOoxPIQXvERJhF1VwlhcabVy7T8yWu+NUjKduWkaLRX71/T7ip9TdFFtuKnpZtHT8AN9vEnQLUkxUS6DwwL7VDzefSzL2beTh/LjbDKlpyk83lfT2f3DY1XcBYPRsGpP5/4cnpT7IBZCtd1wOwk87Vy/BKNOhgjJ9NYb0e/g4y3u2MINsg8S53/wl+TJGL5jldQc76d0M0iShH2o0b1CyEd2/kOvjuxvnp2zLg==</script> <treescope-run-here><script type=\"application/octet-stream\"> const root = ( Array.from(document.getElementsByClassName( \"treescope_out_715231acf9a74298b22ac5a853c492eb\")) .filter((elt) => !elt.dataset['step0']) )[0]; root.dataset['step0'] = 1; root.defns.insertContent( this.parentNode.querySelector('script[type=\"application/octet-stream\"]'), true ); this.parentNode.remove(); </script></treescope-run-here> </div>"
      ],
      "text/plain": [
       "<IPython.core.display.HTML object>"
      ]
     },
     "metadata": {},
     "output_type": "display_data"
    },
    {
     "data": {
      "text/html": [
       "<div style=\"display:none\"> <script type=\"application/octet-stream\" >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</script> <treescope-run-here><script type=\"application/octet-stream\"> const root = ( Array.from(document.getElementsByClassName( \"treescope_out_715231acf9a74298b22ac5a853c492eb\")) .filter((elt) => !elt.dataset['step1']) )[0]; root.dataset['step1'] = 1; root.defns.insertContent( this.parentNode.querySelector('script[type=\"application/octet-stream\"]'), true ); this.parentNode.remove(); </script></treescope-run-here> </div>"
      ],
      "text/plain": [
       "<IPython.core.display.HTML object>"
      ]
     },
     "metadata": {},
     "output_type": "display_data"
    },
    {
     "data": {
      "text/html": [
       "<treescope-run-here><script type=\"application/octet-stream\"> const root = ( Array.from(document.getElementsByClassName( \"treescope_out_715231acf9a74298b22ac5a853c492eb\")) .filter((elt) => !elt.dataset.stolen) )[0]; root.dataset.stolen = 1; this.parentNode.replaceChild(root, this); </script></treescope-run-here>"
      ],
      "text/plain": [
       "<jax.Array(0.7265625, dtype=float32)>"
      ]
     },
     "execution_count": 32,
     "metadata": {},
     "output_type": "execute_result"
    }
   ],
   "source": [
    "(res * answer_mask).sum() / answer_mask.sum()"
   ]
  }
 ],
 "metadata": {
  "kernelspec": {
   "display_name": "micrlhf-progress-_SD4q1c9-py3.10",
   "language": "python",
   "name": "python3"
  },
  "language_info": {
   "codemirror_mode": {
    "name": "ipython",
    "version": 3
   },
   "file_extension": ".py",
   "mimetype": "text/x-python",
   "name": "python",
   "nbconvert_exporter": "python",
   "pygments_lexer": "ipython3",
   "version": "3.10.12"
  }
 },
 "nbformat": 4,
 "nbformat_minor": 2
}
