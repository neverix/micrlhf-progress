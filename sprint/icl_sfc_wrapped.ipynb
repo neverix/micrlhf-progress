{
 "cells": [
  {
   "cell_type": "code",
   "execution_count": 1,
   "metadata": {},
   "outputs": [],
   "source": [
    "import os\n",
    "if \"models\" not in os.listdir(\".\"):\n",
    "    os.chdir(\"../..\")"
   ]
  },
  {
   "cell_type": "code",
   "execution_count": 2,
   "metadata": {},
   "outputs": [],
   "source": [
    "%load_ext autoreload\n",
    "%autoreload 2\n",
    "import penzai\n",
    "import jax_smi\n",
    "jax_smi.initialise_tracking()\n",
    "from penzai import pz\n",
    "pz.ts.register_as_default()\n",
    "pz.ts.register_autovisualize_magic()\n",
    "pz.enable_interactive_context()"
   ]
  },
  {
   "cell_type": "code",
   "execution_count": 3,
   "metadata": {},
   "outputs": [
    {
     "name": "stdout",
     "output_type": "stream",
     "text": [
      "env: JAX_TRACEBACK_FILTERING=off\n"
     ]
    }
   ],
   "source": [
    "%env JAX_TRACEBACK_FILTERING=off\n",
    "import jax\n",
    "jax.config.update('jax_traceback_filtering', 'off')\n"
   ]
  },
  {
   "cell_type": "code",
   "execution_count": 4,
   "metadata": {},
   "outputs": [],
   "source": [
    "from sprint.icl_sfc_utils import Circuitizer"
   ]
  },
  {
   "cell_type": "code",
   "execution_count": 5,
   "metadata": {},
   "outputs": [],
   "source": [
    "from micrlhf.llama import LlamaTransformer\n",
    "llama = LlamaTransformer.from_pretrained(\"models/gemma-2b-it.gguf\", from_type=\"gemma\", load_eager=True, device_map=\"tpu:0\")"
   ]
  },
  {
   "cell_type": "code",
   "execution_count": 6,
   "metadata": {},
   "outputs": [],
   "source": [
    "from transformers import AutoTokenizer\n",
    "tokenizer = AutoTokenizer.from_pretrained(\"alpindale/gemma-2b\")\n",
    "tokenizer.padding_side = \"right\""
   ]
  },
  {
   "cell_type": "code",
   "execution_count": 7,
   "metadata": {},
   "outputs": [
    {
     "name": "stderr",
     "output_type": "stream",
     "text": [
      "fatal: destination path 'data/itv' already exists and is not an empty directory.\n"
     ]
    }
   ],
   "source": [
    "from sprint.task_vector_utils import load_tasks, ICLRunner\n",
    "tasks = load_tasks()"
   ]
  },
  {
   "cell_type": "code",
   "execution_count": 8,
   "metadata": {},
   "outputs": [
    {
     "name": "stdout",
     "output_type": "stream",
     "text": [
      "162\n",
      "162\n"
     ]
    }
   ],
   "source": [
    "def check_if_single_token(token):\n",
    "    return len(tokenizer.tokenize(token)) == 1\n",
    "\n",
    "task_name = \"antonyms\"\n",
    "\n",
    "task = tasks[task_name]\n",
    "\n",
    "print(len(task))\n",
    "\n",
    "# task = {\n",
    "#     k:v for k,v in task.items() if check_if_single_token(k) and check_if_single_token(v)\n",
    "# }\n",
    "\n",
    "print(len(task))\n",
    "\n",
    "pairs = list(task.items())\n",
    "\n",
    "batch_size = 1 \n",
    "n_shot=16\n",
    "max_seq_len = 128\n",
    "seed = 10\n",
    "\n",
    "prompt = \"Follow the pattern:\\n{}\"\n",
    "\n",
    "runner = ICLRunner(task_name, pairs, batch_size=batch_size, n_shot=n_shot, max_seq_len=max_seq_len, seed=seed, prompt=prompt)"
   ]
  },
  {
   "cell_type": "code",
   "execution_count": 9,
   "metadata": {},
   "outputs": [
    {
     "name": "stdout",
     "output_type": "stream",
     "text": [
      "Setting up masks...\n"
     ]
    },
    {
     "name": "stdout",
     "output_type": "stream",
     "text": [
      "Running metrics...\n",
      "Setting up RMS...\n"
     ]
    },
    {
     "data": {
      "application/vnd.jupyter.widget-view+json": {
       "model_id": "d351ccb962c5420683df950949e3a270",
       "version_major": 2,
       "version_minor": 0
      },
      "text/plain": [
       "  0%|          | 0/18 [00:00<?, ?it/s]"
      ]
     },
     "metadata": {},
     "output_type": "display_data"
    },
    {
     "name": "stdout",
     "output_type": "stream",
     "text": [
      "Loading SAEs...\n"
     ]
    },
    {
     "data": {
      "application/vnd.jupyter.widget-view+json": {
       "model_id": "0f6bdee51c6b475faffcfc47a9cec79a",
       "version_major": 2,
       "version_minor": 0
      },
      "text/plain": [
       "  0%|          | 0/11 [00:00<?, ?it/s]"
      ]
     },
     "metadata": {},
     "output_type": "display_data"
    },
    {
     "name": "stdout",
     "output_type": "stream",
     "text": [
      "Running node IEs...\n"
     ]
    },
    {
     "data": {
      "application/vnd.jupyter.widget-view+json": {
       "model_id": "00440bdbfdc040229719c7bdd1140d65",
       "version_major": 2,
       "version_minor": 0
      },
      "text/plain": [
       "  0%|          | 0/11 [00:00<?, ?it/s]"
      ]
     },
     "metadata": {},
     "output_type": "display_data"
    },
    {
     "data": {
      "application/vnd.jupyter.widget-view+json": {
       "model_id": "3ec236df8988409f8f5846f0df3061fe",
       "version_major": 2,
       "version_minor": 0
      },
      "text/plain": [
       "  0%|          | 0/11 [00:00<?, ?it/s]"
      ]
     },
     "metadata": {},
     "output_type": "display_data"
    },
    {
     "data": {
      "application/vnd.jupyter.widget-view+json": {
       "model_id": "1b7dcf46ecd84c409987f8638a5809e9",
       "version_major": 2,
       "version_minor": 0
      },
      "text/plain": [
       "  0%|          | 0/10 [00:00<?, ?it/s]"
      ]
     },
     "metadata": {},
     "output_type": "display_data"
    }
   ],
   "source": [
    "layers = list(range(6, 17))\n",
    "circuitizer = Circuitizer(llama, tokenizer, runner, layers, prompt)"
   ]
  },
  {
   "cell_type": "code",
   "execution_count": 10,
   "metadata": {},
   "outputs": [
    {
     "data": {
      "application/vnd.jupyter.widget-view+json": {
       "model_id": "c364fbada924417b885d8ce708da9cf6",
       "version_major": 2,
       "version_minor": 0
      },
      "text/plain": [
       "  0%|          | 0/1 [00:00<?, ?it/s]"
      ]
     },
     "metadata": {},
     "output_type": "display_data"
    },
    {
     "name": "stdout",
     "output_type": "stream",
     "text": [
      "-14.5625 -74.0\n"
     ]
    }
   ],
   "source": [
    "\n",
    "layers = [10,11,12,13,14,15,16]\n",
    "orig_metric = circuitizer.ablated_metric(llama).tolist()\n",
    "zero_metric = circuitizer.run_ablated_metrics([100000], layers=layers)[0][0]\n",
    "\n",
    "print(orig_metric, zero_metric)"
   ]
  },
  {
   "cell_type": "code",
   "execution_count": 20,
   "metadata": {},
   "outputs": [
    {
     "data": {
      "application/vnd.jupyter.widget-view+json": {
       "model_id": "0df03752927043e89ce34c3ca3d9b46b",
       "version_major": 2,
       "version_minor": 0
      },
      "text/plain": [
       "  0%|          | 0/150 [00:00<?, ?it/s]"
      ]
     },
     "metadata": {},
     "output_type": "display_data"
    }
   ],
   "source": [
    "import numpy as np\n",
    "# thresholds = np.linspace(0, 1e-4, 100)\n",
    "# thresholds = np.linspace(1.4 * 1e-4, 1.45 * 1e-4, 200)\n",
    "thresholds = np.logspace(-5, 0, 150)\n",
    "topks = [4, 6, 12, 16, 24, 32]\n",
    "\n",
    "inverse = False\n",
    "do_abs = False\n",
    "mean_ablate = False\n",
    "average_over_positions = False\n",
    "\n",
    "\n",
    "ablated_metrics, n_nodes_counts = circuitizer.run_ablated_metrics(thresholds, inverse=inverse, \n",
    "                                                                  do_abs=do_abs, mean_ablate=mean_ablate, \n",
    "                                                                  average_over_positions=average_over_positions,\n",
    "                                                                  token_prefix=None, layers=layers)\n",
    "\n",
    "faithfullness = np.array(ablated_metrics)\n",
    "faithfullness = (faithfullness - zero_metric) / (orig_metric - zero_metric)\n",
    "\n",
    "\n",
    "\n",
    "# target_metric = (max(ablated_metrics) - min(ablated_metrics)) * 0.95 + min(ablated_metrics)\n",
    "# target_threshold = [threshold for threshold, metric in reversed(list(zip(thresholds, ablated_metrics))) if metric > target_metric][0]"
   ]
  },
  {
   "cell_type": "code",
   "execution_count": 21,
   "metadata": {},
   "outputs": [
    {
     "data": {
      "application/vnd.plotly.v1+json": {
       "config": {
        "plotlyServerURL": "https://plot.ly"
       },
       "data": [
        {
         "hovertemplate": "x=%{x}<br>y=%{y}<extra></extra>",
         "legendgroup": "",
         "line": {
          "color": "#636efa",
          "dash": "solid"
         },
         "marker": {
          "symbol": "circle"
         },
         "mode": "lines",
         "name": "",
         "orientation": "v",
         "showlegend": false,
         "type": "scatter",
         "x": [
          27451,
          27447,
          27443,
          27440,
          27436,
          27434,
          27432,
          27428,
          27425,
          27422,
          27417,
          27416,
          27413,
          27405,
          27395,
          27390,
          27384,
          27378,
          27372,
          27361,
          27353,
          27339,
          27331,
          27322,
          27306,
          27289,
          27275,
          27259,
          27245,
          27216,
          27201,
          27181,
          27163,
          27138,
          27109,
          27074,
          27047,
          27013,
          26983,
          26950,
          26912,
          26866,
          26827,
          26773,
          26712,
          26651,
          26578,
          26507,
          26418,
          26343,
          26255,
          26177,
          26076,
          25975,
          25864,
          25738,
          25615,
          25478,
          25348,
          25203,
          25016,
          24845,
          24659,
          24470,
          24261,
          24033,
          23798,
          23560,
          23326,
          23058,
          22807,
          22535,
          22221,
          21912,
          21609,
          21272,
          20911,
          20554,
          20172,
          19836,
          19442,
          19041,
          18634,
          18259,
          17864,
          17429,
          17023,
          16610,
          16219,
          15791,
          15366,
          14911,
          14474,
          14038,
          13591,
          13142,
          12671,
          12240,
          11796,
          11411,
          10959,
          10558,
          10151,
          9715,
          9329,
          8939,
          8584,
          8170,
          7796,
          7421,
          7056,
          6689,
          6356,
          6028,
          5697,
          5348,
          5024,
          4716,
          4429,
          4165,
          3911,
          3673,
          3427,
          3174,
          2977,
          2778,
          2614,
          2421,
          2257,
          2086,
          1910,
          1754,
          1607,
          1453,
          1318,
          1205,
          1074,
          967,
          876,
          774,
          692,
          622,
          548,
          476,
          415,
          360,
          312,
          256,
          224,
          185
         ],
         "xaxis": "x",
         "y": [
          1.099894847528917,
          1.0967402733964249,
          1.1009463722397477,
          1.1019978969505784,
          1.1019978969505784,
          1.1019978969505784,
          1.1019978969505784,
          1.1019978969505784,
          1.1019978969505784,
          1.1009463722397477,
          1.1009463722397477,
          1.1009463722397477,
          1.103049421661409,
          1.103049421661409,
          1.1072555205047319,
          1.1072555205047319,
          1.1041009463722398,
          1.1041009463722398,
          1.103049421661409,
          1.1051524710830705,
          1.1062039957939012,
          1.103049421661409,
          1.103049421661409,
          1.103049421661409,
          1.103049421661409,
          1.1041009463722398,
          1.1041009463722398,
          1.1051524710830705,
          1.103049421661409,
          1.103049421661409,
          1.1019978969505784,
          1.103049421661409,
          1.1051524710830705,
          1.1019978969505784,
          1.1093585699263933,
          1.1019978969505784,
          1.099894847528917,
          1.0988433228180863,
          1.103049421661409,
          1.099894847528917,
          1.103049421661409,
          1.1072555205047319,
          1.1041009463722398,
          1.110410094637224,
          1.1109358569926393,
          1.099894847528917,
          1.1130389064143007,
          1.115141955835962,
          1.1041009463722398,
          1.1072555205047319,
          1.1062039957939012,
          1.1140904311251314,
          1.110410094637224,
          1.1109358569926393,
          1.113564668769716,
          1.1083070452155626,
          1.1051524710830705,
          1.103049421661409,
          1.1019978969505784,
          1.1009463722397477,
          1.1062039957939012,
          1.103049421661409,
          1.1062039957939012,
          1.1062039957939012,
          1.1041009463722398,
          1.1009463722397477,
          1.1019978969505784,
          1.0977917981072556,
          1.0988433228180863,
          1.1041009463722398,
          1.1041009463722398,
          1.1019978969505784,
          1.1009463722397477,
          1.1051524710830705,
          1.1203995793901156,
          1.1167192429022081,
          1.1172450052576235,
          1.1130389064143007,
          1.1083070452155626,
          1.1093585699263933,
          1.11198738170347,
          1.1125131440588854,
          1.1198738170347002,
          1.1256572029442693,
          1.1303890641430074,
          1.1203995793901156,
          1.1146161934805467,
          1.128286014721346,
          1.1361724500525763,
          1.1277602523659307,
          1.1277602523659307,
          1.129863301787592,
          1.125131440588854,
          1.120925341745531,
          1.1140904311251314,
          1.103049421661409,
          1.0956887486855942,
          1.0988433228180863,
          1.0988433228180863,
          1.092534174553102,
          1.0872765509989484,
          1.0799158780231335,
          1.077812828601472,
          1.0799158780231335,
          1.07465825446898,
          1.0736067297581493,
          1.0578338590956888,
          1.0515247108307044,
          1.0525762355415351,
          1.0620399579390116,
          1.0483701366982123,
          1.0431125131440588,
          1.0525762355415351,
          1.0452155625657202,
          1.0378548895899053,
          1.0662460567823344,
          1.049421661409043,
          1.0410094637223974,
          1.0304942166140905,
          0.9947423764458465,
          0.9915878023133544,
          0.9695057833859095,
          0.961093585699264,
          0.9505783385909569,
          0.9505783385909569,
          0.9674027339642481,
          0.9505783385909569,
          0.9589905362776026,
          0.9758149316508938,
          0.9421661409043113,
          0.9211356466876972,
          0.9043112513144059,
          0.889589905362776,
          0.8664563617245006,
          0.8727655099894848,
          0.8222923238696109,
          0.7697160883280757,
          0.7339642481598317,
          0.668769716088328,
          0.6098843322818086,
          0.5678233438485805,
          0.5636172450052577,
          0.4879074658254469,
          0.4921135646687697,
          0.4668769716088328,
          0.4332281808622503,
          0.38275499474237645,
          0.3617245005257624,
          0.3070452155625657,
          0.2902208201892745
         ],
         "yaxis": "y"
        }
       ],
       "layout": {
        "legend": {
         "tracegroupgap": 0
        },
        "template": {
         "data": {
          "bar": [
           {
            "error_x": {
             "color": "#2a3f5f"
            },
            "error_y": {
             "color": "#2a3f5f"
            },
            "marker": {
             "line": {
              "color": "#E5ECF6",
              "width": 0.5
             },
             "pattern": {
              "fillmode": "overlay",
              "size": 10,
              "solidity": 0.2
             }
            },
            "type": "bar"
           }
          ],
          "barpolar": [
           {
            "marker": {
             "line": {
              "color": "#E5ECF6",
              "width": 0.5
             },
             "pattern": {
              "fillmode": "overlay",
              "size": 10,
              "solidity": 0.2
             }
            },
            "type": "barpolar"
           }
          ],
          "carpet": [
           {
            "aaxis": {
             "endlinecolor": "#2a3f5f",
             "gridcolor": "white",
             "linecolor": "white",
             "minorgridcolor": "white",
             "startlinecolor": "#2a3f5f"
            },
            "baxis": {
             "endlinecolor": "#2a3f5f",
             "gridcolor": "white",
             "linecolor": "white",
             "minorgridcolor": "white",
             "startlinecolor": "#2a3f5f"
            },
            "type": "carpet"
           }
          ],
          "choropleth": [
           {
            "colorbar": {
             "outlinewidth": 0,
             "ticks": ""
            },
            "type": "choropleth"
           }
          ],
          "contour": [
           {
            "colorbar": {
             "outlinewidth": 0,
             "ticks": ""
            },
            "colorscale": [
             [
              0,
              "#0d0887"
             ],
             [
              0.1111111111111111,
              "#46039f"
             ],
             [
              0.2222222222222222,
              "#7201a8"
             ],
             [
              0.3333333333333333,
              "#9c179e"
             ],
             [
              0.4444444444444444,
              "#bd3786"
             ],
             [
              0.5555555555555556,
              "#d8576b"
             ],
             [
              0.6666666666666666,
              "#ed7953"
             ],
             [
              0.7777777777777778,
              "#fb9f3a"
             ],
             [
              0.8888888888888888,
              "#fdca26"
             ],
             [
              1,
              "#f0f921"
             ]
            ],
            "type": "contour"
           }
          ],
          "contourcarpet": [
           {
            "colorbar": {
             "outlinewidth": 0,
             "ticks": ""
            },
            "type": "contourcarpet"
           }
          ],
          "heatmap": [
           {
            "colorbar": {
             "outlinewidth": 0,
             "ticks": ""
            },
            "colorscale": [
             [
              0,
              "#0d0887"
             ],
             [
              0.1111111111111111,
              "#46039f"
             ],
             [
              0.2222222222222222,
              "#7201a8"
             ],
             [
              0.3333333333333333,
              "#9c179e"
             ],
             [
              0.4444444444444444,
              "#bd3786"
             ],
             [
              0.5555555555555556,
              "#d8576b"
             ],
             [
              0.6666666666666666,
              "#ed7953"
             ],
             [
              0.7777777777777778,
              "#fb9f3a"
             ],
             [
              0.8888888888888888,
              "#fdca26"
             ],
             [
              1,
              "#f0f921"
             ]
            ],
            "type": "heatmap"
           }
          ],
          "heatmapgl": [
           {
            "colorbar": {
             "outlinewidth": 0,
             "ticks": ""
            },
            "colorscale": [
             [
              0,
              "#0d0887"
             ],
             [
              0.1111111111111111,
              "#46039f"
             ],
             [
              0.2222222222222222,
              "#7201a8"
             ],
             [
              0.3333333333333333,
              "#9c179e"
             ],
             [
              0.4444444444444444,
              "#bd3786"
             ],
             [
              0.5555555555555556,
              "#d8576b"
             ],
             [
              0.6666666666666666,
              "#ed7953"
             ],
             [
              0.7777777777777778,
              "#fb9f3a"
             ],
             [
              0.8888888888888888,
              "#fdca26"
             ],
             [
              1,
              "#f0f921"
             ]
            ],
            "type": "heatmapgl"
           }
          ],
          "histogram": [
           {
            "marker": {
             "pattern": {
              "fillmode": "overlay",
              "size": 10,
              "solidity": 0.2
             }
            },
            "type": "histogram"
           }
          ],
          "histogram2d": [
           {
            "colorbar": {
             "outlinewidth": 0,
             "ticks": ""
            },
            "colorscale": [
             [
              0,
              "#0d0887"
             ],
             [
              0.1111111111111111,
              "#46039f"
             ],
             [
              0.2222222222222222,
              "#7201a8"
             ],
             [
              0.3333333333333333,
              "#9c179e"
             ],
             [
              0.4444444444444444,
              "#bd3786"
             ],
             [
              0.5555555555555556,
              "#d8576b"
             ],
             [
              0.6666666666666666,
              "#ed7953"
             ],
             [
              0.7777777777777778,
              "#fb9f3a"
             ],
             [
              0.8888888888888888,
              "#fdca26"
             ],
             [
              1,
              "#f0f921"
             ]
            ],
            "type": "histogram2d"
           }
          ],
          "histogram2dcontour": [
           {
            "colorbar": {
             "outlinewidth": 0,
             "ticks": ""
            },
            "colorscale": [
             [
              0,
              "#0d0887"
             ],
             [
              0.1111111111111111,
              "#46039f"
             ],
             [
              0.2222222222222222,
              "#7201a8"
             ],
             [
              0.3333333333333333,
              "#9c179e"
             ],
             [
              0.4444444444444444,
              "#bd3786"
             ],
             [
              0.5555555555555556,
              "#d8576b"
             ],
             [
              0.6666666666666666,
              "#ed7953"
             ],
             [
              0.7777777777777778,
              "#fb9f3a"
             ],
             [
              0.8888888888888888,
              "#fdca26"
             ],
             [
              1,
              "#f0f921"
             ]
            ],
            "type": "histogram2dcontour"
           }
          ],
          "mesh3d": [
           {
            "colorbar": {
             "outlinewidth": 0,
             "ticks": ""
            },
            "type": "mesh3d"
           }
          ],
          "parcoords": [
           {
            "line": {
             "colorbar": {
              "outlinewidth": 0,
              "ticks": ""
             }
            },
            "type": "parcoords"
           }
          ],
          "pie": [
           {
            "automargin": true,
            "type": "pie"
           }
          ],
          "scatter": [
           {
            "fillpattern": {
             "fillmode": "overlay",
             "size": 10,
             "solidity": 0.2
            },
            "type": "scatter"
           }
          ],
          "scatter3d": [
           {
            "line": {
             "colorbar": {
              "outlinewidth": 0,
              "ticks": ""
             }
            },
            "marker": {
             "colorbar": {
              "outlinewidth": 0,
              "ticks": ""
             }
            },
            "type": "scatter3d"
           }
          ],
          "scattercarpet": [
           {
            "marker": {
             "colorbar": {
              "outlinewidth": 0,
              "ticks": ""
             }
            },
            "type": "scattercarpet"
           }
          ],
          "scattergeo": [
           {
            "marker": {
             "colorbar": {
              "outlinewidth": 0,
              "ticks": ""
             }
            },
            "type": "scattergeo"
           }
          ],
          "scattergl": [
           {
            "marker": {
             "colorbar": {
              "outlinewidth": 0,
              "ticks": ""
             }
            },
            "type": "scattergl"
           }
          ],
          "scattermapbox": [
           {
            "marker": {
             "colorbar": {
              "outlinewidth": 0,
              "ticks": ""
             }
            },
            "type": "scattermapbox"
           }
          ],
          "scatterpolar": [
           {
            "marker": {
             "colorbar": {
              "outlinewidth": 0,
              "ticks": ""
             }
            },
            "type": "scatterpolar"
           }
          ],
          "scatterpolargl": [
           {
            "marker": {
             "colorbar": {
              "outlinewidth": 0,
              "ticks": ""
             }
            },
            "type": "scatterpolargl"
           }
          ],
          "scatterternary": [
           {
            "marker": {
             "colorbar": {
              "outlinewidth": 0,
              "ticks": ""
             }
            },
            "type": "scatterternary"
           }
          ],
          "surface": [
           {
            "colorbar": {
             "outlinewidth": 0,
             "ticks": ""
            },
            "colorscale": [
             [
              0,
              "#0d0887"
             ],
             [
              0.1111111111111111,
              "#46039f"
             ],
             [
              0.2222222222222222,
              "#7201a8"
             ],
             [
              0.3333333333333333,
              "#9c179e"
             ],
             [
              0.4444444444444444,
              "#bd3786"
             ],
             [
              0.5555555555555556,
              "#d8576b"
             ],
             [
              0.6666666666666666,
              "#ed7953"
             ],
             [
              0.7777777777777778,
              "#fb9f3a"
             ],
             [
              0.8888888888888888,
              "#fdca26"
             ],
             [
              1,
              "#f0f921"
             ]
            ],
            "type": "surface"
           }
          ],
          "table": [
           {
            "cells": {
             "fill": {
              "color": "#EBF0F8"
             },
             "line": {
              "color": "white"
             }
            },
            "header": {
             "fill": {
              "color": "#C8D4E3"
             },
             "line": {
              "color": "white"
             }
            },
            "type": "table"
           }
          ]
         },
         "layout": {
          "annotationdefaults": {
           "arrowcolor": "#2a3f5f",
           "arrowhead": 0,
           "arrowwidth": 1
          },
          "autotypenumbers": "strict",
          "coloraxis": {
           "colorbar": {
            "outlinewidth": 0,
            "ticks": ""
           }
          },
          "colorscale": {
           "diverging": [
            [
             0,
             "#8e0152"
            ],
            [
             0.1,
             "#c51b7d"
            ],
            [
             0.2,
             "#de77ae"
            ],
            [
             0.3,
             "#f1b6da"
            ],
            [
             0.4,
             "#fde0ef"
            ],
            [
             0.5,
             "#f7f7f7"
            ],
            [
             0.6,
             "#e6f5d0"
            ],
            [
             0.7,
             "#b8e186"
            ],
            [
             0.8,
             "#7fbc41"
            ],
            [
             0.9,
             "#4d9221"
            ],
            [
             1,
             "#276419"
            ]
           ],
           "sequential": [
            [
             0,
             "#0d0887"
            ],
            [
             0.1111111111111111,
             "#46039f"
            ],
            [
             0.2222222222222222,
             "#7201a8"
            ],
            [
             0.3333333333333333,
             "#9c179e"
            ],
            [
             0.4444444444444444,
             "#bd3786"
            ],
            [
             0.5555555555555556,
             "#d8576b"
            ],
            [
             0.6666666666666666,
             "#ed7953"
            ],
            [
             0.7777777777777778,
             "#fb9f3a"
            ],
            [
             0.8888888888888888,
             "#fdca26"
            ],
            [
             1,
             "#f0f921"
            ]
           ],
           "sequentialminus": [
            [
             0,
             "#0d0887"
            ],
            [
             0.1111111111111111,
             "#46039f"
            ],
            [
             0.2222222222222222,
             "#7201a8"
            ],
            [
             0.3333333333333333,
             "#9c179e"
            ],
            [
             0.4444444444444444,
             "#bd3786"
            ],
            [
             0.5555555555555556,
             "#d8576b"
            ],
            [
             0.6666666666666666,
             "#ed7953"
            ],
            [
             0.7777777777777778,
             "#fb9f3a"
            ],
            [
             0.8888888888888888,
             "#fdca26"
            ],
            [
             1,
             "#f0f921"
            ]
           ]
          },
          "colorway": [
           "#636efa",
           "#EF553B",
           "#00cc96",
           "#ab63fa",
           "#FFA15A",
           "#19d3f3",
           "#FF6692",
           "#B6E880",
           "#FF97FF",
           "#FECB52"
          ],
          "font": {
           "color": "#2a3f5f"
          },
          "geo": {
           "bgcolor": "white",
           "lakecolor": "white",
           "landcolor": "#E5ECF6",
           "showlakes": true,
           "showland": true,
           "subunitcolor": "white"
          },
          "hoverlabel": {
           "align": "left"
          },
          "hovermode": "closest",
          "mapbox": {
           "style": "light"
          },
          "paper_bgcolor": "white",
          "plot_bgcolor": "#E5ECF6",
          "polar": {
           "angularaxis": {
            "gridcolor": "white",
            "linecolor": "white",
            "ticks": ""
           },
           "bgcolor": "#E5ECF6",
           "radialaxis": {
            "gridcolor": "white",
            "linecolor": "white",
            "ticks": ""
           }
          },
          "scene": {
           "xaxis": {
            "backgroundcolor": "#E5ECF6",
            "gridcolor": "white",
            "gridwidth": 2,
            "linecolor": "white",
            "showbackground": true,
            "ticks": "",
            "zerolinecolor": "white"
           },
           "yaxis": {
            "backgroundcolor": "#E5ECF6",
            "gridcolor": "white",
            "gridwidth": 2,
            "linecolor": "white",
            "showbackground": true,
            "ticks": "",
            "zerolinecolor": "white"
           },
           "zaxis": {
            "backgroundcolor": "#E5ECF6",
            "gridcolor": "white",
            "gridwidth": 2,
            "linecolor": "white",
            "showbackground": true,
            "ticks": "",
            "zerolinecolor": "white"
           }
          },
          "shapedefaults": {
           "line": {
            "color": "#2a3f5f"
           }
          },
          "ternary": {
           "aaxis": {
            "gridcolor": "white",
            "linecolor": "white",
            "ticks": ""
           },
           "baxis": {
            "gridcolor": "white",
            "linecolor": "white",
            "ticks": ""
           },
           "bgcolor": "#E5ECF6",
           "caxis": {
            "gridcolor": "white",
            "linecolor": "white",
            "ticks": ""
           }
          },
          "title": {
           "x": 0.05
          },
          "xaxis": {
           "automargin": true,
           "gridcolor": "white",
           "linecolor": "white",
           "ticks": "",
           "title": {
            "standoff": 15
           },
           "zerolinecolor": "white",
           "zerolinewidth": 2
          },
          "yaxis": {
           "automargin": true,
           "gridcolor": "white",
           "linecolor": "white",
           "ticks": "",
           "title": {
            "standoff": 15
           },
           "zerolinecolor": "white",
           "zerolinewidth": 2
          }
         }
        },
        "title": {
         "text": "inverse=False, abs=False, mean=False, aop=False, layers=[10, 11, 12, 13, 14, 15, 16]"
        },
        "xaxis": {
         "anchor": "y",
         "domain": [
          0,
          1
         ],
         "title": {
          "text": "Number of nodes"
         }
        },
        "yaxis": {
         "anchor": "x",
         "domain": [
          0,
          1
         ],
         "title": {
          "text": "Faithfullness"
         }
        }
       }
      },
      "text/html": [
       "<div>                            <div id=\"d1aafc43-b642-4e17-a949-1953adc476a9\" class=\"plotly-graph-div\" style=\"height:525px; width:100%;\"></div>            <script type=\"text/javascript\">                require([\"plotly\"], function(Plotly) {                    window.PLOTLYENV=window.PLOTLYENV || {};                                    if (document.getElementById(\"d1aafc43-b642-4e17-a949-1953adc476a9\")) {                    Plotly.newPlot(                        \"d1aafc43-b642-4e17-a949-1953adc476a9\",                        [{\"hovertemplate\":\"x=%{x}\\u003cbr\\u003ey=%{y}\\u003cextra\\u003e\\u003c\\u002fextra\\u003e\",\"legendgroup\":\"\",\"line\":{\"color\":\"#636efa\",\"dash\":\"solid\"},\"marker\":{\"symbol\":\"circle\"},\"mode\":\"lines\",\"name\":\"\",\"orientation\":\"v\",\"showlegend\":false,\"x\":[27451,27447,27443,27440,27436,27434,27432,27428,27425,27422,27417,27416,27413,27405,27395,27390,27384,27378,27372,27361,27353,27339,27331,27322,27306,27289,27275,27259,27245,27216,27201,27181,27163,27138,27109,27074,27047,27013,26983,26950,26912,26866,26827,26773,26712,26651,26578,26507,26418,26343,26255,26177,26076,25975,25864,25738,25615,25478,25348,25203,25016,24845,24659,24470,24261,24033,23798,23560,23326,23058,22807,22535,22221,21912,21609,21272,20911,20554,20172,19836,19442,19041,18634,18259,17864,17429,17023,16610,16219,15791,15366,14911,14474,14038,13591,13142,12671,12240,11796,11411,10959,10558,10151,9715,9329,8939,8584,8170,7796,7421,7056,6689,6356,6028,5697,5348,5024,4716,4429,4165,3911,3673,3427,3174,2977,2778,2614,2421,2257,2086,1910,1754,1607,1453,1318,1205,1074,967,876,774,692,622,548,476,415,360,312,256,224,185],\"xaxis\":\"x\",\"y\":[1.099894847528917,1.0967402733964249,1.1009463722397477,1.1019978969505784,1.1019978969505784,1.1019978969505784,1.1019978969505784,1.1019978969505784,1.1019978969505784,1.1009463722397477,1.1009463722397477,1.1009463722397477,1.103049421661409,1.103049421661409,1.1072555205047319,1.1072555205047319,1.1041009463722398,1.1041009463722398,1.103049421661409,1.1051524710830705,1.1062039957939012,1.103049421661409,1.103049421661409,1.103049421661409,1.103049421661409,1.1041009463722398,1.1041009463722398,1.1051524710830705,1.103049421661409,1.103049421661409,1.1019978969505784,1.103049421661409,1.1051524710830705,1.1019978969505784,1.1093585699263933,1.1019978969505784,1.099894847528917,1.0988433228180863,1.103049421661409,1.099894847528917,1.103049421661409,1.1072555205047319,1.1041009463722398,1.110410094637224,1.1109358569926393,1.099894847528917,1.1130389064143007,1.115141955835962,1.1041009463722398,1.1072555205047319,1.1062039957939012,1.1140904311251314,1.110410094637224,1.1109358569926393,1.113564668769716,1.1083070452155626,1.1051524710830705,1.103049421661409,1.1019978969505784,1.1009463722397477,1.1062039957939012,1.103049421661409,1.1062039957939012,1.1062039957939012,1.1041009463722398,1.1009463722397477,1.1019978969505784,1.0977917981072556,1.0988433228180863,1.1041009463722398,1.1041009463722398,1.1019978969505784,1.1009463722397477,1.1051524710830705,1.1203995793901156,1.1167192429022081,1.1172450052576235,1.1130389064143007,1.1083070452155626,1.1093585699263933,1.11198738170347,1.1125131440588854,1.1198738170347002,1.1256572029442693,1.1303890641430074,1.1203995793901156,1.1146161934805467,1.128286014721346,1.1361724500525763,1.1277602523659307,1.1277602523659307,1.129863301787592,1.125131440588854,1.120925341745531,1.1140904311251314,1.103049421661409,1.0956887486855942,1.0988433228180863,1.0988433228180863,1.092534174553102,1.0872765509989484,1.0799158780231335,1.077812828601472,1.0799158780231335,1.07465825446898,1.0736067297581493,1.0578338590956888,1.0515247108307044,1.0525762355415351,1.0620399579390116,1.0483701366982123,1.0431125131440588,1.0525762355415351,1.0452155625657202,1.0378548895899053,1.0662460567823344,1.049421661409043,1.0410094637223974,1.0304942166140905,0.9947423764458465,0.9915878023133544,0.9695057833859095,0.961093585699264,0.9505783385909569,0.9505783385909569,0.9674027339642481,0.9505783385909569,0.9589905362776026,0.9758149316508938,0.9421661409043113,0.9211356466876972,0.9043112513144059,0.889589905362776,0.8664563617245006,0.8727655099894848,0.8222923238696109,0.7697160883280757,0.7339642481598317,0.668769716088328,0.6098843322818086,0.5678233438485805,0.5636172450052577,0.4879074658254469,0.4921135646687697,0.4668769716088328,0.4332281808622503,0.38275499474237645,0.3617245005257624,0.3070452155625657,0.2902208201892745],\"yaxis\":\"y\",\"type\":\"scatter\"}],                        {\"template\":{\"data\":{\"histogram2dcontour\":[{\"type\":\"histogram2dcontour\",\"colorbar\":{\"outlinewidth\":0,\"ticks\":\"\"},\"colorscale\":[[0.0,\"#0d0887\"],[0.1111111111111111,\"#46039f\"],[0.2222222222222222,\"#7201a8\"],[0.3333333333333333,\"#9c179e\"],[0.4444444444444444,\"#bd3786\"],[0.5555555555555556,\"#d8576b\"],[0.6666666666666666,\"#ed7953\"],[0.7777777777777778,\"#fb9f3a\"],[0.8888888888888888,\"#fdca26\"],[1.0,\"#f0f921\"]]}],\"choropleth\":[{\"type\":\"choropleth\",\"colorbar\":{\"outlinewidth\":0,\"ticks\":\"\"}}],\"histogram2d\":[{\"type\":\"histogram2d\",\"colorbar\":{\"outlinewidth\":0,\"ticks\":\"\"},\"colorscale\":[[0.0,\"#0d0887\"],[0.1111111111111111,\"#46039f\"],[0.2222222222222222,\"#7201a8\"],[0.3333333333333333,\"#9c179e\"],[0.4444444444444444,\"#bd3786\"],[0.5555555555555556,\"#d8576b\"],[0.6666666666666666,\"#ed7953\"],[0.7777777777777778,\"#fb9f3a\"],[0.8888888888888888,\"#fdca26\"],[1.0,\"#f0f921\"]]}],\"heatmap\":[{\"type\":\"heatmap\",\"colorbar\":{\"outlinewidth\":0,\"ticks\":\"\"},\"colorscale\":[[0.0,\"#0d0887\"],[0.1111111111111111,\"#46039f\"],[0.2222222222222222,\"#7201a8\"],[0.3333333333333333,\"#9c179e\"],[0.4444444444444444,\"#bd3786\"],[0.5555555555555556,\"#d8576b\"],[0.6666666666666666,\"#ed7953\"],[0.7777777777777778,\"#fb9f3a\"],[0.8888888888888888,\"#fdca26\"],[1.0,\"#f0f921\"]]}],\"heatmapgl\":[{\"type\":\"heatmapgl\",\"colorbar\":{\"outlinewidth\":0,\"ticks\":\"\"},\"colorscale\":[[0.0,\"#0d0887\"],[0.1111111111111111,\"#46039f\"],[0.2222222222222222,\"#7201a8\"],[0.3333333333333333,\"#9c179e\"],[0.4444444444444444,\"#bd3786\"],[0.5555555555555556,\"#d8576b\"],[0.6666666666666666,\"#ed7953\"],[0.7777777777777778,\"#fb9f3a\"],[0.8888888888888888,\"#fdca26\"],[1.0,\"#f0f921\"]]}],\"contourcarpet\":[{\"type\":\"contourcarpet\",\"colorbar\":{\"outlinewidth\":0,\"ticks\":\"\"}}],\"contour\":[{\"type\":\"contour\",\"colorbar\":{\"outlinewidth\":0,\"ticks\":\"\"},\"colorscale\":[[0.0,\"#0d0887\"],[0.1111111111111111,\"#46039f\"],[0.2222222222222222,\"#7201a8\"],[0.3333333333333333,\"#9c179e\"],[0.4444444444444444,\"#bd3786\"],[0.5555555555555556,\"#d8576b\"],[0.6666666666666666,\"#ed7953\"],[0.7777777777777778,\"#fb9f3a\"],[0.8888888888888888,\"#fdca26\"],[1.0,\"#f0f921\"]]}],\"surface\":[{\"type\":\"surface\",\"colorbar\":{\"outlinewidth\":0,\"ticks\":\"\"},\"colorscale\":[[0.0,\"#0d0887\"],[0.1111111111111111,\"#46039f\"],[0.2222222222222222,\"#7201a8\"],[0.3333333333333333,\"#9c179e\"],[0.4444444444444444,\"#bd3786\"],[0.5555555555555556,\"#d8576b\"],[0.6666666666666666,\"#ed7953\"],[0.7777777777777778,\"#fb9f3a\"],[0.8888888888888888,\"#fdca26\"],[1.0,\"#f0f921\"]]}],\"mesh3d\":[{\"type\":\"mesh3d\",\"colorbar\":{\"outlinewidth\":0,\"ticks\":\"\"}}],\"scatter\":[{\"fillpattern\":{\"fillmode\":\"overlay\",\"size\":10,\"solidity\":0.2},\"type\":\"scatter\"}],\"parcoords\":[{\"type\":\"parcoords\",\"line\":{\"colorbar\":{\"outlinewidth\":0,\"ticks\":\"\"}}}],\"scatterpolargl\":[{\"type\":\"scatterpolargl\",\"marker\":{\"colorbar\":{\"outlinewidth\":0,\"ticks\":\"\"}}}],\"bar\":[{\"error_x\":{\"color\":\"#2a3f5f\"},\"error_y\":{\"color\":\"#2a3f5f\"},\"marker\":{\"line\":{\"color\":\"#E5ECF6\",\"width\":0.5},\"pattern\":{\"fillmode\":\"overlay\",\"size\":10,\"solidity\":0.2}},\"type\":\"bar\"}],\"scattergeo\":[{\"type\":\"scattergeo\",\"marker\":{\"colorbar\":{\"outlinewidth\":0,\"ticks\":\"\"}}}],\"scatterpolar\":[{\"type\":\"scatterpolar\",\"marker\":{\"colorbar\":{\"outlinewidth\":0,\"ticks\":\"\"}}}],\"histogram\":[{\"marker\":{\"pattern\":{\"fillmode\":\"overlay\",\"size\":10,\"solidity\":0.2}},\"type\":\"histogram\"}],\"scattergl\":[{\"type\":\"scattergl\",\"marker\":{\"colorbar\":{\"outlinewidth\":0,\"ticks\":\"\"}}}],\"scatter3d\":[{\"type\":\"scatter3d\",\"line\":{\"colorbar\":{\"outlinewidth\":0,\"ticks\":\"\"}},\"marker\":{\"colorbar\":{\"outlinewidth\":0,\"ticks\":\"\"}}}],\"scattermapbox\":[{\"type\":\"scattermapbox\",\"marker\":{\"colorbar\":{\"outlinewidth\":0,\"ticks\":\"\"}}}],\"scatterternary\":[{\"type\":\"scatterternary\",\"marker\":{\"colorbar\":{\"outlinewidth\":0,\"ticks\":\"\"}}}],\"scattercarpet\":[{\"type\":\"scattercarpet\",\"marker\":{\"colorbar\":{\"outlinewidth\":0,\"ticks\":\"\"}}}],\"carpet\":[{\"aaxis\":{\"endlinecolor\":\"#2a3f5f\",\"gridcolor\":\"white\",\"linecolor\":\"white\",\"minorgridcolor\":\"white\",\"startlinecolor\":\"#2a3f5f\"},\"baxis\":{\"endlinecolor\":\"#2a3f5f\",\"gridcolor\":\"white\",\"linecolor\":\"white\",\"minorgridcolor\":\"white\",\"startlinecolor\":\"#2a3f5f\"},\"type\":\"carpet\"}],\"table\":[{\"cells\":{\"fill\":{\"color\":\"#EBF0F8\"},\"line\":{\"color\":\"white\"}},\"header\":{\"fill\":{\"color\":\"#C8D4E3\"},\"line\":{\"color\":\"white\"}},\"type\":\"table\"}],\"barpolar\":[{\"marker\":{\"line\":{\"color\":\"#E5ECF6\",\"width\":0.5},\"pattern\":{\"fillmode\":\"overlay\",\"size\":10,\"solidity\":0.2}},\"type\":\"barpolar\"}],\"pie\":[{\"automargin\":true,\"type\":\"pie\"}]},\"layout\":{\"autotypenumbers\":\"strict\",\"colorway\":[\"#636efa\",\"#EF553B\",\"#00cc96\",\"#ab63fa\",\"#FFA15A\",\"#19d3f3\",\"#FF6692\",\"#B6E880\",\"#FF97FF\",\"#FECB52\"],\"font\":{\"color\":\"#2a3f5f\"},\"hovermode\":\"closest\",\"hoverlabel\":{\"align\":\"left\"},\"paper_bgcolor\":\"white\",\"plot_bgcolor\":\"#E5ECF6\",\"polar\":{\"bgcolor\":\"#E5ECF6\",\"angularaxis\":{\"gridcolor\":\"white\",\"linecolor\":\"white\",\"ticks\":\"\"},\"radialaxis\":{\"gridcolor\":\"white\",\"linecolor\":\"white\",\"ticks\":\"\"}},\"ternary\":{\"bgcolor\":\"#E5ECF6\",\"aaxis\":{\"gridcolor\":\"white\",\"linecolor\":\"white\",\"ticks\":\"\"},\"baxis\":{\"gridcolor\":\"white\",\"linecolor\":\"white\",\"ticks\":\"\"},\"caxis\":{\"gridcolor\":\"white\",\"linecolor\":\"white\",\"ticks\":\"\"}},\"coloraxis\":{\"colorbar\":{\"outlinewidth\":0,\"ticks\":\"\"}},\"colorscale\":{\"sequential\":[[0.0,\"#0d0887\"],[0.1111111111111111,\"#46039f\"],[0.2222222222222222,\"#7201a8\"],[0.3333333333333333,\"#9c179e\"],[0.4444444444444444,\"#bd3786\"],[0.5555555555555556,\"#d8576b\"],[0.6666666666666666,\"#ed7953\"],[0.7777777777777778,\"#fb9f3a\"],[0.8888888888888888,\"#fdca26\"],[1.0,\"#f0f921\"]],\"sequentialminus\":[[0.0,\"#0d0887\"],[0.1111111111111111,\"#46039f\"],[0.2222222222222222,\"#7201a8\"],[0.3333333333333333,\"#9c179e\"],[0.4444444444444444,\"#bd3786\"],[0.5555555555555556,\"#d8576b\"],[0.6666666666666666,\"#ed7953\"],[0.7777777777777778,\"#fb9f3a\"],[0.8888888888888888,\"#fdca26\"],[1.0,\"#f0f921\"]],\"diverging\":[[0,\"#8e0152\"],[0.1,\"#c51b7d\"],[0.2,\"#de77ae\"],[0.3,\"#f1b6da\"],[0.4,\"#fde0ef\"],[0.5,\"#f7f7f7\"],[0.6,\"#e6f5d0\"],[0.7,\"#b8e186\"],[0.8,\"#7fbc41\"],[0.9,\"#4d9221\"],[1,\"#276419\"]]},\"xaxis\":{\"gridcolor\":\"white\",\"linecolor\":\"white\",\"ticks\":\"\",\"title\":{\"standoff\":15},\"zerolinecolor\":\"white\",\"automargin\":true,\"zerolinewidth\":2},\"yaxis\":{\"gridcolor\":\"white\",\"linecolor\":\"white\",\"ticks\":\"\",\"title\":{\"standoff\":15},\"zerolinecolor\":\"white\",\"automargin\":true,\"zerolinewidth\":2},\"scene\":{\"xaxis\":{\"backgroundcolor\":\"#E5ECF6\",\"gridcolor\":\"white\",\"linecolor\":\"white\",\"showbackground\":true,\"ticks\":\"\",\"zerolinecolor\":\"white\",\"gridwidth\":2},\"yaxis\":{\"backgroundcolor\":\"#E5ECF6\",\"gridcolor\":\"white\",\"linecolor\":\"white\",\"showbackground\":true,\"ticks\":\"\",\"zerolinecolor\":\"white\",\"gridwidth\":2},\"zaxis\":{\"backgroundcolor\":\"#E5ECF6\",\"gridcolor\":\"white\",\"linecolor\":\"white\",\"showbackground\":true,\"ticks\":\"\",\"zerolinecolor\":\"white\",\"gridwidth\":2}},\"shapedefaults\":{\"line\":{\"color\":\"#2a3f5f\"}},\"annotationdefaults\":{\"arrowcolor\":\"#2a3f5f\",\"arrowhead\":0,\"arrowwidth\":1},\"geo\":{\"bgcolor\":\"white\",\"landcolor\":\"#E5ECF6\",\"subunitcolor\":\"white\",\"showland\":true,\"showlakes\":true,\"lakecolor\":\"white\"},\"title\":{\"x\":0.05},\"mapbox\":{\"style\":\"light\"}}},\"xaxis\":{\"anchor\":\"y\",\"domain\":[0.0,1.0],\"title\":{\"text\":\"Number of nodes\"}},\"yaxis\":{\"anchor\":\"x\",\"domain\":[0.0,1.0],\"title\":{\"text\":\"Faithfullness\"}},\"legend\":{\"tracegroupgap\":0},\"title\":{\"text\":\"inverse=False, abs=False, mean=False, aop=False, layers=[10, 11, 12, 13, 14, 15, 16]\"}},                        {\"responsive\": true}                    ).then(function(){\n",
       "                            \n",
       "var gd = document.getElementById('d1aafc43-b642-4e17-a949-1953adc476a9');\n",
       "var x = new MutationObserver(function (mutations, observer) {{\n",
       "        var display = window.getComputedStyle(gd).display;\n",
       "        if (!display || display === 'none') {{\n",
       "            console.log([gd, 'removed!']);\n",
       "            Plotly.purge(gd);\n",
       "            observer.disconnect();\n",
       "        }}\n",
       "}});\n",
       "\n",
       "// Listen for the removal of the full notebook cells\n",
       "var notebookContainer = gd.closest('#notebook-container');\n",
       "if (notebookContainer) {{\n",
       "    x.observe(notebookContainer, {childList: true});\n",
       "}}\n",
       "\n",
       "// Listen for the clearing of the current output cell\n",
       "var outputEl = gd.closest('.output');\n",
       "if (outputEl) {{\n",
       "    x.observe(outputEl, {childList: true});\n",
       "}}\n",
       "\n",
       "                        })                };                });            </script>        </div>"
      ]
     },
     "metadata": {},
     "output_type": "display_data"
    }
   ],
   "source": [
    "import matplotlib.pyplot as plt\n",
    "import plotly.express as px\n",
    "\n",
    "# plt.plot([max(n_nodes_counts) - x for x in n_nodes_counts], ablated_metrics)\n",
    "# plt.plot(thresholds, ablated_metrics)\n",
    "# plt.plot(thresholds, ablated_metrics)\n",
    "# plt.plot(n_nodes_counts, ablated_metrics)\n",
    "# plt.plot(thresholds, n_nodes_counts)\n",
    "# plt.xscale(\"log\")\n",
    "# plt.plot(n_nodes_counts)\n",
    "\n",
    "# px.line(x=list(range(len(ablated_metrics))), y=ablated_metrics)\n",
    "# fig = px.line(x=thresholds, y=ablated_metrics)\n",
    "# fig.update_xaxes(type=\"log\", exponentformat=\"power\")\n",
    "\n",
    "fig = px.line(x=n_nodes_counts, y=faithfullness, title=f\"inverse={inverse}, abs={do_abs}, mean={mean_ablate}, aop={average_over_positions}, layers={layers}\")\n",
    "fig.update_xaxes(title=\"Number of nodes\")\n",
    "fig.update_yaxes(title=\"Faithfullness\")\n",
    "\n",
    "fig\n"
   ]
  },
  {
   "cell_type": "code",
   "execution_count": 23,
   "metadata": {},
   "outputs": [
    {
     "data": {
      "text/html": [
       "<script> (()=>{ if (customElements.get('treescope-container') === undefined) { class TreescopeContainer extends HTMLElement { constructor() { super(); this.attachShadow({mode: \"open\"}); this.defns = {}; this.state = {}; } } customElements.define(\"treescope-container\", TreescopeContainer); } if (customElements.get('treescope-run-here') === undefined) { class RunHere extends HTMLElement { constructor() { super() } connectedCallback() { const run = child => { const fn = new Function(child.textContent); child.textContent = \"\"; fn.call(this); this.remove(); }; const child = this.querySelector(\"script\"); if (child) { run(child); } else { new MutationObserver(()=>{ run(this.querySelector(\"script\")); }).observe(this, {childList: true}); } } } customElements.define(\"treescope-run-here\", RunHere); } })(); </script> <treescope-container class=\"treescope_out_1ca7be01a1d94d5a88d6f4c319b2f4d9\" ></treescope-container> <treescope-run-here><script type=\"application/octet-stream\"> const root = ( Array.from(document.getElementsByClassName( \"treescope_out_1ca7be01a1d94d5a88d6f4c319b2f4d9\")) .filter((elt) => !elt.dataset.setup) )[0]; root.dataset.setup = 1; const msg = document.createElement(\"span\"); msg.style = \"color: #aaaaaa; font-family: monospace; transition: opacity 0.2s; opacity: 0.0;\"; msg.textContent = \"(Loading...)\"; root.state.loadingMsg = msg; root.shadowRoot.appendChild(msg); root.state.chain = new Promise((resolve, reject) => { const observer = new IntersectionObserver((entries) => { for (const entry of entries) { if (entry.isIntersecting) { resolve(); observer.disconnect(); return; } } }, {rootMargin: \"1000px\"}); window.setTimeout(() => { if (root.loadingMsg) { root.loadingMsg.style.opacity = \"1.0\"; } observer.observe(root); }, 0); }); root.state.deferring = false; const _insertNode = (node) => { for (let oldScript of node.querySelectorAll(\"script\")) { let newScript = document.createElement(\"script\"); newScript.type = oldScript.type; newScript.textContent = oldScript.textContent; oldScript.parentNode.replaceChild(newScript, oldScript); } if (root.state.loadingMsg) { root.state.loadingMsg.remove(); root.state.loadingMsg = null; } root.shadowRoot.appendChild(node); }; root.defns.insertContent = ((contentNode, compressed) => { if (compressed) { root.state.deferring = true; } if (root.state.deferring) { root.state.chain = (async () => { await root.state.chain; if (compressed) { const encoded = contentNode.textContent; const blob = new Blob([ Uint8Array.from(atob(encoded), (m) => m.codePointAt(0)) ]); const reader = blob.stream().pipeThrough( new DecompressionStream(\"deflate\") ).pipeThrough( new TextDecoderStream(\"utf-8\") ).getReader(); const parts = []; while (true) { const step = await reader.read(); if (step.done) { break; } parts.push(step.value); } const tpl = document.createElement('template'); tpl.innerHTML = parts.join(\"\"); _insertNode(tpl.content); } else { _insertNode(contentNode.content); } })(); } else { _insertNode(contentNode.content); } }); </script></treescope-run-here><div style=\"display:none\"> <script type=\"application/octet-stream\" >eNqNVMmO2zAM/RXBPYwD1J4k7SxZbGAuRQ9FD+2hh6IIFJu2hciUKtFJ02L+fSg7SWdJB0UOsR4pvkeK5NLTXkOekgPwhbGwcsaQ+COs8YqUwblwoCWpLSxEZZCSSrZK7+eiNWi8lQXju0YRJP1hLqxjRCtPSR86ob1lFA0yvJbFpnamwzIpjDZuPlxdiMNprdmB46mSmrmoFLEbEiAthJVlqbBONFQ0F9OiCSQISQOqbhiZpFchDJJUrPl07fCRbJVXa6UVsXLZkTn5JgrJKfSqSLz6DYP1IPd+eTmUZ3kqT+I6ZE7HmC+csiRCftmFtFarQoaKXZqCIGTvQLYXeRyPspwLynyeRAkVepEJapRPa6AvXO3PpoR4lDbGU9rbOTUgsbKAIeW7IkQNl77/OGf5KLHUwGbstF4MDCnL/GoMMhrvjNuMxGMN5htDwfQEJlUE0IKrjGslFpCi2cWj/n2ZIH5hEclwaSneTUccR1UifqY61YA1NSLLxDi4vCrdAXUOue4CtIe/wpoOg7LnoX2jKgr6eofwcc+/fzDE3FVYml3q4GcHnu5Qtf1zfXCyhXioySjEWLwgsp1vhjIuzuR4pMiGNF7J8v81BBXDQ5Kpaz1M5aqfHO5WG2IFBDS9FbDlBj+8ZFDXn9MN7EPRIxcFQQfntNDS+088nIe4cXSKuWq5DaMj+f2I68nt3/d4vrw8NwCl2oo+YBY9XR+RILnmTOFXFo0jYZDFcNrIfq+1/flc43DnmGXEYzcsrH5jrLBr1+D6TukXyJvx7HZydf14dHkt4VFmw7PqeG1sViQdy4hEKUkmLM9KarIoeur+mCPKx+lsenX9fnJzezu7mUxvZhPmYO/89McFyR8Aefze3Q==</script> <treescope-run-here><script type=\"application/octet-stream\"> const root = ( Array.from(document.getElementsByClassName( \"treescope_out_1ca7be01a1d94d5a88d6f4c319b2f4d9\")) .filter((elt) => !elt.dataset['step0']) )[0]; root.dataset['step0'] = 1; root.defns.insertContent( this.parentNode.querySelector('script[type=\"application/octet-stream\"]'), true ); this.parentNode.remove(); </script></treescope-run-here> </div>"
      ],
      "text/plain": [
       "<IPython.core.display.HTML object>"
      ]
     },
     "metadata": {},
     "output_type": "display_data"
    },
    {
     "data": {
      "text/html": [
       "<treescope-run-here><script type=\"application/octet-stream\"> const root = ( Array.from(document.getElementsByClassName( \"treescope_out_1ca7be01a1d94d5a88d6f4c319b2f4d9\")) .filter((elt) => !elt.dataset.stolen) )[0]; root.dataset.stolen = 1; this.parentNode.replaceChild(root, this); </script></treescope-run-here>"
      ],
      "text/plain": [
       "0.9256417889712791"
      ]
     },
     "execution_count": 23,
     "metadata": {},
     "output_type": "execute_result"
    }
   ],
   "source": [
    "target_faithfullness = 0.3\n",
    "\n",
    "target_threshold = [threshold for threshold, metric in reversed(list(zip(thresholds, faithfullness))) if metric > target_faithfullness][0]\n",
    "\n",
    "target_threshold"
   ]
  },
  {
   "cell_type": "code",
   "execution_count": 24,
   "metadata": {},
   "outputs": [
    {
     "data": {
      "application/vnd.jupyter.widget-view+json": {
       "model_id": "bfc45db9aade465095c2bfac50fb2921",
       "version_major": 2,
       "version_minor": 0
      },
      "text/plain": [
       "  0%|          | 0/7 [00:00<?, ?it/s]"
      ]
     },
     "metadata": {},
     "output_type": "display_data"
    }
   ],
   "source": [
    "from tqdm.auto import tqdm\n",
    "\n",
    "# layers = circuitizer.layers\n",
    "# layers = [15,16]\n",
    "selected_threshold = target_threshold\n",
    "\n",
    "\n",
    "ablation_masks = {}\n",
    "\n",
    "for layer in tqdm(layers):\n",
    "    mask_attn_out, _ = circuitizer.mask_ie(circuitizer.ie_attn[layer], selected_threshold, None, do_abs=do_abs, average_over_positions=average_over_positions, inverse=inverse)\n",
    "    mask_resid, _ = circuitizer.mask_ie(circuitizer.ie_resid[layer], selected_threshold, None, do_abs=do_abs, average_over_positions=average_over_positions, inverse=inverse)\n",
    "\n",
    "    # print(mask_resid[\"arrow\"].shape)\n",
    "\n",
    "    # break\n",
    "\n",
    "    try:\n",
    "        mask_transcoder, _ = circuitizer.mask_ie(circuitizer.ie_transcoder[layer], selected_threshold, None, do_abs=do_abs, average_over_positions=average_over_positions, inverse=inverse)\n",
    "    except KeyError:\n",
    "        mask_transcoder = None\n",
    "\n",
    "    ablation_masks[layer] = {\n",
    "        \"attn_out\": mask_attn_out,\n",
    "        \"resid\": mask_resid,\n",
    "        \"transcoder\": mask_transcoder\n",
    "    }"
   ]
  },
  {
   "cell_type": "code",
   "execution_count": 25,
   "metadata": {},
   "outputs": [
    {
     "data": {
      "text/html": [
       "<script> (()=>{ if (customElements.get('treescope-container') === undefined) { class TreescopeContainer extends HTMLElement { constructor() { super(); this.attachShadow({mode: \"open\"}); this.defns = {}; this.state = {}; } } customElements.define(\"treescope-container\", TreescopeContainer); } if (customElements.get('treescope-run-here') === undefined) { class RunHere extends HTMLElement { constructor() { super() } connectedCallback() { const run = child => { const fn = new Function(child.textContent); child.textContent = \"\"; fn.call(this); this.remove(); }; const child = this.querySelector(\"script\"); if (child) { run(child); } else { new MutationObserver(()=>{ run(this.querySelector(\"script\")); }).observe(this, {childList: true}); } } } customElements.define(\"treescope-run-here\", RunHere); } })(); </script> <treescope-container class=\"treescope_out_c8bea525676c4fb0b746f0c16eb1c14a\" ></treescope-container> <treescope-run-here><script type=\"application/octet-stream\"> const root = ( Array.from(document.getElementsByClassName( \"treescope_out_c8bea525676c4fb0b746f0c16eb1c14a\")) .filter((elt) => !elt.dataset.setup) )[0]; root.dataset.setup = 1; const msg = document.createElement(\"span\"); msg.style = \"color: #aaaaaa; font-family: monospace; transition: opacity 0.2s; opacity: 0.0;\"; msg.textContent = \"(Loading...)\"; root.state.loadingMsg = msg; root.shadowRoot.appendChild(msg); root.state.chain = new Promise((resolve, reject) => { const observer = new IntersectionObserver((entries) => { for (const entry of entries) { if (entry.isIntersecting) { resolve(); observer.disconnect(); return; } } }, {rootMargin: \"1000px\"}); window.setTimeout(() => { if (root.loadingMsg) { root.loadingMsg.style.opacity = \"1.0\"; } observer.observe(root); }, 0); }); root.state.deferring = false; const _insertNode = (node) => { for (let oldScript of node.querySelectorAll(\"script\")) { let newScript = document.createElement(\"script\"); newScript.type = oldScript.type; newScript.textContent = oldScript.textContent; oldScript.parentNode.replaceChild(newScript, oldScript); } if (root.state.loadingMsg) { root.state.loadingMsg.remove(); root.state.loadingMsg = null; } root.shadowRoot.appendChild(node); }; root.defns.insertContent = ((contentNode, compressed) => { if (compressed) { root.state.deferring = true; } if (root.state.deferring) { root.state.chain = (async () => { await root.state.chain; if (compressed) { const encoded = contentNode.textContent; const blob = new Blob([ Uint8Array.from(atob(encoded), (m) => m.codePointAt(0)) ]); const reader = blob.stream().pipeThrough( new DecompressionStream(\"deflate\") ).pipeThrough( new TextDecoderStream(\"utf-8\") ).getReader(); const parts = []; while (true) { const step = await reader.read(); if (step.done) { break; } parts.push(step.value); } const tpl = document.createElement('template'); tpl.innerHTML = parts.join(\"\"); _insertNode(tpl.content); } else { _insertNode(contentNode.content); } })(); } else { _insertNode(contentNode.content); } }); </script></treescope-run-here><div style=\"display:none\"> <script type=\"application/octet-stream\" >eNrFVs+P6zQQ/lesIL1NEMluu+0D0jbSXhAHxAEOHABVTjJJTF072JPu9qH93xk7abtt0xUST9Ae2oxn5vvmZ7y0uJeQJWgAbKFbWButkf3FWm0FCq1SZkByFDtYsEorjCu+FXKfsq1W2ra8IPlzIxBi/5Cy1pBECouxdx3jviWp0orEOS82tdGdKuNCS23S3nTBhqdckgL5EyU2KasEkppCULhgLS9LoepYQoUpmxaNA1EQNyDqhiSTZO7cKOSCOB/Nhj/xTliRCymQmPMO9VE3FgqNUFYUsRWfoD8d6L4u7/v0LI/piU2nCNOQzBZGtMhcfKs73rZSFNxl7F4XCC56A3x7l4VhtMoooYRnkZVQKctWDBthkxrwJ8r2j7qEMEoabTHx5xQaIFu3oFzIT4Xz6ox+/X3s5HuuSgl0rDopFz1CQjR/1lqRNHzWZhOxtxz0LyRyR2diFIUTtmAqbbZcFZAo/RxGvr4EEF6dsLg3WrLHaUR+RMXCC9aJBFVjw1Yr9uBU3qVuADujKO8MpIUTsaZTjtmla9uICh0/r+D+vNL3BkJIXaVK/ZwY+LMDi09KbH25vjN8C2Gfk8j5WFwBtZ1t+jQuRmI8QKz6MN6J8p9zcCz6QqKua9lP5dpPDnVr63w5CUj8isGOGnyopGPnn5MN7F3SAxM4QoNyUkhu7Q80nIPfMDj6XG+pDYMD+GtE+aT29z2eLe/HBqAUO+YdroLz9REw5DlFCi+r4CFgWhEZCluR3nttPx5r6GwOUQY0dv3CIgswBsp1SzsDGi1LML5j/CL5gn/tvsPK8iYpE8hpRim2pCJ1nhOUIg43lt0rO1db9+xIuxSWQPeHpXapyDImeQ4yTXOgeYE3rAr/WYzi9YstnrjNNizAh8UJSyi/7nKp3Ya8idnoHZhr5JKbjQVeU5nUtXWqNIYXoobbMPM+s9E8eJu0aKDYQBlF7MvoxMGZjhsd9M8Y+g2dsrvfpvO8uPs/6Z0b3ST58T8g6erogDtjXQFbTe8pMCO4wn4+WD8KHij282Zv9fjnQT2Fh/CC1yiJsOtKGItrrdau/UdG671RSqZzN02jpWL/mn5f8UuKLqotNzXdLHoafqBPNwm6JSkmylVwXGDzj5PpI9Bj+c1kxqfFt+XkYVbNi9lkNnnMZ/NgMBpW7fncX8KTch/EUqi2G24ngaed65dg1MkQIR320dG698b0O/h6iz+2eIPsg8TFH/wleTKG72lZ4eOU7gdJkrAPNboXCXnILn/oBZL9DVz5tcQ=</script> <treescope-run-here><script type=\"application/octet-stream\"> const root = ( Array.from(document.getElementsByClassName( \"treescope_out_c8bea525676c4fb0b746f0c16eb1c14a\")) .filter((elt) => !elt.dataset['step0']) )[0]; root.dataset['step0'] = 1; root.defns.insertContent( this.parentNode.querySelector('script[type=\"application/octet-stream\"]'), true ); this.parentNode.remove(); </script></treescope-run-here> </div>"
      ],
      "text/plain": [
       "<IPython.core.display.HTML object>"
      ]
     },
     "metadata": {},
     "output_type": "display_data"
    },
    {
     "data": {
      "text/html": [
       "<div style=\"display:none\"> <script type=\"application/octet-stream\" >eNrtGgtT4kj6r/Rk6tawSuStgFIXkJcz6ijO6Li3xTZJJ2lJ0jFpQNya/35fd8JTZJzH7l1dHVYBSb73+2s8MukYRXzqkmPFpFHg4mkF+cwnCqLmsWKxsG8Si4QhMfvFUjaXJ3BpHmYLOGeUzWymYBWNQraQzQ8KRaV2FAXYh3dBr6YNGOfMc6lPKj7jqmYx18QDl/R9ZpKKgyO15uIBcWurT/qc2bYb41QMhxhDYqZS6NcU+hMF2DSpb6c5Cyooo2WLxKsiwSHtEGo7vIKymrz3lKa+SR7huooCFlFOmV9BIXExp2NSRV80g7mgHB4MQjIGyvKygt6WDnM4k1kAGMzziM/7E4f4ffII+pnE/Gn6zLhi+Vpw9UfegIRLAJnyYbZYWgBEPAQ7LFPIZ4vZ4hwA3CXMsgAYuNgYVtEA3u2QjXwznTwY41BNpwcuM4bxrRRAsdAkYWzlbPCIIuZScxtk7OqvAX9BmjMNSAiSDfsh8RgnfYeNQdF1oZ+LyYau4aiHhX8ItxeKKJspxxQnOOpHRshcF9A50ywaRrzPqTF8NdVyQcsKupkyyuZL2sFGwtJ/W9mlnjHkIfZnsbfOHGUjRHBEIFDTbMT3kMV8np7IMF57Jrz6Y8EGggXTwQic5INYK4kudV08rlQGBLI+jhyfQ+hXkIKUNShUQyLVNwL/i2QLJiBIfSzsURc47ZxhTkKKXdSbegPmRuhixIWVTNSIMeEzmO5UEZhgMKSAKdAjjzHuQKRXEPY5oFOwilmdRz3JiD+4HoWRuBEwCsTChHlEn4goE2VREVa1jMNugxaSronDYUSwHRLir2HKADBcKgw7x8cWX8lWQ76281zDWWW5bPoklUzMcRr74FgsAiq1fFswgaBdDrdNMfZtqswlAMdQYr5ZlUSyRG+oF7CQg2/WaQ9CNoSKKe4kir/KuktoS/acufmL5hhOHwQ1SN8lFl/qCOJS+LpoOKtwoUyoBWAY94k5pOgToKrZNxzqmiHxE+UxlVaUVpBSrgL+tBYwT0ZZK6vIw6EN7or1MbBrqDnDQWlRWuO6FHEs8Ofy/mWSJLU9lsSECg9hIgr8kjseRtj1sUf6QUgs+ghEVhLvUCbeM4lfsvA63LycxpJAjK6C/O0+yGgFw0m9Rta/xylxq5VSbWy4K+OS1APC3nXQr0jNgjrLKAndCKBIKpWa22CBmn497ozvbCyQmHOSs7vp5PbfaM3FYCMtmA6xSUdRomCWeKDdy4pJSX+wD38txP9cmb1i/4qce8XstR34iwYU/5JZfOHkHxnH5XwNwro4gA6/cUj5QdO/zIH6QuZ46Fse81+A+RlybGKRKBoDyEkRhvxgoyk49M4ImiS0NxiQtDlw3wPGaAuFdVVBuK8CvobZi3QSkY/246XwaE4sHY58CJMQ7sE8TQOOOOwGxzs4gDA15IyzzwxOoJsADvZ2atRCKnqjhyGealbIPNVkxkgsZ5poOpE2xu6IRGoqpUXMI6psRei4Jj+1eBBFx8evHUWVHRjo4x3NjziKHEKAGvLJBDV6vZ7QpifuqZBc8qEWElDZIL2pb6h//DMZfw0ya4rfPgrHvVRwEnYMPexWl7eECiqITTUKjQoaha4q5rKKeL4/YZaVqw5g8isV9sxMuX1m63VdvrqXus7kt/rVBN47LV1v6ttedU/X7SF7Z3ab9cbks65ff26c6mfdekNv2Y/dznuHR/UzSux86+Q2975b+jzuBSP64ax4nT297V59OhvfnD3xD9NWq7F7Yw+vaf0k49CTy9Fp02zfZzqDfWvcNYOHdyXn4YbSy9GZ33Y61keufyzVz8OC3ur6w2bJ+Dga+btXxQcjGk7GVsvdf3i0m+zQHpxO2ofZjr7v61fF92F4mr3atZ8yV2ZGP7Wy9vlBY9K+z9kZNh1dHRx4zWxp0rktX9h2QK6H0wLpDp6KxiC8aHOs25fd88kJjqbR5ajbvb1ptib6h8ug+9n8uL+/ax9cH9zmecZ69+FBHxeB5nv9/EA/m+ie/XTV2x3d9Ujz9jFnlYyn88JVZ1oc1fV3T/X7oBXkaeey0czcjT4Uege+VX/f7LTOPJ3uHo6bOcfPOge7g0+T2/tJJxyftD82/Hur2bT57oVx57oHxXLjdFI/dMqFs7N2L9++022vW7yvX5b5dZt0ys16vdvOn9iFq/3PxnSgt8Gnn97t65dtrJOzhqt3npoX9h23S/UP9sVF96Q+pJdF0qrfNuotg2YCJ2SBD7ER3DVPsk/ZYc9qWNyZvvM7Jm5FHStz7rWb56W6qT98+hRgHvXuPNPEtJyznsqFj/T+oRR4YemCfW70aNj2xqftfO+ml281c0b90rre7bgsaBda0aSI7YfSIb0jvXM3uPHrnS4xz0IyunloN7zsTSsc9nqPxVzp5iaa6CBRCmIeYp+rOzKsd0Qz+wPe5tmPTRbAbLpIyQjy9DdN07ZA7MU5+zvQgv0y0mzCr6C4nUNFU1OawyKumcTyI82BMg0FXSwk8a4EtCE8fAOp8cqSEiVmViVECl4zkb4Alqw04l4E5UGQEDuaWGzwBFOOfDymNuYs1IByMGA4NLVJSDm5Jo9cXdASvT6mZbg4it7TSKhkqsrSAqeIMkT4NfUIbHqqmoj1DE8cu4zJM9QveyiXyWTkjAPFF+ZJlaQ24Uu+S1uashCOg9SzCnYMpVpBb1ELUxcKG2dIAL+RlQ3mQB/2BqjGFGxGsCmWzN1l20kxvlShacjOUDva39g2oIUiKdmxstrxkpPI2cHmyiwE66Q5OCwUcXXTlAdjTFVZJb3S1BGN+vGRD/PlKQ8Ax83/iPrBKGliimz3A/aobCSSTAaAui+RVvktjsg4zMuEK9Iy6SGZQto5x8qaeCtHTsmMh1bXZOU1tkoerm10Si0g/hOmiyFAxnGAwXF9C5wojrU0cJQ8+I0/zhnkUkI9EEqrq8+P9hOLLfN9tiOuDsbKFuhnoAx2fOpjtw8dOTz+JuNqK7ibTJ0cvSq1X94+5g6qchxRc7nCHjKl76nP87lU/HBV773nXpiPo0oNzYCfAc1mxVVpdhanJjuI+Q2Ry8c731jMVAGf2kHzI51jRXWxNzAxErNeRb6v2iSlLNJqjgZTzVfxxNne+ikW4MmEF8aH7/NfEPa3fHxHHFDze6OAmhtjID6fV2rlQu6wXM6VS7lSPl/6X3M3Nb/H2YD1H3S1zMHvdLbA3Vb8f36t3/Ibk7I1NN5ujJ9nxfseP86KsyxU2yrwNu7PDkm3PldqP88Byz/TQc11eVU+QHGBFfpJxeLLX2xe3RJC/2XpJbT9ngSTeD8rxV6bfmu22/u/fb/Jvi9ObIsfydHabxZKLfVt3lk5g/lqGs1TZ8Pw8jyNZh8mHX/9DEd56QxHqcVrUlwHuqZc1JTX/4PB79VkzWKGcBlgP4+garKKCSEToARcexiRcNojLjFg51KVtYMtZY5qhdj24i1mvkIaID8nJ8llK4F4zq7hMnDl8ZyGBrYgvtkQdVGdAcE+BVBSXh6O5NEy7LhIdQlHFJAzVfg4WphJc4lvcwfu7u6KrUzAxQ+XOcFl0yXia33aBWYz7N/o78BA4ERsFBrkhI5fNspb8S8fYh1bQ48vZ2dcN5Q76pxa/CN4wltqKpbR+dNk5ZRL3dwCy4RWbJf6ytr3b/t3Nc0=</script> <treescope-run-here><script type=\"application/octet-stream\"> const root = ( Array.from(document.getElementsByClassName( \"treescope_out_c8bea525676c4fb0b746f0c16eb1c14a\")) .filter((elt) => !elt.dataset['step1']) )[0]; root.dataset['step1'] = 1; root.defns.insertContent( this.parentNode.querySelector('script[type=\"application/octet-stream\"]'), true ); this.parentNode.remove(); </script></treescope-run-here> </div>"
      ],
      "text/plain": [
       "<IPython.core.display.HTML object>"
      ]
     },
     "metadata": {},
     "output_type": "display_data"
    },
    {
     "data": {
      "text/html": [
       "<treescope-run-here><script type=\"application/octet-stream\"> const root = ( Array.from(document.getElementsByClassName( \"treescope_out_c8bea525676c4fb0b746f0c16eb1c14a\")) .filter((elt) => !elt.dataset.stolen) )[0]; root.dataset.stolen = 1; this.parentNode.replaceChild(root, this); </script></treescope-run-here>"
      ],
      "text/plain": [
       "<jax.Array(224, dtype=int32)>"
      ]
     },
     "execution_count": 25,
     "metadata": {},
     "output_type": "execute_result"
    }
   ],
   "source": [
    "circuit_nodes = []\n",
    "n_nodes = 0\n",
    "\n",
    "for layer, masks in ablation_masks.items():\n",
    "    for mask_type, mask in masks.items():\n",
    "        if mask is not None:\n",
    "            for token_type, mask in mask.items():\n",
    "                    n_nodes += mask.sum()\n",
    "                    \n",
    "                    node_ids = np.where(mask)\n",
    "\n",
    "                    if len(node_ids) ==2:\n",
    "                        for pos, feat in zip(*node_ids):\n",
    "                            circuit_nodes.append((layer, mask_type, token_type, feat, pos))\n",
    "                    else:\n",
    "                        for feat in node_ids[0]:\n",
    "                            circuit_nodes.append((layer, mask_type, token_type, feat, None))\n",
    "                    \n",
    "\n",
    "n_nodes"
   ]
  },
  {
   "cell_type": "code",
   "execution_count": 26,
   "metadata": {},
   "outputs": [],
   "source": [
    "typed_ies = {\n",
    "    \"r\": circuitizer.ie_resid,\n",
    "    \"a\": circuitizer.ie_attn,\n",
    "    \"t\": circuitizer.ie_transcoder,\n",
    "}\n",
    "\n",
    "circuit_nodes_with_ies = []\n",
    "\n",
    "for node in circuit_nodes:\n",
    "    layer, sae_type, token_type, node_id, pos = node\n",
    "    ies = typed_ies[sae_type[0]][layer]\n",
    "\n",
    "    if average_over_positions:\n",
    "        masked_ies = circuitizer.mask_average(ies, token_type, average_over_positions=True)\n",
    "        circuit_nodes_with_ies.append((*node, masked_ies[node_id].tolist()))\n",
    "    else:\n",
    "        masked_ies = circuitizer.mask_average(ies, token_type, average_over_positions=False)\n",
    "        circuit_nodes_with_ies.append((*node, masked_ies[pos, node_id].tolist()))\n",
    "\n",
    "circuit_nodes_with_ies = sorted(circuit_nodes_with_ies, key=lambda x: x[-1], reverse=True)"
   ]
  },
  {
   "cell_type": "code",
   "execution_count": 27,
   "metadata": {},
   "outputs": [
    {
     "data": {
      "text/html": [
       "<script> (()=>{ if (customElements.get('treescope-container') === undefined) { class TreescopeContainer extends HTMLElement { constructor() { super(); this.attachShadow({mode: \"open\"}); this.defns = {}; this.state = {}; } } customElements.define(\"treescope-container\", TreescopeContainer); } if (customElements.get('treescope-run-here') === undefined) { class RunHere extends HTMLElement { constructor() { super() } connectedCallback() { const run = child => { const fn = new Function(child.textContent); child.textContent = \"\"; fn.call(this); this.remove(); }; const child = this.querySelector(\"script\"); if (child) { run(child); } else { new MutationObserver(()=>{ run(this.querySelector(\"script\")); }).observe(this, {childList: true}); } } } customElements.define(\"treescope-run-here\", RunHere); } })(); </script> <treescope-container class=\"treescope_out_9fdd0d2d3be74a5facacbdaeaa848336\" ></treescope-container> <treescope-run-here><script type=\"application/octet-stream\"> const root = ( Array.from(document.getElementsByClassName( \"treescope_out_9fdd0d2d3be74a5facacbdaeaa848336\")) .filter((elt) => !elt.dataset.setup) )[0]; root.dataset.setup = 1; const msg = document.createElement(\"span\"); msg.style = \"color: #aaaaaa; font-family: monospace; transition: opacity 0.2s; opacity: 0.0;\"; msg.textContent = \"(Loading...)\"; root.state.loadingMsg = msg; root.shadowRoot.appendChild(msg); root.state.chain = new Promise((resolve, reject) => { const observer = new IntersectionObserver((entries) => { for (const entry of entries) { if (entry.isIntersecting) { resolve(); observer.disconnect(); return; } } }, {rootMargin: \"1000px\"}); window.setTimeout(() => { if (root.loadingMsg) { root.loadingMsg.style.opacity = \"1.0\"; } observer.observe(root); }, 0); }); root.state.deferring = false; const _insertNode = (node) => { for (let oldScript of node.querySelectorAll(\"script\")) { let newScript = document.createElement(\"script\"); newScript.type = oldScript.type; newScript.textContent = oldScript.textContent; oldScript.parentNode.replaceChild(newScript, oldScript); } if (root.state.loadingMsg) { root.state.loadingMsg.remove(); root.state.loadingMsg = null; } root.shadowRoot.appendChild(node); }; root.defns.insertContent = ((contentNode, compressed) => { if (compressed) { root.state.deferring = true; } if (root.state.deferring) { root.state.chain = (async () => { await root.state.chain; if (compressed) { const encoded = contentNode.textContent; const blob = new Blob([ Uint8Array.from(atob(encoded), (m) => m.codePointAt(0)) ]); const reader = blob.stream().pipeThrough( new DecompressionStream(\"deflate\") ).pipeThrough( new TextDecoderStream(\"utf-8\") ).getReader(); const parts = []; while (true) { const step = await reader.read(); if (step.done) { break; } parts.push(step.value); } const tpl = document.createElement('template'); tpl.innerHTML = parts.join(\"\"); _insertNode(tpl.content); } else { _insertNode(contentNode.content); } })(); } else { _insertNode(contentNode.content); } }); </script></treescope-run-here><div style=\"display:none\"> <script type=\"application/octet-stream\" >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</script> <treescope-run-here><script type=\"application/octet-stream\"> const root = ( Array.from(document.getElementsByClassName( \"treescope_out_9fdd0d2d3be74a5facacbdaeaa848336\")) .filter((elt) => !elt.dataset['step0']) )[0]; root.dataset['step0'] = 1; root.defns.insertContent( this.parentNode.querySelector('script[type=\"application/octet-stream\"]'), true ); this.parentNode.remove(); </script></treescope-run-here> </div>"
      ],
      "text/plain": [
       "<IPython.core.display.HTML object>"
      ]
     },
     "metadata": {},
     "output_type": "display_data"
    },
    {
     "data": {
      "text/html": [
       "<treescope-run-here><script type=\"application/octet-stream\"> const root = ( Array.from(document.getElementsByClassName( \"treescope_out_9fdd0d2d3be74a5facacbdaeaa848336\")) .filter((elt) => !elt.dataset.stolen) )[0]; root.dataset.stolen = 1; this.parentNode.replaceChild(root, this); </script></treescope-run-here>"
      ],
      "text/plain": [
       "[(16, 'resid', 'arrow', 10501, 15, 5.9219489097595215),\n",
       " (10, 'resid', 'output', 24942, 8, 4.2387542724609375),\n",
       " (11, 'resid', 'output', 5971, 8, 4.045263290405273),\n",
       " (16, 'resid', 'arrow', 20746, 56, 4.0150885581970215),\n",
       " (10, 'resid', 'input', 16643, 19, 3.845968723297119),\n",
       " (16, 'resid', 'arrow', 18817, 60, 3.39139986038208),\n",
       " (16, 'resid', 'arrow', 9435, 20, 3.25836443901062),\n",
       " (12, 'resid', 'output', 18089, 8, 3.1803691387176514),\n",
       " (13, 'resid', 'arrow', 12773, 7, 3.0938618183135986),\n",
       " (16, 'resid', 'arrow', 19087, 24, 3.0227627754211426)]"
      ]
     },
     "execution_count": 27,
     "metadata": {},
     "output_type": "execute_result"
    }
   ],
   "source": [
    "circuit_nodes_with_ies[:10]"
   ]
  },
  {
   "cell_type": "code",
   "execution_count": 35,
   "metadata": {},
   "outputs": [],
   "source": [
    "from tqdm.auto import tqdm\n",
    "import numpy as np\n",
    "\n",
    "combined_ies = {}\n",
    "\n",
    "if average_over_positions:\n",
    "    for node in circuit_nodes_with_ies:\n",
    "        layer, type, mask, idx, pos, ie = node\n",
    "        combined_ies[(layer, mask, type[0], idx)] = ie\n",
    "\n",
    "else:\n",
    "    for node in circuit_nodes_with_ies:\n",
    "        layer, type, mask, idx, pos, ie = node\n",
    "        combined_ies[(layer, mask, type[0], idx, pos)] = ie"
   ]
  },
  {
   "cell_type": "code",
   "execution_count": 36,
   "metadata": {},
   "outputs": [],
   "source": [
    "combined_ies = [\n",
    "    key + (weight,)\n",
    "    for key, weight in combined_ies.items()\n",
    "]"
   ]
  },
  {
   "cell_type": "code",
   "execution_count": 37,
   "metadata": {},
   "outputs": [
    {
     "data": {
      "application/vnd.jupyter.widget-view+json": {
       "model_id": "56a5658e83314b219ccf69eab61f7de9",
       "version_major": 2,
       "version_minor": 0
      },
      "text/plain": [
       "  0%|          | 0/7 [00:00<?, ?it/s]"
      ]
     },
     "metadata": {},
     "output_type": "display_data"
    }
   ],
   "source": [
    "typed_ies_error = {\n",
    "    \"er\": circuitizer.ie_error_resid,\n",
    "    \"ea\": circuitizer.ie_error_attn,\n",
    "    \"et\": circuitizer.ie_error_transcoder,\n",
    "}\n",
    "\n",
    "for layer in tqdm(layers):\n",
    "    for type in typed_ies_error:\n",
    "        if layer in typed_ies_error[type]: \n",
    "            ies = typed_ies_error[type][layer]\n",
    "            for mask in circuitizer.masks:\n",
    "                ies_mask = circuitizer.mask_average(ies, mask, average_over_positions=average_over_positions)\n",
    "                # print(ies_mask.tolist())\n",
    "                # raise\n",
    "\n",
    "                if average_over_positions:\n",
    "                    combined_ies.append((layer, mask, type, 0, ies_mask.tolist()))\n",
    "\n",
    "                else:\n",
    "                    for pos, ie in enumerate(ies_mask):\n",
    "                        if ie > selected_threshold:\n",
    "                            combined_ies.append((layer, mask, type, 0, pos, ie))"
   ]
  },
  {
   "cell_type": "code",
   "execution_count": 38,
   "metadata": {},
   "outputs": [],
   "source": [
    "combined_ies = sorted(combined_ies, key=lambda x: -x[-1])"
   ]
  },
  {
   "cell_type": "code",
   "execution_count": 39,
   "metadata": {},
   "outputs": [],
   "source": [
    "\n",
    "from collections import defaultdict\n",
    "circuit_node_dict = defaultdict(list)\n",
    "\n",
    "if average_over_positions:\n",
    "    for node in combined_ies:\n",
    "        layer, mask, type, idx, weight = node\n",
    "        circuit_node_dict[(type, layer, mask)].append(idx)\n",
    "\n",
    "    circuit_node_dict = {\n",
    "        k: np.array(v) for k,v in circuit_node_dict.items()\n",
    "    }\n",
    "else:\n",
    "    for node in combined_ies:\n",
    "        layer, mask, type, idx, pos, weight = node\n",
    "        circuit_node_dict[(type, layer, mask)].append((pos, idx))\n",
    "\n",
    "    circuit_node_dict = {\n",
    "        k: np.array(v) for k,v in circuit_node_dict.items()\n",
    "    }"
   ]
  },
  {
   "cell_type": "code",
   "execution_count": 40,
   "metadata": {},
   "outputs": [
    {
     "data": {
      "text/html": [
       "<script> (()=>{ if (customElements.get('treescope-container') === undefined) { class TreescopeContainer extends HTMLElement { constructor() { super(); this.attachShadow({mode: \"open\"}); this.defns = {}; this.state = {}; } } customElements.define(\"treescope-container\", TreescopeContainer); } if (customElements.get('treescope-run-here') === undefined) { class RunHere extends HTMLElement { constructor() { super() } connectedCallback() { const run = child => { const fn = new Function(child.textContent); child.textContent = \"\"; fn.call(this); this.remove(); }; const child = this.querySelector(\"script\"); if (child) { run(child); } else { new MutationObserver(()=>{ run(this.querySelector(\"script\")); }).observe(this, {childList: true}); } } } customElements.define(\"treescope-run-here\", RunHere); } })(); </script> <treescope-container class=\"treescope_out_98ea3dac18654e629fcbe6af90fb640e\" ></treescope-container> <treescope-run-here><script type=\"application/octet-stream\"> const root = ( Array.from(document.getElementsByClassName( \"treescope_out_98ea3dac18654e629fcbe6af90fb640e\")) .filter((elt) => !elt.dataset.setup) )[0]; root.dataset.setup = 1; const msg = document.createElement(\"span\"); msg.style = \"color: #aaaaaa; font-family: monospace; transition: opacity 0.2s; opacity: 0.0;\"; msg.textContent = \"(Loading...)\"; root.state.loadingMsg = msg; root.shadowRoot.appendChild(msg); root.state.chain = new Promise((resolve, reject) => { const observer = new IntersectionObserver((entries) => { for (const entry of entries) { if (entry.isIntersecting) { resolve(); observer.disconnect(); return; } } }, {rootMargin: \"1000px\"}); window.setTimeout(() => { if (root.loadingMsg) { root.loadingMsg.style.opacity = \"1.0\"; } observer.observe(root); }, 0); }); root.state.deferring = false; const _insertNode = (node) => { for (let oldScript of node.querySelectorAll(\"script\")) { let newScript = document.createElement(\"script\"); newScript.type = oldScript.type; newScript.textContent = oldScript.textContent; oldScript.parentNode.replaceChild(newScript, oldScript); } if (root.state.loadingMsg) { root.state.loadingMsg.remove(); root.state.loadingMsg = null; } root.shadowRoot.appendChild(node); }; root.defns.insertContent = ((contentNode, compressed) => { if (compressed) { root.state.deferring = true; } if (root.state.deferring) { root.state.chain = (async () => { await root.state.chain; if (compressed) { const encoded = contentNode.textContent; const blob = new Blob([ Uint8Array.from(atob(encoded), (m) => m.codePointAt(0)) ]); const reader = blob.stream().pipeThrough( new DecompressionStream(\"deflate\") ).pipeThrough( new TextDecoderStream(\"utf-8\") ).getReader(); const parts = []; while (true) { const step = await reader.read(); if (step.done) { break; } parts.push(step.value); } const tpl = document.createElement('template'); tpl.innerHTML = parts.join(\"\"); _insertNode(tpl.content); } else { _insertNode(contentNode.content); } })(); } else { _insertNode(contentNode.content); } }); </script></treescope-run-here><div style=\"display:none\"> <script type=\"application/octet-stream\" >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</script> <treescope-run-here><script type=\"application/octet-stream\"> const root = ( Array.from(document.getElementsByClassName( \"treescope_out_98ea3dac18654e629fcbe6af90fb640e\")) .filter((elt) => !elt.dataset['step0']) )[0]; root.dataset['step0'] = 1; root.defns.insertContent( this.parentNode.querySelector('script[type=\"application/octet-stream\"]'), true ); this.parentNode.remove(); </script></treescope-run-here> </div>"
      ],
      "text/plain": [
       "<IPython.core.display.HTML object>"
      ]
     },
     "metadata": {},
     "output_type": "display_data"
    },
    {
     "data": {
      "text/html": [
       "<div style=\"display:none\"> <script type=\"application/octet-stream\" >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</script> <treescope-run-here><script type=\"application/octet-stream\"> const root = ( Array.from(document.getElementsByClassName( \"treescope_out_98ea3dac18654e629fcbe6af90fb640e\")) .filter((elt) => !elt.dataset['step1']) )[0]; root.dataset['step1'] = 1; root.defns.insertContent( this.parentNode.querySelector('script[type=\"application/octet-stream\"]'), true ); this.parentNode.remove(); </script></treescope-run-here> </div>"
      ],
      "text/plain": [
       "<IPython.core.display.HTML object>"
      ]
     },
     "metadata": {},
     "output_type": "display_data"
    },
    {
     "data": {
      "text/html": [
       "<treescope-run-here><script type=\"application/octet-stream\"> const root = ( Array.from(document.getElementsByClassName( \"treescope_out_98ea3dac18654e629fcbe6af90fb640e\")) .filter((elt) => !elt.dataset.stolen) )[0]; root.dataset.stolen = 1; this.parentNode.replaceChild(root, this); </script></treescope-run-here>"
      ],
      "text/plain": [
       "[array([[64,  0],\n",
       "        [44,  0],\n",
       "        [24,  0],\n",
       "        [60,  0],\n",
       "        [11,  0],\n",
       "        [48,  0],\n",
       "        [36,  0],\n",
       "        [56,  0],\n",
       "        [28,  0],\n",
       "        [40,  0],\n",
       "        [52,  0],\n",
       "        [ 7,  0],\n",
       "        [68,  0],\n",
       "        [20,  0],\n",
       "        [15,  0],\n",
       "        [32,  0]]),\n",
       " array([[ 8,  0],\n",
       "        [16,  0],\n",
       "        [12,  0],\n",
       "        [37,  0],\n",
       "        [45,  0],\n",
       "        [25,  0],\n",
       "        [33,  0],\n",
       "        [29,  0],\n",
       "        [57,  0],\n",
       "        [53,  0],\n",
       "        [65,  0],\n",
       "        [61,  0],\n",
       "        [21,  0]]),\n",
       " array([[44,  0],\n",
       "        [11,  0],\n",
       "        [60,  0],\n",
       "        [48,  0],\n",
       "        [36,  0],\n",
       "        [56,  0],\n",
       "        [24,  0],\n",
       "        [64,  0],\n",
       "        [32,  0],\n",
       "        [28,  0],\n",
       "        [15,  0],\n",
       "        [68,  0],\n",
       "        [52,  0],\n",
       "        [ 7,  0],\n",
       "        [20,  0],\n",
       "        [40,  0]]),\n",
       " array([[ 8,  0],\n",
       "        [16,  0],\n",
       "        [25,  0],\n",
       "        [21,  0],\n",
       "        [33,  0],\n",
       "        [29,  0],\n",
       "        [41,  0],\n",
       "        [57,  0]]),\n",
       " array([[16,  0],\n",
       "        [ 8,  0],\n",
       "        [25,  0],\n",
       "        [12,  0],\n",
       "        [33,  0],\n",
       "        [29,  0],\n",
       "        [21,  0],\n",
       "        [61,  0],\n",
       "        [49,  0],\n",
       "        [57,  0],\n",
       "        [37,  0]]),\n",
       " array([[64,  0],\n",
       "        [44,  0],\n",
       "        [36,  0],\n",
       "        [11,  0],\n",
       "        [60,  0],\n",
       "        [28,  0],\n",
       "        [48,  0],\n",
       "        [52,  0],\n",
       "        [32,  0],\n",
       "        [ 7,  0],\n",
       "        [56,  0],\n",
       "        [40,  0],\n",
       "        [24,  0],\n",
       "        [20,  0],\n",
       "        [68,  0],\n",
       "        [15,  0]]),\n",
       " array([[36,  0],\n",
       "        [56,  0],\n",
       "        [44,  0],\n",
       "        [64,  0],\n",
       "        [ 7,  0],\n",
       "        [48,  0],\n",
       "        [68,  0],\n",
       "        [32,  0],\n",
       "        [52,  0],\n",
       "        [60,  0],\n",
       "        [40,  0],\n",
       "        [28,  0],\n",
       "        [20,  0],\n",
       "        [15,  0],\n",
       "        [11,  0],\n",
       "        [24,  0]]),\n",
       " array([[64,  0],\n",
       "        [36,  0],\n",
       "        [11,  0],\n",
       "        [56,  0],\n",
       "        [48,  0],\n",
       "        [40,  0],\n",
       "        [32,  0],\n",
       "        [28,  0],\n",
       "        [24,  0],\n",
       "        [44,  0],\n",
       "        [52,  0],\n",
       "        [68,  0],\n",
       "        [ 7,  0],\n",
       "        [60,  0],\n",
       "        [20,  0],\n",
       "        [15,  0]]),\n",
       " array([[36,  0],\n",
       "        [44,  0],\n",
       "        [56,  0],\n",
       "        [32,  0],\n",
       "        [64,  0],\n",
       "        [52,  0],\n",
       "        [68,  0],\n",
       "        [15,  0],\n",
       "        [48,  0],\n",
       "        [28,  0],\n",
       "        [11,  0],\n",
       "        [ 7,  0],\n",
       "        [40,  0],\n",
       "        [60,  0],\n",
       "        [20,  0]]),\n",
       " array([[23,  0],\n",
       "        [35,  0],\n",
       "        [27,  0],\n",
       "        [43,  0],\n",
       "        [ 6,  0],\n",
       "        [19,  0],\n",
       "        [14,  0],\n",
       "        [63,  0],\n",
       "        [10,  0],\n",
       "        [59,  0],\n",
       "        [55,  0],\n",
       "        [47,  0],\n",
       "        [67,  0],\n",
       "        [31,  0],\n",
       "        [39,  0]]),\n",
       " array([[23,  0],\n",
       "        [35,  0],\n",
       "        [10,  0],\n",
       "        [43,  0],\n",
       "        [47,  0],\n",
       "        [63,  0],\n",
       "        [27,  0],\n",
       "        [59,  0],\n",
       "        [55,  0],\n",
       "        [ 6,  0],\n",
       "        [31,  0],\n",
       "        [14,  0],\n",
       "        [67,  0],\n",
       "        [51,  0],\n",
       "        [19,  0],\n",
       "        [39,  0]]),\n",
       " array([[36,  0],\n",
       "        [11,  0],\n",
       "        [68,  0],\n",
       "        [44,  0],\n",
       "        [28,  0],\n",
       "        [ 7,  0],\n",
       "        [56,  0],\n",
       "        [15,  0],\n",
       "        [52,  0],\n",
       "        [32,  0],\n",
       "        [20,  0],\n",
       "        [40,  0]]),\n",
       " array([[12,  0],\n",
       "        [33,  0],\n",
       "        [21,  0],\n",
       "        [16,  0],\n",
       "        [45,  0],\n",
       "        [49,  0]]),\n",
       " array([[23,  0],\n",
       "        [10,  0],\n",
       "        [35,  0],\n",
       "        [59,  0],\n",
       "        [27,  0],\n",
       "        [63,  0],\n",
       "        [55,  0],\n",
       "        [43,  0],\n",
       "        [67,  0],\n",
       "        [31,  0]]),\n",
       " array([[   15, 10501],\n",
       "        [   56, 20746],\n",
       "        [   60, 18817],\n",
       "        [   20,  9435],\n",
       "        [   24, 19087],\n",
       "        [    7, 30570],\n",
       "        [   32,  8409],\n",
       "        [   52,  4554],\n",
       "        [   36, 12406],\n",
       "        [   44, 19087],\n",
       "        [   11, 19087],\n",
       "        [   68, 28783],\n",
       "        [    7, 24991],\n",
       "        [   68, 19087],\n",
       "        [   44, 24991],\n",
       "        [   60, 24991],\n",
       "        [   36,  4569],\n",
       "        [   64, 24991],\n",
       "        [   64,  7584],\n",
       "        [   44, 19233],\n",
       "        [   15, 28783],\n",
       "        [   60, 16396],\n",
       "        [   15, 29506],\n",
       "        [    7, 29818],\n",
       "        [   64, 29506],\n",
       "        [   68, 12062],\n",
       "        [   11, 16396],\n",
       "        [   60, 29506],\n",
       "        [   44, 16396],\n",
       "        [   68, 25826]]),\n",
       " array([[5, 0],\n",
       "        [4, 0],\n",
       "        [3, 0]]),\n",
       " array([[ 9,  0],\n",
       "        [17,  0],\n",
       "        [42,  0],\n",
       "        [22,  0],\n",
       "        [30,  0],\n",
       "        [26,  0],\n",
       "        [13,  0],\n",
       "        [38,  0]]),\n",
       " array([[23,  0],\n",
       "        [63,  0],\n",
       "        [35,  0],\n",
       "        [43,  0],\n",
       "        [31,  0],\n",
       "        [27,  0],\n",
       "        [51,  0],\n",
       "        [10,  0],\n",
       "        [ 6,  0],\n",
       "        [67,  0],\n",
       "        [55,  0],\n",
       "        [59,  0],\n",
       "        [14,  0],\n",
       "        [47,  0]]),\n",
       " array([[24,  0],\n",
       "        [ 7,  0],\n",
       "        [11,  0],\n",
       "        [60,  0],\n",
       "        [56,  0],\n",
       "        [52,  0],\n",
       "        [20,  0],\n",
       "        [40,  0],\n",
       "        [15,  0],\n",
       "        [36,  0],\n",
       "        [48,  0]]),\n",
       " array([[15,  0],\n",
       "        [44,  0],\n",
       "        [24,  0],\n",
       "        [28,  0]]),\n",
       " array([[36,  0],\n",
       "        [56,  0],\n",
       "        [60,  0],\n",
       "        [40,  0],\n",
       "        [64,  0],\n",
       "        [24,  0],\n",
       "        [44,  0],\n",
       "        [68,  0],\n",
       "        [48,  0],\n",
       "        [28,  0],\n",
       "        [15,  0],\n",
       "        [52,  0],\n",
       "        [ 7,  0],\n",
       "        [11,  0],\n",
       "        [32,  0],\n",
       "        [20,  0]]),\n",
       " array([[12,  0],\n",
       "        [21,  0],\n",
       "        [16,  0],\n",
       "        [ 8,  0],\n",
       "        [33,  0],\n",
       "        [29,  0],\n",
       "        [57,  0]]),\n",
       " array([[    8, 24942],\n",
       "        [    8, 29472],\n",
       "        [   12, 29472],\n",
       "        [   12,  7666],\n",
       "        [   25, 31539],\n",
       "        [   12, 31539],\n",
       "        [   16,  4338],\n",
       "        [   16, 24942],\n",
       "        [   12, 25827],\n",
       "        [   12,  4338],\n",
       "        [   25, 24942],\n",
       "        [   12, 24942],\n",
       "        [    8, 16015]]),\n",
       " array([[11,  0],\n",
       "        [24,  0],\n",
       "        [60,  0],\n",
       "        [20,  0],\n",
       "        [64,  0],\n",
       "        [52,  0],\n",
       "        [28,  0],\n",
       "        [40,  0],\n",
       "        [44,  0],\n",
       "        [ 7,  0]]),\n",
       " array([[44,  0],\n",
       "        [24,  0],\n",
       "        [64,  0],\n",
       "        [60,  0],\n",
       "        [ 7,  0],\n",
       "        [11,  0],\n",
       "        [48,  0],\n",
       "        [52,  0],\n",
       "        [56,  0],\n",
       "        [15,  0]]),\n",
       " array([[63,  0],\n",
       "        [23,  0],\n",
       "        [43,  0],\n",
       "        [35,  0],\n",
       "        [10,  0],\n",
       "        [47,  0],\n",
       "        [27,  0],\n",
       "        [31,  0],\n",
       "        [51,  0],\n",
       "        [67,  0],\n",
       "        [14,  0]]),\n",
       " array([[11,  0],\n",
       "        [24,  0],\n",
       "        [56,  0],\n",
       "        [64,  0],\n",
       "        [40,  0],\n",
       "        [48,  0],\n",
       "        [68,  0],\n",
       "        [60,  0],\n",
       "        [20,  0],\n",
       "        [36,  0],\n",
       "        [44,  0],\n",
       "        [32,  0],\n",
       "        [52,  0],\n",
       "        [28,  0],\n",
       "        [ 7,  0]]),\n",
       " array([[    8,  5971],\n",
       "        [   25,  5971],\n",
       "        [   16,  5971],\n",
       "        [    8, 11050],\n",
       "        [   33,  5971],\n",
       "        [    8, 32043],\n",
       "        [   29,  5971],\n",
       "        [    8, 25273],\n",
       "        [   12,  5971],\n",
       "        [    8, 24471],\n",
       "        [    8,  5441],\n",
       "        [    8, 30020],\n",
       "        [    8, 24366]]),\n",
       " array([[5, 0],\n",
       "        [4, 0]]),\n",
       " array([[   19, 16643],\n",
       "        [   51, 30270],\n",
       "        [    6,   871],\n",
       "        [    6, 18754],\n",
       "        [   47, 16021],\n",
       "        [   10, 28488],\n",
       "        [   27, 10370]]),\n",
       " array([[44,  0],\n",
       "        [68,  0],\n",
       "        [40,  0],\n",
       "        [36,  0],\n",
       "        [48,  0],\n",
       "        [ 7,  0],\n",
       "        [64,  0],\n",
       "        [52,  0]]),\n",
       " array([[ 7,  0],\n",
       "        [48,  0],\n",
       "        [56,  0],\n",
       "        [24,  0],\n",
       "        [40,  0],\n",
       "        [44,  0],\n",
       "        [15,  0],\n",
       "        [11,  0],\n",
       "        [32,  0]]),\n",
       " array([[8, 0]]),\n",
       " array([[    8, 18089],\n",
       "        [    8, 23827],\n",
       "        [    8, 15073],\n",
       "        [    8, 27536],\n",
       "        [    8, 18218],\n",
       "        [    8, 24158],\n",
       "        [    8, 12535]]),\n",
       " array([[ 8,  0],\n",
       "        [21,  0]]),\n",
       " array([[    7, 12773],\n",
       "        [    7,  9113],\n",
       "        [   32, 27159],\n",
       "        [   68,  9113],\n",
       "        [   32, 22840],\n",
       "        [   56, 22840],\n",
       "        [   15,  1069],\n",
       "        [   64, 22840],\n",
       "        [   64, 28717],\n",
       "        [   60, 22840],\n",
       "        [   28, 22840],\n",
       "        [   68,  4329],\n",
       "        [   36, 20642],\n",
       "        [   11, 26987],\n",
       "        [   44, 22840],\n",
       "        [   56, 20879],\n",
       "        [   11, 12773],\n",
       "        [   24, 22840]]),\n",
       " array([[25,  0],\n",
       "        [37,  0],\n",
       "        [12,  0],\n",
       "        [21,  0],\n",
       "        [45,  0]]),\n",
       " array([[5, 0]]),\n",
       " array([[ 8,  0],\n",
       "        [12,  0],\n",
       "        [25,  0]]),\n",
       " array([[   11, 14531],\n",
       "        [   32, 30216],\n",
       "        [    7, 18682],\n",
       "        [   44, 14531],\n",
       "        [   24, 14531],\n",
       "        [   64, 13081],\n",
       "        [   36,  8371],\n",
       "        [   68, 14531],\n",
       "        [   68,  7118],\n",
       "        [   40, 14504],\n",
       "        [   20, 14531],\n",
       "        [   44,  5988],\n",
       "        [   24, 25218],\n",
       "        [   20,  6663],\n",
       "        [   15,  7118],\n",
       "        [   36, 25945],\n",
       "        [   20, 11917],\n",
       "        [   60,  6663],\n",
       "        [   11, 14354],\n",
       "        [   48, 13830],\n",
       "        [   56, 14531],\n",
       "        [   64,  6663],\n",
       "        [   36, 14531],\n",
       "        [   68, 18249],\n",
       "        [    7, 18249],\n",
       "        [   36, 13830],\n",
       "        [   56, 16087],\n",
       "        [   36, 28251],\n",
       "        [   36, 15967],\n",
       "        [   15, 21478]]),\n",
       " array([[23,  0],\n",
       "        [55,  0],\n",
       "        [35,  0],\n",
       "        [10,  0],\n",
       "        [63,  0],\n",
       "        [ 6,  0],\n",
       "        [43,  0]]),\n",
       " array([[43,  0],\n",
       "        [ 6,  0],\n",
       "        [35,  0],\n",
       "        [63,  0],\n",
       "        [14,  0],\n",
       "        [27,  0],\n",
       "        [10,  0],\n",
       "        [23,  0]]),\n",
       " array([[ 9,  0],\n",
       "        [22,  0],\n",
       "        [42,  0],\n",
       "        [17,  0],\n",
       "        [26,  0],\n",
       "        [13,  0]]),\n",
       " array([[   51, 21796],\n",
       "        [   19, 14763],\n",
       "        [    6,  1180],\n",
       "        [   10, 16172],\n",
       "        [   19, 16172]]),\n",
       " array([[   64, 10111],\n",
       "        [   56,  1316],\n",
       "        [    7, 10372],\n",
       "        [   44, 14161],\n",
       "        [    7,  8231],\n",
       "        [   68, 31950],\n",
       "        [   32, 10111],\n",
       "        [   44, 31950],\n",
       "        [   28, 31950],\n",
       "        [   36, 10111],\n",
       "        [   64,  8231],\n",
       "        [   11, 31950],\n",
       "        [   11, 29566],\n",
       "        [   36, 28220],\n",
       "        [   68, 29825],\n",
       "        [   28, 29232],\n",
       "        [   32, 18302],\n",
       "        [   15, 10111],\n",
       "        [   36, 29830],\n",
       "        [   40, 31950],\n",
       "        [   36, 29232],\n",
       "        [   36, 31950],\n",
       "        [   36, 16783],\n",
       "        [   52,  7157],\n",
       "        [    7, 29566],\n",
       "        [   15, 29566],\n",
       "        [   68, 29084],\n",
       "        [   28, 12622],\n",
       "        [   56, 31950],\n",
       "        [   44, 29566],\n",
       "        [   48, 29232],\n",
       "        [   32, 20565]]),\n",
       " array([[   55, 17106]]),\n",
       " array([[   64, 28800],\n",
       "        [    7, 16172],\n",
       "        [   36, 28800],\n",
       "        [    7,  6685],\n",
       "        [   11, 16172],\n",
       "        [   68, 28800],\n",
       "        [   32, 19051],\n",
       "        [   11, 31442],\n",
       "        [    7, 25273]]),\n",
       " array([[ 9,  0],\n",
       "        [22,  0]]),\n",
       " array([[    7, 25878],\n",
       "        [   11, 14612],\n",
       "        [   36, 18840],\n",
       "        [   56, 11618],\n",
       "        [   60, 16490],\n",
       "        [   68, 22136],\n",
       "        [   32, 11618],\n",
       "        [   28, 11618],\n",
       "        [   15, 22136],\n",
       "        [   52, 16490],\n",
       "        [   68, 18840],\n",
       "        [   60, 11618],\n",
       "        [   64, 16490],\n",
       "        [   20, 22136],\n",
       "        [   64, 18840],\n",
       "        [   32, 18840],\n",
       "        [   44,  2859],\n",
       "        [   64, 11618],\n",
       "        [    7, 14612],\n",
       "        [   11, 11618]]),\n",
       " array([[43,  0],\n",
       "        [ 6,  0],\n",
       "        [14,  0],\n",
       "        [10,  0],\n",
       "        [55,  0],\n",
       "        [63,  0],\n",
       "        [59,  0],\n",
       "        [51,  0],\n",
       "        [35,  0]])]"
      ]
     },
     "execution_count": 40,
     "metadata": {},
     "output_type": "execute_result"
    }
   ],
   "source": [
    "list(circuit_node_dict.values())[:50]"
   ]
  },
  {
   "cell_type": "code",
   "execution_count": 45,
   "metadata": {},
   "outputs": [],
   "source": [
    "import jax.numpy as jnp\n",
    "from tqdm.auto import trange\n",
    "\n",
    "if average_over_positions:\n",
    "    important_feats_masks = {}\n",
    "    for mask in circuitizer.masks:\n",
    "        important_feats_masks[mask] = [\n",
    "            (type, layer, feat) for layer, f_mask, type, feat, _ in combined_ies if f_mask == mask\n",
    "            ]\n",
    "\n",
    "\n",
    "    flat_feats = defaultdict(list)\n",
    "    for k, v in important_feats_masks.items():\n",
    "        for type, layer, feat in v:\n",
    "            flat_feats[(k, type, layer)].append(feat)\n",
    "\n",
    "\n",
    "    graph = []\n",
    "\n",
    "    batch_size = 16\n",
    "    # k = 32\n",
    "    for type, features in tqdm(sorted(flat_feats.items(), key=lambda x: (-x[0][-1], x[0][-2], x[0][-3]))):\n",
    "        mask, feature_type, layer = type\n",
    "        mask = jnp.array(list(circuitizer.masks.keys()).index(mask))\n",
    "        for batch in trange(0, len(features), batch_size, postfix=str(type)):\n",
    "            batch_features = features[batch:batch+batch_size]\n",
    "            orig_length = len(batch_features)\n",
    "            batch_features = batch_features + [0] * (batch_size - len(batch_features))\n",
    "            feature_effectss = jax.vmap(lambda x: circuitizer.compute_feature_effects(feature_type, layer, x, mask, layer_window=1, position=None))(jnp.asarray(batch_features))\n",
    "            # feature_effectss = circuitizer.compute_feature_effects(feature_type, layer, batch_features, mask, layer_window=1)\n",
    "            top_effects = defaultdict(list)\n",
    "            for key, featuress in feature_effectss.items():\n",
    "                for elem, feature_effects in enumerate(featuress):\n",
    "                    if elem >= orig_length:\n",
    "                        continue\n",
    "                    if feature_effects.ndim == 0:\n",
    "                        top_effects[elem].append((float(feature_effects), key, 0))\n",
    "                        continue\n",
    "\n",
    "                    nodes_to_keep = circuit_node_dict.get(key, np.empty(0, dtype=np.int32))\n",
    "                    effects = feature_effects[nodes_to_keep]\n",
    "                    for idx, effect in zip(nodes_to_keep, effects):\n",
    "                        top_effects[elem].append((float(effect), key, int(idx)))\n",
    "            for elem, effects in top_effects.items():\n",
    "                effects.sort(reverse=True)\n",
    "                edges = effects\n",
    "                graph.extend([(weight,  key + (upstream_feature,), (type[1], type[2], type[0], batch_features[elem],) ) for weight, key, upstream_feature in edges])\n",
    "            \n",
    "\n",
    "\n",
    "    combined_ies = [\n",
    "        (type, layer, mask, idx, weight) for layer, mask, type, idx, weight in combined_ies\n",
    "    ] \n",
    "\n",
    "\n",
    "    sorted_graph = sorted(graph, reverse=True, key=lambda x: x[0])\n",
    "\n",
    "    n_nodes = sum(map(len, important_feats_masks.values()))\n",
    "    k_connections = 4\n",
    "    weight_threshold = sorted_graph[n_nodes * k_connections][0]"
   ]
  },
  {
   "cell_type": "code",
   "execution_count": 59,
   "metadata": {},
   "outputs": [
    {
     "data": {
      "application/vnd.jupyter.widget-view+json": {
       "model_id": "e4e8a5b81b1642fd8de10d1521418a43",
       "version_major": 2,
       "version_minor": 0
      },
      "text/plain": [
       "  0%|          | 0/86 [00:00<?, ?it/s]"
      ]
     },
     "metadata": {},
     "output_type": "display_data"
    },
    {
     "data": {
      "application/vnd.jupyter.widget-view+json": {
       "model_id": "581b6b0f9aab41d5a2fe489c13180512",
       "version_major": 2,
       "version_minor": 0
      },
      "text/plain": [
       "  0%|          | 0/1 [00:00<?, ?it/s, ('arrow', 'er', 16)]"
      ]
     },
     "metadata": {},
     "output_type": "display_data"
    },
    {
     "data": {
      "application/vnd.jupyter.widget-view+json": {
       "model_id": "0e4bd271fa9f464f959445e8635f56d8",
       "version_major": 2,
       "version_minor": 0
      },
      "text/plain": [
       "  0%|          | 0/1 [00:00<?, ?it/s, ('input', 'er', 16)]"
      ]
     },
     "metadata": {},
     "output_type": "display_data"
    },
    {
     "data": {
      "application/vnd.jupyter.widget-view+json": {
       "model_id": "adde6d745f4f4de69c1cbd0d259d1aee",
       "version_major": 2,
       "version_minor": 0
      },
      "text/plain": [
       "  0%|          | 0/1 [00:00<?, ?it/s, ('newline', 'er', 16)]"
      ]
     },
     "metadata": {},
     "output_type": "display_data"
    },
    {
     "data": {
      "application/vnd.jupyter.widget-view+json": {
       "model_id": "51fba168203c489e9c2158003736b56e",
       "version_major": 2,
       "version_minor": 0
      },
      "text/plain": [
       "  0%|          | 0/1 [00:00<?, ?it/s, ('output', 'er', 16)]"
      ]
     },
     "metadata": {},
     "output_type": "display_data"
    },
    {
     "data": {
      "application/vnd.jupyter.widget-view+json": {
       "model_id": "bc48f4e209084f92a5fa9b5529e1a5ed",
       "version_major": 2,
       "version_minor": 0
      },
      "text/plain": [
       "  0%|          | 0/1 [00:00<?, ?it/s, ('prompt', 'er', 16)]"
      ]
     },
     "metadata": {},
     "output_type": "display_data"
    },
    {
     "data": {
      "application/vnd.jupyter.widget-view+json": {
       "model_id": "46ac83cc6b4047838da441878e5c61d5",
       "version_major": 2,
       "version_minor": 0
      },
      "text/plain": [
       "  0%|          | 0/2 [00:00<?, ?it/s, ('arrow', 'r', 16)]"
      ]
     },
     "metadata": {},
     "output_type": "display_data"
    },
    {
     "data": {
      "application/vnd.jupyter.widget-view+json": {
       "model_id": "0b17053988534000974c5bf564a5207d",
       "version_major": 2,
       "version_minor": 0
      },
      "text/plain": [
       "  0%|          | 0/1 [00:00<?, ?it/s, ('input', 'r', 16)]"
      ]
     },
     "metadata": {},
     "output_type": "display_data"
    },
    {
     "data": {
      "application/vnd.jupyter.widget-view+json": {
       "model_id": "9fff3c04540e4c4db4decf359f6e92a0",
       "version_major": 2,
       "version_minor": 0
      },
      "text/plain": [
       "  0%|          | 0/1 [00:00<?, ?it/s, ('arrow', 'a', 15)]"
      ]
     },
     "metadata": {},
     "output_type": "display_data"
    },
    {
     "data": {
      "application/vnd.jupyter.widget-view+json": {
       "model_id": "381f532f84b348b19b54e1f0bde9ce7c",
       "version_major": 2,
       "version_minor": 0
      },
      "text/plain": [
       "  0%|          | 0/1 [00:00<?, ?it/s, ('arrow', 'ea', 15)]"
      ]
     },
     "metadata": {},
     "output_type": "display_data"
    },
    {
     "data": {
      "application/vnd.jupyter.widget-view+json": {
       "model_id": "4efa03a63c31438ba9e92ea5d4a520db",
       "version_major": 2,
       "version_minor": 0
      },
      "text/plain": [
       "  0%|          | 0/1 [00:00<?, ?it/s, ('arrow', 'er', 15)]"
      ]
     },
     "metadata": {},
     "output_type": "display_data"
    },
    {
     "data": {
      "application/vnd.jupyter.widget-view+json": {
       "model_id": "1916dcabea1346dfaa3411d559b3c7ed",
       "version_major": 2,
       "version_minor": 0
      },
      "text/plain": [
       "  0%|          | 0/1 [00:00<?, ?it/s, ('input', 'er', 15)]"
      ]
     },
     "metadata": {},
     "output_type": "display_data"
    },
    {
     "data": {
      "application/vnd.jupyter.widget-view+json": {
       "model_id": "27a6d259e09449bbb8539f84076683dc",
       "version_major": 2,
       "version_minor": 0
      },
      "text/plain": [
       "  0%|          | 0/1 [00:00<?, ?it/s, ('output', 'er', 15)]"
      ]
     },
     "metadata": {},
     "output_type": "display_data"
    },
    {
     "data": {
      "application/vnd.jupyter.widget-view+json": {
       "model_id": "2de559802247473fb9d74ee3f8cf3607",
       "version_major": 2,
       "version_minor": 0
      },
      "text/plain": [
       "  0%|          | 0/1 [00:00<?, ?it/s, ('arrow', 'et', 15)]"
      ]
     },
     "metadata": {},
     "output_type": "display_data"
    },
    {
     "data": {
      "application/vnd.jupyter.widget-view+json": {
       "model_id": "7816528e710940729076b47657caabad",
       "version_major": 2,
       "version_minor": 0
      },
      "text/plain": [
       "  0%|          | 0/2 [00:00<?, ?it/s, ('arrow', 'r', 15)]"
      ]
     },
     "metadata": {},
     "output_type": "display_data"
    },
    {
     "data": {
      "application/vnd.jupyter.widget-view+json": {
       "model_id": "f4f86f3c366d4d66a1e31b2a23b77788",
       "version_major": 2,
       "version_minor": 0
      },
      "text/plain": [
       "  0%|          | 0/1 [00:00<?, ?it/s, ('input', 'r', 15)]"
      ]
     },
     "metadata": {},
     "output_type": "display_data"
    },
    {
     "data": {
      "application/vnd.jupyter.widget-view+json": {
       "model_id": "2c48e300c0cc4420bd5f880f88a3ff30",
       "version_major": 2,
       "version_minor": 0
      },
      "text/plain": [
       "  0%|          | 0/1 [00:00<?, ?it/s, ('arrow', 't', 15)]"
      ]
     },
     "metadata": {},
     "output_type": "display_data"
    },
    {
     "data": {
      "application/vnd.jupyter.widget-view+json": {
       "model_id": "86fdab3556184dbebd4c3161bd9ed32d",
       "version_major": 2,
       "version_minor": 0
      },
      "text/plain": [
       "  0%|          | 0/1 [00:00<?, ?it/s, ('arrow', 'a', 14)]"
      ]
     },
     "metadata": {},
     "output_type": "display_data"
    },
    {
     "data": {
      "application/vnd.jupyter.widget-view+json": {
       "model_id": "caf9d8e4552e4ad596d05030edc9b591",
       "version_major": 2,
       "version_minor": 0
      },
      "text/plain": [
       "  0%|          | 0/1 [00:00<?, ?it/s, ('arrow', 'ea', 14)]"
      ]
     },
     "metadata": {},
     "output_type": "display_data"
    },
    {
     "data": {
      "application/vnd.jupyter.widget-view+json": {
       "model_id": "241cfffd41c343efb36088e01b368db2",
       "version_major": 2,
       "version_minor": 0
      },
      "text/plain": [
       "  0%|          | 0/1 [00:00<?, ?it/s, ('arrow', 'er', 14)]"
      ]
     },
     "metadata": {},
     "output_type": "display_data"
    },
    {
     "data": {
      "application/vnd.jupyter.widget-view+json": {
       "model_id": "2cd1d6a1ac17470b960441dcac1281ab",
       "version_major": 2,
       "version_minor": 0
      },
      "text/plain": [
       "  0%|          | 0/1 [00:00<?, ?it/s, ('input', 'er', 14)]"
      ]
     },
     "metadata": {},
     "output_type": "display_data"
    },
    {
     "data": {
      "application/vnd.jupyter.widget-view+json": {
       "model_id": "3386851660db45278a37e924233a6020",
       "version_major": 2,
       "version_minor": 0
      },
      "text/plain": [
       "  0%|          | 0/1 [00:00<?, ?it/s, ('newline', 'er', 14)]"
      ]
     },
     "metadata": {},
     "output_type": "display_data"
    },
    {
     "data": {
      "application/vnd.jupyter.widget-view+json": {
       "model_id": "9354a3b8cea04075ba073de88ba20598",
       "version_major": 2,
       "version_minor": 0
      },
      "text/plain": [
       "  0%|          | 0/1 [00:00<?, ?it/s, ('output', 'er', 14)]"
      ]
     },
     "metadata": {},
     "output_type": "display_data"
    },
    {
     "data": {
      "application/vnd.jupyter.widget-view+json": {
       "model_id": "11cf62a292fb4696ac3bcdf8e4ebe2a0",
       "version_major": 2,
       "version_minor": 0
      },
      "text/plain": [
       "  0%|          | 0/1 [00:00<?, ?it/s, ('arrow', 'et', 14)]"
      ]
     },
     "metadata": {},
     "output_type": "display_data"
    },
    {
     "data": {
      "application/vnd.jupyter.widget-view+json": {
       "model_id": "aca5fc85ae194f4685260e161d9d1ff7",
       "version_major": 2,
       "version_minor": 0
      },
      "text/plain": [
       "  0%|          | 0/2 [00:00<?, ?it/s, ('arrow', 'r', 14)]"
      ]
     },
     "metadata": {},
     "output_type": "display_data"
    },
    {
     "data": {
      "application/vnd.jupyter.widget-view+json": {
       "model_id": "d088d754faaf431dbbaa68ae944dc51d",
       "version_major": 2,
       "version_minor": 0
      },
      "text/plain": [
       "  0%|          | 0/1 [00:00<?, ?it/s, ('input', 'r', 14)]"
      ]
     },
     "metadata": {},
     "output_type": "display_data"
    },
    {
     "data": {
      "application/vnd.jupyter.widget-view+json": {
       "model_id": "523c409ac2334e27b534ab0d5de14a11",
       "version_major": 2,
       "version_minor": 0
      },
      "text/plain": [
       "  0%|          | 0/1 [00:00<?, ?it/s, ('arrow', 't', 14)]"
      ]
     },
     "metadata": {},
     "output_type": "display_data"
    },
    {
     "data": {
      "application/vnd.jupyter.widget-view+json": {
       "model_id": "8be75aac9ed348478c6d9cd4bf2e9296",
       "version_major": 2,
       "version_minor": 0
      },
      "text/plain": [
       "  0%|          | 0/1 [00:00<?, ?it/s, ('arrow', 'ea', 13)]"
      ]
     },
     "metadata": {},
     "output_type": "display_data"
    },
    {
     "data": {
      "application/vnd.jupyter.widget-view+json": {
       "model_id": "27d52db1a5bc467bb23f60c3605307a6",
       "version_major": 2,
       "version_minor": 0
      },
      "text/plain": [
       "  0%|          | 0/1 [00:00<?, ?it/s, ('arrow', 'er', 13)]"
      ]
     },
     "metadata": {},
     "output_type": "display_data"
    },
    {
     "data": {
      "application/vnd.jupyter.widget-view+json": {
       "model_id": "312b2f4d52f1449498bf6cd696b2badf",
       "version_major": 2,
       "version_minor": 0
      },
      "text/plain": [
       "  0%|          | 0/1 [00:00<?, ?it/s, ('input', 'er', 13)]"
      ]
     },
     "metadata": {},
     "output_type": "display_data"
    },
    {
     "data": {
      "application/vnd.jupyter.widget-view+json": {
       "model_id": "4ba401d41ddd4d88b19a5f9b272a27ec",
       "version_major": 2,
       "version_minor": 0
      },
      "text/plain": [
       "  0%|          | 0/1 [00:00<?, ?it/s, ('newline', 'er', 13)]"
      ]
     },
     "metadata": {},
     "output_type": "display_data"
    },
    {
     "data": {
      "application/vnd.jupyter.widget-view+json": {
       "model_id": "2959e67486ba4fa58cc5120e73470e41",
       "version_major": 2,
       "version_minor": 0
      },
      "text/plain": [
       "  0%|          | 0/1 [00:00<?, ?it/s, ('output', 'er', 13)]"
      ]
     },
     "metadata": {},
     "output_type": "display_data"
    },
    {
     "data": {
      "application/vnd.jupyter.widget-view+json": {
       "model_id": "773fab39032d44a195b3ff27ba7bb7cc",
       "version_major": 2,
       "version_minor": 0
      },
      "text/plain": [
       "  0%|          | 0/1 [00:00<?, ?it/s, ('prompt', 'er', 13)]"
      ]
     },
     "metadata": {},
     "output_type": "display_data"
    },
    {
     "data": {
      "application/vnd.jupyter.widget-view+json": {
       "model_id": "9b6024cce48e4d678e3a528faf3126e1",
       "version_major": 2,
       "version_minor": 0
      },
      "text/plain": [
       "  0%|          | 0/1 [00:00<?, ?it/s, ('arrow', 'et', 13)]"
      ]
     },
     "metadata": {},
     "output_type": "display_data"
    },
    {
     "data": {
      "application/vnd.jupyter.widget-view+json": {
       "model_id": "c801e141293c432683c376fddce88651",
       "version_major": 2,
       "version_minor": 0
      },
      "text/plain": [
       "  0%|          | 0/1 [00:00<?, ?it/s, ('input', 'et', 13)]"
      ]
     },
     "metadata": {},
     "output_type": "display_data"
    },
    {
     "data": {
      "application/vnd.jupyter.widget-view+json": {
       "model_id": "b3c719ce5c464566899d5250559614c1",
       "version_major": 2,
       "version_minor": 0
      },
      "text/plain": [
       "  0%|          | 0/1 [00:00<?, ?it/s, ('newline', 'et', 13)]"
      ]
     },
     "metadata": {},
     "output_type": "display_data"
    },
    {
     "data": {
      "application/vnd.jupyter.widget-view+json": {
       "model_id": "5ee3162d7b6d478e9cb6c6f7afbe017e",
       "version_major": 2,
       "version_minor": 0
      },
      "text/plain": [
       "  0%|          | 0/2 [00:00<?, ?it/s, ('arrow', 'r', 13)]"
      ]
     },
     "metadata": {},
     "output_type": "display_data"
    },
    {
     "data": {
      "application/vnd.jupyter.widget-view+json": {
       "model_id": "d3cd88ac9b93453fbeea6ca8d63f9ab1",
       "version_major": 2,
       "version_minor": 0
      },
      "text/plain": [
       "  0%|          | 0/1 [00:00<?, ?it/s, ('input', 'r', 13)]"
      ]
     },
     "metadata": {},
     "output_type": "display_data"
    },
    {
     "data": {
      "application/vnd.jupyter.widget-view+json": {
       "model_id": "9cbd640158204c79a55c93f2858503d1",
       "version_major": 2,
       "version_minor": 0
      },
      "text/plain": [
       "  0%|          | 0/1 [00:00<?, ?it/s, ('arrow', 't', 13)]"
      ]
     },
     "metadata": {},
     "output_type": "display_data"
    },
    {
     "data": {
      "application/vnd.jupyter.widget-view+json": {
       "model_id": "73e810a355cc49d6812c288b4fe9f6c9",
       "version_major": 2,
       "version_minor": 0
      },
      "text/plain": [
       "  0%|          | 0/1 [00:00<?, ?it/s, ('arrow', 'a', 12)]"
      ]
     },
     "metadata": {},
     "output_type": "display_data"
    },
    {
     "data": {
      "application/vnd.jupyter.widget-view+json": {
       "model_id": "2ba44abea2c44ef5be2e3591cfc57027",
       "version_major": 2,
       "version_minor": 0
      },
      "text/plain": [
       "  0%|          | 0/1 [00:00<?, ?it/s, ('arrow', 'ea', 12)]"
      ]
     },
     "metadata": {},
     "output_type": "display_data"
    },
    {
     "data": {
      "application/vnd.jupyter.widget-view+json": {
       "model_id": "5f7c2a4f29914dcf9c69f027e20a80c5",
       "version_major": 2,
       "version_minor": 0
      },
      "text/plain": [
       "  0%|          | 0/1 [00:00<?, ?it/s, ('arrow', 'er', 12)]"
      ]
     },
     "metadata": {},
     "output_type": "display_data"
    },
    {
     "data": {
      "application/vnd.jupyter.widget-view+json": {
       "model_id": "b7c368fb6345491192d2e2629045e11c",
       "version_major": 2,
       "version_minor": 0
      },
      "text/plain": [
       "  0%|          | 0/1 [00:00<?, ?it/s, ('input', 'er', 12)]"
      ]
     },
     "metadata": {},
     "output_type": "display_data"
    },
    {
     "data": {
      "application/vnd.jupyter.widget-view+json": {
       "model_id": "d1d668d1c69a494c917382639dd09ffd",
       "version_major": 2,
       "version_minor": 0
      },
      "text/plain": [
       "  0%|          | 0/1 [00:00<?, ?it/s, ('newline', 'er', 12)]"
      ]
     },
     "metadata": {},
     "output_type": "display_data"
    },
    {
     "data": {
      "application/vnd.jupyter.widget-view+json": {
       "model_id": "9cc31252879845d7aaccd233615f2651",
       "version_major": 2,
       "version_minor": 0
      },
      "text/plain": [
       "  0%|          | 0/1 [00:00<?, ?it/s, ('output', 'er', 12)]"
      ]
     },
     "metadata": {},
     "output_type": "display_data"
    },
    {
     "data": {
      "application/vnd.jupyter.widget-view+json": {
       "model_id": "b9c0af6435ee4c1da52fa6e83d9558f0",
       "version_major": 2,
       "version_minor": 0
      },
      "text/plain": [
       "  0%|          | 0/1 [00:00<?, ?it/s, ('prompt', 'er', 12)]"
      ]
     },
     "metadata": {},
     "output_type": "display_data"
    },
    {
     "data": {
      "application/vnd.jupyter.widget-view+json": {
       "model_id": "e8e5ed871e4b42b6a53ad2cd6c694b58",
       "version_major": 2,
       "version_minor": 0
      },
      "text/plain": [
       "  0%|          | 0/1 [00:00<?, ?it/s, ('arrow', 'et', 12)]"
      ]
     },
     "metadata": {},
     "output_type": "display_data"
    },
    {
     "data": {
      "application/vnd.jupyter.widget-view+json": {
       "model_id": "c71a06462af74aa4a3b3cb55b11a74e9",
       "version_major": 2,
       "version_minor": 0
      },
      "text/plain": [
       "  0%|          | 0/2 [00:00<?, ?it/s, ('arrow', 'r', 12)]"
      ]
     },
     "metadata": {},
     "output_type": "display_data"
    },
    {
     "data": {
      "application/vnd.jupyter.widget-view+json": {
       "model_id": "01881219d83149b08887a07ffb9366d1",
       "version_major": 2,
       "version_minor": 0
      },
      "text/plain": [
       "  0%|          | 0/1 [00:00<?, ?it/s, ('input', 'r', 12)]"
      ]
     },
     "metadata": {},
     "output_type": "display_data"
    },
    {
     "data": {
      "application/vnd.jupyter.widget-view+json": {
       "model_id": "3ea052be0a174d9c9f98ef1216119438",
       "version_major": 2,
       "version_minor": 0
      },
      "text/plain": [
       "  0%|          | 0/1 [00:00<?, ?it/s, ('output', 'r', 12)]"
      ]
     },
     "metadata": {},
     "output_type": "display_data"
    },
    {
     "data": {
      "application/vnd.jupyter.widget-view+json": {
       "model_id": "5c007e742e4440b4aad03fef8a148ee7",
       "version_major": 2,
       "version_minor": 0
      },
      "text/plain": [
       "  0%|          | 0/1 [00:00<?, ?it/s, ('arrow', 't', 12)]"
      ]
     },
     "metadata": {},
     "output_type": "display_data"
    },
    {
     "data": {
      "application/vnd.jupyter.widget-view+json": {
       "model_id": "a31f4e41386a4700bae35987b8651a24",
       "version_major": 2,
       "version_minor": 0
      },
      "text/plain": [
       "  0%|          | 0/1 [00:00<?, ?it/s, ('arrow', 'a', 11)]"
      ]
     },
     "metadata": {},
     "output_type": "display_data"
    },
    {
     "data": {
      "application/vnd.jupyter.widget-view+json": {
       "model_id": "eba7cdaacd5447018b4667c5bbf61760",
       "version_major": 2,
       "version_minor": 0
      },
      "text/plain": [
       "  0%|          | 0/1 [00:00<?, ?it/s, ('arrow', 'ea', 11)]"
      ]
     },
     "metadata": {},
     "output_type": "display_data"
    },
    {
     "data": {
      "application/vnd.jupyter.widget-view+json": {
       "model_id": "d8f524ffd459448d9a38437b44fc8c45",
       "version_major": 2,
       "version_minor": 0
      },
      "text/plain": [
       "  0%|          | 0/1 [00:00<?, ?it/s, ('input', 'ea', 11)]"
      ]
     },
     "metadata": {},
     "output_type": "display_data"
    },
    {
     "data": {
      "application/vnd.jupyter.widget-view+json": {
       "model_id": "e94d742a22864ea48b4426e5bd16ec7b",
       "version_major": 2,
       "version_minor": 0
      },
      "text/plain": [
       "  0%|          | 0/1 [00:00<?, ?it/s, ('output', 'ea', 11)]"
      ]
     },
     "metadata": {},
     "output_type": "display_data"
    },
    {
     "data": {
      "application/vnd.jupyter.widget-view+json": {
       "model_id": "2f94223d29bd415891552f28199dce28",
       "version_major": 2,
       "version_minor": 0
      },
      "text/plain": [
       "  0%|          | 0/1 [00:00<?, ?it/s, ('arrow', 'er', 11)]"
      ]
     },
     "metadata": {},
     "output_type": "display_data"
    },
    {
     "data": {
      "application/vnd.jupyter.widget-view+json": {
       "model_id": "96ed1b8e4e494a4297c6fce729672c63",
       "version_major": 2,
       "version_minor": 0
      },
      "text/plain": [
       "  0%|          | 0/1 [00:00<?, ?it/s, ('input', 'er', 11)]"
      ]
     },
     "metadata": {},
     "output_type": "display_data"
    },
    {
     "data": {
      "application/vnd.jupyter.widget-view+json": {
       "model_id": "414739f9b4ef415c83d940802952c495",
       "version_major": 2,
       "version_minor": 0
      },
      "text/plain": [
       "  0%|          | 0/1 [00:00<?, ?it/s, ('newline', 'er', 11)]"
      ]
     },
     "metadata": {},
     "output_type": "display_data"
    },
    {
     "data": {
      "application/vnd.jupyter.widget-view+json": {
       "model_id": "57f9c79d75ed4fddbc1cd2d5db3ac496",
       "version_major": 2,
       "version_minor": 0
      },
      "text/plain": [
       "  0%|          | 0/1 [00:00<?, ?it/s, ('output', 'er', 11)]"
      ]
     },
     "metadata": {},
     "output_type": "display_data"
    },
    {
     "data": {
      "application/vnd.jupyter.widget-view+json": {
       "model_id": "d5a62d3323e54aa4976c4ef1c2966336",
       "version_major": 2,
       "version_minor": 0
      },
      "text/plain": [
       "  0%|          | 0/1 [00:00<?, ?it/s, ('prompt', 'er', 11)]"
      ]
     },
     "metadata": {},
     "output_type": "display_data"
    },
    {
     "data": {
      "application/vnd.jupyter.widget-view+json": {
       "model_id": "f3a11be8e16242f1a8501aec18f83efa",
       "version_major": 2,
       "version_minor": 0
      },
      "text/plain": [
       "  0%|          | 0/1 [00:00<?, ?it/s, ('arrow', 'et', 11)]"
      ]
     },
     "metadata": {},
     "output_type": "display_data"
    },
    {
     "data": {
      "application/vnd.jupyter.widget-view+json": {
       "model_id": "21b95e2ec36e4964b2f3a8c5a8ee543b",
       "version_major": 2,
       "version_minor": 0
      },
      "text/plain": [
       "  0%|          | 0/1 [00:00<?, ?it/s, ('input', 'et', 11)]"
      ]
     },
     "metadata": {},
     "output_type": "display_data"
    },
    {
     "data": {
      "application/vnd.jupyter.widget-view+json": {
       "model_id": "dff680a223aa491292b7c117bd0edd56",
       "version_major": 2,
       "version_minor": 0
      },
      "text/plain": [
       "  0%|          | 0/1 [00:00<?, ?it/s, ('newline', 'et', 11)]"
      ]
     },
     "metadata": {},
     "output_type": "display_data"
    },
    {
     "data": {
      "application/vnd.jupyter.widget-view+json": {
       "model_id": "b18ff9e9a6bb427aab9fb96c1a9edd40",
       "version_major": 2,
       "version_minor": 0
      },
      "text/plain": [
       "  0%|          | 0/1 [00:00<?, ?it/s, ('output', 'et', 11)]"
      ]
     },
     "metadata": {},
     "output_type": "display_data"
    },
    {
     "data": {
      "application/vnd.jupyter.widget-view+json": {
       "model_id": "1bac9bbeddb24d8b943c0f6a63468d66",
       "version_major": 2,
       "version_minor": 0
      },
      "text/plain": [
       "  0%|          | 0/1 [00:00<?, ?it/s, ('arrow', 'r', 11)]"
      ]
     },
     "metadata": {},
     "output_type": "display_data"
    },
    {
     "data": {
      "application/vnd.jupyter.widget-view+json": {
       "model_id": "65353f8c829a4b4ca47f9ceff3e4bb88",
       "version_major": 2,
       "version_minor": 0
      },
      "text/plain": [
       "  0%|          | 0/1 [00:00<?, ?it/s, ('input', 'r', 11)]"
      ]
     },
     "metadata": {},
     "output_type": "display_data"
    },
    {
     "data": {
      "application/vnd.jupyter.widget-view+json": {
       "model_id": "4920c37c671846fdb9531afa663e61c5",
       "version_major": 2,
       "version_minor": 0
      },
      "text/plain": [
       "  0%|          | 0/1 [00:00<?, ?it/s, ('output', 'r', 11)]"
      ]
     },
     "metadata": {},
     "output_type": "display_data"
    },
    {
     "data": {
      "application/vnd.jupyter.widget-view+json": {
       "model_id": "092bf7710f664c0385c768ce744445de",
       "version_major": 2,
       "version_minor": 0
      },
      "text/plain": [
       "  0%|          | 0/1 [00:00<?, ?it/s, ('arrow', 't', 11)]"
      ]
     },
     "metadata": {},
     "output_type": "display_data"
    },
    {
     "data": {
      "application/vnd.jupyter.widget-view+json": {
       "model_id": "77d0088bceba45d1aacdcd01093d326f",
       "version_major": 2,
       "version_minor": 0
      },
      "text/plain": [
       "  0%|          | 0/1 [00:00<?, ?it/s, ('output', 't', 11)]"
      ]
     },
     "metadata": {},
     "output_type": "display_data"
    },
    {
     "data": {
      "application/vnd.jupyter.widget-view+json": {
       "model_id": "561912946d0b4c02851b6884aaa2c2eb",
       "version_major": 2,
       "version_minor": 0
      },
      "text/plain": [
       "  0%|          | 0/1 [00:00<?, ?it/s, ('arrow', 'ea', 10)]"
      ]
     },
     "metadata": {},
     "output_type": "display_data"
    },
    {
     "data": {
      "application/vnd.jupyter.widget-view+json": {
       "model_id": "57fefd2a956642f3abfb0375e55cc54e",
       "version_major": 2,
       "version_minor": 0
      },
      "text/plain": [
       "  0%|          | 0/1 [00:00<?, ?it/s, ('input', 'ea', 10)]"
      ]
     },
     "metadata": {},
     "output_type": "display_data"
    },
    {
     "data": {
      "application/vnd.jupyter.widget-view+json": {
       "model_id": "ee4dc8d2dfef497ab7d7a147b1ec87bd",
       "version_major": 2,
       "version_minor": 0
      },
      "text/plain": [
       "  0%|          | 0/1 [00:00<?, ?it/s, ('output', 'ea', 10)]"
      ]
     },
     "metadata": {},
     "output_type": "display_data"
    },
    {
     "data": {
      "application/vnd.jupyter.widget-view+json": {
       "model_id": "99cbec3bbdcb49568e3cda4b2db7c635",
       "version_major": 2,
       "version_minor": 0
      },
      "text/plain": [
       "  0%|          | 0/1 [00:00<?, ?it/s, ('arrow', 'er', 10)]"
      ]
     },
     "metadata": {},
     "output_type": "display_data"
    },
    {
     "data": {
      "application/vnd.jupyter.widget-view+json": {
       "model_id": "43880e737c5c4733a7c322ab35dcb82f",
       "version_major": 2,
       "version_minor": 0
      },
      "text/plain": [
       "  0%|          | 0/1 [00:00<?, ?it/s, ('input', 'er', 10)]"
      ]
     },
     "metadata": {},
     "output_type": "display_data"
    },
    {
     "data": {
      "application/vnd.jupyter.widget-view+json": {
       "model_id": "1ad69e2f18a04dcab2a5b9c89eeef1e5",
       "version_major": 2,
       "version_minor": 0
      },
      "text/plain": [
       "  0%|          | 0/1 [00:00<?, ?it/s, ('newline', 'er', 10)]"
      ]
     },
     "metadata": {},
     "output_type": "display_data"
    },
    {
     "data": {
      "application/vnd.jupyter.widget-view+json": {
       "model_id": "fad4407fcbf34375ac45d5ffa080cd8b",
       "version_major": 2,
       "version_minor": 0
      },
      "text/plain": [
       "  0%|          | 0/1 [00:00<?, ?it/s, ('output', 'er', 10)]"
      ]
     },
     "metadata": {},
     "output_type": "display_data"
    },
    {
     "data": {
      "application/vnd.jupyter.widget-view+json": {
       "model_id": "d6593943b54544aabd6f68c9fd5098d8",
       "version_major": 2,
       "version_minor": 0
      },
      "text/plain": [
       "  0%|          | 0/1 [00:00<?, ?it/s, ('prompt', 'er', 10)]"
      ]
     },
     "metadata": {},
     "output_type": "display_data"
    },
    {
     "data": {
      "application/vnd.jupyter.widget-view+json": {
       "model_id": "43c23d1926244e6497c523e6a239cd49",
       "version_major": 2,
       "version_minor": 0
      },
      "text/plain": [
       "  0%|          | 0/1 [00:00<?, ?it/s, ('arrow', 'et', 10)]"
      ]
     },
     "metadata": {},
     "output_type": "display_data"
    },
    {
     "data": {
      "application/vnd.jupyter.widget-view+json": {
       "model_id": "a7de34288c364153afe80d63d58b62ad",
       "version_major": 2,
       "version_minor": 0
      },
      "text/plain": [
       "  0%|          | 0/1 [00:00<?, ?it/s, ('input', 'et', 10)]"
      ]
     },
     "metadata": {},
     "output_type": "display_data"
    },
    {
     "data": {
      "application/vnd.jupyter.widget-view+json": {
       "model_id": "5e5eadd30deb45d1a762946f56089dbc",
       "version_major": 2,
       "version_minor": 0
      },
      "text/plain": [
       "  0%|          | 0/1 [00:00<?, ?it/s, ('output', 'et', 10)]"
      ]
     },
     "metadata": {},
     "output_type": "display_data"
    },
    {
     "data": {
      "application/vnd.jupyter.widget-view+json": {
       "model_id": "584b53f3b15e428187b6462bcd095156",
       "version_major": 2,
       "version_minor": 0
      },
      "text/plain": [
       "  0%|          | 0/1 [00:00<?, ?it/s, ('prompt', 'et', 10)]"
      ]
     },
     "metadata": {},
     "output_type": "display_data"
    },
    {
     "data": {
      "application/vnd.jupyter.widget-view+json": {
       "model_id": "b23fed05d61848c8bc88a83b4f75d333",
       "version_major": 2,
       "version_minor": 0
      },
      "text/plain": [
       "  0%|          | 0/1 [00:00<?, ?it/s, ('arrow', 'r', 10)]"
      ]
     },
     "metadata": {},
     "output_type": "display_data"
    },
    {
     "data": {
      "application/vnd.jupyter.widget-view+json": {
       "model_id": "a6576183b55c47a398adbe785bb9bafc",
       "version_major": 2,
       "version_minor": 0
      },
      "text/plain": [
       "  0%|          | 0/1 [00:00<?, ?it/s, ('input', 'r', 10)]"
      ]
     },
     "metadata": {},
     "output_type": "display_data"
    },
    {
     "data": {
      "application/vnd.jupyter.widget-view+json": {
       "model_id": "82f934e1a0ad46c39f9a939181ff20ad",
       "version_major": 2,
       "version_minor": 0
      },
      "text/plain": [
       "  0%|          | 0/1 [00:00<?, ?it/s, ('output', 'r', 10)]"
      ]
     },
     "metadata": {},
     "output_type": "display_data"
    },
    {
     "data": {
      "application/vnd.jupyter.widget-view+json": {
       "model_id": "1ef2fd085e9c429ca4385c5e3a1d458e",
       "version_major": 2,
       "version_minor": 0
      },
      "text/plain": [
       "  0%|          | 0/1 [00:00<?, ?it/s, ('prompt', 'r', 10)]"
      ]
     },
     "metadata": {},
     "output_type": "display_data"
    },
    {
     "data": {
      "application/vnd.jupyter.widget-view+json": {
       "model_id": "a0eb8a4bd8c44ddca60da26780906fd6",
       "version_major": 2,
       "version_minor": 0
      },
      "text/plain": [
       "  0%|          | 0/1 [00:00<?, ?it/s, ('input', 't', 10)]"
      ]
     },
     "metadata": {},
     "output_type": "display_data"
    },
    {
     "data": {
      "application/vnd.jupyter.widget-view+json": {
       "model_id": "45668ac4148f40db8d68409dadd5cd29",
       "version_major": 2,
       "version_minor": 0
      },
      "text/plain": [
       "  0%|          | 0/1 [00:00<?, ?it/s, ('output', 't', 10)]"
      ]
     },
     "metadata": {},
     "output_type": "display_data"
    }
   ],
   "source": [
    "if not average_over_positions:\n",
    "    important_feats_masks = {}\n",
    "    for mask in circuitizer.masks:\n",
    "        important_feats_masks[mask] = [\n",
    "            (type, layer, feat, pos) for layer, f_mask, type, feat, pos, _ in combined_ies if f_mask == mask\n",
    "            ]\n",
    "\n",
    "\n",
    "    flat_feats = defaultdict(list)\n",
    "    for k, v in important_feats_masks.items():\n",
    "        for type, layer, feat, pos in v:\n",
    "            flat_feats[(k, type, layer)].append((pos, feat))\n",
    "\n",
    "\n",
    "    circuit_node_dict\n",
    "\n",
    "    graph = []\n",
    "\n",
    "    batch_size = 16\n",
    "    # k = 32\n",
    "    for type, features in tqdm(sorted(flat_feats.items(), key=lambda x: (-x[0][-1], x[0][-2], x[0][-3]))):\n",
    "        mask, feature_type, layer = type\n",
    "        mask = jnp.array(list(circuitizer.masks.keys()).index(mask))\n",
    "        for batch in trange(0, len(features), batch_size, postfix=str(type)):\n",
    "            batch_features = features[batch:batch+batch_size]\n",
    "            orig_length = len(batch_features)\n",
    "            batch_features = batch_features + [(0, 0)] * (batch_size - len(batch_features))\n",
    "            feature_effectss = jax.vmap(lambda x: circuitizer.compute_feature_effects(feature_type, layer, x[1], mask, layer_window=1, position=x[0]))(jnp.asarray(batch_features))\n",
    "            # feature_effectss = circuitizer.compute_feature_effects(feature_type, layer, batch_features, mask, layer_window=1)\n",
    "            top_effects = defaultdict(list)\n",
    "            for key, featuress in feature_effectss.items():\n",
    "                nodes_to_keep = circuit_node_dict.get(key, np.empty((0, 2), dtype=np.int32))\n",
    "\n",
    "                for elem, feature_effects in enumerate(featuress):\n",
    "                    if elem >= orig_length:\n",
    "                        continue\n",
    "                    if feature_effects.ndim == 1:\n",
    "                        for idx, _ in nodes_to_keep:\n",
    "                            top_effects[elem].append((float(feature_effects[idx]), key, 0, idx))\n",
    "                        continue\n",
    "                    effects = feature_effects[nodes_to_keep[:, 0], nodes_to_keep[:, 1]]\n",
    "\n",
    "                    for idx, effect in zip(nodes_to_keep, effects):\n",
    "                        top_effects[elem].append((float(effect), key, int(idx[1]), int(idx[0])))\n",
    "\n",
    "                    \n",
    "            for elem, effects in top_effects.items():\n",
    "                effects.sort(reverse=True)\n",
    "                edges = effects\n",
    "                graph.extend([(weight,  key + (upstream_feature,upos,), (type[1], type[2], type[0], batch_features[elem][1], batch_features[elem][0],) ) for weight, key, upstream_feature, upos in edges])\n",
    "            \n",
    "\n",
    "\n",
    "    combined_ies = [\n",
    "        (type, layer, mask, idx, pos, weight) for layer, mask, type, idx, pos, weight in combined_ies\n",
    "    ] \n",
    "\n",
    "\n",
    "    sorted_graph = sorted(graph, reverse=True, key=lambda x: x[0])\n",
    "\n",
    "    n_nodes = sum(map(len, important_feats_masks.values()))\n",
    "    k_connections = 4\n",
    "    weight_threshold = sorted_graph[n_nodes * k_connections][0]"
   ]
  },
  {
   "cell_type": "code",
   "execution_count": 103,
   "metadata": {},
   "outputs": [
    {
     "data": {
      "text/html": [
       "<script> (()=>{ if (customElements.get('treescope-container') === undefined) { class TreescopeContainer extends HTMLElement { constructor() { super(); this.attachShadow({mode: \"open\"}); this.defns = {}; this.state = {}; } } customElements.define(\"treescope-container\", TreescopeContainer); } if (customElements.get('treescope-run-here') === undefined) { class RunHere extends HTMLElement { constructor() { super() } connectedCallback() { const run = child => { const fn = new Function(child.textContent); child.textContent = \"\"; fn.call(this); this.remove(); }; const child = this.querySelector(\"script\"); if (child) { run(child); } else { new MutationObserver(()=>{ run(this.querySelector(\"script\")); }).observe(this, {childList: true}); } } } customElements.define(\"treescope-run-here\", RunHere); } })(); </script> <treescope-container class=\"treescope_out_3de6c137db934ca587a0a6b04da6a5b0\" ></treescope-container> <treescope-run-here><script type=\"application/octet-stream\"> const root = ( Array.from(document.getElementsByClassName( \"treescope_out_3de6c137db934ca587a0a6b04da6a5b0\")) .filter((elt) => !elt.dataset.setup) )[0]; root.dataset.setup = 1; const msg = document.createElement(\"span\"); msg.style = \"color: #aaaaaa; font-family: monospace; transition: opacity 0.2s; opacity: 0.0;\"; msg.textContent = \"(Loading...)\"; root.state.loadingMsg = msg; root.shadowRoot.appendChild(msg); root.state.chain = new Promise((resolve, reject) => { const observer = new IntersectionObserver((entries) => { for (const entry of entries) { if (entry.isIntersecting) { resolve(); observer.disconnect(); return; } } }, {rootMargin: \"1000px\"}); window.setTimeout(() => { if (root.loadingMsg) { root.loadingMsg.style.opacity = \"1.0\"; } observer.observe(root); }, 0); }); root.state.deferring = false; const _insertNode = (node) => { for (let oldScript of node.querySelectorAll(\"script\")) { let newScript = document.createElement(\"script\"); newScript.type = oldScript.type; newScript.textContent = oldScript.textContent; oldScript.parentNode.replaceChild(newScript, oldScript); } if (root.state.loadingMsg) { root.state.loadingMsg.remove(); root.state.loadingMsg = null; } root.shadowRoot.appendChild(node); }; root.defns.insertContent = ((contentNode, compressed) => { if (compressed) { root.state.deferring = true; } if (root.state.deferring) { root.state.chain = (async () => { await root.state.chain; if (compressed) { const encoded = contentNode.textContent; const blob = new Blob([ Uint8Array.from(atob(encoded), (m) => m.codePointAt(0)) ]); const reader = blob.stream().pipeThrough( new DecompressionStream(\"deflate\") ).pipeThrough( new TextDecoderStream(\"utf-8\") ).getReader(); const parts = []; while (true) { const step = await reader.read(); if (step.done) { break; } parts.push(step.value); } const tpl = document.createElement('template'); tpl.innerHTML = parts.join(\"\"); _insertNode(tpl.content); } else { _insertNode(contentNode.content); } })(); } else { _insertNode(contentNode.content); } }); </script></treescope-run-here><div style=\"display:none\"> <script type=\"application/octet-stream\" >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</script> <treescope-run-here><script type=\"application/octet-stream\"> const root = ( Array.from(document.getElementsByClassName( \"treescope_out_3de6c137db934ca587a0a6b04da6a5b0\")) .filter((elt) => !elt.dataset['step0']) )[0]; root.dataset['step0'] = 1; root.defns.insertContent( this.parentNode.querySelector('script[type=\"application/octet-stream\"]'), true ); this.parentNode.remove(); </script></treescope-run-here> </div>"
      ],
      "text/plain": [
       "<IPython.core.display.HTML object>"
      ]
     },
     "metadata": {},
     "output_type": "display_data"
    },
    {
     "data": {
      "text/html": [
       "<treescope-run-here><script type=\"application/octet-stream\"> const root = ( Array.from(document.getElementsByClassName( \"treescope_out_3de6c137db934ca587a0a6b04da6a5b0\")) .filter((elt) => !elt.dataset.stolen) )[0]; root.dataset.stolen = 1; this.parentNode.replaceChild(root, this); </script></treescope-run-here>"
      ],
      "text/plain": [
       "[(0.0001558343501528725, ('er', 16, 'arrow', 0), ('a', 16, 'arrow', 26950)),\n",
       " (0.00014752325660083443, ('er', 16, 'input', 0), ('a', 16, 'arrow', 26950)),\n",
       " (3.1936295272316784e-05, ('r', 16, 'input', 471), ('a', 16, 'arrow', 26950)),\n",
       " (8.613686077296734e-06, ('r', 16, 'input', 28017), ('a', 16, 'arrow', 26950)),\n",
       " (8.129306479531806e-06, ('er', 16, 'output', 0), ('a', 16, 'arrow', 26950)),\n",
       " (7.495141744584544e-06, ('r', 16, 'input', 17106), ('a', 16, 'arrow', 26950)),\n",
       " (5.879063792235684e-06, ('r', 16, 'arrow', 20746), ('a', 16, 'arrow', 26950)),\n",
       " (5.4994566198729444e-06, ('r', 16, 'arrow', 5839), ('a', 16, 'arrow', 26950)),\n",
       " (3.4953022804984357e-06,\n",
       "  ('r', 16, 'arrow', 16396),\n",
       "  ('a', 16, 'arrow', 26950)),\n",
       " (3.3527530831634067e-06,\n",
       "  ('r', 16, 'arrow', 19087),\n",
       "  ('a', 16, 'arrow', 26950)),\n",
       " (3.223263320251135e-06, ('r', 16, 'input', 12554), ('a', 16, 'arrow', 26950)),\n",
       " (2.9139926027710317e-06, ('er', 16, 'prompt', 0), ('a', 16, 'arrow', 26950)),\n",
       " (2.6358959530625725e-06,\n",
       "  ('r', 16, 'arrow', 17459),\n",
       "  ('a', 16, 'arrow', 26950)),\n",
       " (2.1566766008618288e-06,\n",
       "  ('r', 16, 'arrow', 28783),\n",
       "  ('a', 16, 'arrow', 26950)),\n",
       " (1.6950267536230967e-06, ('r', 16, 'arrow', 1244), ('a', 16, 'arrow', 26950)),\n",
       " (1.6587461004746729e-06, ('r', 16, 'arrow', 5202), ('a', 16, 'arrow', 26950)),\n",
       " (1.639681158849271e-06, ('r', 16, 'arrow', 1701), ('a', 16, 'arrow', 26950)),\n",
       " (1.3064176300758845e-06, ('r', 16, 'arrow', 6812), ('a', 16, 'arrow', 26950)),\n",
       " (1.1397964954085182e-06,\n",
       "  ('r', 16, 'prompt', 15125),\n",
       "  ('a', 16, 'arrow', 26950)),\n",
       " (1.1271797575318487e-06,\n",
       "  ('r', 16, 'arrow', 25295),\n",
       "  ('a', 16, 'arrow', 26950)),\n",
       " (1.0179868468185305e-06,\n",
       "  ('r', 16, 'arrow', 29506),\n",
       "  ('a', 16, 'arrow', 26950)),\n",
       " (1.0162028729610029e-06,\n",
       "  ('r', 16, 'arrow', 28898),\n",
       "  ('a', 16, 'arrow', 26950)),\n",
       " (9.177642255053797e-07, ('r', 16, 'arrow', 4756), ('a', 16, 'arrow', 26950)),\n",
       " (8.987248065750464e-07, ('r', 16, 'arrow', 7451), ('a', 16, 'arrow', 26950)),\n",
       " (8.81115170159319e-07, ('r', 16, 'arrow', 5603), ('a', 16, 'arrow', 26950)),\n",
       " (8.209453312701953e-07, ('r', 16, 'arrow', 10304), ('a', 16, 'arrow', 26950)),\n",
       " (7.130325911930413e-07, ('er', 16, 'newline', 0), ('a', 16, 'arrow', 26950)),\n",
       " (7.079574402268918e-07, ('r', 16, 'arrow', 25826), ('a', 16, 'arrow', 26950)),\n",
       " (6.415176585505833e-07, ('r', 16, 'arrow', 23646), ('a', 16, 'arrow', 26950)),\n",
       " (6.250346586966771e-07, ('r', 16, 'arrow', 3284), ('a', 16, 'arrow', 26950)),\n",
       " (6.193672561494168e-07, ('r', 16, 'arrow', 2179), ('a', 16, 'arrow', 26950)),\n",
       " (5.233213187239016e-07, ('r', 16, 'arrow', 16628), ('a', 16, 'arrow', 26950)),\n",
       " (4.076847801570693e-07, ('r', 16, 'arrow', 10501), ('a', 16, 'arrow', 26950)),\n",
       " (3.8714713923582167e-07,\n",
       "  ('r', 16, 'arrow', 10418),\n",
       "  ('a', 16, 'arrow', 26950)),\n",
       " (3.383754005881201e-07, ('r', 16, 'arrow', 20743), ('a', 16, 'arrow', 26950)),\n",
       " (2.4965538614196703e-07,\n",
       "  ('r', 16, 'arrow', 29881),\n",
       "  ('a', 16, 'arrow', 26950)),\n",
       " (1.9361469583145663e-07, ('r', 16, 'arrow', 9172), ('a', 16, 'arrow', 26950)),\n",
       " (1.5244594919749943e-07, ('r', 16, 'arrow', 9435), ('a', 16, 'arrow', 26950)),\n",
       " (1.5207525905225339e-07,\n",
       "  ('r', 16, 'arrow', 18817),\n",
       "  ('a', 16, 'arrow', 26950)),\n",
       " (1.0644294690109746e-07,\n",
       "  ('r', 16, 'arrow', 17563),\n",
       "  ('a', 16, 'arrow', 26950)),\n",
       " (9.248356747093567e-08, ('r', 16, 'arrow', 24937), ('a', 16, 'arrow', 26950)),\n",
       " (2.845575863830163e-08, ('r', 16, 'arrow', 8409), ('a', 16, 'arrow', 26950)),\n",
       " (2.7529324597708182e-08,\n",
       "  ('r', 16, 'arrow', 24991),\n",
       "  ('a', 16, 'arrow', 26950)),\n",
       " (-6.614264691506833e-08, ('r', 16, 'arrow', 4554), ('a', 16, 'arrow', 26950)),\n",
       " (-7.316972983062442e-08,\n",
       "  ('r', 16, 'arrow', 18949),\n",
       "  ('a', 16, 'arrow', 26950)),\n",
       " (-9.243964882443834e-08,\n",
       "  ('r', 16, 'arrow', 22357),\n",
       "  ('a', 16, 'arrow', 26950)),\n",
       " (-9.458952376917296e-08, ('r', 16, 'arrow', 5445), ('a', 16, 'arrow', 26950)),\n",
       " (-1.1527151855261764e-07,\n",
       "  ('r', 16, 'arrow', 32002),\n",
       "  ('a', 16, 'arrow', 26950)),\n",
       " (-1.1668454646951432e-07,\n",
       "  ('r', 16, 'arrow', 4569),\n",
       "  ('a', 16, 'arrow', 26950)),\n",
       " (-3.021081056431285e-07,\n",
       "  ('r', 16, 'arrow', 12406),\n",
       "  ('a', 16, 'arrow', 26950)),\n",
       " (-3.06865757693231e-07, ('r', 16, 'arrow', 19233), ('a', 16, 'arrow', 26950)),\n",
       " (-4.682959513502283e-07,\n",
       "  ('r', 16, 'arrow', 25780),\n",
       "  ('a', 16, 'arrow', 26950)),\n",
       " (-1.1113431810372276e-06,\n",
       "  ('r', 16, 'prompt', 22357),\n",
       "  ('a', 16, 'arrow', 26950)),\n",
       " (-1.198502673105395e-06,\n",
       "  ('r', 16, 'input', 15451),\n",
       "  ('a', 16, 'arrow', 26950)),\n",
       " (-2.1596267743007047e-06,\n",
       "  ('r', 16, 'arrow', 29818),\n",
       "  ('a', 16, 'arrow', 26950)),\n",
       " (-3.3652079309831606e-06,\n",
       "  ('r', 16, 'newline', 22357),\n",
       "  ('a', 16, 'arrow', 26950)),\n",
       " (-1.0547420060902368e-05,\n",
       "  ('r', 16, 'prompt', 31348),\n",
       "  ('a', 16, 'arrow', 26950)),\n",
       " (1.0133982868865132e-05, ('er', 16, 'input', 0), ('a', 16, 'arrow', 19232)),\n",
       " (7.616951279487694e-06, ('er', 16, 'arrow', 0), ('a', 16, 'arrow', 19232)),\n",
       " (2.706049144762801e-06, ('r', 16, 'arrow', 24991), ('a', 16, 'arrow', 19232)),\n",
       " (2.5808008103922475e-06, ('er', 16, 'newline', 0), ('a', 16, 'arrow', 19232)),\n",
       " (2.296066440976574e-06, ('er', 16, 'output', 0), ('a', 16, 'arrow', 19232)),\n",
       " (1.6144610981427832e-06, ('r', 16, 'input', 471), ('a', 16, 'arrow', 19232)),\n",
       " (6.701485517623951e-07, ('r', 16, 'input', 15451), ('a', 16, 'arrow', 19232)),\n",
       " (5.80431276375748e-07, ('r', 16, 'arrow', 16396), ('a', 16, 'arrow', 19232)),\n",
       " (5.775738713964529e-07, ('r', 16, 'arrow', 29818), ('a', 16, 'arrow', 19232)),\n",
       " (3.522401641475881e-07,\n",
       "  ('r', 16, 'newline', 22357),\n",
       "  ('a', 16, 'arrow', 19232)),\n",
       " (1.9854286392728682e-07,\n",
       "  ('r', 16, 'arrow', 25826),\n",
       "  ('a', 16, 'arrow', 19232)),\n",
       " (1.9244680515839718e-07,\n",
       "  ('r', 16, 'prompt', 22357),\n",
       "  ('a', 16, 'arrow', 19232)),\n",
       " (1.7468741475568095e-07, ('r', 16, 'arrow', 5202), ('a', 16, 'arrow', 19232)),\n",
       " (1.6305992289744609e-07,\n",
       "  ('r', 16, 'arrow', 22357),\n",
       "  ('a', 16, 'arrow', 19232)),\n",
       " (1.5602768144162837e-07,\n",
       "  ('r', 16, 'arrow', 10304),\n",
       "  ('a', 16, 'arrow', 19232)),\n",
       " (1.4338219500587002e-07, ('r', 16, 'arrow', 4756), ('a', 16, 'arrow', 19232)),\n",
       " (1.318696405405717e-07, ('r', 16, 'arrow', 19233), ('a', 16, 'arrow', 19232)),\n",
       " (1.2537465465811692e-07, ('r', 16, 'arrow', 4569), ('a', 16, 'arrow', 19232)),\n",
       " (1.1981580883002607e-07,\n",
       "  ('r', 16, 'arrow', 20746),\n",
       "  ('a', 16, 'arrow', 19232)),\n",
       " (1.1730590188108181e-07, ('er', 16, 'prompt', 0), ('a', 16, 'arrow', 19232)),\n",
       " (9.344002904754234e-08, ('r', 16, 'arrow', 19087), ('a', 16, 'arrow', 19232)),\n",
       " (8.32077091672545e-08, ('r', 16, 'arrow', 5445), ('a', 16, 'arrow', 19232)),\n",
       " (8.153045882863807e-08, ('r', 16, 'arrow', 29881), ('a', 16, 'arrow', 19232)),\n",
       " (7.32819316340283e-08, ('r', 16, 'arrow', 18817), ('a', 16, 'arrow', 19232)),\n",
       " (6.062513335791664e-08, ('r', 16, 'arrow', 2179), ('a', 16, 'arrow', 19232)),\n",
       " (4.925332319771769e-08, ('r', 16, 'arrow', 4554), ('a', 16, 'arrow', 19232)),\n",
       " (4.6285265398182673e-08,\n",
       "  ('r', 16, 'arrow', 18949),\n",
       "  ('a', 16, 'arrow', 19232)),\n",
       " (4.430270905686484e-08, ('r', 16, 'arrow', 10418), ('a', 16, 'arrow', 19232)),\n",
       " (4.2346201212239976e-08,\n",
       "  ('r', 16, 'arrow', 10501),\n",
       "  ('a', 16, 'arrow', 19232)),\n",
       " (3.956832017593115e-08, ('r', 16, 'arrow', 28898), ('a', 16, 'arrow', 19232)),\n",
       " (3.1391660826329826e-08, ('r', 16, 'arrow', 3284), ('a', 16, 'arrow', 19232)),\n",
       " (2.566299173167863e-08, ('r', 16, 'arrow', 9435), ('a', 16, 'arrow', 19232)),\n",
       " (-1.2005467731057706e-09,\n",
       "  ('r', 16, 'arrow', 17563),\n",
       "  ('a', 16, 'arrow', 19232)),\n",
       " (-1.8554824343652854e-09,\n",
       "  ('r', 16, 'arrow', 25295),\n",
       "  ('a', 16, 'arrow', 19232)),\n",
       " (-4.67142990956404e-09, ('r', 16, 'arrow', 1244), ('a', 16, 'arrow', 19232)),\n",
       " (-1.8302888094012815e-08,\n",
       "  ('r', 16, 'arrow', 12406),\n",
       "  ('a', 16, 'arrow', 19232)),\n",
       " (-1.8937697632281925e-08,\n",
       "  ('r', 16, 'arrow', 9172),\n",
       "  ('a', 16, 'arrow', 19232)),\n",
       " (-1.953025119405538e-08,\n",
       "  ('r', 16, 'arrow', 32002),\n",
       "  ('a', 16, 'arrow', 19232)),\n",
       " (-3.649700985874915e-08,\n",
       "  ('r', 16, 'arrow', 23646),\n",
       "  ('a', 16, 'arrow', 19232)),\n",
       " (-3.971838324901e-08, ('r', 16, 'arrow', 20743), ('a', 16, 'arrow', 19232)),\n",
       " (-5.360202592896712e-08,\n",
       "  ('r', 16, 'input', 17106),\n",
       "  ('a', 16, 'arrow', 19232)),\n",
       " (-8.169682530478894e-08, ('r', 16, 'arrow', 5603), ('a', 16, 'arrow', 19232)),\n",
       " (-9.00368064549184e-08,\n",
       "  ('r', 16, 'prompt', 15125),\n",
       "  ('a', 16, 'arrow', 19232))]"
      ]
     },
     "execution_count": 103,
     "metadata": {},
     "output_type": "execute_result"
    }
   ],
   "source": [
    "graph[:100]"
   ]
  },
  {
   "cell_type": "code",
   "execution_count": 66,
   "metadata": {},
   "outputs": [],
   "source": [
    "if average_over_positions:\n",
    "\n",
    "    _graph = [\n",
    "        (w, l, (*r[:-1], int(r[-1]))) for w, l, r in sorted_graph\n",
    "    ]\n",
    "else:\n",
    "    _graph = [\n",
    "        (w, l, (*r[:-2], int(r[-2]), int(r[-1]))) for w, l, r in sorted_graph\n",
    "    ]"
   ]
  },
  {
   "cell_type": "code",
   "execution_count": 105,
   "metadata": {},
   "outputs": [],
   "source": [
    "if average_over_positions:\n",
    "    _combined_ies = [\n",
    "        (type, layer, mask, int(idx), weight) for type, layer, mask, idx, weight in combined_ies\n",
    "    ]\n",
    "else:\n",
    "    _combined_ies = [\n",
    "        (type, layer, mask, int(idx), int(pos), weight) for type, layer, mask, idx, pos, weight in combined_ies\n",
    "    ]"
   ]
  },
  {
   "cell_type": "code",
   "execution_count": 106,
   "metadata": {},
   "outputs": [],
   "source": [
    "import json\n",
    "with open(f\"micrlhf-progress/graph-rebirth-{task_name}_faith_0.3.json\", 'w') as f:\n",
    "    json.dump({\"edges\": _graph, \"nodes\": _combined_ies, \"threshold\": weight_threshold}, f)"
   ]
  },
  {
   "cell_type": "code",
   "execution_count": 42,
   "metadata": {},
   "outputs": [
    {
     "data": {
      "text/html": [
       "<script> (()=>{ if (customElements.get('treescope-container') === undefined) { class TreescopeContainer extends HTMLElement { constructor() { super(); this.attachShadow({mode: \"open\"}); this.defns = {}; this.state = {}; } } customElements.define(\"treescope-container\", TreescopeContainer); } if (customElements.get('treescope-run-here') === undefined) { class RunHere extends HTMLElement { constructor() { super() } connectedCallback() { const run = child => { const fn = new Function(child.textContent); child.textContent = \"\"; fn.call(this); this.remove(); }; const child = this.querySelector(\"script\"); if (child) { run(child); } else { new MutationObserver(()=>{ run(this.querySelector(\"script\")); }).observe(this, {childList: true}); } } } customElements.define(\"treescope-run-here\", RunHere); } })(); </script> <treescope-container class=\"treescope_out_ba5a5afa36df4050b70ca6c34fa5db1b\" ></treescope-container> <treescope-run-here><script type=\"application/octet-stream\"> const root = ( Array.from(document.getElementsByClassName( \"treescope_out_ba5a5afa36df4050b70ca6c34fa5db1b\")) .filter((elt) => !elt.dataset.setup) )[0]; root.dataset.setup = 1; const msg = document.createElement(\"span\"); msg.style = \"color: #aaaaaa; font-family: monospace; transition: opacity 0.2s; opacity: 0.0;\"; msg.textContent = \"(Loading...)\"; root.state.loadingMsg = msg; root.shadowRoot.appendChild(msg); root.state.chain = new Promise((resolve, reject) => { const observer = new IntersectionObserver((entries) => { for (const entry of entries) { if (entry.isIntersecting) { resolve(); observer.disconnect(); return; } } }, {rootMargin: \"1000px\"}); window.setTimeout(() => { if (root.loadingMsg) { root.loadingMsg.style.opacity = \"1.0\"; } observer.observe(root); }, 0); }); root.state.deferring = false; const _insertNode = (node) => { for (let oldScript of node.querySelectorAll(\"script\")) { let newScript = document.createElement(\"script\"); newScript.type = oldScript.type; newScript.textContent = oldScript.textContent; oldScript.parentNode.replaceChild(newScript, oldScript); } if (root.state.loadingMsg) { root.state.loadingMsg.remove(); root.state.loadingMsg = null; } root.shadowRoot.appendChild(node); }; root.defns.insertContent = ((contentNode, compressed) => { if (compressed) { root.state.deferring = true; } if (root.state.deferring) { root.state.chain = (async () => { await root.state.chain; if (compressed) { const encoded = contentNode.textContent; const blob = new Blob([ Uint8Array.from(atob(encoded), (m) => m.codePointAt(0)) ]); const reader = blob.stream().pipeThrough( new DecompressionStream(\"deflate\") ).pipeThrough( new TextDecoderStream(\"utf-8\") ).getReader(); const parts = []; while (true) { const step = await reader.read(); if (step.done) { break; } parts.push(step.value); } const tpl = document.createElement('template'); tpl.innerHTML = parts.join(\"\"); _insertNode(tpl.content); } else { _insertNode(contentNode.content); } })(); } else { _insertNode(contentNode.content); } }); </script></treescope-run-here><div style=\"display:none\"> <script type=\"application/octet-stream\" >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</script> <treescope-run-here><script type=\"application/octet-stream\"> const root = ( Array.from(document.getElementsByClassName( \"treescope_out_ba5a5afa36df4050b70ca6c34fa5db1b\")) .filter((elt) => !elt.dataset['step0']) )[0]; root.dataset['step0'] = 1; root.defns.insertContent( this.parentNode.querySelector('script[type=\"application/octet-stream\"]'), true ); this.parentNode.remove(); </script></treescope-run-here> </div>"
      ],
      "text/plain": [
       "<IPython.core.display.HTML object>"
      ]
     },
     "metadata": {},
     "output_type": "display_data"
    },
    {
     "data": {
      "text/html": [
       "<treescope-run-here><script type=\"application/octet-stream\"> const root = ( Array.from(document.getElementsByClassName( \"treescope_out_ba5a5afa36df4050b70ca6c34fa5db1b\")) .filter((elt) => !elt.dataset.stolen) )[0]; root.dataset.stolen = 1; this.parentNode.replaceChild(root, this); </script></treescope-run-here>"
      ],
      "text/plain": [
       "[['a', 11, 'arrow', 4080, 0.7506580352783203],\n",
       " ['a', 10, 'arrow', 18907, 0.32885661721229553],\n",
       " ['ea', 8, 'prompt', 0, 0.25985220074653625],\n",
       " ['a', 11, 'arrow', 24084, 0.2539865970611572],\n",
       " ['a', 11, 'arrow', 7345, 0.2489675134420395],\n",
       " ['a', 10, 'output', 18907, 0.24180087447166443],\n",
       " ['a', 12, 'arrow', 6492, 0.21518652141094208],\n",
       " ['a', 13, 'arrow', 4745, 0.21424899995326996],\n",
       " ['a', 11, 'arrow', 3528, 0.21369224786758423],\n",
       " ['a', 10, 'arrow', 30196, 0.14977753162384033],\n",
       " ['a', 13, 'arrow', 5151, 0.13242927193641663],\n",
       " ['a', 11, 'arrow', 29382, 0.12703268229961395],\n",
       " ['a', 9, 'arrow', 30422, 0.12628766894340515],\n",
       " ['a', 11, 'arrow', 23914, 0.11989074945449829],\n",
       " ['a', 10, 'arrow', 31128, 0.11808712780475616],\n",
       " ['a', 12, 'arrow', 24815, 0.11454211920499802],\n",
       " ['a', 7, 'output', 16193, 0.11348624527454376],\n",
       " ['a', 6, 'prompt', 30905, 0.11110686510801315],\n",
       " ['a', 11, 'input', 24084, 0.11046935617923737],\n",
       " ['a', 11, 'input', 30551, 0.10848592221736908],\n",
       " ['a', 11, 'input', 25963, 0.10084160417318344],\n",
       " ['a', 8, 'output', 12423, 0.09670715034008026],\n",
       " ['a', 11, 'arrow', 132, 0.09597808867692947],\n",
       " ['a', 16, 'arrow', 26950, 0.09281069040298462],\n",
       " ['a', 13, 'arrow', 30355, 0.08647042512893677],\n",
       " ['a', 9, 'input', 30422, 0.08515353500843048],\n",
       " ['a', 11, 'arrow', 6975, 0.08458726853132248],\n",
       " ['a', 11, 'input', 3528, 0.08040756732225418],\n",
       " ['a', 13, 'arrow', 15548, 0.07793214917182922],\n",
       " ['a', 9, 'output', 20099, 0.0748707726597786],\n",
       " ['a', 12, 'arrow', 9137, 0.07463555783033371],\n",
       " ['a', 11, 'arrow', 24250, 0.07212164252996445],\n",
       " ['a', 7, 'prompt', 17961, 0.07165984809398651],\n",
       " ['a', 10, 'arrow', 31964, 0.07049548625946045],\n",
       " ['a', 13, 'arrow', 17840, 0.06974411755800247],\n",
       " ['a', 8, 'output', 29606, 0.06762855499982834],\n",
       " ['a', 12, 'arrow', 11334, 0.06740531325340271],\n",
       " ['a', 7, 'output', 24464, 0.0671708807349205],\n",
       " ['a', 9, 'arrow', 3699, 0.06692551076412201],\n",
       " ['a', 8, 'input', 29606, 0.06609345972537994],\n",
       " ['a', 9, 'input', 10121, 0.06532280892133713],\n",
       " ['a', 6, 'arrow', 32736, 0.06465433537960052],\n",
       " ['a', 11, 'output', 3528, 0.06426970660686493],\n",
       " ['a', 7, 'output', 3570, 0.06188572943210602],\n",
       " ['a', 13, 'arrow', 21151, 0.06109173968434334],\n",
       " ['a', 11, 'arrow', 15611, 0.061014723032712936],\n",
       " ['a', 8, 'input', 1102, 0.060930412262678146],\n",
       " ['a', 6, 'input', 29059, 0.06056225299835205],\n",
       " ['a', 8, 'newline', 32349, 0.06011004000902176],\n",
       " ['a', 8, 'arrow', 18444, 0.05934614688158035],\n",
       " ['a', 8, 'input', 23841, 0.05843329802155495],\n",
       " ['a', 10, 'arrow', 12147, 0.05832074582576752],\n",
       " ['er', 14, 'arrow', 0, 0.05777547508478165],\n",
       " ['a', 13, 'arrow', 6077, 0.05575604736804962],\n",
       " ['a', 7, 'newline', 28287, 0.05573801323771477],\n",
       " ['a', 11, 'arrow', 20935, 0.055556949228048325],\n",
       " ['a', 12, 'arrow', 11345, 0.05515478923916817],\n",
       " ['a', 8, 'output', 31566, 0.05456184223294258],\n",
       " ['a', 11, 'arrow', 4522, 0.053785908967256546],\n",
       " ['a', 11, 'input', 32219, 0.05317726731300354],\n",
       " ['a', 6, 'input', 32736, 0.05151086300611496],\n",
       " ['a', 12, 'arrow', 28019, 0.05129891633987427],\n",
       " ['a', 8, 'output', 28812, 0.05086845904588699],\n",
       " ['a', 6, 'arrow', 833, 0.050552014261484146],\n",
       " ['a', 7, 'arrow', 538, 0.05022735148668289],\n",
       " ['a', 7, 'arrow', 13497, 0.05014926940202713],\n",
       " ['a', 9, 'output', 10121, 0.04978646710515022],\n",
       " ['a', 13, 'arrow', 22100, 0.049388784915208817],\n",
       " ['a', 9, 'arrow', 11624, 0.049090392887592316],\n",
       " ['a', 8, 'newline', 4213, 0.0490826815366745],\n",
       " ['a', 10, 'arrow', 6051, 0.048936307430267334],\n",
       " ['a', 10, 'output', 30196, 0.048778388649225235],\n",
       " ['a', 12, 'arrow', 21407, 0.048734430223703384],\n",
       " ['a', 7, 'output', 31467, 0.04839739203453064],\n",
       " ['a', 12, 'arrow', 22504, 0.04804452508687973],\n",
       " ['a', 7, 'newline', 31766, 0.04803304746747017],\n",
       " ['a', 7, 'prompt', 13170, 0.04800529405474663],\n",
       " ['a', 6, 'arrow', 25473, 0.04800485819578171],\n",
       " ['a', 13, 'arrow', 2844, 0.04782572016119957],\n",
       " ['a', 10, 'arrow', 21817, 0.04742930829524994],\n",
       " ['er', 13, 'arrow', 0, 0.047115836292505264],\n",
       " ['a', 11, 'arrow', 21699, 0.0469721294939518],\n",
       " ['a', 13, 'arrow', 26183, 0.04653647914528847],\n",
       " ['a', 10, 'arrow', 16620, 0.04633978009223938],\n",
       " ['a', 11, 'input', 16999, 0.04620660841464996],\n",
       " ['a', 10, 'output', 6051, 0.04606175422668457],\n",
       " ['a', 9, 'input', 3699, 0.04580915719270706],\n",
       " ['a', 6, 'prompt', 19517, 0.045599669218063354],\n",
       " ['a', 12, 'output', 6492, 0.04492947831749916],\n",
       " ['a', 7, 'output', 16493, 0.04471995681524277],\n",
       " ['a', 12, 'arrow', 15472, 0.04448691010475159],\n",
       " ['a', 8, 'newline', 19518, 0.04435942322015762],\n",
       " ['a', 7, 'newline', 17961, 0.04376508295536041],\n",
       " ['a', 12, 'arrow', 20529, 0.042944781482219696],\n",
       " ['er', 11, 'arrow', 0, 0.042884379625320435],\n",
       " ['a', 13, 'arrow', 2807, 0.042858630418777466],\n",
       " ['a', 11, 'input', 4496, 0.04208576679229736],\n",
       " ['a', 11, 'arrow', 25672, 0.042009927332401276],\n",
       " ['a', 10, 'arrow', 7627, 0.04195570945739746],\n",
       " ['a', 10, 'output', 16987, 0.041208114475011826]]"
      ]
     },
     "execution_count": 42,
     "metadata": {},
     "output_type": "execute_result"
    }
   ],
   "source": [
    "import json\n",
    "with open(\"micrlhf-progress/all-graph-antonyms.json\") as f:\n",
    "    all_graph = json.load(f)\n",
    "\n",
    "nodes = all_graph[\"nodes\"]\n",
    "\n",
    "nodes[:100]"
   ]
  },
  {
   "cell_type": "code",
   "execution_count": 41,
   "metadata": {},
   "outputs": [],
   "source": [
    "important_feats_masks = {}\n",
    "for mask in circuitizer.masks:\n",
    "    important_feats_masks[mask] = [\n",
    "        (type, layer, feat) for layer, f_mask, type, feat, _ in combined_ies if f_mask == mask\n",
    "        ]"
   ]
  },
  {
   "cell_type": "code",
   "execution_count": 20,
   "metadata": {},
   "outputs": [],
   "source": [
    "from collections import defaultdict\n",
    "flat_feats = defaultdict(list)\n",
    "for k, v in important_feats_masks.items():\n",
    "    for type, layer, feat in v:\n",
    "        flat_feats[(k, type, layer)].append(feat)"
   ]
  },
  {
   "cell_type": "code",
   "execution_count": 36,
   "metadata": {},
   "outputs": [
    {
     "data": {
      "application/vnd.jupyter.widget-view+json": {
       "model_id": "3f013b142d974d358eb521991fe903d5",
       "version_major": 2,
       "version_minor": 0
      },
      "text/plain": [
       "  0%|          | 0/320 [00:00<?, ?it/s]"
      ]
     },
     "metadata": {},
     "output_type": "display_data"
    },
    {
     "data": {
      "application/vnd.jupyter.widget-view+json": {
       "model_id": "0589ecebccde4b44a58baac2a7f3a624",
       "version_major": 2,
       "version_minor": 0
      },
      "text/plain": [
       "  0%|          | 0/81 [00:00<?, ?it/s, ('arrow', 'a', 16)]"
      ]
     },
     "metadata": {},
     "output_type": "display_data"
    },
    {
     "name": "stdout",
     "output_type": "stream",
     "text": [
      "dict_keys([('er', 16, 'arrow'), ('er', 16, 'input'), ('er', 16, 'newline'), ('er', 16, 'output'), ('er', 16, 'prompt'), ('r', 16, 'arrow'), ('r', 16, 'input'), ('r', 16, 'newline'), ('r', 16, 'output'), ('r', 16, 'prompt')]) [26950, 25539, 1085, 14538, 19232, 7123, 20911, 12264, 12539, 12413, 32120, 26574, 23636, 23114, 178, 12793]\n",
      "('er', 16, 'arrow') (16,)\n",
      "('er', 16, 'input') (16,)\n",
      "('er', 16, 'newline') (16,)\n",
      "('er', 16, 'output') (16,)\n",
      "('er', 16, 'prompt') (16,)\n",
      "('r', 16, 'arrow') (16, 32768)\n",
      "('r', 16, 'input') (16, 32768)\n",
      "('r', 16, 'newline') (16, 32768)\n",
      "('r', 16, 'output') (16, 32768)\n",
      "('r', 16, 'prompt') (16, 32768)\n",
      "[(6.0595695686060935e-05, ('er', 16, 'input', 0), ('a', 16, 'arrow', 26950)), (4.51656014774926e-05, ('r', 16, 'prompt', 5241), ('a', 16, 'arrow', 26950)), (3.955366264563054e-05, ('r', 16, 'arrow', 29818), ('a', 16, 'arrow', 26950)), (3.92732436012011e-05, ('r', 16, 'arrow', 24991), ('a', 16, 'arrow', 26950)), (3.684913463075645e-05, ('er', 16, 'prompt', 0), ('a', 16, 'arrow', 26950)), (2.9562317649833858e-05, ('er', 16, 'arrow', 0), ('a', 16, 'arrow', 26950)), (2.319858867849689e-05, ('r', 16, 'arrow', 17821), ('a', 16, 'arrow', 26950)), (2.309978663106449e-05, ('r', 16, 'input', 11940), ('a', 16, 'arrow', 26950)), (2.1727033526985906e-05, ('r', 16, 'input', 1925), ('a', 16, 'arrow', 26950)), (2.1575855498667806e-05, ('r', 16, 'arrow', 4864), ('a', 16, 'arrow', 26950)), (1.8731390809989534e-05, ('r', 16, 'arrow', 2353), ('a', 16, 'arrow', 26950)), (1.5680485375924036e-05, ('r', 16, 'input', 471), ('a', 16, 'arrow', 26950)), (1.5463583622477017e-05, ('er', 16, 'newline', 0), ('a', 16, 'arrow', 26950)), (1.5248271665768698e-05, ('r', 16, 'input', 1913), ('a', 16, 'arrow', 26950)), (1.2924692782689817e-05, ('r', 16, 'arrow', 21347), ('a', 16, 'arrow', 26950)), (1.2538909686554689e-05, ('r', 16, 'input', 23790), ('a', 16, 'arrow', 26950)), (1.1613489732553717e-05, ('r', 16, 'newline', 1925), ('a', 16, 'arrow', 26950)), (1.1381651347619481e-05, ('r', 16, 'input', 12482), ('a', 16, 'arrow', 26950)), (1.095333482226124e-05, ('r', 16, 'output', 15037), ('a', 16, 'arrow', 26950)), (1.0365569323766977e-05, ('r', 16, 'arrow', 27427), ('a', 16, 'arrow', 26950)), (9.921205673890654e-06, ('r', 16, 'arrow', 7141), ('a', 16, 'arrow', 26950)), (9.598125870979857e-06, ('r', 16, 'arrow', 22168), ('a', 16, 'arrow', 26950)), (9.365824553242419e-06, ('r', 16, 'input', 14619), ('a', 16, 'arrow', 26950)), (9.272104762203526e-06, ('r', 16, 'arrow', 25420), ('a', 16, 'arrow', 26950)), (9.169873919745442e-06, ('r', 16, 'arrow', 8695), ('a', 16, 'arrow', 26950)), (8.940999578044284e-06, ('r', 16, 'input', 5232), ('a', 16, 'arrow', 26950)), (8.259105925390031e-06, ('r', 16, 'arrow', 28952), ('a', 16, 'arrow', 26950)), (7.690877282584552e-06, ('r', 16, 'input', 1126), ('a', 16, 'arrow', 26950)), (7.600306616950547e-06, ('r', 16, 'output', 8078), ('a', 16, 'arrow', 26950)), (7.406010354316095e-06, ('r', 16, 'input', 28017), ('a', 16, 'arrow', 26950)), (7.295067916857079e-06, ('r', 16, 'input', 21343), ('a', 16, 'arrow', 26950)), (7.205359906947706e-06, ('r', 16, 'arrow', 25826), ('a', 16, 'arrow', 26950))]\n"
     ]
    },
    {
     "ename": "ZeroDivisionError",
     "evalue": "division by zero",
     "output_type": "error",
     "traceback": [
      "\u001b[0;31m---------------------------------------------------------------------------\u001b[0m",
      "\u001b[0;31mZeroDivisionError\u001b[0m                         Traceback (most recent call last)",
      "Cell \u001b[0;32mIn[36], line 36\u001b[0m\n\u001b[1;32m     34\u001b[0m             graph\u001b[38;5;241m.\u001b[39mextend([(weight,  key \u001b[38;5;241m+\u001b[39m (upstream_feature,), (\u001b[38;5;28mtype\u001b[39m[\u001b[38;5;241m1\u001b[39m], \u001b[38;5;28mtype\u001b[39m[\u001b[38;5;241m2\u001b[39m], \u001b[38;5;28mtype\u001b[39m[\u001b[38;5;241m0\u001b[39m], batch_features[elem],) ) \u001b[38;5;28;01mfor\u001b[39;00m weight, key, upstream_feature \u001b[38;5;129;01min\u001b[39;00m edges])\n\u001b[1;32m     35\u001b[0m             \u001b[38;5;28mprint\u001b[39m(graph)\n\u001b[0;32m---> 36\u001b[0m             \u001b[38;5;241;43m1\u001b[39;49m\u001b[38;5;241;43m/\u001b[39;49m\u001b[38;5;241;43m0\u001b[39;49m\n\u001b[1;32m     38\u001b[0m         \u001b[38;5;66;03m# # edges = circuitizer.compute_edges(*feature, mask, layer_window=1)\u001b[39;00m\n\u001b[1;32m     39\u001b[0m         \u001b[38;5;66;03m# graph.extend([(weight, feature, downstream_feature) for weight, _, downstream_feature in edges])\u001b[39;00m\n\u001b[1;32m     40\u001b[0m     \n\u001b[0;32m   (...)\u001b[0m\n\u001b[1;32m     71\u001b[0m \u001b[38;5;66;03m#     #     graph.extend([(weight, upstream_feature_key + (upstream_feature,), downstream_feature[:2] + (mask,) + downstream_feature[2:])\u001b[39;00m\n\u001b[1;32m     72\u001b[0m \u001b[38;5;66;03m#     #                   for weight, upstream_feature_key, upstream_feature in edges])\u001b[39;00m\n",
      "\u001b[0;31mZeroDivisionError\u001b[0m: division by zero"
     ]
    }
   ],
   "source": [
    "from tqdm.auto import trange\n",
    "import jax.numpy as jnp\n",
    "graph = []\n",
    "\n",
    "batch_size = 16\n",
    "k = 32\n",
    "for type, features in tqdm(sorted(flat_feats.items(), key=lambda x: (-x[0][-1], x[0][-2], x[0][-3]))):\n",
    "    mask, feature_type, layer = type\n",
    "    mask = jnp.array(list(circuitizer.masks.keys()).index(mask))\n",
    "    for batch in trange(0, len(features), batch_size, postfix=str(type)):\n",
    "        batch_features = features[batch:batch+batch_size]\n",
    "        orig_length = len(batch_features)\n",
    "        batch_features = batch_features + [0] * (batch_size - len(batch_features))\n",
    "        feature_effectss = jax.vmap(lambda x: circuitizer.compute_feature_effects(feature_type, layer, x, mask, layer_window=1))(jnp.asarray(batch_features))\n",
    "        # feature_effectss = circuitizer.compute_feature_effects(feature_type, layer, batch_features, mask, layer_window=1)\n",
    "        top_effects = defaultdict(list)\n",
    "        for key, featuress in feature_effectss.items():\n",
    "            for elem, feature_effects in enumerate(featuress):\n",
    "                if elem >= orig_length:\n",
    "                    continue\n",
    "                if feature_effects.ndim == 0:\n",
    "                    top_effects[elem].append((float(feature_effects), key, 0))\n",
    "                    continue\n",
    "                effects, indices = jax.lax.top_k(jnp.abs(feature_effects), k)\n",
    "                for i, e in zip(indices.tolist(), effects.tolist()):\n",
    "                    top_effects[elem].append((e, key, i))\n",
    "        for elem, effects in top_effects.items():\n",
    "            effects.sort(reverse=True)\n",
    "            edges = effects[:k]\n",
    "            graph.extend([(weight,  key + (upstream_feature,), (type[1], type[2], type[0], batch_features[elem],) ) for weight, key, upstream_feature in edges])\n",
    "        \n",
    "        # # edges = circuitizer.compute_edges(*feature, mask, layer_window=1)\n",
    "        # graph.extend([(weight, feature, downstream_feature) for weight, _, downstream_feature in edges])\n",
    "    \n",
    "        # for feature in tqdm(batch_features):\n",
    "        #     feature_effects = circuitizer.compute_feature_effects(feature_type, layer, feature, mask, layer_window=1)\n",
    "        #     top_effects = []\n",
    "        #     for key, features in feature_effects.items():\n",
    "        #         if features.ndim == 0:\n",
    "        #             top_effects.append((float(features), key, 0))\n",
    "        #             continue\n",
    "        #         effects, indices = jax.lax.top_k(jnp.abs(features), k)\n",
    "        #         for i, e in zip(indices.tolist(), effects.tolist()):\n",
    "        #             top_effects.append((e, key, i))\n",
    "        #     top_effects.sort(reverse=True)\n",
    "        #     edges = top_effects[:k]\n",
    "            \n",
    "        #     # edges = circuitizer.compute_edges(*feature, mask, layer_window=1)\n",
    "        #     graph.extend([(weight, feature, downstream_feature) for weight, _, downstream_feature in edges])\n",
    "\n",
    "\n",
    "\n",
    "# for mask, features in tqdm(important_feats_masks.items()):\n",
    "#     for batch in trange(0, len(features), batch_size):\n",
    "#         batch_features = features[batch:batch+batch_size]\n",
    "        \n",
    "        \n",
    "#         for feature in tqdm(batch_features):\n",
    "#             # edges = circuitizer.compute_edges(*feature, mask, layer_window=1)\n",
    "#             graph.extend([(weight, feature, downstream_feature) for weight, _, downstream_feature in edges])\n",
    "\n",
    "\n",
    "#     # for downstream_feature in tqdm(features):\n",
    "#     #     edges = compute_edges(downstream_feature, mask, layer_window=1)\n",
    "#     #     graph.extend([(weight, upstream_feature_key + (upstream_feature,), downstream_feature[:2] + (mask,) + downstream_feature[2:])\n",
    "#     #                   for weight, upstream_feature_key, upstream_feature in edges])"
   ]
  },
  {
   "cell_type": "code",
   "execution_count": 37,
   "metadata": {},
   "outputs": [
    {
     "data": {
      "text/html": [
       "<script> (()=>{ if (customElements.get('treescope-container') === undefined) { class TreescopeContainer extends HTMLElement { constructor() { super(); this.attachShadow({mode: \"open\"}); this.defns = {}; this.state = {}; } } customElements.define(\"treescope-container\", TreescopeContainer); } if (customElements.get('treescope-run-here') === undefined) { class RunHere extends HTMLElement { constructor() { super() } connectedCallback() { const run = child => { const fn = new Function(child.textContent); child.textContent = \"\"; fn.call(this); this.remove(); }; const child = this.querySelector(\"script\"); if (child) { run(child); } else { new MutationObserver(()=>{ run(this.querySelector(\"script\")); }).observe(this, {childList: true}); } } } customElements.define(\"treescope-run-here\", RunHere); } })(); </script> <treescope-container class=\"treescope_out_a8b7216ceca04b2eac50770d71bef7eb\" ></treescope-container> <treescope-run-here><script type=\"application/octet-stream\"> const root = ( Array.from(document.getElementsByClassName( \"treescope_out_a8b7216ceca04b2eac50770d71bef7eb\")) .filter((elt) => !elt.dataset.setup) )[0]; root.dataset.setup = 1; const msg = document.createElement(\"span\"); msg.style = \"color: #aaaaaa; font-family: monospace; transition: opacity 0.2s; opacity: 0.0;\"; msg.textContent = \"(Loading...)\"; root.state.loadingMsg = msg; root.shadowRoot.appendChild(msg); root.state.chain = new Promise((resolve, reject) => { const observer = new IntersectionObserver((entries) => { for (const entry of entries) { if (entry.isIntersecting) { resolve(); observer.disconnect(); return; } } }, {rootMargin: \"1000px\"}); window.setTimeout(() => { if (root.loadingMsg) { root.loadingMsg.style.opacity = \"1.0\"; } observer.observe(root); }, 0); }); root.state.deferring = false; const _insertNode = (node) => { for (let oldScript of node.querySelectorAll(\"script\")) { let newScript = document.createElement(\"script\"); newScript.type = oldScript.type; newScript.textContent = oldScript.textContent; oldScript.parentNode.replaceChild(newScript, oldScript); } if (root.state.loadingMsg) { root.state.loadingMsg.remove(); root.state.loadingMsg = null; } root.shadowRoot.appendChild(node); }; root.defns.insertContent = ((contentNode, compressed) => { if (compressed) { root.state.deferring = true; } if (root.state.deferring) { root.state.chain = (async () => { await root.state.chain; if (compressed) { const encoded = contentNode.textContent; const blob = new Blob([ Uint8Array.from(atob(encoded), (m) => m.codePointAt(0)) ]); const reader = blob.stream().pipeThrough( new DecompressionStream(\"deflate\") ).pipeThrough( new TextDecoderStream(\"utf-8\") ).getReader(); const parts = []; while (true) { const step = await reader.read(); if (step.done) { break; } parts.push(step.value); } const tpl = document.createElement('template'); tpl.innerHTML = parts.join(\"\"); _insertNode(tpl.content); } else { _insertNode(contentNode.content); } })(); } else { _insertNode(contentNode.content); } }); </script></treescope-run-here><div style=\"display:none\"> <script type=\"application/octet-stream\" >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</script> <treescope-run-here><script type=\"application/octet-stream\"> const root = ( Array.from(document.getElementsByClassName( \"treescope_out_a8b7216ceca04b2eac50770d71bef7eb\")) .filter((elt) => !elt.dataset['step0']) )[0]; root.dataset['step0'] = 1; root.defns.insertContent( this.parentNode.querySelector('script[type=\"application/octet-stream\"]'), true ); this.parentNode.remove(); </script></treescope-run-here> </div>"
      ],
      "text/plain": [
       "<IPython.core.display.HTML object>"
      ]
     },
     "metadata": {},
     "output_type": "display_data"
    },
    {
     "data": {
      "text/html": [
       "<treescope-run-here><script type=\"application/octet-stream\"> const root = ( Array.from(document.getElementsByClassName( \"treescope_out_a8b7216ceca04b2eac50770d71bef7eb\")) .filter((elt) => !elt.dataset.stolen) )[0]; root.dataset.stolen = 1; this.parentNode.replaceChild(root, this); </script></treescope-run-here>"
      ],
      "text/plain": [
       "(11, 'arrow', 'a', 23594, 0.41276583075523376)"
      ]
     },
     "execution_count": 37,
     "metadata": {},
     "output_type": "execute_result"
    }
   ],
   "source": [
    "combined_ies[0]"
   ]
  },
  {
   "cell_type": "code",
   "execution_count": null,
   "metadata": {},
   "outputs": [],
   "source": [
    "sorted_graph = sorted(graph, reverse=True, key=lambda x: x[0])"
   ]
  }
 ],
 "metadata": {
  "kernelspec": {
   "display_name": "micrlhf-progress-_SD4q1c9-py3.12",
   "language": "python",
   "name": "python3"
  },
  "language_info": {
   "codemirror_mode": {
    "name": "ipython",
    "version": 3
   },
   "file_extension": ".py",
   "mimetype": "text/x-python",
   "name": "python",
   "nbconvert_exporter": "python",
   "pygments_lexer": "ipython3",
   "version": "3.10.12"
  }
 },
 "nbformat": 4,
 "nbformat_minor": 2
}
