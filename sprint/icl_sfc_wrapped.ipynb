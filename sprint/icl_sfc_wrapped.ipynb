{
 "cells": [
  {
   "cell_type": "code",
   "execution_count": null,
   "metadata": {},
   "outputs": [],
   "source": [
    "thresholds = np.linspace(1e-7, 1e-5, 100)\n",
    "topks = [4, 6, 12, 16, 24, 32]"
   ]
  },
  {
   "cell_type": "code",
   "execution_count": null,
   "metadata": {},
   "outputs": [],
   "source": []
  },
  {
   "cell_type": "code",
   "execution_count": null,
   "metadata": {},
   "outputs": [],
   "source": [
    "ablated_metrics, n_nodes_counts = circuitizer.run_ablated_metrics(thresholds, topks)"
   ]
  },
  {
   "cell_type": "code",
   "execution_count": null,
   "metadata": {},
   "outputs": [],
   "source": [
    "target_metric = (max(ablated_metrics) - min(ablated_metrics)) * 0.95 + min(ablated_metrics)\n",
    "target_threshold = [threshold for threshold, metric in reversed(list(zip(thresholds, ablated_metrics))) if metric > target_metric][0]"
   ]
  },
  {
   "cell_type": "code",
   "execution_count": null,
   "metadata": {},
   "outputs": [],
   "source": []
  },
  {
   "cell_type": "code",
   "execution_count": null,
   "metadata": {},
   "outputs": [],
   "source": []
  },
  {
   "cell_type": "code",
   "execution_count": null,
   "metadata": {},
   "outputs": [],
   "source": []
  },
  {
   "cell_type": "code",
   "execution_count": null,
   "metadata": {},
   "outputs": [],
   "source": []
  },
  {
   "cell_type": "code",
   "execution_count": null,
   "metadata": {},
   "outputs": [],
   "source": []
  },
  {
   "cell_type": "code",
   "execution_count": null,
   "metadata": {},
   "outputs": [],
   "source": []
  },
  {
   "cell_type": "code",
   "execution_count": null,
   "metadata": {},
   "outputs": [],
   "source": []
  },
  {
   "cell_type": "code",
   "execution_count": 56,
   "metadata": {},
   "outputs": [
    {
     "data": {
      "application/vnd.jupyter.widget-view+json": {
       "model_id": "e9d1391ebe194c09be58317eb6f0fdf1",
       "version_major": 2,
       "version_minor": 0
      },
      "text/plain": [
       "  0%|          | 0/320 [00:00<?, ?it/s]"
      ]
     },
     "metadata": {},
     "output_type": "display_data"
    },
    {
     "data": {
      "application/vnd.jupyter.widget-view+json": {
       "model_id": "e4a678311adc4af58446b1736f78e3e9",
       "version_major": 2,
       "version_minor": 0
      },
      "text/plain": [
       "  0%|          | 0/90 [00:00<?, ?it/s, ('arrow', 'a', 16)]"
      ]
     },
     "metadata": {},
     "output_type": "display_data"
    },
    {
     "data": {
      "application/vnd.jupyter.widget-view+json": {
       "model_id": "74a22aa58ac54a579cd90f5e7d525a80",
       "version_major": 2,
       "version_minor": 0
      },
      "text/plain": [
       "  0%|          | 0/19 [00:00<?, ?it/s, ('input', 'a', 16)]"
      ]
     },
     "metadata": {},
     "output_type": "display_data"
    },
    {
     "data": {
      "application/vnd.jupyter.widget-view+json": {
       "model_id": "61b4be0ec7d34c5d845180a3663e64c4",
       "version_major": 2,
       "version_minor": 0
      },
      "text/plain": [
       "  0%|          | 0/16 [00:00<?, ?it/s, ('newline', 'a', 16)]"
      ]
     },
     "metadata": {},
     "output_type": "display_data"
    },
    {
     "data": {
      "application/vnd.jupyter.widget-view+json": {
       "model_id": "7a46ac87f0fa4f46b4220567ed923626",
       "version_major": 2,
       "version_minor": 0
      },
      "text/plain": [
       "  0%|          | 0/64 [00:00<?, ?it/s, ('output', 'a', 16)]"
      ]
     },
     "metadata": {},
     "output_type": "display_data"
    },
    {
     "data": {
      "application/vnd.jupyter.widget-view+json": {
       "model_id": "af146a7b372b42cb99f2d7a9fbed6446",
       "version_major": 2,
       "version_minor": 0
      },
      "text/plain": [
       "  0%|          | 0/7 [00:00<?, ?it/s, ('prompt', 'a', 16)]"
      ]
     },
     "metadata": {},
     "output_type": "display_data"
    },
    {
     "data": {
      "application/vnd.jupyter.widget-view+json": {
       "model_id": "504f3e879cdc49c8a464a41dbff03a27",
       "version_major": 2,
       "version_minor": 0
      },
      "text/plain": [
       "  0%|          | 0/1 [00:00<?, ?it/s, ('arrow', 'ea', 16)]"
      ]
     },
     "metadata": {},
     "output_type": "display_data"
    },
    {
     "data": {
      "application/vnd.jupyter.widget-view+json": {
       "model_id": "114c0123d9a84639abaa17bce3cf0936",
       "version_major": 2,
       "version_minor": 0
      },
      "text/plain": [
       "  0%|          | 0/1 [00:00<?, ?it/s, ('input', 'ea', 16)]"
      ]
     },
     "metadata": {},
     "output_type": "display_data"
    },
    {
     "data": {
      "application/vnd.jupyter.widget-view+json": {
       "model_id": "f824ca3f9d9141e39c23fc752d59062d",
       "version_major": 2,
       "version_minor": 0
      },
      "text/plain": [
       "  0%|          | 0/1 [00:00<?, ?it/s, ('newline', 'ea', 16)]"
      ]
     },
     "metadata": {},
     "output_type": "display_data"
    },
    {
     "data": {
      "application/vnd.jupyter.widget-view+json": {
       "model_id": "94e0627a455a453ba2aaeab31ef90563",
       "version_major": 2,
       "version_minor": 0
      },
      "text/plain": [
       "  0%|          | 0/1 [00:00<?, ?it/s, ('output', 'ea', 16)]"
      ]
     },
     "metadata": {},
     "output_type": "display_data"
    },
    {
     "data": {
      "application/vnd.jupyter.widget-view+json": {
       "model_id": "22dd98a571ea454bb2c25e993e56e2b1",
       "version_major": 2,
       "version_minor": 0
      },
      "text/plain": [
       "  0%|          | 0/1 [00:00<?, ?it/s, ('prompt', 'ea', 16)]"
      ]
     },
     "metadata": {},
     "output_type": "display_data"
    },
    {
     "data": {
      "application/vnd.jupyter.widget-view+json": {
       "model_id": "090ee3f152a0459992c363b9c5794c59",
       "version_major": 2,
       "version_minor": 0
      },
      "text/plain": [
       "  0%|          | 0/1 [00:00<?, ?it/s, ('arrow', 'er', 16)]"
      ]
     },
     "metadata": {},
     "output_type": "display_data"
    },
    {
     "data": {
      "application/vnd.jupyter.widget-view+json": {
       "model_id": "3407d7363db74a9687689027fd09d13a",
       "version_major": 2,
       "version_minor": 0
      },
      "text/plain": [
       "  0%|          | 0/1 [00:00<?, ?it/s, ('input', 'er', 16)]"
      ]
     },
     "metadata": {},
     "output_type": "display_data"
    },
    {
     "data": {
      "application/vnd.jupyter.widget-view+json": {
       "model_id": "c11f44df1d9c498ab2f42c7bd38e74b3",
       "version_major": 2,
       "version_minor": 0
      },
      "text/plain": [
       "  0%|          | 0/1 [00:00<?, ?it/s, ('newline', 'er', 16)]"
      ]
     },
     "metadata": {},
     "output_type": "display_data"
    },
    {
     "data": {
      "application/vnd.jupyter.widget-view+json": {
       "model_id": "0f52e9ec6ea040b1befff9a0cff555ad",
       "version_major": 2,
       "version_minor": 0
      },
      "text/plain": [
       "  0%|          | 0/1 [00:00<?, ?it/s, ('output', 'er', 16)]"
      ]
     },
     "metadata": {},
     "output_type": "display_data"
    },
    {
     "data": {
      "application/vnd.jupyter.widget-view+json": {
       "model_id": "79d1b3b77a7b45a19c31c1824affb437",
       "version_major": 2,
       "version_minor": 0
      },
      "text/plain": [
       "  0%|          | 0/1 [00:00<?, ?it/s, ('prompt', 'er', 16)]"
      ]
     },
     "metadata": {},
     "output_type": "display_data"
    },
    {
     "data": {
      "application/vnd.jupyter.widget-view+json": {
       "model_id": "823c6cdf853f485d85643b0e5ca58313",
       "version_major": 2,
       "version_minor": 0
      },
      "text/plain": [
       "  0%|          | 0/33 [00:00<?, ?it/s, ('arrow', 'r', 16)]"
      ]
     },
     "metadata": {},
     "output_type": "display_data"
    },
    {
     "data": {
      "application/vnd.jupyter.widget-view+json": {
       "model_id": "d7051a5de5c140528f923ccd83a30ba8",
       "version_major": 2,
       "version_minor": 0
      },
      "text/plain": [
       "  0%|          | 0/17 [00:00<?, ?it/s, ('input', 'r', 16)]"
      ]
     },
     "metadata": {},
     "output_type": "display_data"
    },
    {
     "data": {
      "application/vnd.jupyter.widget-view+json": {
       "model_id": "fbdcc82bc4a84ff1a2289b72d9c1e012",
       "version_major": 2,
       "version_minor": 0
      },
      "text/plain": [
       "  0%|          | 0/7 [00:00<?, ?it/s, ('newline', 'r', 16)]"
      ]
     },
     "metadata": {},
     "output_type": "display_data"
    },
    {
     "data": {
      "application/vnd.jupyter.widget-view+json": {
       "model_id": "0bcf65efbee349c4a25e39a98184d485",
       "version_major": 2,
       "version_minor": 0
      },
      "text/plain": [
       "  0%|          | 0/16 [00:00<?, ?it/s, ('output', 'r', 16)]"
      ]
     },
     "metadata": {},
     "output_type": "display_data"
    },
    {
     "data": {
      "application/vnd.jupyter.widget-view+json": {
       "model_id": "0cc62c1d285c4558a4d0591814402023",
       "version_major": 2,
       "version_minor": 0
      },
      "text/plain": [
       "  0%|          | 0/5 [00:00<?, ?it/s, ('prompt', 'r', 16)]"
      ]
     },
     "metadata": {},
     "output_type": "display_data"
    },
    {
     "data": {
      "application/vnd.jupyter.widget-view+json": {
       "model_id": "75e9e76c4d2f4b8a85f62da4f6a9ea47",
       "version_major": 2,
       "version_minor": 0
      },
      "text/plain": [
       "  0%|          | 0/100 [00:00<?, ?it/s, ('arrow', 'a', 15)]"
      ]
     },
     "metadata": {},
     "output_type": "display_data"
    },
    {
     "data": {
      "application/vnd.jupyter.widget-view+json": {
       "model_id": "205ca5dc7266434781e9aadd5399eb3f",
       "version_major": 2,
       "version_minor": 0
      },
      "text/plain": [
       "  0%|          | 0/26 [00:00<?, ?it/s, ('input', 'a', 15)]"
      ]
     },
     "metadata": {},
     "output_type": "display_data"
    },
    {
     "data": {
      "application/vnd.jupyter.widget-view+json": {
       "model_id": "f3e89969cc8245abbd829f8752bfabd9",
       "version_major": 2,
       "version_minor": 0
      },
      "text/plain": [
       "  0%|          | 0/21 [00:00<?, ?it/s, ('newline', 'a', 15)]"
      ]
     },
     "metadata": {},
     "output_type": "display_data"
    },
    {
     "data": {
      "application/vnd.jupyter.widget-view+json": {
       "model_id": "718c166b959d4de2bd71ea952a443877",
       "version_major": 2,
       "version_minor": 0
      },
      "text/plain": [
       "  0%|          | 0/32 [00:00<?, ?it/s, ('output', 'a', 15)]"
      ]
     },
     "metadata": {},
     "output_type": "display_data"
    },
    {
     "data": {
      "application/vnd.jupyter.widget-view+json": {
       "model_id": "91473413df7c4f88bf7734e5431b6934",
       "version_major": 2,
       "version_minor": 0
      },
      "text/plain": [
       "  0%|          | 0/26 [00:00<?, ?it/s, ('prompt', 'a', 15)]"
      ]
     },
     "metadata": {},
     "output_type": "display_data"
    },
    {
     "data": {
      "application/vnd.jupyter.widget-view+json": {
       "model_id": "6e8da2a2063c45729c6c9b681cb55721",
       "version_major": 2,
       "version_minor": 0
      },
      "text/plain": [
       "  0%|          | 0/1 [00:00<?, ?it/s, ('arrow', 'ea', 15)]"
      ]
     },
     "metadata": {},
     "output_type": "display_data"
    },
    {
     "data": {
      "application/vnd.jupyter.widget-view+json": {
       "model_id": "491a06b8516a48538c50132f521ee520",
       "version_major": 2,
       "version_minor": 0
      },
      "text/plain": [
       "  0%|          | 0/1 [00:00<?, ?it/s, ('input', 'ea', 15)]"
      ]
     },
     "metadata": {},
     "output_type": "display_data"
    },
    {
     "data": {
      "application/vnd.jupyter.widget-view+json": {
       "model_id": "e4b2617d10a04394b069b5e5101c78f7",
       "version_major": 2,
       "version_minor": 0
      },
      "text/plain": [
       "  0%|          | 0/1 [00:00<?, ?it/s, ('newline', 'ea', 15)]"
      ]
     },
     "metadata": {},
     "output_type": "display_data"
    },
    {
     "data": {
      "application/vnd.jupyter.widget-view+json": {
       "model_id": "5366884d6fde4c8a82a3fdb405f77665",
       "version_major": 2,
       "version_minor": 0
      },
      "text/plain": [
       "  0%|          | 0/1 [00:00<?, ?it/s, ('output', 'ea', 15)]"
      ]
     },
     "metadata": {},
     "output_type": "display_data"
    },
    {
     "data": {
      "application/vnd.jupyter.widget-view+json": {
       "model_id": "38c36c08baa64ce2bce7269abc4595f9",
       "version_major": 2,
       "version_minor": 0
      },
      "text/plain": [
       "  0%|          | 0/1 [00:00<?, ?it/s, ('prompt', 'ea', 15)]"
      ]
     },
     "metadata": {},
     "output_type": "display_data"
    },
    {
     "data": {
      "application/vnd.jupyter.widget-view+json": {
       "model_id": "cad37ef59a2540a2a2ed74388f27bfc4",
       "version_major": 2,
       "version_minor": 0
      },
      "text/plain": [
       "  0%|          | 0/1 [00:00<?, ?it/s, ('arrow', 'er', 15)]"
      ]
     },
     "metadata": {},
     "output_type": "display_data"
    },
    {
     "data": {
      "application/vnd.jupyter.widget-view+json": {
       "model_id": "9453c4a481914e28ab90e5eda36de2b2",
       "version_major": 2,
       "version_minor": 0
      },
      "text/plain": [
       "  0%|          | 0/1 [00:00<?, ?it/s, ('input', 'er', 15)]"
      ]
     },
     "metadata": {},
     "output_type": "display_data"
    },
    {
     "data": {
      "application/vnd.jupyter.widget-view+json": {
       "model_id": "006fc38f2750476986612d8a34cb40f3",
       "version_major": 2,
       "version_minor": 0
      },
      "text/plain": [
       "  0%|          | 0/1 [00:00<?, ?it/s, ('newline', 'er', 15)]"
      ]
     },
     "metadata": {},
     "output_type": "display_data"
    },
    {
     "data": {
      "application/vnd.jupyter.widget-view+json": {
       "model_id": "d1b945a35d4e4d019e9b0d462dd0fea7",
       "version_major": 2,
       "version_minor": 0
      },
      "text/plain": [
       "  0%|          | 0/1 [00:00<?, ?it/s, ('output', 'er', 15)]"
      ]
     },
     "metadata": {},
     "output_type": "display_data"
    },
    {
     "data": {
      "application/vnd.jupyter.widget-view+json": {
       "model_id": "13a38464468345d4adc580af136da3a3",
       "version_major": 2,
       "version_minor": 0
      },
      "text/plain": [
       "  0%|          | 0/1 [00:00<?, ?it/s, ('prompt', 'er', 15)]"
      ]
     },
     "metadata": {},
     "output_type": "display_data"
    },
    {
     "data": {
      "application/vnd.jupyter.widget-view+json": {
       "model_id": "a4cf3013b9ff48bbbb97c47058b417c2",
       "version_major": 2,
       "version_minor": 0
      },
      "text/plain": [
       "  0%|          | 0/1 [00:00<?, ?it/s, ('arrow', 'et', 15)]"
      ]
     },
     "metadata": {},
     "output_type": "display_data"
    },
    {
     "data": {
      "application/vnd.jupyter.widget-view+json": {
       "model_id": "1dfef5b8ffcc4c849859d2283c02c8f7",
       "version_major": 2,
       "version_minor": 0
      },
      "text/plain": [
       "  0%|          | 0/1 [00:00<?, ?it/s, ('input', 'et', 15)]"
      ]
     },
     "metadata": {},
     "output_type": "display_data"
    },
    {
     "data": {
      "application/vnd.jupyter.widget-view+json": {
       "model_id": "07c843c835cb40a287b49dd2dd624d56",
       "version_major": 2,
       "version_minor": 0
      },
      "text/plain": [
       "  0%|          | 0/1 [00:00<?, ?it/s, ('newline', 'et', 15)]"
      ]
     },
     "metadata": {},
     "output_type": "display_data"
    },
    {
     "data": {
      "application/vnd.jupyter.widget-view+json": {
       "model_id": "c3e03f68bb14428e88ad4a36ef05e4bf",
       "version_major": 2,
       "version_minor": 0
      },
      "text/plain": [
       "  0%|          | 0/1 [00:00<?, ?it/s, ('output', 'et', 15)]"
      ]
     },
     "metadata": {},
     "output_type": "display_data"
    },
    {
     "data": {
      "application/vnd.jupyter.widget-view+json": {
       "model_id": "1c8f155570c34f30bc9dabf7b5321b18",
       "version_major": 2,
       "version_minor": 0
      },
      "text/plain": [
       "  0%|          | 0/1 [00:00<?, ?it/s, ('prompt', 'et', 15)]"
      ]
     },
     "metadata": {},
     "output_type": "display_data"
    },
    {
     "data": {
      "application/vnd.jupyter.widget-view+json": {
       "model_id": "45b6d343529a4ae583ff462f2cac487c",
       "version_major": 2,
       "version_minor": 0
      },
      "text/plain": [
       "  0%|          | 0/35 [00:00<?, ?it/s, ('arrow', 'r', 15)]"
      ]
     },
     "metadata": {},
     "output_type": "display_data"
    },
    {
     "data": {
      "application/vnd.jupyter.widget-view+json": {
       "model_id": "eae781d24e474ba38127fdb8ea59db91",
       "version_major": 2,
       "version_minor": 0
      },
      "text/plain": [
       "  0%|          | 0/34 [00:00<?, ?it/s, ('input', 'r', 15)]"
      ]
     },
     "metadata": {},
     "output_type": "display_data"
    },
    {
     "data": {
      "application/vnd.jupyter.widget-view+json": {
       "model_id": "36a8afeb0c1a4943a635b720269f5e49",
       "version_major": 2,
       "version_minor": 0
      },
      "text/plain": [
       "  0%|          | 0/7 [00:00<?, ?it/s, ('newline', 'r', 15)]"
      ]
     },
     "metadata": {},
     "output_type": "display_data"
    },
    {
     "data": {
      "application/vnd.jupyter.widget-view+json": {
       "model_id": "844c4c8f33e0434e8c49d5a6c9492ebb",
       "version_major": 2,
       "version_minor": 0
      },
      "text/plain": [
       "  0%|          | 0/24 [00:00<?, ?it/s, ('output', 'r', 15)]"
      ]
     },
     "metadata": {},
     "output_type": "display_data"
    },
    {
     "data": {
      "application/vnd.jupyter.widget-view+json": {
       "model_id": "8b6dabdd24284c39802124e94d3b2931",
       "version_major": 2,
       "version_minor": 0
      },
      "text/plain": [
       "  0%|          | 0/8 [00:00<?, ?it/s, ('prompt', 'r', 15)]"
      ]
     },
     "metadata": {},
     "output_type": "display_data"
    },
    {
     "data": {
      "application/vnd.jupyter.widget-view+json": {
       "model_id": "d0a863e96812447781f60e4bc8a1822e",
       "version_major": 2,
       "version_minor": 0
      },
      "text/plain": [
       "  0%|          | 0/12 [00:00<?, ?it/s, ('arrow', 't', 15)]"
      ]
     },
     "metadata": {},
     "output_type": "display_data"
    },
    {
     "data": {
      "application/vnd.jupyter.widget-view+json": {
       "model_id": "a162808b5fa14a7ca0602d24656d34ef",
       "version_major": 2,
       "version_minor": 0
      },
      "text/plain": [
       "  0%|          | 0/2 [00:00<?, ?it/s, ('input', 't', 15)]"
      ]
     },
     "metadata": {},
     "output_type": "display_data"
    },
    {
     "data": {
      "application/vnd.jupyter.widget-view+json": {
       "model_id": "ef6449210756441dabe569c157c9b68e",
       "version_major": 2,
       "version_minor": 0
      },
      "text/plain": [
       "  0%|          | 0/1 [00:00<?, ?it/s, ('newline', 't', 15)]"
      ]
     },
     "metadata": {},
     "output_type": "display_data"
    },
    {
     "data": {
      "application/vnd.jupyter.widget-view+json": {
       "model_id": "2f210935d6ff41c4926b5668803ed126",
       "version_major": 2,
       "version_minor": 0
      },
      "text/plain": [
       "  0%|          | 0/1 [00:00<?, ?it/s, ('output', 't', 15)]"
      ]
     },
     "metadata": {},
     "output_type": "display_data"
    },
    {
     "data": {
      "application/vnd.jupyter.widget-view+json": {
       "model_id": "5555b1966a5f405a8ce9a8636d5b5754",
       "version_major": 2,
       "version_minor": 0
      },
      "text/plain": [
       "  0%|          | 0/1 [00:00<?, ?it/s, ('prompt', 't', 15)]"
      ]
     },
     "metadata": {},
     "output_type": "display_data"
    },
    {
     "data": {
      "application/vnd.jupyter.widget-view+json": {
       "model_id": "d7a9c940b79e4902bf9bc6b960e07712",
       "version_major": 2,
       "version_minor": 0
      },
      "text/plain": [
       "  0%|          | 0/57 [00:00<?, ?it/s, ('arrow', 'a', 14)]"
      ]
     },
     "metadata": {},
     "output_type": "display_data"
    },
    {
     "data": {
      "application/vnd.jupyter.widget-view+json": {
       "model_id": "c4212f4502094ee7b2e1d42580ee265b",
       "version_major": 2,
       "version_minor": 0
      },
      "text/plain": [
       "  0%|          | 0/55 [00:00<?, ?it/s, ('input', 'a', 14)]"
      ]
     },
     "metadata": {},
     "output_type": "display_data"
    },
    {
     "data": {
      "application/vnd.jupyter.widget-view+json": {
       "model_id": "3b2fabc32928449d90820f07deaeefb4",
       "version_major": 2,
       "version_minor": 0
      },
      "text/plain": [
       "  0%|          | 0/15 [00:00<?, ?it/s, ('newline', 'a', 14)]"
      ]
     },
     "metadata": {},
     "output_type": "display_data"
    },
    {
     "data": {
      "application/vnd.jupyter.widget-view+json": {
       "model_id": "76fa1df1f3b247a7b55383d83ad7e75b",
       "version_major": 2,
       "version_minor": 0
      },
      "text/plain": [
       "  0%|          | 0/54 [00:00<?, ?it/s, ('output', 'a', 14)]"
      ]
     },
     "metadata": {},
     "output_type": "display_data"
    },
    {
     "data": {
      "application/vnd.jupyter.widget-view+json": {
       "model_id": "a03635264fc14e2588986cbfdd42f825",
       "version_major": 2,
       "version_minor": 0
      },
      "text/plain": [
       "  0%|          | 0/9 [00:00<?, ?it/s, ('prompt', 'a', 14)]"
      ]
     },
     "metadata": {},
     "output_type": "display_data"
    },
    {
     "data": {
      "application/vnd.jupyter.widget-view+json": {
       "model_id": "67f917d9dcea41b5a20be2fa43b6324b",
       "version_major": 2,
       "version_minor": 0
      },
      "text/plain": [
       "  0%|          | 0/1 [00:00<?, ?it/s, ('arrow', 'ea', 14)]"
      ]
     },
     "metadata": {},
     "output_type": "display_data"
    },
    {
     "data": {
      "application/vnd.jupyter.widget-view+json": {
       "model_id": "773be88ff1c940a8961b996a38537429",
       "version_major": 2,
       "version_minor": 0
      },
      "text/plain": [
       "  0%|          | 0/1 [00:00<?, ?it/s, ('input', 'ea', 14)]"
      ]
     },
     "metadata": {},
     "output_type": "display_data"
    },
    {
     "data": {
      "application/vnd.jupyter.widget-view+json": {
       "model_id": "a7d5fc666db44c9794c882caab8c9895",
       "version_major": 2,
       "version_minor": 0
      },
      "text/plain": [
       "  0%|          | 0/1 [00:00<?, ?it/s, ('newline', 'ea', 14)]"
      ]
     },
     "metadata": {},
     "output_type": "display_data"
    },
    {
     "data": {
      "application/vnd.jupyter.widget-view+json": {
       "model_id": "f0d6ebd356f14a47bf3443584985ecec",
       "version_major": 2,
       "version_minor": 0
      },
      "text/plain": [
       "  0%|          | 0/1 [00:00<?, ?it/s, ('output', 'ea', 14)]"
      ]
     },
     "metadata": {},
     "output_type": "display_data"
    },
    {
     "data": {
      "application/vnd.jupyter.widget-view+json": {
       "model_id": "7ee57cb74d2f44209a08b23a998b966a",
       "version_major": 2,
       "version_minor": 0
      },
      "text/plain": [
       "  0%|          | 0/1 [00:00<?, ?it/s, ('prompt', 'ea', 14)]"
      ]
     },
     "metadata": {},
     "output_type": "display_data"
    },
    {
     "data": {
      "application/vnd.jupyter.widget-view+json": {
       "model_id": "cc38a3ebd4cf4be29751dcb41d98d03e",
       "version_major": 2,
       "version_minor": 0
      },
      "text/plain": [
       "  0%|          | 0/1 [00:00<?, ?it/s, ('arrow', 'er', 14)]"
      ]
     },
     "metadata": {},
     "output_type": "display_data"
    },
    {
     "data": {
      "application/vnd.jupyter.widget-view+json": {
       "model_id": "285c52a6bd334cf8b40715e503f87cbf",
       "version_major": 2,
       "version_minor": 0
      },
      "text/plain": [
       "  0%|          | 0/1 [00:00<?, ?it/s, ('input', 'er', 14)]"
      ]
     },
     "metadata": {},
     "output_type": "display_data"
    },
    {
     "data": {
      "application/vnd.jupyter.widget-view+json": {
       "model_id": "5ba02d5dd7be4c6d8b46814ed91c61b2",
       "version_major": 2,
       "version_minor": 0
      },
      "text/plain": [
       "  0%|          | 0/1 [00:00<?, ?it/s, ('newline', 'er', 14)]"
      ]
     },
     "metadata": {},
     "output_type": "display_data"
    },
    {
     "data": {
      "application/vnd.jupyter.widget-view+json": {
       "model_id": "3163f027fd4c47c18c4e1a5efc24399c",
       "version_major": 2,
       "version_minor": 0
      },
      "text/plain": [
       "  0%|          | 0/1 [00:00<?, ?it/s, ('output', 'er', 14)]"
      ]
     },
     "metadata": {},
     "output_type": "display_data"
    },
    {
     "data": {
      "application/vnd.jupyter.widget-view+json": {
       "model_id": "4c58f2bd8e2240e6a9a7d70513c928ad",
       "version_major": 2,
       "version_minor": 0
      },
      "text/plain": [
       "  0%|          | 0/1 [00:00<?, ?it/s, ('prompt', 'er', 14)]"
      ]
     },
     "metadata": {},
     "output_type": "display_data"
    },
    {
     "data": {
      "application/vnd.jupyter.widget-view+json": {
       "model_id": "a9600e195a034c009b15a4e6dec79976",
       "version_major": 2,
       "version_minor": 0
      },
      "text/plain": [
       "  0%|          | 0/1 [00:00<?, ?it/s, ('arrow', 'et', 14)]"
      ]
     },
     "metadata": {},
     "output_type": "display_data"
    },
    {
     "data": {
      "application/vnd.jupyter.widget-view+json": {
       "model_id": "ccead82456bb4828afe66cf4a72811be",
       "version_major": 2,
       "version_minor": 0
      },
      "text/plain": [
       "  0%|          | 0/1 [00:00<?, ?it/s, ('input', 'et', 14)]"
      ]
     },
     "metadata": {},
     "output_type": "display_data"
    },
    {
     "data": {
      "application/vnd.jupyter.widget-view+json": {
       "model_id": "8e2e3c869bf94c9b9b09e43c0f0c721e",
       "version_major": 2,
       "version_minor": 0
      },
      "text/plain": [
       "  0%|          | 0/1 [00:00<?, ?it/s, ('newline', 'et', 14)]"
      ]
     },
     "metadata": {},
     "output_type": "display_data"
    },
    {
     "data": {
      "application/vnd.jupyter.widget-view+json": {
       "model_id": "9ccf747438884785a5c24e14e82e954f",
       "version_major": 2,
       "version_minor": 0
      },
      "text/plain": [
       "  0%|          | 0/1 [00:00<?, ?it/s, ('output', 'et', 14)]"
      ]
     },
     "metadata": {},
     "output_type": "display_data"
    },
    {
     "data": {
      "application/vnd.jupyter.widget-view+json": {
       "model_id": "1555779f85cd4ed1ba3871e7b61f2a68",
       "version_major": 2,
       "version_minor": 0
      },
      "text/plain": [
       "  0%|          | 0/1 [00:00<?, ?it/s, ('prompt', 'et', 14)]"
      ]
     },
     "metadata": {},
     "output_type": "display_data"
    },
    {
     "data": {
      "application/vnd.jupyter.widget-view+json": {
       "model_id": "296ce1f10f574c58982f5726a15223ff",
       "version_major": 2,
       "version_minor": 0
      },
      "text/plain": [
       "  0%|          | 0/30 [00:00<?, ?it/s, ('arrow', 'r', 14)]"
      ]
     },
     "metadata": {},
     "output_type": "display_data"
    },
    {
     "data": {
      "application/vnd.jupyter.widget-view+json": {
       "model_id": "850cae0d0469461a9dce915f6ed5335e",
       "version_major": 2,
       "version_minor": 0
      },
      "text/plain": [
       "  0%|          | 0/46 [00:00<?, ?it/s, ('input', 'r', 14)]"
      ]
     },
     "metadata": {},
     "output_type": "display_data"
    },
    {
     "data": {
      "application/vnd.jupyter.widget-view+json": {
       "model_id": "af3065dd3187463baa194c3cef6c78ed",
       "version_major": 2,
       "version_minor": 0
      },
      "text/plain": [
       "  0%|          | 0/11 [00:00<?, ?it/s, ('newline', 'r', 14)]"
      ]
     },
     "metadata": {},
     "output_type": "display_data"
    },
    {
     "data": {
      "application/vnd.jupyter.widget-view+json": {
       "model_id": "9f140f025fca4fccae699f27b8b16a15",
       "version_major": 2,
       "version_minor": 0
      },
      "text/plain": [
       "  0%|          | 0/42 [00:00<?, ?it/s, ('output', 'r', 14)]"
      ]
     },
     "metadata": {},
     "output_type": "display_data"
    },
    {
     "data": {
      "application/vnd.jupyter.widget-view+json": {
       "model_id": "7f9f1d28e49f4a89ade5313a085c48d1",
       "version_major": 2,
       "version_minor": 0
      },
      "text/plain": [
       "  0%|          | 0/8 [00:00<?, ?it/s, ('prompt', 'r', 14)]"
      ]
     },
     "metadata": {},
     "output_type": "display_data"
    },
    {
     "data": {
      "application/vnd.jupyter.widget-view+json": {
       "model_id": "8481609924414b0ca0e8e7ece9d8568b",
       "version_major": 2,
       "version_minor": 0
      },
      "text/plain": [
       "  0%|          | 0/17 [00:00<?, ?it/s, ('arrow', 't', 14)]"
      ]
     },
     "metadata": {},
     "output_type": "display_data"
    },
    {
     "data": {
      "application/vnd.jupyter.widget-view+json": {
       "model_id": "478fc9aec5d049e3bc146330c67aedde",
       "version_major": 2,
       "version_minor": 0
      },
      "text/plain": [
       "  0%|          | 0/2 [00:00<?, ?it/s, ('input', 't', 14)]"
      ]
     },
     "metadata": {},
     "output_type": "display_data"
    },
    {
     "data": {
      "application/vnd.jupyter.widget-view+json": {
       "model_id": "a79fe0e9f82e4f8283913e8c3d146aeb",
       "version_major": 2,
       "version_minor": 0
      },
      "text/plain": [
       "  0%|          | 0/1 [00:00<?, ?it/s, ('newline', 't', 14)]"
      ]
     },
     "metadata": {},
     "output_type": "display_data"
    },
    {
     "data": {
      "application/vnd.jupyter.widget-view+json": {
       "model_id": "a1810c934c5f4346a6a4e19e1859683f",
       "version_major": 2,
       "version_minor": 0
      },
      "text/plain": [
       "  0%|          | 0/1 [00:00<?, ?it/s, ('output', 't', 14)]"
      ]
     },
     "metadata": {},
     "output_type": "display_data"
    },
    {
     "data": {
      "application/vnd.jupyter.widget-view+json": {
       "model_id": "1d5d4d2768eb4803b7f8af7123d59fe7",
       "version_major": 2,
       "version_minor": 0
      },
      "text/plain": [
       "  0%|          | 0/1 [00:00<?, ?it/s, ('prompt', 't', 14)]"
      ]
     },
     "metadata": {},
     "output_type": "display_data"
    },
    {
     "data": {
      "application/vnd.jupyter.widget-view+json": {
       "model_id": "83ec3d3834b14238996e9de22e2dd3e3",
       "version_major": 2,
       "version_minor": 0
      },
      "text/plain": [
       "  0%|          | 0/120 [00:00<?, ?it/s, ('arrow', 'a', 13)]"
      ]
     },
     "metadata": {},
     "output_type": "display_data"
    },
    {
     "data": {
      "application/vnd.jupyter.widget-view+json": {
       "model_id": "a0e63756a6d7415ab03b4816f58c22b0",
       "version_major": 2,
       "version_minor": 0
      },
      "text/plain": [
       "  0%|          | 0/76 [00:00<?, ?it/s, ('input', 'a', 13)]"
      ]
     },
     "metadata": {},
     "output_type": "display_data"
    },
    {
     "ename": "KeyboardInterrupt",
     "evalue": "",
     "output_type": "error",
     "traceback": [
      "\u001b[0;31m---------------------------------------------------------------------------\u001b[0m",
      "\u001b[0;31mKeyboardInterrupt\u001b[0m                         Traceback (most recent call last)",
      "Cell \u001b[0;32mIn[56], line 14\u001b[0m\n\u001b[1;32m     12\u001b[0m orig_length \u001b[38;5;241m=\u001b[39m \u001b[38;5;28mlen\u001b[39m(batch_features)\n\u001b[1;32m     13\u001b[0m batch_features \u001b[38;5;241m=\u001b[39m batch_features \u001b[38;5;241m+\u001b[39m [\u001b[38;5;241m0\u001b[39m] \u001b[38;5;241m*\u001b[39m (batch_size \u001b[38;5;241m-\u001b[39m \u001b[38;5;28mlen\u001b[39m(batch_features))\n\u001b[0;32m---> 14\u001b[0m feature_effectss \u001b[38;5;241m=\u001b[39m \u001b[43mjax\u001b[49m\u001b[38;5;241;43m.\u001b[39;49m\u001b[43mvmap\u001b[49m\u001b[43m(\u001b[49m\u001b[38;5;28;43;01mlambda\u001b[39;49;00m\u001b[43m \u001b[49m\u001b[43mx\u001b[49m\u001b[43m:\u001b[49m\u001b[43m \u001b[49m\u001b[43mcircuitizer\u001b[49m\u001b[38;5;241;43m.\u001b[39;49m\u001b[43mcompute_feature_effects\u001b[49m\u001b[43m(\u001b[49m\u001b[43mfeature_type\u001b[49m\u001b[43m,\u001b[49m\u001b[43m \u001b[49m\u001b[43mlayer\u001b[49m\u001b[43m,\u001b[49m\u001b[43m \u001b[49m\u001b[43mx\u001b[49m\u001b[43m,\u001b[49m\u001b[43m \u001b[49m\u001b[43mmask\u001b[49m\u001b[43m,\u001b[49m\u001b[43m \u001b[49m\u001b[43mlayer_window\u001b[49m\u001b[38;5;241;43m=\u001b[39;49m\u001b[38;5;241;43m1\u001b[39;49m\u001b[43m)\u001b[49m\u001b[43m)\u001b[49m\u001b[43m(\u001b[49m\u001b[43mjnp\u001b[49m\u001b[38;5;241;43m.\u001b[39;49m\u001b[43masarray\u001b[49m\u001b[43m(\u001b[49m\u001b[43mbatch_features\u001b[49m\u001b[43m)\u001b[49m\u001b[43m)\u001b[49m\n\u001b[1;32m     15\u001b[0m \u001b[38;5;66;03m# feature_effectss = circuitizer.compute_feature_effects(feature_type, layer, batch_features, mask, layer_window=1)\u001b[39;00m\n\u001b[1;32m     17\u001b[0m top_effects \u001b[38;5;241m=\u001b[39m defaultdict(\u001b[38;5;28mlist\u001b[39m)\n",
      "    \u001b[0;31m[... skipping hidden 1 frame]\u001b[0m\n",
      "File \u001b[0;32m~/.cache/pypoetry/virtualenvs/micrlhf-progress-_SD4q1c9-py3.12/lib/python3.12/site-packages/jax/_src/api.py:1214\u001b[0m, in \u001b[0;36mvmap.<locals>.vmap_f\u001b[0;34m(*args, **kwargs)\u001b[0m\n\u001b[1;32m   1211\u001b[0m in_axes_flat \u001b[38;5;241m=\u001b[39m flatten_axes(\u001b[38;5;124m\"\u001b[39m\u001b[38;5;124mvmap in_axes\u001b[39m\u001b[38;5;124m\"\u001b[39m, in_tree, (in_axes, \u001b[38;5;241m0\u001b[39m), kws\u001b[38;5;241m=\u001b[39m\u001b[38;5;28;01mTrue\u001b[39;00m)\n\u001b[1;32m   1212\u001b[0m axis_size_ \u001b[38;5;241m=\u001b[39m (axis_size \u001b[38;5;28;01mif\u001b[39;00m axis_size \u001b[38;5;129;01mis\u001b[39;00m \u001b[38;5;129;01mnot\u001b[39;00m \u001b[38;5;28;01mNone\u001b[39;00m \u001b[38;5;28;01melse\u001b[39;00m\n\u001b[1;32m   1213\u001b[0m               _mapped_axis_size(fun, in_tree, args_flat, in_axes_flat, \u001b[38;5;124m\"\u001b[39m\u001b[38;5;124mvmap\u001b[39m\u001b[38;5;124m\"\u001b[39m))\n\u001b[0;32m-> 1214\u001b[0m out_flat \u001b[38;5;241m=\u001b[39m \u001b[43mbatching\u001b[49m\u001b[38;5;241;43m.\u001b[39;49m\u001b[43mbatch\u001b[49m\u001b[43m(\u001b[49m\n\u001b[1;32m   1215\u001b[0m \u001b[43m    \u001b[49m\u001b[43mflat_fun\u001b[49m\u001b[43m,\u001b[49m\u001b[43m \u001b[49m\u001b[43maxis_name\u001b[49m\u001b[43m,\u001b[49m\u001b[43m \u001b[49m\u001b[43maxis_size_\u001b[49m\u001b[43m,\u001b[49m\u001b[43m \u001b[49m\u001b[43min_axes_flat\u001b[49m\u001b[43m,\u001b[49m\n\u001b[1;32m   1216\u001b[0m \u001b[43m    \u001b[49m\u001b[38;5;28;43;01mlambda\u001b[39;49;00m\u001b[43m:\u001b[49m\u001b[43m \u001b[49m\u001b[43mflatten_axes\u001b[49m\u001b[43m(\u001b[49m\u001b[38;5;124;43m\"\u001b[39;49m\u001b[38;5;124;43mvmap out_axes\u001b[39;49m\u001b[38;5;124;43m\"\u001b[39;49m\u001b[43m,\u001b[49m\u001b[43m \u001b[49m\u001b[43mout_tree\u001b[49m\u001b[43m(\u001b[49m\u001b[43m)\u001b[49m\u001b[43m,\u001b[49m\u001b[43m \u001b[49m\u001b[43mout_axes\u001b[49m\u001b[43m)\u001b[49m\u001b[43m,\u001b[49m\n\u001b[1;32m   1217\u001b[0m \u001b[43m    \u001b[49m\u001b[43mspmd_axis_name\u001b[49m\u001b[38;5;241;43m=\u001b[39;49m\u001b[43mspmd_axis_name\u001b[49m\n\u001b[1;32m   1218\u001b[0m \u001b[43m\u001b[49m\u001b[43m)\u001b[49m\u001b[38;5;241;43m.\u001b[39;49m\u001b[43mcall_wrapped\u001b[49m\u001b[43m(\u001b[49m\u001b[38;5;241;43m*\u001b[39;49m\u001b[43margs_flat\u001b[49m\u001b[43m)\u001b[49m\n\u001b[1;32m   1219\u001b[0m \u001b[38;5;28;01mreturn\u001b[39;00m tree_unflatten(out_tree(), out_flat)\n",
      "File \u001b[0;32m~/.cache/pypoetry/virtualenvs/micrlhf-progress-_SD4q1c9-py3.12/lib/python3.12/site-packages/jax/_src/linear_util.py:192\u001b[0m, in \u001b[0;36mWrappedFun.call_wrapped\u001b[0;34m(self, *args, **kwargs)\u001b[0m\n\u001b[1;32m    189\u001b[0m gen \u001b[38;5;241m=\u001b[39m gen_static_args \u001b[38;5;241m=\u001b[39m out_store \u001b[38;5;241m=\u001b[39m \u001b[38;5;28;01mNone\u001b[39;00m\n\u001b[1;32m    191\u001b[0m \u001b[38;5;28;01mtry\u001b[39;00m:\n\u001b[0;32m--> 192\u001b[0m   ans \u001b[38;5;241m=\u001b[39m \u001b[38;5;28;43mself\u001b[39;49m\u001b[38;5;241;43m.\u001b[39;49m\u001b[43mf\u001b[49m\u001b[43m(\u001b[49m\u001b[38;5;241;43m*\u001b[39;49m\u001b[43margs\u001b[49m\u001b[43m,\u001b[49m\u001b[43m \u001b[49m\u001b[38;5;241;43m*\u001b[39;49m\u001b[38;5;241;43m*\u001b[39;49m\u001b[38;5;28;43mdict\u001b[39;49m\u001b[43m(\u001b[49m\u001b[38;5;28;43mself\u001b[39;49m\u001b[38;5;241;43m.\u001b[39;49m\u001b[43mparams\u001b[49m\u001b[43m,\u001b[49m\u001b[43m \u001b[49m\u001b[38;5;241;43m*\u001b[39;49m\u001b[38;5;241;43m*\u001b[39;49m\u001b[43mkwargs\u001b[49m\u001b[43m)\u001b[49m\u001b[43m)\u001b[49m\n\u001b[1;32m    193\u001b[0m \u001b[38;5;28;01mexcept\u001b[39;00m:\n\u001b[1;32m    194\u001b[0m   \u001b[38;5;66;03m# Some transformations yield from inside context managers, so we have to\u001b[39;00m\n\u001b[1;32m    195\u001b[0m   \u001b[38;5;66;03m# interrupt them before reraising the exception. Otherwise they will only\u001b[39;00m\n\u001b[1;32m    196\u001b[0m   \u001b[38;5;66;03m# get garbage-collected at some later time, running their cleanup tasks\u001b[39;00m\n\u001b[1;32m    197\u001b[0m   \u001b[38;5;66;03m# only after this exception is handled, which can corrupt the global\u001b[39;00m\n\u001b[1;32m    198\u001b[0m   \u001b[38;5;66;03m# state.\u001b[39;00m\n\u001b[1;32m    199\u001b[0m   \u001b[38;5;28;01mwhile\u001b[39;00m stack:\n",
      "Cell \u001b[0;32mIn[56], line 14\u001b[0m, in \u001b[0;36m<lambda>\u001b[0;34m(x)\u001b[0m\n\u001b[1;32m     12\u001b[0m orig_length \u001b[38;5;241m=\u001b[39m \u001b[38;5;28mlen\u001b[39m(batch_features)\n\u001b[1;32m     13\u001b[0m batch_features \u001b[38;5;241m=\u001b[39m batch_features \u001b[38;5;241m+\u001b[39m [\u001b[38;5;241m0\u001b[39m] \u001b[38;5;241m*\u001b[39m (batch_size \u001b[38;5;241m-\u001b[39m \u001b[38;5;28mlen\u001b[39m(batch_features))\n\u001b[0;32m---> 14\u001b[0m feature_effectss \u001b[38;5;241m=\u001b[39m jax\u001b[38;5;241m.\u001b[39mvmap(\u001b[38;5;28;01mlambda\u001b[39;00m x: \u001b[43mcircuitizer\u001b[49m\u001b[38;5;241;43m.\u001b[39;49m\u001b[43mcompute_feature_effects\u001b[49m\u001b[43m(\u001b[49m\u001b[43mfeature_type\u001b[49m\u001b[43m,\u001b[49m\u001b[43m \u001b[49m\u001b[43mlayer\u001b[49m\u001b[43m,\u001b[49m\u001b[43m \u001b[49m\u001b[43mx\u001b[49m\u001b[43m,\u001b[49m\u001b[43m \u001b[49m\u001b[43mmask\u001b[49m\u001b[43m,\u001b[49m\u001b[43m \u001b[49m\u001b[43mlayer_window\u001b[49m\u001b[38;5;241;43m=\u001b[39;49m\u001b[38;5;241;43m1\u001b[39;49m\u001b[43m)\u001b[49m)(jnp\u001b[38;5;241m.\u001b[39masarray(batch_features))\n\u001b[1;32m     15\u001b[0m \u001b[38;5;66;03m# feature_effectss = circuitizer.compute_feature_effects(feature_type, layer, batch_features, mask, layer_window=1)\u001b[39;00m\n\u001b[1;32m     17\u001b[0m top_effects \u001b[38;5;241m=\u001b[39m defaultdict(\u001b[38;5;28mlist\u001b[39m)\n",
      "File \u001b[0;32m~/.cache/pypoetry/virtualenvs/micrlhf-progress-_SD4q1c9-py3.12/lib/python3.12/site-packages/equinox/_module.py:1189\u001b[0m, in \u001b[0;36mPartial.__call__\u001b[0;34m(self, *args, **kwargs)\u001b[0m\n\u001b[1;32m   1176\u001b[0m \u001b[38;5;28;01mdef\u001b[39;00m \u001b[38;5;21m__call__\u001b[39m(\u001b[38;5;28mself\u001b[39m, \u001b[38;5;241m*\u001b[39margs, \u001b[38;5;241m*\u001b[39m\u001b[38;5;241m*\u001b[39mkwargs):\n\u001b[1;32m   1177\u001b[0m \u001b[38;5;250m    \u001b[39m\u001b[38;5;124;03m\"\"\"Call the wrapped `self.func`.\u001b[39;00m\n\u001b[1;32m   1178\u001b[0m \n\u001b[1;32m   1179\u001b[0m \u001b[38;5;124;03m    **Arguments:**\u001b[39;00m\n\u001b[0;32m   (...)\u001b[0m\n\u001b[1;32m   1187\u001b[0m \u001b[38;5;124;03m    The result of the wrapped function.\u001b[39;00m\n\u001b[1;32m   1188\u001b[0m \u001b[38;5;124;03m    \"\"\"\u001b[39;00m\n\u001b[0;32m-> 1189\u001b[0m     \u001b[38;5;28;01mreturn\u001b[39;00m \u001b[38;5;28;43mself\u001b[39;49m\u001b[38;5;241;43m.\u001b[39;49m\u001b[43mfunc\u001b[49m\u001b[43m(\u001b[49m\u001b[38;5;241;43m*\u001b[39;49m\u001b[38;5;28;43mself\u001b[39;49m\u001b[38;5;241;43m.\u001b[39;49m\u001b[43margs\u001b[49m\u001b[43m,\u001b[49m\u001b[43m \u001b[49m\u001b[38;5;241;43m*\u001b[39;49m\u001b[43margs\u001b[49m\u001b[43m,\u001b[49m\u001b[43m \u001b[49m\u001b[38;5;241;43m*\u001b[39;49m\u001b[38;5;241;43m*\u001b[39;49m\u001b[43mkwargs\u001b[49m\u001b[43m,\u001b[49m\u001b[43m \u001b[49m\u001b[38;5;241;43m*\u001b[39;49m\u001b[38;5;241;43m*\u001b[39;49m\u001b[38;5;28;43mself\u001b[39;49m\u001b[38;5;241;43m.\u001b[39;49m\u001b[43mkeywords\u001b[49m\u001b[43m)\u001b[49m\n",
      "    \u001b[0;31m[... skipping hidden 4 frame]\u001b[0m\n",
      "File \u001b[0;32m~/.cache/pypoetry/virtualenvs/micrlhf-progress-_SD4q1c9-py3.12/lib/python3.12/site-packages/jax/_src/pjit.py:327\u001b[0m, in \u001b[0;36m_cpp_pjit.<locals>.cache_miss\u001b[0;34m(*args, **kwargs)\u001b[0m\n\u001b[1;32m    325\u001b[0m \u001b[38;5;129m@api_boundary\u001b[39m\n\u001b[1;32m    326\u001b[0m \u001b[38;5;28;01mdef\u001b[39;00m \u001b[38;5;21mcache_miss\u001b[39m(\u001b[38;5;241m*\u001b[39margs, \u001b[38;5;241m*\u001b[39m\u001b[38;5;241m*\u001b[39mkwargs):\n\u001b[0;32m--> 327\u001b[0m   outs, out_flat, out_tree, args_flat, jaxpr, attrs_tracked \u001b[38;5;241m=\u001b[39m \u001b[43m_python_pjit_helper\u001b[49m\u001b[43m(\u001b[49m\n\u001b[1;32m    328\u001b[0m \u001b[43m      \u001b[49m\u001b[43mjit_info\u001b[49m\u001b[43m,\u001b[49m\u001b[43m \u001b[49m\u001b[38;5;241;43m*\u001b[39;49m\u001b[43margs\u001b[49m\u001b[43m,\u001b[49m\u001b[43m \u001b[49m\u001b[38;5;241;43m*\u001b[39;49m\u001b[38;5;241;43m*\u001b[39;49m\u001b[43mkwargs\u001b[49m\u001b[43m)\u001b[49m\n\u001b[1;32m    329\u001b[0m   executable \u001b[38;5;241m=\u001b[39m _read_most_recent_pjit_call_executable(jaxpr)\n\u001b[1;32m    330\u001b[0m   pgle_profiler \u001b[38;5;241m=\u001b[39m _read_pgle_profiler(jaxpr)\n",
      "File \u001b[0;32m~/.cache/pypoetry/virtualenvs/micrlhf-progress-_SD4q1c9-py3.12/lib/python3.12/site-packages/jax/_src/pjit.py:185\u001b[0m, in \u001b[0;36m_python_pjit_helper\u001b[0;34m(jit_info, *args, **kwargs)\u001b[0m\n\u001b[1;32m    182\u001b[0m   args_flat \u001b[38;5;241m=\u001b[39m [\u001b[38;5;241m*\u001b[39minit_states, \u001b[38;5;241m*\u001b[39margs_flat]\n\u001b[1;32m    184\u001b[0m \u001b[38;5;28;01mtry\u001b[39;00m:\n\u001b[0;32m--> 185\u001b[0m   out_flat \u001b[38;5;241m=\u001b[39m \u001b[43mpjit_p\u001b[49m\u001b[38;5;241;43m.\u001b[39;49m\u001b[43mbind\u001b[49m\u001b[43m(\u001b[49m\u001b[38;5;241;43m*\u001b[39;49m\u001b[43margs_flat\u001b[49m\u001b[43m,\u001b[49m\u001b[43m \u001b[49m\u001b[38;5;241;43m*\u001b[39;49m\u001b[38;5;241;43m*\u001b[39;49m\u001b[43mparams\u001b[49m\u001b[43m)\u001b[49m\n\u001b[1;32m    186\u001b[0m \u001b[38;5;28;01mexcept\u001b[39;00m pxla\u001b[38;5;241m.\u001b[39mDeviceAssignmentMismatchError \u001b[38;5;28;01mas\u001b[39;00m e:\n\u001b[1;32m    187\u001b[0m   fails, \u001b[38;5;241m=\u001b[39m e\u001b[38;5;241m.\u001b[39margs\n",
      "File \u001b[0;32m~/.cache/pypoetry/virtualenvs/micrlhf-progress-_SD4q1c9-py3.12/lib/python3.12/site-packages/jax/_src/core.py:2834\u001b[0m, in \u001b[0;36mAxisPrimitive.bind\u001b[0;34m(self, *args, **params)\u001b[0m\n\u001b[1;32m   2830\u001b[0m axis_main \u001b[38;5;241m=\u001b[39m \u001b[38;5;28mmax\u001b[39m((axis_frame(a)\u001b[38;5;241m.\u001b[39mmain_trace \u001b[38;5;28;01mfor\u001b[39;00m a \u001b[38;5;129;01min\u001b[39;00m used_axis_names(\u001b[38;5;28mself\u001b[39m, params)),\n\u001b[1;32m   2831\u001b[0m                 default\u001b[38;5;241m=\u001b[39m\u001b[38;5;28;01mNone\u001b[39;00m, key\u001b[38;5;241m=\u001b[39m\u001b[38;5;28;01mlambda\u001b[39;00m t: \u001b[38;5;28mgetattr\u001b[39m(t, \u001b[38;5;124m'\u001b[39m\u001b[38;5;124mlevel\u001b[39m\u001b[38;5;124m'\u001b[39m, \u001b[38;5;241m-\u001b[39m\u001b[38;5;241m1\u001b[39m))\n\u001b[1;32m   2832\u001b[0m top_trace \u001b[38;5;241m=\u001b[39m (top_trace \u001b[38;5;28;01mif\u001b[39;00m \u001b[38;5;129;01mnot\u001b[39;00m axis_main \u001b[38;5;129;01mor\u001b[39;00m axis_main\u001b[38;5;241m.\u001b[39mlevel \u001b[38;5;241m<\u001b[39m top_trace\u001b[38;5;241m.\u001b[39mlevel\n\u001b[1;32m   2833\u001b[0m              \u001b[38;5;28;01melse\u001b[39;00m axis_main\u001b[38;5;241m.\u001b[39mwith_cur_sublevel())\n\u001b[0;32m-> 2834\u001b[0m \u001b[38;5;28;01mreturn\u001b[39;00m \u001b[38;5;28;43mself\u001b[39;49m\u001b[38;5;241;43m.\u001b[39;49m\u001b[43mbind_with_trace\u001b[49m\u001b[43m(\u001b[49m\u001b[43mtop_trace\u001b[49m\u001b[43m,\u001b[49m\u001b[43m \u001b[49m\u001b[43margs\u001b[49m\u001b[43m,\u001b[49m\u001b[43m \u001b[49m\u001b[43mparams\u001b[49m\u001b[43m)\u001b[49m\n",
      "File \u001b[0;32m~/.cache/pypoetry/virtualenvs/micrlhf-progress-_SD4q1c9-py3.12/lib/python3.12/site-packages/jax/_src/core.py:420\u001b[0m, in \u001b[0;36mPrimitive.bind_with_trace\u001b[0;34m(self, trace, args, params)\u001b[0m\n\u001b[1;32m    418\u001b[0m \u001b[38;5;28;01mdef\u001b[39;00m \u001b[38;5;21mbind_with_trace\u001b[39m(\u001b[38;5;28mself\u001b[39m, trace, args, params):\n\u001b[1;32m    419\u001b[0m   \u001b[38;5;28;01mwith\u001b[39;00m pop_level(trace\u001b[38;5;241m.\u001b[39mlevel):\n\u001b[0;32m--> 420\u001b[0m     out \u001b[38;5;241m=\u001b[39m \u001b[43mtrace\u001b[49m\u001b[38;5;241;43m.\u001b[39;49m\u001b[43mprocess_primitive\u001b[49m\u001b[43m(\u001b[49m\u001b[38;5;28;43mself\u001b[39;49m\u001b[43m,\u001b[49m\u001b[43m \u001b[49m\u001b[38;5;28;43mmap\u001b[39;49m\u001b[43m(\u001b[49m\u001b[43mtrace\u001b[49m\u001b[38;5;241;43m.\u001b[39;49m\u001b[43mfull_raise\u001b[49m\u001b[43m,\u001b[49m\u001b[43m \u001b[49m\u001b[43margs\u001b[49m\u001b[43m)\u001b[49m\u001b[43m,\u001b[49m\u001b[43m \u001b[49m\u001b[43mparams\u001b[49m\u001b[43m)\u001b[49m\n\u001b[1;32m    421\u001b[0m   \u001b[38;5;28;01mreturn\u001b[39;00m \u001b[38;5;28mmap\u001b[39m(full_lower, out) \u001b[38;5;28;01mif\u001b[39;00m \u001b[38;5;28mself\u001b[39m\u001b[38;5;241m.\u001b[39mmultiple_results \u001b[38;5;28;01melse\u001b[39;00m full_lower(out)\n",
      "File \u001b[0;32m~/.cache/pypoetry/virtualenvs/micrlhf-progress-_SD4q1c9-py3.12/lib/python3.12/site-packages/jax/_src/interpreters/batching.py:433\u001b[0m, in \u001b[0;36mBatchTrace.process_primitive\u001b[0;34m(self, primitive, tracers, params)\u001b[0m\n\u001b[1;32m    431\u001b[0m   frame \u001b[38;5;241m=\u001b[39m \u001b[38;5;28mself\u001b[39m\u001b[38;5;241m.\u001b[39mget_frame(vals_in, dims_in)\n\u001b[1;32m    432\u001b[0m   batched_primitive \u001b[38;5;241m=\u001b[39m \u001b[38;5;28mself\u001b[39m\u001b[38;5;241m.\u001b[39mget_primitive_batcher(primitive, frame)\n\u001b[0;32m--> 433\u001b[0m   val_out, dim_out \u001b[38;5;241m=\u001b[39m \u001b[43mbatched_primitive\u001b[49m\u001b[43m(\u001b[49m\u001b[43mvals_in\u001b[49m\u001b[43m,\u001b[49m\u001b[43m \u001b[49m\u001b[43mdims_in\u001b[49m\u001b[43m,\u001b[49m\u001b[43m \u001b[49m\u001b[38;5;241;43m*\u001b[39;49m\u001b[38;5;241;43m*\u001b[39;49m\u001b[43mparams\u001b[49m\u001b[43m)\u001b[49m\n\u001b[1;32m    434\u001b[0m src \u001b[38;5;241m=\u001b[39m source_info_util\u001b[38;5;241m.\u001b[39mcurrent()\n\u001b[1;32m    435\u001b[0m \u001b[38;5;28;01mif\u001b[39;00m primitive\u001b[38;5;241m.\u001b[39mmultiple_results:\n",
      "File \u001b[0;32m~/.cache/pypoetry/virtualenvs/micrlhf-progress-_SD4q1c9-py3.12/lib/python3.12/site-packages/jax/_src/pjit.py:1882\u001b[0m, in \u001b[0;36m_pjit_batcher\u001b[0;34m(insert_axis, spmd_axis_name, axis_size, axis_name, main_type, vals_in, dims_in, jaxpr, in_shardings, out_shardings, in_layouts, out_layouts, resource_env, donated_invars, name, keep_unused, inline)\u001b[0m\n\u001b[1;32m   1879\u001b[0m   mesh \u001b[38;5;241m=\u001b[39m \u001b[38;5;28;01mNone\u001b[39;00m\n\u001b[1;32m   1881\u001b[0m \u001b[38;5;66;03m# TODO(axch): prepend with Nones (?) to account for new segment_lens inputs\u001b[39;00m\n\u001b[0;32m-> 1882\u001b[0m in_shardings \u001b[38;5;241m=\u001b[39m \u001b[38;5;28;43mtuple\u001b[39;49m\u001b[43m(\u001b[49m\n\u001b[1;32m   1883\u001b[0m \u001b[43m    \u001b[49m\u001b[43m_pjit_batcher_for_sharding\u001b[49m\u001b[43m(\u001b[49m\u001b[43mi\u001b[49m\u001b[43m,\u001b[49m\u001b[43m \u001b[49m\u001b[43maxis_in\u001b[49m\u001b[43m,\u001b[49m\u001b[43m \u001b[49m\u001b[43mnew_parts\u001b[49m\u001b[43m,\u001b[49m\u001b[43m \u001b[49m\u001b[43mmesh\u001b[49m\u001b[43m,\u001b[49m\u001b[43m \u001b[49m\u001b[43maval\u001b[49m\u001b[38;5;241;43m.\u001b[39;49m\u001b[43mndim\u001b[49m\u001b[43m)\u001b[49m\n\u001b[1;32m   1884\u001b[0m \u001b[43m    \u001b[49m\u001b[38;5;28;43;01mif\u001b[39;49;00m\u001b[43m \u001b[49m\u001b[43maxis_in\u001b[49m\u001b[43m \u001b[49m\u001b[38;5;129;43;01mis\u001b[39;49;00m\u001b[43m \u001b[49m\u001b[38;5;129;43;01mnot\u001b[39;49;00m\u001b[43m \u001b[49m\u001b[38;5;28;43;01mNone\u001b[39;49;00m\u001b[43m \u001b[49m\u001b[38;5;28;43;01melse\u001b[39;49;00m\u001b[43m \u001b[49m\u001b[43mi\u001b[49m\n\u001b[1;32m   1885\u001b[0m \u001b[43m    \u001b[49m\u001b[38;5;28;43;01mfor\u001b[39;49;00m\u001b[43m \u001b[49m\u001b[43maxis_in\u001b[49m\u001b[43m,\u001b[49m\u001b[43m \u001b[49m\u001b[43mi\u001b[49m\u001b[43m,\u001b[49m\u001b[43m \u001b[49m\u001b[43maval\u001b[49m\u001b[43m \u001b[49m\u001b[38;5;129;43;01min\u001b[39;49;00m\u001b[43m \u001b[49m\u001b[38;5;28;43mzip\u001b[39;49m\u001b[43m(\u001b[49m\u001b[43mdims_in\u001b[49m\u001b[43m,\u001b[49m\u001b[43m \u001b[49m\u001b[43min_shardings\u001b[49m\u001b[43m,\u001b[49m\u001b[43m \u001b[49m\u001b[43mnew_jaxpr\u001b[49m\u001b[38;5;241;43m.\u001b[39;49m\u001b[43min_avals\u001b[49m\u001b[43m)\u001b[49m\u001b[43m)\u001b[49m\n\u001b[1;32m   1886\u001b[0m out_shardings \u001b[38;5;241m=\u001b[39m \u001b[38;5;28mtuple\u001b[39m(\n\u001b[1;32m   1887\u001b[0m     _pjit_batcher_for_sharding(o, axis_out, new_parts, mesh, aval\u001b[38;5;241m.\u001b[39mndim)\n\u001b[1;32m   1888\u001b[0m     \u001b[38;5;28;01mif\u001b[39;00m axis_out \u001b[38;5;129;01mis\u001b[39;00m \u001b[38;5;129;01mnot\u001b[39;00m \u001b[38;5;28;01mNone\u001b[39;00m \u001b[38;5;28;01melse\u001b[39;00m o\n\u001b[1;32m   1889\u001b[0m     \u001b[38;5;28;01mfor\u001b[39;00m axis_out, o, aval \u001b[38;5;129;01min\u001b[39;00m \u001b[38;5;28mzip\u001b[39m(axes_out, out_shardings, new_jaxpr\u001b[38;5;241m.\u001b[39mout_avals))\n\u001b[1;32m   1890\u001b[0m \u001b[38;5;66;03m# TODO(yashkatariya): Figure out layouts should change under vmap.\u001b[39;00m\n",
      "\u001b[0;31mKeyboardInterrupt\u001b[0m: "
     ]
    }
   ],
   "source": []
  },
  {
   "cell_type": "code",
   "execution_count": 51,
   "metadata": {},
   "outputs": [
    {
     "data": {
      "text/html": [
       "<div id=\"output_19986b60836649cb83ff3a5fe9753f44\"><script> /* penzai.treescope rendering of a Python object (compressed) */ (()=>{ let observer; let lastStep = new Promise((resolve, reject) => { observer = new IntersectionObserver((entries) => { for (const entry of entries) { if (entry.isIntersecting) { resolve(); observer.disconnect(); return; } } }, {rootMargin: \"1000px\"}); }); window.treescope_decompress_enqueue = (encoded, destId) => { const previous = lastStep; const destElt = document.getElementById(destId); lastStep = (async () => { await previous; let blob = new Blob([ Uint8Array.from(atob(encoded), (m) => m.codePointAt(0)) ]); let reader = blob.stream().pipeThrough( new DecompressionStream(\"deflate\") ).pipeThrough( new TextDecoderStream(\"utf-8\") ).getReader(); let parts = []; while (true) { let step = await reader.read(); if (step.done) { break; } parts.push(step.value); } let newElt = document.createElement(\"div\"); newElt.innerHTML = parts.join(\"\"); destElt.parentNode.replaceChild(newElt, destElt); for (let oldScript of newElt.querySelectorAll(\"script\")) { let newScript = document.createElement(\"script\"); newScript.type = oldScript.type; newScript.textContent = oldScript.textContent; oldScript.parentNode.replaceChild(newScript, oldScript); } })(); requestAnimationFrame(() => { observer.observe(destElt); }); } })(); </script><div id=\"compress_html_1efe5ae0573a4df793c4f909be2e8790\"><script>window.treescope_decompress_enqueue(\"eNrFV91v2zYQ/1euGpDKQa0kdpOlkm0g6DbsodhLB+xhGwRKOlmcaVIj6SRe4f99R0q2ZVtuM6zY7AeZx/v43bc8MXYtcBZZjWhyVWOqlbLwCWpluOVKxqBRMMsfMYFSSTss2ZKLdQxLJZWpWU70p4pbHPpDDLUmiuDGDr3qoV3XRJVKEjlj+WKu1UoWw1wJpeNGNIH2lAliIH28sFUMJbfEJi1Km8CS6TmXQ4GljWGUV86GxGGFfF4R5Sa6TWAzuWrcmZhc89rOgJcQPnFZqKe9hzCdToEgYEkKigH5esoBnzbJCTlKa5QFl/OH3EXGENuvv3+R7UcmC+FUypUQPdxztOlR9KcQboOeWjWA6YxAXl3CB6UWlAQNtkLwnFIVGMHlFQi00Mp2RH1qyHjY3L2aQqHy1ZICGmWqWMPFBbxyN1EumDEfKGmRCzjj0oTBIahgAC5UWxtOqGaaNH0vcOkztCHLdqWlv6Rjj696JT8qJZ2DT0ovWs/IpLGE7BciuasDsuW5I9aoyfElkzlGUj2Fg51rJzcwbIQmMB45yH01cJzKSKCc24pKA677KuLzOW38dhFAYXAPvVpJh/2Lxk3FS+tc8hLux4a+L8UQbjk1/rlCYx8kXzLH8YNmSwybuA4G/Rk5hlKvTNXkJnlJ4LYgpk0o/knoXg67FzhKklrhd1ii1lj8jMuayh7NaQHVwhF3hU9iev0RBeZW6QchqNBb2e4QXMnUUKUGg8Q3XOj6izSBKr1C5yg9O32jcake8aBrOjrOdUK4xer0l1r9ha45vOZm8B3CDYNmsDmVToJOXddyjeRG25BdXvoVuTlMzI0Rf2rp+GzfN8Y613ti4uE0vf6TGzcaKVo5vqf2K0LS8MYxuDydzZVV87loxkjqp78lYH7KEQWFfQP4SNrbULiy8+dogWvXkYEOtqOHmDsxb/SGwU5nuiSAwRbHBmgfNItgUvBH8ILT47kGlmUEGJ+nwXUASpJRQi87fP34Q1txs0Ue0MppFmnRFmTqg1QpUaD2tegX3DfsW/dtV6kXiYFbJnhOeKOS2FlGptxcP7OEN3DIljboiLvghoyut8v2mBFmIFiGIo4zpJrGDqrcf5Jee83GHd64ldsu5utkb4tLv4czodzmPmuzoubQp5YLphcG2ZxCLU+lY6lseESqmAlnXuesNw5eJs4rzBe03AdwOdhjcKL9Qlv+A4S+/GN4/dvoNstf/5/wDoXOgrz7D0C6PDrDK21cAmvFCYHuscvN1zPrW8EbGvp+M+dq/OtY3bvn5uCplYibtOTa2FTJ1JV/T2t9rpWi0a3rpt5Uwb+G32T8GKLz6uAd2jd05425ZhJ4MQ12A+zmfjwa342u8+u392/LbJy9u7m9Lu7fjW9HbHx38y5ohdqxetj3x+aJuXFiwmW9ol1K+2caeNiZeg56lbQe0mXj3Wxy5YXp2erq2u8bvMHsQtjkD/YcPWjN1lAKxex4REs3iiK4mNuE/Ccds+MHrYvdn4gXv3qEg92++RsaQL/o\", \"compress_html_1efe5ae0573a4df793c4f909be2e8790\");</script><span style=\"color: #aaaaaa; font-family: monospace\">(Loading...)</span></div></div>"
      ],
      "text/plain": [
       "<IPython.core.display.HTML object>"
      ]
     },
     "metadata": {},
     "output_type": "display_data"
    },
    {
     "data": {
      "text/html": [
       "<div id=\"compress_html_20734a6407054bb3b07adc95b2da08fb\"><script>window.treescope_decompress_enqueue(\"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\", \"compress_html_20734a6407054bb3b07adc95b2da08fb\");</script></div>"
      ],
      "text/plain": [
       "<IPython.core.display.HTML object>"
      ]
     },
     "metadata": {},
     "output_type": "display_data"
    },
    {
     "data": {
      "text/html": [
       "<div id=\"output_dest_19986b60836649cb83ff3a5fe9753f44\"><script> (()=>{ const output = document.getElementById(\"output_19986b60836649cb83ff3a5fe9753f44\"); const dest = document.getElementById(\"output_dest_19986b60836649cb83ff3a5fe9753f44\"); dest.parentNode.replaceChild(output, dest); })(); </script></div>"
      ],
      "text/plain": [
       "<jax.Array(-1.248209e-05, dtype=float32)>"
      ]
     },
     "execution_count": 51,
     "metadata": {},
     "output_type": "execute_result"
    }
   ],
   "source": [
    "featuress"
   ]
  },
  {
   "cell_type": "code",
   "execution_count": 52,
   "metadata": {},
   "outputs": [
    {
     "data": {
      "text/html": [
       "<div id=\"output_ca585ef15ca044f4aa1473a5c0b00202\"><script> /* penzai.treescope rendering of a Python object (compressed) */ (()=>{ let observer; let lastStep = new Promise((resolve, reject) => { observer = new IntersectionObserver((entries) => { for (const entry of entries) { if (entry.isIntersecting) { resolve(); observer.disconnect(); return; } } }, {rootMargin: \"1000px\"}); }); window.treescope_decompress_enqueue = (encoded, destId) => { const previous = lastStep; const destElt = document.getElementById(destId); lastStep = (async () => { await previous; let blob = new Blob([ Uint8Array.from(atob(encoded), (m) => m.codePointAt(0)) ]); let reader = blob.stream().pipeThrough( new DecompressionStream(\"deflate\") ).pipeThrough( new TextDecoderStream(\"utf-8\") ).getReader(); let parts = []; while (true) { let step = await reader.read(); if (step.done) { break; } parts.push(step.value); } let newElt = document.createElement(\"div\"); newElt.innerHTML = parts.join(\"\"); destElt.parentNode.replaceChild(newElt, destElt); for (let oldScript of newElt.querySelectorAll(\"script\")) { let newScript = document.createElement(\"script\"); newScript.type = oldScript.type; newScript.textContent = oldScript.textContent; oldScript.parentNode.replaceChild(newScript, oldScript); } })(); requestAnimationFrame(() => { observer.observe(destElt); }); } })(); </script><div id=\"compress_html_f544b86b40304911bb543f358b5f0200\"><script>window.treescope_decompress_enqueue(\"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\", \"compress_html_f544b86b40304911bb543f358b5f0200\");</script><span style=\"color: #aaaaaa; font-family: monospace\">(Loading...)</span></div></div>"
      ],
      "text/plain": [
       "<IPython.core.display.HTML object>"
      ]
     },
     "metadata": {},
     "output_type": "display_data"
    },
    {
     "data": {
      "text/html": [
       "<div id=\"compress_html_22325334ebe6458caf35a3a909a70b0d\"><script>window.treescope_decompress_enqueue(\"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\", \"compress_html_22325334ebe6458caf35a3a909a70b0d\");</script></div>"
      ],
      "text/plain": [
       "<IPython.core.display.HTML object>"
      ]
     },
     "metadata": {},
     "output_type": "display_data"
    },
    {
     "data": {
      "text/html": [
       "<div id=\"output_dest_ca585ef15ca044f4aa1473a5c0b00202\"><script> (()=>{ const output = document.getElementById(\"output_ca585ef15ca044f4aa1473a5c0b00202\"); const dest = document.getElementById(\"output_dest_ca585ef15ca044f4aa1473a5c0b00202\"); dest.parentNode.replaceChild(output, dest); })(); </script></div>"
      ],
      "text/plain": [
       "{('er', 8, 'arrow'): <jax.Array(-1.248209e-05, dtype=float32)>,\n",
       " ('er', 8, 'input'): <jax.Array(-3.386186e-06, dtype=float32)>,\n",
       " ('er', 8, 'newline'): <jax.Array(1.2659609e-06, dtype=float32)>,\n",
       " ('er', 8, 'output'): <jax.Array(2.1368157e-07, dtype=float32)>,\n",
       " ('er', 8, 'prompt'): <jax.Array(6.4502055e-06, dtype=float32)>,\n",
       " ('r',\n",
       "  8,\n",
       "  'arrow'): # jax.Array float32(32768,) ≈-1.4e-09 ±1.3e-07 [≥-1.7e-05, ≤5.3e-06] zero:32_079 nonzero:689\n",
       "   Array([0., 0., 0., ..., 0., 0., 0.], dtype=float32)\n",
       " ,\n",
       " ('r',\n",
       "  8,\n",
       "  'input'): # jax.Array float32(32768,) ≈6.6e-10 ±6.1e-08 [≥-3.4e-06, ≤4.6e-06] zero:29_849 nonzero:2_919\n",
       "   Array([0., 0., 0., ..., 0., 0., 0.], dtype=float32)\n",
       " ,\n",
       " ('r',\n",
       "  8,\n",
       "  'newline'): # jax.Array float32(32768,) ≈7.8e-10 ±5.9e-08 [≥-3.4e-06, ≤6.1e-06] zero:32_103 nonzero:665\n",
       "   Array([0., 0., 0., ..., 0., 0., 0.], dtype=float32)\n",
       " ,\n",
       " ('r',\n",
       "  8,\n",
       "  'output'): # jax.Array float32(32768,) ≈-2.4e-10 ±2.2e-08 [≥-1.7e-06, ≤1.1e-06] zero:31_402 nonzero:1_366\n",
       "   Array([0., 0., 0., ..., 0., 0., 0.], dtype=float32)\n",
       " ,\n",
       " ('r',\n",
       "  8,\n",
       "  'prompt'): # jax.Array float32(32768,) ≈5.6e-10 ±1.5e-07 [≥-1.7e-05, ≤7.9e-06] zero:32_656 nonzero:112\n",
       "   Array([0., 0., 0., ..., 0., 0., 0.], dtype=float32)\n",
       " }"
      ]
     },
     "execution_count": 52,
     "metadata": {},
     "output_type": "execute_result"
    }
   ],
   "source": [
    "feature_effectss"
   ]
  },
  {
   "cell_type": "code",
   "execution_count": null,
   "metadata": {},
   "outputs": [],
   "source": []
  },
  {
   "cell_type": "code",
   "execution_count": null,
   "metadata": {},
   "outputs": [],
   "source": [
    "import os\n",
    "if \"models\" not in os.listdir(\".\"):\n",
    "    os.chdir(\"../..\")"
   ]
  },
  {
   "cell_type": "code",
   "execution_count": null,
   "metadata": {},
   "outputs": [],
   "source": [
    "%load_ext autoreload\n",
    "%autoreload 2\n",
    "import penzai\n",
    "import jax_smi\n",
    "jax_smi.initialise_tracking()\n",
    "from penzai import pz\n",
    "pz.ts.register_as_default()\n",
    "pz.ts.register_autovisualize_magic()\n",
    "pz.enable_interactive_context()"
   ]
  },
  {
   "cell_type": "code",
   "execution_count": null,
   "metadata": {},
   "outputs": [],
   "source": [
    "%env JAX_TRACEBACK_FILTERING=off\n",
    "import jax\n",
    "jax.config.update('jax_traceback_filtering', 'off')\n"
   ]
  },
  {
   "cell_type": "code",
   "execution_count": null,
   "metadata": {},
   "outputs": [],
   "source": [
    "from sprint.icl_sfc_utils import Circuitizer"
   ]
  },
  {
   "cell_type": "code",
   "execution_count": null,
   "metadata": {},
   "outputs": [],
   "source": [
    "from micrlhf.llama import LlamaTransformer\n",
    "llama = LlamaTransformer.from_pretrained(\"models/gemma-2b-it.gguf\", from_type=\"gemma\", load_eager=True, device_map=\"tpu:0\")"
   ]
  },
  {
   "cell_type": "code",
   "execution_count": null,
   "metadata": {},
   "outputs": [],
   "source": [
    "from transformers import AutoTokenizer\n",
    "tokenizer = AutoTokenizer.from_pretrained(\"alpindale/gemma-2b\")\n",
    "tokenizer.padding_side = \"right\""
   ]
  },
  {
   "cell_type": "code",
   "execution_count": null,
   "metadata": {},
   "outputs": [],
   "source": [
    "from sprint.task_vector_utils import load_tasks, ICLRunner\n",
    "tasks = load_tasks()"
   ]
  },
  {
   "cell_type": "code",
   "execution_count": null,
   "metadata": {},
   "outputs": [],
   "source": [
    "def check_if_single_token(token):\n",
    "    return len(tokenizer.tokenize(token)) == 1\n",
    "\n",
    "task_name = \"es_en\"\n",
    "\n",
    "task = tasks[task_name]\n",
    "\n",
    "print(len(task))\n",
    "\n",
    "task = {\n",
    "    k:v for k,v in task.items() if check_if_single_token(k) and check_if_single_token(v)\n",
    "}\n",
    "\n",
    "print(len(task))\n",
    "\n",
    "pairs = list(task.items())\n",
    "\n",
    "batch_size = 8 \n",
    "n_shot=20\n",
    "max_seq_len = 128\n",
    "seed = 10\n",
    "\n",
    "prompt = \"Follow the pattern:\\n{}\"\n",
    "\n",
    "runner = ICLRunner(task_name, pairs, batch_size=batch_size, n_shot=n_shot, max_seq_len=max_seq_len, seed=seed, prompt=prompt)"
   ]
  },
  {
   "cell_type": "code",
   "execution_count": null,
   "metadata": {},
   "outputs": [],
   "source": [
    "layers = list(range(6, 17))\n",
    "circuitizer = Circuitizer(llama, tokenizer, runner, layers, prompt)"
   ]
  },
  {
   "cell_type": "code",
   "execution_count": null,
   "metadata": {},
   "outputs": [],
   "source": [
    "thresholds = np.linspace(1e-7, 1e-5, 100)\n",
    "topks = [4, 6, 12, 16, 24, 32]"
   ]
  },
  {
   "cell_type": "code",
   "execution_count": null,
   "metadata": {},
   "outputs": [],
   "source": [
    "ablated_metrics, n_nodes_counts = circuitizer.run_ablated_metrics(thresholds)"
   ]
  },
  {
   "cell_type": "code",
   "execution_count": null,
   "metadata": {},
   "outputs": [],
   "source": [
    "target_metric = (max(ablated_metrics) - min(ablated_metrics)) * 0.95 + min(ablated_metrics)\n",
    "target_threshold = [threshold for threshold, metric in reversed(list(zip(thresholds, ablated_metrics))) if metric > target_metric][0]"
   ]
  },
  {
   "cell_type": "code",
   "execution_count": null,
   "metadata": {},
   "outputs": [],
   "source": [
    "from tqdm.auto import tqdm\n",
    "import numpy as np\n",
    "\n",
    "combined_ies = {}\n",
    "typed_ies = {\n",
    "    \"r\": circuitizer.ie_resid,\n",
    "    \"a\": circuitizer.ie_attn,\n",
    "    \"t\": circuitizer.ie_transcoder,\n",
    "}\n",
    "\n",
    "for layer in tqdm(layers):\n",
    "    for type in typed_ies:\n",
    "        if layer in typed_ies[type]: \n",
    "            ies = typed_ies[type][layer]\n",
    "            for mask in circuitizer.masks:\n",
    "                ies_mask = circuitizer.mask_average(ies, mask)\n",
    "                i = np.nonzero(np.abs(ies_mask) > target_threshold)[0]\n",
    "                w = ies_mask[i]\n",
    "\n",
    "                for idx, weight in zip(i.tolist(), w.tolist()):\n",
    "                    combined_ies[(layer, mask, type, idx)] = weight\n",
    "\n",
    "                # w, i = jax.lax.top_k(ies_mask, 4)\n",
    "                # for idx, weight in zip(i.tolist(), w.tolist()):\n",
    "                #     combined_ies[(layer, mask, type, idx)] = weight"
   ]
  },
  {
   "cell_type": "code",
   "execution_count": null,
   "metadata": {},
   "outputs": [],
   "source": [
    "combined_ies = [\n",
    "    key + (weight,)\n",
    "    for key, weight in combined_ies.items()\n",
    "]"
   ]
  },
  {
   "cell_type": "code",
   "execution_count": null,
   "metadata": {},
   "outputs": [],
   "source": [
    "typed_ies_error = {\n",
    "    \"er\": circuitizer.ie_error_resid,\n",
    "    \"ea\": circuitizer.ie_error_attn,\n",
    "    \"et\": circuitizer.ie_error_transcoder,\n",
    "}\n",
    "\n",
    "for layer in tqdm(layers):\n",
    "    for type in typed_ies_error:\n",
    "        if layer in typed_ies_error[type]: \n",
    "            ies = typed_ies_error[type][layer]\n",
    "            for mask in circuitizer.masks:\n",
    "                ies_mask = circuitizer.mask_average(ies, mask)\n",
    "                # print(ies_mask.tolist())\n",
    "                # raise\n",
    "                combined_ies.append((layer, mask, type, 0, ies_mask.tolist()))"
   ]
  },
  {
   "cell_type": "code",
   "execution_count": null,
   "metadata": {},
   "outputs": [],
   "source": [
    "combined_ies = sorted(combined_ies, key=lambda x: -x[-1])"
   ]
  },
  {
   "cell_type": "code",
   "execution_count": null,
   "metadata": {},
   "outputs": [],
   "source": [
    "important_feats_masks = {}\n",
    "for mask in circuitizer.masks:\n",
    "    important_feats_masks[mask] = [\n",
    "        (type, layer, feat) for layer, f_mask, type, feat, _ in combined_ies if f_mask == mask\n",
    "        ]"
   ]
  },
  {
   "cell_type": "code",
   "execution_count": null,
   "metadata": {},
   "outputs": [],
   "source": [
    "from collections import defaultdict\n",
    "flat_feats = defaultdict(list)\n",
    "for k, v in important_feats_masks.items():\n",
    "    for type, layer, feat in v:\n",
    "        flat_feats[(k, type, layer)].append(feat)"
   ]
  },
  {
   "cell_type": "code",
   "execution_count": null,
   "metadata": {},
   "outputs": [],
   "source": [
    "from tqdm.auto import trange\n",
    "import jax.numpy as jnp\n",
    "graph = []\n",
    "\n",
    "batch_size = 16\n",
    "k = 32\n",
    "for type, features in tqdm(sorted(flat_feats.items(), key=lambda x: (-x[0][-1], x[0][-2], x[0][-3]))):\n",
    "    mask, feature_type, layer = type\n",
    "    mask = jnp.array(list(circuitizer.masks.keys()).index(mask))\n",
    "    for batch in trange(0, len(features), batch_size, postfix=str(type)):\n",
    "        batch_features = features[batch:batch+batch_size]\n",
    "        orig_length = len(batch_features)\n",
    "        batch_features = batch_features + [0] * (batch_size - len(batch_features))\n",
    "        feature_effectss = jax.vmap(lambda x: circuitizer.compute_feature_effects(feature_type, layer, x, mask, layer_window=1))(jnp.asarray(batch_features))\n",
    "        # feature_effectss = circuitizer.compute_feature_effects(feature_type, layer, batch_features, mask, layer_window=1)\n",
    "        \n",
    "        top_effects = defaultdict(list)\n",
    "        for key, featuress in feature_effectss.items():\n",
    "            for elem, feature_effects in enumerate(featuress):\n",
    "                if elem >= orig_length:\n",
    "                    continue\n",
    "                if feature_effects.ndim == 0:\n",
    "                    top_effects[elem].append((float(feature_effects), key, 0))\n",
    "                    continue\n",
    "                effects, indices = jax.lax.top_k(jnp.abs(feature_effects), k)\n",
    "                for i, e in zip(indices.tolist(), effects.tolist()):\n",
    "                    top_effects[elem].append((e, key, i))\n",
    "        for elem, effects in top_effects.items():\n",
    "            effects.sort(reverse=True)\n",
    "            edges = effects[:k]\n",
    "            graph.extend([(weight, batch_features[elem], downstream_feature) for weight, _, downstream_feature in edges])\n",
    "        \n",
    "        # # edges = circuitizer.compute_edges(*feature, mask, layer_window=1)\n",
    "        # graph.extend([(weight, feature, downstream_feature) for weight, _, downstream_feature in edges])\n",
    "    \n",
    "        # for feature in tqdm(batch_features):\n",
    "        #     feature_effects = circuitizer.compute_feature_effects(feature_type, layer, feature, mask, layer_window=1)\n",
    "        #     top_effects = []\n",
    "        #     for key, features in feature_effects.items():\n",
    "        #         if features.ndim == 0:\n",
    "        #             top_effects.append((float(features), key, 0))\n",
    "        #             continue\n",
    "        #         effects, indices = jax.lax.top_k(jnp.abs(features), k)\n",
    "        #         for i, e in zip(indices.tolist(), effects.tolist()):\n",
    "        #             top_effects.append((e, key, i))\n",
    "        #     top_effects.sort(reverse=True)\n",
    "        #     edges = top_effects[:k]\n",
    "            \n",
    "        #     # edges = circuitizer.compute_edges(*feature, mask, layer_window=1)\n",
    "        #     graph.extend([(weight, feature, downstream_feature) for weight, _, downstream_feature in edges])\n",
    "\n",
    "\n",
    "\n",
    "# for mask, features in tqdm(important_feats_masks.items()):\n",
    "#     for batch in trange(0, len(features), batch_size):\n",
    "#         batch_features = features[batch:batch+batch_size]\n",
    "        \n",
    "        \n",
    "#         for feature in tqdm(batch_features):\n",
    "#             # edges = circuitizer.compute_edges(*feature, mask, layer_window=1)\n",
    "#             graph.extend([(weight, feature, downstream_feature) for weight, _, downstream_feature in edges])\n",
    "\n",
    "\n",
    "#     # for downstream_feature in tqdm(features):\n",
    "#     #     edges = compute_edges(downstream_feature, mask, layer_window=1)\n",
    "#     #     graph.extend([(weight, upstream_feature_key + (upstream_feature,), downstream_feature[:2] + (mask,) + downstream_feature[2:])\n",
    "#     #                   for weight, upstream_feature_key, upstream_feature in edges])"
   ]
  }
 ],
 "metadata": {
  "kernelspec": {
   "display_name": "micrlhf-progress-_SD4q1c9-py3.12",
   "language": "python",
   "name": "python3"
  },
  "language_info": {
   "codemirror_mode": {
    "name": "ipython",
    "version": 3
   },
   "file_extension": ".py",
   "mimetype": "text/x-python",
   "name": "python",
   "nbconvert_exporter": "python",
   "pygments_lexer": "ipython3",
   "version": "3.12.0"
  }
 },
 "nbformat": 4,
 "nbformat_minor": 2
}
