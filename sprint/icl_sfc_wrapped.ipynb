{
 "cells": [
  {
   "cell_type": "code",
   "execution_count": 1,
   "metadata": {},
   "outputs": [],
   "source": [
    "import os\n",
    "if \"models\" not in os.listdir(\".\"):\n",
    "    os.chdir(\"../..\")"
   ]
  },
  {
   "cell_type": "code",
   "execution_count": 2,
   "metadata": {},
   "outputs": [
    {
     "data": {
      "text/plain": [
       "['.ssh',\n",
       " '.ipython',\n",
       " '.vscode-server',\n",
       " '.gitconfig',\n",
       " '.dotnet',\n",
       " 'cleanup_results.jsonl',\n",
       " 'gemma_2_cleaning_compact_65k.jsonl',\n",
       " '.wget-hsts',\n",
       " 'data',\n",
       " '.local',\n",
       " 'gemma_2_cleaning_algo.jsonl',\n",
       " '.python_history',\n",
       " '.bash_logout',\n",
       " 'models',\n",
       " '.bashrc',\n",
       " 'cleanup_results_gemma_2_post.jsonl',\n",
       " '.config',\n",
       " 'cleanup_results_gemma_2.jsonl',\n",
       " '.profile',\n",
       " 'gemma_2_cleaning_compact.jsonl',\n",
       " 'cleanup_results_gemma_2_all.jsonl',\n",
       " 'cleanup_results_gemma_2_algo.jsonl',\n",
       " '.cache',\n",
       " 'micrlhf-progress',\n",
       " '.bash_history',\n",
       " 'cleanup_results_algo.jsonl',\n",
       " 'cleanup_results_ito.jsonl']"
      ]
     },
     "execution_count": 2,
     "metadata": {},
     "output_type": "execute_result"
    }
   ],
   "source": [
    "os.listdir(\".\")"
   ]
  },
  {
   "cell_type": "code",
   "execution_count": 3,
   "metadata": {},
   "outputs": [],
   "source": [
    "%load_ext autoreload\n",
    "%autoreload 2\n",
    "import penzai\n",
    "import jax_smi\n",
    "jax_smi.initialise_tracking()\n",
    "from penzai import pz\n",
    "pz.ts.register_as_default()\n",
    "pz.ts.register_autovisualize_magic()\n",
    "pz.enable_interactive_context()"
   ]
  },
  {
   "cell_type": "code",
   "execution_count": 4,
   "metadata": {},
   "outputs": [
    {
     "name": "stdout",
     "output_type": "stream",
     "text": [
      "env: JAX_TRACEBACK_FILTERING=off\n"
     ]
    }
   ],
   "source": [
    "%env JAX_TRACEBACK_FILTERING=off\n",
    "import jax\n",
    "jax.config.update('jax_traceback_filtering', 'off')\n"
   ]
  },
  {
   "cell_type": "code",
   "execution_count": 5,
   "metadata": {},
   "outputs": [],
   "source": [
    "from sprint.icl_sfc_utils import Circuitizer"
   ]
  },
  {
   "cell_type": "code",
   "execution_count": 6,
   "metadata": {},
   "outputs": [],
   "source": [
    "from micrlhf.llama import LlamaTransformer\n",
    "llama = LlamaTransformer.from_pretrained(\"models/gemma-2b-it.gguf\", from_type=\"gemma\", load_eager=True, device_map=\"tpu:0\")"
   ]
  },
  {
   "cell_type": "code",
   "execution_count": 7,
   "metadata": {},
   "outputs": [],
   "source": [
    "from transformers import AutoTokenizer\n",
    "tokenizer = AutoTokenizer.from_pretrained(\"alpindale/gemma-2b\")\n",
    "tokenizer.padding_side = \"right\""
   ]
  },
  {
   "cell_type": "code",
   "execution_count": 8,
   "metadata": {},
   "outputs": [],
   "source": [
    "from sprint.task_vector_utils import load_tasks, ICLRunner\n",
    "tasks = load_tasks()"
   ]
  },
  {
   "cell_type": "code",
   "execution_count": 9,
   "metadata": {},
   "outputs": [
    {
     "name": "stdout",
     "output_type": "stream",
     "text": [
      "162\n",
      "162\n"
     ]
    }
   ],
   "source": [
    "def check_if_single_token(token):\n",
    "    return len(tokenizer.tokenize(token)) == 1\n",
    "\n",
    "task_name = \"antonyms\"\n",
    "\n",
    "task = tasks[task_name]\n",
    "\n",
    "print(len(task))\n",
    "\n",
    "# task = {\n",
    "#     k:v for k,v in task.items() if check_if_single_token(k) and check_if_single_token(v)\n",
    "# }\n",
    "\n",
    "print(len(task))\n",
    "\n",
    "pairs = list(task.items())\n",
    "\n",
    "batch_size = 8 \n",
    "n_shot=20\n",
    "max_seq_len = 128\n",
    "seed = 10\n",
    "\n",
    "prompt = \"Follow the pattern:\\n{}\"\n",
    "\n",
    "runner = ICLRunner(task_name, pairs, batch_size=batch_size, n_shot=n_shot, max_seq_len=max_seq_len, seed=seed, prompt=prompt)"
   ]
  },
  {
   "cell_type": "code",
   "execution_count": 10,
   "metadata": {},
   "outputs": [
    {
     "name": "stdout",
     "output_type": "stream",
     "text": [
      "Setting up masks...\n",
      "Running metrics...\n",
      "Setting up RMS...\n"
     ]
    },
    {
     "data": {
      "application/vnd.jupyter.widget-view+json": {
       "model_id": "3d586f88e6f141bd928c07e8cf83e5c4",
       "version_major": 2,
       "version_minor": 0
      },
      "text/plain": [
       "  0%|          | 0/18 [00:00<?, ?it/s]"
      ]
     },
     "metadata": {},
     "output_type": "display_data"
    },
    {
     "name": "stdout",
     "output_type": "stream",
     "text": [
      "Loading SAEs...\n"
     ]
    },
    {
     "data": {
      "application/vnd.jupyter.widget-view+json": {
       "model_id": "ec88bdcf44a643a4a6ff6131fedda255",
       "version_major": 2,
       "version_minor": 0
      },
      "text/plain": [
       "  0%|          | 0/11 [00:00<?, ?it/s]"
      ]
     },
     "metadata": {},
     "output_type": "display_data"
    },
    {
     "name": "stdout",
     "output_type": "stream",
     "text": [
      "Running node IEs...\n"
     ]
    },
    {
     "data": {
      "application/vnd.jupyter.widget-view+json": {
       "model_id": "30e032aa6f1d40519780ab08a1ee9c43",
       "version_major": 2,
       "version_minor": 0
      },
      "text/plain": [
       "  0%|          | 0/11 [00:00<?, ?it/s]"
      ]
     },
     "metadata": {},
     "output_type": "display_data"
    },
    {
     "data": {
      "application/vnd.jupyter.widget-view+json": {
       "model_id": "8dcf5ffc8a764d43933ddf2154cfad70",
       "version_major": 2,
       "version_minor": 0
      },
      "text/plain": [
       "  0%|          | 0/11 [00:00<?, ?it/s]"
      ]
     },
     "metadata": {},
     "output_type": "display_data"
    },
    {
     "data": {
      "application/vnd.jupyter.widget-view+json": {
       "model_id": "551ca4222d73457f94504be8bc40caa1",
       "version_major": 2,
       "version_minor": 0
      },
      "text/plain": [
       "  0%|          | 0/10 [00:00<?, ?it/s]"
      ]
     },
     "metadata": {},
     "output_type": "display_data"
    }
   ],
   "source": [
    "layers = list(range(6, 17))\n",
    "circuitizer = Circuitizer(llama, tokenizer, runner, layers, prompt)"
   ]
  },
  {
   "cell_type": "code",
   "execution_count": 21,
   "metadata": {},
   "outputs": [],
   "source": [
    "import numpy as np\n",
    "\n",
    "thresholds = np.logspace(-7, -5, 150)\n",
    "topks = [4, 6, 12, 16, 24, 32]"
   ]
  },
  {
   "cell_type": "code",
   "execution_count": 22,
   "metadata": {},
   "outputs": [
    {
     "data": {
      "application/vnd.jupyter.widget-view+json": {
       "model_id": "22e04415a4554e30bf003b4bd61f3591",
       "version_major": 2,
       "version_minor": 0
      },
      "text/plain": [
       "  0%|          | 0/150 [00:00<?, ?it/s]"
      ]
     },
     "metadata": {},
     "output_type": "display_data"
    }
   ],
   "source": [
    "ablated_metrics, n_nodes_counts = circuitizer.run_ablated_metrics(thresholds)"
   ]
  },
  {
   "cell_type": "code",
   "execution_count": 30,
   "metadata": {},
   "outputs": [
    {
     "data": {
      "image/png": "[encoded data removed]",
      "text/plain": [
       "<Figure size 640x480 with 1 Axes>"
      ]
     },
     "metadata": {},
     "output_type": "display_data"
    }
   ],
   "source": [
    "from matplotlib import pyplot as plt   \n",
    "\n",
    "plt.plot(thresholds, ablated_metrics)\n",
    "plt.xscale(\"log\")"
   ]
  },
  {
   "cell_type": "code",
   "execution_count": 24,
   "metadata": {},
   "outputs": [],
   "source": [
    "target_metric = (max(ablated_metrics) - min(ablated_metrics)) * 0.95 + min(ablated_metrics)\n",
    "target_threshold = [threshold for threshold, metric in reversed(list(zip(thresholds, ablated_metrics))) if metric > target_metric][0]"
   ]
  },
  {
   "cell_type": "code",
   "execution_count": 25,
   "metadata": {},
   "outputs": [
    {
     "data": {
      "application/vnd.jupyter.widget-view+json": {
       "model_id": "26f659349b9643078ea6ed8dd37c9344",
       "version_major": 2,
       "version_minor": 0
      },
      "text/plain": [
       "  0%|          | 0/11 [00:00<?, ?it/s]"
      ]
     },
     "metadata": {},
     "output_type": "display_data"
    }
   ],
   "source": [
    "from tqdm.auto import tqdm\n",
    "import numpy as np\n",
    "\n",
    "combined_ies = {}\n",
    "typed_ies = {\n",
    "    \"r\": circuitizer.ie_resid,\n",
    "    \"a\": circuitizer.ie_attn,\n",
    "    \"t\": circuitizer.ie_transcoder,\n",
    "}\n",
    "\n",
    "for layer in tqdm(layers):\n",
    "    for type in typed_ies:\n",
    "        if layer in typed_ies[type]: \n",
    "            ies = typed_ies[type][layer]\n",
    "            for mask in circuitizer.masks:\n",
    "                ies_mask = circuitizer.mask_average(ies, mask)\n",
    "                i = np.nonzero(np.abs(ies_mask) > target_threshold)[0]\n",
    "                w = ies_mask[i]\n",
    "\n",
    "                for idx, weight in zip(i.tolist(), w.tolist()):\n",
    "                    combined_ies[(layer, mask, type, idx)] = weight\n",
    "\n",
    "                # w, i = jax.lax.top_k(ies_mask, 4)\n",
    "                # for idx, weight in zip(i.tolist(), w.tolist()):\n",
    "                #     combined_ies[(layer, mask, type, idx)] = weight"
   ]
  },
  {
   "cell_type": "code",
   "execution_count": 26,
   "metadata": {},
   "outputs": [],
   "source": [
    "combined_ies = [\n",
    "    key + (weight,)\n",
    "    for key, weight in combined_ies.items()\n",
    "]"
   ]
  },
  {
   "cell_type": "code",
   "execution_count": 27,
   "metadata": {},
   "outputs": [
    {
     "data": {
      "application/vnd.jupyter.widget-view+json": {
       "model_id": "1243ab12aa604c52ab4a63920184a3c9",
       "version_major": 2,
       "version_minor": 0
      },
      "text/plain": [
       "  0%|          | 0/11 [00:00<?, ?it/s]"
      ]
     },
     "metadata": {},
     "output_type": "display_data"
    }
   ],
   "source": [
    "typed_ies_error = {\n",
    "    \"er\": circuitizer.ie_error_resid,\n",
    "    \"ea\": circuitizer.ie_error_attn,\n",
    "    \"et\": circuitizer.ie_error_transcoder,\n",
    "}\n",
    "\n",
    "for layer in tqdm(layers):\n",
    "    for type in typed_ies_error:\n",
    "        if layer in typed_ies_error[type]: \n",
    "            ies = typed_ies_error[type][layer]\n",
    "            for mask in circuitizer.masks:\n",
    "                ies_mask = circuitizer.mask_average(ies, mask)\n",
    "                # print(ies_mask.tolist())\n",
    "                # raise\n",
    "                combined_ies.append((layer, mask, type, 0, ies_mask.tolist()))"
   ]
  },
  {
   "cell_type": "code",
   "execution_count": 28,
   "metadata": {},
   "outputs": [],
   "source": [
    "combined_ies = sorted(combined_ies, key=lambda x: -x[-1])"
   ]
  },
  {
   "cell_type": "code",
   "execution_count": 29,
   "metadata": {},
   "outputs": [
    {
     "data": {
      "text/html": [
       "<script> (()=>{ if (customElements.get('treescope-container') === undefined) { class TreescopeContainer extends HTMLElement { constructor() { super(); this.attachShadow({mode: \"open\"}); this.defns = {}; this.state = {}; } } customElements.define(\"treescope-container\", TreescopeContainer); } if (customElements.get('treescope-run-here') === undefined) { class RunHere extends HTMLElement { constructor() { super() } connectedCallback() { const run = child => { const fn = new Function(child.textContent); child.textContent = \"\"; fn.call(this); this.remove(); }; const child = this.querySelector(\"script\"); if (child) { run(child); } else { new MutationObserver(()=>{ run(this.querySelector(\"script\")); }).observe(this, {childList: true}); } } } customElements.define(\"treescope-run-here\", RunHere); } })(); </script> <treescope-container class=\"treescope_out_1897aa0c526647e98f0bbb9baf7aa7e5\" ></treescope-container> <treescope-run-here><script type=\"application/octet-stream\"> const root = ( Array.from(document.getElementsByClassName( \"treescope_out_1897aa0c526647e98f0bbb9baf7aa7e5\")) .filter((elt) => !elt.dataset.setup) )[0]; root.dataset.setup = 1; const msg = document.createElement(\"span\"); msg.style = \"color: #aaaaaa; font-family: monospace; transition: opacity 0.2s; opacity: 0.0;\"; msg.textContent = \"(Loading...)\"; root.state.loadingMsg = msg; root.shadowRoot.appendChild(msg); root.state.chain = new Promise((resolve, reject) => { const observer = new IntersectionObserver((entries) => { for (const entry of entries) { if (entry.isIntersecting) { resolve(); observer.disconnect(); return; } } }, {rootMargin: \"1000px\"}); window.setTimeout(() => { if (root.loadingMsg) { root.loadingMsg.style.opacity = \"1.0\"; } observer.observe(root); }, 0); }); root.state.deferring = false; const _insertNode = (node) => { for (let oldScript of node.querySelectorAll(\"script\")) { let newScript = document.createElement(\"script\"); newScript.type = oldScript.type; newScript.textContent = oldScript.textContent; oldScript.parentNode.replaceChild(newScript, oldScript); } if (root.state.loadingMsg) { root.state.loadingMsg.remove(); root.state.loadingMsg = null; } root.shadowRoot.appendChild(node); }; root.defns.insertContent = ((contentNode, compressed) => { if (compressed) { root.state.deferring = true; } if (root.state.deferring) { root.state.chain = (async () => { await root.state.chain; if (compressed) { const encoded = contentNode.textContent; const blob = new Blob([ Uint8Array.from(atob(encoded), (m) => m.codePointAt(0)) ]); const reader = blob.stream().pipeThrough( new DecompressionStream(\"deflate\") ).pipeThrough( new TextDecoderStream(\"utf-8\") ).getReader(); const parts = []; while (true) { const step = await reader.read(); if (step.done) { break; } parts.push(step.value); } const tpl = document.createElement('template'); tpl.innerHTML = parts.join(\"\"); _insertNode(tpl.content); } else { _insertNode(contentNode.content); } })(); } else { _insertNode(contentNode.content); } }); </script></treescope-run-here><div style=\"display:none\"> <script type=\"application/octet-stream\" >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</script> <treescope-run-here><script type=\"application/octet-stream\"> const root = ( Array.from(document.getElementsByClassName( \"treescope_out_1897aa0c526647e98f0bbb9baf7aa7e5\")) .filter((elt) => !elt.dataset['step0']) )[0]; root.dataset['step0'] = 1; root.defns.insertContent( this.parentNode.querySelector('script[type=\"application/octet-stream\"]'), true ); this.parentNode.remove(); </script></treescope-run-here> </div>"
      ],
      "text/plain": [
       "<IPython.core.display.HTML object>"
      ]
     },
     "metadata": {},
     "output_type": "display_data"
    },
    {
     "data": {
      "text/html": [
       "<treescope-run-here><script type=\"application/octet-stream\"> const root = ( Array.from(document.getElementsByClassName( \"treescope_out_1897aa0c526647e98f0bbb9baf7aa7e5\")) .filter((elt) => !elt.dataset.stolen) )[0]; root.dataset.stolen = 1; this.parentNode.replaceChild(root, this); </script></treescope-run-here>"
      ],
      "text/plain": [
       "[(8, 'prompt', 'ea', 0, 0.18912188708782196),\n",
       " (14, 'arrow', 'er', 0, 0.04667269065976143),\n",
       " (13, 'arrow', 'er', 0, 0.03711532801389694),\n",
       " (12, 'arrow', 'er', 0, 0.03687593713402748),\n",
       " (11, 'arrow', 'er', 0, 0.028419092297554016),\n",
       " (11, 'output', 'er', 0, 0.016914959996938705),\n",
       " (11, 'input', 'er', 0, 0.013501716777682304),\n",
       " (12, 'input', 'er', 0, 0.013418298214673996),\n",
       " (10, 'input', 'er', 0, 0.013065731152892113),\n",
       " (10, 'arrow', 'er', 0, 0.012834489345550537),\n",
       " (16, 'arrow', 'er', 0, 0.011272262781858444),\n",
       " (9, 'input', 'er', 0, 0.010690001770853996),\n",
       " (10, 'output', 'r', 31539, 0.009122243151068687),\n",
       " (11, 'output', 'r', 5971, 0.008917017839848995),\n",
       " (9, 'output', 'r', 28491, 0.008589409291744232),\n",
       " (15, 'arrow', 'er', 0, 0.008407769724726677),\n",
       " (12, 'output', 'er', 0, 0.008034736849367619),\n",
       " (12, 'arrow', 'r', 22136, 0.007973853498697281),\n",
       " (11, 'arrow', 'a', 4080, 0.007461613975465298),\n",
       " (10, 'output', 'r', 24942, 0.007294937968254089),\n",
       " (7, 'output', 'er', 0, 0.007218386046588421),\n",
       " (8, 'output', 'et', 0, 0.0069750165566802025),\n",
       " (9, 'arrow', 'er', 0, 0.006920747458934784),\n",
       " (11, 'arrow', 'et', 0, 0.006815570406615734),\n",
       " (14, 'arrow', 'r', 27659, 0.00668629165738821),\n",
       " (15, 'arrow', 'r', 14531, 0.006228180136531591),\n",
       " (10, 'output', 'er', 0, 0.006211680360138416),\n",
       " (12, 'arrow', 'r', 11618, 0.006146292667835951),\n",
       " (16, 'arrow', 'r', 19087, 0.006068526767194271),\n",
       " (9, 'output', 't', 3442, 0.006003871560096741),\n",
       " (16, 'arrow', 'r', 5445, 0.005795613396912813),\n",
       " (10, 'output', 'r', 20636, 0.0056126001290977),\n",
       " (15, 'arrow', 'et', 0, 0.005584307946264744),\n",
       " (9, 'output', 'r', 16425, 0.005500805098563433),\n",
       " (14, 'arrow', 'r', 31950, 0.00531836086884141),\n",
       " (11, 'prompt', 'er', 0, 0.0052214935421943665),\n",
       " (15, 'arrow', 'r', 6663, 0.005219798069447279),\n",
       " (10, 'output', 'r', 29472, 0.005133264698088169),\n",
       " (13, 'arrow', 'r', 22840, 0.005043341312557459),\n",
       " (6, 'output', 'r', 19892, 0.004885741509497166),\n",
       " (13, 'arrow', 't', 10580, 0.004870689939707518),\n",
       " (15, 'arrow', 'r', 13830, 0.0047426288947463036),\n",
       " (6, 'output', 'er', 0, 0.004673415794968605),\n",
       " (9, 'output', 'r', 32424, 0.004671826492995024),\n",
       " (8, 'prompt', 'r', 21338, 0.004556332714855671),\n",
       " (16, 'arrow', 'r', 25826, 0.00453529879450798),\n",
       " (11, 'arrow', 'r', 19051, 0.004533370491117239),\n",
       " (14, 'arrow', 'r', 7157, 0.004460714291781187),\n",
       " (12, 'arrow', 'et', 0, 0.004409285727888346),\n",
       " (15, 'arrow', 'r', 26928, 0.004370299633592367),\n",
       " (13, 'arrow', 'et', 0, 0.004322022665292025),\n",
       " (8, 'output', 'r', 21402, 0.004247972276061773),\n",
       " (14, 'arrow', 'r', 29232, 0.004202493466436863),\n",
       " (14, 'arrow', 'et', 0, 0.004192355088889599),\n",
       " (14, 'arrow', 'r', 10111, 0.004162600263953209),\n",
       " (13, 'arrow', 'r', 1069, 0.004151948727667332),\n",
       " (7, 'arrow', 'er', 0, 0.004125028848648071),\n",
       " (12, 'arrow', 'r', 18840, 0.004103373270481825),\n",
       " (11, 'arrow', 't', 28850, 0.003953803796321154),\n",
       " (15, 'arrow', 'r', 25945, 0.0039483532309532166),\n",
       " (7, 'prompt', 't', 25687, 0.003773904638364911),\n",
       " (16, 'arrow', 'r', 16396, 0.0037243126425892115),\n",
       " (6, 'input', 'r', 6060, 0.0036839605309069157),\n",
       " (7, 'input', 'r', 22736, 0.0036783970426768064),\n",
       " (12, 'arrow', 'ea', 0, 0.003662863513454795),\n",
       " (14, 'arrow', 'r', 24868, 0.0036473609507083893),\n",
       " (15, 'arrow', 'ea', 0, 0.0036249225959181786),\n",
       " (13, 'arrow', 'r', 16099, 0.0036046700552105904),\n",
       " (16, 'arrow', 'r', 16628, 0.003596897004172206),\n",
       " (12, 'input', 'r', 5596, 0.0035651330836117268),\n",
       " (15, 'arrow', 'r', 18849, 0.0035538841038942337),\n",
       " (9, 'prompt', 'r', 29188, 0.0035487068817019463),\n",
       " (7, 'output', 'r', 25335, 0.003503157990053296),\n",
       " (15, 'arrow', 'r', 7118, 0.003494291566312313),\n",
       " (8, 'arrow', 'ea', 0, 0.003493135329335928),\n",
       " (6, 'prompt', 'er', 0, 0.003485039807856083),\n",
       " (12, 'arrow', 'r', 6780, 0.0034501508343964815),\n",
       " (9, 'arrow', 'r', 19243, 0.0034348652698099613),\n",
       " (10, 'output', 'r', 12895, 0.003410435514524579),\n",
       " (6, 'arrow', 'er', 0, 0.0033588914666324854),\n",
       " (16, 'newline', 'er', 0, 0.0033419914543628693),\n",
       " (9, 'arrow', 'ea', 0, 0.0033310435246676207),\n",
       " (14, 'arrow', 'r', 29566, 0.003305115969851613),\n",
       " (7, 'arrow', 'r', 16810, 0.0032939088996499777),\n",
       " (10, 'output', 'r', 4338, 0.0032583053689450026),\n",
       " (11, 'output', 'r', 11050, 0.0032012637238949537),\n",
       " (10, 'arrow', 'a', 18907, 0.0031960192136466503),\n",
       " (12, 'arrow', 'r', 14612, 0.0031675854697823524),\n",
       " (14, 'arrow', 'r', 28220, 0.003157388186082244),\n",
       " (10, 'input', 'r', 32178, 0.0031218696385622025),\n",
       " (8, 'output', 'r', 19912, 0.003102800576016307),\n",
       " (7, 'output', 'r', 12527, 0.0030909166671335697),\n",
       " (12, 'newline', 'er', 0, 0.003061105962842703),\n",
       " (10, 'input', 'et', 0, 0.0030424827709794044),\n",
       " (13, 'arrow', 'r', 1777, 0.0029967741575092077),\n",
       " (14, 'output', 'er', 0, 0.0029543405398726463),\n",
       " (9, 'input', 'r', 22501, 0.002910710871219635),\n",
       " (11, 'arrow', 'a', 7345, 0.002878223778679967),\n",
       " (10, 'arrow', 'r', 20168, 0.002871666569262743),\n",
       " (6, 'input', 'et', 0, 0.002799267414957285)]"
      ]
     },
     "execution_count": 29,
     "metadata": {},
     "output_type": "execute_result"
    }
   ],
   "source": [
    "combined_ies[:100]"
   ]
  },
  {
   "cell_type": "code",
   "execution_count": 19,
   "metadata": {},
   "outputs": [],
   "source": [
    "important_feats_masks = {}\n",
    "for mask in circuitizer.masks:\n",
    "    important_feats_masks[mask] = [\n",
    "        (type, layer, feat) for layer, f_mask, type, feat, _ in combined_ies if f_mask == mask\n",
    "        ]"
   ]
  },
  {
   "cell_type": "code",
   "execution_count": 20,
   "metadata": {},
   "outputs": [],
   "source": [
    "from collections import defaultdict\n",
    "flat_feats = defaultdict(list)\n",
    "for k, v in important_feats_masks.items():\n",
    "    for type, layer, feat in v:\n",
    "        flat_feats[(k, type, layer)].append(feat)"
   ]
  },
  {
   "cell_type": "code",
   "execution_count": 36,
   "metadata": {},
   "outputs": [
    {
     "data": {
      "application/vnd.jupyter.widget-view+json": {
       "model_id": "3f013b142d974d358eb521991fe903d5",
       "version_major": 2,
       "version_minor": 0
      },
      "text/plain": [
       "  0%|          | 0/320 [00:00<?, ?it/s]"
      ]
     },
     "metadata": {},
     "output_type": "display_data"
    },
    {
     "data": {
      "application/vnd.jupyter.widget-view+json": {
       "model_id": "0589ecebccde4b44a58baac2a7f3a624",
       "version_major": 2,
       "version_minor": 0
      },
      "text/plain": [
       "  0%|          | 0/81 [00:00<?, ?it/s, ('arrow', 'a', 16)]"
      ]
     },
     "metadata": {},
     "output_type": "display_data"
    },
    {
     "name": "stdout",
     "output_type": "stream",
     "text": [
      "dict_keys([('er', 16, 'arrow'), ('er', 16, 'input'), ('er', 16, 'newline'), ('er', 16, 'output'), ('er', 16, 'prompt'), ('r', 16, 'arrow'), ('r', 16, 'input'), ('r', 16, 'newline'), ('r', 16, 'output'), ('r', 16, 'prompt')]) [26950, 25539, 1085, 14538, 19232, 7123, 20911, 12264, 12539, 12413, 32120, 26574, 23636, 23114, 178, 12793]\n",
      "('er', 16, 'arrow') (16,)\n",
      "('er', 16, 'input') (16,)\n",
      "('er', 16, 'newline') (16,)\n",
      "('er', 16, 'output') (16,)\n",
      "('er', 16, 'prompt') (16,)\n",
      "('r', 16, 'arrow') (16, 32768)\n",
      "('r', 16, 'input') (16, 32768)\n",
      "('r', 16, 'newline') (16, 32768)\n",
      "('r', 16, 'output') (16, 32768)\n",
      "('r', 16, 'prompt') (16, 32768)\n",
      "[(6.0595695686060935e-05, ('er', 16, 'input', 0), ('a', 16, 'arrow', 26950)), (4.51656014774926e-05, ('r', 16, 'prompt', 5241), ('a', 16, 'arrow', 26950)), (3.955366264563054e-05, ('r', 16, 'arrow', 29818), ('a', 16, 'arrow', 26950)), (3.92732436012011e-05, ('r', 16, 'arrow', 24991), ('a', 16, 'arrow', 26950)), (3.684913463075645e-05, ('er', 16, 'prompt', 0), ('a', 16, 'arrow', 26950)), (2.9562317649833858e-05, ('er', 16, 'arrow', 0), ('a', 16, 'arrow', 26950)), (2.319858867849689e-05, ('r', 16, 'arrow', 17821), ('a', 16, 'arrow', 26950)), (2.309978663106449e-05, ('r', 16, 'input', 11940), ('a', 16, 'arrow', 26950)), (2.1727033526985906e-05, ('r', 16, 'input', 1925), ('a', 16, 'arrow', 26950)), (2.1575855498667806e-05, ('r', 16, 'arrow', 4864), ('a', 16, 'arrow', 26950)), (1.8731390809989534e-05, ('r', 16, 'arrow', 2353), ('a', 16, 'arrow', 26950)), (1.5680485375924036e-05, ('r', 16, 'input', 471), ('a', 16, 'arrow', 26950)), (1.5463583622477017e-05, ('er', 16, 'newline', 0), ('a', 16, 'arrow', 26950)), (1.5248271665768698e-05, ('r', 16, 'input', 1913), ('a', 16, 'arrow', 26950)), (1.2924692782689817e-05, ('r', 16, 'arrow', 21347), ('a', 16, 'arrow', 26950)), (1.2538909686554689e-05, ('r', 16, 'input', 23790), ('a', 16, 'arrow', 26950)), (1.1613489732553717e-05, ('r', 16, 'newline', 1925), ('a', 16, 'arrow', 26950)), (1.1381651347619481e-05, ('r', 16, 'input', 12482), ('a', 16, 'arrow', 26950)), (1.095333482226124e-05, ('r', 16, 'output', 15037), ('a', 16, 'arrow', 26950)), (1.0365569323766977e-05, ('r', 16, 'arrow', 27427), ('a', 16, 'arrow', 26950)), (9.921205673890654e-06, ('r', 16, 'arrow', 7141), ('a', 16, 'arrow', 26950)), (9.598125870979857e-06, ('r', 16, 'arrow', 22168), ('a', 16, 'arrow', 26950)), (9.365824553242419e-06, ('r', 16, 'input', 14619), ('a', 16, 'arrow', 26950)), (9.272104762203526e-06, ('r', 16, 'arrow', 25420), ('a', 16, 'arrow', 26950)), (9.169873919745442e-06, ('r', 16, 'arrow', 8695), ('a', 16, 'arrow', 26950)), (8.940999578044284e-06, ('r', 16, 'input', 5232), ('a', 16, 'arrow', 26950)), (8.259105925390031e-06, ('r', 16, 'arrow', 28952), ('a', 16, 'arrow', 26950)), (7.690877282584552e-06, ('r', 16, 'input', 1126), ('a', 16, 'arrow', 26950)), (7.600306616950547e-06, ('r', 16, 'output', 8078), ('a', 16, 'arrow', 26950)), (7.406010354316095e-06, ('r', 16, 'input', 28017), ('a', 16, 'arrow', 26950)), (7.295067916857079e-06, ('r', 16, 'input', 21343), ('a', 16, 'arrow', 26950)), (7.205359906947706e-06, ('r', 16, 'arrow', 25826), ('a', 16, 'arrow', 26950))]\n"
     ]
    },
    {
     "ename": "ZeroDivisionError",
     "evalue": "division by zero",
     "output_type": "error",
     "traceback": [
      "\u001b[0;31m---------------------------------------------------------------------------\u001b[0m",
      "\u001b[0;31mZeroDivisionError\u001b[0m                         Traceback (most recent call last)",
      "Cell \u001b[0;32mIn[36], line 36\u001b[0m\n\u001b[1;32m     34\u001b[0m             graph\u001b[38;5;241m.\u001b[39mextend([(weight,  key \u001b[38;5;241m+\u001b[39m (upstream_feature,), (\u001b[38;5;28mtype\u001b[39m[\u001b[38;5;241m1\u001b[39m], \u001b[38;5;28mtype\u001b[39m[\u001b[38;5;241m2\u001b[39m], \u001b[38;5;28mtype\u001b[39m[\u001b[38;5;241m0\u001b[39m], batch_features[elem],) ) \u001b[38;5;28;01mfor\u001b[39;00m weight, key, upstream_feature \u001b[38;5;129;01min\u001b[39;00m edges])\n\u001b[1;32m     35\u001b[0m             \u001b[38;5;28mprint\u001b[39m(graph)\n\u001b[0;32m---> 36\u001b[0m             \u001b[38;5;241;43m1\u001b[39;49m\u001b[38;5;241;43m/\u001b[39;49m\u001b[38;5;241;43m0\u001b[39;49m\n\u001b[1;32m     38\u001b[0m         \u001b[38;5;66;03m# # edges = circuitizer.compute_edges(*feature, mask, layer_window=1)\u001b[39;00m\n\u001b[1;32m     39\u001b[0m         \u001b[38;5;66;03m# graph.extend([(weight, feature, downstream_feature) for weight, _, downstream_feature in edges])\u001b[39;00m\n\u001b[1;32m     40\u001b[0m     \n\u001b[0;32m   (...)\u001b[0m\n\u001b[1;32m     71\u001b[0m \u001b[38;5;66;03m#     #     graph.extend([(weight, upstream_feature_key + (upstream_feature,), downstream_feature[:2] + (mask,) + downstream_feature[2:])\u001b[39;00m\n\u001b[1;32m     72\u001b[0m \u001b[38;5;66;03m#     #                   for weight, upstream_feature_key, upstream_feature in edges])\u001b[39;00m\n",
      "\u001b[0;31mZeroDivisionError\u001b[0m: division by zero"
     ]
    }
   ],
   "source": [
    "from tqdm.auto import trange\n",
    "import jax.numpy as jnp\n",
    "graph = []\n",
    "\n",
    "batch_size = 16\n",
    "k = 32\n",
    "for type, features in tqdm(sorted(flat_feats.items(), key=lambda x: (-x[0][-1], x[0][-2], x[0][-3]))):\n",
    "    mask, feature_type, layer = type\n",
    "    mask = jnp.array(list(circuitizer.masks.keys()).index(mask))\n",
    "    for batch in trange(0, len(features), batch_size, postfix=str(type)):\n",
    "        batch_features = features[batch:batch+batch_size]\n",
    "        orig_length = len(batch_features)\n",
    "        batch_features = batch_features + [0] * (batch_size - len(batch_features))\n",
    "        feature_effectss = jax.vmap(lambda x: circuitizer.compute_feature_effects(feature_type, layer, x, mask, layer_window=1))(jnp.asarray(batch_features))\n",
    "        # feature_effectss = circuitizer.compute_feature_effects(feature_type, layer, batch_features, mask, layer_window=1)\n",
    "        top_effects = defaultdict(list)\n",
    "        for key, featuress in feature_effectss.items():\n",
    "            for elem, feature_effects in enumerate(featuress):\n",
    "                if elem >= orig_length:\n",
    "                    continue\n",
    "                if feature_effects.ndim == 0:\n",
    "                    top_effects[elem].append((float(feature_effects), key, 0))\n",
    "                    continue\n",
    "                effects, indices = jax.lax.top_k(jnp.abs(feature_effects), k)\n",
    "                for i, e in zip(indices.tolist(), effects.tolist()):\n",
    "                    top_effects[elem].append((e, key, i))\n",
    "        for elem, effects in top_effects.items():\n",
    "            effects.sort(reverse=True)\n",
    "            edges = effects[:k]\n",
    "            graph.extend([(weight,  key + (upstream_feature,), (type[1], type[2], type[0], batch_features[elem],) ) for weight, key, upstream_feature in edges])\n",
    "        \n",
    "        # # edges = circuitizer.compute_edges(*feature, mask, layer_window=1)\n",
    "        # graph.extend([(weight, feature, downstream_feature) for weight, _, downstream_feature in edges])\n",
    "    \n",
    "        # for feature in tqdm(batch_features):\n",
    "        #     feature_effects = circuitizer.compute_feature_effects(feature_type, layer, feature, mask, layer_window=1)\n",
    "        #     top_effects = []\n",
    "        #     for key, features in feature_effects.items():\n",
    "        #         if features.ndim == 0:\n",
    "        #             top_effects.append((float(features), key, 0))\n",
    "        #             continue\n",
    "        #         effects, indices = jax.lax.top_k(jnp.abs(features), k)\n",
    "        #         for i, e in zip(indices.tolist(), effects.tolist()):\n",
    "        #             top_effects.append((e, key, i))\n",
    "        #     top_effects.sort(reverse=True)\n",
    "        #     edges = top_effects[:k]\n",
    "            \n",
    "        #     # edges = circuitizer.compute_edges(*feature, mask, layer_window=1)\n",
    "        #     graph.extend([(weight, feature, downstream_feature) for weight, _, downstream_feature in edges])\n",
    "\n",
    "\n",
    "\n",
    "# for mask, features in tqdm(important_feats_masks.items()):\n",
    "#     for batch in trange(0, len(features), batch_size):\n",
    "#         batch_features = features[batch:batch+batch_size]\n",
    "        \n",
    "        \n",
    "#         for feature in tqdm(batch_features):\n",
    "#             # edges = circuitizer.compute_edges(*feature, mask, layer_window=1)\n",
    "#             graph.extend([(weight, feature, downstream_feature) for weight, _, downstream_feature in edges])\n",
    "\n",
    "\n",
    "#     # for downstream_feature in tqdm(features):\n",
    "#     #     edges = compute_edges(downstream_feature, mask, layer_window=1)\n",
    "#     #     graph.extend([(weight, upstream_feature_key + (upstream_feature,), downstream_feature[:2] + (mask,) + downstream_feature[2:])\n",
    "#     #                   for weight, upstream_feature_key, upstream_feature in edges])"
   ]
  },
  {
   "cell_type": "code",
   "execution_count": 37,
   "metadata": {},
   "outputs": [
    {
     "data": {
      "text/html": [
       "<script> (()=>{ if (customElements.get('treescope-container') === undefined) { class TreescopeContainer extends HTMLElement { constructor() { super(); this.attachShadow({mode: \"open\"}); this.defns = {}; this.state = {}; } } customElements.define(\"treescope-container\", TreescopeContainer); } if (customElements.get('treescope-run-here') === undefined) { class RunHere extends HTMLElement { constructor() { super() } connectedCallback() { const run = child => { const fn = new Function(child.textContent); child.textContent = \"\"; fn.call(this); this.remove(); }; const child = this.querySelector(\"script\"); if (child) { run(child); } else { new MutationObserver(()=>{ run(this.querySelector(\"script\")); }).observe(this, {childList: true}); } } } customElements.define(\"treescope-run-here\", RunHere); } })(); </script> <treescope-container class=\"treescope_out_a8b7216ceca04b2eac50770d71bef7eb\" ></treescope-container> <treescope-run-here><script type=\"application/octet-stream\"> const root = ( Array.from(document.getElementsByClassName( \"treescope_out_a8b7216ceca04b2eac50770d71bef7eb\")) .filter((elt) => !elt.dataset.setup) )[0]; root.dataset.setup = 1; const msg = document.createElement(\"span\"); msg.style = \"color: #aaaaaa; font-family: monospace; transition: opacity 0.2s; opacity: 0.0;\"; msg.textContent = \"(Loading...)\"; root.state.loadingMsg = msg; root.shadowRoot.appendChild(msg); root.state.chain = new Promise((resolve, reject) => { const observer = new IntersectionObserver((entries) => { for (const entry of entries) { if (entry.isIntersecting) { resolve(); observer.disconnect(); return; } } }, {rootMargin: \"1000px\"}); window.setTimeout(() => { if (root.loadingMsg) { root.loadingMsg.style.opacity = \"1.0\"; } observer.observe(root); }, 0); }); root.state.deferring = false; const _insertNode = (node) => { for (let oldScript of node.querySelectorAll(\"script\")) { let newScript = document.createElement(\"script\"); newScript.type = oldScript.type; newScript.textContent = oldScript.textContent; oldScript.parentNode.replaceChild(newScript, oldScript); } if (root.state.loadingMsg) { root.state.loadingMsg.remove(); root.state.loadingMsg = null; } root.shadowRoot.appendChild(node); }; root.defns.insertContent = ((contentNode, compressed) => { if (compressed) { root.state.deferring = true; } if (root.state.deferring) { root.state.chain = (async () => { await root.state.chain; if (compressed) { const encoded = contentNode.textContent; const blob = new Blob([ Uint8Array.from(atob(encoded), (m) => m.codePointAt(0)) ]); const reader = blob.stream().pipeThrough( new DecompressionStream(\"deflate\") ).pipeThrough( new TextDecoderStream(\"utf-8\") ).getReader(); const parts = []; while (true) { const step = await reader.read(); if (step.done) { break; } parts.push(step.value); } const tpl = document.createElement('template'); tpl.innerHTML = parts.join(\"\"); _insertNode(tpl.content); } else { _insertNode(contentNode.content); } })(); } else { _insertNode(contentNode.content); } }); </script></treescope-run-here><div style=\"display:none\"> <script type=\"application/octet-stream\" >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</script> <treescope-run-here><script type=\"application/octet-stream\"> const root = ( Array.from(document.getElementsByClassName( \"treescope_out_a8b7216ceca04b2eac50770d71bef7eb\")) .filter((elt) => !elt.dataset['step0']) )[0]; root.dataset['step0'] = 1; root.defns.insertContent( this.parentNode.querySelector('script[type=\"application/octet-stream\"]'), true ); this.parentNode.remove(); </script></treescope-run-here> </div>"
      ],
      "text/plain": [
       "<IPython.core.display.HTML object>"
      ]
     },
     "metadata": {},
     "output_type": "display_data"
    },
    {
     "data": {
      "text/html": [
       "<treescope-run-here><script type=\"application/octet-stream\"> const root = ( Array.from(document.getElementsByClassName( \"treescope_out_a8b7216ceca04b2eac50770d71bef7eb\")) .filter((elt) => !elt.dataset.stolen) )[0]; root.dataset.stolen = 1; this.parentNode.replaceChild(root, this); </script></treescope-run-here>"
      ],
      "text/plain": [
       "(11, 'arrow', 'a', 23594, 0.41276583075523376)"
      ]
     },
     "execution_count": 37,
     "metadata": {},
     "output_type": "execute_result"
    }
   ],
   "source": [
    "combined_ies[0]"
   ]
  },
  {
   "cell_type": "code",
   "execution_count": null,
   "metadata": {},
   "outputs": [],
   "source": [
    "sorted_graph = sorted(graph, reverse=True, key=lambda x: x[0])"
   ]
  }
 ],
 "metadata": {
  "kernelspec": {
   "display_name": "micrlhf-progress-_SD4q1c9-py3.12",
   "language": "python",
   "name": "python3"
  },
  "language_info": {
   "codemirror_mode": {
    "name": "ipython",
    "version": 3
   },
   "file_extension": ".py",
   "mimetype": "text/x-python",
   "name": "python",
   "nbconvert_exporter": "python",
   "pygments_lexer": "ipython3",
   "version": "3.10.12"
  }
 },
 "nbformat": 4,
 "nbformat_minor": 2
}
