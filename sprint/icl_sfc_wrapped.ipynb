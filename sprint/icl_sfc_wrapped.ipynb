{
 "cells": [
  {
   "cell_type": "code",
   "execution_count": 1,
   "metadata": {},
   "outputs": [],
   "source": [
    "import os\n",
    "if \"models\" not in os.listdir(\".\"):\n",
    "    os.chdir(\"../..\")"
   ]
  },
  {
   "cell_type": "code",
   "execution_count": 2,
   "metadata": {},
   "outputs": [],
   "source": [
    "%load_ext autoreload\n",
    "%autoreload 2\n",
    "import penzai\n",
    "import jax_smi\n",
    "jax_smi.initialise_tracking()\n",
    "from penzai import pz\n",
    "pz.ts.register_as_default()\n",
    "pz.ts.register_autovisualize_magic()\n",
    "pz.enable_interactive_context()"
   ]
  },
  {
   "cell_type": "code",
   "execution_count": 3,
   "metadata": {},
   "outputs": [
    {
     "name": "stdout",
     "output_type": "stream",
     "text": [
      "env: JAX_TRACEBACK_FILTERING=off\n"
     ]
    }
   ],
   "source": [
    "%env JAX_TRACEBACK_FILTERING=off\n",
    "import jax\n",
    "jax.config.update('jax_traceback_filtering', 'off')\n"
   ]
  },
  {
   "cell_type": "code",
   "execution_count": 4,
   "metadata": {},
   "outputs": [],
   "source": [
    "from sprint.icl_sfc_utils import Circuitizer"
   ]
  },
  {
   "cell_type": "code",
   "execution_count": 5,
   "metadata": {},
   "outputs": [],
   "source": [
    "from micrlhf.llama import LlamaTransformer\n",
    "llama = LlamaTransformer.from_pretrained(\"models/gemma-2b-it.gguf\", from_type=\"gemma\", load_eager=True, device_map=\"tpu:0\")"
   ]
  },
  {
   "cell_type": "code",
   "execution_count": 6,
   "metadata": {},
   "outputs": [],
   "source": [
    "from transformers import AutoTokenizer\n",
    "tokenizer = AutoTokenizer.from_pretrained(\"alpindale/gemma-2b\")\n",
    "tokenizer.padding_side = \"right\""
   ]
  },
  {
   "cell_type": "code",
   "execution_count": 7,
   "metadata": {},
   "outputs": [
    {
     "name": "stderr",
     "output_type": "stream",
     "text": [
      "fatal: destination path 'data/itv' already exists and is not an empty directory.\n"
     ]
    }
   ],
   "source": [
    "from sprint.task_vector_utils import load_tasks, ICLRunner\n",
    "tasks = load_tasks()"
   ]
  },
  {
   "cell_type": "code",
   "execution_count": 8,
   "metadata": {},
   "outputs": [
    {
     "name": "stdout",
     "output_type": "stream",
     "text": [
      "139\n",
      "139\n"
     ]
    }
   ],
   "source": [
    "def check_if_single_token(token):\n",
    "    return len(tokenizer.tokenize(token)) == 1\n",
    "\n",
    "task_name = \"country_capital\"\n",
    "\n",
    "task = tasks[task_name]\n",
    "\n",
    "print(len(task))\n",
    "\n",
    "# task = {\n",
    "#     k:v for k,v in task.items() if check_if_single_token(k) and check_if_single_token(v)\n",
    "# }\n",
    "\n",
    "print(len(task))\n",
    "\n",
    "pairs = list(task.items())\n",
    "\n",
    "batch_size = 8 \n",
    "n_shot=16\n",
    "max_seq_len = 128\n",
    "seed = 10\n",
    "\n",
    "prompt = \"Follow the pattern:\\n{}\"\n",
    "\n",
    "runner = ICLRunner(task_name, pairs, batch_size=batch_size, n_shot=n_shot, max_seq_len=max_seq_len, seed=seed, prompt=prompt, use_same_examples=True)"
   ]
  },
  {
   "cell_type": "code",
   "execution_count": 9,
   "metadata": {},
   "outputs": [
    {
     "data": {
      "text/html": [
       "<script> (()=>{ if (customElements.get('treescope-container') === undefined) { class TreescopeContainer extends HTMLElement { constructor() { super(); this.attachShadow({mode: \"open\"}); this.defns = {}; this.state = {}; } } customElements.define(\"treescope-container\", TreescopeContainer); } if (customElements.get('treescope-run-here') === undefined) { class RunHere extends HTMLElement { constructor() { super() } connectedCallback() { const run = child => { const fn = new Function(child.textContent); child.textContent = \"\"; fn.call(this); this.remove(); }; const child = this.querySelector(\"script\"); if (child) { run(child); } else { new MutationObserver(()=>{ run(this.querySelector(\"script\")); }).observe(this, {childList: true}); } } } customElements.define(\"treescope-run-here\", RunHere); } })(); </script> <treescope-container class=\"treescope_out_22406048118f4ce1b35cdb43923484f1\" ></treescope-container> <treescope-run-here><script type=\"application/octet-stream\"> const root = ( Array.from(document.getElementsByClassName( \"treescope_out_22406048118f4ce1b35cdb43923484f1\")) .filter((elt) => !elt.dataset.setup) )[0]; root.dataset.setup = 1; const msg = document.createElement(\"span\"); msg.style = \"color: #aaaaaa; font-family: monospace; transition: opacity 0.2s; opacity: 0.0;\"; msg.textContent = \"(Loading...)\"; root.state.loadingMsg = msg; root.shadowRoot.appendChild(msg); root.state.chain = new Promise((resolve, reject) => { const observer = new IntersectionObserver((entries) => { for (const entry of entries) { if (entry.isIntersecting) { resolve(); observer.disconnect(); return; } } }, {rootMargin: \"1000px\"}); window.setTimeout(() => { if (root.loadingMsg) { root.loadingMsg.style.opacity = \"1.0\"; } observer.observe(root); }, 0); }); root.state.deferring = false; const _insertNode = (node) => { for (let oldScript of node.querySelectorAll(\"script\")) { let newScript = document.createElement(\"script\"); newScript.type = oldScript.type; newScript.textContent = oldScript.textContent; oldScript.parentNode.replaceChild(newScript, oldScript); } if (root.state.loadingMsg) { root.state.loadingMsg.remove(); root.state.loadingMsg = null; } root.shadowRoot.appendChild(node); }; root.defns.insertContent = ((contentNode, compressed) => { if (compressed) { root.state.deferring = true; } if (root.state.deferring) { root.state.chain = (async () => { await root.state.chain; if (compressed) { const encoded = contentNode.textContent; const blob = new Blob([ Uint8Array.from(atob(encoded), (m) => m.codePointAt(0)) ]); const reader = blob.stream().pipeThrough( new DecompressionStream(\"deflate\") ).pipeThrough( new TextDecoderStream(\"utf-8\") ).getReader(); const parts = []; while (true) { const step = await reader.read(); if (step.done) { break; } parts.push(step.value); } const tpl = document.createElement('template'); tpl.innerHTML = parts.join(\"\"); _insertNode(tpl.content); } else { _insertNode(contentNode.content); } })(); } else { _insertNode(contentNode.content); } }); </script></treescope-run-here><div style=\"display:none\"> <script type=\"application/octet-stream\" >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</script> <treescope-run-here><script type=\"application/octet-stream\"> const root = ( Array.from(document.getElementsByClassName( \"treescope_out_22406048118f4ce1b35cdb43923484f1\")) .filter((elt) => !elt.dataset['step0']) )[0]; root.dataset['step0'] = 1; root.defns.insertContent( this.parentNode.querySelector('script[type=\"application/octet-stream\"]'), true ); this.parentNode.remove(); </script></treescope-run-here> </div>"
      ],
      "text/plain": [
       "<IPython.core.display.HTML object>"
      ]
     },
     "metadata": {},
     "output_type": "display_data"
    },
    {
     "data": {
      "text/html": [
       "<treescope-run-here><script type=\"application/octet-stream\"> const root = ( Array.from(document.getElementsByClassName( \"treescope_out_22406048118f4ce1b35cdb43923484f1\")) .filter((elt) => !elt.dataset.stolen) )[0]; root.dataset.stolen = 1; this.parentNode.replaceChild(root, this); </script></treescope-run-here>"
      ],
      "text/plain": [
       "[[('Dutch East Indies', 'Jakarta'),\n",
       "  ('United Kingdom of Great Britain and Ireland', 'London'),\n",
       "  ('Lima', 'Lima'),\n",
       "  ('Mumbai City district', 'Mumbai'),\n",
       "  ('Afghanistan', 'Kabul'),\n",
       "  ('Turkey', 'Ankara'),\n",
       "  ('Brussels-Capital Region', 'Brussels'),\n",
       "  ('Second French Empire', 'Paris'),\n",
       "  ('Jamaica', 'Kingston'),\n",
       "  (\"People's Republic of China\", 'Beijing'),\n",
       "  ('Austria-Hungary', 'Vienna'),\n",
       "  ('Tripolitania', 'Tripoli'),\n",
       "  ('Union between Sweden and Norway', 'Stockholm'),\n",
       "  ('Demerara', 'Georgetown'),\n",
       "  ('Empire of Japan', 'Tokyo'),\n",
       "  ('Neo-Babylonian Empire', 'Babylon')],\n",
       " [('Dutch East Indies', 'Jakarta'),\n",
       "  ('United Kingdom of Great Britain and Ireland', 'London'),\n",
       "  ('Lima', 'Lima'),\n",
       "  ('Mumbai City district', 'Mumbai'),\n",
       "  ('Afghanistan', 'Kabul'),\n",
       "  ('Turkey', 'Ankara'),\n",
       "  ('Brussels-Capital Region', 'Brussels'),\n",
       "  ('Second French Empire', 'Paris'),\n",
       "  ('Jamaica', 'Kingston'),\n",
       "  (\"People's Republic of China\", 'Beijing'),\n",
       "  ('Austria-Hungary', 'Vienna'),\n",
       "  ('Tripolitania', 'Tripoli'),\n",
       "  ('Union between Sweden and Norway', 'Stockholm'),\n",
       "  ('Demerara', 'Georgetown'),\n",
       "  ('Empire of Japan', 'Tokyo'),\n",
       "  ('First Czechoslovak Republic', 'Prague')],\n",
       " [('Dutch East Indies', 'Jakarta'),\n",
       "  ('United Kingdom of Great Britain and Ireland', 'London'),\n",
       "  ('Lima', 'Lima'),\n",
       "  ('Mumbai City district', 'Mumbai'),\n",
       "  ('Afghanistan', 'Kabul'),\n",
       "  ('Turkey', 'Ankara'),\n",
       "  ('Brussels-Capital Region', 'Brussels'),\n",
       "  ('Second French Empire', 'Paris'),\n",
       "  ('Jamaica', 'Kingston'),\n",
       "  (\"People's Republic of China\", 'Beijing'),\n",
       "  ('Austria-Hungary', 'Vienna'),\n",
       "  ('Tripolitania', 'Tripoli'),\n",
       "  ('Union between Sweden and Norway', 'Stockholm'),\n",
       "  ('Demerara', 'Georgetown'),\n",
       "  ('Empire of Japan', 'Tokyo'),\n",
       "  ('Rif Dimashq Governorate', 'Damascus')],\n",
       " [('Dutch East Indies', 'Jakarta'),\n",
       "  ('United Kingdom of Great Britain and Ireland', 'London'),\n",
       "  ('Lima', 'Lima'),\n",
       "  ('Mumbai City district', 'Mumbai'),\n",
       "  ('Afghanistan', 'Kabul'),\n",
       "  ('Turkey', 'Ankara'),\n",
       "  ('Brussels-Capital Region', 'Brussels'),\n",
       "  ('Second French Empire', 'Paris'),\n",
       "  ('Jamaica', 'Kingston'),\n",
       "  (\"People's Republic of China\", 'Beijing'),\n",
       "  ('Austria-Hungary', 'Vienna'),\n",
       "  ('Tripolitania', 'Tripoli'),\n",
       "  ('Union between Sweden and Norway', 'Stockholm'),\n",
       "  ('Demerara', 'Georgetown'),\n",
       "  ('Empire of Japan', 'Tokyo'),\n",
       "  ('Seine', 'Paris')],\n",
       " [('Dutch East Indies', 'Jakarta'),\n",
       "  ('United Kingdom of Great Britain and Ireland', 'London'),\n",
       "  ('Lima', 'Lima'),\n",
       "  ('Mumbai City district', 'Mumbai'),\n",
       "  ('Afghanistan', 'Kabul'),\n",
       "  ('Turkey', 'Ankara'),\n",
       "  ('Brussels-Capital Region', 'Brussels'),\n",
       "  ('Second French Empire', 'Paris'),\n",
       "  ('Jamaica', 'Kingston'),\n",
       "  (\"People's Republic of China\", 'Beijing'),\n",
       "  ('Austria-Hungary', 'Vienna'),\n",
       "  ('Tripolitania', 'Tripoli'),\n",
       "  ('Union between Sweden and Norway', 'Stockholm'),\n",
       "  ('Demerara', 'Georgetown'),\n",
       "  ('Empire of Japan', 'Tokyo'),\n",
       "  ('Neo-Babylonian Empire', 'Babylon')],\n",
       " [('Dutch East Indies', 'Jakarta'),\n",
       "  ('United Kingdom of Great Britain and Ireland', 'London'),\n",
       "  ('Lima', 'Lima'),\n",
       "  ('Mumbai City district', 'Mumbai'),\n",
       "  ('Afghanistan', 'Kabul'),\n",
       "  ('Turkey', 'Ankara'),\n",
       "  ('Brussels-Capital Region', 'Brussels'),\n",
       "  ('Second French Empire', 'Paris'),\n",
       "  ('Jamaica', 'Kingston'),\n",
       "  (\"People's Republic of China\", 'Beijing'),\n",
       "  ('Austria-Hungary', 'Vienna'),\n",
       "  ('Tripolitania', 'Tripoli'),\n",
       "  ('Union between Sweden and Norway', 'Stockholm'),\n",
       "  ('Demerara', 'Georgetown'),\n",
       "  ('Empire of Japan', 'Tokyo'),\n",
       "  ('Portugal', 'Lisbon')],\n",
       " [('Dutch East Indies', 'Jakarta'),\n",
       "  ('United Kingdom of Great Britain and Ireland', 'London'),\n",
       "  ('Lima', 'Lima'),\n",
       "  ('Mumbai City district', 'Mumbai'),\n",
       "  ('Afghanistan', 'Kabul'),\n",
       "  ('Turkey', 'Ankara'),\n",
       "  ('Brussels-Capital Region', 'Brussels'),\n",
       "  ('Second French Empire', 'Paris'),\n",
       "  ('Jamaica', 'Kingston'),\n",
       "  (\"People's Republic of China\", 'Beijing'),\n",
       "  ('Austria-Hungary', 'Vienna'),\n",
       "  ('Tripolitania', 'Tripoli'),\n",
       "  ('Union between Sweden and Norway', 'Stockholm'),\n",
       "  ('Demerara', 'Georgetown'),\n",
       "  ('Empire of Japan', 'Tokyo'),\n",
       "  ('Khalji dynasty', 'Delhi')],\n",
       " [('Dutch East Indies', 'Jakarta'),\n",
       "  ('United Kingdom of Great Britain and Ireland', 'London'),\n",
       "  ('Lima', 'Lima'),\n",
       "  ('Mumbai City district', 'Mumbai'),\n",
       "  ('Afghanistan', 'Kabul'),\n",
       "  ('Turkey', 'Ankara'),\n",
       "  ('Brussels-Capital Region', 'Brussels'),\n",
       "  ('Second French Empire', 'Paris'),\n",
       "  ('Jamaica', 'Kingston'),\n",
       "  (\"People's Republic of China\", 'Beijing'),\n",
       "  ('Austria-Hungary', 'Vienna'),\n",
       "  ('Tripolitania', 'Tripoli'),\n",
       "  ('Union between Sweden and Norway', 'Stockholm'),\n",
       "  ('Demerara', 'Georgetown'),\n",
       "  ('Empire of Japan', 'Tokyo'),\n",
       "  ('Israel', 'Jerusalem')]]"
      ]
     },
     "execution_count": 9,
     "metadata": {},
     "output_type": "execute_result"
    }
   ],
   "source": [
    "runner.train_pairs"
   ]
  },
  {
   "cell_type": "code",
   "execution_count": 10,
   "metadata": {},
   "outputs": [
    {
     "name": "stdout",
     "output_type": "stream",
     "text": [
      "Setting up masks...\n",
      "Running metrics...\n",
      "Setting up RMS...\n"
     ]
    },
    {
     "data": {
      "application/vnd.jupyter.widget-view+json": {
       "model_id": "1450f0a239e04bda8d8c68e1981cb764",
       "version_major": 2,
       "version_minor": 0
      },
      "text/plain": [
       "  0%|          | 0/18 [00:00<?, ?it/s]"
      ]
     },
     "metadata": {},
     "output_type": "display_data"
    },
    {
     "name": "stdout",
     "output_type": "stream",
     "text": [
      "Loading SAEs...\n"
     ]
    },
    {
     "data": {
      "application/vnd.jupyter.widget-view+json": {
       "model_id": "7da45af277c04c0d81e6ffce2bd48dfa",
       "version_major": 2,
       "version_minor": 0
      },
      "text/plain": [
       "  0%|          | 0/12 [00:00<?, ?it/s]"
      ]
     },
     "metadata": {},
     "output_type": "display_data"
    },
    {
     "name": "stdout",
     "output_type": "stream",
     "text": [
      "Running node IEs...\n"
     ]
    },
    {
     "data": {
      "application/vnd.jupyter.widget-view+json": {
       "model_id": "d384520e54b44f6eac5af28fa0f6fe44",
       "version_major": 2,
       "version_minor": 0
      },
      "text/plain": [
       "  0%|          | 0/12 [00:00<?, ?it/s]"
      ]
     },
     "metadata": {},
     "output_type": "display_data"
    },
    {
     "data": {
      "application/vnd.jupyter.widget-view+json": {
       "model_id": "bfc6e23bc7444800b8d72c8171336274",
       "version_major": 2,
       "version_minor": 0
      },
      "text/plain": [
       "  0%|          | 0/12 [00:00<?, ?it/s]"
      ]
     },
     "metadata": {},
     "output_type": "display_data"
    },
    {
     "data": {
      "application/vnd.jupyter.widget-view+json": {
       "model_id": "88fbd3f30ddc4e5782ebd97d9bb0b2c9",
       "version_major": 2,
       "version_minor": 0
      },
      "text/plain": [
       "  0%|          | 0/11 [00:00<?, ?it/s]"
      ]
     },
     "metadata": {},
     "output_type": "display_data"
    }
   ],
   "source": [
    "layers = list(range(6, 18))\n",
    "circuitizer = Circuitizer(llama, tokenizer, runner, layers, prompt)"
   ]
  },
  {
   "cell_type": "code",
   "execution_count": 15,
   "metadata": {},
   "outputs": [
    {
     "data": {
      "application/vnd.jupyter.widget-view+json": {
       "model_id": "9d35db61c49f417da81918611915ecd4",
       "version_major": 2,
       "version_minor": 0
      },
      "text/plain": [
       "  0%|          | 0/1 [00:00<?, ?it/s]"
      ]
     },
     "metadata": {},
     "output_type": "display_data"
    },
    {
     "name": "stdout",
     "output_type": "stream",
     "text": [
      "-17.0 -173.0\n"
     ]
    }
   ],
   "source": [
    "\n",
    "# layers = [10,11,12,13,14,15,16]\n",
    "# layers = [8,9,10]\n",
    "layers = list(range(10, 15))\n",
    "mean_ablate = False\n",
    "\n",
    "orig_metric = circuitizer.ablated_metric(llama).tolist()\n",
    "zero_metric = circuitizer.run_ablated_metrics([100000], mean_ablate=mean_ablate, layers=layers)[0][0]\n",
    "\n",
    "print(orig_metric, zero_metric)"
   ]
  },
  {
   "cell_type": "code",
   "execution_count": 16,
   "metadata": {},
   "outputs": [
    {
     "data": {
      "application/vnd.jupyter.widget-view+json": {
       "model_id": "95d8e5d3b0ef4f67b152b62f601ed46f",
       "version_major": 2,
       "version_minor": 0
      },
      "text/plain": [
       "  0%|          | 0/150 [00:00<?, ?it/s]"
      ]
     },
     "metadata": {},
     "output_type": "display_data"
    }
   ],
   "source": [
    "import numpy as np\n",
    "# thresholds = np.linspace(0, 1e-4, 100)\n",
    "# thresholds = np.linspace(1.4 * 1e-4, 1.45 * 1e-4, 200)\n",
    "thresholds = np.logspace(-4, -1, 150)\n",
    "topks = [4, 6, 12, 16, 24, 32]\n",
    "\n",
    "inverse = False\n",
    "do_abs = False\n",
    "average_over_positions = True\n",
    "\n",
    "\n",
    "ablated_metrics, n_nodes_counts = circuitizer.run_ablated_metrics(thresholds, inverse=inverse, \n",
    "                                                                  do_abs=do_abs, mean_ablate=mean_ablate, \n",
    "                                                                  average_over_positions=average_over_positions,\n",
    "                                                                  token_prefix=None, layers=layers)\n",
    "\n",
    "faithfullness = np.array(ablated_metrics)\n",
    "faithfullness = (faithfullness - zero_metric) / (orig_metric - zero_metric)\n",
    "\n",
    "\n",
    "\n",
    "# target_metric = (max(ablated_metrics) - min(ablated_metrics)) * 0.95 + min(ablated_metrics)\n",
    "# target_threshold = [threshold for threshold, metric in reversed(list(zip(thresholds, ablated_metrics))) if metric > target_metric][0]"
   ]
  },
  {
   "cell_type": "code",
   "execution_count": 17,
   "metadata": {},
   "outputs": [
    {
     "data": {
      "text/html": [
       "<script> (()=>{ if (customElements.get('treescope-container') === undefined) { class TreescopeContainer extends HTMLElement { constructor() { super(); this.attachShadow({mode: \"open\"}); this.defns = {}; this.state = {}; } } customElements.define(\"treescope-container\", TreescopeContainer); } if (customElements.get('treescope-run-here') === undefined) { class RunHere extends HTMLElement { constructor() { super() } connectedCallback() { const run = child => { const fn = new Function(child.textContent); child.textContent = \"\"; fn.call(this); this.remove(); }; const child = this.querySelector(\"script\"); if (child) { run(child); } else { new MutationObserver(()=>{ run(this.querySelector(\"script\")); }).observe(this, {childList: true}); } } } customElements.define(\"treescope-run-here\", RunHere); } })(); </script> <treescope-container class=\"treescope_out_1450ed55d96348dc98229457501a9624\" ></treescope-container> <treescope-run-here><script type=\"application/octet-stream\"> const root = ( Array.from(document.getElementsByClassName( \"treescope_out_1450ed55d96348dc98229457501a9624\")) .filter((elt) => !elt.dataset.setup) )[0]; root.dataset.setup = 1; const msg = document.createElement(\"span\"); msg.style = \"color: #aaaaaa; font-family: monospace; transition: opacity 0.2s; opacity: 0.0;\"; msg.textContent = \"(Loading...)\"; root.state.loadingMsg = msg; root.shadowRoot.appendChild(msg); root.state.chain = new Promise((resolve, reject) => { const observer = new IntersectionObserver((entries) => { for (const entry of entries) { if (entry.isIntersecting) { resolve(); observer.disconnect(); return; } } }, {rootMargin: \"1000px\"}); window.setTimeout(() => { if (root.loadingMsg) { root.loadingMsg.style.opacity = \"1.0\"; } observer.observe(root); }, 0); }); root.state.deferring = false; const _insertNode = (node) => { for (let oldScript of node.querySelectorAll(\"script\")) { let newScript = document.createElement(\"script\"); newScript.type = oldScript.type; newScript.textContent = oldScript.textContent; oldScript.parentNode.replaceChild(newScript, oldScript); } if (root.state.loadingMsg) { root.state.loadingMsg.remove(); root.state.loadingMsg = null; } root.shadowRoot.appendChild(node); }; root.defns.insertContent = ((contentNode, compressed) => { if (compressed) { root.state.deferring = true; } if (root.state.deferring) { root.state.chain = (async () => { await root.state.chain; if (compressed) { const encoded = contentNode.textContent; const blob = new Blob([ Uint8Array.from(atob(encoded), (m) => m.codePointAt(0)) ]); const reader = blob.stream().pipeThrough( new DecompressionStream(\"deflate\") ).pipeThrough( new TextDecoderStream(\"utf-8\") ).getReader(); const parts = []; while (true) { const step = await reader.read(); if (step.done) { break; } parts.push(step.value); } const tpl = document.createElement('template'); tpl.innerHTML = parts.join(\"\"); _insertNode(tpl.content); } else { _insertNode(contentNode.content); } })(); } else { _insertNode(contentNode.content); } }); </script></treescope-run-here><div style=\"display:none\"> <script type=\"application/octet-stream\" >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</script> <treescope-run-here><script type=\"application/octet-stream\"> const root = ( Array.from(document.getElementsByClassName( \"treescope_out_1450ed55d96348dc98229457501a9624\")) .filter((elt) => !elt.dataset['step0']) )[0]; root.dataset['step0'] = 1; root.defns.insertContent( this.parentNode.querySelector('script[type=\"application/octet-stream\"]'), true ); this.parentNode.remove(); </script></treescope-run-here> </div>"
      ],
      "text/plain": [
       "<IPython.core.display.HTML object>"
      ]
     },
     "metadata": {},
     "output_type": "display_data"
    },
    {
     "data": {
      "text/html": [
       "<treescope-run-here><script type=\"application/octet-stream\"> const root = ( Array.from(document.getElementsByClassName( \"treescope_out_1450ed55d96348dc98229457501a9624\")) .filter((elt) => !elt.dataset.stolen) )[0]; root.dataset.stolen = 1; this.parentNode.replaceChild(root, this); </script></treescope-run-here>"
      ],
      "text/plain": [
       "[10, 11, 12, 13, 14]"
      ]
     },
     "execution_count": 17,
     "metadata": {},
     "output_type": "execute_result"
    }
   ],
   "source": [
    "layers"
   ]
  },
  {
   "cell_type": "code",
   "execution_count": 19,
   "metadata": {},
   "outputs": [
    {
     "data": {
      "application/vnd.plotly.v1+json": {
       "config": {
        "plotlyServerURL": "https://plot.ly"
       },
       "data": [
        {
         "hovertemplate": "x=%{x}<br>y=%{y}<extra></extra>",
         "legendgroup": "",
         "line": {
          "color": "#636efa",
          "dash": "solid"
         },
         "marker": {
          "symbol": "circle"
         },
         "mode": "lines",
         "name": "",
         "orientation": "v",
         "showlegend": false,
         "type": "scatter",
         "x": [
          5950,
          5828,
          5724,
          5599,
          5480,
          5350,
          5233,
          5110,
          5017,
          4908,
          4789,
          4667,
          4562,
          4445,
          4317,
          4208,
          4119,
          4011,
          3912,
          3802,
          3707,
          3609,
          3516,
          3438,
          3335,
          3224,
          3142,
          3046,
          2968,
          2891,
          2817,
          2736,
          2658,
          2572,
          2491,
          2406,
          2349,
          2281,
          2204,
          2136,
          2060,
          2008,
          1942,
          1867,
          1801,
          1726,
          1671,
          1627,
          1576,
          1524,
          1460,
          1408,
          1369,
          1314,
          1266,
          1212,
          1178,
          1140,
          1099,
          1047,
          1011,
          967,
          931,
          904,
          868,
          838,
          808,
          781,
          753,
          714,
          678,
          650,
          623,
          595,
          575,
          548,
          519,
          500,
          478,
          453,
          430,
          406,
          382,
          358,
          340,
          321,
          307,
          283,
          268,
          255,
          245,
          228,
          210,
          200,
          191,
          185,
          173,
          160,
          154,
          142,
          135,
          127,
          120,
          118,
          107,
          105,
          101,
          96,
          94,
          92,
          87,
          77,
          73,
          67,
          66,
          63,
          61,
          58,
          55,
          51,
          49,
          47,
          44,
          41,
          41,
          35,
          33,
          31,
          30,
          29,
          29,
          29,
          26,
          23,
          20,
          20,
          19,
          17,
          17,
          15,
          14,
          14,
          12,
          10,
          10,
          9,
          8,
          7,
          7,
          6
         ],
         "xaxis": "x",
         "y": [
          0.9615384615384616,
          0.9647435897435898,
          0.9703525641025641,
          0.9639423076923077,
          0.9647435897435898,
          0.9551282051282052,
          0.9599358974358975,
          0.9575320512820513,
          0.9503205128205128,
          0.9591346153846154,
          0.9599358974358975,
          0.9551282051282052,
          0.9423076923076923,
          0.9463141025641025,
          0.9487179487179487,
          0.9455128205128205,
          0.9431089743589743,
          0.9407051282051282,
          0.9375,
          0.9310897435897436,
          0.9318910256410257,
          0.9326923076923077,
          0.9310897435897436,
          0.9310897435897436,
          0.9254807692307693,
          0.9246794871794872,
          0.9230769230769231,
          0.9214743589743589,
          0.9198717948717948,
          0.9230769230769231,
          0.9262820512820513,
          0.9294871794871795,
          0.9334935897435898,
          0.9278846153846154,
          0.9206730769230769,
          0.9262820512820513,
          0.9302884615384616,
          0.9278846153846154,
          0.9302884615384616,
          0.9310897435897436,
          0.9310897435897436,
          0.9270833333333334,
          0.9246794871794872,
          0.9198717948717948,
          0.9214743589743589,
          0.9094551282051282,
          0.9022435897435898,
          0.8974358974358975,
          0.8894230769230769,
          0.8990384615384616,
          0.8862179487179487,
          0.8798076923076923,
          0.8766025641025641,
          0.875,
          0.8733974358974359,
          0.8541666666666666,
          0.8509615384615384,
          0.842948717948718,
          0.8461538461538461,
          0.8333333333333334,
          0.8365384615384616,
          0.8333333333333334,
          0.8173076923076923,
          0.8205128205128205,
          0.8253205128205128,
          0.8108974358974359,
          0.8012820512820513,
          0.7884615384615384,
          0.7612179487179487,
          0.7516025641025641,
          0.7467948717948718,
          0.7387820512820513,
          0.7291666666666666,
          0.7275641025641025,
          0.7163461538461539,
          0.717948717948718,
          0.7115384615384616,
          0.6794871794871795,
          0.6730769230769231,
          0.592948717948718,
          0.5801282051282052,
          0.5576923076923077,
          0.5512820512820513,
          0.5576923076923077,
          0.5544871794871795,
          0.5544871794871795,
          0.5608974358974359,
          0.5608974358974359,
          0.5448717948717948,
          0.532051282051282,
          0.5096153846153846,
          0.49038461538461536,
          0.4551282051282051,
          0.47435897435897434,
          0.46794871794871795,
          0.4583333333333333,
          0.4583333333333333,
          0.44871794871794873,
          0.4423076923076923,
          0.4198717948717949,
          0.3717948717948718,
          0.36217948717948717,
          0.34935897435897434,
          0.33974358974358976,
          0.3525641025641026,
          0.3525641025641026,
          0.3525641025641026,
          0.33974358974358976,
          0.3301282051282051,
          0.3269230769230769,
          0.3269230769230769,
          0.28205128205128205,
          0.2692307692307692,
          0.26282051282051283,
          0.26282051282051283,
          0.24358974358974358,
          0.23717948717948717,
          0.20512820512820512,
          0.16666666666666666,
          0.1282051282051282,
          0.1282051282051282,
          0.1282051282051282,
          0.10897435897435898,
          0.10897435897435898,
          0.10897435897435898,
          0.08974358974358974,
          0.09615384615384616,
          0.08974358974358974,
          0.08974358974358974,
          0.08974358974358974,
          0.08974358974358974,
          0.08974358974358974,
          0.08333333333333333,
          0.057692307692307696,
          0.057692307692307696,
          0.057692307692307696,
          0.057692307692307696,
          0.04487179487179487,
          0.04487179487179487,
          0.02564102564102564,
          0.02564102564102564,
          0.02564102564102564,
          0.019230769230769232,
          0.019230769230769232,
          0.019230769230769232,
          0.019230769230769232,
          0.019230769230769232,
          0.019230769230769232,
          0.019230769230769232,
          0.019230769230769232
         ],
         "yaxis": "y"
        }
       ],
       "layout": {
        "legend": {
         "tracegroupgap": 0
        },
        "template": {
         "data": {
          "bar": [
           {
            "error_x": {
             "color": "#2a3f5f"
            },
            "error_y": {
             "color": "#2a3f5f"
            },
            "marker": {
             "line": {
              "color": "#E5ECF6",
              "width": 0.5
             },
             "pattern": {
              "fillmode": "overlay",
              "size": 10,
              "solidity": 0.2
             }
            },
            "type": "bar"
           }
          ],
          "barpolar": [
           {
            "marker": {
             "line": {
              "color": "#E5ECF6",
              "width": 0.5
             },
             "pattern": {
              "fillmode": "overlay",
              "size": 10,
              "solidity": 0.2
             }
            },
            "type": "barpolar"
           }
          ],
          "carpet": [
           {
            "aaxis": {
             "endlinecolor": "#2a3f5f",
             "gridcolor": "white",
             "linecolor": "white",
             "minorgridcolor": "white",
             "startlinecolor": "#2a3f5f"
            },
            "baxis": {
             "endlinecolor": "#2a3f5f",
             "gridcolor": "white",
             "linecolor": "white",
             "minorgridcolor": "white",
             "startlinecolor": "#2a3f5f"
            },
            "type": "carpet"
           }
          ],
          "choropleth": [
           {
            "colorbar": {
             "outlinewidth": 0,
             "ticks": ""
            },
            "type": "choropleth"
           }
          ],
          "contour": [
           {
            "colorbar": {
             "outlinewidth": 0,
             "ticks": ""
            },
            "colorscale": [
             [
              0,
              "#0d0887"
             ],
             [
              0.1111111111111111,
              "#46039f"
             ],
             [
              0.2222222222222222,
              "#7201a8"
             ],
             [
              0.3333333333333333,
              "#9c179e"
             ],
             [
              0.4444444444444444,
              "#bd3786"
             ],
             [
              0.5555555555555556,
              "#d8576b"
             ],
             [
              0.6666666666666666,
              "#ed7953"
             ],
             [
              0.7777777777777778,
              "#fb9f3a"
             ],
             [
              0.8888888888888888,
              "#fdca26"
             ],
             [
              1,
              "#f0f921"
             ]
            ],
            "type": "contour"
           }
          ],
          "contourcarpet": [
           {
            "colorbar": {
             "outlinewidth": 0,
             "ticks": ""
            },
            "type": "contourcarpet"
           }
          ],
          "heatmap": [
           {
            "colorbar": {
             "outlinewidth": 0,
             "ticks": ""
            },
            "colorscale": [
             [
              0,
              "#0d0887"
             ],
             [
              0.1111111111111111,
              "#46039f"
             ],
             [
              0.2222222222222222,
              "#7201a8"
             ],
             [
              0.3333333333333333,
              "#9c179e"
             ],
             [
              0.4444444444444444,
              "#bd3786"
             ],
             [
              0.5555555555555556,
              "#d8576b"
             ],
             [
              0.6666666666666666,
              "#ed7953"
             ],
             [
              0.7777777777777778,
              "#fb9f3a"
             ],
             [
              0.8888888888888888,
              "#fdca26"
             ],
             [
              1,
              "#f0f921"
             ]
            ],
            "type": "heatmap"
           }
          ],
          "heatmapgl": [
           {
            "colorbar": {
             "outlinewidth": 0,
             "ticks": ""
            },
            "colorscale": [
             [
              0,
              "#0d0887"
             ],
             [
              0.1111111111111111,
              "#46039f"
             ],
             [
              0.2222222222222222,
              "#7201a8"
             ],
             [
              0.3333333333333333,
              "#9c179e"
             ],
             [
              0.4444444444444444,
              "#bd3786"
             ],
             [
              0.5555555555555556,
              "#d8576b"
             ],
             [
              0.6666666666666666,
              "#ed7953"
             ],
             [
              0.7777777777777778,
              "#fb9f3a"
             ],
             [
              0.8888888888888888,
              "#fdca26"
             ],
             [
              1,
              "#f0f921"
             ]
            ],
            "type": "heatmapgl"
           }
          ],
          "histogram": [
           {
            "marker": {
             "pattern": {
              "fillmode": "overlay",
              "size": 10,
              "solidity": 0.2
             }
            },
            "type": "histogram"
           }
          ],
          "histogram2d": [
           {
            "colorbar": {
             "outlinewidth": 0,
             "ticks": ""
            },
            "colorscale": [
             [
              0,
              "#0d0887"
             ],
             [
              0.1111111111111111,
              "#46039f"
             ],
             [
              0.2222222222222222,
              "#7201a8"
             ],
             [
              0.3333333333333333,
              "#9c179e"
             ],
             [
              0.4444444444444444,
              "#bd3786"
             ],
             [
              0.5555555555555556,
              "#d8576b"
             ],
             [
              0.6666666666666666,
              "#ed7953"
             ],
             [
              0.7777777777777778,
              "#fb9f3a"
             ],
             [
              0.8888888888888888,
              "#fdca26"
             ],
             [
              1,
              "#f0f921"
             ]
            ],
            "type": "histogram2d"
           }
          ],
          "histogram2dcontour": [
           {
            "colorbar": {
             "outlinewidth": 0,
             "ticks": ""
            },
            "colorscale": [
             [
              0,
              "#0d0887"
             ],
             [
              0.1111111111111111,
              "#46039f"
             ],
             [
              0.2222222222222222,
              "#7201a8"
             ],
             [
              0.3333333333333333,
              "#9c179e"
             ],
             [
              0.4444444444444444,
              "#bd3786"
             ],
             [
              0.5555555555555556,
              "#d8576b"
             ],
             [
              0.6666666666666666,
              "#ed7953"
             ],
             [
              0.7777777777777778,
              "#fb9f3a"
             ],
             [
              0.8888888888888888,
              "#fdca26"
             ],
             [
              1,
              "#f0f921"
             ]
            ],
            "type": "histogram2dcontour"
           }
          ],
          "mesh3d": [
           {
            "colorbar": {
             "outlinewidth": 0,
             "ticks": ""
            },
            "type": "mesh3d"
           }
          ],
          "parcoords": [
           {
            "line": {
             "colorbar": {
              "outlinewidth": 0,
              "ticks": ""
             }
            },
            "type": "parcoords"
           }
          ],
          "pie": [
           {
            "automargin": true,
            "type": "pie"
           }
          ],
          "scatter": [
           {
            "fillpattern": {
             "fillmode": "overlay",
             "size": 10,
             "solidity": 0.2
            },
            "type": "scatter"
           }
          ],
          "scatter3d": [
           {
            "line": {
             "colorbar": {
              "outlinewidth": 0,
              "ticks": ""
             }
            },
            "marker": {
             "colorbar": {
              "outlinewidth": 0,
              "ticks": ""
             }
            },
            "type": "scatter3d"
           }
          ],
          "scattercarpet": [
           {
            "marker": {
             "colorbar": {
              "outlinewidth": 0,
              "ticks": ""
             }
            },
            "type": "scattercarpet"
           }
          ],
          "scattergeo": [
           {
            "marker": {
             "colorbar": {
              "outlinewidth": 0,
              "ticks": ""
             }
            },
            "type": "scattergeo"
           }
          ],
          "scattergl": [
           {
            "marker": {
             "colorbar": {
              "outlinewidth": 0,
              "ticks": ""
             }
            },
            "type": "scattergl"
           }
          ],
          "scattermapbox": [
           {
            "marker": {
             "colorbar": {
              "outlinewidth": 0,
              "ticks": ""
             }
            },
            "type": "scattermapbox"
           }
          ],
          "scatterpolar": [
           {
            "marker": {
             "colorbar": {
              "outlinewidth": 0,
              "ticks": ""
             }
            },
            "type": "scatterpolar"
           }
          ],
          "scatterpolargl": [
           {
            "marker": {
             "colorbar": {
              "outlinewidth": 0,
              "ticks": ""
             }
            },
            "type": "scatterpolargl"
           }
          ],
          "scatterternary": [
           {
            "marker": {
             "colorbar": {
              "outlinewidth": 0,
              "ticks": ""
             }
            },
            "type": "scatterternary"
           }
          ],
          "surface": [
           {
            "colorbar": {
             "outlinewidth": 0,
             "ticks": ""
            },
            "colorscale": [
             [
              0,
              "#0d0887"
             ],
             [
              0.1111111111111111,
              "#46039f"
             ],
             [
              0.2222222222222222,
              "#7201a8"
             ],
             [
              0.3333333333333333,
              "#9c179e"
             ],
             [
              0.4444444444444444,
              "#bd3786"
             ],
             [
              0.5555555555555556,
              "#d8576b"
             ],
             [
              0.6666666666666666,
              "#ed7953"
             ],
             [
              0.7777777777777778,
              "#fb9f3a"
             ],
             [
              0.8888888888888888,
              "#fdca26"
             ],
             [
              1,
              "#f0f921"
             ]
            ],
            "type": "surface"
           }
          ],
          "table": [
           {
            "cells": {
             "fill": {
              "color": "#EBF0F8"
             },
             "line": {
              "color": "white"
             }
            },
            "header": {
             "fill": {
              "color": "#C8D4E3"
             },
             "line": {
              "color": "white"
             }
            },
            "type": "table"
           }
          ]
         },
         "layout": {
          "annotationdefaults": {
           "arrowcolor": "#2a3f5f",
           "arrowhead": 0,
           "arrowwidth": 1
          },
          "autotypenumbers": "strict",
          "coloraxis": {
           "colorbar": {
            "outlinewidth": 0,
            "ticks": ""
           }
          },
          "colorscale": {
           "diverging": [
            [
             0,
             "#8e0152"
            ],
            [
             0.1,
             "#c51b7d"
            ],
            [
             0.2,
             "#de77ae"
            ],
            [
             0.3,
             "#f1b6da"
            ],
            [
             0.4,
             "#fde0ef"
            ],
            [
             0.5,
             "#f7f7f7"
            ],
            [
             0.6,
             "#e6f5d0"
            ],
            [
             0.7,
             "#b8e186"
            ],
            [
             0.8,
             "#7fbc41"
            ],
            [
             0.9,
             "#4d9221"
            ],
            [
             1,
             "#276419"
            ]
           ],
           "sequential": [
            [
             0,
             "#0d0887"
            ],
            [
             0.1111111111111111,
             "#46039f"
            ],
            [
             0.2222222222222222,
             "#7201a8"
            ],
            [
             0.3333333333333333,
             "#9c179e"
            ],
            [
             0.4444444444444444,
             "#bd3786"
            ],
            [
             0.5555555555555556,
             "#d8576b"
            ],
            [
             0.6666666666666666,
             "#ed7953"
            ],
            [
             0.7777777777777778,
             "#fb9f3a"
            ],
            [
             0.8888888888888888,
             "#fdca26"
            ],
            [
             1,
             "#f0f921"
            ]
           ],
           "sequentialminus": [
            [
             0,
             "#0d0887"
            ],
            [
             0.1111111111111111,
             "#46039f"
            ],
            [
             0.2222222222222222,
             "#7201a8"
            ],
            [
             0.3333333333333333,
             "#9c179e"
            ],
            [
             0.4444444444444444,
             "#bd3786"
            ],
            [
             0.5555555555555556,
             "#d8576b"
            ],
            [
             0.6666666666666666,
             "#ed7953"
            ],
            [
             0.7777777777777778,
             "#fb9f3a"
            ],
            [
             0.8888888888888888,
             "#fdca26"
            ],
            [
             1,
             "#f0f921"
            ]
           ]
          },
          "colorway": [
           "#636efa",
           "#EF553B",
           "#00cc96",
           "#ab63fa",
           "#FFA15A",
           "#19d3f3",
           "#FF6692",
           "#B6E880",
           "#FF97FF",
           "#FECB52"
          ],
          "font": {
           "color": "#2a3f5f"
          },
          "geo": {
           "bgcolor": "white",
           "lakecolor": "white",
           "landcolor": "#E5ECF6",
           "showlakes": true,
           "showland": true,
           "subunitcolor": "white"
          },
          "hoverlabel": {
           "align": "left"
          },
          "hovermode": "closest",
          "mapbox": {
           "style": "light"
          },
          "paper_bgcolor": "white",
          "plot_bgcolor": "#E5ECF6",
          "polar": {
           "angularaxis": {
            "gridcolor": "white",
            "linecolor": "white",
            "ticks": ""
           },
           "bgcolor": "#E5ECF6",
           "radialaxis": {
            "gridcolor": "white",
            "linecolor": "white",
            "ticks": ""
           }
          },
          "scene": {
           "xaxis": {
            "backgroundcolor": "#E5ECF6",
            "gridcolor": "white",
            "gridwidth": 2,
            "linecolor": "white",
            "showbackground": true,
            "ticks": "",
            "zerolinecolor": "white"
           },
           "yaxis": {
            "backgroundcolor": "#E5ECF6",
            "gridcolor": "white",
            "gridwidth": 2,
            "linecolor": "white",
            "showbackground": true,
            "ticks": "",
            "zerolinecolor": "white"
           },
           "zaxis": {
            "backgroundcolor": "#E5ECF6",
            "gridcolor": "white",
            "gridwidth": 2,
            "linecolor": "white",
            "showbackground": true,
            "ticks": "",
            "zerolinecolor": "white"
           }
          },
          "shapedefaults": {
           "line": {
            "color": "#2a3f5f"
           }
          },
          "ternary": {
           "aaxis": {
            "gridcolor": "white",
            "linecolor": "white",
            "ticks": ""
           },
           "baxis": {
            "gridcolor": "white",
            "linecolor": "white",
            "ticks": ""
           },
           "bgcolor": "#E5ECF6",
           "caxis": {
            "gridcolor": "white",
            "linecolor": "white",
            "ticks": ""
           }
          },
          "title": {
           "x": 0.05
          },
          "xaxis": {
           "automargin": true,
           "gridcolor": "white",
           "linecolor": "white",
           "ticks": "",
           "title": {
            "standoff": 15
           },
           "zerolinecolor": "white",
           "zerolinewidth": 2
          },
          "yaxis": {
           "automargin": true,
           "gridcolor": "white",
           "linecolor": "white",
           "ticks": "",
           "title": {
            "standoff": 15
           },
           "zerolinecolor": "white",
           "zerolinewidth": 2
          }
         }
        },
        "title": {
         "text": "inverse=False, abs=False, mean=False, aop=True, layers=[10, 11, 12, 13, 14]"
        },
        "xaxis": {
         "anchor": "y",
         "domain": [
          0,
          1
         ],
         "title": {
          "text": "Number of nodes"
         }
        },
        "yaxis": {
         "anchor": "x",
         "domain": [
          0,
          1
         ],
         "title": {
          "text": "Faithfullness"
         }
        }
       }
      },
      "text/html": [
       "<div>                            <div id=\"59a304d7-ccff-4a52-a64b-2285cfad22cc\" class=\"plotly-graph-div\" style=\"height:525px; width:100%;\"></div>            <script type=\"text/javascript\">                require([\"plotly\"], function(Plotly) {                    window.PLOTLYENV=window.PLOTLYENV || {};                                    if (document.getElementById(\"59a304d7-ccff-4a52-a64b-2285cfad22cc\")) {                    Plotly.newPlot(                        \"59a304d7-ccff-4a52-a64b-2285cfad22cc\",                        [{\"hovertemplate\":\"x=%{x}\\u003cbr\\u003ey=%{y}\\u003cextra\\u003e\\u003c\\u002fextra\\u003e\",\"legendgroup\":\"\",\"line\":{\"color\":\"#636efa\",\"dash\":\"solid\"},\"marker\":{\"symbol\":\"circle\"},\"mode\":\"lines\",\"name\":\"\",\"orientation\":\"v\",\"showlegend\":false,\"x\":[5950,5828,5724,5599,5480,5350,5233,5110,5017,4908,4789,4667,4562,4445,4317,4208,4119,4011,3912,3802,3707,3609,3516,3438,3335,3224,3142,3046,2968,2891,2817,2736,2658,2572,2491,2406,2349,2281,2204,2136,2060,2008,1942,1867,1801,1726,1671,1627,1576,1524,1460,1408,1369,1314,1266,1212,1178,1140,1099,1047,1011,967,931,904,868,838,808,781,753,714,678,650,623,595,575,548,519,500,478,453,430,406,382,358,340,321,307,283,268,255,245,228,210,200,191,185,173,160,154,142,135,127,120,118,107,105,101,96,94,92,87,77,73,67,66,63,61,58,55,51,49,47,44,41,41,35,33,31,30,29,29,29,26,23,20,20,19,17,17,15,14,14,12,10,10,9,8,7,7,6],\"xaxis\":\"x\",\"y\":[0.9615384615384616,0.9647435897435898,0.9703525641025641,0.9639423076923077,0.9647435897435898,0.9551282051282052,0.9599358974358975,0.9575320512820513,0.9503205128205128,0.9591346153846154,0.9599358974358975,0.9551282051282052,0.9423076923076923,0.9463141025641025,0.9487179487179487,0.9455128205128205,0.9431089743589743,0.9407051282051282,0.9375,0.9310897435897436,0.9318910256410257,0.9326923076923077,0.9310897435897436,0.9310897435897436,0.9254807692307693,0.9246794871794872,0.9230769230769231,0.9214743589743589,0.9198717948717948,0.9230769230769231,0.9262820512820513,0.9294871794871795,0.9334935897435898,0.9278846153846154,0.9206730769230769,0.9262820512820513,0.9302884615384616,0.9278846153846154,0.9302884615384616,0.9310897435897436,0.9310897435897436,0.9270833333333334,0.9246794871794872,0.9198717948717948,0.9214743589743589,0.9094551282051282,0.9022435897435898,0.8974358974358975,0.8894230769230769,0.8990384615384616,0.8862179487179487,0.8798076923076923,0.8766025641025641,0.875,0.8733974358974359,0.8541666666666666,0.8509615384615384,0.842948717948718,0.8461538461538461,0.8333333333333334,0.8365384615384616,0.8333333333333334,0.8173076923076923,0.8205128205128205,0.8253205128205128,0.8108974358974359,0.8012820512820513,0.7884615384615384,0.7612179487179487,0.7516025641025641,0.7467948717948718,0.7387820512820513,0.7291666666666666,0.7275641025641025,0.7163461538461539,0.717948717948718,0.7115384615384616,0.6794871794871795,0.6730769230769231,0.592948717948718,0.5801282051282052,0.5576923076923077,0.5512820512820513,0.5576923076923077,0.5544871794871795,0.5544871794871795,0.5608974358974359,0.5608974358974359,0.5448717948717948,0.532051282051282,0.5096153846153846,0.49038461538461536,0.4551282051282051,0.47435897435897434,0.46794871794871795,0.4583333333333333,0.4583333333333333,0.44871794871794873,0.4423076923076923,0.4198717948717949,0.3717948717948718,0.36217948717948717,0.34935897435897434,0.33974358974358976,0.3525641025641026,0.3525641025641026,0.3525641025641026,0.33974358974358976,0.3301282051282051,0.3269230769230769,0.3269230769230769,0.28205128205128205,0.2692307692307692,0.26282051282051283,0.26282051282051283,0.24358974358974358,0.23717948717948717,0.20512820512820512,0.16666666666666666,0.1282051282051282,0.1282051282051282,0.1282051282051282,0.10897435897435898,0.10897435897435898,0.10897435897435898,0.08974358974358974,0.09615384615384616,0.08974358974358974,0.08974358974358974,0.08974358974358974,0.08974358974358974,0.08974358974358974,0.08333333333333333,0.057692307692307696,0.057692307692307696,0.057692307692307696,0.057692307692307696,0.04487179487179487,0.04487179487179487,0.02564102564102564,0.02564102564102564,0.02564102564102564,0.019230769230769232,0.019230769230769232,0.019230769230769232,0.019230769230769232,0.019230769230769232,0.019230769230769232,0.019230769230769232,0.019230769230769232],\"yaxis\":\"y\",\"type\":\"scatter\"}],                        {\"template\":{\"data\":{\"histogram2dcontour\":[{\"type\":\"histogram2dcontour\",\"colorbar\":{\"outlinewidth\":0,\"ticks\":\"\"},\"colorscale\":[[0.0,\"#0d0887\"],[0.1111111111111111,\"#46039f\"],[0.2222222222222222,\"#7201a8\"],[0.3333333333333333,\"#9c179e\"],[0.4444444444444444,\"#bd3786\"],[0.5555555555555556,\"#d8576b\"],[0.6666666666666666,\"#ed7953\"],[0.7777777777777778,\"#fb9f3a\"],[0.8888888888888888,\"#fdca26\"],[1.0,\"#f0f921\"]]}],\"choropleth\":[{\"type\":\"choropleth\",\"colorbar\":{\"outlinewidth\":0,\"ticks\":\"\"}}],\"histogram2d\":[{\"type\":\"histogram2d\",\"colorbar\":{\"outlinewidth\":0,\"ticks\":\"\"},\"colorscale\":[[0.0,\"#0d0887\"],[0.1111111111111111,\"#46039f\"],[0.2222222222222222,\"#7201a8\"],[0.3333333333333333,\"#9c179e\"],[0.4444444444444444,\"#bd3786\"],[0.5555555555555556,\"#d8576b\"],[0.6666666666666666,\"#ed7953\"],[0.7777777777777778,\"#fb9f3a\"],[0.8888888888888888,\"#fdca26\"],[1.0,\"#f0f921\"]]}],\"heatmap\":[{\"type\":\"heatmap\",\"colorbar\":{\"outlinewidth\":0,\"ticks\":\"\"},\"colorscale\":[[0.0,\"#0d0887\"],[0.1111111111111111,\"#46039f\"],[0.2222222222222222,\"#7201a8\"],[0.3333333333333333,\"#9c179e\"],[0.4444444444444444,\"#bd3786\"],[0.5555555555555556,\"#d8576b\"],[0.6666666666666666,\"#ed7953\"],[0.7777777777777778,\"#fb9f3a\"],[0.8888888888888888,\"#fdca26\"],[1.0,\"#f0f921\"]]}],\"heatmapgl\":[{\"type\":\"heatmapgl\",\"colorbar\":{\"outlinewidth\":0,\"ticks\":\"\"},\"colorscale\":[[0.0,\"#0d0887\"],[0.1111111111111111,\"#46039f\"],[0.2222222222222222,\"#7201a8\"],[0.3333333333333333,\"#9c179e\"],[0.4444444444444444,\"#bd3786\"],[0.5555555555555556,\"#d8576b\"],[0.6666666666666666,\"#ed7953\"],[0.7777777777777778,\"#fb9f3a\"],[0.8888888888888888,\"#fdca26\"],[1.0,\"#f0f921\"]]}],\"contourcarpet\":[{\"type\":\"contourcarpet\",\"colorbar\":{\"outlinewidth\":0,\"ticks\":\"\"}}],\"contour\":[{\"type\":\"contour\",\"colorbar\":{\"outlinewidth\":0,\"ticks\":\"\"},\"colorscale\":[[0.0,\"#0d0887\"],[0.1111111111111111,\"#46039f\"],[0.2222222222222222,\"#7201a8\"],[0.3333333333333333,\"#9c179e\"],[0.4444444444444444,\"#bd3786\"],[0.5555555555555556,\"#d8576b\"],[0.6666666666666666,\"#ed7953\"],[0.7777777777777778,\"#fb9f3a\"],[0.8888888888888888,\"#fdca26\"],[1.0,\"#f0f921\"]]}],\"surface\":[{\"type\":\"surface\",\"colorbar\":{\"outlinewidth\":0,\"ticks\":\"\"},\"colorscale\":[[0.0,\"#0d0887\"],[0.1111111111111111,\"#46039f\"],[0.2222222222222222,\"#7201a8\"],[0.3333333333333333,\"#9c179e\"],[0.4444444444444444,\"#bd3786\"],[0.5555555555555556,\"#d8576b\"],[0.6666666666666666,\"#ed7953\"],[0.7777777777777778,\"#fb9f3a\"],[0.8888888888888888,\"#fdca26\"],[1.0,\"#f0f921\"]]}],\"mesh3d\":[{\"type\":\"mesh3d\",\"colorbar\":{\"outlinewidth\":0,\"ticks\":\"\"}}],\"scatter\":[{\"fillpattern\":{\"fillmode\":\"overlay\",\"size\":10,\"solidity\":0.2},\"type\":\"scatter\"}],\"parcoords\":[{\"type\":\"parcoords\",\"line\":{\"colorbar\":{\"outlinewidth\":0,\"ticks\":\"\"}}}],\"scatterpolargl\":[{\"type\":\"scatterpolargl\",\"marker\":{\"colorbar\":{\"outlinewidth\":0,\"ticks\":\"\"}}}],\"bar\":[{\"error_x\":{\"color\":\"#2a3f5f\"},\"error_y\":{\"color\":\"#2a3f5f\"},\"marker\":{\"line\":{\"color\":\"#E5ECF6\",\"width\":0.5},\"pattern\":{\"fillmode\":\"overlay\",\"size\":10,\"solidity\":0.2}},\"type\":\"bar\"}],\"scattergeo\":[{\"type\":\"scattergeo\",\"marker\":{\"colorbar\":{\"outlinewidth\":0,\"ticks\":\"\"}}}],\"scatterpolar\":[{\"type\":\"scatterpolar\",\"marker\":{\"colorbar\":{\"outlinewidth\":0,\"ticks\":\"\"}}}],\"histogram\":[{\"marker\":{\"pattern\":{\"fillmode\":\"overlay\",\"size\":10,\"solidity\":0.2}},\"type\":\"histogram\"}],\"scattergl\":[{\"type\":\"scattergl\",\"marker\":{\"colorbar\":{\"outlinewidth\":0,\"ticks\":\"\"}}}],\"scatter3d\":[{\"type\":\"scatter3d\",\"line\":{\"colorbar\":{\"outlinewidth\":0,\"ticks\":\"\"}},\"marker\":{\"colorbar\":{\"outlinewidth\":0,\"ticks\":\"\"}}}],\"scattermapbox\":[{\"type\":\"scattermapbox\",\"marker\":{\"colorbar\":{\"outlinewidth\":0,\"ticks\":\"\"}}}],\"scatterternary\":[{\"type\":\"scatterternary\",\"marker\":{\"colorbar\":{\"outlinewidth\":0,\"ticks\":\"\"}}}],\"scattercarpet\":[{\"type\":\"scattercarpet\",\"marker\":{\"colorbar\":{\"outlinewidth\":0,\"ticks\":\"\"}}}],\"carpet\":[{\"aaxis\":{\"endlinecolor\":\"#2a3f5f\",\"gridcolor\":\"white\",\"linecolor\":\"white\",\"minorgridcolor\":\"white\",\"startlinecolor\":\"#2a3f5f\"},\"baxis\":{\"endlinecolor\":\"#2a3f5f\",\"gridcolor\":\"white\",\"linecolor\":\"white\",\"minorgridcolor\":\"white\",\"startlinecolor\":\"#2a3f5f\"},\"type\":\"carpet\"}],\"table\":[{\"cells\":{\"fill\":{\"color\":\"#EBF0F8\"},\"line\":{\"color\":\"white\"}},\"header\":{\"fill\":{\"color\":\"#C8D4E3\"},\"line\":{\"color\":\"white\"}},\"type\":\"table\"}],\"barpolar\":[{\"marker\":{\"line\":{\"color\":\"#E5ECF6\",\"width\":0.5},\"pattern\":{\"fillmode\":\"overlay\",\"size\":10,\"solidity\":0.2}},\"type\":\"barpolar\"}],\"pie\":[{\"automargin\":true,\"type\":\"pie\"}]},\"layout\":{\"autotypenumbers\":\"strict\",\"colorway\":[\"#636efa\",\"#EF553B\",\"#00cc96\",\"#ab63fa\",\"#FFA15A\",\"#19d3f3\",\"#FF6692\",\"#B6E880\",\"#FF97FF\",\"#FECB52\"],\"font\":{\"color\":\"#2a3f5f\"},\"hovermode\":\"closest\",\"hoverlabel\":{\"align\":\"left\"},\"paper_bgcolor\":\"white\",\"plot_bgcolor\":\"#E5ECF6\",\"polar\":{\"bgcolor\":\"#E5ECF6\",\"angularaxis\":{\"gridcolor\":\"white\",\"linecolor\":\"white\",\"ticks\":\"\"},\"radialaxis\":{\"gridcolor\":\"white\",\"linecolor\":\"white\",\"ticks\":\"\"}},\"ternary\":{\"bgcolor\":\"#E5ECF6\",\"aaxis\":{\"gridcolor\":\"white\",\"linecolor\":\"white\",\"ticks\":\"\"},\"baxis\":{\"gridcolor\":\"white\",\"linecolor\":\"white\",\"ticks\":\"\"},\"caxis\":{\"gridcolor\":\"white\",\"linecolor\":\"white\",\"ticks\":\"\"}},\"coloraxis\":{\"colorbar\":{\"outlinewidth\":0,\"ticks\":\"\"}},\"colorscale\":{\"sequential\":[[0.0,\"#0d0887\"],[0.1111111111111111,\"#46039f\"],[0.2222222222222222,\"#7201a8\"],[0.3333333333333333,\"#9c179e\"],[0.4444444444444444,\"#bd3786\"],[0.5555555555555556,\"#d8576b\"],[0.6666666666666666,\"#ed7953\"],[0.7777777777777778,\"#fb9f3a\"],[0.8888888888888888,\"#fdca26\"],[1.0,\"#f0f921\"]],\"sequentialminus\":[[0.0,\"#0d0887\"],[0.1111111111111111,\"#46039f\"],[0.2222222222222222,\"#7201a8\"],[0.3333333333333333,\"#9c179e\"],[0.4444444444444444,\"#bd3786\"],[0.5555555555555556,\"#d8576b\"],[0.6666666666666666,\"#ed7953\"],[0.7777777777777778,\"#fb9f3a\"],[0.8888888888888888,\"#fdca26\"],[1.0,\"#f0f921\"]],\"diverging\":[[0,\"#8e0152\"],[0.1,\"#c51b7d\"],[0.2,\"#de77ae\"],[0.3,\"#f1b6da\"],[0.4,\"#fde0ef\"],[0.5,\"#f7f7f7\"],[0.6,\"#e6f5d0\"],[0.7,\"#b8e186\"],[0.8,\"#7fbc41\"],[0.9,\"#4d9221\"],[1,\"#276419\"]]},\"xaxis\":{\"gridcolor\":\"white\",\"linecolor\":\"white\",\"ticks\":\"\",\"title\":{\"standoff\":15},\"zerolinecolor\":\"white\",\"automargin\":true,\"zerolinewidth\":2},\"yaxis\":{\"gridcolor\":\"white\",\"linecolor\":\"white\",\"ticks\":\"\",\"title\":{\"standoff\":15},\"zerolinecolor\":\"white\",\"automargin\":true,\"zerolinewidth\":2},\"scene\":{\"xaxis\":{\"backgroundcolor\":\"#E5ECF6\",\"gridcolor\":\"white\",\"linecolor\":\"white\",\"showbackground\":true,\"ticks\":\"\",\"zerolinecolor\":\"white\",\"gridwidth\":2},\"yaxis\":{\"backgroundcolor\":\"#E5ECF6\",\"gridcolor\":\"white\",\"linecolor\":\"white\",\"showbackground\":true,\"ticks\":\"\",\"zerolinecolor\":\"white\",\"gridwidth\":2},\"zaxis\":{\"backgroundcolor\":\"#E5ECF6\",\"gridcolor\":\"white\",\"linecolor\":\"white\",\"showbackground\":true,\"ticks\":\"\",\"zerolinecolor\":\"white\",\"gridwidth\":2}},\"shapedefaults\":{\"line\":{\"color\":\"#2a3f5f\"}},\"annotationdefaults\":{\"arrowcolor\":\"#2a3f5f\",\"arrowhead\":0,\"arrowwidth\":1},\"geo\":{\"bgcolor\":\"white\",\"landcolor\":\"#E5ECF6\",\"subunitcolor\":\"white\",\"showland\":true,\"showlakes\":true,\"lakecolor\":\"white\"},\"title\":{\"x\":0.05},\"mapbox\":{\"style\":\"light\"}}},\"xaxis\":{\"anchor\":\"y\",\"domain\":[0.0,1.0],\"title\":{\"text\":\"Number of nodes\"}},\"yaxis\":{\"anchor\":\"x\",\"domain\":[0.0,1.0],\"title\":{\"text\":\"Faithfullness\"}},\"legend\":{\"tracegroupgap\":0},\"title\":{\"text\":\"inverse=False, abs=False, mean=False, aop=True, layers=[10, 11, 12, 13, 14]\"}},                        {\"responsive\": true}                    ).then(function(){\n",
       "                            \n",
       "var gd = document.getElementById('59a304d7-ccff-4a52-a64b-2285cfad22cc');\n",
       "var x = new MutationObserver(function (mutations, observer) {{\n",
       "        var display = window.getComputedStyle(gd).display;\n",
       "        if (!display || display === 'none') {{\n",
       "            console.log([gd, 'removed!']);\n",
       "            Plotly.purge(gd);\n",
       "            observer.disconnect();\n",
       "        }}\n",
       "}});\n",
       "\n",
       "// Listen for the removal of the full notebook cells\n",
       "var notebookContainer = gd.closest('#notebook-container');\n",
       "if (notebookContainer) {{\n",
       "    x.observe(notebookContainer, {childList: true});\n",
       "}}\n",
       "\n",
       "// Listen for the clearing of the current output cell\n",
       "var outputEl = gd.closest('.output');\n",
       "if (outputEl) {{\n",
       "    x.observe(outputEl, {childList: true});\n",
       "}}\n",
       "\n",
       "                        })                };                });            </script>        </div>"
      ]
     },
     "metadata": {},
     "output_type": "display_data"
    }
   ],
   "source": [
    "import matplotlib.pyplot as plt\n",
    "import plotly.express as px\n",
    "\n",
    "# plt.plot([max(n_nodes_counts) - x for x in n_nodes_counts], ablated_metrics)\n",
    "# plt.plot(thresholds, ablated_metrics)\n",
    "# plt.plot(thresholds, ablated_metrics)\n",
    "# plt.plot(n_nodes_counts, ablated_metrics)\n",
    "# plt.plot(thresholds, n_nodes_counts)\n",
    "# plt.xscale(\"log\")\n",
    "# plt.plot(n_nodes_counts)\n",
    "\n",
    "# px.line(x=list(range(len(ablated_metrics))), y=ablated_metrics)\n",
    "# fig = px.line(x=thresholds, y=ablated_metrics)\n",
    "# fig.update_xaxes(type=\"log\", exponentformat=\"power\")\n",
    "\n",
    "fig = px.line(x=n_nodes_counts, y=faithfullness, title=f\"inverse={inverse}, abs={do_abs}, mean={mean_ablate}, aop={average_over_positions}, layers={layers}\")\n",
    "fig.update_xaxes(title=\"Number of nodes\")\n",
    "fig.update_yaxes(title=\"Faithfullness\")\n",
    "\n",
    "fig\n"
   ]
  },
  {
   "cell_type": "code",
   "execution_count": 20,
   "metadata": {},
   "outputs": [
    {
     "data": {
      "text/html": [
       "<script> (()=>{ if (customElements.get('treescope-container') === undefined) { class TreescopeContainer extends HTMLElement { constructor() { super(); this.attachShadow({mode: \"open\"}); this.defns = {}; this.state = {}; } } customElements.define(\"treescope-container\", TreescopeContainer); } if (customElements.get('treescope-run-here') === undefined) { class RunHere extends HTMLElement { constructor() { super() } connectedCallback() { const run = child => { const fn = new Function(child.textContent); child.textContent = \"\"; fn.call(this); this.remove(); }; const child = this.querySelector(\"script\"); if (child) { run(child); } else { new MutationObserver(()=>{ run(this.querySelector(\"script\")); }).observe(this, {childList: true}); } } } customElements.define(\"treescope-run-here\", RunHere); } })(); </script> <treescope-container class=\"treescope_out_6b86a1578afe4158ab25f68537237a94\" ></treescope-container> <treescope-run-here><script type=\"application/octet-stream\"> const root = ( Array.from(document.getElementsByClassName( \"treescope_out_6b86a1578afe4158ab25f68537237a94\")) .filter((elt) => !elt.dataset.setup) )[0]; root.dataset.setup = 1; const msg = document.createElement(\"span\"); msg.style = \"color: #aaaaaa; font-family: monospace; transition: opacity 0.2s; opacity: 0.0;\"; msg.textContent = \"(Loading...)\"; root.state.loadingMsg = msg; root.shadowRoot.appendChild(msg); root.state.chain = new Promise((resolve, reject) => { const observer = new IntersectionObserver((entries) => { for (const entry of entries) { if (entry.isIntersecting) { resolve(); observer.disconnect(); return; } } }, {rootMargin: \"1000px\"}); window.setTimeout(() => { if (root.loadingMsg) { root.loadingMsg.style.opacity = \"1.0\"; } observer.observe(root); }, 0); }); root.state.deferring = false; const _insertNode = (node) => { for (let oldScript of node.querySelectorAll(\"script\")) { let newScript = document.createElement(\"script\"); newScript.type = oldScript.type; newScript.textContent = oldScript.textContent; oldScript.parentNode.replaceChild(newScript, oldScript); } if (root.state.loadingMsg) { root.state.loadingMsg.remove(); root.state.loadingMsg = null; } root.shadowRoot.appendChild(node); }; root.defns.insertContent = ((contentNode, compressed) => { if (compressed) { root.state.deferring = true; } if (root.state.deferring) { root.state.chain = (async () => { await root.state.chain; if (compressed) { const encoded = contentNode.textContent; const blob = new Blob([ Uint8Array.from(atob(encoded), (m) => m.codePointAt(0)) ]); const reader = blob.stream().pipeThrough( new DecompressionStream(\"deflate\") ).pipeThrough( new TextDecoderStream(\"utf-8\") ).getReader(); const parts = []; while (true) { const step = await reader.read(); if (step.done) { break; } parts.push(step.value); } const tpl = document.createElement('template'); tpl.innerHTML = parts.join(\"\"); _insertNode(tpl.content); } else { _insertNode(contentNode.content); } })(); } else { _insertNode(contentNode.content); } }); </script></treescope-run-here><div style=\"display:none\"> <script type=\"application/octet-stream\" >eNqNVE1v2zAM/SuCd6gDzK7bLO2axAZ2GXYYdtgOOwxDoNi0LUSmNIlOlg3976PsJOtHVgw5xHqk+B4pkktPew1FSg7Al8bCyhlD4rewxitSBufCgZaktrAQtUFKatkpvZ+LzqDxVpaM71pFkAyHubCOEa08JUPohPaWUTTI8FqWm8aZHqukNNq4+Xh1IQ6ntWYHjqcqaueiVsRuSIC0EFZWlcIm0VDTXFyXbSBBSFpQTcvIVToLYZCkYs2na4ePZKu8WiutiJXLnszJN1FITqFXZeLVLxitB7n3y8uxPMtTeRLXI3M6xnzplCUR8ssvpLValTJU7NKUBCF7B7K7KOJ4khdcUObzJCqo0YtcUKt82gB95mp/MhXEk7Q1ntLBzqkBiZUFDCm/K0PUcOnb93OWDxIrDWzGXuvFyJCyzC/GIKPxzrjNRDzUYL4yFEyPYFJlAC242rhOYgkpml08Gd6XCeJnFpGMl5Ziej3hOKoW8RPVqQZsqBV5LrLg8qJ0B9Q75LoL0B7+Cmt7DMqehvatqinoGxzCxz3//sEQc1dhZXapgx89eHqHqhue672THcRjTSYhxuIZke19O5ZxcSbHI0U+pvFClv+vIagYH5JM0+hxKlfD5HC32hArIKDptYAtN/jhJYO64ZxuYB+KHrkoCDo4p6WW3n/k4TzEjaNTzFXHbRgdye8nXE9u/6HHi+XluQGo1FYMAfPo8fqIBMk1Zwo/8yiLhEEWw2kj+73U9udzjcOdY5YRj924sIaNscK+W4MbOmVYIK+yu7dXs5uHo8trCY8yW55Vx2tjsyLpWEYkKkkyYXlWUptH0WP3hxxRkaVZNr29upveTmezaXZ7ffOGSdi9OP1xRYo/U2ze+A==</script> <treescope-run-here><script type=\"application/octet-stream\"> const root = ( Array.from(document.getElementsByClassName( \"treescope_out_6b86a1578afe4158ab25f68537237a94\")) .filter((elt) => !elt.dataset['step0']) )[0]; root.dataset['step0'] = 1; root.defns.insertContent( this.parentNode.querySelector('script[type=\"application/octet-stream\"]'), true ); this.parentNode.remove(); </script></treescope-run-here> </div>"
      ],
      "text/plain": [
       "<IPython.core.display.HTML object>"
      ]
     },
     "metadata": {},
     "output_type": "display_data"
    },
    {
     "data": {
      "text/html": [
       "<treescope-run-here><script type=\"application/octet-stream\"> const root = ( Array.from(document.getElementsByClassName( \"treescope_out_6b86a1578afe4158ab25f68537237a94\")) .filter((elt) => !elt.dataset.stolen) )[0]; root.dataset.stolen = 1; this.parentNode.replaceChild(root, this); </script></treescope-run-here>"
      ],
      "text/plain": [
       "0.00371937355307264"
      ]
     },
     "execution_count": 20,
     "metadata": {},
     "output_type": "execute_result"
    }
   ],
   "source": [
    "target_faithfullness = 0.6\n",
    "\n",
    "target_threshold = [threshold for threshold, metric in reversed(list(zip(thresholds, faithfullness))) if metric > target_faithfullness][0]\n",
    "\n",
    "target_threshold"
   ]
  },
  {
   "cell_type": "code",
   "execution_count": 21,
   "metadata": {},
   "outputs": [
    {
     "data": {
      "application/vnd.jupyter.widget-view+json": {
       "model_id": "f7010b9489204683bba5f18e4bdddf43",
       "version_major": 2,
       "version_minor": 0
      },
      "text/plain": [
       "  0%|          | 0/5 [00:00<?, ?it/s]"
      ]
     },
     "metadata": {},
     "output_type": "display_data"
    }
   ],
   "source": [
    "from tqdm.auto import tqdm\n",
    "\n",
    "# layers = circuitizer.layers\n",
    "# layers = [15,16]\n",
    "selected_threshold = target_threshold\n",
    "\n",
    "\n",
    "ablation_masks = {}\n",
    "\n",
    "for layer in tqdm(layers):\n",
    "    mask_attn_out, _ = circuitizer.mask_ie(circuitizer.ie_attn[layer], selected_threshold, None, do_abs=do_abs, average_over_positions=average_over_positions, inverse=inverse)\n",
    "    mask_resid, _ = circuitizer.mask_ie(circuitizer.ie_resid[layer], selected_threshold, None, do_abs=do_abs, average_over_positions=average_over_positions, inverse=inverse)\n",
    "\n",
    "    # print(mask_resid[\"arrow\"].shape)\n",
    "\n",
    "    # break\n",
    "\n",
    "    try:\n",
    "        mask_transcoder, _ = circuitizer.mask_ie(circuitizer.ie_transcoder[layer], selected_threshold, None, do_abs=do_abs, average_over_positions=average_over_positions, inverse=inverse)\n",
    "    except KeyError:\n",
    "        mask_transcoder = None\n",
    "\n",
    "    ablation_masks[layer] = {\n",
    "        \"attn_out\": mask_attn_out,\n",
    "        \"resid\": mask_resid,\n",
    "        \"transcoder\": mask_transcoder\n",
    "    }"
   ]
  },
  {
   "cell_type": "code",
   "execution_count": 22,
   "metadata": {},
   "outputs": [
    {
     "data": {
      "text/html": [
       "<script> (()=>{ if (customElements.get('treescope-container') === undefined) { class TreescopeContainer extends HTMLElement { constructor() { super(); this.attachShadow({mode: \"open\"}); this.defns = {}; this.state = {}; } } customElements.define(\"treescope-container\", TreescopeContainer); } if (customElements.get('treescope-run-here') === undefined) { class RunHere extends HTMLElement { constructor() { super() } connectedCallback() { const run = child => { const fn = new Function(child.textContent); child.textContent = \"\"; fn.call(this); this.remove(); }; const child = this.querySelector(\"script\"); if (child) { run(child); } else { new MutationObserver(()=>{ run(this.querySelector(\"script\")); }).observe(this, {childList: true}); } } } customElements.define(\"treescope-run-here\", RunHere); } })(); </script> <treescope-container class=\"treescope_out_ac177f0cae4e461a9ffafb0b5908ef24\" ></treescope-container> <treescope-run-here><script type=\"application/octet-stream\"> const root = ( Array.from(document.getElementsByClassName( \"treescope_out_ac177f0cae4e461a9ffafb0b5908ef24\")) .filter((elt) => !elt.dataset.setup) )[0]; root.dataset.setup = 1; const msg = document.createElement(\"span\"); msg.style = \"color: #aaaaaa; font-family: monospace; transition: opacity 0.2s; opacity: 0.0;\"; msg.textContent = \"(Loading...)\"; root.state.loadingMsg = msg; root.shadowRoot.appendChild(msg); root.state.chain = new Promise((resolve, reject) => { const observer = new IntersectionObserver((entries) => { for (const entry of entries) { if (entry.isIntersecting) { resolve(); observer.disconnect(); return; } } }, {rootMargin: \"1000px\"}); window.setTimeout(() => { if (root.loadingMsg) { root.loadingMsg.style.opacity = \"1.0\"; } observer.observe(root); }, 0); }); root.state.deferring = false; const _insertNode = (node) => { for (let oldScript of node.querySelectorAll(\"script\")) { let newScript = document.createElement(\"script\"); newScript.type = oldScript.type; newScript.textContent = oldScript.textContent; oldScript.parentNode.replaceChild(newScript, oldScript); } if (root.state.loadingMsg) { root.state.loadingMsg.remove(); root.state.loadingMsg = null; } root.shadowRoot.appendChild(node); }; root.defns.insertContent = ((contentNode, compressed) => { if (compressed) { root.state.deferring = true; } if (root.state.deferring) { root.state.chain = (async () => { await root.state.chain; if (compressed) { const encoded = contentNode.textContent; const blob = new Blob([ Uint8Array.from(atob(encoded), (m) => m.codePointAt(0)) ]); const reader = blob.stream().pipeThrough( new DecompressionStream(\"deflate\") ).pipeThrough( new TextDecoderStream(\"utf-8\") ).getReader(); const parts = []; while (true) { const step = await reader.read(); if (step.done) { break; } parts.push(step.value); } const tpl = document.createElement('template'); tpl.innerHTML = parts.join(\"\"); _insertNode(tpl.content); } else { _insertNode(contentNode.content); } })(); } else { _insertNode(contentNode.content); } }); </script></treescope-run-here><div style=\"display:none\"> <script type=\"application/octet-stream\" >eNrFVlFv4zYM/iuCB1ydw+zm0mvv4CQG+jLsYdjD9rCHbQhkmba1KJIn0WlzQ//7KNlJmsQpBuywJQ+yKZLfR4qktXC4U5CnaAGcMC2srDHI/mKtcRKl0RmzoDjKLcxZZTQmFd9ItcvYxmjjWi5I/tRIhCS8ZKy1JFHSYRJcJ7hrSaqNJnHBxbq2ptNlIowyNutN52x4KxQpkD9ZYpOxSiKpaQSNc9byspS6ThRUmLGZaDyIhqQBWTck+ZDeezcauSTOB7PhIdlKJwupJBJz3qE56CZSo5XaSZE4+QX63YHuy+K2T8/ikJ7EdpowLcmcsLJF5uNb3vC2VVJwn7FbIxB89Bb45iaP48kyp4QSnkNWQqUdWzJspEtrwJ8o2z+aEuJJ2hiHadin0ADZqgXtQ34U3qs3+vX3sZ3vuS4V0LbulJr3CCnR/NkYTdL4ydj1hL3mYH4hkd86EaMUXtiCrYzdcC0g1eYpnoTzJYD4YoclvdGC3c0m5EdWLD5jnSrQNTZsuWRTr/ImdQvYWU15Z6AcHIk1nfbMzl27Rlbo+QUF//BC/ysIMVWVLs1TauHPDhw+arkJx/Wd5RuI+5xMvI/5BVDbuaZP43wkxj3Esg/jjSj/OQfPoj9INHWt+q5chc6ham29Ly8Bhd8y2FKBDyfp2YX3dA07n/TIRp7QoJwKxZ37gZpz8BtHB5+rDZVhtAd/mVA+qfxDjeeL27EGKOWWBYfL6HR8RAx5QZHC8zKaRsxoIkNha9J7q+zHY429zT7KiNquH1hkAdZCuWppZkBjVAk2VEwYJN/wT/4/jKxgkjGJnHqUYksrUucFQWnicGXYvbBTtVXPjrRL6Qh0tx9q54osZ4oXoLKsAOoXeMVKhN98FK8fbMkHP9mGATidH7GkDuOuUMZPyKuYjdmCvUQuuV074DUdk760zrTB+EzUcBfnwWc+modgk4kGxBrKyYS9nxw5eNNxo73+CcMwoTN289vsvhA3/ye9U6OrJB/+A5L+HD1wZ50/wNbQdwrsCK50Xw82tEIASkK/uWs1/nVQj+EhPOMlSirdqpLW4crolS//kdZ6q5XS2b3vptGjYv+afn/i5xR9VBtua7pZ9DRCQx9vEnRL0kyWy+gwwKr7hxmf3n0uiumnj3efaS1ms/JB+FUIgGgwGkbtad+fw5NyH8RC6rYbbidRoF2Y52jUyRAhbfbR0bgPxrQOvl7jjw3eKH+ncP4Hf04freU7GlZ4N6P7QZqm7F2N/kNCHvLzhT4g+d8qC7aw</script> <treescope-run-here><script type=\"application/octet-stream\"> const root = ( Array.from(document.getElementsByClassName( \"treescope_out_ac177f0cae4e461a9ffafb0b5908ef24\")) .filter((elt) => !elt.dataset['step0']) )[0]; root.dataset['step0'] = 1; root.defns.insertContent( this.parentNode.querySelector('script[type=\"application/octet-stream\"]'), true ); this.parentNode.remove(); </script></treescope-run-here> </div>"
      ],
      "text/plain": [
       "<IPython.core.display.HTML object>"
      ]
     },
     "metadata": {},
     "output_type": "display_data"
    },
    {
     "data": {
      "text/html": [
       "<div style=\"display:none\"> <script type=\"application/octet-stream\" >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</script> <treescope-run-here><script type=\"application/octet-stream\"> const root = ( Array.from(document.getElementsByClassName( \"treescope_out_ac177f0cae4e461a9ffafb0b5908ef24\")) .filter((elt) => !elt.dataset['step1']) )[0]; root.dataset['step1'] = 1; root.defns.insertContent( this.parentNode.querySelector('script[type=\"application/octet-stream\"]'), true ); this.parentNode.remove(); </script></treescope-run-here> </div>"
      ],
      "text/plain": [
       "<IPython.core.display.HTML object>"
      ]
     },
     "metadata": {},
     "output_type": "display_data"
    },
    {
     "data": {
      "text/html": [
       "<treescope-run-here><script type=\"application/octet-stream\"> const root = ( Array.from(document.getElementsByClassName( \"treescope_out_ac177f0cae4e461a9ffafb0b5908ef24\")) .filter((elt) => !elt.dataset.stolen) )[0]; root.dataset.stolen = 1; this.parentNode.replaceChild(root, this); </script></treescope-run-here>"
      ],
      "text/plain": [
       "<jax.Array(478, dtype=int32)>"
      ]
     },
     "execution_count": 22,
     "metadata": {},
     "output_type": "execute_result"
    }
   ],
   "source": [
    "circuit_nodes = []\n",
    "n_nodes = 0\n",
    "\n",
    "for layer, masks in ablation_masks.items():\n",
    "    for mask_type, mask in masks.items():\n",
    "        if mask is not None:\n",
    "            for token_type, mask in mask.items():\n",
    "                    n_nodes += mask.sum()\n",
    "                    \n",
    "                    node_ids = np.where(mask)\n",
    "\n",
    "                    if len(node_ids) ==2:\n",
    "                        for pos, feat in zip(*node_ids):\n",
    "                            circuit_nodes.append((layer, mask_type, token_type, feat, pos))\n",
    "                    else:\n",
    "                        for feat in node_ids[0]:\n",
    "                            circuit_nodes.append((layer, mask_type, token_type, feat, None))\n",
    "                    \n",
    "\n",
    "n_nodes"
   ]
  },
  {
   "cell_type": "code",
   "execution_count": 23,
   "metadata": {},
   "outputs": [],
   "source": [
    "typed_ies = {\n",
    "    \"r\": circuitizer.ie_resid,\n",
    "    \"a\": circuitizer.ie_attn,\n",
    "    \"t\": circuitizer.ie_transcoder,\n",
    "}\n",
    "\n",
    "circuit_nodes_with_ies = []\n",
    "\n",
    "for node in circuit_nodes:\n",
    "    layer, sae_type, token_type, node_id, pos = node\n",
    "    ies = typed_ies[sae_type[0]][layer]\n",
    "\n",
    "    if average_over_positions:\n",
    "        masked_ies = circuitizer.mask_average(ies, token_type, average_over_positions=True)\n",
    "        circuit_nodes_with_ies.append((*node, masked_ies[node_id].tolist()))\n",
    "    else:\n",
    "        masked_ies = circuitizer.mask_average(ies, token_type, average_over_positions=False)\n",
    "        circuit_nodes_with_ies.append((*node, masked_ies[pos, node_id].tolist()))\n",
    "\n",
    "circuit_nodes_with_ies = sorted(circuit_nodes_with_ies, key=lambda x: x[-1], reverse=True)"
   ]
  },
  {
   "cell_type": "code",
   "execution_count": 24,
   "metadata": {},
   "outputs": [
    {
     "data": {
      "text/html": [
       "<script> (()=>{ if (customElements.get('treescope-container') === undefined) { class TreescopeContainer extends HTMLElement { constructor() { super(); this.attachShadow({mode: \"open\"}); this.defns = {}; this.state = {}; } } customElements.define(\"treescope-container\", TreescopeContainer); } if (customElements.get('treescope-run-here') === undefined) { class RunHere extends HTMLElement { constructor() { super() } connectedCallback() { const run = child => { const fn = new Function(child.textContent); child.textContent = \"\"; fn.call(this); this.remove(); }; const child = this.querySelector(\"script\"); if (child) { run(child); } else { new MutationObserver(()=>{ run(this.querySelector(\"script\")); }).observe(this, {childList: true}); } } } customElements.define(\"treescope-run-here\", RunHere); } })(); </script> <treescope-container class=\"treescope_out_ce26a09461f941a3ace2ae79494ad137\" ></treescope-container> <treescope-run-here><script type=\"application/octet-stream\"> const root = ( Array.from(document.getElementsByClassName( \"treescope_out_ce26a09461f941a3ace2ae79494ad137\")) .filter((elt) => !elt.dataset.setup) )[0]; root.dataset.setup = 1; const msg = document.createElement(\"span\"); msg.style = \"color: #aaaaaa; font-family: monospace; transition: opacity 0.2s; opacity: 0.0;\"; msg.textContent = \"(Loading...)\"; root.state.loadingMsg = msg; root.shadowRoot.appendChild(msg); root.state.chain = new Promise((resolve, reject) => { const observer = new IntersectionObserver((entries) => { for (const entry of entries) { if (entry.isIntersecting) { resolve(); observer.disconnect(); return; } } }, {rootMargin: \"1000px\"}); window.setTimeout(() => { if (root.loadingMsg) { root.loadingMsg.style.opacity = \"1.0\"; } observer.observe(root); }, 0); }); root.state.deferring = false; const _insertNode = (node) => { for (let oldScript of node.querySelectorAll(\"script\")) { let newScript = document.createElement(\"script\"); newScript.type = oldScript.type; newScript.textContent = oldScript.textContent; oldScript.parentNode.replaceChild(newScript, oldScript); } if (root.state.loadingMsg) { root.state.loadingMsg.remove(); root.state.loadingMsg = null; } root.shadowRoot.appendChild(node); }; root.defns.insertContent = ((contentNode, compressed) => { if (compressed) { root.state.deferring = true; } if (root.state.deferring) { root.state.chain = (async () => { await root.state.chain; if (compressed) { const encoded = contentNode.textContent; const blob = new Blob([ Uint8Array.from(atob(encoded), (m) => m.codePointAt(0)) ]); const reader = blob.stream().pipeThrough( new DecompressionStream(\"deflate\") ).pipeThrough( new TextDecoderStream(\"utf-8\") ).getReader(); const parts = []; while (true) { const step = await reader.read(); if (step.done) { break; } parts.push(step.value); } const tpl = document.createElement('template'); tpl.innerHTML = parts.join(\"\"); _insertNode(tpl.content); } else { _insertNode(contentNode.content); } })(); } else { _insertNode(contentNode.content); } }); </script></treescope-run-here><div style=\"display:none\"> <script type=\"application/octet-stream\" >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</script> <treescope-run-here><script type=\"application/octet-stream\"> const root = ( Array.from(document.getElementsByClassName( \"treescope_out_ce26a09461f941a3ace2ae79494ad137\")) .filter((elt) => !elt.dataset['step0']) )[0]; root.dataset['step0'] = 1; root.defns.insertContent( this.parentNode.querySelector('script[type=\"application/octet-stream\"]'), true ); this.parentNode.remove(); </script></treescope-run-here> </div>"
      ],
      "text/plain": [
       "<IPython.core.display.HTML object>"
      ]
     },
     "metadata": {},
     "output_type": "display_data"
    },
    {
     "data": {
      "text/html": [
       "<treescope-run-here><script type=\"application/octet-stream\"> const root = ( Array.from(document.getElementsByClassName( \"treescope_out_ce26a09461f941a3ace2ae79494ad137\")) .filter((elt) => !elt.dataset.stolen) )[0]; root.dataset.stolen = 1; this.parentNode.replaceChild(root, this); </script></treescope-run-here>"
      ],
      "text/plain": [
       "[(14, 'resid', 'arrow', 20350, None, 0.19732005894184113),\n",
       " (12, 'resid', 'arrow', 8633, None, 0.1399887353181839),\n",
       " (14, 'resid', 'arrow', 3111, None, 0.13071832060813904),\n",
       " (12, 'resid', 'arrow', 14612, None, 0.126472607254982),\n",
       " (13, 'resid', 'arrow', 18439, None, 0.12042760103940964),\n",
       " (11, 'resid', 'arrow', 31442, None, 0.10280638933181763),\n",
       " (12, 'resid', 'arrow', 17636, None, 0.09759051352739334),\n",
       " (14, 'resid', 'arrow', 26966, None, 0.0892127975821495),\n",
       " (14, 'resid', 'arrow', 14842, None, 0.08673807978630066),\n",
       " (14, 'resid', 'arrow', 1562, None, 0.0814814567565918)]"
      ]
     },
     "execution_count": 24,
     "metadata": {},
     "output_type": "execute_result"
    }
   ],
   "source": [
    "circuit_nodes_with_ies[:10]"
   ]
  },
  {
   "cell_type": "code",
   "execution_count": 25,
   "metadata": {},
   "outputs": [],
   "source": [
    "from tqdm.auto import tqdm\n",
    "import numpy as np\n",
    "\n",
    "combined_ies = {}\n",
    "\n",
    "if average_over_positions:\n",
    "    for node in circuit_nodes_with_ies:\n",
    "        layer, type, mask, idx, pos, ie = node\n",
    "        combined_ies[(layer, mask, type[0], idx)] = ie\n",
    "\n",
    "else:\n",
    "    for node in circuit_nodes_with_ies:\n",
    "        layer, type, mask, idx, pos, ie = node\n",
    "        combined_ies[(layer, mask, type[0], idx, pos)] = ie"
   ]
  },
  {
   "cell_type": "code",
   "execution_count": 26,
   "metadata": {},
   "outputs": [],
   "source": [
    "combined_ies = [\n",
    "    key + (weight,)\n",
    "    for key, weight in combined_ies.items()\n",
    "]"
   ]
  },
  {
   "cell_type": "code",
   "execution_count": 27,
   "metadata": {},
   "outputs": [
    {
     "data": {
      "application/vnd.jupyter.widget-view+json": {
       "model_id": "70504cf12b6e4d26968d510c933ea4d1",
       "version_major": 2,
       "version_minor": 0
      },
      "text/plain": [
       "  0%|          | 0/5 [00:00<?, ?it/s]"
      ]
     },
     "metadata": {},
     "output_type": "display_data"
    }
   ],
   "source": [
    "typed_ies_error = {\n",
    "    \"er\": circuitizer.ie_error_resid,\n",
    "    \"ea\": circuitizer.ie_error_attn,\n",
    "    \"et\": circuitizer.ie_error_transcoder,\n",
    "}\n",
    "\n",
    "for layer in tqdm(layers):\n",
    "    for type in typed_ies_error:\n",
    "        if layer in typed_ies_error[type]: \n",
    "            ies = typed_ies_error[type][layer]\n",
    "            for mask in circuitizer.masks:\n",
    "                ies_mask = circuitizer.mask_average(ies, mask, average_over_positions=average_over_positions)\n",
    "                # print(ies_mask.tolist())\n",
    "                # raise\n",
    "\n",
    "                if average_over_positions:\n",
    "                    combined_ies.append((layer, mask, type, 0, ies_mask.tolist()))\n",
    "\n",
    "                else:\n",
    "                    for pos, ie in enumerate(ies_mask):\n",
    "                        if ie > selected_threshold:\n",
    "                            combined_ies.append((layer, mask, type, 0, pos, ie))"
   ]
  },
  {
   "cell_type": "code",
   "execution_count": 28,
   "metadata": {},
   "outputs": [],
   "source": [
    "combined_ies = sorted(combined_ies, key=lambda x: -x[-1])"
   ]
  },
  {
   "cell_type": "code",
   "execution_count": 29,
   "metadata": {},
   "outputs": [],
   "source": [
    "\n",
    "from collections import defaultdict\n",
    "circuit_node_dict = defaultdict(list)\n",
    "\n",
    "if average_over_positions:\n",
    "    for node in combined_ies:\n",
    "        layer, mask, type, idx, weight = node\n",
    "        circuit_node_dict[(type, layer, mask)].append(idx)\n",
    "\n",
    "    circuit_node_dict = {\n",
    "        k: np.array(v) for k,v in circuit_node_dict.items()\n",
    "    }\n",
    "else:\n",
    "    for node in combined_ies:\n",
    "        layer, mask, type, idx, pos, weight = node\n",
    "        circuit_node_dict[(type, layer, mask)].append((pos, idx))\n",
    "\n",
    "    circuit_node_dict = {\n",
    "        k: np.array(v) for k,v in circuit_node_dict.items()\n",
    "    }"
   ]
  },
  {
   "cell_type": "code",
   "execution_count": 30,
   "metadata": {},
   "outputs": [
    {
     "data": {
      "application/vnd.jupyter.widget-view+json": {
       "model_id": "22545f4d8fe8458aa5b29f641b54ecc6",
       "version_major": 2,
       "version_minor": 0
      },
      "text/plain": [
       "  0%|          | 0/142 [00:00<?, ?it/s]"
      ]
     },
     "metadata": {},
     "output_type": "display_data"
    },
    {
     "data": {
      "application/vnd.jupyter.widget-view+json": {
       "model_id": "0435849b31274321af17cef2b08cb4cb",
       "version_major": 2,
       "version_minor": 0
      },
      "text/plain": [
       "  0%|          | 0/2 [00:00<?, ?it/s, ('arrow', 'a', 14)]"
      ]
     },
     "metadata": {},
     "output_type": "display_data"
    },
    {
     "data": {
      "application/vnd.jupyter.widget-view+json": {
       "model_id": "cdbae90bb3a245028bcb3a2ee60fef9a",
       "version_major": 2,
       "version_minor": 0
      },
      "text/plain": [
       "  0%|          | 0/1 [00:00<?, ?it/s, ('arrow', 'ea', 14)]"
      ]
     },
     "metadata": {},
     "output_type": "display_data"
    },
    {
     "data": {
      "application/vnd.jupyter.widget-view+json": {
       "model_id": "99dfc42c832f47c6bbc6eef4d7e5187b",
       "version_major": 2,
       "version_minor": 0
      },
      "text/plain": [
       "  0%|          | 0/1 [00:00<?, ?it/s, ('input', 'ea', 14)]"
      ]
     },
     "metadata": {},
     "output_type": "display_data"
    },
    {
     "data": {
      "application/vnd.jupyter.widget-view+json": {
       "model_id": "3cf30f523e694ca78c7742a63b64b907",
       "version_major": 2,
       "version_minor": 0
      },
      "text/plain": [
       "  0%|          | 0/1 [00:00<?, ?it/s, ('newline', 'ea', 14)]"
      ]
     },
     "metadata": {},
     "output_type": "display_data"
    },
    {
     "data": {
      "application/vnd.jupyter.widget-view+json": {
       "model_id": "d3643722c1594a90a52aad51180a1ae9",
       "version_major": 2,
       "version_minor": 0
      },
      "text/plain": [
       "  0%|          | 0/1 [00:00<?, ?it/s, ('output', 'ea', 14)]"
      ]
     },
     "metadata": {},
     "output_type": "display_data"
    },
    {
     "data": {
      "application/vnd.jupyter.widget-view+json": {
       "model_id": "f5630b18709d4dee9c3f74bb6fb79e41",
       "version_major": 2,
       "version_minor": 0
      },
      "text/plain": [
       "  0%|          | 0/1 [00:00<?, ?it/s, ('prompt', 'ea', 14)]"
      ]
     },
     "metadata": {},
     "output_type": "display_data"
    },
    {
     "data": {
      "application/vnd.jupyter.widget-view+json": {
       "model_id": "bab0b75e84a6404ab3c0c95ad014199a",
       "version_major": 2,
       "version_minor": 0
      },
      "text/plain": [
       "  0%|          | 0/1 [00:00<?, ?it/s, ('remaining', 'ea', 14)]"
      ]
     },
     "metadata": {},
     "output_type": "display_data"
    },
    {
     "data": {
      "application/vnd.jupyter.widget-view+json": {
       "model_id": "0e6cc11ad1c94eca9783d4eb8f662380",
       "version_major": 2,
       "version_minor": 0
      },
      "text/plain": [
       "  0%|          | 0/1 [00:00<?, ?it/s, ('arrow', 'er', 14)]"
      ]
     },
     "metadata": {},
     "output_type": "display_data"
    },
    {
     "data": {
      "application/vnd.jupyter.widget-view+json": {
       "model_id": "e3525683db9748d7a0e8bc1f62532d99",
       "version_major": 2,
       "version_minor": 0
      },
      "text/plain": [
       "  0%|          | 0/1 [00:00<?, ?it/s, ('input', 'er', 14)]"
      ]
     },
     "metadata": {},
     "output_type": "display_data"
    },
    {
     "data": {
      "application/vnd.jupyter.widget-view+json": {
       "model_id": "2c59c501540f4e4f85f2086ff653ff0c",
       "version_major": 2,
       "version_minor": 0
      },
      "text/plain": [
       "  0%|          | 0/1 [00:00<?, ?it/s, ('newline', 'er', 14)]"
      ]
     },
     "metadata": {},
     "output_type": "display_data"
    },
    {
     "data": {
      "application/vnd.jupyter.widget-view+json": {
       "model_id": "219116edbb6a41ef9d6c58de68caae40",
       "version_major": 2,
       "version_minor": 0
      },
      "text/plain": [
       "  0%|          | 0/1 [00:00<?, ?it/s, ('output', 'er', 14)]"
      ]
     },
     "metadata": {},
     "output_type": "display_data"
    },
    {
     "data": {
      "application/vnd.jupyter.widget-view+json": {
       "model_id": "9aafc67122ee41728e82f42164f34988",
       "version_major": 2,
       "version_minor": 0
      },
      "text/plain": [
       "  0%|          | 0/1 [00:00<?, ?it/s, ('prompt', 'er', 14)]"
      ]
     },
     "metadata": {},
     "output_type": "display_data"
    },
    {
     "data": {
      "application/vnd.jupyter.widget-view+json": {
       "model_id": "04b8a5c79ed64a9491ca79922e0bb64e",
       "version_major": 2,
       "version_minor": 0
      },
      "text/plain": [
       "  0%|          | 0/1 [00:00<?, ?it/s, ('remaining', 'er', 14)]"
      ]
     },
     "metadata": {},
     "output_type": "display_data"
    },
    {
     "data": {
      "application/vnd.jupyter.widget-view+json": {
       "model_id": "79fcf426d4c04dcdb20f3bd6ccdb0639",
       "version_major": 2,
       "version_minor": 0
      },
      "text/plain": [
       "  0%|          | 0/1 [00:00<?, ?it/s, ('arrow', 'et', 14)]"
      ]
     },
     "metadata": {},
     "output_type": "display_data"
    },
    {
     "data": {
      "application/vnd.jupyter.widget-view+json": {
       "model_id": "4f06b37ef1ad4748b8be20efbb913998",
       "version_major": 2,
       "version_minor": 0
      },
      "text/plain": [
       "  0%|          | 0/1 [00:00<?, ?it/s, ('input', 'et', 14)]"
      ]
     },
     "metadata": {},
     "output_type": "display_data"
    },
    {
     "data": {
      "application/vnd.jupyter.widget-view+json": {
       "model_id": "bb65e82d6c074966a4ed8ade296425fd",
       "version_major": 2,
       "version_minor": 0
      },
      "text/plain": [
       "  0%|          | 0/1 [00:00<?, ?it/s, ('newline', 'et', 14)]"
      ]
     },
     "metadata": {},
     "output_type": "display_data"
    },
    {
     "data": {
      "application/vnd.jupyter.widget-view+json": {
       "model_id": "ba4209cff2fa43008118bbe0fd631a4b",
       "version_major": 2,
       "version_minor": 0
      },
      "text/plain": [
       "  0%|          | 0/1 [00:00<?, ?it/s, ('output', 'et', 14)]"
      ]
     },
     "metadata": {},
     "output_type": "display_data"
    },
    {
     "data": {
      "application/vnd.jupyter.widget-view+json": {
       "model_id": "2f8cc8efc0a24b7d8c1f46b62d3ee0e3",
       "version_major": 2,
       "version_minor": 0
      },
      "text/plain": [
       "  0%|          | 0/1 [00:00<?, ?it/s, ('prompt', 'et', 14)]"
      ]
     },
     "metadata": {},
     "output_type": "display_data"
    },
    {
     "data": {
      "application/vnd.jupyter.widget-view+json": {
       "model_id": "6c7b13674e90440887fccee1ee5e01ee",
       "version_major": 2,
       "version_minor": 0
      },
      "text/plain": [
       "  0%|          | 0/1 [00:00<?, ?it/s, ('remaining', 'et', 14)]"
      ]
     },
     "metadata": {},
     "output_type": "display_data"
    },
    {
     "data": {
      "application/vnd.jupyter.widget-view+json": {
       "model_id": "8e31964d83764d1fbe2b6962fc504d25",
       "version_major": 2,
       "version_minor": 0
      },
      "text/plain": [
       "  0%|          | 0/3 [00:00<?, ?it/s, ('arrow', 'r', 14)]"
      ]
     },
     "metadata": {},
     "output_type": "display_data"
    },
    {
     "data": {
      "application/vnd.jupyter.widget-view+json": {
       "model_id": "934ee361bd0846c6818ae56aa486ef40",
       "version_major": 2,
       "version_minor": 0
      },
      "text/plain": [
       "  0%|          | 0/1 [00:00<?, ?it/s, ('input', 'r', 14)]"
      ]
     },
     "metadata": {},
     "output_type": "display_data"
    },
    {
     "data": {
      "application/vnd.jupyter.widget-view+json": {
       "model_id": "5d50230c4af946e6bfb2098ebd244122",
       "version_major": 2,
       "version_minor": 0
      },
      "text/plain": [
       "  0%|          | 0/1 [00:00<?, ?it/s, ('output', 'r', 14)]"
      ]
     },
     "metadata": {},
     "output_type": "display_data"
    },
    {
     "data": {
      "application/vnd.jupyter.widget-view+json": {
       "model_id": "1e85cd9c5b5249fbabc12bd514e41d21",
       "version_major": 2,
       "version_minor": 0
      },
      "text/plain": [
       "  0%|          | 0/1 [00:00<?, ?it/s, ('prompt', 'r', 14)]"
      ]
     },
     "metadata": {},
     "output_type": "display_data"
    },
    {
     "data": {
      "application/vnd.jupyter.widget-view+json": {
       "model_id": "a5f10f6fce28490497fbe60c863bd648",
       "version_major": 2,
       "version_minor": 0
      },
      "text/plain": [
       "  0%|          | 0/1 [00:00<?, ?it/s, ('remaining', 'r', 14)]"
      ]
     },
     "metadata": {},
     "output_type": "display_data"
    },
    {
     "data": {
      "application/vnd.jupyter.widget-view+json": {
       "model_id": "e8dc4535b811429c83c4006883122557",
       "version_major": 2,
       "version_minor": 0
      },
      "text/plain": [
       "  0%|          | 0/3 [00:00<?, ?it/s, ('arrow', 't', 14)]"
      ]
     },
     "metadata": {},
     "output_type": "display_data"
    },
    {
     "data": {
      "application/vnd.jupyter.widget-view+json": {
       "model_id": "18a97359b1bf4339ad6eca75d7870080",
       "version_major": 2,
       "version_minor": 0
      },
      "text/plain": [
       "  0%|          | 0/1 [00:00<?, ?it/s, ('arrow', 'a', 13)]"
      ]
     },
     "metadata": {},
     "output_type": "display_data"
    },
    {
     "data": {
      "application/vnd.jupyter.widget-view+json": {
       "model_id": "477fb32e9ae845a0a36073adfff4056d",
       "version_major": 2,
       "version_minor": 0
      },
      "text/plain": [
       "  0%|          | 0/1 [00:00<?, ?it/s, ('arrow', 'ea', 13)]"
      ]
     },
     "metadata": {},
     "output_type": "display_data"
    },
    {
     "data": {
      "application/vnd.jupyter.widget-view+json": {
       "model_id": "abb477bedafd444d8f65573fce0b1750",
       "version_major": 2,
       "version_minor": 0
      },
      "text/plain": [
       "  0%|          | 0/1 [00:00<?, ?it/s, ('input', 'ea', 13)]"
      ]
     },
     "metadata": {},
     "output_type": "display_data"
    },
    {
     "data": {
      "application/vnd.jupyter.widget-view+json": {
       "model_id": "fb5af775c55f461bbb59131f9d9d98bf",
       "version_major": 2,
       "version_minor": 0
      },
      "text/plain": [
       "  0%|          | 0/1 [00:00<?, ?it/s, ('newline', 'ea', 13)]"
      ]
     },
     "metadata": {},
     "output_type": "display_data"
    },
    {
     "data": {
      "application/vnd.jupyter.widget-view+json": {
       "model_id": "df307a995bab4bceb08c66e19f383597",
       "version_major": 2,
       "version_minor": 0
      },
      "text/plain": [
       "  0%|          | 0/1 [00:00<?, ?it/s, ('output', 'ea', 13)]"
      ]
     },
     "metadata": {},
     "output_type": "display_data"
    },
    {
     "data": {
      "application/vnd.jupyter.widget-view+json": {
       "model_id": "369687f22d4e44aa83ad850ecd7c1f89",
       "version_major": 2,
       "version_minor": 0
      },
      "text/plain": [
       "  0%|          | 0/1 [00:00<?, ?it/s, ('prompt', 'ea', 13)]"
      ]
     },
     "metadata": {},
     "output_type": "display_data"
    },
    {
     "data": {
      "application/vnd.jupyter.widget-view+json": {
       "model_id": "10221f80d3b04413a7e5d53afd18a63f",
       "version_major": 2,
       "version_minor": 0
      },
      "text/plain": [
       "  0%|          | 0/1 [00:00<?, ?it/s, ('remaining', 'ea', 13)]"
      ]
     },
     "metadata": {},
     "output_type": "display_data"
    },
    {
     "data": {
      "application/vnd.jupyter.widget-view+json": {
       "model_id": "e4101997108546a7935f31c3dbb4dddb",
       "version_major": 2,
       "version_minor": 0
      },
      "text/plain": [
       "  0%|          | 0/1 [00:00<?, ?it/s, ('arrow', 'er', 13)]"
      ]
     },
     "metadata": {},
     "output_type": "display_data"
    },
    {
     "data": {
      "application/vnd.jupyter.widget-view+json": {
       "model_id": "cf516bee745842f4980c3053e74e1288",
       "version_major": 2,
       "version_minor": 0
      },
      "text/plain": [
       "  0%|          | 0/1 [00:00<?, ?it/s, ('input', 'er', 13)]"
      ]
     },
     "metadata": {},
     "output_type": "display_data"
    },
    {
     "data": {
      "application/vnd.jupyter.widget-view+json": {
       "model_id": "2aebefde62604739b2e520ffbb63a7e1",
       "version_major": 2,
       "version_minor": 0
      },
      "text/plain": [
       "  0%|          | 0/1 [00:00<?, ?it/s, ('newline', 'er', 13)]"
      ]
     },
     "metadata": {},
     "output_type": "display_data"
    },
    {
     "data": {
      "application/vnd.jupyter.widget-view+json": {
       "model_id": "b63293c6646f4ac291f2879095c725ac",
       "version_major": 2,
       "version_minor": 0
      },
      "text/plain": [
       "  0%|          | 0/1 [00:00<?, ?it/s, ('output', 'er', 13)]"
      ]
     },
     "metadata": {},
     "output_type": "display_data"
    },
    {
     "data": {
      "application/vnd.jupyter.widget-view+json": {
       "model_id": "ac21031f06b049909e06f0d758904555",
       "version_major": 2,
       "version_minor": 0
      },
      "text/plain": [
       "  0%|          | 0/1 [00:00<?, ?it/s, ('prompt', 'er', 13)]"
      ]
     },
     "metadata": {},
     "output_type": "display_data"
    },
    {
     "data": {
      "application/vnd.jupyter.widget-view+json": {
       "model_id": "fbef16c71d104fa788159db686e906f4",
       "version_major": 2,
       "version_minor": 0
      },
      "text/plain": [
       "  0%|          | 0/1 [00:00<?, ?it/s, ('remaining', 'er', 13)]"
      ]
     },
     "metadata": {},
     "output_type": "display_data"
    },
    {
     "data": {
      "application/vnd.jupyter.widget-view+json": {
       "model_id": "25700e6d716d4145bfa54930d027dcfe",
       "version_major": 2,
       "version_minor": 0
      },
      "text/plain": [
       "  0%|          | 0/1 [00:00<?, ?it/s, ('arrow', 'et', 13)]"
      ]
     },
     "metadata": {},
     "output_type": "display_data"
    },
    {
     "data": {
      "application/vnd.jupyter.widget-view+json": {
       "model_id": "3364625ab4ca4b04a3bfe111e23c2770",
       "version_major": 2,
       "version_minor": 0
      },
      "text/plain": [
       "  0%|          | 0/1 [00:00<?, ?it/s, ('input', 'et', 13)]"
      ]
     },
     "metadata": {},
     "output_type": "display_data"
    },
    {
     "data": {
      "application/vnd.jupyter.widget-view+json": {
       "model_id": "7ef0101530f743e0a60821316ef029fb",
       "version_major": 2,
       "version_minor": 0
      },
      "text/plain": [
       "  0%|          | 0/1 [00:00<?, ?it/s, ('newline', 'et', 13)]"
      ]
     },
     "metadata": {},
     "output_type": "display_data"
    },
    {
     "data": {
      "application/vnd.jupyter.widget-view+json": {
       "model_id": "940db3b8553a4249b0e7a857225a6432",
       "version_major": 2,
       "version_minor": 0
      },
      "text/plain": [
       "  0%|          | 0/1 [00:00<?, ?it/s, ('output', 'et', 13)]"
      ]
     },
     "metadata": {},
     "output_type": "display_data"
    },
    {
     "data": {
      "application/vnd.jupyter.widget-view+json": {
       "model_id": "d7e53c51856d4dbcb94e8e3725e17db0",
       "version_major": 2,
       "version_minor": 0
      },
      "text/plain": [
       "  0%|          | 0/1 [00:00<?, ?it/s, ('prompt', 'et', 13)]"
      ]
     },
     "metadata": {},
     "output_type": "display_data"
    },
    {
     "data": {
      "application/vnd.jupyter.widget-view+json": {
       "model_id": "d0b9b359345e4fb384e7ccebcbef4e0c",
       "version_major": 2,
       "version_minor": 0
      },
      "text/plain": [
       "  0%|          | 0/1 [00:00<?, ?it/s, ('remaining', 'et', 13)]"
      ]
     },
     "metadata": {},
     "output_type": "display_data"
    },
    {
     "data": {
      "application/vnd.jupyter.widget-view+json": {
       "model_id": "f6729cf7a849499fb456876a5f28da1a",
       "version_major": 2,
       "version_minor": 0
      },
      "text/plain": [
       "  0%|          | 0/2 [00:00<?, ?it/s, ('arrow', 'r', 13)]"
      ]
     },
     "metadata": {},
     "output_type": "display_data"
    },
    {
     "data": {
      "application/vnd.jupyter.widget-view+json": {
       "model_id": "12050107a413440a827f3043d8bc60ac",
       "version_major": 2,
       "version_minor": 0
      },
      "text/plain": [
       "  0%|          | 0/1 [00:00<?, ?it/s, ('input', 'r', 13)]"
      ]
     },
     "metadata": {},
     "output_type": "display_data"
    },
    {
     "data": {
      "application/vnd.jupyter.widget-view+json": {
       "model_id": "21afaecfb86340dda3e29da14106af54",
       "version_major": 2,
       "version_minor": 0
      },
      "text/plain": [
       "  0%|          | 0/1 [00:00<?, ?it/s, ('newline', 'r', 13)]"
      ]
     },
     "metadata": {},
     "output_type": "display_data"
    },
    {
     "data": {
      "application/vnd.jupyter.widget-view+json": {
       "model_id": "0ff74e16d59a479f8c482a281ebdd6c9",
       "version_major": 2,
       "version_minor": 0
      },
      "text/plain": [
       "  0%|          | 0/1 [00:00<?, ?it/s, ('output', 'r', 13)]"
      ]
     },
     "metadata": {},
     "output_type": "display_data"
    },
    {
     "data": {
      "application/vnd.jupyter.widget-view+json": {
       "model_id": "6e77d7493ed6417d942fa7de97b7b302",
       "version_major": 2,
       "version_minor": 0
      },
      "text/plain": [
       "  0%|          | 0/1 [00:00<?, ?it/s, ('prompt', 'r', 13)]"
      ]
     },
     "metadata": {},
     "output_type": "display_data"
    },
    {
     "data": {
      "application/vnd.jupyter.widget-view+json": {
       "model_id": "03b77b256e564f50919d0246a85c9315",
       "version_major": 2,
       "version_minor": 0
      },
      "text/plain": [
       "  0%|          | 0/1 [00:00<?, ?it/s, ('remaining', 'r', 13)]"
      ]
     },
     "metadata": {},
     "output_type": "display_data"
    },
    {
     "data": {
      "application/vnd.jupyter.widget-view+json": {
       "model_id": "ec3fb0a515f442848541700d6138abfb",
       "version_major": 2,
       "version_minor": 0
      },
      "text/plain": [
       "  0%|          | 0/2 [00:00<?, ?it/s, ('arrow', 't', 13)]"
      ]
     },
     "metadata": {},
     "output_type": "display_data"
    },
    {
     "data": {
      "application/vnd.jupyter.widget-view+json": {
       "model_id": "fd80db14384b40bfb3838586cf1d452d",
       "version_major": 2,
       "version_minor": 0
      },
      "text/plain": [
       "  0%|          | 0/1 [00:00<?, ?it/s, ('arrow', 'a', 12)]"
      ]
     },
     "metadata": {},
     "output_type": "display_data"
    },
    {
     "data": {
      "application/vnd.jupyter.widget-view+json": {
       "model_id": "996fa99604ca4f789f76d5a147817638",
       "version_major": 2,
       "version_minor": 0
      },
      "text/plain": [
       "  0%|          | 0/1 [00:00<?, ?it/s, ('arrow', 'ea', 12)]"
      ]
     },
     "metadata": {},
     "output_type": "display_data"
    },
    {
     "data": {
      "application/vnd.jupyter.widget-view+json": {
       "model_id": "ece8aa11051743928a3eaf72d0c4b482",
       "version_major": 2,
       "version_minor": 0
      },
      "text/plain": [
       "  0%|          | 0/1 [00:00<?, ?it/s, ('input', 'ea', 12)]"
      ]
     },
     "metadata": {},
     "output_type": "display_data"
    },
    {
     "data": {
      "application/vnd.jupyter.widget-view+json": {
       "model_id": "7be82f5410304b358ef5a714dd9a59cf",
       "version_major": 2,
       "version_minor": 0
      },
      "text/plain": [
       "  0%|          | 0/1 [00:00<?, ?it/s, ('newline', 'ea', 12)]"
      ]
     },
     "metadata": {},
     "output_type": "display_data"
    },
    {
     "data": {
      "application/vnd.jupyter.widget-view+json": {
       "model_id": "5a2195605975477c900d02e4366085c5",
       "version_major": 2,
       "version_minor": 0
      },
      "text/plain": [
       "  0%|          | 0/1 [00:00<?, ?it/s, ('output', 'ea', 12)]"
      ]
     },
     "metadata": {},
     "output_type": "display_data"
    },
    {
     "data": {
      "application/vnd.jupyter.widget-view+json": {
       "model_id": "db97227868e34e76baff33a94ae68eca",
       "version_major": 2,
       "version_minor": 0
      },
      "text/plain": [
       "  0%|          | 0/1 [00:00<?, ?it/s, ('prompt', 'ea', 12)]"
      ]
     },
     "metadata": {},
     "output_type": "display_data"
    },
    {
     "data": {
      "application/vnd.jupyter.widget-view+json": {
       "model_id": "d041b72d0ba3430f8026ed8ca431cd66",
       "version_major": 2,
       "version_minor": 0
      },
      "text/plain": [
       "  0%|          | 0/1 [00:00<?, ?it/s, ('remaining', 'ea', 12)]"
      ]
     },
     "metadata": {},
     "output_type": "display_data"
    },
    {
     "data": {
      "application/vnd.jupyter.widget-view+json": {
       "model_id": "be143a59729f4531b0819bcd07cc23ae",
       "version_major": 2,
       "version_minor": 0
      },
      "text/plain": [
       "  0%|          | 0/1 [00:00<?, ?it/s, ('arrow', 'er', 12)]"
      ]
     },
     "metadata": {},
     "output_type": "display_data"
    },
    {
     "data": {
      "application/vnd.jupyter.widget-view+json": {
       "model_id": "8d3243f4072140aaba76ace7f07e34ad",
       "version_major": 2,
       "version_minor": 0
      },
      "text/plain": [
       "  0%|          | 0/1 [00:00<?, ?it/s, ('input', 'er', 12)]"
      ]
     },
     "metadata": {},
     "output_type": "display_data"
    },
    {
     "data": {
      "application/vnd.jupyter.widget-view+json": {
       "model_id": "bb9d17bb803b47a99119f117d8b71209",
       "version_major": 2,
       "version_minor": 0
      },
      "text/plain": [
       "  0%|          | 0/1 [00:00<?, ?it/s, ('newline', 'er', 12)]"
      ]
     },
     "metadata": {},
     "output_type": "display_data"
    },
    {
     "data": {
      "application/vnd.jupyter.widget-view+json": {
       "model_id": "6c79f55bc09d4cf68015e4598a943317",
       "version_major": 2,
       "version_minor": 0
      },
      "text/plain": [
       "  0%|          | 0/1 [00:00<?, ?it/s, ('output', 'er', 12)]"
      ]
     },
     "metadata": {},
     "output_type": "display_data"
    },
    {
     "data": {
      "application/vnd.jupyter.widget-view+json": {
       "model_id": "a88f9e5595f3486c90ce8af244cad55e",
       "version_major": 2,
       "version_minor": 0
      },
      "text/plain": [
       "  0%|          | 0/1 [00:00<?, ?it/s, ('prompt', 'er', 12)]"
      ]
     },
     "metadata": {},
     "output_type": "display_data"
    },
    {
     "data": {
      "application/vnd.jupyter.widget-view+json": {
       "model_id": "400fc857dec9478d88b6a9e066d89de3",
       "version_major": 2,
       "version_minor": 0
      },
      "text/plain": [
       "  0%|          | 0/1 [00:00<?, ?it/s, ('remaining', 'er', 12)]"
      ]
     },
     "metadata": {},
     "output_type": "display_data"
    },
    {
     "data": {
      "application/vnd.jupyter.widget-view+json": {
       "model_id": "c7e6bc58248c43859218e8239767259d",
       "version_major": 2,
       "version_minor": 0
      },
      "text/plain": [
       "  0%|          | 0/1 [00:00<?, ?it/s, ('arrow', 'et', 12)]"
      ]
     },
     "metadata": {},
     "output_type": "display_data"
    },
    {
     "data": {
      "application/vnd.jupyter.widget-view+json": {
       "model_id": "4cb95e6885be457d820eef6e3020d5d2",
       "version_major": 2,
       "version_minor": 0
      },
      "text/plain": [
       "  0%|          | 0/1 [00:00<?, ?it/s, ('input', 'et', 12)]"
      ]
     },
     "metadata": {},
     "output_type": "display_data"
    },
    {
     "data": {
      "application/vnd.jupyter.widget-view+json": {
       "model_id": "30a77e9029254dd19acb3e92c85d47f7",
       "version_major": 2,
       "version_minor": 0
      },
      "text/plain": [
       "  0%|          | 0/1 [00:00<?, ?it/s, ('newline', 'et', 12)]"
      ]
     },
     "metadata": {},
     "output_type": "display_data"
    },
    {
     "data": {
      "application/vnd.jupyter.widget-view+json": {
       "model_id": "fc3cc9eb519c48e085c4d775c45428f9",
       "version_major": 2,
       "version_minor": 0
      },
      "text/plain": [
       "  0%|          | 0/1 [00:00<?, ?it/s, ('output', 'et', 12)]"
      ]
     },
     "metadata": {},
     "output_type": "display_data"
    },
    {
     "data": {
      "application/vnd.jupyter.widget-view+json": {
       "model_id": "c86ba00676b94bf1b88fd38aaf253a04",
       "version_major": 2,
       "version_minor": 0
      },
      "text/plain": [
       "  0%|          | 0/1 [00:00<?, ?it/s, ('prompt', 'et', 12)]"
      ]
     },
     "metadata": {},
     "output_type": "display_data"
    },
    {
     "data": {
      "application/vnd.jupyter.widget-view+json": {
       "model_id": "c04d5aed6653496db8e46df1e27f420e",
       "version_major": 2,
       "version_minor": 0
      },
      "text/plain": [
       "  0%|          | 0/1 [00:00<?, ?it/s, ('remaining', 'et', 12)]"
      ]
     },
     "metadata": {},
     "output_type": "display_data"
    },
    {
     "data": {
      "application/vnd.jupyter.widget-view+json": {
       "model_id": "7779b3af23cd497883942c14e2cae991",
       "version_major": 2,
       "version_minor": 0
      },
      "text/plain": [
       "  0%|          | 0/2 [00:00<?, ?it/s, ('arrow', 'r', 12)]"
      ]
     },
     "metadata": {},
     "output_type": "display_data"
    },
    {
     "data": {
      "application/vnd.jupyter.widget-view+json": {
       "model_id": "0e5779d09d0c490387af8a059b21cae9",
       "version_major": 2,
       "version_minor": 0
      },
      "text/plain": [
       "  0%|          | 0/2 [00:00<?, ?it/s, ('input', 'r', 12)]"
      ]
     },
     "metadata": {},
     "output_type": "display_data"
    },
    {
     "data": {
      "application/vnd.jupyter.widget-view+json": {
       "model_id": "9f639dd7976640f28b82a0113c1d5be3",
       "version_major": 2,
       "version_minor": 0
      },
      "text/plain": [
       "  0%|          | 0/1 [00:00<?, ?it/s, ('newline', 'r', 12)]"
      ]
     },
     "metadata": {},
     "output_type": "display_data"
    },
    {
     "data": {
      "application/vnd.jupyter.widget-view+json": {
       "model_id": "7460303735c44353a5c2aa4ce016211e",
       "version_major": 2,
       "version_minor": 0
      },
      "text/plain": [
       "  0%|          | 0/1 [00:00<?, ?it/s, ('output', 'r', 12)]"
      ]
     },
     "metadata": {},
     "output_type": "display_data"
    },
    {
     "data": {
      "application/vnd.jupyter.widget-view+json": {
       "model_id": "d7af16b4df814146a057f50a3f989916",
       "version_major": 2,
       "version_minor": 0
      },
      "text/plain": [
       "  0%|          | 0/1 [00:00<?, ?it/s, ('prompt', 'r', 12)]"
      ]
     },
     "metadata": {},
     "output_type": "display_data"
    },
    {
     "data": {
      "application/vnd.jupyter.widget-view+json": {
       "model_id": "0a493a8cdb4a49df8448f0d85e68e391",
       "version_major": 2,
       "version_minor": 0
      },
      "text/plain": [
       "  0%|          | 0/1 [00:00<?, ?it/s, ('remaining', 'r', 12)]"
      ]
     },
     "metadata": {},
     "output_type": "display_data"
    },
    {
     "data": {
      "application/vnd.jupyter.widget-view+json": {
       "model_id": "8eedd6fde0714ecaa13f68bd7126cf86",
       "version_major": 2,
       "version_minor": 0
      },
      "text/plain": [
       "  0%|          | 0/2 [00:00<?, ?it/s, ('arrow', 't', 12)]"
      ]
     },
     "metadata": {},
     "output_type": "display_data"
    },
    {
     "data": {
      "application/vnd.jupyter.widget-view+json": {
       "model_id": "8d140e782be24a039c387b827213eb98",
       "version_major": 2,
       "version_minor": 0
      },
      "text/plain": [
       "  0%|          | 0/1 [00:00<?, ?it/s, ('input', 't', 12)]"
      ]
     },
     "metadata": {},
     "output_type": "display_data"
    },
    {
     "data": {
      "application/vnd.jupyter.widget-view+json": {
       "model_id": "86fe81a20845409da28953d7c5e7b156",
       "version_major": 2,
       "version_minor": 0
      },
      "text/plain": [
       "  0%|          | 0/1 [00:00<?, ?it/s, ('output', 't', 12)]"
      ]
     },
     "metadata": {},
     "output_type": "display_data"
    },
    {
     "data": {
      "application/vnd.jupyter.widget-view+json": {
       "model_id": "70841e9a08c74fc78001daf710cd5916",
       "version_major": 2,
       "version_minor": 0
      },
      "text/plain": [
       "  0%|          | 0/1 [00:00<?, ?it/s, ('prompt', 't', 12)]"
      ]
     },
     "metadata": {},
     "output_type": "display_data"
    },
    {
     "data": {
      "application/vnd.jupyter.widget-view+json": {
       "model_id": "a07ee2f65a004c4f98596cbaeb2624fc",
       "version_major": 2,
       "version_minor": 0
      },
      "text/plain": [
       "  0%|          | 0/1 [00:00<?, ?it/s, ('remaining', 't', 12)]"
      ]
     },
     "metadata": {},
     "output_type": "display_data"
    },
    {
     "data": {
      "application/vnd.jupyter.widget-view+json": {
       "model_id": "1ab4f6f825e14876903aecbc68750f57",
       "version_major": 2,
       "version_minor": 0
      },
      "text/plain": [
       "  0%|          | 0/1 [00:00<?, ?it/s, ('arrow', 'a', 11)]"
      ]
     },
     "metadata": {},
     "output_type": "display_data"
    },
    {
     "data": {
      "application/vnd.jupyter.widget-view+json": {
       "model_id": "78f6441d8b034801813da419af4164c4",
       "version_major": 2,
       "version_minor": 0
      },
      "text/plain": [
       "  0%|          | 0/1 [00:00<?, ?it/s, ('arrow', 'ea', 11)]"
      ]
     },
     "metadata": {},
     "output_type": "display_data"
    },
    {
     "data": {
      "application/vnd.jupyter.widget-view+json": {
       "model_id": "a90b7fdc49f940b19cfc6d04bf93e333",
       "version_major": 2,
       "version_minor": 0
      },
      "text/plain": [
       "  0%|          | 0/1 [00:00<?, ?it/s, ('input', 'ea', 11)]"
      ]
     },
     "metadata": {},
     "output_type": "display_data"
    },
    {
     "data": {
      "application/vnd.jupyter.widget-view+json": {
       "model_id": "3afcdd11268d4b4e8ed96111596b9466",
       "version_major": 2,
       "version_minor": 0
      },
      "text/plain": [
       "  0%|          | 0/1 [00:00<?, ?it/s, ('newline', 'ea', 11)]"
      ]
     },
     "metadata": {},
     "output_type": "display_data"
    },
    {
     "data": {
      "application/vnd.jupyter.widget-view+json": {
       "model_id": "5ee7a49b504f4505baf9403bd59777c5",
       "version_major": 2,
       "version_minor": 0
      },
      "text/plain": [
       "  0%|          | 0/1 [00:00<?, ?it/s, ('output', 'ea', 11)]"
      ]
     },
     "metadata": {},
     "output_type": "display_data"
    },
    {
     "data": {
      "application/vnd.jupyter.widget-view+json": {
       "model_id": "e8c04666837e4405adcd973f343e532b",
       "version_major": 2,
       "version_minor": 0
      },
      "text/plain": [
       "  0%|          | 0/1 [00:00<?, ?it/s, ('prompt', 'ea', 11)]"
      ]
     },
     "metadata": {},
     "output_type": "display_data"
    },
    {
     "data": {
      "application/vnd.jupyter.widget-view+json": {
       "model_id": "92e8964492aa4561bb31621af0786888",
       "version_major": 2,
       "version_minor": 0
      },
      "text/plain": [
       "  0%|          | 0/1 [00:00<?, ?it/s, ('remaining', 'ea', 11)]"
      ]
     },
     "metadata": {},
     "output_type": "display_data"
    },
    {
     "data": {
      "application/vnd.jupyter.widget-view+json": {
       "model_id": "a2fe9e74260f47219d8a8cfaf80f77f0",
       "version_major": 2,
       "version_minor": 0
      },
      "text/plain": [
       "  0%|          | 0/1 [00:00<?, ?it/s, ('arrow', 'er', 11)]"
      ]
     },
     "metadata": {},
     "output_type": "display_data"
    },
    {
     "data": {
      "application/vnd.jupyter.widget-view+json": {
       "model_id": "0ad9ffcceb424b93b72b63f088623565",
       "version_major": 2,
       "version_minor": 0
      },
      "text/plain": [
       "  0%|          | 0/1 [00:00<?, ?it/s, ('input', 'er', 11)]"
      ]
     },
     "metadata": {},
     "output_type": "display_data"
    },
    {
     "data": {
      "application/vnd.jupyter.widget-view+json": {
       "model_id": "e138b8430ae64997865edd18363a03e9",
       "version_major": 2,
       "version_minor": 0
      },
      "text/plain": [
       "  0%|          | 0/1 [00:00<?, ?it/s, ('newline', 'er', 11)]"
      ]
     },
     "metadata": {},
     "output_type": "display_data"
    },
    {
     "data": {
      "application/vnd.jupyter.widget-view+json": {
       "model_id": "a9dab1a4a8054174ae0bd4e01d7d25b4",
       "version_major": 2,
       "version_minor": 0
      },
      "text/plain": [
       "  0%|          | 0/1 [00:00<?, ?it/s, ('output', 'er', 11)]"
      ]
     },
     "metadata": {},
     "output_type": "display_data"
    },
    {
     "data": {
      "application/vnd.jupyter.widget-view+json": {
       "model_id": "ae5918ffe0b74fabb946012077d2a125",
       "version_major": 2,
       "version_minor": 0
      },
      "text/plain": [
       "  0%|          | 0/1 [00:00<?, ?it/s, ('prompt', 'er', 11)]"
      ]
     },
     "metadata": {},
     "output_type": "display_data"
    },
    {
     "data": {
      "application/vnd.jupyter.widget-view+json": {
       "model_id": "a86feb19285746f6846ac8ed54c0c4ac",
       "version_major": 2,
       "version_minor": 0
      },
      "text/plain": [
       "  0%|          | 0/1 [00:00<?, ?it/s, ('remaining', 'er', 11)]"
      ]
     },
     "metadata": {},
     "output_type": "display_data"
    },
    {
     "data": {
      "application/vnd.jupyter.widget-view+json": {
       "model_id": "b4cc0a9ce1d943c09002da49b2e50ee5",
       "version_major": 2,
       "version_minor": 0
      },
      "text/plain": [
       "  0%|          | 0/1 [00:00<?, ?it/s, ('arrow', 'et', 11)]"
      ]
     },
     "metadata": {},
     "output_type": "display_data"
    },
    {
     "data": {
      "application/vnd.jupyter.widget-view+json": {
       "model_id": "6f39908f7d0d40c0b7e3c76b8a0ccbf1",
       "version_major": 2,
       "version_minor": 0
      },
      "text/plain": [
       "  0%|          | 0/1 [00:00<?, ?it/s, ('input', 'et', 11)]"
      ]
     },
     "metadata": {},
     "output_type": "display_data"
    },
    {
     "data": {
      "application/vnd.jupyter.widget-view+json": {
       "model_id": "0a3e9489261d40debc842f2661d17926",
       "version_major": 2,
       "version_minor": 0
      },
      "text/plain": [
       "  0%|          | 0/1 [00:00<?, ?it/s, ('newline', 'et', 11)]"
      ]
     },
     "metadata": {},
     "output_type": "display_data"
    },
    {
     "data": {
      "application/vnd.jupyter.widget-view+json": {
       "model_id": "4edbdfd929624d53bc48149df22befb2",
       "version_major": 2,
       "version_minor": 0
      },
      "text/plain": [
       "  0%|          | 0/1 [00:00<?, ?it/s, ('output', 'et', 11)]"
      ]
     },
     "metadata": {},
     "output_type": "display_data"
    },
    {
     "data": {
      "application/vnd.jupyter.widget-view+json": {
       "model_id": "78fa7e8350c443bf8cd7c8971e2beffc",
       "version_major": 2,
       "version_minor": 0
      },
      "text/plain": [
       "  0%|          | 0/1 [00:00<?, ?it/s, ('prompt', 'et', 11)]"
      ]
     },
     "metadata": {},
     "output_type": "display_data"
    },
    {
     "data": {
      "application/vnd.jupyter.widget-view+json": {
       "model_id": "63eb9cdece7a41ff81a74305c6b0578b",
       "version_major": 2,
       "version_minor": 0
      },
      "text/plain": [
       "  0%|          | 0/1 [00:00<?, ?it/s, ('remaining', 'et', 11)]"
      ]
     },
     "metadata": {},
     "output_type": "display_data"
    },
    {
     "data": {
      "application/vnd.jupyter.widget-view+json": {
       "model_id": "92b76194c231465f9a166f8e510f50e7",
       "version_major": 2,
       "version_minor": 0
      },
      "text/plain": [
       "  0%|          | 0/1 [00:00<?, ?it/s, ('arrow', 'r', 11)]"
      ]
     },
     "metadata": {},
     "output_type": "display_data"
    },
    {
     "data": {
      "application/vnd.jupyter.widget-view+json": {
       "model_id": "d43d2d25af1d4b9983fc0a176b4fff26",
       "version_major": 2,
       "version_minor": 0
      },
      "text/plain": [
       "  0%|          | 0/2 [00:00<?, ?it/s, ('input', 'r', 11)]"
      ]
     },
     "metadata": {},
     "output_type": "display_data"
    },
    {
     "data": {
      "application/vnd.jupyter.widget-view+json": {
       "model_id": "d9d1a16fef8043f1b2f35d7111de4708",
       "version_major": 2,
       "version_minor": 0
      },
      "text/plain": [
       "  0%|          | 0/1 [00:00<?, ?it/s, ('newline', 'r', 11)]"
      ]
     },
     "metadata": {},
     "output_type": "display_data"
    },
    {
     "data": {
      "application/vnd.jupyter.widget-view+json": {
       "model_id": "3d19d95c10424a9d9817a2e92e8ab7d1",
       "version_major": 2,
       "version_minor": 0
      },
      "text/plain": [
       "  0%|          | 0/1 [00:00<?, ?it/s, ('output', 'r', 11)]"
      ]
     },
     "metadata": {},
     "output_type": "display_data"
    },
    {
     "data": {
      "application/vnd.jupyter.widget-view+json": {
       "model_id": "e8b9dd2e278f49a8811e22049f6051d3",
       "version_major": 2,
       "version_minor": 0
      },
      "text/plain": [
       "  0%|          | 0/1 [00:00<?, ?it/s, ('prompt', 'r', 11)]"
      ]
     },
     "metadata": {},
     "output_type": "display_data"
    },
    {
     "data": {
      "application/vnd.jupyter.widget-view+json": {
       "model_id": "308ff21299954420a55803753b9c80dc",
       "version_major": 2,
       "version_minor": 0
      },
      "text/plain": [
       "  0%|          | 0/1 [00:00<?, ?it/s, ('remaining', 'r', 11)]"
      ]
     },
     "metadata": {},
     "output_type": "display_data"
    },
    {
     "data": {
      "application/vnd.jupyter.widget-view+json": {
       "model_id": "142dff831385496db247c1f4128d37e2",
       "version_major": 2,
       "version_minor": 0
      },
      "text/plain": [
       "  0%|          | 0/2 [00:00<?, ?it/s, ('arrow', 't', 11)]"
      ]
     },
     "metadata": {},
     "output_type": "display_data"
    },
    {
     "data": {
      "application/vnd.jupyter.widget-view+json": {
       "model_id": "cd927a3c43e34719b631c1c53edcedef",
       "version_major": 2,
       "version_minor": 0
      },
      "text/plain": [
       "  0%|          | 0/1 [00:00<?, ?it/s, ('input', 't', 11)]"
      ]
     },
     "metadata": {},
     "output_type": "display_data"
    },
    {
     "data": {
      "application/vnd.jupyter.widget-view+json": {
       "model_id": "eb719010e5ae4965b5a41c23b140a62c",
       "version_major": 2,
       "version_minor": 0
      },
      "text/plain": [
       "  0%|          | 0/1 [00:00<?, ?it/s, ('newline', 't', 11)]"
      ]
     },
     "metadata": {},
     "output_type": "display_data"
    },
    {
     "data": {
      "application/vnd.jupyter.widget-view+json": {
       "model_id": "2245bc48deaf4fe781a8b12313bd362f",
       "version_major": 2,
       "version_minor": 0
      },
      "text/plain": [
       "  0%|          | 0/1 [00:00<?, ?it/s, ('output', 't', 11)]"
      ]
     },
     "metadata": {},
     "output_type": "display_data"
    },
    {
     "data": {
      "application/vnd.jupyter.widget-view+json": {
       "model_id": "3b5e5c37cb464db4ba22abd96f4709d5",
       "version_major": 2,
       "version_minor": 0
      },
      "text/plain": [
       "  0%|          | 0/1 [00:00<?, ?it/s, ('prompt', 't', 11)]"
      ]
     },
     "metadata": {},
     "output_type": "display_data"
    },
    {
     "data": {
      "application/vnd.jupyter.widget-view+json": {
       "model_id": "8ce6162ed18f4f50ba147ce7b23e08ad",
       "version_major": 2,
       "version_minor": 0
      },
      "text/plain": [
       "  0%|          | 0/1 [00:00<?, ?it/s, ('arrow', 'a', 10)]"
      ]
     },
     "metadata": {},
     "output_type": "display_data"
    },
    {
     "data": {
      "application/vnd.jupyter.widget-view+json": {
       "model_id": "f72565bbf28d41938c89d84039b79bbc",
       "version_major": 2,
       "version_minor": 0
      },
      "text/plain": [
       "  0%|          | 0/1 [00:00<?, ?it/s, ('output', 'a', 10)]"
      ]
     },
     "metadata": {},
     "output_type": "display_data"
    },
    {
     "data": {
      "application/vnd.jupyter.widget-view+json": {
       "model_id": "0febc18ad05245fa9d32f2ab33e2190f",
       "version_major": 2,
       "version_minor": 0
      },
      "text/plain": [
       "  0%|          | 0/1 [00:00<?, ?it/s, ('arrow', 'ea', 10)]"
      ]
     },
     "metadata": {},
     "output_type": "display_data"
    },
    {
     "data": {
      "application/vnd.jupyter.widget-view+json": {
       "model_id": "35b5260133c241de8a1b6b206cde2bdb",
       "version_major": 2,
       "version_minor": 0
      },
      "text/plain": [
       "  0%|          | 0/1 [00:00<?, ?it/s, ('input', 'ea', 10)]"
      ]
     },
     "metadata": {},
     "output_type": "display_data"
    },
    {
     "data": {
      "application/vnd.jupyter.widget-view+json": {
       "model_id": "2a1acf4ffe6f4df48c42e0f92b7c42d7",
       "version_major": 2,
       "version_minor": 0
      },
      "text/plain": [
       "  0%|          | 0/1 [00:00<?, ?it/s, ('newline', 'ea', 10)]"
      ]
     },
     "metadata": {},
     "output_type": "display_data"
    },
    {
     "data": {
      "application/vnd.jupyter.widget-view+json": {
       "model_id": "5a916764fee1436db5904e05acfae96f",
       "version_major": 2,
       "version_minor": 0
      },
      "text/plain": [
       "  0%|          | 0/1 [00:00<?, ?it/s, ('output', 'ea', 10)]"
      ]
     },
     "metadata": {},
     "output_type": "display_data"
    },
    {
     "data": {
      "application/vnd.jupyter.widget-view+json": {
       "model_id": "eb432c45b65a47fda2d5eaa266b52bcd",
       "version_major": 2,
       "version_minor": 0
      },
      "text/plain": [
       "  0%|          | 0/1 [00:00<?, ?it/s, ('prompt', 'ea', 10)]"
      ]
     },
     "metadata": {},
     "output_type": "display_data"
    },
    {
     "data": {
      "application/vnd.jupyter.widget-view+json": {
       "model_id": "67f2b0c4043840df8eadfae4e70d4ce9",
       "version_major": 2,
       "version_minor": 0
      },
      "text/plain": [
       "  0%|          | 0/1 [00:00<?, ?it/s, ('remaining', 'ea', 10)]"
      ]
     },
     "metadata": {},
     "output_type": "display_data"
    },
    {
     "data": {
      "application/vnd.jupyter.widget-view+json": {
       "model_id": "6de20905dae8497f9e52952d6d6e43c7",
       "version_major": 2,
       "version_minor": 0
      },
      "text/plain": [
       "  0%|          | 0/1 [00:00<?, ?it/s, ('arrow', 'er', 10)]"
      ]
     },
     "metadata": {},
     "output_type": "display_data"
    },
    {
     "data": {
      "application/vnd.jupyter.widget-view+json": {
       "model_id": "aceb3140cdcb4396af7e876c5754bb4b",
       "version_major": 2,
       "version_minor": 0
      },
      "text/plain": [
       "  0%|          | 0/1 [00:00<?, ?it/s, ('input', 'er', 10)]"
      ]
     },
     "metadata": {},
     "output_type": "display_data"
    },
    {
     "data": {
      "application/vnd.jupyter.widget-view+json": {
       "model_id": "3dd19962fc1a46d88cf917fe82e62db7",
       "version_major": 2,
       "version_minor": 0
      },
      "text/plain": [
       "  0%|          | 0/1 [00:00<?, ?it/s, ('newline', 'er', 10)]"
      ]
     },
     "metadata": {},
     "output_type": "display_data"
    },
    {
     "data": {
      "application/vnd.jupyter.widget-view+json": {
       "model_id": "e4e3efb905094bfba92595b01ca4911a",
       "version_major": 2,
       "version_minor": 0
      },
      "text/plain": [
       "  0%|          | 0/1 [00:00<?, ?it/s, ('output', 'er', 10)]"
      ]
     },
     "metadata": {},
     "output_type": "display_data"
    },
    {
     "data": {
      "application/vnd.jupyter.widget-view+json": {
       "model_id": "b7bb8770a8e64faa9b44503d53b22ac0",
       "version_major": 2,
       "version_minor": 0
      },
      "text/plain": [
       "  0%|          | 0/1 [00:00<?, ?it/s, ('prompt', 'er', 10)]"
      ]
     },
     "metadata": {},
     "output_type": "display_data"
    },
    {
     "data": {
      "application/vnd.jupyter.widget-view+json": {
       "model_id": "88a763123185481c855ec5ddf0a72d7f",
       "version_major": 2,
       "version_minor": 0
      },
      "text/plain": [
       "  0%|          | 0/1 [00:00<?, ?it/s, ('remaining', 'er', 10)]"
      ]
     },
     "metadata": {},
     "output_type": "display_data"
    },
    {
     "data": {
      "application/vnd.jupyter.widget-view+json": {
       "model_id": "51b50dc17790436ea7b35788c278598e",
       "version_major": 2,
       "version_minor": 0
      },
      "text/plain": [
       "  0%|          | 0/1 [00:00<?, ?it/s, ('arrow', 'et', 10)]"
      ]
     },
     "metadata": {},
     "output_type": "display_data"
    },
    {
     "data": {
      "application/vnd.jupyter.widget-view+json": {
       "model_id": "e45632730019428a8b041bc4a399c10a",
       "version_major": 2,
       "version_minor": 0
      },
      "text/plain": [
       "  0%|          | 0/1 [00:00<?, ?it/s, ('input', 'et', 10)]"
      ]
     },
     "metadata": {},
     "output_type": "display_data"
    },
    {
     "data": {
      "application/vnd.jupyter.widget-view+json": {
       "model_id": "38c4bcbfc0294863bf0d0ab32d4d30fb",
       "version_major": 2,
       "version_minor": 0
      },
      "text/plain": [
       "  0%|          | 0/1 [00:00<?, ?it/s, ('newline', 'et', 10)]"
      ]
     },
     "metadata": {},
     "output_type": "display_data"
    },
    {
     "data": {
      "application/vnd.jupyter.widget-view+json": {
       "model_id": "0aa0fe3ae8624f86b017051cad1f392f",
       "version_major": 2,
       "version_minor": 0
      },
      "text/plain": [
       "  0%|          | 0/1 [00:00<?, ?it/s, ('output', 'et', 10)]"
      ]
     },
     "metadata": {},
     "output_type": "display_data"
    },
    {
     "data": {
      "application/vnd.jupyter.widget-view+json": {
       "model_id": "9e3e91c8c5424c8a95243f203b483df1",
       "version_major": 2,
       "version_minor": 0
      },
      "text/plain": [
       "  0%|          | 0/1 [00:00<?, ?it/s, ('prompt', 'et', 10)]"
      ]
     },
     "metadata": {},
     "output_type": "display_data"
    },
    {
     "data": {
      "application/vnd.jupyter.widget-view+json": {
       "model_id": "2c1fdf3cb7d643bba028a621c84eac72",
       "version_major": 2,
       "version_minor": 0
      },
      "text/plain": [
       "  0%|          | 0/1 [00:00<?, ?it/s, ('remaining', 'et', 10)]"
      ]
     },
     "metadata": {},
     "output_type": "display_data"
    },
    {
     "data": {
      "application/vnd.jupyter.widget-view+json": {
       "model_id": "d7f409e6361e400fa087ceed318a2360",
       "version_major": 2,
       "version_minor": 0
      },
      "text/plain": [
       "  0%|          | 0/1 [00:00<?, ?it/s, ('arrow', 'r', 10)]"
      ]
     },
     "metadata": {},
     "output_type": "display_data"
    },
    {
     "data": {
      "application/vnd.jupyter.widget-view+json": {
       "model_id": "97d55cf3ab0643ffabfe1a94551ed625",
       "version_major": 2,
       "version_minor": 0
      },
      "text/plain": [
       "  0%|          | 0/1 [00:00<?, ?it/s, ('input', 'r', 10)]"
      ]
     },
     "metadata": {},
     "output_type": "display_data"
    },
    {
     "data": {
      "application/vnd.jupyter.widget-view+json": {
       "model_id": "0658bda7ac024340a22d9cdeb965356d",
       "version_major": 2,
       "version_minor": 0
      },
      "text/plain": [
       "  0%|          | 0/1 [00:00<?, ?it/s, ('newline', 'r', 10)]"
      ]
     },
     "metadata": {},
     "output_type": "display_data"
    },
    {
     "data": {
      "application/vnd.jupyter.widget-view+json": {
       "model_id": "01ba940fcfbd46e1a073e39b7cd935fe",
       "version_major": 2,
       "version_minor": 0
      },
      "text/plain": [
       "  0%|          | 0/1 [00:00<?, ?it/s, ('output', 'r', 10)]"
      ]
     },
     "metadata": {},
     "output_type": "display_data"
    },
    {
     "data": {
      "application/vnd.jupyter.widget-view+json": {
       "model_id": "e3837a9a1e404368a372567e2bdce7f5",
       "version_major": 2,
       "version_minor": 0
      },
      "text/plain": [
       "  0%|          | 0/1 [00:00<?, ?it/s, ('prompt', 'r', 10)]"
      ]
     },
     "metadata": {},
     "output_type": "display_data"
    },
    {
     "data": {
      "application/vnd.jupyter.widget-view+json": {
       "model_id": "ec23073e513f4ef0960c688e2e83129d",
       "version_major": 2,
       "version_minor": 0
      },
      "text/plain": [
       "  0%|          | 0/1 [00:00<?, ?it/s, ('remaining', 'r', 10)]"
      ]
     },
     "metadata": {},
     "output_type": "display_data"
    },
    {
     "data": {
      "application/vnd.jupyter.widget-view+json": {
       "model_id": "6e979fad8de7478ab565c96b1850592d",
       "version_major": 2,
       "version_minor": 0
      },
      "text/plain": [
       "  0%|          | 0/1 [00:00<?, ?it/s, ('arrow', 't', 10)]"
      ]
     },
     "metadata": {},
     "output_type": "display_data"
    },
    {
     "data": {
      "application/vnd.jupyter.widget-view+json": {
       "model_id": "b0cb39a468b1427094aa5804f838152f",
       "version_major": 2,
       "version_minor": 0
      },
      "text/plain": [
       "  0%|          | 0/1 [00:00<?, ?it/s, ('input', 't', 10)]"
      ]
     },
     "metadata": {},
     "output_type": "display_data"
    },
    {
     "data": {
      "application/vnd.jupyter.widget-view+json": {
       "model_id": "0538847329664559a93ec59a53b451d2",
       "version_major": 2,
       "version_minor": 0
      },
      "text/plain": [
       "  0%|          | 0/1 [00:00<?, ?it/s, ('newline', 't', 10)]"
      ]
     },
     "metadata": {},
     "output_type": "display_data"
    },
    {
     "data": {
      "application/vnd.jupyter.widget-view+json": {
       "model_id": "8e8d74ca29e94d8dbc922a8fb264513c",
       "version_major": 2,
       "version_minor": 0
      },
      "text/plain": [
       "  0%|          | 0/1 [00:00<?, ?it/s, ('output', 't', 10)]"
      ]
     },
     "metadata": {},
     "output_type": "display_data"
    },
    {
     "data": {
      "application/vnd.jupyter.widget-view+json": {
       "model_id": "e51bef73a6ea4d7a9bfb036b343f1698",
       "version_major": 2,
       "version_minor": 0
      },
      "text/plain": [
       "  0%|          | 0/1 [00:00<?, ?it/s, ('prompt', 't', 10)]"
      ]
     },
     "metadata": {},
     "output_type": "display_data"
    }
   ],
   "source": [
    "import jax.numpy as jnp\n",
    "from tqdm.auto import trange\n",
    "\n",
    "if average_over_positions:\n",
    "    important_feats_masks = {}\n",
    "    for mask in circuitizer.masks:\n",
    "        important_feats_masks[mask] = [\n",
    "            (type, layer, feat) for layer, f_mask, type, feat, _ in combined_ies if f_mask == mask\n",
    "            ]\n",
    "\n",
    "\n",
    "    flat_feats = defaultdict(list)\n",
    "    for k, v in important_feats_masks.items():\n",
    "        for type, layer, feat in v:\n",
    "            flat_feats[(k, type, layer)].append(feat)\n",
    "\n",
    "\n",
    "    graph = []\n",
    "\n",
    "    batch_size = 16\n",
    "    # k = 32\n",
    "    for type, features in tqdm(sorted(flat_feats.items(), key=lambda x: (-x[0][-1], x[0][-2], x[0][-3]))):\n",
    "        mask, feature_type, layer = type\n",
    "        mask = jnp.array(list(circuitizer.masks.keys()).index(mask))\n",
    "        for batch in trange(0, len(features), batch_size, postfix=str(type)):\n",
    "            batch_features = features[batch:batch+batch_size]\n",
    "            orig_length = len(batch_features)\n",
    "            batch_features = batch_features + [0] * (batch_size - len(batch_features))\n",
    "            feature_effectss = jax.vmap(lambda x: circuitizer.compute_feature_effects(feature_type, layer, x, mask, layer_window=1, position=None))(jnp.asarray(batch_features))\n",
    "            # feature_effectss = circuitizer.compute_feature_effects(feature_type, layer, batch_features, mask, layer_window=1)\n",
    "            top_effects = defaultdict(list)\n",
    "            for key, featuress in feature_effectss.items():\n",
    "                for elem, feature_effects in enumerate(featuress):\n",
    "                    if elem >= orig_length:\n",
    "                        continue\n",
    "                    if feature_effects.ndim == 0:\n",
    "                        top_effects[elem].append((float(feature_effects), key, 0))\n",
    "                        continue\n",
    "\n",
    "                    nodes_to_keep = circuit_node_dict.get(key, np.empty(0, dtype=np.int32))\n",
    "                    effects = feature_effects[nodes_to_keep]\n",
    "                    for idx, effect in zip(nodes_to_keep, effects):\n",
    "                        top_effects[elem].append((float(effect), key, int(idx)))\n",
    "            for elem, effects in top_effects.items():\n",
    "                effects.sort(reverse=True)\n",
    "                edges = effects\n",
    "                graph.extend([(weight,  key + (upstream_feature,), (type[1], type[2], type[0], batch_features[elem],) ) for weight, key, upstream_feature in edges])\n",
    "            \n",
    "\n",
    "\n",
    "    combined_ies = [\n",
    "        (type, layer, mask, idx, weight) for layer, mask, type, idx, weight in combined_ies\n",
    "    ] \n",
    "\n",
    "\n",
    "    sorted_graph = sorted(graph, reverse=True, key=lambda x: x[0])\n",
    "\n",
    "    n_nodes = sum(map(len, important_feats_masks.values()))\n",
    "    k_connections = 4\n",
    "    weight_threshold = sorted_graph[n_nodes * k_connections][0]"
   ]
  },
  {
   "cell_type": "code",
   "execution_count": 31,
   "metadata": {},
   "outputs": [],
   "source": [
    "if not average_over_positions:\n",
    "    important_feats_masks = {}\n",
    "    for mask in circuitizer.masks:\n",
    "        important_feats_masks[mask] = [\n",
    "            (type, layer, feat, pos) for layer, f_mask, type, feat, pos, _ in combined_ies if f_mask == mask\n",
    "            ]\n",
    "\n",
    "\n",
    "    flat_feats = defaultdict(list)\n",
    "    for k, v in important_feats_masks.items():\n",
    "        for type, layer, feat, pos in v:\n",
    "            flat_feats[(k, type, layer)].append((pos, feat))\n",
    "\n",
    "\n",
    "    circuit_node_dict\n",
    "\n",
    "    graph = []\n",
    "\n",
    "    batch_size = 16\n",
    "    # k = 32\n",
    "    for type, features in tqdm(sorted(flat_feats.items(), key=lambda x: (-x[0][-1], x[0][-2], x[0][-3]))):\n",
    "        mask, feature_type, layer = type\n",
    "        mask = jnp.array(list(circuitizer.masks.keys()).index(mask))\n",
    "        for batch in trange(0, len(features), batch_size, postfix=str(type)):\n",
    "            batch_features = features[batch:batch+batch_size]\n",
    "            orig_length = len(batch_features)\n",
    "            batch_features = batch_features + [(0, 0)] * (batch_size - len(batch_features))\n",
    "            feature_effectss = jax.vmap(lambda x: circuitizer.compute_feature_effects(feature_type, layer, x[1], mask, layer_window=1, position=x[0]))(jnp.asarray(batch_features))\n",
    "            # feature_effectss = circuitizer.compute_feature_effects(feature_type, layer, batch_features, mask, layer_window=1)\n",
    "            top_effects = defaultdict(list)\n",
    "            for key, featuress in feature_effectss.items():\n",
    "                nodes_to_keep = circuit_node_dict.get(key, np.empty((0, 2), dtype=np.int32))\n",
    "\n",
    "                for elem, feature_effects in enumerate(featuress):\n",
    "                    if elem >= orig_length:\n",
    "                        continue\n",
    "                    if feature_effects.ndim == 1:\n",
    "                        for idx, _ in nodes_to_keep:\n",
    "                            top_effects[elem].append((float(feature_effects[idx]), key, 0, idx))\n",
    "                        continue\n",
    "                    effects = feature_effects[nodes_to_keep[:, 0], nodes_to_keep[:, 1]]\n",
    "\n",
    "                    for idx, effect in zip(nodes_to_keep, effects):\n",
    "                        top_effects[elem].append((float(effect), key, int(idx[1]), int(idx[0])))\n",
    "\n",
    "                    \n",
    "            for elem, effects in top_effects.items():\n",
    "                effects.sort(reverse=True)\n",
    "                edges = effects\n",
    "                graph.extend([(weight,  key + (upstream_feature,upos,), (type[1], type[2], type[0], batch_features[elem][1], batch_features[elem][0],) ) for weight, key, upstream_feature, upos in edges])\n",
    "            \n",
    "\n",
    "\n",
    "    combined_ies = [\n",
    "        (type, layer, mask, idx, pos, weight) for layer, mask, type, idx, pos, weight in combined_ies\n",
    "    ] \n",
    "\n",
    "\n",
    "    sorted_graph = sorted(graph, reverse=True, key=lambda x: x[0])\n",
    "\n",
    "    n_nodes = sum(map(len, important_feats_masks.values()))\n",
    "    k_connections = 4\n",
    "    weight_threshold = sorted_graph[n_nodes * k_connections][0]"
   ]
  },
  {
   "cell_type": "code",
   "execution_count": 32,
   "metadata": {},
   "outputs": [],
   "source": [
    "if average_over_positions:\n",
    "\n",
    "    _graph = [\n",
    "        (w, l, (*r[:-1], int(r[-1]))) for w, l, r in sorted_graph\n",
    "    ]\n",
    "else:\n",
    "    _graph = [\n",
    "        (w, (*l[:-2], int(l[-2]), int(l[-1])), (*r[:-2], int(r[-2]), int(r[-1]))) for w, l, r in sorted_graph\n",
    "    ]"
   ]
  },
  {
   "cell_type": "code",
   "execution_count": 33,
   "metadata": {},
   "outputs": [],
   "source": [
    "if average_over_positions:\n",
    "    _combined_ies = [\n",
    "        (type, layer, mask, int(idx), weight) for type, layer, mask, idx, weight in combined_ies\n",
    "    ]\n",
    "else:\n",
    "    _combined_ies = [\n",
    "        (type, layer, mask, int(idx), int(pos), float(weight)) for type, layer, mask, idx, pos, weight in combined_ies\n",
    "    ]"
   ]
  },
  {
   "cell_type": "code",
   "execution_count": 34,
   "metadata": {},
   "outputs": [],
   "source": [
    "tokens_decoded = [tokenizer.convert_ids_to_tokens(x) for x in circuitizer.train_tokens]\n",
    "tokens_decoded = [[x for x in y if x != \"<pad>\"] for y in tokens_decoded]\n",
    "tokens_decoded = [[x.replace(\"Ġ\", \" \") for x in y] for y in tokens_decoded]\n",
    "tokens_decoded = [[x.replace(\"▁\", \" \") for x in y] for y in tokens_decoded]\n",
    "tokens_decoded = [[x.replace(\"\\n\", \" \") for x in y] for y in tokens_decoded]"
   ]
  },
  {
   "cell_type": "code",
   "execution_count": 35,
   "metadata": {},
   "outputs": [],
   "source": [
    "if not average_over_positions:\n",
    "\n",
    "    position_maps = defaultdict(defaultdict)\n",
    "\n",
    "    for layer, mask, type, idx, pos, weight in _combined_ies:\n",
    "        partial_id = (layer, mask, type, idx)\n",
    "        partial_id = \":\".join(str(x) for x in partial_id)\n",
    "        \n",
    "        # position_maps[partial_id].append(\":\".join(str(x) for x in (layer, mask, type, idx, pos)))\n",
    "        position_maps[partial_id][pos] = weight"
   ]
  },
  {
   "cell_type": "code",
   "execution_count": 36,
   "metadata": {},
   "outputs": [],
   "source": [
    "import json\n",
    "if average_over_positions:\n",
    "    with open(f\"micrlhf-progress/graph-rebirth-{task_name}_faith_0.6_l{min(layers)}_l{max(layers)}.json\", 'w') as f:\n",
    "        json.dump({\"edges\": _graph, \"nodes\": _combined_ies, \"threshold\": weight_threshold, \"tokens\": None}, f)\n",
    "else:\n",
    "    with open(f\"micrlhf-progress/graph-rebirth-{task_name}_faith_{target_faithfullness}_non_aop_n_shot_{n_shot}_l{min(layers)}_l{max(layers)}_mean_{mean_ablate}.json\", 'w') as f:\n",
    "        json.dump({\"edges\": _graph, \"nodes\": _combined_ies, \"threshold\": weight_threshold, \"tokens\": tokens_decoded, \"position_maps\": position_maps}, f)"
   ]
  },
  {
   "cell_type": "code",
   "execution_count": 42,
   "metadata": {},
   "outputs": [
    {
     "data": {
      "text/html": [
       "<script> (()=>{ if (customElements.get('treescope-container') === undefined) { class TreescopeContainer extends HTMLElement { constructor() { super(); this.attachShadow({mode: \"open\"}); this.defns = {}; this.state = {}; } } customElements.define(\"treescope-container\", TreescopeContainer); } if (customElements.get('treescope-run-here') === undefined) { class RunHere extends HTMLElement { constructor() { super() } connectedCallback() { const run = child => { const fn = new Function(child.textContent); child.textContent = \"\"; fn.call(this); this.remove(); }; const child = this.querySelector(\"script\"); if (child) { run(child); } else { new MutationObserver(()=>{ run(this.querySelector(\"script\")); }).observe(this, {childList: true}); } } } customElements.define(\"treescope-run-here\", RunHere); } })(); </script> <treescope-container class=\"treescope_out_ba5a5afa36df4050b70ca6c34fa5db1b\" ></treescope-container> <treescope-run-here><script type=\"application/octet-stream\"> const root = ( Array.from(document.getElementsByClassName( \"treescope_out_ba5a5afa36df4050b70ca6c34fa5db1b\")) .filter((elt) => !elt.dataset.setup) )[0]; root.dataset.setup = 1; const msg = document.createElement(\"span\"); msg.style = \"color: #aaaaaa; font-family: monospace; transition: opacity 0.2s; opacity: 0.0;\"; msg.textContent = \"(Loading...)\"; root.state.loadingMsg = msg; root.shadowRoot.appendChild(msg); root.state.chain = new Promise((resolve, reject) => { const observer = new IntersectionObserver((entries) => { for (const entry of entries) { if (entry.isIntersecting) { resolve(); observer.disconnect(); return; } } }, {rootMargin: \"1000px\"}); window.setTimeout(() => { if (root.loadingMsg) { root.loadingMsg.style.opacity = \"1.0\"; } observer.observe(root); }, 0); }); root.state.deferring = false; const _insertNode = (node) => { for (let oldScript of node.querySelectorAll(\"script\")) { let newScript = document.createElement(\"script\"); newScript.type = oldScript.type; newScript.textContent = oldScript.textContent; oldScript.parentNode.replaceChild(newScript, oldScript); } if (root.state.loadingMsg) { root.state.loadingMsg.remove(); root.state.loadingMsg = null; } root.shadowRoot.appendChild(node); }; root.defns.insertContent = ((contentNode, compressed) => { if (compressed) { root.state.deferring = true; } if (root.state.deferring) { root.state.chain = (async () => { await root.state.chain; if (compressed) { const encoded = contentNode.textContent; const blob = new Blob([ Uint8Array.from(atob(encoded), (m) => m.codePointAt(0)) ]); const reader = blob.stream().pipeThrough( new DecompressionStream(\"deflate\") ).pipeThrough( new TextDecoderStream(\"utf-8\") ).getReader(); const parts = []; while (true) { const step = await reader.read(); if (step.done) { break; } parts.push(step.value); } const tpl = document.createElement('template'); tpl.innerHTML = parts.join(\"\"); _insertNode(tpl.content); } else { _insertNode(contentNode.content); } })(); } else { _insertNode(contentNode.content); } }); </script></treescope-run-here><div style=\"display:none\"> <script type=\"application/octet-stream\" >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</script> <treescope-run-here><script type=\"application/octet-stream\"> const root = ( Array.from(document.getElementsByClassName( \"treescope_out_ba5a5afa36df4050b70ca6c34fa5db1b\")) .filter((elt) => !elt.dataset['step0']) )[0]; root.dataset['step0'] = 1; root.defns.insertContent( this.parentNode.querySelector('script[type=\"application/octet-stream\"]'), true ); this.parentNode.remove(); </script></treescope-run-here> </div>"
      ],
      "text/plain": [
       "<IPython.core.display.HTML object>"
      ]
     },
     "metadata": {},
     "output_type": "display_data"
    },
    {
     "data": {
      "text/html": [
       "<treescope-run-here><script type=\"application/octet-stream\"> const root = ( Array.from(document.getElementsByClassName( \"treescope_out_ba5a5afa36df4050b70ca6c34fa5db1b\")) .filter((elt) => !elt.dataset.stolen) )[0]; root.dataset.stolen = 1; this.parentNode.replaceChild(root, this); </script></treescope-run-here>"
      ],
      "text/plain": [
       "[['a', 11, 'arrow', 4080, 0.7506580352783203],\n",
       " ['a', 10, 'arrow', 18907, 0.32885661721229553],\n",
       " ['ea', 8, 'prompt', 0, 0.25985220074653625],\n",
       " ['a', 11, 'arrow', 24084, 0.2539865970611572],\n",
       " ['a', 11, 'arrow', 7345, 0.2489675134420395],\n",
       " ['a', 10, 'output', 18907, 0.24180087447166443],\n",
       " ['a', 12, 'arrow', 6492, 0.21518652141094208],\n",
       " ['a', 13, 'arrow', 4745, 0.21424899995326996],\n",
       " ['a', 11, 'arrow', 3528, 0.21369224786758423],\n",
       " ['a', 10, 'arrow', 30196, 0.14977753162384033],\n",
       " ['a', 13, 'arrow', 5151, 0.13242927193641663],\n",
       " ['a', 11, 'arrow', 29382, 0.12703268229961395],\n",
       " ['a', 9, 'arrow', 30422, 0.12628766894340515],\n",
       " ['a', 11, 'arrow', 23914, 0.11989074945449829],\n",
       " ['a', 10, 'arrow', 31128, 0.11808712780475616],\n",
       " ['a', 12, 'arrow', 24815, 0.11454211920499802],\n",
       " ['a', 7, 'output', 16193, 0.11348624527454376],\n",
       " ['a', 6, 'prompt', 30905, 0.11110686510801315],\n",
       " ['a', 11, 'input', 24084, 0.11046935617923737],\n",
       " ['a', 11, 'input', 30551, 0.10848592221736908],\n",
       " ['a', 11, 'input', 25963, 0.10084160417318344],\n",
       " ['a', 8, 'output', 12423, 0.09670715034008026],\n",
       " ['a', 11, 'arrow', 132, 0.09597808867692947],\n",
       " ['a', 16, 'arrow', 26950, 0.09281069040298462],\n",
       " ['a', 13, 'arrow', 30355, 0.08647042512893677],\n",
       " ['a', 9, 'input', 30422, 0.08515353500843048],\n",
       " ['a', 11, 'arrow', 6975, 0.08458726853132248],\n",
       " ['a', 11, 'input', 3528, 0.08040756732225418],\n",
       " ['a', 13, 'arrow', 15548, 0.07793214917182922],\n",
       " ['a', 9, 'output', 20099, 0.0748707726597786],\n",
       " ['a', 12, 'arrow', 9137, 0.07463555783033371],\n",
       " ['a', 11, 'arrow', 24250, 0.07212164252996445],\n",
       " ['a', 7, 'prompt', 17961, 0.07165984809398651],\n",
       " ['a', 10, 'arrow', 31964, 0.07049548625946045],\n",
       " ['a', 13, 'arrow', 17840, 0.06974411755800247],\n",
       " ['a', 8, 'output', 29606, 0.06762855499982834],\n",
       " ['a', 12, 'arrow', 11334, 0.06740531325340271],\n",
       " ['a', 7, 'output', 24464, 0.0671708807349205],\n",
       " ['a', 9, 'arrow', 3699, 0.06692551076412201],\n",
       " ['a', 8, 'input', 29606, 0.06609345972537994],\n",
       " ['a', 9, 'input', 10121, 0.06532280892133713],\n",
       " ['a', 6, 'arrow', 32736, 0.06465433537960052],\n",
       " ['a', 11, 'output', 3528, 0.06426970660686493],\n",
       " ['a', 7, 'output', 3570, 0.06188572943210602],\n",
       " ['a', 13, 'arrow', 21151, 0.06109173968434334],\n",
       " ['a', 11, 'arrow', 15611, 0.061014723032712936],\n",
       " ['a', 8, 'input', 1102, 0.060930412262678146],\n",
       " ['a', 6, 'input', 29059, 0.06056225299835205],\n",
       " ['a', 8, 'newline', 32349, 0.06011004000902176],\n",
       " ['a', 8, 'arrow', 18444, 0.05934614688158035],\n",
       " ['a', 8, 'input', 23841, 0.05843329802155495],\n",
       " ['a', 10, 'arrow', 12147, 0.05832074582576752],\n",
       " ['er', 14, 'arrow', 0, 0.05777547508478165],\n",
       " ['a', 13, 'arrow', 6077, 0.05575604736804962],\n",
       " ['a', 7, 'newline', 28287, 0.05573801323771477],\n",
       " ['a', 11, 'arrow', 20935, 0.055556949228048325],\n",
       " ['a', 12, 'arrow', 11345, 0.05515478923916817],\n",
       " ['a', 8, 'output', 31566, 0.05456184223294258],\n",
       " ['a', 11, 'arrow', 4522, 0.053785908967256546],\n",
       " ['a', 11, 'input', 32219, 0.05317726731300354],\n",
       " ['a', 6, 'input', 32736, 0.05151086300611496],\n",
       " ['a', 12, 'arrow', 28019, 0.05129891633987427],\n",
       " ['a', 8, 'output', 28812, 0.05086845904588699],\n",
       " ['a', 6, 'arrow', 833, 0.050552014261484146],\n",
       " ['a', 7, 'arrow', 538, 0.05022735148668289],\n",
       " ['a', 7, 'arrow', 13497, 0.05014926940202713],\n",
       " ['a', 9, 'output', 10121, 0.04978646710515022],\n",
       " ['a', 13, 'arrow', 22100, 0.049388784915208817],\n",
       " ['a', 9, 'arrow', 11624, 0.049090392887592316],\n",
       " ['a', 8, 'newline', 4213, 0.0490826815366745],\n",
       " ['a', 10, 'arrow', 6051, 0.048936307430267334],\n",
       " ['a', 10, 'output', 30196, 0.048778388649225235],\n",
       " ['a', 12, 'arrow', 21407, 0.048734430223703384],\n",
       " ['a', 7, 'output', 31467, 0.04839739203453064],\n",
       " ['a', 12, 'arrow', 22504, 0.04804452508687973],\n",
       " ['a', 7, 'newline', 31766, 0.04803304746747017],\n",
       " ['a', 7, 'prompt', 13170, 0.04800529405474663],\n",
       " ['a', 6, 'arrow', 25473, 0.04800485819578171],\n",
       " ['a', 13, 'arrow', 2844, 0.04782572016119957],\n",
       " ['a', 10, 'arrow', 21817, 0.04742930829524994],\n",
       " ['er', 13, 'arrow', 0, 0.047115836292505264],\n",
       " ['a', 11, 'arrow', 21699, 0.0469721294939518],\n",
       " ['a', 13, 'arrow', 26183, 0.04653647914528847],\n",
       " ['a', 10, 'arrow', 16620, 0.04633978009223938],\n",
       " ['a', 11, 'input', 16999, 0.04620660841464996],\n",
       " ['a', 10, 'output', 6051, 0.04606175422668457],\n",
       " ['a', 9, 'input', 3699, 0.04580915719270706],\n",
       " ['a', 6, 'prompt', 19517, 0.045599669218063354],\n",
       " ['a', 12, 'output', 6492, 0.04492947831749916],\n",
       " ['a', 7, 'output', 16493, 0.04471995681524277],\n",
       " ['a', 12, 'arrow', 15472, 0.04448691010475159],\n",
       " ['a', 8, 'newline', 19518, 0.04435942322015762],\n",
       " ['a', 7, 'newline', 17961, 0.04376508295536041],\n",
       " ['a', 12, 'arrow', 20529, 0.042944781482219696],\n",
       " ['er', 11, 'arrow', 0, 0.042884379625320435],\n",
       " ['a', 13, 'arrow', 2807, 0.042858630418777466],\n",
       " ['a', 11, 'input', 4496, 0.04208576679229736],\n",
       " ['a', 11, 'arrow', 25672, 0.042009927332401276],\n",
       " ['a', 10, 'arrow', 7627, 0.04195570945739746],\n",
       " ['a', 10, 'output', 16987, 0.041208114475011826]]"
      ]
     },
     "execution_count": 42,
     "metadata": {},
     "output_type": "execute_result"
    }
   ],
   "source": [
    "import json\n",
    "with open(\"micrlhf-progress/all-graph-antonyms.json\") as f:\n",
    "    all_graph = json.load(f)\n",
    "\n",
    "nodes = all_graph[\"nodes\"]\n",
    "\n",
    "nodes[:100]"
   ]
  },
  {
   "cell_type": "code",
   "execution_count": 41,
   "metadata": {},
   "outputs": [],
   "source": [
    "important_feats_masks = {}\n",
    "for mask in circuitizer.masks:\n",
    "    important_feats_masks[mask] = [\n",
    "        (type, layer, feat) for layer, f_mask, type, feat, _ in combined_ies if f_mask == mask\n",
    "        ]"
   ]
  },
  {
   "cell_type": "code",
   "execution_count": 20,
   "metadata": {},
   "outputs": [],
   "source": [
    "from collections import defaultdict\n",
    "flat_feats = defaultdict(list)\n",
    "for k, v in important_feats_masks.items():\n",
    "    for type, layer, feat in v:\n",
    "        flat_feats[(k, type, layer)].append(feat)"
   ]
  },
  {
   "cell_type": "code",
   "execution_count": 36,
   "metadata": {},
   "outputs": [
    {
     "data": {
      "application/vnd.jupyter.widget-view+json": {
       "model_id": "3f013b142d974d358eb521991fe903d5",
       "version_major": 2,
       "version_minor": 0
      },
      "text/plain": [
       "  0%|          | 0/320 [00:00<?, ?it/s]"
      ]
     },
     "metadata": {},
     "output_type": "display_data"
    },
    {
     "data": {
      "application/vnd.jupyter.widget-view+json": {
       "model_id": "0589ecebccde4b44a58baac2a7f3a624",
       "version_major": 2,
       "version_minor": 0
      },
      "text/plain": [
       "  0%|          | 0/81 [00:00<?, ?it/s, ('arrow', 'a', 16)]"
      ]
     },
     "metadata": {},
     "output_type": "display_data"
    },
    {
     "name": "stdout",
     "output_type": "stream",
     "text": [
      "dict_keys([('er', 16, 'arrow'), ('er', 16, 'input'), ('er', 16, 'newline'), ('er', 16, 'output'), ('er', 16, 'prompt'), ('r', 16, 'arrow'), ('r', 16, 'input'), ('r', 16, 'newline'), ('r', 16, 'output'), ('r', 16, 'prompt')]) [26950, 25539, 1085, 14538, 19232, 7123, 20911, 12264, 12539, 12413, 32120, 26574, 23636, 23114, 178, 12793]\n",
      "('er', 16, 'arrow') (16,)\n",
      "('er', 16, 'input') (16,)\n",
      "('er', 16, 'newline') (16,)\n",
      "('er', 16, 'output') (16,)\n",
      "('er', 16, 'prompt') (16,)\n",
      "('r', 16, 'arrow') (16, 32768)\n",
      "('r', 16, 'input') (16, 32768)\n",
      "('r', 16, 'newline') (16, 32768)\n",
      "('r', 16, 'output') (16, 32768)\n",
      "('r', 16, 'prompt') (16, 32768)\n",
      "[(6.0595695686060935e-05, ('er', 16, 'input', 0), ('a', 16, 'arrow', 26950)), (4.51656014774926e-05, ('r', 16, 'prompt', 5241), ('a', 16, 'arrow', 26950)), (3.955366264563054e-05, ('r', 16, 'arrow', 29818), ('a', 16, 'arrow', 26950)), (3.92732436012011e-05, ('r', 16, 'arrow', 24991), ('a', 16, 'arrow', 26950)), (3.684913463075645e-05, ('er', 16, 'prompt', 0), ('a', 16, 'arrow', 26950)), (2.9562317649833858e-05, ('er', 16, 'arrow', 0), ('a', 16, 'arrow', 26950)), (2.319858867849689e-05, ('r', 16, 'arrow', 17821), ('a', 16, 'arrow', 26950)), (2.309978663106449e-05, ('r', 16, 'input', 11940), ('a', 16, 'arrow', 26950)), (2.1727033526985906e-05, ('r', 16, 'input', 1925), ('a', 16, 'arrow', 26950)), (2.1575855498667806e-05, ('r', 16, 'arrow', 4864), ('a', 16, 'arrow', 26950)), (1.8731390809989534e-05, ('r', 16, 'arrow', 2353), ('a', 16, 'arrow', 26950)), (1.5680485375924036e-05, ('r', 16, 'input', 471), ('a', 16, 'arrow', 26950)), (1.5463583622477017e-05, ('er', 16, 'newline', 0), ('a', 16, 'arrow', 26950)), (1.5248271665768698e-05, ('r', 16, 'input', 1913), ('a', 16, 'arrow', 26950)), (1.2924692782689817e-05, ('r', 16, 'arrow', 21347), ('a', 16, 'arrow', 26950)), (1.2538909686554689e-05, ('r', 16, 'input', 23790), ('a', 16, 'arrow', 26950)), (1.1613489732553717e-05, ('r', 16, 'newline', 1925), ('a', 16, 'arrow', 26950)), (1.1381651347619481e-05, ('r', 16, 'input', 12482), ('a', 16, 'arrow', 26950)), (1.095333482226124e-05, ('r', 16, 'output', 15037), ('a', 16, 'arrow', 26950)), (1.0365569323766977e-05, ('r', 16, 'arrow', 27427), ('a', 16, 'arrow', 26950)), (9.921205673890654e-06, ('r', 16, 'arrow', 7141), ('a', 16, 'arrow', 26950)), (9.598125870979857e-06, ('r', 16, 'arrow', 22168), ('a', 16, 'arrow', 26950)), (9.365824553242419e-06, ('r', 16, 'input', 14619), ('a', 16, 'arrow', 26950)), (9.272104762203526e-06, ('r', 16, 'arrow', 25420), ('a', 16, 'arrow', 26950)), (9.169873919745442e-06, ('r', 16, 'arrow', 8695), ('a', 16, 'arrow', 26950)), (8.940999578044284e-06, ('r', 16, 'input', 5232), ('a', 16, 'arrow', 26950)), (8.259105925390031e-06, ('r', 16, 'arrow', 28952), ('a', 16, 'arrow', 26950)), (7.690877282584552e-06, ('r', 16, 'input', 1126), ('a', 16, 'arrow', 26950)), (7.600306616950547e-06, ('r', 16, 'output', 8078), ('a', 16, 'arrow', 26950)), (7.406010354316095e-06, ('r', 16, 'input', 28017), ('a', 16, 'arrow', 26950)), (7.295067916857079e-06, ('r', 16, 'input', 21343), ('a', 16, 'arrow', 26950)), (7.205359906947706e-06, ('r', 16, 'arrow', 25826), ('a', 16, 'arrow', 26950))]\n"
     ]
    },
    {
     "ename": "ZeroDivisionError",
     "evalue": "division by zero",
     "output_type": "error",
     "traceback": [
      "\u001b[0;31m---------------------------------------------------------------------------\u001b[0m",
      "\u001b[0;31mZeroDivisionError\u001b[0m                         Traceback (most recent call last)",
      "Cell \u001b[0;32mIn[36], line 36\u001b[0m\n\u001b[1;32m     34\u001b[0m             graph\u001b[38;5;241m.\u001b[39mextend([(weight,  key \u001b[38;5;241m+\u001b[39m (upstream_feature,), (\u001b[38;5;28mtype\u001b[39m[\u001b[38;5;241m1\u001b[39m], \u001b[38;5;28mtype\u001b[39m[\u001b[38;5;241m2\u001b[39m], \u001b[38;5;28mtype\u001b[39m[\u001b[38;5;241m0\u001b[39m], batch_features[elem],) ) \u001b[38;5;28;01mfor\u001b[39;00m weight, key, upstream_feature \u001b[38;5;129;01min\u001b[39;00m edges])\n\u001b[1;32m     35\u001b[0m             \u001b[38;5;28mprint\u001b[39m(graph)\n\u001b[0;32m---> 36\u001b[0m             \u001b[38;5;241;43m1\u001b[39;49m\u001b[38;5;241;43m/\u001b[39;49m\u001b[38;5;241;43m0\u001b[39;49m\n\u001b[1;32m     38\u001b[0m         \u001b[38;5;66;03m# # edges = circuitizer.compute_edges(*feature, mask, layer_window=1)\u001b[39;00m\n\u001b[1;32m     39\u001b[0m         \u001b[38;5;66;03m# graph.extend([(weight, feature, downstream_feature) for weight, _, downstream_feature in edges])\u001b[39;00m\n\u001b[1;32m     40\u001b[0m     \n\u001b[0;32m   (...)\u001b[0m\n\u001b[1;32m     71\u001b[0m \u001b[38;5;66;03m#     #     graph.extend([(weight, upstream_feature_key + (upstream_feature,), downstream_feature[:2] + (mask,) + downstream_feature[2:])\u001b[39;00m\n\u001b[1;32m     72\u001b[0m \u001b[38;5;66;03m#     #                   for weight, upstream_feature_key, upstream_feature in edges])\u001b[39;00m\n",
      "\u001b[0;31mZeroDivisionError\u001b[0m: division by zero"
     ]
    }
   ],
   "source": [
    "from tqdm.auto import trange\n",
    "import jax.numpy as jnp\n",
    "graph = []\n",
    "\n",
    "batch_size = 16\n",
    "k = 32\n",
    "for type, features in tqdm(sorted(flat_feats.items(), key=lambda x: (-x[0][-1], x[0][-2], x[0][-3]))):\n",
    "    mask, feature_type, layer = type\n",
    "    mask = jnp.array(list(circuitizer.masks.keys()).index(mask))\n",
    "    for batch in trange(0, len(features), batch_size, postfix=str(type)):\n",
    "        batch_features = features[batch:batch+batch_size]\n",
    "        orig_length = len(batch_features)\n",
    "        batch_features = batch_features + [0] * (batch_size - len(batch_features))\n",
    "        feature_effectss = jax.vmap(lambda x: circuitizer.compute_feature_effects(feature_type, layer, x, mask, layer_window=1))(jnp.asarray(batch_features))\n",
    "        # feature_effectss = circuitizer.compute_feature_effects(feature_type, layer, batch_features, mask, layer_window=1)\n",
    "        top_effects = defaultdict(list)\n",
    "        for key, featuress in feature_effectss.items():\n",
    "            for elem, feature_effects in enumerate(featuress):\n",
    "                if elem >= orig_length:\n",
    "                    continue\n",
    "                if feature_effects.ndim == 0:\n",
    "                    top_effects[elem].append((float(feature_effects), key, 0))\n",
    "                    continue\n",
    "                effects, indices = jax.lax.top_k(jnp.abs(feature_effects), k)\n",
    "                for i, e in zip(indices.tolist(), effects.tolist()):\n",
    "                    top_effects[elem].append((e, key, i))\n",
    "        for elem, effects in top_effects.items():\n",
    "            effects.sort(reverse=True)\n",
    "            edges = effects[:k]\n",
    "            graph.extend([(weight,  key + (upstream_feature,), (type[1], type[2], type[0], batch_features[elem],) ) for weight, key, upstream_feature in edges])\n",
    "        \n",
    "        # # edges = circuitizer.compute_edges(*feature, mask, layer_window=1)\n",
    "        # graph.extend([(weight, feature, downstream_feature) for weight, _, downstream_feature in edges])\n",
    "    \n",
    "        # for feature in tqdm(batch_features):\n",
    "        #     feature_effects = circuitizer.compute_feature_effects(feature_type, layer, feature, mask, layer_window=1)\n",
    "        #     top_effects = []\n",
    "        #     for key, features in feature_effects.items():\n",
    "        #         if features.ndim == 0:\n",
    "        #             top_effects.append((float(features), key, 0))\n",
    "        #             continue\n",
    "        #         effects, indices = jax.lax.top_k(jnp.abs(features), k)\n",
    "        #         for i, e in zip(indices.tolist(), effects.tolist()):\n",
    "        #             top_effects.append((e, key, i))\n",
    "        #     top_effects.sort(reverse=True)\n",
    "        #     edges = top_effects[:k]\n",
    "            \n",
    "        #     # edges = circuitizer.compute_edges(*feature, mask, layer_window=1)\n",
    "        #     graph.extend([(weight, feature, downstream_feature) for weight, _, downstream_feature in edges])\n",
    "\n",
    "\n",
    "\n",
    "# for mask, features in tqdm(important_feats_masks.items()):\n",
    "#     for batch in trange(0, len(features), batch_size):\n",
    "#         batch_features = features[batch:batch+batch_size]\n",
    "        \n",
    "        \n",
    "#         for feature in tqdm(batch_features):\n",
    "#             # edges = circuitizer.compute_edges(*feature, mask, layer_window=1)\n",
    "#             graph.extend([(weight, feature, downstream_feature) for weight, _, downstream_feature in edges])\n",
    "\n",
    "\n",
    "#     # for downstream_feature in tqdm(features):\n",
    "#     #     edges = compute_edges(downstream_feature, mask, layer_window=1)\n",
    "#     #     graph.extend([(weight, upstream_feature_key + (upstream_feature,), downstream_feature[:2] + (mask,) + downstream_feature[2:])\n",
    "#     #                   for weight, upstream_feature_key, upstream_feature in edges])"
   ]
  },
  {
   "cell_type": "code",
   "execution_count": 37,
   "metadata": {},
   "outputs": [
    {
     "data": {
      "text/html": [
       "<script> (()=>{ if (customElements.get('treescope-container') === undefined) { class TreescopeContainer extends HTMLElement { constructor() { super(); this.attachShadow({mode: \"open\"}); this.defns = {}; this.state = {}; } } customElements.define(\"treescope-container\", TreescopeContainer); } if (customElements.get('treescope-run-here') === undefined) { class RunHere extends HTMLElement { constructor() { super() } connectedCallback() { const run = child => { const fn = new Function(child.textContent); child.textContent = \"\"; fn.call(this); this.remove(); }; const child = this.querySelector(\"script\"); if (child) { run(child); } else { new MutationObserver(()=>{ run(this.querySelector(\"script\")); }).observe(this, {childList: true}); } } } customElements.define(\"treescope-run-here\", RunHere); } })(); </script> <treescope-container class=\"treescope_out_a8b7216ceca04b2eac50770d71bef7eb\" ></treescope-container> <treescope-run-here><script type=\"application/octet-stream\"> const root = ( Array.from(document.getElementsByClassName( \"treescope_out_a8b7216ceca04b2eac50770d71bef7eb\")) .filter((elt) => !elt.dataset.setup) )[0]; root.dataset.setup = 1; const msg = document.createElement(\"span\"); msg.style = \"color: #aaaaaa; font-family: monospace; transition: opacity 0.2s; opacity: 0.0;\"; msg.textContent = \"(Loading...)\"; root.state.loadingMsg = msg; root.shadowRoot.appendChild(msg); root.state.chain = new Promise((resolve, reject) => { const observer = new IntersectionObserver((entries) => { for (const entry of entries) { if (entry.isIntersecting) { resolve(); observer.disconnect(); return; } } }, {rootMargin: \"1000px\"}); window.setTimeout(() => { if (root.loadingMsg) { root.loadingMsg.style.opacity = \"1.0\"; } observer.observe(root); }, 0); }); root.state.deferring = false; const _insertNode = (node) => { for (let oldScript of node.querySelectorAll(\"script\")) { let newScript = document.createElement(\"script\"); newScript.type = oldScript.type; newScript.textContent = oldScript.textContent; oldScript.parentNode.replaceChild(newScript, oldScript); } if (root.state.loadingMsg) { root.state.loadingMsg.remove(); root.state.loadingMsg = null; } root.shadowRoot.appendChild(node); }; root.defns.insertContent = ((contentNode, compressed) => { if (compressed) { root.state.deferring = true; } if (root.state.deferring) { root.state.chain = (async () => { await root.state.chain; if (compressed) { const encoded = contentNode.textContent; const blob = new Blob([ Uint8Array.from(atob(encoded), (m) => m.codePointAt(0)) ]); const reader = blob.stream().pipeThrough( new DecompressionStream(\"deflate\") ).pipeThrough( new TextDecoderStream(\"utf-8\") ).getReader(); const parts = []; while (true) { const step = await reader.read(); if (step.done) { break; } parts.push(step.value); } const tpl = document.createElement('template'); tpl.innerHTML = parts.join(\"\"); _insertNode(tpl.content); } else { _insertNode(contentNode.content); } })(); } else { _insertNode(contentNode.content); } }); </script></treescope-run-here><div style=\"display:none\"> <script type=\"application/octet-stream\" >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</script> <treescope-run-here><script type=\"application/octet-stream\"> const root = ( Array.from(document.getElementsByClassName( \"treescope_out_a8b7216ceca04b2eac50770d71bef7eb\")) .filter((elt) => !elt.dataset['step0']) )[0]; root.dataset['step0'] = 1; root.defns.insertContent( this.parentNode.querySelector('script[type=\"application/octet-stream\"]'), true ); this.parentNode.remove(); </script></treescope-run-here> </div>"
      ],
      "text/plain": [
       "<IPython.core.display.HTML object>"
      ]
     },
     "metadata": {},
     "output_type": "display_data"
    },
    {
     "data": {
      "text/html": [
       "<treescope-run-here><script type=\"application/octet-stream\"> const root = ( Array.from(document.getElementsByClassName( \"treescope_out_a8b7216ceca04b2eac50770d71bef7eb\")) .filter((elt) => !elt.dataset.stolen) )[0]; root.dataset.stolen = 1; this.parentNode.replaceChild(root, this); </script></treescope-run-here>"
      ],
      "text/plain": [
       "(11, 'arrow', 'a', 23594, 0.41276583075523376)"
      ]
     },
     "execution_count": 37,
     "metadata": {},
     "output_type": "execute_result"
    }
   ],
   "source": [
    "combined_ies[0]"
   ]
  },
  {
   "cell_type": "code",
   "execution_count": null,
   "metadata": {},
   "outputs": [],
   "source": [
    "sorted_graph = sorted(graph, reverse=True, key=lambda x: x[0])"
   ]
  }
 ],
 "metadata": {
  "kernelspec": {
   "display_name": "micrlhf-progress-_SD4q1c9-py3.12",
   "language": "python",
   "name": "python3"
  },
  "language_info": {
   "codemirror_mode": {
    "name": "ipython",
    "version": 3
   },
   "file_extension": ".py",
   "mimetype": "text/x-python",
   "name": "python",
   "nbconvert_exporter": "python",
   "pygments_lexer": "ipython3",
   "version": "3.10.12"
  }
 },
 "nbformat": 4,
 "nbformat_minor": 2
}
