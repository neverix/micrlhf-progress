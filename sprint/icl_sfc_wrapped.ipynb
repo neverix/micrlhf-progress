{
 "cells": [
  {
   "cell_type": "code",
   "execution_count": 1,
   "metadata": {},
   "outputs": [],
   "source": [
    "import os\n",
    "if \"models\" not in os.listdir(\".\"):\n",
    "    os.chdir(\"../..\")"
   ]
  },
  {
   "cell_type": "code",
   "execution_count": 2,
   "metadata": {},
   "outputs": [
    {
     "data": {
      "text/plain": [
       "['.ssh',\n",
       " '.ipython',\n",
       " '.vscode-server',\n",
       " '.gitconfig',\n",
       " '.dotnet',\n",
       " 'cleanup_results.jsonl',\n",
       " 'gemma_2_cleaning_compact_65k.jsonl',\n",
       " '.wget-hsts',\n",
       " 'data',\n",
       " '.local',\n",
       " 'gemma_2_cleaning_algo.jsonl',\n",
       " '.python_history',\n",
       " '.bash_logout',\n",
       " 'models',\n",
       " '.bashrc',\n",
       " 'cleanup_results_gemma_2_post.jsonl',\n",
       " '.config',\n",
       " 'cleanup_results_gemma_2.jsonl',\n",
       " '.profile',\n",
       " 'gemma_2_cleaning_compact.jsonl',\n",
       " 'cleanup_results_gemma_2_all.jsonl',\n",
       " 'cleanup_results_gemma_2_algo.jsonl',\n",
       " '.cache',\n",
       " 'micrlhf-progress',\n",
       " '.bash_history',\n",
       " 'cleanup_results_algo.jsonl',\n",
       " 'cleanup_results_ito.jsonl']"
      ]
     },
     "execution_count": 2,
     "metadata": {},
     "output_type": "execute_result"
    }
   ],
   "source": [
    "os.listdir(\".\")"
   ]
  },
  {
   "cell_type": "code",
   "execution_count": 3,
   "metadata": {},
   "outputs": [],
   "source": [
    "%load_ext autoreload\n",
    "%autoreload 2\n",
    "import penzai\n",
    "import jax_smi\n",
    "jax_smi.initialise_tracking()\n",
    "from penzai import pz\n",
    "pz.ts.register_as_default()\n",
    "pz.ts.register_autovisualize_magic()\n",
    "pz.enable_interactive_context()"
   ]
  },
  {
   "cell_type": "code",
   "execution_count": 4,
   "metadata": {},
   "outputs": [
    {
     "name": "stdout",
     "output_type": "stream",
     "text": [
      "env: JAX_TRACEBACK_FILTERING=off\n"
     ]
    }
   ],
   "source": [
    "%env JAX_TRACEBACK_FILTERING=off\n",
    "import jax\n",
    "jax.config.update('jax_traceback_filtering', 'off')\n"
   ]
  },
  {
   "cell_type": "code",
   "execution_count": 5,
   "metadata": {},
   "outputs": [],
   "source": [
    "from sprint.icl_sfc_utils import Circuitizer"
   ]
  },
  {
   "cell_type": "code",
   "execution_count": 6,
   "metadata": {},
   "outputs": [],
   "source": [
    "from micrlhf.llama import LlamaTransformer\n",
    "llama = LlamaTransformer.from_pretrained(\"models/gemma-2b-it.gguf\", from_type=\"gemma\", load_eager=True, device_map=\"tpu:0\")"
   ]
  },
  {
   "cell_type": "code",
   "execution_count": 7,
   "metadata": {},
   "outputs": [],
   "source": [
    "from transformers import AutoTokenizer\n",
    "tokenizer = AutoTokenizer.from_pretrained(\"alpindale/gemma-2b\")\n",
    "tokenizer.padding_side = \"right\""
   ]
  },
  {
   "cell_type": "code",
   "execution_count": 8,
   "metadata": {},
   "outputs": [
    {
     "name": "stderr",
     "output_type": "stream",
     "text": [
      "fatal: destination path 'data/itv' already exists and is not an empty directory.\n"
     ]
    }
   ],
   "source": [
    "from sprint.task_vector_utils import load_tasks, ICLRunner\n",
    "tasks = load_tasks()"
   ]
  },
  {
   "cell_type": "code",
   "execution_count": 9,
   "metadata": {},
   "outputs": [
    {
     "name": "stdout",
     "output_type": "stream",
     "text": [
      "162\n",
      "162\n"
     ]
    }
   ],
   "source": [
    "def check_if_single_token(token):\n",
    "    return len(tokenizer.tokenize(token)) == 1\n",
    "\n",
    "task_name = \"antonyms\"\n",
    "\n",
    "task = tasks[task_name]\n",
    "\n",
    "print(len(task))\n",
    "\n",
    "# task = {\n",
    "#     k:v for k,v in task.items() if check_if_single_token(k) and check_if_single_token(v)\n",
    "# }\n",
    "\n",
    "print(len(task))\n",
    "\n",
    "pairs = list(task.items())\n",
    "\n",
    "batch_size = 8 \n",
    "n_shot=20\n",
    "max_seq_len = 128\n",
    "seed = 10\n",
    "\n",
    "prompt = \"Follow the pattern:\\n{}\"\n",
    "\n",
    "runner = ICLRunner(task_name, pairs, batch_size=batch_size, n_shot=n_shot, max_seq_len=max_seq_len, seed=seed, prompt=prompt)"
   ]
  },
  {
   "cell_type": "code",
   "execution_count": 10,
   "metadata": {},
   "outputs": [
    {
     "name": "stdout",
     "output_type": "stream",
     "text": [
      "Setting up masks...\n",
      "Running metrics...\n",
      "Setting up RMS...\n"
     ]
    },
    {
     "data": {
      "application/vnd.jupyter.widget-view+json": {
       "model_id": "ee3e4bf3561a40d28b8ad5c7e3c0f013",
       "version_major": 2,
       "version_minor": 0
      },
      "text/plain": [
       "  0%|          | 0/18 [00:00<?, ?it/s]"
      ]
     },
     "metadata": {},
     "output_type": "display_data"
    },
    {
     "name": "stdout",
     "output_type": "stream",
     "text": [
      "Loading SAEs...\n"
     ]
    },
    {
     "data": {
      "application/vnd.jupyter.widget-view+json": {
       "model_id": "84f0b90174fe46479f72915823a9f5e3",
       "version_major": 2,
       "version_minor": 0
      },
      "text/plain": [
       "  0%|          | 0/11 [00:00<?, ?it/s]"
      ]
     },
     "metadata": {},
     "output_type": "display_data"
    },
    {
     "name": "stdout",
     "output_type": "stream",
     "text": [
      "Running node IEs...\n"
     ]
    },
    {
     "data": {
      "application/vnd.jupyter.widget-view+json": {
       "model_id": "249bc8babf6f4d718fc9524c5b188552",
       "version_major": 2,
       "version_minor": 0
      },
      "text/plain": [
       "  0%|          | 0/11 [00:00<?, ?it/s]"
      ]
     },
     "metadata": {},
     "output_type": "display_data"
    },
    {
     "data": {
      "application/vnd.jupyter.widget-view+json": {
       "model_id": "7995a947dc07496f97df31f98e5e7f36",
       "version_major": 2,
       "version_minor": 0
      },
      "text/plain": [
       "  0%|          | 0/11 [00:00<?, ?it/s]"
      ]
     },
     "metadata": {},
     "output_type": "display_data"
    },
    {
     "data": {
      "application/vnd.jupyter.widget-view+json": {
       "model_id": "17956ef7ffd94e33b313a415b4838e02",
       "version_major": 2,
       "version_minor": 0
      },
      "text/plain": [
       "  0%|          | 0/10 [00:00<?, ?it/s]"
      ]
     },
     "metadata": {},
     "output_type": "display_data"
    }
   ],
   "source": [
    "layers = list(range(6, 17))\n",
    "circuitizer = Circuitizer(llama, tokenizer, runner, layers, prompt)"
   ]
  },
  {
   "cell_type": "code",
   "execution_count": 70,
   "metadata": {},
   "outputs": [],
   "source": [
    "import numpy as np\n",
    "\n",
    "thresholds = np.linspace(4e-3, 8e-3, 150)\n",
    "topks = [4, 6, 12, 16, 24, 32]"
   ]
  },
  {
   "cell_type": "code",
   "execution_count": 71,
   "metadata": {},
   "outputs": [
    {
     "data": {
      "application/vnd.jupyter.widget-view+json": {
       "model_id": "0346a88ccf114bf985b1eba3396681a4",
       "version_major": 2,
       "version_minor": 0
      },
      "text/plain": [
       "  0%|          | 0/150 [00:00<?, ?it/s]"
      ]
     },
     "metadata": {},
     "output_type": "display_data"
    }
   ],
   "source": [
    "ablated_metrics, n_nodes_counts = circuitizer.run_ablated_metrics(thresholds, inverse=True)"
   ]
  },
  {
   "cell_type": "code",
   "execution_count": 75,
   "metadata": {},
   "outputs": [
    {
     "data": {
      "text/html": [
       "<script> (()=>{ if (customElements.get('treescope-container') === undefined) { class TreescopeContainer extends HTMLElement { constructor() { super(); this.attachShadow({mode: \"open\"}); this.defns = {}; this.state = {}; } } customElements.define(\"treescope-container\", TreescopeContainer); } if (customElements.get('treescope-run-here') === undefined) { class RunHere extends HTMLElement { constructor() { super() } connectedCallback() { const run = child => { const fn = new Function(child.textContent); child.textContent = \"\"; fn.call(this); this.remove(); }; const child = this.querySelector(\"script\"); if (child) { run(child); } else { new MutationObserver(()=>{ run(this.querySelector(\"script\")); }).observe(this, {childList: true}); } } } customElements.define(\"treescope-run-here\", RunHere); } })(); </script> <treescope-container class=\"treescope_out_cef892f6a126486892b3e1c6087a7188\" ></treescope-container> <treescope-run-here><script type=\"application/octet-stream\"> const root = ( Array.from(document.getElementsByClassName( \"treescope_out_cef892f6a126486892b3e1c6087a7188\")) .filter((elt) => !elt.dataset.setup) )[0]; root.dataset.setup = 1; const msg = document.createElement(\"span\"); msg.style = \"color: #aaaaaa; font-family: monospace; transition: opacity 0.2s; opacity: 0.0;\"; msg.textContent = \"(Loading...)\"; root.state.loadingMsg = msg; root.shadowRoot.appendChild(msg); root.state.chain = new Promise((resolve, reject) => { const observer = new IntersectionObserver((entries) => { for (const entry of entries) { if (entry.isIntersecting) { resolve(); observer.disconnect(); return; } } }, {rootMargin: \"1000px\"}); window.setTimeout(() => { if (root.loadingMsg) { root.loadingMsg.style.opacity = \"1.0\"; } observer.observe(root); }, 0); }); root.state.deferring = false; const _insertNode = (node) => { for (let oldScript of node.querySelectorAll(\"script\")) { let newScript = document.createElement(\"script\"); newScript.type = oldScript.type; newScript.textContent = oldScript.textContent; oldScript.parentNode.replaceChild(newScript, oldScript); } if (root.state.loadingMsg) { root.state.loadingMsg.remove(); root.state.loadingMsg = null; } root.shadowRoot.appendChild(node); }; root.defns.insertContent = ((contentNode, compressed) => { if (compressed) { root.state.deferring = true; } if (root.state.deferring) { root.state.chain = (async () => { await root.state.chain; if (compressed) { const encoded = contentNode.textContent; const blob = new Blob([ Uint8Array.from(atob(encoded), (m) => m.codePointAt(0)) ]); const reader = blob.stream().pipeThrough( new DecompressionStream(\"deflate\") ).pipeThrough( new TextDecoderStream(\"utf-8\") ).getReader(); const parts = []; while (true) { const step = await reader.read(); if (step.done) { break; } parts.push(step.value); } const tpl = document.createElement('template'); tpl.innerHTML = parts.join(\"\"); _insertNode(tpl.content); } else { _insertNode(contentNode.content); } })(); } else { _insertNode(contentNode.content); } }); </script></treescope-run-here><div style=\"display:none\"> <script type=\"application/octet-stream\" >eNrtGg1z2rjyr+jceRe4BPMRIIE0mWcSvtombULatL13wxO2bKvYliMLCLnpf38r2XwYCEl7ud7NzSMzAeRd7fdqd8XLSEw9cqILTkhkspD0OWMC/Y5CFlFBWVBHnHhY0DE5QjYLRM7GPvWmdeSzgEUhNmF94lJBcupLHYUcVjwaiZzaOiemIawGLIDlATaHDmejwMqZzGO8HqMeoeTbwAMA2I9awq0jmwoACwQJxBEKsWXRwMl5xBZ1VDJdSSQgOZdQx4WVol6R2wQCU+B5jpZ8yI1pRAfUowI4xyPB5rA5GghOg4iauYjek/hpwu7Xl/lYPS/n6snxUQA0OaxFJqehQFK+4x0chh41sdRYnpmCSOk5wf7OSSaTPT4BhQK9SCCL2EGEjpFwaaQ7RFyBti+YRTJZ3WWR0NVzEI0I1A9JIEU2TLmrRPr1t01POjiwPAKPg5HnHcUUdGCzx1gAq5kJ48MsWuaB3cCSfJRaFtSUiyHhNuM+DkyiB2ySySr7AoHM2hOUi5Feov1SFvahNsqscK17JHCEi46PUUGCbGWdEzHiAegdES8iC8bcUSA5W906cqktJH8KQH74Cn8PUMiAVwUWm+ic3I5IJIyA+spcLY59kol1kpV7HK0RCkeRG6vxaIOMMxLHsRhbpHw6D5KL2JCCOY4XR2VfRQ54ayj3kivEE3uIjMHBE0tK7tR3fUimUuka1yRDCbBuejiK3kBwJvtmtPmefR/cUJsR/5oFfYL7Kx8/eZnfFAAWHSO14bGWTh8aEngAkpK7Y62gIRYAMyB2AHDb3H6zrBmJM5NSg7CLE9aACcF8mQLqARMZ3WaehQeAHcC2dRdHmRMPD4h3kn7Sj2konLrpEnNIrGwW/SKVNEsxgoV1VNCLFeKvJxm5dp9TwsH3o4158quu8lkfDwacjJUfq/T2onpYwoXCAsBkvg9iLUFg9ZJGWAHBMcsuGxOe3QCfBu9PXBL0yV0IrkesZ9PQQ1SDkT8gfAmgUDssVqoLgEjmWGd5h/1ipViZAxCrLxW9AEhOgvUDY4x5JpcbeMwcxkvgsQPGLcJjuxXDOxQxj1rbIGPneQwYbOBCcufA2bDPiQ8h1Ff6R6tMr7PJhp7pZg7L/5KOVK6gYqEW7zjBUR+iinkeoAum25RHoq/S6FN3rZX1oty3UEPF/ap+sHFjZb+t5LJrBAXHwcybV4mjYoQIjgi4fo6NIO2oYmCiAmPlmbRqyqUeKCeA6U2eB9AWjUIPT2dlwyogOkHKc+v1AYETacltXpjqtTks49IhV5S1Q1JiQCzOadFAxbrygS00lQesU7YwH0YEO5AIg3XsZ4rAOQ8SdTPSDD7FoaqB6mjnP6XKwNz5K9lLIz3IZPUHMKkiGQiPeCQNGDKoBAnfQJdGz0dWhYIilFMnWvSQjz8P1YV4gtyJdSo6jfpxSmBBnAXWQ2tbKOmlioymjaZCf5j92OKrLEqpfMwdSDYxGyqgv/5BapALw+lgBOdCsDEBLR5vcloNaStQoEhoiDYD/4cUy5a20k/tnGPwCoo91Jv6A+ZF6O1ISHktdBpjwns4hcCArDsYQm+k0CMfqiUXDlfoXAIB6BQSsTXvqF6Qgvw7WnfzGFu1PAW9JsuatJRxfGyQYnO6W2CqM8eEbggUO8fHtkgVCLM8vY3mCk6a5LLqk9PbwgLncACGVUV1dnlZEpGdwtIJt+lY+zZR5hyAYSixfkpzokiin6gfMi5wsLb3gLMhFGlyZZGMHtfuEtqSPmdm/qq7pttXrXhfRsdSWRsHS0GPI3YJjqszfAHI42J3DimLXRDV6pvQB1qcBInw6U4buEwDPlvVOQ/G5GhOBb+JPTNTMl3oRaGai0uhSGCJP+f3T+MkKSdjTiwoKsFNZE25ZI7bEfYC6O76ISc2vYNNUoF3qAIPWlks67AJ5gFYoD87KmbWtW1sFvc3AIbQC64ZTuXDREnJUi4x5qKqq6vOBvOcw7FFwWyZ4n7FIs4eYhAjDkEF4K5quntxzIRAFjKQWkKJltdYWUvVz6b4lMlzc89cNfRDjrkKNy98YwNCaKdBfrjrFvSy6WafwuuP8eW4KVJcbWyNUq2ykgNs4rnoF5QpgjjLKMm+EUCRrBxuJDpYoOaejjujO2vgFOZ8y9lqLln+gdpctKBKgzkZVKMoEbBIfJDuYcE2FFDfXL485uK/p7rk2L4yVT2hS94O/FWHHf+UOczCyH9kFKMmIcCsh0MojB5vLr9d9Q9TiFvKuD1fHsg8APMcfGwikQiaBugzvjRQ3KSWh8Gfx9R7aOXaQU8PI9ETGV7V8twUfcADFsQfRvuh8j6R/ZRRtxvyKVSfpKKn6PIpxB4T6jnuXeQoHP1kcI6nus2Zn7GYOZKzUV0WYJE+xt6IRJlsVo+YTzKqLJNDdPmux02ZHKA/sS3TdlAWZedXFpFLiJD3GmSCTnu9npSmJ9fkLYV6qHMCIpukNw3MzH//nbSCJpkViN/eFsZ1paQk9ch97B0tD+nqqCxHzxE362jEvYzsUeryeX7CbLt0NIAuqFreswq19rljNAz16l4aBlOfGlcT+N9pGUbT2PZq+IbhDNlrq9tsnE4+Gcb1p9NXxnm3cWq0nLtu540rosY5Jc5+6+xj6U23+mncC0f03XnluvjqY/fqw/n45vxevJu2Wqe7N87wmjbOCi49uxy9alrtL4XOIG+Pu1Z4+7rq3t5Qejk6D9pux34vjPfVxgUvG61uMGxWzfejUbB7Vbk1o+FkbLe8/O2d02SHzuDVpH1Y7Bj5wLiqvOH8VfFq17kvXFkF45VddC4OTiftLyWnwKajq4MDv1msTjofa28dJyTXw2mZdAf3FXPA37YFNpzL7sXkDEfT6HLU7X68abYmxrvLsPvJep/P7zoH1wcf90XBfv3u1hhXYM83xsWBcT4xfOf+qrc7+twjzY93Jbtq3l+UrzrTyqhhvL5vfAlb4T7tXJ42C59H78q9g8BuvGl2Wue+QXcPx82SGxTdg93Bh8nHL5MOH5+1358GX+xm0xG7b83PnndQqZ2+mjQO3Vr5/Lzd229/Nhy/W/nSuKyJ6zbp1JqNRre9f+aUr/KfzOnAaINNP7zOG5dtbJDzU8/o3DffOp+FU228c96+7Z41hvSyQlqNj6eNlkkLoctZGIBvhJ+bZ8X74rBnn9rCnb4OOhZuRR27cOG3mxfVhmXcfvgQYhH1PvuWhWmtZN/Xyu/pl9tq6PPqW/bptEd52x+/au/3bnr7rWbJbFza17sdj4XtciuaVLBzWz2kn0nvwgtvgkanS6xzTkY3t+1Tv3jT4sNe765Sqt7cRBMDOMoidUcpMjvKrXdkhfJf+DePfmyxEPq0RUiqm1Vd17dA7MUx+xvstf0Gy1VXfao5j+cGsDe4R2CiTNy+py9iIQSvmQxfAEvae7kWQXqQW8h5hWzy8QRTgQI8pg4WjOuwczhgmFv6hFNBrsmdyCz2kgVcvNfitg8qqoy2NMyQ93xA5Zr6hI1EZnYRvIYnbz3GZA316x4qFQoFVbhC8oUmIaPGcpvpLk0stAVzciA5y2DyalRDL1ALUw8Sm2BIAv+kMhsU9wH00JCNKeiMYEsOXHaXdZfcWT5yWymHN7PryvRkf7Vr1U5exuf6SxqEo+Sk0dRJPmB32sZNkkMfUPMKKU1vcY0koFMhQlPs54ZkCrHhHmvaya/APSAAekJ6GX1tAKNte659G+1fC7+tYKTrgdlDdbIca6nyv45eWIPDcgUfbWps5PWK9ndXfAo8dR+WtDUoPVB7kq6ShyuzH+0kJME9posSSUV5iMGt+za4uJzO6HNHUG8XDDJNsnsohc6kn2/0l7WxSLoX1LZAr4EyTqG1xl4f6hV+/E3K1VO4m1Sd3AtrJz+/uCsdHP3siSNI3aHHoMIZ6FL7kf4G/pfOEBt8IaZAWKDC3YFd2LcLRVyu4sLPjjiKsdOK2Vs307yw1k7QDHgNaNZtpNndWQxgdxALTmUqPN75xrNA/ZIhu4Pm0+FjLeNhf2Bh9fuMuvqfVlpWW8TdHA2Kwkfx5DXB6kAc8FS+lNaBz4mEJ6sOlXr7Dkeh1ve6CbU2Okn86wLtpLhfq1bKh4e1w8P9Uq36T7M3tb7H2oD1F9paZejvtLbE3XY8PP9psOUnMtpW13jxuP+kphOPnQNrSS5tiTjlbcvw23j/U6uFreZb/tUT5HTI5uoBivPzA5k9Sf2Qxre4498sVKXs3xOsCu/7w/VBX4YEB9XzGTiXnAvAGakKl1KxipiN8i7zSd7yKXgmzesmhhDKQ9nBCHQX+THlAtyTBOMo71OTe66dCzlzOImiXL93Vr4tmrVcON3Xi4U82A4whcsC9TWSP/uFymiIHQLYc/vmY/uG063p5tEctGL0vf87xtPy+EPeMitsFz+dRCuXwNpJ9tuskxrkPZoNvqe2+we5CXRaT/cNCfy8DvHbUxQzw7Do+OR/LgkCqg==</script> <treescope-run-here><script type=\"application/octet-stream\"> const root = ( Array.from(document.getElementsByClassName( \"treescope_out_cef892f6a126486892b3e1c6087a7188\")) .filter((elt) => !elt.dataset['step0']) )[0]; root.dataset['step0'] = 1; root.defns.insertContent( this.parentNode.querySelector('script[type=\"application/octet-stream\"]'), true ); this.parentNode.remove(); </script></treescope-run-here> </div>"
      ],
      "text/plain": [
       "<IPython.core.display.HTML object>"
      ]
     },
     "metadata": {},
     "output_type": "display_data"
    },
    {
     "data": {
      "text/html": [
       "<treescope-run-here><script type=\"application/octet-stream\"> const root = ( Array.from(document.getElementsByClassName( \"treescope_out_cef892f6a126486892b3e1c6087a7188\")) .filter((elt) => !elt.dataset.stolen) )[0]; root.dataset.stolen = 1; this.parentNode.replaceChild(root, this); </script></treescope-run-here>"
      ],
      "text/plain": [
       "[<matplotlib.lines.Line2D at 0x7f03f01a46a0>]"
      ]
     },
     "execution_count": 75,
     "metadata": {},
     "output_type": "execute_result"
    },
    {
     "data": {
      "image/png": "[encoded data removed]",
      "text/plain": [
       "<Figure size 640x480 with 1 Axes>"
      ]
     },
     "metadata": {},
     "output_type": "display_data"
    }
   ],
   "source": [
    "from matplotlib import pyplot as plt   \n",
    "\n",
    "plt.plot([max(n_nodes_counts) - x for x in n_nodes_counts], ablated_metrics)\n",
    "# plt.xscale(\"log\")"
   ]
  },
  {
   "cell_type": "code",
   "execution_count": 74,
   "metadata": {},
   "outputs": [
    {
     "data": {
      "text/html": [
       "<script> (()=>{ if (customElements.get('treescope-container') === undefined) { class TreescopeContainer extends HTMLElement { constructor() { super(); this.attachShadow({mode: \"open\"}); this.defns = {}; this.state = {}; } } customElements.define(\"treescope-container\", TreescopeContainer); } if (customElements.get('treescope-run-here') === undefined) { class RunHere extends HTMLElement { constructor() { super() } connectedCallback() { const run = child => { const fn = new Function(child.textContent); child.textContent = \"\"; fn.call(this); this.remove(); }; const child = this.querySelector(\"script\"); if (child) { run(child); } else { new MutationObserver(()=>{ run(this.querySelector(\"script\")); }).observe(this, {childList: true}); } } } customElements.define(\"treescope-run-here\", RunHere); } })(); </script> <treescope-container class=\"treescope_out_77c55ca4096843c785a981a5097bf2ee\" ></treescope-container> <treescope-run-here><script type=\"application/octet-stream\"> const root = ( Array.from(document.getElementsByClassName( \"treescope_out_77c55ca4096843c785a981a5097bf2ee\")) .filter((elt) => !elt.dataset.setup) )[0]; root.dataset.setup = 1; const msg = document.createElement(\"span\"); msg.style = \"color: #aaaaaa; font-family: monospace; transition: opacity 0.2s; opacity: 0.0;\"; msg.textContent = \"(Loading...)\"; root.state.loadingMsg = msg; root.shadowRoot.appendChild(msg); root.state.chain = new Promise((resolve, reject) => { const observer = new IntersectionObserver((entries) => { for (const entry of entries) { if (entry.isIntersecting) { resolve(); observer.disconnect(); return; } } }, {rootMargin: \"1000px\"}); window.setTimeout(() => { if (root.loadingMsg) { root.loadingMsg.style.opacity = \"1.0\"; } observer.observe(root); }, 0); }); root.state.deferring = false; const _insertNode = (node) => { for (let oldScript of node.querySelectorAll(\"script\")) { let newScript = document.createElement(\"script\"); newScript.type = oldScript.type; newScript.textContent = oldScript.textContent; oldScript.parentNode.replaceChild(newScript, oldScript); } if (root.state.loadingMsg) { root.state.loadingMsg.remove(); root.state.loadingMsg = null; } root.shadowRoot.appendChild(node); }; root.defns.insertContent = ((contentNode, compressed) => { if (compressed) { root.state.deferring = true; } if (root.state.deferring) { root.state.chain = (async () => { await root.state.chain; if (compressed) { const encoded = contentNode.textContent; const blob = new Blob([ Uint8Array.from(atob(encoded), (m) => m.codePointAt(0)) ]); const reader = blob.stream().pipeThrough( new DecompressionStream(\"deflate\") ).pipeThrough( new TextDecoderStream(\"utf-8\") ).getReader(); const parts = []; while (true) { const step = await reader.read(); if (step.done) { break; } parts.push(step.value); } const tpl = document.createElement('template'); tpl.innerHTML = parts.join(\"\"); _insertNode(tpl.content); } else { _insertNode(contentNode.content); } })(); } else { _insertNode(contentNode.content); } }); </script></treescope-run-here><div style=\"display:none\"> <script type=\"application/octet-stream\" >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</script> <treescope-run-here><script type=\"application/octet-stream\"> const root = ( Array.from(document.getElementsByClassName( \"treescope_out_77c55ca4096843c785a981a5097bf2ee\")) .filter((elt) => !elt.dataset['step0']) )[0]; root.dataset['step0'] = 1; root.defns.insertContent( this.parentNode.querySelector('script[type=\"application/octet-stream\"]'), true ); this.parentNode.remove(); </script></treescope-run-here> </div>"
      ],
      "text/plain": [
       "<IPython.core.display.HTML object>"
      ]
     },
     "metadata": {},
     "output_type": "display_data"
    },
    {
     "data": {
      "text/html": [
       "<treescope-run-here><script type=\"application/octet-stream\"> const root = ( Array.from(document.getElementsByClassName( \"treescope_out_77c55ca4096843c785a981a5097bf2ee\")) .filter((elt) => !elt.dataset.stolen) )[0]; root.dataset.stolen = 1; this.parentNode.replaceChild(root, this); </script></treescope-run-here>"
      ],
      "text/plain": [
       "[5242826,\n",
       " 5242826,\n",
       " 5242826,\n",
       " 5242826,\n",
       " 5242827,\n",
       " 5242827,\n",
       " 5242828,\n",
       " 5242829,\n",
       " 5242831,\n",
       " 5242831,\n",
       " 5242832,\n",
       " 5242832,\n",
       " 5242832,\n",
       " 5242832,\n",
       " 5242833,\n",
       " 5242833,\n",
       " 5242833,\n",
       " 5242834,\n",
       " 5242835,\n",
       " 5242835,\n",
       " 5242838,\n",
       " 5242839,\n",
       " 5242839,\n",
       " 5242839,\n",
       " 5242839,\n",
       " 5242839,\n",
       " 5242840,\n",
       " 5242840,\n",
       " 5242841,\n",
       " 5242841,\n",
       " 5242841,\n",
       " 5242841,\n",
       " 5242841,\n",
       " 5242844,\n",
       " 5242844,\n",
       " 5242844,\n",
       " 5242845,\n",
       " 5242845,\n",
       " 5242845,\n",
       " 5242847,\n",
       " 5242848,\n",
       " 5242848,\n",
       " 5242848,\n",
       " 5242849,\n",
       " 5242849,\n",
       " 5242849,\n",
       " 5242850,\n",
       " 5242851,\n",
       " 5242851,\n",
       " 5242851,\n",
       " 5242852,\n",
       " 5242852,\n",
       " 5242852,\n",
       " 5242853,\n",
       " 5242853,\n",
       " 5242853,\n",
       " 5242855,\n",
       " 5242855,\n",
       " 5242856,\n",
       " 5242856,\n",
       " 5242856,\n",
       " 5242857,\n",
       " 5242857,\n",
       " 5242857,\n",
       " 5242857,\n",
       " 5242857,\n",
       " 5242857,\n",
       " 5242858,\n",
       " 5242858,\n",
       " 5242859,\n",
       " 5242859,\n",
       " 5242859,\n",
       " 5242859,\n",
       " 5242860,\n",
       " 5242860,\n",
       " 5242861,\n",
       " 5242861,\n",
       " 5242861,\n",
       " 5242862,\n",
       " 5242862,\n",
       " 5242863,\n",
       " 5242863,\n",
       " 5242864,\n",
       " 5242866,\n",
       " 5242866,\n",
       " 5242866,\n",
       " 5242866,\n",
       " 5242867,\n",
       " 5242867,\n",
       " 5242867,\n",
       " 5242867,\n",
       " 5242868,\n",
       " 5242868,\n",
       " 5242868,\n",
       " 5242868,\n",
       " 5242868,\n",
       " 5242868,\n",
       " 5242868,\n",
       " 5242868,\n",
       " 5242868,\n",
       " 5242868,\n",
       " 5242869,\n",
       " 5242869,\n",
       " 5242869,\n",
       " 5242869,\n",
       " 5242869,\n",
       " 5242869,\n",
       " 5242869,\n",
       " 5242869,\n",
       " 5242869,\n",
       " 5242869,\n",
       " 5242869,\n",
       " 5242869,\n",
       " 5242869,\n",
       " 5242869,\n",
       " 5242869,\n",
       " 5242869,\n",
       " 5242869,\n",
       " 5242869,\n",
       " 5242869,\n",
       " 5242869,\n",
       " 5242869,\n",
       " 5242869,\n",
       " 5242870,\n",
       " 5242871,\n",
       " 5242871,\n",
       " 5242871,\n",
       " 5242871,\n",
       " 5242871,\n",
       " 5242872,\n",
       " 5242872,\n",
       " 5242872,\n",
       " 5242873,\n",
       " 5242873,\n",
       " 5242873,\n",
       " 5242873,\n",
       " 5242873,\n",
       " 5242873,\n",
       " 5242873,\n",
       " 5242873]"
      ]
     },
     "execution_count": 74,
     "metadata": {},
     "output_type": "execute_result"
    }
   ],
   "source": [
    "n_nodes_counts[:-10]"
   ]
  },
  {
   "cell_type": "code",
   "execution_count": 34,
   "metadata": {},
   "outputs": [],
   "source": [
    "target_metric = (max(abl    ated_metrics) - min(ablated_metrics)) * 0.95 + min(ablated_metrics)\n",
    "target_threshold = [threshold for threshold, metric in reversed(list(zip(thresholds, ablated_metrics))) if metric > target_metric][0]"
   ]
  },
  {
   "cell_type": "code",
   "execution_count": 35,
   "metadata": {},
   "outputs": [
    {
     "data": {
      "application/vnd.jupyter.widget-view+json": {
       "model_id": "fac99f79b0154f2d858a1ad711fd66c3",
       "version_major": 2,
       "version_minor": 0
      },
      "text/plain": [
       "  0%|          | 0/11 [00:00<?, ?it/s]"
      ]
     },
     "metadata": {},
     "output_type": "display_data"
    }
   ],
   "source": [
    "from tqdm.auto import tqdm\n",
    "import numpy as np\n",
    "\n",
    "combined_ies = {}\n",
    "typed_ies = {\n",
    "    \"r\": circuitizer.ie_resid,\n",
    "    \"a\": circuitizer.ie_attn,\n",
    "    \"t\": circuitizer.ie_transcoder,\n",
    "}\n",
    "\n",
    "for layer in tqdm(layers):\n",
    "    for type in typed_ies:\n",
    "        if layer in typed_ies[type]: \n",
    "            ies = typed_ies[type][layer]\n",
    "            for mask in circuitizer.masks:\n",
    "                ies_mask = circuitizer.mask_average(ies, mask)\n",
    "                i = np.nonzero(np.abs(ies_mask) > target_threshold)[0]\n",
    "                w = ies_mask[i]\n",
    "\n",
    "                for idx, weight in zip(i.tolist(), w.tolist()):\n",
    "                    combined_ies[(layer, mask, type, idx)] = weight\n",
    "\n",
    "                # w, i = jax.lax.top_k(ies_mask, 4)\n",
    "                # for idx, weight in zip(i.tolist(), w.tolist()):\n",
    "                #     combined_ies[(layer, mask, type, idx)] = weight"
   ]
  },
  {
   "cell_type": "code",
   "execution_count": 36,
   "metadata": {},
   "outputs": [],
   "source": [
    "combined_ies = [\n",
    "    key + (weight,)\n",
    "    for key, weight in combined_ies.items()\n",
    "]"
   ]
  },
  {
   "cell_type": "code",
   "execution_count": 37,
   "metadata": {},
   "outputs": [
    {
     "data": {
      "application/vnd.jupyter.widget-view+json": {
       "model_id": "8dda289ce8f34a768acd5c5d488f579e",
       "version_major": 2,
       "version_minor": 0
      },
      "text/plain": [
       "  0%|          | 0/11 [00:00<?, ?it/s]"
      ]
     },
     "metadata": {},
     "output_type": "display_data"
    }
   ],
   "source": [
    "typed_ies_error = {\n",
    "    \"er\": circuitizer.ie_error_resid,\n",
    "    \"ea\": circuitizer.ie_error_attn,\n",
    "    \"et\": circuitizer.ie_error_transcoder,\n",
    "}\n",
    "\n",
    "for layer in tqdm(layers):\n",
    "    for type in typed_ies_error:\n",
    "        if layer in typed_ies_error[type]: \n",
    "            ies = typed_ies_error[type][layer]\n",
    "            for mask in circuitizer.masks:\n",
    "                ies_mask = circuitizer.mask_average(ies, mask)\n",
    "                # print(ies_mask.tolist())\n",
    "                # raise\n",
    "                combined_ies.append((layer, mask, type, 0, ies_mask.tolist()))"
   ]
  },
  {
   "cell_type": "code",
   "execution_count": 38,
   "metadata": {},
   "outputs": [],
   "source": [
    "combined_ies = sorted(combined_ies, key=lambda x: -x[-1])"
   ]
  },
  {
   "cell_type": "code",
   "execution_count": 39,
   "metadata": {},
   "outputs": [
    {
     "data": {
      "text/html": [
       "<script> (()=>{ if (customElements.get('treescope-container') === undefined) { class TreescopeContainer extends HTMLElement { constructor() { super(); this.attachShadow({mode: \"open\"}); this.defns = {}; this.state = {}; } } customElements.define(\"treescope-container\", TreescopeContainer); } if (customElements.get('treescope-run-here') === undefined) { class RunHere extends HTMLElement { constructor() { super() } connectedCallback() { const run = child => { const fn = new Function(child.textContent); child.textContent = \"\"; fn.call(this); this.remove(); }; const child = this.querySelector(\"script\"); if (child) { run(child); } else { new MutationObserver(()=>{ run(this.querySelector(\"script\")); }).observe(this, {childList: true}); } } } customElements.define(\"treescope-run-here\", RunHere); } })(); </script> <treescope-container class=\"treescope_out_501e682dbb4f4e839bd1a742f6d492fa\" ></treescope-container> <treescope-run-here><script type=\"application/octet-stream\"> const root = ( Array.from(document.getElementsByClassName( \"treescope_out_501e682dbb4f4e839bd1a742f6d492fa\")) .filter((elt) => !elt.dataset.setup) )[0]; root.dataset.setup = 1; const msg = document.createElement(\"span\"); msg.style = \"color: #aaaaaa; font-family: monospace; transition: opacity 0.2s; opacity: 0.0;\"; msg.textContent = \"(Loading...)\"; root.state.loadingMsg = msg; root.shadowRoot.appendChild(msg); root.state.chain = new Promise((resolve, reject) => { const observer = new IntersectionObserver((entries) => { for (const entry of entries) { if (entry.isIntersecting) { resolve(); observer.disconnect(); return; } } }, {rootMargin: \"1000px\"}); window.setTimeout(() => { if (root.loadingMsg) { root.loadingMsg.style.opacity = \"1.0\"; } observer.observe(root); }, 0); }); root.state.deferring = false; const _insertNode = (node) => { for (let oldScript of node.querySelectorAll(\"script\")) { let newScript = document.createElement(\"script\"); newScript.type = oldScript.type; newScript.textContent = oldScript.textContent; oldScript.parentNode.replaceChild(newScript, oldScript); } if (root.state.loadingMsg) { root.state.loadingMsg.remove(); root.state.loadingMsg = null; } root.shadowRoot.appendChild(node); }; root.defns.insertContent = ((contentNode, compressed) => { if (compressed) { root.state.deferring = true; } if (root.state.deferring) { root.state.chain = (async () => { await root.state.chain; if (compressed) { const encoded = contentNode.textContent; const blob = new Blob([ Uint8Array.from(atob(encoded), (m) => m.codePointAt(0)) ]); const reader = blob.stream().pipeThrough( new DecompressionStream(\"deflate\") ).pipeThrough( new TextDecoderStream(\"utf-8\") ).getReader(); const parts = []; while (true) { const step = await reader.read(); if (step.done) { break; } parts.push(step.value); } const tpl = document.createElement('template'); tpl.innerHTML = parts.join(\"\"); _insertNode(tpl.content); } else { _insertNode(contentNode.content); } })(); } else { _insertNode(contentNode.content); } }); </script></treescope-run-here><div style=\"display:none\"> <script type=\"application/octet-stream\" >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</script> <treescope-run-here><script type=\"application/octet-stream\"> const root = ( Array.from(document.getElementsByClassName( \"treescope_out_501e682dbb4f4e839bd1a742f6d492fa\")) .filter((elt) => !elt.dataset['step0']) )[0]; root.dataset['step0'] = 1; root.defns.insertContent( this.parentNode.querySelector('script[type=\"application/octet-stream\"]'), true ); this.parentNode.remove(); </script></treescope-run-here> </div>"
      ],
      "text/plain": [
       "<IPython.core.display.HTML object>"
      ]
     },
     "metadata": {},
     "output_type": "display_data"
    },
    {
     "data": {
      "text/html": [
       "<treescope-run-here><script type=\"application/octet-stream\"> const root = ( Array.from(document.getElementsByClassName( \"treescope_out_501e682dbb4f4e839bd1a742f6d492fa\")) .filter((elt) => !elt.dataset.stolen) )[0]; root.dataset.stolen = 1; this.parentNode.replaceChild(root, this); </script></treescope-run-here>"
      ],
      "text/plain": [
       "[(8, 'prompt', 'ea', 0, 0.18912188708782196),\n",
       " (14, 'arrow', 'er', 0, 0.04667269065976143),\n",
       " (13, 'arrow', 'er', 0, 0.03711532801389694),\n",
       " (12, 'arrow', 'er', 0, 0.03687593713402748),\n",
       " (11, 'arrow', 'er', 0, 0.028419092297554016),\n",
       " (11, 'output', 'er', 0, 0.016914959996938705),\n",
       " (11, 'input', 'er', 0, 0.013501716777682304),\n",
       " (12, 'input', 'er', 0, 0.013418298214673996),\n",
       " (10, 'input', 'er', 0, 0.013065731152892113),\n",
       " (10, 'arrow', 'er', 0, 0.012834489345550537),\n",
       " (16, 'arrow', 'er', 0, 0.011272262781858444),\n",
       " (9, 'input', 'er', 0, 0.010690001770853996),\n",
       " (10, 'output', 'r', 31539, 0.009122243151068687),\n",
       " (11, 'output', 'r', 5971, 0.008917017839848995),\n",
       " (9, 'output', 'r', 28491, 0.008589409291744232),\n",
       " (15, 'arrow', 'er', 0, 0.008407769724726677),\n",
       " (12, 'output', 'er', 0, 0.008034736849367619),\n",
       " (12, 'arrow', 'r', 22136, 0.007973853498697281),\n",
       " (11, 'arrow', 'a', 4080, 0.007461613975465298),\n",
       " (10, 'output', 'r', 24942, 0.007294937968254089),\n",
       " (7, 'output', 'er', 0, 0.007218386046588421),\n",
       " (8, 'output', 'et', 0, 0.0069750165566802025),\n",
       " (9, 'arrow', 'er', 0, 0.006920747458934784),\n",
       " (11, 'arrow', 'et', 0, 0.006815570406615734),\n",
       " (14, 'arrow', 'r', 27659, 0.00668629165738821),\n",
       " (15, 'arrow', 'r', 14531, 0.006228180136531591),\n",
       " (10, 'output', 'er', 0, 0.006211680360138416),\n",
       " (12, 'arrow', 'r', 11618, 0.006146292667835951),\n",
       " (16, 'arrow', 'r', 19087, 0.006068526767194271),\n",
       " (9, 'output', 't', 3442, 0.006003871560096741),\n",
       " (16, 'arrow', 'r', 5445, 0.005795613396912813),\n",
       " (10, 'output', 'r', 20636, 0.0056126001290977),\n",
       " (15, 'arrow', 'et', 0, 0.005584307946264744),\n",
       " (9, 'output', 'r', 16425, 0.005500805098563433),\n",
       " (14, 'arrow', 'r', 31950, 0.00531836086884141),\n",
       " (11, 'prompt', 'er', 0, 0.0052214935421943665),\n",
       " (15, 'arrow', 'r', 6663, 0.005219798069447279),\n",
       " (10, 'output', 'r', 29472, 0.005133264698088169),\n",
       " (13, 'arrow', 'r', 22840, 0.005043341312557459),\n",
       " (6, 'output', 'r', 19892, 0.004885741509497166),\n",
       " (13, 'arrow', 't', 10580, 0.004870689939707518),\n",
       " (15, 'arrow', 'r', 13830, 0.0047426288947463036),\n",
       " (6, 'output', 'er', 0, 0.004673415794968605),\n",
       " (9, 'output', 'r', 32424, 0.004671826492995024),\n",
       " (8, 'prompt', 'r', 21338, 0.004556332714855671),\n",
       " (16, 'arrow', 'r', 25826, 0.00453529879450798),\n",
       " (11, 'arrow', 'r', 19051, 0.004533370491117239),\n",
       " (14, 'arrow', 'r', 7157, 0.004460714291781187),\n",
       " (12, 'arrow', 'et', 0, 0.004409285727888346),\n",
       " (15, 'arrow', 'r', 26928, 0.004370299633592367),\n",
       " (13, 'arrow', 'et', 0, 0.004322022665292025),\n",
       " (8, 'output', 'r', 21402, 0.004247972276061773),\n",
       " (14, 'arrow', 'r', 29232, 0.004202493466436863),\n",
       " (14, 'arrow', 'et', 0, 0.004192355088889599),\n",
       " (14, 'arrow', 'r', 10111, 0.004162600263953209),\n",
       " (13, 'arrow', 'r', 1069, 0.004151948727667332),\n",
       " (7, 'arrow', 'er', 0, 0.004125028848648071),\n",
       " (12, 'arrow', 'r', 18840, 0.004103373270481825),\n",
       " (11, 'arrow', 't', 28850, 0.003953803796321154),\n",
       " (15, 'arrow', 'r', 25945, 0.0039483532309532166),\n",
       " (7, 'prompt', 't', 25687, 0.003773904638364911),\n",
       " (16, 'arrow', 'r', 16396, 0.0037243126425892115),\n",
       " (6, 'input', 'r', 6060, 0.0036839605309069157),\n",
       " (7, 'input', 'r', 22736, 0.0036783970426768064),\n",
       " (12, 'arrow', 'ea', 0, 0.003662863513454795),\n",
       " (14, 'arrow', 'r', 24868, 0.0036473609507083893),\n",
       " (15, 'arrow', 'ea', 0, 0.0036249225959181786),\n",
       " (13, 'arrow', 'r', 16099, 0.0036046700552105904),\n",
       " (16, 'arrow', 'r', 16628, 0.003596897004172206),\n",
       " (12, 'input', 'r', 5596, 0.0035651330836117268),\n",
       " (15, 'arrow', 'r', 18849, 0.0035538841038942337),\n",
       " (9, 'prompt', 'r', 29188, 0.0035487068817019463),\n",
       " (7, 'output', 'r', 25335, 0.003503157990053296),\n",
       " (15, 'arrow', 'r', 7118, 0.003494291566312313),\n",
       " (8, 'arrow', 'ea', 0, 0.003493135329335928),\n",
       " (6, 'prompt', 'er', 0, 0.003485039807856083),\n",
       " (12, 'arrow', 'r', 6780, 0.0034501508343964815),\n",
       " (9, 'arrow', 'r', 19243, 0.0034348652698099613),\n",
       " (10, 'output', 'r', 12895, 0.003410435514524579),\n",
       " (6, 'arrow', 'er', 0, 0.0033588914666324854),\n",
       " (16, 'newline', 'er', 0, 0.0033419914543628693),\n",
       " (9, 'arrow', 'ea', 0, 0.0033310435246676207),\n",
       " (14, 'arrow', 'r', 29566, 0.003305115969851613),\n",
       " (7, 'arrow', 'r', 16810, 0.0032939088996499777),\n",
       " (10, 'output', 'r', 4338, 0.0032583053689450026),\n",
       " (11, 'output', 'r', 11050, 0.0032012637238949537),\n",
       " (10, 'arrow', 'a', 18907, 0.0031960192136466503),\n",
       " (12, 'arrow', 'r', 14612, 0.0031675854697823524),\n",
       " (14, 'arrow', 'r', 28220, 0.003157388186082244),\n",
       " (10, 'input', 'r', 32178, 0.0031218696385622025),\n",
       " (8, 'output', 'r', 19912, 0.003102800576016307),\n",
       " (7, 'output', 'r', 12527, 0.0030909166671335697),\n",
       " (12, 'newline', 'er', 0, 0.003061105962842703),\n",
       " (10, 'input', 'et', 0, 0.0030424827709794044),\n",
       " (13, 'arrow', 'r', 1777, 0.0029967741575092077),\n",
       " (14, 'output', 'er', 0, 0.0029543405398726463),\n",
       " (9, 'input', 'r', 22501, 0.002910710871219635),\n",
       " (11, 'arrow', 'a', 7345, 0.002878223778679967),\n",
       " (10, 'arrow', 'r', 20168, 0.002871666569262743),\n",
       " (6, 'input', 'et', 0, 0.002799267414957285)]"
      ]
     },
     "execution_count": 39,
     "metadata": {},
     "output_type": "execute_result"
    }
   ],
   "source": [
    "combined_ies[:100]"
   ]
  },
  {
   "cell_type": "code",
   "execution_count": 42,
   "metadata": {},
   "outputs": [
    {
     "data": {
      "text/html": [
       "<script> (()=>{ if (customElements.get('treescope-container') === undefined) { class TreescopeContainer extends HTMLElement { constructor() { super(); this.attachShadow({mode: \"open\"}); this.defns = {}; this.state = {}; } } customElements.define(\"treescope-container\", TreescopeContainer); } if (customElements.get('treescope-run-here') === undefined) { class RunHere extends HTMLElement { constructor() { super() } connectedCallback() { const run = child => { const fn = new Function(child.textContent); child.textContent = \"\"; fn.call(this); this.remove(); }; const child = this.querySelector(\"script\"); if (child) { run(child); } else { new MutationObserver(()=>{ run(this.querySelector(\"script\")); }).observe(this, {childList: true}); } } } customElements.define(\"treescope-run-here\", RunHere); } })(); </script> <treescope-container class=\"treescope_out_ba5a5afa36df4050b70ca6c34fa5db1b\" ></treescope-container> <treescope-run-here><script type=\"application/octet-stream\"> const root = ( Array.from(document.getElementsByClassName( \"treescope_out_ba5a5afa36df4050b70ca6c34fa5db1b\")) .filter((elt) => !elt.dataset.setup) )[0]; root.dataset.setup = 1; const msg = document.createElement(\"span\"); msg.style = \"color: #aaaaaa; font-family: monospace; transition: opacity 0.2s; opacity: 0.0;\"; msg.textContent = \"(Loading...)\"; root.state.loadingMsg = msg; root.shadowRoot.appendChild(msg); root.state.chain = new Promise((resolve, reject) => { const observer = new IntersectionObserver((entries) => { for (const entry of entries) { if (entry.isIntersecting) { resolve(); observer.disconnect(); return; } } }, {rootMargin: \"1000px\"}); window.setTimeout(() => { if (root.loadingMsg) { root.loadingMsg.style.opacity = \"1.0\"; } observer.observe(root); }, 0); }); root.state.deferring = false; const _insertNode = (node) => { for (let oldScript of node.querySelectorAll(\"script\")) { let newScript = document.createElement(\"script\"); newScript.type = oldScript.type; newScript.textContent = oldScript.textContent; oldScript.parentNode.replaceChild(newScript, oldScript); } if (root.state.loadingMsg) { root.state.loadingMsg.remove(); root.state.loadingMsg = null; } root.shadowRoot.appendChild(node); }; root.defns.insertContent = ((contentNode, compressed) => { if (compressed) { root.state.deferring = true; } if (root.state.deferring) { root.state.chain = (async () => { await root.state.chain; if (compressed) { const encoded = contentNode.textContent; const blob = new Blob([ Uint8Array.from(atob(encoded), (m) => m.codePointAt(0)) ]); const reader = blob.stream().pipeThrough( new DecompressionStream(\"deflate\") ).pipeThrough( new TextDecoderStream(\"utf-8\") ).getReader(); const parts = []; while (true) { const step = await reader.read(); if (step.done) { break; } parts.push(step.value); } const tpl = document.createElement('template'); tpl.innerHTML = parts.join(\"\"); _insertNode(tpl.content); } else { _insertNode(contentNode.content); } })(); } else { _insertNode(contentNode.content); } }); </script></treescope-run-here><div style=\"display:none\"> <script type=\"application/octet-stream\" >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</script> <treescope-run-here><script type=\"application/octet-stream\"> const root = ( Array.from(document.getElementsByClassName( \"treescope_out_ba5a5afa36df4050b70ca6c34fa5db1b\")) .filter((elt) => !elt.dataset['step0']) )[0]; root.dataset['step0'] = 1; root.defns.insertContent( this.parentNode.querySelector('script[type=\"application/octet-stream\"]'), true ); this.parentNode.remove(); </script></treescope-run-here> </div>"
      ],
      "text/plain": [
       "<IPython.core.display.HTML object>"
      ]
     },
     "metadata": {},
     "output_type": "display_data"
    },
    {
     "data": {
      "text/html": [
       "<treescope-run-here><script type=\"application/octet-stream\"> const root = ( Array.from(document.getElementsByClassName( \"treescope_out_ba5a5afa36df4050b70ca6c34fa5db1b\")) .filter((elt) => !elt.dataset.stolen) )[0]; root.dataset.stolen = 1; this.parentNode.replaceChild(root, this); </script></treescope-run-here>"
      ],
      "text/plain": [
       "[['a', 11, 'arrow', 4080, 0.7506580352783203],\n",
       " ['a', 10, 'arrow', 18907, 0.32885661721229553],\n",
       " ['ea', 8, 'prompt', 0, 0.25985220074653625],\n",
       " ['a', 11, 'arrow', 24084, 0.2539865970611572],\n",
       " ['a', 11, 'arrow', 7345, 0.2489675134420395],\n",
       " ['a', 10, 'output', 18907, 0.24180087447166443],\n",
       " ['a', 12, 'arrow', 6492, 0.21518652141094208],\n",
       " ['a', 13, 'arrow', 4745, 0.21424899995326996],\n",
       " ['a', 11, 'arrow', 3528, 0.21369224786758423],\n",
       " ['a', 10, 'arrow', 30196, 0.14977753162384033],\n",
       " ['a', 13, 'arrow', 5151, 0.13242927193641663],\n",
       " ['a', 11, 'arrow', 29382, 0.12703268229961395],\n",
       " ['a', 9, 'arrow', 30422, 0.12628766894340515],\n",
       " ['a', 11, 'arrow', 23914, 0.11989074945449829],\n",
       " ['a', 10, 'arrow', 31128, 0.11808712780475616],\n",
       " ['a', 12, 'arrow', 24815, 0.11454211920499802],\n",
       " ['a', 7, 'output', 16193, 0.11348624527454376],\n",
       " ['a', 6, 'prompt', 30905, 0.11110686510801315],\n",
       " ['a', 11, 'input', 24084, 0.11046935617923737],\n",
       " ['a', 11, 'input', 30551, 0.10848592221736908],\n",
       " ['a', 11, 'input', 25963, 0.10084160417318344],\n",
       " ['a', 8, 'output', 12423, 0.09670715034008026],\n",
       " ['a', 11, 'arrow', 132, 0.09597808867692947],\n",
       " ['a', 16, 'arrow', 26950, 0.09281069040298462],\n",
       " ['a', 13, 'arrow', 30355, 0.08647042512893677],\n",
       " ['a', 9, 'input', 30422, 0.08515353500843048],\n",
       " ['a', 11, 'arrow', 6975, 0.08458726853132248],\n",
       " ['a', 11, 'input', 3528, 0.08040756732225418],\n",
       " ['a', 13, 'arrow', 15548, 0.07793214917182922],\n",
       " ['a', 9, 'output', 20099, 0.0748707726597786],\n",
       " ['a', 12, 'arrow', 9137, 0.07463555783033371],\n",
       " ['a', 11, 'arrow', 24250, 0.07212164252996445],\n",
       " ['a', 7, 'prompt', 17961, 0.07165984809398651],\n",
       " ['a', 10, 'arrow', 31964, 0.07049548625946045],\n",
       " ['a', 13, 'arrow', 17840, 0.06974411755800247],\n",
       " ['a', 8, 'output', 29606, 0.06762855499982834],\n",
       " ['a', 12, 'arrow', 11334, 0.06740531325340271],\n",
       " ['a', 7, 'output', 24464, 0.0671708807349205],\n",
       " ['a', 9, 'arrow', 3699, 0.06692551076412201],\n",
       " ['a', 8, 'input', 29606, 0.06609345972537994],\n",
       " ['a', 9, 'input', 10121, 0.06532280892133713],\n",
       " ['a', 6, 'arrow', 32736, 0.06465433537960052],\n",
       " ['a', 11, 'output', 3528, 0.06426970660686493],\n",
       " ['a', 7, 'output', 3570, 0.06188572943210602],\n",
       " ['a', 13, 'arrow', 21151, 0.06109173968434334],\n",
       " ['a', 11, 'arrow', 15611, 0.061014723032712936],\n",
       " ['a', 8, 'input', 1102, 0.060930412262678146],\n",
       " ['a', 6, 'input', 29059, 0.06056225299835205],\n",
       " ['a', 8, 'newline', 32349, 0.06011004000902176],\n",
       " ['a', 8, 'arrow', 18444, 0.05934614688158035],\n",
       " ['a', 8, 'input', 23841, 0.05843329802155495],\n",
       " ['a', 10, 'arrow', 12147, 0.05832074582576752],\n",
       " ['er', 14, 'arrow', 0, 0.05777547508478165],\n",
       " ['a', 13, 'arrow', 6077, 0.05575604736804962],\n",
       " ['a', 7, 'newline', 28287, 0.05573801323771477],\n",
       " ['a', 11, 'arrow', 20935, 0.055556949228048325],\n",
       " ['a', 12, 'arrow', 11345, 0.05515478923916817],\n",
       " ['a', 8, 'output', 31566, 0.05456184223294258],\n",
       " ['a', 11, 'arrow', 4522, 0.053785908967256546],\n",
       " ['a', 11, 'input', 32219, 0.05317726731300354],\n",
       " ['a', 6, 'input', 32736, 0.05151086300611496],\n",
       " ['a', 12, 'arrow', 28019, 0.05129891633987427],\n",
       " ['a', 8, 'output', 28812, 0.05086845904588699],\n",
       " ['a', 6, 'arrow', 833, 0.050552014261484146],\n",
       " ['a', 7, 'arrow', 538, 0.05022735148668289],\n",
       " ['a', 7, 'arrow', 13497, 0.05014926940202713],\n",
       " ['a', 9, 'output', 10121, 0.04978646710515022],\n",
       " ['a', 13, 'arrow', 22100, 0.049388784915208817],\n",
       " ['a', 9, 'arrow', 11624, 0.049090392887592316],\n",
       " ['a', 8, 'newline', 4213, 0.0490826815366745],\n",
       " ['a', 10, 'arrow', 6051, 0.048936307430267334],\n",
       " ['a', 10, 'output', 30196, 0.048778388649225235],\n",
       " ['a', 12, 'arrow', 21407, 0.048734430223703384],\n",
       " ['a', 7, 'output', 31467, 0.04839739203453064],\n",
       " ['a', 12, 'arrow', 22504, 0.04804452508687973],\n",
       " ['a', 7, 'newline', 31766, 0.04803304746747017],\n",
       " ['a', 7, 'prompt', 13170, 0.04800529405474663],\n",
       " ['a', 6, 'arrow', 25473, 0.04800485819578171],\n",
       " ['a', 13, 'arrow', 2844, 0.04782572016119957],\n",
       " ['a', 10, 'arrow', 21817, 0.04742930829524994],\n",
       " ['er', 13, 'arrow', 0, 0.047115836292505264],\n",
       " ['a', 11, 'arrow', 21699, 0.0469721294939518],\n",
       " ['a', 13, 'arrow', 26183, 0.04653647914528847],\n",
       " ['a', 10, 'arrow', 16620, 0.04633978009223938],\n",
       " ['a', 11, 'input', 16999, 0.04620660841464996],\n",
       " ['a', 10, 'output', 6051, 0.04606175422668457],\n",
       " ['a', 9, 'input', 3699, 0.04580915719270706],\n",
       " ['a', 6, 'prompt', 19517, 0.045599669218063354],\n",
       " ['a', 12, 'output', 6492, 0.04492947831749916],\n",
       " ['a', 7, 'output', 16493, 0.04471995681524277],\n",
       " ['a', 12, 'arrow', 15472, 0.04448691010475159],\n",
       " ['a', 8, 'newline', 19518, 0.04435942322015762],\n",
       " ['a', 7, 'newline', 17961, 0.04376508295536041],\n",
       " ['a', 12, 'arrow', 20529, 0.042944781482219696],\n",
       " ['er', 11, 'arrow', 0, 0.042884379625320435],\n",
       " ['a', 13, 'arrow', 2807, 0.042858630418777466],\n",
       " ['a', 11, 'input', 4496, 0.04208576679229736],\n",
       " ['a', 11, 'arrow', 25672, 0.042009927332401276],\n",
       " ['a', 10, 'arrow', 7627, 0.04195570945739746],\n",
       " ['a', 10, 'output', 16987, 0.041208114475011826]]"
      ]
     },
     "execution_count": 42,
     "metadata": {},
     "output_type": "execute_result"
    }
   ],
   "source": [
    "import json\n",
    "with open(\"micrlhf-progress/all-graph-antonyms.json\") as f:\n",
    "    all_graph = json.load(f)\n",
    "\n",
    "nodes = all_graph[\"nodes\"]\n",
    "\n",
    "nodes[:100]"
   ]
  },
  {
   "cell_type": "code",
   "execution_count": 41,
   "metadata": {},
   "outputs": [],
   "source": [
    "important_feats_masks = {}\n",
    "for mask in circuitizer.masks:\n",
    "    important_feats_masks[mask] = [\n",
    "        (type, layer, feat) for layer, f_mask, type, feat, _ in combined_ies if f_mask == mask\n",
    "        ]"
   ]
  },
  {
   "cell_type": "code",
   "execution_count": 20,
   "metadata": {},
   "outputs": [],
   "source": [
    "from collections import defaultdict\n",
    "flat_feats = defaultdict(list)\n",
    "for k, v in important_feats_masks.items():\n",
    "    for type, layer, feat in v:\n",
    "        flat_feats[(k, type, layer)].append(feat)"
   ]
  },
  {
   "cell_type": "code",
   "execution_count": 36,
   "metadata": {},
   "outputs": [
    {
     "data": {
      "application/vnd.jupyter.widget-view+json": {
       "model_id": "3f013b142d974d358eb521991fe903d5",
       "version_major": 2,
       "version_minor": 0
      },
      "text/plain": [
       "  0%|          | 0/320 [00:00<?, ?it/s]"
      ]
     },
     "metadata": {},
     "output_type": "display_data"
    },
    {
     "data": {
      "application/vnd.jupyter.widget-view+json": {
       "model_id": "0589ecebccde4b44a58baac2a7f3a624",
       "version_major": 2,
       "version_minor": 0
      },
      "text/plain": [
       "  0%|          | 0/81 [00:00<?, ?it/s, ('arrow', 'a', 16)]"
      ]
     },
     "metadata": {},
     "output_type": "display_data"
    },
    {
     "name": "stdout",
     "output_type": "stream",
     "text": [
      "dict_keys([('er', 16, 'arrow'), ('er', 16, 'input'), ('er', 16, 'newline'), ('er', 16, 'output'), ('er', 16, 'prompt'), ('r', 16, 'arrow'), ('r', 16, 'input'), ('r', 16, 'newline'), ('r', 16, 'output'), ('r', 16, 'prompt')]) [26950, 25539, 1085, 14538, 19232, 7123, 20911, 12264, 12539, 12413, 32120, 26574, 23636, 23114, 178, 12793]\n",
      "('er', 16, 'arrow') (16,)\n",
      "('er', 16, 'input') (16,)\n",
      "('er', 16, 'newline') (16,)\n",
      "('er', 16, 'output') (16,)\n",
      "('er', 16, 'prompt') (16,)\n",
      "('r', 16, 'arrow') (16, 32768)\n",
      "('r', 16, 'input') (16, 32768)\n",
      "('r', 16, 'newline') (16, 32768)\n",
      "('r', 16, 'output') (16, 32768)\n",
      "('r', 16, 'prompt') (16, 32768)\n",
      "[(6.0595695686060935e-05, ('er', 16, 'input', 0), ('a', 16, 'arrow', 26950)), (4.51656014774926e-05, ('r', 16, 'prompt', 5241), ('a', 16, 'arrow', 26950)), (3.955366264563054e-05, ('r', 16, 'arrow', 29818), ('a', 16, 'arrow', 26950)), (3.92732436012011e-05, ('r', 16, 'arrow', 24991), ('a', 16, 'arrow', 26950)), (3.684913463075645e-05, ('er', 16, 'prompt', 0), ('a', 16, 'arrow', 26950)), (2.9562317649833858e-05, ('er', 16, 'arrow', 0), ('a', 16, 'arrow', 26950)), (2.319858867849689e-05, ('r', 16, 'arrow', 17821), ('a', 16, 'arrow', 26950)), (2.309978663106449e-05, ('r', 16, 'input', 11940), ('a', 16, 'arrow', 26950)), (2.1727033526985906e-05, ('r', 16, 'input', 1925), ('a', 16, 'arrow', 26950)), (2.1575855498667806e-05, ('r', 16, 'arrow', 4864), ('a', 16, 'arrow', 26950)), (1.8731390809989534e-05, ('r', 16, 'arrow', 2353), ('a', 16, 'arrow', 26950)), (1.5680485375924036e-05, ('r', 16, 'input', 471), ('a', 16, 'arrow', 26950)), (1.5463583622477017e-05, ('er', 16, 'newline', 0), ('a', 16, 'arrow', 26950)), (1.5248271665768698e-05, ('r', 16, 'input', 1913), ('a', 16, 'arrow', 26950)), (1.2924692782689817e-05, ('r', 16, 'arrow', 21347), ('a', 16, 'arrow', 26950)), (1.2538909686554689e-05, ('r', 16, 'input', 23790), ('a', 16, 'arrow', 26950)), (1.1613489732553717e-05, ('r', 16, 'newline', 1925), ('a', 16, 'arrow', 26950)), (1.1381651347619481e-05, ('r', 16, 'input', 12482), ('a', 16, 'arrow', 26950)), (1.095333482226124e-05, ('r', 16, 'output', 15037), ('a', 16, 'arrow', 26950)), (1.0365569323766977e-05, ('r', 16, 'arrow', 27427), ('a', 16, 'arrow', 26950)), (9.921205673890654e-06, ('r', 16, 'arrow', 7141), ('a', 16, 'arrow', 26950)), (9.598125870979857e-06, ('r', 16, 'arrow', 22168), ('a', 16, 'arrow', 26950)), (9.365824553242419e-06, ('r', 16, 'input', 14619), ('a', 16, 'arrow', 26950)), (9.272104762203526e-06, ('r', 16, 'arrow', 25420), ('a', 16, 'arrow', 26950)), (9.169873919745442e-06, ('r', 16, 'arrow', 8695), ('a', 16, 'arrow', 26950)), (8.940999578044284e-06, ('r', 16, 'input', 5232), ('a', 16, 'arrow', 26950)), (8.259105925390031e-06, ('r', 16, 'arrow', 28952), ('a', 16, 'arrow', 26950)), (7.690877282584552e-06, ('r', 16, 'input', 1126), ('a', 16, 'arrow', 26950)), (7.600306616950547e-06, ('r', 16, 'output', 8078), ('a', 16, 'arrow', 26950)), (7.406010354316095e-06, ('r', 16, 'input', 28017), ('a', 16, 'arrow', 26950)), (7.295067916857079e-06, ('r', 16, 'input', 21343), ('a', 16, 'arrow', 26950)), (7.205359906947706e-06, ('r', 16, 'arrow', 25826), ('a', 16, 'arrow', 26950))]\n"
     ]
    },
    {
     "ename": "ZeroDivisionError",
     "evalue": "division by zero",
     "output_type": "error",
     "traceback": [
      "\u001b[0;31m---------------------------------------------------------------------------\u001b[0m",
      "\u001b[0;31mZeroDivisionError\u001b[0m                         Traceback (most recent call last)",
      "Cell \u001b[0;32mIn[36], line 36\u001b[0m\n\u001b[1;32m     34\u001b[0m             graph\u001b[38;5;241m.\u001b[39mextend([(weight,  key \u001b[38;5;241m+\u001b[39m (upstream_feature,), (\u001b[38;5;28mtype\u001b[39m[\u001b[38;5;241m1\u001b[39m], \u001b[38;5;28mtype\u001b[39m[\u001b[38;5;241m2\u001b[39m], \u001b[38;5;28mtype\u001b[39m[\u001b[38;5;241m0\u001b[39m], batch_features[elem],) ) \u001b[38;5;28;01mfor\u001b[39;00m weight, key, upstream_feature \u001b[38;5;129;01min\u001b[39;00m edges])\n\u001b[1;32m     35\u001b[0m             \u001b[38;5;28mprint\u001b[39m(graph)\n\u001b[0;32m---> 36\u001b[0m             \u001b[38;5;241;43m1\u001b[39;49m\u001b[38;5;241;43m/\u001b[39;49m\u001b[38;5;241;43m0\u001b[39;49m\n\u001b[1;32m     38\u001b[0m         \u001b[38;5;66;03m# # edges = circuitizer.compute_edges(*feature, mask, layer_window=1)\u001b[39;00m\n\u001b[1;32m     39\u001b[0m         \u001b[38;5;66;03m# graph.extend([(weight, feature, downstream_feature) for weight, _, downstream_feature in edges])\u001b[39;00m\n\u001b[1;32m     40\u001b[0m     \n\u001b[0;32m   (...)\u001b[0m\n\u001b[1;32m     71\u001b[0m \u001b[38;5;66;03m#     #     graph.extend([(weight, upstream_feature_key + (upstream_feature,), downstream_feature[:2] + (mask,) + downstream_feature[2:])\u001b[39;00m\n\u001b[1;32m     72\u001b[0m \u001b[38;5;66;03m#     #                   for weight, upstream_feature_key, upstream_feature in edges])\u001b[39;00m\n",
      "\u001b[0;31mZeroDivisionError\u001b[0m: division by zero"
     ]
    }
   ],
   "source": [
    "from tqdm.auto import trange\n",
    "import jax.numpy as jnp\n",
    "graph = []\n",
    "\n",
    "batch_size = 16\n",
    "k = 32\n",
    "for type, features in tqdm(sorted(flat_feats.items(), key=lambda x: (-x[0][-1], x[0][-2], x[0][-3]))):\n",
    "    mask, feature_type, layer = type\n",
    "    mask = jnp.array(list(circuitizer.masks.keys()).index(mask))\n",
    "    for batch in trange(0, len(features), batch_size, postfix=str(type)):\n",
    "        batch_features = features[batch:batch+batch_size]\n",
    "        orig_length = len(batch_features)\n",
    "        batch_features = batch_features + [0] * (batch_size - len(batch_features))\n",
    "        feature_effectss = jax.vmap(lambda x: circuitizer.compute_feature_effects(feature_type, layer, x, mask, layer_window=1))(jnp.asarray(batch_features))\n",
    "        # feature_effectss = circuitizer.compute_feature_effects(feature_type, layer, batch_features, mask, layer_window=1)\n",
    "        top_effects = defaultdict(list)\n",
    "        for key, featuress in feature_effectss.items():\n",
    "            for elem, feature_effects in enumerate(featuress):\n",
    "                if elem >= orig_length:\n",
    "                    continue\n",
    "                if feature_effects.ndim == 0:\n",
    "                    top_effects[elem].append((float(feature_effects), key, 0))\n",
    "                    continue\n",
    "                effects, indices = jax.lax.top_k(jnp.abs(feature_effects), k)\n",
    "                for i, e in zip(indices.tolist(), effects.tolist()):\n",
    "                    top_effects[elem].append((e, key, i))\n",
    "        for elem, effects in top_effects.items():\n",
    "            effects.sort(reverse=True)\n",
    "            edges = effects[:k]\n",
    "            graph.extend([(weight,  key + (upstream_feature,), (type[1], type[2], type[0], batch_features[elem],) ) for weight, key, upstream_feature in edges])\n",
    "        \n",
    "        # # edges = circuitizer.compute_edges(*feature, mask, layer_window=1)\n",
    "        # graph.extend([(weight, feature, downstream_feature) for weight, _, downstream_feature in edges])\n",
    "    \n",
    "        # for feature in tqdm(batch_features):\n",
    "        #     feature_effects = circuitizer.compute_feature_effects(feature_type, layer, feature, mask, layer_window=1)\n",
    "        #     top_effects = []\n",
    "        #     for key, features in feature_effects.items():\n",
    "        #         if features.ndim == 0:\n",
    "        #             top_effects.append((float(features), key, 0))\n",
    "        #             continue\n",
    "        #         effects, indices = jax.lax.top_k(jnp.abs(features), k)\n",
    "        #         for i, e in zip(indices.tolist(), effects.tolist()):\n",
    "        #             top_effects.append((e, key, i))\n",
    "        #     top_effects.sort(reverse=True)\n",
    "        #     edges = top_effects[:k]\n",
    "            \n",
    "        #     # edges = circuitizer.compute_edges(*feature, mask, layer_window=1)\n",
    "        #     graph.extend([(weight, feature, downstream_feature) for weight, _, downstream_feature in edges])\n",
    "\n",
    "\n",
    "\n",
    "# for mask, features in tqdm(important_feats_masks.items()):\n",
    "#     for batch in trange(0, len(features), batch_size):\n",
    "#         batch_features = features[batch:batch+batch_size]\n",
    "        \n",
    "        \n",
    "#         for feature in tqdm(batch_features):\n",
    "#             # edges = circuitizer.compute_edges(*feature, mask, layer_window=1)\n",
    "#             graph.extend([(weight, feature, downstream_feature) for weight, _, downstream_feature in edges])\n",
    "\n",
    "\n",
    "#     # for downstream_feature in tqdm(features):\n",
    "#     #     edges = compute_edges(downstream_feature, mask, layer_window=1)\n",
    "#     #     graph.extend([(weight, upstream_feature_key + (upstream_feature,), downstream_feature[:2] + (mask,) + downstream_feature[2:])\n",
    "#     #                   for weight, upstream_feature_key, upstream_feature in edges])"
   ]
  },
  {
   "cell_type": "code",
   "execution_count": 37,
   "metadata": {},
   "outputs": [
    {
     "data": {
      "text/html": [
       "<script> (()=>{ if (customElements.get('treescope-container') === undefined) { class TreescopeContainer extends HTMLElement { constructor() { super(); this.attachShadow({mode: \"open\"}); this.defns = {}; this.state = {}; } } customElements.define(\"treescope-container\", TreescopeContainer); } if (customElements.get('treescope-run-here') === undefined) { class RunHere extends HTMLElement { constructor() { super() } connectedCallback() { const run = child => { const fn = new Function(child.textContent); child.textContent = \"\"; fn.call(this); this.remove(); }; const child = this.querySelector(\"script\"); if (child) { run(child); } else { new MutationObserver(()=>{ run(this.querySelector(\"script\")); }).observe(this, {childList: true}); } } } customElements.define(\"treescope-run-here\", RunHere); } })(); </script> <treescope-container class=\"treescope_out_a8b7216ceca04b2eac50770d71bef7eb\" ></treescope-container> <treescope-run-here><script type=\"application/octet-stream\"> const root = ( Array.from(document.getElementsByClassName( \"treescope_out_a8b7216ceca04b2eac50770d71bef7eb\")) .filter((elt) => !elt.dataset.setup) )[0]; root.dataset.setup = 1; const msg = document.createElement(\"span\"); msg.style = \"color: #aaaaaa; font-family: monospace; transition: opacity 0.2s; opacity: 0.0;\"; msg.textContent = \"(Loading...)\"; root.state.loadingMsg = msg; root.shadowRoot.appendChild(msg); root.state.chain = new Promise((resolve, reject) => { const observer = new IntersectionObserver((entries) => { for (const entry of entries) { if (entry.isIntersecting) { resolve(); observer.disconnect(); return; } } }, {rootMargin: \"1000px\"}); window.setTimeout(() => { if (root.loadingMsg) { root.loadingMsg.style.opacity = \"1.0\"; } observer.observe(root); }, 0); }); root.state.deferring = false; const _insertNode = (node) => { for (let oldScript of node.querySelectorAll(\"script\")) { let newScript = document.createElement(\"script\"); newScript.type = oldScript.type; newScript.textContent = oldScript.textContent; oldScript.parentNode.replaceChild(newScript, oldScript); } if (root.state.loadingMsg) { root.state.loadingMsg.remove(); root.state.loadingMsg = null; } root.shadowRoot.appendChild(node); }; root.defns.insertContent = ((contentNode, compressed) => { if (compressed) { root.state.deferring = true; } if (root.state.deferring) { root.state.chain = (async () => { await root.state.chain; if (compressed) { const encoded = contentNode.textContent; const blob = new Blob([ Uint8Array.from(atob(encoded), (m) => m.codePointAt(0)) ]); const reader = blob.stream().pipeThrough( new DecompressionStream(\"deflate\") ).pipeThrough( new TextDecoderStream(\"utf-8\") ).getReader(); const parts = []; while (true) { const step = await reader.read(); if (step.done) { break; } parts.push(step.value); } const tpl = document.createElement('template'); tpl.innerHTML = parts.join(\"\"); _insertNode(tpl.content); } else { _insertNode(contentNode.content); } })(); } else { _insertNode(contentNode.content); } }); </script></treescope-run-here><div style=\"display:none\"> <script type=\"application/octet-stream\" >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</script> <treescope-run-here><script type=\"application/octet-stream\"> const root = ( Array.from(document.getElementsByClassName( \"treescope_out_a8b7216ceca04b2eac50770d71bef7eb\")) .filter((elt) => !elt.dataset['step0']) )[0]; root.dataset['step0'] = 1; root.defns.insertContent( this.parentNode.querySelector('script[type=\"application/octet-stream\"]'), true ); this.parentNode.remove(); </script></treescope-run-here> </div>"
      ],
      "text/plain": [
       "<IPython.core.display.HTML object>"
      ]
     },
     "metadata": {},
     "output_type": "display_data"
    },
    {
     "data": {
      "text/html": [
       "<treescope-run-here><script type=\"application/octet-stream\"> const root = ( Array.from(document.getElementsByClassName( \"treescope_out_a8b7216ceca04b2eac50770d71bef7eb\")) .filter((elt) => !elt.dataset.stolen) )[0]; root.dataset.stolen = 1; this.parentNode.replaceChild(root, this); </script></treescope-run-here>"
      ],
      "text/plain": [
       "(11, 'arrow', 'a', 23594, 0.41276583075523376)"
      ]
     },
     "execution_count": 37,
     "metadata": {},
     "output_type": "execute_result"
    }
   ],
   "source": [
    "combined_ies[0]"
   ]
  },
  {
   "cell_type": "code",
   "execution_count": null,
   "metadata": {},
   "outputs": [],
   "source": [
    "sorted_graph = sorted(graph, reverse=True, key=lambda x: x[0])"
   ]
  }
 ],
 "metadata": {
  "kernelspec": {
   "display_name": "micrlhf-progress-_SD4q1c9-py3.12",
   "language": "python",
   "name": "python3"
  },
  "language_info": {
   "codemirror_mode": {
    "name": "ipython",
    "version": 3
   },
   "file_extension": ".py",
   "mimetype": "text/x-python",
   "name": "python",
   "nbconvert_exporter": "python",
   "pygments_lexer": "ipython3",
   "version": "3.10.12"
  }
 },
 "nbformat": 4,
 "nbformat_minor": 2
}
