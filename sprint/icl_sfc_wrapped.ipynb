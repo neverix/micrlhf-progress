{
 "cells": [
  {
   "cell_type": "code",
   "execution_count": 1,
   "metadata": {},
   "outputs": [],
   "source": [
    "import os\n",
    "if \"models\" not in os.listdir(\".\"):\n",
    "    os.chdir(\"../..\")"
   ]
  },
  {
   "cell_type": "code",
   "execution_count": 2,
   "metadata": {},
   "outputs": [],
   "source": [
    "%load_ext autoreload\n",
    "%autoreload 2\n",
    "import penzai\n",
    "import jax_smi\n",
    "jax_smi.initialise_tracking()\n",
    "from penzai import pz\n",
    "pz.ts.register_as_default()\n",
    "pz.ts.register_autovisualize_magic()\n",
    "pz.enable_interactive_context()"
   ]
  },
  {
   "cell_type": "code",
   "execution_count": 3,
   "metadata": {},
   "outputs": [
    {
     "name": "stdout",
     "output_type": "stream",
     "text": [
      "env: JAX_TRACEBACK_FILTERING=off\n"
     ]
    }
   ],
   "source": [
    "%env JAX_TRACEBACK_FILTERING=off\n",
    "import jax\n",
    "jax.config.update('jax_traceback_filtering', 'off')\n"
   ]
  },
  {
   "cell_type": "code",
   "execution_count": 4,
   "metadata": {},
   "outputs": [],
   "source": [
    "from sprint.icl_sfc_utils import Circuitizer"
   ]
  },
  {
   "cell_type": "code",
   "execution_count": 5,
   "metadata": {},
   "outputs": [],
   "source": [
    "from micrlhf.llama import LlamaTransformer\n",
    "llama = LlamaTransformer.from_pretrained(\"models/gemma-2b-it.gguf\", from_type=\"gemma\", load_eager=True, device_map=\"tpu:0\")"
   ]
  },
  {
   "cell_type": "code",
   "execution_count": 6,
   "metadata": {},
   "outputs": [],
   "source": [
    "from transformers import AutoTokenizer\n",
    "tokenizer = AutoTokenizer.from_pretrained(\"alpindale/gemma-2b\")\n",
    "tokenizer.padding_side = \"right\""
   ]
  },
  {
   "cell_type": "code",
   "execution_count": 7,
   "metadata": {},
   "outputs": [
    {
     "name": "stderr",
     "output_type": "stream",
     "text": [
      "fatal: destination path 'data/itv' already exists and is not an empty directory.\n"
     ]
    }
   ],
   "source": [
    "from sprint.task_vector_utils import load_tasks, ICLRunner\n",
    "tasks = load_tasks()"
   ]
  },
  {
   "cell_type": "code",
   "execution_count": 8,
   "metadata": {},
   "outputs": [
    {
     "name": "stdout",
     "output_type": "stream",
     "text": [
      "162\n",
      "162\n"
     ]
    }
   ],
   "source": [
    "def check_if_single_token(token):\n",
    "    return len(tokenizer.tokenize(token)) == 1\n",
    "\n",
    "task_name = \"antonyms\"\n",
    "\n",
    "task = tasks[task_name]\n",
    "\n",
    "print(len(task))\n",
    "\n",
    "# task = {\n",
    "#     k:v for k,v in task.items() if check_if_single_token(k) and check_if_single_token(v)\n",
    "# }\n",
    "\n",
    "print(len(task))\n",
    "\n",
    "pairs = list(task.items())\n",
    "\n",
    "batch_size = 8 \n",
    "n_shot=16\n",
    "max_seq_len = 128\n",
    "seed = 10\n",
    "\n",
    "prompt = \"Follow the pattern:\\n{}\"\n",
    "\n",
    "runner = ICLRunner(task_name, pairs, batch_size=batch_size, n_shot=n_shot, max_seq_len=max_seq_len, seed=seed, prompt=prompt)"
   ]
  },
  {
   "cell_type": "code",
   "execution_count": 9,
   "metadata": {},
   "outputs": [
    {
     "name": "stdout",
     "output_type": "stream",
     "text": [
      "Setting up masks...\n"
     ]
    },
    {
     "name": "stdout",
     "output_type": "stream",
     "text": [
      "Running metrics...\n",
      "Setting up RMS...\n"
     ]
    },
    {
     "data": {
      "application/vnd.jupyter.widget-view+json": {
       "model_id": "5666f59a808e497dae1c4ee5bd17082f",
       "version_major": 2,
       "version_minor": 0
      },
      "text/plain": [
       "  0%|          | 0/18 [00:00<?, ?it/s]"
      ]
     },
     "metadata": {},
     "output_type": "display_data"
    },
    {
     "name": "stdout",
     "output_type": "stream",
     "text": [
      "Loading SAEs...\n"
     ]
    },
    {
     "data": {
      "application/vnd.jupyter.widget-view+json": {
       "model_id": "37b665f8aa9b4a0f9e93633f8937cfa0",
       "version_major": 2,
       "version_minor": 0
      },
      "text/plain": [
       "  0%|          | 0/11 [00:00<?, ?it/s]"
      ]
     },
     "metadata": {},
     "output_type": "display_data"
    },
    {
     "name": "stdout",
     "output_type": "stream",
     "text": [
      "Running node IEs...\n"
     ]
    },
    {
     "data": {
      "application/vnd.jupyter.widget-view+json": {
       "model_id": "71cdd60b69ed4d70a62ff710860d74fd",
       "version_major": 2,
       "version_minor": 0
      },
      "text/plain": [
       "  0%|          | 0/11 [00:00<?, ?it/s]"
      ]
     },
     "metadata": {},
     "output_type": "display_data"
    },
    {
     "data": {
      "application/vnd.jupyter.widget-view+json": {
       "model_id": "d5cf174304174361ac5778af61f24cbe",
       "version_major": 2,
       "version_minor": 0
      },
      "text/plain": [
       "  0%|          | 0/11 [00:00<?, ?it/s]"
      ]
     },
     "metadata": {},
     "output_type": "display_data"
    },
    {
     "data": {
      "application/vnd.jupyter.widget-view+json": {
       "model_id": "231b53981f974d748f9fd76278c26046",
       "version_major": 2,
       "version_minor": 0
      },
      "text/plain": [
       "  0%|          | 0/10 [00:00<?, ?it/s]"
      ]
     },
     "metadata": {},
     "output_type": "display_data"
    }
   ],
   "source": [
    "layers = list(range(6, 17))\n",
    "circuitizer = Circuitizer(llama, tokenizer, runner, layers, prompt)"
   ]
  },
  {
   "cell_type": "code",
   "execution_count": 10,
   "metadata": {},
   "outputs": [
    {
     "data": {
      "application/vnd.jupyter.widget-view+json": {
       "model_id": "872f6f402f1d4c67af8abb53882487ff",
       "version_major": 2,
       "version_minor": 0
      },
      "text/plain": [
       "  0%|          | 0/1 [00:00<?, ?it/s]"
      ]
     },
     "metadata": {},
     "output_type": "display_data"
    },
    {
     "name": "stdout",
     "output_type": "stream",
     "text": [
      "-20.0 -105.0\n"
     ]
    }
   ],
   "source": [
    "\n",
    "layers = [10,11,12,13,14,15,16]\n",
    "orig_metric = circuitizer.ablated_metric(llama).tolist()\n",
    "zero_metric = circuitizer.run_ablated_metrics([100000], layers=layers)[0][0]\n",
    "\n",
    "print(orig_metric, zero_metric)"
   ]
  },
  {
   "cell_type": "code",
   "execution_count": 26,
   "metadata": {},
   "outputs": [
    {
     "data": {
      "application/vnd.jupyter.widget-view+json": {
       "model_id": "ab86f3b25f4645658dcc40a608fc71de",
       "version_major": 2,
       "version_minor": 0
      },
      "text/plain": [
       "  0%|          | 0/150 [00:00<?, ?it/s]"
      ]
     },
     "metadata": {},
     "output_type": "display_data"
    }
   ],
   "source": [
    "import numpy as np\n",
    "# thresholds = np.linspace(0, 1e-4, 100)\n",
    "# thresholds = np.linspace(1.4 * 1e-4, 1.45 * 1e-4, 200)\n",
    "thresholds = np.logspace(-5, -1, 150)\n",
    "topks = [4, 6, 12, 16, 24, 32]\n",
    "\n",
    "inverse = False\n",
    "do_abs = False\n",
    "mean_ablate = False\n",
    "average_over_positions = True\n",
    "\n",
    "\n",
    "ablated_metrics, n_nodes_counts = circuitizer.run_ablated_metrics(thresholds, inverse=inverse, \n",
    "                                                                  do_abs=do_abs, mean_ablate=mean_ablate, \n",
    "                                                                  average_over_positions=average_over_positions,\n",
    "                                                                  token_prefix=None, layers=layers)\n",
    "\n",
    "faithfullness = np.array(ablated_metrics)\n",
    "faithfullness = (faithfullness - zero_metric) / (orig_metric - zero_metric)\n",
    "\n",
    "\n",
    "\n",
    "# target_metric = (max(ablated_metrics) - min(ablated_metrics)) * 0.95 + min(ablated_metrics)\n",
    "# target_threshold = [threshold for threshold, metric in reversed(list(zip(thresholds, ablated_metrics))) if metric > target_metric][0]"
   ]
  },
  {
   "cell_type": "code",
   "execution_count": 27,
   "metadata": {},
   "outputs": [
    {
     "data": {
      "application/vnd.plotly.v1+json": {
       "config": {
        "plotlyServerURL": "https://plot.ly"
       },
       "data": [
        {
         "hovertemplate": "x=%{x}<br>y=%{y}<extra></extra>",
         "legendgroup": "",
         "line": {
          "color": "#636efa",
          "dash": "solid"
         },
         "marker": {
          "symbol": "circle"
         },
         "mode": "lines",
         "name": "",
         "orientation": "v",
         "showlegend": false,
         "type": "scatter",
         "x": [
          23188,
          22865,
          22518,
          22199,
          21850,
          21510,
          21131,
          20801,
          20453,
          20081,
          19714,
          19358,
          18968,
          18634,
          18307,
          17946,
          17575,
          17171,
          16776,
          16421,
          16053,
          15657,
          15283,
          14906,
          14537,
          14163,
          13829,
          13463,
          13119,
          12736,
          12416,
          12091,
          11734,
          11382,
          11031,
          10710,
          10372,
          10029,
          9716,
          9384,
          9090,
          8783,
          8474,
          8172,
          7877,
          7598,
          7308,
          7028,
          6766,
          6515,
          6257,
          5971,
          5736,
          5502,
          5275,
          5035,
          4815,
          4609,
          4415,
          4224,
          4060,
          3864,
          3700,
          3519,
          3363,
          3199,
          3048,
          2896,
          2760,
          2616,
          2472,
          2342,
          2233,
          2116,
          1999,
          1889,
          1776,
          1671,
          1575,
          1483,
          1415,
          1333,
          1258,
          1187,
          1123,
          1065,
          1004,
          926,
          881,
          841,
          790,
          743,
          696,
          646,
          608,
          561,
          523,
          490,
          460,
          430,
          405,
          377,
          354,
          326,
          306,
          294,
          277,
          258,
          237,
          224,
          210,
          196,
          187,
          175,
          157,
          143,
          135,
          122,
          113,
          104,
          99,
          93,
          83,
          78,
          77,
          74,
          70,
          63,
          56,
          52,
          46,
          42,
          38,
          37,
          32,
          30,
          28,
          24,
          21,
          17,
          12,
          11,
          9,
          7,
          6,
          5,
          3,
          3,
          1,
          1
         ],
         "xaxis": "x",
         "y": [
          0.9088235294117647,
          0.9073529411764706,
          0.9088235294117647,
          0.9088235294117647,
          0.9088235294117647,
          0.9044117647058824,
          0.9029411764705882,
          0.9014705882352941,
          0.9044117647058824,
          0.9044117647058824,
          0.9044117647058824,
          0.9029411764705882,
          0.9044117647058824,
          0.9029411764705882,
          0.9073529411764706,
          0.9102941176470588,
          0.9102941176470588,
          0.9073529411764706,
          0.9058823529411765,
          0.9073529411764706,
          0.9014705882352941,
          0.9,
          0.9058823529411765,
          0.8970588235294118,
          0.8970588235294118,
          0.8985294117647059,
          0.8970588235294118,
          0.9,
          0.8941176470588236,
          0.8926470588235295,
          0.8941176470588236,
          0.888235294117647,
          0.8720588235294118,
          0.8720588235294118,
          0.8720588235294118,
          0.8676470588235294,
          0.8588235294117647,
          0.861764705882353,
          0.85,
          0.8470588235294118,
          0.8529411764705882,
          0.8382352941176471,
          0.8323529411764706,
          0.8352941176470589,
          0.8411764705882353,
          0.8382352941176471,
          0.8411764705882353,
          0.8352941176470589,
          0.8235294117647058,
          0.7941176470588235,
          0.7911764705882353,
          0.788235294117647,
          0.7852941176470588,
          0.7823529411764706,
          0.7705882352941177,
          0.7764705882352941,
          0.7529411764705882,
          0.7529411764705882,
          0.7470588235294118,
          0.7382352941176471,
          0.7529411764705882,
          0.7205882352941176,
          0.7029411764705882,
          0.7058823529411765,
          0.6941176470588235,
          0.6852941176470588,
          0.6882352941176471,
          0.6794117647058824,
          0.6529411764705882,
          0.6235294117647059,
          0.6205882352941177,
          0.6176470588235294,
          0.6147058823529412,
          0.6176470588235294,
          0.6058823529411764,
          0.5882352941176471,
          0.5529411764705883,
          0.55,
          0.5352941176470588,
          0.5147058823529411,
          0.5088235294117647,
          0.4970588235294118,
          0.48823529411764705,
          0.4588235294117647,
          0.4411764705882353,
          0.4411764705882353,
          0.4176470588235294,
          0.4294117647058823,
          0.4235294117647059,
          0.40588235294117647,
          0.38823529411764707,
          0.35294117647058826,
          0.37058823529411766,
          0.34705882352941175,
          0.32941176470588235,
          0.2647058823529412,
          0.3,
          0.27647058823529413,
          0.27058823529411763,
          0.2823529411764706,
          0.27647058823529413,
          0.2647058823529412,
          0.27058823529411763,
          0.23529411764705882,
          0.23529411764705882,
          0.22941176470588234,
          0.22941176470588234,
          0.2,
          0.22941176470588234,
          0.21764705882352942,
          0.21176470588235294,
          0.18823529411764706,
          0.19411764705882353,
          0.2,
          0.18823529411764706,
          0.19411764705882353,
          0.18823529411764706,
          0.17058823529411765,
          0.17058823529411765,
          0.15294117647058825,
          0.15294117647058825,
          0.14705882352941177,
          0.1411764705882353,
          0.14705882352941177,
          0.1411764705882353,
          0.13529411764705881,
          0.1411764705882353,
          0.1411764705882353,
          0.1411764705882353,
          0.13529411764705881,
          0.1411764705882353,
          0.09411764705882353,
          0.09411764705882353,
          0.09411764705882353,
          0.08823529411764706,
          0.08823529411764706,
          0.08823529411764706,
          0.08823529411764706,
          0.08235294117647059,
          0.08235294117647059,
          0.07058823529411765,
          0.07058823529411765,
          0.047058823529411764,
          0.047058823529411764,
          0.047058823529411764,
          0.041176470588235294,
          0.011764705882352941,
          0.011764705882352941,
          0.011764705882352941,
          0.011764705882352941
         ],
         "yaxis": "y"
        }
       ],
       "layout": {
        "legend": {
         "tracegroupgap": 0
        },
        "template": {
         "data": {
          "bar": [
           {
            "error_x": {
             "color": "#2a3f5f"
            },
            "error_y": {
             "color": "#2a3f5f"
            },
            "marker": {
             "line": {
              "color": "#E5ECF6",
              "width": 0.5
             },
             "pattern": {
              "fillmode": "overlay",
              "size": 10,
              "solidity": 0.2
             }
            },
            "type": "bar"
           }
          ],
          "barpolar": [
           {
            "marker": {
             "line": {
              "color": "#E5ECF6",
              "width": 0.5
             },
             "pattern": {
              "fillmode": "overlay",
              "size": 10,
              "solidity": 0.2
             }
            },
            "type": "barpolar"
           }
          ],
          "carpet": [
           {
            "aaxis": {
             "endlinecolor": "#2a3f5f",
             "gridcolor": "white",
             "linecolor": "white",
             "minorgridcolor": "white",
             "startlinecolor": "#2a3f5f"
            },
            "baxis": {
             "endlinecolor": "#2a3f5f",
             "gridcolor": "white",
             "linecolor": "white",
             "minorgridcolor": "white",
             "startlinecolor": "#2a3f5f"
            },
            "type": "carpet"
           }
          ],
          "choropleth": [
           {
            "colorbar": {
             "outlinewidth": 0,
             "ticks": ""
            },
            "type": "choropleth"
           }
          ],
          "contour": [
           {
            "colorbar": {
             "outlinewidth": 0,
             "ticks": ""
            },
            "colorscale": [
             [
              0,
              "#0d0887"
             ],
             [
              0.1111111111111111,
              "#46039f"
             ],
             [
              0.2222222222222222,
              "#7201a8"
             ],
             [
              0.3333333333333333,
              "#9c179e"
             ],
             [
              0.4444444444444444,
              "#bd3786"
             ],
             [
              0.5555555555555556,
              "#d8576b"
             ],
             [
              0.6666666666666666,
              "#ed7953"
             ],
             [
              0.7777777777777778,
              "#fb9f3a"
             ],
             [
              0.8888888888888888,
              "#fdca26"
             ],
             [
              1,
              "#f0f921"
             ]
            ],
            "type": "contour"
           }
          ],
          "contourcarpet": [
           {
            "colorbar": {
             "outlinewidth": 0,
             "ticks": ""
            },
            "type": "contourcarpet"
           }
          ],
          "heatmap": [
           {
            "colorbar": {
             "outlinewidth": 0,
             "ticks": ""
            },
            "colorscale": [
             [
              0,
              "#0d0887"
             ],
             [
              0.1111111111111111,
              "#46039f"
             ],
             [
              0.2222222222222222,
              "#7201a8"
             ],
             [
              0.3333333333333333,
              "#9c179e"
             ],
             [
              0.4444444444444444,
              "#bd3786"
             ],
             [
              0.5555555555555556,
              "#d8576b"
             ],
             [
              0.6666666666666666,
              "#ed7953"
             ],
             [
              0.7777777777777778,
              "#fb9f3a"
             ],
             [
              0.8888888888888888,
              "#fdca26"
             ],
             [
              1,
              "#f0f921"
             ]
            ],
            "type": "heatmap"
           }
          ],
          "heatmapgl": [
           {
            "colorbar": {
             "outlinewidth": 0,
             "ticks": ""
            },
            "colorscale": [
             [
              0,
              "#0d0887"
             ],
             [
              0.1111111111111111,
              "#46039f"
             ],
             [
              0.2222222222222222,
              "#7201a8"
             ],
             [
              0.3333333333333333,
              "#9c179e"
             ],
             [
              0.4444444444444444,
              "#bd3786"
             ],
             [
              0.5555555555555556,
              "#d8576b"
             ],
             [
              0.6666666666666666,
              "#ed7953"
             ],
             [
              0.7777777777777778,
              "#fb9f3a"
             ],
             [
              0.8888888888888888,
              "#fdca26"
             ],
             [
              1,
              "#f0f921"
             ]
            ],
            "type": "heatmapgl"
           }
          ],
          "histogram": [
           {
            "marker": {
             "pattern": {
              "fillmode": "overlay",
              "size": 10,
              "solidity": 0.2
             }
            },
            "type": "histogram"
           }
          ],
          "histogram2d": [
           {
            "colorbar": {
             "outlinewidth": 0,
             "ticks": ""
            },
            "colorscale": [
             [
              0,
              "#0d0887"
             ],
             [
              0.1111111111111111,
              "#46039f"
             ],
             [
              0.2222222222222222,
              "#7201a8"
             ],
             [
              0.3333333333333333,
              "#9c179e"
             ],
             [
              0.4444444444444444,
              "#bd3786"
             ],
             [
              0.5555555555555556,
              "#d8576b"
             ],
             [
              0.6666666666666666,
              "#ed7953"
             ],
             [
              0.7777777777777778,
              "#fb9f3a"
             ],
             [
              0.8888888888888888,
              "#fdca26"
             ],
             [
              1,
              "#f0f921"
             ]
            ],
            "type": "histogram2d"
           }
          ],
          "histogram2dcontour": [
           {
            "colorbar": {
             "outlinewidth": 0,
             "ticks": ""
            },
            "colorscale": [
             [
              0,
              "#0d0887"
             ],
             [
              0.1111111111111111,
              "#46039f"
             ],
             [
              0.2222222222222222,
              "#7201a8"
             ],
             [
              0.3333333333333333,
              "#9c179e"
             ],
             [
              0.4444444444444444,
              "#bd3786"
             ],
             [
              0.5555555555555556,
              "#d8576b"
             ],
             [
              0.6666666666666666,
              "#ed7953"
             ],
             [
              0.7777777777777778,
              "#fb9f3a"
             ],
             [
              0.8888888888888888,
              "#fdca26"
             ],
             [
              1,
              "#f0f921"
             ]
            ],
            "type": "histogram2dcontour"
           }
          ],
          "mesh3d": [
           {
            "colorbar": {
             "outlinewidth": 0,
             "ticks": ""
            },
            "type": "mesh3d"
           }
          ],
          "parcoords": [
           {
            "line": {
             "colorbar": {
              "outlinewidth": 0,
              "ticks": ""
             }
            },
            "type": "parcoords"
           }
          ],
          "pie": [
           {
            "automargin": true,
            "type": "pie"
           }
          ],
          "scatter": [
           {
            "fillpattern": {
             "fillmode": "overlay",
             "size": 10,
             "solidity": 0.2
            },
            "type": "scatter"
           }
          ],
          "scatter3d": [
           {
            "line": {
             "colorbar": {
              "outlinewidth": 0,
              "ticks": ""
             }
            },
            "marker": {
             "colorbar": {
              "outlinewidth": 0,
              "ticks": ""
             }
            },
            "type": "scatter3d"
           }
          ],
          "scattercarpet": [
           {
            "marker": {
             "colorbar": {
              "outlinewidth": 0,
              "ticks": ""
             }
            },
            "type": "scattercarpet"
           }
          ],
          "scattergeo": [
           {
            "marker": {
             "colorbar": {
              "outlinewidth": 0,
              "ticks": ""
             }
            },
            "type": "scattergeo"
           }
          ],
          "scattergl": [
           {
            "marker": {
             "colorbar": {
              "outlinewidth": 0,
              "ticks": ""
             }
            },
            "type": "scattergl"
           }
          ],
          "scattermapbox": [
           {
            "marker": {
             "colorbar": {
              "outlinewidth": 0,
              "ticks": ""
             }
            },
            "type": "scattermapbox"
           }
          ],
          "scatterpolar": [
           {
            "marker": {
             "colorbar": {
              "outlinewidth": 0,
              "ticks": ""
             }
            },
            "type": "scatterpolar"
           }
          ],
          "scatterpolargl": [
           {
            "marker": {
             "colorbar": {
              "outlinewidth": 0,
              "ticks": ""
             }
            },
            "type": "scatterpolargl"
           }
          ],
          "scatterternary": [
           {
            "marker": {
             "colorbar": {
              "outlinewidth": 0,
              "ticks": ""
             }
            },
            "type": "scatterternary"
           }
          ],
          "surface": [
           {
            "colorbar": {
             "outlinewidth": 0,
             "ticks": ""
            },
            "colorscale": [
             [
              0,
              "#0d0887"
             ],
             [
              0.1111111111111111,
              "#46039f"
             ],
             [
              0.2222222222222222,
              "#7201a8"
             ],
             [
              0.3333333333333333,
              "#9c179e"
             ],
             [
              0.4444444444444444,
              "#bd3786"
             ],
             [
              0.5555555555555556,
              "#d8576b"
             ],
             [
              0.6666666666666666,
              "#ed7953"
             ],
             [
              0.7777777777777778,
              "#fb9f3a"
             ],
             [
              0.8888888888888888,
              "#fdca26"
             ],
             [
              1,
              "#f0f921"
             ]
            ],
            "type": "surface"
           }
          ],
          "table": [
           {
            "cells": {
             "fill": {
              "color": "#EBF0F8"
             },
             "line": {
              "color": "white"
             }
            },
            "header": {
             "fill": {
              "color": "#C8D4E3"
             },
             "line": {
              "color": "white"
             }
            },
            "type": "table"
           }
          ]
         },
         "layout": {
          "annotationdefaults": {
           "arrowcolor": "#2a3f5f",
           "arrowhead": 0,
           "arrowwidth": 1
          },
          "autotypenumbers": "strict",
          "coloraxis": {
           "colorbar": {
            "outlinewidth": 0,
            "ticks": ""
           }
          },
          "colorscale": {
           "diverging": [
            [
             0,
             "#8e0152"
            ],
            [
             0.1,
             "#c51b7d"
            ],
            [
             0.2,
             "#de77ae"
            ],
            [
             0.3,
             "#f1b6da"
            ],
            [
             0.4,
             "#fde0ef"
            ],
            [
             0.5,
             "#f7f7f7"
            ],
            [
             0.6,
             "#e6f5d0"
            ],
            [
             0.7,
             "#b8e186"
            ],
            [
             0.8,
             "#7fbc41"
            ],
            [
             0.9,
             "#4d9221"
            ],
            [
             1,
             "#276419"
            ]
           ],
           "sequential": [
            [
             0,
             "#0d0887"
            ],
            [
             0.1111111111111111,
             "#46039f"
            ],
            [
             0.2222222222222222,
             "#7201a8"
            ],
            [
             0.3333333333333333,
             "#9c179e"
            ],
            [
             0.4444444444444444,
             "#bd3786"
            ],
            [
             0.5555555555555556,
             "#d8576b"
            ],
            [
             0.6666666666666666,
             "#ed7953"
            ],
            [
             0.7777777777777778,
             "#fb9f3a"
            ],
            [
             0.8888888888888888,
             "#fdca26"
            ],
            [
             1,
             "#f0f921"
            ]
           ],
           "sequentialminus": [
            [
             0,
             "#0d0887"
            ],
            [
             0.1111111111111111,
             "#46039f"
            ],
            [
             0.2222222222222222,
             "#7201a8"
            ],
            [
             0.3333333333333333,
             "#9c179e"
            ],
            [
             0.4444444444444444,
             "#bd3786"
            ],
            [
             0.5555555555555556,
             "#d8576b"
            ],
            [
             0.6666666666666666,
             "#ed7953"
            ],
            [
             0.7777777777777778,
             "#fb9f3a"
            ],
            [
             0.8888888888888888,
             "#fdca26"
            ],
            [
             1,
             "#f0f921"
            ]
           ]
          },
          "colorway": [
           "#636efa",
           "#EF553B",
           "#00cc96",
           "#ab63fa",
           "#FFA15A",
           "#19d3f3",
           "#FF6692",
           "#B6E880",
           "#FF97FF",
           "#FECB52"
          ],
          "font": {
           "color": "#2a3f5f"
          },
          "geo": {
           "bgcolor": "white",
           "lakecolor": "white",
           "landcolor": "#E5ECF6",
           "showlakes": true,
           "showland": true,
           "subunitcolor": "white"
          },
          "hoverlabel": {
           "align": "left"
          },
          "hovermode": "closest",
          "mapbox": {
           "style": "light"
          },
          "paper_bgcolor": "white",
          "plot_bgcolor": "#E5ECF6",
          "polar": {
           "angularaxis": {
            "gridcolor": "white",
            "linecolor": "white",
            "ticks": ""
           },
           "bgcolor": "#E5ECF6",
           "radialaxis": {
            "gridcolor": "white",
            "linecolor": "white",
            "ticks": ""
           }
          },
          "scene": {
           "xaxis": {
            "backgroundcolor": "#E5ECF6",
            "gridcolor": "white",
            "gridwidth": 2,
            "linecolor": "white",
            "showbackground": true,
            "ticks": "",
            "zerolinecolor": "white"
           },
           "yaxis": {
            "backgroundcolor": "#E5ECF6",
            "gridcolor": "white",
            "gridwidth": 2,
            "linecolor": "white",
            "showbackground": true,
            "ticks": "",
            "zerolinecolor": "white"
           },
           "zaxis": {
            "backgroundcolor": "#E5ECF6",
            "gridcolor": "white",
            "gridwidth": 2,
            "linecolor": "white",
            "showbackground": true,
            "ticks": "",
            "zerolinecolor": "white"
           }
          },
          "shapedefaults": {
           "line": {
            "color": "#2a3f5f"
           }
          },
          "ternary": {
           "aaxis": {
            "gridcolor": "white",
            "linecolor": "white",
            "ticks": ""
           },
           "baxis": {
            "gridcolor": "white",
            "linecolor": "white",
            "ticks": ""
           },
           "bgcolor": "#E5ECF6",
           "caxis": {
            "gridcolor": "white",
            "linecolor": "white",
            "ticks": ""
           }
          },
          "title": {
           "x": 0.05
          },
          "xaxis": {
           "automargin": true,
           "gridcolor": "white",
           "linecolor": "white",
           "ticks": "",
           "title": {
            "standoff": 15
           },
           "zerolinecolor": "white",
           "zerolinewidth": 2
          },
          "yaxis": {
           "automargin": true,
           "gridcolor": "white",
           "linecolor": "white",
           "ticks": "",
           "title": {
            "standoff": 15
           },
           "zerolinecolor": "white",
           "zerolinewidth": 2
          }
         }
        },
        "title": {
         "text": "inverse=False, abs=False, mean=False, aop=True, layers=[10, 11, 12, 13, 14, 15, 16]"
        },
        "xaxis": {
         "anchor": "y",
         "domain": [
          0,
          1
         ],
         "title": {
          "text": "Number of nodes"
         }
        },
        "yaxis": {
         "anchor": "x",
         "domain": [
          0,
          1
         ],
         "title": {
          "text": "Faithfullness"
         }
        }
       }
      },
      "text/html": [
       "<div>                            <div id=\"81e071e9-2907-4d4e-b07b-ea1d110989ef\" class=\"plotly-graph-div\" style=\"height:525px; width:100%;\"></div>            <script type=\"text/javascript\">                require([\"plotly\"], function(Plotly) {                    window.PLOTLYENV=window.PLOTLYENV || {};                                    if (document.getElementById(\"81e071e9-2907-4d4e-b07b-ea1d110989ef\")) {                    Plotly.newPlot(                        \"81e071e9-2907-4d4e-b07b-ea1d110989ef\",                        [{\"hovertemplate\":\"x=%{x}\\u003cbr\\u003ey=%{y}\\u003cextra\\u003e\\u003c\\u002fextra\\u003e\",\"legendgroup\":\"\",\"line\":{\"color\":\"#636efa\",\"dash\":\"solid\"},\"marker\":{\"symbol\":\"circle\"},\"mode\":\"lines\",\"name\":\"\",\"orientation\":\"v\",\"showlegend\":false,\"x\":[23188,22865,22518,22199,21850,21510,21131,20801,20453,20081,19714,19358,18968,18634,18307,17946,17575,17171,16776,16421,16053,15657,15283,14906,14537,14163,13829,13463,13119,12736,12416,12091,11734,11382,11031,10710,10372,10029,9716,9384,9090,8783,8474,8172,7877,7598,7308,7028,6766,6515,6257,5971,5736,5502,5275,5035,4815,4609,4415,4224,4060,3864,3700,3519,3363,3199,3048,2896,2760,2616,2472,2342,2233,2116,1999,1889,1776,1671,1575,1483,1415,1333,1258,1187,1123,1065,1004,926,881,841,790,743,696,646,608,561,523,490,460,430,405,377,354,326,306,294,277,258,237,224,210,196,187,175,157,143,135,122,113,104,99,93,83,78,77,74,70,63,56,52,46,42,38,37,32,30,28,24,21,17,12,11,9,7,6,5,3,3,1,1],\"xaxis\":\"x\",\"y\":[0.9088235294117647,0.9073529411764706,0.9088235294117647,0.9088235294117647,0.9088235294117647,0.9044117647058824,0.9029411764705882,0.9014705882352941,0.9044117647058824,0.9044117647058824,0.9044117647058824,0.9029411764705882,0.9044117647058824,0.9029411764705882,0.9073529411764706,0.9102941176470588,0.9102941176470588,0.9073529411764706,0.9058823529411765,0.9073529411764706,0.9014705882352941,0.9,0.9058823529411765,0.8970588235294118,0.8970588235294118,0.8985294117647059,0.8970588235294118,0.9,0.8941176470588236,0.8926470588235295,0.8941176470588236,0.888235294117647,0.8720588235294118,0.8720588235294118,0.8720588235294118,0.8676470588235294,0.8588235294117647,0.861764705882353,0.85,0.8470588235294118,0.8529411764705882,0.8382352941176471,0.8323529411764706,0.8352941176470589,0.8411764705882353,0.8382352941176471,0.8411764705882353,0.8352941176470589,0.8235294117647058,0.7941176470588235,0.7911764705882353,0.788235294117647,0.7852941176470588,0.7823529411764706,0.7705882352941177,0.7764705882352941,0.7529411764705882,0.7529411764705882,0.7470588235294118,0.7382352941176471,0.7529411764705882,0.7205882352941176,0.7029411764705882,0.7058823529411765,0.6941176470588235,0.6852941176470588,0.6882352941176471,0.6794117647058824,0.6529411764705882,0.6235294117647059,0.6205882352941177,0.6176470588235294,0.6147058823529412,0.6176470588235294,0.6058823529411764,0.5882352941176471,0.5529411764705883,0.55,0.5352941176470588,0.5147058823529411,0.5088235294117647,0.4970588235294118,0.48823529411764705,0.4588235294117647,0.4411764705882353,0.4411764705882353,0.4176470588235294,0.4294117647058823,0.4235294117647059,0.40588235294117647,0.38823529411764707,0.35294117647058826,0.37058823529411766,0.34705882352941175,0.32941176470588235,0.2647058823529412,0.3,0.27647058823529413,0.27058823529411763,0.2823529411764706,0.27647058823529413,0.2647058823529412,0.27058823529411763,0.23529411764705882,0.23529411764705882,0.22941176470588234,0.22941176470588234,0.2,0.22941176470588234,0.21764705882352942,0.21176470588235294,0.18823529411764706,0.19411764705882353,0.2,0.18823529411764706,0.19411764705882353,0.18823529411764706,0.17058823529411765,0.17058823529411765,0.15294117647058825,0.15294117647058825,0.14705882352941177,0.1411764705882353,0.14705882352941177,0.1411764705882353,0.13529411764705881,0.1411764705882353,0.1411764705882353,0.1411764705882353,0.13529411764705881,0.1411764705882353,0.09411764705882353,0.09411764705882353,0.09411764705882353,0.08823529411764706,0.08823529411764706,0.08823529411764706,0.08823529411764706,0.08235294117647059,0.08235294117647059,0.07058823529411765,0.07058823529411765,0.047058823529411764,0.047058823529411764,0.047058823529411764,0.041176470588235294,0.011764705882352941,0.011764705882352941,0.011764705882352941,0.011764705882352941],\"yaxis\":\"y\",\"type\":\"scatter\"}],                        {\"template\":{\"data\":{\"histogram2dcontour\":[{\"type\":\"histogram2dcontour\",\"colorbar\":{\"outlinewidth\":0,\"ticks\":\"\"},\"colorscale\":[[0.0,\"#0d0887\"],[0.1111111111111111,\"#46039f\"],[0.2222222222222222,\"#7201a8\"],[0.3333333333333333,\"#9c179e\"],[0.4444444444444444,\"#bd3786\"],[0.5555555555555556,\"#d8576b\"],[0.6666666666666666,\"#ed7953\"],[0.7777777777777778,\"#fb9f3a\"],[0.8888888888888888,\"#fdca26\"],[1.0,\"#f0f921\"]]}],\"choropleth\":[{\"type\":\"choropleth\",\"colorbar\":{\"outlinewidth\":0,\"ticks\":\"\"}}],\"histogram2d\":[{\"type\":\"histogram2d\",\"colorbar\":{\"outlinewidth\":0,\"ticks\":\"\"},\"colorscale\":[[0.0,\"#0d0887\"],[0.1111111111111111,\"#46039f\"],[0.2222222222222222,\"#7201a8\"],[0.3333333333333333,\"#9c179e\"],[0.4444444444444444,\"#bd3786\"],[0.5555555555555556,\"#d8576b\"],[0.6666666666666666,\"#ed7953\"],[0.7777777777777778,\"#fb9f3a\"],[0.8888888888888888,\"#fdca26\"],[1.0,\"#f0f921\"]]}],\"heatmap\":[{\"type\":\"heatmap\",\"colorbar\":{\"outlinewidth\":0,\"ticks\":\"\"},\"colorscale\":[[0.0,\"#0d0887\"],[0.1111111111111111,\"#46039f\"],[0.2222222222222222,\"#7201a8\"],[0.3333333333333333,\"#9c179e\"],[0.4444444444444444,\"#bd3786\"],[0.5555555555555556,\"#d8576b\"],[0.6666666666666666,\"#ed7953\"],[0.7777777777777778,\"#fb9f3a\"],[0.8888888888888888,\"#fdca26\"],[1.0,\"#f0f921\"]]}],\"heatmapgl\":[{\"type\":\"heatmapgl\",\"colorbar\":{\"outlinewidth\":0,\"ticks\":\"\"},\"colorscale\":[[0.0,\"#0d0887\"],[0.1111111111111111,\"#46039f\"],[0.2222222222222222,\"#7201a8\"],[0.3333333333333333,\"#9c179e\"],[0.4444444444444444,\"#bd3786\"],[0.5555555555555556,\"#d8576b\"],[0.6666666666666666,\"#ed7953\"],[0.7777777777777778,\"#fb9f3a\"],[0.8888888888888888,\"#fdca26\"],[1.0,\"#f0f921\"]]}],\"contourcarpet\":[{\"type\":\"contourcarpet\",\"colorbar\":{\"outlinewidth\":0,\"ticks\":\"\"}}],\"contour\":[{\"type\":\"contour\",\"colorbar\":{\"outlinewidth\":0,\"ticks\":\"\"},\"colorscale\":[[0.0,\"#0d0887\"],[0.1111111111111111,\"#46039f\"],[0.2222222222222222,\"#7201a8\"],[0.3333333333333333,\"#9c179e\"],[0.4444444444444444,\"#bd3786\"],[0.5555555555555556,\"#d8576b\"],[0.6666666666666666,\"#ed7953\"],[0.7777777777777778,\"#fb9f3a\"],[0.8888888888888888,\"#fdca26\"],[1.0,\"#f0f921\"]]}],\"surface\":[{\"type\":\"surface\",\"colorbar\":{\"outlinewidth\":0,\"ticks\":\"\"},\"colorscale\":[[0.0,\"#0d0887\"],[0.1111111111111111,\"#46039f\"],[0.2222222222222222,\"#7201a8\"],[0.3333333333333333,\"#9c179e\"],[0.4444444444444444,\"#bd3786\"],[0.5555555555555556,\"#d8576b\"],[0.6666666666666666,\"#ed7953\"],[0.7777777777777778,\"#fb9f3a\"],[0.8888888888888888,\"#fdca26\"],[1.0,\"#f0f921\"]]}],\"mesh3d\":[{\"type\":\"mesh3d\",\"colorbar\":{\"outlinewidth\":0,\"ticks\":\"\"}}],\"scatter\":[{\"fillpattern\":{\"fillmode\":\"overlay\",\"size\":10,\"solidity\":0.2},\"type\":\"scatter\"}],\"parcoords\":[{\"type\":\"parcoords\",\"line\":{\"colorbar\":{\"outlinewidth\":0,\"ticks\":\"\"}}}],\"scatterpolargl\":[{\"type\":\"scatterpolargl\",\"marker\":{\"colorbar\":{\"outlinewidth\":0,\"ticks\":\"\"}}}],\"bar\":[{\"error_x\":{\"color\":\"#2a3f5f\"},\"error_y\":{\"color\":\"#2a3f5f\"},\"marker\":{\"line\":{\"color\":\"#E5ECF6\",\"width\":0.5},\"pattern\":{\"fillmode\":\"overlay\",\"size\":10,\"solidity\":0.2}},\"type\":\"bar\"}],\"scattergeo\":[{\"type\":\"scattergeo\",\"marker\":{\"colorbar\":{\"outlinewidth\":0,\"ticks\":\"\"}}}],\"scatterpolar\":[{\"type\":\"scatterpolar\",\"marker\":{\"colorbar\":{\"outlinewidth\":0,\"ticks\":\"\"}}}],\"histogram\":[{\"marker\":{\"pattern\":{\"fillmode\":\"overlay\",\"size\":10,\"solidity\":0.2}},\"type\":\"histogram\"}],\"scattergl\":[{\"type\":\"scattergl\",\"marker\":{\"colorbar\":{\"outlinewidth\":0,\"ticks\":\"\"}}}],\"scatter3d\":[{\"type\":\"scatter3d\",\"line\":{\"colorbar\":{\"outlinewidth\":0,\"ticks\":\"\"}},\"marker\":{\"colorbar\":{\"outlinewidth\":0,\"ticks\":\"\"}}}],\"scattermapbox\":[{\"type\":\"scattermapbox\",\"marker\":{\"colorbar\":{\"outlinewidth\":0,\"ticks\":\"\"}}}],\"scatterternary\":[{\"type\":\"scatterternary\",\"marker\":{\"colorbar\":{\"outlinewidth\":0,\"ticks\":\"\"}}}],\"scattercarpet\":[{\"type\":\"scattercarpet\",\"marker\":{\"colorbar\":{\"outlinewidth\":0,\"ticks\":\"\"}}}],\"carpet\":[{\"aaxis\":{\"endlinecolor\":\"#2a3f5f\",\"gridcolor\":\"white\",\"linecolor\":\"white\",\"minorgridcolor\":\"white\",\"startlinecolor\":\"#2a3f5f\"},\"baxis\":{\"endlinecolor\":\"#2a3f5f\",\"gridcolor\":\"white\",\"linecolor\":\"white\",\"minorgridcolor\":\"white\",\"startlinecolor\":\"#2a3f5f\"},\"type\":\"carpet\"}],\"table\":[{\"cells\":{\"fill\":{\"color\":\"#EBF0F8\"},\"line\":{\"color\":\"white\"}},\"header\":{\"fill\":{\"color\":\"#C8D4E3\"},\"line\":{\"color\":\"white\"}},\"type\":\"table\"}],\"barpolar\":[{\"marker\":{\"line\":{\"color\":\"#E5ECF6\",\"width\":0.5},\"pattern\":{\"fillmode\":\"overlay\",\"size\":10,\"solidity\":0.2}},\"type\":\"barpolar\"}],\"pie\":[{\"automargin\":true,\"type\":\"pie\"}]},\"layout\":{\"autotypenumbers\":\"strict\",\"colorway\":[\"#636efa\",\"#EF553B\",\"#00cc96\",\"#ab63fa\",\"#FFA15A\",\"#19d3f3\",\"#FF6692\",\"#B6E880\",\"#FF97FF\",\"#FECB52\"],\"font\":{\"color\":\"#2a3f5f\"},\"hovermode\":\"closest\",\"hoverlabel\":{\"align\":\"left\"},\"paper_bgcolor\":\"white\",\"plot_bgcolor\":\"#E5ECF6\",\"polar\":{\"bgcolor\":\"#E5ECF6\",\"angularaxis\":{\"gridcolor\":\"white\",\"linecolor\":\"white\",\"ticks\":\"\"},\"radialaxis\":{\"gridcolor\":\"white\",\"linecolor\":\"white\",\"ticks\":\"\"}},\"ternary\":{\"bgcolor\":\"#E5ECF6\",\"aaxis\":{\"gridcolor\":\"white\",\"linecolor\":\"white\",\"ticks\":\"\"},\"baxis\":{\"gridcolor\":\"white\",\"linecolor\":\"white\",\"ticks\":\"\"},\"caxis\":{\"gridcolor\":\"white\",\"linecolor\":\"white\",\"ticks\":\"\"}},\"coloraxis\":{\"colorbar\":{\"outlinewidth\":0,\"ticks\":\"\"}},\"colorscale\":{\"sequential\":[[0.0,\"#0d0887\"],[0.1111111111111111,\"#46039f\"],[0.2222222222222222,\"#7201a8\"],[0.3333333333333333,\"#9c179e\"],[0.4444444444444444,\"#bd3786\"],[0.5555555555555556,\"#d8576b\"],[0.6666666666666666,\"#ed7953\"],[0.7777777777777778,\"#fb9f3a\"],[0.8888888888888888,\"#fdca26\"],[1.0,\"#f0f921\"]],\"sequentialminus\":[[0.0,\"#0d0887\"],[0.1111111111111111,\"#46039f\"],[0.2222222222222222,\"#7201a8\"],[0.3333333333333333,\"#9c179e\"],[0.4444444444444444,\"#bd3786\"],[0.5555555555555556,\"#d8576b\"],[0.6666666666666666,\"#ed7953\"],[0.7777777777777778,\"#fb9f3a\"],[0.8888888888888888,\"#fdca26\"],[1.0,\"#f0f921\"]],\"diverging\":[[0,\"#8e0152\"],[0.1,\"#c51b7d\"],[0.2,\"#de77ae\"],[0.3,\"#f1b6da\"],[0.4,\"#fde0ef\"],[0.5,\"#f7f7f7\"],[0.6,\"#e6f5d0\"],[0.7,\"#b8e186\"],[0.8,\"#7fbc41\"],[0.9,\"#4d9221\"],[1,\"#276419\"]]},\"xaxis\":{\"gridcolor\":\"white\",\"linecolor\":\"white\",\"ticks\":\"\",\"title\":{\"standoff\":15},\"zerolinecolor\":\"white\",\"automargin\":true,\"zerolinewidth\":2},\"yaxis\":{\"gridcolor\":\"white\",\"linecolor\":\"white\",\"ticks\":\"\",\"title\":{\"standoff\":15},\"zerolinecolor\":\"white\",\"automargin\":true,\"zerolinewidth\":2},\"scene\":{\"xaxis\":{\"backgroundcolor\":\"#E5ECF6\",\"gridcolor\":\"white\",\"linecolor\":\"white\",\"showbackground\":true,\"ticks\":\"\",\"zerolinecolor\":\"white\",\"gridwidth\":2},\"yaxis\":{\"backgroundcolor\":\"#E5ECF6\",\"gridcolor\":\"white\",\"linecolor\":\"white\",\"showbackground\":true,\"ticks\":\"\",\"zerolinecolor\":\"white\",\"gridwidth\":2},\"zaxis\":{\"backgroundcolor\":\"#E5ECF6\",\"gridcolor\":\"white\",\"linecolor\":\"white\",\"showbackground\":true,\"ticks\":\"\",\"zerolinecolor\":\"white\",\"gridwidth\":2}},\"shapedefaults\":{\"line\":{\"color\":\"#2a3f5f\"}},\"annotationdefaults\":{\"arrowcolor\":\"#2a3f5f\",\"arrowhead\":0,\"arrowwidth\":1},\"geo\":{\"bgcolor\":\"white\",\"landcolor\":\"#E5ECF6\",\"subunitcolor\":\"white\",\"showland\":true,\"showlakes\":true,\"lakecolor\":\"white\"},\"title\":{\"x\":0.05},\"mapbox\":{\"style\":\"light\"}}},\"xaxis\":{\"anchor\":\"y\",\"domain\":[0.0,1.0],\"title\":{\"text\":\"Number of nodes\"}},\"yaxis\":{\"anchor\":\"x\",\"domain\":[0.0,1.0],\"title\":{\"text\":\"Faithfullness\"}},\"legend\":{\"tracegroupgap\":0},\"title\":{\"text\":\"inverse=False, abs=False, mean=False, aop=True, layers=[10, 11, 12, 13, 14, 15, 16]\"}},                        {\"responsive\": true}                    ).then(function(){\n",
       "                            \n",
       "var gd = document.getElementById('81e071e9-2907-4d4e-b07b-ea1d110989ef');\n",
       "var x = new MutationObserver(function (mutations, observer) {{\n",
       "        var display = window.getComputedStyle(gd).display;\n",
       "        if (!display || display === 'none') {{\n",
       "            console.log([gd, 'removed!']);\n",
       "            Plotly.purge(gd);\n",
       "            observer.disconnect();\n",
       "        }}\n",
       "}});\n",
       "\n",
       "// Listen for the removal of the full notebook cells\n",
       "var notebookContainer = gd.closest('#notebook-container');\n",
       "if (notebookContainer) {{\n",
       "    x.observe(notebookContainer, {childList: true});\n",
       "}}\n",
       "\n",
       "// Listen for the clearing of the current output cell\n",
       "var outputEl = gd.closest('.output');\n",
       "if (outputEl) {{\n",
       "    x.observe(outputEl, {childList: true});\n",
       "}}\n",
       "\n",
       "                        })                };                });            </script>        </div>"
      ]
     },
     "metadata": {},
     "output_type": "display_data"
    }
   ],
   "source": [
    "import matplotlib.pyplot as plt\n",
    "import plotly.express as px\n",
    "\n",
    "# plt.plot([max(n_nodes_counts) - x for x in n_nodes_counts], ablated_metrics)\n",
    "# plt.plot(thresholds, ablated_metrics)\n",
    "# plt.plot(thresholds, ablated_metrics)\n",
    "# plt.plot(n_nodes_counts, ablated_metrics)\n",
    "# plt.plot(thresholds, n_nodes_counts)\n",
    "# plt.xscale(\"log\")\n",
    "# plt.plot(n_nodes_counts)\n",
    "\n",
    "# px.line(x=list(range(len(ablated_metrics))), y=ablated_metrics)\n",
    "# fig = px.line(x=thresholds, y=ablated_metrics)\n",
    "# fig.update_xaxes(type=\"log\", exponentformat=\"power\")\n",
    "\n",
    "fig = px.line(x=n_nodes_counts, y=faithfullness, title=f\"inverse={inverse}, abs={do_abs}, mean={mean_ablate}, aop={average_over_positions}, layers={layers}\")\n",
    "fig.update_xaxes(title=\"Number of nodes\")\n",
    "fig.update_yaxes(title=\"Faithfullness\")\n",
    "\n",
    "fig\n"
   ]
  },
  {
   "cell_type": "code",
   "execution_count": 28,
   "metadata": {},
   "outputs": [
    {
     "data": {
      "text/html": [
       "<script> (()=>{ if (customElements.get('treescope-container') === undefined) { class TreescopeContainer extends HTMLElement { constructor() { super(); this.attachShadow({mode: \"open\"}); this.defns = {}; this.state = {}; } } customElements.define(\"treescope-container\", TreescopeContainer); } if (customElements.get('treescope-run-here') === undefined) { class RunHere extends HTMLElement { constructor() { super() } connectedCallback() { const run = child => { const fn = new Function(child.textContent); child.textContent = \"\"; fn.call(this); this.remove(); }; const child = this.querySelector(\"script\"); if (child) { run(child); } else { new MutationObserver(()=>{ run(this.querySelector(\"script\")); }).observe(this, {childList: true}); } } } customElements.define(\"treescope-run-here\", RunHere); } })(); </script> <treescope-container class=\"treescope_out_1c59a01dcb8f464f84aee50b6e382810\" ></treescope-container> <treescope-run-here><script type=\"application/octet-stream\"> const root = ( Array.from(document.getElementsByClassName( \"treescope_out_1c59a01dcb8f464f84aee50b6e382810\")) .filter((elt) => !elt.dataset.setup) )[0]; root.dataset.setup = 1; const msg = document.createElement(\"span\"); msg.style = \"color: #aaaaaa; font-family: monospace; transition: opacity 0.2s; opacity: 0.0;\"; msg.textContent = \"(Loading...)\"; root.state.loadingMsg = msg; root.shadowRoot.appendChild(msg); root.state.chain = new Promise((resolve, reject) => { const observer = new IntersectionObserver((entries) => { for (const entry of entries) { if (entry.isIntersecting) { resolve(); observer.disconnect(); return; } } }, {rootMargin: \"1000px\"}); window.setTimeout(() => { if (root.loadingMsg) { root.loadingMsg.style.opacity = \"1.0\"; } observer.observe(root); }, 0); }); root.state.deferring = false; const _insertNode = (node) => { for (let oldScript of node.querySelectorAll(\"script\")) { let newScript = document.createElement(\"script\"); newScript.type = oldScript.type; newScript.textContent = oldScript.textContent; oldScript.parentNode.replaceChild(newScript, oldScript); } if (root.state.loadingMsg) { root.state.loadingMsg.remove(); root.state.loadingMsg = null; } root.shadowRoot.appendChild(node); }; root.defns.insertContent = ((contentNode, compressed) => { if (compressed) { root.state.deferring = true; } if (root.state.deferring) { root.state.chain = (async () => { await root.state.chain; if (compressed) { const encoded = contentNode.textContent; const blob = new Blob([ Uint8Array.from(atob(encoded), (m) => m.codePointAt(0)) ]); const reader = blob.stream().pipeThrough( new DecompressionStream(\"deflate\") ).pipeThrough( new TextDecoderStream(\"utf-8\") ).getReader(); const parts = []; while (true) { const step = await reader.read(); if (step.done) { break; } parts.push(step.value); } const tpl = document.createElement('template'); tpl.innerHTML = parts.join(\"\"); _insertNode(tpl.content); } else { _insertNode(contentNode.content); } })(); } else { _insertNode(contentNode.content); } }); </script></treescope-run-here><div style=\"display:none\"> <script type=\"application/octet-stream\" >eNqNVE1v2zAM/SuCd6gDzK7TwsHyYQO9DDsMO2yHHYYhUGzaFiJTnkQny4b+91F2kqVtVgw5xKJIvvcokitHBw15TBbAFaaDtTWGxG/RGadIGVwIC1qS2sFSVAYpqmSr9GEhWoPGdbJg+75RBNFwWIjOskUrR9GQOqJDx1Y0yOaNLLa1NT2WUWG0sYsxdCmOp41mB86nSmoWolLEbkiAtBSdLEuFdaShooW4KxoPghA1oOqGLdM49WmQpGLO57DjR7RTTm2UVsTMZU/m7BspJKvQqSJy6heMt0e6j6vbsTyrc3ki2yNjWra5wqqOhNeX3ciu06qQvmK3piDw6i3I9iYPw0mWc0EZz5EooUInMkGNcnEN9Jmr/cmUEE7ixjiKh3uWBiTWHaCX/FD4rD7o2/drNx8klhr4GnutlyNCzDS/GINsDffGbifikoP5yiZ/9cRMqvDGDmxlbCuxgBjNPpwM78sA4YsbEY1BK3F/N+E8qhLhM9axBqypEVkmEu/yKnUL1FvkugvQDv4Sa3r0zJ6ndo2qyPMbHPzHI//+gRByV2Fp9rGFHz04ekDVDs/13soWwrEmE59j+QKo610zlnF5ReMJIhtlvKLy/zl4FuNDkqlrPU7lepgc7tbO5/IW0PRWwI4b/PiSnt1wjrdw8EUPbOAJHZ3jQkvnPvJwHvOGwTnnuuU2DE7gjxOuJ7f/0OP56vbaAJRqJ4aEWfB0fQSC5IaVws8sSAJhkMmwbGS/19r+utbQx5xUBjx248IaNsYa+3YDduiUYYG8SebvpunscnR5LeGJZsOzanltbNckLdMIRClJRkyvk9RkQfDU/RIjyJM4SZL5bJ7O0nQ2Tef36XyaMgwH5Oc/rkn+Bw7B33A=</script> <treescope-run-here><script type=\"application/octet-stream\"> const root = ( Array.from(document.getElementsByClassName( \"treescope_out_1c59a01dcb8f464f84aee50b6e382810\")) .filter((elt) => !elt.dataset['step0']) )[0]; root.dataset['step0'] = 1; root.defns.insertContent( this.parentNode.querySelector('script[type=\"application/octet-stream\"]'), true ); this.parentNode.remove(); </script></treescope-run-here> </div>"
      ],
      "text/plain": [
       "<IPython.core.display.HTML object>"
      ]
     },
     "metadata": {},
     "output_type": "display_data"
    },
    {
     "data": {
      "text/html": [
       "<treescope-run-here><script type=\"application/octet-stream\"> const root = ( Array.from(document.getElementsByClassName( \"treescope_out_1c59a01dcb8f464f84aee50b6e382810\")) .filter((elt) => !elt.dataset.stolen) )[0]; root.dataset.stolen = 1; this.parentNode.replaceChild(root, this); </script></treescope-run-here>"
      ],
      "text/plain": [
       "0.0009695655615935915"
      ]
     },
     "execution_count": 28,
     "metadata": {},
     "output_type": "execute_result"
    }
   ],
   "source": [
    "target_faithfullness = 0.6\n",
    "\n",
    "target_threshold = [threshold for threshold, metric in reversed(list(zip(thresholds, faithfullness))) if metric > target_faithfullness][0]\n",
    "\n",
    "target_threshold"
   ]
  },
  {
   "cell_type": "code",
   "execution_count": 29,
   "metadata": {},
   "outputs": [
    {
     "data": {
      "application/vnd.jupyter.widget-view+json": {
       "model_id": "c4acc7ae127e4101a58e1131c1a31194",
       "version_major": 2,
       "version_minor": 0
      },
      "text/plain": [
       "  0%|          | 0/7 [00:00<?, ?it/s]"
      ]
     },
     "metadata": {},
     "output_type": "display_data"
    }
   ],
   "source": [
    "from tqdm.auto import tqdm\n",
    "\n",
    "# layers = circuitizer.layers\n",
    "# layers = [15,16]\n",
    "selected_threshold = target_threshold\n",
    "\n",
    "\n",
    "ablation_masks = {}\n",
    "\n",
    "for layer in tqdm(layers):\n",
    "    mask_attn_out, _ = circuitizer.mask_ie(circuitizer.ie_attn[layer], selected_threshold, None, do_abs=do_abs, average_over_positions=average_over_positions, inverse=inverse)\n",
    "    mask_resid, _ = circuitizer.mask_ie(circuitizer.ie_resid[layer], selected_threshold, None, do_abs=do_abs, average_over_positions=average_over_positions, inverse=inverse)\n",
    "\n",
    "    # print(mask_resid[\"arrow\"].shape)\n",
    "\n",
    "    # break\n",
    "\n",
    "    try:\n",
    "        mask_transcoder, _ = circuitizer.mask_ie(circuitizer.ie_transcoder[layer], selected_threshold, None, do_abs=do_abs, average_over_positions=average_over_positions, inverse=inverse)\n",
    "    except KeyError:\n",
    "        mask_transcoder = None\n",
    "\n",
    "    ablation_masks[layer] = {\n",
    "        \"attn_out\": mask_attn_out,\n",
    "        \"resid\": mask_resid,\n",
    "        \"transcoder\": mask_transcoder\n",
    "    }"
   ]
  },
  {
   "cell_type": "code",
   "execution_count": 40,
   "metadata": {},
   "outputs": [
    {
     "data": {
      "text/html": [
       "<script> (()=>{ if (customElements.get('treescope-container') === undefined) { class TreescopeContainer extends HTMLElement { constructor() { super(); this.attachShadow({mode: \"open\"}); this.defns = {}; this.state = {}; } } customElements.define(\"treescope-container\", TreescopeContainer); } if (customElements.get('treescope-run-here') === undefined) { class RunHere extends HTMLElement { constructor() { super() } connectedCallback() { const run = child => { const fn = new Function(child.textContent); child.textContent = \"\"; fn.call(this); this.remove(); }; const child = this.querySelector(\"script\"); if (child) { run(child); } else { new MutationObserver(()=>{ run(this.querySelector(\"script\")); }).observe(this, {childList: true}); } } } customElements.define(\"treescope-run-here\", RunHere); } })(); </script> <treescope-container class=\"treescope_out_fccc31c5738f457f809e7009bb605a22\" ></treescope-container> <treescope-run-here><script type=\"application/octet-stream\"> const root = ( Array.from(document.getElementsByClassName( \"treescope_out_fccc31c5738f457f809e7009bb605a22\")) .filter((elt) => !elt.dataset.setup) )[0]; root.dataset.setup = 1; const msg = document.createElement(\"span\"); msg.style = \"color: #aaaaaa; font-family: monospace; transition: opacity 0.2s; opacity: 0.0;\"; msg.textContent = \"(Loading...)\"; root.state.loadingMsg = msg; root.shadowRoot.appendChild(msg); root.state.chain = new Promise((resolve, reject) => { const observer = new IntersectionObserver((entries) => { for (const entry of entries) { if (entry.isIntersecting) { resolve(); observer.disconnect(); return; } } }, {rootMargin: \"1000px\"}); window.setTimeout(() => { if (root.loadingMsg) { root.loadingMsg.style.opacity = \"1.0\"; } observer.observe(root); }, 0); }); root.state.deferring = false; const _insertNode = (node) => { for (let oldScript of node.querySelectorAll(\"script\")) { let newScript = document.createElement(\"script\"); newScript.type = oldScript.type; newScript.textContent = oldScript.textContent; oldScript.parentNode.replaceChild(newScript, oldScript); } if (root.state.loadingMsg) { root.state.loadingMsg.remove(); root.state.loadingMsg = null; } root.shadowRoot.appendChild(node); }; root.defns.insertContent = ((contentNode, compressed) => { if (compressed) { root.state.deferring = true; } if (root.state.deferring) { root.state.chain = (async () => { await root.state.chain; if (compressed) { const encoded = contentNode.textContent; const blob = new Blob([ Uint8Array.from(atob(encoded), (m) => m.codePointAt(0)) ]); const reader = blob.stream().pipeThrough( new DecompressionStream(\"deflate\") ).pipeThrough( new TextDecoderStream(\"utf-8\") ).getReader(); const parts = []; while (true) { const step = await reader.read(); if (step.done) { break; } parts.push(step.value); } const tpl = document.createElement('template'); tpl.innerHTML = parts.join(\"\"); _insertNode(tpl.content); } else { _insertNode(contentNode.content); } })(); } else { _insertNode(contentNode.content); } }); </script></treescope-run-here><div style=\"display:none\"> <script type=\"application/octet-stream\" >eNrFVt9v2zYQ/lcIDWikYlISN3Fb2RaQl2EPwx66hz5sg0FJJ4k1TarkyYlX5H/fkZLt2JaDASs2+8HW8e6+736Kc4tbCVmCBsAWuoWl0RrZN9ZqK1BolTIDkqPYwIxVWmFc8bWQ25SttdK25QXJHxuBEPuHlLWGJFJYjL3rGLctSZVWJM55saqN7lQZF1pqk/amMzY85ZIUyJ8osUlZJZDUFILCGWt5WQpVxxIqTNmkaByIgrgBUTckuU3unRuFXBDnvdnwJ94IK3IhBRJz3qHe68ZCoRHKiiK24i/oTwe6z/PrPj3zfXpi0ynCNCSzhREtMhff4oq3rRQFdxm71gWCi94AX19lYRgtMkoo4VlkJVTKsgXDRtikBvxE2f5VlxBGSaMtJv6cQgNkyxaUC/mhcF6d0e9/jp38zFUpgY5VJ+WsR0iI5m9aK5KGj9qsIvaSg/5MInd0JEZROGELptJmzVUBidKPYeTrSwDh2QmLe6M5ezeJyI+oWHjCOpGgamzYYsFunMqr1A1gZxTlnYG0cCDWdMoxO3VtG1Gh4+cV3J9n+l5ACKmrVKkfEwNfO7D4oMTal+snw9cQ9jmJnI/ZGVDb2aZP42wkxh3Eog/jlSj/OQfHoi8k6rqW/VQu/eRQt7bOl5OAxB8ZbKjBh0o6dv45WcHWJT0wgSM0KCeF5Nb+QsM5+A2Dvc/lmtow2IE/R5RPan/f49n8emwASrFh3uEiOF4fAUOeU6TwtAhuAqYVkaGwFem91vbjsYbOZhdlQGPXLyyyAGOgXLa0M6DRsgTjO8Yvkh/4e/cdVpY3SZlATjNKsSUVqfOcoBRxuLDsntmx2rJnR9qlsAS63S21U0WWMclzkGmaA80LvGBV+M9sFK9fbPGt22zDAryZHbCE8usul9ptyIuYjd6AOUcuuVlZ4DWVSZ1bp0pjeCJquA0z7zMbzYO3SYsGihWUUcTeRgcOznTcaKd/xNBv6JRd/TG5z4ur/5PesdFFktP/gKSrowPujHUFbDW9p8CM4Ar7/WD9KHig2M+bvdTj3wf1EB7CE56jJMIuK2EsLrVauvYfGa3XRimZ3LtpGi0V+9f0+4qfUnRRrbmp6WbR0/ADfbhJ0C1JMVEugv0Cy99Dnpf0WH4o726mdx+nkxymd9Pbj5MplNMPwWA0rNrjuT+FJ+U+iLlQbTfcTgJPO9dPwaiTIUI67KOjde+N6Xfw9RJ/bPEG2RuJsy/8KXkwhm9pWeG7Cd0PkiRhb2p0LxLykJ3+0Ask+xsJMrZ0</script> <treescope-run-here><script type=\"application/octet-stream\"> const root = ( Array.from(document.getElementsByClassName( \"treescope_out_fccc31c5738f457f809e7009bb605a22\")) .filter((elt) => !elt.dataset['step0']) )[0]; root.dataset['step0'] = 1; root.defns.insertContent( this.parentNode.querySelector('script[type=\"application/octet-stream\"]'), true ); this.parentNode.remove(); </script></treescope-run-here> </div>"
      ],
      "text/plain": [
       "<IPython.core.display.HTML object>"
      ]
     },
     "metadata": {},
     "output_type": "display_data"
    },
    {
     "data": {
      "text/html": [
       "<div style=\"display:none\"> <script type=\"application/octet-stream\" >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</script> <treescope-run-here><script type=\"application/octet-stream\"> const root = ( Array.from(document.getElementsByClassName( \"treescope_out_fccc31c5738f457f809e7009bb605a22\")) .filter((elt) => !elt.dataset['step1']) )[0]; root.dataset['step1'] = 1; root.defns.insertContent( this.parentNode.querySelector('script[type=\"application/octet-stream\"]'), true ); this.parentNode.remove(); </script></treescope-run-here> </div>"
      ],
      "text/plain": [
       "<IPython.core.display.HTML object>"
      ]
     },
     "metadata": {},
     "output_type": "display_data"
    },
    {
     "data": {
      "text/html": [
       "<treescope-run-here><script type=\"application/octet-stream\"> const root = ( Array.from(document.getElementsByClassName( \"treescope_out_fccc31c5738f457f809e7009bb605a22\")) .filter((elt) => !elt.dataset.stolen) )[0]; root.dataset.stolen = 1; this.parentNode.replaceChild(root, this); </script></treescope-run-here>"
      ],
      "text/plain": [
       "<jax.Array(1999, dtype=int32)>"
      ]
     },
     "execution_count": 40,
     "metadata": {},
     "output_type": "execute_result"
    }
   ],
   "source": [
    "circuit_nodes = []\n",
    "n_nodes = 0\n",
    "\n",
    "for layer, masks in ablation_masks.items():\n",
    "    for mask_type, mask in masks.items():\n",
    "        if mask is not None:\n",
    "            for token_type, mask in mask.items():\n",
    "                    n_nodes += mask.sum()\n",
    "                    \n",
    "                    node_ids = np.where(mask)\n",
    "\n",
    "                    if len(node_ids) ==2:\n",
    "                        for pos, feat in zip(*node_ids):\n",
    "                            circuit_nodes.append((layer, mask_type, token_type, feat, pos))\n",
    "                    else:\n",
    "                        for feat in node_ids[0]:\n",
    "                            circuit_nodes.append((layer, mask_type, token_type, feat, None))\n",
    "                    \n",
    "\n",
    "n_nodes"
   ]
  },
  {
   "cell_type": "code",
   "execution_count": 41,
   "metadata": {},
   "outputs": [],
   "source": [
    "typed_ies = {\n",
    "    \"r\": circuitizer.ie_resid,\n",
    "    \"a\": circuitizer.ie_attn,\n",
    "    \"t\": circuitizer.ie_transcoder,\n",
    "}\n",
    "\n",
    "circuit_nodes_with_ies = []\n",
    "\n",
    "for node in circuit_nodes:\n",
    "    layer, sae_type, token_type, node_id, pos = node\n",
    "    ies = typed_ies[sae_type[0]][layer]\n",
    "\n",
    "    if average_over_positions:\n",
    "        masked_ies = circuitizer.mask_average(ies, token_type, average_over_positions=True)\n",
    "        circuit_nodes_with_ies.append((*node, masked_ies[node_id].tolist()))\n",
    "    else:\n",
    "        masked_ies = circuitizer.mask_average(ies, token_type, average_over_positions=False)\n",
    "        circuit_nodes_with_ies.append((*node, masked_ies[pos, node_id].tolist()))\n",
    "\n",
    "circuit_nodes_with_ies = sorted(circuit_nodes_with_ies, key=lambda x: x[-1], reverse=True)"
   ]
  },
  {
   "cell_type": "code",
   "execution_count": 43,
   "metadata": {},
   "outputs": [
    {
     "data": {
      "text/html": [
       "<script> (()=>{ if (customElements.get('treescope-container') === undefined) { class TreescopeContainer extends HTMLElement { constructor() { super(); this.attachShadow({mode: \"open\"}); this.defns = {}; this.state = {}; } } customElements.define(\"treescope-container\", TreescopeContainer); } if (customElements.get('treescope-run-here') === undefined) { class RunHere extends HTMLElement { constructor() { super() } connectedCallback() { const run = child => { const fn = new Function(child.textContent); child.textContent = \"\"; fn.call(this); this.remove(); }; const child = this.querySelector(\"script\"); if (child) { run(child); } else { new MutationObserver(()=>{ run(this.querySelector(\"script\")); }).observe(this, {childList: true}); } } } customElements.define(\"treescope-run-here\", RunHere); } })(); </script> <treescope-container class=\"treescope_out_eb4d7e9db2414c158c692ddfd51248fb\" ></treescope-container> <treescope-run-here><script type=\"application/octet-stream\"> const root = ( Array.from(document.getElementsByClassName( \"treescope_out_eb4d7e9db2414c158c692ddfd51248fb\")) .filter((elt) => !elt.dataset.setup) )[0]; root.dataset.setup = 1; const msg = document.createElement(\"span\"); msg.style = \"color: #aaaaaa; font-family: monospace; transition: opacity 0.2s; opacity: 0.0;\"; msg.textContent = \"(Loading...)\"; root.state.loadingMsg = msg; root.shadowRoot.appendChild(msg); root.state.chain = new Promise((resolve, reject) => { const observer = new IntersectionObserver((entries) => { for (const entry of entries) { if (entry.isIntersecting) { resolve(); observer.disconnect(); return; } } }, {rootMargin: \"1000px\"}); window.setTimeout(() => { if (root.loadingMsg) { root.loadingMsg.style.opacity = \"1.0\"; } observer.observe(root); }, 0); }); root.state.deferring = false; const _insertNode = (node) => { for (let oldScript of node.querySelectorAll(\"script\")) { let newScript = document.createElement(\"script\"); newScript.type = oldScript.type; newScript.textContent = oldScript.textContent; oldScript.parentNode.replaceChild(newScript, oldScript); } if (root.state.loadingMsg) { root.state.loadingMsg.remove(); root.state.loadingMsg = null; } root.shadowRoot.appendChild(node); }; root.defns.insertContent = ((contentNode, compressed) => { if (compressed) { root.state.deferring = true; } if (root.state.deferring) { root.state.chain = (async () => { await root.state.chain; if (compressed) { const encoded = contentNode.textContent; const blob = new Blob([ Uint8Array.from(atob(encoded), (m) => m.codePointAt(0)) ]); const reader = blob.stream().pipeThrough( new DecompressionStream(\"deflate\") ).pipeThrough( new TextDecoderStream(\"utf-8\") ).getReader(); const parts = []; while (true) { const step = await reader.read(); if (step.done) { break; } parts.push(step.value); } const tpl = document.createElement('template'); tpl.innerHTML = parts.join(\"\"); _insertNode(tpl.content); } else { _insertNode(contentNode.content); } })(); } else { _insertNode(contentNode.content); } }); </script></treescope-run-here><div style=\"display:none\"> <script type=\"application/octet-stream\" >eNrtnQlT20oSgP+KnlO72EssdIwuCNTahCsJJGDySPI25ZWlsa0gS0KSMbCV/749I982xsojIOSBKg5pzu6Znu7+LPtNFN+6eIePQ4wjyw9wPfT9mPsfF/iREzu+t8mF2DVj5xpvcU3fi8tNs+O4t5tcx/f8KDAtuN5rOzEu0382uSCEK64TxWXadDm+DeCq53twuWFal63Q73p22fJdP9xMqm5x/f8aLhSA9hw7bm9yTSeGYl6MvXiLC0zbdrxW2cXNeJOTrDbpxMPlNnZabbgi8gppxotNB8Y8rNb/o3ztRE7DcZ0YRm52Y39Ytux4ceh4kWOVI+cOJ3f7w/35ZiMRz5uheMph14M+Q7gWWaETxByZ3/aaGQSuY5lEYhu+FWMy+xCbnbWdYrG0vQMChf6imLNx04u4bS5uOxHfwvEZSPvEt3GxxLf9KObpfZgajrl6gD0y5YpFWiWV/vo+786h6dkuhtte13W3kh54GGbN9z24Wuz54WWJGx+DfwGXyK2Jy7FjkYsBDpt+2DE9C/Oe3yuWqH6hg+LMHa6cVHrDyVIJ2nGaXHFq1LyLvVbc5ra3OYEUWTj0EMfd0AO5c9iN8Ghg7a5HRjbddNR2mjEZHy1A/vgJ3/f0UIRV5dl+jw/xVRdHccVzOlRd+6HZwcVEJiXSxtZMR0E3aidi3Jozx0EX28k0Fsxy+TGQUSSKjP1Wy012ZZ3uHFitAWmLXMFu/JrD17DA+5oko6P/85f4lgi9EBbIgPqFecs1o+gDbM5+u8XCsM16B5ZhYdD5zxLIE5Y/XeM7bzbmbQDbueZog9uFSfNR4GKzATPFN9sFocD5HgwGpu1BuUXLfv5ci6TOYJYF2HaJwWr4cex3iAnY9Py4yDd91zYbUNuDZjfbZlTccc0Gdncm79STPmidTauNrUtsl0rcv4iQBiYm9oNNTuBFBXdmjQy5dlemk4P/t+bayZ88tWd1s9EI8TVdx9S8vVJ1yRSEUQHL73RgWmMlTPpFlDBVxEyG3PavcViaU36yeL3Xxl4d3wSw9LD9aBK6r1fQL2wPe6yEAF/N5qiE1+00cDhewNBFRR0ViIgVbo33IYuKqAwLYLtOVDEq0D8rZo+UazMslssN17cuk0uwphswOhwmmhWDGy7yXcdeVDJZXg8VBi21wfyHMLLLeog7sMnqVEPc9KBnh+lfula7qKN/kKWGFE4UjKTFnhnVYd/5rgvVY59vOmEU16mhXbZVA/EiaVcwOFFWeW1uw1TDC7srzXQYh6Y3WO/TnXNixGEzwrA5yn4XDBN1F3p060zdI1qdWHT3OBww6HlrE0rbThS45u3AsZguyO1wdG1vbjYwnFljy+aVRb/mb9zEuSiLxLvoOyGwW4d9OR61BnQNLOiTroDZnm0zvIyw2QJT6c3WfqQ9OhwDqTq/0qD8xAipl7TJrf1HUhrW2nMOb7LSvYNUn2CQdCdDx90wIgoMfPAVcTinXyd6vG7pVqAdlemZF923xh+n19H0YnwTz/bCO1E9MQm+l1iB2a21aCvxkkJ201xVcX97+InGp4dIZtUxwxYYm2QYdEP//Ju9gS0MbhtdOBe8uQZodHveoi1whalSIEgImeYX/g8WkV2YirjWjk1YFY7pcrXbTsN3I+5jNybztbndpCb8Dm5hY4DVbVxC9ESrRx3wp9pwuEJs48VQ3QFDbA9jrldYIN9bs8s8qU2DIoE3iOMzOctkf8yZxXxzN6pJzxwL4iUQ7LC+2YwnHISBnV7U51SdyS7HRd8/vW0zNsumB4qlbndp/DLphMQSYyfcvGMt3VSGIwDFONj+Y3IktEvuD6cT+GFsejNtN0L/Etw4cmVkjB6W7li1MXkO1PyTb1vtOg3W62R3jDm+yWYR+GTHjpUL6Rk+Khgm7vCwJHGHYap23YJI0Q6x15/8ZCwOo5ws+Gh+6XAz9o/mic1vma5VlKw2RKvgzSWuUBSbpP5wvL9tJH13MhmJDU4lLBPiU46p46pruh7Ef/UgxE3nBhqZ2Hg63XgQ7JrED+uZoQcaqA+OioF2m03TEuU5BQOIFmcUR+1hX0j9S+W+Mkde3SaNfcyw3ApN2wG1FUVZsXHrNefDHmlhToDRqVb7dbJnAugWLBC9xPWlPDOUGVP9aIKfUHl5uDKnFX3fwpwuN3R8EwXC1p4s8uRLV+CR1S4tM9anWctJUERHNTc0mgim6TxAJ26b+xdXFGE641X67UZQCpdI+qMvg1HV8vJ1B/0OAjhac9jk4Gq5f/kJpTkKQakEy2RTdaP+BEXcgdndP7E5DlRq9+WhJf6/iSg50S8xVUtEyYsL/+Shxd+SqRkp+e8ka2iuBAbrmgE4Rg8Hl+lFf38PSUiZhOfjKZt7yjzGOOZ10Z9oUmCUZpwnislUHz+ZP+QWtDA9VW8iozm/4DKd3dvOIybxSV6V+6MShuYt3wz9TtH2rS5JtPHkrI74a9Pt4qhYKvGR38FFeoKTjCz5zSf+O8nGLunBF9a4Elca5r+jNsYxSZLjHrdbq9XIbGrkGkl505t8iGHKFq7delbxv//uRw0WHvgS6SOIxAUhPRE5hh3T3RrP52xyiOQxo9Da5LqhWyTu7Ca5v9Hzm01pqwEOs4pe24JxcNyqVCv06+i0UvHpX9WzHvw83K9U9iqLvqqdSqV16b+3j/aqu72vlcr51913leOj6m5lv3VzdPihHUfVYwe35P23X6QPR+rX61rQdT4dK+fiuy9HZ38eX18c38Wfbvf3d9cvWpfnTvWt0Hbennbf7dkHP4TDxkbz+sgOrt6r7asLxzntHnsH7cPm57jyWa2ehKiyf+Rd7qnW527XWz9Trqzosnfd3Hc3rm5ae77earzrHejiYWXDq5wpH8LwnXi23roTzmyh8q4ptk603d7BD6kl+LfdM03r7Ilq7/CL8bHVCvD55S3CR407xWqEHw9is9I6PTrpvTWj2+i0e3T05WJvv1f5dBocfbU/b2yst7Rz7YscC833n64q1wq0+aFyolWOe5VO6+6stt79VsN7X26kpmrdnaCzw1ulW628v6v+CPYD2Tk83d0TvnU/oZrmNasf9g73jzsVZ12/3pPantjW1ht/9r786B2G128PPu96P5p7e614/aP1zXU1xdh916vqbQMdHx/U5INvlVbnSPlRPTXi8wN8aOxVq0cH8tsWOtv4at02Kgeg0z/fb1ROD8wKPt51K4d3ex9b3+KWWv3U+vjx6G310jlV8H71y25133KEoB36gQdrI/i291a8Ey9rzd1m3L597x3a5n502BROOgd7J2rVrlz9+WdgxlHtW8e2TceQmncG+uz8uFKDTqh+9L/u1pzwoHP97kCuXdTk/T3Jqp42z9cPXT84QPtRTzFbV6rufMO1Eze48KqHR9g+DnH34upgtyNe7IeXtdqNIqkXF1GvAiMqcRR4xcU1uqzXyGH2X/gx3P2m7Qfg0o+2JMV0PM8vKPE62bPfoa3FOKRNuRGN45IQE9qG5eFZXDGJ9CapHmzBc59sXyjWjwTJtQjMA2mChLYkHjR7phNznnnttMzYD3loOWj4ZmjzvdCJ8Tm+iYujtshZn7Q1Qkdw+BYLY3EvgUbQy7nTwRAgFwdUcaYeSZBf45mqP19zkiAI1McB4wv+ZJFmcOb3OxbcFkaDI7mrgQUjnK3AveL2TccFwxb7HCn8B7Vs4Ad6EG6BNXZAZti0SWy+Pi67PgB7AH2ROH/AviaTwNMBTmHnTXJCv3G8oNs/aQr0TG74N4W5jfSPb7iZHN0wCFp5st8ReYjBucVxgU6jfIlvYY+0twuFnb9gFlABqveHMF59JmYvLLpfeKo5/9pc/xK+F3aKC6a7NsqPrHG+t0uW3/Zayv1HUWRpjRsmb7YLRdfsNGyTAtZN+hOGUipw9OjcLowleuD0nV+Y5OumM1NQmK5GMjv4uy/9neEEk1+Pps4lxEslPFFpHOwVdkRxcnCvJ8pOOsCFHW7eFCa808LzqS+tBv+eEpdV6S+oTJyvsgS1Fnb++epG0rZCHDl28md+NCim1KCYUQ1Ky2gQDl0wmHlToZRShVJGVShPq3AyQh7cHM50LHeyyb2yGzpSzK15WSHCpjN+LM9bvIMXE/RzQtwkjVhKVv2bU4nzwk6AvTvTGSUNqN8bmODo1Zvg9JHUNj+p6hMf1m2/9YBMuji9IuZ4TjM55clEWmFB6Zmifui0HM906xDBh9uphMtP1F3CTiiGJubJSkwKYHlrMVXvd1iNJZXu2L+qcsde7I3Jhi4iQ9V1SZAEPW/6duxf0TbUekZdU2v7i9omdReZ+se37AteTVhYuDRezV0/M6YaFmpwOzDGjheraJHFXdT/bw18Fqpg/EWeYGPdeIve4BIbm8yQTi258M9WvLVgGWVsi5H5/somo/Uea5stuwWnZPeayTeVfO/10UYvsuamXgxS2Cml084EpVm4kYibMrfRlxzNyCmjGfmx8kIThhykxL3iiKUas06c3/iBrZgzY0640ZqSISu6LYhNYY7B+h0BEpof4/ZfU14AH93D+VkIKOVCQBkNa5XF6UCBF0XNkAWkq5qhS7qKUB7sdzLzdBpUvj+yvS69/G3wVBnyX9wAmcMbYnbwRqrUqvgy8Ib4MN5QcnIEiSnxhphRvCGuLN4Qv6fdg9nEG+KSeMMMQ7+XNw1KKTUoZVSDjG4wupENuiEiRWZ4Y3XwhqApooiQaAiI4Q2GNxjeYHiD4Q0m38zjDeqn5ItviCn5hvisfEPTDAFrT8Q3xJXiG2JKviFmlG+IS/ANwRB1SRBUURJUXdRUORd8Q0zJN0TGN54zRZ4XviFlh2+kysxJL4NvSKvz+IaUkm9IGeUb0pJ8w4xjr+7n7OX/UkrEIWUUcUgrizik72kNaTYRh8QQB0McWUEcSNAFRjhWhnDIoiiLsiYJiD3AwQgHIxyMcDDCweSbfcJB3JR8AQ4pJeCQnhVwWE0dG01TfBLAIa0U4JBSAg4po4BDWg5wIFFBKtI1XdAlSc8F4JBSAg6JAY7nzJHnBXDI2QEcqU4y+WUADvlhwCHk5AiSUwIOOaOAQ17ZBzjklHRDzijdkFf3/anklHhDzijekBneYHgjK3hDQgaSGN9YMb6hikhiT3AwvsH4BuMbjG8w+Wafb1A/JV+AQ/6eNi307IDDFownARzySgEOOSXgkDMKOORlAIemS7KGRCSrgoBU2cgF4JBTAg6ZAY7nzJHnBXCg7ACOVAYMvQzAgR4GHFJOjiCUEnCgjAIOtLKAA6UEHCijgAOt7OMbKCXfQBnlG4jxDcY3MvMOVaIq6oxvrAzfkFRJEgxVkNk7VDG+wfgG4xuMbzD5voR3qCJ+Sr74BkrJN9Cz8o2GjeSGYMpPwjfQSvEN9D1tejCbfAMtxzcEA+lIEJChIVlVcsE3UEq+gRjfeM4UeV74hpIdvpFq+Ssvg28oD/ONnATRyVRTaTCbfENZWb6hpOQbSkb5hrKyfENJyTeUjPINhfENxjcy8/yGIcns+Y1V+wQOGSH2/lSMbzC+wfgG4xtMvi/h+Q3ip+SLbygp+Yby/J/AoSD7SfiGslJ8Q0nJN5SM8g1lKb6BZEGRdB0ZsirLkpYLvqF8T5vgZXzjGVPkeeEbanb4hppGeerL4Bvq6jy/oabkG2pG+Ya6snxDTck31IzyDXVl+Yaakm+oGeUbKuMbjG9k5xPGVZHxjZV7fkMTFYnxDcY3GN9gfIPxDSbfF/AJ46qYM76hpuQb6vM/vyGhp/mEcXWl+Iaakm+oGeUb6lJ8Q0CqJMu6KqmyjjSUC76hpuQbKuMbz5kizxzf4GgxbP8i59Cywzm0NErUXgbn0B7mHHJOjiItJefQMso5tCU5RxyaXmSB9MJcpcq1lLBDyyjs0FYWdmgpYYeWUdihMdjBYEdmYIegsA8bX7mHOQQV6QKDHQx2MNjBYAeDHUy+2YcdxE/JF+zQUsIO7dkf5rCx9jQfxqGtFOzQUsIOLaOwQ1sGdqiaaki6oUuirKuynI+HObSUsENjsOM58+R5eZhDzw7k0NMoT38ZkENfnTer0lNCDj2jkENf2Yc59JR8Q88o39BXlm/oKfmGnlG+oTO+wfhGVviGLBoK4xur92ZVusD4BuMbjG8wvsH4BpNv9vkG9VPyxTf0lHxDz8CbValP82Ec+krxDT0l39Azyjf0pfiGopJP4RAVFcmyKOTjwzj0lHxDZ3zjOVPkeeEbRnb4hpFGecbL4BvGw3xDyckRZKTkG0ZG+YaxsnzDSMk3jIzyDWNl+YaRkm8YGeUbBuMbjG9k5vkNWZcZ31g1voFETVMZ32B8g/ENxjcY32Dyzf7zG8RPyRffMFLyDeP5+YYmak/CN4yV4htGSr5hZJRvGEvxDSSAH4pkQVNFWdbkXPANIyXfMH4j33ixInyqBPm8X9+XEcyghu1c7/wfmOwHfw==</script> <treescope-run-here><script type=\"application/octet-stream\"> const root = ( Array.from(document.getElementsByClassName( \"treescope_out_eb4d7e9db2414c158c692ddfd51248fb\")) .filter((elt) => !elt.dataset['step0']) )[0]; root.dataset['step0'] = 1; root.defns.insertContent( this.parentNode.querySelector('script[type=\"application/octet-stream\"]'), true ); this.parentNode.remove(); </script></treescope-run-here> </div>"
      ],
      "text/plain": [
       "<IPython.core.display.HTML object>"
      ]
     },
     "metadata": {},
     "output_type": "display_data"
    },
    {
     "data": {
      "text/html": [
       "<treescope-run-here><script type=\"application/octet-stream\"> const root = ( Array.from(document.getElementsByClassName( \"treescope_out_eb4d7e9db2414c158c692ddfd51248fb\")) .filter((elt) => !elt.dataset.stolen) )[0]; root.dataset.stolen = 1; this.parentNode.replaceChild(root, this); </script></treescope-run-here>"
      ],
      "text/plain": [
       "[(11, 'resid', 'output', 5971, None, 0.11793048679828644),\n",
       " (15, 'resid', 'arrow', 14531, None, 0.09182006120681763),\n",
       " (11, 'attn_out', 'arrow', 4080, None, 0.09141546487808228),\n",
       " (10, 'resid', 'output', 24942, None, 0.07823741436004639),\n",
       " (12, 'resid', 'arrow', 11618, None, 0.07809484004974365),\n",
       " (14, 'resid', 'arrow', 29232, None, 0.07430528849363327),\n",
       " (12, 'resid', 'arrow', 14612, None, 0.07046233862638474),\n",
       " (13, 'transcoder', 'arrow', 10580, None, 0.06769289821386337),\n",
       " (14, 'resid', 'arrow', 31950, None, 0.06569743156433105),\n",
       " (15, 'resid', 'arrow', 13830, None, 0.06401394307613373)]"
      ]
     },
     "execution_count": 43,
     "metadata": {},
     "output_type": "execute_result"
    }
   ],
   "source": [
    "circuit_nodes_with_ies[:10]"
   ]
  },
  {
   "cell_type": "code",
   "execution_count": 45,
   "metadata": {},
   "outputs": [],
   "source": [
    "from tqdm.auto import tqdm\n",
    "import numpy as np\n",
    "\n",
    "combined_ies = {}\n",
    "for node in circuit_nodes_with_ies:\n",
    "    layer, type, mask, idx, pos, ie = node\n",
    "    combined_ies[(layer, mask, type[0], idx)] = ie"
   ]
  },
  {
   "cell_type": "code",
   "execution_count": 46,
   "metadata": {},
   "outputs": [],
   "source": [
    "combined_ies = [\n",
    "    key + (weight,)\n",
    "    for key, weight in combined_ies.items()\n",
    "]"
   ]
  },
  {
   "cell_type": "code",
   "execution_count": 47,
   "metadata": {},
   "outputs": [
    {
     "data": {
      "application/vnd.jupyter.widget-view+json": {
       "model_id": "27e5c4d98dec42f2a73c82cfcbd85f2b",
       "version_major": 2,
       "version_minor": 0
      },
      "text/plain": [
       "  0%|          | 0/7 [00:00<?, ?it/s]"
      ]
     },
     "metadata": {},
     "output_type": "display_data"
    }
   ],
   "source": [
    "typed_ies_error = {\n",
    "    \"er\": circuitizer.ie_error_resid,\n",
    "    \"ea\": circuitizer.ie_error_attn,\n",
    "    \"et\": circuitizer.ie_error_transcoder,\n",
    "}\n",
    "\n",
    "for layer in tqdm(layers):\n",
    "    for type in typed_ies_error:\n",
    "        if layer in typed_ies_error[type]: \n",
    "            ies = typed_ies_error[type][layer]\n",
    "            for mask in circuitizer.masks:\n",
    "                ies_mask = circuitizer.mask_average(ies, mask)\n",
    "                # print(ies_mask.tolist())\n",
    "                # raise\n",
    "                combined_ies.append((layer, mask, type, 0, ies_mask.tolist()))"
   ]
  },
  {
   "cell_type": "code",
   "execution_count": 48,
   "metadata": {},
   "outputs": [],
   "source": [
    "combined_ies = sorted(combined_ies, key=lambda x: -x[-1])"
   ]
  },
  {
   "cell_type": "code",
   "execution_count": 49,
   "metadata": {},
   "outputs": [
    {
     "data": {
      "text/html": [
       "<script> (()=>{ if (customElements.get('treescope-container') === undefined) { class TreescopeContainer extends HTMLElement { constructor() { super(); this.attachShadow({mode: \"open\"}); this.defns = {}; this.state = {}; } } customElements.define(\"treescope-container\", TreescopeContainer); } if (customElements.get('treescope-run-here') === undefined) { class RunHere extends HTMLElement { constructor() { super() } connectedCallback() { const run = child => { const fn = new Function(child.textContent); child.textContent = \"\"; fn.call(this); this.remove(); }; const child = this.querySelector(\"script\"); if (child) { run(child); } else { new MutationObserver(()=>{ run(this.querySelector(\"script\")); }).observe(this, {childList: true}); } } } customElements.define(\"treescope-run-here\", RunHere); } })(); </script> <treescope-container class=\"treescope_out_720030d8cbc744cda259dad0ebe1ad76\" ></treescope-container> <treescope-run-here><script type=\"application/octet-stream\"> const root = ( Array.from(document.getElementsByClassName( \"treescope_out_720030d8cbc744cda259dad0ebe1ad76\")) .filter((elt) => !elt.dataset.setup) )[0]; root.dataset.setup = 1; const msg = document.createElement(\"span\"); msg.style = \"color: #aaaaaa; font-family: monospace; transition: opacity 0.2s; opacity: 0.0;\"; msg.textContent = \"(Loading...)\"; root.state.loadingMsg = msg; root.shadowRoot.appendChild(msg); root.state.chain = new Promise((resolve, reject) => { const observer = new IntersectionObserver((entries) => { for (const entry of entries) { if (entry.isIntersecting) { resolve(); observer.disconnect(); return; } } }, {rootMargin: \"1000px\"}); window.setTimeout(() => { if (root.loadingMsg) { root.loadingMsg.style.opacity = \"1.0\"; } observer.observe(root); }, 0); }); root.state.deferring = false; const _insertNode = (node) => { for (let oldScript of node.querySelectorAll(\"script\")) { let newScript = document.createElement(\"script\"); newScript.type = oldScript.type; newScript.textContent = oldScript.textContent; oldScript.parentNode.replaceChild(newScript, oldScript); } if (root.state.loadingMsg) { root.state.loadingMsg.remove(); root.state.loadingMsg = null; } root.shadowRoot.appendChild(node); }; root.defns.insertContent = ((contentNode, compressed) => { if (compressed) { root.state.deferring = true; } if (root.state.deferring) { root.state.chain = (async () => { await root.state.chain; if (compressed) { const encoded = contentNode.textContent; const blob = new Blob([ Uint8Array.from(atob(encoded), (m) => m.codePointAt(0)) ]); const reader = blob.stream().pipeThrough( new DecompressionStream(\"deflate\") ).pipeThrough( new TextDecoderStream(\"utf-8\") ).getReader(); const parts = []; while (true) { const step = await reader.read(); if (step.done) { break; } parts.push(step.value); } const tpl = document.createElement('template'); tpl.innerHTML = parts.join(\"\"); _insertNode(tpl.content); } else { _insertNode(contentNode.content); } })(); } else { _insertNode(contentNode.content); } }); </script></treescope-run-here><div style=\"display:none\"> <script type=\"application/octet-stream\" >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</script> <treescope-run-here><script type=\"application/octet-stream\"> const root = ( Array.from(document.getElementsByClassName( \"treescope_out_720030d8cbc744cda259dad0ebe1ad76\")) .filter((elt) => !elt.dataset['step0']) )[0]; root.dataset['step0'] = 1; root.defns.insertContent( this.parentNode.querySelector('script[type=\"application/octet-stream\"]'), true ); this.parentNode.remove(); </script></treescope-run-here> </div>"
      ],
      "text/plain": [
       "<IPython.core.display.HTML object>"
      ]
     },
     "metadata": {},
     "output_type": "display_data"
    },
    {
     "data": {
      "text/html": [
       "<treescope-run-here><script type=\"application/octet-stream\"> const root = ( Array.from(document.getElementsByClassName( \"treescope_out_720030d8cbc744cda259dad0ebe1ad76\")) .filter((elt) => !elt.dataset.stolen) )[0]; root.dataset.stolen = 1; this.parentNode.replaceChild(root, this); </script></treescope-run-here>"
      ],
      "text/plain": [
       "[(14, 'arrow', 'er', 0, 1.7667078971862793),\n",
       " (15, 'arrow', 'er', 0, 1.296907901763916),\n",
       " (13, 'arrow', 'er', 0, 1.1658376455307007),\n",
       " (16, 'arrow', 'er', 0, 1.0805821418762207),\n",
       " (12, 'arrow', 'er', 0, 0.8983602523803711),\n",
       " (11, 'arrow', 'er', 0, 0.5918699502944946),\n",
       " (12, 'input', 'er', 0, 0.5273761749267578),\n",
       " (10, 'output', 'er', 0, 0.47243818640708923),\n",
       " (11, 'output', 'er', 0, 0.409839391708374),\n",
       " (13, 'arrow', 'ea', 0, 0.38551709055900574),\n",
       " (11, 'input', 'er', 0, 0.3488181233406067),\n",
       " (10, 'input', 'er', 0, 0.28463220596313477),\n",
       " (12, 'arrow', 'ea', 0, 0.27820712327957153),\n",
       " (10, 'arrow', 'er', 0, 0.25642627477645874),\n",
       " (13, 'input', 'er', 0, 0.21717146039009094),\n",
       " (12, 'output', 'er', 0, 0.21138928830623627),\n",
       " (11, 'prompt', 'er', 0, 0.19057181477546692),\n",
       " (13, 'arrow', 'et', 0, 0.17093703150749207),\n",
       " (12, 'newline', 'er', 0, 0.16297009587287903),\n",
       " (11, 'arrow', 'et', 0, 0.14785458147525787),\n",
       " (14, 'input', 'er', 0, 0.14040738344192505),\n",
       " (13, 'output', 'er', 0, 0.14011725783348083),\n",
       " (12, 'prompt', 'er', 0, 0.13202783465385437),\n",
       " (14, 'arrow', 'ea', 0, 0.12602093815803528),\n",
       " (14, 'arrow', 'et', 0, 0.12574779987335205),\n",
       " (13, 'newline', 'er', 0, 0.11940783262252808),\n",
       " (11, 'output', 'r', 5971, 0.11793048679828644),\n",
       " (12, 'arrow', 'et', 0, 0.09821388125419617),\n",
       " (11, 'input', 'ea', 0, 0.09598475694656372),\n",
       " (16, 'input', 'er', 0, 0.09340478479862213),\n",
       " (15, 'arrow', 'r', 14531, 0.09182006120681763),\n",
       " (11, 'arrow', 'a', 4080, 0.09141546487808228),\n",
       " (11, 'input', 'et', 0, 0.08196011185646057),\n",
       " (10, 'output', 'r', 24942, 0.07823741436004639),\n",
       " (12, 'arrow', 'r', 11618, 0.07809484004974365),\n",
       " (14, 'output', 'er', 0, 0.07658018916845322),\n",
       " (10, 'prompt', 'et', 0, 0.07557787746191025),\n",
       " (15, 'input', 'er', 0, 0.07450486719608307),\n",
       " (14, 'arrow', 'r', 29232, 0.07430528849363327),\n",
       " (10, 'output', 'ea', 0, 0.07252879440784454),\n",
       " (10, 'arrow', 'ea', 0, 0.07120969891548157),\n",
       " (16, 'newline', 'er', 0, 0.07103303074836731),\n",
       " (12, 'arrow', 'r', 14612, 0.07046233862638474),\n",
       " (13, 'arrow', 't', 10580, 0.06769289821386337),\n",
       " (14, 'arrow', 'r', 31950, 0.06569743156433105),\n",
       " (15, 'arrow', 'r', 13830, 0.06401394307613373),\n",
       " (10, 'arrow', 'et', 0, 0.06340807676315308),\n",
       " (10, 'output', 'r', 31539, 0.06139936298131943),\n",
       " (13, 'arrow', 'r', 22840, 0.059694305062294006),\n",
       " (10, 'output', 'r', 4338, 0.05724460259079933),\n",
       " (14, 'arrow', 'r', 29566, 0.05704740434885025),\n",
       " (14, 'newline', 'er', 0, 0.05682958662509918),\n",
       " (11, 'arrow', 't', 28850, 0.056078992784023285),\n",
       " (15, 'output', 'er', 0, 0.05583721399307251),\n",
       " (11, 'arrow', 'r', 19051, 0.055211421102285385),\n",
       " (10, 'prompt', 'er', 0, 0.05450291186571121),\n",
       " (14, 'arrow', 'r', 10111, 0.05408983677625656),\n",
       " (15, 'arrow', 'r', 25945, 0.053145430982112885),\n",
       " (11, 'output', 'ea', 0, 0.05306311696767807),\n",
       " (11, 'input', 'r', 16172, 0.05210941657423973),\n",
       " (12, 'input', 'r', 4370, 0.05159807950258255),\n",
       " (11, 'newline', 'er', 0, 0.051471009850502014),\n",
       " (16, 'arrow', 'r', 16396, 0.05079256743192673),\n",
       " (14, 'arrow', 'r', 28220, 0.0493013896048069),\n",
       " (12, 'arrow', 'r', 16490, 0.048765797168016434),\n",
       " (12, 'input', 'r', 5596, 0.04802890494465828),\n",
       " (15, 'arrow', 'ea', 0, 0.04786405712366104),\n",
       " (16, 'arrow', 'a', 26950, 0.04743805155158043),\n",
       " (12, 'arrow', 'r', 18840, 0.04552854225039482),\n",
       " (16, 'arrow', 'r', 19087, 0.04550020769238472),\n",
       " (15, 'arrow', 'r', 7118, 0.045457009226083755),\n",
       " (12, 'arrow', 'r', 10720, 0.04385517165064812),\n",
       " (16, 'prompt', 'er', 0, 0.04326814413070679),\n",
       " (16, 'output', 'er', 0, 0.04264267906546593),\n",
       " (12, 'arrow', 'r', 22136, 0.04255242645740509),\n",
       " (16, 'arrow', 'r', 24991, 0.04172258451581001),\n",
       " (15, 'arrow', 't', 9772, 0.041055433452129364),\n",
       " (11, 'newline', 'et', 0, 0.04010266438126564),\n",
       " (10, 'output', 'r', 29472, 0.039510831236839294),\n",
       " (11, 'arrow', 'r', 31442, 0.0393817275762558),\n",
       " (10, 'arrow', 'r', 4338, 0.038153357803821564),\n",
       " (13, 'input', 'r', 8977, 0.03789691627025604),\n",
       " (15, 'arrow', 't', 16426, 0.037836283445358276),\n",
       " (12, 'arrow', 'a', 6492, 0.034998297691345215),\n",
       " (11, 'input', 't', 19207, 0.03487686440348625),\n",
       " (10, 'input', 't', 13121, 0.03469953313469887),\n",
       " (15, 'arrow', 't', 29885, 0.03316058963537216),\n",
       " (10, 'arrow', 'a', 18907, 0.03300986438989639),\n",
       " (10, 'arrow', 'r', 20168, 0.03252236172556877),\n",
       " (10, 'input', 'r', 4338, 0.032376233488321304),\n",
       " (11, 'newline', 'r', 17046, 0.031098928302526474),\n",
       " (13, 'input', 'r', 22551, 0.031086668372154236),\n",
       " (11, 'arrow', 'a', 24084, 0.03085789829492569),\n",
       " (10, 'output', 'r', 7666, 0.030682619661092758),\n",
       " (13, 'arrow', 'r', 9113, 0.030635656788945198),\n",
       " (11, 'newline', 'ea', 0, 0.030556732788681984),\n",
       " (11, 'output', 'et', 0, 0.030302464962005615),\n",
       " (10, 'prompt', 'r', 11898, 0.03029516711831093),\n",
       " (11, 'arrow', 'r', 28800, 0.029192831367254257),\n",
       " (15, 'arrow', 'r', 6663, 0.02915826067328453)]"
      ]
     },
     "execution_count": 49,
     "metadata": {},
     "output_type": "execute_result"
    }
   ],
   "source": [
    "combined_ies[:100]"
   ]
  },
  {
   "cell_type": "code",
   "execution_count": 57,
   "metadata": {},
   "outputs": [],
   "source": [
    "\n",
    "from collections import defaultdict\n",
    "circuit_node_dict = defaultdict(list)\n",
    "for node in combined_ies:\n",
    "    layer, mask, type, idx, weight = node\n",
    "    circuit_node_dict[(type, layer, mask)].append(idx)\n",
    "\n",
    "circuit_node_dict = {\n",
    "    k: np.array(v) for k,v in circuit_node_dict.items()\n",
    "}"
   ]
  },
  {
   "cell_type": "code",
   "execution_count": 60,
   "metadata": {},
   "outputs": [
    {
     "data": {
      "application/vnd.jupyter.widget-view+json": {
       "model_id": "33512377c98c4da4b398f13a16d996ee",
       "version_major": 2,
       "version_minor": 0
      },
      "text/plain": [
       "  0%|          | 0/185 [00:00<?, ?it/s]"
      ]
     },
     "metadata": {},
     "output_type": "display_data"
    },
    {
     "data": {
      "application/vnd.jupyter.widget-view+json": {
       "model_id": "ba1b639b27c24ba3bcfd78660c33f525",
       "version_major": 2,
       "version_minor": 0
      },
      "text/plain": [
       "  0%|          | 0/1 [00:00<?, ?it/s, ('arrow', 'a', 16)]"
      ]
     },
     "metadata": {},
     "output_type": "display_data"
    },
    {
     "data": {
      "application/vnd.jupyter.widget-view+json": {
       "model_id": "1776e6bb85a94c6ab092464473e7abd6",
       "version_major": 2,
       "version_minor": 0
      },
      "text/plain": [
       "  0%|          | 0/1 [00:00<?, ?it/s, ('arrow', 'ea', 16)]"
      ]
     },
     "metadata": {},
     "output_type": "display_data"
    },
    {
     "data": {
      "application/vnd.jupyter.widget-view+json": {
       "model_id": "65c8833573974bb9886dde04489e9046",
       "version_major": 2,
       "version_minor": 0
      },
      "text/plain": [
       "  0%|          | 0/1 [00:00<?, ?it/s, ('input', 'ea', 16)]"
      ]
     },
     "metadata": {},
     "output_type": "display_data"
    },
    {
     "data": {
      "application/vnd.jupyter.widget-view+json": {
       "model_id": "a782dc9cd3074fa28f07e9787498092f",
       "version_major": 2,
       "version_minor": 0
      },
      "text/plain": [
       "  0%|          | 0/1 [00:00<?, ?it/s, ('newline', 'ea', 16)]"
      ]
     },
     "metadata": {},
     "output_type": "display_data"
    },
    {
     "data": {
      "application/vnd.jupyter.widget-view+json": {
       "model_id": "fffb347c2b094ec596c480d0d78e94af",
       "version_major": 2,
       "version_minor": 0
      },
      "text/plain": [
       "  0%|          | 0/1 [00:00<?, ?it/s, ('output', 'ea', 16)]"
      ]
     },
     "metadata": {},
     "output_type": "display_data"
    },
    {
     "data": {
      "application/vnd.jupyter.widget-view+json": {
       "model_id": "ddb395e2798b4e719d9e5b1387073979",
       "version_major": 2,
       "version_minor": 0
      },
      "text/plain": [
       "  0%|          | 0/1 [00:00<?, ?it/s, ('prompt', 'ea', 16)]"
      ]
     },
     "metadata": {},
     "output_type": "display_data"
    },
    {
     "data": {
      "application/vnd.jupyter.widget-view+json": {
       "model_id": "c7a1a852b2804535b9a9c06084adb671",
       "version_major": 2,
       "version_minor": 0
      },
      "text/plain": [
       "  0%|          | 0/1 [00:00<?, ?it/s, ('arrow', 'er', 16)]"
      ]
     },
     "metadata": {},
     "output_type": "display_data"
    },
    {
     "data": {
      "application/vnd.jupyter.widget-view+json": {
       "model_id": "8a67688f500a42b1b81aad2e26d854e8",
       "version_major": 2,
       "version_minor": 0
      },
      "text/plain": [
       "  0%|          | 0/1 [00:00<?, ?it/s, ('input', 'er', 16)]"
      ]
     },
     "metadata": {},
     "output_type": "display_data"
    },
    {
     "data": {
      "application/vnd.jupyter.widget-view+json": {
       "model_id": "2540977aa57e45899646fda73222e04a",
       "version_major": 2,
       "version_minor": 0
      },
      "text/plain": [
       "  0%|          | 0/1 [00:00<?, ?it/s, ('newline', 'er', 16)]"
      ]
     },
     "metadata": {},
     "output_type": "display_data"
    },
    {
     "data": {
      "application/vnd.jupyter.widget-view+json": {
       "model_id": "8dcc812e8953452699bc1b1fcfe47891",
       "version_major": 2,
       "version_minor": 0
      },
      "text/plain": [
       "  0%|          | 0/1 [00:00<?, ?it/s, ('output', 'er', 16)]"
      ]
     },
     "metadata": {},
     "output_type": "display_data"
    },
    {
     "data": {
      "application/vnd.jupyter.widget-view+json": {
       "model_id": "352e1f8eec9141d897b476ddf8c036b7",
       "version_major": 2,
       "version_minor": 0
      },
      "text/plain": [
       "  0%|          | 0/1 [00:00<?, ?it/s, ('prompt', 'er', 16)]"
      ]
     },
     "metadata": {},
     "output_type": "display_data"
    },
    {
     "data": {
      "application/vnd.jupyter.widget-view+json": {
       "model_id": "44084514f6934fd98fea5f82e2d84f77",
       "version_major": 2,
       "version_minor": 0
      },
      "text/plain": [
       "  0%|          | 0/9 [00:00<?, ?it/s, ('arrow', 'r', 16)]"
      ]
     },
     "metadata": {},
     "output_type": "display_data"
    },
    {
     "data": {
      "application/vnd.jupyter.widget-view+json": {
       "model_id": "d89d01cb941a48588851edcd982a09cb",
       "version_major": 2,
       "version_minor": 0
      },
      "text/plain": [
       "  0%|          | 0/1 [00:00<?, ?it/s, ('input', 'r', 16)]"
      ]
     },
     "metadata": {},
     "output_type": "display_data"
    },
    {
     "data": {
      "application/vnd.jupyter.widget-view+json": {
       "model_id": "5698fe39b8b34557aeeec6baa24cb920",
       "version_major": 2,
       "version_minor": 0
      },
      "text/plain": [
       "  0%|          | 0/1 [00:00<?, ?it/s, ('newline', 'r', 16)]"
      ]
     },
     "metadata": {},
     "output_type": "display_data"
    },
    {
     "data": {
      "application/vnd.jupyter.widget-view+json": {
       "model_id": "9ace9f3cf582400aac56ba893baed6ed",
       "version_major": 2,
       "version_minor": 0
      },
      "text/plain": [
       "  0%|          | 0/1 [00:00<?, ?it/s, ('output', 'r', 16)]"
      ]
     },
     "metadata": {},
     "output_type": "display_data"
    },
    {
     "data": {
      "application/vnd.jupyter.widget-view+json": {
       "model_id": "0ff71abc30ab4c10bcbc993ea18ce3e8",
       "version_major": 2,
       "version_minor": 0
      },
      "text/plain": [
       "  0%|          | 0/1 [00:00<?, ?it/s, ('prompt', 'r', 16)]"
      ]
     },
     "metadata": {},
     "output_type": "display_data"
    },
    {
     "data": {
      "application/vnd.jupyter.widget-view+json": {
       "model_id": "a80751baabad4e56abc40beb00b17b23",
       "version_major": 2,
       "version_minor": 0
      },
      "text/plain": [
       "  0%|          | 0/1 [00:00<?, ?it/s, ('arrow', 'a', 15)]"
      ]
     },
     "metadata": {},
     "output_type": "display_data"
    },
    {
     "data": {
      "application/vnd.jupyter.widget-view+json": {
       "model_id": "fc61d47f92be441da561382b238d84d3",
       "version_major": 2,
       "version_minor": 0
      },
      "text/plain": [
       "  0%|          | 0/1 [00:00<?, ?it/s, ('arrow', 'ea', 15)]"
      ]
     },
     "metadata": {},
     "output_type": "display_data"
    },
    {
     "data": {
      "application/vnd.jupyter.widget-view+json": {
       "model_id": "51788fe41c7747a7acac0652ac090614",
       "version_major": 2,
       "version_minor": 0
      },
      "text/plain": [
       "  0%|          | 0/1 [00:00<?, ?it/s, ('input', 'ea', 15)]"
      ]
     },
     "metadata": {},
     "output_type": "display_data"
    },
    {
     "data": {
      "application/vnd.jupyter.widget-view+json": {
       "model_id": "7c733add8a604365a294d51ebe6d2b55",
       "version_major": 2,
       "version_minor": 0
      },
      "text/plain": [
       "  0%|          | 0/1 [00:00<?, ?it/s, ('newline', 'ea', 15)]"
      ]
     },
     "metadata": {},
     "output_type": "display_data"
    },
    {
     "data": {
      "application/vnd.jupyter.widget-view+json": {
       "model_id": "f23f7846287f41849ce6fde939f50c5b",
       "version_major": 2,
       "version_minor": 0
      },
      "text/plain": [
       "  0%|          | 0/1 [00:00<?, ?it/s, ('output', 'ea', 15)]"
      ]
     },
     "metadata": {},
     "output_type": "display_data"
    },
    {
     "data": {
      "application/vnd.jupyter.widget-view+json": {
       "model_id": "b8933d875d394831a19d00fb19064f1b",
       "version_major": 2,
       "version_minor": 0
      },
      "text/plain": [
       "  0%|          | 0/1 [00:00<?, ?it/s, ('prompt', 'ea', 15)]"
      ]
     },
     "metadata": {},
     "output_type": "display_data"
    },
    {
     "data": {
      "application/vnd.jupyter.widget-view+json": {
       "model_id": "85a82e185fa64cc1887ab9449c07e8f3",
       "version_major": 2,
       "version_minor": 0
      },
      "text/plain": [
       "  0%|          | 0/1 [00:00<?, ?it/s, ('arrow', 'er', 15)]"
      ]
     },
     "metadata": {},
     "output_type": "display_data"
    },
    {
     "data": {
      "application/vnd.jupyter.widget-view+json": {
       "model_id": "0e375908adbe45238b17f830a92bca81",
       "version_major": 2,
       "version_minor": 0
      },
      "text/plain": [
       "  0%|          | 0/1 [00:00<?, ?it/s, ('input', 'er', 15)]"
      ]
     },
     "metadata": {},
     "output_type": "display_data"
    },
    {
     "data": {
      "application/vnd.jupyter.widget-view+json": {
       "model_id": "77bc1c8073da48aeb8f6d8a5104bb30a",
       "version_major": 2,
       "version_minor": 0
      },
      "text/plain": [
       "  0%|          | 0/1 [00:00<?, ?it/s, ('newline', 'er', 15)]"
      ]
     },
     "metadata": {},
     "output_type": "display_data"
    },
    {
     "data": {
      "application/vnd.jupyter.widget-view+json": {
       "model_id": "5ffdc48d131c4c6f9576289dd809f746",
       "version_major": 2,
       "version_minor": 0
      },
      "text/plain": [
       "  0%|          | 0/1 [00:00<?, ?it/s, ('output', 'er', 15)]"
      ]
     },
     "metadata": {},
     "output_type": "display_data"
    },
    {
     "data": {
      "application/vnd.jupyter.widget-view+json": {
       "model_id": "91bb768573d54f66923c530e135bbf95",
       "version_major": 2,
       "version_minor": 0
      },
      "text/plain": [
       "  0%|          | 0/1 [00:00<?, ?it/s, ('prompt', 'er', 15)]"
      ]
     },
     "metadata": {},
     "output_type": "display_data"
    },
    {
     "data": {
      "application/vnd.jupyter.widget-view+json": {
       "model_id": "db1fb3a025c4409eadf847d39f531b1c",
       "version_major": 2,
       "version_minor": 0
      },
      "text/plain": [
       "  0%|          | 0/1 [00:00<?, ?it/s, ('arrow', 'et', 15)]"
      ]
     },
     "metadata": {},
     "output_type": "display_data"
    },
    {
     "data": {
      "application/vnd.jupyter.widget-view+json": {
       "model_id": "92503288d4734360936feba470c2999c",
       "version_major": 2,
       "version_minor": 0
      },
      "text/plain": [
       "  0%|          | 0/1 [00:00<?, ?it/s, ('input', 'et', 15)]"
      ]
     },
     "metadata": {},
     "output_type": "display_data"
    },
    {
     "data": {
      "application/vnd.jupyter.widget-view+json": {
       "model_id": "67c3ae689c3f4b0f9a400ccd39831b9c",
       "version_major": 2,
       "version_minor": 0
      },
      "text/plain": [
       "  0%|          | 0/1 [00:00<?, ?it/s, ('newline', 'et', 15)]"
      ]
     },
     "metadata": {},
     "output_type": "display_data"
    },
    {
     "data": {
      "application/vnd.jupyter.widget-view+json": {
       "model_id": "bfd05b8feaaa4dcfb3382fc49a9d234d",
       "version_major": 2,
       "version_minor": 0
      },
      "text/plain": [
       "  0%|          | 0/1 [00:00<?, ?it/s, ('output', 'et', 15)]"
      ]
     },
     "metadata": {},
     "output_type": "display_data"
    },
    {
     "data": {
      "application/vnd.jupyter.widget-view+json": {
       "model_id": "bc0b0e9a080243eabd6a2475c07e95a4",
       "version_major": 2,
       "version_minor": 0
      },
      "text/plain": [
       "  0%|          | 0/1 [00:00<?, ?it/s, ('prompt', 'et', 15)]"
      ]
     },
     "metadata": {},
     "output_type": "display_data"
    },
    {
     "data": {
      "application/vnd.jupyter.widget-view+json": {
       "model_id": "3d1cf1796dea443997820b1e420e148b",
       "version_major": 2,
       "version_minor": 0
      },
      "text/plain": [
       "  0%|          | 0/9 [00:00<?, ?it/s, ('arrow', 'r', 15)]"
      ]
     },
     "metadata": {},
     "output_type": "display_data"
    },
    {
     "data": {
      "application/vnd.jupyter.widget-view+json": {
       "model_id": "225e3b95ce54422189330f1a5b073fde",
       "version_major": 2,
       "version_minor": 0
      },
      "text/plain": [
       "  0%|          | 0/1 [00:00<?, ?it/s, ('input', 'r', 15)]"
      ]
     },
     "metadata": {},
     "output_type": "display_data"
    },
    {
     "data": {
      "application/vnd.jupyter.widget-view+json": {
       "model_id": "e581e6811ecc4d2bb1f2325911480c98",
       "version_major": 2,
       "version_minor": 0
      },
      "text/plain": [
       "  0%|          | 0/1 [00:00<?, ?it/s, ('newline', 'r', 15)]"
      ]
     },
     "metadata": {},
     "output_type": "display_data"
    },
    {
     "data": {
      "application/vnd.jupyter.widget-view+json": {
       "model_id": "6b2ce9c0efb5462ba1cabea2833a13f7",
       "version_major": 2,
       "version_minor": 0
      },
      "text/plain": [
       "  0%|          | 0/1 [00:00<?, ?it/s, ('output', 'r', 15)]"
      ]
     },
     "metadata": {},
     "output_type": "display_data"
    },
    {
     "data": {
      "application/vnd.jupyter.widget-view+json": {
       "model_id": "d9663021cff748449562e57879a7a6df",
       "version_major": 2,
       "version_minor": 0
      },
      "text/plain": [
       "  0%|          | 0/1 [00:00<?, ?it/s, ('prompt', 'r', 15)]"
      ]
     },
     "metadata": {},
     "output_type": "display_data"
    },
    {
     "data": {
      "application/vnd.jupyter.widget-view+json": {
       "model_id": "7f5422a23e284852889db76aa7796bab",
       "version_major": 2,
       "version_minor": 0
      },
      "text/plain": [
       "  0%|          | 0/5 [00:00<?, ?it/s, ('arrow', 't', 15)]"
      ]
     },
     "metadata": {},
     "output_type": "display_data"
    },
    {
     "data": {
      "application/vnd.jupyter.widget-view+json": {
       "model_id": "df9e96d26d834b3b8d966556e347ff2d",
       "version_major": 2,
       "version_minor": 0
      },
      "text/plain": [
       "  0%|          | 0/1 [00:00<?, ?it/s, ('input', 't', 15)]"
      ]
     },
     "metadata": {},
     "output_type": "display_data"
    },
    {
     "data": {
      "application/vnd.jupyter.widget-view+json": {
       "model_id": "1d415c3554c54b98b20f7b44f78084d2",
       "version_major": 2,
       "version_minor": 0
      },
      "text/plain": [
       "  0%|          | 0/1 [00:00<?, ?it/s, ('newline', 't', 15)]"
      ]
     },
     "metadata": {},
     "output_type": "display_data"
    },
    {
     "data": {
      "application/vnd.jupyter.widget-view+json": {
       "model_id": "6bfb03573cc9484e85317d950868fac8",
       "version_major": 2,
       "version_minor": 0
      },
      "text/plain": [
       "  0%|          | 0/1 [00:00<?, ?it/s, ('output', 't', 15)]"
      ]
     },
     "metadata": {},
     "output_type": "display_data"
    },
    {
     "data": {
      "application/vnd.jupyter.widget-view+json": {
       "model_id": "4d8de75fdf9644a7879642e147afe397",
       "version_major": 2,
       "version_minor": 0
      },
      "text/plain": [
       "  0%|          | 0/1 [00:00<?, ?it/s, ('prompt', 't', 15)]"
      ]
     },
     "metadata": {},
     "output_type": "display_data"
    },
    {
     "data": {
      "application/vnd.jupyter.widget-view+json": {
       "model_id": "c23ecf02bba7446b93b59b75f9732419",
       "version_major": 2,
       "version_minor": 0
      },
      "text/plain": [
       "  0%|          | 0/2 [00:00<?, ?it/s, ('arrow', 'a', 14)]"
      ]
     },
     "metadata": {},
     "output_type": "display_data"
    },
    {
     "data": {
      "application/vnd.jupyter.widget-view+json": {
       "model_id": "7508e985ae3244e09463e272f03e9690",
       "version_major": 2,
       "version_minor": 0
      },
      "text/plain": [
       "  0%|          | 0/1 [00:00<?, ?it/s, ('arrow', 'ea', 14)]"
      ]
     },
     "metadata": {},
     "output_type": "display_data"
    },
    {
     "data": {
      "application/vnd.jupyter.widget-view+json": {
       "model_id": "e1dc2219ea9240ff9da15115654e8079",
       "version_major": 2,
       "version_minor": 0
      },
      "text/plain": [
       "  0%|          | 0/1 [00:00<?, ?it/s, ('input', 'ea', 14)]"
      ]
     },
     "metadata": {},
     "output_type": "display_data"
    },
    {
     "data": {
      "application/vnd.jupyter.widget-view+json": {
       "model_id": "d50421175dd947838e5ad7617dad0d9c",
       "version_major": 2,
       "version_minor": 0
      },
      "text/plain": [
       "  0%|          | 0/1 [00:00<?, ?it/s, ('newline', 'ea', 14)]"
      ]
     },
     "metadata": {},
     "output_type": "display_data"
    },
    {
     "data": {
      "application/vnd.jupyter.widget-view+json": {
       "model_id": "91f8afbe29b54e789280ce36dfa65862",
       "version_major": 2,
       "version_minor": 0
      },
      "text/plain": [
       "  0%|          | 0/1 [00:00<?, ?it/s, ('output', 'ea', 14)]"
      ]
     },
     "metadata": {},
     "output_type": "display_data"
    },
    {
     "data": {
      "application/vnd.jupyter.widget-view+json": {
       "model_id": "bdaf2f7d75f043a7b83b6789f5808778",
       "version_major": 2,
       "version_minor": 0
      },
      "text/plain": [
       "  0%|          | 0/1 [00:00<?, ?it/s, ('prompt', 'ea', 14)]"
      ]
     },
     "metadata": {},
     "output_type": "display_data"
    },
    {
     "data": {
      "application/vnd.jupyter.widget-view+json": {
       "model_id": "70208055c3d4479086965fd601263e23",
       "version_major": 2,
       "version_minor": 0
      },
      "text/plain": [
       "  0%|          | 0/1 [00:00<?, ?it/s, ('arrow', 'er', 14)]"
      ]
     },
     "metadata": {},
     "output_type": "display_data"
    },
    {
     "data": {
      "application/vnd.jupyter.widget-view+json": {
       "model_id": "68ab2a0ae0584d82b23ef37a1fa87f8d",
       "version_major": 2,
       "version_minor": 0
      },
      "text/plain": [
       "  0%|          | 0/1 [00:00<?, ?it/s, ('input', 'er', 14)]"
      ]
     },
     "metadata": {},
     "output_type": "display_data"
    },
    {
     "data": {
      "application/vnd.jupyter.widget-view+json": {
       "model_id": "45c3774bf169426083fe595eaa5c7b3a",
       "version_major": 2,
       "version_minor": 0
      },
      "text/plain": [
       "  0%|          | 0/1 [00:00<?, ?it/s, ('newline', 'er', 14)]"
      ]
     },
     "metadata": {},
     "output_type": "display_data"
    },
    {
     "data": {
      "application/vnd.jupyter.widget-view+json": {
       "model_id": "3835649900f947ae8e87a7de8e49a6f5",
       "version_major": 2,
       "version_minor": 0
      },
      "text/plain": [
       "  0%|          | 0/1 [00:00<?, ?it/s, ('output', 'er', 14)]"
      ]
     },
     "metadata": {},
     "output_type": "display_data"
    },
    {
     "data": {
      "application/vnd.jupyter.widget-view+json": {
       "model_id": "12757f3ca6984b03877ba3a8fe5f8289",
       "version_major": 2,
       "version_minor": 0
      },
      "text/plain": [
       "  0%|          | 0/1 [00:00<?, ?it/s, ('prompt', 'er', 14)]"
      ]
     },
     "metadata": {},
     "output_type": "display_data"
    },
    {
     "data": {
      "application/vnd.jupyter.widget-view+json": {
       "model_id": "3baff46847fd4b189b3c1d9bc30707b1",
       "version_major": 2,
       "version_minor": 0
      },
      "text/plain": [
       "  0%|          | 0/1 [00:00<?, ?it/s, ('arrow', 'et', 14)]"
      ]
     },
     "metadata": {},
     "output_type": "display_data"
    },
    {
     "data": {
      "application/vnd.jupyter.widget-view+json": {
       "model_id": "c25d13d953e042c7bbca65eaee3b78bf",
       "version_major": 2,
       "version_minor": 0
      },
      "text/plain": [
       "  0%|          | 0/1 [00:00<?, ?it/s, ('input', 'et', 14)]"
      ]
     },
     "metadata": {},
     "output_type": "display_data"
    },
    {
     "data": {
      "application/vnd.jupyter.widget-view+json": {
       "model_id": "d9eac4ac24674a349f0f379c77d72579",
       "version_major": 2,
       "version_minor": 0
      },
      "text/plain": [
       "  0%|          | 0/1 [00:00<?, ?it/s, ('newline', 'et', 14)]"
      ]
     },
     "metadata": {},
     "output_type": "display_data"
    },
    {
     "data": {
      "application/vnd.jupyter.widget-view+json": {
       "model_id": "825fa9c8bb354ccf83b85143c067b7c3",
       "version_major": 2,
       "version_minor": 0
      },
      "text/plain": [
       "  0%|          | 0/1 [00:00<?, ?it/s, ('output', 'et', 14)]"
      ]
     },
     "metadata": {},
     "output_type": "display_data"
    },
    {
     "data": {
      "application/vnd.jupyter.widget-view+json": {
       "model_id": "17026609b7a74ae583c01a02eb3b9c0d",
       "version_major": 2,
       "version_minor": 0
      },
      "text/plain": [
       "  0%|          | 0/1 [00:00<?, ?it/s, ('prompt', 'et', 14)]"
      ]
     },
     "metadata": {},
     "output_type": "display_data"
    },
    {
     "data": {
      "application/vnd.jupyter.widget-view+json": {
       "model_id": "b926efdaa7db45b386defea3528a9565",
       "version_major": 2,
       "version_minor": 0
      },
      "text/plain": [
       "  0%|          | 0/6 [00:00<?, ?it/s, ('arrow', 'r', 14)]"
      ]
     },
     "metadata": {},
     "output_type": "display_data"
    },
    {
     "data": {
      "application/vnd.jupyter.widget-view+json": {
       "model_id": "5f67429eea8143138b9d0fa4587cbbc5",
       "version_major": 2,
       "version_minor": 0
      },
      "text/plain": [
       "  0%|          | 0/3 [00:00<?, ?it/s, ('input', 'r', 14)]"
      ]
     },
     "metadata": {},
     "output_type": "display_data"
    },
    {
     "data": {
      "application/vnd.jupyter.widget-view+json": {
       "model_id": "967f449209d04de99aac50d77b84e5be",
       "version_major": 2,
       "version_minor": 0
      },
      "text/plain": [
       "  0%|          | 0/1 [00:00<?, ?it/s, ('newline', 'r', 14)]"
      ]
     },
     "metadata": {},
     "output_type": "display_data"
    },
    {
     "data": {
      "application/vnd.jupyter.widget-view+json": {
       "model_id": "3c84c9fedb7146df8c87687e80e13c0b",
       "version_major": 2,
       "version_minor": 0
      },
      "text/plain": [
       "  0%|          | 0/1 [00:00<?, ?it/s, ('output', 'r', 14)]"
      ]
     },
     "metadata": {},
     "output_type": "display_data"
    },
    {
     "data": {
      "application/vnd.jupyter.widget-view+json": {
       "model_id": "7bc7fd14d66840a7a7be92ae53d6c217",
       "version_major": 2,
       "version_minor": 0
      },
      "text/plain": [
       "  0%|          | 0/1 [00:00<?, ?it/s, ('prompt', 'r', 14)]"
      ]
     },
     "metadata": {},
     "output_type": "display_data"
    },
    {
     "data": {
      "application/vnd.jupyter.widget-view+json": {
       "model_id": "bb374373479a4218957ef5862065180e",
       "version_major": 2,
       "version_minor": 0
      },
      "text/plain": [
       "  0%|          | 0/7 [00:00<?, ?it/s, ('arrow', 't', 14)]"
      ]
     },
     "metadata": {},
     "output_type": "display_data"
    },
    {
     "data": {
      "application/vnd.jupyter.widget-view+json": {
       "model_id": "ba740eee6c064768963027c694b3f389",
       "version_major": 2,
       "version_minor": 0
      },
      "text/plain": [
       "  0%|          | 0/1 [00:00<?, ?it/s, ('input', 't', 14)]"
      ]
     },
     "metadata": {},
     "output_type": "display_data"
    },
    {
     "data": {
      "application/vnd.jupyter.widget-view+json": {
       "model_id": "1d3e4b1ab8884c10b764d11c8616057f",
       "version_major": 2,
       "version_minor": 0
      },
      "text/plain": [
       "  0%|          | 0/1 [00:00<?, ?it/s, ('newline', 't', 14)]"
      ]
     },
     "metadata": {},
     "output_type": "display_data"
    },
    {
     "data": {
      "application/vnd.jupyter.widget-view+json": {
       "model_id": "b5e354a514cc491d86539fee9db82d96",
       "version_major": 2,
       "version_minor": 0
      },
      "text/plain": [
       "  0%|          | 0/1 [00:00<?, ?it/s, ('output', 't', 14)]"
      ]
     },
     "metadata": {},
     "output_type": "display_data"
    },
    {
     "data": {
      "application/vnd.jupyter.widget-view+json": {
       "model_id": "90e6886a899041a7948edfc049927351",
       "version_major": 2,
       "version_minor": 0
      },
      "text/plain": [
       "  0%|          | 0/1 [00:00<?, ?it/s, ('prompt', 't', 14)]"
      ]
     },
     "metadata": {},
     "output_type": "display_data"
    },
    {
     "data": {
      "application/vnd.jupyter.widget-view+json": {
       "model_id": "be15a206d33341c88155475571926e1d",
       "version_major": 2,
       "version_minor": 0
      },
      "text/plain": [
       "  0%|          | 0/2 [00:00<?, ?it/s, ('arrow', 'a', 13)]"
      ]
     },
     "metadata": {},
     "output_type": "display_data"
    },
    {
     "data": {
      "application/vnd.jupyter.widget-view+json": {
       "model_id": "6ff932b9ff6f46b4b4b5f6f1f832f2b4",
       "version_major": 2,
       "version_minor": 0
      },
      "text/plain": [
       "  0%|          | 0/1 [00:00<?, ?it/s, ('input', 'a', 13)]"
      ]
     },
     "metadata": {},
     "output_type": "display_data"
    },
    {
     "data": {
      "application/vnd.jupyter.widget-view+json": {
       "model_id": "686f90ffe50b4d48afadb6a06091ddfa",
       "version_major": 2,
       "version_minor": 0
      },
      "text/plain": [
       "  0%|          | 0/1 [00:00<?, ?it/s, ('output', 'a', 13)]"
      ]
     },
     "metadata": {},
     "output_type": "display_data"
    },
    {
     "data": {
      "application/vnd.jupyter.widget-view+json": {
       "model_id": "2515463e45d84d7fafd52e00e333019a",
       "version_major": 2,
       "version_minor": 0
      },
      "text/plain": [
       "  0%|          | 0/1 [00:00<?, ?it/s, ('arrow', 'ea', 13)]"
      ]
     },
     "metadata": {},
     "output_type": "display_data"
    },
    {
     "data": {
      "application/vnd.jupyter.widget-view+json": {
       "model_id": "6b51332e17924321bc94254a21923071",
       "version_major": 2,
       "version_minor": 0
      },
      "text/plain": [
       "  0%|          | 0/1 [00:00<?, ?it/s, ('input', 'ea', 13)]"
      ]
     },
     "metadata": {},
     "output_type": "display_data"
    },
    {
     "data": {
      "application/vnd.jupyter.widget-view+json": {
       "model_id": "3834fb67c40149c7b660a40f8e500a1c",
       "version_major": 2,
       "version_minor": 0
      },
      "text/plain": [
       "  0%|          | 0/1 [00:00<?, ?it/s, ('newline', 'ea', 13)]"
      ]
     },
     "metadata": {},
     "output_type": "display_data"
    },
    {
     "data": {
      "application/vnd.jupyter.widget-view+json": {
       "model_id": "b67afbe02db14be98ec9c16c1735c836",
       "version_major": 2,
       "version_minor": 0
      },
      "text/plain": [
       "  0%|          | 0/1 [00:00<?, ?it/s, ('output', 'ea', 13)]"
      ]
     },
     "metadata": {},
     "output_type": "display_data"
    },
    {
     "data": {
      "application/vnd.jupyter.widget-view+json": {
       "model_id": "f83f61ae9314421f8110bc2850196cfb",
       "version_major": 2,
       "version_minor": 0
      },
      "text/plain": [
       "  0%|          | 0/1 [00:00<?, ?it/s, ('prompt', 'ea', 13)]"
      ]
     },
     "metadata": {},
     "output_type": "display_data"
    },
    {
     "data": {
      "application/vnd.jupyter.widget-view+json": {
       "model_id": "6a4bc9df2dfd4d78afca802c0b659df7",
       "version_major": 2,
       "version_minor": 0
      },
      "text/plain": [
       "  0%|          | 0/1 [00:00<?, ?it/s, ('arrow', 'er', 13)]"
      ]
     },
     "metadata": {},
     "output_type": "display_data"
    },
    {
     "data": {
      "application/vnd.jupyter.widget-view+json": {
       "model_id": "69ea4f5dd0f44cd3a0b3bb58d46a2972",
       "version_major": 2,
       "version_minor": 0
      },
      "text/plain": [
       "  0%|          | 0/1 [00:00<?, ?it/s, ('input', 'er', 13)]"
      ]
     },
     "metadata": {},
     "output_type": "display_data"
    },
    {
     "data": {
      "application/vnd.jupyter.widget-view+json": {
       "model_id": "b6ee0d6076b94461a052a91b2b0ab7f7",
       "version_major": 2,
       "version_minor": 0
      },
      "text/plain": [
       "  0%|          | 0/1 [00:00<?, ?it/s, ('newline', 'er', 13)]"
      ]
     },
     "metadata": {},
     "output_type": "display_data"
    },
    {
     "data": {
      "application/vnd.jupyter.widget-view+json": {
       "model_id": "90a8923c1aa54cacbcb6debbd9d1b7c8",
       "version_major": 2,
       "version_minor": 0
      },
      "text/plain": [
       "  0%|          | 0/1 [00:00<?, ?it/s, ('output', 'er', 13)]"
      ]
     },
     "metadata": {},
     "output_type": "display_data"
    },
    {
     "data": {
      "application/vnd.jupyter.widget-view+json": {
       "model_id": "bc1f63d81e6d432dacb6fe44df78647b",
       "version_major": 2,
       "version_minor": 0
      },
      "text/plain": [
       "  0%|          | 0/1 [00:00<?, ?it/s, ('prompt', 'er', 13)]"
      ]
     },
     "metadata": {},
     "output_type": "display_data"
    },
    {
     "data": {
      "application/vnd.jupyter.widget-view+json": {
       "model_id": "adeb5e1dfecc4ade9749cfc1591a843b",
       "version_major": 2,
       "version_minor": 0
      },
      "text/plain": [
       "  0%|          | 0/1 [00:00<?, ?it/s, ('arrow', 'et', 13)]"
      ]
     },
     "metadata": {},
     "output_type": "display_data"
    },
    {
     "data": {
      "application/vnd.jupyter.widget-view+json": {
       "model_id": "c92ca5e616fa4fba8791ec66c47f9705",
       "version_major": 2,
       "version_minor": 0
      },
      "text/plain": [
       "  0%|          | 0/1 [00:00<?, ?it/s, ('input', 'et', 13)]"
      ]
     },
     "metadata": {},
     "output_type": "display_data"
    },
    {
     "data": {
      "application/vnd.jupyter.widget-view+json": {
       "model_id": "8919a6aed3134093a3a01bfed7bcac94",
       "version_major": 2,
       "version_minor": 0
      },
      "text/plain": [
       "  0%|          | 0/1 [00:00<?, ?it/s, ('newline', 'et', 13)]"
      ]
     },
     "metadata": {},
     "output_type": "display_data"
    },
    {
     "data": {
      "application/vnd.jupyter.widget-view+json": {
       "model_id": "bae3c6ba0039459f9db2392f0272599a",
       "version_major": 2,
       "version_minor": 0
      },
      "text/plain": [
       "  0%|          | 0/1 [00:00<?, ?it/s, ('output', 'et', 13)]"
      ]
     },
     "metadata": {},
     "output_type": "display_data"
    },
    {
     "data": {
      "application/vnd.jupyter.widget-view+json": {
       "model_id": "a94d69fb761248cfa0a3834e250b475e",
       "version_major": 2,
       "version_minor": 0
      },
      "text/plain": [
       "  0%|          | 0/1 [00:00<?, ?it/s, ('prompt', 'et', 13)]"
      ]
     },
     "metadata": {},
     "output_type": "display_data"
    },
    {
     "data": {
      "application/vnd.jupyter.widget-view+json": {
       "model_id": "67c5cd93051641338535b41b11d69ca2",
       "version_major": 2,
       "version_minor": 0
      },
      "text/plain": [
       "  0%|          | 0/4 [00:00<?, ?it/s, ('arrow', 'r', 13)]"
      ]
     },
     "metadata": {},
     "output_type": "display_data"
    },
    {
     "data": {
      "application/vnd.jupyter.widget-view+json": {
       "model_id": "8fb341598d3e41b493e17135bfd2662b",
       "version_major": 2,
       "version_minor": 0
      },
      "text/plain": [
       "  0%|          | 0/3 [00:00<?, ?it/s, ('input', 'r', 13)]"
      ]
     },
     "metadata": {},
     "output_type": "display_data"
    },
    {
     "data": {
      "application/vnd.jupyter.widget-view+json": {
       "model_id": "3253d94a92b849098e1d4c952209b1da",
       "version_major": 2,
       "version_minor": 0
      },
      "text/plain": [
       "  0%|          | 0/1 [00:00<?, ?it/s, ('newline', 'r', 13)]"
      ]
     },
     "metadata": {},
     "output_type": "display_data"
    },
    {
     "data": {
      "application/vnd.jupyter.widget-view+json": {
       "model_id": "c5e325ab7b9a4d288b87a00beaa5bb0c",
       "version_major": 2,
       "version_minor": 0
      },
      "text/plain": [
       "  0%|          | 0/2 [00:00<?, ?it/s, ('output', 'r', 13)]"
      ]
     },
     "metadata": {},
     "output_type": "display_data"
    },
    {
     "data": {
      "application/vnd.jupyter.widget-view+json": {
       "model_id": "6a08a52726e6487fb8c3f6aa056a217b",
       "version_major": 2,
       "version_minor": 0
      },
      "text/plain": [
       "  0%|          | 0/1 [00:00<?, ?it/s, ('prompt', 'r', 13)]"
      ]
     },
     "metadata": {},
     "output_type": "display_data"
    },
    {
     "data": {
      "application/vnd.jupyter.widget-view+json": {
       "model_id": "faafd490dfae4a3bbbd8a441bb14f245",
       "version_major": 2,
       "version_minor": 0
      },
      "text/plain": [
       "  0%|          | 0/5 [00:00<?, ?it/s, ('arrow', 't', 13)]"
      ]
     },
     "metadata": {},
     "output_type": "display_data"
    },
    {
     "data": {
      "application/vnd.jupyter.widget-view+json": {
       "model_id": "30f02fd2c77b49a5bcaffd844bd061c2",
       "version_major": 2,
       "version_minor": 0
      },
      "text/plain": [
       "  0%|          | 0/1 [00:00<?, ?it/s, ('input', 't', 13)]"
      ]
     },
     "metadata": {},
     "output_type": "display_data"
    },
    {
     "data": {
      "application/vnd.jupyter.widget-view+json": {
       "model_id": "e7e2bdddacd4411e99946d78aaba92ff",
       "version_major": 2,
       "version_minor": 0
      },
      "text/plain": [
       "  0%|          | 0/1 [00:00<?, ?it/s, ('newline', 't', 13)]"
      ]
     },
     "metadata": {},
     "output_type": "display_data"
    },
    {
     "data": {
      "application/vnd.jupyter.widget-view+json": {
       "model_id": "5a4e6f5d0314490aad3e39bd14ad58e3",
       "version_major": 2,
       "version_minor": 0
      },
      "text/plain": [
       "  0%|          | 0/1 [00:00<?, ?it/s, ('output', 't', 13)]"
      ]
     },
     "metadata": {},
     "output_type": "display_data"
    },
    {
     "data": {
      "application/vnd.jupyter.widget-view+json": {
       "model_id": "eb7640bc96014a02b401fc5158c6af00",
       "version_major": 2,
       "version_minor": 0
      },
      "text/plain": [
       "  0%|          | 0/1 [00:00<?, ?it/s, ('prompt', 't', 13)]"
      ]
     },
     "metadata": {},
     "output_type": "display_data"
    },
    {
     "data": {
      "application/vnd.jupyter.widget-view+json": {
       "model_id": "d1a18f157b074f9fb68986f598c5618f",
       "version_major": 2,
       "version_minor": 0
      },
      "text/plain": [
       "  0%|          | 0/4 [00:00<?, ?it/s, ('arrow', 'a', 12)]"
      ]
     },
     "metadata": {},
     "output_type": "display_data"
    },
    {
     "data": {
      "application/vnd.jupyter.widget-view+json": {
       "model_id": "832dce6ececf46e1b5c5ec720397b515",
       "version_major": 2,
       "version_minor": 0
      },
      "text/plain": [
       "  0%|          | 0/1 [00:00<?, ?it/s, ('input', 'a', 12)]"
      ]
     },
     "metadata": {},
     "output_type": "display_data"
    },
    {
     "data": {
      "application/vnd.jupyter.widget-view+json": {
       "model_id": "3867afe8e4214ebfadb953cb56e84cd5",
       "version_major": 2,
       "version_minor": 0
      },
      "text/plain": [
       "  0%|          | 0/1 [00:00<?, ?it/s, ('newline', 'a', 12)]"
      ]
     },
     "metadata": {},
     "output_type": "display_data"
    },
    {
     "data": {
      "application/vnd.jupyter.widget-view+json": {
       "model_id": "603502a7809e4115a7697ef0c04bd927",
       "version_major": 2,
       "version_minor": 0
      },
      "text/plain": [
       "  0%|          | 0/1 [00:00<?, ?it/s, ('output', 'a', 12)]"
      ]
     },
     "metadata": {},
     "output_type": "display_data"
    },
    {
     "data": {
      "application/vnd.jupyter.widget-view+json": {
       "model_id": "5098bd8f81b7499c9a04a03ccfed97c4",
       "version_major": 2,
       "version_minor": 0
      },
      "text/plain": [
       "  0%|          | 0/1 [00:00<?, ?it/s, ('arrow', 'ea', 12)]"
      ]
     },
     "metadata": {},
     "output_type": "display_data"
    },
    {
     "data": {
      "application/vnd.jupyter.widget-view+json": {
       "model_id": "b95bbf74ed7f4df58827845b02c9a93a",
       "version_major": 2,
       "version_minor": 0
      },
      "text/plain": [
       "  0%|          | 0/1 [00:00<?, ?it/s, ('input', 'ea', 12)]"
      ]
     },
     "metadata": {},
     "output_type": "display_data"
    },
    {
     "data": {
      "application/vnd.jupyter.widget-view+json": {
       "model_id": "c486aa50dfd64cb5b16267379219a2c4",
       "version_major": 2,
       "version_minor": 0
      },
      "text/plain": [
       "  0%|          | 0/1 [00:00<?, ?it/s, ('newline', 'ea', 12)]"
      ]
     },
     "metadata": {},
     "output_type": "display_data"
    },
    {
     "data": {
      "application/vnd.jupyter.widget-view+json": {
       "model_id": "ecab4027a303407bb90e389a934f9983",
       "version_major": 2,
       "version_minor": 0
      },
      "text/plain": [
       "  0%|          | 0/1 [00:00<?, ?it/s, ('output', 'ea', 12)]"
      ]
     },
     "metadata": {},
     "output_type": "display_data"
    },
    {
     "data": {
      "application/vnd.jupyter.widget-view+json": {
       "model_id": "f1f76e70ffb748e2bd7d61b72e99e98d",
       "version_major": 2,
       "version_minor": 0
      },
      "text/plain": [
       "  0%|          | 0/1 [00:00<?, ?it/s, ('prompt', 'ea', 12)]"
      ]
     },
     "metadata": {},
     "output_type": "display_data"
    },
    {
     "data": {
      "application/vnd.jupyter.widget-view+json": {
       "model_id": "9af8c6c8429c4bc1ab79cc30325bbbeb",
       "version_major": 2,
       "version_minor": 0
      },
      "text/plain": [
       "  0%|          | 0/1 [00:00<?, ?it/s, ('arrow', 'er', 12)]"
      ]
     },
     "metadata": {},
     "output_type": "display_data"
    },
    {
     "data": {
      "application/vnd.jupyter.widget-view+json": {
       "model_id": "d5bab4524dff4c16ad5f1786201bf99e",
       "version_major": 2,
       "version_minor": 0
      },
      "text/plain": [
       "  0%|          | 0/1 [00:00<?, ?it/s, ('input', 'er', 12)]"
      ]
     },
     "metadata": {},
     "output_type": "display_data"
    },
    {
     "data": {
      "application/vnd.jupyter.widget-view+json": {
       "model_id": "a92c1c8018d9403e986fc253de588708",
       "version_major": 2,
       "version_minor": 0
      },
      "text/plain": [
       "  0%|          | 0/1 [00:00<?, ?it/s, ('newline', 'er', 12)]"
      ]
     },
     "metadata": {},
     "output_type": "display_data"
    },
    {
     "data": {
      "application/vnd.jupyter.widget-view+json": {
       "model_id": "04ba271dacd14453807cee7d317a066c",
       "version_major": 2,
       "version_minor": 0
      },
      "text/plain": [
       "  0%|          | 0/1 [00:00<?, ?it/s, ('output', 'er', 12)]"
      ]
     },
     "metadata": {},
     "output_type": "display_data"
    },
    {
     "data": {
      "application/vnd.jupyter.widget-view+json": {
       "model_id": "8809bda6d3474c7ab6b1ce010e9e761f",
       "version_major": 2,
       "version_minor": 0
      },
      "text/plain": [
       "  0%|          | 0/1 [00:00<?, ?it/s, ('prompt', 'er', 12)]"
      ]
     },
     "metadata": {},
     "output_type": "display_data"
    },
    {
     "data": {
      "application/vnd.jupyter.widget-view+json": {
       "model_id": "3f3eeacb266c4df789777d23f7f658ce",
       "version_major": 2,
       "version_minor": 0
      },
      "text/plain": [
       "  0%|          | 0/1 [00:00<?, ?it/s, ('arrow', 'et', 12)]"
      ]
     },
     "metadata": {},
     "output_type": "display_data"
    },
    {
     "data": {
      "application/vnd.jupyter.widget-view+json": {
       "model_id": "e52314a3743244b5ad5e0039ae082eaf",
       "version_major": 2,
       "version_minor": 0
      },
      "text/plain": [
       "  0%|          | 0/1 [00:00<?, ?it/s, ('input', 'et', 12)]"
      ]
     },
     "metadata": {},
     "output_type": "display_data"
    },
    {
     "data": {
      "application/vnd.jupyter.widget-view+json": {
       "model_id": "ea2a4beed65941f2976b54f105191004",
       "version_major": 2,
       "version_minor": 0
      },
      "text/plain": [
       "  0%|          | 0/1 [00:00<?, ?it/s, ('newline', 'et', 12)]"
      ]
     },
     "metadata": {},
     "output_type": "display_data"
    },
    {
     "data": {
      "application/vnd.jupyter.widget-view+json": {
       "model_id": "e2f6215f29854cf194cd05a9ed1662c5",
       "version_major": 2,
       "version_minor": 0
      },
      "text/plain": [
       "  0%|          | 0/1 [00:00<?, ?it/s, ('output', 'et', 12)]"
      ]
     },
     "metadata": {},
     "output_type": "display_data"
    },
    {
     "data": {
      "application/vnd.jupyter.widget-view+json": {
       "model_id": "34ee7ab0a4b24c46ada5a37f55c55efb",
       "version_major": 2,
       "version_minor": 0
      },
      "text/plain": [
       "  0%|          | 0/1 [00:00<?, ?it/s, ('prompt', 'et', 12)]"
      ]
     },
     "metadata": {},
     "output_type": "display_data"
    },
    {
     "data": {
      "application/vnd.jupyter.widget-view+json": {
       "model_id": "16b793fdc25a4716a76368aeebce2d89",
       "version_major": 2,
       "version_minor": 0
      },
      "text/plain": [
       "  0%|          | 0/2 [00:00<?, ?it/s, ('arrow', 'r', 12)]"
      ]
     },
     "metadata": {},
     "output_type": "display_data"
    },
    {
     "data": {
      "application/vnd.jupyter.widget-view+json": {
       "model_id": "2ad7f07081fc446487ea6a17f86ecd23",
       "version_major": 2,
       "version_minor": 0
      },
      "text/plain": [
       "  0%|          | 0/4 [00:00<?, ?it/s, ('input', 'r', 12)]"
      ]
     },
     "metadata": {},
     "output_type": "display_data"
    },
    {
     "data": {
      "application/vnd.jupyter.widget-view+json": {
       "model_id": "b003595a3ea44670a37bf40413f02a72",
       "version_major": 2,
       "version_minor": 0
      },
      "text/plain": [
       "  0%|          | 0/1 [00:00<?, ?it/s, ('newline', 'r', 12)]"
      ]
     },
     "metadata": {},
     "output_type": "display_data"
    },
    {
     "data": {
      "application/vnd.jupyter.widget-view+json": {
       "model_id": "169d1eeed67e4c758b7b2ca6d7fab3d0",
       "version_major": 2,
       "version_minor": 0
      },
      "text/plain": [
       "  0%|          | 0/2 [00:00<?, ?it/s, ('output', 'r', 12)]"
      ]
     },
     "metadata": {},
     "output_type": "display_data"
    },
    {
     "data": {
      "application/vnd.jupyter.widget-view+json": {
       "model_id": "d62f6ced0a764e23896fe9c20b2a7aaf",
       "version_major": 2,
       "version_minor": 0
      },
      "text/plain": [
       "  0%|          | 0/2 [00:00<?, ?it/s, ('prompt', 'r', 12)]"
      ]
     },
     "metadata": {},
     "output_type": "display_data"
    },
    {
     "data": {
      "application/vnd.jupyter.widget-view+json": {
       "model_id": "0ac671b0805149bd80223c1d469b807d",
       "version_major": 2,
       "version_minor": 0
      },
      "text/plain": [
       "  0%|          | 0/4 [00:00<?, ?it/s, ('arrow', 't', 12)]"
      ]
     },
     "metadata": {},
     "output_type": "display_data"
    },
    {
     "data": {
      "application/vnd.jupyter.widget-view+json": {
       "model_id": "af4713a2189548e5baf4b5310d2fdbae",
       "version_major": 2,
       "version_minor": 0
      },
      "text/plain": [
       "  0%|          | 0/2 [00:00<?, ?it/s, ('input', 't', 12)]"
      ]
     },
     "metadata": {},
     "output_type": "display_data"
    },
    {
     "data": {
      "application/vnd.jupyter.widget-view+json": {
       "model_id": "d745778e5eaa42cba692bb12726aaa29",
       "version_major": 2,
       "version_minor": 0
      },
      "text/plain": [
       "  0%|          | 0/1 [00:00<?, ?it/s, ('newline', 't', 12)]"
      ]
     },
     "metadata": {},
     "output_type": "display_data"
    },
    {
     "data": {
      "application/vnd.jupyter.widget-view+json": {
       "model_id": "881e5de81e0a4d96958a65789f1395ab",
       "version_major": 2,
       "version_minor": 0
      },
      "text/plain": [
       "  0%|          | 0/1 [00:00<?, ?it/s, ('output', 't', 12)]"
      ]
     },
     "metadata": {},
     "output_type": "display_data"
    },
    {
     "data": {
      "application/vnd.jupyter.widget-view+json": {
       "model_id": "e3b984d96c9e4bb49f90f79b0f6d64a5",
       "version_major": 2,
       "version_minor": 0
      },
      "text/plain": [
       "  0%|          | 0/1 [00:00<?, ?it/s, ('prompt', 't', 12)]"
      ]
     },
     "metadata": {},
     "output_type": "display_data"
    },
    {
     "data": {
      "application/vnd.jupyter.widget-view+json": {
       "model_id": "82759a3de64743f5be7b087e9a287410",
       "version_major": 2,
       "version_minor": 0
      },
      "text/plain": [
       "  0%|          | 0/2 [00:00<?, ?it/s, ('arrow', 'a', 11)]"
      ]
     },
     "metadata": {},
     "output_type": "display_data"
    },
    {
     "data": {
      "application/vnd.jupyter.widget-view+json": {
       "model_id": "1193f726b53a464196b00d27b01b63c5",
       "version_major": 2,
       "version_minor": 0
      },
      "text/plain": [
       "  0%|          | 0/1 [00:00<?, ?it/s, ('input', 'a', 11)]"
      ]
     },
     "metadata": {},
     "output_type": "display_data"
    },
    {
     "data": {
      "application/vnd.jupyter.widget-view+json": {
       "model_id": "29aca1bf60cf48778542679dee2a83c4",
       "version_major": 2,
       "version_minor": 0
      },
      "text/plain": [
       "  0%|          | 0/1 [00:00<?, ?it/s, ('newline', 'a', 11)]"
      ]
     },
     "metadata": {},
     "output_type": "display_data"
    },
    {
     "data": {
      "application/vnd.jupyter.widget-view+json": {
       "model_id": "2f1096d56cbd4c19899c94b579879f46",
       "version_major": 2,
       "version_minor": 0
      },
      "text/plain": [
       "  0%|          | 0/1 [00:00<?, ?it/s, ('output', 'a', 11)]"
      ]
     },
     "metadata": {},
     "output_type": "display_data"
    },
    {
     "data": {
      "application/vnd.jupyter.widget-view+json": {
       "model_id": "cc7775d6a6a6401fbe1e6c6e659041ee",
       "version_major": 2,
       "version_minor": 0
      },
      "text/plain": [
       "  0%|          | 0/1 [00:00<?, ?it/s, ('prompt', 'a', 11)]"
      ]
     },
     "metadata": {},
     "output_type": "display_data"
    },
    {
     "data": {
      "application/vnd.jupyter.widget-view+json": {
       "model_id": "0bea59e095b9440dbba418bcd8c006a6",
       "version_major": 2,
       "version_minor": 0
      },
      "text/plain": [
       "  0%|          | 0/1 [00:00<?, ?it/s, ('arrow', 'ea', 11)]"
      ]
     },
     "metadata": {},
     "output_type": "display_data"
    },
    {
     "data": {
      "application/vnd.jupyter.widget-view+json": {
       "model_id": "3df2a0e1abbe48ae9af04ce89919fe22",
       "version_major": 2,
       "version_minor": 0
      },
      "text/plain": [
       "  0%|          | 0/1 [00:00<?, ?it/s, ('input', 'ea', 11)]"
      ]
     },
     "metadata": {},
     "output_type": "display_data"
    },
    {
     "data": {
      "application/vnd.jupyter.widget-view+json": {
       "model_id": "4c0ffa5d9ff84d318ff8a40498ca4e6c",
       "version_major": 2,
       "version_minor": 0
      },
      "text/plain": [
       "  0%|          | 0/1 [00:00<?, ?it/s, ('newline', 'ea', 11)]"
      ]
     },
     "metadata": {},
     "output_type": "display_data"
    },
    {
     "data": {
      "application/vnd.jupyter.widget-view+json": {
       "model_id": "ca4031e926b04edda4b05bbf1626af2b",
       "version_major": 2,
       "version_minor": 0
      },
      "text/plain": [
       "  0%|          | 0/1 [00:00<?, ?it/s, ('output', 'ea', 11)]"
      ]
     },
     "metadata": {},
     "output_type": "display_data"
    },
    {
     "data": {
      "application/vnd.jupyter.widget-view+json": {
       "model_id": "bf97515e51fe4d109931b4c3e54e138b",
       "version_major": 2,
       "version_minor": 0
      },
      "text/plain": [
       "  0%|          | 0/1 [00:00<?, ?it/s, ('prompt', 'ea', 11)]"
      ]
     },
     "metadata": {},
     "output_type": "display_data"
    },
    {
     "data": {
      "application/vnd.jupyter.widget-view+json": {
       "model_id": "f8c4d07b82034843aa3364e8fa90d7d2",
       "version_major": 2,
       "version_minor": 0
      },
      "text/plain": [
       "  0%|          | 0/1 [00:00<?, ?it/s, ('arrow', 'er', 11)]"
      ]
     },
     "metadata": {},
     "output_type": "display_data"
    },
    {
     "data": {
      "application/vnd.jupyter.widget-view+json": {
       "model_id": "74be527f7c0c4d90918d361946ffe2b3",
       "version_major": 2,
       "version_minor": 0
      },
      "text/plain": [
       "  0%|          | 0/1 [00:00<?, ?it/s, ('input', 'er', 11)]"
      ]
     },
     "metadata": {},
     "output_type": "display_data"
    },
    {
     "data": {
      "application/vnd.jupyter.widget-view+json": {
       "model_id": "e285c0ce4a21494484110a2eb2037a7b",
       "version_major": 2,
       "version_minor": 0
      },
      "text/plain": [
       "  0%|          | 0/1 [00:00<?, ?it/s, ('newline', 'er', 11)]"
      ]
     },
     "metadata": {},
     "output_type": "display_data"
    },
    {
     "data": {
      "application/vnd.jupyter.widget-view+json": {
       "model_id": "d24a33f55cff4d6085d6510867dbbb26",
       "version_major": 2,
       "version_minor": 0
      },
      "text/plain": [
       "  0%|          | 0/1 [00:00<?, ?it/s, ('output', 'er', 11)]"
      ]
     },
     "metadata": {},
     "output_type": "display_data"
    },
    {
     "data": {
      "application/vnd.jupyter.widget-view+json": {
       "model_id": "21bca2f304994bca84e64bc52a120d27",
       "version_major": 2,
       "version_minor": 0
      },
      "text/plain": [
       "  0%|          | 0/1 [00:00<?, ?it/s, ('prompt', 'er', 11)]"
      ]
     },
     "metadata": {},
     "output_type": "display_data"
    },
    {
     "data": {
      "application/vnd.jupyter.widget-view+json": {
       "model_id": "f8aaa0baf4a24169a0b46ef3cba0c7a1",
       "version_major": 2,
       "version_minor": 0
      },
      "text/plain": [
       "  0%|          | 0/1 [00:00<?, ?it/s, ('arrow', 'et', 11)]"
      ]
     },
     "metadata": {},
     "output_type": "display_data"
    },
    {
     "data": {
      "application/vnd.jupyter.widget-view+json": {
       "model_id": "510c5213be3649359c4ae7a4014b0b9e",
       "version_major": 2,
       "version_minor": 0
      },
      "text/plain": [
       "  0%|          | 0/1 [00:00<?, ?it/s, ('input', 'et', 11)]"
      ]
     },
     "metadata": {},
     "output_type": "display_data"
    },
    {
     "data": {
      "application/vnd.jupyter.widget-view+json": {
       "model_id": "b9e631aac9fc40c68d0b101186718abd",
       "version_major": 2,
       "version_minor": 0
      },
      "text/plain": [
       "  0%|          | 0/1 [00:00<?, ?it/s, ('newline', 'et', 11)]"
      ]
     },
     "metadata": {},
     "output_type": "display_data"
    },
    {
     "data": {
      "application/vnd.jupyter.widget-view+json": {
       "model_id": "76872421c96c4af7b94420ca72ba275b",
       "version_major": 2,
       "version_minor": 0
      },
      "text/plain": [
       "  0%|          | 0/1 [00:00<?, ?it/s, ('output', 'et', 11)]"
      ]
     },
     "metadata": {},
     "output_type": "display_data"
    },
    {
     "data": {
      "application/vnd.jupyter.widget-view+json": {
       "model_id": "1fe270cf053b426a9478f8fb2a122ecb",
       "version_major": 2,
       "version_minor": 0
      },
      "text/plain": [
       "  0%|          | 0/1 [00:00<?, ?it/s, ('prompt', 'et', 11)]"
      ]
     },
     "metadata": {},
     "output_type": "display_data"
    },
    {
     "data": {
      "application/vnd.jupyter.widget-view+json": {
       "model_id": "638f403ae30a4ad9a43b10a4d5fb8e7c",
       "version_major": 2,
       "version_minor": 0
      },
      "text/plain": [
       "  0%|          | 0/3 [00:00<?, ?it/s, ('arrow', 'r', 11)]"
      ]
     },
     "metadata": {},
     "output_type": "display_data"
    },
    {
     "data": {
      "application/vnd.jupyter.widget-view+json": {
       "model_id": "ac32c84480c94e02a6f4c162d84a60a8",
       "version_major": 2,
       "version_minor": 0
      },
      "text/plain": [
       "  0%|          | 0/5 [00:00<?, ?it/s, ('input', 'r', 11)]"
      ]
     },
     "metadata": {},
     "output_type": "display_data"
    },
    {
     "data": {
      "application/vnd.jupyter.widget-view+json": {
       "model_id": "243a90dd200348bca886b2b91b8bf29e",
       "version_major": 2,
       "version_minor": 0
      },
      "text/plain": [
       "  0%|          | 0/2 [00:00<?, ?it/s, ('newline', 'r', 11)]"
      ]
     },
     "metadata": {},
     "output_type": "display_data"
    },
    {
     "data": {
      "application/vnd.jupyter.widget-view+json": {
       "model_id": "ad400253561c4c13b60414ba0c374c3c",
       "version_major": 2,
       "version_minor": 0
      },
      "text/plain": [
       "  0%|          | 0/3 [00:00<?, ?it/s, ('output', 'r', 11)]"
      ]
     },
     "metadata": {},
     "output_type": "display_data"
    },
    {
     "data": {
      "application/vnd.jupyter.widget-view+json": {
       "model_id": "229d8f6b88934560b70d923c850c1091",
       "version_major": 2,
       "version_minor": 0
      },
      "text/plain": [
       "  0%|          | 0/2 [00:00<?, ?it/s, ('prompt', 'r', 11)]"
      ]
     },
     "metadata": {},
     "output_type": "display_data"
    },
    {
     "data": {
      "application/vnd.jupyter.widget-view+json": {
       "model_id": "70ccb1b4637e4042a7012c890a1a840a",
       "version_major": 2,
       "version_minor": 0
      },
      "text/plain": [
       "  0%|          | 0/4 [00:00<?, ?it/s, ('arrow', 't', 11)]"
      ]
     },
     "metadata": {},
     "output_type": "display_data"
    },
    {
     "data": {
      "application/vnd.jupyter.widget-view+json": {
       "model_id": "8589a2d357c6470bb5dafcba8c7975b2",
       "version_major": 2,
       "version_minor": 0
      },
      "text/plain": [
       "  0%|          | 0/3 [00:00<?, ?it/s, ('input', 't', 11)]"
      ]
     },
     "metadata": {},
     "output_type": "display_data"
    },
    {
     "data": {
      "application/vnd.jupyter.widget-view+json": {
       "model_id": "75c6071c1231436c80cec35823caa80f",
       "version_major": 2,
       "version_minor": 0
      },
      "text/plain": [
       "  0%|          | 0/1 [00:00<?, ?it/s, ('newline', 't', 11)]"
      ]
     },
     "metadata": {},
     "output_type": "display_data"
    },
    {
     "data": {
      "application/vnd.jupyter.widget-view+json": {
       "model_id": "8b8cb4afbb984d38946aad18101ce466",
       "version_major": 2,
       "version_minor": 0
      },
      "text/plain": [
       "  0%|          | 0/2 [00:00<?, ?it/s, ('output', 't', 11)]"
      ]
     },
     "metadata": {},
     "output_type": "display_data"
    },
    {
     "data": {
      "application/vnd.jupyter.widget-view+json": {
       "model_id": "f9a13cde0c8b4267880ea1079789fc9d",
       "version_major": 2,
       "version_minor": 0
      },
      "text/plain": [
       "  0%|          | 0/1 [00:00<?, ?it/s, ('prompt', 't', 11)]"
      ]
     },
     "metadata": {},
     "output_type": "display_data"
    },
    {
     "data": {
      "application/vnd.jupyter.widget-view+json": {
       "model_id": "60ae430de8884fd588355c13ab5b1448",
       "version_major": 2,
       "version_minor": 0
      },
      "text/plain": [
       "  0%|          | 0/2 [00:00<?, ?it/s, ('arrow', 'a', 10)]"
      ]
     },
     "metadata": {},
     "output_type": "display_data"
    },
    {
     "data": {
      "application/vnd.jupyter.widget-view+json": {
       "model_id": "4233eec2cba74a04862ac18fe27f576d",
       "version_major": 2,
       "version_minor": 0
      },
      "text/plain": [
       "  0%|          | 0/1 [00:00<?, ?it/s, ('input', 'a', 10)]"
      ]
     },
     "metadata": {},
     "output_type": "display_data"
    },
    {
     "data": {
      "application/vnd.jupyter.widget-view+json": {
       "model_id": "58217679eb404b5999fa04eee332a811",
       "version_major": 2,
       "version_minor": 0
      },
      "text/plain": [
       "  0%|          | 0/1 [00:00<?, ?it/s, ('newline', 'a', 10)]"
      ]
     },
     "metadata": {},
     "output_type": "display_data"
    },
    {
     "data": {
      "application/vnd.jupyter.widget-view+json": {
       "model_id": "ed259bb9ef7c499e9c5a9df2819c3345",
       "version_major": 2,
       "version_minor": 0
      },
      "text/plain": [
       "  0%|          | 0/1 [00:00<?, ?it/s, ('output', 'a', 10)]"
      ]
     },
     "metadata": {},
     "output_type": "display_data"
    },
    {
     "data": {
      "application/vnd.jupyter.widget-view+json": {
       "model_id": "021a5906fefa4c05a18b1244bea4f634",
       "version_major": 2,
       "version_minor": 0
      },
      "text/plain": [
       "  0%|          | 0/1 [00:00<?, ?it/s, ('prompt', 'a', 10)]"
      ]
     },
     "metadata": {},
     "output_type": "display_data"
    },
    {
     "data": {
      "application/vnd.jupyter.widget-view+json": {
       "model_id": "d7813b695875446c90f50429ca908aa2",
       "version_major": 2,
       "version_minor": 0
      },
      "text/plain": [
       "  0%|          | 0/1 [00:00<?, ?it/s, ('arrow', 'ea', 10)]"
      ]
     },
     "metadata": {},
     "output_type": "display_data"
    },
    {
     "data": {
      "application/vnd.jupyter.widget-view+json": {
       "model_id": "531f4d38da6d4323a67c0c5150806c55",
       "version_major": 2,
       "version_minor": 0
      },
      "text/plain": [
       "  0%|          | 0/1 [00:00<?, ?it/s, ('input', 'ea', 10)]"
      ]
     },
     "metadata": {},
     "output_type": "display_data"
    },
    {
     "data": {
      "application/vnd.jupyter.widget-view+json": {
       "model_id": "74638311ba634c16b610e8f850670d90",
       "version_major": 2,
       "version_minor": 0
      },
      "text/plain": [
       "  0%|          | 0/1 [00:00<?, ?it/s, ('newline', 'ea', 10)]"
      ]
     },
     "metadata": {},
     "output_type": "display_data"
    },
    {
     "data": {
      "application/vnd.jupyter.widget-view+json": {
       "model_id": "453da77b969c4fc9afef40774cbcd9f0",
       "version_major": 2,
       "version_minor": 0
      },
      "text/plain": [
       "  0%|          | 0/1 [00:00<?, ?it/s, ('output', 'ea', 10)]"
      ]
     },
     "metadata": {},
     "output_type": "display_data"
    },
    {
     "data": {
      "application/vnd.jupyter.widget-view+json": {
       "model_id": "c733376d198945d486e6572251e0be37",
       "version_major": 2,
       "version_minor": 0
      },
      "text/plain": [
       "  0%|          | 0/1 [00:00<?, ?it/s, ('prompt', 'ea', 10)]"
      ]
     },
     "metadata": {},
     "output_type": "display_data"
    },
    {
     "data": {
      "application/vnd.jupyter.widget-view+json": {
       "model_id": "4c2c56e4a5334d429dc10b86471c0d18",
       "version_major": 2,
       "version_minor": 0
      },
      "text/plain": [
       "  0%|          | 0/1 [00:00<?, ?it/s, ('arrow', 'er', 10)]"
      ]
     },
     "metadata": {},
     "output_type": "display_data"
    },
    {
     "data": {
      "application/vnd.jupyter.widget-view+json": {
       "model_id": "c4659b2229914ae4afd5b3841f702eac",
       "version_major": 2,
       "version_minor": 0
      },
      "text/plain": [
       "  0%|          | 0/1 [00:00<?, ?it/s, ('input', 'er', 10)]"
      ]
     },
     "metadata": {},
     "output_type": "display_data"
    },
    {
     "data": {
      "application/vnd.jupyter.widget-view+json": {
       "model_id": "0dbebd4f6c664de5bedf3bf01af46b3f",
       "version_major": 2,
       "version_minor": 0
      },
      "text/plain": [
       "  0%|          | 0/1 [00:00<?, ?it/s, ('newline', 'er', 10)]"
      ]
     },
     "metadata": {},
     "output_type": "display_data"
    },
    {
     "data": {
      "application/vnd.jupyter.widget-view+json": {
       "model_id": "61d09c871dc6440f809368c21827cd3e",
       "version_major": 2,
       "version_minor": 0
      },
      "text/plain": [
       "  0%|          | 0/1 [00:00<?, ?it/s, ('output', 'er', 10)]"
      ]
     },
     "metadata": {},
     "output_type": "display_data"
    },
    {
     "data": {
      "application/vnd.jupyter.widget-view+json": {
       "model_id": "2801a3aa134047f9b48ac2236e5cf284",
       "version_major": 2,
       "version_minor": 0
      },
      "text/plain": [
       "  0%|          | 0/1 [00:00<?, ?it/s, ('prompt', 'er', 10)]"
      ]
     },
     "metadata": {},
     "output_type": "display_data"
    },
    {
     "data": {
      "application/vnd.jupyter.widget-view+json": {
       "model_id": "c89a997f791640bab6007517e7eb8ebf",
       "version_major": 2,
       "version_minor": 0
      },
      "text/plain": [
       "  0%|          | 0/1 [00:00<?, ?it/s, ('arrow', 'et', 10)]"
      ]
     },
     "metadata": {},
     "output_type": "display_data"
    },
    {
     "data": {
      "application/vnd.jupyter.widget-view+json": {
       "model_id": "3a16867b974e4695832aeb5a94404c73",
       "version_major": 2,
       "version_minor": 0
      },
      "text/plain": [
       "  0%|          | 0/1 [00:00<?, ?it/s, ('input', 'et', 10)]"
      ]
     },
     "metadata": {},
     "output_type": "display_data"
    },
    {
     "data": {
      "application/vnd.jupyter.widget-view+json": {
       "model_id": "e9a99ab88354415983b345db182081f5",
       "version_major": 2,
       "version_minor": 0
      },
      "text/plain": [
       "  0%|          | 0/1 [00:00<?, ?it/s, ('newline', 'et', 10)]"
      ]
     },
     "metadata": {},
     "output_type": "display_data"
    },
    {
     "data": {
      "application/vnd.jupyter.widget-view+json": {
       "model_id": "1132aca68ce34019af1d9b5e47d10186",
       "version_major": 2,
       "version_minor": 0
      },
      "text/plain": [
       "  0%|          | 0/1 [00:00<?, ?it/s, ('output', 'et', 10)]"
      ]
     },
     "metadata": {},
     "output_type": "display_data"
    },
    {
     "data": {
      "application/vnd.jupyter.widget-view+json": {
       "model_id": "335dae999bbf4aafa77a6da7409aabd3",
       "version_major": 2,
       "version_minor": 0
      },
      "text/plain": [
       "  0%|          | 0/1 [00:00<?, ?it/s, ('prompt', 'et', 10)]"
      ]
     },
     "metadata": {},
     "output_type": "display_data"
    },
    {
     "data": {
      "application/vnd.jupyter.widget-view+json": {
       "model_id": "5b7d73bc891649de9a848a324e5a5e6e",
       "version_major": 2,
       "version_minor": 0
      },
      "text/plain": [
       "  0%|          | 0/2 [00:00<?, ?it/s, ('arrow', 'r', 10)]"
      ]
     },
     "metadata": {},
     "output_type": "display_data"
    },
    {
     "data": {
      "application/vnd.jupyter.widget-view+json": {
       "model_id": "757cec87961f4a83ac3e28d951e07f12",
       "version_major": 2,
       "version_minor": 0
      },
      "text/plain": [
       "  0%|          | 0/4 [00:00<?, ?it/s, ('input', 'r', 10)]"
      ]
     },
     "metadata": {},
     "output_type": "display_data"
    },
    {
     "data": {
      "application/vnd.jupyter.widget-view+json": {
       "model_id": "ab50efb51c004ac2beb280bf8d36b3e7",
       "version_major": 2,
       "version_minor": 0
      },
      "text/plain": [
       "  0%|          | 0/1 [00:00<?, ?it/s, ('newline', 'r', 10)]"
      ]
     },
     "metadata": {},
     "output_type": "display_data"
    },
    {
     "data": {
      "application/vnd.jupyter.widget-view+json": {
       "model_id": "c2a1fea9f0744858bcead581153bf22e",
       "version_major": 2,
       "version_minor": 0
      },
      "text/plain": [
       "  0%|          | 0/4 [00:00<?, ?it/s, ('output', 'r', 10)]"
      ]
     },
     "metadata": {},
     "output_type": "display_data"
    },
    {
     "data": {
      "application/vnd.jupyter.widget-view+json": {
       "model_id": "5dde4da062a14a9c9f66f90d9b596db8",
       "version_major": 2,
       "version_minor": 0
      },
      "text/plain": [
       "  0%|          | 0/2 [00:00<?, ?it/s, ('prompt', 'r', 10)]"
      ]
     },
     "metadata": {},
     "output_type": "display_data"
    },
    {
     "data": {
      "application/vnd.jupyter.widget-view+json": {
       "model_id": "7dc6004b37554574830e5ec982d87a1f",
       "version_major": 2,
       "version_minor": 0
      },
      "text/plain": [
       "  0%|          | 0/2 [00:00<?, ?it/s, ('arrow', 't', 10)]"
      ]
     },
     "metadata": {},
     "output_type": "display_data"
    },
    {
     "data": {
      "application/vnd.jupyter.widget-view+json": {
       "model_id": "fe705687fbf24759acdb3210c14c2bdd",
       "version_major": 2,
       "version_minor": 0
      },
      "text/plain": [
       "  0%|          | 0/2 [00:00<?, ?it/s, ('input', 't', 10)]"
      ]
     },
     "metadata": {},
     "output_type": "display_data"
    },
    {
     "data": {
      "application/vnd.jupyter.widget-view+json": {
       "model_id": "5813dea4c40a4d4592f97c2899078c05",
       "version_major": 2,
       "version_minor": 0
      },
      "text/plain": [
       "  0%|          | 0/1 [00:00<?, ?it/s, ('newline', 't', 10)]"
      ]
     },
     "metadata": {},
     "output_type": "display_data"
    },
    {
     "data": {
      "application/vnd.jupyter.widget-view+json": {
       "model_id": "105234a7ce3e46b9a5d8012a8999f9e4",
       "version_major": 2,
       "version_minor": 0
      },
      "text/plain": [
       "  0%|          | 0/2 [00:00<?, ?it/s, ('output', 't', 10)]"
      ]
     },
     "metadata": {},
     "output_type": "display_data"
    },
    {
     "data": {
      "application/vnd.jupyter.widget-view+json": {
       "model_id": "3b206e27a32648ceb7bd9b9882f02758",
       "version_major": 2,
       "version_minor": 0
      },
      "text/plain": [
       "  0%|          | 0/1 [00:00<?, ?it/s, ('prompt', 't', 10)]"
      ]
     },
     "metadata": {},
     "output_type": "display_data"
    }
   ],
   "source": [
    "import jax.numpy as jnp\n",
    "from tqdm.auto import trange\n",
    "\n",
    "important_feats_masks = {}\n",
    "for mask in circuitizer.masks:\n",
    "    important_feats_masks[mask] = [\n",
    "        (type, layer, feat) for layer, f_mask, type, feat, _ in combined_ies if f_mask == mask\n",
    "        ]\n",
    "\n",
    "\n",
    "flat_feats = defaultdict(list)\n",
    "for k, v in important_feats_masks.items():\n",
    "    for type, layer, feat in v:\n",
    "        flat_feats[(k, type, layer)].append(feat)\n",
    "\n",
    "\n",
    "graph = []\n",
    "\n",
    "batch_size = 16\n",
    "# k = 32\n",
    "for type, features in tqdm(sorted(flat_feats.items(), key=lambda x: (-x[0][-1], x[0][-2], x[0][-3]))):\n",
    "    mask, feature_type, layer = type\n",
    "    mask = jnp.array(list(circuitizer.masks.keys()).index(mask))\n",
    "    for batch in trange(0, len(features), batch_size, postfix=str(type)):\n",
    "        batch_features = features[batch:batch+batch_size]\n",
    "        orig_length = len(batch_features)\n",
    "        batch_features = batch_features + [0] * (batch_size - len(batch_features))\n",
    "        feature_effectss = jax.vmap(lambda x: circuitizer.compute_feature_effects(feature_type, layer, x, mask, layer_window=1, position=None))(jnp.asarray(batch_features))\n",
    "        # feature_effectss = circuitizer.compute_feature_effects(feature_type, layer, batch_features, mask, layer_window=1)\n",
    "        top_effects = defaultdict(list)\n",
    "        for key, featuress in feature_effectss.items():\n",
    "            for elem, feature_effects in enumerate(featuress):\n",
    "                if elem >= orig_length:\n",
    "                    continue\n",
    "                if feature_effects.ndim == 0:\n",
    "                    top_effects[elem].append((float(feature_effects), key, 0))\n",
    "                    continue\n",
    "\n",
    "                nodes_to_keep = circuit_node_dict.get(key, np.empty(0, dtype=np.int32))\n",
    "                effects = feature_effects[nodes_to_keep]\n",
    "                for idx, effect in zip(nodes_to_keep, effects):\n",
    "                    top_effects[elem].append((float(effect), key, int(idx)))\n",
    "        for elem, effects in top_effects.items():\n",
    "            effects.sort(reverse=True)\n",
    "            edges = effects\n",
    "            graph.extend([(weight,  key + (upstream_feature,), (type[1], type[2], type[0], batch_features[elem],) ) for weight, key, upstream_feature in edges])\n",
    "        \n",
    "\n",
    "\n",
    "combined_ies = [\n",
    "    (type, layer, mask, idx, weight) for layer, mask, type, idx, weight in combined_ies\n",
    "] \n",
    "\n",
    "\n",
    "sorted_graph = sorted(graph, reverse=True, key=lambda x: x[0])\n",
    "\n",
    "n_nodes = sum(map(len, important_feats_masks.values()))\n",
    "k_connections = 4\n",
    "weight_threshold = sorted_graph[n_nodes * k_connections][0]"
   ]
  },
  {
   "cell_type": "code",
   "execution_count": 66,
   "metadata": {},
   "outputs": [
    {
     "data": {
      "text/html": [
       "<script> (()=>{ if (customElements.get('treescope-container') === undefined) { class TreescopeContainer extends HTMLElement { constructor() { super(); this.attachShadow({mode: \"open\"}); this.defns = {}; this.state = {}; } } customElements.define(\"treescope-container\", TreescopeContainer); } if (customElements.get('treescope-run-here') === undefined) { class RunHere extends HTMLElement { constructor() { super() } connectedCallback() { const run = child => { const fn = new Function(child.textContent); child.textContent = \"\"; fn.call(this); this.remove(); }; const child = this.querySelector(\"script\"); if (child) { run(child); } else { new MutationObserver(()=>{ run(this.querySelector(\"script\")); }).observe(this, {childList: true}); } } } customElements.define(\"treescope-run-here\", RunHere); } })(); </script> <treescope-container class=\"treescope_out_56f76f572b7c4a2b9d929d33f1697727\" ></treescope-container> <treescope-run-here><script type=\"application/octet-stream\"> const root = ( Array.from(document.getElementsByClassName( \"treescope_out_56f76f572b7c4a2b9d929d33f1697727\")) .filter((elt) => !elt.dataset.setup) )[0]; root.dataset.setup = 1; const msg = document.createElement(\"span\"); msg.style = \"color: #aaaaaa; font-family: monospace; transition: opacity 0.2s; opacity: 0.0;\"; msg.textContent = \"(Loading...)\"; root.state.loadingMsg = msg; root.shadowRoot.appendChild(msg); root.state.chain = new Promise((resolve, reject) => { const observer = new IntersectionObserver((entries) => { for (const entry of entries) { if (entry.isIntersecting) { resolve(); observer.disconnect(); return; } } }, {rootMargin: \"1000px\"}); window.setTimeout(() => { if (root.loadingMsg) { root.loadingMsg.style.opacity = \"1.0\"; } observer.observe(root); }, 0); }); root.state.deferring = false; const _insertNode = (node) => { for (let oldScript of node.querySelectorAll(\"script\")) { let newScript = document.createElement(\"script\"); newScript.type = oldScript.type; newScript.textContent = oldScript.textContent; oldScript.parentNode.replaceChild(newScript, oldScript); } if (root.state.loadingMsg) { root.state.loadingMsg.remove(); root.state.loadingMsg = null; } root.shadowRoot.appendChild(node); }; root.defns.insertContent = ((contentNode, compressed) => { if (compressed) { root.state.deferring = true; } if (root.state.deferring) { root.state.chain = (async () => { await root.state.chain; if (compressed) { const encoded = contentNode.textContent; const blob = new Blob([ Uint8Array.from(atob(encoded), (m) => m.codePointAt(0)) ]); const reader = blob.stream().pipeThrough( new DecompressionStream(\"deflate\") ).pipeThrough( new TextDecoderStream(\"utf-8\") ).getReader(); const parts = []; while (true) { const step = await reader.read(); if (step.done) { break; } parts.push(step.value); } const tpl = document.createElement('template'); tpl.innerHTML = parts.join(\"\"); _insertNode(tpl.content); } else { _insertNode(contentNode.content); } })(); } else { _insertNode(contentNode.content); } }); </script></treescope-run-here><div style=\"display:none\"> <script type=\"application/octet-stream\" >eNrt3QtzW8e1JeC/wqvUXEvjiD69+23HrpEcv5LYiS0nTqKb0lAkJDGiSJqEJMtT+e9zAJJHT4undxx4997LqfKDAggc9IOrF76AvzldPjtYfLS9PFksTnePjhd3To6Ollv/b+v46HR/uX90+P7WyeJgZ7n/ZPHB1r2jw+X1ezuP9g+evb/16Ojw6PR4Z3f8+tMH+8vF9fV/vL91fDJ+5WD/dHl9/a2vL58dj189PDocv3x3Z/fh/ZOjx4d713ePDo5O3j+76wdb5/9192C8wfj99veWD97fure/HG92uFwcLj/YOt7Z29s/vH/9YHFv+f4W7T5YPcjh4vqDxf79B+NX3HZcfZvD5c7++Jynu53/y/Un+6f7d/cP9pfjM995vDyabnt9/3B5sn94ur97/XT/x8XZn54/3X/95r2zl+c308tz/eTx4fiYJ+PXTndP9o+XW6vr+/CdnePjg/3dndUr9t7R7nKxuvqTxc6jdz66evXahx+NL+j4eKfLrb3FvcPTrQ+3lg/2T7fvL5bfjK/2V0d7i6vXth8cnS63138+XtpiuXXneHG4uuQbu6vvurrT7X+86U8+3zncO1iMf3z4+ODgg7NH2B6f5q2jo8Pxq1efHp08vLb14nM4+m780uqPXvrycn939cXjxcm9o5NHO4e7i+3Do6dXr63Hd3yAq6/9ydb1szv9ZsvTtfH77N/buvrKs94+WBzeXz7Y+vDDrWF1k7c+9ZPF8vHJ4fi6by0OThfPn9iDx4erZ/bqtz59sH9vuXp+6xus/uVf4/9+4hGujrPqcO/o6fbJ4vvHi9PljcP9R+vh+vRk59Hi6tlrcm31PT547YGOH58+OHsZP3jDNV48xIdnl/GWq5z/HFbP4mwgl0f37x+crco765Uzztbj1fdafWVxsPz11uLJOMHPR3L17Nb/vf1w8Wz1ol85ubJ6Quc33t492Dk9/cO4OM+/79Ur0/e882ichlcuHvxf18bXc5z+6zn+0W/ee9MC2Nt/srX+hh9eeXn7uLK13Lk7Xunihw+vDFe2jg7HJzNe9uF4u7dN+zdf69XVfS6u8sq47M42rLtHy+XRo9UW8P7h0fLq9r2jg72du+O9D8dv+/6DndOrHx3s3F0cfPTyn9w5e4z1fd7ffbDYfbjYu3Zt63+vXqSLLWZ5dPz+1rDt4uLR65vM6ms/Xl9f3PjfH7xxn/zX9no/u7Nz9+7J4sl6Hq+3t1+lQjvD8PwGu0ePHo2X9cItdtZ/rQbhlZvsnD3lB0dPFifX3nD7l29+5+mDxeGdxQ/H49Rb7P1sr9BPPerh40d3Fycv3GCoxcX0/Aanqz32/ovfwbvo4nSDxd6d1Qv9/AbnPwle/4HxZOfk6vXrdw+Odh+efWmcsXePTvYWJ2fj5o5/2Do9Otjfe9stzybPZTcex+DBuLmfjM/s4Z2TxaNxCd1Zv/5brz7p15/m0cOD3QdXS/hfq4kU4pYb6tl3fLpzemdcVUcHB+Pdl0fb9/ZPTpd31tvo3O9aw7Zbfd+hbjmftvMbv/F6/N76cNdee8Dlyc7hxWx+9cG33OnWYud0MU7960ePx21nHQaerhfGK3+2GtWXptRPxInxSb9p5o233ts/PT7YeXYRG1694dZHW+uZ+/77dxfjT6QXps2vdtd/vXlZnkWH626VHc4jxrgWp8faP1yv9fUceMtjrmfA64+8t3Py8HSxc3/cCA9fv/fPtAKn57C665vvdHH7l57hOgO9v/XO/1C8u/vOL/n0Xr7TTz7JtIEnuV7J4wM/PjldDeDx0ZgEFydveNz905/vYddLYf1A19c/0U5/ao7/PI/6/PKWix+Wrz/K9v7pnbMt4ejwbBd4fWm9bSltU1ytpjcO1da//fTPRvzVp7i6qkc7J/fHzebsaawX9L/+zUcb98LjZ3cfjz8XDt+4AT3/4zdN2itbV1651fhCjgeiN9/4fxYu7F155Tz1zpc746zY3znYuvXs0d2jg9OtPz5erq53b+vjs3uO/zx+Ni6Mcde9+3A8G63vfvpoTEsPxh+u48nlcDnefX/ciPemE9WvFsPqfx+8Ps3P7r0+8gzbdRVrXr7Ks/Xxhqt483b3/J7rnzm742lofGGn++/cW74UEC726bc95iv3efkhX3zpz3967+0sd67vHI4Duw7V11788upBVieFF37CvenHWtulTM9gHJj9xd5/vfxM1g+59V/7j46PTpY7h69977snRw/HkLb6yvPN6PJX94W7vfB6Xgzzv7Yf7D64sz6K31mtjhdi7dliGbbPVuwLtztZ/wx/fsOTs7A73XIVdsdL3buzO54D904Wh+cX//JJe3yWL9/wZ0ud02I8/9H80uLf3TnYvUq7D8az6JjmzqLQ6XJndf/p+f7Hnsl5nDx7JntjqBynySpTvjAc3z/eOTgcT3d3jk8W9/Z/GL/JSwuvrBfeeJTdWeWwpzsnh+MI3Ln4UXExuvfu7ew6/4YbHo9nwdcGbr0fnr9I51+6fj6Yz1Pd++uTzc7J9fsnO3v747BddT7uLe7/eutoXCP3F1vD+OzS7oNfn62Z4/Fhxx1o/aWt81f5tafy2lb9s73wLw359WlmvjrQPzUxX73dFHzPBnBc2i/fZONTd9gOuw+uzXmum5nLZ4ei9bN649HopaPy+jrGMTl4sPW/t6668XJevMv59z0db7W4tio3zl+D53e9Pv++F497cYBb33P6lhdfvX7+5Q2+ms+PoOtX8PpqUT0+Pb9At3g0Xt1PX9gbAlRzfLlsiv+/l07JZ+O72qpmnJLffuN/bY/f8T/Swzwf5H+nilk3IeOTPdg5HoPR5YfL9pf+px/h7Eh5djx/sZD5idv8HM/jTQ9xfqFnN3heIr7ppXi5yNt+uR3cest3ePVSD1/qK998wzkP9pPf52es6Fet6dZ/3Tg52Xm2fe/k6NHVvaPdx6sabXv1s/p0+8nOwePF6dVr17ZPjx4trq5/gq/61tU/t8/y+6prnZngr7yzdW3r2tRunz5YLJarCnzxdOvjW7dura7m1uprq0J7/YfbJ4vxkncXt54d7l79v//n/NSwu7jIEu0niLMIsnqk1et48mjn4IMX+5z3t8KqpTw92X1/6/HJwdVVnH1/9efvPT26d48+uDsG5hR+vTfUz768f+PmjfVfX3x948bR+t9ufvN0/Pvnn9648cmNt/1189GNG/cfHv1+74tPbn789G83bnz7t49/d+PLL25+fOPT+z988fkfHixPb365v7jvP/3tX+kPX6S/Pbl1/Hj/T1/Gb93v/vrFN3/58sl3X/64/NOzTz/9+N3v7j/8dv/mb4cH+7/9+vHvPtn77J/D53ffu/fki73j73+fHnz/3f7+14+/PPzswef3/ry88ed086uTcOPTLw4ffpJ2//z48eG738Tvd08fPn1y79OD977/4f4nR+X+3d89/ay4z2+8d3jjm/iHk5PfuW/evf/j8M3ecON399z9r/LHTz/7J90fjp49/ibnR5+49PTzv9Y/3r9/vPj24bOw+OLuj3H37skfP1vu3Lj/9RdfPf3tzumz068ff/HFX7/75NOnN/709fEXf9v783vvvXs/f5v/6pfDvd//6fsbT+L4Pf9w46t848unNx7d//GbW+8+/vutxSd//YHupd0fvwrffP4sPr554/c/3vzn8afHfv/zrz/+ZPj74z+FW/nw3s0/fPL5p18+urH/bnnyCT04dA/yu3f/8vSv/3z6+cmT3372548P/3nvk0/uL9/94+7fDw5yrB//7unN8qCGL7/87Jb/7O837j/6Iv7z5td1+e1ni8/rJzdvfvGZ/+398M17f9t9dvfGZ+OY/uX37934+rOdG4svPz648fmPn/zx/t+X99PNP93/4x+/+O3Nh/tfx8WnN//68c1Pd/eH4wcnR8eH49w4/vsnv3U/uoe37n18b/ng2e8PP9/b+fT083vDV48+++SrdHPvxvd/+cvxzvL01t8f7e3t7Fe692MNf97/5/fp+NFJ+uPR3z6+tX/y2aMnv/vM3/rulv/0E9q9+fW9b9/9/ODo+LPw6enTuHP/+1T2/7649dXB8XeHNz//YrH35cni8Xfff/bxI/fdpycPb936IVL67rvTpzfGZ3Rta/121vLqO+tp/c7qh9n/Hf82rf6dvaPjMdI/X5LrN+G2t7ffcotfn63Zf4zf6+1vdjxYvyu0PsedHTHH7z1Oj8PdratnJ72X37Mbl+C3R6vlO97s/CS4+trpuD2svsXqaLs6D+483dlfbh3uPNm/v7M8Otkev/Px3aOdk73tpyf7y8W3ix+WV59/r9XP+rPv9fyNofGH79UrL5x7V28JjY/y7f6jxXhAvnrxnuFr91sV5E8Wr931X7/eomEY1hln3HzHPHl13eC8+XFfONxeef7kVt3VxQ62ehftytavtj7d2T8YN7bl0dbqxv+13tnGHHg4HrfG3Xh/fM0WO3urs/m7L752529vXfLG1uqcf/HO1ssl8KsHnCsf/ebsJ/Rv9g+PH5//pLmy/pl89+iHK2/8Juc/vsc/PPvRPT6J9Z1fftzn7zwsx3C7WF5ZX8b1h4tn4xp58OGVKx/dHq9ivMN49/On8OLdXzuzX3nbn1/Z1DXzrvX28I8rH119y+W+87wfeWfr6PDj1fT78J3G9bd+o/HaO1tTefPhlasHO4/u7u2s3z59f/338alcu7K1/tH54ZUXip7xp++bb7zq615tpsYbr2fj6urGfz9/9T+aLvDsHz/bcM54edev8Et3evGNvSsfDdvjGnYxFh98HP+FSqb48vP99Ut3fzkTX/lo601X9VJgvfLLjWjroP574zp3lOUvyttO0rocn03bKLpuVqf7yQV69sb6lY/++1c/UP5gcXL2Tz0r07UvTvfLrM+Z4+jevtG6pGrs2pfkv7cq/7NjR3PW4M7JydFThcuQ2oeS5A6lvyTvvOXhXxmUX0sfON8+cP7nG7izf1xTsQY2GC8UhUQSFRJbtzHqJiTSzJC4o+2HE7VnRJKbEclURqT2fZXkZkSynBGJs7mKzYj0hoz48rufF384Xe8L74u/v/WrvbslxJ0P3vSO/8odC//B/aZJfAHFz9/v33pZms16rc7/8BUUdeWj48Xhjzv7z98QXr+ncbxzulzcubdzcLBiS9svj/ZXR+MEPv/ux6uLvvrqpHhDK/6aF3oZSVx5y61fu+nRyf79/cOdgzsni+OTD5te3O2X7jtjv6BU46Bpv3j5FZi/abxyv//EzjFz1Pf3uGO+v/f2n+6+liGHGooPMSdt472/xxnt8V6/4Fivt1vmaK/u+7a9/uff2t/yfwS78tap8as3zp/X9upxoh4/u9iN9w+XKbxty33b4/9Hj0RvHYIX//954yZ7sPxg/QdbZ3vs2RWuL+3sC/99f/nB/Ebol15iq+vlLLL1/X7e3ufyJdhNmybz9f3JkPb8/x+79Yr0vzK1cTNH5yWC99aFtM4pisZ8Ogg0H2v8z1UbvbSbjz/it361tdquXtiito7u/nOxu9zaWW4NP+R7lHNxbqh1eMOu9cZStuex2WCZp7TX3hRn0dJoCzIPTc1ZJ9rBzbRIIUfyFFMahvGgFLySHq3VOzhgpItpI2phtq7NjpanUYzk/sFZnFIxkjOFkdw/eEtS5htNbj5GWm+lCpchtQ8lyR1KExjJtWMkB4wkIl4oCokkKiS2bmPUTUi0iZFcO0ZycjGSM4WRXDtGcnIxkrOMkVw7RnJyMZIDRgJGAkYCRgJGAkYCRgJGAkYCRgJGsoeRXDtGcsBIOss8pb32pjyLlkZbUJ3dNP07KbLpUozkt131iWqkTN6lXMLi+qDlk5Fau2wCRrqYNk7SwmzbWKkbjETzMZIui0TtFonkWiQyZZGo3SKRXItEli0StVskkmuRyI5FonaLRLBIItKFoowo6vDWvI31c4SzaZHoH5zzG8nNiGQqIzL2VZKbEe1aJPoHb3MVmxFhkWCRYJFgkWCRYJFgkWCRYJFgkWCRrFkkardIBIuks8xT2mtvirNoabS9nDq7aV/yfRTZ/lKLVLdDHcgNqaTkY6q0uD5oaUR9Y5XtQZEuZo2TtC7bSm3fDUXyVimSb6dIXi5F8qYokm+nSF4uRfKWKZJvp0heLkXycyhSVHGQ9u0UyYMiiUgXijIiicqIrdsYdZMRbVIk306RvFyK5E1RJN9OkbxciuQtUyTfTpG8XIrkQZFAkUCRQJFAkUCRQJFAkUCRQJFAkexRJN9OkTwoks4yT2mvvSnNoqXRDnLq7NAyeKGPIjtcSpHKdo4ph5xzKDWR00SRQmOVHUCRLmaNk7Qu20rt0A1FClYpUminSEEuRQqmKFJop0hBLkUKlilSaKdIQS5FCnMoUlJxkA7tFCmAIolIF4oyIonKiK3bGHWTEW1SpNBOkYJcihRMUaTQTpGCXIoULFOk0E6RglyKFECRQJFAkUCRQJFAkUCRQJFAkUCRQJHsUaTQTpECKJLOMk9pr70pzaKl0Y5y6uzYMnixjyI7zqBIyflU0pAz1ZR9UESRYmOVHUGRLmaNk7Qu20rt2A1FilYpUmynSFEuRYqmKFJsp0hRLkWKlilSbKdIUS5FinMoEqk4SMd2ihRBkUSkC0UZkURlxNZtjLrJiDYpUmynSFEuRYqmKFJsp0hRLkWKlilSbKdIUS5FiqBIoEigSKBIoEigSKBIoEigSKBIoEj2KFJsp0gRFElnmae0196UZtHSaCc5dXZqGbzUR5GdZlAkR9UPKeQavStDUkSRUmOVnUCRLmaNk7Qu20rt1A1FSvMp0kKXRUrtFinJtUjJlEVK7RYpybVIab5FOnq81IaRUjtGSnIxUpqDkQYVR+nUjpESMJKIfKEoJZKolNi6jVE3KdEmRkrtGCnJxUjJFEZK7RgpycVIyTJGSu0YKcnFSAkYCRgJGAkYCRgJGAkYCRgJGAkYCRjJHkZK7RgpASPpLPOU9tqb8ixaGu0sp87OLYOX+yiy86UYKW+HGl1wOYRYQgyaPhcpN1bZGRjpYtY4SeuyrdTO3WCkbPVzkXK7RcpyLVI2ZZFyu0XKci1Stvy5SLmdImW5FCnPoUhOxUE6t1OkDIokIl0oyogkKiO2bmPUTUa0SZFyO0XKcilSNkWRcjtFynIpUrZMkXI7RcpyKVIGRQJFAkUCRQJFAkUCRQJFAkUCRQJFskeRcjtFyqBIOss8pb32pjSLlka7yKmzS8vglT6K7HIpRYrbJdch+VyJfExFE0UqjVV2AUW6mDVO0rpsK7VLNxSpWKVIpZ0iFbkUqZiiSKWdIhW5FKnMp0j63mYq7RSpyKVIZQ5FCioO0qWdIhVQJBHpQlFGJFEZsXUbo24yok2KVNopUpFLkYopilTaKVKRS5GKZYpU2ilSkUuRCigSKBIoEigSKBIoEigSKBIoEigSKJI9ilTaKVIBRdJZ5inttTelWbQ02lVOnV1bBq/2UWTXGRQp1BpiSq6WTDWo+lik2thlV1iki2njJC3Mtla7dmORqlWLVNstUpVrkaopi1TbLVKVa5GqZYtU2y1SlWuR6hyLlFScpGu7RaqwSCLShaKMSKIyYus2Rt1kRJsWqbZbpCrXIlVTFqm2W6Qq1yJVyxaptlukKtciVVgkWCRYJFgkWCRYJFgkWCRYJFgkWCR7Fqm2W6QKi6SzzFPaa2+Ks2hptN0gp892Tb2nG/rossfneZlHCttDTj7l8e85Z1+yIo50dvlt4wqQdDFxnKjV2VZun9+hlzVqEyVNV948sDLfcjp/blbec5out334nODhm/W209HjpbZf2TZdfvtwkuDhvIQneRWH6+la28cOQOmXDxuaUiPJSo3N2xn1kxptMqXpypsHVm5qJFupkRgbLAlOjXax0nT17aNJgkcTXgleCV4JXgleCV4JXgleCV4JXgleyZRXmk4C7ScbiCWF1Z7Wqntj6kVNyS3JRbTVaL2ICHepWvLboUY/EJUh1BJ8VMWWmlGEA1uaZo6s5Xm7dYXe7miRGmVLjsGWnGC25GyxJcdgS04wW3KWP1Fpuvr20STBo3mJWhp0HLEdQy05qCUhWUNTaCRZobF5O6N+QqNRteQYaskJVkvOllpyDLXkBKslZ1otOYZacoLVkoNaglqCWoJaglqCWoJaglqCWoJagloyqJYcQy05qCWt1Z7Wqntj6kVNyS2p4W5bA7102zRDLflIOfqheJd8GJIqtdRcbxPU0jRznKjl2Vh0Uz9qicyqJWKoJRKslsiWWiKGWiLBaolMqyViqCUSrJZojlpyOo7YxFBLBLUkJGtoCo2yznTt21lHJzujaokYaokEqyWypZaIoZZIsFoi02qJGGqJBKslglqCWoJaglqCWoJaglqCWoJaglqCWjKoloihlghqSWu1p7Xq3ph6UVNye0ENd9v25Dvptv0MtUTkKXlPA0XnfNSElnxru+2BlqaJ40Stzsae2/eDlrxZtOQZaMkLRkveFlryDLTkBaMlPx8trfdUjYuRGKNJgkfzErQUdJywPQMteaAlIVlDU2gkWaGxeTujfkKjUbTkGWjJC0ZL3hZa8gy05AWjJW8aLXkGWvKC0ZIHWgJaAloCWgJaAloCWgJaAloCWgJaMoiWPAMteaAlrdWe1qp7Y+hFTckdBDXcoWn8QifddrgULdF2HU9LldIwbnlu8E7VRy2F1no7QC1NM8eJWp6NRXfoRy2F+WppoYwtBQZbCoLZUrDFlgKDLQXBbCnMZ0vHJ0ePjpcaVyMxhpMED6eNXxEXGG4pwC0JSRuaYiPJio3N2xn1ExuNuqXAcEtBsFsKttxSYLilINgtBdNuKTDcUhDslgLcEtwS3BLcEtwS3BLcEtwS3BLcEtySQbcUGG4pwC1prfa0Vt0bcy9qSu4oqOGOTeMXO+m24wy3lHwsNdboh0Qxk6pPW4qt9XaEW5pmjhO1PBuL7tiPW4pmP20pMthSFMyWoi22FBlsKQpmS9H0r4iLDLUUBaulOOtXxBUdZ+zIYEsRbElI2NCUGklWamzez6if1GiULUUGW4qC2VK0xZYigy1FwWwpmmZLkcGWomC2FMGWwJbAlsCWwJbAlsCWwJbAlsCWwJYMsqXIYEsRbElrtae16t4Ye1FTcidBDXdqGr/USbedZrAlF1PKKQ1DSa5QKZrYUmqttxPY0jRznKjl2Vh0p37YUjLLlhKDLSXBbCnZYkuJwZaSYLaUTLOlxGBLSTBbSnPYktdxxE4MtZSgloRkDU2hkWSFxubtjPoJjUbVUmKopSRYLSVbaikx1FISrJaSabWUGGopCVZLCWoJaglqCWoJaglqCWoJaglqCWoJasmgWkoMtZSglrRWe1qr7o2pFzUldxbUcOem8cuddNv5UrXktlc/byjl6BP5oSZVvyQut9bbGWppmjlO1PJsLLpzP2opm1VLmaGWsmC1lG2ppcxQS1mwWsqm1VJmqKUsWC3lWWrJ6ThjZwZbymBLQsKGptRIslJj835G/aRGo2wpM9hSFsyWsi22lBlsKQtmS9k0W8oMtpQFs6UMtgS2BLYEtgS2BLYEtgS2BLYEtgS2ZJAtZQZbymBLWqs9rVX3xtiLmpK7CGq4S9P4lU667TKHLcWSQ3LDEMZ/ZKqa2FJprbcL2NI0c5yo5dlYdJd+2FIxy5YKgy0VwWyp2GJLhcGWimC2VEyzpcJgS0UwWyqzfkcc6ThjFwZbKmBLQsKGptRIslJj835G/aRGo2ypMNhSEcyWii22VBhsqQhmS8U0WyoMtlQEs6UCtgS2BLYEtgS2BLYEtgS2BLYEtgS2ZJAtFQZbKmBLWqs9rVX3xtiLmpK7Cmq4a9P41U667TqHLfmaxr0ulhIqZadJLdXWdrtCLU0Tx4lanY09d+1HLVWzaqky1FIVrJaqLbVUGWqpClZL1bRaqgy1VAWrpTpHLVUdJ+zKQEsVaElI1tAUGklWaGzezqif0GgULVUGWqqC0VK1hZYqAy1VwWipmkZLlYGWqmC0VIGWgJaAloCWgJaAloCWgJaAloCWgJYMoqXKQEsVaElrtae16t4YetFSctMgp+GmphaUhj667fF5Xo6WYhoyjXsdxVzGDa8oUktn1982sFBLFzPHiVqebUX3+R16WaQ21dJ05c0DK/MNqPPnZuUNqOly24fPCR4+o29ATVffPpokeDQvUUtJB1uaLrZ98MCWfvmwoSk1kqzU2LyfUT+p0SZbmq68eWDlpkaylRqJscGS4NRIplMjsXZZuakRbAlsCWwJbAlsCWwJbAlsCWwJbAlsyRpbmk4C7ScbsCWF1Z7Wqntj7EVNyS3JRbTVaL2ICDeDLfkhBZeTH4a8+rylqIktNaMIB7Y0zRxZy/N26wq93dEiNcqWHIMtOcFsydliS47BlpxgtuRMsyXHYEtOMFtys35FnNdxxnYMtuTAloSEDU2pkWSlxub9jPpJjUbZkmOwJSeYLTlbbMkx2JITzJacabbkGGzJCWZLDmwJbAlsCWwJbAlsCWwJbAlsCWwJbMkgW3IMtuTAlrRWe1qr7o2xFzUlt6SGu20N9NJt0wy2NB6Wck2hxjCU6AppYkvN9TaBLU0zx4lano1FN/XDlsgsWyIGWyLBbIlssSVisCUSzJZoPls6Pjl6dLzUuBqJMZwkeDgvc0s6ztjEYEsEtiQkbGhKjbIOde3bWUdHO6NsiRhsiQSzJbLFlojBlkgwWyLTbIkYbIkEsyUCWwJbAlsCWwJbAlsCWwJbAlsCWwJbMsiWiMGWCGxJa7WntereGHtRU3J7QQ132/bkO+m2/Ry2RNnlmmOO3pVQsia25FvrbQ+2NM0cJ2p5Nhbdvh+25M2yJc9gS14wW/K22JJnsCUvmC1505+25BlqyQtWS36OWqKo44ztGWzJgy0JCRuaUiPJSo3N+xn1kxqNsiXPYEteMFvyttiSZ7AlL5gtedNsyTPYkhfMljzYEtgS2BLYEtgS2BLYEtgS2BLYEtiSQbbkGWzJgy1prfa0Vt0bYy9qSu4gqOEOTeMXOum2wxy25JxPPrhMNfig6sOWQmu7HaCWponjRK3Oxp479KOWglm1FBhqKQhWS8GWWgoMtRQEq6VgWi0FhloKgtVSmKOWQtZxxA4MtRSgloSEDU2pkWSlxub9jPpJjUbVUmCopSBYLQVbaikw1FIQrJaCabUUGGopCFZLAWoJaglqCWoJaglqCWoJaglqCWoJasmgWgoMtRSglrRWe1qr7o2pFzUldxTUcMem8YuddNtxhloayhBjdNXnlEJJmtRSbG23I9TSNHGcqNXZ2HPHftRSNKuWIkMtRcFqKdpSS5GhlqJgtRTnq6X1nqpxMRJjNEnwaF6ilpSgpchASxFoSUjW0BQaSVZobN7OqJ/QaBQtRQZaioLRUrSFliIDLUXBaCmaRkuRgZaiYLQUgZaAloCWgJaAloCWgJaAloCWgJaAlgyipchASxFoSWu1p7Xq3hh6UVNyJ0ENd2oav9RJt53moCWXa0klpOJK9EPUpJZSa72doJammeNELc/Gojv1o5aSWbWUGGopCVZLyZZaSgy1lASrpWT6s5YSQy0lwWopzVFLbtBxxk4MtpTAloSEDU2pkWSlxub9jPpJjUbZUmKwpSSYLSVbbCkx2FISzJaSabaUGGwpCWZLCWwJbAlsCWwJbAlsCWwJbAlsCWwJbMkgW0oMtpTAlrRWe1qr7o2xFzUldxbUcOem8cuddNt5FltKwfuch0oluKiKLeXWejuDLU0zx4lano1Fd+6HLWWzbCkz2FIWzJayLbaUGWwpC2ZL2TRbygy2lAWzpTzrw5aKjjN2ZrClDLYkJGxoSo0kKzU272fUT2o0ypYygy1lwWwp22JLmcGWsmC2lE2zpcxgS1kwW8pgS2BLYEtgS2BLYEtgS2BLYEtgS2BLBtlSZrClDLaktdrTWnVvjL2oKbmLoIa7NI1f6aTbLvPYEg1UMtXkhoGqJrZUWuvtArY0zRwnank2Ft2lH7ZUzLKlwmBLRTBbKrbYUmGwpSKYLRXTbKkw2FIRzJbKHLZESn5JXGGwpQK2JCRsaEqNJCs1Nu9n1E9qNMqWCoMtFcFsqdhiS4XBlopgtlRMs6XCYEtFMFsqYEtgS2BLYEtgS2BLYEtgS2BLYEtgSwbZUmGwpQK2pLXa01p1b4y9qCm5q6CGuzaNX+2k266z2BIVF2iovtTBh6yJLdXWeruCLU0zx4lano1Fd+2HLVWzbKky2FIVzJaqLbZUGWypCmZL1TRbqgy2VAWzpTqHLb1QvHV9iqsMtlTBloSEDU2pkWSlxub9jPpJjUbZUmWwpSqYLVVbbKky2FIVzJaqabZUGWypCmZLFWwJbAlsCWwJbAlsCWwJbAlsCWwJbMkgW6oMtlTBlrRWe1qr7o2xFy0ltx/kNNy+qQX1Qx/d9vg8L2NLdbvW6mOtLpeYhhgW14espFM7u/y2cYVaupg4TtTqbOu5z+/Qyxq1qZamK28eWJnvP50/NyvvP02X2z58TvDwzXr/6ejxctxUNa5GYgwnCR7OS9jSoOKIPV1r+9hBLf3yYUNTaiRZqbF5O6N+UqNNtTRdefPAyk2NZCs1EmODJcGp0a5amq6+fTRJ8GhCLUEtQS1BLUEtQS1BLUEtQS1BLUEtmVJL00mg/WQDtaSw2tNadW9MvagpuSW5iLYarRcR4WaoJZdzCkQxDtHnmjWppWYT4aCWpokja3Xebl2gtztao0bVkmOoJSdYLTlbaskx1JITrJac5c9amq6+fTRJ8Ghegpac03HEdgy15KCWhIQNTamRZKXG5v2M+kmNRtWSY6glJ1gtOVtqyTHUkhOslpxpteQYaskJVksOaglqCWoJaglqCWoJaglqCWoJaglqyaBacgy15KCWtFZ7WqvujakXNSW3pIa7bQ300m3TpWqpbNeSKZQhxRyHkFR91lJzu01QS9PEcaJWZ2PPTf2oJTKrloihlkiwWiJbaokYaokEqyUyrZaIoZZIsFqiWWpJx2+Imy62ffCgln75sKEpNco607XvZx2d7IyqJWKoJRKslsiWWiKGWiLBaolMqyViqCUSrJYIaglqCWoJaglqCWoJaglqCWoJaglqyaBaIoZaIqglrdWe1qp7Y+pFTcntBTXcbduT76Tb9jPU0rjPuejy4GL1rmpCS7613PZAS9O8caIWZ2PN7ftBS94sWvIMtOQFoyVvCy15BlrygtGSN42WPAMtecFoyc9BS+R1nLA9Ay15oCUhYUNTaiRZqbF5P6N+UqNRtOQZaMkLRkveFlryDLTkBaMlbxoteQZa8oLRkgdaAloCWgJaAloCWgJaAloCWgJaAloyiJY8Ay15oCWt1Z7Wqntj6EVNyR0ENdyhafxCJ912mIGWaKgheu8oD65Gr0kthdZ2O0AtTRPHiVqdjT136EctBbNqKTDUUhCsloIttRQYaikIVkvBtFoKDLUUBKulMOujlqKOI3ZgqKUAtSQkbGhKjSQrNTbvZ9RPajSqlgJDLQXBainYUkuBoZaCYLUUTKulwFBLQbBaClBLUEtQS1BLUEtQS1BLUEtQS1BLUEsG1VJgqKUAtaS12tNadW9MvagpuaOghjs2jV/spNuOM9TSEKKv4w8dP1QfS9KklmJrux2hlqaJ40StzsaeO/ajlqJZtRQZaikKVkvRllqKDLUUBaulaFotRYZaioLVUpyjlpIStRQZailCLQkJG5pSI8lKjc37GfWTGo2qpchQS1GwWoq21FJkqKUoWC1F02opMtRSFKyWItQS1BLUEtQS1BLUEtQS1BLUEtQS1JJBtRQZailCLWmt9rRW3RtTL2pK7iSo4U5N45c66bbTpWopb8dEgw9DTNmVMKj6rKXU2m4nqKVp4jhRq7Ox5079qKVkVi0lhlpKgtVSsqWWEkMtJcFqKZlWS4mhlpJgtZRmfdYSOR1n7MRgSwlsSUja0BQbSVZsbN7QqJ/YaJQtJQZbSoLZUrLFlhKDLSXBbCmZZkuJwZaSYLaUwJbAlsCWwJbAlsCWwJbAlsCWwJbAlgyypcRgSwlsSWu1p7Xq3hh7UVNyZ0ENd24av9xJt51nsCUX8hBSzTQQxaFoYku5td3OYEvTxHGiVmdjz537YUvZLFvKDLaUBbOlbIstZQZbyoLZUjbNljKDLWXBbCnPYUu16DhiZ4ZaylBLQsKGptRIslJj835G/aRGo2opM9RSFqyWsi21lBlqKQtWS9m0WsoMtZQFq6UMtQS1BLUEtQS1BLUEtQS1BLUEtQS1ZFAtZYZaylBLWqs9rVX3xtSLmpK7CGq4S9P4lU667TJHLfnBU6zOVT8Ep+rDlkpru12glqaJ40Stzsaeu/Sjlsp8tbRQxpYKgy0VwWyp2GJLhcGWimC2VOazpcPF09XWrHE5EmM8SfB4XgKXBh2H7MJwSwVuSUjc0JQbSVZubN7OqJ/caNQtFYZbKoLdUrHllgrDLRXBbqmYdkuF4ZaKYLdU4JbgluCW4JbgluCW4JbgluCW4Jbglgy6pcJwSwVuSWu1p7Xq3ph7UVNyV0ENd20av9pJt11nuKUh15hDGIhSqU7Vpy3V1na7wi1NE8eJWp2NPXftxy1Vs5+2VBlsqQpmS9UWW6oMtlQFs6Vq+tOWKgMtVcFoqc5BS1HHCbsy0FIFWhKSNTSFRpIVGpu3M+onNBpFS5WBlqpgtFRtoaXKQEtVMFqqptFSZaClKhgtVaAloCWgJaAloCWgJaAloCWgJaAloCWDaKky0FIFWtJa7WmtujeGXrSU3GGQ03CHphY0DH102+PzvAwtpe1SaqJaQghDyVnThy2dXX7buAItXUwcJ2p1tvXc53foZY3aREvTlTcPrMz3n86fm5X3n6bLbR8+J3j4jL7/NF19+2iS4NG8BC0lp+KIPV1s++BBLf3yYUNTaiRZqbF5P6N+UqNNtTRdefPAyk2NZCs1EmODJcGpkUynRmLtsnJTI9QS1BLUEtQS1BLUEtQS1BLUEtQS1JI1tTSdBNpPNlBLCqs9rVX3xtSLmpJbkotoq9F6ERFuhlpKFFPyuaQ4lKFETWqp2UQ4qKVp4shanbdbF+jtjtaoUbXkGGrJCVZLzpZacgy15ASrJWdaLTmGWnKC1ZKbo5acqzrO2I7BlhzYkpC0oSk2kqzY2LyhUT+x0Shbcgy25ASzJWeLLTkGW3KC2ZIzzZYcgy05wWzJgS2BLYEtgS2BLYEtgS2BLYEtgS2BLRlkS47BlhzYktZqT2vVvTH2oqbkltRwt62BXrptmsGWYih5GJKvMbjxyKSJLTW32wS2NE0cJ2p1Nvbc1A9bIrNsiRhsiQSzJbLFlojBlkgwWyLTbIkYbIkEsyWaxZbI6zhjE4MtEdiSkLShKTbKOtS1b2gdHe2MsiVisCUSzJbIFlsiBlsiwWyJTLMlYrAlEsyWCGwJbAlsCWwJbAlsCWwJbAlsCWwJbMkgWyIGWyKwJa3Vntaqe2PsRU3J7QU13G3bk++k2/Yz2FJw0eUUS4xDLF7V74jzre22B1uaJo4TtTobe27fD1vyZtmSZ7AlL5gteVtsyTPYkhfMlrxptuQZbMkLZkt+DlvySj5syTPUkodaEhI2NKVGkpUam/cz6ic1GlVLnqGWvGC15G2pJc9QS16wWvKm1ZJnqCUvWC15qCWoJaglqCWoJaglqCWoJaglqCWoJYNqyTPUkoda0lrtaa26N6Ze1JTcQVDDHZrGL3TSbYcZaskP2fkUsx+c1/Ur4kJruR2AlqZ540QtzsaaO/SDloJZtBQYaCkIRkvBFloKDLQUBKOlYBotBQZaCoLRUpiDlnLQccIODLQUgJaEhA1NqZFkpcbm/Yz6SY1G0VJgoKUgGC0FW2gpMNBSEIyWgmm0FBhoKQhGSwFoCWgJaAloCWgJaAloCWgJaAloCWjJIFoKDLQUgJa0Vntaq+6NoRc1JXcU1HDHpvGLnXTbcQZaojj4kGJJNaWcnSa1FFvb7Qi1NE0cJ2p1NvbcsR+1FM2qpchQS1GwWoq21FJkqKUoWC1F02opMtRSFKyW4qyPWko6jtiRoZYi1JKQsKEpNZKs1Ni8n1E/qdGoWooMtRQFq6VoSy1FhlqKgtVSNK2WIkMtRcFqKUItQS1BLUEtQS1BLUEtQS1BLUEtQS0ZVEuRoZYi1JLWak9r1b0x9aKm5E6CGu7UNH6pk247zVBLro6nJT8elmqN3mdNaim1ttsJammaOE7U6mzsuVM/aimZVUuJoZaSYLWUbKmlxFBLSbBaSqbVUmKopSRYLaU5aikNOo7YiaGWEtSSkLChKTWSrNTYvJ9RP6nRqFpKDLWUBKulZEstJYZaSoLVUjKtlhJDLSXBailBLUEtQS1BLUEtQS1BLUEtQS1BLUEtGVRLiaGWEtSS1mpPa9W9MfWipuTOghru3DR+uZNuO89TSylTTG48L7lUNKml3NpuZ6ilaeI4UauzsefO/ailbFYtZYZayoLVUralljJDLWXBaimbVkuZoZayYLWU56ilQDqO2JmhljLUkpCwoSk1kqzU2LyfUT+p0ahaygy1lAWrpWxLLWWGWsqC1VI2rZYyQy1lwWopQy1BLUEtQS1BLUEtQS1BLUEtQS1BLRlUS5mhljLUktZqT2vVvTH1oqbkLoIa7tI0fqWTbrvMUUtEIZRSQ6TVpy1pUkultd0uUEvTxHGiVmdjz136UUvFrFoqDLVUBKulYkstFYZaKoLVUjGtlgpDLRXBaqnMUUux6jhiF4ZaKlBLQsKGptRIslJj835G/aRGo2qpMNRSEayWii21VBhqqQhWS8W0WioMtVQEq6UCtQS1BLUEtQS1BLUEtQS1BLUEtQS1ZFAtFYZaKlBLWqs9rVX3xtSLmpK7Cmq4a9P41U667XqpWorbpdbokq8xDORd0qSWamu7XaGWponjRK3Oxp679qOWqlm1VBlqqQpWS9WWWqoMtVQFq6VqWi1VhlqqgtVSnaOW3KDkV8RVBluqYEtC0oam2EiyYmPzhkb9xEajbKky2FIVzJaqLbZUGWypCmZL1TRbqgy2VAWzpQq2BLYEtgS2BLYEtgS2BLYEtgS2BLZkkC1VBluqYEtaqz2tVffG2IuWkjsOchru2NSCxqGPbnt8npezpVw8+ZgrhVyG4hSxpbPLbxtXsKWLieNErc62nvv8Dr2sUZtsabry5oGV+f7T+XOz8v7TdLntw+cED5/R95+mq28fTRI8mpf9irik4og9XWz74EEt/fJhQ1NqJFmpsXk/o35So021NF1588DKTY1kKzUSY4MlwamRTKdGYu2yclMj1BLUEtQS1BLUEtQS1BLUEtQS1BLUkjW1NJ0E2k82UEsKqz2tVffG1IuakluSi2ir0XoREW6GWiLvyXlXMvk6qPqwpdhsIhzU0jRxZK3O260L9HZHa9SoWnIMteQEqyVnSy05hlpygtWSM62WHEMtOcFqyc36sCUlaskx1JKDWhISNjSlRpKVGpv3M+onNRpVS46hlpxgteRsqSXHUEtOsFpyptWSY6glJ1gtOaglqCWoJaglqCWoJaglqCWoJaglqCWDaskx1JKDWtJa7WmtujemXtSU3JIa7rY10Eu3TTPUkqueQgyBYqppiJrUUnO7TVBL08RxolZnY89N/aglMquWiKGWSLBaIltqiRhqiQSrJZqvlo5Pjh4dLzWuRmIMJwkezsvYUtBxxiYGWyKwJSFpQ1NslHWoa9/POjraGWVLxGBLJJgtkS22RAy2RILZEplmS8RgSySYLRHYEtgS2BLYEtgS2BLYEtgS2BLYEtiSQbZEDLZEYEtaqz2tVffG2IuaktsLarjbtiffSbftL2VLYbvG7EMlP/6VYiZNbMm3ttsebGmaOE7U6mzsuX0/bMmbZUuewZa8YLbkbbElz2BLXjBb8qY/bMkz1JIXrJb8HLWUSMcR2zPUkodaEhI2NKVGkpUam/cz6ic1GlVLnqGWvGC15G2pJc9QS16wWvKm1ZJnqCUvWC15qCWoJaglqCWoJaglqCWoJaglqCWoJYNqyTPUkoda0lrtaa26N6Ze1JTcQVDDHZrGL3TSbYcZaskHt/q0pZpjqSWo+hVxobXdDlBL08RxolZnY88d+lFLwaxaCgy1FASrpWBLLQWGWgqC1VIwrZYCQy0FwWopzFFLVYlaCgy1FKCWhIQNTamRZKXG5v2M+kmNRtVSYKilIFgtBVtqKTDUUhCsloJptRQYaikIVksBaglqCWoJaglqCWoJaglqCWoJaglqyaBaCgy1FKCWtFZ7WqvujakXNSV3FNRwx6bxi51023GOWiLn/HhcKiGlOqj6rKXY2m5HqKVp4jhRq7Ox5479qKVoVi1FhlqKgtVStKWWIkMtRcFqKc5XS4eLp6udWeNyJMZ4kuDxvOx3xOk4Y0cGW4pgS0LShqbYSLJiY/N2Rv3ERqNsKTLYUhTMlqItthQZbCkKZkvRNFuKDLYUBbOlCLYEtgS2BLYEtgS2BLYEtgS2BLYEtmSQLUUGW4pgS1qrPa1V98bYi5qSOwlquFPT+KVOuu00gy1RolJpCIXGs9LgvSa3lFrr7QS3NM0cJ2p5NhbdqR+3lMy6pcRwS0mwW0q23FJiuKUk2C2l+W7p+OTo0fFS42okxnCS4OG8jC0NOg7ZieGWEtySkLShKTaSrNjYvJ9RP7HRqFtKDLeUBLulZMstJYZbSoLdUjLtlhLDLSXBbinBLcEtwS3BLcEtwS3BLcEtwS3BLcEtGXRLieGWEtyS1mpPa9W9MfeipuTOghru3DR+uZNuO89wS0NOJeQyuJiHVFWxpdzabmewpWniOFGrs7Hnzv2wpWyWLWUGW8qC2VK2xZYygy1lwWwpm/4lcZmhlrJgtZTnqCVSopYyQy1lqCUhYUNTaiRZqbF5P6N+UqNRtZQZaikLVkvZllrKDLWUBaulbFotZYZayoLVUoZaglqCWoJaglqCWoJaglqCWoJagloyqJYyQy1lqCWt1Z7Wqntj6kVNyV0ENdylafxKJ912maOWUolh/KGTnQsh1KiJLZXWeruALU0zx4lano1Fd+mHLRWzbKkw2FIRzJaKLbZUGGypCGZLxTRbKgy2VASzpTLvw5aSjkN2YbilArckJG1oio0kKzY2b2jUT2w06pYKwy0VwW6p2HJLheGWimC3VEy7pcJwS0WwWypwS3BLcEtwS3BLcEtwS3BLcEtwS3BLBt1SYbilArektdrTWnVvzL2oKbmroIa7No1f7aTbrrPcUhrieFZyybtYXdLklmprvV3hlqaZ40Qtz8aiu/bjlqpZt1QZbqkKdkvVlluqDLdUBbulatotVYZbqoLdUp3jllLRccauDLZUwZaEhA1NqZFkpcbm/Yz6SY1G2VJlsKUqmC1VW2ypMthSFcyWqmm2VBlsqQpmSxVsCWwJbAlsCWwJbAlsCWwJbAlsCWzJIFuqDLZUwZa0Vntaq+6NsRctJXca5DTcqakFTUMf3fb4PC9jS367ZBfyeGIiHwu5lBWxpbPrbxtYsKWLmeNELc+2ovv8Dr0sUptsabry5oGV+QbU+XOz8gbUdLntw+cED5/RN6Cmq28fTRI8mpf9ljgdbGm62PbBA1v65cOGptRIslJj835G/aRGm2xpuvLmgZWbGslWaiTGBkuCUyOZTo3E2mXlpkawJbAlsCWwJbAlsCWwJbAlsCWwJbAla2xpOgm0n2zAlhRWe1qr7o2xFzUltyQX0Vaj9SIi3By25CpV72t2wxAGVb8lLjWjCAe2NM0cWcvzdusKvd3RIjXKlhyDLTnBbMnZYkuOwZacYLbkTLMlx2BLTjBbcrN+S5xzOg7ZjuGWHNySkLShKTaSrNjYvKFRP7HRqFtyDLfkBLslZ8stOYZbcoLdkjPtlhzDLTnBbsnBLcEtwS3BLcEtwS3BLcEtwS3BLcEtGXRLjuGWHNyS1mpPa9W9MfeipuSW1HC3rYFeum2a4ZbSQNl7TzWE1W+K08SWmtttAluaJo4TtTobe27qhy2RWbZEDLZEgtkS2WJLxGBLJJgtkWm2RAy2RILZEs1hSzXrOGITQy0R1JKQsKEpNco607XvZx2d7IyqJWKoJRKslsiWWiKGWiLBaolMqyViqCUSrJYIaglqCWoJaglqCWoJaglqCWoJaglqyaBaIoZaIqglrdWe1qp7Y+pFTcntBTXcbduT76Tb9jPUki8+xzAMsRRHg9Oklnxru+2hlqaJ40Stzsae2/ejlrxZteQZaskLVkvellryDLXkBaslb1oteYZa8oLVkp+jlsKg44jtGWrJQy0JCRuaUiPJSo3N+xn1kxqNqiXPUEtesFryttSSZ6glL1gtedNqyTPUkhesljzUEtQS1BLUEtQS1BLUEtQS1BLUEtSSQbXkGWrJQy1prfa0Vt0bUy9qSu4gqOEOTeMXOum2wxy1RC6VGl2p46GJiia1FFrb7QC1NE0cJ2p1NvbcoR+1FMyqpcBQS0GwWgq21FJgqKUgWC0F02opMNRSEKyWwqxfEUdFxxk7MNhSAFsSkjY0xUaSFRubNzTqJzYaZUuBwZaCYLYUbLGlwGBLQTBbCqbZUmCwpSCYLQWwJbAlsCWwJbAlsCWwJbAlsCWwJbAlg2wpMNhSAFvSWu1prbo3xl7UlNxRUMMdm8YvdtJtx0vZEm3n4FJKNaQy+FKqJrYUW9vtCLY0TRwnanU29tyxH7YUzbKlyGBLUTBbirbYUmSwpSiYLUXTbCky2FIUzJbirA9bijqO2JGhliLUkpCwoSk1kqzU2LyfUT+p0ahaigy1FAWrpWhLLUWGWoqC1VI0rZYiQy1FwWopQi1BLUEtQS1BLUEtQS1BLUEtQS1BLRlUS5GhliLUktZqT2vVvTH1oqbkToIa7tQ0fqmTbjvNUEtp/IHjkw9+qG48MyVNbCm11tsJbGmaOU7U8mwsulM/bCmZZUuJwZaSYLaUbLGlxGBLSTBbSqbZUmKwpSSYLaU5bKl6HWfsxGBLCWxJSNjQlBpJVmps3s+on9RolC0lBltKgtlSssWWEoMtJcFsKZlmS4nBlpJgtpTAlsCWwJbAlsCWwJbAlsCWwJbAlsCWDLKlxGBLCWxJa7WntereGHtRU3JnQQ13bhq/3Em3nWewpZi9T65QLHHc9ZzXxJZya72dwZammeNELc/Gojv3w5ayWbaUGWwpC2ZL2RZbygy2lAWzpWyaLWUGW8qC2VKexZYGHWfszGBLGWxJSNjQlBpJVmps3s+on9RolC1lBlvKgtlStsWWMoMtZcFsKZtmS5nBlrJgtpTBlsCWwJbAlsCWwJbAlsCWwJbAlsCWDLKlzGBLGWxJa7WntereGHtRU3IXQQ13aRq/0km3XeawJU/ep1x9rBSDqt8RV1rb7QK1NE0cJ2p1NvbcpR+1VMyqpcJQS0WwWiq21FJhqKUiWC0V02qpMNRSEayWyhy1FJV82FJhqKUCtSQkbGhKjSQrNTbvZ9RPajSqlgpDLRXBaqnYUkuFoZaKYLVUTKulwlBLRbBaKlBLUEtQS1BLUEtQS1BLUEtQS1BLUEsG1VJhqKUCtaS12tNadW9Mvagpuaughrs2jV/tpNuuM9RSqClGX5ILrqY8qPqwpdpab1ewpWnmOFHLs7Horv2wpWqWLVUGW6qC2VK1xZYqgy1VwWypmmZLlcGWqmC2VOewJU86ztiVwZYq2JKQsKEpNZKs1Ni8n1E/qdEoW6oMtlQFs6Vqiy1VBluqgtlSNc2WKoMtVcFsqYItgS2BLYEtgS2BLYEtgS2BLYEtgS0ZZEuVwZYq2JLWak9r1b0x9qKl5M6DnIY7N7Wgeeij2x6f5xy2RCEkH2PNlEvRxJbOrr9tYMGWLmaOE7U824ru8zv0skhtsqXpypsHVuYbUOfPzcobUNPltg+fEzx8Rt+Amq6+fTRJ8Ghe9jvinIoz9nSx7YMHtvTLhw1NqZFkpcbm/Yz6SY022dJ05c0DKzc1kq3USIwNlgSnRjKdGom1y8pNjWBLYEtgS2BLYEtgS2BLYEtgS2BLYEvW2NJ0Emg/2YAtKaz2tFbdG2MvakpuSS6irUbrRUS4GWzJR3LZx9UHLVHJRZNaajYRDmppmjiyVuft1gV6u6M1alQtOYZacoLVkrOllhxDLTnBasmZVkuOoZacYLXk5qilUnQcsR1DLTmoJSFhQ1NqJFmpsXk/o35So1G15BhqyQlWS86WWnIMteQEqyVnWi05hlpygtWSg1qCWoJaglqCWoJaglqCWoJaglqCWjKolhxDLTmoJa3Vntaqe2PqRU3JLanhblsDvXTbNEMtUXFxPC7F7CIRedLElprrbQJbmmaOE7U8G4tu6octkVm2RAy2RILZEtliS8RgSySYLZFptkQMtkSC2RLNYUvu1azT6zGOGG6J4JaEpA1NsVHWqa59Q+vobGfULRHDLZFgt0S23BIx3BIJdktk2i0Rwy2RYLdEcEtwS3BLcEtwS3BLcEtwS3BLcEtwSwbdEjHcEsEtaa32tFbdG3MvakpuL6jhbtuefCfdtp/jlgZyPqRIYciDr1GTW/Kt9baHW5pmjhO1PBuLbt+PW/Jm3ZJnuCUv2C15W27JM9ySF+yWvGm35BluyQt2S36WW6Kg45DtGW7Jwy0JSRuaYiPJio3NGxr1ExuNuiXPcEtesFvyttySZ7glL9gtedNuyTPckhfsljzcEtwS3BLcEtwS3BLcEtwS3BLcEtySQbfkGW7Jwy1prfa0Vt0bcy9qSu4gqOEOTeMXOum2wwy35IZYfKVhyDUEr4othdZ2O4AtTRPHiVqdjT136IctBbNsKTDYUhDMloItthQYbCkIZkvBNFsKDLYUBLOlMOu3xCUdR+zAUEsBaklI2NCUGklWamzez6if1GhULQWGWgqC1VKwpZYCQy0FwWopmFZLgaGWgmC1FKCWoJaglqCWoJaglqCWoJaglqCWoJYMqqXAUEsBaklrtae16t6YelFTckdBDXdsGr/YSbcdZ6ilgUosKfiUhpJD0aSWYmu7HaGWponjRK3Oxp479qOWolm1FBlqKQpWS9GWWooMtRQFq6VoWi1FhlqKgtVSnPdL4oqOM3ZksKUItiQkbWiKjSQrNjZvaNRPbDTKliKDLUXBbCnaYkuRwZaiYLYUTbOlyGBLUTBbimBLYEtgS2BLYEtgS2BLYEtgS2BLYEsG2VJksKUItqS12tNadW+MvagpuZOghjs1jV/qpNtOc9jSkGsJxZXgasyk6tOWUmu9neCWppnjRC3PxqI79eOWklm3lBhuKQl2S8mWW0oMt5QEu6Vk2i0lhltKgt1SmuWWnJJfEpcYbinBLQlJG5piI8mKjc0bGvUTG426pcRwS0mwW0q23FJiuKUk2C0l024pMdxSEuyWEtwS3BLcEtwS3BLcEtwS3BLcEtwS3JJBt5QYbinBLWmt9rRW3RtzL2pK7iyo4c5N45c76bbzpW7JbdcwZO+rz7XW6Ctpcku5td7OcEvTzHGilmdj0Z37cUvZrFvKDLeUBbulbMstZYZbyoLdUjbtljLDLWXBbinPcUtZyW+Jywy2lMGWhIQNTamRZKXG5v2M+kmNRtlSZrClLJgtZVtsKTPYUhbMlrJptpQZbCkLZksZbAlsCWwJbAlsCWwJbAlsCWwJbAlsySBbygy2lMGWtFZ7WqvujbEXNSV3EdRwl6bxK51022UOW/LJhfGHTvEuxJS8JrZUWuvtArY0zRwnank2Ft2lH7ZUzLKlwmBLRTBbKrbYUmGwpSKYLRXTbKkw2FIRzJbKHLbkvY4zdmGwpQK2JCRsaEqNJCs1Nu9n1E9qNMqWCoMtFcFsqdhiS4XBlopgtlRMs6XCYEtFMFsqYEtgS2BLYEtgS2BLYEtgS2BLYEtgSwbZUmGwpQK2pLXa01p1b4y9qCm5q6CGuzaNX+2k264z2FLJlMgPLqVILriiiS3V1nq7gi1NM8eJWp6NRXfthy1Vs2ypMthSFcyWqi22VBlsqQpmS9U0W6oMtlQFs6U6hy0FJb8krjLYUgVbEhI2NKVGkpUam/cz6ic1GmVLlcGWqmC2VG2xpcpgS1UwW6qm2VJlsKUqmC1VsCWwJbAlsCWwJbAlsCWwJbAlsCWwJYNsqTLYUgVb0lrtaa26N8ZetJTcZZDTcJemFrQMfXTb4/O8nC2lSLWmlKlkP/5LUMSWzq6/bWDBli5mjhO1PNuK7vM79LJIbbKl6cqbB1bmG1Dnz83KG1DT5bYPnxM8fEbfgJquvn00SfBoXsKWXjtq93mKmy62ffDAln75sKEpNZKs1Ni8n1E/qdEmW5quvHlg5aZGspUaibHBkuDUSKZTI7F2WbmpEWwJbAlsCWwJbAlsCWwJbAlsCWwJbMkaW5pOAu0nG7AlhdWe1qp7Y+xFTcktyUW01Wi9iAg3hy35IWRyxVfv/ZA1qaVmE+GglqaJI2t13m5doLc7WqNG1ZJjqCUnWC05W2rJMdSSE6yWnGm15BhqyQlWS26OWnKDjl8SN11t++iBLf3yaUNTbCRZsbF5Q6N+YqNRtuQYbMkJZkvOFltyDLbkBLMlZ5otOQZbcoLZkgNbAlsCWwJbAlsCWwJbAlsCWwJbAlsyyJYcgy05sCWt1Z7Wqntj7EVNyS2p4W5bA7102zSDLcVYwhB8JTfudkNR5Zaa622CW5pmjhO1PBuLburHLZFZt0QMt0SC3RLZckvEcEsk2C2RabdEDLdEgt0SzXFLKes4YxODLRHYkpCwoSk1yjrUte9nHR3tjLIlYrAlEsyWyBZbIgZbIsFsiUyzJWKwJRLMlghsCWwJbAlsCWwJbAlsCWwJbAlsCWzJIFsiBlsisCWt1Z7Wqntj7EVNye0FNdxt25PvpNv2c9hSyIlq8Ln6VMYTkya25FvrbQ+2NM0cJ2p5Nhbdvh+25M2yJc9gS14wW/K22JJnsCUvmC1502zJM9iSF8yW/KxfEud0nLE9gy15sCUhYUNTaiRZqbF5P6N+UqNRtuQZbMkLZkveFlvyDLbkBbMlb5oteQZb8oLZkgdbAlsCWwJbAlsCWwJbAlsCWwJbAlsyyJY8gy15sCWt1Z7Wqntj7EVNyR0ENdyhafxCJ912mMOWKIRYQ3V1PDHVoIothdZ6O4AtTTPHiVqejUV36IctBbNsKTDYUhDMloItthQYbCkIZkvBNFsKDLYUBLOlMOu3xFUdZ+zAYEsBbElI2NCUGklWamzez6if1GiULQUGWwqC2VKwxZYCgy0FwWwpmGZLgcGWgmC2FMCWwJbAlsCWwJbAlsCWwJbAlsCWwJYMsqXAYEsBbElrtae16t4Ye1FTckdBDXdsGr/YSbcdZ7GlIUeKdYhE0fuqiS3F1no7gi1NM8eJWp6NRXfshy1Fs2wpMthSFMyWoi22FBlsKQpmS9E0W4oMthQFs6U4hy35qOOMHRlsKYItCQkbmlIjyUqNzfsZ9ZMajbKlyGBLUTBbirbYUmSwpSiYLUXTbCky2FIUzJYi2BLYEtgS2BLYEtgS2BLYEtgS2BLYkkG2FBlsKYItaa32tFbdG2MvakruJKjhTk3jlzrpttMMthQylRDHrY5cdJU0qaXU2m4nqKVp4jhRq7Ox5079qKVkVi0lhlpKgtVSsqWWEkMtJcFqKZlWS4mhlpJgtZRmfdgSJR1n7MRgSwlsSUja0BQbSVZsbN7QqJ/YaJQtJQZbSoLZUrLFlhKDLSXBbCmZZkuJwZaSYLaUwJbAlsCWwJbAlsCWwJbAlsCWwJbAlgyypcRgSwlsSWu1p7Xq3hh7UVNyZ0ENd24av9xJt53nsKVEgw851koh1yFrcku5td7OcEvTzHGilmdj0Z37cUvZrFvKDLeUBbulbMstZYZbyoLdUjbtljLDLWXBbinPcktOycctZYZbynBLQtKGpthIsmJj84ZG/cRGo24pM9xSFuyWsi23lBluKQt2S9m0W8oMt5QFu6UMtwS3BLcEtwS3BLcEtwS3BLcEtwS3ZNAtZYZbynBLWqs9rVX3xtyLmpK7CGq4S9P4lU667TLDLflhCIFqKSXUVFzS5JZKa71d4JammeNELc/Gorv045aKWbdUGG6pCHZLxZZbKgy3VAS7pWLaLRWGWyqC3VKZ45aC13HGLgy2VMCWhIQNTamRZKXG5v2M+kmNRtlSYbClIpgtFVtsqTDYUhHMlopptlQYbKkIZksFbAlsCWwJbAlsCWwJbAlsCWwJbAlsySBbKgy2VMCWtFZ7WqvujbEXNSV3FdRw16bxq51023UGW6IYqKbqqZZApWpSS7W13a5QS9PEcaJWZ2PPXftRS9WsWqoMtVQFq6VqSy1VhlqqgtVSNa2WKkMtVcFqqc5RSyXrOGJXhlqqUEtCwoam1EiyUmPzfkb9pEajaqky1FIVrJaqLbVUGWqpClZL1bRaqgy1VAWrpQq1BLUEtQS1BLUEtQS1BLUEtQS1BLVkUC1VhlqqUEtaqz2tVffG1IuWkrsOchru2tSC1qGPbnt8nperpSGtPmsppDqM+10Omj5s6ez62wYWbOli5jhRy7Ot6D6/Qy+L1CZbmq68eWBlvgF1/tysvAE1XW778DnBw2f0Dajp6ttHkwSP5iVsiYKKM/Z0se2DB7b0y4cNTamRZKXG5v2M+kmNNtnSdOXNAys3NZKt1EiMDZYEp0YynRqJtcvKTY1gS2BLYEtgS2BLYEtgS2BLYEtgS2BL1tjSdBJoP9mALSms9rRW3RtjL2pKbkkuoq1G60VEuEvZUt0OhWqNmWgYt7u1WipaOrVmE+GglqaJI2t13m5doLc7WqNG1ZJjqCUnWC05W2rJMdSSE6yWnGm15BhqyQlWS26OWnJOx6ctTVfbPnpgS7982tAUG0lWbGze0Kif2GiULTkGW3KC2ZKzxZYcgy05wWzJmWZLjsGWnGC25MCWwJbAlsCWwJbAlsCWwJbAlsCWwJYMsiXHYEsObElrtae16t4Ye1FTcktquNvWQC/dNs1gSzSekmLKIQ919U9NbKm53SawpWniOFGrs7Hnpn7YEpllS8RgSySYLZEttkQMtkSC2RKZZkvEYEskmC3RHLbklaglYqglgloSEjY0pUZZZ7r2/ayjk51RtUQMtUSC1RLZUkvEUEskWC2RabVEDLVEgtUSQS1BLUEtQS1BLUEtQS1BLUEtQS1BLRlUS8RQSwS1pLXa01p1b0y9qCm5vaCGu2178p10236OWhqGUNMw1FAL+aJJLfnWdttDLU0Tx4lanY09t+9HLXmzaskz1JIXrJa8LbXkGWrJC1ZL3rRa8gy15AWrJT9HLWUlaskz1JKHWhISNjSlRpKVGpv3M+onNRpVS56hlrxgteRtqSXPUEtesFryptWSZ6glL1gteaglqCWoJaglqCWoJaglqCWoJaglqCWDaskz1JKHWtJa7WmtujemXtSU3EFQwx2axi900m2HGWrJ+cE5CqVQCrlETWoptLbbAWppmjhO1Ops7LlDP2opmFVLgaGWgmC1FGyppcBQS0GwWgqm1VJgqKUgWC2FOWopJR1H7MBQSwFqSUjY0JQaSVZqbN7PqJ/UaFQtBYZaCoLVUrCllgJDLQXBaimYVkuBoZaCYLUUoJaglqCWoJaglqCWoJaglqCWoJaglgyqpcBQSwFqSWu1p7Xq3ph6UVNyR0ENd2wav9hJtx0vVUtlu4RhSDkShUBDcJrUUmxttyPU0jRxnKjV2dhzx37UUjSrliJDLUXBainaUkuRoZaiYLUUTaulyFBLUbBainPUkqOo44wdGWwpgi0JSRuaYiPJio3NGxr1ExuNsqXIYEtRMFuKtthSZLClKJgtRdNsKTLYUhTMliLYEtgS2BLYEtgS2BLYEtgS2BLYEtiSQbYUGWwpgi1prfa0Vt0bYy9qSu4kqOFOTeOXOum206VsKW+XRCn6kFwKnnLSxJZSa7udwJamieNErc7Gnjv1w5aSWbaUGGwpCWZLyRZbSgy2lASzpWSaLSUGW0qC2VKaxZYc6ThjJwZbSmBLQtKGpthIsmJj84ZG/cRGo2wpMdhSEsyWki22lBhsKQlmS8k0W0oMtpQEs6UEtgS2BLYEtgS2BLYEtgS2BLYEtgS2ZJAtJQZbSmBLWqs9rVX3xtiLmpI7C2q4c9P45U667TyDLYVch5JcHHzNQyRNbCm3ttsZbGmaOE7U6mzsuXM/bCmbZUuZwZayYLaUbbGlzGBLWTBbyvPZ0npP1bgYiTGaJHg0L2FLRccJOzPQUgZaEpI1NIVGkhUam7cz6ic0GkVLmYGWsmC0lG2hpcxAS1kwWsqm0VJmoKUsGC1loCWgJaAloCWgJaAloCWgJaAloCWgJYNoKTPQUgZa0lrtaa26N4Ze1JTcRVDDXZrGr3TSbZcZaMm5Eochee9rIl1oqbS22wVoaZo4TtTqbOy5Sz9oqZhFS4WBlopgtFRsoaXCQEtFMFoq89HS4eLpamfWuByJMZ4keDwvYUtexxm7MNhSAVsSkjY0xUaSFRubtzPqJzYaZUuFwZaKYLZUbLGlwmBLRTBbKqbZUmGwpSKYLRWwJbAlsCWwJbAlsCWwJbAlsCWwJbAlg2ypMNhSAVvSWu1prbo3xl7UlNxVUMNdm8avdtJt1xlsaRiqDz4OMbnohqyJLdXWdruCLU0Tx4lanY09d+2HLVWzbKky2FIVzJaqLbZUGWypCmZL1fSviKsMtFQFo6U661fEDUp+RVxlsKUKtiQkbWiKjSQrNjZvaNRPbDTKliqDLVXBbKnaYkuVwZaqYLZUTbOlymBLVTBbqmBLYEtgS2BLYEtgS2BLYEtgS2BLYEsG2VJlsKUKtqS12tP5Im4MvbzpH/+Y89Jc3GNv/8lH/x/eyVFo</script> <treescope-run-here><script type=\"application/octet-stream\"> const root = ( Array.from(document.getElementsByClassName( \"treescope_out_56f76f572b7c4a2b9d929d33f1697727\")) .filter((elt) => !elt.dataset['step0']) )[0]; root.dataset['step0'] = 1; root.defns.insertContent( this.parentNode.querySelector('script[type=\"application/octet-stream\"]'), true ); this.parentNode.remove(); </script></treescope-run-here> </div>"
      ],
      "text/plain": [
       "<IPython.core.display.HTML object>"
      ]
     },
     "metadata": {},
     "output_type": "display_data"
    },
    {
     "data": {
      "text/html": [
       "<treescope-run-here><script type=\"application/octet-stream\"> const root = ( Array.from(document.getElementsByClassName( \"treescope_out_56f76f572b7c4a2b9d929d33f1697727\")) .filter((elt) => !elt.dataset.stolen) )[0]; root.dataset.stolen = 1; this.parentNode.replaceChild(root, this); </script></treescope-run-here>"
      ],
      "text/plain": [
       "[(0.0001558343501528725, ('er', 16, 'arrow', 0), ('a', 16, 'arrow', 26950)),\n",
       " (0.00014752325660083443, ('er', 16, 'input', 0), ('a', 16, 'arrow', 26950)),\n",
       " (3.1936295272316784e-05, ('r', 16, 'input', 0), ('a', 16, 'arrow', 26950)),\n",
       " (9.490210686635692e-06, ('r', 16, 'input', 5), ('a', 16, 'arrow', 26950)),\n",
       " (8.756747774896212e-06, ('r', 16, 'input', 6), ('a', 16, 'arrow', 26950)),\n",
       " (8.613686077296734e-06, ('r', 16, 'input', 2), ('a', 16, 'arrow', 26950)),\n",
       " (8.129306479531806e-06, ('er', 16, 'output', 0), ('a', 16, 'arrow', 26950)),\n",
       " (7.495141744584544e-06, ('r', 16, 'input', 1), ('a', 16, 'arrow', 26950)),\n",
       " (5.879063792235684e-06, ('r', 16, 'arrow', 4), ('a', 16, 'arrow', 26950)),\n",
       " (5.4994566198729444e-06, ('r', 16, 'arrow', 6), ('a', 16, 'arrow', 26950)),\n",
       " (4.076367076777387e-06, ('r', 16, 'output', 3), ('a', 16, 'arrow', 26950)),\n",
       " (3.4953022804984357e-06, ('r', 16, 'arrow', 0), ('a', 16, 'arrow', 26950)),\n",
       " (3.3527530831634067e-06, ('r', 16, 'arrow', 1), ('a', 16, 'arrow', 26950)),\n",
       " (3.223263320251135e-06, ('r', 16, 'input', 4), ('a', 16, 'arrow', 26950)),\n",
       " (2.9139926027710317e-06, ('er', 16, 'prompt', 0), ('a', 16, 'arrow', 26950)),\n",
       " (2.6358959530625725e-06, ('r', 16, 'arrow', 18), ('a', 16, 'arrow', 26950)),\n",
       " (2.1566766008618288e-06, ('r', 16, 'arrow', 3), ('a', 16, 'arrow', 26950)),\n",
       " (1.6950267536230967e-06, ('r', 16, 'arrow', 31), ('a', 16, 'arrow', 26950)),\n",
       " (1.6587461004746729e-06, ('r', 16, 'arrow', 12), ('a', 16, 'arrow', 26950)),\n",
       " (1.639681158849271e-06, ('r', 16, 'arrow', 9), ('a', 16, 'arrow', 26950)),\n",
       " (1.5607211025780998e-06, ('r', 16, 'arrow', 69), ('a', 16, 'arrow', 26950)),\n",
       " (1.3064176300758845e-06, ('r', 16, 'arrow', 13), ('a', 16, 'arrow', 26950)),\n",
       " (1.1397964954085182e-06, ('r', 16, 'prompt', 1), ('a', 16, 'arrow', 26950)),\n",
       " (1.1271797575318487e-06, ('r', 16, 'arrow', 25), ('a', 16, 'arrow', 26950)),\n",
       " (1.111363417294342e-06, ('r', 16, 'arrow', 47), ('a', 16, 'arrow', 26950)),\n",
       " (1.080555193766486e-06, ('r', 16, 'input', 7), ('a', 16, 'arrow', 26950)),\n",
       " (1.0179868468185305e-06, ('r', 16, 'arrow', 10), ('a', 16, 'arrow', 26950)),\n",
       " (1.0164337709284155e-06, ('r', 16, 'arrow', 78), ('a', 16, 'arrow', 26950)),\n",
       " (1.0162028729610029e-06, ('r', 16, 'arrow', 27), ('a', 16, 'arrow', 26950)),\n",
       " (1.0128142093890347e-06, ('r', 16, 'arrow', 64), ('a', 16, 'arrow', 26950)),\n",
       " (9.999359917856054e-07, ('r', 16, 'output', 0), ('a', 16, 'arrow', 26950)),\n",
       " (9.177642255053797e-07, ('r', 16, 'arrow', 11), ('a', 16, 'arrow', 26950)),\n",
       " (8.987248065750464e-07, ('r', 16, 'arrow', 14), ('a', 16, 'arrow', 26950)),\n",
       " (8.81115170159319e-07, ('r', 16, 'arrow', 23), ('a', 16, 'arrow', 26950)),\n",
       " (8.209453312701953e-07, ('r', 16, 'arrow', 15), ('a', 16, 'arrow', 26950)),\n",
       " (8.045396953093586e-07, ('r', 16, 'arrow', 65), ('a', 16, 'arrow', 26950)),\n",
       " (7.562034056718403e-07, ('r', 16, 'arrow', 121), ('a', 16, 'arrow', 26950)),\n",
       " (7.147046972022508e-07, ('r', 16, 'arrow', 98), ('a', 16, 'arrow', 26950)),\n",
       " (7.130325911930413e-07, ('er', 16, 'newline', 0), ('a', 16, 'arrow', 26950)),\n",
       " (7.079574402268918e-07, ('r', 16, 'arrow', 5), ('a', 16, 'arrow', 26950)),\n",
       " (6.889629844408773e-07, ('r', 16, 'arrow', 61), ('a', 16, 'arrow', 26950)),\n",
       " (6.625663786508085e-07, ('r', 16, 'arrow', 119), ('a', 16, 'arrow', 26950)),\n",
       " (6.548700639541494e-07, ('r', 16, 'arrow', 123), ('a', 16, 'arrow', 26950)),\n",
       " (6.415176585505833e-07, ('r', 16, 'arrow', 39), ('a', 16, 'arrow', 26950)),\n",
       " (6.30713657301385e-07, ('r', 16, 'arrow', 74), ('a', 16, 'arrow', 26950)),\n",
       " (6.250346586966771e-07, ('r', 16, 'arrow', 36), ('a', 16, 'arrow', 26950)),\n",
       " (6.193983494995337e-07, ('r', 16, 'arrow', 60), ('a', 16, 'arrow', 26950)),\n",
       " (6.193672561494168e-07, ('r', 16, 'arrow', 42), ('a', 16, 'arrow', 26950)),\n",
       " (6.122448894529953e-07, ('r', 16, 'arrow', 59), ('a', 16, 'arrow', 26950)),\n",
       " (5.899516395402316e-07, ('r', 16, 'arrow', 100), ('a', 16, 'arrow', 26950)),\n",
       " (5.783235792478081e-07, ('r', 16, 'arrow', 46), ('a', 16, 'arrow', 26950)),\n",
       " (5.233213187239016e-07, ('r', 16, 'arrow', 16), ('a', 16, 'arrow', 26950)),\n",
       " (5.193245442569605e-07, ('r', 16, 'prompt', 14), ('a', 16, 'arrow', 26950)),\n",
       " (4.957349233336572e-07, ('r', 16, 'arrow', 62), ('a', 16, 'arrow', 26950)),\n",
       " (4.341324597589846e-07, ('r', 16, 'arrow', 92), ('a', 16, 'arrow', 26950)),\n",
       " (4.321138078466902e-07, ('r', 16, 'newline', 1), ('a', 16, 'arrow', 26950)),\n",
       " (4.2628920482457033e-07, ('r', 16, 'prompt', 10), ('a', 16, 'arrow', 26950)),\n",
       " (4.076847801570693e-07, ('r', 16, 'arrow', 20), ('a', 16, 'arrow', 26950)),\n",
       " (4.0685469571144495e-07, ('r', 16, 'arrow', 106), ('a', 16, 'arrow', 26950)),\n",
       " (4.0660549416315916e-07, ('r', 16, 'arrow', 68), ('a', 16, 'arrow', 26950)),\n",
       " (3.8714713923582167e-07, ('r', 16, 'arrow', 28), ('a', 16, 'arrow', 26950)),\n",
       " (3.8192933971004095e-07, ('r', 16, 'arrow', 111), ('a', 16, 'arrow', 26950)),\n",
       " (3.602733329444163e-07, ('r', 16, 'arrow', 97), ('a', 16, 'arrow', 26950)),\n",
       " (3.383754005881201e-07, ('r', 16, 'arrow', 40), ('a', 16, 'arrow', 26950)),\n",
       " (3.321689518998028e-07, ('r', 16, 'arrow', 128), ('a', 16, 'arrow', 26950)),\n",
       " (2.741666946803889e-07, ('r', 16, 'arrow', 45), ('a', 16, 'arrow', 26950)),\n",
       " (2.6695363430917496e-07, ('r', 16, 'arrow', 93), ('a', 16, 'arrow', 26950)),\n",
       " (2.5733618258527713e-07, ('r', 16, 'arrow', 90), ('a', 16, 'arrow', 26950)),\n",
       " (2.532336793592549e-07, ('r', 16, 'arrow', 53), ('a', 16, 'arrow', 26950)),\n",
       " (2.4965538614196703e-07, ('r', 16, 'arrow', 32), ('a', 16, 'arrow', 26950)),\n",
       " (2.4924463559727883e-07, ('r', 16, 'arrow', 91), ('a', 16, 'arrow', 26950)),\n",
       " (2.352173567032878e-07, ('r', 16, 'arrow', 88), ('a', 16, 'arrow', 26950)),\n",
       " (2.2815980571522232e-07, ('r', 16, 'arrow', 107), ('a', 16, 'arrow', 26950)),\n",
       " (2.2021346524070395e-07, ('r', 16, 'arrow', 124), ('a', 16, 'arrow', 26950)),\n",
       " (2.105839200794435e-07, ('r', 16, 'arrow', 86), ('a', 16, 'arrow', 26950)),\n",
       " (2.028586436608748e-07, ('r', 16, 'arrow', 108), ('a', 16, 'arrow', 26950)),\n",
       " (2.0079848184195725e-07, ('r', 16, 'arrow', 114), ('a', 16, 'arrow', 26950)),\n",
       " (1.9407339379995392e-07, ('r', 16, 'arrow', 76), ('a', 16, 'arrow', 26950)),\n",
       " (1.9361469583145663e-07, ('r', 16, 'arrow', 33), ('a', 16, 'arrow', 26950)),\n",
       " (1.8726230166521418e-07, ('r', 16, 'arrow', 44), ('a', 16, 'arrow', 26950)),\n",
       " (1.6529966728739964e-07, ('r', 16, 'arrow', 50), ('a', 16, 'arrow', 26950)),\n",
       " (1.630472183933307e-07, ('r', 16, 'arrow', 103), ('a', 16, 'arrow', 26950)),\n",
       " (1.5584043921990087e-07, ('r', 16, 'arrow', 67), ('a', 16, 'arrow', 26950)),\n",
       " (1.5476294379368483e-07, ('r', 16, 'arrow', 51), ('a', 16, 'arrow', 26950)),\n",
       " (1.5244594919749943e-07, ('r', 16, 'arrow', 19), ('a', 16, 'arrow', 26950)),\n",
       " (1.5207525905225339e-07, ('r', 16, 'arrow', 35), ('a', 16, 'arrow', 26950)),\n",
       " (1.472845099215192e-07, ('r', 16, 'arrow', 126), ('a', 16, 'arrow', 26950)),\n",
       " (1.4620347599247907e-07, ('r', 16, 'arrow', 115), ('a', 16, 'arrow', 26950)),\n",
       " (1.3004429888496816e-07, ('r', 16, 'arrow', 43), ('a', 16, 'arrow', 26950)),\n",
       " (1.254296932984289e-07, ('r', 16, 'arrow', 87), ('a', 16, 'arrow', 26950)),\n",
       " (1.0644294690109746e-07, ('r', 16, 'arrow', 24), ('a', 16, 'arrow', 26950)),\n",
       " (9.482995722009946e-08, ('r', 16, 'arrow', 117), ('a', 16, 'arrow', 26950)),\n",
       " (9.248356747093567e-08, ('r', 16, 'arrow', 37), ('a', 16, 'arrow', 26950)),\n",
       " (9.200496009498238e-08, ('r', 16, 'arrow', 77), ('a', 16, 'arrow', 26950)),\n",
       " (9.130112488264785e-08, ('r', 16, 'arrow', 66), ('a', 16, 'arrow', 26950)),\n",
       " (8.840067522442041e-08, ('r', 16, 'arrow', 125), ('a', 16, 'arrow', 26950)),\n",
       " (7.862653461643276e-08, ('r', 16, 'arrow', 112), ('a', 16, 'arrow', 26950)),\n",
       " (7.479086150397052e-08, ('r', 16, 'input', 8), ('a', 16, 'arrow', 26950)),\n",
       " (7.118500633396252e-08, ('r', 16, 'newline', 3), ('a', 16, 'arrow', 26950)),\n",
       " (7.009343505615107e-08, ('r', 16, 'arrow', 102), ('a', 16, 'arrow', 26950))]"
      ]
     },
     "execution_count": 66,
     "metadata": {},
     "output_type": "execute_result"
    }
   ],
   "source": [
    "graph[:100]"
   ]
  },
  {
   "cell_type": "code",
   "execution_count": 64,
   "metadata": {},
   "outputs": [
    {
     "ename": "AttributeError",
     "evalue": "'int' object has no attribute 'tolist'",
     "output_type": "error",
     "traceback": [
      "\u001b[0;31m---------------------------------------------------------------------------\u001b[0m",
      "\u001b[0;31mAttributeError\u001b[0m                            Traceback (most recent call last)",
      "Cell \u001b[0;32mIn[64], line 1\u001b[0m\n\u001b[0;32m----> 1\u001b[0m _graph \u001b[38;5;241m=\u001b[39m [\n\u001b[1;32m      2\u001b[0m     (w, l, (\u001b[38;5;241m*\u001b[39mr[:\u001b[38;5;241m-\u001b[39m\u001b[38;5;241m1\u001b[39m], r[\u001b[38;5;241m-\u001b[39m\u001b[38;5;241m1\u001b[39m]\u001b[38;5;241m.\u001b[39mtolist())) \u001b[38;5;28;01mfor\u001b[39;00m w, l, r \u001b[38;5;129;01min\u001b[39;00m sorted_graph\n\u001b[1;32m      3\u001b[0m ]\n\u001b[1;32m      5\u001b[0m _graph[:\u001b[38;5;241m10\u001b[39m]\n",
      "Cell \u001b[0;32mIn[64], line 2\u001b[0m, in \u001b[0;36m<listcomp>\u001b[0;34m(.0)\u001b[0m\n\u001b[1;32m      1\u001b[0m _graph \u001b[38;5;241m=\u001b[39m [\n\u001b[0;32m----> 2\u001b[0m     (w, l, (\u001b[38;5;241m*\u001b[39mr[:\u001b[38;5;241m-\u001b[39m\u001b[38;5;241m1\u001b[39m], \u001b[43mr\u001b[49m\u001b[43m[\u001b[49m\u001b[38;5;241;43m-\u001b[39;49m\u001b[38;5;241;43m1\u001b[39;49m\u001b[43m]\u001b[49m\u001b[38;5;241;43m.\u001b[39;49m\u001b[43mtolist\u001b[49m())) \u001b[38;5;28;01mfor\u001b[39;00m w, l, r \u001b[38;5;129;01min\u001b[39;00m sorted_graph\n\u001b[1;32m      3\u001b[0m ]\n\u001b[1;32m      5\u001b[0m _graph[:\u001b[38;5;241m10\u001b[39m]\n",
      "\u001b[0;31mAttributeError\u001b[0m: 'int' object has no attribute 'tolist'"
     ]
    }
   ],
   "source": [
    "_graph = [\n",
    "    (w, l, (*r[:-1], r[-1].tolist())) for w, l, r in sorted_graph\n",
    "]\n",
    "\n",
    "_graph[:10]"
   ]
  },
  {
   "cell_type": "code",
   "execution_count": 61,
   "metadata": {},
   "outputs": [
    {
     "ename": "TypeError",
     "evalue": "Object of type int64 is not JSON serializable",
     "output_type": "error",
     "traceback": [
      "\u001b[0;31m---------------------------------------------------------------------------\u001b[0m",
      "\u001b[0;31mTypeError\u001b[0m                                 Traceback (most recent call last)",
      "Cell \u001b[0;32mIn[61], line 3\u001b[0m\n\u001b[1;32m      1\u001b[0m \u001b[38;5;28;01mimport\u001b[39;00m \u001b[38;5;21;01mjson\u001b[39;00m\n\u001b[1;32m      2\u001b[0m \u001b[38;5;28;01mwith\u001b[39;00m \u001b[38;5;28mopen\u001b[39m(\u001b[38;5;124mf\u001b[39m\u001b[38;5;124m\"\u001b[39m\u001b[38;5;124mmicrlhf-progress/graph-rebirth-\u001b[39m\u001b[38;5;132;01m{\u001b[39;00mtask_name\u001b[38;5;132;01m}\u001b[39;00m\u001b[38;5;124m.json\u001b[39m\u001b[38;5;124m\"\u001b[39m, \u001b[38;5;124m'\u001b[39m\u001b[38;5;124mw\u001b[39m\u001b[38;5;124m'\u001b[39m) \u001b[38;5;28;01mas\u001b[39;00m f:\n\u001b[0;32m----> 3\u001b[0m     \u001b[43mjson\u001b[49m\u001b[38;5;241;43m.\u001b[39;49m\u001b[43mdump\u001b[49m\u001b[43m(\u001b[49m\u001b[43m{\u001b[49m\u001b[38;5;124;43m\"\u001b[39;49m\u001b[38;5;124;43medges\u001b[39;49m\u001b[38;5;124;43m\"\u001b[39;49m\u001b[43m:\u001b[49m\u001b[43m \u001b[49m\u001b[43mgraph\u001b[49m\u001b[43m,\u001b[49m\u001b[43m \u001b[49m\u001b[38;5;124;43m\"\u001b[39;49m\u001b[38;5;124;43mnodes\u001b[39;49m\u001b[38;5;124;43m\"\u001b[39;49m\u001b[43m:\u001b[49m\u001b[43m \u001b[49m\u001b[43mcombined_ies\u001b[49m\u001b[43m,\u001b[49m\u001b[43m \u001b[49m\u001b[38;5;124;43m\"\u001b[39;49m\u001b[38;5;124;43mthreshold\u001b[39;49m\u001b[38;5;124;43m\"\u001b[39;49m\u001b[43m:\u001b[49m\u001b[43m \u001b[49m\u001b[43mweight_threshold\u001b[49m\u001b[43m}\u001b[49m\u001b[43m,\u001b[49m\u001b[43m \u001b[49m\u001b[43mf\u001b[49m\u001b[43m)\u001b[49m\n",
      "File \u001b[0;32m/usr/lib/python3.10/json/__init__.py:179\u001b[0m, in \u001b[0;36mdump\u001b[0;34m(obj, fp, skipkeys, ensure_ascii, check_circular, allow_nan, cls, indent, separators, default, sort_keys, **kw)\u001b[0m\n\u001b[1;32m    173\u001b[0m     iterable \u001b[38;5;241m=\u001b[39m \u001b[38;5;28mcls\u001b[39m(skipkeys\u001b[38;5;241m=\u001b[39mskipkeys, ensure_ascii\u001b[38;5;241m=\u001b[39mensure_ascii,\n\u001b[1;32m    174\u001b[0m         check_circular\u001b[38;5;241m=\u001b[39mcheck_circular, allow_nan\u001b[38;5;241m=\u001b[39mallow_nan, indent\u001b[38;5;241m=\u001b[39mindent,\n\u001b[1;32m    175\u001b[0m         separators\u001b[38;5;241m=\u001b[39mseparators,\n\u001b[1;32m    176\u001b[0m         default\u001b[38;5;241m=\u001b[39mdefault, sort_keys\u001b[38;5;241m=\u001b[39msort_keys, \u001b[38;5;241m*\u001b[39m\u001b[38;5;241m*\u001b[39mkw)\u001b[38;5;241m.\u001b[39miterencode(obj)\n\u001b[1;32m    177\u001b[0m \u001b[38;5;66;03m# could accelerate with writelines in some versions of Python, at\u001b[39;00m\n\u001b[1;32m    178\u001b[0m \u001b[38;5;66;03m# a debuggability cost\u001b[39;00m\n\u001b[0;32m--> 179\u001b[0m \u001b[38;5;28;01mfor\u001b[39;00m chunk \u001b[38;5;129;01min\u001b[39;00m iterable:\n\u001b[1;32m    180\u001b[0m     fp\u001b[38;5;241m.\u001b[39mwrite(chunk)\n",
      "File \u001b[0;32m/usr/lib/python3.10/json/encoder.py:431\u001b[0m, in \u001b[0;36m_make_iterencode.<locals>._iterencode\u001b[0;34m(o, _current_indent_level)\u001b[0m\n\u001b[1;32m    429\u001b[0m     \u001b[38;5;28;01myield from\u001b[39;00m _iterencode_list(o, _current_indent_level)\n\u001b[1;32m    430\u001b[0m \u001b[38;5;28;01melif\u001b[39;00m \u001b[38;5;28misinstance\u001b[39m(o, \u001b[38;5;28mdict\u001b[39m):\n\u001b[0;32m--> 431\u001b[0m     \u001b[38;5;28;01myield from\u001b[39;00m _iterencode_dict(o, _current_indent_level)\n\u001b[1;32m    432\u001b[0m \u001b[38;5;28;01melse\u001b[39;00m:\n\u001b[1;32m    433\u001b[0m     \u001b[38;5;28;01mif\u001b[39;00m markers \u001b[38;5;129;01mis\u001b[39;00m \u001b[38;5;129;01mnot\u001b[39;00m \u001b[38;5;28;01mNone\u001b[39;00m:\n",
      "File \u001b[0;32m/usr/lib/python3.10/json/encoder.py:405\u001b[0m, in \u001b[0;36m_make_iterencode.<locals>._iterencode_dict\u001b[0;34m(dct, _current_indent_level)\u001b[0m\n\u001b[1;32m    403\u001b[0m         \u001b[38;5;28;01melse\u001b[39;00m:\n\u001b[1;32m    404\u001b[0m             chunks \u001b[38;5;241m=\u001b[39m _iterencode(value, _current_indent_level)\n\u001b[0;32m--> 405\u001b[0m         \u001b[38;5;28;01myield from\u001b[39;00m chunks\n\u001b[1;32m    406\u001b[0m \u001b[38;5;28;01mif\u001b[39;00m newline_indent \u001b[38;5;129;01mis\u001b[39;00m \u001b[38;5;129;01mnot\u001b[39;00m \u001b[38;5;28;01mNone\u001b[39;00m:\n\u001b[1;32m    407\u001b[0m     _current_indent_level \u001b[38;5;241m-\u001b[39m\u001b[38;5;241m=\u001b[39m \u001b[38;5;241m1\u001b[39m\n",
      "File \u001b[0;32m/usr/lib/python3.10/json/encoder.py:325\u001b[0m, in \u001b[0;36m_make_iterencode.<locals>._iterencode_list\u001b[0;34m(lst, _current_indent_level)\u001b[0m\n\u001b[1;32m    323\u001b[0m         \u001b[38;5;28;01melse\u001b[39;00m:\n\u001b[1;32m    324\u001b[0m             chunks \u001b[38;5;241m=\u001b[39m _iterencode(value, _current_indent_level)\n\u001b[0;32m--> 325\u001b[0m         \u001b[38;5;28;01myield from\u001b[39;00m chunks\n\u001b[1;32m    326\u001b[0m \u001b[38;5;28;01mif\u001b[39;00m newline_indent \u001b[38;5;129;01mis\u001b[39;00m \u001b[38;5;129;01mnot\u001b[39;00m \u001b[38;5;28;01mNone\u001b[39;00m:\n\u001b[1;32m    327\u001b[0m     _current_indent_level \u001b[38;5;241m-\u001b[39m\u001b[38;5;241m=\u001b[39m \u001b[38;5;241m1\u001b[39m\n",
      "File \u001b[0;32m/usr/lib/python3.10/json/encoder.py:325\u001b[0m, in \u001b[0;36m_make_iterencode.<locals>._iterencode_list\u001b[0;34m(lst, _current_indent_level)\u001b[0m\n\u001b[1;32m    323\u001b[0m         \u001b[38;5;28;01melse\u001b[39;00m:\n\u001b[1;32m    324\u001b[0m             chunks \u001b[38;5;241m=\u001b[39m _iterencode(value, _current_indent_level)\n\u001b[0;32m--> 325\u001b[0m         \u001b[38;5;28;01myield from\u001b[39;00m chunks\n\u001b[1;32m    326\u001b[0m \u001b[38;5;28;01mif\u001b[39;00m newline_indent \u001b[38;5;129;01mis\u001b[39;00m \u001b[38;5;129;01mnot\u001b[39;00m \u001b[38;5;28;01mNone\u001b[39;00m:\n\u001b[1;32m    327\u001b[0m     _current_indent_level \u001b[38;5;241m-\u001b[39m\u001b[38;5;241m=\u001b[39m \u001b[38;5;241m1\u001b[39m\n",
      "File \u001b[0;32m/usr/lib/python3.10/json/encoder.py:325\u001b[0m, in \u001b[0;36m_make_iterencode.<locals>._iterencode_list\u001b[0;34m(lst, _current_indent_level)\u001b[0m\n\u001b[1;32m    323\u001b[0m         \u001b[38;5;28;01melse\u001b[39;00m:\n\u001b[1;32m    324\u001b[0m             chunks \u001b[38;5;241m=\u001b[39m _iterencode(value, _current_indent_level)\n\u001b[0;32m--> 325\u001b[0m         \u001b[38;5;28;01myield from\u001b[39;00m chunks\n\u001b[1;32m    326\u001b[0m \u001b[38;5;28;01mif\u001b[39;00m newline_indent \u001b[38;5;129;01mis\u001b[39;00m \u001b[38;5;129;01mnot\u001b[39;00m \u001b[38;5;28;01mNone\u001b[39;00m:\n\u001b[1;32m    327\u001b[0m     _current_indent_level \u001b[38;5;241m-\u001b[39m\u001b[38;5;241m=\u001b[39m \u001b[38;5;241m1\u001b[39m\n",
      "File \u001b[0;32m/usr/lib/python3.10/json/encoder.py:438\u001b[0m, in \u001b[0;36m_make_iterencode.<locals>._iterencode\u001b[0;34m(o, _current_indent_level)\u001b[0m\n\u001b[1;32m    436\u001b[0m         \u001b[38;5;28;01mraise\u001b[39;00m \u001b[38;5;167;01mValueError\u001b[39;00m(\u001b[38;5;124m\"\u001b[39m\u001b[38;5;124mCircular reference detected\u001b[39m\u001b[38;5;124m\"\u001b[39m)\n\u001b[1;32m    437\u001b[0m     markers[markerid] \u001b[38;5;241m=\u001b[39m o\n\u001b[0;32m--> 438\u001b[0m o \u001b[38;5;241m=\u001b[39m \u001b[43m_default\u001b[49m\u001b[43m(\u001b[49m\u001b[43mo\u001b[49m\u001b[43m)\u001b[49m\n\u001b[1;32m    439\u001b[0m \u001b[38;5;28;01myield from\u001b[39;00m _iterencode(o, _current_indent_level)\n\u001b[1;32m    440\u001b[0m \u001b[38;5;28;01mif\u001b[39;00m markers \u001b[38;5;129;01mis\u001b[39;00m \u001b[38;5;129;01mnot\u001b[39;00m \u001b[38;5;28;01mNone\u001b[39;00m:\n",
      "File \u001b[0;32m/usr/lib/python3.10/json/encoder.py:179\u001b[0m, in \u001b[0;36mJSONEncoder.default\u001b[0;34m(self, o)\u001b[0m\n\u001b[1;32m    160\u001b[0m \u001b[38;5;28;01mdef\u001b[39;00m \u001b[38;5;21mdefault\u001b[39m(\u001b[38;5;28mself\u001b[39m, o):\n\u001b[1;32m    161\u001b[0m \u001b[38;5;250m    \u001b[39m\u001b[38;5;124;03m\"\"\"Implement this method in a subclass such that it returns\u001b[39;00m\n\u001b[1;32m    162\u001b[0m \u001b[38;5;124;03m    a serializable object for ``o``, or calls the base implementation\u001b[39;00m\n\u001b[1;32m    163\u001b[0m \u001b[38;5;124;03m    (to raise a ``TypeError``).\u001b[39;00m\n\u001b[0;32m   (...)\u001b[0m\n\u001b[1;32m    177\u001b[0m \n\u001b[1;32m    178\u001b[0m \u001b[38;5;124;03m    \"\"\"\u001b[39;00m\n\u001b[0;32m--> 179\u001b[0m     \u001b[38;5;28;01mraise\u001b[39;00m \u001b[38;5;167;01mTypeError\u001b[39;00m(\u001b[38;5;124mf\u001b[39m\u001b[38;5;124m'\u001b[39m\u001b[38;5;124mObject of type \u001b[39m\u001b[38;5;132;01m{\u001b[39;00mo\u001b[38;5;241m.\u001b[39m\u001b[38;5;18m__class__\u001b[39m\u001b[38;5;241m.\u001b[39m\u001b[38;5;18m__name__\u001b[39m\u001b[38;5;132;01m}\u001b[39;00m\u001b[38;5;124m \u001b[39m\u001b[38;5;124m'\u001b[39m\n\u001b[1;32m    180\u001b[0m                     \u001b[38;5;124mf\u001b[39m\u001b[38;5;124m'\u001b[39m\u001b[38;5;124mis not JSON serializable\u001b[39m\u001b[38;5;124m'\u001b[39m)\n",
      "\u001b[0;31mTypeError\u001b[0m: Object of type int64 is not JSON serializable"
     ]
    }
   ],
   "source": [
    "import json\n",
    "with open(f\"micrlhf-progress/graph-rebirth-{task_name}.json\", 'w') as f:\n",
    "    json.dump({\"edges\": sorted_graph, \"nodes\": combined_ies, \"threshold\": weight_threshold}, f)"
   ]
  },
  {
   "cell_type": "code",
   "execution_count": 42,
   "metadata": {},
   "outputs": [
    {
     "data": {
      "text/html": [
       "<script> (()=>{ if (customElements.get('treescope-container') === undefined) { class TreescopeContainer extends HTMLElement { constructor() { super(); this.attachShadow({mode: \"open\"}); this.defns = {}; this.state = {}; } } customElements.define(\"treescope-container\", TreescopeContainer); } if (customElements.get('treescope-run-here') === undefined) { class RunHere extends HTMLElement { constructor() { super() } connectedCallback() { const run = child => { const fn = new Function(child.textContent); child.textContent = \"\"; fn.call(this); this.remove(); }; const child = this.querySelector(\"script\"); if (child) { run(child); } else { new MutationObserver(()=>{ run(this.querySelector(\"script\")); }).observe(this, {childList: true}); } } } customElements.define(\"treescope-run-here\", RunHere); } })(); </script> <treescope-container class=\"treescope_out_ba5a5afa36df4050b70ca6c34fa5db1b\" ></treescope-container> <treescope-run-here><script type=\"application/octet-stream\"> const root = ( Array.from(document.getElementsByClassName( \"treescope_out_ba5a5afa36df4050b70ca6c34fa5db1b\")) .filter((elt) => !elt.dataset.setup) )[0]; root.dataset.setup = 1; const msg = document.createElement(\"span\"); msg.style = \"color: #aaaaaa; font-family: monospace; transition: opacity 0.2s; opacity: 0.0;\"; msg.textContent = \"(Loading...)\"; root.state.loadingMsg = msg; root.shadowRoot.appendChild(msg); root.state.chain = new Promise((resolve, reject) => { const observer = new IntersectionObserver((entries) => { for (const entry of entries) { if (entry.isIntersecting) { resolve(); observer.disconnect(); return; } } }, {rootMargin: \"1000px\"}); window.setTimeout(() => { if (root.loadingMsg) { root.loadingMsg.style.opacity = \"1.0\"; } observer.observe(root); }, 0); }); root.state.deferring = false; const _insertNode = (node) => { for (let oldScript of node.querySelectorAll(\"script\")) { let newScript = document.createElement(\"script\"); newScript.type = oldScript.type; newScript.textContent = oldScript.textContent; oldScript.parentNode.replaceChild(newScript, oldScript); } if (root.state.loadingMsg) { root.state.loadingMsg.remove(); root.state.loadingMsg = null; } root.shadowRoot.appendChild(node); }; root.defns.insertContent = ((contentNode, compressed) => { if (compressed) { root.state.deferring = true; } if (root.state.deferring) { root.state.chain = (async () => { await root.state.chain; if (compressed) { const encoded = contentNode.textContent; const blob = new Blob([ Uint8Array.from(atob(encoded), (m) => m.codePointAt(0)) ]); const reader = blob.stream().pipeThrough( new DecompressionStream(\"deflate\") ).pipeThrough( new TextDecoderStream(\"utf-8\") ).getReader(); const parts = []; while (true) { const step = await reader.read(); if (step.done) { break; } parts.push(step.value); } const tpl = document.createElement('template'); tpl.innerHTML = parts.join(\"\"); _insertNode(tpl.content); } else { _insertNode(contentNode.content); } })(); } else { _insertNode(contentNode.content); } }); </script></treescope-run-here><div style=\"display:none\"> <script type=\"application/octet-stream\" >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</script> <treescope-run-here><script type=\"application/octet-stream\"> const root = ( Array.from(document.getElementsByClassName( \"treescope_out_ba5a5afa36df4050b70ca6c34fa5db1b\")) .filter((elt) => !elt.dataset['step0']) )[0]; root.dataset['step0'] = 1; root.defns.insertContent( this.parentNode.querySelector('script[type=\"application/octet-stream\"]'), true ); this.parentNode.remove(); </script></treescope-run-here> </div>"
      ],
      "text/plain": [
       "<IPython.core.display.HTML object>"
      ]
     },
     "metadata": {},
     "output_type": "display_data"
    },
    {
     "data": {
      "text/html": [
       "<treescope-run-here><script type=\"application/octet-stream\"> const root = ( Array.from(document.getElementsByClassName( \"treescope_out_ba5a5afa36df4050b70ca6c34fa5db1b\")) .filter((elt) => !elt.dataset.stolen) )[0]; root.dataset.stolen = 1; this.parentNode.replaceChild(root, this); </script></treescope-run-here>"
      ],
      "text/plain": [
       "[['a', 11, 'arrow', 4080, 0.7506580352783203],\n",
       " ['a', 10, 'arrow', 18907, 0.32885661721229553],\n",
       " ['ea', 8, 'prompt', 0, 0.25985220074653625],\n",
       " ['a', 11, 'arrow', 24084, 0.2539865970611572],\n",
       " ['a', 11, 'arrow', 7345, 0.2489675134420395],\n",
       " ['a', 10, 'output', 18907, 0.24180087447166443],\n",
       " ['a', 12, 'arrow', 6492, 0.21518652141094208],\n",
       " ['a', 13, 'arrow', 4745, 0.21424899995326996],\n",
       " ['a', 11, 'arrow', 3528, 0.21369224786758423],\n",
       " ['a', 10, 'arrow', 30196, 0.14977753162384033],\n",
       " ['a', 13, 'arrow', 5151, 0.13242927193641663],\n",
       " ['a', 11, 'arrow', 29382, 0.12703268229961395],\n",
       " ['a', 9, 'arrow', 30422, 0.12628766894340515],\n",
       " ['a', 11, 'arrow', 23914, 0.11989074945449829],\n",
       " ['a', 10, 'arrow', 31128, 0.11808712780475616],\n",
       " ['a', 12, 'arrow', 24815, 0.11454211920499802],\n",
       " ['a', 7, 'output', 16193, 0.11348624527454376],\n",
       " ['a', 6, 'prompt', 30905, 0.11110686510801315],\n",
       " ['a', 11, 'input', 24084, 0.11046935617923737],\n",
       " ['a', 11, 'input', 30551, 0.10848592221736908],\n",
       " ['a', 11, 'input', 25963, 0.10084160417318344],\n",
       " ['a', 8, 'output', 12423, 0.09670715034008026],\n",
       " ['a', 11, 'arrow', 132, 0.09597808867692947],\n",
       " ['a', 16, 'arrow', 26950, 0.09281069040298462],\n",
       " ['a', 13, 'arrow', 30355, 0.08647042512893677],\n",
       " ['a', 9, 'input', 30422, 0.08515353500843048],\n",
       " ['a', 11, 'arrow', 6975, 0.08458726853132248],\n",
       " ['a', 11, 'input', 3528, 0.08040756732225418],\n",
       " ['a', 13, 'arrow', 15548, 0.07793214917182922],\n",
       " ['a', 9, 'output', 20099, 0.0748707726597786],\n",
       " ['a', 12, 'arrow', 9137, 0.07463555783033371],\n",
       " ['a', 11, 'arrow', 24250, 0.07212164252996445],\n",
       " ['a', 7, 'prompt', 17961, 0.07165984809398651],\n",
       " ['a', 10, 'arrow', 31964, 0.07049548625946045],\n",
       " ['a', 13, 'arrow', 17840, 0.06974411755800247],\n",
       " ['a', 8, 'output', 29606, 0.06762855499982834],\n",
       " ['a', 12, 'arrow', 11334, 0.06740531325340271],\n",
       " ['a', 7, 'output', 24464, 0.0671708807349205],\n",
       " ['a', 9, 'arrow', 3699, 0.06692551076412201],\n",
       " ['a', 8, 'input', 29606, 0.06609345972537994],\n",
       " ['a', 9, 'input', 10121, 0.06532280892133713],\n",
       " ['a', 6, 'arrow', 32736, 0.06465433537960052],\n",
       " ['a', 11, 'output', 3528, 0.06426970660686493],\n",
       " ['a', 7, 'output', 3570, 0.06188572943210602],\n",
       " ['a', 13, 'arrow', 21151, 0.06109173968434334],\n",
       " ['a', 11, 'arrow', 15611, 0.061014723032712936],\n",
       " ['a', 8, 'input', 1102, 0.060930412262678146],\n",
       " ['a', 6, 'input', 29059, 0.06056225299835205],\n",
       " ['a', 8, 'newline', 32349, 0.06011004000902176],\n",
       " ['a', 8, 'arrow', 18444, 0.05934614688158035],\n",
       " ['a', 8, 'input', 23841, 0.05843329802155495],\n",
       " ['a', 10, 'arrow', 12147, 0.05832074582576752],\n",
       " ['er', 14, 'arrow', 0, 0.05777547508478165],\n",
       " ['a', 13, 'arrow', 6077, 0.05575604736804962],\n",
       " ['a', 7, 'newline', 28287, 0.05573801323771477],\n",
       " ['a', 11, 'arrow', 20935, 0.055556949228048325],\n",
       " ['a', 12, 'arrow', 11345, 0.05515478923916817],\n",
       " ['a', 8, 'output', 31566, 0.05456184223294258],\n",
       " ['a', 11, 'arrow', 4522, 0.053785908967256546],\n",
       " ['a', 11, 'input', 32219, 0.05317726731300354],\n",
       " ['a', 6, 'input', 32736, 0.05151086300611496],\n",
       " ['a', 12, 'arrow', 28019, 0.05129891633987427],\n",
       " ['a', 8, 'output', 28812, 0.05086845904588699],\n",
       " ['a', 6, 'arrow', 833, 0.050552014261484146],\n",
       " ['a', 7, 'arrow', 538, 0.05022735148668289],\n",
       " ['a', 7, 'arrow', 13497, 0.05014926940202713],\n",
       " ['a', 9, 'output', 10121, 0.04978646710515022],\n",
       " ['a', 13, 'arrow', 22100, 0.049388784915208817],\n",
       " ['a', 9, 'arrow', 11624, 0.049090392887592316],\n",
       " ['a', 8, 'newline', 4213, 0.0490826815366745],\n",
       " ['a', 10, 'arrow', 6051, 0.048936307430267334],\n",
       " ['a', 10, 'output', 30196, 0.048778388649225235],\n",
       " ['a', 12, 'arrow', 21407, 0.048734430223703384],\n",
       " ['a', 7, 'output', 31467, 0.04839739203453064],\n",
       " ['a', 12, 'arrow', 22504, 0.04804452508687973],\n",
       " ['a', 7, 'newline', 31766, 0.04803304746747017],\n",
       " ['a', 7, 'prompt', 13170, 0.04800529405474663],\n",
       " ['a', 6, 'arrow', 25473, 0.04800485819578171],\n",
       " ['a', 13, 'arrow', 2844, 0.04782572016119957],\n",
       " ['a', 10, 'arrow', 21817, 0.04742930829524994],\n",
       " ['er', 13, 'arrow', 0, 0.047115836292505264],\n",
       " ['a', 11, 'arrow', 21699, 0.0469721294939518],\n",
       " ['a', 13, 'arrow', 26183, 0.04653647914528847],\n",
       " ['a', 10, 'arrow', 16620, 0.04633978009223938],\n",
       " ['a', 11, 'input', 16999, 0.04620660841464996],\n",
       " ['a', 10, 'output', 6051, 0.04606175422668457],\n",
       " ['a', 9, 'input', 3699, 0.04580915719270706],\n",
       " ['a', 6, 'prompt', 19517, 0.045599669218063354],\n",
       " ['a', 12, 'output', 6492, 0.04492947831749916],\n",
       " ['a', 7, 'output', 16493, 0.04471995681524277],\n",
       " ['a', 12, 'arrow', 15472, 0.04448691010475159],\n",
       " ['a', 8, 'newline', 19518, 0.04435942322015762],\n",
       " ['a', 7, 'newline', 17961, 0.04376508295536041],\n",
       " ['a', 12, 'arrow', 20529, 0.042944781482219696],\n",
       " ['er', 11, 'arrow', 0, 0.042884379625320435],\n",
       " ['a', 13, 'arrow', 2807, 0.042858630418777466],\n",
       " ['a', 11, 'input', 4496, 0.04208576679229736],\n",
       " ['a', 11, 'arrow', 25672, 0.042009927332401276],\n",
       " ['a', 10, 'arrow', 7627, 0.04195570945739746],\n",
       " ['a', 10, 'output', 16987, 0.041208114475011826]]"
      ]
     },
     "execution_count": 42,
     "metadata": {},
     "output_type": "execute_result"
    }
   ],
   "source": [
    "import json\n",
    "with open(\"micrlhf-progress/all-graph-antonyms.json\") as f:\n",
    "    all_graph = json.load(f)\n",
    "\n",
    "nodes = all_graph[\"nodes\"]\n",
    "\n",
    "nodes[:100]"
   ]
  },
  {
   "cell_type": "code",
   "execution_count": 41,
   "metadata": {},
   "outputs": [],
   "source": [
    "important_feats_masks = {}\n",
    "for mask in circuitizer.masks:\n",
    "    important_feats_masks[mask] = [\n",
    "        (type, layer, feat) for layer, f_mask, type, feat, _ in combined_ies if f_mask == mask\n",
    "        ]"
   ]
  },
  {
   "cell_type": "code",
   "execution_count": 20,
   "metadata": {},
   "outputs": [],
   "source": [
    "from collections import defaultdict\n",
    "flat_feats = defaultdict(list)\n",
    "for k, v in important_feats_masks.items():\n",
    "    for type, layer, feat in v:\n",
    "        flat_feats[(k, type, layer)].append(feat)"
   ]
  },
  {
   "cell_type": "code",
   "execution_count": 36,
   "metadata": {},
   "outputs": [
    {
     "data": {
      "application/vnd.jupyter.widget-view+json": {
       "model_id": "3f013b142d974d358eb521991fe903d5",
       "version_major": 2,
       "version_minor": 0
      },
      "text/plain": [
       "  0%|          | 0/320 [00:00<?, ?it/s]"
      ]
     },
     "metadata": {},
     "output_type": "display_data"
    },
    {
     "data": {
      "application/vnd.jupyter.widget-view+json": {
       "model_id": "0589ecebccde4b44a58baac2a7f3a624",
       "version_major": 2,
       "version_minor": 0
      },
      "text/plain": [
       "  0%|          | 0/81 [00:00<?, ?it/s, ('arrow', 'a', 16)]"
      ]
     },
     "metadata": {},
     "output_type": "display_data"
    },
    {
     "name": "stdout",
     "output_type": "stream",
     "text": [
      "dict_keys([('er', 16, 'arrow'), ('er', 16, 'input'), ('er', 16, 'newline'), ('er', 16, 'output'), ('er', 16, 'prompt'), ('r', 16, 'arrow'), ('r', 16, 'input'), ('r', 16, 'newline'), ('r', 16, 'output'), ('r', 16, 'prompt')]) [26950, 25539, 1085, 14538, 19232, 7123, 20911, 12264, 12539, 12413, 32120, 26574, 23636, 23114, 178, 12793]\n",
      "('er', 16, 'arrow') (16,)\n",
      "('er', 16, 'input') (16,)\n",
      "('er', 16, 'newline') (16,)\n",
      "('er', 16, 'output') (16,)\n",
      "('er', 16, 'prompt') (16,)\n",
      "('r', 16, 'arrow') (16, 32768)\n",
      "('r', 16, 'input') (16, 32768)\n",
      "('r', 16, 'newline') (16, 32768)\n",
      "('r', 16, 'output') (16, 32768)\n",
      "('r', 16, 'prompt') (16, 32768)\n",
      "[(6.0595695686060935e-05, ('er', 16, 'input', 0), ('a', 16, 'arrow', 26950)), (4.51656014774926e-05, ('r', 16, 'prompt', 5241), ('a', 16, 'arrow', 26950)), (3.955366264563054e-05, ('r', 16, 'arrow', 29818), ('a', 16, 'arrow', 26950)), (3.92732436012011e-05, ('r', 16, 'arrow', 24991), ('a', 16, 'arrow', 26950)), (3.684913463075645e-05, ('er', 16, 'prompt', 0), ('a', 16, 'arrow', 26950)), (2.9562317649833858e-05, ('er', 16, 'arrow', 0), ('a', 16, 'arrow', 26950)), (2.319858867849689e-05, ('r', 16, 'arrow', 17821), ('a', 16, 'arrow', 26950)), (2.309978663106449e-05, ('r', 16, 'input', 11940), ('a', 16, 'arrow', 26950)), (2.1727033526985906e-05, ('r', 16, 'input', 1925), ('a', 16, 'arrow', 26950)), (2.1575855498667806e-05, ('r', 16, 'arrow', 4864), ('a', 16, 'arrow', 26950)), (1.8731390809989534e-05, ('r', 16, 'arrow', 2353), ('a', 16, 'arrow', 26950)), (1.5680485375924036e-05, ('r', 16, 'input', 471), ('a', 16, 'arrow', 26950)), (1.5463583622477017e-05, ('er', 16, 'newline', 0), ('a', 16, 'arrow', 26950)), (1.5248271665768698e-05, ('r', 16, 'input', 1913), ('a', 16, 'arrow', 26950)), (1.2924692782689817e-05, ('r', 16, 'arrow', 21347), ('a', 16, 'arrow', 26950)), (1.2538909686554689e-05, ('r', 16, 'input', 23790), ('a', 16, 'arrow', 26950)), (1.1613489732553717e-05, ('r', 16, 'newline', 1925), ('a', 16, 'arrow', 26950)), (1.1381651347619481e-05, ('r', 16, 'input', 12482), ('a', 16, 'arrow', 26950)), (1.095333482226124e-05, ('r', 16, 'output', 15037), ('a', 16, 'arrow', 26950)), (1.0365569323766977e-05, ('r', 16, 'arrow', 27427), ('a', 16, 'arrow', 26950)), (9.921205673890654e-06, ('r', 16, 'arrow', 7141), ('a', 16, 'arrow', 26950)), (9.598125870979857e-06, ('r', 16, 'arrow', 22168), ('a', 16, 'arrow', 26950)), (9.365824553242419e-06, ('r', 16, 'input', 14619), ('a', 16, 'arrow', 26950)), (9.272104762203526e-06, ('r', 16, 'arrow', 25420), ('a', 16, 'arrow', 26950)), (9.169873919745442e-06, ('r', 16, 'arrow', 8695), ('a', 16, 'arrow', 26950)), (8.940999578044284e-06, ('r', 16, 'input', 5232), ('a', 16, 'arrow', 26950)), (8.259105925390031e-06, ('r', 16, 'arrow', 28952), ('a', 16, 'arrow', 26950)), (7.690877282584552e-06, ('r', 16, 'input', 1126), ('a', 16, 'arrow', 26950)), (7.600306616950547e-06, ('r', 16, 'output', 8078), ('a', 16, 'arrow', 26950)), (7.406010354316095e-06, ('r', 16, 'input', 28017), ('a', 16, 'arrow', 26950)), (7.295067916857079e-06, ('r', 16, 'input', 21343), ('a', 16, 'arrow', 26950)), (7.205359906947706e-06, ('r', 16, 'arrow', 25826), ('a', 16, 'arrow', 26950))]\n"
     ]
    },
    {
     "ename": "ZeroDivisionError",
     "evalue": "division by zero",
     "output_type": "error",
     "traceback": [
      "\u001b[0;31m---------------------------------------------------------------------------\u001b[0m",
      "\u001b[0;31mZeroDivisionError\u001b[0m                         Traceback (most recent call last)",
      "Cell \u001b[0;32mIn[36], line 36\u001b[0m\n\u001b[1;32m     34\u001b[0m             graph\u001b[38;5;241m.\u001b[39mextend([(weight,  key \u001b[38;5;241m+\u001b[39m (upstream_feature,), (\u001b[38;5;28mtype\u001b[39m[\u001b[38;5;241m1\u001b[39m], \u001b[38;5;28mtype\u001b[39m[\u001b[38;5;241m2\u001b[39m], \u001b[38;5;28mtype\u001b[39m[\u001b[38;5;241m0\u001b[39m], batch_features[elem],) ) \u001b[38;5;28;01mfor\u001b[39;00m weight, key, upstream_feature \u001b[38;5;129;01min\u001b[39;00m edges])\n\u001b[1;32m     35\u001b[0m             \u001b[38;5;28mprint\u001b[39m(graph)\n\u001b[0;32m---> 36\u001b[0m             \u001b[38;5;241;43m1\u001b[39;49m\u001b[38;5;241;43m/\u001b[39;49m\u001b[38;5;241;43m0\u001b[39;49m\n\u001b[1;32m     38\u001b[0m         \u001b[38;5;66;03m# # edges = circuitizer.compute_edges(*feature, mask, layer_window=1)\u001b[39;00m\n\u001b[1;32m     39\u001b[0m         \u001b[38;5;66;03m# graph.extend([(weight, feature, downstream_feature) for weight, _, downstream_feature in edges])\u001b[39;00m\n\u001b[1;32m     40\u001b[0m     \n\u001b[0;32m   (...)\u001b[0m\n\u001b[1;32m     71\u001b[0m \u001b[38;5;66;03m#     #     graph.extend([(weight, upstream_feature_key + (upstream_feature,), downstream_feature[:2] + (mask,) + downstream_feature[2:])\u001b[39;00m\n\u001b[1;32m     72\u001b[0m \u001b[38;5;66;03m#     #                   for weight, upstream_feature_key, upstream_feature in edges])\u001b[39;00m\n",
      "\u001b[0;31mZeroDivisionError\u001b[0m: division by zero"
     ]
    }
   ],
   "source": [
    "from tqdm.auto import trange\n",
    "import jax.numpy as jnp\n",
    "graph = []\n",
    "\n",
    "batch_size = 16\n",
    "k = 32\n",
    "for type, features in tqdm(sorted(flat_feats.items(), key=lambda x: (-x[0][-1], x[0][-2], x[0][-3]))):\n",
    "    mask, feature_type, layer = type\n",
    "    mask = jnp.array(list(circuitizer.masks.keys()).index(mask))\n",
    "    for batch in trange(0, len(features), batch_size, postfix=str(type)):\n",
    "        batch_features = features[batch:batch+batch_size]\n",
    "        orig_length = len(batch_features)\n",
    "        batch_features = batch_features + [0] * (batch_size - len(batch_features))\n",
    "        feature_effectss = jax.vmap(lambda x: circuitizer.compute_feature_effects(feature_type, layer, x, mask, layer_window=1))(jnp.asarray(batch_features))\n",
    "        # feature_effectss = circuitizer.compute_feature_effects(feature_type, layer, batch_features, mask, layer_window=1)\n",
    "        top_effects = defaultdict(list)\n",
    "        for key, featuress in feature_effectss.items():\n",
    "            for elem, feature_effects in enumerate(featuress):\n",
    "                if elem >= orig_length:\n",
    "                    continue\n",
    "                if feature_effects.ndim == 0:\n",
    "                    top_effects[elem].append((float(feature_effects), key, 0))\n",
    "                    continue\n",
    "                effects, indices = jax.lax.top_k(jnp.abs(feature_effects), k)\n",
    "                for i, e in zip(indices.tolist(), effects.tolist()):\n",
    "                    top_effects[elem].append((e, key, i))\n",
    "        for elem, effects in top_effects.items():\n",
    "            effects.sort(reverse=True)\n",
    "            edges = effects[:k]\n",
    "            graph.extend([(weight,  key + (upstream_feature,), (type[1], type[2], type[0], batch_features[elem],) ) for weight, key, upstream_feature in edges])\n",
    "        \n",
    "        # # edges = circuitizer.compute_edges(*feature, mask, layer_window=1)\n",
    "        # graph.extend([(weight, feature, downstream_feature) for weight, _, downstream_feature in edges])\n",
    "    \n",
    "        # for feature in tqdm(batch_features):\n",
    "        #     feature_effects = circuitizer.compute_feature_effects(feature_type, layer, feature, mask, layer_window=1)\n",
    "        #     top_effects = []\n",
    "        #     for key, features in feature_effects.items():\n",
    "        #         if features.ndim == 0:\n",
    "        #             top_effects.append((float(features), key, 0))\n",
    "        #             continue\n",
    "        #         effects, indices = jax.lax.top_k(jnp.abs(features), k)\n",
    "        #         for i, e in zip(indices.tolist(), effects.tolist()):\n",
    "        #             top_effects.append((e, key, i))\n",
    "        #     top_effects.sort(reverse=True)\n",
    "        #     edges = top_effects[:k]\n",
    "            \n",
    "        #     # edges = circuitizer.compute_edges(*feature, mask, layer_window=1)\n",
    "        #     graph.extend([(weight, feature, downstream_feature) for weight, _, downstream_feature in edges])\n",
    "\n",
    "\n",
    "\n",
    "# for mask, features in tqdm(important_feats_masks.items()):\n",
    "#     for batch in trange(0, len(features), batch_size):\n",
    "#         batch_features = features[batch:batch+batch_size]\n",
    "        \n",
    "        \n",
    "#         for feature in tqdm(batch_features):\n",
    "#             # edges = circuitizer.compute_edges(*feature, mask, layer_window=1)\n",
    "#             graph.extend([(weight, feature, downstream_feature) for weight, _, downstream_feature in edges])\n",
    "\n",
    "\n",
    "#     # for downstream_feature in tqdm(features):\n",
    "#     #     edges = compute_edges(downstream_feature, mask, layer_window=1)\n",
    "#     #     graph.extend([(weight, upstream_feature_key + (upstream_feature,), downstream_feature[:2] + (mask,) + downstream_feature[2:])\n",
    "#     #                   for weight, upstream_feature_key, upstream_feature in edges])"
   ]
  },
  {
   "cell_type": "code",
   "execution_count": 37,
   "metadata": {},
   "outputs": [
    {
     "data": {
      "text/html": [
       "<script> (()=>{ if (customElements.get('treescope-container') === undefined) { class TreescopeContainer extends HTMLElement { constructor() { super(); this.attachShadow({mode: \"open\"}); this.defns = {}; this.state = {}; } } customElements.define(\"treescope-container\", TreescopeContainer); } if (customElements.get('treescope-run-here') === undefined) { class RunHere extends HTMLElement { constructor() { super() } connectedCallback() { const run = child => { const fn = new Function(child.textContent); child.textContent = \"\"; fn.call(this); this.remove(); }; const child = this.querySelector(\"script\"); if (child) { run(child); } else { new MutationObserver(()=>{ run(this.querySelector(\"script\")); }).observe(this, {childList: true}); } } } customElements.define(\"treescope-run-here\", RunHere); } })(); </script> <treescope-container class=\"treescope_out_a8b7216ceca04b2eac50770d71bef7eb\" ></treescope-container> <treescope-run-here><script type=\"application/octet-stream\"> const root = ( Array.from(document.getElementsByClassName( \"treescope_out_a8b7216ceca04b2eac50770d71bef7eb\")) .filter((elt) => !elt.dataset.setup) )[0]; root.dataset.setup = 1; const msg = document.createElement(\"span\"); msg.style = \"color: #aaaaaa; font-family: monospace; transition: opacity 0.2s; opacity: 0.0;\"; msg.textContent = \"(Loading...)\"; root.state.loadingMsg = msg; root.shadowRoot.appendChild(msg); root.state.chain = new Promise((resolve, reject) => { const observer = new IntersectionObserver((entries) => { for (const entry of entries) { if (entry.isIntersecting) { resolve(); observer.disconnect(); return; } } }, {rootMargin: \"1000px\"}); window.setTimeout(() => { if (root.loadingMsg) { root.loadingMsg.style.opacity = \"1.0\"; } observer.observe(root); }, 0); }); root.state.deferring = false; const _insertNode = (node) => { for (let oldScript of node.querySelectorAll(\"script\")) { let newScript = document.createElement(\"script\"); newScript.type = oldScript.type; newScript.textContent = oldScript.textContent; oldScript.parentNode.replaceChild(newScript, oldScript); } if (root.state.loadingMsg) { root.state.loadingMsg.remove(); root.state.loadingMsg = null; } root.shadowRoot.appendChild(node); }; root.defns.insertContent = ((contentNode, compressed) => { if (compressed) { root.state.deferring = true; } if (root.state.deferring) { root.state.chain = (async () => { await root.state.chain; if (compressed) { const encoded = contentNode.textContent; const blob = new Blob([ Uint8Array.from(atob(encoded), (m) => m.codePointAt(0)) ]); const reader = blob.stream().pipeThrough( new DecompressionStream(\"deflate\") ).pipeThrough( new TextDecoderStream(\"utf-8\") ).getReader(); const parts = []; while (true) { const step = await reader.read(); if (step.done) { break; } parts.push(step.value); } const tpl = document.createElement('template'); tpl.innerHTML = parts.join(\"\"); _insertNode(tpl.content); } else { _insertNode(contentNode.content); } })(); } else { _insertNode(contentNode.content); } }); </script></treescope-run-here><div style=\"display:none\"> <script type=\"application/octet-stream\" >eNrdWAtT4koW/is9maoV1iHyRlGpDcjLGXQUZ3S895bbJJ2kJemOnQ4Rt/zvezoBBETvda+7O3WhikfnPL7z7NN9EMqpRxq6FISEJg/IjeBcon+hgIdUUs7qSBAPSzoh+8jmTOZs7FNvWkc+ZzwMsAnrsUslySV/6igQsOLRUOYS0Tk5DWCVcQbLI2yOHcEjZuVM7nFRT1n30ezfyAMCkEct6daRTSWQMUmY3EcBtizKnJxHbFlHRdNVShjJuYQ6LqwU9IoSwySmgHnBNvuRm9CQjqhHJSDHkeQL2hxlUlAWUjMX0geSPp3BfTzYSd1zsHBPTkQMdApYC01BA4mUfYdbOAg8amLlsR1uSqKsFwT7W41MJnvYAIeCvlAii9gsRIdIujTUHSLPwdsn3CKZrO7yUOrJczCNSHQTEKZMNkwlVTH98tumJz3MLI/AYxZ53n6qQQeYQ84ZrGZiLsZZtIyBX8KSerSyLKmpFgMibC58zEyiMx5nskl8QUHm2ROUS5kOUKmYBTnURpk11LpHmCNddHiI8orkVeiCyEgw8DsiXkiegLkRU8jWRYcutaXClxCoH4/wfkFDBrKKWTzWBbmLSCgNRv0kXB2BfZJJfZJVMvafKQqi0E3duL/BxrmKw9SMV6z84xgUijSQkjuOl1blTVI5kK2BkqVWiCc/ITKBBJ9FUqFL/utjMlVO14SmAM2IddPDYfgFinMmN6MtZN74kIbaXPljFvwJ6Z/keONgZ1MBWHSCEoGH2mr70JDEI7CU3B9qeQ1xBmDAbAZ0r6X9ZlszimdupQZllzaspGPcsMgfEZFkStJAPub3dguVKuCfEYSquJ0lAlwqVAoVRWBzz8Ij0McAyAsd7xGtkt2kEIHaomHg4em8s60Togby8Ih49fqIQNGQJQRm8trfqC/tbrmCam+zLpjff9JFWdLzRh5XbfJFnS6fEPFcs4XFOCTYgVix59x1xmVmbcnFYaaRyGxs9EPCUzddYo6Jlc2iv2efMCjWzUxz+hWESZuuo61fi5WRufX/hLfK9CLI6v8ApIqjUhyJUAUw4LBZEbFBLw3fT21SComiXFJ04Us5/j5an8yT5F4+16LT8MamIpQ3nN2o9N9QWq+Vkl6sqGraGCr0p+GnEV+HqKzysXBgvEhhJAX9+Ce1QUsLpqNIStjXNzWgp8ebklZD2hoVOBJmts3Ev5JC2dLWRr6tAYasoNhDw6k/4l6ITiOp7LVQK+WE72AKhZGLyWgM41vCHvrQ0F1owzBcMQnsFIfEWgx9H0levfefp3nKnUxleX2P+OtWpvWxwYrN7e6JU49xeGPCwAaOXfBjW65sJfM+/ZrONZ5VlcuuRxMsMrmchSXOYQaBTfb97PKyUqKGGYHZPJsTsagQIgIeg0k1xyP5NlMWCCAwlFgfVpEkKtEH6gdcSMyeyR4JPibsRq08NaPf9+4S25I/52F+1NVoAMCsGxMGS0sQNoO6OrqDzFXCd+quS6Uz20hXStXEnpmB8wUMt4XgPpmH9FBixb/A+19DMuLCgr6bIrG4BNsVimXnxW7iWs/DAVTR708ib28zL2tI549ER0JE7iHdrBdp3gPHJhXveDpTAzP6YAiBp7otuA9DuBn5aoBWzSfUJ9iDST2TzeohhxE9aUlq1FbfetoX1Zj9BzujtoWyKLs42IQugdMcHBtIjFrD4VBZM1Rr6iyTPISTAphskuGUmZl//mPWjU3V5f7Dzpz2VKVJ+RFOc95sLZ4dpMt5SLNQmHUUCS+j2kRdPd+JuW0X90fQiKrlT1Z+rztwjKaRvPpnhsGTX83zGD57HcNoG6+9mr5hOGP+2eq3m634h2Fc/GgdG4N+s2V0nPt+74srw+aAEqfUOboqfulXf0yGQUS/DioXheOr/vn3weRy8CC/Tjud1valM76gzaO8S4/OouO21b3N90Y79qRvBXefq+7dJaVn0YB13Z79TRrfqs0TUTY6fTZuV81vUcS2zyt3ZjiOJ3bH27m7d9p81xkdx93dQs/YYcZ55YsQx4Xzbechf27ljWO74JzUWnH3tujk+TQ6r9X8dqEa9672Th0nIBfjaZn0Rw8VcyROuxIbzln/JD7C4TQ8i/r9q8t2Jza+ngX9H9a3nZ1tp3ZRuyrJvP35650xqYDML8ZJzRjEhu88nA+3o+shaV/dF+2q+XBSPu9NK1HT+PzQvA06QYn2zlrt/HX0tTysMbv5pd3rDHyDbu9O2kWXFdza9uh7fHUb98TkqPutxW7tdtuR26fmtefVKnut47i56+6VB4PusNS9Nhy/X7ltnu3Jiy7p7bWbzX63dOSUz3d+mNOR0YWYfv+8Y5x1sUEGLc/oPbRPnWvpVJtfndPT/lFzTM8qpNO8ajU7Js0HruABg9wIrttHhYfCeGi3bOlOP7OehTthz86f+N32SbVpGXffvwdYhsNr37Iw3SvaD3vlb/T2rhr4onrKf7SGVHT9yXG3NLwcljrtotk8sy+2ex4PuuVOGFewc1fdpddkeOIFl6zZ6xNrIEh0eddt+YXLjhgPh/eVYvXyMowNQJRFyU2GzGwlab2l2vw/4WNR/djiATTfp5JM7l90XX+F4lNas7+BrNfPuW5yIZDsj+nWDbIhPZiJMukOunpdAyV4wVX5Atlsh1VrIbQHJUKNDGqfxTGmEjE8oQ6WXMBZnwYjjoWlx4JKcgHTdeZJFhg7k/V0J4AtK6MtzRPqNgC0XFCfwOCRmV8XPeMTxIfh4Bnr4ydUzOfzyRYKzRe21EwyGW/WuzQ0aE/g1Jlg3sHUBYqGPqIOph40NsmRIv6QdDbYw1mEPejGFHxGsKVmnu1l381uNn7nTkPNT/NLjdXD9fqMrzUO0s3sgLIgmu00WrJ9jfi9tlHIbKcD1p2EaVWfCxIEiB7fSBhIiNQS+LkxmUJtuIea1sgAemAA9pnqZfZnU5X22nPtbbp/yf+2xrF8AaM1CoUFtOTr0wrt6kShNdCc+BnRfLtfVbb1NFxuIc5aKscOt95YZMlFUnYLLSbfQy3jYX9k4eR6rJ58gp1ZDSX746G2NCXDFruZWB121sd6IE5STrkOfs9saax6aO3r/SJV2Byp9CZMa/zt432xto+F4HH68y8SuMJbAlf4GQNX/EOB+0sFrfiWoBV/xqCVXu+LxVJlr/wXCVbpLcEq/YzBKr8erLxeLhRr1cpuKV+rVIqlUq36CpS1oHz6eQNXfkvgyu8XuPQru/hr0Unj3xRfo9M=</script> <treescope-run-here><script type=\"application/octet-stream\"> const root = ( Array.from(document.getElementsByClassName( \"treescope_out_a8b7216ceca04b2eac50770d71bef7eb\")) .filter((elt) => !elt.dataset['step0']) )[0]; root.dataset['step0'] = 1; root.defns.insertContent( this.parentNode.querySelector('script[type=\"application/octet-stream\"]'), true ); this.parentNode.remove(); </script></treescope-run-here> </div>"
      ],
      "text/plain": [
       "<IPython.core.display.HTML object>"
      ]
     },
     "metadata": {},
     "output_type": "display_data"
    },
    {
     "data": {
      "text/html": [
       "<treescope-run-here><script type=\"application/octet-stream\"> const root = ( Array.from(document.getElementsByClassName( \"treescope_out_a8b7216ceca04b2eac50770d71bef7eb\")) .filter((elt) => !elt.dataset.stolen) )[0]; root.dataset.stolen = 1; this.parentNode.replaceChild(root, this); </script></treescope-run-here>"
      ],
      "text/plain": [
       "(11, 'arrow', 'a', 23594, 0.41276583075523376)"
      ]
     },
     "execution_count": 37,
     "metadata": {},
     "output_type": "execute_result"
    }
   ],
   "source": [
    "combined_ies[0]"
   ]
  },
  {
   "cell_type": "code",
   "execution_count": null,
   "metadata": {},
   "outputs": [],
   "source": [
    "sorted_graph = sorted(graph, reverse=True, key=lambda x: x[0])"
   ]
  }
 ],
 "metadata": {
  "kernelspec": {
   "display_name": "micrlhf-progress-_SD4q1c9-py3.12",
   "language": "python",
   "name": "python3"
  },
  "language_info": {
   "codemirror_mode": {
    "name": "ipython",
    "version": 3
   },
   "file_extension": ".py",
   "mimetype": "text/x-python",
   "name": "python",
   "nbconvert_exporter": "python",
   "pygments_lexer": "ipython3",
   "version": "3.10.12"
  }
 },
 "nbformat": 4,
 "nbformat_minor": 2
}
