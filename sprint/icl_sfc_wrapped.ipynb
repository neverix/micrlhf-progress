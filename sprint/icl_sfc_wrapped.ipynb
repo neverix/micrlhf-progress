{
 "cells": [
  {
   "cell_type": "code",
   "execution_count": 1,
   "metadata": {},
   "outputs": [],
   "source": [
    "import os\n",
    "if \"models\" not in os.listdir(\".\"):\n",
    "    os.chdir(\"../..\")"
   ]
  },
  {
   "cell_type": "code",
   "execution_count": 2,
   "metadata": {},
   "outputs": [
    {
     "data": {
      "text/plain": [
       "['.ssh',\n",
       " '.ipython',\n",
       " '.vscode-server',\n",
       " '.gitconfig',\n",
       " '.dotnet',\n",
       " 'cleanup_results.jsonl',\n",
       " '.wget-hsts',\n",
       " 'data',\n",
       " '.local',\n",
       " '.python_history',\n",
       " '.bash_logout',\n",
       " 'models',\n",
       " '.bashrc',\n",
       " '.config',\n",
       " '.profile',\n",
       " '.cache',\n",
       " 'micrlhf-progress',\n",
       " '.bash_history',\n",
       " 'cleanup_results_ito.jsonl']"
      ]
     },
     "execution_count": 2,
     "metadata": {},
     "output_type": "execute_result"
    }
   ],
   "source": [
    "os.listdir(\".\")"
   ]
  },
  {
   "cell_type": "code",
   "execution_count": 3,
   "metadata": {},
   "outputs": [],
   "source": [
    "%load_ext autoreload\n",
    "%autoreload 2\n",
    "import penzai\n",
    "import jax_smi\n",
    "jax_smi.initialise_tracking()\n",
    "from penzai import pz\n",
    "pz.ts.register_as_default()\n",
    "pz.ts.register_autovisualize_magic()\n",
    "pz.enable_interactive_context()"
   ]
  },
  {
   "cell_type": "code",
   "execution_count": 4,
   "metadata": {},
   "outputs": [
    {
     "name": "stdout",
     "output_type": "stream",
     "text": [
      "env: JAX_TRACEBACK_FILTERING=off\n"
     ]
    }
   ],
   "source": [
    "%env JAX_TRACEBACK_FILTERING=off\n",
    "import jax\n",
    "jax.config.update('jax_traceback_filtering', 'off')\n"
   ]
  },
  {
   "cell_type": "code",
   "execution_count": 5,
   "metadata": {},
   "outputs": [
    {
     "ename": "SyntaxError",
     "evalue": "invalid syntax (icl_sfc_utils.py, line 83)",
     "output_type": "error",
     "traceback": [
      "Traceback \u001b[0;36m(most recent call last)\u001b[0m:\n",
      "\u001b[0m  File \u001b[1;32m~/.cache/pypoetry/virtualenvs/micrlhf-progress-_SD4q1c9-py3.10/lib/python3.10/site-packages/IPython/core/interactiveshell.py:3577\u001b[0m in \u001b[1;35mrun_code\u001b[0m\n    exec(code_obj, self.user_global_ns, self.user_ns)\u001b[0m\n",
      "\u001b[0;36m  Cell \u001b[0;32mIn[5], line 1\u001b[0;36m\n\u001b[0;31m    from sprint.icl_sfc_utils import Circuitizer\u001b[0;36m\n",
      "\u001b[0;36m  File \u001b[0;32m~/micrlhf-progress/sprint/icl_sfc_utils.py:83\u001b[0;36m\u001b[0m\n\u001b[0;31m    newline =\u001b[0m\n\u001b[0m              ^\u001b[0m\n\u001b[0;31mSyntaxError\u001b[0m\u001b[0;31m:\u001b[0m invalid syntax\n"
     ]
    }
   ],
   "source": [
    "from sprint.icl_sfc_utils import Circuitizer"
   ]
  },
  {
   "cell_type": "code",
   "execution_count": null,
   "metadata": {},
   "outputs": [],
   "source": [
    "from micrlhf.llama import LlamaTransformer\n",
    "llama = LlamaTransformer.from_pretrained(\"models/gemma-2b-it.gguf\", from_type=\"gemma\", load_eager=True, device_map=\"tpu:0\")"
   ]
  },
  {
   "cell_type": "code",
   "execution_count": 6,
   "metadata": {},
   "outputs": [],
   "source": [
    "from transformers import AutoTokenizer\n",
    "tokenizer = AutoTokenizer.from_pretrained(\"alpindale/gemma-2b\")\n",
    "tokenizer.padding_side = \"right\""
   ]
  },
  {
   "cell_type": "code",
   "execution_count": 7,
   "metadata": {},
   "outputs": [
    {
     "data": {
      "text/html": [
       "<script> (()=>{ if (customElements.get('treescope-container') === undefined) { class TreescopeContainer extends HTMLElement { constructor() { super(); this.attachShadow({mode: \"open\"}); this.defns = {}; this.state = {}; } } customElements.define(\"treescope-container\", TreescopeContainer); } if (customElements.get('treescope-run-here') === undefined) { class RunHere extends HTMLElement { constructor() { super() } connectedCallback() { const run = child => { const fn = new Function(child.textContent); child.textContent = \"\"; fn.call(this); this.remove(); }; const child = this.querySelector(\"script\"); if (child) { run(child); } else { new MutationObserver(()=>{ run(this.querySelector(\"script\")); }).observe(this, {childList: true}); } } } customElements.define(\"treescope-run-here\", RunHere); } })(); </script> <treescope-container class=\"treescope_out_5e3e9791f1a14e7088a4f9eaf566780d\" ></treescope-container> <treescope-run-here><script type=\"application/octet-stream\"> const root = ( Array.from(document.getElementsByClassName( \"treescope_out_5e3e9791f1a14e7088a4f9eaf566780d\")) .filter((elt) => !elt.dataset.setup) )[0]; root.dataset.setup = 1; const msg = document.createElement(\"span\"); msg.style = \"color: #aaaaaa; font-family: monospace; transition: opacity 0.2s; opacity: 0.0;\"; msg.textContent = \"(Loading...)\"; root.state.loadingMsg = msg; root.shadowRoot.appendChild(msg); root.state.chain = new Promise((resolve, reject) => { const observer = new IntersectionObserver((entries) => { for (const entry of entries) { if (entry.isIntersecting) { resolve(); observer.disconnect(); return; } } }, {rootMargin: \"1000px\"}); window.setTimeout(() => { if (root.loadingMsg) { root.loadingMsg.style.opacity = \"1.0\"; } observer.observe(root); }, 0); }); root.state.deferring = false; const _insertNode = (node) => { for (let oldScript of node.querySelectorAll(\"script\")) { let newScript = document.createElement(\"script\"); newScript.type = oldScript.type; newScript.textContent = oldScript.textContent; oldScript.parentNode.replaceChild(newScript, oldScript); } if (root.state.loadingMsg) { root.state.loadingMsg.remove(); root.state.loadingMsg = null; } root.shadowRoot.appendChild(node); }; root.defns.insertContent = ((contentNode, compressed) => { if (compressed) { root.state.deferring = true; } if (root.state.deferring) { root.state.chain = (async () => { await root.state.chain; if (compressed) { const encoded = contentNode.textContent; const blob = new Blob([ Uint8Array.from(atob(encoded), (m) => m.codePointAt(0)) ]); const reader = blob.stream().pipeThrough( new DecompressionStream(\"deflate\") ).pipeThrough( new TextDecoderStream(\"utf-8\") ).getReader(); const parts = []; while (true) { const step = await reader.read(); if (step.done) { break; } parts.push(step.value); } const tpl = document.createElement('template'); tpl.innerHTML = parts.join(\"\"); _insertNode(tpl.content); } else { _insertNode(contentNode.content); } })(); } else { _insertNode(contentNode.content); } }); </script></treescope-run-here><div style=\"display:none\"> <script type=\"application/octet-stream\" >eNrFVkuP4zYM/iuCC+w4xdiTx2Sy6zyAvRQ9FD20hx7awpAt2hZGkVxJTia7yH8vJTvJJHGmLTpo40NsiuT3kRQpLYzdCVjFVgOYXNWQaqUs+UpqZbjlSiZEg6CWb2BOCiVtVNA1F7uErJVUpqY5yrcVtxD5j4TUGiWCGxt515Hd1SiVSqI4o/lzqVUjWZQroXTSms5J95UJVEB/nNkqIQW3qCYtSDsnNWWMyzISUNiEjPPKgUiIKuBlhZJRPHVupKUcOR/Nupdoww3PuOAWmdPGqqNuxKXVXBqeR4Z/gXa1o7tfPLTpWRzTE+lGIqZGmck1ry1x8S3vaF0LnlOXsQeVW3DRa6Dru1UYDpYrTCjiGUsYFNKQJbEVN3EJ9ifM9o+KQTiIK2Vs7NcxNLAkrUG6kD/nzqsz+vX3vpXvqWQCcFk2QsxbhBhp/qyURGm4Vfp5QF5zUL+gyC2diS3PnbAGXSi9pjKHWKptOPD1RYDwaoVErdGCTMYD9MMLEl6wjgXI0lZkuSRDp/ImdQ220RLzTkAYOBGrGumYXbo2FS+s4+cV3MsenxsIIe4qydQ21vBHA8Z+lnzty/WdpmsI25wMnI/5FVDdmKpN47wnxgPEsg3jjSj/PgfHoi2kVWUp2q5Mfefgbq2dLycBYe8JbHCDd5V07Px3/Aw7l/RAB45QpxznghrzAzZn5zcMjj7TNW7D4AC+H2A+cfv7Pb5aPPQ1AOMb4h0ug/PxERBLM4wUXpbBMCBKIhkMW6LeW9u+P9bQ2RyiDLDt2oGFFqA1sLTGmQGVEgy03zF+kHxDZ+7pRpY3SQi3FHsUY4sLVKcZQknkcGPY7cm5WtqyQ23GDYLuDkPtUpGsiKAZiCTJAPsFXrHK/W/ei9cOtmjkJls3AIfzExaXftxlQrkJeROzUhvQ18iM6mcDtMQyyWvrRCobXogqasKV97nqzYO3SfIK8mdggwH5dnDi4Ez7jQ76Zwz9hE7I3W/jaZbf/Z/0zo1uknz6D0i6OjrgRhtXwFrhOQW6B5eb94P1reCBIt9v5tYefx/UU3gWXuw1SsxNWnBtbKpk6rZ/T2u91UrxeOq6qbdU5F/Tbyt+SdFFtaa6xJtFS8M39B4PK+qm1ZZqiQdDekj3YTIUBc1Hkx7FGqf91+PtR3eXHeezQ+lE0TD2wZ6uWIm/IFEdlZoyjtUMR5Mpg/KeKE1lCWRIhvFTXt0Ti994e9Oo04qIPwZ6qFyF+07b/iJnh2D28bYCmWKSBK0NsL8evv8Y/A2EduR6DK8ELzWe5Dd13oNHH8TlXRQrJQlny+B4BE6HxYxN2XDyyCaPHyef6GyUf5rNxpPhdDr6mD0FnVF3WJ+fHJcVReWW9oLLuunut4EnmqmXoNdJFxMutvHghcEb43/n6zV+39EdrD4IO5fNut7FEk8rTXeYW/v0GI7uyQzTE8fkQ2ndlQQ9rS7+Xns/y2Nw0sTbyupPPw6SRg==</script> <treescope-run-here><script type=\"application/octet-stream\"> const root = ( Array.from(document.getElementsByClassName( \"treescope_out_5e3e9791f1a14e7088a4f9eaf566780d\")) .filter((elt) => !elt.dataset['step0']) )[0]; root.dataset['step0'] = 1; root.defns.insertContent( this.parentNode.querySelector('script[type=\"application/octet-stream\"]'), true ); this.parentNode.remove(); </script></treescope-run-here> </div>"
      ],
      "text/plain": [
       "<IPython.core.display.HTML object>"
      ]
     },
     "metadata": {},
     "output_type": "display_data"
    },
    {
     "data": {
      "text/html": [
       "<div style=\"display:none\"> <script type=\"application/octet-stream\" >eNrtGolS20ryVyZK7UN+YFnyfYBrZeOLxBAwCYRsym8sjaTBupDGNuZV/n17JPkmDjne262tdaosNNPd0/d0t3Os0ykK2dwmJ4JOQ9/G8ypyPZcIiOonguEFQ50YJAiIPizIRkkv6HIur+fy5VwFlxStUiplc3KhoJRHRaF+HPrYhW9Ory6NPMY8x6YuqboeEyXDs3U8ssnQ9XRStXAo1m08InZ9c2fIPNO0Y5yqZhFtTPRUCv2eQn8iH+s6dc008/wqkiWlQJwa4iekLUJNi1WRIkVrT2nq6uQR3mvI90LKqOdWUUBszOiU1NAXSfNsEA6PRgGZAuXotYpeF8tZLMsrAM1zHOKy4cwi7pA8gnw60X+ZPItTcfRZnepOnBEJ1gDkSlkpFFcAIQtAD+sUckpBKSwBwFxcLSuAkY21cQ2N4NsMvImrp5ONKQ7EdHpke9o4XkoBlBfoJIi1rPiPKPRsqu+DjE39LeAvSLLmPgmAs/EwII7HyNDypiDoNtO7bHpjW7PEcv4f3Oz5AlLkSkxxhsNhqAWebQM68ySDBiEbMqqNX0y1kpcUTleuICVXlErPEo7st/e41M6BLMDuwve2D0dKiAgOCThq2puwI2R4LkvPIjfe2uNW/TlnA8b8+WgCRnKBrY1Aj2RdbVerIwJRH3uOy8D1q0hAwhYUqiMe6s8C/4soeR0QInkM7FAbTjroY0YCim00mDsjzw7RxYRxLemoGWPC058f1BCoYDSmgMnRQ8fzmAWeXkXYZYBOQSt6ben1ROb/4H0ShHzB9ygQC5LDQ/pEeJqo8IywKWXsds9IEdHVcTAOCTYDQtwtzMgBNJtyxS7xscE2olWLPvvP3MLZPHJd9Uko6ZjhNHbBsJg7VGp9mR8CTrvubs/52PeJsuQADEOJ/mqTk+hI9Io6vhcwsM027VHgjSFj8pVE8Bdpdw1tTZ8LM3+RLM0aAqMaGdrEYGs3An/lti5o1iZcEAXUCjCI74klJL8nQFR9qFnU1gPiJsJjGmkx0kLE5SbgL7sClsEY5coacnBggrlieTRsa2JWs1Cap9Y4L4UMc/wlv38ZJ0lujznRIcODm/AEv2aOhwm2XeyQoR8Qgz4CkY3AK0eBt8Px1zS8DbdMpzEn4KObIH+7DWQpr1mpl/D69xglvmojrp69cDfKpUgOcHvbQr8jUQFx1lESuiFAkVQqtdTBCjX9ctzFuYuyIMJcklysppPlv1Gbq8Im0mA6wDqdhImACnFAuq8LFnH6k/fwt1z8z43aK7Yvj7kX1F77gb9IQPEvqcVXRv6Zcjyqr6PyCCpb/9kihcGFEcLNADkdqgJpCTx0gFO0hwJ1OU9xUceBQJpvAr7ksK/SSVg+zsSd0PGSWDqYuKCbANagiKQ+QwwK4pMD7INttOhiz3gaI5BCAQc7B3VqIBG9UoMAzyUj8BxR97QJ70gknmlDaYrtCQnFVEoKPYeIUf5FJ/XoKcXVFzo5eWn9JRxAFRs3Jm7IUGgRAtSQS2aoORgMuDQDviaCR0WbUkBAZI0M5q4m/vHPpObTyOIm+P76L75A+Elcj4GD7dp6aVxFed6ehYFWRZPAFnkxUuX7mZlnGNnaCMqdYv5Ilyudvqk21OjTu1RVL/qrcTWD725bVVvqvk/DUVVz7L3Re61Gc/ZRVa8/Ns/Ufq/RVNvmY6/71mJho0+JmWuf3mbf9oofpwN/Qt/1C9fK2W3v6kN/etN/Yu/m7Xbz8MYcX9PGqWzR08vJWUvv3MvdUcaY9nT/4U3Rerih9HLSdztW13jP1PfFxnmQV9s9d9wqau8nE/fwqvCghePZ1GjbmYdHs+WVzdHZrFNWumrGVa8Kb4PgTLk6NJ/kK11WzwzFPC81Z537rCl788lVqeS0lOKse1u5ME2fXI/nedIbPRW0UXDRYVg1L3vns1MczsPLSa93e9Nqz9R3l37vo/4+kzk0S9el2xyTjTfvHtRpAWi+Vc9Lan+mOubT1eBwcjcgrdvHrFHUns7zV915YdJQ3zw17v22n6Pdy2ZLvpu8yw9KrtF42+q2+45KD8vTVtZyFat0OPowu72fdYPpaed90703Wi2THV5od7ZdKlSaZ7NG2ark+/3OINe5U02nV7hvXFbYdYd0K61Go9fJnZr5q8xHbT5SO2DTD28y6mUHq6TftNXuU+vCvGNmsfHOvLjonTbG9LJA2o3bZqOtUdm3As93wTf8u9ap8qSMB0bTYNb8jdvVcTvsGvK502mdFxu6+vDhg49ZOLhzdB3TStZ4quTf0/uHou8ExQvvY3NAg44zPevkBjeDXLuV1RqXxvVh1/b8Tr4dzgrYfCiW6R0ZnNv+jdvo9ojeD8jk5qHTdJSbdjAeDB4L2eLNTThTgaMU+Dz4PhMPIrc+4Bn8D/haRj/WPR8KslVIhhCnnyRJ2gNxFMfsZ6AFTVUomYRdQXI7h4wmpiTLC5mkE8MNJQu7OtwAvAqPGwSgDe7hakiM6/QUTzGLLMFD8Nrj4QtgSR3P10JID5wEb0x4NY9nmDLk4ik1MfMCCSj7Iw8HujQLKCPX5JGJK1r8gotpaTYOw7c05CLporDWtQg8DRF2TR0C7Y0oJmzt4PFZw5TsoH45QllZlqOLHZIvFFEiST2HH5271poIK+YYcL3IYCeQqgX0GrUxtSGxMQ9x4FdRZoPix4ViGbIxBZ0RrPPO6nBddxEbX2pwaUQ3Q/048+y1AV0aijg7ETZvvGT8tpjmbRQA0EPpo3K+gGvPlTZwd9eETdIbVQCi4TCec3huNNoA4LhaOKauP0kuMSGqD0beo/AskaSUANRMhLR53mouxKBIJEyINJMekzmEnXUibLG3MWdJChu02RsKL9FVsrnVxgh1n7hPmK6KgMiPfQyGGxpgRD7LkcBQ0bQzfpx7EEsJdZ8LLW7uH2cSja2fu9MYbVaDwh7oHVAPGlvqYnsIN3Jw8l3KlTZwn1N1Mm8U6r+9fsyWapiXI+KnT4h/skdIKZQrpdIRvCi5XIE/kSKXIbpyhWyhCO+KUpaVaL1QLH7+nIrJbGroaNdecLaN/RCitY4WwDtAi6HsJt8Hq6HCAfLcJo/6k4PvTHsih08doOXE40QQbeyMdIx4VViNvje1lxJWAbhEg/rnm3h89LU95AG8KDVwM8HfywF7Zs/jBzyG6j/qL1R/1lvi8bVQV6BWK+aVSk5WCqWi/L9mb6r/iLUB6z9o6yhV/6C1Oe6+e+LXXwt7foMR9rrG62f9ZyfPg6P680Umd/Uor+1L2Ps42Bkk7t0X6r/OCOs/ZUGKtlkt2kBxlo1lTISLl34zWW2PK/2XhRmX+EcCLcL7VaH20jDc0t3R//X7Xfr9apG3+jEZbc32hXrq+6yzMbb5ZijF4fPzFc9uyC0eOp1+e0QkfG1EJNTjLizOGz096gOFl/9o/7mWdHGexs0L2LveVks6Pc5kApSASw8TEswHxCYatHSisDU3E5aoRoBNJ26Slh2qBvwzcpq8thOI3eOatgdmP1nSkEAXxNWbPI+KCyBo1wAq4pcFk2hcCy00Em3CEAVkuQaP45WaJJu4JrNg9fCQN30cLt5cPwleWzbhfzbmPThsgf2JfoYDOE7oTQKNnNLp15Xymv83Ct7tbaHHr4sR2g1llrikFv+wnJwdScp73eVu0tFGPeNSA+uENnSX+kZX+W8DYeOl</script> <treescope-run-here><script type=\"application/octet-stream\"> const root = ( Array.from(document.getElementsByClassName( \"treescope_out_5e3e9791f1a14e7088a4f9eaf566780d\")) .filter((elt) => !elt.dataset['step1']) )[0]; root.dataset['step1'] = 1; root.defns.insertContent( this.parentNode.querySelector('script[type=\"application/octet-stream\"]'), true ); this.parentNode.remove(); </script></treescope-run-here> </div>"
      ],
      "text/plain": [
       "<IPython.core.display.HTML object>"
      ]
     },
     "metadata": {},
     "output_type": "display_data"
    },
    {
     "data": {
      "text/html": [
       "<treescope-run-here><script type=\"application/octet-stream\"> const root = ( Array.from(document.getElementsByClassName( \"treescope_out_5e3e9791f1a14e7088a4f9eaf566780d\")) .filter((elt) => !elt.dataset.stolen) )[0]; root.dataset.stolen = 1; this.parentNode.replaceChild(root, this); </script></treescope-run-here>"
      ],
      "text/plain": [
       "array([[     2, 158977,   1335,    108, 235256,  11801,    566]])"
      ]
     },
     "execution_count": 7,
     "metadata": {},
     "output_type": "execute_result"
    }
   ],
   "source": [
    "text = \"aasda\\nsadsad\"\n",
    "\n",
    "tokenizer(text, return_tensors=\"np\")[\"input_ids\"]"
   ]
  },
  {
   "cell_type": "code",
   "execution_count": 8,
   "metadata": {},
   "outputs": [],
   "source": [
    "from sprint.task_vector_utils import load_tasks, ICLRunner\n",
    "tasks = load_tasks()"
   ]
  },
  {
   "cell_type": "code",
   "execution_count": 9,
   "metadata": {},
   "outputs": [
    {
     "name": "stdout",
     "output_type": "stream",
     "text": [
      "763\n",
      "346\n"
     ]
    }
   ],
   "source": [
    "def check_if_single_token(token):\n",
    "    return len(tokenizer.tokenize(token)) == 1\n",
    "\n",
    "task_name = \"es_en\"\n",
    "\n",
    "task = tasks[task_name]\n",
    "\n",
    "print(len(task))\n",
    "\n",
    "task = {\n",
    "    k:v for k,v in task.items() if check_if_single_token(k) and check_if_single_token(v)\n",
    "}\n",
    "\n",
    "print(len(task))\n",
    "\n",
    "pairs = list(task.items())\n",
    "\n",
    "batch_size = 8 \n",
    "n_shot=20\n",
    "max_seq_len = 128\n",
    "seed = 10\n",
    "\n",
    "prompt = \"Follow the pattern:\\n{}\"\n",
    "\n",
    "runner = ICLRunner(task_name, pairs, batch_size=batch_size, n_shot=n_shot, max_seq_len=max_seq_len, seed=seed, prompt=prompt)"
   ]
  },
  {
   "cell_type": "code",
   "execution_count": 10,
   "metadata": {},
   "outputs": [
    {
     "name": "stdout",
     "output_type": "stream",
     "text": [
      "Setting up masks...\n",
      "Running metrics...\n",
      "Setting up RMS...\n"
     ]
    },
    {
     "data": {
      "application/vnd.jupyter.widget-view+json": {
       "model_id": "91ebe8f50e2c4f02b6356242a53f0365",
       "version_major": 2,
       "version_minor": 0
      },
      "text/plain": [
       "  0%|          | 0/18 [00:00<?, ?it/s]"
      ]
     },
     "metadata": {},
     "output_type": "display_data"
    },
    {
     "name": "stdout",
     "output_type": "stream",
     "text": [
      "Loading SAEs...\n"
     ]
    },
    {
     "data": {
      "application/vnd.jupyter.widget-view+json": {
       "model_id": "48a4a6dc639c4770a0f6ef17182bb39f",
       "version_major": 2,
       "version_minor": 0
      },
      "text/plain": [
       "  0%|          | 0/11 [00:00<?, ?it/s]"
      ]
     },
     "metadata": {},
     "output_type": "display_data"
    },
    {
     "name": "stdout",
     "output_type": "stream",
     "text": [
      "Running node IEs...\n"
     ]
    },
    {
     "data": {
      "application/vnd.jupyter.widget-view+json": {
       "model_id": "2c180c4031c94027aa125160664a7ead",
       "version_major": 2,
       "version_minor": 0
      },
      "text/plain": [
       "  0%|          | 0/11 [00:00<?, ?it/s]"
      ]
     },
     "metadata": {},
     "output_type": "display_data"
    },
    {
     "data": {
      "application/vnd.jupyter.widget-view+json": {
       "model_id": "383ee94d937940c7b626544de1304be8",
       "version_major": 2,
       "version_minor": 0
      },
      "text/plain": [
       "  0%|          | 0/11 [00:00<?, ?it/s]"
      ]
     },
     "metadata": {},
     "output_type": "display_data"
    },
    {
     "data": {
      "application/vnd.jupyter.widget-view+json": {
       "model_id": "2534cd6e10c549ea912b67cb0c293ff6",
       "version_major": 2,
       "version_minor": 0
      },
      "text/plain": [
       "  0%|          | 0/10 [00:00<?, ?it/s]"
      ]
     },
     "metadata": {},
     "output_type": "display_data"
    }
   ],
   "source": [
    "layers = list(range(6, 17))\n",
    "circuitizer = Circuitizer(llama, tokenizer, runner, layers, prompt)"
   ]
  },
  {
   "cell_type": "code",
   "execution_count": 11,
   "metadata": {},
   "outputs": [],
   "source": [
    "import numpy as np\n",
    "\n",
    "thresholds = np.linspace(1e-7, 1e-5, 100)\n",
    "topks = [4, 6, 12, 16, 24, 32]"
   ]
  },
  {
   "cell_type": "code",
   "execution_count": 13,
   "metadata": {},
   "outputs": [
    {
     "data": {
      "application/vnd.jupyter.widget-view+json": {
       "model_id": "3b830fc64bae4695b0d72cf78dc07ba3",
       "version_major": 2,
       "version_minor": 0
      },
      "text/plain": [
       "  0%|          | 0/100 [00:00<?, ?it/s]"
      ]
     },
     "metadata": {},
     "output_type": "display_data"
    }
   ],
   "source": [
    "ablated_metrics, n_nodes_counts = circuitizer.run_ablated_metrics(thresholds)"
   ]
  },
  {
   "cell_type": "code",
   "execution_count": 14,
   "metadata": {},
   "outputs": [],
   "source": [
    "target_metric = (max(ablated_metrics) - min(ablated_metrics)) * 0.95 + min(ablated_metrics)\n",
    "target_threshold = [threshold for threshold, metric in reversed(list(zip(thresholds, ablated_metrics))) if metric > target_metric][0]"
   ]
  },
  {
   "cell_type": "code",
   "execution_count": 15,
   "metadata": {},
   "outputs": [
    {
     "data": {
      "application/vnd.jupyter.widget-view+json": {
       "model_id": "b5c8b64d2ec04108a8462a27066d9760",
       "version_major": 2,
       "version_minor": 0
      },
      "text/plain": [
       "  0%|          | 0/11 [00:00<?, ?it/s]"
      ]
     },
     "metadata": {},
     "output_type": "display_data"
    }
   ],
   "source": [
    "from tqdm.auto import tqdm\n",
    "import numpy as np\n",
    "\n",
    "combined_ies = {}\n",
    "typed_ies = {\n",
    "    \"r\": circuitizer.ie_resid,\n",
    "    \"a\": circuitizer.ie_attn,\n",
    "    \"t\": circuitizer.ie_transcoder,\n",
    "}\n",
    "\n",
    "for layer in tqdm(layers):\n",
    "    for type in typed_ies:\n",
    "        if layer in typed_ies[type]: \n",
    "            ies = typed_ies[type][layer]\n",
    "            for mask in circuitizer.masks:\n",
    "                ies_mask = circuitizer.mask_average(ies, mask)\n",
    "                i = np.nonzero(np.abs(ies_mask) > target_threshold)[0]\n",
    "                w = ies_mask[i]\n",
    "\n",
    "                for idx, weight in zip(i.tolist(), w.tolist()):\n",
    "                    combined_ies[(layer, mask, type, idx)] = weight\n",
    "\n",
    "                # w, i = jax.lax.top_k(ies_mask, 4)\n",
    "                # for idx, weight in zip(i.tolist(), w.tolist()):\n",
    "                #     combined_ies[(layer, mask, type, idx)] = weight"
   ]
  },
  {
   "cell_type": "code",
   "execution_count": 16,
   "metadata": {},
   "outputs": [],
   "source": [
    "combined_ies = [\n",
    "    key + (weight,)\n",
    "    for key, weight in combined_ies.items()\n",
    "]"
   ]
  },
  {
   "cell_type": "code",
   "execution_count": 17,
   "metadata": {},
   "outputs": [
    {
     "data": {
      "application/vnd.jupyter.widget-view+json": {
       "model_id": "7ec423c7efa4449db1b1adbc3cebbe0a",
       "version_major": 2,
       "version_minor": 0
      },
      "text/plain": [
       "  0%|          | 0/11 [00:00<?, ?it/s]"
      ]
     },
     "metadata": {},
     "output_type": "display_data"
    }
   ],
   "source": [
    "typed_ies_error = {\n",
    "    \"er\": circuitizer.ie_error_resid,\n",
    "    \"ea\": circuitizer.ie_error_attn,\n",
    "    \"et\": circuitizer.ie_error_transcoder,\n",
    "}\n",
    "\n",
    "for layer in tqdm(layers):\n",
    "    for type in typed_ies_error:\n",
    "        if layer in typed_ies_error[type]: \n",
    "            ies = typed_ies_error[type][layer]\n",
    "            for mask in circuitizer.masks:\n",
    "                ies_mask = circuitizer.mask_average(ies, mask)\n",
    "                # print(ies_mask.tolist())\n",
    "                # raise\n",
    "                combined_ies.append((layer, mask, type, 0, ies_mask.tolist()))"
   ]
  },
  {
   "cell_type": "code",
   "execution_count": 18,
   "metadata": {},
   "outputs": [],
   "source": [
    "combined_ies = sorted(combined_ies, key=lambda x: -x[-1])"
   ]
  },
  {
   "cell_type": "code",
   "execution_count": 19,
   "metadata": {},
   "outputs": [],
   "source": [
    "important_feats_masks = {}\n",
    "for mask in circuitizer.masks:\n",
    "    important_feats_masks[mask] = [\n",
    "        (type, layer, feat) for layer, f_mask, type, feat, _ in combined_ies if f_mask == mask\n",
    "        ]"
   ]
  },
  {
   "cell_type": "code",
   "execution_count": 20,
   "metadata": {},
   "outputs": [],
   "source": [
    "from collections import defaultdict\n",
    "flat_feats = defaultdict(list)\n",
    "for k, v in important_feats_masks.items():\n",
    "    for type, layer, feat in v:\n",
    "        flat_feats[(k, type, layer)].append(feat)"
   ]
  },
  {
   "cell_type": "code",
   "execution_count": 36,
   "metadata": {},
   "outputs": [
    {
     "data": {
      "application/vnd.jupyter.widget-view+json": {
       "model_id": "3f013b142d974d358eb521991fe903d5",
       "version_major": 2,
       "version_minor": 0
      },
      "text/plain": [
       "  0%|          | 0/320 [00:00<?, ?it/s]"
      ]
     },
     "metadata": {},
     "output_type": "display_data"
    },
    {
     "data": {
      "application/vnd.jupyter.widget-view+json": {
       "model_id": "0589ecebccde4b44a58baac2a7f3a624",
       "version_major": 2,
       "version_minor": 0
      },
      "text/plain": [
       "  0%|          | 0/81 [00:00<?, ?it/s, ('arrow', 'a', 16)]"
      ]
     },
     "metadata": {},
     "output_type": "display_data"
    },
    {
     "name": "stdout",
     "output_type": "stream",
     "text": [
      "dict_keys([('er', 16, 'arrow'), ('er', 16, 'input'), ('er', 16, 'newline'), ('er', 16, 'output'), ('er', 16, 'prompt'), ('r', 16, 'arrow'), ('r', 16, 'input'), ('r', 16, 'newline'), ('r', 16, 'output'), ('r', 16, 'prompt')]) [26950, 25539, 1085, 14538, 19232, 7123, 20911, 12264, 12539, 12413, 32120, 26574, 23636, 23114, 178, 12793]\n",
      "('er', 16, 'arrow') (16,)\n",
      "('er', 16, 'input') (16,)\n",
      "('er', 16, 'newline') (16,)\n",
      "('er', 16, 'output') (16,)\n",
      "('er', 16, 'prompt') (16,)\n",
      "('r', 16, 'arrow') (16, 32768)\n",
      "('r', 16, 'input') (16, 32768)\n",
      "('r', 16, 'newline') (16, 32768)\n",
      "('r', 16, 'output') (16, 32768)\n",
      "('r', 16, 'prompt') (16, 32768)\n",
      "[(6.0595695686060935e-05, ('er', 16, 'input', 0), ('a', 16, 'arrow', 26950)), (4.51656014774926e-05, ('r', 16, 'prompt', 5241), ('a', 16, 'arrow', 26950)), (3.955366264563054e-05, ('r', 16, 'arrow', 29818), ('a', 16, 'arrow', 26950)), (3.92732436012011e-05, ('r', 16, 'arrow', 24991), ('a', 16, 'arrow', 26950)), (3.684913463075645e-05, ('er', 16, 'prompt', 0), ('a', 16, 'arrow', 26950)), (2.9562317649833858e-05, ('er', 16, 'arrow', 0), ('a', 16, 'arrow', 26950)), (2.319858867849689e-05, ('r', 16, 'arrow', 17821), ('a', 16, 'arrow', 26950)), (2.309978663106449e-05, ('r', 16, 'input', 11940), ('a', 16, 'arrow', 26950)), (2.1727033526985906e-05, ('r', 16, 'input', 1925), ('a', 16, 'arrow', 26950)), (2.1575855498667806e-05, ('r', 16, 'arrow', 4864), ('a', 16, 'arrow', 26950)), (1.8731390809989534e-05, ('r', 16, 'arrow', 2353), ('a', 16, 'arrow', 26950)), (1.5680485375924036e-05, ('r', 16, 'input', 471), ('a', 16, 'arrow', 26950)), (1.5463583622477017e-05, ('er', 16, 'newline', 0), ('a', 16, 'arrow', 26950)), (1.5248271665768698e-05, ('r', 16, 'input', 1913), ('a', 16, 'arrow', 26950)), (1.2924692782689817e-05, ('r', 16, 'arrow', 21347), ('a', 16, 'arrow', 26950)), (1.2538909686554689e-05, ('r', 16, 'input', 23790), ('a', 16, 'arrow', 26950)), (1.1613489732553717e-05, ('r', 16, 'newline', 1925), ('a', 16, 'arrow', 26950)), (1.1381651347619481e-05, ('r', 16, 'input', 12482), ('a', 16, 'arrow', 26950)), (1.095333482226124e-05, ('r', 16, 'output', 15037), ('a', 16, 'arrow', 26950)), (1.0365569323766977e-05, ('r', 16, 'arrow', 27427), ('a', 16, 'arrow', 26950)), (9.921205673890654e-06, ('r', 16, 'arrow', 7141), ('a', 16, 'arrow', 26950)), (9.598125870979857e-06, ('r', 16, 'arrow', 22168), ('a', 16, 'arrow', 26950)), (9.365824553242419e-06, ('r', 16, 'input', 14619), ('a', 16, 'arrow', 26950)), (9.272104762203526e-06, ('r', 16, 'arrow', 25420), ('a', 16, 'arrow', 26950)), (9.169873919745442e-06, ('r', 16, 'arrow', 8695), ('a', 16, 'arrow', 26950)), (8.940999578044284e-06, ('r', 16, 'input', 5232), ('a', 16, 'arrow', 26950)), (8.259105925390031e-06, ('r', 16, 'arrow', 28952), ('a', 16, 'arrow', 26950)), (7.690877282584552e-06, ('r', 16, 'input', 1126), ('a', 16, 'arrow', 26950)), (7.600306616950547e-06, ('r', 16, 'output', 8078), ('a', 16, 'arrow', 26950)), (7.406010354316095e-06, ('r', 16, 'input', 28017), ('a', 16, 'arrow', 26950)), (7.295067916857079e-06, ('r', 16, 'input', 21343), ('a', 16, 'arrow', 26950)), (7.205359906947706e-06, ('r', 16, 'arrow', 25826), ('a', 16, 'arrow', 26950))]\n"
     ]
    },
    {
     "ename": "ZeroDivisionError",
     "evalue": "division by zero",
     "output_type": "error",
     "traceback": [
      "\u001b[0;31m---------------------------------------------------------------------------\u001b[0m",
      "\u001b[0;31mZeroDivisionError\u001b[0m                         Traceback (most recent call last)",
      "Cell \u001b[0;32mIn[36], line 36\u001b[0m\n\u001b[1;32m     34\u001b[0m             graph\u001b[38;5;241m.\u001b[39mextend([(weight,  key \u001b[38;5;241m+\u001b[39m (upstream_feature,), (\u001b[38;5;28mtype\u001b[39m[\u001b[38;5;241m1\u001b[39m], \u001b[38;5;28mtype\u001b[39m[\u001b[38;5;241m2\u001b[39m], \u001b[38;5;28mtype\u001b[39m[\u001b[38;5;241m0\u001b[39m], batch_features[elem],) ) \u001b[38;5;28;01mfor\u001b[39;00m weight, key, upstream_feature \u001b[38;5;129;01min\u001b[39;00m edges])\n\u001b[1;32m     35\u001b[0m             \u001b[38;5;28mprint\u001b[39m(graph)\n\u001b[0;32m---> 36\u001b[0m             \u001b[38;5;241;43m1\u001b[39;49m\u001b[38;5;241;43m/\u001b[39;49m\u001b[38;5;241;43m0\u001b[39;49m\n\u001b[1;32m     38\u001b[0m         \u001b[38;5;66;03m# # edges = circuitizer.compute_edges(*feature, mask, layer_window=1)\u001b[39;00m\n\u001b[1;32m     39\u001b[0m         \u001b[38;5;66;03m# graph.extend([(weight, feature, downstream_feature) for weight, _, downstream_feature in edges])\u001b[39;00m\n\u001b[1;32m     40\u001b[0m     \n\u001b[0;32m   (...)\u001b[0m\n\u001b[1;32m     71\u001b[0m \u001b[38;5;66;03m#     #     graph.extend([(weight, upstream_feature_key + (upstream_feature,), downstream_feature[:2] + (mask,) + downstream_feature[2:])\u001b[39;00m\n\u001b[1;32m     72\u001b[0m \u001b[38;5;66;03m#     #                   for weight, upstream_feature_key, upstream_feature in edges])\u001b[39;00m\n",
      "\u001b[0;31mZeroDivisionError\u001b[0m: division by zero"
     ]
    }
   ],
   "source": [
    "from tqdm.auto import trange\n",
    "import jax.numpy as jnp\n",
    "graph = []\n",
    "\n",
    "batch_size = 16\n",
    "k = 32\n",
    "for type, features in tqdm(sorted(flat_feats.items(), key=lambda x: (-x[0][-1], x[0][-2], x[0][-3]))):\n",
    "    mask, feature_type, layer = type\n",
    "    mask = jnp.array(list(circuitizer.masks.keys()).index(mask))\n",
    "    for batch in trange(0, len(features), batch_size, postfix=str(type)):\n",
    "        batch_features = features[batch:batch+batch_size]\n",
    "        orig_length = len(batch_features)\n",
    "        batch_features = batch_features + [0] * (batch_size - len(batch_features))\n",
    "        feature_effectss = jax.vmap(lambda x: circuitizer.compute_feature_effects(feature_type, layer, x, mask, layer_window=1))(jnp.asarray(batch_features))\n",
    "        # feature_effectss = circuitizer.compute_feature_effects(feature_type, layer, batch_features, mask, layer_window=1)\n",
    "        top_effects = defaultdict(list)\n",
    "        for key, featuress in feature_effectss.items():\n",
    "            for elem, feature_effects in enumerate(featuress):\n",
    "                if elem >= orig_length:\n",
    "                    continue\n",
    "                if feature_effects.ndim == 0:\n",
    "                    top_effects[elem].append((float(feature_effects), key, 0))\n",
    "                    continue\n",
    "                effects, indices = jax.lax.top_k(jnp.abs(feature_effects), k)\n",
    "                for i, e in zip(indices.tolist(), effects.tolist()):\n",
    "                    top_effects[elem].append((e, key, i))\n",
    "        for elem, effects in top_effects.items():\n",
    "            effects.sort(reverse=True)\n",
    "            edges = effects[:k]\n",
    "            graph.extend([(weight,  key + (upstream_feature,), (type[1], type[2], type[0], batch_features[elem],) ) for weight, key, upstream_feature in edges])\n",
    "        \n",
    "        # # edges = circuitizer.compute_edges(*feature, mask, layer_window=1)\n",
    "        # graph.extend([(weight, feature, downstream_feature) for weight, _, downstream_feature in edges])\n",
    "    \n",
    "        # for feature in tqdm(batch_features):\n",
    "        #     feature_effects = circuitizer.compute_feature_effects(feature_type, layer, feature, mask, layer_window=1)\n",
    "        #     top_effects = []\n",
    "        #     for key, features in feature_effects.items():\n",
    "        #         if features.ndim == 0:\n",
    "        #             top_effects.append((float(features), key, 0))\n",
    "        #             continue\n",
    "        #         effects, indices = jax.lax.top_k(jnp.abs(features), k)\n",
    "        #         for i, e in zip(indices.tolist(), effects.tolist()):\n",
    "        #             top_effects.append((e, key, i))\n",
    "        #     top_effects.sort(reverse=True)\n",
    "        #     edges = top_effects[:k]\n",
    "            \n",
    "        #     # edges = circuitizer.compute_edges(*feature, mask, layer_window=1)\n",
    "        #     graph.extend([(weight, feature, downstream_feature) for weight, _, downstream_feature in edges])\n",
    "\n",
    "\n",
    "\n",
    "# for mask, features in tqdm(important_feats_masks.items()):\n",
    "#     for batch in trange(0, len(features), batch_size):\n",
    "#         batch_features = features[batch:batch+batch_size]\n",
    "        \n",
    "        \n",
    "#         for feature in tqdm(batch_features):\n",
    "#             # edges = circuitizer.compute_edges(*feature, mask, layer_window=1)\n",
    "#             graph.extend([(weight, feature, downstream_feature) for weight, _, downstream_feature in edges])\n",
    "\n",
    "\n",
    "#     # for downstream_feature in tqdm(features):\n",
    "#     #     edges = compute_edges(downstream_feature, mask, layer_window=1)\n",
    "#     #     graph.extend([(weight, upstream_feature_key + (upstream_feature,), downstream_feature[:2] + (mask,) + downstream_feature[2:])\n",
    "#     #                   for weight, upstream_feature_key, upstream_feature in edges])"
   ]
  },
  {
   "cell_type": "code",
   "execution_count": 37,
   "metadata": {},
   "outputs": [
    {
     "data": {
      "text/html": [
       "<script> (()=>{ if (customElements.get('treescope-container') === undefined) { class TreescopeContainer extends HTMLElement { constructor() { super(); this.attachShadow({mode: \"open\"}); this.defns = {}; this.state = {}; } } customElements.define(\"treescope-container\", TreescopeContainer); } if (customElements.get('treescope-run-here') === undefined) { class RunHere extends HTMLElement { constructor() { super() } connectedCallback() { const run = child => { const fn = new Function(child.textContent); child.textContent = \"\"; fn.call(this); this.remove(); }; const child = this.querySelector(\"script\"); if (child) { run(child); } else { new MutationObserver(()=>{ run(this.querySelector(\"script\")); }).observe(this, {childList: true}); } } } customElements.define(\"treescope-run-here\", RunHere); } })(); </script> <treescope-container class=\"treescope_out_a8b7216ceca04b2eac50770d71bef7eb\" ></treescope-container> <treescope-run-here><script type=\"application/octet-stream\"> const root = ( Array.from(document.getElementsByClassName( \"treescope_out_a8b7216ceca04b2eac50770d71bef7eb\")) .filter((elt) => !elt.dataset.setup) )[0]; root.dataset.setup = 1; const msg = document.createElement(\"span\"); msg.style = \"color: #aaaaaa; font-family: monospace; transition: opacity 0.2s; opacity: 0.0;\"; msg.textContent = \"(Loading...)\"; root.state.loadingMsg = msg; root.shadowRoot.appendChild(msg); root.state.chain = new Promise((resolve, reject) => { const observer = new IntersectionObserver((entries) => { for (const entry of entries) { if (entry.isIntersecting) { resolve(); observer.disconnect(); return; } } }, {rootMargin: \"1000px\"}); window.setTimeout(() => { if (root.loadingMsg) { root.loadingMsg.style.opacity = \"1.0\"; } observer.observe(root); }, 0); }); root.state.deferring = false; const _insertNode = (node) => { for (let oldScript of node.querySelectorAll(\"script\")) { let newScript = document.createElement(\"script\"); newScript.type = oldScript.type; newScript.textContent = oldScript.textContent; oldScript.parentNode.replaceChild(newScript, oldScript); } if (root.state.loadingMsg) { root.state.loadingMsg.remove(); root.state.loadingMsg = null; } root.shadowRoot.appendChild(node); }; root.defns.insertContent = ((contentNode, compressed) => { if (compressed) { root.state.deferring = true; } if (root.state.deferring) { root.state.chain = (async () => { await root.state.chain; if (compressed) { const encoded = contentNode.textContent; const blob = new Blob([ Uint8Array.from(atob(encoded), (m) => m.codePointAt(0)) ]); const reader = blob.stream().pipeThrough( new DecompressionStream(\"deflate\") ).pipeThrough( new TextDecoderStream(\"utf-8\") ).getReader(); const parts = []; while (true) { const step = await reader.read(); if (step.done) { break; } parts.push(step.value); } const tpl = document.createElement('template'); tpl.innerHTML = parts.join(\"\"); _insertNode(tpl.content); } else { _insertNode(contentNode.content); } })(); } else { _insertNode(contentNode.content); } }); </script></treescope-run-here><div style=\"display:none\"> <script type=\"application/octet-stream\" >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</script> <treescope-run-here><script type=\"application/octet-stream\"> const root = ( Array.from(document.getElementsByClassName( \"treescope_out_a8b7216ceca04b2eac50770d71bef7eb\")) .filter((elt) => !elt.dataset['step0']) )[0]; root.dataset['step0'] = 1; root.defns.insertContent( this.parentNode.querySelector('script[type=\"application/octet-stream\"]'), true ); this.parentNode.remove(); </script></treescope-run-here> </div>"
      ],
      "text/plain": [
       "<IPython.core.display.HTML object>"
      ]
     },
     "metadata": {},
     "output_type": "display_data"
    },
    {
     "data": {
      "text/html": [
       "<treescope-run-here><script type=\"application/octet-stream\"> const root = ( Array.from(document.getElementsByClassName( \"treescope_out_a8b7216ceca04b2eac50770d71bef7eb\")) .filter((elt) => !elt.dataset.stolen) )[0]; root.dataset.stolen = 1; this.parentNode.replaceChild(root, this); </script></treescope-run-here>"
      ],
      "text/plain": [
       "(11, 'arrow', 'a', 23594, 0.41276583075523376)"
      ]
     },
     "execution_count": 37,
     "metadata": {},
     "output_type": "execute_result"
    }
   ],
   "source": [
    "combined_ies[0]"
   ]
  },
  {
   "cell_type": "code",
   "execution_count": null,
   "metadata": {},
   "outputs": [],
   "source": [
    "sorted_graph = sorted(graph, reverse=True, key=lambda x: x[0])"
   ]
  }
 ],
 "metadata": {
  "kernelspec": {
   "display_name": "micrlhf-progress-_SD4q1c9-py3.12",
   "language": "python",
   "name": "python3"
  },
  "language_info": {
   "codemirror_mode": {
    "name": "ipython",
    "version": 3
   },
   "file_extension": ".py",
   "mimetype": "text/x-python",
   "name": "python",
   "nbconvert_exporter": "python",
   "pygments_lexer": "ipython3",
   "version": "3.10.12"
  }
 },
 "nbformat": 4,
 "nbformat_minor": 2
}
