{
 "cells": [
  {
   "cell_type": "code",
   "execution_count": 4,
   "metadata": {},
   "outputs": [
    {
     "name": "stderr",
     "output_type": "stream",
     "text": [
      "Cloning into 'data/itv'...\n"
     ]
    }
   ],
   "source": [
    "from sprint.task_vector_utils import load_tasks\n",
    "\n",
    "tasks = load_tasks()\n",
    "task_names = list(tasks.keys())"
   ]
  },
  {
   "cell_type": "code",
   "execution_count": 7,
   "metadata": {},
   "outputs": [
    {
     "name": "stdout",
     "output_type": "stream",
     "text": [
      "source {'present_simple_gerund': [8446], 'present_simple_past_perfect': [19628], 'plural_singular': [29228], 'algo_last': [29228], 'location_country': [11459], 'location_continent': [11459], 'person_profession': [26436], 'football_player_position': [19916], 'present_simple_past_simple': [21327], 'es_en': [31123], 'fr_en': [31123], 'it_en': [31123], 'country_capital': [13529], 'antonyms': [11050], 'singular_plural': [1322], 'person_language': [1132], 'algo_second': [32115], 'algo_first': [32115], 'location_religion': [3466], 'en_fr': [7928], 'en_it': [7928], 'location_language': [10884], 'en_es': [99]}\n",
      "target {'present_simple_gerund': [15554], 'present_simple_past_perfect': [15356], 'plural_singular': [2930], 'algo_last': [8633], 'location_country': [7967], 'location_continent': [19260], 'person_profession': [18416], 'football_player_position': [9790], 'present_simple_past_simple': [15356], 'es_en': [5579], 'fr_en': [16490], 'it_en': [5579], 'country_capital': [11173], 'antonyms': [11618], 'singular_plural': [32417], 'person_language': [11172], 'algo_second': [1878], 'algo_first': [6756], 'location_religion': [9178], 'en_fr': [26987], 'en_it': [26987], 'location_language': [11172], 'en_es': [26987]}\n"
     ]
    },
    {
     "name": "stdout",
     "output_type": "stream",
     "text": [
      "fatal: destination path 'data/itv' already exists and is not an empty directory.\n",
      "person_profession 821\n",
      "821\n",
      "Setting up masks...\n",
      "Running metrics...\n",
      "Setting up RMS...\n",
      "100%|███████████████████████████████████████████| 18/18 [00:04<00:00,  4.04it/s]\n",
      "Loading SAEs...\n",
      "100%|█████████████████████████████████████████████| 2/2 [00:16<00:00,  8.05s/it]\n",
      "Running node IEs...\n",
      "100%|█████████████████████████████████████████████| 2/2 [00:09<00:00,  4.76s/it]\n",
      "100%|█████████████████████████████████████████████| 2/2 [00:00<00:00, 69.06it/s]\n",
      "100%|█████████████████████████████████████████████| 1/1 [00:00<00:00,  1.24it/s]\n",
      "Max activation for 12 32417 0.0\n",
      "Skipping 26436 32417 (no activations)\n",
      "Max activation for 12 15554 0.0\n",
      "Skipping 26436 15554 (no activations)\n",
      "Max activation for 12 11618 0.0\n",
      "Skipping 26436 11618 (no activations)\n",
      "Max activation for 12 11172 0.0\n",
      "Skipping 26436 11172 (no activations)\n",
      "Max activation for 12 11173 0.0\n",
      "Skipping 26436 11173 (no activations)\n",
      "Max activation for 12 19260 0.0\n",
      "Skipping 26436 19260 (no activations)\n",
      "Skipping 26436 6756 (no high proportion)\n",
      "Max activation for 12 16490 0.0\n",
      "Skipping 26436 16490 (no activations)\n",
      "Max activation for 12 5579 0.0\n",
      "Skipping 26436 5579 (no activations)\n",
      "Max activation for 12 26987 0.0\n",
      "Skipping 26436 26987 (no activations)\n",
      "Skipping 26436 18416 (no high proportion)\n",
      "Skipping 26436 2930 (no high proportion)\n",
      "Max activation for 12 1878 0.0\n",
      "Skipping 26436 1878 (no activations)\n",
      "Max activation for 12 9178 0.0\n",
      "Skipping 26436 9178 (no activations)\n",
      "Max activation for 12 15356 0.0\n",
      "Skipping 26436 15356 (no activations)\n",
      "Max activation for 12 9790 0.0\n",
      "Skipping 26436 9790 (no activations)\n",
      "Max activation for 12 7967 0.0\n",
      "Skipping 26436 7967 (no activations)\n",
      "Max activation for 12 32417 0.0\n",
      "Skipping 29228 32417 (no activations)\n",
      "Max activation for 12 15554 0.0\n",
      "Skipping 29228 15554 (no activations)\n",
      "Max activation for 12 11618 0.0\n",
      "Skipping 29228 11618 (no activations)\n",
      "Max activation for 12 11172 0.0\n",
      "Skipping 29228 11172 (no activations)\n",
      "Max activation for 12 11173 0.0\n",
      "Skipping 29228 11173 (no activations)\n",
      "Max activation for 12 19260 0.0\n",
      "Skipping 29228 19260 (no activations)\n",
      "Skipping 29228 6756 (no high proportion)\n",
      "Max activation for 12 16490 0.0\n",
      "Skipping 29228 16490 (no activations)\n",
      "Max activation for 12 5579 0.0\n",
      "Skipping 29228 5579 (no activations)\n",
      "Max activation for 12 26987 0.0\n",
      "Skipping 29228 26987 (no activations)\n",
      "Skipping 29228 18416 (no high proportion)\n",
      "Skipping 29228 2930 (no high proportion)\n",
      "Max activation for 12 1878 0.0\n",
      "Skipping 29228 1878 (no activations)\n",
      "Max activation for 12 9178 0.0\n",
      "Skipping 29228 9178 (no activations)\n",
      "Max activation for 12 15356 0.0\n",
      "Skipping 29228 15356 (no activations)\n",
      "Max activation for 12 9790 0.0\n",
      "Skipping 29228 9790 (no activations)\n",
      "Max activation for 12 7967 0.0\n",
      "Skipping 29228 7967 (no activations)\n",
      "Max activation for 12 32417 0.0\n",
      "Skipping 32115 32417 (no activations)\n",
      "Max activation for 12 15554 0.0\n",
      "Skipping 32115 15554 (no activations)\n",
      "Max activation for 12 11618 0.0\n",
      "Skipping 32115 11618 (no activations)\n",
      "Max activation for 12 11172 0.0\n",
      "Skipping 32115 11172 (no activations)\n",
      "Max activation for 12 11173 0.0\n",
      "Skipping 32115 11173 (no activations)\n",
      "Max activation for 12 19260 0.0\n",
      "Skipping 32115 19260 (no activations)\n",
      "Skipping 32115 6756 (no high proportion)\n",
      "Max activation for 12 16490 0.0\n",
      "Skipping 32115 16490 (no activations)\n",
      "Max activation for 12 5579 0.0\n",
      "Skipping 32115 5579 (no activations)\n",
      "Max activation for 12 26987 0.0\n",
      "Skipping 32115 26987 (no activations)\n",
      "Skipping 32115 18416 (no high proportion)\n",
      "Skipping 32115 2930 (no high proportion)\n",
      "Max activation for 12 1878 0.0\n",
      "Skipping 32115 1878 (no activations)\n",
      "Max activation for 12 9178 0.0\n",
      "Skipping 32115 9178 (no activations)\n",
      "Max activation for 12 15356 0.0\n",
      "Skipping 32115 15356 (no activations)\n",
      "Max activation for 12 9790 0.0\n",
      "Skipping 32115 9790 (no activations)\n",
      "Max activation for 12 7967 0.0\n",
      "Skipping 32115 7967 (no activations)\n"
     ]
    }
   ],
   "source": [
    "for task_name in ['person_profession']:\n",
    "    !python attn_linear_effects_full_block.py {task_name}   "
   ]
  },
  {
   "cell_type": "code",
   "execution_count": 1,
   "metadata": {},
   "outputs": [],
   "source": [
    "import os\n",
    "if \"models\" not in os.listdir(\".\"):\n",
    "    os.chdir(\"../..\")           "
   ]
  },
  {
   "cell_type": "code",
   "execution_count": 21,
   "metadata": {},
   "outputs": [
    {
     "name": "stdout",
     "output_type": "stream",
     "text": [
      "1\n"
     ]
    },
    {
     "name": "stderr",
     "output_type": "stream",
     "text": [
      "/home/dmitrii/.cache/pypoetry/virtualenvs/micrlhf-progress-_SD4q1c9-py3.10/lib/python3.10/site-packages/numpy/core/fromnumeric.py:3504: RuntimeWarning:\n",
      "\n",
      "Mean of empty slice.\n",
      "\n",
      "/home/dmitrii/.cache/pypoetry/virtualenvs/micrlhf-progress-_SD4q1c9-py3.10/lib/python3.10/site-packages/numpy/core/_methods.py:129: RuntimeWarning:\n",
      "\n",
      "invalid value encountered in scalar divide\n",
      "\n"
     ]
    },
    {
     "data": {
      "application/vnd.plotly.v1+json": {
       "config": {
        "plotlyServerURL": "https://plot.ly"
       },
       "data": [
        {
         "type": "heatmap",
         "x": [
          "15554",
          "11618",
          "16490",
          "2930",
          "8633",
          "9178",
          "15356",
          "32417",
          "5579",
          "7491",
          "11173",
          "6756",
          "1878",
          "7967",
          "19260",
          "9790",
          "26987",
          "11172"
         ],
         "xaxis": "x",
         "y": [
          "11459",
          "26436",
          "10884",
          "99",
          "11050",
          "1322",
          "29228",
          "19628",
          "19916",
          "21327",
          "1132",
          "3466",
          "31123",
          "32115",
          "7928",
          "13529",
          "8446"
         ],
         "yaxis": "y",
         "z": [
          [
           null,
           0.002095909345717657,
           0.001954357097814749,
           0.002544195988239386,
           0.002142163117726644,
           null,
           null,
           null,
           null,
           null,
           null,
           null,
           null,
           null,
           null,
           null,
           null,
           null
          ],
          [
           null,
           0.002095909345717657,
           0.001954357097814749,
           0.002544195988239386,
           0.002142163117726644,
           null,
           null,
           null,
           null,
           null,
           null,
           null,
           null,
           null,
           null,
           null,
           null,
           null
          ],
          [
           null,
           0.002095909345717657,
           0.001954357097814749,
           0.002544195988239386,
           0.002142163117726644,
           null,
           null,
           null,
           null,
           null,
           null,
           null,
           null,
           null,
           null,
           null,
           null,
           null
          ],
          [
           null,
           0.002095909345717657,
           0.001954357097814749,
           0.002544195988239386,
           0.002142163117726644,
           null,
           null,
           null,
           null,
           null,
           null,
           null,
           null,
           null,
           null,
           null,
           null,
           null
          ],
          [
           null,
           0.5108778374535697,
           0,
           0.09756208395029044,
           0,
           null,
           null,
           null,
           null,
           null,
           null,
           null,
           null,
           null,
           null,
           null,
           null,
           null
          ],
          [
           null,
           0.002095909345717657,
           0.001954357097814749,
           0.002544195988239386,
           0.002142163117726644,
           null,
           null,
           null,
           null,
           null,
           null,
           null,
           null,
           null,
           null,
           null,
           null,
           null
          ],
          [
           null,
           0.002095909345717657,
           0.001954357097814749,
           0.002544195988239386,
           0.002142163117726644,
           null,
           null,
           null,
           null,
           null,
           null,
           null,
           null,
           null,
           null,
           null,
           null,
           null
          ],
          [
           null,
           0.0021950965835934593,
           0.0012066845402054723,
           0.002171779290223733,
           0.001366106669108073,
           null,
           null,
           null,
           null,
           null,
           null,
           null,
           null,
           null,
           null,
           null,
           null,
           null
          ],
          [
           null,
           0.002095909345717657,
           0.001954357097814749,
           0.002544195988239386,
           0.002142163117726644,
           null,
           null,
           null,
           null,
           null,
           null,
           null,
           null,
           null,
           null,
           null,
           null,
           null
          ],
          [
           null,
           0.002095909345717657,
           0.001954357097814749,
           0.002544195988239386,
           0.002142163117726644,
           null,
           null,
           null,
           null,
           null,
           null,
           null,
           null,
           null,
           null,
           null,
           null,
           null
          ],
          [
           null,
           0.002095909345717657,
           0.001954357097814749,
           0.002544195988239386,
           0.002142163117726644,
           null,
           null,
           null,
           null,
           null,
           null,
           null,
           null,
           null,
           null,
           null,
           null,
           null
          ],
          [
           null,
           0.002095909345717657,
           0.001954357097814749,
           0.002544195988239386,
           0.002142163117726644,
           null,
           null,
           null,
           null,
           null,
           null,
           null,
           null,
           null,
           null,
           null,
           null,
           null
          ],
          [
           null,
           0.002095909345717657,
           0.001954357097814749,
           0.002544195988239386,
           0.002142163117726644,
           null,
           null,
           null,
           null,
           null,
           null,
           null,
           null,
           null,
           null,
           null,
           null,
           null
          ],
          [
           null,
           0.0004007753871736072,
           0.007689437619200698,
           0.05946650520547644,
           0.013167715072631836,
           null,
           null,
           null,
           null,
           null,
           null,
           null,
           null,
           null,
           null,
           null,
           null,
           null
          ],
          [
           null,
           0.002095909345717657,
           0.001954357097814749,
           0.002544195988239386,
           0.002142163117726644,
           null,
           null,
           null,
           null,
           null,
           null,
           null,
           null,
           null,
           null,
           null,
           null,
           null
          ],
          [
           null,
           0.002095909345717657,
           0.001954357097814749,
           0.002544195988239386,
           0.002142163117726644,
           null,
           null,
           null,
           null,
           null,
           null,
           null,
           null,
           null,
           null,
           null,
           null,
           null
          ],
          [
           null,
           0.002095909345717657,
           0.001954357097814749,
           0.002544195988239386,
           0.002142163117726644,
           null,
           null,
           null,
           null,
           null,
           null,
           null,
           null,
           null,
           null,
           null,
           null,
           null
          ]
         ]
        }
       ],
       "layout": {
        "annotations": [
         {
          "font": {
           "size": 16
          },
          "showarrow": false,
          "text": "antonyms",
          "x": 0.5,
          "xanchor": "center",
          "xref": "paper",
          "y": 1,
          "yanchor": "bottom",
          "yref": "paper"
         }
        ],
        "height": 1500,
        "template": {
         "data": {
          "bar": [
           {
            "error_x": {
             "color": "#2a3f5f"
            },
            "error_y": {
             "color": "#2a3f5f"
            },
            "marker": {
             "line": {
              "color": "#E5ECF6",
              "width": 0.5
             },
             "pattern": {
              "fillmode": "overlay",
              "size": 10,
              "solidity": 0.2
             }
            },
            "type": "bar"
           }
          ],
          "barpolar": [
           {
            "marker": {
             "line": {
              "color": "#E5ECF6",
              "width": 0.5
             },
             "pattern": {
              "fillmode": "overlay",
              "size": 10,
              "solidity": 0.2
             }
            },
            "type": "barpolar"
           }
          ],
          "carpet": [
           {
            "aaxis": {
             "endlinecolor": "#2a3f5f",
             "gridcolor": "white",
             "linecolor": "white",
             "minorgridcolor": "white",
             "startlinecolor": "#2a3f5f"
            },
            "baxis": {
             "endlinecolor": "#2a3f5f",
             "gridcolor": "white",
             "linecolor": "white",
             "minorgridcolor": "white",
             "startlinecolor": "#2a3f5f"
            },
            "type": "carpet"
           }
          ],
          "choropleth": [
           {
            "colorbar": {
             "outlinewidth": 0,
             "ticks": ""
            },
            "type": "choropleth"
           }
          ],
          "contour": [
           {
            "colorbar": {
             "outlinewidth": 0,
             "ticks": ""
            },
            "colorscale": [
             [
              0,
              "#0d0887"
             ],
             [
              0.1111111111111111,
              "#46039f"
             ],
             [
              0.2222222222222222,
              "#7201a8"
             ],
             [
              0.3333333333333333,
              "#9c179e"
             ],
             [
              0.4444444444444444,
              "#bd3786"
             ],
             [
              0.5555555555555556,
              "#d8576b"
             ],
             [
              0.6666666666666666,
              "#ed7953"
             ],
             [
              0.7777777777777778,
              "#fb9f3a"
             ],
             [
              0.8888888888888888,
              "#fdca26"
             ],
             [
              1,
              "#f0f921"
             ]
            ],
            "type": "contour"
           }
          ],
          "contourcarpet": [
           {
            "colorbar": {
             "outlinewidth": 0,
             "ticks": ""
            },
            "type": "contourcarpet"
           }
          ],
          "heatmap": [
           {
            "colorbar": {
             "outlinewidth": 0,
             "ticks": ""
            },
            "colorscale": [
             [
              0,
              "#0d0887"
             ],
             [
              0.1111111111111111,
              "#46039f"
             ],
             [
              0.2222222222222222,
              "#7201a8"
             ],
             [
              0.3333333333333333,
              "#9c179e"
             ],
             [
              0.4444444444444444,
              "#bd3786"
             ],
             [
              0.5555555555555556,
              "#d8576b"
             ],
             [
              0.6666666666666666,
              "#ed7953"
             ],
             [
              0.7777777777777778,
              "#fb9f3a"
             ],
             [
              0.8888888888888888,
              "#fdca26"
             ],
             [
              1,
              "#f0f921"
             ]
            ],
            "type": "heatmap"
           }
          ],
          "heatmapgl": [
           {
            "colorbar": {
             "outlinewidth": 0,
             "ticks": ""
            },
            "colorscale": [
             [
              0,
              "#0d0887"
             ],
             [
              0.1111111111111111,
              "#46039f"
             ],
             [
              0.2222222222222222,
              "#7201a8"
             ],
             [
              0.3333333333333333,
              "#9c179e"
             ],
             [
              0.4444444444444444,
              "#bd3786"
             ],
             [
              0.5555555555555556,
              "#d8576b"
             ],
             [
              0.6666666666666666,
              "#ed7953"
             ],
             [
              0.7777777777777778,
              "#fb9f3a"
             ],
             [
              0.8888888888888888,
              "#fdca26"
             ],
             [
              1,
              "#f0f921"
             ]
            ],
            "type": "heatmapgl"
           }
          ],
          "histogram": [
           {
            "marker": {
             "pattern": {
              "fillmode": "overlay",
              "size": 10,
              "solidity": 0.2
             }
            },
            "type": "histogram"
           }
          ],
          "histogram2d": [
           {
            "colorbar": {
             "outlinewidth": 0,
             "ticks": ""
            },
            "colorscale": [
             [
              0,
              "#0d0887"
             ],
             [
              0.1111111111111111,
              "#46039f"
             ],
             [
              0.2222222222222222,
              "#7201a8"
             ],
             [
              0.3333333333333333,
              "#9c179e"
             ],
             [
              0.4444444444444444,
              "#bd3786"
             ],
             [
              0.5555555555555556,
              "#d8576b"
             ],
             [
              0.6666666666666666,
              "#ed7953"
             ],
             [
              0.7777777777777778,
              "#fb9f3a"
             ],
             [
              0.8888888888888888,
              "#fdca26"
             ],
             [
              1,
              "#f0f921"
             ]
            ],
            "type": "histogram2d"
           }
          ],
          "histogram2dcontour": [
           {
            "colorbar": {
             "outlinewidth": 0,
             "ticks": ""
            },
            "colorscale": [
             [
              0,
              "#0d0887"
             ],
             [
              0.1111111111111111,
              "#46039f"
             ],
             [
              0.2222222222222222,
              "#7201a8"
             ],
             [
              0.3333333333333333,
              "#9c179e"
             ],
             [
              0.4444444444444444,
              "#bd3786"
             ],
             [
              0.5555555555555556,
              "#d8576b"
             ],
             [
              0.6666666666666666,
              "#ed7953"
             ],
             [
              0.7777777777777778,
              "#fb9f3a"
             ],
             [
              0.8888888888888888,
              "#fdca26"
             ],
             [
              1,
              "#f0f921"
             ]
            ],
            "type": "histogram2dcontour"
           }
          ],
          "mesh3d": [
           {
            "colorbar": {
             "outlinewidth": 0,
             "ticks": ""
            },
            "type": "mesh3d"
           }
          ],
          "parcoords": [
           {
            "line": {
             "colorbar": {
              "outlinewidth": 0,
              "ticks": ""
             }
            },
            "type": "parcoords"
           }
          ],
          "pie": [
           {
            "automargin": true,
            "type": "pie"
           }
          ],
          "scatter": [
           {
            "fillpattern": {
             "fillmode": "overlay",
             "size": 10,
             "solidity": 0.2
            },
            "type": "scatter"
           }
          ],
          "scatter3d": [
           {
            "line": {
             "colorbar": {
              "outlinewidth": 0,
              "ticks": ""
             }
            },
            "marker": {
             "colorbar": {
              "outlinewidth": 0,
              "ticks": ""
             }
            },
            "type": "scatter3d"
           }
          ],
          "scattercarpet": [
           {
            "marker": {
             "colorbar": {
              "outlinewidth": 0,
              "ticks": ""
             }
            },
            "type": "scattercarpet"
           }
          ],
          "scattergeo": [
           {
            "marker": {
             "colorbar": {
              "outlinewidth": 0,
              "ticks": ""
             }
            },
            "type": "scattergeo"
           }
          ],
          "scattergl": [
           {
            "marker": {
             "colorbar": {
              "outlinewidth": 0,
              "ticks": ""
             }
            },
            "type": "scattergl"
           }
          ],
          "scattermapbox": [
           {
            "marker": {
             "colorbar": {
              "outlinewidth": 0,
              "ticks": ""
             }
            },
            "type": "scattermapbox"
           }
          ],
          "scatterpolar": [
           {
            "marker": {
             "colorbar": {
              "outlinewidth": 0,
              "ticks": ""
             }
            },
            "type": "scatterpolar"
           }
          ],
          "scatterpolargl": [
           {
            "marker": {
             "colorbar": {
              "outlinewidth": 0,
              "ticks": ""
             }
            },
            "type": "scatterpolargl"
           }
          ],
          "scatterternary": [
           {
            "marker": {
             "colorbar": {
              "outlinewidth": 0,
              "ticks": ""
             }
            },
            "type": "scatterternary"
           }
          ],
          "surface": [
           {
            "colorbar": {
             "outlinewidth": 0,
             "ticks": ""
            },
            "colorscale": [
             [
              0,
              "#0d0887"
             ],
             [
              0.1111111111111111,
              "#46039f"
             ],
             [
              0.2222222222222222,
              "#7201a8"
             ],
             [
              0.3333333333333333,
              "#9c179e"
             ],
             [
              0.4444444444444444,
              "#bd3786"
             ],
             [
              0.5555555555555556,
              "#d8576b"
             ],
             [
              0.6666666666666666,
              "#ed7953"
             ],
             [
              0.7777777777777778,
              "#fb9f3a"
             ],
             [
              0.8888888888888888,
              "#fdca26"
             ],
             [
              1,
              "#f0f921"
             ]
            ],
            "type": "surface"
           }
          ],
          "table": [
           {
            "cells": {
             "fill": {
              "color": "#EBF0F8"
             },
             "line": {
              "color": "white"
             }
            },
            "header": {
             "fill": {
              "color": "#C8D4E3"
             },
             "line": {
              "color": "white"
             }
            },
            "type": "table"
           }
          ]
         },
         "layout": {
          "annotationdefaults": {
           "arrowcolor": "#2a3f5f",
           "arrowhead": 0,
           "arrowwidth": 1
          },
          "autotypenumbers": "strict",
          "coloraxis": {
           "colorbar": {
            "outlinewidth": 0,
            "ticks": ""
           }
          },
          "colorscale": {
           "diverging": [
            [
             0,
             "#8e0152"
            ],
            [
             0.1,
             "#c51b7d"
            ],
            [
             0.2,
             "#de77ae"
            ],
            [
             0.3,
             "#f1b6da"
            ],
            [
             0.4,
             "#fde0ef"
            ],
            [
             0.5,
             "#f7f7f7"
            ],
            [
             0.6,
             "#e6f5d0"
            ],
            [
             0.7,
             "#b8e186"
            ],
            [
             0.8,
             "#7fbc41"
            ],
            [
             0.9,
             "#4d9221"
            ],
            [
             1,
             "#276419"
            ]
           ],
           "sequential": [
            [
             0,
             "#0d0887"
            ],
            [
             0.1111111111111111,
             "#46039f"
            ],
            [
             0.2222222222222222,
             "#7201a8"
            ],
            [
             0.3333333333333333,
             "#9c179e"
            ],
            [
             0.4444444444444444,
             "#bd3786"
            ],
            [
             0.5555555555555556,
             "#d8576b"
            ],
            [
             0.6666666666666666,
             "#ed7953"
            ],
            [
             0.7777777777777778,
             "#fb9f3a"
            ],
            [
             0.8888888888888888,
             "#fdca26"
            ],
            [
             1,
             "#f0f921"
            ]
           ],
           "sequentialminus": [
            [
             0,
             "#0d0887"
            ],
            [
             0.1111111111111111,
             "#46039f"
            ],
            [
             0.2222222222222222,
             "#7201a8"
            ],
            [
             0.3333333333333333,
             "#9c179e"
            ],
            [
             0.4444444444444444,
             "#bd3786"
            ],
            [
             0.5555555555555556,
             "#d8576b"
            ],
            [
             0.6666666666666666,
             "#ed7953"
            ],
            [
             0.7777777777777778,
             "#fb9f3a"
            ],
            [
             0.8888888888888888,
             "#fdca26"
            ],
            [
             1,
             "#f0f921"
            ]
           ]
          },
          "colorway": [
           "#636efa",
           "#EF553B",
           "#00cc96",
           "#ab63fa",
           "#FFA15A",
           "#19d3f3",
           "#FF6692",
           "#B6E880",
           "#FF97FF",
           "#FECB52"
          ],
          "font": {
           "color": "#2a3f5f"
          },
          "geo": {
           "bgcolor": "white",
           "lakecolor": "white",
           "landcolor": "#E5ECF6",
           "showlakes": true,
           "showland": true,
           "subunitcolor": "white"
          },
          "hoverlabel": {
           "align": "left"
          },
          "hovermode": "closest",
          "mapbox": {
           "style": "light"
          },
          "paper_bgcolor": "white",
          "plot_bgcolor": "#E5ECF6",
          "polar": {
           "angularaxis": {
            "gridcolor": "white",
            "linecolor": "white",
            "ticks": ""
           },
           "bgcolor": "#E5ECF6",
           "radialaxis": {
            "gridcolor": "white",
            "linecolor": "white",
            "ticks": ""
           }
          },
          "scene": {
           "xaxis": {
            "backgroundcolor": "#E5ECF6",
            "gridcolor": "white",
            "gridwidth": 2,
            "linecolor": "white",
            "showbackground": true,
            "ticks": "",
            "zerolinecolor": "white"
           },
           "yaxis": {
            "backgroundcolor": "#E5ECF6",
            "gridcolor": "white",
            "gridwidth": 2,
            "linecolor": "white",
            "showbackground": true,
            "ticks": "",
            "zerolinecolor": "white"
           },
           "zaxis": {
            "backgroundcolor": "#E5ECF6",
            "gridcolor": "white",
            "gridwidth": 2,
            "linecolor": "white",
            "showbackground": true,
            "ticks": "",
            "zerolinecolor": "white"
           }
          },
          "shapedefaults": {
           "line": {
            "color": "#2a3f5f"
           }
          },
          "ternary": {
           "aaxis": {
            "gridcolor": "white",
            "linecolor": "white",
            "ticks": ""
           },
           "baxis": {
            "gridcolor": "white",
            "linecolor": "white",
            "ticks": ""
           },
           "bgcolor": "#E5ECF6",
           "caxis": {
            "gridcolor": "white",
            "linecolor": "white",
            "ticks": ""
           }
          },
          "title": {
           "x": 0.05
          },
          "xaxis": {
           "automargin": true,
           "gridcolor": "white",
           "linecolor": "white",
           "ticks": "",
           "title": {
            "standoff": 15
           },
           "zerolinecolor": "white",
           "zerolinewidth": 2
          },
          "yaxis": {
           "automargin": true,
           "gridcolor": "white",
           "linecolor": "white",
           "ticks": "",
           "title": {
            "standoff": 15
           },
           "zerolinecolor": "white",
           "zerolinewidth": 2
          }
         }
        },
        "width": 1500,
        "xaxis": {
         "anchor": "y",
         "domain": [
          0,
          1
         ],
         "title": {
          "text": "Detector"
         }
        },
        "yaxis": {
         "anchor": "x",
         "domain": [
          0,
          1
         ],
         "title": {
          "text": "Executor"
         }
        }
       }
      },
      "text/html": [
       "<div>                            <div id=\"163f47e0-6c5a-41b0-990a-7c1e68b20052\" class=\"plotly-graph-div\" style=\"height:1500px; width:1500px;\"></div>            <script type=\"text/javascript\">                require([\"plotly\"], function(Plotly) {                    window.PLOTLYENV=window.PLOTLYENV || {};                                    if (document.getElementById(\"163f47e0-6c5a-41b0-990a-7c1e68b20052\")) {                    Plotly.newPlot(                        \"163f47e0-6c5a-41b0-990a-7c1e68b20052\",                        [{\"x\":[\"15554\",\"11618\",\"16490\",\"2930\",\"8633\",\"9178\",\"15356\",\"32417\",\"5579\",\"7491\",\"11173\",\"6756\",\"1878\",\"7967\",\"19260\",\"9790\",\"26987\",\"11172\"],\"y\":[\"11459\",\"26436\",\"10884\",\"99\",\"11050\",\"1322\",\"29228\",\"19628\",\"19916\",\"21327\",\"1132\",\"3466\",\"31123\",\"32115\",\"7928\",\"13529\",\"8446\"],\"z\":[[null,0.002095909345717657,0.001954357097814749,0.002544195988239386,0.002142163117726644,null,null,null,null,null,null,null,null,null,null,null,null,null],[null,0.002095909345717657,0.001954357097814749,0.002544195988239386,0.002142163117726644,null,null,null,null,null,null,null,null,null,null,null,null,null],[null,0.002095909345717657,0.001954357097814749,0.002544195988239386,0.002142163117726644,null,null,null,null,null,null,null,null,null,null,null,null,null],[null,0.002095909345717657,0.001954357097814749,0.002544195988239386,0.002142163117726644,null,null,null,null,null,null,null,null,null,null,null,null,null],[null,0.5108778374535697,0.0,0.09756208395029044,0.0,null,null,null,null,null,null,null,null,null,null,null,null,null],[null,0.002095909345717657,0.001954357097814749,0.002544195988239386,0.002142163117726644,null,null,null,null,null,null,null,null,null,null,null,null,null],[null,0.002095909345717657,0.001954357097814749,0.002544195988239386,0.002142163117726644,null,null,null,null,null,null,null,null,null,null,null,null,null],[null,0.0021950965835934593,0.0012066845402054723,0.002171779290223733,0.001366106669108073,null,null,null,null,null,null,null,null,null,null,null,null,null],[null,0.002095909345717657,0.001954357097814749,0.002544195988239386,0.002142163117726644,null,null,null,null,null,null,null,null,null,null,null,null,null],[null,0.002095909345717657,0.001954357097814749,0.002544195988239386,0.002142163117726644,null,null,null,null,null,null,null,null,null,null,null,null,null],[null,0.002095909345717657,0.001954357097814749,0.002544195988239386,0.002142163117726644,null,null,null,null,null,null,null,null,null,null,null,null,null],[null,0.002095909345717657,0.001954357097814749,0.002544195988239386,0.002142163117726644,null,null,null,null,null,null,null,null,null,null,null,null,null],[null,0.002095909345717657,0.001954357097814749,0.002544195988239386,0.002142163117726644,null,null,null,null,null,null,null,null,null,null,null,null,null],[null,0.0004007753871736072,0.007689437619200698,0.05946650520547644,0.013167715072631836,null,null,null,null,null,null,null,null,null,null,null,null,null],[null,0.002095909345717657,0.001954357097814749,0.002544195988239386,0.002142163117726644,null,null,null,null,null,null,null,null,null,null,null,null,null],[null,0.002095909345717657,0.001954357097814749,0.002544195988239386,0.002142163117726644,null,null,null,null,null,null,null,null,null,null,null,null,null],[null,0.002095909345717657,0.001954357097814749,0.002544195988239386,0.002142163117726644,null,null,null,null,null,null,null,null,null,null,null,null,null]],\"type\":\"heatmap\",\"xaxis\":\"x\",\"yaxis\":\"y\"}],                        {\"template\":{\"data\":{\"histogram2dcontour\":[{\"type\":\"histogram2dcontour\",\"colorbar\":{\"outlinewidth\":0,\"ticks\":\"\"},\"colorscale\":[[0.0,\"#0d0887\"],[0.1111111111111111,\"#46039f\"],[0.2222222222222222,\"#7201a8\"],[0.3333333333333333,\"#9c179e\"],[0.4444444444444444,\"#bd3786\"],[0.5555555555555556,\"#d8576b\"],[0.6666666666666666,\"#ed7953\"],[0.7777777777777778,\"#fb9f3a\"],[0.8888888888888888,\"#fdca26\"],[1.0,\"#f0f921\"]]}],\"choropleth\":[{\"type\":\"choropleth\",\"colorbar\":{\"outlinewidth\":0,\"ticks\":\"\"}}],\"histogram2d\":[{\"type\":\"histogram2d\",\"colorbar\":{\"outlinewidth\":0,\"ticks\":\"\"},\"colorscale\":[[0.0,\"#0d0887\"],[0.1111111111111111,\"#46039f\"],[0.2222222222222222,\"#7201a8\"],[0.3333333333333333,\"#9c179e\"],[0.4444444444444444,\"#bd3786\"],[0.5555555555555556,\"#d8576b\"],[0.6666666666666666,\"#ed7953\"],[0.7777777777777778,\"#fb9f3a\"],[0.8888888888888888,\"#fdca26\"],[1.0,\"#f0f921\"]]}],\"heatmap\":[{\"type\":\"heatmap\",\"colorbar\":{\"outlinewidth\":0,\"ticks\":\"\"},\"colorscale\":[[0.0,\"#0d0887\"],[0.1111111111111111,\"#46039f\"],[0.2222222222222222,\"#7201a8\"],[0.3333333333333333,\"#9c179e\"],[0.4444444444444444,\"#bd3786\"],[0.5555555555555556,\"#d8576b\"],[0.6666666666666666,\"#ed7953\"],[0.7777777777777778,\"#fb9f3a\"],[0.8888888888888888,\"#fdca26\"],[1.0,\"#f0f921\"]]}],\"heatmapgl\":[{\"type\":\"heatmapgl\",\"colorbar\":{\"outlinewidth\":0,\"ticks\":\"\"},\"colorscale\":[[0.0,\"#0d0887\"],[0.1111111111111111,\"#46039f\"],[0.2222222222222222,\"#7201a8\"],[0.3333333333333333,\"#9c179e\"],[0.4444444444444444,\"#bd3786\"],[0.5555555555555556,\"#d8576b\"],[0.6666666666666666,\"#ed7953\"],[0.7777777777777778,\"#fb9f3a\"],[0.8888888888888888,\"#fdca26\"],[1.0,\"#f0f921\"]]}],\"contourcarpet\":[{\"type\":\"contourcarpet\",\"colorbar\":{\"outlinewidth\":0,\"ticks\":\"\"}}],\"contour\":[{\"type\":\"contour\",\"colorbar\":{\"outlinewidth\":0,\"ticks\":\"\"},\"colorscale\":[[0.0,\"#0d0887\"],[0.1111111111111111,\"#46039f\"],[0.2222222222222222,\"#7201a8\"],[0.3333333333333333,\"#9c179e\"],[0.4444444444444444,\"#bd3786\"],[0.5555555555555556,\"#d8576b\"],[0.6666666666666666,\"#ed7953\"],[0.7777777777777778,\"#fb9f3a\"],[0.8888888888888888,\"#fdca26\"],[1.0,\"#f0f921\"]]}],\"surface\":[{\"type\":\"surface\",\"colorbar\":{\"outlinewidth\":0,\"ticks\":\"\"},\"colorscale\":[[0.0,\"#0d0887\"],[0.1111111111111111,\"#46039f\"],[0.2222222222222222,\"#7201a8\"],[0.3333333333333333,\"#9c179e\"],[0.4444444444444444,\"#bd3786\"],[0.5555555555555556,\"#d8576b\"],[0.6666666666666666,\"#ed7953\"],[0.7777777777777778,\"#fb9f3a\"],[0.8888888888888888,\"#fdca26\"],[1.0,\"#f0f921\"]]}],\"mesh3d\":[{\"type\":\"mesh3d\",\"colorbar\":{\"outlinewidth\":0,\"ticks\":\"\"}}],\"scatter\":[{\"fillpattern\":{\"fillmode\":\"overlay\",\"size\":10,\"solidity\":0.2},\"type\":\"scatter\"}],\"parcoords\":[{\"type\":\"parcoords\",\"line\":{\"colorbar\":{\"outlinewidth\":0,\"ticks\":\"\"}}}],\"scatterpolargl\":[{\"type\":\"scatterpolargl\",\"marker\":{\"colorbar\":{\"outlinewidth\":0,\"ticks\":\"\"}}}],\"bar\":[{\"error_x\":{\"color\":\"#2a3f5f\"},\"error_y\":{\"color\":\"#2a3f5f\"},\"marker\":{\"line\":{\"color\":\"#E5ECF6\",\"width\":0.5},\"pattern\":{\"fillmode\":\"overlay\",\"size\":10,\"solidity\":0.2}},\"type\":\"bar\"}],\"scattergeo\":[{\"type\":\"scattergeo\",\"marker\":{\"colorbar\":{\"outlinewidth\":0,\"ticks\":\"\"}}}],\"scatterpolar\":[{\"type\":\"scatterpolar\",\"marker\":{\"colorbar\":{\"outlinewidth\":0,\"ticks\":\"\"}}}],\"histogram\":[{\"marker\":{\"pattern\":{\"fillmode\":\"overlay\",\"size\":10,\"solidity\":0.2}},\"type\":\"histogram\"}],\"scattergl\":[{\"type\":\"scattergl\",\"marker\":{\"colorbar\":{\"outlinewidth\":0,\"ticks\":\"\"}}}],\"scatter3d\":[{\"type\":\"scatter3d\",\"line\":{\"colorbar\":{\"outlinewidth\":0,\"ticks\":\"\"}},\"marker\":{\"colorbar\":{\"outlinewidth\":0,\"ticks\":\"\"}}}],\"scattermapbox\":[{\"type\":\"scattermapbox\",\"marker\":{\"colorbar\":{\"outlinewidth\":0,\"ticks\":\"\"}}}],\"scatterternary\":[{\"type\":\"scatterternary\",\"marker\":{\"colorbar\":{\"outlinewidth\":0,\"ticks\":\"\"}}}],\"scattercarpet\":[{\"type\":\"scattercarpet\",\"marker\":{\"colorbar\":{\"outlinewidth\":0,\"ticks\":\"\"}}}],\"carpet\":[{\"aaxis\":{\"endlinecolor\":\"#2a3f5f\",\"gridcolor\":\"white\",\"linecolor\":\"white\",\"minorgridcolor\":\"white\",\"startlinecolor\":\"#2a3f5f\"},\"baxis\":{\"endlinecolor\":\"#2a3f5f\",\"gridcolor\":\"white\",\"linecolor\":\"white\",\"minorgridcolor\":\"white\",\"startlinecolor\":\"#2a3f5f\"},\"type\":\"carpet\"}],\"table\":[{\"cells\":{\"fill\":{\"color\":\"#EBF0F8\"},\"line\":{\"color\":\"white\"}},\"header\":{\"fill\":{\"color\":\"#C8D4E3\"},\"line\":{\"color\":\"white\"}},\"type\":\"table\"}],\"barpolar\":[{\"marker\":{\"line\":{\"color\":\"#E5ECF6\",\"width\":0.5},\"pattern\":{\"fillmode\":\"overlay\",\"size\":10,\"solidity\":0.2}},\"type\":\"barpolar\"}],\"pie\":[{\"automargin\":true,\"type\":\"pie\"}]},\"layout\":{\"autotypenumbers\":\"strict\",\"colorway\":[\"#636efa\",\"#EF553B\",\"#00cc96\",\"#ab63fa\",\"#FFA15A\",\"#19d3f3\",\"#FF6692\",\"#B6E880\",\"#FF97FF\",\"#FECB52\"],\"font\":{\"color\":\"#2a3f5f\"},\"hovermode\":\"closest\",\"hoverlabel\":{\"align\":\"left\"},\"paper_bgcolor\":\"white\",\"plot_bgcolor\":\"#E5ECF6\",\"polar\":{\"bgcolor\":\"#E5ECF6\",\"angularaxis\":{\"gridcolor\":\"white\",\"linecolor\":\"white\",\"ticks\":\"\"},\"radialaxis\":{\"gridcolor\":\"white\",\"linecolor\":\"white\",\"ticks\":\"\"}},\"ternary\":{\"bgcolor\":\"#E5ECF6\",\"aaxis\":{\"gridcolor\":\"white\",\"linecolor\":\"white\",\"ticks\":\"\"},\"baxis\":{\"gridcolor\":\"white\",\"linecolor\":\"white\",\"ticks\":\"\"},\"caxis\":{\"gridcolor\":\"white\",\"linecolor\":\"white\",\"ticks\":\"\"}},\"coloraxis\":{\"colorbar\":{\"outlinewidth\":0,\"ticks\":\"\"}},\"colorscale\":{\"sequential\":[[0.0,\"#0d0887\"],[0.1111111111111111,\"#46039f\"],[0.2222222222222222,\"#7201a8\"],[0.3333333333333333,\"#9c179e\"],[0.4444444444444444,\"#bd3786\"],[0.5555555555555556,\"#d8576b\"],[0.6666666666666666,\"#ed7953\"],[0.7777777777777778,\"#fb9f3a\"],[0.8888888888888888,\"#fdca26\"],[1.0,\"#f0f921\"]],\"sequentialminus\":[[0.0,\"#0d0887\"],[0.1111111111111111,\"#46039f\"],[0.2222222222222222,\"#7201a8\"],[0.3333333333333333,\"#9c179e\"],[0.4444444444444444,\"#bd3786\"],[0.5555555555555556,\"#d8576b\"],[0.6666666666666666,\"#ed7953\"],[0.7777777777777778,\"#fb9f3a\"],[0.8888888888888888,\"#fdca26\"],[1.0,\"#f0f921\"]],\"diverging\":[[0,\"#8e0152\"],[0.1,\"#c51b7d\"],[0.2,\"#de77ae\"],[0.3,\"#f1b6da\"],[0.4,\"#fde0ef\"],[0.5,\"#f7f7f7\"],[0.6,\"#e6f5d0\"],[0.7,\"#b8e186\"],[0.8,\"#7fbc41\"],[0.9,\"#4d9221\"],[1,\"#276419\"]]},\"xaxis\":{\"gridcolor\":\"white\",\"linecolor\":\"white\",\"ticks\":\"\",\"title\":{\"standoff\":15},\"zerolinecolor\":\"white\",\"automargin\":true,\"zerolinewidth\":2},\"yaxis\":{\"gridcolor\":\"white\",\"linecolor\":\"white\",\"ticks\":\"\",\"title\":{\"standoff\":15},\"zerolinecolor\":\"white\",\"automargin\":true,\"zerolinewidth\":2},\"scene\":{\"xaxis\":{\"backgroundcolor\":\"#E5ECF6\",\"gridcolor\":\"white\",\"linecolor\":\"white\",\"showbackground\":true,\"ticks\":\"\",\"zerolinecolor\":\"white\",\"gridwidth\":2},\"yaxis\":{\"backgroundcolor\":\"#E5ECF6\",\"gridcolor\":\"white\",\"linecolor\":\"white\",\"showbackground\":true,\"ticks\":\"\",\"zerolinecolor\":\"white\",\"gridwidth\":2},\"zaxis\":{\"backgroundcolor\":\"#E5ECF6\",\"gridcolor\":\"white\",\"linecolor\":\"white\",\"showbackground\":true,\"ticks\":\"\",\"zerolinecolor\":\"white\",\"gridwidth\":2}},\"shapedefaults\":{\"line\":{\"color\":\"#2a3f5f\"}},\"annotationdefaults\":{\"arrowcolor\":\"#2a3f5f\",\"arrowhead\":0,\"arrowwidth\":1},\"geo\":{\"bgcolor\":\"white\",\"landcolor\":\"#E5ECF6\",\"subunitcolor\":\"white\",\"showland\":true,\"showlakes\":true,\"lakecolor\":\"white\"},\"title\":{\"x\":0.05},\"mapbox\":{\"style\":\"light\"}}},\"xaxis\":{\"anchor\":\"y\",\"domain\":[0.0,1.0],\"title\":{\"text\":\"Detector\"}},\"yaxis\":{\"anchor\":\"x\",\"domain\":[0.0,1.0],\"title\":{\"text\":\"Executor\"}},\"annotations\":[{\"font\":{\"size\":16},\"showarrow\":false,\"text\":\"antonyms\",\"x\":0.5,\"xanchor\":\"center\",\"xref\":\"paper\",\"y\":1.0,\"yanchor\":\"bottom\",\"yref\":\"paper\"}],\"height\":1500,\"width\":1500},                        {\"responsive\": true}                    ).then(function(){\n",
       "                            \n",
       "var gd = document.getElementById('163f47e0-6c5a-41b0-990a-7c1e68b20052');\n",
       "var x = new MutationObserver(function (mutations, observer) {{\n",
       "        var display = window.getComputedStyle(gd).display;\n",
       "        if (!display || display === 'none') {{\n",
       "            console.log([gd, 'removed!']);\n",
       "            Plotly.purge(gd);\n",
       "            observer.disconnect();\n",
       "        }}\n",
       "}});\n",
       "\n",
       "// Listen for the removal of the full notebook cells\n",
       "var notebookContainer = gd.closest('#notebook-container');\n",
       "if (notebookContainer) {{\n",
       "    x.observe(notebookContainer, {childList: true});\n",
       "}}\n",
       "\n",
       "// Listen for the clearing of the current output cell\n",
       "var outputEl = gd.closest('.output');\n",
       "if (outputEl) {{\n",
       "    x.observe(outputEl, {childList: true});\n",
       "}}\n",
       "\n",
       "                        })                };                });            </script>        </div>"
      ]
     },
     "metadata": {},
     "output_type": "display_data"
    }
   ],
   "source": [
    "    import json\n",
    "    import pandas as pd\n",
    "    import numpy as np\n",
    "\n",
    "\n",
    "    with open(\"micrlhf-progress/attn_results_3.jsonl\") as f:\n",
    "        results = [json.loads(line) for line in f]\n",
    "\n",
    "    # results = pd.DataFrame(tmp_results)\n",
    "\n",
    "    all_tasks = results[\"task\"].unique().tolist()\n",
    "    all_detectors = results[\"source\"].unique().tolist()\n",
    "    all_executors = results[\"target\"].unique().tolist()\n",
    "\n",
    "    from plotly.subplots import make_subplots\n",
    "    import plotly.express as px\n",
    "    import plotly.graph_objects as go\n",
    "\n",
    "    side = int(np.ceil(np.sqrt(len(all_tasks))).astype(int))\n",
    "\n",
    "    print(side)\n",
    "\n",
    "    fig = make_subplots(rows=side, cols=side, subplot_titles=all_tasks)\n",
    "\n",
    "    for i, task in enumerate(all_tasks):\n",
    "        task_results = results[results[\"task\"] == task]\n",
    "        heatmap = np.zeros((len(all_detectors), len(all_executors)))   \n",
    "\n",
    "        for j, detector in enumerate(all_detectors):\n",
    "            for k, executor in enumerate(all_executors):\n",
    "                entry = task_results[(task_results[\"source\"] == detector) & (task_results[\"target\"] == executor)]\n",
    "                if len(entry) == 0:\n",
    "                    heatmap[j, k] = 0\n",
    "                else:\n",
    "                    heatmap[j, k] = np.mean(entry[\"proportions\"].values[0])\n",
    "\n",
    "        fig.add_trace(go.Heatmap(z=heatmap, x=[str(x) for x in all_executors], y=[str(x) for x in all_detectors]),\n",
    "                    row=i // side + 1, col=i % side + 1)\n",
    "\n",
    "    # Update axis labels for all subplots\n",
    "    for row in range(1, side + 1):\n",
    "        for col in range(1, side + 1):\n",
    "            fig.update_xaxes(title_text=\"Detector\", row=row, col=col)\n",
    "            fig.update_yaxes(title_text=\"Executor\", row=row, col=col)\n",
    "\n",
    "    fig.update_layout(height=1500, width=1500)\n"
   ]
  },
  {
   "cell_type": "code",
   "execution_count": 3,
   "metadata": {},
   "outputs": [],
   "source": [
    "%load_ext autoreload\n",
    "%autoreload 2\n",
    "import penzai\n",
    "import jax_smi\n",
    "jax_smi.initialise_tracking()\n",
    "from penzai import pz\n",
    "pz.ts.register_as_default()\n",
    "pz.ts.register_autovisualize_magic()\n",
    "pz.enable_interactive_context()"
   ]
  },
  {
   "cell_type": "code",
   "execution_count": 4,
   "metadata": {},
   "outputs": [
    {
     "name": "stdout",
     "output_type": "stream",
     "text": [
      "env: JAX_TRACEBACK_FILTERING=off\n"
     ]
    }
   ],
   "source": [
    "%env JAX_TRACEBACK_FILTERING=off\n",
    "import jax\n",
    "jax.config.update('jax_traceback_filtering', 'off')\n"
   ]
  },
  {
   "cell_type": "code",
   "execution_count": 5,
   "metadata": {},
   "outputs": [],
   "source": [
    "from sprint.icl_sfc_utils import Circuitizer"
   ]
  },
  {
   "cell_type": "code",
   "execution_count": 6,
   "metadata": {},
   "outputs": [],
   "source": [
    "from micrlhf.llama import LlamaTransformer\n",
    "llama = LlamaTransformer.from_pretrained(\"models/gemma-2b-it.gguf\", from_type=\"gemma\", load_eager=True, device_map=\"tpu:0\")"
   ]
  },
  {
   "cell_type": "code",
   "execution_count": 7,
   "metadata": {},
   "outputs": [],
   "source": [
    "from transformers import AutoTokenizer\n",
    "tokenizer = AutoTokenizer.from_pretrained(\"alpindale/gemma-2b\")\n",
    "tokenizer.padding_side = \"right\""
   ]
  },
  {
   "cell_type": "code",
   "execution_count": 8,
   "metadata": {},
   "outputs": [
    {
     "name": "stderr",
     "output_type": "stream",
     "text": [
      "fatal: destination path 'data/itv' already exists and is not an empty directory.\n"
     ]
    }
   ],
   "source": [
    "from sprint.task_vector_utils import load_tasks, ICLRunner\n",
    "tasks = load_tasks()"
   ]
  },
  {
   "cell_type": "code",
   "execution_count": 9,
   "metadata": {},
   "outputs": [],
   "source": [
    "import json\n",
    "detectors = json.load(open(\"micrlhf-progress/detector_heatmap_l11.json\"))\n",
    "executors = json.load(open(\"micrlhf-progress/executor_heatmap_l12.json\"))"
   ]
  },
  {
   "cell_type": "code",
   "execution_count": 10,
   "metadata": {},
   "outputs": [
    {
     "name": "stdout",
     "output_type": "stream",
     "text": [
      "antonyms 162\n",
      "162\n",
      "Setting up masks...\n",
      "Running metrics...\n",
      "Setting up RMS...\n"
     ]
    },
    {
     "data": {
      "application/vnd.jupyter.widget-view+json": {
       "model_id": "67534be103d343ad8e90f0c71ac7195b",
       "version_major": 2,
       "version_minor": 0
      },
      "text/plain": [
       "  0%|          | 0/18 [00:00<?, ?it/s]"
      ]
     },
     "metadata": {},
     "output_type": "display_data"
    },
    {
     "name": "stdout",
     "output_type": "stream",
     "text": [
      "Loading SAEs...\n"
     ]
    },
    {
     "data": {
      "application/vnd.jupyter.widget-view+json": {
       "model_id": "02d6694e25294b5eb4938ca5c4b936fc",
       "version_major": 2,
       "version_minor": 0
      },
      "text/plain": [
       "  0%|          | 0/2 [00:00<?, ?it/s]"
      ]
     },
     "metadata": {},
     "output_type": "display_data"
    },
    {
     "name": "stdout",
     "output_type": "stream",
     "text": [
      "Running node IEs...\n"
     ]
    },
    {
     "data": {
      "application/vnd.jupyter.widget-view+json": {
       "model_id": "41eb5bb673d24feeabdb4001e1a4a932",
       "version_major": 2,
       "version_minor": 0
      },
      "text/plain": [
       "  0%|          | 0/2 [00:00<?, ?it/s]"
      ]
     },
     "metadata": {},
     "output_type": "display_data"
    },
    {
     "data": {
      "application/vnd.jupyter.widget-view+json": {
       "model_id": "069a420f0838448b9ac416ce2e2b5107",
       "version_major": 2,
       "version_minor": 0
      },
      "text/plain": [
       "  0%|          | 0/2 [00:00<?, ?it/s]"
      ]
     },
     "metadata": {},
     "output_type": "display_data"
    },
    {
     "data": {
      "application/vnd.jupyter.widget-view+json": {
       "model_id": "0acaffff2c474022b712d3b4e716e2f1",
       "version_major": 2,
       "version_minor": 0
      },
      "text/plain": [
       "  0%|          | 0/1 [00:00<?, ?it/s]"
      ]
     },
     "metadata": {},
     "output_type": "display_data"
    }
   ],
   "source": [
    "\n",
    "from matplotlib import pyplot as plt\n",
    "import jax.numpy as jnp\n",
    "from micrlhf.utils.load_sae import sae_encode, weights_to_resid\n",
    "from micrlhf.llama import LlamaBlock, LlamaAttention, LlamaInputs\n",
    "from tqdm.auto import tqdm\n",
    "import gc\n",
    "\n",
    "\n",
    "def check_if_single_token(token):\n",
    "    return len(tokenizer.tokenize(token)) == 1\n",
    "\n",
    "import os\n",
    "# get_ipython().system('rm data/attn_out/*.png')\n",
    "# os.system('rm data/attn_out/*.png')\n",
    "# def plot_attn(task_name):\n",
    "    \n",
    "task_name = \"antonyms\"\n",
    "\n",
    "task = tasks[task_name]\n",
    "\n",
    "print(task_name, len(task))\n",
    "\n",
    "# task = {\n",
    "#     k:v for k,v in task.items() if check_if_single_token(k) and check_if_single_token(v)\n",
    "# }\n",
    "\n",
    "print(len(task))\n",
    "\n",
    "pairs = list(task.items())\n",
    "\n",
    "batch_size = 8\n",
    "n_shot=16\n",
    "max_seq_len = 128\n",
    "seed = 10\n",
    "\n",
    "prompt = \"Follow the pattern:\\n{}\"\n",
    "\n",
    "runner = ICLRunner(task_name, pairs, batch_size=batch_size, n_shot=n_shot,\n",
    "                max_seq_len=max_seq_len, seed=seed,\n",
    "                prompt=prompt, use_same_examples=False)\n",
    "\n",
    "layers = [11, 12] #, 13, 14]\n",
    "circuitizer = Circuitizer(llama, tokenizer, runner, layers, prompt)\n"
   ]
  },
  {
   "cell_type": "code",
   "execution_count": 20,
   "metadata": {},
   "outputs": [
    {
     "name": "stdout",
     "output_type": "stream",
     "text": [
      "11459 0.0\n",
      "0.0\n",
      "1.4520034\n",
      "2.5473373\n",
      "26436 0.0\n",
      "0.0\n",
      "1.4520034\n",
      "2.5473373\n",
      "10884 0.0\n",
      "0.0\n",
      "1.4520034\n",
      "2.5473373\n",
      "99 0.0\n",
      "0.0\n",
      "1.4520034\n",
      "2.5473373\n",
      "11050 0.05104808\n",
      "81.676956\n",
      "62.40759\n",
      "95.0483\n",
      "1322 0.0\n",
      "0.0\n",
      "1.4520034\n",
      "2.5473373\n",
      "29228 0.0\n",
      "0.0\n",
      "1.4520034\n",
      "2.5473373\n",
      "19628 0.0010678747\n",
      "1.7085911\n",
      "1.62143\n",
      "3.1197853\n",
      "19916 0.0\n",
      "0.0\n",
      "1.4520034\n",
      "2.5473373\n",
      "21327 0.0\n",
      "0.0\n",
      "1.4520034\n",
      "2.5473373\n",
      "1132 0.0\n",
      "0.0\n",
      "1.4520034\n",
      "2.5473373\n",
      "3466 0.0\n",
      "0.0\n",
      "1.4520034\n",
      "2.5473373\n",
      "31123 0.0\n",
      "0.0\n",
      "1.4520034\n",
      "2.5473373\n",
      "32115 0.0035740775\n",
      "5.7185574\n",
      "5.229127\n",
      "7.5299907\n",
      "7928 0.0\n",
      "0.0\n",
      "1.4520034\n",
      "2.5473373\n",
      "13529 0.0\n",
      "0.0\n",
      "1.4520034\n",
      "2.5473373\n",
      "8446 0.0\n",
      "0.0\n",
      "1.4520034\n",
      "2.5473373\n"
     ]
    }
   ],
   "source": [
    "\n",
    "\n",
    "\n",
    "\n",
    "# task_source_resid_features = {11: detectors[task_name]} #[\"features\"]}\n",
    "task_source_resid_features = {11: all_detectors} #[\"features\"]}\n",
    "# task_source_resid_features = {11: detectors[task_name]}\n",
    "# task_target_resid_features = {12: [28800, 16172, 19051,  3925, 22162, 27165, 24640, 26427, 31442,\n",
    "#         1425, 25273,  6685, 25966,  5854, 29007, 30363],}#[]}\n",
    "# task_target_resid_features = {12: executors[task_name]}#[\"features\"],}#[]}\n",
    "task_target_resid_features = {12: all_executors}#[\"features\"],}#[]}\n",
    "# task_target_resid_features = {12: executors[task_name]}\n",
    "# task_attn_out_features = {11: [4080]}\n",
    "\n",
    "tmp_results = []\n",
    "\n",
    "task_attn_out_features = {}\n",
    "for layer in layers[:-1]:\n",
    "    resid_sae = circuitizer.get_sae(layer=layer)\n",
    "    source_resid_features = task_source_resid_features.get(layer, [])\n",
    "    attn_out_features = task_attn_out_features.get(layer, [])\n",
    "    target_resid_features = task_target_resid_features.get(layer + 1, [])\n",
    "    if not source_resid_features or not (attn_out_features or target_resid_features):\n",
    "        continue\n",
    "\n",
    "    # qk_n.named_shape\n",
    "    # out_raw = jnp.einsum(\"bokp,bkqso->bskqp\", v, qk)\n",
    "    # out_n = pz.nx.wrap(out_raw, \"batch\", \"seq\", \"kv_heads\", \"q_rep\", \"projection\")\n",
    "    # out = attn_layer.attn_value_to_output(out_n)\n",
    "\n",
    "    next_sae = circuitizer.get_sae(layer=layer+1)\n",
    "    attn_sae = circuitizer.get_sae(layer=layer, label=\"attn_out\")\n",
    "    resid_sae = {k: v.astype(jnp.float32) for k, v in resid_sae.items()}\n",
    "    attn_sae = {k: v.astype(jnp.float32) for k, v in attn_sae.items()}\n",
    "    next_sae = {k: v.astype(jnp.float32) for k, v in next_sae.items()}\n",
    "    \n",
    "    # new_source = []\n",
    "    # for source_resid_feature in source_resid_features:\n",
    "    #     if detectors[\"heatmap\"][detectors[\"task_names\"].index(task_name)][detectors[\"features\"].index(source_resid_feature)] <= 0.2:\n",
    "    #         print(\"Warning: skipping source feature\", source_resid_feature)\n",
    "    #         continue\n",
    "    #     new_source.append(source_resid_feature)\n",
    "    # source_resid_features = new_source\n",
    "    # new_target = []\n",
    "    # for target_resid_feature in target_resid_features:\n",
    "    #     if executors[\"heatmap\"][executors[\"task_names\"].index(task_name)][executors[\"features\"].index(target_resid_feature)] <= 0.2:\n",
    "    #         print(\"Warning: skipping target feature\", target_resid_feature)\n",
    "    #         continue\n",
    "    #     new_target.append(target_resid_feature)\n",
    "    # target_resid_features = new_target\n",
    "\n",
    "    # layer = 12\n",
    "    for source_resid_feature in source_resid_features:\n",
    "        biggest_feature = circuitizer.ie_resid[layer].mean((0, 1)).argmax().tolist()\n",
    "        attn_features = circuitizer.ie_attn[layer].mean((0, 1))\n",
    "        biggest_attn_feature = jnp.argsort(attn_features)[-2]\n",
    "        # source_resid_feature = biggest_feature\n",
    "        # attn_out_feature = biggest_attn_feature\n",
    "        r_pre = circuitizer.resids_pre[layer].astype(jnp.float32)\n",
    "        r_mid = circuitizer.resids_mid[layer].astype(jnp.float32)\n",
    "        # attn_out = r_mid - r_pre\n",
    "        # _, pre_encodings, recon = sae_encode(resid_sae, r_pre)\n",
    "        # pre_encodings = pre_encodings * jnp.zeros(pre_encodings.shape[-1]).at[source_resid_feature].set(25)\n",
    "        # err_r = r_pre - recon\n",
    "        # _, attn_encodings, _ = sae_encode(attn_sae, attn_out)\n",
    "        # r_other = weights_to_resid(pre_encodings, resid_sae) + err_r\n",
    "        attn_subblock = circuitizer.llama.select().at_instances_of(LlamaBlock).pick_nth_selected(layer).at_instances_of(pz.nn.Residual).pick_nth_selected(0).get().delta\n",
    "        attn_layer = attn_subblock.select().at_instances_of(LlamaAttention).pick_nth_selected(0).get()\n",
    "        attn_ln = attn_subblock.select().at_instances_of(pz.nn.RMSLayerNorm).pick_nth_selected(0).get()\n",
    "\n",
    "\n",
    "\n",
    "\n",
    "        r_other = r_pre\n",
    "\n",
    "        _, feature_activation, _ = sae_encode(resid_sae, r_other)\n",
    "        feature_activation = feature_activation[..., source_resid_feature]\n",
    "        average_activation = feature_activation.mean()\n",
    "\n",
    "        print(\n",
    "            source_resid_feature, average_activation\n",
    "        )\n",
    "\n",
    "        direction = resid_sae[\"W_dec\"][source_resid_feature]\n",
    "        direction = direction / jnp.linalg.norm(direction)\n",
    "        r_other = r_other - direction * average_activation * 50\n",
    "\n",
    "        \n",
    "        print(\n",
    "            np.linalg.norm(r_other - r_pre)\n",
    "        )\n",
    "\n",
    "\n",
    "        r_other_n = pz.nx.wrap(r_other, \"batch\", \"seq\", \"embedding\")\n",
    "\n",
    "        attn_input = attn_ln(r_other_n)\n",
    "        v_n = attn_layer.input_to_value(attn_input)\n",
    "        # v = v_n.unwrap(\"batch\", \"seq\", \"kv_heads\", \"projection\")\n",
    "        qk = circuitizer.qk[layer]\n",
    "        qk_n = pz.nx.wrap(qk, \"batch\", \"kv_heads\", \"q_rep\", \"seq\", \"kv_seq\")\n",
    "        out_n = attn_layer.attn_value_to_output((qk_n, v_n))\n",
    "        \n",
    "        print(\n",
    "            np.linalg.norm(out_n.unwrap(\"batch\", \"seq\", \"embedding\").astype(jnp.float32) - (r_mid - r_pre))\n",
    "        )\n",
    "\n",
    "        mlp_subblock = circuitizer.llama.select().at_instances_of(LlamaBlock).pick_nth_selected(layer).at_instances_of(pz.nn.Residual).pick_nth_selected(1).get()\n",
    "\n",
    "        out_n = out_n + r_other_n\n",
    "\n",
    "        out_n = mlp_subblock(out_n)\n",
    "\n",
    "        out = out_n.unwrap(\"batch\", \"seq\", \"embedding\").astype(jnp.float32)\n",
    "\n",
    "        next_resid_new = out\n",
    "\n",
    "        \n",
    "        # out = out_n.unwrap(\"batch\", \"seq\", \"embedding\").astype(jnp.float32)\n",
    "        # _, alt_attn_encodings, _ = sae_encode(attn_sae, out)\n",
    "\n",
    "        # for attn_out_feature in attn_out_features:\n",
    "        #     proportions_feature = alt_attn_encodings[..., attn_out_feature] / attn_encodings[..., attn_out_feature]\n",
    "        #     proportions_feature = jax.nn.relu(jnp.minimum(proportions_feature, 1))\n",
    "        #     plt.title(f\"R {layer} {source_resid_feature} -> A {layer} {attn_out_feature}\")\n",
    "        #     plt.hist(proportions_feature.flatten().tolist(), bins = jnp.linspace(0, 1, 10))\n",
    "        #     plt.xlabel(\"Proportion of feature activation\")\n",
    "        #     plt.show()\n",
    "        \n",
    "        next_resid = circuitizer.resids_pre[layer + 1].astype(jnp.float32)\n",
    "\n",
    "\n",
    "        print(\n",
    "            np.linalg.norm(next_resid_new - next_resid)\n",
    "        )\n",
    "\n",
    "        _, target_encodings, _ = sae_encode(next_sae, next_resid)\n",
    "        # _, alt_target_encodings, _ = sae_encode(next_sae, next_resid + (out - attn_out))\n",
    "        # _, alt_target_encodings, _ = sae_encode(next_sae, next_resid + (attn_out - out))\n",
    "        _, alt_target_encodings, _ = sae_encode(next_sae, next_resid_new)\n",
    "        # _, alt_target_encodings, _ = sae_encode(next_sae, attn_out)\n",
    "\n",
    "        for target_resid_feature in target_resid_features:\n",
    "            proportions_feature = alt_target_encodings[..., target_resid_feature] / target_encodings[..., target_resid_feature]\n",
    "            proportions_feature = 1 - jax.nn.relu(jnp.minimum(1, proportions_feature))\n",
    "            proportions_feature = proportions_feature[~jnp.isnan(proportions_feature)]\n",
    "            # if not proportions_feature.size:\n",
    "            #     print(f\"Max activation for\", layer + 1, target_resid_feature, target_encodings[..., target_resid_feature].max())\n",
    "            #     print(\"Skipping\", source_resid_feature, target_resid_feature, \"(no activations)\")\n",
    "            #     continue\n",
    "            # if proportions_feature.max() < 0.1:\n",
    "            #     print(\"Skipping\", source_resid_feature, target_resid_feature, \"(no high proportion)\")\n",
    "            #     continue\n",
    "            # plt.title(f\"Task {task_name}: R {layer} {source_resid_feature} -> A {layer} -> R {layer+1} {target_resid_feature}\")\n",
    "            # plt.hist(proportions_feature.flatten().tolist(), bins = jnp.linspace(0, 1, 10))\n",
    "            # # try:\n",
    "            # #     plt.hist(proportions_feature.flatten().tolist())#, bins = jnp.linspace(0, 1, 10))\n",
    "            # # except ValueError:\n",
    "            # #     plt.close()\n",
    "            # #     continue\n",
    "            # plt.xlabel(\"Proportion of feature activation\")\n",
    "            # plt.savefig(f\"data/attn_out/{task_name}_{layer}_{source_resid_feature}_{layer}_{layer+1}_{target_resid_feature}.png\")\n",
    "            # plt.close()\n",
    "\n",
    "            # with open(\"micrlhf-progress/attn_results_3.jsonl\", \"a\") as f:\n",
    "            tmp_results.append({\n",
    "                \"task\": task_name,\n",
    "                \"source\": source_resid_feature,\n",
    "                \"target\": target_resid_feature,\n",
    "                \"proportions\": proportions_feature.flatten().tolist()\n",
    "            })"
   ]
  },
  {
   "cell_type": "code",
   "execution_count": null,
   "metadata": {},
   "outputs": [
    {
     "name": "stdout",
     "output_type": "stream",
     "text": [
      "antonyms 162\n",
      "162\n",
      "Setting up masks...\n",
      "Running metrics...\n",
      "Setting up RMS...\n"
     ]
    },
    {
     "data": {
      "application/vnd.jupyter.widget-view+json": {
       "model_id": "b29a3209bfa54baf81364af128710660",
       "version_major": 2,
       "version_minor": 0
      },
      "text/plain": [
       "  0%|          | 0/18 [00:00<?, ?it/s]"
      ]
     },
     "metadata": {},
     "output_type": "display_data"
    },
    {
     "name": "stdout",
     "output_type": "stream",
     "text": [
      "Loading SAEs...\n"
     ]
    },
    {
     "data": {
      "application/vnd.jupyter.widget-view+json": {
       "model_id": "7ea537adedc647b69389caa2f6d65f5c",
       "version_major": 2,
       "version_minor": 0
      },
      "text/plain": [
       "  0%|          | 0/2 [00:00<?, ?it/s]"
      ]
     },
     "metadata": {},
     "output_type": "display_data"
    },
    {
     "name": "stdout",
     "output_type": "stream",
     "text": [
      "Running node IEs...\n"
     ]
    },
    {
     "data": {
      "application/vnd.jupyter.widget-view+json": {
       "model_id": "48ed395b83fa43e3937896c6d2e5298f",
       "version_major": 2,
       "version_minor": 0
      },
      "text/plain": [
       "  0%|          | 0/2 [00:00<?, ?it/s]"
      ]
     },
     "metadata": {},
     "output_type": "display_data"
    },
    {
     "data": {
      "application/vnd.jupyter.widget-view+json": {
       "model_id": "2d037acf51c845eda0dd9a99eeae4f7e",
       "version_major": 2,
       "version_minor": 0
      },
      "text/plain": [
       "  0%|          | 0/2 [00:00<?, ?it/s]"
      ]
     },
     "metadata": {},
     "output_type": "display_data"
    },
    {
     "data": {
      "application/vnd.jupyter.widget-view+json": {
       "model_id": "c55e6909e0494d30bd5850af218026a1",
       "version_major": 2,
       "version_minor": 0
      },
      "text/plain": [
       "  0%|          | 0/1 [00:00<?, ?it/s]"
      ]
     },
     "metadata": {},
     "output_type": "display_data"
    },
    {
     "name": "stdout",
     "output_type": "stream",
     "text": [
      "11618\n",
      "[0.7428304  0.60950047 0.6216374  0.6193785  0.8231899  0.\n",
      " 0.6964322  0.76370114 0.65168077 0.         0.6551659  0.57254684\n",
      " 0.6094669  0.6527932  0.6335376  0.7163756  0.         0.\n",
      " 0.7603488  0.         0.         0.76564175 0.7638314  0.70870316\n",
      " 0.66380006 0.63612086 0.78555423]\n",
      "26594\n",
      "[]\n",
      "13458\n",
      "[]\n",
      "10720\n",
      "[0.7214945  0.83225334 0.87062883 0.77617246 0.8826739  0.74598545\n",
      " 0.8453198  0.8554044  0.79615736 0.83550423 0.         0.7612964\n",
      " 0.83334976 0.8043599  0.91788435 0.         0.8837158  0.89956135\n",
      " 0.8219275  0.7767261  0.         0.8336407  0.80329776 0.79496896\n",
      " 0.7958221  0.7784801  0.7338257  0.71578443 0.5986707  0.717503\n",
      " 0.7168647  0.8329314  0.79062563 0.7518041  0.78416806 0.75388956\n",
      " 0.8234078  0.8061426  0.9003273  0.8345683 ]\n",
      "22136\n",
      "[0.92484343 0.8742544  0.9479348  0.99503595 0.8495126  0.9987961\n",
      " 0.75574654 0.873047   1.0697117  1.0053577  0.9299525  1.0580701\n",
      " 0.9374937 ]\n",
      "31620\n",
      "[0.         0.         0.5236618  0.83889335 0.6572352  0.\n",
      " 0.         0.6980044  0.         0.70534873 0.         0.772323\n",
      " 0.        ]\n",
      "19112\n",
      "[0.         0.851582   0.         0.7160505  0.7364131  0.88644\n",
      " 0.         0.8404927  0.         0.         0.8018381  0.8301329\n",
      " 0.58218914]\n",
      "19097\n",
      "[0.         0.92941827 0.9312626  0.         0.8616942  0.\n",
      " 0.9000387  0.         0.63650155 0.88335896 0.8081259  0.82364005\n",
      " 0.81946516 0.         0.7941703  0.7473624  0.7546267  0.82894504\n",
      " 0.80982417 0.         0.         0.8472086  0.8779629  0.814326  ]\n",
      "15947\n",
      "[]\n",
      "6765\n",
      "[]\n",
      "6013\n",
      "[0.        0.7620108 0.        0.6560261 0.        0.7026596]\n",
      "25712\n",
      "[0.]\n",
      "25576\n",
      "[0.88492125 0.86955744 0.88771534 0.84701854 0.8538516  0.86109126\n",
      " 0.9036817  0.88457507 0.72637314 0.8414601  0.835423   0.75389075\n",
      " 0.8340035  0.8441323  0.84669244 0.8201421  0.7078489  0.\n",
      " 0.81468236 0.7928244  0.73886544 0.85536605 0.8390209  0.78150475\n",
      " 0.77775186 0.89108163 0.8905132  0.80565995 0.67718387 0.7933934\n",
      " 0.7821005  0.6469221  0.7435924 ]\n",
      "30247\n",
      "[0.76971966 0.6756665 ]\n",
      "16313\n",
      "[]\n",
      "18285\n",
      "[]\n",
      "24993\n",
      "[]\n",
      "25759\n",
      "[]\n",
      "30618\n",
      "[0.         0.715134   0.8141668  0.6979048  0.7607143  1.0382326\n",
      " 1.2411214  1.1539849  0.99798286 0.         0.7491254  0.\n",
      "        inf 1.0402843         inf 1.227559   0.812119   0.74263036\n",
      " 0.66946334]\n",
      "18400\n",
      "[0.69294554 0.8146705  0.9409201  0.8894255  0.8904432  0.8582053 ]\n"
     ]
    },
    {
     "data": {
      "image/png": "[encoded data removed]",
      "text/plain": [
       "<Figure size 640x480 with 1 Axes>"
      ]
     },
     "metadata": {},
     "output_type": "display_data"
    }
   ],
   "source": [
    "from matplotlib import pyplot as plt\n",
    "import jax.numpy as jnp\n",
    "from micrlhf.utils.load_sae import sae_encode, weights_to_resid\n",
    "from micrlhf.llama import LlamaBlock, LlamaAttention, LlamaInputs\n",
    "from tqdm.auto import tqdm\n",
    "import gc\n",
    "\n",
    "\n",
    "def check_if_single_token(token):\n",
    "    return len(tokenizer.tokenize(token)) == 1\n",
    "\n",
    "# !rm data/attn_out/*.png\n",
    "# def plot_attn(task_name):\n",
    "\n",
    "task_name = \"antonyms\"\n",
    "\n",
    "task = tasks[task_name]\n",
    "\n",
    "print(task_name, len(task))\n",
    "\n",
    "# task = {\n",
    "#     k:v for k,v in task.items() if check_if_single_token(k) and check_if_single_token(v)\n",
    "# }\n",
    "\n",
    "print(len(task))\n",
    "\n",
    "pairs = list(task.items())\n",
    "\n",
    "batch_size = 8\n",
    "n_shot=5\n",
    "max_seq_len = 128\n",
    "seed = 10\n",
    "\n",
    "prompt = \"Follow the pattern:\\n{}\"\n",
    "\n",
    "runner = ICLRunner(task_name, pairs, batch_size=batch_size, n_shot=n_shot,\n",
    "                max_seq_len=max_seq_len, seed=seed,\n",
    "                prompt=prompt, use_same_examples=False)\n",
    "\n",
    "layers = [11, 12] #, 13, 14]\n",
    "circuitizer = Circuitizer(llama, tokenizer, runner, layers, prompt)\n",
    "\n",
    "\n",
    "\n",
    "\n",
    "task_source_resid_features = {11: detectors[\"features\"]}\n",
    "# task_source_resid_features = {11: detectors[task_name]}\n",
    "# task_target_resid_features = {12: [28800, 16172, 19051,  3925, 22162, 27165, 24640, 26427, 31442,\n",
    "#         1425, 25273,  6685, 25966,  5854, 29007, 30363],}#[]}\n",
    "task_target_resid_features = {12: executors[\"features\"],}#[]}\n",
    "# task_target_resid_features = {12: executors[task_name]}\n",
    "# task_attn_out_features = {11: [4080]}\n",
    "task_attn_out_features = {}\n",
    "for layer in layers[:-1]:\n",
    "    resid_sae = circuitizer.get_sae(layer=layer)\n",
    "    source_resid_features = task_source_resid_features.get(layer, [])\n",
    "    attn_out_features = task_attn_out_features.get(layer, [])\n",
    "    target_resid_features = task_target_resid_features.get(layer + 1, [])\n",
    "    if not source_resid_features or not (attn_out_features or target_resid_features):\n",
    "        continue\n",
    "\n",
    "    # qk_n.named_shape\n",
    "    # out_raw = jnp.einsum(\"bokp,bkqso->bskqp\", v, qk)\n",
    "    # out_n = pz.nx.wrap(out_raw, \"batch\", \"seq\", \"kv_heads\", \"q_rep\", \"projection\")\n",
    "    # out = attn_layer.attn_value_to_output(out_n)\n",
    "\n",
    "    next_sae = circuitizer.get_sae(layer=layer + 1)\n",
    "    attn_sae = circuitizer.get_sae(layer=layer, label=\"attn_out\")\n",
    "    resid_sae = {k: v.astype(jnp.float32) for k, v in resid_sae.items()}\n",
    "    attn_sae = {k: v.astype(jnp.float32) for k, v in attn_sae.items()}\n",
    "    next_sae = {k: v.astype(jnp.float32) for k, v in next_sae.items()}\n",
    "    \n",
    "    new_source = []\n",
    "    for source_resid_feature in source_resid_features:\n",
    "        if detectors[\"heatmap\"][detectors[\"task_names\"].index(task_name)][detectors[\"features\"].index(source_resid_feature)] < 0.3:\n",
    "            continue\n",
    "        new_source.append(source_resid_feature)\n",
    "    source_resid_features = new_source\n",
    "    new_target = []\n",
    "    for target_resid_feature in target_resid_features:\n",
    "        if executors[\"heatmap\"][executors[\"task_names\"].index(task_name)][executors[\"features\"].index(target_resid_feature)] < 0.3:\n",
    "            continue\n",
    "        new_target.append(target_resid_feature)\n",
    "    target_resid_features = new_target\n",
    "\n",
    "    # layer = 12\n",
    "    for source_resid_feature in source_resid_features:\n",
    "        biggest_feature = circuitizer.ie_resid[layer].mean((0, 1)).argmax().tolist()\n",
    "        attn_features = circuitizer.ie_attn[layer].mean((0, 1))\n",
    "        biggest_attn_feature = jnp.argsort(attn_features)[-2]\n",
    "        # source_resid_feature = biggest_feature\n",
    "        # attn_out_feature = biggest_attn_feature\n",
    "        r_pre = circuitizer.resids_pre[layer].astype(jnp.float32)\n",
    "        r_mid = circuitizer.resids_mid[layer].astype(jnp.float32)\n",
    "        attn_out = r_mid - r_pre\n",
    "        _, pre_encodings, recon = sae_encode(resid_sae, r_pre)\n",
    "        pre_encodings = pre_encodings * jnp.zeros(pre_encodings.shape[-1]).at[source_resid_feature].set(1)\n",
    "        err_r = r_pre - recon\n",
    "        _, attn_encodings, _ = sae_encode(attn_sae, attn_out)\n",
    "        r_other = weights_to_resid(pre_encodings, resid_sae) + err_r\n",
    "        attn_subblock = circuitizer.llama.select().at_instances_of(LlamaBlock).pick_nth_selected(layer).at_instances_of(pz.nn.Residual).pick_nth_selected(0).get().delta\n",
    "        attn_layer = attn_subblock.select().at_instances_of(LlamaAttention).pick_nth_selected(0).get()\n",
    "        attn_ln = attn_subblock.select().at_instances_of(pz.nn.RMSLayerNorm).pick_nth_selected(0).get()\n",
    "        r_other_n = pz.nx.wrap(r_other, \"batch\", \"seq\", \"embedding\")\n",
    "        attn_input = attn_ln(r_other_n)\n",
    "        v_n = attn_layer.input_to_value(attn_input)\n",
    "        # v = v_n.unwrap(\"batch\", \"seq\", \"kv_heads\", \"projection\")\n",
    "        qk = circuitizer.qk[layer]\n",
    "        qk_n = pz.nx.wrap(qk, \"batch\", \"kv_heads\", \"q_rep\", \"seq\", \"kv_seq\")\n",
    "        out_n = attn_layer.attn_value_to_output((qk_n, v_n))\n",
    "        out = out_n.unwrap(\"batch\", \"seq\", \"embedding\").astype(jnp.float32)\n",
    "        _, alt_attn_encodings, _ = sae_encode(attn_sae, out)\n",
    "\n",
    "        # for attn_out_feature in attn_out_features:\n",
    "        #     proportions_feature = alt_attn_encodings[..., attn_out_feature] / attn_encodings[..., attn_out_feature]\n",
    "        #     proportions_feature = jax.nn.relu(jnp.minimum(proportions_feature, 1))\n",
    "        #     plt.title(f\"R {layer} {source_resid_feature} -> A {layer} {attn_out_feature}\")\n",
    "        #     plt.hist(proportions_feature.flatten().tolist(), bins = jnp.linspace(0, 1, 10))\n",
    "        #     plt.xlabel(\"Proportion of feature activation\")\n",
    "        #     plt.show()\n",
    "        \n",
    "        next_resid = circuitizer.resids_pre[layer + 1].astype(jnp.float32)\n",
    "        _, target_encodings, _ = sae_encode(next_sae, next_resid)\n",
    "        # _, alt_target_encodings, _ = sae_encode(next_sae, next_resid + (out - attn_out))\n",
    "        _, alt_target_encodings, _ = sae_encode(next_sae, next_resid + (attn_out - 5 * out))\n",
    "        # _, alt_target_encodings, _ = sae_encode(next_sae, attn_out)\n",
    "\n",
    "        for target_resid_feature in target_resid_features:\n",
    "            proportions_feature = alt_target_encodings[..., target_resid_feature] / target_encodings[..., target_resid_feature]\n",
    "\n",
    "            if (source_resid_feature == 11050):\n",
    "                print(target_resid_feature)\n",
    "                # print(target_encodings[..., target_resid_feature][0])\n",
    "                proportions_feature = 1 - jax.nn.relu(jnp.minimum(1, proportions_feature))\n",
    "                print(proportions_feature[~jnp.isnan(proportions_feature)])\n",
    "\n",
    "\n",
    "            proportions_feature = 1 - jax.nn.relu(jnp.minimum(1, proportions_feature))\n",
    "            proportions_feature = proportions_feature[~jnp.isnan(proportions_feature)]\n",
    "            if not proportions_feature.size:\n",
    "                continue\n",
    "            if proportions_feature.max() < 0.1:\n",
    "                continue\n",
    "            plt.title(f\"Task {task_name}: R {layer} {source_resid_feature} -> A {layer} -> R {layer+1} {target_resid_feature}\")\n",
    "            plt.hist(proportions_feature.flatten().tolist(), bins = jnp.linspace(0, 1, 10))\n",
    "            # try:\n",
    "            #     plt.hist(proportions_feature.flatten().tolist())#, bins = jnp.linspace(0, 1, 10))\n",
    "            # except ValueError:\n",
    "            #     plt.close()\n",
    "            #     continue\n",
    "            # plt.xlabel(\"Proportion of feature activation\")\n",
    "            # plt.savefig(f\"data/attn_out/{task_name}_{layer}_{source_resid_feature}_{layer}_{layer+1}_{target_resid_feature}.png\")\n",
    "            # plt.close()\n",
    "\n",
    "            # plt.show()\n",
    "\n",
    "# for detector_tni, task_name in enumerate(tqdm(detectors[\"task_names\"])):\n",
    "# # task_name = \"antonyms\"\n",
    "# # task_name = \"location_language\"\n",
    "#     plot_attn(task_name)\n",
    "#     gc.collect()"
   ]
  },
  {
   "cell_type": "code",
   "execution_count": null,
   "metadata": {},
   "outputs": [
    {
     "data": {
      "image/png": "[encoded data removed]",
      "text/plain": [
       "<Figure size 640x480 with 1 Axes>"
      ]
     },
     "metadata": {},
     "output_type": "display_data"
    },
    {
     "name": "stdout",
     "output_type": "stream",
     "text": [
      "8.807933\n"
     ]
    },
    {
     "data": {
      "image/png": "[encoded data removed]",
      "text/plain": [
       "<Figure size 640x480 with 1 Axes>"
      ]
     },
     "metadata": {},
     "output_type": "display_data"
    },
    {
     "name": "stdout",
     "output_type": "stream",
     "text": [
      "6.7455096\n"
     ]
    },
    {
     "data": {
      "image/png": "[encoded data removed]",
      "text/plain": [
       "<Figure size 640x480 with 1 Axes>"
      ]
     },
     "metadata": {},
     "output_type": "display_data"
    },
    {
     "name": "stdout",
     "output_type": "stream",
     "text": [
      "3.4522972\n"
     ]
    },
    {
     "data": {
      "image/png": "[encoded data removed]",
      "text/plain": [
       "<Figure size 640x480 with 1 Axes>"
      ]
     },
     "metadata": {},
     "output_type": "display_data"
    },
    {
     "name": "stdout",
     "output_type": "stream",
     "text": [
      "2.933157\n"
     ]
    },
    {
     "data": {
      "image/png": "[encoded data removed]",
      "text/plain": [
       "<Figure size 640x480 with 1 Axes>"
      ]
     },
     "metadata": {},
     "output_type": "display_data"
    },
    {
     "name": "stdout",
     "output_type": "stream",
     "text": [
      "2.151169\n"
     ]
    },
    {
     "data": {
      "image/png": "[encoded data removed]",
      "text/plain": [
       "<Figure size 640x480 with 1 Axes>"
      ]
     },
     "metadata": {},
     "output_type": "display_data"
    },
    {
     "name": "stdout",
     "output_type": "stream",
     "text": [
      "2.5086749\n"
     ]
    },
    {
     "data": {
      "image/png": "[encoded data removed]",
      "text/plain": [
       "<Figure size 640x480 with 1 Axes>"
      ]
     },
     "metadata": {},
     "output_type": "display_data"
    },
    {
     "name": "stdout",
     "output_type": "stream",
     "text": [
      "1.88948\n"
     ]
    },
    {
     "data": {
      "image/png": "[encoded data removed]",
      "text/plain": [
       "<Figure size 640x480 with 1 Axes>"
      ]
     },
     "metadata": {},
     "output_type": "display_data"
    },
    {
     "name": "stdout",
     "output_type": "stream",
     "text": [
      "2.9522076\n"
     ]
    },
    {
     "data": {
      "image/png": "[encoded data removed]",
      "text/plain": [
       "<Figure size 640x480 with 1 Axes>"
      ]
     },
     "metadata": {},
     "output_type": "display_data"
    },
    {
     "name": "stdout",
     "output_type": "stream",
     "text": [
      "2.037872\n"
     ]
    },
    {
     "data": {
      "image/png": "[encoded data removed]",
      "text/plain": [
       "<Figure size 640x480 with 1 Axes>"
      ]
     },
     "metadata": {},
     "output_type": "display_data"
    },
    {
     "name": "stdout",
     "output_type": "stream",
     "text": [
      "2.2260008\n"
     ]
    },
    {
     "data": {
      "image/png": "[encoded data removed]",
      "text/plain": [
       "<Figure size 640x480 with 1 Axes>"
      ]
     },
     "metadata": {},
     "output_type": "display_data"
    },
    {
     "name": "stdout",
     "output_type": "stream",
     "text": [
      "4.012281\n"
     ]
    },
    {
     "data": {
      "image/png": "[encoded data removed]",
      "text/plain": [
       "<Figure size 640x480 with 1 Axes>"
      ]
     },
     "metadata": {},
     "output_type": "display_data"
    },
    {
     "name": "stdout",
     "output_type": "stream",
     "text": [
      "3.353037\n"
     ]
    },
    {
     "data": {
      "image/png": "[encoded data removed]",
      "text/plain": [
       "<Figure size 640x480 with 1 Axes>"
      ]
     },
     "metadata": {},
     "output_type": "display_data"
    },
    {
     "name": "stdout",
     "output_type": "stream",
     "text": [
      "1.5142953\n"
     ]
    },
    {
     "data": {
      "image/png": "[encoded data removed]",
      "text/plain": [
       "<Figure size 640x480 with 1 Axes>"
      ]
     },
     "metadata": {},
     "output_type": "display_data"
    },
    {
     "name": "stdout",
     "output_type": "stream",
     "text": [
      "2.431318\n"
     ]
    },
    {
     "data": {
      "image/png": "[encoded data removed]",
      "text/plain": [
       "<Figure size 640x480 with 1 Axes>"
      ]
     },
     "metadata": {},
     "output_type": "display_data"
    },
    {
     "name": "stdout",
     "output_type": "stream",
     "text": [
      "3.0441122\n"
     ]
    },
    {
     "data": {
      "image/png": "[encoded data removed]",
      "text/plain": [
       "<Figure size 640x480 with 1 Axes>"
      ]
     },
     "metadata": {},
     "output_type": "display_data"
    },
    {
     "name": "stdout",
     "output_type": "stream",
     "text": [
      "1.7817708\n"
     ]
    },
    {
     "data": {
      "image/png": "[encoded data removed]",
      "text/plain": [
       "<Figure size 640x480 with 1 Axes>"
      ]
     },
     "metadata": {},
     "output_type": "display_data"
    }
   ],
   "source": []
  },
  {
   "cell_type": "code",
   "execution_count": null,
   "metadata": {},
   "outputs": [
    {
     "data": {
      "text/html": [
       "<script> (()=>{ if (customElements.get('treescope-container') === undefined) { class TreescopeContainer extends HTMLElement { constructor() { super(); this.attachShadow({mode: \"open\"}); this.defns = {}; this.state = {}; } } customElements.define(\"treescope-container\", TreescopeContainer); } if (customElements.get('treescope-run-here') === undefined) { class RunHere extends HTMLElement { constructor() { super() } connectedCallback() { const run = child => { const fn = new Function(child.textContent); child.textContent = \"\"; fn.call(this); this.remove(); }; const child = this.querySelector(\"script\"); if (child) { run(child); } else { new MutationObserver(()=>{ run(this.querySelector(\"script\")); }).observe(this, {childList: true}); } } } customElements.define(\"treescope-run-here\", RunHere); } })(); </script> <treescope-container class=\"treescope_out_5b85d82c8dd441119f01661ff41c5c12\" ></treescope-container> <treescope-run-here><script type=\"application/octet-stream\"> const root = ( Array.from(document.getElementsByClassName( \"treescope_out_5b85d82c8dd441119f01661ff41c5c12\")) .filter((elt) => !elt.dataset.setup) )[0]; root.dataset.setup = 1; const msg = document.createElement(\"span\"); msg.style = \"color: #aaaaaa; font-family: monospace; transition: opacity 0.2s; opacity: 0.0;\"; msg.textContent = \"(Loading...)\"; root.state.loadingMsg = msg; root.shadowRoot.appendChild(msg); root.state.chain = new Promise((resolve, reject) => { const observer = new IntersectionObserver((entries) => { for (const entry of entries) { if (entry.isIntersecting) { resolve(); observer.disconnect(); return; } } }, {rootMargin: \"1000px\"}); window.setTimeout(() => { if (root.loadingMsg) { root.loadingMsg.style.opacity = \"1.0\"; } observer.observe(root); }, 0); }); root.state.deferring = false; const _insertNode = (node) => { for (let oldScript of node.querySelectorAll(\"script\")) { let newScript = document.createElement(\"script\"); newScript.type = oldScript.type; newScript.textContent = oldScript.textContent; oldScript.parentNode.replaceChild(newScript, oldScript); } if (root.state.loadingMsg) { root.state.loadingMsg.remove(); root.state.loadingMsg = null; } root.shadowRoot.appendChild(node); }; root.defns.insertContent = ((contentNode, compressed) => { if (compressed) { root.state.deferring = true; } if (root.state.deferring) { root.state.chain = (async () => { await root.state.chain; if (compressed) { const encoded = contentNode.textContent; const blob = new Blob([ Uint8Array.from(atob(encoded), (m) => m.codePointAt(0)) ]); const reader = blob.stream().pipeThrough( new DecompressionStream(\"deflate\") ).pipeThrough( new TextDecoderStream(\"utf-8\") ).getReader(); const parts = []; while (true) { const step = await reader.read(); if (step.done) { break; } parts.push(step.value); } const tpl = document.createElement('template'); tpl.innerHTML = parts.join(\"\"); _insertNode(tpl.content); } else { _insertNode(contentNode.content); } })(); } else { _insertNode(contentNode.content); } }); </script></treescope-run-here><div style=\"display:none\"> <script type=\"application/octet-stream\" >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</script> <treescope-run-here><script type=\"application/octet-stream\"> const root = ( Array.from(document.getElementsByClassName( \"treescope_out_5b85d82c8dd441119f01661ff41c5c12\")) .filter((elt) => !elt.dataset['step0']) )[0]; root.dataset['step0'] = 1; root.defns.insertContent( this.parentNode.querySelector('script[type=\"application/octet-stream\"]'), true ); this.parentNode.remove(); </script></treescope-run-here> </div>"
      ],
      "text/plain": [
       "<IPython.core.display.HTML object>"
      ]
     },
     "metadata": {},
     "output_type": "display_data"
    },
    {
     "data": {
      "text/html": [
       "<div style=\"display:none\"> <script type=\"application/octet-stream\" >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</script> <treescope-run-here><script type=\"application/octet-stream\"> const root = ( Array.from(document.getElementsByClassName( \"treescope_out_5b85d82c8dd441119f01661ff41c5c12\")) .filter((elt) => !elt.dataset['step1']) )[0]; root.dataset['step1'] = 1; root.defns.insertContent( this.parentNode.querySelector('script[type=\"application/octet-stream\"]'), true ); this.parentNode.remove(); </script></treescope-run-here> </div>"
      ],
      "text/plain": [
       "<IPython.core.display.HTML object>"
      ]
     },
     "metadata": {},
     "output_type": "display_data"
    },
    {
     "data": {
      "text/html": [
       "<treescope-run-here><script type=\"application/octet-stream\"> const root = ( Array.from(document.getElementsByClassName( \"treescope_out_5b85d82c8dd441119f01661ff41c5c12\")) .filter((elt) => !elt.dataset.stolen) )[0]; root.dataset.stolen = 1; this.parentNode.replaceChild(root, this); </script></treescope-run-here>"
      ],
      "text/plain": [
       "[# jax.Array float32(16,) ≈0.047 ±0.044 [≥0.018, ≤0.2] nonzero:16\n",
       "   Array([0.20175186, 0.08991919, 0.06919241, 0.04634359, 0.04184751,\n",
       "          0.04144004, 0.03790932, 0.03438158, 0.03435165, 0.03256107,\n",
       "          0.02791193, 0.02244019, 0.02015262, 0.01917463, 0.01851204,\n",
       "          0.01797299], dtype=float32)\n",
       " ,\n",
       " # jax.Array int32(16,) [≥1_425, ≤31_442] nonzero:16\n",
       "   Array([28800, 16172, 19051,  3925, 22162, 27165, 24640, 26427, 31442,\n",
       "           1425, 25273,  6685, 25966,  5854, 29007, 30363], dtype=int32)\n",
       " ]"
      ]
     },
     "execution_count": 51,
     "metadata": {},
     "output_type": "execute_result"
    }
   ],
   "source": [
    "# jax.lax.top_k((circuitizer.ie_resid[12] * circuitizer.masks[\"arrow\"][..., None]).mean((0, 1)), 16)\n",
    "jax.lax.top_k((target_encodings * circuitizer.masks[\"arrow\"][..., None]).mean((0, 1)), 16)"
   ]
  },
  {
   "cell_type": "code",
   "execution_count": null,
   "metadata": {},
   "outputs": [],
   "source": []
  }
 ],
 "metadata": {
  "kernelspec": {
   "display_name": "micrlhf-progress-_SD4q1c9-py3.12",
   "language": "python",
   "name": "python3"
  },
  "language_info": {
   "codemirror_mode": {
    "name": "ipython",
    "version": 3
   },
   "file_extension": ".py",
   "mimetype": "text/x-python",
   "name": "python",
   "nbconvert_exporter": "python",
   "pygments_lexer": "ipython3",
   "version": "3.10.12"
  }
 },
 "nbformat": 4,
 "nbformat_minor": 2
}
