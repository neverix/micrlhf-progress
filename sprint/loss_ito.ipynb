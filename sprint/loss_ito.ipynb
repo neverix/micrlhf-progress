{
 "cells": [
  {
   "cell_type": "code",
   "execution_count": 1,
   "metadata": {},
   "outputs": [],
   "source": [
    "%load_ext autoreload\n",
    "%autoreload 2\n",
    "import penzai\n",
    "from penzai import pz\n",
    "pz.ts.register_as_default()\n",
    "pz.ts.register_autovisualize_magic()\n",
    "pz.enable_interactive_context()"
   ]
  },
  {
   "cell_type": "code",
   "execution_count": 2,
   "metadata": {},
   "outputs": [],
   "source": [
    "import random\n",
    "import dataclasses\n",
    "import jax\n",
    "import optax\n",
    "\n",
    "import jax.numpy as jnp\n",
    "import numpy as np\n",
    "\n",
    "from matplotlib import pyplot as plt\n",
    "from tqdm.auto import tqdm, trange\n",
    "from penzai.data_effects.side_output import SideOutputValue\n",
    "from micrlhf.utils.activation_manipulation import add_vector\n",
    "from micrlhf.utils.load_sae import get_sae\n",
    "from functools import partial"
   ]
  },
  {
   "cell_type": "code",
   "execution_count": 3,
   "metadata": {},
   "outputs": [],
   "source": [
    "filename = \"models/phi-3-16.gguf\"\n",
    "from micrlhf.llama import LlamaTransformer\n",
    "llama = LlamaTransformer.from_pretrained(filename, device_map=\"auto\")"
   ]
  },
  {
   "cell_type": "code",
   "execution_count": 4,
   "metadata": {},
   "outputs": [
    {
     "name": "stderr",
     "output_type": "stream",
     "text": [
      "/home/dmitrii/.cache/pypoetry/virtualenvs/micrlhf-progress-_SD4q1c9-py3.12/lib/python3.12/site-packages/huggingface_hub/file_download.py:1132: FutureWarning: `resume_download` is deprecated and will be removed in version 1.0.0. Downloads always resume when possible. If you want to force a new download, use `force_download=True`.\n",
      "  warnings.warn(\n",
      "Special tokens have been added in the vocabulary, make sure the associated word embeddings are fine-tuned or trained.\n"
     ]
    }
   ],
   "source": [
    "from transformers import AutoTokenizer\n",
    "tokenizer = AutoTokenizer.from_pretrained(\"microsoft/Phi-3-mini-4k-instruct\")\n",
    "tokenizer.pad_token = tokenizer.eos_token\n",
    "tokenizer.padding_side = \"left\""
   ]
  },
  {
   "cell_type": "code",
   "execution_count": 5,
   "metadata": {},
   "outputs": [
    {
     "name": "stderr",
     "output_type": "stream",
     "text": [
      "Cloning into 'itv'...\n",
      "fatal: unable to access 'https://github.com/roeehendel/icl_task_vectors data/itv/': URL using bad/illegal format or missing URL\n"
     ]
    }
   ],
   "source": [
    "from task_vector_utils import load_tasks, ICLDataset, ICLSequence\n",
    "tasks = load_tasks()"
   ]
  },
  {
   "cell_type": "code",
   "execution_count": 6,
   "metadata": {},
   "outputs": [],
   "source": [
    "from micrlhf.llama import LlamaBlock\n",
    "from micrlhf.sampling import sample, jit_wrapper\n",
    "get_resids = llama.select().at_instances_of(LlamaBlock).apply_with_selected_index(lambda i, x:\n",
    "    pz.nn.Sequential([\n",
    "        pz.de.TellIntermediate.from_config(tag=f\"resid_pre_{i}\"),\n",
    "        x\n",
    "    ])\n",
    ")\n",
    "get_resids = pz.de.CollectingSideOutputs.handling(get_resids, tag_predicate=lambda x: x.startswith(\"resid_pre\"))\n",
    "get_resids_call = jit_wrapper.Jitted(get_resids)"
   ]
  },
  {
   "cell_type": "code",
   "execution_count": 7,
   "metadata": {},
   "outputs": [],
   "source": [
    "def tokenized_to_inputs(input_ids, attention_mask):\n",
    "    token_array = jnp.asarray(input_ids)\n",
    "    token_array = jax.device_put(token_array, jax.sharding.NamedSharding(llama.mesh, jax.sharding.PartitionSpec(\"dp\", \"sp\")))\n",
    "    token_array = pz.nx.wrap(token_array, \"batch\", \"seq\").untag(\"batch\").tag(\"batch\")\n",
    "\n",
    "    mask_array = jnp.asarray(attention_mask, dtype=jnp.bool)\n",
    "    mask_array = jax.device_put(mask_array, jax.sharding.NamedSharding(llama.mesh, jax.sharding.PartitionSpec(\"dp\", \"sp\")))\n",
    "    mask_array = pz.nx.wrap(mask_array, \"batch\", \"seq\").untag(\"batch\").tag(\"batch\")\n",
    "\n",
    "    inputs = llama.inputs.from_basic_segments(token_array)\n",
    "    return inputs"
   ]
  },
  {
   "cell_type": "code",
   "execution_count": 8,
   "metadata": {},
   "outputs": [],
   "source": [
    "prompt = \"<user>Follow the pattern\\n{}\""
   ]
  },
  {
   "cell_type": "code",
   "execution_count": 9,
   "metadata": {},
   "outputs": [],
   "source": [
    "\n",
    "target_layer = 17"
   ]
  },
  {
   "cell_type": "code",
   "execution_count": 10,
   "metadata": {},
   "outputs": [],
   "source": [
    "task_names = [\n",
    "    \"en_es\"\n",
    "]\n",
    "\n",
    "task = \"en_es\"\n",
    "\n",
    "n_seeds = 10\n",
    "\n",
    "# n_few_shots, batch_size, max_seq_len = 64, 64, 512\n",
    "n_few_shots, batch_size, max_seq_len = 32, 64, 256"
   ]
  },
  {
   "cell_type": "code",
   "execution_count": 11,
   "metadata": {},
   "outputs": [],
   "source": [
    "def get_logprob_diff(logits: jnp.ndarray, target_tokens, print_results=False):\n",
    "    logprobs = jax.nn.log_softmax(logits, axis=-1)\n",
    "    answer_logprobs = logprobs[:, -1]\n",
    "\n",
    "    target_logprobs = jnp.take_along_axis(answer_logprobs, target_tokens[:, None], axis=-1).squeeze()\n",
    "\n",
    "    if print_results:\n",
    "        print(\n",
    "            tokenizer.decode(answer_logprobs.argmax(axis=-1))\n",
    "        )\n",
    "\n",
    "        print(\n",
    "            tokenizer.decode(target_tokens)\n",
    "        )\n",
    "\n",
    "    return target_logprobs\n"
   ]
  },
  {
   "cell_type": "code",
   "execution_count": 12,
   "metadata": {},
   "outputs": [],
   "source": [
    "from micrlhf.llama import LlamaBlock\n",
    "from functools import partial\n",
    "\n",
    "def make_get_resids(llama, layer_target):\n",
    "    get_resids = llama.select().at_instances_of(LlamaBlock).pick_nth_selected(layer_target\n",
    "                                                                              ).apply(lambda x:\n",
    "        pz.nn.Sequential([\n",
    "            pz.de.TellIntermediate.from_config(tag=f\"resid_pre\"),\n",
    "            x\n",
    "        ])\n",
    "    )\n",
    "    get_resids = pz.de.CollectingSideOutputs.handling(get_resids, tag_predicate=lambda x: x.startswith(\"resid_pre\"))\n",
    "    return get_resids"
   ]
  },
  {
   "cell_type": "code",
   "execution_count": 13,
   "metadata": {},
   "outputs": [],
   "source": [
    "import dataclasses\n",
    "def get_loss(weights, dictionary, inputs, target_tokens, taker, initial_resids):\n",
    "    weights = jax.nn.relu(weights)\n",
    "    \n",
    "\n",
    "    recon = jnp.einsum(\"fv,f->v\", dictionary, weights)\n",
    "    recon = recon.astype('bfloat16')\n",
    "\n",
    "    modified = pz.nx.nmap(lambda a, b: a.at[-1].add(b))(\n",
    "        initial_resids.untag(\"seq\", \"embedding\"), pz.nx.wrap(recon, \"embedding\").untag(\"embedding\")\n",
    "        ).tag(\"seq\", \"embedding\")\n",
    "\n",
    "    inputs = dataclasses.replace(inputs, tokens=modified)\n",
    "\n",
    "    logits = taker(inputs).unwrap(\"batch\", \"seq\", \"vocabulary\")\n",
    "\n",
    "    logprob_diff = get_logprob_diff(logits, target_tokens)\n",
    "    loss = -logprob_diff.mean()\n",
    "\n",
    "    return loss + 2e-2 * jnp.linalg.norm(weights, ord=1), ((weights != 0).sum(), loss)\n",
    "    # return loss, ((weights != 0).sum(), loss)"
   ]
  },
  {
   "cell_type": "code",
   "execution_count": 14,
   "metadata": {},
   "outputs": [],
   "source": [
    "def train_step(weights, opt_state, dictionary, inputs, target_tokens, taker, initial_resids, optimizer, lwg, pos_only=True):\n",
    "    (loss, (l0, loss_)), grad = lwg(weights, dictionary, inputs, target_tokens, taker, initial_resids)\n",
    "\n",
    "    updates, opt_state = optimizer.update(grad, opt_state, weights)\n",
    "    weights = optax.apply_updates(weights, updates)\n",
    "    # weights_abs = jnp.abs(weights)\n",
    "    # weights = jnp.sign(weights) * jax.nn.relu(weights_abs - shrinkage)\n",
    "\n",
    "    return loss, weights, opt_state, dict(l0=l0, loss=loss_)"
   ]
  },
  {
   "cell_type": "code",
   "execution_count": 15,
   "metadata": {},
   "outputs": [],
   "source": [
    "jittify = lambda x: partial(jax.jit(lambda lr, *args, **kwargs: lr(*args, **kwargs)[1][0].value), x)"
   ]
  },
  {
   "cell_type": "code",
   "execution_count": 16,
   "metadata": {},
   "outputs": [],
   "source": [
    "from task_vector_utils import FeatureSearch"
   ]
  },
  {
   "cell_type": "code",
   "execution_count": 17,
   "metadata": {},
   "outputs": [],
   "source": [
    "import datasets\n",
    "from datasets import load_dataset\n",
    "\n",
    "dataset = load_dataset(\"Helsinki-NLP/opus-100\", \"en-es\", split=\"validation\")"
   ]
  },
  {
   "cell_type": "code",
   "execution_count": 18,
   "metadata": {},
   "outputs": [],
   "source": [
    "sample = dataset.shuffle()[:200]\n",
    "sample = sample[\"translation\"]"
   ]
  },
  {
   "cell_type": "code",
   "execution_count": 19,
   "metadata": {},
   "outputs": [],
   "source": [
    "pairs = [(x[\"en\"], x[\"es\"]) for x in sample]\n",
    "# pairs"
   ]
  },
  {
   "cell_type": "code",
   "execution_count": 38,
   "metadata": {},
   "outputs": [
    {
     "data": {
      "application/vnd.jupyter.widget-view+json": {
       "model_id": "8a76ed2761fb4c099834c006bdcd30c2",
       "version_major": 2,
       "version_minor": 0
      },
      "text/plain": [
       "  0%|          | 0/2000 [00:00<?, ?it/s]"
      ]
     },
     "metadata": {},
     "output_type": "display_data"
    },
    {
     "ename": "KeyboardInterrupt",
     "evalue": "",
     "output_type": "error",
     "traceback": [
      "\u001b[0;31m---------------------------------------------------------------------------\u001b[0m",
      "\u001b[0;31mKeyboardInterrupt\u001b[0m                         Traceback (most recent call last)",
      "Cell \u001b[0;32mIn[38], line 7\u001b[0m\n\u001b[1;32m      1\u001b[0m picked_features \u001b[38;5;241m=\u001b[39m jnp\u001b[38;5;241m.\u001b[39marray(\u001b[38;5;28mlist\u001b[39m(\u001b[38;5;28mset\u001b[39m([\n\u001b[1;32m      2\u001b[0m     \u001b[38;5;241m604\u001b[39m, \u001b[38;5;241m34292\u001b[39m,  \u001b[38;5;241m6661\u001b[39m, \u001b[38;5;241m24549\u001b[39m,  \u001b[38;5;241m6198\u001b[39m, \u001b[38;5;241m14166\u001b[39m, \u001b[38;5;241m44525\u001b[39m, \u001b[38;5;241m41973\u001b[39m, \u001b[38;5;241m35027\u001b[39m,\n\u001b[1;32m      3\u001b[0m        \u001b[38;5;241m15949\u001b[39m, \u001b[38;5;241m18911\u001b[39m, \u001b[38;5;241m13590\u001b[39m, \u001b[38;5;241m40721\u001b[39m, \u001b[38;5;241m45024\u001b[39m,  \u001b[38;5;241m8023\u001b[39m, \u001b[38;5;241m14153\u001b[39m, \u001b[38;5;241m35597\u001b[39m, \u001b[38;5;241m36343\u001b[39m,\n\u001b[1;32m      4\u001b[0m        \u001b[38;5;241m24992\u001b[39m, \u001b[38;5;241m23008\u001b[39m, \u001b[38;5;241m34292\u001b[39m, \u001b[38;5;241m24549\u001b[39m, \u001b[38;5;241m6198\u001b[39m, \u001b[38;5;241m14166\u001b[39m, \u001b[38;5;241m44525\u001b[39m, \u001b[38;5;241m41973\u001b[39m, \u001b[38;5;241m18911\u001b[39m, \u001b[38;5;241m13590\u001b[39m\n\u001b[1;32m      5\u001b[0m ])))\n\u001b[1;32m      6\u001b[0m fs \u001b[38;5;241m=\u001b[39m FeatureSearch(\u001b[38;5;124m\"\u001b[39m\u001b[38;5;124men_es\u001b[39m\u001b[38;5;124m\"\u001b[39m, pairs, \u001b[38;5;241m18\u001b[39m, l1_coeff\u001b[38;5;241m=\u001b[39m\u001b[38;5;241m2e-2\u001b[39m, init_w\u001b[38;5;241m=\u001b[39m\u001b[38;5;241m0.5\u001b[39m, lr\u001b[38;5;241m=\u001b[39m\u001b[38;5;241m5e-2\u001b[39m, n_shot\u001b[38;5;241m=\u001b[39m\u001b[38;5;241m1\u001b[39m, n_first\u001b[38;5;241m=\u001b[39m\u001b[38;5;241m3\u001b[39m, sae_v\u001b[38;5;241m=\u001b[39m\u001b[38;5;241m4\u001b[39m, early_stopping_steps\u001b[38;5;241m=\u001b[39m\u001b[38;5;241m2000\u001b[39m, max_seq_len\u001b[38;5;241m=\u001b[39m\u001b[38;5;241m500\u001b[39m, picked_features\u001b[38;5;241m=\u001b[39mpicked_features)\n\u001b[0;32m----> 7\u001b[0m weights, metrics \u001b[38;5;241m=\u001b[39m \u001b[43mfs\u001b[49m\u001b[38;5;241;43m.\u001b[39;49m\u001b[43mfind_weights\u001b[49m\u001b[43m(\u001b[49m\u001b[43m)\u001b[49m\n",
      "Cell \u001b[0;32mIn[30], line 108\u001b[0m, in \u001b[0;36mFeatureSearch.find_weights\u001b[0;34m(self)\u001b[0m\n\u001b[1;32m    105\u001b[0m early_stopping_counter \u001b[38;5;241m=\u001b[39m \u001b[38;5;241m0\u001b[39m\n\u001b[1;32m    107\u001b[0m \u001b[38;5;28;01mfor\u001b[39;00m _ \u001b[38;5;129;01min\u001b[39;00m (bar \u001b[38;5;241m:=\u001b[39m trange(\u001b[38;5;28mself\u001b[39m\u001b[38;5;241m.\u001b[39miterations)):\n\u001b[0;32m--> 108\u001b[0m     loss, weights, opt_state, metrics \u001b[38;5;241m=\u001b[39m \u001b[38;5;28;43mself\u001b[39;49m\u001b[38;5;241;43m.\u001b[39;49m\u001b[43mtrain_step\u001b[49m\u001b[43m(\u001b[49m\u001b[43mweights\u001b[49m\u001b[43m,\u001b[49m\u001b[43m \u001b[49m\u001b[43mopt_state\u001b[49m\u001b[43m,\u001b[49m\u001b[43m \u001b[49m\u001b[43moptimizer\u001b[49m\u001b[43m)\u001b[49m\n\u001b[1;32m    110\u001b[0m     \u001b[38;5;28;01mif\u001b[39;00m metrics[\u001b[38;5;124m\"\u001b[39m\u001b[38;5;124mloss\u001b[39m\u001b[38;5;124m\"\u001b[39m] \u001b[38;5;241m<\u001b[39m min_loss:\n\u001b[1;32m    111\u001b[0m         min_loss \u001b[38;5;241m=\u001b[39m metrics[\u001b[38;5;124m\"\u001b[39m\u001b[38;5;124mloss\u001b[39m\u001b[38;5;124m\"\u001b[39m]\n",
      "Cell \u001b[0;32mIn[30], line 80\u001b[0m, in \u001b[0;36mFeatureSearch.train_step\u001b[0;34m(self, weights, opt_state, optimizer)\u001b[0m\n\u001b[1;32m     79\u001b[0m \u001b[38;5;28;01mdef\u001b[39;00m \u001b[38;5;21mtrain_step\u001b[39m(\u001b[38;5;28mself\u001b[39m, weights, opt_state, optimizer):\n\u001b[0;32m---> 80\u001b[0m     (loss, (l0, loss_)), grad \u001b[38;5;241m=\u001b[39m \u001b[38;5;28;43mself\u001b[39;49m\u001b[38;5;241;43m.\u001b[39;49m\u001b[43mlwg\u001b[49m\u001b[43m(\u001b[49m\u001b[43mweights\u001b[49m\u001b[43m)\u001b[49m\n\u001b[1;32m     82\u001b[0m     updates, opt_state \u001b[38;5;241m=\u001b[39m optimizer\u001b[38;5;241m.\u001b[39mupdate(grad, opt_state, weights)\n\u001b[1;32m     83\u001b[0m     weights \u001b[38;5;241m=\u001b[39m optax\u001b[38;5;241m.\u001b[39mapply_updates(weights, updates)\n",
      "    \u001b[0;31m[... skipping hidden 1 frame]\u001b[0m\n",
      "File \u001b[0;32m~/.cache/pypoetry/virtualenvs/micrlhf-progress-_SD4q1c9-py3.12/lib/python3.12/site-packages/jax/_src/api.py:693\u001b[0m, in \u001b[0;36mvalue_and_grad.<locals>.value_and_grad_f\u001b[0;34m(*args, **kwargs)\u001b[0m\n\u001b[1;32m    691\u001b[0m   ans, vjp_py \u001b[38;5;241m=\u001b[39m _vjp(f_partial, \u001b[38;5;241m*\u001b[39mdyn_args)\n\u001b[1;32m    692\u001b[0m \u001b[38;5;28;01melse\u001b[39;00m:\n\u001b[0;32m--> 693\u001b[0m   ans, vjp_py, aux \u001b[38;5;241m=\u001b[39m \u001b[43m_vjp\u001b[49m\u001b[43m(\u001b[49m\n\u001b[1;32m    694\u001b[0m \u001b[43m      \u001b[49m\u001b[43mf_partial\u001b[49m\u001b[43m,\u001b[49m\u001b[43m \u001b[49m\u001b[38;5;241;43m*\u001b[39;49m\u001b[43mdyn_args\u001b[49m\u001b[43m,\u001b[49m\u001b[43m \u001b[49m\u001b[43mhas_aux\u001b[49m\u001b[38;5;241;43m=\u001b[39;49m\u001b[38;5;28;43;01mTrue\u001b[39;49;00m\u001b[43m)\u001b[49m\n\u001b[1;32m    695\u001b[0m _check_scalar(ans)\n\u001b[1;32m    696\u001b[0m tree_map(partial(_check_output_dtype_grad, holomorphic), ans)\n",
      "File \u001b[0;32m~/.cache/pypoetry/virtualenvs/micrlhf-progress-_SD4q1c9-py3.12/lib/python3.12/site-packages/jax/_src/api.py:2182\u001b[0m, in \u001b[0;36m_vjp\u001b[0;34m(fun, has_aux, *primals)\u001b[0m\n\u001b[1;32m   2180\u001b[0m \u001b[38;5;28;01melse\u001b[39;00m:\n\u001b[1;32m   2181\u001b[0m   flat_fun, out_aux_trees \u001b[38;5;241m=\u001b[39m flatten_fun_nokwargs2(fun, in_tree)\n\u001b[0;32m-> 2182\u001b[0m   out_primal, out_vjp, aux \u001b[38;5;241m=\u001b[39m \u001b[43mad\u001b[49m\u001b[38;5;241;43m.\u001b[39;49m\u001b[43mvjp\u001b[49m\u001b[43m(\u001b[49m\n\u001b[1;32m   2183\u001b[0m \u001b[43m      \u001b[49m\u001b[43mflat_fun\u001b[49m\u001b[43m,\u001b[49m\u001b[43m \u001b[49m\u001b[43mprimals_flat\u001b[49m\u001b[43m,\u001b[49m\u001b[43m \u001b[49m\u001b[43mhas_aux\u001b[49m\u001b[38;5;241;43m=\u001b[39;49m\u001b[38;5;28;43;01mTrue\u001b[39;49;00m\u001b[43m)\u001b[49m\n\u001b[1;32m   2184\u001b[0m   out_tree, aux_tree \u001b[38;5;241m=\u001b[39m out_aux_trees()\n\u001b[1;32m   2185\u001b[0m out_primal_py \u001b[38;5;241m=\u001b[39m tree_unflatten(out_tree, out_primal)\n",
      "File \u001b[0;32m~/.cache/pypoetry/virtualenvs/micrlhf-progress-_SD4q1c9-py3.12/lib/python3.12/site-packages/jax/_src/interpreters/ad.py:145\u001b[0m, in \u001b[0;36mvjp\u001b[0;34m(traceable, primals, has_aux)\u001b[0m\n\u001b[1;32m    143\u001b[0m   out_primals, pvals, jaxpr, consts \u001b[38;5;241m=\u001b[39m linearize(traceable, \u001b[38;5;241m*\u001b[39mprimals)\n\u001b[1;32m    144\u001b[0m \u001b[38;5;28;01melse\u001b[39;00m:\n\u001b[0;32m--> 145\u001b[0m   out_primals, pvals, jaxpr, consts, aux \u001b[38;5;241m=\u001b[39m \u001b[43mlinearize\u001b[49m\u001b[43m(\u001b[49m\u001b[43mtraceable\u001b[49m\u001b[43m,\u001b[49m\u001b[43m \u001b[49m\u001b[38;5;241;43m*\u001b[39;49m\u001b[43mprimals\u001b[49m\u001b[43m,\u001b[49m\u001b[43m \u001b[49m\u001b[43mhas_aux\u001b[49m\u001b[38;5;241;43m=\u001b[39;49m\u001b[38;5;28;43;01mTrue\u001b[39;49;00m\u001b[43m)\u001b[49m\n\u001b[1;32m    147\u001b[0m \u001b[38;5;28;01mdef\u001b[39;00m \u001b[38;5;21munbound_vjp\u001b[39m(pvals, jaxpr, consts, \u001b[38;5;241m*\u001b[39mcts):\n\u001b[1;32m    148\u001b[0m   cts \u001b[38;5;241m=\u001b[39m \u001b[38;5;28mtuple\u001b[39m(ct \u001b[38;5;28;01mfor\u001b[39;00m ct, pval \u001b[38;5;129;01min\u001b[39;00m \u001b[38;5;28mzip\u001b[39m(cts, pvals) \u001b[38;5;28;01mif\u001b[39;00m \u001b[38;5;129;01mnot\u001b[39;00m pval\u001b[38;5;241m.\u001b[39mis_known())\n",
      "File \u001b[0;32m~/.cache/pypoetry/virtualenvs/micrlhf-progress-_SD4q1c9-py3.12/lib/python3.12/site-packages/jax/_src/interpreters/ad.py:132\u001b[0m, in \u001b[0;36mlinearize\u001b[0;34m(traceable, *primals, **kwargs)\u001b[0m\n\u001b[1;32m    130\u001b[0m _, in_tree \u001b[38;5;241m=\u001b[39m tree_flatten(((primals, primals), {}))\n\u001b[1;32m    131\u001b[0m jvpfun_flat, out_tree \u001b[38;5;241m=\u001b[39m flatten_fun(jvpfun, in_tree)\n\u001b[0;32m--> 132\u001b[0m jaxpr, out_pvals, consts \u001b[38;5;241m=\u001b[39m \u001b[43mpe\u001b[49m\u001b[38;5;241;43m.\u001b[39;49m\u001b[43mtrace_to_jaxpr_nounits\u001b[49m\u001b[43m(\u001b[49m\u001b[43mjvpfun_flat\u001b[49m\u001b[43m,\u001b[49m\u001b[43m \u001b[49m\u001b[43min_pvals\u001b[49m\u001b[43m)\u001b[49m\n\u001b[1;32m    133\u001b[0m out_primals_pvals, out_tangents_pvals \u001b[38;5;241m=\u001b[39m tree_unflatten(out_tree(), out_pvals)\n\u001b[1;32m    134\u001b[0m \u001b[38;5;28;01massert\u001b[39;00m \u001b[38;5;28mall\u001b[39m(out_primal_pval\u001b[38;5;241m.\u001b[39mis_known() \u001b[38;5;28;01mfor\u001b[39;00m out_primal_pval \u001b[38;5;129;01min\u001b[39;00m out_primals_pvals)\n",
      "File \u001b[0;32m~/.cache/pypoetry/virtualenvs/micrlhf-progress-_SD4q1c9-py3.12/lib/python3.12/site-packages/jax/_src/profiler.py:335\u001b[0m, in \u001b[0;36mannotate_function.<locals>.wrapper\u001b[0;34m(*args, **kwargs)\u001b[0m\n\u001b[1;32m    332\u001b[0m \u001b[38;5;129m@wraps\u001b[39m(func)\n\u001b[1;32m    333\u001b[0m \u001b[38;5;28;01mdef\u001b[39;00m \u001b[38;5;21mwrapper\u001b[39m(\u001b[38;5;241m*\u001b[39margs, \u001b[38;5;241m*\u001b[39m\u001b[38;5;241m*\u001b[39mkwargs):\n\u001b[1;32m    334\u001b[0m   \u001b[38;5;28;01mwith\u001b[39;00m TraceAnnotation(name, \u001b[38;5;241m*\u001b[39m\u001b[38;5;241m*\u001b[39mdecorator_kwargs):\n\u001b[0;32m--> 335\u001b[0m     \u001b[38;5;28;01mreturn\u001b[39;00m \u001b[43mfunc\u001b[49m\u001b[43m(\u001b[49m\u001b[38;5;241;43m*\u001b[39;49m\u001b[43margs\u001b[49m\u001b[43m,\u001b[49m\u001b[43m \u001b[49m\u001b[38;5;241;43m*\u001b[39;49m\u001b[38;5;241;43m*\u001b[39;49m\u001b[43mkwargs\u001b[49m\u001b[43m)\u001b[49m\n\u001b[1;32m    336\u001b[0m   \u001b[38;5;28;01mreturn\u001b[39;00m wrapper\n",
      "File \u001b[0;32m~/.cache/pypoetry/virtualenvs/micrlhf-progress-_SD4q1c9-py3.12/lib/python3.12/site-packages/jax/_src/interpreters/partial_eval.py:774\u001b[0m, in \u001b[0;36mtrace_to_jaxpr_nounits\u001b[0;34m(fun, pvals, instantiate)\u001b[0m\n\u001b[1;32m    772\u001b[0m \u001b[38;5;28;01mwith\u001b[39;00m core\u001b[38;5;241m.\u001b[39mnew_main(JaxprTrace, name_stack\u001b[38;5;241m=\u001b[39mcurrent_name_stack) \u001b[38;5;28;01mas\u001b[39;00m main:\n\u001b[1;32m    773\u001b[0m   fun \u001b[38;5;241m=\u001b[39m trace_to_subjaxpr_nounits(fun, main, instantiate)\n\u001b[0;32m--> 774\u001b[0m   jaxpr, (out_pvals, consts, env) \u001b[38;5;241m=\u001b[39m \u001b[43mfun\u001b[49m\u001b[38;5;241;43m.\u001b[39;49m\u001b[43mcall_wrapped\u001b[49m\u001b[43m(\u001b[49m\u001b[43mpvals\u001b[49m\u001b[43m)\u001b[49m\n\u001b[1;32m    775\u001b[0m   \u001b[38;5;28;01massert\u001b[39;00m \u001b[38;5;129;01mnot\u001b[39;00m env\n\u001b[1;32m    776\u001b[0m   \u001b[38;5;28;01mdel\u001b[39;00m main, fun, env\n",
      "File \u001b[0;32m~/.cache/pypoetry/virtualenvs/micrlhf-progress-_SD4q1c9-py3.12/lib/python3.12/site-packages/jax/_src/linear_util.py:192\u001b[0m, in \u001b[0;36mWrappedFun.call_wrapped\u001b[0;34m(self, *args, **kwargs)\u001b[0m\n\u001b[1;32m    189\u001b[0m gen \u001b[38;5;241m=\u001b[39m gen_static_args \u001b[38;5;241m=\u001b[39m out_store \u001b[38;5;241m=\u001b[39m \u001b[38;5;28;01mNone\u001b[39;00m\n\u001b[1;32m    191\u001b[0m \u001b[38;5;28;01mtry\u001b[39;00m:\n\u001b[0;32m--> 192\u001b[0m   ans \u001b[38;5;241m=\u001b[39m \u001b[38;5;28;43mself\u001b[39;49m\u001b[38;5;241;43m.\u001b[39;49m\u001b[43mf\u001b[49m\u001b[43m(\u001b[49m\u001b[38;5;241;43m*\u001b[39;49m\u001b[43margs\u001b[49m\u001b[43m,\u001b[49m\u001b[43m \u001b[49m\u001b[38;5;241;43m*\u001b[39;49m\u001b[38;5;241;43m*\u001b[39;49m\u001b[38;5;28;43mdict\u001b[39;49m\u001b[43m(\u001b[49m\u001b[38;5;28;43mself\u001b[39;49m\u001b[38;5;241;43m.\u001b[39;49m\u001b[43mparams\u001b[49m\u001b[43m,\u001b[49m\u001b[43m \u001b[49m\u001b[38;5;241;43m*\u001b[39;49m\u001b[38;5;241;43m*\u001b[39;49m\u001b[43mkwargs\u001b[49m\u001b[43m)\u001b[49m\u001b[43m)\u001b[49m\n\u001b[1;32m    193\u001b[0m \u001b[38;5;28;01mexcept\u001b[39;00m:\n\u001b[1;32m    194\u001b[0m   \u001b[38;5;66;03m# Some transformations yield from inside context managers, so we have to\u001b[39;00m\n\u001b[1;32m    195\u001b[0m   \u001b[38;5;66;03m# interrupt them before reraising the exception. Otherwise they will only\u001b[39;00m\n\u001b[1;32m    196\u001b[0m   \u001b[38;5;66;03m# get garbage-collected at some later time, running their cleanup tasks\u001b[39;00m\n\u001b[1;32m    197\u001b[0m   \u001b[38;5;66;03m# only after this exception is handled, which can corrupt the global\u001b[39;00m\n\u001b[1;32m    198\u001b[0m   \u001b[38;5;66;03m# state.\u001b[39;00m\n\u001b[1;32m    199\u001b[0m   \u001b[38;5;28;01mwhile\u001b[39;00m stack:\n",
      "Cell \u001b[0;32mIn[30], line 72\u001b[0m, in \u001b[0;36mFeatureSearch.get_loss\u001b[0;34m(self, weights)\u001b[0m\n\u001b[1;32m     69\u001b[0m modified \u001b[38;5;241m=\u001b[39m pz\u001b[38;5;241m.\u001b[39mnx\u001b[38;5;241m.\u001b[39mwrap(modified, \u001b[38;5;124m\"\u001b[39m\u001b[38;5;124mbatch\u001b[39m\u001b[38;5;124m\"\u001b[39m, \u001b[38;5;124m\"\u001b[39m\u001b[38;5;124mseq\u001b[39m\u001b[38;5;124m\"\u001b[39m, \u001b[38;5;124m\"\u001b[39m\u001b[38;5;124membedding\u001b[39m\u001b[38;5;124m\"\u001b[39m)\n\u001b[1;32m     71\u001b[0m inputs \u001b[38;5;241m=\u001b[39m dataclasses\u001b[38;5;241m.\u001b[39mreplace(\u001b[38;5;28mself\u001b[39m\u001b[38;5;241m.\u001b[39meval_inputs, tokens\u001b[38;5;241m=\u001b[39mmodified)\n\u001b[0;32m---> 72\u001b[0m logits \u001b[38;5;241m=\u001b[39m \u001b[38;5;28;43mself\u001b[39;49m\u001b[38;5;241;43m.\u001b[39;49m\u001b[43mtaker\u001b[49m\u001b[43m(\u001b[49m\u001b[43minputs\u001b[49m\u001b[43m)\u001b[49m\u001b[38;5;241m.\u001b[39munwrap(\u001b[38;5;124m\"\u001b[39m\u001b[38;5;124mbatch\u001b[39m\u001b[38;5;124m\"\u001b[39m, \u001b[38;5;124m\"\u001b[39m\u001b[38;5;124mseq\u001b[39m\u001b[38;5;124m\"\u001b[39m, \u001b[38;5;124m\"\u001b[39m\u001b[38;5;124mvocabulary\u001b[39m\u001b[38;5;124m\"\u001b[39m)\n\u001b[1;32m     73\u001b[0m loss \u001b[38;5;241m=\u001b[39m logprob_loss(logits, \u001b[38;5;28mself\u001b[39m\u001b[38;5;241m.\u001b[39meval_tokens, n_first\u001b[38;5;241m=\u001b[39m\u001b[38;5;28mself\u001b[39m\u001b[38;5;241m.\u001b[39mn_first)\n\u001b[1;32m     75\u001b[0m \u001b[38;5;66;03m# self.l1_coeff *= 1.002\u001b[39;00m\n",
      "File \u001b[0;32m~/.cache/pypoetry/virtualenvs/micrlhf-progress-_SD4q1c9-py3.12/lib/python3.12/site-packages/penzai/toolshed/jit_wrapper.py:62\u001b[0m, in \u001b[0;36mJitted.__call__\u001b[0;34m(self, argument)\u001b[0m\n\u001b[1;32m     60\u001b[0m \u001b[38;5;28;01mdef\u001b[39;00m \u001b[38;5;21m__call__\u001b[39m(\u001b[38;5;28mself\u001b[39m, argument: Any, \u001b[38;5;241m/\u001b[39m) \u001b[38;5;241m-\u001b[39m\u001b[38;5;241m>\u001b[39m Any:\n\u001b[1;32m     61\u001b[0m   \u001b[38;5;28;01mtry\u001b[39;00m:\n\u001b[0;32m---> 62\u001b[0m     \u001b[38;5;28;01mreturn\u001b[39;00m \u001b[43m_flat_jit_call_layer\u001b[49m\u001b[43m(\u001b[49m\u001b[38;5;28;43mself\u001b[39;49m\u001b[38;5;241;43m.\u001b[39;49m\u001b[43mbody\u001b[49m\u001b[43m,\u001b[49m\u001b[43m \u001b[49m\u001b[43margument\u001b[49m\u001b[43m)\u001b[49m\n\u001b[1;32m     63\u001b[0m   \u001b[38;5;28;01mexcept\u001b[39;00m \u001b[38;5;167;01mTypeError\u001b[39;00m \u001b[38;5;28;01mas\u001b[39;00m exc:\n\u001b[1;32m     64\u001b[0m     impls \u001b[38;5;241m=\u001b[39m pz\u001b[38;5;241m.\u001b[39mselect(\u001b[38;5;28mself\u001b[39m\u001b[38;5;241m.\u001b[39mbody)\u001b[38;5;241m.\u001b[39mat_instances_of(pz\u001b[38;5;241m.\u001b[39mde\u001b[38;5;241m.\u001b[39mEffectRuntimeImpl)\n",
      "    \u001b[0;31m[... skipping hidden 1 frame]\u001b[0m\n",
      "File \u001b[0;32m~/.cache/pypoetry/virtualenvs/micrlhf-progress-_SD4q1c9-py3.12/lib/python3.12/site-packages/jax/_src/pjit.py:304\u001b[0m, in \u001b[0;36m_cpp_pjit.<locals>.cache_miss\u001b[0;34m(*args, **kwargs)\u001b[0m\n\u001b[1;32m    302\u001b[0m \u001b[38;5;129m@api_boundary\u001b[39m\n\u001b[1;32m    303\u001b[0m \u001b[38;5;28;01mdef\u001b[39;00m \u001b[38;5;21mcache_miss\u001b[39m(\u001b[38;5;241m*\u001b[39margs, \u001b[38;5;241m*\u001b[39m\u001b[38;5;241m*\u001b[39mkwargs):\n\u001b[0;32m--> 304\u001b[0m   outs, out_flat, out_tree, args_flat, jaxpr, attrs_tracked \u001b[38;5;241m=\u001b[39m \u001b[43m_python_pjit_helper\u001b[49m\u001b[43m(\u001b[49m\n\u001b[1;32m    305\u001b[0m \u001b[43m      \u001b[49m\u001b[43mjit_info\u001b[49m\u001b[43m,\u001b[49m\u001b[43m \u001b[49m\u001b[38;5;241;43m*\u001b[39;49m\u001b[43margs\u001b[49m\u001b[43m,\u001b[49m\u001b[43m \u001b[49m\u001b[38;5;241;43m*\u001b[39;49m\u001b[38;5;241;43m*\u001b[39;49m\u001b[43mkwargs\u001b[49m\u001b[43m)\u001b[49m\n\u001b[1;32m    306\u001b[0m   executable \u001b[38;5;241m=\u001b[39m _read_most_recent_pjit_call_executable(jaxpr)\n\u001b[1;32m    307\u001b[0m   maybe_fastpath_data \u001b[38;5;241m=\u001b[39m _get_fastpath_data(\n\u001b[1;32m    308\u001b[0m       executable, out_tree, args_flat, out_flat, attrs_tracked, jaxpr\u001b[38;5;241m.\u001b[39meffects,\n\u001b[1;32m    309\u001b[0m       jaxpr\u001b[38;5;241m.\u001b[39mconsts, jit_info\u001b[38;5;241m.\u001b[39mabstracted_axes)\n",
      "File \u001b[0;32m~/.cache/pypoetry/virtualenvs/micrlhf-progress-_SD4q1c9-py3.12/lib/python3.12/site-packages/jax/_src/pjit.py:181\u001b[0m, in \u001b[0;36m_python_pjit_helper\u001b[0;34m(jit_info, *args, **kwargs)\u001b[0m\n\u001b[1;32m    178\u001b[0m   args_flat \u001b[38;5;241m=\u001b[39m [\u001b[38;5;241m*\u001b[39minit_states, \u001b[38;5;241m*\u001b[39margs_flat]\n\u001b[1;32m    180\u001b[0m \u001b[38;5;28;01mtry\u001b[39;00m:\n\u001b[0;32m--> 181\u001b[0m   out_flat \u001b[38;5;241m=\u001b[39m \u001b[43mpjit_p\u001b[49m\u001b[38;5;241;43m.\u001b[39;49m\u001b[43mbind\u001b[49m\u001b[43m(\u001b[49m\u001b[38;5;241;43m*\u001b[39;49m\u001b[43margs_flat\u001b[49m\u001b[43m,\u001b[49m\u001b[43m \u001b[49m\u001b[38;5;241;43m*\u001b[39;49m\u001b[38;5;241;43m*\u001b[39;49m\u001b[43mparams\u001b[49m\u001b[43m)\u001b[49m\n\u001b[1;32m    182\u001b[0m \u001b[38;5;28;01mexcept\u001b[39;00m pxla\u001b[38;5;241m.\u001b[39mDeviceAssignmentMismatchError \u001b[38;5;28;01mas\u001b[39;00m e:\n\u001b[1;32m    183\u001b[0m   fails, \u001b[38;5;241m=\u001b[39m e\u001b[38;5;241m.\u001b[39margs\n",
      "File \u001b[0;32m~/.cache/pypoetry/virtualenvs/micrlhf-progress-_SD4q1c9-py3.12/lib/python3.12/site-packages/jax/_src/core.py:2789\u001b[0m, in \u001b[0;36mAxisPrimitive.bind\u001b[0;34m(self, *args, **params)\u001b[0m\n\u001b[1;32m   2785\u001b[0m axis_main \u001b[38;5;241m=\u001b[39m \u001b[38;5;28mmax\u001b[39m((axis_frame(a)\u001b[38;5;241m.\u001b[39mmain_trace \u001b[38;5;28;01mfor\u001b[39;00m a \u001b[38;5;129;01min\u001b[39;00m used_axis_names(\u001b[38;5;28mself\u001b[39m, params)),\n\u001b[1;32m   2786\u001b[0m                 default\u001b[38;5;241m=\u001b[39m\u001b[38;5;28;01mNone\u001b[39;00m, key\u001b[38;5;241m=\u001b[39m\u001b[38;5;28;01mlambda\u001b[39;00m t: \u001b[38;5;28mgetattr\u001b[39m(t, \u001b[38;5;124m'\u001b[39m\u001b[38;5;124mlevel\u001b[39m\u001b[38;5;124m'\u001b[39m, \u001b[38;5;241m-\u001b[39m\u001b[38;5;241m1\u001b[39m))\n\u001b[1;32m   2787\u001b[0m top_trace \u001b[38;5;241m=\u001b[39m (top_trace \u001b[38;5;28;01mif\u001b[39;00m \u001b[38;5;129;01mnot\u001b[39;00m axis_main \u001b[38;5;129;01mor\u001b[39;00m axis_main\u001b[38;5;241m.\u001b[39mlevel \u001b[38;5;241m<\u001b[39m top_trace\u001b[38;5;241m.\u001b[39mlevel\n\u001b[1;32m   2788\u001b[0m              \u001b[38;5;28;01melse\u001b[39;00m axis_main\u001b[38;5;241m.\u001b[39mwith_cur_sublevel())\n\u001b[0;32m-> 2789\u001b[0m \u001b[38;5;28;01mreturn\u001b[39;00m \u001b[38;5;28;43mself\u001b[39;49m\u001b[38;5;241;43m.\u001b[39;49m\u001b[43mbind_with_trace\u001b[49m\u001b[43m(\u001b[49m\u001b[43mtop_trace\u001b[49m\u001b[43m,\u001b[49m\u001b[43m \u001b[49m\u001b[43margs\u001b[49m\u001b[43m,\u001b[49m\u001b[43m \u001b[49m\u001b[43mparams\u001b[49m\u001b[43m)\u001b[49m\n",
      "File \u001b[0;32m~/.cache/pypoetry/virtualenvs/micrlhf-progress-_SD4q1c9-py3.12/lib/python3.12/site-packages/jax/_src/core.py:391\u001b[0m, in \u001b[0;36mPrimitive.bind_with_trace\u001b[0;34m(self, trace, args, params)\u001b[0m\n\u001b[1;32m    389\u001b[0m \u001b[38;5;28;01mdef\u001b[39;00m \u001b[38;5;21mbind_with_trace\u001b[39m(\u001b[38;5;28mself\u001b[39m, trace, args, params):\n\u001b[1;32m    390\u001b[0m   \u001b[38;5;28;01mwith\u001b[39;00m pop_level(trace\u001b[38;5;241m.\u001b[39mlevel):\n\u001b[0;32m--> 391\u001b[0m     out \u001b[38;5;241m=\u001b[39m trace\u001b[38;5;241m.\u001b[39mprocess_primitive(\u001b[38;5;28mself\u001b[39m, \u001b[38;5;28;43mmap\u001b[39;49m\u001b[43m(\u001b[49m\u001b[43mtrace\u001b[49m\u001b[38;5;241;43m.\u001b[39;49m\u001b[43mfull_raise\u001b[49m\u001b[43m,\u001b[49m\u001b[43m \u001b[49m\u001b[43margs\u001b[49m\u001b[43m)\u001b[49m, params)\n\u001b[1;32m    392\u001b[0m   \u001b[38;5;28;01mreturn\u001b[39;00m \u001b[38;5;28mmap\u001b[39m(full_lower, out) \u001b[38;5;28;01mif\u001b[39;00m \u001b[38;5;28mself\u001b[39m\u001b[38;5;241m.\u001b[39mmultiple_results \u001b[38;5;28;01melse\u001b[39;00m full_lower(out)\n",
      "File \u001b[0;32m~/.cache/pypoetry/virtualenvs/micrlhf-progress-_SD4q1c9-py3.12/lib/python3.12/site-packages/jax/_src/core.py:490\u001b[0m, in \u001b[0;36mTrace.full_raise\u001b[0;34m(self, val)\u001b[0m\n\u001b[1;32m    488\u001b[0m       \u001b[38;5;28;01mreturn\u001b[39;00m \u001b[38;5;28mself\u001b[39m\u001b[38;5;241m.\u001b[39mpure(val)\n\u001b[1;32m    489\u001b[0m   \u001b[38;5;28;01melse\u001b[39;00m:\n\u001b[0;32m--> 490\u001b[0m     \u001b[38;5;28;01mreturn\u001b[39;00m \u001b[38;5;28;43mself\u001b[39;49m\u001b[38;5;241;43m.\u001b[39;49m\u001b[43mpure\u001b[49m\u001b[43m(\u001b[49m\u001b[43mval\u001b[49m\u001b[43m)\u001b[49m\n\u001b[1;32m    491\u001b[0m val\u001b[38;5;241m.\u001b[39m_assert_live()\n\u001b[1;32m    492\u001b[0m level \u001b[38;5;241m=\u001b[39m \u001b[38;5;28mself\u001b[39m\u001b[38;5;241m.\u001b[39mlevel\n",
      "File \u001b[0;32m~/.cache/pypoetry/virtualenvs/micrlhf-progress-_SD4q1c9-py3.12/lib/python3.12/site-packages/jax/_src/interpreters/ad.py:298\u001b[0m, in \u001b[0;36mJVPTrace.pure\u001b[0;34m(self, val)\u001b[0m\n\u001b[1;32m    297\u001b[0m \u001b[38;5;28;01mdef\u001b[39;00m \u001b[38;5;21mpure\u001b[39m(\u001b[38;5;28mself\u001b[39m, val):\n\u001b[0;32m--> 298\u001b[0m   tangent_zero \u001b[38;5;241m=\u001b[39m Zero(\u001b[43mget_aval\u001b[49m\u001b[43m(\u001b[49m\u001b[43mval\u001b[49m\u001b[43m)\u001b[49m\u001b[38;5;241;43m.\u001b[39;49m\u001b[43mat_least_vspace\u001b[49m\u001b[43m(\u001b[49m\u001b[43m)\u001b[49m)\n\u001b[1;32m    299\u001b[0m   \u001b[38;5;28;01mreturn\u001b[39;00m JVPTracer(\u001b[38;5;28mself\u001b[39m, val, tangent_zero)\n",
      "File \u001b[0;32m~/.cache/pypoetry/virtualenvs/micrlhf-progress-_SD4q1c9-py3.12/lib/python3.12/site-packages/jax/_src/core.py:1725\u001b[0m, in \u001b[0;36mShapedArray.at_least_vspace\u001b[0;34m(self)\u001b[0m\n\u001b[1;32m   1724\u001b[0m \u001b[38;5;28;01mdef\u001b[39;00m \u001b[38;5;21mat_least_vspace\u001b[39m(\u001b[38;5;28mself\u001b[39m):\n\u001b[0;32m-> 1725\u001b[0m   \u001b[38;5;28;01mreturn\u001b[39;00m \u001b[43mShapedArray\u001b[49m\u001b[43m(\u001b[49m\u001b[38;5;28;43mself\u001b[39;49m\u001b[38;5;241;43m.\u001b[39;49m\u001b[43mshape\u001b[49m\u001b[43m,\u001b[49m\u001b[43m \u001b[49m\u001b[43mprimal_dtype_to_tangent_dtype\u001b[49m\u001b[43m(\u001b[49m\u001b[38;5;28;43mself\u001b[39;49m\u001b[38;5;241;43m.\u001b[39;49m\u001b[43mdtype\u001b[49m\u001b[43m)\u001b[49m\u001b[43m,\u001b[49m\n\u001b[1;32m   1726\u001b[0m \u001b[43m                     \u001b[49m\u001b[38;5;28;43mself\u001b[39;49m\u001b[38;5;241;43m.\u001b[39;49m\u001b[43mweak_type\u001b[49m\u001b[43m,\u001b[49m\u001b[43m \u001b[49m\u001b[38;5;28;43mself\u001b[39;49m\u001b[38;5;241;43m.\u001b[39;49m\u001b[43mnamed_shape\u001b[49m\u001b[43m)\u001b[49m\n",
      "File \u001b[0;32m~/.cache/pypoetry/virtualenvs/micrlhf-progress-_SD4q1c9-py3.12/lib/python3.12/site-packages/jax/_src/core.py:1685\u001b[0m, in \u001b[0;36mShapedArray.__init__\u001b[0;34m(self, shape, dtype, weak_type, named_shape)\u001b[0m\n\u001b[1;32m   1684\u001b[0m \u001b[38;5;28;01mdef\u001b[39;00m \u001b[38;5;21m__init__\u001b[39m(\u001b[38;5;28mself\u001b[39m, shape, dtype, weak_type\u001b[38;5;241m=\u001b[39m\u001b[38;5;28;01mFalse\u001b[39;00m, named_shape\u001b[38;5;241m=\u001b[39m\u001b[38;5;28;01mNone\u001b[39;00m):\n\u001b[0;32m-> 1685\u001b[0m   \u001b[38;5;28mself\u001b[39m\u001b[38;5;241m.\u001b[39mshape \u001b[38;5;241m=\u001b[39m \u001b[43mcanonicalize_shape\u001b[49m\u001b[43m(\u001b[49m\u001b[43mshape\u001b[49m\u001b[43m)\u001b[49m\n\u001b[1;32m   1686\u001b[0m   \u001b[38;5;28mself\u001b[39m\u001b[38;5;241m.\u001b[39mdtype \u001b[38;5;241m=\u001b[39m _dtype_object(dtype)\n\u001b[1;32m   1687\u001b[0m   \u001b[38;5;28mself\u001b[39m\u001b[38;5;241m.\u001b[39mweak_type \u001b[38;5;241m=\u001b[39m weak_type\n",
      "File \u001b[0;32m~/.cache/pypoetry/virtualenvs/micrlhf-progress-_SD4q1c9-py3.12/lib/python3.12/site-packages/jax/_src/core.py:1644\u001b[0m, in \u001b[0;36mcanonicalize_shape\u001b[0;34m(shape, context)\u001b[0m\n\u001b[1;32m   1635\u001b[0m \u001b[38;5;250m\u001b[39m\u001b[38;5;124;03m\"\"\"Canonicalizes and checks for errors in a user-provided shape value.\u001b[39;00m\n\u001b[1;32m   1636\u001b[0m \n\u001b[1;32m   1637\u001b[0m \u001b[38;5;124;03mArgs:\u001b[39;00m\n\u001b[0;32m   (...)\u001b[0m\n\u001b[1;32m   1641\u001b[0m \u001b[38;5;124;03m  A tuple of canonical dimension values.\u001b[39;00m\n\u001b[1;32m   1642\u001b[0m \u001b[38;5;124;03m\"\"\"\u001b[39;00m\n\u001b[1;32m   1643\u001b[0m \u001b[38;5;28;01mtry\u001b[39;00m:\n\u001b[0;32m-> 1644\u001b[0m   \u001b[38;5;28;01mreturn\u001b[39;00m \u001b[38;5;28;43mtuple\u001b[39;49m\u001b[43m(\u001b[49m\u001b[43munsafe_map\u001b[49m\u001b[43m(\u001b[49m\u001b[43m_canonicalize_dimension\u001b[49m\u001b[43m,\u001b[49m\u001b[43m \u001b[49m\u001b[43mshape\u001b[49m\u001b[43m)\u001b[49m\u001b[43m)\u001b[49m\n\u001b[1;32m   1645\u001b[0m \u001b[38;5;28;01mexcept\u001b[39;00m \u001b[38;5;167;01mTypeError\u001b[39;00m:\n\u001b[1;32m   1646\u001b[0m   \u001b[38;5;28;01mpass\u001b[39;00m\n",
      "File \u001b[0;32m~/.cache/pypoetry/virtualenvs/micrlhf-progress-_SD4q1c9-py3.12/lib/python3.12/site-packages/jax/_src/core.py:1615\u001b[0m, in \u001b[0;36m_canonicalize_dimension\u001b[0;34m(dim)\u001b[0m\n\u001b[1;32m   1610\u001b[0m     msg \u001b[38;5;241m=\u001b[39m (\u001b[38;5;124m\"\u001b[39m\u001b[38;5;124mUnshapedArray has no shape. Please open an issue at \u001b[39m\u001b[38;5;124m\"\u001b[39m\n\u001b[1;32m   1611\u001b[0m            \u001b[38;5;124m\"\u001b[39m\u001b[38;5;124mhttps://github.com/google/jax/issues because it\u001b[39m\u001b[38;5;124m'\u001b[39m\u001b[38;5;124ms unexpected for \u001b[39m\u001b[38;5;124m\"\u001b[39m\n\u001b[1;32m   1612\u001b[0m            \u001b[38;5;124m\"\u001b[39m\u001b[38;5;124mUnshapedArray instances to ever be produced.\u001b[39m\u001b[38;5;124m\"\u001b[39m)\n\u001b[1;32m   1613\u001b[0m     \u001b[38;5;28;01mraise\u001b[39;00m \u001b[38;5;167;01mTypeError\u001b[39;00m(msg)\n\u001b[0;32m-> 1615\u001b[0m \u001b[38;5;28;01mdef\u001b[39;00m \u001b[38;5;21m_canonicalize_dimension\u001b[39m(dim: DimSize) \u001b[38;5;241m-\u001b[39m\u001b[38;5;241m>\u001b[39m DimSize:\n\u001b[1;32m   1616\u001b[0m   \u001b[38;5;66;03m# Dimensions are most commonly integral (by far), so we check that first.\u001b[39;00m\n\u001b[1;32m   1617\u001b[0m   \u001b[38;5;28;01mtry\u001b[39;00m:\n\u001b[1;32m   1618\u001b[0m     \u001b[38;5;28;01mreturn\u001b[39;00m operator\u001b[38;5;241m.\u001b[39mindex(dim)\n",
      "\u001b[0;31mKeyboardInterrupt\u001b[0m: "
     ]
    }
   ],
   "source": [
    "picked_features = jnp.array(list(set([\n",
    "    604, 34292,  6661, 24549,  6198, 14166, 44525, 41973, 35027,\n",
    "       15949, 18911, 13590, 40721, 45024,  8023, 14153, 35597, 36343,\n",
    "       24992, 23008, 34292, 24549, 6198, 14166, 44525, 41973, 18911, 13590\n",
    "])))\n",
    "fs = FeatureSearch(\"en_es\", pairs, 18, l1_coeff=2e-2, init_w=0.5, lr=1e-2, n_shot=1, n_first=3, sae_v=4, early_stopping_steps=2000, max_seq_len=500, picked_features=picked_features)\n",
    "weights, metrics = fs.find_weights()"
   ]
  },
  {
   "cell_type": "code",
   "execution_count": 19,
   "metadata": {},
   "outputs": [],
   "source": [
    "pairs = tasks[\"en_es\"]\n",
    "pairs = list(pairs.items())"
   ]
  },
  {
   "cell_type": "code",
   "execution_count": 20,
   "metadata": {},
   "outputs": [],
   "source": [
    "from micrlhf.utils.vector_storage import load_vector\n",
    "tv = load_vector(\"task_vectors/en_es:18\")"
   ]
  },
  {
   "cell_type": "code",
   "execution_count": 22,
   "metadata": {},
   "outputs": [
    {
     "name": "stderr",
     "output_type": "stream",
     "text": [
      "--2024-05-28 13:17:59--  https://huggingface.co/nev/phi-3-4k-saex-test/resolve/main/l18-test-run-4-8.86E-06/sae_weights.safetensors?download=true\n",
      "Resolving huggingface.co (huggingface.co)... 108.156.211.125, 108.156.211.90, 108.156.211.95, ...\n",
      "Connecting to huggingface.co (huggingface.co)|108.156.211.125|:443... connected.\n",
      "HTTP request sent, awaiting response... 302 Found\n",
      "Location: https://cdn-lfs-us-1.huggingface.co/repos/eb/d8/ebd889d6ac58573e8e8a7aa1176d4d357581a6da60135b94aca378fddf4e9e54/fa68513c10a8cdd065e4a0e66c05816325e4d72fb272857ca70564fca7fa808f?response-content-disposition=attachment%3B+filename*%3DUTF-8%27%27sae_weights.safetensors%3B+filename%3D%22sae_weights.safetensors%22%3B&Expires=1717161479&Policy=eyJTdGF0ZW1lbnQiOlt7IkNvbmRpdGlvbiI6eyJEYXRlTGVzc1RoYW4iOnsiQVdTOkVwb2NoVGltZSI6MTcxNzE2MTQ3OX19LCJSZXNvdXJjZSI6Imh0dHBzOi8vY2RuLWxmcy11cy0xLmh1Z2dpbmdmYWNlLmNvL3JlcG9zL2ViL2Q4L2ViZDg4OWQ2YWM1ODU3M2U4ZThhN2FhMTE3NmQ0ZDM1NzU4MWE2ZGE2MDEzNWI5NGFjYTM3OGZkZGY0ZTllNTQvZmE2ODUxM2MxMGE4Y2RkMDY1ZTRhMGU2NmMwNTgxNjMyNWU0ZDcyZmIyNzI4NTdjYTcwNTY0ZmNhN2ZhODA4Zj9yZXNwb25zZS1jb250ZW50LWRpc3Bvc2l0aW9uPSoifV19&Signature=hasHV%7En7WdL7W8wkxSejEYk5%7EZTx7u8yBdcvydnK9G2%7EtuJOpN24T%7EBUg9ULGFvnMeiGUEf4GzSBHa3JnGl8V4sJB4VY69v95S8jLOOU8ptA3YI8aRIYCcrGVeRKm6gujd0Ui8M5JJ%7ERxpUM9Kv5Tgycwcm2Bg8tvWXksPKP4mOQmJb3IbfbOoi65hqarHxD3a1UAu1JrxEEfxexckfYdCcZxe6LKxJWfTq57aAZU-bVx%7E6fJ87%7EOXDvnr-L0HbvUhbnWQMtwTVPYN-hKd-xr2A2XkEN7-vIZ%7EsVMZc0SSmHE3x6BeoRrLgF%7E3WpzngIADOVwGKAWKdH6Gwa3rk%7Eyg__&Key-Pair-Id=KCD77M1F0VK2B [following]\n",
      "--2024-05-28 13:17:59--  https://cdn-lfs-us-1.huggingface.co/repos/eb/d8/ebd889d6ac58573e8e8a7aa1176d4d357581a6da60135b94aca378fddf4e9e54/fa68513c10a8cdd065e4a0e66c05816325e4d72fb272857ca70564fca7fa808f?response-content-disposition=attachment%3B+filename*%3DUTF-8%27%27sae_weights.safetensors%3B+filename%3D%22sae_weights.safetensors%22%3B&Expires=1717161479&Policy=eyJTdGF0ZW1lbnQiOlt7IkNvbmRpdGlvbiI6eyJEYXRlTGVzc1RoYW4iOnsiQVdTOkVwb2NoVGltZSI6MTcxNzE2MTQ3OX19LCJSZXNvdXJjZSI6Imh0dHBzOi8vY2RuLWxmcy11cy0xLmh1Z2dpbmdmYWNlLmNvL3JlcG9zL2ViL2Q4L2ViZDg4OWQ2YWM1ODU3M2U4ZThhN2FhMTE3NmQ0ZDM1NzU4MWE2ZGE2MDEzNWI5NGFjYTM3OGZkZGY0ZTllNTQvZmE2ODUxM2MxMGE4Y2RkMDY1ZTRhMGU2NmMwNTgxNjMyNWU0ZDcyZmIyNzI4NTdjYTcwNTY0ZmNhN2ZhODA4Zj9yZXNwb25zZS1jb250ZW50LWRpc3Bvc2l0aW9uPSoifV19&Signature=hasHV%7En7WdL7W8wkxSejEYk5%7EZTx7u8yBdcvydnK9G2%7EtuJOpN24T%7EBUg9ULGFvnMeiGUEf4GzSBHa3JnGl8V4sJB4VY69v95S8jLOOU8ptA3YI8aRIYCcrGVeRKm6gujd0Ui8M5JJ%7ERxpUM9Kv5Tgycwcm2Bg8tvWXksPKP4mOQmJb3IbfbOoi65hqarHxD3a1UAu1JrxEEfxexckfYdCcZxe6LKxJWfTq57aAZU-bVx%7E6fJ87%7EOXDvnr-L0HbvUhbnWQMtwTVPYN-hKd-xr2A2XkEN7-vIZ%7EsVMZc0SSmHE3x6BeoRrLgF%7E3WpzngIADOVwGKAWKdH6Gwa3rk%7Eyg__&Key-Pair-Id=KCD77M1F0VK2B\n",
      "Resolving cdn-lfs-us-1.huggingface.co (cdn-lfs-us-1.huggingface.co)... 108.138.167.63, 108.138.167.116, 108.138.167.67, ...\n",
      "Connecting to cdn-lfs-us-1.huggingface.co (cdn-lfs-us-1.huggingface.co)|108.138.167.63|:443... connected.\n",
      "HTTP request sent, awaiting response... 416 Requested Range Not Satisfiable\n",
      "\n",
      "    The file is already fully retrieved; nothing to do.\n",
      "\n"
     ]
    }
   ],
   "source": [
    "from micrlhf.utils.load_sae import get_sae, sae_encode_gated\n",
    "\n",
    "sae = get_sae(18, 4)"
   ]
  },
  {
   "cell_type": "code",
   "execution_count": 23,
   "metadata": {},
   "outputs": [],
   "source": [
    "_, post_relu, _ = sae_encode_gated(sae, tv)"
   ]
  },
  {
   "cell_type": "code",
   "execution_count": 26,
   "metadata": {},
   "outputs": [
    {
     "data": {
      "text/html": [
       "<div id=\"output_85c62c5849924347afe0811b9b02cc09\"><script> /* penzai.treescope rendering of a Python object (compressed) */ (()=>{ let observer; let lastStep = new Promise((resolve, reject) => { observer = new IntersectionObserver((entries) => { for (const entry of entries) { if (entry.isIntersecting) { resolve(); observer.disconnect(); return; } } }, {rootMargin: \"1000px\"}); }); window.treescope_decompress_enqueue = (encoded, destId) => { const previous = lastStep; const destElt = document.getElementById(destId); lastStep = (async () => { await previous; let blob = new Blob([ Uint8Array.from(atob(encoded), (m) => m.codePointAt(0)) ]); let reader = blob.stream().pipeThrough( new DecompressionStream(\"deflate\") ).pipeThrough( new TextDecoderStream(\"utf-8\") ).getReader(); let parts = []; while (true) { let step = await reader.read(); if (step.done) { break; } parts.push(step.value); } let newElt = document.createElement(\"div\"); newElt.innerHTML = parts.join(\"\"); destElt.parentNode.replaceChild(newElt, destElt); for (let oldScript of newElt.querySelectorAll(\"script\")) { let newScript = document.createElement(\"script\"); newScript.type = oldScript.type; newScript.textContent = oldScript.textContent; oldScript.parentNode.replaceChild(newScript, oldScript); } })(); requestAnimationFrame(() => { observer.observe(destElt); }); } })(); </script><div id=\"compress_html_8abf90df78684deeba3932c94c117739\"><script>window.treescope_decompress_enqueue(\"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\", \"compress_html_8abf90df78684deeba3932c94c117739\");</script><span style=\"color: #aaaaaa; font-family: monospace\">(Loading...)</span></div></div>"
      ],
      "text/plain": [
       "<IPython.core.display.HTML object>"
      ]
     },
     "metadata": {},
     "output_type": "display_data"
    },
    {
     "data": {
      "text/html": [
       "<div id=\"compress_html_184c0381049346359aabf2bc80f69a92\"><script>window.treescope_decompress_enqueue(\"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\", \"compress_html_184c0381049346359aabf2bc80f69a92\");</script></div>"
      ],
      "text/plain": [
       "<IPython.core.display.HTML object>"
      ]
     },
     "metadata": {},
     "output_type": "display_data"
    },
    {
     "data": {
      "text/html": [
       "<div id=\"output_dest_85c62c5849924347afe0811b9b02cc09\"><script> (()=>{ const output = document.getElementById(\"output_85c62c5849924347afe0811b9b02cc09\"); const dest = document.getElementById(\"output_dest_85c62c5849924347afe0811b9b02cc09\"); dest.parentNode.replaceChild(output, dest); })(); </script></div>"
      ],
      "text/plain": [
       "[# jax.Array float32(40,) ≈5.6 ±2.3 [≥2.8, ≤1.4e+01] nonzero:40\n",
       "   Array([14.33634  ,  9.284671 ,  9.173065 ,  9.019746 ,  8.390729 ,\n",
       "           8.324912 ,  7.921408 ,  7.3480153,  7.305516 ,  7.0247445,\n",
       "           6.195833 ,  6.159084 ,  6.1102242,  6.035726 ,  5.982573 ,\n",
       "           5.932697 ,  5.9004   ,  5.7842216,  5.478712 ,  5.34142  ,\n",
       "           4.71809  ,  4.631511 ,  4.5113354,  4.456746 ,  4.3027215,\n",
       "           4.2715216,  4.2645254,  4.1496553,  3.8654673,  3.8076172,\n",
       "           3.7399244,  3.703537 ,  3.6620202,  3.5615187,  3.1690292,\n",
       "           3.1292303,  3.050812 ,  2.9940195,  2.8714151,  2.7897758],      dtype=float32)\n",
       " ,\n",
       " # jax.Array int32(40,) [≥720, ≤48_437] nonzero:40\n",
       "   Array([ 1065, 24363, 46849, 33278, 44525, 35202, 48437, 14577, 24549,\n",
       "          33039, 47882, 39179,  8787, 46421, 33953, 22038, 33045, 48299,\n",
       "          28517, 34138, 41973,   720, 16422,  9224, 43484, 28188, 11831,\n",
       "          11950,  7677,  8143, 43555, 46370, 26046, 45228, 14166, 26164,\n",
       "          39233,  1699,  5405,  9218], dtype=int32)\n",
       " ]"
      ]
     },
     "execution_count": 26,
     "metadata": {},
     "output_type": "execute_result"
    }
   ],
   "source": [
    "jax.lax.top_k(post_relu, 40)"
   ]
  },
  {
   "cell_type": "code",
   "execution_count": 30,
   "metadata": {},
   "outputs": [
    {
     "data": {
      "application/vnd.jupyter.widget-view+json": {
       "model_id": "27805ebba72745f39aa7f61965c70682",
       "version_major": 2,
       "version_minor": 0
      },
      "text/plain": [
       "  0%|          | 0/2000 [00:00<?, ?it/s]"
      ]
     },
     "metadata": {},
     "output_type": "display_data"
    }
   ],
   "source": [
    "fs = FeatureSearch(\"en_es\", pairs, 18, l1_coeff=2e-2, init_w=post_relu, lr=1e-2, n_shot=1, n_first=2, sae_v=4, early_stopping_steps=300, max_seq_len=500, seed=111)\n",
    "weights, metrics = fs.find_weights()"
   ]
  },
  {
   "cell_type": "code",
   "execution_count": 32,
   "metadata": {},
   "outputs": [
    {
     "data": {
      "text/html": [
       "<div id=\"output_443425d7c2544c3590e97b5c8863277f\"><script> /* penzai.treescope rendering of a Python object (compressed) */ (()=>{ let observer; let lastStep = new Promise((resolve, reject) => { observer = new IntersectionObserver((entries) => { for (const entry of entries) { if (entry.isIntersecting) { resolve(); observer.disconnect(); return; } } }, {rootMargin: \"1000px\"}); }); window.treescope_decompress_enqueue = (encoded, destId) => { const previous = lastStep; const destElt = document.getElementById(destId); lastStep = (async () => { await previous; let blob = new Blob([ Uint8Array.from(atob(encoded), (m) => m.codePointAt(0)) ]); let reader = blob.stream().pipeThrough( new DecompressionStream(\"deflate\") ).pipeThrough( new TextDecoderStream(\"utf-8\") ).getReader(); let parts = []; while (true) { let step = await reader.read(); if (step.done) { break; } parts.push(step.value); } let newElt = document.createElement(\"div\"); newElt.innerHTML = parts.join(\"\"); destElt.parentNode.replaceChild(newElt, destElt); for (let oldScript of newElt.querySelectorAll(\"script\")) { let newScript = document.createElement(\"script\"); newScript.type = oldScript.type; newScript.textContent = oldScript.textContent; oldScript.parentNode.replaceChild(newScript, oldScript); } })(); requestAnimationFrame(() => { observer.observe(destElt); }); } })(); </script><div id=\"compress_html_21dc3d6dd21d49abb1b20b818206148a\"><script>window.treescope_decompress_enqueue(\"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\", \"compress_html_21dc3d6dd21d49abb1b20b818206148a\");</script><span style=\"color: #aaaaaa; font-family: monospace\">(Loading...)</span></div></div>"
      ],
      "text/plain": [
       "<IPython.core.display.HTML object>"
      ]
     },
     "metadata": {},
     "output_type": "display_data"
    },
    {
     "data": {
      "text/html": [
       "<div id=\"compress_html_0a3d2f1fb7da4f1f923b077ef680e7ac\"><script>window.treescope_decompress_enqueue(\"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\", \"compress_html_0a3d2f1fb7da4f1f923b077ef680e7ac\");</script></div>"
      ],
      "text/plain": [
       "<IPython.core.display.HTML object>"
      ]
     },
     "metadata": {},
     "output_type": "display_data"
    },
    {
     "data": {
      "text/html": [
       "<div id=\"output_dest_443425d7c2544c3590e97b5c8863277f\"><script> (()=>{ const output = document.getElementById(\"output_443425d7c2544c3590e97b5c8863277f\"); const dest = document.getElementById(\"output_dest_443425d7c2544c3590e97b5c8863277f\"); dest.parentNode.replaceChild(output, dest); })(); </script></div>"
      ],
      "text/plain": [
       "[# jax.Array float32(25,) ≈4.2 ±3.4 [≥0.0, ≤1.3e+01] zero:3 nonzero:22\n",
       "   Array([12.591403  , 11.225099  , 10.420396  ,  6.5521755 ,  6.3882265 ,\n",
       "           6.2229795 ,  6.222977  ,  6.054167  ,  6.014406  ,  4.9479194 ,\n",
       "           3.8334608 ,  3.8307266 ,  3.6801434 ,  3.4142656 ,  3.074797  ,\n",
       "           2.402644  ,  2.034124  ,  1.6284066 ,  1.3841197 ,  1.3459913 ,\n",
       "           0.54155225,  0.5363517 ,  0.        ,  0.        ,  0.        ],      dtype=float32)\n",
       " ,\n",
       " # jax.Array int32(25,) [≥0, ≤48_437] zero:1 nonzero:24\n",
       "   Array([ 1065, 44525, 24549,   720, 41973, 35202, 33039, 15865,  9218,\n",
       "          14166, 13590, 36287, 46849,  9014, 24363, 19597, 48437, 14577,\n",
       "          47882, 33045, 33278, 22038,     0,     1,     2], dtype=int32)\n",
       " ]"
      ]
     },
     "execution_count": 32,
     "metadata": {},
     "output_type": "execute_result"
    }
   ],
   "source": [
    "jax.lax.top_k(weights, 25)"
   ]
  },
  {
   "cell_type": "code",
   "execution_count": 31,
   "metadata": {},
   "outputs": [],
   "source": [
    "results2 = (weights, metrics)"
   ]
  },
  {
   "cell_type": "code",
   "execution_count": null,
   "metadata": {},
   "outputs": [],
   "source": []
  },
  {
   "cell_type": "code",
   "execution_count": null,
   "metadata": {},
   "outputs": [],
   "source": [
    "results1 = (weights, metrics)"
   ]
  },
  {
   "cell_type": "code",
   "execution_count": 25,
   "metadata": {},
   "outputs": [
    {
     "data": {
      "text/html": [
       "<div id=\"output_d57cbc296e294c179e222c61c39d23cf\"><script> /* penzai.treescope rendering of a Python object (compressed) */ (()=>{ let observer; let lastStep = new Promise((resolve, reject) => { observer = new IntersectionObserver((entries) => { for (const entry of entries) { if (entry.isIntersecting) { resolve(); observer.disconnect(); return; } } }, {rootMargin: \"1000px\"}); }); window.treescope_decompress_enqueue = (encoded, destId) => { const previous = lastStep; const destElt = document.getElementById(destId); lastStep = (async () => { await previous; let blob = new Blob([ Uint8Array.from(atob(encoded), (m) => m.codePointAt(0)) ]); let reader = blob.stream().pipeThrough( new DecompressionStream(\"deflate\") ).pipeThrough( new TextDecoderStream(\"utf-8\") ).getReader(); let parts = []; while (true) { let step = await reader.read(); if (step.done) { break; } parts.push(step.value); } let newElt = document.createElement(\"div\"); newElt.innerHTML = parts.join(\"\"); destElt.parentNode.replaceChild(newElt, destElt); for (let oldScript of newElt.querySelectorAll(\"script\")) { let newScript = document.createElement(\"script\"); newScript.type = oldScript.type; newScript.textContent = oldScript.textContent; oldScript.parentNode.replaceChild(newScript, oldScript); } })(); requestAnimationFrame(() => { observer.observe(destElt); }); } })(); </script><div id=\"compress_html_071777edafc84fc683ad8767e8b5bc48\"><script>window.treescope_decompress_enqueue(\"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\", \"compress_html_071777edafc84fc683ad8767e8b5bc48\");</script><span style=\"color: #aaaaaa; font-family: monospace\">(Loading...)</span></div></div>"
      ],
      "text/plain": [
       "<IPython.core.display.HTML object>"
      ]
     },
     "metadata": {},
     "output_type": "display_data"
    },
    {
     "data": {
      "text/html": [
       "<div id=\"compress_html_920c6ce9061a4aed991b7244b0a3fc38\"><script>window.treescope_decompress_enqueue(\"eNrtWs2O2zgSvu9TEAo2LU9shZRE/dhtAzvJLjCXOSwG2EOjIVASbWlbFj0S3T8Jct95j50HmFfYR5knmSIly5bbcZyenmQXax9sF1lVLFZ9rGLZukzzW1TLh4JPjTSvVwV7GKNSlNxAeTo15qKKUj7nVcXTiFKX+nPi2HbsuZ4TxMxJAzJPPRzS2HWxMbusV6yEd6VvZsVCSrEs8pKPSyFNay6KlMUFj0qR8nHGanNWsJgXs/5MJMViUTQy4yTjyQ1PBwP0zQC9RyuWpnm5GEmxGiNsEcqXE6RWGGU8X2RyjIilxz5YiSjAeBbHFb8FSU2O0QsvsBnGW4ZELJe8lNFdxsuI34P9KU+fzd7Nqky/tquW62XMqx0GHAaEeluGWlawz10NDqGEdgwQDrXtLUNcsORmgmJ4X1RiXaajduKWVeZoFBciuWmGBsAlqpRXjRfJ6h7VosjTY5xNKD/F/AFZ2cOKV2DZTVTxpZA8ysQtbHTf6MdmipsiyczA/bMKq0sRwWGj8Y7VUZ1UoihAXAprnle1jGSe3JysNXQtovTiEBHHs/yDinX8ji43eLSgrFhZ5zIX5fjR4ojUiLOaj/JyJNZyiOailKM7DdO9ORXVLMkiOD0Jjwo+lztQV6TCOk2yPl+lNW0Zq+YAdJw/rllRsiWPVhWf5/fAqS2o83dccQXNMaklU4CNkiwv0oqX3RabyKMZ6rM829Hoso3G0AQtWbUAdzTbTViRmHaSoRFY6iZZE7FP2PqHmdYegsa0Bv7aqoOHoJei9D4gIkWGvkEmge3sirR6a+Dig8Gg88FWdHS67GbdzVHVkp3KzeioHf6C3twmG+3BUcXSfF23GyR8Cbv7+Ma0pb/PiE9C/H0vHzbxVYnuhHx4nPmDBRr/kPq3DfKxEqhrmk5JUE1Wu8BWFV67Vlac14lYQToRQlodc7QES9ARDXmp1mwSqWICaz/JeMpiH9XTmnz5urld6KsGSgpW11Ojb2Z7D9lca3pRgUqaxoFL2eQQ3sChE6OvuhcalNdRUxBEqWsAMDchvMzL1VoiCeVvauigxeLeOKikjS+IvtZC/fW2BVTCyeXSQCmTbHTDH1ZMZlNjz7xeQWrRhvq1xDjFV+3kXs0wZitevmP5NnJwdlZgSQ2Vfc6KQhU9C0Kir33Nx/dC/n2jfaU2bfbnL1+3HttZ90JpjdeA6fICifJNAeV2erFdNINbGXhPcUWJmjRllteDi8Y3anhqmAVbxilDClpj/T4wthDoGMfo4gDnxQS1PKwEBLKmpF+8AQGk/A7fu9ttfze73ttPNKifaIwj3I9YBZTzvGQF3KNW1fSzIGL1ZA8Bpr1eGrOXL+5tf/KykJN/snvrL1XFHtC8EEw6tmnj4QD9+tO/qOWg//wCVyh09etPP0MBwWQI4/9WaeYVJtfqZL7jlRjb+OVCThqVfS8NHyMQ7CjYquapMUOHfNm7jxtfAC19r52OnT25pyPpRFx9HCnQsD0RJ3l6ECVNl2LMQhfjIMA2tu3Q9/6XQ5unTwksSH3FsOqa8sTAKtljBe3569eRrto4CoMXB7HyqCCpPNUy6nR1pKocA5qRw1gpd5L10Xlj9nwB2P1hAjIw5F49gZrE2eXhNjVDRj0Coa94lNTOnnKYtNxzHadTj9qen4ZnX57ktt7tcvtzHtr7EcKYDT4vEr1L/meerSt8/ZWv6P0D/Huy306lVHngBFR2WfJZ7mvHLXqcer5QrtX7Mq+gkXV9zw19R9k9REAT7GF/h8bUJnZgt3RguV7g4xADjYd/Qu3Lt0LHCTzH08OKJsR3KCEdjZ3Q9bDd0p4V4pA6Nu2r8SzfsX3s447NsQOH4A1NLeK6Ht2hMfGIu2+NY/mh4/te0LLZlg9re57T0sQKXOz4XtjSjkWJbZPA4yPY5EbNCKLse5iC2Ag7QzQKwVe+jWH1De0HIVhLWhp85VDPdgOg7ethoyXVh6EF0OAJmTbNb2eXn/EXQkBZwGLK5lz9YRA48ZzOkxAckoRz6lG+/Qvh3N2fu/tzd//83X1edrVClQcPu7o4uDTCtnvu5f9Penkomxi+Bede/tzLn3v5cy9/7uXPvfzX6OXJuZfv9fIn387+yzt3pC13XDu0VafsedCe2y51Q0WRMBgi4hLPGyLXpTaFDwJdPghQbPtdj0toqARIEBIQJw4NoR92sW8D5QKnq1p+bDtaGdXiNPThw3Ncp9Niu6Eywnbg3gN9b9Pyaj8/ueGtE4C6nJnmAE1n6H0iyhqwqBH+XVqjKboyTn9oboiM09vj60mzmEodsM4d+F/c7fRvYEHU/5fdRKlI1grCavKvBVdfv334LjU7g6/wtXrQotE8r9hCsYD2TjCpOJP8bUv+reUwOxm1zpsCOn4Q2shbbAXdZfpG4cLUmS5RHN/DiTRltdaPdsxFhcyCS5SDIJ7Ax+XWjVbBy4XMYPTVK/Xog+JrJndX+eie8mtYQMnUYl0l/G1+u7ujPTH9I4WBXqE9+Ya0oBkoIEH+I5eZ2alrngxrtehtgsB2Vj3+dstN/QBL87TDjpLOYWp6oJgAYA2oNuB6FFpe/rjma/62xcoPfAn6JK/NQSf7GzI7gKA=\", \"compress_html_920c6ce9061a4aed991b7244b0a3fc38\");</script></div>"
      ],
      "text/plain": [
       "<IPython.core.display.HTML object>"
      ]
     },
     "metadata": {},
     "output_type": "display_data"
    },
    {
     "data": {
      "text/html": [
       "<div id=\"output_dest_d57cbc296e294c179e222c61c39d23cf\"><script> (()=>{ const output = document.getElementById(\"output_d57cbc296e294c179e222c61c39d23cf\"); const dest = document.getElementById(\"output_dest_d57cbc296e294c179e222c61c39d23cf\"); dest.parentNode.replaceChild(output, dest); })(); </script></div>"
      ],
      "text/plain": [
       "[# jax.Array float32(20,) ≈5.3 ±4.1 [≥-0.01, ≤1.5e+01] nonzero:20\n",
       "   Array([ 1.4764973e+01,  1.1060773e+01,  1.0521282e+01,  8.4687090e+00,\n",
       "           7.9338636e+00,  7.1173511e+00,  7.0394602e+00,  6.9095325e+00,\n",
       "           6.7327070e+00,  6.3283100e+00,  5.1446500e+00,  5.0161490e+00,\n",
       "           3.7937768e+00,  2.7460663e+00,  1.8403769e+00,  3.5122186e-01,\n",
       "          -5.3760563e-03, -9.4772000e-03, -9.7897071e-03, -1.0356248e-02],      dtype=float32)\n",
       " ,\n",
       " # jax.Array int32(20,) [≥604, ≤45_024] nonzero:20\n",
       "   Array([  604, 34292,  6661, 24549,  6198, 14166, 44525, 41973, 35027,\n",
       "          15949, 18911, 13590, 40721, 45024,  8023, 14153, 35597, 36343,\n",
       "          24992, 23008], dtype=int32)\n",
       " ]"
      ]
     },
     "execution_count": 25,
     "metadata": {},
     "output_type": "execute_result"
    }
   ],
   "source": [
    "jax.lax.top_k(weights, 20)"
   ]
  },
  {
   "cell_type": "code",
   "execution_count": 33,
   "metadata": {},
   "outputs": [
    {
     "data": {
      "text/html": [
       "<div id=\"output_60c77a3a2e524c1da173001c4441ed92\"><script> /* penzai.treescope rendering of a Python object (compressed) */ (()=>{ let observer; let lastStep = new Promise((resolve, reject) => { observer = new IntersectionObserver((entries) => { for (const entry of entries) { if (entry.isIntersecting) { resolve(); observer.disconnect(); return; } } }, {rootMargin: \"1000px\"}); }); window.treescope_decompress_enqueue = (encoded, destId) => { const previous = lastStep; const destElt = document.getElementById(destId); lastStep = (async () => { await previous; let blob = new Blob([ Uint8Array.from(atob(encoded), (m) => m.codePointAt(0)) ]); let reader = blob.stream().pipeThrough( new DecompressionStream(\"deflate\") ).pipeThrough( new TextDecoderStream(\"utf-8\") ).getReader(); let parts = []; while (true) { let step = await reader.read(); if (step.done) { break; } parts.push(step.value); } let newElt = document.createElement(\"div\"); newElt.innerHTML = parts.join(\"\"); destElt.parentNode.replaceChild(newElt, destElt); for (let oldScript of newElt.querySelectorAll(\"script\")) { let newScript = document.createElement(\"script\"); newScript.type = oldScript.type; newScript.textContent = oldScript.textContent; oldScript.parentNode.replaceChild(newScript, oldScript); } })(); requestAnimationFrame(() => { observer.observe(destElt); }); } })(); </script><div id=\"compress_html_3fd2250d3b924bf7ac38636619815b54\"><script>window.treescope_decompress_enqueue(\"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\", \"compress_html_3fd2250d3b924bf7ac38636619815b54\");</script><span style=\"color: #aaaaaa; font-family: monospace\">(Loading...)</span></div></div>"
      ],
      "text/plain": [
       "<IPython.core.display.HTML object>"
      ]
     },
     "metadata": {},
     "output_type": "display_data"
    },
    {
     "data": {
      "text/html": [
       "<div id=\"compress_html_9669a90627754055b086770f16bb4dc6\"><script>window.treescope_decompress_enqueue(\"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\", \"compress_html_9669a90627754055b086770f16bb4dc6\");</script></div>"
      ],
      "text/plain": [
       "<IPython.core.display.HTML object>"
      ]
     },
     "metadata": {},
     "output_type": "display_data"
    },
    {
     "data": {
      "text/html": [
       "<div id=\"output_dest_60c77a3a2e524c1da173001c4441ed92\"><script> (()=>{ const output = document.getElementById(\"output_60c77a3a2e524c1da173001c4441ed92\"); const dest = document.getElementById(\"output_dest_60c77a3a2e524c1da173001c4441ed92\"); dest.parentNode.replaceChild(output, dest); })(); </script></div>"
      ],
      "text/plain": [
       "[# jax.Array float32(10,) ≈2.2e+01 ±1.5e+01 [≥0.84, ≤4.5e+01] nonzero:10\n",
       "   Array([45.142223  , 42.201675  , 34.756268  , 31.79385   , 25.685295  ,\n",
       "          12.871383  , 12.606635  ,  7.3319654 ,  3.9815216 ,  0.84317565],      dtype=float32)\n",
       " ,\n",
       " # jax.Array int32(10,) [≥4_218, ≤97_588] nonzero:10\n",
       "   Array([58435, 97588, 42667,  7229, 18631, 50610, 41969, 89010,  4218,\n",
       "           4316], dtype=int32)\n",
       " ]"
      ]
     },
     "execution_count": 33,
     "metadata": {},
     "output_type": "execute_result"
    }
   ],
   "source": [
    "jax.lax.top_k(jnp.abs(results2[0]), 10)"
   ]
  },
  {
   "cell_type": "code",
   "execution_count": 37,
   "metadata": {},
   "outputs": [
    {
     "data": {
      "text/html": [
       "<div id=\"output_671ebdfa4a9e4afa9c0c365b65d99c79\"><script> /* penzai.treescope rendering of a Python object (compressed) */ (()=>{ let observer; let lastStep = new Promise((resolve, reject) => { observer = new IntersectionObserver((entries) => { for (const entry of entries) { if (entry.isIntersecting) { resolve(); observer.disconnect(); return; } } }, {rootMargin: \"1000px\"}); }); window.treescope_decompress_enqueue = (encoded, destId) => { const previous = lastStep; const destElt = document.getElementById(destId); lastStep = (async () => { await previous; let blob = new Blob([ Uint8Array.from(atob(encoded), (m) => m.codePointAt(0)) ]); let reader = blob.stream().pipeThrough( new DecompressionStream(\"deflate\") ).pipeThrough( new TextDecoderStream(\"utf-8\") ).getReader(); let parts = []; while (true) { let step = await reader.read(); if (step.done) { break; } parts.push(step.value); } let newElt = document.createElement(\"div\"); newElt.innerHTML = parts.join(\"\"); destElt.parentNode.replaceChild(newElt, destElt); for (let oldScript of newElt.querySelectorAll(\"script\")) { let newScript = document.createElement(\"script\"); newScript.type = oldScript.type; newScript.textContent = oldScript.textContent; oldScript.parentNode.replaceChild(newScript, oldScript); } })(); requestAnimationFrame(() => { observer.observe(destElt); }); } })(); </script><div id=\"compress_html_aa1765805a6d4b4b946a70faa601ce78\"><script>window.treescope_decompress_enqueue(\"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\", \"compress_html_aa1765805a6d4b4b946a70faa601ce78\");</script><span style=\"color: #aaaaaa; font-family: monospace\">(Loading...)</span></div></div>"
      ],
      "text/plain": [
       "<IPython.core.display.HTML object>"
      ]
     },
     "metadata": {},
     "output_type": "display_data"
    },
    {
     "data": {
      "text/html": [
       "<div id=\"output_dest_671ebdfa4a9e4afa9c0c365b65d99c79\"><script> (()=>{ const output = document.getElementById(\"output_671ebdfa4a9e4afa9c0c365b65d99c79\"); const dest = document.getElementById(\"output_dest_671ebdfa4a9e4afa9c0c365b65d99c79\"); dest.parentNode.replaceChild(output, dest); })(); </script></div>"
      ],
      "text/plain": [
       "[('Deprivation of liberty of migrants must comply not only with national law, but also with international legislation.',\n",
       "  'La privación de la libertad de los migrantes debe cumplir no sólo con las disposiciones del derecho nacional, sino también con la legislación internacional.'),\n",
       " ('- You nuts?', '- ¿Eres idiota o qué?'),\n",
       " ('Actually, love is a strange thing.',\n",
       "  'En estos momentos, el amor es algo extraño.'),\n",
       " (\"Tony's frustrated I didn't cry.\", 'Tony está frustrado porque no lloré.'),\n",
       " ('- Yeah? Listen, I got a subpoena here for you to appear in federal court tomorrow to reveal the source of the Delorean tape.',\n",
       "  'El juez te ordenó revelar la fuente de la cinta del FBI.'),\n",
       " ('Map of Noorddorp .', 'Mapa de Noorddorp .'),\n",
       " ('No need to, Ida.', 'No es necesario, Ida.'),\n",
       " ('I still think you should bow out of this anatomy class you signed up to teach.',\n",
       "  'Sigo pensando que deberías retirarte de esa clase de anatomía que accediste a dar.'),\n",
       " ('Attention Cinderellas, one and all.', 'Atención Cenicientas, una y todas.'),\n",
       " ('It was therefore a matter of regret that only eight countries, including Japan, had thus far ratified the Additional Protocol to the Safeguards Agreements.',\n",
       "  'Por lo tanto, cabe lamentar que sólo ocho países, incluido el Japón, hayan ratificado hasta ahora el Protocolo Adicional a los acuerdos de salvaguardias.'),\n",
       " ('_BAR_ Article 2 3 3 — Total _BAR_ 30000 _BAR_ _BAR_ _BAR_',\n",
       "  '_BAR_ Total del artículo 2 3 3 _BAR_ 30000 _BAR_ _BAR_ _BAR_'),\n",
       " ('- Happy Thanksgiving, Brenda. - Happy Thanksgiving',\n",
       "  '- Feliz día de Acción de Gracias.'),\n",
       " ('- Mother, can you--', '- Madre, podrías...'),\n",
       " ('So, why do Europe’s leaders find this intermediate solutionso unimaginable?',\n",
       "  'Así que, ¿por qué los líderes europeos encuentran taninimaginable esta solución intermedia?'),\n",
       " (\"Now there's the bastard I know and love.\",\n",
       "  'Ese es el desgraciado que conozco y que amo.'),\n",
       " ('You can win all the contests.', 'Puedes ganar todos los concursos.'),\n",
       " ('Ref: 806', 'Ref: 1945'),\n",
       " ('- I thought this was the bathroom.', 'Pensé que éste era el baño.'),\n",
       " (\"No, 'cause I think the F1, it only covers the bloodwork.\",\n",
       "  'No, porque creo que la F1, solo cubre el trabajo sanguíneo.'),\n",
       " ('The articles of before 1996 are now being digitized, indexed and placed on the internet.',\n",
       "  'Las propuestas se deben enviar antes del 15 de Noviembre de 2012, y deben estar referidas al tema descrito anteriormente.'),\n",
       " ('Draft resolution A/C.3/60/L.34 was adopted by 121 to 52.',\n",
       "  'Por 121 votos contra 52 queda aprobado el proyecto de resolución A/C.3/60/L.34.'),\n",
       " ('Under the Arms and Explosives Act 2000, any person who wishes to import firearms has to apply for permit from the Royal Brunei Police Force.',\n",
       "  'Con arreglo a lo dispuesto en la Ley de armas y explosivos de 2000, toda persona que desee importar armas de fuego deberá solicitar un permiso de la Real Fuerza de Policía de Brunei.'),\n",
       " ('San Antonio.', 'San Antonio.'),\n",
       " ('Applicants who declare that they have been involved in such activities are liable to have their visas refused under section 501 of the Migration Act 1958 or Article 1F of the Convention in the protection visa application context.',\n",
       "  'En virtud del artículo 501 de la Ley de Inmigración de 1958 o del artículo 1F de la Convención, se puede rechazar la solicitud de visado de los solicitantes que declaren que han participado en actividades de esa índole, en el contexto de la solicitud de visado de protección.'),\n",
       " ('I would find it most regrettable if it was to be put into practice at the end of the day.',\n",
       "  'Me parecería lamentable que finalmente fuese puesta en práctica.'),\n",
       " ('tioxidazole', 'tioxidazol'),\n",
       " (\"If there's nothing else I can do, I think I'll turn in.\",\n",
       "  '- Si no hay nada más que hacer, voy a dormir - Cuida de mi caballo.'),\n",
       " ('You t-- You dated Addison, too?', '¿Tú... también saliste con Addison?'),\n",
       " (\"- I'll buy some stuff and bring it over.\", '- Comprare algo y lo llevare.'),\n",
       " ('When a criminal has caused injury to someone, compensation should not involve the State. No-one cares about the State, in the same way as no-one cares about prisoners.',\n",
       "  'Cuando un delincuente ha ocasionado un daño a alguien, es preciso que esta reparación se produzca no con respecto al Estado - todo el mundo se burla, de la misma manera que a toda la población le traen sin cuidado los presos.'),\n",
       " ('There is something at work here, and it all began with the man killed in the car crash- - Bob Harvey.',\n",
       "  'Hay algo trabajando detrás de esto, y todo se inició con el hombre que murió en el accidente automovilístico-'),\n",
       " ('(Parliament rejected the proposal)',\n",
       "  '(El Parlamento rechaza la solicitud)'),\n",
       " (\"Well, if he wasn't, I think you'd be the first to know.\",\n",
       "  'Si no lo estuviera, serías el primero en saberlo.'),\n",
       " (\"No, we're not zoned for this.\", 'No, no estamos en zonas para esto.'),\n",
       " ('17 October - 3 November 2005', '17 de octubre a 3 de noviembre de 2005'),\n",
       " ('It was just some stupid... fairy-tale rave.',\n",
       "  'Sólo fue una estúpida... fiesta de cuentos de hadas.'),\n",
       " ('I will fix this.', 'Voy a arreglar esto.'),\n",
       " ('Comments and recommendations on posts',\n",
       "  'Observaciones y recomendaciones sobre puestos'),\n",
       " ('But on what grounds?', '¿Con qué motivo?'),\n",
       " ('Hot spring resort (1)', 'Complejo termal (1)')]"
      ]
     },
     "execution_count": 37,
     "metadata": {},
     "output_type": "execute_result"
    }
   ],
   "source": [
    "pairs"
   ]
  },
  {
   "cell_type": "code",
   "execution_count": 34,
   "metadata": {},
   "outputs": [
    {
     "data": {
      "application/vnd.jupyter.widget-view+json": {
       "model_id": "6964951dd86d4643aba2d26b36df0b7d",
       "version_major": 2,
       "version_minor": 0
      },
      "text/plain": [
       "  0%|          | 0/10 [00:00<?, ?it/s]"
      ]
     },
     "metadata": {},
     "output_type": "display_data"
    },
    {
     "data": {
      "text/html": [
       "<div id=\"output_9bcf0310fda545eaab5193fd9dcde2a5\"><script> /* penzai.treescope rendering of a Python object (compressed) */ (()=>{ let observer; let lastStep = new Promise((resolve, reject) => { observer = new IntersectionObserver((entries) => { for (const entry of entries) { if (entry.isIntersecting) { resolve(); observer.disconnect(); return; } } }, {rootMargin: \"1000px\"}); }); window.treescope_decompress_enqueue = (encoded, destId) => { const previous = lastStep; const destElt = document.getElementById(destId); lastStep = (async () => { await previous; let blob = new Blob([ Uint8Array.from(atob(encoded), (m) => m.codePointAt(0)) ]); let reader = blob.stream().pipeThrough( new DecompressionStream(\"deflate\") ).pipeThrough( new TextDecoderStream(\"utf-8\") ).getReader(); let parts = []; while (true) { let step = await reader.read(); if (step.done) { break; } parts.push(step.value); } let newElt = document.createElement(\"div\"); newElt.innerHTML = parts.join(\"\"); destElt.parentNode.replaceChild(newElt, destElt); for (let oldScript of newElt.querySelectorAll(\"script\")) { let newScript = document.createElement(\"script\"); newScript.type = oldScript.type; newScript.textContent = oldScript.textContent; oldScript.parentNode.replaceChild(newScript, oldScript); } })(); requestAnimationFrame(() => { observer.observe(destElt); }); } })(); </script><div id=\"compress_html_ca6fc0b276264de0a999a5ac5fb43238\"><script>window.treescope_decompress_enqueue(\"eNrtWQtT20gS/isTpSrIARv5/cLUycYvgiFgEgi7W66RNJIG64U0sjFb/PfrGdn4gSHJbi7Zuzo7he2Z7ulver7u6VYOIjZzyGGGhYREuh+QUej7DP2JAj+ijPpeDYXEwYxOSB2ZvsfSJnapM6sh1/f8KMA6jE9tykha/KihIIQRh0YsLZZOs1kAo57vwbCG9bEV+rFnpHXf8cNaolpH81+aAwKwHjWYXUMmZSDmMeKxOnJxaFEv7RCT1VBOt7kNj6RtQi0bRrKZYh09Huwn2zmI9JAG7BBRE8lT6hn+dLlD1Gg0EEAgJixgpGCvzyXQn4/1Z8OZUUA8g3qWqnPPRCD22x9fFethz3D4kl7sOFukLcJGG95vIHnh9BHzU6hxCCD336MT3x/DIYSI2QQJSc83SAa930cOYWiuu6IqjgaMy8ncmwYyfD12waEZzTdm6N079IbPZHQHR9EJHFqGOxxTL5KldVBSCnFXLWxwpQCHsFLbIa44oUewzOLQE5Pwc8tew9gb+r7HNzj1w/F8Z2AyYoDsCob41NowozofDEgIG3exp5OM50/l1NPWns2gdKJ0gPI5DnkbBzaPMuMQz2I2UAMp2xjx+pkm++YeIE5EltDt2OPYv2o8sqnJ+JaEBv/yCO9vxSAvJENyF5OIqR51MZfohNglcuLXVGr7iWxCCeLITs6m/i2OW4BoJK74Htd9O+ytwIkHWjE5IiYJQ2JcEjcA2pPoOYEChw8+ER/UwtmQOERnfqg6DhB9rruaBGNvFAFTpVRdBJzM4wtWQr4pFuQbhc+VuAmJ60/IWtSsrPFSJMgLrHx9M/QfCA8OsXKS+NbhylKS2PiSXAN+rW5NDwlsYx6Qq7LwLcPzMAgnRsSv+Ti5Z63E2Mr0crAu4CSxfsrTTUjAWzppQfgZMqywxwX4Ob14Vsy3LCdJIyOR/RkAE1kORojD9hCZwOpzV3Daid+ZMZnxiJRCaZF6QHjF58m6svS05sgFgNICxyOC+yC5CA4MOkFCsbGZ1xDDGgAm9w1JkZDvgVFA763IbccvM5tGC+QSXDnJRWrMCTkSTrJ9xyCh4KK44N7iMn/Pr1KhUkOUYYfqgDdjgjjWwBTP6y9cwo9oXWyUoANpg0ZgdLa4bDcF0SFysEacWk0jwGmygkoXr/pWe8mNm87yK3d+MSv1pS3qiXtYc3x+c79o04bgCJ9bNnA4jgi2wNXec+2a5zN5Y8jGkXwo1jzc6gehU9Ntoo/hck+h96klBq66XWkhv4ZQ0L+Gdn7PFTV951fCW1d6EWTpJ4Dk58gNx2HEDzDwKSAIt9il0Y8zK0JBGEqLeIte4viPsbrcHs+Dz61kaDQyaRixke+NOP23hNZroZTJFXk0bT0q9LfhJye+CZHvaq2GFgH9mOGpDxxrjHSez38QW1Zy0TwxrJnWsaPLUMNDpZYN7kW63sABl81/DIrmh5CT51AMn4FRDgO9JQp/c6dMbeKNIEU5OIhg9qup9buBvWIhSajChhAi9wGUTC/K/Agc20zMN/qvec+nc06v9X87A6g1QoodNJy5mg9F1lnMOCwDLcqJlh/MdtbvOo+X6s58bDpv3goKeD0K9RqKQ0c2MMM1Pr8/9U0zV9dwREqFPUOpdgeW2lTFq3+uqr741ryYwt9eR1Xb6muvpquq1tj/YPTbzdb0i6pefmkdq4N+s6V2rPt+78RmUXNAiZXvHF3nTvqlL5NhENOPg+Jl9vi6f/F5MLkaPLCPs06ntXtljS9p80ix6dF5fNw2urdKT9s3J30juPtQsu+uKD2PB17X7pmfmPqp1DwNC2qn743bJf1THHu7F8U7PRpPJ2bH2b+7t9p+xdKOp91Ktqfue+pF8SQMj7MXu9aDcmEo6rGZtU7LrWn3Nmcp/iy+KJfddrY07V1XzywrIJfjWYH0tYeiroVnXYZV67x/Oj3C0Sw6j/v966t2Z6p+PA/6X4xP+/u7VvmyfJ1nivnh4506KcKaJ+ppWR1MVdd6uBjuxjdD0r6+z5kl/eG0cNGbFeOm+uGheRt0gjztnbfayk38sTAse2bzpN3rDFyV7lYm7ZztZe3yrvZ5en077YWTo+6nlndrttsW2z3TbxynXKy2jqfNil0tDAbdYb57o1puv3jbPK+yyy7pVdvNZr+bP7IKF/tf9JmmduFMP3/YV8+7WCWDlqP2Htpn1g2zSs2P1tlZ/6g5pudF0mlet5odnSqBHfqBB9wIbtpH2YfseGi2TGbPPng9A3einqmcut32aalpqHefPweYRcMb1zAwrebMh2rhE729KwVuWDrzv7SGNOy6k+Nufng1zHfaOb15bl7u9hw/6BY60bSIrbtShd6Q4akTXHnNXp8Yg5DEV3fdlpu96oTj4fC+mCtdXUVTFRClkGhTmbwjaL2T+hHhC+XpTIsZg556W5JaTm+rGSQkbUjBPRZBKtgq/DvJFgyp/leTAAS7NqagKZKBC6W0DT1hDWGPgTqFGDeeHgM9ZeJnVUaiTR8gkyiZKnE3d5mUJ1t2sb3aXGpmpjga6VCGg2Of9LHJ1or3RZn8ms0NnXWTq65HExzK6TTPdmnswcGK5je1OsyN8KcCIfYWxYRYFmUjRMBjabhR/Zh931aeEMDBUGK8WUciTKI31A38kGHv2dpa6I/FzRXMlrXg1727orbiz6cLd/O53bMO0hZPDYR+sjXoHiG7eTqSEwvrj5JgJ5c+Jx6IzRHwsYgwAYq7lOPAU0wZ8vCEWhi6a+gsaaD5ODQy05AycgnFn7xcC05ivtayA8WGIUsr/hbNNmGX1CVwME/d/TO9xdOCDdXHPZRTFEWkBh0zqJBkUbhtt7viVGkJbr2fl+F436IOpg6QgfmIC78RMQklmRdjx5lBNRExgg3Oid1V38376GUTzam06KLX27zNahP64SSNHVAviBnijxsakkhcmn8vbV1knuNgMslvhwf7Qnndrg0rhWBiPGJQUhLo3wVvoWuHbG43JOlQBsCgAOpzCCvqO0tO7kCv3+Kub+y8wjPR5ad20FNwNCTZwa5mYPE8oib+piQk+NuQVqIIkuMWSZ4JN2MeJIW/+Qbgu5QgPnzaRvKx6oRnxbL02vxikhoN6enxRCGn5QoKLuSKOF+oFrJVXC7kFSVnKuVSFe4n6dcd95Zzk7Y9VpEO3zmsfovvM2oYYs5jls9ByGUyGfTOYvUNByYfe2vLrpfh0iHa5u21Gln6CXz6Tfnj2ynFhf86q76VY1s5BETJZ5VKIVfScCGbq+B8qUw0LV9UCgT+/TwO/X3uaKbjY5Yt/U/QJ/s99Mn+Mvrkylo2b+T1CoYUhLMYZ4lZqSikSMoVXMX6/+nza+iT+x765H4ZffRisYL1LC7ly4WCqZtYyRVyZbOiVfNFXDFK/430ySp7X2HQa9zY+2fwJ/89/Mn/OP4kH6l/hBN+Skm4+DDo5OXW6aX/KJVTT4X9vwGfM+r9\", \"compress_html_ca6fc0b276264de0a999a5ac5fb43238\");</script><span style=\"color: #aaaaaa; font-family: monospace\">(Loading...)</span></div></div>"
      ],
      "text/plain": [
       "<IPython.core.display.HTML object>"
      ]
     },
     "metadata": {},
     "output_type": "display_data"
    },
    {
     "data": {
      "text/html": [
       "<div id=\"compress_html_00cd399ad1db4a0d894f2449a6f63d8e\"><script>window.treescope_decompress_enqueue(\"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\", \"compress_html_00cd399ad1db4a0d894f2449a6f63d8e\");</script></div>"
      ],
      "text/plain": [
       "<IPython.core.display.HTML object>"
      ]
     },
     "metadata": {},
     "output_type": "display_data"
    },
    {
     "data": {
      "text/html": [
       "<div id=\"output_dest_9bcf0310fda545eaab5193fd9dcde2a5\"><script> (()=>{ const output = document.getElementById(\"output_9bcf0310fda545eaab5193fd9dcde2a5\"); const dest = document.getElementById(\"output_dest_9bcf0310fda545eaab5193fd9dcde2a5\"); dest.parentNode.replaceChild(output, dest); })(); </script></div>"
      ],
      "text/plain": [
       "(<jax.Array(28380, dtype=int32)>,\n",
       " <jax.Array(46.75, dtype=bfloat16)>,\n",
       " <jax.Array(47.75, dtype=bfloat16)>,\n",
       " <jax.Array([46.75, 47.75, 47.75, 47.75, 47.5, 48.25, 47.5, 48, 47.5, 47.75],      dtype=bfloat16)>)"
      ]
     },
     "execution_count": 34,
     "metadata": {},
     "output_type": "execute_result"
    }
   ],
   "source": [
    "\n",
    "i = jax.lax.top_k(jnp.abs(results1[0]), 10)[1]\n",
    "fs.check_features(i, scale=20)"
   ]
  },
  {
   "cell_type": "code",
   "execution_count": 35,
   "metadata": {},
   "outputs": [
    {
     "data": {
      "application/vnd.jupyter.widget-view+json": {
       "model_id": "0e0fda14d0d14b2392195652d73506ad",
       "version_major": 2,
       "version_minor": 0
      },
      "text/plain": [
       "  0%|          | 0/10 [00:00<?, ?it/s]"
      ]
     },
     "metadata": {},
     "output_type": "display_data"
    },
    {
     "data": {
      "text/html": [
       "<div id=\"output_0f82e0dcfa8e4da3a23e1905b852476f\"><script> /* penzai.treescope rendering of a Python object (compressed) */ (()=>{ let observer; let lastStep = new Promise((resolve, reject) => { observer = new IntersectionObserver((entries) => { for (const entry of entries) { if (entry.isIntersecting) { resolve(); observer.disconnect(); return; } } }, {rootMargin: \"1000px\"}); }); window.treescope_decompress_enqueue = (encoded, destId) => { const previous = lastStep; const destElt = document.getElementById(destId); lastStep = (async () => { await previous; let blob = new Blob([ Uint8Array.from(atob(encoded), (m) => m.codePointAt(0)) ]); let reader = blob.stream().pipeThrough( new DecompressionStream(\"deflate\") ).pipeThrough( new TextDecoderStream(\"utf-8\") ).getReader(); let parts = []; while (true) { let step = await reader.read(); if (step.done) { break; } parts.push(step.value); } let newElt = document.createElement(\"div\"); newElt.innerHTML = parts.join(\"\"); destElt.parentNode.replaceChild(newElt, destElt); for (let oldScript of newElt.querySelectorAll(\"script\")) { let newScript = document.createElement(\"script\"); newScript.type = oldScript.type; newScript.textContent = oldScript.textContent; oldScript.parentNode.replaceChild(newScript, oldScript); } })(); requestAnimationFrame(() => { observer.observe(destElt); }); } })(); </script><div id=\"compress_html_8d82110bd079416c96411a018f79975b\"><script>window.treescope_decompress_enqueue(\"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\", \"compress_html_8d82110bd079416c96411a018f79975b\");</script><span style=\"color: #aaaaaa; font-family: monospace\">(Loading...)</span></div></div>"
      ],
      "text/plain": [
       "<IPython.core.display.HTML object>"
      ]
     },
     "metadata": {},
     "output_type": "display_data"
    },
    {
     "data": {
      "text/html": [
       "<div id=\"compress_html_d2313b107e6043aaa17fe1ca707cba02\"><script>window.treescope_decompress_enqueue(\"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\", \"compress_html_d2313b107e6043aaa17fe1ca707cba02\");</script></div>"
      ],
      "text/plain": [
       "<IPython.core.display.HTML object>"
      ]
     },
     "metadata": {},
     "output_type": "display_data"
    },
    {
     "data": {
      "text/html": [
       "<div id=\"output_dest_0f82e0dcfa8e4da3a23e1905b852476f\"><script> (()=>{ const output = document.getElementById(\"output_0f82e0dcfa8e4da3a23e1905b852476f\"); const dest = document.getElementById(\"output_dest_0f82e0dcfa8e4da3a23e1905b852476f\"); dest.parentNode.replaceChild(output, dest); })(); </script></div>"
      ],
      "text/plain": [
       "(<jax.Array(4218, dtype=int32)>,\n",
       " <jax.Array(47.25, dtype=bfloat16)>,\n",
       " <jax.Array(47.5, dtype=bfloat16)>,\n",
       " <jax.Array([47.75, 47.5, 47.75, 47.5, 47.75, 47.5, 47.5, 47.75, 47.25, 48],      dtype=bfloat16)>)"
      ]
     },
     "execution_count": 35,
     "metadata": {},
     "output_type": "execute_result"
    }
   ],
   "source": [
    "\n",
    "i = jax.lax.top_k(jnp.abs(results2[0]), 10)[1]\n",
    "fs.check_features(i, scale=20)"
   ]
  },
  {
   "cell_type": "code",
   "execution_count": 39,
   "metadata": {},
   "outputs": [],
   "source": [
    "fs = FeatureSearch(\"en_es\", pairs, 18, l1_coeff=1e-2, init_w=0.5, lr=5e-2, n_shot=1, n_first=10, sae_v=4, early_stopping_steps=150)"
   ]
  },
  {
   "cell_type": "code",
   "execution_count": 40,
   "metadata": {},
   "outputs": [
    {
     "data": {
      "application/vnd.jupyter.widget-view+json": {
       "model_id": "85d942473727439f8307ccc004a13c82",
       "version_major": 2,
       "version_minor": 0
      },
      "text/plain": [
       "  0%|          | 0/2000 [00:00<?, ?it/s]"
      ]
     },
     "metadata": {},
     "output_type": "display_data"
    }
   ],
   "source": [
    "w = fs.find_weights()"
   ]
  },
  {
   "cell_type": "code",
   "execution_count": 41,
   "metadata": {},
   "outputs": [],
   "source": [
    "_, i = jax.lax.top_k(w[0], 20)"
   ]
  },
  {
   "cell_type": "code",
   "execution_count": 42,
   "metadata": {},
   "outputs": [
    {
     "data": {
      "application/vnd.jupyter.widget-view+json": {
       "model_id": "82c26cdfeb794c1e805c0923570dae7c",
       "version_major": 2,
       "version_minor": 0
      },
      "text/plain": [
       "  0%|          | 0/20 [00:00<?, ?it/s]"
      ]
     },
     "metadata": {},
     "output_type": "display_data"
    },
    {
     "data": {
      "text/html": [
       "<div id=\"output_fd3e0cd84e584bfb871f16861f081004\"><script> /* penzai.treescope rendering of a Python object (compressed) */ (()=>{ let observer; let lastStep = new Promise((resolve, reject) => { observer = new IntersectionObserver((entries) => { for (const entry of entries) { if (entry.isIntersecting) { resolve(); observer.disconnect(); return; } } }, {rootMargin: \"1000px\"}); }); window.treescope_decompress_enqueue = (encoded, destId) => { const previous = lastStep; const destElt = document.getElementById(destId); lastStep = (async () => { await previous; let blob = new Blob([ Uint8Array.from(atob(encoded), (m) => m.codePointAt(0)) ]); let reader = blob.stream().pipeThrough( new DecompressionStream(\"deflate\") ).pipeThrough( new TextDecoderStream(\"utf-8\") ).getReader(); let parts = []; while (true) { let step = await reader.read(); if (step.done) { break; } parts.push(step.value); } let newElt = document.createElement(\"div\"); newElt.innerHTML = parts.join(\"\"); destElt.parentNode.replaceChild(newElt, destElt); for (let oldScript of newElt.querySelectorAll(\"script\")) { let newScript = document.createElement(\"script\"); newScript.type = oldScript.type; newScript.textContent = oldScript.textContent; oldScript.parentNode.replaceChild(newScript, oldScript); } })(); requestAnimationFrame(() => { observer.observe(destElt); }); } })(); </script><div id=\"compress_html_8e708f8741da410a915300c1955d9f71\"><script>window.treescope_decompress_enqueue(\"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\", \"compress_html_8e708f8741da410a915300c1955d9f71\");</script><span style=\"color: #aaaaaa; font-family: monospace\">(Loading...)</span></div></div>"
      ],
      "text/plain": [
       "<IPython.core.display.HTML object>"
      ]
     },
     "metadata": {},
     "output_type": "display_data"
    },
    {
     "data": {
      "text/html": [
       "<div id=\"compress_html_7ac8ec49d41d4489a2240ac6583f8696\"><script>window.treescope_decompress_enqueue(\"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\", \"compress_html_7ac8ec49d41d4489a2240ac6583f8696\");</script></div>"
      ],
      "text/plain": [
       "<IPython.core.display.HTML object>"
      ]
     },
     "metadata": {},
     "output_type": "display_data"
    },
    {
     "data": {
      "text/html": [
       "<div id=\"output_dest_fd3e0cd84e584bfb871f16861f081004\"><script> (()=>{ const output = document.getElementById(\"output_fd3e0cd84e584bfb871f16861f081004\"); const dest = document.getElementById(\"output_dest_fd3e0cd84e584bfb871f16861f081004\"); dest.parentNode.replaceChild(output, dest); })(); </script></div>"
      ],
      "text/plain": [
       "(<jax.Array(6198, dtype=int32)>,\n",
       " <jax.Array(61.75, dtype=bfloat16)>,\n",
       " <jax.Array(66, dtype=bfloat16)>,\n",
       " # jax.Array bfloat16(20,) ≈6.6e+01 ±1.1 [≥6.2e+01, ≤6.6e+01] nonzero:20\n",
       "   Array([66.5, 66, 66.5, 66.5, 66, 66, 66, 66, 66, 61.75, 66.5, 64.5, 66.5,\n",
       "          66.5, 66.5, 66.5, 66.5, 64.5, 66.5, 66], dtype=bfloat16)\n",
       " )"
      ]
     },
     "execution_count": 42,
     "metadata": {},
     "output_type": "execute_result"
    }
   ],
   "source": [
    "fs.check_features(i, 20)"
   ]
  },
  {
   "cell_type": "code",
   "execution_count": 50,
   "metadata": {},
   "outputs": [
    {
     "data": {
      "text/html": [
       "<div id=\"output_8416e233f18f4ea8ba90b30e4de4628c\"><script> /* penzai.treescope rendering of a Python object (compressed) */ (()=>{ let observer; let lastStep = new Promise((resolve, reject) => { observer = new IntersectionObserver((entries) => { for (const entry of entries) { if (entry.isIntersecting) { resolve(); observer.disconnect(); return; } } }, {rootMargin: \"1000px\"}); }); window.treescope_decompress_enqueue = (encoded, destId) => { const previous = lastStep; const destElt = document.getElementById(destId); lastStep = (async () => { await previous; let blob = new Blob([ Uint8Array.from(atob(encoded), (m) => m.codePointAt(0)) ]); let reader = blob.stream().pipeThrough( new DecompressionStream(\"deflate\") ).pipeThrough( new TextDecoderStream(\"utf-8\") ).getReader(); let parts = []; while (true) { let step = await reader.read(); if (step.done) { break; } parts.push(step.value); } let newElt = document.createElement(\"div\"); newElt.innerHTML = parts.join(\"\"); destElt.parentNode.replaceChild(newElt, destElt); for (let oldScript of newElt.querySelectorAll(\"script\")) { let newScript = document.createElement(\"script\"); newScript.type = oldScript.type; newScript.textContent = oldScript.textContent; oldScript.parentNode.replaceChild(newScript, oldScript); } })(); requestAnimationFrame(() => { observer.observe(destElt); }); } })(); </script><div id=\"compress_html_43283c668ed348559b3fc60b7348d4a9\"><script>window.treescope_decompress_enqueue(\"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\", \"compress_html_43283c668ed348559b3fc60b7348d4a9\");</script><span style=\"color: #aaaaaa; font-family: monospace\">(Loading...)</span></div></div>"
      ],
      "text/plain": [
       "<IPython.core.display.HTML object>"
      ]
     },
     "metadata": {},
     "output_type": "display_data"
    },
    {
     "data": {
      "text/html": [
       "<div id=\"compress_html_50d4dffad96c4932a802edf2003b3ef1\"><script>window.treescope_decompress_enqueue(\"eNrtWG1v2zYQ/iuEgjVSG6uWY7t+iQ1saQf0Sz8MA/ahKARKpC3ONKlStJO06H/fkZQly3YcN0tTDFgC2JZ47/fw7sgrwtao0HecTjzCipzjuxESUlAPMTLxZlLFhM6oUpTESbvTSS6TYZfOcLeNe4N+vz/odmh3mPbTWa/nTa+KHAv4NPKmYSK1lkvOBB0Jqf1wJjnBCaexkISOMlz4U44TyqfNlVjL+Zw7nlGa0XRBSRCglwH6inJMCBPzlpb5CLXDqEeXY2Q0tDLK5pkeoSi0776FqeRgPE4SRdfAaR9H6Kw/6OB2uyZI5XJJhY5vMipiegv2E0qezN6NVmz/aq1itUyo2iJoDwdRr18TFFqBn9sSLqNe1KsIIB3G7Zog4ThdjFECn3MlV4K0yoU1Vn6rlXCZLtyrAKikIlS5KEb5LSokZ+QYpUvlQ8TfUJjd5VSBZYtY0aXUNM7kGhzdNXrfTLngaeYPur+YtHZ7KGoPncQbXMRFqiTnwK5lOGOq0LFm6eJkqcNuGBm57SGKLvvhm4OCbf6Oqgv2FGqFRcE0k2K0pxxFBaK4oC0mWnKlL9BMCt26sTDdWTNZzdIsht2T0pjTmd6Cunk0WO+lWZNOWUk1oXIboKJkgGShwdg0Y/zpIF1VCZv7MVpiNQc3nJkp5qnfSTPUMlBxcW7aoaj4YaaUYHWmEIAsJRaxZ7Rt/k1QPq8wF3hJ41zRGbsFITYtBftCTegGrnYUGhs9lcVV3p0GNEVNkmcPbjvsppkL7wO2Pk+wXU2wVh2sDI26bf0AmPIMvUR+BO5ss5RyC6CiQRBUMahZW6fzbvRu6pflrERu3rbK188YzboC2wi2FCZsVZQORnQJ3t3vmLX03xnxIMS/NpqEy6/ZSyc0iePE30KQ+EOGgjrJx+YC2+htnYYWm28D24w9NrRaUVqkMocaK6UOK+J4CZagIxKYMDpddzFEYO2DhKcou1dOafLVazdy2fkLpRwXxcRrmlkOZ5tZr5EVGC9IMuj28PgQ3iCgY68pupEaxIrYdUkpbGMEYpfCKybylUYaZoKJZ5OWyFvvoJAyv8D62jI19dVThYadS7WHCNa4taB3OdbZxNsxr9GlS7ShZoP1TolVubjTM7xpTsUXzOrMwd7JwZICxp0Z5txMAiGkxM7C7uuD1H9spOfGab+5fvW6jNiW3nMjNVkBpsU5kuKawwwyOa+VZjCqQvQMVZyaRV9nrAjOXWzM64nnc7xMCEYGWiP7GXg1BCrCETo/QHk+RiUNFoBA7Oac82tgQCbu8Lsa+ZvebEdvt9CgZqHxjlDvkUqYcZjAHIbLXE2+CyJhg/cQYMqZ25u+OLvtvBn/qhS+8wf9C0QsgJMZl1hH/cAtNz2+2EcTyOQ4LyjxpuhQXBoHDu8ZMt+MwOk42OF7PCpOxMj9WYcT6SNzzsjBjLtjmDcddi8H7ejN4LI36EWd/3JqGXlMYoHrJ6bVbq9HJtbwHmtOT9+LjlwbeEdhcHYQK3vN5W98u2ketgQd6RDHgObtHbuOrnvTp0vA9s0LVFOux3YBucJp/LOOuccXcz0+AqGfuJWMZ4/ZTJbvqbbTqVttJ04X/8fypLA1JsX6vhLt3LJ40+D7MtEY2B/cHtWWODhu7G+QzRdhaxCdggo99f0ATaboaypFAWXO7tr3pEAT9NE7/Qb309jxmywA6w0UCXmzNeiC0Lh5YPERkenK1EKz+I5T8/O3u/fEr2z42P5kzqxO8kzhuSEB6RVjqijW9G35+HtJ4Vc8Rs81h6MOMG34Q5zDGE6uTfHyLWhSQ/EB6rev1cqekmdSIZ9TjRgwtsfwdVVHJuRUzDWc+tmrV+YUaejc4raWe31in0CB4SnkSqX0LVtve7TDZu/RPfQK7fC7xxDmKg5Y+4vpzK/EuZvHUop1ExjqVXO9uqa+vQtwB8ctIVXAzHJgiAAzDicbvOyllorPK7qib0us/EmXIE/Twg8q3n8A/KWPBA==\", \"compress_html_50d4dffad96c4932a802edf2003b3ef1\");</script></div>"
      ],
      "text/plain": [
       "<IPython.core.display.HTML object>"
      ]
     },
     "metadata": {},
     "output_type": "display_data"
    },
    {
     "data": {
      "text/html": [
       "<div id=\"output_dest_8416e233f18f4ea8ba90b30e4de4628c\"><script> (()=>{ const output = document.getElementById(\"output_8416e233f18f4ea8ba90b30e4de4628c\"); const dest = document.getElementById(\"output_dest_8416e233f18f4ea8ba90b30e4de4628c\"); dest.parentNode.replaceChild(output, dest); })(); </script></div>"
      ],
      "text/plain": [
       "<jax.Array(86, dtype=bfloat16)>"
      ]
     },
     "execution_count": 50,
     "metadata": {},
     "output_type": "execute_result"
    }
   ],
   "source": [
    "fs.check_feature(34107, 20)"
   ]
  },
  {
   "cell_type": "code",
   "execution_count": 49,
   "metadata": {},
   "outputs": [],
   "source": [
    "steering_vector = fs.sae[\"W_dec\"][37312] * 40\n",
    "steering_vector =  steering_vector.astype('bfloat16')\n",
    "\n",
    "act_add = make_act_adder(\n",
    "    llama, steering_vector, fs.eval_tokens, fs.target_layer, length=1\n",
    ")\n",
    "\n",
    "\n",
    "logits = act_add(fs.eval_inputs).unwrap(\"batch\", \"seq\", \"vocabulary\")"
   ]
  },
  {
   "cell_type": "code",
   "execution_count": 50,
   "metadata": {},
   "outputs": [],
   "source": [
    "positions = jnp.argwhere(fs.eval_tokens == 1599)[:, -1]\n"
   ]
  },
  {
   "cell_type": "code",
   "execution_count": 36,
   "metadata": {},
   "outputs": [
    {
     "data": {
      "text/html": [
       "<div id=\"output_63378d62bc7742b386109f9bc16ed809\"><script> /* penzai.treescope rendering of a Python object (compressed) */ (()=>{ let observer; let lastStep = new Promise((resolve, reject) => { observer = new IntersectionObserver((entries) => { for (const entry of entries) { if (entry.isIntersecting) { resolve(); observer.disconnect(); return; } } }, {rootMargin: \"1000px\"}); }); window.treescope_decompress_enqueue = (encoded, destId) => { const previous = lastStep; const destElt = document.getElementById(destId); lastStep = (async () => { await previous; let blob = new Blob([ Uint8Array.from(atob(encoded), (m) => m.codePointAt(0)) ]); let reader = blob.stream().pipeThrough( new DecompressionStream(\"deflate\") ).pipeThrough( new TextDecoderStream(\"utf-8\") ).getReader(); let parts = []; while (true) { let step = await reader.read(); if (step.done) { break; } parts.push(step.value); } let newElt = document.createElement(\"div\"); newElt.innerHTML = parts.join(\"\"); destElt.parentNode.replaceChild(newElt, destElt); for (let oldScript of newElt.querySelectorAll(\"script\")) { let newScript = document.createElement(\"script\"); newScript.type = oldScript.type; newScript.textContent = oldScript.textContent; oldScript.parentNode.replaceChild(newScript, oldScript); } })(); requestAnimationFrame(() => { observer.observe(destElt); }); } })(); </script><div id=\"compress_html_a42806f6e1bc46e6bcaa59fc9432266a\"><script>window.treescope_decompress_enqueue(\"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\", \"compress_html_a42806f6e1bc46e6bcaa59fc9432266a\");</script><span style=\"color: #aaaaaa; font-family: monospace\">(Loading...)</span></div></div>"
      ],
      "text/plain": [
       "<IPython.core.display.HTML object>"
      ]
     },
     "metadata": {},
     "output_type": "display_data"
    },
    {
     "data": {
      "text/html": [
       "<div id=\"output_dest_63378d62bc7742b386109f9bc16ed809\"><script> (()=>{ const output = document.getElementById(\"output_63378d62bc7742b386109f9bc16ed809\"); const dest = document.getElementById(\"output_dest_63378d62bc7742b386109f9bc16ed809\"); dest.parentNode.replaceChild(output, dest); })(); </script></div>"
      ],
      "text/plain": [
       "'down walk scene small hell scene ground film game sit method fe song enjoy definition in ent ag nation mad dog art tax oficial prote pages of life space golf union political'"
      ]
     },
     "execution_count": 36,
     "metadata": {},
     "output_type": "execute_result"
    }
   ],
   "source": [
    "_logits = jax.vmap(\n",
    "    lambda a, b: a[b]\n",
    ")(logits, positions)\n",
    "tokenizer.decode(_logits.argmax(axis=-1))"
   ]
  },
  {
   "cell_type": "code",
   "execution_count": 37,
   "metadata": {},
   "outputs": [
    {
     "data": {
      "text/html": [
       "<div id=\"output_1fa8356c0e8c4da89b6901db8251cb81\"><script> /* penzai.treescope rendering of a Python object (compressed) */ (()=>{ let observer; let lastStep = new Promise((resolve, reject) => { observer = new IntersectionObserver((entries) => { for (const entry of entries) { if (entry.isIntersecting) { resolve(); observer.disconnect(); return; } } }, {rootMargin: \"1000px\"}); }); window.treescope_decompress_enqueue = (encoded, destId) => { const previous = lastStep; const destElt = document.getElementById(destId); lastStep = (async () => { await previous; let blob = new Blob([ Uint8Array.from(atob(encoded), (m) => m.codePointAt(0)) ]); let reader = blob.stream().pipeThrough( new DecompressionStream(\"deflate\") ).pipeThrough( new TextDecoderStream(\"utf-8\") ).getReader(); let parts = []; while (true) { let step = await reader.read(); if (step.done) { break; } parts.push(step.value); } let newElt = document.createElement(\"div\"); newElt.innerHTML = parts.join(\"\"); destElt.parentNode.replaceChild(newElt, destElt); for (let oldScript of newElt.querySelectorAll(\"script\")) { let newScript = document.createElement(\"script\"); newScript.type = oldScript.type; newScript.textContent = oldScript.textContent; oldScript.parentNode.replaceChild(newScript, oldScript); } })(); requestAnimationFrame(() => { observer.observe(destElt); }); } })(); </script><div id=\"compress_html_e708d44094044a7988cf419c80c6a580\"><script>window.treescope_decompress_enqueue(\"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\", \"compress_html_e708d44094044a7988cf419c80c6a580\");</script><span style=\"color: #aaaaaa; font-family: monospace\">(Loading...)</span></div></div>"
      ],
      "text/plain": [
       "<IPython.core.display.HTML object>"
      ]
     },
     "metadata": {},
     "output_type": "display_data"
    },
    {
     "data": {
      "text/html": [
       "<div id=\"output_dest_1fa8356c0e8c4da89b6901db8251cb81\"><script> (()=>{ const output = document.getElementById(\"output_1fa8356c0e8c4da89b6901db8251cb81\"); const dest = document.getElementById(\"output_dest_1fa8356c0e8c4da89b6901db8251cb81\"); dest.parentNode.replaceChild(output, dest); })(); </script></div>"
      ],
      "text/plain": [
       "[[['down', 'abajo']],\n",
       " [['walk', 'caminar']],\n",
       " [['scene', 'escena']],\n",
       " [['large', 'grande']],\n",
       " [['hell', 'infierno']],\n",
       " [['scene', 'escena']],\n",
       " [['ground', 'tierra']],\n",
       " [['film', 'película']],\n",
       " [['stage', 'escenario']],\n",
       " [['sit', 'sentarse']],\n",
       " [['method', 'método']],\n",
       " [['pretty', 'bonito']],\n",
       " [['song', 'canción']],\n",
       " [['enjoy', 'disfrutar']],\n",
       " [['term', 'término']],\n",
       " [['into', 'en']],\n",
       " [['understand', 'comprender']],\n",
       " [['agency', 'agencia']],\n",
       " [['nation', 'nación']],\n",
       " [['hard', 'duro']],\n",
       " [['dog', 'perro']],\n",
       " [['art', 'arte']],\n",
       " [['tax', 'impuesto']],\n",
       " [['official', 'oficial']],\n",
       " [['protect', 'proteger']],\n",
       " [['page', 'página']],\n",
       " [['off', 'apagado']],\n",
       " [['life', 'vida']],\n",
       " [['space', 'espacio']],\n",
       " [['club', 'club']],\n",
       " [['union', 'unión']],\n",
       " [['political', 'político']]]"
      ]
     },
     "execution_count": 37,
     "metadata": {},
     "output_type": "execute_result"
    }
   ],
   "source": [
    "fs.runner.eval_pairs"
   ]
  },
  {
   "cell_type": "code",
   "execution_count": 66,
   "metadata": {},
   "outputs": [
    {
     "data": {
      "text/html": [
       "<div id=\"output_ab7bb77596a74801bfb454d772d2a9f8\"><script> /* penzai.treescope rendering of a Python object (compressed) */ (()=>{ let observer; let lastStep = new Promise((resolve, reject) => { observer = new IntersectionObserver((entries) => { for (const entry of entries) { if (entry.isIntersecting) { resolve(); observer.disconnect(); return; } } }, {rootMargin: \"1000px\"}); }); window.treescope_decompress_enqueue = (encoded, destId) => { const previous = lastStep; const destElt = document.getElementById(destId); lastStep = (async () => { await previous; let blob = new Blob([ Uint8Array.from(atob(encoded), (m) => m.codePointAt(0)) ]); let reader = blob.stream().pipeThrough( new DecompressionStream(\"deflate\") ).pipeThrough( new TextDecoderStream(\"utf-8\") ).getReader(); let parts = []; while (true) { let step = await reader.read(); if (step.done) { break; } parts.push(step.value); } let newElt = document.createElement(\"div\"); newElt.innerHTML = parts.join(\"\"); destElt.parentNode.replaceChild(newElt, destElt); for (let oldScript of newElt.querySelectorAll(\"script\")) { let newScript = document.createElement(\"script\"); newScript.type = oldScript.type; newScript.textContent = oldScript.textContent; oldScript.parentNode.replaceChild(newScript, oldScript); } })(); requestAnimationFrame(() => { observer.observe(destElt); }); } })(); </script><div id=\"compress_html_3664a50d7dbc48ff9d5e13ed825de8a6\"><script>window.treescope_decompress_enqueue(\"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\", \"compress_html_3664a50d7dbc48ff9d5e13ed825de8a6\");</script><span style=\"color: #aaaaaa; font-family: monospace\">(Loading...)</span></div></div>"
      ],
      "text/plain": [
       "<IPython.core.display.HTML object>"
      ]
     },
     "metadata": {},
     "output_type": "display_data"
    },
    {
     "data": {
      "text/html": [
       "<div id=\"compress_html_9b0d8fee18b04749bb30ed2965a784e8\"><script>window.treescope_decompress_enqueue(\"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\", \"compress_html_9b0d8fee18b04749bb30ed2965a784e8\");</script></div>"
      ],
      "text/plain": [
       "<IPython.core.display.HTML object>"
      ]
     },
     "metadata": {},
     "output_type": "display_data"
    },
    {
     "data": {
      "text/html": [
       "<div id=\"output_dest_ab7bb77596a74801bfb454d772d2a9f8\"><script> (()=>{ const output = document.getElementById(\"output_ab7bb77596a74801bfb454d772d2a9f8\"); const dest = document.getElementById(\"output_dest_ab7bb77596a74801bfb454d772d2a9f8\"); dest.parentNode.replaceChild(output, dest); })(); </script></div>"
      ],
      "text/plain": [
       "array([[32000, 32000, 32000, 32000,     1, 32010, 10306,   278,  4766,\n",
       "        29901,    13,  3204,  1599,   633,  7069],\n",
       "       [32000, 32000, 32000, 32000,     1, 32010, 10306,   278,  4766,\n",
       "        29901,    13, 20919,  1599,  3949, 18220],\n",
       "       [32000, 32000, 32000, 32000,     1, 32010, 10306,   278,  4766,\n",
       "        29901,    13, 24645,  1599,  3966,  2386],\n",
       "       [32000, 32000, 32000, 32000, 32000,     1, 32010, 10306,   278,\n",
       "         4766, 29901,    13, 16961,  1599,  6815],\n",
       "       [32000, 32000, 32000, 32000,     1, 32010, 10306,   278,  4766,\n",
       "        29901,    13, 14181,  1599,  3041, 12643],\n",
       "       [32000, 32000, 32000, 32000,     1, 32010, 10306,   278,  4766,\n",
       "        29901,    13, 24645,  1599,  3966,  2386],\n",
       "       [32000, 32000, 32000, 32000, 32000,     1, 32010, 10306,   278,\n",
       "         4766, 29901,    13,  2057,  1599, 27907],\n",
       "       [32000, 32000, 32000, 32000, 32000,     1, 32010, 10306,   278,\n",
       "         4766, 29901,    13,  9663,  1599, 19053],\n",
       "       [32000, 32000, 32000, 32000,     1, 32010, 10306,   278,  4766,\n",
       "        29901,    13, 19190,  1599,  3966, 24893],\n",
       "       [32000, 32000, 32000,     1, 32010, 10306,   278,  4766, 29901,\n",
       "           13, 29879,   277,  1599,  2665,  7989],\n",
       "       [32000, 32000, 32000, 32000,     1, 32010, 10306,   278,  4766,\n",
       "        29901,    13,  5696,  1599, 11510,  8144],\n",
       "       [32000, 32000, 32000,     1, 32010, 10306,   278,  4766, 29901,\n",
       "           13,  1457,  4349,  1599, 10814,  2049],\n",
       "       [32000, 32000, 32000, 32000, 32000,     1, 32010, 10306,   278,\n",
       "         4766, 29901,    13, 21453,  1599, 24174],\n",
       "       [    1, 32010, 10306,   278,  4766, 29901,    13,   264,  2212,\n",
       "        29891,  1599,   766,  1341,   329,   279],\n",
       "       [32000, 32000, 32000, 32000,     1, 32010, 10306,   278,  4766,\n",
       "        29901,    13,  8489,  1599, 27757, 29877],\n",
       "       [32000, 32000, 32000, 32000, 32000,     1, 32010, 10306,   278,\n",
       "         4766, 29901,    13,  8941,  1599,   427],\n",
       "       [32000, 32000, 32000,     1, 32010, 10306,   278,  4766, 29901,\n",
       "           13,  5062,  1689,  1599,  7199,  1581],\n",
       "       [32000, 32000, 32000,     1, 32010, 10306,   278,  4766, 29901,\n",
       "           13,   351,  3819,  1599,   946,  5760],\n",
       "       [32000, 32000, 32000,     1, 32010, 10306,   278,  4766, 29901,\n",
       "           13, 29876,   362,  1599,  1055,  1290],\n",
       "       [32000, 32000, 32000, 32000,     1, 32010, 10306,   278,  4766,\n",
       "        29901,    13,  6800,  1599,   868,   307],\n",
       "       [32000, 32000, 32000, 32000,     1, 32010, 10306,   278,  4766,\n",
       "        29901,    13, 26169,  1599,   639,   307],\n",
       "       [32000, 32000, 32000, 32000, 32000,     1, 32010, 10306,   278,\n",
       "         4766, 29901,    13,   442,  1599, 20160],\n",
       "       [32000, 32000, 32000, 32000,     1, 32010, 10306,   278,  4766,\n",
       "        29901,    13, 20725,  1599,  2411, 29771],\n",
       "       [32000, 32000, 32000, 32000,     1, 32010, 10306,   278,  4766,\n",
       "        29901,    13, 29877,  7880,  1599,  9535],\n",
       "       [32000, 32000, 32000,     1, 32010, 10306,   278,  4766, 29901,\n",
       "           13, 14676,   312,  1599,  3279,   914],\n",
       "       [32000, 32000, 32000, 32000,     1, 32010, 10306,   278,  4766,\n",
       "        29901,    13,  3488,  1599,   282, 18814],\n",
       "       [32000, 32000, 32000,     1, 32010, 10306,   278,  4766, 29901,\n",
       "           13,  2696,  1599,  3095,   351,   912],\n",
       "       [32000, 32000, 32000, 32000, 32000,     1, 32010, 10306,   278,\n",
       "         4766, 29901,    13, 19264,  1599, 10828],\n",
       "       [32000, 32000, 32000, 32000,     1, 32010, 10306,   278,  4766,\n",
       "        29901,    13,  3493,  1599,  9015,  3934],\n",
       "       [32000, 32000, 32000, 32000, 32000,     1, 32010, 10306,   278,\n",
       "         4766, 29901,    13, 29066,  1599,  4402],\n",
       "       [32000, 32000, 32000, 32000,     1, 32010, 10306,   278,  4766,\n",
       "        29901,    13, 13094,  1599,   443,  3175],\n",
       "       [32000, 32000, 32000, 32000,     1, 32010, 10306,   278,  4766,\n",
       "        29901,    13, 20087,   936,  1599, 24934]])"
      ]
     },
     "execution_count": 66,
     "metadata": {},
     "output_type": "execute_result"
    }
   ],
   "source": [
    "fs.eval_tokens"
   ]
  },
  {
   "cell_type": "code",
   "execution_count": null,
   "metadata": {},
   "outputs": [],
   "source": []
  },
  {
   "cell_type": "code",
   "execution_count": 59,
   "metadata": {},
   "outputs": [],
   "source": []
  },
  {
   "cell_type": "code",
   "execution_count": 61,
   "metadata": {},
   "outputs": [
    {
     "data": {
      "text/html": [
       "<div id=\"output_7999877016094ea5be7d32d434c53b1c\"><script> /* penzai.treescope rendering of a Python object (compressed) */ (()=>{ let observer; let lastStep = new Promise((resolve, reject) => { observer = new IntersectionObserver((entries) => { for (const entry of entries) { if (entry.isIntersecting) { resolve(); observer.disconnect(); return; } } }, {rootMargin: \"1000px\"}); }); window.treescope_decompress_enqueue = (encoded, destId) => { const previous = lastStep; const destElt = document.getElementById(destId); lastStep = (async () => { await previous; let blob = new Blob([ Uint8Array.from(atob(encoded), (m) => m.codePointAt(0)) ]); let reader = blob.stream().pipeThrough( new DecompressionStream(\"deflate\") ).pipeThrough( new TextDecoderStream(\"utf-8\") ).getReader(); let parts = []; while (true) { let step = await reader.read(); if (step.done) { break; } parts.push(step.value); } let newElt = document.createElement(\"div\"); newElt.innerHTML = parts.join(\"\"); destElt.parentNode.replaceChild(newElt, destElt); for (let oldScript of newElt.querySelectorAll(\"script\")) { let newScript = document.createElement(\"script\"); newScript.type = oldScript.type; newScript.textContent = oldScript.textContent; oldScript.parentNode.replaceChild(newScript, oldScript); } })(); requestAnimationFrame(() => { observer.observe(destElt); }); } })(); </script><div id=\"compress_html_7fff5540ae454851ab2011ad70440f7a\"><script>window.treescope_decompress_enqueue(\"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\", \"compress_html_7fff5540ae454851ab2011ad70440f7a\");</script><span style=\"color: #aaaaaa; font-family: monospace\">(Loading...)</span></div></div>"
      ],
      "text/plain": [
       "<IPython.core.display.HTML object>"
      ]
     },
     "metadata": {},
     "output_type": "display_data"
    },
    {
     "data": {
      "text/html": [
       "<div id=\"output_dest_7999877016094ea5be7d32d434c53b1c\"><script> (()=>{ const output = document.getElementById(\"output_7999877016094ea5be7d32d434c53b1c\"); const dest = document.getElementById(\"output_dest_7999877016094ea5be7d32d434c53b1c\"); dest.parentNode.replaceChild(output, dest); })(); </script></div>"
      ],
      "text/plain": [
       "'down walked screen larger hello screen ground film stage sat method pu song enjoy value into understanding ag nation harder log art tax off protect pages off life space club union political'"
      ]
     },
     "execution_count": 61,
     "metadata": {},
     "output_type": "execute_result"
    }
   ],
   "source": [
    "t"
   ]
  },
  {
   "cell_type": "code",
   "execution_count": 44,
   "metadata": {},
   "outputs": [],
   "source": [
    "def check_feature(feature: int, task:str, target_layer, sae, print_results=False):\n",
    "    pairs = tasks[task]\n",
    "    pairs = [list(x) for x in pairs.items()]\n",
    "    dataset = ICLDataset(pairs, size=batch_size, n_prepended=0, bidirectional=False, seed=10, prepend_space=task.startswith(\"algo\"))\n",
    "\n",
    "    print(\n",
    "        dataset.prompts\n",
    "    )\n",
    "\n",
    "\n",
    "    tokenized = tokenizer.batch_encode_plus([prompt.format(x) for x in dataset.prompts], padding=\"longest\", max_length=max_seq_len, truncation=True, return_tensors=\"np\")\n",
    "    inputs = tokenized_to_inputs(\n",
    "        **tokenized\n",
    "    )\n",
    "\n",
    "    pos = 1\n",
    "    if task.startswith(\"algo\"):\n",
    "        pos = 2\n",
    "\n",
    "    target_tokens = [x[pos] for x in tokenizer(dataset.completions)[\"input_ids\"]]\n",
    "    target_tokens = jnp.asarray(target_tokens)\n",
    "\n",
    "    # weights, recon = grad_pursuit(tv * 2, sae[\"W_dec\"], k, pos_only=True)\n",
    "\n",
    "    recon = sae[\"W_dec\"][feature] * 20\n",
    "    recon = recon.astype('bfloat16')\n",
    "\n",
    "    act_add = add_vector(\n",
    "        llama, recon, target_layer, scale=1.0, position=\"last\"\n",
    "    )\n",
    "\n",
    "    logits = act_add(inputs).unwrap(\"batch\", \"seq\", \"vocabulary\")\n",
    "\n",
    "    # print(logits[:, -1].mean(axis=-1))\n",
    "\n",
    "    logprobs = jax.nn.log_softmax(logits, axis=-1)\n",
    "    answer_logprobs = logprobs[:, -1]\n",
    "\n",
    "    target_logprobs = jnp.take_along_axis(answer_logprobs, target_tokens[:, None], axis=-1).squeeze()\n",
    "\n",
    "    if print_results:\n",
    "        print(\n",
    "            repr(tokenizer.decode(answer_logprobs.argmax(axis=-1)))\n",
    "        )\n",
    "\n",
    "        print(\n",
    "            repr(tokenizer.decode(target_tokens))\n",
    "        )\n",
    "\n",
    "    return (target_logprobs - answer_logprobs.max(axis=-1))"
   ]
  },
  {
   "cell_type": "code",
   "execution_count": 27,
   "metadata": {},
   "outputs": [],
   "source": [
    "sae = get_sae(18, 4)"
   ]
  },
  {
   "cell_type": "code",
   "execution_count": 30,
   "metadata": {},
   "outputs": [
    {
     "data": {
      "text/html": [
       "<div id=\"output_c8ea95e1ce8646bda76b4b87fb22be94\"><script> /* penzai.treescope rendering of a Python object (compressed) */ (()=>{ let observer; let lastStep = new Promise((resolve, reject) => { observer = new IntersectionObserver((entries) => { for (const entry of entries) { if (entry.isIntersecting) { resolve(); observer.disconnect(); return; } } }, {rootMargin: \"1000px\"}); }); window.treescope_decompress_enqueue = (encoded, destId) => { const previous = lastStep; const destElt = document.getElementById(destId); lastStep = (async () => { await previous; let blob = new Blob([ Uint8Array.from(atob(encoded), (m) => m.codePointAt(0)) ]); let reader = blob.stream().pipeThrough( new DecompressionStream(\"deflate\") ).pipeThrough( new TextDecoderStream(\"utf-8\") ).getReader(); let parts = []; while (true) { let step = await reader.read(); if (step.done) { break; } parts.push(step.value); } let newElt = document.createElement(\"div\"); newElt.innerHTML = parts.join(\"\"); destElt.parentNode.replaceChild(newElt, destElt); for (let oldScript of newElt.querySelectorAll(\"script\")) { let newScript = document.createElement(\"script\"); newScript.type = oldScript.type; newScript.textContent = oldScript.textContent; oldScript.parentNode.replaceChild(newScript, oldScript); } })(); requestAnimationFrame(() => { observer.observe(destElt); }); } })(); </script><div id=\"compress_html_833a1b1c208e46b1b456e16ede423fd0\"><script>window.treescope_decompress_enqueue(\"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\", \"compress_html_833a1b1c208e46b1b456e16ede423fd0\");</script><span style=\"color: #aaaaaa; font-family: monospace\">(Loading...)</span></div></div>"
      ],
      "text/plain": [
       "<IPython.core.display.HTML object>"
      ]
     },
     "metadata": {},
     "output_type": "display_data"
    },
    {
     "data": {
      "text/html": [
       "<div id=\"compress_html_6f960dd961194410839fcf03986e040a\"><script>window.treescope_decompress_enqueue(\"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\", \"compress_html_6f960dd961194410839fcf03986e040a\");</script></div>"
      ],
      "text/plain": [
       "<IPython.core.display.HTML object>"
      ]
     },
     "metadata": {},
     "output_type": "display_data"
    },
    {
     "data": {
      "text/html": [
       "<div id=\"output_dest_c8ea95e1ce8646bda76b4b87fb22be94\"><script> (()=>{ const output = document.getElementById(\"output_c8ea95e1ce8646bda76b4b87fb22be94\"); const dest = document.getElementById(\"output_dest_c8ea95e1ce8646bda76b4b87fb22be94\"); dest.parentNode.replaceChild(output, dest); })(); </script></div>"
      ],
      "text/plain": [
       "{'W_dec': # jax.Array float32(49152, 3072) ≈1.5e-05 ±0.018 [≥-0.69, ≤0.72] nonzero:150_994_944\n",
       "   Array([[-1.0390111e-02, -1.4213075e-02, -2.7305655e-02, ...,\n",
       "           -3.8054176e-02,  3.2431733e-02, -2.4696782e-02],\n",
       "          [ 3.6464450e-03,  1.1525472e-02,  2.3346700e-02, ...,\n",
       "           -1.3969769e-02, -2.1684350e-02,  1.9762961e-02],\n",
       "          [ 2.3951381e-02,  2.0307090e-02, -1.0205399e-03, ...,\n",
       "           -7.8665420e-05, -3.2605302e-02, -2.0566324e-02],\n",
       "          ...,\n",
       "          [-2.1444883e-02, -5.0013666e-03, -5.5012279e-03, ...,\n",
       "            1.4278403e-02,  1.3525741e-02, -3.5212745e-04],\n",
       "          [ 2.8317727e-02,  2.8130701e-02,  7.6365019e-03, ...,\n",
       "           -9.8304339e-03,  7.1255758e-04, -2.6758818e-02],\n",
       "          [ 2.5761945e-04, -9.7675147e-03, -1.6709493e-02, ...,\n",
       "           -8.7964898e-03,  4.5935563e-03,  1.5758382e-02]], dtype=float32)\n",
       " ,\n",
       " 'W_enc': # jax.Array float32(3072, 49152) ≈2.7e-05 ±0.015 [≥-0.33, ≤0.75] zero:1 nonzero:150_994_943\n",
       "   Array([[ 0.00642347,  0.01031775,  0.00772383, ..., -0.01876058,\n",
       "            0.06085767, -0.01564161],\n",
       "          [-0.00819698, -0.01002671,  0.00421169, ..., -0.02776144,\n",
       "            0.03665377, -0.03213882],\n",
       "          [ 0.00030221,  0.01530008, -0.00118439, ...,  0.00538867,\n",
       "            0.02733457, -0.00622977],\n",
       "          ...,\n",
       "          [ 0.00109215, -0.00682703, -0.00306622, ...,  0.03215252,\n",
       "           -0.03750627, -0.0165697 ],\n",
       "          [ 0.01241016, -0.00268804, -0.0145798 , ...,  0.01233974,\n",
       "           -0.0092611 , -0.01979413],\n",
       "          [-0.00127209,  0.00695627, -0.00180823, ..., -0.01949977,\n",
       "           -0.02877844,  0.01321251]], dtype=float32)\n",
       " ,\n",
       " 'b_dec': # jax.Array float32(3072,) ≈0.00065 ±0.063 [≥-0.44, ≤0.61] nonzero:3_072\n",
       "   Array([ 0.00894668,  0.00368893, -0.00755703, ...,  0.03014987,\n",
       "           0.07653498,  0.06849926], dtype=float32)\n",
       " ,\n",
       " 'b_enc': # jax.Array float32(49152,) ≈-0.13 ±0.16 [≥-0.76, ≤0.11] nonzero:49_152\n",
       "   Array([-0.02901577, -0.07799948, -0.09279591, ..., -0.5452185 ,\n",
       "          -0.42847958, -0.3660079 ], dtype=float32)\n",
       " ,\n",
       " 'b_gate': # jax.Array float32(49152,) ≈0.19 ±0.27 [≥0.01, ≤1.2] nonzero:49_152\n",
       "   Array([0.02074471, 0.08082295, 0.20455228, ..., 0.9924683 , 0.7404377 ,\n",
       "          0.5968205 ], dtype=float32)\n",
       " ,\n",
       " 's_gate': # jax.Array float32(49152,) ≈0.084 ±0.13 [≥-0.82, ≤0.57] nonzero:49_152\n",
       "   Array([ 0.01797964,  0.09803171,  0.28549254, ..., -0.16841878,\n",
       "           0.18351474,  0.27063075], dtype=float32)\n",
       " ,\n",
       " 'scaling_factor': # jax.Array float32(49152,) ≈1.0 ±0.058 [≥0.51, ≤1.9] nonzero:49_152\n",
       "   Array([1.0194339, 1.1125576, 0.994432 , ..., 1.2642885, 1.0430051,\n",
       "          1.0159718], dtype=float32)\n",
       " }"
      ]
     },
     "execution_count": 30,
     "metadata": {},
     "output_type": "execute_result"
    }
   ],
   "source": [
    "sae"
   ]
  },
  {
   "cell_type": "code",
   "execution_count": 45,
   "metadata": {},
   "outputs": [
    {
     "name": "stdout",
     "output_type": "stream",
     "text": [
      "['worry ->', 'money ->', 'hear ->', 'general ->', 'morning ->', 'government ->', 'course ->', 'letter ->', 'oil ->', 'future ->', 'kill ->', 'cut ->', 'risk ->', 'time ->', 'student ->', 'wear ->', 'organization ->', 'simply ->', 'population ->', 'doctor ->', 'attention ->', 'money ->', 'carry ->', 'require ->', 'court ->', 'fund ->', 'summer ->', 'something ->', 'environment ->', 'industry ->', 'reduce ->', 'player ->', 'money ->', 'subject ->', 'dead ->', 'comment ->', 'position ->', 'military ->', 'art ->', 'great ->', 'town ->', 'make ->', 'bill ->', 'fine ->', 'love ->', 'clear ->', 'drug ->', 'foreign ->', 'administration ->', 'discuss ->', 'watch ->', 'recognize ->', 'gun ->', 'gun ->', 'guy ->', 'rule ->', 'on ->', 'ok ->', 'club ->', 'much ->', 'situation ->', 'respond ->', 'cut ->', 'provide ->']\n"
     ]
    },
    {
     "name": "stdout",
     "output_type": "stream",
     "text": [
      "'wor mon here general tarde government curs number pet fut k cort ries  estud vest organiz s población enfer at mon c require co fund ver something natur indust reduce jug mon verb death <  militar art grande town me bill fin am cl dro for administ disc mir reconoc g g ch  en ok _ mucho action res cort segu'\n",
      "'pre din esc general ma gobierno cur cart ace fut mat cort ries h estud lle organiz sim población méd at din lle ex corte fond ver algo amb indust redu jug din sujet m com pos militar arte est pueblo fabric fact mult amor clar dro extr admin disc re reconoc p p ch reg sobre ok club mucho situ res cort prove'\n"
     ]
    },
    {
     "data": {
      "text/html": [
       "<div id=\"output_f521af54085d416a831f462efd6967fc\"><script> /* penzai.treescope rendering of a Python object (compressed) */ (()=>{ let observer; let lastStep = new Promise((resolve, reject) => { observer = new IntersectionObserver((entries) => { for (const entry of entries) { if (entry.isIntersecting) { resolve(); observer.disconnect(); return; } } }, {rootMargin: \"1000px\"}); }); window.treescope_decompress_enqueue = (encoded, destId) => { const previous = lastStep; const destElt = document.getElementById(destId); lastStep = (async () => { await previous; let blob = new Blob([ Uint8Array.from(atob(encoded), (m) => m.codePointAt(0)) ]); let reader = blob.stream().pipeThrough( new DecompressionStream(\"deflate\") ).pipeThrough( new TextDecoderStream(\"utf-8\") ).getReader(); let parts = []; while (true) { let step = await reader.read(); if (step.done) { break; } parts.push(step.value); } let newElt = document.createElement(\"div\"); newElt.innerHTML = parts.join(\"\"); destElt.parentNode.replaceChild(newElt, destElt); for (let oldScript of newElt.querySelectorAll(\"script\")) { let newScript = document.createElement(\"script\"); newScript.type = oldScript.type; newScript.textContent = oldScript.textContent; oldScript.parentNode.replaceChild(newScript, oldScript); } })(); requestAnimationFrame(() => { observer.observe(destElt); }); } })(); </script><div id=\"compress_html_8e9a606c602f4135af0c91ee676fb4c2\"><script>window.treescope_decompress_enqueue(\"eNrFWIlT4kwW/1d6mKoRxuEUcASxNiCXio7ijI77bVFN0klaku7Y6RDxK//3fd0BOcQ5dqd2pUqg847fu/txGMqZR45yUhASmjwgI8G5RH+jgIdUUs5qSBAPSzoldWRzJrM29qk3qyGfMx4G2ITz2KWSZPWXGgoEnHg0lFktOitnAZwyzuB4jM2JI3jErKzJPS5qCWsdzb+NPSAAedSSbg3ZVAIZk4TJOvKxcCjLesSWNVQyXaWDkaxLqOPCSTFXqaPnw3xizmFoChrII0RtlI4ps3i8tBA1Gg0EEIgNAqwM2PqaAv39XH91nBsFhFmUOYapPBMC2T//9VOyHmaWp0SyyPO2UDtEjja830DphdNHkmdQ4whA5j+iM84nEASBpEuQpmTcIjn0MY88ItGcd4VVhwaUp5Nn7xrI4mbkg0NzY27N0IcP6J16kjM9HIZnELSccjimLEyn1kGlMki5aqFDMQVYgKS2R3wdoWfQLCPB9EP4usVWEbEh50wZGHMxmVsGKkMJyG7gSD1aO5bUVIcBEWC4j5lJcozH6cyLaa+eoGzCdIj2SgrythzYDGXOI8yRLqQGKmzLiB/HNLFbeYB4IVlCdyOmsP9UeehSWyqTNIf68AyvX8WQXlAK8hCRUBqM+lhRdAT2STrxayazPSKbUIIodJPY1H/FcQsQjcQVv+O6X4e9FThhwBWRY2ITIYh1TfwA0p6ErxMo8NThS+IDm5gNiUdMyYXheZDoc97VJhixUQiZmsrUdcGlVX2BJMRtLVAZCu8rdSOIz6dkrWpWZLxVCekFViXfFvyJqOLQkpPGtw43nUoamxKpOODbqmmmIGDGvCBXaeFTTvVhIE6U6G/zc/IoW4mylcfLw7qGk9T6uWo3goC3TNKC8rPSIOGTIlBxejNWkjuOl7SRke7+EoDpLgcnxJOfEJmC9LkrVNrp77kJmamKTInUovUA8YrPE7np1IvMkQ8AUwsczwjmQTIIDi06RZqxsdnXkMRjAEweG6lCCnEGSgE9W6Hbjj8tXRoukKdg5CSD1Jon5Eg7yeWeRYTORT3g3uN99ZqPUs1SQ1Rij5qAN2cDOR6DKtXX3xjCz2idbJSgA2qLhqB0thi2m4ToCHl4TLxabUwgp8kKKlP/1bfqSyZutqhG7nwwF+pLXZTpOTz2uJrcb+p0oTjEa80WFpOQYAdczV5z1xiX6Y0jF4fpIy3zaKsfNE/NdIk5geGeQR8zSwyKdTvTgn4NoU7/Gtr5q1QZmzv/T3jrTG+CrP4PQKo4KsWRCFUAA04Bgdiil4Z/Tq0uBa0oq+stfCvH/4zWpXmqD77WkqPhyKYilCPORir9t5TWj0opV6qoatoaKvRfw08ivglRWbV2h9YF/ZyLXcJGUI0eDkJi/byL/DagH2hIeofWoYnIYwC3gzdp/gSObSrmhv5jvt6YKnxrq87OAMaqoNhDw5k/5nCfuIikgmWhxeRs8WC2s97WmbqVevOzeL6nlAvQPENh1lAkvLSFJa6p5/mY23apPsYhqZY/WYWD7sAxmob+618aBtefmlcx/O91DKNt/Oiv6RuGM+GnVr/dbMXfDeP6e+vEGPSbLaPjPPZ7Z64MmwNKnL3O8W3prF/9Ph0GEf0yqFwXT277V98G05vBk/wy63RauzfO5Jo2jwsuPb6MTtpW977QG+ftad8KHk6r7sMNpZfRgHXdnv1VGl+rzXNRNjp9NmlXza9RxHavKg9mOImndsfLPzw6bf7ZGZ/E3c/FnpFnxlXlTIiT4tWu81S4sgrGiV10zvdbcfe+5BT4LLra3/fbxWrcuz24cJyAXE9mZdIfP1XMsbjoSmw4l/3z+BiHs/Ay6vdvb9qd2PhyGfS/W1/z+V1n/3r/dk8W7NMvD8a0AjLPjPN9YxAbvvN0NdyN7oakfftYsqvm03n5qjerRE3j9Kl5H3SCPdq7bLULd9GX8nCf2c2zdq8z8A26+3naLrms6O7vjr/Ft/dxT0yPu19b7N5utx25e2Heed5+5aB1Ejc/uwflwaA73OveGY7fr9w3Lw/kdZf0DtrNZr+7d+yUr/LfzdnY6EJMv53mjcsuNsig5Rm9p/aFcyedavOLc3HRP25O6GWFdJq3rWbHpIXAFTxgkBvBXfu4+FScDO2WLd3ZKetZuBP27MK5322fV5uW8fDtW4BlOLzzLQvTg5L9dFD+Su8fqoEvqhf8e2tIRdefnnT3hjfDvU67ZDYv7evdnseDbrkTxhXsPFQ/0zsyPPeCG9bs9Yk1ECS6eei2/OJNR0yGw8dKqXpzE8YGIMogvZHJ9I5O653MnyhfuInNxpGUsD5ua1LLx9vGYwqlNqigZYfQCrYS/0WKZStV/0+bABT7eEKBUzcDH26NLqw/NYSZBHYKNW69/OLxnhTUq/56oCbc9Ak6SSF3QPxNK5NJvMWK7RerJWcuxuHIhBsnOPaFH9ty7Z66uBH+SOcGz7rKVdejKRbpbFZ1uyxmEFi952VWj5UStQALzBZzU4tFxRAR8FgW5haP5O+Z8oIAAkOJ9W4diVaJ3lE/4EJi9kr2WPCJnlzBbHnt+bl3V9hW/LkI86ufqF4tS65ekDV/YhosStDdmInSiYb1X03AkmuuEg/I5gjUWUikBqVcqnDgGFOJGJ5SB8MiCUsUDcYcCysXCyrJNdxz0ktZEIm5rOWyhS0rnVrxt94ribymPoHAvCyyr/gWi/EG6/MnVCoUCro1mFiaLix9mW38Wu+KU1NLcOuraxrC+x51MPUgGSRHividrkm4+LAIe94MbhOhJNhSObG76rv5yrjcF1UqIWo1Ui/7nLm/VymSEinA7aFsV0sHuGxjXK0QYhWrll1MzZnmW+b6GrR5GwPipPcdUhZEEql1vJHS3W7MH1NbhcwbIzxMmuLRYV4zw/tc1qr+bXto6uiDJ+v3+DFnCIFnaGx7HMtiNQ13DuiwuRz64EjlBJBztPG2KnvtJrVu986yEnZgmW6pgDd2fpDdeo3O7KCXkmyk0h72xxbWC39N/8+kkK6aRmqldqElb6FU/Xez0wCljjIMQdhed+aIj7Ybmrfo9O3qfOtnp3TmJXf+DQCfMmc=\", \"compress_html_8e9a606c602f4135af0c91ee676fb4c2\");</script><span style=\"color: #aaaaaa; font-family: monospace\">(Loading...)</span></div></div>"
      ],
      "text/plain": [
       "<IPython.core.display.HTML object>"
      ]
     },
     "metadata": {},
     "output_type": "display_data"
    },
    {
     "data": {
      "text/html": [
       "<div id=\"compress_html_52109da584944cba8ff273274d9ae287\"><script>window.treescope_decompress_enqueue(\"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\", \"compress_html_52109da584944cba8ff273274d9ae287\");</script></div>"
      ],
      "text/plain": [
       "<IPython.core.display.HTML object>"
      ]
     },
     "metadata": {},
     "output_type": "display_data"
    },
    {
     "data": {
      "text/html": [
       "<div id=\"output_dest_f521af54085d416a831f462efd6967fc\"><script> (()=>{ const output = document.getElementById(\"output_f521af54085d416a831f462efd6967fc\"); const dest = document.getElementById(\"output_dest_f521af54085d416a831f462efd6967fc\"); dest.parentNode.replaceChild(output, dest); })(); </script></div>"
      ],
      "text/plain": [
       "# jax.Array bfloat16(64,) ≈-2.5 ±3.1 [≥-1.2e+01, ≤0.0] zero:20 nonzero:44\n",
       "  Array([-3, -2.75, -9.5625, 0, -1.625, -0.5, -1.75781, -12.0625, -2.1875,\n",
       "         0, -2.75, 0, 0, -1.9375, 0, -0.5, 0, -1.11719, 0, -1.375, 0, -2.75,\n",
       "         -1.25, -8.125, -1, -1.11719, 0, -1.625, -0.0625, 0, -0.121094, 0,\n",
       "         -2.75, -4.6875, -4.5, -3.01562, -3.25, 0, -3.39062, -7.0625,\n",
       "         -5.375, -5.1875, -10.3125, -11.875, -0.996094, -0.617188, 0,\n",
       "         -3.625, -1.375, 0, -7, 0, -3.8125, -3.8125, 0, -6, -5.25, 0,\n",
       "         -0.9375, 0, -6.5, 0, 0, -4.6875], dtype=bfloat16)\n"
      ]
     },
     "execution_count": 45,
     "metadata": {},
     "output_type": "execute_result"
    }
   ],
   "source": [
    "sae = get_sae(18, 4)\n",
    "\n",
    "check_feature(6198, \"en_es\", 18, sae, print_results=True)"
   ]
  },
  {
   "cell_type": "code",
   "execution_count": null,
   "metadata": {},
   "outputs": [
    {
     "name": "stdout",
     "output_type": "stream",
     "text": [
      "Feature 10018: -7.5\n",
      "Feature 20311: -2.375\n",
      "Feature 40023: -4.5\n",
      "Feature 5145: -7.21875\n",
      "Feature 45145: -7.09375\n",
      "Feature 2719: -7.09375\n",
      "Feature 15415: -7.28125\n",
      "Feature 24802: -7.15625\n",
      "Feature 20375: -7.125\n",
      "Feature 19505: -7.09375\n",
      "Feature 38618: -7.25\n",
      "Feature 36786: -7.125\n",
      "Feature 47611: -7.03125\n",
      "Feature 31726: -7.28125\n"
     ]
    },
    {
     "ename": "KeyboardInterrupt",
     "evalue": "",
     "output_type": "error",
     "traceback": [
      "\u001b[0;31m---------------------------------------------------------------------------\u001b[0m",
      "\u001b[0;31mKeyboardInterrupt\u001b[0m                         Traceback (most recent call last)",
      "Cell \u001b[0;32mIn[38], line 3\u001b[0m\n\u001b[1;32m      1\u001b[0m \u001b[38;5;28;01mfor\u001b[39;00m feature \u001b[38;5;129;01min\u001b[39;00m i:\n\u001b[1;32m      2\u001b[0m     \u001b[38;5;28mprint\u001b[39m(\n\u001b[0;32m----> 3\u001b[0m         \u001b[38;5;124mf\u001b[39m\u001b[38;5;124m\"\u001b[39m\u001b[38;5;124mFeature \u001b[39m\u001b[38;5;132;01m{\u001b[39;00mfeature\u001b[38;5;132;01m}\u001b[39;00m\u001b[38;5;124m: \u001b[39m\u001b[38;5;132;01m{\u001b[39;00m\u001b[43mcheck_feature\u001b[49m\u001b[43m(\u001b[49m\u001b[43mfeature\u001b[49m\u001b[43m)\u001b[49m\u001b[38;5;132;01m}\u001b[39;00m\u001b[38;5;124m\"\u001b[39m\n\u001b[1;32m      4\u001b[0m     )\n\u001b[1;32m      6\u001b[0m \u001b[38;5;66;03m# get_logprob_diff(logits.unwrap(\"batch\", \"seq\", \"vocabulary\"), target_tokens, print_results=True)\u001b[39;00m\n",
      "Cell \u001b[0;32mIn[25], line 24\u001b[0m, in \u001b[0;36mcheck_feature\u001b[0;34m(feature, print_results)\u001b[0m\n\u001b[1;32m     18\u001b[0m recon \u001b[38;5;241m=\u001b[39m recon\u001b[38;5;241m.\u001b[39mastype(\u001b[38;5;124m'\u001b[39m\u001b[38;5;124mbfloat16\u001b[39m\u001b[38;5;124m'\u001b[39m)\n\u001b[1;32m     20\u001b[0m act_add \u001b[38;5;241m=\u001b[39m add_vector(\n\u001b[1;32m     21\u001b[0m     llama, recon, layer_target, scale\u001b[38;5;241m=\u001b[39m\u001b[38;5;241m1.0\u001b[39m, position\u001b[38;5;241m=\u001b[39m\u001b[38;5;124m\"\u001b[39m\u001b[38;5;124mlast\u001b[39m\u001b[38;5;124m\"\u001b[39m\n\u001b[1;32m     22\u001b[0m )\n\u001b[0;32m---> 24\u001b[0m logits \u001b[38;5;241m=\u001b[39m \u001b[43mact_add\u001b[49m\u001b[43m(\u001b[49m\u001b[43minputs\u001b[49m\u001b[43m)\u001b[49m\u001b[38;5;241m.\u001b[39munwrap(\u001b[38;5;124m\"\u001b[39m\u001b[38;5;124mbatch\u001b[39m\u001b[38;5;124m\"\u001b[39m, \u001b[38;5;124m\"\u001b[39m\u001b[38;5;124mseq\u001b[39m\u001b[38;5;124m\"\u001b[39m, \u001b[38;5;124m\"\u001b[39m\u001b[38;5;124mvocabulary\u001b[39m\u001b[38;5;124m\"\u001b[39m)\n\u001b[1;32m     26\u001b[0m \u001b[38;5;66;03m# print(logits[:, -1].mean(axis=-1))\u001b[39;00m\n\u001b[1;32m     28\u001b[0m logprobs \u001b[38;5;241m=\u001b[39m jax\u001b[38;5;241m.\u001b[39mnn\u001b[38;5;241m.\u001b[39mlog_softmax(logits, axis\u001b[38;5;241m=\u001b[39m\u001b[38;5;241m-\u001b[39m\u001b[38;5;241m1\u001b[39m)\n",
      "File \u001b[0;32m~/.cache/pypoetry/virtualenvs/micrlhf-progress-_SD4q1c9-py3.12/lib/python3.12/site-packages/penzai/core/layer.py:82\u001b[0m, in \u001b[0;36mchecked_layer_call.<locals>.wrapper\u001b[0;34m(self, argument)\u001b[0m\n\u001b[1;32m     80\u001b[0m output_structure \u001b[38;5;241m=\u001b[39m \u001b[38;5;28mself\u001b[39m\u001b[38;5;241m.\u001b[39moutput_structure()\n\u001b[1;32m     81\u001b[0m \u001b[38;5;28;01mwith\u001b[39;00m jax\u001b[38;5;241m.\u001b[39mnamed_scope(\u001b[38;5;28mtype\u001b[39m(\u001b[38;5;28mself\u001b[39m)\u001b[38;5;241m.\u001b[39m\u001b[38;5;18m__name__\u001b[39m):\n\u001b[0;32m---> 82\u001b[0m   result \u001b[38;5;241m=\u001b[39m \u001b[43mfunc\u001b[49m\u001b[43m(\u001b[49m\u001b[38;5;28;43mself\u001b[39;49m\u001b[43m,\u001b[49m\u001b[43m \u001b[49m\u001b[43margument\u001b[49m\u001b[43m)\u001b[49m\n\u001b[1;32m     83\u001b[0m shapecheck\u001b[38;5;241m.\u001b[39mcheck_structure(\n\u001b[1;32m     84\u001b[0m     result,\n\u001b[1;32m     85\u001b[0m     pattern\u001b[38;5;241m=\u001b[39moutput_structure,\n\u001b[0;32m   (...)\u001b[0m\n\u001b[1;32m     90\u001b[0m     ),\n\u001b[1;32m     91\u001b[0m )\n\u001b[1;32m     92\u001b[0m \u001b[38;5;28;01mreturn\u001b[39;00m result\n",
      "File \u001b[0;32m~/micrlhf-progress/micrlhf/llama.py:255\u001b[0m, in \u001b[0;36mLlamaTransformer.__call__\u001b[0;34m(self, inputs)\u001b[0m\n\u001b[1;32m    253\u001b[0m \u001b[38;5;129m@pz\u001b[39m\u001b[38;5;241m.\u001b[39mchecked_layer_call\n\u001b[1;32m    254\u001b[0m \u001b[38;5;28;01mdef\u001b[39;00m \u001b[38;5;21m__call__\u001b[39m(\u001b[38;5;28mself\u001b[39m, inputs: LlamaInputs) \u001b[38;5;241m-\u001b[39m\u001b[38;5;241m>\u001b[39m pz\u001b[38;5;241m.\u001b[39mnx\u001b[38;5;241m.\u001b[39mNamedArray:\n\u001b[0;32m--> 255\u001b[0m     \u001b[38;5;28;01mreturn\u001b[39;00m \u001b[38;5;28;43mself\u001b[39;49m\u001b[38;5;241;43m.\u001b[39;49m\u001b[43mbody\u001b[49m\u001b[43m(\u001b[49m\u001b[43m(\u001b[49m\u001b[43minputs\u001b[49m\u001b[38;5;241;43m.\u001b[39;49m\u001b[43mtokens\u001b[49m\u001b[43m,\u001b[49m\u001b[43m \u001b[49m\u001b[43minputs\u001b[49m\u001b[38;5;241;43m.\u001b[39;49m\u001b[43mpositions\u001b[49m\u001b[43m,\u001b[49m\u001b[43m \u001b[49m\u001b[43minputs\u001b[49m\u001b[38;5;241;43m.\u001b[39;49m\u001b[43mattention_mask\u001b[49m\u001b[43m)\u001b[49m\u001b[43m)\u001b[49m\n",
      "File \u001b[0;32m~/.cache/pypoetry/virtualenvs/micrlhf-progress-_SD4q1c9-py3.12/lib/python3.12/site-packages/penzai/core/layer.py:82\u001b[0m, in \u001b[0;36mchecked_layer_call.<locals>.wrapper\u001b[0;34m(self, argument)\u001b[0m\n\u001b[1;32m     80\u001b[0m output_structure \u001b[38;5;241m=\u001b[39m \u001b[38;5;28mself\u001b[39m\u001b[38;5;241m.\u001b[39moutput_structure()\n\u001b[1;32m     81\u001b[0m \u001b[38;5;28;01mwith\u001b[39;00m jax\u001b[38;5;241m.\u001b[39mnamed_scope(\u001b[38;5;28mtype\u001b[39m(\u001b[38;5;28mself\u001b[39m)\u001b[38;5;241m.\u001b[39m\u001b[38;5;18m__name__\u001b[39m):\n\u001b[0;32m---> 82\u001b[0m   result \u001b[38;5;241m=\u001b[39m \u001b[43mfunc\u001b[49m\u001b[43m(\u001b[49m\u001b[38;5;28;43mself\u001b[39;49m\u001b[43m,\u001b[49m\u001b[43m \u001b[49m\u001b[43margument\u001b[49m\u001b[43m)\u001b[49m\n\u001b[1;32m     83\u001b[0m shapecheck\u001b[38;5;241m.\u001b[39mcheck_structure(\n\u001b[1;32m     84\u001b[0m     result,\n\u001b[1;32m     85\u001b[0m     pattern\u001b[38;5;241m=\u001b[39moutput_structure,\n\u001b[0;32m   (...)\u001b[0m\n\u001b[1;32m     90\u001b[0m     ),\n\u001b[1;32m     91\u001b[0m )\n\u001b[1;32m     92\u001b[0m \u001b[38;5;28;01mreturn\u001b[39;00m result\n",
      "File \u001b[0;32m~/.cache/pypoetry/virtualenvs/micrlhf-progress-_SD4q1c9-py3.12/lib/python3.12/site-packages/penzai/data_effects/side_input.py:146\u001b[0m, in \u001b[0;36mWithSideInputsFromInputTuple.__call__\u001b[0;34m(self, argument)\u001b[0m\n\u001b[1;32m    136\u001b[0m impls \u001b[38;5;241m=\u001b[39m {\n\u001b[1;32m    137\u001b[0m     tag: SideInputEffectImpl(_value\u001b[38;5;241m=\u001b[39mval, _handler_id\u001b[38;5;241m=\u001b[39m\u001b[38;5;28mself\u001b[39m\u001b[38;5;241m.\u001b[39mhandler_id)\n\u001b[1;32m    138\u001b[0m     \u001b[38;5;28;01mfor\u001b[39;00m tag, val \u001b[38;5;129;01min\u001b[39;00m \u001b[38;5;28mzip\u001b[39m(\u001b[38;5;28mself\u001b[39m\u001b[38;5;241m.\u001b[39mside_input_tags, side_inputs)\n\u001b[1;32m    139\u001b[0m }\n\u001b[1;32m    140\u001b[0m handled_body \u001b[38;5;241m=\u001b[39m (\n\u001b[1;32m    141\u001b[0m     selectors\u001b[38;5;241m.\u001b[39mselect(\u001b[38;5;28mself\u001b[39m\u001b[38;5;241m.\u001b[39mbody)\n\u001b[1;32m    142\u001b[0m     \u001b[38;5;241m.\u001b[39mat_instances_of(HandledSideInputRef)\n\u001b[1;32m    143\u001b[0m     \u001b[38;5;241m.\u001b[39mwhere(\u001b[38;5;28;01mlambda\u001b[39;00m ref: ref\u001b[38;5;241m.\u001b[39mhandler_id \u001b[38;5;241m==\u001b[39m \u001b[38;5;28mself\u001b[39m\u001b[38;5;241m.\u001b[39mhandler_id)\n\u001b[1;32m    144\u001b[0m     \u001b[38;5;241m.\u001b[39mapply(\u001b[38;5;28;01mlambda\u001b[39;00m ref: impls[ref\u001b[38;5;241m.\u001b[39mtag])\n\u001b[1;32m    145\u001b[0m )\n\u001b[0;32m--> 146\u001b[0m \u001b[38;5;28;01mreturn\u001b[39;00m \u001b[43mhandled_body\u001b[49m\u001b[43m(\u001b[49m\u001b[43minner_arg\u001b[49m\u001b[43m)\u001b[49m\n",
      "File \u001b[0;32m~/.cache/pypoetry/virtualenvs/micrlhf-progress-_SD4q1c9-py3.12/lib/python3.12/site-packages/penzai/nn/grouping.py:79\u001b[0m, in \u001b[0;36mSequential.__call__\u001b[0;34m(self, value)\u001b[0m\n\u001b[1;32m     77\u001b[0m \u001b[38;5;28;01mfor\u001b[39;00m i, layer \u001b[38;5;129;01min\u001b[39;00m \u001b[38;5;28menumerate\u001b[39m(\u001b[38;5;28mself\u001b[39m\u001b[38;5;241m.\u001b[39msublayers):\n\u001b[1;32m     78\u001b[0m   \u001b[38;5;28;01mwith\u001b[39;00m jax\u001b[38;5;241m.\u001b[39mnamed_scope(\u001b[38;5;124mf\u001b[39m\u001b[38;5;124m\"\u001b[39m\u001b[38;5;132;01m{\u001b[39;00mi\u001b[38;5;132;01m}\u001b[39;00m\u001b[38;5;124m\"\u001b[39m):\n\u001b[0;32m---> 79\u001b[0m     value \u001b[38;5;241m=\u001b[39m \u001b[43mlayer\u001b[49m\u001b[43m(\u001b[49m\u001b[43mvalue\u001b[49m\u001b[43m)\u001b[49m\n\u001b[1;32m     80\u001b[0m \u001b[38;5;28;01mreturn\u001b[39;00m value\n",
      "File \u001b[0;32m~/.cache/pypoetry/virtualenvs/micrlhf-progress-_SD4q1c9-py3.12/lib/python3.12/site-packages/penzai/nn/grouping.py:79\u001b[0m, in \u001b[0;36mSequential.__call__\u001b[0;34m(self, value)\u001b[0m\n\u001b[1;32m     77\u001b[0m \u001b[38;5;28;01mfor\u001b[39;00m i, layer \u001b[38;5;129;01min\u001b[39;00m \u001b[38;5;28menumerate\u001b[39m(\u001b[38;5;28mself\u001b[39m\u001b[38;5;241m.\u001b[39msublayers):\n\u001b[1;32m     78\u001b[0m   \u001b[38;5;28;01mwith\u001b[39;00m jax\u001b[38;5;241m.\u001b[39mnamed_scope(\u001b[38;5;124mf\u001b[39m\u001b[38;5;124m\"\u001b[39m\u001b[38;5;132;01m{\u001b[39;00mi\u001b[38;5;132;01m}\u001b[39;00m\u001b[38;5;124m\"\u001b[39m):\n\u001b[0;32m---> 79\u001b[0m     value \u001b[38;5;241m=\u001b[39m \u001b[43mlayer\u001b[49m\u001b[43m(\u001b[49m\u001b[43mvalue\u001b[49m\u001b[43m)\u001b[49m\n\u001b[1;32m     80\u001b[0m \u001b[38;5;28;01mreturn\u001b[39;00m value\n",
      "File \u001b[0;32m~/.cache/pypoetry/virtualenvs/micrlhf-progress-_SD4q1c9-py3.12/lib/python3.12/site-packages/penzai/nn/grouping.py:79\u001b[0m, in \u001b[0;36mSequential.__call__\u001b[0;34m(self, value)\u001b[0m\n\u001b[1;32m     77\u001b[0m \u001b[38;5;28;01mfor\u001b[39;00m i, layer \u001b[38;5;129;01min\u001b[39;00m \u001b[38;5;28menumerate\u001b[39m(\u001b[38;5;28mself\u001b[39m\u001b[38;5;241m.\u001b[39msublayers):\n\u001b[1;32m     78\u001b[0m   \u001b[38;5;28;01mwith\u001b[39;00m jax\u001b[38;5;241m.\u001b[39mnamed_scope(\u001b[38;5;124mf\u001b[39m\u001b[38;5;124m\"\u001b[39m\u001b[38;5;132;01m{\u001b[39;00mi\u001b[38;5;132;01m}\u001b[39;00m\u001b[38;5;124m\"\u001b[39m):\n\u001b[0;32m---> 79\u001b[0m     value \u001b[38;5;241m=\u001b[39m \u001b[43mlayer\u001b[49m\u001b[43m(\u001b[49m\u001b[43mvalue\u001b[49m\u001b[43m)\u001b[49m\n\u001b[1;32m     80\u001b[0m \u001b[38;5;28;01mreturn\u001b[39;00m value\n",
      "File \u001b[0;32m~/.cache/pypoetry/virtualenvs/micrlhf-progress-_SD4q1c9-py3.12/lib/python3.12/site-packages/penzai/nn/combinators.py:59\u001b[0m, in \u001b[0;36mResidual.__call__\u001b[0;34m(self, value)\u001b[0m\n\u001b[1;32m     50\u001b[0m \u001b[38;5;28;01mdef\u001b[39;00m \u001b[38;5;21m__call__\u001b[39m(\u001b[38;5;28mself\u001b[39m, value: Any) \u001b[38;5;241m-\u001b[39m\u001b[38;5;241m>\u001b[39m Any:\n\u001b[1;32m     51\u001b[0m \u001b[38;5;250m  \u001b[39m\u001b[38;5;124;03m\"\"\"Runs each of the sublayers in sequence, then adds back the original input.\u001b[39;00m\n\u001b[1;32m     52\u001b[0m \n\u001b[1;32m     53\u001b[0m \u001b[38;5;124;03m  Args:\u001b[39;00m\n\u001b[0;32m   (...)\u001b[0m\n\u001b[1;32m     57\u001b[0m \u001b[38;5;124;03m    The sum of the input to the residual block and the output of the child.\u001b[39;00m\n\u001b[1;32m     58\u001b[0m \u001b[38;5;124;03m  \"\"\"\u001b[39;00m\n\u001b[0;32m---> 59\u001b[0m   delta_value \u001b[38;5;241m=\u001b[39m \u001b[38;5;28;43mself\u001b[39;49m\u001b[38;5;241;43m.\u001b[39;49m\u001b[43mdelta\u001b[49m\u001b[43m(\u001b[49m\u001b[43mvalue\u001b[49m\u001b[43m)\u001b[49m\n\u001b[1;32m     60\u001b[0m   \u001b[38;5;28;01mreturn\u001b[39;00m delta_value \u001b[38;5;241m+\u001b[39m value\n",
      "File \u001b[0;32m~/.cache/pypoetry/virtualenvs/micrlhf-progress-_SD4q1c9-py3.12/lib/python3.12/site-packages/penzai/nn/grouping.py:79\u001b[0m, in \u001b[0;36mSequential.__call__\u001b[0;34m(self, value)\u001b[0m\n\u001b[1;32m     77\u001b[0m \u001b[38;5;28;01mfor\u001b[39;00m i, layer \u001b[38;5;129;01min\u001b[39;00m \u001b[38;5;28menumerate\u001b[39m(\u001b[38;5;28mself\u001b[39m\u001b[38;5;241m.\u001b[39msublayers):\n\u001b[1;32m     78\u001b[0m   \u001b[38;5;28;01mwith\u001b[39;00m jax\u001b[38;5;241m.\u001b[39mnamed_scope(\u001b[38;5;124mf\u001b[39m\u001b[38;5;124m\"\u001b[39m\u001b[38;5;132;01m{\u001b[39;00mi\u001b[38;5;132;01m}\u001b[39;00m\u001b[38;5;124m\"\u001b[39m):\n\u001b[0;32m---> 79\u001b[0m     value \u001b[38;5;241m=\u001b[39m \u001b[43mlayer\u001b[49m\u001b[43m(\u001b[49m\u001b[43mvalue\u001b[49m\u001b[43m)\u001b[49m\n\u001b[1;32m     80\u001b[0m \u001b[38;5;28;01mreturn\u001b[39;00m value\n",
      "File \u001b[0;32m~/.cache/pypoetry/virtualenvs/micrlhf-progress-_SD4q1c9-py3.12/lib/python3.12/site-packages/penzai/nn/attention.py:130\u001b[0m, in \u001b[0;36mAttention.__call__\u001b[0;34m(self, x)\u001b[0m\n\u001b[1;32m    120\u001b[0m \u001b[38;5;250m\u001b[39m\u001b[38;5;124;03m\"\"\"Runs the attention computation.\u001b[39;00m\n\u001b[1;32m    121\u001b[0m \n\u001b[1;32m    122\u001b[0m \u001b[38;5;124;03mArgs:\u001b[39;00m\n\u001b[0;32m   (...)\u001b[0m\n\u001b[1;32m    127\u001b[0m \u001b[38;5;124;03m  The final output of the ``attn_value_to_output`` sublayer.\u001b[39;00m\n\u001b[1;32m    128\u001b[0m \u001b[38;5;124;03m\"\"\"\u001b[39;00m\n\u001b[1;32m    129\u001b[0m query \u001b[38;5;241m=\u001b[39m \u001b[38;5;28mself\u001b[39m\u001b[38;5;241m.\u001b[39minput_to_query(x)\n\u001b[0;32m--> 130\u001b[0m key \u001b[38;5;241m=\u001b[39m \u001b[38;5;28;43mself\u001b[39;49m\u001b[38;5;241;43m.\u001b[39;49m\u001b[43minput_to_key\u001b[49m\u001b[43m(\u001b[49m\u001b[43mx\u001b[49m\u001b[43m)\u001b[49m\n\u001b[1;32m    131\u001b[0m value \u001b[38;5;241m=\u001b[39m \u001b[38;5;28mself\u001b[39m\u001b[38;5;241m.\u001b[39minput_to_value(x)\n\u001b[1;32m    132\u001b[0m attn \u001b[38;5;241m=\u001b[39m \u001b[38;5;28mself\u001b[39m\u001b[38;5;241m.\u001b[39mquery_key_to_attn((query, key))\n",
      "File \u001b[0;32m~/.cache/pypoetry/virtualenvs/micrlhf-progress-_SD4q1c9-py3.12/lib/python3.12/site-packages/penzai/nn/grouping.py:79\u001b[0m, in \u001b[0;36mSequential.__call__\u001b[0;34m(self, value)\u001b[0m\n\u001b[1;32m     77\u001b[0m \u001b[38;5;28;01mfor\u001b[39;00m i, layer \u001b[38;5;129;01min\u001b[39;00m \u001b[38;5;28menumerate\u001b[39m(\u001b[38;5;28mself\u001b[39m\u001b[38;5;241m.\u001b[39msublayers):\n\u001b[1;32m     78\u001b[0m   \u001b[38;5;28;01mwith\u001b[39;00m jax\u001b[38;5;241m.\u001b[39mnamed_scope(\u001b[38;5;124mf\u001b[39m\u001b[38;5;124m\"\u001b[39m\u001b[38;5;132;01m{\u001b[39;00mi\u001b[38;5;132;01m}\u001b[39;00m\u001b[38;5;124m\"\u001b[39m):\n\u001b[0;32m---> 79\u001b[0m     value \u001b[38;5;241m=\u001b[39m \u001b[43mlayer\u001b[49m\u001b[43m(\u001b[49m\u001b[43mvalue\u001b[49m\u001b[43m)\u001b[49m\n\u001b[1;32m     80\u001b[0m \u001b[38;5;28;01mreturn\u001b[39;00m value\n",
      "File \u001b[0;32m~/.cache/pypoetry/virtualenvs/micrlhf-progress-_SD4q1c9-py3.12/lib/python3.12/site-packages/penzai/core/layer.py:82\u001b[0m, in \u001b[0;36mchecked_layer_call.<locals>.wrapper\u001b[0;34m(self, argument)\u001b[0m\n\u001b[1;32m     80\u001b[0m output_structure \u001b[38;5;241m=\u001b[39m \u001b[38;5;28mself\u001b[39m\u001b[38;5;241m.\u001b[39moutput_structure()\n\u001b[1;32m     81\u001b[0m \u001b[38;5;28;01mwith\u001b[39;00m jax\u001b[38;5;241m.\u001b[39mnamed_scope(\u001b[38;5;28mtype\u001b[39m(\u001b[38;5;28mself\u001b[39m)\u001b[38;5;241m.\u001b[39m\u001b[38;5;18m__name__\u001b[39m):\n\u001b[0;32m---> 82\u001b[0m   result \u001b[38;5;241m=\u001b[39m \u001b[43mfunc\u001b[49m\u001b[43m(\u001b[49m\u001b[38;5;28;43mself\u001b[39;49m\u001b[43m,\u001b[49m\u001b[43m \u001b[49m\u001b[43margument\u001b[49m\u001b[43m)\u001b[49m\n\u001b[1;32m     83\u001b[0m shapecheck\u001b[38;5;241m.\u001b[39mcheck_structure(\n\u001b[1;32m     84\u001b[0m     result,\n\u001b[1;32m     85\u001b[0m     pattern\u001b[38;5;241m=\u001b[39moutput_structure,\n\u001b[0;32m   (...)\u001b[0m\n\u001b[1;32m     90\u001b[0m     ),\n\u001b[1;32m     91\u001b[0m )\n\u001b[1;32m     92\u001b[0m \u001b[38;5;28;01mreturn\u001b[39;00m result\n",
      "File \u001b[0;32m~/.cache/pypoetry/virtualenvs/micrlhf-progress-_SD4q1c9-py3.12/lib/python3.12/site-packages/penzai/nn/linear_and_affine.py:451\u001b[0m, in \u001b[0;36mLinear.__call__\u001b[0;34m(self, in_array)\u001b[0m\n\u001b[1;32m    448\u001b[0m \u001b[38;5;129m@layer_base\u001b[39m\u001b[38;5;241m.\u001b[39mchecked_layer_call\n\u001b[1;32m    449\u001b[0m \u001b[38;5;28;01mdef\u001b[39;00m \u001b[38;5;21m__call__\u001b[39m(\u001b[38;5;28mself\u001b[39m, in_array: NamedArray) \u001b[38;5;241m-\u001b[39m\u001b[38;5;241m>\u001b[39m NamedArray:\n\u001b[1;32m    450\u001b[0m \u001b[38;5;250m  \u001b[39m\u001b[38;5;124;03m\"\"\"Runs the linear operator.\"\"\"\u001b[39;00m\n\u001b[0;32m--> 451\u001b[0m   \u001b[38;5;28;01mreturn\u001b[39;00m \u001b[43mcontract\u001b[49m\u001b[43m(\u001b[49m\u001b[38;5;28;43mself\u001b[39;49m\u001b[38;5;241;43m.\u001b[39;49m\u001b[43min_axis_names\u001b[49m\u001b[43m,\u001b[49m\u001b[43m \u001b[49m\u001b[43min_array\u001b[49m\u001b[43m,\u001b[49m\u001b[43m \u001b[49m\u001b[38;5;28;43mself\u001b[39;49m\u001b[38;5;241;43m.\u001b[39;49m\u001b[43mweights\u001b[49m\u001b[38;5;241;43m.\u001b[39;49m\u001b[43mvalue\u001b[49m\u001b[43m)\u001b[49m\n",
      "File \u001b[0;32m~/.cache/pypoetry/virtualenvs/micrlhf-progress-_SD4q1c9-py3.12/lib/python3.12/site-packages/penzai/nn/linear_and_affine.py:301\u001b[0m, in \u001b[0;36mcontract\u001b[0;34m(names, left, right)\u001b[0m\n\u001b[1;32m    286\u001b[0m \u001b[38;5;250m\u001b[39m\u001b[38;5;124;03m\"\"\"Contracts two named arrays along the given axis names.\u001b[39;00m\n\u001b[1;32m    287\u001b[0m \n\u001b[1;32m    288\u001b[0m \u001b[38;5;124;03mArgs:\u001b[39;00m\n\u001b[0;32m   (...)\u001b[0m\n\u001b[1;32m    298\u001b[0m \u001b[38;5;124;03m  away.\u001b[39;00m\n\u001b[1;32m    299\u001b[0m \u001b[38;5;124;03m\"\"\"\u001b[39;00m\n\u001b[1;32m    300\u001b[0m names \u001b[38;5;241m=\u001b[39m (names,) \u001b[38;5;28;01mif\u001b[39;00m \u001b[38;5;28misinstance\u001b[39m(names, \u001b[38;5;28mstr\u001b[39m) \u001b[38;5;28;01melse\u001b[39;00m names\n\u001b[0;32m--> 301\u001b[0m \u001b[38;5;28;01mreturn\u001b[39;00m \u001b[43mnamed_axes\u001b[49m\u001b[38;5;241;43m.\u001b[39;49m\u001b[43mnmap\u001b[49m\u001b[43m(\u001b[49m\u001b[43mjnp\u001b[49m\u001b[38;5;241;43m.\u001b[39;49m\u001b[43mtensordot\u001b[49m\u001b[43m)\u001b[49m\u001b[43m(\u001b[49m\n\u001b[1;32m    302\u001b[0m \u001b[43m    \u001b[49m\u001b[43mleft\u001b[49m\u001b[38;5;241;43m.\u001b[39;49m\u001b[43muntag\u001b[49m\u001b[43m(\u001b[49m\u001b[38;5;241;43m*\u001b[39;49m\u001b[43mnames\u001b[49m\u001b[43m)\u001b[49m\u001b[43m,\u001b[49m\u001b[43m \u001b[49m\u001b[43mright\u001b[49m\u001b[38;5;241;43m.\u001b[39;49m\u001b[43muntag\u001b[49m\u001b[43m(\u001b[49m\u001b[38;5;241;43m*\u001b[39;49m\u001b[43mnames\u001b[49m\u001b[43m)\u001b[49m\u001b[43m,\u001b[49m\u001b[43m \u001b[49m\u001b[43maxes\u001b[49m\u001b[38;5;241;43m=\u001b[39;49m\u001b[38;5;28;43mlen\u001b[39;49m\u001b[43m(\u001b[49m\u001b[43mnames\u001b[49m\u001b[43m)\u001b[49m\n\u001b[1;32m    303\u001b[0m \u001b[43m\u001b[49m\u001b[43m)\u001b[49m\n",
      "File \u001b[0;32m~/.cache/pypoetry/virtualenvs/micrlhf-progress-_SD4q1c9-py3.12/lib/python3.12/site-packages/penzai/core/named_axes.py:309\u001b[0m, in \u001b[0;36m_nmap_with_doc.<locals>.wrapped_fun\u001b[0;34m(*args, **kwargs)\u001b[0m\n\u001b[1;32m    298\u001b[0m   \u001b[38;5;28;01mreturn\u001b[39;00m jax\u001b[38;5;241m.\u001b[39mvmap(\n\u001b[1;32m    299\u001b[0m       functools\u001b[38;5;241m.\u001b[39mpartial(\n\u001b[1;32m    300\u001b[0m           recursive_vectorize_step,\n\u001b[0;32m   (...)\u001b[0m\n\u001b[1;32m    305\u001b[0m       axis_name\u001b[38;5;241m=\u001b[39mvmap_name,\n\u001b[1;32m    306\u001b[0m   )(reduced_views)\n\u001b[1;32m    308\u001b[0m \u001b[38;5;66;03m# Run the function.\u001b[39;00m\n\u001b[0;32m--> 309\u001b[0m result_data \u001b[38;5;241m=\u001b[39m \u001b[43mrecursive_vectorize_step\u001b[49m\u001b[43m(\u001b[49m\u001b[43mnamed_array_arg_leaves\u001b[49m\u001b[43m,\u001b[49m\u001b[43m \u001b[49m\u001b[43mall_names\u001b[49m\u001b[43m)\u001b[49m\n\u001b[1;32m    311\u001b[0m \u001b[38;5;66;03m# Wrap all leaves in NamedArray or NamedArrayView, assigning the names from\u001b[39;00m\n\u001b[1;32m    312\u001b[0m \u001b[38;5;66;03m# `all_names` to their mapped-over axes. The mapped-over named axes always\u001b[39;00m\n\u001b[1;32m    313\u001b[0m \u001b[38;5;66;03m# end up at the front, followed by positional axes, so if there are any\u001b[39;00m\n\u001b[1;32m    314\u001b[0m \u001b[38;5;66;03m# positional axes we need to return a NamedArrayView.\u001b[39;00m\n\u001b[1;32m    315\u001b[0m \u001b[38;5;28;01mdef\u001b[39;00m \u001b[38;5;21mhandle_result\u001b[39m(leaf):\n",
      "File \u001b[0;32m~/.cache/pypoetry/virtualenvs/micrlhf-progress-_SD4q1c9-py3.12/lib/python3.12/site-packages/penzai/core/named_axes.py:298\u001b[0m, in \u001b[0;36m_nmap_with_doc.<locals>.wrapped_fun.<locals>.recursive_vectorize_step\u001b[0;34m(current_views, remaining_names)\u001b[0m\n\u001b[1;32m    295\u001b[0m     vmap_axes\u001b[38;5;241m.\u001b[39mappend(\u001b[38;5;28;01mNone\u001b[39;00m)\n\u001b[1;32m    296\u001b[0m     reduced_views\u001b[38;5;241m.\u001b[39mappend(view)\n\u001b[0;32m--> 298\u001b[0m \u001b[38;5;28;01mreturn\u001b[39;00m \u001b[43mjax\u001b[49m\u001b[38;5;241;43m.\u001b[39;49m\u001b[43mvmap\u001b[49m\u001b[43m(\u001b[49m\n\u001b[1;32m    299\u001b[0m \u001b[43m    \u001b[49m\u001b[43mfunctools\u001b[49m\u001b[38;5;241;43m.\u001b[39;49m\u001b[43mpartial\u001b[49m\u001b[43m(\u001b[49m\n\u001b[1;32m    300\u001b[0m \u001b[43m        \u001b[49m\u001b[43mrecursive_vectorize_step\u001b[49m\u001b[43m,\u001b[49m\n\u001b[1;32m    301\u001b[0m \u001b[43m        \u001b[49m\u001b[43mremaining_names\u001b[49m\u001b[38;5;241;43m=\u001b[39;49m\u001b[43mremaining_names\u001b[49m\u001b[43m[\u001b[49m\u001b[38;5;241;43m1\u001b[39;49m\u001b[43m:\u001b[49m\u001b[43m]\u001b[49m\u001b[43m,\u001b[49m\n\u001b[1;32m    302\u001b[0m \u001b[43m    \u001b[49m\u001b[43m)\u001b[49m\u001b[43m,\u001b[49m\n\u001b[1;32m    303\u001b[0m \u001b[43m    \u001b[49m\u001b[43min_axes\u001b[49m\u001b[38;5;241;43m=\u001b[39;49m\u001b[43m(\u001b[49m\u001b[43mvmap_axes\u001b[49m\u001b[43m,\u001b[49m\u001b[43m)\u001b[49m\u001b[43m,\u001b[49m\n\u001b[1;32m    304\u001b[0m \u001b[43m    \u001b[49m\u001b[43mout_axes\u001b[49m\u001b[38;5;241;43m=\u001b[39;49m\u001b[38;5;241;43m0\u001b[39;49m\u001b[43m,\u001b[49m\n\u001b[1;32m    305\u001b[0m \u001b[43m    \u001b[49m\u001b[43maxis_name\u001b[49m\u001b[38;5;241;43m=\u001b[39;49m\u001b[43mvmap_name\u001b[49m\u001b[43m,\u001b[49m\n\u001b[1;32m    306\u001b[0m \u001b[43m\u001b[49m\u001b[43m)\u001b[49m\u001b[43m(\u001b[49m\u001b[43mreduced_views\u001b[49m\u001b[43m)\u001b[49m\n",
      "    \u001b[0;31m[... skipping hidden 1 frame]\u001b[0m\n",
      "File \u001b[0;32m~/.cache/pypoetry/virtualenvs/micrlhf-progress-_SD4q1c9-py3.12/lib/python3.12/site-packages/jax/_src/api.py:1214\u001b[0m, in \u001b[0;36mvmap.<locals>.vmap_f\u001b[0;34m(*args, **kwargs)\u001b[0m\n\u001b[1;32m   1211\u001b[0m in_axes_flat \u001b[38;5;241m=\u001b[39m flatten_axes(\u001b[38;5;124m\"\u001b[39m\u001b[38;5;124mvmap in_axes\u001b[39m\u001b[38;5;124m\"\u001b[39m, in_tree, (in_axes, \u001b[38;5;241m0\u001b[39m), kws\u001b[38;5;241m=\u001b[39m\u001b[38;5;28;01mTrue\u001b[39;00m)\n\u001b[1;32m   1212\u001b[0m axis_size_ \u001b[38;5;241m=\u001b[39m (axis_size \u001b[38;5;28;01mif\u001b[39;00m axis_size \u001b[38;5;129;01mis\u001b[39;00m \u001b[38;5;129;01mnot\u001b[39;00m \u001b[38;5;28;01mNone\u001b[39;00m \u001b[38;5;28;01melse\u001b[39;00m\n\u001b[1;32m   1213\u001b[0m               _mapped_axis_size(fun, in_tree, args_flat, in_axes_flat, \u001b[38;5;124m\"\u001b[39m\u001b[38;5;124mvmap\u001b[39m\u001b[38;5;124m\"\u001b[39m))\n\u001b[0;32m-> 1214\u001b[0m out_flat \u001b[38;5;241m=\u001b[39m \u001b[43mbatching\u001b[49m\u001b[38;5;241;43m.\u001b[39;49m\u001b[43mbatch\u001b[49m\u001b[43m(\u001b[49m\n\u001b[1;32m   1215\u001b[0m \u001b[43m    \u001b[49m\u001b[43mflat_fun\u001b[49m\u001b[43m,\u001b[49m\u001b[43m \u001b[49m\u001b[43maxis_name\u001b[49m\u001b[43m,\u001b[49m\u001b[43m \u001b[49m\u001b[43maxis_size_\u001b[49m\u001b[43m,\u001b[49m\u001b[43m \u001b[49m\u001b[43min_axes_flat\u001b[49m\u001b[43m,\u001b[49m\n\u001b[1;32m   1216\u001b[0m \u001b[43m    \u001b[49m\u001b[38;5;28;43;01mlambda\u001b[39;49;00m\u001b[43m:\u001b[49m\u001b[43m \u001b[49m\u001b[43mflatten_axes\u001b[49m\u001b[43m(\u001b[49m\u001b[38;5;124;43m\"\u001b[39;49m\u001b[38;5;124;43mvmap out_axes\u001b[39;49m\u001b[38;5;124;43m\"\u001b[39;49m\u001b[43m,\u001b[49m\u001b[43m \u001b[49m\u001b[43mout_tree\u001b[49m\u001b[43m(\u001b[49m\u001b[43m)\u001b[49m\u001b[43m,\u001b[49m\u001b[43m \u001b[49m\u001b[43mout_axes\u001b[49m\u001b[43m)\u001b[49m\u001b[43m,\u001b[49m\n\u001b[1;32m   1217\u001b[0m \u001b[43m    \u001b[49m\u001b[43mspmd_axis_name\u001b[49m\u001b[38;5;241;43m=\u001b[39;49m\u001b[43mspmd_axis_name\u001b[49m\n\u001b[1;32m   1218\u001b[0m \u001b[43m\u001b[49m\u001b[43m)\u001b[49m\u001b[38;5;241;43m.\u001b[39;49m\u001b[43mcall_wrapped\u001b[49m\u001b[43m(\u001b[49m\u001b[38;5;241;43m*\u001b[39;49m\u001b[43margs_flat\u001b[49m\u001b[43m)\u001b[49m\n\u001b[1;32m   1219\u001b[0m \u001b[38;5;28;01mreturn\u001b[39;00m tree_unflatten(out_tree(), out_flat)\n",
      "File \u001b[0;32m~/.cache/pypoetry/virtualenvs/micrlhf-progress-_SD4q1c9-py3.12/lib/python3.12/site-packages/jax/_src/linear_util.py:192\u001b[0m, in \u001b[0;36mWrappedFun.call_wrapped\u001b[0;34m(self, *args, **kwargs)\u001b[0m\n\u001b[1;32m    189\u001b[0m gen \u001b[38;5;241m=\u001b[39m gen_static_args \u001b[38;5;241m=\u001b[39m out_store \u001b[38;5;241m=\u001b[39m \u001b[38;5;28;01mNone\u001b[39;00m\n\u001b[1;32m    191\u001b[0m \u001b[38;5;28;01mtry\u001b[39;00m:\n\u001b[0;32m--> 192\u001b[0m   ans \u001b[38;5;241m=\u001b[39m \u001b[38;5;28;43mself\u001b[39;49m\u001b[38;5;241;43m.\u001b[39;49m\u001b[43mf\u001b[49m\u001b[43m(\u001b[49m\u001b[38;5;241;43m*\u001b[39;49m\u001b[43margs\u001b[49m\u001b[43m,\u001b[49m\u001b[43m \u001b[49m\u001b[38;5;241;43m*\u001b[39;49m\u001b[38;5;241;43m*\u001b[39;49m\u001b[38;5;28;43mdict\u001b[39;49m\u001b[43m(\u001b[49m\u001b[38;5;28;43mself\u001b[39;49m\u001b[38;5;241;43m.\u001b[39;49m\u001b[43mparams\u001b[49m\u001b[43m,\u001b[49m\u001b[43m \u001b[49m\u001b[38;5;241;43m*\u001b[39;49m\u001b[38;5;241;43m*\u001b[39;49m\u001b[43mkwargs\u001b[49m\u001b[43m)\u001b[49m\u001b[43m)\u001b[49m\n\u001b[1;32m    193\u001b[0m \u001b[38;5;28;01mexcept\u001b[39;00m:\n\u001b[1;32m    194\u001b[0m   \u001b[38;5;66;03m# Some transformations yield from inside context managers, so we have to\u001b[39;00m\n\u001b[1;32m    195\u001b[0m   \u001b[38;5;66;03m# interrupt them before reraising the exception. Otherwise they will only\u001b[39;00m\n\u001b[1;32m    196\u001b[0m   \u001b[38;5;66;03m# get garbage-collected at some later time, running their cleanup tasks\u001b[39;00m\n\u001b[1;32m    197\u001b[0m   \u001b[38;5;66;03m# only after this exception is handled, which can corrupt the global\u001b[39;00m\n\u001b[1;32m    198\u001b[0m   \u001b[38;5;66;03m# state.\u001b[39;00m\n\u001b[1;32m    199\u001b[0m   \u001b[38;5;28;01mwhile\u001b[39;00m stack:\n",
      "File \u001b[0;32m~/.cache/pypoetry/virtualenvs/micrlhf-progress-_SD4q1c9-py3.12/lib/python3.12/site-packages/penzai/core/named_axes.py:298\u001b[0m, in \u001b[0;36m_nmap_with_doc.<locals>.wrapped_fun.<locals>.recursive_vectorize_step\u001b[0;34m(current_views, remaining_names)\u001b[0m\n\u001b[1;32m    295\u001b[0m     vmap_axes\u001b[38;5;241m.\u001b[39mappend(\u001b[38;5;28;01mNone\u001b[39;00m)\n\u001b[1;32m    296\u001b[0m     reduced_views\u001b[38;5;241m.\u001b[39mappend(view)\n\u001b[0;32m--> 298\u001b[0m \u001b[38;5;28;01mreturn\u001b[39;00m \u001b[43mjax\u001b[49m\u001b[38;5;241;43m.\u001b[39;49m\u001b[43mvmap\u001b[49m\u001b[43m(\u001b[49m\n\u001b[1;32m    299\u001b[0m \u001b[43m    \u001b[49m\u001b[43mfunctools\u001b[49m\u001b[38;5;241;43m.\u001b[39;49m\u001b[43mpartial\u001b[49m\u001b[43m(\u001b[49m\n\u001b[1;32m    300\u001b[0m \u001b[43m        \u001b[49m\u001b[43mrecursive_vectorize_step\u001b[49m\u001b[43m,\u001b[49m\n\u001b[1;32m    301\u001b[0m \u001b[43m        \u001b[49m\u001b[43mremaining_names\u001b[49m\u001b[38;5;241;43m=\u001b[39;49m\u001b[43mremaining_names\u001b[49m\u001b[43m[\u001b[49m\u001b[38;5;241;43m1\u001b[39;49m\u001b[43m:\u001b[49m\u001b[43m]\u001b[49m\u001b[43m,\u001b[49m\n\u001b[1;32m    302\u001b[0m \u001b[43m    \u001b[49m\u001b[43m)\u001b[49m\u001b[43m,\u001b[49m\n\u001b[1;32m    303\u001b[0m \u001b[43m    \u001b[49m\u001b[43min_axes\u001b[49m\u001b[38;5;241;43m=\u001b[39;49m\u001b[43m(\u001b[49m\u001b[43mvmap_axes\u001b[49m\u001b[43m,\u001b[49m\u001b[43m)\u001b[49m\u001b[43m,\u001b[49m\n\u001b[1;32m    304\u001b[0m \u001b[43m    \u001b[49m\u001b[43mout_axes\u001b[49m\u001b[38;5;241;43m=\u001b[39;49m\u001b[38;5;241;43m0\u001b[39;49m\u001b[43m,\u001b[49m\n\u001b[1;32m    305\u001b[0m \u001b[43m    \u001b[49m\u001b[43maxis_name\u001b[49m\u001b[38;5;241;43m=\u001b[39;49m\u001b[43mvmap_name\u001b[49m\u001b[43m,\u001b[49m\n\u001b[1;32m    306\u001b[0m \u001b[43m\u001b[49m\u001b[43m)\u001b[49m\u001b[43m(\u001b[49m\u001b[43mreduced_views\u001b[49m\u001b[43m)\u001b[49m\n",
      "    \u001b[0;31m[... skipping hidden 1 frame]\u001b[0m\n",
      "File \u001b[0;32m~/.cache/pypoetry/virtualenvs/micrlhf-progress-_SD4q1c9-py3.12/lib/python3.12/site-packages/jax/_src/api.py:1214\u001b[0m, in \u001b[0;36mvmap.<locals>.vmap_f\u001b[0;34m(*args, **kwargs)\u001b[0m\n\u001b[1;32m   1211\u001b[0m in_axes_flat \u001b[38;5;241m=\u001b[39m flatten_axes(\u001b[38;5;124m\"\u001b[39m\u001b[38;5;124mvmap in_axes\u001b[39m\u001b[38;5;124m\"\u001b[39m, in_tree, (in_axes, \u001b[38;5;241m0\u001b[39m), kws\u001b[38;5;241m=\u001b[39m\u001b[38;5;28;01mTrue\u001b[39;00m)\n\u001b[1;32m   1212\u001b[0m axis_size_ \u001b[38;5;241m=\u001b[39m (axis_size \u001b[38;5;28;01mif\u001b[39;00m axis_size \u001b[38;5;129;01mis\u001b[39;00m \u001b[38;5;129;01mnot\u001b[39;00m \u001b[38;5;28;01mNone\u001b[39;00m \u001b[38;5;28;01melse\u001b[39;00m\n\u001b[1;32m   1213\u001b[0m               _mapped_axis_size(fun, in_tree, args_flat, in_axes_flat, \u001b[38;5;124m\"\u001b[39m\u001b[38;5;124mvmap\u001b[39m\u001b[38;5;124m\"\u001b[39m))\n\u001b[0;32m-> 1214\u001b[0m out_flat \u001b[38;5;241m=\u001b[39m \u001b[43mbatching\u001b[49m\u001b[38;5;241;43m.\u001b[39;49m\u001b[43mbatch\u001b[49m\u001b[43m(\u001b[49m\n\u001b[1;32m   1215\u001b[0m \u001b[43m    \u001b[49m\u001b[43mflat_fun\u001b[49m\u001b[43m,\u001b[49m\u001b[43m \u001b[49m\u001b[43maxis_name\u001b[49m\u001b[43m,\u001b[49m\u001b[43m \u001b[49m\u001b[43maxis_size_\u001b[49m\u001b[43m,\u001b[49m\u001b[43m \u001b[49m\u001b[43min_axes_flat\u001b[49m\u001b[43m,\u001b[49m\n\u001b[1;32m   1216\u001b[0m \u001b[43m    \u001b[49m\u001b[38;5;28;43;01mlambda\u001b[39;49;00m\u001b[43m:\u001b[49m\u001b[43m \u001b[49m\u001b[43mflatten_axes\u001b[49m\u001b[43m(\u001b[49m\u001b[38;5;124;43m\"\u001b[39;49m\u001b[38;5;124;43mvmap out_axes\u001b[39;49m\u001b[38;5;124;43m\"\u001b[39;49m\u001b[43m,\u001b[49m\u001b[43m \u001b[49m\u001b[43mout_tree\u001b[49m\u001b[43m(\u001b[49m\u001b[43m)\u001b[49m\u001b[43m,\u001b[49m\u001b[43m \u001b[49m\u001b[43mout_axes\u001b[49m\u001b[43m)\u001b[49m\u001b[43m,\u001b[49m\n\u001b[1;32m   1217\u001b[0m \u001b[43m    \u001b[49m\u001b[43mspmd_axis_name\u001b[49m\u001b[38;5;241;43m=\u001b[39;49m\u001b[43mspmd_axis_name\u001b[49m\n\u001b[1;32m   1218\u001b[0m \u001b[43m\u001b[49m\u001b[43m)\u001b[49m\u001b[38;5;241;43m.\u001b[39;49m\u001b[43mcall_wrapped\u001b[49m\u001b[43m(\u001b[49m\u001b[38;5;241;43m*\u001b[39;49m\u001b[43margs_flat\u001b[49m\u001b[43m)\u001b[49m\n\u001b[1;32m   1219\u001b[0m \u001b[38;5;28;01mreturn\u001b[39;00m tree_unflatten(out_tree(), out_flat)\n",
      "File \u001b[0;32m~/.cache/pypoetry/virtualenvs/micrlhf-progress-_SD4q1c9-py3.12/lib/python3.12/site-packages/jax/_src/linear_util.py:192\u001b[0m, in \u001b[0;36mWrappedFun.call_wrapped\u001b[0;34m(self, *args, **kwargs)\u001b[0m\n\u001b[1;32m    189\u001b[0m gen \u001b[38;5;241m=\u001b[39m gen_static_args \u001b[38;5;241m=\u001b[39m out_store \u001b[38;5;241m=\u001b[39m \u001b[38;5;28;01mNone\u001b[39;00m\n\u001b[1;32m    191\u001b[0m \u001b[38;5;28;01mtry\u001b[39;00m:\n\u001b[0;32m--> 192\u001b[0m   ans \u001b[38;5;241m=\u001b[39m \u001b[38;5;28;43mself\u001b[39;49m\u001b[38;5;241;43m.\u001b[39;49m\u001b[43mf\u001b[49m\u001b[43m(\u001b[49m\u001b[38;5;241;43m*\u001b[39;49m\u001b[43margs\u001b[49m\u001b[43m,\u001b[49m\u001b[43m \u001b[49m\u001b[38;5;241;43m*\u001b[39;49m\u001b[38;5;241;43m*\u001b[39;49m\u001b[38;5;28;43mdict\u001b[39;49m\u001b[43m(\u001b[49m\u001b[38;5;28;43mself\u001b[39;49m\u001b[38;5;241;43m.\u001b[39;49m\u001b[43mparams\u001b[49m\u001b[43m,\u001b[49m\u001b[43m \u001b[49m\u001b[38;5;241;43m*\u001b[39;49m\u001b[38;5;241;43m*\u001b[39;49m\u001b[43mkwargs\u001b[49m\u001b[43m)\u001b[49m\u001b[43m)\u001b[49m\n\u001b[1;32m    193\u001b[0m \u001b[38;5;28;01mexcept\u001b[39;00m:\n\u001b[1;32m    194\u001b[0m   \u001b[38;5;66;03m# Some transformations yield from inside context managers, so we have to\u001b[39;00m\n\u001b[1;32m    195\u001b[0m   \u001b[38;5;66;03m# interrupt them before reraising the exception. Otherwise they will only\u001b[39;00m\n\u001b[1;32m    196\u001b[0m   \u001b[38;5;66;03m# get garbage-collected at some later time, running their cleanup tasks\u001b[39;00m\n\u001b[1;32m    197\u001b[0m   \u001b[38;5;66;03m# only after this exception is handled, which can corrupt the global\u001b[39;00m\n\u001b[1;32m    198\u001b[0m   \u001b[38;5;66;03m# state.\u001b[39;00m\n\u001b[1;32m    199\u001b[0m   \u001b[38;5;28;01mwhile\u001b[39;00m stack:\n",
      "File \u001b[0;32m~/.cache/pypoetry/virtualenvs/micrlhf-progress-_SD4q1c9-py3.12/lib/python3.12/site-packages/penzai/core/named_axes.py:298\u001b[0m, in \u001b[0;36m_nmap_with_doc.<locals>.wrapped_fun.<locals>.recursive_vectorize_step\u001b[0;34m(current_views, remaining_names)\u001b[0m\n\u001b[1;32m    295\u001b[0m     vmap_axes\u001b[38;5;241m.\u001b[39mappend(\u001b[38;5;28;01mNone\u001b[39;00m)\n\u001b[1;32m    296\u001b[0m     reduced_views\u001b[38;5;241m.\u001b[39mappend(view)\n\u001b[0;32m--> 298\u001b[0m \u001b[38;5;28;01mreturn\u001b[39;00m \u001b[43mjax\u001b[49m\u001b[38;5;241;43m.\u001b[39;49m\u001b[43mvmap\u001b[49m\u001b[43m(\u001b[49m\n\u001b[1;32m    299\u001b[0m \u001b[43m    \u001b[49m\u001b[43mfunctools\u001b[49m\u001b[38;5;241;43m.\u001b[39;49m\u001b[43mpartial\u001b[49m\u001b[43m(\u001b[49m\n\u001b[1;32m    300\u001b[0m \u001b[43m        \u001b[49m\u001b[43mrecursive_vectorize_step\u001b[49m\u001b[43m,\u001b[49m\n\u001b[1;32m    301\u001b[0m \u001b[43m        \u001b[49m\u001b[43mremaining_names\u001b[49m\u001b[38;5;241;43m=\u001b[39;49m\u001b[43mremaining_names\u001b[49m\u001b[43m[\u001b[49m\u001b[38;5;241;43m1\u001b[39;49m\u001b[43m:\u001b[49m\u001b[43m]\u001b[49m\u001b[43m,\u001b[49m\n\u001b[1;32m    302\u001b[0m \u001b[43m    \u001b[49m\u001b[43m)\u001b[49m\u001b[43m,\u001b[49m\n\u001b[1;32m    303\u001b[0m \u001b[43m    \u001b[49m\u001b[43min_axes\u001b[49m\u001b[38;5;241;43m=\u001b[39;49m\u001b[43m(\u001b[49m\u001b[43mvmap_axes\u001b[49m\u001b[43m,\u001b[49m\u001b[43m)\u001b[49m\u001b[43m,\u001b[49m\n\u001b[1;32m    304\u001b[0m \u001b[43m    \u001b[49m\u001b[43mout_axes\u001b[49m\u001b[38;5;241;43m=\u001b[39;49m\u001b[38;5;241;43m0\u001b[39;49m\u001b[43m,\u001b[49m\n\u001b[1;32m    305\u001b[0m \u001b[43m    \u001b[49m\u001b[43maxis_name\u001b[49m\u001b[38;5;241;43m=\u001b[39;49m\u001b[43mvmap_name\u001b[49m\u001b[43m,\u001b[49m\n\u001b[1;32m    306\u001b[0m \u001b[43m\u001b[49m\u001b[43m)\u001b[49m\u001b[43m(\u001b[49m\u001b[43mreduced_views\u001b[49m\u001b[43m)\u001b[49m\n",
      "    \u001b[0;31m[... skipping hidden 1 frame]\u001b[0m\n",
      "File \u001b[0;32m~/.cache/pypoetry/virtualenvs/micrlhf-progress-_SD4q1c9-py3.12/lib/python3.12/site-packages/jax/_src/api.py:1214\u001b[0m, in \u001b[0;36mvmap.<locals>.vmap_f\u001b[0;34m(*args, **kwargs)\u001b[0m\n\u001b[1;32m   1211\u001b[0m in_axes_flat \u001b[38;5;241m=\u001b[39m flatten_axes(\u001b[38;5;124m\"\u001b[39m\u001b[38;5;124mvmap in_axes\u001b[39m\u001b[38;5;124m\"\u001b[39m, in_tree, (in_axes, \u001b[38;5;241m0\u001b[39m), kws\u001b[38;5;241m=\u001b[39m\u001b[38;5;28;01mTrue\u001b[39;00m)\n\u001b[1;32m   1212\u001b[0m axis_size_ \u001b[38;5;241m=\u001b[39m (axis_size \u001b[38;5;28;01mif\u001b[39;00m axis_size \u001b[38;5;129;01mis\u001b[39;00m \u001b[38;5;129;01mnot\u001b[39;00m \u001b[38;5;28;01mNone\u001b[39;00m \u001b[38;5;28;01melse\u001b[39;00m\n\u001b[1;32m   1213\u001b[0m               _mapped_axis_size(fun, in_tree, args_flat, in_axes_flat, \u001b[38;5;124m\"\u001b[39m\u001b[38;5;124mvmap\u001b[39m\u001b[38;5;124m\"\u001b[39m))\n\u001b[0;32m-> 1214\u001b[0m out_flat \u001b[38;5;241m=\u001b[39m \u001b[43mbatching\u001b[49m\u001b[38;5;241;43m.\u001b[39;49m\u001b[43mbatch\u001b[49m\u001b[43m(\u001b[49m\n\u001b[1;32m   1215\u001b[0m \u001b[43m    \u001b[49m\u001b[43mflat_fun\u001b[49m\u001b[43m,\u001b[49m\u001b[43m \u001b[49m\u001b[43maxis_name\u001b[49m\u001b[43m,\u001b[49m\u001b[43m \u001b[49m\u001b[43maxis_size_\u001b[49m\u001b[43m,\u001b[49m\u001b[43m \u001b[49m\u001b[43min_axes_flat\u001b[49m\u001b[43m,\u001b[49m\n\u001b[1;32m   1216\u001b[0m \u001b[43m    \u001b[49m\u001b[38;5;28;43;01mlambda\u001b[39;49;00m\u001b[43m:\u001b[49m\u001b[43m \u001b[49m\u001b[43mflatten_axes\u001b[49m\u001b[43m(\u001b[49m\u001b[38;5;124;43m\"\u001b[39;49m\u001b[38;5;124;43mvmap out_axes\u001b[39;49m\u001b[38;5;124;43m\"\u001b[39;49m\u001b[43m,\u001b[49m\u001b[43m \u001b[49m\u001b[43mout_tree\u001b[49m\u001b[43m(\u001b[49m\u001b[43m)\u001b[49m\u001b[43m,\u001b[49m\u001b[43m \u001b[49m\u001b[43mout_axes\u001b[49m\u001b[43m)\u001b[49m\u001b[43m,\u001b[49m\n\u001b[1;32m   1217\u001b[0m \u001b[43m    \u001b[49m\u001b[43mspmd_axis_name\u001b[49m\u001b[38;5;241;43m=\u001b[39;49m\u001b[43mspmd_axis_name\u001b[49m\n\u001b[1;32m   1218\u001b[0m \u001b[43m\u001b[49m\u001b[43m)\u001b[49m\u001b[38;5;241;43m.\u001b[39;49m\u001b[43mcall_wrapped\u001b[49m\u001b[43m(\u001b[49m\u001b[38;5;241;43m*\u001b[39;49m\u001b[43margs_flat\u001b[49m\u001b[43m)\u001b[49m\n\u001b[1;32m   1219\u001b[0m \u001b[38;5;28;01mreturn\u001b[39;00m tree_unflatten(out_tree(), out_flat)\n",
      "File \u001b[0;32m~/.cache/pypoetry/virtualenvs/micrlhf-progress-_SD4q1c9-py3.12/lib/python3.12/site-packages/jax/_src/linear_util.py:207\u001b[0m, in \u001b[0;36mWrappedFun.call_wrapped\u001b[0;34m(self, *args, **kwargs)\u001b[0m\n\u001b[1;32m    205\u001b[0m gen, out_store \u001b[38;5;241m=\u001b[39m stack\u001b[38;5;241m.\u001b[39mpop()\n\u001b[1;32m    206\u001b[0m \u001b[38;5;28;01mtry\u001b[39;00m:\n\u001b[0;32m--> 207\u001b[0m   ans \u001b[38;5;241m=\u001b[39m \u001b[43mgen\u001b[49m\u001b[38;5;241;43m.\u001b[39;49m\u001b[43msend\u001b[49m\u001b[43m(\u001b[49m\u001b[43mans\u001b[49m\u001b[43m)\u001b[49m\n\u001b[1;32m    208\u001b[0m \u001b[38;5;28;01mexcept\u001b[39;00m:\n\u001b[1;32m    209\u001b[0m   \u001b[38;5;66;03m# As above does for the first half of the transformation, exceptions\u001b[39;00m\n\u001b[1;32m    210\u001b[0m   \u001b[38;5;66;03m# raised in the second half of the transformation also require us to\u001b[39;00m\n\u001b[1;32m    211\u001b[0m   \u001b[38;5;66;03m# clean up references here.\u001b[39;00m\n\u001b[1;32m    212\u001b[0m   \u001b[38;5;28;01mwhile\u001b[39;00m stack:\n",
      "File \u001b[0;32m~/.cache/pypoetry/virtualenvs/micrlhf-progress-_SD4q1c9-py3.12/lib/python3.12/site-packages/jax/_src/interpreters/batching.py:638\u001b[0m, in \u001b[0;36m_batch_inner\u001b[0;34m(axis_size, out_dim_dests, main, in_dims, *in_vals)\u001b[0m\n\u001b[1;32m    636\u001b[0m outs \u001b[38;5;241m=\u001b[39m \u001b[38;5;28;01myield\u001b[39;00m in_tracers, {}\n\u001b[1;32m    637\u001b[0m out_dim_dests \u001b[38;5;241m=\u001b[39m out_dim_dests() \u001b[38;5;28;01mif\u001b[39;00m \u001b[38;5;28mcallable\u001b[39m(out_dim_dests) \u001b[38;5;28;01melse\u001b[39;00m out_dim_dests\n\u001b[0;32m--> 638\u001b[0m out_vals \u001b[38;5;241m=\u001b[39m \u001b[38;5;28;43mmap\u001b[39;49m\u001b[43m(\u001b[49m\u001b[43mpartial\u001b[49m\u001b[43m(\u001b[49m\u001b[43mfrom_elt\u001b[49m\u001b[43m,\u001b[49m\u001b[43m \u001b[49m\u001b[43mtrace\u001b[49m\u001b[43m,\u001b[49m\u001b[43m \u001b[49m\u001b[43maxis_size\u001b[49m\u001b[43m)\u001b[49m\u001b[43m,\u001b[49m\u001b[43m \u001b[49m\u001b[43mouts\u001b[49m\u001b[43m,\u001b[49m\u001b[43m \u001b[49m\u001b[43mout_dim_dests\u001b[49m\u001b[43m)\u001b[49m\n\u001b[1;32m    639\u001b[0m \u001b[38;5;28;01myield\u001b[39;00m out_vals\n",
      "File \u001b[0;32m~/.cache/pypoetry/virtualenvs/micrlhf-progress-_SD4q1c9-py3.12/lib/python3.12/site-packages/jax/_src/interpreters/batching.py:270\u001b[0m, in \u001b[0;36mfrom_elt\u001b[0;34m(trace, axis_size, x, spec)\u001b[0m\n\u001b[1;32m    268\u001b[0m   \u001b[38;5;28;01mreturn\u001b[39;00m _jumble_result(axis_size, bdim\u001b[38;5;241m.\u001b[39mstacked_axis, bdim\u001b[38;5;241m.\u001b[39mragged_axes, val)\n\u001b[1;32m    269\u001b[0m \u001b[38;5;28;01melse\u001b[39;00m:\n\u001b[0;32m--> 270\u001b[0m   \u001b[38;5;28;01mreturn\u001b[39;00m \u001b[43mmatchaxis\u001b[49m\u001b[43m(\u001b[49m\u001b[43mtrace\u001b[49m\u001b[38;5;241;43m.\u001b[39;49m\u001b[43maxis_name\u001b[49m\u001b[43m,\u001b[49m\u001b[43m \u001b[49m\u001b[43maxis_size\u001b[49m\u001b[43m,\u001b[49m\u001b[43m \u001b[49m\u001b[43mx_\u001b[49m\u001b[38;5;241;43m.\u001b[39;49m\u001b[43mbatch_dim\u001b[49m\u001b[43m,\u001b[49m\u001b[43m \u001b[49m\u001b[43mspec\u001b[49m\u001b[43m,\u001b[49m\u001b[43m \u001b[49m\u001b[43mx_\u001b[49m\u001b[38;5;241;43m.\u001b[39;49m\u001b[43mval\u001b[49m\u001b[43m)\u001b[49m\n",
      "File \u001b[0;32m~/.cache/pypoetry/virtualenvs/micrlhf-progress-_SD4q1c9-py3.12/lib/python3.12/site-packages/jax/_src/interpreters/batching.py:1105\u001b[0m, in \u001b[0;36mmatchaxis\u001b[0;34m(axis_name, sz, src, dst, x, sum_match)\u001b[0m\n\u001b[1;32m   1103\u001b[0m   \u001b[38;5;28;01mreturn\u001b[39;00m Jumble(aval, x)\n\u001b[1;32m   1104\u001b[0m \u001b[38;5;28;01mtry\u001b[39;00m:\n\u001b[0;32m-> 1105\u001b[0m   _ \u001b[38;5;241m=\u001b[39m \u001b[43mcore\u001b[49m\u001b[38;5;241;43m.\u001b[39;49m\u001b[43mget_aval\u001b[49m\u001b[43m(\u001b[49m\u001b[43mx\u001b[49m\u001b[43m)\u001b[49m\n\u001b[1;32m   1106\u001b[0m \u001b[38;5;28;01mexcept\u001b[39;00m \u001b[38;5;167;01mTypeError\u001b[39;00m \u001b[38;5;28;01mas\u001b[39;00m e:\n\u001b[1;32m   1107\u001b[0m   \u001b[38;5;28;01mraise\u001b[39;00m \u001b[38;5;167;01mTypeError\u001b[39;00m(\u001b[38;5;124mf\u001b[39m\u001b[38;5;124m\"\u001b[39m\u001b[38;5;124mOutput from batched function \u001b[39m\u001b[38;5;132;01m{\u001b[39;00mx\u001b[38;5;132;01m!r}\u001b[39;00m\u001b[38;5;124m with type \u001b[39m\u001b[38;5;124m\"\u001b[39m\n\u001b[1;32m   1108\u001b[0m                   \u001b[38;5;124mf\u001b[39m\u001b[38;5;124m\"\u001b[39m\u001b[38;5;132;01m{\u001b[39;00m\u001b[38;5;28mtype\u001b[39m(x)\u001b[38;5;132;01m}\u001b[39;00m\u001b[38;5;124m is not a valid JAX type\u001b[39m\u001b[38;5;124m\"\u001b[39m) \u001b[38;5;28;01mfrom\u001b[39;00m \u001b[38;5;21;01me\u001b[39;00m\n",
      "File \u001b[0;32m~/.cache/pypoetry/virtualenvs/micrlhf-progress-_SD4q1c9-py3.12/lib/python3.12/site-packages/jax/_src/core.py:1461\u001b[0m, in \u001b[0;36mget_aval\u001b[0;34m(x)\u001b[0m\n\u001b[1;32m   1459\u001b[0m \u001b[38;5;28;01mdef\u001b[39;00m \u001b[38;5;21mget_aval\u001b[39m(x):\n\u001b[1;32m   1460\u001b[0m   \u001b[38;5;28;01mif\u001b[39;00m \u001b[38;5;28misinstance\u001b[39m(x, Tracer):\n\u001b[0;32m-> 1461\u001b[0m     \u001b[38;5;28;01mreturn\u001b[39;00m \u001b[43mx\u001b[49m\u001b[38;5;241;43m.\u001b[39;49m\u001b[43maval\u001b[49m\n\u001b[1;32m   1462\u001b[0m   \u001b[38;5;28;01melse\u001b[39;00m:\n\u001b[1;32m   1463\u001b[0m     \u001b[38;5;28;01mreturn\u001b[39;00m concrete_aval(x)\n",
      "File \u001b[0;32m~/.cache/pypoetry/virtualenvs/micrlhf-progress-_SD4q1c9-py3.12/lib/python3.12/site-packages/jax/_src/interpreters/batching.py:333\u001b[0m, in \u001b[0;36mBatchTracer.aval\u001b[0;34m(self)\u001b[0m\n\u001b[1;32m    331\u001b[0m \u001b[38;5;129m@property\u001b[39m\n\u001b[1;32m    332\u001b[0m \u001b[38;5;28;01mdef\u001b[39;00m \u001b[38;5;21maval\u001b[39m(\u001b[38;5;28mself\u001b[39m):\n\u001b[0;32m--> 333\u001b[0m   aval \u001b[38;5;241m=\u001b[39m raise_to_shaped(\u001b[43mcore\u001b[49m\u001b[38;5;241;43m.\u001b[39;49m\u001b[43mget_aval\u001b[49m\u001b[43m(\u001b[49m\u001b[38;5;28;43mself\u001b[39;49m\u001b[38;5;241;43m.\u001b[39;49m\u001b[43mval\u001b[49m\u001b[43m)\u001b[49m)\n\u001b[1;32m    334\u001b[0m   \u001b[38;5;28;01mif\u001b[39;00m \u001b[38;5;28mself\u001b[39m\u001b[38;5;241m.\u001b[39mbatch_dim \u001b[38;5;129;01mis\u001b[39;00m not_mapped:\n\u001b[1;32m    335\u001b[0m     \u001b[38;5;28;01mreturn\u001b[39;00m aval\n",
      "File \u001b[0;32m~/.cache/pypoetry/virtualenvs/micrlhf-progress-_SD4q1c9-py3.12/lib/python3.12/site-packages/jax/_src/core.py:1461\u001b[0m, in \u001b[0;36mget_aval\u001b[0;34m(x)\u001b[0m\n\u001b[1;32m   1459\u001b[0m \u001b[38;5;28;01mdef\u001b[39;00m \u001b[38;5;21mget_aval\u001b[39m(x):\n\u001b[1;32m   1460\u001b[0m   \u001b[38;5;28;01mif\u001b[39;00m \u001b[38;5;28misinstance\u001b[39m(x, Tracer):\n\u001b[0;32m-> 1461\u001b[0m     \u001b[38;5;28;01mreturn\u001b[39;00m \u001b[43mx\u001b[49m\u001b[38;5;241;43m.\u001b[39;49m\u001b[43maval\u001b[49m\n\u001b[1;32m   1462\u001b[0m   \u001b[38;5;28;01melse\u001b[39;00m:\n\u001b[1;32m   1463\u001b[0m     \u001b[38;5;28;01mreturn\u001b[39;00m concrete_aval(x)\n",
      "File \u001b[0;32m~/.cache/pypoetry/virtualenvs/micrlhf-progress-_SD4q1c9-py3.12/lib/python3.12/site-packages/jax/_src/interpreters/batching.py:333\u001b[0m, in \u001b[0;36mBatchTracer.aval\u001b[0;34m(self)\u001b[0m\n\u001b[1;32m    331\u001b[0m \u001b[38;5;129m@property\u001b[39m\n\u001b[1;32m    332\u001b[0m \u001b[38;5;28;01mdef\u001b[39;00m \u001b[38;5;21maval\u001b[39m(\u001b[38;5;28mself\u001b[39m):\n\u001b[0;32m--> 333\u001b[0m   aval \u001b[38;5;241m=\u001b[39m raise_to_shaped(\u001b[43mcore\u001b[49m\u001b[38;5;241;43m.\u001b[39;49m\u001b[43mget_aval\u001b[49m\u001b[43m(\u001b[49m\u001b[38;5;28;43mself\u001b[39;49m\u001b[38;5;241;43m.\u001b[39;49m\u001b[43mval\u001b[49m\u001b[43m)\u001b[49m)\n\u001b[1;32m    334\u001b[0m   \u001b[38;5;28;01mif\u001b[39;00m \u001b[38;5;28mself\u001b[39m\u001b[38;5;241m.\u001b[39mbatch_dim \u001b[38;5;129;01mis\u001b[39;00m not_mapped:\n\u001b[1;32m    335\u001b[0m     \u001b[38;5;28;01mreturn\u001b[39;00m aval\n",
      "File \u001b[0;32m~/.cache/pypoetry/virtualenvs/micrlhf-progress-_SD4q1c9-py3.12/lib/python3.12/site-packages/jax/_src/core.py:1463\u001b[0m, in \u001b[0;36mget_aval\u001b[0;34m(x)\u001b[0m\n\u001b[1;32m   1461\u001b[0m   \u001b[38;5;28;01mreturn\u001b[39;00m x\u001b[38;5;241m.\u001b[39maval\n\u001b[1;32m   1462\u001b[0m \u001b[38;5;28;01melse\u001b[39;00m:\n\u001b[0;32m-> 1463\u001b[0m   \u001b[38;5;28;01mreturn\u001b[39;00m \u001b[43mconcrete_aval\u001b[49m\u001b[43m(\u001b[49m\u001b[43mx\u001b[49m\u001b[43m)\u001b[49m\n",
      "File \u001b[0;32m~/.cache/pypoetry/virtualenvs/micrlhf-progress-_SD4q1c9-py3.12/lib/python3.12/site-packages/jax/_src/core.py:1452\u001b[0m, in \u001b[0;36mconcrete_aval\u001b[0;34m(x)\u001b[0m\n\u001b[1;32m   1450\u001b[0m \u001b[38;5;28;01mfor\u001b[39;00m typ \u001b[38;5;129;01min\u001b[39;00m \u001b[38;5;28mtype\u001b[39m(x)\u001b[38;5;241m.\u001b[39m\u001b[38;5;18m__mro__\u001b[39m:\n\u001b[1;32m   1451\u001b[0m   handler \u001b[38;5;241m=\u001b[39m pytype_aval_mappings\u001b[38;5;241m.\u001b[39mget(typ)\n\u001b[0;32m-> 1452\u001b[0m   \u001b[38;5;28;01mif\u001b[39;00m handler: \u001b[38;5;28;01mreturn\u001b[39;00m \u001b[43mhandler\u001b[49m\u001b[43m(\u001b[49m\u001b[43mx\u001b[49m\u001b[43m)\u001b[49m\n\u001b[1;32m   1453\u001b[0m \u001b[38;5;28;01mif\u001b[39;00m \u001b[38;5;28mhasattr\u001b[39m(x, \u001b[38;5;124m'\u001b[39m\u001b[38;5;124m__jax_array__\u001b[39m\u001b[38;5;124m'\u001b[39m):\n\u001b[1;32m   1454\u001b[0m   \u001b[38;5;28;01mreturn\u001b[39;00m concrete_aval(x\u001b[38;5;241m.\u001b[39m__jax_array__())\n",
      "File \u001b[0;32m~/.cache/pypoetry/virtualenvs/micrlhf-progress-_SD4q1c9-py3.12/lib/python3.12/site-packages/jax/_src/abstract_arrays.py:46\u001b[0m, in \u001b[0;36mcanonical_concrete_aval\u001b[0;34m(val, weak_type)\u001b[0m\n\u001b[1;32m     45\u001b[0m \u001b[38;5;28;01mdef\u001b[39;00m \u001b[38;5;21mcanonical_concrete_aval\u001b[39m(val, weak_type\u001b[38;5;241m=\u001b[39m\u001b[38;5;28;01mNone\u001b[39;00m):\n\u001b[0;32m---> 46\u001b[0m   \u001b[38;5;28;01mreturn\u001b[39;00m \u001b[43mConcreteArray\u001b[49m\u001b[43m(\u001b[49m\u001b[43mdtypes\u001b[49m\u001b[38;5;241;43m.\u001b[39;49m\u001b[43mcanonicalize_dtype\u001b[49m\u001b[43m(\u001b[49m\u001b[43mnp\u001b[49m\u001b[38;5;241;43m.\u001b[39;49m\u001b[43mresult_type\u001b[49m\u001b[43m(\u001b[49m\u001b[43mval\u001b[49m\u001b[43m)\u001b[49m\u001b[43m)\u001b[49m\u001b[43m,\u001b[49m\u001b[43m \u001b[49m\u001b[43mval\u001b[49m\u001b[43m,\u001b[49m\n\u001b[1;32m     47\u001b[0m \u001b[43m                       \u001b[49m\u001b[43mweak_type\u001b[49m\u001b[38;5;241;43m=\u001b[39;49m\u001b[43mweak_type\u001b[49m\u001b[43m)\u001b[49m\n",
      "File \u001b[0;32m~/.cache/pypoetry/virtualenvs/micrlhf-progress-_SD4q1c9-py3.12/lib/python3.12/site-packages/jax/_src/core.py:1766\u001b[0m, in \u001b[0;36mConcreteArray.__init__\u001b[0;34m(self, dtype, val, weak_type)\u001b[0m\n\u001b[1;32m   1765\u001b[0m \u001b[38;5;28;01mdef\u001b[39;00m \u001b[38;5;21m__init__\u001b[39m(\u001b[38;5;28mself\u001b[39m, dtype, val, weak_type\u001b[38;5;241m=\u001b[39m\u001b[38;5;28;01mNone\u001b[39;00m):\n\u001b[0;32m-> 1766\u001b[0m   \u001b[38;5;28;43msuper\u001b[39;49m\u001b[43m(\u001b[49m\u001b[43m)\u001b[49m\u001b[38;5;241;43m.\u001b[39;49m\u001b[38;5;21;43m__init__\u001b[39;49m\u001b[43m(\u001b[49m\n\u001b[1;32m   1767\u001b[0m \u001b[43m      \u001b[49m\u001b[43mnp\u001b[49m\u001b[38;5;241;43m.\u001b[39;49m\u001b[43mshape\u001b[49m\u001b[43m(\u001b[49m\u001b[43mval\u001b[49m\u001b[43m)\u001b[49m\u001b[43m,\u001b[49m\u001b[43m \u001b[49m\u001b[43mdtype\u001b[49m\u001b[43m,\u001b[49m\n\u001b[1;32m   1768\u001b[0m \u001b[43m      \u001b[49m\u001b[43mweak_type\u001b[49m\u001b[38;5;241;43m=\u001b[39;49m\u001b[43mdtypes\u001b[49m\u001b[38;5;241;43m.\u001b[39;49m\u001b[43mis_weakly_typed\u001b[49m\u001b[43m(\u001b[49m\u001b[43mval\u001b[49m\u001b[43m)\u001b[49m\u001b[43m \u001b[49m\u001b[38;5;28;43;01mif\u001b[39;49;00m\u001b[43m \u001b[49m\u001b[43mweak_type\u001b[49m\u001b[43m \u001b[49m\u001b[38;5;129;43;01mis\u001b[39;49;00m\u001b[43m \u001b[49m\u001b[38;5;28;43;01mNone\u001b[39;49;00m\u001b[43m \u001b[49m\u001b[38;5;28;43;01melse\u001b[39;49;00m\u001b[43m \u001b[49m\u001b[43mweak_type\u001b[49m\u001b[43m)\u001b[49m\n\u001b[1;32m   1769\u001b[0m   dtypes\u001b[38;5;241m.\u001b[39mcheck_valid_dtype(\u001b[38;5;28mself\u001b[39m\u001b[38;5;241m.\u001b[39mdtype)\n\u001b[1;32m   1770\u001b[0m   \u001b[38;5;66;03m# Note: canonicalized self.dtype doesn't necessarily match self.val\u001b[39;00m\n",
      "File \u001b[0;32m~/.cache/pypoetry/virtualenvs/micrlhf-progress-_SD4q1c9-py3.12/lib/python3.12/site-packages/jax/_src/core.py:1686\u001b[0m, in \u001b[0;36mShapedArray.__init__\u001b[0;34m(self, shape, dtype, weak_type, named_shape)\u001b[0m\n\u001b[1;32m   1684\u001b[0m \u001b[38;5;28;01mdef\u001b[39;00m \u001b[38;5;21m__init__\u001b[39m(\u001b[38;5;28mself\u001b[39m, shape, dtype, weak_type\u001b[38;5;241m=\u001b[39m\u001b[38;5;28;01mFalse\u001b[39;00m, named_shape\u001b[38;5;241m=\u001b[39m\u001b[38;5;28;01mNone\u001b[39;00m):\n\u001b[1;32m   1685\u001b[0m   \u001b[38;5;28mself\u001b[39m\u001b[38;5;241m.\u001b[39mshape \u001b[38;5;241m=\u001b[39m canonicalize_shape(shape)\n\u001b[0;32m-> 1686\u001b[0m   \u001b[38;5;28mself\u001b[39m\u001b[38;5;241m.\u001b[39mdtype \u001b[38;5;241m=\u001b[39m \u001b[43m_dtype_object\u001b[49m\u001b[43m(\u001b[49m\u001b[43mdtype\u001b[49m\u001b[43m)\u001b[49m\n\u001b[1;32m   1687\u001b[0m   \u001b[38;5;28mself\u001b[39m\u001b[38;5;241m.\u001b[39mweak_type \u001b[38;5;241m=\u001b[39m weak_type\n\u001b[1;32m   1688\u001b[0m   \u001b[38;5;28mself\u001b[39m\u001b[38;5;241m.\u001b[39mnamed_shape \u001b[38;5;241m=\u001b[39m {} \u001b[38;5;28;01mif\u001b[39;00m named_shape \u001b[38;5;129;01mis\u001b[39;00m \u001b[38;5;28;01mNone\u001b[39;00m \u001b[38;5;28;01melse\u001b[39;00m \u001b[38;5;28mdict\u001b[39m(named_shape)\n",
      "File \u001b[0;32m~/.cache/pypoetry/virtualenvs/micrlhf-progress-_SD4q1c9-py3.12/lib/python3.12/site-packages/jax/_src/core.py:1546\u001b[0m, in \u001b[0;36m_dtype_object\u001b[0;34m(dtype)\u001b[0m\n\u001b[1;32m   1545\u001b[0m \u001b[38;5;28;01mdef\u001b[39;00m \u001b[38;5;21m_dtype_object\u001b[39m(dtype):\n\u001b[0;32m-> 1546\u001b[0m   \u001b[38;5;28;01mreturn\u001b[39;00m dtype \u001b[38;5;28;01mif\u001b[39;00m \u001b[38;5;28misinstance\u001b[39m(dtype, dtypes\u001b[38;5;241m.\u001b[39mExtendedDType) \u001b[38;5;28;01melse\u001b[39;00m \u001b[43mnp\u001b[49m\u001b[38;5;241;43m.\u001b[39;49m\u001b[43mdtype\u001b[49m\u001b[43m(\u001b[49m\u001b[43mdtype\u001b[49m\u001b[43m)\u001b[49m\n",
      "\u001b[0;31mKeyboardInterrupt\u001b[0m: "
     ]
    }
   ],
   "source": [
    "for feature in i:\n",
    "    print(\n",
    "        f\"Feature {feature}: {check_feature(feature)}\"\n",
    "    )\n",
    "\n",
    "# get_logprob_diff(logits.unwrap(\"batch\", \"seq\", \"vocabulary\"), target_tokens, print_results=True)"
   ]
  },
  {
   "cell_type": "code",
   "execution_count": null,
   "metadata": {},
   "outputs": [
    {
     "name": "stdout",
     "output_type": "stream",
     "text": [
      "message reduce behavior place se hello cel media club live line throw sport es door shape daughter run pu\n",
      " bottom mind mat polit year moment cut hour has sit comment drop un government d wait phone anticip south arm sport material place picture shape papel no en < choice viel fine arrived ii f third pu hang u er must just hello fig\n",
      "mess rid comport lu sic infer cell media club abit punto get sport così porta col fig corr bel reg super m question polit dec momento tag ora aver sed comment g gi governo pap asp tele asp sud es sport mater lu f col cart no met rela sc pi bene arriv io cin ter bel append fu dire do app infer figura\n"
     ]
    },
    {
     "data": {
      "text/html": [
       "<div id=\"output_e7803525148242829a6c0d14503788af\"><script> /* penzai.treescope rendering of a Python object (compressed) */ (()=>{ let observer; let lastStep = new Promise((resolve, reject) => { observer = new IntersectionObserver((entries) => { for (const entry of entries) { if (entry.isIntersecting) { resolve(); observer.disconnect(); return; } } }, {rootMargin: \"1000px\"}); }); window.treescope_decompress_enqueue = (encoded, destId) => { const previous = lastStep; const destElt = document.getElementById(destId); lastStep = (async () => { await previous; let blob = new Blob([ Uint8Array.from(atob(encoded), (m) => m.codePointAt(0)) ]); let reader = blob.stream().pipeThrough( new DecompressionStream(\"deflate\") ).pipeThrough( new TextDecoderStream(\"utf-8\") ).getReader(); let parts = []; while (true) { let step = await reader.read(); if (step.done) { break; } parts.push(step.value); } let newElt = document.createElement(\"div\"); newElt.innerHTML = parts.join(\"\"); destElt.parentNode.replaceChild(newElt, destElt); for (let oldScript of newElt.querySelectorAll(\"script\")) { let newScript = document.createElement(\"script\"); newScript.type = oldScript.type; newScript.textContent = oldScript.textContent; oldScript.parentNode.replaceChild(newScript, oldScript); } })(); requestAnimationFrame(() => { observer.observe(destElt); }); } })(); </script><div id=\"compress_html_84432b68a38446f880b55f7599bbab72\"><script>window.treescope_decompress_enqueue(\"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\", \"compress_html_84432b68a38446f880b55f7599bbab72\");</script><span style=\"color: #aaaaaa; font-family: monospace\">(Loading...)</span></div></div>"
      ],
      "text/plain": [
       "<IPython.core.display.HTML object>"
      ]
     },
     "metadata": {},
     "output_type": "display_data"
    },
    {
     "data": {
      "text/html": [
       "<div id=\"compress_html_db3150ee31ef4a31a8395584ee9a5b47\"><script>window.treescope_decompress_enqueue(\"eNrtWFtv2zYU/iuEgjVSG6tW4rtjA1u6AX3pwzBgD0UhUCJlcaFJjaJzadH/vkNSlizbcdwsTTFgCWBb4rmfj+cc8pKwG1Tqe05nHmFlwfH9BAkpqIcYmXmZVDGhGVWKkjiKMnKRDfv94Zj2hgOSDAf9QdTv4mGWZv3uyJtflgUW8GnkzcNEai2XnAk6EVL7YSY5wQmnsZCETnJc+nOOE8rn7ZVYy8WCO55JmtP0mpIgQK8D9AUVmBAmFh0tiwnqhlGfLqfIaOjklC1yPUFRaN99DVPJwXicJIreAKd9nKCTwegcd7sNQSqXSyp0fJtTEdM7sJ9Q8mz2rrVi+9doFatlQtUGQXc8ivqDhqDUCvzclHAR9aN+TQDpMG43BAnH6fUUJfC5UHIlSKdauMHK73QSLtNr9yoAKqkIVS6KUXGHSskZOUTpUvkY8VcU5vcFVWDZdazoUmoa5/IGHN02etdMec3T3B/1fjJp7fVR1B07ibe4jMtUSc6BXcswY6rUsWbp9dFSx70wMnK7YxRdDMLhXsE2fwfVBTsKtcKiZJpJMdlRjqISUVzSDhMdudJnKJNCd24tTLfWTFbzNI9h96Q05jTTG1A3jwbr/TRv0ykrqSFUbgPUlAyQLDQYm+aMPx+k6yphcz9FS6wW4IYzM8U89c/THHUMVFyc23YoKr6bKRVYnSkEIEuJRewJ7Zp/E5S/V5gLvKRxoWjG7kCITUvJPlMTupGrHaXGRk9tcZ13pwHNUZvkxYPbDXtp7sL7iK0vE2xXE6xVeytDq25bPwCmPEevkR+BO5ssldwSqGgQBHUMGtbO8bxrvev6ZTlrkeu3ner1C0azqcA2gh2FCVuVlYMRXYJ3DztmLf13RjwK8S+tJuHya/bSEU3iMPHXECR+l6GgSfKhucA2elunocUWm8A2Y48NrVaUlqksoMZKqcOaOF6CJeiABCaMTtddDBFY+yjhMcoelFOZfPnWjVx2/kIpx2U589pmVsPZetZrZQXGC5KMen083Yc3COjUa4tupQaxMnZdUgrbGIHYpfCSiWKlkYaZYObZpCXyztsrpMovsL61TG19zVShYedS7SGCNe5c0/sC63zmbZnX6tIV2lC7wXrHxKpa3OoZ3ryg4jNmTeZg7xRgSQnjToY5N5NACCmxs7D7+iD172vphXHab69fvq0itqH31EhNVoBpcYqkuOIwg8xOG6U5jKoQPUMVp2bR1zkrg1MXG/N65vkcLxOCkYHWxH4GXgOBmnCCTvdQnk5RRYMFIBC7Oef0ChiQiTv8rkf+tjeb0dsuNKhdaLwD1DukEmYcJjCH4bJQs2+CSNji3QeYaub25q9O7s6H05+Vwvd+px+OL4b9M0QsipOMS6yjQeBo2m6f7UIKBHNclJR4c7QvOK1Th/cC6W+H4XgwbPE9HRpHAuXh1MOx9ImJZ2Rv2t1ZzJuPe73BoHs+GozG0aj3X04tI09JLHD9wLTa7fXExBreQx3q+RvSgbsD7yAMTvZiZafD/IXv1h3E1qEDbeIQ0Lyds9fBdW/+fAnYvH6Bksr11C4gVziNf9Yx9/hqoacHIPQDt5Lx7CmbyfI913Y6dqttxens/1geFbbWuNhcWqKtqxZvHnxbJlpT+6Pbo94SD88cu7tk/UXYDchPQY+e+36AZnP0JZWihFpnt+57UqIZ+ugdf5f7aer4TSqA9RYqhbzdGHlBaNw+uviIyHRlCqJZ/JVT8/OX+/fEr2342P1kTq9OcqbwwpCA9JoxVRRr+q56/K2i8Gseo+eKw6EHmNb8IS5gICdXpoL5FjmpofgARdzXamXPy5lUyOdUIwaM3Sl8XTaRCTkVCw3nf/bmjTlPGjq3uKnlQZ/YJ1BgeEq5Uil9x242PdpiszfqHnqDtvjdYwjDFQfA/cl07tfi3B1kJcW6CQzNqrlovaG+vRVwR8gNIXXAzHJgiAAzDidrvOykloq/V3RF31VY+YMuQZ6mpR/UvP8ApyyQvw==\", \"compress_html_db3150ee31ef4a31a8395584ee9a5b47\");</script></div>"
      ],
      "text/plain": [
       "<IPython.core.display.HTML object>"
      ]
     },
     "metadata": {},
     "output_type": "display_data"
    },
    {
     "data": {
      "text/html": [
       "<div id=\"output_dest_e7803525148242829a6c0d14503788af\"><script> (()=>{ const output = document.getElementById(\"output_e7803525148242829a6c0d14503788af\"); const dest = document.getElementById(\"output_dest_e7803525148242829a6c0d14503788af\"); dest.parentNode.replaceChild(output, dest); })(); </script></div>"
      ],
      "text/plain": [
       "<jax.Array(-5.9375, dtype=bfloat16)>"
      ]
     },
     "execution_count": 27,
     "metadata": {},
     "output_type": "execute_result"
    }
   ],
   "source": [
    "check_feature(764, True)"
   ]
  },
  {
   "cell_type": "code",
   "execution_count": 16,
   "metadata": {},
   "outputs": [],
   "source": []
  },
  {
   "cell_type": "code",
   "execution_count": 17,
   "metadata": {},
   "outputs": [
    {
     "name": "stderr",
     "output_type": "stream",
     "text": [
      "--2024-05-23 13:29:53--  https://huggingface.co/nev/phi-3-4k-saex-test/resolve/main/l18-test-run-6-1.01E-05/sae_weights.safetensors?download=true\n",
      "Resolving huggingface.co (huggingface.co)... 108.156.211.51, 108.156.211.95, 108.156.211.90, ...\n",
      "Connecting to huggingface.co (huggingface.co)|108.156.211.51|:443... connected.\n",
      "HTTP request sent, awaiting response... 302 Found\n",
      "Location: https://cdn-lfs-us-1.huggingface.co/repos/eb/d8/ebd889d6ac58573e8e8a7aa1176d4d357581a6da60135b94aca378fddf4e9e54/f057cb46f3d871ba03c66e707e3b3d8299322f36fa433862dc3fdca956715614?response-content-disposition=attachment%3B+filename*%3DUTF-8%27%27sae_weights.safetensors%3B+filename%3D%22sae_weights.safetensors%22%3B&Expires=1716730193&Policy=eyJTdGF0ZW1lbnQiOlt7IkNvbmRpdGlvbiI6eyJEYXRlTGVzc1RoYW4iOnsiQVdTOkVwb2NoVGltZSI6MTcxNjczMDE5M319LCJSZXNvdXJjZSI6Imh0dHBzOi8vY2RuLWxmcy11cy0xLmh1Z2dpbmdmYWNlLmNvL3JlcG9zL2ViL2Q4L2ViZDg4OWQ2YWM1ODU3M2U4ZThhN2FhMTE3NmQ0ZDM1NzU4MWE2ZGE2MDEzNWI5NGFjYTM3OGZkZGY0ZTllNTQvZjA1N2NiNDZmM2Q4NzFiYTAzYzY2ZTcwN2UzYjNkODI5OTMyMmYzNmZhNDMzODYyZGMzZmRjYTk1NjcxNTYxND9yZXNwb25zZS1jb250ZW50LWRpc3Bvc2l0aW9uPSoifV19&Signature=lgsWclVGliGdqDtKr2aHyujABd4nUwhPvHS%7E0naU4HnsAeoAy-ZxpybiwPG7PdRNrs9BjSaQkMjL1US0zCQKmAtPYvDxCw4LgP3PP2US7W-9yvbBO4Z2ZR-zfn261NGESYlAe8fY1%7EuJAihYGeNVNmmulf4lQfduVLpY1LTsu78G9U0xbWXpqhZ1IFLfe0d-TrZlVR0giWW3iIM9qwQ2qMu29lOI636B%7ELeBDN6BXZwfQkpsO9D71uRPTd6ErLF2ZVHpmr-y3jXq2B93f-o5ilUBvwsXfOVnrS1EcCkXHanb6iUi8EWzkDfzbEgM5QT7320J0N7x-5ZPDtTB8dQLBg__&Key-Pair-Id=KCD77M1F0VK2B [following]\n",
      "--2024-05-23 13:29:53--  https://cdn-lfs-us-1.huggingface.co/repos/eb/d8/ebd889d6ac58573e8e8a7aa1176d4d357581a6da60135b94aca378fddf4e9e54/f057cb46f3d871ba03c66e707e3b3d8299322f36fa433862dc3fdca956715614?response-content-disposition=attachment%3B+filename*%3DUTF-8%27%27sae_weights.safetensors%3B+filename%3D%22sae_weights.safetensors%22%3B&Expires=1716730193&Policy=eyJTdGF0ZW1lbnQiOlt7IkNvbmRpdGlvbiI6eyJEYXRlTGVzc1RoYW4iOnsiQVdTOkVwb2NoVGltZSI6MTcxNjczMDE5M319LCJSZXNvdXJjZSI6Imh0dHBzOi8vY2RuLWxmcy11cy0xLmh1Z2dpbmdmYWNlLmNvL3JlcG9zL2ViL2Q4L2ViZDg4OWQ2YWM1ODU3M2U4ZThhN2FhMTE3NmQ0ZDM1NzU4MWE2ZGE2MDEzNWI5NGFjYTM3OGZkZGY0ZTllNTQvZjA1N2NiNDZmM2Q4NzFiYTAzYzY2ZTcwN2UzYjNkODI5OTMyMmYzNmZhNDMzODYyZGMzZmRjYTk1NjcxNTYxND9yZXNwb25zZS1jb250ZW50LWRpc3Bvc2l0aW9uPSoifV19&Signature=lgsWclVGliGdqDtKr2aHyujABd4nUwhPvHS%7E0naU4HnsAeoAy-ZxpybiwPG7PdRNrs9BjSaQkMjL1US0zCQKmAtPYvDxCw4LgP3PP2US7W-9yvbBO4Z2ZR-zfn261NGESYlAe8fY1%7EuJAihYGeNVNmmulf4lQfduVLpY1LTsu78G9U0xbWXpqhZ1IFLfe0d-TrZlVR0giWW3iIM9qwQ2qMu29lOI636B%7ELeBDN6BXZwfQkpsO9D71uRPTd6ErLF2ZVHpmr-y3jXq2B93f-o5ilUBvwsXfOVnrS1EcCkXHanb6iUi8EWzkDfzbEgM5QT7320J0N7x-5ZPDtTB8dQLBg__&Key-Pair-Id=KCD77M1F0VK2B\n",
      "Resolving cdn-lfs-us-1.huggingface.co (cdn-lfs-us-1.huggingface.co)... 108.138.167.22, 108.138.167.67, 108.138.167.63, ...\n",
      "Connecting to cdn-lfs-us-1.huggingface.co (cdn-lfs-us-1.huggingface.co)|108.138.167.22|:443... connected.\n",
      "HTTP request sent, awaiting response... 416 Requested Range Not Satisfiable\n",
      "\n",
      "    The file is already fully retrieved; nothing to do.\n",
      "\n"
     ]
    }
   ],
   "source": [
    "fs = FeatureSearch(\"algo_last\", 18)"
   ]
  },
  {
   "cell_type": "code",
   "execution_count": 18,
   "metadata": {},
   "outputs": [],
   "source": [
    "ds = fs.eval_dataset"
   ]
  },
  {
   "cell_type": "code",
   "execution_count": 18,
   "metadata": {},
   "outputs": [],
   "source": [
    "info = \"\"\"location_continent 21 -1.09375\n",
    "football_player_position 21 -3.76562\n",
    "location_religion 21 -1.09375\n",
    "location_language 20 -0.457031\n",
    "person_profession 21 -1.30469\n",
    "location_country 21 -1.44531\n",
    "country_capital 18 -1.25781\n",
    "person_language 18 -0.287109\n",
    "singular_plural 21 -0.261719\n",
    "present_simple_past_simple 20 -0.341797\n",
    "antonyms 14 -0.75\n",
    "plural_singular 20 -0.133789\n",
    "present_simple_past_perfect 18 -1.25781\n",
    "present_simple_gerund 20 -0.171875\n",
    "en_it 18 -1.29688\n",
    "it_en 14 -1.75781\n",
    "en_fr 18 -1.39062\n",
    "en_es 18 -1.21875\n",
    "fr_en 17 -1.25781\n",
    "es_en 17 -1.09375\n",
    "en_ru 18 ~1.1\n",
    "en_de 18 ~1\n",
    "algo_max 24 -0.515625\n",
    "algo_min 13 -0.945312\n",
    "algo_last 17 -0.162109\n",
    "algo_first 18 -0.828125|\n",
    "algo_sum 14 -1.49219\n",
    "algo_most_common 12 -1.15625\n",
    "\"\"\""
   ]
  },
  {
   "cell_type": "code",
   "execution_count": 21,
   "metadata": {},
   "outputs": [],
   "source": [
    "info = \"\"\"location_continent: w/o: 7.96875, w/: 1.91406, layer: 25\n",
    "football_player_position: w/o: 13.125, w/: 4.375, layer: 22\n",
    "location_religion: w/o: 7.875, w/: 1.55469, layer: 27\n",
    "location_language: w/o: 7.9375, w/: 1.82812, layer: 21\n",
    "person_profession: w/o: 11.3125, w/: 3.53125, layer: 24\n",
    "location_country: w/o: 5.625, w/: 3.67188, layer: 21\n",
    "country_capital: w/o: 6.40625, w/: 3.73438, layer: 18\n",
    "person_language: w/o: 7.4375, w/: 1.28906, layer: 21\n",
    "singular_plural: w/o: 1.96875, w/: 0.910156, layer: 21\n",
    "present_simple_past_simple: w/o: 2.48438, w/: 0.773438, layer: 20\n",
    "antonyms: w/o: 5.96875, w/: 2.29688, layer: 18\n",
    "plural_singular: w/o: 2.53125, w/: 1.53906, layer: 18\n",
    "present_simple_past_perfect: w/o: 4.65625, w/: 2.375, layer: 21\n",
    "present_simple_gerund: w/o: 3.51562, w/: 1.17188, layer: 21\n",
    "en_it: w/o: 15.375, w/: 3.0625, layer: 18\n",
    "it_en: w/o: 8.0625, w/: 3.8125, layer: 18\n",
    "en_ru: w/o: 16.125, w/: 3.76562, layer: 21\n",
    "en_fr: w/o: 12.625, w/: 5.6875, layer: 18\n",
    "en_es: w/o: 14.625, w/: 4.65625, layer: 18\n",
    "fr_en: w/o: 7.3125, w/: 2.45312, layer: 18\n",
    "es_en: w/o: 8.5, w/: 1.34375, layer: 20\n",
    "en_de: w/o: 12.125, w/: 6.9375, layer: 18\n",
    "algo_max: w/o: 3.0625, w/: 2.73438, layer: 24\n",
    "algo_min: w/o: 3, w/: 2.5, layer: 13\n",
    "algo_last: w/o: 3.39062, w/: 2.53125, layer: 17\n",
    "algo_first: w/o: 3.20312, w/: 2.57812, layer: 18\n",
    "algo_sum: w/o: 5.25, w/: 4.71875, layer: 14\n",
    "algo_most_common: w/o: 2.92188, w/: 2.67188, layer: 12\n",
    "\"\"\""
   ]
  },
  {
   "cell_type": "code",
   "execution_count": 22,
   "metadata": {},
   "outputs": [
    {
     "data": {
      "text/html": [
       "<div id=\"output_cc5cc22d9d6f4103b773a4068562e6a9\"><script> /* penzai.treescope rendering of a Python object (compressed) */ (()=>{ let observer; let lastStep = new Promise((resolve, reject) => { observer = new IntersectionObserver((entries) => { for (const entry of entries) { if (entry.isIntersecting) { resolve(); observer.disconnect(); return; } } }, {rootMargin: \"1000px\"}); }); window.treescope_decompress_enqueue = (encoded, destId) => { const previous = lastStep; const destElt = document.getElementById(destId); lastStep = (async () => { await previous; let blob = new Blob([ Uint8Array.from(atob(encoded), (m) => m.codePointAt(0)) ]); let reader = blob.stream().pipeThrough( new DecompressionStream(\"deflate\") ).pipeThrough( new TextDecoderStream(\"utf-8\") ).getReader(); let parts = []; while (true) { let step = await reader.read(); if (step.done) { break; } parts.push(step.value); } let newElt = document.createElement(\"div\"); newElt.innerHTML = parts.join(\"\"); destElt.parentNode.replaceChild(newElt, destElt); for (let oldScript of newElt.querySelectorAll(\"script\")) { let newScript = document.createElement(\"script\"); newScript.type = oldScript.type; newScript.textContent = oldScript.textContent; oldScript.parentNode.replaceChild(newScript, oldScript); } })(); requestAnimationFrame(() => { observer.observe(destElt); }); } })(); </script><div id=\"compress_html_d77e418205dc407589bb9a0795c823d4\"><script>window.treescope_decompress_enqueue(\"eNrtnQtz2jgXhv+KS2c2ZFMIEvekyXyGcGubtLm0abu7wxhbNi6+RZZDyE7++3dkQwIJbVC3C9hsMlPA1uVIRzqPJPrGr302sshhllFCfNX1SJe6LpP+ljzXN5npOnsSJZbCzGuyL+muwzK6YpvWaE+yXcf1PUWF68O+yUgm/LAneRSuWKbPMmHRGTby4KrjOnC5p6gDg7qBo2VU13LpXpR1Xxp/6lmQAMozNdbfk3STQTKHEYftS7ZCDdPJWERnexJW+7wOh2T6xDT6cAVli/vS3evdqDmvfZWaHjuUTF1KD01Hc4cPLZQODg4kMIHoUIC2DW19mkL6+27/yeVs1yOOZjqGrPKe8SHZH389m6ytOJrFi3QCy5qT2iCs+6j3D6T0pNO7zN2WDg7ByN3fpXeuOwAnUIn1iRSmdFyNZKXfdyWLMGmcdypr6BqoPB3de3Egaa4a2NCh2Z6rjaTffpNe8DtZ1VJ8/x04Lcs7XDEdP52aNSq1LfGumtTBM3kKhZIaFrFDD91BzSygTngTPs5pKw2cc9d1eAOHLh2MWwZV+gwsu4RL/NbMZWaq/KJHKDTcVhyVZB13mN6+b9qTO1ImyvRaymNu8rwx8NiVWYs4BuvD0JBy80bEj30atZv3ALF88mB6P3C47c9W7vdNnfEmhTn4mzv4XdSG9CQlJVcB8ZnsmLbCUzSpYpN01K/b2/M98tgUL/D7kW/2F+m4iREHUVeIdN3iZs81nDiQKyBHRCeUEu2C2B4Me+I/HUCexS/eD3zIRkfnxCIqc6lsWTDQx3mng2DgdH0Yqant/XDCpfn8gpIkVw8L5A2F16l5Q4ntXpOZWTNVxvdmQnpiKy9fp+4t4ZMjLDkKfLPmplNRYONF8hzwabppKiXQjPGEnE4L77I8DkPiqJLw0/g6uWH1qLKp2w8X90Nzorl+wsMNJdBbKqnD9NPSUMIrnoD76bu+Yq5hWFEY6YbRn4FhYZSDK8RiryRyDaWPu4IPu/BzdkBGfEamaGoSeiDxVJ9H5aZT92V2bTAwNbHjTgIeRCB4rZnXUpjx4HFck5jSA4PJzUEql5JcByoF652pdPPtT7O+6U8sTwFyIpCGJOs6gd0jNByDIdhe5qoVVCyBTeMEPhThGFMJlDwqIs6wrO5amtKD+nhw/w6J76TZZN3IREitmT64ZzQh7uOE0qFkKT1i7e31CAxsMmWBGv7sz60vwm4Gce6O6Zzbf6jLdEIY9yyX4/u7dfZhhtCnNWsKHfhEMaC/nae59xyXpR9d6it++jAs83BuP4R59tQ+UQdA+G3p9+0HG3jW+Zkm6WcsDOfAnrT1Jy721K1Vmjeb6btGlpZgJPcjrzigPneg55pgAZ1Tr+n/umrDqRBWlAknnf+9Mf5ran1oHg+GT2vJmn5XN6nPuq7T5cN/ztT60VTK4iKfTXNdJf1j8yOPPzaRt2pmIR1O6Lssj3/QsVpX5UH9F42WqVg0DgwzVauKpaZhIQ/LNeTdhDH7kR1AnH/NlJ5LNRhIkSmay6BSbob0kuT4L+8Uvw/M07pDhToQqruTMTgJl7quqCg/J6EHbAPXKxpf9GToeH/CO3rc/vGlTC4bjoCHTdFeuKdRaMagimZyhqN8USPGK8mlimMQKSflsiW1D8SFz37E5OiSFHXgU1OejIFf1qUz3pw05i477BOnC51kKZ4PnfoskYQr/0ENEYfCOsJE5MaD5eZ30/wKO+ZVMW7o/8b7ZZWHgpm989YxrNOoqVjS+cjuubBAfR8wbpYmTZZiddcbbY233OHSghcL2xxrfG043vgWcjBYfaruSQG10prClD1+f3fo6jre7yk+KRVeablq69iQa3L40zmVZTd8Vzsbwr/tpiw35B/91GxZNgbuW63TqNWHX2T54kv9jXzcqdXlpnHTab/rM792bBIj3zz6jN91Sl+uz73A/HBcvEBvPnfOPh1fXx7fsg+jZrO+c2kMLszaUa5vHp0Gbxpa61uu3dvVrzuad/W21L+6NM3T4Nhp9dv6RyZ/LNVOaEFudpxBo6R+DAJn56x4pfqD4bXetHavboyGWzF6b4atCmrLu458VnxH6Rt0tmPc5s60nPxGR8ZJuT5sfcNGzh0FZ+Wy3UClYftz9b1heORiMCqQTu+2qPbo+xZTZOO0czI8UvyRfxp0Op8vG82h/OHU63zRPu7u7hjli/LnPMvpbz9cyddFKPOdfFKWj4eybdyene8EX89J4/MN1kvq7UnhrD0qBjX57W3tm9f08mb7tN7IfQ0+FM7Ljl5712g3j23Z3KlcN3DfQf3yTu/T8PO3YZteH7U+1p1veqNhsJ336lfLKher9TfDWqVfLRwft87zra+yYXeK32qnVXbRIu1qo1brtPJHRuFs94s66skt8Omnt7vyaUuRyXHdktu3jffGV2aUah+M9+87R7WBeVokzdrneq2pmjmvT13PgbHhfW0coVs0ONfrOuuP3jptTWn6bT13YrcaJ6WaJl99+uQpzD//amuaYlaxflstfDS/XZU8m5beu1/q5yZt2ddvWvnzy/N8s4HV2ql+sdO2XK9VaPrDomJclSrmV3J+YnmXTq3dIdoxJcHlVatuo8smHZyf3xRx6fLSH8pg0bYUbvFZeisc1lvbv2L6wtJ+1AsYc525Qerh9rylVkpKPUoF+IeIPD/xnwQVtNT+zwYBmOy9gQk5w2BgwzakD9F9T1IcBtlNmOPa/RHaPcCeLM6i3OYtRJJctkrsx62MVnVzWjF/kf6QMztU/K5qmbxj7/MrOpvZAE12Fz+q81Ge2Sqnu166Vmg6k+HRLqM44Njw4GB7+jKvhJ+ocFCO12BhsRLyJQI9lgF0uQETa8q9BeAYk2gvZi0Jq5RemLbnUqY4T8ruUXcQkssbPSyhn+/dqWxT/Xm/Tnl85vlk990PT1zC/FHTYOcN0c1RpXRUw+wxHLTkwuUDD5KNLeDXfMJCo3iXcjuUoWIyyVGuTUNhLoVduen1XIVq2SE1GbmANXP6oSzwxLish907LJDSqan+Dg8qCLswbQKOuT8ZeZJvctLyKOvdKwnncrkwNKgKgyVROlzvzq93qlNTD8bNnoWkwb0vpaZiWjAYmCvxxC/COQlrHydQLGsEqwmfEUXjY2Jnuu/GZxAPBxB8KE1OIGZ3x48XaKnD11EYe206XsAkflRzkAoDV8+9Sc0tZBzj4GYU3w5f74aZZ+vtQ0kUqhh0GazdCEuFFmcGZATRvH+QSh3+AQZDBsg+NmEq+9bDmNySXKfOu/5g6wfjLDwh2d6S7ifHQSptKXZPU8KznL3w3+2UFI7fg9TULILgOCclj4SP5zykDPubNwDepyKLD++bEb1Md8KTPUbqR/dTy/Lcz3nsj9xfqcP00p0G1S7uN554DVy3QFeGvTmTafqwLnX428sbXN6HDWRof5fzALzusOj6rOGvZsqZ3bKkDqV5zZvZT6SW40ZRT/4zZy7q2p9wHZrvuuggNnWIiz+o/FHHv1ob5yBB56Bf55zoZTteo3lZQeknx/Ha0QOthh5CwxrFgx5oQXro0KYeLB27fLtJaHdyRBxbhiBBhqA1ZQh6niE4dgxBf4lOtg1nyPJCU1IYglfDECziKBwPhmDRHQgllmnEGR5YEB54TeGBn4dHOXbwwILwwJsOj+XFpKTAI78aeORFHJWPBzzyovCwFMcIFIPEFh55QXjk1xQe+efhgWIHj7wgPPKbDo/lxaSkwKOwGngURBxViAc8CgvCA4rxweEedXXi+3HeeRQE4VFYU3gUnodHIXbwKAjCo7Dp8FheTEoKPIqrgUdRxFHFeMCjKP7FeeAwOootO4qC7CiuKTuKSdx4FAXZUdx0diwvJCWFHaXVsKMk4qhSPNhRWpAdY2R0VcUzmWLFFh0lQXSU1hQdpWfRgSqxQ0dJEB2lTUfH8iJSUtBRXg06yiKOKscDHWWxM6vYf91RFkRHeU3RUU7irqMsiI7ypqNjeREpKeiorAYdFRFHVeKBjsqC6PDhfWAptOtZAY3xrqMiiI7KmqKjkkR0VATRUdl0dCwvIiUFHdXVoKMq4qhqPNBRXXTXQYkP1XR90/ag6zzFn7yPLUWqghSprilFqs9TJBc7ilQFKVLddIosLzglRi24IrE5EtOXxURujhbVmysO9OfI9uOrEBSVmaN11ZmjXBK/9kCiSnO08VLzZYakxOBjVWpzsbEdF735ooLz6OiqOznKii9FhIXma6s0R4mkiLDW/D+x+RIjU2IosiK9ORISd6KYKM4R/gfHWfzJG0SN71+/QqLqc7Su8nOEk/jFCBIVoKONV6AvM0olhigrEqEjIcUniokMHeV/jigGoYGjxZclomJ0tK5qdJRIOToS1aOjjRekLzM+JYYlK9KkIyEBKIqJKh0tKkuHqWHGeB8iqkVH6ypGR4VEnmyJytHRxuvRlxmPEsOOFUnSkZAAFMVElI4WVaWbrEti/Nd3RbXoaF3F6KiYSHaIytHRxuvRlxmPEsOOFUnSkZACFMVElI5Ki+87aBBfdoiK0dG6qtFRKZFnVqJ6dLTxgvRlxqPEsGNFmnQkJAFFMVGlo/Li7NBj/L+xRNXoaF3l6KicyH2HqCAdbbwifZnxKDHsWJEoHQlpQFFMZOmosjg7SIz1IKJydLSuenRUSSQ7RBXpaOMl6cuMR4lhx4pU6UhI+YlioktHiwrTdRrr7ztERehoXVXoqJpIdojq0NHGC9GXGY8S89DBFUnRsdjT6mIiRceLStGJH2d2YFEdOl5XHTrOJfFPmGBRHTreeB36MuNRYtixIh06FhvbMdGhY7T4mZUW3799hUXV53hd1ec4kepzLKo+xxuvPl9mPEoMO1b1tHOxRwvH5Xnni6rPFctwu7ZyE198CD/ofG2fdI6T+MBBLPys8/8edr7EkJQYfKxIao6FpJw4JlJznBfChxnjkytRdTleV3U5fl5djvLxw4eouhxvvLp8mSEpMfhYkbocC6k5cUzU5bgggg+4HV+FORZVmON1VZjjBRTm5fjxQ1RhjjdeYb7MmJQYfqxIYY6FFJ04JgpzXBThR+j7+AJEVGaO11VmjhMpM8eiMnO88TLzZQalxABkRTJzLCTrxDGRmeOSCED8wI4vPkSV5nhdleZ4gQefx/DrD1GlOd54pfkyQ1Ji8LEipTkWUnbimCjNcVno6w8XXK+6tu3G+GsQUdE5XlfROV5AdI7jhxFR0Tn+N0Xn8eiwpQWmeS9/rUU3LN4Fv6D5mnkNCVRqeuxwCJPYHWYf7CfOVUACckR0QinRLojtWQojfpqPqSjP/wEBlV4Q\", \"compress_html_d77e418205dc407589bb9a0795c823d4\");</script><span style=\"color: #aaaaaa; font-family: monospace\">(Loading...)</span></div></div>"
      ],
      "text/plain": [
       "<IPython.core.display.HTML object>"
      ]
     },
     "metadata": {},
     "output_type": "display_data"
    },
    {
     "data": {
      "text/html": [
       "<div id=\"output_dest_cc5cc22d9d6f4103b773a4068562e6a9\"><script> (()=>{ const output = document.getElementById(\"output_cc5cc22d9d6f4103b773a4068562e6a9\"); const dest = document.getElementById(\"output_dest_cc5cc22d9d6f4103b773a4068562e6a9\"); dest.parentNode.replaceChild(output, dest); })(); </script></div>"
      ],
      "text/plain": [
       "[('location_continent', 25),\n",
       " ('football_player_position', 22),\n",
       " ('location_religion', 27),\n",
       " ('location_language', 21),\n",
       " ('person_profession', 24),\n",
       " ('location_country', 21),\n",
       " ('country_capital', 18),\n",
       " ('person_language', 21),\n",
       " ('singular_plural', 21),\n",
       " ('present_simple_past_simple', 20),\n",
       " ('antonyms', 18),\n",
       " ('plural_singular', 18),\n",
       " ('present_simple_past_perfect', 21),\n",
       " ('present_simple_gerund', 21),\n",
       " ('en_it', 18),\n",
       " ('it_en', 18),\n",
       " ('en_ru', 21),\n",
       " ('en_fr', 18),\n",
       " ('en_es', 18),\n",
       " ('fr_en', 18),\n",
       " ('es_en', 20),\n",
       " ('en_de', 18),\n",
       " ('algo_max', 24),\n",
       " ('algo_min', 13),\n",
       " ('algo_last', 17),\n",
       " ('algo_first', 18),\n",
       " ('algo_sum', 14),\n",
       " ('algo_most_common', 12)]"
      ]
     },
     "execution_count": 22,
     "metadata": {},
     "output_type": "execute_result"
    }
   ],
   "source": [
    "tasks_to_check = [x.split(\": \") for x in info.split(\"\\n\") if x]\n",
    "tasks_to_check = [(x[0], int(x[-1])) for x in tasks_to_check]\n",
    "# tasks_to_check = [(x[0], int(x[1])) for x in tasks_to_check]\n",
    "tasks_to_check = [\n",
    "    (\"en_es\", 18),\n",
    "#     # (\"en_it\", 18),\n",
    "#     # (\"en_fr\", 18),\n",
    "#     # (\"en_de\", 18),\n",
    "#     # (\"en_ru\", 18)\n",
    "#     (\"algo_last\", 18),\n",
    "#     (\"algo_first\", 18),\n",
    "#     (\"algo_sum\", 14),\n",
    "] \n",
    "# tasks_to_check = [\n",
    "#     x for x in tasks_to_check if x[0].startswith(\"algo\")\n",
    "# ]\n",
    "\n",
    "tasks_to_check"
   ]
  },
  {
   "cell_type": "code",
   "execution_count": 23,
   "metadata": {},
   "outputs": [],
   "source": [
    "\n",
    "results = {}"
   ]
  },
  {
   "cell_type": "code",
   "execution_count": 26,
   "metadata": {},
   "outputs": [
    {
     "data": {
      "application/vnd.jupyter.widget-view+json": {
       "model_id": "2adee944d32a40f59730c5edb6f4b894",
       "version_major": 2,
       "version_minor": 0
      },
      "text/plain": [
       "  0%|          | 0/6 [00:00<?, ?it/s]"
      ]
     },
     "metadata": {},
     "output_type": "display_data"
    },
    {
     "data": {
      "application/vnd.jupyter.widget-view+json": {
       "model_id": "300586136b964974a4f5eccc62a2a38b",
       "version_major": 2,
       "version_minor": 0
      },
      "text/plain": [
       "  0%|          | 0/2000 [00:00<?, ?it/s]"
      ]
     },
     "metadata": {},
     "output_type": "display_data"
    },
    {
     "data": {
      "application/vnd.jupyter.widget-view+json": {
       "model_id": "1d45250cace14bfca4930e97555f5b8c",
       "version_major": 2,
       "version_minor": 0
      },
      "text/plain": [
       "  0%|          | 0/30 [00:00<?, ?it/s]"
      ]
     },
     "metadata": {},
     "output_type": "display_data"
    },
    {
     "name": "stdout",
     "output_type": "stream",
     "text": [
      "Task en_ru, best feature 13504, best loss 66, mean loss 67, metrics {'l0': 22.0, 'loss': 59.75}\n"
     ]
    },
    {
     "data": {
      "application/vnd.jupyter.widget-view+json": {
       "model_id": "ea7df11ed6024c768af4c033d8221398",
       "version_major": 2,
       "version_minor": 0
      },
      "text/plain": [
       "  0%|          | 0/2000 [00:00<?, ?it/s]"
      ]
     },
     "metadata": {},
     "output_type": "display_data"
    },
    {
     "data": {
      "application/vnd.jupyter.widget-view+json": {
       "model_id": "ad269fbd33dc4738818b3bf2f8065b67",
       "version_major": 2,
       "version_minor": 0
      },
      "text/plain": [
       "  0%|          | 0/30 [00:00<?, ?it/s]"
      ]
     },
     "metadata": {},
     "output_type": "display_data"
    },
    {
     "name": "stdout",
     "output_type": "stream",
     "text": [
      "Task en_fr, best feature 75057, best loss 56.75, mean loss 58.75, metrics {'l0': 44.0, 'loss': 49.5}\n"
     ]
    },
    {
     "data": {
      "application/vnd.jupyter.widget-view+json": {
       "model_id": "cb87fbc3b2cf4d5d8a9858a25157a2e5",
       "version_major": 2,
       "version_minor": 0
      },
      "text/plain": [
       "  0%|          | 0/2000 [00:00<?, ?it/s]"
      ]
     },
     "metadata": {},
     "output_type": "display_data"
    },
    {
     "data": {
      "application/vnd.jupyter.widget-view+json": {
       "model_id": "884675b7fb094d41a78786fc5a989053",
       "version_major": 2,
       "version_minor": 0
      },
      "text/plain": [
       "  0%|          | 0/30 [00:00<?, ?it/s]"
      ]
     },
     "metadata": {},
     "output_type": "display_data"
    },
    {
     "name": "stdout",
     "output_type": "stream",
     "text": [
      "Task en_es, best feature 22683, best loss 63.25, mean loss 68.5, metrics {'l0': 115.0, 'loss': 45.0}\n"
     ]
    },
    {
     "data": {
      "application/vnd.jupyter.widget-view+json": {
       "model_id": "4a7fe34c41374c75a64e2accb9356cab",
       "version_major": 2,
       "version_minor": 0
      },
      "text/plain": [
       "  0%|          | 0/2000 [00:00<?, ?it/s]"
      ]
     },
     "metadata": {},
     "output_type": "display_data"
    },
    {
     "data": {
      "application/vnd.jupyter.widget-view+json": {
       "model_id": "9b9d01ac98cb4c39afacc4dbede9bfe0",
       "version_major": 2,
       "version_minor": 0
      },
      "text/plain": [
       "  0%|          | 0/30 [00:00<?, ?it/s]"
      ]
     },
     "metadata": {},
     "output_type": "display_data"
    },
    {
     "name": "stdout",
     "output_type": "stream",
     "text": [
      "Task fr_en, best feature 46522, best loss 3.96875, mean loss 6.09375, metrics {'l0': 19.0, 'loss': 1.5703125}\n"
     ]
    },
    {
     "data": {
      "application/vnd.jupyter.widget-view+json": {
       "model_id": "a769ea5153c246ebbffbec5661235ae5",
       "version_major": 2,
       "version_minor": 0
      },
      "text/plain": [
       "  0%|          | 0/2000 [00:00<?, ?it/s]"
      ]
     },
     "metadata": {},
     "output_type": "display_data"
    },
    {
     "data": {
      "application/vnd.jupyter.widget-view+json": {
       "model_id": "dbfa5e8c302c4e04b42192314a239f4b",
       "version_major": 2,
       "version_minor": 0
      },
      "text/plain": [
       "  0%|          | 0/30 [00:00<?, ?it/s]"
      ]
     },
     "metadata": {},
     "output_type": "display_data"
    },
    {
     "name": "stdout",
     "output_type": "stream",
     "text": [
      "Task es_en, best feature 28802, best loss 5.09375, mean loss 7.53125, metrics {'l0': 24.0, 'loss': 1.4140625}\n"
     ]
    },
    {
     "data": {
      "application/vnd.jupyter.widget-view+json": {
       "model_id": "3333c8265fbb4c2b81d14f5e820200c9",
       "version_major": 2,
       "version_minor": 0
      },
      "text/plain": [
       "  0%|          | 0/2000 [00:00<?, ?it/s]"
      ]
     },
     "metadata": {},
     "output_type": "display_data"
    },
    {
     "data": {
      "application/vnd.jupyter.widget-view+json": {
       "model_id": "68a25f29371040b7b1d10fa40bbcce95",
       "version_major": 2,
       "version_minor": 0
      },
      "text/plain": [
       "  0%|          | 0/30 [00:00<?, ?it/s]"
      ]
     },
     "metadata": {},
     "output_type": "display_data"
    },
    {
     "name": "stdout",
     "output_type": "stream",
     "text": [
      "Task en_de, best feature 86736, best loss 65.5, mean loss 66.5, metrics {'l0': 96.0, 'loss': 51.0}\n"
     ]
    }
   ],
   "source": [
    "from datasets import load_dataset\n",
    "\n",
    "\n",
    "for task, target_layer in tqdm(tasks_to_check):\n",
    "    if target_layer == 21:\n",
    "        target_layer = 20\n",
    "    if target_layer == 14:\n",
    "        target_layer = 12\n",
    "    if target_layer == 13:\n",
    "        target_layer = 12\n",
    "    if target_layer == 25:\n",
    "        target_layer = 24\n",
    "    if target_layer == 27:\n",
    "        target_layer = 24\n",
    "    if target_layer == 22:\n",
    "        target_layer = 24\n",
    "    # if target_layer == 17:\n",
    "    #     target_layer = 18\n",
    "\n",
    "    if \"en_\" in task:\n",
    "        l,r = task.split(\"_\")\n",
    "\n",
    "        binding = f\"{l}-{r}\"\n",
    "        if task == \"en_de\":\n",
    "            binding = \"de-en\"\n",
    "\n",
    "\n",
    "        dataset = load_dataset(\"Helsinki-NLP/opus-100\", binding, split=\"validation\")\n",
    "        sample = dataset.shuffle()[:40]\n",
    "        sample = sample[\"translation\"]\n",
    "        pairs = [(x[l], x[r]) for x in sample]\n",
    "    else:\n",
    "        pairs = tasks[task]\n",
    "        pairs = [list(x) for x in pairs.items()]\n",
    "\n",
    "\n",
    "    fs = FeatureSearch(task, pairs, target_layer, l1_coeff=5e-3, init_w=0.5, lr=5e-2, n_shot=1, n_first=10, sae_v=8, early_stopping_steps=200, max_seq_len=500)\n",
    "    weights, metrics = fs.find_weights()\n",
    "    i = jax.lax.top_k(jnp.abs(weights), 30)[1]\n",
    "    best_feature, best_loss, mean_loss, losses = fs.check_features(i, scale=20)\n",
    "\n",
    "    metrics = {k:float(v) for k, v in metrics.items()}\n",
    "\n",
    "    results[task] = (best_feature, best_loss, mean_loss, losses, metrics, i)\n",
    "    print(\n",
    "        f\"Task {task}, best feature {best_feature}, best loss {best_loss}, mean loss {mean_loss}, metrics {metrics}\"\n",
    "    )"
   ]
  },
  {
   "cell_type": "code",
   "execution_count": 22,
   "metadata": {},
   "outputs": [
    {
     "data": {
      "text/html": [
       "<div id=\"output_4287fd744c4c4478a3a9d0961beb3644\"><script> /* penzai.treescope rendering of a Python object (compressed) */ (()=>{ let observer; let lastStep = new Promise((resolve, reject) => { observer = new IntersectionObserver((entries) => { for (const entry of entries) { if (entry.isIntersecting) { resolve(); observer.disconnect(); return; } } }, {rootMargin: \"1000px\"}); }); window.treescope_decompress_enqueue = (encoded, destId) => { const previous = lastStep; const destElt = document.getElementById(destId); lastStep = (async () => { await previous; let blob = new Blob([ Uint8Array.from(atob(encoded), (m) => m.codePointAt(0)) ]); let reader = blob.stream().pipeThrough( new DecompressionStream(\"deflate\") ).pipeThrough( new TextDecoderStream(\"utf-8\") ).getReader(); let parts = []; while (true) { let step = await reader.read(); if (step.done) { break; } parts.push(step.value); } let newElt = document.createElement(\"div\"); newElt.innerHTML = parts.join(\"\"); destElt.parentNode.replaceChild(newElt, destElt); for (let oldScript of newElt.querySelectorAll(\"script\")) { let newScript = document.createElement(\"script\"); newScript.type = oldScript.type; newScript.textContent = oldScript.textContent; oldScript.parentNode.replaceChild(newScript, oldScript); } })(); requestAnimationFrame(() => { observer.observe(destElt); }); } })(); </script><div id=\"compress_html_80b9e7e02bc0463ea6f29a911358584b\"><script>window.treescope_decompress_enqueue(\"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\", \"compress_html_80b9e7e02bc0463ea6f29a911358584b\");</script><span style=\"color: #aaaaaa; font-family: monospace\">(Loading...)</span></div></div>"
      ],
      "text/plain": [
       "<IPython.core.display.HTML object>"
      ]
     },
     "metadata": {},
     "output_type": "display_data"
    },
    {
     "data": {
      "text/html": [
       "<div id=\"compress_html_3d883d0e6d514be2a202af98df10473a\"><script>window.treescope_decompress_enqueue(\"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\", \"compress_html_3d883d0e6d514be2a202af98df10473a\");</script></div>"
      ],
      "text/plain": [
       "<IPython.core.display.HTML object>"
      ]
     },
     "metadata": {},
     "output_type": "display_data"
    },
    {
     "data": {
      "text/html": [
       "<div id=\"output_dest_4287fd744c4c4478a3a9d0961beb3644\"><script> (()=>{ const output = document.getElementById(\"output_4287fd744c4c4478a3a9d0961beb3644\"); const dest = document.getElementById(\"output_dest_4287fd744c4c4478a3a9d0961beb3644\"); dest.parentNode.replaceChild(output, dest); })(); </script></div>"
      ],
      "text/plain": [
       "{'algo_last': (<jax.Array(1100, dtype=int32)>,\n",
       "  <jax.Array(4.125, dtype=bfloat16)>,\n",
       "  <jax.Array(5.59375, dtype=bfloat16)>,\n",
       "  # jax.Array bfloat16(30,) ≈5.6 ±0.62 [≥4.1, ≤6.8] nonzero:30\n",
       "    Array([4.90625, 5.09375, 4.8125, 4.6875, 4.4375, 4.125, 5.1875, 5.125,\n",
       "           5.90625, 5.84375, 5.25, 6.03125, 5.34375, 6.28125, 6.75, 6.34375,\n",
       "           5.53125, 5.8125, 5.5625, 6.5, 5.34375, 5.625, 5.78125, 6.03125,\n",
       "           5.78125, 6.125, 5.1875, 5.90625, 5.625, 6.53125], dtype=bfloat16)\n",
       "  ,\n",
       "  {'l0': 7.0, 'loss': 1.6640625},\n",
       "  # jax.Array int32(30,) [≥1_100, ≤46_999] nonzero:30\n",
       "    Array([32994, 33663,  1195, 20545, 18196,  1100, 46999, 18894, 17808,\n",
       "           22994, 40716, 27662,  4539, 46077, 18324, 38203, 35712, 28566,\n",
       "           31959, 38810, 15949, 23636, 39474, 35126, 25640, 17645, 11918,\n",
       "           34983, 46905, 29439], dtype=int32)\n",
       "  ),\n",
       " 'algo_first': (<jax.Array(1100, dtype=int32)>,\n",
       "  <jax.Array(3.6875, dtype=bfloat16)>,\n",
       "  <jax.Array(4.59375, dtype=bfloat16)>,\n",
       "  # jax.Array bfloat16(30,) ≈4.6 ±0.68 [≥3.7, ≤6.5] nonzero:30\n",
       "    Array([3.6875, 3.89062, 3.6875, 4.375, 4.21875, 4.59375, 4.53125, 4.46875,\n",
       "           4.5625, 4.59375, 6.53125, 4.0625, 4.25, 3.89062, 3.96875, 4.53125,\n",
       "           4.59375, 6.46875, 3.85938, 4.03125, 4.90625, 4.5, 4.4375, 5.21875,\n",
       "           4.625, 4.65625, 5.46875, 5.09375, 5.21875, 4.9375], dtype=bfloat16)\n",
       "  ,\n",
       "  {'l0': 21.0, 'loss': 0.3671875},\n",
       "  # jax.Array int32(30,) [≥1_100, ≤47_859] nonzero:30\n",
       "    Array([ 1100, 22716, 20545, 46681, 40820,  3250,  5723, 46999, 21126,\n",
       "           47859, 35201, 26589, 47002, 23052, 13656, 36343, 30385, 37997,\n",
       "           15688, 35596, 10097, 33038, 41973,  7532, 40716, 14238,  1286,\n",
       "           20265, 31959, 37752], dtype=int32)\n",
       "  ),\n",
       " 'algo_sum': (<jax.Array(26714, dtype=int32)>,\n",
       "  <jax.Array(10, dtype=bfloat16)>,\n",
       "  <jax.Array(11.875, dtype=bfloat16)>,\n",
       "  # jax.Array bfloat16(30,) ≈1.2e+01 ±0.98 [≥1e+01, ≤1.4e+01] nonzero:30\n",
       "    Array([12.125, 12.0625, 13.0625, 10.5, 11.8125, 10.4375, 11.1875, 11.125,\n",
       "           10.5625, 11.25, 13.25, 12.375, 12.0625, 10, 12.0625, 13.0625,\n",
       "           12.1875, 11.25, 10.8125, 12.1875, 11.25, 12.4375, 11.9375, 12.4375,\n",
       "           10.125, 12.75, 13.625, 12.4375, 11.875, 13.6875], dtype=bfloat16)\n",
       "  ,\n",
       "  {'l0': 66.0, 'loss': 2.015625},\n",
       "  # jax.Array int32(30,) [≥4_838, ≤48_806] nonzero:30\n",
       "    Array([43973, 14532, 14826, 35978, 17408, 23192, 47432, 48806, 10944,\n",
       "           23018, 24860, 11840, 42230, 26714,  8659, 29402, 28714, 13640,\n",
       "           19995, 22865, 39864,  4838, 29683, 14177, 17728, 24570, 38349,\n",
       "           44021, 30253, 23287], dtype=int32)\n",
       "  )}"
      ]
     },
     "execution_count": 22,
     "metadata": {},
     "output_type": "execute_result"
    }
   ],
   "source": [
    "results"
   ]
  },
  {
   "cell_type": "code",
   "execution_count": null,
   "metadata": {},
   "outputs": [],
   "source": [
    "import pickle\n",
    "\n",
    "with open(\"results_v8_2.pkl\", \"wb\") as f:\n",
    "    pickle.dump(results, f)"
   ]
  },
  {
   "cell_type": "code",
   "execution_count": null,
   "metadata": {},
   "outputs": [],
   "source": [
    "import pickle\n",
    "with open(\"results_v8_np.pkl\", \"rb\") as f:\n",
    "    results = pickle.load(f)\n"
   ]
  },
  {
   "cell_type": "code",
   "execution_count": 9,
   "metadata": {},
   "outputs": [
    {
     "data": {
      "text/plain": [
       "array(51149, dtype=int32)"
      ]
     },
     "execution_count": 9,
     "metadata": {},
     "output_type": "execute_result"
    }
   ],
   "source": [
    "import numpy as np\n",
    "\n",
    "results = {k: [np.array(x) for x in v] for k, v in results.items()}\n"
   ]
  },
  {
   "cell_type": "code",
   "execution_count": 11,
   "metadata": {},
   "outputs": [],
   "source": [
    "with open(\"results_v8_np.pkl\", \"wb\") as f:\n",
    "    pickle.dump(results, f)\n",
    "# results"
   ]
  },
  {
   "cell_type": "code",
   "execution_count": 1,
   "metadata": {},
   "outputs": [],
   "source": [
    "import pickle\n",
    "with open(\"results_v8_np.pkl\", \"rb\") as f:\n",
    "    results = pickle.load(f)"
   ]
  },
  {
   "cell_type": "code",
   "execution_count": 5,
   "metadata": {},
   "outputs": [
    {
     "data": {
      "text/html": [
       "<div id=\"output_f6aaceb4aaa24b85ba4b87be72047cc3\"><script> /* penzai.treescope rendering of a Python object (compressed) */ (()=>{ let observer; let lastStep = new Promise((resolve, reject) => { observer = new IntersectionObserver((entries) => { for (const entry of entries) { if (entry.isIntersecting) { resolve(); observer.disconnect(); return; } } }, {rootMargin: \"1000px\"}); }); window.treescope_decompress_enqueue = (encoded, destId) => { const previous = lastStep; const destElt = document.getElementById(destId); lastStep = (async () => { await previous; let blob = new Blob([ Uint8Array.from(atob(encoded), (m) => m.codePointAt(0)) ]); let reader = blob.stream().pipeThrough( new DecompressionStream(\"deflate\") ).pipeThrough( new TextDecoderStream(\"utf-8\") ).getReader(); let parts = []; while (true) { let step = await reader.read(); if (step.done) { break; } parts.push(step.value); } let newElt = document.createElement(\"div\"); newElt.innerHTML = parts.join(\"\"); destElt.parentNode.replaceChild(newElt, destElt); for (let oldScript of newElt.querySelectorAll(\"script\")) { let newScript = document.createElement(\"script\"); newScript.type = oldScript.type; newScript.textContent = oldScript.textContent; oldScript.parentNode.replaceChild(newScript, oldScript); } })(); requestAnimationFrame(() => { observer.observe(destElt); }); } })(); </script><div id=\"compress_html_7c3650d2f16c452abc25cf84335e1f82\"><script>window.treescope_decompress_enqueue(\"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\", \"compress_html_7c3650d2f16c452abc25cf84335e1f82\");</script><span style=\"color: #aaaaaa; font-family: monospace\">(Loading...)</span></div></div>"
      ],
      "text/plain": [
       "<IPython.core.display.HTML object>"
      ]
     },
     "metadata": {},
     "output_type": "display_data"
    },
    {
     "data": {
      "text/html": [
       "<div id=\"compress_html_ff8a777e754c40118d33b2745b179444\"><script>window.treescope_decompress_enqueue(\"eNrtndtuIzl6x+/zFIQG2ZZ3bA0PH09220B2JgH2Zi+CALloNASeqqW0LHmlch9mMPfZ90geIK+QR9knCVmlU8m27O6x5c74M+AqVdXHjyySRfInkf96HccfyKL+PEnnvTheXE3c51MynU1Tj4zjea+azYcxVWk+T3EYRGVDZWiEUEFVcW8jk1WQyVcquJR6F68XV26at8XfxcDP6np2ORlP0+l0VvcH1WwSnZ+k4XQW0+nILfoXE+fT5KJ7ZVjP3r2btGFOwyiF9ykeHZE/HpFfyJWLcTx9d1LPrk4JHTCZLs9IieFklMbvRvUpYYPm3K+DMJvkxDvv5+lDDtkcnpLvlOGO0o1BmF1epmk9/DhK02H6lNMfU3y09K5idc3fOtacmSXRGwM/ceH9GfF5+24+u57Gk+WFD27ePznxk1l43546ylazeUzzNg/Y1SeymE3GcZ9lWxD3Gf9KBqPPV2meU/Z+OE+XszoNR7MPaU52E30zmbP3kzDqG/jHUiggCaO29fjRLYaLMJ9NJjl4PRtU4/miHtbj8P7BXi0MWPFLLWFCDfStjpvc3xvd0Y0I67mbLsb1eDY9vRE5YQuS3CKdjKcns+v6mFSzaX3ysalkO9dKqY7CaJjrfkjDSarqrYpaDktNlWHUtZs3njaG87b6ri3/eu0mU3eZhlfzVI0/ZcsmBYvxz6lYmbaSL2pXqtswjMaTOE/T9S22JU8uSNfk0Sr2uq1o6tAZuXTzdzk72tsNbhL6PIzISU4phFFbYvek9cmStnwI2qS11b9J1a0PQaeBae4jl8hkRP5I+izfznaQpd9FtkpHR0frPNgEPXl42FW8q0e1Cbl2uTp7sjx9wNzcNDZNDp7MXRxfL5Y3yNJlvru7b6xJ6W9LxL1V/JdOe9iWb2noHtAe7jf+dZA9PknvtSnkfR1Y0yM1TVI9H19tV+zSPzdZW89TWoTZVW5OZrN6sDYeXuaUkD0extMSZ9uQFqOc2nsNHxLZnX6WSX79Qzs2aAYKJEzcYnHe6yZzOYpYDUo6pZJ70ugNSHd2W33LGXrW67ruFA0ZL4ZthzCbNn1ANm6L8PV4enVdkzp3f+e9ptD87FPvVifL8s1Bf2gCdePbdKB1fnJT3SPR1e7kffp85erReW8neZ0OaVnbSLcv6T0kr5YXd/qM3sVVmv7sxpuSy8/OVU7JIvfslZtMSqc3yEXSDNra3V9m9b+uvF+Vm+53r7/+YZljW/G+Kl79da7T01dkNv1xkrvb81ebSEd5TJVzr1gNQ7nYr0fjxdGrNm/K6fNef+IufXSkVK3TZnvU21SBteEpeXWL5aszsrRx01wDXdulv/oxByAl3/Pn9di0ezfbubfb0JBuQ9PbY33DdJa78/HUTfI46mp+/kVVZNAJe1uFGS5y6Uzf9S7+8N0nrs/+aT53n/uKWXNMYlOFx9Na8KP2aveGj29Wpuxy4q4WKfYuyG3Z0hkY9w5Q8N0MeHg12An39ZXigVXk7kLP5PSVRT6Otxb49PrSlxgsMGmk4UpqJfj/56Idx68p2BzqGYu1eba+smBL2H190+N3RXvwtre3Gnx3a1250bf8h/u06juaFmhPB7GvovXG+dy03mp3917vXTxeAWx/Q5Ab00l91lwgbcNZ7q+5sfbwD+/qsz1V6BkfpXJnX/MwNeEe63F66KO2k0/HmJcPyrbOQHHzvRrZ+T6hd3H0ZSXRGa/f+3isH4nbRhs3n4/VLo4/XLz+gu8ZdS52myqueeUhMmW0TwaYl0LroCq1+Z4RIQIhAiHi8SAC+IDL1XPtq8nM1UwhSPyOQUIJrSiCBIIEggSCBIIEgsSBQeKOEcfjwQSTLNCqUpkoBCitrKqiVyZRGX0UEmECYQJh4mlgQiNJvCSSsNIAkgSSBJIEkgSSBJLEoUlCPyVGKCmMV5VjPnCgTNvoA1QyKlOBlMEhRiBGIEY8LkZ0nm+yeqr7gh4fkb//7T9hoNP3lJH//R82YOTN3//23zDg5cxxvvpfMDDl89vyQP+c5rNTQUtzgATy+yUQLTlTSCBIIEggSCBIIEggT0Ag9z1bb16VYlq8evtGvH3mIXv3Sf4tzeBWl1kahAdUz3Vz+Zjjt/0Ju5v1nrjtbfHzDeiBPCY7W7052Dq9ZcCbS2X3D6T92zbaMtl1127bX89WRrrrZzsI341e74R7e4Oev6Jp+1KqlsoxGrgCWUkIilkIVQgx6OiU8NwiVSNVI1U/JVU3k3fbJrm0wHxIFW3bXz0EbhGfXw4+G04RnxGfEZ8RnxGfEZ+fGZ8l4nMHn79goPZtczIRnGXo5JLmmyEcuOZ5l8cgrJBovpW8A1m4lFtKTd5pofJJbqwya7oVSit1TBiwsstOpDgmhDeZwqyxJbhmNrsW2WXeAbM6mwihjV17YSCLa9IuZ8tOLS2W2uTgxLASO2Ocq8aLKc6YMNAEkGqTFqNphmoiqSkBDFPmbXdx3AFQGoBldHZMRs7BO2MEr7TObYv2qhIGf6BGlEaURuUNpOTfSskaNCpvICUjJSMlIyUjJf+ulDdSsFKBByfzprLCKVOpKqgEwjvOOEIEQgRCxFNAhGSovPGyQMIKzQ2CBIIEggSCBIIEgsSBQeKOEcfjwQQ450XgAozgoCtpYzIekgStlEkaJ/chTCBMPA1M8GZ6L8LEy4EJyxWKbyBMIEwgTCBMIEwcHCZuH3E8ooxfSDEaya3wCYCWXs9QSFx6n7kiMIQJhAmEiYPqb8iBWK7fpAMwzaxUOWDrBZxyACjA8aIoRFNhJc6NQgpBCkEKQQpBCnm2FUTjGgU47hfg+PIB3Le9sqgsAdr8N79uSVYkL1YHLaR2zRobvZHNWBnxwVaIVcDBjpf1+Y37tZ/257WO2S1JeBbZDcpsDOCso5mhwWpvg+PJRtDecM8pwjTCNML0AWU3VFnEWNZymqFQGpH5BSGzkYA/3CEyIzIjMiMyIzI/LzKj6MZe0Y27h2nfuORGUcQoGhbAG5kL28hjWCHUWmtDUCnLSVFENggxUhYpC1v0NNZiGdJCEecQRut8TUCx5EpplgNoY4szxU3GWkat0GvJDZBU6Y0XbUCU2HP0JQahi7YH1U207eI2oaQuzkzO5CIUYinN10jJ/Y24JQeeg2tRLBmXBg4vuaF19BWNrvKeQ/7guaUauAvGOymjQYxGjEaMfpIJrtoCSm68FEZmgqLkBjIyMjIyMjIyMvLhJ7feHG083sRWE2g0iSrHrYHKgKlYZZkpGvgm041HiECIQIh4CogoX1jgErmXQxFaK4oUgRSBFIEUgRSBFHFgirhtuPF4GCGA2kSjFTJ6EJb5qJ1SyshoIeKUPsQIxIinwojmrXoIEi8GJDgIilP2ECQQJBAkECQQJA4OErcOOB4PJahm3DvpqK4EMGosj04rS6m3PCSJv0ggSiBKHFZqw65flU4Hsn1Xuh2o9UpNe/Nd6bhu6HcOIcYAqocjhCCEIIQghCCEPNu6oWqOUhv3S218+QDu215RZPUxKT9otSzaHC0/NVvVbM3yf8tmebRaxrM01De3nU/mzog264q2zVdpeBZxDWGD8zYqEZgHCdpFFQtCU04ZNzEgPiM+Iz4fUFyD8dWiTcMEMvLLYWQhFMUZf8jIyMjIyMjIyMjPy8iorbFXW+POUdq3DcLcQhGpIO0aMQK2yDsSZTQv2hhQxC3A5DvKR8ZKVhQ2jOJFdgPMBl6J0EXjQlghizMreTYR3BQxDWIoLyoaXPNGBoOUnOJUCyg+qZVbXhpRjBx9EejgXFta5DNEEdoQoFQR2tBGl5OUNq7LkoiSXM1h44VpU0x4Ey5Hq9nhpTWCqMob4yhAqCBy5zUkq5lhJrCoQSBEI0QjRD/Nu+NKE4TSGi8EkXMfgXNZEZERkRGREZERkQ//3rgbo43Hm8gqteNMUheVqEBz5ywLxnjngmWKB1wThxCBEPEkEFHEPHFF3IuhCOBKKqQIpAikCKQIpAikiANTxG3DjUeU1nCsvGxaBhsBKuOcK2/NYikoWTGwCTECMQIx4kkwwiJGvCSM0IzjfD3ECMQIxAjECMSIg2OEfUqMCJFXRmvLRdBApbGCVU4GnquD1dxHxAjECMSIg8pqqIHdfQG6aldiNnNRNYpqvDAAMajshwCCAIIAggCCAPKMC4ZiQlGN+0U1vnT49m2vJFKNbEVh0Oa/PTKrM+3Rnu1q+c7Kzdbltcud/fpzsSrLgvKZXTer/2eR0vDaJR6dEFxUoJh2zvHAebRWex41/vKGyIzIfFApjaGitl2nqYaSSoTjlwPHUnGc5IdwjHCMcIxwjHD8zHCMahr71TT2DNS+bQxmloI4JoybonrBII86ikKFMEVeo10uBirf0THhTBtTdrSoPnIAsaFg4FwV1Ys8dlH5WgZG1YhmFN4lrMkboEoWWQ7BZXbNhDLFNdWSbaQwLC1KGkxxxooeB4cSEVVF3EMIsEVCw1penDGrS3y00f8ALqjZeOFS6EbxwzbRav4cghqaVkY5ZTOlgVPOiwLSeVDnveLKcURpRGlE6aeYxFqkegwqarwUTFa5fcdJrIjJiMmIyYjJiMmHnsR623DjEdfC8SiM9kk7JoGbaBwDl0nCC8V8ovhuOMQIxIgnwQgj8TXTLwskJFc4GRVBAkECQQJBAkHi0CBx+4Dj8VDCWMa5iJRyZQC4tDT3ejYmHSPXWhpECUQJRIknQQmFKPGyUMJqji+LRpRAlECUQJRAlDg4SqinRQmhvAoQIQnmwclgjaWpipTbwF3i+KsEogSixGGlNUz7dvP2hefNlFSz9b5zc/N957h86PfNIBq4QQZBBkEGQQZBBkEGebblQ/Nr1Na4X1vji8dv3/aqopZAl1u59VmtP+nO0eacXoZYLefpGKhbXZmb7raONo62YsgXnkViQ+tolGCJGwYgFRgt8ofApAPmI1hEZ0RnROdDSmyAbNdt6qEwBgn5BRGyMTjhDwkZCRkJGQkZCfmZCRkFNvYLbNw5TPu2QZhYVSQthBS8VcQoi8VAMJPBnhlledHckEXZQkjgrMhrsKIACVJvSVowy4sCBwHGiqCGpLpYKsZEEbigjJcdFMDN0UiaTXjGynxkbb62FsYoEz7zNc1KtJxTwYplo7khOCvfNYACrhuRDpWdQU5tSS4YAxsvpCkLorluvGhLH0leYxHyA1Rf9PtH5PyC/BJm00Wu2M1z8+e4IOfkTW+jryEqGypDI4QKqop7G5msgky+UsGl1DsmG2Nd3vmQqpzgykNkqqyoM5m3pdA6qEp1jJlkgVaVyiEEKK2sqqJXJlEZfRSya6ykMF5VjvnAgTJtow9QyahMBVIG1zGWyjEauAJZSQiK2Zz2EGLQ0Snhue0YA7B80TEZOQfvjBG80jq3nTrHJ0zXcwpWKii/xedNZYXL8asqqATCO85417Nr1EgEZJegK2ljMh6SBK3ybepuMlhIMRrJrfAJyms0yqv5IHHpc46nwDrGlNkYwFlHyxv7rPY2OJ5sBO0N95x2C0VHX9HoKu855A85A6gG7oLxTspoOsYm0JiLQDluDVQGTMUqy0zJO6OF9h1jAdQmGq3IJQbCMh+1U/neZLQQd5ORHyWeI3RUVwIYNZbnLFaWUm95SHLHc76hfN9KBOYhZ5iLuZrkAJTnZzCnpmOcq2jJ3ZwTuYpG7ryGZHV+8k1gUYPo1o373p3eScZ9b0jsJOO+96BsG9+rANvxfJ/GTSfN961k7RT3fXPVO57vm42yU+v2f//29qxtd8rYJDc5H3O7Pvu49QVRboyG66NhseqTOAvXpWssF/95ksrHP33+c+yv26439O3R0RlpPVdz966YZO/rgGGeXJ1+Wh7+y9Kivw5T4vlxMsujlfN1+IG7ukrT+GPpb/rNUCoUi7/knr5fz69TibGazUl/kmoyzgHpWd693rSog0mavqtH+ez33x+RX0ixay9ux3LnPY3f5ghKmMXseh7ST+MP23e0E6z5FrRHvic74dvDwTxdTfII7N/H9ai/djdoRjxLL81t5gCbq/N0OfuQSh792o4kt52sM6xcPipGua9p+5dVP3OjaNP0r9fpOv20rCv/li6zvzot+kfrsP8H5IaFuQ==\", \"compress_html_ff8a777e754c40118d33b2745b179444\");</script></div>"
      ],
      "text/plain": [
       "<IPython.core.display.HTML object>"
      ]
     },
     "metadata": {},
     "output_type": "display_data"
    },
    {
     "data": {
      "text/html": [
       "<div id=\"output_dest_f6aaceb4aaa24b85ba4b87be72047cc3\"><script> (()=>{ const output = document.getElementById(\"output_f6aaceb4aaa24b85ba4b87be72047cc3\"); const dest = document.getElementById(\"output_dest_f6aaceb4aaa24b85ba4b87be72047cc3\"); dest.parentNode.replaceChild(output, dest); })(); </script></div>"
      ],
      "text/plain": [
       "{'en_es': (<jax.Array(6198, dtype=int32)>,\n",
       "  <jax.Array(42.25, dtype=bfloat16)>,\n",
       "  <jax.Array(47, dtype=bfloat16)>,\n",
       "  # jax.Array bfloat16(30,) ≈4.7e+01 ±1.1 [≥4.2e+01, ≤4.8e+01] nonzero:30\n",
       "    Array([47.5, 47.5, 47.5, 47.75, 47.5, 45, 47.5, 47, 47.5, 47.25, 45.25,\n",
       "           47.5, 47, 47, 47.25, 45, 47.75, 47.5, 47.5, 42.25, 47.25, 47.25,\n",
       "           47, 47.75, 47.25, 47.5, 47, 47.75, 47.25, 47.25], dtype=bfloat16)\n",
       "  ,\n",
       "  {'l0': 41.0, 'loss': 35.0},\n",
       "  # jax.Array int32(30,) [≥2_060, ≤47_429] nonzero:30\n",
       "    Array([ 3215, 25030, 24272, 21581, 47429, 44525, 29008, 27369, 28968,\n",
       "           36766, 14166, 42753,  2060, 19895, 27192, 34292, 41973, 33789,\n",
       "           14569,  6198,  3690, 41785,  8108, 11226, 34282, 31384,  6156,\n",
       "           38707,  5088, 18168], dtype=int32)\n",
       "  ),\n",
       " 'en_it': (<jax.Array(6198, dtype=int32)>,\n",
       "  <jax.Array(51.25, dtype=bfloat16)>,\n",
       "  <jax.Array(52.75, dtype=bfloat16)>,\n",
       "  # jax.Array bfloat16(30,) ≈5.3e+01 ±0.48 [≥5.1e+01, ≤5.4e+01] nonzero:30\n",
       "    Array([53, 53, 53, 53.25, 51.5, 53.25, 52.75, 53, 53, 53, 53, 51.75,\n",
       "           52.75, 52.5, 52.75, 52.75, 53.5, 52.75, 53, 52.75, 53.25, 52.75,\n",
       "           51.25, 53, 52.75, 53, 52.75, 53, 53, 53], dtype=bfloat16)\n",
       "  ,\n",
       "  {'l0': 44.0, 'loss': 36.75},\n",
       "  # jax.Array int32(30,) [≥666, ≤48_367] nonzero:30\n",
       "    Array([ 1989, 34428,  3995, 29336, 44525, 30555, 23968,  8558, 19060,\n",
       "           15949, 43877, 13468, 26671,  7896, 46283, 10937, 41973, 45067,\n",
       "           17843, 29933, 19379, 20768,  6198, 36576, 48367, 25900,   666,\n",
       "           47242, 17376, 12584], dtype=int32)\n",
       "  ),\n",
       " 'en_fr': (<jax.Array(5794, dtype=int32)>,\n",
       "  <jax.Array(96, dtype=bfloat16)>,\n",
       "  <jax.Array(97.5, dtype=bfloat16)>,\n",
       "  # jax.Array bfloat16(30,) ≈9.7e+01 ±0.51 [≥9.6e+01, ≤9.8e+01] nonzero:30\n",
       "    Array([97, 96, 97.5, 97, 97.5, 97.5, 96.5, 98, 98, 97.5, 97, 97, 97.5,\n",
       "           96.5, 97.5, 97.5, 97.5, 97, 97.5, 97, 98, 97.5, 97, 97.5, 97.5, 97,\n",
       "           97.5, 97, 98.5, 96.5], dtype=bfloat16)\n",
       "  ,\n",
       "  {'l0': 23.0, 'loss': 89.5},\n",
       "  # jax.Array int32(30,) [≥12, ≤48_813] nonzero:30\n",
       "    Array([29467,  5794,  4975,  6872, 26479, 48813, 28951, 23862, 44487,\n",
       "            3700, 39357,  9522, 32883,  8023, 42720,    12, 20734, 28095,\n",
       "            3242,   677, 22790, 25333, 34669, 27870, 20083,  7760,  6724,\n",
       "            1780, 22333, 42771], dtype=int32)\n",
       "  ),\n",
       " 'en_de': (<jax.Array(5257, dtype=int32)>,\n",
       "  <jax.Array(68, dtype=bfloat16)>,\n",
       "  <jax.Array(69, dtype=bfloat16)>,\n",
       "  # jax.Array bfloat16(30,) ≈6.9e+01 ±0.48 [≥6.8e+01, ≤7e+01] nonzero:30\n",
       "    Array([68.5, 69, 69, 68.5, 68, 69, 69.5, 68.5, 68.5, 68.5, 68.5, 68.5,\n",
       "           68.5, 69.5, 68.5, 69, 69, 68, 69, 68, 69, 69, 68, 69.5, 70, 69,\n",
       "           68.5, 69, 69, 69], dtype=bfloat16)\n",
       "  ,\n",
       "  {'l0': 43.0, 'loss': 58.25},\n",
       "  # jax.Array int32(30,) [≥1_609, ≤46_505] nonzero:30\n",
       "    Array([19043, 12823, 14625,  6384,  5257, 46505, 21788, 21097, 24435,\n",
       "           42263, 31586, 29976, 20768,  1609, 40653, 23254, 13687, 40751,\n",
       "            9077, 16211, 32247, 20672, 33493,  9929, 41973, 30975, 42308,\n",
       "            2537, 44499, 40721], dtype=int32)\n",
       "  ),\n",
       " 'en_ru': (<jax.Array(20738, dtype=int32)>,\n",
       "  <jax.Array(85.5, dtype=bfloat16)>,\n",
       "  <jax.Array(86.5, dtype=bfloat16)>,\n",
       "  # jax.Array bfloat16(30,) ≈8.6e+01 ±0.5 [≥8.6e+01, ≤8.8e+01] nonzero:30\n",
       "    Array([86.5, 86.5, 85.5, 86.5, 86, 86.5, 87, 86, 86.5, 86.5, 87, 87, 85.5,\n",
       "           86.5, 86.5, 86.5, 86.5, 86, 86.5, 88, 87, 86, 86.5, 86, 86, 86.5,\n",
       "           86, 87, 87, 86.5], dtype=bfloat16)\n",
       "  ,\n",
       "  {'l0': 70.0, 'loss': 73.0},\n",
       "  # jax.Array int32(30,) [≥145, ≤47_388] nonzero:30\n",
       "    Array([ 9677, 35326, 20738, 43181, 18692, 14593, 35421, 21169, 45708,\n",
       "           19205,  4118,  5071, 26113, 40012, 40486, 32650,  2314, 39912,\n",
       "            5829,  7192, 22031,  2077, 32101, 46427, 23266, 47388, 44884,\n",
       "             145,  7272, 22790], dtype=int32)\n",
       "  )}"
      ]
     },
     "execution_count": 5,
     "metadata": {},
     "output_type": "execute_result"
    }
   ],
   "source": [
    "results"
   ]
  },
  {
   "cell_type": "code",
   "execution_count": 58,
   "metadata": {},
   "outputs": [],
   "source": [
    "with open(\"results_s_s.pkl\", \"wb\") as f:\n",
    "    import pickle\n",
    "    pickle.dump(results, f)"
   ]
  },
  {
   "cell_type": "code",
   "execution_count": null,
   "metadata": {},
   "outputs": [],
   "source": [
    "import pickle\n",
    "\n",
    "with open(\"results.pkl\", \"wb\") as f:\n",
    "    pickle.dump(results, f)\n",
    "# with open(\"results.json\", \"w\") as f:\n",
    "#     json.dump(results, f)"
   ]
  },
  {
   "cell_type": "code",
   "execution_count": 26,
   "metadata": {},
   "outputs": [
    {
     "name": "stdout",
     "output_type": "stream",
     "text": [
      "algo_max, best feature 28655, loss ratio 1.61719, loss -0.816406\n",
      "algo_min, best feature 42195, loss ratio 1.14062, loss -1.3125\n",
      "algo_last, best feature 42756, loss ratio 1.46094, loss -0.839844\n",
      "algo_first, best feature 39302, loss ratio 11.6875, loss -0.0683594\n",
      "algo_sum, best feature 10061, loss ratio 1.22656, loss -1.08594\n",
      "algo_most_common, best feature 3788, loss ratio 1.34375, loss -0.933594\n"
     ]
    }
   ],
   "source": [
    "for task, (best_feature, best_loss, mean_loss, losses, metrics) in results.items():\n",
    "    print(\n",
    "        f\"{task}, best feature {best_feature}, loss ratio {mean_loss / best_loss}, loss {best_loss}\"\n",
    "    )"
   ]
  },
  {
   "cell_type": "code",
   "execution_count": null,
   "metadata": {},
   "outputs": [
    {
     "name": "stderr",
     "output_type": "stream",
     "text": [
      "--2024-05-22 00:38:44--  https://huggingface.co/nev/phi-3-4k-saex-test/resolve/main/l17-test-run-6-4.52E-06/sae_weights.safetensors?download=true\n",
      "Resolving huggingface.co (huggingface.co)... 108.156.211.90, 108.156.211.95, 108.156.211.125, ...\n",
      "Connecting to huggingface.co (huggingface.co)|108.156.211.90|:443... connected.\n",
      "HTTP request sent, awaiting response... 302 Found\n",
      "Location: https://cdn-lfs-us-1.huggingface.co/repos/eb/d8/ebd889d6ac58573e8e8a7aa1176d4d357581a6da60135b94aca378fddf4e9e54/1623d8da38be3171fcc8516a4cbe9fdb80e3d77e370aa5690895697649d688f3?response-content-disposition=attachment%3B+filename*%3DUTF-8%27%27sae_weights.safetensors%3B+filename%3D%22sae_weights.safetensors%22%3B&Expires=1716597524&Policy=eyJTdGF0ZW1lbnQiOlt7IkNvbmRpdGlvbiI6eyJEYXRlTGVzc1RoYW4iOnsiQVdTOkVwb2NoVGltZSI6MTcxNjU5NzUyNH19LCJSZXNvdXJjZSI6Imh0dHBzOi8vY2RuLWxmcy11cy0xLmh1Z2dpbmdmYWNlLmNvL3JlcG9zL2ViL2Q4L2ViZDg4OWQ2YWM1ODU3M2U4ZThhN2FhMTE3NmQ0ZDM1NzU4MWE2ZGE2MDEzNWI5NGFjYTM3OGZkZGY0ZTllNTQvMTYyM2Q4ZGEzOGJlMzE3MWZjYzg1MTZhNGNiZTlmZGI4MGUzZDc3ZTM3MGFhNTY5MDg5NTY5NzY0OWQ2ODhmMz9yZXNwb25zZS1jb250ZW50LWRpc3Bvc2l0aW9uPSoifV19&Signature=AYfheeO5OzkVmpXIex8MfS9UrVL7Vqp4BEhiw%7EjBYGVgcEAiuCgL2j1G2pr9f9vAgLWB9A1Eu47UuCurx069R3IY4IhE3pqWHC-gOTwHvCZezquXRfUSjgRuCPd1P%7EolT2eorBuvOezJ0vKvlrSumpHqO41h57UD9KylTxtOD7Q2rbSo%7EsR9mERmld14%7EvjA9OGTozfuqhG-ycx1hqnScEbA--tiE5%7EacITE05JVqPoiQH4c0hAmgCZ8EW45A6eZaCmfVh3oiPrFP2eRekSmipDQUh2Dh7Jmat-Bozl%7EtXsR9A9K1b-cAKx4Ygs08FzERpvGuLTXJ7nMA5EK2v9kHg__&Key-Pair-Id=KCD77M1F0VK2B [following]\n",
      "--2024-05-22 00:38:44--  https://cdn-lfs-us-1.huggingface.co/repos/eb/d8/ebd889d6ac58573e8e8a7aa1176d4d357581a6da60135b94aca378fddf4e9e54/1623d8da38be3171fcc8516a4cbe9fdb80e3d77e370aa5690895697649d688f3?response-content-disposition=attachment%3B+filename*%3DUTF-8%27%27sae_weights.safetensors%3B+filename%3D%22sae_weights.safetensors%22%3B&Expires=1716597524&Policy=eyJTdGF0ZW1lbnQiOlt7IkNvbmRpdGlvbiI6eyJEYXRlTGVzc1RoYW4iOnsiQVdTOkVwb2NoVGltZSI6MTcxNjU5NzUyNH19LCJSZXNvdXJjZSI6Imh0dHBzOi8vY2RuLWxmcy11cy0xLmh1Z2dpbmdmYWNlLmNvL3JlcG9zL2ViL2Q4L2ViZDg4OWQ2YWM1ODU3M2U4ZThhN2FhMTE3NmQ0ZDM1NzU4MWE2ZGE2MDEzNWI5NGFjYTM3OGZkZGY0ZTllNTQvMTYyM2Q4ZGEzOGJlMzE3MWZjYzg1MTZhNGNiZTlmZGI4MGUzZDc3ZTM3MGFhNTY5MDg5NTY5NzY0OWQ2ODhmMz9yZXNwb25zZS1jb250ZW50LWRpc3Bvc2l0aW9uPSoifV19&Signature=AYfheeO5OzkVmpXIex8MfS9UrVL7Vqp4BEhiw%7EjBYGVgcEAiuCgL2j1G2pr9f9vAgLWB9A1Eu47UuCurx069R3IY4IhE3pqWHC-gOTwHvCZezquXRfUSjgRuCPd1P%7EolT2eorBuvOezJ0vKvlrSumpHqO41h57UD9KylTxtOD7Q2rbSo%7EsR9mERmld14%7EvjA9OGTozfuqhG-ycx1hqnScEbA--tiE5%7EacITE05JVqPoiQH4c0hAmgCZ8EW45A6eZaCmfVh3oiPrFP2eRekSmipDQUh2Dh7Jmat-Bozl%7EtXsR9A9K1b-cAKx4Ygs08FzERpvGuLTXJ7nMA5EK2v9kHg__&Key-Pair-Id=KCD77M1F0VK2B\n",
      "Resolving cdn-lfs-us-1.huggingface.co (cdn-lfs-us-1.huggingface.co)... 18.161.156.80, 18.161.156.3, 18.161.156.33, ...\n",
      "Connecting to cdn-lfs-us-1.huggingface.co (cdn-lfs-us-1.huggingface.co)|18.161.156.80|:443... connected.\n",
      "HTTP request sent, awaiting response... 416 Requested Range Not Satisfiable\n",
      "\n",
      "    The file is already fully retrieved; nothing to do.\n",
      "\n"
     ]
    }
   ],
   "source": [
    "fs = FeatureSearch(\"en_de\", 17)"
   ]
  },
  {
   "cell_type": "code",
   "execution_count": 20,
   "metadata": {},
   "outputs": [
    {
     "name": "stderr",
     "output_type": "stream",
     "text": [
      "--2024-05-22 01:20:39--  https://huggingface.co/nev/phi-3-4k-saex-test/resolve/main/l18-test-run-6-1.01E-05/sae_weights.safetensors?download=true\n",
      "Resolving huggingface.co (huggingface.co)... 108.156.211.51, 108.156.211.90, 108.156.211.95, ...\n",
      "Connecting to huggingface.co (huggingface.co)|108.156.211.51|:443... connected.\n",
      "HTTP request sent, awaiting response... 302 Found\n",
      "Location: https://cdn-lfs-us-1.huggingface.co/repos/eb/d8/ebd889d6ac58573e8e8a7aa1176d4d357581a6da60135b94aca378fddf4e9e54/f057cb46f3d871ba03c66e707e3b3d8299322f36fa433862dc3fdca956715614?response-content-disposition=attachment%3B+filename*%3DUTF-8%27%27sae_weights.safetensors%3B+filename%3D%22sae_weights.safetensors%22%3B&Expires=1716600039&Policy=eyJTdGF0ZW1lbnQiOlt7IkNvbmRpdGlvbiI6eyJEYXRlTGVzc1RoYW4iOnsiQVdTOkVwb2NoVGltZSI6MTcxNjYwMDAzOX19LCJSZXNvdXJjZSI6Imh0dHBzOi8vY2RuLWxmcy11cy0xLmh1Z2dpbmdmYWNlLmNvL3JlcG9zL2ViL2Q4L2ViZDg4OWQ2YWM1ODU3M2U4ZThhN2FhMTE3NmQ0ZDM1NzU4MWE2ZGE2MDEzNWI5NGFjYTM3OGZkZGY0ZTllNTQvZjA1N2NiNDZmM2Q4NzFiYTAzYzY2ZTcwN2UzYjNkODI5OTMyMmYzNmZhNDMzODYyZGMzZmRjYTk1NjcxNTYxND9yZXNwb25zZS1jb250ZW50LWRpc3Bvc2l0aW9uPSoifV19&Signature=GjoUXeJZc2P0GpwpqASajQZ5wZ%7EBBR%7E9AaUOAfMLiPSG7tUL9N9Rm7fu5nIM-QnIQvOPvKbWZNef-GeshPYc%7E806zemdhk0gK6j2VMfyCt8ywZrTN-FWzq-RkDhDG9imTho9HTQTt1Pinj4CPk3F0StBoyT-pO0R8ih3bRRm7aqF2Co3J97EcRHzRBWCmHVHr%7EM%7ECKMhNEaYGuFC6t6i28S4Muna2FryoSCTeV26yq8NPR7Kr5IsHX7Or9vhExfAu-6aVr5Bkz%7E5RKQnLZhMdrWuNr4C8T-m%7Eqhq1Z%7EB%7EPiRfhAsx-CVCAY1uMBfqkwjSLzFhLT7DdHiKDkvcX5baw__&Key-Pair-Id=KCD77M1F0VK2B [following]\n",
      "--2024-05-22 01:20:39--  https://cdn-lfs-us-1.huggingface.co/repos/eb/d8/ebd889d6ac58573e8e8a7aa1176d4d357581a6da60135b94aca378fddf4e9e54/f057cb46f3d871ba03c66e707e3b3d8299322f36fa433862dc3fdca956715614?response-content-disposition=attachment%3B+filename*%3DUTF-8%27%27sae_weights.safetensors%3B+filename%3D%22sae_weights.safetensors%22%3B&Expires=1716600039&Policy=eyJTdGF0ZW1lbnQiOlt7IkNvbmRpdGlvbiI6eyJEYXRlTGVzc1RoYW4iOnsiQVdTOkVwb2NoVGltZSI6MTcxNjYwMDAzOX19LCJSZXNvdXJjZSI6Imh0dHBzOi8vY2RuLWxmcy11cy0xLmh1Z2dpbmdmYWNlLmNvL3JlcG9zL2ViL2Q4L2ViZDg4OWQ2YWM1ODU3M2U4ZThhN2FhMTE3NmQ0ZDM1NzU4MWE2ZGE2MDEzNWI5NGFjYTM3OGZkZGY0ZTllNTQvZjA1N2NiNDZmM2Q4NzFiYTAzYzY2ZTcwN2UzYjNkODI5OTMyMmYzNmZhNDMzODYyZGMzZmRjYTk1NjcxNTYxND9yZXNwb25zZS1jb250ZW50LWRpc3Bvc2l0aW9uPSoifV19&Signature=GjoUXeJZc2P0GpwpqASajQZ5wZ%7EBBR%7E9AaUOAfMLiPSG7tUL9N9Rm7fu5nIM-QnIQvOPvKbWZNef-GeshPYc%7E806zemdhk0gK6j2VMfyCt8ywZrTN-FWzq-RkDhDG9imTho9HTQTt1Pinj4CPk3F0StBoyT-pO0R8ih3bRRm7aqF2Co3J97EcRHzRBWCmHVHr%7EM%7ECKMhNEaYGuFC6t6i28S4Muna2FryoSCTeV26yq8NPR7Kr5IsHX7Or9vhExfAu-6aVr5Bkz%7E5RKQnLZhMdrWuNr4C8T-m%7Eqhq1Z%7EB%7EPiRfhAsx-CVCAY1uMBfqkwjSLzFhLT7DdHiKDkvcX5baw__&Key-Pair-Id=KCD77M1F0VK2B\n",
      "Resolving cdn-lfs-us-1.huggingface.co (cdn-lfs-us-1.huggingface.co)... 18.161.156.61, 18.161.156.3, 18.161.156.33, ...\n",
      "Connecting to cdn-lfs-us-1.huggingface.co (cdn-lfs-us-1.huggingface.co)|18.161.156.61|:443... connected.\n",
      "HTTP request sent, awaiting response... 416 Requested Range Not Satisfiable\n",
      "\n",
      "    The file is already fully retrieved; nothing to do.\n",
      "\n"
     ]
    },
    {
     "data": {
      "application/vnd.jupyter.widget-view+json": {
       "model_id": "cf9e6a01da9742049008c17d68f529c5",
       "version_major": 2,
       "version_minor": 0
      },
      "text/plain": [
       "  0%|          | 0/2000 [00:00<?, ?it/s]"
      ]
     },
     "metadata": {},
     "output_type": "display_data"
    },
    {
     "name": "stderr",
     "output_type": "stream",
     "text": [
      "Exception ignored in: <bound method IPythonKernel._clean_thread_parent_frames of <ipykernel.ipkernel.IPythonKernel object at 0x7f12cc5bf290>>\n",
      "Traceback (most recent call last):\n",
      "  File \"/home/dmitrii/.cache/pypoetry/virtualenvs/micrlhf-progress-_SD4q1c9-py3.12/lib/python3.12/site-packages/ipykernel/ipkernel.py\", line 775, in _clean_thread_parent_frames\n",
      "    def _clean_thread_parent_frames(\n",
      "\n",
      "KeyboardInterrupt: \n"
     ]
    }
   ],
   "source": [
    "fs = FeatureSearch(\"en_ru\", 18, early_stopping_steps=100, seed=10)\n",
    "w = fs.find_weights()"
   ]
  },
  {
   "cell_type": "code",
   "execution_count": 32,
   "metadata": {},
   "outputs": [],
   "source": [
    "fs = FeatureSearch(\"algo_last\", 18, early_stopping_steps=100, seed=10)"
   ]
  },
  {
   "cell_type": "code",
   "execution_count": 33,
   "metadata": {},
   "outputs": [
    {
     "data": {
      "application/vnd.jupyter.widget-view+json": {
       "model_id": "e52c7fd6a8854fb89cc3408f5327c65b",
       "version_major": 2,
       "version_minor": 0
      },
      "text/plain": [
       "  0%|          | 0/2000 [00:00<?, ?it/s]"
      ]
     },
     "metadata": {},
     "output_type": "display_data"
    }
   ],
   "source": [
    "w = fs.find_weights()"
   ]
  },
  {
   "cell_type": "code",
   "execution_count": 21,
   "metadata": {},
   "outputs": [
    {
     "data": {
      "text/html": [
       "<div id=\"output_4659b98926a048d99904cd4e154b88de\"><script> /* penzai.treescope rendering of a Python object (compressed) */ (()=>{ let observer; let lastStep = new Promise((resolve, reject) => { observer = new IntersectionObserver((entries) => { for (const entry of entries) { if (entry.isIntersecting) { resolve(); observer.disconnect(); return; } } }, {rootMargin: \"1000px\"}); }); window.treescope_decompress_enqueue = (encoded, destId) => { const previous = lastStep; const destElt = document.getElementById(destId); lastStep = (async () => { await previous; let blob = new Blob([ Uint8Array.from(atob(encoded), (m) => m.codePointAt(0)) ]); let reader = blob.stream().pipeThrough( new DecompressionStream(\"deflate\") ).pipeThrough( new TextDecoderStream(\"utf-8\") ).getReader(); let parts = []; while (true) { let step = await reader.read(); if (step.done) { break; } parts.push(step.value); } let newElt = document.createElement(\"div\"); newElt.innerHTML = parts.join(\"\"); destElt.parentNode.replaceChild(newElt, destElt); for (let oldScript of newElt.querySelectorAll(\"script\")) { let newScript = document.createElement(\"script\"); newScript.type = oldScript.type; newScript.textContent = oldScript.textContent; oldScript.parentNode.replaceChild(newScript, oldScript); } })(); requestAnimationFrame(() => { observer.observe(destElt); }); } })(); </script><div id=\"compress_html_366f15ad906b42af8bb18907e7a7cb34\"><script>window.treescope_decompress_enqueue(\"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\", \"compress_html_366f15ad906b42af8bb18907e7a7cb34\");</script><span style=\"color: #aaaaaa; font-family: monospace\">(Loading...)</span></div></div>"
      ],
      "text/plain": [
       "<IPython.core.display.HTML object>"
      ]
     },
     "metadata": {},
     "output_type": "display_data"
    },
    {
     "data": {
      "text/html": [
       "<div id=\"compress_html_ed7bb2c9d65f4f25bccb017941e936e2\"><script>window.treescope_decompress_enqueue(\"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\", \"compress_html_ed7bb2c9d65f4f25bccb017941e936e2\");</script></div>"
      ],
      "text/plain": [
       "<IPython.core.display.HTML object>"
      ]
     },
     "metadata": {},
     "output_type": "display_data"
    },
    {
     "data": {
      "text/html": [
       "<div id=\"output_dest_4659b98926a048d99904cd4e154b88de\"><script> (()=>{ const output = document.getElementById(\"output_4659b98926a048d99904cd4e154b88de\"); const dest = document.getElementById(\"output_dest_4659b98926a048d99904cd4e154b88de\"); dest.parentNode.replaceChild(output, dest); })(); </script></div>"
      ],
      "text/plain": [
       "[# jax.Array float32(20,) ≈8.6 ±1.1e+01 [≥-0.055, ≤3.1e+01] nonzero:20\n",
       "   Array([ 3.09979153e+01,  2.82771473e+01,  2.81605225e+01,  2.23171616e+01,\n",
       "           1.70592213e+01,  1.41996422e+01,  1.22735662e+01,  1.18328285e+01,\n",
       "           3.67472243e+00,  2.47404289e+00,  1.58222604e+00, -2.69895289e-02,\n",
       "          -2.70592347e-02, -2.96332240e-02, -3.23766917e-02, -4.17804755e-02,\n",
       "          -4.86377254e-02, -5.33655584e-02, -5.33791259e-02, -5.49723543e-02],      dtype=float32)\n",
       " ,\n",
       " # jax.Array int32(20,) [≥6_262, ≤46_627] nonzero:20\n",
       "   Array([10615, 41937, 10151, 13937, 16245, 46627,  6262, 16804,  8286,\n",
       "          25117, 10897, 28142, 21109, 21014, 44885, 43632, 44120,  7628,\n",
       "          25342, 36901], dtype=int32)\n",
       " ]"
      ]
     },
     "execution_count": 21,
     "metadata": {},
     "output_type": "execute_result"
    }
   ],
   "source": [
    "jax.lax.top_k(w[0], 20)"
   ]
  },
  {
   "cell_type": "code",
   "execution_count": 34,
   "metadata": {},
   "outputs": [
    {
     "data": {
      "application/vnd.jupyter.widget-view+json": {
       "model_id": "c19641c057564360837ec0e2204d404c",
       "version_major": 2,
       "version_minor": 0
      },
      "text/plain": [
       "  0%|          | 0/20 [00:00<?, ?it/s]"
      ]
     },
     "metadata": {},
     "output_type": "display_data"
    },
    {
     "data": {
      "text/html": [
       "<div id=\"output_419517561a7c4844ada9fbe322607f9a\"><script> /* penzai.treescope rendering of a Python object (compressed) */ (()=>{ let observer; let lastStep = new Promise((resolve, reject) => { observer = new IntersectionObserver((entries) => { for (const entry of entries) { if (entry.isIntersecting) { resolve(); observer.disconnect(); return; } } }, {rootMargin: \"1000px\"}); }); window.treescope_decompress_enqueue = (encoded, destId) => { const previous = lastStep; const destElt = document.getElementById(destId); lastStep = (async () => { await previous; let blob = new Blob([ Uint8Array.from(atob(encoded), (m) => m.codePointAt(0)) ]); let reader = blob.stream().pipeThrough( new DecompressionStream(\"deflate\") ).pipeThrough( new TextDecoderStream(\"utf-8\") ).getReader(); let parts = []; while (true) { let step = await reader.read(); if (step.done) { break; } parts.push(step.value); } let newElt = document.createElement(\"div\"); newElt.innerHTML = parts.join(\"\"); destElt.parentNode.replaceChild(newElt, destElt); for (let oldScript of newElt.querySelectorAll(\"script\")) { let newScript = document.createElement(\"script\"); newScript.type = oldScript.type; newScript.textContent = oldScript.textContent; oldScript.parentNode.replaceChild(newScript, oldScript); } })(); requestAnimationFrame(() => { observer.observe(destElt); }); } })(); </script><div id=\"compress_html_ea15764e679b45a0840bc3468a051d9d\"><script>window.treescope_decompress_enqueue(\"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\", \"compress_html_ea15764e679b45a0840bc3468a051d9d\");</script><span style=\"color: #aaaaaa; font-family: monospace\">(Loading...)</span></div></div>"
      ],
      "text/plain": [
       "<IPython.core.display.HTML object>"
      ]
     },
     "metadata": {},
     "output_type": "display_data"
    },
    {
     "data": {
      "text/html": [
       "<div id=\"compress_html_c612cb0202d440aca34fa6070b167f16\"><script>window.treescope_decompress_enqueue(\"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\", \"compress_html_c612cb0202d440aca34fa6070b167f16\");</script></div>"
      ],
      "text/plain": [
       "<IPython.core.display.HTML object>"
      ]
     },
     "metadata": {},
     "output_type": "display_data"
    },
    {
     "data": {
      "text/html": [
       "<div id=\"output_dest_419517561a7c4844ada9fbe322607f9a\"><script> (()=>{ const output = document.getElementById(\"output_419517561a7c4844ada9fbe322607f9a\"); const dest = document.getElementById(\"output_dest_419517561a7c4844ada9fbe322607f9a\"); dest.parentNode.replaceChild(output, dest); })(); </script></div>"
      ],
      "text/plain": [
       "(<jax.Array(21195, dtype=int32)>,\n",
       " <jax.Array(-0.162109, dtype=bfloat16)>,\n",
       " <jax.Array(-0.980469, dtype=bfloat16)>,\n",
       " # jax.Array bfloat16(20,) ≈-0.98 ±0.37 [≥-1.4, ≤-0.16] nonzero:20\n",
       "   Array([-0.162109, -0.546875, -0.330078, -1.24219, -0.757812, -0.53125,\n",
       "          -0.390625, -1.14844, -1.19531, -1.10156, -1.32812, -1.28125,\n",
       "          -1.14844, -1.21875, -1.35938, -1.02344, -1.16406, -1.24219,\n",
       "          -0.980469, -1.42188], dtype=bfloat16)\n",
       " )"
      ]
     },
     "execution_count": 34,
     "metadata": {},
     "output_type": "execute_result"
    }
   ],
   "source": [
    "fs.check_features(jax.lax.top_k(w[0], 20)[1], scale=20)"
   ]
  },
  {
   "cell_type": "code",
   "execution_count": null,
   "metadata": {},
   "outputs": [
    {
     "data": {
      "application/vnd.jupyter.widget-view+json": {
       "model_id": "3b26c791176542c0886a40e76141b94c",
       "version_major": 2,
       "version_minor": 0
      },
      "text/plain": [
       "  0%|          | 0/20 [00:00<?, ?it/s]"
      ]
     },
     "metadata": {},
     "output_type": "display_data"
    },
    {
     "data": {
      "text/html": [
       "<div id=\"output_b0ba3b27eefc45a69faf3a9e2b5e88dd\"><script> /* penzai.treescope rendering of a Python object (compressed) */ (()=>{ let observer; let lastStep = new Promise((resolve, reject) => { observer = new IntersectionObserver((entries) => { for (const entry of entries) { if (entry.isIntersecting) { resolve(); observer.disconnect(); return; } } }, {rootMargin: \"1000px\"}); }); window.treescope_decompress_enqueue = (encoded, destId) => { const previous = lastStep; const destElt = document.getElementById(destId); lastStep = (async () => { await previous; let blob = new Blob([ Uint8Array.from(atob(encoded), (m) => m.codePointAt(0)) ]); let reader = blob.stream().pipeThrough( new DecompressionStream(\"deflate\") ).pipeThrough( new TextDecoderStream(\"utf-8\") ).getReader(); let parts = []; while (true) { let step = await reader.read(); if (step.done) { break; } parts.push(step.value); } let newElt = document.createElement(\"div\"); newElt.innerHTML = parts.join(\"\"); destElt.parentNode.replaceChild(newElt, destElt); for (let oldScript of newElt.querySelectorAll(\"script\")) { let newScript = document.createElement(\"script\"); newScript.type = oldScript.type; newScript.textContent = oldScript.textContent; oldScript.parentNode.replaceChild(newScript, oldScript); } })(); requestAnimationFrame(() => { observer.observe(destElt); }); } })(); </script><div id=\"compress_html_ba98176788d4493da1dd7f5578cb89d6\"><script>window.treescope_decompress_enqueue(\"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\", \"compress_html_ba98176788d4493da1dd7f5578cb89d6\");</script><span style=\"color: #aaaaaa; font-family: monospace\">(Loading...)</span></div></div>"
      ],
      "text/plain": [
       "<IPython.core.display.HTML object>"
      ]
     },
     "metadata": {},
     "output_type": "display_data"
    },
    {
     "data": {
      "text/html": [
       "<div id=\"compress_html_294b2eface0d44c687cec0239a47474b\"><script>window.treescope_decompress_enqueue(\"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\", \"compress_html_294b2eface0d44c687cec0239a47474b\");</script></div>"
      ],
      "text/plain": [
       "<IPython.core.display.HTML object>"
      ]
     },
     "metadata": {},
     "output_type": "display_data"
    },
    {
     "data": {
      "text/html": [
       "<div id=\"output_dest_b0ba3b27eefc45a69faf3a9e2b5e88dd\"><script> (()=>{ const output = document.getElementById(\"output_b0ba3b27eefc45a69faf3a9e2b5e88dd\"); const dest = document.getElementById(\"output_dest_b0ba3b27eefc45a69faf3a9e2b5e88dd\"); dest.parentNode.replaceChild(output, dest); })(); </script></div>"
      ],
      "text/plain": [
       "(<jax.Array(41239, dtype=int32)>,\n",
       " <jax.Array(-4.21875, dtype=bfloat16)>,\n",
       " <jax.Array(-5.34375, dtype=bfloat16)>,\n",
       " # jax.Array bfloat16(20,) ≈-5.3 ±0.37 [≥-6.0, ≤-4.2] nonzero:20\n",
       "   Array([-6, -5.28125, -5.65625, -5.15625, -5.03125, -5.15625, -5.53125,\n",
       "          -5.25, -5.28125, -5.65625, -5.1875, -5.71875, -5.59375, -5.0625,\n",
       "          -4.21875, -5.40625, -5.0625, -5.53125, -5.21875, -5.65625],      dtype=bfloat16)\n",
       " )"
      ]
     },
     "execution_count": 24,
     "metadata": {},
     "output_type": "execute_result"
    }
   ],
   "source": [
    "fs.check_features(jax.lax.top_k(w[0], 20)[1], scale=20)"
   ]
  },
  {
   "cell_type": "code",
   "execution_count": null,
   "metadata": {},
   "outputs": [
    {
     "data": {
      "text/html": [
       "<div id=\"output_185d739a08994c268d6f94f40167821b\"><script> /* penzai.treescope rendering of a Python object (compressed) */ (()=>{ let observer; let lastStep = new Promise((resolve, reject) => { observer = new IntersectionObserver((entries) => { for (const entry of entries) { if (entry.isIntersecting) { resolve(); observer.disconnect(); return; } } }, {rootMargin: \"1000px\"}); }); window.treescope_decompress_enqueue = (encoded, destId) => { const previous = lastStep; const destElt = document.getElementById(destId); lastStep = (async () => { await previous; let blob = new Blob([ Uint8Array.from(atob(encoded), (m) => m.codePointAt(0)) ]); let reader = blob.stream().pipeThrough( new DecompressionStream(\"deflate\") ).pipeThrough( new TextDecoderStream(\"utf-8\") ).getReader(); let parts = []; while (true) { let step = await reader.read(); if (step.done) { break; } parts.push(step.value); } let newElt = document.createElement(\"div\"); newElt.innerHTML = parts.join(\"\"); destElt.parentNode.replaceChild(newElt, destElt); for (let oldScript of newElt.querySelectorAll(\"script\")) { let newScript = document.createElement(\"script\"); newScript.type = oldScript.type; newScript.textContent = oldScript.textContent; oldScript.parentNode.replaceChild(newScript, oldScript); } })(); requestAnimationFrame(() => { observer.observe(destElt); }); } })(); </script><div id=\"compress_html_467de0d3f28141859d7e0b0108997fef\"><script>window.treescope_decompress_enqueue(\"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\", \"compress_html_467de0d3f28141859d7e0b0108997fef\");</script><span style=\"color: #aaaaaa; font-family: monospace\">(Loading...)</span></div></div>"
      ],
      "text/plain": [
       "<IPython.core.display.HTML object>"
      ]
     },
     "metadata": {},
     "output_type": "display_data"
    },
    {
     "data": {
      "text/html": [
       "<div id=\"compress_html_9d3d07b3e247474482d730b32db2783c\"><script>window.treescope_decompress_enqueue(\"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\", \"compress_html_9d3d07b3e247474482d730b32db2783c\");</script></div>"
      ],
      "text/plain": [
       "<IPython.core.display.HTML object>"
      ]
     },
     "metadata": {},
     "output_type": "display_data"
    },
    {
     "data": {
      "text/html": [
       "<div id=\"output_dest_185d739a08994c268d6f94f40167821b\"><script> (()=>{ const output = document.getElementById(\"output_185d739a08994c268d6f94f40167821b\"); const dest = document.getElementById(\"output_dest_185d739a08994c268d6f94f40167821b\"); dest.parentNode.replaceChild(output, dest); })(); </script></div>"
      ],
      "text/plain": [
       "[# jax.Array float32(20,) ≈5.4 ±2.9 [≥-0.014, ≤1.1e+01] nonzero:20\n",
       "   Array([11.022304  ,  9.960602  ,  9.723273  ,  7.446827  ,  7.3656707 ,\n",
       "           6.9718046 ,  6.634519  ,  6.3051505 ,  6.268656  ,  6.1738625 ,\n",
       "           5.3788037 ,  4.8796234 ,  4.4844356 ,  4.196526  ,  3.5582683 ,\n",
       "           2.7230783 ,  1.9743043 ,  1.7151848 ,  1.7031406 , -0.01442439],      dtype=float32)\n",
       " ,\n",
       " # jax.Array int32(20,) [≥3_151, ≤47_066] nonzero:20\n",
       "   Array([ 9644, 20311, 46157, 42589, 25117, 38261,  9337, 47066, 10897,\n",
       "          30124,  3151,  3398, 46627, 36916, 17215, 10069, 29942, 39270,\n",
       "           4999, 31578], dtype=int32)\n",
       " ]"
      ]
     },
     "execution_count": 69,
     "metadata": {},
     "output_type": "execute_result"
    }
   ],
   "source": [
    "jax.lax.top_k(w, 20)"
   ]
  },
  {
   "cell_type": "code",
   "execution_count": null,
   "metadata": {},
   "outputs": [],
   "source": [
    "def find_features(task, target_layer):\n",
    "    scale = 20\n",
    "    early_stopping_steps = 50\n",
    "    init_w = 0.1\n",
    "    iterations = 2000\n",
    "\n",
    "    sae = get_sae(target_layer, 6)\n",
    "    dictionary = sae[\"W_dec\"]\n",
    "\n",
    "    pairs = tasks[task]\n",
    "    pairs = [list(x) for x in pairs.items()]\n",
    "    seed = 0\n",
    "\n",
    "    dataset = ICLDataset(pairs, size=batch_size, n_prepended=0, bidirectional=False, seed=seed+1)\n",
    "\n",
    "\n",
    "    tokenized = tokenizer.batch_encode_plus([prompt.format(x) for x in dataset.prompts], padding=\"longest\", max_length=max_seq_len, truncation=True, return_tensors=\"np\")\n",
    "    inputs = tokenized_to_inputs(\n",
    "        **tokenized\n",
    "    )\n",
    "\n",
    "    target_tokens = [x[1] for x in tokenizer(dataset.completions)[\"input_ids\"]]\n",
    "    target_tokens = jnp.asarray(target_tokens)\n",
    "\n",
    "    jittify = lambda x: partial(jax.jit(lambda lr, *args, **kwargs: lr(*args, **kwargs)[1][0].value), x)\n",
    "    get_resids_initial = make_get_resids(llama, target_layer)\n",
    "    get_resids_initial = jittify(get_resids_initial)\n",
    "\n",
    "    intital_resids = get_resids_initial(inputs)\n",
    "\n",
    "    taker = jit_wrapper.Jitted(llama.select().at_instances_of(LlamaBlock).apply_with_selected_index(\n",
    "        lambda i, x: x if i >= target_layer else pz.nn.Identity()\n",
    "    ).select().at_instances_of(pz.nn.EmbeddingLookup).apply(lambda _: pz.nn.Identity())\n",
    "                    .select().at_instances_of(pz.nn.ConstantRescale).pick_nth_selected(0).apply(lambda _: pz.nn.Identity()))\n",
    "\n",
    "    optimizer = optax.chain(\n",
    "        optax.adam(3e-2),\n",
    "        optax.zero_nans(),    \n",
    "    )\n",
    "\n",
    "    lwg = jax.value_and_grad(get_loss, has_aux=True)\n",
    "    \n",
    "\n",
    "    weights = jnp.ones(dictionary.shape[0]) * init_w\n",
    "    opt_state = optimizer.init(weights)\n",
    "\n",
    "    min_loss = 1e9\n",
    "    early_stopping_counter = 0\n",
    "\n",
    "    for _ in (bar := trange(iterations)):\n",
    "        loss, weights, opt_state, metrics = train_step(weights, opt_state, dictionary, inputs, target_tokens, taker, intital_resids, optimizer, lwg)\n",
    "\n",
    "        if metrics[\"loss\"] < min_loss:\n",
    "            min_loss = metrics[\"loss\"]\n",
    "            early_stopping_counter = 0\n",
    "        \n",
    "\n",
    "        tk = jax.lax.top_k(weights, 2)\n",
    "\n",
    "        bar.set_postfix(loss_optim=loss, **metrics, top=tk[1][0], top_diff=(tk[0][0] - tk[0][1]) / tk[0][0])\n",
    "\n",
    "        early_stopping_counter += 1\n",
    "        if early_stopping_counter > early_stopping_steps:\n",
    "            break\n",
    "\n",
    "    \n",
    "    return jax.lax.top_k(jnp.abs(weights), 20)\n"
   ]
  },
  {
   "cell_type": "code",
   "execution_count": null,
   "metadata": {},
   "outputs": [
    {
     "data": {
      "application/vnd.jupyter.widget-view+json": {
       "model_id": "82ea1e746eef48259d2710fc0505dfa3",
       "version_major": 2,
       "version_minor": 0
      },
      "text/plain": [
       "  0%|          | 0/2000 [00:00<?, ?it/s]"
      ]
     },
     "metadata": {},
     "output_type": "display_data"
    },
    {
     "data": {
      "text/html": [
       "<div id=\"output_f58b50eb5a1540d7b59775e3fbd46391\"><script> /* penzai.treescope rendering of a Python object (compressed) */ (()=>{ let observer; let lastStep = new Promise((resolve, reject) => { observer = new IntersectionObserver((entries) => { for (const entry of entries) { if (entry.isIntersecting) { resolve(); observer.disconnect(); return; } } }, {rootMargin: \"1000px\"}); }); window.treescope_decompress_enqueue = (encoded, destId) => { const previous = lastStep; const destElt = document.getElementById(destId); lastStep = (async () => { await previous; let blob = new Blob([ Uint8Array.from(atob(encoded), (m) => m.codePointAt(0)) ]); let reader = blob.stream().pipeThrough( new DecompressionStream(\"deflate\") ).pipeThrough( new TextDecoderStream(\"utf-8\") ).getReader(); let parts = []; while (true) { let step = await reader.read(); if (step.done) { break; } parts.push(step.value); } let newElt = document.createElement(\"div\"); newElt.innerHTML = parts.join(\"\"); destElt.parentNode.replaceChild(newElt, destElt); for (let oldScript of newElt.querySelectorAll(\"script\")) { let newScript = document.createElement(\"script\"); newScript.type = oldScript.type; newScript.textContent = oldScript.textContent; oldScript.parentNode.replaceChild(newScript, oldScript); } })(); requestAnimationFrame(() => { observer.observe(destElt); }); } })(); </script><div id=\"compress_html_8b936896c6e54433b6700cf2155d3025\"><script>window.treescope_decompress_enqueue(\"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\", \"compress_html_8b936896c6e54433b6700cf2155d3025\");</script><span style=\"color: #aaaaaa; font-family: monospace\">(Loading...)</span></div></div>"
      ],
      "text/plain": [
       "<IPython.core.display.HTML object>"
      ]
     },
     "metadata": {},
     "output_type": "display_data"
    },
    {
     "data": {
      "text/html": [
       "<div id=\"compress_html_ed2f29a9cbaf4a09b031cd9fc7d5ae99\"><script>window.treescope_decompress_enqueue(\"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\", \"compress_html_ed2f29a9cbaf4a09b031cd9fc7d5ae99\");</script></div>"
      ],
      "text/plain": [
       "<IPython.core.display.HTML object>"
      ]
     },
     "metadata": {},
     "output_type": "display_data"
    },
    {
     "data": {
      "text/html": [
       "<div id=\"output_dest_f58b50eb5a1540d7b59775e3fbd46391\"><script> (()=>{ const output = document.getElementById(\"output_f58b50eb5a1540d7b59775e3fbd46391\"); const dest = document.getElementById(\"output_dest_f58b50eb5a1540d7b59775e3fbd46391\"); dest.parentNode.replaceChild(output, dest); })(); </script></div>"
      ],
      "text/plain": [
       "[# jax.Array float32(20,) ≈3.3 ±4.8 [≥0.42, ≤1.6e+01] nonzero:20\n",
       "   Array([16.070333  , 12.78331   , 10.591674  , 10.247323  ,  5.344763  ,\n",
       "           2.8526528 ,  1.5353229 ,  0.5156362 ,  0.50892174,  0.45389727,\n",
       "           0.45202777,  0.44730943,  0.44149902,  0.43828565,  0.4329766 ,\n",
       "           0.43184933,  0.43073234,  0.4306618 ,  0.42252657,  0.4161794 ],      dtype=float32)\n",
       " ,\n",
       " # jax.Array int32(20,) [≥2_719, ≤48_025] nonzero:20\n",
       "   Array([10018, 20311,  5145, 40023, 45145,  2719, 15415, 24802, 20375,\n",
       "          19505, 38618, 36786, 47611, 31726, 12632, 10615, 47480, 48025,\n",
       "           3048, 40850], dtype=int32)\n",
       " ]"
      ]
     },
     "execution_count": 27,
     "metadata": {},
     "output_type": "execute_result"
    }
   ],
   "source": [
    "find_features(\n",
    "    \"en_es\", 18\n",
    ")"
   ]
  },
  {
   "cell_type": "code",
   "execution_count": 35,
   "metadata": {},
   "outputs": [
    {
     "name": "stderr",
     "output_type": "stream",
     "text": [
      "--2024-05-22 18:45:26--  https://huggingface.co/nev/phi-3-4k-saex-test/resolve/main/l17-test-run-6-4.52E-06/sae_weights.safetensors?download=true\n",
      "Resolving huggingface.co (huggingface.co)... 108.156.211.125, 108.156.211.90, 108.156.211.95, ...\n",
      "Connecting to huggingface.co (huggingface.co)|108.156.211.125|:443... connected.\n",
      "HTTP request sent, awaiting response... 302 Found\n",
      "Location: https://cdn-lfs-us-1.huggingface.co/repos/eb/d8/ebd889d6ac58573e8e8a7aa1176d4d357581a6da60135b94aca378fddf4e9e54/1623d8da38be3171fcc8516a4cbe9fdb80e3d77e370aa5690895697649d688f3?response-content-disposition=attachment%3B+filename*%3DUTF-8%27%27sae_weights.safetensors%3B+filename%3D%22sae_weights.safetensors%22%3B&Expires=1716662726&Policy=eyJTdGF0ZW1lbnQiOlt7IkNvbmRpdGlvbiI6eyJEYXRlTGVzc1RoYW4iOnsiQVdTOkVwb2NoVGltZSI6MTcxNjY2MjcyNn19LCJSZXNvdXJjZSI6Imh0dHBzOi8vY2RuLWxmcy11cy0xLmh1Z2dpbmdmYWNlLmNvL3JlcG9zL2ViL2Q4L2ViZDg4OWQ2YWM1ODU3M2U4ZThhN2FhMTE3NmQ0ZDM1NzU4MWE2ZGE2MDEzNWI5NGFjYTM3OGZkZGY0ZTllNTQvMTYyM2Q4ZGEzOGJlMzE3MWZjYzg1MTZhNGNiZTlmZGI4MGUzZDc3ZTM3MGFhNTY5MDg5NTY5NzY0OWQ2ODhmMz9yZXNwb25zZS1jb250ZW50LWRpc3Bvc2l0aW9uPSoifV19&Signature=Ykz7GYjSPOeLTseAqysEec7AEON0ZRQa8CaaM1f1QO7t1qSSsE36fFNGVaJJfLwkvEntbLG1DZcgWWPZWhd1fcGIZuP0w0aBr5PcZE-mjbEfqKzy%7E9NPcdW6qxBbf%7ER2cny%7EHImNLZ13D8zApusS1Ti%7EAqlvSIagwxOg1I3I2r3DU45tOKKCop1dewn2pm-u-c8KssNqPFoB9px9P4EdcZ37H%7ELkeDdCusJh1MrObaOvGBLjKCgUfIyxyD%7EjL2NxzWPaZNXmdZPdpIkC-VXpADE39C1jhnTPSe2uQAheIxLis0tFy1RWeqOB44ouBXuUVweN%7EGuPX89PB2r1%7EB5vUA__&Key-Pair-Id=KCD77M1F0VK2B [following]\n",
      "--2024-05-22 18:45:26--  https://cdn-lfs-us-1.huggingface.co/repos/eb/d8/ebd889d6ac58573e8e8a7aa1176d4d357581a6da60135b94aca378fddf4e9e54/1623d8da38be3171fcc8516a4cbe9fdb80e3d77e370aa5690895697649d688f3?response-content-disposition=attachment%3B+filename*%3DUTF-8%27%27sae_weights.safetensors%3B+filename%3D%22sae_weights.safetensors%22%3B&Expires=1716662726&Policy=eyJTdGF0ZW1lbnQiOlt7IkNvbmRpdGlvbiI6eyJEYXRlTGVzc1RoYW4iOnsiQVdTOkVwb2NoVGltZSI6MTcxNjY2MjcyNn19LCJSZXNvdXJjZSI6Imh0dHBzOi8vY2RuLWxmcy11cy0xLmh1Z2dpbmdmYWNlLmNvL3JlcG9zL2ViL2Q4L2ViZDg4OWQ2YWM1ODU3M2U4ZThhN2FhMTE3NmQ0ZDM1NzU4MWE2ZGE2MDEzNWI5NGFjYTM3OGZkZGY0ZTllNTQvMTYyM2Q4ZGEzOGJlMzE3MWZjYzg1MTZhNGNiZTlmZGI4MGUzZDc3ZTM3MGFhNTY5MDg5NTY5NzY0OWQ2ODhmMz9yZXNwb25zZS1jb250ZW50LWRpc3Bvc2l0aW9uPSoifV19&Signature=Ykz7GYjSPOeLTseAqysEec7AEON0ZRQa8CaaM1f1QO7t1qSSsE36fFNGVaJJfLwkvEntbLG1DZcgWWPZWhd1fcGIZuP0w0aBr5PcZE-mjbEfqKzy%7E9NPcdW6qxBbf%7ER2cny%7EHImNLZ13D8zApusS1Ti%7EAqlvSIagwxOg1I3I2r3DU45tOKKCop1dewn2pm-u-c8KssNqPFoB9px9P4EdcZ37H%7ELkeDdCusJh1MrObaOvGBLjKCgUfIyxyD%7EjL2NxzWPaZNXmdZPdpIkC-VXpADE39C1jhnTPSe2uQAheIxLis0tFy1RWeqOB44ouBXuUVweN%7EGuPX89PB2r1%7EB5vUA__&Key-Pair-Id=KCD77M1F0VK2B\n",
      "Resolving cdn-lfs-us-1.huggingface.co (cdn-lfs-us-1.huggingface.co)... 108.138.167.116, 108.138.167.22, 108.138.167.67, ...\n",
      "Connecting to cdn-lfs-us-1.huggingface.co (cdn-lfs-us-1.huggingface.co)|108.138.167.116|:443... connected.\n",
      "HTTP request sent, awaiting response... 416 Requested Range Not Satisfiable\n",
      "\n",
      "    The file is already fully retrieved; nothing to do.\n",
      "\n"
     ]
    }
   ],
   "source": [
    "sae = get_sae(target_layer, 6)"
   ]
  },
  {
   "cell_type": "code",
   "execution_count": 36,
   "metadata": {},
   "outputs": [
    {
     "ename": "NameError",
     "evalue": "name 'check_feature' is not defined",
     "output_type": "error",
     "traceback": [
      "\u001b[0;31m---------------------------------------------------------------------------\u001b[0m",
      "\u001b[0;31mNameError\u001b[0m                                 Traceback (most recent call last)",
      "Cell \u001b[0;32mIn[36], line 1\u001b[0m\n\u001b[0;32m----> 1\u001b[0m \u001b[43mcheck_feature\u001b[49m(\u001b[38;5;241m21195\u001b[39m, \u001b[38;5;124m\"\u001b[39m\u001b[38;5;124malgo_last\u001b[39m\u001b[38;5;124m\"\u001b[39m, \u001b[38;5;241m18\u001b[39m, sae)\n",
      "\u001b[0;31mNameError\u001b[0m: name 'check_feature' is not defined"
     ]
    }
   ],
   "source": [
    "check_feature(21195, \"algo_last\", 18, sae)"
   ]
  },
  {
   "cell_type": "code",
   "execution_count": null,
   "metadata": {},
   "outputs": [],
   "source": []
  },
  {
   "cell_type": "code",
   "execution_count": 26,
   "metadata": {},
   "outputs": [],
   "source": [
    "from micrlhf.utils.vector_storage import load_vector\n",
    "\n",
    "task = \"en_es\"\n",
    "layer = 18\n",
    "\n",
    "tv = load_vector(f\"task_vectors/{task}:{layer}.npz\")"
   ]
  },
  {
   "cell_type": "code",
   "execution_count": 28,
   "metadata": {},
   "outputs": [],
   "source": [
    "from micrlhf.utils.ito import grad_pursuit\n",
    "from micrlhf.utils.load_sae import get_sae\n",
    "\n",
    "sae = get_sae(18, 4)\n",
    "\n",
    "w, r = grad_pursuit(tv, sae[\"W_dec\"], 20, pos_only=True)"
   ]
  },
  {
   "cell_type": "code",
   "execution_count": 29,
   "metadata": {},
   "outputs": [
    {
     "data": {
      "text/html": [
       "<div id=\"output_5baa76cb48ad4536952e1bacc6cf1be1\"><script> /* penzai.treescope rendering of a Python object (compressed) */ (()=>{ let observer; let lastStep = new Promise((resolve, reject) => { observer = new IntersectionObserver((entries) => { for (const entry of entries) { if (entry.isIntersecting) { resolve(); observer.disconnect(); return; } } }, {rootMargin: \"1000px\"}); }); window.treescope_decompress_enqueue = (encoded, destId) => { const previous = lastStep; const destElt = document.getElementById(destId); lastStep = (async () => { await previous; let blob = new Blob([ Uint8Array.from(atob(encoded), (m) => m.codePointAt(0)) ]); let reader = blob.stream().pipeThrough( new DecompressionStream(\"deflate\") ).pipeThrough( new TextDecoderStream(\"utf-8\") ).getReader(); let parts = []; while (true) { let step = await reader.read(); if (step.done) { break; } parts.push(step.value); } let newElt = document.createElement(\"div\"); newElt.innerHTML = parts.join(\"\"); destElt.parentNode.replaceChild(newElt, destElt); for (let oldScript of newElt.querySelectorAll(\"script\")) { let newScript = document.createElement(\"script\"); newScript.type = oldScript.type; newScript.textContent = oldScript.textContent; oldScript.parentNode.replaceChild(newScript, oldScript); } })(); requestAnimationFrame(() => { observer.observe(destElt); }); } })(); </script><div id=\"compress_html_9f2707ce2758449380023db085f355d0\"><script>window.treescope_decompress_enqueue(\"eNrVWQtTIrkW/iuZ3qoRRkHeCA7WbZCXIzqKMzrublGhO90daZI2HUDc8r/fkzTIU2dmr3fuXq0SOn0e33nknJP4MZRTnxwlpSAktHhAeoJzif5CAQ+ppJyVkSA+lnRMDpHDmUw4eEj9aRkNOeNhgC1Yn3hUkoR+KKNAwIpPQ5nQohNyGsAq4wyW+9gauIKPmJ2wuM9FOWI9RLOnvg8EII/a0isjh0ogY5IweYiGWLiUJXziyDLKWJ7SwUjCI9T1YCWdzB+ip4/7kTkfQ0vQQB4h6qDYhDKbTxYWokqlggACcUCAHQdbNynQX0+HG8vJXkCYTZlrWsozIZD9/ud3yVqY2b4SyUa+v4XaJbK35v0Kis2d3pM8jipHAHL/AzrlfABBEEh6BGlKxm2SRB/2kU8kmvEuserQgPJY9O5dBdncGg3Bock+t6fo/Xv0Tr1JWj4Ow1MIWlI5HFMWxoxVUEYcKVfNdSimAAuQVPfJUEfoCTTLkWD6JTxusVWMWJdzpgyccDGYWQYqQwnIrmFJvVpZltRSiwERYPgQM4skGZ/E4s+mbbxBiYjpI8pmFORtObAeyqRPmCs9SA2U2pYRr8c0slt5gPghWUD3Rkxh/67y0KOOVCZpDvXlCX5/FENsTinI/YiE0mR0iBVFQ+AhiUV+jce3R2QdSjAKvSg2hz/iuDmISuSKn3Hdj8PeCpww4BqRY+IQIYh9RYYBpD0JNxMo8NXic+IDm5h2iU8syYXp+5DoM97lIjhivRAy1Ygf6g0XU/sLJCHuaIHKUPhc2jeCDPmYrOyaJRkv7YTYHKuS7wj+SNTm0JKjwrcKN2ZEhU2JVBzwtGyaJQiYMduQy7TwLanqMBBHSvTTbJ08yFqkbOn1YvFQw4n2+pkqN4KAtyxSg+1nx0DCniJQcXoxVpK7rh+VkZ6u/hKA6SoHK8SXe4iMQfrMFSrt9HNyQKZqRxrCmJceIF7yeSQ3ZjzL7A0BoDHH8YSgH0SN4KNNx0gzVtbrGpK4D4DJQ8VIGYgzUAro2RLddvwx6dFwjtyAlhM1UnuWkD3tJI/7NhE6F3WD+w0X1e+slWqWMqIS+9QCvEkHyHEfVKm6/kITfkKrZL0IHVDbNASl03mzXSdER8jHfeKXy30COU2WUFn653CrvqjjJtKq5c4ac+pwoYsy3Yf7Pled+0WdHmwOsanZxmIQEuyCq9kmd5lxGVtb8nAYO9Iyj7b6QfOULY9YA2jucfQhvsCgWLczzelXEOr0L6OdPzL5vrXzv4S3yvQiyMIvAKniqBSPRKgCGHAKCMQWvTR8O7V6K2hFCb3fwpdy/G20LsxTdXBTS5KGPYeKUPY466n037K1XttKyUxe7aatoUL/Mfwo4usQlVUrM7Te0E9JVfrAsXbPUvX8jbJlqRbNCsOKagv7VgxmeJjU0sGDLtdrOKDZ/Neg9LmAmjyDYnMJShUM9BtJqV/llNDDqoRPsGAwuPTmOTgvl46DrXR2C2EAbQ1Cj2017yTE7GiiHD2zf7aUSCV1BizOQ2V9nMEi4QpsU9W+09m8Tdw9xAVmLkEplEoWLA+aLTyHUTuOllDkwE0oGznwZi5diebcmKfkxCOsB07ycRCCU7/bkX5a+Ssaoj6kdWgi8hDApPkizVvg2KZiZui/ZkdlS5WClWPzTgdGNEGxj7rTYZ/DbHo+kgqWjeZTWI0H053VEYGpE44/W5vMzry5FCRrKKwyGgk/ZmOJy+r9/oQ7Tuawj0NSyO3ZqVKz45pVU/+0L0yT62/Vywn8bTVMs26+9lMdmqY74J/sdr1am3wzzatvtROz067WzIb70G6dejKsdihxs43jm8xpu/Bt3A1G9HMnf5U+uWlffu2MrzuP8vO00ajtXruDK1o9Tnn0+GJ0Urebd6lWf98Zt+3g/lPBu7+m9GLUYU2v5XyR5pdC9UzkzEabDeoF68toxHYv8/dWOJiMnYa/f//g1vmB2z+ZNA/SLXOfmZf5UyFO0pe77mPq0k6ZJ07aPSvWJs27jJvi09FlsTispwuT1k3p3HUDcjWY5ki7/5i3+uK8KbHpXrTPJsc4nIYXo3b75rremJifL4L2N/vL/v6uW7wq3mRlyvn0+d4c50HmqXlWNDsTc+g+XnZ3R7ddUr95yDgF6/Esd9ma5kdV89Nj9S5oBFnauqjVU7ejz7lukTnV03qr0RmadPdgXM94LO0Vd/tfJzd3k5YYHze/1NidU6+7cvfcuvX9Yr5UO5lUD7xSrtNpdrPNW9MdtvN31YuSvGqSVqlerbab2WM3d7n/zZr2zSbE9OunffOiiU3Sqflm67F+7t5Kt1D97J6ft4+rA3qRJ43qTa3asGgq8AQPGORGcFs/Tj+mB12n5khv+om1bNwIW07qbNisnxWqtnn/9WuAZdi9Hdo2pqWM81jKfaF394VgKArn/FutS0VzOD5pZrvX3WyjnrGqF87VbsvnQTPXCCd57N4XDugt6Z75wTWrttrE7ggyur5v1obp64YYdLsP+Uzh+jqcmIAojvTpXsZ2dFrvxN9i+8JUP+2PpORsa5FavN42ahnIWKOC9g8VeTvxHySds43Dv1sEYLP3BxQ4dTEYwgnEg+peRphJYKewx+3n27PnBrYxnEXc9BEqSSpZIsN1K6OpbosV24f0BWdygsOeBacXcOwzP3bkyplnfrp4Tecaz6rKZdejMRaxREJVuwRmEFh9ZxBfXlZK1GWKapSzGUyLRekQEfBYAloXH8mfM+UZAQSGEvvdKhKtEr2jw4ALidmG7L7gA925gulihP6+d5fYlvz5PKesX3duHLw9fdmi+SPT4NAN1Y1ZKBZpWL2BA0uuuEo8IJshUGshkRqUcqnCgSeYSsTwmLpYcgEHchr0ORZ2ciKoJFcwM8cWsiASM1mLgzsMSDFjyd/6joLIKzokEJjnS5ENvvklyxrr0x7KpFIpXRosLGEkiul5d7veJacaC3Cr1yAxCO9vqIGpD8kgOVLE7/SehNmHjbDvT2GaCCXBtsqJ3WXfza4fFncPKpXmlw+rp+P1Ac04+hiVsY+UBSOJ1C1NxdCFq88fjK1CZjUOWPc106o+DyQIED3oSZjZiDQ00sSATKGKexXDOPodgAIDsM9UL7HvLHJxB3FWUy6v7LySX/pSJL6DnjdFxYj5eNi3sb6+Keu/cQPpvK0YS7sHiuIWSlUB1/c6UGo/KwPguxEhPno2I/pYdsLG2cJ47f38JbUrxvNtjlU8SOcIyRfz6UKunyngfAGnD9LZIjT7TCFNjF8f5i3xMrbdPhlH7315eIcfkqYQeIocn2OZzcQyqT1ohckkeu/KwzXvRR97K7JXZ2/jCG1z9cpgbPyCZPo99eeP55Mi/vsp9aMJtjWBSjibwhm70M/iUi5TJAelErZKqWwuRbLpjJP7P0ogGCp+KH1eS4y9f0bypH8medJvlzzRx5//CCf8knI8/7Dp+OVx5aX/6cTiz8303985w9o=\", \"compress_html_9f2707ce2758449380023db085f355d0\");</script><span style=\"color: #aaaaaa; font-family: monospace\">(Loading...)</span></div></div>"
      ],
      "text/plain": [
       "<IPython.core.display.HTML object>"
      ]
     },
     "metadata": {},
     "output_type": "display_data"
    },
    {
     "data": {
      "text/html": [
       "<div id=\"compress_html_6378c7ec202e4927940296471e9ccd92\"><script>window.treescope_decompress_enqueue(\"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\", \"compress_html_6378c7ec202e4927940296471e9ccd92\");</script></div>"
      ],
      "text/plain": [
       "<IPython.core.display.HTML object>"
      ]
     },
     "metadata": {},
     "output_type": "display_data"
    },
    {
     "data": {
      "text/html": [
       "<div id=\"output_dest_5baa76cb48ad4536952e1bacc6cf1be1\"><script> (()=>{ const output = document.getElementById(\"output_5baa76cb48ad4536952e1bacc6cf1be1\"); const dest = document.getElementById(\"output_dest_5baa76cb48ad4536952e1bacc6cf1be1\"); dest.parentNode.replaceChild(output, dest); })(); </script></div>"
      ],
      "text/plain": [
       "[# jax.Array float32(20,) ≈8.3 ±2.9 [≥5.0, ≤1.8e+01] nonzero:20\n",
       "   Array([17.723856 , 11.587944 , 11.514933 , 10.496384 , 10.314079 ,\n",
       "           9.238261 ,  9.234932 ,  8.850632 ,  7.3965535,  7.2235093,\n",
       "           7.202634 ,  7.1291437,  6.861174 ,  6.529453 ,  6.5268745,\n",
       "           6.065353 ,  6.048298 ,  5.570082 ,  5.558632 ,  4.9990907],      dtype=float32)\n",
       " ,\n",
       " # jax.Array int32(20,) [≥1_065, ≤48_437] nonzero:20\n",
       "   Array([ 1065, 24363, 11831, 46849, 44525, 14577, 48437, 47882, 33953,\n",
       "          34138, 24549, 28188, 39179, 28517, 43484, 35202, 33045, 48299,\n",
       "           8787, 33039], dtype=int32)\n",
       " ]"
      ]
     },
     "execution_count": 29,
     "metadata": {},
     "output_type": "execute_result"
    }
   ],
   "source": [
    "jax.lax.top_k(w, 20)"
   ]
  }
 ],
 "metadata": {
  "kernelspec": {
   "display_name": "micrlhf-progress-_SD4q1c9-py3.12",
   "language": "python",
   "name": "python3"
  },
  "language_info": {
   "codemirror_mode": {
    "name": "ipython",
    "version": 3
   },
   "file_extension": ".py",
   "mimetype": "text/x-python",
   "name": "python",
   "nbconvert_exporter": "python",
   "pygments_lexer": "ipython3",
   "version": "3.12.3"
  }
 },
 "nbformat": 4,
 "nbformat_minor": 2
}
