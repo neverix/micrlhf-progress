{
 "cells": [
  {
   "cell_type": "code",
   "execution_count": 1,
   "metadata": {},
   "outputs": [],
   "source": [
    "import os\n",
    "if \"models\" not in os.listdir(\".\"):\n",
    "    os.chdir(\"..\")\n"
   ]
  },
  {
   "cell_type": "code",
   "execution_count": 2,
   "metadata": {},
   "outputs": [],
   "source": [
    "from penzai import pz\n",
    "import json\n",
    "\n",
    "from matplotlib import pyplot as plt\n",
    "from tqdm.auto import tqdm, trange\n",
    "import jax.numpy as jnp\n",
    "import numpy as np\n",
    "import random\n",
    "from penzai.data_effects.side_output import SideOutputValue\n",
    "from micrlhf.utils.activation_manipulation import add_vector\n"
   ]
  },
  {
   "cell_type": "code",
   "execution_count": 3,
   "metadata": {},
   "outputs": [],
   "source": [
    "from micrlhf.llama import LlamaTransformer\n",
    "llama = LlamaTransformer.from_pretrained(\"models/gemma-2-2b-it.gguf\",\n",
    "                                         from_type=\"gemma2\",\n",
    "                                         load_eager=True\n",
    "                                         )"
   ]
  },
  {
   "cell_type": "code",
   "execution_count": 4,
   "metadata": {},
   "outputs": [],
   "source": [
    "from transformers import AutoTokenizer\n",
    "import jax\n",
    "tokenizer = AutoTokenizer.from_pretrained(\"alpindale/gemma-2b\")\n",
    "tokenizer.padding_side = \"right\""
   ]
  },
  {
   "cell_type": "code",
   "execution_count": null,
   "metadata": {},
   "outputs": [],
   "source": [
    "from sprint.task_vector_utils import load_tasks, ICLDataset, ICLSequence\n",
    "tasks = load_tasks()"
   ]
  },
  {
   "cell_type": "code",
   "execution_count": 6,
   "metadata": {},
   "outputs": [],
   "source": [
    "import json, numpy as np\n",
    "\n",
    "# with open(\"cleanup_results_gemma_2_algo.jsonl\", \"r\") as f:\n",
    "#     cleanup_results = [json.loads(line) for line in f][18:]\n",
    "\n",
    "\n",
    "# with open(\"cleanup_results_gemma_2_all.jsonl\", \"r\") as f:\n",
    "#     tmp = [json.loads(line) for line in f]\n",
    "#     tmp = [x for x in tmp if not x[\"task\"].startswith(\"algo\")]\n",
    "\n",
    "#     cleanup_results += tmp\n",
    "\n",
    "with open(\"data/cleanup_results_gemma_2_post.jsonl\", \"r\") as f:\n",
    "    cleanup_results = [json.loads(line) for line in f]"
   ]
  },
  {
   "cell_type": "code",
   "execution_count": 7,
   "metadata": {},
   "outputs": [],
   "source": [
    "# layers = [14, 16, 18, 20, 22, 24]\n",
    "layers = [18]"
   ]
  },
  {
   "cell_type": "code",
   "execution_count": 8,
   "metadata": {},
   "outputs": [],
   "source": [
    "from micrlhf.utils.load_sae import sae_encode, get_dm_res_sae\n",
    "\n",
    "thresholds = {\n",
    "    layer: get_dm_res_sae(layer, load_65k=True).get(\"threshold\", 0) for layer in layers\n",
    "}\n"
   ]
  },
  {
   "cell_type": "code",
   "execution_count": null,
   "metadata": {},
   "outputs": [],
   "source": [
    "task = \"antonyms\"\n",
    "task_results = [result for result in cleanup_results if result[\"layer\"] in layers and result[\"task\"] == task]   \n",
    "\n",
    "print(len(task_results))"
   ]
  },
  {
   "cell_type": "code",
   "execution_count": 10,
   "metadata": {},
   "outputs": [],
   "source": [
    "from micrlhf.llama import LlamaBlock\n",
    "from micrlhf.sampling import sample, jit_wrapper\n",
    "get_resids = llama.select().at_instances_of(LlamaBlock).apply_with_selected_index(lambda i, x:\n",
    "    pz.nn.Sequential([\n",
    "        pz.de.TellIntermediate.from_config(tag=f\"resid_pre_{i}\"),\n",
    "        x\n",
    "    ])\n",
    ")\n",
    "get_resids = pz.de.CollectingSideOutputs.handling(get_resids, tag_predicate=lambda x: x.startswith(\"resid_pre\"))\n",
    "get_resids_call = jit_wrapper.Jitted(get_resids)\n"
   ]
  },
  {
   "cell_type": "code",
   "execution_count": 43,
   "metadata": {},
   "outputs": [],
   "source": [
    "from micrlhf.utils.ito import grad_pursuit\n",
    "from matplotlib import pyplot as plt\n",
    "\n",
    "\n",
    "def tokenized_to_inputs(input_ids, attention_mask):\n",
    "    token_array = jnp.asarray(input_ids)\n",
    "    token_array = jax.device_put(token_array, jax.sharding.NamedSharding(llama.mesh, jax.sharding.PartitionSpec(\"dp\", \"sp\")))\n",
    "    token_array = pz.nx.wrap(token_array, \"batch\", \"seq\").untag(\"batch\").tag(\"batch\")\n",
    "\n",
    "    mask_array = jnp.asarray(attention_mask, dtype=jnp.bool)\n",
    "    mask_array = jax.device_put(mask_array, jax.sharding.NamedSharding(llama.mesh, jax.sharding.PartitionSpec(\"dp\", \"sp\")))\n",
    "    mask_array = pz.nx.wrap(mask_array, \"batch\", \"seq\").untag(\"batch\").tag(\"batch\")\n",
    "\n",
    "    inputs = llama.inputs.from_basic_segments(token_array)\n",
    "    return inputs\n",
    "\n",
    "\n",
    "sep = 3978\n",
    "pad = 0\n",
    "newline = 108"
   ]
  },
  {
   "cell_type": "code",
   "execution_count": 49,
   "metadata": {},
   "outputs": [],
   "source": [
    "from sprint.task_vector_utils import load_tasks, ICLDataset, ICLSequence\n",
    "from sprint.task_vector_utils import ICLRunner, logprob_loss, get_tv, make_act_adder\n",
    "\n",
    "\n",
    "use_65k = True\n",
    "n_few_shots, batch_size, max_seq_len = 20, 16, 256\n",
    "seed = 10\n",
    "prompt = \"<start_of_turn>user\\nFollow the pattern:\\n{}\"\n",
    "os.makedirs(\"data/feature_plots\", exist_ok=True)\n",
    "\n",
    "\n",
    "for r in task_results:\n",
    "    task = r[\"task\"]\n",
    "    layer = r[\"layer\"]\n",
    "    \n",
    "    sae = get_dm_res_sae(layer, load_65k=use_65k)\n",
    "    \n",
    "    pairs = list(tasks[task].items())\n",
    "    n_shot = n_few_shots - 1\n",
    "\n",
    "    runner = ICLRunner(task, pairs, batch_size=batch_size, n_shot=n_shot, max_seq_len=max_seq_len, seed=seed, prompt=prompt)\n",
    "\n",
    "\n",
    "    tokenized = runner.get_tokens([\n",
    "        x[:n_shot] for x in runner.train_pairs\n",
    "    ], tokenizer)\n",
    "\n",
    "    inputs = tokenized_to_inputs(**tokenized)\n",
    "    train_tokens = tokenized[\"input_ids\"]\n",
    "\n",
    "    _, all_resids = get_resids_call(inputs)\n",
    "    \n",
    "    resids = all_resids[layer].value.unwrap(\n",
    "        \"batch\", \"seq\", \"embedding\"\n",
    "    )\n",
    "    \n",
    "    prompt_length = len(tokenizer.encode(prompt[:-2]))\n",
    "    masks = [\n",
    "        (\"prompt\", jnp.zeros_like(train_tokens).at[:, :prompt_length].set(1).astype(bool)),\n",
    "        (\"input\", jnp.roll(train_tokens == sep, -1, axis=-1).at[:, :prompt_length].set(False)),\n",
    "        (\"arrow\", jnp.array(train_tokens == sep).at[:, :prompt_length].set(False)), \n",
    "        (\"output\", jnp.roll(train_tokens == newline, -1, axis=-1).at[:, :prompt_length].set(False)),\n",
    "        (\"newline\", jnp.array(train_tokens == newline).at[:, :prompt_length].set(False)),\n",
    "    ]\n",
    "    \n",
    "    tv = get_tv(resids, train_tokens, shift = 0, sep=sep)\n",
    "    weights, _ = grad_pursuit(tv, sae[\"W_dec\"], 20)\n",
    "\n",
    "    i = np.argwhere(weights > thresholds[layer]).flatten()\n",
    "    w = weights[i]\n",
    "\n",
    "    idx = np.argsort(w)[::-1]\n",
    "\n",
    "    i = i[idx]\n",
    "    w = w[idx]\n",
    "    indices, weights = i, w\n",
    "    \n",
    "    _, encodings, _ = sae_encode(sae, resids)\n",
    "    \n",
    "    for feature, feature_weight in zip(indices, weights):\n",
    "        enc = encodings[..., feature]\n",
    "        for mask_name, mask in masks:\n",
    "            if (enc * mask).sum() == 0:\n",
    "                continue\n",
    "            if mask_name == \"prompt\":\n",
    "                continue\n",
    "            all_masked_values = []\n",
    "            for batch_idx in range(enc.shape[0]):\n",
    "                m = mask[batch_idx]\n",
    "                e = enc[batch_idx] * m\n",
    "                mask_segment = 0\n",
    "                prev = False\n",
    "                mask_segments = []\n",
    "                for v in m:\n",
    "                    if prev and not v:\n",
    "                        mask_segment += 1\n",
    "                    prev = v\n",
    "                    mask_segments.append(mask_segment)\n",
    "                mask_segments = jnp.array(mask_segments)\n",
    "                max_mask_segment = mask_segment\n",
    "                masked_values = []\n",
    "                for i in range(max_mask_segment + 1):\n",
    "                    masked_values.append(e[mask_segments == i].mean() / m[mask_segments == i].mean())\n",
    "                all_masked_values.append(masked_values)\n",
    "            masked_values = jnp.mean(jnp.asarray(all_masked_values), axis=0)\n",
    "            plt.title(f\"Feature {feature} with weight {feature_weight}; mask {mask_name}\")\n",
    "            plt.plot(masked_values)\n",
    "            plt.savefig(\"data/feature_plots/{}_{}_{}_{}.png\".format(task, layer, feature, mask_name))\n",
    "            plt.xlabel(\"Shot #\")\n",
    "            plt.ylabel(\"Feature value averages over mask\")\n",
    "            plt.close()"
   ]
  },
  {
   "cell_type": "code",
   "execution_count": null,
   "metadata": {},
   "outputs": [],
   "source": []
  }
 ],
 "metadata": {
  "kernelspec": {
   "display_name": "micrlhf-progress-_SD4q1c9-py3.10",
   "language": "python",
   "name": "python3"
  },
  "language_info": {
   "codemirror_mode": {
    "name": "ipython",
    "version": 3
   },
   "file_extension": ".py",
   "mimetype": "text/x-python",
   "name": "python",
   "nbconvert_exporter": "python",
   "pygments_lexer": "ipython3",
   "version": "3.10.12"
  }
 },
 "nbformat": 4,
 "nbformat_minor": 2
}
