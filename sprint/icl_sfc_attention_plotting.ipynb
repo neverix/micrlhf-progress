{
 "cells": [
  {
   "cell_type": "code",
   "execution_count": 1,
   "metadata": {},
   "outputs": [],
   "source": [
    "import os\n",
    "if \"models\" not in os.listdir(\".\"):\n",
    "    os.chdir(\"../..\")"
   ]
  },
  {
   "cell_type": "code",
   "execution_count": 2,
   "metadata": {},
   "outputs": [],
   "source": [
    "%load_ext autoreload\n",
    "%autoreload 2\n",
    "import penzai\n",
    "import jax_smi\n",
    "jax_smi.initialise_tracking()\n",
    "from penzai import pz\n",
    "pz.ts.register_as_default()\n",
    "pz.ts.register_autovisualize_magic()\n",
    "pz.enable_interactive_context()"
   ]
  },
  {
   "cell_type": "code",
   "execution_count": 3,
   "metadata": {},
   "outputs": [],
   "source": [
    "from micrlhf.llama import LlamaTransformer\n",
    "llama = LlamaTransformer.from_pretrained(\"models/gemma-2b-it.gguf\", from_type=\"gemma\", load_eager=True, device_map=\"tpu:0\")"
   ]
  },
  {
   "cell_type": "code",
   "execution_count": 4,
   "metadata": {},
   "outputs": [],
   "source": [
    "from transformers import AutoTokenizer\n",
    "tokenizer = AutoTokenizer.from_pretrained(\"alpindale/gemma-2b\")\n",
    "tokenizer.padding_side = \"right\""
   ]
  },
  {
   "cell_type": "code",
   "execution_count": 5,
   "metadata": {},
   "outputs": [],
   "source": [
    "from sprint.icl_sfc_utils import Circuitizer"
   ]
  },
  {
   "cell_type": "code",
   "execution_count": 6,
   "metadata": {},
   "outputs": [
    {
     "name": "stderr",
     "output_type": "stream",
     "text": [
      "fatal: destination path 'data/itv' already exists and is not an empty directory.\n"
     ]
    }
   ],
   "source": [
    "from sprint.task_vector_utils import load_tasks, ICLRunner\n",
    "tasks = load_tasks()"
   ]
  },
  {
   "cell_type": "code",
   "execution_count": 7,
   "metadata": {},
   "outputs": [],
   "source": [
    "task_names = [\"en_es\", \"antonyms\", \"person_profession\"]\n",
    "task_name = task_names[0]\n",
    "task_name = \"antonyms\""
   ]
  },
  {
   "cell_type": "code",
   "execution_count": 8,
   "metadata": {},
   "outputs": [
    {
     "name": "stdout",
     "output_type": "stream",
     "text": [
      "162\n",
      "162\n",
      "Setting up masks...\n",
      "Running metrics...\n",
      "Setting up RMS...\n"
     ]
    },
    {
     "data": {
      "application/vnd.jupyter.widget-view+json": {
       "model_id": "708e5897ab0c480b89972a42aa6ff3c8",
       "version_major": 2,
       "version_minor": 0
      },
      "text/plain": [
       "  0%|          | 0/18 [00:00<?, ?it/s]"
      ]
     },
     "metadata": {},
     "output_type": "display_data"
    },
    {
     "name": "stdout",
     "output_type": "stream",
     "text": [
      "Loading SAEs...\n"
     ]
    },
    {
     "data": {
      "application/vnd.jupyter.widget-view+json": {
       "model_id": "6cc76ffd866749b8a26ba65bdd6b49bf",
       "version_major": 2,
       "version_minor": 0
      },
      "text/plain": [
       "  0%|          | 0/6 [00:00<?, ?it/s]"
      ]
     },
     "metadata": {},
     "output_type": "display_data"
    },
    {
     "name": "stdout",
     "output_type": "stream",
     "text": [
      "Running node IEs...\n"
     ]
    },
    {
     "data": {
      "application/vnd.jupyter.widget-view+json": {
       "model_id": "349f2c78e6214993aa493f4ac6be2045",
       "version_major": 2,
       "version_minor": 0
      },
      "text/plain": [
       "  0%|          | 0/6 [00:00<?, ?it/s]"
      ]
     },
     "metadata": {},
     "output_type": "display_data"
    },
    {
     "data": {
      "application/vnd.jupyter.widget-view+json": {
       "model_id": "15478f83dc4240f2b7e0f865f244ecb7",
       "version_major": 2,
       "version_minor": 0
      },
      "text/plain": [
       "  0%|          | 0/6 [00:00<?, ?it/s]"
      ]
     },
     "metadata": {},
     "output_type": "display_data"
    },
    {
     "data": {
      "application/vnd.jupyter.widget-view+json": {
       "model_id": "ccace18db42a4818b025ddc0f2b9e599",
       "version_major": 2,
       "version_minor": 0
      },
      "text/plain": [
       "  0%|          | 0/5 [00:00<?, ?it/s]"
      ]
     },
     "metadata": {},
     "output_type": "display_data"
    }
   ],
   "source": [
    "def check_if_single_token(token):\n",
    "    return len(tokenizer.tokenize(token)) == 1\n",
    "\n",
    "task = tasks[task_name]\n",
    "\n",
    "print(len(task))\n",
    "\n",
    "# task = {\n",
    "#     k:v for k,v in task.items() if check_if_single_token(k) and check_if_single_token(v)\n",
    "# }\n",
    "\n",
    "print(len(task))\n",
    "\n",
    "pairs = list(task.items())\n",
    "\n",
    "batch_size = 8 \n",
    "n_shot=16\n",
    "if task_name.startswith(\"algo\"):\n",
    "    n_shot = 8\n",
    "max_seq_len = 128\n",
    "seed = 10\n",
    "\n",
    "prompt = \"Follow the pattern:\\n{}\"\n",
    "\n",
    "runner = ICLRunner(task_name, pairs, batch_size=batch_size, n_shot=n_shot, max_seq_len=max  _seq_len, seed=seed, prompt=prompt, use_same_examples=True, use_same_target=False)\n",
    "\n",
    "\n",
    "layers = list(range(11, 17))\n",
    "circuitizer = Circuitizer(llama, tokenizer, runner, layers, prompt)"
   ]
  },
  {
   "cell_type": "code",
   "execution_count": 1,
   "metadata": {},
   "outputs": [
    {
     "ename": "NameError",
     "evalue": "name 'circuitizer' is not defined",
     "output_type": "error",
     "traceback": [
      "\u001b[0;31m---------------------------------------------------------------------------\u001b[0m",
      "\u001b[0;31mNameError\u001b[0m                                 Traceback (most recent call last)",
      "Cell \u001b[0;32mIn[1], line 2\u001b[0m\n\u001b[1;32m      1\u001b[0m layers \u001b[38;5;241m=\u001b[39m [\u001b[38;5;241m10\u001b[39m,\u001b[38;5;241m11\u001b[39m,\u001b[38;5;241m12\u001b[39m]\n\u001b[0;32m----> 2\u001b[0m orig_metric \u001b[38;5;241m=\u001b[39m \u001b[43mcircuitizer\u001b[49m\u001b[38;5;241m.\u001b[39mablated_metric(llama, runner\u001b[38;5;241m=\u001b[39m(runner, tokenizer))\u001b[38;5;241m.\u001b[39mtolist()\n\u001b[1;32m      3\u001b[0m zero_metric \u001b[38;5;241m=\u001b[39m circuitizer\u001b[38;5;241m.\u001b[39mrun_ablated_metrics([\u001b[38;5;241m100000\u001b[39m], layers\u001b[38;5;241m=\u001b[39mlayers, runner\u001b[38;5;241m=\u001b[39m(runner, tokenizer), prompt\u001b[38;5;241m=\u001b[39mprompt)[\u001b[38;5;241m0\u001b[39m][\u001b[38;5;241m0\u001b[39m]\n\u001b[1;32m      5\u001b[0m \u001b[38;5;28mprint\u001b[39m(orig_metric, zero_metric)\n",
      "\u001b[0;31mNameError\u001b[0m: name 'circuitizer' is not defined"
     ]
    }
   ],
   "source": [
    "\n",
    "layers = [10,11,12]\n",
    "orig_metric = circuitizer.ablated_metric(llama, runner=(runner, tokenizer)).tolist()\n",
    "zero_metric = circuitizer.run_ablated_metrics([100000], layers=layers, runner=(runner, tokenizer), prompt=prompt)[0][0]\n",
    "\n",
    "print(orig_metric, zero_metric)"
   ]
  },
  {
   "cell_type": "code",
   "execution_count": 2,
   "metadata": {},
   "outputs": [
    {
     "ename": "NameError",
     "evalue": "name 'circuitizer' is not defined",
     "output_type": "error",
     "traceback": [
      "\u001b[0;31m---------------------------------------------------------------------------\u001b[0m",
      "\u001b[0;31mNameError\u001b[0m                                 Traceback (most recent call last)",
      "Cell \u001b[0;32mIn[2], line 13\u001b[0m\n\u001b[1;32m      9\u001b[0m mean_ablate \u001b[38;5;241m=\u001b[39m \u001b[38;5;28;01mFalse\u001b[39;00m\n\u001b[1;32m     10\u001b[0m average_over_positions \u001b[38;5;241m=\u001b[39m \u001b[38;5;28;01mTrue\u001b[39;00m\n\u001b[0;32m---> 13\u001b[0m ablated_metrics, n_nodes_counts \u001b[38;5;241m=\u001b[39m \u001b[43mcircuitizer\u001b[49m\u001b[38;5;241m.\u001b[39mrun_ablated_metrics(thresholds, inverse\u001b[38;5;241m=\u001b[39minverse, \n\u001b[1;32m     14\u001b[0m                                                                   do_abs\u001b[38;5;241m=\u001b[39mdo_abs, mean_ablate\u001b[38;5;241m=\u001b[39mmean_ablate, \n\u001b[1;32m     15\u001b[0m                                                                   average_over_positions\u001b[38;5;241m=\u001b[39maverage_over_positions,\n\u001b[1;32m     16\u001b[0m                                                                   token_prefix\u001b[38;5;241m=\u001b[39m\u001b[38;5;28;01mNone\u001b[39;00m, layers\u001b[38;5;241m=\u001b[39mlayers)\n\u001b[1;32m     18\u001b[0m faithfullness \u001b[38;5;241m=\u001b[39m np\u001b[38;5;241m.\u001b[39marray(ablated_metrics)\n\u001b[1;32m     19\u001b[0m faithfullness \u001b[38;5;241m=\u001b[39m (faithfullness \u001b[38;5;241m-\u001b[39m zero_metric) \u001b[38;5;241m/\u001b[39m (orig_metric \u001b[38;5;241m-\u001b[39m zero_metric)\n",
      "\u001b[0;31mNameError\u001b[0m: name 'circuitizer' is not defined"
     ]
    }
   ],
   "source": [
    "import numpy as np\n",
    "# thresholds = np.linspace(0, 1e-4, 100)\n",
    "# thresholds = np.linspace(1.4 * 1e-4, 1.45 * 1e-4, 200)\n",
    "thresholds = np.logspace(-4, -1, 150)\n",
    "topks = [4, 6, 12, 16, 24, 32]\n",
    "\n",
    "inverse = False\n",
    "do_abs = False\n",
    "mean_ablate = False\n",
    "average_over_positions = True\n",
    "\n",
    "\n",
    "ablated_metrics, n_nodes_counts = circuitizer.run_ablated_metrics(thresholds, inverse=inverse, \n",
    "                                                                  do_abs=do_abs, mean_ablate=mean_ablate, \n",
    "                                                                  average_over_positions=average_over_positions,\n",
    "                                                                  token_prefix=None, layers=layers)\n",
    "\n",
    "faithfullness = np.array(ablated_metrics)\n",
    "faithfullness = (faithfullness - zero_metric) / (orig_metric - zero_metric)\n",
    "\n",
    "\n",
    "\n",
    "# target_metric = (max(ablated_metrics) - min(ablated_metrics)) * 0.95 + min(ablated_metrics)\n",
    "# target_threshold = [threshold for threshold, metric in reversed(list(zip(thresholds, ablated_metrics))) if metric > target_metric][0]"
   ]
  },
  {
   "cell_type": "code",
   "execution_count": 14,
   "metadata": {},
   "outputs": [
    {
     "data": {
      "text/html": [
       "<script> (()=>{ if (customElements.get('treescope-container') === undefined) { class TreescopeContainer extends HTMLElement { constructor() { super(); this.attachShadow({mode: \"open\"}); this.defns = {}; this.state = {}; } } customElements.define(\"treescope-container\", TreescopeContainer); } if (customElements.get('treescope-run-here') === undefined) { class RunHere extends HTMLElement { constructor() { super() } connectedCallback() { const run = child => { const fn = new Function(child.textContent); child.textContent = \"\"; fn.call(this); this.remove(); }; const child = this.querySelector(\"script\"); if (child) { run(child); } else { new MutationObserver(()=>{ run(this.querySelector(\"script\")); }).observe(this, {childList: true}); } } } customElements.define(\"treescope-run-here\", RunHere); } })(); </script> <treescope-container class=\"treescope_out_76f5300dcb494461a19a2ca37d9ad68b\" ></treescope-container> <treescope-run-here><script type=\"application/octet-stream\"> const root = ( Array.from(document.getElementsByClassName( \"treescope_out_76f5300dcb494461a19a2ca37d9ad68b\")) .filter((elt) => !elt.dataset.setup) )[0]; root.dataset.setup = 1; const msg = document.createElement(\"span\"); msg.style = \"color: #aaaaaa; font-family: monospace; transition: opacity 0.2s; opacity: 0.0;\"; msg.textContent = \"(Loading...)\"; root.state.loadingMsg = msg; root.shadowRoot.appendChild(msg); root.state.chain = new Promise((resolve, reject) => { const observer = new IntersectionObserver((entries) => { for (const entry of entries) { if (entry.isIntersecting) { resolve(); observer.disconnect(); return; } } }, {rootMargin: \"1000px\"}); window.setTimeout(() => { if (root.loadingMsg) { root.loadingMsg.style.opacity = \"1.0\"; } observer.observe(root); }, 0); }); root.state.deferring = false; const _insertNode = (node) => { for (let oldScript of node.querySelectorAll(\"script\")) { let newScript = document.createElement(\"script\"); newScript.type = oldScript.type; newScript.textContent = oldScript.textContent; oldScript.parentNode.replaceChild(newScript, oldScript); } if (root.state.loadingMsg) { root.state.loadingMsg.remove(); root.state.loadingMsg = null; } root.shadowRoot.appendChild(node); }; root.defns.insertContent = ((contentNode, compressed) => { if (compressed) { root.state.deferring = true; } if (root.state.deferring) { root.state.chain = (async () => { await root.state.chain; if (compressed) { const encoded = contentNode.textContent; const blob = new Blob([ Uint8Array.from(atob(encoded), (m) => m.codePointAt(0)) ]); const reader = blob.stream().pipeThrough( new DecompressionStream(\"deflate\") ).pipeThrough( new TextDecoderStream(\"utf-8\") ).getReader(); const parts = []; while (true) { const step = await reader.read(); if (step.done) { break; } parts.push(step.value); } const tpl = document.createElement('template'); tpl.innerHTML = parts.join(\"\"); _insertNode(tpl.content); } else { _insertNode(contentNode.content); } })(); } else { _insertNode(contentNode.content); } }); </script></treescope-run-here><div style=\"display:none\"> <script type=\"application/octet-stream\" >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</script> <treescope-run-here><script type=\"application/octet-stream\"> const root = ( Array.from(document.getElementsByClassName( \"treescope_out_76f5300dcb494461a19a2ca37d9ad68b\")) .filter((elt) => !elt.dataset['step0']) )[0]; root.dataset['step0'] = 1; root.defns.insertContent( this.parentNode.querySelector('script[type=\"application/octet-stream\"]'), true ); this.parentNode.remove(); </script></treescope-run-here> </div>"
      ],
      "text/plain": [
       "<IPython.core.display.HTML object>"
      ]
     },
     "metadata": {},
     "output_type": "display_data"
    },
    {
     "data": {
      "text/html": [
       "<treescope-run-here><script type=\"application/octet-stream\"> const root = ( Array.from(document.getElementsByClassName( \"treescope_out_76f5300dcb494461a19a2ca37d9ad68b\")) .filter((elt) => !elt.dataset.stolen) )[0]; root.dataset.stolen = 1; this.parentNode.replaceChild(root, this); </script></treescope-run-here>"
      ],
      "text/plain": [
       "[6734,\n",
       " 6619,\n",
       " 6507,\n",
       " 6394,\n",
       " 6285,\n",
       " 6173,\n",
       " 6058,\n",
       " 5962,\n",
       " 5861,\n",
       " 5749,\n",
       " 5637,\n",
       " 5523,\n",
       " 5446,\n",
       " 5350,\n",
       " 5258,\n",
       " 5144,\n",
       " 5032,\n",
       " 4954,\n",
       " 4854,\n",
       " 4743,\n",
       " 4646,\n",
       " 4526,\n",
       " 4414,\n",
       " 4306,\n",
       " 4209,\n",
       " 4101,\n",
       " 4002,\n",
       " 3897,\n",
       " 3790,\n",
       " 3694,\n",
       " 3605,\n",
       " 3519,\n",
       " 3431,\n",
       " 3355,\n",
       " 3267,\n",
       " 3177,\n",
       " 3084,\n",
       " 2982,\n",
       " 2885,\n",
       " 2808,\n",
       " 2707,\n",
       " 2615,\n",
       " 2533,\n",
       " 2453,\n",
       " 2363,\n",
       " 2299,\n",
       " 2231,\n",
       " 2153,\n",
       " 2083,\n",
       " 2013,\n",
       " 1935,\n",
       " 1870,\n",
       " 1805,\n",
       " 1724,\n",
       " 1654,\n",
       " 1606,\n",
       " 1547,\n",
       " 1488,\n",
       " 1439,\n",
       " 1374,\n",
       " 1325,\n",
       " 1268,\n",
       " 1210,\n",
       " 1161,\n",
       " 1115,\n",
       " 1072,\n",
       " 1032,\n",
       " 988,\n",
       " 943,\n",
       " 907,\n",
       " 873,\n",
       " 835,\n",
       " 798,\n",
       " 761,\n",
       " 724,\n",
       " 712,\n",
       " 677,\n",
       " 654,\n",
       " 627,\n",
       " 596,\n",
       " 569,\n",
       " 542,\n",
       " 516,\n",
       " 492,\n",
       " 468,\n",
       " 443,\n",
       " 420,\n",
       " 398,\n",
       " 375,\n",
       " 351,\n",
       " 331,\n",
       " 313,\n",
       " 298,\n",
       " 281,\n",
       " 256,\n",
       " 246,\n",
       " 234,\n",
       " 227,\n",
       " 219,\n",
       " 211,\n",
       " 203,\n",
       " 194,\n",
       " 186,\n",
       " 175,\n",
       " 167,\n",
       " 159,\n",
       " 151,\n",
       " 144,\n",
       " 137,\n",
       " 129,\n",
       " 121,\n",
       " 116,\n",
       " 104,\n",
       " 98,\n",
       " 91,\n",
       " 83,\n",
       " 79,\n",
       " 75,\n",
       " 69,\n",
       " 66,\n",
       " 62,\n",
       " 59,\n",
       " 58,\n",
       " 53,\n",
       " 51,\n",
       " 50,\n",
       " 43,\n",
       " 40,\n",
       " 40,\n",
       " 38,\n",
       " 35,\n",
       " 34,\n",
       " 32,\n",
       " 29,\n",
       " 28,\n",
       " 23,\n",
       " 22,\n",
       " 20,\n",
       " 18,\n",
       " 13,\n",
       " 12,\n",
       " 10,\n",
       " 10,\n",
       " 8,\n",
       " 8,\n",
       " 7,\n",
       " 4,\n",
       " 3,\n",
       " 2,\n",
       " 2]"
      ]
     },
     "execution_count": 14,
     "metadata": {},
     "output_type": "execute_result"
    }
   ],
   "source": [
    "n_nodes_counts"
   ]
  },
  {
   "cell_type": "code",
   "execution_count": 20,
   "metadata": {},
   "outputs": [
    {
     "data": {
      "text/html": [
       "<script> (()=>{ if (customElements.get('treescope-container') === undefined) { class TreescopeContainer extends HTMLElement { constructor() { super(); this.attachShadow({mode: \"open\"}); this.defns = {}; this.state = {}; } } customElements.define(\"treescope-container\", TreescopeContainer); } if (customElements.get('treescope-run-here') === undefined) { class RunHere extends HTMLElement { constructor() { super() } connectedCallback() { const run = child => { const fn = new Function(child.textContent); child.textContent = \"\"; fn.call(this); this.remove(); }; const child = this.querySelector(\"script\"); if (child) { run(child); } else { new MutationObserver(()=>{ run(this.querySelector(\"script\")); }).observe(this, {childList: true}); } } } customElements.define(\"treescope-run-here\", RunHere); } })(); </script> <treescope-container class=\"treescope_out_9f8213d602474ff6ae5b9b36c81fe798\" ></treescope-container> <treescope-run-here><script type=\"application/octet-stream\"> const root = ( Array.from(document.getElementsByClassName( \"treescope_out_9f8213d602474ff6ae5b9b36c81fe798\")) .filter((elt) => !elt.dataset.setup) )[0]; root.dataset.setup = 1; const msg = document.createElement(\"span\"); msg.style = \"color: #aaaaaa; font-family: monospace; transition: opacity 0.2s; opacity: 0.0;\"; msg.textContent = \"(Loading...)\"; root.state.loadingMsg = msg; root.shadowRoot.appendChild(msg); root.state.chain = new Promise((resolve, reject) => { const observer = new IntersectionObserver((entries) => { for (const entry of entries) { if (entry.isIntersecting) { resolve(); observer.disconnect(); return; } } }, {rootMargin: \"1000px\"}); window.setTimeout(() => { if (root.loadingMsg) { root.loadingMsg.style.opacity = \"1.0\"; } observer.observe(root); }, 0); }); root.state.deferring = false; const _insertNode = (node) => { for (let oldScript of node.querySelectorAll(\"script\")) { let newScript = document.createElement(\"script\"); newScript.type = oldScript.type; newScript.textContent = oldScript.textContent; oldScript.parentNode.replaceChild(newScript, oldScript); } if (root.state.loadingMsg) { root.state.loadingMsg.remove(); root.state.loadingMsg = null; } root.shadowRoot.appendChild(node); }; root.defns.insertContent = ((contentNode, compressed) => { if (compressed) { root.state.deferring = true; } if (root.state.deferring) { root.state.chain = (async () => { await root.state.chain; if (compressed) { const encoded = contentNode.textContent; const blob = new Blob([ Uint8Array.from(atob(encoded), (m) => m.codePointAt(0)) ]); const reader = blob.stream().pipeThrough( new DecompressionStream(\"deflate\") ).pipeThrough( new TextDecoderStream(\"utf-8\") ).getReader(); const parts = []; while (true) { const step = await reader.read(); if (step.done) { break; } parts.push(step.value); } const tpl = document.createElement('template'); tpl.innerHTML = parts.join(\"\"); _insertNode(tpl.content); } else { _insertNode(contentNode.content); } })(); } else { _insertNode(contentNode.content); } }); </script></treescope-run-here><div style=\"display:none\"> <script type=\"application/octet-stream\" >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</script> <treescope-run-here><script type=\"application/octet-stream\"> const root = ( Array.from(document.getElementsByClassName( \"treescope_out_9f8213d602474ff6ae5b9b36c81fe798\")) .filter((elt) => !elt.dataset['step0']) )[0]; root.dataset['step0'] = 1; root.defns.insertContent( this.parentNode.querySelector('script[type=\"application/octet-stream\"]'), true ); this.parentNode.remove(); </script></treescope-run-here> </div>"
      ],
      "text/plain": [
       "<IPython.core.display.HTML object>"
      ]
     },
     "metadata": {},
     "output_type": "display_data"
    },
    {
     "data": {
      "text/html": [
       "<treescope-run-here><script type=\"application/octet-stream\"> const root = ( Array.from(document.getElementsByClassName( \"treescope_out_9f8213d602474ff6ae5b9b36c81fe798\")) .filter((elt) => !elt.dataset.stolen) )[0]; root.dataset.stolen = 1; this.parentNode.replaceChild(root, this); </script></treescope-run-here>"
      ],
      "text/plain": [
       "[6734,\n",
       " 6619,\n",
       " 6507,\n",
       " 6394,\n",
       " 6285,\n",
       " 6173,\n",
       " 6058,\n",
       " 5962,\n",
       " 5861,\n",
       " 5749,\n",
       " 5637,\n",
       " 5523,\n",
       " 5446,\n",
       " 5350,\n",
       " 5258,\n",
       " 5144,\n",
       " 5032,\n",
       " 4954,\n",
       " 4854,\n",
       " 4743,\n",
       " 4646,\n",
       " 4526,\n",
       " 4414,\n",
       " 4306,\n",
       " 4209,\n",
       " 4101,\n",
       " 4002,\n",
       " 3897,\n",
       " 3790,\n",
       " 3694,\n",
       " 3605,\n",
       " 3519,\n",
       " 3431,\n",
       " 3355,\n",
       " 3267,\n",
       " 3177,\n",
       " 3084,\n",
       " 2982,\n",
       " 2885,\n",
       " 2808,\n",
       " 2707,\n",
       " 2615,\n",
       " 2533,\n",
       " 2453,\n",
       " 2363,\n",
       " 2299,\n",
       " 2231,\n",
       " 2153,\n",
       " 2083,\n",
       " 2013,\n",
       " 1935,\n",
       " 1870,\n",
       " 1805,\n",
       " 1724,\n",
       " 1654,\n",
       " 1606,\n",
       " 1547,\n",
       " 1488,\n",
       " 1439,\n",
       " 1374,\n",
       " 1325,\n",
       " 1268,\n",
       " 1210,\n",
       " 1161,\n",
       " 1115,\n",
       " 1072,\n",
       " 1032,\n",
       " 988,\n",
       " 943,\n",
       " 907,\n",
       " 873,\n",
       " 835,\n",
       " 798,\n",
       " 761,\n",
       " 724,\n",
       " 712,\n",
       " 677,\n",
       " 654,\n",
       " 627,\n",
       " 596,\n",
       " 569,\n",
       " 542,\n",
       " 516,\n",
       " 492,\n",
       " 468,\n",
       " 443,\n",
       " 420,\n",
       " 398,\n",
       " 375,\n",
       " 351,\n",
       " 331,\n",
       " 313,\n",
       " 298,\n",
       " 281,\n",
       " 256,\n",
       " 246,\n",
       " 234,\n",
       " 227,\n",
       " 219,\n",
       " 211,\n",
       " 203,\n",
       " 194,\n",
       " 186,\n",
       " 175,\n",
       " 167,\n",
       " 159,\n",
       " 151,\n",
       " 144,\n",
       " 137,\n",
       " 129,\n",
       " 121,\n",
       " 116,\n",
       " 104,\n",
       " 98,\n",
       " 91,\n",
       " 83,\n",
       " 79,\n",
       " 75,\n",
       " 69,\n",
       " 66,\n",
       " 62,\n",
       " 59,\n",
       " 58,\n",
       " 53,\n",
       " 51,\n",
       " 50,\n",
       " 43,\n",
       " 40,\n",
       " 40,\n",
       " 38,\n",
       " 35,\n",
       " 34,\n",
       " 32,\n",
       " 29,\n",
       " 28,\n",
       " 23,\n",
       " 22,\n",
       " 20,\n",
       " 18,\n",
       " 13,\n",
       " 12,\n",
       " 10,\n",
       " 10,\n",
       " 8,\n",
       " 8,\n",
       " 7,\n",
       " 4,\n",
       " 3,\n",
       " 2,\n",
       " 2]"
      ]
     },
     "execution_count": 20,
     "metadata": {},
     "output_type": "execute_result"
    }
   ],
   "source": [
    "n_nodes_counts"
   ]
  },
  {
   "cell_type": "code",
   "execution_count": 24,
   "metadata": {},
   "outputs": [
    {
     "data": {
      "application/vnd.plotly.v1+json": {
       "config": {
        "plotlyServerURL": "https://plot.ly"
       },
       "data": [
        {
         "hovertemplate": "x=%{x}<br>y=%{y}<extra></extra>",
         "legendgroup": "",
         "line": {
          "color": "#636efa",
          "dash": "solid"
         },
         "marker": {
          "symbol": "circle"
         },
         "mode": "lines",
         "name": "",
         "orientation": "v",
         "showlegend": false,
         "type": "scatter",
         "x": [
          6734,
          6619,
          6507,
          6394,
          6285,
          6173,
          6058,
          5962,
          5861,
          5749,
          5637,
          5523,
          5446,
          5350,
          5258,
          5144,
          5032,
          4954,
          4854,
          4743,
          4646,
          4526,
          4414,
          4306,
          4209,
          4101,
          4002,
          3897,
          3790,
          3694,
          3605,
          3519,
          3431,
          3355,
          3267,
          3177,
          3084,
          2982,
          2885,
          2808,
          2707,
          2615,
          2533,
          2453,
          2363,
          2299,
          2231,
          2153,
          2083,
          2013,
          1935,
          1870,
          1805,
          1724,
          1654,
          1606,
          1547,
          1488,
          1439,
          1374,
          1325,
          1268,
          1210,
          1161,
          1115,
          1072,
          1032,
          988,
          943,
          907,
          873,
          835,
          798,
          761,
          724,
          712,
          677,
          654,
          627,
          596,
          569,
          542,
          516,
          492,
          468,
          443,
          420,
          398,
          375,
          351,
          331,
          313,
          298,
          281,
          256,
          246,
          234,
          227,
          219,
          211,
          203,
          194,
          186,
          175,
          167,
          159,
          151,
          144,
          137,
          129,
          121,
          116,
          104,
          98,
          91,
          83,
          79,
          75,
          69,
          66,
          62,
          59,
          58,
          53,
          51,
          50,
          43,
          40,
          40,
          38,
          35,
          34,
          32,
          29,
          28,
          23,
          22,
          20,
          18,
          13,
          12,
          10,
          10,
          8,
          8,
          7,
          4,
          3,
          2,
          2
         ],
         "xaxis": "x",
         "y": [
          1.121676891615542,
          1.1206543967280163,
          1.1186094069529653,
          1.130879345603272,
          1.1226993865030674,
          1.1175869120654396,
          1.1237218813905931,
          1.1247443762781186,
          1.1114519427402862,
          1.1083844580777096,
          1.1063394683026584,
          1.112474437627812,
          1.1175869120654396,
          1.114519427402863,
          1.112474437627812,
          1.1083844580777096,
          1.105316973415133,
          1.1114519427402862,
          1.107361963190184,
          1.0950920245398772,
          1.0623721881390593,
          1.056237218813906,
          1.0623721881390593,
          1.0633946830265848,
          1.0705521472392638,
          1.0613496932515338,
          1.0797546012269938,
          1.0531697341513293,
          1.0501022494887526,
          1.0511247443762781,
          1.0572597137014315,
          1.0521472392638036,
          1.0521472392638036,
          1.0460122699386503,
          1.0388548057259714,
          1.034764826175869,
          1.0235173824130879,
          1.016359918200409,
          1.0102249488752557,
          1.0102249488752557,
          1.0245398773006136,
          1.0173824130879345,
          1.0224948875255624,
          1.0194274028629857,
          1.016359918200409,
          1.0296523517382412,
          1.0521472392638036,
          1.039877300613497,
          1.0357873210633948,
          1.0245398773006136,
          1.0286298568507157,
          1.0265848670756645,
          1.0122699386503067,
          1.039877300613497,
          1.0122699386503067,
          0.9550102249488752,
          0.9652351738241309,
          0.9550102249488752,
          0.9591002044989775,
          0.950920245398773,
          0.9386503067484663,
          0.9366053169734151,
          0.918200408997955,
          0.918200408997955,
          0.9243353783231084,
          0.9120654396728016,
          0.9120654396728016,
          0.9038854805725971,
          0.9161554192229039,
          0.9161554192229039,
          0.8916155419222904,
          0.9100204498977505,
          0.9120654396728016,
          0.8977505112474438,
          0.8670756646216768,
          0.8588957055214724,
          0.8629856850715747,
          0.8343558282208589,
          0.8629856850715747,
          0.8568507157464212,
          0.8384458077709611,
          0.8159509202453987,
          0.8016359918200409,
          0.7709611451942741,
          0.7361963190184049,
          0.6666666666666666,
          0.6748466257668712,
          0.6380368098159509,
          0.65439672801636,
          0.6503067484662577,
          0.6257668711656442,
          0.621676891615542,
          0.621676891615542,
          0.5971370143149284,
          0.588957055214724,
          0.5807770961145194,
          0.5725971370143149,
          0.6462167689161554,
          0.6380368098159509,
          0.621676891615542,
          0.5398773006134969,
          0.5276073619631901,
          0.5153374233128835,
          0.5112474437627812,
          0.5194274028629857,
          0.4785276073619632,
          0.4621676891615542,
          0.4703476482617587,
          0.4376278118609407,
          0.4621676891615542,
          0.44171779141104295,
          0.3476482617586912,
          0.4049079754601227,
          0.38445807770961143,
          0.38445807770961143,
          0.37627811860940696,
          0.38445807770961143,
          0.38445807770961143,
          0.3803680981595092,
          0.37627811860940696,
          0.37627811860940696,
          0.37627811860940696,
          0.37627811860940696,
          0.35173824130879344,
          0.3231083844580777,
          0.294478527607362,
          0.3067484662576687,
          0.294478527607362,
          0.294478527607362,
          0.2903885480572597,
          0.2903885480572597,
          0.2903885480572597,
          0.278118609406953,
          0.278118609406953,
          0.278118609406953,
          0.26993865030674846,
          0.26993865030674846,
          0.26993865030674846,
          0.26993865030674846,
          0.11451942740286299,
          0.10633946830265849,
          0.10633946830265849,
          0.10633946830265849,
          0.08997955010224949,
          0.08997955010224949,
          0.08997955010224949,
          0.08997955010224949,
          0.08997955010224949,
          0.08997955010224949,
          0.08997955010224949
         ],
         "yaxis": "y"
        }
       ],
       "layout": {
        "legend": {
         "tracegroupgap": 0
        },
        "template": {
         "data": {
          "bar": [
           {
            "error_x": {
             "color": "#2a3f5f"
            },
            "error_y": {
             "color": "#2a3f5f"
            },
            "marker": {
             "line": {
              "color": "#E5ECF6",
              "width": 0.5
             },
             "pattern": {
              "fillmode": "overlay",
              "size": 10,
              "solidity": 0.2
             }
            },
            "type": "bar"
           }
          ],
          "barpolar": [
           {
            "marker": {
             "line": {
              "color": "#E5ECF6",
              "width": 0.5
             },
             "pattern": {
              "fillmode": "overlay",
              "size": 10,
              "solidity": 0.2
             }
            },
            "type": "barpolar"
           }
          ],
          "carpet": [
           {
            "aaxis": {
             "endlinecolor": "#2a3f5f",
             "gridcolor": "white",
             "linecolor": "white",
             "minorgridcolor": "white",
             "startlinecolor": "#2a3f5f"
            },
            "baxis": {
             "endlinecolor": "#2a3f5f",
             "gridcolor": "white",
             "linecolor": "white",
             "minorgridcolor": "white",
             "startlinecolor": "#2a3f5f"
            },
            "type": "carpet"
           }
          ],
          "choropleth": [
           {
            "colorbar": {
             "outlinewidth": 0,
             "ticks": ""
            },
            "type": "choropleth"
           }
          ],
          "contour": [
           {
            "colorbar": {
             "outlinewidth": 0,
             "ticks": ""
            },
            "colorscale": [
             [
              0,
              "#0d0887"
             ],
             [
              0.1111111111111111,
              "#46039f"
             ],
             [
              0.2222222222222222,
              "#7201a8"
             ],
             [
              0.3333333333333333,
              "#9c179e"
             ],
             [
              0.4444444444444444,
              "#bd3786"
             ],
             [
              0.5555555555555556,
              "#d8576b"
             ],
             [
              0.6666666666666666,
              "#ed7953"
             ],
             [
              0.7777777777777778,
              "#fb9f3a"
             ],
             [
              0.8888888888888888,
              "#fdca26"
             ],
             [
              1,
              "#f0f921"
             ]
            ],
            "type": "contour"
           }
          ],
          "contourcarpet": [
           {
            "colorbar": {
             "outlinewidth": 0,
             "ticks": ""
            },
            "type": "contourcarpet"
           }
          ],
          "heatmap": [
           {
            "colorbar": {
             "outlinewidth": 0,
             "ticks": ""
            },
            "colorscale": [
             [
              0,
              "#0d0887"
             ],
             [
              0.1111111111111111,
              "#46039f"
             ],
             [
              0.2222222222222222,
              "#7201a8"
             ],
             [
              0.3333333333333333,
              "#9c179e"
             ],
             [
              0.4444444444444444,
              "#bd3786"
             ],
             [
              0.5555555555555556,
              "#d8576b"
             ],
             [
              0.6666666666666666,
              "#ed7953"
             ],
             [
              0.7777777777777778,
              "#fb9f3a"
             ],
             [
              0.8888888888888888,
              "#fdca26"
             ],
             [
              1,
              "#f0f921"
             ]
            ],
            "type": "heatmap"
           }
          ],
          "heatmapgl": [
           {
            "colorbar": {
             "outlinewidth": 0,
             "ticks": ""
            },
            "colorscale": [
             [
              0,
              "#0d0887"
             ],
             [
              0.1111111111111111,
              "#46039f"
             ],
             [
              0.2222222222222222,
              "#7201a8"
             ],
             [
              0.3333333333333333,
              "#9c179e"
             ],
             [
              0.4444444444444444,
              "#bd3786"
             ],
             [
              0.5555555555555556,
              "#d8576b"
             ],
             [
              0.6666666666666666,
              "#ed7953"
             ],
             [
              0.7777777777777778,
              "#fb9f3a"
             ],
             [
              0.8888888888888888,
              "#fdca26"
             ],
             [
              1,
              "#f0f921"
             ]
            ],
            "type": "heatmapgl"
           }
          ],
          "histogram": [
           {
            "marker": {
             "pattern": {
              "fillmode": "overlay",
              "size": 10,
              "solidity": 0.2
             }
            },
            "type": "histogram"
           }
          ],
          "histogram2d": [
           {
            "colorbar": {
             "outlinewidth": 0,
             "ticks": ""
            },
            "colorscale": [
             [
              0,
              "#0d0887"
             ],
             [
              0.1111111111111111,
              "#46039f"
             ],
             [
              0.2222222222222222,
              "#7201a8"
             ],
             [
              0.3333333333333333,
              "#9c179e"
             ],
             [
              0.4444444444444444,
              "#bd3786"
             ],
             [
              0.5555555555555556,
              "#d8576b"
             ],
             [
              0.6666666666666666,
              "#ed7953"
             ],
             [
              0.7777777777777778,
              "#fb9f3a"
             ],
             [
              0.8888888888888888,
              "#fdca26"
             ],
             [
              1,
              "#f0f921"
             ]
            ],
            "type": "histogram2d"
           }
          ],
          "histogram2dcontour": [
           {
            "colorbar": {
             "outlinewidth": 0,
             "ticks": ""
            },
            "colorscale": [
             [
              0,
              "#0d0887"
             ],
             [
              0.1111111111111111,
              "#46039f"
             ],
             [
              0.2222222222222222,
              "#7201a8"
             ],
             [
              0.3333333333333333,
              "#9c179e"
             ],
             [
              0.4444444444444444,
              "#bd3786"
             ],
             [
              0.5555555555555556,
              "#d8576b"
             ],
             [
              0.6666666666666666,
              "#ed7953"
             ],
             [
              0.7777777777777778,
              "#fb9f3a"
             ],
             [
              0.8888888888888888,
              "#fdca26"
             ],
             [
              1,
              "#f0f921"
             ]
            ],
            "type": "histogram2dcontour"
           }
          ],
          "mesh3d": [
           {
            "colorbar": {
             "outlinewidth": 0,
             "ticks": ""
            },
            "type": "mesh3d"
           }
          ],
          "parcoords": [
           {
            "line": {
             "colorbar": {
              "outlinewidth": 0,
              "ticks": ""
             }
            },
            "type": "parcoords"
           }
          ],
          "pie": [
           {
            "automargin": true,
            "type": "pie"
           }
          ],
          "scatter": [
           {
            "fillpattern": {
             "fillmode": "overlay",
             "size": 10,
             "solidity": 0.2
            },
            "type": "scatter"
           }
          ],
          "scatter3d": [
           {
            "line": {
             "colorbar": {
              "outlinewidth": 0,
              "ticks": ""
             }
            },
            "marker": {
             "colorbar": {
              "outlinewidth": 0,
              "ticks": ""
             }
            },
            "type": "scatter3d"
           }
          ],
          "scattercarpet": [
           {
            "marker": {
             "colorbar": {
              "outlinewidth": 0,
              "ticks": ""
             }
            },
            "type": "scattercarpet"
           }
          ],
          "scattergeo": [
           {
            "marker": {
             "colorbar": {
              "outlinewidth": 0,
              "ticks": ""
             }
            },
            "type": "scattergeo"
           }
          ],
          "scattergl": [
           {
            "marker": {
             "colorbar": {
              "outlinewidth": 0,
              "ticks": ""
             }
            },
            "type": "scattergl"
           }
          ],
          "scattermapbox": [
           {
            "marker": {
             "colorbar": {
              "outlinewidth": 0,
              "ticks": ""
             }
            },
            "type": "scattermapbox"
           }
          ],
          "scatterpolar": [
           {
            "marker": {
             "colorbar": {
              "outlinewidth": 0,
              "ticks": ""
             }
            },
            "type": "scatterpolar"
           }
          ],
          "scatterpolargl": [
           {
            "marker": {
             "colorbar": {
              "outlinewidth": 0,
              "ticks": ""
             }
            },
            "type": "scatterpolargl"
           }
          ],
          "scatterternary": [
           {
            "marker": {
             "colorbar": {
              "outlinewidth": 0,
              "ticks": ""
             }
            },
            "type": "scatterternary"
           }
          ],
          "surface": [
           {
            "colorbar": {
             "outlinewidth": 0,
             "ticks": ""
            },
            "colorscale": [
             [
              0,
              "#0d0887"
             ],
             [
              0.1111111111111111,
              "#46039f"
             ],
             [
              0.2222222222222222,
              "#7201a8"
             ],
             [
              0.3333333333333333,
              "#9c179e"
             ],
             [
              0.4444444444444444,
              "#bd3786"
             ],
             [
              0.5555555555555556,
              "#d8576b"
             ],
             [
              0.6666666666666666,
              "#ed7953"
             ],
             [
              0.7777777777777778,
              "#fb9f3a"
             ],
             [
              0.8888888888888888,
              "#fdca26"
             ],
             [
              1,
              "#f0f921"
             ]
            ],
            "type": "surface"
           }
          ],
          "table": [
           {
            "cells": {
             "fill": {
              "color": "#EBF0F8"
             },
             "line": {
              "color": "white"
             }
            },
            "header": {
             "fill": {
              "color": "#C8D4E3"
             },
             "line": {
              "color": "white"
             }
            },
            "type": "table"
           }
          ]
         },
         "layout": {
          "annotationdefaults": {
           "arrowcolor": "#2a3f5f",
           "arrowhead": 0,
           "arrowwidth": 1
          },
          "autotypenumbers": "strict",
          "coloraxis": {
           "colorbar": {
            "outlinewidth": 0,
            "ticks": ""
           }
          },
          "colorscale": {
           "diverging": [
            [
             0,
             "#8e0152"
            ],
            [
             0.1,
             "#c51b7d"
            ],
            [
             0.2,
             "#de77ae"
            ],
            [
             0.3,
             "#f1b6da"
            ],
            [
             0.4,
             "#fde0ef"
            ],
            [
             0.5,
             "#f7f7f7"
            ],
            [
             0.6,
             "#e6f5d0"
            ],
            [
             0.7,
             "#b8e186"
            ],
            [
             0.8,
             "#7fbc41"
            ],
            [
             0.9,
             "#4d9221"
            ],
            [
             1,
             "#276419"
            ]
           ],
           "sequential": [
            [
             0,
             "#0d0887"
            ],
            [
             0.1111111111111111,
             "#46039f"
            ],
            [
             0.2222222222222222,
             "#7201a8"
            ],
            [
             0.3333333333333333,
             "#9c179e"
            ],
            [
             0.4444444444444444,
             "#bd3786"
            ],
            [
             0.5555555555555556,
             "#d8576b"
            ],
            [
             0.6666666666666666,
             "#ed7953"
            ],
            [
             0.7777777777777778,
             "#fb9f3a"
            ],
            [
             0.8888888888888888,
             "#fdca26"
            ],
            [
             1,
             "#f0f921"
            ]
           ],
           "sequentialminus": [
            [
             0,
             "#0d0887"
            ],
            [
             0.1111111111111111,
             "#46039f"
            ],
            [
             0.2222222222222222,
             "#7201a8"
            ],
            [
             0.3333333333333333,
             "#9c179e"
            ],
            [
             0.4444444444444444,
             "#bd3786"
            ],
            [
             0.5555555555555556,
             "#d8576b"
            ],
            [
             0.6666666666666666,
             "#ed7953"
            ],
            [
             0.7777777777777778,
             "#fb9f3a"
            ],
            [
             0.8888888888888888,
             "#fdca26"
            ],
            [
             1,
             "#f0f921"
            ]
           ]
          },
          "colorway": [
           "#636efa",
           "#EF553B",
           "#00cc96",
           "#ab63fa",
           "#FFA15A",
           "#19d3f3",
           "#FF6692",
           "#B6E880",
           "#FF97FF",
           "#FECB52"
          ],
          "font": {
           "color": "#2a3f5f"
          },
          "geo": {
           "bgcolor": "white",
           "lakecolor": "white",
           "landcolor": "#E5ECF6",
           "showlakes": true,
           "showland": true,
           "subunitcolor": "white"
          },
          "hoverlabel": {
           "align": "left"
          },
          "hovermode": "closest",
          "mapbox": {
           "style": "light"
          },
          "paper_bgcolor": "white",
          "plot_bgcolor": "#E5ECF6",
          "polar": {
           "angularaxis": {
            "gridcolor": "white",
            "linecolor": "white",
            "ticks": ""
           },
           "bgcolor": "#E5ECF6",
           "radialaxis": {
            "gridcolor": "white",
            "linecolor": "white",
            "ticks": ""
           }
          },
          "scene": {
           "xaxis": {
            "backgroundcolor": "#E5ECF6",
            "gridcolor": "white",
            "gridwidth": 2,
            "linecolor": "white",
            "showbackground": true,
            "ticks": "",
            "zerolinecolor": "white"
           },
           "yaxis": {
            "backgroundcolor": "#E5ECF6",
            "gridcolor": "white",
            "gridwidth": 2,
            "linecolor": "white",
            "showbackground": true,
            "ticks": "",
            "zerolinecolor": "white"
           },
           "zaxis": {
            "backgroundcolor": "#E5ECF6",
            "gridcolor": "white",
            "gridwidth": 2,
            "linecolor": "white",
            "showbackground": true,
            "ticks": "",
            "zerolinecolor": "white"
           }
          },
          "shapedefaults": {
           "line": {
            "color": "#2a3f5f"
           }
          },
          "ternary": {
           "aaxis": {
            "gridcolor": "white",
            "linecolor": "white",
            "ticks": ""
           },
           "baxis": {
            "gridcolor": "white",
            "linecolor": "white",
            "ticks": ""
           },
           "bgcolor": "#E5ECF6",
           "caxis": {
            "gridcolor": "white",
            "linecolor": "white",
            "ticks": ""
           }
          },
          "title": {
           "x": 0.05
          },
          "xaxis": {
           "automargin": true,
           "gridcolor": "white",
           "linecolor": "white",
           "ticks": "",
           "title": {
            "standoff": 15
           },
           "zerolinecolor": "white",
           "zerolinewidth": 2
          },
          "yaxis": {
           "automargin": true,
           "gridcolor": "white",
           "linecolor": "white",
           "ticks": "",
           "title": {
            "standoff": 15
           },
           "zerolinecolor": "white",
           "zerolinewidth": 2
          }
         }
        },
        "title": {
         "text": "inverse=False, abs=False, mean=False, aop=True, layers=[11, 12, 13, 14, 15, 16]"
        },
        "xaxis": {
         "anchor": "y",
         "domain": [
          0,
          1
         ],
         "title": {
          "text": "Number of nodes"
         }
        },
        "yaxis": {
         "anchor": "x",
         "domain": [
          0,
          1
         ],
         "title": {
          "text": "Faithfullness"
         }
        }
       }
      },
      "text/html": [
       "<div>                            <div id=\"20dd3619-d7f4-47da-acaf-489904976178\" class=\"plotly-graph-div\" style=\"height:525px; width:100%;\"></div>            <script type=\"text/javascript\">                require([\"plotly\"], function(Plotly) {                    window.PLOTLYENV=window.PLOTLYENV || {};                                    if (document.getElementById(\"20dd3619-d7f4-47da-acaf-489904976178\")) {                    Plotly.newPlot(                        \"20dd3619-d7f4-47da-acaf-489904976178\",                        [{\"hovertemplate\":\"x=%{x}\\u003cbr\\u003ey=%{y}\\u003cextra\\u003e\\u003c\\u002fextra\\u003e\",\"legendgroup\":\"\",\"line\":{\"color\":\"#636efa\",\"dash\":\"solid\"},\"marker\":{\"symbol\":\"circle\"},\"mode\":\"lines\",\"name\":\"\",\"orientation\":\"v\",\"showlegend\":false,\"x\":[6734,6619,6507,6394,6285,6173,6058,5962,5861,5749,5637,5523,5446,5350,5258,5144,5032,4954,4854,4743,4646,4526,4414,4306,4209,4101,4002,3897,3790,3694,3605,3519,3431,3355,3267,3177,3084,2982,2885,2808,2707,2615,2533,2453,2363,2299,2231,2153,2083,2013,1935,1870,1805,1724,1654,1606,1547,1488,1439,1374,1325,1268,1210,1161,1115,1072,1032,988,943,907,873,835,798,761,724,712,677,654,627,596,569,542,516,492,468,443,420,398,375,351,331,313,298,281,256,246,234,227,219,211,203,194,186,175,167,159,151,144,137,129,121,116,104,98,91,83,79,75,69,66,62,59,58,53,51,50,43,40,40,38,35,34,32,29,28,23,22,20,18,13,12,10,10,8,8,7,4,3,2,2],\"xaxis\":\"x\",\"y\":[1.121676891615542,1.1206543967280163,1.1186094069529653,1.130879345603272,1.1226993865030674,1.1175869120654396,1.1237218813905931,1.1247443762781186,1.1114519427402862,1.1083844580777096,1.1063394683026584,1.112474437627812,1.1175869120654396,1.114519427402863,1.112474437627812,1.1083844580777096,1.105316973415133,1.1114519427402862,1.107361963190184,1.0950920245398772,1.0623721881390593,1.056237218813906,1.0623721881390593,1.0633946830265848,1.0705521472392638,1.0613496932515338,1.0797546012269938,1.0531697341513293,1.0501022494887526,1.0511247443762781,1.0572597137014315,1.0521472392638036,1.0521472392638036,1.0460122699386503,1.0388548057259714,1.034764826175869,1.0235173824130879,1.016359918200409,1.0102249488752557,1.0102249488752557,1.0245398773006136,1.0173824130879345,1.0224948875255624,1.0194274028629857,1.016359918200409,1.0296523517382412,1.0521472392638036,1.039877300613497,1.0357873210633948,1.0245398773006136,1.0286298568507157,1.0265848670756645,1.0122699386503067,1.039877300613497,1.0122699386503067,0.9550102249488752,0.9652351738241309,0.9550102249488752,0.9591002044989775,0.950920245398773,0.9386503067484663,0.9366053169734151,0.918200408997955,0.918200408997955,0.9243353783231084,0.9120654396728016,0.9120654396728016,0.9038854805725971,0.9161554192229039,0.9161554192229039,0.8916155419222904,0.9100204498977505,0.9120654396728016,0.8977505112474438,0.8670756646216768,0.8588957055214724,0.8629856850715747,0.8343558282208589,0.8629856850715747,0.8568507157464212,0.8384458077709611,0.8159509202453987,0.8016359918200409,0.7709611451942741,0.7361963190184049,0.6666666666666666,0.6748466257668712,0.6380368098159509,0.65439672801636,0.6503067484662577,0.6257668711656442,0.621676891615542,0.621676891615542,0.5971370143149284,0.588957055214724,0.5807770961145194,0.5725971370143149,0.6462167689161554,0.6380368098159509,0.621676891615542,0.5398773006134969,0.5276073619631901,0.5153374233128835,0.5112474437627812,0.5194274028629857,0.4785276073619632,0.4621676891615542,0.4703476482617587,0.4376278118609407,0.4621676891615542,0.44171779141104295,0.3476482617586912,0.4049079754601227,0.38445807770961143,0.38445807770961143,0.37627811860940696,0.38445807770961143,0.38445807770961143,0.3803680981595092,0.37627811860940696,0.37627811860940696,0.37627811860940696,0.37627811860940696,0.35173824130879344,0.3231083844580777,0.294478527607362,0.3067484662576687,0.294478527607362,0.294478527607362,0.2903885480572597,0.2903885480572597,0.2903885480572597,0.278118609406953,0.278118609406953,0.278118609406953,0.26993865030674846,0.26993865030674846,0.26993865030674846,0.26993865030674846,0.11451942740286299,0.10633946830265849,0.10633946830265849,0.10633946830265849,0.08997955010224949,0.08997955010224949,0.08997955010224949,0.08997955010224949,0.08997955010224949,0.08997955010224949,0.08997955010224949],\"yaxis\":\"y\",\"type\":\"scatter\"}],                        {\"template\":{\"data\":{\"histogram2dcontour\":[{\"type\":\"histogram2dcontour\",\"colorbar\":{\"outlinewidth\":0,\"ticks\":\"\"},\"colorscale\":[[0.0,\"#0d0887\"],[0.1111111111111111,\"#46039f\"],[0.2222222222222222,\"#7201a8\"],[0.3333333333333333,\"#9c179e\"],[0.4444444444444444,\"#bd3786\"],[0.5555555555555556,\"#d8576b\"],[0.6666666666666666,\"#ed7953\"],[0.7777777777777778,\"#fb9f3a\"],[0.8888888888888888,\"#fdca26\"],[1.0,\"#f0f921\"]]}],\"choropleth\":[{\"type\":\"choropleth\",\"colorbar\":{\"outlinewidth\":0,\"ticks\":\"\"}}],\"histogram2d\":[{\"type\":\"histogram2d\",\"colorbar\":{\"outlinewidth\":0,\"ticks\":\"\"},\"colorscale\":[[0.0,\"#0d0887\"],[0.1111111111111111,\"#46039f\"],[0.2222222222222222,\"#7201a8\"],[0.3333333333333333,\"#9c179e\"],[0.4444444444444444,\"#bd3786\"],[0.5555555555555556,\"#d8576b\"],[0.6666666666666666,\"#ed7953\"],[0.7777777777777778,\"#fb9f3a\"],[0.8888888888888888,\"#fdca26\"],[1.0,\"#f0f921\"]]}],\"heatmap\":[{\"type\":\"heatmap\",\"colorbar\":{\"outlinewidth\":0,\"ticks\":\"\"},\"colorscale\":[[0.0,\"#0d0887\"],[0.1111111111111111,\"#46039f\"],[0.2222222222222222,\"#7201a8\"],[0.3333333333333333,\"#9c179e\"],[0.4444444444444444,\"#bd3786\"],[0.5555555555555556,\"#d8576b\"],[0.6666666666666666,\"#ed7953\"],[0.7777777777777778,\"#fb9f3a\"],[0.8888888888888888,\"#fdca26\"],[1.0,\"#f0f921\"]]}],\"heatmapgl\":[{\"type\":\"heatmapgl\",\"colorbar\":{\"outlinewidth\":0,\"ticks\":\"\"},\"colorscale\":[[0.0,\"#0d0887\"],[0.1111111111111111,\"#46039f\"],[0.2222222222222222,\"#7201a8\"],[0.3333333333333333,\"#9c179e\"],[0.4444444444444444,\"#bd3786\"],[0.5555555555555556,\"#d8576b\"],[0.6666666666666666,\"#ed7953\"],[0.7777777777777778,\"#fb9f3a\"],[0.8888888888888888,\"#fdca26\"],[1.0,\"#f0f921\"]]}],\"contourcarpet\":[{\"type\":\"contourcarpet\",\"colorbar\":{\"outlinewidth\":0,\"ticks\":\"\"}}],\"contour\":[{\"type\":\"contour\",\"colorbar\":{\"outlinewidth\":0,\"ticks\":\"\"},\"colorscale\":[[0.0,\"#0d0887\"],[0.1111111111111111,\"#46039f\"],[0.2222222222222222,\"#7201a8\"],[0.3333333333333333,\"#9c179e\"],[0.4444444444444444,\"#bd3786\"],[0.5555555555555556,\"#d8576b\"],[0.6666666666666666,\"#ed7953\"],[0.7777777777777778,\"#fb9f3a\"],[0.8888888888888888,\"#fdca26\"],[1.0,\"#f0f921\"]]}],\"surface\":[{\"type\":\"surface\",\"colorbar\":{\"outlinewidth\":0,\"ticks\":\"\"},\"colorscale\":[[0.0,\"#0d0887\"],[0.1111111111111111,\"#46039f\"],[0.2222222222222222,\"#7201a8\"],[0.3333333333333333,\"#9c179e\"],[0.4444444444444444,\"#bd3786\"],[0.5555555555555556,\"#d8576b\"],[0.6666666666666666,\"#ed7953\"],[0.7777777777777778,\"#fb9f3a\"],[0.8888888888888888,\"#fdca26\"],[1.0,\"#f0f921\"]]}],\"mesh3d\":[{\"type\":\"mesh3d\",\"colorbar\":{\"outlinewidth\":0,\"ticks\":\"\"}}],\"scatter\":[{\"fillpattern\":{\"fillmode\":\"overlay\",\"size\":10,\"solidity\":0.2},\"type\":\"scatter\"}],\"parcoords\":[{\"type\":\"parcoords\",\"line\":{\"colorbar\":{\"outlinewidth\":0,\"ticks\":\"\"}}}],\"scatterpolargl\":[{\"type\":\"scatterpolargl\",\"marker\":{\"colorbar\":{\"outlinewidth\":0,\"ticks\":\"\"}}}],\"bar\":[{\"error_x\":{\"color\":\"#2a3f5f\"},\"error_y\":{\"color\":\"#2a3f5f\"},\"marker\":{\"line\":{\"color\":\"#E5ECF6\",\"width\":0.5},\"pattern\":{\"fillmode\":\"overlay\",\"size\":10,\"solidity\":0.2}},\"type\":\"bar\"}],\"scattergeo\":[{\"type\":\"scattergeo\",\"marker\":{\"colorbar\":{\"outlinewidth\":0,\"ticks\":\"\"}}}],\"scatterpolar\":[{\"type\":\"scatterpolar\",\"marker\":{\"colorbar\":{\"outlinewidth\":0,\"ticks\":\"\"}}}],\"histogram\":[{\"marker\":{\"pattern\":{\"fillmode\":\"overlay\",\"size\":10,\"solidity\":0.2}},\"type\":\"histogram\"}],\"scattergl\":[{\"type\":\"scattergl\",\"marker\":{\"colorbar\":{\"outlinewidth\":0,\"ticks\":\"\"}}}],\"scatter3d\":[{\"type\":\"scatter3d\",\"line\":{\"colorbar\":{\"outlinewidth\":0,\"ticks\":\"\"}},\"marker\":{\"colorbar\":{\"outlinewidth\":0,\"ticks\":\"\"}}}],\"scattermapbox\":[{\"type\":\"scattermapbox\",\"marker\":{\"colorbar\":{\"outlinewidth\":0,\"ticks\":\"\"}}}],\"scatterternary\":[{\"type\":\"scatterternary\",\"marker\":{\"colorbar\":{\"outlinewidth\":0,\"ticks\":\"\"}}}],\"scattercarpet\":[{\"type\":\"scattercarpet\",\"marker\":{\"colorbar\":{\"outlinewidth\":0,\"ticks\":\"\"}}}],\"carpet\":[{\"aaxis\":{\"endlinecolor\":\"#2a3f5f\",\"gridcolor\":\"white\",\"linecolor\":\"white\",\"minorgridcolor\":\"white\",\"startlinecolor\":\"#2a3f5f\"},\"baxis\":{\"endlinecolor\":\"#2a3f5f\",\"gridcolor\":\"white\",\"linecolor\":\"white\",\"minorgridcolor\":\"white\",\"startlinecolor\":\"#2a3f5f\"},\"type\":\"carpet\"}],\"table\":[{\"cells\":{\"fill\":{\"color\":\"#EBF0F8\"},\"line\":{\"color\":\"white\"}},\"header\":{\"fill\":{\"color\":\"#C8D4E3\"},\"line\":{\"color\":\"white\"}},\"type\":\"table\"}],\"barpolar\":[{\"marker\":{\"line\":{\"color\":\"#E5ECF6\",\"width\":0.5},\"pattern\":{\"fillmode\":\"overlay\",\"size\":10,\"solidity\":0.2}},\"type\":\"barpolar\"}],\"pie\":[{\"automargin\":true,\"type\":\"pie\"}]},\"layout\":{\"autotypenumbers\":\"strict\",\"colorway\":[\"#636efa\",\"#EF553B\",\"#00cc96\",\"#ab63fa\",\"#FFA15A\",\"#19d3f3\",\"#FF6692\",\"#B6E880\",\"#FF97FF\",\"#FECB52\"],\"font\":{\"color\":\"#2a3f5f\"},\"hovermode\":\"closest\",\"hoverlabel\":{\"align\":\"left\"},\"paper_bgcolor\":\"white\",\"plot_bgcolor\":\"#E5ECF6\",\"polar\":{\"bgcolor\":\"#E5ECF6\",\"angularaxis\":{\"gridcolor\":\"white\",\"linecolor\":\"white\",\"ticks\":\"\"},\"radialaxis\":{\"gridcolor\":\"white\",\"linecolor\":\"white\",\"ticks\":\"\"}},\"ternary\":{\"bgcolor\":\"#E5ECF6\",\"aaxis\":{\"gridcolor\":\"white\",\"linecolor\":\"white\",\"ticks\":\"\"},\"baxis\":{\"gridcolor\":\"white\",\"linecolor\":\"white\",\"ticks\":\"\"},\"caxis\":{\"gridcolor\":\"white\",\"linecolor\":\"white\",\"ticks\":\"\"}},\"coloraxis\":{\"colorbar\":{\"outlinewidth\":0,\"ticks\":\"\"}},\"colorscale\":{\"sequential\":[[0.0,\"#0d0887\"],[0.1111111111111111,\"#46039f\"],[0.2222222222222222,\"#7201a8\"],[0.3333333333333333,\"#9c179e\"],[0.4444444444444444,\"#bd3786\"],[0.5555555555555556,\"#d8576b\"],[0.6666666666666666,\"#ed7953\"],[0.7777777777777778,\"#fb9f3a\"],[0.8888888888888888,\"#fdca26\"],[1.0,\"#f0f921\"]],\"sequentialminus\":[[0.0,\"#0d0887\"],[0.1111111111111111,\"#46039f\"],[0.2222222222222222,\"#7201a8\"],[0.3333333333333333,\"#9c179e\"],[0.4444444444444444,\"#bd3786\"],[0.5555555555555556,\"#d8576b\"],[0.6666666666666666,\"#ed7953\"],[0.7777777777777778,\"#fb9f3a\"],[0.8888888888888888,\"#fdca26\"],[1.0,\"#f0f921\"]],\"diverging\":[[0,\"#8e0152\"],[0.1,\"#c51b7d\"],[0.2,\"#de77ae\"],[0.3,\"#f1b6da\"],[0.4,\"#fde0ef\"],[0.5,\"#f7f7f7\"],[0.6,\"#e6f5d0\"],[0.7,\"#b8e186\"],[0.8,\"#7fbc41\"],[0.9,\"#4d9221\"],[1,\"#276419\"]]},\"xaxis\":{\"gridcolor\":\"white\",\"linecolor\":\"white\",\"ticks\":\"\",\"title\":{\"standoff\":15},\"zerolinecolor\":\"white\",\"automargin\":true,\"zerolinewidth\":2},\"yaxis\":{\"gridcolor\":\"white\",\"linecolor\":\"white\",\"ticks\":\"\",\"title\":{\"standoff\":15},\"zerolinecolor\":\"white\",\"automargin\":true,\"zerolinewidth\":2},\"scene\":{\"xaxis\":{\"backgroundcolor\":\"#E5ECF6\",\"gridcolor\":\"white\",\"linecolor\":\"white\",\"showbackground\":true,\"ticks\":\"\",\"zerolinecolor\":\"white\",\"gridwidth\":2},\"yaxis\":{\"backgroundcolor\":\"#E5ECF6\",\"gridcolor\":\"white\",\"linecolor\":\"white\",\"showbackground\":true,\"ticks\":\"\",\"zerolinecolor\":\"white\",\"gridwidth\":2},\"zaxis\":{\"backgroundcolor\":\"#E5ECF6\",\"gridcolor\":\"white\",\"linecolor\":\"white\",\"showbackground\":true,\"ticks\":\"\",\"zerolinecolor\":\"white\",\"gridwidth\":2}},\"shapedefaults\":{\"line\":{\"color\":\"#2a3f5f\"}},\"annotationdefaults\":{\"arrowcolor\":\"#2a3f5f\",\"arrowhead\":0,\"arrowwidth\":1},\"geo\":{\"bgcolor\":\"white\",\"landcolor\":\"#E5ECF6\",\"subunitcolor\":\"white\",\"showland\":true,\"showlakes\":true,\"lakecolor\":\"white\"},\"title\":{\"x\":0.05},\"mapbox\":{\"style\":\"light\"}}},\"xaxis\":{\"anchor\":\"y\",\"domain\":[0.0,1.0],\"title\":{\"text\":\"Number of nodes\"}},\"yaxis\":{\"anchor\":\"x\",\"domain\":[0.0,1.0],\"title\":{\"text\":\"Faithfullness\"}},\"legend\":{\"tracegroupgap\":0},\"title\":{\"text\":\"inverse=False, abs=False, mean=False, aop=True, layers=[11, 12, 13, 14, 15, 16]\"}},                        {\"responsive\": true}                    ).then(function(){\n",
       "                            \n",
       "var gd = document.getElementById('20dd3619-d7f4-47da-acaf-489904976178');\n",
       "var x = new MutationObserver(function (mutations, observer) {{\n",
       "        var display = window.getComputedStyle(gd).display;\n",
       "        if (!display || display === 'none') {{\n",
       "            console.log([gd, 'removed!']);\n",
       "            Plotly.purge(gd);\n",
       "            observer.disconnect();\n",
       "        }}\n",
       "}});\n",
       "\n",
       "// Listen for the removal of the full notebook cells\n",
       "var notebookContainer = gd.closest('#notebook-container');\n",
       "if (notebookContainer) {{\n",
       "    x.observe(notebookContainer, {childList: true});\n",
       "}}\n",
       "\n",
       "// Listen for the clearing of the current output cell\n",
       "var outputEl = gd.closest('.output');\n",
       "if (outputEl) {{\n",
       "    x.observe(outputEl, {childList: true});\n",
       "}}\n",
       "\n",
       "                        })                };                });            </script>        </div>"
      ]
     },
     "metadata": {},
     "output_type": "display_data"
    }
   ],
   "source": [
    "import matplotlib.pyplot as plt\n",
    "import plotly.express as px\n",
    "\n",
    "# plt.plot([max(n_nodes_counts) - x for x in n_nodes_counts], ablated_metrics)\n",
    "# plt.plot(thresholds, ablated_metrics)\n",
    "# plt.plot(thresholds, ablated_metrics)\n",
    "# plt.plot(n_nodes_counts, ablated_metrics)\n",
    "# plt.plot(n_nodes_counts, faithfullness)\n",
    "# plt.xscale(\"log\")\n",
    "# plt.plot(n_nodes_counts)\n",
    "\n",
    "# px.line(x=list(range(len(ablated_metrics))), y=ablated_metrics)\n",
    "# fig = px.line(x=thresholds, y=ablated_metrics)\n",
    "# fig.update_xaxes(type=\"log\", exponentformat=\"power\")\n",
    "\n",
    "fig = px.line(x=n_nodes_counts, y=faithfullness, title=f\"inverse={inverse}, abs={do_abs}, mean={mean_ablate}, aop={average_over_positions}, layers={layers}\")\n",
    "fig.update_xaxes(title=\"Number of nodes\")\n",
    "fig.update_yaxes(title=\"Faithfullness\")\n",
    "\n",
    "# fig\n"
   ]
  },
  {
   "cell_type": "code",
   "execution_count": 12,
   "metadata": {},
   "outputs": [
    {
     "data": {
      "text/html": [
       "<script> (()=>{ if (customElements.get('treescope-container') === undefined) { class TreescopeContainer extends HTMLElement { constructor() { super(); this.attachShadow({mode: \"open\"}); this.defns = {}; this.state = {}; } } customElements.define(\"treescope-container\", TreescopeContainer); } if (customElements.get('treescope-run-here') === undefined) { class RunHere extends HTMLElement { constructor() { super() } connectedCallback() { const run = child => { const fn = new Function(child.textContent); child.textContent = \"\"; fn.call(this); this.remove(); }; const child = this.querySelector(\"script\"); if (child) { run(child); } else { new MutationObserver(()=>{ run(this.querySelector(\"script\")); }).observe(this, {childList: true}); } } } customElements.define(\"treescope-run-here\", RunHere); } })(); </script> <treescope-container class=\"treescope_out_7c4d3b37cde747ca91d55813a7e8baf1\" ></treescope-container> <treescope-run-here><script type=\"application/octet-stream\"> const root = ( Array.from(document.getElementsByClassName( \"treescope_out_7c4d3b37cde747ca91d55813a7e8baf1\")) .filter((elt) => !elt.dataset.setup) )[0]; root.dataset.setup = 1; const msg = document.createElement(\"span\"); msg.style = \"color: #aaaaaa; font-family: monospace; transition: opacity 0.2s; opacity: 0.0;\"; msg.textContent = \"(Loading...)\"; root.state.loadingMsg = msg; root.shadowRoot.appendChild(msg); root.state.chain = new Promise((resolve, reject) => { const observer = new IntersectionObserver((entries) => { for (const entry of entries) { if (entry.isIntersecting) { resolve(); observer.disconnect(); return; } } }, {rootMargin: \"1000px\"}); window.setTimeout(() => { if (root.loadingMsg) { root.loadingMsg.style.opacity = \"1.0\"; } observer.observe(root); }, 0); }); root.state.deferring = false; const _insertNode = (node) => { for (let oldScript of node.querySelectorAll(\"script\")) { let newScript = document.createElement(\"script\"); newScript.type = oldScript.type; newScript.textContent = oldScript.textContent; oldScript.parentNode.replaceChild(newScript, oldScript); } if (root.state.loadingMsg) { root.state.loadingMsg.remove(); root.state.loadingMsg = null; } root.shadowRoot.appendChild(node); }; root.defns.insertContent = ((contentNode, compressed) => { if (compressed) { root.state.deferring = true; } if (root.state.deferring) { root.state.chain = (async () => { await root.state.chain; if (compressed) { const encoded = contentNode.textContent; const blob = new Blob([ Uint8Array.from(atob(encoded), (m) => m.codePointAt(0)) ]); const reader = blob.stream().pipeThrough( new DecompressionStream(\"deflate\") ).pipeThrough( new TextDecoderStream(\"utf-8\") ).getReader(); const parts = []; while (true) { const step = await reader.read(); if (step.done) { break; } parts.push(step.value); } const tpl = document.createElement('template'); tpl.innerHTML = parts.join(\"\"); _insertNode(tpl.content); } else { _insertNode(contentNode.content); } })(); } else { _insertNode(contentNode.content); } }); </script></treescope-run-here><div style=\"display:none\"> <script type=\"application/octet-stream\" >eNqNVE1v2zAM/SuCd6gNzG6afmxNYgO9DDsMO2yHHYYhUGzaFiJTmkQny4b+91J2kvUjK4YcYpHU4+MTyYWnnYYiIwfgS2Nh6Ywh8UdY4xUpgzPhQEtSG5iL2iClteyU3s1EZ9B4K0u2b1tFkA6HmbCOLVp5SgfolHaWrWiQzStZrhtneqzS0mjjZuPVudifVpoDGE9V1M5ErYjDkABpLqysKoVNqqGmmZiWbUiCkLagmpYtF9l1gEGSijkfr+0/0o3yaqW0ImYuezLH2FQhOYVelalXv2H07uneL85HeRZHeVLXI+d0bPOlU5ZEqC8/k9ZqVcqg2LkpCUL1DmR3VsRxkhcsKOfzJCqo0YtcUKt81gB9YbU/mwriJGuNp2zwc2lAYmkBQ8l3ZUANl77/OOX5KLHSwG7stZ6PGTKm+dUYZGu8NW6diMcczDc2BdcTM6kyGC242rhOYgkZmm2cDO/LCeIXHpGOlxbicpowjqpF/Ix1pgEbakWei0kIeZW6A+odsu4CtIe/xNoeA7Pn0L5VNQV+Q0D4uOffPzLE3FVYmW3m4GcPnu5QdcNzfXCyg3jUJAkY8xeJbO/bUcb5iRoPKfKxjFeq/H8OgcX4kGSaRo9TuRwmh7vVBqxgAU1vBWy4wfcvGdgN52wNuyB65KJAaB+clVp6/4mHc48bR0fMZcdtGB2S3yesJ7f/0OPF4vzUAFRqIwbAPHq6PiJBcsWVwq88mkTCIJPhspHjXmv707XG4c6hyojHblxYw8ZYYt+twA2dMiyQN5Pb9xfXN49Hl9cSHmi2PKuO18Z6SdIxjUhUkmTK9KykNo+ip+GPc0TFJJsw+tXNzfV0Mn13e3UxveQkHF4c/1iR4gFUB977</script> <treescope-run-here><script type=\"application/octet-stream\"> const root = ( Array.from(document.getElementsByClassName( \"treescope_out_7c4d3b37cde747ca91d55813a7e8baf1\")) .filter((elt) => !elt.dataset['step0']) )[0]; root.dataset['step0'] = 1; root.defns.insertContent( this.parentNode.querySelector('script[type=\"application/octet-stream\"]'), true ); this.parentNode.remove(); </script></treescope-run-here> </div>"
      ],
      "text/plain": [
       "<IPython.core.display.HTML object>"
      ]
     },
     "metadata": {},
     "output_type": "display_data"
    },
    {
     "data": {
      "text/html": [
       "<treescope-run-here><script type=\"application/octet-stream\"> const root = ( Array.from(document.getElementsByClassName( \"treescope_out_7c4d3b37cde747ca91d55813a7e8baf1\")) .filter((elt) => !elt.dataset.stolen) )[0]; root.dataset.stolen = 1; this.parentNode.replaceChild(root, this); </script></treescope-run-here>"
      ],
      "text/plain": [
       "0.00984665202794123"
      ]
     },
     "execution_count": 12,
     "metadata": {},
     "output_type": "execute_result"
    }
   ],
   "source": [
    "target_faithfullness = 0.6\n",
    "\n",
    "target_threshold = [threshold for threshold, metric in reversed(list(zip(thresholds, faithfullness))) if metric > target_faithfullness][0]\n",
    "\n",
    "target_threshold"
   ]
  },
  {
   "cell_type": "code",
   "execution_count": null,
   "metadata": {},
   "outputs": [],
   "source": []
  }
 ],
 "metadata": {
  "kernelspec": {
   "display_name": "micrlhf-progress-_SD4q1c9-py3.10",
   "language": "python",
   "name": "python3"
  },
  "language_info": {
   "codemirror_mode": {
    "name": "ipython",
    "version": 3
   },
   "file_extension": ".py",
   "mimetype": "text/x-python",
   "name": "python",
   "nbconvert_exporter": "python",
   "pygments_lexer": "ipython3",
   "version": "3.10.12"
  }
 },
 "nbformat": 4,
 "nbformat_minor": 2
}
