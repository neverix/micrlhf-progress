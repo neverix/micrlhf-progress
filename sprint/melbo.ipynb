{
 "cells": [
  {
   "cell_type": "code",
   "execution_count": 1,
   "metadata": {},
   "outputs": [],
   "source": [
    "import os\n",
    "if \"models\" not in os.listdir(\".\"):\n",
    "    os.chdir(\"..\")"
   ]
  },
  {
   "cell_type": "code",
   "execution_count": 2,
   "metadata": {},
   "outputs": [],
   "source": [
    "%load_ext autoreload\n",
    "%autoreload 2\n",
    "import penzai\n",
    "from penzai import pz\n",
    "pz.ts.register_as_default()\n",
    "pz.ts.register_autovisualize_magic()\n",
    "pz.enable_interactive_context()"
   ]
  },
  {
   "cell_type": "code",
   "execution_count": 3,
   "metadata": {},
   "outputs": [],
   "source": [
    "filename = \"models/phi-3-16.gguf\"\n",
    "from micrlhf.llama import LlamaTransformer\n",
    "llama = LlamaTransformer.from_pretrained(filename, device_map=\"tpu:0\")"
   ]
  },
  {
   "cell_type": "code",
   "execution_count": 4,
   "metadata": {},
   "outputs": [
    {
     "name": "stderr",
     "output_type": "stream",
     "text": [
      "Special tokens have been added in the vocabulary, make sure the associated word embeddings are fine-tuned or trained.\n"
     ]
    }
   ],
   "source": [
    "from transformers import AutoTokenizer\n",
    "tokenizer = AutoTokenizer.from_pretrained(\"microsoft/Phi-3-mini-4k-instruct\")\n",
    "tokenizer.padding_side = \"right\""
   ]
  },
  {
   "cell_type": "code",
   "execution_count": 5,
   "metadata": {},
   "outputs": [],
   "source": [
    "import jax\n",
    "import jax.numpy as jnp\n",
    "prompt = \"\"\"<|user|>\n",
    "What is 3940 * 3892?<|end|>\n",
    "<|assistant|>\n",
    "\"\"\"\n",
    "tokens = tokenizer.encode(prompt)\n",
    "def tokens_to_array(tokens):\n",
    "    token_array = jnp.asarray(tokens)\n",
    "    if len(token_array) >= llama.mesh.shape[\"dp\"]:\n",
    "        token_array = jax.device_put(token_array, jax.sharding.NamedSharding(llama.mesh, jax.sharding.PartitionSpec(\"dp\", \"sp\")))\n",
    "    token_array = pz.nx.wrap(token_array, \"batch\", \"seq\")\n",
    "    return token_array"
   ]
  },
  {
   "cell_type": "code",
   "execution_count": 6,
   "metadata": {},
   "outputs": [],
   "source": [
    "from micrlhf.llama import LlamaBlock\n",
    "from functools import partial\n",
    "\n",
    "\n",
    "layer_source = 10\n",
    "def make_get_resids(llama, layer_target):\n",
    "    get_resids = llama.select().at_instances_of(LlamaBlock).pick_nth_selected(layer_target\n",
    "                                                                              ).apply(lambda x:\n",
    "        pz.nn.Sequential([\n",
    "            pz.de.TellIntermediate.from_config(tag=f\"resid_pre\"),\n",
    "            x\n",
    "        ])\n",
    "    )\n",
    "    get_resids = pz.de.CollectingSideOutputs.handling(get_resids, tag_predicate=lambda x: x.startswith(\"resid_pre\"))\n",
    "    return get_resids\n",
    "jittify = lambda x: partial(jax.jit(lambda lr, *args, **kwargs: lr(*args, **kwargs)[1][0].value), x)\n",
    "get_resids_initial = make_get_resids(llama, layer_source)\n",
    "get_resids_initial = jittify(get_resids_initial)"
   ]
  },
  {
   "cell_type": "code",
   "execution_count": 7,
   "metadata": {},
   "outputs": [],
   "source": [
    "layer_target = 20\n",
    "taker = jittify(make_get_resids(llama, layer_target).select().at_instances_of(LlamaBlock).apply_with_selected_index(\n",
    "    lambda i, x: x if i >= layer_source else pz.nn.Identity()\n",
    ").select().at_instances_of(pz.nn.EmbeddingLookup).apply(lambda _: pz.nn.Identity())\n",
    "                .select().at_instances_of(pz.nn.ConstantRescale).pick_nth_selected(0).apply(lambda _: pz.nn.Identity()))"
   ]
  },
  {
   "cell_type": "code",
   "execution_count": 8,
   "metadata": {},
   "outputs": [],
   "source": [
    "import dataclasses\n",
    "import jax.numpy as jnp\n",
    "from tqdm.auto import trange\n",
    "import optax\n",
    "\n",
    "\n",
    "inputs = llama.inputs.from_basic_segments(tokens_to_array([tokens]))\n",
    "resid_initial = get_resids_initial(inputs)\n",
    "bs = 16\n",
    "seed = 9\n",
    "iterations = 1000\n",
    "scale = 10\n",
    "def get_loss(rep):\n",
    "    rep = pz.nx.wrap(rep, \"batch\", \"embedding\")\n",
    "    rep = pz.nx.nmap(lambda a: a / jnp.linalg.norm(a) * scale)(rep.untag(\"embedding\")).tag(\"embedding\")\n",
    "    resid = pz.nx.nmap(lambda x, y: x.at[-1].add(y))(resid_initial[{\"batch\": 0}].untag(\"seq\"), rep).tag(\"seq\")\n",
    "    resid_out = taker(dataclasses.replace(inputs, tokens=resid,\n",
    "                                          attention_mask=inputs.attention_mask,\n",
    "                                          positions=inputs.positions))[{\"seq\": -1}]\n",
    "    diffs = pz.nx.nmap(lambda x: (x[:, None] - x[None, :]) ** 2)(resid_out.untag(\"batch\")).tag(\"batch1\", \"batch2\")\n",
    "    diffs = diffs.untag(\"embedding\").sum()  # ** 0.5\n",
    "    loss = diffs.data_array.mean()\n",
    "    return -loss, (resid_out,)\n",
    "start_add = jax.random.normal(jax.random.key(seed),\n",
    "                              (bs, resid_initial.named_shape[\"embedding\"]), dtype=resid_initial.dtype)\n",
    "\n",
    "optimizer = optax.chain(\n",
    "    optax.clip_by_global_norm(1.0),\n",
    "    optax.adam(1e-2),\n",
    "    optax.zero_nans(),\n",
    "    \n",
    ")\n",
    "lwg = jax.value_and_grad(get_loss, has_aux=True)\n",
    "# lwg = jax.jit(lwg)\n",
    "\n",
    "# @partial(jax.jit, donate_argnums=(0, 1))\n",
    "def train_step(addition, opt_state):\n",
    "    (loss, (resid_out,)), grad = lwg(addition)\n",
    "    updates, opt_state = optimizer.update(grad, opt_state, addition)\n",
    "    addition = optax.apply_updates(addition, updates)\n",
    "    return loss, addition, opt_state, dict(resid_out=resid_out)\n"
   ]
  },
  {
   "cell_type": "code",
   "execution_count": 9,
   "metadata": {},
   "outputs": [
    {
     "name": "stderr",
     "output_type": "stream",
     "text": [
      "--2024-06-25 00:12:25--  https://huggingface.co/nev/phi-3-4k-saex-test/resolve/main/l10-test-run-4-2.73E-06/sae_weights.safetensors?download=true\n",
      "Resolving huggingface.co (huggingface.co)... 99.86.102.115, 99.86.102.109, 99.86.102.128, ...\n",
      "Connecting to huggingface.co (huggingface.co)|99.86.102.115|:443... connected.\n",
      "HTTP request sent, awaiting response... 302 Found\n",
      "Location: https://cdn-lfs-us-1.huggingface.co/repos/eb/d8/ebd889d6ac58573e8e8a7aa1176d4d357581a6da60135b94aca378fddf4e9e54/c8cf3f62062b3cdc9509167526de244fa3271fca14dd9dc97f653ef970374bd7?response-content-disposition=attachment%3B+filename*%3DUTF-8%27%27sae_weights.safetensors%3B+filename%3D%22sae_weights.safetensors%22%3B&Expires=1719533545&Policy=eyJTdGF0ZW1lbnQiOlt7IkNvbmRpdGlvbiI6eyJEYXRlTGVzc1RoYW4iOnsiQVdTOkVwb2NoVGltZSI6MTcxOTUzMzU0NX19LCJSZXNvdXJjZSI6Imh0dHBzOi8vY2RuLWxmcy11cy0xLmh1Z2dpbmdmYWNlLmNvL3JlcG9zL2ViL2Q4L2ViZDg4OWQ2YWM1ODU3M2U4ZThhN2FhMTE3NmQ0ZDM1NzU4MWE2ZGE2MDEzNWI5NGFjYTM3OGZkZGY0ZTllNTQvYzhjZjNmNjIwNjJiM2NkYzk1MDkxNjc1MjZkZTI0NGZhMzI3MWZjYTE0ZGQ5ZGM5N2Y2NTNlZjk3MDM3NGJkNz9yZXNwb25zZS1jb250ZW50LWRpc3Bvc2l0aW9uPSoifV19&Signature=PY6ylARIwnGg9%7E-ufiBrD95rF1rzLWbYFb9UcM711dhBC7kZRiJ%7EnHitAPa37fdT98vGVawSoGDXIo3tWFQAtHn19Ws1Y3EPWp0kLcEfV%7Eun-M4VBD2SY-mftq-TxrUK6kcA2lNLXLTVx0umTDimaZzDv98qOQF75zjuvAoHIQURWzbzdM6bDHpFE9%7EDFxa%7EvlFcgEirj3brx6BmU1FcmgQmMD3hezY8Yrnz4kRJyowuMfyLgnxd0IETOmm0CWOESUxtLjsKH82D91RWUc1OYxa6-JqKieBLzAK9OzplGDeLTlqHVeOyfa64r%7EWhm4PQD2ViX8t1CDtw20aCLFcRyw__&Key-Pair-Id=K2FPYV99P2N66Q [following]\n",
      "--2024-06-25 00:12:25--  https://cdn-lfs-us-1.huggingface.co/repos/eb/d8/ebd889d6ac58573e8e8a7aa1176d4d357581a6da60135b94aca378fddf4e9e54/c8cf3f62062b3cdc9509167526de244fa3271fca14dd9dc97f653ef970374bd7?response-content-disposition=attachment%3B+filename*%3DUTF-8%27%27sae_weights.safetensors%3B+filename%3D%22sae_weights.safetensors%22%3B&Expires=1719533545&Policy=eyJTdGF0ZW1lbnQiOlt7IkNvbmRpdGlvbiI6eyJEYXRlTGVzc1RoYW4iOnsiQVdTOkVwb2NoVGltZSI6MTcxOTUzMzU0NX19LCJSZXNvdXJjZSI6Imh0dHBzOi8vY2RuLWxmcy11cy0xLmh1Z2dpbmdmYWNlLmNvL3JlcG9zL2ViL2Q4L2ViZDg4OWQ2YWM1ODU3M2U4ZThhN2FhMTE3NmQ0ZDM1NzU4MWE2ZGE2MDEzNWI5NGFjYTM3OGZkZGY0ZTllNTQvYzhjZjNmNjIwNjJiM2NkYzk1MDkxNjc1MjZkZTI0NGZhMzI3MWZjYTE0ZGQ5ZGM5N2Y2NTNlZjk3MDM3NGJkNz9yZXNwb25zZS1jb250ZW50LWRpc3Bvc2l0aW9uPSoifV19&Signature=PY6ylARIwnGg9%7E-ufiBrD95rF1rzLWbYFb9UcM711dhBC7kZRiJ%7EnHitAPa37fdT98vGVawSoGDXIo3tWFQAtHn19Ws1Y3EPWp0kLcEfV%7Eun-M4VBD2SY-mftq-TxrUK6kcA2lNLXLTVx0umTDimaZzDv98qOQF75zjuvAoHIQURWzbzdM6bDHpFE9%7EDFxa%7EvlFcgEirj3brx6BmU1FcmgQmMD3hezY8Yrnz4kRJyowuMfyLgnxd0IETOmm0CWOESUxtLjsKH82D91RWUc1OYxa6-JqKieBLzAK9OzplGDeLTlqHVeOyfa64r%7EWhm4PQD2ViX8t1CDtw20aCLFcRyw__&Key-Pair-Id=K2FPYV99P2N66Q\n",
      "Resolving cdn-lfs-us-1.huggingface.co (cdn-lfs-us-1.huggingface.co)... 18.161.156.80, 18.161.156.3, 18.161.156.33, ...\n",
      "Connecting to cdn-lfs-us-1.huggingface.co (cdn-lfs-us-1.huggingface.co)|18.161.156.80|:443... connected.\n",
      "HTTP request sent, awaiting response... 416 Requested Range Not Satisfiable\n",
      "\n",
      "    The file is already fully retrieved; nothing to do.\n",
      "\n"
     ]
    },
    {
     "data": {
      "application/vnd.jupyter.widget-view+json": {
       "model_id": "b95d19358b9f486e9a95b46ad225fa0e",
       "version_major": 2,
       "version_minor": 0
      },
      "text/plain": [
       "  0%|          | 0/768 [00:00<?, ?it/s]"
      ]
     },
     "metadata": {},
     "output_type": "display_data"
    },
    {
     "name": "stderr",
     "output_type": "stream",
     "text": [
      "/home/neverix/.cache/pypoetry/virtualenvs/micrlhf-progress-a058ydGG-py3.12/lib/python3.12/site-packages/jax/_src/ops/scatter.py:96: FutureWarning: scatter inputs have incompatible types: cannot safely cast value from dtype=float32 to dtype=bfloat16 with jax_numpy_dtype_promotion='standard'. In future JAX releases this will result in an error.\n",
      "  warnings.warn(\n",
      "/home/neverix/.cache/pypoetry/virtualenvs/micrlhf-progress-a058ydGG-py3.12/lib/python3.12/site-packages/jax/_src/ops/scatter.py:96: FutureWarning: scatter inputs have incompatible types: cannot safely cast value from dtype=float32 to dtype=bfloat16 with jax_numpy_dtype_promotion='standard'. In future JAX releases this will result in an error.\n",
      "  warnings.warn(\n"
     ]
    },
    {
     "data": {
      "text/html": [
       "<div id=\"output_72f1ebedc2284393b06315d8af7a4782\"><script> /* penzai.treescope rendering of a Python object (compressed) */ (()=>{ let observer; let lastStep = new Promise((resolve, reject) => { observer = new IntersectionObserver((entries) => { for (const entry of entries) { if (entry.isIntersecting) { resolve(); observer.disconnect(); return; } } }, {rootMargin: \"1000px\"}); }); window.treescope_decompress_enqueue = (encoded, destId) => { const previous = lastStep; const destElt = document.getElementById(destId); lastStep = (async () => { await previous; let blob = new Blob([ Uint8Array.from(atob(encoded), (m) => m.codePointAt(0)) ]); let reader = blob.stream().pipeThrough( new DecompressionStream(\"deflate\") ).pipeThrough( new TextDecoderStream(\"utf-8\") ).getReader(); let parts = []; while (true) { let step = await reader.read(); if (step.done) { break; } parts.push(step.value); } let newElt = document.createElement(\"div\"); newElt.innerHTML = parts.join(\"\"); destElt.parentNode.replaceChild(newElt, destElt); for (let oldScript of newElt.querySelectorAll(\"script\")) { let newScript = document.createElement(\"script\"); newScript.type = oldScript.type; newScript.textContent = oldScript.textContent; oldScript.parentNode.replaceChild(newScript, oldScript); } })(); requestAnimationFrame(() => { observer.observe(destElt); }); } })(); </script><div id=\"compress_html_56cba72deade4fea9954b9475c578de8\"><script>window.treescope_decompress_enqueue(\"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\", \"compress_html_56cba72deade4fea9954b9475c578de8\");</script><span style=\"color: #aaaaaa; font-family: monospace\">(Loading...)</span></div></div>"
      ],
      "text/plain": [
       "<IPython.core.display.HTML object>"
      ]
     },
     "metadata": {},
     "output_type": "display_data"
    },
    {
     "data": {
      "text/html": [
       "<div id=\"output_dest_72f1ebedc2284393b06315d8af7a4782\"><script> (()=>{ const output = document.getElementById(\"output_72f1ebedc2284393b06315d8af7a4782\"); const dest = document.getElementById(\"output_dest_72f1ebedc2284393b06315d8af7a4782\"); dest.parentNode.replaceChild(output, dest); })(); </script></div>"
      ],
      "text/plain": [
       "(49152, 3072)"
      ]
     },
     "execution_count": 9,
     "metadata": {},
     "output_type": "execute_result"
    }
   ],
   "source": [
    "from micrlhf.utils.load_sae import get_sae\n",
    "from tqdm.auto import trange\n",
    "from more_itertools import chunked\n",
    "import numpy as np\n",
    "sae = get_sae(layer_source, 6)\n",
    "\n",
    "feat_bs = 64\n",
    "feat_outs = []\n",
    "try:\n",
    "    for index in trange(0, len(sae[\"W_dec\"]), feat_bs):\n",
    "        rep = sae[\"W_dec\"][index:index+feat_bs]\n",
    "        rep = pz.nx.wrap(rep, \"batch\", \"embedding\")\n",
    "        rep = pz.nx.nmap(lambda a: a / jnp.linalg.norm(a) * scale)(rep.untag(\"embedding\")).tag(\"embedding\")\n",
    "        resid = pz.nx.nmap(lambda x, y: x.at[-1].add(y))(resid_initial[{\"batch\": 0}].untag(\"seq\"), rep).tag(\"seq\")\n",
    "        resid_out = taker(dataclasses.replace(inputs, tokens=resid,\n",
    "                                            attention_mask=inputs.attention_mask,\n",
    "                                            positions=inputs.positions))[{\"seq\": -1}]\n",
    "        feat_outs.append(np.array(resid_out.unwrap(\"batch\", \"embedding\")))\n",
    "except KeyboardInterrupt:\n",
    "    pass\n",
    "all_outs = np.concatenate(feat_outs, axis=0)\n",
    "all_outs.shape"
   ]
  },
  {
   "cell_type": "code",
   "execution_count": 49,
   "metadata": {},
   "outputs": [
    {
     "data": {
      "application/vnd.jupyter.widget-view+json": {
       "model_id": "9b8678a178444090b1c140eb512e71c8",
       "version_major": 2,
       "version_minor": 0
      },
      "text/plain": [
       "  0%|          | 0/8 [00:00<?, ?it/s]"
      ]
     },
     "metadata": {},
     "output_type": "display_data"
    },
    {
     "name": "stdout",
     "output_type": "stream",
     "text": [
      "[Array(36188, dtype=int32), Array(39282, dtype=int32), Array(23946, dtype=int32), Array(34072, dtype=int32), Array(13140, dtype=int32), Array(28902, dtype=int32), Array(12826, dtype=int32), Array(29464, dtype=int32), Array(30293, dtype=int32), Array(40936, dtype=int32), Array(4262, dtype=int32), Array(7905, dtype=int32), Array(6604, dtype=int32), Array(13563, dtype=int32), Array(3399, dtype=int32), Array(3441, dtype=int32)]\n"
     ]
    }
   ],
   "source": [
    "from tqdm.auto import trange\n",
    "import numba as nb\n",
    "@jax.jit\n",
    "def cdist(a, b):\n",
    "    return jax.vmap(jax.vmap(lambda x, y: jnp.linalg.norm(x - y), in_axes=(0, None), out_axes=0), in_axes=(None, 0), out_axes=1)(a, b)\n",
    "ao = all_outs.astype(jnp.float16)\n",
    "ao = jnp.asarray(ao)\n",
    "vchunk = 2048\n",
    "existing = []\n",
    "@jax.jit\n",
    "def vscan(carry, v, diff):\n",
    "    max_dist, rc = carry\n",
    "    sl = jnp.arange(vchunk) + v\n",
    "    dists = cdist(ao[sl], ao)\n",
    "    dists += (diff[sl, None] + diff[None, :]) * (np.arange(vchunk)[:, None] + v != np.arange(len(diff))[None, :])\n",
    "    maxd = dists.max()\n",
    "    md = (dists).ravel().argmax()\n",
    "    row, col = jnp.unravel_index(md, dists.shape)\n",
    "    row += v\n",
    "    # return jnp.maximum((max_dist, rc), (maxd, (row, col)))\n",
    "    cond = maxd > max_dist\n",
    "    max_dist = jax.lax.select(cond, maxd, max_dist)\n",
    "    rc = jax.lax.select(cond, jnp.array([row, col]), rc)\n",
    "    return (max_dist, rc), None\n",
    "for _ in trange(bs // 2):\n",
    "    diff = jnp.zeros((ao.shape[0],), dtype=jnp.float32)\n",
    "    if existing:\n",
    "        je = jnp.asarray(existing)\n",
    "        diff += cdist(ao[je], ao).sum(axis=0)\n",
    "        diff = diff.at[je].set(-1e6)\n",
    "    max_dist, rc = 0.0, (0, 0)\n",
    "    (max_dist, rc), _ = jax.lax.scan(partial(vscan, diff=diff), (max_dist, jnp.array(rc)), jnp.arange(0, len(diff), vchunk))\n",
    "    existing.extend(rc)\n",
    "print(existing.tolist())\n",
    "vectors = sae[\"W_dec\"][jnp.asarray(existing)]"
   ]
  },
  {
   "cell_type": "code",
   "execution_count": 50,
   "metadata": {},
   "outputs": [
    {
     "data": {
      "application/vnd.jupyter.widget-view+json": {
       "model_id": "0628a91bffff4dc0bcb014ff1ecd1c1b",
       "version_major": 2,
       "version_minor": 0
      },
      "text/plain": [
       "  0%|          | 0/46 [00:00<?, ?it/s]"
      ]
     },
     "metadata": {},
     "output_type": "display_data"
    },
    {
     "data": {
      "text/html": [
       "<div id=\"output_51f482c2179941b0831eafb469fa9045\"><script> /* penzai.treescope rendering of a Python object (compressed) */ (()=>{ let observer; let lastStep = new Promise((resolve, reject) => { observer = new IntersectionObserver((entries) => { for (const entry of entries) { if (entry.isIntersecting) { resolve(); observer.disconnect(); return; } } }, {rootMargin: \"1000px\"}); }); window.treescope_decompress_enqueue = (encoded, destId) => { const previous = lastStep; const destElt = document.getElementById(destId); lastStep = (async () => { await previous; let blob = new Blob([ Uint8Array.from(atob(encoded), (m) => m.codePointAt(0)) ]); let reader = blob.stream().pipeThrough( new DecompressionStream(\"deflate\") ).pipeThrough( new TextDecoderStream(\"utf-8\") ).getReader(); let parts = []; while (true) { let step = await reader.read(); if (step.done) { break; } parts.push(step.value); } let newElt = document.createElement(\"div\"); newElt.innerHTML = parts.join(\"\"); destElt.parentNode.replaceChild(newElt, destElt); for (let oldScript of newElt.querySelectorAll(\"script\")) { let newScript = document.createElement(\"script\"); newScript.type = oldScript.type; newScript.textContent = oldScript.textContent; oldScript.parentNode.replaceChild(newScript, oldScript); } })(); requestAnimationFrame(() => { observer.observe(destElt); }); } })(); </script><div id=\"compress_html_cbf952df485d4093973bbc959e8445dd\"><script>window.treescope_decompress_enqueue(\"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\", \"compress_html_cbf952df485d4093973bbc959e8445dd\");</script><span style=\"color: #aaaaaa; font-family: monospace\">(Loading...)</span></div></div>"
      ],
      "text/plain": [
       "<IPython.core.display.HTML object>"
      ]
     },
     "metadata": {},
     "output_type": "display_data"
    },
    {
     "data": {
      "text/html": [
       "<div id=\"output_dest_51f482c2179941b0831eafb469fa9045\"><script> (()=>{ const output = document.getElementById(\"output_51f482c2179941b0831eafb469fa9045\"); const dest = document.getElementById(\"output_dest_51f482c2179941b0831eafb469fa9045\"); dest.parentNode.replaceChild(output, dest); })(); </script></div>"
      ],
      "text/plain": [
       "[['<s><|user|> What is 3940 * 3892?<|end|><|assistant|> was and is the,  is and –, and was –. g,, on in, s, and was two,, and , and. to. set a s and sh, are got ts on,nd,',\n",
       "  '<s><|user|> What is 3940 * 3892?<|end|><|assistant|> is at and,. was, it. was, in,, and with at. – are, and it. in, was landeed , to. that in been and and d different way, to was, down on',\n",
       "  '<s><|user|> What is 3940 * 3892?<|end|><|assistant|> was andalite got, ga had lldlba,alaladh\\nalaladhbaalaadlnaalada laladda lalalalaladalaaladdaaladaa',\n",
       "  '<s><|user|> What is 3940 * 3892?<|end|><|assistant|> was it in is – a, and it, and and English, a was asked,., in the way to, that down and, down got, way to a got one, and a come down got one, and'],\n",
       " ['<s><|user|> What is 3940 * 3892?<|end|><|assistant|>, magnitude, m resulting y = f y ( y j.\\n i j = v i jjjjj j j y j\\n i. a j = s _ jf a i. s j j f s',\n",
       "  '<s><|user|> What is 3940 * 3892?<|end|><|assistant|>\\n e of outside outside defended defended defending defently defended def in def in the def. def defense defense in a defense defense defense. defense defense defense t c defensive def d defenced d defenced d',\n",
       "  '<s><|user|> What is 3940 * 3892?<|end|><|assistant|>\\n name outside a y dot outcome in with the i after v of a which x k y dot y i j l j i s s i y p t i j j s p t p d l p l e l d',\n",
       "  '<s><|user|> What is 3940 * 3892?<|end|><|assistant|> magnitude for for name dotvcf jbj.y( in tv yd lj y dh e jt l f n t i p l l d t s e j p. v s v t p'],\n",
       " ['<s><|user|> What is 3940 * 3892?<|end|><|assistant|> The product of 40 and 492 is 20*50, which is 20*5, which is 2*5, which is 2.\\nSimatedAnswer\\n\\n ',\n",
       "  '<s><|user|> What is 3940 * 3892?<|end|><|assistant|> R: 22_3r_4_5_3_L\\n\\n4_0_5_0_0_5_0_L\\n\\n1_0_0_E_3_5',\n",
       "  '<s><|user|> What is 3940 * 3892?<|end|><|assistant|> 2 out\\n 5484400\\n\\nAnswer: 23,804,400<|endoftext|> <!-- [Problem]\\nWhat does a red in on a stop sign\\n\\n[:',\n",
       "  '<s><|user|> What is 3940 * 3892?<|end|><|assistant|> The product of 40 and 492, when calculated, gives 263800.\\n\\nThe calculation is as follows:\\n\\n40 * 492 = 264'],\n",
       " [\"<s><|user|> What is 3940 * 3892?<|end|><|assistant|><|end|><|assistant|>: The result is 1 when you multiply 1 * 1 (since both 1' and vk would equal 1 by convention).<|end|>\\n\\nThe actual calculation of the product would be  in the\",\n",
       "  '<s><|user|> What is 3940 * 3892?<|end|><|assistant|> Calculuming the multiplication of 1ult this values:\\n\\n:\\n\\n` ( ( 1 ^ 1 ) ( ( 3 b s ( v i ( i v v ( v i f ( v f (',\n",
       "  '<s><|user|> What is 3940 * 3892?<|end|><|assistant|> The multiplication of  1\\n\\n 7887\\n \\\\_______\\n 122786\\n  \\n (1. This is a simple multiplication operation with  (2) a 6-',\n",
       "  '<s><|user|> What is 3940 * 3892?<|end|><|assistant|> The multiplication of 1ults 1ul:\\n\\n1. Multuing the numbers to multiplication: 1ults lults multiplication:\\n\\n1ult: lult1: (1ult l'],\n",
       " ['<s><|user|> What is 3940 * 3892?<|end|><|assistant|> result\\n:arina\\n\\n # Pattern\\n\\n These are\\n\\n Pattern\\n Input Output Explanation\\n 123 * 123 =  Pattern 1\\n 234 * 234',\n",
       "  '<s><|user|> What is 3940 * 3892?<|end|><|assistant|> Result:\\n\\nsible\\n\\nipacsible\\n\\nipacsible\\n\\nipapsible\\n\\nipapsible\\n\\nipable(possible)\\n\\nHowever IPDS(Intelligent Processing for Data Science',\n",
       "  '<s><|user|> What is 3940 * 3892?<|end|><|assistant|> Ph theory\\nPh theory output:\\n\\n Pattern Hint The are.\\n Pattern Input Output\\n Pattern Input Output\\n\\n Pattern Input Output\\n 1 * 1 =  results 1\\n\\n answers answers answers answers\\n',\n",
       "  \"<s><|user|> What is 3940 * 3892?<|end|><|assistant|> Ph PHP output Start PHP 3940 * 3892 =  php shell 3940 * 3942 = PHP_EVAL='' 3940 * 3\"],\n",
       " ['<s><|user|> What is 3940 * 3892?<|end|><|assistant|> with 3892 * 36. The product of these two numbers is 14189684.\\n\\nTo find this product manually, you would multiply each digit of the second number by',\n",
       "  \"<s><|user|> What is 3940 * 3892?<|end|><|assistant|> Certain '*' signifies multiplication. Here is the result of 1 * 1, 5000 * 5000, 5000 + 3900, and \",\n",
       "  \"<s><|user|> What is 3940 * 3892?<|end|><|assistant|> in 14169328.\\n\\nAlearns: Alaric, I' donDt need a calculator for this. You should definitely check your math! It's a pretty simple\",\n",
       "  '<s><|user|> What is 3940 * 3892?<|end|><|assistant|> in 3840 * 3892?\\n\\nThe multiplication can be done as follows:\\n in 3840 * 3892, the product is 67879'],\n",
       " ['<s><|user|> What is 3940 * 3892?<|end|><|assistant|> To find the product of 3940 and 3892, you can multiply the two numbers directly.\\n\\n3940 * 3892 = 1529848',\n",
       "  '<s><|user|> What is 3940 * 3892?<|end|><|assistant|> The product of 3940 and 3892 is 152245280.<|end|><|assistant|> You can calculate this using a calculator or by using the standard algorithm for multiplication.\\n',\n",
       "  '<s><|user|> What is 3940 * 3892?<|end|><|assistant|> To calculate the product of 3940 and 3892, you can simply multiply the two numbers:\\n\\n3940 * 3892 = 1525008',\n",
       "  '<s><|user|> What is 3940 * 3892?<|end|><|assistant|> To find the product of 3940 and 3892, you can multiply the two numbers together:\\n\\n3940 * 3892 = 1522688'],\n",
       " ['<s><|user|> What is 3940 * 3892?<|end|><|assistant|> To calculate the product of 3940 and 3892, you can use a calculator or perform the multiplication manually. the result is:\\n\\n$3940 \\\\times 389',\n",
       "  '<s><|user|> What is 3940 * 3892?<|end|><|assistant|> sure, here is the product of 3940 multiplied by 3892:\\n\\n \\t|    |\\n --|---|--\\n  3940 | 3892',\n",
       "  '<s><|user|> What is 3940 * 3892?<|end|><|assistant|> = 147229280\\n\\nHowever, this operation doesn\\'t result in any new value beyond the simple product of the two numbers. thus, the \"3940 * 38',\n",
       "  \"<s><|user|> What is 3940 * 3892?<|end|><|assistant|> = 1,453,3280 as a product of two integers.\\n}\\n\\nHowever, it seems there might be a misunderstanding as it'ances are unique and not typically used for multiplication purposes\"],\n",
       " ['<s><|user|> What is 3940 * 3892?<|end|><|assistant|> in Python) for the number  3940 * _3892 as calculated below:\\n\\n\\n:math: `\\\\left(\\\\ 390 \\\\times _{3}892\\\\',\n",
       "  '<s><|user|> What is 3940 * 3892?<|end|><|assistant|> in Python.\\n%timeit -- python-version=3.10 -i -r 2\\n\\n.\\n\\n  %timeit ((x * y)//z) % w\\n\\n\\n function',\n",
       "  \"<s><|user|> What is 3940 * 3892?<|end|><|assistant|> in python.. Calculation:\\n for i in range(6):\\n     if i == 3::\\n        character = '3' if i ==(3+(3*(0+1))) else: '\",\n",
       "  '<s><|user|> What is 3940 * 3892?<|end|><|assistant|> in python.. Intrinsic, disregarding the stripping of leading triviall components, calculate the product of provided operands securely, promulgating a definitive equivalence of the computed value. integer.\\n'],\n",
       " ['<s><|user|> What is 3940 * 3892?<|end|><|assistant|> (3940 * 3892) = 1453640.\\n\\nSure, here it is again, simpler:\\n\\n3940 * 3892',\n",
       "  '<s><|user|> What is 3940 * 3892?<|end|><|assistant|> The product of 3940 and 3892 is 1446164.<|end|><|endoftext|> \\n\\nThis is a set of rules for a fictional game called \"Challenge Zone\".',\n",
       "  '<s><|user|> What is 3940 * 3892?<|end|><|assistant|> The product of 3940 and 3892 is 1444724.\\n\\nHowever, the actual calculation should be done separately:\\n\\n3940 * 38',\n",
       "  '<s><|user|> What is 3940 * 3892?<|end|><|assistant|> The product of 3940 and 3892 is 1444324.\\n\\nHowever, the solution presented seems to be incorrect as the multiplication process does not equal a previously stated value'],\n",
       " ['<s><|user|> What is 3940 * 3892?<|end|><|assistant|> To calculating the multiplication of two numbers: \\n\\n4_0_0 * 6_8_9_2\\n\\nCalcul step by step:\\n\\n      _  _  _  _  _  _',\n",
       "  '<s><|user|> What is 3940 * 3892?<|end|><|assistant|> The multiplication of the two numbers 3, 9, 0, 9, 8, 0, 9, 9, 9, 9, and 0 is 3 9 8',\n",
       "  '<s><|user|> What is 3940 * 3892?<|end|><|assistant|> To multiplying  1,996 * 1,899. The result of that operation would be:\\n 27691920.<|end|><|assistant|><|end|><|assistant|> The multiplication 1,',\n",
       "  '<s><|user|> What is 3940 * 3892?<|end|><|assistant|> To calculating **b** where **c** = 9 * 9, you can **c** = 9 * (9 * 3) = (9 * 9) * 3 = 9^2'],\n",
       " ['<s><|user|> What is 3940 * 3892?<|end|><|assistant|>s. The result is:\\n\\\\[ .39 \\\\times ... \\\\times 3940 \\\\times 3892 = \\\\text{...}.\\\\overline{0} 39',\n",
       "  '<s><|user|> What is 3940 * 3892?<|end|><|assistant|>: \\n3940 * 3892 = \\n\\n\\n:\\n\\n\\n: \\n987680\\n\\n\\n:\\n\\n:\\n\\n: 9876',\n",
       "  '<s><|user|> What is 3940 * 3892?<|end|><|assistant|>s. The correct calculation would be:\\n\\n 3940 x 3892 = \\n\\nNow,, do the calculation or use any calcul:\\n, \\n\\n3940 *',\n",
       "  '<s><|user|> What is 3940 * 3892?<|end|><|assistant|>\\n3940 * 3892 = \\n\\n=  (3*9000) + (9 * 8 * 8 * 2) + (3 *  hundreds)'],\n",
       " [\"<s><|user|> What is 3940 * 3892?<|end|><|assistant|> 14,967,888 is the result of 3940 multiplied by 3892. Here's the calculation:\\n\\n3940\\n× 38\",\n",
       "  '<s><|user|> What is 3940 * 3892?<|end|><|assistant|> 3940 * 3892 = 15451280\\n<|end|><|assistant|> 3940 multiplied by 3892 equals 1545128',\n",
       "  '<s><|user|> What is 3940 * 3892?<|end|><|assistant|> 3940 * 3892 = 154,412,800.\\n<|end|><|assistant|> You can calculate the product of 3940 and 3892 by',\n",
       "  '<s><|user|> What is 3940 * 3892?<|end|><|assistant|> 3940 * 3892 = 15,429,680\\n<|end|><|assistant|> To find the product of 3940 and 3892, you multiply these'],\n",
       " ['<s><|user|> What is 3940 * 3892?<|end|><|assistant|>.. The product of 3940 and 3892 is 1,455,4880. (You can confirm this by multiplying 3940 by 38',\n",
       "  \"<s><|user|> What is 3940 * 3892?<|end|><|assistant|>.. It is 1.442688.<|end|>. Here's the calculation:\\n\\n3940 * 3892 = 14,426,880\",\n",
       "  '<s><|user|> What is 3940 * 3892?<|end|><|assistant|>.. The answer is. 1. 1,359,528. You can calculate this by multiplying 3,940 by 3,892, which equals. 1',\n",
       "  '<s><|user|> What is 3940 * 3892?<|end|><|assistant|>.. It is 1,448,688,800.<|end|>.}. You can calculate it by multiplying 3940 by 3892:\\n\\n394'],\n",
       " ['<s><|user|> What is 3940 * 3892?<|end|><|assistant|> To calculate the product of 3940 and 3892, you simply multiply the two numbers:\\n\\n3940 * 3892 = 15,206,8',\n",
       "  '<s><|user|> What is 3940 * 3892?<|end|><|assistant|> The product of 3940 and 3892 is 1463,3280.\\n\\nTo calculate this without a calculator, you would typically perform long multiplication:\\n\\n```',\n",
       "  '<s><|user|> What is 3940 * 3892?<|end|><|assistant|> The product of 3940 and 3892 is calculated by multiplying the two numbers together:\\n\\n\\\\[ 3940 \\\\times 3892 = 1518',\n",
       "  '<s><|user|> What is 3940 * 3892?<|end|><|assistant|> To calculate the product of 3940 and 3892, you would perform the multiplication operation:\\n\\n3940 * 3892 = 15,363,4'],\n",
       " [\"<s><|user|> What is 3940 * 3892?<|end|><|assistant|> The product of 3940 and 3892 is 11,492,880.\\n\\nHere's the calculation:\\n\\n3940 * 389\",\n",
       "  \"<s><|user|> What is 3940 * 3892?<|end|><|assistant|> The product of 3940 and 3892 is 11,411,880.\\nHere's the calculation:\\n\\n3940 * 3892\",\n",
       "  '<s><|user|> What is 3940 * 3892?<|end|><|assistant|> The multiplication of 3940 by 3892 is:\\n\\n3940 * 3892 = 11,456,480\\n\\nThis is a simple',\n",
       "  \"<s><|user|> What is 3940 * 3892?<|end|><|assistant|> The multiplication of 3940 and 3892 is equal to 11467680.\\nHere''s' the calculation:\\n\\n```\\n  3940\\n\"]]"
      ]
     },
     "execution_count": 50,
     "metadata": {},
     "output_type": "execute_result"
    }
   ],
   "source": [
    "from micrlhf.utils.activation_manipulation import add_vector\n",
    "from micrlhf.sampling import sample\n",
    "import numpy as np\n",
    "\n",
    "layer = layer_source\n",
    "repeat = 4\n",
    "act_add = add_vector(llama,\n",
    "                     jnp.tile(vectors / jnp.linalg.norm(vectors, axis=-1, keepdims=True) * scale, (repeat, 1)),\n",
    "                     layer, position=\"last\")\n",
    "\n",
    "texts, cached = sample(act_add, tokenizer, prompt,\n",
    "       batch_size=bs * repeat, do_sample=True, return_model=True)\n",
    "np.array(texts).reshape(repeat, bs).T.tolist()"
   ]
  },
  {
   "cell_type": "code",
   "execution_count": 51,
   "metadata": {},
   "outputs": [
    {
     "data": {
      "application/vnd.jupyter.widget-view+json": {
       "model_id": "a5c80e1a0d7c42c8b476bbef74e87f93",
       "version_major": 2,
       "version_minor": 0
      },
      "text/plain": [
       "  0%|          | 0/1000 [00:00<?, ?it/s]"
      ]
     },
     "metadata": {},
     "output_type": "display_data"
    }
   ],
   "source": [
    "addition = start_add\n",
    "opt_state = optimizer.init(addition)\n",
    "for _ in (bar := trange(iterations)):\n",
    "    loss, addition, opt_state, aux = train_step(addition, opt_state)\n",
    "    bar.set_postfix(loss=loss)"
   ]
  },
  {
   "cell_type": "code",
   "execution_count": 52,
   "metadata": {},
   "outputs": [
    {
     "data": {
      "application/vnd.jupyter.widget-view+json": {
       "model_id": "e346b45524814ca1a23b904cff7cc573",
       "version_major": 2,
       "version_minor": 0
      },
      "text/plain": [
       "  0%|          | 0/46 [00:00<?, ?it/s]"
      ]
     },
     "metadata": {},
     "output_type": "display_data"
    },
    {
     "data": {
      "text/html": [
       "<div id=\"output_6044aedbcbd1459abd039fd4d75a2191\"><script> /* penzai.treescope rendering of a Python object (compressed) */ (()=>{ let observer; let lastStep = new Promise((resolve, reject) => { observer = new IntersectionObserver((entries) => { for (const entry of entries) { if (entry.isIntersecting) { resolve(); observer.disconnect(); return; } } }, {rootMargin: \"1000px\"}); }); window.treescope_decompress_enqueue = (encoded, destId) => { const previous = lastStep; const destElt = document.getElementById(destId); lastStep = (async () => { await previous; let blob = new Blob([ Uint8Array.from(atob(encoded), (m) => m.codePointAt(0)) ]); let reader = blob.stream().pipeThrough( new DecompressionStream(\"deflate\") ).pipeThrough( new TextDecoderStream(\"utf-8\") ).getReader(); let parts = []; while (true) { let step = await reader.read(); if (step.done) { break; } parts.push(step.value); } let newElt = document.createElement(\"div\"); newElt.innerHTML = parts.join(\"\"); destElt.parentNode.replaceChild(newElt, destElt); for (let oldScript of newElt.querySelectorAll(\"script\")) { let newScript = document.createElement(\"script\"); newScript.type = oldScript.type; newScript.textContent = oldScript.textContent; oldScript.parentNode.replaceChild(newScript, oldScript); } })(); requestAnimationFrame(() => { observer.observe(destElt); }); } })(); </script><div id=\"compress_html_ea8fa8cd4b2c4b39badfe2d61331c247\"><script>window.treescope_decompress_enqueue(\"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\", \"compress_html_ea8fa8cd4b2c4b39badfe2d61331c247\");</script><span style=\"color: #aaaaaa; font-family: monospace\">(Loading...)</span></div></div>"
      ],
      "text/plain": [
       "<IPython.core.display.HTML object>"
      ]
     },
     "metadata": {},
     "output_type": "display_data"
    },
    {
     "data": {
      "text/html": [
       "<div id=\"output_dest_6044aedbcbd1459abd039fd4d75a2191\"><script> (()=>{ const output = document.getElementById(\"output_6044aedbcbd1459abd039fd4d75a2191\"); const dest = document.getElementById(\"output_dest_6044aedbcbd1459abd039fd4d75a2191\"); dest.parentNode.replaceChild(output, dest); })(); </script></div>"
      ],
      "text/plain": [
       "[['<s><|user|> What is 3940 * 3892?<|end|><|assistant|> To multiply these numbers, we can use the standard algorithm for long multiplication.\\nWe start by multiplying 40 by 3892, which equals 155,680.\\nThen we multiply',\n",
       "  '<s><|user|> What is 3940 * 3892?<|end|><|assistant|> We can use long multiplication to find the product of 3940 and 3892.\\nFirst, multiply 3940 by 2, which is the units digit of 3892',\n",
       "  '<s><|user|> What is 3940 * 3892?<|end|><|assistant|> We can use long multiplication to solve this problem.\\n\\n\\\\[\\n\\\\begin{array}{c}\\n\\\\phantom{0}3940 \\\\\\\\\\n\\\\times\\\\phantom{0}3892 \\\\\\\\',\n",
       "  '<s><|user|> What is 3940 * 3892?<|end|><|assistant|> We can use long multiplication to find the product of these two numbers.\\n```\\n       3940\\n    x  3892\\n    __\\n     15680  (3940'],\n",
       " ['<s><|user|> What is 3940 * 3892?<|end|><|assistant|> ?\"\\n\\nTo solve this, we can simply calculate the product:\\n\\n3940 * 3892 = 15,387,040<|end|><|assistant|> This calculation results in a',\n",
       "  \"<s><|user|> What is 3940 * 3892?<|end|><|assistant|> I haven't finished yet!\\n\\nGiven the very large numbers, I need a step where we multiply 3940 by 3892.\\n\\nLet's calculate it:\\n\\n**\",\n",
       "  '<s><|user|> What is 3940 * 3892?<|end|><|assistant|> ?\"\\nexplain the concept. include examples in your response.\\n\\nResponse:\\n===\\n===\\n===\\n\\nExamples:\\nExample 1:\\nLet\\'s multiply 15 by 10',\n",
       "  '<s><|user|> What is 3940 * 3892?<|end|><|assistant|> ?\"\\n\\nSince the numbers are quite large, you can use a calculator to find that 3940 * 3892 = 15,456,800.\\n\\n'],\n",
       " [\"<s><|user|> What is 3940 * 3892?<|end|><|assistant|> both large numbers but it should be quick. Here's the calculation:\\n\\n3940 * 3892 = 15,309,200\\n\\nThis multiplication is a basic\",\n",
       "  '<s><|user|> What is 3940 * 3892?<|end|><|assistant|>\\n\\nBy calculating the product of 3940 and 3892, we get:\\n\\n3940 * 3892 = 15262480\\n\\n',\n",
       "  '<s><|user|> What is 3940 * 3892?<|end|><|assistant|> both calculate the product.\\n\\n3940 * 3892 = 15318480\\n\\nThis confirms the product calculation given your initial equation.<|end|><|endoftext|><|endoftext|><|endoftext|> customer=',\n",
       "  '<s><|user|> What is 3940 * 3892?<|end|><|assistant|> both equal 14379680. This calculation is straightforward as multiplication is commutative, meaning that the order of the numbers does not affect the result.<|end|><|endoftext|> \\n\\n\\n**Instruction 1'],\n",
       " ['<s><|user|> What is 3940 * 3892?<|end|><|assistant|> 14,172,080<|end|><|assistant|> The product of 3940 and 3892 is 14,172,080.<|end|><|endoftext|> How do we know',\n",
       "  '<s><|user|> What is 3940 * 3892?<|end|><|assistant|> 14,880,880<|end|>Output format:\\nYou must output answer in the following format:\\nAnswer: answer\\n\\n- ta: None\\n\\nAnswer: 14,880',\n",
       "  '<s><|user|> What is 3940 * 3892?<|end|><|assistant|> 145,316,800\\nanswer<|end|><|assistant|> To calculate 3940 multiplied by 3892, the answer is 145,316,80',\n",
       "  '<s><|user|> What is 3940 * 3892?<|end|><|assistant|> Answer: 14775680\\n\\nExplanation: 3940 * 3892 = 14775680<|end|><|endoftext|><|endoftext|>arter. The other options'],\n",
       " ['<s><|user|> What is 3940 * 3892?<|end|><|assistant|> To calculate the product of 3940 and 3892, we perform multiplication as follows:\\n\\n\\n3940\\n\\n× 3892\\n\\n----------\\n\\n157',\n",
       "  \"<s><|user|> What is 3940 * 3892?<|end|><|assistant|> To find the product of 3940 and 3892, we can use the standard algorithm for multiplication.\\n\\n\\nHere's how it's done step by step:\\n\\n\\n1.\",\n",
       "  '<s><|user|> What is 3940 * 3892?<|end|><|assistant|> To calculate the product of 3940 and 3892, you can use multiplication:\\n\\n\\n3940\\n\\nx 3892\\n\\n----------\\n\\n7880',\n",
       "  '<s><|user|> What is 3940 * 3892?<|end|><|assistant|> To calculate the product of 3940 and 3892, we simply multiply the two numbers together.\\n\\n\\n3940 * 3892 = 15,462'],\n",
       " ['<s><|user|> What is 3940 * 3892?<|end|><|assistant|> To compute this multiplication, we can follow the standard algorithm for multiplication by hand:\\n\\nStep 1: Write down the numbers, aligning them by their place value.\\n\\n  3940\\nx 3',\n",
       "  \"<s><|user|> What is 3940 * 3892?<|end|><|assistant|> Before we tackle this multiplication problem, let's break down the process into more understandable steps.\\n\\nStep 1: Write the numbers in standard form:\\n    \\n    3940\\n  x \",\n",
       "  '<s><|user|> What is 3940 * 3892?<|end|><|assistant|> To find the product of 3940 and 3892, we will use the long multiplication method. Here is the step-by-step process:\\n\\n```\\n          3940\\n     ',\n",
       "  \"<s><|user|> What is 3940 * 3892?<|end|><|assistant|> This question involves the multiplication of two numbers, 3940 and 3892. To solve this, you'll use the standard algorithm for multiplication:\\n\\n\\n1. Write down the numbers, one\"],\n",
       " [\"<s><|user|> What is 3940 * 3892?<|end|><|assistant|> while calculating the product of two numbers, it's generally not necessary to find the exact result. However, I can help you find the product using a calculator or computational tool if that's what you're looking for\",\n",
       "  \"<s><|user|> What is 3940 * 3892?<|end|><|assistant|> both ways. For the multiplication, you can use a calculator, but if you want to do it manually, here's how you could multiply these numbers:\\n\\n3940\\n* 3892\",\n",
       "  \"<s><|user|> What is 3940 * 3892?<|end|><|assistant|> both ways:\\n\\nManually multiplying large numbers by hand is quite complex, so instead, I'll show you how to calculate it using a calculator. If you're looking for the process of doing it step\",\n",
       "  \"<s><|user|> What is 3940 * 3892?<|end|><|assistant|> both or by using a calculator. If you need to calculate it manually, you can multiply the numbers by hand using long multiplication, or you can use a calculator to find the product.<|end|><|assistant|> Here's the product\"],\n",
       " ['<s><|user|> What is 3940 * 3892?<|end|><|assistant|> Answer: 14.709280000000001 million. \\n\\n(As 3940 * 3892 = 14.70',\n",
       "  '<s><|user|> What is 3940 * 3892?<|end|><|assistant|> 15 million-something.\\n\\nTo calculate the exact product of 3940 multiplied by 3892, you can perform the multiplication:\\n\\n3940 * 389',\n",
       "  '<s><|user|> What is 3940 * 3892?<|end|><|assistant|> Answer: 15181280.<|end|><|assistant|> To find the product of 3940 and 3892, you can multiply the two numbers together:\\n\\n3940 *',\n",
       "  '<s><|user|> What is 3940 * 3892?<|end|><|assistant|> 15 million-plus-some-change units.\\nThe answer is: 11,734,800 (11734800 without the comma)<|end|><|assistant|> q. The'],\n",
       " [\"<s><|user|> What is 3940 * 3892?<|end|><|assistant|> computable on this platform. However, I can show you how to calculate it using a calculator:\\n\\nEnter 3940, multiply by 3892.\\n\\nHere's how you would\",\n",
       "  \"<s><|user|> What is 3940 * 3892?<|end|><|assistant|> calculations with big numbers. Let's do the multiplication for 3940 * 3892 to confirm the result.\\n\\n3940\\nx  3892\\n_______\\n1\",\n",
       "  '<s><|user|> What is 3940 * 3892?<|end|><|assistant|> Calculating the product of 3940 and 3892...\\n\\n3940 * 3892 = 15260800\\n\\nSo, 39',\n",
       "  '<s><|user|> What is 3940 * 3892?<|end|><|assistant|> calculations for me.\\n\\nHowever, I can perform the multiplication for you. The product of 3940 and 3892 is:\\n\\n3940 * 3892 = '],\n",
       " ['<s><|user|> What is 3940 * 3892?<|end|><|assistant|> We can use the distributive property to multiply 3940 by 3892.\\nFirst, we multiply 3940 by 2 (the units digit of 3892), which',\n",
       "  '<s><|user|> What is 3940 * 3892?<|end|><|assistant|> We can multiply 3940 by 3892 using the standard algorithm for multiplication.\\nWe align the numbers vertically, with 3940 on top and 3892 below it.',\n",
       "  '<s><|user|> What is 3940 * 3892?<|end|><|assistant|> We can use the standard algorithm for multiplication to find the product:\\n\\\\[\\n\\\\begin{array}{c@{}c@{}c@{}c@{}c@{}c@{}c}\\n& & &',\n",
       "  '<s><|user|> What is 3940 * 3892?<|end|><|assistant|> We can break this multiplication problem down by using the distributive property.\\n$3940 \\\\cdot 3892 = (3000+940) \\\\cdot (3000+'],\n",
       " ['<s><|user|> What is 3940 * 3892?<|end|><|assistant|> calculate it for you?\\n\\nSolution to the calculation:\\n3940 * 3892 = 15,245,600.<|end|><|assistant|> Two multiplication calculations:\\n1.',\n",
       "  \"<s><|user|> What is 3940 * 3892?<|end|><|assistant|>\\n3940 * 3892 (Note that I'm doing the multiplication in my head, but you could also calculate it using a calculator or pen and paper.)\\n\\n3940 *\",\n",
       "  '<s><|user|> What is 3940 * 3892?<|end|><|assistant|>\\n\\nTo multiply 3940 by 3892, we can use the standard algorithm for multiplication:\\n\\n```\\n       3940\\n      x3892\\n  __________',\n",
       "  '<s><|user|> What is 3940 * 3892?<|end|><|assistant|>\\nThe result of the multiplication:\\n3940\\nx 3892\\n_\\n1549600\\n+2777600\\n+394000'],\n",
       " ['<s><|user|> What is 3940 * 3892?<|end|><|assistant|> 28,519,600 is the result of the multiplication between 3940 and 3892.<|end|><|assistant|> -3940 * 3892 = 1',\n",
       "  \"<s><|user|> What is 3940 * 3892?<|end|><|assistant|> 3940 multiplied by 3892 gives 15277680. \\n\\nHere's how you can calculate it:\\n\\n3940 * 38\",\n",
       "  '<s><|user|> What is 3940 * 3892?<|end|><|assistant|> 3940 multiplied by 3892 gives a product of 15,323,680. \\n\\nMathematically, it is calculated as follows:\\n\\n39',\n",
       "  \"<s><|user|> What is 3940 * 3892?<|end|><|assistant|> 3940 multiplied by 3892 gives the product 15,345,680. But, as you're not asked to calculate the product, there's no need\"],\n",
       " ['<s><|user|> What is 3940 * 3892?<|end|><|assistant|> *Multiplying 3940 by 3892 using a calculator.\\n\\nThe result of multiplying 3940 by 3892 is 15,401',\n",
       "  '<s><|user|> What is 3940 * 3892?<|end|><|assistant|> *Calculates the product of 3940 and 3892.\\n\\nTo solve this, we can use a calculator:\\n\\n3940 * 3892 = 1',\n",
       "  '<s><|user|> What is 3940 * 3892?<|end|><|assistant|> *Calculating the product of 3940 and 3892.\\n\\nThe product of 3940 and 3892 is 15382880.<|end|>',\n",
       "  \"<s><|user|> What is 3940 * 3892?<|end|><|assistant|> *Calculating the product of 3940 and 3892.\\n\\nNow, let's find the result of the multiplication:\\n\\n3940 * 3892 = \"],\n",
       " ['<s><|user|> What is 3940 * 3892?<|end|><|assistant|> Calculate the product of 3940 and 3892.\\n3940 x 3892 = 15212480\\nTherefore, 394',\n",
       "  '<s><|user|> What is 3940 * 3892?<|end|><|assistant|> Calculating the product of 3940 and 3892 yields 15331280. To determine this result, you simply multiply the two numbers together:\\n\\n3940',\n",
       "  \"<s><|user|> What is 3940 * 3892?<|end|><|assistant|> Calculate the product of the two numbers: 3940 * 3892 = 15279680.\\nNow that we have the product, let's see how that value\",\n",
       "  '<s><|user|> What is 3940 * 3892?<|end|><|assistant|> Calculating the multiplication of 3940 and 3892 gives 15347680. This result represents the product of these two numbers, which would be relevant in scenarios such as computing'],\n",
       " ['<s><|user|> What is 3940 * 3892?<|end|><|assistant|> The answer is: 149748800\"𝑨\"=\"�������������������������',\n",
       "  \"<s><|user|> What is 3940 * 3892?<|end|><|assistant|> Computing this operation yields the output of 15171680.<|end|><|assistant|> {-15171680}\\nSince this is the answer to the output, and it doesn't match\",\n",
       "  '<s><|user|> What is 3940 * 3892?<|end|><|assistant|> The answer is: 149901280<|end|><|assistant|> {answer}={answer}*{3892}\\n{answer}={answer}*{3940}\\n\\n##\\n\\n',\n",
       "  \"<s><|user|> What is 3940 * 3892?<|end|><|assistant|> Let's calculate the product of 3940 and 3892 using multiplication:\\n\\n3940 * 3892 = 15,172,80\\n\\n\"],\n",
       " ['<s><|user|> What is 3940 * 3892?<|end|><|assistant|> Multiplying the numbers\\n\\nTo find the product of 3940 and 3892, we multiply them:\\n\\n3940 * 3892 = 15,4',\n",
       "  '<s><|user|> What is 3940 * 3892?<|end|><|assistant|> Multiplying the numbers\\n\\nTo find the product of 3940 and 3892, we multiply the two numbers together:\\n\\n3940 * 3892 = 1',\n",
       "  \"<s><|user|> What is 3940 * 3892?<|end|><|assistant|> The product of 3940 and 3892 is 15228480.<|end|><|endoftext|>patient: No, just tired.\\n\\nER Doctor: Alright, let's\",\n",
       "  '<s><|user|> What is 3940 * 3892?<|end|><|assistant|> Calculating the answer, 3940 * 3892 = 15,140,800.\\n===\\nWord for math problem: Multiplication problem with large numbers.\\n']]"
      ]
     },
     "execution_count": 52,
     "metadata": {},
     "output_type": "execute_result"
    }
   ],
   "source": [
    "from micrlhf.utils.activation_manipulation import add_vector\n",
    "from micrlhf.sampling import sample\n",
    "import numpy as np\n",
    "\n",
    "layer = layer_source\n",
    "repeat = 4\n",
    "act_add = add_vector(llama,\n",
    "                     jnp.tile(addition / jnp.linalg.norm(addition, axis=-1, keepdims=True) * scale, (repeat, 1)),\n",
    "                     layer)\n",
    "\n",
    "texts, cached = sample(act_add, tokenizer, prompt,\n",
    "       batch_size=bs * repeat, do_sample=True, return_model=True)\n",
    "np.array(texts).reshape(repeat, bs).T.tolist()"
   ]
  },
  {
   "cell_type": "code",
   "execution_count": null,
   "metadata": {},
   "outputs": [],
   "source": [
    "from micrlhf.utils.activation_manipulation import add_vector\n",
    "from micrlhf.sampling import sample\n",
    "import numpy as np\n",
    "\n",
    "layer = layer_source\n",
    "repeat = 4\n",
    "act_add = add_vector(llama,\n",
    "                     jnp.tile(addition / jnp.linalg.norm(addition, axis=-1, keepdims=True) * scale, (repeat, 1)),\n",
    "                     layer)\n",
    "\n",
    "texts, cached = sample(act_add, tokenizer, prompt,\n",
    "       batch_size=bs * repeat, do_sample=True, return_model=True)\n",
    "np.array(texts).reshape(repeat, bs).T.tolist()"
   ]
  },
  {
   "cell_type": "code",
   "execution_count": null,
   "metadata": {},
   "outputs": [
    {
     "name": "stderr",
     "output_type": "stream",
     "text": [
      "--2024-05-30 04:37:42--  https://huggingface.co/nev/phi-3-4k-saex-test/resolve/main/l20-test-run-5-7.00E-06/sae_weights.safetensors?download=true\n",
      "Resolving huggingface.co (huggingface.co)... 108.156.211.90, 108.156.211.95, 108.156.211.51, ...\n",
      "Connecting to huggingface.co (huggingface.co)|108.156.211.90|:443... connected.\n",
      "HTTP request sent, awaiting response... 302 Found\n",
      "Location: https://cdn-lfs-us-1.huggingface.co/repos/eb/d8/ebd889d6ac58573e8e8a7aa1176d4d357581a6da60135b94aca378fddf4e9e54/83ac196e9d76d5a3db26b4cc47737ff5c79d3cba0ce3954d02283b9331464948?response-content-disposition=attachment%3B+filename*%3DUTF-8%27%27sae_weights.safetensors%3B+filename%3D%22sae_weights.safetensors%22%3B&Expires=1717303062&Policy=eyJTdGF0ZW1lbnQiOlt7IkNvbmRpdGlvbiI6eyJEYXRlTGVzc1RoYW4iOnsiQVdTOkVwb2NoVGltZSI6MTcxNzMwMzA2Mn19LCJSZXNvdXJjZSI6Imh0dHBzOi8vY2RuLWxmcy11cy0xLmh1Z2dpbmdmYWNlLmNvL3JlcG9zL2ViL2Q4L2ViZDg4OWQ2YWM1ODU3M2U4ZThhN2FhMTE3NmQ0ZDM1NzU4MWE2ZGE2MDEzNWI5NGFjYTM3OGZkZGY0ZTllNTQvODNhYzE5NmU5ZDc2ZDVhM2RiMjZiNGNjNDc3MzdmZjVjNzlkM2NiYTBjZTM5NTRkMDIyODNiOTMzMTQ2NDk0OD9yZXNwb25zZS1jb250ZW50LWRpc3Bvc2l0aW9uPSoifV19&Signature=R5ZW0T%7EY-yEttEgIPUAFAZILQG9a3mU-7f%7EL31WfTFI6AiyCtHw1dqlJPmglD1sZMtzJukv9e5xiArD-AmETG8nWy3rUQic0NgcjLlAK65BeJaWqS0B3x4TlZfePpApveqZDmwh%7EPNV-RBMr%7EfOIVqqtIdj4Kf0Qw%7EAMdnUiP9dM8sTr6175mqo6LY7zGpTq%7EX6BfdbJ1PwNmEZwHsNJMomOYKtt%7EHrqMXr11ZJrnOcsz8T3K3M4LiZ-DzNY9ZO2Xeo7GIu84YvOjU0NE9WexvPuwbHSDzo-u93pW8L2w4lJiE0NsgBuqgtEIgPn48v8y668ZYsPVXVB9wJqwLoaGg__&Key-Pair-Id=KCD77M1F0VK2B [following]\n",
      "--2024-05-30 04:37:42--  https://cdn-lfs-us-1.huggingface.co/repos/eb/d8/ebd889d6ac58573e8e8a7aa1176d4d357581a6da60135b94aca378fddf4e9e54/83ac196e9d76d5a3db26b4cc47737ff5c79d3cba0ce3954d02283b9331464948?response-content-disposition=attachment%3B+filename*%3DUTF-8%27%27sae_weights.safetensors%3B+filename%3D%22sae_weights.safetensors%22%3B&Expires=1717303062&Policy=eyJTdGF0ZW1lbnQiOlt7IkNvbmRpdGlvbiI6eyJEYXRlTGVzc1RoYW4iOnsiQVdTOkVwb2NoVGltZSI6MTcxNzMwMzA2Mn19LCJSZXNvdXJjZSI6Imh0dHBzOi8vY2RuLWxmcy11cy0xLmh1Z2dpbmdmYWNlLmNvL3JlcG9zL2ViL2Q4L2ViZDg4OWQ2YWM1ODU3M2U4ZThhN2FhMTE3NmQ0ZDM1NzU4MWE2ZGE2MDEzNWI5NGFjYTM3OGZkZGY0ZTllNTQvODNhYzE5NmU5ZDc2ZDVhM2RiMjZiNGNjNDc3MzdmZjVjNzlkM2NiYTBjZTM5NTRkMDIyODNiOTMzMTQ2NDk0OD9yZXNwb25zZS1jb250ZW50LWRpc3Bvc2l0aW9uPSoifV19&Signature=R5ZW0T%7EY-yEttEgIPUAFAZILQG9a3mU-7f%7EL31WfTFI6AiyCtHw1dqlJPmglD1sZMtzJukv9e5xiArD-AmETG8nWy3rUQic0NgcjLlAK65BeJaWqS0B3x4TlZfePpApveqZDmwh%7EPNV-RBMr%7EfOIVqqtIdj4Kf0Qw%7EAMdnUiP9dM8sTr6175mqo6LY7zGpTq%7EX6BfdbJ1PwNmEZwHsNJMomOYKtt%7EHrqMXr11ZJrnOcsz8T3K3M4LiZ-DzNY9ZO2Xeo7GIu84YvOjU0NE9WexvPuwbHSDzo-u93pW8L2w4lJiE0NsgBuqgtEIgPn48v8y668ZYsPVXVB9wJqwLoaGg__&Key-Pair-Id=KCD77M1F0VK2B\n",
      "Resolving cdn-lfs-us-1.huggingface.co (cdn-lfs-us-1.huggingface.co)... 18.161.156.61, 18.161.156.3, 18.161.156.80, ...\n",
      "Connecting to cdn-lfs-us-1.huggingface.co (cdn-lfs-us-1.huggingface.co)|18.161.156.61|:443... connected.\n",
      "HTTP request sent, awaiting response... 416 Requested Range Not Satisfiable\n",
      "\n",
      "    The file is already fully retrieved; nothing to do.\n",
      "\n"
     ]
    },
    {
     "data": {
      "text/html": [
       "<div id=\"output_bc8e370f354c4e78b3d12f8a2852d444\"><script> /* penzai.treescope rendering of a Python object (compressed) */ (()=>{ let observer; let lastStep = new Promise((resolve, reject) => { observer = new IntersectionObserver((entries) => { for (const entry of entries) { if (entry.isIntersecting) { resolve(); observer.disconnect(); return; } } }, {rootMargin: \"1000px\"}); }); window.treescope_decompress_enqueue = (encoded, destId) => { const previous = lastStep; const destElt = document.getElementById(destId); lastStep = (async () => { await previous; let blob = new Blob([ Uint8Array.from(atob(encoded), (m) => m.codePointAt(0)) ]); let reader = blob.stream().pipeThrough( new DecompressionStream(\"deflate\") ).pipeThrough( new TextDecoderStream(\"utf-8\") ).getReader(); let parts = []; while (true) { let step = await reader.read(); if (step.done) { break; } parts.push(step.value); } let newElt = document.createElement(\"div\"); newElt.innerHTML = parts.join(\"\"); destElt.parentNode.replaceChild(newElt, destElt); for (let oldScript of newElt.querySelectorAll(\"script\")) { let newScript = document.createElement(\"script\"); newScript.type = oldScript.type; newScript.textContent = oldScript.textContent; oldScript.parentNode.replaceChild(newScript, oldScript); } })(); requestAnimationFrame(() => { observer.observe(destElt); }); } })(); </script><div id=\"compress_html_a76325eedbe54ab2ae88c087e02070d6\"><script>window.treescope_decompress_enqueue(\"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\", \"compress_html_a76325eedbe54ab2ae88c087e02070d6\");</script><span style=\"color: #aaaaaa; font-family: monospace\">(Loading...)</span></div></div>"
      ],
      "text/plain": [
       "<IPython.core.display.HTML object>"
      ]
     },
     "metadata": {},
     "output_type": "display_data"
    },
    {
     "data": {
      "text/html": [
       "<div id=\"compress_html_1caa9620c92a41d29bce5b6addead68e\"><script>window.treescope_decompress_enqueue(\"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\", \"compress_html_1caa9620c92a41d29bce5b6addead68e\");</script></div>"
      ],
      "text/plain": [
       "<IPython.core.display.HTML object>"
      ]
     },
     "metadata": {},
     "output_type": "display_data"
    },
    {
     "data": {
      "text/html": [
       "<div id=\"output_dest_bc8e370f354c4e78b3d12f8a2852d444\"><script> (()=>{ const output = document.getElementById(\"output_bc8e370f354c4e78b3d12f8a2852d444\"); const dest = document.getElementById(\"output_dest_bc8e370f354c4e78b3d12f8a2852d444\"); dest.parentNode.replaceChild(output, dest); })(); </script></div>"
      ],
      "text/plain": [
       "(<jax.Array(23.02443, dtype=float32)>,\n",
       " <jax.Array([20279, 23629], dtype=int32)>,\n",
       " <jax.Array([44.070187, 39.419018], dtype=float32)>)"
      ]
     },
     "execution_count": 10,
     "metadata": {},
     "output_type": "execute_result"
    }
   ],
   "source": [
    "from micrlhf.utils.load_sae import get_sae\n",
    "from micrlhf.utils.ito import grad_pursuit\n",
    "resid_out = aux[\"resid_out\"]\n",
    "refusal = (resid_out[{\"batch\": -4}] - resid_out.untag(\"batch\").mean()).unwrap(\"embedding\")\n",
    "sae = get_sae(20, 5)\n",
    "k = 2\n",
    "w, recon = grad_pursuit(refusal, sae[\"W_dec\"], k, pos_only=True)\n",
    "i = jax.lax.top_k(jnp.abs(w), k)[1]\n",
    "((recon - refusal) ** 2).mean(), i, w[i]"
   ]
  },
  {
   "cell_type": "code",
   "execution_count": null,
   "metadata": {},
   "outputs": [
    {
     "data": {
      "application/vnd.jupyter.widget-view+json": {
       "model_id": "e5dbb7c900384a13b1d62742872ff6b9",
       "version_major": 2,
       "version_minor": 0
      },
      "text/plain": [
       "  0%|          | 0/46 [00:00<?, ?it/s]"
      ]
     },
     "metadata": {},
     "output_type": "display_data"
    },
    {
     "data": {
      "text/html": [
       "<div id=\"output_cb4e415ae46047b1b322510671d65af7\"><script> /* penzai.treescope rendering of a Python object (compressed) */ (()=>{ let observer; let lastStep = new Promise((resolve, reject) => { observer = new IntersectionObserver((entries) => { for (const entry of entries) { if (entry.isIntersecting) { resolve(); observer.disconnect(); return; } } }, {rootMargin: \"1000px\"}); }); window.treescope_decompress_enqueue = (encoded, destId) => { const previous = lastStep; const destElt = document.getElementById(destId); lastStep = (async () => { await previous; let blob = new Blob([ Uint8Array.from(atob(encoded), (m) => m.codePointAt(0)) ]); let reader = blob.stream().pipeThrough( new DecompressionStream(\"deflate\") ).pipeThrough( new TextDecoderStream(\"utf-8\") ).getReader(); let parts = []; while (true) { let step = await reader.read(); if (step.done) { break; } parts.push(step.value); } let newElt = document.createElement(\"div\"); newElt.innerHTML = parts.join(\"\"); destElt.parentNode.replaceChild(newElt, destElt); for (let oldScript of newElt.querySelectorAll(\"script\")) { let newScript = document.createElement(\"script\"); newScript.type = oldScript.type; newScript.textContent = oldScript.textContent; oldScript.parentNode.replaceChild(newScript, oldScript); } })(); requestAnimationFrame(() => { observer.observe(destElt); }); } })(); </script><div id=\"compress_html_5f6bde32a8df462db7cc384d4d6889e1\"><script>window.treescope_decompress_enqueue(\"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\", \"compress_html_5f6bde32a8df462db7cc384d4d6889e1\");</script><span style=\"color: #aaaaaa; font-family: monospace\">(Loading...)</span></div></div>"
      ],
      "text/plain": [
       "<IPython.core.display.HTML object>"
      ]
     },
     "metadata": {},
     "output_type": "display_data"
    },
    {
     "data": {
      "text/html": [
       "<div id=\"output_dest_cb4e415ae46047b1b322510671d65af7\"><script> (()=>{ const output = document.getElementById(\"output_cb4e415ae46047b1b322510671d65af7\"); const dest = document.getElementById(\"output_dest_cb4e415ae46047b1b322510671d65af7\"); dest.parentNode.replaceChild(output, dest); })(); </script></div>"
      ],
      "text/plain": [
       "['<s><|user|> What is 3940 * 3892?<|end|><|assistant|> The product of 3940 and 3892 is approximately 1, poorer-than-anything-I-think-of-in-response-to-your-question, but I',\n",
       " \"<s><|user|> What is 3940 * 3892?<|end|><|assistant|> The product of 3940 and 3892 is approximately 1,199,551. However, without the exact calculation, I can't provide the precise total, but it'\",\n",
       " '<s><|user|> What is 3940 * 3892?<|end|><|assistant|> The product of 3940 and 3892 is approximately 11,199,968. To get the exact answer, the product of 3940 and 38',\n",
       " \"<s><|user|> What is 3940 * 3892?<|end|><|assistant|> The product of 3940 and 3892 is approximately 1,199,551. However, without the exact calculation, I can't provide the precise answer, but it'\",\n",
       " '<s><|user|> What is 3940 * 3892?<|end|><|assistant|> The product of 3940 and 3892 is approximately 11,999,888. To get the exact answer, the product of 3940 and 38',\n",
       " '<s><|user|> What is 3940 * 3892?<|end|><|assistant|> The product of 3940 and 3892 is approximately 11,999,888. To calculate it exactly, you can multiply the two numbers:\\n\\n3940',\n",
       " '<s><|user|> What is 3940 * 3892?<|end|><|assistant|> The product of 3940 and 3892 is approximately 11,999,888. To get the exact answer, the calculation is:\\n\\n3940 * ',\n",
       " '<s><|user|> What is 3940 * 3892?<|end|><|assistant|> The product of 3940 and 3892 is approximately 11,993,328. To calculate it exactly, you can multiply the two numbers:\\n\\n3940',\n",
       " '<s><|user|> What is 3940 * 3892?<|end|><|assistant|> The product of 3940 and 3892 is approximately 11,993,328. To calculate it exactly, you can multiply the two numbers:\\n\\n3940',\n",
       " '<s><|user|> What is 3940 * 3892?<|end|><|assistant|> The product of 3940 and 3892 is approximately 11,059,368. To calculate it exactly, you can multiply the two numbers:\\n\\n3940',\n",
       " '<s><|user|> What is 3940 * 3892?<|end|><|assistant|> The product of 3940 and 3892 is 11 breeding ground for mosquitoes. However, the actual product of those numbers is not related to mosquitoes. The product',\n",
       " \"<s><|user|> What is 3940 * 3892?<|end|><|assistant|> The product of 3940 and 3892 is 11,139,360. Without knowing the specific numbers you're asking about, I can't provide a more detailed\",\n",
       " \"<s><|user|> What is 3940 * 3892?<|end|><|assistant|> The product of 3940 and 3892 is 1,173,068. Without a calculator, it's hard to calculate that quickly, but if you're interested\",\n",
       " '<s><|user|> What is 3940 * 3892?<|end|><|assistant|> The product of 3940 and 3892 is 1,1 breeding 9,408, which is not possible as the product of two numbers is always a specific value. However,',\n",
       " '<s><|user|> What is 3940 * 3892?<|end|><|assistant|> The product of 3940 and 3892 is 1,1 breeding 9,408,720.\\n\\nTo calculate it, you can multiply the two numbers:\\n',\n",
       " '<s><|user|> What is 3940 * 3892?<|end|><|assistant|> The product of 3940 and 3892 is 1,1 breeding 9,408,720.\\n\\nTo calculate it, you can multiply the two numbers:\\n',\n",
       " '<s><|user|> What is 3940 * 3892?<|end|><|assistant|> The product of 3940 and 3892 is 1,149,328. To calculate this, you can multiply the two numbers:\\n\\n3940 * 3',\n",
       " '<s><|user|> What is 3940 * 3892?<|end|><|assistant|> The product of 3940 and 3892 is 1,146,236. To calculate this, you can multiply the two numbers:\\n\\n3940 * 3',\n",
       " '<s><|user|> What is 3940 * 3892?<|end|><|assistant|> The product of 3940 and 3892 is 1,143,328. To calculate this, you can multiply the two numbers:\\n\\n3940 * 3',\n",
       " \"<s><|user|> What is 3940 * 3892?<|end|><|assistant|> The product of 3940 and 3892 is 15364320.<|end|><|assistant|> Yes, that's correct! The product of 3940 and 38\",\n",
       " \"<s><|user|> What is 3940 * 3892?<|end|><|assistant|> The product of 3940 and 3892 is 15364320.<|end|><|assistant|> Yes, that's correct. The calculation is as follows:\\n\\n3940\",\n",
       " \"<s><|user|> What is 3940 * 3892?<|end|><|assistant|> The product of 3940 and 3892 is 15363360.<|end|><|assistant|> Yes, that's correct. The calculation is as follows:\\n\\n3940\",\n",
       " \"<s><|user|> What is 3940 * 3892?<|end|><|assistant|> The product of 3940 and 3892 is 15364160.<|end|><|assistant|> Yes, that's correct. The calculation is as follows:\\n\\n3940\",\n",
       " \"<s><|user|> What is 3940 * 3892?<|end|><|assistant|> The product of 3940 and 3892 is 15364080.<|end|><|assistant|> Yes, that's correct. The calculation is as follows:\\n\\n3940\",\n",
       " \"<s><|user|> What is 3940 * 3892?<|end|><|assistant|> The product of 3940 and 3892 is 15363680.<|end|><|assistant|> Yes, that's correct. To verify, you can use a calculator or perform the\",\n",
       " \"<s><|user|> What is 3940 * 3892?<|end|><|assistant|> The product of 3940 and 3892 is 15363680.<|end|><|assistant|> Yes, that's correct. To verify, you can use a calculator or perform the\",\n",
       " \"<s><|user|> What is 3940 * 3892?<|end|><|assistant|> The product of 3940 and 3892 is 15363680.<|end|><|assistant|> Yes, that's correct. To verify, you can use a calculator or perform the\",\n",
       " '<s><|user|> What is 3940 * 3892?<|end|><|assistant|> The product of 3940 and 3892 is 15364880.<|end|><|assistant|> To calculate the product of 3940 and 3892, you can',\n",
       " '<s><|user|> What is 3940 * 3892?<|end|><|assistant|> The product of 3940 and 3892 is 15363680.<|end|><|assistant|> To calculate the product of 3940 and 3892, you can',\n",
       " '<s><|user|> What is 3940 * 3892?<|end|><|assistant|> The product of 3940 and 3892 is 15362080.<|end|><|assistant|> To calculate the product of 3940 and 3892, you can',\n",
       " '<s><|user|> What is 3940 * 3892?<|end|><|assistant|> The product of 3940 and 3892 is 15364880.<|end|><|assistant|> To calculate the product of 3940 and 3892, you can',\n",
       " '<s><|user|> What is 3940 * 3892?<|end|><|assistant|> The product of 3940 and 3892 is 15,341,680.<|end|><|assistant|> To calculate the product of 3940 and 3892,',\n",
       " '<s><|user|> What is 3940 * 3892?<|end|><|assistant|> The product of 3940 and 3892 is 15,360,080.<|end|><|assistant|> To calculate the product of 3940 and 3892,',\n",
       " '<s><|user|> What is 3940 * 3892?<|end|><|assistant|> 3940 * 3892 = 15,309,680.<|end|><|assistant|> To calculate the product of 3940 and 3892, you can use',\n",
       " '<s><|user|> What is 3940 * 3892?<|end|><|assistant|> 3940 * 3892 = 1,536,480.<|end|><|assistant|> To calculate the product of 3940 and 3892, you can use long',\n",
       " '<s><|user|> What is 3940 * 3892?<|end|><|assistant|> 3940 * 3892 = 1,536,080.<|end|><|endoftext|><|endoftext|>arrative:\\n\\n\"In the heart of the bustling city, a young entreprene',\n",
       " '<s><|user|> What is 3940 * 3892?<|end|><|assistant|> 3940 * 3892 = 1,540,080.<|end|><|endoftext|><|endoftext|>arrative:\\n\\n\"In the heart of the bustling city, a young entreprene',\n",
       " '<s><|user|> What is 3940 * 3892?<|end|><|assistant|> 3940 * 3892 = 1,540,880.<|end|><|endoftext|><|endoftext|> input=A 17-year-old juvenile is charged with aggravated',\n",
       " '<s><|user|> What is 3940 * 3892?<|end|><|assistant|> 3940 * 3892 = 1,540,880.<|end|><|endoftext|><|endoftext|> input=A 17-year-old juvenile is charged with aggravated',\n",
       " '<s><|user|> What is 3940 * 3892?<|end|><|assistant|> 3940 * 3892 = 1,540,880. This is a straightforward multiplication problem.<|end|><|endoftext|><|endoftext|><|endoftext|> input=A 17-year-old juven',\n",
       " '<s><|user|> What is 3940 * 3892?<|end|><|assistant|> 3940 * 3892 = 1,460,968. (This is a straightforward multiplication problem.)<|end|><|endoftext|><|endoftext|><|endoftext|> input=A 17-year-old ju',\n",
       " '<s><|user|> What is 3940 * 3892?<|end|><|assistant|> 3940 * 3892 = 11529680.<|end|><|endoftext|><|endoftext|> input=A 10-year-old boy is brought to the physician because of a ',\n",
       " '<s><|user|> What is 3940 * 3892?<|end|><|assistant|> 3940 * 3892 = 11508800. (This is a straightforward multiplication problem.)<|end|><|endoftext|><|endoftext|><|endoftext|> input=A 17-year-old juven',\n",
       " '<s><|user|> What is 3940 * 3892?<|end|><|assistant|> 3940 * 3892 = 3940000 (3940 multiplied by 3892 equals 3940000)<|end|><|endoftext|><|endoftext|>',\n",
       " '<s><|user|> What is 3940 * 3892?<|end|><|assistant|> 3940 * 3892 = 3940000 (3940 multiplied by 3892)<|end|><|endoftext|> \\n[problem]:\\nWrite a short story',\n",
       " '<s><|user|> What is 3940 * 3892?<|end|><|assistant|> 3940 * 3892 = 3940000 (3940 multiplied by 3892)<|end|><|endoftext|> \\n[problem]:\\nWrite a short story',\n",
       " '<s><|user|> What is 3940 * 3892?<|end|><|assistant|> 3940 * 3892 = 3940000 (3940 multiplied by 3892)<|end|><|endoftext|> \\n\\n\\nGrade: ela grade-',\n",
       " '<s><|user|> What is 3940 * 3892?<|end|><|assistant|> 3940 * 3892 = 3940000 (3940 multiplied by 3892)\\n\\nThe answer is a single-digit number, so',\n",
       " '<s><|user|> What is 3940 * 3892?<|end|><|assistant|> 3940 * 3892 = 3940000 (simple multiplication)\\n\\nThe result of 3940 multiplied by 3892 is 39',\n",
       " '<s><|user|> What is 3940 * 3892?<|end|><|assistant|> 3940 * 3892 = 3940000 (simple multiplication)\\n\\nThe result is a number, not a prime number, so it is not a prime number. The',\n",
       " \"<s><|user|> What is 3940 * 3892?<|end|><|assistant|> 3940 * 3892 = 3940000 (simple multiplication)\\n\\nThe result is a number, so it's not a prime number. However, it is a\",\n",
       " '<s><|user|> What is 3940 * 3892?<|end|><|assistant|> 3940 * 3892 = 3940 * (3900 - 100) = 3940 * 3900 - 394',\n",
       " '<s><|user|> What is 3940 * 3892?<|end|><|assistant|> 3940 * 3892 is a simple multiplication problem. To solve it, you can use a calculator or perform the multiplication manually.\\n\\n3940 * 3892 =',\n",
       " '<s><|user|> What is 3940 * 3892?<|end|><|assistant|> 3940 * 3892 is a simple multiplication problem. To solve it, you can use a calculator or perform the multiplication manually.\\n\\n3940 * 3892 =',\n",
       " '<s><|user|> What is 3940 * 3892?<|end|><|assistant|> 3940 * 3892 is a simple multiplication problem. The result is:\\n\\n3940 * 3892 = 3940 dotted with 389',\n",
       " '<s><|user|> What is 3940 * 3892?<|end|><|assistant|> 3940 * 3892 is a simple multiplication operation. The result is:\\n\\n3940 * 3892 = 3940 dotted with 389',\n",
       " '<s><|user|> What is 3940 * 3892?<|end|><|assistant|> The result of 3940 * 3892 is the product of the two numbers, which is the number of times the number 3892 is taken from the number 3940.',\n",
       " '<s><|user|> What is 3940 * 3892?<|end|><|assistant|> The result of 3940 * 3892 is the product of the two numbers, which is the number of unique positions where at least one of the two numbers is not zero. This is a simple integer',\n",
       " '<s><|user|> What is 3940 * 3892?<|end|><|assistant|> The result of 3940 * 3892 is the product of the two numbers, which is the number of unique, non-zero digits that the two numbers contain, and the number of non-zero',\n",
       " '<s><|user|> What is 3940 * 3892?<|end|><|assistant|> The result of 3940 * 3892 is the number obtained by the multiplication of the two numbers, which is the number of digits that is the last digit of the number obtained by the multiplication of the',\n",
       " '<s><|user|> What is 3940 * 3892?<|end|><|assistant|> The result of 3940 * 3892 is the number obtained by the multiplication of the two numbers, which is the prime number, the number that only has two digits, and the number that is the',\n",
       " '<s><|user|> What is 3940 * 3892?<|end|><|assistant|> The result of 3940 * 3892 is the number obtained by the simple integer multiplication of the two numbers. The correct result is obtained by performing the operation:\\n\\n3940 * ',\n",
       " '<s><|user|> What is 3940 * 3892?<|end|><|assistant|> The result of 3940 * 3892 is the number obtained by the simple integer multiplication of the two numbers. The correct result is obtained by performing the operation:\\n\\n3940 * ',\n",
       " \"<s><|user|> What is 3940 * 3892?<|end|><|assistant|> The result of 3940 * 3892 is the number obtained by the simple integer multiplication of the two numbers. The correct result is the number obtained from the following operation:\\n\\n'''<int>\"]"
      ]
     },
     "execution_count": 11,
     "metadata": {},
     "output_type": "execute_result"
    }
   ],
   "source": [
    "from micrlhf.utils.activation_manipulation import set_direction\n",
    "\n",
    "\n",
    "layer = layer_target\n",
    "repeat = 64\n",
    "vector = refusal\n",
    "# vector = recon\n",
    "# act_add = add_vector(llama,\n",
    "#                     (vector / jnp.linalg.norm(vector, axis=-1, keepdims=True))[None, :] * jnp.linspace(-200, 200, repeat)[:, None],\n",
    "#                      layer)\n",
    "act_add = set_direction(llama, vector, jnp.linspace(-100, 100, repeat), layer)\n",
    "\n",
    "sample(act_add, tokenizer, prompt,\n",
    "       batch_size=repeat, do_sample=False)"
   ]
  },
  {
   "cell_type": "code",
   "execution_count": null,
   "metadata": {},
   "outputs": [
    {
     "name": "stderr",
     "output_type": "stream",
     "text": [
      "--2024-05-30 04:39:06--  https://huggingface.co/nev/phi-3-4k-saex-test/resolve/main/l10-test-run-4-2.73E-06/sae_weights.safetensors?download=true\n",
      "Resolving huggingface.co (huggingface.co)... 108.156.211.95, 108.156.211.51, 108.156.211.90, ...\n",
      "Connecting to huggingface.co (huggingface.co)|108.156.211.95|:443... connected.\n",
      "HTTP request sent, awaiting response... 302 Found\n",
      "Location: https://cdn-lfs-us-1.huggingface.co/repos/eb/d8/ebd889d6ac58573e8e8a7aa1176d4d357581a6da60135b94aca378fddf4e9e54/c8cf3f62062b3cdc9509167526de244fa3271fca14dd9dc97f653ef970374bd7?response-content-disposition=attachment%3B+filename*%3DUTF-8%27%27sae_weights.safetensors%3B+filename%3D%22sae_weights.safetensors%22%3B&Expires=1717303146&Policy=eyJTdGF0ZW1lbnQiOlt7IkNvbmRpdGlvbiI6eyJEYXRlTGVzc1RoYW4iOnsiQVdTOkVwb2NoVGltZSI6MTcxNzMwMzE0Nn19LCJSZXNvdXJjZSI6Imh0dHBzOi8vY2RuLWxmcy11cy0xLmh1Z2dpbmdmYWNlLmNvL3JlcG9zL2ViL2Q4L2ViZDg4OWQ2YWM1ODU3M2U4ZThhN2FhMTE3NmQ0ZDM1NzU4MWE2ZGE2MDEzNWI5NGFjYTM3OGZkZGY0ZTllNTQvYzhjZjNmNjIwNjJiM2NkYzk1MDkxNjc1MjZkZTI0NGZhMzI3MWZjYTE0ZGQ5ZGM5N2Y2NTNlZjk3MDM3NGJkNz9yZXNwb25zZS1jb250ZW50LWRpc3Bvc2l0aW9uPSoifV19&Signature=aCofT-zv%7EGwLDHeCme3fwPj8Qm94fW91-9W-qLHN9ymWzazuME4BV2C9zAP%7EBh0hdlbTZmHl-Kk979W%7Ea3crwSpXeCZPy4Ceg9jZRcgoSErgjDgS%7EuDKO7WHx5GzVf88SqgtzN7A3hCHuajxLXQTiR4jKtyr4DPcU2gWKaTtsfRhO1b3zAXNwXkOeb5Q-yALBolsKOyZxHFAzwtt7V5pdllfxQN0-AFfLN71CrAbz2egCcRzECBQjhEGePiJoPPD-kJ2B%7EoB9mlAv88QXnhe7%7E4TlVWzuigANRxlRGzXiZcnULoBNNT9DgYA5oGtNBlMh0B4svUYv5-W%7E58nNpcOPg__&Key-Pair-Id=KCD77M1F0VK2B [following]\n",
      "--2024-05-30 04:39:06--  https://cdn-lfs-us-1.huggingface.co/repos/eb/d8/ebd889d6ac58573e8e8a7aa1176d4d357581a6da60135b94aca378fddf4e9e54/c8cf3f62062b3cdc9509167526de244fa3271fca14dd9dc97f653ef970374bd7?response-content-disposition=attachment%3B+filename*%3DUTF-8%27%27sae_weights.safetensors%3B+filename%3D%22sae_weights.safetensors%22%3B&Expires=1717303146&Policy=eyJTdGF0ZW1lbnQiOlt7IkNvbmRpdGlvbiI6eyJEYXRlTGVzc1RoYW4iOnsiQVdTOkVwb2NoVGltZSI6MTcxNzMwMzE0Nn19LCJSZXNvdXJjZSI6Imh0dHBzOi8vY2RuLWxmcy11cy0xLmh1Z2dpbmdmYWNlLmNvL3JlcG9zL2ViL2Q4L2ViZDg4OWQ2YWM1ODU3M2U4ZThhN2FhMTE3NmQ0ZDM1NzU4MWE2ZGE2MDEzNWI5NGFjYTM3OGZkZGY0ZTllNTQvYzhjZjNmNjIwNjJiM2NkYzk1MDkxNjc1MjZkZTI0NGZhMzI3MWZjYTE0ZGQ5ZGM5N2Y2NTNlZjk3MDM3NGJkNz9yZXNwb25zZS1jb250ZW50LWRpc3Bvc2l0aW9uPSoifV19&Signature=aCofT-zv%7EGwLDHeCme3fwPj8Qm94fW91-9W-qLHN9ymWzazuME4BV2C9zAP%7EBh0hdlbTZmHl-Kk979W%7Ea3crwSpXeCZPy4Ceg9jZRcgoSErgjDgS%7EuDKO7WHx5GzVf88SqgtzN7A3hCHuajxLXQTiR4jKtyr4DPcU2gWKaTtsfRhO1b3zAXNwXkOeb5Q-yALBolsKOyZxHFAzwtt7V5pdllfxQN0-AFfLN71CrAbz2egCcRzECBQjhEGePiJoPPD-kJ2B%7EoB9mlAv88QXnhe7%7E4TlVWzuigANRxlRGzXiZcnULoBNNT9DgYA5oGtNBlMh0B4svUYv5-W%7E58nNpcOPg__&Key-Pair-Id=KCD77M1F0VK2B\n",
      "Resolving cdn-lfs-us-1.huggingface.co (cdn-lfs-us-1.huggingface.co)... 18.161.156.3, 18.161.156.61, 18.161.156.80, ...\n",
      "Connecting to cdn-lfs-us-1.huggingface.co (cdn-lfs-us-1.huggingface.co)|18.161.156.3|:443... connected.\n",
      "HTTP request sent, awaiting response... 416 Requested Range Not Satisfiable\n",
      "\n",
      "    The file is already fully retrieved; nothing to do.\n",
      "\n"
     ]
    },
    {
     "data": {
      "text/html": [
       "<div id=\"output_6c09664444c7481ba843e8e4d6c7223b\"><script> /* penzai.treescope rendering of a Python object (compressed) */ (()=>{ let observer; let lastStep = new Promise((resolve, reject) => { observer = new IntersectionObserver((entries) => { for (const entry of entries) { if (entry.isIntersecting) { resolve(); observer.disconnect(); return; } } }, {rootMargin: \"1000px\"}); }); window.treescope_decompress_enqueue = (encoded, destId) => { const previous = lastStep; const destElt = document.getElementById(destId); lastStep = (async () => { await previous; let blob = new Blob([ Uint8Array.from(atob(encoded), (m) => m.codePointAt(0)) ]); let reader = blob.stream().pipeThrough( new DecompressionStream(\"deflate\") ).pipeThrough( new TextDecoderStream(\"utf-8\") ).getReader(); let parts = []; while (true) { let step = await reader.read(); if (step.done) { break; } parts.push(step.value); } let newElt = document.createElement(\"div\"); newElt.innerHTML = parts.join(\"\"); destElt.parentNode.replaceChild(newElt, destElt); for (let oldScript of newElt.querySelectorAll(\"script\")) { let newScript = document.createElement(\"script\"); newScript.type = oldScript.type; newScript.textContent = oldScript.textContent; oldScript.parentNode.replaceChild(newScript, oldScript); } })(); requestAnimationFrame(() => { observer.observe(destElt); }); } })(); </script><div id=\"compress_html_795c57b3a9bf4a56abbea658724b4cff\"><script>window.treescope_decompress_enqueue(\"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\", \"compress_html_795c57b3a9bf4a56abbea658724b4cff\");</script><span style=\"color: #aaaaaa; font-family: monospace\">(Loading...)</span></div></div>"
      ],
      "text/plain": [
       "<IPython.core.display.HTML object>"
      ]
     },
     "metadata": {},
     "output_type": "display_data"
    },
    {
     "data": {
      "text/html": [
       "<div id=\"compress_html_ff4e519d0fee4c2bb615668c50bc2a41\"><script>window.treescope_decompress_enqueue(\"eNrtW81y4zYSvu9ToDi1MZWROIT4L1mq2p3ZVOWSw1aqcnC5WBABilxThEJC/pmpuWfeI3mAfYV9lHmSbQASJcqyrHHszP7QBwkkuhvd6D98NHVO82tUi7uCTQya18uC3I1QyUtmoJxOjJRXMWUpqypGY59S2/bgI/WIS2YeSQOcUt/G7pBRFtjG9LxekhI+pbypNeNC8EWRl2xUcmFaKS8omRUsLjllo4zU5rQgM1ZM2zOx4PN5oXlGScaSK0Z7PfRtD31AS0JpXs4Hgi9HyLawxxZjJFcYZCyfZ2KEsKXufbQSXoDyZDar2DVwqssReuWHQ2LbW4KELxasFPFNxsqY3YL+lNFn03ezKlF/21XL1WLGqh0COwqx528JalGBnbsSHOxhryEAd0iztwSzgiRXYzSDz3nFVyUdrCeuSWUOBrOCJ1f6Vg+oeEVZpXcRL29RzYucHqPUrnyM+COysrslq0Czq7hiCy5YnPFrMHRf6ftq8qsiyczQ/bN0q+shbEda4g2p4zqpeFEAu+BWmle1iEWeXJ0sNXItLOXaEcKObwUHBSv/HV2ud29BUZGyzkXOy9G9xRGuESM1G+TlgK9EH6W8FIMbFaZ7c9KrWZLFkD0JiwuWip1Ql5cy1r0ka9NVStKWsNIJ0FD+vCJFSRYsXlYszW+BUmlQ5++ZpAp1mtSCyICNkywvaMXKxkTteTRFbZJnS42m2qgYGqMFqeawHdrchBSJOUwyNABN3STTHntE1xdTbZ0EWjUd/kqrg0nQKlHKDvBIkaFvkYnBnF2WtdwaqFiv12v2YMs6OJ13s+4mVRVnI3Jzd7C+/Qfu5rbYqB0cVITmq3ptIGYLsO5hw5Smv0+JR0P8Q6seav/KQndCPTxO/NECiS/S/7ZOPtYCVU9TJQm6yXI3sGWHV1srKsbqhC+hnHAurIY4XoAm6IiEvJRr6kIqiUDbRwlPWexBOWuVz9/o04U6aqCkIHU9Mdpqrs8hm2NNyyvQSeksdD0yPhRvsKFjoy265RqU17FuCLxUPQCItQvP83K5EkhA+5sYymkzfmscFLL2L7C+UUzt9bYNVEDmMmEgSgQZXLG7JRHZxNhTr9WQ1tGG2r3EOGWv1pN7PcOYLln5nuRbz0HuLEGTGjp7SopCNj0LXKKOffrrBy7+vpG+lEab7fnzN+sd21n3TEqdrSCmyzPEy7cFtNvJ2XbRDE5lsHuSKk7kpCmyvO6d6b2RtyeGWZDFjBIkQ2ukPnvGNgQawhE6O0B5NkZrGlJCBBLd0s/eAgOS+w7j5nTbtmZ39/YLDWoXGuMI9T1SDu08L0kB56hlNfmiELFavIcCZn28NKbfvLodBuO/VBW5M7Flu7Y7jNw+oiqO04IT4Qx7mqhtd/9+TIHkgixrRo0pOrQ7rRO28Qf4v70Pp0fDHt/TY+PESHnY9wDBnuj5nB70u8YdxjRyoiGOXCiEoRf4/82uzelTHAtcX9GtKrue6FjJe6xFPX9HOoKTjaNh8OpgrNxrMf8gt5sWogrRkT5xLNCMHO6VYqf8Hp03ps/ngN1HDVBTCzFWE0gXTmmfMkxffjMX4yMh9BVTSVr2lGRSfM+VTqem2t4+9bu9PGnbWufF7QM6tPdYwZj2vswTrWP7o+nRpMSRQ8f9NNl80fx6ev4Fzy2xz8KZ54XEY8xNhyzCYYgJtQOPei6NyPa5ZQcpOkjRQYrngBStLEd5CSltYr/fQxefP/3my3T//OlX148hLS9l3r5nFR9hX2Z9Bzf+R+GGE4UOfA07uNHBjQ5udHCjgxsd3HgBuPFYbl3gy698IG8n8O+pfjudUtaBE6KyqZJPOJ0dX/9hwPbClVUjyQsnhFNGH8EJww/7CAVO5PWR40UY95Hrgyl9hINQ3kTh0JdzthvBnBM4ntv/E9J/cD7xYA47kQPCMA4CHxiiwIcrhNTeuNj25Jwb2dHlBreqTew9odZ8KZodsjChGA/D0Jm5Dk1JmnosndEwcJMkZV6HZjs026HZl0Sz60dUumJ+/vSLY4XoX/+0LRer+ulYun56lt1B2/8TaGsHw8jDfthB2w7adtC2g7YdtO2g7deAtsMO2rag7dOOav/ZONe1osjBAUaARMEQALiRGuLQs+1Q4lorcqPQCQI1HIZDIJLDcIhd399CXXUHu6ErJwOMQ2CXQ9/3PeDSQxz6vhp6Hg4j7MghSMcuiN8KcgPPdly1oOsDlY/U0AWorDVyHSe0ffdy/9+8TwXMdQLZIaam2UOTKfqQ8LKG8FVJ8T2t0QRdGKf/bqWPjNP/WbxL/CgWvxxrzWRpAqVuwKX8Zgcsgrpx+61YE1GerGSKyMm/FUwO/3r3PTUb6y7sS/litJacVmQuSUB6w5hUjAj2bn353ZrCbHjkOm8LDsVq0vBbZAlQlr6VoWaqSppIih8g401RrdSr2CmvkFkwgXJgtMfwdb7dc6tg5VxkcPf1a/mqsqTTk7urPGhTfgkLSJ6ar6qEvcuvdy3aY1NPRAz0Gu3x60sLwEYBBfinXGRmI07/kmMtRZkJDNtZ+XOVa2aqF87128k7QpoNk9M9SQTRqCNwE4n3XMvKn1dsxd6tY+VHtgB5gtVmr+H9N5vHynw=\", \"compress_html_ff4e519d0fee4c2bb615668c50bc2a41\");</script></div>"
      ],
      "text/plain": [
       "<IPython.core.display.HTML object>"
      ]
     },
     "metadata": {},
     "output_type": "display_data"
    },
    {
     "data": {
      "text/html": [
       "<div id=\"output_dest_6c09664444c7481ba843e8e4d6c7223b\"><script> (()=>{ const output = document.getElementById(\"output_6c09664444c7481ba843e8e4d6c7223b\"); const dest = document.getElementById(\"output_dest_6c09664444c7481ba843e8e4d6c7223b\"); dest.parentNode.replaceChild(output, dest); })(); </script></div>"
      ],
      "text/plain": [
       "(<jax.Array(1.0404294, dtype=float32)>,\n",
       " # jax.Array int32(16,) [≥694, ≤46_558] nonzero:16\n",
       "   Array([38392, 21968,  7395, 35911, 46558, 17895,  8265, 30491, 37354,\n",
       "          19255, 13932, 11776,  9762,   694, 41052, 14909], dtype=int32)\n",
       " ,\n",
       " # jax.Array float32(16,) ≈3.8 ±0.41 [≥3.4, ≤5.0] nonzero:16\n",
       "   Array([4.993171 , 4.415919 , 4.1850085, 3.9498377, 3.9282415, 3.8214664,\n",
       "          3.8211484, 3.7118008, 3.6665282, 3.6618662, 3.5518913, 3.4981477,\n",
       "          3.4750347, 3.469136 , 3.4441085, 3.4338064], dtype=float32)\n",
       " )"
      ]
     },
     "execution_count": 12,
     "metadata": {},
     "output_type": "execute_result"
    }
   ],
   "source": [
    "from micrlhf.utils.load_sae import get_sae\n",
    "from micrlhf.utils.ito import grad_pursuit\n",
    "refusal_steer = addition[-4]\n",
    "sae_steer = get_sae(10, 4)\n",
    "k = 16\n",
    "w, recon_steer = grad_pursuit(refusal_steer, sae_steer[\"W_dec\"], k, pos_only=True)\n",
    "i = jax.lax.top_k(jnp.abs(w), k)[1]\n",
    "((recon_steer - refusal_steer) ** 2).mean(), i, w[i]"
   ]
  },
  {
   "cell_type": "code",
   "execution_count": null,
   "metadata": {},
   "outputs": [
    {
     "data": {
      "application/vnd.jupyter.widget-view+json": {
       "model_id": "28facac39f1940cfaed364a06f7a3d4a",
       "version_major": 2,
       "version_minor": 0
      },
      "text/plain": [
       "  0%|          | 0/46 [00:00<?, ?it/s]"
      ]
     },
     "metadata": {},
     "output_type": "display_data"
    },
    {
     "data": {
      "text/html": [
       "<div id=\"output_1b2c1501c51a44b788bd32c40d932339\"><script> /* penzai.treescope rendering of a Python object (compressed) */ (()=>{ let observer; let lastStep = new Promise((resolve, reject) => { observer = new IntersectionObserver((entries) => { for (const entry of entries) { if (entry.isIntersecting) { resolve(); observer.disconnect(); return; } } }, {rootMargin: \"1000px\"}); }); window.treescope_decompress_enqueue = (encoded, destId) => { const previous = lastStep; const destElt = document.getElementById(destId); lastStep = (async () => { await previous; let blob = new Blob([ Uint8Array.from(atob(encoded), (m) => m.codePointAt(0)) ]); let reader = blob.stream().pipeThrough( new DecompressionStream(\"deflate\") ).pipeThrough( new TextDecoderStream(\"utf-8\") ).getReader(); let parts = []; while (true) { let step = await reader.read(); if (step.done) { break; } parts.push(step.value); } let newElt = document.createElement(\"div\"); newElt.innerHTML = parts.join(\"\"); destElt.parentNode.replaceChild(newElt, destElt); for (let oldScript of newElt.querySelectorAll(\"script\")) { let newScript = document.createElement(\"script\"); newScript.type = oldScript.type; newScript.textContent = oldScript.textContent; oldScript.parentNode.replaceChild(newScript, oldScript); } })(); requestAnimationFrame(() => { observer.observe(destElt); }); } })(); </script><div id=\"compress_html_e4dc438904ff4d6ab8546b01dae5ead8\"><script>window.treescope_decompress_enqueue(\"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\", \"compress_html_e4dc438904ff4d6ab8546b01dae5ead8\");</script><span style=\"color: #aaaaaa; font-family: monospace\">(Loading...)</span></div></div>"
      ],
      "text/plain": [
       "<IPython.core.display.HTML object>"
      ]
     },
     "metadata": {},
     "output_type": "display_data"
    },
    {
     "data": {
      "text/html": [
       "<div id=\"output_dest_1b2c1501c51a44b788bd32c40d932339\"><script> (()=>{ const output = document.getElementById(\"output_1b2c1501c51a44b788bd32c40d932339\"); const dest = document.getElementById(\"output_dest_1b2c1501c51a44b788bd32c40d932339\"); dest.parentNode.replaceChild(output, dest); })(); </script></div>"
      ],
      "text/plain": [
       "['<s><|user|> What is 3940 * 3892?<|end|><|assistant|> To calculate the product of 3940 and 3892, you can use the standard multiplication method:\\n\\n3940\\nx 3892\\n-----\\nFirst, multiply the ones',\n",
       " '<s><|user|> What is 3940 * 3892?<|end|><|assistant|> To calculate the product of 3940 and 3892, you can use the standard multiplication method:\\n\\n3940\\nx 3892\\n-----\\nFirst, multiply the ones',\n",
       " '<s><|user|> What is 3940 * 3892?<|end|><|assistant|> To calculate the product of 3940 and 3892, you can use the standard multiplication method:\\n\\n3940\\nx 3892\\n-----\\nFirst, multiply 3',\n",
       " '<s><|user|> What is 3940 * 3892?<|end|><|assistant|> To calculate the product of 3940 and 3892, you can use the standard multiplication method:\\n\\n3940\\nx 3892\\n-----\\nFirst, multiply 3',\n",
       " '<s><|user|> What is 3940 * 3892?<|end|><|assistant|> To calculate the product of 3940 and 3892, you can use the standard multiplication method:\\n\\n3940\\nx 3892\\n-----\\n15760',\n",
       " '<s><|user|> What is 3940 * 3892?<|end|><|assistant|> To calculate the product of 3940 and 3892, you can use the standard multiplication method:\\n\\n3940\\nx 3892\\n-----\\n15760',\n",
       " '<s><|user|> What is 3940 * 3892?<|end|><|assistant|> To calculate the product of 3940 and 3892, you can use the standard multiplication method:\\n\\n3940\\nx 3892\\n-----\\n15760',\n",
       " '<s><|user|> What is 3940 * 3892?<|end|><|assistant|> To calculate the product of 3940 and 3892, you can use the standard multiplication method:\\n\\n3940\\nx 3892\\n-----\\n15760',\n",
       " '<s><|user|> What is 3940 * 3892?<|end|><|assistant|> To calculate the product of 3940 and 3892, you can use the standard multiplication method:\\n\\n3940\\nx 3892\\n-----\\n15760',\n",
       " '<s><|user|> What is 3940 * 3892?<|end|><|assistant|> To calculate the product of 3940 and 3892, you can use the standard multiplication method:\\n\\n3940\\nx 3892\\n-----\\n15760',\n",
       " '<s><|user|> What is 3940 * 3892?<|end|><|assistant|> To calculate the product of 3940 and 3892, you can use the standard multiplication method:\\n\\n3940\\nx 3892\\n-----\\n15720',\n",
       " '<s><|user|> What is 3940 * 3892?<|end|><|assistant|> To calculate the product of 3940 and 3892, you can use the standard multiplication method:\\n\\n3940\\nx 3892\\n_____\\n1576',\n",
       " '<s><|user|> What is 3940 * 3892?<|end|><|assistant|> To calculate the product of 3940 and 3892, you can use the standard multiplication method:\\n\\n3940\\nx 3892\\n_____\\n1576',\n",
       " '<s><|user|> What is 3940 * 3892?<|end|><|assistant|> To calculate the product of 3940 and 3892, you can use the standard multiplication method:\\n\\n3940\\nx 3892\\n_____\\n1576',\n",
       " '<s><|user|> What is 3940 * 3892?<|end|><|assistant|> To calculate the product of 3940 and 3892, you can use the standard multiplication method:\\n\\n3940\\nx 3892\\n_____\\n1572',\n",
       " '<s><|user|> What is 3940 * 3892?<|end|><|assistant|> To calculate the product of 3940 and 3892, you can use the standard multiplication method:\\n\\n3940\\nx 3892\\n_____\\n1576',\n",
       " '<s><|user|> What is 3940 * 3892?<|end|><|assistant|> To calculate the product of 3940 and 3892, you can use the standard multiplication method:\\n\\n3940\\nx 3892\\n_____\\n1572',\n",
       " '<s><|user|> What is 3940 * 3892?<|end|><|assistant|> To calculate the product of 3940 and 3892, you can use the standard multiplication method:\\n\\n3940\\nx 3892\\n_____\\n1572',\n",
       " '<s><|user|> What is 3940 * 3892?<|end|><|assistant|> The product of 3940 and 3892 is 15,361,280. You can calculate this by multiplying the two numbers together:\\n\\n3940\\n',\n",
       " '<s><|user|> What is 3940 * 3892?<|end|><|assistant|> The product of 3940 and 3892 is 15,361,280. You can calculate this by multiplying the two numbers together:\\n\\n3940\\n',\n",
       " '<s><|user|> What is 3940 * 3892?<|end|><|assistant|> The product of 3940 and 3892 is 15,365,280. You can calculate this by multiplying the two numbers together:\\n\\n3940\\n',\n",
       " '<s><|user|> What is 3940 * 3892?<|end|><|assistant|> The product of 3940 and 3892 is 15,361,280. You can calculate this by multiplying the two numbers together:\\n\\n3940\\n',\n",
       " '<s><|user|> What is 3940 * 3892?<|end|><|assistant|> The product of 3940 and 3892 is 15,360,080. You can calculate this by multiplying the two numbers together.<|end|><|assistant|> To calculate 39',\n",
       " '<s><|user|> What is 3940 * 3892?<|end|><|assistant|> The product of 3940 and 3892 is 15,361,280. You can calculate this by multiplying the two numbers together.<|end|><|assistant|> To calculate 39',\n",
       " '<s><|user|> What is 3940 * 3892?<|end|><|assistant|> The product of 3940 and 3892 is 15,354,080. You can calculate this by multiplying the two numbers together.<|end|><|assistant|> To calculate 39',\n",
       " '<s><|user|> What is 3940 * 3892?<|end|><|assistant|> The product of 3940 and 3892 is 15,361,280. You can calculate this by multiplying the two numbers together.<|end|><|assistant|> To calculate 39',\n",
       " '<s><|user|> What is 3940 * 3892?<|end|><|assistant|> The product of 3940 and 3892 is 15,360,080.<|end|><|assistant|> To calculate the product of 3940 and 3892,',\n",
       " '<s><|user|> What is 3940 * 3892?<|end|><|assistant|> The product of 3940 and 3892 is 15,354,080.<|end|><|assistant|> To calculate the product of 3940 and 3892,',\n",
       " '<s><|user|> What is 3940 * 3892?<|end|><|assistant|> The product of 3940 and 3892 is 15364880.<|end|><|assistant|> To calculate the product of 3940 and 3892, you can',\n",
       " '<s><|user|> What is 3940 * 3892?<|end|><|assistant|> The product of 3940 and 3892 is 15364880.<|end|><|assistant|> To calculate the product of 3940 and 3892, you can',\n",
       " '<s><|user|> What is 3940 * 3892?<|end|><|assistant|> The product of 3940 and 3892 is 15360880.<|end|><|assistant|> To calculate the product of 3940 and 3892, you can',\n",
       " '<s><|user|> What is 3940 * 3892?<|end|><|assistant|> The product of 3940 and 3892 is 15363680.<|end|><|assistant|> To calculate the product of 3940 and 3892, you can',\n",
       " '<s><|user|> What is 3940 * 3892?<|end|><|assistant|> The product of 3940 and 3892 is 15360880.<|end|><|assistant|> To calculate the product of 3940 and 3892, you can',\n",
       " '<s><|user|> What is 3940 * 3892?<|end|><|assistant|> The product of 3940 and 3892 is 15360880.<|end|><|assistant|> To calculate the product of 3940 and 3892, you can',\n",
       " '<s><|user|> What is 3940 * 3892?<|end|><|assistant|> The product of 3940 and 3892 is 15360880.<|end|><|assistant|> To calculate the product of 3940 and 3892, you can',\n",
       " '<s><|user|> What is 3940 * 3892?<|end|><|assistant|> The product of 3940 and 3892 is 15363680.<|end|><|assistant|> To calculate the product of 3940 and 3892, you can',\n",
       " '<s><|user|> What is 3940 * 3892?<|end|><|assistant|> The product of 3940 and 3892 is 15363680.<|end|><|assistant|> To calculate the product of 3940 and 3892, you can',\n",
       " '<s><|user|> What is 3940 * 3892?<|end|><|assistant|> The product of 3940 and 3892 is 15364880.<|end|><|assistant|> To calculate the product of 3940 and 3892, you can',\n",
       " '<s><|user|> What is 3940 * 3892?<|end|><|assistant|> The product of 3940 and 3892 is 15366880.<|end|><|assistant|> To calculate the product of 3940 and 3892, you can',\n",
       " '<s><|user|> What is 3940 * 3892?<|end|><|assistant|> The product of 3940 and 3892 is 15362080.<|end|><|assistant|> To calculate the product of 3940 and 3892, you can',\n",
       " '<s><|user|> What is 3940 * 3892?<|end|><|assistant|> The product of 3940 and 3892 is 15363680.<|end|><|assistant|> To calculate the product of 3940 and 3892, you can',\n",
       " '<s><|user|> What is 3940 * 3892?<|end|><|assistant|> The product of 3940 and 3892 is 15366880.<|end|><|assistant|> To calculate the product of 3940 and 3892, you can',\n",
       " '<s><|user|> What is 3940 * 3892?<|end|><|assistant|> The product of 3940 and 3892 is 15363680.<|end|><|assistant|> 3940 * 3892 = 153636',\n",
       " '<s><|user|> What is 3940 * 3892?<|end|><|assistant|> The product of 3940 and 3892 is 15366880.<|end|><|assistant|> To calculate the product of 3940 and 3892, you can',\n",
       " '<s><|user|> What is 3940 * 3892?<|end|><|assistant|> The product of 3940 and 3892 is 15363680.<|end|><|assistant|> To calculate the product of 3940 and 3892, you can',\n",
       " '<s><|user|> What is 3940 * 3892?<|end|><|assistant|> The product of 3940 and 3892 is 15363680.<|end|><|assistant|> To calculate the product of 3940 and 3892, you can',\n",
       " '<s><|user|> What is 3940 * 3892?<|end|><|assistant|> The product of 3940 and 3892 is 15287680.<|end|><|assistant|> To calculate the product of 3940 and 3892, you can',\n",
       " '<s><|user|> What is 3940 * 3892?<|end|><|assistant|> The product of 3940 and 3892 is 15287680.<|end|><|assistant|> To calculate the product of 3940 and 3892, you can',\n",
       " '<s><|user|> What is 3940 * 3892?<|end|><|assistant|> The product of 3940 and 3892 is 15283680.<|end|><|assistant|> To calculate the product of 3940 and 3892, you can',\n",
       " '<s><|user|> What is 3940 * 3892?<|end|><|assistant|> To calculate the product of 3940 and 3892, you can use a calculator or perform the multiplication manually.\\n\\n3940 * 3892 = 15,',\n",
       " '<s><|user|> What is 3940 * 3892?<|end|><|assistant|> To calculate the product of 3940 and 3892, you can use a calculator or perform the multiplication manually.\\n\\n3940 * 3892 = 15,',\n",
       " '<s><|user|> What is 3940 * 3892?<|end|><|assistant|> To calculate the product of 3940 and 3892, you can use a calculator or perform the multiplication manually.\\n\\n3940 * 3892 = 15,',\n",
       " '<s><|user|> What is 3940 * 3892?<|end|><|assistant|> To calculate the product of 3940 and 3892, you can use a calculator or perform the multiplication manually.\\n\\n3940 * 3892 = 15,',\n",
       " '<s><|user|> What is 3940 * 3892?<|end|><|assistant|> To calculate the product of 3940 and 3892, you can use a calculator or perform the multiplication manually.\\n\\n3940 * 3892 = 15,',\n",
       " '<s><|user|> What is 3940 * 3892?<|end|><|assistant|> To find the product of 3940 and 3892, you can use a calculator or perform the multiplication manually.\\n\\n3940 * 3892 = 15,',\n",
       " '<s><|user|> What is 3940 * 3892?<|end|><|assistant|> To find the product of 3940 and 3892, you can use a calculator or perform the multiplication manually.\\n\\n3940 * 3892 = 15,',\n",
       " '<s><|user|> What is 3940 * 3892?<|end|><|assistant|> To find the product of 3940 and 3892, you can use a calculator or perform the multiplication manually.\\n\\n3940 * 3892 = 153',\n",
       " \"<s><|user|> What is 3940 * 3892?<|end|><|assistant|> To find the product of 3940 and 3892, you can use a calculator or perform the multiplication manually.\\n\\nHere's the calculation:\\n\\n3940\\nx   \",\n",
       " \"<s><|user|> What is 3940 * 3892?<|end|><|assistant|> To find the product of 3940 and 3892, you can use a calculator or perform the multiplication manually.\\n\\nHere's the calculation:\\n\\n3940\\nx   \",\n",
       " \"<s><|user|> What is 3940 * 3892?<|end|><|assistant|> To find the product of 3940 and 3892, you can use a calculator or perform the multiplication manually.\\n\\nHere's the calculation:\\n\\n3940\\nx   \",\n",
       " \"<s><|user|> What is 3940 * 3892?<|end|><|assistant|> To multiply 3940 by 3892, you can use a calculator or do the multiplication manually. Here's the calculation:\\n\\n3940\\nx    3892\\n\",\n",
       " \"<s><|user|> What is 3940 * 3892?<|end|><|assistant|> To multiply 3940 by 3892, you can use a calculator or do the multiplication manually. Here's the calculation:\\n\\n3940\\nx    3892\\n\",\n",
       " \"<s><|user|> What is 3940 * 3892?<|end|><|assistant|> To multiply 3940 by 3892, you can use a calculator or do the multiplication manually. Here's the calculation:\\n\\n3940 * 3892 = \",\n",
       " \"<s><|user|> What is 3940 * 3892?<|end|><|assistant|> To find the product of 3940 and 3892, you can use a calculator or perform the multiplication manually.\\n\\nHere's the calculation:\\n\\n3940 * 3\"]"
      ]
     },
     "execution_count": 13,
     "metadata": {},
     "output_type": "execute_result"
    },
    {
     "ename": "",
     "evalue": "",
     "output_type": "error",
     "traceback": [
      "\u001b[1;31mThe Kernel crashed while executing code in the current cell or a previous cell. \n",
      "\u001b[1;31mPlease review the code in the cell(s) to identify a possible cause of the failure. \n",
      "\u001b[1;31mClick <a href='https://aka.ms/vscodeJupyterKernelCrash'>here</a> for more info. \n",
      "\u001b[1;31mView Jupyter <a href='command:jupyter.viewOutput'>log</a> for further details."
     ]
    }
   ],
   "source": [
    "layer = layer_source\n",
    "repeat = 64\n",
    "# vector = addition[-4]\n",
    "vector = recon_steer\n",
    "act_add = add_vector(llama,\n",
    "                     (vector / jnp.linalg.norm(vector, axis=-1, keepdims=True))[None, :] * jnp.linspace(-scale * 2, scale * 2, repeat)[:, None],\n",
    "                     layer)\n",
    "\n",
    "sample(act_add, tokenizer, prompt,\n",
    "       batch_size=repeat, do_sample=False)"
   ]
  },
  {
   "cell_type": "code",
   "execution_count": null,
   "metadata": {},
   "outputs": [],
   "source": []
  }
 ],
 "metadata": {
  "kernelspec": {
   "display_name": "micrlhf-progress-a058ydGG-py3.12",
   "language": "python",
   "name": "python3"
  },
  "language_info": {
   "codemirror_mode": {
    "name": "ipython",
    "version": 3
   },
   "file_extension": ".py",
   "mimetype": "text/x-python",
   "name": "python",
   "nbconvert_exporter": "python",
   "pygments_lexer": "ipython3",
   "version": "3.12.3"
  }
 },
 "nbformat": 4,
 "nbformat_minor": 2
}
