{
 "cells": [
  {
   "cell_type": "code",
   "execution_count": 1,
   "metadata": {},
   "outputs": [],
   "source": [
    "import os\n",
    "if \"models\" not in os.listdir(\".\"):\n",
    "    os.chdir(\"..\")"
   ]
  },
  {
   "cell_type": "code",
   "execution_count": 2,
   "metadata": {},
   "outputs": [],
   "source": [
    "%load_ext autoreload\n",
    "%autoreload 2\n",
    "import penzai\n",
    "from penzai import pz\n",
    "pz.ts.register_as_default()\n",
    "pz.ts.register_autovisualize_magic()\n",
    "pz.enable_interactive_context()"
   ]
  },
  {
   "cell_type": "code",
   "execution_count": 3,
   "metadata": {},
   "outputs": [],
   "source": [
    "filename = \"models/phi-3-16.gguf\"\n",
    "from micrlhf.llama import LlamaTransformer\n",
    "llama = LlamaTransformer.from_pretrained(filename, device_map=\"tpu:0\")"
   ]
  },
  {
   "cell_type": "code",
   "execution_count": 4,
   "metadata": {},
   "outputs": [
    {
     "name": "stderr",
     "output_type": "stream",
     "text": [
      "Special tokens have been added in the vocabulary, make sure the associated word embeddings are fine-tuned or trained.\n"
     ]
    }
   ],
   "source": [
    "from transformers import AutoTokenizer\n",
    "tokenizer = AutoTokenizer.from_pretrained(\"microsoft/Phi-3-mini-4k-instruct\")\n",
    "tokenizer.padding_side = \"right\""
   ]
  },
  {
   "cell_type": "code",
   "execution_count": 5,
   "metadata": {},
   "outputs": [],
   "source": [
    "import jax\n",
    "import jax.numpy as jnp\n",
    "prompt = \"\"\"<|user|>\n",
    "What is 3940 * 3892?<|end|>\n",
    "<|assistant|>\n",
    "\"\"\"\n",
    "tokens = tokenizer.encode(prompt)\n",
    "def tokens_to_array(tokens):\n",
    "    token_array = jnp.asarray(tokens)\n",
    "    if len(token_array) >= llama.mesh.shape[\"dp\"]:\n",
    "        token_array = jax.device_put(token_array, jax.sharding.NamedSharding(llama.mesh, jax.sharding.PartitionSpec(\"dp\", \"sp\")))\n",
    "    token_array = pz.nx.wrap(token_array, \"batch\", \"seq\")\n",
    "    return token_array"
   ]
  },
  {
   "cell_type": "code",
   "execution_count": 6,
   "metadata": {},
   "outputs": [],
   "source": [
    "from micrlhf.llama import LlamaBlock\n",
    "from functools import partial\n",
    "\n",
    "\n",
    "layer_source = 10\n",
    "def make_get_resids(llama, layer_target):\n",
    "    get_resids = llama.select().at_instances_of(LlamaBlock).pick_nth_selected(layer_target\n",
    "                                                                              ).apply(lambda x:\n",
    "        pz.nn.Sequential([\n",
    "            pz.de.TellIntermediate.from_config(tag=f\"resid_pre\"),\n",
    "            x\n",
    "        ])\n",
    "    )\n",
    "    get_resids = pz.de.CollectingSideOutputs.handling(get_resids, tag_predicate=lambda x: x.startswith(\"resid_pre\"))\n",
    "    return get_resids\n",
    "jittify = lambda x: partial(jax.jit(lambda lr, *args, **kwargs: lr(*args, **kwargs)[1][0].value), x)\n",
    "get_resids_initial = make_get_resids(llama, layer_source)\n",
    "get_resids_initial = jittify(get_resids_initial)"
   ]
  },
  {
   "cell_type": "code",
   "execution_count": 7,
   "metadata": {},
   "outputs": [],
   "source": [
    "layer_target = 20\n",
    "taker = jittify(make_get_resids(llama, layer_target).select().at_instances_of(LlamaBlock).apply_with_selected_index(\n",
    "    lambda i, x: x if i >= layer_source else pz.nn.Identity()\n",
    ").select().at_instances_of(pz.nn.EmbeddingLookup).apply(lambda _: pz.nn.Identity())\n",
    "                .select().at_instances_of(pz.nn.ConstantRescale).pick_nth_selected(0).apply(lambda _: pz.nn.Identity()))"
   ]
  },
  {
   "cell_type": "code",
   "execution_count": 8,
   "metadata": {},
   "outputs": [],
   "source": [
    "import dataclasses\n",
    "import jax.numpy as jnp\n",
    "from tqdm.auto import trange\n",
    "import optax\n",
    "\n",
    "\n",
    "inputs = llama.inputs.from_basic_segments(tokens_to_array([tokens]))\n",
    "resid_initial = get_resids_initial(inputs)\n",
    "bs = 16\n",
    "seed = 9\n",
    "iterations = 1000\n",
    "scale = 10\n",
    "def get_loss(rep):\n",
    "    rep = pz.nx.wrap(rep, \"batch\", \"embedding\")\n",
    "    rep = pz.nx.nmap(lambda a: a / jnp.linalg.norm(a) * scale)(rep.untag(\"embedding\")).tag(\"embedding\")\n",
    "    resid = pz.nx.nmap(lambda x, y: x.at[-1].add(y))(resid_initial[{\"batch\": 0}].untag(\"seq\"), rep).tag(\"seq\")\n",
    "    resid_out = taker(dataclasses.replace(inputs, tokens=resid,\n",
    "                                          attention_mask=inputs.attention_mask,\n",
    "                                          positions=inputs.positions))[{\"seq\": -1}]\n",
    "    diffs = pz.nx.nmap(lambda x: (x[:, None] - x[None, :]) ** 2)(resid_out.untag(\"batch\")).tag(\"batch1\", \"batch2\")\n",
    "    diffs = diffs.untag(\"embedding\").sum()  # ** 0.5\n",
    "    loss = diffs.data_array.mean()\n",
    "    return -loss, (resid_out,)\n",
    "start_add = jax.random.normal(jax.random.key(seed),\n",
    "                              (bs, resid_initial.named_shape[\"embedding\"]), dtype=resid_initial.dtype)\n",
    "\n",
    "optimizer = optax.chain(\n",
    "    optax.clip_by_global_norm(1.0),\n",
    "    optax.adam(1e-2),\n",
    "    optax.zero_nans(),\n",
    "    \n",
    ")\n",
    "lwg = jax.value_and_grad(get_loss, has_aux=True)\n",
    "# lwg = jax.jit(lwg)\n",
    "\n",
    "# @partial(jax.jit, donate_argnums=(0, 1))\n",
    "def train_step(addition, opt_state):\n",
    "    (loss, (resid_out,)), grad = lwg(addition)\n",
    "    updates, opt_state = optimizer.update(grad, opt_state, addition)\n",
    "    addition = optax.apply_updates(addition, updates)\n",
    "    return loss, addition, opt_state, dict(resid_out=resid_out)\n"
   ]
  },
  {
   "cell_type": "code",
   "execution_count": 9,
   "metadata": {},
   "outputs": [
    {
     "data": {
      "application/vnd.jupyter.widget-view+json": {
       "model_id": "81760a01e33f4f0f80f0deecc28ba3d6",
       "version_major": 2,
       "version_minor": 0
      },
      "text/plain": [
       "  0%|          | 0/1000 [00:00<?, ?it/s]"
      ]
     },
     "metadata": {},
     "output_type": "display_data"
    },
    {
     "ename": "KeyboardInterrupt",
     "evalue": "",
     "output_type": "error",
     "traceback": [
      "\u001b[0;31m---------------------------------------------------------------------------\u001b[0m",
      "\u001b[0;31mKeyboardInterrupt\u001b[0m                         Traceback (most recent call last)",
      "Cell \u001b[0;32mIn[9], line 4\u001b[0m\n\u001b[1;32m      2\u001b[0m opt_state \u001b[38;5;241m=\u001b[39m optimizer\u001b[38;5;241m.\u001b[39minit(addition)\n\u001b[1;32m      3\u001b[0m \u001b[38;5;28;01mfor\u001b[39;00m _ \u001b[38;5;129;01min\u001b[39;00m (bar \u001b[38;5;241m:=\u001b[39m trange(iterations)):\n\u001b[0;32m----> 4\u001b[0m     loss, addition, opt_state, aux \u001b[38;5;241m=\u001b[39m \u001b[43mtrain_step\u001b[49m\u001b[43m(\u001b[49m\u001b[43maddition\u001b[49m\u001b[43m,\u001b[49m\u001b[43m \u001b[49m\u001b[43mopt_state\u001b[49m\u001b[43m)\u001b[49m\n\u001b[1;32m      5\u001b[0m     bar\u001b[38;5;241m.\u001b[39mset_postfix(loss\u001b[38;5;241m=\u001b[39mloss)\n",
      "Cell \u001b[0;32mIn[8], line 38\u001b[0m, in \u001b[0;36mtrain_step\u001b[0;34m(addition, opt_state)\u001b[0m\n\u001b[1;32m     37\u001b[0m \u001b[38;5;28;01mdef\u001b[39;00m \u001b[38;5;21mtrain_step\u001b[39m(addition, opt_state):\n\u001b[0;32m---> 38\u001b[0m     (loss, (resid_out,)), grad \u001b[38;5;241m=\u001b[39m \u001b[43mlwg\u001b[49m\u001b[43m(\u001b[49m\u001b[43maddition\u001b[49m\u001b[43m)\u001b[49m\n\u001b[1;32m     39\u001b[0m     updates, opt_state \u001b[38;5;241m=\u001b[39m optimizer\u001b[38;5;241m.\u001b[39mupdate(grad, opt_state, addition)\n\u001b[1;32m     40\u001b[0m     addition \u001b[38;5;241m=\u001b[39m optax\u001b[38;5;241m.\u001b[39mapply_updates(addition, updates)\n",
      "    \u001b[0;31m[... skipping hidden 1 frame]\u001b[0m\n",
      "File \u001b[0;32m~/.cache/pypoetry/virtualenvs/micrlhf-progress-a058ydGG-py3.12/lib/python3.12/site-packages/jax/_src/api.py:693\u001b[0m, in \u001b[0;36mvalue_and_grad.<locals>.value_and_grad_f\u001b[0;34m(*args, **kwargs)\u001b[0m\n\u001b[1;32m    691\u001b[0m   ans, vjp_py \u001b[38;5;241m=\u001b[39m _vjp(f_partial, \u001b[38;5;241m*\u001b[39mdyn_args)\n\u001b[1;32m    692\u001b[0m \u001b[38;5;28;01melse\u001b[39;00m:\n\u001b[0;32m--> 693\u001b[0m   ans, vjp_py, aux \u001b[38;5;241m=\u001b[39m \u001b[43m_vjp\u001b[49m\u001b[43m(\u001b[49m\n\u001b[1;32m    694\u001b[0m \u001b[43m      \u001b[49m\u001b[43mf_partial\u001b[49m\u001b[43m,\u001b[49m\u001b[43m \u001b[49m\u001b[38;5;241;43m*\u001b[39;49m\u001b[43mdyn_args\u001b[49m\u001b[43m,\u001b[49m\u001b[43m \u001b[49m\u001b[43mhas_aux\u001b[49m\u001b[38;5;241;43m=\u001b[39;49m\u001b[38;5;28;43;01mTrue\u001b[39;49;00m\u001b[43m)\u001b[49m\n\u001b[1;32m    695\u001b[0m _check_scalar(ans)\n\u001b[1;32m    696\u001b[0m tree_map(partial(_check_output_dtype_grad, holomorphic), ans)\n",
      "File \u001b[0;32m~/.cache/pypoetry/virtualenvs/micrlhf-progress-a058ydGG-py3.12/lib/python3.12/site-packages/jax/_src/api.py:2182\u001b[0m, in \u001b[0;36m_vjp\u001b[0;34m(fun, has_aux, *primals)\u001b[0m\n\u001b[1;32m   2180\u001b[0m \u001b[38;5;28;01melse\u001b[39;00m:\n\u001b[1;32m   2181\u001b[0m   flat_fun, out_aux_trees \u001b[38;5;241m=\u001b[39m flatten_fun_nokwargs2(fun, in_tree)\n\u001b[0;32m-> 2182\u001b[0m   out_primal, out_vjp, aux \u001b[38;5;241m=\u001b[39m \u001b[43mad\u001b[49m\u001b[38;5;241;43m.\u001b[39;49m\u001b[43mvjp\u001b[49m\u001b[43m(\u001b[49m\n\u001b[1;32m   2183\u001b[0m \u001b[43m      \u001b[49m\u001b[43mflat_fun\u001b[49m\u001b[43m,\u001b[49m\u001b[43m \u001b[49m\u001b[43mprimals_flat\u001b[49m\u001b[43m,\u001b[49m\u001b[43m \u001b[49m\u001b[43mhas_aux\u001b[49m\u001b[38;5;241;43m=\u001b[39;49m\u001b[38;5;28;43;01mTrue\u001b[39;49;00m\u001b[43m)\u001b[49m\n\u001b[1;32m   2184\u001b[0m   out_tree, aux_tree \u001b[38;5;241m=\u001b[39m out_aux_trees()\n\u001b[1;32m   2185\u001b[0m out_primal_py \u001b[38;5;241m=\u001b[39m tree_unflatten(out_tree, out_primal)\n",
      "File \u001b[0;32m~/.cache/pypoetry/virtualenvs/micrlhf-progress-a058ydGG-py3.12/lib/python3.12/site-packages/jax/_src/interpreters/ad.py:145\u001b[0m, in \u001b[0;36mvjp\u001b[0;34m(traceable, primals, has_aux)\u001b[0m\n\u001b[1;32m    143\u001b[0m   out_primals, pvals, jaxpr, consts \u001b[38;5;241m=\u001b[39m linearize(traceable, \u001b[38;5;241m*\u001b[39mprimals)\n\u001b[1;32m    144\u001b[0m \u001b[38;5;28;01melse\u001b[39;00m:\n\u001b[0;32m--> 145\u001b[0m   out_primals, pvals, jaxpr, consts, aux \u001b[38;5;241m=\u001b[39m \u001b[43mlinearize\u001b[49m\u001b[43m(\u001b[49m\u001b[43mtraceable\u001b[49m\u001b[43m,\u001b[49m\u001b[43m \u001b[49m\u001b[38;5;241;43m*\u001b[39;49m\u001b[43mprimals\u001b[49m\u001b[43m,\u001b[49m\u001b[43m \u001b[49m\u001b[43mhas_aux\u001b[49m\u001b[38;5;241;43m=\u001b[39;49m\u001b[38;5;28;43;01mTrue\u001b[39;49;00m\u001b[43m)\u001b[49m\n\u001b[1;32m    147\u001b[0m \u001b[38;5;28;01mdef\u001b[39;00m \u001b[38;5;21munbound_vjp\u001b[39m(pvals, jaxpr, consts, \u001b[38;5;241m*\u001b[39mcts):\n\u001b[1;32m    148\u001b[0m   cts \u001b[38;5;241m=\u001b[39m \u001b[38;5;28mtuple\u001b[39m(ct \u001b[38;5;28;01mfor\u001b[39;00m ct, pval \u001b[38;5;129;01min\u001b[39;00m \u001b[38;5;28mzip\u001b[39m(cts, pvals) \u001b[38;5;28;01mif\u001b[39;00m \u001b[38;5;129;01mnot\u001b[39;00m pval\u001b[38;5;241m.\u001b[39mis_known())\n",
      "File \u001b[0;32m~/.cache/pypoetry/virtualenvs/micrlhf-progress-a058ydGG-py3.12/lib/python3.12/site-packages/jax/_src/interpreters/ad.py:132\u001b[0m, in \u001b[0;36mlinearize\u001b[0;34m(traceable, *primals, **kwargs)\u001b[0m\n\u001b[1;32m    130\u001b[0m _, in_tree \u001b[38;5;241m=\u001b[39m tree_flatten(((primals, primals), {}))\n\u001b[1;32m    131\u001b[0m jvpfun_flat, out_tree \u001b[38;5;241m=\u001b[39m flatten_fun(jvpfun, in_tree)\n\u001b[0;32m--> 132\u001b[0m jaxpr, out_pvals, consts \u001b[38;5;241m=\u001b[39m \u001b[43mpe\u001b[49m\u001b[38;5;241;43m.\u001b[39;49m\u001b[43mtrace_to_jaxpr_nounits\u001b[49m\u001b[43m(\u001b[49m\u001b[43mjvpfun_flat\u001b[49m\u001b[43m,\u001b[49m\u001b[43m \u001b[49m\u001b[43min_pvals\u001b[49m\u001b[43m)\u001b[49m\n\u001b[1;32m    133\u001b[0m out_primals_pvals, out_tangents_pvals \u001b[38;5;241m=\u001b[39m tree_unflatten(out_tree(), out_pvals)\n\u001b[1;32m    134\u001b[0m \u001b[38;5;28;01massert\u001b[39;00m \u001b[38;5;28mall\u001b[39m(out_primal_pval\u001b[38;5;241m.\u001b[39mis_known() \u001b[38;5;28;01mfor\u001b[39;00m out_primal_pval \u001b[38;5;129;01min\u001b[39;00m out_primals_pvals)\n",
      "File \u001b[0;32m~/.cache/pypoetry/virtualenvs/micrlhf-progress-a058ydGG-py3.12/lib/python3.12/site-packages/jax/_src/profiler.py:335\u001b[0m, in \u001b[0;36mannotate_function.<locals>.wrapper\u001b[0;34m(*args, **kwargs)\u001b[0m\n\u001b[1;32m    332\u001b[0m \u001b[38;5;129m@wraps\u001b[39m(func)\n\u001b[1;32m    333\u001b[0m \u001b[38;5;28;01mdef\u001b[39;00m \u001b[38;5;21mwrapper\u001b[39m(\u001b[38;5;241m*\u001b[39margs, \u001b[38;5;241m*\u001b[39m\u001b[38;5;241m*\u001b[39mkwargs):\n\u001b[1;32m    334\u001b[0m   \u001b[38;5;28;01mwith\u001b[39;00m TraceAnnotation(name, \u001b[38;5;241m*\u001b[39m\u001b[38;5;241m*\u001b[39mdecorator_kwargs):\n\u001b[0;32m--> 335\u001b[0m     \u001b[38;5;28;01mreturn\u001b[39;00m \u001b[43mfunc\u001b[49m\u001b[43m(\u001b[49m\u001b[38;5;241;43m*\u001b[39;49m\u001b[43margs\u001b[49m\u001b[43m,\u001b[49m\u001b[43m \u001b[49m\u001b[38;5;241;43m*\u001b[39;49m\u001b[38;5;241;43m*\u001b[39;49m\u001b[43mkwargs\u001b[49m\u001b[43m)\u001b[49m\n\u001b[1;32m    336\u001b[0m   \u001b[38;5;28;01mreturn\u001b[39;00m wrapper\n",
      "File \u001b[0;32m~/.cache/pypoetry/virtualenvs/micrlhf-progress-a058ydGG-py3.12/lib/python3.12/site-packages/jax/_src/interpreters/partial_eval.py:774\u001b[0m, in \u001b[0;36mtrace_to_jaxpr_nounits\u001b[0;34m(fun, pvals, instantiate)\u001b[0m\n\u001b[1;32m    772\u001b[0m \u001b[38;5;28;01mwith\u001b[39;00m core\u001b[38;5;241m.\u001b[39mnew_main(JaxprTrace, name_stack\u001b[38;5;241m=\u001b[39mcurrent_name_stack) \u001b[38;5;28;01mas\u001b[39;00m main:\n\u001b[1;32m    773\u001b[0m   fun \u001b[38;5;241m=\u001b[39m trace_to_subjaxpr_nounits(fun, main, instantiate)\n\u001b[0;32m--> 774\u001b[0m   jaxpr, (out_pvals, consts, env) \u001b[38;5;241m=\u001b[39m \u001b[43mfun\u001b[49m\u001b[38;5;241;43m.\u001b[39;49m\u001b[43mcall_wrapped\u001b[49m\u001b[43m(\u001b[49m\u001b[43mpvals\u001b[49m\u001b[43m)\u001b[49m\n\u001b[1;32m    775\u001b[0m   \u001b[38;5;28;01massert\u001b[39;00m \u001b[38;5;129;01mnot\u001b[39;00m env\n\u001b[1;32m    776\u001b[0m   \u001b[38;5;28;01mdel\u001b[39;00m main, fun, env\n",
      "File \u001b[0;32m~/.cache/pypoetry/virtualenvs/micrlhf-progress-a058ydGG-py3.12/lib/python3.12/site-packages/jax/_src/linear_util.py:192\u001b[0m, in \u001b[0;36mWrappedFun.call_wrapped\u001b[0;34m(self, *args, **kwargs)\u001b[0m\n\u001b[1;32m    189\u001b[0m gen \u001b[38;5;241m=\u001b[39m gen_static_args \u001b[38;5;241m=\u001b[39m out_store \u001b[38;5;241m=\u001b[39m \u001b[38;5;28;01mNone\u001b[39;00m\n\u001b[1;32m    191\u001b[0m \u001b[38;5;28;01mtry\u001b[39;00m:\n\u001b[0;32m--> 192\u001b[0m   ans \u001b[38;5;241m=\u001b[39m \u001b[38;5;28;43mself\u001b[39;49m\u001b[38;5;241;43m.\u001b[39;49m\u001b[43mf\u001b[49m\u001b[43m(\u001b[49m\u001b[38;5;241;43m*\u001b[39;49m\u001b[43margs\u001b[49m\u001b[43m,\u001b[49m\u001b[43m \u001b[49m\u001b[38;5;241;43m*\u001b[39;49m\u001b[38;5;241;43m*\u001b[39;49m\u001b[38;5;28;43mdict\u001b[39;49m\u001b[43m(\u001b[49m\u001b[38;5;28;43mself\u001b[39;49m\u001b[38;5;241;43m.\u001b[39;49m\u001b[43mparams\u001b[49m\u001b[43m,\u001b[49m\u001b[43m \u001b[49m\u001b[38;5;241;43m*\u001b[39;49m\u001b[38;5;241;43m*\u001b[39;49m\u001b[43mkwargs\u001b[49m\u001b[43m)\u001b[49m\u001b[43m)\u001b[49m\n\u001b[1;32m    193\u001b[0m \u001b[38;5;28;01mexcept\u001b[39;00m:\n\u001b[1;32m    194\u001b[0m   \u001b[38;5;66;03m# Some transformations yield from inside context managers, so we have to\u001b[39;00m\n\u001b[1;32m    195\u001b[0m   \u001b[38;5;66;03m# interrupt them before reraising the exception. Otherwise they will only\u001b[39;00m\n\u001b[1;32m    196\u001b[0m   \u001b[38;5;66;03m# get garbage-collected at some later time, running their cleanup tasks\u001b[39;00m\n\u001b[1;32m    197\u001b[0m   \u001b[38;5;66;03m# only after this exception is handled, which can corrupt the global\u001b[39;00m\n\u001b[1;32m    198\u001b[0m   \u001b[38;5;66;03m# state.\u001b[39;00m\n\u001b[1;32m    199\u001b[0m   \u001b[38;5;28;01mwhile\u001b[39;00m stack:\n",
      "Cell \u001b[0;32mIn[8], line 17\u001b[0m, in \u001b[0;36mget_loss\u001b[0;34m(rep)\u001b[0m\n\u001b[1;32m     15\u001b[0m rep \u001b[38;5;241m=\u001b[39m pz\u001b[38;5;241m.\u001b[39mnx\u001b[38;5;241m.\u001b[39mnmap(\u001b[38;5;28;01mlambda\u001b[39;00m a: a \u001b[38;5;241m/\u001b[39m jnp\u001b[38;5;241m.\u001b[39mlinalg\u001b[38;5;241m.\u001b[39mnorm(a) \u001b[38;5;241m*\u001b[39m scale)(rep\u001b[38;5;241m.\u001b[39muntag(\u001b[38;5;124m\"\u001b[39m\u001b[38;5;124membedding\u001b[39m\u001b[38;5;124m\"\u001b[39m))\u001b[38;5;241m.\u001b[39mtag(\u001b[38;5;124m\"\u001b[39m\u001b[38;5;124membedding\u001b[39m\u001b[38;5;124m\"\u001b[39m)\n\u001b[1;32m     16\u001b[0m resid \u001b[38;5;241m=\u001b[39m pz\u001b[38;5;241m.\u001b[39mnx\u001b[38;5;241m.\u001b[39mnmap(\u001b[38;5;28;01mlambda\u001b[39;00m x, y: x\u001b[38;5;241m.\u001b[39mat[\u001b[38;5;241m-\u001b[39m\u001b[38;5;241m1\u001b[39m]\u001b[38;5;241m.\u001b[39madd(y))(resid_initial[{\u001b[38;5;124m\"\u001b[39m\u001b[38;5;124mbatch\u001b[39m\u001b[38;5;124m\"\u001b[39m: \u001b[38;5;241m0\u001b[39m}]\u001b[38;5;241m.\u001b[39muntag(\u001b[38;5;124m\"\u001b[39m\u001b[38;5;124mseq\u001b[39m\u001b[38;5;124m\"\u001b[39m), rep)\u001b[38;5;241m.\u001b[39mtag(\u001b[38;5;124m\"\u001b[39m\u001b[38;5;124mseq\u001b[39m\u001b[38;5;124m\"\u001b[39m)\n\u001b[0;32m---> 17\u001b[0m resid_out \u001b[38;5;241m=\u001b[39m \u001b[43mtaker\u001b[49m\u001b[43m(\u001b[49m\u001b[43mdataclasses\u001b[49m\u001b[38;5;241;43m.\u001b[39;49m\u001b[43mreplace\u001b[49m\u001b[43m(\u001b[49m\u001b[43minputs\u001b[49m\u001b[43m,\u001b[49m\u001b[43m \u001b[49m\u001b[43mtokens\u001b[49m\u001b[38;5;241;43m=\u001b[39;49m\u001b[43mresid\u001b[49m\u001b[43m,\u001b[49m\n\u001b[1;32m     18\u001b[0m \u001b[43m                                      \u001b[49m\u001b[43mattention_mask\u001b[49m\u001b[38;5;241;43m=\u001b[39;49m\u001b[43minputs\u001b[49m\u001b[38;5;241;43m.\u001b[39;49m\u001b[43mattention_mask\u001b[49m\u001b[43m,\u001b[49m\n\u001b[1;32m     19\u001b[0m \u001b[43m                                      \u001b[49m\u001b[43mpositions\u001b[49m\u001b[38;5;241;43m=\u001b[39;49m\u001b[43minputs\u001b[49m\u001b[38;5;241;43m.\u001b[39;49m\u001b[43mpositions\u001b[49m\u001b[43m)\u001b[49m\u001b[43m)\u001b[49m[{\u001b[38;5;124m\"\u001b[39m\u001b[38;5;124mseq\u001b[39m\u001b[38;5;124m\"\u001b[39m: \u001b[38;5;241m-\u001b[39m\u001b[38;5;241m1\u001b[39m}]\n\u001b[1;32m     20\u001b[0m diffs \u001b[38;5;241m=\u001b[39m pz\u001b[38;5;241m.\u001b[39mnx\u001b[38;5;241m.\u001b[39mnmap(\u001b[38;5;28;01mlambda\u001b[39;00m x: (x[:, \u001b[38;5;28;01mNone\u001b[39;00m] \u001b[38;5;241m-\u001b[39m x[\u001b[38;5;28;01mNone\u001b[39;00m, :]) \u001b[38;5;241m*\u001b[39m\u001b[38;5;241m*\u001b[39m \u001b[38;5;241m2\u001b[39m)(resid_out\u001b[38;5;241m.\u001b[39muntag(\u001b[38;5;124m\"\u001b[39m\u001b[38;5;124mbatch\u001b[39m\u001b[38;5;124m\"\u001b[39m))\u001b[38;5;241m.\u001b[39mtag(\u001b[38;5;124m\"\u001b[39m\u001b[38;5;124mbatch1\u001b[39m\u001b[38;5;124m\"\u001b[39m, \u001b[38;5;124m\"\u001b[39m\u001b[38;5;124mbatch2\u001b[39m\u001b[38;5;124m\"\u001b[39m)\n\u001b[1;32m     21\u001b[0m diffs \u001b[38;5;241m=\u001b[39m diffs\u001b[38;5;241m.\u001b[39muntag(\u001b[38;5;124m\"\u001b[39m\u001b[38;5;124membedding\u001b[39m\u001b[38;5;124m\"\u001b[39m)\u001b[38;5;241m.\u001b[39msum()  \u001b[38;5;66;03m# ** 0.5\u001b[39;00m\n",
      "File \u001b[0;32m~/.cache/pypoetry/virtualenvs/micrlhf-progress-a058ydGG-py3.12/lib/python3.12/site-packages/penzai/core/struct.py:602\u001b[0m, in \u001b[0;36mStruct.tree_flatten\u001b[0;34m(self)\u001b[0m\n\u001b[1;32m    596\u001b[0m       children\u001b[38;5;241m.\u001b[39mappend((\n\u001b[1;32m    597\u001b[0m           \u001b[38;5;28mself\u001b[39m\u001b[38;5;241m.\u001b[39mkey_for_field(field_\u001b[38;5;241m.\u001b[39mname),\n\u001b[1;32m    598\u001b[0m           value,\n\u001b[1;32m    599\u001b[0m       ))\n\u001b[1;32m    600\u001b[0m   \u001b[38;5;28;01mreturn\u001b[39;00m children, StructStaticMetadata(child_field_names, static_fields)\n\u001b[0;32m--> 602\u001b[0m \u001b[38;5;129m@typing\u001b[39m\u001b[38;5;241m.\u001b[39mfinal\n\u001b[1;32m    603\u001b[0m \u001b[38;5;28;01mdef\u001b[39;00m \u001b[38;5;21mtree_flatten\u001b[39m(\u001b[38;5;28mself\u001b[39m) \u001b[38;5;241m-\u001b[39m\u001b[38;5;241m>\u001b[39m \u001b[38;5;28mtuple\u001b[39m[Sequence[Any], Any]:\n\u001b[1;32m    604\u001b[0m \u001b[38;5;250m  \u001b[39m\u001b[38;5;124;03m\"\"\"Flattens this tree node.\u001b[39;00m\n\u001b[1;32m    605\u001b[0m \n\u001b[1;32m    606\u001b[0m \u001b[38;5;124;03m  See `jax.tree_util.register_pytree_with_keys_class`.\u001b[39;00m\n\u001b[0;32m   (...)\u001b[0m\n\u001b[1;32m    614\u001b[0m \u001b[38;5;124;03m    Children of the node, along with static metadata.\u001b[39;00m\n\u001b[1;32m    615\u001b[0m \u001b[38;5;124;03m  \"\"\"\u001b[39;00m\n\u001b[1;32m    616\u001b[0m   child_field_names \u001b[38;5;241m=\u001b[39m []\n",
      "\u001b[0;31mKeyboardInterrupt\u001b[0m: "
     ]
    }
   ],
   "source": [
    "addition = start_add\n",
    "opt_state = optimizer.init(addition)\n",
    "for _ in (bar := trange(iterations)):\n",
    "    loss, addition, opt_state, aux = train_step(addition, opt_state)\n",
    "    bar.set_postfix(loss=loss)"
   ]
  },
  {
   "cell_type": "code",
   "execution_count": 9,
   "metadata": {},
   "outputs": [
    {
     "name": "stderr",
     "output_type": "stream",
     "text": [
      "--2024-06-21 13:48:49--  https://huggingface.co/nev/phi-3-4k-saex-test/resolve/main/l10-test-run-4-2.73E-06/sae_weights.safetensors?download=true\n",
      "Resolving huggingface.co (huggingface.co)... 108.156.211.125, 108.156.211.90, 108.156.211.51, ...\n",
      "Connecting to huggingface.co (huggingface.co)|108.156.211.125|:443... connected.\n",
      "HTTP request sent, awaiting response... 302 Found\n",
      "Location: https://cdn-lfs-us-1.huggingface.co/repos/eb/d8/ebd889d6ac58573e8e8a7aa1176d4d357581a6da60135b94aca378fddf4e9e54/c8cf3f62062b3cdc9509167526de244fa3271fca14dd9dc97f653ef970374bd7?response-content-disposition=attachment%3B+filename*%3DUTF-8%27%27sae_weights.safetensors%3B+filename%3D%22sae_weights.safetensors%22%3B&Expires=1719236929&Policy=eyJTdGF0ZW1lbnQiOlt7IkNvbmRpdGlvbiI6eyJEYXRlTGVzc1RoYW4iOnsiQVdTOkVwb2NoVGltZSI6MTcxOTIzNjkyOX19LCJSZXNvdXJjZSI6Imh0dHBzOi8vY2RuLWxmcy11cy0xLmh1Z2dpbmdmYWNlLmNvL3JlcG9zL2ViL2Q4L2ViZDg4OWQ2YWM1ODU3M2U4ZThhN2FhMTE3NmQ0ZDM1NzU4MWE2ZGE2MDEzNWI5NGFjYTM3OGZkZGY0ZTllNTQvYzhjZjNmNjIwNjJiM2NkYzk1MDkxNjc1MjZkZTI0NGZhMzI3MWZjYTE0ZGQ5ZGM5N2Y2NTNlZjk3MDM3NGJkNz9yZXNwb25zZS1jb250ZW50LWRpc3Bvc2l0aW9uPSoifV19&Signature=ISBd0Ais4MLPde81xA5wVGgR26FUiUT6sDOrkb8uREdrX7nlhL50rBlzu9g-P3nym2A-WZrZLMBqFiQwaixF0Jy5wKy7CWEt8PV4jumspddCl7lPAqikj64YqvHJrLplOQa9z9Tc5VhZebCL%7Eaf9wlv5Vws4dXsR%7EUxq8QOmy6oWITe3ZCvVE03AbOIKqIptt%7EDBJ8zc8XzvOh4bXkGyvo0VnWD72jU7IFwZI9Xa8L35lC7ukFaw658O0Md3UEcAFWll3aMVKfjrxnsF%7E-d%7EWj8Irn1kJ5hVS7hIgmuYLzV8N3ik5-iF6K0ontswydpHnRLXoBs33vvZLpdyvL15Jg__&Key-Pair-Id=K2FPYV99P2N66Q [following]\n",
      "--2024-06-21 13:48:49--  https://cdn-lfs-us-1.huggingface.co/repos/eb/d8/ebd889d6ac58573e8e8a7aa1176d4d357581a6da60135b94aca378fddf4e9e54/c8cf3f62062b3cdc9509167526de244fa3271fca14dd9dc97f653ef970374bd7?response-content-disposition=attachment%3B+filename*%3DUTF-8%27%27sae_weights.safetensors%3B+filename%3D%22sae_weights.safetensors%22%3B&Expires=1719236929&Policy=eyJTdGF0ZW1lbnQiOlt7IkNvbmRpdGlvbiI6eyJEYXRlTGVzc1RoYW4iOnsiQVdTOkVwb2NoVGltZSI6MTcxOTIzNjkyOX19LCJSZXNvdXJjZSI6Imh0dHBzOi8vY2RuLWxmcy11cy0xLmh1Z2dpbmdmYWNlLmNvL3JlcG9zL2ViL2Q4L2ViZDg4OWQ2YWM1ODU3M2U4ZThhN2FhMTE3NmQ0ZDM1NzU4MWE2ZGE2MDEzNWI5NGFjYTM3OGZkZGY0ZTllNTQvYzhjZjNmNjIwNjJiM2NkYzk1MDkxNjc1MjZkZTI0NGZhMzI3MWZjYTE0ZGQ5ZGM5N2Y2NTNlZjk3MDM3NGJkNz9yZXNwb25zZS1jb250ZW50LWRpc3Bvc2l0aW9uPSoifV19&Signature=ISBd0Ais4MLPde81xA5wVGgR26FUiUT6sDOrkb8uREdrX7nlhL50rBlzu9g-P3nym2A-WZrZLMBqFiQwaixF0Jy5wKy7CWEt8PV4jumspddCl7lPAqikj64YqvHJrLplOQa9z9Tc5VhZebCL%7Eaf9wlv5Vws4dXsR%7EUxq8QOmy6oWITe3ZCvVE03AbOIKqIptt%7EDBJ8zc8XzvOh4bXkGyvo0VnWD72jU7IFwZI9Xa8L35lC7ukFaw658O0Md3UEcAFWll3aMVKfjrxnsF%7E-d%7EWj8Irn1kJ5hVS7hIgmuYLzV8N3ik5-iF6K0ontswydpHnRLXoBs33vvZLpdyvL15Jg__&Key-Pair-Id=K2FPYV99P2N66Q\n",
      "Resolving cdn-lfs-us-1.huggingface.co (cdn-lfs-us-1.huggingface.co)... 108.138.167.67, 108.138.167.63, 108.138.167.22, ...\n",
      "Connecting to cdn-lfs-us-1.huggingface.co (cdn-lfs-us-1.huggingface.co)|108.138.167.67|:443... connected.\n",
      "HTTP request sent, awaiting response... 416 Requested Range Not Satisfiable\n",
      "\n",
      "    The file is already fully retrieved; nothing to do.\n",
      "\n"
     ]
    },
    {
     "data": {
      "application/vnd.jupyter.widget-view+json": {
       "model_id": "376021b2cc9346c3a522e563aa525d3b",
       "version_major": 2,
       "version_minor": 0
      },
      "text/plain": [
       "  0%|          | 0/192 [00:00<?, ?it/s]"
      ]
     },
     "metadata": {},
     "output_type": "display_data"
    },
    {
     "name": "stderr",
     "output_type": "stream",
     "text": [
      "/home/neverix/.cache/pypoetry/virtualenvs/micrlhf-progress-a058ydGG-py3.12/lib/python3.12/site-packages/jax/_src/ops/scatter.py:96: FutureWarning: scatter inputs have incompatible types: cannot safely cast value from dtype=float32 to dtype=bfloat16 with jax_numpy_dtype_promotion='standard'. In future JAX releases this will result in an error.\n",
      "  warnings.warn(\n",
      "/home/neverix/.cache/pypoetry/virtualenvs/micrlhf-progress-a058ydGG-py3.12/lib/python3.12/site-packages/jax/_src/ops/scatter.py:96: FutureWarning: scatter inputs have incompatible types: cannot safely cast value from dtype=float32 to dtype=bfloat16 with jax_numpy_dtype_promotion='standard'. In future JAX releases this will result in an error.\n",
      "  warnings.warn(\n"
     ]
    },
    {
     "data": {
      "text/html": [
       "<div id=\"output_90b4d02af4684863b800560fe50e3ab5\"><script> /* penzai.treescope rendering of a Python object (compressed) */ (()=>{ let observer; let lastStep = new Promise((resolve, reject) => { observer = new IntersectionObserver((entries) => { for (const entry of entries) { if (entry.isIntersecting) { resolve(); observer.disconnect(); return; } } }, {rootMargin: \"1000px\"}); }); window.treescope_decompress_enqueue = (encoded, destId) => { const previous = lastStep; const destElt = document.getElementById(destId); lastStep = (async () => { await previous; let blob = new Blob([ Uint8Array.from(atob(encoded), (m) => m.codePointAt(0)) ]); let reader = blob.stream().pipeThrough( new DecompressionStream(\"deflate\") ).pipeThrough( new TextDecoderStream(\"utf-8\") ).getReader(); let parts = []; while (true) { let step = await reader.read(); if (step.done) { break; } parts.push(step.value); } let newElt = document.createElement(\"div\"); newElt.innerHTML = parts.join(\"\"); destElt.parentNode.replaceChild(newElt, destElt); for (let oldScript of newElt.querySelectorAll(\"script\")) { let newScript = document.createElement(\"script\"); newScript.type = oldScript.type; newScript.textContent = oldScript.textContent; oldScript.parentNode.replaceChild(newScript, oldScript); } })(); requestAnimationFrame(() => { observer.observe(destElt); }); } })(); </script><div id=\"compress_html_08b917a2935d4e738bef2c4c0fecf8e4\"><script>window.treescope_decompress_enqueue(\"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\", \"compress_html_08b917a2935d4e738bef2c4c0fecf8e4\");</script><span style=\"color: #aaaaaa; font-family: monospace\">(Loading...)</span></div></div>"
      ],
      "text/plain": [
       "<IPython.core.display.HTML object>"
      ]
     },
     "metadata": {},
     "output_type": "display_data"
    },
    {
     "data": {
      "text/html": [
       "<div id=\"output_dest_90b4d02af4684863b800560fe50e3ab5\"><script> (()=>{ const output = document.getElementById(\"output_90b4d02af4684863b800560fe50e3ab5\"); const dest = document.getElementById(\"output_dest_90b4d02af4684863b800560fe50e3ab5\"); dest.parentNode.replaceChild(output, dest); })(); </script></div>"
      ],
      "text/plain": [
       "(12288, 3072)"
      ]
     },
     "execution_count": 9,
     "metadata": {},
     "output_type": "execute_result"
    }
   ],
   "source": [
    "from micrlhf.utils.load_sae import get_sae\n",
    "from tqdm.auto import trange\n",
    "from more_itertools import chunked\n",
    "import numpy as np\n",
    "sae = get_sae(layer_source, 4)\n",
    "\n",
    "feat_bs = 64\n",
    "feat_outs = []\n",
    "try:\n",
    "    for index in trange(0, len(sae[\"W_dec\"]) // 4, feat_bs):\n",
    "        rep = sae[\"W_dec\"][index:index+feat_bs]\n",
    "        rep = pz.nx.wrap(rep, \"batch\", \"embedding\")\n",
    "        rep = pz.nx.nmap(lambda a: a / jnp.linalg.norm(a) * scale)(rep.untag(\"embedding\")).tag(\"embedding\")\n",
    "        resid = pz.nx.nmap(lambda x, y: x.at[-1].add(y))(resid_initial[{\"batch\": 0}].untag(\"seq\"), rep).tag(\"seq\")\n",
    "        resid_out = taker(dataclasses.replace(inputs, tokens=resid,\n",
    "                                            attention_mask=inputs.attention_mask,\n",
    "                                            positions=inputs.positions))[{\"seq\": -1}]\n",
    "        feat_outs.append(np.array(resid_out.unwrap(\"batch\", \"embedding\")))\n",
    "except KeyboardInterrupt:\n",
    "    pass\n",
    "all_outs = np.concatenate(feat_outs, axis=0)\n",
    "all_outs.shape"
   ]
  },
  {
   "cell_type": "code",
   "execution_count": 10,
   "metadata": {},
   "outputs": [
    {
     "data": {
      "application/vnd.jupyter.widget-view+json": {
       "model_id": "3abd58b6ae5c4593b2ddbbfb9e871a2e",
       "version_major": 2,
       "version_minor": 0
      },
      "text/plain": [
       "  0%|          | 0/8 [00:00<?, ?it/s]"
      ]
     },
     "metadata": {},
     "output_type": "display_data"
    }
   ],
   "source": [
    "# i love scipy. it has everything\n",
    "from scipy.spatial.distance import pdist, squareform\n",
    "from tqdm.auto import trange\n",
    "distances = squareform(pdist(all_outs.astype(np.float16)))\n",
    "existing = []\n",
    "for _ in trange(bs // 2):\n",
    "    md = distances.ravel().argmax()\n",
    "    row, col = np.unravel_index(md, distances.shape)\n",
    "    distances[row] = 0\n",
    "    distances[col] = 0\n",
    "    distances[:, row] = 0\n",
    "    distances[:, col] = 0\n",
    "    distances = distances + distances[row, None] / 2 + distances[:, row] / 2 + distances[col, None] / 2 + distances[:, col] / 2\n",
    "    existing.extend([row, col])\n",
    "vectors = sae[\"W_dec\"][jnp.asarray(existing)]"
   ]
  },
  {
   "cell_type": "code",
   "execution_count": 11,
   "metadata": {},
   "outputs": [
    {
     "data": {
      "application/vnd.jupyter.widget-view+json": {
       "model_id": "c35485c3fd094879b94fb04d4e7e358b",
       "version_major": 2,
       "version_minor": 0
      },
      "text/plain": [
       "  0%|          | 0/46 [00:00<?, ?it/s]"
      ]
     },
     "metadata": {},
     "output_type": "display_data"
    },
    {
     "data": {
      "text/html": [
       "<div id=\"output_a0301aa0b72f4dd9b23526bd1b50ca29\"><script> /* penzai.treescope rendering of a Python object (compressed) */ (()=>{ let observer; let lastStep = new Promise((resolve, reject) => { observer = new IntersectionObserver((entries) => { for (const entry of entries) { if (entry.isIntersecting) { resolve(); observer.disconnect(); return; } } }, {rootMargin: \"1000px\"}); }); window.treescope_decompress_enqueue = (encoded, destId) => { const previous = lastStep; const destElt = document.getElementById(destId); lastStep = (async () => { await previous; let blob = new Blob([ Uint8Array.from(atob(encoded), (m) => m.codePointAt(0)) ]); let reader = blob.stream().pipeThrough( new DecompressionStream(\"deflate\") ).pipeThrough( new TextDecoderStream(\"utf-8\") ).getReader(); let parts = []; while (true) { let step = await reader.read(); if (step.done) { break; } parts.push(step.value); } let newElt = document.createElement(\"div\"); newElt.innerHTML = parts.join(\"\"); destElt.parentNode.replaceChild(newElt, destElt); for (let oldScript of newElt.querySelectorAll(\"script\")) { let newScript = document.createElement(\"script\"); newScript.type = oldScript.type; newScript.textContent = oldScript.textContent; oldScript.parentNode.replaceChild(newScript, oldScript); } })(); requestAnimationFrame(() => { observer.observe(destElt); }); } })(); </script><div id=\"compress_html_cfa365c30b244d8eb52ab1125cc1bc77\"><script>window.treescope_decompress_enqueue(\"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\", \"compress_html_cfa365c30b244d8eb52ab1125cc1bc77\");</script><span style=\"color: #aaaaaa; font-family: monospace\">(Loading...)</span></div></div>"
      ],
      "text/plain": [
       "<IPython.core.display.HTML object>"
      ]
     },
     "metadata": {},
     "output_type": "display_data"
    },
    {
     "data": {
      "text/html": [
       "<div id=\"output_dest_a0301aa0b72f4dd9b23526bd1b50ca29\"><script> (()=>{ const output = document.getElementById(\"output_a0301aa0b72f4dd9b23526bd1b50ca29\"); const dest = document.getElementById(\"output_dest_a0301aa0b72f4dd9b23526bd1b50ca29\"); dest.parentNode.replaceChild(output, dest); })(); </script></div>"
      ],
      "text/plain": [
       "[['<s><|user|> What is 3940 * 3892?<|end|><|assistant|> To calculatingvations like \"2c,\" would be calculated ch:\\n\\\\[ 2 \\\\times 2! = 4 \\\\]\\n\\n?\\n\\n\\\\beginrintation<|end|><|assistant|> \"multiplication\" has',\n",
       "  '<s><|user|> What is 3940 * 3892?<|end|><|assistant|> The multiplication of 8 numbers is not something we should do here, but I can guide you through the process in a more simplified manner.\\nv math tool or a calculator could be used for such extensive multiplication.\\nAs',\n",
       "  '<s><|user|> What is 3940 * 3892?<|end|><|assistant|> To calculating yacmulation _ 6 _ _ _ _ _ _ _ _ _ _, please use the multiplication operation. The result for 6980 * 1992 is as follows:\\n ',\n",
       "  '<s><|user|> What is 3940 * 3892?<|end|><|assistant|> 19942220.<|end|><|assistant|> Actually, your calculation is incorrect. The multiplication of 98,00v by 99,4d0 is 9772220'],\n",
       " ['<s><|user|> What is 3940 * 3892?<|end|><|assistant|>s:\\n.\\n\\n The multiplication is:\\n    3940\\n x  3892\\n-----------\\n   713600\\n+ 274320\\n-----------',\n",
       "  '<s><|user|> What is 3940 * 3892?<|end|><|assistant|>}\\nThe = :\\n3940\\n\\\\overline{3892} * \\n=\\n\\n* \\n\\\\overline{3892} =\\n3940\\n\\\\_8',\n",
       "  '<s><|user|> What is 3940 * 3892?<|end|><|assistant|>}\\n3940 * 3892 = \\n\\nHere is the calculation:\\n: \\n1s place =  * 8 +  * 2 =  +  5\\n: ',\n",
       "  '<s><|user|> What is 3940 * 3892?<|end|><|assistant|>s  of :\\n\\n3940 * 3892 = \\n\\n   3940\\n  x 3892\\n\\n -- - ----\\n  2048  '],\n",
       " ['<s><|user|> What is 3940 * 3892?<|end|><|assistant|> The multiplication of 3940 and 3892 is: 3940 * 3892 = 11429280.<|end|><|end|><|assistant|> Here is the solution using',\n",
       "  \"<s><|user|> What is 3940 * 3892?<|end|><|assistant|> The multiplication of 3940 and 3892 is 11,485,280.\\n\\nHere's the calculation:\\n\\n```\\n  3940\\nx\",\n",
       "  '<s><|user|> What is 3940 * 3892?<|end|><|assistant|> The multiplication of 3940 by 3892 is:\\n\\n3940 * 3892 = 11,371,680\\n\\nSo, the product',\n",
       "  '<s><|user|> What is 3940 * 3892?<|end|><|assistant|> The multiplication of 3940 and 3892 is:\\n\\n3940 * 3892 = 11431680\\n\\nSo, the result of '],\n",
       " ['<s><|user|> What is 3940 * 3892?<|end|><|assistant|> 3940 * 3892 = 15434240\\nTherefore, 3940 * 3892 = 15434240',\n",
       "  '<s><|user|> What is 3940 * 3892?<|end|><|assistant|> 3940 * 3892 = 15,430,880.<|end|><|assistant|> [calculated using long multiplication]<|end|><|assistant|> To multiply 3940 by 38',\n",
       "  '<s><|user|> What is 3940 * 3892?<|end|><|assistant|> 3940 * 3892 = 15421280<|end|><|assistant|> 3940 multiplied by 3892 equals 15421280',\n",
       "  '<s><|user|> What is 3940 * 3892?<|end|><|assistant|> 3940 * 3892 = 15403680.\\n<|end|><|assistant|> 15403680.\\nTherefore, 3940 multiplied'],\n",
       " ['<s><|user|> What is 3940 * 3892?<|end|><|assistant|> 656633280<|end|><|assistant|> \"\"\"\\nTo calculate the product of 504133280, you can perform the multiplication:\\n\\n56663318',\n",
       "  '<s><|user|> What is 3940 * 3892?<|end|><|assistant|> 65007328<|end|><|assistant|> $1$ dollars, $$0$$ thousand dollars, $$, $$3$ millions, $$0$$ thousands, and $$0$$ cions.\\n\\nAlthough',\n",
       "  '<s><|user|> What is 3940 * 3892?<|end|><|assistant|> 256412800.<|end|><|assistant|> here,\\nThe result of multiplying 1 (1 thousand) by 3 (3 hundred thousand) is 100 thousand,\\nthe result of',\n",
       "  '<s><|user|> What is 3940 * 3892?<|end|><|assistant|> To multiply these two numbers together, you would use the standard multiplication method, multiplying each digit of one number by each digit of the other number and carrying over the results accordingly.\\n\\nHowever, as we are performing this operation'],\n",
       " ['<s><|user|> What is 3940 * 3892?<|end|><|assistant|> The product of 3940 multiplied by 3892 is 15265280.<|end|><|endoftext|><|endoftext|><|endoftext|> message>\\nFind the area of the region bounded by the graphs of the',\n",
       "  '<s><|user|> What is 3940 * 3892?<|end|><|assistant|> 3940 * 3892 = 15201280.<|end|><|endoftext|>before the 15th) = 2 * 2 * $250 = $10',\n",
       "  '<s><|user|> What is 3940 * 3892?<|end|><|assistant|> The product of 3940 and 3892 is 15258880.<|end|><|endoftext|>5\" or \"😂\".\\nI\\'m always a mess.\\n\\n',\n",
       "  '<s><|user|> What is 3940 * 3892?<|end|><|assistant|> To calculate the product of 3940 and 3892, you simply multiply the two numbers together:\\n\\n3940 * 3892 = 15,360,'],\n",
       " ['<s><|user|> What is 3940 * 3892?<|end|><|assistant|> 3940 * 3892 = 15252480\\n<|end|><|assistant|> To multiply 3940 by 3892, you can use the standard algorithm for multiplication',\n",
       "  '<s><|user|> What is 3940 * 3892?<|end|><|assistant|> 3940 * 3892 = 15325280<|end|><|assistant|> To multiply 3940 by 3892, you can use the standard algorithm for multiplication:',\n",
       "  \"<s><|user|> What is 3940 * 3892?<|end|><|assistant|> 3940 * 3892 = 15230880.\\n\\nHere's the multiplication step by step:\\n\\n         3940\\n       x 38\",\n",
       "  \"<s><|user|> What is 3940 * 3892?<|end|><|assistant|> 3940 * 3892 = 15338480.\\n\\nHere's the step-by-step multiplication process:\\n\\n         3940\\n       x\"],\n",
       " ['<s><|user|> What is 3940 * 3892?<|end|><|assistant|> To calculate the product of 3940 and3892, we can perform multiplication:\\n3940 * 3892 = 1530088.\\nSo, ',\n",
       "  '<s><|user|> What is 3940 * 3892?<|end|><|assistant|> To calculate the product of 3940 and3892, multiply the two numbers:\\n\\n3940 * 3892 = 1532768.\\n\\nThere',\n",
       "  '<s><|user|> What is 3940 * 3892?<|end|><|assistant|> To find3940 × 3892, multiply each digit of 3892 by each digit of 940, carrying the tens over and padding with a zero when we reach90.',\n",
       "  '<s><|user|> What is 3940 * 3892?<|end|><|assistant|> To calculate the product of 3940 and3892, multiply the two numbers:\\n\\n3940 * 3892 = 11,396,880\\n'],\n",
       " ['<s><|user|> What is 3940 * 3892?<|end|><|assistant|> This is a group of mathemat\\\\[S\\\\] The W Great University, in Byte B. In the program.\\nRun program this Press N one: Computer sname.\\nJust Computer G Win, E: Company.\\n',\n",
       "  '<s><|user|> What is 3940 * 3892?<|end|><|assistant|> This is a sequence of numbers which functions which is produced by a V sweet K. Please Google search. Please enter the letters, all, Mark Programmer.\\nRun program F! Please enter number for end please. Please enter',\n",
       "  '<s><|user|> What is 3940 * 3892?<|end|><|assistant|> This operation $Expresses $ an artificial seba!<|end|>Ab Vigo Crop Company.<|end|>P. In M Corn (milchwe. Ry g g, Cart.\\nP: Mil nut, Carted!',\n",
       "  '<s><|user|> What is 3940 * 3892?<|end|><|assistant|> One block of code\\n\\nA company name in a program\\n\\nIn a world\\n\\nPokamon Games Company of World!\\n\\nVisen Corporation\\n\\nPyramid Software\\n\\nG P29'],\n",
       " ['<s><|user|> What is 3940 * 3892?<|end|><|assistant|> To calculate the product of 3940 and 3892, we can perform the multiplication:\\n\\n\\n\\\\[ 3940 \\\\times 3892 \\\\]\\n\\n\\nWhen we',\n",
       "  '<s><|user|> What is 3940 * 3892?<|end|><|assistant|> To find the product of 3940 and 3892, you simply multiply the two numbers together:\\n\\n3940 * 3892 = 1523288',\n",
       "  '<s><|user|> What is 3940 * 3892?<|end|><|assistant|> The product of 3940 and 3892 is 14502280. \\n\\nYou can calculate it using a calculator or by using long multiplication:\\n\\n```\\n',\n",
       "  '<s><|user|> What is 3940 * 3892?<|end|><|assistant|> The product of 3940 and 3892 is:\\n\\n3940 * 3892 = 14601880.<|end|><|assistant|> To calculate the multiplication of'],\n",
       " ['<s><|user|> What is 3940 * 3892?<|end|><|assistant|> Both numbers are quite large to compute in your head without simplifying them, but if you have a calculator handy, you can multiply them together directly. The product is 155,284,80',\n",
       "  '<s><|user|> What is 3940 * 3892?<|end|><|assistant|> The product of 3940 and 3892 is 3,687,040. However, if you need a simpler expression for this, you might want to use square brackets to write',\n",
       "  \"<s><|user|> What is 3940 * 3892?<|end|><|assistant|> It is not possible to provide the product of 3940 multiplied by 3892 in a simple numerical form due to the complexity of the calculation. However, if you're referring to a multiplication problem\",\n",
       "  \"<s><|user|> What is 3940 * 3892?<|end|><|assistant|> It is not straightforward arithmetic. It seems you are asking for the product of two numbers. However, without context, I can't provide a straightforward answer. To calculate the product of 3940 and 38\"],\n",
       " ['<s><|user|> What is 3940 * 3892?<|end|><|assistant|> Using a calculator or performing the multiplication by hand, we get $3940 \\\\times 3892 = 15257680$.\\nThe answer is: 1525',\n",
       "  '<s><|user|> What is 3940 * 3892?<|end|><|assistant|> Using the standard algorithm for multiplication:\\n\\\\[\\n\\\\begin{array}{cccc}\\n & & 3 & 9 \\\\\\\\\\n\\\\times & & 3 & 8 \\\\\\\\\\n\\\\hline\\n & 3',\n",
       "  '<s><|user|> What is 3940 * 3892?<|end|><|assistant|> $3940 * 3892 = 15360640$\\n\\nTherefore, 3940 * 3892 = 153606',\n",
       "  '<s><|user|> What is 3940 * 3892?<|end|><|assistant|> Using the standard algorithm for multiplication:\\n\\n  3940\\nx 3892\\n-----\\n11808\\n15680\\n11808\\n-----\\n15'],\n",
       " ['<s><|user|> What is 3940 * 3892?<|end|><|assistant|> 3940 * 3892 = 1,5357680.<|end|><|endoftext|><|endoftext|><|endoftext|> Input>\\nWhat is the value of $\\\\dfrac{3\\\\sqrt{3}}{1-\\\\',\n",
       "  '<s><|user|> What is 3940 * 3892?<|end|><|assistant|> 3940 * 3892 = 15214880.<|end|><|endoftext|><|endoftext|><|endoftext|> Korean licensing exam: If the wall area is 10m2, the transmission rate',\n",
       "  \"<s><|user|> What is 3940 * 3892?<|end|><|assistant|> 3940 * 3892 equals 1,535,728.<|end|><|endoftext|><|endoftext|><|endoftext|> input=Find the limit. Use l'Hospital's Rule where appropriate.  {\",\n",
       "  '<s><|user|> What is 3940 * 3892?<|end|><|assistant|> To calculate the product of 3940 and 3892, you can use a calculator or perform long multiplication. The result is:\\n\\n\\n3940\\n\\nx 389'],\n",
       " [\"<s><|user|> What is 3940 * 3892?<|end|><|assistant|> To calculate the product of 3940 and 3892, you can use long multiplication or a calculator. Here's the calculation using long multiplication:\\n\\n```\\n  3940\\n\",\n",
       "  '<s><|user|> What is 3940 * 3892?<|end|><|assistant|> The product of 3940 and 3892 is:\\n\\n3940 * 3892 = 14991680\\n\\nSo, 394',\n",
       "  '<s><|user|> What is 3940 * 3892?<|end|><|assistant|> To calculate the product of 3940 and 3892, you can multiply the two numbers:\\n\\n3940 * 3892 = 14944880',\n",
       "  '<s><|user|> What is 3940 * 3892?<|end|><|assistant|> The product of 3940 and 3892 is:\\n\\n3940 * 3892 = 148,508,800\\n\\nYou can calculate'],\n",
       " [\"<s><|user|> What is 3940 * 3892?<|end|><|assistant|> The product of 3940 and 3892 is 15389680. \\n\\nHere's the calculation: \\n\\n3940 * 389\",\n",
       "  '<s><|user|> What is 3940 * 3892?<|end|><|assistant|> The product of 3940 multiplied by 3892 is 1527,608,000. To calculate this, you simply perform the multiplication operation between these two numbers:',\n",
       "  \"<s><|user|> What is 3940 * 3892?<|end|><|assistant|> The product of 3940 and 3892 is 15325280. \\n\\nYou can calculate this using a calculator or by doing the multiplication manually. Here's\",\n",
       "  '<s><|user|> What is 3940 * 3892?<|end|><|assistant|> 3940 * 3892 = 15,238,080.<|end|><|endoftext|><|assistant|> To multiply 3940 by 3892, you can use the standard'],\n",
       " ['<s><|user|> What is 3940 * 3892?<|end|><|assistant|> The result of multiplying 3940 by 3892 would be a large number, specifically:\\n\\n3940 * 3892 = 15366880',\n",
       "  \"<s><|user|> What is 3940 * 3892?<|end|><|assistant|> To calculate the product of 3940 and 3892, you would typically use a calculator or a computer program. However, since I'm unable to compute the product directly, I can provide you\",\n",
       "  '<s><|user|> What is 3940 * 3892?<|end|><|assistant|> To calculate the product of 3940 and 3892, you would typically use a calculator or a computational tool. The result of multiplying these two numbers depends on their actual values. However, since',\n",
       "  '<s><|user|> What is 3940 * 3892?<|end|><|assistant|> To find the product of 3940 multiplied by 3892, you would perform the following multiplication:\\n\\n3940 * 3892 = 15,040']]"
      ]
     },
     "execution_count": 11,
     "metadata": {},
     "output_type": "execute_result"
    }
   ],
   "source": [
    "from micrlhf.utils.activation_manipulation import add_vector\n",
    "from micrlhf.sampling import sample\n",
    "import numpy as np\n",
    "\n",
    "layer = layer_source\n",
    "repeat = 4\n",
    "act_add = add_vector(llama,\n",
    "                     jnp.tile(vectors / jnp.linalg.norm(vectors, axis=-1, keepdims=True) * scale, (repeat, 1)),\n",
    "                     layer)\n",
    "\n",
    "texts, cached = sample(act_add, tokenizer, prompt,\n",
    "       batch_size=bs * repeat, do_sample=True, return_model=True)\n",
    "np.array(texts).reshape(repeat, bs).T.tolist()"
   ]
  },
  {
   "cell_type": "code",
   "execution_count": null,
   "metadata": {},
   "outputs": [
    {
     "data": {
      "application/vnd.jupyter.widget-view+json": {
       "model_id": "18189001db32439798e51521e2c95f41",
       "version_major": 2,
       "version_minor": 0
      },
      "text/plain": [
       "  0%|          | 0/46 [00:00<?, ?it/s]"
      ]
     },
     "metadata": {},
     "output_type": "display_data"
    },
    {
     "data": {
      "text/html": [
       "<div id=\"output_1d252b8f79344be68be46ea121b2908c\"><script> /* penzai.treescope rendering of a Python object (compressed) */ (()=>{ let observer; let lastStep = new Promise((resolve, reject) => { observer = new IntersectionObserver((entries) => { for (const entry of entries) { if (entry.isIntersecting) { resolve(); observer.disconnect(); return; } } }, {rootMargin: \"1000px\"}); }); window.treescope_decompress_enqueue = (encoded, destId) => { const previous = lastStep; const destElt = document.getElementById(destId); lastStep = (async () => { await previous; let blob = new Blob([ Uint8Array.from(atob(encoded), (m) => m.codePointAt(0)) ]); let reader = blob.stream().pipeThrough( new DecompressionStream(\"deflate\") ).pipeThrough( new TextDecoderStream(\"utf-8\") ).getReader(); let parts = []; while (true) { let step = await reader.read(); if (step.done) { break; } parts.push(step.value); } let newElt = document.createElement(\"div\"); newElt.innerHTML = parts.join(\"\"); destElt.parentNode.replaceChild(newElt, destElt); for (let oldScript of newElt.querySelectorAll(\"script\")) { let newScript = document.createElement(\"script\"); newScript.type = oldScript.type; newScript.textContent = oldScript.textContent; oldScript.parentNode.replaceChild(newScript, oldScript); } })(); requestAnimationFrame(() => { observer.observe(destElt); }); } })(); </script><div id=\"compress_html_966745e5f5aa45489db9552856a8b899\"><script>window.treescope_decompress_enqueue(\"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\", \"compress_html_966745e5f5aa45489db9552856a8b899\");</script><span style=\"color: #aaaaaa; font-family: monospace\">(Loading...)</span></div></div>"
      ],
      "text/plain": [
       "<IPython.core.display.HTML object>"
      ]
     },
     "metadata": {},
     "output_type": "display_data"
    },
    {
     "data": {
      "text/html": [
       "<div id=\"output_dest_1d252b8f79344be68be46ea121b2908c\"><script> (()=>{ const output = document.getElementById(\"output_1d252b8f79344be68be46ea121b2908c\"); const dest = document.getElementById(\"output_dest_1d252b8f79344be68be46ea121b2908c\"); dest.parentNode.replaceChild(output, dest); })(); </script></div>"
      ],
      "text/plain": [
       "[['<s><|user|> What is 3940 * 3892?<|end|><|assistant|> We can use the standard algorithm for multiplication to find the product of 3940 and 3892.\\nFirst, multiply 3940 by 2 (the ones digit of 389',\n",
       "  '<s><|user|> What is 3940 * 3892?<|end|><|assistant|> To multiply these two numbers, we can use the standard algorithm for multiplication.\\n\\n      3940\\n    x 3892\\n    -----\\n    15648  (394',\n",
       "  '<s><|user|> What is 3940 * 3892?<|end|><|assistant|> To multiply these two numbers, we can use the standard algorithm for multiplication:\\n\\n      3940\\n    x 3892\\n  --------\\n     157680 (394',\n",
       "  '<s><|user|> What is 3940 * 3892?<|end|><|assistant|> We can use the standard algorithm for multiplication to solve this problem.\\nFirst, we multiply the units digit of 3940 (which is 0) with the units digit of 3892 (which is'],\n",
       " ['<s><|user|> What is 3940 * 3892?<|end|><|assistant|> ??? - Rounded\\n===\\n<|assistant|> css\\n<|assistant|> }\\n<|assistant|> }\\n<|assistant|> css\\n<|assistant|> }\\n<|assistant|> }\\n<|assistant|> math\\n<|assistant|> }\\n<|assistant|> math\\n<|assistant|> }\\n<|assistant|> }\\n<|assistant|> {childNodes:',\n",
       "  '<s><|user|> What is 3940 * 3892?<|end|><|assistant|> ?\"\\n\\nSince you\\'ve only provided numbers, I\\'ll calculate the product for you:\\n\\n3940 * 3892 = 15,242,800\\n',\n",
       "  '<s><|user|> What is 3940 * 3892?<|end|><|assistant|> ?\"\\nsupport: \"The calculation of the multiplication problem is suitable for self-generation with a potential numerical answer, assuming that the operations are correct and feasible. However, the answer should be verified through independent calculation,',\n",
       "  '<s><|user|> What is 3940 * 3892?<|end|><|assistant|> ?\"\\n\\nTo calculate the result, we simply multiply 3940 by 3892.\\n\\n3940 * 3892 = 15,214,8'],\n",
       " ['<s><|user|> What is 3940 * 3892?<|end|><|assistant|> give me a moment to calculate it.\\n\\n[Calculator]\\n\\n3940 * 3892 = 15248480\\n\\nHere is the result of the multiplication:',\n",
       "  '<s><|user|> What is 3940 * 3892?<|end|><|assistant|> both large numbers. Just to confirm, the multiplication is straightforward:\\n\\n3940 * 3892 = 15,331,200\\n\\nThis product should equal the multiplication of',\n",
       "  \"<s><|user|> What is 3940 * 3892?<|end|><|assistant|>mu math\\nHere's how you can calculate it:\\n\\nMultiplying large numbers can be done easily with a calculator or using a multiplication algorithm. Since we're in a text-based format, I'\",\n",
       "  '<s><|user|> What is 3940 * 3892?<|end|><|assistant|> both the number of calculations involved and the formatting of the response.\\n\\n3940 multiplied by 3892 equals 15,138,480. This is a straightforward arithmetic calculation'],\n",
       " ['<s><|user|> What is 3940 * 3892?<|end|><|assistant|> The product of 3940 and 3892 is 15263680.<|end|><|assistant|> Final answer: 15263680\\n\\nAnswer: 15',\n",
       "  '<s><|user|> What is 3940 * 3892?<|end|><|assistant|> \\\\textbf{Answer:}15452480\\n<|end|><|assistant|> To find the product of 3940 and 3892, you multiply the two numbers together:\\n\\n3940',\n",
       "  \"<s><|user|> What is 3940 * 3892?<|end|><|assistant|> The answer is 14755680.\\n\\nHere's the calculation:\\n\\n3940 * 3892 = 14755680\\n\\nSo\",\n",
       "  \"<s><|user|> What is 3940 * 3892?<|end|><|assistant|> Correct! 3940 * 3892 equals 15150880.\\n\\nHere's the step-by-step calculation:\\n3940\\nx 3\"],\n",
       " ['<s><|user|> What is 3940 * 3892?<|end|><|assistant|> To calculate 3940 * 3892, you multiply the two numbers together.\\n\\n\\n3940\\n\\nx 3892\\n\\n--------\\n\\n7880 (',\n",
       "  '<s><|user|> What is 3940 * 3892?<|end|><|assistant|> To multiply 3940 by 3892, you can use the standard algorithm for multiplication:\\n\\n\\n1. Write down the two numbers with the larger one on top (3892) and',\n",
       "  '<s><|user|> What is 3940 * 3892?<|end|><|assistant|> To multiply 3940 by 3892, we can apply the standard algorithm for multiplication:\\n\\n\\n```\\n\\n     3940\\n\\n×    3892\\n\\n----------\\n',\n",
       "  '<s><|user|> What is 3940 * 3892?<|end|><|assistant|> To find the product of 3940 and 3892, you would simply multiply the two numbers together:\\n\\n\\n3940 * 3892 = 15,34'],\n",
       " [\"<s><|user|> What is 3940 * 3892?<|end|><|assistant|> To find the product of 3940 and 3892, we'll use long multiplication:\\n\\n              3940\\n          x   3892\\n       _______________\\n\",\n",
       "  \"<s><|user|> What is 3940 * 3892?<|end|><|assistant|> In order to multiply these two numbers, we can apply the standard algorithm for multiplication. Here's a step-by-step process:\\n\\n1. Write the numbers in standard form:\\n   \\n   394\",\n",
       "  '<s><|user|> What is 3940 * 3892?<|end|><|assistant|> The question at hand seeks the product of two numbers: 3940 and 3892.\\n\\n**Steps for solving this mathematical problem:**\\n\\n1. **Understand the Operation**',\n",
       "  '<s><|user|> What is 3940 * 3892?<|end|><|assistant|> **Answer:**\\n\\nTo multiply 3940 by 3892, we can use the long multiplication method or a calculator.\\n\\nUsing a calculator, we get:\\n\\n39'],\n",
       " ['<s><|user|> What is 3940 * 3892?<|end|><|assistant|> without a calculator, we can estimate the product by rounding the numbers to the nearest power of 10 or using other estimation techniques.\\n\\nRounding to the nearest power of 10:\\n394',\n",
       "  '<s><|user|> What is 3940 * 3892?<|end|><|assistant|> both the product and the step-by-step calculation for the multiplication.\\n\\n3940 * 3892 = 15376480\\n\\nStep-by-step calculation:',\n",
       "  \"<s><|user|> What is 3940 * 3892?<|end|><|assistant|> both large numbers at once. However, if you'd like to see the individual products, you can multiply each digit:\\n\\n3940 * 3892 = (3000 + 9\",\n",
       "  '<s><|user|> What is 3940 * 3892?<|end|><|assistant|> both or just give me the result of the multiplication?\\n\\n# Answer\\nI can give you the multiplication result directly:\\n\\n3940 * 3892 = 15,373,'],\n",
       " ['<s><|user|> What is 3940 * 3892?<|end|><|assistant|> (3940 x 3892) = 15229280\\n<|end|><|assistant|> The answer is: 15229280<|end|><|assistant|> Since the question asked to multiply',\n",
       "  '<s><|user|> What is 3940 * 3892?<|end|><|assistant|> 151876800<|end|><|assistant|> (3940)(3892)\\n-----------------------\\n151876800\\n<|end|><|assistant|> Divide that by 11',\n",
       "  '<s><|user|> What is 3940 * 3892?<|end|><|assistant|> 15 trillion + 149 thousand + 28 thousand + 28 thousand = 3940 * 3892\\n-------------------\\nCalculate the result<|end|><|assistant|> 1',\n",
       "  '<s><|user|> What is 3940 * 3892?<|end|><|assistant|> Answer: 15183680.<|end|><|assistant|> To find the product of 3940 and 3892, you can simply multiply these two numbers:\\n\\n3940 *'],\n",
       " [\"<s><|user|> What is 3940 * 3892?<|end|><|assistant|> calculations with numbers, but I can guide you through it.\\n\\nTo multiply 3940 by 3892, you can use long multiplication, but it's easier to use a calculator. If\",\n",
       "  \"<s><|user|> What is 3940 * 3892?<|end|><|assistant|> calculations with large numbers using a calculator or programming language.\\n\\nHowever, here's how you can do it step by step in Python:\\n\\n```python\\nproduct = 3940 * 38\",\n",
       "  \"<s><|user|> What is 3940 * 3892?<|end|><|assistant|> calculations with it. However, I can help you multiply these two numbers together manually.\\n\\nHere's how you can multiply 3940 by 3892 using the standard algorithm for multiplication:\\n\\n\",\n",
       "  \"<s><|user|> What is 3940 * 3892?<|end|><|assistant|> calculations.\\n\\nStill, I'll show you how to calculate it:\\n\\n3940 * 3892 = 15350400\\n\\nSo, the product of\"],\n",
       " ['<s><|user|> What is 3940 * 3892?<|end|><|assistant|> We can multiply these numbers using the standard algorithm for multiplication.\\nFirst, we multiply 3940 by the units digit of 3892, which is 2.\\n3940 * 2',\n",
       "  '<s><|user|> What is 3940 * 3892?<|end|><|assistant|> We can multiply these two numbers using the standard algorithm for multiplication. \\n\\nFirst, we multiply 3940 by 2 (the units digit of 3892). \\n\\n3940',\n",
       "  '<s><|user|> What is 3940 * 3892?<|end|><|assistant|> We can multiply these two numbers using the traditional long multiplication method.\\n\\n  3940\\nx 3892\\n--------\\n157680 (3940 * 2)\\n',\n",
       "  '<s><|user|> What is 3940 * 3892?<|end|><|assistant|> We can multiply these two numbers using the traditional long multiplication method.\\nFirst, we multiply 3940 by 2 (the rightmost digit of 3892).\\n3940 * 2'],\n",
       " [\"<s><|user|> What is 3940 * 3892?<|end|><|assistant|>\\n3940 * 3892 = 15,353,600\\n\\nIf you want to check the multiplication, here's how you can do it using any programming language:\",\n",
       "  \"<s><|user|> What is 3940 * 3892?<|end|><|assistant|>\\nThe multiplication of these two numbers directly doesn't relate to the periodicity of a function (which usually involves the repetition of a pattern), but I can show you how to perform the multiplication:\\n\\n394\",\n",
       "  '<s><|user|> What is 3940 * 3892?<|end|><|assistant|>\\nThe result of 3940 multiplied by 3892 is 15353200.\\n\\nTo calculate this without using a calculator:\\n\\n\\\\( (39',\n",
       "  '<s><|user|> What is 3940 * 3892?<|end|><|assistant|>\\n\\nTo calculate the product of 3940 and 3892, you can simply multiply the two numbers:\\n\\n3940 * 3892 = 15,20'],\n",
       " ['<s><|user|> What is 3940 * 3892?<|end|><|assistant|>12949848628 is the product of 3940 and 3892.<|end|><|assistant|> [Error: Could not find solution]\\n\\nIt seems there was an error in',\n",
       "  '<s><|user|> What is 3940 * 3892?<|end|><|assistant|> 3940 times 3892 equals 15,388,400. However, this is not a safe way to multiply integers, because it may lead to errors or fraud.',\n",
       "  '<s><|user|> What is 3940 * 3892?<|end|><|assistant|> 3940 multiplied by 3892 gives the product 15333680. However, please note that using a calculator for such large numbers might be more efficient.<|end|><|assistant|>',\n",
       "  '<s><|user|> What is 3940 * 3892?<|end|><|assistant|> 3940 multiplied by 3892 gives the product 15226480. This multiplication is a straightforward arithmetic operation.\\n{% assume: true - invalid for this problem %}\\n'],\n",
       " ['<s><|user|> What is 3940 * 3892?<|end|><|assistant|> *Multiplying 3940 by 3892 using a calculator or performing the multiplication manually.\\n\\n3940 * 3892 = 15,365,',\n",
       "  '<s><|user|> What is 3940 * 3892?<|end|><|assistant|> *Multiplication of two numbers using the standard algorithm. The product of 3940 and 3892 is calculated as follows:\\n3940\\nx   3892\\n--------\\n',\n",
       "  \"<s><|user|> What is 3940 * 3892?<|end|><|assistant|> *Using multiplication to calculate the product of two numbers.\\n\\nLet's calculate the product:\\n\\n3940 * 3892 = 15346880\\n\\nSo,\",\n",
       "  '<s><|user|> What is 3940 * 3892?<|end|><|assistant|> *Multiplication of 3940 and 3892 is equal to 15344320.\\nThus, 3940 * 3892 = '],\n",
       " [\"<s><|user|> What is 3940 * 3892?<|end|><|assistant|> Calculating the product of two numbers, 3940 and 3892, involves basic multiplication. Here's how you do it:\\n\\n3940 * 3892 = \",\n",
       "  '<s><|user|> What is 3940 * 3892?<|end|><|assistant|> Calculating the product of these two numbers, we get:\\n3940 * 3892 = 1,530,248\\nIt means that 3940 multiplied by',\n",
       "  '<s><|user|> What is 3940 * 3892?<|end|><|assistant|> Calculating the product of 3940 and 3892, you get: $$ 3940 \\\\times 3892 = 15384480. $$ So',\n",
       "  '<s><|user|> What is 3940 * 3892?<|end|><|assistant|> Calculating the product of these two numbers, we get:\\n3940 * 3892 = 15,141,280\\nSo the result of 3940 multip'],\n",
       " [\"<s><|user|> What is 3940 * 3892?<|end|><|assistant|> Calculating the product of 3940 and 3892 yields 15393600.\\n\\nHere's the calculation:\\n\\n3940 * 389\",\n",
       "  \"<s><|user|> What is 3940 * 3892?<|end|><|assistant|> Calculating the product of 3940 and 3892 gives us 15281600.\\n\\nHere's how to do it:\\n\\n3940 * \",\n",
       "  '<s><|user|> What is 3940 * 3892?<|end|><|assistant|> Calculating the multiplication of 3940 and 3892 gives us a result of 15277280.\\n\\nHere is how you can calculate this: \\n\\n39',\n",
       "  '<s><|user|> What is 3940 * 3892?<|end|><|assistant|> Mathematically, the product of 3940 and 3892 is 15453600. However, without performing the actual multiplication, this result cannot be known directly.\\n\\nIf'],\n",
       " ['<s><|user|> What is 3940 * 3892?<|end|><|assistant|> Multiplying the two numbers gives a product of 15,533,040.\\n===\\n4.\\n===\\n\\n3940 multiplied by 3892 equals 1',\n",
       "  '<s><|user|> What is 3940 * 3892?<|end|><|assistant|> Calculating product of numbers\\n\\nSolution: 120729280\\n\\nExplanation: Multiplying 3940 by 3892 gives us 120',\n",
       "  '<s><|user|> What is 3940 * 3892?<|end|><|assistant|> Multiplying two numbers together, we get the product:\\n3940 * 3892 = 15,214,880\\n<|end|><|assistant|> [Answer]: 1521',\n",
       "  \"<s><|user|> What is 3940 * 3892?<|end|><|assistant|> It's multiplication, let's calculate the answer. \\nThe product of 3940 and 3892 is:\\n3940 * 3892 = 15,\"]]"
      ]
     },
     "execution_count": 12,
     "metadata": {},
     "output_type": "execute_result"
    }
   ],
   "source": [
    "from micrlhf.utils.activation_manipulation import add_vector\n",
    "from micrlhf.sampling import sample\n",
    "import numpy as np\n",
    "\n",
    "layer = layer_source\n",
    "repeat = 4\n",
    "act_add = add_vector(llama,\n",
    "                     jnp.tile(addition / jnp.linalg.norm(addition, axis=-1, keepdims=True) * scale, (repeat, 1)),\n",
    "                     layer)\n",
    "\n",
    "texts, cached = sample(act_add, tokenizer, prompt,\n",
    "       batch_size=bs * repeat, do_sample=True, return_model=True)\n",
    "np.array(texts).reshape(repeat, bs).T.tolist()"
   ]
  },
  {
   "cell_type": "code",
   "execution_count": null,
   "metadata": {},
   "outputs": [],
   "source": [
    "from micrlhf.utils.activation_manipulation import add_vector\n",
    "from micrlhf.sampling import sample\n",
    "import numpy as np\n",
    "\n",
    "layer = layer_source\n",
    "repeat = 4\n",
    "act_add = add_vector(llama,\n",
    "                     jnp.tile(addition / jnp.linalg.norm(addition, axis=-1, keepdims=True) * scale, (repeat, 1)),\n",
    "                     layer)\n",
    "\n",
    "texts, cached = sample(act_add, tokenizer, prompt,\n",
    "       batch_size=bs * repeat, do_sample=True, return_model=True)\n",
    "np.array(texts).reshape(repeat, bs).T.tolist()"
   ]
  },
  {
   "cell_type": "code",
   "execution_count": null,
   "metadata": {},
   "outputs": [
    {
     "name": "stderr",
     "output_type": "stream",
     "text": [
      "--2024-05-30 04:37:42--  https://huggingface.co/nev/phi-3-4k-saex-test/resolve/main/l20-test-run-5-7.00E-06/sae_weights.safetensors?download=true\n",
      "Resolving huggingface.co (huggingface.co)... 108.156.211.90, 108.156.211.95, 108.156.211.51, ...\n",
      "Connecting to huggingface.co (huggingface.co)|108.156.211.90|:443... connected.\n",
      "HTTP request sent, awaiting response... 302 Found\n",
      "Location: https://cdn-lfs-us-1.huggingface.co/repos/eb/d8/ebd889d6ac58573e8e8a7aa1176d4d357581a6da60135b94aca378fddf4e9e54/83ac196e9d76d5a3db26b4cc47737ff5c79d3cba0ce3954d02283b9331464948?response-content-disposition=attachment%3B+filename*%3DUTF-8%27%27sae_weights.safetensors%3B+filename%3D%22sae_weights.safetensors%22%3B&Expires=1717303062&Policy=eyJTdGF0ZW1lbnQiOlt7IkNvbmRpdGlvbiI6eyJEYXRlTGVzc1RoYW4iOnsiQVdTOkVwb2NoVGltZSI6MTcxNzMwMzA2Mn19LCJSZXNvdXJjZSI6Imh0dHBzOi8vY2RuLWxmcy11cy0xLmh1Z2dpbmdmYWNlLmNvL3JlcG9zL2ViL2Q4L2ViZDg4OWQ2YWM1ODU3M2U4ZThhN2FhMTE3NmQ0ZDM1NzU4MWE2ZGE2MDEzNWI5NGFjYTM3OGZkZGY0ZTllNTQvODNhYzE5NmU5ZDc2ZDVhM2RiMjZiNGNjNDc3MzdmZjVjNzlkM2NiYTBjZTM5NTRkMDIyODNiOTMzMTQ2NDk0OD9yZXNwb25zZS1jb250ZW50LWRpc3Bvc2l0aW9uPSoifV19&Signature=R5ZW0T%7EY-yEttEgIPUAFAZILQG9a3mU-7f%7EL31WfTFI6AiyCtHw1dqlJPmglD1sZMtzJukv9e5xiArD-AmETG8nWy3rUQic0NgcjLlAK65BeJaWqS0B3x4TlZfePpApveqZDmwh%7EPNV-RBMr%7EfOIVqqtIdj4Kf0Qw%7EAMdnUiP9dM8sTr6175mqo6LY7zGpTq%7EX6BfdbJ1PwNmEZwHsNJMomOYKtt%7EHrqMXr11ZJrnOcsz8T3K3M4LiZ-DzNY9ZO2Xeo7GIu84YvOjU0NE9WexvPuwbHSDzo-u93pW8L2w4lJiE0NsgBuqgtEIgPn48v8y668ZYsPVXVB9wJqwLoaGg__&Key-Pair-Id=KCD77M1F0VK2B [following]\n",
      "--2024-05-30 04:37:42--  https://cdn-lfs-us-1.huggingface.co/repos/eb/d8/ebd889d6ac58573e8e8a7aa1176d4d357581a6da60135b94aca378fddf4e9e54/83ac196e9d76d5a3db26b4cc47737ff5c79d3cba0ce3954d02283b9331464948?response-content-disposition=attachment%3B+filename*%3DUTF-8%27%27sae_weights.safetensors%3B+filename%3D%22sae_weights.safetensors%22%3B&Expires=1717303062&Policy=eyJTdGF0ZW1lbnQiOlt7IkNvbmRpdGlvbiI6eyJEYXRlTGVzc1RoYW4iOnsiQVdTOkVwb2NoVGltZSI6MTcxNzMwMzA2Mn19LCJSZXNvdXJjZSI6Imh0dHBzOi8vY2RuLWxmcy11cy0xLmh1Z2dpbmdmYWNlLmNvL3JlcG9zL2ViL2Q4L2ViZDg4OWQ2YWM1ODU3M2U4ZThhN2FhMTE3NmQ0ZDM1NzU4MWE2ZGE2MDEzNWI5NGFjYTM3OGZkZGY0ZTllNTQvODNhYzE5NmU5ZDc2ZDVhM2RiMjZiNGNjNDc3MzdmZjVjNzlkM2NiYTBjZTM5NTRkMDIyODNiOTMzMTQ2NDk0OD9yZXNwb25zZS1jb250ZW50LWRpc3Bvc2l0aW9uPSoifV19&Signature=R5ZW0T%7EY-yEttEgIPUAFAZILQG9a3mU-7f%7EL31WfTFI6AiyCtHw1dqlJPmglD1sZMtzJukv9e5xiArD-AmETG8nWy3rUQic0NgcjLlAK65BeJaWqS0B3x4TlZfePpApveqZDmwh%7EPNV-RBMr%7EfOIVqqtIdj4Kf0Qw%7EAMdnUiP9dM8sTr6175mqo6LY7zGpTq%7EX6BfdbJ1PwNmEZwHsNJMomOYKtt%7EHrqMXr11ZJrnOcsz8T3K3M4LiZ-DzNY9ZO2Xeo7GIu84YvOjU0NE9WexvPuwbHSDzo-u93pW8L2w4lJiE0NsgBuqgtEIgPn48v8y668ZYsPVXVB9wJqwLoaGg__&Key-Pair-Id=KCD77M1F0VK2B\n",
      "Resolving cdn-lfs-us-1.huggingface.co (cdn-lfs-us-1.huggingface.co)... 18.161.156.61, 18.161.156.3, 18.161.156.80, ...\n",
      "Connecting to cdn-lfs-us-1.huggingface.co (cdn-lfs-us-1.huggingface.co)|18.161.156.61|:443... connected.\n",
      "HTTP request sent, awaiting response... 416 Requested Range Not Satisfiable\n",
      "\n",
      "    The file is already fully retrieved; nothing to do.\n",
      "\n"
     ]
    },
    {
     "data": {
      "text/html": [
       "<div id=\"output_bc8e370f354c4e78b3d12f8a2852d444\"><script> /* penzai.treescope rendering of a Python object (compressed) */ (()=>{ let observer; let lastStep = new Promise((resolve, reject) => { observer = new IntersectionObserver((entries) => { for (const entry of entries) { if (entry.isIntersecting) { resolve(); observer.disconnect(); return; } } }, {rootMargin: \"1000px\"}); }); window.treescope_decompress_enqueue = (encoded, destId) => { const previous = lastStep; const destElt = document.getElementById(destId); lastStep = (async () => { await previous; let blob = new Blob([ Uint8Array.from(atob(encoded), (m) => m.codePointAt(0)) ]); let reader = blob.stream().pipeThrough( new DecompressionStream(\"deflate\") ).pipeThrough( new TextDecoderStream(\"utf-8\") ).getReader(); let parts = []; while (true) { let step = await reader.read(); if (step.done) { break; } parts.push(step.value); } let newElt = document.createElement(\"div\"); newElt.innerHTML = parts.join(\"\"); destElt.parentNode.replaceChild(newElt, destElt); for (let oldScript of newElt.querySelectorAll(\"script\")) { let newScript = document.createElement(\"script\"); newScript.type = oldScript.type; newScript.textContent = oldScript.textContent; oldScript.parentNode.replaceChild(newScript, oldScript); } })(); requestAnimationFrame(() => { observer.observe(destElt); }); } })(); </script><div id=\"compress_html_a76325eedbe54ab2ae88c087e02070d6\"><script>window.treescope_decompress_enqueue(\"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\", \"compress_html_a76325eedbe54ab2ae88c087e02070d6\");</script><span style=\"color: #aaaaaa; font-family: monospace\">(Loading...)</span></div></div>"
      ],
      "text/plain": [
       "<IPython.core.display.HTML object>"
      ]
     },
     "metadata": {},
     "output_type": "display_data"
    },
    {
     "data": {
      "text/html": [
       "<div id=\"compress_html_1caa9620c92a41d29bce5b6addead68e\"><script>window.treescope_decompress_enqueue(\"eNrtWluPm0YU/isjomZxsibcDMZeW2o3rZSXPFSV+hCt0MCMDd0xQ2C8l0T57z0zYDC21+tsN4na4gdfmHPOnPuZD3NB0htUintGZxpJy5zh+wnKeEY1lJKZtuBFSOiCFgUloRVQ4hM3pp6JXcf0AjzyRhE2Pdv0Y88ca/OLMscZvEt5cyPiQvAVSzM6ybjQjQVnBEeMhhkndJLgUp8zHFE2766Egi+XrOKZxAmNrykZDNCrAfqMckxImi2HgucTZBrWiK6mSO4wTGi6TMQEWYa69sWIOQPlcRQV9AY41c8JeuGNbWyaLUHMVyuaifA2oVlI70B/Qsmz6bvZFatXu2u2XkW02CIwg7E18lqCUhRg57YExxpZo4YAwiHNbgkihuPrKYrgfVnwdUaG9cINLvThMGI8vq4uDYCKF4QWlRet/A6VnKXkGGUVyseIvyAjuc9pAZpdhwVdcUHDhN+AobtK76vJr1mc6GP3JxlWd4QsM6gk3uIyLOOCMwbsghuLtChFKNL4+mSpgWtYUq4ZIMvxDP+gYBW/o9sN9jYUBc7KVKQ8m+xtjqwSUVzSYZoN+VqcowXPxPBWpenOmoxqEichVE9MQ0YXYivV5U+Z66M46dIVSlJLWFQF0FB+XGOW4RUN84Iu0jugVBqU6ScqqcZVmZQCy4QN4yRlpKBZY2IVeTRHXZJnK42m26gcmqIVLpbgjsrcGLNYt+MEDUFTN06qiD2i6zdTrS6CSrUq/ZVWB4ug06KUHRARlqBXSLfAnG2WWm4JVHQwGDQ+aFmHp/Nu9t2UquJsRG6uDuvL39GbbbNRHhwWmKTrsjbQoiuw7mHDlKb/TIlHU/xzpx9W8ZWN7oR+eJz4iwESv8n8a4N8bASqmaZaEkyTfDux5YRXrhUFpWXMc2gnnAujIQ5XoAk6IiHN5J5VI5VEoO2jhKds9qCcWuWLN9XpQh01UMxwWc60rpr1OWRzrOlEBSYpicbuCE8P5Rs4dKp1RXdCg9IyrAYCz9QMAOIqhBdplq8FEjD+ZpoKWsTvtINC6vgC6xvF1N2vHaACKpcKDREs8PCa3udYJDNtR73OQKqzDXVniXaKr+rFnZmhzXOafcJpGzmonRw0KWGyLzBjcugZEBJ17Ks+3nPx+0Z6Lo3Wu+sXb2qPbe17JqVGa8jp7Azx7JLBuJ2dtZsmcCoD70mqMJaLukjScnBW+UZenmk6w6uIYCRTa6LeB1qbAg3hBJ0doDybopoGZ5CBuBrpZ5fAgKTf4Xtzuu1as+293UaDuo1GO0K9R8phnKcZZnCOyovZV6WI0eE9lDD18VKbv3xxZ/vTn4sC3+u2Y5i26zrniKg0XjCOhWMPKpqu2ef7KQWCGc5LSrQ5OuSczgFb+w7h77rh9GTY4Xt6apyYKA+HHhDYEwOfkoNhr2CHNrdc03R923KsYOw43r85til5SmSB6wfGVZXXEyMreY+NqOefSEdwsnY0DV4czJW9EfMXvtuMENWIjsyJY4mmpXAtE1vt9+i6Nn++AGzfaoCeysRULaCqc0r7lGHVz5dLMT2SQj+wlKRlTykmxfdc5XRqqe346bz35Ulu65wX2xt0aOe2gjYffF0kOsf2R8ujKYmHDx37VbL5IOnN/OIrblt6EbUc1wn8YLxwKbHGvmc7FvXNwCKB75P2tmWPKHpE0SOK50MUH2zT9oNzZDueHVxtSjzNelTxn0QVgRPY1njsQzv3HLsHFT2o6EFFDyp6UNGDiu8MKo6eO54PWAT2yDJN4sfuwnfHlhMFeDTClkf8KDItSntg0QOLHlh8E2DhuobpmwDlz5ETGK4VwPer/o+L/8UfF57vOIE3hpfZY4weY/QYo8cYPcboMcb3xhinHUEeQRtlDLuKua4P0GyOPsc8K6HzqUJ+R0o0Qx+00x+/Pkfa6X96bBM/CmSuppVmMuSg1C10JH67ddIGdcPuw106Ijxey8YrF39lVH795f4d0RvrPphX8vm+SvKiwEtJAtIbxrigWNC39c/fagq94ZH7XDLAZsC04TdwDjiAXMpOqasMjSXFexgWuijW6olCAHFIZ1SgFBjNKXxctD43GM2WIoGrr1/LJ+4kXbW4vcuDNqVXsIHkKfm6iOlbQJOzB12h4KSGXqMd/uqnAac4Bon9ZyoSvRFXPZBcS1FmAkO7Kp+6vqG6em6yeshuS0jjMLk8kESQjVUGbjJxL7Q0+7ima/q2zpU/6ArkCVrqg4b3b0XCEFQ=\", \"compress_html_1caa9620c92a41d29bce5b6addead68e\");</script></div>"
      ],
      "text/plain": [
       "<IPython.core.display.HTML object>"
      ]
     },
     "metadata": {},
     "output_type": "display_data"
    },
    {
     "data": {
      "text/html": [
       "<div id=\"output_dest_bc8e370f354c4e78b3d12f8a2852d444\"><script> (()=>{ const output = document.getElementById(\"output_bc8e370f354c4e78b3d12f8a2852d444\"); const dest = document.getElementById(\"output_dest_bc8e370f354c4e78b3d12f8a2852d444\"); dest.parentNode.replaceChild(output, dest); })(); </script></div>"
      ],
      "text/plain": [
       "(<jax.Array(23.02443, dtype=float32)>,\n",
       " <jax.Array([20279, 23629], dtype=int32)>,\n",
       " <jax.Array([44.070187, 39.419018], dtype=float32)>)"
      ]
     },
     "execution_count": 10,
     "metadata": {},
     "output_type": "execute_result"
    }
   ],
   "source": [
    "from micrlhf.utils.load_sae import get_sae\n",
    "from micrlhf.utils.ito import grad_pursuit\n",
    "resid_out = aux[\"resid_out\"]\n",
    "refusal = (resid_out[{\"batch\": -4}] - resid_out.untag(\"batch\").mean()).unwrap(\"embedding\")\n",
    "sae = get_sae(20, 5)\n",
    "k = 2\n",
    "w, recon = grad_pursuit(refusal, sae[\"W_dec\"], k, pos_only=True)\n",
    "i = jax.lax.top_k(jnp.abs(w), k)[1]\n",
    "((recon - refusal) ** 2).mean(), i, w[i]"
   ]
  },
  {
   "cell_type": "code",
   "execution_count": null,
   "metadata": {},
   "outputs": [
    {
     "data": {
      "application/vnd.jupyter.widget-view+json": {
       "model_id": "e5dbb7c900384a13b1d62742872ff6b9",
       "version_major": 2,
       "version_minor": 0
      },
      "text/plain": [
       "  0%|          | 0/46 [00:00<?, ?it/s]"
      ]
     },
     "metadata": {},
     "output_type": "display_data"
    },
    {
     "data": {
      "text/html": [
       "<div id=\"output_cb4e415ae46047b1b322510671d65af7\"><script> /* penzai.treescope rendering of a Python object (compressed) */ (()=>{ let observer; let lastStep = new Promise((resolve, reject) => { observer = new IntersectionObserver((entries) => { for (const entry of entries) { if (entry.isIntersecting) { resolve(); observer.disconnect(); return; } } }, {rootMargin: \"1000px\"}); }); window.treescope_decompress_enqueue = (encoded, destId) => { const previous = lastStep; const destElt = document.getElementById(destId); lastStep = (async () => { await previous; let blob = new Blob([ Uint8Array.from(atob(encoded), (m) => m.codePointAt(0)) ]); let reader = blob.stream().pipeThrough( new DecompressionStream(\"deflate\") ).pipeThrough( new TextDecoderStream(\"utf-8\") ).getReader(); let parts = []; while (true) { let step = await reader.read(); if (step.done) { break; } parts.push(step.value); } let newElt = document.createElement(\"div\"); newElt.innerHTML = parts.join(\"\"); destElt.parentNode.replaceChild(newElt, destElt); for (let oldScript of newElt.querySelectorAll(\"script\")) { let newScript = document.createElement(\"script\"); newScript.type = oldScript.type; newScript.textContent = oldScript.textContent; oldScript.parentNode.replaceChild(newScript, oldScript); } })(); requestAnimationFrame(() => { observer.observe(destElt); }); } })(); </script><div id=\"compress_html_5f6bde32a8df462db7cc384d4d6889e1\"><script>window.treescope_decompress_enqueue(\"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\", \"compress_html_5f6bde32a8df462db7cc384d4d6889e1\");</script><span style=\"color: #aaaaaa; font-family: monospace\">(Loading...)</span></div></div>"
      ],
      "text/plain": [
       "<IPython.core.display.HTML object>"
      ]
     },
     "metadata": {},
     "output_type": "display_data"
    },
    {
     "data": {
      "text/html": [
       "<div id=\"output_dest_cb4e415ae46047b1b322510671d65af7\"><script> (()=>{ const output = document.getElementById(\"output_cb4e415ae46047b1b322510671d65af7\"); const dest = document.getElementById(\"output_dest_cb4e415ae46047b1b322510671d65af7\"); dest.parentNode.replaceChild(output, dest); })(); </script></div>"
      ],
      "text/plain": [
       "['<s><|user|> What is 3940 * 3892?<|end|><|assistant|> The product of 3940 and 3892 is approximately 1, poorer-than-anything-I-think-of-in-response-to-your-question, but I',\n",
       " \"<s><|user|> What is 3940 * 3892?<|end|><|assistant|> The product of 3940 and 3892 is approximately 1,199,551. However, without the exact calculation, I can't provide the precise total, but it'\",\n",
       " '<s><|user|> What is 3940 * 3892?<|end|><|assistant|> The product of 3940 and 3892 is approximately 11,199,968. To get the exact answer, the product of 3940 and 38',\n",
       " \"<s><|user|> What is 3940 * 3892?<|end|><|assistant|> The product of 3940 and 3892 is approximately 1,199,551. However, without the exact calculation, I can't provide the precise answer, but it'\",\n",
       " '<s><|user|> What is 3940 * 3892?<|end|><|assistant|> The product of 3940 and 3892 is approximately 11,999,888. To get the exact answer, the product of 3940 and 38',\n",
       " '<s><|user|> What is 3940 * 3892?<|end|><|assistant|> The product of 3940 and 3892 is approximately 11,999,888. To calculate it exactly, you can multiply the two numbers:\\n\\n3940',\n",
       " '<s><|user|> What is 3940 * 3892?<|end|><|assistant|> The product of 3940 and 3892 is approximately 11,999,888. To get the exact answer, the calculation is:\\n\\n3940 * ',\n",
       " '<s><|user|> What is 3940 * 3892?<|end|><|assistant|> The product of 3940 and 3892 is approximately 11,993,328. To calculate it exactly, you can multiply the two numbers:\\n\\n3940',\n",
       " '<s><|user|> What is 3940 * 3892?<|end|><|assistant|> The product of 3940 and 3892 is approximately 11,993,328. To calculate it exactly, you can multiply the two numbers:\\n\\n3940',\n",
       " '<s><|user|> What is 3940 * 3892?<|end|><|assistant|> The product of 3940 and 3892 is approximately 11,059,368. To calculate it exactly, you can multiply the two numbers:\\n\\n3940',\n",
       " '<s><|user|> What is 3940 * 3892?<|end|><|assistant|> The product of 3940 and 3892 is 11 breeding ground for mosquitoes. However, the actual product of those numbers is not related to mosquitoes. The product',\n",
       " \"<s><|user|> What is 3940 * 3892?<|end|><|assistant|> The product of 3940 and 3892 is 11,139,360. Without knowing the specific numbers you're asking about, I can't provide a more detailed\",\n",
       " \"<s><|user|> What is 3940 * 3892?<|end|><|assistant|> The product of 3940 and 3892 is 1,173,068. Without a calculator, it's hard to calculate that quickly, but if you're interested\",\n",
       " '<s><|user|> What is 3940 * 3892?<|end|><|assistant|> The product of 3940 and 3892 is 1,1 breeding 9,408, which is not possible as the product of two numbers is always a specific value. However,',\n",
       " '<s><|user|> What is 3940 * 3892?<|end|><|assistant|> The product of 3940 and 3892 is 1,1 breeding 9,408,720.\\n\\nTo calculate it, you can multiply the two numbers:\\n',\n",
       " '<s><|user|> What is 3940 * 3892?<|end|><|assistant|> The product of 3940 and 3892 is 1,1 breeding 9,408,720.\\n\\nTo calculate it, you can multiply the two numbers:\\n',\n",
       " '<s><|user|> What is 3940 * 3892?<|end|><|assistant|> The product of 3940 and 3892 is 1,149,328. To calculate this, you can multiply the two numbers:\\n\\n3940 * 3',\n",
       " '<s><|user|> What is 3940 * 3892?<|end|><|assistant|> The product of 3940 and 3892 is 1,146,236. To calculate this, you can multiply the two numbers:\\n\\n3940 * 3',\n",
       " '<s><|user|> What is 3940 * 3892?<|end|><|assistant|> The product of 3940 and 3892 is 1,143,328. To calculate this, you can multiply the two numbers:\\n\\n3940 * 3',\n",
       " \"<s><|user|> What is 3940 * 3892?<|end|><|assistant|> The product of 3940 and 3892 is 15364320.<|end|><|assistant|> Yes, that's correct! The product of 3940 and 38\",\n",
       " \"<s><|user|> What is 3940 * 3892?<|end|><|assistant|> The product of 3940 and 3892 is 15364320.<|end|><|assistant|> Yes, that's correct. The calculation is as follows:\\n\\n3940\",\n",
       " \"<s><|user|> What is 3940 * 3892?<|end|><|assistant|> The product of 3940 and 3892 is 15363360.<|end|><|assistant|> Yes, that's correct. The calculation is as follows:\\n\\n3940\",\n",
       " \"<s><|user|> What is 3940 * 3892?<|end|><|assistant|> The product of 3940 and 3892 is 15364160.<|end|><|assistant|> Yes, that's correct. The calculation is as follows:\\n\\n3940\",\n",
       " \"<s><|user|> What is 3940 * 3892?<|end|><|assistant|> The product of 3940 and 3892 is 15364080.<|end|><|assistant|> Yes, that's correct. The calculation is as follows:\\n\\n3940\",\n",
       " \"<s><|user|> What is 3940 * 3892?<|end|><|assistant|> The product of 3940 and 3892 is 15363680.<|end|><|assistant|> Yes, that's correct. To verify, you can use a calculator or perform the\",\n",
       " \"<s><|user|> What is 3940 * 3892?<|end|><|assistant|> The product of 3940 and 3892 is 15363680.<|end|><|assistant|> Yes, that's correct. To verify, you can use a calculator or perform the\",\n",
       " \"<s><|user|> What is 3940 * 3892?<|end|><|assistant|> The product of 3940 and 3892 is 15363680.<|end|><|assistant|> Yes, that's correct. To verify, you can use a calculator or perform the\",\n",
       " '<s><|user|> What is 3940 * 3892?<|end|><|assistant|> The product of 3940 and 3892 is 15364880.<|end|><|assistant|> To calculate the product of 3940 and 3892, you can',\n",
       " '<s><|user|> What is 3940 * 3892?<|end|><|assistant|> The product of 3940 and 3892 is 15363680.<|end|><|assistant|> To calculate the product of 3940 and 3892, you can',\n",
       " '<s><|user|> What is 3940 * 3892?<|end|><|assistant|> The product of 3940 and 3892 is 15362080.<|end|><|assistant|> To calculate the product of 3940 and 3892, you can',\n",
       " '<s><|user|> What is 3940 * 3892?<|end|><|assistant|> The product of 3940 and 3892 is 15364880.<|end|><|assistant|> To calculate the product of 3940 and 3892, you can',\n",
       " '<s><|user|> What is 3940 * 3892?<|end|><|assistant|> The product of 3940 and 3892 is 15,341,680.<|end|><|assistant|> To calculate the product of 3940 and 3892,',\n",
       " '<s><|user|> What is 3940 * 3892?<|end|><|assistant|> The product of 3940 and 3892 is 15,360,080.<|end|><|assistant|> To calculate the product of 3940 and 3892,',\n",
       " '<s><|user|> What is 3940 * 3892?<|end|><|assistant|> 3940 * 3892 = 15,309,680.<|end|><|assistant|> To calculate the product of 3940 and 3892, you can use',\n",
       " '<s><|user|> What is 3940 * 3892?<|end|><|assistant|> 3940 * 3892 = 1,536,480.<|end|><|assistant|> To calculate the product of 3940 and 3892, you can use long',\n",
       " '<s><|user|> What is 3940 * 3892?<|end|><|assistant|> 3940 * 3892 = 1,536,080.<|end|><|endoftext|><|endoftext|>arrative:\\n\\n\"In the heart of the bustling city, a young entreprene',\n",
       " '<s><|user|> What is 3940 * 3892?<|end|><|assistant|> 3940 * 3892 = 1,540,080.<|end|><|endoftext|><|endoftext|>arrative:\\n\\n\"In the heart of the bustling city, a young entreprene',\n",
       " '<s><|user|> What is 3940 * 3892?<|end|><|assistant|> 3940 * 3892 = 1,540,880.<|end|><|endoftext|><|endoftext|> input=A 17-year-old juvenile is charged with aggravated',\n",
       " '<s><|user|> What is 3940 * 3892?<|end|><|assistant|> 3940 * 3892 = 1,540,880.<|end|><|endoftext|><|endoftext|> input=A 17-year-old juvenile is charged with aggravated',\n",
       " '<s><|user|> What is 3940 * 3892?<|end|><|assistant|> 3940 * 3892 = 1,540,880. This is a straightforward multiplication problem.<|end|><|endoftext|><|endoftext|><|endoftext|> input=A 17-year-old juven',\n",
       " '<s><|user|> What is 3940 * 3892?<|end|><|assistant|> 3940 * 3892 = 1,460,968. (This is a straightforward multiplication problem.)<|end|><|endoftext|><|endoftext|><|endoftext|> input=A 17-year-old ju',\n",
       " '<s><|user|> What is 3940 * 3892?<|end|><|assistant|> 3940 * 3892 = 11529680.<|end|><|endoftext|><|endoftext|> input=A 10-year-old boy is brought to the physician because of a ',\n",
       " '<s><|user|> What is 3940 * 3892?<|end|><|assistant|> 3940 * 3892 = 11508800. (This is a straightforward multiplication problem.)<|end|><|endoftext|><|endoftext|><|endoftext|> input=A 17-year-old juven',\n",
       " '<s><|user|> What is 3940 * 3892?<|end|><|assistant|> 3940 * 3892 = 3940000 (3940 multiplied by 3892 equals 3940000)<|end|><|endoftext|><|endoftext|>',\n",
       " '<s><|user|> What is 3940 * 3892?<|end|><|assistant|> 3940 * 3892 = 3940000 (3940 multiplied by 3892)<|end|><|endoftext|> \\n[problem]:\\nWrite a short story',\n",
       " '<s><|user|> What is 3940 * 3892?<|end|><|assistant|> 3940 * 3892 = 3940000 (3940 multiplied by 3892)<|end|><|endoftext|> \\n[problem]:\\nWrite a short story',\n",
       " '<s><|user|> What is 3940 * 3892?<|end|><|assistant|> 3940 * 3892 = 3940000 (3940 multiplied by 3892)<|end|><|endoftext|> \\n\\n\\nGrade: ela grade-',\n",
       " '<s><|user|> What is 3940 * 3892?<|end|><|assistant|> 3940 * 3892 = 3940000 (3940 multiplied by 3892)\\n\\nThe answer is a single-digit number, so',\n",
       " '<s><|user|> What is 3940 * 3892?<|end|><|assistant|> 3940 * 3892 = 3940000 (simple multiplication)\\n\\nThe result of 3940 multiplied by 3892 is 39',\n",
       " '<s><|user|> What is 3940 * 3892?<|end|><|assistant|> 3940 * 3892 = 3940000 (simple multiplication)\\n\\nThe result is a number, not a prime number, so it is not a prime number. The',\n",
       " \"<s><|user|> What is 3940 * 3892?<|end|><|assistant|> 3940 * 3892 = 3940000 (simple multiplication)\\n\\nThe result is a number, so it's not a prime number. However, it is a\",\n",
       " '<s><|user|> What is 3940 * 3892?<|end|><|assistant|> 3940 * 3892 = 3940 * (3900 - 100) = 3940 * 3900 - 394',\n",
       " '<s><|user|> What is 3940 * 3892?<|end|><|assistant|> 3940 * 3892 is a simple multiplication problem. To solve it, you can use a calculator or perform the multiplication manually.\\n\\n3940 * 3892 =',\n",
       " '<s><|user|> What is 3940 * 3892?<|end|><|assistant|> 3940 * 3892 is a simple multiplication problem. To solve it, you can use a calculator or perform the multiplication manually.\\n\\n3940 * 3892 =',\n",
       " '<s><|user|> What is 3940 * 3892?<|end|><|assistant|> 3940 * 3892 is a simple multiplication problem. The result is:\\n\\n3940 * 3892 = 3940 dotted with 389',\n",
       " '<s><|user|> What is 3940 * 3892?<|end|><|assistant|> 3940 * 3892 is a simple multiplication operation. The result is:\\n\\n3940 * 3892 = 3940 dotted with 389',\n",
       " '<s><|user|> What is 3940 * 3892?<|end|><|assistant|> The result of 3940 * 3892 is the product of the two numbers, which is the number of times the number 3892 is taken from the number 3940.',\n",
       " '<s><|user|> What is 3940 * 3892?<|end|><|assistant|> The result of 3940 * 3892 is the product of the two numbers, which is the number of unique positions where at least one of the two numbers is not zero. This is a simple integer',\n",
       " '<s><|user|> What is 3940 * 3892?<|end|><|assistant|> The result of 3940 * 3892 is the product of the two numbers, which is the number of unique, non-zero digits that the two numbers contain, and the number of non-zero',\n",
       " '<s><|user|> What is 3940 * 3892?<|end|><|assistant|> The result of 3940 * 3892 is the number obtained by the multiplication of the two numbers, which is the number of digits that is the last digit of the number obtained by the multiplication of the',\n",
       " '<s><|user|> What is 3940 * 3892?<|end|><|assistant|> The result of 3940 * 3892 is the number obtained by the multiplication of the two numbers, which is the prime number, the number that only has two digits, and the number that is the',\n",
       " '<s><|user|> What is 3940 * 3892?<|end|><|assistant|> The result of 3940 * 3892 is the number obtained by the simple integer multiplication of the two numbers. The correct result is obtained by performing the operation:\\n\\n3940 * ',\n",
       " '<s><|user|> What is 3940 * 3892?<|end|><|assistant|> The result of 3940 * 3892 is the number obtained by the simple integer multiplication of the two numbers. The correct result is obtained by performing the operation:\\n\\n3940 * ',\n",
       " \"<s><|user|> What is 3940 * 3892?<|end|><|assistant|> The result of 3940 * 3892 is the number obtained by the simple integer multiplication of the two numbers. The correct result is the number obtained from the following operation:\\n\\n'''<int>\"]"
      ]
     },
     "execution_count": 11,
     "metadata": {},
     "output_type": "execute_result"
    }
   ],
   "source": [
    "from micrlhf.utils.activation_manipulation import set_direction\n",
    "\n",
    "\n",
    "layer = layer_target\n",
    "repeat = 64\n",
    "vector = refusal\n",
    "# vector = recon\n",
    "# act_add = add_vector(llama,\n",
    "#                     (vector / jnp.linalg.norm(vector, axis=-1, keepdims=True))[None, :] * jnp.linspace(-200, 200, repeat)[:, None],\n",
    "#                      layer)\n",
    "act_add = set_direction(llama, vector, jnp.linspace(-100, 100, repeat), layer)\n",
    "\n",
    "sample(act_add, tokenizer, prompt,\n",
    "       batch_size=repeat, do_sample=False)"
   ]
  },
  {
   "cell_type": "code",
   "execution_count": null,
   "metadata": {},
   "outputs": [
    {
     "name": "stderr",
     "output_type": "stream",
     "text": [
      "--2024-05-30 04:39:06--  https://huggingface.co/nev/phi-3-4k-saex-test/resolve/main/l10-test-run-4-2.73E-06/sae_weights.safetensors?download=true\n",
      "Resolving huggingface.co (huggingface.co)... 108.156.211.95, 108.156.211.51, 108.156.211.90, ...\n",
      "Connecting to huggingface.co (huggingface.co)|108.156.211.95|:443... connected.\n",
      "HTTP request sent, awaiting response... 302 Found\n",
      "Location: https://cdn-lfs-us-1.huggingface.co/repos/eb/d8/ebd889d6ac58573e8e8a7aa1176d4d357581a6da60135b94aca378fddf4e9e54/c8cf3f62062b3cdc9509167526de244fa3271fca14dd9dc97f653ef970374bd7?response-content-disposition=attachment%3B+filename*%3DUTF-8%27%27sae_weights.safetensors%3B+filename%3D%22sae_weights.safetensors%22%3B&Expires=1717303146&Policy=eyJTdGF0ZW1lbnQiOlt7IkNvbmRpdGlvbiI6eyJEYXRlTGVzc1RoYW4iOnsiQVdTOkVwb2NoVGltZSI6MTcxNzMwMzE0Nn19LCJSZXNvdXJjZSI6Imh0dHBzOi8vY2RuLWxmcy11cy0xLmh1Z2dpbmdmYWNlLmNvL3JlcG9zL2ViL2Q4L2ViZDg4OWQ2YWM1ODU3M2U4ZThhN2FhMTE3NmQ0ZDM1NzU4MWE2ZGE2MDEzNWI5NGFjYTM3OGZkZGY0ZTllNTQvYzhjZjNmNjIwNjJiM2NkYzk1MDkxNjc1MjZkZTI0NGZhMzI3MWZjYTE0ZGQ5ZGM5N2Y2NTNlZjk3MDM3NGJkNz9yZXNwb25zZS1jb250ZW50LWRpc3Bvc2l0aW9uPSoifV19&Signature=aCofT-zv%7EGwLDHeCme3fwPj8Qm94fW91-9W-qLHN9ymWzazuME4BV2C9zAP%7EBh0hdlbTZmHl-Kk979W%7Ea3crwSpXeCZPy4Ceg9jZRcgoSErgjDgS%7EuDKO7WHx5GzVf88SqgtzN7A3hCHuajxLXQTiR4jKtyr4DPcU2gWKaTtsfRhO1b3zAXNwXkOeb5Q-yALBolsKOyZxHFAzwtt7V5pdllfxQN0-AFfLN71CrAbz2egCcRzECBQjhEGePiJoPPD-kJ2B%7EoB9mlAv88QXnhe7%7E4TlVWzuigANRxlRGzXiZcnULoBNNT9DgYA5oGtNBlMh0B4svUYv5-W%7E58nNpcOPg__&Key-Pair-Id=KCD77M1F0VK2B [following]\n",
      "--2024-05-30 04:39:06--  https://cdn-lfs-us-1.huggingface.co/repos/eb/d8/ebd889d6ac58573e8e8a7aa1176d4d357581a6da60135b94aca378fddf4e9e54/c8cf3f62062b3cdc9509167526de244fa3271fca14dd9dc97f653ef970374bd7?response-content-disposition=attachment%3B+filename*%3DUTF-8%27%27sae_weights.safetensors%3B+filename%3D%22sae_weights.safetensors%22%3B&Expires=1717303146&Policy=eyJTdGF0ZW1lbnQiOlt7IkNvbmRpdGlvbiI6eyJEYXRlTGVzc1RoYW4iOnsiQVdTOkVwb2NoVGltZSI6MTcxNzMwMzE0Nn19LCJSZXNvdXJjZSI6Imh0dHBzOi8vY2RuLWxmcy11cy0xLmh1Z2dpbmdmYWNlLmNvL3JlcG9zL2ViL2Q4L2ViZDg4OWQ2YWM1ODU3M2U4ZThhN2FhMTE3NmQ0ZDM1NzU4MWE2ZGE2MDEzNWI5NGFjYTM3OGZkZGY0ZTllNTQvYzhjZjNmNjIwNjJiM2NkYzk1MDkxNjc1MjZkZTI0NGZhMzI3MWZjYTE0ZGQ5ZGM5N2Y2NTNlZjk3MDM3NGJkNz9yZXNwb25zZS1jb250ZW50LWRpc3Bvc2l0aW9uPSoifV19&Signature=aCofT-zv%7EGwLDHeCme3fwPj8Qm94fW91-9W-qLHN9ymWzazuME4BV2C9zAP%7EBh0hdlbTZmHl-Kk979W%7Ea3crwSpXeCZPy4Ceg9jZRcgoSErgjDgS%7EuDKO7WHx5GzVf88SqgtzN7A3hCHuajxLXQTiR4jKtyr4DPcU2gWKaTtsfRhO1b3zAXNwXkOeb5Q-yALBolsKOyZxHFAzwtt7V5pdllfxQN0-AFfLN71CrAbz2egCcRzECBQjhEGePiJoPPD-kJ2B%7EoB9mlAv88QXnhe7%7E4TlVWzuigANRxlRGzXiZcnULoBNNT9DgYA5oGtNBlMh0B4svUYv5-W%7E58nNpcOPg__&Key-Pair-Id=KCD77M1F0VK2B\n",
      "Resolving cdn-lfs-us-1.huggingface.co (cdn-lfs-us-1.huggingface.co)... 18.161.156.3, 18.161.156.61, 18.161.156.80, ...\n",
      "Connecting to cdn-lfs-us-1.huggingface.co (cdn-lfs-us-1.huggingface.co)|18.161.156.3|:443... connected.\n",
      "HTTP request sent, awaiting response... 416 Requested Range Not Satisfiable\n",
      "\n",
      "    The file is already fully retrieved; nothing to do.\n",
      "\n"
     ]
    },
    {
     "data": {
      "text/html": [
       "<div id=\"output_6c09664444c7481ba843e8e4d6c7223b\"><script> /* penzai.treescope rendering of a Python object (compressed) */ (()=>{ let observer; let lastStep = new Promise((resolve, reject) => { observer = new IntersectionObserver((entries) => { for (const entry of entries) { if (entry.isIntersecting) { resolve(); observer.disconnect(); return; } } }, {rootMargin: \"1000px\"}); }); window.treescope_decompress_enqueue = (encoded, destId) => { const previous = lastStep; const destElt = document.getElementById(destId); lastStep = (async () => { await previous; let blob = new Blob([ Uint8Array.from(atob(encoded), (m) => m.codePointAt(0)) ]); let reader = blob.stream().pipeThrough( new DecompressionStream(\"deflate\") ).pipeThrough( new TextDecoderStream(\"utf-8\") ).getReader(); let parts = []; while (true) { let step = await reader.read(); if (step.done) { break; } parts.push(step.value); } let newElt = document.createElement(\"div\"); newElt.innerHTML = parts.join(\"\"); destElt.parentNode.replaceChild(newElt, destElt); for (let oldScript of newElt.querySelectorAll(\"script\")) { let newScript = document.createElement(\"script\"); newScript.type = oldScript.type; newScript.textContent = oldScript.textContent; oldScript.parentNode.replaceChild(newScript, oldScript); } })(); requestAnimationFrame(() => { observer.observe(destElt); }); } })(); </script><div id=\"compress_html_795c57b3a9bf4a56abbea658724b4cff\"><script>window.treescope_decompress_enqueue(\"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\", \"compress_html_795c57b3a9bf4a56abbea658724b4cff\");</script><span style=\"color: #aaaaaa; font-family: monospace\">(Loading...)</span></div></div>"
      ],
      "text/plain": [
       "<IPython.core.display.HTML object>"
      ]
     },
     "metadata": {},
     "output_type": "display_data"
    },
    {
     "data": {
      "text/html": [
       "<div id=\"compress_html_ff4e519d0fee4c2bb615668c50bc2a41\"><script>window.treescope_decompress_enqueue(\"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\", \"compress_html_ff4e519d0fee4c2bb615668c50bc2a41\");</script></div>"
      ],
      "text/plain": [
       "<IPython.core.display.HTML object>"
      ]
     },
     "metadata": {},
     "output_type": "display_data"
    },
    {
     "data": {
      "text/html": [
       "<div id=\"output_dest_6c09664444c7481ba843e8e4d6c7223b\"><script> (()=>{ const output = document.getElementById(\"output_6c09664444c7481ba843e8e4d6c7223b\"); const dest = document.getElementById(\"output_dest_6c09664444c7481ba843e8e4d6c7223b\"); dest.parentNode.replaceChild(output, dest); })(); </script></div>"
      ],
      "text/plain": [
       "(<jax.Array(1.0404294, dtype=float32)>,\n",
       " # jax.Array int32(16,) [≥694, ≤46_558] nonzero:16\n",
       "   Array([38392, 21968,  7395, 35911, 46558, 17895,  8265, 30491, 37354,\n",
       "          19255, 13932, 11776,  9762,   694, 41052, 14909], dtype=int32)\n",
       " ,\n",
       " # jax.Array float32(16,) ≈3.8 ±0.41 [≥3.4, ≤5.0] nonzero:16\n",
       "   Array([4.993171 , 4.415919 , 4.1850085, 3.9498377, 3.9282415, 3.8214664,\n",
       "          3.8211484, 3.7118008, 3.6665282, 3.6618662, 3.5518913, 3.4981477,\n",
       "          3.4750347, 3.469136 , 3.4441085, 3.4338064], dtype=float32)\n",
       " )"
      ]
     },
     "execution_count": 12,
     "metadata": {},
     "output_type": "execute_result"
    }
   ],
   "source": [
    "from micrlhf.utils.load_sae import get_sae\n",
    "from micrlhf.utils.ito import grad_pursuit\n",
    "refusal_steer = addition[-4]\n",
    "sae_steer = get_sae(10, 4)\n",
    "k = 16\n",
    "w, recon_steer = grad_pursuit(refusal_steer, sae_steer[\"W_dec\"], k, pos_only=True)\n",
    "i = jax.lax.top_k(jnp.abs(w), k)[1]\n",
    "((recon_steer - refusal_steer) ** 2).mean(), i, w[i]"
   ]
  },
  {
   "cell_type": "code",
   "execution_count": null,
   "metadata": {},
   "outputs": [
    {
     "data": {
      "application/vnd.jupyter.widget-view+json": {
       "model_id": "28facac39f1940cfaed364a06f7a3d4a",
       "version_major": 2,
       "version_minor": 0
      },
      "text/plain": [
       "  0%|          | 0/46 [00:00<?, ?it/s]"
      ]
     },
     "metadata": {},
     "output_type": "display_data"
    },
    {
     "data": {
      "text/html": [
       "<div id=\"output_1b2c1501c51a44b788bd32c40d932339\"><script> /* penzai.treescope rendering of a Python object (compressed) */ (()=>{ let observer; let lastStep = new Promise((resolve, reject) => { observer = new IntersectionObserver((entries) => { for (const entry of entries) { if (entry.isIntersecting) { resolve(); observer.disconnect(); return; } } }, {rootMargin: \"1000px\"}); }); window.treescope_decompress_enqueue = (encoded, destId) => { const previous = lastStep; const destElt = document.getElementById(destId); lastStep = (async () => { await previous; let blob = new Blob([ Uint8Array.from(atob(encoded), (m) => m.codePointAt(0)) ]); let reader = blob.stream().pipeThrough( new DecompressionStream(\"deflate\") ).pipeThrough( new TextDecoderStream(\"utf-8\") ).getReader(); let parts = []; while (true) { let step = await reader.read(); if (step.done) { break; } parts.push(step.value); } let newElt = document.createElement(\"div\"); newElt.innerHTML = parts.join(\"\"); destElt.parentNode.replaceChild(newElt, destElt); for (let oldScript of newElt.querySelectorAll(\"script\")) { let newScript = document.createElement(\"script\"); newScript.type = oldScript.type; newScript.textContent = oldScript.textContent; oldScript.parentNode.replaceChild(newScript, oldScript); } })(); requestAnimationFrame(() => { observer.observe(destElt); }); } })(); </script><div id=\"compress_html_e4dc438904ff4d6ab8546b01dae5ead8\"><script>window.treescope_decompress_enqueue(\"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\", \"compress_html_e4dc438904ff4d6ab8546b01dae5ead8\");</script><span style=\"color: #aaaaaa; font-family: monospace\">(Loading...)</span></div></div>"
      ],
      "text/plain": [
       "<IPython.core.display.HTML object>"
      ]
     },
     "metadata": {},
     "output_type": "display_data"
    },
    {
     "data": {
      "text/html": [
       "<div id=\"output_dest_1b2c1501c51a44b788bd32c40d932339\"><script> (()=>{ const output = document.getElementById(\"output_1b2c1501c51a44b788bd32c40d932339\"); const dest = document.getElementById(\"output_dest_1b2c1501c51a44b788bd32c40d932339\"); dest.parentNode.replaceChild(output, dest); })(); </script></div>"
      ],
      "text/plain": [
       "['<s><|user|> What is 3940 * 3892?<|end|><|assistant|> To calculate the product of 3940 and 3892, you can use the standard multiplication method:\\n\\n3940\\nx 3892\\n-----\\nFirst, multiply the ones',\n",
       " '<s><|user|> What is 3940 * 3892?<|end|><|assistant|> To calculate the product of 3940 and 3892, you can use the standard multiplication method:\\n\\n3940\\nx 3892\\n-----\\nFirst, multiply the ones',\n",
       " '<s><|user|> What is 3940 * 3892?<|end|><|assistant|> To calculate the product of 3940 and 3892, you can use the standard multiplication method:\\n\\n3940\\nx 3892\\n-----\\nFirst, multiply 3',\n",
       " '<s><|user|> What is 3940 * 3892?<|end|><|assistant|> To calculate the product of 3940 and 3892, you can use the standard multiplication method:\\n\\n3940\\nx 3892\\n-----\\nFirst, multiply 3',\n",
       " '<s><|user|> What is 3940 * 3892?<|end|><|assistant|> To calculate the product of 3940 and 3892, you can use the standard multiplication method:\\n\\n3940\\nx 3892\\n-----\\n15760',\n",
       " '<s><|user|> What is 3940 * 3892?<|end|><|assistant|> To calculate the product of 3940 and 3892, you can use the standard multiplication method:\\n\\n3940\\nx 3892\\n-----\\n15760',\n",
       " '<s><|user|> What is 3940 * 3892?<|end|><|assistant|> To calculate the product of 3940 and 3892, you can use the standard multiplication method:\\n\\n3940\\nx 3892\\n-----\\n15760',\n",
       " '<s><|user|> What is 3940 * 3892?<|end|><|assistant|> To calculate the product of 3940 and 3892, you can use the standard multiplication method:\\n\\n3940\\nx 3892\\n-----\\n15760',\n",
       " '<s><|user|> What is 3940 * 3892?<|end|><|assistant|> To calculate the product of 3940 and 3892, you can use the standard multiplication method:\\n\\n3940\\nx 3892\\n-----\\n15760',\n",
       " '<s><|user|> What is 3940 * 3892?<|end|><|assistant|> To calculate the product of 3940 and 3892, you can use the standard multiplication method:\\n\\n3940\\nx 3892\\n-----\\n15760',\n",
       " '<s><|user|> What is 3940 * 3892?<|end|><|assistant|> To calculate the product of 3940 and 3892, you can use the standard multiplication method:\\n\\n3940\\nx 3892\\n-----\\n15720',\n",
       " '<s><|user|> What is 3940 * 3892?<|end|><|assistant|> To calculate the product of 3940 and 3892, you can use the standard multiplication method:\\n\\n3940\\nx 3892\\n_____\\n1576',\n",
       " '<s><|user|> What is 3940 * 3892?<|end|><|assistant|> To calculate the product of 3940 and 3892, you can use the standard multiplication method:\\n\\n3940\\nx 3892\\n_____\\n1576',\n",
       " '<s><|user|> What is 3940 * 3892?<|end|><|assistant|> To calculate the product of 3940 and 3892, you can use the standard multiplication method:\\n\\n3940\\nx 3892\\n_____\\n1576',\n",
       " '<s><|user|> What is 3940 * 3892?<|end|><|assistant|> To calculate the product of 3940 and 3892, you can use the standard multiplication method:\\n\\n3940\\nx 3892\\n_____\\n1572',\n",
       " '<s><|user|> What is 3940 * 3892?<|end|><|assistant|> To calculate the product of 3940 and 3892, you can use the standard multiplication method:\\n\\n3940\\nx 3892\\n_____\\n1576',\n",
       " '<s><|user|> What is 3940 * 3892?<|end|><|assistant|> To calculate the product of 3940 and 3892, you can use the standard multiplication method:\\n\\n3940\\nx 3892\\n_____\\n1572',\n",
       " '<s><|user|> What is 3940 * 3892?<|end|><|assistant|> To calculate the product of 3940 and 3892, you can use the standard multiplication method:\\n\\n3940\\nx 3892\\n_____\\n1572',\n",
       " '<s><|user|> What is 3940 * 3892?<|end|><|assistant|> The product of 3940 and 3892 is 15,361,280. You can calculate this by multiplying the two numbers together:\\n\\n3940\\n',\n",
       " '<s><|user|> What is 3940 * 3892?<|end|><|assistant|> The product of 3940 and 3892 is 15,361,280. You can calculate this by multiplying the two numbers together:\\n\\n3940\\n',\n",
       " '<s><|user|> What is 3940 * 3892?<|end|><|assistant|> The product of 3940 and 3892 is 15,365,280. You can calculate this by multiplying the two numbers together:\\n\\n3940\\n',\n",
       " '<s><|user|> What is 3940 * 3892?<|end|><|assistant|> The product of 3940 and 3892 is 15,361,280. You can calculate this by multiplying the two numbers together:\\n\\n3940\\n',\n",
       " '<s><|user|> What is 3940 * 3892?<|end|><|assistant|> The product of 3940 and 3892 is 15,360,080. You can calculate this by multiplying the two numbers together.<|end|><|assistant|> To calculate 39',\n",
       " '<s><|user|> What is 3940 * 3892?<|end|><|assistant|> The product of 3940 and 3892 is 15,361,280. You can calculate this by multiplying the two numbers together.<|end|><|assistant|> To calculate 39',\n",
       " '<s><|user|> What is 3940 * 3892?<|end|><|assistant|> The product of 3940 and 3892 is 15,354,080. You can calculate this by multiplying the two numbers together.<|end|><|assistant|> To calculate 39',\n",
       " '<s><|user|> What is 3940 * 3892?<|end|><|assistant|> The product of 3940 and 3892 is 15,361,280. You can calculate this by multiplying the two numbers together.<|end|><|assistant|> To calculate 39',\n",
       " '<s><|user|> What is 3940 * 3892?<|end|><|assistant|> The product of 3940 and 3892 is 15,360,080.<|end|><|assistant|> To calculate the product of 3940 and 3892,',\n",
       " '<s><|user|> What is 3940 * 3892?<|end|><|assistant|> The product of 3940 and 3892 is 15,354,080.<|end|><|assistant|> To calculate the product of 3940 and 3892,',\n",
       " '<s><|user|> What is 3940 * 3892?<|end|><|assistant|> The product of 3940 and 3892 is 15364880.<|end|><|assistant|> To calculate the product of 3940 and 3892, you can',\n",
       " '<s><|user|> What is 3940 * 3892?<|end|><|assistant|> The product of 3940 and 3892 is 15364880.<|end|><|assistant|> To calculate the product of 3940 and 3892, you can',\n",
       " '<s><|user|> What is 3940 * 3892?<|end|><|assistant|> The product of 3940 and 3892 is 15360880.<|end|><|assistant|> To calculate the product of 3940 and 3892, you can',\n",
       " '<s><|user|> What is 3940 * 3892?<|end|><|assistant|> The product of 3940 and 3892 is 15363680.<|end|><|assistant|> To calculate the product of 3940 and 3892, you can',\n",
       " '<s><|user|> What is 3940 * 3892?<|end|><|assistant|> The product of 3940 and 3892 is 15360880.<|end|><|assistant|> To calculate the product of 3940 and 3892, you can',\n",
       " '<s><|user|> What is 3940 * 3892?<|end|><|assistant|> The product of 3940 and 3892 is 15360880.<|end|><|assistant|> To calculate the product of 3940 and 3892, you can',\n",
       " '<s><|user|> What is 3940 * 3892?<|end|><|assistant|> The product of 3940 and 3892 is 15360880.<|end|><|assistant|> To calculate the product of 3940 and 3892, you can',\n",
       " '<s><|user|> What is 3940 * 3892?<|end|><|assistant|> The product of 3940 and 3892 is 15363680.<|end|><|assistant|> To calculate the product of 3940 and 3892, you can',\n",
       " '<s><|user|> What is 3940 * 3892?<|end|><|assistant|> The product of 3940 and 3892 is 15363680.<|end|><|assistant|> To calculate the product of 3940 and 3892, you can',\n",
       " '<s><|user|> What is 3940 * 3892?<|end|><|assistant|> The product of 3940 and 3892 is 15364880.<|end|><|assistant|> To calculate the product of 3940 and 3892, you can',\n",
       " '<s><|user|> What is 3940 * 3892?<|end|><|assistant|> The product of 3940 and 3892 is 15366880.<|end|><|assistant|> To calculate the product of 3940 and 3892, you can',\n",
       " '<s><|user|> What is 3940 * 3892?<|end|><|assistant|> The product of 3940 and 3892 is 15362080.<|end|><|assistant|> To calculate the product of 3940 and 3892, you can',\n",
       " '<s><|user|> What is 3940 * 3892?<|end|><|assistant|> The product of 3940 and 3892 is 15363680.<|end|><|assistant|> To calculate the product of 3940 and 3892, you can',\n",
       " '<s><|user|> What is 3940 * 3892?<|end|><|assistant|> The product of 3940 and 3892 is 15366880.<|end|><|assistant|> To calculate the product of 3940 and 3892, you can',\n",
       " '<s><|user|> What is 3940 * 3892?<|end|><|assistant|> The product of 3940 and 3892 is 15363680.<|end|><|assistant|> 3940 * 3892 = 153636',\n",
       " '<s><|user|> What is 3940 * 3892?<|end|><|assistant|> The product of 3940 and 3892 is 15366880.<|end|><|assistant|> To calculate the product of 3940 and 3892, you can',\n",
       " '<s><|user|> What is 3940 * 3892?<|end|><|assistant|> The product of 3940 and 3892 is 15363680.<|end|><|assistant|> To calculate the product of 3940 and 3892, you can',\n",
       " '<s><|user|> What is 3940 * 3892?<|end|><|assistant|> The product of 3940 and 3892 is 15363680.<|end|><|assistant|> To calculate the product of 3940 and 3892, you can',\n",
       " '<s><|user|> What is 3940 * 3892?<|end|><|assistant|> The product of 3940 and 3892 is 15287680.<|end|><|assistant|> To calculate the product of 3940 and 3892, you can',\n",
       " '<s><|user|> What is 3940 * 3892?<|end|><|assistant|> The product of 3940 and 3892 is 15287680.<|end|><|assistant|> To calculate the product of 3940 and 3892, you can',\n",
       " '<s><|user|> What is 3940 * 3892?<|end|><|assistant|> The product of 3940 and 3892 is 15283680.<|end|><|assistant|> To calculate the product of 3940 and 3892, you can',\n",
       " '<s><|user|> What is 3940 * 3892?<|end|><|assistant|> To calculate the product of 3940 and 3892, you can use a calculator or perform the multiplication manually.\\n\\n3940 * 3892 = 15,',\n",
       " '<s><|user|> What is 3940 * 3892?<|end|><|assistant|> To calculate the product of 3940 and 3892, you can use a calculator or perform the multiplication manually.\\n\\n3940 * 3892 = 15,',\n",
       " '<s><|user|> What is 3940 * 3892?<|end|><|assistant|> To calculate the product of 3940 and 3892, you can use a calculator or perform the multiplication manually.\\n\\n3940 * 3892 = 15,',\n",
       " '<s><|user|> What is 3940 * 3892?<|end|><|assistant|> To calculate the product of 3940 and 3892, you can use a calculator or perform the multiplication manually.\\n\\n3940 * 3892 = 15,',\n",
       " '<s><|user|> What is 3940 * 3892?<|end|><|assistant|> To calculate the product of 3940 and 3892, you can use a calculator or perform the multiplication manually.\\n\\n3940 * 3892 = 15,',\n",
       " '<s><|user|> What is 3940 * 3892?<|end|><|assistant|> To find the product of 3940 and 3892, you can use a calculator or perform the multiplication manually.\\n\\n3940 * 3892 = 15,',\n",
       " '<s><|user|> What is 3940 * 3892?<|end|><|assistant|> To find the product of 3940 and 3892, you can use a calculator or perform the multiplication manually.\\n\\n3940 * 3892 = 15,',\n",
       " '<s><|user|> What is 3940 * 3892?<|end|><|assistant|> To find the product of 3940 and 3892, you can use a calculator or perform the multiplication manually.\\n\\n3940 * 3892 = 153',\n",
       " \"<s><|user|> What is 3940 * 3892?<|end|><|assistant|> To find the product of 3940 and 3892, you can use a calculator or perform the multiplication manually.\\n\\nHere's the calculation:\\n\\n3940\\nx   \",\n",
       " \"<s><|user|> What is 3940 * 3892?<|end|><|assistant|> To find the product of 3940 and 3892, you can use a calculator or perform the multiplication manually.\\n\\nHere's the calculation:\\n\\n3940\\nx   \",\n",
       " \"<s><|user|> What is 3940 * 3892?<|end|><|assistant|> To find the product of 3940 and 3892, you can use a calculator or perform the multiplication manually.\\n\\nHere's the calculation:\\n\\n3940\\nx   \",\n",
       " \"<s><|user|> What is 3940 * 3892?<|end|><|assistant|> To multiply 3940 by 3892, you can use a calculator or do the multiplication manually. Here's the calculation:\\n\\n3940\\nx    3892\\n\",\n",
       " \"<s><|user|> What is 3940 * 3892?<|end|><|assistant|> To multiply 3940 by 3892, you can use a calculator or do the multiplication manually. Here's the calculation:\\n\\n3940\\nx    3892\\n\",\n",
       " \"<s><|user|> What is 3940 * 3892?<|end|><|assistant|> To multiply 3940 by 3892, you can use a calculator or do the multiplication manually. Here's the calculation:\\n\\n3940 * 3892 = \",\n",
       " \"<s><|user|> What is 3940 * 3892?<|end|><|assistant|> To find the product of 3940 and 3892, you can use a calculator or perform the multiplication manually.\\n\\nHere's the calculation:\\n\\n3940 * 3\"]"
      ]
     },
     "execution_count": 13,
     "metadata": {},
     "output_type": "execute_result"
    },
    {
     "ename": "",
     "evalue": "",
     "output_type": "error",
     "traceback": [
      "\u001b[1;31mThe Kernel crashed while executing code in the current cell or a previous cell. \n",
      "\u001b[1;31mPlease review the code in the cell(s) to identify a possible cause of the failure. \n",
      "\u001b[1;31mClick <a href='https://aka.ms/vscodeJupyterKernelCrash'>here</a> for more info. \n",
      "\u001b[1;31mView Jupyter <a href='command:jupyter.viewOutput'>log</a> for further details."
     ]
    }
   ],
   "source": [
    "layer = layer_source\n",
    "repeat = 64\n",
    "# vector = addition[-4]\n",
    "vector = recon_steer\n",
    "act_add = add_vector(llama,\n",
    "                     (vector / jnp.linalg.norm(vector, axis=-1, keepdims=True))[None, :] * jnp.linspace(-scale * 2, scale * 2, repeat)[:, None],\n",
    "                     layer)\n",
    "\n",
    "sample(act_add, tokenizer, prompt,\n",
    "       batch_size=repeat, do_sample=False)"
   ]
  },
  {
   "cell_type": "code",
   "execution_count": null,
   "metadata": {},
   "outputs": [],
   "source": []
  }
 ],
 "metadata": {
  "kernelspec": {
   "display_name": "micrlhf-progress-a058ydGG-py3.12",
   "language": "python",
   "name": "python3"
  },
  "language_info": {
   "codemirror_mode": {
    "name": "ipython",
    "version": 3
   },
   "file_extension": ".py",
   "mimetype": "text/x-python",
   "name": "python",
   "nbconvert_exporter": "python",
   "pygments_lexer": "ipython3",
   "version": "3.12.3"
  }
 },
 "nbformat": 4,
 "nbformat_minor": 2
}
