{
 "cells": [
  {
   "cell_type": "code",
   "execution_count": 1,
   "metadata": {},
   "outputs": [],
   "source": [
    "import os\n",
    "if \"models\" not in os.listdir(\".\"):\n",
    "    os.chdir(\"../..\")"
   ]
  },
  {
   "cell_type": "code",
   "execution_count": 7,
   "metadata": {},
   "outputs": [],
   "source": [
    "import json\n",
    "\n",
    "with open(\"cleanup_results_final.jsonl\") as f:\n",
    "    lines = f.readlines()\n",
    "    results = [json.loads(line) for line in lines]"
   ]
  },
  {
   "cell_type": "code",
   "execution_count": 32,
   "metadata": {},
   "outputs": [],
   "source": [
    "# task_name = \"antonyms\"\n",
    "\n",
    "# results = [r for r in results if r[\"task\"] == task_name]\n",
    "\n",
    "\n",
    "import pandas as pd\n",
    "\n",
    "df = pd.DataFrame(results)\n",
    "\n",
    "melted_df = df.melt(id_vars=[\"layer\", \"task\"], value_vars=[\"loss\", \"tv_loss\", \"ito_loss\", \"recon_loss\"], var_name=\"loss_type\", value_name=\"loss value\")"
   ]
  },
  {
   "cell_type": "code",
   "execution_count": 23,
   "metadata": {},
   "outputs": [
    {
     "data": {
      "text/html": [
       "<div>\n",
       "<style scoped>\n",
       "    .dataframe tbody tr th:only-of-type {\n",
       "        vertical-align: middle;\n",
       "    }\n",
       "\n",
       "    .dataframe tbody tr th {\n",
       "        vertical-align: top;\n",
       "    }\n",
       "\n",
       "    .dataframe thead th {\n",
       "        text-align: right;\n",
       "    }\n",
       "</style>\n",
       "<table border=\"1\" class=\"dataframe\">\n",
       "  <thead>\n",
       "    <tr style=\"text-align: right;\">\n",
       "      <th></th>\n",
       "      <th>layer</th>\n",
       "      <th>task</th>\n",
       "      <th>loss_type</th>\n",
       "      <th>loss value</th>\n",
       "    </tr>\n",
       "  </thead>\n",
       "  <tbody>\n",
       "    <tr>\n",
       "      <th>0</th>\n",
       "      <td>1</td>\n",
       "      <td>location_continent</td>\n",
       "      <td>loss</td>\n",
       "      <td>10.3125</td>\n",
       "    </tr>\n",
       "    <tr>\n",
       "      <th>1</th>\n",
       "      <td>2</td>\n",
       "      <td>location_continent</td>\n",
       "      <td>loss</td>\n",
       "      <td>10.2500</td>\n",
       "    </tr>\n",
       "    <tr>\n",
       "      <th>2</th>\n",
       "      <td>3</td>\n",
       "      <td>location_continent</td>\n",
       "      <td>loss</td>\n",
       "      <td>10.1875</td>\n",
       "    </tr>\n",
       "    <tr>\n",
       "      <th>3</th>\n",
       "      <td>4</td>\n",
       "      <td>location_continent</td>\n",
       "      <td>loss</td>\n",
       "      <td>10.3750</td>\n",
       "    </tr>\n",
       "    <tr>\n",
       "      <th>4</th>\n",
       "      <td>5</td>\n",
       "      <td>location_continent</td>\n",
       "      <td>loss</td>\n",
       "      <td>10.1875</td>\n",
       "    </tr>\n",
       "  </tbody>\n",
       "</table>\n",
       "</div>"
      ],
      "text/plain": [
       "   layer                task loss_type  loss value\n",
       "0      1  location_continent      loss     10.3125\n",
       "1      2  location_continent      loss     10.2500\n",
       "2      3  location_continent      loss     10.1875\n",
       "3      4  location_continent      loss     10.3750\n",
       "4      5  location_continent      loss     10.1875"
      ]
     },
     "execution_count": 23,
     "metadata": {},
     "output_type": "execute_result"
    }
   ],
   "source": [
    "melted_df.head()"
   ]
  },
  {
   "cell_type": "code",
   "execution_count": 24,
   "metadata": {},
   "outputs": [
    {
     "data": {
      "application/vnd.plotly.v1+json": {
       "config": {
        "plotlyServerURL": "https://plot.ly"
       },
       "data": [
        {
         "hovertemplate": "loss_type=loss<br>layer=%{x}<br>loss value=%{y}<extra></extra>",
         "legendgroup": "loss",
         "line": {
          "color": "#636efa",
          "dash": "solid"
         },
         "marker": {
          "symbol": "circle"
         },
         "mode": "lines",
         "name": "loss",
         "orientation": "v",
         "showlegend": true,
         "type": "scatter",
         "x": [
          1,
          2,
          3,
          4,
          5,
          6,
          7,
          8,
          9,
          10,
          11,
          12,
          13,
          14,
          15,
          16,
          17
         ],
         "xaxis": "x",
         "y": [
          3.265625,
          3.1875,
          3.546875,
          3.390625,
          3.453125,
          1.8046875,
          1.3828125,
          2.140625,
          1.484375,
          1.8125,
          2.234375,
          0.466796875,
          0.73828125,
          2.109375,
          5.9375,
          4.8125,
          5.0625
         ],
         "yaxis": "y"
        },
        {
         "hovertemplate": "loss_type=tv_loss<br>layer=%{x}<br>loss value=%{y}<extra></extra>",
         "legendgroup": "tv_loss",
         "line": {
          "color": "#EF553B",
          "dash": "solid"
         },
         "marker": {
          "symbol": "circle"
         },
         "mode": "lines",
         "name": "tv_loss",
         "orientation": "v",
         "showlegend": true,
         "type": "scatter",
         "x": [
          1,
          2,
          3,
          4,
          5,
          6,
          7,
          8,
          9,
          10,
          11,
          12,
          13,
          14,
          15,
          16,
          17
         ],
         "xaxis": "x",
         "y": [
          3.359375,
          3.015625,
          3.046875,
          2.734375,
          2.734375,
          1.9453125,
          1.328125,
          1.78125,
          1.7421875,
          1.8125,
          2.171875,
          0.33203125,
          0.427734375,
          0.9140625,
          4.21875,
          4.3125,
          5.0625
         ],
         "yaxis": "y"
        },
        {
         "hovertemplate": "loss_type=ito_loss<br>layer=%{x}<br>loss value=%{y}<extra></extra>",
         "legendgroup": "ito_loss",
         "line": {
          "color": "#00cc96",
          "dash": "solid"
         },
         "marker": {
          "symbol": "circle"
         },
         "mode": "lines",
         "name": "ito_loss",
         "orientation": "v",
         "showlegend": true,
         "type": "scatter",
         "x": [
          1,
          2,
          3,
          4,
          5,
          6,
          7,
          8,
          9,
          10,
          11,
          12,
          13,
          14,
          15,
          16,
          17
         ],
         "xaxis": "x",
         "y": [
          3.359375,
          3.0625,
          3.515625,
          3.15625,
          3.421875,
          2.796875,
          2.59375,
          3.078125,
          2.171875,
          2.3125,
          3.5625,
          0.765625,
          0.97265625,
          0.828125,
          2.140625,
          3.84375,
          4.6875
         ],
         "yaxis": "y"
        },
        {
         "hovertemplate": "loss_type=recon_loss<br>layer=%{x}<br>loss value=%{y}<extra></extra>",
         "legendgroup": "recon_loss",
         "line": {
          "color": "#ab63fa",
          "dash": "solid"
         },
         "marker": {
          "symbol": "circle"
         },
         "mode": "lines",
         "name": "recon_loss",
         "orientation": "v",
         "showlegend": true,
         "type": "scatter",
         "x": [
          1,
          2,
          3,
          4,
          5,
          6,
          7,
          8,
          9,
          10,
          11,
          12,
          13,
          14,
          15,
          16,
          17
         ],
         "xaxis": "x",
         "y": [
          3.265625,
          3.15625,
          3.453125,
          3.328125,
          3.34375,
          2.71875,
          2.484375,
          3.296875,
          2.453125,
          2.828125,
          3.265625,
          1.0859375,
          1.6640625,
          4,
          5.75,
          4.59375,
          4.90625
         ],
         "yaxis": "y"
        }
       ],
       "layout": {
        "legend": {
         "title": {
          "text": "loss_type"
         },
         "tracegroupgap": 0
        },
        "margin": {
         "t": 60
        },
        "template": {
         "data": {
          "bar": [
           {
            "error_x": {
             "color": "#2a3f5f"
            },
            "error_y": {
             "color": "#2a3f5f"
            },
            "marker": {
             "line": {
              "color": "#E5ECF6",
              "width": 0.5
             },
             "pattern": {
              "fillmode": "overlay",
              "size": 10,
              "solidity": 0.2
             }
            },
            "type": "bar"
           }
          ],
          "barpolar": [
           {
            "marker": {
             "line": {
              "color": "#E5ECF6",
              "width": 0.5
             },
             "pattern": {
              "fillmode": "overlay",
              "size": 10,
              "solidity": 0.2
             }
            },
            "type": "barpolar"
           }
          ],
          "carpet": [
           {
            "aaxis": {
             "endlinecolor": "#2a3f5f",
             "gridcolor": "white",
             "linecolor": "white",
             "minorgridcolor": "white",
             "startlinecolor": "#2a3f5f"
            },
            "baxis": {
             "endlinecolor": "#2a3f5f",
             "gridcolor": "white",
             "linecolor": "white",
             "minorgridcolor": "white",
             "startlinecolor": "#2a3f5f"
            },
            "type": "carpet"
           }
          ],
          "choropleth": [
           {
            "colorbar": {
             "outlinewidth": 0,
             "ticks": ""
            },
            "type": "choropleth"
           }
          ],
          "contour": [
           {
            "colorbar": {
             "outlinewidth": 0,
             "ticks": ""
            },
            "colorscale": [
             [
              0,
              "#0d0887"
             ],
             [
              0.1111111111111111,
              "#46039f"
             ],
             [
              0.2222222222222222,
              "#7201a8"
             ],
             [
              0.3333333333333333,
              "#9c179e"
             ],
             [
              0.4444444444444444,
              "#bd3786"
             ],
             [
              0.5555555555555556,
              "#d8576b"
             ],
             [
              0.6666666666666666,
              "#ed7953"
             ],
             [
              0.7777777777777778,
              "#fb9f3a"
             ],
             [
              0.8888888888888888,
              "#fdca26"
             ],
             [
              1,
              "#f0f921"
             ]
            ],
            "type": "contour"
           }
          ],
          "contourcarpet": [
           {
            "colorbar": {
             "outlinewidth": 0,
             "ticks": ""
            },
            "type": "contourcarpet"
           }
          ],
          "heatmap": [
           {
            "colorbar": {
             "outlinewidth": 0,
             "ticks": ""
            },
            "colorscale": [
             [
              0,
              "#0d0887"
             ],
             [
              0.1111111111111111,
              "#46039f"
             ],
             [
              0.2222222222222222,
              "#7201a8"
             ],
             [
              0.3333333333333333,
              "#9c179e"
             ],
             [
              0.4444444444444444,
              "#bd3786"
             ],
             [
              0.5555555555555556,
              "#d8576b"
             ],
             [
              0.6666666666666666,
              "#ed7953"
             ],
             [
              0.7777777777777778,
              "#fb9f3a"
             ],
             [
              0.8888888888888888,
              "#fdca26"
             ],
             [
              1,
              "#f0f921"
             ]
            ],
            "type": "heatmap"
           }
          ],
          "heatmapgl": [
           {
            "colorbar": {
             "outlinewidth": 0,
             "ticks": ""
            },
            "colorscale": [
             [
              0,
              "#0d0887"
             ],
             [
              0.1111111111111111,
              "#46039f"
             ],
             [
              0.2222222222222222,
              "#7201a8"
             ],
             [
              0.3333333333333333,
              "#9c179e"
             ],
             [
              0.4444444444444444,
              "#bd3786"
             ],
             [
              0.5555555555555556,
              "#d8576b"
             ],
             [
              0.6666666666666666,
              "#ed7953"
             ],
             [
              0.7777777777777778,
              "#fb9f3a"
             ],
             [
              0.8888888888888888,
              "#fdca26"
             ],
             [
              1,
              "#f0f921"
             ]
            ],
            "type": "heatmapgl"
           }
          ],
          "histogram": [
           {
            "marker": {
             "pattern": {
              "fillmode": "overlay",
              "size": 10,
              "solidity": 0.2
             }
            },
            "type": "histogram"
           }
          ],
          "histogram2d": [
           {
            "colorbar": {
             "outlinewidth": 0,
             "ticks": ""
            },
            "colorscale": [
             [
              0,
              "#0d0887"
             ],
             [
              0.1111111111111111,
              "#46039f"
             ],
             [
              0.2222222222222222,
              "#7201a8"
             ],
             [
              0.3333333333333333,
              "#9c179e"
             ],
             [
              0.4444444444444444,
              "#bd3786"
             ],
             [
              0.5555555555555556,
              "#d8576b"
             ],
             [
              0.6666666666666666,
              "#ed7953"
             ],
             [
              0.7777777777777778,
              "#fb9f3a"
             ],
             [
              0.8888888888888888,
              "#fdca26"
             ],
             [
              1,
              "#f0f921"
             ]
            ],
            "type": "histogram2d"
           }
          ],
          "histogram2dcontour": [
           {
            "colorbar": {
             "outlinewidth": 0,
             "ticks": ""
            },
            "colorscale": [
             [
              0,
              "#0d0887"
             ],
             [
              0.1111111111111111,
              "#46039f"
             ],
             [
              0.2222222222222222,
              "#7201a8"
             ],
             [
              0.3333333333333333,
              "#9c179e"
             ],
             [
              0.4444444444444444,
              "#bd3786"
             ],
             [
              0.5555555555555556,
              "#d8576b"
             ],
             [
              0.6666666666666666,
              "#ed7953"
             ],
             [
              0.7777777777777778,
              "#fb9f3a"
             ],
             [
              0.8888888888888888,
              "#fdca26"
             ],
             [
              1,
              "#f0f921"
             ]
            ],
            "type": "histogram2dcontour"
           }
          ],
          "mesh3d": [
           {
            "colorbar": {
             "outlinewidth": 0,
             "ticks": ""
            },
            "type": "mesh3d"
           }
          ],
          "parcoords": [
           {
            "line": {
             "colorbar": {
              "outlinewidth": 0,
              "ticks": ""
             }
            },
            "type": "parcoords"
           }
          ],
          "pie": [
           {
            "automargin": true,
            "type": "pie"
           }
          ],
          "scatter": [
           {
            "fillpattern": {
             "fillmode": "overlay",
             "size": 10,
             "solidity": 0.2
            },
            "type": "scatter"
           }
          ],
          "scatter3d": [
           {
            "line": {
             "colorbar": {
              "outlinewidth": 0,
              "ticks": ""
             }
            },
            "marker": {
             "colorbar": {
              "outlinewidth": 0,
              "ticks": ""
             }
            },
            "type": "scatter3d"
           }
          ],
          "scattercarpet": [
           {
            "marker": {
             "colorbar": {
              "outlinewidth": 0,
              "ticks": ""
             }
            },
            "type": "scattercarpet"
           }
          ],
          "scattergeo": [
           {
            "marker": {
             "colorbar": {
              "outlinewidth": 0,
              "ticks": ""
             }
            },
            "type": "scattergeo"
           }
          ],
          "scattergl": [
           {
            "marker": {
             "colorbar": {
              "outlinewidth": 0,
              "ticks": ""
             }
            },
            "type": "scattergl"
           }
          ],
          "scattermapbox": [
           {
            "marker": {
             "colorbar": {
              "outlinewidth": 0,
              "ticks": ""
             }
            },
            "type": "scattermapbox"
           }
          ],
          "scatterpolar": [
           {
            "marker": {
             "colorbar": {
              "outlinewidth": 0,
              "ticks": ""
             }
            },
            "type": "scatterpolar"
           }
          ],
          "scatterpolargl": [
           {
            "marker": {
             "colorbar": {
              "outlinewidth": 0,
              "ticks": ""
             }
            },
            "type": "scatterpolargl"
           }
          ],
          "scatterternary": [
           {
            "marker": {
             "colorbar": {
              "outlinewidth": 0,
              "ticks": ""
             }
            },
            "type": "scatterternary"
           }
          ],
          "surface": [
           {
            "colorbar": {
             "outlinewidth": 0,
             "ticks": ""
            },
            "colorscale": [
             [
              0,
              "#0d0887"
             ],
             [
              0.1111111111111111,
              "#46039f"
             ],
             [
              0.2222222222222222,
              "#7201a8"
             ],
             [
              0.3333333333333333,
              "#9c179e"
             ],
             [
              0.4444444444444444,
              "#bd3786"
             ],
             [
              0.5555555555555556,
              "#d8576b"
             ],
             [
              0.6666666666666666,
              "#ed7953"
             ],
             [
              0.7777777777777778,
              "#fb9f3a"
             ],
             [
              0.8888888888888888,
              "#fdca26"
             ],
             [
              1,
              "#f0f921"
             ]
            ],
            "type": "surface"
           }
          ],
          "table": [
           {
            "cells": {
             "fill": {
              "color": "#EBF0F8"
             },
             "line": {
              "color": "white"
             }
            },
            "header": {
             "fill": {
              "color": "#C8D4E3"
             },
             "line": {
              "color": "white"
             }
            },
            "type": "table"
           }
          ]
         },
         "layout": {
          "annotationdefaults": {
           "arrowcolor": "#2a3f5f",
           "arrowhead": 0,
           "arrowwidth": 1
          },
          "autotypenumbers": "strict",
          "coloraxis": {
           "colorbar": {
            "outlinewidth": 0,
            "ticks": ""
           }
          },
          "colorscale": {
           "diverging": [
            [
             0,
             "#8e0152"
            ],
            [
             0.1,
             "#c51b7d"
            ],
            [
             0.2,
             "#de77ae"
            ],
            [
             0.3,
             "#f1b6da"
            ],
            [
             0.4,
             "#fde0ef"
            ],
            [
             0.5,
             "#f7f7f7"
            ],
            [
             0.6,
             "#e6f5d0"
            ],
            [
             0.7,
             "#b8e186"
            ],
            [
             0.8,
             "#7fbc41"
            ],
            [
             0.9,
             "#4d9221"
            ],
            [
             1,
             "#276419"
            ]
           ],
           "sequential": [
            [
             0,
             "#0d0887"
            ],
            [
             0.1111111111111111,
             "#46039f"
            ],
            [
             0.2222222222222222,
             "#7201a8"
            ],
            [
             0.3333333333333333,
             "#9c179e"
            ],
            [
             0.4444444444444444,
             "#bd3786"
            ],
            [
             0.5555555555555556,
             "#d8576b"
            ],
            [
             0.6666666666666666,
             "#ed7953"
            ],
            [
             0.7777777777777778,
             "#fb9f3a"
            ],
            [
             0.8888888888888888,
             "#fdca26"
            ],
            [
             1,
             "#f0f921"
            ]
           ],
           "sequentialminus": [
            [
             0,
             "#0d0887"
            ],
            [
             0.1111111111111111,
             "#46039f"
            ],
            [
             0.2222222222222222,
             "#7201a8"
            ],
            [
             0.3333333333333333,
             "#9c179e"
            ],
            [
             0.4444444444444444,
             "#bd3786"
            ],
            [
             0.5555555555555556,
             "#d8576b"
            ],
            [
             0.6666666666666666,
             "#ed7953"
            ],
            [
             0.7777777777777778,
             "#fb9f3a"
            ],
            [
             0.8888888888888888,
             "#fdca26"
            ],
            [
             1,
             "#f0f921"
            ]
           ]
          },
          "colorway": [
           "#636efa",
           "#EF553B",
           "#00cc96",
           "#ab63fa",
           "#FFA15A",
           "#19d3f3",
           "#FF6692",
           "#B6E880",
           "#FF97FF",
           "#FECB52"
          ],
          "font": {
           "color": "#2a3f5f"
          },
          "geo": {
           "bgcolor": "white",
           "lakecolor": "white",
           "landcolor": "#E5ECF6",
           "showlakes": true,
           "showland": true,
           "subunitcolor": "white"
          },
          "hoverlabel": {
           "align": "left"
          },
          "hovermode": "closest",
          "mapbox": {
           "style": "light"
          },
          "paper_bgcolor": "white",
          "plot_bgcolor": "#E5ECF6",
          "polar": {
           "angularaxis": {
            "gridcolor": "white",
            "linecolor": "white",
            "ticks": ""
           },
           "bgcolor": "#E5ECF6",
           "radialaxis": {
            "gridcolor": "white",
            "linecolor": "white",
            "ticks": ""
           }
          },
          "scene": {
           "xaxis": {
            "backgroundcolor": "#E5ECF6",
            "gridcolor": "white",
            "gridwidth": 2,
            "linecolor": "white",
            "showbackground": true,
            "ticks": "",
            "zerolinecolor": "white"
           },
           "yaxis": {
            "backgroundcolor": "#E5ECF6",
            "gridcolor": "white",
            "gridwidth": 2,
            "linecolor": "white",
            "showbackground": true,
            "ticks": "",
            "zerolinecolor": "white"
           },
           "zaxis": {
            "backgroundcolor": "#E5ECF6",
            "gridcolor": "white",
            "gridwidth": 2,
            "linecolor": "white",
            "showbackground": true,
            "ticks": "",
            "zerolinecolor": "white"
           }
          },
          "shapedefaults": {
           "line": {
            "color": "#2a3f5f"
           }
          },
          "ternary": {
           "aaxis": {
            "gridcolor": "white",
            "linecolor": "white",
            "ticks": ""
           },
           "baxis": {
            "gridcolor": "white",
            "linecolor": "white",
            "ticks": ""
           },
           "bgcolor": "#E5ECF6",
           "caxis": {
            "gridcolor": "white",
            "linecolor": "white",
            "ticks": ""
           }
          },
          "title": {
           "x": 0.05
          },
          "xaxis": {
           "automargin": true,
           "gridcolor": "white",
           "linecolor": "white",
           "ticks": "",
           "title": {
            "standoff": 15
           },
           "zerolinecolor": "white",
           "zerolinewidth": 2
          },
          "yaxis": {
           "automargin": true,
           "gridcolor": "white",
           "linecolor": "white",
           "ticks": "",
           "title": {
            "standoff": 15
           },
           "zerolinecolor": "white",
           "zerolinewidth": 2
          }
         }
        },
        "xaxis": {
         "anchor": "y",
         "domain": [
          0,
          1
         ],
         "title": {
          "text": "layer"
         }
        },
        "yaxis": {
         "anchor": "x",
         "domain": [
          0,
          1
         ],
         "title": {
          "text": "loss value"
         }
        }
       }
      },
      "text/html": [
       "<div>                            <div id=\"84f30275-d7ca-45e3-88bf-cbeab8562a60\" class=\"plotly-graph-div\" style=\"height:525px; width:100%;\"></div>            <script type=\"text/javascript\">                require([\"plotly\"], function(Plotly) {                    window.PLOTLYENV=window.PLOTLYENV || {};                                    if (document.getElementById(\"84f30275-d7ca-45e3-88bf-cbeab8562a60\")) {                    Plotly.newPlot(                        \"84f30275-d7ca-45e3-88bf-cbeab8562a60\",                        [{\"hovertemplate\":\"loss_type=loss\\u003cbr\\u003elayer=%{x}\\u003cbr\\u003eloss value=%{y}\\u003cextra\\u003e\\u003c\\u002fextra\\u003e\",\"legendgroup\":\"loss\",\"line\":{\"color\":\"#636efa\",\"dash\":\"solid\"},\"marker\":{\"symbol\":\"circle\"},\"mode\":\"lines\",\"name\":\"loss\",\"orientation\":\"v\",\"showlegend\":true,\"x\":[1,2,3,4,5,6,7,8,9,10,11,12,13,14,15,16,17],\"xaxis\":\"x\",\"y\":[3.265625,3.1875,3.546875,3.390625,3.453125,1.8046875,1.3828125,2.140625,1.484375,1.8125,2.234375,0.466796875,0.73828125,2.109375,5.9375,4.8125,5.0625],\"yaxis\":\"y\",\"type\":\"scatter\"},{\"hovertemplate\":\"loss_type=tv_loss\\u003cbr\\u003elayer=%{x}\\u003cbr\\u003eloss value=%{y}\\u003cextra\\u003e\\u003c\\u002fextra\\u003e\",\"legendgroup\":\"tv_loss\",\"line\":{\"color\":\"#EF553B\",\"dash\":\"solid\"},\"marker\":{\"symbol\":\"circle\"},\"mode\":\"lines\",\"name\":\"tv_loss\",\"orientation\":\"v\",\"showlegend\":true,\"x\":[1,2,3,4,5,6,7,8,9,10,11,12,13,14,15,16,17],\"xaxis\":\"x\",\"y\":[3.359375,3.015625,3.046875,2.734375,2.734375,1.9453125,1.328125,1.78125,1.7421875,1.8125,2.171875,0.33203125,0.427734375,0.9140625,4.21875,4.3125,5.0625],\"yaxis\":\"y\",\"type\":\"scatter\"},{\"hovertemplate\":\"loss_type=ito_loss\\u003cbr\\u003elayer=%{x}\\u003cbr\\u003eloss value=%{y}\\u003cextra\\u003e\\u003c\\u002fextra\\u003e\",\"legendgroup\":\"ito_loss\",\"line\":{\"color\":\"#00cc96\",\"dash\":\"solid\"},\"marker\":{\"symbol\":\"circle\"},\"mode\":\"lines\",\"name\":\"ito_loss\",\"orientation\":\"v\",\"showlegend\":true,\"x\":[1,2,3,4,5,6,7,8,9,10,11,12,13,14,15,16,17],\"xaxis\":\"x\",\"y\":[3.359375,3.0625,3.515625,3.15625,3.421875,2.796875,2.59375,3.078125,2.171875,2.3125,3.5625,0.765625,0.97265625,0.828125,2.140625,3.84375,4.6875],\"yaxis\":\"y\",\"type\":\"scatter\"},{\"hovertemplate\":\"loss_type=recon_loss\\u003cbr\\u003elayer=%{x}\\u003cbr\\u003eloss value=%{y}\\u003cextra\\u003e\\u003c\\u002fextra\\u003e\",\"legendgroup\":\"recon_loss\",\"line\":{\"color\":\"#ab63fa\",\"dash\":\"solid\"},\"marker\":{\"symbol\":\"circle\"},\"mode\":\"lines\",\"name\":\"recon_loss\",\"orientation\":\"v\",\"showlegend\":true,\"x\":[1,2,3,4,5,6,7,8,9,10,11,12,13,14,15,16,17],\"xaxis\":\"x\",\"y\":[3.265625,3.15625,3.453125,3.328125,3.34375,2.71875,2.484375,3.296875,2.453125,2.828125,3.265625,1.0859375,1.6640625,4.0,5.75,4.59375,4.90625],\"yaxis\":\"y\",\"type\":\"scatter\"}],                        {\"template\":{\"data\":{\"histogram2dcontour\":[{\"type\":\"histogram2dcontour\",\"colorbar\":{\"outlinewidth\":0,\"ticks\":\"\"},\"colorscale\":[[0.0,\"#0d0887\"],[0.1111111111111111,\"#46039f\"],[0.2222222222222222,\"#7201a8\"],[0.3333333333333333,\"#9c179e\"],[0.4444444444444444,\"#bd3786\"],[0.5555555555555556,\"#d8576b\"],[0.6666666666666666,\"#ed7953\"],[0.7777777777777778,\"#fb9f3a\"],[0.8888888888888888,\"#fdca26\"],[1.0,\"#f0f921\"]]}],\"choropleth\":[{\"type\":\"choropleth\",\"colorbar\":{\"outlinewidth\":0,\"ticks\":\"\"}}],\"histogram2d\":[{\"type\":\"histogram2d\",\"colorbar\":{\"outlinewidth\":0,\"ticks\":\"\"},\"colorscale\":[[0.0,\"#0d0887\"],[0.1111111111111111,\"#46039f\"],[0.2222222222222222,\"#7201a8\"],[0.3333333333333333,\"#9c179e\"],[0.4444444444444444,\"#bd3786\"],[0.5555555555555556,\"#d8576b\"],[0.6666666666666666,\"#ed7953\"],[0.7777777777777778,\"#fb9f3a\"],[0.8888888888888888,\"#fdca26\"],[1.0,\"#f0f921\"]]}],\"heatmap\":[{\"type\":\"heatmap\",\"colorbar\":{\"outlinewidth\":0,\"ticks\":\"\"},\"colorscale\":[[0.0,\"#0d0887\"],[0.1111111111111111,\"#46039f\"],[0.2222222222222222,\"#7201a8\"],[0.3333333333333333,\"#9c179e\"],[0.4444444444444444,\"#bd3786\"],[0.5555555555555556,\"#d8576b\"],[0.6666666666666666,\"#ed7953\"],[0.7777777777777778,\"#fb9f3a\"],[0.8888888888888888,\"#fdca26\"],[1.0,\"#f0f921\"]]}],\"heatmapgl\":[{\"type\":\"heatmapgl\",\"colorbar\":{\"outlinewidth\":0,\"ticks\":\"\"},\"colorscale\":[[0.0,\"#0d0887\"],[0.1111111111111111,\"#46039f\"],[0.2222222222222222,\"#7201a8\"],[0.3333333333333333,\"#9c179e\"],[0.4444444444444444,\"#bd3786\"],[0.5555555555555556,\"#d8576b\"],[0.6666666666666666,\"#ed7953\"],[0.7777777777777778,\"#fb9f3a\"],[0.8888888888888888,\"#fdca26\"],[1.0,\"#f0f921\"]]}],\"contourcarpet\":[{\"type\":\"contourcarpet\",\"colorbar\":{\"outlinewidth\":0,\"ticks\":\"\"}}],\"contour\":[{\"type\":\"contour\",\"colorbar\":{\"outlinewidth\":0,\"ticks\":\"\"},\"colorscale\":[[0.0,\"#0d0887\"],[0.1111111111111111,\"#46039f\"],[0.2222222222222222,\"#7201a8\"],[0.3333333333333333,\"#9c179e\"],[0.4444444444444444,\"#bd3786\"],[0.5555555555555556,\"#d8576b\"],[0.6666666666666666,\"#ed7953\"],[0.7777777777777778,\"#fb9f3a\"],[0.8888888888888888,\"#fdca26\"],[1.0,\"#f0f921\"]]}],\"surface\":[{\"type\":\"surface\",\"colorbar\":{\"outlinewidth\":0,\"ticks\":\"\"},\"colorscale\":[[0.0,\"#0d0887\"],[0.1111111111111111,\"#46039f\"],[0.2222222222222222,\"#7201a8\"],[0.3333333333333333,\"#9c179e\"],[0.4444444444444444,\"#bd3786\"],[0.5555555555555556,\"#d8576b\"],[0.6666666666666666,\"#ed7953\"],[0.7777777777777778,\"#fb9f3a\"],[0.8888888888888888,\"#fdca26\"],[1.0,\"#f0f921\"]]}],\"mesh3d\":[{\"type\":\"mesh3d\",\"colorbar\":{\"outlinewidth\":0,\"ticks\":\"\"}}],\"scatter\":[{\"fillpattern\":{\"fillmode\":\"overlay\",\"size\":10,\"solidity\":0.2},\"type\":\"scatter\"}],\"parcoords\":[{\"type\":\"parcoords\",\"line\":{\"colorbar\":{\"outlinewidth\":0,\"ticks\":\"\"}}}],\"scatterpolargl\":[{\"type\":\"scatterpolargl\",\"marker\":{\"colorbar\":{\"outlinewidth\":0,\"ticks\":\"\"}}}],\"bar\":[{\"error_x\":{\"color\":\"#2a3f5f\"},\"error_y\":{\"color\":\"#2a3f5f\"},\"marker\":{\"line\":{\"color\":\"#E5ECF6\",\"width\":0.5},\"pattern\":{\"fillmode\":\"overlay\",\"size\":10,\"solidity\":0.2}},\"type\":\"bar\"}],\"scattergeo\":[{\"type\":\"scattergeo\",\"marker\":{\"colorbar\":{\"outlinewidth\":0,\"ticks\":\"\"}}}],\"scatterpolar\":[{\"type\":\"scatterpolar\",\"marker\":{\"colorbar\":{\"outlinewidth\":0,\"ticks\":\"\"}}}],\"histogram\":[{\"marker\":{\"pattern\":{\"fillmode\":\"overlay\",\"size\":10,\"solidity\":0.2}},\"type\":\"histogram\"}],\"scattergl\":[{\"type\":\"scattergl\",\"marker\":{\"colorbar\":{\"outlinewidth\":0,\"ticks\":\"\"}}}],\"scatter3d\":[{\"type\":\"scatter3d\",\"line\":{\"colorbar\":{\"outlinewidth\":0,\"ticks\":\"\"}},\"marker\":{\"colorbar\":{\"outlinewidth\":0,\"ticks\":\"\"}}}],\"scattermapbox\":[{\"type\":\"scattermapbox\",\"marker\":{\"colorbar\":{\"outlinewidth\":0,\"ticks\":\"\"}}}],\"scatterternary\":[{\"type\":\"scatterternary\",\"marker\":{\"colorbar\":{\"outlinewidth\":0,\"ticks\":\"\"}}}],\"scattercarpet\":[{\"type\":\"scattercarpet\",\"marker\":{\"colorbar\":{\"outlinewidth\":0,\"ticks\":\"\"}}}],\"carpet\":[{\"aaxis\":{\"endlinecolor\":\"#2a3f5f\",\"gridcolor\":\"white\",\"linecolor\":\"white\",\"minorgridcolor\":\"white\",\"startlinecolor\":\"#2a3f5f\"},\"baxis\":{\"endlinecolor\":\"#2a3f5f\",\"gridcolor\":\"white\",\"linecolor\":\"white\",\"minorgridcolor\":\"white\",\"startlinecolor\":\"#2a3f5f\"},\"type\":\"carpet\"}],\"table\":[{\"cells\":{\"fill\":{\"color\":\"#EBF0F8\"},\"line\":{\"color\":\"white\"}},\"header\":{\"fill\":{\"color\":\"#C8D4E3\"},\"line\":{\"color\":\"white\"}},\"type\":\"table\"}],\"barpolar\":[{\"marker\":{\"line\":{\"color\":\"#E5ECF6\",\"width\":0.5},\"pattern\":{\"fillmode\":\"overlay\",\"size\":10,\"solidity\":0.2}},\"type\":\"barpolar\"}],\"pie\":[{\"automargin\":true,\"type\":\"pie\"}]},\"layout\":{\"autotypenumbers\":\"strict\",\"colorway\":[\"#636efa\",\"#EF553B\",\"#00cc96\",\"#ab63fa\",\"#FFA15A\",\"#19d3f3\",\"#FF6692\",\"#B6E880\",\"#FF97FF\",\"#FECB52\"],\"font\":{\"color\":\"#2a3f5f\"},\"hovermode\":\"closest\",\"hoverlabel\":{\"align\":\"left\"},\"paper_bgcolor\":\"white\",\"plot_bgcolor\":\"#E5ECF6\",\"polar\":{\"bgcolor\":\"#E5ECF6\",\"angularaxis\":{\"gridcolor\":\"white\",\"linecolor\":\"white\",\"ticks\":\"\"},\"radialaxis\":{\"gridcolor\":\"white\",\"linecolor\":\"white\",\"ticks\":\"\"}},\"ternary\":{\"bgcolor\":\"#E5ECF6\",\"aaxis\":{\"gridcolor\":\"white\",\"linecolor\":\"white\",\"ticks\":\"\"},\"baxis\":{\"gridcolor\":\"white\",\"linecolor\":\"white\",\"ticks\":\"\"},\"caxis\":{\"gridcolor\":\"white\",\"linecolor\":\"white\",\"ticks\":\"\"}},\"coloraxis\":{\"colorbar\":{\"outlinewidth\":0,\"ticks\":\"\"}},\"colorscale\":{\"sequential\":[[0.0,\"#0d0887\"],[0.1111111111111111,\"#46039f\"],[0.2222222222222222,\"#7201a8\"],[0.3333333333333333,\"#9c179e\"],[0.4444444444444444,\"#bd3786\"],[0.5555555555555556,\"#d8576b\"],[0.6666666666666666,\"#ed7953\"],[0.7777777777777778,\"#fb9f3a\"],[0.8888888888888888,\"#fdca26\"],[1.0,\"#f0f921\"]],\"sequentialminus\":[[0.0,\"#0d0887\"],[0.1111111111111111,\"#46039f\"],[0.2222222222222222,\"#7201a8\"],[0.3333333333333333,\"#9c179e\"],[0.4444444444444444,\"#bd3786\"],[0.5555555555555556,\"#d8576b\"],[0.6666666666666666,\"#ed7953\"],[0.7777777777777778,\"#fb9f3a\"],[0.8888888888888888,\"#fdca26\"],[1.0,\"#f0f921\"]],\"diverging\":[[0,\"#8e0152\"],[0.1,\"#c51b7d\"],[0.2,\"#de77ae\"],[0.3,\"#f1b6da\"],[0.4,\"#fde0ef\"],[0.5,\"#f7f7f7\"],[0.6,\"#e6f5d0\"],[0.7,\"#b8e186\"],[0.8,\"#7fbc41\"],[0.9,\"#4d9221\"],[1,\"#276419\"]]},\"xaxis\":{\"gridcolor\":\"white\",\"linecolor\":\"white\",\"ticks\":\"\",\"title\":{\"standoff\":15},\"zerolinecolor\":\"white\",\"automargin\":true,\"zerolinewidth\":2},\"yaxis\":{\"gridcolor\":\"white\",\"linecolor\":\"white\",\"ticks\":\"\",\"title\":{\"standoff\":15},\"zerolinecolor\":\"white\",\"automargin\":true,\"zerolinewidth\":2},\"scene\":{\"xaxis\":{\"backgroundcolor\":\"#E5ECF6\",\"gridcolor\":\"white\",\"linecolor\":\"white\",\"showbackground\":true,\"ticks\":\"\",\"zerolinecolor\":\"white\",\"gridwidth\":2},\"yaxis\":{\"backgroundcolor\":\"#E5ECF6\",\"gridcolor\":\"white\",\"linecolor\":\"white\",\"showbackground\":true,\"ticks\":\"\",\"zerolinecolor\":\"white\",\"gridwidth\":2},\"zaxis\":{\"backgroundcolor\":\"#E5ECF6\",\"gridcolor\":\"white\",\"linecolor\":\"white\",\"showbackground\":true,\"ticks\":\"\",\"zerolinecolor\":\"white\",\"gridwidth\":2}},\"shapedefaults\":{\"line\":{\"color\":\"#2a3f5f\"}},\"annotationdefaults\":{\"arrowcolor\":\"#2a3f5f\",\"arrowhead\":0,\"arrowwidth\":1},\"geo\":{\"bgcolor\":\"white\",\"landcolor\":\"#E5ECF6\",\"subunitcolor\":\"white\",\"showland\":true,\"showlakes\":true,\"lakecolor\":\"white\"},\"title\":{\"x\":0.05},\"mapbox\":{\"style\":\"light\"}}},\"xaxis\":{\"anchor\":\"y\",\"domain\":[0.0,1.0],\"title\":{\"text\":\"layer\"}},\"yaxis\":{\"anchor\":\"x\",\"domain\":[0.0,1.0],\"title\":{\"text\":\"loss value\"}},\"legend\":{\"title\":{\"text\":\"loss_type\"},\"tracegroupgap\":0},\"margin\":{\"t\":60}},                        {\"responsive\": true}                    ).then(function(){\n",
       "                            \n",
       "var gd = document.getElementById('84f30275-d7ca-45e3-88bf-cbeab8562a60');\n",
       "var x = new MutationObserver(function (mutations, observer) {{\n",
       "        var display = window.getComputedStyle(gd).display;\n",
       "        if (!display || display === 'none') {{\n",
       "            console.log([gd, 'removed!']);\n",
       "            Plotly.purge(gd);\n",
       "            observer.disconnect();\n",
       "        }}\n",
       "}});\n",
       "\n",
       "// Listen for the removal of the full notebook cells\n",
       "var notebookContainer = gd.closest('#notebook-container');\n",
       "if (notebookContainer) {{\n",
       "    x.observe(notebookContainer, {childList: true});\n",
       "}}\n",
       "\n",
       "// Listen for the clearing of the current output cell\n",
       "var outputEl = gd.closest('.output');\n",
       "if (outputEl) {{\n",
       "    x.observe(outputEl, {childList: true});\n",
       "}}\n",
       "\n",
       "                        })                };                });            </script>        </div>"
      ]
     },
     "metadata": {},
     "output_type": "display_data"
    }
   ],
   "source": [
    "import plotly.express as px\n",
    "\n",
    "task_name = \"algo_last\"\n",
    "\n",
    "px.line(melted_df[melted_df[\"task\"] == task_name], x=\"layer\", y=\"loss value\", color=\"loss_type\")"
   ]
  },
  {
   "cell_type": "code",
   "execution_count": 36,
   "metadata": {},
   "outputs": [],
   "source": [
    "task_names = df[\"task\"].unique()\n",
    "layers = sorted(df[\"layer\"].unique())\n",
    "\n",
    "task_losses = {task_name: {loss_type: df[df[\"task\"] == task_name][loss_type].to_numpy() for loss_type in [\"loss\", \"tv_loss\"]} for task_name in task_names}\n",
    "\n",
    "normalized_losses = {task_name: {loss_type: (task_losses[task_name][loss_type] - task_losses[task_name][loss_type].min()) / (task_losses[task_name][loss_type].max() - task_losses[task_name][loss_type].min()) for loss_type in [\"loss\", \"tv_loss\"]} for task_name in task_names}"
   ]
  },
  {
   "cell_type": "code",
   "execution_count": 43,
   "metadata": {},
   "outputs": [
    {
     "data": {
      "application/vnd.plotly.v1+json": {
       "config": {
        "plotlyServerURL": "https://plot.ly"
       },
       "data": [
        {
         "coloraxis": "coloraxis",
         "hovertemplate": "x: %{x}<br>y: %{y}<br>color: %{z}<extra></extra>",
         "name": "0",
         "type": "heatmap",
         "x": [
          "location_continent",
          "football_player_position",
          "location_religion",
          "location_language",
          "person_profession",
          "location_country",
          "country_capital",
          "person_language",
          "singular_plural",
          "present_simple_past_simple",
          "antonyms",
          "plural_singular",
          "present_simple_past_perfect",
          "present_simple_gerund",
          "en_it",
          "it_en",
          "en_fr",
          "en_es",
          "fr_en",
          "es_en",
          "algo_last",
          "algo_first",
          "algo_second"
         ],
         "xaxis": "x",
         "y": [
          1,
          2,
          3,
          4,
          5,
          6,
          7,
          8,
          9,
          10,
          11,
          12,
          13,
          14,
          15,
          16,
          17
         ],
         "yaxis": "y",
         "z": [
          [
           0.9920477137176938,
           1,
           0.9917355371900827,
           0.896640826873385,
           1,
           1,
           0.9611021069692058,
           0.9599198396793587,
           0.867109634551495,
           0.9838926174496644,
           0.9504132231404959,
           0.898989898989899,
           1,
           0.8994974874371859,
           0.93058568329718,
           0.7840909090909091,
           0.8848167539267016,
           0.9122807017543859,
           0.6483516483516484,
           0.8040816326530612,
           0.511602998928954,
           0.6909090909090909,
           0.29347826086956524
          ],
          [
           0.9840954274353877,
           0.9515738498789347,
           1,
           0.9483204134366925,
           0.9436619718309859,
           0.861003861003861,
           0.8703403565640194,
           0.9519038076152304,
           0.8803986710963455,
           0.978523489932886,
           0.6528925619834711,
           0.8383838383838383,
           0.9437751004016064,
           0.9296482412060302,
           0.9392624728850325,
           0.7954545454545454,
           0.93717277486911,
           0.9385964912280702,
           0.7472527472527473,
           0.7959183673469388,
           0.4973223848625491,
           0.3878787878787879,
           0.2608695652173913
          ],
          [
           0.9761431411530815,
           0.9031476997578692,
           0.9669421487603306,
           0.9896640826873385,
           0.8985915492957747,
           0.8455598455598455,
           0.8444084278768234,
           0.9759519038076152,
           0.9269102990033222,
           0.9302013422818792,
           0.6363636363636364,
           0.9393939393939394,
           0.8554216867469879,
           0.949748743718593,
           1,
           1,
           1,
           0.9912280701754386,
           1,
           1,
           0.5630132095680114,
           0.28484848484848485,
           0.2826086956521739
          ],
          [
           1,
           0.9612590799031477,
           0.9752066115702479,
           1,
           0.9605633802816902,
           0.8455598455598455,
           0.9481361426256077,
           1,
           0.973421926910299,
           0.9624161073825503,
           0.4462809917355372,
           1,
           0.8714859437751004,
           1,
           0.982646420824295,
           0.9772727272727273,
           0.9685863874345549,
           0.9912280701754386,
           0.989010989010989,
           0.9918367346938776,
           0.5344519814352017,
           0.24545454545454545,
           0.21739130434782608
          ],
          [
           0.9761431411530815,
           0.8837772397094431,
           0.9504132231404959,
           0.979328165374677,
           0.8760563380281691,
           0.861003861003861,
           1,
           0.9118236472945892,
           0.9667774086378738,
           1,
           0.371900826446281,
           0.9797979797979798,
           0.8393574297188755,
           0.9899497487437185,
           0.9479392624728851,
           0.9772727272727273,
           0.9267015706806283,
           0.9824561403508771,
           0.945054945054945,
           0.9836734693877551,
           0.5458764726883256,
           0.23333333333333334,
           0.29347826086956524
          ],
          [
           0.952286282306163,
           0.7723970944309927,
           0.9504132231404959,
           0.9689922480620154,
           0.8647887323943662,
           0.8687258687258688,
           0.9416531604538088,
           0.9438877755511023,
           1,
           0.9248322147651007,
           0.36363636363636365,
           0.9191919191919192,
           0.7108433734939759,
           0.9899497487437185,
           0.9479392624728851,
           0.8181818181818182,
           0.9476439790575916,
           1,
           0.8901098901098901,
           0.8693877551020408,
           0.24455551588718316,
           0.22121212121212122,
           0.29347826086956524
          ],
          [
           0.8250497017892644,
           0.6561743341404358,
           0.7933884297520661,
           0.8656330749354005,
           0.7070422535211267,
           0.6911196911196911,
           0.7860615883306321,
           0.6753507014028056,
           0.8006644518272426,
           0.6295302013422819,
           0.34710743801652894,
           0.5151515151515151,
           0.3895582329317269,
           0.8291457286432161,
           0.8524945770065075,
           0.6136363636363636,
           0.8848167539267016,
           0.9736842105263158,
           0.8131868131868132,
           0.7959183673469388,
           0.16744019992859693,
           0.20606060606060606,
           0.2391304347826087
          ],
          [
           0.856858846918489,
           0.7772397094430993,
           0.859504132231405,
           0.896640826873385,
           0.7464788732394366,
           0.6447876447876448,
           0.8119935170178282,
           0.8236472945891784,
           0.840531561461794,
           0.8228187919463087,
           0.39669421487603307,
           0.6464646464646465,
           0.5983935742971888,
           0.8844221105527639,
           0.8004338394793926,
           0.5227272727272727,
           0.7801047120418848,
           0.9210526315789473,
           0.5824175824175825,
           0.5591836734693878,
           0.305962156372724,
           0.21212121212121213,
           0.15217391304347827
          ],
          [
           0.7693836978131213,
           0.6803874092009685,
           0.8429752066115702,
           0.9069767441860465,
           0.7126760563380282,
           0.722007722007722,
           0.7017828200972447,
           0.8076152304609219,
           0.7475083056478405,
           0.887248322147651,
           0.39669421487603307,
           0.3333333333333333,
           0.7269076305220884,
           0.8793969849246231,
           0.7917570498915402,
           0.4772727272727273,
           0.6963350785340314,
           0.8859649122807017,
           0.5274725274725275,
           0.5836734693877551,
           0.18600499821492325,
           0.21212121212121213,
           0.30434782608695654
          ],
          [
           0.7852882703777336,
           0.6319612590799032,
           0.7768595041322314,
           0.896640826873385,
           0.752112676056338,
           0.6756756756756757,
           0.7212317666126418,
           0.8156312625250501,
           0.6345514950166113,
           0.7583892617449665,
           0.33884297520661155,
           0.12121212121212122,
           0.6546184738955824,
           0.7236180904522613,
           0.7917570498915402,
           0.48863636363636365,
           0.7015706806282722,
           0.8157894736842105,
           0.37362637362637363,
           0.4448979591836735,
           0.24598357729382364,
           0.2636363636363636,
           0.18478260869565216
          ],
          [
           0.7455268389662028,
           0.7530266343825666,
           0.7933884297520661,
           0.8294573643410853,
           0.780281690140845,
           0.6138996138996139,
           0.6823338735818476,
           0.7595190380761523,
           0.6478405315614618,
           0.9248322147651007,
           0.3305785123966942,
           0.3939393939393939,
           0.7590361445783133,
           0.6130653266331658,
           0.7570498915401301,
           0.29545454545454547,
           0.6073298429319371,
           0.793859649122807,
           0.3076923076923077,
           0.3551020408163265,
           0.32309889325240987,
           0.3151515151515151,
           0.06521739130434782
          ],
          [
           0.6063618290258449,
           0.4430992736077482,
           0.23553719008264462,
           0.4108527131782946,
           0.16619718309859155,
           0.003861003861003861,
           0.1280388978930308,
           0.3106212424849699,
           0.4883720930232558,
           0.15302013422818792,
           0,
           0.10101010101010101,
           0.040160642570281124,
           0.135678391959799,
           0.10629067245119306,
           0,
           0.5549738219895288,
           0,
           0,
           0,
           0,
           0.2606060606060606,
           0
          ],
          [
           0.3240556660039761,
           0,
           0.21074380165289255,
           0,
           0,
           0,
           0,
           0.08817635270541083,
           0,
           0,
           0.7768595041322314,
           0.030303030303030304,
           0,
           0,
           0.19305856832971802,
           0.10227272727272728,
           0.14136125654450263,
           0.27631578947368424,
           0.21978021978021978,
           0.09387755102040816,
           0.04962513388075687,
           0,
           0.010869565217391304
          ],
          [
           0.10934393638170974,
           0.22518159806295399,
           0.18181818181818182,
           0.007751937984496124,
           0.008450704225352112,
           0.3127413127413127,
           0.11183144246353323,
           0.014028056112224449,
           0.1760797342192691,
           0.27248322147651005,
           1,
           0,
           0.05622489959839357,
           0.12814070351758794,
           0,
           0.09090909090909091,
           0.1099476439790576,
           0.07236842105263158,
           0.01098901098901099,
           0.15918367346938775,
           0.3002499107461621,
           0.6484848484848484,
           0.2608695652173913
          ],
          [
           0,
           0.026634382566585957,
           0,
           0.06718346253229975,
           0.016901408450704224,
           0.02702702702702703,
           0.08103727714748785,
           0.03006012024048096,
           0.5548172757475083,
           0.2295302013422819,
           0.9338842975206612,
           0.1111111111111111,
           0.0963855421686747,
           0.06030150753768844,
           0.049891540130151846,
           0.29545454545454547,
           0,
           0.08333333333333333,
           0.18681318681318682,
           0.2571428571428571,
           1,
           1,
           1
          ],
          [
           0.07157057654075547,
           0.13559322033898305,
           0.13636363636363635,
           0.09819121447028424,
           0.008450704225352112,
           0.11196911196911197,
           0.12479740680713128,
           0,
           0.5614617940199336,
           0.24295302013422818,
           0.9504132231404959,
           0.5959595959595959,
           0.42971887550200805,
           0.17587939698492464,
           0.26247288503253796,
           0.4090909090909091,
           0.3193717277486911,
           0.3508771929824561,
           0.46153846153846156,
           0.33877551020408164,
           0.7943591574437701,
           0.6303030303030303,
           0.6956521739130435
          ],
          [
           0.11133200795228629,
           0.11864406779661017,
           0.030991735537190084,
           0.059431524547803614,
           0.022535211267605635,
           0.6911196911196911,
           0.4327390599675851,
           0.0781563126252505,
           0.867109634551495,
           0.25906040268456376,
           1,
           1,
           0.17269076305220885,
           0.16834170854271358,
           0.8785249457700651,
           0.2727272727272727,
           0.7172774869109948,
           0.8508771929824561,
           0.5164835164835165,
           0.17551020408163265,
           0.8400571224562656,
           0.6,
           0.5760869565217391
          ]
         ]
        }
       ],
       "layout": {
        "coloraxis": {
         "colorscale": [
          [
           0,
           "#0d0887"
          ],
          [
           0.1111111111111111,
           "#46039f"
          ],
          [
           0.2222222222222222,
           "#7201a8"
          ],
          [
           0.3333333333333333,
           "#9c179e"
          ],
          [
           0.4444444444444444,
           "#bd3786"
          ],
          [
           0.5555555555555556,
           "#d8576b"
          ],
          [
           0.6666666666666666,
           "#ed7953"
          ],
          [
           0.7777777777777778,
           "#fb9f3a"
          ],
          [
           0.8888888888888888,
           "#fdca26"
          ],
          [
           1,
           "#f0f921"
          ]
         ]
        },
        "margin": {
         "t": 60
        },
        "template": {
         "data": {
          "bar": [
           {
            "error_x": {
             "color": "#2a3f5f"
            },
            "error_y": {
             "color": "#2a3f5f"
            },
            "marker": {
             "line": {
              "color": "#E5ECF6",
              "width": 0.5
             },
             "pattern": {
              "fillmode": "overlay",
              "size": 10,
              "solidity": 0.2
             }
            },
            "type": "bar"
           }
          ],
          "barpolar": [
           {
            "marker": {
             "line": {
              "color": "#E5ECF6",
              "width": 0.5
             },
             "pattern": {
              "fillmode": "overlay",
              "size": 10,
              "solidity": 0.2
             }
            },
            "type": "barpolar"
           }
          ],
          "carpet": [
           {
            "aaxis": {
             "endlinecolor": "#2a3f5f",
             "gridcolor": "white",
             "linecolor": "white",
             "minorgridcolor": "white",
             "startlinecolor": "#2a3f5f"
            },
            "baxis": {
             "endlinecolor": "#2a3f5f",
             "gridcolor": "white",
             "linecolor": "white",
             "minorgridcolor": "white",
             "startlinecolor": "#2a3f5f"
            },
            "type": "carpet"
           }
          ],
          "choropleth": [
           {
            "colorbar": {
             "outlinewidth": 0,
             "ticks": ""
            },
            "type": "choropleth"
           }
          ],
          "contour": [
           {
            "colorbar": {
             "outlinewidth": 0,
             "ticks": ""
            },
            "colorscale": [
             [
              0,
              "#0d0887"
             ],
             [
              0.1111111111111111,
              "#46039f"
             ],
             [
              0.2222222222222222,
              "#7201a8"
             ],
             [
              0.3333333333333333,
              "#9c179e"
             ],
             [
              0.4444444444444444,
              "#bd3786"
             ],
             [
              0.5555555555555556,
              "#d8576b"
             ],
             [
              0.6666666666666666,
              "#ed7953"
             ],
             [
              0.7777777777777778,
              "#fb9f3a"
             ],
             [
              0.8888888888888888,
              "#fdca26"
             ],
             [
              1,
              "#f0f921"
             ]
            ],
            "type": "contour"
           }
          ],
          "contourcarpet": [
           {
            "colorbar": {
             "outlinewidth": 0,
             "ticks": ""
            },
            "type": "contourcarpet"
           }
          ],
          "heatmap": [
           {
            "colorbar": {
             "outlinewidth": 0,
             "ticks": ""
            },
            "colorscale": [
             [
              0,
              "#0d0887"
             ],
             [
              0.1111111111111111,
              "#46039f"
             ],
             [
              0.2222222222222222,
              "#7201a8"
             ],
             [
              0.3333333333333333,
              "#9c179e"
             ],
             [
              0.4444444444444444,
              "#bd3786"
             ],
             [
              0.5555555555555556,
              "#d8576b"
             ],
             [
              0.6666666666666666,
              "#ed7953"
             ],
             [
              0.7777777777777778,
              "#fb9f3a"
             ],
             [
              0.8888888888888888,
              "#fdca26"
             ],
             [
              1,
              "#f0f921"
             ]
            ],
            "type": "heatmap"
           }
          ],
          "heatmapgl": [
           {
            "colorbar": {
             "outlinewidth": 0,
             "ticks": ""
            },
            "colorscale": [
             [
              0,
              "#0d0887"
             ],
             [
              0.1111111111111111,
              "#46039f"
             ],
             [
              0.2222222222222222,
              "#7201a8"
             ],
             [
              0.3333333333333333,
              "#9c179e"
             ],
             [
              0.4444444444444444,
              "#bd3786"
             ],
             [
              0.5555555555555556,
              "#d8576b"
             ],
             [
              0.6666666666666666,
              "#ed7953"
             ],
             [
              0.7777777777777778,
              "#fb9f3a"
             ],
             [
              0.8888888888888888,
              "#fdca26"
             ],
             [
              1,
              "#f0f921"
             ]
            ],
            "type": "heatmapgl"
           }
          ],
          "histogram": [
           {
            "marker": {
             "pattern": {
              "fillmode": "overlay",
              "size": 10,
              "solidity": 0.2
             }
            },
            "type": "histogram"
           }
          ],
          "histogram2d": [
           {
            "colorbar": {
             "outlinewidth": 0,
             "ticks": ""
            },
            "colorscale": [
             [
              0,
              "#0d0887"
             ],
             [
              0.1111111111111111,
              "#46039f"
             ],
             [
              0.2222222222222222,
              "#7201a8"
             ],
             [
              0.3333333333333333,
              "#9c179e"
             ],
             [
              0.4444444444444444,
              "#bd3786"
             ],
             [
              0.5555555555555556,
              "#d8576b"
             ],
             [
              0.6666666666666666,
              "#ed7953"
             ],
             [
              0.7777777777777778,
              "#fb9f3a"
             ],
             [
              0.8888888888888888,
              "#fdca26"
             ],
             [
              1,
              "#f0f921"
             ]
            ],
            "type": "histogram2d"
           }
          ],
          "histogram2dcontour": [
           {
            "colorbar": {
             "outlinewidth": 0,
             "ticks": ""
            },
            "colorscale": [
             [
              0,
              "#0d0887"
             ],
             [
              0.1111111111111111,
              "#46039f"
             ],
             [
              0.2222222222222222,
              "#7201a8"
             ],
             [
              0.3333333333333333,
              "#9c179e"
             ],
             [
              0.4444444444444444,
              "#bd3786"
             ],
             [
              0.5555555555555556,
              "#d8576b"
             ],
             [
              0.6666666666666666,
              "#ed7953"
             ],
             [
              0.7777777777777778,
              "#fb9f3a"
             ],
             [
              0.8888888888888888,
              "#fdca26"
             ],
             [
              1,
              "#f0f921"
             ]
            ],
            "type": "histogram2dcontour"
           }
          ],
          "mesh3d": [
           {
            "colorbar": {
             "outlinewidth": 0,
             "ticks": ""
            },
            "type": "mesh3d"
           }
          ],
          "parcoords": [
           {
            "line": {
             "colorbar": {
              "outlinewidth": 0,
              "ticks": ""
             }
            },
            "type": "parcoords"
           }
          ],
          "pie": [
           {
            "automargin": true,
            "type": "pie"
           }
          ],
          "scatter": [
           {
            "fillpattern": {
             "fillmode": "overlay",
             "size": 10,
             "solidity": 0.2
            },
            "type": "scatter"
           }
          ],
          "scatter3d": [
           {
            "line": {
             "colorbar": {
              "outlinewidth": 0,
              "ticks": ""
             }
            },
            "marker": {
             "colorbar": {
              "outlinewidth": 0,
              "ticks": ""
             }
            },
            "type": "scatter3d"
           }
          ],
          "scattercarpet": [
           {
            "marker": {
             "colorbar": {
              "outlinewidth": 0,
              "ticks": ""
             }
            },
            "type": "scattercarpet"
           }
          ],
          "scattergeo": [
           {
            "marker": {
             "colorbar": {
              "outlinewidth": 0,
              "ticks": ""
             }
            },
            "type": "scattergeo"
           }
          ],
          "scattergl": [
           {
            "marker": {
             "colorbar": {
              "outlinewidth": 0,
              "ticks": ""
             }
            },
            "type": "scattergl"
           }
          ],
          "scattermapbox": [
           {
            "marker": {
             "colorbar": {
              "outlinewidth": 0,
              "ticks": ""
             }
            },
            "type": "scattermapbox"
           }
          ],
          "scatterpolar": [
           {
            "marker": {
             "colorbar": {
              "outlinewidth": 0,
              "ticks": ""
             }
            },
            "type": "scatterpolar"
           }
          ],
          "scatterpolargl": [
           {
            "marker": {
             "colorbar": {
              "outlinewidth": 0,
              "ticks": ""
             }
            },
            "type": "scatterpolargl"
           }
          ],
          "scatterternary": [
           {
            "marker": {
             "colorbar": {
              "outlinewidth": 0,
              "ticks": ""
             }
            },
            "type": "scatterternary"
           }
          ],
          "surface": [
           {
            "colorbar": {
             "outlinewidth": 0,
             "ticks": ""
            },
            "colorscale": [
             [
              0,
              "#0d0887"
             ],
             [
              0.1111111111111111,
              "#46039f"
             ],
             [
              0.2222222222222222,
              "#7201a8"
             ],
             [
              0.3333333333333333,
              "#9c179e"
             ],
             [
              0.4444444444444444,
              "#bd3786"
             ],
             [
              0.5555555555555556,
              "#d8576b"
             ],
             [
              0.6666666666666666,
              "#ed7953"
             ],
             [
              0.7777777777777778,
              "#fb9f3a"
             ],
             [
              0.8888888888888888,
              "#fdca26"
             ],
             [
              1,
              "#f0f921"
             ]
            ],
            "type": "surface"
           }
          ],
          "table": [
           {
            "cells": {
             "fill": {
              "color": "#EBF0F8"
             },
             "line": {
              "color": "white"
             }
            },
            "header": {
             "fill": {
              "color": "#C8D4E3"
             },
             "line": {
              "color": "white"
             }
            },
            "type": "table"
           }
          ]
         },
         "layout": {
          "annotationdefaults": {
           "arrowcolor": "#2a3f5f",
           "arrowhead": 0,
           "arrowwidth": 1
          },
          "autotypenumbers": "strict",
          "coloraxis": {
           "colorbar": {
            "outlinewidth": 0,
            "ticks": ""
           }
          },
          "colorscale": {
           "diverging": [
            [
             0,
             "#8e0152"
            ],
            [
             0.1,
             "#c51b7d"
            ],
            [
             0.2,
             "#de77ae"
            ],
            [
             0.3,
             "#f1b6da"
            ],
            [
             0.4,
             "#fde0ef"
            ],
            [
             0.5,
             "#f7f7f7"
            ],
            [
             0.6,
             "#e6f5d0"
            ],
            [
             0.7,
             "#b8e186"
            ],
            [
             0.8,
             "#7fbc41"
            ],
            [
             0.9,
             "#4d9221"
            ],
            [
             1,
             "#276419"
            ]
           ],
           "sequential": [
            [
             0,
             "#0d0887"
            ],
            [
             0.1111111111111111,
             "#46039f"
            ],
            [
             0.2222222222222222,
             "#7201a8"
            ],
            [
             0.3333333333333333,
             "#9c179e"
            ],
            [
             0.4444444444444444,
             "#bd3786"
            ],
            [
             0.5555555555555556,
             "#d8576b"
            ],
            [
             0.6666666666666666,
             "#ed7953"
            ],
            [
             0.7777777777777778,
             "#fb9f3a"
            ],
            [
             0.8888888888888888,
             "#fdca26"
            ],
            [
             1,
             "#f0f921"
            ]
           ],
           "sequentialminus": [
            [
             0,
             "#0d0887"
            ],
            [
             0.1111111111111111,
             "#46039f"
            ],
            [
             0.2222222222222222,
             "#7201a8"
            ],
            [
             0.3333333333333333,
             "#9c179e"
            ],
            [
             0.4444444444444444,
             "#bd3786"
            ],
            [
             0.5555555555555556,
             "#d8576b"
            ],
            [
             0.6666666666666666,
             "#ed7953"
            ],
            [
             0.7777777777777778,
             "#fb9f3a"
            ],
            [
             0.8888888888888888,
             "#fdca26"
            ],
            [
             1,
             "#f0f921"
            ]
           ]
          },
          "colorway": [
           "#636efa",
           "#EF553B",
           "#00cc96",
           "#ab63fa",
           "#FFA15A",
           "#19d3f3",
           "#FF6692",
           "#B6E880",
           "#FF97FF",
           "#FECB52"
          ],
          "font": {
           "color": "#2a3f5f"
          },
          "geo": {
           "bgcolor": "white",
           "lakecolor": "white",
           "landcolor": "#E5ECF6",
           "showlakes": true,
           "showland": true,
           "subunitcolor": "white"
          },
          "hoverlabel": {
           "align": "left"
          },
          "hovermode": "closest",
          "mapbox": {
           "style": "light"
          },
          "paper_bgcolor": "white",
          "plot_bgcolor": "#E5ECF6",
          "polar": {
           "angularaxis": {
            "gridcolor": "white",
            "linecolor": "white",
            "ticks": ""
           },
           "bgcolor": "#E5ECF6",
           "radialaxis": {
            "gridcolor": "white",
            "linecolor": "white",
            "ticks": ""
           }
          },
          "scene": {
           "xaxis": {
            "backgroundcolor": "#E5ECF6",
            "gridcolor": "white",
            "gridwidth": 2,
            "linecolor": "white",
            "showbackground": true,
            "ticks": "",
            "zerolinecolor": "white"
           },
           "yaxis": {
            "backgroundcolor": "#E5ECF6",
            "gridcolor": "white",
            "gridwidth": 2,
            "linecolor": "white",
            "showbackground": true,
            "ticks": "",
            "zerolinecolor": "white"
           },
           "zaxis": {
            "backgroundcolor": "#E5ECF6",
            "gridcolor": "white",
            "gridwidth": 2,
            "linecolor": "white",
            "showbackground": true,
            "ticks": "",
            "zerolinecolor": "white"
           }
          },
          "shapedefaults": {
           "line": {
            "color": "#2a3f5f"
           }
          },
          "ternary": {
           "aaxis": {
            "gridcolor": "white",
            "linecolor": "white",
            "ticks": ""
           },
           "baxis": {
            "gridcolor": "white",
            "linecolor": "white",
            "ticks": ""
           },
           "bgcolor": "#E5ECF6",
           "caxis": {
            "gridcolor": "white",
            "linecolor": "white",
            "ticks": ""
           }
          },
          "title": {
           "x": 0.05
          },
          "xaxis": {
           "automargin": true,
           "gridcolor": "white",
           "linecolor": "white",
           "ticks": "",
           "title": {
            "standoff": 15
           },
           "zerolinecolor": "white",
           "zerolinewidth": 2
          },
          "yaxis": {
           "automargin": true,
           "gridcolor": "white",
           "linecolor": "white",
           "ticks": "",
           "title": {
            "standoff": 15
           },
           "zerolinecolor": "white",
           "zerolinewidth": 2
          }
         }
        },
        "xaxis": {
         "anchor": "y",
         "constrain": "domain",
         "domain": [
          0,
          1
         ],
         "scaleanchor": "y"
        },
        "yaxis": {
         "anchor": "x",
         "autorange": "reversed",
         "constrain": "domain",
         "domain": [
          0,
          1
         ]
        }
       }
      },
      "text/html": [
       "<div>                            <div id=\"18b54a6b-7d0d-477e-8ded-90d0c02e9fe9\" class=\"plotly-graph-div\" style=\"height:525px; width:100%;\"></div>            <script type=\"text/javascript\">                require([\"plotly\"], function(Plotly) {                    window.PLOTLYENV=window.PLOTLYENV || {};                                    if (document.getElementById(\"18b54a6b-7d0d-477e-8ded-90d0c02e9fe9\")) {                    Plotly.newPlot(                        \"18b54a6b-7d0d-477e-8ded-90d0c02e9fe9\",                        [{\"coloraxis\":\"coloraxis\",\"name\":\"0\",\"x\":[\"location_continent\",\"football_player_position\",\"location_religion\",\"location_language\",\"person_profession\",\"location_country\",\"country_capital\",\"person_language\",\"singular_plural\",\"present_simple_past_simple\",\"antonyms\",\"plural_singular\",\"present_simple_past_perfect\",\"present_simple_gerund\",\"en_it\",\"it_en\",\"en_fr\",\"en_es\",\"fr_en\",\"es_en\",\"algo_last\",\"algo_first\",\"algo_second\"],\"y\":[1,2,3,4,5,6,7,8,9,10,11,12,13,14,15,16,17],\"z\":[[0.9920477137176938,1.0,0.9917355371900827,0.896640826873385,1.0,1.0,0.9611021069692058,0.9599198396793587,0.867109634551495,0.9838926174496644,0.9504132231404959,0.898989898989899,1.0,0.8994974874371859,0.93058568329718,0.7840909090909091,0.8848167539267016,0.9122807017543859,0.6483516483516484,0.8040816326530612,0.511602998928954,0.6909090909090909,0.29347826086956524],[0.9840954274353877,0.9515738498789347,1.0,0.9483204134366925,0.9436619718309859,0.861003861003861,0.8703403565640194,0.9519038076152304,0.8803986710963455,0.978523489932886,0.6528925619834711,0.8383838383838383,0.9437751004016064,0.9296482412060302,0.9392624728850325,0.7954545454545454,0.93717277486911,0.9385964912280702,0.7472527472527473,0.7959183673469388,0.4973223848625491,0.3878787878787879,0.2608695652173913],[0.9761431411530815,0.9031476997578692,0.9669421487603306,0.9896640826873385,0.8985915492957747,0.8455598455598455,0.8444084278768234,0.9759519038076152,0.9269102990033222,0.9302013422818792,0.6363636363636364,0.9393939393939394,0.8554216867469879,0.949748743718593,1.0,1.0,1.0,0.9912280701754386,1.0,1.0,0.5630132095680114,0.28484848484848485,0.2826086956521739],[1.0,0.9612590799031477,0.9752066115702479,1.0,0.9605633802816902,0.8455598455598455,0.9481361426256077,1.0,0.973421926910299,0.9624161073825503,0.4462809917355372,1.0,0.8714859437751004,1.0,0.982646420824295,0.9772727272727273,0.9685863874345549,0.9912280701754386,0.989010989010989,0.9918367346938776,0.5344519814352017,0.24545454545454545,0.21739130434782608],[0.9761431411530815,0.8837772397094431,0.9504132231404959,0.979328165374677,0.8760563380281691,0.861003861003861,1.0,0.9118236472945892,0.9667774086378738,1.0,0.371900826446281,0.9797979797979798,0.8393574297188755,0.9899497487437185,0.9479392624728851,0.9772727272727273,0.9267015706806283,0.9824561403508771,0.945054945054945,0.9836734693877551,0.5458764726883256,0.23333333333333334,0.29347826086956524],[0.952286282306163,0.7723970944309927,0.9504132231404959,0.9689922480620154,0.8647887323943662,0.8687258687258688,0.9416531604538088,0.9438877755511023,1.0,0.9248322147651007,0.36363636363636365,0.9191919191919192,0.7108433734939759,0.9899497487437185,0.9479392624728851,0.8181818181818182,0.9476439790575916,1.0,0.8901098901098901,0.8693877551020408,0.24455551588718316,0.22121212121212122,0.29347826086956524],[0.8250497017892644,0.6561743341404358,0.7933884297520661,0.8656330749354005,0.7070422535211267,0.6911196911196911,0.7860615883306321,0.6753507014028056,0.8006644518272426,0.6295302013422819,0.34710743801652894,0.5151515151515151,0.3895582329317269,0.8291457286432161,0.8524945770065075,0.6136363636363636,0.8848167539267016,0.9736842105263158,0.8131868131868132,0.7959183673469388,0.16744019992859693,0.20606060606060606,0.2391304347826087],[0.856858846918489,0.7772397094430993,0.859504132231405,0.896640826873385,0.7464788732394366,0.6447876447876448,0.8119935170178282,0.8236472945891784,0.840531561461794,0.8228187919463087,0.39669421487603307,0.6464646464646465,0.5983935742971888,0.8844221105527639,0.8004338394793926,0.5227272727272727,0.7801047120418848,0.9210526315789473,0.5824175824175825,0.5591836734693878,0.305962156372724,0.21212121212121213,0.15217391304347827],[0.7693836978131213,0.6803874092009685,0.8429752066115702,0.9069767441860465,0.7126760563380282,0.722007722007722,0.7017828200972447,0.8076152304609219,0.7475083056478405,0.887248322147651,0.39669421487603307,0.3333333333333333,0.7269076305220884,0.8793969849246231,0.7917570498915402,0.4772727272727273,0.6963350785340314,0.8859649122807017,0.5274725274725275,0.5836734693877551,0.18600499821492325,0.21212121212121213,0.30434782608695654],[0.7852882703777336,0.6319612590799032,0.7768595041322314,0.896640826873385,0.752112676056338,0.6756756756756757,0.7212317666126418,0.8156312625250501,0.6345514950166113,0.7583892617449665,0.33884297520661155,0.12121212121212122,0.6546184738955824,0.7236180904522613,0.7917570498915402,0.48863636363636365,0.7015706806282722,0.8157894736842105,0.37362637362637363,0.4448979591836735,0.24598357729382364,0.2636363636363636,0.18478260869565216],[0.7455268389662028,0.7530266343825666,0.7933884297520661,0.8294573643410853,0.780281690140845,0.6138996138996139,0.6823338735818476,0.7595190380761523,0.6478405315614618,0.9248322147651007,0.3305785123966942,0.3939393939393939,0.7590361445783133,0.6130653266331658,0.7570498915401301,0.29545454545454547,0.6073298429319371,0.793859649122807,0.3076923076923077,0.3551020408163265,0.32309889325240987,0.3151515151515151,0.06521739130434782],[0.6063618290258449,0.4430992736077482,0.23553719008264462,0.4108527131782946,0.16619718309859155,0.003861003861003861,0.1280388978930308,0.3106212424849699,0.4883720930232558,0.15302013422818792,0.0,0.10101010101010101,0.040160642570281124,0.135678391959799,0.10629067245119306,0.0,0.5549738219895288,0.0,0.0,0.0,0.0,0.2606060606060606,0.0],[0.3240556660039761,0.0,0.21074380165289255,0.0,0.0,0.0,0.0,0.08817635270541083,0.0,0.0,0.7768595041322314,0.030303030303030304,0.0,0.0,0.19305856832971802,0.10227272727272728,0.14136125654450263,0.27631578947368424,0.21978021978021978,0.09387755102040816,0.04962513388075687,0.0,0.010869565217391304],[0.10934393638170974,0.22518159806295399,0.18181818181818182,0.007751937984496124,0.008450704225352112,0.3127413127413127,0.11183144246353323,0.014028056112224449,0.1760797342192691,0.27248322147651005,1.0,0.0,0.05622489959839357,0.12814070351758794,0.0,0.09090909090909091,0.1099476439790576,0.07236842105263158,0.01098901098901099,0.15918367346938775,0.3002499107461621,0.6484848484848484,0.2608695652173913],[0.0,0.026634382566585957,0.0,0.06718346253229975,0.016901408450704224,0.02702702702702703,0.08103727714748785,0.03006012024048096,0.5548172757475083,0.2295302013422819,0.9338842975206612,0.1111111111111111,0.0963855421686747,0.06030150753768844,0.049891540130151846,0.29545454545454547,0.0,0.08333333333333333,0.18681318681318682,0.2571428571428571,1.0,1.0,1.0],[0.07157057654075547,0.13559322033898305,0.13636363636363635,0.09819121447028424,0.008450704225352112,0.11196911196911197,0.12479740680713128,0.0,0.5614617940199336,0.24295302013422818,0.9504132231404959,0.5959595959595959,0.42971887550200805,0.17587939698492464,0.26247288503253796,0.4090909090909091,0.3193717277486911,0.3508771929824561,0.46153846153846156,0.33877551020408164,0.7943591574437701,0.6303030303030303,0.6956521739130435],[0.11133200795228629,0.11864406779661017,0.030991735537190084,0.059431524547803614,0.022535211267605635,0.6911196911196911,0.4327390599675851,0.0781563126252505,0.867109634551495,0.25906040268456376,1.0,1.0,0.17269076305220885,0.16834170854271358,0.8785249457700651,0.2727272727272727,0.7172774869109948,0.8508771929824561,0.5164835164835165,0.17551020408163265,0.8400571224562656,0.6,0.5760869565217391]],\"type\":\"heatmap\",\"xaxis\":\"x\",\"yaxis\":\"y\",\"hovertemplate\":\"x: %{x}\\u003cbr\\u003ey: %{y}\\u003cbr\\u003ecolor: %{z}\\u003cextra\\u003e\\u003c\\u002fextra\\u003e\"}],                        {\"template\":{\"data\":{\"histogram2dcontour\":[{\"type\":\"histogram2dcontour\",\"colorbar\":{\"outlinewidth\":0,\"ticks\":\"\"},\"colorscale\":[[0.0,\"#0d0887\"],[0.1111111111111111,\"#46039f\"],[0.2222222222222222,\"#7201a8\"],[0.3333333333333333,\"#9c179e\"],[0.4444444444444444,\"#bd3786\"],[0.5555555555555556,\"#d8576b\"],[0.6666666666666666,\"#ed7953\"],[0.7777777777777778,\"#fb9f3a\"],[0.8888888888888888,\"#fdca26\"],[1.0,\"#f0f921\"]]}],\"choropleth\":[{\"type\":\"choropleth\",\"colorbar\":{\"outlinewidth\":0,\"ticks\":\"\"}}],\"histogram2d\":[{\"type\":\"histogram2d\",\"colorbar\":{\"outlinewidth\":0,\"ticks\":\"\"},\"colorscale\":[[0.0,\"#0d0887\"],[0.1111111111111111,\"#46039f\"],[0.2222222222222222,\"#7201a8\"],[0.3333333333333333,\"#9c179e\"],[0.4444444444444444,\"#bd3786\"],[0.5555555555555556,\"#d8576b\"],[0.6666666666666666,\"#ed7953\"],[0.7777777777777778,\"#fb9f3a\"],[0.8888888888888888,\"#fdca26\"],[1.0,\"#f0f921\"]]}],\"heatmap\":[{\"type\":\"heatmap\",\"colorbar\":{\"outlinewidth\":0,\"ticks\":\"\"},\"colorscale\":[[0.0,\"#0d0887\"],[0.1111111111111111,\"#46039f\"],[0.2222222222222222,\"#7201a8\"],[0.3333333333333333,\"#9c179e\"],[0.4444444444444444,\"#bd3786\"],[0.5555555555555556,\"#d8576b\"],[0.6666666666666666,\"#ed7953\"],[0.7777777777777778,\"#fb9f3a\"],[0.8888888888888888,\"#fdca26\"],[1.0,\"#f0f921\"]]}],\"heatmapgl\":[{\"type\":\"heatmapgl\",\"colorbar\":{\"outlinewidth\":0,\"ticks\":\"\"},\"colorscale\":[[0.0,\"#0d0887\"],[0.1111111111111111,\"#46039f\"],[0.2222222222222222,\"#7201a8\"],[0.3333333333333333,\"#9c179e\"],[0.4444444444444444,\"#bd3786\"],[0.5555555555555556,\"#d8576b\"],[0.6666666666666666,\"#ed7953\"],[0.7777777777777778,\"#fb9f3a\"],[0.8888888888888888,\"#fdca26\"],[1.0,\"#f0f921\"]]}],\"contourcarpet\":[{\"type\":\"contourcarpet\",\"colorbar\":{\"outlinewidth\":0,\"ticks\":\"\"}}],\"contour\":[{\"type\":\"contour\",\"colorbar\":{\"outlinewidth\":0,\"ticks\":\"\"},\"colorscale\":[[0.0,\"#0d0887\"],[0.1111111111111111,\"#46039f\"],[0.2222222222222222,\"#7201a8\"],[0.3333333333333333,\"#9c179e\"],[0.4444444444444444,\"#bd3786\"],[0.5555555555555556,\"#d8576b\"],[0.6666666666666666,\"#ed7953\"],[0.7777777777777778,\"#fb9f3a\"],[0.8888888888888888,\"#fdca26\"],[1.0,\"#f0f921\"]]}],\"surface\":[{\"type\":\"surface\",\"colorbar\":{\"outlinewidth\":0,\"ticks\":\"\"},\"colorscale\":[[0.0,\"#0d0887\"],[0.1111111111111111,\"#46039f\"],[0.2222222222222222,\"#7201a8\"],[0.3333333333333333,\"#9c179e\"],[0.4444444444444444,\"#bd3786\"],[0.5555555555555556,\"#d8576b\"],[0.6666666666666666,\"#ed7953\"],[0.7777777777777778,\"#fb9f3a\"],[0.8888888888888888,\"#fdca26\"],[1.0,\"#f0f921\"]]}],\"mesh3d\":[{\"type\":\"mesh3d\",\"colorbar\":{\"outlinewidth\":0,\"ticks\":\"\"}}],\"scatter\":[{\"fillpattern\":{\"fillmode\":\"overlay\",\"size\":10,\"solidity\":0.2},\"type\":\"scatter\"}],\"parcoords\":[{\"type\":\"parcoords\",\"line\":{\"colorbar\":{\"outlinewidth\":0,\"ticks\":\"\"}}}],\"scatterpolargl\":[{\"type\":\"scatterpolargl\",\"marker\":{\"colorbar\":{\"outlinewidth\":0,\"ticks\":\"\"}}}],\"bar\":[{\"error_x\":{\"color\":\"#2a3f5f\"},\"error_y\":{\"color\":\"#2a3f5f\"},\"marker\":{\"line\":{\"color\":\"#E5ECF6\",\"width\":0.5},\"pattern\":{\"fillmode\":\"overlay\",\"size\":10,\"solidity\":0.2}},\"type\":\"bar\"}],\"scattergeo\":[{\"type\":\"scattergeo\",\"marker\":{\"colorbar\":{\"outlinewidth\":0,\"ticks\":\"\"}}}],\"scatterpolar\":[{\"type\":\"scatterpolar\",\"marker\":{\"colorbar\":{\"outlinewidth\":0,\"ticks\":\"\"}}}],\"histogram\":[{\"marker\":{\"pattern\":{\"fillmode\":\"overlay\",\"size\":10,\"solidity\":0.2}},\"type\":\"histogram\"}],\"scattergl\":[{\"type\":\"scattergl\",\"marker\":{\"colorbar\":{\"outlinewidth\":0,\"ticks\":\"\"}}}],\"scatter3d\":[{\"type\":\"scatter3d\",\"line\":{\"colorbar\":{\"outlinewidth\":0,\"ticks\":\"\"}},\"marker\":{\"colorbar\":{\"outlinewidth\":0,\"ticks\":\"\"}}}],\"scattermapbox\":[{\"type\":\"scattermapbox\",\"marker\":{\"colorbar\":{\"outlinewidth\":0,\"ticks\":\"\"}}}],\"scatterternary\":[{\"type\":\"scatterternary\",\"marker\":{\"colorbar\":{\"outlinewidth\":0,\"ticks\":\"\"}}}],\"scattercarpet\":[{\"type\":\"scattercarpet\",\"marker\":{\"colorbar\":{\"outlinewidth\":0,\"ticks\":\"\"}}}],\"carpet\":[{\"aaxis\":{\"endlinecolor\":\"#2a3f5f\",\"gridcolor\":\"white\",\"linecolor\":\"white\",\"minorgridcolor\":\"white\",\"startlinecolor\":\"#2a3f5f\"},\"baxis\":{\"endlinecolor\":\"#2a3f5f\",\"gridcolor\":\"white\",\"linecolor\":\"white\",\"minorgridcolor\":\"white\",\"startlinecolor\":\"#2a3f5f\"},\"type\":\"carpet\"}],\"table\":[{\"cells\":{\"fill\":{\"color\":\"#EBF0F8\"},\"line\":{\"color\":\"white\"}},\"header\":{\"fill\":{\"color\":\"#C8D4E3\"},\"line\":{\"color\":\"white\"}},\"type\":\"table\"}],\"barpolar\":[{\"marker\":{\"line\":{\"color\":\"#E5ECF6\",\"width\":0.5},\"pattern\":{\"fillmode\":\"overlay\",\"size\":10,\"solidity\":0.2}},\"type\":\"barpolar\"}],\"pie\":[{\"automargin\":true,\"type\":\"pie\"}]},\"layout\":{\"autotypenumbers\":\"strict\",\"colorway\":[\"#636efa\",\"#EF553B\",\"#00cc96\",\"#ab63fa\",\"#FFA15A\",\"#19d3f3\",\"#FF6692\",\"#B6E880\",\"#FF97FF\",\"#FECB52\"],\"font\":{\"color\":\"#2a3f5f\"},\"hovermode\":\"closest\",\"hoverlabel\":{\"align\":\"left\"},\"paper_bgcolor\":\"white\",\"plot_bgcolor\":\"#E5ECF6\",\"polar\":{\"bgcolor\":\"#E5ECF6\",\"angularaxis\":{\"gridcolor\":\"white\",\"linecolor\":\"white\",\"ticks\":\"\"},\"radialaxis\":{\"gridcolor\":\"white\",\"linecolor\":\"white\",\"ticks\":\"\"}},\"ternary\":{\"bgcolor\":\"#E5ECF6\",\"aaxis\":{\"gridcolor\":\"white\",\"linecolor\":\"white\",\"ticks\":\"\"},\"baxis\":{\"gridcolor\":\"white\",\"linecolor\":\"white\",\"ticks\":\"\"},\"caxis\":{\"gridcolor\":\"white\",\"linecolor\":\"white\",\"ticks\":\"\"}},\"coloraxis\":{\"colorbar\":{\"outlinewidth\":0,\"ticks\":\"\"}},\"colorscale\":{\"sequential\":[[0.0,\"#0d0887\"],[0.1111111111111111,\"#46039f\"],[0.2222222222222222,\"#7201a8\"],[0.3333333333333333,\"#9c179e\"],[0.4444444444444444,\"#bd3786\"],[0.5555555555555556,\"#d8576b\"],[0.6666666666666666,\"#ed7953\"],[0.7777777777777778,\"#fb9f3a\"],[0.8888888888888888,\"#fdca26\"],[1.0,\"#f0f921\"]],\"sequentialminus\":[[0.0,\"#0d0887\"],[0.1111111111111111,\"#46039f\"],[0.2222222222222222,\"#7201a8\"],[0.3333333333333333,\"#9c179e\"],[0.4444444444444444,\"#bd3786\"],[0.5555555555555556,\"#d8576b\"],[0.6666666666666666,\"#ed7953\"],[0.7777777777777778,\"#fb9f3a\"],[0.8888888888888888,\"#fdca26\"],[1.0,\"#f0f921\"]],\"diverging\":[[0,\"#8e0152\"],[0.1,\"#c51b7d\"],[0.2,\"#de77ae\"],[0.3,\"#f1b6da\"],[0.4,\"#fde0ef\"],[0.5,\"#f7f7f7\"],[0.6,\"#e6f5d0\"],[0.7,\"#b8e186\"],[0.8,\"#7fbc41\"],[0.9,\"#4d9221\"],[1,\"#276419\"]]},\"xaxis\":{\"gridcolor\":\"white\",\"linecolor\":\"white\",\"ticks\":\"\",\"title\":{\"standoff\":15},\"zerolinecolor\":\"white\",\"automargin\":true,\"zerolinewidth\":2},\"yaxis\":{\"gridcolor\":\"white\",\"linecolor\":\"white\",\"ticks\":\"\",\"title\":{\"standoff\":15},\"zerolinecolor\":\"white\",\"automargin\":true,\"zerolinewidth\":2},\"scene\":{\"xaxis\":{\"backgroundcolor\":\"#E5ECF6\",\"gridcolor\":\"white\",\"linecolor\":\"white\",\"showbackground\":true,\"ticks\":\"\",\"zerolinecolor\":\"white\",\"gridwidth\":2},\"yaxis\":{\"backgroundcolor\":\"#E5ECF6\",\"gridcolor\":\"white\",\"linecolor\":\"white\",\"showbackground\":true,\"ticks\":\"\",\"zerolinecolor\":\"white\",\"gridwidth\":2},\"zaxis\":{\"backgroundcolor\":\"#E5ECF6\",\"gridcolor\":\"white\",\"linecolor\":\"white\",\"showbackground\":true,\"ticks\":\"\",\"zerolinecolor\":\"white\",\"gridwidth\":2}},\"shapedefaults\":{\"line\":{\"color\":\"#2a3f5f\"}},\"annotationdefaults\":{\"arrowcolor\":\"#2a3f5f\",\"arrowhead\":0,\"arrowwidth\":1},\"geo\":{\"bgcolor\":\"white\",\"landcolor\":\"#E5ECF6\",\"subunitcolor\":\"white\",\"showland\":true,\"showlakes\":true,\"lakecolor\":\"white\"},\"title\":{\"x\":0.05},\"mapbox\":{\"style\":\"light\"}}},\"xaxis\":{\"anchor\":\"y\",\"domain\":[0.0,1.0],\"scaleanchor\":\"y\",\"constrain\":\"domain\"},\"yaxis\":{\"anchor\":\"x\",\"domain\":[0.0,1.0],\"autorange\":\"reversed\",\"constrain\":\"domain\"},\"coloraxis\":{\"colorscale\":[[0.0,\"#0d0887\"],[0.1111111111111111,\"#46039f\"],[0.2222222222222222,\"#7201a8\"],[0.3333333333333333,\"#9c179e\"],[0.4444444444444444,\"#bd3786\"],[0.5555555555555556,\"#d8576b\"],[0.6666666666666666,\"#ed7953\"],[0.7777777777777778,\"#fb9f3a\"],[0.8888888888888888,\"#fdca26\"],[1.0,\"#f0f921\"]]},\"margin\":{\"t\":60}},                        {\"responsive\": true}                    ).then(function(){\n",
       "                            \n",
       "var gd = document.getElementById('18b54a6b-7d0d-477e-8ded-90d0c02e9fe9');\n",
       "var x = new MutationObserver(function (mutations, observer) {{\n",
       "        var display = window.getComputedStyle(gd).display;\n",
       "        if (!display || display === 'none') {{\n",
       "            console.log([gd, 'removed!']);\n",
       "            Plotly.purge(gd);\n",
       "            observer.disconnect();\n",
       "        }}\n",
       "}});\n",
       "\n",
       "// Listen for the removal of the full notebook cells\n",
       "var notebookContainer = gd.closest('#notebook-container');\n",
       "if (notebookContainer) {{\n",
       "    x.observe(notebookContainer, {childList: true});\n",
       "}}\n",
       "\n",
       "// Listen for the clearing of the current output cell\n",
       "var outputEl = gd.closest('.output');\n",
       "if (outputEl) {{\n",
       "    x.observe(outputEl, {childList: true});\n",
       "}}\n",
       "\n",
       "                        })                };                });            </script>        </div>"
      ]
     },
     "metadata": {},
     "output_type": "display_data"
    }
   ],
   "source": [
    "heatmap = pd.DataFrame({task_name: normalized_losses[task_name][\"loss\"] for task_name in task_names}, index=layers)\n",
    "px.imshow(heatmap)"
   ]
  },
  {
   "cell_type": "code",
   "execution_count": 44,
   "metadata": {},
   "outputs": [],
   "source": [
    "%load_ext autoreload\n",
    "%autoreload 2\n",
    "import penzai\n",
    "import jax_smi\n",
    "jax_smi.initialise_tracking()\n",
    "from penzai import pz\n",
    "pz.ts.register_as_default()\n",
    "pz.ts.register_autovisualize_magic()\n",
    "pz.enable_interactive_context()"
   ]
  },
  {
   "cell_type": "code",
   "execution_count": 45,
   "metadata": {},
   "outputs": [],
   "source": [
    "from micrlhf.llama import LlamaTransformer\n",
    "llama = LlamaTransformer.from_pretrained(\"models/gemma-2b-it.gguf\", from_type=\"gemma\", load_eager=True, device_map=\"tpu:0\")"
   ]
  },
  {
   "cell_type": "code",
   "execution_count": 46,
   "metadata": {},
   "outputs": [],
   "source": [
    "from transformers import AutoTokenizer\n",
    "tokenizer = AutoTokenizer.from_pretrained(\"alpindale/gemma-2b\")\n",
    "tokenizer.padding_side = \"right\""
   ]
  },
  {
   "cell_type": "code",
   "execution_count": 47,
   "metadata": {},
   "outputs": [
    {
     "name": "stderr",
     "output_type": "stream",
     "text": [
      "fatal: destination path 'data/itv' already exists and is not an empty directory.\n"
     ]
    }
   ],
   "source": [
    "from sprint.task_vector_utils import load_tasks, ICLRunner\n",
    "tasks = load_tasks()"
   ]
  },
  {
   "cell_type": "code",
   "execution_count": 48,
   "metadata": {},
   "outputs": [],
   "source": [
    "# task_names = [\"en_es\", \"antonyms\", \"person_profession\", \"es_en\", \"present_simple_gerund\", \"present_simple_past_simple\", \"person_profession\", \"person_language\", \"country_capital\", \"football_player_position\"]\n",
    "# task_name = task_names[1]\n",
    "task_names = list(tasks.keys())"
   ]
  },
  {
   "cell_type": "code",
   "execution_count": 49,
   "metadata": {},
   "outputs": [],
   "source": [
    "import jax.numpy as jnp\n",
    "import jax\n",
    "\n",
    "\n",
    "from sprint.task_vector_utils import ICLRunner, logprob_loss, get_tv, make_act_adder\n",
    "from micrlhf.llama import LlamaBlock\n",
    "from micrlhf.sampling import sample, jit_wrapper\n",
    "\n",
    "\n",
    "get_resids = llama.select().at_instances_of(LlamaBlock).apply_with_selected_index(lambda i, x:\n",
    "    pz.nn.Sequential([\n",
    "        pz.de.TellIntermediate.from_config(tag=f\"resid_pre_{i}\"),\n",
    "        x\n",
    "    ])\n",
    ")\n",
    "get_resids = pz.de.CollectingSideOutputs.handling(get_resids, tag_predicate=lambda x: x.startswith(\"resid_pre\"))\n",
    "get_resids_call = jit_wrapper.Jitted(get_resids)\n",
    "\n",
    "\n",
    "\n",
    "def tokenized_to_inputs(input_ids, attention_mask):\n",
    "    token_array = jnp.asarray(input_ids)\n",
    "    token_array = jax.device_put(token_array, jax.sharding.NamedSharding(llama.mesh, jax.sharding.PartitionSpec(\"dp\", \"sp\")))\n",
    "    token_array = pz.nx.wrap(token_array, \"batch\", \"seq\").untag(\"batch\").tag(\"batch\")\n",
    "\n",
    "    mask_array = jnp.asarray(attention_mask, dtype=jnp.bool)\n",
    "    mask_array = jax.device_put(mask_array, jax.sharding.NamedSharding(llama.mesh, jax.sharding.PartitionSpec(\"dp\", \"sp\")))\n",
    "    mask_array = pz.nx.wrap(mask_array, \"batch\", \"seq\").untag(\"batch\").tag(\"batch\")\n",
    "\n",
    "    inputs = llama.inputs.from_basic_segments(token_array)\n",
    "    return inputs\n"
   ]
  },
  {
   "cell_type": "code",
   "execution_count": 52,
   "metadata": {},
   "outputs": [],
   "source": [
    "from sprint.icl_sfc_utils import AblatedModule\n",
    "layer = 12\n",
    "mask_name = \"arrow\""
   ]
  },
  {
   "cell_type": "code",
   "execution_count": 54,
   "metadata": {},
   "outputs": [],
   "source": [
    "from micrlhf.utils.load_sae import get_nev_it_sae_suite\n",
    "\n",
    "\n",
    "sae = get_nev_it_sae_suite(layer=layer)"
   ]
  },
  {
   "cell_type": "code",
   "execution_count": 58,
   "metadata": {},
   "outputs": [
    {
     "data": {
      "text/html": [
       "<script> (()=>{ if (customElements.get('treescope-container') === undefined) { class TreescopeContainer extends HTMLElement { constructor() { super(); this.attachShadow({mode: \"open\"}); this.defns = {}; this.state = {}; } } customElements.define(\"treescope-container\", TreescopeContainer); } if (customElements.get('treescope-run-here') === undefined) { class RunHere extends HTMLElement { constructor() { super() } connectedCallback() { const run = child => { const fn = new Function(child.textContent); child.textContent = \"\"; fn.call(this); this.remove(); }; const child = this.querySelector(\"script\"); if (child) { run(child); } else { new MutationObserver(()=>{ run(this.querySelector(\"script\")); }).observe(this, {childList: true}); } } } customElements.define(\"treescope-run-here\", RunHere); } })(); </script> <treescope-container class=\"treescope_out_24d11767a28a4acab72e7c1d6eac3184\" ></treescope-container> <treescope-run-here><script type=\"application/octet-stream\"> const root = ( Array.from(document.getElementsByClassName( \"treescope_out_24d11767a28a4acab72e7c1d6eac3184\")) .filter((elt) => !elt.dataset.setup) )[0]; root.dataset.setup = 1; const msg = document.createElement(\"span\"); msg.style = \"color: #aaaaaa; font-family: monospace; transition: opacity 0.2s; opacity: 0.0;\"; msg.textContent = \"(Loading...)\"; root.state.loadingMsg = msg; root.shadowRoot.appendChild(msg); root.state.chain = new Promise((resolve, reject) => { const observer = new IntersectionObserver((entries) => { for (const entry of entries) { if (entry.isIntersecting) { resolve(); observer.disconnect(); return; } } }, {rootMargin: \"1000px\"}); window.setTimeout(() => { if (root.loadingMsg) { root.loadingMsg.style.opacity = \"1.0\"; } observer.observe(root); }, 0); }); root.state.deferring = false; const _insertNode = (node) => { for (let oldScript of node.querySelectorAll(\"script\")) { let newScript = document.createElement(\"script\"); newScript.type = oldScript.type; newScript.textContent = oldScript.textContent; oldScript.parentNode.replaceChild(newScript, oldScript); } if (root.state.loadingMsg) { root.state.loadingMsg.remove(); root.state.loadingMsg = null; } root.shadowRoot.appendChild(node); }; root.defns.insertContent = ((contentNode, compressed) => { if (compressed) { root.state.deferring = true; } if (root.state.deferring) { root.state.chain = (async () => { await root.state.chain; if (compressed) { const encoded = contentNode.textContent; const blob = new Blob([ Uint8Array.from(atob(encoded), (m) => m.codePointAt(0)) ]); const reader = blob.stream().pipeThrough( new DecompressionStream(\"deflate\") ).pipeThrough( new TextDecoderStream(\"utf-8\") ).getReader(); const parts = []; while (true) { const step = await reader.read(); if (step.done) { break; } parts.push(step.value); } const tpl = document.createElement('template'); tpl.innerHTML = parts.join(\"\"); _insertNode(tpl.content); } else { _insertNode(contentNode.content); } })(); } else { _insertNode(contentNode.content); } }); </script></treescope-run-here><div style=\"display:none\"> <script type=\"application/octet-stream\" >eNqNVE1v2zAM/SuCd6gNzO7H0GFNYgO9DDsMO2yHHYYhUGzaFiJTmkQny4b+91FykqVtVgw5xCKpx/cokgtPOw1VQQ7A18bC0hlD4rewxitSBmfCgZakNjAXrUHKWzkovZuJwaDxVtZs3/aKII+HmbCOLVp5yiN0TjvLVjTI5pWs150zIzZ5bbRxs+nqXOxPK80BjKca6meiVcRhSIA0F1Y2jcIu19DSTNzUfUiCkPegup4t18VtgEGSijkfr+0/8o3yaqW0ImYuRzLH2FwhOYVe1blXv2Dy7uk+LC6n8iyO5cndiJzTsc3XTlkSQV95Ia3VqpahYpemJgjqHcjhokrTrKy4oJzPk2igRS9KQb3yRQf0mav9yTSQZkVvPBXRz9KAxNICBsn3dUANl759P+f5ILHRwG4ctZ5PGQqm+cUYZGu6NW6diVMO5iubguuRmVQdjBZca9wgsYYCzTbN4vtygvSZR+TTpYV4c5MxjmpF+oR1oQE76kVZiqsQ8iJ1BzQ65LoL0B7+EutHDMyeQvtetRT4xYDw8cC/f2RIuauwMdvCwY8RPN2jGuJzvXdygHSqSRYw5s8S2dH3UxnnZzQeUpSTjBdU/j+HwGJ6SDJdp6epXMbJ4W61AStYQNNrARtu8P1LBnbxXKxhF4qeuCQQ2gcXtZbef+Th3OOmyRFzOXAbJofkDxnXk9s/9ni1uDw3AI3aiAhYJo/XRyJIrlgp/CyTq0QYZDIsGznupbY/rzUNdw4qEx67aWHFjbHEcViBi50SF8irq7t317dvT0eX1xIeaPY8q47XxnpJ0jGNRDSSZM70rKS+TJLH4ac5kur65o5B2V0d/7gC1R+lydvF</script> <treescope-run-here><script type=\"application/octet-stream\"> const root = ( Array.from(document.getElementsByClassName( \"treescope_out_24d11767a28a4acab72e7c1d6eac3184\")) .filter((elt) => !elt.dataset['step0']) )[0]; root.dataset['step0'] = 1; root.defns.insertContent( this.parentNode.querySelector('script[type=\"application/octet-stream\"]'), true ); this.parentNode.remove(); </script></treescope-run-here> </div>"
      ],
      "text/plain": [
       "<IPython.core.display.HTML object>"
      ]
     },
     "metadata": {},
     "output_type": "display_data"
    },
    {
     "data": {
      "text/html": [
       "<treescope-run-here><script type=\"application/octet-stream\"> const root = ( Array.from(document.getElementsByClassName( \"treescope_out_24d11767a28a4acab72e7c1d6eac3184\")) .filter((elt) => !elt.dataset.stolen) )[0]; root.dataset.stolen = 1; this.parentNode.replaceChild(root, this); </script></treescope-run-here>"
      ],
      "text/plain": [
       "129"
      ]
     },
     "execution_count": 58,
     "metadata": {},
     "output_type": "execute_result"
    }
   ],
   "source": [
    "import numpy as np\n",
    "\n",
    "features = []\n",
    "\n",
    "for task_name in task_names:\n",
    "    task_results = [result for result in results if result[\"task\"] == task_name and result[\"layer\"] == layer]\n",
    "\n",
    "    for result in task_results:\n",
    "        w = np.array(result[\"weights\"])\n",
    "        # s = jax.nn.softplus(sae[\"s_gate\"]) * sae[\"scaling_factor\"]\n",
    "        # threshold = jnp.maximum(0, sae[\"b_gate\"] - sae[\"b_enc\"] * s)\n",
    "        w = w * (w > 0)\n",
    "\n",
    "        # print(threshold)\n",
    "\n",
    "        features += np.nonzero(w)[0].tolist()\n",
    "\n",
    "features = list(set(features))\n",
    "\n",
    "len(features)"
   ]
  },
  {
   "cell_type": "code",
   "execution_count": 60,
   "metadata": {},
   "outputs": [
    {
     "data": {
      "application/vnd.jupyter.widget-view+json": {
       "model_id": "1b232bb79b9f419989a4ab2b241e2948",
       "version_major": 2,
       "version_minor": 0
      },
      "text/plain": [
       "  0%|          | 0/23 [00:00<?, ?it/s]"
      ]
     },
     "metadata": {},
     "output_type": "display_data"
    },
    {
     "data": {
      "application/vnd.jupyter.widget-view+json": {
       "model_id": "bf418a6df1c646a8b0575d12592ebac2",
       "version_major": 2,
       "version_minor": 0
      },
      "text/plain": [
       "  0%|          | 0/129 [00:00<?, ?it/s]"
      ]
     },
     "metadata": {},
     "output_type": "display_data"
    },
    {
     "data": {
      "application/vnd.jupyter.widget-view+json": {
       "model_id": "12f85e59ada845cc8a6d179eba092525",
       "version_major": 2,
       "version_minor": 0
      },
      "text/plain": [
       "  0%|          | 0/129 [00:00<?, ?it/s]"
      ]
     },
     "metadata": {},
     "output_type": "display_data"
    },
    {
     "data": {
      "application/vnd.jupyter.widget-view+json": {
       "model_id": "29c434528caf415a876402091f58d6ca",
       "version_major": 2,
       "version_minor": 0
      },
      "text/plain": [
       "  0%|          | 0/129 [00:00<?, ?it/s]"
      ]
     },
     "metadata": {},
     "output_type": "display_data"
    },
    {
     "data": {
      "application/vnd.jupyter.widget-view+json": {
       "model_id": "2f498429b73e49608d3d52041971c223",
       "version_major": 2,
       "version_minor": 0
      },
      "text/plain": [
       "  0%|          | 0/129 [00:00<?, ?it/s]"
      ]
     },
     "metadata": {},
     "output_type": "display_data"
    },
    {
     "data": {
      "application/vnd.jupyter.widget-view+json": {
       "model_id": "7723e200da0946338f61346c5d26971e",
       "version_major": 2,
       "version_minor": 0
      },
      "text/plain": [
       "  0%|          | 0/129 [00:00<?, ?it/s]"
      ]
     },
     "metadata": {},
     "output_type": "display_data"
    },
    {
     "data": {
      "application/vnd.jupyter.widget-view+json": {
       "model_id": "578f4aef4356411abea907811746eddc",
       "version_major": 2,
       "version_minor": 0
      },
      "text/plain": [
       "  0%|          | 0/129 [00:00<?, ?it/s]"
      ]
     },
     "metadata": {},
     "output_type": "display_data"
    },
    {
     "data": {
      "application/vnd.jupyter.widget-view+json": {
       "model_id": "1a7da003060940d8b0116469176d4bba",
       "version_major": 2,
       "version_minor": 0
      },
      "text/plain": [
       "  0%|          | 0/129 [00:00<?, ?it/s]"
      ]
     },
     "metadata": {},
     "output_type": "display_data"
    },
    {
     "data": {
      "application/vnd.jupyter.widget-view+json": {
       "model_id": "81029dd1d0e346aca8a763e3e16c2b8a",
       "version_major": 2,
       "version_minor": 0
      },
      "text/plain": [
       "  0%|          | 0/129 [00:00<?, ?it/s]"
      ]
     },
     "metadata": {},
     "output_type": "display_data"
    },
    {
     "data": {
      "application/vnd.jupyter.widget-view+json": {
       "model_id": "20017ca7db714f83b3413f47838f23fb",
       "version_major": 2,
       "version_minor": 0
      },
      "text/plain": [
       "  0%|          | 0/129 [00:00<?, ?it/s]"
      ]
     },
     "metadata": {},
     "output_type": "display_data"
    },
    {
     "data": {
      "application/vnd.jupyter.widget-view+json": {
       "model_id": "b055b183121345ed9ee1d1ca04939ec2",
       "version_major": 2,
       "version_minor": 0
      },
      "text/plain": [
       "  0%|          | 0/129 [00:00<?, ?it/s]"
      ]
     },
     "metadata": {},
     "output_type": "display_data"
    },
    {
     "data": {
      "application/vnd.jupyter.widget-view+json": {
       "model_id": "9444117b8be64de09bfd421380acdaa1",
       "version_major": 2,
       "version_minor": 0
      },
      "text/plain": [
       "  0%|          | 0/129 [00:00<?, ?it/s]"
      ]
     },
     "metadata": {},
     "output_type": "display_data"
    },
    {
     "data": {
      "application/vnd.jupyter.widget-view+json": {
       "model_id": "50a85fc69ca24cbbae92c8c98f418517",
       "version_major": 2,
       "version_minor": 0
      },
      "text/plain": [
       "  0%|          | 0/129 [00:00<?, ?it/s]"
      ]
     },
     "metadata": {},
     "output_type": "display_data"
    },
    {
     "data": {
      "application/vnd.jupyter.widget-view+json": {
       "model_id": "a5923a54347d4c809df61eec2008821a",
       "version_major": 2,
       "version_minor": 0
      },
      "text/plain": [
       "  0%|          | 0/129 [00:00<?, ?it/s]"
      ]
     },
     "metadata": {},
     "output_type": "display_data"
    },
    {
     "data": {
      "application/vnd.jupyter.widget-view+json": {
       "model_id": "c2235df7fa60404cbaa973a23b74795a",
       "version_major": 2,
       "version_minor": 0
      },
      "text/plain": [
       "  0%|          | 0/129 [00:00<?, ?it/s]"
      ]
     },
     "metadata": {},
     "output_type": "display_data"
    },
    {
     "data": {
      "application/vnd.jupyter.widget-view+json": {
       "model_id": "32370e8f5fd047fba2480da831b5602e",
       "version_major": 2,
       "version_minor": 0
      },
      "text/plain": [
       "  0%|          | 0/129 [00:00<?, ?it/s]"
      ]
     },
     "metadata": {},
     "output_type": "display_data"
    },
    {
     "data": {
      "application/vnd.jupyter.widget-view+json": {
       "model_id": "477c7c9593114005a1159fbd100586f6",
       "version_major": 2,
       "version_minor": 0
      },
      "text/plain": [
       "  0%|          | 0/129 [00:00<?, ?it/s]"
      ]
     },
     "metadata": {},
     "output_type": "display_data"
    },
    {
     "data": {
      "application/vnd.jupyter.widget-view+json": {
       "model_id": "5bffe01c43594be6a55fb6af4871002e",
       "version_major": 2,
       "version_minor": 0
      },
      "text/plain": [
       "  0%|          | 0/129 [00:00<?, ?it/s]"
      ]
     },
     "metadata": {},
     "output_type": "display_data"
    },
    {
     "data": {
      "application/vnd.jupyter.widget-view+json": {
       "model_id": "c52b31448da54e55b394e1687e4ce475",
       "version_major": 2,
       "version_minor": 0
      },
      "text/plain": [
       "  0%|          | 0/129 [00:00<?, ?it/s]"
      ]
     },
     "metadata": {},
     "output_type": "display_data"
    },
    {
     "data": {
      "application/vnd.jupyter.widget-view+json": {
       "model_id": "2c8ba606bd094e5d902da139ab79336e",
       "version_major": 2,
       "version_minor": 0
      },
      "text/plain": [
       "  0%|          | 0/129 [00:00<?, ?it/s]"
      ]
     },
     "metadata": {},
     "output_type": "display_data"
    },
    {
     "data": {
      "application/vnd.jupyter.widget-view+json": {
       "model_id": "9d4589958947498c8eca4800bf52ee1c",
       "version_major": 2,
       "version_minor": 0
      },
      "text/plain": [
       "  0%|          | 0/129 [00:00<?, ?it/s]"
      ]
     },
     "metadata": {},
     "output_type": "display_data"
    },
    {
     "data": {
      "application/vnd.jupyter.widget-view+json": {
       "model_id": "918de54a7e72464aa902d0bd2d7a3eb4",
       "version_major": 2,
       "version_minor": 0
      },
      "text/plain": [
       "  0%|          | 0/129 [00:00<?, ?it/s]"
      ]
     },
     "metadata": {},
     "output_type": "display_data"
    },
    {
     "data": {
      "application/vnd.jupyter.widget-view+json": {
       "model_id": "ea80c9410f944bad959e537368c9afc9",
       "version_major": 2,
       "version_minor": 0
      },
      "text/plain": [
       "  0%|          | 0/129 [00:00<?, ?it/s]"
      ]
     },
     "metadata": {},
     "output_type": "display_data"
    },
    {
     "data": {
      "application/vnd.jupyter.widget-view+json": {
       "model_id": "c944fce2777c491e811f8e81550315e5",
       "version_major": 2,
       "version_minor": 0
      },
      "text/plain": [
       "  0%|          | 0/129 [00:00<?, ?it/s]"
      ]
     },
     "metadata": {},
     "output_type": "display_data"
    }
   ],
   "source": [
    "import dataclasses\n",
    "from tqdm.auto import tqdm\n",
    "from functools import partial\n",
    "from micrlhf.utils.activation_manipulation import add_vector\n",
    "\n",
    "task_losses_positive = {}\n",
    "\n",
    "n_few_shots, batch_size, max_seq_len = 20, 16, 256\n",
    "seed = 10\n",
    "\n",
    "prompt = \"Follow the pattern:\\n{}\"\n",
    "\n",
    "def make_taker(llama, layer):\n",
    "    taker = jit_wrapper.Jitted(llama.select().at_instances_of(LlamaBlock).apply_with_selected_index(\n",
    "        lambda i, x: x if i >= layer else pz.nn.Identity()\n",
    "    ).select().at_instances_of(pz.nn.EmbeddingLookup).apply(lambda _: pz.nn.Identity())\n",
    "                    .select().at_instances_of(pz.nn.ConstantRescale).pick_nth_selected(0).apply(lambda _: pz.nn.Identity()))\n",
    "\n",
    "    return taker\n",
    "\n",
    "taker = make_taker(llama, layer)\n",
    "\n",
    "for task_name in tqdm(task_names):\n",
    "\n",
    "    sep = 3978\n",
    "    pad = 0\n",
    "\n",
    "\n",
    "    pairs = list(tasks[task_name].items())\n",
    "\n",
    "    n_shot = n_few_shots - 1\n",
    "    if task_name.startswith(\"algo\"):\n",
    "        n_shot = 8\n",
    "\n",
    "    runner = ICLRunner(task_name, pairs, batch_size=batch_size, n_shot=1, max_seq_len=max_seq_len, seed=seed, prompt=prompt)\n",
    "\n",
    "    tokenized = runner.get_tokens([\n",
    "        x[:n_few_shots] for x in runner.train_pairs\n",
    "    ], tokenizer)\n",
    "\n",
    "    inputs = tokenized_to_inputs(**tokenized)\n",
    "    train_tokens = tokenized[\"input_ids\"]\n",
    "\n",
    "    _, all_resids = get_resids_call(inputs)\n",
    "\n",
    "    scale = 25\n",
    "\n",
    "    resids = all_resids[layer].value.unwrap(\"batch\", \"seq\", \"embedding\")\n",
    "\n",
    "    mask = train_tokens == sep\n",
    "    col_indices = jnp.arange(mask.shape[1])\n",
    "    col_indices_broadcasted = mask * col_indices\n",
    "    sorted_indices = jnp.sort(col_indices_broadcasted, axis=1, descending=True)\n",
    "    positions = sorted_indices[:, :1]\n",
    "    \n",
    "    def steer_with_direction(direction):\n",
    "        direction = direction / jnp.linalg.norm(direction)\n",
    "        direction = direction * scale\n",
    "        \n",
    "        modified = jax.vmap(lambda a, b: a.at[b].add(direction))(\n",
    "            resids, positions\n",
    "        )\n",
    "        modified = pz.nx.wrap(modified, \"batch\", \"seq\", \"embedding\")\n",
    "\n",
    "        _inputs = dataclasses.replace(inputs, tokens=modified)\n",
    "        logits = taker(_inputs).unwrap(\"batch\", \"seq\", \"vocabulary\")\n",
    "\n",
    "        return logprob_loss(logits, train_tokens, sep=sep, pad_token=pad, n_first=2)\n",
    "\n",
    "    task_losses_positive[task_name] = [[steer_with_direction(sae[\"W_dec\"][feature]).tolist() for feature in tqdm(features)]]\n",
    "\n",
    "    logits = llama(inputs)\n",
    "\n",
    "    logits = logits.unwrap(\"batch\", \"seq\", \"vocabulary\")\n",
    "\n",
    "    task_losses_positive[task_name].append(logprob_loss(logits, train_tokens, sep=sep, pad_token=pad, n_first=2).tolist())"
   ]
  },
  {
   "cell_type": "code",
   "execution_count": 61,
   "metadata": {},
   "outputs": [
    {
     "data": {
      "text/html": [
       "<script> (()=>{ if (customElements.get('treescope-container') === undefined) { class TreescopeContainer extends HTMLElement { constructor() { super(); this.attachShadow({mode: \"open\"}); this.defns = {}; this.state = {}; } } customElements.define(\"treescope-container\", TreescopeContainer); } if (customElements.get('treescope-run-here') === undefined) { class RunHere extends HTMLElement { constructor() { super() } connectedCallback() { const run = child => { const fn = new Function(child.textContent); child.textContent = \"\"; fn.call(this); this.remove(); }; const child = this.querySelector(\"script\"); if (child) { run(child); } else { new MutationObserver(()=>{ run(this.querySelector(\"script\")); }).observe(this, {childList: true}); } } } customElements.define(\"treescope-run-here\", RunHere); } })(); </script> <treescope-container class=\"treescope_out_d63b7d1afc894ef89f62b834d7469106\" ></treescope-container> <treescope-run-here><script type=\"application/octet-stream\"> const root = ( Array.from(document.getElementsByClassName( \"treescope_out_d63b7d1afc894ef89f62b834d7469106\")) .filter((elt) => !elt.dataset.setup) )[0]; root.dataset.setup = 1; const msg = document.createElement(\"span\"); msg.style = \"color: #aaaaaa; font-family: monospace; transition: opacity 0.2s; opacity: 0.0;\"; msg.textContent = \"(Loading...)\"; root.state.loadingMsg = msg; root.shadowRoot.appendChild(msg); root.state.chain = new Promise((resolve, reject) => { const observer = new IntersectionObserver((entries) => { for (const entry of entries) { if (entry.isIntersecting) { resolve(); observer.disconnect(); return; } } }, {rootMargin: \"1000px\"}); window.setTimeout(() => { if (root.loadingMsg) { root.loadingMsg.style.opacity = \"1.0\"; } observer.observe(root); }, 0); }); root.state.deferring = false; const _insertNode = (node) => { for (let oldScript of node.querySelectorAll(\"script\")) { let newScript = document.createElement(\"script\"); newScript.type = oldScript.type; newScript.textContent = oldScript.textContent; oldScript.parentNode.replaceChild(newScript, oldScript); } if (root.state.loadingMsg) { root.state.loadingMsg.remove(); root.state.loadingMsg = null; } root.shadowRoot.appendChild(node); }; root.defns.insertContent = ((contentNode, compressed) => { if (compressed) { root.state.deferring = true; } if (root.state.deferring) { root.state.chain = (async () => { await root.state.chain; if (compressed) { const encoded = contentNode.textContent; const blob = new Blob([ Uint8Array.from(atob(encoded), (m) => m.codePointAt(0)) ]); const reader = blob.stream().pipeThrough( new DecompressionStream(\"deflate\") ).pipeThrough( new TextDecoderStream(\"utf-8\") ).getReader(); const parts = []; while (true) { const step = await reader.read(); if (step.done) { break; } parts.push(step.value); } const tpl = document.createElement('template'); tpl.innerHTML = parts.join(\"\"); _insertNode(tpl.content); } else { _insertNode(contentNode.content); } })(); } else { _insertNode(contentNode.content); } }); </script></treescope-run-here><div style=\"display:none\"> <script type=\"application/octet-stream\" >eNrlnXlX27gah7+Km/mD5NIYS96hcK5Ds7WFFkJL25kexrEVx41jG9tJCHP63a/khCWQomqmc0ejwDksjvaf9ErvY1l+kRfzCB3IRYZQ7iUpusiSpJD+kNIkD4swiXelDEVuEU7RnjRI4qI+cMdhNN+Vxkmc5Knr4euzYVigevnPrpRm+EoU5kW9TLpezFN8NU5ifLnveqMgSyaxX/eSKMl2F1H3pOV//QgHwOmFfjHclQZhgYPFBYqLPSl1fT+Mg3qEBsWuBL0hySRG9SEKgyG+AmSdJBMXbojLfBtt+Ud9GuZhP4zCApfcnRTJbdh6GBdZGOehV8/Da7T4dFncby92Fs3z4rZ56tkkxnlm+FruZWFaSKR++1tumkah55IW20m8ApHaZ8gdbx1Uq7X9A9ygOL+8kHw0iHNpXyqGYS4HqDjFrX2c+Khak4dJXsjl57hqqJAuUhSTKjseSZVE+vXLuk86buxHCH8cT6Job5GDjIvZS5IYX63OkmxUk+6XITnHl8hHK5eL0CMXU5QNkmzsxh6S42RWrZX64gyqjz6R6otILyQV1nA64UCqPii1HKE4KIbS/r6kkCBPFj1DxSSLcbtLKMrRXcGGk5iU7GHS+TAcFKR8ZQDyxzf8/Z0cqrhXxX4ykzN0OUF54cThuJSrlbljVF20SY2ksfcoo3SSDxfNuLemjjdZ7C+q8UQtf7wMpBQLIYskCKLFqLwoRw7urSlJi1xBUfFcQlPcwZdKktKV/8sjNCeNXskqpEDLwLIXuXn+Bg/OZbrVym2aF2PcDSs3mX+r4fbE3b/s4wcvdtYNAD+cSmWC+5VV81GRCrePa4qu9itKRUpiXBhc7RiHe6rbr69rlcS5qWUFD7uFwSotxkU8GfdRVvaU0oD8otgW0A1cfnmQRL7bx8nFOJ/vGLRv0mqwi0UJcGg/zNPInd8YrocBpQMpcvso2t3tIzwm0L0SeOXX3tr8FsarDoj1Who5Ze8urzAuTVo/SogV/G6ew2SKssc5+242ypEbYCnix7F346SoPrg0dPPqQZnmwdp2KOPsekPkjZBfq0n/qd2VgURdH+km/EoJSyu8K239BvW+t/VPFm810ncLafwfCkl0JBlPspwImCZ4LkLZmnzD/OdlWw6FMqN6Oaby7/Xxn5PrXfUKdFU8zkUO84tBmOXFRRJfkO6/Zmg9NZRkqJPRtFYq6S8Xf6H4wyKSWo3dLMCrh0UxygH97S/mhk1aOu9PigJP2+sM0N3H6zptRao8CIUbEi/J1gf+DQHNrzxY0W0dubhXhG4k9ebjfhLl0ttJQerrS4eLmPh3OscDoz5D/RFenZXR8zG210M82+G1U1zg6KGbI/92TfcLUsj33uNuvohdLroU2Ubjh7VcjI81tVhv7u5iyjM3v/Dwegw37G18d1CszBQ3dvqpPB/EWc3yftNLUzer1uu+W7h1N8bCltN67f5lkglZq2RufNOby2QlkEsItxheiNaTScFWldsSYGFC5D9bLUmZpfQsHKdJVrjxo7T7WTJC8QW5cmeM6K17L9q99ryR+ZtMZn5cMP/Cw+tGP0PxsqirK3Oc5mrAn2Rd7w2d5US6MlQ9N/Kq2H3Aa1eQXpXLHTkvXBL/trx/W0n6SeZju7soiZ8UuO6kFPcbLx+6GS7KzM1iPKQubkz2TSsPBq4H1DUBU7wq/OPWS8qWThGxS8vqLy/VFbk0mHeu2G7pSLlZPchcP8SCVIGq+yh4LiW4rwZIUvDwNLzh80XfTXG22BKUl6Rl+z0qyiOT+dOadEXMm8p8k2fDskdGkZti40NfwLFb5+/nsFi2lXmUgdAVHqX+d8P8jHKsy+In+qzEjZCeOVnmzuVBloyxa+JNxsStIDY7l6duhP2Xaq0m5wl2XEpLThwQ8lteTCfE+fjBCaWyJdWk2q27lw8R9nGxM4Vm0mGv1yO16ZFrxMMrP8T+E66yh3rz2Kv+/t/lJOaRyeFPTmiLqYjkRNoR+7jR8tpsiRc0BY/OPPN2pUkWVYl13SWf78ySwQDu9bH9NrTnvmK3jwKn4ZRf3RPHScq/Gqcz/LPTcpym89RXY+w4wSh57XebjcPZJ8c5+3T4yjnqNg6dVnDV7bwZFnnjKESB2nr5Eb7pGp+mvXQSvjvSz8Crj93TD0fT86Pr4t281TrcPg9GZ2HjpTIMX55MXjX99lel098ZTLt+evnaGF6eh+HJ5ChuDzuD94Xz3mgcZ5rT6sajpuG9n0zi7VP90stHs+mgFe1cXgXNxAr6r2ZtC3Scndg51d9k2Stwuh1cK6e+4rwagODYPJy1v8JASeaTU9McN4Ex63y03wZBis5Gcw11+9e618/etgvXCU66x7OXbj7PTybd7sfzZmvmvDtJu5/89zs724F5Zn5UC2Xw+t2lM9Vxmm+cY9M5mjnj4Pq0tz353EPNj1dwYHjXx9ppZ65PGs7r68bXtJWqYefksKl8nrzTemY8aLxpdlpHYyfctqZNOIzB0Nzuf5h9/DrrZNOX7feH8ddBsxkU22+9z1Fk6vbhq1nDGtra0VG7p7Y/O8G4q39tnNjFWRt17Gaj0W2rLwPtdOeTN+87bazph9c7zknbddDRYeR0rptvg89FYDTeBW/fdl82RuGJjlqNj4eNlhcq6TBL0hj3jfRz8yW4BqPe4HBQDOev447vtvLOQDket5vHRsN3Lj98SN0i730e+74b2nBwbWvvw6+XRjrOjLfJp8NemLXH01dttXfeU1tN6DVOBmfbnShJ21orn+lucGlY4WfUO47S87jR6SL/KEOT88v24Rict7JRr3elQ+P8PJ85uEQ1qeQ7RXWr7NZbxLr/jn/cjn7XT1I8Z90NyZJKybL8RIjnizH7Baf1tPc/LDFJuaxYrHhw2rh7xJ5UXSw8ViEWHoJnCRm+ONhyYUKu5dg8kCTISossT9yZGxZS7E7DwC2STMYpp/3EzXx5loUFOsNOSfUuLVzZZVp3pARPqdXKvWUYYSQ4l7NwjPB6rXoD0R7Fy9AYr6keRf32XIKKopQzJza+eBKtlg7F+nzvrbUqd4UjrtSNBSNYqSL9IrXcMMKGrUgkEvhZadnwbBlP3Ahb4xC3GXJ9slTcvt92S95DIT1k2XmDelaZxMN5vnLwYjGZvQjjdLKcaSrl9NVPriprE1nOdPjDxSyHC1FGXs13iFPKcBajiwIvAVBRKatRH6E5HiPD/Url4FdcCxwBR18W4X70R4vSylOfV/4ddf5V+fJ0tbfulu1bUhIfkm64v8U4DksCV9uSbn2K/Uo1csd93y254m75ExelVpHKKXS/cs//wLPw+sDEjXzoMOHAZa8ktcN/L1U4uK3g4tdPk/UHmrds4ZVI98Fj5cCQFRVAfbWEz1cirC4cKwfSunqsrOoq/5yGrDL+NSV/VNc/oRug6iaOZoBRM8CpZvBpzXTRxhpk1A1yqpv6tG6abIikmsqomsqpahrNQkJgmQLppjHqpnGqm04bbaZYuumMuumc6mY8rZsq62LNbgajbganupk0OymWbCajbCansllUM2kJpZvFqJvFqW7207rZskCa2Yya2bw621RKAnShfADAikkAt5wE0JYllq2IpR0zLuGVlwAKMAFAKMrFiksAr7wEUICJKRroAqzMBPAKTYBGY5S6rYrkfQNWbAJ45SZAp+JlseY5VnACeCUnwKD6ciLpxgpOAK/kBFDRiSEUqQSs7ATwCk+ARbOVginHSk8Ar/gE2DTlxLo7AFgZCuAVokCFurQUan0CWRkK5JWhQED1w0XSjZWfQG73m0DaulLVhHLmIPOOE14RClQ3jDhDVoQCeUUoUKMRZ7GEYwUokFeAAikAxZLFMpas/ATyyk8glZ+I5RNAVoICeSUokEJQgHDSsSIUyCtCgRSEAhSRbs5BVoACeQUo0N4o3VjxCeQVn6gKbeOQQLKprOxE5ZWdqGCT7u2orOxE5ZWdqLS9J6pgKxOVlZ2o3D6uo9IccMGUY35ih1d0olLQCRRt94nKCk9UXuGJSn1sRyzhWOGJyis8UQ3abTnBhhwrPFF5hSeqSeOVYm34UlnZicorO1Et6t0dsVYorPRE5ZWeqDb15o5gj6eqrARF5ZWgaNQNKEI9Ds6KUDReEYpGRShirVA0Voii8QpRNBpEMcW6F66xMhSNV4aiUc88scTaOqSxQhSN23NPtA17MlxjPvmEV4iiUR/hEUo3Voai8cpQNIN2b06sxwk0Voai8cpQNJP2qCoUzFiyQhSNV4iiWTTpBNsiq7FSFI1XiqJRD0ER7Gg2Voai8cpQdCpDEcpa6qwQRecVoui0Z3jEWlvqrAxF55Wh6HCD9n3prABF5xWg6NQzUIQabqz0ROeVnujUY2PFmuBY2YnO7bGxFHYChDoSXWc+NZZXdqJT958YYrlxOis80XmFJ7pJW5qIxU50Vnai88pOdOr5J4LdI9BZ2YnOKzvRbaojJ9bhejorPNF5hScGFZ6INegMVnpi8EpPDOopsrZg98MNVoBi8ApQDEjbJivYqGNlKAavDMVQacoJNuZYKYrBK0UxqBRFsDHHilEMXjGKoW/W+XoGK0gxuH3/jrFJD/YbzK/f4ZWiGFSKIhT+MlghisErRDGoG1DE2pdusDIUg1eGYti0LbKKYNKxMhSDV4ZiKtSXcYp1u8BkhSgmrxDFBBu219JkZSgmrwzFpD3IA0V7SyArRDF5hSimSnPoBDsE2GSlKCavFMXUqGcQCSYdK0YxecUoJvU4FKGsJStEMXmFKKaxYQ/PmawcxeT2PcbUR3kEewG1yfwqY15Jikk7S1bWxDrKxmRFKSavKMW06e/oFEs6VpRi8opSLOpbjUV7hTgrSrF4RSkWFaWI5BZYrBzF4pWjWJA25ARzxi1WjmLxylEsCkcBlizUjXGLFaNYvGIUi/pCHsGObLNYMYrFK0axdNq9caF0Y8UoFq8YxTKoD2OJpBsrQ7F4ZSgW9Y3GIsnGyk8sXvmJZW3WFmeLFZ9YvOITi7oTRSTZWNGJxSs6sZVNur1js3ITm1duYgPa/CaW+22zkhObV3JiQ+ruZqF8OJsVnNi8ghObehKKLdYdApuVnNi8khObSk6gItY9VZsVndi8ohObik7Espes7MTmlZ3YxobdI7BZ8YnNKz6xqfhEKN1Y+YnNKz+xLerzIALJxgpPbF7hiW1Td3wJJBsrPLF5hSdAUTZskyWpMZt4ZQxO1QO0BwoUkZQDzMoBbpWjMRRNLOkgs3SQW+lU6qMgYhlMlVk7lVvtNDq6FGy605jV07hVj3ogii3Wy11IjVnV07lVz9isO+OkwqziGdyKZ26cn2Ayq2dyq561STCMVJdVOotb6WzqigUINufZzOpxi1eAQsNiQt1uJfVl1A5wC1cAoI48XTD1mAEL4BawAOpRs0IZTcAMWAC3gAVQd6mIhMYAM14B3OIVoFEPxBfLSQDMdAVwS1eAvllvziUVZhWPW7gCqDtVBNsdRmrMqh63dAWYNLAp2KEbpMas6nFLV4BFM5yi+QnMfAVwy1eATX3JoGjqMfMVwC1fgQptV7RgB02RGjOqB7klLJD6Kh+xRh5k5iuQW74CIfVdkWJ5C5CZsEBuCQtUqfvaxdKOmbFAbhkL1GhgU7D1CmRmLJBbxgJ16lNchmjyMVMWyC1lgcaGnWtKasyqHreUBVJPpRXs8ClSY1b1uKUskHqwivJE/g80ec65bsyABf5EwLL49eXfPwCY2pDDbg+oB9I8nm3+pb2eyTMGf1dff7JhbmL44fTgf8XAEG4=</script> <treescope-run-here><script type=\"application/octet-stream\"> const root = ( Array.from(document.getElementsByClassName( \"treescope_out_d63b7d1afc894ef89f62b834d7469106\")) .filter((elt) => !elt.dataset['step0']) )[0]; root.dataset['step0'] = 1; root.defns.insertContent( this.parentNode.querySelector('script[type=\"application/octet-stream\"]'), true ); this.parentNode.remove(); </script></treescope-run-here> </div>"
      ],
      "text/plain": [
       "<IPython.core.display.HTML object>"
      ]
     },
     "metadata": {},
     "output_type": "display_data"
    },
    {
     "data": {
      "text/html": [
       "<treescope-run-here><script type=\"application/octet-stream\"> const root = ( Array.from(document.getElementsByClassName( \"treescope_out_d63b7d1afc894ef89f62b834d7469106\")) .filter((elt) => !elt.dataset.stolen) )[0]; root.dataset.stolen = 1; this.parentNode.replaceChild(root, this); </script></treescope-run-here>"
      ],
      "text/plain": [
       "[[6.03125,\n",
       "  6.0,\n",
       "  5.03125,\n",
       "  4.625,\n",
       "  6.21875,\n",
       "  4.71875,\n",
       "  3.53125,\n",
       "  6.3125,\n",
       "  4.78125,\n",
       "  9.5,\n",
       "  6.15625,\n",
       "  3.890625,\n",
       "  11.0,\n",
       "  7.03125,\n",
       "  5.59375,\n",
       "  5.0625,\n",
       "  4.75,\n",
       "  6.6875,\n",
       "  5.6875,\n",
       "  5.1875,\n",
       "  5.5625,\n",
       "  11.5,\n",
       "  4.34375,\n",
       "  6.15625,\n",
       "  3.625,\n",
       "  8.375,\n",
       "  4.1875,\n",
       "  14.1875,\n",
       "  10.0,\n",
       "  10.0,\n",
       "  9.0,\n",
       "  4.75,\n",
       "  13.1875,\n",
       "  3.1875,\n",
       "  2.59375,\n",
       "  4.375,\n",
       "  5.9375,\n",
       "  8.0625,\n",
       "  6.1875,\n",
       "  3.671875,\n",
       "  5.75,\n",
       "  4.9375,\n",
       "  17.625,\n",
       "  4.84375,\n",
       "  4.78125,\n",
       "  5.25,\n",
       "  9.6875,\n",
       "  7.28125,\n",
       "  7.15625,\n",
       "  9.1875,\n",
       "  5.125,\n",
       "  15.25,\n",
       "  9.0,\n",
       "  7.25,\n",
       "  6.125,\n",
       "  16.0,\n",
       "  5.65625,\n",
       "  9.8125,\n",
       "  5.78125,\n",
       "  15.3125,\n",
       "  5.8125,\n",
       "  3.984375,\n",
       "  8.8125,\n",
       "  8.4375,\n",
       "  6.8125,\n",
       "  5.1875,\n",
       "  10.0,\n",
       "  9.625,\n",
       "  7.9375,\n",
       "  4.09375,\n",
       "  4.65625,\n",
       "  7.28125,\n",
       "  12.3125,\n",
       "  5.34375,\n",
       "  13.4375,\n",
       "  4.25,\n",
       "  4.78125,\n",
       "  7.53125,\n",
       "  1.40625,\n",
       "  11.0625,\n",
       "  6.78125,\n",
       "  7.75,\n",
       "  6.34375,\n",
       "  18.875,\n",
       "  3.71875,\n",
       "  9.75,\n",
       "  16.5,\n",
       "  6.5,\n",
       "  8.8125,\n",
       "  4.5,\n",
       "  4.25,\n",
       "  6.4375,\n",
       "  10.875,\n",
       "  7.90625,\n",
       "  3.203125,\n",
       "  9.875,\n",
       "  6.34375,\n",
       "  6.75,\n",
       "  4.0,\n",
       "  7.5,\n",
       "  4.78125,\n",
       "  5.0,\n",
       "  14.0,\n",
       "  13.25,\n",
       "  10.8125,\n",
       "  5.96875,\n",
       "  8.8125,\n",
       "  4.78125,\n",
       "  6.75,\n",
       "  10.1875,\n",
       "  7.625,\n",
       "  10.5625,\n",
       "  8.75,\n",
       "  7.0,\n",
       "  15.125,\n",
       "  9.6875,\n",
       "  6.03125,\n",
       "  5.40625,\n",
       "  9.5625,\n",
       "  6.15625,\n",
       "  3.53125,\n",
       "  3.625,\n",
       "  5.6875,\n",
       "  6.375,\n",
       "  8.5625,\n",
       "  3.265625,\n",
       "  7.53125,\n",
       "  7.71875,\n",
       "  8.0],\n",
       " 4.53125]"
      ]
     },
     "execution_count": 61,
     "metadata": {},
     "output_type": "execute_result"
    }
   ],
   "source": [
    "task_losses_positive[\"antonyms\"]"
   ]
  },
  {
   "cell_type": "code",
   "execution_count": 119,
   "metadata": {},
   "outputs": [
    {
     "data": {
      "application/vnd.plotly.v1+json": {
       "config": {
        "plotlyServerURL": "https://plot.ly"
       },
       "data": [
        {
         "coloraxis": "coloraxis",
         "hovertemplate": "x: %{x}<br>y: %{y}<br>color: %{z}<extra></extra>",
         "name": "0",
         "type": "heatmap",
         "x": [
          "5633",
          "26127",
          "6171",
          "16415",
          "7714",
          "10787",
          "30247",
          "3113",
          "9782",
          "8250",
          "7739",
          "572",
          "23613",
          "9790",
          "19515",
          "32320",
          "15947",
          "30814",
          "22113",
          "6756",
          "16996",
          "16490",
          "6765",
          "25712",
          "22136",
          "6780",
          "23682",
          "27268",
          "27270",
          "19592",
          "24206",
          "12943",
          "16016",
          "13458",
          "19097",
          "1181",
          "25759",
          "32417",
          "30888",
          "19112",
          "3757",
          "22199",
          "27832",
          "15554",
          "211",
          "26331",
          "11491",
          "17636",
          "29934",
          "14086",
          "9991",
          "27401",
          "6413",
          "5392",
          "23312",
          "4370",
          "9488",
          "14612",
          "25878",
          "1818",
          "16671",
          "7967",
          "1830",
          "18218",
          "26924",
          "3382",
          "19260",
          "8508",
          "12606",
          "7491",
          "20805",
          "23374",
          "850",
          "1878",
          "24925",
          "20832",
          "4448",
          "2914",
          "11618",
          "17761",
          "23906",
          "5991",
          "6503",
          "26987",
          "18285",
          "2930",
          "18803",
          "2931",
          "22906",
          "2939",
          "6013",
          "9600",
          "25474",
          "32643",
          "31620",
          "10633",
          "23436",
          "3476",
          "18840",
          "7578",
          "30618",
          "24993",
          "19363",
          "11172",
          "11173",
          "2992",
          "8633",
          "16313",
          "8125",
          "9662",
          "25534",
          "6594",
          "7106",
          "7114",
          "5579",
          "16340",
          "29144",
          "23514",
          "9178",
          "6108",
          "10720",
          "18400",
          "26594",
          "25056",
          "6629",
          "25576",
          "2539",
          "18416",
          "15356"
         ],
         "xaxis": "x",
         "y": [
          "location_continent",
          "football_player_position",
          "location_religion",
          "location_language",
          "person_profession",
          "location_country",
          "country_capital",
          "person_language",
          "singular_plural",
          "present_simple_past_simple",
          "antonyms",
          "plural_singular",
          "present_simple_past_perfect",
          "present_simple_gerund",
          "en_it",
          "it_en",
          "en_fr",
          "en_es",
          "fr_en",
          "es_en",
          "algo_last",
          "algo_first",
          "algo_second"
         ],
         "yaxis": "y",
         "z": [
          [
           0.8297872340425533,
           1,
           1,
           1,
           1,
           1,
           1,
           1,
           1,
           0.29787234042553185,
           1,
           1,
           1,
           1,
           1,
           0.7446808510638298,
           1,
           1,
           1,
           1,
           1,
           1,
           0.5957446808510638,
           1,
           1,
           1,
           0.03191489361702123,
           1,
           1,
           1,
           1,
           1,
           1,
           1,
           1,
           1,
           1,
           1,
           1,
           1,
           1,
           1,
           1,
           1,
           1,
           1,
           1,
           1,
           0.8085106382978723,
           1,
           1,
           1,
           1,
           1,
           1,
           1,
           1,
           0.9787234042553192,
           1,
           1,
           1,
           0.851063829787234,
           1,
           1,
           1,
           1,
           0.26595744680851063,
           1,
           1,
           1,
           1,
           1,
           0,
           1,
           1,
           0.7446808510638298,
           1,
           0.723404255319149,
           1,
           1,
           1,
           1,
           0.29787234042553185,
           1,
           1,
           1,
           1,
           1,
           1,
           1,
           0.34042553191489355,
           1,
           1,
           1,
           1,
           1,
           0.9787234042553192,
           1,
           1,
           0.7659574468085106,
           1,
           1,
           1,
           1,
           1,
           1,
           1,
           1,
           1,
           1,
           1,
           1,
           1,
           1,
           1,
           1,
           1,
           0.021276595744680823,
           1,
           0.010638297872340411,
           1,
           1,
           1,
           1,
           1,
           0.5425531914893617,
           0.5531914893617021,
           1,
           1
          ],
          [
           1,
           0.5921375921375922,
           0.9361179361179361,
           1,
           1,
           0.9361179361179361,
           1,
           0.9361179361179361,
           1,
           1,
           1,
           1,
           1,
           0,
           1,
           0.9705159705159706,
           0.7444717444717445,
           0.7002457002457003,
           0.9017199017199017,
           1,
           1,
           1,
           1,
           1,
           1,
           1,
           0.7886977886977887,
           1,
           1,
           1,
           1,
           0.6855036855036855,
           1,
           0.3513513513513514,
           0.882063882063882,
           1,
           1,
           0.9213759213759214,
           0.9705159705159706,
           1,
           1,
           1,
           1,
           0.9262899262899263,
           1,
           1,
           1,
           1,
           1,
           1,
           1,
           1,
           1,
           1,
           0.8230958230958231,
           1,
           1,
           1,
           1,
           1,
           0.6461916461916463,
           1,
           1,
           1,
           1,
           1,
           1,
           0.941031941031941,
           1,
           0.5184275184275184,
           1,
           1,
           1,
           1,
           1,
           0.9705159705159706,
           1,
           1,
           0.9508599508599509,
           1,
           1,
           1,
           1,
           1,
           0.8918918918918919,
           1,
           1,
           0.886977886977887,
           1,
           1,
           1,
           1,
           1,
           1,
           0.6560196560196561,
           1,
           0.9705159705159706,
           1,
           1,
           1,
           1,
           1,
           1,
           1,
           1,
           1,
           1,
           1,
           1,
           1,
           1,
           1,
           0.9901719901719901,
           1,
           1,
           1,
           1,
           1,
           0.9705159705159706,
           1,
           0.9017199017199017,
           1,
           1,
           1,
           0.9115479115479116,
           0.941031941031941,
           1,
           0.5921375921375922,
           1
          ],
          [
           1,
           0.9325842696629213,
           0.5617977528089887,
           1,
           0.8314606741573033,
           0.9213483146067416,
           0.8539325842696629,
           0.6123595505617977,
           0.8314606741573033,
           1,
           1,
           0.9438202247191011,
           1,
           1,
           1,
           0.7528089887640449,
           0.8426966292134831,
           1,
           0.8876404494382023,
           0.9775280898876404,
           1,
           1,
           0.898876404494382,
           1,
           1,
           1,
           0.7865168539325843,
           1,
           1,
           1,
           1,
           0.7977528089887641,
           1,
           0.8764044943820224,
           1,
           1,
           1,
           1,
           0.9101123595505619,
           1,
           0.9775280898876404,
           1,
           1,
           1,
           1,
           1,
           0.6629213483146067,
           1,
           0.601123595505618,
           1,
           1,
           0.550561797752809,
           0.9325842696629213,
           1,
           1,
           1,
           1,
           1,
           1,
           1,
           0.9213483146067416,
           0.398876404494382,
           1,
           1,
           1,
           1,
           0.9438202247191011,
           0.9550561797752809,
           1,
           0.3089887640449438,
           1,
           1,
           1,
           1,
           1,
           0.601123595505618,
           1,
           1,
           0.10674157303370786,
           1,
           1,
           0.9325842696629213,
           0.7078651685393259,
           1,
           1,
           1,
           1,
           0.7977528089887641,
           1,
           0.6292134831460674,
           1,
           1,
           1,
           0.9101123595505619,
           0.6741573033707865,
           1,
           0.9438202247191011,
           1,
           0.9438202247191011,
           1,
           0.9325842696629213,
           1,
           1,
           0,
           1,
           0.9101123595505619,
           1,
           1,
           1,
           0.5112359550561798,
           1,
           1,
           0.46629213483146065,
           1,
           0.7415730337078652,
           1,
           1,
           0.8539325842696629,
           0.016853932584269572,
           1,
           1,
           0.702247191011236,
           1,
           1,
           0.6910112359550561,
           1,
           0.7078651685393259,
           0.19662921348314608,
           0.8202247191011236
          ],
          [
           1,
           1,
           0.7647058823529412,
           1,
           1,
           1,
           0.7967914438502675,
           0.9144385026737967,
           0.9786096256684492,
           1,
           1,
           0.7005347593582887,
           1,
           1,
           1,
           1,
           0.7647058823529412,
           1,
           0.9572192513368984,
           0.9893048128342246,
           1,
           1,
           1,
           1,
           1,
           1,
           0.93048128342246,
           1,
           1,
           1,
           1,
           1,
           1,
           0.6577540106951871,
           1,
           1,
           1,
           1,
           1,
           0.9144385026737967,
           0.8609625668449198,
           1,
           1,
           0.9893048128342246,
           1,
           1,
           0.12032085561497338,
           1,
           0.946524064171123,
           1,
           1,
           1,
           1,
           1,
           1,
           1,
           1,
           1,
           1,
           1,
           1,
           0.6898395721925134,
           1,
           1,
           1,
           1,
           1,
           1,
           1,
           0.6363636363636364,
           1,
           1,
           1,
           1,
           1,
           0.5561497326203209,
           1,
           1,
           1,
           1,
           1,
           0.9358288770053477,
           0.6737967914438503,
           1,
           1,
           1,
           1,
           0.7754010695187167,
           1,
           0.8449197860962566,
           1,
           1,
           1,
           0.6844919786096256,
           0.9251336898395722,
           1,
           0.9679144385026738,
           1,
           0.8502673796791443,
           1,
           1,
           1,
           1,
           0,
           1,
           1,
           1,
           1,
           1,
           0.609625668449198,
           1,
           1,
           0.6363636363636364,
           1,
           1,
           1,
           1,
           0.9411764705882354,
           1,
           1,
           1,
           0.732620320855615,
           1,
           1,
           0.732620320855615,
           1,
           0.8181818181818182,
           0.23796791443850268,
           0.9786096256684492
          ],
          [
           1,
           0.49140893470790387,
           0.7594501718213059,
           1,
           1,
           0.8762886597938145,
           1,
           0.8144329896907216,
           1,
           1,
           1,
           1,
           1,
           0.8350515463917526,
           1,
           1,
           0.429553264604811,
           0.5876288659793815,
           1,
           0.8419243986254296,
           1,
           1,
           0.7663230240549829,
           1,
           1,
           1,
           0.47766323024054985,
           1,
           1,
           0.9243986254295533,
           0.6563573883161513,
           0.31271477663230246,
           1,
           0.1786941580756014,
           0.7250859106529209,
           1,
           1,
           0.7869415807560137,
           1,
           1,
           1,
           1,
           1,
           0.9312714776632303,
           1,
           1,
           1,
           1,
           1,
           1,
           1,
           0.7044673539518901,
           0.6632302405498283,
           1,
           0.6082474226804124,
           1,
           1,
           0.965635738831615,
           1,
           1,
           0.429553264604811,
           1,
           1,
           1,
           1,
           1,
           1,
           0.993127147766323,
           1,
           0,
           1,
           1,
           1,
           1,
           1,
           0.9725085910652922,
           1,
           1,
           1,
           1,
           1,
           1,
           0.9243986254295533,
           1,
           0.8213058419243987,
           1,
           1,
           1,
           1,
           0.8762886597938145,
           1,
           1,
           1,
           1,
           0.47766323024054985,
           1,
           0.7663230240549829,
           1,
           1,
           1,
           1,
           1,
           1,
           1,
           1,
           1,
           1,
           1,
           0.8075601374570447,
           1,
           1,
           1,
           0.718213058419244,
           1,
           1,
           1,
           1,
           0.9518900343642611,
           0.6563573883161513,
           1,
           0.2646048109965636,
           1,
           1,
           1,
           0.7250859106529209,
           0.8556701030927835,
           0.8419243986254296,
           0.15120274914089352,
           1
          ],
          [
           1,
           1,
           0.9922178988326849,
           1,
           1,
           1,
           0.8443579766536965,
           1,
           1,
           1,
           1,
           1,
           1,
           1,
           1,
           0.7509727626459144,
           0.9922178988326849,
           1,
           0.6342412451361867,
           0.5719844357976653,
           1,
           1,
           0.6186770428015564,
           1,
           1,
           1,
           0.6108949416342413,
           1,
           0.7431906614785992,
           1,
           1,
           1,
           1,
           1,
           1,
           1,
           1,
           1,
           1,
           1,
           1,
           1,
           1,
           1,
           1,
           1,
           1,
           0.8599221789883269,
           0.9766536964980544,
           1,
           1,
           1,
           1,
           1,
           1,
           1,
           1,
           1,
           1,
           1,
           1,
           0,
           1,
           1,
           1,
           1,
           1,
           1,
           0.7665369649805448,
           1,
           1,
           1,
           1,
           1,
           1,
           0.9922178988326849,
           1,
           1,
           1,
           1,
           1,
           1,
           0.8287937743190662,
           1,
           1,
           1,
           0.8443579766536965,
           1,
           1,
           0.9766536964980544,
           0.48638132295719844,
           1,
           1,
           1,
           0.6964980544747081,
           1,
           1,
           1,
           1,
           1,
           1,
           1,
           1,
           1,
           0.33852140077821014,
           0.8132295719844358,
           1,
           1,
           1,
           0.6186770428015564,
           1,
           1,
           1,
           1,
           1,
           1,
           1,
           0.06614785992217899,
           1,
           1,
           1,
           1,
           1,
           1,
           1,
           0.9610894941634242,
           1,
           0.8832684824902723,
           1
          ],
          [
           1,
           0.6605166051660517,
           1,
           1,
           1,
           1,
           1,
           1,
           1,
           1,
           1,
           1,
           1,
           1,
           1,
           1,
           1,
           1,
           0.7490774907749077,
           1,
           1,
           1,
           0.8081180811808119,
           1,
           1,
           1,
           1,
           1,
           1,
           1,
           1,
           1,
           1,
           1,
           1,
           0.955719557195572,
           1,
           1,
           0.9335793357933578,
           1,
           1,
           1,
           1,
           1,
           1,
           1,
           1,
           0.9630996309963099,
           1,
           1,
           1,
           1,
           1,
           1,
           1,
           1,
           1,
           1,
           0.955719557195572,
           1,
           1,
           0.7269372693726938,
           1,
           1,
           1,
           1,
           1,
           1,
           1,
           1,
           1,
           1,
           1,
           1,
           1,
           0.9114391143911439,
           1,
           1,
           1,
           1,
           1,
           0.9114391143911439,
           1,
           1,
           1,
           1,
           0.7859778597785978,
           1,
           1,
           0.948339483394834,
           0.6605166051660517,
           1,
           1,
           1,
           1,
           1,
           1,
           1,
           1,
           1,
           1,
           1,
           1,
           1,
           0,
           1,
           1,
           1,
           1,
           1,
           1,
           1,
           1,
           1,
           1,
           1,
           1,
           0.19926199261992622,
           1,
           1,
           1,
           1,
           1,
           1,
           1,
           1,
           1,
           1,
           1
          ],
          [
           1,
           0.9331243469174503,
           0.6823406478578892,
           1,
           0.9247648902821316,
           1,
           0.8495297805642633,
           1,
           0.8495297805642633,
           1,
           1,
           0.974921630094044,
           1,
           1,
           1,
           0.9331243469174503,
           0.6990595611285266,
           1,
           0.8160919540229885,
           0.8913270637408569,
           1,
           1,
           1,
           1,
           1,
           1,
           0.8578892371995821,
           1,
           1,
           1,
           1,
           0.9247648902821316,
           0.9164054336468129,
           0.47335423197492166,
           1,
           1,
           1,
           1,
           1,
           0.8328108672936259,
           1,
           1,
           1,
           1,
           1,
           1,
           0.008359456635318691,
           1,
           0.749216300940439,
           1,
           1,
           0.8119122257053291,
           1,
           1,
           1,
           1,
           1,
           1,
           1,
           1,
           1,
           0.6489028213166144,
           1,
           1,
           1,
           1,
           1,
           1,
           1,
           0.40647857889237204,
           1,
           1,
           1,
           1,
           1,
           0.7910135841170324,
           1,
           0.9582027168234065,
           0.7784743991640544,
           1,
           1,
           0.9080459770114943,
           0.6614420062695925,
           1,
           1,
           1,
           1,
           0.8746081504702194,
           1,
           0.8160919540229885,
           1,
           1,
           1,
           0.7784743991640544,
           0.6447230929989551,
           1,
           0.8411703239289445,
           1,
           0.8495297805642633,
           0.974921630094044,
           1,
           1,
           1,
           0,
           1,
           1,
           1,
           1,
           1,
           0.6739811912225706,
           1,
           1,
           0.7074190177638454,
           1,
           0.7533960292580982,
           1,
           1,
           0.820271682340648,
           0.8996865203761756,
           1,
           1,
           0.6948798328108673,
           1,
           1,
           0.6530825496342738,
           1,
           0.6698014629049112,
           0.21839080459770113,
           0.7408568443051201
          ],
          [
           1,
           1,
           1,
           1,
           1,
           1,
           1,
           1,
           1,
           1,
           1,
           0.9375,
           1,
           1,
           1,
           1,
           1,
           1,
           1,
           1,
           1,
           1,
           1,
           1,
           1,
           1,
           1,
           1,
           1,
           1,
           1,
           1,
           0.28125,
           1,
           1,
           1,
           1,
           0.21875000000000003,
           0.78125,
           1,
           0.96875,
           1,
           1,
           1,
           1,
           1,
           1,
           1,
           1,
           0.8125,
           0.3125,
           1,
           1,
           1,
           1,
           1,
           1,
           0,
           1,
           1,
           1,
           1,
           0.3125,
           1,
           1,
           1,
           1,
           1,
           1,
           1,
           1,
           1,
           1,
           0,
           1,
           1,
           0.84375,
           1,
           1,
           1,
           1,
           1,
           0.75,
           1,
           1,
           0.8750000000000001,
           1,
           1,
           1,
           1,
           1,
           1,
           1,
           1,
           1,
           1,
           1,
           1,
           1,
           1,
           1,
           1,
           1,
           1,
           1,
           1,
           1,
           1,
           1,
           1,
           1,
           0.06250000000000006,
           1,
           1,
           1,
           1,
           1,
           1,
           1,
           1,
           1,
           1,
           1,
           1,
           1,
           1,
           1,
           1,
           1
          ],
          [
           1,
           0.7037037037037037,
           0.9555555555555555,
           1,
           1,
           1,
           1,
           1,
           1,
           1,
           1,
           1,
           1,
           1,
           1,
           1,
           1,
           1,
           0.762962962962963,
           1,
           1,
           1,
           1,
           1,
           1,
           1,
           1,
           1,
           1,
           1,
           1,
           1,
           0.3037037037037037,
           1,
           1,
           1,
           1,
           1,
           1,
           1,
           1,
           1,
           1,
           1,
           1,
           1,
           1,
           1,
           1,
           1,
           1,
           1,
           1,
           1,
           1,
           1,
           1,
           1,
           1,
           1,
           1,
           1,
           0.9851851851851852,
           1,
           1,
           1,
           1,
           1,
           1,
           1,
           1,
           1,
           1,
           1,
           1,
           1,
           1,
           1,
           1,
           1,
           1,
           1,
           1,
           1,
           1,
           1,
           1,
           1,
           1,
           1,
           1,
           1,
           1,
           1,
           1,
           1,
           1,
           1,
           1,
           1,
           1,
           1,
           1,
           1,
           1,
           1,
           1,
           1,
           1,
           1,
           1,
           0.6296296296296297,
           1,
           1,
           1,
           1,
           1,
           1,
           1,
           1,
           1,
           1,
           1,
           1,
           0.8666666666666667,
           1,
           1,
           1,
           0
          ],
          [
           1,
           1,
           1,
           1,
           1,
           1,
           0.68,
           1,
           1,
           1,
           1,
           0.795,
           1,
           1,
           1,
           1,
           1,
           1,
           1,
           1,
           1,
           1,
           0.9400000000000001,
           1,
           0.71,
           1,
           0.8899999999999999,
           1,
           1,
           1,
           1,
           1,
           1,
           0.5700000000000001,
           0.38,
           0.9500000000000001,
           1,
           1,
           1,
           0.725,
           1,
           1,
           1,
           1,
           1,
           1,
           1,
           1,
           1,
           1,
           1,
           1,
           1,
           1,
           1,
           1,
           1,
           1,
           1,
           1,
           1,
           0.825,
           1,
           1,
           1,
           1,
           1,
           1,
           1,
           0.8600000000000001,
           1,
           1,
           1,
           1,
           1,
           0.91,
           1,
           1,
           0,
           1,
           1,
           1,
           1,
           1,
           0.74,
           1,
           1,
           1,
           1,
           0.99,
           0.91,
           1,
           1,
           1,
           0.5750000000000001,
           1,
           1,
           1,
           0.83,
           1,
           1,
           1,
           1,
           1,
           1,
           1,
           1,
           1,
           1,
           1,
           1,
           1,
           1,
           1,
           1,
           1,
           1,
           1,
           1,
           1,
           0.68,
           0.71,
           1,
           1,
           1,
           0.595,
           1,
           1,
           1
          ],
          [
           1,
           0.7586206896551724,
           1,
           1,
           1,
           1,
           1,
           1,
           0.6551724137931034,
           1,
           1,
           1,
           1,
           1,
           1,
           1,
           1,
           1,
           1,
           1,
           1,
           1,
           1,
           1,
           1,
           1,
           1,
           1,
           1,
           1,
           1,
           1,
           0.2413793103448275,
           1,
           1,
           1,
           1,
           1,
           0.7758620689655172,
           1,
           0.706896551724138,
           1,
           1,
           1,
           0.5862068965517241,
           1,
           1,
           1,
           1,
           1,
           1,
           1,
           1,
           1,
           1,
           1,
           1,
           1,
           0.9482758620689655,
           1,
           1,
           1,
           1,
           1,
           1,
           1,
           1,
           1,
           1,
           1,
           1,
           1,
           1,
           0.6206896551724137,
           1,
           1,
           1,
           1,
           1,
           1,
           1,
           1,
           1,
           1,
           1,
           0.12068965517241376,
           1,
           1,
           0.8103448275862069,
           1,
           1,
           1,
           1,
           1,
           1,
           1,
           1,
           1,
           0.9482758620689655,
           1,
           1,
           1,
           1,
           1,
           1,
           1,
           1,
           1,
           1,
           1,
           0,
           1,
           1,
           1,
           1,
           1,
           0.6379310344827586,
           1,
           1,
           1,
           1,
           1,
           1,
           0.8793103448275863,
           1,
           1,
           1,
           1,
           1
          ],
          [
           1,
           1,
           1,
           1,
           1,
           1,
           1,
           1,
           1,
           1,
           1,
           1,
           1,
           1,
           1,
           1,
           1,
           1,
           1,
           1,
           1,
           1,
           1,
           1,
           1,
           1,
           1,
           1,
           1,
           1,
           1,
           1,
           1,
           1,
           1,
           1,
           1,
           1,
           1,
           1,
           1,
           1,
           1,
           1,
           1,
           1,
           1,
           1,
           1,
           1,
           1,
           1,
           1,
           1,
           1,
           1,
           1,
           1,
           1,
           1,
           1,
           1,
           1,
           1,
           1,
           1,
           1,
           1,
           1,
           1,
           1,
           1,
           1,
           1,
           1,
           1,
           1,
           1,
           1,
           1,
           1,
           1,
           1,
           1,
           1,
           1,
           1,
           1,
           1,
           1,
           1,
           1,
           1,
           1,
           1,
           1,
           1,
           1,
           1,
           1,
           1,
           1,
           1,
           1,
           1,
           1,
           1,
           1,
           1,
           1,
           1,
           0,
           1,
           1,
           1,
           1,
           1,
           1,
           1,
           1,
           1,
           1,
           1,
           1,
           1,
           1,
           1,
           1,
           1
          ],
          [
           1,
           0.9450549450549451,
           1,
           1,
           1,
           0.47252747252747257,
           1,
           0.934065934065934,
           1,
           1,
           1,
           1,
           1,
           1,
           1,
           0.6593406593406592,
           1,
           1,
           1,
           1,
           1,
           1,
           1,
           1,
           1,
           1,
           1,
           1,
           1,
           1,
           1,
           1,
           0,
           1,
           1,
           1,
           1,
           1,
           1,
           1,
           0.7802197802197803,
           1,
           1,
           0.06593406593406598,
           1,
           1,
           1,
           1,
           1,
           1,
           1,
           1,
           1,
           1,
           1,
           1,
           1,
           1,
           1,
           1,
           1,
           1,
           0.6153846153846154,
           1,
           1,
           1,
           1,
           1,
           1,
           1,
           1,
           1,
           1,
           1,
           1,
           1,
           0.5054945054945055,
           1,
           1,
           1,
           1,
           1,
           0.6813186813186813,
           1,
           1,
           1,
           1,
           1,
           1,
           1,
           1,
           1,
           1,
           1,
           1,
           1,
           1,
           1,
           1,
           1,
           1,
           1,
           1,
           1,
           1,
           1,
           1,
           1,
           1,
           1,
           0.6263736263736264,
           1,
           1,
           1,
           1,
           1,
           1,
           1,
           1,
           1,
           1,
           1,
           1,
           1,
           1,
           1,
           1,
           1,
           0.8241758241758241
          ],
          [
           1,
           0.6585365853658537,
           0.9121951219512194,
           0.8536585365853658,
           0.7365853658536585,
           0.8634146341463413,
           0.7853658536585366,
           0.7170731707317073,
           0.9024390243902439,
           1,
           1,
           0.9121951219512194,
           0.8926829268292683,
           1,
           0.9024390243902439,
           0.7170731707317073,
           0.7073170731707317,
           0.9609756097560975,
           1,
           1,
           1,
           1,
           1,
           0.970731707317073,
           1,
           1,
           0.9414634146341464,
           1,
           1,
           1,
           1,
           1,
           0.38536585365853654,
           0.8829268292682927,
           1,
           0.8829268292682927,
           1,
           0.7463414634146341,
           0.8439024390243902,
           0.873170731707317,
           0.8829268292682927,
           1,
           1,
           0.9512195121951219,
           1,
           1,
           0.9219512195121952,
           0.8634146341463413,
           1,
           1,
           0.873170731707317,
           1,
           1,
           0.9121951219512194,
           0.46341463414634143,
           1,
           1,
           1,
           1,
           1,
           0.8829268292682927,
           0.8536585365853658,
           0.775609756097561,
           1,
           0.8341463414634147,
           0.9317073170731708,
           1,
           1,
           0.9609756097560975,
           1,
           0.9414634146341464,
           1,
           1,
           0.648780487804878,
           1,
           0.8341463414634147,
           0.9609756097560975,
           0.9902439024390244,
           1,
           1,
           1,
           0.7463414634146341,
           0.6097560975609756,
           0,
           0.9121951219512194,
           0.9804878048780489,
           1,
           1,
           0.8829268292682927,
           0.8536585365853658,
           0.9317073170731708,
           0.9804878048780489,
           1,
           0.7951219512195121,
           1,
           1,
           0.8536585365853658,
           1,
           0.9121951219512194,
           1,
           1,
           1,
           1,
           1,
           0.9317073170731708,
           1,
           1,
           1,
           1,
           0.8341463414634147,
           0.8439024390243902,
           0.7658536585365854,
           0.9804878048780489,
           0.7658536585365854,
           1,
           1,
           1,
           0.7853658536585366,
           1,
           1,
           1,
           0.970731707317073,
           0.8341463414634147,
           0.873170731707317,
           1,
           1,
           0.9317073170731708,
           0.7853658536585366,
           1
          ],
          [
           1,
           1,
           1,
           1,
           1,
           0.6949152542372881,
           0.4237288135593221,
           1,
           0.3728813559322034,
           1,
           1,
           0.8644067796610169,
           1,
           1,
           1,
           0.4745762711864407,
           1,
           1,
           1,
           1,
           0.7627118644067797,
           1,
           1,
           1,
           1,
           1,
           0.3389830508474577,
           1,
           1,
           1,
           1,
           0.10169491525423731,
           1,
           1,
           0.8983050847457626,
           1,
           1,
           1,
           1,
           1,
           1,
           1,
           1,
           1,
           1,
           1,
           1,
           1,
           1,
           1,
           1,
           1,
           1,
           1,
           1,
           1,
           1,
           1,
           0.7966101694915254,
           1,
           1,
           1,
           1,
           1,
           1,
           1,
           1,
           1,
           1,
           0,
           1,
           1,
           1,
           1,
           1,
           0.4237288135593221,
           1,
           1,
           1,
           1,
           1,
           1,
           0.7627118644067797,
           1,
           1,
           1,
           1,
           1,
           1,
           1,
           1,
           1,
           1,
           1,
           1,
           1,
           1,
           1,
           0.8644067796610169,
           1,
           1,
           1,
           1,
           1,
           1,
           1,
           1,
           1,
           1,
           1,
           1,
           1,
           1,
           1,
           1,
           1,
           1,
           1,
           1,
           1,
           1,
           1,
           1,
           1,
           0.05084745762711872,
           1,
           1,
           1,
           1
          ],
          [
           1,
           0.6547619047619048,
           0.8095238095238095,
           0.9404761904761905,
           0.6071428571428572,
           0.9523809523809523,
           0.7380952380952381,
           0.625,
           1,
           1,
           1,
           0.8809523809523809,
           0.7142857142857143,
           1,
           0.8928571428571428,
           0.6190476190476191,
           0.5654761904761905,
           0.8571428571428572,
           0.9523809523809523,
           0.9880952380952381,
           0.9047619047619048,
           1,
           1,
           1,
           1,
           1,
           0.8452380952380952,
           1,
           1,
           1,
           1,
           1,
           0.29166666666666674,
           0.8571428571428572,
           1,
           0.9285714285714286,
           1,
           0.625,
           0.6309523809523809,
           0.7261904761904762,
           0.8214285714285715,
           1,
           1,
           0.9880952380952381,
           1,
           1,
           0.8928571428571428,
           0.5952380952380953,
           0.7976190476190477,
           0.9166666666666667,
           0.6666666666666666,
           1,
           1,
           0.7380952380952381,
           0.43452380952380953,
           1,
           1,
           1,
           0.9642857142857142,
           1,
           0.7976190476190477,
           0.8809523809523809,
           0.8333333333333334,
           1,
           0.761904761904762,
           0.9880952380952381,
           1,
           1,
           0.9880952380952381,
           0.9642857142857142,
           0.8809523809523809,
           0.8571428571428572,
           1,
           0.5714285714285715,
           1,
           0.7261904761904762,
           0.7380952380952381,
           1,
           1,
           1,
           1,
           0.45833333333333337,
           0.49404761904761907,
           0,
           0.7261904761904762,
           1,
           1,
           1,
           1,
           0.7976190476190477,
           0.9047619047619048,
           0.9761904761904763,
           1,
           0.8452380952380952,
           1,
           1,
           0.8214285714285715,
           1,
           0.7261904761904762,
           1,
           1,
           1,
           1,
           1,
           0.8333333333333334,
           1,
           1,
           1,
           1,
           0.6130952380952381,
           0.9047619047619048,
           0.7976190476190477,
           0.7857142857142857,
           0.761904761904762,
           1,
           1,
           1,
           0.6011904761904763,
           1,
           1,
           1,
           0.8333333333333334,
           0.9642857142857142,
           1,
           1,
           0.9761904761904763,
           0.7023809523809524,
           0.8095238095238095,
           0.9761904761904763
          ],
          [
           1,
           0.6473988439306358,
           0.838150289017341,
           0.9421965317919075,
           0.6416184971098265,
           0.9190751445086704,
           0.8323699421965317,
           0.653179190751445,
           0.861271676300578,
           1,
           1,
           0.9306358381502889,
           0.861271676300578,
           0.976878612716763,
           0.907514450867052,
           0.6763005780346821,
           0.7803468208092486,
           0.8901734104046243,
           0.9421965317919075,
           1,
           0.838150289017341,
           1,
           1,
           1,
           1,
           1,
           0.907514450867052,
           1,
           1,
           1,
           1,
           1,
           0.3410404624277456,
           0.8497109826589595,
           1,
           0.861271676300578,
           1,
           0.7514450867052024,
           0.815028901734104,
           0.7630057803468208,
           0.8323699421965317,
           1,
           1,
           1,
           1,
           0.9653179190751445,
           1,
           0.9306358381502889,
           0.9653179190751445,
           0.9653179190751445,
           0.745664739884393,
           1,
           1,
           0.907514450867052,
           0.5202312138728323,
           1,
           1,
           1,
           1,
           1,
           0.8208092485549132,
           0.815028901734104,
           0.6936416184971097,
           1,
           0.7572254335260115,
           0.884393063583815,
           1,
           1,
           0.9884393063583815,
           0.976878612716763,
           0.815028901734104,
           1,
           1,
           0.6011560693641618,
           1,
           0.745664739884393,
           0.8901734104046243,
           1,
           1,
           1,
           0.953757225433526,
           0.7976878612716762,
           0.6878612716763006,
           0,
           0.8323699421965317,
           0.907514450867052,
           1,
           1,
           0.907514450867052,
           0.8208092485549132,
           0.8497109826589595,
           1,
           1,
           0.6763005780346821,
           1,
           1,
           0.8497109826589595,
           1,
           0.7803468208092486,
           1,
           1,
           1,
           1,
           1,
           0.8554913294797689,
           1,
           1,
           1,
           1,
           0.953757225433526,
           0.791907514450867,
           0.907514450867052,
           1,
           0.884393063583815,
           0.9884393063583815,
           1,
           0.976878612716763,
           0.7630057803468208,
           1,
           1,
           1,
           0.8034682080924856,
           0.9190751445086704,
           0.7976878612716762,
           1,
           1,
           0.8670520231213873,
           0.9306358381502889,
           0.9884393063583815
          ],
          [
           1,
           1,
           0.3999999999999999,
           1,
           1,
           0.4857142857142857,
           0.7142857142857143,
           0.8,
           0.6571428571428571,
           1,
           1,
           0.7,
           1,
           1,
           1,
           0.2571428571428571,
           0.9,
           0.7,
           1,
           0.4857142857142857,
           0.7428571428571428,
           0.8428571428571427,
           0.6857142857142857,
           1,
           1,
           1,
           0.3571428571428571,
           1,
           1,
           1,
           1,
           0,
           0.8714285714285714,
           0.9571428571428571,
           0.6857142857142857,
           0.44285714285714284,
           1,
           1,
           0.942857142857143,
           1,
           0.7714285714285715,
           0.44285714285714284,
           1,
           1,
           0.8571428571428571,
           1,
           1,
           1,
           1,
           1,
           1,
           1,
           1,
           1,
           1,
           1,
           0.6571428571428571,
           1,
           0.3714285714285714,
           1,
           0.8428571428571427,
           0.8714285714285714,
           1,
           0.7714285714285715,
           1,
           1,
           1,
           1,
           1,
           0.7428571428571428,
           1,
           1,
           1,
           1,
           1,
           0.3142857142857143,
           1,
           0.942857142857143,
           1,
           1,
           1,
           1,
           0.7285714285714285,
           1,
           0.7142857142857143,
           1,
           1,
           1,
           1,
           0.9857142857142857,
           1,
           1,
           1,
           0.7,
           1,
           1,
           1,
           1,
           0.5428571428571428,
           1,
           1,
           1,
           1,
           1,
           1,
           0.19999999999999996,
           1,
           1,
           1,
           1,
           1,
           1,
           1,
           1,
           0.5142857142857142,
           1,
           1,
           1,
           0.9285714285714286,
           1,
           1,
           0.5714285714285714,
           1,
           1,
           0.3714285714285714,
           1,
           1,
           1,
           1
          ],
          [
           1,
           0.7222222222222222,
           0.8981481481481481,
           1,
           0.7685185185185185,
           0.5277777777777778,
           0.7870370370370371,
           0.6666666666666667,
           0.37962962962962965,
           1,
           1,
           0.6111111111111112,
           1,
           1,
           0.6296296296296297,
           0.23611111111111122,
           0.7685185185185185,
           0.7870370370370371,
           0.6296296296296297,
           0.4722222222222223,
           0.8148148148148149,
           1,
           0.4166666666666667,
           1,
           1,
           1,
           0.601851851851852,
           1,
           1,
           1,
           1,
           0.5555555555555556,
           0.29629629629629634,
           0.8425925925925926,
           0.9166666666666667,
           0.7962962962962963,
           0.9814814814814815,
           0.7129629629629629,
           0.7222222222222222,
           1,
           0.5185185185185185,
           0.425925925925926,
           1,
           1,
           0.5185185185185185,
           0.7685185185185185,
           1,
           1,
           1,
           0.8796296296296297,
           0.888888888888889,
           1,
           1,
           1,
           0.861111111111111,
           1,
           1,
           0.9444444444444444,
           0.25,
           1,
           0.6666666666666667,
           0.7314814814814815,
           1,
           0.7962962962962963,
           0.8518518518518519,
           0.7314814814814815,
           1,
           1,
           1,
           0.4166666666666667,
           1,
           1,
           1,
           1,
           1,
           0.5462962962962963,
           0.6666666666666667,
           0.8796296296296297,
           1,
           1,
           1,
           1,
           0.425925925925926,
           1,
           0.8240740740740742,
           0.5740740740740742,
           1,
           1,
           1,
           0.7222222222222222,
           0.9537037037037037,
           1,
           1,
           0.7314814814814815,
           1,
           1,
           1,
           1,
           0.7129629629629629,
           1,
           1,
           1,
           1,
           1,
           1,
           0.40740740740740744,
           1,
           1,
           1,
           1,
           0.8240740740740742,
           1,
           1,
           1,
           0.25925925925925924,
           1,
           0.6944444444444444,
           0.8333333333333334,
           0.8240740740740742,
           1,
           1,
           0.7685185185185185,
           0.7962962962962963,
           0.6574074074074074,
           0,
           1,
           0.9166666666666667,
           0.9629629629629629,
           1
          ],
          [
           1,
           0.8431372549019608,
           0.6216839677047289,
           1,
           1,
           1,
           1,
           1,
           1,
           1,
           1,
           0.5986159169550173,
           1,
           0.8708189158016147,
           1,
           0.12802768166089962,
           1,
           1,
           1,
           1,
           1,
           1,
           1,
           1,
           0.48327566320645904,
           1,
           0.7093425605536332,
           0.02191464821222613,
           1,
           1,
           1,
           1,
           1,
           0.7139561707035755,
           1,
           1,
           1,
           1,
           0.3910034602076125,
           0.3679354094579009,
           0.7093425605536332,
           1,
           1,
           1,
           1,
           1,
           1,
           1,
           1,
           1,
           1,
           1,
           1,
           1,
           1,
           1,
           1,
           0.7139561707035755,
           0.6216839677047289,
           1,
           1,
           1,
           1,
           1,
           1,
           1,
           1,
           1,
           1,
           1,
           0.7923875432525952,
           1,
           1,
           0.42329873125720874,
           1,
           1,
           1,
           1,
           1,
           1,
           1,
           1,
           1,
           1,
           1,
           1,
           1,
           1,
           1,
           1,
           1,
           1,
           1,
           0.8385236447520185,
           1,
           1,
           1,
           1,
           1,
           1,
           1,
           1,
           1,
           1,
           1,
           1,
           0,
           1,
           1,
           1,
           0.3679354094579009,
           0.8062283737024222,
           1,
           0.14878892733564017,
           0.3264129181084198,
           1,
           1,
           1,
           1,
           1,
           1,
           1,
           1,
           1,
           0.6262975778546712,
           1,
           1,
           1,
           1
          ],
          [
           1,
           1,
           1,
           1,
           1,
           1,
           1,
           1,
           1,
           1,
           1,
           1,
           1,
           1,
           1,
           1,
           1,
           1,
           1,
           0.6363636363636364,
           1,
           1,
           1,
           1,
           1,
           1,
           1,
           1,
           1,
           1,
           1,
           1,
           1,
           1,
           1,
           1,
           1,
           1,
           1,
           1,
           1,
           1,
           1,
           1,
           1,
           1,
           1,
           1,
           1,
           1,
           1,
           1,
           1,
           1,
           1,
           1,
           1,
           1,
           1,
           1,
           1,
           1,
           1,
           1,
           1,
           1,
           1,
           1,
           1,
           1,
           1,
           1,
           1,
           0.3636363636363636,
           1,
           1,
           1,
           1,
           1,
           1,
           1,
           1,
           1,
           1,
           1,
           1,
           1,
           1,
           1,
           0,
           1,
           1,
           1,
           1,
           1,
           1,
           1,
           1,
           0.8787878787878788,
           1,
           1,
           1,
           1,
           1,
           1,
           1,
           1,
           1,
           1,
           1,
           1,
           1,
           1,
           1,
           1,
           1,
           0.21212121212121213,
           1,
           1,
           1,
           1,
           1,
           1,
           1,
           1,
           1,
           1,
           1,
           1
          ],
          [
           1,
           0.35263157894736835,
           1,
           1,
           1,
           1,
           1,
           1,
           0.6631578947368421,
           1,
           1,
           1,
           1,
           0.7157894736842105,
           1,
           1,
           1,
           1,
           1,
           1,
           0.863157894736842,
           1,
           1,
           1,
           1,
           1,
           1,
           1,
           1,
           1,
           1,
           1,
           1,
           0.6842105263157895,
           1,
           0.8842105263157894,
           1,
           1,
           0.8842105263157894,
           0.12631578947368413,
           1,
           1,
           1,
           1,
           1,
           1,
           1,
           1,
           1,
           1,
           1,
           1,
           1,
           1,
           0.936842105263158,
           1,
           1,
           1,
           1,
           1,
           1,
           1,
           1,
           1,
           1,
           1,
           1,
           1,
           1,
           1,
           1,
           1,
           1,
           0,
           1,
           1,
           1,
           1,
           1,
           1,
           1,
           1,
           1,
           1,
           1,
           1,
           1,
           1,
           1,
           0.6947368421052632,
           0.7578947368421052,
           1,
           1,
           1,
           1,
           1,
           1,
           1,
           0.9473684210526315,
           1,
           1,
           1,
           1,
           1,
           1,
           1,
           1,
           1,
           1,
           1,
           1,
           1,
           1,
           1,
           1,
           1,
           1,
           1,
           1,
           1,
           1,
           1,
           1,
           1,
           1,
           1,
           1,
           1,
           1
          ]
         ]
        }
       ],
       "layout": {
        "coloraxis": {
         "colorscale": [
          [
           0,
           "#0d0887"
          ],
          [
           0.1111111111111111,
           "#46039f"
          ],
          [
           0.2222222222222222,
           "#7201a8"
          ],
          [
           0.3333333333333333,
           "#9c179e"
          ],
          [
           0.4444444444444444,
           "#bd3786"
          ],
          [
           0.5555555555555556,
           "#d8576b"
          ],
          [
           0.6666666666666666,
           "#ed7953"
          ],
          [
           0.7777777777777778,
           "#fb9f3a"
          ],
          [
           0.8888888888888888,
           "#fdca26"
          ],
          [
           1,
           "#f0f921"
          ]
         ]
        },
        "margin": {
         "t": 60
        },
        "template": {
         "data": {
          "bar": [
           {
            "error_x": {
             "color": "#2a3f5f"
            },
            "error_y": {
             "color": "#2a3f5f"
            },
            "marker": {
             "line": {
              "color": "#E5ECF6",
              "width": 0.5
             },
             "pattern": {
              "fillmode": "overlay",
              "size": 10,
              "solidity": 0.2
             }
            },
            "type": "bar"
           }
          ],
          "barpolar": [
           {
            "marker": {
             "line": {
              "color": "#E5ECF6",
              "width": 0.5
             },
             "pattern": {
              "fillmode": "overlay",
              "size": 10,
              "solidity": 0.2
             }
            },
            "type": "barpolar"
           }
          ],
          "carpet": [
           {
            "aaxis": {
             "endlinecolor": "#2a3f5f",
             "gridcolor": "white",
             "linecolor": "white",
             "minorgridcolor": "white",
             "startlinecolor": "#2a3f5f"
            },
            "baxis": {
             "endlinecolor": "#2a3f5f",
             "gridcolor": "white",
             "linecolor": "white",
             "minorgridcolor": "white",
             "startlinecolor": "#2a3f5f"
            },
            "type": "carpet"
           }
          ],
          "choropleth": [
           {
            "colorbar": {
             "outlinewidth": 0,
             "ticks": ""
            },
            "type": "choropleth"
           }
          ],
          "contour": [
           {
            "colorbar": {
             "outlinewidth": 0,
             "ticks": ""
            },
            "colorscale": [
             [
              0,
              "#0d0887"
             ],
             [
              0.1111111111111111,
              "#46039f"
             ],
             [
              0.2222222222222222,
              "#7201a8"
             ],
             [
              0.3333333333333333,
              "#9c179e"
             ],
             [
              0.4444444444444444,
              "#bd3786"
             ],
             [
              0.5555555555555556,
              "#d8576b"
             ],
             [
              0.6666666666666666,
              "#ed7953"
             ],
             [
              0.7777777777777778,
              "#fb9f3a"
             ],
             [
              0.8888888888888888,
              "#fdca26"
             ],
             [
              1,
              "#f0f921"
             ]
            ],
            "type": "contour"
           }
          ],
          "contourcarpet": [
           {
            "colorbar": {
             "outlinewidth": 0,
             "ticks": ""
            },
            "type": "contourcarpet"
           }
          ],
          "heatmap": [
           {
            "colorbar": {
             "outlinewidth": 0,
             "ticks": ""
            },
            "colorscale": [
             [
              0,
              "#0d0887"
             ],
             [
              0.1111111111111111,
              "#46039f"
             ],
             [
              0.2222222222222222,
              "#7201a8"
             ],
             [
              0.3333333333333333,
              "#9c179e"
             ],
             [
              0.4444444444444444,
              "#bd3786"
             ],
             [
              0.5555555555555556,
              "#d8576b"
             ],
             [
              0.6666666666666666,
              "#ed7953"
             ],
             [
              0.7777777777777778,
              "#fb9f3a"
             ],
             [
              0.8888888888888888,
              "#fdca26"
             ],
             [
              1,
              "#f0f921"
             ]
            ],
            "type": "heatmap"
           }
          ],
          "heatmapgl": [
           {
            "colorbar": {
             "outlinewidth": 0,
             "ticks": ""
            },
            "colorscale": [
             [
              0,
              "#0d0887"
             ],
             [
              0.1111111111111111,
              "#46039f"
             ],
             [
              0.2222222222222222,
              "#7201a8"
             ],
             [
              0.3333333333333333,
              "#9c179e"
             ],
             [
              0.4444444444444444,
              "#bd3786"
             ],
             [
              0.5555555555555556,
              "#d8576b"
             ],
             [
              0.6666666666666666,
              "#ed7953"
             ],
             [
              0.7777777777777778,
              "#fb9f3a"
             ],
             [
              0.8888888888888888,
              "#fdca26"
             ],
             [
              1,
              "#f0f921"
             ]
            ],
            "type": "heatmapgl"
           }
          ],
          "histogram": [
           {
            "marker": {
             "pattern": {
              "fillmode": "overlay",
              "size": 10,
              "solidity": 0.2
             }
            },
            "type": "histogram"
           }
          ],
          "histogram2d": [
           {
            "colorbar": {
             "outlinewidth": 0,
             "ticks": ""
            },
            "colorscale": [
             [
              0,
              "#0d0887"
             ],
             [
              0.1111111111111111,
              "#46039f"
             ],
             [
              0.2222222222222222,
              "#7201a8"
             ],
             [
              0.3333333333333333,
              "#9c179e"
             ],
             [
              0.4444444444444444,
              "#bd3786"
             ],
             [
              0.5555555555555556,
              "#d8576b"
             ],
             [
              0.6666666666666666,
              "#ed7953"
             ],
             [
              0.7777777777777778,
              "#fb9f3a"
             ],
             [
              0.8888888888888888,
              "#fdca26"
             ],
             [
              1,
              "#f0f921"
             ]
            ],
            "type": "histogram2d"
           }
          ],
          "histogram2dcontour": [
           {
            "colorbar": {
             "outlinewidth": 0,
             "ticks": ""
            },
            "colorscale": [
             [
              0,
              "#0d0887"
             ],
             [
              0.1111111111111111,
              "#46039f"
             ],
             [
              0.2222222222222222,
              "#7201a8"
             ],
             [
              0.3333333333333333,
              "#9c179e"
             ],
             [
              0.4444444444444444,
              "#bd3786"
             ],
             [
              0.5555555555555556,
              "#d8576b"
             ],
             [
              0.6666666666666666,
              "#ed7953"
             ],
             [
              0.7777777777777778,
              "#fb9f3a"
             ],
             [
              0.8888888888888888,
              "#fdca26"
             ],
             [
              1,
              "#f0f921"
             ]
            ],
            "type": "histogram2dcontour"
           }
          ],
          "mesh3d": [
           {
            "colorbar": {
             "outlinewidth": 0,
             "ticks": ""
            },
            "type": "mesh3d"
           }
          ],
          "parcoords": [
           {
            "line": {
             "colorbar": {
              "outlinewidth": 0,
              "ticks": ""
             }
            },
            "type": "parcoords"
           }
          ],
          "pie": [
           {
            "automargin": true,
            "type": "pie"
           }
          ],
          "scatter": [
           {
            "fillpattern": {
             "fillmode": "overlay",
             "size": 10,
             "solidity": 0.2
            },
            "type": "scatter"
           }
          ],
          "scatter3d": [
           {
            "line": {
             "colorbar": {
              "outlinewidth": 0,
              "ticks": ""
             }
            },
            "marker": {
             "colorbar": {
              "outlinewidth": 0,
              "ticks": ""
             }
            },
            "type": "scatter3d"
           }
          ],
          "scattercarpet": [
           {
            "marker": {
             "colorbar": {
              "outlinewidth": 0,
              "ticks": ""
             }
            },
            "type": "scattercarpet"
           }
          ],
          "scattergeo": [
           {
            "marker": {
             "colorbar": {
              "outlinewidth": 0,
              "ticks": ""
             }
            },
            "type": "scattergeo"
           }
          ],
          "scattergl": [
           {
            "marker": {
             "colorbar": {
              "outlinewidth": 0,
              "ticks": ""
             }
            },
            "type": "scattergl"
           }
          ],
          "scattermapbox": [
           {
            "marker": {
             "colorbar": {
              "outlinewidth": 0,
              "ticks": ""
             }
            },
            "type": "scattermapbox"
           }
          ],
          "scatterpolar": [
           {
            "marker": {
             "colorbar": {
              "outlinewidth": 0,
              "ticks": ""
             }
            },
            "type": "scatterpolar"
           }
          ],
          "scatterpolargl": [
           {
            "marker": {
             "colorbar": {
              "outlinewidth": 0,
              "ticks": ""
             }
            },
            "type": "scatterpolargl"
           }
          ],
          "scatterternary": [
           {
            "marker": {
             "colorbar": {
              "outlinewidth": 0,
              "ticks": ""
             }
            },
            "type": "scatterternary"
           }
          ],
          "surface": [
           {
            "colorbar": {
             "outlinewidth": 0,
             "ticks": ""
            },
            "colorscale": [
             [
              0,
              "#0d0887"
             ],
             [
              0.1111111111111111,
              "#46039f"
             ],
             [
              0.2222222222222222,
              "#7201a8"
             ],
             [
              0.3333333333333333,
              "#9c179e"
             ],
             [
              0.4444444444444444,
              "#bd3786"
             ],
             [
              0.5555555555555556,
              "#d8576b"
             ],
             [
              0.6666666666666666,
              "#ed7953"
             ],
             [
              0.7777777777777778,
              "#fb9f3a"
             ],
             [
              0.8888888888888888,
              "#fdca26"
             ],
             [
              1,
              "#f0f921"
             ]
            ],
            "type": "surface"
           }
          ],
          "table": [
           {
            "cells": {
             "fill": {
              "color": "#EBF0F8"
             },
             "line": {
              "color": "white"
             }
            },
            "header": {
             "fill": {
              "color": "#C8D4E3"
             },
             "line": {
              "color": "white"
             }
            },
            "type": "table"
           }
          ]
         },
         "layout": {
          "annotationdefaults": {
           "arrowcolor": "#2a3f5f",
           "arrowhead": 0,
           "arrowwidth": 1
          },
          "autotypenumbers": "strict",
          "coloraxis": {
           "colorbar": {
            "outlinewidth": 0,
            "ticks": ""
           }
          },
          "colorscale": {
           "diverging": [
            [
             0,
             "#8e0152"
            ],
            [
             0.1,
             "#c51b7d"
            ],
            [
             0.2,
             "#de77ae"
            ],
            [
             0.3,
             "#f1b6da"
            ],
            [
             0.4,
             "#fde0ef"
            ],
            [
             0.5,
             "#f7f7f7"
            ],
            [
             0.6,
             "#e6f5d0"
            ],
            [
             0.7,
             "#b8e186"
            ],
            [
             0.8,
             "#7fbc41"
            ],
            [
             0.9,
             "#4d9221"
            ],
            [
             1,
             "#276419"
            ]
           ],
           "sequential": [
            [
             0,
             "#0d0887"
            ],
            [
             0.1111111111111111,
             "#46039f"
            ],
            [
             0.2222222222222222,
             "#7201a8"
            ],
            [
             0.3333333333333333,
             "#9c179e"
            ],
            [
             0.4444444444444444,
             "#bd3786"
            ],
            [
             0.5555555555555556,
             "#d8576b"
            ],
            [
             0.6666666666666666,
             "#ed7953"
            ],
            [
             0.7777777777777778,
             "#fb9f3a"
            ],
            [
             0.8888888888888888,
             "#fdca26"
            ],
            [
             1,
             "#f0f921"
            ]
           ],
           "sequentialminus": [
            [
             0,
             "#0d0887"
            ],
            [
             0.1111111111111111,
             "#46039f"
            ],
            [
             0.2222222222222222,
             "#7201a8"
            ],
            [
             0.3333333333333333,
             "#9c179e"
            ],
            [
             0.4444444444444444,
             "#bd3786"
            ],
            [
             0.5555555555555556,
             "#d8576b"
            ],
            [
             0.6666666666666666,
             "#ed7953"
            ],
            [
             0.7777777777777778,
             "#fb9f3a"
            ],
            [
             0.8888888888888888,
             "#fdca26"
            ],
            [
             1,
             "#f0f921"
            ]
           ]
          },
          "colorway": [
           "#636efa",
           "#EF553B",
           "#00cc96",
           "#ab63fa",
           "#FFA15A",
           "#19d3f3",
           "#FF6692",
           "#B6E880",
           "#FF97FF",
           "#FECB52"
          ],
          "font": {
           "color": "#2a3f5f"
          },
          "geo": {
           "bgcolor": "white",
           "lakecolor": "white",
           "landcolor": "#E5ECF6",
           "showlakes": true,
           "showland": true,
           "subunitcolor": "white"
          },
          "hoverlabel": {
           "align": "left"
          },
          "hovermode": "closest",
          "mapbox": {
           "style": "light"
          },
          "paper_bgcolor": "white",
          "plot_bgcolor": "#E5ECF6",
          "polar": {
           "angularaxis": {
            "gridcolor": "white",
            "linecolor": "white",
            "ticks": ""
           },
           "bgcolor": "#E5ECF6",
           "radialaxis": {
            "gridcolor": "white",
            "linecolor": "white",
            "ticks": ""
           }
          },
          "scene": {
           "xaxis": {
            "backgroundcolor": "#E5ECF6",
            "gridcolor": "white",
            "gridwidth": 2,
            "linecolor": "white",
            "showbackground": true,
            "ticks": "",
            "zerolinecolor": "white"
           },
           "yaxis": {
            "backgroundcolor": "#E5ECF6",
            "gridcolor": "white",
            "gridwidth": 2,
            "linecolor": "white",
            "showbackground": true,
            "ticks": "",
            "zerolinecolor": "white"
           },
           "zaxis": {
            "backgroundcolor": "#E5ECF6",
            "gridcolor": "white",
            "gridwidth": 2,
            "linecolor": "white",
            "showbackground": true,
            "ticks": "",
            "zerolinecolor": "white"
           }
          },
          "shapedefaults": {
           "line": {
            "color": "#2a3f5f"
           }
          },
          "ternary": {
           "aaxis": {
            "gridcolor": "white",
            "linecolor": "white",
            "ticks": ""
           },
           "baxis": {
            "gridcolor": "white",
            "linecolor": "white",
            "ticks": ""
           },
           "bgcolor": "#E5ECF6",
           "caxis": {
            "gridcolor": "white",
            "linecolor": "white",
            "ticks": ""
           }
          },
          "title": {
           "x": 0.05
          },
          "xaxis": {
           "automargin": true,
           "gridcolor": "white",
           "linecolor": "white",
           "ticks": "",
           "title": {
            "standoff": 15
           },
           "zerolinecolor": "white",
           "zerolinewidth": 2
          },
          "yaxis": {
           "automargin": true,
           "gridcolor": "white",
           "linecolor": "white",
           "ticks": "",
           "title": {
            "standoff": 15
           },
           "zerolinecolor": "white",
           "zerolinewidth": 2
          }
         }
        },
        "xaxis": {
         "anchor": "y",
         "constrain": "domain",
         "domain": [
          0,
          1
         ],
         "scaleanchor": "y"
        },
        "yaxis": {
         "anchor": "x",
         "autorange": "reversed",
         "constrain": "domain",
         "domain": [
          0,
          1
         ]
        }
       }
      },
      "text/html": [
       "<div>                            <div id=\"79542f80-2cc7-4ff1-a6c1-44672b6c96eb\" class=\"plotly-graph-div\" style=\"height:525px; width:100%;\"></div>            <script type=\"text/javascript\">                require([\"plotly\"], function(Plotly) {                    window.PLOTLYENV=window.PLOTLYENV || {};                                    if (document.getElementById(\"79542f80-2cc7-4ff1-a6c1-44672b6c96eb\")) {                    Plotly.newPlot(                        \"79542f80-2cc7-4ff1-a6c1-44672b6c96eb\",                        [{\"coloraxis\":\"coloraxis\",\"name\":\"0\",\"x\":[\"5633\",\"26127\",\"6171\",\"16415\",\"7714\",\"10787\",\"30247\",\"3113\",\"9782\",\"8250\",\"7739\",\"572\",\"23613\",\"9790\",\"19515\",\"32320\",\"15947\",\"30814\",\"22113\",\"6756\",\"16996\",\"16490\",\"6765\",\"25712\",\"22136\",\"6780\",\"23682\",\"27268\",\"27270\",\"19592\",\"24206\",\"12943\",\"16016\",\"13458\",\"19097\",\"1181\",\"25759\",\"32417\",\"30888\",\"19112\",\"3757\",\"22199\",\"27832\",\"15554\",\"211\",\"26331\",\"11491\",\"17636\",\"29934\",\"14086\",\"9991\",\"27401\",\"6413\",\"5392\",\"23312\",\"4370\",\"9488\",\"14612\",\"25878\",\"1818\",\"16671\",\"7967\",\"1830\",\"18218\",\"26924\",\"3382\",\"19260\",\"8508\",\"12606\",\"7491\",\"20805\",\"23374\",\"850\",\"1878\",\"24925\",\"20832\",\"4448\",\"2914\",\"11618\",\"17761\",\"23906\",\"5991\",\"6503\",\"26987\",\"18285\",\"2930\",\"18803\",\"2931\",\"22906\",\"2939\",\"6013\",\"9600\",\"25474\",\"32643\",\"31620\",\"10633\",\"23436\",\"3476\",\"18840\",\"7578\",\"30618\",\"24993\",\"19363\",\"11172\",\"11173\",\"2992\",\"8633\",\"16313\",\"8125\",\"9662\",\"25534\",\"6594\",\"7106\",\"7114\",\"5579\",\"16340\",\"29144\",\"23514\",\"9178\",\"6108\",\"10720\",\"18400\",\"26594\",\"25056\",\"6629\",\"25576\",\"2539\",\"18416\",\"15356\"],\"y\":[\"location_continent\",\"football_player_position\",\"location_religion\",\"location_language\",\"person_profession\",\"location_country\",\"country_capital\",\"person_language\",\"singular_plural\",\"present_simple_past_simple\",\"antonyms\",\"plural_singular\",\"present_simple_past_perfect\",\"present_simple_gerund\",\"en_it\",\"it_en\",\"en_fr\",\"en_es\",\"fr_en\",\"es_en\",\"algo_last\",\"algo_first\",\"algo_second\"],\"z\":[[0.8297872340425533,1.0,1.0,1.0,1.0,1.0,1.0,1.0,1.0,0.29787234042553185,1.0,1.0,1.0,1.0,1.0,0.7446808510638298,1.0,1.0,1.0,1.0,1.0,1.0,0.5957446808510638,1.0,1.0,1.0,0.03191489361702123,1.0,1.0,1.0,1.0,1.0,1.0,1.0,1.0,1.0,1.0,1.0,1.0,1.0,1.0,1.0,1.0,1.0,1.0,1.0,1.0,1.0,0.8085106382978723,1.0,1.0,1.0,1.0,1.0,1.0,1.0,1.0,0.9787234042553192,1.0,1.0,1.0,0.851063829787234,1.0,1.0,1.0,1.0,0.26595744680851063,1.0,1.0,1.0,1.0,1.0,0.0,1.0,1.0,0.7446808510638298,1.0,0.723404255319149,1.0,1.0,1.0,1.0,0.29787234042553185,1.0,1.0,1.0,1.0,1.0,1.0,1.0,0.34042553191489355,1.0,1.0,1.0,1.0,1.0,0.9787234042553192,1.0,1.0,0.7659574468085106,1.0,1.0,1.0,1.0,1.0,1.0,1.0,1.0,1.0,1.0,1.0,1.0,1.0,1.0,1.0,1.0,1.0,0.021276595744680823,1.0,0.010638297872340411,1.0,1.0,1.0,1.0,1.0,0.5425531914893617,0.5531914893617021,1.0,1.0],[1.0,0.5921375921375922,0.9361179361179361,1.0,1.0,0.9361179361179361,1.0,0.9361179361179361,1.0,1.0,1.0,1.0,1.0,0.0,1.0,0.9705159705159706,0.7444717444717445,0.7002457002457003,0.9017199017199017,1.0,1.0,1.0,1.0,1.0,1.0,1.0,0.7886977886977887,1.0,1.0,1.0,1.0,0.6855036855036855,1.0,0.3513513513513514,0.882063882063882,1.0,1.0,0.9213759213759214,0.9705159705159706,1.0,1.0,1.0,1.0,0.9262899262899263,1.0,1.0,1.0,1.0,1.0,1.0,1.0,1.0,1.0,1.0,0.8230958230958231,1.0,1.0,1.0,1.0,1.0,0.6461916461916463,1.0,1.0,1.0,1.0,1.0,1.0,0.941031941031941,1.0,0.5184275184275184,1.0,1.0,1.0,1.0,1.0,0.9705159705159706,1.0,1.0,0.9508599508599509,1.0,1.0,1.0,1.0,1.0,0.8918918918918919,1.0,1.0,0.886977886977887,1.0,1.0,1.0,1.0,1.0,1.0,0.6560196560196561,1.0,0.9705159705159706,1.0,1.0,1.0,1.0,1.0,1.0,1.0,1.0,1.0,1.0,1.0,1.0,1.0,1.0,1.0,0.9901719901719901,1.0,1.0,1.0,1.0,1.0,0.9705159705159706,1.0,0.9017199017199017,1.0,1.0,1.0,0.9115479115479116,0.941031941031941,1.0,0.5921375921375922,1.0],[1.0,0.9325842696629213,0.5617977528089887,1.0,0.8314606741573033,0.9213483146067416,0.8539325842696629,0.6123595505617977,0.8314606741573033,1.0,1.0,0.9438202247191011,1.0,1.0,1.0,0.7528089887640449,0.8426966292134831,1.0,0.8876404494382023,0.9775280898876404,1.0,1.0,0.898876404494382,1.0,1.0,1.0,0.7865168539325843,1.0,1.0,1.0,1.0,0.7977528089887641,1.0,0.8764044943820224,1.0,1.0,1.0,1.0,0.9101123595505619,1.0,0.9775280898876404,1.0,1.0,1.0,1.0,1.0,0.6629213483146067,1.0,0.601123595505618,1.0,1.0,0.550561797752809,0.9325842696629213,1.0,1.0,1.0,1.0,1.0,1.0,1.0,0.9213483146067416,0.398876404494382,1.0,1.0,1.0,1.0,0.9438202247191011,0.9550561797752809,1.0,0.3089887640449438,1.0,1.0,1.0,1.0,1.0,0.601123595505618,1.0,1.0,0.10674157303370786,1.0,1.0,0.9325842696629213,0.7078651685393259,1.0,1.0,1.0,1.0,0.7977528089887641,1.0,0.6292134831460674,1.0,1.0,1.0,0.9101123595505619,0.6741573033707865,1.0,0.9438202247191011,1.0,0.9438202247191011,1.0,0.9325842696629213,1.0,1.0,0.0,1.0,0.9101123595505619,1.0,1.0,1.0,0.5112359550561798,1.0,1.0,0.46629213483146065,1.0,0.7415730337078652,1.0,1.0,0.8539325842696629,0.016853932584269572,1.0,1.0,0.702247191011236,1.0,1.0,0.6910112359550561,1.0,0.7078651685393259,0.19662921348314608,0.8202247191011236],[1.0,1.0,0.7647058823529412,1.0,1.0,1.0,0.7967914438502675,0.9144385026737967,0.9786096256684492,1.0,1.0,0.7005347593582887,1.0,1.0,1.0,1.0,0.7647058823529412,1.0,0.9572192513368984,0.9893048128342246,1.0,1.0,1.0,1.0,1.0,1.0,0.93048128342246,1.0,1.0,1.0,1.0,1.0,1.0,0.6577540106951871,1.0,1.0,1.0,1.0,1.0,0.9144385026737967,0.8609625668449198,1.0,1.0,0.9893048128342246,1.0,1.0,0.12032085561497338,1.0,0.946524064171123,1.0,1.0,1.0,1.0,1.0,1.0,1.0,1.0,1.0,1.0,1.0,1.0,0.6898395721925134,1.0,1.0,1.0,1.0,1.0,1.0,1.0,0.6363636363636364,1.0,1.0,1.0,1.0,1.0,0.5561497326203209,1.0,1.0,1.0,1.0,1.0,0.9358288770053477,0.6737967914438503,1.0,1.0,1.0,1.0,0.7754010695187167,1.0,0.8449197860962566,1.0,1.0,1.0,0.6844919786096256,0.9251336898395722,1.0,0.9679144385026738,1.0,0.8502673796791443,1.0,1.0,1.0,1.0,0.0,1.0,1.0,1.0,1.0,1.0,0.609625668449198,1.0,1.0,0.6363636363636364,1.0,1.0,1.0,1.0,0.9411764705882354,1.0,1.0,1.0,0.732620320855615,1.0,1.0,0.732620320855615,1.0,0.8181818181818182,0.23796791443850268,0.9786096256684492],[1.0,0.49140893470790387,0.7594501718213059,1.0,1.0,0.8762886597938145,1.0,0.8144329896907216,1.0,1.0,1.0,1.0,1.0,0.8350515463917526,1.0,1.0,0.429553264604811,0.5876288659793815,1.0,0.8419243986254296,1.0,1.0,0.7663230240549829,1.0,1.0,1.0,0.47766323024054985,1.0,1.0,0.9243986254295533,0.6563573883161513,0.31271477663230246,1.0,0.1786941580756014,0.7250859106529209,1.0,1.0,0.7869415807560137,1.0,1.0,1.0,1.0,1.0,0.9312714776632303,1.0,1.0,1.0,1.0,1.0,1.0,1.0,0.7044673539518901,0.6632302405498283,1.0,0.6082474226804124,1.0,1.0,0.965635738831615,1.0,1.0,0.429553264604811,1.0,1.0,1.0,1.0,1.0,1.0,0.993127147766323,1.0,0.0,1.0,1.0,1.0,1.0,1.0,0.9725085910652922,1.0,1.0,1.0,1.0,1.0,1.0,0.9243986254295533,1.0,0.8213058419243987,1.0,1.0,1.0,1.0,0.8762886597938145,1.0,1.0,1.0,1.0,0.47766323024054985,1.0,0.7663230240549829,1.0,1.0,1.0,1.0,1.0,1.0,1.0,1.0,1.0,1.0,1.0,0.8075601374570447,1.0,1.0,1.0,0.718213058419244,1.0,1.0,1.0,1.0,0.9518900343642611,0.6563573883161513,1.0,0.2646048109965636,1.0,1.0,1.0,0.7250859106529209,0.8556701030927835,0.8419243986254296,0.15120274914089352,1.0],[1.0,1.0,0.9922178988326849,1.0,1.0,1.0,0.8443579766536965,1.0,1.0,1.0,1.0,1.0,1.0,1.0,1.0,0.7509727626459144,0.9922178988326849,1.0,0.6342412451361867,0.5719844357976653,1.0,1.0,0.6186770428015564,1.0,1.0,1.0,0.6108949416342413,1.0,0.7431906614785992,1.0,1.0,1.0,1.0,1.0,1.0,1.0,1.0,1.0,1.0,1.0,1.0,1.0,1.0,1.0,1.0,1.0,1.0,0.8599221789883269,0.9766536964980544,1.0,1.0,1.0,1.0,1.0,1.0,1.0,1.0,1.0,1.0,1.0,1.0,0.0,1.0,1.0,1.0,1.0,1.0,1.0,0.7665369649805448,1.0,1.0,1.0,1.0,1.0,1.0,0.9922178988326849,1.0,1.0,1.0,1.0,1.0,1.0,0.8287937743190662,1.0,1.0,1.0,0.8443579766536965,1.0,1.0,0.9766536964980544,0.48638132295719844,1.0,1.0,1.0,0.6964980544747081,1.0,1.0,1.0,1.0,1.0,1.0,1.0,1.0,1.0,0.33852140077821014,0.8132295719844358,1.0,1.0,1.0,0.6186770428015564,1.0,1.0,1.0,1.0,1.0,1.0,1.0,0.06614785992217899,1.0,1.0,1.0,1.0,1.0,1.0,1.0,0.9610894941634242,1.0,0.8832684824902723,1.0],[1.0,0.6605166051660517,1.0,1.0,1.0,1.0,1.0,1.0,1.0,1.0,1.0,1.0,1.0,1.0,1.0,1.0,1.0,1.0,0.7490774907749077,1.0,1.0,1.0,0.8081180811808119,1.0,1.0,1.0,1.0,1.0,1.0,1.0,1.0,1.0,1.0,1.0,1.0,0.955719557195572,1.0,1.0,0.9335793357933578,1.0,1.0,1.0,1.0,1.0,1.0,1.0,1.0,0.9630996309963099,1.0,1.0,1.0,1.0,1.0,1.0,1.0,1.0,1.0,1.0,0.955719557195572,1.0,1.0,0.7269372693726938,1.0,1.0,1.0,1.0,1.0,1.0,1.0,1.0,1.0,1.0,1.0,1.0,1.0,0.9114391143911439,1.0,1.0,1.0,1.0,1.0,0.9114391143911439,1.0,1.0,1.0,1.0,0.7859778597785978,1.0,1.0,0.948339483394834,0.6605166051660517,1.0,1.0,1.0,1.0,1.0,1.0,1.0,1.0,1.0,1.0,1.0,1.0,1.0,0.0,1.0,1.0,1.0,1.0,1.0,1.0,1.0,1.0,1.0,1.0,1.0,1.0,0.19926199261992622,1.0,1.0,1.0,1.0,1.0,1.0,1.0,1.0,1.0,1.0,1.0],[1.0,0.9331243469174503,0.6823406478578892,1.0,0.9247648902821316,1.0,0.8495297805642633,1.0,0.8495297805642633,1.0,1.0,0.974921630094044,1.0,1.0,1.0,0.9331243469174503,0.6990595611285266,1.0,0.8160919540229885,0.8913270637408569,1.0,1.0,1.0,1.0,1.0,1.0,0.8578892371995821,1.0,1.0,1.0,1.0,0.9247648902821316,0.9164054336468129,0.47335423197492166,1.0,1.0,1.0,1.0,1.0,0.8328108672936259,1.0,1.0,1.0,1.0,1.0,1.0,0.008359456635318691,1.0,0.749216300940439,1.0,1.0,0.8119122257053291,1.0,1.0,1.0,1.0,1.0,1.0,1.0,1.0,1.0,0.6489028213166144,1.0,1.0,1.0,1.0,1.0,1.0,1.0,0.40647857889237204,1.0,1.0,1.0,1.0,1.0,0.7910135841170324,1.0,0.9582027168234065,0.7784743991640544,1.0,1.0,0.9080459770114943,0.6614420062695925,1.0,1.0,1.0,1.0,0.8746081504702194,1.0,0.8160919540229885,1.0,1.0,1.0,0.7784743991640544,0.6447230929989551,1.0,0.8411703239289445,1.0,0.8495297805642633,0.974921630094044,1.0,1.0,1.0,0.0,1.0,1.0,1.0,1.0,1.0,0.6739811912225706,1.0,1.0,0.7074190177638454,1.0,0.7533960292580982,1.0,1.0,0.820271682340648,0.8996865203761756,1.0,1.0,0.6948798328108673,1.0,1.0,0.6530825496342738,1.0,0.6698014629049112,0.21839080459770113,0.7408568443051201],[1.0,1.0,1.0,1.0,1.0,1.0,1.0,1.0,1.0,1.0,1.0,0.9375,1.0,1.0,1.0,1.0,1.0,1.0,1.0,1.0,1.0,1.0,1.0,1.0,1.0,1.0,1.0,1.0,1.0,1.0,1.0,1.0,0.28125,1.0,1.0,1.0,1.0,0.21875000000000003,0.78125,1.0,0.96875,1.0,1.0,1.0,1.0,1.0,1.0,1.0,1.0,0.8125,0.3125,1.0,1.0,1.0,1.0,1.0,1.0,0.0,1.0,1.0,1.0,1.0,0.3125,1.0,1.0,1.0,1.0,1.0,1.0,1.0,1.0,1.0,1.0,0.0,1.0,1.0,0.84375,1.0,1.0,1.0,1.0,1.0,0.75,1.0,1.0,0.8750000000000001,1.0,1.0,1.0,1.0,1.0,1.0,1.0,1.0,1.0,1.0,1.0,1.0,1.0,1.0,1.0,1.0,1.0,1.0,1.0,1.0,1.0,1.0,1.0,1.0,1.0,0.06250000000000006,1.0,1.0,1.0,1.0,1.0,1.0,1.0,1.0,1.0,1.0,1.0,1.0,1.0,1.0,1.0,1.0,1.0],[1.0,0.7037037037037037,0.9555555555555555,1.0,1.0,1.0,1.0,1.0,1.0,1.0,1.0,1.0,1.0,1.0,1.0,1.0,1.0,1.0,0.762962962962963,1.0,1.0,1.0,1.0,1.0,1.0,1.0,1.0,1.0,1.0,1.0,1.0,1.0,0.3037037037037037,1.0,1.0,1.0,1.0,1.0,1.0,1.0,1.0,1.0,1.0,1.0,1.0,1.0,1.0,1.0,1.0,1.0,1.0,1.0,1.0,1.0,1.0,1.0,1.0,1.0,1.0,1.0,1.0,1.0,0.9851851851851852,1.0,1.0,1.0,1.0,1.0,1.0,1.0,1.0,1.0,1.0,1.0,1.0,1.0,1.0,1.0,1.0,1.0,1.0,1.0,1.0,1.0,1.0,1.0,1.0,1.0,1.0,1.0,1.0,1.0,1.0,1.0,1.0,1.0,1.0,1.0,1.0,1.0,1.0,1.0,1.0,1.0,1.0,1.0,1.0,1.0,1.0,1.0,1.0,0.6296296296296297,1.0,1.0,1.0,1.0,1.0,1.0,1.0,1.0,1.0,1.0,1.0,1.0,0.8666666666666667,1.0,1.0,1.0,0.0],[1.0,1.0,1.0,1.0,1.0,1.0,0.68,1.0,1.0,1.0,1.0,0.795,1.0,1.0,1.0,1.0,1.0,1.0,1.0,1.0,1.0,1.0,0.9400000000000001,1.0,0.71,1.0,0.8899999999999999,1.0,1.0,1.0,1.0,1.0,1.0,0.5700000000000001,0.38,0.9500000000000001,1.0,1.0,1.0,0.725,1.0,1.0,1.0,1.0,1.0,1.0,1.0,1.0,1.0,1.0,1.0,1.0,1.0,1.0,1.0,1.0,1.0,1.0,1.0,1.0,1.0,0.825,1.0,1.0,1.0,1.0,1.0,1.0,1.0,0.8600000000000001,1.0,1.0,1.0,1.0,1.0,0.91,1.0,1.0,0.0,1.0,1.0,1.0,1.0,1.0,0.74,1.0,1.0,1.0,1.0,0.99,0.91,1.0,1.0,1.0,0.5750000000000001,1.0,1.0,1.0,0.83,1.0,1.0,1.0,1.0,1.0,1.0,1.0,1.0,1.0,1.0,1.0,1.0,1.0,1.0,1.0,1.0,1.0,1.0,1.0,1.0,1.0,0.68,0.71,1.0,1.0,1.0,0.595,1.0,1.0,1.0],[1.0,0.7586206896551724,1.0,1.0,1.0,1.0,1.0,1.0,0.6551724137931034,1.0,1.0,1.0,1.0,1.0,1.0,1.0,1.0,1.0,1.0,1.0,1.0,1.0,1.0,1.0,1.0,1.0,1.0,1.0,1.0,1.0,1.0,1.0,0.2413793103448275,1.0,1.0,1.0,1.0,1.0,0.7758620689655172,1.0,0.706896551724138,1.0,1.0,1.0,0.5862068965517241,1.0,1.0,1.0,1.0,1.0,1.0,1.0,1.0,1.0,1.0,1.0,1.0,1.0,0.9482758620689655,1.0,1.0,1.0,1.0,1.0,1.0,1.0,1.0,1.0,1.0,1.0,1.0,1.0,1.0,0.6206896551724137,1.0,1.0,1.0,1.0,1.0,1.0,1.0,1.0,1.0,1.0,1.0,0.12068965517241376,1.0,1.0,0.8103448275862069,1.0,1.0,1.0,1.0,1.0,1.0,1.0,1.0,1.0,0.9482758620689655,1.0,1.0,1.0,1.0,1.0,1.0,1.0,1.0,1.0,1.0,1.0,0.0,1.0,1.0,1.0,1.0,1.0,0.6379310344827586,1.0,1.0,1.0,1.0,1.0,1.0,0.8793103448275863,1.0,1.0,1.0,1.0,1.0],[1.0,1.0,1.0,1.0,1.0,1.0,1.0,1.0,1.0,1.0,1.0,1.0,1.0,1.0,1.0,1.0,1.0,1.0,1.0,1.0,1.0,1.0,1.0,1.0,1.0,1.0,1.0,1.0,1.0,1.0,1.0,1.0,1.0,1.0,1.0,1.0,1.0,1.0,1.0,1.0,1.0,1.0,1.0,1.0,1.0,1.0,1.0,1.0,1.0,1.0,1.0,1.0,1.0,1.0,1.0,1.0,1.0,1.0,1.0,1.0,1.0,1.0,1.0,1.0,1.0,1.0,1.0,1.0,1.0,1.0,1.0,1.0,1.0,1.0,1.0,1.0,1.0,1.0,1.0,1.0,1.0,1.0,1.0,1.0,1.0,1.0,1.0,1.0,1.0,1.0,1.0,1.0,1.0,1.0,1.0,1.0,1.0,1.0,1.0,1.0,1.0,1.0,1.0,1.0,1.0,1.0,1.0,1.0,1.0,1.0,1.0,0.0,1.0,1.0,1.0,1.0,1.0,1.0,1.0,1.0,1.0,1.0,1.0,1.0,1.0,1.0,1.0,1.0,1.0],[1.0,0.9450549450549451,1.0,1.0,1.0,0.47252747252747257,1.0,0.934065934065934,1.0,1.0,1.0,1.0,1.0,1.0,1.0,0.6593406593406592,1.0,1.0,1.0,1.0,1.0,1.0,1.0,1.0,1.0,1.0,1.0,1.0,1.0,1.0,1.0,1.0,0.0,1.0,1.0,1.0,1.0,1.0,1.0,1.0,0.7802197802197803,1.0,1.0,0.06593406593406598,1.0,1.0,1.0,1.0,1.0,1.0,1.0,1.0,1.0,1.0,1.0,1.0,1.0,1.0,1.0,1.0,1.0,1.0,0.6153846153846154,1.0,1.0,1.0,1.0,1.0,1.0,1.0,1.0,1.0,1.0,1.0,1.0,1.0,0.5054945054945055,1.0,1.0,1.0,1.0,1.0,0.6813186813186813,1.0,1.0,1.0,1.0,1.0,1.0,1.0,1.0,1.0,1.0,1.0,1.0,1.0,1.0,1.0,1.0,1.0,1.0,1.0,1.0,1.0,1.0,1.0,1.0,1.0,1.0,1.0,0.6263736263736264,1.0,1.0,1.0,1.0,1.0,1.0,1.0,1.0,1.0,1.0,1.0,1.0,1.0,1.0,1.0,1.0,1.0,0.8241758241758241],[1.0,0.6585365853658537,0.9121951219512194,0.8536585365853658,0.7365853658536585,0.8634146341463413,0.7853658536585366,0.7170731707317073,0.9024390243902439,1.0,1.0,0.9121951219512194,0.8926829268292683,1.0,0.9024390243902439,0.7170731707317073,0.7073170731707317,0.9609756097560975,1.0,1.0,1.0,1.0,1.0,0.970731707317073,1.0,1.0,0.9414634146341464,1.0,1.0,1.0,1.0,1.0,0.38536585365853654,0.8829268292682927,1.0,0.8829268292682927,1.0,0.7463414634146341,0.8439024390243902,0.873170731707317,0.8829268292682927,1.0,1.0,0.9512195121951219,1.0,1.0,0.9219512195121952,0.8634146341463413,1.0,1.0,0.873170731707317,1.0,1.0,0.9121951219512194,0.46341463414634143,1.0,1.0,1.0,1.0,1.0,0.8829268292682927,0.8536585365853658,0.775609756097561,1.0,0.8341463414634147,0.9317073170731708,1.0,1.0,0.9609756097560975,1.0,0.9414634146341464,1.0,1.0,0.648780487804878,1.0,0.8341463414634147,0.9609756097560975,0.9902439024390244,1.0,1.0,1.0,0.7463414634146341,0.6097560975609756,0.0,0.9121951219512194,0.9804878048780489,1.0,1.0,0.8829268292682927,0.8536585365853658,0.9317073170731708,0.9804878048780489,1.0,0.7951219512195121,1.0,1.0,0.8536585365853658,1.0,0.9121951219512194,1.0,1.0,1.0,1.0,1.0,0.9317073170731708,1.0,1.0,1.0,1.0,0.8341463414634147,0.8439024390243902,0.7658536585365854,0.9804878048780489,0.7658536585365854,1.0,1.0,1.0,0.7853658536585366,1.0,1.0,1.0,0.970731707317073,0.8341463414634147,0.873170731707317,1.0,1.0,0.9317073170731708,0.7853658536585366,1.0],[1.0,1.0,1.0,1.0,1.0,0.6949152542372881,0.4237288135593221,1.0,0.3728813559322034,1.0,1.0,0.8644067796610169,1.0,1.0,1.0,0.4745762711864407,1.0,1.0,1.0,1.0,0.7627118644067797,1.0,1.0,1.0,1.0,1.0,0.3389830508474577,1.0,1.0,1.0,1.0,0.10169491525423731,1.0,1.0,0.8983050847457626,1.0,1.0,1.0,1.0,1.0,1.0,1.0,1.0,1.0,1.0,1.0,1.0,1.0,1.0,1.0,1.0,1.0,1.0,1.0,1.0,1.0,1.0,1.0,0.7966101694915254,1.0,1.0,1.0,1.0,1.0,1.0,1.0,1.0,1.0,1.0,0.0,1.0,1.0,1.0,1.0,1.0,0.4237288135593221,1.0,1.0,1.0,1.0,1.0,1.0,0.7627118644067797,1.0,1.0,1.0,1.0,1.0,1.0,1.0,1.0,1.0,1.0,1.0,1.0,1.0,1.0,1.0,0.8644067796610169,1.0,1.0,1.0,1.0,1.0,1.0,1.0,1.0,1.0,1.0,1.0,1.0,1.0,1.0,1.0,1.0,1.0,1.0,1.0,1.0,1.0,1.0,1.0,1.0,1.0,0.05084745762711872,1.0,1.0,1.0,1.0],[1.0,0.6547619047619048,0.8095238095238095,0.9404761904761905,0.6071428571428572,0.9523809523809523,0.7380952380952381,0.625,1.0,1.0,1.0,0.8809523809523809,0.7142857142857143,1.0,0.8928571428571428,0.6190476190476191,0.5654761904761905,0.8571428571428572,0.9523809523809523,0.9880952380952381,0.9047619047619048,1.0,1.0,1.0,1.0,1.0,0.8452380952380952,1.0,1.0,1.0,1.0,1.0,0.29166666666666674,0.8571428571428572,1.0,0.9285714285714286,1.0,0.625,0.6309523809523809,0.7261904761904762,0.8214285714285715,1.0,1.0,0.9880952380952381,1.0,1.0,0.8928571428571428,0.5952380952380953,0.7976190476190477,0.9166666666666667,0.6666666666666666,1.0,1.0,0.7380952380952381,0.43452380952380953,1.0,1.0,1.0,0.9642857142857142,1.0,0.7976190476190477,0.8809523809523809,0.8333333333333334,1.0,0.761904761904762,0.9880952380952381,1.0,1.0,0.9880952380952381,0.9642857142857142,0.8809523809523809,0.8571428571428572,1.0,0.5714285714285715,1.0,0.7261904761904762,0.7380952380952381,1.0,1.0,1.0,1.0,0.45833333333333337,0.49404761904761907,0.0,0.7261904761904762,1.0,1.0,1.0,1.0,0.7976190476190477,0.9047619047619048,0.9761904761904763,1.0,0.8452380952380952,1.0,1.0,0.8214285714285715,1.0,0.7261904761904762,1.0,1.0,1.0,1.0,1.0,0.8333333333333334,1.0,1.0,1.0,1.0,0.6130952380952381,0.9047619047619048,0.7976190476190477,0.7857142857142857,0.761904761904762,1.0,1.0,1.0,0.6011904761904763,1.0,1.0,1.0,0.8333333333333334,0.9642857142857142,1.0,1.0,0.9761904761904763,0.7023809523809524,0.8095238095238095,0.9761904761904763],[1.0,0.6473988439306358,0.838150289017341,0.9421965317919075,0.6416184971098265,0.9190751445086704,0.8323699421965317,0.653179190751445,0.861271676300578,1.0,1.0,0.9306358381502889,0.861271676300578,0.976878612716763,0.907514450867052,0.6763005780346821,0.7803468208092486,0.8901734104046243,0.9421965317919075,1.0,0.838150289017341,1.0,1.0,1.0,1.0,1.0,0.907514450867052,1.0,1.0,1.0,1.0,1.0,0.3410404624277456,0.8497109826589595,1.0,0.861271676300578,1.0,0.7514450867052024,0.815028901734104,0.7630057803468208,0.8323699421965317,1.0,1.0,1.0,1.0,0.9653179190751445,1.0,0.9306358381502889,0.9653179190751445,0.9653179190751445,0.745664739884393,1.0,1.0,0.907514450867052,0.5202312138728323,1.0,1.0,1.0,1.0,1.0,0.8208092485549132,0.815028901734104,0.6936416184971097,1.0,0.7572254335260115,0.884393063583815,1.0,1.0,0.9884393063583815,0.976878612716763,0.815028901734104,1.0,1.0,0.6011560693641618,1.0,0.745664739884393,0.8901734104046243,1.0,1.0,1.0,0.953757225433526,0.7976878612716762,0.6878612716763006,0.0,0.8323699421965317,0.907514450867052,1.0,1.0,0.907514450867052,0.8208092485549132,0.8497109826589595,1.0,1.0,0.6763005780346821,1.0,1.0,0.8497109826589595,1.0,0.7803468208092486,1.0,1.0,1.0,1.0,1.0,0.8554913294797689,1.0,1.0,1.0,1.0,0.953757225433526,0.791907514450867,0.907514450867052,1.0,0.884393063583815,0.9884393063583815,1.0,0.976878612716763,0.7630057803468208,1.0,1.0,1.0,0.8034682080924856,0.9190751445086704,0.7976878612716762,1.0,1.0,0.8670520231213873,0.9306358381502889,0.9884393063583815],[1.0,1.0,0.3999999999999999,1.0,1.0,0.4857142857142857,0.7142857142857143,0.8,0.6571428571428571,1.0,1.0,0.7,1.0,1.0,1.0,0.2571428571428571,0.9,0.7,1.0,0.4857142857142857,0.7428571428571428,0.8428571428571427,0.6857142857142857,1.0,1.0,1.0,0.3571428571428571,1.0,1.0,1.0,1.0,0.0,0.8714285714285714,0.9571428571428571,0.6857142857142857,0.44285714285714284,1.0,1.0,0.942857142857143,1.0,0.7714285714285715,0.44285714285714284,1.0,1.0,0.8571428571428571,1.0,1.0,1.0,1.0,1.0,1.0,1.0,1.0,1.0,1.0,1.0,0.6571428571428571,1.0,0.3714285714285714,1.0,0.8428571428571427,0.8714285714285714,1.0,0.7714285714285715,1.0,1.0,1.0,1.0,1.0,0.7428571428571428,1.0,1.0,1.0,1.0,1.0,0.3142857142857143,1.0,0.942857142857143,1.0,1.0,1.0,1.0,0.7285714285714285,1.0,0.7142857142857143,1.0,1.0,1.0,1.0,0.9857142857142857,1.0,1.0,1.0,0.7,1.0,1.0,1.0,1.0,0.5428571428571428,1.0,1.0,1.0,1.0,1.0,1.0,0.19999999999999996,1.0,1.0,1.0,1.0,1.0,1.0,1.0,1.0,0.5142857142857142,1.0,1.0,1.0,0.9285714285714286,1.0,1.0,0.5714285714285714,1.0,1.0,0.3714285714285714,1.0,1.0,1.0,1.0],[1.0,0.7222222222222222,0.8981481481481481,1.0,0.7685185185185185,0.5277777777777778,0.7870370370370371,0.6666666666666667,0.37962962962962965,1.0,1.0,0.6111111111111112,1.0,1.0,0.6296296296296297,0.23611111111111122,0.7685185185185185,0.7870370370370371,0.6296296296296297,0.4722222222222223,0.8148148148148149,1.0,0.4166666666666667,1.0,1.0,1.0,0.601851851851852,1.0,1.0,1.0,1.0,0.5555555555555556,0.29629629629629634,0.8425925925925926,0.9166666666666667,0.7962962962962963,0.9814814814814815,0.7129629629629629,0.7222222222222222,1.0,0.5185185185185185,0.425925925925926,1.0,1.0,0.5185185185185185,0.7685185185185185,1.0,1.0,1.0,0.8796296296296297,0.888888888888889,1.0,1.0,1.0,0.861111111111111,1.0,1.0,0.9444444444444444,0.25,1.0,0.6666666666666667,0.7314814814814815,1.0,0.7962962962962963,0.8518518518518519,0.7314814814814815,1.0,1.0,1.0,0.4166666666666667,1.0,1.0,1.0,1.0,1.0,0.5462962962962963,0.6666666666666667,0.8796296296296297,1.0,1.0,1.0,1.0,0.425925925925926,1.0,0.8240740740740742,0.5740740740740742,1.0,1.0,1.0,0.7222222222222222,0.9537037037037037,1.0,1.0,0.7314814814814815,1.0,1.0,1.0,1.0,0.7129629629629629,1.0,1.0,1.0,1.0,1.0,1.0,0.40740740740740744,1.0,1.0,1.0,1.0,0.8240740740740742,1.0,1.0,1.0,0.25925925925925924,1.0,0.6944444444444444,0.8333333333333334,0.8240740740740742,1.0,1.0,0.7685185185185185,0.7962962962962963,0.6574074074074074,0.0,1.0,0.9166666666666667,0.9629629629629629,1.0],[1.0,0.8431372549019608,0.6216839677047289,1.0,1.0,1.0,1.0,1.0,1.0,1.0,1.0,0.5986159169550173,1.0,0.8708189158016147,1.0,0.12802768166089962,1.0,1.0,1.0,1.0,1.0,1.0,1.0,1.0,0.48327566320645904,1.0,0.7093425605536332,0.02191464821222613,1.0,1.0,1.0,1.0,1.0,0.7139561707035755,1.0,1.0,1.0,1.0,0.3910034602076125,0.3679354094579009,0.7093425605536332,1.0,1.0,1.0,1.0,1.0,1.0,1.0,1.0,1.0,1.0,1.0,1.0,1.0,1.0,1.0,1.0,0.7139561707035755,0.6216839677047289,1.0,1.0,1.0,1.0,1.0,1.0,1.0,1.0,1.0,1.0,1.0,0.7923875432525952,1.0,1.0,0.42329873125720874,1.0,1.0,1.0,1.0,1.0,1.0,1.0,1.0,1.0,1.0,1.0,1.0,1.0,1.0,1.0,1.0,1.0,1.0,1.0,0.8385236447520185,1.0,1.0,1.0,1.0,1.0,1.0,1.0,1.0,1.0,1.0,1.0,1.0,0.0,1.0,1.0,1.0,0.3679354094579009,0.8062283737024222,1.0,0.14878892733564017,0.3264129181084198,1.0,1.0,1.0,1.0,1.0,1.0,1.0,1.0,1.0,0.6262975778546712,1.0,1.0,1.0,1.0],[1.0,1.0,1.0,1.0,1.0,1.0,1.0,1.0,1.0,1.0,1.0,1.0,1.0,1.0,1.0,1.0,1.0,1.0,1.0,0.6363636363636364,1.0,1.0,1.0,1.0,1.0,1.0,1.0,1.0,1.0,1.0,1.0,1.0,1.0,1.0,1.0,1.0,1.0,1.0,1.0,1.0,1.0,1.0,1.0,1.0,1.0,1.0,1.0,1.0,1.0,1.0,1.0,1.0,1.0,1.0,1.0,1.0,1.0,1.0,1.0,1.0,1.0,1.0,1.0,1.0,1.0,1.0,1.0,1.0,1.0,1.0,1.0,1.0,1.0,0.3636363636363636,1.0,1.0,1.0,1.0,1.0,1.0,1.0,1.0,1.0,1.0,1.0,1.0,1.0,1.0,1.0,0.0,1.0,1.0,1.0,1.0,1.0,1.0,1.0,1.0,0.8787878787878788,1.0,1.0,1.0,1.0,1.0,1.0,1.0,1.0,1.0,1.0,1.0,1.0,1.0,1.0,1.0,1.0,1.0,0.21212121212121213,1.0,1.0,1.0,1.0,1.0,1.0,1.0,1.0,1.0,1.0,1.0,1.0],[1.0,0.35263157894736835,1.0,1.0,1.0,1.0,1.0,1.0,0.6631578947368421,1.0,1.0,1.0,1.0,0.7157894736842105,1.0,1.0,1.0,1.0,1.0,1.0,0.863157894736842,1.0,1.0,1.0,1.0,1.0,1.0,1.0,1.0,1.0,1.0,1.0,1.0,0.6842105263157895,1.0,0.8842105263157894,1.0,1.0,0.8842105263157894,0.12631578947368413,1.0,1.0,1.0,1.0,1.0,1.0,1.0,1.0,1.0,1.0,1.0,1.0,1.0,1.0,0.936842105263158,1.0,1.0,1.0,1.0,1.0,1.0,1.0,1.0,1.0,1.0,1.0,1.0,1.0,1.0,1.0,1.0,1.0,1.0,0.0,1.0,1.0,1.0,1.0,1.0,1.0,1.0,1.0,1.0,1.0,1.0,1.0,1.0,1.0,1.0,0.6947368421052632,0.7578947368421052,1.0,1.0,1.0,1.0,1.0,1.0,1.0,0.9473684210526315,1.0,1.0,1.0,1.0,1.0,1.0,1.0,1.0,1.0,1.0,1.0,1.0,1.0,1.0,1.0,1.0,1.0,1.0,1.0,1.0,1.0,1.0,1.0,1.0,1.0,1.0,1.0,1.0,1.0,1.0]],\"type\":\"heatmap\",\"xaxis\":\"x\",\"yaxis\":\"y\",\"hovertemplate\":\"x: %{x}\\u003cbr\\u003ey: %{y}\\u003cbr\\u003ecolor: %{z}\\u003cextra\\u003e\\u003c\\u002fextra\\u003e\"}],                        {\"template\":{\"data\":{\"histogram2dcontour\":[{\"type\":\"histogram2dcontour\",\"colorbar\":{\"outlinewidth\":0,\"ticks\":\"\"},\"colorscale\":[[0.0,\"#0d0887\"],[0.1111111111111111,\"#46039f\"],[0.2222222222222222,\"#7201a8\"],[0.3333333333333333,\"#9c179e\"],[0.4444444444444444,\"#bd3786\"],[0.5555555555555556,\"#d8576b\"],[0.6666666666666666,\"#ed7953\"],[0.7777777777777778,\"#fb9f3a\"],[0.8888888888888888,\"#fdca26\"],[1.0,\"#f0f921\"]]}],\"choropleth\":[{\"type\":\"choropleth\",\"colorbar\":{\"outlinewidth\":0,\"ticks\":\"\"}}],\"histogram2d\":[{\"type\":\"histogram2d\",\"colorbar\":{\"outlinewidth\":0,\"ticks\":\"\"},\"colorscale\":[[0.0,\"#0d0887\"],[0.1111111111111111,\"#46039f\"],[0.2222222222222222,\"#7201a8\"],[0.3333333333333333,\"#9c179e\"],[0.4444444444444444,\"#bd3786\"],[0.5555555555555556,\"#d8576b\"],[0.6666666666666666,\"#ed7953\"],[0.7777777777777778,\"#fb9f3a\"],[0.8888888888888888,\"#fdca26\"],[1.0,\"#f0f921\"]]}],\"heatmap\":[{\"type\":\"heatmap\",\"colorbar\":{\"outlinewidth\":0,\"ticks\":\"\"},\"colorscale\":[[0.0,\"#0d0887\"],[0.1111111111111111,\"#46039f\"],[0.2222222222222222,\"#7201a8\"],[0.3333333333333333,\"#9c179e\"],[0.4444444444444444,\"#bd3786\"],[0.5555555555555556,\"#d8576b\"],[0.6666666666666666,\"#ed7953\"],[0.7777777777777778,\"#fb9f3a\"],[0.8888888888888888,\"#fdca26\"],[1.0,\"#f0f921\"]]}],\"heatmapgl\":[{\"type\":\"heatmapgl\",\"colorbar\":{\"outlinewidth\":0,\"ticks\":\"\"},\"colorscale\":[[0.0,\"#0d0887\"],[0.1111111111111111,\"#46039f\"],[0.2222222222222222,\"#7201a8\"],[0.3333333333333333,\"#9c179e\"],[0.4444444444444444,\"#bd3786\"],[0.5555555555555556,\"#d8576b\"],[0.6666666666666666,\"#ed7953\"],[0.7777777777777778,\"#fb9f3a\"],[0.8888888888888888,\"#fdca26\"],[1.0,\"#f0f921\"]]}],\"contourcarpet\":[{\"type\":\"contourcarpet\",\"colorbar\":{\"outlinewidth\":0,\"ticks\":\"\"}}],\"contour\":[{\"type\":\"contour\",\"colorbar\":{\"outlinewidth\":0,\"ticks\":\"\"},\"colorscale\":[[0.0,\"#0d0887\"],[0.1111111111111111,\"#46039f\"],[0.2222222222222222,\"#7201a8\"],[0.3333333333333333,\"#9c179e\"],[0.4444444444444444,\"#bd3786\"],[0.5555555555555556,\"#d8576b\"],[0.6666666666666666,\"#ed7953\"],[0.7777777777777778,\"#fb9f3a\"],[0.8888888888888888,\"#fdca26\"],[1.0,\"#f0f921\"]]}],\"surface\":[{\"type\":\"surface\",\"colorbar\":{\"outlinewidth\":0,\"ticks\":\"\"},\"colorscale\":[[0.0,\"#0d0887\"],[0.1111111111111111,\"#46039f\"],[0.2222222222222222,\"#7201a8\"],[0.3333333333333333,\"#9c179e\"],[0.4444444444444444,\"#bd3786\"],[0.5555555555555556,\"#d8576b\"],[0.6666666666666666,\"#ed7953\"],[0.7777777777777778,\"#fb9f3a\"],[0.8888888888888888,\"#fdca26\"],[1.0,\"#f0f921\"]]}],\"mesh3d\":[{\"type\":\"mesh3d\",\"colorbar\":{\"outlinewidth\":0,\"ticks\":\"\"}}],\"scatter\":[{\"fillpattern\":{\"fillmode\":\"overlay\",\"size\":10,\"solidity\":0.2},\"type\":\"scatter\"}],\"parcoords\":[{\"type\":\"parcoords\",\"line\":{\"colorbar\":{\"outlinewidth\":0,\"ticks\":\"\"}}}],\"scatterpolargl\":[{\"type\":\"scatterpolargl\",\"marker\":{\"colorbar\":{\"outlinewidth\":0,\"ticks\":\"\"}}}],\"bar\":[{\"error_x\":{\"color\":\"#2a3f5f\"},\"error_y\":{\"color\":\"#2a3f5f\"},\"marker\":{\"line\":{\"color\":\"#E5ECF6\",\"width\":0.5},\"pattern\":{\"fillmode\":\"overlay\",\"size\":10,\"solidity\":0.2}},\"type\":\"bar\"}],\"scattergeo\":[{\"type\":\"scattergeo\",\"marker\":{\"colorbar\":{\"outlinewidth\":0,\"ticks\":\"\"}}}],\"scatterpolar\":[{\"type\":\"scatterpolar\",\"marker\":{\"colorbar\":{\"outlinewidth\":0,\"ticks\":\"\"}}}],\"histogram\":[{\"marker\":{\"pattern\":{\"fillmode\":\"overlay\",\"size\":10,\"solidity\":0.2}},\"type\":\"histogram\"}],\"scattergl\":[{\"type\":\"scattergl\",\"marker\":{\"colorbar\":{\"outlinewidth\":0,\"ticks\":\"\"}}}],\"scatter3d\":[{\"type\":\"scatter3d\",\"line\":{\"colorbar\":{\"outlinewidth\":0,\"ticks\":\"\"}},\"marker\":{\"colorbar\":{\"outlinewidth\":0,\"ticks\":\"\"}}}],\"scattermapbox\":[{\"type\":\"scattermapbox\",\"marker\":{\"colorbar\":{\"outlinewidth\":0,\"ticks\":\"\"}}}],\"scatterternary\":[{\"type\":\"scatterternary\",\"marker\":{\"colorbar\":{\"outlinewidth\":0,\"ticks\":\"\"}}}],\"scattercarpet\":[{\"type\":\"scattercarpet\",\"marker\":{\"colorbar\":{\"outlinewidth\":0,\"ticks\":\"\"}}}],\"carpet\":[{\"aaxis\":{\"endlinecolor\":\"#2a3f5f\",\"gridcolor\":\"white\",\"linecolor\":\"white\",\"minorgridcolor\":\"white\",\"startlinecolor\":\"#2a3f5f\"},\"baxis\":{\"endlinecolor\":\"#2a3f5f\",\"gridcolor\":\"white\",\"linecolor\":\"white\",\"minorgridcolor\":\"white\",\"startlinecolor\":\"#2a3f5f\"},\"type\":\"carpet\"}],\"table\":[{\"cells\":{\"fill\":{\"color\":\"#EBF0F8\"},\"line\":{\"color\":\"white\"}},\"header\":{\"fill\":{\"color\":\"#C8D4E3\"},\"line\":{\"color\":\"white\"}},\"type\":\"table\"}],\"barpolar\":[{\"marker\":{\"line\":{\"color\":\"#E5ECF6\",\"width\":0.5},\"pattern\":{\"fillmode\":\"overlay\",\"size\":10,\"solidity\":0.2}},\"type\":\"barpolar\"}],\"pie\":[{\"automargin\":true,\"type\":\"pie\"}]},\"layout\":{\"autotypenumbers\":\"strict\",\"colorway\":[\"#636efa\",\"#EF553B\",\"#00cc96\",\"#ab63fa\",\"#FFA15A\",\"#19d3f3\",\"#FF6692\",\"#B6E880\",\"#FF97FF\",\"#FECB52\"],\"font\":{\"color\":\"#2a3f5f\"},\"hovermode\":\"closest\",\"hoverlabel\":{\"align\":\"left\"},\"paper_bgcolor\":\"white\",\"plot_bgcolor\":\"#E5ECF6\",\"polar\":{\"bgcolor\":\"#E5ECF6\",\"angularaxis\":{\"gridcolor\":\"white\",\"linecolor\":\"white\",\"ticks\":\"\"},\"radialaxis\":{\"gridcolor\":\"white\",\"linecolor\":\"white\",\"ticks\":\"\"}},\"ternary\":{\"bgcolor\":\"#E5ECF6\",\"aaxis\":{\"gridcolor\":\"white\",\"linecolor\":\"white\",\"ticks\":\"\"},\"baxis\":{\"gridcolor\":\"white\",\"linecolor\":\"white\",\"ticks\":\"\"},\"caxis\":{\"gridcolor\":\"white\",\"linecolor\":\"white\",\"ticks\":\"\"}},\"coloraxis\":{\"colorbar\":{\"outlinewidth\":0,\"ticks\":\"\"}},\"colorscale\":{\"sequential\":[[0.0,\"#0d0887\"],[0.1111111111111111,\"#46039f\"],[0.2222222222222222,\"#7201a8\"],[0.3333333333333333,\"#9c179e\"],[0.4444444444444444,\"#bd3786\"],[0.5555555555555556,\"#d8576b\"],[0.6666666666666666,\"#ed7953\"],[0.7777777777777778,\"#fb9f3a\"],[0.8888888888888888,\"#fdca26\"],[1.0,\"#f0f921\"]],\"sequentialminus\":[[0.0,\"#0d0887\"],[0.1111111111111111,\"#46039f\"],[0.2222222222222222,\"#7201a8\"],[0.3333333333333333,\"#9c179e\"],[0.4444444444444444,\"#bd3786\"],[0.5555555555555556,\"#d8576b\"],[0.6666666666666666,\"#ed7953\"],[0.7777777777777778,\"#fb9f3a\"],[0.8888888888888888,\"#fdca26\"],[1.0,\"#f0f921\"]],\"diverging\":[[0,\"#8e0152\"],[0.1,\"#c51b7d\"],[0.2,\"#de77ae\"],[0.3,\"#f1b6da\"],[0.4,\"#fde0ef\"],[0.5,\"#f7f7f7\"],[0.6,\"#e6f5d0\"],[0.7,\"#b8e186\"],[0.8,\"#7fbc41\"],[0.9,\"#4d9221\"],[1,\"#276419\"]]},\"xaxis\":{\"gridcolor\":\"white\",\"linecolor\":\"white\",\"ticks\":\"\",\"title\":{\"standoff\":15},\"zerolinecolor\":\"white\",\"automargin\":true,\"zerolinewidth\":2},\"yaxis\":{\"gridcolor\":\"white\",\"linecolor\":\"white\",\"ticks\":\"\",\"title\":{\"standoff\":15},\"zerolinecolor\":\"white\",\"automargin\":true,\"zerolinewidth\":2},\"scene\":{\"xaxis\":{\"backgroundcolor\":\"#E5ECF6\",\"gridcolor\":\"white\",\"linecolor\":\"white\",\"showbackground\":true,\"ticks\":\"\",\"zerolinecolor\":\"white\",\"gridwidth\":2},\"yaxis\":{\"backgroundcolor\":\"#E5ECF6\",\"gridcolor\":\"white\",\"linecolor\":\"white\",\"showbackground\":true,\"ticks\":\"\",\"zerolinecolor\":\"white\",\"gridwidth\":2},\"zaxis\":{\"backgroundcolor\":\"#E5ECF6\",\"gridcolor\":\"white\",\"linecolor\":\"white\",\"showbackground\":true,\"ticks\":\"\",\"zerolinecolor\":\"white\",\"gridwidth\":2}},\"shapedefaults\":{\"line\":{\"color\":\"#2a3f5f\"}},\"annotationdefaults\":{\"arrowcolor\":\"#2a3f5f\",\"arrowhead\":0,\"arrowwidth\":1},\"geo\":{\"bgcolor\":\"white\",\"landcolor\":\"#E5ECF6\",\"subunitcolor\":\"white\",\"showland\":true,\"showlakes\":true,\"lakecolor\":\"white\"},\"title\":{\"x\":0.05},\"mapbox\":{\"style\":\"light\"}}},\"xaxis\":{\"anchor\":\"y\",\"domain\":[0.0,1.0],\"scaleanchor\":\"y\",\"constrain\":\"domain\"},\"yaxis\":{\"anchor\":\"x\",\"domain\":[0.0,1.0],\"autorange\":\"reversed\",\"constrain\":\"domain\"},\"coloraxis\":{\"colorscale\":[[0.0,\"#0d0887\"],[0.1111111111111111,\"#46039f\"],[0.2222222222222222,\"#7201a8\"],[0.3333333333333333,\"#9c179e\"],[0.4444444444444444,\"#bd3786\"],[0.5555555555555556,\"#d8576b\"],[0.6666666666666666,\"#ed7953\"],[0.7777777777777778,\"#fb9f3a\"],[0.8888888888888888,\"#fdca26\"],[1.0,\"#f0f921\"]]},\"margin\":{\"t\":60}},                        {\"responsive\": true}                    ).then(function(){\n",
       "                            \n",
       "var gd = document.getElementById('79542f80-2cc7-4ff1-a6c1-44672b6c96eb');\n",
       "var x = new MutationObserver(function (mutations, observer) {{\n",
       "        var display = window.getComputedStyle(gd).display;\n",
       "        if (!display || display === 'none') {{\n",
       "            console.log([gd, 'removed!']);\n",
       "            Plotly.purge(gd);\n",
       "            observer.disconnect();\n",
       "        }}\n",
       "}});\n",
       "\n",
       "// Listen for the removal of the full notebook cells\n",
       "var notebookContainer = gd.closest('#notebook-container');\n",
       "if (notebookContainer) {{\n",
       "    x.observe(notebookContainer, {childList: true});\n",
       "}}\n",
       "\n",
       "// Listen for the clearing of the current output cell\n",
       "var outputEl = gd.closest('.output');\n",
       "if (outputEl) {{\n",
       "    x.observe(outputEl, {childList: true});\n",
       "}}\n",
       "\n",
       "                        })                };                });            </script>        </div>"
      ]
     },
     "metadata": {},
     "output_type": "display_data"
    }
   ],
   "source": [
    "import plotly.express as px\n",
    "import pandas as pd\n",
    "import numpy as np\n",
    "\n",
    "normalized_losses = {}\n",
    "\n",
    "drop_features = []\n",
    "drop_ids = [features.index(feature) for feature in drop_features]\n",
    "\n",
    "features_dropped = [feature for feature in features if feature not in drop_features]\n",
    "\n",
    "for task_name, losses in task_losses_positive.items():\n",
    "    base_loss = losses[1]\n",
    "    losses = losses[0]\n",
    "    losses = np.array(losses)\n",
    "    losses = np.delete(losses, drop_ids)\n",
    "\n",
    "    losses = np.minimum(losses, base_loss)\n",
    "\n",
    "    losses = (losses - base_loss) / base_loss\n",
    "    \n",
    "    max_loss = np.max(losses)\n",
    "    min_loss = np.min(losses)\n",
    "\n",
    "    losses = (losses - min_loss) / (max_loss - min_loss)\n",
    "    \n",
    "    # mean_loss = np.mean(losses - base_loss)\n",
    "\n",
    "    # base_acc = losses[1][1]\n",
    "\n",
    "    # accs = [base_acc - loss[1] for loss in losses[0]]\n",
    "    normalized_losses[task_name] = losses\n",
    "\n",
    "\n",
    "heatmap = np.zeros((len(task_names), len(features_dropped)))\n",
    "\n",
    "for i, task_name in enumerate(task_names):\n",
    "    for j, feature in enumerate(features_dropped):\n",
    "        heatmap[i, j] = normalized_losses[task_name][j]\n",
    "\n",
    "# heatmap /= np.mean(heatmap, axis=0, keepdims=True)\n",
    "\n",
    "\n",
    "\n",
    "# heatmap = np.where(heatmap > 0, np.log(heatmap), -10)\n",
    "# heatmap[np.isnan(heatmap)] = np.min(heatmap[np.isfinite(heatmap)])\n",
    "# heatmap[np.isinf(heatmap)] = np.max(heatmap[np.isfinite(heatmap)])\n",
    "\n",
    "# heatmap = np.clip(heatmap, -5, 5)\n",
    "\n",
    "\n",
    "fig = px.imshow(heatmap, x=[str(x) for x in features_dropped], y=task_names)\n",
    "\n",
    "fig.show()\n"
   ]
  },
  {
   "cell_type": "code",
   "execution_count": 120,
   "metadata": {},
   "outputs": [
    {
     "data": {
      "text/html": [
       "<script> (()=>{ if (customElements.get('treescope-container') === undefined) { class TreescopeContainer extends HTMLElement { constructor() { super(); this.attachShadow({mode: \"open\"}); this.defns = {}; this.state = {}; } } customElements.define(\"treescope-container\", TreescopeContainer); } if (customElements.get('treescope-run-here') === undefined) { class RunHere extends HTMLElement { constructor() { super() } connectedCallback() { const run = child => { const fn = new Function(child.textContent); child.textContent = \"\"; fn.call(this); this.remove(); }; const child = this.querySelector(\"script\"); if (child) { run(child); } else { new MutationObserver(()=>{ run(this.querySelector(\"script\")); }).observe(this, {childList: true}); } } } customElements.define(\"treescope-run-here\", RunHere); } })(); </script> <treescope-container class=\"treescope_out_c3bb89eb3962492a862851835c64a16c\" ></treescope-container> <treescope-run-here><script type=\"application/octet-stream\"> const root = ( Array.from(document.getElementsByClassName( \"treescope_out_c3bb89eb3962492a862851835c64a16c\")) .filter((elt) => !elt.dataset.setup) )[0]; root.dataset.setup = 1; const msg = document.createElement(\"span\"); msg.style = \"color: #aaaaaa; font-family: monospace; transition: opacity 0.2s; opacity: 0.0;\"; msg.textContent = \"(Loading...)\"; root.state.loadingMsg = msg; root.shadowRoot.appendChild(msg); root.state.chain = new Promise((resolve, reject) => { const observer = new IntersectionObserver((entries) => { for (const entry of entries) { if (entry.isIntersecting) { resolve(); observer.disconnect(); return; } } }, {rootMargin: \"1000px\"}); window.setTimeout(() => { if (root.loadingMsg) { root.loadingMsg.style.opacity = \"1.0\"; } observer.observe(root); }, 0); }); root.state.deferring = false; const _insertNode = (node) => { for (let oldScript of node.querySelectorAll(\"script\")) { let newScript = document.createElement(\"script\"); newScript.type = oldScript.type; newScript.textContent = oldScript.textContent; oldScript.parentNode.replaceChild(newScript, oldScript); } if (root.state.loadingMsg) { root.state.loadingMsg.remove(); root.state.loadingMsg = null; } root.shadowRoot.appendChild(node); }; root.defns.insertContent = ((contentNode, compressed) => { if (compressed) { root.state.deferring = true; } if (root.state.deferring) { root.state.chain = (async () => { await root.state.chain; if (compressed) { const encoded = contentNode.textContent; const blob = new Blob([ Uint8Array.from(atob(encoded), (m) => m.codePointAt(0)) ]); const reader = blob.stream().pipeThrough( new DecompressionStream(\"deflate\") ).pipeThrough( new TextDecoderStream(\"utf-8\") ).getReader(); const parts = []; while (true) { const step = await reader.read(); if (step.done) { break; } parts.push(step.value); } const tpl = document.createElement('template'); tpl.innerHTML = parts.join(\"\"); _insertNode(tpl.content); } else { _insertNode(contentNode.content); } })(); } else { _insertNode(contentNode.content); } }); </script></treescope-run-here><div style=\"display:none\"> <script type=\"application/octet-stream\" >eNqNVE1v2zAM/SuCd6gNzO7H0GJNYgO9DDsMO2yHHYohUGzaFiJTmkQny4b+91FykvUjK4YcYpHU43sUyYWnnYaqIAfga2Nh6Ywh8VtY4xUpgzPhQEtSG5iL1iDlrRyU3s3EYNB4K2u2b3tFkMfDTFjHFq085RE6p51lKxpk80rW686ZEZu8Ntq42XR1LvanleYAxlMN9TPRKuIwJECaCyubRmGXa2hpJq7qPiRByHtQXc+Wy+I6wCBJxZyP1/Yf+UZ5tVJaETOXI5ljbK6QnEKv6tyrXzB593QfFudTeRbH8uRuRM7p2OZrpyyJoK88k9ZqVctQsXNTEwT1DuRwVqVpVlZcUM7nSTTQoheloF75ogP6wtX+bBpIs6I3noroZ2lAYmkBg+S7OqCGS/ffT3k+Smw0sBtHredThoJpfjUG2ZpujVtn4jEH841NwfXETKoORguuNW6QWEOBZptm8X05QfrCI/Lp0kK8u8oYR7Uifca60IAd9aIsxUUIeZW6Axodct0FaA9/ifUjBmbPoX2vWgr8YkD4eODfPzKk3FXYmG3h4McInu5QDfG5Pjg5QDrVJAsY8xeJ7Oj7qYzzExoPKcpJxisq/59DYDE9JJmu09NULuPkcLfagBUsoOmtgA03+P4lA7t4LtawC0VPXBII7YOLWkvvP/Fw7nHT5Ii5HLgNk0Pyh4zrye0fe7xanJ8agEZtRAQsk6frIxEkV6wUfpbJRSIMMhmWjRz3Wtuf1pqGOweVCY/dtLDixljiOKzAxU6JC+TNxe37y+ubx6PLawkPNHueVcdrY70k6ZhGIhpJMmd6VlJfJsnT8Mc5kurmljHZWx3/uADVH80k25g=</script> <treescope-run-here><script type=\"application/octet-stream\"> const root = ( Array.from(document.getElementsByClassName( \"treescope_out_c3bb89eb3962492a862851835c64a16c\")) .filter((elt) => !elt.dataset['step0']) )[0]; root.dataset['step0'] = 1; root.defns.insertContent( this.parentNode.querySelector('script[type=\"application/octet-stream\"]'), true ); this.parentNode.remove(); </script></treescope-run-here> </div>"
      ],
      "text/plain": [
       "<IPython.core.display.HTML object>"
      ]
     },
     "metadata": {},
     "output_type": "display_data"
    },
    {
     "data": {
      "text/html": [
       "<treescope-run-here><script type=\"application/octet-stream\"> const root = ( Array.from(document.getElementsByClassName( \"treescope_out_c3bb89eb3962492a862851835c64a16c\")) .filter((elt) => !elt.dataset.stolen) )[0]; root.dataset.stolen = 1; this.parentNode.replaceChild(root, this); </script></treescope-run-here>"
      ],
      "text/plain": [
       "69"
      ]
     },
     "execution_count": 120,
     "metadata": {},
     "output_type": "execute_result"
    }
   ],
   "source": [
    "features_dropped.index(7491)"
   ]
  },
  {
   "cell_type": "code",
   "execution_count": 121,
   "metadata": {},
   "outputs": [
    {
     "data": {
      "text/html": [
       "<script> (()=>{ if (customElements.get('treescope-container') === undefined) { class TreescopeContainer extends HTMLElement { constructor() { super(); this.attachShadow({mode: \"open\"}); this.defns = {}; this.state = {}; } } customElements.define(\"treescope-container\", TreescopeContainer); } if (customElements.get('treescope-run-here') === undefined) { class RunHere extends HTMLElement { constructor() { super() } connectedCallback() { const run = child => { const fn = new Function(child.textContent); child.textContent = \"\"; fn.call(this); this.remove(); }; const child = this.querySelector(\"script\"); if (child) { run(child); } else { new MutationObserver(()=>{ run(this.querySelector(\"script\")); }).observe(this, {childList: true}); } } } customElements.define(\"treescope-run-here\", RunHere); } })(); </script> <treescope-container class=\"treescope_out_104e60d5d866483db336aa100bbe0acc\" ></treescope-container> <treescope-run-here><script type=\"application/octet-stream\"> const root = ( Array.from(document.getElementsByClassName( \"treescope_out_104e60d5d866483db336aa100bbe0acc\")) .filter((elt) => !elt.dataset.setup) )[0]; root.dataset.setup = 1; const msg = document.createElement(\"span\"); msg.style = \"color: #aaaaaa; font-family: monospace; transition: opacity 0.2s; opacity: 0.0;\"; msg.textContent = \"(Loading...)\"; root.state.loadingMsg = msg; root.shadowRoot.appendChild(msg); root.state.chain = new Promise((resolve, reject) => { const observer = new IntersectionObserver((entries) => { for (const entry of entries) { if (entry.isIntersecting) { resolve(); observer.disconnect(); return; } } }, {rootMargin: \"1000px\"}); window.setTimeout(() => { if (root.loadingMsg) { root.loadingMsg.style.opacity = \"1.0\"; } observer.observe(root); }, 0); }); root.state.deferring = false; const _insertNode = (node) => { for (let oldScript of node.querySelectorAll(\"script\")) { let newScript = document.createElement(\"script\"); newScript.type = oldScript.type; newScript.textContent = oldScript.textContent; oldScript.parentNode.replaceChild(newScript, oldScript); } if (root.state.loadingMsg) { root.state.loadingMsg.remove(); root.state.loadingMsg = null; } root.shadowRoot.appendChild(node); }; root.defns.insertContent = ((contentNode, compressed) => { if (compressed) { root.state.deferring = true; } if (root.state.deferring) { root.state.chain = (async () => { await root.state.chain; if (compressed) { const encoded = contentNode.textContent; const blob = new Blob([ Uint8Array.from(atob(encoded), (m) => m.codePointAt(0)) ]); const reader = blob.stream().pipeThrough( new DecompressionStream(\"deflate\") ).pipeThrough( new TextDecoderStream(\"utf-8\") ).getReader(); const parts = []; while (true) { const step = await reader.read(); if (step.done) { break; } parts.push(step.value); } const tpl = document.createElement('template'); tpl.innerHTML = parts.join(\"\"); _insertNode(tpl.content); } else { _insertNode(contentNode.content); } })(); } else { _insertNode(contentNode.content); } }); </script></treescope-run-here><div style=\"display:none\"> <script type=\"application/octet-stream\" >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</script> <treescope-run-here><script type=\"application/octet-stream\"> const root = ( Array.from(document.getElementsByClassName( \"treescope_out_104e60d5d866483db336aa100bbe0acc\")) .filter((elt) => !elt.dataset['step0']) )[0]; root.dataset['step0'] = 1; root.defns.insertContent( this.parentNode.querySelector('script[type=\"application/octet-stream\"]'), true ); this.parentNode.remove(); </script></treescope-run-here> </div>"
      ],
      "text/plain": [
       "<IPython.core.display.HTML object>"
      ]
     },
     "metadata": {},
     "output_type": "display_data"
    },
    {
     "data": {
      "text/html": [
       "<treescope-run-here><script type=\"application/octet-stream\"> const root = ( Array.from(document.getElementsByClassName( \"treescope_out_104e60d5d866483db336aa100bbe0acc\")) .filter((elt) => !elt.dataset.stolen) )[0]; root.dataset.stolen = 1; this.parentNode.replaceChild(root, this); </script></treescope-run-here>"
      ],
      "text/plain": [
       "[26127,\n",
       " 6171,\n",
       " 10787,\n",
       " 30247,\n",
       " 3113,\n",
       " 9782,\n",
       " 32320,\n",
       " 15947,\n",
       " 23682,\n",
       " 12943,\n",
       " 16016,\n",
       " 13458,\n",
       " 30888,\n",
       " 19112,\n",
       " 11491,\n",
       " 23312,\n",
       " 7967,\n",
       " 7491,\n",
       " 1878,\n",
       " 20832,\n",
       " 6503,\n",
       " 26987,\n",
       " 2939,\n",
       " 31620,\n",
       " 11172,\n",
       " 25534,\n",
       " 6594,\n",
       " 5579,\n",
       " 23514,\n",
       " 6629,\n",
       " 18416]"
      ]
     },
     "execution_count": 121,
     "metadata": {},
     "output_type": "execute_result"
    }
   ],
   "source": [
    "mean_heatmap = np.mean(heatmap, axis=0)\n",
    "\n",
    "drop_features = np.where(mean_heatmap < 0.9)[0]\n",
    "\n",
    "drop_features = [features_dropped[x] for x in drop_features]\n",
    "\n",
    "drop_features"
   ]
  },
  {
   "cell_type": "code",
   "execution_count": 115,
   "metadata": {},
   "outputs": [
    {
     "data": {
      "text/html": [
       "<script> (()=>{ if (customElements.get('treescope-container') === undefined) { class TreescopeContainer extends HTMLElement { constructor() { super(); this.attachShadow({mode: \"open\"}); this.defns = {}; this.state = {}; } } customElements.define(\"treescope-container\", TreescopeContainer); } if (customElements.get('treescope-run-here') === undefined) { class RunHere extends HTMLElement { constructor() { super() } connectedCallback() { const run = child => { const fn = new Function(child.textContent); child.textContent = \"\"; fn.call(this); this.remove(); }; const child = this.querySelector(\"script\"); if (child) { run(child); } else { new MutationObserver(()=>{ run(this.querySelector(\"script\")); }).observe(this, {childList: true}); } } } customElements.define(\"treescope-run-here\", RunHere); } })(); </script> <treescope-container class=\"treescope_out_a40288c9bdfe4c8abf3d02272a83c790\" ></treescope-container> <treescope-run-here><script type=\"application/octet-stream\"> const root = ( Array.from(document.getElementsByClassName( \"treescope_out_a40288c9bdfe4c8abf3d02272a83c790\")) .filter((elt) => !elt.dataset.setup) )[0]; root.dataset.setup = 1; const msg = document.createElement(\"span\"); msg.style = \"color: #aaaaaa; font-family: monospace; transition: opacity 0.2s; opacity: 0.0;\"; msg.textContent = \"(Loading...)\"; root.state.loadingMsg = msg; root.shadowRoot.appendChild(msg); root.state.chain = new Promise((resolve, reject) => { const observer = new IntersectionObserver((entries) => { for (const entry of entries) { if (entry.isIntersecting) { resolve(); observer.disconnect(); return; } } }, {rootMargin: \"1000px\"}); window.setTimeout(() => { if (root.loadingMsg) { root.loadingMsg.style.opacity = \"1.0\"; } observer.observe(root); }, 0); }); root.state.deferring = false; const _insertNode = (node) => { for (let oldScript of node.querySelectorAll(\"script\")) { let newScript = document.createElement(\"script\"); newScript.type = oldScript.type; newScript.textContent = oldScript.textContent; oldScript.parentNode.replaceChild(newScript, oldScript); } if (root.state.loadingMsg) { root.state.loadingMsg.remove(); root.state.loadingMsg = null; } root.shadowRoot.appendChild(node); }; root.defns.insertContent = ((contentNode, compressed) => { if (compressed) { root.state.deferring = true; } if (root.state.deferring) { root.state.chain = (async () => { await root.state.chain; if (compressed) { const encoded = contentNode.textContent; const blob = new Blob([ Uint8Array.from(atob(encoded), (m) => m.codePointAt(0)) ]); const reader = blob.stream().pipeThrough( new DecompressionStream(\"deflate\") ).pipeThrough( new TextDecoderStream(\"utf-8\") ).getReader(); const parts = []; while (true) { const step = await reader.read(); if (step.done) { break; } parts.push(step.value); } const tpl = document.createElement('template'); tpl.innerHTML = parts.join(\"\"); _insertNode(tpl.content); } else { _insertNode(contentNode.content); } })(); } else { _insertNode(contentNode.content); } }); </script></treescope-run-here><div style=\"display:none\"> <script type=\"application/octet-stream\" >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</script> <treescope-run-here><script type=\"application/octet-stream\"> const root = ( Array.from(document.getElementsByClassName( \"treescope_out_a40288c9bdfe4c8abf3d02272a83c790\")) .filter((elt) => !elt.dataset['step0']) )[0]; root.dataset['step0'] = 1; root.defns.insertContent( this.parentNode.querySelector('script[type=\"application/octet-stream\"]'), true ); this.parentNode.remove(); </script></treescope-run-here> </div>"
      ],
      "text/plain": [
       "<IPython.core.display.HTML object>"
      ]
     },
     "metadata": {},
     "output_type": "display_data"
    },
    {
     "data": {
      "text/html": [
       "<treescope-run-here><script type=\"application/octet-stream\"> const root = ( Array.from(document.getElementsByClassName( \"treescope_out_a40288c9bdfe4c8abf3d02272a83c790\")) .filter((elt) => !elt.dataset.stolen) )[0]; root.dataset.stolen = 1; this.parentNode.replaceChild(root, this); </script></treescope-run-here>"
      ],
      "text/plain": [
       "(23, 129)"
      ]
     },
     "execution_count": 115,
     "metadata": {},
     "output_type": "execute_result"
    }
   ],
   "source": [
    "heatmap.shape"
   ]
  },
  {
   "cell_type": "code",
   "execution_count": 116,
   "metadata": {},
   "outputs": [
    {
     "data": {
      "text/html": [
       "<script> (()=>{ if (customElements.get('treescope-container') === undefined) { class TreescopeContainer extends HTMLElement { constructor() { super(); this.attachShadow({mode: \"open\"}); this.defns = {}; this.state = {}; } } customElements.define(\"treescope-container\", TreescopeContainer); } if (customElements.get('treescope-run-here') === undefined) { class RunHere extends HTMLElement { constructor() { super() } connectedCallback() { const run = child => { const fn = new Function(child.textContent); child.textContent = \"\"; fn.call(this); this.remove(); }; const child = this.querySelector(\"script\"); if (child) { run(child); } else { new MutationObserver(()=>{ run(this.querySelector(\"script\")); }).observe(this, {childList: true}); } } } customElements.define(\"treescope-run-here\", RunHere); } })(); </script> <treescope-container class=\"treescope_out_f8c9a41f957d40ec865b7459d52d5be1\" ></treescope-container> <treescope-run-here><script type=\"application/octet-stream\"> const root = ( Array.from(document.getElementsByClassName( \"treescope_out_f8c9a41f957d40ec865b7459d52d5be1\")) .filter((elt) => !elt.dataset.setup) )[0]; root.dataset.setup = 1; const msg = document.createElement(\"span\"); msg.style = \"color: #aaaaaa; font-family: monospace; transition: opacity 0.2s; opacity: 0.0;\"; msg.textContent = \"(Loading...)\"; root.state.loadingMsg = msg; root.shadowRoot.appendChild(msg); root.state.chain = new Promise((resolve, reject) => { const observer = new IntersectionObserver((entries) => { for (const entry of entries) { if (entry.isIntersecting) { resolve(); observer.disconnect(); return; } } }, {rootMargin: \"1000px\"}); window.setTimeout(() => { if (root.loadingMsg) { root.loadingMsg.style.opacity = \"1.0\"; } observer.observe(root); }, 0); }); root.state.deferring = false; const _insertNode = (node) => { for (let oldScript of node.querySelectorAll(\"script\")) { let newScript = document.createElement(\"script\"); newScript.type = oldScript.type; newScript.textContent = oldScript.textContent; oldScript.parentNode.replaceChild(newScript, oldScript); } if (root.state.loadingMsg) { root.state.loadingMsg.remove(); root.state.loadingMsg = null; } root.shadowRoot.appendChild(node); }; root.defns.insertContent = ((contentNode, compressed) => { if (compressed) { root.state.deferring = true; } if (root.state.deferring) { root.state.chain = (async () => { await root.state.chain; if (compressed) { const encoded = contentNode.textContent; const blob = new Blob([ Uint8Array.from(atob(encoded), (m) => m.codePointAt(0)) ]); const reader = blob.stream().pipeThrough( new DecompressionStream(\"deflate\") ).pipeThrough( new TextDecoderStream(\"utf-8\") ).getReader(); const parts = []; while (true) { const step = await reader.read(); if (step.done) { break; } parts.push(step.value); } const tpl = document.createElement('template'); tpl.innerHTML = parts.join(\"\"); _insertNode(tpl.content); } else { _insertNode(contentNode.content); } })(); } else { _insertNode(contentNode.content); } }); </script></treescope-run-here><div style=\"display:none\"> <script type=\"application/octet-stream\" >eNqNVE2P0zAQ/StWOGwqkWy70LL9SKS9IA6IAxw4IFS5ySSx6oyNPWkpaP8746Qt+1FWqIfGb8bz3oxnZuXpoCFPyQH4wlhYO2NI/BbWeEXK4EI40JLUDpaiMkhJJVulDwvRGjTeyoLxfaMIkv6wENYxopWnpA+d0MEyigYZ3shiWzvTYZkURhu3GK4uxfG00ezA8VRJzUJUitgNCZCWwsqyVFgnGipaiJuiCSQISQOqbhiZpNMQBkkq1ny+dvxIdsqrjdKKWLnsyJx9E4XkFHpVJF79gsF6lHu/uh7KszqXJ3EdMqdjzBdOWRIhv+xKWqtVIUPFrk1BELJ3INurPI5HWc4FZT5PooQKvcgENcqnNdBnrvYnU0I8ShvjKe3tnBqQWFvAkPJdEaKGS9++X7J8kFhqYDN2Wi8HhpRlfjEGGY33xm1H4qEG85WhYHoEkyoCaMFVxrUSC0jR7ONR/75MED+ziGS4tBJvbkYcR1UifqI61YA1NSLLxDi4vCjdAXUOue4CtIe/wpoOg7KnoX2jKgr6eofwcc+/fzDE3FVYmn3q4EcHnu5Qtf1zvXeyhXioySjEWD4jsp1vhjIuL+R4osiGNF7I8v81BBXDQ5Kpaz1M5bqfHO5WG2IFBDS9FrDjBj++ZFDXn9MtHELRIxcFQUfntNDS+488nMe4cXSOuW65DaMT+f2I68nt3/d4vrq+NACl2ok+YBY9Xh+RILnhTOFnFo0jYZDFcNrIfi+1/eVc43DnlGXEYzcsrH5jrLFrN+D6TukXyKvx/HYynT0cXV5LeJLZ8Kw6XhvbNUnHMiJRSpIJy7OSmiyKHrs/5IjycTqfjW9n8+lsejN592Y+ecsc7J2f/7gg+R95oN7Y</script> <treescope-run-here><script type=\"application/octet-stream\"> const root = ( Array.from(document.getElementsByClassName( \"treescope_out_f8c9a41f957d40ec865b7459d52d5be1\")) .filter((elt) => !elt.dataset['step0']) )[0]; root.dataset['step0'] = 1; root.defns.insertContent( this.parentNode.querySelector('script[type=\"application/octet-stream\"]'), true ); this.parentNode.remove(); </script></treescope-run-here> </div>"
      ],
      "text/plain": [
       "<IPython.core.display.HTML object>"
      ]
     },
     "metadata": {},
     "output_type": "display_data"
    },
    {
     "data": {
      "text/html": [
       "<treescope-run-here><script type=\"application/octet-stream\"> const root = ( Array.from(document.getElementsByClassName( \"treescope_out_f8c9a41f957d40ec865b7459d52d5be1\")) .filter((elt) => !elt.dataset.stolen) )[0]; root.dataset.stolen = 1; this.parentNode.replaceChild(root, this); </script></treescope-run-here>"
      ],
      "text/plain": [
       "0.9608695652173914"
      ]
     },
     "execution_count": 116,
     "metadata": {},
     "output_type": "execute_result"
    }
   ],
   "source": [
    "(22 + 0.1)/23"
   ]
  },
  {
   "cell_type": "code",
   "execution_count": 127,
   "metadata": {},
   "outputs": [
    {
     "data": {
      "application/vnd.plotly.v1+json": {
       "config": {
        "plotlyServerURL": "https://plot.ly"
       },
       "data": [
        {
         "coloraxis": "coloraxis",
         "hovertemplate": "x: %{x}<br>y: %{y}<br>color: %{z}<extra></extra>",
         "name": "0",
         "type": "heatmap",
         "x": [
          "5633",
          "16415",
          "7714",
          "8250",
          "7739",
          "572",
          "23613",
          "9790",
          "19515",
          "30814",
          "22113",
          "6756",
          "16996",
          "16490",
          "6765",
          "25712",
          "22136",
          "6780",
          "27268",
          "27270",
          "19592",
          "24206",
          "19097",
          "1181",
          "25759",
          "32417",
          "3757",
          "22199",
          "27832",
          "15554",
          "211",
          "26331",
          "17636",
          "29934",
          "14086",
          "9991",
          "27401",
          "6413",
          "5392",
          "4370",
          "9488",
          "14612",
          "25878",
          "1818",
          "16671",
          "1830",
          "18218",
          "26924",
          "3382",
          "19260",
          "8508",
          "12606",
          "20805",
          "23374",
          "850",
          "24925",
          "4448",
          "2914",
          "11618",
          "17761",
          "23906",
          "5991",
          "18285",
          "2930",
          "18803",
          "2931",
          "22906",
          "6013",
          "9600",
          "25474",
          "32643",
          "10633",
          "23436",
          "3476",
          "18840",
          "7578",
          "30618",
          "24993",
          "19363",
          "11173",
          "2992",
          "8633",
          "16313",
          "8125",
          "9662",
          "7106",
          "7114",
          "16340",
          "29144",
          "9178",
          "6108",
          "10720",
          "18400",
          "26594",
          "25056",
          "25576",
          "2539",
          "15356"
         ],
         "xaxis": "x",
         "y": [
          "location_continent",
          "football_player_position",
          "location_religion",
          "location_language",
          "person_profession",
          "location_country",
          "country_capital",
          "person_language",
          "singular_plural",
          "present_simple_past_simple",
          "antonyms",
          "plural_singular",
          "present_simple_past_perfect",
          "present_simple_gerund",
          "en_it",
          "it_en",
          "en_fr",
          "en_es",
          "fr_en",
          "es_en",
          "algo_last",
          "algo_first",
          "algo_second"
         ],
         "yaxis": "y",
         "z": [
          [
           0.2783793818012496,
           0.5822840464686757,
           0.5776757465467169,
           0.10905725083284745,
           0.6931465673917849,
           0.5303856448331642,
           0.6931465673917849,
           0.6931465673917849,
           0.5637220414434075,
           0.4549730975709833,
           0.5914374222131856,
           0.4177347819510318,
           0.6228301136422172,
           0.6931465673917849,
           0.2073819003684631,
           0.5959828815063342,
           0.6931465673917849,
           0.5108251332314925,
           0.6931465673917849,
           0.38467394683593914,
           0.6931465673917849,
           0.6931465673917849,
           0.48582384965397185,
           0.4549730975709833,
           0.5914374222131856,
           0.5543102138605105,
           0.5543102138605105,
           0.6828052199709438,
           0.6931465673917849,
           0.4444743216845556,
           0.5303856448331642,
           0.6446650280372916,
           0.5448089614618236,
           0.2721293672764421,
           0.6931465673917849,
           0.5008995007711925,
           0.6931465673917849,
           0.6931465673917849,
           0.48582384965397185,
           0.6931465673917849,
           0.6744544459488465,
           0.3210687516996645,
           0.4756456524561678,
           0.38467394683593914,
           0.6094965916027683,
           0.6931465673917849,
           0.6931465673917849,
           0.6931465673917849,
           0.6005077730538945,
           0.097925422773292,
           0.5730461118415768,
           0.6931465673917849,
           0.5776757465467169,
           0.6931465673917849,
           0,
           0.46536279337808006,
           0.5108251332314925,
           0.24673120070088683,
           0.5008995007711925,
           0.6931465673917849,
           0.6931465673917849,
           0.515751247951814,
           0.4122999903660963,
           0.6931465673917849,
           0.6931465673917849,
           0.5303856448331642,
           0.6931465673917849,
           0.12370951162510274,
           0.6828052199709438,
           0.6931465673917849,
           0.5303856448331642,
           0.6931465673917849,
           0.3210687516996645,
           0.43918330822138174,
           0.4807477004614488,
           0.25951091517968655,
           0.43386415095951664,
           0.4068355003432693,
           0.6931465673917849,
           0.3620101063930124,
           0.4549730975709833,
           0.5590272004233966,
           0.4549730975709833,
           0.48582384965397185,
           0.43386415095951664,
           0.4756456524561678,
           0.5352165686254846,
           0.6931465673917849,
           0.5448089614618236,
           0.6931465673917849,
           0.004106776926686495,
           0.6094965916027683,
           0.5959828815063342,
           0.4958994940795075,
           0.6931465673917849,
           0.19051811126636506,
           0.193913696831556,
           0.6702527617256203
          ],
          [
           0.5223146007416342,
           0.532804202497855,
           0.5636285465505717,
           0.6193806636787029,
           0.5770290760722258,
           0.4974022922428574,
           0.6352037719078666,
           0,
           0.5534589720004224,
           0.35222035784877087,
           0.4341842517622848,
           0.4974022922428574,
           0.5117137997745482,
           0.6065394012545403,
           0.529319880042074,
           0.5362764265930522,
           0.6320591165535034,
           0.5736957411413598,
           0.6931467835231447,
           0.6872032319891336,
           0.5703512579173807,
           0.5836625966196067,
           0.42647708849719324,
           0.5187934720044365,
           0.5869629281887081,
           0.4418324686813407,
           0.4718534698389434,
           0.5602501664883492,
           0.6931467835231447,
           0.44373541785694015,
           0.5770290760722258,
           0.6691576367928641,
           0.6842181563397122,
           0.4974022922428574,
           0.5770290760722258,
           0.5602501664883492,
           0.5117137997745482,
           0.48288298798067325,
           0.5636285465505717,
           0.6161857741499662,
           0.6161857741499662,
           0.5669955515793531,
           0.5902524033891384,
           0.6931467835231447,
           0.3290370354883443,
           0.6901794234752442,
           0.532804202497855,
           0.5836625966196067,
           0.5152599010962684,
           0.6225653783871384,
           0.4494226340880849,
           0.49379218176516887,
           0.529319880042074,
           0.5500460009650665,
           0.6812241433283001,
           0.6752090900226652,
           0.5045836481961901,
           0.5967990687438998,
           0.45319622156356604,
           0.6193806636787029,
           0.5967990687438998,
           0.5152599010962684,
           0.43033809515706134,
           0.5967990687438998,
           0.6812241433283001,
           0.42840945524752333,
           0.6901794234752442,
           0.5187934720044365,
           0.5009994166898375,
           0.6600112353034797,
           0.532804202497855,
           0.5902524033891384,
           0.4607009434441172,
           0.6931467835231447,
           0.5187934720044365,
           0.6721879409115543,
           0.5397366360535568,
           0.508155078854599,
           0.6782211392769484,
           0.6193806636787029,
           0.508155078854599,
           0.650780404333946,
           0.5703512579173807,
           0.5117137997745482,
           0.5534589720004224,
           0.46814976373959893,
           0.5935310934103604,
           0.6225653783871384,
           0.5397366360535568,
           0.4607009434441172,
           0.5223146007416342,
           0.4341842517622848,
           0.532804202497855,
           0.49379218176516887,
           0.532804202497855,
           0.4494226340880849,
           0.49379218176516887,
           0.5431849137391277
          ],
          [
           0.4978980246569571,
           0.6102968497316525,
           0.3670185290927148,
           0.6839300649275374,
           0.6715075507931749,
           0.40851823381786634,
           0.639758867801168,
           0.4941736276743904,
           0.45614625406824627,
           0.47534069012388114,
           0.3879836441953659,
           0.42063958690580394,
           0.42863962470880523,
           0.6931467157284652,
           0.3921244342551783,
           0.6839300649275374,
           0.6493897561625541,
           0.5661470879131,
           0.6931467157284652,
           0.4483641182289019,
           0.6461897549883664,
           0.6808388738102967,
           0.5235874964411517,
           0.573067527117829,
           0.5867663643448662,
           0.46770706969751835,
           0.42063958690580394,
           0.4715311639131159,
           0.6931467157284652,
           0.5343984066236003,
           0.5696132940633665,
           0.677738097593502,
           0.677738097593502,
           0.27614769487949614,
           0.6300343227005967,
           0.47534069012388114,
           0.25504493385446947,
           0.4044449109522134,
           0.49043530768799265,
           0.6931467157284652,
           0.6931467157284652,
           0.44052094544306986,
           0.6102968497316525,
           0.6931467157284652,
           0.4003549282433431,
           0.579940402815607,
           0.6931467157284652,
           0.5126584319608771,
           0.5163147411319574,
           0.40851823381786634,
           0.41257503201191886,
           0.6300343227005967,
           0.5626688253757212,
           0.5765098695076414,
           0.6102968497316525,
           0.6931467157284652,
           0.4791357589032418,
           0.4978980246569571,
           0.04777023290249355,
           0.6931467157284652,
           0.579940402815607,
           0.4044449109522134,
           0.4829164795704788,
           0.6931467157284652,
           0.6931467157284652,
           0.3542251859255183,
           0.6808388738102967,
           0.5199577303932068,
           0.4791357589032418,
           0.677738097593502,
           0.3962481488542717,
           0.6493897561625541,
           0.40851823381786634,
           0.626771678683799,
           0.40851823381786634,
           0.5016086019606949,
           0.4044449109522134,
           0.5163147411319574,
           0.6931467157284652,
           0.6931467157284652,
           0.3962481488542717,
           0.6931467157284652,
           0.6620883333719494,
           0.6808388738102967,
           0.23831815220012076,
           0.2188528318106331,
           0.4483641182289019,
           0.6931467157284652,
           0.6589287745989703,
           0,
           0.4483641182289019,
           0.5661470879131,
           0.31706246424172896,
           0.5901619515934399,
           0.5661470879131,
           0.43261577068536017,
           0.31928715775926314,
           0.362772240951976
          ],
          [
           0.3807720877133568,
           0.5796227877701244,
           0.3537434394350051,
           0.6931465366581282,
           0.6431361491040829,
           0.07966730411830447,
           0.4577330636643552,
           0.6431361491040829,
           0.47608218751774894,
           0.6224100327633558,
           0.27541166983321747,
           0.29739055529597475,
           0.32596390079578175,
           0.6931465366581282,
           0.40708937317360727,
           0.6328267864599638,
           0.6931465366581282,
           0.5796227877701244,
           0.6931465366581282,
           0.47000314631941165,
           0.6931465366581282,
           0.6734414783927664,
           0.32596390079578175,
           0.5291919714524193,
           0.568633674164816,
           0.4638869242398737,
           0.20641886818746522,
           0.6634414016583435,
           0.6931465366581282,
           0.29739055529597475,
           0.4577330636643552,
           0.6931465366581282,
           0.6931465366581282,
           0.26797669864254137,
           0.47000314631941165,
           0.5176311578725072,
           0.43904094602605437,
           0.5796227877701244,
           0.43904094602605437,
           0.6931465366581282,
           0.6931465366581282,
           0.668453940165307,
           0.4821244971544383,
           0.6931465366581282,
           0.49410067873472424,
           0.6931465366581282,
           0.6931465366581282,
           0.5904924522090721,
           0.47608218751774894,
           0.668453940165307,
           0.6931465366581282,
           0.595883297007857,
           0.568633674164816,
           0.5904924522090721,
           0.668453940165307,
           0.6931465366581282,
           0.5059351271380368,
           0.3188967401654311,
           0.3399501298597354,
           0.6931465366581282,
           0.3399501298597354,
           0.26048603431995243,
           0.3329814669538926,
           0.6931465366581282,
           0.6931465366581282,
           0.1408216567265951,
           0.6882565545203189,
           0.47608218751774894,
           0.49410067873472424,
           0.6931465366581282,
           0.06606166835276926,
           0.6012452363541787,
           0.28279176994130456,
           0.6931465366581282,
           0.19845070691923175,
           0.4515410984773916,
           0.3468705663824758,
           0.6012452363541787,
           0.6931465366581282,
           0.6734414783927664,
           0.557522456888139,
           0.6931465366581282,
           0.6118836270895852,
           0.557522456888139,
           0,
           0.02409752091707853,
           0.4881305164530927,
           0.6931465366581282,
           0.6584036109784679,
           0.5406206586553588,
           0.6171606805145753,
           0.6634414016583435,
           0.10633551990605028,
           0.5462863919537513,
           0.3807720877133568,
           0.4577330636643552,
           0.17415804031737264,
           0.29011780294879863
          ],
          [
           0.4814506095094842,
           0.465056810573909,
           0.4814506095094842,
           0.6367619612311227,
           0.5081901532472637,
           0.4371220521280834,
           0.682121185730514,
           0.3104469999565934,
           0.5495396872017757,
           0.18742528730879782,
           0.5646153404402726,
           0.313657273092821,
           0.5545901999014068,
           0.6459998970529822,
           0.2777643783778772,
           0.6085248071302172,
           0.6931466498586134,
           0.4371220521280834,
           0.6931466498586134,
           0.6931466498586134,
           0.3513975723482444,
           0.22314333903371084,
           0.25762948632108007,
           0.48685602454094135,
           0.5081901532472637,
           0.28768180710115016,
           0.4595319383353808,
           0.44277178080793805,
           0.6931466498586134,
           0.3544792365874586,
           0.5989324130056722,
           0.6132867181466828,
           0.6931466498586134,
           0.4371220521280834,
           0.5495396872017757,
           0.5495396872017757,
           0.24740794067767544,
           0.22664596661595454,
           0.47055132623858414,
           0.6274378896158085,
           0.5342332753688356,
           0.3697466974362041,
           0.523897272501629,
           0.6865459693418406,
           0.10008335747103625,
           0.682121185730514,
           0.523897272501629,
           0.5843690573722821,
           0.502899139000233,
           0.5695904720853944,
           0.3817950271699499,
           0.5989324130056722,
           0.5393614885536192,
           0.5342332753688356,
           0.6227430479786332,
           0.6321107926730357,
           0.502899139000233,
           0.5941014885598913,
           0.4199787869955698,
           0.5695904720853944,
           0.4314402225669313,
           0.523897272501629,
           0.3039953697115736,
           0.6931466498586134,
           0.6931466498586134,
           0.39959963901727347,
           0.6931466498586134,
           0.4814506095094842,
           0.42285648481914523,
           0.6413915965364023,
           0.3877651898436539,
           0.502899139000233,
           0.2777643783778772,
           0.6931466498586134,
           0.41129567050413685,
           0.48685602454094135,
           0.44277178080793805,
           0.4371220521280834,
           0.682121185730514,
           0.6132867181466828,
           0.39369992110170765,
           0.6931466498586134,
           0.5393614885536192,
           0.29750184550311587,
           0.4199787869955698,
           0.2542339001102084,
           0.44838976929317154,
           0.6931466498586134,
           0.402536496603298,
           0.22314333903371084,
           0.3877651898436539,
           0,
           0.45397637222537296,
           0.5134533199397167,
           0.4922323780797846,
           0.3200470662512071,
           0.313657273092821,
           0.5393614885536192
          ],
          [
           0.625159280913674,
           0.5467902662342258,
           0.4558185542810388,
           0.4735181180136996,
           0.6931465796215198,
           0.335800977978801,
           0.6931465796215198,
           0.6931465796215198,
           0.5893498516675341,
           0.664573224595974,
           0.16416059146494547,
           0.1317691292512988,
           0.4735181180136996,
           0.6931465796215198,
           0.1561605569899917,
           0.6931465796215198,
           0.6931465796215198,
           0.594544665090409,
           0.6931465796215198,
           0.21843742443685424,
           0.6931465796215198,
           0.6931465796215198,
           0.674188677378123,
           0.5023385352839227,
           0.5080042687107177,
           0.5576011748583156,
           0.5303515514212043,
           0.6931465796215198,
           0.6931465796215198,
           0.4793490339725308,
           0.5841279111767816,
           0.6884406914187233,
           0.2734971498679088,
           0.32568285654941626,
           0.6931465796215198,
           0.44984839185683534,
           0.6931465796215198,
           0.6931465796215198,
           0.4194509383288368,
           0.6931465796215198,
           0.6931465796215198,
           0.36880724655542313,
           0.5682964566540895,
           0.4194509383288368,
           0.664573224595974,
           0.6931465796215198,
           0.6931465796215198,
           0.6931465796215198,
           0.5629631143196391,
           0.6931465796215198,
           0.6099691252648366,
           0.22969456814764388,
           0.5629631143196391,
           0.625159280913674,
           0.40075882022466214,
           0.664573224595974,
           0.48514614735520645,
           0.39444965612652905,
           0.46175328529254445,
           0.6931465796215198,
           0.669392508059052,
           0.467653002964463,
           0.5303515514212043,
           0.6931465796215198,
           0.26632866696688534,
           0.5136380823662584,
           0.6931465796215198,
           0.08544510752733994,
           0.6931465796215198,
           0.6931465796215198,
           0.5576011748583156,
           0.6931465796215198,
           0.5788785588177778,
           0.36880724655542313,
           0.4558185542810388,
           0.5413406652680364,
           0.46175328529254445,
           0.6597306031219194,
           0.6931465796215198,
           0,
           0.2518356731075659,
           0.6931465796215198,
           0.5413406652680364,
           0.6931465796215198,
           0.1561605569899917,
           0.48514614735520645,
           0.6931465796215198,
           0.6931465796215198,
           0.625159280913674,
           0.6931465796215198,
           0.40075882022466214,
           0.5788785588177778,
           0.36880724655542313,
           0.6150581914572785,
           0.4909098478197505,
           0.31888011515018494,
           0.36229257096670076,
           0.5736015052813985
          ],
          [
           0.6931467814471022,
           0.6243123040671557,
           0.49518253495605974,
           0.48431286803594553,
           0.6931467814471022,
           0.5681315003770634,
           0.6931467814471022,
           0.6051270716277103,
           0.5904926705343608,
           0.6547239916782841,
           0.371639764187239,
           0.5929466584119564,
           0.6171609059780946,
           0.6931467814471022,
           0.3958101119697765,
           0.6931467814471022,
           0.6931467814471022,
           0.6931467814471022,
           0.6931467814471022,
           0.684238040129473,
           0.6931467814471022,
           0.6931467814471022,
           0.6931467814471022,
           0.45379733934896227,
           0.5478262434934686,
           0.6570254877131234,
           0.636118811635914,
           0.6931467814471022,
           0.6931467814471022,
           0.6501050477421115,
           0.6051270716277103,
           0.6707243264414495,
           0.45661027930130155,
           0.5706409108490027,
           0.6931467814471022,
           0.49518253495605974,
           0.6931467814471022,
           0.6931467814471022,
           0.6477875505684927,
           0.6931467814471022,
           0.6931467814471022,
           0.6931467814471022,
           0.45379733934896227,
           0.6931467814471022,
           0.6931467814471022,
           0.6931467814471022,
           0.6931467814471022,
           0.6931467814471022,
           0.5323220641690385,
           0.6931467814471022,
           0.6931467814471022,
           0.5781315792115364,
           0.684238040129473,
           0.6931467814471022,
           0.6931467814471022,
           0.6931467814471022,
           0.6931467814471022,
           0.5297145019858474,
           0.6931467814471022,
           0.6931467814471022,
           0.6931467814471022,
           0.43675148079302795,
           0.6027028290740563,
           0.6931467814471022,
           0.3868145539164377,
           0.6931467814471022,
           0.6931467814471022,
           0.33425225308546275,
           0.6931467814471022,
           0.6931467814471022,
           0.6593216990244074,
           0.6931467814471022,
           0.6931467814471022,
           0.6931467814471022,
           0.5904926705343608,
           0.6931467814471022,
           0.6931467814471022,
           0.64313638133977,
           0.6931467814471022,
           0,
           0.5929466584119564,
           0.6931467814471022,
           0.6931467814471022,
           0.6931467814471022,
           0.5529413418054522,
           0.6290516474095239,
           0.6931467814471022,
           0.6931467814471022,
           0.516573714641372,
           0.6931467814471022,
           0.6887023314644641,
           0.6931467814471022,
           0.534922844651564,
           0.6931467814471022,
           0.5401042009773741,
           0.6931467814471022,
           0.6931467814471022,
           0.6887023314644641
          ],
          [
           0.3168572066452468,
           0.5545900953455012,
           0.23708078328263862,
           0.693146527051814,
           0.5290785270841947,
           0.27776431881047786,
           0.48145051565714647,
           0.476015724072211,
           0.4650567192300224,
           0.5545900953455012,
           0.14280822928584008,
           0.20900879386027355,
           0.32322664888580116,
           0.693146527051814,
           0.3168572066452468,
           0.5028990419274961,
           0.693146527051814,
           0.33584510098255677,
           0.693146527051814,
           0.4083843799990967,
           0.5393613861622825,
           0.4650567192300224,
           0.37277233970764184,
           0.4427716929405527,
           0.5290785270841947,
           0.4483896805420537,
           0.4141983448279722,
           0.693146527051814,
           0.693146527051814,
           0.38478448540577914,
           0.3966540504649806,
           0.693146527051814,
           0.693146527051814,
           0.08004260713385175,
           0.5646152344773072,
           0.48685592987048343,
           0.1389987051938996,
           0.40253641521229777,
           0.4595318478461743,
           0.693146527051814,
           0.6367618455476916,
           0.5393613861622825,
           0.5134532213074956,
           0.6776766154680082,
           0.5444634341675634,
           0.693146527051814,
           0.693146527051814,
           0.5989323023315991,
           0.3168572066452468,
           0.5444634341675634,
           0.6367618455476916,
           0.4371219651544446,
           0.4483896805420537,
           0.603740000455713,
           0.4483896805420537,
           0.603740000455713,
           0.3907368786538372,
           0.2643862061980691,
           0.10798850427506433,
           0.5290785270841947,
           0.603740000455713,
           0.2231432899110084,
           0.3787964489038078,
           0.6821210642852098,
           0.693146527051814,
           0.19467164602790368,
           0.693146527051814,
           0.3483063098517196,
           0.3295557779687997,
           0.6274377751495221,
           0.10798850427506433,
           0.36671172056890716,
           0.16536555143678652,
           0.6413914802528315,
           0.1727729845389621,
           0.27776431881047786,
           0.32322664888580116,
           0.5794669816579286,
           0.693146527051814,
           0.6367618455476916,
           0.4427716929405527,
           0.6865458473483318,
           0.5444634341675634,
           0.3907368786538372,
           0.004376368892306063,
           0.03871446254717649,
           0.5238971723423281,
           0.693146527051814,
           0.6732123253088828,
           0.21610101467508633,
           0.3966540504649806,
           0.5134532213074956,
           0.025975452890033578,
           0.4371219651544446,
           0.3606141462406925,
           0.30399530532744445,
           0,
           0.07191249089938734
          ],
          [
           0.6931464229850487,
           0.3694710374297624,
           0.5978363189382393,
           0.6931464229850487,
           0.6931464229850487,
           0.20479413206278493,
           0.6931464229850487,
           0.48783552062305,
           0.43040352652623876,
           0.5108250177061192,
           0.6931464229850487,
           0.5465430684103002,
           0.5552767407512965,
           0.6931464229850487,
           0.6701569223783772,
           0.6931464229850487,
           0.6623747879925191,
           0.6931464229850487,
           0.32668380800026037,
           0.6931464229850487,
           0.6623747879925191,
           0.6931464229850487,
           0.6931464229850487,
           0.4402075170109502,
           0.6545316166830631,
           0.05167193424183925,
           0.21094799006313636,
           0.6931464229850487,
           0.6931464229850487,
           0.5978363189382393,
           0.6061351148658877,
           0.6931464229850487,
           0.4105023920123747,
           0.6931464229850487,
           0.17979286111221235,
           0.07302502831423502,
           0.6931464229850487,
           0.6931464229850487,
           0.6143656072282588,
           0.6931464229850487,
           0.6931464229850487,
           0,
           0.6061351148658877,
           0.6931464229850487,
           0.5810292147461399,
           0.07302502831423502,
           0.6931464229850487,
           0.6225289112034242,
           0.27625301090241766,
           0.6931464229850487,
           0.6931464229850487,
           0.6931464229850487,
           0.405464603058297,
           0.6931464229850487,
           0.6931464229850487,
           0.6931464229850487,
           0.1861020223443374,
           0.6931464229850487,
           0.44991632171173895,
           0.6931464229850487,
           0.43040352652623876,
           0.4924758958729242,
           0.3798877874370405,
           0.19237162749630748,
           0.6931464229850487,
           0.6931464229850487,
           0.25299617578341965,
           0.6778789625092628,
           0.6931464229850487,
           0.6931464229850487,
           0.25299617578341965,
           0.6931464229850487,
           0.6931464229850487,
           0.6931464229850487,
           0.310154524263966,
           0.6931464229850487,
           0.6701569223783772,
           0.6931464229850487,
           0.6931464229850487,
           0.6931464229850487,
           0.5725185323214527,
           0.5062692053213548,
           0.6778789625092628,
           0.6931464229850487,
           0.6931464229850487,
           0.5016925424831227,
           0.6931464229850487,
           0.6931464229850487,
           0.38505575225389366,
           0.6931464229850487,
           0.6931464229850487,
           0.6931464229850487,
           0.38505575225389366,
           0.6931464229850487,
           0.23519157228409016,
           0.6931464229850487,
           0.6931464229850487,
           0.6931464229850487
          ],
          [
           0.6931465998151096,
           0.6931465998151096,
           0.6931465998151096,
           0.6931465998151096,
           0.6931465998151096,
           0.41371218401502363,
           0.6931465998151096,
           0.6931465998151096,
           0.6931465998151096,
           0.43805413821581873,
           0.27753734188961265,
           0.3887628843683352,
           0.4657238671809211,
           0.6931465998151096,
           0.5763336623851706,
           0.6931465998151096,
           0.6931465998151096,
           0.6931465998151096,
           0.6931465998151096,
           0.6931465998151096,
           0.6931465998151096,
           0.6931465998151096,
           0.5039694188197367,
           0.44603820660381316,
           0.6931465998151096,
           0.6931465998151096,
           0.49643643181796143,
           0.6931465998151096,
           0.6931465998151096,
           0.6931465998151096,
           0.6931465998151096,
           0.6273651099247485,
           0.6931465998151096,
           0.6931465998151096,
           0.6339767001698666,
           0.6727537482166046,
           0.6931465998151096,
           0.6931465998151096,
           0.6931465998151096,
           0.6931465998151096,
           0.6599944120738832,
           0.6931465998151096,
           0.6273651099247485,
           0.6931465998151096,
           0.6790728808344791,
           0.3457455338942176,
           0.4657238671809211,
           0.6931465998151096,
           0.6931465998151096,
           0.6931465998151096,
           0.6931465998151096,
           0.6931465998151096,
           0.6931465998151096,
           0.6931465998151096,
           0.6931465998151096,
           0.6931465998151096,
           0.6405448642482839,
           0.6931465998151096,
           0.6853523326324613,
           0.6931465998151096,
           0.47349089087800583,
           0.6931465998151096,
           0.5444160805856643,
           0.3717773514906907,
           0.6931465998151096,
           0.4178105472663383,
           0.6931465998151096,
           0.6931465998151096,
           0.6931465998151096,
           0.6931465998151096,
           0.5225573016653954,
           0.6931465998151096,
           0.6931465998151096,
           0.6931465998151096,
           0.5798179841975045,
           0.6931465998151096,
           0.6931465998151096,
           0.6931465998151096,
           0.6931465998151096,
           0.6931465998151096,
           0.6931465998151096,
           0.6663944300895538,
           0.6931465998151096,
           0.6931465998151096,
           0.6931465998151096,
           0.6931465998151096,
           0.6931465998151096,
           0.6931465998151096,
           0.6931465998151096,
           0.6931465998151096,
           0.6931465998151096,
           0.6931465998151096,
           0.5480132043468605,
           0.6931465998151096,
           0.6931465998151096,
           0.6931465998151096,
           0.6931465998151096,
           0
          ],
          [
           0.6194846517279479,
           0.4681900778578489,
           0.6380323157697507,
           0.6931467602703553,
           0.631887905934568,
           0.37903158585731195,
           0.6931467602703553,
           0.6931467602703553,
           0.5748201514085803,
           0.6829500265573479,
           0.5845604835713465,
           0.5314800562547366,
           0.5715521761925173,
           0.6931467602703553,
           0.43497671064503635,
           0.631887905934568,
           0.3447194609542422,
           0.6931467602703553,
           0.6931467602703553,
           0.6931467602703553,
           0.6931467602703553,
           0.6931467602703553,
           0.19908826490753212,
           0.4387220313412178,
           0.6100801979747841,
           0.6931467602703553,
           0.5910017266661948,
           0.5038444599260754,
           0.6931467602703553,
           0.49328098680992893,
           0.48617616484589254,
           0.5382712504890006,
           0.6931467602703553,
           0.6931467602703553,
           0.6931467602703553,
           0.5246424261667533,
           0.6931467602703553,
           0.6931467602703553,
           0.6931467602703553,
           0.6931467602703553,
           0.5813242363107682,
           0.6931467602703553,
           0.5942068561255772,
           0.6931467602703553,
           0.5974017455420334,
           0.6931467602703553,
           0.6931467602703553,
           0.6931467602703553,
           0.5314800562547366,
           0.6931467602703553,
           0.6931467602703553,
           0.6931467602703553,
           0.4718132683237773,
           0.6931467602703553,
           0.6931467602703553,
           0.6931467602703553,
           0.48617616484589254,
           0.6931467602703553,
           0,
           0.6931467602703553,
           0.6916964343027083,
           0.6931467602703553,
           0.3569645046670946,
           0.6931467602703553,
           0.6931467602703553,
           0.6652243115516319,
           0.6931467602703553,
           0.42365584121512423,
           0.6592452230874213,
           0.6931467602703553,
           0.6931467602703553,
           0.6931467602703553,
           0.6502090209700716,
           0.6887894567367256,
           0.3928249001075039,
           0.6931467602703553,
           0.48617616484589254,
           0.5108252875343329,
           0.6931467602703553,
           0.6931467602703553,
           0.6132248532203698,
           0.6931467602703553,
           0.48617616484589254,
           0.6887894567367256,
           0.6931467602703553,
           0.6931467602703553,
           0.6931467602703553,
           0.6931467602703553,
           0.6194846517279479,
           0.6931467602703553,
           0.631887905934568,
           0.33232261540546576,
           0.3447194609542422,
           0.5845604835713465,
           0.6532301699807818,
           0.29633991961534345,
           0.6931467602703553,
           0.6931467602703553
          ],
          [
           0.6931465194310328,
           0.5134793743447734,
           0.6931465194310328,
           0.6931465194310328,
           0.6931465194310328,
           0.49339839433745775,
           0.6931465194310328,
           0.5788872486560146,
           0.31148259585845767,
           0.509495308488589,
           0.6931465194310328,
           0.6931465194310328,
           0.4519846429220733,
           0.6931465194310328,
           0.6931465194310328,
           0.6931465194310328,
           0.6931465194310328,
           0.6931465194310328,
           0.46040573826240677,
           0.6931465194310328,
           0.6931465194310328,
           0.6931465194310328,
           0.6931465194310328,
           0.3999121871489776,
           0.6931465194310328,
           0.4852517163733336,
           0.20368613562359367,
           0.6713152723657826,
           0.6931465194310328,
           0.6931465194310328,
           0.16500732359441014,
           0.6931465194310328,
           0.47290589066165856,
           0.6931465194310328,
           0.6931465194310328,
           0.5014792398939992,
           0.6931465194310328,
           0.6931465194310328,
           0.6931465194310328,
           0.6931465194310328,
           0.6931465194310328,
           0.6009875794565928,
           0.27682569619844183,
           0.6931465194310328,
           0.6931465194310328,
           0.330760282795217,
           0.6931465194310328,
           0.6931465194310328,
           0.5788872486560146,
           0.6931465194310328,
           0.6931465194310328,
           0.6931465194310328,
           0.5054953063392532,
           0.6931465194310328,
           0.6931465194310328,
           0.6931465194310328,
           0.6931465194310328,
           0.6931465194310328,
           0.6931465194310328,
           0.6931465194310328,
           0.3999121871489776,
           0.6931465194310328,
           0.44774735201953864,
           0,
           0.6931465194310328,
           0.6931465194310328,
           0.2356888327384402,
           0.6931465194310328,
           0.6931465194310328,
           0.6931465194310328,
           0.35434625965937655,
           0.6931465194310328,
           0.6931465194310328,
           0.6931465194310328,
           0.27682569619844183,
           0.6931465194310328,
           0.6931465194310328,
           0.6931465194310328,
           0.6931465194310328,
           0.6931465194310328,
           0.5214002015935992,
           0.6713152723657826,
           0.6931465194310328,
           0.6931465194310328,
           0.6931465194310328,
           0.6931465194310328,
           0.6931465194310328,
           0.6931465194310328,
           0.18176747381821015,
           0.6931465194310328,
           0.6931465194310328,
           0.6367695465917078,
           0.4131867066687048,
           0.6931465194310328,
           0.25646877974703186,
           0.6931465194310328,
           0.6931465194310328,
           0.6931465194310328
          ],
          [
           0.6931460920661473,
           0.6931460920661473,
           0.6931460920661473,
           0.6931460920661473,
           0.6931460920661473,
           0.35401589723248494,
           0.6931460920661473,
           0.6931460920661473,
           0.6931460920661473,
           0.5143583209449756,
           0.13242431563547669,
           0.4025101748421944,
           0.6887114998360344,
           0.6931460920661473,
           0.6931460920661473,
           0.6931460920661473,
           0.6931460920661473,
           0.6931460920661473,
           0.6931460920661473,
           0.6931460920661473,
           0.6931460920661473,
           0.6931460920661473,
           0.35401589723248494,
           0.3415157536877246,
           0.6931460920661473,
           0.6525084914792486,
           0.43739738393569033,
           0.6931460920661473,
           0.6931460920661473,
           0.6931460920661473,
           0.6931460920661473,
           0.4025101748421944,
           0.6931460920661473,
           0.6931460920661473,
           0.6931460920661473,
           0.6525084914792486,
           0.6931460920661473,
           0.6931460920661473,
           0.6931460920661473,
           0.6931460920661473,
           0.6931460920661473,
           0.6931460920661473,
           0.5143583209449756,
           0.6931460920661473,
           0.6931460920661473,
           0.5353014678143507,
           0.32885737652494,
           0.6931460920661473,
           0.6931460920661473,
           0.6931460920661473,
           0.6931460920661473,
           0.6931460920661473,
           0.6931460920661473,
           0.6931460920661473,
           0.6931460920661473,
           0.6931460920661473,
           0.5143583209449756,
           0.6931460920661473,
           0.5659160652035116,
           0.6931460920661473,
           0.43739738393569033,
           0.6931460920661473,
           0.48209750140169116,
           0.4487611267022505,
           0.6931460920661473,
           0.6931460920661473,
           0.6931460920661473,
           0.6931460920661473,
           0.6931460920661473,
           0.6931460920661473,
           0.47110839467980287,
           0.6931460920661473,
           0.6931460920661473,
           0.6931460920661473,
           0.6525084914792486,
           0.6931460920661473,
           0.6931460920661473,
           0.6931460920661473,
           0.6931460920661473,
           0.6931460920661473,
           0.6931460920661473,
           0.6931460920661473,
           0.6931460920661473,
           0.6931460920661473,
           0.6931460920661473,
           0.6931460920661473,
           0.6931460920661473,
           0.6931460920661473,
           0.6931460920661473,
           0.6931460920661473,
           0.6931460920661473,
           0.6931460920661473,
           0.45999718444036525,
           0.6931460920661473,
           0.6931460920661473,
           0.6931460920661473,
           0.6931460920661473,
           0
          ],
          [
           0.6931466013525277,
           0.45692298051052,
           0.4877896061949441,
           0.591629138861801,
           0.6931466013525277,
           0.45063365623097973,
           0.6604393026342844,
           0.5525180343159348,
           0.49385022650907817,
           0.511814768897763,
           0.5236143076839147,
           0.6553110893443064,
           0.5410565984818415,
           0.6931466013525277,
           0.5694675814252337,
           0.6931466013525277,
           0.6931466013525277,
           0.6931466013525277,
           0.6706175014896343,
           0.6931466013525277,
           0.591629138861801,
           0.6931466013525277,
           0.5806097507157414,
           0.45063365623097973,
           0.5294622735650752,
           0.4218316868971702,
           0.27898067898798456,
           0.45692298051052,
           0.6931466013525277,
           0,
           0.6806931475394815,
           0.6706175014896343,
           0.6025284223702921,
           0.591629138861801,
           0.6025284223702921,
           0.48169203067695215,
           0.6931466013525277,
           0.6931466013525277,
           0.6553110893443064,
           0.6931466013525277,
           0.6931466013525277,
           0.5177319418293233,
           0.6806931475394815,
           0.6931466013525277,
           0.4443045258661247,
           0.22116116026604538,
           0.5750541844822761,
           0.5236143076839147,
           0.591629138861801,
           0.6931466013525277,
           0.6931466013525277,
           0.6292679666801083,
           0.5058623745159098,
           0.6931466013525277,
           0.6931466013525277,
           0.6931466013525277,
           0.1806698372819923,
           0.6604393026342844,
           0.6079338375186236,
           0.6931466013525277,
           0.6655413514725559,
           0.45063365623097973,
           0.45692298051052,
           0.38209138904791307,
           0.6931466013525277,
           0.6501564418643864,
           0.6931466013525277,
           0.5525180343159348,
           0.6931466013525277,
           0.6931466013525277,
           0.39551439883952133,
           0.6931466013525277,
           0.6931466013525277,
           0.6931466013525277,
           0.4218316868971702,
           0.6931466013525277,
           0.5294622735650752,
           0.6931466013525277,
           0.6931466013525277,
           0.6931466013525277,
           0.6553110893443064,
           0.5177319418293233,
           0.6079338375186236,
           0.6931466013525277,
           0.6931466013525277,
           0.3888254159236201,
           0.4631729962853373,
           0.6931466013525277,
           0.6449750862634319,
           0.6931466013525277,
           0.6806931475394815,
           0.6449750862634319,
           0.37531170744035686,
           0.49987433686652416,
           0.4631729962853373,
           0.6931466013525277,
           0.591629138861801,
           0.29385082853158734
          ],
          [
           0.4491689081875368,
           0.11663671078178832,
           0,
           0.3080904793851627,
           0.4020221837545136,
           0.1702208755438603,
           0.152676592056821,
           0.2694756939612058,
           0.16148720854228707,
           0.21278042836854247,
           0.2773188609645685,
           0.2455702054926723,
           0.30048588983106644,
           0.50669268980536,
           0.2615705250777503,
           0.2210792194752651,
           0.5004621466540958,
           0.5251547333298604,
           0.4878833778965884,
           0.3669309058151146,
           0.28510099111109444,
           0.46871348261367207,
           0.3080904793851627,
           0.14378765807191876,
           0.3080904793851627,
           0.01025648228377824,
           0.14378765807191876,
           0.3305633066177291,
           0.29282302706786834,
           0.20441219060277085,
           0.3811155237044761,
           0.3231283375276563,
           0.12576918016660077,
           0.2455702054926723,
           0.2615705250777503,
           0.13481900176352618,
           0.49419254032288323,
           0.4157210121614859,
           0.1702208755438603,
           0.578579846077089,
           0.46871348261367207,
           0.35976242507236,
           0.3080904793851627,
           0.6827835263648897,
           0.14378765807191876,
           0.040409468928993095,
           0.5492522602283422,
           0.0981176921665241,
           0.18746265670898682,
           0.3811155237044761,
           0.337943404656104,
           0.21278042836854247,
           0.19597333406342637,
           0.31563767533725884,
           0.5004621466540958,
           0.3669309058151146,
           0.21278042836854247,
           0.2374730064061168,
           0.3881330879912227,
           0.5551869897605607,
           0.30048588983106644,
           0.01025648228377824,
           0.1702208755438603,
           0.22930970709574194,
           0.6931463042724373,
           0.3305633066177291,
           0.14378765807191876,
           0.18746265670898682,
           0.22930970709574194,
           0.5372760813732377,
           0.06001790763454395,
           0.43592369634978023,
           0.11663671078178832,
           0.4491689081875368,
           0.1702208755438603,
           0.3740483649720336,
           0.2455702054926723,
           0.337943404656104,
           0.2773188609645685,
           0.18746265670898682,
           0.2536023662222096,
           0.35254218596133713,
           0.3231283375276563,
           0.3452694356241007,
           0.0981176921665241,
           0.22930970709574194,
           0.03045915490747971,
           0.337943404656104,
           0.2694756939612058,
           0.30048588983106644,
           0.2694756939612058,
           0.3305633066177291,
           0.2210792194752651,
           0.0981176921665241,
           0.13481900176352618,
           0.31563767533725884,
           0.18746265670898682,
           0.2694756939612058
          ],
          [
           0.33838742580565095,
           0.33838742580565095,
           0.25874346984328334,
           0.6931462745209082,
           0.2378003256056963,
           0.03947874082885912,
           0.6931462745209082,
           0.3851248446680989,
           0.08980373922275406,
           0.18343919619515137,
           0.2378003256056963,
           0.18343919619515137,
           0,
           0.683028153569284,
           0.08980373922275406,
           0.42100308888365384,
           0.5373164859570408,
           0.6272646315384787,
           0.5294424378962725,
           0.6128239614599169,
           0.5451290174539714,
           0.5451290174539714,
           0.052299407067698034,
           0.19455040495306605,
           0.39421580521210925,
           0.14934503716584838,
           0.08980373922275406,
           0.3573453152899012,
           0.6931462745209082,
           0.2378003256056963,
           0.14934503716584838,
           0.4725165636136313,
           0.6762254124939949,
           0.20553951022581432,
           0.37595047975496254,
           0.1377170174244276,
           0.6931462745209082,
           0.6931462745209082,
           0.5294424378962725,
           0.6931462745209082,
           0.4121534841793459,
           0.27925698127107074,
           0.013333506868441689,
           0.6931462745209082,
           0.10199899223852398,
           0.6931462745209082,
           0.5215058968040623,
           0.39421580521210925,
           0.29935813331740146,
           0.683028153569284,
           0.6931462745209082,
           0.5757827268292736,
           0.216409166512365,
           0.6485420096122685,
           0.6931462745209082,
           0.6931462745209082,
           0.25874346984328334,
           0.4808499357976234,
           0.4891144364266881,
           0.6931462745209082,
           0.5605733237805628,
           0.3190631781863572,
           0.14934503716584838,
           0.4470914943389582,
           0.6931462745209082,
           0.27925698127107074,
           0.6931462745209082,
           0.33838742580565095,
           0.4470914943389582,
           0.6931462745209082,
           0.28935806348313736,
           0.6931462745209082,
           0.4297750645684916,
           0.3573453152899012,
           0.03947874082885912,
           0.5215058968040623,
           0.24832672363384192,
           0.4556385450553149,
           0.6931462745209082,
           0.6931462745209082,
           0.10199899223852398,
           0.5981716991648136,
           0.3851248446680989,
           0.5294424378962725,
           0.6200703628917511,
           0.3190631781863572,
           0.513505862777115,
           0.6931462745209082,
           0.08980373922275406,
           0.2690528251538186,
           0.43847076132792506,
           0.36669116591647344,
           0.10199899223852398,
           0.18343919619515137,
           0.14934503716584838,
           0.34791129507174656,
           0.37595047975496254,
           0.5605733237805628
          ],
          [
           0.41362799391769983,
           0.28665664447697964,
           0.09754303775688439,
           0.36929944439766893,
           0.3405618599030456,
           0.2554041308629565,
           0.16231380257036723,
           0.3405618599030456,
           0.26173325978572315,
           0.24262441671080343,
           0.29279162728585584,
           0.31097392950816444,
           0.26802258264125733,
           0.5311097781890479,
           0.3521561824000746,
           0.3579033196020976,
           0.506718343271033,
           0.4297573625793017,
           0.5502034230594954,
           0.4456306988852086,
           0.42440976062803787,
           0.5017678418608293,
           0.3749491720560991,
           0.2804837911998527,
           0.4190334080141624,
           0.10863371190458827,
           0.22314330049482067,
           0.3347138952530417,
           0.3405618599030456,
           0.31097392950816444,
           0.40819320245091256,
           0.36929944439766893,
           0.09008032507623236,
           0.20994180196887854,
           0.2742725970098133,
           0.13404339920418165,
           0.3347138952530417,
           0.5407021708413573,
           0.17615483932655523,
           0.6053897997863167,
           0.4867675720769737,
           0.3861537614648274,
           0.2988892014653486,
           0.6931465535113547,
           0.20994180196887854,
           0.22967926493859525,
           0.5359174762207056,
           0.18980691423664117,
           0.31097392950816444,
           0.4190334080141624,
           0.32883153064413395,
           0.31097392950816444,
           0.2554041308629565,
           0.24262441671080343,
           0.5873306307228766,
           0.41362799391769983,
           0.17615483932655523,
           0.34637582459671196,
           0.4508663087451643,
           0.506718343271033,
           0.36929944439766893,
           0,
           0.1692582675446248,
           0.32883153064413395,
           0.5689393206895178,
           0.42440976062803787,
           0.3229143589730427,
           0.26802258264125733,
           0.3049498204571585,
           0.5549204095333814,
           0.23617278779774115,
           0.42440976062803787,
           0.22314330049482067,
           0.4612560043363675,
           0.1692582675446248,
           0.36361761586958136,
           0.3579033196020976,
           0.46641065085975136,
           0.3521561824000746,
           0.22967926493859525,
           0.40272871254752834,
           0.41362799391769983,
           0.3861537614648274,
           0.47153886320297894,
           0.10125361294028978,
           0.20327511741075782,
           0.18980691423664117,
           0.4297573625793017,
           0.3347138952530417,
           0.41362799391769983,
           0.39170932658717483,
           0.3579033196020976,
           0.22967926493859525,
           0.2988892014653486,
           0.316961965866709,
           0.3049498204571585,
           0.15532077456150853,
           0.3049498204571585
          ],
          [
           0.48215715922975727,
           0.2488957193035736,
           0,
           0.330241268053178,
           0.36101289428625366,
           0.24038503955887525,
           0.18774136936744026,
           0.2740016116491387,
           0.22314325348852196,
           0.2100139777908207,
           0.2488957193035736,
           0.29849260426476987,
           0.16955907293072148,
           0.44105552212304,
           0.37605075616008204,
           0.29849260426476987,
           0.45494462106934774,
           0.4269707958305356,
           0.47542313326099594,
           0.3685600921180447,
           0.41985333500188765,
           0.47542313326099594,
           0.4054646117319688,
           0.18774136936744026,
           0.3144929280741079,
           0.0982700820562594,
           0.16496136947416176,
           0.37605075616008204,
           0.3380234001982458,
           0.30652476712333415,
           0.3380234001982458,
           0.26570281826969466,
           0.24038503955887525,
           0.26570281826969466,
           0.26570281826969466,
           0.0933318070976167,
           0.5280668192759133,
           0.5020913559832932,
           0.22314325348852196,
           0.6543604404064627,
           0.44802418478607065,
           0.36101289428625366,
           0.3223980990198006,
           0.6822173736453984,
           0.15570205580714377,
           0.04775436185468531,
           0.43403795621116137,
           0.10318409024225755,
           0.20559896492261978,
           0.3144929280741079,
           0.2903954030145691,
           0.2822321015050793,
           0.1510400486565519,
           0.36101289428625366,
           0.5596151497374116,
           0.36101289428625366,
           0.2100139777908207,
           0.30652476712333415,
           0.39086582691011945,
           0.5658071147326725,
           0.2573345781930045,
           0.13692218531511072,
           0.16496136947416176,
           0.22314325348852196,
           0.6931464359955596,
           0.3685600921180447,
           0.22314325348852196,
           0.17869154506781973,
           0.3380234001982458,
           0.5719609751188401,
           0.03208826752639782,
           0.44105552212304,
           0.17869154506781973,
           0.3981918596492585,
           0.12260215026983096,
           0.44802418478607065,
           0.3223980990198006,
           0.45494462106934774,
           0.4054646117319688,
           0.18322669459767715,
           0.3457454381228146,
           0.3457454381228146,
           0.330241268053178,
           0.41268485256335047,
           0.2573345781930045,
           0.3380234001982458,
           0.20559896492261978,
           0.5344566117810258,
           0.2740016116491387,
           0.43403795621116137,
           0.330241268053178,
           0.330241268053178,
           0.1416503203856958,
           0.2318013059617836,
           0.13692218531511072,
           0.36101289428625366,
           0.19223575342060378,
           0.2822321015050793
          ],
          [
           0.4191769120719793,
           0.37135908079299534,
           0.39555378732949903,
           0.501312539656594,
           0.35903860784026204,
           0.1882210494864541,
           0.6226733040854073,
           0.46481216754989935,
           0.29944656798173386,
           0.1882210494864541,
           0.29944656798173386,
           0.11184815862583738,
           0.2028198328519269,
           0.2360770188957744,
           0.18330704014137436,
           0.4191769120719793,
           0.6290024346104947,
           0.5155476440292055,
           0.6782431164586064,
           0.6415417749793264,
           0.5969484315429923,
           0.5365274179187609,
           0.18330704014137436,
           0.09584783656594077,
           0.42692888208574387,
           0.38755375189453195,
           0.21243528110365342,
           0.09584783656594077,
           0.6931465119215627,
           0.3835296052546037,
           0.2407390270896152,
           0.3548978190492656,
           0.6931465119215627,
           0.41136437923225755,
           0.5434239916032074,
           0.35903860784026204,
           0.6931465119215627,
           0.6931465119215627,
           0.5904124653904579,
           0.6931465119215627,
           0.1734059802362673,
           0.4573494526415531,
           0.06859822768354497,
           0.6931465119215627,
           0.2360770188957744,
           0.6931465119215627,
           0.21243528110365342,
           0.3995299321361322,
           0.37135908079299534,
           0.6901835487749964,
           0.6931465119215627,
           0.3631623211809825,
           0.4422548392926988,
           0.6722190059560003,
           0.6931465119215627,
           0.6931465119215627,
           0.29944656798173386,
           0.2682636719413785,
           0.6931465119215627,
           0.6931465119215627,
           0.5904124653904579,
           0.501312539656594,
           0.19311102937653915,
           0.37135908079299534,
           0.6931465119215627,
           0.5155476440292055,
           0.5570760702409354,
           0.3381610425208885,
           0.5638328475448853,
           0.6931465119215627,
           0.1882210494864541,
           0.6901835487749964,
           0.5084554214035991,
           0.3995299321361322,
           0.13279130768837016,
           0.5225899210505065,
           0.3465644453374722,
           0.6782431164586064,
           0.6931465119215627,
           0.6931465119215627,
           0,
           0.4722196026274069,
           0.41136437923225755,
           0.5705442770429577,
           0.6931465119215627,
           0.41136437923225755,
           0.3381610425208885,
           0.6931465119215627,
           0.2906359470715001,
           0.2637285214242754,
           0.5155476440292055,
           0.3507398128079288,
           0.14310066533714835,
           0.3125186366760076,
           0.32542202896891503,
           0.5638328475448853,
           0.29944656798173386,
           0.5155476440292055
          ],
          [
           0.5185302230631511,
           0.410974391547833,
           0.2695628487790407,
           0.5316022960864221,
           0.39992456350125016,
           0.1951303192052665,
           0.4434096439201293,
           0.42552009197114754,
           0.20418014653518363,
           0.27796625251365326,
           0.20418014653518363,
           0.12451281851009756,
           0.2904404163650349,
           0.5250876193093474,
           0.09480769351152214,
           0.6931466280742153,
           0.5698234845559859,
           0.5380748064026832,
           0.5412954190282532,
           0.547705693279994,
           0.6931466280742153,
           0.6931466280742153,
           0.3348921430034509,
           0.28214162043738644,
           0.3621842640084101,
           0.24392044008469352,
           0.14861034686037658,
           0.09982023030994563,
           0.6931466280742153,
           0.41827368870144316,
           0.14861034686037658,
           0.2695628487790407,
           0.6931466280742153,
           0.5086127929628912,
           0.3189555634396455,
           0.3229635816243355,
           0.6931466280742153,
           0.6931466280742153,
           0.43985724483967364,
           0.6931466280742153,
           0.39621398685839565,
           0.34668008949166623,
           0,
           0.6931466280742153,
           0.22203774799005563,
           0.665133607542163,
           0.28214162043738644,
           0.30683421270257144,
           0.25254117569683987,
           0.6931466280742153,
           0.6931466280742153,
           0.410974391547833,
           0.46446303834255837,
           0.6421441025309872,
           0.6931466280742153,
           0.6931466280742153,
           0.22203774799005563,
           0.3189555634396455,
           0.5380748064026832,
           0.6931466280742153,
           0.41827368870144316,
           0.44694946811917774,
           0.2945641301478863,
           0.17678119737207132,
           0.6931466280742153,
           0.5508954866131347,
           0.4918619937619169,
           0.35057872686744285,
           0.547705693279994,
           0.6931466280742153,
           0.25254117569683987,
           0.6931466280742153,
           0.6537049182493619,
           0.46792924391612417,
           0.24392044008469352,
           0.5152353293375669,
           0.3774517244841958,
           0.5945160819024644,
           0.6931466280742153,
           0.6820354088221712,
           0.08976990455744434,
           0.4362921812171178,
           0.43271436242939587,
           0.6363131856201648,
           0.6066374350883547,
           0.534843787909136,
           0.3774517244841958,
           0.6931466280742153,
           0.23522474067871263,
           0.2945641301478863,
           0.41827368870144316,
           0.39992456350125016,
           0.2695628487790407,
           0.28214162043738644,
           0.21760315485532308,
           0.5822459968384984,
           0.3348921430034509,
           0.5604042685543171
          ],
          [
           0.6931467881285016,
           0.6931467881285016,
           0.6931467881285016,
           0.6931467881285016,
           0.6204932345567072,
           0.31020143594547506,
           0.6931467881285016,
           0.4246672773435655,
           0.6931467881285016,
           0.5157187112048154,
           0.6931467881285016,
           0.6931467881285016,
           0.48167288602432845,
           0.6931467881285016,
           0.6931467881285016,
           0.6931467881285016,
           0.25744661943996183,
           0.6931467881285016,
           0.013226774929016024,
           0.6931467881285016,
           0.6931467881285016,
           0.6931467881285016,
           0.6931467881285016,
           0.48513010473485324,
           0.6931467881285016,
           0.6931467881285016,
           0.3583551448664629,
           0.6931467881285016,
           0.6931467881285016,
           0.6931467881285016,
           0.6761852574671385,
           0.6931467881285016,
           0.505626115571123,
           0.6931467881285016,
           0.6931467881285016,
           0.6931467881285016,
           0.6931467881285016,
           0.6931467881285016,
           0.6931467881285016,
           0.6931467881285016,
           0.6931467881285016,
           0.3603120915811235,
           0.32042646805171027,
           0.6931467881285016,
           0.6931467881285016,
           0.6931467881285016,
           0.6931467881285016,
           0.6931467881285016,
           0.6235030173513788,
           0.6931467881285016,
           0.6931467881285016,
           0.6931467881285016,
           0.39300729389148903,
           0.6931467881285016,
           0.6931467881285016,
           0.6931467881285016,
           0.6931467881285016,
           0.6931467881285016,
           0.505626115571123,
           0.6931467881285016,
           0.5290189842007983,
           0.5518771118265086,
           0.5190604003033522,
           0.5518771118265086,
           0.6931467881285016,
           0.6931467881285016,
           0.6931467881285016,
           0.6022417851222567,
           0.6931467881285016,
           0.6931467881285016,
           0.4117519753391804,
           0.6931467881285016,
           0.6931467881285016,
           0.6931467881285016,
           0.571062343959217,
           0.6931467881285016,
           0.6931467881285016,
           0.6931467881285016,
           0.6931467881285016,
           0.6931467881285016,
           0.6931467881285016,
           0,
           0.6931467881285016,
           0.6931467881285016,
           0.6931467881285016,
           0.6931467881285016,
           0.08654402219254435,
           0.6931467881285016,
           0.6931467881285016,
           0.6931467881285016,
           0.6931467881285016,
           0.6931467881285016,
           0.6235030173513788,
           0.6931467881285016,
           0.6931467881285016,
           0.6761852574671385,
           0.661827514801591,
           0.6931467881285016
          ],
          [
           0.6931464342193174,
           0.6931464342193174,
           0.6931464342193174,
           0.6931464342193174,
           0.6931464342193174,
           0.6931464342193174,
           0.6931464342193174,
           0.6931464342193174,
           0.6931464342193174,
           0.6931464342193174,
           0.6931464342193174,
           0.1280282950493382,
           0.6931464342193174,
           0.6931464342193174,
           0.6931464342193174,
           0.6931464342193174,
           0.6931464342193174,
           0.6931464342193174,
           0.6931464342193174,
           0.6931464342193174,
           0.6931464342193174,
           0.6931464342193174,
           0.6931464342193174,
           0.6931464342193174,
           0.6931464342193174,
           0.6931464342193174,
           0.6931464342193174,
           0.6931464342193174,
           0.6931464342193174,
           0.6931464342193174,
           0.36396492180719653,
           0.6931464342193174,
           0.6931464342193174,
           0.6931464342193174,
           0.6931464342193174,
           0.6931464342193174,
           0.6931464342193174,
           0.6931464342193174,
           0.6931464342193174,
           0.6931464342193174,
           0.6931464342193174,
           0.6931464342193174,
           0.6931464342193174,
           0.6931464342193174,
           0.6931464342193174,
           0.5658673341577299,
           0.6931464342193174,
           0.6931464342193174,
           0.5547251671019078,
           0.6931464342193174,
           0.6931464342193174,
           0.6931464342193174,
           0.6931464342193174,
           0.6931464342193174,
           0.6931464342193174,
           0.6931464342193174,
           0.6931464342193174,
           0.6931464342193174,
           0.6931464342193174,
           0.6931464342193174,
           0.6931464342193174,
           0.6931464342193174,
           0.6931464342193174,
           0.6931464342193174,
           0.6931464342193174,
           0.6931464342193174,
           0.6931464342193174,
           0.6931464342193174,
           0.6931464342193174,
           0.6931464342193174,
           0.6931464342193174,
           0.6931464342193174,
           0.6931464342193174,
           0.6931464342193174,
           0.19444265355939425,
           0.6931464342193174,
           0.6931464342193174,
           0.6931464342193174,
           0.6931464342193174,
           0.6931464342193174,
           0.6931464342193174,
           0.6931464342193174,
           0.6931464342193174,
           0.6931464342193174,
           0.6931464342193174,
           0.6931464342193174,
           0.6931464342193174,
           0.6931464342193174,
           0,
           0.6931464342193174,
           0.6931464342193174,
           0.6931464342193174,
           0.22606580373576854,
           0.6931464342193174,
           0.41678242428135853,
           0.6931464342193174,
           0.6931464342193174,
           0.6931464342193174
          ],
          [
           0.6931464194988672,
           0.6931464194988672,
           0.32885756005403316,
           0.6931464194988672,
           0.6931464194988672,
           0.5404697048257973,
           0.6931464194988672,
           0,
           0.6931464194988672,
           0.37247813576906025,
           0.6931464194988672,
           0.4766182912962178,
           0.11679909995330692,
           0.6931464194988672,
           0.6525088053317976,
           0.6931464194988672,
           0.6931464194988672,
           0.6931464194988672,
           0.6931464194988672,
           0.6931464194988672,
           0.6931464194988672,
           0.6931464194988672,
           0.6931464194988672,
           0.13242439685904062,
           0.6931464194988672,
           0.6931464194988672,
           0.5248849877347087,
           0.5759164229450267,
           0.6931464194988672,
           0.6797832019251937,
           0.24934558779169147,
           0.684257478876812,
           0.6931464194988672,
           0.6931464194988672,
           0.6931464194988672,
           0.6931464194988672,
           0.6931464194988672,
           0.6931464194988672,
           0.6931464194988672,
           0.6931464194988672,
           0.6931464194988672,
           0.6931464194988672,
           0.2424251531846557,
           0.6931464194988672,
           0.26304441601100303,
           0.3906055015212685,
           0.6931464194988672,
           0.6931464194988672,
           0.25621845895475825,
           0.6931464194988672,
           0.6931464194988672,
           0.6931464194988672,
           0.6931464194988672,
           0.6931464194988672,
           0.6931464194988672,
           0.6931464194988672,
           0.6931464194988672,
           0.5558152609989779,
           0.6931464194988672,
           0.6931464194988672,
           0.6797832019251937,
           0.6931464194988672,
           0.3095643784610464,
           0.6931464194988672,
           0.6931464194988672,
           0.6931464194988672,
           0.6931464194988672,
           0.03478606404706963,
           0.6931464194988672,
           0.6931464194988672,
           0.684257478876812,
           0.6931464194988672,
           0.6931464194988672,
           0.6931464194988672,
           0.17788671167661588,
           0.6931464194988672,
           0.6931464194988672,
           0.6931464194988672,
           0.6931464194988672,
           0.6931464194988672,
           0.675288815811678,
           0.6931464194988672,
           0.6931464194988672,
           0.6931464194988672,
           0.6931464194988672,
           0.6931464194988672,
           0.565916348210651,
           0.6931464194988672,
           0.24934558779169147,
           0.6931464194988672,
           0.3095643784610464,
           0.6931464194988672,
           0.3602080561251395,
           0.6931464194988672,
           0.5808792080509149,
           0.6797832019251937,
           0.6931464194988672,
           0.6931464194988672
          ]
         ]
        }
       ],
       "layout": {
        "coloraxis": {
         "colorscale": [
          [
           0,
           "rgb(255,255,217)"
          ],
          [
           0.125,
           "rgb(237,248,177)"
          ],
          [
           0.25,
           "rgb(199,233,180)"
          ],
          [
           0.375,
           "rgb(127,205,187)"
          ],
          [
           0.5,
           "rgb(65,182,196)"
          ],
          [
           0.625,
           "rgb(29,145,192)"
          ],
          [
           0.75,
           "rgb(34,94,168)"
          ],
          [
           0.875,
           "rgb(37,52,148)"
          ],
          [
           1,
           "rgb(8,29,88)"
          ]
         ]
        },
        "margin": {
         "t": 60
        },
        "template": {
         "data": {
          "bar": [
           {
            "error_x": {
             "color": "#2a3f5f"
            },
            "error_y": {
             "color": "#2a3f5f"
            },
            "marker": {
             "line": {
              "color": "#E5ECF6",
              "width": 0.5
             },
             "pattern": {
              "fillmode": "overlay",
              "size": 10,
              "solidity": 0.2
             }
            },
            "type": "bar"
           }
          ],
          "barpolar": [
           {
            "marker": {
             "line": {
              "color": "#E5ECF6",
              "width": 0.5
             },
             "pattern": {
              "fillmode": "overlay",
              "size": 10,
              "solidity": 0.2
             }
            },
            "type": "barpolar"
           }
          ],
          "carpet": [
           {
            "aaxis": {
             "endlinecolor": "#2a3f5f",
             "gridcolor": "white",
             "linecolor": "white",
             "minorgridcolor": "white",
             "startlinecolor": "#2a3f5f"
            },
            "baxis": {
             "endlinecolor": "#2a3f5f",
             "gridcolor": "white",
             "linecolor": "white",
             "minorgridcolor": "white",
             "startlinecolor": "#2a3f5f"
            },
            "type": "carpet"
           }
          ],
          "choropleth": [
           {
            "colorbar": {
             "outlinewidth": 0,
             "ticks": ""
            },
            "type": "choropleth"
           }
          ],
          "contour": [
           {
            "colorbar": {
             "outlinewidth": 0,
             "ticks": ""
            },
            "colorscale": [
             [
              0,
              "#0d0887"
             ],
             [
              0.1111111111111111,
              "#46039f"
             ],
             [
              0.2222222222222222,
              "#7201a8"
             ],
             [
              0.3333333333333333,
              "#9c179e"
             ],
             [
              0.4444444444444444,
              "#bd3786"
             ],
             [
              0.5555555555555556,
              "#d8576b"
             ],
             [
              0.6666666666666666,
              "#ed7953"
             ],
             [
              0.7777777777777778,
              "#fb9f3a"
             ],
             [
              0.8888888888888888,
              "#fdca26"
             ],
             [
              1,
              "#f0f921"
             ]
            ],
            "type": "contour"
           }
          ],
          "contourcarpet": [
           {
            "colorbar": {
             "outlinewidth": 0,
             "ticks": ""
            },
            "type": "contourcarpet"
           }
          ],
          "heatmap": [
           {
            "colorbar": {
             "outlinewidth": 0,
             "ticks": ""
            },
            "colorscale": [
             [
              0,
              "#0d0887"
             ],
             [
              0.1111111111111111,
              "#46039f"
             ],
             [
              0.2222222222222222,
              "#7201a8"
             ],
             [
              0.3333333333333333,
              "#9c179e"
             ],
             [
              0.4444444444444444,
              "#bd3786"
             ],
             [
              0.5555555555555556,
              "#d8576b"
             ],
             [
              0.6666666666666666,
              "#ed7953"
             ],
             [
              0.7777777777777778,
              "#fb9f3a"
             ],
             [
              0.8888888888888888,
              "#fdca26"
             ],
             [
              1,
              "#f0f921"
             ]
            ],
            "type": "heatmap"
           }
          ],
          "heatmapgl": [
           {
            "colorbar": {
             "outlinewidth": 0,
             "ticks": ""
            },
            "colorscale": [
             [
              0,
              "#0d0887"
             ],
             [
              0.1111111111111111,
              "#46039f"
             ],
             [
              0.2222222222222222,
              "#7201a8"
             ],
             [
              0.3333333333333333,
              "#9c179e"
             ],
             [
              0.4444444444444444,
              "#bd3786"
             ],
             [
              0.5555555555555556,
              "#d8576b"
             ],
             [
              0.6666666666666666,
              "#ed7953"
             ],
             [
              0.7777777777777778,
              "#fb9f3a"
             ],
             [
              0.8888888888888888,
              "#fdca26"
             ],
             [
              1,
              "#f0f921"
             ]
            ],
            "type": "heatmapgl"
           }
          ],
          "histogram": [
           {
            "marker": {
             "pattern": {
              "fillmode": "overlay",
              "size": 10,
              "solidity": 0.2
             }
            },
            "type": "histogram"
           }
          ],
          "histogram2d": [
           {
            "colorbar": {
             "outlinewidth": 0,
             "ticks": ""
            },
            "colorscale": [
             [
              0,
              "#0d0887"
             ],
             [
              0.1111111111111111,
              "#46039f"
             ],
             [
              0.2222222222222222,
              "#7201a8"
             ],
             [
              0.3333333333333333,
              "#9c179e"
             ],
             [
              0.4444444444444444,
              "#bd3786"
             ],
             [
              0.5555555555555556,
              "#d8576b"
             ],
             [
              0.6666666666666666,
              "#ed7953"
             ],
             [
              0.7777777777777778,
              "#fb9f3a"
             ],
             [
              0.8888888888888888,
              "#fdca26"
             ],
             [
              1,
              "#f0f921"
             ]
            ],
            "type": "histogram2d"
           }
          ],
          "histogram2dcontour": [
           {
            "colorbar": {
             "outlinewidth": 0,
             "ticks": ""
            },
            "colorscale": [
             [
              0,
              "#0d0887"
             ],
             [
              0.1111111111111111,
              "#46039f"
             ],
             [
              0.2222222222222222,
              "#7201a8"
             ],
             [
              0.3333333333333333,
              "#9c179e"
             ],
             [
              0.4444444444444444,
              "#bd3786"
             ],
             [
              0.5555555555555556,
              "#d8576b"
             ],
             [
              0.6666666666666666,
              "#ed7953"
             ],
             [
              0.7777777777777778,
              "#fb9f3a"
             ],
             [
              0.8888888888888888,
              "#fdca26"
             ],
             [
              1,
              "#f0f921"
             ]
            ],
            "type": "histogram2dcontour"
           }
          ],
          "mesh3d": [
           {
            "colorbar": {
             "outlinewidth": 0,
             "ticks": ""
            },
            "type": "mesh3d"
           }
          ],
          "parcoords": [
           {
            "line": {
             "colorbar": {
              "outlinewidth": 0,
              "ticks": ""
             }
            },
            "type": "parcoords"
           }
          ],
          "pie": [
           {
            "automargin": true,
            "type": "pie"
           }
          ],
          "scatter": [
           {
            "fillpattern": {
             "fillmode": "overlay",
             "size": 10,
             "solidity": 0.2
            },
            "type": "scatter"
           }
          ],
          "scatter3d": [
           {
            "line": {
             "colorbar": {
              "outlinewidth": 0,
              "ticks": ""
             }
            },
            "marker": {
             "colorbar": {
              "outlinewidth": 0,
              "ticks": ""
             }
            },
            "type": "scatter3d"
           }
          ],
          "scattercarpet": [
           {
            "marker": {
             "colorbar": {
              "outlinewidth": 0,
              "ticks": ""
             }
            },
            "type": "scattercarpet"
           }
          ],
          "scattergeo": [
           {
            "marker": {
             "colorbar": {
              "outlinewidth": 0,
              "ticks": ""
             }
            },
            "type": "scattergeo"
           }
          ],
          "scattergl": [
           {
            "marker": {
             "colorbar": {
              "outlinewidth": 0,
              "ticks": ""
             }
            },
            "type": "scattergl"
           }
          ],
          "scattermapbox": [
           {
            "marker": {
             "colorbar": {
              "outlinewidth": 0,
              "ticks": ""
             }
            },
            "type": "scattermapbox"
           }
          ],
          "scatterpolar": [
           {
            "marker": {
             "colorbar": {
              "outlinewidth": 0,
              "ticks": ""
             }
            },
            "type": "scatterpolar"
           }
          ],
          "scatterpolargl": [
           {
            "marker": {
             "colorbar": {
              "outlinewidth": 0,
              "ticks": ""
             }
            },
            "type": "scatterpolargl"
           }
          ],
          "scatterternary": [
           {
            "marker": {
             "colorbar": {
              "outlinewidth": 0,
              "ticks": ""
             }
            },
            "type": "scatterternary"
           }
          ],
          "surface": [
           {
            "colorbar": {
             "outlinewidth": 0,
             "ticks": ""
            },
            "colorscale": [
             [
              0,
              "#0d0887"
             ],
             [
              0.1111111111111111,
              "#46039f"
             ],
             [
              0.2222222222222222,
              "#7201a8"
             ],
             [
              0.3333333333333333,
              "#9c179e"
             ],
             [
              0.4444444444444444,
              "#bd3786"
             ],
             [
              0.5555555555555556,
              "#d8576b"
             ],
             [
              0.6666666666666666,
              "#ed7953"
             ],
             [
              0.7777777777777778,
              "#fb9f3a"
             ],
             [
              0.8888888888888888,
              "#fdca26"
             ],
             [
              1,
              "#f0f921"
             ]
            ],
            "type": "surface"
           }
          ],
          "table": [
           {
            "cells": {
             "fill": {
              "color": "#EBF0F8"
             },
             "line": {
              "color": "white"
             }
            },
            "header": {
             "fill": {
              "color": "#C8D4E3"
             },
             "line": {
              "color": "white"
             }
            },
            "type": "table"
           }
          ]
         },
         "layout": {
          "annotationdefaults": {
           "arrowcolor": "#2a3f5f",
           "arrowhead": 0,
           "arrowwidth": 1
          },
          "autotypenumbers": "strict",
          "coloraxis": {
           "colorbar": {
            "outlinewidth": 0,
            "ticks": ""
           }
          },
          "colorscale": {
           "diverging": [
            [
             0,
             "#8e0152"
            ],
            [
             0.1,
             "#c51b7d"
            ],
            [
             0.2,
             "#de77ae"
            ],
            [
             0.3,
             "#f1b6da"
            ],
            [
             0.4,
             "#fde0ef"
            ],
            [
             0.5,
             "#f7f7f7"
            ],
            [
             0.6,
             "#e6f5d0"
            ],
            [
             0.7,
             "#b8e186"
            ],
            [
             0.8,
             "#7fbc41"
            ],
            [
             0.9,
             "#4d9221"
            ],
            [
             1,
             "#276419"
            ]
           ],
           "sequential": [
            [
             0,
             "#0d0887"
            ],
            [
             0.1111111111111111,
             "#46039f"
            ],
            [
             0.2222222222222222,
             "#7201a8"
            ],
            [
             0.3333333333333333,
             "#9c179e"
            ],
            [
             0.4444444444444444,
             "#bd3786"
            ],
            [
             0.5555555555555556,
             "#d8576b"
            ],
            [
             0.6666666666666666,
             "#ed7953"
            ],
            [
             0.7777777777777778,
             "#fb9f3a"
            ],
            [
             0.8888888888888888,
             "#fdca26"
            ],
            [
             1,
             "#f0f921"
            ]
           ],
           "sequentialminus": [
            [
             0,
             "#0d0887"
            ],
            [
             0.1111111111111111,
             "#46039f"
            ],
            [
             0.2222222222222222,
             "#7201a8"
            ],
            [
             0.3333333333333333,
             "#9c179e"
            ],
            [
             0.4444444444444444,
             "#bd3786"
            ],
            [
             0.5555555555555556,
             "#d8576b"
            ],
            [
             0.6666666666666666,
             "#ed7953"
            ],
            [
             0.7777777777777778,
             "#fb9f3a"
            ],
            [
             0.8888888888888888,
             "#fdca26"
            ],
            [
             1,
             "#f0f921"
            ]
           ]
          },
          "colorway": [
           "#636efa",
           "#EF553B",
           "#00cc96",
           "#ab63fa",
           "#FFA15A",
           "#19d3f3",
           "#FF6692",
           "#B6E880",
           "#FF97FF",
           "#FECB52"
          ],
          "font": {
           "color": "#2a3f5f"
          },
          "geo": {
           "bgcolor": "white",
           "lakecolor": "white",
           "landcolor": "#E5ECF6",
           "showlakes": true,
           "showland": true,
           "subunitcolor": "white"
          },
          "hoverlabel": {
           "align": "left"
          },
          "hovermode": "closest",
          "mapbox": {
           "style": "light"
          },
          "paper_bgcolor": "white",
          "plot_bgcolor": "#E5ECF6",
          "polar": {
           "angularaxis": {
            "gridcolor": "white",
            "linecolor": "white",
            "ticks": ""
           },
           "bgcolor": "#E5ECF6",
           "radialaxis": {
            "gridcolor": "white",
            "linecolor": "white",
            "ticks": ""
           }
          },
          "scene": {
           "xaxis": {
            "backgroundcolor": "#E5ECF6",
            "gridcolor": "white",
            "gridwidth": 2,
            "linecolor": "white",
            "showbackground": true,
            "ticks": "",
            "zerolinecolor": "white"
           },
           "yaxis": {
            "backgroundcolor": "#E5ECF6",
            "gridcolor": "white",
            "gridwidth": 2,
            "linecolor": "white",
            "showbackground": true,
            "ticks": "",
            "zerolinecolor": "white"
           },
           "zaxis": {
            "backgroundcolor": "#E5ECF6",
            "gridcolor": "white",
            "gridwidth": 2,
            "linecolor": "white",
            "showbackground": true,
            "ticks": "",
            "zerolinecolor": "white"
           }
          },
          "shapedefaults": {
           "line": {
            "color": "#2a3f5f"
           }
          },
          "ternary": {
           "aaxis": {
            "gridcolor": "white",
            "linecolor": "white",
            "ticks": ""
           },
           "baxis": {
            "gridcolor": "white",
            "linecolor": "white",
            "ticks": ""
           },
           "bgcolor": "#E5ECF6",
           "caxis": {
            "gridcolor": "white",
            "linecolor": "white",
            "ticks": ""
           }
          },
          "title": {
           "x": 0.05
          },
          "xaxis": {
           "automargin": true,
           "gridcolor": "white",
           "linecolor": "white",
           "ticks": "",
           "title": {
            "standoff": 15
           },
           "zerolinecolor": "white",
           "zerolinewidth": 2
          },
          "yaxis": {
           "automargin": true,
           "gridcolor": "white",
           "linecolor": "white",
           "ticks": "",
           "title": {
            "standoff": 15
           },
           "zerolinecolor": "white",
           "zerolinewidth": 2
          }
         }
        },
        "xaxis": {
         "anchor": "y",
         "constrain": "domain",
         "domain": [
          0,
          1
         ],
         "scaleanchor": "y"
        },
        "yaxis": {
         "anchor": "x",
         "autorange": "reversed",
         "constrain": "domain",
         "domain": [
          0,
          1
         ]
        }
       }
      },
      "text/html": [
       "<div>                            <div id=\"ff377bd9-fed9-4acc-8a71-95e0633f34dd\" class=\"plotly-graph-div\" style=\"height:525px; width:100%;\"></div>            <script type=\"text/javascript\">                require([\"plotly\"], function(Plotly) {                    window.PLOTLYENV=window.PLOTLYENV || {};                                    if (document.getElementById(\"ff377bd9-fed9-4acc-8a71-95e0633f34dd\")) {                    Plotly.newPlot(                        \"ff377bd9-fed9-4acc-8a71-95e0633f34dd\",                        [{\"coloraxis\":\"coloraxis\",\"name\":\"0\",\"x\":[\"5633\",\"16415\",\"7714\",\"8250\",\"7739\",\"572\",\"23613\",\"9790\",\"19515\",\"30814\",\"22113\",\"6756\",\"16996\",\"16490\",\"6765\",\"25712\",\"22136\",\"6780\",\"27268\",\"27270\",\"19592\",\"24206\",\"19097\",\"1181\",\"25759\",\"32417\",\"3757\",\"22199\",\"27832\",\"15554\",\"211\",\"26331\",\"17636\",\"29934\",\"14086\",\"9991\",\"27401\",\"6413\",\"5392\",\"4370\",\"9488\",\"14612\",\"25878\",\"1818\",\"16671\",\"1830\",\"18218\",\"26924\",\"3382\",\"19260\",\"8508\",\"12606\",\"20805\",\"23374\",\"850\",\"24925\",\"4448\",\"2914\",\"11618\",\"17761\",\"23906\",\"5991\",\"18285\",\"2930\",\"18803\",\"2931\",\"22906\",\"6013\",\"9600\",\"25474\",\"32643\",\"10633\",\"23436\",\"3476\",\"18840\",\"7578\",\"30618\",\"24993\",\"19363\",\"11173\",\"2992\",\"8633\",\"16313\",\"8125\",\"9662\",\"7106\",\"7114\",\"16340\",\"29144\",\"9178\",\"6108\",\"10720\",\"18400\",\"26594\",\"25056\",\"25576\",\"2539\",\"15356\"],\"y\":[\"location_continent\",\"football_player_position\",\"location_religion\",\"location_language\",\"person_profession\",\"location_country\",\"country_capital\",\"person_language\",\"singular_plural\",\"present_simple_past_simple\",\"antonyms\",\"plural_singular\",\"present_simple_past_perfect\",\"present_simple_gerund\",\"en_it\",\"it_en\",\"en_fr\",\"en_es\",\"fr_en\",\"es_en\",\"algo_last\",\"algo_first\",\"algo_second\"],\"z\":[[0.2783793818012496,0.5822840464686757,0.5776757465467169,0.10905725083284745,0.6931465673917849,0.5303856448331642,0.6931465673917849,0.6931465673917849,0.5637220414434075,0.4549730975709833,0.5914374222131856,0.4177347819510318,0.6228301136422172,0.6931465673917849,0.2073819003684631,0.5959828815063342,0.6931465673917849,0.5108251332314925,0.6931465673917849,0.38467394683593914,0.6931465673917849,0.6931465673917849,0.48582384965397185,0.4549730975709833,0.5914374222131856,0.5543102138605105,0.5543102138605105,0.6828052199709438,0.6931465673917849,0.4444743216845556,0.5303856448331642,0.6446650280372916,0.5448089614618236,0.2721293672764421,0.6931465673917849,0.5008995007711925,0.6931465673917849,0.6931465673917849,0.48582384965397185,0.6931465673917849,0.6744544459488465,0.3210687516996645,0.4756456524561678,0.38467394683593914,0.6094965916027683,0.6931465673917849,0.6931465673917849,0.6931465673917849,0.6005077730538945,0.097925422773292,0.5730461118415768,0.6931465673917849,0.5776757465467169,0.6931465673917849,0.0,0.46536279337808006,0.5108251332314925,0.24673120070088683,0.5008995007711925,0.6931465673917849,0.6931465673917849,0.515751247951814,0.4122999903660963,0.6931465673917849,0.6931465673917849,0.5303856448331642,0.6931465673917849,0.12370951162510274,0.6828052199709438,0.6931465673917849,0.5303856448331642,0.6931465673917849,0.3210687516996645,0.43918330822138174,0.4807477004614488,0.25951091517968655,0.43386415095951664,0.4068355003432693,0.6931465673917849,0.3620101063930124,0.4549730975709833,0.5590272004233966,0.4549730975709833,0.48582384965397185,0.43386415095951664,0.4756456524561678,0.5352165686254846,0.6931465673917849,0.5448089614618236,0.6931465673917849,0.004106776926686495,0.6094965916027683,0.5959828815063342,0.4958994940795075,0.6931465673917849,0.19051811126636506,0.193913696831556,0.6702527617256203],[0.5223146007416342,0.532804202497855,0.5636285465505717,0.6193806636787029,0.5770290760722258,0.4974022922428574,0.6352037719078666,0.0,0.5534589720004224,0.35222035784877087,0.4341842517622848,0.4974022922428574,0.5117137997745482,0.6065394012545403,0.529319880042074,0.5362764265930522,0.6320591165535034,0.5736957411413598,0.6931467835231447,0.6872032319891336,0.5703512579173807,0.5836625966196067,0.42647708849719324,0.5187934720044365,0.5869629281887081,0.4418324686813407,0.4718534698389434,0.5602501664883492,0.6931467835231447,0.44373541785694015,0.5770290760722258,0.6691576367928641,0.6842181563397122,0.4974022922428574,0.5770290760722258,0.5602501664883492,0.5117137997745482,0.48288298798067325,0.5636285465505717,0.6161857741499662,0.6161857741499662,0.5669955515793531,0.5902524033891384,0.6931467835231447,0.3290370354883443,0.6901794234752442,0.532804202497855,0.5836625966196067,0.5152599010962684,0.6225653783871384,0.4494226340880849,0.49379218176516887,0.529319880042074,0.5500460009650665,0.6812241433283001,0.6752090900226652,0.5045836481961901,0.5967990687438998,0.45319622156356604,0.6193806636787029,0.5967990687438998,0.5152599010962684,0.43033809515706134,0.5967990687438998,0.6812241433283001,0.42840945524752333,0.6901794234752442,0.5187934720044365,0.5009994166898375,0.6600112353034797,0.532804202497855,0.5902524033891384,0.4607009434441172,0.6931467835231447,0.5187934720044365,0.6721879409115543,0.5397366360535568,0.508155078854599,0.6782211392769484,0.6193806636787029,0.508155078854599,0.650780404333946,0.5703512579173807,0.5117137997745482,0.5534589720004224,0.46814976373959893,0.5935310934103604,0.6225653783871384,0.5397366360535568,0.4607009434441172,0.5223146007416342,0.4341842517622848,0.532804202497855,0.49379218176516887,0.532804202497855,0.4494226340880849,0.49379218176516887,0.5431849137391277],[0.4978980246569571,0.6102968497316525,0.3670185290927148,0.6839300649275374,0.6715075507931749,0.40851823381786634,0.639758867801168,0.4941736276743904,0.45614625406824627,0.47534069012388114,0.3879836441953659,0.42063958690580394,0.42863962470880523,0.6931467157284652,0.3921244342551783,0.6839300649275374,0.6493897561625541,0.5661470879131,0.6931467157284652,0.4483641182289019,0.6461897549883664,0.6808388738102967,0.5235874964411517,0.573067527117829,0.5867663643448662,0.46770706969751835,0.42063958690580394,0.4715311639131159,0.6931467157284652,0.5343984066236003,0.5696132940633665,0.677738097593502,0.677738097593502,0.27614769487949614,0.6300343227005967,0.47534069012388114,0.25504493385446947,0.4044449109522134,0.49043530768799265,0.6931467157284652,0.6931467157284652,0.44052094544306986,0.6102968497316525,0.6931467157284652,0.4003549282433431,0.579940402815607,0.6931467157284652,0.5126584319608771,0.5163147411319574,0.40851823381786634,0.41257503201191886,0.6300343227005967,0.5626688253757212,0.5765098695076414,0.6102968497316525,0.6931467157284652,0.4791357589032418,0.4978980246569571,0.04777023290249355,0.6931467157284652,0.579940402815607,0.4044449109522134,0.4829164795704788,0.6931467157284652,0.6931467157284652,0.3542251859255183,0.6808388738102967,0.5199577303932068,0.4791357589032418,0.677738097593502,0.3962481488542717,0.6493897561625541,0.40851823381786634,0.626771678683799,0.40851823381786634,0.5016086019606949,0.4044449109522134,0.5163147411319574,0.6931467157284652,0.6931467157284652,0.3962481488542717,0.6931467157284652,0.6620883333719494,0.6808388738102967,0.23831815220012076,0.2188528318106331,0.4483641182289019,0.6931467157284652,0.6589287745989703,0.0,0.4483641182289019,0.5661470879131,0.31706246424172896,0.5901619515934399,0.5661470879131,0.43261577068536017,0.31928715775926314,0.362772240951976],[0.3807720877133568,0.5796227877701244,0.3537434394350051,0.6931465366581282,0.6431361491040829,0.07966730411830447,0.4577330636643552,0.6431361491040829,0.47608218751774894,0.6224100327633558,0.27541166983321747,0.29739055529597475,0.32596390079578175,0.6931465366581282,0.40708937317360727,0.6328267864599638,0.6931465366581282,0.5796227877701244,0.6931465366581282,0.47000314631941165,0.6931465366581282,0.6734414783927664,0.32596390079578175,0.5291919714524193,0.568633674164816,0.4638869242398737,0.20641886818746522,0.6634414016583435,0.6931465366581282,0.29739055529597475,0.4577330636643552,0.6931465366581282,0.6931465366581282,0.26797669864254137,0.47000314631941165,0.5176311578725072,0.43904094602605437,0.5796227877701244,0.43904094602605437,0.6931465366581282,0.6931465366581282,0.668453940165307,0.4821244971544383,0.6931465366581282,0.49410067873472424,0.6931465366581282,0.6931465366581282,0.5904924522090721,0.47608218751774894,0.668453940165307,0.6931465366581282,0.595883297007857,0.568633674164816,0.5904924522090721,0.668453940165307,0.6931465366581282,0.5059351271380368,0.3188967401654311,0.3399501298597354,0.6931465366581282,0.3399501298597354,0.26048603431995243,0.3329814669538926,0.6931465366581282,0.6931465366581282,0.1408216567265951,0.6882565545203189,0.47608218751774894,0.49410067873472424,0.6931465366581282,0.06606166835276926,0.6012452363541787,0.28279176994130456,0.6931465366581282,0.19845070691923175,0.4515410984773916,0.3468705663824758,0.6012452363541787,0.6931465366581282,0.6734414783927664,0.557522456888139,0.6931465366581282,0.6118836270895852,0.557522456888139,0.0,0.02409752091707853,0.4881305164530927,0.6931465366581282,0.6584036109784679,0.5406206586553588,0.6171606805145753,0.6634414016583435,0.10633551990605028,0.5462863919537513,0.3807720877133568,0.4577330636643552,0.17415804031737264,0.29011780294879863],[0.4814506095094842,0.465056810573909,0.4814506095094842,0.6367619612311227,0.5081901532472637,0.4371220521280834,0.682121185730514,0.3104469999565934,0.5495396872017757,0.18742528730879782,0.5646153404402726,0.313657273092821,0.5545901999014068,0.6459998970529822,0.2777643783778772,0.6085248071302172,0.6931466498586134,0.4371220521280834,0.6931466498586134,0.6931466498586134,0.3513975723482444,0.22314333903371084,0.25762948632108007,0.48685602454094135,0.5081901532472637,0.28768180710115016,0.4595319383353808,0.44277178080793805,0.6931466498586134,0.3544792365874586,0.5989324130056722,0.6132867181466828,0.6931466498586134,0.4371220521280834,0.5495396872017757,0.5495396872017757,0.24740794067767544,0.22664596661595454,0.47055132623858414,0.6274378896158085,0.5342332753688356,0.3697466974362041,0.523897272501629,0.6865459693418406,0.10008335747103625,0.682121185730514,0.523897272501629,0.5843690573722821,0.502899139000233,0.5695904720853944,0.3817950271699499,0.5989324130056722,0.5393614885536192,0.5342332753688356,0.6227430479786332,0.6321107926730357,0.502899139000233,0.5941014885598913,0.4199787869955698,0.5695904720853944,0.4314402225669313,0.523897272501629,0.3039953697115736,0.6931466498586134,0.6931466498586134,0.39959963901727347,0.6931466498586134,0.4814506095094842,0.42285648481914523,0.6413915965364023,0.3877651898436539,0.502899139000233,0.2777643783778772,0.6931466498586134,0.41129567050413685,0.48685602454094135,0.44277178080793805,0.4371220521280834,0.682121185730514,0.6132867181466828,0.39369992110170765,0.6931466498586134,0.5393614885536192,0.29750184550311587,0.4199787869955698,0.2542339001102084,0.44838976929317154,0.6931466498586134,0.402536496603298,0.22314333903371084,0.3877651898436539,0.0,0.45397637222537296,0.5134533199397167,0.4922323780797846,0.3200470662512071,0.313657273092821,0.5393614885536192],[0.625159280913674,0.5467902662342258,0.4558185542810388,0.4735181180136996,0.6931465796215198,0.335800977978801,0.6931465796215198,0.6931465796215198,0.5893498516675341,0.664573224595974,0.16416059146494547,0.1317691292512988,0.4735181180136996,0.6931465796215198,0.1561605569899917,0.6931465796215198,0.6931465796215198,0.594544665090409,0.6931465796215198,0.21843742443685424,0.6931465796215198,0.6931465796215198,0.674188677378123,0.5023385352839227,0.5080042687107177,0.5576011748583156,0.5303515514212043,0.6931465796215198,0.6931465796215198,0.4793490339725308,0.5841279111767816,0.6884406914187233,0.2734971498679088,0.32568285654941626,0.6931465796215198,0.44984839185683534,0.6931465796215198,0.6931465796215198,0.4194509383288368,0.6931465796215198,0.6931465796215198,0.36880724655542313,0.5682964566540895,0.4194509383288368,0.664573224595974,0.6931465796215198,0.6931465796215198,0.6931465796215198,0.5629631143196391,0.6931465796215198,0.6099691252648366,0.22969456814764388,0.5629631143196391,0.625159280913674,0.40075882022466214,0.664573224595974,0.48514614735520645,0.39444965612652905,0.46175328529254445,0.6931465796215198,0.669392508059052,0.467653002964463,0.5303515514212043,0.6931465796215198,0.26632866696688534,0.5136380823662584,0.6931465796215198,0.08544510752733994,0.6931465796215198,0.6931465796215198,0.5576011748583156,0.6931465796215198,0.5788785588177778,0.36880724655542313,0.4558185542810388,0.5413406652680364,0.46175328529254445,0.6597306031219194,0.6931465796215198,0.0,0.2518356731075659,0.6931465796215198,0.5413406652680364,0.6931465796215198,0.1561605569899917,0.48514614735520645,0.6931465796215198,0.6931465796215198,0.625159280913674,0.6931465796215198,0.40075882022466214,0.5788785588177778,0.36880724655542313,0.6150581914572785,0.4909098478197505,0.31888011515018494,0.36229257096670076,0.5736015052813985],[0.6931467814471022,0.6243123040671557,0.49518253495605974,0.48431286803594553,0.6931467814471022,0.5681315003770634,0.6931467814471022,0.6051270716277103,0.5904926705343608,0.6547239916782841,0.371639764187239,0.5929466584119564,0.6171609059780946,0.6931467814471022,0.3958101119697765,0.6931467814471022,0.6931467814471022,0.6931467814471022,0.6931467814471022,0.684238040129473,0.6931467814471022,0.6931467814471022,0.6931467814471022,0.45379733934896227,0.5478262434934686,0.6570254877131234,0.636118811635914,0.6931467814471022,0.6931467814471022,0.6501050477421115,0.6051270716277103,0.6707243264414495,0.45661027930130155,0.5706409108490027,0.6931467814471022,0.49518253495605974,0.6931467814471022,0.6931467814471022,0.6477875505684927,0.6931467814471022,0.6931467814471022,0.6931467814471022,0.45379733934896227,0.6931467814471022,0.6931467814471022,0.6931467814471022,0.6931467814471022,0.6931467814471022,0.5323220641690385,0.6931467814471022,0.6931467814471022,0.5781315792115364,0.684238040129473,0.6931467814471022,0.6931467814471022,0.6931467814471022,0.6931467814471022,0.5297145019858474,0.6931467814471022,0.6931467814471022,0.6931467814471022,0.43675148079302795,0.6027028290740563,0.6931467814471022,0.3868145539164377,0.6931467814471022,0.6931467814471022,0.33425225308546275,0.6931467814471022,0.6931467814471022,0.6593216990244074,0.6931467814471022,0.6931467814471022,0.6931467814471022,0.5904926705343608,0.6931467814471022,0.6931467814471022,0.64313638133977,0.6931467814471022,0.0,0.5929466584119564,0.6931467814471022,0.6931467814471022,0.6931467814471022,0.5529413418054522,0.6290516474095239,0.6931467814471022,0.6931467814471022,0.516573714641372,0.6931467814471022,0.6887023314644641,0.6931467814471022,0.534922844651564,0.6931467814471022,0.5401042009773741,0.6931467814471022,0.6931467814471022,0.6887023314644641],[0.3168572066452468,0.5545900953455012,0.23708078328263862,0.693146527051814,0.5290785270841947,0.27776431881047786,0.48145051565714647,0.476015724072211,0.4650567192300224,0.5545900953455012,0.14280822928584008,0.20900879386027355,0.32322664888580116,0.693146527051814,0.3168572066452468,0.5028990419274961,0.693146527051814,0.33584510098255677,0.693146527051814,0.4083843799990967,0.5393613861622825,0.4650567192300224,0.37277233970764184,0.4427716929405527,0.5290785270841947,0.4483896805420537,0.4141983448279722,0.693146527051814,0.693146527051814,0.38478448540577914,0.3966540504649806,0.693146527051814,0.693146527051814,0.08004260713385175,0.5646152344773072,0.48685592987048343,0.1389987051938996,0.40253641521229777,0.4595318478461743,0.693146527051814,0.6367618455476916,0.5393613861622825,0.5134532213074956,0.6776766154680082,0.5444634341675634,0.693146527051814,0.693146527051814,0.5989323023315991,0.3168572066452468,0.5444634341675634,0.6367618455476916,0.4371219651544446,0.4483896805420537,0.603740000455713,0.4483896805420537,0.603740000455713,0.3907368786538372,0.2643862061980691,0.10798850427506433,0.5290785270841947,0.603740000455713,0.2231432899110084,0.3787964489038078,0.6821210642852098,0.693146527051814,0.19467164602790368,0.693146527051814,0.3483063098517196,0.3295557779687997,0.6274377751495221,0.10798850427506433,0.36671172056890716,0.16536555143678652,0.6413914802528315,0.1727729845389621,0.27776431881047786,0.32322664888580116,0.5794669816579286,0.693146527051814,0.6367618455476916,0.4427716929405527,0.6865458473483318,0.5444634341675634,0.3907368786538372,0.004376368892306063,0.03871446254717649,0.5238971723423281,0.693146527051814,0.6732123253088828,0.21610101467508633,0.3966540504649806,0.5134532213074956,0.025975452890033578,0.4371219651544446,0.3606141462406925,0.30399530532744445,0.0,0.07191249089938734],[0.6931464229850487,0.3694710374297624,0.5978363189382393,0.6931464229850487,0.6931464229850487,0.20479413206278493,0.6931464229850487,0.48783552062305,0.43040352652623876,0.5108250177061192,0.6931464229850487,0.5465430684103002,0.5552767407512965,0.6931464229850487,0.6701569223783772,0.6931464229850487,0.6623747879925191,0.6931464229850487,0.32668380800026037,0.6931464229850487,0.6623747879925191,0.6931464229850487,0.6931464229850487,0.4402075170109502,0.6545316166830631,0.05167193424183925,0.21094799006313636,0.6931464229850487,0.6931464229850487,0.5978363189382393,0.6061351148658877,0.6931464229850487,0.4105023920123747,0.6931464229850487,0.17979286111221235,0.07302502831423502,0.6931464229850487,0.6931464229850487,0.6143656072282588,0.6931464229850487,0.6931464229850487,0.0,0.6061351148658877,0.6931464229850487,0.5810292147461399,0.07302502831423502,0.6931464229850487,0.6225289112034242,0.27625301090241766,0.6931464229850487,0.6931464229850487,0.6931464229850487,0.405464603058297,0.6931464229850487,0.6931464229850487,0.6931464229850487,0.1861020223443374,0.6931464229850487,0.44991632171173895,0.6931464229850487,0.43040352652623876,0.4924758958729242,0.3798877874370405,0.19237162749630748,0.6931464229850487,0.6931464229850487,0.25299617578341965,0.6778789625092628,0.6931464229850487,0.6931464229850487,0.25299617578341965,0.6931464229850487,0.6931464229850487,0.6931464229850487,0.310154524263966,0.6931464229850487,0.6701569223783772,0.6931464229850487,0.6931464229850487,0.6931464229850487,0.5725185323214527,0.5062692053213548,0.6778789625092628,0.6931464229850487,0.6931464229850487,0.5016925424831227,0.6931464229850487,0.6931464229850487,0.38505575225389366,0.6931464229850487,0.6931464229850487,0.6931464229850487,0.38505575225389366,0.6931464229850487,0.23519157228409016,0.6931464229850487,0.6931464229850487,0.6931464229850487],[0.6931465998151096,0.6931465998151096,0.6931465998151096,0.6931465998151096,0.6931465998151096,0.41371218401502363,0.6931465998151096,0.6931465998151096,0.6931465998151096,0.43805413821581873,0.27753734188961265,0.3887628843683352,0.4657238671809211,0.6931465998151096,0.5763336623851706,0.6931465998151096,0.6931465998151096,0.6931465998151096,0.6931465998151096,0.6931465998151096,0.6931465998151096,0.6931465998151096,0.5039694188197367,0.44603820660381316,0.6931465998151096,0.6931465998151096,0.49643643181796143,0.6931465998151096,0.6931465998151096,0.6931465998151096,0.6931465998151096,0.6273651099247485,0.6931465998151096,0.6931465998151096,0.6339767001698666,0.6727537482166046,0.6931465998151096,0.6931465998151096,0.6931465998151096,0.6931465998151096,0.6599944120738832,0.6931465998151096,0.6273651099247485,0.6931465998151096,0.6790728808344791,0.3457455338942176,0.4657238671809211,0.6931465998151096,0.6931465998151096,0.6931465998151096,0.6931465998151096,0.6931465998151096,0.6931465998151096,0.6931465998151096,0.6931465998151096,0.6931465998151096,0.6405448642482839,0.6931465998151096,0.6853523326324613,0.6931465998151096,0.47349089087800583,0.6931465998151096,0.5444160805856643,0.3717773514906907,0.6931465998151096,0.4178105472663383,0.6931465998151096,0.6931465998151096,0.6931465998151096,0.6931465998151096,0.5225573016653954,0.6931465998151096,0.6931465998151096,0.6931465998151096,0.5798179841975045,0.6931465998151096,0.6931465998151096,0.6931465998151096,0.6931465998151096,0.6931465998151096,0.6931465998151096,0.6663944300895538,0.6931465998151096,0.6931465998151096,0.6931465998151096,0.6931465998151096,0.6931465998151096,0.6931465998151096,0.6931465998151096,0.6931465998151096,0.6931465998151096,0.6931465998151096,0.5480132043468605,0.6931465998151096,0.6931465998151096,0.6931465998151096,0.6931465998151096,0.0],[0.6194846517279479,0.4681900778578489,0.6380323157697507,0.6931467602703553,0.631887905934568,0.37903158585731195,0.6931467602703553,0.6931467602703553,0.5748201514085803,0.6829500265573479,0.5845604835713465,0.5314800562547366,0.5715521761925173,0.6931467602703553,0.43497671064503635,0.631887905934568,0.3447194609542422,0.6931467602703553,0.6931467602703553,0.6931467602703553,0.6931467602703553,0.6931467602703553,0.19908826490753212,0.4387220313412178,0.6100801979747841,0.6931467602703553,0.5910017266661948,0.5038444599260754,0.6931467602703553,0.49328098680992893,0.48617616484589254,0.5382712504890006,0.6931467602703553,0.6931467602703553,0.6931467602703553,0.5246424261667533,0.6931467602703553,0.6931467602703553,0.6931467602703553,0.6931467602703553,0.5813242363107682,0.6931467602703553,0.5942068561255772,0.6931467602703553,0.5974017455420334,0.6931467602703553,0.6931467602703553,0.6931467602703553,0.5314800562547366,0.6931467602703553,0.6931467602703553,0.6931467602703553,0.4718132683237773,0.6931467602703553,0.6931467602703553,0.6931467602703553,0.48617616484589254,0.6931467602703553,0.0,0.6931467602703553,0.6916964343027083,0.6931467602703553,0.3569645046670946,0.6931467602703553,0.6931467602703553,0.6652243115516319,0.6931467602703553,0.42365584121512423,0.6592452230874213,0.6931467602703553,0.6931467602703553,0.6931467602703553,0.6502090209700716,0.6887894567367256,0.3928249001075039,0.6931467602703553,0.48617616484589254,0.5108252875343329,0.6931467602703553,0.6931467602703553,0.6132248532203698,0.6931467602703553,0.48617616484589254,0.6887894567367256,0.6931467602703553,0.6931467602703553,0.6931467602703553,0.6931467602703553,0.6194846517279479,0.6931467602703553,0.631887905934568,0.33232261540546576,0.3447194609542422,0.5845604835713465,0.6532301699807818,0.29633991961534345,0.6931467602703553,0.6931467602703553],[0.6931465194310328,0.5134793743447734,0.6931465194310328,0.6931465194310328,0.6931465194310328,0.49339839433745775,0.6931465194310328,0.5788872486560146,0.31148259585845767,0.509495308488589,0.6931465194310328,0.6931465194310328,0.4519846429220733,0.6931465194310328,0.6931465194310328,0.6931465194310328,0.6931465194310328,0.6931465194310328,0.46040573826240677,0.6931465194310328,0.6931465194310328,0.6931465194310328,0.6931465194310328,0.3999121871489776,0.6931465194310328,0.4852517163733336,0.20368613562359367,0.6713152723657826,0.6931465194310328,0.6931465194310328,0.16500732359441014,0.6931465194310328,0.47290589066165856,0.6931465194310328,0.6931465194310328,0.5014792398939992,0.6931465194310328,0.6931465194310328,0.6931465194310328,0.6931465194310328,0.6931465194310328,0.6009875794565928,0.27682569619844183,0.6931465194310328,0.6931465194310328,0.330760282795217,0.6931465194310328,0.6931465194310328,0.5788872486560146,0.6931465194310328,0.6931465194310328,0.6931465194310328,0.5054953063392532,0.6931465194310328,0.6931465194310328,0.6931465194310328,0.6931465194310328,0.6931465194310328,0.6931465194310328,0.6931465194310328,0.3999121871489776,0.6931465194310328,0.44774735201953864,0.0,0.6931465194310328,0.6931465194310328,0.2356888327384402,0.6931465194310328,0.6931465194310328,0.6931465194310328,0.35434625965937655,0.6931465194310328,0.6931465194310328,0.6931465194310328,0.27682569619844183,0.6931465194310328,0.6931465194310328,0.6931465194310328,0.6931465194310328,0.6931465194310328,0.5214002015935992,0.6713152723657826,0.6931465194310328,0.6931465194310328,0.6931465194310328,0.6931465194310328,0.6931465194310328,0.6931465194310328,0.18176747381821015,0.6931465194310328,0.6931465194310328,0.6367695465917078,0.4131867066687048,0.6931465194310328,0.25646877974703186,0.6931465194310328,0.6931465194310328,0.6931465194310328],[0.6931460920661473,0.6931460920661473,0.6931460920661473,0.6931460920661473,0.6931460920661473,0.35401589723248494,0.6931460920661473,0.6931460920661473,0.6931460920661473,0.5143583209449756,0.13242431563547669,0.4025101748421944,0.6887114998360344,0.6931460920661473,0.6931460920661473,0.6931460920661473,0.6931460920661473,0.6931460920661473,0.6931460920661473,0.6931460920661473,0.6931460920661473,0.6931460920661473,0.35401589723248494,0.3415157536877246,0.6931460920661473,0.6525084914792486,0.43739738393569033,0.6931460920661473,0.6931460920661473,0.6931460920661473,0.6931460920661473,0.4025101748421944,0.6931460920661473,0.6931460920661473,0.6931460920661473,0.6525084914792486,0.6931460920661473,0.6931460920661473,0.6931460920661473,0.6931460920661473,0.6931460920661473,0.6931460920661473,0.5143583209449756,0.6931460920661473,0.6931460920661473,0.5353014678143507,0.32885737652494,0.6931460920661473,0.6931460920661473,0.6931460920661473,0.6931460920661473,0.6931460920661473,0.6931460920661473,0.6931460920661473,0.6931460920661473,0.6931460920661473,0.5143583209449756,0.6931460920661473,0.5659160652035116,0.6931460920661473,0.43739738393569033,0.6931460920661473,0.48209750140169116,0.4487611267022505,0.6931460920661473,0.6931460920661473,0.6931460920661473,0.6931460920661473,0.6931460920661473,0.6931460920661473,0.47110839467980287,0.6931460920661473,0.6931460920661473,0.6931460920661473,0.6525084914792486,0.6931460920661473,0.6931460920661473,0.6931460920661473,0.6931460920661473,0.6931460920661473,0.6931460920661473,0.6931460920661473,0.6931460920661473,0.6931460920661473,0.6931460920661473,0.6931460920661473,0.6931460920661473,0.6931460920661473,0.6931460920661473,0.6931460920661473,0.6931460920661473,0.6931460920661473,0.45999718444036525,0.6931460920661473,0.6931460920661473,0.6931460920661473,0.6931460920661473,0.0],[0.6931466013525277,0.45692298051052,0.4877896061949441,0.591629138861801,0.6931466013525277,0.45063365623097973,0.6604393026342844,0.5525180343159348,0.49385022650907817,0.511814768897763,0.5236143076839147,0.6553110893443064,0.5410565984818415,0.6931466013525277,0.5694675814252337,0.6931466013525277,0.6931466013525277,0.6931466013525277,0.6706175014896343,0.6931466013525277,0.591629138861801,0.6931466013525277,0.5806097507157414,0.45063365623097973,0.5294622735650752,0.4218316868971702,0.27898067898798456,0.45692298051052,0.6931466013525277,0.0,0.6806931475394815,0.6706175014896343,0.6025284223702921,0.591629138861801,0.6025284223702921,0.48169203067695215,0.6931466013525277,0.6931466013525277,0.6553110893443064,0.6931466013525277,0.6931466013525277,0.5177319418293233,0.6806931475394815,0.6931466013525277,0.4443045258661247,0.22116116026604538,0.5750541844822761,0.5236143076839147,0.591629138861801,0.6931466013525277,0.6931466013525277,0.6292679666801083,0.5058623745159098,0.6931466013525277,0.6931466013525277,0.6931466013525277,0.1806698372819923,0.6604393026342844,0.6079338375186236,0.6931466013525277,0.6655413514725559,0.45063365623097973,0.45692298051052,0.38209138904791307,0.6931466013525277,0.6501564418643864,0.6931466013525277,0.5525180343159348,0.6931466013525277,0.6931466013525277,0.39551439883952133,0.6931466013525277,0.6931466013525277,0.6931466013525277,0.4218316868971702,0.6931466013525277,0.5294622735650752,0.6931466013525277,0.6931466013525277,0.6931466013525277,0.6553110893443064,0.5177319418293233,0.6079338375186236,0.6931466013525277,0.6931466013525277,0.3888254159236201,0.4631729962853373,0.6931466013525277,0.6449750862634319,0.6931466013525277,0.6806931475394815,0.6449750862634319,0.37531170744035686,0.49987433686652416,0.4631729962853373,0.6931466013525277,0.591629138861801,0.29385082853158734],[0.4491689081875368,0.11663671078178832,0.0,0.3080904793851627,0.4020221837545136,0.1702208755438603,0.152676592056821,0.2694756939612058,0.16148720854228707,0.21278042836854247,0.2773188609645685,0.2455702054926723,0.30048588983106644,0.50669268980536,0.2615705250777503,0.2210792194752651,0.5004621466540958,0.5251547333298604,0.4878833778965884,0.3669309058151146,0.28510099111109444,0.46871348261367207,0.3080904793851627,0.14378765807191876,0.3080904793851627,0.01025648228377824,0.14378765807191876,0.3305633066177291,0.29282302706786834,0.20441219060277085,0.3811155237044761,0.3231283375276563,0.12576918016660077,0.2455702054926723,0.2615705250777503,0.13481900176352618,0.49419254032288323,0.4157210121614859,0.1702208755438603,0.578579846077089,0.46871348261367207,0.35976242507236,0.3080904793851627,0.6827835263648897,0.14378765807191876,0.040409468928993095,0.5492522602283422,0.0981176921665241,0.18746265670898682,0.3811155237044761,0.337943404656104,0.21278042836854247,0.19597333406342637,0.31563767533725884,0.5004621466540958,0.3669309058151146,0.21278042836854247,0.2374730064061168,0.3881330879912227,0.5551869897605607,0.30048588983106644,0.01025648228377824,0.1702208755438603,0.22930970709574194,0.6931463042724373,0.3305633066177291,0.14378765807191876,0.18746265670898682,0.22930970709574194,0.5372760813732377,0.06001790763454395,0.43592369634978023,0.11663671078178832,0.4491689081875368,0.1702208755438603,0.3740483649720336,0.2455702054926723,0.337943404656104,0.2773188609645685,0.18746265670898682,0.2536023662222096,0.35254218596133713,0.3231283375276563,0.3452694356241007,0.0981176921665241,0.22930970709574194,0.03045915490747971,0.337943404656104,0.2694756939612058,0.30048588983106644,0.2694756939612058,0.3305633066177291,0.2210792194752651,0.0981176921665241,0.13481900176352618,0.31563767533725884,0.18746265670898682,0.2694756939612058],[0.33838742580565095,0.33838742580565095,0.25874346984328334,0.6931462745209082,0.2378003256056963,0.03947874082885912,0.6931462745209082,0.3851248446680989,0.08980373922275406,0.18343919619515137,0.2378003256056963,0.18343919619515137,0.0,0.683028153569284,0.08980373922275406,0.42100308888365384,0.5373164859570408,0.6272646315384787,0.5294424378962725,0.6128239614599169,0.5451290174539714,0.5451290174539714,0.052299407067698034,0.19455040495306605,0.39421580521210925,0.14934503716584838,0.08980373922275406,0.3573453152899012,0.6931462745209082,0.2378003256056963,0.14934503716584838,0.4725165636136313,0.6762254124939949,0.20553951022581432,0.37595047975496254,0.1377170174244276,0.6931462745209082,0.6931462745209082,0.5294424378962725,0.6931462745209082,0.4121534841793459,0.27925698127107074,0.013333506868441689,0.6931462745209082,0.10199899223852398,0.6931462745209082,0.5215058968040623,0.39421580521210925,0.29935813331740146,0.683028153569284,0.6931462745209082,0.5757827268292736,0.216409166512365,0.6485420096122685,0.6931462745209082,0.6931462745209082,0.25874346984328334,0.4808499357976234,0.4891144364266881,0.6931462745209082,0.5605733237805628,0.3190631781863572,0.14934503716584838,0.4470914943389582,0.6931462745209082,0.27925698127107074,0.6931462745209082,0.33838742580565095,0.4470914943389582,0.6931462745209082,0.28935806348313736,0.6931462745209082,0.4297750645684916,0.3573453152899012,0.03947874082885912,0.5215058968040623,0.24832672363384192,0.4556385450553149,0.6931462745209082,0.6931462745209082,0.10199899223852398,0.5981716991648136,0.3851248446680989,0.5294424378962725,0.6200703628917511,0.3190631781863572,0.513505862777115,0.6931462745209082,0.08980373922275406,0.2690528251538186,0.43847076132792506,0.36669116591647344,0.10199899223852398,0.18343919619515137,0.14934503716584838,0.34791129507174656,0.37595047975496254,0.5605733237805628],[0.41362799391769983,0.28665664447697964,0.09754303775688439,0.36929944439766893,0.3405618599030456,0.2554041308629565,0.16231380257036723,0.3405618599030456,0.26173325978572315,0.24262441671080343,0.29279162728585584,0.31097392950816444,0.26802258264125733,0.5311097781890479,0.3521561824000746,0.3579033196020976,0.506718343271033,0.4297573625793017,0.5502034230594954,0.4456306988852086,0.42440976062803787,0.5017678418608293,0.3749491720560991,0.2804837911998527,0.4190334080141624,0.10863371190458827,0.22314330049482067,0.3347138952530417,0.3405618599030456,0.31097392950816444,0.40819320245091256,0.36929944439766893,0.09008032507623236,0.20994180196887854,0.2742725970098133,0.13404339920418165,0.3347138952530417,0.5407021708413573,0.17615483932655523,0.6053897997863167,0.4867675720769737,0.3861537614648274,0.2988892014653486,0.6931465535113547,0.20994180196887854,0.22967926493859525,0.5359174762207056,0.18980691423664117,0.31097392950816444,0.4190334080141624,0.32883153064413395,0.31097392950816444,0.2554041308629565,0.24262441671080343,0.5873306307228766,0.41362799391769983,0.17615483932655523,0.34637582459671196,0.4508663087451643,0.506718343271033,0.36929944439766893,0.0,0.1692582675446248,0.32883153064413395,0.5689393206895178,0.42440976062803787,0.3229143589730427,0.26802258264125733,0.3049498204571585,0.5549204095333814,0.23617278779774115,0.42440976062803787,0.22314330049482067,0.4612560043363675,0.1692582675446248,0.36361761586958136,0.3579033196020976,0.46641065085975136,0.3521561824000746,0.22967926493859525,0.40272871254752834,0.41362799391769983,0.3861537614648274,0.47153886320297894,0.10125361294028978,0.20327511741075782,0.18980691423664117,0.4297573625793017,0.3347138952530417,0.41362799391769983,0.39170932658717483,0.3579033196020976,0.22967926493859525,0.2988892014653486,0.316961965866709,0.3049498204571585,0.15532077456150853,0.3049498204571585],[0.48215715922975727,0.2488957193035736,0.0,0.330241268053178,0.36101289428625366,0.24038503955887525,0.18774136936744026,0.2740016116491387,0.22314325348852196,0.2100139777908207,0.2488957193035736,0.29849260426476987,0.16955907293072148,0.44105552212304,0.37605075616008204,0.29849260426476987,0.45494462106934774,0.4269707958305356,0.47542313326099594,0.3685600921180447,0.41985333500188765,0.47542313326099594,0.4054646117319688,0.18774136936744026,0.3144929280741079,0.0982700820562594,0.16496136947416176,0.37605075616008204,0.3380234001982458,0.30652476712333415,0.3380234001982458,0.26570281826969466,0.24038503955887525,0.26570281826969466,0.26570281826969466,0.0933318070976167,0.5280668192759133,0.5020913559832932,0.22314325348852196,0.6543604404064627,0.44802418478607065,0.36101289428625366,0.3223980990198006,0.6822173736453984,0.15570205580714377,0.04775436185468531,0.43403795621116137,0.10318409024225755,0.20559896492261978,0.3144929280741079,0.2903954030145691,0.2822321015050793,0.1510400486565519,0.36101289428625366,0.5596151497374116,0.36101289428625366,0.2100139777908207,0.30652476712333415,0.39086582691011945,0.5658071147326725,0.2573345781930045,0.13692218531511072,0.16496136947416176,0.22314325348852196,0.6931464359955596,0.3685600921180447,0.22314325348852196,0.17869154506781973,0.3380234001982458,0.5719609751188401,0.03208826752639782,0.44105552212304,0.17869154506781973,0.3981918596492585,0.12260215026983096,0.44802418478607065,0.3223980990198006,0.45494462106934774,0.4054646117319688,0.18322669459767715,0.3457454381228146,0.3457454381228146,0.330241268053178,0.41268485256335047,0.2573345781930045,0.3380234001982458,0.20559896492261978,0.5344566117810258,0.2740016116491387,0.43403795621116137,0.330241268053178,0.330241268053178,0.1416503203856958,0.2318013059617836,0.13692218531511072,0.36101289428625366,0.19223575342060378,0.2822321015050793],[0.4191769120719793,0.37135908079299534,0.39555378732949903,0.501312539656594,0.35903860784026204,0.1882210494864541,0.6226733040854073,0.46481216754989935,0.29944656798173386,0.1882210494864541,0.29944656798173386,0.11184815862583738,0.2028198328519269,0.2360770188957744,0.18330704014137436,0.4191769120719793,0.6290024346104947,0.5155476440292055,0.6782431164586064,0.6415417749793264,0.5969484315429923,0.5365274179187609,0.18330704014137436,0.09584783656594077,0.42692888208574387,0.38755375189453195,0.21243528110365342,0.09584783656594077,0.6931465119215627,0.3835296052546037,0.2407390270896152,0.3548978190492656,0.6931465119215627,0.41136437923225755,0.5434239916032074,0.35903860784026204,0.6931465119215627,0.6931465119215627,0.5904124653904579,0.6931465119215627,0.1734059802362673,0.4573494526415531,0.06859822768354497,0.6931465119215627,0.2360770188957744,0.6931465119215627,0.21243528110365342,0.3995299321361322,0.37135908079299534,0.6901835487749964,0.6931465119215627,0.3631623211809825,0.4422548392926988,0.6722190059560003,0.6931465119215627,0.6931465119215627,0.29944656798173386,0.2682636719413785,0.6931465119215627,0.6931465119215627,0.5904124653904579,0.501312539656594,0.19311102937653915,0.37135908079299534,0.6931465119215627,0.5155476440292055,0.5570760702409354,0.3381610425208885,0.5638328475448853,0.6931465119215627,0.1882210494864541,0.6901835487749964,0.5084554214035991,0.3995299321361322,0.13279130768837016,0.5225899210505065,0.3465644453374722,0.6782431164586064,0.6931465119215627,0.6931465119215627,0.0,0.4722196026274069,0.41136437923225755,0.5705442770429577,0.6931465119215627,0.41136437923225755,0.3381610425208885,0.6931465119215627,0.2906359470715001,0.2637285214242754,0.5155476440292055,0.3507398128079288,0.14310066533714835,0.3125186366760076,0.32542202896891503,0.5638328475448853,0.29944656798173386,0.5155476440292055],[0.5185302230631511,0.410974391547833,0.2695628487790407,0.5316022960864221,0.39992456350125016,0.1951303192052665,0.4434096439201293,0.42552009197114754,0.20418014653518363,0.27796625251365326,0.20418014653518363,0.12451281851009756,0.2904404163650349,0.5250876193093474,0.09480769351152214,0.6931466280742153,0.5698234845559859,0.5380748064026832,0.5412954190282532,0.547705693279994,0.6931466280742153,0.6931466280742153,0.3348921430034509,0.28214162043738644,0.3621842640084101,0.24392044008469352,0.14861034686037658,0.09982023030994563,0.6931466280742153,0.41827368870144316,0.14861034686037658,0.2695628487790407,0.6931466280742153,0.5086127929628912,0.3189555634396455,0.3229635816243355,0.6931466280742153,0.6931466280742153,0.43985724483967364,0.6931466280742153,0.39621398685839565,0.34668008949166623,0.0,0.6931466280742153,0.22203774799005563,0.665133607542163,0.28214162043738644,0.30683421270257144,0.25254117569683987,0.6931466280742153,0.6931466280742153,0.410974391547833,0.46446303834255837,0.6421441025309872,0.6931466280742153,0.6931466280742153,0.22203774799005563,0.3189555634396455,0.5380748064026832,0.6931466280742153,0.41827368870144316,0.44694946811917774,0.2945641301478863,0.17678119737207132,0.6931466280742153,0.5508954866131347,0.4918619937619169,0.35057872686744285,0.547705693279994,0.6931466280742153,0.25254117569683987,0.6931466280742153,0.6537049182493619,0.46792924391612417,0.24392044008469352,0.5152353293375669,0.3774517244841958,0.5945160819024644,0.6931466280742153,0.6820354088221712,0.08976990455744434,0.4362921812171178,0.43271436242939587,0.6363131856201648,0.6066374350883547,0.534843787909136,0.3774517244841958,0.6931466280742153,0.23522474067871263,0.2945641301478863,0.41827368870144316,0.39992456350125016,0.2695628487790407,0.28214162043738644,0.21760315485532308,0.5822459968384984,0.3348921430034509,0.5604042685543171],[0.6931467881285016,0.6931467881285016,0.6931467881285016,0.6931467881285016,0.6204932345567072,0.31020143594547506,0.6931467881285016,0.4246672773435655,0.6931467881285016,0.5157187112048154,0.6931467881285016,0.6931467881285016,0.48167288602432845,0.6931467881285016,0.6931467881285016,0.6931467881285016,0.25744661943996183,0.6931467881285016,0.013226774929016024,0.6931467881285016,0.6931467881285016,0.6931467881285016,0.6931467881285016,0.48513010473485324,0.6931467881285016,0.6931467881285016,0.3583551448664629,0.6931467881285016,0.6931467881285016,0.6931467881285016,0.6761852574671385,0.6931467881285016,0.505626115571123,0.6931467881285016,0.6931467881285016,0.6931467881285016,0.6931467881285016,0.6931467881285016,0.6931467881285016,0.6931467881285016,0.6931467881285016,0.3603120915811235,0.32042646805171027,0.6931467881285016,0.6931467881285016,0.6931467881285016,0.6931467881285016,0.6931467881285016,0.6235030173513788,0.6931467881285016,0.6931467881285016,0.6931467881285016,0.39300729389148903,0.6931467881285016,0.6931467881285016,0.6931467881285016,0.6931467881285016,0.6931467881285016,0.505626115571123,0.6931467881285016,0.5290189842007983,0.5518771118265086,0.5190604003033522,0.5518771118265086,0.6931467881285016,0.6931467881285016,0.6931467881285016,0.6022417851222567,0.6931467881285016,0.6931467881285016,0.4117519753391804,0.6931467881285016,0.6931467881285016,0.6931467881285016,0.571062343959217,0.6931467881285016,0.6931467881285016,0.6931467881285016,0.6931467881285016,0.6931467881285016,0.6931467881285016,0.0,0.6931467881285016,0.6931467881285016,0.6931467881285016,0.6931467881285016,0.08654402219254435,0.6931467881285016,0.6931467881285016,0.6931467881285016,0.6931467881285016,0.6931467881285016,0.6235030173513788,0.6931467881285016,0.6931467881285016,0.6761852574671385,0.661827514801591,0.6931467881285016],[0.6931464342193174,0.6931464342193174,0.6931464342193174,0.6931464342193174,0.6931464342193174,0.6931464342193174,0.6931464342193174,0.6931464342193174,0.6931464342193174,0.6931464342193174,0.6931464342193174,0.1280282950493382,0.6931464342193174,0.6931464342193174,0.6931464342193174,0.6931464342193174,0.6931464342193174,0.6931464342193174,0.6931464342193174,0.6931464342193174,0.6931464342193174,0.6931464342193174,0.6931464342193174,0.6931464342193174,0.6931464342193174,0.6931464342193174,0.6931464342193174,0.6931464342193174,0.6931464342193174,0.6931464342193174,0.36396492180719653,0.6931464342193174,0.6931464342193174,0.6931464342193174,0.6931464342193174,0.6931464342193174,0.6931464342193174,0.6931464342193174,0.6931464342193174,0.6931464342193174,0.6931464342193174,0.6931464342193174,0.6931464342193174,0.6931464342193174,0.6931464342193174,0.5658673341577299,0.6931464342193174,0.6931464342193174,0.5547251671019078,0.6931464342193174,0.6931464342193174,0.6931464342193174,0.6931464342193174,0.6931464342193174,0.6931464342193174,0.6931464342193174,0.6931464342193174,0.6931464342193174,0.6931464342193174,0.6931464342193174,0.6931464342193174,0.6931464342193174,0.6931464342193174,0.6931464342193174,0.6931464342193174,0.6931464342193174,0.6931464342193174,0.6931464342193174,0.6931464342193174,0.6931464342193174,0.6931464342193174,0.6931464342193174,0.6931464342193174,0.6931464342193174,0.19444265355939425,0.6931464342193174,0.6931464342193174,0.6931464342193174,0.6931464342193174,0.6931464342193174,0.6931464342193174,0.6931464342193174,0.6931464342193174,0.6931464342193174,0.6931464342193174,0.6931464342193174,0.6931464342193174,0.6931464342193174,0.0,0.6931464342193174,0.6931464342193174,0.6931464342193174,0.22606580373576854,0.6931464342193174,0.41678242428135853,0.6931464342193174,0.6931464342193174,0.6931464342193174],[0.6931464194988672,0.6931464194988672,0.32885756005403316,0.6931464194988672,0.6931464194988672,0.5404697048257973,0.6931464194988672,0.0,0.6931464194988672,0.37247813576906025,0.6931464194988672,0.4766182912962178,0.11679909995330692,0.6931464194988672,0.6525088053317976,0.6931464194988672,0.6931464194988672,0.6931464194988672,0.6931464194988672,0.6931464194988672,0.6931464194988672,0.6931464194988672,0.6931464194988672,0.13242439685904062,0.6931464194988672,0.6931464194988672,0.5248849877347087,0.5759164229450267,0.6931464194988672,0.6797832019251937,0.24934558779169147,0.684257478876812,0.6931464194988672,0.6931464194988672,0.6931464194988672,0.6931464194988672,0.6931464194988672,0.6931464194988672,0.6931464194988672,0.6931464194988672,0.6931464194988672,0.6931464194988672,0.2424251531846557,0.6931464194988672,0.26304441601100303,0.3906055015212685,0.6931464194988672,0.6931464194988672,0.25621845895475825,0.6931464194988672,0.6931464194988672,0.6931464194988672,0.6931464194988672,0.6931464194988672,0.6931464194988672,0.6931464194988672,0.6931464194988672,0.5558152609989779,0.6931464194988672,0.6931464194988672,0.6797832019251937,0.6931464194988672,0.3095643784610464,0.6931464194988672,0.6931464194988672,0.6931464194988672,0.6931464194988672,0.03478606404706963,0.6931464194988672,0.6931464194988672,0.684257478876812,0.6931464194988672,0.6931464194988672,0.6931464194988672,0.17788671167661588,0.6931464194988672,0.6931464194988672,0.6931464194988672,0.6931464194988672,0.6931464194988672,0.675288815811678,0.6931464194988672,0.6931464194988672,0.6931464194988672,0.6931464194988672,0.6931464194988672,0.565916348210651,0.6931464194988672,0.24934558779169147,0.6931464194988672,0.3095643784610464,0.6931464194988672,0.3602080561251395,0.6931464194988672,0.5808792080509149,0.6797832019251937,0.6931464194988672,0.6931464194988672]],\"type\":\"heatmap\",\"xaxis\":\"x\",\"yaxis\":\"y\",\"hovertemplate\":\"x: %{x}\\u003cbr\\u003ey: %{y}\\u003cbr\\u003ecolor: %{z}\\u003cextra\\u003e\\u003c\\u002fextra\\u003e\"}],                        {\"template\":{\"data\":{\"histogram2dcontour\":[{\"type\":\"histogram2dcontour\",\"colorbar\":{\"outlinewidth\":0,\"ticks\":\"\"},\"colorscale\":[[0.0,\"#0d0887\"],[0.1111111111111111,\"#46039f\"],[0.2222222222222222,\"#7201a8\"],[0.3333333333333333,\"#9c179e\"],[0.4444444444444444,\"#bd3786\"],[0.5555555555555556,\"#d8576b\"],[0.6666666666666666,\"#ed7953\"],[0.7777777777777778,\"#fb9f3a\"],[0.8888888888888888,\"#fdca26\"],[1.0,\"#f0f921\"]]}],\"choropleth\":[{\"type\":\"choropleth\",\"colorbar\":{\"outlinewidth\":0,\"ticks\":\"\"}}],\"histogram2d\":[{\"type\":\"histogram2d\",\"colorbar\":{\"outlinewidth\":0,\"ticks\":\"\"},\"colorscale\":[[0.0,\"#0d0887\"],[0.1111111111111111,\"#46039f\"],[0.2222222222222222,\"#7201a8\"],[0.3333333333333333,\"#9c179e\"],[0.4444444444444444,\"#bd3786\"],[0.5555555555555556,\"#d8576b\"],[0.6666666666666666,\"#ed7953\"],[0.7777777777777778,\"#fb9f3a\"],[0.8888888888888888,\"#fdca26\"],[1.0,\"#f0f921\"]]}],\"heatmap\":[{\"type\":\"heatmap\",\"colorbar\":{\"outlinewidth\":0,\"ticks\":\"\"},\"colorscale\":[[0.0,\"#0d0887\"],[0.1111111111111111,\"#46039f\"],[0.2222222222222222,\"#7201a8\"],[0.3333333333333333,\"#9c179e\"],[0.4444444444444444,\"#bd3786\"],[0.5555555555555556,\"#d8576b\"],[0.6666666666666666,\"#ed7953\"],[0.7777777777777778,\"#fb9f3a\"],[0.8888888888888888,\"#fdca26\"],[1.0,\"#f0f921\"]]}],\"heatmapgl\":[{\"type\":\"heatmapgl\",\"colorbar\":{\"outlinewidth\":0,\"ticks\":\"\"},\"colorscale\":[[0.0,\"#0d0887\"],[0.1111111111111111,\"#46039f\"],[0.2222222222222222,\"#7201a8\"],[0.3333333333333333,\"#9c179e\"],[0.4444444444444444,\"#bd3786\"],[0.5555555555555556,\"#d8576b\"],[0.6666666666666666,\"#ed7953\"],[0.7777777777777778,\"#fb9f3a\"],[0.8888888888888888,\"#fdca26\"],[1.0,\"#f0f921\"]]}],\"contourcarpet\":[{\"type\":\"contourcarpet\",\"colorbar\":{\"outlinewidth\":0,\"ticks\":\"\"}}],\"contour\":[{\"type\":\"contour\",\"colorbar\":{\"outlinewidth\":0,\"ticks\":\"\"},\"colorscale\":[[0.0,\"#0d0887\"],[0.1111111111111111,\"#46039f\"],[0.2222222222222222,\"#7201a8\"],[0.3333333333333333,\"#9c179e\"],[0.4444444444444444,\"#bd3786\"],[0.5555555555555556,\"#d8576b\"],[0.6666666666666666,\"#ed7953\"],[0.7777777777777778,\"#fb9f3a\"],[0.8888888888888888,\"#fdca26\"],[1.0,\"#f0f921\"]]}],\"surface\":[{\"type\":\"surface\",\"colorbar\":{\"outlinewidth\":0,\"ticks\":\"\"},\"colorscale\":[[0.0,\"#0d0887\"],[0.1111111111111111,\"#46039f\"],[0.2222222222222222,\"#7201a8\"],[0.3333333333333333,\"#9c179e\"],[0.4444444444444444,\"#bd3786\"],[0.5555555555555556,\"#d8576b\"],[0.6666666666666666,\"#ed7953\"],[0.7777777777777778,\"#fb9f3a\"],[0.8888888888888888,\"#fdca26\"],[1.0,\"#f0f921\"]]}],\"mesh3d\":[{\"type\":\"mesh3d\",\"colorbar\":{\"outlinewidth\":0,\"ticks\":\"\"}}],\"scatter\":[{\"fillpattern\":{\"fillmode\":\"overlay\",\"size\":10,\"solidity\":0.2},\"type\":\"scatter\"}],\"parcoords\":[{\"type\":\"parcoords\",\"line\":{\"colorbar\":{\"outlinewidth\":0,\"ticks\":\"\"}}}],\"scatterpolargl\":[{\"type\":\"scatterpolargl\",\"marker\":{\"colorbar\":{\"outlinewidth\":0,\"ticks\":\"\"}}}],\"bar\":[{\"error_x\":{\"color\":\"#2a3f5f\"},\"error_y\":{\"color\":\"#2a3f5f\"},\"marker\":{\"line\":{\"color\":\"#E5ECF6\",\"width\":0.5},\"pattern\":{\"fillmode\":\"overlay\",\"size\":10,\"solidity\":0.2}},\"type\":\"bar\"}],\"scattergeo\":[{\"type\":\"scattergeo\",\"marker\":{\"colorbar\":{\"outlinewidth\":0,\"ticks\":\"\"}}}],\"scatterpolar\":[{\"type\":\"scatterpolar\",\"marker\":{\"colorbar\":{\"outlinewidth\":0,\"ticks\":\"\"}}}],\"histogram\":[{\"marker\":{\"pattern\":{\"fillmode\":\"overlay\",\"size\":10,\"solidity\":0.2}},\"type\":\"histogram\"}],\"scattergl\":[{\"type\":\"scattergl\",\"marker\":{\"colorbar\":{\"outlinewidth\":0,\"ticks\":\"\"}}}],\"scatter3d\":[{\"type\":\"scatter3d\",\"line\":{\"colorbar\":{\"outlinewidth\":0,\"ticks\":\"\"}},\"marker\":{\"colorbar\":{\"outlinewidth\":0,\"ticks\":\"\"}}}],\"scattermapbox\":[{\"type\":\"scattermapbox\",\"marker\":{\"colorbar\":{\"outlinewidth\":0,\"ticks\":\"\"}}}],\"scatterternary\":[{\"type\":\"scatterternary\",\"marker\":{\"colorbar\":{\"outlinewidth\":0,\"ticks\":\"\"}}}],\"scattercarpet\":[{\"type\":\"scattercarpet\",\"marker\":{\"colorbar\":{\"outlinewidth\":0,\"ticks\":\"\"}}}],\"carpet\":[{\"aaxis\":{\"endlinecolor\":\"#2a3f5f\",\"gridcolor\":\"white\",\"linecolor\":\"white\",\"minorgridcolor\":\"white\",\"startlinecolor\":\"#2a3f5f\"},\"baxis\":{\"endlinecolor\":\"#2a3f5f\",\"gridcolor\":\"white\",\"linecolor\":\"white\",\"minorgridcolor\":\"white\",\"startlinecolor\":\"#2a3f5f\"},\"type\":\"carpet\"}],\"table\":[{\"cells\":{\"fill\":{\"color\":\"#EBF0F8\"},\"line\":{\"color\":\"white\"}},\"header\":{\"fill\":{\"color\":\"#C8D4E3\"},\"line\":{\"color\":\"white\"}},\"type\":\"table\"}],\"barpolar\":[{\"marker\":{\"line\":{\"color\":\"#E5ECF6\",\"width\":0.5},\"pattern\":{\"fillmode\":\"overlay\",\"size\":10,\"solidity\":0.2}},\"type\":\"barpolar\"}],\"pie\":[{\"automargin\":true,\"type\":\"pie\"}]},\"layout\":{\"autotypenumbers\":\"strict\",\"colorway\":[\"#636efa\",\"#EF553B\",\"#00cc96\",\"#ab63fa\",\"#FFA15A\",\"#19d3f3\",\"#FF6692\",\"#B6E880\",\"#FF97FF\",\"#FECB52\"],\"font\":{\"color\":\"#2a3f5f\"},\"hovermode\":\"closest\",\"hoverlabel\":{\"align\":\"left\"},\"paper_bgcolor\":\"white\",\"plot_bgcolor\":\"#E5ECF6\",\"polar\":{\"bgcolor\":\"#E5ECF6\",\"angularaxis\":{\"gridcolor\":\"white\",\"linecolor\":\"white\",\"ticks\":\"\"},\"radialaxis\":{\"gridcolor\":\"white\",\"linecolor\":\"white\",\"ticks\":\"\"}},\"ternary\":{\"bgcolor\":\"#E5ECF6\",\"aaxis\":{\"gridcolor\":\"white\",\"linecolor\":\"white\",\"ticks\":\"\"},\"baxis\":{\"gridcolor\":\"white\",\"linecolor\":\"white\",\"ticks\":\"\"},\"caxis\":{\"gridcolor\":\"white\",\"linecolor\":\"white\",\"ticks\":\"\"}},\"coloraxis\":{\"colorbar\":{\"outlinewidth\":0,\"ticks\":\"\"}},\"colorscale\":{\"sequential\":[[0.0,\"#0d0887\"],[0.1111111111111111,\"#46039f\"],[0.2222222222222222,\"#7201a8\"],[0.3333333333333333,\"#9c179e\"],[0.4444444444444444,\"#bd3786\"],[0.5555555555555556,\"#d8576b\"],[0.6666666666666666,\"#ed7953\"],[0.7777777777777778,\"#fb9f3a\"],[0.8888888888888888,\"#fdca26\"],[1.0,\"#f0f921\"]],\"sequentialminus\":[[0.0,\"#0d0887\"],[0.1111111111111111,\"#46039f\"],[0.2222222222222222,\"#7201a8\"],[0.3333333333333333,\"#9c179e\"],[0.4444444444444444,\"#bd3786\"],[0.5555555555555556,\"#d8576b\"],[0.6666666666666666,\"#ed7953\"],[0.7777777777777778,\"#fb9f3a\"],[0.8888888888888888,\"#fdca26\"],[1.0,\"#f0f921\"]],\"diverging\":[[0,\"#8e0152\"],[0.1,\"#c51b7d\"],[0.2,\"#de77ae\"],[0.3,\"#f1b6da\"],[0.4,\"#fde0ef\"],[0.5,\"#f7f7f7\"],[0.6,\"#e6f5d0\"],[0.7,\"#b8e186\"],[0.8,\"#7fbc41\"],[0.9,\"#4d9221\"],[1,\"#276419\"]]},\"xaxis\":{\"gridcolor\":\"white\",\"linecolor\":\"white\",\"ticks\":\"\",\"title\":{\"standoff\":15},\"zerolinecolor\":\"white\",\"automargin\":true,\"zerolinewidth\":2},\"yaxis\":{\"gridcolor\":\"white\",\"linecolor\":\"white\",\"ticks\":\"\",\"title\":{\"standoff\":15},\"zerolinecolor\":\"white\",\"automargin\":true,\"zerolinewidth\":2},\"scene\":{\"xaxis\":{\"backgroundcolor\":\"#E5ECF6\",\"gridcolor\":\"white\",\"linecolor\":\"white\",\"showbackground\":true,\"ticks\":\"\",\"zerolinecolor\":\"white\",\"gridwidth\":2},\"yaxis\":{\"backgroundcolor\":\"#E5ECF6\",\"gridcolor\":\"white\",\"linecolor\":\"white\",\"showbackground\":true,\"ticks\":\"\",\"zerolinecolor\":\"white\",\"gridwidth\":2},\"zaxis\":{\"backgroundcolor\":\"#E5ECF6\",\"gridcolor\":\"white\",\"linecolor\":\"white\",\"showbackground\":true,\"ticks\":\"\",\"zerolinecolor\":\"white\",\"gridwidth\":2}},\"shapedefaults\":{\"line\":{\"color\":\"#2a3f5f\"}},\"annotationdefaults\":{\"arrowcolor\":\"#2a3f5f\",\"arrowhead\":0,\"arrowwidth\":1},\"geo\":{\"bgcolor\":\"white\",\"landcolor\":\"#E5ECF6\",\"subunitcolor\":\"white\",\"showland\":true,\"showlakes\":true,\"lakecolor\":\"white\"},\"title\":{\"x\":0.05},\"mapbox\":{\"style\":\"light\"}}},\"xaxis\":{\"anchor\":\"y\",\"domain\":[0.0,1.0],\"scaleanchor\":\"y\",\"constrain\":\"domain\"},\"yaxis\":{\"anchor\":\"x\",\"domain\":[0.0,1.0],\"autorange\":\"reversed\",\"constrain\":\"domain\"},\"coloraxis\":{\"colorscale\":[[0.0,\"rgb(255,255,217)\"],[0.125,\"rgb(237,248,177)\"],[0.25,\"rgb(199,233,180)\"],[0.375,\"rgb(127,205,187)\"],[0.5,\"rgb(65,182,196)\"],[0.625,\"rgb(29,145,192)\"],[0.75,\"rgb(34,94,168)\"],[0.875,\"rgb(37,52,148)\"],[1.0,\"rgb(8,29,88)\"]]},\"margin\":{\"t\":60}},                        {\"responsive\": true}                    ).then(function(){\n",
       "                            \n",
       "var gd = document.getElementById('ff377bd9-fed9-4acc-8a71-95e0633f34dd');\n",
       "var x = new MutationObserver(function (mutations, observer) {{\n",
       "        var display = window.getComputedStyle(gd).display;\n",
       "        if (!display || display === 'none') {{\n",
       "            console.log([gd, 'removed!']);\n",
       "            Plotly.purge(gd);\n",
       "            observer.disconnect();\n",
       "        }}\n",
       "}});\n",
       "\n",
       "// Listen for the removal of the full notebook cells\n",
       "var notebookContainer = gd.closest('#notebook-container');\n",
       "if (notebookContainer) {{\n",
       "    x.observe(notebookContainer, {childList: true});\n",
       "}}\n",
       "\n",
       "// Listen for the clearing of the current output cell\n",
       "var outputEl = gd.closest('.output');\n",
       "if (outputEl) {{\n",
       "    x.observe(outputEl, {childList: true});\n",
       "}}\n",
       "\n",
       "                        })                };                });            </script>        </div>"
      ]
     },
     "metadata": {},
     "output_type": "display_data"
    }
   ],
   "source": [
    "import plotly.express as px\n",
    "import pandas as pd\n",
    "import numpy as np\n",
    "\n",
    "normalized_losses = {}\n",
    "drop_ids = [features.index(feature) for feature in drop_features]\n",
    "\n",
    "features_dropped = [feature for feature in features if feature not in drop_features]\n",
    "\n",
    "for task_name, losses in task_losses_positive.items():\n",
    "    base_loss = losses[1]\n",
    "    losses = losses[0]\n",
    "    losses = np.array(losses)\n",
    "    losses = np.delete(losses, drop_ids)\n",
    "\n",
    "\n",
    "    losses = np.minimum(losses, base_loss * 1.5)\n",
    "\n",
    "    losses = (losses - base_loss) / base_loss\n",
    "    \n",
    "    max_loss = np.max(losses)\n",
    "    min_loss = np.min(losses)\n",
    "\n",
    "    losses = (losses - min_loss) / ((max_loss - min_loss) + 1e-6)\n",
    "    \n",
    "    # mean_loss = np.mean(losses - base_loss)\n",
    "\n",
    "    # base_acc = losses[1][1]\n",
    "\n",
    "    # accs = [base_acc - loss[1] for loss in losses[0]]\n",
    "    normalized_losses[task_name] = losses\n",
    "\n",
    "\n",
    "heatmap = np.zeros((len(task_names), len(features_dropped)))\n",
    "\n",
    "for i, task_name in enumerate(task_names):\n",
    "    for j, feature in enumerate(features_dropped):\n",
    "        heatmap[i, j] = normalized_losses[task_name][j]\n",
    "\n",
    "# heatmap /= np.mean(heatmap, axis=0, keepdims=True)\n",
    "\n",
    "\n",
    "\n",
    "# heatmap = np.where(heatmap > 0, np.log(heatmap), -10)\n",
    "# heatmap[np.isnan(heatmap)] = np.min(heatmap[np.isfinite(heatmap)])\n",
    "# heatmap[np.isinf(heatmap)] = np.max(heatmap[np.isfinite(heatmap)])\n",
    "\n",
    "# heatmap = np.clip(heatmap, -5, 5)\n",
    "\n",
    "heatmap = np.log(heatmap + 1)\n",
    "\n",
    "\n",
    "fig = px.imshow(heatmap, x=[str(x) for x in features_dropped], y=task_names, color_continuous_scale='YlGnBu')\n",
    "\n",
    "fig.show()"
   ]
  },
  {
   "cell_type": "code",
   "execution_count": 125,
   "metadata": {},
   "outputs": [
    {
     "data": {
      "text/html": [
       "<script> (()=>{ if (customElements.get('treescope-container') === undefined) { class TreescopeContainer extends HTMLElement { constructor() { super(); this.attachShadow({mode: \"open\"}); this.defns = {}; this.state = {}; } } customElements.define(\"treescope-container\", TreescopeContainer); } if (customElements.get('treescope-run-here') === undefined) { class RunHere extends HTMLElement { constructor() { super() } connectedCallback() { const run = child => { const fn = new Function(child.textContent); child.textContent = \"\"; fn.call(this); this.remove(); }; const child = this.querySelector(\"script\"); if (child) { run(child); } else { new MutationObserver(()=>{ run(this.querySelector(\"script\")); }).observe(this, {childList: true}); } } } customElements.define(\"treescope-run-here\", RunHere); } })(); </script> <treescope-container class=\"treescope_out_b8ebb988e4ed4f678cc10a5f6c34f48f\" ></treescope-container> <treescope-run-here><script type=\"application/octet-stream\"> const root = ( Array.from(document.getElementsByClassName( \"treescope_out_b8ebb988e4ed4f678cc10a5f6c34f48f\")) .filter((elt) => !elt.dataset.setup) )[0]; root.dataset.setup = 1; const msg = document.createElement(\"span\"); msg.style = \"color: #aaaaaa; font-family: monospace; transition: opacity 0.2s; opacity: 0.0;\"; msg.textContent = \"(Loading...)\"; root.state.loadingMsg = msg; root.shadowRoot.appendChild(msg); root.state.chain = new Promise((resolve, reject) => { const observer = new IntersectionObserver((entries) => { for (const entry of entries) { if (entry.isIntersecting) { resolve(); observer.disconnect(); return; } } }, {rootMargin: \"1000px\"}); window.setTimeout(() => { if (root.loadingMsg) { root.loadingMsg.style.opacity = \"1.0\"; } observer.observe(root); }, 0); }); root.state.deferring = false; const _insertNode = (node) => { for (let oldScript of node.querySelectorAll(\"script\")) { let newScript = document.createElement(\"script\"); newScript.type = oldScript.type; newScript.textContent = oldScript.textContent; oldScript.parentNode.replaceChild(newScript, oldScript); } if (root.state.loadingMsg) { root.state.loadingMsg.remove(); root.state.loadingMsg = null; } root.shadowRoot.appendChild(node); }; root.defns.insertContent = ((contentNode, compressed) => { if (compressed) { root.state.deferring = true; } if (root.state.deferring) { root.state.chain = (async () => { await root.state.chain; if (compressed) { const encoded = contentNode.textContent; const blob = new Blob([ Uint8Array.from(atob(encoded), (m) => m.codePointAt(0)) ]); const reader = blob.stream().pipeThrough( new DecompressionStream(\"deflate\") ).pipeThrough( new TextDecoderStream(\"utf-8\") ).getReader(); const parts = []; while (true) { const step = await reader.read(); if (step.done) { break; } parts.push(step.value); } const tpl = document.createElement('template'); tpl.innerHTML = parts.join(\"\"); _insertNode(tpl.content); } else { _insertNode(contentNode.content); } })(); } else { _insertNode(contentNode.content); } }); </script></treescope-run-here><div style=\"display:none\"> <script type=\"application/octet-stream\" >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</script> <treescope-run-here><script type=\"application/octet-stream\"> const root = ( Array.from(document.getElementsByClassName( \"treescope_out_b8ebb988e4ed4f678cc10a5f6c34f48f\")) .filter((elt) => !elt.dataset['step0']) )[0]; root.dataset['step0'] = 1; root.defns.insertContent( this.parentNode.querySelector('script[type=\"application/octet-stream\"]'), true ); this.parentNode.remove(); </script></treescope-run-here> </div>"
      ],
      "text/plain": [
       "<IPython.core.display.HTML object>"
      ]
     },
     "metadata": {},
     "output_type": "display_data"
    },
    {
     "data": {
      "text/html": [
       "<treescope-run-here><script type=\"application/octet-stream\"> const root = ( Array.from(document.getElementsByClassName( \"treescope_out_b8ebb988e4ed4f678cc10a5f6c34f48f\")) .filter((elt) => !elt.dataset.stolen) )[0]; root.dataset.stolen = 1; this.parentNode.replaceChild(root, this); </script></treescope-run-here>"
      ],
      "text/plain": [
       "[[10.3125,\n",
       "  4.40625,\n",
       "  4.75,\n",
       "  6.6875,\n",
       "  6.0625,\n",
       "  5.15625,\n",
       "  5.96875,\n",
       "  5.9375,\n",
       "  5.15625,\n",
       "  7.8125,\n",
       "  6.84375,\n",
       "  4.75,\n",
       "  7.125,\n",
       "  7.625,\n",
       "  6.25,\n",
       "  4.875,\n",
       "  6.5,\n",
       "  5.1875,\n",
       "  4.25,\n",
       "  4.875,\n",
       "  5.75,\n",
       "  9.625,\n",
       "  6.03125,\n",
       "  10.5,\n",
       "  6.6875,\n",
       "  10.625,\n",
       "  5.46875,\n",
       "  9.1875,\n",
       "  9.625,\n",
       "  11.125,\n",
       "  13.125,\n",
       "  6.90625,\n",
       "  4.21875,\n",
       "  5.71875,\n",
       "  4.75,\n",
       "  4.71875,\n",
       "  6.0625,\n",
       "  5.625,\n",
       "  5.03125,\n",
       "  6.6875,\n",
       "  4.96875,\n",
       "  6.65625,\n",
       "  11.1875,\n",
       "  9.8125,\n",
       "  7.375,\n",
       "  4.875,\n",
       "  10.125,\n",
       "  6.75,\n",
       "  7.96875,\n",
       "  6.8125,\n",
       "  5.625,\n",
       "  14.75,\n",
       "  13.1875,\n",
       "  7.9375,\n",
       "  5.28125,\n",
       "  13.3125,\n",
       "  6.3125,\n",
       "  6.71875,\n",
       "  5.1875,\n",
       "  19.375,\n",
       "  6.5,\n",
       "  6.65625,\n",
       "  5.25,\n",
       "  4.6875,\n",
       "  6.03125,\n",
       "  7.9375,\n",
       "  11.625,\n",
       "  10.4375,\n",
       "  6.5,\n",
       "  6.09375,\n",
       "  6.9375,\n",
       "  10.0,\n",
       "  17.0,\n",
       "  5.15625,\n",
       "  13.625,\n",
       "  6.59375,\n",
       "  5.1875,\n",
       "  7.1875,\n",
       "  5.34375,\n",
       "  13.0,\n",
       "  4.96875,\n",
       "  7.3125,\n",
       "  4.75,\n",
       "  8.75,\n",
       "  5.09375,\n",
       "  5.0,\n",
       "  17.875,\n",
       "  6.09375,\n",
       "  7.1875,\n",
       "  5.34375,\n",
       "  6.9375,\n",
       "  8.5625,\n",
       "  12.8125,\n",
       "  5.0625,\n",
       "  12.75,\n",
       "  10.6875,\n",
       "  9.0625,\n",
       "  10.5,\n",
       "  5.625,\n",
       "  11.25,\n",
       "  6.09375,\n",
       "  7.1875,\n",
       "  9.25,\n",
       "  16.375,\n",
       "  9.5625,\n",
       "  5.78125,\n",
       "  7.125,\n",
       "  8.3125,\n",
       "  10.0625,\n",
       "  10.5625,\n",
       "  5.125,\n",
       "  3.53125,\n",
       "  8.1875,\n",
       "  6.28125,\n",
       "  6.03125,\n",
       "  11.875,\n",
       "  6.59375,\n",
       "  4.84375,\n",
       "  8.875,\n",
       "  6.1875,\n",
       "  5.84375,\n",
       "  5.03125,\n",
       "  6.78125,\n",
       "  6.25,\n",
       "  4.25,\n",
       "  8.8125,\n",
       "  6.40625,\n",
       "  8.375,\n",
       "  4.0],\n",
       " 3.84375]"
      ]
     },
     "execution_count": 125,
     "metadata": {},
     "output_type": "execute_result"
    }
   ],
   "source": [
    "task_losses_positive[\"present_simple_past_perfect\"]"
   ]
  },
  {
   "cell_type": "code",
   "execution_count": 84,
   "metadata": {},
   "outputs": [
    {
     "data": {
      "text/html": [
       "<script> (()=>{ if (customElements.get('treescope-container') === undefined) { class TreescopeContainer extends HTMLElement { constructor() { super(); this.attachShadow({mode: \"open\"}); this.defns = {}; this.state = {}; } } customElements.define(\"treescope-container\", TreescopeContainer); } if (customElements.get('treescope-run-here') === undefined) { class RunHere extends HTMLElement { constructor() { super() } connectedCallback() { const run = child => { const fn = new Function(child.textContent); child.textContent = \"\"; fn.call(this); this.remove(); }; const child = this.querySelector(\"script\"); if (child) { run(child); } else { new MutationObserver(()=>{ run(this.querySelector(\"script\")); }).observe(this, {childList: true}); } } } customElements.define(\"treescope-run-here\", RunHere); } })(); </script> <treescope-container class=\"treescope_out_48e72cbb30834a4da97339f3d9f1c476\" ></treescope-container> <treescope-run-here><script type=\"application/octet-stream\"> const root = ( Array.from(document.getElementsByClassName( \"treescope_out_48e72cbb30834a4da97339f3d9f1c476\")) .filter((elt) => !elt.dataset.setup) )[0]; root.dataset.setup = 1; const msg = document.createElement(\"span\"); msg.style = \"color: #aaaaaa; font-family: monospace; transition: opacity 0.2s; opacity: 0.0;\"; msg.textContent = \"(Loading...)\"; root.state.loadingMsg = msg; root.shadowRoot.appendChild(msg); root.state.chain = new Promise((resolve, reject) => { const observer = new IntersectionObserver((entries) => { for (const entry of entries) { if (entry.isIntersecting) { resolve(); observer.disconnect(); return; } } }, {rootMargin: \"1000px\"}); window.setTimeout(() => { if (root.loadingMsg) { root.loadingMsg.style.opacity = \"1.0\"; } observer.observe(root); }, 0); }); root.state.deferring = false; const _insertNode = (node) => { for (let oldScript of node.querySelectorAll(\"script\")) { let newScript = document.createElement(\"script\"); newScript.type = oldScript.type; newScript.textContent = oldScript.textContent; oldScript.parentNode.replaceChild(newScript, oldScript); } if (root.state.loadingMsg) { root.state.loadingMsg.remove(); root.state.loadingMsg = null; } root.shadowRoot.appendChild(node); }; root.defns.insertContent = ((contentNode, compressed) => { if (compressed) { root.state.deferring = true; } if (root.state.deferring) { root.state.chain = (async () => { await root.state.chain; if (compressed) { const encoded = contentNode.textContent; const blob = new Blob([ Uint8Array.from(atob(encoded), (m) => m.codePointAt(0)) ]); const reader = blob.stream().pipeThrough( new DecompressionStream(\"deflate\") ).pipeThrough( new TextDecoderStream(\"utf-8\") ).getReader(); const parts = []; while (true) { const step = await reader.read(); if (step.done) { break; } parts.push(step.value); } const tpl = document.createElement('template'); tpl.innerHTML = parts.join(\"\"); _insertNode(tpl.content); } else { _insertNode(contentNode.content); } })(); } else { _insertNode(contentNode.content); } }); </script></treescope-run-here><div style=\"display:none\"> <script type=\"application/octet-stream\" >eNrFVt9v4zYM/lcED7g6h9pN0ybXOj+Aexn2MOxhe7iHbTAUm7aFKpIn0U1zh/zvo2QnaRKn27BiSx4SUSS/j6RIaWZxI2ERowGwma4hNVoj+8ZqbQUKrRJmQHIUzzBlhVYYFXwl5CZhK620rXlG8nUlECK/SFhtSCKFxci7jnBTk1RpReIlz55KoxuVR5mW2iSt6ZR1q6UkBfIncqwSVggkNYWgcMpqnudClZGEAhM2yioHoiCqQJQVSW7jsXOjkAvivDfr/kTPwoqlkAKJOW9Q73UjodAIZUUWWfEV2t2O7nZ206Zntk9PZBpFmIZkNjOiRubim1/xupYi4y5jNzpDcNEb4KurRRgO5gtKKOFZZDkUyrI5w0rYuAT8mbL9k84hHMSVthj7fQoNkKU1KBfy58x5dUa//t638wNXuQTaVo2U0xYhJpq/aK1IGq61eRqw1xz0FxK5rSMxiswJazCFNiuuMoiVXocDX18CCM92WNQazdjdaEB+RMHCE9axBFVixeZzNnQqb1I3gI1RlHcG0sKBWNUox+zUta1EgY6fV3B/tvS9gBDSqVK5XscG/mjA4mclVr5c3xu+grDNycD5mJ4B1Y2t2jROe2LcQczbMN6I8u9zcCzaQqIuS9l2Zeo7h05r7Xw5CUi8ZvBMB7yrpGPn1/ETbFzSAxM4Qp1ynElu7Y/UnJ3fMNj7TFd0DIMd+HZA+aTj78/4YnbT1wC5eGbe4Tw4Hh8BQ76kSOFlHgwDphWRobAV6b117PtjDZ3NLsqA2q4dWGQBxkCe1jQzoNIyB+NPjB8k3/FP7tuNLG+SMIGcepRiiwtS50uCUsThwrDbsmO1tGVH2rmwBLrZDbVTRbZgki9BJskSqF/gFavMf6a9eO1gi27dZOsG4HB6wBLKj7ul1G5CXsSs9DOYc+ScmycLvKQyqXPrRGkMT0QVt+HC+1z05sHbJFkF2RPkgwH7ODhwcKb9Rjv9I4Z+Qifs6rfReJld/Z/0jo0ukpz8ByRdHR1wY6wrYK3pngLTgyvs+8H6VvBAke83e+mMvw/qITyEFzxHiYVNC2Esplql7vj3tNZbrRSPxq6bekvF/jX9tuKnFF1UK25Kelm0NHxDb+my4m5arblRdDGku3TvJkNR8Oz2rkexpmn/bf/6Md1jx/nsUDpRNIx9sIcnVuIfSNxEpeG5oGqGt3fjHMprpg1XJbAhG8aTrLpmSGt6vRnSaUXMXwM9VM7Cfadjf5KzXTDbeF2BSilJktcW8r8evv8Y/A2EduR6DK8ELzXd5Bd13oNHH8TpW5QqpZjI58H+ChxnD8PHyf3jHUwm93wE/NPjpMgfHh4faJXBQ9AZdZf18c1xWlFSbmnPhKqb7n0beKJL/RL0Oulios02HnoweGP67Xy9xu+7uoPFB4lT1azqTazotjJ8wwqpOU7uw9vR4zUlKI7ZhxLdo4R8LU5+Xvs/ymRw0KT3yuJPLduT0g==</script> <treescope-run-here><script type=\"application/octet-stream\"> const root = ( Array.from(document.getElementsByClassName( \"treescope_out_48e72cbb30834a4da97339f3d9f1c476\")) .filter((elt) => !elt.dataset['step0']) )[0]; root.dataset['step0'] = 1; root.defns.insertContent( this.parentNode.querySelector('script[type=\"application/octet-stream\"]'), true ); this.parentNode.remove(); </script></treescope-run-here> </div>"
      ],
      "text/plain": [
       "<IPython.core.display.HTML object>"
      ]
     },
     "metadata": {},
     "output_type": "display_data"
    },
    {
     "data": {
      "text/html": [
       "<div style=\"display:none\"> <script type=\"application/octet-stream\" >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</script> <treescope-run-here><script type=\"application/octet-stream\"> const root = ( Array.from(document.getElementsByClassName( \"treescope_out_48e72cbb30834a4da97339f3d9f1c476\")) .filter((elt) => !elt.dataset['step1']) )[0]; root.dataset['step1'] = 1; root.defns.insertContent( this.parentNode.querySelector('script[type=\"application/octet-stream\"]'), true ); this.parentNode.remove(); </script></treescope-run-here> </div>"
      ],
      "text/plain": [
       "<IPython.core.display.HTML object>"
      ]
     },
     "metadata": {},
     "output_type": "display_data"
    },
    {
     "data": {
      "text/html": [
       "<treescope-run-here><script type=\"application/octet-stream\"> const root = ( Array.from(document.getElementsByClassName( \"treescope_out_48e72cbb30834a4da97339f3d9f1c476\")) .filter((elt) => !elt.dataset.stolen) )[0]; root.dataset.stolen = 1; this.parentNode.replaceChild(root, this); </script></treescope-run-here>"
      ],
      "text/plain": [
       "array([0.10833333, 0.02105735, 0.0625    , 0.10611511, 0.0734767 ,\n",
       "       0.07401033, 0.05617978, 0.05755396, 0.03819095, 0.03888889,\n",
       "       0.19101124, 0.05395683, 0.22682446, 0.        , 0.06231156,\n",
       "       0.0242411 , 0.10215054, 0.10453649, 0.04536489, 0.0094086 ,\n",
       "       0.09346734, 0.13169643, 0.07777778, 0.22767857, 0.0915047 ,\n",
       "       0.225     , 0.00416667, 0.00414938, 0.13403509, 0.2040201 ,\n",
       "       0.27482014, 0.        , 0.        , 0.07482014, 0.06797853,\n",
       "       0.05241935, 0.10663082, 0.01258993, 0.04496403, 0.02242991,\n",
       "       0.04120603, 0.06919643, 0.39568345, 0.01032702, 0.02329749,\n",
       "       0.08481262, 0.00280407, 0.09849246, 0.10555556, 0.04676259,\n",
       "       0.01798561, 0.15654952, 0.26517572, 0.20143885, 0.07194245,\n",
       "       0.617357  , 0.10267857, 0.        , 0.05527638, 0.15833333,\n",
       "       0.13169643, 0.        , 0.01798561, 0.0729783 , 0.15779093,\n",
       "       0.03718638, 0.03472222, 0.26111111, 0.13824561, 0.        ,\n",
       "       0.10653266, 0.32070175, 0.        , 0.        , 0.2       ,\n",
       "       0.02284946, 0.04856115, 0.09444444, 0.        , 0.4       ,\n",
       "       0.08140704, 0.15107914, 0.03888889, 0.        , 0.08243728,\n",
       "       0.00703518, 0.1522807 , 0.13632653, 0.04723618, 0.        ,\n",
       "       0.04444444, 0.28801431, 0.375     , 0.06834532, 0.10286225,\n",
       "       0.36628111, 0.12777778, 0.12096774, 0.01299283, 0.1       ,\n",
       "       0.15770609, 0.16944444, 0.36094675, 0.        , 0.        ,\n",
       "       0.03125   , 0.        , 0.17741935, 0.21111111, 0.11157895,\n",
       "       0.        , 0.        , 0.13258786, 0.02817209, 0.05737705,\n",
       "       0.47406082, 0.0031362 , 0.00277778, 0.00479233, 0.00138889,\n",
       "       0.11079137, 0.01478495, 0.16853933, 0.02688172, 0.        ,\n",
       "       0.07083333, 0.07222222, 0.05591054, 0.        ])"
      ]
     },
     "execution_count": 84,
     "metadata": {},
     "output_type": "execute_result"
    }
   ],
   "source": [
    "mean_heatmap"
   ]
  },
  {
   "cell_type": "code",
   "execution_count": 71,
   "metadata": {},
   "outputs": [
    {
     "ename": "NameError",
     "evalue": "name 'negative_task_losses' is not defined",
     "output_type": "error",
     "traceback": [
      "\u001b[0;31m---------------------------------------------------------------------------\u001b[0m",
      "\u001b[0;31mNameError\u001b[0m                                 Traceback (most recent call last)",
      "Cell \u001b[0;32mIn[71], line 12\u001b[0m\n\u001b[1;32m      8\u001b[0m drop_ids \u001b[38;5;241m=\u001b[39m [features\u001b[38;5;241m.\u001b[39mindex(feature) \u001b[38;5;28;01mfor\u001b[39;00m feature \u001b[38;5;129;01min\u001b[39;00m drop_features]\n\u001b[1;32m     10\u001b[0m features_dropped \u001b[38;5;241m=\u001b[39m [feature \u001b[38;5;28;01mfor\u001b[39;00m feature \u001b[38;5;129;01min\u001b[39;00m features \u001b[38;5;28;01mif\u001b[39;00m feature \u001b[38;5;129;01mnot\u001b[39;00m \u001b[38;5;129;01min\u001b[39;00m drop_features]\n\u001b[0;32m---> 12\u001b[0m \u001b[38;5;28;01mfor\u001b[39;00m task_name, losses \u001b[38;5;129;01min\u001b[39;00m \u001b[43mnegative_task_losses\u001b[49m\u001b[38;5;241m.\u001b[39mitems():\n\u001b[1;32m     13\u001b[0m     base_loss \u001b[38;5;241m=\u001b[39m losses[\u001b[38;5;241m1\u001b[39m]\n\u001b[1;32m     14\u001b[0m     losses \u001b[38;5;241m=\u001b[39m [x[\u001b[38;5;241m0\u001b[39m]\u001b[38;5;241m.\u001b[39mtolist() \u001b[38;5;28;01mfor\u001b[39;00m x \u001b[38;5;129;01min\u001b[39;00m losses[\u001b[38;5;241m0\u001b[39m]]\n",
      "\u001b[0;31mNameError\u001b[0m: name 'negative_task_losses' is not defined"
     ]
    }
   ],
   "source": [
    "import plotly.express as px\n",
    "import pandas as pd\n",
    "import numpy as np\n",
    "\n",
    "normalized_losses = {}\n",
    "\n",
    "drop_features = []\n",
    "drop_ids = [features.index(feature) for feature in drop_features]\n",
    "\n",
    "features_dropped = [feature for feature in features if feature not in drop_features]\n",
    "\n",
    "for task_name, losses in negative_task_losses.items():\n",
    "    base_loss = losses[1]\n",
    "    losses = [x[0].tolist() for x in losses[0]]\n",
    "    losses = np.array(losses)\n",
    "    losses = np.delete(losses, drop_ids)\n",
    "\n",
    "    losses = losses - base_loss[0]\n",
    "    \n",
    "    max_loss = np.max(losses)\n",
    "    min_loss = np.min(losses)\n",
    "\n",
    "    losses = (losses - min_loss) / (max_loss - min_loss)\n",
    "    \n",
    "    # mean_loss = np.mean(losses - base_loss)\n",
    "\n",
    "    # base_acc = losses[1][1]\n",
    "\n",
    "    # accs = [base_acc - loss[1] for loss in losses[0]]\n",
    "    normalized_losses[task_name] = losses\n",
    "\n",
    "\n",
    "heatmap = np.zeros((len(task_names), len(features_dropped)))\n",
    "\n",
    "for i, task_name in enumerate(task_names):\n",
    "    for j, feature in enumerate(features_dropped):\n",
    "        heatmap[i, j] = normalized_losses[task_name][j]\n",
    "\n",
    "heatmap /= np.mean(heatmap, axis=0, keepdims=True)\n",
    "\n",
    "\n",
    "\n",
    "# heatmap = np.where(heatmap > 0, np.log(heatmap), -10)\n",
    "# heatmap[np.isnan(heatmap)] = np.min(heatmap[np.isfinite(heatmap)])\n",
    "# heatmap[np.isinf(heatmap)] = np.max(heatmap[np.isfinite(heatmap)])\n",
    "\n",
    "# heatmap = np.clip(heatmap, -5, 5)\n",
    "\n",
    "\n",
    "fig = px.imshow(heatmap, x=[str(x) for x in features_dropped], y=task_names)\n",
    "\n",
    "fig.show()\n"
   ]
  },
  {
   "cell_type": "code",
   "execution_count": null,
   "metadata": {},
   "outputs": [],
   "source": []
  },
  {
   "cell_type": "code",
   "execution_count": null,
   "metadata": {},
   "outputs": [],
   "source": []
  }
 ],
 "metadata": {
  "kernelspec": {
   "display_name": "micrlhf-progress-_SD4q1c9-py3.10",
   "language": "python",
   "name": "python3"
  },
  "language_info": {
   "codemirror_mode": {
    "name": "ipython",
    "version": 3
   },
   "file_extension": ".py",
   "mimetype": "text/x-python",
   "name": "python",
   "nbconvert_exporter": "python",
   "pygments_lexer": "ipython3",
   "version": "3.10.12"
  }
 },
 "nbformat": 4,
 "nbformat_minor": 2
}
