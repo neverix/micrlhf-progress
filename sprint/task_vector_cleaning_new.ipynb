{
 "cells": [
  {
   "cell_type": "code",
   "execution_count": 2,
   "metadata": {},
   "outputs": [],
   "source": [
    "\n",
    "import penzai\n",
    "from penzai import pz\n",
    "import os\n",
    "if \"models\" not in os.listdir(\".\"):\n",
    "    os.chdir(\"../..\")\n",
    "\n"
   ]
  },
  {
   "cell_type": "code",
   "execution_count": 1,
   "metadata": {},
   "outputs": [],
   "source": [
    "import json\n",
    "%load_ext autoreload\n",
    "%autoreload 2\n",
    "\n",
    "import json\n",
    "from matplotlib import pyplot as plt\n",
    "from tqdm.auto import tqdm, trange\n",
    "import jax.numpy as jnp\n",
    "import numpy as np\n",
    "import random\n",
    "from penzai.data_effects.side_output import SideOutputValue\n",
    "from micrlhf.utils.activation_manipulation import add_vector\n"
   ]
  },
  {
   "cell_type": "code",
   "execution_count": 3,
   "metadata": {},
   "outputs": [],
   "source": [
    "\n",
    "from micrlhf.llama import LlamaTransformer\n",
    "llama = LlamaTransformer.from_pretrained(\"models/gemma-2b-it.gguf\", from_type=\"gemma\", load_eager=True)\n",
    "\n",
    "from transformers import AutoTokenizer\n",
    "import jax\n",
    "\n",
    "\n",
    "tokenizer = AutoTokenizer.from_pretrained(\"alpindale/gemma-2b\")\n",
    "tokenizer.padding_side = \"right\"\n",
    "\n",
    "\n",
    "from sprint.task_vector_utils import load_tasks, ICLDataset, ICLSequence\n",
    "tasks = load_tasks()\n",
    "\n",
    "\n",
    "\n",
    "from micrlhf.llama import LlamaBlock\n",
    "from micrlhf.sampling import sample, jit_wrapper\n",
    "get_resids = llama.select().at_instances_of(LlamaBlock).apply_with_selected_index(lambda i, x:\n",
    "    pz.nn.Sequential([\n",
    "        pz.de.TellIntermediate.from_config(tag=f\"resid_pre_{i}\"),\n",
    "        x\n",
    "    ])\n",
    ")\n",
    "get_resids = pz.de.CollectingSideOutputs.handling(get_resids, tag_predicate=lambda x: x.startswith(\"resid_pre\"))\n",
    "get_resids_call = jit_wrapper.Jitted(get_resids)\n",
    "\n",
    "\n",
    "\n",
    "def tokenized_to_inputs(input_ids, attention_mask):\n",
    "    token_array = jnp.asarray(input_ids)\n",
    "    token_array = jax.device_put(token_array, jax.sharding.NamedSharding(llama.mesh, jax.sharding.PartitionSpec(\"dp\", \"sp\")))\n",
    "    token_array = pz.nx.wrap(token_array, \"batch\", \"seq\").untag(\"batch\").tag(\"batch\")\n",
    "\n",
    "    mask_array = jnp.asarray(attention_mask, dtype=jnp.bool)\n",
    "    mask_array = jax.device_put(mask_array, jax.sharding.NamedSharding(llama.mesh, jax.sharding.PartitionSpec(\"dp\", \"sp\")))\n",
    "    mask_array = pz.nx.wrap(mask_array, \"batch\", \"seq\").untag(\"batch\").tag(\"batch\")\n",
    "\n",
    "    inputs = llama.inputs.from_basic_segments(token_array)\n",
    "    return inputs\n",
    "\n",
    "\n",
    "\n",
    "from sprint.task_vector_utils import ICLRunner, logprob_loss, get_tv, make_act_adder\n",
    "\n",
    "from micrlhf.utils.load_sae import sae_encode\n",
    "\n",
    "from safetensors import safe_open\n",
    "\n",
    "from micrlhf.utils.load_sae import get_nev_it_sae_suite\n",
    "\n",
    "\n",
    "sep = 3978\n",
    "pad = 0\n",
    "\n",
    "\n",
    "\n",
    "\n",
    "task_names = [x for x in tasks]\n",
    "# task_names = [\"antonyms\"]\n",
    "n_seeds = 10\n",
    "\n",
    "# n_few_shots, batch_size, max_seq_len = 64, 64, 512\n",
    "n_few_shots, batch_size, max_seq_len = 16, 16, 128\n",
    "\n",
    "prompt = \"Follow the pattern:\\n{}\"\n",
    "\n",
    "\n",
    "from sprint.task_vector_utils import ICLRunner, logprob_loss, get_tv, make_act_adder, weights_to_resid\n",
    "\n",
    "from safetensors import safe_open\n",
    "from sprint.task_vector_utils import FeatureSearch\n",
    "from micrlhf.utils.ito import grad_pursuit\n",
    "\n",
    "\n"
   ]
  },
  {
   "cell_type": "code",
   "execution_count": null,
   "metadata": {},
   "outputs": [],
   "source": [
    "seed = 10\n",
    "\n",
    "layer = 12\n",
    "n_shot = 16\n",
    "\n",
    "task = \"antonyms\""
   ]
  },
  {
   "cell_type": "code",
   "execution_count": 5,
   "metadata": {},
   "outputs": [
    {
     "data": {
      "application/vnd.jupyter.widget-view+json": {
       "model_id": "555f21e2f76b4036a8ec7bd44550401d",
       "version_major": 2,
       "version_minor": 0
      },
      "text/plain": [
       "  0%|          | 0/1 [00:00<?, ?it/s]"
      ]
     },
     "metadata": {},
     "output_type": "display_data"
    },
    {
     "name": "stdout",
     "output_type": "stream",
     "text": [
      "Zero: antonyms, Loss: 4.0625\n",
      "TV: antonyms, L: 12, Loss: 2.40625\n",
      "Recon TV: antonyms, L: 12, Loss: 3.70312\n",
      "Grad pursuit TV: antonyms, L: 12, Loss: 3.6875\n"
     ]
    },
    {
     "data": {
      "application/vnd.jupyter.widget-view+json": {
       "model_id": "0f0a44464a0244f38d538839d6249730",
       "version_major": 2,
       "version_minor": 0
      },
      "text/plain": [
       "  0%|          | 0/1000 [00:00<?, ?it/s]"
      ]
     },
     "metadata": {},
     "output_type": "display_data"
    },
    {
     "name": "stdout",
     "output_type": "stream",
     "text": [
      "Recon fs: antonyms, L: 12, Loss: 1.84375\n"
     ]
    }
   ],
   "source": [
    "seed = 10\n",
    "\n",
    "layers = list(range(1, 18))\n",
    "# layers = [10, 12, 14]\n",
    "\n",
    "layers = [12]\n",
    "\n",
    "# layer = 12\n",
    "for task in tqdm(task_names):\n",
    "    pairs = list(tasks[task].items())\n",
    "\n",
    "    n_shot = n_few_shots-1\n",
    "    if task.startswith(\"algo\"):\n",
    "        n_shot = 16\n",
    "\n",
    "    runner = ICLRunner(task, pairs, batch_size=batch_size, n_shot=n_shot, max_seq_len=max_seq_len, seed=seed, prompt=prompt)\n",
    "\n",
    "\n",
    "    tokenized = runner.get_tokens([\n",
    "        x[:n_shot] for x in runner.train_pairs\n",
    "    ], tokenizer)\n",
    "\n",
    "    inputs = tokenized_to_inputs(**tokenized)\n",
    "    train_tokens = tokenized[\"input_ids\"]\n",
    "\n",
    "    _, all_resids = get_resids_call(inputs)\n",
    "\n",
    "    tokenized = runner.get_tokens(runner.eval_pairs, tokenizer)\n",
    "    inputs = tokenized_to_inputs(**tokenized)\n",
    "    tokens = tokenized[\"input_ids\"]\n",
    "\n",
    "    logits = llama(inputs)\n",
    "    \n",
    "    zero_loss = logprob_loss(\n",
    "        logits.unwrap(\"batch\", \"seq\", \"vocabulary\"), tokens, shift= 0, n_first=2, sep=sep, pad_token=0\n",
    "    )\n",
    "\n",
    "    print(\n",
    "        f\"Zero: {task}, Loss: {zero_loss}\"  \n",
    "    )\n",
    "\n",
    "    for layer in layers:\n",
    "        sae = get_nev_it_sae_suite(layer)\n",
    "\n",
    "        resids = all_resids[layer].value.unwrap(\n",
    "            \"batch\", \"seq\", \"embedding\"\n",
    "        )\n",
    "\n",
    "        tv = get_tv(resids, train_tokens, shift = 0, sep=sep)\n",
    "\n",
    "        add_act = make_act_adder(llama, tv.astype('bfloat16'), tokens, layer, length=1, shift= 0, sep=sep)\n",
    "\n",
    "        logits = add_act(inputs)\n",
    "\n",
    "        tv_loss = logprob_loss(\n",
    "            logits.unwrap(\"batch\", \"seq\", \"vocabulary\"), tokens, shift=0, n_first=2, sep=sep, pad_token=0\n",
    "        )\n",
    "\n",
    "        print(\n",
    "            f\"TV: {task}, L: {layer}, Loss: {tv_loss}\"  \n",
    "        )\n",
    "        \n",
    "        pr, _, rtv = sae_encode(sae, tv)\n",
    "\n",
    "        add_act = make_act_adder(llama, rtv.astype('bfloat16'), tokens, layer, length=1, shift= 0, sep=sep)\n",
    "\n",
    "        logits = add_act(inputs)\n",
    "\n",
    "        recon_loss = logprob_loss(\n",
    "            logits.unwrap(\"batch\", \"seq\", \"vocabulary\"), tokens, shift=0, n_first=2, sep=sep, pad_token=0\n",
    "        )\n",
    "\n",
    "        print(\n",
    "            f\"Recon TV: {task}, L: {layer}, Loss: {recon_loss}\"  \n",
    "        )\n",
    "\n",
    "        _, gtv = grad_pursuit(tv, sae[\"W_dec\"], 20)\n",
    "\n",
    "        add_act = make_act_adder(llama, gtv.astype('bfloat16'), tokens, layer, length=1, shift= 0, sep=sep)\n",
    "\n",
    "        logits = add_act(inputs)\n",
    "\n",
    "        ito_loss = logprob_loss(\n",
    "            logits.unwrap(\"batch\", \"seq\", \"vocabulary\"), tokens, shift=0, n_first=2, sep=sep, pad_token=0\n",
    "        )\n",
    "\n",
    "        print(\n",
    "            f\"Grad pursuit TV: {task}, L: {layer}, Loss: {ito_loss}\"\n",
    "        )\n",
    "\n",
    "        fs = FeatureSearch(task, pairs, layer, llama, tokenizer, n_shot=1, seed=seed+100, init_w=pr, early_stopping_steps=50, n_first=2, sep=sep, pad_token=0, sae_v=8, sae=sae, batch_size=24, iterations=1000, prompt=prompt, l1_coeff=0.01, n_batches=1, lr=0.04)\n",
    "\n",
    "        w, m = fs.find_weights()\n",
    "\n",
    "        _, _, recon = sae_encode(sae, None, pre_relu=w)\n",
    "        \n",
    "        recon = recon.astype('bfloat16')\n",
    "\n",
    "        add_act = make_act_adder(llama, recon, tokens, layer, length=1, shift= 0, sep=sep)\n",
    "\n",
    "        logits = add_act(inputs)\n",
    "\n",
    "        loss = logprob_loss(\n",
    "            logits.unwrap(\"batch\", \"seq\", \"vocabulary\"), tokens, shift=0, n_first=2, sep=sep, pad_token=0\n",
    "        )\n",
    "\n",
    "        print(\n",
    "            f\"Recon fs: {task}, L: {layer}, Loss: {loss}\"  \n",
    "        )\n",
    "\n",
    "        # with open(\"cleanup_results_final_bigger.jsonl\", \"a\") as f:\n",
    "        #     item = {\n",
    "        #         \"task\": task,\n",
    "        #         \"weights\": w.tolist(),\n",
    "        #         \"loss\": loss.tolist(),\n",
    "        #         \"recon_loss\": recon_loss.tolist(),\n",
    "        #         \"ito_loss\": ito_loss.tolist(),\n",
    "        #         \"tv_loss\": tv_loss.tolist(),\n",
    "        #         \"zero_loss\": zero_loss.tolist(),\n",
    "        #         \"tv\": tv.tolist(),\n",
    "        #         \"layer\": layer\n",
    "        #     }\n",
    "\n",
    "        #     f.write(json.dumps(item) + \"\\n\")\n"
   ]
  },
  {
   "cell_type": "code",
   "execution_count": 6,
   "metadata": {},
   "outputs": [
    {
     "data": {
      "text/plain": [
       "[Array([3.32812, 2.5, 2.03125, 2, 2, 1.49219, 0.679688, 0.53125, 0.498047,\n",
       "        0.410156], dtype=bfloat16),\n",
       " Array([19097, 11618, 10720,  7578, 19112, 25576, 25878, 18840, 22136,\n",
       "        14612], dtype=int32)]"
      ]
     },
     "execution_count": 6,
     "metadata": {},
     "output_type": "execute_result"
    }
   ],
   "source": [
    "jax.lax.top_k(w, 10)"
   ]
  },
  {
   "cell_type": "code",
   "execution_count": 6,
   "metadata": {},
   "outputs": [
    {
     "data": {
      "text/plain": [
       "2"
      ]
     },
     "execution_count": 6,
     "metadata": {},
     "output_type": "execute_result"
    }
   ],
   "source": [
    "m[\"l0\"]"
   ]
  }
 ],
 "metadata": {
  "kernelspec": {
   "display_name": "micrlhf-progress-_SD4q1c9-py3.10",
   "language": "python",
   "name": "python3"
  },
  "language_info": {
   "codemirror_mode": {
    "name": "ipython",
    "version": 3
   },
   "file_extension": ".py",
   "mimetype": "text/x-python",
   "name": "python",
   "nbconvert_exporter": "python",
   "pygments_lexer": "ipython3",
   "version": "3.10.12"
  }
 },
 "nbformat": 4,
 "nbformat_minor": 2
}
