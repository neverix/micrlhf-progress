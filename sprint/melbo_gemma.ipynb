{
 "cells": [
  {
   "cell_type": "code",
   "execution_count": 1,
   "metadata": {},
   "outputs": [],
   "source": [
    "import os\n",
    "if \"models\" not in os.listdir(\".\"):\n",
    "    os.chdir(\"..\")"
   ]
  },
  {
   "cell_type": "code",
   "execution_count": 2,
   "metadata": {},
   "outputs": [],
   "source": [
    "%load_ext autoreload\n",
    "%autoreload 2\n",
    "import penzai\n",
    "from penzai import pz\n",
    "pz.ts.register_as_default()\n",
    "pz.ts.register_autovisualize_magic()\n",
    "pz.enable_interactive_context()"
   ]
  },
  {
   "cell_type": "code",
   "execution_count": 3,
   "metadata": {},
   "outputs": [],
   "source": [
    "from micrlhf.llama import LlamaTransformer\n",
    "llama = LlamaTransformer.from_pretrained(\"models/gemma-2b-it.gguf\",\n",
    "                                         from_type=\"gemma\",\n",
    "                                         load_eager=True\n",
    "                                         )"
   ]
  },
  {
   "cell_type": "code",
   "execution_count": 4,
   "metadata": {},
   "outputs": [],
   "source": [
    "from transformers import AutoTokenizer\n",
    "tokenizer = AutoTokenizer.from_pretrained(\"NousResearch/gemma-2b-it-tokenizer\")\n",
    "tokenizer.padding_side = \"right\""
   ]
  },
  {
   "cell_type": "code",
   "execution_count": 5,
   "metadata": {},
   "outputs": [],
   "source": [
    "import jax\n",
    "import jax.numpy as jnp\n",
    "format_prompt = \"\"\"<start_of_turn>user\\n\n",
    "{}\\n\n",
    "<start_of_turn>model\\n\n",
    "{}\"\"\"\n",
    "prompt = format_prompt.format(\"What is 3940 * 3892?\", \"\")\n",
    "tokens = tokenizer.encode(prompt)\n",
    "def tokens_to_array(tokens):\n",
    "    token_array = jnp.asarray(tokens)\n",
    "    if len(token_array) >= llama.mesh.shape[\"dp\"]:\n",
    "        token_array = jax.device_put(token_array, jax.sharding.NamedSharding(llama.mesh, jax.sharding.PartitionSpec(\"dp\", \"sp\")))\n",
    "    token_array = pz.nx.wrap(token_array, \"batch\", \"seq\")\n",
    "    return token_array"
   ]
  },
  {
   "cell_type": "code",
   "execution_count": 6,
   "metadata": {},
   "outputs": [],
   "source": [
    "from micrlhf.llama import LlamaBlock\n",
    "from functools import partial\n",
    "\n",
    "\n",
    "layer_source = 5\n",
    "def make_get_resids(llama, layer_target):\n",
    "    get_resids = llama.select().at_instances_of(LlamaBlock).pick_nth_selected(layer_target\n",
    "                                                                              ).apply(lambda x:\n",
    "        pz.nn.Sequential([\n",
    "            pz.de.TellIntermediate.from_config(tag=f\"resid_pre\"),\n",
    "            x\n",
    "        ])\n",
    "    )\n",
    "    get_resids = pz.de.CollectingSideOutputs.handling(get_resids, tag_predicate=lambda x: x.startswith(\"resid_pre\"))\n",
    "    return get_resids\n",
    "jittify = lambda x: partial(jax.jit(lambda lr, *args, **kwargs: lr(*args, **kwargs)[1][0].value), x)\n",
    "get_resids_initial = make_get_resids(llama, layer_source)\n",
    "get_resids_initial = jittify(get_resids_initial)"
   ]
  },
  {
   "cell_type": "code",
   "execution_count": 7,
   "metadata": {},
   "outputs": [],
   "source": [
    "layer_target = 10\n",
    "taker = jittify(make_get_resids(llama, layer_target).select().at_instances_of(LlamaBlock).apply_with_selected_index(\n",
    "    lambda i, x: x if i >= layer_source else pz.nn.Identity()\n",
    ").select().at_instances_of(pz.nn.EmbeddingLookup).apply(lambda _: pz.nn.Identity())\n",
    "                .select().at_instances_of(pz.nn.ConstantRescale).pick_nth_selected(0).apply(lambda _: pz.nn.Identity()))"
   ]
  },
  {
   "cell_type": "code",
   "execution_count": 20,
   "metadata": {},
   "outputs": [],
   "source": [
    "import dataclasses\n",
    "import jax.numpy as jnp\n",
    "from tqdm.auto import trange\n",
    "import optax\n",
    "\n",
    "\n",
    "inputs = llama.inputs.from_basic_segments(tokens_to_array([tokens]))\n",
    "resid_initial = get_resids_initial(inputs)\n",
    "bs = 16\n",
    "seed = 9\n",
    "iterations = 1000\n",
    "scale = 2\n",
    "def get_loss(rep):\n",
    "    rep = pz.nx.wrap(rep, \"batch\", \"embedding\")\n",
    "    rep = pz.nx.nmap(lambda a: a / jnp.linalg.norm(a) * scale)(rep.untag(\"embedding\")).tag(\"embedding\")\n",
    "    resid = pz.nx.nmap(lambda x, y: x.at[-1].add(y))(resid_initial[{\"batch\": 0}].untag(\"seq\"), rep).tag(\"seq\")\n",
    "    resid_out = taker(dataclasses.replace(inputs, tokens=resid,\n",
    "                                          attention_mask=inputs.attention_mask,\n",
    "                                          positions=inputs.positions))[{\"seq\": -1}]\n",
    "    diffs = pz.nx.nmap(lambda x: (x[:, None] - x[None, :]) ** 2)(resid_out.untag(\"batch\")).tag(\"batch1\", \"batch2\")\n",
    "    diffs = diffs.untag(\"embedding\").sum()  # ** 0.5\n",
    "    loss = diffs.data_array.mean()\n",
    "    return -loss, (resid_out,)\n",
    "start_add = jax.random.normal(jax.random.key(seed),\n",
    "                              (bs, resid_initial.named_shape[\"embedding\"]), dtype=resid_initial.dtype)\n",
    "\n",
    "optimizer = optax.chain(\n",
    "    optax.clip_by_global_norm(1.0),\n",
    "    optax.adam(1e-2),\n",
    "    optax.zero_nans(),\n",
    "    \n",
    ")\n",
    "lwg = jax.value_and_grad(get_loss, has_aux=True)\n",
    "# lwg = jax.jit(lwg)\n",
    "\n",
    "# @partial(jax.jit, donate_argnums=(0, 1))\n",
    "def train_step(addition, opt_state):\n",
    "    (loss, (resid_out,)), grad = lwg(addition)\n",
    "    updates, opt_state = optimizer.update(grad, opt_state, addition)\n",
    "    addition = optax.apply_updates(addition, updates)\n",
    "    return loss, addition, opt_state, dict(resid_out=resid_out)\n"
   ]
  },
  {
   "cell_type": "code",
   "execution_count": 21,
   "metadata": {},
   "outputs": [
    {
     "data": {
      "application/vnd.jupyter.widget-view+json": {
       "model_id": "40353238143146608d5d85a06379b5a8",
       "version_major": 2,
       "version_minor": 0
      },
      "text/plain": [
       "  0%|          | 0/512 [00:00<?, ?it/s]"
      ]
     },
     "metadata": {},
     "output_type": "display_data"
    },
    {
     "data": {
      "text/html": [
       "<div id=\"output_206c4762aac541489fc26795f030a701\"><script> /* penzai.treescope rendering of a Python object (compressed) */ (()=>{ let observer; let lastStep = new Promise((resolve, reject) => { observer = new IntersectionObserver((entries) => { for (const entry of entries) { if (entry.isIntersecting) { resolve(); observer.disconnect(); return; } } }, {rootMargin: \"1000px\"}); }); window.treescope_decompress_enqueue = (encoded, destId) => { const previous = lastStep; const destElt = document.getElementById(destId); lastStep = (async () => { await previous; let blob = new Blob([ Uint8Array.from(atob(encoded), (m) => m.codePointAt(0)) ]); let reader = blob.stream().pipeThrough( new DecompressionStream(\"deflate\") ).pipeThrough( new TextDecoderStream(\"utf-8\") ).getReader(); let parts = []; while (true) { let step = await reader.read(); if (step.done) { break; } parts.push(step.value); } let newElt = document.createElement(\"div\"); newElt.innerHTML = parts.join(\"\"); destElt.parentNode.replaceChild(newElt, destElt); for (let oldScript of newElt.querySelectorAll(\"script\")) { let newScript = document.createElement(\"script\"); newScript.type = oldScript.type; newScript.textContent = oldScript.textContent; oldScript.parentNode.replaceChild(newScript, oldScript); } })(); requestAnimationFrame(() => { observer.observe(destElt); }); } })(); </script><div id=\"compress_html_974cde576eb446b28eb45860dbe61b3e\"><script>window.treescope_decompress_enqueue(\"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\", \"compress_html_974cde576eb446b28eb45860dbe61b3e\");</script><span style=\"color: #aaaaaa; font-family: monospace\">(Loading...)</span></div></div>"
      ],
      "text/plain": [
       "<IPython.core.display.HTML object>"
      ]
     },
     "metadata": {},
     "output_type": "display_data"
    },
    {
     "data": {
      "text/html": [
       "<div id=\"output_dest_206c4762aac541489fc26795f030a701\"><script> (()=>{ const output = document.getElementById(\"output_206c4762aac541489fc26795f030a701\"); const dest = document.getElementById(\"output_dest_206c4762aac541489fc26795f030a701\"); dest.parentNode.replaceChild(output, dest); })(); </script></div>"
      ],
      "text/plain": [
       "(32768, 2048)"
      ]
     },
     "execution_count": 21,
     "metadata": {},
     "output_type": "execute_result"
    }
   ],
   "source": [
    "from micrlhf.utils.load_sae import get_nev_it_sae_suite\n",
    "from tqdm.auto import trange\n",
    "from more_itertools import chunked\n",
    "import numpy as np\n",
    "sae = get_nev_it_sae_suite(layer_source)\n",
    "\n",
    "feat_bs = 64\n",
    "feat_outs = []\n",
    "try:\n",
    "    for index in trange(0, len(sae[\"W_dec\"]), feat_bs):\n",
    "        rep = sae[\"W_dec\"][index:index+feat_bs]\n",
    "        rep = pz.nx.wrap(rep, \"batch\", \"embedding\")\n",
    "        rep = pz.nx.nmap(lambda a: a / jnp.linalg.norm(a) * scale)(rep.untag(\"embedding\")).tag(\"embedding\")\n",
    "        resid = pz.nx.nmap(lambda x, y: x.at[-1].add(y))(resid_initial[{\"batch\": 0}].untag(\"seq\"), rep).tag(\"seq\")\n",
    "        resid_out = taker(dataclasses.replace(inputs, tokens=resid,\n",
    "                                            attention_mask=inputs.attention_mask,\n",
    "                                            positions=inputs.positions))[{\"seq\": -1}]\n",
    "        feat_outs.append(np.array(resid_out.unwrap(\"batch\", \"embedding\")))\n",
    "except KeyboardInterrupt:\n",
    "    pass\n",
    "all_outs = np.concatenate(feat_outs, axis=0)\n",
    "all_outs.shape"
   ]
  },
  {
   "cell_type": "code",
   "execution_count": 22,
   "metadata": {},
   "outputs": [
    {
     "data": {
      "application/vnd.jupyter.widget-view+json": {
       "model_id": "2aed2216b48542d49e5b437f5d68643a",
       "version_major": 2,
       "version_minor": 0
      },
      "text/plain": [
       "  0%|          | 0/8 [00:00<?, ?it/s]"
      ]
     },
     "metadata": {},
     "output_type": "display_data"
    },
    {
     "name": "stdout",
     "output_type": "stream",
     "text": [
      "[Array(30630, dtype=int32), Array(31655, dtype=int32), Array(8047, dtype=int32), Array(15751, dtype=int32), Array(6755, dtype=int32), Array(7235, dtype=int32), Array(8541, dtype=int32), Array(20798, dtype=int32), Array(12098, dtype=int32), Array(15214, dtype=int32), Array(13952, dtype=int32), Array(15321, dtype=int32), Array(19986, dtype=int32), Array(22143, dtype=int32), Array(15336, dtype=int32), Array(26247, dtype=int32)]\n"
     ]
    }
   ],
   "source": [
    "from tqdm.auto import trange\n",
    "import numba as nb\n",
    "@jax.jit\n",
    "def cdist(a, b):\n",
    "    return jax.vmap(jax.vmap(lambda x, y: jnp.linalg.norm(x - y), in_axes=(0, None), out_axes=0), in_axes=(None, 0), out_axes=1)(a, b)\n",
    "ao = all_outs.astype(jnp.float16)\n",
    "ao = jnp.asarray(ao)\n",
    "vchunk = 2048\n",
    "existing = []\n",
    "@jax.jit\n",
    "def vscan(carry, v, diff):\n",
    "    max_dist, rc = carry\n",
    "    sl = jnp.arange(vchunk) + v\n",
    "    dists = cdist(ao[sl], ao)\n",
    "    dists += (diff[sl, None] + diff[None, :]) * (np.arange(vchunk)[:, None] + v != np.arange(len(diff))[None, :])\n",
    "    maxd = dists.max()\n",
    "    md = (dists).ravel().argmax()\n",
    "    row, col = jnp.unravel_index(md, dists.shape)\n",
    "    row += v\n",
    "    # return jnp.maximum((max_dist, rc), (maxd, (row, col)))\n",
    "    cond = maxd > max_dist\n",
    "    max_dist = jax.lax.select(cond, maxd, max_dist)\n",
    "    rc = jax.lax.select(cond, jnp.array([row, col]), rc)\n",
    "    return (max_dist, rc), None\n",
    "for _ in trange(bs // 2):\n",
    "    diff = jnp.zeros((ao.shape[0],), dtype=jnp.float32)\n",
    "    if existing:\n",
    "        je = jnp.asarray(existing)\n",
    "        diff += cdist(ao[je], ao).sum(axis=0)\n",
    "        diff = diff.at[je].set(-1e6)\n",
    "    max_dist, rc = 0.0, (0, 0)\n",
    "    (max_dist, rc), _ = jax.lax.scan(partial(vscan, diff=diff), (max_dist, jnp.array(rc)), jnp.arange(0, len(diff), vchunk))\n",
    "    existing.extend(rc)\n",
    "\n",
    "print(existing)\n",
    "vectors = sae[\"W_dec\"][jnp.asarray(existing)]"
   ]
  },
  {
   "cell_type": "code",
   "execution_count": 23,
   "metadata": {},
   "outputs": [
    {
     "data": {
      "application/vnd.jupyter.widget-view+json": {
       "model_id": "d4ccea202c9f4f7cb97a64538c429c13",
       "version_major": 2,
       "version_minor": 0
      },
      "text/plain": [
       "  0%|          | 0/42 [00:00<?, ?it/s]"
      ]
     },
     "metadata": {},
     "output_type": "display_data"
    },
    {
     "data": {
      "text/html": [
       "<div id=\"output_cbc2a25ea9474eaa8731f0974e151d0b\"><script> /* penzai.treescope rendering of a Python object (compressed) */ (()=>{ let observer; let lastStep = new Promise((resolve, reject) => { observer = new IntersectionObserver((entries) => { for (const entry of entries) { if (entry.isIntersecting) { resolve(); observer.disconnect(); return; } } }, {rootMargin: \"1000px\"}); }); window.treescope_decompress_enqueue = (encoded, destId) => { const previous = lastStep; const destElt = document.getElementById(destId); lastStep = (async () => { await previous; let blob = new Blob([ Uint8Array.from(atob(encoded), (m) => m.codePointAt(0)) ]); let reader = blob.stream().pipeThrough( new DecompressionStream(\"deflate\") ).pipeThrough( new TextDecoderStream(\"utf-8\") ).getReader(); let parts = []; while (true) { let step = await reader.read(); if (step.done) { break; } parts.push(step.value); } let newElt = document.createElement(\"div\"); newElt.innerHTML = parts.join(\"\"); destElt.parentNode.replaceChild(newElt, destElt); for (let oldScript of newElt.querySelectorAll(\"script\")) { let newScript = document.createElement(\"script\"); newScript.type = oldScript.type; newScript.textContent = oldScript.textContent; oldScript.parentNode.replaceChild(newScript, oldScript); } })(); requestAnimationFrame(() => { observer.observe(destElt); }); } })(); </script><div id=\"compress_html_fda65429f8cb4118a89f628c78a87c81\"><script>window.treescope_decompress_enqueue(\"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\", \"compress_html_fda65429f8cb4118a89f628c78a87c81\");</script><span style=\"color: #aaaaaa; font-family: monospace\">(Loading...)</span></div></div>"
      ],
      "text/plain": [
       "<IPython.core.display.HTML object>"
      ]
     },
     "metadata": {},
     "output_type": "display_data"
    },
    {
     "data": {
      "text/html": [
       "<div id=\"output_dest_cbc2a25ea9474eaa8731f0974e151d0b\"><script> (()=>{ const output = document.getElementById(\"output_cbc2a25ea9474eaa8731f0974e151d0b\"); const dest = document.getElementById(\"output_dest_cbc2a25ea9474eaa8731f0974e151d0b\"); dest.parentNode.replaceChild(output, dest); })(); </script></div>"
      ],
      "text/plain": [
       "[['<bos><start_of_turn>user\\n\\nWhat is 3940 * 3892?\\n\\n<start_of_turn>model\\n\\nSure, here is 3940 * 3892:\\n\\n3940 * 3892 = 15212160<eos><eos><eos><eos><eos>',\n",
       "  '<bos><start_of_turn>user\\n\\nWhat is 3940 * 3892?\\n\\n<start_of_turn>model\\n\\n3940 * 3892 = 14807360<eos><eos><eos>This is 14.807360<eos><eos><eos><eos>This is ',\n",
       "  '<bos><start_of_turn>user\\n\\nWhat is 3940 * 3892?\\n\\n<start_of_turn>model\\n\\nSure, 3940 * 3892 = 15547360.<eos><eos><eos><eos><eos> What is 3940 * 3892',\n",
       "  '<bos><start_of_turn>user\\n\\nWhat is 3940 * 3892?\\n\\n<start_of_turn>model\\n\\n3940 * 3892 = 1443064<eos><eos>The answer is 1443064<eos><eos><eos>The answer is 144'],\n",
       " ['<bos><start_of_turn>user\\n\\nWhat is 3940 * 3892?\\n\\n<start_of_turn>model\\n\\n3940 * 3892 = 148464<eos><eos>It is 148464<eos><eos><eos><eos><eos><eos><eos><eos><eos><eos><eos><eos><eos>',\n",
       "  '<bos><start_of_turn>user\\n\\nWhat is 3940 * 3892?\\n\\n<start_of_turn>model\\n\\n3940 * 3892 = 1548168<eos><eos><eos>The answer is 1548168<eos><eos><eos><eos><eos><eos> The answer is',\n",
       "  '<bos><start_of_turn>user\\n\\nWhat is 3940 * 3892?\\n\\n<start_of_turn>model\\n\\nSure, 3940 * 3892 = 1514088.<eos><eos><eos><eos><eos><eos> 3940 * 3892 = ',\n",
       "  '<bos><start_of_turn>user\\n\\nWhat is 3940 * 3892?\\n\\n<start_of_turn>model\\n\\nSure, 3940 * 3892 = 149584.<eos><eos><eos><eos><eos> The answer is 149584<eos><eos><eos><eos><eos>'],\n",
       " ['<bos><start_of_turn>user\\n\\nWhat is 3940 * 3892?\\n\\n<start_of_turn>model\\n\\n3940 * 3892 = 1554368<eos><eos><eos><eos>The answer is 1554368<eos><eos><eos><eos><eos>The answer is',\n",
       "  '<bos><start_of_turn>user\\n\\nWhat is 3940 * 3892?\\n\\n<start_of_turn>model\\n\\nSure, 3940 * 3892 = 1537768.<eos><eos><eos><eos><eos><eos>The answer is 1537768<eos><eos>',\n",
       "  '<bos><start_of_turn>user\\n\\nWhat is 3940 * 3892?\\n\\n<start_of_turn>model\\n\\nSure, 3940 * 3892 = 1550640.<eos><eos><eos> 1550640<eos><eos><eos><eos> 155',\n",
       "  '<bos><start_of_turn>user\\n\\nWhat is 3940 * 3892?\\n\\n<start_of_turn>model\\n\\n3940 * 3892 = 149,464<eos><eos><eos><eos>The answer is 149,464<eos><eos><eos><eos><eos>The answer is'],\n",
       " ['<bos><start_of_turn>user\\n\\nWhat is 3940 * 3892?\\n\\n<start_of_turn>model\\n\\n3940 * 3892 = 14521680<eos><eos><eos>This is a calculation of two numbers multiplying together, with the result being 1452',\n",
       "  '<bos><start_of_turn>user\\n\\nWhat is 3940 * 3892?\\n\\n<start_of_turn>model\\n\\n3940 * 3892 = 155544<eos><eos><eos>The answer is 155544<eos><eos><eos><eos><eos> The answer 155',\n",
       "  '<bos><start_of_turn>user\\n\\nWhat is 3940 * 3892?\\n\\n<start_of_turn>model\\n\\nSure, 3940 * 3892 = 1517440.<eos><eos><eos><eos><eos><eos><eos><eos><eos><eos><eos><eos><eos><eos><eos><eos><eos><eos><eos>',\n",
       "  '<bos><start_of_turn>user\\n\\nWhat is 3940 * 3892?\\n\\n<start_of_turn>model\\n\\n3940 * 3892 = 1510048<eos><eos><eos><eos>The answer is 1510048<eos><eos><eos><eos><eos> the answer is'],\n",
       " ['<bos><start_of_turn>user\\n\\nWhat is 3940 * 3892?\\n\\n<start_of_turn>model\\n\\nSure, here is the solution:\\n\\n3940 * 3892 = 1543032<eos><eos><eos><eos><eos><eos> The answer is 15430',\n",
       "  '<bos><start_of_turn>user\\n\\nWhat is 3940 * 3892?\\n\\n<start_of_turn>model\\n\\n3940 * 3892 = 14910040<eos><eos><eos><eos>This is the answer to 3940 * 3892.<eos>',\n",
       "  '<bos><start_of_turn>user\\n\\nWhat is 3940 * 3892?\\n\\n<start_of_turn>model\\n\\nSure, 3940 * 3892 = 14797360.<eos><eos><eos><eos><eos><eos><eos><eos> What is 3940 * 3',\n",
       "  '<bos><start_of_turn>user\\n\\nWhat is 3940 * 3892?\\n\\n<start_of_turn>model\\n\\nSure, 3940 * 3892 = 15523440.<eos><eos><eos><eos><eos><eos><eos><eos> What is 3940 * 3'],\n",
       " ['<bos><start_of_turn>user\\n\\nWhat is 3940 * 3892?\\n\\n<start_of_turn>model\\n\\nSure, 3940 * 3892 = 15208320.<eos><eos><eos>The answer is 15208320<eos><eos><eos>',\n",
       "  '<bos><start_of_turn>user\\n\\nWhat is 3940 * 3892?\\n\\n<start_of_turn>model\\n\\n3940 * 3892 = 143576<eos><eos><eos>The answer is 143576<eos><eos><eos><eos><eos>The answer is 14',\n",
       "  '<bos><start_of_turn>user\\n\\nWhat is 3940 * 3892?\\n\\n<start_of_turn>model\\n\\n3940 * 3892 = 1573168<eos><eos><eos>The answer is 1573168<eos><eos><eos><eos>The answer is 1',\n",
       "  '<bos><start_of_turn>user\\n\\nWhat is 3940 * 3892?\\n\\n<start_of_turn>model\\n\\n3940 * 3892 = 1511576<eos><eos><eos> The answer is 1511576<eos><eos><eos><eos><eos>The answer is '],\n",
       " ['<bos><start_of_turn>user\\n\\nWhat is 3940 * 3892?\\n\\n<start_of_turn>model\\n\\nSure, 3940 * 3892 = 14847360.<eos><eos><eos><eos><eos><eos><eos><eos><eos><eos><eos><eos> The calculation is 39',\n",
       "  '<bos><start_of_turn>user\\n\\nWhat is 3940 * 3892?\\n\\n<start_of_turn>model\\n\\n3940 * 3892 = 15805680<eos><eos><eos><eos>The answer is 15805680<eos><eos><eos><eos><eos>The',\n",
       "  '<bos><start_of_turn>user\\n\\nWhat is 3940 * 3892?\\n\\n<start_of_turn>model\\n\\n3940 * 3892 = 14153680<eos><eos><eos><eos><eos><eos><eos><eos> The answer is 14153680<eos><eos>',\n",
       "  '<bos><start_of_turn>user\\n\\nWhat is 3940 * 3892?\\n\\n<start_of_turn>model\\n\\nSure, 3940 * 3892 = 1570048.<eos><eos><eos><eos><eos><eos><eos> The answer is 1570048<eos>'],\n",
       " ['<bos><start_of_turn>user\\n\\nWhat is 3940 * 3892?\\n\\n<start_of_turn>model\\n\\nSure, 3940 * 3892 = 157,312.<eos><eos><eos><eos><eos> 3940 * 3892 = 1',\n",
       "  '<bos><start_of_turn>user\\n\\nWhat is 3940 * 3892?\\n\\n<start_of_turn>model\\n\\n3940 * 3892 = 1522168<eos><eos>**The answer is 1522168**<eos><eos><eos> This is a multiplication problem',\n",
       "  '<bos><start_of_turn>user\\n\\nWhat is 3940 * 3892?\\n\\n<start_of_turn>model\\n\\nSure, 3940 * 3892 = 1532888.<eos><eos><eos><eos>The answer is 1532888<eos><eos><eos><eos>',\n",
       "  '<bos><start_of_turn>user\\n\\nWhat is 3940 * 3892?\\n\\n<start_of_turn>model\\n\\nSure, 3940 * 3892 = 15578480.<eos><eos><eos><eos>It is 15578480.<eos><eos>'],\n",
       " ['<bos><start_of_turn>user\\n\\nWhat is 3940 * 3892?\\n\\n<start_of_turn>model\\n\\n3940 * 3892 = 1547368<eos><eos><eos><eos>This is a multiple of 10, so it will be divisible by 10.',\n",
       "  '<bos><start_of_turn>user\\n\\nWhat is 3940 * 3892?\\n\\n<start_of_turn>model\\n\\nSure, 3940 * 3892 = 152248.<eos><eos><eos><eos><eos> 3940 * 3892 = 15',\n",
       "  '<bos><start_of_turn>user\\n\\nWhat is 3940 * 3892?\\n\\n<start_of_turn>model\\n\\n3940 * 3892 = 149,408<eos><eos><eos><eos>The answer is 149,408<eos><eos><eos><eos><eos><eos><eos>The',\n",
       "  '<bos><start_of_turn>user\\n\\nWhat is 3940 * 3892?\\n\\n<start_of_turn>model\\n\\n3940 * 3892 = 152104<eos><eos><eos><eos><eos>The answer is 152104.<eos><eos><eos><eos><eos>The answer is'],\n",
       " ['<bos><start_of_turn>user\\n\\nWhat is 3940 * 3892?\\n\\n<start_of_turn>model\\n\\n3940 * 3892 = 1505688<eos><eos><eos><eos>The answer is 1505688<eos><eos><eos><eos><eos>The answer is',\n",
       "  '<bos><start_of_turn>user\\n\\nWhat is 3940 * 3892?\\n\\n<start_of_turn>model\\n\\n3940 * 3892 = 1546776<eos><eos><eos><eos>This is a question about multiplication. The answer is 1546776<eos>',\n",
       "  '<bos><start_of_turn>user\\n\\nWhat is 3940 * 3892?\\n\\n<start_of_turn>model\\n\\nSure, 3940 * 3892 = 154864.<eos><eos><eos><eos>It is 154864<eos><eos><eos><eos><eos><eos><eos>',\n",
       "  '<bos><start_of_turn>user\\n\\nWhat is 3940 * 3892?\\n\\n<start_of_turn>model\\n\\n3940 * 3892 = 153808<eos><eos><eos>The answer is 153808<eos><eos><eos><eos>The answer is 153'],\n",
       " ['<bos><start_of_turn>user\\n\\nWhat is 3940 * 3892?\\n\\n<start_of_turn>model\\n\\n3940 * 3892 = 15033680.<eos><eos><eos><eos>The answer is 15033680<eos><eos><eos><eos><eos>',\n",
       "  '<bos><start_of_turn>user\\n\\nWhat is 3940 * 3892?\\n\\n<start_of_turn>model\\n\\n3940 * 3892 = 1522496<eos><eos><eos><eos><eos><eos><eos> The answer 1522496<eos><eos><eos><eos><eos><eos>',\n",
       "  '<bos><start_of_turn>user\\n\\nWhat is 3940 * 3892?\\n\\n<start_of_turn>model\\n\\nSure, 3940 * 3892 = 15215360.<eos><eos><eos><eos><eos><eos><eos><eos><eos><eos><eos><eos><eos><eos><eos><eos><eos><eos>',\n",
       "  '<bos><start_of_turn>user\\n\\nWhat is 3940 * 3892?\\n\\n<start_of_turn>model\\n\\n3940 * 3892 = 1493688<eos><eos><eos><eos>This is the solution to 3940 * 3892.<eos><eos>'],\n",
       " ['<bos><start_of_turn>user\\n\\nWhat is 3940 * 3892?\\n\\n<start_of_turn>model\\n\\nSure, 3940 * 3892 = 155464.<eos><eos><eos><eos>This is the result of the multiplication of 3940 and 3',\n",
       "  '<bos><start_of_turn>user\\n\\nWhat is 3940 * 3892?\\n\\n<start_of_turn>model\\n\\n3940 * 3892 = 1569368<eos><eos><eos><eos>The answer is 1569368<eos><eos><eos><eos><eos> The answer is',\n",
       "  '<bos><start_of_turn>user\\n\\nWhat is 3940 * 3892?\\n\\n<start_of_turn>model\\n\\n3940 * 3892 = 1529 4760<eos><eos><eos>The answer is 1529 4760<eos><eos><eos><eos>The',\n",
       "  '<bos><start_of_turn>user\\n\\nWhat is 3940 * 3892?\\n\\n<start_of_turn>model\\n\\n3940 * 3892 = 152488<eos><eos><eos><eos> The answer is 152488<eos><eos><eos><eos> the answer is 15'],\n",
       " ['<bos><start_of_turn>user\\n\\nWhat is 3940 * 3892?\\n\\n<start_of_turn>model\\n\\nSure, 3940 * 3892 = 15510640.<eos><eos><eos><eos><eos><eos> The answer is 15510640',\n",
       "  '<bos><start_of_turn>user\\n\\nWhat is 3940 * 3892?\\n\\n<start_of_turn>model\\n\\nSure. 3940 * 3892 = **15300040**.<eos><eos><eos><eos><eos><eos><eos><eos><eos><eos> What is 3940 *',\n",
       "  '<bos><start_of_turn>user\\n\\nWhat is 3940 * 3892?\\n\\n<start_of_turn>model\\n\\n3940 * 3892 = 15208320<eos><eos><eos><eos>This is a computational problem that involves finding the product of two numbers. The answer is ',\n",
       "  '<bos><start_of_turn>user\\n\\nWhat is 3940 * 3892?\\n\\n<start_of_turn>model\\n\\nSure, 3940 * 3892 = 1515648.<eos><eos><eos><eos><eos><eos> The answer is 1515648<eos><eos>'],\n",
       " ['<bos><start_of_turn>user\\n\\nWhat is 3940 * 3892?\\n\\n<start_of_turn>model\\n\\nSure. \\n\\n3940 * 3892 = 1533288.<eos><eos><eos><eos><eos><eos> It is 1533288<eos><eos>',\n",
       "  '<bos><start_of_turn>user\\n\\nWhat is 3940 * 3892?\\n\\n<start_of_turn>model\\n\\nSure, 3940 * 3892 = 1489048.<eos><eos><eos><eos><eos><eos><eos> The answer is 1489048.',\n",
       "  '<bos><start_of_turn>user\\n\\nWhat is 3940 * 3892?\\n\\n<start_of_turn>model\\n\\n3940 * 3892 = 1538888.<eos><eos><eos><eos> This is the final answer.<eos><eos><eos><eos><eos><eos> This is the final answer.',\n",
       "  '<bos><start_of_turn>user\\n\\nWhat is 3940 * 3892?\\n\\n<start_of_turn>model\\n\\n3940 * 3892 = 1531608.<eos><eos><eos><eos><eos> 3940 * 3892 = 1531'],\n",
       " ['<bos><start_of_turn>user\\n\\nWhat is 3940 * 3892?\\n\\n<start_of_turn>model\\n\\n3940 * 3892 = 1510368<eos><eos><eos>The answer is 1510368<eos><eos><eos><eos><eos><eos>The answer is',\n",
       "  '<bos><start_of_turn>user\\n\\nWhat is 3940 * 3892?\\n\\n<start_of_turn>model\\n\\n3940 * 3892 = 1510168<eos><eos><eos>The answer is 1510168<eos><eos><eos><eos> leaving the answer as ',\n",
       "  '<bos><start_of_turn>user\\n\\nWhat is 3940 * 3892?\\n\\n<start_of_turn>model\\n\\nSure. \\n\\n3940 * 3892 = 15403360.<eos><eos>This value can be found by using multiplication.<eos><eos><eos><eos>This value',\n",
       "  '<bos><start_of_turn>user\\n\\nWhat is 3940 * 3892?\\n\\n<start_of_turn>model\\n\\n3940 * 3892 = 151024<eos><eos>The answer is 151024<eos><eos><eos><eos>3940 * 38'],\n",
       " ['<bos><start_of_turn>user\\n\\nWhat is 3940 * 3892?\\n\\n<start_of_turn>model\\n\\n3940 * 3892 = 153104<eos><eos><eos><eos><eos>The final answer is 153104<eos><eos><eos><eos><eos><eos><eos> The',\n",
       "  '<bos><start_of_turn>user\\n\\nWhat is 3940 * 3892?\\n\\n<start_of_turn>model\\n\\n3940 * 3892 = 14068720<eos><eos><eos><eos>The answer is 14068720<eos><eos><eos><eos><eos>The',\n",
       "  '<bos><start_of_turn>user\\n\\nWhat is 3940 * 3892?\\n\\n<start_of_turn>model\\n\\n3940 * 3892 = 1571632<eos><eos><eos><eos>The answer is 1571632<eos><eos><eos><eos><eos><eos> The answer',\n",
       "  '<bos><start_of_turn>user\\n\\nWhat is 3940 * 3892?\\n\\n<start_of_turn>model\\n\\nSure, 3940 * 3892 = 15507360.<eos><eos><eos><eos><eos> 3940 * 3892 = ']]"
      ]
     },
     "execution_count": 23,
     "metadata": {},
     "output_type": "execute_result"
    }
   ],
   "source": [
    "from micrlhf.utils.activation_manipulation import add_vector\n",
    "from micrlhf.sampling import sample\n",
    "import numpy as np\n",
    "\n",
    "layer = layer_source\n",
    "repeat = 4\n",
    "act_add = add_vector(llama,\n",
    "                     jnp.tile(vectors / jnp.linalg.norm(vectors, axis=-1, keepdims=True) * scale, (repeat, 1)),\n",
    "                     layer, position=\"last\")\n",
    "\n",
    "texts, cached = sample(act_add, tokenizer, prompt,\n",
    "       batch_size=bs * repeat, do_sample=True, return_model=True)\n",
    "np.array(texts).reshape(repeat, bs).T.tolist()"
   ]
  },
  {
   "cell_type": "code",
   "execution_count": 24,
   "metadata": {},
   "outputs": [
    {
     "data": {
      "application/vnd.jupyter.widget-view+json": {
       "model_id": "1661637a47ba4ce38ba44d02eef71701",
       "version_major": 2,
       "version_minor": 0
      },
      "text/plain": [
       "  0%|          | 0/1000 [00:00<?, ?it/s]"
      ]
     },
     "metadata": {},
     "output_type": "display_data"
    }
   ],
   "source": [
    "addition = start_add\n",
    "opt_state = optimizer.init(addition)\n",
    "for _ in (bar := trange(iterations)):\n",
    "    loss, addition, opt_state, aux = train_step(addition, opt_state)\n",
    "    bar.set_postfix(loss=loss)"
   ]
  },
  {
   "cell_type": "code",
   "execution_count": 25,
   "metadata": {},
   "outputs": [
    {
     "data": {
      "application/vnd.jupyter.widget-view+json": {
       "model_id": "2e017da8b20d4f46b7bf551f4804465d",
       "version_major": 2,
       "version_minor": 0
      },
      "text/plain": [
       "  0%|          | 0/42 [00:00<?, ?it/s]"
      ]
     },
     "metadata": {},
     "output_type": "display_data"
    },
    {
     "data": {
      "text/html": [
       "<div id=\"output_d1145f029a9b4acdb61fc6a5887722d6\"><script> /* penzai.treescope rendering of a Python object (compressed) */ (()=>{ let observer; let lastStep = new Promise((resolve, reject) => { observer = new IntersectionObserver((entries) => { for (const entry of entries) { if (entry.isIntersecting) { resolve(); observer.disconnect(); return; } } }, {rootMargin: \"1000px\"}); }); window.treescope_decompress_enqueue = (encoded, destId) => { const previous = lastStep; const destElt = document.getElementById(destId); lastStep = (async () => { await previous; let blob = new Blob([ Uint8Array.from(atob(encoded), (m) => m.codePointAt(0)) ]); let reader = blob.stream().pipeThrough( new DecompressionStream(\"deflate\") ).pipeThrough( new TextDecoderStream(\"utf-8\") ).getReader(); let parts = []; while (true) { let step = await reader.read(); if (step.done) { break; } parts.push(step.value); } let newElt = document.createElement(\"div\"); newElt.innerHTML = parts.join(\"\"); destElt.parentNode.replaceChild(newElt, destElt); for (let oldScript of newElt.querySelectorAll(\"script\")) { let newScript = document.createElement(\"script\"); newScript.type = oldScript.type; newScript.textContent = oldScript.textContent; oldScript.parentNode.replaceChild(newScript, oldScript); } })(); requestAnimationFrame(() => { observer.observe(destElt); }); } })(); </script><div id=\"compress_html_7e0d83147a214226a202232659e22876\"><script>window.treescope_decompress_enqueue(\"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\", \"compress_html_7e0d83147a214226a202232659e22876\");</script><span style=\"color: #aaaaaa; font-family: monospace\">(Loading...)</span></div></div>"
      ],
      "text/plain": [
       "<IPython.core.display.HTML object>"
      ]
     },
     "metadata": {},
     "output_type": "display_data"
    },
    {
     "data": {
      "text/html": [
       "<div id=\"output_dest_d1145f029a9b4acdb61fc6a5887722d6\"><script> (()=>{ const output = document.getElementById(\"output_d1145f029a9b4acdb61fc6a5887722d6\"); const dest = document.getElementById(\"output_dest_d1145f029a9b4acdb61fc6a5887722d6\"); dest.parentNode.replaceChild(output, dest); })(); </script></div>"
      ],
      "text/plain": [
       "[['<bos><start_of_turn>user\\n\\nWhat is 3940 * 3892?\\n\\n<start_of_turn>model\\n\\n- The question and answer are:\\n\\n3940 * 3892 = 1468960\\n\\n- The output should be an integer between 0 and 10',\n",
       "  '<bos><start_of_turn>user\\n\\nWhat is 3940 * 3892?\\n\\n<start_of_turn>model\\n\\n. .\\n\\n3940 * 3892 = 149176<eos><eos><eos>4 digit number.<eos><eos>3940 * 3892 = ',\n",
       "  '<bos><start_of_turn>user\\n\\nWhat is 3940 * 3892?\\n\\n<start_of_turn>model\\n\\n  Sure. \\n\\n3940 * 3892 = 142056.\\n\\n .<eos>The computation results in the ,value of their product being 142',\n",
       "  '<bos><start_of_turn>user\\n\\nWhat is 3940 * 3892?\\n\\n<start_of_turn>model\\n\\n= 3940 * 3892\\n\\n= 3940 + 3892\\n\\n= 3940 + 3892 * 10'],\n",
       " ['<bos><start_of_turn>user\\n\\nWhat is 3940 * 3892?\\n\\n<start_of_turn>model\\n\\n3940 * 3892 = 1491368<eos><eos><eos><eos><eos><eos><eos><eos><eos><eos><eos><eos><eos><eos><eos><eos><eos><eos><eos><eos><eos><eos><eos>',\n",
       "  '<bos><start_of_turn>user\\n\\nWhat is 3940 * 3892?\\n\\n<start_of_turn>model\\n\\n3940 * 3892 = 149748<eos><eos><eos><eos><eos><eos><eos><eos><eos><eos><eos><eos><eos><eos><eos><eos><eos><eos><eos><eos><eos><eos><eos><eos>',\n",
       "  '<bos><start_of_turn>user\\n\\nWhat is 3940 * 3892?\\n\\n<start_of_turn>model\\n\\n3940 * 3892 = 146912<eos><eos><eos><eos><eos><eos><eos><eos><eos><eos><eos><eos><eos><eos><eos><eos><eos><eos><eos><eos><eos><eos><eos><eos>',\n",
       "  '<bos><start_of_turn>user\\n\\nWhat is 3940 * 3892?\\n\\n<start_of_turn>model\\n\\n3940 * 3892 = 1470432<eos><eos><eos><eos><eos><eos><eos><eos><eos><eos><eos><eos><eos><eos><eos><eos><eos><eos><eos><eos><eos><eos><eos>'],\n",
       " ['<bos><start_of_turn>user\\n\\nWhat is 3940 * 3892?\\n\\n<start_of_turn>model\\n\\nSure, here is 3940 * 3892 = 1538048.<eos><eos><eos><eos><eos> The answer is 1538048.',\n",
       "  '<bos><start_of_turn>user\\n\\nWhat is 3940 * 3892?\\n\\n<start_of_turn>model\\n\\nSure, 3940 * 3892 = 149304.<eos><eos><eos><eos><eos> The answer is 149304<eos><eos><eos><eos><eos>',\n",
       "  '<bos><start_of_turn>user\\n\\nWhat is 3940 * 3892?\\n\\n<start_of_turn>model\\n\\n3940 * 3892 = 148688<eos><eos><eos><eos><eos> The answer is 148688.<eos><eos><eos><eos><eos><eos><eos><eos>',\n",
       "  '<bos><start_of_turn>user\\n\\nWhat is 3940 * 3892?\\n\\n<start_of_turn>model\\n\\nSure, here is 3940 * 3892:\\n\\n= 149440\\n\\nTherefore, 3940 * 3892 = 1'],\n",
       " [\"<bos><start_of_turn>user\\n\\nWhat is 3940 * 3892?\\n\\n<start_of_turn>model\\n\\n3940 * 3892 = 148,088<eos><eos><eos><eos><eos> That's the answer.<eos><eos> The answer is 148,08\",\n",
       "  '<bos><start_of_turn>user\\n\\nWhat is 3940 * 3892?\\n\\n<start_of_turn>model\\n\\n3940 * 3892 = 1487536<eos><eos><eos><eos>The answer is 1487536.<eos><eos><eos><eos><eos>The answer',\n",
       "  '<bos><start_of_turn>user\\n\\nWhat is 3940 * 3892?\\n\\n<start_of_turn>model\\n\\n3940 * 3892 = 1580088<eos><eos><eos><eos> The answer is 1580088<eos><eos><eos><eos> The answer is ',\n",
       "  '<bos><start_of_turn>user\\n\\nWhat is 3940 * 3892?\\n\\n<start_of_turn>model\\n\\n3940 * 3892 = 1557688.<eos><eos><eos><eos><eos> 1557688<eos><eos><eos><eos><eos><eos> 15'],\n",
       " ['<bos><start_of_turn>user\\n\\nWhat is 3940 * 3892?\\n\\n<start_of_turn>model\\n\\n3940 * 3892 = 15596880<eos><eos><eos>The answer is 15596880<eos><eos><eos> The result of ',\n",
       "  '<bos><start_of_turn>user\\n\\nWhat is 3940 * 3892?\\n\\n<start_of_turn>model\\n\\n3940 * 3892 = 15217640.<eos><eos><eos>The answer is 15217640<eos><eos><eos> The answer is',\n",
       "  '<bos><start_of_turn>user\\n\\nWhat is 3940 * 3892?\\n\\n<start_of_turn>model\\n\\n3940 * 3892 = 1548088\\n\\nThe answer is 1548088<eos><eos><eos><eos><eos><eos><eos><eos><eos><eos><eos>',\n",
       "  '<bos><start_of_turn>user\\n\\nWhat is 3940 * 3892?\\n\\n<start_of_turn>model\\n\\nSure, 3940 * 3892 = 149504.<eos><eos><eos><eos><eos><eos><eos><eos><eos><eos><eos><eos><eos><eos><eos><eos><eos><eos><eos><eos>'],\n",
       " ['<bos><start_of_turn>user\\n\\nWhat is 3940 * 3892?\\n\\n<start_of_turn>model\\n\\nThe answer is 148,864.<eos><eos><eos><eos> 3940 * 3892 = 148,864<eos><eos><eos><eos><eos><eos>',\n",
       "  '<bos><start_of_turn>user\\n\\nWhat is 3940 * 3892?\\n\\n<start_of_turn>model\\n\\nThe answer to 3940 * 3892 is 150504.<eos><eos><eos><eos><eos><eos><eos><eos><eos><eos><eos><eos><eos><eos><eos><eos><eos><eos><eos>',\n",
       "  '<bos><start_of_turn>user\\n\\nWhat is 3940 * 3892?\\n\\n<start_of_turn>model\\n\\nThe answer is 149576.<eos><eos><eos><eos><eos><eos><eos><eos><eos><eos><eos><eos><eos><eos><eos><eos><eos><eos><eos><eos><eos><eos><eos><eos><eos><eos><eos><eos><eos><eos><eos>',\n",
       "  '<bos><start_of_turn>user\\n\\nWhat is 3940 * 3892?\\n\\n<start_of_turn>model\\n\\nThe answer is 1499376.<eos><eos><eos><eos><eos><eos> The answer is 1499376.<eos><eos><eos><eos><eos> The answer is 149'],\n",
       " ['<bos><start_of_turn>user\\n\\nWhat is 3940 * 3892?\\n\\n<start_of_turn>model\\n\\n3940 * 3892 = 15273680.<eos><eos><eos><eos><eos> 3940 * 3892 = 152',\n",
       "  '<bos><start_of_turn>user\\n\\nWhat is 3940 * 3892?\\n\\n<start_of_turn>model\\n\\nSure, here is the calculation:\\n\\n3940 * 3892 = 14968880.<eos><eos><eos><eos><eos> The answer is 1496',\n",
       "  '<bos><start_of_turn>user\\n\\nWhat is 3940 * 3892?\\n\\n<start_of_turn>model\\n\\nThe answer is 150180.\\n\\n3940 * 3892 = 150180.<eos><eos><eos><eos><eos><eos><eos><eos><eos><eos><eos>',\n",
       "  '<bos><start_of_turn>user\\n\\nWhat is 3940 * 3892?\\n\\n<start_of_turn>model\\n\\nThe answer is 1487976.\\n\\n3940 * 3892 = 1487976.<eos><eos><eos><eos><eos><eos><eos><eos><eos>'],\n",
       " ['<bos><start_of_turn>user\\n\\nWhat is 3940 * 3892?\\n\\n<start_of_turn>model\\n\\nSure, here is the answer to 3940 * 3892:\\n\\n3940 * 3892 = 152248\\n\\nTherefore, ',\n",
       "  '<bos><start_of_turn>user\\n\\nWhat is 3940 * 3892?\\n\\n<start_of_turn>model\\n\\n3940 * 3892 = 1483688<eos><eos><eos> The answer is 1483688<eos><eos><eos><eos><eos> The answer is ',\n",
       "  '<bos><start_of_turn>user\\n\\nWhat is 3940 * 3892?\\n\\n<start_of_turn>model\\n\\n3940 * 3892 = 1513384<eos><eos><eos><eos><eos> 3940 * 3892 = 15133',\n",
       "  '<bos><start_of_turn>user\\n\\nWhat is 3940 * 3892?\\n\\n<start_of_turn>model\\n\\nSure, 3940 * 3892 = 14958160.<eos><eos><eos><eos><eos>It is 14958160.<eos>'],\n",
       " [\"<bos><start_of_turn>user\\n\\nWhat is 3940 * 3892?\\n\\n<start_of_turn>model\\n\\nSure, here's the answer:\\n\\n3940 * 3892 = 15008160.<eos><eos><eos><eos>The answer is 1500\",\n",
       "  '<bos><start_of_turn>user\\n\\nWhat is 3940 * 3892?\\n\\n<start_of_turn>model\\n\\nSure, 3940 * 3892 = 156224.<eos><eos><eos><eos><eos> 3940 * 3892 = 15',\n",
       "  '<bos><start_of_turn>user\\n\\nWhat is 3940 * 3892?\\n\\n<start_of_turn>model\\n\\nSure, 3940 * 3892 = 151584.<eos><eos><eos><eos><eos><eos> The answer is 151584.<eos><eos><eos>',\n",
       "  '<bos><start_of_turn>user\\n\\nWhat is 3940 * 3892?\\n\\n<start_of_turn>model\\n\\nSure, 3940 * 3892 is 149016.<eos><eos><eos><eos> 3940 * 3892 = 149'],\n",
       " ['<bos><start_of_turn>user\\n\\nWhat is 3940 * 3892?\\n\\n<start_of_turn>model\\n\\n3940 * 3892 = 1452032.<eos><eos><eos><eos>The answer is 1452032<eos><eos><eos><eos><eos><eos> The',\n",
       "  '<bos><start_of_turn>user\\n\\nWhat is 3940 * 3892?\\n\\n<start_of_turn>model\\n\\nSure, 3940 * 3892 = 1521368.<eos><eos><eos><eos> 3940 * 3892 = 15',\n",
       "  '<bos><start_of_turn>user\\n\\nWhat is 3940 * 3892?\\n\\n<start_of_turn>model\\n\\nSure, 3940 * 3892 = 148 128.<eos><eos><eos>This problem is an arithmetic multiplication. The two numbers are multiplied together to get the',\n",
       "  '<bos><start_of_turn>user\\n\\nWhat is 3940 * 3892?\\n\\n<start_of_turn>model\\n\\nSure. 3940 * 3892 = 147,168.<eos><eos><eos><eos><eos>The answer is 147,168.<eos><eos>'],\n",
       " ['<bos><start_of_turn>user\\n\\nWhat is 3940 * 3892?\\n\\n<start_of_turn>model\\n\\n the answer is 3940 * 3892 = 14875960.<eos><eos>3940 * 3892 = 148',\n",
       "  '<bos><start_of_turn>user\\n\\nWhat is 3940 * 3892?\\n\\n<start_of_turn>model\\n\\n  3940 * 3892 = 15403520.\\n\\nIt is said to be the most significant number in human history., according to Forbes.<eos>',\n",
       "  '<bos><start_of_turn>user\\n\\nWhat is 3940 * 3892?\\n\\n<start_of_turn>model\\n\\n# 3940 * 3892\\n\\n= 3940 * 3892\\n= 3940 and 3892 have the same remainder',\n",
       "  '<bos><start_of_turn>user\\n\\nWhat is 3940 * 3892?\\n\\n<start_of_turn>model\\n\\n dividing 3940 by 3892 is: 3940 / 3892.<eos><eos>It is the result of dividing two numbers rounded to the nearest hundredth'],\n",
       " ['<bos><start_of_turn>user\\n\\nWhat is 3940 * 3892?\\n\\n<start_of_turn>model\\n\\n3940 * 3892 = 146288<eos><eos><eos><eos><eos><eos><eos><eos><eos><eos><eos><eos><eos><eos><eos><eos><eos><eos><eos><eos><eos><eos><eos><eos>',\n",
       "  '<bos><start_of_turn>user\\n\\nWhat is 3940 * 3892?\\n\\n<start_of_turn>model\\n\\n3940 * 3892 = 151156<eos><eos><eos><eos><eos><eos><eos><eos><eos><eos><eos><eos><eos><eos><eos><eos><eos><eos><eos><eos><eos><eos><eos><eos>',\n",
       "  '<bos><start_of_turn>user\\n\\nWhat is 3940 * 3892?\\n\\n<start_of_turn>model\\n\\n3940 * 3892 = 149288<eos><eos><eos><eos><eos><eos><eos><eos><eos><eos><eos><eos><eos><eos><eos><eos><eos><eos><eos><eos><eos><eos><eos><eos>',\n",
       "  '<bos><start_of_turn>user\\n\\nWhat is 3940 * 3892?\\n\\n<start_of_turn>model\\n\\n3940 * 3892 = 154432<eos><eos><eos><eos><eos><eos> 3940 * 3892 = 15443'],\n",
       " ['<bos><start_of_turn>user\\n\\nWhat is 3940 * 3892?\\n\\n<start_of_turn>model\\n\\nSure. 3940 * 3892 = 1548640.<eos><eos><eos><eos><eos>The answer is 1548640.<eos><eos>',\n",
       "  '<bos><start_of_turn>user\\n\\nWhat is 3940 * 3892?\\n\\n<start_of_turn>model\\n\\nSure, 3940 * 3892 = 149064.<eos><eos><eos><eos>The answer is 149064<eos><eos><eos><eos> The question',\n",
       "  '<bos><start_of_turn>user\\n\\nWhat is 3940 * 3892?\\n\\n<start_of_turn>model\\n\\nSure, 3940 * 3892 = 15012720.<eos><eos><eos>This calculation is an algebraic multiplication and the result is a number that is significantly',\n",
       "  '<bos><start_of_turn>user\\n\\nWhat is 3940 * 3892?\\n\\n<start_of_turn>model\\n\\nSure, 3940 * 3892 is equal to 152016.<eos><eos><eos><eos><eos> 3940 * 3892 = '],\n",
       " ['<bos><start_of_turn>user\\n\\nWhat is 3940 * 3892?\\n\\n<start_of_turn>model\\n\\n3940 * 3892 = 1492832<eos><eos><eos><eos><eos><eos><eos><eos><eos><eos><eos><eos><eos><eos><eos><eos><eos><eos><eos><eos><eos><eos><eos>',\n",
       "  '<bos><start_of_turn>user\\n\\nWhat is 3940 * 3892?\\n\\n<start_of_turn>model\\n\\n3940 * 3892 = 1493544<eos><eos><eos><eos><eos><eos><eos><eos><eos><eos><eos><eos><eos><eos><eos><eos><eos><eos><eos><eos><eos><eos><eos>',\n",
       "  '<bos><start_of_turn>user\\n\\nWhat is 3940 * 3892?\\n\\n<start_of_turn>model\\n\\n3940 * 3892 = 1489584<eos><eos><eos><eos><eos> 3940 * 3892 = 14895',\n",
       "  '<bos><start_of_turn>user\\n\\nWhat is 3940 * 3892?\\n\\n<start_of_turn>model\\n\\n3940 * 3892 = 1522192<eos><eos><eos><eos><eos><eos><eos><eos><eos><eos><eos><eos><eos><eos><eos><eos><eos><eos><eos><eos><eos><eos><eos>'],\n",
       " [\"<bos><start_of_turn>user\\n\\nWhat is 3940 * 3892?\\n\\n<start_of_turn>model\\n\\nSure, here's the answer to 3940 * 3892:\\n\\n3940 * 3892 = 1496168\\n\\nTherefore\",\n",
       "  \"<bos><start_of_turn>user\\n\\nWhat is 3940 * 3892?\\n\\n<start_of_turn>model\\n\\nSure, here's the answer to the question:\\n\\n3940 * 3892 = 149 984\\n\\nExplanations:\\n\\n* 3940\",\n",
       "  '<bos><start_of_turn>user\\n\\nWhat is 3940 * 3892?\\n\\n<start_of_turn>model\\n\\nSure. 3940 * 3892 is 1525288.<eos><eos><eos><eos><eos> This is the answer to 3940 * 38',\n",
       "  \"<bos><start_of_turn>user\\n\\nWhat is 3940 * 3892?\\n\\n<start_of_turn>model\\n\\nSure, here's the answer:\\n\\n3940 * 3892 = 1538568\\n\\nThe expression represents the multiplication of 3940 and \"],\n",
       " ['<bos><start_of_turn>user\\n\\nWhat is 3940 * 3892?\\n\\n<start_of_turn>model\\n\\nSure, 3940 * 3892 = 15227680.<eos><eos><eos><eos>The answer is 15227680<eos><eos>',\n",
       "  '<bos><start_of_turn>user\\n\\nWhat is 3940 * 3892?\\n\\n<start_of_turn>model\\n\\nSure, 3940 * 3892 = 1490432.<eos><eos><eos><eos><eos> 3940 * 3892 = 1',\n",
       "  '<bos><start_of_turn>user\\n\\nWhat is 3940 * 3892?\\n\\n<start_of_turn>model\\n\\nSure, 3940 * 3892 = 146368.<eos><eos><eos>The result of this multiplication is 146368.<eos><eos><eos>',\n",
       "  '<bos><start_of_turn>user\\n\\nWhat is 3940 * 3892?\\n\\n<start_of_turn>model\\n\\nSure, 3940 * 3892 = 155784.<eos><eos><eos><eos><eos><eos><eos> 3940 * 3892 = ']]"
      ]
     },
     "execution_count": 25,
     "metadata": {},
     "output_type": "execute_result"
    }
   ],
   "source": [
    "from micrlhf.utils.activation_manipulation import add_vector\n",
    "from micrlhf.sampling import sample\n",
    "import numpy as np\n",
    "\n",
    "layer = layer_source\n",
    "repeat = 4\n",
    "act_add = add_vector(llama,\n",
    "                     jnp.tile(addition / jnp.linalg.norm(addition, axis=-1, keepdims=True) * scale, (repeat, 1)),\n",
    "                     layer)\n",
    "\n",
    "texts, cached = sample(act_add, tokenizer, prompt,\n",
    "       batch_size=bs * repeat, do_sample=True, return_model=True)\n",
    "np.array(texts).reshape(repeat, bs).T.tolist()"
   ]
  },
  {
   "cell_type": "code",
   "execution_count": 26,
   "metadata": {},
   "outputs": [],
   "source": [
    "# from micrlhf.utils.activation_manipulation import add_vector\n",
    "# from micrlhf.sampling import sample\n",
    "# import numpy as np\n",
    "\n",
    "# layer = layer_source\n",
    "# repeat = 4\n",
    "# act_add = add_vector(llama,\n",
    "#                      jnp.tile(addition / jnp.linalg.norm(addition, axis=-1, keepdims=True) * scale, (repeat, 1)),\n",
    "#                      layer)\n",
    "\n",
    "# texts, cached = sample(act_add, tokenizer, prompt,\n",
    "#        batch_size=bs * repeat, do_sample=True, return_model=True)\n",
    "# np.array(texts).reshape(repeat, bs).T.tolist()"
   ]
  },
  {
   "cell_type": "code",
   "execution_count": 29,
   "metadata": {},
   "outputs": [
    {
     "data": {
      "text/html": [
       "<div id=\"output_79f84c9838934e99893afc3667f0a109\"><script> /* penzai.treescope rendering of a Python object (compressed) */ (()=>{ let observer; let lastStep = new Promise((resolve, reject) => { observer = new IntersectionObserver((entries) => { for (const entry of entries) { if (entry.isIntersecting) { resolve(); observer.disconnect(); return; } } }, {rootMargin: \"1000px\"}); }); window.treescope_decompress_enqueue = (encoded, destId) => { const previous = lastStep; const destElt = document.getElementById(destId); lastStep = (async () => { await previous; let blob = new Blob([ Uint8Array.from(atob(encoded), (m) => m.codePointAt(0)) ]); let reader = blob.stream().pipeThrough( new DecompressionStream(\"deflate\") ).pipeThrough( new TextDecoderStream(\"utf-8\") ).getReader(); let parts = []; while (true) { let step = await reader.read(); if (step.done) { break; } parts.push(step.value); } let newElt = document.createElement(\"div\"); newElt.innerHTML = parts.join(\"\"); destElt.parentNode.replaceChild(newElt, destElt); for (let oldScript of newElt.querySelectorAll(\"script\")) { let newScript = document.createElement(\"script\"); newScript.type = oldScript.type; newScript.textContent = oldScript.textContent; oldScript.parentNode.replaceChild(newScript, oldScript); } })(); requestAnimationFrame(() => { observer.observe(destElt); }); } })(); </script><div id=\"compress_html_4782ce272501478d8ecc7aa353e1ea30\"><script>window.treescope_decompress_enqueue(\"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\", \"compress_html_4782ce272501478d8ecc7aa353e1ea30\");</script><span style=\"color: #aaaaaa; font-family: monospace\">(Loading...)</span></div></div>"
      ],
      "text/plain": [
       "<IPython.core.display.HTML object>"
      ]
     },
     "metadata": {},
     "output_type": "display_data"
    },
    {
     "data": {
      "text/html": [
       "<div id=\"compress_html_16c61136a3f7425583c5af835350577c\"><script>window.treescope_decompress_enqueue(\"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\", \"compress_html_16c61136a3f7425583c5af835350577c\");</script></div>"
      ],
      "text/plain": [
       "<IPython.core.display.HTML object>"
      ]
     },
     "metadata": {},
     "output_type": "display_data"
    },
    {
     "data": {
      "text/html": [
       "<div id=\"output_dest_79f84c9838934e99893afc3667f0a109\"><script> (()=>{ const output = document.getElementById(\"output_79f84c9838934e99893afc3667f0a109\"); const dest = document.getElementById(\"output_dest_79f84c9838934e99893afc3667f0a109\"); dest.parentNode.replaceChild(output, dest); })(); </script></div>"
      ],
      "text/plain": [
       "(<jax.Array(0.82802397, dtype=float32)>,\n",
       " <jax.Array([31969, 13599], dtype=int32)>,\n",
       " <jax.Array([3.3512352, 1.6299734], dtype=float32)>)"
      ]
     },
     "execution_count": 29,
     "metadata": {},
     "output_type": "execute_result"
    }
   ],
   "source": [
    "from micrlhf.utils.load_sae import get_nev_it_sae_suite\n",
    "from micrlhf.utils.ito import grad_pursuit\n",
    "resid_out = aux[\"resid_out\"]\n",
    "refusal = (resid_out[{\"batch\": -6}] - resid_out.untag(\"batch\").mean()).unwrap(\"embedding\")\n",
    "sae = get_nev_it_sae_suite(layer_target)\n",
    "k = 2\n",
    "w, recon = grad_pursuit(refusal, sae[\"W_dec\"], k, pos_only=True)\n",
    "i = jax.lax.top_k(jnp.abs(w), k)[1]\n",
    "((recon - refusal) ** 2).mean(), i, w[i]"
   ]
  },
  {
   "cell_type": "code",
   "execution_count": 30,
   "metadata": {},
   "outputs": [
    {
     "data": {
      "application/vnd.jupyter.widget-view+json": {
       "model_id": "03ea510a7e04451592355c6d1c56cd43",
       "version_major": 2,
       "version_minor": 0
      },
      "text/plain": [
       "  0%|          | 0/42 [00:00<?, ?it/s]"
      ]
     },
     "metadata": {},
     "output_type": "display_data"
    },
    {
     "data": {
      "text/html": [
       "<div id=\"output_47ab1acf8cbd4cb7babb53cea27f47b7\"><script> /* penzai.treescope rendering of a Python object (compressed) */ (()=>{ let observer; let lastStep = new Promise((resolve, reject) => { observer = new IntersectionObserver((entries) => { for (const entry of entries) { if (entry.isIntersecting) { resolve(); observer.disconnect(); return; } } }, {rootMargin: \"1000px\"}); }); window.treescope_decompress_enqueue = (encoded, destId) => { const previous = lastStep; const destElt = document.getElementById(destId); lastStep = (async () => { await previous; let blob = new Blob([ Uint8Array.from(atob(encoded), (m) => m.codePointAt(0)) ]); let reader = blob.stream().pipeThrough( new DecompressionStream(\"deflate\") ).pipeThrough( new TextDecoderStream(\"utf-8\") ).getReader(); let parts = []; while (true) { let step = await reader.read(); if (step.done) { break; } parts.push(step.value); } let newElt = document.createElement(\"div\"); newElt.innerHTML = parts.join(\"\"); destElt.parentNode.replaceChild(newElt, destElt); for (let oldScript of newElt.querySelectorAll(\"script\")) { let newScript = document.createElement(\"script\"); newScript.type = oldScript.type; newScript.textContent = oldScript.textContent; oldScript.parentNode.replaceChild(newScript, oldScript); } })(); requestAnimationFrame(() => { observer.observe(destElt); }); } })(); </script><div id=\"compress_html_c69ae670af8e4559959e035dae974108\"><script>window.treescope_decompress_enqueue(\"eNrtnQtX08oWgP/K2LOWFoXSV4qAcG+LvFRUBEU9x8WaJtM2Ni8mE0q5y/9+90zSd0ByKBDDFpU2nffsvb+ZafbOK1/0LbZZEJwxX3c9dspdV5D/Ec/1TWG6zhrhzKLCPGfrpOU6YqlFbdPqrxHbdVzfozpc73VMwZbUmzXicbhimb5YUkUvib4HVx3XgctNqnfb3A0cY0l3LZevhVnXSfSuaUECKM80RGeNtEwByRzBHLFObMrbprNksZZYI2W9I+tw2FKHme0OXCkVtHXy69Vy2J1Xvs5NT2wSs0XyPdMx3N6oh2RjY4NAE1gLCjAWoK+zKcj/fq3PXC6ceswxTKdd1+XI+JDs7x+/TbZHHcOSRTqBZcWkbjNxOjX6GyQ/GPRT4S6QjU1o5PJz8s51uzAJnIgOIyql4xqsQJ4vE4sJEuUdy6qmBirPh5892SCGqwc2DGih6Rp98vQpeSI/KegW9f13MGkFOeDUdPx8brJRuQUih2pQh8zkUQ4lbVvMVjP0C2oWAXfUh/A2pq88cI5c15Ed7Lm8G/UMqvQFtOwELsmPJi4LU5cXPcah4zZ1dFZw3F5+Ydi1mU/IUpjpFamUZZPjZGB6KgsWc9qiA6JBinEScf2chv2WI8Asn42a3gkc2fbfVu53zJaQXVI55Itf8HPTNuQHKTk7C5gv6o5pU5lih1Ob5cNxXViIn5HppniB3wnnZv0mAzdoxEY4FEmG7ubNjm04cyBXwF6zFuOcGcfM9kDsmT8rQJ4lLw4FH7Lx/hGzmC5cXrcsEPQo77gRDJxTHyQ1t7CuFC4v9QtKIm5LFSg7Cr/H9IYz2z1nE1ozVsZVmpAftFWW3+LuJZPKoUoODd9kc/O50LDJImUOeDfeNZ0z6EakkONp4VVB2mFIHFai3kXX2YXYCisb+3h0cV01J9T199LccAajpbMtUD8jDyUsygRynq6cK+G221ZoRk6V9RfQMGXl4AqzxCJh51B6NBRS7NT7Qpf1pUbmeG5geiDx2JiH5eZzwzJPbWhgbtCOXwR4EILglWGeE5VxY9quEUGb0GB2sZEr5ojrQKXQemcsXXz786Jj+oOW5wA5IUgVyU59SOG0lQwqsP1FKyWtJBFVaLmWQZtQnLTdV4D2F5lMdhq2AFIbpg+j3x8AdToh2SQWbTJrba3JQG7ZWAt09Wc9tr6QqkslidUIvsX1UV2mo1jbtFxJ5yvr7IAC8NmaDcq7PqNtGE5nNvea44r81KUO9fObqszN2HFQedb0DtO7APAF8nxh1AaZNT7TIP1EC5WIr5Fn/5S1pv7sIZs3menKRtbuoZFyHmXFAfflBHquCS3gMfWa/vyqVaqgKlpSOuVfJePzqXXUPWnrZmspmP5py+S+OHWdUyn+Map1nSoVyprUptipIrdufjjj002UvZpYJyuF/lWQ5g0G1jjVpc2ek7SM2aLIMExUrVNLz8M6HVZjJe9CmeSpdgBQ7qwpTZcbIEhhUwxXQKWyGeQvVpQ/clD8DiDNOO1R7oCpPh3I4MBctlpUL1ViEnqALph6asg1zRKPth9yoKP+R5eWigUlAaM9z5raslC+1ObUMCWiSxXNYO1F4nLqtBkpkmKhpncAqPDeD5EbXiLhAM42ZUYG5jakE7M56MyvQq/DnFMYJIt6Pgzqb4mUuPJragg5pOpQidiFB6vJK9PMox1xVUQd/W+0HdalKZjYGj87gGUYN6lFjvp204X154dAyGYZZLDS2nK9/rNoR61WDrJY2MVY0bVetK+tFkFYfa6vkYBbeYMKuiY/X+65rVZ5vUl9VqsuGsXV3YN2vVFXf/YP63VXvWp86sH/ezv1+nb9uj8Nu15vd923xv52Y6v3rV4//rb1pn6w39iq77Qv9vfedYTfODBZu7Lz+mv53X7t2/mRF5gfD7Tj0puv+5++HJyfHFyKj/2dna0XJ+3usdl4XeyYrw+DN9vG7s/iXnO5db5veGdva52zE9M8DA6c3c5e67Oof6413vNqfWff6W7X9M9B4Lz4pJ3pfrd33tqxls8u2tvuy3bzTW/3ZWmvvuzUP2nvOH9T+vSifVn8ZBTrb1ql9vuVrd7uz3K76PaDTysr9nap1tv7uvqh3fbYcbdfZfvNS01v8g+7gtbbh/vve6+p3/cPg/39ryfbO736x0Nv/5vxeXn5RXvleOVrRRRbbz+e1c81KPNd/f1K/aBXt9uXn45eBN+P2PbXi3Krpl++r37a62tBo/72svHT2/Eq5t7h1nbxe/CxerTitBrvtvd2Duy6+eLl+Xa545Q6Ky+aX3pff/b2+Pnr3c9bzs/W9nZbvPigf7esFW11602v8bKzWj042D2q7H6vt+197WfjcFUc77K91e1GY3+38rpd/bT8Te8367swp1/eLtcPd2mdHWxZ9b3L7Q/t76Jda3xsf/iw/7rRNQ81ttP4utXY0c2i1+Gu54BseN+3X5cuS92j1lZLdPpvnT2D7vh7reJ7e3f7fa1h1M++fPGo8I++24ZBzdVy63K1+tn8eVbzbF774H7bOjL5rn3+ZrdydHJU2dku643D1vGLPcv1dqs7fk+j7bPaS/M7O3pveSdOY2+fGQecBSdnu1t26WSHd4+OLrRy7eTE79WhRQtE7eBF/pkS62cL81BfWLn3m4EQrhNrpEYfxy21ciQ3lQrwDxY5PvE/rFQ1cuv/1giAsje7JuRUxsCGXUYHrPsaoY6A7CbouDE8IRsCbGZxFuY2L8GSFAurzJ7uZbiqi+lF/CJ9lLPQo/6pbplyYIf5aUuEa8Sp3cV1dU7lmaxyfOjJOeX5pSVp7ZaoAxOrzgUWxi/LSuSBiQRltAZTxZKSTxiM2BKgyw1Esq4MWwATYzLjyWRLVJXkiWl7LhfUmSm7yd2uIpfXHy2hfz+6Y9nGxnO4Tpk+0pzZXHfUgYrKH3YNNtZg3Ryd5MMaJk/ZoCfHrhQ8SBa1QF7zmVCNkkMq20F71BTEoedmmwqXw6bb9Jou5Uahx03BjmHNnB+VBTMRlTXanMMCKZ8bG291DsHEsWkzmJjhwcdMvsFBylTWX4ukXCwWlWnQqYAlUV6td+PrHRvU3Khxk0cdeZjev8gONS0QBuESmfiJ0klY+zgBtaw+rCZ8waghZeLF+NhFRwyj8wUpSoMDhsnd8fQCLbf5KjRjr0zHCwSRJzEbOWW4mu5FLraQyMbBh6F923y1rDJP1tuBkjhU0T0VsHZjIqdavNRlfbDmnY1cbvNvaDBkgOxRE8azz6zOc9d9nktW99/FH7n7GqXR6MR1c/yAZqpJkyvP3ObTs8AV608tsd50/aft8KUPHYRmtk7lma+8GPiM/+P845x0qIB+kMpqtUiek8rL1fJ/5PXYTPKgypKfHgWcLZIO4+zpXxfllXVfHe6DVesxviYTjBUHQlvStGK1WizIT447UJsZZvC4awS6UOeTPZc4gd1k3IedBWxcm0yeRVXC3gwkYKbfg5Vu7nZSEfbiZmMWpo1rUXypyXPEz8nd13vdnN9p7WqOfyNTVwvCvLp/lcze/cAn1YmJ4n//a/Fae0ESKtez0TLgGbRqS9Ju49k1aFdnzgvPyHA9spHLW9RuGlSdjq+p/8HULuSIWjVs5MbWLrAkjU8sl6DTiy1IrEAnrTe8jtp9/RDNDxYlhAXCAmGBsEBY3DUsSklgUUojLMoIi3uEhW+2HbNl6hT20C2zDXVASkelDHWGIDoQHY8ZHTfQkCyCpJwEJOU0gqSCIEkHSFomswxIhyRBkiBJrleRLKKkkgQllTSipIooQZQgShAliJKHRUk1CUqqaUSJhiiZD0pWECWIkj8bJSuIkodDiZYEJVoaUVJDlMwDJRWtOh+SEN21YYwYR6QgUh4EKUNRTjtRRqqSRbTUkqCllka0rCBa5oIW+FWcRcs5tQImtUCltgNLmJ5lMoM0+/h1O7LjgdgxkNX7Zce1upBFOKwkgcNKGuHwEuGAcEA4IBwQDvOGw8skcHiZRjisIhwQDggHhAPCYd5wWE0Ch9VUOgKi2zjSAemAdEA6zN/zL5GfeCmdjuLoKY58QD4gH5AP8+dDMtfwVPqGl9A5fA58gNKp53H3QkboZ1ZfRiUtLsoHMOidGfWgctBMnVogOq7eJR43dabIsi8GdVGEB8LjAeAxF0G++zG7UlGyQpZEvuKlVDqLl9BbfD5kUcu5iZ0HVY+PkirouzYj0JxWYBHOfDfgOvNBEFWRPdYktOnKsYR3wgVdRawgVh4GKwMpvr89yS20JJO7lURO46VUeo2X0G18PkyZ2a+PrfE4o4YJSz96Tk1LDstAU1QcdYeJAtkXoxvVYc2HPn8IlgcDy/xFOZPWP5GfdymVjt4l9PRG64/WH60/Wv+k1j+Ra3Yplb7ZJXTOvgPrL9+Mnd6qZ/mq9Ori2KmTEz6BCsSA6NDfpkwaOIZUqXPKTTfwEQIIgRRA4LcSfV8nUDfQmEyyJpGvdimVztol9NZG1iBrkDXImnSzJpHrdymVvt8ldP5OF2sC+VBtmd50zhkk50gbpA3S5lraxOhMJnmTyJu8lEp38hL6k98Tb6iKyUadfnRz74SyyOcpU0sPLCpYdOeJoPL2lHPmBFF+5A5yJ6XcGZftu5+cf6M7meRPIof1Uio91svosX5T/lDS5Ix2DbfnDP2qQHBUgQVy3GF9QjkjTVd0pDrariO/7fS7oCJnASzDYK79RZVDDNK6LcGcUIuiAKI+tRnp0RBSe+O1I34eL37uW/TulHCq7GtEOysPGEzkr15Opb96Gf3V74IOV94K02PNWcNP/MC2Ke8PFn8tqgt5O41cb6nVFz79HNEwD7m7Z6ufVK6zwoVEfurldD7DHP3UkQvIBeQCcmF+XEj2RPJUepmX0ct8PlwYC6kw7SqrDlQDmCYYR8gA/VNa0qS+qfuyKI+7bU5tW34iSwwfRQPvrkUIsgJZcb+y+HBYySY/EnmUl1PpUV5Gj3LkB/ID+YH8uH9+JPJJL6fSJ738R/qkJ7Bpt+fHZCyeuPg7Az/cUapxLWQX1PYs5g88e6fuBOkwyyMGO2cWiCL3icUod6KIPr7bEj156BB9bsNMF2S72ajfd/3ySguAlMoMpVRKlPg4ic8KqxJ50JdT6UFfriGrkFXIKmQVsirTrErkgV9OpQd+eQVZhaxCViGrkFWZZlUiD/5yKj34yy+RVXfMqrF7cYZRusPI3jFqGTr3y6N+y3J76iAfUqgg4FLF5dcBcjp95dT5nDx/LntVQKAgUO5YLO/DP/9GYn/3DblCrbJCrURxAMqpjANQXkVqxVJL6tDAh20mmhKd8ITWO1DIyETc7LvmsecnDXyo73khiVsyJOitMYMqgnu4iG+JohKUUxmVoFJEGiINkYZIQ6Qh0vA2NKwkisJQSWUUhkoJaYg0RBoiDZGGSMNb0TBR7IlKKmNPVMpIw+Q0HAb48qUQiUVCJx+0NbQFExkHkcHUJzblXSaQgEjA7BAQ1eIxUC9RZI1KKiNrVCpIvSupd722NvukZbYD2V4yeLB8zLKVzIY1VregDWPog6Z35T0EuunLeJrRrWjhvWuQOEwnbQMslJtM9BhziGG2Wgw4IUa3MxQQXgivJPB63NKdFQYlis5RSWV0jkoVGZQuBhVwr4W4Qlz9mYqQFbIlihtSSWXckArGDUGyIdmQbEg2JNuIVYmijFRSGWWkglFGkGxINiQbkg3JNmJVopgklVTGJKlgTBIkG5INyYZkQ7KNWJUogkkllRFMKhjB5BZkGzyL+po7lDOqz8g4ZByqxKOiXaLIJ5VURj6pYOQTpB3SDmmHtEPaXU+7RJFNKqmMbFLFyCa3OrUceZ7qluvLW5KjaH+hG84i8WnfV/8VSF6FvKtWQ3/WDqOW6PQjHZcxABcwSDJy6iFPHrMjzBkhTDVRtJBqKqOFVDFayP0Rpu26MA4FWFcuoGM0QurRQyrr+pAVziWKA1JNZRyQKsYBuTfOyTWnM7bYLMSenjQDmMaxxanncgHDaboF5BZyK83c+uPkOyscShSZo5rKyBxVjMyBHEIOIYeQQ38uhxJF56imMjpHFaNzzJ9DlHgW1dWTqaKgNwVZ+1WH8Iugm9BC1UiQivAbZ2iIKfoFkp8MtzqbBNGB6Ei1SGbF2ieKWFFNZcSKKkasuB9rP3akPaYflglz9wMdnhArWcZK1mQ/K/xKFJeimsq4FFWMS5GQX1fpcdyir0CS/URrx/CxtINYnsiNR8+NB5a5rNjrRNEWqqmMtlDFaAtX2+uxZRTkl0pjTj61fPy+mFDww1VUYahl0UPNm5zyvtKN4Xor1DSpfeGrgnwZt5kPL1M024/JbKdY9LJivRNFFKimMqJAFSMKoPVG643W+/FZ70Qe8tVUeshX0UM+ifUe04yx78SyeXM6fk+A6JkXelBv8DuGEQkT+dpXU+lrr6GvfTw368Pj22iNOK7+8G9K5ycXnvlmfykyDfBp4af/I0qgjo0LU79GiUevEDSPBTSpErSMWGYtkY+6lkofdQ191P+1ZR5u7Ge38j9weYY7HATPzcCDeoQ7nglSJvKJ11LpE6+hT/zcdzzD9WjCH4QNwuaehCsrFjiRN7iWSm9wDb3B/7UFJpxZVIcppAYtEI+7bU5tW95vGC7RcFmGOx2ET3L4oF7hzuda7ibyftdS6f2uoff7XLiLJgEBjAC+QwCjgiGJryZxosgEWiojE2gYmSCexPnBLVeTt1751DTkPb/D7yOm79u96tXgb9ySfuIG3x+FUYwpQjmb/hd9hy5LC18M3zYxJs2j4VgGxDMrFEjk36+l0r9fQ//+lFEAv61CO/+gdv4xfqOVyPNfS6Xnv4ae/8ktOaxlpBZM/ppUrIF7RZzWjMeAhZfDtHjzAZrzBOY8XVKYFZueKB6Alsp4ABrGA7ihTY+PkBezThoox+TViaCs0W8042jGf2/G0yR4WbHciWIBaKmMBaBhLIDbWm7XGXcrI/mAWyT6V/jpKz+zm/ygbUbbfC+ilRXrm8ijXEulR3kNPcrR+qL1Rev7x1nfWiKv8VoqvcZr6DV+K+s7/enEdzjxm0r0ekO7fDu7fP9ClxWLncgfuZZKf+Qa+iMntNg3WNwMw9zc6C8a5EdvkO9YprJibxN5H9dS6X1cQ+9jtLdobx+7vb1O7BZTYm0T+ZzW5uhzGv76cZNhGOQwzHNIqHPTE5s9EAa3VxgNAHPOAhaw16zFOGfGMbNhygXz8wuQP8zzf5hUiWk=\", \"compress_html_c69ae670af8e4559959e035dae974108\");</script><span style=\"color: #aaaaaa; font-family: monospace\">(Loading...)</span></div></div>"
      ],
      "text/plain": [
       "<IPython.core.display.HTML object>"
      ]
     },
     "metadata": {},
     "output_type": "display_data"
    },
    {
     "data": {
      "text/html": [
       "<div id=\"output_dest_47ab1acf8cbd4cb7babb53cea27f47b7\"><script> (()=>{ const output = document.getElementById(\"output_47ab1acf8cbd4cb7babb53cea27f47b7\"); const dest = document.getElementById(\"output_dest_47ab1acf8cbd4cb7babb53cea27f47b7\"); dest.parentNode.replaceChild(output, dest); })(); </script></div>"
      ],
      "text/plain": [
       "[\"<bos><start_of_turn>user\\n\\nWhat is 3940 * 3892?\\n\\n<start_of_turn>model\\n\\nSure, here's the answer:\\n\\n3940 * 3892 = 1550440.\\n\\nThis is the product of two numbers, one being 3\",\n",
       " \"<bos><start_of_turn>user\\n\\nWhat is 3940 * 3892?\\n\\n<start_of_turn>model\\n\\nSure, here's the answer:\\n\\n3940 * 3892 = 1550440.\\n\\nThis is the product of two numbers, one being 3\",\n",
       " \"<bos><start_of_turn>user\\n\\nWhat is 3940 * 3892?\\n\\n<start_of_turn>model\\n\\nSure, here's the answer:\\n\\n3940 * 3892 = 1550440.\\n\\nThis is the product of two significant figures in the number \",\n",
       " \"<bos><start_of_turn>user\\n\\nWhat is 3940 * 3892?\\n\\n<start_of_turn>model\\n\\nSure, here's the answer:\\n\\n3940 * 3892 = 1550440.\\n\\nThis is the product of two significant figures in the field of\",\n",
       " \"<bos><start_of_turn>user\\n\\nWhat is 3940 * 3892?\\n\\n<start_of_turn>model\\n\\nSure, here's the answer:\\n\\n3940 * 3892 = 1550440.\\n\\nThis is the product of two significant figures in the field of\",\n",
       " \"<bos><start_of_turn>user\\n\\nWhat is 3940 * 3892?\\n\\n<start_of_turn>model\\n\\nSure, here's the answer:\\n\\n3940 * 3892 = 1570440.\\n\\nThis is the product of two significant figures in the field of\",\n",
       " \"<bos><start_of_turn>user\\n\\nWhat is 3940 * 3892?\\n\\n<start_of_turn>model\\n\\nSure, here's the answer:\\n\\n3940 * 3892 = 354440.\\n\\nThis is the product of two significant figures in the field of computer\",\n",
       " \"<bos><start_of_turn>user\\n\\nWhat is 3940 * 3892?\\n\\n<start_of_turn>model\\n\\nSure, here's the answer:\\n\\n3940 * 3892 = 389200.\\n\\nThis is the value of 3940 multiplied by \",\n",
       " \"<bos><start_of_turn>user\\n\\nWhat is 3940 * 3892?\\n\\n<start_of_turn>model\\n\\nSure, here's the answer:\\n\\n3940 * 3892 = 389200.\\n\\nThis is the value of 3940 multiplied by \",\n",
       " \"<bos><start_of_turn>user\\n\\nWhat is 3940 * 3892?\\n\\n<start_of_turn>model\\n\\nSure, here's the answer:\\n\\n3940 * 3892 = 389200.\\n\\nThis is the value of 3940 multiplied by \",\n",
       " \"<bos><start_of_turn>user\\n\\nWhat is 3940 * 3892?\\n\\n<start_of_turn>model\\n\\nSure, here's the answer:\\n\\n3940 * 3892 = 389200.\\n\\nThis is the value of 3940 multiplied by \",\n",
       " \"<bos><start_of_turn>user\\n\\nWhat is 3940 * 3892?\\n\\n<start_of_turn>model\\n\\nSure, here's the answer:\\n\\n3940 * 3892 = 389200.\\n\\nThis is the value of 3940 multiplied by \",\n",
       " \"<bos><start_of_turn>user\\n\\nWhat is 3940 * 3892?\\n\\n<start_of_turn>model\\n\\nSure, here's the answer:\\n\\n3940 * 3892 is approximately 4000, which is the value of a typical stock price.\\n\\nIt's a\",\n",
       " \"<bos><start_of_turn>user\\n\\nWhat is 3940 * 3892?\\n\\n<start_of_turn>model\\n\\nSure, here's the answer:\\n\\n3940 * 3892 is 38920.\\n\\nThis is a list of some useful resources on the web about the topic\",\n",
       " \"<bos><start_of_turn>user\\n\\nWhat is 3940 * 3892?\\n\\n<start_of_turn>model\\n\\nSure, here's the answer:\\n\\n3940 * 3892 is the value of 3940, which is readily available on the internet. It is the price of\",\n",
       " \"<bos><start_of_turn>user\\n\\nWhat is 3940 * 3892?\\n\\n<start_of_turn>model\\n\\nSure, here's the answer:\\n\\n3940 * 3892 is the value of 3940, which is readily available on the internet. It is the price of\",\n",
       " \"<bos><start_of_turn>user\\n\\nWhat is 3940 * 3892?\\n\\n<start_of_turn>model\\n\\nSure, here's the answer:\\n\\n3940 * 3892 is the value of the stock price for 3940 stock.\\n\\nThis information can be found on various\",\n",
       " \"<bos><start_of_turn>user\\n\\nWhat is 3940 * 3892?\\n\\n<start_of_turn>model\\n\\nSure, here's the answer:\\n\\n3940 * 3892 is the value of the stock price for 3940 stock.\\n\\nThis information can be found on various\",\n",
       " \"<bos><start_of_turn>user\\n\\nWhat is 3940 * 3892?\\n\\n<start_of_turn>model\\n\\nSure, here's the answer:\\n\\n3940 * 3892 is the value of the stock price for 3940 stock.\\n\\nThis information can be used for investors\",\n",
       " \"<bos><start_of_turn>user\\n\\nWhat is 3940 * 3892?\\n\\n<start_of_turn>model\\n\\nSure, here's the answer:\\n\\n3940 * 3892 is the value of the stock price for a company.\\n\\nIt can be used to calculate the total revenue for a\",\n",
       " \"<bos><start_of_turn>user\\n\\nWhat is 3940 * 3892?\\n\\n<start_of_turn>model\\n\\nSure, here's a breakdown of 3940 and 3892. They are both commonly asked questions, and they are often used in the same way.\\n\\nHere's a\",\n",
       " \"<bos><start_of_turn>user\\n\\nWhat is 3940 * 3892?\\n\\n<start_of_turn>model\\n\\nSure, here's a breakdown of 3940 and 3892. They are both readily available on the web.\\n\\nHere's a summary of the facts related to 3\",\n",
       " \"<bos><start_of_turn>user\\n\\nWhat is 3940 * 3892?\\n\\n<start_of_turn>model\\n\\nSure, here's a breakdown of 3940 and 3892. They are both readily available on the web.\\n\\nHere's a summary of the facts related to 3\",\n",
       " \"<bos><start_of_turn>user\\n\\nWhat is 3940 * 3892?\\n\\n<start_of_turn>model\\n\\nSure, here's a breakdown of 3940 and 3892. It's a useful resource for understanding the basics of programming and computing.\\n\\nHere's a summary of\",\n",
       " \"<bos><start_of_turn>user\\n\\nWhat is 3940 * 3892?\\n\\n<start_of_turn>model\\n\\nSure, here's a breakdown of 3940 and 3892. It's a useful resource for understanding the basics of programming and computing.\\n\\nHere's a summary of\",\n",
       " '<bos><start_of_turn>user\\n\\nWhat is 3940 * 3892?\\n\\n<start_of_turn>model\\n\\nSure, here is a list of resources on the web. It is a list of programming examples, which can be used to help developers learn about software development.<eos><eos><eos><eos><eos><eos><eos><eos><eos><eos>',\n",
       " '<bos><start_of_turn>user\\n\\nWhat is 3940 * 3892?\\n\\n<start_of_turn>model\\n\\nSure, here is a list of resources on the web. It is a list of programming examples, which can be used to help developers learn about software development.<eos><eos><eos><eos><eos><eos><eos><eos><eos><eos>',\n",
       " '<bos><start_of_turn>user\\n\\nWhat is 3940 * 3892?\\n\\n<start_of_turn>model\\n\\nSure, here is a list of resources on the web. It is a list of programming examples, which can be used to help developers learn about software development.<eos><eos><eos><eos><eos><eos><eos><eos><eos><eos>',\n",
       " '<bos><start_of_turn>user\\n\\nWhat is 3940 * 3892?\\n\\n<start_of_turn>model\\n\\nSure, here is a list of resources on the web. It is a list of programming related to the topic of software development.\\n\\nThe following are some helpful links:\\n\\n* **3940.',\n",
       " '<bos><start_of_turn>user\\n\\nWhat is 3940 * 3892?\\n\\n<start_of_turn>model\\n\\nThe question can be found on a stock price chart. It is a useful resource for understanding the value of a company.<eos><eos><eos><eos><eos><eos><eos><eos><eos><eos><eos><eos><eos><eos><eos><eos><eos><eos>',\n",
       " '<bos><start_of_turn>user\\n\\nWhat is 3940 * 3892?\\n\\n<start_of_turn>model\\n\\nThe question can be found on a stock price chart. It is a useful resource for understanding the value of a company.<eos><eos><eos><eos><eos><eos><eos><eos><eos><eos><eos><eos><eos><eos><eos><eos><eos><eos>',\n",
       " '<bos><start_of_turn>user\\n\\nWhat is 3940 * 3892?\\n\\n<start_of_turn>model\\n\\nThe question can be found on a stock price chart. It is a useful resource for understanding the value of a company.<eos><eos><eos><eos><eos><eos><eos><eos><eos><eos><eos><eos><eos><eos><eos><eos><eos><eos>',\n",
       " '<bos><start_of_turn>user\\n\\nWhat is 3940 * 3892?\\n\\n<start_of_turn>model\\n\\nThe question can be found on the same street, as the price of a stock can be found in the stock market.<eos><eos><eos><eos><eos><eos><eos><eos><eos><eos><eos><eos><eos><eos><eos><eos><eos><eos>',\n",
       " '<bos><start_of_turn>user\\n\\nWhat is 3940 * 3892?\\n\\n<start_of_turn>model\\n\\nThe price of a stock can be found by figuring out the value of a company. It can be used to help investors make decisions about which to invest in or between different resources.<eos><eos><eos><eos><eos><eos>',\n",
       " '<bos><start_of_turn>user\\n\\nWhat is 3940 * 3892?\\n\\n<start_of_turn>model\\n\\nThe price of a stock can be found by figuring out the value of a company. It can be used to help investors make decisions.<eos><eos><eos><eos><eos><eos><eos><eos><eos><eos><eos><eos><eos><eos><eos>',\n",
       " '<bos><start_of_turn>user\\n\\nWhat is 3940 * 3892?\\n\\n<start_of_turn>model\\n\\nThe price of a stock can be found by figuring out the value of a company. It can be used to help investors make decisions.<eos><eos><eos><eos><eos><eos><eos><eos><eos><eos><eos><eos><eos><eos><eos>',\n",
       " '<bos><start_of_turn>user\\n\\nWhat is 3940 * 3892?\\n\\n<start_of_turn>model\\n\\nThe price of a stock can be found by figuring out the value of a company. It can be used to help investors make decisions.<eos><eos><eos><eos><eos><eos><eos><eos><eos><eos><eos><eos><eos><eos><eos>',\n",
       " '<bos><start_of_turn>user\\n\\nWhat is 3940 * 3892?\\n\\n<start_of_turn>model\\n\\nThe price of a stock can be found by figuring out the value of a company. It can be used to help investors make decisions.<eos><eos><eos><eos><eos><eos><eos><eos><eos><eos><eos><eos><eos><eos><eos>',\n",
       " '<bos><start_of_turn>user\\n\\nWhat is 3940 * 3892?\\n\\n<start_of_turn>model\\n\\nThe price of a stock can be found by calculating the value of a company. It can be used to help investors make decisions.<eos><eos><eos><eos><eos><eos><eos><eos><eos><eos><eos><eos><eos><eos><eos><eos>',\n",
       " '<bos><start_of_turn>user\\n\\nWhat is 3940 * 3892?\\n\\n<start_of_turn>model\\n\\nThe price of a stock can be found by calculating the value of a company. It can be used to help investors make decisions.<eos><eos><eos><eos><eos><eos><eos><eos><eos><eos><eos><eos><eos><eos><eos><eos>',\n",
       " '<bos><start_of_turn>user\\n\\nWhat is 3940 * 3892?\\n\\n<start_of_turn>model\\n\\nThe price of a stock can be found by finding the closest to the market, says says. (3940.44 is a healthy investment).<eos><eos><eos><eos><eos><eos><eos><eos><eos><eos>',\n",
       " '<bos><start_of_turn>user\\n\\nWhat is 3940 * 3892?\\n\\n<start_of_turn>model\\n\\nThe price of a stock can be found by finding the closest to the market, says says. (google.com).<eos><eos><eos><eos><eos><eos><eos><eos><eos><eos><eos><eos><eos><eos><eos><eos><eos><eos>',\n",
       " '<bos><start_of_turn>user\\n\\nWhat is 3940 * 3892?\\n\\n<start_of_turn>model\\n\\nThe price of a stock can be found by finding the closest to the market, says says. is an investment. can be used to help build a healthy portfolio.<eos><eos><eos><eos><eos><eos><eos><eos><eos>',\n",
       " '<bos><start_of_turn>user\\n\\nWhat is 3940 * 3892?\\n\\n<start_of_turn>model\\n\\nThe price of a stock can be found by finding the closest to the market, says says. is an investment. can be used to help build a healthy portfolio.<eos><eos><eos><eos><eos><eos><eos><eos><eos>',\n",
       " '<bos><start_of_turn>user\\n\\nWhat is 3940 * 3892?\\n\\n<start_of_turn>model\\n\\nThe price of a stock can be found by finding the closest to a place is between. 394 is a healthy investment, but it is not a commodity. (a stock price is not a commodity',\n",
       " '<bos><start_of_turn>user\\n\\nWhat is 3940 * 3892?\\n\\n<start_of_turn>model\\n\\nThe price of a stock can be found by finding the closest to a place is between. (google.com is not a client].<eos><eos><eos><eos><eos><eos><eos><eos><eos><eos><eos><eos><eos><eos><eos>',\n",
       " '<bos><start_of_turn>user\\n\\nWhat is 3940 * 3892?\\n\\n<start_of_turn>model\\n\\nThe price of a stock can can be found by finding a healthy investment. . . . . . . . . . . . . . . . . . . . . . . . is a helpful resource',\n",
       " '<bos><start_of_turn>user\\n\\nWhat is 3940 * 3892?\\n\\n<start_of_turn>model\\n\\nThe closest to is can is on the web. (google.com) is a client. can can is a library. is is not a health by health. by is not a commodity. by is a',\n",
       " '<bos><start_of_turn>user\\n\\nWhat is 3940 * 3892?\\n\\n<start_of_turn>model\\n\\nThe closest to is can is on the web. (google.com) is a client. can can is a library. is is not a health by health. by is not a commodity. by is a',\n",
       " '<bos><start_of_turn>user\\n\\nWhat is 3940 * 3892?\\n\\n<start_of_turn>model\\n\\nThe closest to is can can can is is a health. (google.com).<eos><eos><eos><eos><eos><eos><eos><eos><eos><eos><eos><eos><eos><eos><eos><eos><eos><eos><eos><eos><eos><eos><eos><eos><eos>',\n",
       " '<bos><start_of_turn>user\\n\\nWhat is 3940 * 3892?\\n\\n<start_of_turn>model\\n\\nA healthy health can can can can. (google.com). is a client. (by-health.com.js]. is a stock. stock. stock. by-health.by-health.',\n",
       " '<bos><start_of_turn>user\\n\\nWhat is 3940 * 3892?\\n\\n<start_of_turn>model\\n\\nA healthy health can can can can. (a health is not a commodity].<eos><eos><eos><eos><eos><eos><eos><eos><eos><eos><eos><eos><eos><eos><eos><eos><eos><eos><eos><eos><eos><eos><eos><eos><eos><eos>',\n",
       " '<bos><start_of_turn>user\\n\\nWhat is 3940 * 3892?\\n\\n<start_of_turn>model\\n\\nA healthy health can can can can. (google.com). is a client client. . . . . . . . . . . . . . . . . . . . . . . . .',\n",
       " '<bos><start_of_turn>user\\n\\nWhat is 3940 * 3892?\\n\\n<start_of_turn>model\\n\\nA healthy health can can can can. ( relacionada. programming is not].<eos><eos><eos><eos><eos><eos><eos><eos><eos><eos><eos><eos><eos><eos><eos><eos><eos><eos><eos><eos><eos><eos><eos><eos><eos><eos><eos>',\n",
       " '<bos><start_of_turn>user\\n\\nWhat is 3940 * 3892?\\n\\n<start_of_turn>model\\n\\nA healthy health can can can can. ( relacionada is not].<eos><eos><eos><eos><eos><eos><eos><eos><eos><eos><eos><eos><eos><eos><eos><eos><eos><eos><eos><eos><eos><eos><eos><eos><eos><eos><eos><eos><eos>',\n",
       " '<bos><start_of_turn>user\\n\\nWhat is 3940 * 3892?\\n\\n<start_of_turn>model\\n\\n(closest closest to is said on a health health by health by health by health by by by by. programming is not a commodity.]. says says are are are are are. stock by stock stock by by',\n",
       " '<bos><start_of_turn>user\\n\\nWhat is 3940 * 3892?\\n\\n<start_of_turn>model\\n\\n(closest closest to is said on a health health by health by health by health by by by by. programming is not a commodity. . . . . . . . . . . . . . . .',\n",
       " '<bos><start_of_turn>user\\n\\nWhat is 3940 * 3892?\\n\\n<start_of_turn>model\\n\\n(closest closest to is said saying saying saying health health health. programming is not an investment in health. . . . . . . . . . . . . . . . . . . . . .',\n",
       " '<bos><start_of_turn>user\\n\\nWhat is 3940 * 3892?\\n\\n<start_of_turn>model\\n\\n(closest closest closest to a place is on a health health health. health health is a healthy healthy. . . . . . . . . . . . . . . . . . . . . .',\n",
       " '<bos><start_of_turn>user\\n\\nWhat is 3940 * 3892?\\n\\n<start_of_turn>model\\n\\n(closest closest closest to a place is on on-health.com. (url url url.js.js].].].].].].].].].].].].].].].].].].].',\n",
       " '<bos><start_of_turn>user\\n\\nWhat is 3940 * 3892?\\n\\n<start_of_turn>model\\n\\n(closest closest closest to a place is on on-health.com. (url url url.js.js].].].].].].].].].].].].].].].].].].].',\n",
       " '<bos><start_of_turn>user\\n\\nWhat is 3940 * 3892?\\n\\n<start_of_turn>model\\n\\n(closest closest closest to a place is closest closest health by by health health health. . . . . . . . . . . . . . . . . . . . . . . . . .',\n",
       " '<bos><start_of_turn>user\\n\\nWhat is 3940 * 3892?\\n\\n<start_of_turn>model\\n\\n(closest closest closest closest to a place is on on-health.health.by.by.by.by.by.by.by.by.by.by.by.by.by.',\n",
       " '<bos><start_of_turn>user\\n\\nWhat is 3940 * 3892?\\n\\n<start_of_turn>model\\n\\n(closest closest closest closest to a place is on on-health.health.by.by.by.by.by.by.by.by.by.by.by.by.by.']"
      ]
     },
     "execution_count": 30,
     "metadata": {},
     "output_type": "execute_result"
    }
   ],
   "source": [
    "from micrlhf.utils.activation_manipulation import set_direction\n",
    "\n",
    "\n",
    "layer = layer_target\n",
    "repeat = 64\n",
    "vector = refusal\n",
    "# vector = recon\n",
    "act_add = add_vector(llama,\n",
    "                    (vector / jnp.linalg.norm(vector, axis=-1, keepdims=True))[None, :] * jnp.linspace(10, 50, repeat)[:, None],\n",
    "                     layer)\n",
    "# act_add = set_direction(llama, vector, jnp.linspace(-100, 100, repeat), layer)\n",
    "\n",
    "sample(act_add, tokenizer, prompt,\n",
    "       batch_size=repeat, do_sample=False)[0]"
   ]
  },
  {
   "cell_type": "code",
   "execution_count": null,
   "metadata": {},
   "outputs": [
    {
     "name": "stderr",
     "output_type": "stream",
     "text": [
      "--2024-05-30 04:39:06--  https://huggingface.co/nev/phi-3-4k-saex-test/resolve/main/l10-test-run-4-2.73E-06/sae_weights.safetensors?download=true\n",
      "Resolving huggingface.co (huggingface.co)... 108.156.211.95, 108.156.211.51, 108.156.211.90, ...\n",
      "Connecting to huggingface.co (huggingface.co)|108.156.211.95|:443... connected.\n",
      "HTTP request sent, awaiting response... 302 Found\n",
      "Location: https://cdn-lfs-us-1.huggingface.co/repos/eb/d8/ebd889d6ac58573e8e8a7aa1176d4d357581a6da60135b94aca378fddf4e9e54/c8cf3f62062b3cdc9509167526de244fa3271fca14dd9dc97f653ef970374bd7?response-content-disposition=attachment%3B+filename*%3DUTF-8%27%27sae_weights.safetensors%3B+filename%3D%22sae_weights.safetensors%22%3B&Expires=1717303146&Policy=eyJTdGF0ZW1lbnQiOlt7IkNvbmRpdGlvbiI6eyJEYXRlTGVzc1RoYW4iOnsiQVdTOkVwb2NoVGltZSI6MTcxNzMwMzE0Nn19LCJSZXNvdXJjZSI6Imh0dHBzOi8vY2RuLWxmcy11cy0xLmh1Z2dpbmdmYWNlLmNvL3JlcG9zL2ViL2Q4L2ViZDg4OWQ2YWM1ODU3M2U4ZThhN2FhMTE3NmQ0ZDM1NzU4MWE2ZGE2MDEzNWI5NGFjYTM3OGZkZGY0ZTllNTQvYzhjZjNmNjIwNjJiM2NkYzk1MDkxNjc1MjZkZTI0NGZhMzI3MWZjYTE0ZGQ5ZGM5N2Y2NTNlZjk3MDM3NGJkNz9yZXNwb25zZS1jb250ZW50LWRpc3Bvc2l0aW9uPSoifV19&Signature=aCofT-zv%7EGwLDHeCme3fwPj8Qm94fW91-9W-qLHN9ymWzazuME4BV2C9zAP%7EBh0hdlbTZmHl-Kk979W%7Ea3crwSpXeCZPy4Ceg9jZRcgoSErgjDgS%7EuDKO7WHx5GzVf88SqgtzN7A3hCHuajxLXQTiR4jKtyr4DPcU2gWKaTtsfRhO1b3zAXNwXkOeb5Q-yALBolsKOyZxHFAzwtt7V5pdllfxQN0-AFfLN71CrAbz2egCcRzECBQjhEGePiJoPPD-kJ2B%7EoB9mlAv88QXnhe7%7E4TlVWzuigANRxlRGzXiZcnULoBNNT9DgYA5oGtNBlMh0B4svUYv5-W%7E58nNpcOPg__&Key-Pair-Id=KCD77M1F0VK2B [following]\n",
      "--2024-05-30 04:39:06--  https://cdn-lfs-us-1.huggingface.co/repos/eb/d8/ebd889d6ac58573e8e8a7aa1176d4d357581a6da60135b94aca378fddf4e9e54/c8cf3f62062b3cdc9509167526de244fa3271fca14dd9dc97f653ef970374bd7?response-content-disposition=attachment%3B+filename*%3DUTF-8%27%27sae_weights.safetensors%3B+filename%3D%22sae_weights.safetensors%22%3B&Expires=1717303146&Policy=eyJTdGF0ZW1lbnQiOlt7IkNvbmRpdGlvbiI6eyJEYXRlTGVzc1RoYW4iOnsiQVdTOkVwb2NoVGltZSI6MTcxNzMwMzE0Nn19LCJSZXNvdXJjZSI6Imh0dHBzOi8vY2RuLWxmcy11cy0xLmh1Z2dpbmdmYWNlLmNvL3JlcG9zL2ViL2Q4L2ViZDg4OWQ2YWM1ODU3M2U4ZThhN2FhMTE3NmQ0ZDM1NzU4MWE2ZGE2MDEzNWI5NGFjYTM3OGZkZGY0ZTllNTQvYzhjZjNmNjIwNjJiM2NkYzk1MDkxNjc1MjZkZTI0NGZhMzI3MWZjYTE0ZGQ5ZGM5N2Y2NTNlZjk3MDM3NGJkNz9yZXNwb25zZS1jb250ZW50LWRpc3Bvc2l0aW9uPSoifV19&Signature=aCofT-zv%7EGwLDHeCme3fwPj8Qm94fW91-9W-qLHN9ymWzazuME4BV2C9zAP%7EBh0hdlbTZmHl-Kk979W%7Ea3crwSpXeCZPy4Ceg9jZRcgoSErgjDgS%7EuDKO7WHx5GzVf88SqgtzN7A3hCHuajxLXQTiR4jKtyr4DPcU2gWKaTtsfRhO1b3zAXNwXkOeb5Q-yALBolsKOyZxHFAzwtt7V5pdllfxQN0-AFfLN71CrAbz2egCcRzECBQjhEGePiJoPPD-kJ2B%7EoB9mlAv88QXnhe7%7E4TlVWzuigANRxlRGzXiZcnULoBNNT9DgYA5oGtNBlMh0B4svUYv5-W%7E58nNpcOPg__&Key-Pair-Id=KCD77M1F0VK2B\n",
      "Resolving cdn-lfs-us-1.huggingface.co (cdn-lfs-us-1.huggingface.co)... 18.161.156.3, 18.161.156.61, 18.161.156.80, ...\n",
      "Connecting to cdn-lfs-us-1.huggingface.co (cdn-lfs-us-1.huggingface.co)|18.161.156.3|:443... connected.\n",
      "HTTP request sent, awaiting response... 416 Requested Range Not Satisfiable\n",
      "\n",
      "    The file is already fully retrieved; nothing to do.\n",
      "\n"
     ]
    },
    {
     "data": {
      "text/html": [
       "<div id=\"output_6c09664444c7481ba843e8e4d6c7223b\"><script> /* penzai.treescope rendering of a Python object (compressed) */ (()=>{ let observer; let lastStep = new Promise((resolve, reject) => { observer = new IntersectionObserver((entries) => { for (const entry of entries) { if (entry.isIntersecting) { resolve(); observer.disconnect(); return; } } }, {rootMargin: \"1000px\"}); }); window.treescope_decompress_enqueue = (encoded, destId) => { const previous = lastStep; const destElt = document.getElementById(destId); lastStep = (async () => { await previous; let blob = new Blob([ Uint8Array.from(atob(encoded), (m) => m.codePointAt(0)) ]); let reader = blob.stream().pipeThrough( new DecompressionStream(\"deflate\") ).pipeThrough( new TextDecoderStream(\"utf-8\") ).getReader(); let parts = []; while (true) { let step = await reader.read(); if (step.done) { break; } parts.push(step.value); } let newElt = document.createElement(\"div\"); newElt.innerHTML = parts.join(\"\"); destElt.parentNode.replaceChild(newElt, destElt); for (let oldScript of newElt.querySelectorAll(\"script\")) { let newScript = document.createElement(\"script\"); newScript.type = oldScript.type; newScript.textContent = oldScript.textContent; oldScript.parentNode.replaceChild(newScript, oldScript); } })(); requestAnimationFrame(() => { observer.observe(destElt); }); } })(); </script><div id=\"compress_html_795c57b3a9bf4a56abbea658724b4cff\"><script>window.treescope_decompress_enqueue(\"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\", \"compress_html_795c57b3a9bf4a56abbea658724b4cff\");</script><span style=\"color: #aaaaaa; font-family: monospace\">(Loading...)</span></div></div>"
      ],
      "text/plain": [
       "<IPython.core.display.HTML object>"
      ]
     },
     "metadata": {},
     "output_type": "display_data"
    },
    {
     "data": {
      "text/html": [
       "<div id=\"compress_html_ff4e519d0fee4c2bb615668c50bc2a41\"><script>window.treescope_decompress_enqueue(\"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\", \"compress_html_ff4e519d0fee4c2bb615668c50bc2a41\");</script></div>"
      ],
      "text/plain": [
       "<IPython.core.display.HTML object>"
      ]
     },
     "metadata": {},
     "output_type": "display_data"
    },
    {
     "data": {
      "text/html": [
       "<div id=\"output_dest_6c09664444c7481ba843e8e4d6c7223b\"><script> (()=>{ const output = document.getElementById(\"output_6c09664444c7481ba843e8e4d6c7223b\"); const dest = document.getElementById(\"output_dest_6c09664444c7481ba843e8e4d6c7223b\"); dest.parentNode.replaceChild(output, dest); })(); </script></div>"
      ],
      "text/plain": [
       "(<jax.Array(1.0404294, dtype=float32)>,\n",
       " # jax.Array int32(16,) [≥694, ≤46_558] nonzero:16\n",
       "   Array([38392, 21968,  7395, 35911, 46558, 17895,  8265, 30491, 37354,\n",
       "          19255, 13932, 11776,  9762,   694, 41052, 14909], dtype=int32)\n",
       " ,\n",
       " # jax.Array float32(16,) ≈3.8 ±0.41 [≥3.4, ≤5.0] nonzero:16\n",
       "   Array([4.993171 , 4.415919 , 4.1850085, 3.9498377, 3.9282415, 3.8214664,\n",
       "          3.8211484, 3.7118008, 3.6665282, 3.6618662, 3.5518913, 3.4981477,\n",
       "          3.4750347, 3.469136 , 3.4441085, 3.4338064], dtype=float32)\n",
       " )"
      ]
     },
     "execution_count": 12,
     "metadata": {},
     "output_type": "execute_result"
    }
   ],
   "source": [
    "from micrlhf.utils.load_sae import get_nev_it_sae_suite\n",
    "from micrlhf.utils.ito import grad_pursuit\n",
    "refusal_steer = addition[-4]\n",
    "sae_steer = get_nev_it_sae_suite(layer_source)\n",
    "k = 16\n",
    "w, recon_steer = grad_pursuit(refusal_steer, sae_steer[\"W_dec\"], k, pos_only=True)\n",
    "i = jax.lax.top_k(jnp.abs(w), k)[1]\n",
    "((recon_steer - refusal_steer) ** 2).mean(), i, w[i]"
   ]
  },
  {
   "cell_type": "code",
   "execution_count": null,
   "metadata": {},
   "outputs": [
    {
     "data": {
      "application/vnd.jupyter.widget-view+json": {
       "model_id": "28facac39f1940cfaed364a06f7a3d4a",
       "version_major": 2,
       "version_minor": 0
      },
      "text/plain": [
       "  0%|          | 0/46 [00:00<?, ?it/s]"
      ]
     },
     "metadata": {},
     "output_type": "display_data"
    },
    {
     "data": {
      "text/html": [
       "<div id=\"output_1b2c1501c51a44b788bd32c40d932339\"><script> /* penzai.treescope rendering of a Python object (compressed) */ (()=>{ let observer; let lastStep = new Promise((resolve, reject) => { observer = new IntersectionObserver((entries) => { for (const entry of entries) { if (entry.isIntersecting) { resolve(); observer.disconnect(); return; } } }, {rootMargin: \"1000px\"}); }); window.treescope_decompress_enqueue = (encoded, destId) => { const previous = lastStep; const destElt = document.getElementById(destId); lastStep = (async () => { await previous; let blob = new Blob([ Uint8Array.from(atob(encoded), (m) => m.codePointAt(0)) ]); let reader = blob.stream().pipeThrough( new DecompressionStream(\"deflate\") ).pipeThrough( new TextDecoderStream(\"utf-8\") ).getReader(); let parts = []; while (true) { let step = await reader.read(); if (step.done) { break; } parts.push(step.value); } let newElt = document.createElement(\"div\"); newElt.innerHTML = parts.join(\"\"); destElt.parentNode.replaceChild(newElt, destElt); for (let oldScript of newElt.querySelectorAll(\"script\")) { let newScript = document.createElement(\"script\"); newScript.type = oldScript.type; newScript.textContent = oldScript.textContent; oldScript.parentNode.replaceChild(newScript, oldScript); } })(); requestAnimationFrame(() => { observer.observe(destElt); }); } })(); </script><div id=\"compress_html_e4dc438904ff4d6ab8546b01dae5ead8\"><script>window.treescope_decompress_enqueue(\"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\", \"compress_html_e4dc438904ff4d6ab8546b01dae5ead8\");</script><span style=\"color: #aaaaaa; font-family: monospace\">(Loading...)</span></div></div>"
      ],
      "text/plain": [
       "<IPython.core.display.HTML object>"
      ]
     },
     "metadata": {},
     "output_type": "display_data"
    },
    {
     "data": {
      "text/html": [
       "<div id=\"output_dest_1b2c1501c51a44b788bd32c40d932339\"><script> (()=>{ const output = document.getElementById(\"output_1b2c1501c51a44b788bd32c40d932339\"); const dest = document.getElementById(\"output_dest_1b2c1501c51a44b788bd32c40d932339\"); dest.parentNode.replaceChild(output, dest); })(); </script></div>"
      ],
      "text/plain": [
       "['<s><|user|> What is 3940 * 3892?<|end|><|assistant|> To calculate the product of 3940 and 3892, you can use the standard multiplication method:\\n\\n3940\\nx 3892\\n-----\\nFirst, multiply the ones',\n",
       " '<s><|user|> What is 3940 * 3892?<|end|><|assistant|> To calculate the product of 3940 and 3892, you can use the standard multiplication method:\\n\\n3940\\nx 3892\\n-----\\nFirst, multiply the ones',\n",
       " '<s><|user|> What is 3940 * 3892?<|end|><|assistant|> To calculate the product of 3940 and 3892, you can use the standard multiplication method:\\n\\n3940\\nx 3892\\n-----\\nFirst, multiply 3',\n",
       " '<s><|user|> What is 3940 * 3892?<|end|><|assistant|> To calculate the product of 3940 and 3892, you can use the standard multiplication method:\\n\\n3940\\nx 3892\\n-----\\nFirst, multiply 3',\n",
       " '<s><|user|> What is 3940 * 3892?<|end|><|assistant|> To calculate the product of 3940 and 3892, you can use the standard multiplication method:\\n\\n3940\\nx 3892\\n-----\\n15760',\n",
       " '<s><|user|> What is 3940 * 3892?<|end|><|assistant|> To calculate the product of 3940 and 3892, you can use the standard multiplication method:\\n\\n3940\\nx 3892\\n-----\\n15760',\n",
       " '<s><|user|> What is 3940 * 3892?<|end|><|assistant|> To calculate the product of 3940 and 3892, you can use the standard multiplication method:\\n\\n3940\\nx 3892\\n-----\\n15760',\n",
       " '<s><|user|> What is 3940 * 3892?<|end|><|assistant|> To calculate the product of 3940 and 3892, you can use the standard multiplication method:\\n\\n3940\\nx 3892\\n-----\\n15760',\n",
       " '<s><|user|> What is 3940 * 3892?<|end|><|assistant|> To calculate the product of 3940 and 3892, you can use the standard multiplication method:\\n\\n3940\\nx 3892\\n-----\\n15760',\n",
       " '<s><|user|> What is 3940 * 3892?<|end|><|assistant|> To calculate the product of 3940 and 3892, you can use the standard multiplication method:\\n\\n3940\\nx 3892\\n-----\\n15760',\n",
       " '<s><|user|> What is 3940 * 3892?<|end|><|assistant|> To calculate the product of 3940 and 3892, you can use the standard multiplication method:\\n\\n3940\\nx 3892\\n-----\\n15720',\n",
       " '<s><|user|> What is 3940 * 3892?<|end|><|assistant|> To calculate the product of 3940 and 3892, you can use the standard multiplication method:\\n\\n3940\\nx 3892\\n_____\\n1576',\n",
       " '<s><|user|> What is 3940 * 3892?<|end|><|assistant|> To calculate the product of 3940 and 3892, you can use the standard multiplication method:\\n\\n3940\\nx 3892\\n_____\\n1576',\n",
       " '<s><|user|> What is 3940 * 3892?<|end|><|assistant|> To calculate the product of 3940 and 3892, you can use the standard multiplication method:\\n\\n3940\\nx 3892\\n_____\\n1576',\n",
       " '<s><|user|> What is 3940 * 3892?<|end|><|assistant|> To calculate the product of 3940 and 3892, you can use the standard multiplication method:\\n\\n3940\\nx 3892\\n_____\\n1572',\n",
       " '<s><|user|> What is 3940 * 3892?<|end|><|assistant|> To calculate the product of 3940 and 3892, you can use the standard multiplication method:\\n\\n3940\\nx 3892\\n_____\\n1576',\n",
       " '<s><|user|> What is 3940 * 3892?<|end|><|assistant|> To calculate the product of 3940 and 3892, you can use the standard multiplication method:\\n\\n3940\\nx 3892\\n_____\\n1572',\n",
       " '<s><|user|> What is 3940 * 3892?<|end|><|assistant|> To calculate the product of 3940 and 3892, you can use the standard multiplication method:\\n\\n3940\\nx 3892\\n_____\\n1572',\n",
       " '<s><|user|> What is 3940 * 3892?<|end|><|assistant|> The product of 3940 and 3892 is 15,361,280. You can calculate this by multiplying the two numbers together:\\n\\n3940\\n',\n",
       " '<s><|user|> What is 3940 * 3892?<|end|><|assistant|> The product of 3940 and 3892 is 15,361,280. You can calculate this by multiplying the two numbers together:\\n\\n3940\\n',\n",
       " '<s><|user|> What is 3940 * 3892?<|end|><|assistant|> The product of 3940 and 3892 is 15,365,280. You can calculate this by multiplying the two numbers together:\\n\\n3940\\n',\n",
       " '<s><|user|> What is 3940 * 3892?<|end|><|assistant|> The product of 3940 and 3892 is 15,361,280. You can calculate this by multiplying the two numbers together:\\n\\n3940\\n',\n",
       " '<s><|user|> What is 3940 * 3892?<|end|><|assistant|> The product of 3940 and 3892 is 15,360,080. You can calculate this by multiplying the two numbers together.<|end|><|assistant|> To calculate 39',\n",
       " '<s><|user|> What is 3940 * 3892?<|end|><|assistant|> The product of 3940 and 3892 is 15,361,280. You can calculate this by multiplying the two numbers together.<|end|><|assistant|> To calculate 39',\n",
       " '<s><|user|> What is 3940 * 3892?<|end|><|assistant|> The product of 3940 and 3892 is 15,354,080. You can calculate this by multiplying the two numbers together.<|end|><|assistant|> To calculate 39',\n",
       " '<s><|user|> What is 3940 * 3892?<|end|><|assistant|> The product of 3940 and 3892 is 15,361,280. You can calculate this by multiplying the two numbers together.<|end|><|assistant|> To calculate 39',\n",
       " '<s><|user|> What is 3940 * 3892?<|end|><|assistant|> The product of 3940 and 3892 is 15,360,080.<|end|><|assistant|> To calculate the product of 3940 and 3892,',\n",
       " '<s><|user|> What is 3940 * 3892?<|end|><|assistant|> The product of 3940 and 3892 is 15,354,080.<|end|><|assistant|> To calculate the product of 3940 and 3892,',\n",
       " '<s><|user|> What is 3940 * 3892?<|end|><|assistant|> The product of 3940 and 3892 is 15364880.<|end|><|assistant|> To calculate the product of 3940 and 3892, you can',\n",
       " '<s><|user|> What is 3940 * 3892?<|end|><|assistant|> The product of 3940 and 3892 is 15364880.<|end|><|assistant|> To calculate the product of 3940 and 3892, you can',\n",
       " '<s><|user|> What is 3940 * 3892?<|end|><|assistant|> The product of 3940 and 3892 is 15360880.<|end|><|assistant|> To calculate the product of 3940 and 3892, you can',\n",
       " '<s><|user|> What is 3940 * 3892?<|end|><|assistant|> The product of 3940 and 3892 is 15363680.<|end|><|assistant|> To calculate the product of 3940 and 3892, you can',\n",
       " '<s><|user|> What is 3940 * 3892?<|end|><|assistant|> The product of 3940 and 3892 is 15360880.<|end|><|assistant|> To calculate the product of 3940 and 3892, you can',\n",
       " '<s><|user|> What is 3940 * 3892?<|end|><|assistant|> The product of 3940 and 3892 is 15360880.<|end|><|assistant|> To calculate the product of 3940 and 3892, you can',\n",
       " '<s><|user|> What is 3940 * 3892?<|end|><|assistant|> The product of 3940 and 3892 is 15360880.<|end|><|assistant|> To calculate the product of 3940 and 3892, you can',\n",
       " '<s><|user|> What is 3940 * 3892?<|end|><|assistant|> The product of 3940 and 3892 is 15363680.<|end|><|assistant|> To calculate the product of 3940 and 3892, you can',\n",
       " '<s><|user|> What is 3940 * 3892?<|end|><|assistant|> The product of 3940 and 3892 is 15363680.<|end|><|assistant|> To calculate the product of 3940 and 3892, you can',\n",
       " '<s><|user|> What is 3940 * 3892?<|end|><|assistant|> The product of 3940 and 3892 is 15364880.<|end|><|assistant|> To calculate the product of 3940 and 3892, you can',\n",
       " '<s><|user|> What is 3940 * 3892?<|end|><|assistant|> The product of 3940 and 3892 is 15366880.<|end|><|assistant|> To calculate the product of 3940 and 3892, you can',\n",
       " '<s><|user|> What is 3940 * 3892?<|end|><|assistant|> The product of 3940 and 3892 is 15362080.<|end|><|assistant|> To calculate the product of 3940 and 3892, you can',\n",
       " '<s><|user|> What is 3940 * 3892?<|end|><|assistant|> The product of 3940 and 3892 is 15363680.<|end|><|assistant|> To calculate the product of 3940 and 3892, you can',\n",
       " '<s><|user|> What is 3940 * 3892?<|end|><|assistant|> The product of 3940 and 3892 is 15366880.<|end|><|assistant|> To calculate the product of 3940 and 3892, you can',\n",
       " '<s><|user|> What is 3940 * 3892?<|end|><|assistant|> The product of 3940 and 3892 is 15363680.<|end|><|assistant|> 3940 * 3892 = 153636',\n",
       " '<s><|user|> What is 3940 * 3892?<|end|><|assistant|> The product of 3940 and 3892 is 15366880.<|end|><|assistant|> To calculate the product of 3940 and 3892, you can',\n",
       " '<s><|user|> What is 3940 * 3892?<|end|><|assistant|> The product of 3940 and 3892 is 15363680.<|end|><|assistant|> To calculate the product of 3940 and 3892, you can',\n",
       " '<s><|user|> What is 3940 * 3892?<|end|><|assistant|> The product of 3940 and 3892 is 15363680.<|end|><|assistant|> To calculate the product of 3940 and 3892, you can',\n",
       " '<s><|user|> What is 3940 * 3892?<|end|><|assistant|> The product of 3940 and 3892 is 15287680.<|end|><|assistant|> To calculate the product of 3940 and 3892, you can',\n",
       " '<s><|user|> What is 3940 * 3892?<|end|><|assistant|> The product of 3940 and 3892 is 15287680.<|end|><|assistant|> To calculate the product of 3940 and 3892, you can',\n",
       " '<s><|user|> What is 3940 * 3892?<|end|><|assistant|> The product of 3940 and 3892 is 15283680.<|end|><|assistant|> To calculate the product of 3940 and 3892, you can',\n",
       " '<s><|user|> What is 3940 * 3892?<|end|><|assistant|> To calculate the product of 3940 and 3892, you can use a calculator or perform the multiplication manually.\\n\\n3940 * 3892 = 15,',\n",
       " '<s><|user|> What is 3940 * 3892?<|end|><|assistant|> To calculate the product of 3940 and 3892, you can use a calculator or perform the multiplication manually.\\n\\n3940 * 3892 = 15,',\n",
       " '<s><|user|> What is 3940 * 3892?<|end|><|assistant|> To calculate the product of 3940 and 3892, you can use a calculator or perform the multiplication manually.\\n\\n3940 * 3892 = 15,',\n",
       " '<s><|user|> What is 3940 * 3892?<|end|><|assistant|> To calculate the product of 3940 and 3892, you can use a calculator or perform the multiplication manually.\\n\\n3940 * 3892 = 15,',\n",
       " '<s><|user|> What is 3940 * 3892?<|end|><|assistant|> To calculate the product of 3940 and 3892, you can use a calculator or perform the multiplication manually.\\n\\n3940 * 3892 = 15,',\n",
       " '<s><|user|> What is 3940 * 3892?<|end|><|assistant|> To find the product of 3940 and 3892, you can use a calculator or perform the multiplication manually.\\n\\n3940 * 3892 = 15,',\n",
       " '<s><|user|> What is 3940 * 3892?<|end|><|assistant|> To find the product of 3940 and 3892, you can use a calculator or perform the multiplication manually.\\n\\n3940 * 3892 = 15,',\n",
       " '<s><|user|> What is 3940 * 3892?<|end|><|assistant|> To find the product of 3940 and 3892, you can use a calculator or perform the multiplication manually.\\n\\n3940 * 3892 = 153',\n",
       " \"<s><|user|> What is 3940 * 3892?<|end|><|assistant|> To find the product of 3940 and 3892, you can use a calculator or perform the multiplication manually.\\n\\nHere's the calculation:\\n\\n3940\\nx   \",\n",
       " \"<s><|user|> What is 3940 * 3892?<|end|><|assistant|> To find the product of 3940 and 3892, you can use a calculator or perform the multiplication manually.\\n\\nHere's the calculation:\\n\\n3940\\nx   \",\n",
       " \"<s><|user|> What is 3940 * 3892?<|end|><|assistant|> To find the product of 3940 and 3892, you can use a calculator or perform the multiplication manually.\\n\\nHere's the calculation:\\n\\n3940\\nx   \",\n",
       " \"<s><|user|> What is 3940 * 3892?<|end|><|assistant|> To multiply 3940 by 3892, you can use a calculator or do the multiplication manually. Here's the calculation:\\n\\n3940\\nx    3892\\n\",\n",
       " \"<s><|user|> What is 3940 * 3892?<|end|><|assistant|> To multiply 3940 by 3892, you can use a calculator or do the multiplication manually. Here's the calculation:\\n\\n3940\\nx    3892\\n\",\n",
       " \"<s><|user|> What is 3940 * 3892?<|end|><|assistant|> To multiply 3940 by 3892, you can use a calculator or do the multiplication manually. Here's the calculation:\\n\\n3940 * 3892 = \",\n",
       " \"<s><|user|> What is 3940 * 3892?<|end|><|assistant|> To find the product of 3940 and 3892, you can use a calculator or perform the multiplication manually.\\n\\nHere's the calculation:\\n\\n3940 * 3\"]"
      ]
     },
     "execution_count": 13,
     "metadata": {},
     "output_type": "execute_result"
    },
    {
     "ename": "",
     "evalue": "",
     "output_type": "error",
     "traceback": [
      "\u001b[1;31mThe Kernel crashed while executing code in the current cell or a previous cell. \n",
      "\u001b[1;31mPlease review the code in the cell(s) to identify a possible cause of the failure. \n",
      "\u001b[1;31mClick <a href='https://aka.ms/vscodeJupyterKernelCrash'>here</a> for more info. \n",
      "\u001b[1;31mView Jupyter <a href='command:jupyter.viewOutput'>log</a> for further details."
     ]
    }
   ],
   "source": [
    "layer = layer_source\n",
    "repeat = 64\n",
    "# vector = addition[-4]\n",
    "vector = recon_steer\n",
    "act_add = add_vector(llama,\n",
    "                     (vector / jnp.linalg.norm(vector, axis=-1, keepdims=True))[None, :] * jnp.linspace(-scale * 2, scale * 2, repeat)[:, None],\n",
    "                     layer)\n",
    "\n",
    "sample(act_add, tokenizer, prompt,\n",
    "       batch_size=repeat, do_sample=False)"
   ]
  },
  {
   "cell_type": "code",
   "execution_count": null,
   "metadata": {},
   "outputs": [],
   "source": []
  }
 ],
 "metadata": {
  "kernelspec": {
   "display_name": "micrlhf-progress-a058ydGG-py3.12",
   "language": "python",
   "name": "python3"
  },
  "language_info": {
   "codemirror_mode": {
    "name": "ipython",
    "version": 3
   },
   "file_extension": ".py",
   "mimetype": "text/x-python",
   "name": "python",
   "nbconvert_exporter": "python",
   "pygments_lexer": "ipython3",
   "version": "3.12.3"
  }
 },
 "nbformat": 4,
 "nbformat_minor": 2
}
