{
 "cells": [
  {
   "cell_type": "code",
   "execution_count": 1,
   "metadata": {},
   "outputs": [],
   "source": [
    "import os\n",
    "if \"models\" not in os.listdir(\".\"):\n",
    "    os.chdir(\"../..\")"
   ]
  },
  {
   "cell_type": "code",
   "execution_count": 2,
   "metadata": {},
   "outputs": [],
   "source": [
    "%load_ext autoreload\n",
    "%autoreload 2\n",
    "import penzai\n",
    "import jax_smi\n",
    "jax_smi.initialise_tracking()\n",
    "from penzai import pz\n",
    "pz.ts.register_as_default()\n",
    "pz.ts.register_autovisualize_magic()\n",
    "pz.enable_interactive_context()"
   ]
  },
  {
   "cell_type": "code",
   "execution_count": 3,
   "metadata": {},
   "outputs": [],
   "source": [
    "from micrlhf.llama import LlamaTransformer\n",
    "llama = LlamaTransformer.from_pretrained(\"models/gemma-2b-it.gguf\", from_type=\"gemma\", load_eager=True, device_map=\"tpu:0\")"
   ]
  },
  {
   "cell_type": "code",
   "execution_count": 4,
   "metadata": {},
   "outputs": [],
   "source": [
    "from transformers import AutoTokenizer\n",
    "tokenizer = AutoTokenizer.from_pretrained(\"alpindale/gemma-2b\")\n",
    "tokenizer.padding_side = \"right\""
   ]
  },
  {
   "cell_type": "code",
   "execution_count": 5,
   "metadata": {},
   "outputs": [],
   "source": [
    "from sprint.icl_sfc_utils import Circuitizer"
   ]
  },
  {
   "cell_type": "code",
   "execution_count": 6,
   "metadata": {},
   "outputs": [],
   "source": [
    "from sprint.task_vector_utils import load_tasks, ICLRunner\n",
    "tasks = load_tasks()"
   ]
  },
  {
   "cell_type": "code",
   "execution_count": 7,
   "metadata": {},
   "outputs": [],
   "source": [
    "# task_names = [\"en_es\", \"antonyms\", \"person_profession\", \"es_en\", \"present_simple_gerund\", \"present_simple_past_simple\", \"person_profession\", \"person_language\", \"country_capital\", \"football_player_position\"]\n",
    "# task_name = task_names[1]\n",
    "task_names = list(tasks.keys())"
   ]
  },
  {
   "cell_type": "code",
   "execution_count": 8,
   "metadata": {},
   "outputs": [],
   "source": [
    "import json\n",
    "\n",
    "with open(\"cleanup_results.jsonl\") as f:\n",
    "    lines = f.readlines()\n",
    "    results = [json.loads(line) for line in lines]"
   ]
  },
  {
   "cell_type": "code",
   "execution_count": 9,
   "metadata": {},
   "outputs": [],
   "source": [
    "import jax.numpy as jnp\n",
    "import jax\n",
    "\n",
    "\n",
    "from sprint.task_vector_utils import ICLRunner, logprob_loss, get_tv, make_act_adder\n",
    "from micrlhf.llama import LlamaBlock\n",
    "from micrlhf.sampling import sample, jit_wrapper\n",
    "\n",
    "\n",
    "get_resids = llama.select().at_instances_of(LlamaBlock).apply_with_selected_index(lambda i, x:\n",
    "    pz.nn.Sequential([\n",
    "        pz.de.TellIntermediate.from_config(tag=f\"resid_pre_{i}\"),\n",
    "        x\n",
    "    ])\n",
    ")\n",
    "get_resids = pz.de.CollectingSideOutputs.handling(get_resids, tag_predicate=lambda x: x.startswith(\"resid_pre\"))\n",
    "get_resids_call = jit_wrapper.Jitted(get_resids)\n",
    "\n",
    "\n",
    "\n",
    "def tokenized_to_inputs(input_ids, attention_mask):\n",
    "    token_array = jnp.asarray(input_ids)\n",
    "    token_array = jax.device_put(token_array, jax.sharding.NamedSharding(llama.mesh, jax.sharding.PartitionSpec(\"dp\", \"sp\")))\n",
    "    token_array = pz.nx.wrap(token_array, \"batch\", \"seq\").untag(\"batch\").tag(\"batch\")\n",
    "\n",
    "    mask_array = jnp.asarray(attention_mask, dtype=jnp.bool)\n",
    "    mask_array = jax.device_put(mask_array, jax.sharding.NamedSharding(llama.mesh, jax.sharding.PartitionSpec(\"dp\", \"sp\")))\n",
    "    mask_array = pz.nx.wrap(mask_array, \"batch\", \"seq\").untag(\"batch\").tag(\"batch\")\n",
    "\n",
    "    inputs = llama.inputs.from_basic_segments(token_array)\n",
    "    return inputs\n"
   ]
  },
  {
   "cell_type": "code",
   "execution_count": 23,
   "metadata": {},
   "outputs": [],
   "source": [
    "from sprint.icl_sfc_utils import AblatedModule\n",
    "layer = 14\n",
    "mask_name = \"arrow\""
   ]
  },
  {
   "cell_type": "code",
   "execution_count": 11,
   "metadata": {},
   "outputs": [
    {
     "data": {
      "text/html": [
       "<script> (()=>{ if (customElements.get('treescope-container') === undefined) { class TreescopeContainer extends HTMLElement { constructor() { super(); this.attachShadow({mode: \"open\"}); this.defns = {}; this.state = {}; } } customElements.define(\"treescope-container\", TreescopeContainer); } if (customElements.get('treescope-run-here') === undefined) { class RunHere extends HTMLElement { constructor() { super() } connectedCallback() { const run = child => { const fn = new Function(child.textContent); child.textContent = \"\"; fn.call(this); this.remove(); }; const child = this.querySelector(\"script\"); if (child) { run(child); } else { new MutationObserver(()=>{ run(this.querySelector(\"script\")); }).observe(this, {childList: true}); } } } customElements.define(\"treescope-run-here\", RunHere); } })(); </script> <treescope-container class=\"treescope_out_588f76de94d344958f0f9247f56e1a3f\" ></treescope-container> <treescope-run-here><script type=\"application/octet-stream\"> const root = ( Array.from(document.getElementsByClassName( \"treescope_out_588f76de94d344958f0f9247f56e1a3f\")) .filter((elt) => !elt.dataset.setup) )[0]; root.dataset.setup = 1; const msg = document.createElement(\"span\"); msg.style = \"color: #aaaaaa; font-family: monospace; transition: opacity 0.2s; opacity: 0.0;\"; msg.textContent = \"(Loading...)\"; root.state.loadingMsg = msg; root.shadowRoot.appendChild(msg); root.state.chain = new Promise((resolve, reject) => { const observer = new IntersectionObserver((entries) => { for (const entry of entries) { if (entry.isIntersecting) { resolve(); observer.disconnect(); return; } } }, {rootMargin: \"1000px\"}); window.setTimeout(() => { if (root.loadingMsg) { root.loadingMsg.style.opacity = \"1.0\"; } observer.observe(root); }, 0); }); root.state.deferring = false; const _insertNode = (node) => { for (let oldScript of node.querySelectorAll(\"script\")) { let newScript = document.createElement(\"script\"); newScript.type = oldScript.type; newScript.textContent = oldScript.textContent; oldScript.parentNode.replaceChild(newScript, oldScript); } if (root.state.loadingMsg) { root.state.loadingMsg.remove(); root.state.loadingMsg = null; } root.shadowRoot.appendChild(node); }; root.defns.insertContent = ((contentNode, compressed) => { if (compressed) { root.state.deferring = true; } if (root.state.deferring) { root.state.chain = (async () => { await root.state.chain; if (compressed) { const encoded = contentNode.textContent; const blob = new Blob([ Uint8Array.from(atob(encoded), (m) => m.codePointAt(0)) ]); const reader = blob.stream().pipeThrough( new DecompressionStream(\"deflate\") ).pipeThrough( new TextDecoderStream(\"utf-8\") ).getReader(); const parts = []; while (true) { const step = await reader.read(); if (step.done) { break; } parts.push(step.value); } const tpl = document.createElement('template'); tpl.innerHTML = parts.join(\"\"); _insertNode(tpl.content); } else { _insertNode(contentNode.content); } })(); } else { _insertNode(contentNode.content); } }); </script></treescope-run-here><div style=\"display:none\"> <script type=\"application/octet-stream\" >eNqNVE2P0zAQ/StWOGwikewXi6BtIu0FcUAc4LAHhCrXmSRWnbGxJy0F7X9nnLRlP8oK9dB4ZvzmvfHMLALtDFQFeYCgrIOlt5bEb+Fs0KQtzoQHI0lvYC4ai5Q3stdmNxO9RRucVGzfdpogHw8z4TxbjA6Uj9A57Rxb0SKbV1KtW28HrHNljfWz6epc7E8rwwGMp2vqZqLRxGFIgDQXTta1xjY30NBMXKkuJkHIO9Btx5bL4ibCIEnNnI/X9h/5Rge90kYTM5cD2WNsrpG8xqBVHvQvmLx7uveL86k8i2N5cj8g5/RsC8prRyLqK8+kc0YrGSt2bhVBVO9B9mdVmmZlxQXlfIFEDQ0GUQrqdChaoC9c7c+2hjQrOhuoGP0sDUgsHWCUfKsiarz07fspz0eJtQF242DMfMpQMM2v1iJb063160w85GDv2BRdj8ykVTQ68I31vUQFBdptmo3vywnSZx6RT5cW4voqYxzdiPQJ68IAttSJshQXMeRF6h5o8Mh1F2AC/CXWDRiZPYUOnW4o8hsD4sc9//6RIeWuwtpuCw8/Bgh0i7ofn+uDlz2kU02yiDF/lsgNoZvKOD+h8ZCinGS8oPL/OUQW00OSbVszTeVynBzuVhexogUMvRaw4Qbfv2RkN56LNexi0ROfREL74EIZGcInHs49bpocMZc9t2FySH6fcT25/ccerxbnpwag1hsxApbJ4/WRCJIrVgo/y+QiERaZDMtGjnup7U9rTeOdg8qEx25aWOPGWOLQr8CPnTIukFcX799d3rx9OLq8lvBAs+NZ9bw21kuSnmkkopYkc6bnJHVlkjwOf5gjqd5cMyZ7q+MfF6D6A8x625A=</script> <treescope-run-here><script type=\"application/octet-stream\"> const root = ( Array.from(document.getElementsByClassName( \"treescope_out_588f76de94d344958f0f9247f56e1a3f\")) .filter((elt) => !elt.dataset['step0']) )[0]; root.dataset['step0'] = 1; root.defns.insertContent( this.parentNode.querySelector('script[type=\"application/octet-stream\"]'), true ); this.parentNode.remove(); </script></treescope-run-here> </div>"
      ],
      "text/plain": [
       "<IPython.core.display.HTML object>"
      ]
     },
     "metadata": {},
     "output_type": "display_data"
    },
    {
     "data": {
      "text/html": [
       "<treescope-run-here><script type=\"application/octet-stream\"> const root = ( Array.from(document.getElementsByClassName( \"treescope_out_588f76de94d344958f0f9247f56e1a3f\")) .filter((elt) => !elt.dataset.stolen) )[0]; root.dataset.stolen = 1; this.parentNode.replaceChild(root, this); </script></treescope-run-here>"
      ],
      "text/plain": [
       "43"
      ]
     },
     "execution_count": 11,
     "metadata": {},
     "output_type": "execute_result"
    }
   ],
   "source": [
    "import numpy as np\n",
    "\n",
    "features = []\n",
    "\n",
    "for task_name in task_names:\n",
    "    task_results = [result for result in results if result[\"task\"] == task_name and result[\"layer\"] == layer]\n",
    "\n",
    "    for result in task_results:\n",
    "        w = np.array(result[\"weights\"])\n",
    "        w = w * (w > 0)\n",
    "\n",
    "        features += np.nonzero(w)[0].tolist()\n",
    "\n",
    "features = list(set(features))\n",
    "\n",
    "len(features)"
   ]
  },
  {
   "cell_type": "code",
   "execution_count": 24,
   "metadata": {},
   "outputs": [
    {
     "data": {
      "text/html": [
       "<script> (()=>{ if (customElements.get('treescope-container') === undefined) { class TreescopeContainer extends HTMLElement { constructor() { super(); this.attachShadow({mode: \"open\"}); this.defns = {}; this.state = {}; } } customElements.define(\"treescope-container\", TreescopeContainer); } if (customElements.get('treescope-run-here') === undefined) { class RunHere extends HTMLElement { constructor() { super() } connectedCallback() { const run = child => { const fn = new Function(child.textContent); child.textContent = \"\"; fn.call(this); this.remove(); }; const child = this.querySelector(\"script\"); if (child) { run(child); } else { new MutationObserver(()=>{ run(this.querySelector(\"script\")); }).observe(this, {childList: true}); } } } customElements.define(\"treescope-run-here\", RunHere); } })(); </script> <treescope-container class=\"treescope_out_082c0a2fa131469886ef316f92c0d387\" ></treescope-container> <treescope-run-here><script type=\"application/octet-stream\"> const root = ( Array.from(document.getElementsByClassName( \"treescope_out_082c0a2fa131469886ef316f92c0d387\")) .filter((elt) => !elt.dataset.setup) )[0]; root.dataset.setup = 1; const msg = document.createElement(\"span\"); msg.style = \"color: #aaaaaa; font-family: monospace; transition: opacity 0.2s; opacity: 0.0;\"; msg.textContent = \"(Loading...)\"; root.state.loadingMsg = msg; root.shadowRoot.appendChild(msg); root.state.chain = new Promise((resolve, reject) => { const observer = new IntersectionObserver((entries) => { for (const entry of entries) { if (entry.isIntersecting) { resolve(); observer.disconnect(); return; } } }, {rootMargin: \"1000px\"}); window.setTimeout(() => { if (root.loadingMsg) { root.loadingMsg.style.opacity = \"1.0\"; } observer.observe(root); }, 0); }); root.state.deferring = false; const _insertNode = (node) => { for (let oldScript of node.querySelectorAll(\"script\")) { let newScript = document.createElement(\"script\"); newScript.type = oldScript.type; newScript.textContent = oldScript.textContent; oldScript.parentNode.replaceChild(newScript, oldScript); } if (root.state.loadingMsg) { root.state.loadingMsg.remove(); root.state.loadingMsg = null; } root.shadowRoot.appendChild(node); }; root.defns.insertContent = ((contentNode, compressed) => { if (compressed) { root.state.deferring = true; } if (root.state.deferring) { root.state.chain = (async () => { await root.state.chain; if (compressed) { const encoded = contentNode.textContent; const blob = new Blob([ Uint8Array.from(atob(encoded), (m) => m.codePointAt(0)) ]); const reader = blob.stream().pipeThrough( new DecompressionStream(\"deflate\") ).pipeThrough( new TextDecoderStream(\"utf-8\") ).getReader(); const parts = []; while (true) { const step = await reader.read(); if (step.done) { break; } parts.push(step.value); } const tpl = document.createElement('template'); tpl.innerHTML = parts.join(\"\"); _insertNode(tpl.content); } else { _insertNode(contentNode.content); } })(); } else { _insertNode(contentNode.content); } }); </script></treescope-run-here><div style=\"display:none\"> <script type=\"application/octet-stream\" >eNqNVE2P0zAQ/StWOGwi4ewHLIK2ibQXxAFxgAMHhCo3mSRWnbGxJy0F7X9nnLRlu1tWqIfGM+M3741nZhFoZ6DMyQOEyjpYemtJ/BbOBk3a4kx4MIr0BuaisUiyUb02u5noLdrgVMX2bacJ5HiYCefZYnQgOUJL2jm2okU2r1S1br0dsJaVNdbPpqtzsT+tDAcwnq6pm4lGE4chAdJcOFXXGltpoKGZuKm6mARBdqDbji3X+W2EQVKaOR+v7T/kRge90kYTM1cD2WOs1EheY9CVDPoXTN493fvF5VSexbE80g/IOT3bQuW1IxH1FRfKOaMrFSt2aSuCqN6D6i/KNM2KkgvK+QKJGhoMohDU6ZC3QJ+52p9sDWmWdzZQPvpZGpBYOsAo+a6KqPHSt+/nPB8U1gbYjYMx8ylDzjS/WItsTbfWrzPxkIP9yqboOjGTrqLRgW+s7xVWkKPdptn4vpwgfeIRcrq0EK9uMsbRjUgfsc4NYEudKApxFUOepe6BBo9cdwEmwF9i3YCR2WPo0OmGIr8xIH7c8+8fGVLuKqztNvfwY4BAd6j78bnee9VDOtUkixjzJ4ncELqpjPMzGg8piknGMyr/n0NkMT0k2bY101Qux8nhbnURK1rA0EsBG27w/UtGduM5X8MuFj3xSSS0D84ro0L4yMO5x02TI+ay5zZMDsnvM64nt//Y4+Xi8twA1HojRsAiOV0fiSC1YqXws0iuEmGRybBs5Ljn2v681jTeOahMeOymhTVujCUO/Qr82CnjAnlx9e7t9e2bh6PLawkPNDueVc9rY70k5ZlGImpFSjI9p6grkuQ0/GGOpHx9w5jsLY9/XIDyD8xl248=</script> <treescope-run-here><script type=\"application/octet-stream\"> const root = ( Array.from(document.getElementsByClassName( \"treescope_out_082c0a2fa131469886ef316f92c0d387\")) .filter((elt) => !elt.dataset['step0']) )[0]; root.dataset['step0'] = 1; root.defns.insertContent( this.parentNode.querySelector('script[type=\"application/octet-stream\"]'), true ); this.parentNode.remove(); </script></treescope-run-here> </div>"
      ],
      "text/plain": [
       "<IPython.core.display.HTML object>"
      ]
     },
     "metadata": {},
     "output_type": "display_data"
    },
    {
     "data": {
      "text/html": [
       "<treescope-run-here><script type=\"application/octet-stream\"> const root = ( Array.from(document.getElementsByClassName( \"treescope_out_082c0a2fa131469886ef316f92c0d387\")) .filter((elt) => !elt.dataset.stolen) )[0]; root.dataset.stolen = 1; this.parentNode.replaceChild(root, this); </script></treescope-run-here>"
      ],
      "text/plain": [
       "42"
      ]
     },
     "execution_count": 24,
     "metadata": {},
     "output_type": "execute_result"
    }
   ],
   "source": [
    "task_names = [\"antonyms\", \"en_es\", \"es_en\", \"present_simple_gerund\", \"country_capital\", \"en_fr\", \"en_it\", \"fr_en\"]\n",
    "\n",
    "\n",
    "features = []\n",
    "\n",
    "for task_name in task_names:\n",
    "\n",
    "\n",
    "    \n",
    "    with open(f\"micrlhf-progress/all-graph-{task_name}-fixed.json\") as f:\n",
    "        graph = json.load(f)\n",
    "\n",
    "    nodes = graph[\"nodes\"]\n",
    "\n",
    "    nodes = [node for node in nodes if node[1] == layer and node[0] == \"r\" and node[2] == \"arrow\"]\n",
    "    \n",
    "    features += [node[3] for node in nodes[:10]]\n",
    "\n",
    "features = list(set(features))\n",
    "len(features)"
   ]
  },
  {
   "cell_type": "code",
   "execution_count": 25,
   "metadata": {},
   "outputs": [],
   "source": [
    "from micrlhf.utils.load_sae import get_nev_it_sae_suite\n",
    "\n",
    "\n",
    "sae = get_nev_it_sae_suite(layer=layer)"
   ]
  },
  {
   "cell_type": "code",
   "execution_count": null,
   "metadata": {},
   "outputs": [
    {
     "data": {
      "application/vnd.jupyter.widget-view+json": {
       "model_id": "b181e80d2f7d46e48b0c0225c732e370",
       "version_major": 2,
       "version_minor": 0
      },
      "text/plain": [
       "  0%|          | 0/10 [00:00<?, ?it/s]"
      ]
     },
     "metadata": {},
     "output_type": "display_data"
    },
    {
     "data": {
      "application/vnd.jupyter.widget-view+json": {
       "model_id": "0574ea4da57642578b80c544784b4ca7",
       "version_major": 2,
       "version_minor": 0
      },
      "text/plain": [
       "  0%|          | 0/43 [00:00<?, ?it/s]"
      ]
     },
     "metadata": {},
     "output_type": "display_data"
    },
    {
     "data": {
      "application/vnd.jupyter.widget-view+json": {
       "model_id": "7161d8e9ea464f06a2e1e3b1f2fd44d4",
       "version_major": 2,
       "version_minor": 0
      },
      "text/plain": [
       "  0%|          | 0/43 [00:00<?, ?it/s]"
      ]
     },
     "metadata": {},
     "output_type": "display_data"
    },
    {
     "data": {
      "application/vnd.jupyter.widget-view+json": {
       "model_id": "de495a248d3f4a9596d1aaacc3509f7b",
       "version_major": 2,
       "version_minor": 0
      },
      "text/plain": [
       "  0%|          | 0/43 [00:00<?, ?it/s]"
      ]
     },
     "metadata": {},
     "output_type": "display_data"
    },
    {
     "data": {
      "application/vnd.jupyter.widget-view+json": {
       "model_id": "66c9bf733bea416abf67511e3a9a1900",
       "version_major": 2,
       "version_minor": 0
      },
      "text/plain": [
       "  0%|          | 0/43 [00:00<?, ?it/s]"
      ]
     },
     "metadata": {},
     "output_type": "display_data"
    },
    {
     "data": {
      "application/vnd.jupyter.widget-view+json": {
       "model_id": "650ca7734872414c8957af9c87b1d4d9",
       "version_major": 2,
       "version_minor": 0
      },
      "text/plain": [
       "  0%|          | 0/43 [00:00<?, ?it/s]"
      ]
     },
     "metadata": {},
     "output_type": "display_data"
    },
    {
     "data": {
      "application/vnd.jupyter.widget-view+json": {
       "model_id": "0f558563e5a547b69b7df0147c89d2ed",
       "version_major": 2,
       "version_minor": 0
      },
      "text/plain": [
       "  0%|          | 0/43 [00:00<?, ?it/s]"
      ]
     },
     "metadata": {},
     "output_type": "display_data"
    },
    {
     "data": {
      "application/vnd.jupyter.widget-view+json": {
       "model_id": "916244e528e846dc9b4d210ae72fc980",
       "version_major": 2,
       "version_minor": 0
      },
      "text/plain": [
       "  0%|          | 0/43 [00:00<?, ?it/s]"
      ]
     },
     "metadata": {},
     "output_type": "display_data"
    },
    {
     "data": {
      "application/vnd.jupyter.widget-view+json": {
       "model_id": "a26c15a8d97a4153b980f7d102ab395e",
       "version_major": 2,
       "version_minor": 0
      },
      "text/plain": [
       "  0%|          | 0/43 [00:00<?, ?it/s]"
      ]
     },
     "metadata": {},
     "output_type": "display_data"
    },
    {
     "data": {
      "application/vnd.jupyter.widget-view+json": {
       "model_id": "0edaf7d6b1014242abf21c8f92829083",
       "version_major": 2,
       "version_minor": 0
      },
      "text/plain": [
       "  0%|          | 0/43 [00:00<?, ?it/s]"
      ]
     },
     "metadata": {},
     "output_type": "display_data"
    },
    {
     "data": {
      "application/vnd.jupyter.widget-view+json": {
       "model_id": "f5455688864346f2ba1df2edb5042d15",
       "version_major": 2,
       "version_minor": 0
      },
      "text/plain": [
       "  0%|          | 0/43 [00:00<?, ?it/s]"
      ]
     },
     "metadata": {},
     "output_type": "display_data"
    }
   ],
   "source": [
    "from tqdm.auto import tqdm\n",
    "\n",
    "task_losses = {}\n",
    "\n",
    "n_few_shots, batch_size, max_seq_len = 20, 16, 256\n",
    "seed = 10\n",
    "\n",
    "prompt = \"Follow the pattern:\\n{}\"\n",
    "\n",
    "\n",
    "for task_name in tqdm(task_names):\n",
    "\n",
    "    sep = 3978\n",
    "    pad = 0\n",
    "\n",
    "\n",
    "    pairs = list(tasks[task_name].items())\n",
    "\n",
    "    runner = ICLRunner(task_name, pairs, batch_size=batch_size, n_shot=n_few_shots-1, max_seq_len=max_seq_len, seed=seed, prompt=prompt)\n",
    "\n",
    "    tokenized = runner.get_tokens([\n",
    "        x[:n_few_shots] for x in runner.train_pairs\n",
    "    ], tokenizer)\n",
    "\n",
    "    inputs = tokenized_to_inputs(**tokenized)\n",
    "    train_tokens = tokenized[\"input_ids\"]\n",
    "\n",
    "    _, all_resids = get_resids_call(inputs)\n",
    "\n",
    "    def steer_with_direction(direction, scale):\n",
    "        direction = direction / jnp.linalg.norm(direction)\n",
    "        direction = direction * scale\n",
    "        add_act = make_act_adder(llama, direction, train_tokens, 12, sep=sep)\n",
    "\n",
    "        logits = add_act(inputs)\n",
    "        logits = logits.unwrap(\"batch\", \"seq\", \"vocabulary\")\n",
    "\n",
    "        return logprob_loss(logits, train_tokens, sep=sep, pad_token=pad, n_first=2)\n",
    "\n",
    "    task_losses[task_name] = [[steer_with_direction(-sae[\"W_dec\"][feature], 33).tolist() for feature in tqdm(features)]]\n",
    "\n",
    "    logits = llama(inputs)\n",
    "\n",
    "    logits = logits.unwrap(\"batch\", \"seq\", \"vocabulary\")\n",
    "\n",
    "    task_losses[task_name].append(logprob_loss(logits, train_tokens, sep=sep, pad_token=pad, n_first=2).tolist())"
   ]
  },
  {
   "cell_type": "code",
   "execution_count": 15,
   "metadata": {},
   "outputs": [
    {
     "data": {
      "application/vnd.jupyter.widget-view+json": {
       "model_id": "2226fa7de11a4f9db04f1fcc974f9928",
       "version_major": 2,
       "version_minor": 0
      },
      "text/plain": [
       "  0%|          | 0/10 [00:00<?, ?it/s]"
      ]
     },
     "metadata": {},
     "output_type": "display_data"
    },
    {
     "data": {
      "application/vnd.jupyter.widget-view+json": {
       "model_id": "7f036fd5c769410ea03bad4e61489d78",
       "version_major": 2,
       "version_minor": 0
      },
      "text/plain": [
       "  0%|          | 0/43 [00:00<?, ?it/s]"
      ]
     },
     "metadata": {},
     "output_type": "display_data"
    },
    {
     "data": {
      "application/vnd.jupyter.widget-view+json": {
       "model_id": "98bc14d081684b938fcd3282717d8096",
       "version_major": 2,
       "version_minor": 0
      },
      "text/plain": [
       "  0%|          | 0/43 [00:00<?, ?it/s]"
      ]
     },
     "metadata": {},
     "output_type": "display_data"
    },
    {
     "data": {
      "application/vnd.jupyter.widget-view+json": {
       "model_id": "cdf6447bbc944b48879b9bd1135c6f43",
       "version_major": 2,
       "version_minor": 0
      },
      "text/plain": [
       "  0%|          | 0/43 [00:00<?, ?it/s]"
      ]
     },
     "metadata": {},
     "output_type": "display_data"
    },
    {
     "data": {
      "application/vnd.jupyter.widget-view+json": {
       "model_id": "ccd7a5b57d95434199d11c0333d0c5e4",
       "version_major": 2,
       "version_minor": 0
      },
      "text/plain": [
       "  0%|          | 0/43 [00:00<?, ?it/s]"
      ]
     },
     "metadata": {},
     "output_type": "display_data"
    },
    {
     "data": {
      "application/vnd.jupyter.widget-view+json": {
       "model_id": "17bdf81b26e04f819839abcb6e5f2039",
       "version_major": 2,
       "version_minor": 0
      },
      "text/plain": [
       "  0%|          | 0/43 [00:00<?, ?it/s]"
      ]
     },
     "metadata": {},
     "output_type": "display_data"
    },
    {
     "data": {
      "application/vnd.jupyter.widget-view+json": {
       "model_id": "bbd10d53b7694906993537d6c15969c9",
       "version_major": 2,
       "version_minor": 0
      },
      "text/plain": [
       "  0%|          | 0/43 [00:00<?, ?it/s]"
      ]
     },
     "metadata": {},
     "output_type": "display_data"
    },
    {
     "data": {
      "application/vnd.jupyter.widget-view+json": {
       "model_id": "5add505112a64d8d86b30f9e21528534",
       "version_major": 2,
       "version_minor": 0
      },
      "text/plain": [
       "  0%|          | 0/43 [00:00<?, ?it/s]"
      ]
     },
     "metadata": {},
     "output_type": "display_data"
    },
    {
     "data": {
      "application/vnd.jupyter.widget-view+json": {
       "model_id": "15e0140bd90e43239764d8366664191a",
       "version_major": 2,
       "version_minor": 0
      },
      "text/plain": [
       "  0%|          | 0/43 [00:00<?, ?it/s]"
      ]
     },
     "metadata": {},
     "output_type": "display_data"
    },
    {
     "data": {
      "application/vnd.jupyter.widget-view+json": {
       "model_id": "4d1bccaaa3ea486cacbc1a9888a8ae93",
       "version_major": 2,
       "version_minor": 0
      },
      "text/plain": [
       "  0%|          | 0/43 [00:00<?, ?it/s]"
      ]
     },
     "metadata": {},
     "output_type": "display_data"
    },
    {
     "data": {
      "application/vnd.jupyter.widget-view+json": {
       "model_id": "41d067635d684323a60c5cae94beea81",
       "version_major": 2,
       "version_minor": 0
      },
      "text/plain": [
       "  0%|          | 0/43 [00:00<?, ?it/s]"
      ]
     },
     "metadata": {},
     "output_type": "display_data"
    }
   ],
   "source": [
    "from tqdm.auto import tqdm\n",
    "from functools import partial\n",
    "from micrlhf.utils.activation_manipulation import add_vector\n",
    "\n",
    "task_losses = {}\n",
    "\n",
    "n_few_shots, batch_size, max_seq_len = 20, 16, 256\n",
    "seed = 10\n",
    "\n",
    "prompt = \"Follow the pattern:\\n{}\"\n",
    "\n",
    "\n",
    "for task_name in tqdm(task_names):\n",
    "\n",
    "    sep = 3978\n",
    "    pad = 0\n",
    "\n",
    "\n",
    "    pairs = list(tasks[task_name].items())\n",
    "    \n",
    "    runner = ICLRunner(task_name, pairs, batch_size=batch_size, n_shot=1, max_seq_len=max_seq_len, seed=seed, prompt=prompt)\n",
    "\n",
    "    tokenized = runner.get_tokens([\n",
    "        x[:n_few_shots] for x in runner.train_pairs\n",
    "    ], tokenizer)\n",
    "\n",
    "    inputs = tokenized_to_inputs(**tokenized)\n",
    "    train_tokens = tokenized[\"input_ids\"]\n",
    "\n",
    "    _, all_resids = get_resids_call(inputs)\n",
    "\n",
    "    scale = 23\n",
    "    \n",
    "    def steer_with_direction(direction):\n",
    "        direction = direction / jnp.linalg.norm(direction)\n",
    "        direction = direction * scale\n",
    "        \n",
    "        mask = train_tokens == sep\n",
    "\n",
    "        col_indices = jnp.arange(mask.shape[1])\n",
    "\n",
    "        col_indices_broadcasted = mask * col_indices\n",
    "\n",
    "        sorted_indices = jnp.sort(col_indices_broadcasted, axis=1, descending=True)\n",
    "\n",
    "        positions = sorted_indices[:, :1]\n",
    "\n",
    "        add_act = add_vector(llama, direction, layer, 1, position = positions)\n",
    "\n",
    "        logits = add_act(inputs)\n",
    "        logits = logits.unwrap(\"batch\", \"seq\", \"vocabulary\")\n",
    "\n",
    "        return logprob_loss(logits, train_tokens, sep=sep, pad_token=pad, n_first=3)\n",
    "\n",
    "    task_losses[task_name] = [[steer_with_direction(sae[\"W_dec\"][feature]).tolist() for feature in tqdm(features)]]\n",
    "\n",
    "    logits = llama(inputs)\n",
    "\n",
    "    logits = logits.unwrap(\"batch\", \"seq\", \"vocabulary\")\n",
    "\n",
    "    task_losses[task_name].append(logprob_loss(logits, train_tokens, sep=sep, pad_token=pad, n_first=3).tolist())"
   ]
  },
  {
   "cell_type": "code",
   "execution_count": 26,
   "metadata": {},
   "outputs": [
    {
     "data": {
      "application/vnd.jupyter.widget-view+json": {
       "model_id": "3a0ddb406b6048f9b94a226922d9c7a4",
       "version_major": 2,
       "version_minor": 0
      },
      "text/plain": [
       "  0%|          | 0/8 [00:00<?, ?it/s]"
      ]
     },
     "metadata": {},
     "output_type": "display_data"
    },
    {
     "data": {
      "application/vnd.jupyter.widget-view+json": {
       "model_id": "8f8da3ab626847b1bc624541e38befa8",
       "version_major": 2,
       "version_minor": 0
      },
      "text/plain": [
       "  0%|          | 0/42 [00:00<?, ?it/s]"
      ]
     },
     "metadata": {},
     "output_type": "display_data"
    },
    {
     "data": {
      "application/vnd.jupyter.widget-view+json": {
       "model_id": "009e802076e64022b7e9a98e7e0fc094",
       "version_major": 2,
       "version_minor": 0
      },
      "text/plain": [
       "  0%|          | 0/42 [00:00<?, ?it/s]"
      ]
     },
     "metadata": {},
     "output_type": "display_data"
    },
    {
     "data": {
      "application/vnd.jupyter.widget-view+json": {
       "model_id": "7e2f6422965347baaaae1b17a9659b1c",
       "version_major": 2,
       "version_minor": 0
      },
      "text/plain": [
       "  0%|          | 0/42 [00:00<?, ?it/s]"
      ]
     },
     "metadata": {},
     "output_type": "display_data"
    },
    {
     "data": {
      "application/vnd.jupyter.widget-view+json": {
       "model_id": "317df3236d5a458ea7c6eeb8ab1c6a8c",
       "version_major": 2,
       "version_minor": 0
      },
      "text/plain": [
       "  0%|          | 0/42 [00:00<?, ?it/s]"
      ]
     },
     "metadata": {},
     "output_type": "display_data"
    },
    {
     "data": {
      "application/vnd.jupyter.widget-view+json": {
       "model_id": "47e77e68a0dd4de894a544a33cb2ae80",
       "version_major": 2,
       "version_minor": 0
      },
      "text/plain": [
       "  0%|          | 0/42 [00:00<?, ?it/s]"
      ]
     },
     "metadata": {},
     "output_type": "display_data"
    },
    {
     "data": {
      "application/vnd.jupyter.widget-view+json": {
       "model_id": "f749d67ef3ce40dea2c900ccade69e83",
       "version_major": 2,
       "version_minor": 0
      },
      "text/plain": [
       "  0%|          | 0/42 [00:00<?, ?it/s]"
      ]
     },
     "metadata": {},
     "output_type": "display_data"
    },
    {
     "data": {
      "application/vnd.jupyter.widget-view+json": {
       "model_id": "16ee48a218904263baaf121fe0baa884",
       "version_major": 2,
       "version_minor": 0
      },
      "text/plain": [
       "  0%|          | 0/42 [00:00<?, ?it/s]"
      ]
     },
     "metadata": {},
     "output_type": "display_data"
    },
    {
     "data": {
      "application/vnd.jupyter.widget-view+json": {
       "model_id": "23be47925c294a41bf95665f5aba1e51",
       "version_major": 2,
       "version_minor": 0
      },
      "text/plain": [
       "  0%|          | 0/42 [00:00<?, ?it/s]"
      ]
     },
     "metadata": {},
     "output_type": "display_data"
    }
   ],
   "source": [
    "import dataclasses\n",
    "from tqdm.auto import tqdm\n",
    "from functools import partial\n",
    "from micrlhf.utils.activation_manipulation import add_vector\n",
    "\n",
    "negative_task_losses = {}\n",
    "\n",
    "n_few_shots, batch_size, max_seq_len = 20, 16, 256\n",
    "seed = 10\n",
    "\n",
    "prompt = \"Follow the pattern:\\n{}\"\n",
    "\n",
    "def calc_acc(tokens, sep, logits, runner):\n",
    "    arrow_pos = jnp.nonzero(tokens == sep)\n",
    "    arrow_pos_single = []\n",
    "    for i in range(batch_size):\n",
    "        arrow_pos_single.append(arrow_pos[1][arrow_pos[0] == i].max())\n",
    "\n",
    "    arrow_pos_single = np.array(arrow_pos_single)\n",
    "\n",
    "    hits = 0\n",
    "\n",
    "    for i, (ap, l) in enumerate(zip(arrow_pos_single, logits)):\n",
    "        l = l.argmax(-1)\n",
    "        tgt = runner.eval_pairs[i][-1][1]\n",
    "        hits += int(tgt in repr(tokenizer.decode(l[ap:ap+3])))\n",
    "    return hits / runner.eval_batch_size\n",
    "\n",
    "def calc_acc(tokens, sep, logits, runner):\n",
    "    logits = logits.argmax(-1)\n",
    "    logits = logits[:, :-1]\n",
    "    tokens = tokens[:, 1:]\n",
    "\n",
    "    mask = tokens == sep\n",
    "\n",
    "    hits = tokens == logits\n",
    "\n",
    "    hits = hits * mask\n",
    "\n",
    "    hits = hits.sum()\n",
    "    return hits / mask.sum()\n",
    "\n",
    "\n",
    "\n",
    "\n",
    "def make_taker(llama, layer):\n",
    "    taker = jit_wrapper.Jitted(llama.select().at_instances_of(LlamaBlock).apply_with_selected_index(\n",
    "        lambda i, x: x if i >= layer else pz.nn.Identity()\n",
    "    ).select().at_instances_of(pz.nn.EmbeddingLookup).apply(lambda _: pz.nn.Identity())\n",
    "                    .select().at_instances_of(pz.nn.ConstantRescale).pick_nth_selected(0).apply(lambda _: pz.nn.Identity()))\n",
    "\n",
    "    return taker\n",
    "\n",
    "taker = make_taker(llama, layer)\n",
    "\n",
    "for task_name in tqdm(task_names):\n",
    "\n",
    "    sep = 3978\n",
    "    pad = 0\n",
    "\n",
    "\n",
    "    pairs = list(tasks[task_name].items())\n",
    "\n",
    "    n_shot = n_few_shots - 1\n",
    "    if task_name.startswith(\"algo\"):\n",
    "        n_shot = 16\n",
    "\n",
    "    runner = ICLRunner(task_name, pairs, batch_size=batch_size, n_shot=n_shot, max_seq_len=max_seq_len, seed=seed, prompt=prompt)\n",
    "\n",
    "    tokenized = runner.get_tokens([\n",
    "        x[:n_few_shots] for x in runner.train_pairs\n",
    "    ], tokenizer)\n",
    "\n",
    "    inputs = tokenized_to_inputs(**tokenized)\n",
    "    train_tokens = tokenized[\"input_ids\"]\n",
    "\n",
    "    _, all_resids = get_resids_call(inputs)\n",
    "\n",
    "    scale = 30\n",
    "\n",
    "    resids = all_resids[layer].value.unwrap(\"batch\", \"seq\", \"embedding\")\n",
    "\n",
    "    mask = train_tokens == sep\n",
    "    col_indices = jnp.arange(mask.shape[1])\n",
    "    col_indices_broadcasted = mask * col_indices\n",
    "    sorted_indices = jnp.sort(col_indices_broadcasted, axis=1, descending=True)\n",
    "\n",
    "    k = jnp.sum(mask[0]).astype(int)\n",
    "\n",
    "    positions = sorted_indices[:, :k]\n",
    "    \n",
    "    def steer_with_direction(direction):\n",
    "        direction = direction / jnp.linalg.norm(direction)\n",
    "        direction = direction * scale\n",
    "        \n",
    "        modified = jax.vmap(lambda a, b: a.at[b].add(direction))(\n",
    "            resids, positions\n",
    "        )\n",
    "        modified = pz.nx.wrap(modified, \"batch\", \"seq\", \"embedding\")\n",
    "\n",
    "        _inputs = dataclasses.replace(inputs, tokens=modified)\n",
    "        logits = taker(_inputs).unwrap(\"batch\", \"seq\", \"vocabulary\")\n",
    "\n",
    "        acc = calc_acc(train_tokens, sep, logits, runner)\n",
    "\n",
    "        return logprob_loss(logits, train_tokens, sep=sep, pad_token=pad, n_first=2), acc\n",
    "\n",
    "    negative_task_losses[task_name] = [[steer_with_direction(-sae[\"W_dec\"][feature]) for feature in tqdm(features)]]\n",
    "\n",
    "    logits = llama(inputs)\n",
    "\n",
    "    logits = logits.unwrap(\"batch\", \"seq\", \"vocabulary\")\n",
    "\n",
    "    acc = calc_acc(train_tokens, sep, logits, runner)\n",
    "    negative_task_losses[task_name].append((logprob_loss(logits, train_tokens, sep=sep, pad_token=pad, n_first=2), acc))"
   ]
  },
  {
   "cell_type": "code",
   "execution_count": 17,
   "metadata": {},
   "outputs": [
    {
     "data": {
      "application/vnd.plotly.v1+json": {
       "config": {
        "plotlyServerURL": "https://plot.ly"
       },
       "data": [
        {
         "coloraxis": "coloraxis",
         "hovertemplate": "x: %{x}<br>y: %{y}<br>color: %{z}<extra></extra>",
         "name": "0",
         "type": "heatmap",
         "x": [
          "9600",
          "23682",
          "32643",
          "31620",
          "27268",
          "27401",
          "6413",
          "24206",
          "12943",
          "16016",
          "9488",
          "13458",
          "14612",
          "19097",
          "7578",
          "16671",
          "19112",
          "7739",
          "8125",
          "32320",
          "6594",
          "7491",
          "15947",
          "5579",
          "15356",
          "16340",
          "24925",
          "30814",
          "4448",
          "26594",
          "11618",
          "6756",
          "6629",
          "5991",
          "16490",
          "2539",
          "26987",
          "6765",
          "18416",
          "2930",
          "2931",
          "22136",
          "6780"
         ],
         "xaxis": "x",
         "y": [
          "en_es",
          "antonyms",
          "person_profession",
          "es_en",
          "present_simple_gerund",
          "present_simple_past_simple",
          "person_profession",
          "person_language",
          "country_capital",
          "football_player_position"
         ],
         "yaxis": "y",
         "z": [
          [
           0.021897810218978103,
           -0.058394160583941604,
           -0.17518248175182483,
           0.072992700729927,
           0.1897810218978102,
           0.22627737226277372,
           0.1897810218978102,
           0.1678832116788321,
           0.11678832116788321,
           -0.40875912408759124,
           0.15328467153284672,
           -0.0948905109489051,
           0.072992700729927,
           0.11678832116788321,
           0.145985401459854,
           -0.11678832116788321,
           -0.1386861313868613,
           0.06569343065693431,
           0.0948905109489051,
           -0.19343065693430658,
           -0.051094890510948905,
           -0.021897810218978103,
           -0.15328467153284672,
           -0.014598540145985401,
           -0.014598540145985401,
           0.20437956204379562,
           0.014598540145985401,
           -0.06569343065693431,
           -0.058394160583941604,
           -0.058394160583941604,
           0.11678832116788321,
           0,
           0.029197080291970802,
           -0.145985401459854,
           0.10218978102189781,
           -0.10218978102189781,
           -0.6551094890510949,
           0.08029197080291971,
           -0.06569343065693431,
           -0.043795620437956206,
           0.06569343065693431,
           0.16058394160583941,
           0.1386861313868613
          ],
          [
           0.3310344827586207,
           -0.09655172413793103,
           0.6482758620689655,
           -0.3620689655172414,
           2.1448275862068966,
           2.2,
           0.8482758620689655,
           0.8344827586206897,
           0.027586206896551724,
           1.896551724137931,
           0.19310344827586207,
           -0.3413793103448276,
           1.0551724137931036,
           -0.47586206896551725,
           0.5103448275862069,
           0.2206896551724138,
           -0.24482758620689654,
           0.2827586206896552,
           0.38620689655172413,
           0.09655172413793103,
           1.3172413793103448,
           -0.1103448275862069,
           -0.07586206896551724,
           2.213793103448276,
           0.696551724137931,
           0.8482758620689655,
           1.6758620689655173,
           0.33793103448275863,
           0.020689655172413793,
           0.041379310344827586,
           -0.7172413793103448,
           0.006896551724137931,
           0.8344827586206897,
           0.5862068965517241,
           1.4,
           0.5379310344827586,
           3.220689655172414,
           -0.1413793103448276,
           0.593103448275862,
           1.1655172413793105,
           0.35172413793103446,
           -0.30689655172413793,
           0.6275862068965518
          ],
          [
           0.02066115702479339,
           -0.30165289256198347,
           0.01652892561983471,
           -0.3140495867768595,
           0.5785123966942148,
           -0.19008264462809918,
           -0.21074380165289255,
           -0.24380165289256198,
           -0.4256198347107438,
           0.15702479338842976,
           0.2066115702479339,
           -0.49586776859504134,
           -0.028925619834710745,
           -0.16115702479338842,
           0.1322314049586777,
           -0.3347107438016529,
           0.0743801652892562,
           0.1652892561983471,
           -0.14049586776859505,
           0.03305785123966942,
           0.09917355371900827,
           -0.5950413223140496,
           -0.34710743801652894,
           0.09917355371900827,
           0.2066115702479339,
           0.5041322314049587,
           0.33884297520661155,
           -0.2768595041322314,
           0.1487603305785124,
           0.15702479338842976,
           0.05785123966942149,
           -0.09090909090909091,
           -0.17768595041322313,
           0.19008264462809918,
           0.36363636363636365,
           -0.09917355371900827,
           0.8264462809917356,
           -0.15289256198347106,
           -0.5082644628099173,
           0.4793388429752066,
           0.012396694214876033,
           0.5537190082644629,
           0.045454545454545456
          ],
          [
           0.17,
           -0.23,
           -0.16,
           0.235,
           0.31,
           0.97,
           0.71,
           0.43,
           -0.24,
           -0.39,
           -0.025,
           -0.12,
           -0.005,
           -0.06,
           0.11,
           -0.205,
           0.04,
           -0.03,
           0.33,
           -0.4325,
           0.075,
           -0.335,
           -0.21,
           -0.46,
           0.19,
           0.73,
           0.8,
           -0.15,
           -0.19,
           -0.275,
           0.23,
           -0.325,
           -0.5575,
           0.02,
           -0.045,
           -0.14,
           0.66,
           -0.345,
           -0.1,
           -0.22,
           0.19,
           0.275,
           0.065
          ],
          [
           0.4074074074074074,
           0.03292181069958848,
           0.024691358024691357,
           0.8353909465020576,
           0.4567901234567901,
           0.8106995884773662,
           0.8930041152263375,
           0.8189300411522634,
           0.34156378600823045,
           -0.3786008230452675,
           0.49794238683127573,
           0.20987654320987653,
           0.20164609053497942,
           0.2839506172839506,
           0.9917695473251029,
           0.06995884773662552,
           0.102880658436214,
           0.4156378600823045,
           0.8683127572016461,
           -0.14814814814814814,
           0.00823045267489712,
           0.06995884773662552,
           0.20987654320987653,
           0.2345679012345679,
           -0.10699588477366255,
           0.8353909465020576,
           0.8271604938271605,
           0.1934156378600823,
           -0.205761316872428,
           0.13580246913580246,
           0.3662551440329218,
           0.38271604938271603,
           0.12757201646090535,
           0.0411522633744856,
           0.48148148148148145,
           0.20987654320987653,
           0.1934156378600823,
           0.2839506172839506,
           0.3004115226337449,
           0.02880658436213992,
           0.37448559670781895,
           0.5720164609053497,
           0.8518518518518519
          ],
          [
           0.6898395721925134,
           0.22994652406417113,
           0.22459893048128343,
           1.4919786096256684,
           0.839572192513369,
           1.7807486631016043,
           1.8021390374331552,
           1.6737967914438503,
           0.7112299465240641,
           -0.28342245989304815,
           0.29411764705882354,
           0.0748663101604278,
           0.6042780748663101,
           0.19786096256684493,
           1.5240641711229947,
           0.42245989304812837,
           0.5935828877005348,
           1,
           1.3101604278074865,
           0.03208556149732621,
           -0.18181818181818182,
           0.2887700534759358,
           0.43315508021390375,
           0.27807486631016043,
           -0.42513368983957217,
           1.160427807486631,
           1.4385026737967914,
           0.058823529411764705,
           0.3689839572192513,
           0.679144385026738,
           0.5080213903743316,
           0.016042780748663103,
           -0.06951871657754011,
           0.46524064171123,
           0.9358288770053476,
           0.45454545454545453,
           0.45454545454545453,
           0.2620320855614973,
           0.7540106951871658,
           -0.026737967914438502,
           -0.0053475935828877,
           1.032085561497326,
           1.7807486631016043
          ],
          [
           0.02066115702479339,
           -0.30165289256198347,
           0.01652892561983471,
           -0.3140495867768595,
           0.5785123966942148,
           -0.19008264462809918,
           -0.21074380165289255,
           -0.24380165289256198,
           -0.4256198347107438,
           0.15702479338842976,
           0.2066115702479339,
           -0.49586776859504134,
           -0.028925619834710745,
           -0.16115702479338842,
           0.1322314049586777,
           -0.3347107438016529,
           0.0743801652892562,
           0.1652892561983471,
           -0.14049586776859505,
           0.03305785123966942,
           0.09917355371900827,
           -0.5950413223140496,
           -0.34710743801652894,
           0.09917355371900827,
           0.2066115702479339,
           0.5041322314049587,
           0.33884297520661155,
           -0.2768595041322314,
           0.1487603305785124,
           0.15702479338842976,
           0.05785123966942149,
           -0.09090909090909091,
           -0.17768595041322313,
           0.19008264462809918,
           0.36363636363636365,
           -0.09917355371900827,
           0.8264462809917356,
           -0.15289256198347106,
           -0.5082644628099173,
           0.4793388429752066,
           0.012396694214876033,
           0.5537190082644629,
           0.045454545454545456
          ],
          [
           -0.020134228187919462,
           -0.12751677852348994,
           -0.17114093959731544,
           -0.28523489932885904,
           0.8791946308724832,
           -0.18120805369127516,
           0.08053691275167785,
           0.12080536912751678,
           -0.09395973154362416,
           -0.06711409395973154,
           0.3825503355704698,
           -0.41946308724832215,
           0.26174496644295303,
           0.06040268456375839,
           -0.020134228187919462,
           0.26174496644295303,
           -0.1342281879194631,
           0.22818791946308725,
           0.06711409395973154,
           -0.06040268456375839,
           0.7181208053691275,
           -0.4865771812080537,
           -0.2516778523489933,
           -0.22818791946308725,
           -0.22818791946308725,
           0.5906040268456376,
           0.3087248322147651,
           0.24161073825503357,
           0.06711409395973154,
           0.09395973154362416,
           -0.1342281879194631,
           -0.08053691275167785,
           -0.2751677852348993,
           -0.09395973154362416,
           0.5838926174496645,
           -0.2651006711409396,
           1.0134228187919463,
           0.006711409395973154,
           -0.6308724832214765,
           0.47651006711409394,
           -0.11409395973154363,
           0.6241610738255033,
           0.006711409395973154
          ],
          [
           1,
           0.09444444444444444,
           0.35,
           0.5777777777777777,
           1.2444444444444445,
           1.3222222222222222,
           1.2,
           1.4777777777777779,
           0.9555555555555556,
           0.1111111111111111,
           0.4111111111111111,
           0.34444444444444444,
           0.4666666666666667,
           0.6888888888888889,
           0.7777777777777778,
           0.5333333333333333,
           0.3388888888888889,
           0.5111111111111111,
           1.1666666666666667,
           0.06666666666666667,
           0.8444444444444444,
           0.25555555555555554,
           0.12777777777777777,
           1.0222222222222221,
           0.4222222222222222,
           1.3333333333333333,
           1.5888888888888888,
           0.2833333333333333,
           0.6111111111111112,
           0.4666666666666667,
           0.7888888888888889,
           0.23333333333333334,
           0.32222222222222224,
           -0.08888888888888889,
           1.9333333333333333,
           0.4777777777777778,
           0.5444444444444444,
           -0.18888888888888888,
           0.24444444444444444,
           0.7111111111111111,
           0.4777777777777778,
           0.5555555555555556,
           1.011111111111111
          ],
          [
           0.029850746268656716,
           -0.16044776119402984,
           0.13432835820895522,
           -0.26119402985074625,
           0.5074626865671642,
           0.05970149253731343,
           0.014925373134328358,
           0.19402985074626866,
           -0.2537313432835821,
           0.23880597014925373,
           0.291044776119403,
           -0.48134328358208955,
           0.1791044776119403,
           -0.10074626865671642,
           0.4253731343283582,
           -0.26119402985074625,
           0.014925373134328358,
           0.19402985074626866,
           0.04477611940298507,
           -0.029850746268656716,
           0.12686567164179105,
           -0.3694029850746269,
           -0.19776119402985073,
           0.06716417910447761,
           0.12686567164179105,
           0.30597014925373134,
           0.417910447761194,
           -0.2462686567164179,
           0.06716417910447761,
           0.022388059701492536,
           -0.022388059701492536,
           0.05970149253731343,
           -0.08582089552238806,
           0.07462686567164178,
           0.2462686567164179,
           0.03731343283582089,
           0.7238805970149254,
           0.09701492537313433,
           -0.31716417910447764,
           0.26119402985074625,
           -0.08955223880597014,
           0.3656716417910448,
           0.1865671641791045
          ]
         ]
        }
       ],
       "layout": {
        "coloraxis": {
         "cmax": 1,
         "cmin": -1,
         "colorscale": [
          [
           0,
           "#0d0887"
          ],
          [
           0.1111111111111111,
           "#46039f"
          ],
          [
           0.2222222222222222,
           "#7201a8"
          ],
          [
           0.3333333333333333,
           "#9c179e"
          ],
          [
           0.4444444444444444,
           "#bd3786"
          ],
          [
           0.5555555555555556,
           "#d8576b"
          ],
          [
           0.6666666666666666,
           "#ed7953"
          ],
          [
           0.7777777777777778,
           "#fb9f3a"
          ],
          [
           0.8888888888888888,
           "#fdca26"
          ],
          [
           1,
           "#f0f921"
          ]
         ]
        },
        "margin": {
         "t": 60
        },
        "template": {
         "data": {
          "bar": [
           {
            "error_x": {
             "color": "#2a3f5f"
            },
            "error_y": {
             "color": "#2a3f5f"
            },
            "marker": {
             "line": {
              "color": "#E5ECF6",
              "width": 0.5
             },
             "pattern": {
              "fillmode": "overlay",
              "size": 10,
              "solidity": 0.2
             }
            },
            "type": "bar"
           }
          ],
          "barpolar": [
           {
            "marker": {
             "line": {
              "color": "#E5ECF6",
              "width": 0.5
             },
             "pattern": {
              "fillmode": "overlay",
              "size": 10,
              "solidity": 0.2
             }
            },
            "type": "barpolar"
           }
          ],
          "carpet": [
           {
            "aaxis": {
             "endlinecolor": "#2a3f5f",
             "gridcolor": "white",
             "linecolor": "white",
             "minorgridcolor": "white",
             "startlinecolor": "#2a3f5f"
            },
            "baxis": {
             "endlinecolor": "#2a3f5f",
             "gridcolor": "white",
             "linecolor": "white",
             "minorgridcolor": "white",
             "startlinecolor": "#2a3f5f"
            },
            "type": "carpet"
           }
          ],
          "choropleth": [
           {
            "colorbar": {
             "outlinewidth": 0,
             "ticks": ""
            },
            "type": "choropleth"
           }
          ],
          "contour": [
           {
            "colorbar": {
             "outlinewidth": 0,
             "ticks": ""
            },
            "colorscale": [
             [
              0,
              "#0d0887"
             ],
             [
              0.1111111111111111,
              "#46039f"
             ],
             [
              0.2222222222222222,
              "#7201a8"
             ],
             [
              0.3333333333333333,
              "#9c179e"
             ],
             [
              0.4444444444444444,
              "#bd3786"
             ],
             [
              0.5555555555555556,
              "#d8576b"
             ],
             [
              0.6666666666666666,
              "#ed7953"
             ],
             [
              0.7777777777777778,
              "#fb9f3a"
             ],
             [
              0.8888888888888888,
              "#fdca26"
             ],
             [
              1,
              "#f0f921"
             ]
            ],
            "type": "contour"
           }
          ],
          "contourcarpet": [
           {
            "colorbar": {
             "outlinewidth": 0,
             "ticks": ""
            },
            "type": "contourcarpet"
           }
          ],
          "heatmap": [
           {
            "colorbar": {
             "outlinewidth": 0,
             "ticks": ""
            },
            "colorscale": [
             [
              0,
              "#0d0887"
             ],
             [
              0.1111111111111111,
              "#46039f"
             ],
             [
              0.2222222222222222,
              "#7201a8"
             ],
             [
              0.3333333333333333,
              "#9c179e"
             ],
             [
              0.4444444444444444,
              "#bd3786"
             ],
             [
              0.5555555555555556,
              "#d8576b"
             ],
             [
              0.6666666666666666,
              "#ed7953"
             ],
             [
              0.7777777777777778,
              "#fb9f3a"
             ],
             [
              0.8888888888888888,
              "#fdca26"
             ],
             [
              1,
              "#f0f921"
             ]
            ],
            "type": "heatmap"
           }
          ],
          "heatmapgl": [
           {
            "colorbar": {
             "outlinewidth": 0,
             "ticks": ""
            },
            "colorscale": [
             [
              0,
              "#0d0887"
             ],
             [
              0.1111111111111111,
              "#46039f"
             ],
             [
              0.2222222222222222,
              "#7201a8"
             ],
             [
              0.3333333333333333,
              "#9c179e"
             ],
             [
              0.4444444444444444,
              "#bd3786"
             ],
             [
              0.5555555555555556,
              "#d8576b"
             ],
             [
              0.6666666666666666,
              "#ed7953"
             ],
             [
              0.7777777777777778,
              "#fb9f3a"
             ],
             [
              0.8888888888888888,
              "#fdca26"
             ],
             [
              1,
              "#f0f921"
             ]
            ],
            "type": "heatmapgl"
           }
          ],
          "histogram": [
           {
            "marker": {
             "pattern": {
              "fillmode": "overlay",
              "size": 10,
              "solidity": 0.2
             }
            },
            "type": "histogram"
           }
          ],
          "histogram2d": [
           {
            "colorbar": {
             "outlinewidth": 0,
             "ticks": ""
            },
            "colorscale": [
             [
              0,
              "#0d0887"
             ],
             [
              0.1111111111111111,
              "#46039f"
             ],
             [
              0.2222222222222222,
              "#7201a8"
             ],
             [
              0.3333333333333333,
              "#9c179e"
             ],
             [
              0.4444444444444444,
              "#bd3786"
             ],
             [
              0.5555555555555556,
              "#d8576b"
             ],
             [
              0.6666666666666666,
              "#ed7953"
             ],
             [
              0.7777777777777778,
              "#fb9f3a"
             ],
             [
              0.8888888888888888,
              "#fdca26"
             ],
             [
              1,
              "#f0f921"
             ]
            ],
            "type": "histogram2d"
           }
          ],
          "histogram2dcontour": [
           {
            "colorbar": {
             "outlinewidth": 0,
             "ticks": ""
            },
            "colorscale": [
             [
              0,
              "#0d0887"
             ],
             [
              0.1111111111111111,
              "#46039f"
             ],
             [
              0.2222222222222222,
              "#7201a8"
             ],
             [
              0.3333333333333333,
              "#9c179e"
             ],
             [
              0.4444444444444444,
              "#bd3786"
             ],
             [
              0.5555555555555556,
              "#d8576b"
             ],
             [
              0.6666666666666666,
              "#ed7953"
             ],
             [
              0.7777777777777778,
              "#fb9f3a"
             ],
             [
              0.8888888888888888,
              "#fdca26"
             ],
             [
              1,
              "#f0f921"
             ]
            ],
            "type": "histogram2dcontour"
           }
          ],
          "mesh3d": [
           {
            "colorbar": {
             "outlinewidth": 0,
             "ticks": ""
            },
            "type": "mesh3d"
           }
          ],
          "parcoords": [
           {
            "line": {
             "colorbar": {
              "outlinewidth": 0,
              "ticks": ""
             }
            },
            "type": "parcoords"
           }
          ],
          "pie": [
           {
            "automargin": true,
            "type": "pie"
           }
          ],
          "scatter": [
           {
            "fillpattern": {
             "fillmode": "overlay",
             "size": 10,
             "solidity": 0.2
            },
            "type": "scatter"
           }
          ],
          "scatter3d": [
           {
            "line": {
             "colorbar": {
              "outlinewidth": 0,
              "ticks": ""
             }
            },
            "marker": {
             "colorbar": {
              "outlinewidth": 0,
              "ticks": ""
             }
            },
            "type": "scatter3d"
           }
          ],
          "scattercarpet": [
           {
            "marker": {
             "colorbar": {
              "outlinewidth": 0,
              "ticks": ""
             }
            },
            "type": "scattercarpet"
           }
          ],
          "scattergeo": [
           {
            "marker": {
             "colorbar": {
              "outlinewidth": 0,
              "ticks": ""
             }
            },
            "type": "scattergeo"
           }
          ],
          "scattergl": [
           {
            "marker": {
             "colorbar": {
              "outlinewidth": 0,
              "ticks": ""
             }
            },
            "type": "scattergl"
           }
          ],
          "scattermapbox": [
           {
            "marker": {
             "colorbar": {
              "outlinewidth": 0,
              "ticks": ""
             }
            },
            "type": "scattermapbox"
           }
          ],
          "scatterpolar": [
           {
            "marker": {
             "colorbar": {
              "outlinewidth": 0,
              "ticks": ""
             }
            },
            "type": "scatterpolar"
           }
          ],
          "scatterpolargl": [
           {
            "marker": {
             "colorbar": {
              "outlinewidth": 0,
              "ticks": ""
             }
            },
            "type": "scatterpolargl"
           }
          ],
          "scatterternary": [
           {
            "marker": {
             "colorbar": {
              "outlinewidth": 0,
              "ticks": ""
             }
            },
            "type": "scatterternary"
           }
          ],
          "surface": [
           {
            "colorbar": {
             "outlinewidth": 0,
             "ticks": ""
            },
            "colorscale": [
             [
              0,
              "#0d0887"
             ],
             [
              0.1111111111111111,
              "#46039f"
             ],
             [
              0.2222222222222222,
              "#7201a8"
             ],
             [
              0.3333333333333333,
              "#9c179e"
             ],
             [
              0.4444444444444444,
              "#bd3786"
             ],
             [
              0.5555555555555556,
              "#d8576b"
             ],
             [
              0.6666666666666666,
              "#ed7953"
             ],
             [
              0.7777777777777778,
              "#fb9f3a"
             ],
             [
              0.8888888888888888,
              "#fdca26"
             ],
             [
              1,
              "#f0f921"
             ]
            ],
            "type": "surface"
           }
          ],
          "table": [
           {
            "cells": {
             "fill": {
              "color": "#EBF0F8"
             },
             "line": {
              "color": "white"
             }
            },
            "header": {
             "fill": {
              "color": "#C8D4E3"
             },
             "line": {
              "color": "white"
             }
            },
            "type": "table"
           }
          ]
         },
         "layout": {
          "annotationdefaults": {
           "arrowcolor": "#2a3f5f",
           "arrowhead": 0,
           "arrowwidth": 1
          },
          "autotypenumbers": "strict",
          "coloraxis": {
           "colorbar": {
            "outlinewidth": 0,
            "ticks": ""
           }
          },
          "colorscale": {
           "diverging": [
            [
             0,
             "#8e0152"
            ],
            [
             0.1,
             "#c51b7d"
            ],
            [
             0.2,
             "#de77ae"
            ],
            [
             0.3,
             "#f1b6da"
            ],
            [
             0.4,
             "#fde0ef"
            ],
            [
             0.5,
             "#f7f7f7"
            ],
            [
             0.6,
             "#e6f5d0"
            ],
            [
             0.7,
             "#b8e186"
            ],
            [
             0.8,
             "#7fbc41"
            ],
            [
             0.9,
             "#4d9221"
            ],
            [
             1,
             "#276419"
            ]
           ],
           "sequential": [
            [
             0,
             "#0d0887"
            ],
            [
             0.1111111111111111,
             "#46039f"
            ],
            [
             0.2222222222222222,
             "#7201a8"
            ],
            [
             0.3333333333333333,
             "#9c179e"
            ],
            [
             0.4444444444444444,
             "#bd3786"
            ],
            [
             0.5555555555555556,
             "#d8576b"
            ],
            [
             0.6666666666666666,
             "#ed7953"
            ],
            [
             0.7777777777777778,
             "#fb9f3a"
            ],
            [
             0.8888888888888888,
             "#fdca26"
            ],
            [
             1,
             "#f0f921"
            ]
           ],
           "sequentialminus": [
            [
             0,
             "#0d0887"
            ],
            [
             0.1111111111111111,
             "#46039f"
            ],
            [
             0.2222222222222222,
             "#7201a8"
            ],
            [
             0.3333333333333333,
             "#9c179e"
            ],
            [
             0.4444444444444444,
             "#bd3786"
            ],
            [
             0.5555555555555556,
             "#d8576b"
            ],
            [
             0.6666666666666666,
             "#ed7953"
            ],
            [
             0.7777777777777778,
             "#fb9f3a"
            ],
            [
             0.8888888888888888,
             "#fdca26"
            ],
            [
             1,
             "#f0f921"
            ]
           ]
          },
          "colorway": [
           "#636efa",
           "#EF553B",
           "#00cc96",
           "#ab63fa",
           "#FFA15A",
           "#19d3f3",
           "#FF6692",
           "#B6E880",
           "#FF97FF",
           "#FECB52"
          ],
          "font": {
           "color": "#2a3f5f"
          },
          "geo": {
           "bgcolor": "white",
           "lakecolor": "white",
           "landcolor": "#E5ECF6",
           "showlakes": true,
           "showland": true,
           "subunitcolor": "white"
          },
          "hoverlabel": {
           "align": "left"
          },
          "hovermode": "closest",
          "mapbox": {
           "style": "light"
          },
          "paper_bgcolor": "white",
          "plot_bgcolor": "#E5ECF6",
          "polar": {
           "angularaxis": {
            "gridcolor": "white",
            "linecolor": "white",
            "ticks": ""
           },
           "bgcolor": "#E5ECF6",
           "radialaxis": {
            "gridcolor": "white",
            "linecolor": "white",
            "ticks": ""
           }
          },
          "scene": {
           "xaxis": {
            "backgroundcolor": "#E5ECF6",
            "gridcolor": "white",
            "gridwidth": 2,
            "linecolor": "white",
            "showbackground": true,
            "ticks": "",
            "zerolinecolor": "white"
           },
           "yaxis": {
            "backgroundcolor": "#E5ECF6",
            "gridcolor": "white",
            "gridwidth": 2,
            "linecolor": "white",
            "showbackground": true,
            "ticks": "",
            "zerolinecolor": "white"
           },
           "zaxis": {
            "backgroundcolor": "#E5ECF6",
            "gridcolor": "white",
            "gridwidth": 2,
            "linecolor": "white",
            "showbackground": true,
            "ticks": "",
            "zerolinecolor": "white"
           }
          },
          "shapedefaults": {
           "line": {
            "color": "#2a3f5f"
           }
          },
          "ternary": {
           "aaxis": {
            "gridcolor": "white",
            "linecolor": "white",
            "ticks": ""
           },
           "baxis": {
            "gridcolor": "white",
            "linecolor": "white",
            "ticks": ""
           },
           "bgcolor": "#E5ECF6",
           "caxis": {
            "gridcolor": "white",
            "linecolor": "white",
            "ticks": ""
           }
          },
          "title": {
           "x": 0.05
          },
          "xaxis": {
           "automargin": true,
           "gridcolor": "white",
           "linecolor": "white",
           "ticks": "",
           "title": {
            "standoff": 15
           },
           "zerolinecolor": "white",
           "zerolinewidth": 2
          },
          "yaxis": {
           "automargin": true,
           "gridcolor": "white",
           "linecolor": "white",
           "ticks": "",
           "title": {
            "standoff": 15
           },
           "zerolinecolor": "white",
           "zerolinewidth": 2
          }
         }
        },
        "xaxis": {
         "anchor": "y",
         "constrain": "domain",
         "domain": [
          0,
          1
         ],
         "scaleanchor": "y"
        },
        "yaxis": {
         "anchor": "x",
         "autorange": "reversed",
         "constrain": "domain",
         "domain": [
          0,
          1
         ]
        }
       }
      },
      "text/html": [
       "<div>                            <div id=\"142cf6aa-647f-49b2-bb76-db1b4b1c8b57\" class=\"plotly-graph-div\" style=\"height:525px; width:100%;\"></div>            <script type=\"text/javascript\">                require([\"plotly\"], function(Plotly) {                    window.PLOTLYENV=window.PLOTLYENV || {};                                    if (document.getElementById(\"142cf6aa-647f-49b2-bb76-db1b4b1c8b57\")) {                    Plotly.newPlot(                        \"142cf6aa-647f-49b2-bb76-db1b4b1c8b57\",                        [{\"coloraxis\":\"coloraxis\",\"name\":\"0\",\"x\":[\"9600\",\"23682\",\"32643\",\"31620\",\"27268\",\"27401\",\"6413\",\"24206\",\"12943\",\"16016\",\"9488\",\"13458\",\"14612\",\"19097\",\"7578\",\"16671\",\"19112\",\"7739\",\"8125\",\"32320\",\"6594\",\"7491\",\"15947\",\"5579\",\"15356\",\"16340\",\"24925\",\"30814\",\"4448\",\"26594\",\"11618\",\"6756\",\"6629\",\"5991\",\"16490\",\"2539\",\"26987\",\"6765\",\"18416\",\"2930\",\"2931\",\"22136\",\"6780\"],\"y\":[\"en_es\",\"antonyms\",\"person_profession\",\"es_en\",\"present_simple_gerund\",\"present_simple_past_simple\",\"person_profession\",\"person_language\",\"country_capital\",\"football_player_position\"],\"z\":[[0.021897810218978103,-0.058394160583941604,-0.17518248175182483,0.072992700729927,0.1897810218978102,0.22627737226277372,0.1897810218978102,0.1678832116788321,0.11678832116788321,-0.40875912408759124,0.15328467153284672,-0.0948905109489051,0.072992700729927,0.11678832116788321,0.145985401459854,-0.11678832116788321,-0.1386861313868613,0.06569343065693431,0.0948905109489051,-0.19343065693430658,-0.051094890510948905,-0.021897810218978103,-0.15328467153284672,-0.014598540145985401,-0.014598540145985401,0.20437956204379562,0.014598540145985401,-0.06569343065693431,-0.058394160583941604,-0.058394160583941604,0.11678832116788321,0.0,0.029197080291970802,-0.145985401459854,0.10218978102189781,-0.10218978102189781,-0.6551094890510949,0.08029197080291971,-0.06569343065693431,-0.043795620437956206,0.06569343065693431,0.16058394160583941,0.1386861313868613],[0.3310344827586207,-0.09655172413793103,0.6482758620689655,-0.3620689655172414,2.1448275862068966,2.2,0.8482758620689655,0.8344827586206897,0.027586206896551724,1.896551724137931,0.19310344827586207,-0.3413793103448276,1.0551724137931036,-0.47586206896551725,0.5103448275862069,0.2206896551724138,-0.24482758620689654,0.2827586206896552,0.38620689655172413,0.09655172413793103,1.3172413793103448,-0.1103448275862069,-0.07586206896551724,2.213793103448276,0.696551724137931,0.8482758620689655,1.6758620689655173,0.33793103448275863,0.020689655172413793,0.041379310344827586,-0.7172413793103448,0.006896551724137931,0.8344827586206897,0.5862068965517241,1.4,0.5379310344827586,3.220689655172414,-0.1413793103448276,0.593103448275862,1.1655172413793105,0.35172413793103446,-0.30689655172413793,0.6275862068965518],[0.02066115702479339,-0.30165289256198347,0.01652892561983471,-0.3140495867768595,0.5785123966942148,-0.19008264462809918,-0.21074380165289255,-0.24380165289256198,-0.4256198347107438,0.15702479338842976,0.2066115702479339,-0.49586776859504134,-0.028925619834710745,-0.16115702479338842,0.1322314049586777,-0.3347107438016529,0.0743801652892562,0.1652892561983471,-0.14049586776859505,0.03305785123966942,0.09917355371900827,-0.5950413223140496,-0.34710743801652894,0.09917355371900827,0.2066115702479339,0.5041322314049587,0.33884297520661155,-0.2768595041322314,0.1487603305785124,0.15702479338842976,0.05785123966942149,-0.09090909090909091,-0.17768595041322313,0.19008264462809918,0.36363636363636365,-0.09917355371900827,0.8264462809917356,-0.15289256198347106,-0.5082644628099173,0.4793388429752066,0.012396694214876033,0.5537190082644629,0.045454545454545456],[0.17,-0.23,-0.16,0.235,0.31,0.97,0.71,0.43,-0.24,-0.39,-0.025,-0.12,-0.005,-0.06,0.11,-0.205,0.04,-0.03,0.33,-0.4325,0.075,-0.335,-0.21,-0.46,0.19,0.73,0.8,-0.15,-0.19,-0.275,0.23,-0.325,-0.5575,0.02,-0.045,-0.14,0.66,-0.345,-0.1,-0.22,0.19,0.275,0.065],[0.4074074074074074,0.03292181069958848,0.024691358024691357,0.8353909465020576,0.4567901234567901,0.8106995884773662,0.8930041152263375,0.8189300411522634,0.34156378600823045,-0.3786008230452675,0.49794238683127573,0.20987654320987653,0.20164609053497942,0.2839506172839506,0.9917695473251029,0.06995884773662552,0.102880658436214,0.4156378600823045,0.8683127572016461,-0.14814814814814814,0.00823045267489712,0.06995884773662552,0.20987654320987653,0.2345679012345679,-0.10699588477366255,0.8353909465020576,0.8271604938271605,0.1934156378600823,-0.205761316872428,0.13580246913580246,0.3662551440329218,0.38271604938271603,0.12757201646090535,0.0411522633744856,0.48148148148148145,0.20987654320987653,0.1934156378600823,0.2839506172839506,0.3004115226337449,0.02880658436213992,0.37448559670781895,0.5720164609053497,0.8518518518518519],[0.6898395721925134,0.22994652406417113,0.22459893048128343,1.4919786096256684,0.839572192513369,1.7807486631016043,1.8021390374331552,1.6737967914438503,0.7112299465240641,-0.28342245989304815,0.29411764705882354,0.0748663101604278,0.6042780748663101,0.19786096256684493,1.5240641711229947,0.42245989304812837,0.5935828877005348,1.0,1.3101604278074865,0.03208556149732621,-0.18181818181818182,0.2887700534759358,0.43315508021390375,0.27807486631016043,-0.42513368983957217,1.160427807486631,1.4385026737967914,0.058823529411764705,0.3689839572192513,0.679144385026738,0.5080213903743316,0.016042780748663103,-0.06951871657754011,0.46524064171123,0.9358288770053476,0.45454545454545453,0.45454545454545453,0.2620320855614973,0.7540106951871658,-0.026737967914438502,-0.0053475935828877,1.032085561497326,1.7807486631016043],[0.02066115702479339,-0.30165289256198347,0.01652892561983471,-0.3140495867768595,0.5785123966942148,-0.19008264462809918,-0.21074380165289255,-0.24380165289256198,-0.4256198347107438,0.15702479338842976,0.2066115702479339,-0.49586776859504134,-0.028925619834710745,-0.16115702479338842,0.1322314049586777,-0.3347107438016529,0.0743801652892562,0.1652892561983471,-0.14049586776859505,0.03305785123966942,0.09917355371900827,-0.5950413223140496,-0.34710743801652894,0.09917355371900827,0.2066115702479339,0.5041322314049587,0.33884297520661155,-0.2768595041322314,0.1487603305785124,0.15702479338842976,0.05785123966942149,-0.09090909090909091,-0.17768595041322313,0.19008264462809918,0.36363636363636365,-0.09917355371900827,0.8264462809917356,-0.15289256198347106,-0.5082644628099173,0.4793388429752066,0.012396694214876033,0.5537190082644629,0.045454545454545456],[-0.020134228187919462,-0.12751677852348994,-0.17114093959731544,-0.28523489932885904,0.8791946308724832,-0.18120805369127516,0.08053691275167785,0.12080536912751678,-0.09395973154362416,-0.06711409395973154,0.3825503355704698,-0.41946308724832215,0.26174496644295303,0.06040268456375839,-0.020134228187919462,0.26174496644295303,-0.1342281879194631,0.22818791946308725,0.06711409395973154,-0.06040268456375839,0.7181208053691275,-0.4865771812080537,-0.2516778523489933,-0.22818791946308725,-0.22818791946308725,0.5906040268456376,0.3087248322147651,0.24161073825503357,0.06711409395973154,0.09395973154362416,-0.1342281879194631,-0.08053691275167785,-0.2751677852348993,-0.09395973154362416,0.5838926174496645,-0.2651006711409396,1.0134228187919463,0.006711409395973154,-0.6308724832214765,0.47651006711409394,-0.11409395973154363,0.6241610738255033,0.006711409395973154],[1.0,0.09444444444444444,0.35,0.5777777777777777,1.2444444444444445,1.3222222222222222,1.2,1.4777777777777779,0.9555555555555556,0.1111111111111111,0.4111111111111111,0.34444444444444444,0.4666666666666667,0.6888888888888889,0.7777777777777778,0.5333333333333333,0.3388888888888889,0.5111111111111111,1.1666666666666667,0.06666666666666667,0.8444444444444444,0.25555555555555554,0.12777777777777777,1.0222222222222221,0.4222222222222222,1.3333333333333333,1.5888888888888888,0.2833333333333333,0.6111111111111112,0.4666666666666667,0.7888888888888889,0.23333333333333334,0.32222222222222224,-0.08888888888888889,1.9333333333333333,0.4777777777777778,0.5444444444444444,-0.18888888888888888,0.24444444444444444,0.7111111111111111,0.4777777777777778,0.5555555555555556,1.011111111111111],[0.029850746268656716,-0.16044776119402984,0.13432835820895522,-0.26119402985074625,0.5074626865671642,0.05970149253731343,0.014925373134328358,0.19402985074626866,-0.2537313432835821,0.23880597014925373,0.291044776119403,-0.48134328358208955,0.1791044776119403,-0.10074626865671642,0.4253731343283582,-0.26119402985074625,0.014925373134328358,0.19402985074626866,0.04477611940298507,-0.029850746268656716,0.12686567164179105,-0.3694029850746269,-0.19776119402985073,0.06716417910447761,0.12686567164179105,0.30597014925373134,0.417910447761194,-0.2462686567164179,0.06716417910447761,0.022388059701492536,-0.022388059701492536,0.05970149253731343,-0.08582089552238806,0.07462686567164178,0.2462686567164179,0.03731343283582089,0.7238805970149254,0.09701492537313433,-0.31716417910447764,0.26119402985074625,-0.08955223880597014,0.3656716417910448,0.1865671641791045]],\"type\":\"heatmap\",\"xaxis\":\"x\",\"yaxis\":\"y\",\"hovertemplate\":\"x: %{x}\\u003cbr\\u003ey: %{y}\\u003cbr\\u003ecolor: %{z}\\u003cextra\\u003e\\u003c\\u002fextra\\u003e\"}],                        {\"template\":{\"data\":{\"histogram2dcontour\":[{\"type\":\"histogram2dcontour\",\"colorbar\":{\"outlinewidth\":0,\"ticks\":\"\"},\"colorscale\":[[0.0,\"#0d0887\"],[0.1111111111111111,\"#46039f\"],[0.2222222222222222,\"#7201a8\"],[0.3333333333333333,\"#9c179e\"],[0.4444444444444444,\"#bd3786\"],[0.5555555555555556,\"#d8576b\"],[0.6666666666666666,\"#ed7953\"],[0.7777777777777778,\"#fb9f3a\"],[0.8888888888888888,\"#fdca26\"],[1.0,\"#f0f921\"]]}],\"choropleth\":[{\"type\":\"choropleth\",\"colorbar\":{\"outlinewidth\":0,\"ticks\":\"\"}}],\"histogram2d\":[{\"type\":\"histogram2d\",\"colorbar\":{\"outlinewidth\":0,\"ticks\":\"\"},\"colorscale\":[[0.0,\"#0d0887\"],[0.1111111111111111,\"#46039f\"],[0.2222222222222222,\"#7201a8\"],[0.3333333333333333,\"#9c179e\"],[0.4444444444444444,\"#bd3786\"],[0.5555555555555556,\"#d8576b\"],[0.6666666666666666,\"#ed7953\"],[0.7777777777777778,\"#fb9f3a\"],[0.8888888888888888,\"#fdca26\"],[1.0,\"#f0f921\"]]}],\"heatmap\":[{\"type\":\"heatmap\",\"colorbar\":{\"outlinewidth\":0,\"ticks\":\"\"},\"colorscale\":[[0.0,\"#0d0887\"],[0.1111111111111111,\"#46039f\"],[0.2222222222222222,\"#7201a8\"],[0.3333333333333333,\"#9c179e\"],[0.4444444444444444,\"#bd3786\"],[0.5555555555555556,\"#d8576b\"],[0.6666666666666666,\"#ed7953\"],[0.7777777777777778,\"#fb9f3a\"],[0.8888888888888888,\"#fdca26\"],[1.0,\"#f0f921\"]]}],\"heatmapgl\":[{\"type\":\"heatmapgl\",\"colorbar\":{\"outlinewidth\":0,\"ticks\":\"\"},\"colorscale\":[[0.0,\"#0d0887\"],[0.1111111111111111,\"#46039f\"],[0.2222222222222222,\"#7201a8\"],[0.3333333333333333,\"#9c179e\"],[0.4444444444444444,\"#bd3786\"],[0.5555555555555556,\"#d8576b\"],[0.6666666666666666,\"#ed7953\"],[0.7777777777777778,\"#fb9f3a\"],[0.8888888888888888,\"#fdca26\"],[1.0,\"#f0f921\"]]}],\"contourcarpet\":[{\"type\":\"contourcarpet\",\"colorbar\":{\"outlinewidth\":0,\"ticks\":\"\"}}],\"contour\":[{\"type\":\"contour\",\"colorbar\":{\"outlinewidth\":0,\"ticks\":\"\"},\"colorscale\":[[0.0,\"#0d0887\"],[0.1111111111111111,\"#46039f\"],[0.2222222222222222,\"#7201a8\"],[0.3333333333333333,\"#9c179e\"],[0.4444444444444444,\"#bd3786\"],[0.5555555555555556,\"#d8576b\"],[0.6666666666666666,\"#ed7953\"],[0.7777777777777778,\"#fb9f3a\"],[0.8888888888888888,\"#fdca26\"],[1.0,\"#f0f921\"]]}],\"surface\":[{\"type\":\"surface\",\"colorbar\":{\"outlinewidth\":0,\"ticks\":\"\"},\"colorscale\":[[0.0,\"#0d0887\"],[0.1111111111111111,\"#46039f\"],[0.2222222222222222,\"#7201a8\"],[0.3333333333333333,\"#9c179e\"],[0.4444444444444444,\"#bd3786\"],[0.5555555555555556,\"#d8576b\"],[0.6666666666666666,\"#ed7953\"],[0.7777777777777778,\"#fb9f3a\"],[0.8888888888888888,\"#fdca26\"],[1.0,\"#f0f921\"]]}],\"mesh3d\":[{\"type\":\"mesh3d\",\"colorbar\":{\"outlinewidth\":0,\"ticks\":\"\"}}],\"scatter\":[{\"fillpattern\":{\"fillmode\":\"overlay\",\"size\":10,\"solidity\":0.2},\"type\":\"scatter\"}],\"parcoords\":[{\"type\":\"parcoords\",\"line\":{\"colorbar\":{\"outlinewidth\":0,\"ticks\":\"\"}}}],\"scatterpolargl\":[{\"type\":\"scatterpolargl\",\"marker\":{\"colorbar\":{\"outlinewidth\":0,\"ticks\":\"\"}}}],\"bar\":[{\"error_x\":{\"color\":\"#2a3f5f\"},\"error_y\":{\"color\":\"#2a3f5f\"},\"marker\":{\"line\":{\"color\":\"#E5ECF6\",\"width\":0.5},\"pattern\":{\"fillmode\":\"overlay\",\"size\":10,\"solidity\":0.2}},\"type\":\"bar\"}],\"scattergeo\":[{\"type\":\"scattergeo\",\"marker\":{\"colorbar\":{\"outlinewidth\":0,\"ticks\":\"\"}}}],\"scatterpolar\":[{\"type\":\"scatterpolar\",\"marker\":{\"colorbar\":{\"outlinewidth\":0,\"ticks\":\"\"}}}],\"histogram\":[{\"marker\":{\"pattern\":{\"fillmode\":\"overlay\",\"size\":10,\"solidity\":0.2}},\"type\":\"histogram\"}],\"scattergl\":[{\"type\":\"scattergl\",\"marker\":{\"colorbar\":{\"outlinewidth\":0,\"ticks\":\"\"}}}],\"scatter3d\":[{\"type\":\"scatter3d\",\"line\":{\"colorbar\":{\"outlinewidth\":0,\"ticks\":\"\"}},\"marker\":{\"colorbar\":{\"outlinewidth\":0,\"ticks\":\"\"}}}],\"scattermapbox\":[{\"type\":\"scattermapbox\",\"marker\":{\"colorbar\":{\"outlinewidth\":0,\"ticks\":\"\"}}}],\"scatterternary\":[{\"type\":\"scatterternary\",\"marker\":{\"colorbar\":{\"outlinewidth\":0,\"ticks\":\"\"}}}],\"scattercarpet\":[{\"type\":\"scattercarpet\",\"marker\":{\"colorbar\":{\"outlinewidth\":0,\"ticks\":\"\"}}}],\"carpet\":[{\"aaxis\":{\"endlinecolor\":\"#2a3f5f\",\"gridcolor\":\"white\",\"linecolor\":\"white\",\"minorgridcolor\":\"white\",\"startlinecolor\":\"#2a3f5f\"},\"baxis\":{\"endlinecolor\":\"#2a3f5f\",\"gridcolor\":\"white\",\"linecolor\":\"white\",\"minorgridcolor\":\"white\",\"startlinecolor\":\"#2a3f5f\"},\"type\":\"carpet\"}],\"table\":[{\"cells\":{\"fill\":{\"color\":\"#EBF0F8\"},\"line\":{\"color\":\"white\"}},\"header\":{\"fill\":{\"color\":\"#C8D4E3\"},\"line\":{\"color\":\"white\"}},\"type\":\"table\"}],\"barpolar\":[{\"marker\":{\"line\":{\"color\":\"#E5ECF6\",\"width\":0.5},\"pattern\":{\"fillmode\":\"overlay\",\"size\":10,\"solidity\":0.2}},\"type\":\"barpolar\"}],\"pie\":[{\"automargin\":true,\"type\":\"pie\"}]},\"layout\":{\"autotypenumbers\":\"strict\",\"colorway\":[\"#636efa\",\"#EF553B\",\"#00cc96\",\"#ab63fa\",\"#FFA15A\",\"#19d3f3\",\"#FF6692\",\"#B6E880\",\"#FF97FF\",\"#FECB52\"],\"font\":{\"color\":\"#2a3f5f\"},\"hovermode\":\"closest\",\"hoverlabel\":{\"align\":\"left\"},\"paper_bgcolor\":\"white\",\"plot_bgcolor\":\"#E5ECF6\",\"polar\":{\"bgcolor\":\"#E5ECF6\",\"angularaxis\":{\"gridcolor\":\"white\",\"linecolor\":\"white\",\"ticks\":\"\"},\"radialaxis\":{\"gridcolor\":\"white\",\"linecolor\":\"white\",\"ticks\":\"\"}},\"ternary\":{\"bgcolor\":\"#E5ECF6\",\"aaxis\":{\"gridcolor\":\"white\",\"linecolor\":\"white\",\"ticks\":\"\"},\"baxis\":{\"gridcolor\":\"white\",\"linecolor\":\"white\",\"ticks\":\"\"},\"caxis\":{\"gridcolor\":\"white\",\"linecolor\":\"white\",\"ticks\":\"\"}},\"coloraxis\":{\"colorbar\":{\"outlinewidth\":0,\"ticks\":\"\"}},\"colorscale\":{\"sequential\":[[0.0,\"#0d0887\"],[0.1111111111111111,\"#46039f\"],[0.2222222222222222,\"#7201a8\"],[0.3333333333333333,\"#9c179e\"],[0.4444444444444444,\"#bd3786\"],[0.5555555555555556,\"#d8576b\"],[0.6666666666666666,\"#ed7953\"],[0.7777777777777778,\"#fb9f3a\"],[0.8888888888888888,\"#fdca26\"],[1.0,\"#f0f921\"]],\"sequentialminus\":[[0.0,\"#0d0887\"],[0.1111111111111111,\"#46039f\"],[0.2222222222222222,\"#7201a8\"],[0.3333333333333333,\"#9c179e\"],[0.4444444444444444,\"#bd3786\"],[0.5555555555555556,\"#d8576b\"],[0.6666666666666666,\"#ed7953\"],[0.7777777777777778,\"#fb9f3a\"],[0.8888888888888888,\"#fdca26\"],[1.0,\"#f0f921\"]],\"diverging\":[[0,\"#8e0152\"],[0.1,\"#c51b7d\"],[0.2,\"#de77ae\"],[0.3,\"#f1b6da\"],[0.4,\"#fde0ef\"],[0.5,\"#f7f7f7\"],[0.6,\"#e6f5d0\"],[0.7,\"#b8e186\"],[0.8,\"#7fbc41\"],[0.9,\"#4d9221\"],[1,\"#276419\"]]},\"xaxis\":{\"gridcolor\":\"white\",\"linecolor\":\"white\",\"ticks\":\"\",\"title\":{\"standoff\":15},\"zerolinecolor\":\"white\",\"automargin\":true,\"zerolinewidth\":2},\"yaxis\":{\"gridcolor\":\"white\",\"linecolor\":\"white\",\"ticks\":\"\",\"title\":{\"standoff\":15},\"zerolinecolor\":\"white\",\"automargin\":true,\"zerolinewidth\":2},\"scene\":{\"xaxis\":{\"backgroundcolor\":\"#E5ECF6\",\"gridcolor\":\"white\",\"linecolor\":\"white\",\"showbackground\":true,\"ticks\":\"\",\"zerolinecolor\":\"white\",\"gridwidth\":2},\"yaxis\":{\"backgroundcolor\":\"#E5ECF6\",\"gridcolor\":\"white\",\"linecolor\":\"white\",\"showbackground\":true,\"ticks\":\"\",\"zerolinecolor\":\"white\",\"gridwidth\":2},\"zaxis\":{\"backgroundcolor\":\"#E5ECF6\",\"gridcolor\":\"white\",\"linecolor\":\"white\",\"showbackground\":true,\"ticks\":\"\",\"zerolinecolor\":\"white\",\"gridwidth\":2}},\"shapedefaults\":{\"line\":{\"color\":\"#2a3f5f\"}},\"annotationdefaults\":{\"arrowcolor\":\"#2a3f5f\",\"arrowhead\":0,\"arrowwidth\":1},\"geo\":{\"bgcolor\":\"white\",\"landcolor\":\"#E5ECF6\",\"subunitcolor\":\"white\",\"showland\":true,\"showlakes\":true,\"lakecolor\":\"white\"},\"title\":{\"x\":0.05},\"mapbox\":{\"style\":\"light\"}}},\"xaxis\":{\"anchor\":\"y\",\"domain\":[0.0,1.0],\"scaleanchor\":\"y\",\"constrain\":\"domain\"},\"yaxis\":{\"anchor\":\"x\",\"domain\":[0.0,1.0],\"autorange\":\"reversed\",\"constrain\":\"domain\"},\"coloraxis\":{\"colorscale\":[[0.0,\"#0d0887\"],[0.1111111111111111,\"#46039f\"],[0.2222222222222222,\"#7201a8\"],[0.3333333333333333,\"#9c179e\"],[0.4444444444444444,\"#bd3786\"],[0.5555555555555556,\"#d8576b\"],[0.6666666666666666,\"#ed7953\"],[0.7777777777777778,\"#fb9f3a\"],[0.8888888888888888,\"#fdca26\"],[1.0,\"#f0f921\"]],\"cmin\":-1,\"cmax\":1},\"margin\":{\"t\":60}},                        {\"responsive\": true}                    ).then(function(){\n",
       "                            \n",
       "var gd = document.getElementById('142cf6aa-647f-49b2-bb76-db1b4b1c8b57');\n",
       "var x = new MutationObserver(function (mutations, observer) {{\n",
       "        var display = window.getComputedStyle(gd).display;\n",
       "        if (!display || display === 'none') {{\n",
       "            console.log([gd, 'removed!']);\n",
       "            Plotly.purge(gd);\n",
       "            observer.disconnect();\n",
       "        }}\n",
       "}});\n",
       "\n",
       "// Listen for the removal of the full notebook cells\n",
       "var notebookContainer = gd.closest('#notebook-container');\n",
       "if (notebookContainer) {{\n",
       "    x.observe(notebookContainer, {childList: true});\n",
       "}}\n",
       "\n",
       "// Listen for the clearing of the current output cell\n",
       "var outputEl = gd.closest('.output');\n",
       "if (outputEl) {{\n",
       "    x.observe(outputEl, {childList: true});\n",
       "}}\n",
       "\n",
       "                        })                };                });            </script>        </div>"
      ]
     },
     "metadata": {},
     "output_type": "display_data"
    }
   ],
   "source": [
    "import plotly.express as px\n",
    "import pandas as pd\n",
    "import numpy as np\n",
    "\n",
    "normalized_losses = {}\n",
    "\n",
    "for task_name, losses in task_losses.items():\n",
    "    base_loss = losses[1]\n",
    "    losses = losses[0]\n",
    "    mean_loss = np.mean(losses)\n",
    "\n",
    "    normalized_losses[task_name] = [(loss - base_loss) / base_loss for loss in losses]\n",
    "\n",
    "\n",
    "df = pd.DataFrame([\n",
    "    {\"task\": task_name, \"feature\": feature, \"loss\": loss}\n",
    "    for task_name, losses in normalized_losses.items()\n",
    "    for feature, loss in zip(features, losses)\n",
    "])\n",
    "\n",
    "\n",
    "\n",
    "heatmap = np.zeros((len(task_names), len(features)))\n",
    "\n",
    "for i, task_name in enumerate(task_names):\n",
    "    for j, feature in enumerate(features):\n",
    "        heatmap[i, j] = normalized_losses[task_name][j]\n",
    "\n",
    "fig = px.imshow(heatmap, x=[str(x) for x in features], y=task_names, zmax=1, zmin=-1)\n",
    "\n",
    "fig.show()\n"
   ]
  },
  {
   "cell_type": "code",
   "execution_count": 28,
   "metadata": {},
   "outputs": [
    {
     "data": {
      "application/vnd.plotly.v1+json": {
       "config": {
        "plotlyServerURL": "https://plot.ly"
       },
       "data": [
        {
         "coloraxis": "coloraxis",
         "hovertemplate": "x: %{x}<br>y: %{y}<br>color: %{z}<extra></extra>",
         "name": "0",
         "type": "heatmap",
         "x": [
          "10372",
          "16644",
          "20487",
          "22663",
          "5257",
          "27659",
          "7694",
          "27150",
          "1555",
          "19481",
          "1562",
          "29341",
          "28960",
          "24868",
          "12581",
          "8231",
          "3111",
          "4521",
          "8107",
          "2092",
          "29232",
          "4017",
          "28220",
          "19779",
          "32709",
          "28742",
          "17864",
          "9292",
          "31950",
          "26966",
          "24029",
          "29156",
          "14951",
          "29546",
          "27502",
          "24944",
          "2161",
          "20350",
          "18167",
          "14842",
          "29566",
          "10111"
         ],
         "xaxis": "x",
         "y": [
          "antonyms",
          "en_es",
          "es_en",
          "present_simple_gerund",
          "country_capital",
          "en_fr",
          "en_it",
          "fr_en"
         ],
         "yaxis": "y",
         "z": [
          [
           1.0570456723971076,
           0.468432812914475,
           1.3131239325476252,
           1.5451315242373345,
           0.7570313689691085,
           1.6019408444615761,
           1.535104525924526,
           0.4354692220462152,
           1.6778869102511047,
           0,
           0.4087961807056953,
           0.5129635862235172,
           1.1328912147892025,
           0.7131558952304401,
           2.7503158769894465,
           0.9275860039153077,
           0.9884127330650597,
           1.2752640874800263,
           1.4830088768967629,
           0.9552023113967546,
           1.8064262395542103,
           0.43833020997743816,
           2.478612708724117,
           1.4275180687133635,
           1.137015858087809,
           0.4000936788426243,
           1.5071461785675375,
           1.1915398559702672,
           1.8513136616237913,
           0.8068673551167903,
           2.6430889979764953,
           1.0004207691394797,
           1.234243978264111,
           1.093560874664954,
           0.3283222312752043,
           0.5911128950388269,
           1.2317504434029372,
           0.4861873375880732,
           1.5401316269604621,
           1.3036354623374318,
           1.0542624380318906,
           2.0466024415686563
          ],
          [
           0.1659044933401533,
           1.971271325710632,
           0.8674304887119368,
           0,
           0.4823318018279891,
           0.5954177137867492,
           0.7793690386712727,
           1.6195936065140575,
           0.31987426369249633,
           1.1923021961239348,
           1.1117008124967347,
           1.5131507129438915,
           0.623207657151744,
           1.0050314341320346,
           0.4540312304249592,
           0.3274741670664648,
           0.4389512939893689,
           0.32173821195138314,
           0.45729336244185004,
           0.4870648072446023,
           0.7895360328302815,
           1.5070462315888842,
           0.6237227647326932,
           0.35820426933576716,
           0.5200202066645014,
           0.5917235420369297,
           0.5086458595533287,
           0.1909819598190549,
           0.7325704324797918,
           0.21106456488552364,
           0.26271265020568785,
           0.32215587919925026,
           0.429535884272413,
           0.6339935577527729,
           0.9017844145490141,
           1.2950526181418207,
           0.5962693528169831,
           0.1856683400396866,
           0.6058453137294647,
           0.1816806749405454,
           1.2693409769879225,
           0.6524404337959028
          ],
          [
           1.9190217716115852,
           0.7564822871105856,
           1.0343909364068156,
           1.8893598105579188,
           1.9014429872747343,
           1.4252646722177833,
           1.2360749400933537,
           0.8935167302598636,
           1.8987370321987804,
           3.1516408781073637,
           2.542649647934989,
           1.3081881781404554,
           2.000253897575286,
           0.9930237142687653,
           1.2676738292680507,
           2.000949743625061,
           1.8400031234606276,
           2.0775845253990695,
           1.8520404737988483,
           1.5101153574165624,
           0.9573604430080368,
           1.0735415346897577,
           0.9083550535404946,
           1.034396560181964,
           1.702923251669251,
           1.6392018503993264,
           1.5023739315852223,
           0.7101397520679456,
           0,
           1.1790691051375368,
           1.5643054680857893,
           1.581849675892188,
           1.35696687335177,
           1.5771682655213783,
           2.42887356218921,
           1.3751265248864868,
           2.142387035661219,
           0.8702928193628776,
           2.2287465958125248,
           1.0615850701478082,
           1.854233444940296,
           1.3816000895445713
          ],
          [
           1.383681348012965,
           0.07174365307669302,
           2.211156300916444,
           1.6067673330854508,
           0.8713324523957755,
           1.1028129082144995,
           0.7718951817137192,
           0.14734532894081706,
           0.4734987890851972,
           0.018342162328723963,
           0.41558357829281845,
           0.3623535731698987,
           1.0471778255508504,
           0.8945422501667848,
           1.0123048845261573,
           1.4756734640886626,
           1.4555109147953165,
           1.4574128935686699,
           0.6479942032408452,
           1.5206215675096395,
           0.4426287276933893,
           0.2910218165647455,
           0,
           0.8801986848802444,
           1.702923251669251,
           1.7531717552680623,
           1.8671454541875232,
           0.30048058016072793,
           1.3603229581481853,
           0.3184537397841367,
           0.3693953364532941,
           1.212176461300888,
           1.3230037646827022,
           1.3792631665796997,
           1.0043972919193223,
           0.6121883874815528,
           0.2907410899116383,
           0.6703489292199815,
           0.12916333894074006,
           0.2145118620930115,
           0.7505811168487645,
           1.1895461668907301
          ],
          [
           0.27084449602676414,
           0.6881035991555907,
           0.21404070699757646,
           0.4712399791593543,
           0.48694300693130094,
           0.7722797422561027,
           0.9545852945281873,
           1.2464311924716147,
           1.6593528968460964,
           0.8588600670102705,
           0.3713539894631814,
           0.18097202192418274,
           0.36265098067646123,
           0.39065396723706003,
           0.1422147796674728,
           0.2878681478044915,
           1.4679563667063276,
           1.120631052776064,
           0.9776708702170501,
           0.43895117196165995,
           0.12419778626302207,
           0.3104429934331457,
           1.0810203243403205,
           1.7758190144499866,
           0.530803032273527,
           0.7659471610513555,
           0.13757791658137355,
           2.4470343929309415,
           2.2728369477474186,
           4.096098852775833,
           0.5439899866342114,
           1.6769472907890484,
           1.2663657963010688,
           0.2446304014307185,
           1.1062835013771235,
           0.3906356438092004,
           0.7368545003622756,
           4.256089484797307,
           0.33619587376101157,
           3.872906851283499,
           0,
           0.4366890688964918
          ],
          [
           0.45528736704733036,
           1.7106073303072293,
           0.8288265188970114,
           0.49876140159334975,
           0.6907739311566966,
           0.7030097272356245,
           0.9136523301083039,
           1.4350334416720425,
           0.7119282994343409,
           0.6362229199945587,
           0.7775657584214732,
           1.3575480828852928,
           0.566378293745151,
           1.3840922291852324,
           0.6632038965986006,
           0.8581230301893764,
           0.5687282281449902,
           0.4365565550572205,
           0.9093237023520712,
           0.8185151469583026,
           0.8187271902132388,
           1.6883449991274315,
           0.7843968981954191,
           0.6676025205617858,
           0.5826530636422862,
           0.5701095676980272,
           0.6012950580741554,
           0.5131115762668362,
           1.7829560000008133,
           0.39185819959285945,
           0.6642649349995859,
           0,
           0.6770337152124317,
           0.6894919901169817,
           1.208182524964168,
           1.2335738163105672,
           0.9194075328328556,
           0.4643006722219003,
           0.7869741286974734,
           0.05220190977273918,
           0.7424595283479248,
           0.6799456398397161
          ],
          [
           0.23934289882729082,
           1.8449544917511063,
           0.4287101947474503,
           0.3991844425662461,
           0.3944323694035328,
           0.45176947593292865,
           0.5752636241542428,
           1.5022540394468191,
           0.35239380170023704,
           1.2587859905837357,
           0.7307497585382722,
           1.3707250127677948,
           0.401302150782185,
           0.9226721086277041,
           0.35933164546599683,
           0.5026677512016048,
           0.14542342207885042,
           0.19840129820243319,
           0.30164809561498546,
           0.48547855955911273,
           0.6805827066804213,
           1.6883449991274315,
           0.4239754580458087,
           0.6505907261894649,
           0.3850725846370244,
           0.6948613678336022,
           0.3304667059528914,
           0.2837183404318155,
           0,
           0.1878063308066689,
           0.25404727639028707,
           0.04871277915394174,
           0.3373095193361908,
           0.5336324217408562,
           0.4018006107407544,
           1.2571154040003496,
           0.376044716434157,
           0.4064657093246999,
           0.36029822237378945,
           0.14177360239906667,
           0.9176912374897936,
           0.482962892684886
          ],
          [
           2.5088719527368037,
           0.488404499973688,
           1.1023209207751403,
           1.5895555088003457,
           2.415712082040862,
           1.3475049158947359,
           1.2340550648063942,
           0.7203564386485701,
           0.9063280067917471,
           0.8838457858514125,
           1.6416002741468354,
           1.394098831944967,
           1.86613797972912,
           1.6968284011519785,
           1.3509238570593163,
           1.619657692109031,
           1.095013917759459,
           1.1124113755651337,
           1.3710204154375867,
           1.7840510779533658,
           2.3805408737574,
           1.002927215491166,
           1.6999167924211467,
           1.2056701556874234,
           1.43858875135635,
           1.5848910768700724,
           1.545348895497968,
           2.3629935423524113,
           0,
           0.8087818519006515,
           1.6981953492546487,
           2.157737144525204,
           1.3755404685793124,
           1.8482593221926387,
           0.6203558629852034,
           1.2451947103311958,
           1.7065453285779344,
           0.6606467074454739,
           2.012644899724534,
           1.1717045670258979,
           1.411431257353408,
           1.1302132667790457
          ]
         ]
        }
       ],
       "layout": {
        "coloraxis": {
         "colorscale": [
          [
           0,
           "#0d0887"
          ],
          [
           0.1111111111111111,
           "#46039f"
          ],
          [
           0.2222222222222222,
           "#7201a8"
          ],
          [
           0.3333333333333333,
           "#9c179e"
          ],
          [
           0.4444444444444444,
           "#bd3786"
          ],
          [
           0.5555555555555556,
           "#d8576b"
          ],
          [
           0.6666666666666666,
           "#ed7953"
          ],
          [
           0.7777777777777778,
           "#fb9f3a"
          ],
          [
           0.8888888888888888,
           "#fdca26"
          ],
          [
           1,
           "#f0f921"
          ]
         ]
        },
        "template": {
         "data": {
          "bar": [
           {
            "error_x": {
             "color": "#2a3f5f"
            },
            "error_y": {
             "color": "#2a3f5f"
            },
            "marker": {
             "line": {
              "color": "#E5ECF6",
              "width": 0.5
             },
             "pattern": {
              "fillmode": "overlay",
              "size": 10,
              "solidity": 0.2
             }
            },
            "type": "bar"
           }
          ],
          "barpolar": [
           {
            "marker": {
             "line": {
              "color": "#E5ECF6",
              "width": 0.5
             },
             "pattern": {
              "fillmode": "overlay",
              "size": 10,
              "solidity": 0.2
             }
            },
            "type": "barpolar"
           }
          ],
          "carpet": [
           {
            "aaxis": {
             "endlinecolor": "#2a3f5f",
             "gridcolor": "white",
             "linecolor": "white",
             "minorgridcolor": "white",
             "startlinecolor": "#2a3f5f"
            },
            "baxis": {
             "endlinecolor": "#2a3f5f",
             "gridcolor": "white",
             "linecolor": "white",
             "minorgridcolor": "white",
             "startlinecolor": "#2a3f5f"
            },
            "type": "carpet"
           }
          ],
          "choropleth": [
           {
            "colorbar": {
             "outlinewidth": 0,
             "ticks": ""
            },
            "type": "choropleth"
           }
          ],
          "contour": [
           {
            "colorbar": {
             "outlinewidth": 0,
             "ticks": ""
            },
            "colorscale": [
             [
              0,
              "#0d0887"
             ],
             [
              0.1111111111111111,
              "#46039f"
             ],
             [
              0.2222222222222222,
              "#7201a8"
             ],
             [
              0.3333333333333333,
              "#9c179e"
             ],
             [
              0.4444444444444444,
              "#bd3786"
             ],
             [
              0.5555555555555556,
              "#d8576b"
             ],
             [
              0.6666666666666666,
              "#ed7953"
             ],
             [
              0.7777777777777778,
              "#fb9f3a"
             ],
             [
              0.8888888888888888,
              "#fdca26"
             ],
             [
              1,
              "#f0f921"
             ]
            ],
            "type": "contour"
           }
          ],
          "contourcarpet": [
           {
            "colorbar": {
             "outlinewidth": 0,
             "ticks": ""
            },
            "type": "contourcarpet"
           }
          ],
          "heatmap": [
           {
            "colorbar": {
             "outlinewidth": 0,
             "ticks": ""
            },
            "colorscale": [
             [
              0,
              "#0d0887"
             ],
             [
              0.1111111111111111,
              "#46039f"
             ],
             [
              0.2222222222222222,
              "#7201a8"
             ],
             [
              0.3333333333333333,
              "#9c179e"
             ],
             [
              0.4444444444444444,
              "#bd3786"
             ],
             [
              0.5555555555555556,
              "#d8576b"
             ],
             [
              0.6666666666666666,
              "#ed7953"
             ],
             [
              0.7777777777777778,
              "#fb9f3a"
             ],
             [
              0.8888888888888888,
              "#fdca26"
             ],
             [
              1,
              "#f0f921"
             ]
            ],
            "type": "heatmap"
           }
          ],
          "heatmapgl": [
           {
            "colorbar": {
             "outlinewidth": 0,
             "ticks": ""
            },
            "colorscale": [
             [
              0,
              "#0d0887"
             ],
             [
              0.1111111111111111,
              "#46039f"
             ],
             [
              0.2222222222222222,
              "#7201a8"
             ],
             [
              0.3333333333333333,
              "#9c179e"
             ],
             [
              0.4444444444444444,
              "#bd3786"
             ],
             [
              0.5555555555555556,
              "#d8576b"
             ],
             [
              0.6666666666666666,
              "#ed7953"
             ],
             [
              0.7777777777777778,
              "#fb9f3a"
             ],
             [
              0.8888888888888888,
              "#fdca26"
             ],
             [
              1,
              "#f0f921"
             ]
            ],
            "type": "heatmapgl"
           }
          ],
          "histogram": [
           {
            "marker": {
             "pattern": {
              "fillmode": "overlay",
              "size": 10,
              "solidity": 0.2
             }
            },
            "type": "histogram"
           }
          ],
          "histogram2d": [
           {
            "colorbar": {
             "outlinewidth": 0,
             "ticks": ""
            },
            "colorscale": [
             [
              0,
              "#0d0887"
             ],
             [
              0.1111111111111111,
              "#46039f"
             ],
             [
              0.2222222222222222,
              "#7201a8"
             ],
             [
              0.3333333333333333,
              "#9c179e"
             ],
             [
              0.4444444444444444,
              "#bd3786"
             ],
             [
              0.5555555555555556,
              "#d8576b"
             ],
             [
              0.6666666666666666,
              "#ed7953"
             ],
             [
              0.7777777777777778,
              "#fb9f3a"
             ],
             [
              0.8888888888888888,
              "#fdca26"
             ],
             [
              1,
              "#f0f921"
             ]
            ],
            "type": "histogram2d"
           }
          ],
          "histogram2dcontour": [
           {
            "colorbar": {
             "outlinewidth": 0,
             "ticks": ""
            },
            "colorscale": [
             [
              0,
              "#0d0887"
             ],
             [
              0.1111111111111111,
              "#46039f"
             ],
             [
              0.2222222222222222,
              "#7201a8"
             ],
             [
              0.3333333333333333,
              "#9c179e"
             ],
             [
              0.4444444444444444,
              "#bd3786"
             ],
             [
              0.5555555555555556,
              "#d8576b"
             ],
             [
              0.6666666666666666,
              "#ed7953"
             ],
             [
              0.7777777777777778,
              "#fb9f3a"
             ],
             [
              0.8888888888888888,
              "#fdca26"
             ],
             [
              1,
              "#f0f921"
             ]
            ],
            "type": "histogram2dcontour"
           }
          ],
          "mesh3d": [
           {
            "colorbar": {
             "outlinewidth": 0,
             "ticks": ""
            },
            "type": "mesh3d"
           }
          ],
          "parcoords": [
           {
            "line": {
             "colorbar": {
              "outlinewidth": 0,
              "ticks": ""
             }
            },
            "type": "parcoords"
           }
          ],
          "pie": [
           {
            "automargin": true,
            "type": "pie"
           }
          ],
          "scatter": [
           {
            "fillpattern": {
             "fillmode": "overlay",
             "size": 10,
             "solidity": 0.2
            },
            "type": "scatter"
           }
          ],
          "scatter3d": [
           {
            "line": {
             "colorbar": {
              "outlinewidth": 0,
              "ticks": ""
             }
            },
            "marker": {
             "colorbar": {
              "outlinewidth": 0,
              "ticks": ""
             }
            },
            "type": "scatter3d"
           }
          ],
          "scattercarpet": [
           {
            "marker": {
             "colorbar": {
              "outlinewidth": 0,
              "ticks": ""
             }
            },
            "type": "scattercarpet"
           }
          ],
          "scattergeo": [
           {
            "marker": {
             "colorbar": {
              "outlinewidth": 0,
              "ticks": ""
             }
            },
            "type": "scattergeo"
           }
          ],
          "scattergl": [
           {
            "marker": {
             "colorbar": {
              "outlinewidth": 0,
              "ticks": ""
             }
            },
            "type": "scattergl"
           }
          ],
          "scattermapbox": [
           {
            "marker": {
             "colorbar": {
              "outlinewidth": 0,
              "ticks": ""
             }
            },
            "type": "scattermapbox"
           }
          ],
          "scatterpolar": [
           {
            "marker": {
             "colorbar": {
              "outlinewidth": 0,
              "ticks": ""
             }
            },
            "type": "scatterpolar"
           }
          ],
          "scatterpolargl": [
           {
            "marker": {
             "colorbar": {
              "outlinewidth": 0,
              "ticks": ""
             }
            },
            "type": "scatterpolargl"
           }
          ],
          "scatterternary": [
           {
            "marker": {
             "colorbar": {
              "outlinewidth": 0,
              "ticks": ""
             }
            },
            "type": "scatterternary"
           }
          ],
          "surface": [
           {
            "colorbar": {
             "outlinewidth": 0,
             "ticks": ""
            },
            "colorscale": [
             [
              0,
              "#0d0887"
             ],
             [
              0.1111111111111111,
              "#46039f"
             ],
             [
              0.2222222222222222,
              "#7201a8"
             ],
             [
              0.3333333333333333,
              "#9c179e"
             ],
             [
              0.4444444444444444,
              "#bd3786"
             ],
             [
              0.5555555555555556,
              "#d8576b"
             ],
             [
              0.6666666666666666,
              "#ed7953"
             ],
             [
              0.7777777777777778,
              "#fb9f3a"
             ],
             [
              0.8888888888888888,
              "#fdca26"
             ],
             [
              1,
              "#f0f921"
             ]
            ],
            "type": "surface"
           }
          ],
          "table": [
           {
            "cells": {
             "fill": {
              "color": "#EBF0F8"
             },
             "line": {
              "color": "white"
             }
            },
            "header": {
             "fill": {
              "color": "#C8D4E3"
             },
             "line": {
              "color": "white"
             }
            },
            "type": "table"
           }
          ]
         },
         "layout": {
          "annotationdefaults": {
           "arrowcolor": "#2a3f5f",
           "arrowhead": 0,
           "arrowwidth": 1
          },
          "autotypenumbers": "strict",
          "coloraxis": {
           "colorbar": {
            "outlinewidth": 0,
            "ticks": ""
           }
          },
          "colorscale": {
           "diverging": [
            [
             0,
             "#8e0152"
            ],
            [
             0.1,
             "#c51b7d"
            ],
            [
             0.2,
             "#de77ae"
            ],
            [
             0.3,
             "#f1b6da"
            ],
            [
             0.4,
             "#fde0ef"
            ],
            [
             0.5,
             "#f7f7f7"
            ],
            [
             0.6,
             "#e6f5d0"
            ],
            [
             0.7,
             "#b8e186"
            ],
            [
             0.8,
             "#7fbc41"
            ],
            [
             0.9,
             "#4d9221"
            ],
            [
             1,
             "#276419"
            ]
           ],
           "sequential": [
            [
             0,
             "#0d0887"
            ],
            [
             0.1111111111111111,
             "#46039f"
            ],
            [
             0.2222222222222222,
             "#7201a8"
            ],
            [
             0.3333333333333333,
             "#9c179e"
            ],
            [
             0.4444444444444444,
             "#bd3786"
            ],
            [
             0.5555555555555556,
             "#d8576b"
            ],
            [
             0.6666666666666666,
             "#ed7953"
            ],
            [
             0.7777777777777778,
             "#fb9f3a"
            ],
            [
             0.8888888888888888,
             "#fdca26"
            ],
            [
             1,
             "#f0f921"
            ]
           ],
           "sequentialminus": [
            [
             0,
             "#0d0887"
            ],
            [
             0.1111111111111111,
             "#46039f"
            ],
            [
             0.2222222222222222,
             "#7201a8"
            ],
            [
             0.3333333333333333,
             "#9c179e"
            ],
            [
             0.4444444444444444,
             "#bd3786"
            ],
            [
             0.5555555555555556,
             "#d8576b"
            ],
            [
             0.6666666666666666,
             "#ed7953"
            ],
            [
             0.7777777777777778,
             "#fb9f3a"
            ],
            [
             0.8888888888888888,
             "#fdca26"
            ],
            [
             1,
             "#f0f921"
            ]
           ]
          },
          "colorway": [
           "#636efa",
           "#EF553B",
           "#00cc96",
           "#ab63fa",
           "#FFA15A",
           "#19d3f3",
           "#FF6692",
           "#B6E880",
           "#FF97FF",
           "#FECB52"
          ],
          "font": {
           "color": "#2a3f5f"
          },
          "geo": {
           "bgcolor": "white",
           "lakecolor": "white",
           "landcolor": "#E5ECF6",
           "showlakes": true,
           "showland": true,
           "subunitcolor": "white"
          },
          "hoverlabel": {
           "align": "left"
          },
          "hovermode": "closest",
          "mapbox": {
           "style": "light"
          },
          "paper_bgcolor": "white",
          "plot_bgcolor": "#E5ECF6",
          "polar": {
           "angularaxis": {
            "gridcolor": "white",
            "linecolor": "white",
            "ticks": ""
           },
           "bgcolor": "#E5ECF6",
           "radialaxis": {
            "gridcolor": "white",
            "linecolor": "white",
            "ticks": ""
           }
          },
          "scene": {
           "xaxis": {
            "backgroundcolor": "#E5ECF6",
            "gridcolor": "white",
            "gridwidth": 2,
            "linecolor": "white",
            "showbackground": true,
            "ticks": "",
            "zerolinecolor": "white"
           },
           "yaxis": {
            "backgroundcolor": "#E5ECF6",
            "gridcolor": "white",
            "gridwidth": 2,
            "linecolor": "white",
            "showbackground": true,
            "ticks": "",
            "zerolinecolor": "white"
           },
           "zaxis": {
            "backgroundcolor": "#E5ECF6",
            "gridcolor": "white",
            "gridwidth": 2,
            "linecolor": "white",
            "showbackground": true,
            "ticks": "",
            "zerolinecolor": "white"
           }
          },
          "shapedefaults": {
           "line": {
            "color": "#2a3f5f"
           }
          },
          "ternary": {
           "aaxis": {
            "gridcolor": "white",
            "linecolor": "white",
            "ticks": ""
           },
           "baxis": {
            "gridcolor": "white",
            "linecolor": "white",
            "ticks": ""
           },
           "bgcolor": "#E5ECF6",
           "caxis": {
            "gridcolor": "white",
            "linecolor": "white",
            "ticks": ""
           }
          },
          "title": {
           "x": 0.05
          },
          "xaxis": {
           "automargin": true,
           "gridcolor": "white",
           "linecolor": "white",
           "ticks": "",
           "title": {
            "standoff": 15
           },
           "zerolinecolor": "white",
           "zerolinewidth": 2
          },
          "yaxis": {
           "automargin": true,
           "gridcolor": "white",
           "linecolor": "white",
           "ticks": "",
           "title": {
            "standoff": 15
           },
           "zerolinecolor": "white",
           "zerolinewidth": 2
          }
         }
        },
        "title": {
         "text": "Negative steering effect (Gemma 1, L14, sfc top 10)"
        },
        "xaxis": {
         "anchor": "y",
         "constrain": "domain",
         "domain": [
          0,
          1
         ],
         "scaleanchor": "y"
        },
        "yaxis": {
         "anchor": "x",
         "autorange": "reversed",
         "constrain": "domain",
         "domain": [
          0,
          1
         ]
        }
       }
      },
      "text/html": [
       "<div>                            <div id=\"f59b6d5e-f35b-4a07-bcd4-74acfd955447\" class=\"plotly-graph-div\" style=\"height:525px; width:100%;\"></div>            <script type=\"text/javascript\">                require([\"plotly\"], function(Plotly) {                    window.PLOTLYENV=window.PLOTLYENV || {};                                    if (document.getElementById(\"f59b6d5e-f35b-4a07-bcd4-74acfd955447\")) {                    Plotly.newPlot(                        \"f59b6d5e-f35b-4a07-bcd4-74acfd955447\",                        [{\"coloraxis\":\"coloraxis\",\"name\":\"0\",\"x\":[\"10372\",\"16644\",\"20487\",\"22663\",\"5257\",\"27659\",\"7694\",\"27150\",\"1555\",\"19481\",\"1562\",\"29341\",\"28960\",\"24868\",\"12581\",\"8231\",\"3111\",\"4521\",\"8107\",\"2092\",\"29232\",\"4017\",\"28220\",\"19779\",\"32709\",\"28742\",\"17864\",\"9292\",\"31950\",\"26966\",\"24029\",\"29156\",\"14951\",\"29546\",\"27502\",\"24944\",\"2161\",\"20350\",\"18167\",\"14842\",\"29566\",\"10111\"],\"y\":[\"antonyms\",\"en_es\",\"es_en\",\"present_simple_gerund\",\"country_capital\",\"en_fr\",\"en_it\",\"fr_en\"],\"z\":[[1.0570456723971076,0.468432812914475,1.3131239325476252,1.5451315242373345,0.7570313689691085,1.6019408444615761,1.535104525924526,0.4354692220462152,1.6778869102511047,0.0,0.4087961807056953,0.5129635862235172,1.1328912147892025,0.7131558952304401,2.7503158769894465,0.9275860039153077,0.9884127330650597,1.2752640874800263,1.4830088768967629,0.9552023113967546,1.8064262395542103,0.43833020997743816,2.478612708724117,1.4275180687133635,1.137015858087809,0.4000936788426243,1.5071461785675375,1.1915398559702672,1.8513136616237913,0.8068673551167903,2.6430889979764953,1.0004207691394797,1.234243978264111,1.093560874664954,0.3283222312752043,0.5911128950388269,1.2317504434029372,0.4861873375880732,1.5401316269604621,1.3036354623374318,1.0542624380318906,2.0466024415686563],[0.1659044933401533,1.971271325710632,0.8674304887119368,0.0,0.4823318018279891,0.5954177137867492,0.7793690386712727,1.6195936065140575,0.31987426369249633,1.1923021961239348,1.1117008124967347,1.5131507129438915,0.623207657151744,1.0050314341320346,0.4540312304249592,0.3274741670664648,0.4389512939893689,0.32173821195138314,0.45729336244185004,0.4870648072446023,0.7895360328302815,1.5070462315888842,0.6237227647326932,0.35820426933576716,0.5200202066645014,0.5917235420369297,0.5086458595533287,0.1909819598190549,0.7325704324797918,0.21106456488552364,0.26271265020568785,0.32215587919925026,0.429535884272413,0.6339935577527729,0.9017844145490141,1.2950526181418207,0.5962693528169831,0.1856683400396866,0.6058453137294647,0.1816806749405454,1.2693409769879225,0.6524404337959028],[1.9190217716115852,0.7564822871105856,1.0343909364068156,1.8893598105579188,1.9014429872747343,1.4252646722177833,1.2360749400933537,0.8935167302598636,1.8987370321987804,3.1516408781073637,2.542649647934989,1.3081881781404554,2.000253897575286,0.9930237142687653,1.2676738292680507,2.000949743625061,1.8400031234606276,2.0775845253990695,1.8520404737988483,1.5101153574165624,0.9573604430080368,1.0735415346897577,0.9083550535404946,1.034396560181964,1.702923251669251,1.6392018503993264,1.5023739315852223,0.7101397520679456,0.0,1.1790691051375368,1.5643054680857893,1.581849675892188,1.35696687335177,1.5771682655213783,2.42887356218921,1.3751265248864868,2.142387035661219,0.8702928193628776,2.2287465958125248,1.0615850701478082,1.854233444940296,1.3816000895445713],[1.383681348012965,0.07174365307669302,2.211156300916444,1.6067673330854508,0.8713324523957755,1.1028129082144995,0.7718951817137192,0.14734532894081706,0.4734987890851972,0.018342162328723963,0.41558357829281845,0.3623535731698987,1.0471778255508504,0.8945422501667848,1.0123048845261573,1.4756734640886626,1.4555109147953165,1.4574128935686699,0.6479942032408452,1.5206215675096395,0.4426287276933893,0.2910218165647455,0.0,0.8801986848802444,1.702923251669251,1.7531717552680623,1.8671454541875232,0.30048058016072793,1.3603229581481853,0.3184537397841367,0.3693953364532941,1.212176461300888,1.3230037646827022,1.3792631665796997,1.0043972919193223,0.6121883874815528,0.2907410899116383,0.6703489292199815,0.12916333894074006,0.2145118620930115,0.7505811168487645,1.1895461668907301],[0.27084449602676414,0.6881035991555907,0.21404070699757646,0.4712399791593543,0.48694300693130094,0.7722797422561027,0.9545852945281873,1.2464311924716147,1.6593528968460964,0.8588600670102705,0.3713539894631814,0.18097202192418274,0.36265098067646123,0.39065396723706003,0.1422147796674728,0.2878681478044915,1.4679563667063276,1.120631052776064,0.9776708702170501,0.43895117196165995,0.12419778626302207,0.3104429934331457,1.0810203243403205,1.7758190144499866,0.530803032273527,0.7659471610513555,0.13757791658137355,2.4470343929309415,2.2728369477474186,4.096098852775833,0.5439899866342114,1.6769472907890484,1.2663657963010688,0.2446304014307185,1.1062835013771235,0.3906356438092004,0.7368545003622756,4.256089484797307,0.33619587376101157,3.872906851283499,0.0,0.4366890688964918],[0.45528736704733036,1.7106073303072293,0.8288265188970114,0.49876140159334975,0.6907739311566966,0.7030097272356245,0.9136523301083039,1.4350334416720425,0.7119282994343409,0.6362229199945587,0.7775657584214732,1.3575480828852928,0.566378293745151,1.3840922291852324,0.6632038965986006,0.8581230301893764,0.5687282281449902,0.4365565550572205,0.9093237023520712,0.8185151469583026,0.8187271902132388,1.6883449991274315,0.7843968981954191,0.6676025205617858,0.5826530636422862,0.5701095676980272,0.6012950580741554,0.5131115762668362,1.7829560000008133,0.39185819959285945,0.6642649349995859,0.0,0.6770337152124317,0.6894919901169817,1.208182524964168,1.2335738163105672,0.9194075328328556,0.4643006722219003,0.7869741286974734,0.05220190977273918,0.7424595283479248,0.6799456398397161],[0.23934289882729082,1.8449544917511063,0.4287101947474503,0.3991844425662461,0.3944323694035328,0.45176947593292865,0.5752636241542428,1.5022540394468191,0.35239380170023704,1.2587859905837357,0.7307497585382722,1.3707250127677948,0.401302150782185,0.9226721086277041,0.35933164546599683,0.5026677512016048,0.14542342207885042,0.19840129820243319,0.30164809561498546,0.48547855955911273,0.6805827066804213,1.6883449991274315,0.4239754580458087,0.6505907261894649,0.3850725846370244,0.6948613678336022,0.3304667059528914,0.2837183404318155,0.0,0.1878063308066689,0.25404727639028707,0.04871277915394174,0.3373095193361908,0.5336324217408562,0.4018006107407544,1.2571154040003496,0.376044716434157,0.4064657093246999,0.36029822237378945,0.14177360239906667,0.9176912374897936,0.482962892684886],[2.5088719527368037,0.488404499973688,1.1023209207751403,1.5895555088003457,2.415712082040862,1.3475049158947359,1.2340550648063942,0.7203564386485701,0.9063280067917471,0.8838457858514125,1.6416002741468354,1.394098831944967,1.86613797972912,1.6968284011519785,1.3509238570593163,1.619657692109031,1.095013917759459,1.1124113755651337,1.3710204154375867,1.7840510779533658,2.3805408737574,1.002927215491166,1.6999167924211467,1.2056701556874234,1.43858875135635,1.5848910768700724,1.545348895497968,2.3629935423524113,0.0,0.8087818519006515,1.6981953492546487,2.157737144525204,1.3755404685793124,1.8482593221926387,0.6203558629852034,1.2451947103311958,1.7065453285779344,0.6606467074454739,2.012644899724534,1.1717045670258979,1.411431257353408,1.1302132667790457]],\"type\":\"heatmap\",\"xaxis\":\"x\",\"yaxis\":\"y\",\"hovertemplate\":\"x: %{x}\\u003cbr\\u003ey: %{y}\\u003cbr\\u003ecolor: %{z}\\u003cextra\\u003e\\u003c\\u002fextra\\u003e\"}],                        {\"template\":{\"data\":{\"histogram2dcontour\":[{\"type\":\"histogram2dcontour\",\"colorbar\":{\"outlinewidth\":0,\"ticks\":\"\"},\"colorscale\":[[0.0,\"#0d0887\"],[0.1111111111111111,\"#46039f\"],[0.2222222222222222,\"#7201a8\"],[0.3333333333333333,\"#9c179e\"],[0.4444444444444444,\"#bd3786\"],[0.5555555555555556,\"#d8576b\"],[0.6666666666666666,\"#ed7953\"],[0.7777777777777778,\"#fb9f3a\"],[0.8888888888888888,\"#fdca26\"],[1.0,\"#f0f921\"]]}],\"choropleth\":[{\"type\":\"choropleth\",\"colorbar\":{\"outlinewidth\":0,\"ticks\":\"\"}}],\"histogram2d\":[{\"type\":\"histogram2d\",\"colorbar\":{\"outlinewidth\":0,\"ticks\":\"\"},\"colorscale\":[[0.0,\"#0d0887\"],[0.1111111111111111,\"#46039f\"],[0.2222222222222222,\"#7201a8\"],[0.3333333333333333,\"#9c179e\"],[0.4444444444444444,\"#bd3786\"],[0.5555555555555556,\"#d8576b\"],[0.6666666666666666,\"#ed7953\"],[0.7777777777777778,\"#fb9f3a\"],[0.8888888888888888,\"#fdca26\"],[1.0,\"#f0f921\"]]}],\"heatmap\":[{\"type\":\"heatmap\",\"colorbar\":{\"outlinewidth\":0,\"ticks\":\"\"},\"colorscale\":[[0.0,\"#0d0887\"],[0.1111111111111111,\"#46039f\"],[0.2222222222222222,\"#7201a8\"],[0.3333333333333333,\"#9c179e\"],[0.4444444444444444,\"#bd3786\"],[0.5555555555555556,\"#d8576b\"],[0.6666666666666666,\"#ed7953\"],[0.7777777777777778,\"#fb9f3a\"],[0.8888888888888888,\"#fdca26\"],[1.0,\"#f0f921\"]]}],\"heatmapgl\":[{\"type\":\"heatmapgl\",\"colorbar\":{\"outlinewidth\":0,\"ticks\":\"\"},\"colorscale\":[[0.0,\"#0d0887\"],[0.1111111111111111,\"#46039f\"],[0.2222222222222222,\"#7201a8\"],[0.3333333333333333,\"#9c179e\"],[0.4444444444444444,\"#bd3786\"],[0.5555555555555556,\"#d8576b\"],[0.6666666666666666,\"#ed7953\"],[0.7777777777777778,\"#fb9f3a\"],[0.8888888888888888,\"#fdca26\"],[1.0,\"#f0f921\"]]}],\"contourcarpet\":[{\"type\":\"contourcarpet\",\"colorbar\":{\"outlinewidth\":0,\"ticks\":\"\"}}],\"contour\":[{\"type\":\"contour\",\"colorbar\":{\"outlinewidth\":0,\"ticks\":\"\"},\"colorscale\":[[0.0,\"#0d0887\"],[0.1111111111111111,\"#46039f\"],[0.2222222222222222,\"#7201a8\"],[0.3333333333333333,\"#9c179e\"],[0.4444444444444444,\"#bd3786\"],[0.5555555555555556,\"#d8576b\"],[0.6666666666666666,\"#ed7953\"],[0.7777777777777778,\"#fb9f3a\"],[0.8888888888888888,\"#fdca26\"],[1.0,\"#f0f921\"]]}],\"surface\":[{\"type\":\"surface\",\"colorbar\":{\"outlinewidth\":0,\"ticks\":\"\"},\"colorscale\":[[0.0,\"#0d0887\"],[0.1111111111111111,\"#46039f\"],[0.2222222222222222,\"#7201a8\"],[0.3333333333333333,\"#9c179e\"],[0.4444444444444444,\"#bd3786\"],[0.5555555555555556,\"#d8576b\"],[0.6666666666666666,\"#ed7953\"],[0.7777777777777778,\"#fb9f3a\"],[0.8888888888888888,\"#fdca26\"],[1.0,\"#f0f921\"]]}],\"mesh3d\":[{\"type\":\"mesh3d\",\"colorbar\":{\"outlinewidth\":0,\"ticks\":\"\"}}],\"scatter\":[{\"fillpattern\":{\"fillmode\":\"overlay\",\"size\":10,\"solidity\":0.2},\"type\":\"scatter\"}],\"parcoords\":[{\"type\":\"parcoords\",\"line\":{\"colorbar\":{\"outlinewidth\":0,\"ticks\":\"\"}}}],\"scatterpolargl\":[{\"type\":\"scatterpolargl\",\"marker\":{\"colorbar\":{\"outlinewidth\":0,\"ticks\":\"\"}}}],\"bar\":[{\"error_x\":{\"color\":\"#2a3f5f\"},\"error_y\":{\"color\":\"#2a3f5f\"},\"marker\":{\"line\":{\"color\":\"#E5ECF6\",\"width\":0.5},\"pattern\":{\"fillmode\":\"overlay\",\"size\":10,\"solidity\":0.2}},\"type\":\"bar\"}],\"scattergeo\":[{\"type\":\"scattergeo\",\"marker\":{\"colorbar\":{\"outlinewidth\":0,\"ticks\":\"\"}}}],\"scatterpolar\":[{\"type\":\"scatterpolar\",\"marker\":{\"colorbar\":{\"outlinewidth\":0,\"ticks\":\"\"}}}],\"histogram\":[{\"marker\":{\"pattern\":{\"fillmode\":\"overlay\",\"size\":10,\"solidity\":0.2}},\"type\":\"histogram\"}],\"scattergl\":[{\"type\":\"scattergl\",\"marker\":{\"colorbar\":{\"outlinewidth\":0,\"ticks\":\"\"}}}],\"scatter3d\":[{\"type\":\"scatter3d\",\"line\":{\"colorbar\":{\"outlinewidth\":0,\"ticks\":\"\"}},\"marker\":{\"colorbar\":{\"outlinewidth\":0,\"ticks\":\"\"}}}],\"scattermapbox\":[{\"type\":\"scattermapbox\",\"marker\":{\"colorbar\":{\"outlinewidth\":0,\"ticks\":\"\"}}}],\"scatterternary\":[{\"type\":\"scatterternary\",\"marker\":{\"colorbar\":{\"outlinewidth\":0,\"ticks\":\"\"}}}],\"scattercarpet\":[{\"type\":\"scattercarpet\",\"marker\":{\"colorbar\":{\"outlinewidth\":0,\"ticks\":\"\"}}}],\"carpet\":[{\"aaxis\":{\"endlinecolor\":\"#2a3f5f\",\"gridcolor\":\"white\",\"linecolor\":\"white\",\"minorgridcolor\":\"white\",\"startlinecolor\":\"#2a3f5f\"},\"baxis\":{\"endlinecolor\":\"#2a3f5f\",\"gridcolor\":\"white\",\"linecolor\":\"white\",\"minorgridcolor\":\"white\",\"startlinecolor\":\"#2a3f5f\"},\"type\":\"carpet\"}],\"table\":[{\"cells\":{\"fill\":{\"color\":\"#EBF0F8\"},\"line\":{\"color\":\"white\"}},\"header\":{\"fill\":{\"color\":\"#C8D4E3\"},\"line\":{\"color\":\"white\"}},\"type\":\"table\"}],\"barpolar\":[{\"marker\":{\"line\":{\"color\":\"#E5ECF6\",\"width\":0.5},\"pattern\":{\"fillmode\":\"overlay\",\"size\":10,\"solidity\":0.2}},\"type\":\"barpolar\"}],\"pie\":[{\"automargin\":true,\"type\":\"pie\"}]},\"layout\":{\"autotypenumbers\":\"strict\",\"colorway\":[\"#636efa\",\"#EF553B\",\"#00cc96\",\"#ab63fa\",\"#FFA15A\",\"#19d3f3\",\"#FF6692\",\"#B6E880\",\"#FF97FF\",\"#FECB52\"],\"font\":{\"color\":\"#2a3f5f\"},\"hovermode\":\"closest\",\"hoverlabel\":{\"align\":\"left\"},\"paper_bgcolor\":\"white\",\"plot_bgcolor\":\"#E5ECF6\",\"polar\":{\"bgcolor\":\"#E5ECF6\",\"angularaxis\":{\"gridcolor\":\"white\",\"linecolor\":\"white\",\"ticks\":\"\"},\"radialaxis\":{\"gridcolor\":\"white\",\"linecolor\":\"white\",\"ticks\":\"\"}},\"ternary\":{\"bgcolor\":\"#E5ECF6\",\"aaxis\":{\"gridcolor\":\"white\",\"linecolor\":\"white\",\"ticks\":\"\"},\"baxis\":{\"gridcolor\":\"white\",\"linecolor\":\"white\",\"ticks\":\"\"},\"caxis\":{\"gridcolor\":\"white\",\"linecolor\":\"white\",\"ticks\":\"\"}},\"coloraxis\":{\"colorbar\":{\"outlinewidth\":0,\"ticks\":\"\"}},\"colorscale\":{\"sequential\":[[0.0,\"#0d0887\"],[0.1111111111111111,\"#46039f\"],[0.2222222222222222,\"#7201a8\"],[0.3333333333333333,\"#9c179e\"],[0.4444444444444444,\"#bd3786\"],[0.5555555555555556,\"#d8576b\"],[0.6666666666666666,\"#ed7953\"],[0.7777777777777778,\"#fb9f3a\"],[0.8888888888888888,\"#fdca26\"],[1.0,\"#f0f921\"]],\"sequentialminus\":[[0.0,\"#0d0887\"],[0.1111111111111111,\"#46039f\"],[0.2222222222222222,\"#7201a8\"],[0.3333333333333333,\"#9c179e\"],[0.4444444444444444,\"#bd3786\"],[0.5555555555555556,\"#d8576b\"],[0.6666666666666666,\"#ed7953\"],[0.7777777777777778,\"#fb9f3a\"],[0.8888888888888888,\"#fdca26\"],[1.0,\"#f0f921\"]],\"diverging\":[[0,\"#8e0152\"],[0.1,\"#c51b7d\"],[0.2,\"#de77ae\"],[0.3,\"#f1b6da\"],[0.4,\"#fde0ef\"],[0.5,\"#f7f7f7\"],[0.6,\"#e6f5d0\"],[0.7,\"#b8e186\"],[0.8,\"#7fbc41\"],[0.9,\"#4d9221\"],[1,\"#276419\"]]},\"xaxis\":{\"gridcolor\":\"white\",\"linecolor\":\"white\",\"ticks\":\"\",\"title\":{\"standoff\":15},\"zerolinecolor\":\"white\",\"automargin\":true,\"zerolinewidth\":2},\"yaxis\":{\"gridcolor\":\"white\",\"linecolor\":\"white\",\"ticks\":\"\",\"title\":{\"standoff\":15},\"zerolinecolor\":\"white\",\"automargin\":true,\"zerolinewidth\":2},\"scene\":{\"xaxis\":{\"backgroundcolor\":\"#E5ECF6\",\"gridcolor\":\"white\",\"linecolor\":\"white\",\"showbackground\":true,\"ticks\":\"\",\"zerolinecolor\":\"white\",\"gridwidth\":2},\"yaxis\":{\"backgroundcolor\":\"#E5ECF6\",\"gridcolor\":\"white\",\"linecolor\":\"white\",\"showbackground\":true,\"ticks\":\"\",\"zerolinecolor\":\"white\",\"gridwidth\":2},\"zaxis\":{\"backgroundcolor\":\"#E5ECF6\",\"gridcolor\":\"white\",\"linecolor\":\"white\",\"showbackground\":true,\"ticks\":\"\",\"zerolinecolor\":\"white\",\"gridwidth\":2}},\"shapedefaults\":{\"line\":{\"color\":\"#2a3f5f\"}},\"annotationdefaults\":{\"arrowcolor\":\"#2a3f5f\",\"arrowhead\":0,\"arrowwidth\":1},\"geo\":{\"bgcolor\":\"white\",\"landcolor\":\"#E5ECF6\",\"subunitcolor\":\"white\",\"showland\":true,\"showlakes\":true,\"lakecolor\":\"white\"},\"title\":{\"x\":0.05},\"mapbox\":{\"style\":\"light\"}}},\"xaxis\":{\"anchor\":\"y\",\"domain\":[0.0,1.0],\"scaleanchor\":\"y\",\"constrain\":\"domain\"},\"yaxis\":{\"anchor\":\"x\",\"domain\":[0.0,1.0],\"autorange\":\"reversed\",\"constrain\":\"domain\"},\"coloraxis\":{\"colorscale\":[[0.0,\"#0d0887\"],[0.1111111111111111,\"#46039f\"],[0.2222222222222222,\"#7201a8\"],[0.3333333333333333,\"#9c179e\"],[0.4444444444444444,\"#bd3786\"],[0.5555555555555556,\"#d8576b\"],[0.6666666666666666,\"#ed7953\"],[0.7777777777777778,\"#fb9f3a\"],[0.8888888888888888,\"#fdca26\"],[1.0,\"#f0f921\"]]},\"title\":{\"text\":\"Negative steering effect (Gemma 1, L14, sfc top 10)\"}},                        {\"responsive\": true}                    ).then(function(){\n",
       "                            \n",
       "var gd = document.getElementById('f59b6d5e-f35b-4a07-bcd4-74acfd955447');\n",
       "var x = new MutationObserver(function (mutations, observer) {{\n",
       "        var display = window.getComputedStyle(gd).display;\n",
       "        if (!display || display === 'none') {{\n",
       "            console.log([gd, 'removed!']);\n",
       "            Plotly.purge(gd);\n",
       "            observer.disconnect();\n",
       "        }}\n",
       "}});\n",
       "\n",
       "// Listen for the removal of the full notebook cells\n",
       "var notebookContainer = gd.closest('#notebook-container');\n",
       "if (notebookContainer) {{\n",
       "    x.observe(notebookContainer, {childList: true});\n",
       "}}\n",
       "\n",
       "// Listen for the clearing of the current output cell\n",
       "var outputEl = gd.closest('.output');\n",
       "if (outputEl) {{\n",
       "    x.observe(outputEl, {childList: true});\n",
       "}}\n",
       "\n",
       "                        })                };                });            </script>        </div>"
      ]
     },
     "metadata": {},
     "output_type": "display_data"
    }
   ],
   "source": [
    "import plotly.express as px\n",
    "import pandas as pd\n",
    "import numpy as np\n",
    "\n",
    "normalized_losses = {}\n",
    "\n",
    "# drop_features = [55186, 18719]\n",
    "drop_features = []\n",
    "drop_ids = [features.index(feature) for feature in drop_features]\n",
    "\n",
    "features_dropped = [feature for feature in features if feature not in drop_features]\n",
    "\n",
    "for task_name, losses in negative_task_losses.items():\n",
    "    base_loss = losses[1]\n",
    "    losses = [x[0].tolist() for x in losses[0]]\n",
    "    losses = np.array(losses)\n",
    "    losses = np.delete(losses, drop_ids)\n",
    "\n",
    "    losses = losses - base_loss[0]\n",
    "    \n",
    "    max_loss = np.max(losses)\n",
    "    min_loss = np.min(losses)\n",
    "\n",
    "    losses = (losses - min_loss) / (max_loss - min_loss)\n",
    "    \n",
    "    # mean_loss = np.mean(losses - base_loss)\n",
    "\n",
    "    # base_acc = losses[1][1]\n",
    "\n",
    "    # accs = [base_acc - loss[1] for loss in losses[0]]\n",
    "    normalized_losses[task_name] = losses\n",
    "\n",
    "\n",
    "heatmap = np.zeros((len(task_names), len(features_dropped)))\n",
    "\n",
    "for i, task_name in enumerate(task_names):\n",
    "    for j, feature in enumerate(features_dropped):\n",
    "        heatmap[i, j] = normalized_losses[task_name][j]\n",
    "\n",
    "heatmap /= np.mean(heatmap, axis=0, keepdims=True)\n",
    "\n",
    "\n",
    "\n",
    "# heatmap = np.where(heatmap > 0, np.log(heatmap), -10)\n",
    "# heatmap[np.isnan(heatmap)] = np.min(heatmap[np.isfinite(heatmap)])\n",
    "# heatmap[np.isinf(heatmap)] = np.max(heatmap[np.isfinite(heatmap)])\n",
    "\n",
    "# heatmap = np.clip(heatmap, -5, 5)\n",
    "\n",
    "\n",
    "fig = px.imshow(heatmap, x=[str(x) for x in features_dropped], y=task_names, title=f\"Negative steering effect (Gemma 1, L{layer}, sfc top 10)\")\n",
    "\n",
    "fig.show()\n"
   ]
  },
  {
   "cell_type": "code",
   "execution_count": 61,
   "metadata": {},
   "outputs": [
    {
     "data": {
      "text/html": [
       "<script> (()=>{ if (customElements.get('treescope-container') === undefined) { class TreescopeContainer extends HTMLElement { constructor() { super(); this.attachShadow({mode: \"open\"}); this.defns = {}; this.state = {}; } } customElements.define(\"treescope-container\", TreescopeContainer); } if (customElements.get('treescope-run-here') === undefined) { class RunHere extends HTMLElement { constructor() { super() } connectedCallback() { const run = child => { const fn = new Function(child.textContent); child.textContent = \"\"; fn.call(this); this.remove(); }; const child = this.querySelector(\"script\"); if (child) { run(child); } else { new MutationObserver(()=>{ run(this.querySelector(\"script\")); }).observe(this, {childList: true}); } } } customElements.define(\"treescope-run-here\", RunHere); } })(); </script> <treescope-container class=\"treescope_out_4d79ef3cf8534f41b71387ee5e2ecc63\" ></treescope-container> <treescope-run-here><script type=\"application/octet-stream\"> const root = ( Array.from(document.getElementsByClassName( \"treescope_out_4d79ef3cf8534f41b71387ee5e2ecc63\")) .filter((elt) => !elt.dataset.setup) )[0]; root.dataset.setup = 1; const msg = document.createElement(\"span\"); msg.style = \"color: #aaaaaa; font-family: monospace; transition: opacity 0.2s; opacity: 0.0;\"; msg.textContent = \"(Loading...)\"; root.state.loadingMsg = msg; root.shadowRoot.appendChild(msg); root.state.chain = new Promise((resolve, reject) => { const observer = new IntersectionObserver((entries) => { for (const entry of entries) { if (entry.isIntersecting) { resolve(); observer.disconnect(); return; } } }, {rootMargin: \"1000px\"}); window.setTimeout(() => { if (root.loadingMsg) { root.loadingMsg.style.opacity = \"1.0\"; } observer.observe(root); }, 0); }); root.state.deferring = false; const _insertNode = (node) => { for (let oldScript of node.querySelectorAll(\"script\")) { let newScript = document.createElement(\"script\"); newScript.type = oldScript.type; newScript.textContent = oldScript.textContent; oldScript.parentNode.replaceChild(newScript, oldScript); } if (root.state.loadingMsg) { root.state.loadingMsg.remove(); root.state.loadingMsg = null; } root.shadowRoot.appendChild(node); }; root.defns.insertContent = ((contentNode, compressed) => { if (compressed) { root.state.deferring = true; } if (root.state.deferring) { root.state.chain = (async () => { await root.state.chain; if (compressed) { const encoded = contentNode.textContent; const blob = new Blob([ Uint8Array.from(atob(encoded), (m) => m.codePointAt(0)) ]); const reader = blob.stream().pipeThrough( new DecompressionStream(\"deflate\") ).pipeThrough( new TextDecoderStream(\"utf-8\") ).getReader(); const parts = []; while (true) { const step = await reader.read(); if (step.done) { break; } parts.push(step.value); } const tpl = document.createElement('template'); tpl.innerHTML = parts.join(\"\"); _insertNode(tpl.content); } else { _insertNode(contentNode.content); } })(); } else { _insertNode(contentNode.content); } }); </script></treescope-run-here><div style=\"display:none\"> <script type=\"application/octet-stream\" >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</script> <treescope-run-here><script type=\"application/octet-stream\"> const root = ( Array.from(document.getElementsByClassName( \"treescope_out_4d79ef3cf8534f41b71387ee5e2ecc63\")) .filter((elt) => !elt.dataset['step0']) )[0]; root.dataset['step0'] = 1; root.defns.insertContent( this.parentNode.querySelector('script[type=\"application/octet-stream\"]'), true ); this.parentNode.remove(); </script></treescope-run-here> </div>"
      ],
      "text/plain": [
       "<IPython.core.display.HTML object>"
      ]
     },
     "metadata": {},
     "output_type": "display_data"
    },
    {
     "data": {
      "text/html": [
       "<treescope-run-here><script type=\"application/octet-stream\"> const root = ( Array.from(document.getElementsByClassName( \"treescope_out_4d79ef3cf8534f41b71387ee5e2ecc63\")) .filter((elt) => !elt.dataset.stolen) )[0]; root.dataset.stolen = 1; this.parentNode.replaceChild(root, this); </script></treescope-run-here>"
      ],
      "text/plain": [
       "[-3.484848484848485,\n",
       " -0.15656565656565657,\n",
       " -3.202020202020202,\n",
       " -0.3434343434343434,\n",
       " -0.7171717171717171,\n",
       " -0.2676767676767677,\n",
       " -0.696969696969697,\n",
       " -1.4646464646464648,\n",
       " -0.30303030303030304,\n",
       " -0.7070707070707071,\n",
       " -1.9090909090909092]"
      ]
     },
     "execution_count": 61,
     "metadata": {},
     "output_type": "execute_result"
    }
   ],
   "source": [
    "task_losses[task_name][0]"
   ]
  },
  {
   "cell_type": "code",
   "execution_count": 66,
   "metadata": {},
   "outputs": [
    {
     "data": {
      "application/vnd.plotly.v1+json": {
       "config": {
        "plotlyServerURL": "https://plot.ly"
       },
       "data": [
        {
         "coloraxis": "coloraxis",
         "hovertemplate": "x: %{x}<br>y: %{y}<br>color: %{z}<extra></extra>",
         "name": "0",
         "type": "heatmap",
         "x": [
          "9790",
          "12605",
          "13458",
          "11491",
          "18803",
          "2931",
          "11618",
          "26987",
          "5679",
          "15554",
          "26594"
         ],
         "xaxis": "x",
         "y": [
          "en_es",
          "antonyms",
          "person_profession",
          "es_en",
          "present_simple_gerund",
          "present_simple_past_simple",
          "person_profession",
          "person_language",
          "country_capital",
          "football_player_position"
         ],
         "yaxis": "y",
         "z": [
          [
           -0.6875,
           0.59375,
           -0.15625,
           -0.40625,
           -1.375,
           0.125,
           -0.40625,
           -10.71875,
           -0.5,
           0.3125,
           -0.28125
          ],
          [
           -0.74609375,
           0.07421875,
           -0.32421875,
           -1.69921875,
           -2.52734375,
           -1.15234375,
           -4.91796875,
           -0.29296875,
           -0.66015625,
           -0.16015625,
           -1.60546875
          ],
          [
           -1.4375,
           -0.3125,
           -4.125,
           -0.1875,
           -1.09375,
           -0.625,
           -0.5,
           0.09375,
           -0.4375,
           -0.5625,
           -1.6875
          ],
          [
           -0.671875,
           0.296875,
           -1.328125,
           -1.8125,
           -1.328125,
           -0.671875,
           -0.546875,
           -1.59375,
           -0.25,
           -0.5625,
           -2.59375
          ],
          [
           -0.3427734375,
           -0.0810546875,
           -0.2197265625,
           -0.5224609375,
           -0.2158203125,
           -0.6748046875,
           -0.3896484375,
           -1.0224609375,
           -0.0224609375,
           -4.4443359375,
           -2.4912109375
          ],
          [
           0.34765625,
           0.171875,
           0.23046875,
           0.125,
           -0.2578125,
           -2.546875,
           0.1015625,
           0.1328125,
           0.09375,
           -4.53125,
           -1.640625
          ],
          [
           -1.4375,
           -0.3125,
           -4.125,
           -0.1875,
           -1.09375,
           -0.625,
           -0.5,
           0.09375,
           -0.4375,
           -0.5625,
           -1.6875
          ],
          [
           0.015625,
           -0.2265625,
           0.37109375,
           -0.875,
           0.0859375,
           -0.859375,
           -0.421875,
           -0.3984375,
           -0.15625,
           -0.1953125,
           -2.15625
          ],
          [
           -0.34375,
           -0.0078125,
           -0.9921875,
           -1.8828125,
           -9.6171875,
           -0.0234375,
           -0.1484375,
           -0.6796875,
           -0.1484375,
           0.0234375,
           -1.4921875
          ],
          [
           -7.9375,
           -0.578125,
           -3.375,
           -1.203125,
           -2.5625,
           -0.53125,
           -0.90625,
           -1.453125,
           -0.703125,
           -0.984375,
           -2.96875
          ]
         ]
        }
       ],
       "layout": {
        "coloraxis": {
         "colorscale": [
          [
           0,
           "#0d0887"
          ],
          [
           0.1111111111111111,
           "#46039f"
          ],
          [
           0.2222222222222222,
           "#7201a8"
          ],
          [
           0.3333333333333333,
           "#9c179e"
          ],
          [
           0.4444444444444444,
           "#bd3786"
          ],
          [
           0.5555555555555556,
           "#d8576b"
          ],
          [
           0.6666666666666666,
           "#ed7953"
          ],
          [
           0.7777777777777778,
           "#fb9f3a"
          ],
          [
           0.8888888888888888,
           "#fdca26"
          ],
          [
           1,
           "#f0f921"
          ]
         ]
        },
        "margin": {
         "t": 60
        },
        "template": {
         "data": {
          "bar": [
           {
            "error_x": {
             "color": "#2a3f5f"
            },
            "error_y": {
             "color": "#2a3f5f"
            },
            "marker": {
             "line": {
              "color": "#E5ECF6",
              "width": 0.5
             },
             "pattern": {
              "fillmode": "overlay",
              "size": 10,
              "solidity": 0.2
             }
            },
            "type": "bar"
           }
          ],
          "barpolar": [
           {
            "marker": {
             "line": {
              "color": "#E5ECF6",
              "width": 0.5
             },
             "pattern": {
              "fillmode": "overlay",
              "size": 10,
              "solidity": 0.2
             }
            },
            "type": "barpolar"
           }
          ],
          "carpet": [
           {
            "aaxis": {
             "endlinecolor": "#2a3f5f",
             "gridcolor": "white",
             "linecolor": "white",
             "minorgridcolor": "white",
             "startlinecolor": "#2a3f5f"
            },
            "baxis": {
             "endlinecolor": "#2a3f5f",
             "gridcolor": "white",
             "linecolor": "white",
             "minorgridcolor": "white",
             "startlinecolor": "#2a3f5f"
            },
            "type": "carpet"
           }
          ],
          "choropleth": [
           {
            "colorbar": {
             "outlinewidth": 0,
             "ticks": ""
            },
            "type": "choropleth"
           }
          ],
          "contour": [
           {
            "colorbar": {
             "outlinewidth": 0,
             "ticks": ""
            },
            "colorscale": [
             [
              0,
              "#0d0887"
             ],
             [
              0.1111111111111111,
              "#46039f"
             ],
             [
              0.2222222222222222,
              "#7201a8"
             ],
             [
              0.3333333333333333,
              "#9c179e"
             ],
             [
              0.4444444444444444,
              "#bd3786"
             ],
             [
              0.5555555555555556,
              "#d8576b"
             ],
             [
              0.6666666666666666,
              "#ed7953"
             ],
             [
              0.7777777777777778,
              "#fb9f3a"
             ],
             [
              0.8888888888888888,
              "#fdca26"
             ],
             [
              1,
              "#f0f921"
             ]
            ],
            "type": "contour"
           }
          ],
          "contourcarpet": [
           {
            "colorbar": {
             "outlinewidth": 0,
             "ticks": ""
            },
            "type": "contourcarpet"
           }
          ],
          "heatmap": [
           {
            "colorbar": {
             "outlinewidth": 0,
             "ticks": ""
            },
            "colorscale": [
             [
              0,
              "#0d0887"
             ],
             [
              0.1111111111111111,
              "#46039f"
             ],
             [
              0.2222222222222222,
              "#7201a8"
             ],
             [
              0.3333333333333333,
              "#9c179e"
             ],
             [
              0.4444444444444444,
              "#bd3786"
             ],
             [
              0.5555555555555556,
              "#d8576b"
             ],
             [
              0.6666666666666666,
              "#ed7953"
             ],
             [
              0.7777777777777778,
              "#fb9f3a"
             ],
             [
              0.8888888888888888,
              "#fdca26"
             ],
             [
              1,
              "#f0f921"
             ]
            ],
            "type": "heatmap"
           }
          ],
          "heatmapgl": [
           {
            "colorbar": {
             "outlinewidth": 0,
             "ticks": ""
            },
            "colorscale": [
             [
              0,
              "#0d0887"
             ],
             [
              0.1111111111111111,
              "#46039f"
             ],
             [
              0.2222222222222222,
              "#7201a8"
             ],
             [
              0.3333333333333333,
              "#9c179e"
             ],
             [
              0.4444444444444444,
              "#bd3786"
             ],
             [
              0.5555555555555556,
              "#d8576b"
             ],
             [
              0.6666666666666666,
              "#ed7953"
             ],
             [
              0.7777777777777778,
              "#fb9f3a"
             ],
             [
              0.8888888888888888,
              "#fdca26"
             ],
             [
              1,
              "#f0f921"
             ]
            ],
            "type": "heatmapgl"
           }
          ],
          "histogram": [
           {
            "marker": {
             "pattern": {
              "fillmode": "overlay",
              "size": 10,
              "solidity": 0.2
             }
            },
            "type": "histogram"
           }
          ],
          "histogram2d": [
           {
            "colorbar": {
             "outlinewidth": 0,
             "ticks": ""
            },
            "colorscale": [
             [
              0,
              "#0d0887"
             ],
             [
              0.1111111111111111,
              "#46039f"
             ],
             [
              0.2222222222222222,
              "#7201a8"
             ],
             [
              0.3333333333333333,
              "#9c179e"
             ],
             [
              0.4444444444444444,
              "#bd3786"
             ],
             [
              0.5555555555555556,
              "#d8576b"
             ],
             [
              0.6666666666666666,
              "#ed7953"
             ],
             [
              0.7777777777777778,
              "#fb9f3a"
             ],
             [
              0.8888888888888888,
              "#fdca26"
             ],
             [
              1,
              "#f0f921"
             ]
            ],
            "type": "histogram2d"
           }
          ],
          "histogram2dcontour": [
           {
            "colorbar": {
             "outlinewidth": 0,
             "ticks": ""
            },
            "colorscale": [
             [
              0,
              "#0d0887"
             ],
             [
              0.1111111111111111,
              "#46039f"
             ],
             [
              0.2222222222222222,
              "#7201a8"
             ],
             [
              0.3333333333333333,
              "#9c179e"
             ],
             [
              0.4444444444444444,
              "#bd3786"
             ],
             [
              0.5555555555555556,
              "#d8576b"
             ],
             [
              0.6666666666666666,
              "#ed7953"
             ],
             [
              0.7777777777777778,
              "#fb9f3a"
             ],
             [
              0.8888888888888888,
              "#fdca26"
             ],
             [
              1,
              "#f0f921"
             ]
            ],
            "type": "histogram2dcontour"
           }
          ],
          "mesh3d": [
           {
            "colorbar": {
             "outlinewidth": 0,
             "ticks": ""
            },
            "type": "mesh3d"
           }
          ],
          "parcoords": [
           {
            "line": {
             "colorbar": {
              "outlinewidth": 0,
              "ticks": ""
             }
            },
            "type": "parcoords"
           }
          ],
          "pie": [
           {
            "automargin": true,
            "type": "pie"
           }
          ],
          "scatter": [
           {
            "fillpattern": {
             "fillmode": "overlay",
             "size": 10,
             "solidity": 0.2
            },
            "type": "scatter"
           }
          ],
          "scatter3d": [
           {
            "line": {
             "colorbar": {
              "outlinewidth": 0,
              "ticks": ""
             }
            },
            "marker": {
             "colorbar": {
              "outlinewidth": 0,
              "ticks": ""
             }
            },
            "type": "scatter3d"
           }
          ],
          "scattercarpet": [
           {
            "marker": {
             "colorbar": {
              "outlinewidth": 0,
              "ticks": ""
             }
            },
            "type": "scattercarpet"
           }
          ],
          "scattergeo": [
           {
            "marker": {
             "colorbar": {
              "outlinewidth": 0,
              "ticks": ""
             }
            },
            "type": "scattergeo"
           }
          ],
          "scattergl": [
           {
            "marker": {
             "colorbar": {
              "outlinewidth": 0,
              "ticks": ""
             }
            },
            "type": "scattergl"
           }
          ],
          "scattermapbox": [
           {
            "marker": {
             "colorbar": {
              "outlinewidth": 0,
              "ticks": ""
             }
            },
            "type": "scattermapbox"
           }
          ],
          "scatterpolar": [
           {
            "marker": {
             "colorbar": {
              "outlinewidth": 0,
              "ticks": ""
             }
            },
            "type": "scatterpolar"
           }
          ],
          "scatterpolargl": [
           {
            "marker": {
             "colorbar": {
              "outlinewidth": 0,
              "ticks": ""
             }
            },
            "type": "scatterpolargl"
           }
          ],
          "scatterternary": [
           {
            "marker": {
             "colorbar": {
              "outlinewidth": 0,
              "ticks": ""
             }
            },
            "type": "scatterternary"
           }
          ],
          "surface": [
           {
            "colorbar": {
             "outlinewidth": 0,
             "ticks": ""
            },
            "colorscale": [
             [
              0,
              "#0d0887"
             ],
             [
              0.1111111111111111,
              "#46039f"
             ],
             [
              0.2222222222222222,
              "#7201a8"
             ],
             [
              0.3333333333333333,
              "#9c179e"
             ],
             [
              0.4444444444444444,
              "#bd3786"
             ],
             [
              0.5555555555555556,
              "#d8576b"
             ],
             [
              0.6666666666666666,
              "#ed7953"
             ],
             [
              0.7777777777777778,
              "#fb9f3a"
             ],
             [
              0.8888888888888888,
              "#fdca26"
             ],
             [
              1,
              "#f0f921"
             ]
            ],
            "type": "surface"
           }
          ],
          "table": [
           {
            "cells": {
             "fill": {
              "color": "#EBF0F8"
             },
             "line": {
              "color": "white"
             }
            },
            "header": {
             "fill": {
              "color": "#C8D4E3"
             },
             "line": {
              "color": "white"
             }
            },
            "type": "table"
           }
          ]
         },
         "layout": {
          "annotationdefaults": {
           "arrowcolor": "#2a3f5f",
           "arrowhead": 0,
           "arrowwidth": 1
          },
          "autotypenumbers": "strict",
          "coloraxis": {
           "colorbar": {
            "outlinewidth": 0,
            "ticks": ""
           }
          },
          "colorscale": {
           "diverging": [
            [
             0,
             "#8e0152"
            ],
            [
             0.1,
             "#c51b7d"
            ],
            [
             0.2,
             "#de77ae"
            ],
            [
             0.3,
             "#f1b6da"
            ],
            [
             0.4,
             "#fde0ef"
            ],
            [
             0.5,
             "#f7f7f7"
            ],
            [
             0.6,
             "#e6f5d0"
            ],
            [
             0.7,
             "#b8e186"
            ],
            [
             0.8,
             "#7fbc41"
            ],
            [
             0.9,
             "#4d9221"
            ],
            [
             1,
             "#276419"
            ]
           ],
           "sequential": [
            [
             0,
             "#0d0887"
            ],
            [
             0.1111111111111111,
             "#46039f"
            ],
            [
             0.2222222222222222,
             "#7201a8"
            ],
            [
             0.3333333333333333,
             "#9c179e"
            ],
            [
             0.4444444444444444,
             "#bd3786"
            ],
            [
             0.5555555555555556,
             "#d8576b"
            ],
            [
             0.6666666666666666,
             "#ed7953"
            ],
            [
             0.7777777777777778,
             "#fb9f3a"
            ],
            [
             0.8888888888888888,
             "#fdca26"
            ],
            [
             1,
             "#f0f921"
            ]
           ],
           "sequentialminus": [
            [
             0,
             "#0d0887"
            ],
            [
             0.1111111111111111,
             "#46039f"
            ],
            [
             0.2222222222222222,
             "#7201a8"
            ],
            [
             0.3333333333333333,
             "#9c179e"
            ],
            [
             0.4444444444444444,
             "#bd3786"
            ],
            [
             0.5555555555555556,
             "#d8576b"
            ],
            [
             0.6666666666666666,
             "#ed7953"
            ],
            [
             0.7777777777777778,
             "#fb9f3a"
            ],
            [
             0.8888888888888888,
             "#fdca26"
            ],
            [
             1,
             "#f0f921"
            ]
           ]
          },
          "colorway": [
           "#636efa",
           "#EF553B",
           "#00cc96",
           "#ab63fa",
           "#FFA15A",
           "#19d3f3",
           "#FF6692",
           "#B6E880",
           "#FF97FF",
           "#FECB52"
          ],
          "font": {
           "color": "#2a3f5f"
          },
          "geo": {
           "bgcolor": "white",
           "lakecolor": "white",
           "landcolor": "#E5ECF6",
           "showlakes": true,
           "showland": true,
           "subunitcolor": "white"
          },
          "hoverlabel": {
           "align": "left"
          },
          "hovermode": "closest",
          "mapbox": {
           "style": "light"
          },
          "paper_bgcolor": "white",
          "plot_bgcolor": "#E5ECF6",
          "polar": {
           "angularaxis": {
            "gridcolor": "white",
            "linecolor": "white",
            "ticks": ""
           },
           "bgcolor": "#E5ECF6",
           "radialaxis": {
            "gridcolor": "white",
            "linecolor": "white",
            "ticks": ""
           }
          },
          "scene": {
           "xaxis": {
            "backgroundcolor": "#E5ECF6",
            "gridcolor": "white",
            "gridwidth": 2,
            "linecolor": "white",
            "showbackground": true,
            "ticks": "",
            "zerolinecolor": "white"
           },
           "yaxis": {
            "backgroundcolor": "#E5ECF6",
            "gridcolor": "white",
            "gridwidth": 2,
            "linecolor": "white",
            "showbackground": true,
            "ticks": "",
            "zerolinecolor": "white"
           },
           "zaxis": {
            "backgroundcolor": "#E5ECF6",
            "gridcolor": "white",
            "gridwidth": 2,
            "linecolor": "white",
            "showbackground": true,
            "ticks": "",
            "zerolinecolor": "white"
           }
          },
          "shapedefaults": {
           "line": {
            "color": "#2a3f5f"
           }
          },
          "ternary": {
           "aaxis": {
            "gridcolor": "white",
            "linecolor": "white",
            "ticks": ""
           },
           "baxis": {
            "gridcolor": "white",
            "linecolor": "white",
            "ticks": ""
           },
           "bgcolor": "#E5ECF6",
           "caxis": {
            "gridcolor": "white",
            "linecolor": "white",
            "ticks": ""
           }
          },
          "title": {
           "x": 0.05
          },
          "xaxis": {
           "automargin": true,
           "gridcolor": "white",
           "linecolor": "white",
           "ticks": "",
           "title": {
            "standoff": 15
           },
           "zerolinecolor": "white",
           "zerolinewidth": 2
          },
          "yaxis": {
           "automargin": true,
           "gridcolor": "white",
           "linecolor": "white",
           "ticks": "",
           "title": {
            "standoff": 15
           },
           "zerolinecolor": "white",
           "zerolinewidth": 2
          }
         }
        },
        "xaxis": {
         "anchor": "y",
         "constrain": "domain",
         "domain": [
          0,
          1
         ],
         "scaleanchor": "y"
        },
        "yaxis": {
         "anchor": "x",
         "autorange": "reversed",
         "constrain": "domain",
         "domain": [
          0,
          1
         ]
        }
       }
      },
      "text/html": [
       "<div>                            <div id=\"d7b29250-9a0d-4d1e-841b-7f2031c72c49\" class=\"plotly-graph-div\" style=\"height:525px; width:100%;\"></div>            <script type=\"text/javascript\">                require([\"plotly\"], function(Plotly) {                    window.PLOTLYENV=window.PLOTLYENV || {};                                    if (document.getElementById(\"d7b29250-9a0d-4d1e-841b-7f2031c72c49\")) {                    Plotly.newPlot(                        \"d7b29250-9a0d-4d1e-841b-7f2031c72c49\",                        [{\"coloraxis\":\"coloraxis\",\"name\":\"0\",\"x\":[\"9790\",\"12605\",\"13458\",\"11491\",\"18803\",\"2931\",\"11618\",\"26987\",\"5679\",\"15554\",\"26594\"],\"y\":[\"en_es\",\"antonyms\",\"person_profession\",\"es_en\",\"present_simple_gerund\",\"present_simple_past_simple\",\"person_profession\",\"person_language\",\"country_capital\",\"football_player_position\"],\"z\":[[-0.6875,0.59375,-0.15625,-0.40625,-1.375,0.125,-0.40625,-10.71875,-0.5,0.3125,-0.28125],[-0.74609375,0.07421875,-0.32421875,-1.69921875,-2.52734375,-1.15234375,-4.91796875,-0.29296875,-0.66015625,-0.16015625,-1.60546875],[-1.4375,-0.3125,-4.125,-0.1875,-1.09375,-0.625,-0.5,0.09375,-0.4375,-0.5625,-1.6875],[-0.671875,0.296875,-1.328125,-1.8125,-1.328125,-0.671875,-0.546875,-1.59375,-0.25,-0.5625,-2.59375],[-0.3427734375,-0.0810546875,-0.2197265625,-0.5224609375,-0.2158203125,-0.6748046875,-0.3896484375,-1.0224609375,-0.0224609375,-4.4443359375,-2.4912109375],[0.34765625,0.171875,0.23046875,0.125,-0.2578125,-2.546875,0.1015625,0.1328125,0.09375,-4.53125,-1.640625],[-1.4375,-0.3125,-4.125,-0.1875,-1.09375,-0.625,-0.5,0.09375,-0.4375,-0.5625,-1.6875],[0.015625,-0.2265625,0.37109375,-0.875,0.0859375,-0.859375,-0.421875,-0.3984375,-0.15625,-0.1953125,-2.15625],[-0.34375,-0.0078125,-0.9921875,-1.8828125,-9.6171875,-0.0234375,-0.1484375,-0.6796875,-0.1484375,0.0234375,-1.4921875],[-7.9375,-0.578125,-3.375,-1.203125,-2.5625,-0.53125,-0.90625,-1.453125,-0.703125,-0.984375,-2.96875]],\"type\":\"heatmap\",\"xaxis\":\"x\",\"yaxis\":\"y\",\"hovertemplate\":\"x: %{x}\\u003cbr\\u003ey: %{y}\\u003cbr\\u003ecolor: %{z}\\u003cextra\\u003e\\u003c\\u002fextra\\u003e\"}],                        {\"template\":{\"data\":{\"histogram2dcontour\":[{\"type\":\"histogram2dcontour\",\"colorbar\":{\"outlinewidth\":0,\"ticks\":\"\"},\"colorscale\":[[0.0,\"#0d0887\"],[0.1111111111111111,\"#46039f\"],[0.2222222222222222,\"#7201a8\"],[0.3333333333333333,\"#9c179e\"],[0.4444444444444444,\"#bd3786\"],[0.5555555555555556,\"#d8576b\"],[0.6666666666666666,\"#ed7953\"],[0.7777777777777778,\"#fb9f3a\"],[0.8888888888888888,\"#fdca26\"],[1.0,\"#f0f921\"]]}],\"choropleth\":[{\"type\":\"choropleth\",\"colorbar\":{\"outlinewidth\":0,\"ticks\":\"\"}}],\"histogram2d\":[{\"type\":\"histogram2d\",\"colorbar\":{\"outlinewidth\":0,\"ticks\":\"\"},\"colorscale\":[[0.0,\"#0d0887\"],[0.1111111111111111,\"#46039f\"],[0.2222222222222222,\"#7201a8\"],[0.3333333333333333,\"#9c179e\"],[0.4444444444444444,\"#bd3786\"],[0.5555555555555556,\"#d8576b\"],[0.6666666666666666,\"#ed7953\"],[0.7777777777777778,\"#fb9f3a\"],[0.8888888888888888,\"#fdca26\"],[1.0,\"#f0f921\"]]}],\"heatmap\":[{\"type\":\"heatmap\",\"colorbar\":{\"outlinewidth\":0,\"ticks\":\"\"},\"colorscale\":[[0.0,\"#0d0887\"],[0.1111111111111111,\"#46039f\"],[0.2222222222222222,\"#7201a8\"],[0.3333333333333333,\"#9c179e\"],[0.4444444444444444,\"#bd3786\"],[0.5555555555555556,\"#d8576b\"],[0.6666666666666666,\"#ed7953\"],[0.7777777777777778,\"#fb9f3a\"],[0.8888888888888888,\"#fdca26\"],[1.0,\"#f0f921\"]]}],\"heatmapgl\":[{\"type\":\"heatmapgl\",\"colorbar\":{\"outlinewidth\":0,\"ticks\":\"\"},\"colorscale\":[[0.0,\"#0d0887\"],[0.1111111111111111,\"#46039f\"],[0.2222222222222222,\"#7201a8\"],[0.3333333333333333,\"#9c179e\"],[0.4444444444444444,\"#bd3786\"],[0.5555555555555556,\"#d8576b\"],[0.6666666666666666,\"#ed7953\"],[0.7777777777777778,\"#fb9f3a\"],[0.8888888888888888,\"#fdca26\"],[1.0,\"#f0f921\"]]}],\"contourcarpet\":[{\"type\":\"contourcarpet\",\"colorbar\":{\"outlinewidth\":0,\"ticks\":\"\"}}],\"contour\":[{\"type\":\"contour\",\"colorbar\":{\"outlinewidth\":0,\"ticks\":\"\"},\"colorscale\":[[0.0,\"#0d0887\"],[0.1111111111111111,\"#46039f\"],[0.2222222222222222,\"#7201a8\"],[0.3333333333333333,\"#9c179e\"],[0.4444444444444444,\"#bd3786\"],[0.5555555555555556,\"#d8576b\"],[0.6666666666666666,\"#ed7953\"],[0.7777777777777778,\"#fb9f3a\"],[0.8888888888888888,\"#fdca26\"],[1.0,\"#f0f921\"]]}],\"surface\":[{\"type\":\"surface\",\"colorbar\":{\"outlinewidth\":0,\"ticks\":\"\"},\"colorscale\":[[0.0,\"#0d0887\"],[0.1111111111111111,\"#46039f\"],[0.2222222222222222,\"#7201a8\"],[0.3333333333333333,\"#9c179e\"],[0.4444444444444444,\"#bd3786\"],[0.5555555555555556,\"#d8576b\"],[0.6666666666666666,\"#ed7953\"],[0.7777777777777778,\"#fb9f3a\"],[0.8888888888888888,\"#fdca26\"],[1.0,\"#f0f921\"]]}],\"mesh3d\":[{\"type\":\"mesh3d\",\"colorbar\":{\"outlinewidth\":0,\"ticks\":\"\"}}],\"scatter\":[{\"fillpattern\":{\"fillmode\":\"overlay\",\"size\":10,\"solidity\":0.2},\"type\":\"scatter\"}],\"parcoords\":[{\"type\":\"parcoords\",\"line\":{\"colorbar\":{\"outlinewidth\":0,\"ticks\":\"\"}}}],\"scatterpolargl\":[{\"type\":\"scatterpolargl\",\"marker\":{\"colorbar\":{\"outlinewidth\":0,\"ticks\":\"\"}}}],\"bar\":[{\"error_x\":{\"color\":\"#2a3f5f\"},\"error_y\":{\"color\":\"#2a3f5f\"},\"marker\":{\"line\":{\"color\":\"#E5ECF6\",\"width\":0.5},\"pattern\":{\"fillmode\":\"overlay\",\"size\":10,\"solidity\":0.2}},\"type\":\"bar\"}],\"scattergeo\":[{\"type\":\"scattergeo\",\"marker\":{\"colorbar\":{\"outlinewidth\":0,\"ticks\":\"\"}}}],\"scatterpolar\":[{\"type\":\"scatterpolar\",\"marker\":{\"colorbar\":{\"outlinewidth\":0,\"ticks\":\"\"}}}],\"histogram\":[{\"marker\":{\"pattern\":{\"fillmode\":\"overlay\",\"size\":10,\"solidity\":0.2}},\"type\":\"histogram\"}],\"scattergl\":[{\"type\":\"scattergl\",\"marker\":{\"colorbar\":{\"outlinewidth\":0,\"ticks\":\"\"}}}],\"scatter3d\":[{\"type\":\"scatter3d\",\"line\":{\"colorbar\":{\"outlinewidth\":0,\"ticks\":\"\"}},\"marker\":{\"colorbar\":{\"outlinewidth\":0,\"ticks\":\"\"}}}],\"scattermapbox\":[{\"type\":\"scattermapbox\",\"marker\":{\"colorbar\":{\"outlinewidth\":0,\"ticks\":\"\"}}}],\"scatterternary\":[{\"type\":\"scatterternary\",\"marker\":{\"colorbar\":{\"outlinewidth\":0,\"ticks\":\"\"}}}],\"scattercarpet\":[{\"type\":\"scattercarpet\",\"marker\":{\"colorbar\":{\"outlinewidth\":0,\"ticks\":\"\"}}}],\"carpet\":[{\"aaxis\":{\"endlinecolor\":\"#2a3f5f\",\"gridcolor\":\"white\",\"linecolor\":\"white\",\"minorgridcolor\":\"white\",\"startlinecolor\":\"#2a3f5f\"},\"baxis\":{\"endlinecolor\":\"#2a3f5f\",\"gridcolor\":\"white\",\"linecolor\":\"white\",\"minorgridcolor\":\"white\",\"startlinecolor\":\"#2a3f5f\"},\"type\":\"carpet\"}],\"table\":[{\"cells\":{\"fill\":{\"color\":\"#EBF0F8\"},\"line\":{\"color\":\"white\"}},\"header\":{\"fill\":{\"color\":\"#C8D4E3\"},\"line\":{\"color\":\"white\"}},\"type\":\"table\"}],\"barpolar\":[{\"marker\":{\"line\":{\"color\":\"#E5ECF6\",\"width\":0.5},\"pattern\":{\"fillmode\":\"overlay\",\"size\":10,\"solidity\":0.2}},\"type\":\"barpolar\"}],\"pie\":[{\"automargin\":true,\"type\":\"pie\"}]},\"layout\":{\"autotypenumbers\":\"strict\",\"colorway\":[\"#636efa\",\"#EF553B\",\"#00cc96\",\"#ab63fa\",\"#FFA15A\",\"#19d3f3\",\"#FF6692\",\"#B6E880\",\"#FF97FF\",\"#FECB52\"],\"font\":{\"color\":\"#2a3f5f\"},\"hovermode\":\"closest\",\"hoverlabel\":{\"align\":\"left\"},\"paper_bgcolor\":\"white\",\"plot_bgcolor\":\"#E5ECF6\",\"polar\":{\"bgcolor\":\"#E5ECF6\",\"angularaxis\":{\"gridcolor\":\"white\",\"linecolor\":\"white\",\"ticks\":\"\"},\"radialaxis\":{\"gridcolor\":\"white\",\"linecolor\":\"white\",\"ticks\":\"\"}},\"ternary\":{\"bgcolor\":\"#E5ECF6\",\"aaxis\":{\"gridcolor\":\"white\",\"linecolor\":\"white\",\"ticks\":\"\"},\"baxis\":{\"gridcolor\":\"white\",\"linecolor\":\"white\",\"ticks\":\"\"},\"caxis\":{\"gridcolor\":\"white\",\"linecolor\":\"white\",\"ticks\":\"\"}},\"coloraxis\":{\"colorbar\":{\"outlinewidth\":0,\"ticks\":\"\"}},\"colorscale\":{\"sequential\":[[0.0,\"#0d0887\"],[0.1111111111111111,\"#46039f\"],[0.2222222222222222,\"#7201a8\"],[0.3333333333333333,\"#9c179e\"],[0.4444444444444444,\"#bd3786\"],[0.5555555555555556,\"#d8576b\"],[0.6666666666666666,\"#ed7953\"],[0.7777777777777778,\"#fb9f3a\"],[0.8888888888888888,\"#fdca26\"],[1.0,\"#f0f921\"]],\"sequentialminus\":[[0.0,\"#0d0887\"],[0.1111111111111111,\"#46039f\"],[0.2222222222222222,\"#7201a8\"],[0.3333333333333333,\"#9c179e\"],[0.4444444444444444,\"#bd3786\"],[0.5555555555555556,\"#d8576b\"],[0.6666666666666666,\"#ed7953\"],[0.7777777777777778,\"#fb9f3a\"],[0.8888888888888888,\"#fdca26\"],[1.0,\"#f0f921\"]],\"diverging\":[[0,\"#8e0152\"],[0.1,\"#c51b7d\"],[0.2,\"#de77ae\"],[0.3,\"#f1b6da\"],[0.4,\"#fde0ef\"],[0.5,\"#f7f7f7\"],[0.6,\"#e6f5d0\"],[0.7,\"#b8e186\"],[0.8,\"#7fbc41\"],[0.9,\"#4d9221\"],[1,\"#276419\"]]},\"xaxis\":{\"gridcolor\":\"white\",\"linecolor\":\"white\",\"ticks\":\"\",\"title\":{\"standoff\":15},\"zerolinecolor\":\"white\",\"automargin\":true,\"zerolinewidth\":2},\"yaxis\":{\"gridcolor\":\"white\",\"linecolor\":\"white\",\"ticks\":\"\",\"title\":{\"standoff\":15},\"zerolinecolor\":\"white\",\"automargin\":true,\"zerolinewidth\":2},\"scene\":{\"xaxis\":{\"backgroundcolor\":\"#E5ECF6\",\"gridcolor\":\"white\",\"linecolor\":\"white\",\"showbackground\":true,\"ticks\":\"\",\"zerolinecolor\":\"white\",\"gridwidth\":2},\"yaxis\":{\"backgroundcolor\":\"#E5ECF6\",\"gridcolor\":\"white\",\"linecolor\":\"white\",\"showbackground\":true,\"ticks\":\"\",\"zerolinecolor\":\"white\",\"gridwidth\":2},\"zaxis\":{\"backgroundcolor\":\"#E5ECF6\",\"gridcolor\":\"white\",\"linecolor\":\"white\",\"showbackground\":true,\"ticks\":\"\",\"zerolinecolor\":\"white\",\"gridwidth\":2}},\"shapedefaults\":{\"line\":{\"color\":\"#2a3f5f\"}},\"annotationdefaults\":{\"arrowcolor\":\"#2a3f5f\",\"arrowhead\":0,\"arrowwidth\":1},\"geo\":{\"bgcolor\":\"white\",\"landcolor\":\"#E5ECF6\",\"subunitcolor\":\"white\",\"showland\":true,\"showlakes\":true,\"lakecolor\":\"white\"},\"title\":{\"x\":0.05},\"mapbox\":{\"style\":\"light\"}}},\"xaxis\":{\"anchor\":\"y\",\"domain\":[0.0,1.0],\"scaleanchor\":\"y\",\"constrain\":\"domain\"},\"yaxis\":{\"anchor\":\"x\",\"domain\":[0.0,1.0],\"autorange\":\"reversed\",\"constrain\":\"domain\"},\"coloraxis\":{\"colorscale\":[[0.0,\"#0d0887\"],[0.1111111111111111,\"#46039f\"],[0.2222222222222222,\"#7201a8\"],[0.3333333333333333,\"#9c179e\"],[0.4444444444444444,\"#bd3786\"],[0.5555555555555556,\"#d8576b\"],[0.6666666666666666,\"#ed7953\"],[0.7777777777777778,\"#fb9f3a\"],[0.8888888888888888,\"#fdca26\"],[1.0,\"#f0f921\"]]},\"margin\":{\"t\":60}},                        {\"responsive\": true}                    ).then(function(){\n",
       "                            \n",
       "var gd = document.getElementById('d7b29250-9a0d-4d1e-841b-7f2031c72c49');\n",
       "var x = new MutationObserver(function (mutations, observer) {{\n",
       "        var display = window.getComputedStyle(gd).display;\n",
       "        if (!display || display === 'none') {{\n",
       "            console.log([gd, 'removed!']);\n",
       "            Plotly.purge(gd);\n",
       "            observer.disconnect();\n",
       "        }}\n",
       "}});\n",
       "\n",
       "// Listen for the removal of the full notebook cells\n",
       "var notebookContainer = gd.closest('#notebook-container');\n",
       "if (notebookContainer) {{\n",
       "    x.observe(notebookContainer, {childList: true});\n",
       "}}\n",
       "\n",
       "// Listen for the clearing of the current output cell\n",
       "var outputEl = gd.closest('.output');\n",
       "if (outputEl) {{\n",
       "    x.observe(outputEl, {childList: true});\n",
       "}}\n",
       "\n",
       "                        })                };                });            </script>        </div>"
      ]
     },
     "metadata": {},
     "output_type": "display_data"
    }
   ],
   "source": [
    "import plotly.express as px\n",
    "import pandas as pd\n",
    "import numpy as np\n",
    "\n",
    "for task_name, losses in task_losses.items():\n",
    "    base_loss = losses[1]\n",
    "    losses = losses[0]\n",
    "\n",
    "    task_losses[task_name][0] = [(base_loss - loss) for loss in losses]\n",
    "\n",
    "\n",
    "df = pd.DataFrame([\n",
    "    {\"task\": task_name, \"feature\": feature, \"loss\": loss}\n",
    "    for task_name, losses in task_losses.items()\n",
    "    for feature, loss in zip(features, losses[0])\n",
    "])\n",
    "\n",
    "\n",
    "\n",
    "heatmap = np.zeros((len(task_names), len(features)))\n",
    "\n",
    "for i, task_name in enumerate(task_names):\n",
    "    for j, feature in enumerate(features):\n",
    "        heatmap[i, j] = task_losses[task_name][0][j]\n",
    "\n",
    "fig = px.imshow(heatmap, x=[str(x) for x in features], y=task_names)\n",
    "\n",
    "fig.show()\n"
   ]
  },
  {
   "cell_type": "code",
   "execution_count": 64,
   "metadata": {},
   "outputs": [
    {
     "data": {
      "application/vnd.plotly.v1+json": {
       "config": {
        "plotlyServerURL": "https://plot.ly"
       },
       "data": [
        {
         "coloraxis": "coloraxis",
         "hovertemplate": "x: %{x}<br>y: %{y}<br>color: %{z}<extra></extra>",
         "name": "0",
         "type": "heatmap",
         "x": [
          "9790",
          "12605",
          "13458",
          "11491",
          "18803",
          "2931",
          "11618",
          "26987",
          "5679",
          "15554",
          "26594"
         ],
         "xaxis": "x",
         "y": [
          "en_es",
          "antonyms",
          "person_profession",
          "es_en",
          "present_simple_gerund",
          "present_simple_past_simple",
          "person_profession",
          "person_language",
          "country_capital",
          "football_player_position"
         ],
         "yaxis": "y",
         "z": [
          [
           -4.53125,
           0.375,
           -2.40625,
           -2.1875,
           -4.96875,
           -0.25,
           -4.71875,
           -14.78125,
           -1.0625,
           -0.5625,
           -4.21875
          ],
          [
           -3.73046875,
           -0.23828125,
           -1.41796875,
           -4.69921875,
           -5.35546875,
           -2.90234375,
           -9.88671875,
           -6.10546875,
           -1.90234375,
           -1.40234375,
           -4.35546875
          ],
          [
           -10.78125,
           -0.484375,
           -9.90625,
           -1.0625,
           -2.21875,
           -0.828125,
           -2.15625,
           -4.53125,
           -0.9375,
           -2.1875,
           -5.90625
          ],
          [
           -3.375,
           -0.296875,
           -3.8125,
           -5.375,
           -4.40625,
           -1.96875,
           -3.40625,
           -6.90625,
           -0.8125,
           -1.6875,
           -6.71875
          ],
          [
           -4.1005859375,
           -0.6279296875,
           -0.9521484375,
           -2.5380859375,
           -2.3193359375,
           -3.0537109375,
           -2.5224609375,
           -7.1318359375,
           -0.3505859375,
           -4.9443359375,
           -3.9130859375
          ],
          [
           -2.28125,
           0.1171875,
           -0.328125,
           -1.546875,
           -1.9375,
           -5.65625,
           -1.25,
           -5.40625,
           0.0703125,
           -6.375,
           -3.0625
          ],
          [
           -10.78125,
           -0.484375,
           -9.90625,
           -1.0625,
           -2.21875,
           -0.828125,
           -2.15625,
           -4.53125,
           -0.9375,
           -2.1875,
           -5.90625
          ],
          [
           -1.3125,
           -0.3671875,
           -0.515625,
           -4.984375,
           -2.140625,
           -2.15625,
           -3.109375,
           -3.703125,
           -0.1484375,
           -0.5625,
           -4.234375
          ],
          [
           -2.1171875,
           -0.3203125,
           -4.5859375,
           -6.2109375,
           -12.0546875,
           -0.9453125,
           -2.9921875,
           -5.2734375,
           -0.9765625,
           -0.5390625,
           -4.9921875
          ],
          [
           -17.8125,
           -1.53125,
           -6.5,
           -2.65625,
           -5.5625,
           -2.125,
           -3.09375,
           -6.5625,
           -1.6875,
           -5,
           -6.875
          ]
         ]
        }
       ],
       "layout": {
        "coloraxis": {
         "colorscale": [
          [
           0,
           "#0d0887"
          ],
          [
           0.1111111111111111,
           "#46039f"
          ],
          [
           0.2222222222222222,
           "#7201a8"
          ],
          [
           0.3333333333333333,
           "#9c179e"
          ],
          [
           0.4444444444444444,
           "#bd3786"
          ],
          [
           0.5555555555555556,
           "#d8576b"
          ],
          [
           0.6666666666666666,
           "#ed7953"
          ],
          [
           0.7777777777777778,
           "#fb9f3a"
          ],
          [
           0.8888888888888888,
           "#fdca26"
          ],
          [
           1,
           "#f0f921"
          ]
         ]
        },
        "margin": {
         "t": 60
        },
        "template": {
         "data": {
          "bar": [
           {
            "error_x": {
             "color": "#2a3f5f"
            },
            "error_y": {
             "color": "#2a3f5f"
            },
            "marker": {
             "line": {
              "color": "#E5ECF6",
              "width": 0.5
             },
             "pattern": {
              "fillmode": "overlay",
              "size": 10,
              "solidity": 0.2
             }
            },
            "type": "bar"
           }
          ],
          "barpolar": [
           {
            "marker": {
             "line": {
              "color": "#E5ECF6",
              "width": 0.5
             },
             "pattern": {
              "fillmode": "overlay",
              "size": 10,
              "solidity": 0.2
             }
            },
            "type": "barpolar"
           }
          ],
          "carpet": [
           {
            "aaxis": {
             "endlinecolor": "#2a3f5f",
             "gridcolor": "white",
             "linecolor": "white",
             "minorgridcolor": "white",
             "startlinecolor": "#2a3f5f"
            },
            "baxis": {
             "endlinecolor": "#2a3f5f",
             "gridcolor": "white",
             "linecolor": "white",
             "minorgridcolor": "white",
             "startlinecolor": "#2a3f5f"
            },
            "type": "carpet"
           }
          ],
          "choropleth": [
           {
            "colorbar": {
             "outlinewidth": 0,
             "ticks": ""
            },
            "type": "choropleth"
           }
          ],
          "contour": [
           {
            "colorbar": {
             "outlinewidth": 0,
             "ticks": ""
            },
            "colorscale": [
             [
              0,
              "#0d0887"
             ],
             [
              0.1111111111111111,
              "#46039f"
             ],
             [
              0.2222222222222222,
              "#7201a8"
             ],
             [
              0.3333333333333333,
              "#9c179e"
             ],
             [
              0.4444444444444444,
              "#bd3786"
             ],
             [
              0.5555555555555556,
              "#d8576b"
             ],
             [
              0.6666666666666666,
              "#ed7953"
             ],
             [
              0.7777777777777778,
              "#fb9f3a"
             ],
             [
              0.8888888888888888,
              "#fdca26"
             ],
             [
              1,
              "#f0f921"
             ]
            ],
            "type": "contour"
           }
          ],
          "contourcarpet": [
           {
            "colorbar": {
             "outlinewidth": 0,
             "ticks": ""
            },
            "type": "contourcarpet"
           }
          ],
          "heatmap": [
           {
            "colorbar": {
             "outlinewidth": 0,
             "ticks": ""
            },
            "colorscale": [
             [
              0,
              "#0d0887"
             ],
             [
              0.1111111111111111,
              "#46039f"
             ],
             [
              0.2222222222222222,
              "#7201a8"
             ],
             [
              0.3333333333333333,
              "#9c179e"
             ],
             [
              0.4444444444444444,
              "#bd3786"
             ],
             [
              0.5555555555555556,
              "#d8576b"
             ],
             [
              0.6666666666666666,
              "#ed7953"
             ],
             [
              0.7777777777777778,
              "#fb9f3a"
             ],
             [
              0.8888888888888888,
              "#fdca26"
             ],
             [
              1,
              "#f0f921"
             ]
            ],
            "type": "heatmap"
           }
          ],
          "heatmapgl": [
           {
            "colorbar": {
             "outlinewidth": 0,
             "ticks": ""
            },
            "colorscale": [
             [
              0,
              "#0d0887"
             ],
             [
              0.1111111111111111,
              "#46039f"
             ],
             [
              0.2222222222222222,
              "#7201a8"
             ],
             [
              0.3333333333333333,
              "#9c179e"
             ],
             [
              0.4444444444444444,
              "#bd3786"
             ],
             [
              0.5555555555555556,
              "#d8576b"
             ],
             [
              0.6666666666666666,
              "#ed7953"
             ],
             [
              0.7777777777777778,
              "#fb9f3a"
             ],
             [
              0.8888888888888888,
              "#fdca26"
             ],
             [
              1,
              "#f0f921"
             ]
            ],
            "type": "heatmapgl"
           }
          ],
          "histogram": [
           {
            "marker": {
             "pattern": {
              "fillmode": "overlay",
              "size": 10,
              "solidity": 0.2
             }
            },
            "type": "histogram"
           }
          ],
          "histogram2d": [
           {
            "colorbar": {
             "outlinewidth": 0,
             "ticks": ""
            },
            "colorscale": [
             [
              0,
              "#0d0887"
             ],
             [
              0.1111111111111111,
              "#46039f"
             ],
             [
              0.2222222222222222,
              "#7201a8"
             ],
             [
              0.3333333333333333,
              "#9c179e"
             ],
             [
              0.4444444444444444,
              "#bd3786"
             ],
             [
              0.5555555555555556,
              "#d8576b"
             ],
             [
              0.6666666666666666,
              "#ed7953"
             ],
             [
              0.7777777777777778,
              "#fb9f3a"
             ],
             [
              0.8888888888888888,
              "#fdca26"
             ],
             [
              1,
              "#f0f921"
             ]
            ],
            "type": "histogram2d"
           }
          ],
          "histogram2dcontour": [
           {
            "colorbar": {
             "outlinewidth": 0,
             "ticks": ""
            },
            "colorscale": [
             [
              0,
              "#0d0887"
             ],
             [
              0.1111111111111111,
              "#46039f"
             ],
             [
              0.2222222222222222,
              "#7201a8"
             ],
             [
              0.3333333333333333,
              "#9c179e"
             ],
             [
              0.4444444444444444,
              "#bd3786"
             ],
             [
              0.5555555555555556,
              "#d8576b"
             ],
             [
              0.6666666666666666,
              "#ed7953"
             ],
             [
              0.7777777777777778,
              "#fb9f3a"
             ],
             [
              0.8888888888888888,
              "#fdca26"
             ],
             [
              1,
              "#f0f921"
             ]
            ],
            "type": "histogram2dcontour"
           }
          ],
          "mesh3d": [
           {
            "colorbar": {
             "outlinewidth": 0,
             "ticks": ""
            },
            "type": "mesh3d"
           }
          ],
          "parcoords": [
           {
            "line": {
             "colorbar": {
              "outlinewidth": 0,
              "ticks": ""
             }
            },
            "type": "parcoords"
           }
          ],
          "pie": [
           {
            "automargin": true,
            "type": "pie"
           }
          ],
          "scatter": [
           {
            "fillpattern": {
             "fillmode": "overlay",
             "size": 10,
             "solidity": 0.2
            },
            "type": "scatter"
           }
          ],
          "scatter3d": [
           {
            "line": {
             "colorbar": {
              "outlinewidth": 0,
              "ticks": ""
             }
            },
            "marker": {
             "colorbar": {
              "outlinewidth": 0,
              "ticks": ""
             }
            },
            "type": "scatter3d"
           }
          ],
          "scattercarpet": [
           {
            "marker": {
             "colorbar": {
              "outlinewidth": 0,
              "ticks": ""
             }
            },
            "type": "scattercarpet"
           }
          ],
          "scattergeo": [
           {
            "marker": {
             "colorbar": {
              "outlinewidth": 0,
              "ticks": ""
             }
            },
            "type": "scattergeo"
           }
          ],
          "scattergl": [
           {
            "marker": {
             "colorbar": {
              "outlinewidth": 0,
              "ticks": ""
             }
            },
            "type": "scattergl"
           }
          ],
          "scattermapbox": [
           {
            "marker": {
             "colorbar": {
              "outlinewidth": 0,
              "ticks": ""
             }
            },
            "type": "scattermapbox"
           }
          ],
          "scatterpolar": [
           {
            "marker": {
             "colorbar": {
              "outlinewidth": 0,
              "ticks": ""
             }
            },
            "type": "scatterpolar"
           }
          ],
          "scatterpolargl": [
           {
            "marker": {
             "colorbar": {
              "outlinewidth": 0,
              "ticks": ""
             }
            },
            "type": "scatterpolargl"
           }
          ],
          "scatterternary": [
           {
            "marker": {
             "colorbar": {
              "outlinewidth": 0,
              "ticks": ""
             }
            },
            "type": "scatterternary"
           }
          ],
          "surface": [
           {
            "colorbar": {
             "outlinewidth": 0,
             "ticks": ""
            },
            "colorscale": [
             [
              0,
              "#0d0887"
             ],
             [
              0.1111111111111111,
              "#46039f"
             ],
             [
              0.2222222222222222,
              "#7201a8"
             ],
             [
              0.3333333333333333,
              "#9c179e"
             ],
             [
              0.4444444444444444,
              "#bd3786"
             ],
             [
              0.5555555555555556,
              "#d8576b"
             ],
             [
              0.6666666666666666,
              "#ed7953"
             ],
             [
              0.7777777777777778,
              "#fb9f3a"
             ],
             [
              0.8888888888888888,
              "#fdca26"
             ],
             [
              1,
              "#f0f921"
             ]
            ],
            "type": "surface"
           }
          ],
          "table": [
           {
            "cells": {
             "fill": {
              "color": "#EBF0F8"
             },
             "line": {
              "color": "white"
             }
            },
            "header": {
             "fill": {
              "color": "#C8D4E3"
             },
             "line": {
              "color": "white"
             }
            },
            "type": "table"
           }
          ]
         },
         "layout": {
          "annotationdefaults": {
           "arrowcolor": "#2a3f5f",
           "arrowhead": 0,
           "arrowwidth": 1
          },
          "autotypenumbers": "strict",
          "coloraxis": {
           "colorbar": {
            "outlinewidth": 0,
            "ticks": ""
           }
          },
          "colorscale": {
           "diverging": [
            [
             0,
             "#8e0152"
            ],
            [
             0.1,
             "#c51b7d"
            ],
            [
             0.2,
             "#de77ae"
            ],
            [
             0.3,
             "#f1b6da"
            ],
            [
             0.4,
             "#fde0ef"
            ],
            [
             0.5,
             "#f7f7f7"
            ],
            [
             0.6,
             "#e6f5d0"
            ],
            [
             0.7,
             "#b8e186"
            ],
            [
             0.8,
             "#7fbc41"
            ],
            [
             0.9,
             "#4d9221"
            ],
            [
             1,
             "#276419"
            ]
           ],
           "sequential": [
            [
             0,
             "#0d0887"
            ],
            [
             0.1111111111111111,
             "#46039f"
            ],
            [
             0.2222222222222222,
             "#7201a8"
            ],
            [
             0.3333333333333333,
             "#9c179e"
            ],
            [
             0.4444444444444444,
             "#bd3786"
            ],
            [
             0.5555555555555556,
             "#d8576b"
            ],
            [
             0.6666666666666666,
             "#ed7953"
            ],
            [
             0.7777777777777778,
             "#fb9f3a"
            ],
            [
             0.8888888888888888,
             "#fdca26"
            ],
            [
             1,
             "#f0f921"
            ]
           ],
           "sequentialminus": [
            [
             0,
             "#0d0887"
            ],
            [
             0.1111111111111111,
             "#46039f"
            ],
            [
             0.2222222222222222,
             "#7201a8"
            ],
            [
             0.3333333333333333,
             "#9c179e"
            ],
            [
             0.4444444444444444,
             "#bd3786"
            ],
            [
             0.5555555555555556,
             "#d8576b"
            ],
            [
             0.6666666666666666,
             "#ed7953"
            ],
            [
             0.7777777777777778,
             "#fb9f3a"
            ],
            [
             0.8888888888888888,
             "#fdca26"
            ],
            [
             1,
             "#f0f921"
            ]
           ]
          },
          "colorway": [
           "#636efa",
           "#EF553B",
           "#00cc96",
           "#ab63fa",
           "#FFA15A",
           "#19d3f3",
           "#FF6692",
           "#B6E880",
           "#FF97FF",
           "#FECB52"
          ],
          "font": {
           "color": "#2a3f5f"
          },
          "geo": {
           "bgcolor": "white",
           "lakecolor": "white",
           "landcolor": "#E5ECF6",
           "showlakes": true,
           "showland": true,
           "subunitcolor": "white"
          },
          "hoverlabel": {
           "align": "left"
          },
          "hovermode": "closest",
          "mapbox": {
           "style": "light"
          },
          "paper_bgcolor": "white",
          "plot_bgcolor": "#E5ECF6",
          "polar": {
           "angularaxis": {
            "gridcolor": "white",
            "linecolor": "white",
            "ticks": ""
           },
           "bgcolor": "#E5ECF6",
           "radialaxis": {
            "gridcolor": "white",
            "linecolor": "white",
            "ticks": ""
           }
          },
          "scene": {
           "xaxis": {
            "backgroundcolor": "#E5ECF6",
            "gridcolor": "white",
            "gridwidth": 2,
            "linecolor": "white",
            "showbackground": true,
            "ticks": "",
            "zerolinecolor": "white"
           },
           "yaxis": {
            "backgroundcolor": "#E5ECF6",
            "gridcolor": "white",
            "gridwidth": 2,
            "linecolor": "white",
            "showbackground": true,
            "ticks": "",
            "zerolinecolor": "white"
           },
           "zaxis": {
            "backgroundcolor": "#E5ECF6",
            "gridcolor": "white",
            "gridwidth": 2,
            "linecolor": "white",
            "showbackground": true,
            "ticks": "",
            "zerolinecolor": "white"
           }
          },
          "shapedefaults": {
           "line": {
            "color": "#2a3f5f"
           }
          },
          "ternary": {
           "aaxis": {
            "gridcolor": "white",
            "linecolor": "white",
            "ticks": ""
           },
           "baxis": {
            "gridcolor": "white",
            "linecolor": "white",
            "ticks": ""
           },
           "bgcolor": "#E5ECF6",
           "caxis": {
            "gridcolor": "white",
            "linecolor": "white",
            "ticks": ""
           }
          },
          "title": {
           "x": 0.05
          },
          "xaxis": {
           "automargin": true,
           "gridcolor": "white",
           "linecolor": "white",
           "ticks": "",
           "title": {
            "standoff": 15
           },
           "zerolinecolor": "white",
           "zerolinewidth": 2
          },
          "yaxis": {
           "automargin": true,
           "gridcolor": "white",
           "linecolor": "white",
           "ticks": "",
           "title": {
            "standoff": 15
           },
           "zerolinecolor": "white",
           "zerolinewidth": 2
          }
         }
        },
        "xaxis": {
         "anchor": "y",
         "constrain": "domain",
         "domain": [
          0,
          1
         ],
         "scaleanchor": "y"
        },
        "yaxis": {
         "anchor": "x",
         "autorange": "reversed",
         "constrain": "domain",
         "domain": [
          0,
          1
         ]
        }
       }
      },
      "text/html": [
       "<div>                            <div id=\"b38a7eb7-034b-41ad-adbf-85f63a7546dc\" class=\"plotly-graph-div\" style=\"height:525px; width:100%;\"></div>            <script type=\"text/javascript\">                require([\"plotly\"], function(Plotly) {                    window.PLOTLYENV=window.PLOTLYENV || {};                                    if (document.getElementById(\"b38a7eb7-034b-41ad-adbf-85f63a7546dc\")) {                    Plotly.newPlot(                        \"b38a7eb7-034b-41ad-adbf-85f63a7546dc\",                        [{\"coloraxis\":\"coloraxis\",\"name\":\"0\",\"x\":[\"9790\",\"12605\",\"13458\",\"11491\",\"18803\",\"2931\",\"11618\",\"26987\",\"5679\",\"15554\",\"26594\"],\"y\":[\"en_es\",\"antonyms\",\"person_profession\",\"es_en\",\"present_simple_gerund\",\"present_simple_past_simple\",\"person_profession\",\"person_language\",\"country_capital\",\"football_player_position\"],\"z\":[[-4.53125,0.375,-2.40625,-2.1875,-4.96875,-0.25,-4.71875,-14.78125,-1.0625,-0.5625,-4.21875],[-3.73046875,-0.23828125,-1.41796875,-4.69921875,-5.35546875,-2.90234375,-9.88671875,-6.10546875,-1.90234375,-1.40234375,-4.35546875],[-10.78125,-0.484375,-9.90625,-1.0625,-2.21875,-0.828125,-2.15625,-4.53125,-0.9375,-2.1875,-5.90625],[-3.375,-0.296875,-3.8125,-5.375,-4.40625,-1.96875,-3.40625,-6.90625,-0.8125,-1.6875,-6.71875],[-4.1005859375,-0.6279296875,-0.9521484375,-2.5380859375,-2.3193359375,-3.0537109375,-2.5224609375,-7.1318359375,-0.3505859375,-4.9443359375,-3.9130859375],[-2.28125,0.1171875,-0.328125,-1.546875,-1.9375,-5.65625,-1.25,-5.40625,0.0703125,-6.375,-3.0625],[-10.78125,-0.484375,-9.90625,-1.0625,-2.21875,-0.828125,-2.15625,-4.53125,-0.9375,-2.1875,-5.90625],[-1.3125,-0.3671875,-0.515625,-4.984375,-2.140625,-2.15625,-3.109375,-3.703125,-0.1484375,-0.5625,-4.234375],[-2.1171875,-0.3203125,-4.5859375,-6.2109375,-12.0546875,-0.9453125,-2.9921875,-5.2734375,-0.9765625,-0.5390625,-4.9921875],[-17.8125,-1.53125,-6.5,-2.65625,-5.5625,-2.125,-3.09375,-6.5625,-1.6875,-5.0,-6.875]],\"type\":\"heatmap\",\"xaxis\":\"x\",\"yaxis\":\"y\",\"hovertemplate\":\"x: %{x}\\u003cbr\\u003ey: %{y}\\u003cbr\\u003ecolor: %{z}\\u003cextra\\u003e\\u003c\\u002fextra\\u003e\"}],                        {\"template\":{\"data\":{\"histogram2dcontour\":[{\"type\":\"histogram2dcontour\",\"colorbar\":{\"outlinewidth\":0,\"ticks\":\"\"},\"colorscale\":[[0.0,\"#0d0887\"],[0.1111111111111111,\"#46039f\"],[0.2222222222222222,\"#7201a8\"],[0.3333333333333333,\"#9c179e\"],[0.4444444444444444,\"#bd3786\"],[0.5555555555555556,\"#d8576b\"],[0.6666666666666666,\"#ed7953\"],[0.7777777777777778,\"#fb9f3a\"],[0.8888888888888888,\"#fdca26\"],[1.0,\"#f0f921\"]]}],\"choropleth\":[{\"type\":\"choropleth\",\"colorbar\":{\"outlinewidth\":0,\"ticks\":\"\"}}],\"histogram2d\":[{\"type\":\"histogram2d\",\"colorbar\":{\"outlinewidth\":0,\"ticks\":\"\"},\"colorscale\":[[0.0,\"#0d0887\"],[0.1111111111111111,\"#46039f\"],[0.2222222222222222,\"#7201a8\"],[0.3333333333333333,\"#9c179e\"],[0.4444444444444444,\"#bd3786\"],[0.5555555555555556,\"#d8576b\"],[0.6666666666666666,\"#ed7953\"],[0.7777777777777778,\"#fb9f3a\"],[0.8888888888888888,\"#fdca26\"],[1.0,\"#f0f921\"]]}],\"heatmap\":[{\"type\":\"heatmap\",\"colorbar\":{\"outlinewidth\":0,\"ticks\":\"\"},\"colorscale\":[[0.0,\"#0d0887\"],[0.1111111111111111,\"#46039f\"],[0.2222222222222222,\"#7201a8\"],[0.3333333333333333,\"#9c179e\"],[0.4444444444444444,\"#bd3786\"],[0.5555555555555556,\"#d8576b\"],[0.6666666666666666,\"#ed7953\"],[0.7777777777777778,\"#fb9f3a\"],[0.8888888888888888,\"#fdca26\"],[1.0,\"#f0f921\"]]}],\"heatmapgl\":[{\"type\":\"heatmapgl\",\"colorbar\":{\"outlinewidth\":0,\"ticks\":\"\"},\"colorscale\":[[0.0,\"#0d0887\"],[0.1111111111111111,\"#46039f\"],[0.2222222222222222,\"#7201a8\"],[0.3333333333333333,\"#9c179e\"],[0.4444444444444444,\"#bd3786\"],[0.5555555555555556,\"#d8576b\"],[0.6666666666666666,\"#ed7953\"],[0.7777777777777778,\"#fb9f3a\"],[0.8888888888888888,\"#fdca26\"],[1.0,\"#f0f921\"]]}],\"contourcarpet\":[{\"type\":\"contourcarpet\",\"colorbar\":{\"outlinewidth\":0,\"ticks\":\"\"}}],\"contour\":[{\"type\":\"contour\",\"colorbar\":{\"outlinewidth\":0,\"ticks\":\"\"},\"colorscale\":[[0.0,\"#0d0887\"],[0.1111111111111111,\"#46039f\"],[0.2222222222222222,\"#7201a8\"],[0.3333333333333333,\"#9c179e\"],[0.4444444444444444,\"#bd3786\"],[0.5555555555555556,\"#d8576b\"],[0.6666666666666666,\"#ed7953\"],[0.7777777777777778,\"#fb9f3a\"],[0.8888888888888888,\"#fdca26\"],[1.0,\"#f0f921\"]]}],\"surface\":[{\"type\":\"surface\",\"colorbar\":{\"outlinewidth\":0,\"ticks\":\"\"},\"colorscale\":[[0.0,\"#0d0887\"],[0.1111111111111111,\"#46039f\"],[0.2222222222222222,\"#7201a8\"],[0.3333333333333333,\"#9c179e\"],[0.4444444444444444,\"#bd3786\"],[0.5555555555555556,\"#d8576b\"],[0.6666666666666666,\"#ed7953\"],[0.7777777777777778,\"#fb9f3a\"],[0.8888888888888888,\"#fdca26\"],[1.0,\"#f0f921\"]]}],\"mesh3d\":[{\"type\":\"mesh3d\",\"colorbar\":{\"outlinewidth\":0,\"ticks\":\"\"}}],\"scatter\":[{\"fillpattern\":{\"fillmode\":\"overlay\",\"size\":10,\"solidity\":0.2},\"type\":\"scatter\"}],\"parcoords\":[{\"type\":\"parcoords\",\"line\":{\"colorbar\":{\"outlinewidth\":0,\"ticks\":\"\"}}}],\"scatterpolargl\":[{\"type\":\"scatterpolargl\",\"marker\":{\"colorbar\":{\"outlinewidth\":0,\"ticks\":\"\"}}}],\"bar\":[{\"error_x\":{\"color\":\"#2a3f5f\"},\"error_y\":{\"color\":\"#2a3f5f\"},\"marker\":{\"line\":{\"color\":\"#E5ECF6\",\"width\":0.5},\"pattern\":{\"fillmode\":\"overlay\",\"size\":10,\"solidity\":0.2}},\"type\":\"bar\"}],\"scattergeo\":[{\"type\":\"scattergeo\",\"marker\":{\"colorbar\":{\"outlinewidth\":0,\"ticks\":\"\"}}}],\"scatterpolar\":[{\"type\":\"scatterpolar\",\"marker\":{\"colorbar\":{\"outlinewidth\":0,\"ticks\":\"\"}}}],\"histogram\":[{\"marker\":{\"pattern\":{\"fillmode\":\"overlay\",\"size\":10,\"solidity\":0.2}},\"type\":\"histogram\"}],\"scattergl\":[{\"type\":\"scattergl\",\"marker\":{\"colorbar\":{\"outlinewidth\":0,\"ticks\":\"\"}}}],\"scatter3d\":[{\"type\":\"scatter3d\",\"line\":{\"colorbar\":{\"outlinewidth\":0,\"ticks\":\"\"}},\"marker\":{\"colorbar\":{\"outlinewidth\":0,\"ticks\":\"\"}}}],\"scattermapbox\":[{\"type\":\"scattermapbox\",\"marker\":{\"colorbar\":{\"outlinewidth\":0,\"ticks\":\"\"}}}],\"scatterternary\":[{\"type\":\"scatterternary\",\"marker\":{\"colorbar\":{\"outlinewidth\":0,\"ticks\":\"\"}}}],\"scattercarpet\":[{\"type\":\"scattercarpet\",\"marker\":{\"colorbar\":{\"outlinewidth\":0,\"ticks\":\"\"}}}],\"carpet\":[{\"aaxis\":{\"endlinecolor\":\"#2a3f5f\",\"gridcolor\":\"white\",\"linecolor\":\"white\",\"minorgridcolor\":\"white\",\"startlinecolor\":\"#2a3f5f\"},\"baxis\":{\"endlinecolor\":\"#2a3f5f\",\"gridcolor\":\"white\",\"linecolor\":\"white\",\"minorgridcolor\":\"white\",\"startlinecolor\":\"#2a3f5f\"},\"type\":\"carpet\"}],\"table\":[{\"cells\":{\"fill\":{\"color\":\"#EBF0F8\"},\"line\":{\"color\":\"white\"}},\"header\":{\"fill\":{\"color\":\"#C8D4E3\"},\"line\":{\"color\":\"white\"}},\"type\":\"table\"}],\"barpolar\":[{\"marker\":{\"line\":{\"color\":\"#E5ECF6\",\"width\":0.5},\"pattern\":{\"fillmode\":\"overlay\",\"size\":10,\"solidity\":0.2}},\"type\":\"barpolar\"}],\"pie\":[{\"automargin\":true,\"type\":\"pie\"}]},\"layout\":{\"autotypenumbers\":\"strict\",\"colorway\":[\"#636efa\",\"#EF553B\",\"#00cc96\",\"#ab63fa\",\"#FFA15A\",\"#19d3f3\",\"#FF6692\",\"#B6E880\",\"#FF97FF\",\"#FECB52\"],\"font\":{\"color\":\"#2a3f5f\"},\"hovermode\":\"closest\",\"hoverlabel\":{\"align\":\"left\"},\"paper_bgcolor\":\"white\",\"plot_bgcolor\":\"#E5ECF6\",\"polar\":{\"bgcolor\":\"#E5ECF6\",\"angularaxis\":{\"gridcolor\":\"white\",\"linecolor\":\"white\",\"ticks\":\"\"},\"radialaxis\":{\"gridcolor\":\"white\",\"linecolor\":\"white\",\"ticks\":\"\"}},\"ternary\":{\"bgcolor\":\"#E5ECF6\",\"aaxis\":{\"gridcolor\":\"white\",\"linecolor\":\"white\",\"ticks\":\"\"},\"baxis\":{\"gridcolor\":\"white\",\"linecolor\":\"white\",\"ticks\":\"\"},\"caxis\":{\"gridcolor\":\"white\",\"linecolor\":\"white\",\"ticks\":\"\"}},\"coloraxis\":{\"colorbar\":{\"outlinewidth\":0,\"ticks\":\"\"}},\"colorscale\":{\"sequential\":[[0.0,\"#0d0887\"],[0.1111111111111111,\"#46039f\"],[0.2222222222222222,\"#7201a8\"],[0.3333333333333333,\"#9c179e\"],[0.4444444444444444,\"#bd3786\"],[0.5555555555555556,\"#d8576b\"],[0.6666666666666666,\"#ed7953\"],[0.7777777777777778,\"#fb9f3a\"],[0.8888888888888888,\"#fdca26\"],[1.0,\"#f0f921\"]],\"sequentialminus\":[[0.0,\"#0d0887\"],[0.1111111111111111,\"#46039f\"],[0.2222222222222222,\"#7201a8\"],[0.3333333333333333,\"#9c179e\"],[0.4444444444444444,\"#bd3786\"],[0.5555555555555556,\"#d8576b\"],[0.6666666666666666,\"#ed7953\"],[0.7777777777777778,\"#fb9f3a\"],[0.8888888888888888,\"#fdca26\"],[1.0,\"#f0f921\"]],\"diverging\":[[0,\"#8e0152\"],[0.1,\"#c51b7d\"],[0.2,\"#de77ae\"],[0.3,\"#f1b6da\"],[0.4,\"#fde0ef\"],[0.5,\"#f7f7f7\"],[0.6,\"#e6f5d0\"],[0.7,\"#b8e186\"],[0.8,\"#7fbc41\"],[0.9,\"#4d9221\"],[1,\"#276419\"]]},\"xaxis\":{\"gridcolor\":\"white\",\"linecolor\":\"white\",\"ticks\":\"\",\"title\":{\"standoff\":15},\"zerolinecolor\":\"white\",\"automargin\":true,\"zerolinewidth\":2},\"yaxis\":{\"gridcolor\":\"white\",\"linecolor\":\"white\",\"ticks\":\"\",\"title\":{\"standoff\":15},\"zerolinecolor\":\"white\",\"automargin\":true,\"zerolinewidth\":2},\"scene\":{\"xaxis\":{\"backgroundcolor\":\"#E5ECF6\",\"gridcolor\":\"white\",\"linecolor\":\"white\",\"showbackground\":true,\"ticks\":\"\",\"zerolinecolor\":\"white\",\"gridwidth\":2},\"yaxis\":{\"backgroundcolor\":\"#E5ECF6\",\"gridcolor\":\"white\",\"linecolor\":\"white\",\"showbackground\":true,\"ticks\":\"\",\"zerolinecolor\":\"white\",\"gridwidth\":2},\"zaxis\":{\"backgroundcolor\":\"#E5ECF6\",\"gridcolor\":\"white\",\"linecolor\":\"white\",\"showbackground\":true,\"ticks\":\"\",\"zerolinecolor\":\"white\",\"gridwidth\":2}},\"shapedefaults\":{\"line\":{\"color\":\"#2a3f5f\"}},\"annotationdefaults\":{\"arrowcolor\":\"#2a3f5f\",\"arrowhead\":0,\"arrowwidth\":1},\"geo\":{\"bgcolor\":\"white\",\"landcolor\":\"#E5ECF6\",\"subunitcolor\":\"white\",\"showland\":true,\"showlakes\":true,\"lakecolor\":\"white\"},\"title\":{\"x\":0.05},\"mapbox\":{\"style\":\"light\"}}},\"xaxis\":{\"anchor\":\"y\",\"domain\":[0.0,1.0],\"scaleanchor\":\"y\",\"constrain\":\"domain\"},\"yaxis\":{\"anchor\":\"x\",\"domain\":[0.0,1.0],\"autorange\":\"reversed\",\"constrain\":\"domain\"},\"coloraxis\":{\"colorscale\":[[0.0,\"#0d0887\"],[0.1111111111111111,\"#46039f\"],[0.2222222222222222,\"#7201a8\"],[0.3333333333333333,\"#9c179e\"],[0.4444444444444444,\"#bd3786\"],[0.5555555555555556,\"#d8576b\"],[0.6666666666666666,\"#ed7953\"],[0.7777777777777778,\"#fb9f3a\"],[0.8888888888888888,\"#fdca26\"],[1.0,\"#f0f921\"]]},\"margin\":{\"t\":60}},                        {\"responsive\": true}                    ).then(function(){\n",
       "                            \n",
       "var gd = document.getElementById('b38a7eb7-034b-41ad-adbf-85f63a7546dc');\n",
       "var x = new MutationObserver(function (mutations, observer) {{\n",
       "        var display = window.getComputedStyle(gd).display;\n",
       "        if (!display || display === 'none') {{\n",
       "            console.log([gd, 'removed!']);\n",
       "            Plotly.purge(gd);\n",
       "            observer.disconnect();\n",
       "        }}\n",
       "}});\n",
       "\n",
       "// Listen for the removal of the full notebook cells\n",
       "var notebookContainer = gd.closest('#notebook-container');\n",
       "if (notebookContainer) {{\n",
       "    x.observe(notebookContainer, {childList: true});\n",
       "}}\n",
       "\n",
       "// Listen for the clearing of the current output cell\n",
       "var outputEl = gd.closest('.output');\n",
       "if (outputEl) {{\n",
       "    x.observe(outputEl, {childList: true});\n",
       "}}\n",
       "\n",
       "                        })                };                });            </script>        </div>"
      ]
     },
     "metadata": {},
     "output_type": "display_data"
    }
   ],
   "source": [
    "import plotly.express as px\n",
    "import pandas as pd\n",
    "import numpy as np\n",
    "\n",
    "for task_name, losses in task_losses.items():\n",
    "    base_loss = losses[1]\n",
    "    losses = losses[0]\n",
    "\n",
    "    task_losses[task_name][0] = [(base_loss - loss) for loss in losses]\n",
    "\n",
    "\n",
    "df = pd.DataFrame([\n",
    "    {\"task\": task_name, \"feature\": feature, \"loss\": loss}\n",
    "    for task_name, losses in task_losses.items()\n",
    "    for feature, loss in zip(features, losses[0])\n",
    "])\n",
    "\n",
    "\n",
    "\n",
    "heatmap = np.zeros((len(task_names), len(features)))\n",
    "\n",
    "for i, task_name in enumerate(task_names):\n",
    "    for j, feature in enumerate(features):\n",
    "        heatmap[i, j] = task_losses[task_name][0][j]\n",
    "\n",
    "fig = px.imshow(heatmap, x=[str(x) for x in features], y=task_names)\n",
    "\n",
    "fig.show()\n"
   ]
  },
  {
   "cell_type": "code",
   "execution_count": 73,
   "metadata": {},
   "outputs": [
    {
     "data": {
      "application/vnd.plotly.v1+json": {
       "config": {
        "plotlyServerURL": "https://plot.ly"
       },
       "data": [
        {
         "coloraxis": "coloraxis",
         "hovertemplate": "x: %{x}<br>y: %{y}<br>color: %{z}<extra></extra>",
         "name": "0",
         "type": "heatmap",
         "x": [
          "9600",
          "23682",
          "32643",
          "31620",
          "27268",
          "27401",
          "6413",
          "24206",
          "12943",
          "16016",
          "9488",
          "13458",
          "14612",
          "19097",
          "7578",
          "16671",
          "19112",
          "7739",
          "8125",
          "32320",
          "6594",
          "7491",
          "15947",
          "5579",
          "15356",
          "16340",
          "24925",
          "30814",
          "4448",
          "26594",
          "11618",
          "6756",
          "6629",
          "5991",
          "16490",
          "2539",
          "26987",
          "6765",
          "18416",
          "2930",
          "2931",
          "22136",
          "6780"
         ],
         "xaxis": "x",
         "y": [
          "en_es",
          "antonyms",
          "person_profession",
          "es_en",
          "present_simple_gerund",
          "present_simple_past_simple",
          "person_profession",
          "person_language",
          "country_capital",
          "football_player_position"
         ],
         "yaxis": "y",
         "z": [
          [
           -1.15625,
           -8.09375,
           0.09375,
           -1.28125,
           -5.15625,
           -6.59375,
           0.390625,
           -0.5625,
           -2.96875,
           -0.625,
           -0.03125,
           -0.15625,
           -1.875,
           0.453125,
           0.515625,
           -1,
           -2.21875,
           -0.65625,
           -2.3125,
           0.09375,
           -5.71875,
           -8.53125,
           -0.46875,
           -3.375,
           -0.5,
           0.453125,
           0,
           -0.90625,
           0.234375,
           -0.28125,
           -0.40625,
           0.09375,
           -1.71875,
           -6.21875,
           -0.46875,
           -1.21875,
           -10.71875,
           -0.34375,
           -0.8125,
           -0.90625,
           0.125,
           -0.3125,
           -0.75
          ],
          [
           -3.57421875,
           -6.91796875,
           0.34375,
           -4.79296875,
           -0.08203125,
           -2.04296875,
           -0.91796875,
           -0.95703125,
           -0.52734375,
           -0.59765625,
           -2.63671875,
           -0.32421875,
           -0.47265625,
           -3.54296875,
           -1.37109375,
           -1.19921875,
           -2.44921875,
           -1.29296875,
           -1.55859375,
           -0.12109375,
           -4.32421875,
           -3.51171875,
           -0.83203125,
           -0.80859375,
           -0.59765625,
           0.2109375,
           -0.24609375,
           -0.66015625,
           -0.65234375,
           -1.60546875,
           -4.91796875,
           -0.97265625,
           -0.95703125,
           -0.62109375,
           -0.10546875,
           -0.07421875,
           -0.29296875,
           -0.32421875,
           -1.19921875,
           -0.98046875,
           -1.15234375,
           -9.69921875,
           -0.54296875
          ],
          [
           -1.34375,
           -1.71875,
           -0.234375,
           -3.1875,
           -1.375,
           -9.71875,
           -0.9375,
           -2.0625,
           -0.46875,
           -0.890625,
           -0.875,
           -4.125,
           -0.359375,
           -0.859375,
           -0.734375,
           -3.78125,
           -1.8125,
           -1.8125,
           -2.3125,
           -1.78125,
           -6.78125,
           -7.21875,
           -1.25,
           -0.609375,
           -0.0625,
           -0.890625,
           -2.5,
           -1.96875,
           -1.34375,
           -1.6875,
           -0.5,
           -1.6875,
           -0.890625,
           -1.46875,
           -0.421875,
           -2.0625,
           0.09375,
           0.25,
           -1.96875,
           -1.53125,
           -0.625,
           -0.453125,
           -0.546875
          ],
          [
           -2.03125,
           -11.03125,
           0.140625,
           -1.875,
           -5.15625,
           -5.53125,
           -1.03125,
           -2.0625,
           -2.71875,
           -2.53125,
           -3.03125,
           -1.328125,
           -2.375,
           -0.875,
           -1.390625,
           -1.09375,
           -1.296875,
           -2.0625,
           -3.78125,
           -0.59375,
           -7.03125,
           -6.53125,
           -1.078125,
           -2.4375,
           -1.171875,
           -0.609375,
           -0.671875,
           -1.34375,
           -1.015625,
           -2.59375,
           -0.546875,
           -1.296875,
           -1.484375,
           -5.0625,
           -1.5,
           -1.96875,
           -1.59375,
           -0.796875,
           -2.15625,
           -2.9375,
           -0.671875,
           -1.59375,
           -0.96875
          ],
          [
           -0.1279296875,
           -14.6943359375,
           -0.2763671875,
           -1.2802734375,
           -10.1943359375,
           -1.7724609375,
           0.01953125,
           -0.0888671875,
           -0.1083984375,
           -0.6279296875,
           -2.1787109375,
           -0.2197265625,
           -5.4130859375,
           -0.1142578125,
           -0.3271484375,
           -0.6748046875,
           -0.1337890625,
           -0.5458984375,
           -2.3505859375,
           -0.4052734375,
           -7.3818359375,
           -3.5224609375,
           -0.0126953125,
           -2.6005859375,
           -4.5068359375,
           -0.1318359375,
           -0.3232421875,
           -0.2158203125,
           -0.2998046875,
           -2.4912109375,
           -0.3896484375,
           -0.1298828125,
           -2.3505859375,
           -1.4833984375,
           -0.4912109375,
           -2.3974609375,
           -1.0224609375,
           0.0712890625,
           -0.2197265625,
           -4.8193359375,
           -0.6748046875,
           -0.4169921875,
           -1.5068359375
          ],
          [
           -0.171875,
           -12.84375,
           0.48828125,
           -0.0859375,
           -8.21875,
           -1.09375,
           0.1015625,
           0.2109375,
           0.203125,
           -0.0625,
           -0.296875,
           0.23046875,
           -2.484375,
           -0.1171875,
           -0.0390625,
           0.25390625,
           0.3828125,
           -0.53125,
           -0.3125,
           0.1015625,
           -7.71875,
           -3.5625,
           0,
           -0.5390625,
           -7.15625,
           0.1640625,
           0.37890625,
           0.2421875,
           -0.921875,
           -1.640625,
           0.1015625,
           0.265625,
           -0.359375,
           -3.375,
           0.0546875,
           -0.84375,
           0.1328125,
           0.203125,
           0.0703125,
           -2.234375,
           -2.546875,
           -0.0234375,
           -0.5703125
          ],
          [
           -1.34375,
           -1.71875,
           -0.234375,
           -3.1875,
           -1.375,
           -9.71875,
           -0.9375,
           -2.0625,
           -0.46875,
           -0.890625,
           -0.875,
           -4.125,
           -0.359375,
           -0.859375,
           -0.734375,
           -3.78125,
           -1.8125,
           -1.8125,
           -2.3125,
           -1.78125,
           -6.78125,
           -7.21875,
           -1.25,
           -0.609375,
           -0.0625,
           -0.890625,
           -2.5,
           -1.96875,
           -1.34375,
           -1.6875,
           -0.5,
           -1.6875,
           -0.890625,
           -1.46875,
           -0.421875,
           -2.0625,
           0.09375,
           0.25,
           -1.96875,
           -1.53125,
           -0.625,
           -0.453125,
           -0.546875
          ],
          [
           -4.015625,
           -1.921875,
           0.109375,
           -1.453125,
           -1.96875,
           -5.734375,
           0.109375,
           -0.53125,
           -1.65625,
           -0.375,
           -0.90625,
           0.37109375,
           -1.15625,
           -1.046875,
           -0.8203125,
           -0.1875,
           -2.109375,
           -1.203125,
           -1.1875,
           -1.015625,
           -3.421875,
           -1.421875,
           -0.953125,
           -1.359375,
           -0.59375,
           -1.546875,
           -6.421875,
           -0.0859375,
           -0.15625,
           -2.15625,
           -0.421875,
           -0.2578125,
           -0.8203125,
           -1.53125,
           -0.71875,
           -0.96875,
           -0.3984375,
           -0.0625,
           -0.359375,
           -1.1875,
           -0.859375,
           -0.875,
           -0.8125
          ],
          [
           -0.265625,
           -6.5546875,
           0.0546875,
           -1.9296875,
           -1.6796875,
           -0.5078125,
           -0.7734375,
           -1.8671875,
           0.109375,
           -0.8984375,
           -1.3984375,
           -0.9921875,
           -3.1484375,
           0.09375,
           -2.3984375,
           -0.203125,
           -1.2265625,
           -0.7890625,
           -5.9921875,
           -0.25,
           0.0625,
           -1.0234375,
           -0.7734375,
           -0.4609375,
           -0.1484375,
           -0.7109375,
           -2.7109375,
           -1.6484375,
           -0.25,
           -1.4921875,
           -0.1484375,
           -0.6171875,
           -0.4453125,
           -2.1953125,
           -0.3203125,
           -4.6171875,
           -0.6796875,
           -0.4921875,
           -0.5234375,
           0.2265625,
           -0.0234375,
           -1.0078125,
           -3.2421875
          ],
          [
           -2.28125,
           -6.0625,
           0.125,
           -3.8125,
           -1.46875,
           -11.5,
           -2.28125,
           -3.5,
           -1.78125,
           -3.375,
           -3.6875,
           -3.375,
           -1.875,
           -0.46875,
           -2.15625,
           -3.625,
           -1.21875,
           -1.3125,
           -5.6875,
           -2.6875,
           -6.3125,
           -8.6875,
           -0.6875,
           -0.75,
           -0.359375,
           -1.21875,
           -4.40625,
           -2.90625,
           -2.46875,
           -2.96875,
           -0.90625,
           -3.0625,
           -0.5,
           -2.6875,
           -1.21875,
           -2.71875,
           -1.453125,
           -1,
           -4.25,
           -1.15625,
           -0.53125,
           -0.4375,
           -2.34375
          ]
         ]
        }
       ],
       "layout": {
        "coloraxis": {
         "colorscale": [
          [
           0,
           "#0d0887"
          ],
          [
           0.1111111111111111,
           "#46039f"
          ],
          [
           0.2222222222222222,
           "#7201a8"
          ],
          [
           0.3333333333333333,
           "#9c179e"
          ],
          [
           0.4444444444444444,
           "#bd3786"
          ],
          [
           0.5555555555555556,
           "#d8576b"
          ],
          [
           0.6666666666666666,
           "#ed7953"
          ],
          [
           0.7777777777777778,
           "#fb9f3a"
          ],
          [
           0.8888888888888888,
           "#fdca26"
          ],
          [
           1,
           "#f0f921"
          ]
         ]
        },
        "margin": {
         "t": 60
        },
        "template": {
         "data": {
          "bar": [
           {
            "error_x": {
             "color": "#2a3f5f"
            },
            "error_y": {
             "color": "#2a3f5f"
            },
            "marker": {
             "line": {
              "color": "#E5ECF6",
              "width": 0.5
             },
             "pattern": {
              "fillmode": "overlay",
              "size": 10,
              "solidity": 0.2
             }
            },
            "type": "bar"
           }
          ],
          "barpolar": [
           {
            "marker": {
             "line": {
              "color": "#E5ECF6",
              "width": 0.5
             },
             "pattern": {
              "fillmode": "overlay",
              "size": 10,
              "solidity": 0.2
             }
            },
            "type": "barpolar"
           }
          ],
          "carpet": [
           {
            "aaxis": {
             "endlinecolor": "#2a3f5f",
             "gridcolor": "white",
             "linecolor": "white",
             "minorgridcolor": "white",
             "startlinecolor": "#2a3f5f"
            },
            "baxis": {
             "endlinecolor": "#2a3f5f",
             "gridcolor": "white",
             "linecolor": "white",
             "minorgridcolor": "white",
             "startlinecolor": "#2a3f5f"
            },
            "type": "carpet"
           }
          ],
          "choropleth": [
           {
            "colorbar": {
             "outlinewidth": 0,
             "ticks": ""
            },
            "type": "choropleth"
           }
          ],
          "contour": [
           {
            "colorbar": {
             "outlinewidth": 0,
             "ticks": ""
            },
            "colorscale": [
             [
              0,
              "#0d0887"
             ],
             [
              0.1111111111111111,
              "#46039f"
             ],
             [
              0.2222222222222222,
              "#7201a8"
             ],
             [
              0.3333333333333333,
              "#9c179e"
             ],
             [
              0.4444444444444444,
              "#bd3786"
             ],
             [
              0.5555555555555556,
              "#d8576b"
             ],
             [
              0.6666666666666666,
              "#ed7953"
             ],
             [
              0.7777777777777778,
              "#fb9f3a"
             ],
             [
              0.8888888888888888,
              "#fdca26"
             ],
             [
              1,
              "#f0f921"
             ]
            ],
            "type": "contour"
           }
          ],
          "contourcarpet": [
           {
            "colorbar": {
             "outlinewidth": 0,
             "ticks": ""
            },
            "type": "contourcarpet"
           }
          ],
          "heatmap": [
           {
            "colorbar": {
             "outlinewidth": 0,
             "ticks": ""
            },
            "colorscale": [
             [
              0,
              "#0d0887"
             ],
             [
              0.1111111111111111,
              "#46039f"
             ],
             [
              0.2222222222222222,
              "#7201a8"
             ],
             [
              0.3333333333333333,
              "#9c179e"
             ],
             [
              0.4444444444444444,
              "#bd3786"
             ],
             [
              0.5555555555555556,
              "#d8576b"
             ],
             [
              0.6666666666666666,
              "#ed7953"
             ],
             [
              0.7777777777777778,
              "#fb9f3a"
             ],
             [
              0.8888888888888888,
              "#fdca26"
             ],
             [
              1,
              "#f0f921"
             ]
            ],
            "type": "heatmap"
           }
          ],
          "heatmapgl": [
           {
            "colorbar": {
             "outlinewidth": 0,
             "ticks": ""
            },
            "colorscale": [
             [
              0,
              "#0d0887"
             ],
             [
              0.1111111111111111,
              "#46039f"
             ],
             [
              0.2222222222222222,
              "#7201a8"
             ],
             [
              0.3333333333333333,
              "#9c179e"
             ],
             [
              0.4444444444444444,
              "#bd3786"
             ],
             [
              0.5555555555555556,
              "#d8576b"
             ],
             [
              0.6666666666666666,
              "#ed7953"
             ],
             [
              0.7777777777777778,
              "#fb9f3a"
             ],
             [
              0.8888888888888888,
              "#fdca26"
             ],
             [
              1,
              "#f0f921"
             ]
            ],
            "type": "heatmapgl"
           }
          ],
          "histogram": [
           {
            "marker": {
             "pattern": {
              "fillmode": "overlay",
              "size": 10,
              "solidity": 0.2
             }
            },
            "type": "histogram"
           }
          ],
          "histogram2d": [
           {
            "colorbar": {
             "outlinewidth": 0,
             "ticks": ""
            },
            "colorscale": [
             [
              0,
              "#0d0887"
             ],
             [
              0.1111111111111111,
              "#46039f"
             ],
             [
              0.2222222222222222,
              "#7201a8"
             ],
             [
              0.3333333333333333,
              "#9c179e"
             ],
             [
              0.4444444444444444,
              "#bd3786"
             ],
             [
              0.5555555555555556,
              "#d8576b"
             ],
             [
              0.6666666666666666,
              "#ed7953"
             ],
             [
              0.7777777777777778,
              "#fb9f3a"
             ],
             [
              0.8888888888888888,
              "#fdca26"
             ],
             [
              1,
              "#f0f921"
             ]
            ],
            "type": "histogram2d"
           }
          ],
          "histogram2dcontour": [
           {
            "colorbar": {
             "outlinewidth": 0,
             "ticks": ""
            },
            "colorscale": [
             [
              0,
              "#0d0887"
             ],
             [
              0.1111111111111111,
              "#46039f"
             ],
             [
              0.2222222222222222,
              "#7201a8"
             ],
             [
              0.3333333333333333,
              "#9c179e"
             ],
             [
              0.4444444444444444,
              "#bd3786"
             ],
             [
              0.5555555555555556,
              "#d8576b"
             ],
             [
              0.6666666666666666,
              "#ed7953"
             ],
             [
              0.7777777777777778,
              "#fb9f3a"
             ],
             [
              0.8888888888888888,
              "#fdca26"
             ],
             [
              1,
              "#f0f921"
             ]
            ],
            "type": "histogram2dcontour"
           }
          ],
          "mesh3d": [
           {
            "colorbar": {
             "outlinewidth": 0,
             "ticks": ""
            },
            "type": "mesh3d"
           }
          ],
          "parcoords": [
           {
            "line": {
             "colorbar": {
              "outlinewidth": 0,
              "ticks": ""
             }
            },
            "type": "parcoords"
           }
          ],
          "pie": [
           {
            "automargin": true,
            "type": "pie"
           }
          ],
          "scatter": [
           {
            "fillpattern": {
             "fillmode": "overlay",
             "size": 10,
             "solidity": 0.2
            },
            "type": "scatter"
           }
          ],
          "scatter3d": [
           {
            "line": {
             "colorbar": {
              "outlinewidth": 0,
              "ticks": ""
             }
            },
            "marker": {
             "colorbar": {
              "outlinewidth": 0,
              "ticks": ""
             }
            },
            "type": "scatter3d"
           }
          ],
          "scattercarpet": [
           {
            "marker": {
             "colorbar": {
              "outlinewidth": 0,
              "ticks": ""
             }
            },
            "type": "scattercarpet"
           }
          ],
          "scattergeo": [
           {
            "marker": {
             "colorbar": {
              "outlinewidth": 0,
              "ticks": ""
             }
            },
            "type": "scattergeo"
           }
          ],
          "scattergl": [
           {
            "marker": {
             "colorbar": {
              "outlinewidth": 0,
              "ticks": ""
             }
            },
            "type": "scattergl"
           }
          ],
          "scattermapbox": [
           {
            "marker": {
             "colorbar": {
              "outlinewidth": 0,
              "ticks": ""
             }
            },
            "type": "scattermapbox"
           }
          ],
          "scatterpolar": [
           {
            "marker": {
             "colorbar": {
              "outlinewidth": 0,
              "ticks": ""
             }
            },
            "type": "scatterpolar"
           }
          ],
          "scatterpolargl": [
           {
            "marker": {
             "colorbar": {
              "outlinewidth": 0,
              "ticks": ""
             }
            },
            "type": "scatterpolargl"
           }
          ],
          "scatterternary": [
           {
            "marker": {
             "colorbar": {
              "outlinewidth": 0,
              "ticks": ""
             }
            },
            "type": "scatterternary"
           }
          ],
          "surface": [
           {
            "colorbar": {
             "outlinewidth": 0,
             "ticks": ""
            },
            "colorscale": [
             [
              0,
              "#0d0887"
             ],
             [
              0.1111111111111111,
              "#46039f"
             ],
             [
              0.2222222222222222,
              "#7201a8"
             ],
             [
              0.3333333333333333,
              "#9c179e"
             ],
             [
              0.4444444444444444,
              "#bd3786"
             ],
             [
              0.5555555555555556,
              "#d8576b"
             ],
             [
              0.6666666666666666,
              "#ed7953"
             ],
             [
              0.7777777777777778,
              "#fb9f3a"
             ],
             [
              0.8888888888888888,
              "#fdca26"
             ],
             [
              1,
              "#f0f921"
             ]
            ],
            "type": "surface"
           }
          ],
          "table": [
           {
            "cells": {
             "fill": {
              "color": "#EBF0F8"
             },
             "line": {
              "color": "white"
             }
            },
            "header": {
             "fill": {
              "color": "#C8D4E3"
             },
             "line": {
              "color": "white"
             }
            },
            "type": "table"
           }
          ]
         },
         "layout": {
          "annotationdefaults": {
           "arrowcolor": "#2a3f5f",
           "arrowhead": 0,
           "arrowwidth": 1
          },
          "autotypenumbers": "strict",
          "coloraxis": {
           "colorbar": {
            "outlinewidth": 0,
            "ticks": ""
           }
          },
          "colorscale": {
           "diverging": [
            [
             0,
             "#8e0152"
            ],
            [
             0.1,
             "#c51b7d"
            ],
            [
             0.2,
             "#de77ae"
            ],
            [
             0.3,
             "#f1b6da"
            ],
            [
             0.4,
             "#fde0ef"
            ],
            [
             0.5,
             "#f7f7f7"
            ],
            [
             0.6,
             "#e6f5d0"
            ],
            [
             0.7,
             "#b8e186"
            ],
            [
             0.8,
             "#7fbc41"
            ],
            [
             0.9,
             "#4d9221"
            ],
            [
             1,
             "#276419"
            ]
           ],
           "sequential": [
            [
             0,
             "#0d0887"
            ],
            [
             0.1111111111111111,
             "#46039f"
            ],
            [
             0.2222222222222222,
             "#7201a8"
            ],
            [
             0.3333333333333333,
             "#9c179e"
            ],
            [
             0.4444444444444444,
             "#bd3786"
            ],
            [
             0.5555555555555556,
             "#d8576b"
            ],
            [
             0.6666666666666666,
             "#ed7953"
            ],
            [
             0.7777777777777778,
             "#fb9f3a"
            ],
            [
             0.8888888888888888,
             "#fdca26"
            ],
            [
             1,
             "#f0f921"
            ]
           ],
           "sequentialminus": [
            [
             0,
             "#0d0887"
            ],
            [
             0.1111111111111111,
             "#46039f"
            ],
            [
             0.2222222222222222,
             "#7201a8"
            ],
            [
             0.3333333333333333,
             "#9c179e"
            ],
            [
             0.4444444444444444,
             "#bd3786"
            ],
            [
             0.5555555555555556,
             "#d8576b"
            ],
            [
             0.6666666666666666,
             "#ed7953"
            ],
            [
             0.7777777777777778,
             "#fb9f3a"
            ],
            [
             0.8888888888888888,
             "#fdca26"
            ],
            [
             1,
             "#f0f921"
            ]
           ]
          },
          "colorway": [
           "#636efa",
           "#EF553B",
           "#00cc96",
           "#ab63fa",
           "#FFA15A",
           "#19d3f3",
           "#FF6692",
           "#B6E880",
           "#FF97FF",
           "#FECB52"
          ],
          "font": {
           "color": "#2a3f5f"
          },
          "geo": {
           "bgcolor": "white",
           "lakecolor": "white",
           "landcolor": "#E5ECF6",
           "showlakes": true,
           "showland": true,
           "subunitcolor": "white"
          },
          "hoverlabel": {
           "align": "left"
          },
          "hovermode": "closest",
          "mapbox": {
           "style": "light"
          },
          "paper_bgcolor": "white",
          "plot_bgcolor": "#E5ECF6",
          "polar": {
           "angularaxis": {
            "gridcolor": "white",
            "linecolor": "white",
            "ticks": ""
           },
           "bgcolor": "#E5ECF6",
           "radialaxis": {
            "gridcolor": "white",
            "linecolor": "white",
            "ticks": ""
           }
          },
          "scene": {
           "xaxis": {
            "backgroundcolor": "#E5ECF6",
            "gridcolor": "white",
            "gridwidth": 2,
            "linecolor": "white",
            "showbackground": true,
            "ticks": "",
            "zerolinecolor": "white"
           },
           "yaxis": {
            "backgroundcolor": "#E5ECF6",
            "gridcolor": "white",
            "gridwidth": 2,
            "linecolor": "white",
            "showbackground": true,
            "ticks": "",
            "zerolinecolor": "white"
           },
           "zaxis": {
            "backgroundcolor": "#E5ECF6",
            "gridcolor": "white",
            "gridwidth": 2,
            "linecolor": "white",
            "showbackground": true,
            "ticks": "",
            "zerolinecolor": "white"
           }
          },
          "shapedefaults": {
           "line": {
            "color": "#2a3f5f"
           }
          },
          "ternary": {
           "aaxis": {
            "gridcolor": "white",
            "linecolor": "white",
            "ticks": ""
           },
           "baxis": {
            "gridcolor": "white",
            "linecolor": "white",
            "ticks": ""
           },
           "bgcolor": "#E5ECF6",
           "caxis": {
            "gridcolor": "white",
            "linecolor": "white",
            "ticks": ""
           }
          },
          "title": {
           "x": 0.05
          },
          "xaxis": {
           "automargin": true,
           "gridcolor": "white",
           "linecolor": "white",
           "ticks": "",
           "title": {
            "standoff": 15
           },
           "zerolinecolor": "white",
           "zerolinewidth": 2
          },
          "yaxis": {
           "automargin": true,
           "gridcolor": "white",
           "linecolor": "white",
           "ticks": "",
           "title": {
            "standoff": 15
           },
           "zerolinecolor": "white",
           "zerolinewidth": 2
          }
         }
        },
        "xaxis": {
         "anchor": "y",
         "constrain": "domain",
         "domain": [
          0,
          1
         ],
         "scaleanchor": "y"
        },
        "yaxis": {
         "anchor": "x",
         "autorange": "reversed",
         "constrain": "domain",
         "domain": [
          0,
          1
         ]
        }
       }
      },
      "text/html": [
       "<div>                            <div id=\"32a2cf23-73c6-470c-8826-3f8144b22cc9\" class=\"plotly-graph-div\" style=\"height:525px; width:100%;\"></div>            <script type=\"text/javascript\">                require([\"plotly\"], function(Plotly) {                    window.PLOTLYENV=window.PLOTLYENV || {};                                    if (document.getElementById(\"32a2cf23-73c6-470c-8826-3f8144b22cc9\")) {                    Plotly.newPlot(                        \"32a2cf23-73c6-470c-8826-3f8144b22cc9\",                        [{\"coloraxis\":\"coloraxis\",\"name\":\"0\",\"x\":[\"9600\",\"23682\",\"32643\",\"31620\",\"27268\",\"27401\",\"6413\",\"24206\",\"12943\",\"16016\",\"9488\",\"13458\",\"14612\",\"19097\",\"7578\",\"16671\",\"19112\",\"7739\",\"8125\",\"32320\",\"6594\",\"7491\",\"15947\",\"5579\",\"15356\",\"16340\",\"24925\",\"30814\",\"4448\",\"26594\",\"11618\",\"6756\",\"6629\",\"5991\",\"16490\",\"2539\",\"26987\",\"6765\",\"18416\",\"2930\",\"2931\",\"22136\",\"6780\"],\"y\":[\"en_es\",\"antonyms\",\"person_profession\",\"es_en\",\"present_simple_gerund\",\"present_simple_past_simple\",\"person_profession\",\"person_language\",\"country_capital\",\"football_player_position\"],\"z\":[[-1.15625,-8.09375,0.09375,-1.28125,-5.15625,-6.59375,0.390625,-0.5625,-2.96875,-0.625,-0.03125,-0.15625,-1.875,0.453125,0.515625,-1.0,-2.21875,-0.65625,-2.3125,0.09375,-5.71875,-8.53125,-0.46875,-3.375,-0.5,0.453125,0.0,-0.90625,0.234375,-0.28125,-0.40625,0.09375,-1.71875,-6.21875,-0.46875,-1.21875,-10.71875,-0.34375,-0.8125,-0.90625,0.125,-0.3125,-0.75],[-3.57421875,-6.91796875,0.34375,-4.79296875,-0.08203125,-2.04296875,-0.91796875,-0.95703125,-0.52734375,-0.59765625,-2.63671875,-0.32421875,-0.47265625,-3.54296875,-1.37109375,-1.19921875,-2.44921875,-1.29296875,-1.55859375,-0.12109375,-4.32421875,-3.51171875,-0.83203125,-0.80859375,-0.59765625,0.2109375,-0.24609375,-0.66015625,-0.65234375,-1.60546875,-4.91796875,-0.97265625,-0.95703125,-0.62109375,-0.10546875,-0.07421875,-0.29296875,-0.32421875,-1.19921875,-0.98046875,-1.15234375,-9.69921875,-0.54296875],[-1.34375,-1.71875,-0.234375,-3.1875,-1.375,-9.71875,-0.9375,-2.0625,-0.46875,-0.890625,-0.875,-4.125,-0.359375,-0.859375,-0.734375,-3.78125,-1.8125,-1.8125,-2.3125,-1.78125,-6.78125,-7.21875,-1.25,-0.609375,-0.0625,-0.890625,-2.5,-1.96875,-1.34375,-1.6875,-0.5,-1.6875,-0.890625,-1.46875,-0.421875,-2.0625,0.09375,0.25,-1.96875,-1.53125,-0.625,-0.453125,-0.546875],[-2.03125,-11.03125,0.140625,-1.875,-5.15625,-5.53125,-1.03125,-2.0625,-2.71875,-2.53125,-3.03125,-1.328125,-2.375,-0.875,-1.390625,-1.09375,-1.296875,-2.0625,-3.78125,-0.59375,-7.03125,-6.53125,-1.078125,-2.4375,-1.171875,-0.609375,-0.671875,-1.34375,-1.015625,-2.59375,-0.546875,-1.296875,-1.484375,-5.0625,-1.5,-1.96875,-1.59375,-0.796875,-2.15625,-2.9375,-0.671875,-1.59375,-0.96875],[-0.1279296875,-14.6943359375,-0.2763671875,-1.2802734375,-10.1943359375,-1.7724609375,0.01953125,-0.0888671875,-0.1083984375,-0.6279296875,-2.1787109375,-0.2197265625,-5.4130859375,-0.1142578125,-0.3271484375,-0.6748046875,-0.1337890625,-0.5458984375,-2.3505859375,-0.4052734375,-7.3818359375,-3.5224609375,-0.0126953125,-2.6005859375,-4.5068359375,-0.1318359375,-0.3232421875,-0.2158203125,-0.2998046875,-2.4912109375,-0.3896484375,-0.1298828125,-2.3505859375,-1.4833984375,-0.4912109375,-2.3974609375,-1.0224609375,0.0712890625,-0.2197265625,-4.8193359375,-0.6748046875,-0.4169921875,-1.5068359375],[-0.171875,-12.84375,0.48828125,-0.0859375,-8.21875,-1.09375,0.1015625,0.2109375,0.203125,-0.0625,-0.296875,0.23046875,-2.484375,-0.1171875,-0.0390625,0.25390625,0.3828125,-0.53125,-0.3125,0.1015625,-7.71875,-3.5625,0.0,-0.5390625,-7.15625,0.1640625,0.37890625,0.2421875,-0.921875,-1.640625,0.1015625,0.265625,-0.359375,-3.375,0.0546875,-0.84375,0.1328125,0.203125,0.0703125,-2.234375,-2.546875,-0.0234375,-0.5703125],[-1.34375,-1.71875,-0.234375,-3.1875,-1.375,-9.71875,-0.9375,-2.0625,-0.46875,-0.890625,-0.875,-4.125,-0.359375,-0.859375,-0.734375,-3.78125,-1.8125,-1.8125,-2.3125,-1.78125,-6.78125,-7.21875,-1.25,-0.609375,-0.0625,-0.890625,-2.5,-1.96875,-1.34375,-1.6875,-0.5,-1.6875,-0.890625,-1.46875,-0.421875,-2.0625,0.09375,0.25,-1.96875,-1.53125,-0.625,-0.453125,-0.546875],[-4.015625,-1.921875,0.109375,-1.453125,-1.96875,-5.734375,0.109375,-0.53125,-1.65625,-0.375,-0.90625,0.37109375,-1.15625,-1.046875,-0.8203125,-0.1875,-2.109375,-1.203125,-1.1875,-1.015625,-3.421875,-1.421875,-0.953125,-1.359375,-0.59375,-1.546875,-6.421875,-0.0859375,-0.15625,-2.15625,-0.421875,-0.2578125,-0.8203125,-1.53125,-0.71875,-0.96875,-0.3984375,-0.0625,-0.359375,-1.1875,-0.859375,-0.875,-0.8125],[-0.265625,-6.5546875,0.0546875,-1.9296875,-1.6796875,-0.5078125,-0.7734375,-1.8671875,0.109375,-0.8984375,-1.3984375,-0.9921875,-3.1484375,0.09375,-2.3984375,-0.203125,-1.2265625,-0.7890625,-5.9921875,-0.25,0.0625,-1.0234375,-0.7734375,-0.4609375,-0.1484375,-0.7109375,-2.7109375,-1.6484375,-0.25,-1.4921875,-0.1484375,-0.6171875,-0.4453125,-2.1953125,-0.3203125,-4.6171875,-0.6796875,-0.4921875,-0.5234375,0.2265625,-0.0234375,-1.0078125,-3.2421875],[-2.28125,-6.0625,0.125,-3.8125,-1.46875,-11.5,-2.28125,-3.5,-1.78125,-3.375,-3.6875,-3.375,-1.875,-0.46875,-2.15625,-3.625,-1.21875,-1.3125,-5.6875,-2.6875,-6.3125,-8.6875,-0.6875,-0.75,-0.359375,-1.21875,-4.40625,-2.90625,-2.46875,-2.96875,-0.90625,-3.0625,-0.5,-2.6875,-1.21875,-2.71875,-1.453125,-1.0,-4.25,-1.15625,-0.53125,-0.4375,-2.34375]],\"type\":\"heatmap\",\"xaxis\":\"x\",\"yaxis\":\"y\",\"hovertemplate\":\"x: %{x}\\u003cbr\\u003ey: %{y}\\u003cbr\\u003ecolor: %{z}\\u003cextra\\u003e\\u003c\\u002fextra\\u003e\"}],                        {\"template\":{\"data\":{\"histogram2dcontour\":[{\"type\":\"histogram2dcontour\",\"colorbar\":{\"outlinewidth\":0,\"ticks\":\"\"},\"colorscale\":[[0.0,\"#0d0887\"],[0.1111111111111111,\"#46039f\"],[0.2222222222222222,\"#7201a8\"],[0.3333333333333333,\"#9c179e\"],[0.4444444444444444,\"#bd3786\"],[0.5555555555555556,\"#d8576b\"],[0.6666666666666666,\"#ed7953\"],[0.7777777777777778,\"#fb9f3a\"],[0.8888888888888888,\"#fdca26\"],[1.0,\"#f0f921\"]]}],\"choropleth\":[{\"type\":\"choropleth\",\"colorbar\":{\"outlinewidth\":0,\"ticks\":\"\"}}],\"histogram2d\":[{\"type\":\"histogram2d\",\"colorbar\":{\"outlinewidth\":0,\"ticks\":\"\"},\"colorscale\":[[0.0,\"#0d0887\"],[0.1111111111111111,\"#46039f\"],[0.2222222222222222,\"#7201a8\"],[0.3333333333333333,\"#9c179e\"],[0.4444444444444444,\"#bd3786\"],[0.5555555555555556,\"#d8576b\"],[0.6666666666666666,\"#ed7953\"],[0.7777777777777778,\"#fb9f3a\"],[0.8888888888888888,\"#fdca26\"],[1.0,\"#f0f921\"]]}],\"heatmap\":[{\"type\":\"heatmap\",\"colorbar\":{\"outlinewidth\":0,\"ticks\":\"\"},\"colorscale\":[[0.0,\"#0d0887\"],[0.1111111111111111,\"#46039f\"],[0.2222222222222222,\"#7201a8\"],[0.3333333333333333,\"#9c179e\"],[0.4444444444444444,\"#bd3786\"],[0.5555555555555556,\"#d8576b\"],[0.6666666666666666,\"#ed7953\"],[0.7777777777777778,\"#fb9f3a\"],[0.8888888888888888,\"#fdca26\"],[1.0,\"#f0f921\"]]}],\"heatmapgl\":[{\"type\":\"heatmapgl\",\"colorbar\":{\"outlinewidth\":0,\"ticks\":\"\"},\"colorscale\":[[0.0,\"#0d0887\"],[0.1111111111111111,\"#46039f\"],[0.2222222222222222,\"#7201a8\"],[0.3333333333333333,\"#9c179e\"],[0.4444444444444444,\"#bd3786\"],[0.5555555555555556,\"#d8576b\"],[0.6666666666666666,\"#ed7953\"],[0.7777777777777778,\"#fb9f3a\"],[0.8888888888888888,\"#fdca26\"],[1.0,\"#f0f921\"]]}],\"contourcarpet\":[{\"type\":\"contourcarpet\",\"colorbar\":{\"outlinewidth\":0,\"ticks\":\"\"}}],\"contour\":[{\"type\":\"contour\",\"colorbar\":{\"outlinewidth\":0,\"ticks\":\"\"},\"colorscale\":[[0.0,\"#0d0887\"],[0.1111111111111111,\"#46039f\"],[0.2222222222222222,\"#7201a8\"],[0.3333333333333333,\"#9c179e\"],[0.4444444444444444,\"#bd3786\"],[0.5555555555555556,\"#d8576b\"],[0.6666666666666666,\"#ed7953\"],[0.7777777777777778,\"#fb9f3a\"],[0.8888888888888888,\"#fdca26\"],[1.0,\"#f0f921\"]]}],\"surface\":[{\"type\":\"surface\",\"colorbar\":{\"outlinewidth\":0,\"ticks\":\"\"},\"colorscale\":[[0.0,\"#0d0887\"],[0.1111111111111111,\"#46039f\"],[0.2222222222222222,\"#7201a8\"],[0.3333333333333333,\"#9c179e\"],[0.4444444444444444,\"#bd3786\"],[0.5555555555555556,\"#d8576b\"],[0.6666666666666666,\"#ed7953\"],[0.7777777777777778,\"#fb9f3a\"],[0.8888888888888888,\"#fdca26\"],[1.0,\"#f0f921\"]]}],\"mesh3d\":[{\"type\":\"mesh3d\",\"colorbar\":{\"outlinewidth\":0,\"ticks\":\"\"}}],\"scatter\":[{\"fillpattern\":{\"fillmode\":\"overlay\",\"size\":10,\"solidity\":0.2},\"type\":\"scatter\"}],\"parcoords\":[{\"type\":\"parcoords\",\"line\":{\"colorbar\":{\"outlinewidth\":0,\"ticks\":\"\"}}}],\"scatterpolargl\":[{\"type\":\"scatterpolargl\",\"marker\":{\"colorbar\":{\"outlinewidth\":0,\"ticks\":\"\"}}}],\"bar\":[{\"error_x\":{\"color\":\"#2a3f5f\"},\"error_y\":{\"color\":\"#2a3f5f\"},\"marker\":{\"line\":{\"color\":\"#E5ECF6\",\"width\":0.5},\"pattern\":{\"fillmode\":\"overlay\",\"size\":10,\"solidity\":0.2}},\"type\":\"bar\"}],\"scattergeo\":[{\"type\":\"scattergeo\",\"marker\":{\"colorbar\":{\"outlinewidth\":0,\"ticks\":\"\"}}}],\"scatterpolar\":[{\"type\":\"scatterpolar\",\"marker\":{\"colorbar\":{\"outlinewidth\":0,\"ticks\":\"\"}}}],\"histogram\":[{\"marker\":{\"pattern\":{\"fillmode\":\"overlay\",\"size\":10,\"solidity\":0.2}},\"type\":\"histogram\"}],\"scattergl\":[{\"type\":\"scattergl\",\"marker\":{\"colorbar\":{\"outlinewidth\":0,\"ticks\":\"\"}}}],\"scatter3d\":[{\"type\":\"scatter3d\",\"line\":{\"colorbar\":{\"outlinewidth\":0,\"ticks\":\"\"}},\"marker\":{\"colorbar\":{\"outlinewidth\":0,\"ticks\":\"\"}}}],\"scattermapbox\":[{\"type\":\"scattermapbox\",\"marker\":{\"colorbar\":{\"outlinewidth\":0,\"ticks\":\"\"}}}],\"scatterternary\":[{\"type\":\"scatterternary\",\"marker\":{\"colorbar\":{\"outlinewidth\":0,\"ticks\":\"\"}}}],\"scattercarpet\":[{\"type\":\"scattercarpet\",\"marker\":{\"colorbar\":{\"outlinewidth\":0,\"ticks\":\"\"}}}],\"carpet\":[{\"aaxis\":{\"endlinecolor\":\"#2a3f5f\",\"gridcolor\":\"white\",\"linecolor\":\"white\",\"minorgridcolor\":\"white\",\"startlinecolor\":\"#2a3f5f\"},\"baxis\":{\"endlinecolor\":\"#2a3f5f\",\"gridcolor\":\"white\",\"linecolor\":\"white\",\"minorgridcolor\":\"white\",\"startlinecolor\":\"#2a3f5f\"},\"type\":\"carpet\"}],\"table\":[{\"cells\":{\"fill\":{\"color\":\"#EBF0F8\"},\"line\":{\"color\":\"white\"}},\"header\":{\"fill\":{\"color\":\"#C8D4E3\"},\"line\":{\"color\":\"white\"}},\"type\":\"table\"}],\"barpolar\":[{\"marker\":{\"line\":{\"color\":\"#E5ECF6\",\"width\":0.5},\"pattern\":{\"fillmode\":\"overlay\",\"size\":10,\"solidity\":0.2}},\"type\":\"barpolar\"}],\"pie\":[{\"automargin\":true,\"type\":\"pie\"}]},\"layout\":{\"autotypenumbers\":\"strict\",\"colorway\":[\"#636efa\",\"#EF553B\",\"#00cc96\",\"#ab63fa\",\"#FFA15A\",\"#19d3f3\",\"#FF6692\",\"#B6E880\",\"#FF97FF\",\"#FECB52\"],\"font\":{\"color\":\"#2a3f5f\"},\"hovermode\":\"closest\",\"hoverlabel\":{\"align\":\"left\"},\"paper_bgcolor\":\"white\",\"plot_bgcolor\":\"#E5ECF6\",\"polar\":{\"bgcolor\":\"#E5ECF6\",\"angularaxis\":{\"gridcolor\":\"white\",\"linecolor\":\"white\",\"ticks\":\"\"},\"radialaxis\":{\"gridcolor\":\"white\",\"linecolor\":\"white\",\"ticks\":\"\"}},\"ternary\":{\"bgcolor\":\"#E5ECF6\",\"aaxis\":{\"gridcolor\":\"white\",\"linecolor\":\"white\",\"ticks\":\"\"},\"baxis\":{\"gridcolor\":\"white\",\"linecolor\":\"white\",\"ticks\":\"\"},\"caxis\":{\"gridcolor\":\"white\",\"linecolor\":\"white\",\"ticks\":\"\"}},\"coloraxis\":{\"colorbar\":{\"outlinewidth\":0,\"ticks\":\"\"}},\"colorscale\":{\"sequential\":[[0.0,\"#0d0887\"],[0.1111111111111111,\"#46039f\"],[0.2222222222222222,\"#7201a8\"],[0.3333333333333333,\"#9c179e\"],[0.4444444444444444,\"#bd3786\"],[0.5555555555555556,\"#d8576b\"],[0.6666666666666666,\"#ed7953\"],[0.7777777777777778,\"#fb9f3a\"],[0.8888888888888888,\"#fdca26\"],[1.0,\"#f0f921\"]],\"sequentialminus\":[[0.0,\"#0d0887\"],[0.1111111111111111,\"#46039f\"],[0.2222222222222222,\"#7201a8\"],[0.3333333333333333,\"#9c179e\"],[0.4444444444444444,\"#bd3786\"],[0.5555555555555556,\"#d8576b\"],[0.6666666666666666,\"#ed7953\"],[0.7777777777777778,\"#fb9f3a\"],[0.8888888888888888,\"#fdca26\"],[1.0,\"#f0f921\"]],\"diverging\":[[0,\"#8e0152\"],[0.1,\"#c51b7d\"],[0.2,\"#de77ae\"],[0.3,\"#f1b6da\"],[0.4,\"#fde0ef\"],[0.5,\"#f7f7f7\"],[0.6,\"#e6f5d0\"],[0.7,\"#b8e186\"],[0.8,\"#7fbc41\"],[0.9,\"#4d9221\"],[1,\"#276419\"]]},\"xaxis\":{\"gridcolor\":\"white\",\"linecolor\":\"white\",\"ticks\":\"\",\"title\":{\"standoff\":15},\"zerolinecolor\":\"white\",\"automargin\":true,\"zerolinewidth\":2},\"yaxis\":{\"gridcolor\":\"white\",\"linecolor\":\"white\",\"ticks\":\"\",\"title\":{\"standoff\":15},\"zerolinecolor\":\"white\",\"automargin\":true,\"zerolinewidth\":2},\"scene\":{\"xaxis\":{\"backgroundcolor\":\"#E5ECF6\",\"gridcolor\":\"white\",\"linecolor\":\"white\",\"showbackground\":true,\"ticks\":\"\",\"zerolinecolor\":\"white\",\"gridwidth\":2},\"yaxis\":{\"backgroundcolor\":\"#E5ECF6\",\"gridcolor\":\"white\",\"linecolor\":\"white\",\"showbackground\":true,\"ticks\":\"\",\"zerolinecolor\":\"white\",\"gridwidth\":2},\"zaxis\":{\"backgroundcolor\":\"#E5ECF6\",\"gridcolor\":\"white\",\"linecolor\":\"white\",\"showbackground\":true,\"ticks\":\"\",\"zerolinecolor\":\"white\",\"gridwidth\":2}},\"shapedefaults\":{\"line\":{\"color\":\"#2a3f5f\"}},\"annotationdefaults\":{\"arrowcolor\":\"#2a3f5f\",\"arrowhead\":0,\"arrowwidth\":1},\"geo\":{\"bgcolor\":\"white\",\"landcolor\":\"#E5ECF6\",\"subunitcolor\":\"white\",\"showland\":true,\"showlakes\":true,\"lakecolor\":\"white\"},\"title\":{\"x\":0.05},\"mapbox\":{\"style\":\"light\"}}},\"xaxis\":{\"anchor\":\"y\",\"domain\":[0.0,1.0],\"scaleanchor\":\"y\",\"constrain\":\"domain\"},\"yaxis\":{\"anchor\":\"x\",\"domain\":[0.0,1.0],\"autorange\":\"reversed\",\"constrain\":\"domain\"},\"coloraxis\":{\"colorscale\":[[0.0,\"#0d0887\"],[0.1111111111111111,\"#46039f\"],[0.2222222222222222,\"#7201a8\"],[0.3333333333333333,\"#9c179e\"],[0.4444444444444444,\"#bd3786\"],[0.5555555555555556,\"#d8576b\"],[0.6666666666666666,\"#ed7953\"],[0.7777777777777778,\"#fb9f3a\"],[0.8888888888888888,\"#fdca26\"],[1.0,\"#f0f921\"]]},\"margin\":{\"t\":60}},                        {\"responsive\": true}                    ).then(function(){\n",
       "                            \n",
       "var gd = document.getElementById('32a2cf23-73c6-470c-8826-3f8144b22cc9');\n",
       "var x = new MutationObserver(function (mutations, observer) {{\n",
       "        var display = window.getComputedStyle(gd).display;\n",
       "        if (!display || display === 'none') {{\n",
       "            console.log([gd, 'removed!']);\n",
       "            Plotly.purge(gd);\n",
       "            observer.disconnect();\n",
       "        }}\n",
       "}});\n",
       "\n",
       "// Listen for the removal of the full notebook cells\n",
       "var notebookContainer = gd.closest('#notebook-container');\n",
       "if (notebookContainer) {{\n",
       "    x.observe(notebookContainer, {childList: true});\n",
       "}}\n",
       "\n",
       "// Listen for the clearing of the current output cell\n",
       "var outputEl = gd.closest('.output');\n",
       "if (outputEl) {{\n",
       "    x.observe(outputEl, {childList: true});\n",
       "}}\n",
       "\n",
       "                        })                };                });            </script>        </div>"
      ]
     },
     "metadata": {},
     "output_type": "display_data"
    }
   ],
   "source": [
    "import plotly.express as px\n",
    "import pandas as pd\n",
    "import numpy as np\n",
    "\n",
    "for task_name, losses in task_losses.items():\n",
    "    base_loss = losses[1]\n",
    "    losses = losses[0]\n",
    "\n",
    "    task_losses[task_name][0] = [(base_loss - loss) for loss in losses]\n",
    "\n",
    "\n",
    "df = pd.DataFrame([\n",
    "    {\"task\": task_name, \"feature\": feature, \"loss\": loss}\n",
    "    for task_name, losses in task_losses.items()\n",
    "    for feature, loss in zip(features, losses[0])\n",
    "])\n",
    "\n",
    "\n",
    "\n",
    "heatmap = np.zeros((len(task_names), len(features)))\n",
    "\n",
    "for i, task_name in enumerate(task_names):\n",
    "    for j, feature in enumerate(features):\n",
    "        heatmap[i, j] = task_losses[task_name][0][j]\n",
    "\n",
    "fig = px.imshow(heatmap, x=[str(x) for x in features], y=task_names)\n",
    "\n",
    "fig.show()\n"
   ]
  },
  {
   "cell_type": "code",
   "execution_count": 75,
   "metadata": {},
   "outputs": [
    {
     "data": {
      "application/vnd.plotly.v1+json": {
       "config": {
        "plotlyServerURL": "https://plot.ly"
       },
       "data": [
        {
         "coloraxis": "coloraxis",
         "hovertemplate": "x: %{x}<br>y: %{y}<br>color: %{z}<extra></extra>",
         "name": "0",
         "type": "heatmap",
         "x": [
          "9600",
          "23682",
          "32643",
          "31620",
          "27268",
          "27401",
          "6413",
          "24206",
          "12943",
          "16016",
          "9488",
          "13458",
          "14612",
          "19097",
          "7578",
          "16671",
          "19112",
          "7739",
          "8125",
          "32320",
          "6594",
          "7491",
          "15947",
          "5579",
          "15356",
          "16340",
          "24925",
          "30814",
          "4448",
          "26594",
          "11618",
          "6756",
          "6629",
          "5991",
          "16490",
          "2539",
          "26987",
          "6765",
          "18416",
          "2930",
          "2931",
          "22136",
          "6780"
         ],
         "xaxis": "x",
         "y": [
          "en_es",
          "antonyms",
          "person_profession",
          "es_en",
          "present_simple_gerund",
          "present_simple_past_simple",
          "person_profession",
          "person_language",
          "country_capital",
          "football_player_position"
         ],
         "yaxis": "y",
         "z": [
          [
           -0.0625,
           0.234375,
           0.09375,
           0.25,
           -0.625,
           -1.09375,
           0.09375,
           0.15625,
           -0.1875,
           -0.09375,
           0.359375,
           0.03125,
           0.46875,
           0.234375,
           0.5,
           0.125,
           -0.09375,
           -0.28125,
           -0.3125,
           0.328125,
           0.03125,
           -9.28125,
           -0.34375,
           -0.28125,
           0.390625,
           0.484375,
           0.25,
           -0.25,
           0.03125,
           -0.09375,
           0.421875,
           -0.15625,
           0.3125,
           0.15625,
           0.0625,
           0.03125,
           -1.75,
           -0.21875,
           -0.3125,
           0.1875,
           0.1875,
           0.28125,
           0.15625
          ],
          [
           -0.73046875,
           -0.0078125,
           0.140625,
           -0.65234375,
           0.21484375,
           -0.38671875,
           -0.30078125,
           -0.51171875,
           0.234375,
           -0.16015625,
           -0.49609375,
           -0.21484375,
           0.0546875,
           -0.89453125,
           -0.25390625,
           -0.51171875,
           -0.26171875,
           -0.23046875,
           -0.17578125,
           0.3125,
           0.171875,
           -7.07421875,
           -0.47265625,
           -0.12890625,
           0.0546875,
           0.17578125,
           -0.12109375,
           -0.14453125,
           -0.19140625,
           0.296875,
           -0.82421875,
           -0.29296875,
           -0.29296875,
           0.15234375,
           0.34765625,
           0.04296875,
           0.22265625,
           -0.07421875,
           -0.36328125,
           -0.31640625,
           -0.37890625,
           -2.05859375,
           -0.04296875
          ],
          [
           -0.296875,
           -0.21875,
           -0.265625,
           -0.890625,
           -0.53125,
           -1.4375,
           -0.15625,
           -0.53125,
           -0.375,
           -0.0625,
           0.25,
           -0.40625,
           0.203125,
           -0.046875,
           0.109375,
           -0.28125,
           -0.25,
           -0.484375,
           -0.96875,
           -0.328125,
           -1.34375,
           -5.65625,
           -0.015625,
           -0.046875,
           -0.015625,
           -0.46875,
           -0.265625,
           -0.4375,
           0.03125,
           -0.015625,
           -0.15625,
           -0.421875,
           -0.078125,
           -0.0625,
           -0.203125,
           -1.0625,
           0.3125,
           0.296875,
           -0.046875,
           -0.28125,
           -0.34375,
           -0.21875,
           -0.140625
          ],
          [
           -0.484375,
           -0.671875,
           0.265625,
           -0.765625,
           -0.671875,
           -1.59375,
           -0.578125,
           -0.953125,
           -1.203125,
           -1.203125,
           -0.640625,
           -0.484375,
           -0.015625,
           -0.453125,
           -0.234375,
           -0.21875,
           -0.21875,
           -0.90625,
           -1.15625,
           -0.1875,
           -1.1875,
           -7.96875,
           -0.40625,
           -0.65625,
           -0.234375,
           -0.125,
           -0.09375,
           -0.46875,
           -0.15625,
           0.1875,
           0.125,
           -0.390625,
           -0.03125,
           -0.890625,
           -0.34375,
           -0.875,
           -0.09375,
           -0.328125,
           -0.71875,
           -0.5,
           -0.3125,
           -0.359375,
           0.03125
          ],
          [
           0.1484375,
           -2.2255859375,
           0.017578125,
           0.13330078125,
           -2.8505859375,
           0.1005859375,
           -0.0419921875,
           0.0693359375,
           0.1435546875,
           0.0419921875,
           -0.0400390625,
           -0.0927734375,
           -0.0927734375,
           0.0439453125,
           -0.0615234375,
           0.09765625,
           0.11328125,
           -0.0380859375,
           0.15087890625,
           0.0361328125,
           -0.7294921875,
           -6.3505859375,
           -0.0478515625,
           -0.1044921875,
           -0.3037109375,
           0.037109375,
           -0.0693359375,
           -0.0908203125,
           -0.1142578125,
           -0.0712890625,
           -0.1279296875,
           -0.1044921875,
           -0.2314453125,
           -0.0517578125,
           -0.0283203125,
           -0.0244140625,
           -0.0615234375,
           0.0517578125,
           -0.1943359375,
           -1.2412109375,
           0.103515625,
           0.064453125,
           0.0869140625
          ],
          [
           0.203125,
           -0.015625,
           0.1640625,
           0.0546875,
           -2.03125,
           0.31640625,
           0.0625,
           0.1484375,
           0.09375,
           0.140625,
           0.125,
           0.1015625,
           0.33203125,
           0,
           -0.015625,
           0.1328125,
           0.1171875,
           -0.015625,
           0.28515625,
           0.046875,
           -0.5546875,
           -6.28125,
           -0.1484375,
           0.34765625,
           -3.53125,
           0.125,
           0.1328125,
           0.0859375,
           0.0546875,
           -0.0625,
           0.0625,
           0.171875,
           0.1015625,
           0.203125,
           0.1640625,
           0.015625,
           0.37109375,
           0.1015625,
           0.1328125,
           -0.0078125,
           0.0625,
           0.1171875,
           0.03125
          ],
          [
           -0.296875,
           -0.21875,
           -0.265625,
           -0.890625,
           -0.53125,
           -1.4375,
           -0.15625,
           -0.53125,
           -0.375,
           -0.0625,
           0.25,
           -0.40625,
           0.203125,
           -0.046875,
           0.109375,
           -0.28125,
           -0.25,
           -0.484375,
           -0.96875,
           -0.328125,
           -1.34375,
           -5.65625,
           -0.015625,
           -0.046875,
           -0.015625,
           -0.46875,
           -0.265625,
           -0.4375,
           0.03125,
           -0.015625,
           -0.15625,
           -0.421875,
           -0.078125,
           -0.0625,
           -0.203125,
           -1.0625,
           0.3125,
           0.296875,
           -0.046875,
           -0.28125,
           -0.34375,
           -0.21875,
           -0.140625
          ],
          [
           -1.09375,
           -0.1328125,
           -0.03125,
           -0.125,
           -0.53125,
           -0.6640625,
           0.0546875,
           -0.171875,
           -0.7421875,
           -0.140625,
           0.359375,
           0.1875,
           0.0546875,
           -0.203125,
           -0.1015625,
           -0.1328125,
           -0.1171875,
           -0.15625,
           -0.1953125,
           -0.1171875,
           -0.2421875,
           -0.1875,
           -0.171875,
           -0.0390625,
           0.2109375,
           -0.71875,
           -0.71875,
           -0.078125,
           0.09375,
           -0.3125,
           0.25390625,
           -0.046875,
           -0.015625,
           -0.1328125,
           -0.1953125,
           -0.46875,
           0.25390625,
           0.0703125,
           0.09375,
           -0.40625,
           0.0625,
           -0.328125,
           0.1171875
          ],
          [
           -0.109375,
           -3.3046875,
           0.2890625,
           -0.5234375,
           -0.0703125,
           -0.046875,
           -0.203125,
           -0.7421875,
           0.125,
           0.09375,
           0.046875,
           -0.015625,
           -0.1015625,
           0.1015625,
           -0.234375,
           -0.0078125,
           -0.3671875,
           -0.1484375,
           -1.0234375,
           0,
           0.328125,
           -0.140625,
           -0.3671875,
           0.1640625,
           0.046875,
           0,
           -0.1875,
           -0.15625,
           0.109375,
           0.15625,
           0.0390625,
           -0.0703125,
           0.125,
           0.0078125,
           0,
           -0.5078125,
           0.296875,
           -0.1796875,
           -0.046875,
           0.5390625,
           0.0234375,
           -0.2578125,
           -0.4921875
          ],
          [
           -0.34375,
           -1.90625,
           0.4921875,
           -1.65625,
           -0.234375,
           -3,
           -0.578125,
           -2.28125,
           -0.953125,
           -1.0625,
           -0.203125,
           -0.3125,
           -0.453125,
           0.21875,
           -1.421875,
           -0.265625,
           -0.0625,
           -0.03125,
           -3.25,
           0.125,
           -1.421875,
           -5.03125,
           -0.3125,
           0.234375,
           -0.03125,
           0.046875,
           -1.546875,
           0.0625,
           -0.15625,
           0.15625,
           -0.203125,
           -0.828125,
           0,
           -0.828125,
           -0.171875,
           -1.390625,
           -0.1875,
           -0.46875,
           -0.5,
           -0.9375,
           -0.484375,
           0.09375,
           -0.59375
          ]
         ]
        }
       ],
       "layout": {
        "coloraxis": {
         "colorscale": [
          [
           0,
           "#0d0887"
          ],
          [
           0.1111111111111111,
           "#46039f"
          ],
          [
           0.2222222222222222,
           "#7201a8"
          ],
          [
           0.3333333333333333,
           "#9c179e"
          ],
          [
           0.4444444444444444,
           "#bd3786"
          ],
          [
           0.5555555555555556,
           "#d8576b"
          ],
          [
           0.6666666666666666,
           "#ed7953"
          ],
          [
           0.7777777777777778,
           "#fb9f3a"
          ],
          [
           0.8888888888888888,
           "#fdca26"
          ],
          [
           1,
           "#f0f921"
          ]
         ]
        },
        "margin": {
         "t": 60
        },
        "template": {
         "data": {
          "bar": [
           {
            "error_x": {
             "color": "#2a3f5f"
            },
            "error_y": {
             "color": "#2a3f5f"
            },
            "marker": {
             "line": {
              "color": "#E5ECF6",
              "width": 0.5
             },
             "pattern": {
              "fillmode": "overlay",
              "size": 10,
              "solidity": 0.2
             }
            },
            "type": "bar"
           }
          ],
          "barpolar": [
           {
            "marker": {
             "line": {
              "color": "#E5ECF6",
              "width": 0.5
             },
             "pattern": {
              "fillmode": "overlay",
              "size": 10,
              "solidity": 0.2
             }
            },
            "type": "barpolar"
           }
          ],
          "carpet": [
           {
            "aaxis": {
             "endlinecolor": "#2a3f5f",
             "gridcolor": "white",
             "linecolor": "white",
             "minorgridcolor": "white",
             "startlinecolor": "#2a3f5f"
            },
            "baxis": {
             "endlinecolor": "#2a3f5f",
             "gridcolor": "white",
             "linecolor": "white",
             "minorgridcolor": "white",
             "startlinecolor": "#2a3f5f"
            },
            "type": "carpet"
           }
          ],
          "choropleth": [
           {
            "colorbar": {
             "outlinewidth": 0,
             "ticks": ""
            },
            "type": "choropleth"
           }
          ],
          "contour": [
           {
            "colorbar": {
             "outlinewidth": 0,
             "ticks": ""
            },
            "colorscale": [
             [
              0,
              "#0d0887"
             ],
             [
              0.1111111111111111,
              "#46039f"
             ],
             [
              0.2222222222222222,
              "#7201a8"
             ],
             [
              0.3333333333333333,
              "#9c179e"
             ],
             [
              0.4444444444444444,
              "#bd3786"
             ],
             [
              0.5555555555555556,
              "#d8576b"
             ],
             [
              0.6666666666666666,
              "#ed7953"
             ],
             [
              0.7777777777777778,
              "#fb9f3a"
             ],
             [
              0.8888888888888888,
              "#fdca26"
             ],
             [
              1,
              "#f0f921"
             ]
            ],
            "type": "contour"
           }
          ],
          "contourcarpet": [
           {
            "colorbar": {
             "outlinewidth": 0,
             "ticks": ""
            },
            "type": "contourcarpet"
           }
          ],
          "heatmap": [
           {
            "colorbar": {
             "outlinewidth": 0,
             "ticks": ""
            },
            "colorscale": [
             [
              0,
              "#0d0887"
             ],
             [
              0.1111111111111111,
              "#46039f"
             ],
             [
              0.2222222222222222,
              "#7201a8"
             ],
             [
              0.3333333333333333,
              "#9c179e"
             ],
             [
              0.4444444444444444,
              "#bd3786"
             ],
             [
              0.5555555555555556,
              "#d8576b"
             ],
             [
              0.6666666666666666,
              "#ed7953"
             ],
             [
              0.7777777777777778,
              "#fb9f3a"
             ],
             [
              0.8888888888888888,
              "#fdca26"
             ],
             [
              1,
              "#f0f921"
             ]
            ],
            "type": "heatmap"
           }
          ],
          "heatmapgl": [
           {
            "colorbar": {
             "outlinewidth": 0,
             "ticks": ""
            },
            "colorscale": [
             [
              0,
              "#0d0887"
             ],
             [
              0.1111111111111111,
              "#46039f"
             ],
             [
              0.2222222222222222,
              "#7201a8"
             ],
             [
              0.3333333333333333,
              "#9c179e"
             ],
             [
              0.4444444444444444,
              "#bd3786"
             ],
             [
              0.5555555555555556,
              "#d8576b"
             ],
             [
              0.6666666666666666,
              "#ed7953"
             ],
             [
              0.7777777777777778,
              "#fb9f3a"
             ],
             [
              0.8888888888888888,
              "#fdca26"
             ],
             [
              1,
              "#f0f921"
             ]
            ],
            "type": "heatmapgl"
           }
          ],
          "histogram": [
           {
            "marker": {
             "pattern": {
              "fillmode": "overlay",
              "size": 10,
              "solidity": 0.2
             }
            },
            "type": "histogram"
           }
          ],
          "histogram2d": [
           {
            "colorbar": {
             "outlinewidth": 0,
             "ticks": ""
            },
            "colorscale": [
             [
              0,
              "#0d0887"
             ],
             [
              0.1111111111111111,
              "#46039f"
             ],
             [
              0.2222222222222222,
              "#7201a8"
             ],
             [
              0.3333333333333333,
              "#9c179e"
             ],
             [
              0.4444444444444444,
              "#bd3786"
             ],
             [
              0.5555555555555556,
              "#d8576b"
             ],
             [
              0.6666666666666666,
              "#ed7953"
             ],
             [
              0.7777777777777778,
              "#fb9f3a"
             ],
             [
              0.8888888888888888,
              "#fdca26"
             ],
             [
              1,
              "#f0f921"
             ]
            ],
            "type": "histogram2d"
           }
          ],
          "histogram2dcontour": [
           {
            "colorbar": {
             "outlinewidth": 0,
             "ticks": ""
            },
            "colorscale": [
             [
              0,
              "#0d0887"
             ],
             [
              0.1111111111111111,
              "#46039f"
             ],
             [
              0.2222222222222222,
              "#7201a8"
             ],
             [
              0.3333333333333333,
              "#9c179e"
             ],
             [
              0.4444444444444444,
              "#bd3786"
             ],
             [
              0.5555555555555556,
              "#d8576b"
             ],
             [
              0.6666666666666666,
              "#ed7953"
             ],
             [
              0.7777777777777778,
              "#fb9f3a"
             ],
             [
              0.8888888888888888,
              "#fdca26"
             ],
             [
              1,
              "#f0f921"
             ]
            ],
            "type": "histogram2dcontour"
           }
          ],
          "mesh3d": [
           {
            "colorbar": {
             "outlinewidth": 0,
             "ticks": ""
            },
            "type": "mesh3d"
           }
          ],
          "parcoords": [
           {
            "line": {
             "colorbar": {
              "outlinewidth": 0,
              "ticks": ""
             }
            },
            "type": "parcoords"
           }
          ],
          "pie": [
           {
            "automargin": true,
            "type": "pie"
           }
          ],
          "scatter": [
           {
            "fillpattern": {
             "fillmode": "overlay",
             "size": 10,
             "solidity": 0.2
            },
            "type": "scatter"
           }
          ],
          "scatter3d": [
           {
            "line": {
             "colorbar": {
              "outlinewidth": 0,
              "ticks": ""
             }
            },
            "marker": {
             "colorbar": {
              "outlinewidth": 0,
              "ticks": ""
             }
            },
            "type": "scatter3d"
           }
          ],
          "scattercarpet": [
           {
            "marker": {
             "colorbar": {
              "outlinewidth": 0,
              "ticks": ""
             }
            },
            "type": "scattercarpet"
           }
          ],
          "scattergeo": [
           {
            "marker": {
             "colorbar": {
              "outlinewidth": 0,
              "ticks": ""
             }
            },
            "type": "scattergeo"
           }
          ],
          "scattergl": [
           {
            "marker": {
             "colorbar": {
              "outlinewidth": 0,
              "ticks": ""
             }
            },
            "type": "scattergl"
           }
          ],
          "scattermapbox": [
           {
            "marker": {
             "colorbar": {
              "outlinewidth": 0,
              "ticks": ""
             }
            },
            "type": "scattermapbox"
           }
          ],
          "scatterpolar": [
           {
            "marker": {
             "colorbar": {
              "outlinewidth": 0,
              "ticks": ""
             }
            },
            "type": "scatterpolar"
           }
          ],
          "scatterpolargl": [
           {
            "marker": {
             "colorbar": {
              "outlinewidth": 0,
              "ticks": ""
             }
            },
            "type": "scatterpolargl"
           }
          ],
          "scatterternary": [
           {
            "marker": {
             "colorbar": {
              "outlinewidth": 0,
              "ticks": ""
             }
            },
            "type": "scatterternary"
           }
          ],
          "surface": [
           {
            "colorbar": {
             "outlinewidth": 0,
             "ticks": ""
            },
            "colorscale": [
             [
              0,
              "#0d0887"
             ],
             [
              0.1111111111111111,
              "#46039f"
             ],
             [
              0.2222222222222222,
              "#7201a8"
             ],
             [
              0.3333333333333333,
              "#9c179e"
             ],
             [
              0.4444444444444444,
              "#bd3786"
             ],
             [
              0.5555555555555556,
              "#d8576b"
             ],
             [
              0.6666666666666666,
              "#ed7953"
             ],
             [
              0.7777777777777778,
              "#fb9f3a"
             ],
             [
              0.8888888888888888,
              "#fdca26"
             ],
             [
              1,
              "#f0f921"
             ]
            ],
            "type": "surface"
           }
          ],
          "table": [
           {
            "cells": {
             "fill": {
              "color": "#EBF0F8"
             },
             "line": {
              "color": "white"
             }
            },
            "header": {
             "fill": {
              "color": "#C8D4E3"
             },
             "line": {
              "color": "white"
             }
            },
            "type": "table"
           }
          ]
         },
         "layout": {
          "annotationdefaults": {
           "arrowcolor": "#2a3f5f",
           "arrowhead": 0,
           "arrowwidth": 1
          },
          "autotypenumbers": "strict",
          "coloraxis": {
           "colorbar": {
            "outlinewidth": 0,
            "ticks": ""
           }
          },
          "colorscale": {
           "diverging": [
            [
             0,
             "#8e0152"
            ],
            [
             0.1,
             "#c51b7d"
            ],
            [
             0.2,
             "#de77ae"
            ],
            [
             0.3,
             "#f1b6da"
            ],
            [
             0.4,
             "#fde0ef"
            ],
            [
             0.5,
             "#f7f7f7"
            ],
            [
             0.6,
             "#e6f5d0"
            ],
            [
             0.7,
             "#b8e186"
            ],
            [
             0.8,
             "#7fbc41"
            ],
            [
             0.9,
             "#4d9221"
            ],
            [
             1,
             "#276419"
            ]
           ],
           "sequential": [
            [
             0,
             "#0d0887"
            ],
            [
             0.1111111111111111,
             "#46039f"
            ],
            [
             0.2222222222222222,
             "#7201a8"
            ],
            [
             0.3333333333333333,
             "#9c179e"
            ],
            [
             0.4444444444444444,
             "#bd3786"
            ],
            [
             0.5555555555555556,
             "#d8576b"
            ],
            [
             0.6666666666666666,
             "#ed7953"
            ],
            [
             0.7777777777777778,
             "#fb9f3a"
            ],
            [
             0.8888888888888888,
             "#fdca26"
            ],
            [
             1,
             "#f0f921"
            ]
           ],
           "sequentialminus": [
            [
             0,
             "#0d0887"
            ],
            [
             0.1111111111111111,
             "#46039f"
            ],
            [
             0.2222222222222222,
             "#7201a8"
            ],
            [
             0.3333333333333333,
             "#9c179e"
            ],
            [
             0.4444444444444444,
             "#bd3786"
            ],
            [
             0.5555555555555556,
             "#d8576b"
            ],
            [
             0.6666666666666666,
             "#ed7953"
            ],
            [
             0.7777777777777778,
             "#fb9f3a"
            ],
            [
             0.8888888888888888,
             "#fdca26"
            ],
            [
             1,
             "#f0f921"
            ]
           ]
          },
          "colorway": [
           "#636efa",
           "#EF553B",
           "#00cc96",
           "#ab63fa",
           "#FFA15A",
           "#19d3f3",
           "#FF6692",
           "#B6E880",
           "#FF97FF",
           "#FECB52"
          ],
          "font": {
           "color": "#2a3f5f"
          },
          "geo": {
           "bgcolor": "white",
           "lakecolor": "white",
           "landcolor": "#E5ECF6",
           "showlakes": true,
           "showland": true,
           "subunitcolor": "white"
          },
          "hoverlabel": {
           "align": "left"
          },
          "hovermode": "closest",
          "mapbox": {
           "style": "light"
          },
          "paper_bgcolor": "white",
          "plot_bgcolor": "#E5ECF6",
          "polar": {
           "angularaxis": {
            "gridcolor": "white",
            "linecolor": "white",
            "ticks": ""
           },
           "bgcolor": "#E5ECF6",
           "radialaxis": {
            "gridcolor": "white",
            "linecolor": "white",
            "ticks": ""
           }
          },
          "scene": {
           "xaxis": {
            "backgroundcolor": "#E5ECF6",
            "gridcolor": "white",
            "gridwidth": 2,
            "linecolor": "white",
            "showbackground": true,
            "ticks": "",
            "zerolinecolor": "white"
           },
           "yaxis": {
            "backgroundcolor": "#E5ECF6",
            "gridcolor": "white",
            "gridwidth": 2,
            "linecolor": "white",
            "showbackground": true,
            "ticks": "",
            "zerolinecolor": "white"
           },
           "zaxis": {
            "backgroundcolor": "#E5ECF6",
            "gridcolor": "white",
            "gridwidth": 2,
            "linecolor": "white",
            "showbackground": true,
            "ticks": "",
            "zerolinecolor": "white"
           }
          },
          "shapedefaults": {
           "line": {
            "color": "#2a3f5f"
           }
          },
          "ternary": {
           "aaxis": {
            "gridcolor": "white",
            "linecolor": "white",
            "ticks": ""
           },
           "baxis": {
            "gridcolor": "white",
            "linecolor": "white",
            "ticks": ""
           },
           "bgcolor": "#E5ECF6",
           "caxis": {
            "gridcolor": "white",
            "linecolor": "white",
            "ticks": ""
           }
          },
          "title": {
           "x": 0.05
          },
          "xaxis": {
           "automargin": true,
           "gridcolor": "white",
           "linecolor": "white",
           "ticks": "",
           "title": {
            "standoff": 15
           },
           "zerolinecolor": "white",
           "zerolinewidth": 2
          },
          "yaxis": {
           "automargin": true,
           "gridcolor": "white",
           "linecolor": "white",
           "ticks": "",
           "title": {
            "standoff": 15
           },
           "zerolinecolor": "white",
           "zerolinewidth": 2
          }
         }
        },
        "xaxis": {
         "anchor": "y",
         "constrain": "domain",
         "domain": [
          0,
          1
         ],
         "scaleanchor": "y"
        },
        "yaxis": {
         "anchor": "x",
         "autorange": "reversed",
         "constrain": "domain",
         "domain": [
          0,
          1
         ]
        }
       }
      },
      "text/html": [
       "<div>                            <div id=\"2ccd7cb7-0ec6-4823-9720-2ea7d60e8ffa\" class=\"plotly-graph-div\" style=\"height:525px; width:100%;\"></div>            <script type=\"text/javascript\">                require([\"plotly\"], function(Plotly) {                    window.PLOTLYENV=window.PLOTLYENV || {};                                    if (document.getElementById(\"2ccd7cb7-0ec6-4823-9720-2ea7d60e8ffa\")) {                    Plotly.newPlot(                        \"2ccd7cb7-0ec6-4823-9720-2ea7d60e8ffa\",                        [{\"coloraxis\":\"coloraxis\",\"name\":\"0\",\"x\":[\"9600\",\"23682\",\"32643\",\"31620\",\"27268\",\"27401\",\"6413\",\"24206\",\"12943\",\"16016\",\"9488\",\"13458\",\"14612\",\"19097\",\"7578\",\"16671\",\"19112\",\"7739\",\"8125\",\"32320\",\"6594\",\"7491\",\"15947\",\"5579\",\"15356\",\"16340\",\"24925\",\"30814\",\"4448\",\"26594\",\"11618\",\"6756\",\"6629\",\"5991\",\"16490\",\"2539\",\"26987\",\"6765\",\"18416\",\"2930\",\"2931\",\"22136\",\"6780\"],\"y\":[\"en_es\",\"antonyms\",\"person_profession\",\"es_en\",\"present_simple_gerund\",\"present_simple_past_simple\",\"person_profession\",\"person_language\",\"country_capital\",\"football_player_position\"],\"z\":[[-0.0625,0.234375,0.09375,0.25,-0.625,-1.09375,0.09375,0.15625,-0.1875,-0.09375,0.359375,0.03125,0.46875,0.234375,0.5,0.125,-0.09375,-0.28125,-0.3125,0.328125,0.03125,-9.28125,-0.34375,-0.28125,0.390625,0.484375,0.25,-0.25,0.03125,-0.09375,0.421875,-0.15625,0.3125,0.15625,0.0625,0.03125,-1.75,-0.21875,-0.3125,0.1875,0.1875,0.28125,0.15625],[-0.73046875,-0.0078125,0.140625,-0.65234375,0.21484375,-0.38671875,-0.30078125,-0.51171875,0.234375,-0.16015625,-0.49609375,-0.21484375,0.0546875,-0.89453125,-0.25390625,-0.51171875,-0.26171875,-0.23046875,-0.17578125,0.3125,0.171875,-7.07421875,-0.47265625,-0.12890625,0.0546875,0.17578125,-0.12109375,-0.14453125,-0.19140625,0.296875,-0.82421875,-0.29296875,-0.29296875,0.15234375,0.34765625,0.04296875,0.22265625,-0.07421875,-0.36328125,-0.31640625,-0.37890625,-2.05859375,-0.04296875],[-0.296875,-0.21875,-0.265625,-0.890625,-0.53125,-1.4375,-0.15625,-0.53125,-0.375,-0.0625,0.25,-0.40625,0.203125,-0.046875,0.109375,-0.28125,-0.25,-0.484375,-0.96875,-0.328125,-1.34375,-5.65625,-0.015625,-0.046875,-0.015625,-0.46875,-0.265625,-0.4375,0.03125,-0.015625,-0.15625,-0.421875,-0.078125,-0.0625,-0.203125,-1.0625,0.3125,0.296875,-0.046875,-0.28125,-0.34375,-0.21875,-0.140625],[-0.484375,-0.671875,0.265625,-0.765625,-0.671875,-1.59375,-0.578125,-0.953125,-1.203125,-1.203125,-0.640625,-0.484375,-0.015625,-0.453125,-0.234375,-0.21875,-0.21875,-0.90625,-1.15625,-0.1875,-1.1875,-7.96875,-0.40625,-0.65625,-0.234375,-0.125,-0.09375,-0.46875,-0.15625,0.1875,0.125,-0.390625,-0.03125,-0.890625,-0.34375,-0.875,-0.09375,-0.328125,-0.71875,-0.5,-0.3125,-0.359375,0.03125],[0.1484375,-2.2255859375,0.017578125,0.13330078125,-2.8505859375,0.1005859375,-0.0419921875,0.0693359375,0.1435546875,0.0419921875,-0.0400390625,-0.0927734375,-0.0927734375,0.0439453125,-0.0615234375,0.09765625,0.11328125,-0.0380859375,0.15087890625,0.0361328125,-0.7294921875,-6.3505859375,-0.0478515625,-0.1044921875,-0.3037109375,0.037109375,-0.0693359375,-0.0908203125,-0.1142578125,-0.0712890625,-0.1279296875,-0.1044921875,-0.2314453125,-0.0517578125,-0.0283203125,-0.0244140625,-0.0615234375,0.0517578125,-0.1943359375,-1.2412109375,0.103515625,0.064453125,0.0869140625],[0.203125,-0.015625,0.1640625,0.0546875,-2.03125,0.31640625,0.0625,0.1484375,0.09375,0.140625,0.125,0.1015625,0.33203125,0.0,-0.015625,0.1328125,0.1171875,-0.015625,0.28515625,0.046875,-0.5546875,-6.28125,-0.1484375,0.34765625,-3.53125,0.125,0.1328125,0.0859375,0.0546875,-0.0625,0.0625,0.171875,0.1015625,0.203125,0.1640625,0.015625,0.37109375,0.1015625,0.1328125,-0.0078125,0.0625,0.1171875,0.03125],[-0.296875,-0.21875,-0.265625,-0.890625,-0.53125,-1.4375,-0.15625,-0.53125,-0.375,-0.0625,0.25,-0.40625,0.203125,-0.046875,0.109375,-0.28125,-0.25,-0.484375,-0.96875,-0.328125,-1.34375,-5.65625,-0.015625,-0.046875,-0.015625,-0.46875,-0.265625,-0.4375,0.03125,-0.015625,-0.15625,-0.421875,-0.078125,-0.0625,-0.203125,-1.0625,0.3125,0.296875,-0.046875,-0.28125,-0.34375,-0.21875,-0.140625],[-1.09375,-0.1328125,-0.03125,-0.125,-0.53125,-0.6640625,0.0546875,-0.171875,-0.7421875,-0.140625,0.359375,0.1875,0.0546875,-0.203125,-0.1015625,-0.1328125,-0.1171875,-0.15625,-0.1953125,-0.1171875,-0.2421875,-0.1875,-0.171875,-0.0390625,0.2109375,-0.71875,-0.71875,-0.078125,0.09375,-0.3125,0.25390625,-0.046875,-0.015625,-0.1328125,-0.1953125,-0.46875,0.25390625,0.0703125,0.09375,-0.40625,0.0625,-0.328125,0.1171875],[-0.109375,-3.3046875,0.2890625,-0.5234375,-0.0703125,-0.046875,-0.203125,-0.7421875,0.125,0.09375,0.046875,-0.015625,-0.1015625,0.1015625,-0.234375,-0.0078125,-0.3671875,-0.1484375,-1.0234375,0.0,0.328125,-0.140625,-0.3671875,0.1640625,0.046875,0.0,-0.1875,-0.15625,0.109375,0.15625,0.0390625,-0.0703125,0.125,0.0078125,0.0,-0.5078125,0.296875,-0.1796875,-0.046875,0.5390625,0.0234375,-0.2578125,-0.4921875],[-0.34375,-1.90625,0.4921875,-1.65625,-0.234375,-3.0,-0.578125,-2.28125,-0.953125,-1.0625,-0.203125,-0.3125,-0.453125,0.21875,-1.421875,-0.265625,-0.0625,-0.03125,-3.25,0.125,-1.421875,-5.03125,-0.3125,0.234375,-0.03125,0.046875,-1.546875,0.0625,-0.15625,0.15625,-0.203125,-0.828125,0.0,-0.828125,-0.171875,-1.390625,-0.1875,-0.46875,-0.5,-0.9375,-0.484375,0.09375,-0.59375]],\"type\":\"heatmap\",\"xaxis\":\"x\",\"yaxis\":\"y\",\"hovertemplate\":\"x: %{x}\\u003cbr\\u003ey: %{y}\\u003cbr\\u003ecolor: %{z}\\u003cextra\\u003e\\u003c\\u002fextra\\u003e\"}],                        {\"template\":{\"data\":{\"histogram2dcontour\":[{\"type\":\"histogram2dcontour\",\"colorbar\":{\"outlinewidth\":0,\"ticks\":\"\"},\"colorscale\":[[0.0,\"#0d0887\"],[0.1111111111111111,\"#46039f\"],[0.2222222222222222,\"#7201a8\"],[0.3333333333333333,\"#9c179e\"],[0.4444444444444444,\"#bd3786\"],[0.5555555555555556,\"#d8576b\"],[0.6666666666666666,\"#ed7953\"],[0.7777777777777778,\"#fb9f3a\"],[0.8888888888888888,\"#fdca26\"],[1.0,\"#f0f921\"]]}],\"choropleth\":[{\"type\":\"choropleth\",\"colorbar\":{\"outlinewidth\":0,\"ticks\":\"\"}}],\"histogram2d\":[{\"type\":\"histogram2d\",\"colorbar\":{\"outlinewidth\":0,\"ticks\":\"\"},\"colorscale\":[[0.0,\"#0d0887\"],[0.1111111111111111,\"#46039f\"],[0.2222222222222222,\"#7201a8\"],[0.3333333333333333,\"#9c179e\"],[0.4444444444444444,\"#bd3786\"],[0.5555555555555556,\"#d8576b\"],[0.6666666666666666,\"#ed7953\"],[0.7777777777777778,\"#fb9f3a\"],[0.8888888888888888,\"#fdca26\"],[1.0,\"#f0f921\"]]}],\"heatmap\":[{\"type\":\"heatmap\",\"colorbar\":{\"outlinewidth\":0,\"ticks\":\"\"},\"colorscale\":[[0.0,\"#0d0887\"],[0.1111111111111111,\"#46039f\"],[0.2222222222222222,\"#7201a8\"],[0.3333333333333333,\"#9c179e\"],[0.4444444444444444,\"#bd3786\"],[0.5555555555555556,\"#d8576b\"],[0.6666666666666666,\"#ed7953\"],[0.7777777777777778,\"#fb9f3a\"],[0.8888888888888888,\"#fdca26\"],[1.0,\"#f0f921\"]]}],\"heatmapgl\":[{\"type\":\"heatmapgl\",\"colorbar\":{\"outlinewidth\":0,\"ticks\":\"\"},\"colorscale\":[[0.0,\"#0d0887\"],[0.1111111111111111,\"#46039f\"],[0.2222222222222222,\"#7201a8\"],[0.3333333333333333,\"#9c179e\"],[0.4444444444444444,\"#bd3786\"],[0.5555555555555556,\"#d8576b\"],[0.6666666666666666,\"#ed7953\"],[0.7777777777777778,\"#fb9f3a\"],[0.8888888888888888,\"#fdca26\"],[1.0,\"#f0f921\"]]}],\"contourcarpet\":[{\"type\":\"contourcarpet\",\"colorbar\":{\"outlinewidth\":0,\"ticks\":\"\"}}],\"contour\":[{\"type\":\"contour\",\"colorbar\":{\"outlinewidth\":0,\"ticks\":\"\"},\"colorscale\":[[0.0,\"#0d0887\"],[0.1111111111111111,\"#46039f\"],[0.2222222222222222,\"#7201a8\"],[0.3333333333333333,\"#9c179e\"],[0.4444444444444444,\"#bd3786\"],[0.5555555555555556,\"#d8576b\"],[0.6666666666666666,\"#ed7953\"],[0.7777777777777778,\"#fb9f3a\"],[0.8888888888888888,\"#fdca26\"],[1.0,\"#f0f921\"]]}],\"surface\":[{\"type\":\"surface\",\"colorbar\":{\"outlinewidth\":0,\"ticks\":\"\"},\"colorscale\":[[0.0,\"#0d0887\"],[0.1111111111111111,\"#46039f\"],[0.2222222222222222,\"#7201a8\"],[0.3333333333333333,\"#9c179e\"],[0.4444444444444444,\"#bd3786\"],[0.5555555555555556,\"#d8576b\"],[0.6666666666666666,\"#ed7953\"],[0.7777777777777778,\"#fb9f3a\"],[0.8888888888888888,\"#fdca26\"],[1.0,\"#f0f921\"]]}],\"mesh3d\":[{\"type\":\"mesh3d\",\"colorbar\":{\"outlinewidth\":0,\"ticks\":\"\"}}],\"scatter\":[{\"fillpattern\":{\"fillmode\":\"overlay\",\"size\":10,\"solidity\":0.2},\"type\":\"scatter\"}],\"parcoords\":[{\"type\":\"parcoords\",\"line\":{\"colorbar\":{\"outlinewidth\":0,\"ticks\":\"\"}}}],\"scatterpolargl\":[{\"type\":\"scatterpolargl\",\"marker\":{\"colorbar\":{\"outlinewidth\":0,\"ticks\":\"\"}}}],\"bar\":[{\"error_x\":{\"color\":\"#2a3f5f\"},\"error_y\":{\"color\":\"#2a3f5f\"},\"marker\":{\"line\":{\"color\":\"#E5ECF6\",\"width\":0.5},\"pattern\":{\"fillmode\":\"overlay\",\"size\":10,\"solidity\":0.2}},\"type\":\"bar\"}],\"scattergeo\":[{\"type\":\"scattergeo\",\"marker\":{\"colorbar\":{\"outlinewidth\":0,\"ticks\":\"\"}}}],\"scatterpolar\":[{\"type\":\"scatterpolar\",\"marker\":{\"colorbar\":{\"outlinewidth\":0,\"ticks\":\"\"}}}],\"histogram\":[{\"marker\":{\"pattern\":{\"fillmode\":\"overlay\",\"size\":10,\"solidity\":0.2}},\"type\":\"histogram\"}],\"scattergl\":[{\"type\":\"scattergl\",\"marker\":{\"colorbar\":{\"outlinewidth\":0,\"ticks\":\"\"}}}],\"scatter3d\":[{\"type\":\"scatter3d\",\"line\":{\"colorbar\":{\"outlinewidth\":0,\"ticks\":\"\"}},\"marker\":{\"colorbar\":{\"outlinewidth\":0,\"ticks\":\"\"}}}],\"scattermapbox\":[{\"type\":\"scattermapbox\",\"marker\":{\"colorbar\":{\"outlinewidth\":0,\"ticks\":\"\"}}}],\"scatterternary\":[{\"type\":\"scatterternary\",\"marker\":{\"colorbar\":{\"outlinewidth\":0,\"ticks\":\"\"}}}],\"scattercarpet\":[{\"type\":\"scattercarpet\",\"marker\":{\"colorbar\":{\"outlinewidth\":0,\"ticks\":\"\"}}}],\"carpet\":[{\"aaxis\":{\"endlinecolor\":\"#2a3f5f\",\"gridcolor\":\"white\",\"linecolor\":\"white\",\"minorgridcolor\":\"white\",\"startlinecolor\":\"#2a3f5f\"},\"baxis\":{\"endlinecolor\":\"#2a3f5f\",\"gridcolor\":\"white\",\"linecolor\":\"white\",\"minorgridcolor\":\"white\",\"startlinecolor\":\"#2a3f5f\"},\"type\":\"carpet\"}],\"table\":[{\"cells\":{\"fill\":{\"color\":\"#EBF0F8\"},\"line\":{\"color\":\"white\"}},\"header\":{\"fill\":{\"color\":\"#C8D4E3\"},\"line\":{\"color\":\"white\"}},\"type\":\"table\"}],\"barpolar\":[{\"marker\":{\"line\":{\"color\":\"#E5ECF6\",\"width\":0.5},\"pattern\":{\"fillmode\":\"overlay\",\"size\":10,\"solidity\":0.2}},\"type\":\"barpolar\"}],\"pie\":[{\"automargin\":true,\"type\":\"pie\"}]},\"layout\":{\"autotypenumbers\":\"strict\",\"colorway\":[\"#636efa\",\"#EF553B\",\"#00cc96\",\"#ab63fa\",\"#FFA15A\",\"#19d3f3\",\"#FF6692\",\"#B6E880\",\"#FF97FF\",\"#FECB52\"],\"font\":{\"color\":\"#2a3f5f\"},\"hovermode\":\"closest\",\"hoverlabel\":{\"align\":\"left\"},\"paper_bgcolor\":\"white\",\"plot_bgcolor\":\"#E5ECF6\",\"polar\":{\"bgcolor\":\"#E5ECF6\",\"angularaxis\":{\"gridcolor\":\"white\",\"linecolor\":\"white\",\"ticks\":\"\"},\"radialaxis\":{\"gridcolor\":\"white\",\"linecolor\":\"white\",\"ticks\":\"\"}},\"ternary\":{\"bgcolor\":\"#E5ECF6\",\"aaxis\":{\"gridcolor\":\"white\",\"linecolor\":\"white\",\"ticks\":\"\"},\"baxis\":{\"gridcolor\":\"white\",\"linecolor\":\"white\",\"ticks\":\"\"},\"caxis\":{\"gridcolor\":\"white\",\"linecolor\":\"white\",\"ticks\":\"\"}},\"coloraxis\":{\"colorbar\":{\"outlinewidth\":0,\"ticks\":\"\"}},\"colorscale\":{\"sequential\":[[0.0,\"#0d0887\"],[0.1111111111111111,\"#46039f\"],[0.2222222222222222,\"#7201a8\"],[0.3333333333333333,\"#9c179e\"],[0.4444444444444444,\"#bd3786\"],[0.5555555555555556,\"#d8576b\"],[0.6666666666666666,\"#ed7953\"],[0.7777777777777778,\"#fb9f3a\"],[0.8888888888888888,\"#fdca26\"],[1.0,\"#f0f921\"]],\"sequentialminus\":[[0.0,\"#0d0887\"],[0.1111111111111111,\"#46039f\"],[0.2222222222222222,\"#7201a8\"],[0.3333333333333333,\"#9c179e\"],[0.4444444444444444,\"#bd3786\"],[0.5555555555555556,\"#d8576b\"],[0.6666666666666666,\"#ed7953\"],[0.7777777777777778,\"#fb9f3a\"],[0.8888888888888888,\"#fdca26\"],[1.0,\"#f0f921\"]],\"diverging\":[[0,\"#8e0152\"],[0.1,\"#c51b7d\"],[0.2,\"#de77ae\"],[0.3,\"#f1b6da\"],[0.4,\"#fde0ef\"],[0.5,\"#f7f7f7\"],[0.6,\"#e6f5d0\"],[0.7,\"#b8e186\"],[0.8,\"#7fbc41\"],[0.9,\"#4d9221\"],[1,\"#276419\"]]},\"xaxis\":{\"gridcolor\":\"white\",\"linecolor\":\"white\",\"ticks\":\"\",\"title\":{\"standoff\":15},\"zerolinecolor\":\"white\",\"automargin\":true,\"zerolinewidth\":2},\"yaxis\":{\"gridcolor\":\"white\",\"linecolor\":\"white\",\"ticks\":\"\",\"title\":{\"standoff\":15},\"zerolinecolor\":\"white\",\"automargin\":true,\"zerolinewidth\":2},\"scene\":{\"xaxis\":{\"backgroundcolor\":\"#E5ECF6\",\"gridcolor\":\"white\",\"linecolor\":\"white\",\"showbackground\":true,\"ticks\":\"\",\"zerolinecolor\":\"white\",\"gridwidth\":2},\"yaxis\":{\"backgroundcolor\":\"#E5ECF6\",\"gridcolor\":\"white\",\"linecolor\":\"white\",\"showbackground\":true,\"ticks\":\"\",\"zerolinecolor\":\"white\",\"gridwidth\":2},\"zaxis\":{\"backgroundcolor\":\"#E5ECF6\",\"gridcolor\":\"white\",\"linecolor\":\"white\",\"showbackground\":true,\"ticks\":\"\",\"zerolinecolor\":\"white\",\"gridwidth\":2}},\"shapedefaults\":{\"line\":{\"color\":\"#2a3f5f\"}},\"annotationdefaults\":{\"arrowcolor\":\"#2a3f5f\",\"arrowhead\":0,\"arrowwidth\":1},\"geo\":{\"bgcolor\":\"white\",\"landcolor\":\"#E5ECF6\",\"subunitcolor\":\"white\",\"showland\":true,\"showlakes\":true,\"lakecolor\":\"white\"},\"title\":{\"x\":0.05},\"mapbox\":{\"style\":\"light\"}}},\"xaxis\":{\"anchor\":\"y\",\"domain\":[0.0,1.0],\"scaleanchor\":\"y\",\"constrain\":\"domain\"},\"yaxis\":{\"anchor\":\"x\",\"domain\":[0.0,1.0],\"autorange\":\"reversed\",\"constrain\":\"domain\"},\"coloraxis\":{\"colorscale\":[[0.0,\"#0d0887\"],[0.1111111111111111,\"#46039f\"],[0.2222222222222222,\"#7201a8\"],[0.3333333333333333,\"#9c179e\"],[0.4444444444444444,\"#bd3786\"],[0.5555555555555556,\"#d8576b\"],[0.6666666666666666,\"#ed7953\"],[0.7777777777777778,\"#fb9f3a\"],[0.8888888888888888,\"#fdca26\"],[1.0,\"#f0f921\"]]},\"margin\":{\"t\":60}},                        {\"responsive\": true}                    ).then(function(){\n",
       "                            \n",
       "var gd = document.getElementById('2ccd7cb7-0ec6-4823-9720-2ea7d60e8ffa');\n",
       "var x = new MutationObserver(function (mutations, observer) {{\n",
       "        var display = window.getComputedStyle(gd).display;\n",
       "        if (!display || display === 'none') {{\n",
       "            console.log([gd, 'removed!']);\n",
       "            Plotly.purge(gd);\n",
       "            observer.disconnect();\n",
       "        }}\n",
       "}});\n",
       "\n",
       "// Listen for the removal of the full notebook cells\n",
       "var notebookContainer = gd.closest('#notebook-container');\n",
       "if (notebookContainer) {{\n",
       "    x.observe(notebookContainer, {childList: true});\n",
       "}}\n",
       "\n",
       "// Listen for the clearing of the current output cell\n",
       "var outputEl = gd.closest('.output');\n",
       "if (outputEl) {{\n",
       "    x.observe(outputEl, {childList: true});\n",
       "}}\n",
       "\n",
       "                        })                };                });            </script>        </div>"
      ]
     },
     "metadata": {},
     "output_type": "display_data"
    }
   ],
   "source": [
    "import plotly.express as px\n",
    "import pandas as pd\n",
    "import numpy as np\n",
    "\n",
    "for task_name, losses in task_losses.items():\n",
    "    base_loss = losses[1]\n",
    "    losses = losses[0]\n",
    "\n",
    "    task_losses[task_name][0] = [(base_loss - loss) for loss in losses]\n",
    "\n",
    "\n",
    "df = pd.DataFrame([\n",
    "    {\"task\": task_name, \"feature\": feature, \"loss\": loss}\n",
    "    for task_name, losses in task_losses.items()\n",
    "    for feature, loss in zip(features, losses[0])\n",
    "])\n",
    "\n",
    "\n",
    "\n",
    "heatmap = np.zeros((len(task_names), len(features)))\n",
    "\n",
    "for i, task_name in enumerate(task_names):\n",
    "    for j, feature in enumerate(features):\n",
    "        heatmap[i, j] = task_losses[task_name][0][j]\n",
    "\n",
    "fig = px.imshow(heatmap, x=[str(x) for x in features], y=task_names)\n",
    "\n",
    "fig.show()\n"
   ]
  },
  {
   "cell_type": "code",
   "execution_count": 77,
   "metadata": {},
   "outputs": [
    {
     "data": {
      "application/vnd.plotly.v1+json": {
       "config": {
        "plotlyServerURL": "https://plot.ly"
       },
       "data": [
        {
         "coloraxis": "coloraxis",
         "hovertemplate": "x: %{x}<br>y: %{y}<br>color: %{z}<extra></extra>",
         "name": "0",
         "type": "heatmap",
         "x": [
          "9600",
          "23682",
          "32643",
          "31620",
          "27268",
          "27401",
          "6413",
          "24206",
          "12943",
          "16016",
          "9488",
          "13458",
          "14612",
          "19097",
          "7578",
          "16671",
          "19112",
          "7739",
          "8125",
          "32320",
          "6594",
          "7491",
          "15947",
          "5579",
          "15356",
          "16340",
          "24925",
          "30814",
          "4448",
          "26594",
          "11618",
          "6756",
          "6629",
          "5991",
          "16490",
          "2539",
          "26987",
          "6765",
          "18416",
          "2930",
          "2931",
          "22136",
          "6780"
         ],
         "xaxis": "x",
         "y": [
          "en_es",
          "antonyms",
          "person_profession",
          "es_en",
          "present_simple_gerund",
          "present_simple_past_simple",
          "person_profession",
          "person_language",
          "country_capital",
          "football_player_position"
         ],
         "yaxis": "y",
         "z": [
          [
           -5.65625,
           -15.90625,
           -2.84375,
           -7.21875,
           -9.09375,
           -10.03125,
           -1.96875,
           -2.84375,
           -7.78125,
           -5.90625,
           -8.78125,
           -3.40625,
           -6.84375,
           -3.3125,
           -2.28125,
           -6.03125,
           -14.15625,
           -7.40625,
           -5.28125,
           -4.46875,
           -12.78125,
           -11.90625,
           -1.46875,
           -8.03125,
           -3.1875,
           -2.65625,
           -4.21875,
           -4.21875,
           -1.28125,
           -4.84375,
           -6.40625,
           -1.375,
           -5.40625,
           -15.15625,
           -2.8125,
           -6.84375,
           -15.78125,
           -0.84375,
           -4.28125,
           -4.96875,
           -0.5625,
           -4.59375,
           -5.34375
          ],
          [
           -11.44921875,
           -15.13671875,
           0.05078125,
           -10.13671875,
           -4.44921875,
           -6.51171875,
           -4.44921875,
           -5.01171875,
           -6.38671875,
           -8.26171875,
           -9.76171875,
           -2.44921875,
           -4.98046875,
           -9.94921875,
           -5.98046875,
           -8.76171875,
           -11.94921875,
           -9.51171875,
           -8.26171875,
           -4.04296875,
           -13.88671875,
           -10.07421875,
           -1.21484375,
           -6.32421875,
           -3.16796875,
           -1.08984375,
           -1.82421875,
           -3.10546875,
           -3.01171875,
           -5.88671875,
           -10.82421875,
           -4.13671875,
           -3.29296875,
           -7.94921875,
           -2.76171875,
           -6.32421875,
           -7.69921875,
           -1.49609375,
           -2.60546875,
           -6.91796875,
           -3.63671875,
           -12.19921875,
           -4.69921875
          ],
          [
           -8.09375,
           -5.46875,
           -0.84375,
           -8.09375,
           -6.34375,
           -15.53125,
           -6.65625,
           -6.40625,
           -4.5625,
           -5.90625,
           -13.03125,
           -10.65625,
           -2.1875,
           -7.53125,
           -4.96875,
           -14.40625,
           -8.03125,
           -4.375,
           -4.1875,
           -5.15625,
           -13.40625,
           -14.53125,
           -5.84375,
           -4.3125,
           -2.75,
           -1.28125,
           -5.46875,
           -7.84375,
           -2.65625,
           -6.84375,
           -2.9375,
           -5.03125,
           -4.40625,
           -5.84375,
           -2.625,
           -9.59375,
           -5.96875,
           -1.875,
           -10.21875,
           -3.375,
           -0.9375,
           -1.625,
           -7.21875
          ],
          [
           -6.90625,
           -13.90625,
           -1.4375,
           -5.84375,
           -9.28125,
           -12.03125,
           -2.46875,
           -5.46875,
           -7.78125,
           -9.40625,
           -10.09375,
           -5.15625,
           -5.71875,
           -3.75,
           -2.8125,
           -10.46875,
           -10.46875,
           -7.40625,
           -8.03125,
           -2,
           -13.03125,
           -10.78125,
           -2.25,
           -8.34375,
           -5.15625,
           -1.9375,
           -2.8125,
           -4,
           -2.65625,
           -8.03125,
           -4.75,
           -4.21875,
           -7.65625,
           -12.09375,
           -4.40625,
           -11.09375,
           -7.84375,
           -1.5,
           -6.09375,
           -8.78125,
           -2.5,
           -5.0625,
           -5.96875
          ],
          [
           -5.1005859375,
           -18.6318359375,
           -1.5068359375,
           -5.8818359375,
           -13.8818359375,
           -10.0068359375,
           -1.0615234375,
           -2.7255859375,
           -2.1787109375,
           -5.4443359375,
           -12.5068359375,
           -1.6083984375,
           -9.8818359375,
           -2.9599609375,
           -3.3818359375,
           -8.6943359375,
           -10.6318359375,
           -7.4130859375,
           -7.3818359375,
           -4.8505859375,
           -12.8818359375,
           -8.0693359375,
           -0.1298828125,
           -9.5693359375,
           -11.0068359375,
           -1.9287109375,
           -3.9130859375,
           -4.4443359375,
           -2.7255859375,
           -5.5068359375,
           -4.1005859375,
           -1.0068359375,
           -7.7255859375,
           -14.3818359375,
           -3.4287109375,
           -9.1943359375,
           -8.6318359375,
           -0.1396484375,
           -2.8037109375,
           -9.7568359375,
           -3.7255859375,
           -5.7255859375,
           -7.4130859375
          ],
          [
           -5.59375,
           -16.03125,
           -0.796875,
           -3.4375,
           -11.78125,
           -9.90625,
           -1.609375,
           -1.78125,
           -2.6875,
           -3.875,
           -9.40625,
           -1.25,
           -9.15625,
           -3.0625,
           -2.015625,
           -7.15625,
           -9.15625,
           -6.96875,
           -4.75,
           -2.3125,
           -14.90625,
           -6.90625,
           0.0625,
           -6.15625,
           -10.46875,
           -0.2109375,
           -3,
           -3.5,
           -2.84375,
           -4.1875,
           -2.34375,
           -2.28125,
           -5.84375,
           -15.90625,
           -2.671875,
           -11.21875,
           -7.96875,
           -0.15625,
           -2.484375,
           -9.21875,
           -6.125,
           -4.46875,
           -8.84375
          ],
          [
           -8.09375,
           -5.46875,
           -0.84375,
           -8.09375,
           -6.34375,
           -15.53125,
           -6.65625,
           -6.40625,
           -4.5625,
           -5.90625,
           -13.03125,
           -10.65625,
           -2.1875,
           -7.53125,
           -4.96875,
           -14.40625,
           -8.03125,
           -4.375,
           -4.1875,
           -5.15625,
           -13.40625,
           -14.53125,
           -5.84375,
           -4.3125,
           -2.75,
           -1.28125,
           -5.46875,
           -7.84375,
           -2.65625,
           -6.84375,
           -2.9375,
           -5.03125,
           -4.40625,
           -5.84375,
           -2.625,
           -9.59375,
           -5.96875,
           -1.875,
           -10.21875,
           -3.375,
           -0.9375,
           -1.625,
           -7.21875
          ],
          [
           -6.515625,
           -7.453125,
           -0.484375,
           -5.203125,
           -7.453125,
           -11.203125,
           -0.375,
           -3.328125,
           -4.203125,
           -1.984375,
           -7.078125,
           -1.078125,
           -4.703125,
           -2.859375,
           -5.796875,
           -2.171875,
           -12.640625,
           -5.171875,
           -2.578125,
           -3.828125,
           -9.578125,
           -6.015625,
           -1.328125,
           -5.984375,
           -1.1875,
           -2.6875,
           -11.140625,
           -1.5625,
           -0.765625,
           -4.953125,
           -4.234375,
           -3.328125,
           -3.640625,
           -5.796875,
           -1.484375,
           -10.765625,
           -4.796875,
           -0.65625,
           -4.890625,
           -9.703125,
           -2.40625,
           -2.046875,
           -4.546875
          ],
          [
           -1.2421875,
           -13.9921875,
           -2.0234375,
           -5.9296875,
           -6.8046875,
           -5.3671875,
           -3.0234375,
           -4.7734375,
           -1.9140625,
           -6.8046875,
           -9.0546875,
           -5.1796875,
           -8.6171875,
           -1.4609375,
           -7.8046875,
           -3.8984375,
           -10.9296875,
           -4.3984375,
           -7.4921875,
           -2.1796875,
           -3.8359375,
           -7.0546875,
           -1.1484375,
           -4.9921875,
           -2.3984375,
           -2.3203125,
           -8.6796875,
           -6.1484375,
           -2.3359375,
           -6.4296875,
           -5.0859375,
           -3.0546875,
           -1.7109375,
           -8.1171875,
           -2.2109375,
           -11.3671875,
           -6.9296875,
           -1.5078125,
           -3.1484375,
           -7.1796875,
           -1.4609375,
           -4.3984375,
           -10.9296875
          ],
          [
           -9.625,
           -8.5625,
           -1.3125,
           -7.5625,
           -6.6875,
           -14.6875,
           -8.6875,
           -6.5625,
           -5.5625,
           -7.9375,
           -11.75,
           -6.875,
           -6.5625,
           -5.875,
           -6.1875,
           -14.5625,
           -9.9375,
           -5.28125,
           -7.5,
           -7.0625,
           -16.9375,
           -14.5625,
           -6.25,
           -4.96875,
           -6.125,
           -3.46875,
           -7.25,
           -8.3125,
           -8,
           -7.625,
           -3.75,
           -7.4375,
           -2.875,
           -7.9375,
           -5.53125,
           -7.25,
           -7.9375,
           -2.5,
           -11.1875,
           -7.0625,
           -3.03125,
           -3.71875,
           -6.5625
          ]
         ]
        }
       ],
       "layout": {
        "coloraxis": {
         "colorscale": [
          [
           0,
           "#0d0887"
          ],
          [
           0.1111111111111111,
           "#46039f"
          ],
          [
           0.2222222222222222,
           "#7201a8"
          ],
          [
           0.3333333333333333,
           "#9c179e"
          ],
          [
           0.4444444444444444,
           "#bd3786"
          ],
          [
           0.5555555555555556,
           "#d8576b"
          ],
          [
           0.6666666666666666,
           "#ed7953"
          ],
          [
           0.7777777777777778,
           "#fb9f3a"
          ],
          [
           0.8888888888888888,
           "#fdca26"
          ],
          [
           1,
           "#f0f921"
          ]
         ]
        },
        "margin": {
         "t": 60
        },
        "template": {
         "data": {
          "bar": [
           {
            "error_x": {
             "color": "#2a3f5f"
            },
            "error_y": {
             "color": "#2a3f5f"
            },
            "marker": {
             "line": {
              "color": "#E5ECF6",
              "width": 0.5
             },
             "pattern": {
              "fillmode": "overlay",
              "size": 10,
              "solidity": 0.2
             }
            },
            "type": "bar"
           }
          ],
          "barpolar": [
           {
            "marker": {
             "line": {
              "color": "#E5ECF6",
              "width": 0.5
             },
             "pattern": {
              "fillmode": "overlay",
              "size": 10,
              "solidity": 0.2
             }
            },
            "type": "barpolar"
           }
          ],
          "carpet": [
           {
            "aaxis": {
             "endlinecolor": "#2a3f5f",
             "gridcolor": "white",
             "linecolor": "white",
             "minorgridcolor": "white",
             "startlinecolor": "#2a3f5f"
            },
            "baxis": {
             "endlinecolor": "#2a3f5f",
             "gridcolor": "white",
             "linecolor": "white",
             "minorgridcolor": "white",
             "startlinecolor": "#2a3f5f"
            },
            "type": "carpet"
           }
          ],
          "choropleth": [
           {
            "colorbar": {
             "outlinewidth": 0,
             "ticks": ""
            },
            "type": "choropleth"
           }
          ],
          "contour": [
           {
            "colorbar": {
             "outlinewidth": 0,
             "ticks": ""
            },
            "colorscale": [
             [
              0,
              "#0d0887"
             ],
             [
              0.1111111111111111,
              "#46039f"
             ],
             [
              0.2222222222222222,
              "#7201a8"
             ],
             [
              0.3333333333333333,
              "#9c179e"
             ],
             [
              0.4444444444444444,
              "#bd3786"
             ],
             [
              0.5555555555555556,
              "#d8576b"
             ],
             [
              0.6666666666666666,
              "#ed7953"
             ],
             [
              0.7777777777777778,
              "#fb9f3a"
             ],
             [
              0.8888888888888888,
              "#fdca26"
             ],
             [
              1,
              "#f0f921"
             ]
            ],
            "type": "contour"
           }
          ],
          "contourcarpet": [
           {
            "colorbar": {
             "outlinewidth": 0,
             "ticks": ""
            },
            "type": "contourcarpet"
           }
          ],
          "heatmap": [
           {
            "colorbar": {
             "outlinewidth": 0,
             "ticks": ""
            },
            "colorscale": [
             [
              0,
              "#0d0887"
             ],
             [
              0.1111111111111111,
              "#46039f"
             ],
             [
              0.2222222222222222,
              "#7201a8"
             ],
             [
              0.3333333333333333,
              "#9c179e"
             ],
             [
              0.4444444444444444,
              "#bd3786"
             ],
             [
              0.5555555555555556,
              "#d8576b"
             ],
             [
              0.6666666666666666,
              "#ed7953"
             ],
             [
              0.7777777777777778,
              "#fb9f3a"
             ],
             [
              0.8888888888888888,
              "#fdca26"
             ],
             [
              1,
              "#f0f921"
             ]
            ],
            "type": "heatmap"
           }
          ],
          "heatmapgl": [
           {
            "colorbar": {
             "outlinewidth": 0,
             "ticks": ""
            },
            "colorscale": [
             [
              0,
              "#0d0887"
             ],
             [
              0.1111111111111111,
              "#46039f"
             ],
             [
              0.2222222222222222,
              "#7201a8"
             ],
             [
              0.3333333333333333,
              "#9c179e"
             ],
             [
              0.4444444444444444,
              "#bd3786"
             ],
             [
              0.5555555555555556,
              "#d8576b"
             ],
             [
              0.6666666666666666,
              "#ed7953"
             ],
             [
              0.7777777777777778,
              "#fb9f3a"
             ],
             [
              0.8888888888888888,
              "#fdca26"
             ],
             [
              1,
              "#f0f921"
             ]
            ],
            "type": "heatmapgl"
           }
          ],
          "histogram": [
           {
            "marker": {
             "pattern": {
              "fillmode": "overlay",
              "size": 10,
              "solidity": 0.2
             }
            },
            "type": "histogram"
           }
          ],
          "histogram2d": [
           {
            "colorbar": {
             "outlinewidth": 0,
             "ticks": ""
            },
            "colorscale": [
             [
              0,
              "#0d0887"
             ],
             [
              0.1111111111111111,
              "#46039f"
             ],
             [
              0.2222222222222222,
              "#7201a8"
             ],
             [
              0.3333333333333333,
              "#9c179e"
             ],
             [
              0.4444444444444444,
              "#bd3786"
             ],
             [
              0.5555555555555556,
              "#d8576b"
             ],
             [
              0.6666666666666666,
              "#ed7953"
             ],
             [
              0.7777777777777778,
              "#fb9f3a"
             ],
             [
              0.8888888888888888,
              "#fdca26"
             ],
             [
              1,
              "#f0f921"
             ]
            ],
            "type": "histogram2d"
           }
          ],
          "histogram2dcontour": [
           {
            "colorbar": {
             "outlinewidth": 0,
             "ticks": ""
            },
            "colorscale": [
             [
              0,
              "#0d0887"
             ],
             [
              0.1111111111111111,
              "#46039f"
             ],
             [
              0.2222222222222222,
              "#7201a8"
             ],
             [
              0.3333333333333333,
              "#9c179e"
             ],
             [
              0.4444444444444444,
              "#bd3786"
             ],
             [
              0.5555555555555556,
              "#d8576b"
             ],
             [
              0.6666666666666666,
              "#ed7953"
             ],
             [
              0.7777777777777778,
              "#fb9f3a"
             ],
             [
              0.8888888888888888,
              "#fdca26"
             ],
             [
              1,
              "#f0f921"
             ]
            ],
            "type": "histogram2dcontour"
           }
          ],
          "mesh3d": [
           {
            "colorbar": {
             "outlinewidth": 0,
             "ticks": ""
            },
            "type": "mesh3d"
           }
          ],
          "parcoords": [
           {
            "line": {
             "colorbar": {
              "outlinewidth": 0,
              "ticks": ""
             }
            },
            "type": "parcoords"
           }
          ],
          "pie": [
           {
            "automargin": true,
            "type": "pie"
           }
          ],
          "scatter": [
           {
            "fillpattern": {
             "fillmode": "overlay",
             "size": 10,
             "solidity": 0.2
            },
            "type": "scatter"
           }
          ],
          "scatter3d": [
           {
            "line": {
             "colorbar": {
              "outlinewidth": 0,
              "ticks": ""
             }
            },
            "marker": {
             "colorbar": {
              "outlinewidth": 0,
              "ticks": ""
             }
            },
            "type": "scatter3d"
           }
          ],
          "scattercarpet": [
           {
            "marker": {
             "colorbar": {
              "outlinewidth": 0,
              "ticks": ""
             }
            },
            "type": "scattercarpet"
           }
          ],
          "scattergeo": [
           {
            "marker": {
             "colorbar": {
              "outlinewidth": 0,
              "ticks": ""
             }
            },
            "type": "scattergeo"
           }
          ],
          "scattergl": [
           {
            "marker": {
             "colorbar": {
              "outlinewidth": 0,
              "ticks": ""
             }
            },
            "type": "scattergl"
           }
          ],
          "scattermapbox": [
           {
            "marker": {
             "colorbar": {
              "outlinewidth": 0,
              "ticks": ""
             }
            },
            "type": "scattermapbox"
           }
          ],
          "scatterpolar": [
           {
            "marker": {
             "colorbar": {
              "outlinewidth": 0,
              "ticks": ""
             }
            },
            "type": "scatterpolar"
           }
          ],
          "scatterpolargl": [
           {
            "marker": {
             "colorbar": {
              "outlinewidth": 0,
              "ticks": ""
             }
            },
            "type": "scatterpolargl"
           }
          ],
          "scatterternary": [
           {
            "marker": {
             "colorbar": {
              "outlinewidth": 0,
              "ticks": ""
             }
            },
            "type": "scatterternary"
           }
          ],
          "surface": [
           {
            "colorbar": {
             "outlinewidth": 0,
             "ticks": ""
            },
            "colorscale": [
             [
              0,
              "#0d0887"
             ],
             [
              0.1111111111111111,
              "#46039f"
             ],
             [
              0.2222222222222222,
              "#7201a8"
             ],
             [
              0.3333333333333333,
              "#9c179e"
             ],
             [
              0.4444444444444444,
              "#bd3786"
             ],
             [
              0.5555555555555556,
              "#d8576b"
             ],
             [
              0.6666666666666666,
              "#ed7953"
             ],
             [
              0.7777777777777778,
              "#fb9f3a"
             ],
             [
              0.8888888888888888,
              "#fdca26"
             ],
             [
              1,
              "#f0f921"
             ]
            ],
            "type": "surface"
           }
          ],
          "table": [
           {
            "cells": {
             "fill": {
              "color": "#EBF0F8"
             },
             "line": {
              "color": "white"
             }
            },
            "header": {
             "fill": {
              "color": "#C8D4E3"
             },
             "line": {
              "color": "white"
             }
            },
            "type": "table"
           }
          ]
         },
         "layout": {
          "annotationdefaults": {
           "arrowcolor": "#2a3f5f",
           "arrowhead": 0,
           "arrowwidth": 1
          },
          "autotypenumbers": "strict",
          "coloraxis": {
           "colorbar": {
            "outlinewidth": 0,
            "ticks": ""
           }
          },
          "colorscale": {
           "diverging": [
            [
             0,
             "#8e0152"
            ],
            [
             0.1,
             "#c51b7d"
            ],
            [
             0.2,
             "#de77ae"
            ],
            [
             0.3,
             "#f1b6da"
            ],
            [
             0.4,
             "#fde0ef"
            ],
            [
             0.5,
             "#f7f7f7"
            ],
            [
             0.6,
             "#e6f5d0"
            ],
            [
             0.7,
             "#b8e186"
            ],
            [
             0.8,
             "#7fbc41"
            ],
            [
             0.9,
             "#4d9221"
            ],
            [
             1,
             "#276419"
            ]
           ],
           "sequential": [
            [
             0,
             "#0d0887"
            ],
            [
             0.1111111111111111,
             "#46039f"
            ],
            [
             0.2222222222222222,
             "#7201a8"
            ],
            [
             0.3333333333333333,
             "#9c179e"
            ],
            [
             0.4444444444444444,
             "#bd3786"
            ],
            [
             0.5555555555555556,
             "#d8576b"
            ],
            [
             0.6666666666666666,
             "#ed7953"
            ],
            [
             0.7777777777777778,
             "#fb9f3a"
            ],
            [
             0.8888888888888888,
             "#fdca26"
            ],
            [
             1,
             "#f0f921"
            ]
           ],
           "sequentialminus": [
            [
             0,
             "#0d0887"
            ],
            [
             0.1111111111111111,
             "#46039f"
            ],
            [
             0.2222222222222222,
             "#7201a8"
            ],
            [
             0.3333333333333333,
             "#9c179e"
            ],
            [
             0.4444444444444444,
             "#bd3786"
            ],
            [
             0.5555555555555556,
             "#d8576b"
            ],
            [
             0.6666666666666666,
             "#ed7953"
            ],
            [
             0.7777777777777778,
             "#fb9f3a"
            ],
            [
             0.8888888888888888,
             "#fdca26"
            ],
            [
             1,
             "#f0f921"
            ]
           ]
          },
          "colorway": [
           "#636efa",
           "#EF553B",
           "#00cc96",
           "#ab63fa",
           "#FFA15A",
           "#19d3f3",
           "#FF6692",
           "#B6E880",
           "#FF97FF",
           "#FECB52"
          ],
          "font": {
           "color": "#2a3f5f"
          },
          "geo": {
           "bgcolor": "white",
           "lakecolor": "white",
           "landcolor": "#E5ECF6",
           "showlakes": true,
           "showland": true,
           "subunitcolor": "white"
          },
          "hoverlabel": {
           "align": "left"
          },
          "hovermode": "closest",
          "mapbox": {
           "style": "light"
          },
          "paper_bgcolor": "white",
          "plot_bgcolor": "#E5ECF6",
          "polar": {
           "angularaxis": {
            "gridcolor": "white",
            "linecolor": "white",
            "ticks": ""
           },
           "bgcolor": "#E5ECF6",
           "radialaxis": {
            "gridcolor": "white",
            "linecolor": "white",
            "ticks": ""
           }
          },
          "scene": {
           "xaxis": {
            "backgroundcolor": "#E5ECF6",
            "gridcolor": "white",
            "gridwidth": 2,
            "linecolor": "white",
            "showbackground": true,
            "ticks": "",
            "zerolinecolor": "white"
           },
           "yaxis": {
            "backgroundcolor": "#E5ECF6",
            "gridcolor": "white",
            "gridwidth": 2,
            "linecolor": "white",
            "showbackground": true,
            "ticks": "",
            "zerolinecolor": "white"
           },
           "zaxis": {
            "backgroundcolor": "#E5ECF6",
            "gridcolor": "white",
            "gridwidth": 2,
            "linecolor": "white",
            "showbackground": true,
            "ticks": "",
            "zerolinecolor": "white"
           }
          },
          "shapedefaults": {
           "line": {
            "color": "#2a3f5f"
           }
          },
          "ternary": {
           "aaxis": {
            "gridcolor": "white",
            "linecolor": "white",
            "ticks": ""
           },
           "baxis": {
            "gridcolor": "white",
            "linecolor": "white",
            "ticks": ""
           },
           "bgcolor": "#E5ECF6",
           "caxis": {
            "gridcolor": "white",
            "linecolor": "white",
            "ticks": ""
           }
          },
          "title": {
           "x": 0.05
          },
          "xaxis": {
           "automargin": true,
           "gridcolor": "white",
           "linecolor": "white",
           "ticks": "",
           "title": {
            "standoff": 15
           },
           "zerolinecolor": "white",
           "zerolinewidth": 2
          },
          "yaxis": {
           "automargin": true,
           "gridcolor": "white",
           "linecolor": "white",
           "ticks": "",
           "title": {
            "standoff": 15
           },
           "zerolinecolor": "white",
           "zerolinewidth": 2
          }
         }
        },
        "xaxis": {
         "anchor": "y",
         "constrain": "domain",
         "domain": [
          0,
          1
         ],
         "scaleanchor": "y"
        },
        "yaxis": {
         "anchor": "x",
         "autorange": "reversed",
         "constrain": "domain",
         "domain": [
          0,
          1
         ]
        }
       }
      },
      "text/html": [
       "<div>                            <div id=\"9f5142e7-e716-491e-a210-f6deb76e450f\" class=\"plotly-graph-div\" style=\"height:525px; width:100%;\"></div>            <script type=\"text/javascript\">                require([\"plotly\"], function(Plotly) {                    window.PLOTLYENV=window.PLOTLYENV || {};                                    if (document.getElementById(\"9f5142e7-e716-491e-a210-f6deb76e450f\")) {                    Plotly.newPlot(                        \"9f5142e7-e716-491e-a210-f6deb76e450f\",                        [{\"coloraxis\":\"coloraxis\",\"name\":\"0\",\"x\":[\"9600\",\"23682\",\"32643\",\"31620\",\"27268\",\"27401\",\"6413\",\"24206\",\"12943\",\"16016\",\"9488\",\"13458\",\"14612\",\"19097\",\"7578\",\"16671\",\"19112\",\"7739\",\"8125\",\"32320\",\"6594\",\"7491\",\"15947\",\"5579\",\"15356\",\"16340\",\"24925\",\"30814\",\"4448\",\"26594\",\"11618\",\"6756\",\"6629\",\"5991\",\"16490\",\"2539\",\"26987\",\"6765\",\"18416\",\"2930\",\"2931\",\"22136\",\"6780\"],\"y\":[\"en_es\",\"antonyms\",\"person_profession\",\"es_en\",\"present_simple_gerund\",\"present_simple_past_simple\",\"person_profession\",\"person_language\",\"country_capital\",\"football_player_position\"],\"z\":[[-5.65625,-15.90625,-2.84375,-7.21875,-9.09375,-10.03125,-1.96875,-2.84375,-7.78125,-5.90625,-8.78125,-3.40625,-6.84375,-3.3125,-2.28125,-6.03125,-14.15625,-7.40625,-5.28125,-4.46875,-12.78125,-11.90625,-1.46875,-8.03125,-3.1875,-2.65625,-4.21875,-4.21875,-1.28125,-4.84375,-6.40625,-1.375,-5.40625,-15.15625,-2.8125,-6.84375,-15.78125,-0.84375,-4.28125,-4.96875,-0.5625,-4.59375,-5.34375],[-11.44921875,-15.13671875,0.05078125,-10.13671875,-4.44921875,-6.51171875,-4.44921875,-5.01171875,-6.38671875,-8.26171875,-9.76171875,-2.44921875,-4.98046875,-9.94921875,-5.98046875,-8.76171875,-11.94921875,-9.51171875,-8.26171875,-4.04296875,-13.88671875,-10.07421875,-1.21484375,-6.32421875,-3.16796875,-1.08984375,-1.82421875,-3.10546875,-3.01171875,-5.88671875,-10.82421875,-4.13671875,-3.29296875,-7.94921875,-2.76171875,-6.32421875,-7.69921875,-1.49609375,-2.60546875,-6.91796875,-3.63671875,-12.19921875,-4.69921875],[-8.09375,-5.46875,-0.84375,-8.09375,-6.34375,-15.53125,-6.65625,-6.40625,-4.5625,-5.90625,-13.03125,-10.65625,-2.1875,-7.53125,-4.96875,-14.40625,-8.03125,-4.375,-4.1875,-5.15625,-13.40625,-14.53125,-5.84375,-4.3125,-2.75,-1.28125,-5.46875,-7.84375,-2.65625,-6.84375,-2.9375,-5.03125,-4.40625,-5.84375,-2.625,-9.59375,-5.96875,-1.875,-10.21875,-3.375,-0.9375,-1.625,-7.21875],[-6.90625,-13.90625,-1.4375,-5.84375,-9.28125,-12.03125,-2.46875,-5.46875,-7.78125,-9.40625,-10.09375,-5.15625,-5.71875,-3.75,-2.8125,-10.46875,-10.46875,-7.40625,-8.03125,-2.0,-13.03125,-10.78125,-2.25,-8.34375,-5.15625,-1.9375,-2.8125,-4.0,-2.65625,-8.03125,-4.75,-4.21875,-7.65625,-12.09375,-4.40625,-11.09375,-7.84375,-1.5,-6.09375,-8.78125,-2.5,-5.0625,-5.96875],[-5.1005859375,-18.6318359375,-1.5068359375,-5.8818359375,-13.8818359375,-10.0068359375,-1.0615234375,-2.7255859375,-2.1787109375,-5.4443359375,-12.5068359375,-1.6083984375,-9.8818359375,-2.9599609375,-3.3818359375,-8.6943359375,-10.6318359375,-7.4130859375,-7.3818359375,-4.8505859375,-12.8818359375,-8.0693359375,-0.1298828125,-9.5693359375,-11.0068359375,-1.9287109375,-3.9130859375,-4.4443359375,-2.7255859375,-5.5068359375,-4.1005859375,-1.0068359375,-7.7255859375,-14.3818359375,-3.4287109375,-9.1943359375,-8.6318359375,-0.1396484375,-2.8037109375,-9.7568359375,-3.7255859375,-5.7255859375,-7.4130859375],[-5.59375,-16.03125,-0.796875,-3.4375,-11.78125,-9.90625,-1.609375,-1.78125,-2.6875,-3.875,-9.40625,-1.25,-9.15625,-3.0625,-2.015625,-7.15625,-9.15625,-6.96875,-4.75,-2.3125,-14.90625,-6.90625,0.0625,-6.15625,-10.46875,-0.2109375,-3.0,-3.5,-2.84375,-4.1875,-2.34375,-2.28125,-5.84375,-15.90625,-2.671875,-11.21875,-7.96875,-0.15625,-2.484375,-9.21875,-6.125,-4.46875,-8.84375],[-8.09375,-5.46875,-0.84375,-8.09375,-6.34375,-15.53125,-6.65625,-6.40625,-4.5625,-5.90625,-13.03125,-10.65625,-2.1875,-7.53125,-4.96875,-14.40625,-8.03125,-4.375,-4.1875,-5.15625,-13.40625,-14.53125,-5.84375,-4.3125,-2.75,-1.28125,-5.46875,-7.84375,-2.65625,-6.84375,-2.9375,-5.03125,-4.40625,-5.84375,-2.625,-9.59375,-5.96875,-1.875,-10.21875,-3.375,-0.9375,-1.625,-7.21875],[-6.515625,-7.453125,-0.484375,-5.203125,-7.453125,-11.203125,-0.375,-3.328125,-4.203125,-1.984375,-7.078125,-1.078125,-4.703125,-2.859375,-5.796875,-2.171875,-12.640625,-5.171875,-2.578125,-3.828125,-9.578125,-6.015625,-1.328125,-5.984375,-1.1875,-2.6875,-11.140625,-1.5625,-0.765625,-4.953125,-4.234375,-3.328125,-3.640625,-5.796875,-1.484375,-10.765625,-4.796875,-0.65625,-4.890625,-9.703125,-2.40625,-2.046875,-4.546875],[-1.2421875,-13.9921875,-2.0234375,-5.9296875,-6.8046875,-5.3671875,-3.0234375,-4.7734375,-1.9140625,-6.8046875,-9.0546875,-5.1796875,-8.6171875,-1.4609375,-7.8046875,-3.8984375,-10.9296875,-4.3984375,-7.4921875,-2.1796875,-3.8359375,-7.0546875,-1.1484375,-4.9921875,-2.3984375,-2.3203125,-8.6796875,-6.1484375,-2.3359375,-6.4296875,-5.0859375,-3.0546875,-1.7109375,-8.1171875,-2.2109375,-11.3671875,-6.9296875,-1.5078125,-3.1484375,-7.1796875,-1.4609375,-4.3984375,-10.9296875],[-9.625,-8.5625,-1.3125,-7.5625,-6.6875,-14.6875,-8.6875,-6.5625,-5.5625,-7.9375,-11.75,-6.875,-6.5625,-5.875,-6.1875,-14.5625,-9.9375,-5.28125,-7.5,-7.0625,-16.9375,-14.5625,-6.25,-4.96875,-6.125,-3.46875,-7.25,-8.3125,-8.0,-7.625,-3.75,-7.4375,-2.875,-7.9375,-5.53125,-7.25,-7.9375,-2.5,-11.1875,-7.0625,-3.03125,-3.71875,-6.5625]],\"type\":\"heatmap\",\"xaxis\":\"x\",\"yaxis\":\"y\",\"hovertemplate\":\"x: %{x}\\u003cbr\\u003ey: %{y}\\u003cbr\\u003ecolor: %{z}\\u003cextra\\u003e\\u003c\\u002fextra\\u003e\"}],                        {\"template\":{\"data\":{\"histogram2dcontour\":[{\"type\":\"histogram2dcontour\",\"colorbar\":{\"outlinewidth\":0,\"ticks\":\"\"},\"colorscale\":[[0.0,\"#0d0887\"],[0.1111111111111111,\"#46039f\"],[0.2222222222222222,\"#7201a8\"],[0.3333333333333333,\"#9c179e\"],[0.4444444444444444,\"#bd3786\"],[0.5555555555555556,\"#d8576b\"],[0.6666666666666666,\"#ed7953\"],[0.7777777777777778,\"#fb9f3a\"],[0.8888888888888888,\"#fdca26\"],[1.0,\"#f0f921\"]]}],\"choropleth\":[{\"type\":\"choropleth\",\"colorbar\":{\"outlinewidth\":0,\"ticks\":\"\"}}],\"histogram2d\":[{\"type\":\"histogram2d\",\"colorbar\":{\"outlinewidth\":0,\"ticks\":\"\"},\"colorscale\":[[0.0,\"#0d0887\"],[0.1111111111111111,\"#46039f\"],[0.2222222222222222,\"#7201a8\"],[0.3333333333333333,\"#9c179e\"],[0.4444444444444444,\"#bd3786\"],[0.5555555555555556,\"#d8576b\"],[0.6666666666666666,\"#ed7953\"],[0.7777777777777778,\"#fb9f3a\"],[0.8888888888888888,\"#fdca26\"],[1.0,\"#f0f921\"]]}],\"heatmap\":[{\"type\":\"heatmap\",\"colorbar\":{\"outlinewidth\":0,\"ticks\":\"\"},\"colorscale\":[[0.0,\"#0d0887\"],[0.1111111111111111,\"#46039f\"],[0.2222222222222222,\"#7201a8\"],[0.3333333333333333,\"#9c179e\"],[0.4444444444444444,\"#bd3786\"],[0.5555555555555556,\"#d8576b\"],[0.6666666666666666,\"#ed7953\"],[0.7777777777777778,\"#fb9f3a\"],[0.8888888888888888,\"#fdca26\"],[1.0,\"#f0f921\"]]}],\"heatmapgl\":[{\"type\":\"heatmapgl\",\"colorbar\":{\"outlinewidth\":0,\"ticks\":\"\"},\"colorscale\":[[0.0,\"#0d0887\"],[0.1111111111111111,\"#46039f\"],[0.2222222222222222,\"#7201a8\"],[0.3333333333333333,\"#9c179e\"],[0.4444444444444444,\"#bd3786\"],[0.5555555555555556,\"#d8576b\"],[0.6666666666666666,\"#ed7953\"],[0.7777777777777778,\"#fb9f3a\"],[0.8888888888888888,\"#fdca26\"],[1.0,\"#f0f921\"]]}],\"contourcarpet\":[{\"type\":\"contourcarpet\",\"colorbar\":{\"outlinewidth\":0,\"ticks\":\"\"}}],\"contour\":[{\"type\":\"contour\",\"colorbar\":{\"outlinewidth\":0,\"ticks\":\"\"},\"colorscale\":[[0.0,\"#0d0887\"],[0.1111111111111111,\"#46039f\"],[0.2222222222222222,\"#7201a8\"],[0.3333333333333333,\"#9c179e\"],[0.4444444444444444,\"#bd3786\"],[0.5555555555555556,\"#d8576b\"],[0.6666666666666666,\"#ed7953\"],[0.7777777777777778,\"#fb9f3a\"],[0.8888888888888888,\"#fdca26\"],[1.0,\"#f0f921\"]]}],\"surface\":[{\"type\":\"surface\",\"colorbar\":{\"outlinewidth\":0,\"ticks\":\"\"},\"colorscale\":[[0.0,\"#0d0887\"],[0.1111111111111111,\"#46039f\"],[0.2222222222222222,\"#7201a8\"],[0.3333333333333333,\"#9c179e\"],[0.4444444444444444,\"#bd3786\"],[0.5555555555555556,\"#d8576b\"],[0.6666666666666666,\"#ed7953\"],[0.7777777777777778,\"#fb9f3a\"],[0.8888888888888888,\"#fdca26\"],[1.0,\"#f0f921\"]]}],\"mesh3d\":[{\"type\":\"mesh3d\",\"colorbar\":{\"outlinewidth\":0,\"ticks\":\"\"}}],\"scatter\":[{\"fillpattern\":{\"fillmode\":\"overlay\",\"size\":10,\"solidity\":0.2},\"type\":\"scatter\"}],\"parcoords\":[{\"type\":\"parcoords\",\"line\":{\"colorbar\":{\"outlinewidth\":0,\"ticks\":\"\"}}}],\"scatterpolargl\":[{\"type\":\"scatterpolargl\",\"marker\":{\"colorbar\":{\"outlinewidth\":0,\"ticks\":\"\"}}}],\"bar\":[{\"error_x\":{\"color\":\"#2a3f5f\"},\"error_y\":{\"color\":\"#2a3f5f\"},\"marker\":{\"line\":{\"color\":\"#E5ECF6\",\"width\":0.5},\"pattern\":{\"fillmode\":\"overlay\",\"size\":10,\"solidity\":0.2}},\"type\":\"bar\"}],\"scattergeo\":[{\"type\":\"scattergeo\",\"marker\":{\"colorbar\":{\"outlinewidth\":0,\"ticks\":\"\"}}}],\"scatterpolar\":[{\"type\":\"scatterpolar\",\"marker\":{\"colorbar\":{\"outlinewidth\":0,\"ticks\":\"\"}}}],\"histogram\":[{\"marker\":{\"pattern\":{\"fillmode\":\"overlay\",\"size\":10,\"solidity\":0.2}},\"type\":\"histogram\"}],\"scattergl\":[{\"type\":\"scattergl\",\"marker\":{\"colorbar\":{\"outlinewidth\":0,\"ticks\":\"\"}}}],\"scatter3d\":[{\"type\":\"scatter3d\",\"line\":{\"colorbar\":{\"outlinewidth\":0,\"ticks\":\"\"}},\"marker\":{\"colorbar\":{\"outlinewidth\":0,\"ticks\":\"\"}}}],\"scattermapbox\":[{\"type\":\"scattermapbox\",\"marker\":{\"colorbar\":{\"outlinewidth\":0,\"ticks\":\"\"}}}],\"scatterternary\":[{\"type\":\"scatterternary\",\"marker\":{\"colorbar\":{\"outlinewidth\":0,\"ticks\":\"\"}}}],\"scattercarpet\":[{\"type\":\"scattercarpet\",\"marker\":{\"colorbar\":{\"outlinewidth\":0,\"ticks\":\"\"}}}],\"carpet\":[{\"aaxis\":{\"endlinecolor\":\"#2a3f5f\",\"gridcolor\":\"white\",\"linecolor\":\"white\",\"minorgridcolor\":\"white\",\"startlinecolor\":\"#2a3f5f\"},\"baxis\":{\"endlinecolor\":\"#2a3f5f\",\"gridcolor\":\"white\",\"linecolor\":\"white\",\"minorgridcolor\":\"white\",\"startlinecolor\":\"#2a3f5f\"},\"type\":\"carpet\"}],\"table\":[{\"cells\":{\"fill\":{\"color\":\"#EBF0F8\"},\"line\":{\"color\":\"white\"}},\"header\":{\"fill\":{\"color\":\"#C8D4E3\"},\"line\":{\"color\":\"white\"}},\"type\":\"table\"}],\"barpolar\":[{\"marker\":{\"line\":{\"color\":\"#E5ECF6\",\"width\":0.5},\"pattern\":{\"fillmode\":\"overlay\",\"size\":10,\"solidity\":0.2}},\"type\":\"barpolar\"}],\"pie\":[{\"automargin\":true,\"type\":\"pie\"}]},\"layout\":{\"autotypenumbers\":\"strict\",\"colorway\":[\"#636efa\",\"#EF553B\",\"#00cc96\",\"#ab63fa\",\"#FFA15A\",\"#19d3f3\",\"#FF6692\",\"#B6E880\",\"#FF97FF\",\"#FECB52\"],\"font\":{\"color\":\"#2a3f5f\"},\"hovermode\":\"closest\",\"hoverlabel\":{\"align\":\"left\"},\"paper_bgcolor\":\"white\",\"plot_bgcolor\":\"#E5ECF6\",\"polar\":{\"bgcolor\":\"#E5ECF6\",\"angularaxis\":{\"gridcolor\":\"white\",\"linecolor\":\"white\",\"ticks\":\"\"},\"radialaxis\":{\"gridcolor\":\"white\",\"linecolor\":\"white\",\"ticks\":\"\"}},\"ternary\":{\"bgcolor\":\"#E5ECF6\",\"aaxis\":{\"gridcolor\":\"white\",\"linecolor\":\"white\",\"ticks\":\"\"},\"baxis\":{\"gridcolor\":\"white\",\"linecolor\":\"white\",\"ticks\":\"\"},\"caxis\":{\"gridcolor\":\"white\",\"linecolor\":\"white\",\"ticks\":\"\"}},\"coloraxis\":{\"colorbar\":{\"outlinewidth\":0,\"ticks\":\"\"}},\"colorscale\":{\"sequential\":[[0.0,\"#0d0887\"],[0.1111111111111111,\"#46039f\"],[0.2222222222222222,\"#7201a8\"],[0.3333333333333333,\"#9c179e\"],[0.4444444444444444,\"#bd3786\"],[0.5555555555555556,\"#d8576b\"],[0.6666666666666666,\"#ed7953\"],[0.7777777777777778,\"#fb9f3a\"],[0.8888888888888888,\"#fdca26\"],[1.0,\"#f0f921\"]],\"sequentialminus\":[[0.0,\"#0d0887\"],[0.1111111111111111,\"#46039f\"],[0.2222222222222222,\"#7201a8\"],[0.3333333333333333,\"#9c179e\"],[0.4444444444444444,\"#bd3786\"],[0.5555555555555556,\"#d8576b\"],[0.6666666666666666,\"#ed7953\"],[0.7777777777777778,\"#fb9f3a\"],[0.8888888888888888,\"#fdca26\"],[1.0,\"#f0f921\"]],\"diverging\":[[0,\"#8e0152\"],[0.1,\"#c51b7d\"],[0.2,\"#de77ae\"],[0.3,\"#f1b6da\"],[0.4,\"#fde0ef\"],[0.5,\"#f7f7f7\"],[0.6,\"#e6f5d0\"],[0.7,\"#b8e186\"],[0.8,\"#7fbc41\"],[0.9,\"#4d9221\"],[1,\"#276419\"]]},\"xaxis\":{\"gridcolor\":\"white\",\"linecolor\":\"white\",\"ticks\":\"\",\"title\":{\"standoff\":15},\"zerolinecolor\":\"white\",\"automargin\":true,\"zerolinewidth\":2},\"yaxis\":{\"gridcolor\":\"white\",\"linecolor\":\"white\",\"ticks\":\"\",\"title\":{\"standoff\":15},\"zerolinecolor\":\"white\",\"automargin\":true,\"zerolinewidth\":2},\"scene\":{\"xaxis\":{\"backgroundcolor\":\"#E5ECF6\",\"gridcolor\":\"white\",\"linecolor\":\"white\",\"showbackground\":true,\"ticks\":\"\",\"zerolinecolor\":\"white\",\"gridwidth\":2},\"yaxis\":{\"backgroundcolor\":\"#E5ECF6\",\"gridcolor\":\"white\",\"linecolor\":\"white\",\"showbackground\":true,\"ticks\":\"\",\"zerolinecolor\":\"white\",\"gridwidth\":2},\"zaxis\":{\"backgroundcolor\":\"#E5ECF6\",\"gridcolor\":\"white\",\"linecolor\":\"white\",\"showbackground\":true,\"ticks\":\"\",\"zerolinecolor\":\"white\",\"gridwidth\":2}},\"shapedefaults\":{\"line\":{\"color\":\"#2a3f5f\"}},\"annotationdefaults\":{\"arrowcolor\":\"#2a3f5f\",\"arrowhead\":0,\"arrowwidth\":1},\"geo\":{\"bgcolor\":\"white\",\"landcolor\":\"#E5ECF6\",\"subunitcolor\":\"white\",\"showland\":true,\"showlakes\":true,\"lakecolor\":\"white\"},\"title\":{\"x\":0.05},\"mapbox\":{\"style\":\"light\"}}},\"xaxis\":{\"anchor\":\"y\",\"domain\":[0.0,1.0],\"scaleanchor\":\"y\",\"constrain\":\"domain\"},\"yaxis\":{\"anchor\":\"x\",\"domain\":[0.0,1.0],\"autorange\":\"reversed\",\"constrain\":\"domain\"},\"coloraxis\":{\"colorscale\":[[0.0,\"#0d0887\"],[0.1111111111111111,\"#46039f\"],[0.2222222222222222,\"#7201a8\"],[0.3333333333333333,\"#9c179e\"],[0.4444444444444444,\"#bd3786\"],[0.5555555555555556,\"#d8576b\"],[0.6666666666666666,\"#ed7953\"],[0.7777777777777778,\"#fb9f3a\"],[0.8888888888888888,\"#fdca26\"],[1.0,\"#f0f921\"]]},\"margin\":{\"t\":60}},                        {\"responsive\": true}                    ).then(function(){\n",
       "                            \n",
       "var gd = document.getElementById('9f5142e7-e716-491e-a210-f6deb76e450f');\n",
       "var x = new MutationObserver(function (mutations, observer) {{\n",
       "        var display = window.getComputedStyle(gd).display;\n",
       "        if (!display || display === 'none') {{\n",
       "            console.log([gd, 'removed!']);\n",
       "            Plotly.purge(gd);\n",
       "            observer.disconnect();\n",
       "        }}\n",
       "}});\n",
       "\n",
       "// Listen for the removal of the full notebook cells\n",
       "var notebookContainer = gd.closest('#notebook-container');\n",
       "if (notebookContainer) {{\n",
       "    x.observe(notebookContainer, {childList: true});\n",
       "}}\n",
       "\n",
       "// Listen for the clearing of the current output cell\n",
       "var outputEl = gd.closest('.output');\n",
       "if (outputEl) {{\n",
       "    x.observe(outputEl, {childList: true});\n",
       "}}\n",
       "\n",
       "                        })                };                });            </script>        </div>"
      ]
     },
     "metadata": {},
     "output_type": "display_data"
    }
   ],
   "source": [
    "import plotly.express as px\n",
    "import pandas as pd\n",
    "import numpy as np\n",
    "\n",
    "for task_name, losses in task_losses.items():\n",
    "    base_loss = losses[1]\n",
    "    losses = losses[0]\n",
    "\n",
    "    task_losses[task_name][0] = [(base_loss - loss) for loss in losses]\n",
    "\n",
    "\n",
    "df = pd.DataFrame([\n",
    "    {\"task\": task_name, \"feature\": feature, \"loss\": loss}\n",
    "    for task_name, losses in task_losses.items()\n",
    "    for feature, loss in zip(features, losses[0])\n",
    "])\n",
    "\n",
    "\n",
    "\n",
    "heatmap = np.zeros((len(task_names), len(features)))\n",
    "\n",
    "for i, task_name in enumerate(task_names):\n",
    "    for j, feature in enumerate(features):\n",
    "        heatmap[i, j] = task_losses[task_name][0][j]\n",
    "\n",
    "fig = px.imshow(heatmap, x=[str(x) for x in features], y=task_names)\n",
    "\n",
    "fig.show()\n"
   ]
  },
  {
   "cell_type": "code",
   "execution_count": 46,
   "metadata": {},
   "outputs": [],
   "source": [
    "feature = 11618\n",
    "\n",
    "direction = sae[\"W_dec\"][feature]\n",
    "\n",
    "\n",
    "def steer_with_direction(direction, scale):\n",
    "    direction = direction / jnp.linalg.norm(direction)\n",
    "    direction = direction * scale\n",
    "    add_act = make_act_adder(llama, direction, train_tokens, 12, sep=sep)\n",
    "\n",
    "    logits = add_act(inputs)\n",
    "    logits = logits.unwrap(\"batch\", \"seq\", \"vocabulary\")\n",
    "\n",
    "    return logprob_loss(logits, train_tokens, sep=sep, pad_token=pad, n_first=2)"
   ]
  },
  {
   "cell_type": "code",
   "execution_count": 38,
   "metadata": {},
   "outputs": [
    {
     "data": {
      "application/vnd.jupyter.widget-view+json": {
       "model_id": "851f5338eec144a180eb88b34a54eaff",
       "version_major": 2,
       "version_minor": 0
      },
      "text/plain": [
       "  0%|          | 0/30 [00:00<?, ?it/s]"
      ]
     },
     "metadata": {},
     "output_type": "display_data"
    },
    {
     "name": "stderr",
     "output_type": "stream",
     "text": [
      "/home/dmitrii/.cache/pypoetry/virtualenvs/micrlhf-progress-_SD4q1c9-py3.10/lib/python3.10/site-packages/jax/_src/ops/scatter.py:92: FutureWarning: scatter inputs have incompatible types: cannot safely cast value from dtype=float32 to dtype=bfloat16 with jax_numpy_dtype_promotion='standard'. In future JAX releases this will result in an error.\n",
      "  warnings.warn(\n",
      "/home/dmitrii/.cache/pypoetry/virtualenvs/micrlhf-progress-_SD4q1c9-py3.10/lib/python3.10/site-packages/jax/_src/ops/scatter.py:92: FutureWarning: scatter inputs have incompatible types: cannot safely cast value from dtype=float32 to dtype=bfloat16 with jax_numpy_dtype_promotion='standard'. In future JAX releases this will result in an error.\n",
      "  warnings.warn(\n",
      "/home/dmitrii/.cache/pypoetry/virtualenvs/micrlhf-progress-_SD4q1c9-py3.10/lib/python3.10/site-packages/jax/_src/ops/scatter.py:92: FutureWarning: scatter inputs have incompatible types: cannot safely cast value from dtype=float32 to dtype=bfloat16 with jax_numpy_dtype_promotion='standard'. In future JAX releases this will result in an error.\n",
      "  warnings.warn(\n",
      "/home/dmitrii/.cache/pypoetry/virtualenvs/micrlhf-progress-_SD4q1c9-py3.10/lib/python3.10/site-packages/jax/_src/ops/scatter.py:92: FutureWarning: scatter inputs have incompatible types: cannot safely cast value from dtype=float32 to dtype=bfloat16 with jax_numpy_dtype_promotion='standard'. In future JAX releases this will result in an error.\n",
      "  warnings.warn(\n",
      "/home/dmitrii/.cache/pypoetry/virtualenvs/micrlhf-progress-_SD4q1c9-py3.10/lib/python3.10/site-packages/jax/_src/ops/scatter.py:92: FutureWarning: scatter inputs have incompatible types: cannot safely cast value from dtype=float32 to dtype=bfloat16 with jax_numpy_dtype_promotion='standard'. In future JAX releases this will result in an error.\n",
      "  warnings.warn(\n",
      "/home/dmitrii/.cache/pypoetry/virtualenvs/micrlhf-progress-_SD4q1c9-py3.10/lib/python3.10/site-packages/jax/_src/ops/scatter.py:92: FutureWarning: scatter inputs have incompatible types: cannot safely cast value from dtype=float32 to dtype=bfloat16 with jax_numpy_dtype_promotion='standard'. In future JAX releases this will result in an error.\n",
      "  warnings.warn(\n",
      "/home/dmitrii/.cache/pypoetry/virtualenvs/micrlhf-progress-_SD4q1c9-py3.10/lib/python3.10/site-packages/jax/_src/ops/scatter.py:92: FutureWarning: scatter inputs have incompatible types: cannot safely cast value from dtype=float32 to dtype=bfloat16 with jax_numpy_dtype_promotion='standard'. In future JAX releases this will result in an error.\n",
      "  warnings.warn(\n",
      "/home/dmitrii/.cache/pypoetry/virtualenvs/micrlhf-progress-_SD4q1c9-py3.10/lib/python3.10/site-packages/jax/_src/ops/scatter.py:92: FutureWarning: scatter inputs have incompatible types: cannot safely cast value from dtype=float32 to dtype=bfloat16 with jax_numpy_dtype_promotion='standard'. In future JAX releases this will result in an error.\n",
      "  warnings.warn(\n",
      "/home/dmitrii/.cache/pypoetry/virtualenvs/micrlhf-progress-_SD4q1c9-py3.10/lib/python3.10/site-packages/jax/_src/ops/scatter.py:92: FutureWarning: scatter inputs have incompatible types: cannot safely cast value from dtype=float32 to dtype=bfloat16 with jax_numpy_dtype_promotion='standard'. In future JAX releases this will result in an error.\n",
      "  warnings.warn(\n",
      "/home/dmitrii/.cache/pypoetry/virtualenvs/micrlhf-progress-_SD4q1c9-py3.10/lib/python3.10/site-packages/jax/_src/ops/scatter.py:92: FutureWarning: scatter inputs have incompatible types: cannot safely cast value from dtype=float32 to dtype=bfloat16 with jax_numpy_dtype_promotion='standard'. In future JAX releases this will result in an error.\n",
      "  warnings.warn(\n",
      "/home/dmitrii/.cache/pypoetry/virtualenvs/micrlhf-progress-_SD4q1c9-py3.10/lib/python3.10/site-packages/jax/_src/ops/scatter.py:92: FutureWarning: scatter inputs have incompatible types: cannot safely cast value from dtype=float32 to dtype=bfloat16 with jax_numpy_dtype_promotion='standard'. In future JAX releases this will result in an error.\n",
      "  warnings.warn(\n",
      "/home/dmitrii/.cache/pypoetry/virtualenvs/micrlhf-progress-_SD4q1c9-py3.10/lib/python3.10/site-packages/jax/_src/ops/scatter.py:92: FutureWarning: scatter inputs have incompatible types: cannot safely cast value from dtype=float32 to dtype=bfloat16 with jax_numpy_dtype_promotion='standard'. In future JAX releases this will result in an error.\n",
      "  warnings.warn(\n",
      "/home/dmitrii/.cache/pypoetry/virtualenvs/micrlhf-progress-_SD4q1c9-py3.10/lib/python3.10/site-packages/jax/_src/ops/scatter.py:92: FutureWarning: scatter inputs have incompatible types: cannot safely cast value from dtype=float32 to dtype=bfloat16 with jax_numpy_dtype_promotion='standard'. In future JAX releases this will result in an error.\n",
      "  warnings.warn(\n",
      "/home/dmitrii/.cache/pypoetry/virtualenvs/micrlhf-progress-_SD4q1c9-py3.10/lib/python3.10/site-packages/jax/_src/ops/scatter.py:92: FutureWarning: scatter inputs have incompatible types: cannot safely cast value from dtype=float32 to dtype=bfloat16 with jax_numpy_dtype_promotion='standard'. In future JAX releases this will result in an error.\n",
      "  warnings.warn(\n",
      "/home/dmitrii/.cache/pypoetry/virtualenvs/micrlhf-progress-_SD4q1c9-py3.10/lib/python3.10/site-packages/jax/_src/ops/scatter.py:92: FutureWarning: scatter inputs have incompatible types: cannot safely cast value from dtype=float32 to dtype=bfloat16 with jax_numpy_dtype_promotion='standard'. In future JAX releases this will result in an error.\n",
      "  warnings.warn(\n",
      "/home/dmitrii/.cache/pypoetry/virtualenvs/micrlhf-progress-_SD4q1c9-py3.10/lib/python3.10/site-packages/jax/_src/ops/scatter.py:92: FutureWarning: scatter inputs have incompatible types: cannot safely cast value from dtype=float32 to dtype=bfloat16 with jax_numpy_dtype_promotion='standard'. In future JAX releases this will result in an error.\n",
      "  warnings.warn(\n",
      "/home/dmitrii/.cache/pypoetry/virtualenvs/micrlhf-progress-_SD4q1c9-py3.10/lib/python3.10/site-packages/jax/_src/ops/scatter.py:92: FutureWarning: scatter inputs have incompatible types: cannot safely cast value from dtype=float32 to dtype=bfloat16 with jax_numpy_dtype_promotion='standard'. In future JAX releases this will result in an error.\n",
      "  warnings.warn(\n",
      "/home/dmitrii/.cache/pypoetry/virtualenvs/micrlhf-progress-_SD4q1c9-py3.10/lib/python3.10/site-packages/jax/_src/ops/scatter.py:92: FutureWarning: scatter inputs have incompatible types: cannot safely cast value from dtype=float32 to dtype=bfloat16 with jax_numpy_dtype_promotion='standard'. In future JAX releases this will result in an error.\n",
      "  warnings.warn(\n",
      "/home/dmitrii/.cache/pypoetry/virtualenvs/micrlhf-progress-_SD4q1c9-py3.10/lib/python3.10/site-packages/jax/_src/ops/scatter.py:92: FutureWarning: scatter inputs have incompatible types: cannot safely cast value from dtype=float32 to dtype=bfloat16 with jax_numpy_dtype_promotion='standard'. In future JAX releases this will result in an error.\n",
      "  warnings.warn(\n",
      "/home/dmitrii/.cache/pypoetry/virtualenvs/micrlhf-progress-_SD4q1c9-py3.10/lib/python3.10/site-packages/jax/_src/ops/scatter.py:92: FutureWarning: scatter inputs have incompatible types: cannot safely cast value from dtype=float32 to dtype=bfloat16 with jax_numpy_dtype_promotion='standard'. In future JAX releases this will result in an error.\n",
      "  warnings.warn(\n",
      "/home/dmitrii/.cache/pypoetry/virtualenvs/micrlhf-progress-_SD4q1c9-py3.10/lib/python3.10/site-packages/jax/_src/ops/scatter.py:92: FutureWarning: scatter inputs have incompatible types: cannot safely cast value from dtype=float32 to dtype=bfloat16 with jax_numpy_dtype_promotion='standard'. In future JAX releases this will result in an error.\n",
      "  warnings.warn(\n",
      "/home/dmitrii/.cache/pypoetry/virtualenvs/micrlhf-progress-_SD4q1c9-py3.10/lib/python3.10/site-packages/jax/_src/ops/scatter.py:92: FutureWarning: scatter inputs have incompatible types: cannot safely cast value from dtype=float32 to dtype=bfloat16 with jax_numpy_dtype_promotion='standard'. In future JAX releases this will result in an error.\n",
      "  warnings.warn(\n",
      "/home/dmitrii/.cache/pypoetry/virtualenvs/micrlhf-progress-_SD4q1c9-py3.10/lib/python3.10/site-packages/jax/_src/ops/scatter.py:92: FutureWarning: scatter inputs have incompatible types: cannot safely cast value from dtype=float32 to dtype=bfloat16 with jax_numpy_dtype_promotion='standard'. In future JAX releases this will result in an error.\n",
      "  warnings.warn(\n",
      "/home/dmitrii/.cache/pypoetry/virtualenvs/micrlhf-progress-_SD4q1c9-py3.10/lib/python3.10/site-packages/jax/_src/ops/scatter.py:92: FutureWarning: scatter inputs have incompatible types: cannot safely cast value from dtype=float32 to dtype=bfloat16 with jax_numpy_dtype_promotion='standard'. In future JAX releases this will result in an error.\n",
      "  warnings.warn(\n",
      "/home/dmitrii/.cache/pypoetry/virtualenvs/micrlhf-progress-_SD4q1c9-py3.10/lib/python3.10/site-packages/jax/_src/ops/scatter.py:92: FutureWarning: scatter inputs have incompatible types: cannot safely cast value from dtype=float32 to dtype=bfloat16 with jax_numpy_dtype_promotion='standard'. In future JAX releases this will result in an error.\n",
      "  warnings.warn(\n",
      "/home/dmitrii/.cache/pypoetry/virtualenvs/micrlhf-progress-_SD4q1c9-py3.10/lib/python3.10/site-packages/jax/_src/ops/scatter.py:92: FutureWarning: scatter inputs have incompatible types: cannot safely cast value from dtype=float32 to dtype=bfloat16 with jax_numpy_dtype_promotion='standard'. In future JAX releases this will result in an error.\n",
      "  warnings.warn(\n",
      "/home/dmitrii/.cache/pypoetry/virtualenvs/micrlhf-progress-_SD4q1c9-py3.10/lib/python3.10/site-packages/jax/_src/ops/scatter.py:92: FutureWarning: scatter inputs have incompatible types: cannot safely cast value from dtype=float32 to dtype=bfloat16 with jax_numpy_dtype_promotion='standard'. In future JAX releases this will result in an error.\n",
      "  warnings.warn(\n",
      "/home/dmitrii/.cache/pypoetry/virtualenvs/micrlhf-progress-_SD4q1c9-py3.10/lib/python3.10/site-packages/jax/_src/ops/scatter.py:92: FutureWarning: scatter inputs have incompatible types: cannot safely cast value from dtype=float32 to dtype=bfloat16 with jax_numpy_dtype_promotion='standard'. In future JAX releases this will result in an error.\n",
      "  warnings.warn(\n",
      "/home/dmitrii/.cache/pypoetry/virtualenvs/micrlhf-progress-_SD4q1c9-py3.10/lib/python3.10/site-packages/jax/_src/ops/scatter.py:92: FutureWarning: scatter inputs have incompatible types: cannot safely cast value from dtype=float32 to dtype=bfloat16 with jax_numpy_dtype_promotion='standard'. In future JAX releases this will result in an error.\n",
      "  warnings.warn(\n",
      "/home/dmitrii/.cache/pypoetry/virtualenvs/micrlhf-progress-_SD4q1c9-py3.10/lib/python3.10/site-packages/jax/_src/ops/scatter.py:92: FutureWarning: scatter inputs have incompatible types: cannot safely cast value from dtype=float32 to dtype=bfloat16 with jax_numpy_dtype_promotion='standard'. In future JAX releases this will result in an error.\n",
      "  warnings.warn(\n"
     ]
    }
   ],
   "source": [
    "import numpy as np\n",
    "from tqdm.auto import tqdm\n",
    "\n",
    "scales = np.linspace(0, 100, 30)\n",
    "\n",
    "losses = [steer_with_direction(-direction, scale) for scale in tqdm(scales)]"
   ]
  },
  {
   "cell_type": "code",
   "execution_count": 40,
   "metadata": {},
   "outputs": [
    {
     "data": {
      "text/html": [
       "<script> (()=>{ if (customElements.get('treescope-container') === undefined) { class TreescopeContainer extends HTMLElement { constructor() { super(); this.attachShadow({mode: \"open\"}); this.defns = {}; this.state = {}; } } customElements.define(\"treescope-container\", TreescopeContainer); } if (customElements.get('treescope-run-here') === undefined) { class RunHere extends HTMLElement { constructor() { super() } connectedCallback() { const run = child => { const fn = new Function(child.textContent); child.textContent = \"\"; fn.call(this); this.remove(); }; const child = this.querySelector(\"script\"); if (child) { run(child); } else { new MutationObserver(()=>{ run(this.querySelector(\"script\")); }).observe(this, {childList: true}); } } } customElements.define(\"treescope-run-here\", RunHere); } })(); </script> <treescope-container class=\"treescope_out_7b23d3fc5d584db2a471210f453401cc\" ></treescope-container> <treescope-run-here><script type=\"application/octet-stream\"> const root = ( Array.from(document.getElementsByClassName( \"treescope_out_7b23d3fc5d584db2a471210f453401cc\")) .filter((elt) => !elt.dataset.setup) )[0]; root.dataset.setup = 1; const msg = document.createElement(\"span\"); msg.style = \"color: #aaaaaa; font-family: monospace; transition: opacity 0.2s; opacity: 0.0;\"; msg.textContent = \"(Loading...)\"; root.state.loadingMsg = msg; root.shadowRoot.appendChild(msg); root.state.chain = new Promise((resolve, reject) => { const observer = new IntersectionObserver((entries) => { for (const entry of entries) { if (entry.isIntersecting) { resolve(); observer.disconnect(); return; } } }, {rootMargin: \"1000px\"}); window.setTimeout(() => { if (root.loadingMsg) { root.loadingMsg.style.opacity = \"1.0\"; } observer.observe(root); }, 0); }); root.state.deferring = false; const _insertNode = (node) => { for (let oldScript of node.querySelectorAll(\"script\")) { let newScript = document.createElement(\"script\"); newScript.type = oldScript.type; newScript.textContent = oldScript.textContent; oldScript.parentNode.replaceChild(newScript, oldScript); } if (root.state.loadingMsg) { root.state.loadingMsg.remove(); root.state.loadingMsg = null; } root.shadowRoot.appendChild(node); }; root.defns.insertContent = ((contentNode, compressed) => { if (compressed) { root.state.deferring = true; } if (root.state.deferring) { root.state.chain = (async () => { await root.state.chain; if (compressed) { const encoded = contentNode.textContent; const blob = new Blob([ Uint8Array.from(atob(encoded), (m) => m.codePointAt(0)) ]); const reader = blob.stream().pipeThrough( new DecompressionStream(\"deflate\") ).pipeThrough( new TextDecoderStream(\"utf-8\") ).getReader(); const parts = []; while (true) { const step = await reader.read(); if (step.done) { break; } parts.push(step.value); } const tpl = document.createElement('template'); tpl.innerHTML = parts.join(\"\"); _insertNode(tpl.content); } else { _insertNode(contentNode.content); } })(); } else { _insertNode(contentNode.content); } }); </script></treescope-run-here><div style=\"display:none\"> <script type=\"application/octet-stream\" >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</script> <treescope-run-here><script type=\"application/octet-stream\"> const root = ( Array.from(document.getElementsByClassName( \"treescope_out_7b23d3fc5d584db2a471210f453401cc\")) .filter((elt) => !elt.dataset['step0']) )[0]; root.dataset['step0'] = 1; root.defns.insertContent( this.parentNode.querySelector('script[type=\"application/octet-stream\"]'), true ); this.parentNode.remove(); </script></treescope-run-here> </div>"
      ],
      "text/plain": [
       "<IPython.core.display.HTML object>"
      ]
     },
     "metadata": {},
     "output_type": "display_data"
    },
    {
     "data": {
      "text/html": [
       "<treescope-run-here><script type=\"application/octet-stream\"> const root = ( Array.from(document.getElementsByClassName( \"treescope_out_7b23d3fc5d584db2a471210f453401cc\")) .filter((elt) => !elt.dataset.stolen) )[0]; root.dataset.stolen = 1; this.parentNode.replaceChild(root, this); </script></treescope-run-here>"
      ],
      "text/plain": [
       "[<matplotlib.lines.Line2D at 0x7f0b30b1ee90>]"
      ]
     },
     "execution_count": 40,
     "metadata": {},
     "output_type": "execute_result"
    },
    {
     "data": {
      "image/png": "[encoded data removed]",
      "text/plain": [
       "<Figure size 640x480 with 1 Axes>"
      ]
     },
     "metadata": {},
     "output_type": "display_data"
    }
   ],
   "source": [
    "import matplotlib.pyplot as plt\n",
    "\n",
    "losses = [x.tolist() for x in losses]\n",
    "\n",
    "plt.plot(scales, losses)"
   ]
  },
  {
   "cell_type": "code",
   "execution_count": 47,
   "metadata": {},
   "outputs": [
    {
     "data": {
      "application/vnd.jupyter.widget-view+json": {
       "model_id": "718575a719c34e84b9aac7dd63299f64",
       "version_major": 2,
       "version_minor": 0
      },
      "text/plain": [
       "  0%|          | 0/11 [00:00<?, ?it/s]"
      ]
     },
     "metadata": {},
     "output_type": "display_data"
    }
   ],
   "source": [
    "losses_features = [steer_with_direction(-sae[\"W_dec\"][feature], 30).tolist() for feature in tqdm(features)]"
   ]
  },
  {
   "cell_type": "code",
   "execution_count": 42,
   "metadata": {},
   "outputs": [
    {
     "data": {
      "text/html": [
       "<script> (()=>{ if (customElements.get('treescope-container') === undefined) { class TreescopeContainer extends HTMLElement { constructor() { super(); this.attachShadow({mode: \"open\"}); this.defns = {}; this.state = {}; } } customElements.define(\"treescope-container\", TreescopeContainer); } if (customElements.get('treescope-run-here') === undefined) { class RunHere extends HTMLElement { constructor() { super() } connectedCallback() { const run = child => { const fn = new Function(child.textContent); child.textContent = \"\"; fn.call(this); this.remove(); }; const child = this.querySelector(\"script\"); if (child) { run(child); } else { new MutationObserver(()=>{ run(this.querySelector(\"script\")); }).observe(this, {childList: true}); } } } customElements.define(\"treescope-run-here\", RunHere); } })(); </script> <treescope-container class=\"treescope_out_0ea07c204e674958b8117b9fa7ba72f8\" ></treescope-container> <treescope-run-here><script type=\"application/octet-stream\"> const root = ( Array.from(document.getElementsByClassName( \"treescope_out_0ea07c204e674958b8117b9fa7ba72f8\")) .filter((elt) => !elt.dataset.setup) )[0]; root.dataset.setup = 1; const msg = document.createElement(\"span\"); msg.style = \"color: #aaaaaa; font-family: monospace; transition: opacity 0.2s; opacity: 0.0;\"; msg.textContent = \"(Loading...)\"; root.state.loadingMsg = msg; root.shadowRoot.appendChild(msg); root.state.chain = new Promise((resolve, reject) => { const observer = new IntersectionObserver((entries) => { for (const entry of entries) { if (entry.isIntersecting) { resolve(); observer.disconnect(); return; } } }, {rootMargin: \"1000px\"}); window.setTimeout(() => { if (root.loadingMsg) { root.loadingMsg.style.opacity = \"1.0\"; } observer.observe(root); }, 0); }); root.state.deferring = false; const _insertNode = (node) => { for (let oldScript of node.querySelectorAll(\"script\")) { let newScript = document.createElement(\"script\"); newScript.type = oldScript.type; newScript.textContent = oldScript.textContent; oldScript.parentNode.replaceChild(newScript, oldScript); } if (root.state.loadingMsg) { root.state.loadingMsg.remove(); root.state.loadingMsg = null; } root.shadowRoot.appendChild(node); }; root.defns.insertContent = ((contentNode, compressed) => { if (compressed) { root.state.deferring = true; } if (root.state.deferring) { root.state.chain = (async () => { await root.state.chain; if (compressed) { const encoded = contentNode.textContent; const blob = new Blob([ Uint8Array.from(atob(encoded), (m) => m.codePointAt(0)) ]); const reader = blob.stream().pipeThrough( new DecompressionStream(\"deflate\") ).pipeThrough( new TextDecoderStream(\"utf-8\") ).getReader(); const parts = []; while (true) { const step = await reader.read(); if (step.done) { break; } parts.push(step.value); } const tpl = document.createElement('template'); tpl.innerHTML = parts.join(\"\"); _insertNode(tpl.content); } else { _insertNode(contentNode.content); } })(); } else { _insertNode(contentNode.content); } }); </script></treescope-run-here><div style=\"display:none\"> <script type=\"application/octet-stream\" >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</script> <treescope-run-here><script type=\"application/octet-stream\"> const root = ( Array.from(document.getElementsByClassName( \"treescope_out_0ea07c204e674958b8117b9fa7ba72f8\")) .filter((elt) => !elt.dataset['step0']) )[0]; root.dataset['step0'] = 1; root.defns.insertContent( this.parentNode.querySelector('script[type=\"application/octet-stream\"]'), true ); this.parentNode.remove(); </script></treescope-run-here> </div>"
      ],
      "text/plain": [
       "<IPython.core.display.HTML object>"
      ]
     },
     "metadata": {},
     "output_type": "display_data"
    },
    {
     "data": {
      "text/html": [
       "<treescope-run-here><script type=\"application/octet-stream\"> const root = ( Array.from(document.getElementsByClassName( \"treescope_out_0ea07c204e674958b8117b9fa7ba72f8\")) .filter((elt) => !elt.dataset.stolen) )[0]; root.dataset.stolen = 1; this.parentNode.replaceChild(root, this); </script></treescope-run-here>"
      ],
      "text/plain": [
       "[3.65625,\n",
       " 0.3046875,\n",
       " 0.84765625,\n",
       " 5.78125,\n",
       " 8.1875,\n",
       " 2.59375,\n",
       " 11.0,\n",
       " 7.03125,\n",
       " 1.0390625,\n",
       " 1.6640625,\n",
       " 5.4375]"
      ]
     },
     "execution_count": 42,
     "metadata": {},
     "output_type": "execute_result"
    }
   ],
   "source": [
    "losses_features"
   ]
  },
  {
   "cell_type": "code",
   "execution_count": 48,
   "metadata": {},
   "outputs": [
    {
     "data": {
      "text/html": [
       "<script> (()=>{ if (customElements.get('treescope-container') === undefined) { class TreescopeContainer extends HTMLElement { constructor() { super(); this.attachShadow({mode: \"open\"}); this.defns = {}; this.state = {}; } } customElements.define(\"treescope-container\", TreescopeContainer); } if (customElements.get('treescope-run-here') === undefined) { class RunHere extends HTMLElement { constructor() { super() } connectedCallback() { const run = child => { const fn = new Function(child.textContent); child.textContent = \"\"; fn.call(this); this.remove(); }; const child = this.querySelector(\"script\"); if (child) { run(child); } else { new MutationObserver(()=>{ run(this.querySelector(\"script\")); }).observe(this, {childList: true}); } } } customElements.define(\"treescope-run-here\", RunHere); } })(); </script> <treescope-container class=\"treescope_out_3ad0e115fc994b6eb021e240cc0cffed\" ></treescope-container> <treescope-run-here><script type=\"application/octet-stream\"> const root = ( Array.from(document.getElementsByClassName( \"treescope_out_3ad0e115fc994b6eb021e240cc0cffed\")) .filter((elt) => !elt.dataset.setup) )[0]; root.dataset.setup = 1; const msg = document.createElement(\"span\"); msg.style = \"color: #aaaaaa; font-family: monospace; transition: opacity 0.2s; opacity: 0.0;\"; msg.textContent = \"(Loading...)\"; root.state.loadingMsg = msg; root.shadowRoot.appendChild(msg); root.state.chain = new Promise((resolve, reject) => { const observer = new IntersectionObserver((entries) => { for (const entry of entries) { if (entry.isIntersecting) { resolve(); observer.disconnect(); return; } } }, {rootMargin: \"1000px\"}); window.setTimeout(() => { if (root.loadingMsg) { root.loadingMsg.style.opacity = \"1.0\"; } observer.observe(root); }, 0); }); root.state.deferring = false; const _insertNode = (node) => { for (let oldScript of node.querySelectorAll(\"script\")) { let newScript = document.createElement(\"script\"); newScript.type = oldScript.type; newScript.textContent = oldScript.textContent; oldScript.parentNode.replaceChild(newScript, oldScript); } if (root.state.loadingMsg) { root.state.loadingMsg.remove(); root.state.loadingMsg = null; } root.shadowRoot.appendChild(node); }; root.defns.insertContent = ((contentNode, compressed) => { if (compressed) { root.state.deferring = true; } if (root.state.deferring) { root.state.chain = (async () => { await root.state.chain; if (compressed) { const encoded = contentNode.textContent; const blob = new Blob([ Uint8Array.from(atob(encoded), (m) => m.codePointAt(0)) ]); const reader = blob.stream().pipeThrough( new DecompressionStream(\"deflate\") ).pipeThrough( new TextDecoderStream(\"utf-8\") ).getReader(); const parts = []; while (true) { const step = await reader.read(); if (step.done) { break; } parts.push(step.value); } const tpl = document.createElement('template'); tpl.innerHTML = parts.join(\"\"); _insertNode(tpl.content); } else { _insertNode(contentNode.content); } })(); } else { _insertNode(contentNode.content); } }); </script></treescope-run-here><div style=\"display:none\"> <script type=\"application/octet-stream\" >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</script> <treescope-run-here><script type=\"application/octet-stream\"> const root = ( Array.from(document.getElementsByClassName( \"treescope_out_3ad0e115fc994b6eb021e240cc0cffed\")) .filter((elt) => !elt.dataset['step0']) )[0]; root.dataset['step0'] = 1; root.defns.insertContent( this.parentNode.querySelector('script[type=\"application/octet-stream\"]'), true ); this.parentNode.remove(); </script></treescope-run-here> </div>"
      ],
      "text/plain": [
       "<IPython.core.display.HTML object>"
      ]
     },
     "metadata": {},
     "output_type": "display_data"
    },
    {
     "data": {
      "text/html": [
       "<treescope-run-here><script type=\"application/octet-stream\"> const root = ( Array.from(document.getElementsByClassName( \"treescope_out_3ad0e115fc994b6eb021e240cc0cffed\")) .filter((elt) => !elt.dataset.stolen) )[0]; root.dataset.stolen = 1; this.parentNode.replaceChild(root, this); </script></treescope-run-here>"
      ],
      "text/plain": [
       "[4.25,\n",
       " 1.2578125,\n",
       " 2.15625,\n",
       " 4.84375,\n",
       " 6.03125,\n",
       " 3.84375,\n",
       " 9.5625,\n",
       " 6.8125,\n",
       " 2.703125,\n",
       " 2.90625,\n",
       " 6.09375]"
      ]
     },
     "execution_count": 48,
     "metadata": {},
     "output_type": "execute_result"
    }
   ],
   "source": [
    "losses_features"
   ]
  }
 ],
 "metadata": {
  "kernelspec": {
   "display_name": "micrlhf-progress-_SD4q1c9-py3.10",
   "language": "python",
   "name": "python3"
  },
  "language_info": {
   "codemirror_mode": {
    "name": "ipython",
    "version": 3
   },
   "file_extension": ".py",
   "mimetype": "text/x-python",
   "name": "python",
   "nbconvert_exporter": "python",
   "pygments_lexer": "ipython3",
   "version": "3.10.12"
  }
 },
 "nbformat": 4,
 "nbformat_minor": 2
}
