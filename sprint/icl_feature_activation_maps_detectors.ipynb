{
 "cells": [
  {
   "cell_type": "code",
   "execution_count": 1,
   "metadata": {},
   "outputs": [],
   "source": [
    "import os\n",
    "if \"models\" not in os.listdir(\".\"):\n",
    "    os.chdir(\"../..\")"
   ]
  },
  {
   "cell_type": "code",
   "execution_count": 2,
   "metadata": {},
   "outputs": [],
   "source": [
    "import json\n",
    "\n",
    "with open(\"cleanup_results_final_detectors_2.jsonl\") as f:\n",
    "    lines = f.readlines()\n",
    "    results = [json.loads(line) for line in lines]"
   ]
  },
  {
   "cell_type": "code",
   "execution_count": 3,
   "metadata": {},
   "outputs": [],
   "source": [
    "%load_ext autoreload\n",
    "%autoreload 2\n",
    "import penzai\n",
    "import jax_smi\n",
    "jax_smi.initialise_tracking()\n",
    "from penzai import pz\n",
    "pz.ts.register_as_default()\n",
    "pz.ts.register_autovisualize_magic()\n",
    "pz.enable_interactive_context()"
   ]
  },
  {
   "cell_type": "code",
   "execution_count": 4,
   "metadata": {},
   "outputs": [],
   "source": [
    "from micrlhf.llama import LlamaTransformer\n",
    "llama = LlamaTransformer.from_pretrained(\"models/gemma-2b-it.gguf\", from_type=\"gemma\", load_eager=True, device_map=\"tpu:0\")"
   ]
  },
  {
   "cell_type": "code",
   "execution_count": 5,
   "metadata": {},
   "outputs": [],
   "source": [
    "from transformers import AutoTokenizer\n",
    "tokenizer = AutoTokenizer.from_pretrained(\"alpindale/gemma-2b\")\n",
    "tokenizer.padding_side = \"right\""
   ]
  },
  {
   "cell_type": "code",
   "execution_count": 6,
   "metadata": {},
   "outputs": [
    {
     "name": "stderr",
     "output_type": "stream",
     "text": [
      "fatal: destination path 'data/itv' already exists and is not an empty directory.\n"
     ]
    }
   ],
   "source": [
    "from sprint.task_vector_utils import load_tasks, ICLRunner\n",
    "tasks = load_tasks()"
   ]
  },
  {
   "cell_type": "code",
   "execution_count": 7,
   "metadata": {},
   "outputs": [],
   "source": [
    "# task_names = [\"en_es\", \"antonyms\", \"person_profession\", \"es_en\", \"present_simple_gerund\", \"present_simple_past_simple\", \"person_profession\", \"person_language\", \"country_capital\", \"football_player_position\"]\n",
    "# task_name = task_names[1]\n",
    "task_names = list(tasks.keys())"
   ]
  },
  {
   "cell_type": "code",
   "execution_count": 8,
   "metadata": {},
   "outputs": [],
   "source": [
    "import jax.numpy as jnp\n",
    "import jax\n",
    "\n",
    "\n",
    "from sprint.task_vector_utils import ICLRunner, logprob_loss\n",
    "from micrlhf.llama import LlamaBlock\n",
    "from micrlhf.sampling import sample, jit_wrapper\n",
    "\n",
    "\n",
    "get_resids = llama.select().at_instances_of(LlamaBlock).apply_with_selected_index(lambda i, x:\n",
    "    pz.nn.Sequential([\n",
    "        pz.de.TellIntermediate.from_config(tag=f\"resid_pre_{i}\"),\n",
    "        x\n",
    "    ])\n",
    ")\n",
    "get_resids = pz.de.CollectingSideOutputs.handling(get_resids, tag_predicate=lambda x: x.startswith(\"resid_pre\"))\n",
    "get_resids_call = jit_wrapper.Jitted(get_resids)\n",
    "\n",
    "\n",
    "\n",
    "def tokenized_to_inputs(input_ids, attention_mask):\n",
    "    token_array = jnp.asarray(input_ids)\n",
    "    token_array = jax.device_put(token_array, jax.sharding.NamedSharding(llama.mesh, jax.sharding.PartitionSpec(\"dp\", \"sp\")))\n",
    "    token_array = pz.nx.wrap(token_array, \"batch\", \"seq\").untag(\"batch\").tag(\"batch\")\n",
    "\n",
    "    mask_array = jnp.asarray(attention_mask, dtype=jnp.bool)\n",
    "    mask_array = jax.device_put(mask_array, jax.sharding.NamedSharding(llama.mesh, jax.sharding.PartitionSpec(\"dp\", \"sp\")))\n",
    "    mask_array = pz.nx.wrap(mask_array, \"batch\", \"seq\").untag(\"batch\").tag(\"batch\")\n",
    "\n",
    "    inputs = llama.inputs.from_basic_segments(token_array)\n",
    "    return inputs\n"
   ]
  },
  {
   "cell_type": "code",
   "execution_count": 9,
   "metadata": {},
   "outputs": [],
   "source": [
    "from sprint.icl_sfc_utils import AblatedModule\n",
    "layer = 11\n",
    "# mask_name = \"arrow\""
   ]
  },
  {
   "cell_type": "code",
   "execution_count": 10,
   "metadata": {},
   "outputs": [],
   "source": [
    "from micrlhf.utils.load_sae import get_nev_it_sae_suite\n",
    "\n",
    "\n",
    "sae = get_nev_it_sae_suite(layer=layer)"
   ]
  },
  {
   "cell_type": "code",
   "execution_count": 11,
   "metadata": {},
   "outputs": [
    {
     "name": "stdout",
     "output_type": "stream",
     "text": [
      "location_continent TVC: 7.40625 TV: 6.71875 [11459, 24964, 25185, 25334, 27001, 29362, 30338]\n",
      "football_player_position TVC: 13.5 TV: 14.0625 [3844, 13181, 19916, 31427]\n",
      "location_religion TVC: 6.4375 TV: 8.125 [3466, 10685, 12898, 30338]\n",
      "location_language TVC: 7.90625 TV: 7.9375 [1132, 10884, 12898, 13181, 20079, 32677]\n",
      "person_profession TVC: 11.875 TV: 10.625 [4258, 7323, 9995, 13181, 16205, 26436]\n",
      "location_country TVC: 6.125 TV: 5.125 [11459, 13181, 20983, 28297]\n",
      "country_capital TVC: 3.96875 TV: 2.515625 [6267, 13181, 13529, 20983, 26783]\n",
      "person_language TVC: 8.1875 TV: 8.6875 [3775, 10884, 13181, 14996, 32677]\n",
      "singular_plural TVC: 5.4375 TV: 4.09375 [1322, 10672, 12898, 13181, 15764, 27936]\n",
      "present_simple_past_simple TVC: 4.96875 TV: 2.453125 [10672, 12898, 13181, 16172, 19628, 21327, 27936]\n",
      "antonyms TVC: 3.046875 TV: 2.53125 [5971, 11050, 12898, 18472, 26470, 30338, 32142]\n",
      "plural_singular TVC: 4.28125 TV: 4.15625 [1753, 15764, 16205, 18472, 28297]\n",
      "present_simple_past_perfect TVC: 5.0 TV: 4.09375 [12898, 13181, 16172, 21327, 27936, 30338]\n",
      "present_simple_gerund TVC: 6.75 TV: 5.6875 [8446, 12898, 13181, 16172, 21126, 27936]\n",
      "en_it TVC: 20.625 TV: 19.875 [99, 5971, 15764, 18472, 26470, 30338, 32142]\n",
      "it_en TVC: 8.0625 TV: 8.1875 [8228, 12898, 31123]\n",
      "en_fr TVC: 16.875 TV: 18.125 [99, 15764, 32142]\n",
      "en_es TVC: 16.625 TV: 17.0 [99, 5971, 7928, 8228, 15764, 18472, 30338]\n",
      "fr_en TVC: 7.75 TV: 7.96875 [8228, 12898, 18472, 31123]\n",
      "es_en TVC: 7.21875 TV: 7.3125 [8228, 12898, 18472, 31123]\n",
      "algo_last TVC: 2.984375 TV: 2.640625 [12898, 16172, 28297, 29228]\n",
      "algo_first TVC: 3.21875 TV: 3.15625 [10672, 12898, 16172, 18472, 23545, 30338, 32115]\n",
      "algo_second TVC: 5.15625 TV: 5.34375 [12898, 24081, 32115]\n"
     ]
    },
    {
     "data": {
      "text/html": [
       "<script> (()=>{ if (customElements.get('treescope-container') === undefined) { class TreescopeContainer extends HTMLElement { constructor() { super(); this.attachShadow({mode: \"open\"}); this.defns = {}; this.state = {}; } } customElements.define(\"treescope-container\", TreescopeContainer); } if (customElements.get('treescope-run-here') === undefined) { class RunHere extends HTMLElement { constructor() { super() } connectedCallback() { const run = child => { const fn = new Function(child.textContent); child.textContent = \"\"; fn.call(this); this.remove(); }; const child = this.querySelector(\"script\"); if (child) { run(child); } else { new MutationObserver(()=>{ run(this.querySelector(\"script\")); }).observe(this, {childList: true}); } } } customElements.define(\"treescope-run-here\", RunHere); } })(); </script> <treescope-container class=\"treescope_out_9988895a3e6f4dceb5d4eddf0d18dc10\" ></treescope-container> <treescope-run-here><script type=\"application/octet-stream\"> const root = ( Array.from(document.getElementsByClassName( \"treescope_out_9988895a3e6f4dceb5d4eddf0d18dc10\")) .filter((elt) => !elt.dataset.setup) )[0]; root.dataset.setup = 1; const msg = document.createElement(\"span\"); msg.style = \"color: #aaaaaa; font-family: monospace; transition: opacity 0.2s; opacity: 0.0;\"; msg.textContent = \"(Loading...)\"; root.state.loadingMsg = msg; root.shadowRoot.appendChild(msg); root.state.chain = new Promise((resolve, reject) => { const observer = new IntersectionObserver((entries) => { for (const entry of entries) { if (entry.isIntersecting) { resolve(); observer.disconnect(); return; } } }, {rootMargin: \"1000px\"}); window.setTimeout(() => { if (root.loadingMsg) { root.loadingMsg.style.opacity = \"1.0\"; } observer.observe(root); }, 0); }); root.state.deferring = false; const _insertNode = (node) => { for (let oldScript of node.querySelectorAll(\"script\")) { let newScript = document.createElement(\"script\"); newScript.type = oldScript.type; newScript.textContent = oldScript.textContent; oldScript.parentNode.replaceChild(newScript, oldScript); } if (root.state.loadingMsg) { root.state.loadingMsg.remove(); root.state.loadingMsg = null; } root.shadowRoot.appendChild(node); }; root.defns.insertContent = ((contentNode, compressed) => { if (compressed) { root.state.deferring = true; } if (root.state.deferring) { root.state.chain = (async () => { await root.state.chain; if (compressed) { const encoded = contentNode.textContent; const blob = new Blob([ Uint8Array.from(atob(encoded), (m) => m.codePointAt(0)) ]); const reader = blob.stream().pipeThrough( new DecompressionStream(\"deflate\") ).pipeThrough( new TextDecoderStream(\"utf-8\") ).getReader(); const parts = []; while (true) { const step = await reader.read(); if (step.done) { break; } parts.push(step.value); } const tpl = document.createElement('template'); tpl.innerHTML = parts.join(\"\"); _insertNode(tpl.content); } else { _insertNode(contentNode.content); } })(); } else { _insertNode(contentNode.content); } }); </script></treescope-run-here><div style=\"display:none\"> <script type=\"application/octet-stream\" >eNqNVE2P0zAQ/StWOGwikeyXFkHbRNoL4oA4wIEDQpWbTBKrztjYk5aC9r8zdtrS3S0r1EPjmfGb98Yzs/C001AV5AB8bSwsnTEkfgtrvCJlcCYcaElqA3PRGqS8lYPSu5kYDBpvZc32ba8I8niYCevYopWnPELntLNsRYNsXsl63TkzYpPXRhs3m67Oxf600hzAeKqhfiZaRRyGBEhzYWXTKOxyDS3NxE3dhyQIeQ+q69lyXdwFGCSpmPPx2v4j3yivVkorYuZyJHOMzRWSU+hVnXv1Cybvnu7D4nIqz+JYntyNyDkd23ztlCUR9JUX0lqtahkqdmlqgqDegRwuqjTNyooLyvk8iQZa9KIU1CtfdECfudqfTANpVvTGUxH9LA1ILC1gkHxfB9Rw6dv3c54PEhsN7MZR6/mUoWCaX4xBtqZb49aZOOVgvrIpuB6ZSdXBaMG1xg0SayjQbNMsvi8nSJ95RD5dWojbm4xxVCvSJ6wLDdhRL8pSXIWQF6k7oNEh112A9vCXWD9iYPYU2veqpcAvBoSPB/79I0PKXYWN2RYOfozg6R7VEJ/rvZMDpFNNsoAxf5bIjr6fyjg/o/GQopxkvKDy/zkEFtNDkuk6PU3lMk4Od6sNWMECml4L2HCD718ysIvnYg27UPTEJYHQPriotfT+Iw/nHjdNjpjLgdswOSR/yLie3P6xx6vF5bkBaNRGRMAyebw+EkFyxUrhZ5lcJcIgk2HZyHEvtf15rWm4c1CZ8NhNCytujCWOwwpc7JS4QF5dvXt7fffmdHR5LeGBZs+z6nhtrJckHdNIRCNJ5kzPSurLJHkcfpojqe5uGZO91fGPC1D9AcyQ25E=</script> <treescope-run-here><script type=\"application/octet-stream\"> const root = ( Array.from(document.getElementsByClassName( \"treescope_out_9988895a3e6f4dceb5d4eddf0d18dc10\")) .filter((elt) => !elt.dataset['step0']) )[0]; root.dataset['step0'] = 1; root.defns.insertContent( this.parentNode.querySelector('script[type=\"application/octet-stream\"]'), true ); this.parentNode.remove(); </script></treescope-run-here> </div>"
      ],
      "text/plain": [
       "<IPython.core.display.HTML object>"
      ]
     },
     "metadata": {},
     "output_type": "display_data"
    },
    {
     "data": {
      "text/html": [
       "<treescope-run-here><script type=\"application/octet-stream\"> const root = ( Array.from(document.getElementsByClassName( \"treescope_out_9988895a3e6f4dceb5d4eddf0d18dc10\")) .filter((elt) => !elt.dataset.stolen) )[0]; root.dataset.stolen = 1; this.parentNode.replaceChild(root, this); </script></treescope-run-here>"
      ],
      "text/plain": [
       "53"
      ]
     },
     "execution_count": 11,
     "metadata": {},
     "output_type": "execute_result"
    }
   ],
   "source": [
    "import numpy as np\n",
    "from micrlhf.utils.load_sae import sae_encode\n",
    "\n",
    "features = []\n",
    "task_features = {}\n",
    "tv_features = {}\n",
    "\n",
    "for task_name in task_names:\n",
    "    task_results = [result for result in results if result[\"task\"] == task_name and result[\"layer\"] == layer]\n",
    "    \n",
    "\n",
    "    for result in task_results:\n",
    "        weights = np.array(result[\"weights\"])\n",
    "        tv = np.array(result[\"tv\"])\n",
    "        # s = jax.nn.softplus(sae[\"s_gate\"]) * sae[\"scaling_factor\"]\n",
    "        # threshold = jnp.maximum(0, sae[\"b_gate\"] - sae[\"b_enc\"] * s)\n",
    "        # w = weights\n",
    "        # w = w * (w > 0)\n",
    "\n",
    "        _, w, _ = sae_encode(sae, None, pre_relu=weights)\n",
    "\n",
    "        _, w_tv, _ = sae_encode(sae, tv)\n",
    "        # print(threshold)\n",
    "\n",
    "        new_features = np.nonzero(w)[0].tolist()\n",
    "        features += new_features\n",
    "        print(task_name, \"TVC:\", result[\"loss\"], \"TV:\", result[\"tv_loss\"], new_features)\n",
    "\n",
    "        task_features[task_name] = new_features\n",
    "        tv_features[task_name] = np.nonzero(w_tv)[0].tolist()\n",
    "    \n",
    "\n",
    "features = list(set(features))\n",
    "\n",
    "len(features)"
   ]
  },
  {
   "cell_type": "code",
   "execution_count": 12,
   "metadata": {},
   "outputs": [
    {
     "data": {
      "application/vnd.jupyter.widget-view+json": {
       "model_id": "728574b1770e49fca8d7ed9ea1ffd666",
       "version_major": 2,
       "version_minor": 0
      },
      "text/plain": [
       "  0%|          | 0/23 [00:00<?, ?it/s]"
      ]
     },
     "metadata": {},
     "output_type": "display_data"
    },
    {
     "data": {
      "application/vnd.jupyter.widget-view+json": {
       "model_id": "2dc1d7228d6042d58ac1f63aab66320f",
       "version_major": 2,
       "version_minor": 0
      },
      "text/plain": [
       "  0%|          | 0/53 [00:00<?, ?it/s]"
      ]
     },
     "metadata": {},
     "output_type": "display_data"
    },
    {
     "data": {
      "application/vnd.jupyter.widget-view+json": {
       "model_id": "1689b4eb3eb4444a803bba3c18347a19",
       "version_major": 2,
       "version_minor": 0
      },
      "text/plain": [
       "  0%|          | 0/53 [00:00<?, ?it/s]"
      ]
     },
     "metadata": {},
     "output_type": "display_data"
    },
    {
     "data": {
      "application/vnd.jupyter.widget-view+json": {
       "model_id": "bc3946e1f4c94dd9863918eb997397b9",
       "version_major": 2,
       "version_minor": 0
      },
      "text/plain": [
       "  0%|          | 0/53 [00:00<?, ?it/s]"
      ]
     },
     "metadata": {},
     "output_type": "display_data"
    },
    {
     "data": {
      "application/vnd.jupyter.widget-view+json": {
       "model_id": "2daeffe3f7464f479d5f901487997df5",
       "version_major": 2,
       "version_minor": 0
      },
      "text/plain": [
       "  0%|          | 0/53 [00:00<?, ?it/s]"
      ]
     },
     "metadata": {},
     "output_type": "display_data"
    },
    {
     "data": {
      "application/vnd.jupyter.widget-view+json": {
       "model_id": "05fa5f71fad848d398f8c445886804f2",
       "version_major": 2,
       "version_minor": 0
      },
      "text/plain": [
       "  0%|          | 0/53 [00:00<?, ?it/s]"
      ]
     },
     "metadata": {},
     "output_type": "display_data"
    },
    {
     "data": {
      "application/vnd.jupyter.widget-view+json": {
       "model_id": "acfc4d5c41b9465bb26d250ffc3896ae",
       "version_major": 2,
       "version_minor": 0
      },
      "text/plain": [
       "  0%|          | 0/53 [00:00<?, ?it/s]"
      ]
     },
     "metadata": {},
     "output_type": "display_data"
    },
    {
     "data": {
      "application/vnd.jupyter.widget-view+json": {
       "model_id": "bdd0fba454bc4e1c9c352c6be4e18d5f",
       "version_major": 2,
       "version_minor": 0
      },
      "text/plain": [
       "  0%|          | 0/53 [00:00<?, ?it/s]"
      ]
     },
     "metadata": {},
     "output_type": "display_data"
    },
    {
     "data": {
      "application/vnd.jupyter.widget-view+json": {
       "model_id": "1e3626e99ec548e0b95b1fe79cb0ab8c",
       "version_major": 2,
       "version_minor": 0
      },
      "text/plain": [
       "  0%|          | 0/53 [00:00<?, ?it/s]"
      ]
     },
     "metadata": {},
     "output_type": "display_data"
    },
    {
     "data": {
      "application/vnd.jupyter.widget-view+json": {
       "model_id": "db8e216033244a12b62f81a8cd6fc51c",
       "version_major": 2,
       "version_minor": 0
      },
      "text/plain": [
       "  0%|          | 0/53 [00:00<?, ?it/s]"
      ]
     },
     "metadata": {},
     "output_type": "display_data"
    },
    {
     "data": {
      "application/vnd.jupyter.widget-view+json": {
       "model_id": "2a0e6a8e376a4607977826709ffad261",
       "version_major": 2,
       "version_minor": 0
      },
      "text/plain": [
       "  0%|          | 0/53 [00:00<?, ?it/s]"
      ]
     },
     "metadata": {},
     "output_type": "display_data"
    },
    {
     "data": {
      "application/vnd.jupyter.widget-view+json": {
       "model_id": "5e27eb4f2d0b40a8b094e4a2f667589c",
       "version_major": 2,
       "version_minor": 0
      },
      "text/plain": [
       "  0%|          | 0/53 [00:00<?, ?it/s]"
      ]
     },
     "metadata": {},
     "output_type": "display_data"
    },
    {
     "data": {
      "application/vnd.jupyter.widget-view+json": {
       "model_id": "25a95c57d2634a37a47941539187880c",
       "version_major": 2,
       "version_minor": 0
      },
      "text/plain": [
       "  0%|          | 0/53 [00:00<?, ?it/s]"
      ]
     },
     "metadata": {},
     "output_type": "display_data"
    },
    {
     "data": {
      "application/vnd.jupyter.widget-view+json": {
       "model_id": "399f07a416f74b37b02145b238810fb5",
       "version_major": 2,
       "version_minor": 0
      },
      "text/plain": [
       "  0%|          | 0/53 [00:00<?, ?it/s]"
      ]
     },
     "metadata": {},
     "output_type": "display_data"
    },
    {
     "data": {
      "application/vnd.jupyter.widget-view+json": {
       "model_id": "d8b0801e57784eb9b79a1c1f38b9d81e",
       "version_major": 2,
       "version_minor": 0
      },
      "text/plain": [
       "  0%|          | 0/53 [00:00<?, ?it/s]"
      ]
     },
     "metadata": {},
     "output_type": "display_data"
    },
    {
     "data": {
      "application/vnd.jupyter.widget-view+json": {
       "model_id": "8bfeb58b6cc14214883b15457f0ffba9",
       "version_major": 2,
       "version_minor": 0
      },
      "text/plain": [
       "  0%|          | 0/53 [00:00<?, ?it/s]"
      ]
     },
     "metadata": {},
     "output_type": "display_data"
    },
    {
     "data": {
      "application/vnd.jupyter.widget-view+json": {
       "model_id": "c9be7730ca70459ba976345631578ebf",
       "version_major": 2,
       "version_minor": 0
      },
      "text/plain": [
       "  0%|          | 0/53 [00:00<?, ?it/s]"
      ]
     },
     "metadata": {},
     "output_type": "display_data"
    },
    {
     "data": {
      "application/vnd.jupyter.widget-view+json": {
       "model_id": "21c66c7d25614c1f8d50480969acb17d",
       "version_major": 2,
       "version_minor": 0
      },
      "text/plain": [
       "  0%|          | 0/53 [00:00<?, ?it/s]"
      ]
     },
     "metadata": {},
     "output_type": "display_data"
    },
    {
     "data": {
      "application/vnd.jupyter.widget-view+json": {
       "model_id": "276b17f389ae4584a754f3719a891877",
       "version_major": 2,
       "version_minor": 0
      },
      "text/plain": [
       "  0%|          | 0/53 [00:00<?, ?it/s]"
      ]
     },
     "metadata": {},
     "output_type": "display_data"
    },
    {
     "data": {
      "application/vnd.jupyter.widget-view+json": {
       "model_id": "305a0cebd4ab4ec29fa5d0fe2707f958",
       "version_major": 2,
       "version_minor": 0
      },
      "text/plain": [
       "  0%|          | 0/53 [00:00<?, ?it/s]"
      ]
     },
     "metadata": {},
     "output_type": "display_data"
    },
    {
     "data": {
      "application/vnd.jupyter.widget-view+json": {
       "model_id": "d76777ba32134408b61ca14c5243db26",
       "version_major": 2,
       "version_minor": 0
      },
      "text/plain": [
       "  0%|          | 0/53 [00:00<?, ?it/s]"
      ]
     },
     "metadata": {},
     "output_type": "display_data"
    },
    {
     "data": {
      "application/vnd.jupyter.widget-view+json": {
       "model_id": "31e407f9933f4d409c94ebe1ad0dcbaa",
       "version_major": 2,
       "version_minor": 0
      },
      "text/plain": [
       "  0%|          | 0/53 [00:00<?, ?it/s]"
      ]
     },
     "metadata": {},
     "output_type": "display_data"
    },
    {
     "data": {
      "application/vnd.jupyter.widget-view+json": {
       "model_id": "3e3bbcf11e0f4f5685b05f4e9c797a21",
       "version_major": 2,
       "version_minor": 0
      },
      "text/plain": [
       "  0%|          | 0/53 [00:00<?, ?it/s]"
      ]
     },
     "metadata": {},
     "output_type": "display_data"
    },
    {
     "data": {
      "application/vnd.jupyter.widget-view+json": {
       "model_id": "d5f0dc84f9084cb2ae05d53c286784fc",
       "version_major": 2,
       "version_minor": 0
      },
      "text/plain": [
       "  0%|          | 0/53 [00:00<?, ?it/s]"
      ]
     },
     "metadata": {},
     "output_type": "display_data"
    }
   ],
   "source": [
    "import dataclasses\n",
    "from tqdm.auto import tqdm\n",
    "from functools import partial\n",
    "from micrlhf.utils.activation_manipulation import add_vector\n",
    "\n",
    "task_losses_positive = {}\n",
    "\n",
    "n_few_shots, batch_size, max_seq_len = 20, 12, 256\n",
    "seed = 10\n",
    "\n",
    "prompt = \"Follow the pattern:\\n{}\"\n",
    "\n",
    "def make_taker(llama, layer):\n",
    "    taker = jit_wrapper.Jitted(llama.select().at_instances_of(LlamaBlock).apply_with_selected_index(\n",
    "        lambda i, x: x if i >= layer else pz.nn.Identity()\n",
    "    ).select().at_instances_of(pz.nn.EmbeddingLookup).apply(lambda _: pz.nn.Identity())\n",
    "                    .select().at_instances_of(pz.nn.ConstantRescale).pick_nth_selected(0).apply(lambda _: pz.nn.Identity()))\n",
    "\n",
    "    return taker\n",
    "\n",
    "taker = make_taker(llama, layer)\n",
    "\n",
    "prompt_length = len(tokenizer.encode(prompt))\n",
    "\n",
    "for task_name in tqdm(task_names):\n",
    "\n",
    "    sep = 3978\n",
    "    pad = 0\n",
    "    newline = 108\n",
    "\n",
    "\n",
    "    pairs = list(tasks[task_name].items())\n",
    "\n",
    "    n_shot = n_few_shots - 1\n",
    "    if task_name.startswith(\"algo\"):\n",
    "        n_shot = 8\n",
    "\n",
    "    runner = ICLRunner(task_name, pairs, batch_size=batch_size, n_shot=1, max_seq_len=max_seq_len, seed=seed, prompt=prompt, vector_type=\"detector\")\n",
    "\n",
    "    tokenized = runner.get_tokens([\n",
    "        x[:n_few_shots] for x in runner.eval_pairs\n",
    "    ], tokenizer)\n",
    "\n",
    "    inputs = tokenized_to_inputs(**tokenized)\n",
    "    tokens = tokenized[\"input_ids\"]\n",
    "\n",
    "    _, all_resids = get_resids_call(inputs)\n",
    "\n",
    "    scale = 25\n",
    "\n",
    "    resids = all_resids[layer].value.unwrap(\"batch\", \"seq\", \"embedding\")\n",
    "\n",
    "    mask = tokens == newline\n",
    "    mask = jnp.roll(mask, -1, axis=-1)\n",
    "    mask = mask.at[:, :prompt_length].set(False)\n",
    "\n",
    "    col_indices = jnp.arange(mask.shape[1])\n",
    "    col_indices_broadcasted = mask * col_indices\n",
    "    sorted_indices = jnp.sort(col_indices_broadcasted, axis=1, descending=True)\n",
    "    positions = sorted_indices[:, :1]\n",
    "    \n",
    "    def steer_with_direction(direction):\n",
    "        direction = direction / jnp.linalg.norm(direction)\n",
    "        direction = direction * scale\n",
    "        \n",
    "        modified = jax.vmap(lambda a, b: a.at[b].add(direction))(\n",
    "            resids, positions\n",
    "        )\n",
    "        modified = pz.nx.wrap(modified, \"batch\", \"seq\", \"embedding\")\n",
    "\n",
    "        _inputs = dataclasses.replace(inputs, tokens=modified)\n",
    "        logits = taker(_inputs).unwrap(\"batch\", \"seq\", \"vocabulary\")\n",
    "\n",
    "        return logprob_loss(logits, tokens, sep=sep, pad_token=pad, n_first=2)\n",
    "\n",
    "    task_losses_positive[task_name] = [[steer_with_direction(sae[\"W_dec\"][feature]).tolist() for feature in tqdm(features)]]\n",
    "\n",
    "    logits = llama(inputs)\n",
    "\n",
    "    logits = logits.unwrap(\"batch\", \"seq\", \"vocabulary\")\n",
    "\n",
    "    task_losses_positive[task_name].append(logprob_loss(logits, tokens, sep=sep, pad_token=pad, n_first=2).tolist())"
   ]
  },
  {
   "cell_type": "code",
   "execution_count": 20,
   "metadata": {},
   "outputs": [],
   "source": [
    "normalized_losses = {}\n",
    "\n",
    "drop_features = []\n",
    "drop_ids = [features.index(feature) for feature in drop_features]\n",
    "\n",
    "features_dropped = [feature for feature in features if feature not in drop_features]\n",
    "\n",
    "for task_name, losses in task_losses_positive.items():\n",
    "    base_loss = losses[1]\n",
    "    losses = losses[0]\n",
    "    losses = np.array(losses)\n",
    "    losses = np.delete(losses, drop_ids)\n",
    "\n",
    "    losses = np.minimum(losses, base_loss)\n",
    "\n",
    "    losses = (base_loss - losses) / base_loss\n",
    "    \n",
    "    max_loss = np.max(losses)\n",
    "    # min_loss = np.min(losses)\n",
    "\n",
    "    losses = losses / max_loss\n",
    "\n",
    "    losses[losses < 0.2] = 0.0\n",
    "    losses[losses > 1.0] = 1.0\n",
    "    \n",
    "    # mean_loss = np.mean(losses - base_loss)\n",
    "\n",
    "    # base_acc = losses[1][1]\n",
    "\n",
    "    # accs = [base_acc - loss[1] for loss in losses[0]]\n",
    "    normalized_losses[task_name] = losses\n",
    "\n",
    "\n",
    "heatmap = np.zeros((len(task_names), len(features_dropped)))\n",
    "\n",
    "for i, task_name in enumerate(task_names):\n",
    "    for j, feature in enumerate(features_dropped):\n",
    "        heatmap[i, j] = normalized_losses[task_name][j]"
   ]
  },
  {
   "cell_type": "code",
   "execution_count": 21,
   "metadata": {},
   "outputs": [],
   "source": [
    "avg_heatmap  = np.max(heatmap, axis=0)\n",
    "\n",
    "sorted_idx = np.argsort(-avg_heatmap)\n",
    "\n",
    "heatmap = heatmap[:, sorted_idx]\n",
    "\n",
    "# min_heatmap = np.min(heatmap, axis=1)   \n",
    "\n",
    "min_pos = np.argmax(heatmap, axis=1)\n",
    "\n",
    "y_sorted_idx = np.argsort(min_pos)\n",
    "\n",
    "heatmap = heatmap[y_sorted_idx]\n"
   ]
  },
  {
   "cell_type": "code",
   "execution_count": 22,
   "metadata": {},
   "outputs": [],
   "source": [
    "sorted_tasks=[task_names[x] for x in y_sorted_idx]\n",
    "sorted_features=[features_dropped[x] for x in sorted_idx]"
   ]
  },
  {
   "cell_type": "code",
   "execution_count": 23,
   "metadata": {},
   "outputs": [],
   "source": [
    "best_features = {}\n",
    "\n",
    "for i, task_name in enumerate(sorted_tasks):\n",
    "    best_features[task_name] = sorted_features[np.argmax(heatmap[i])]"
   ]
  },
  {
   "cell_type": "code",
   "execution_count": 29,
   "metadata": {},
   "outputs": [],
   "source": [
    "best_features[\"present_simple_gerund\"] = 19628"
   ]
  },
  {
   "cell_type": "code",
   "execution_count": 31,
   "metadata": {},
   "outputs": [
    {
     "data": {
      "application/vnd.jupyter.widget-view+json": {
       "model_id": "1f23aeaf6aef4dcf93944eb09a64457f",
       "version_major": 2,
       "version_minor": 0
      },
      "text/plain": [
       "  0%|          | 0/23 [00:00<?, ?it/s]"
      ]
     },
     "metadata": {},
     "output_type": "display_data"
    }
   ],
   "source": [
    "import plotly.express as px\n",
    "from plotly.subplots import make_subplots\n",
    "\n",
    "from collections import defaultdict\n",
    "\n",
    "feature_masses = defaultdict(lambda: defaultdict(lambda: 1e-6))\n",
    "\n",
    "for task_name in tqdm(task_names):\n",
    "    pairs = list(tasks[task_name].items())\n",
    "    n_shot = n_few_shots - 1\n",
    "    if task_name.startswith(\"algo\"):\n",
    "        n_shot = 16\n",
    "\n",
    "    runner = ICLRunner(task_name, pairs, batch_size=batch_size, n_shot=n_few_shots, max_seq_len=max_seq_len, seed=seed, prompt=prompt)\n",
    "\n",
    "    tokenized = runner.get_tokens([\n",
    "        x[:n_few_shots] for x in runner.train_pairs\n",
    "    ], tokenizer)\n",
    "\n",
    "    inputs = tokenized_to_inputs(**tokenized)\n",
    "    train_tokens = tokenized[\"input_ids\"]\n",
    "\n",
    "    _, all_resids = get_resids_call(inputs)\n",
    "\n",
    "    resids = all_resids[layer].value.unwrap(\"batch\", \"seq\", \"embedding\")\n",
    "\n",
    "    activations_pre, activations, _ = sae_encode(sae, resids)\n",
    "\n",
    "    prompt_length = len(tokenizer.tokenize(prompt))\n",
    "    tokens = train_tokens\n",
    "\n",
    "    masks = [\n",
    "        (\"prompt\", jnp.zeros_like(tokens).at[:, :prompt_length].set(1).astype(bool)),\n",
    "        # (\"input\", jnp.roll(tokens == sep, -1, axis=-1).at[:, :prompt_length].set(False)),\n",
    "        (\"arrow\", jnp.array(tokens == sep).at[:, :prompt_length].set(False)), \n",
    "        # (\"output\", jnp.roll(tokens == newline, -1, axis=-1).at[:, :prompt_length].set(False)),\n",
    "        (\"newline\", jnp.array(tokens == newline).at[:, :prompt_length].set(False)),\n",
    "    ]\n",
    "\n",
    "    input_mask = (tokens == sep) * -1\n",
    "    input_mask += tokens == newline \n",
    "    input_mask = np.cumsum(input_mask, axis=1)\n",
    "    input_mask -= tokens == newline \n",
    "    input_mask[:, :prompt_length] = 0\n",
    "    input_mask = input_mask == 1\n",
    "\n",
    "    masks.append((\"input\", input_mask))\n",
    "\n",
    "    output_mask = (tokens == newline) * -1\n",
    "    output_mask += tokens == sep\n",
    "    output_mask[:, :prompt_length] = 0\n",
    "    output_mask = np.cumsum(output_mask, axis=1)\n",
    "    output_mask -= tokens == sep\n",
    "    output_mask = output_mask == 1\n",
    "\n",
    "    masks.append((\"output\", output_mask))\n",
    "\n",
    "    remaining_mask = tokens != pad\n",
    "    for mask_name, mask in masks:\n",
    "        remaining_mask = jnp.logical_and(remaining_mask, jnp.logical_not(mask))\n",
    "\n",
    "    masks.append((\"remaining\", remaining_mask))\n",
    "\n",
    "    masks = {\n",
    "        k: np.array(v) for k, v in masks\n",
    "    }\n",
    "    \n",
    "    for task, feature in best_features.items():\n",
    "        if task != task_name:\n",
    "            continue\n",
    "        feature_activations = activations[:, :, feature]\n",
    "\n",
    "        feature_activations = np.array(feature_activations)\n",
    "\n",
    "        mask_activations = {\n",
    "            mask_name: feature_activations[mask].flatten()\n",
    "            for mask_name, mask in masks.items()\n",
    "        }\n",
    "        \n",
    "        mask_masses = {\n",
    "            mask_name: sum(mask_activations[mask_name])\n",
    "            for mask_name in masks\n",
    "        }\n",
    "\n",
    "        for mask_name, mask_mass in mask_masses.items():\n",
    "            feature_masses[feature][mask_name] += mask_mass\n",
    "\n",
    "        # for i, (mask_name, mask) in enumerate(masks.items()):\n",
    "\n",
    "        #     macts = mask_activations[mask_name].tolist()\n",
    "\n",
    "            # print(sum(macts))\n",
    "\n",
    "            # if len(macts) > 0:\n",
    "            #     fig.add_trace(px.histogram(macts, nbins=50).data[0], row=1 + f_idx, col=i + 1)\n",
    "\n",
    "        # fig.update_layout(title=f\"Feature {feature}, Task {task}\")\n",
    "\n",
    "    # fig.update_layout(height=1000)\n",
    "    # fig\n",
    "\n",
    "total_masses = {\n",
    "    f: sum(m.values()) for f, m in feature_masses.items()\n",
    "}"
   ]
  },
  {
   "cell_type": "code",
   "execution_count": 32,
   "metadata": {},
   "outputs": [
    {
     "name": "stdout",
     "output_type": "stream",
     "text": [
      "   Feature 11459: prompt  0.000, arrow  0.000, newline  0.000, input  0.082, output  0.918, remaining  0.000, \n",
      "   Feature 19916: prompt  0.000, arrow  0.000, newline  0.000, input  0.000, output  1.000, remaining  0.000, \n",
      "    Feature 3466: prompt  0.000, arrow  0.000, newline  0.000, input  0.014, output  0.986, remaining  0.000, \n",
      "   Feature 10884: prompt  0.000, arrow  0.000, newline  0.000, input  0.107, output  0.893, remaining  0.000, \n",
      "   Feature 26436: prompt  0.000, arrow  0.000, newline  0.000, input  0.000, output  1.000, remaining  0.000, \n",
      "   Feature 13529: prompt  0.000, arrow  0.000, newline  0.000, input  0.103, output  0.897, remaining  0.000, \n",
      "    Feature 1132: prompt  0.000, arrow  0.000, newline  0.000, input  0.000, output  1.000, remaining  0.000, \n",
      "    Feature 1322: prompt  0.000, arrow  0.000, newline  0.000, input  0.037, output  0.963, remaining  0.000, \n",
      "   Feature 21327: prompt  0.000, arrow  0.000, newline  0.000, input  0.000, output  1.000, remaining  0.000, \n",
      "   Feature 11050: prompt  0.000, arrow  0.000, newline  0.000, input  0.013, output  0.987, remaining  0.000, \n",
      "   Feature 29228: prompt  0.000, arrow  0.000, newline  0.000, input  0.000, output  1.000, remaining  0.000, \n",
      "   Feature 19628: prompt  0.000, arrow  0.000, newline  0.000, input  0.000, output  1.000, remaining  0.000, \n",
      "    Feature 7928: prompt  0.000, arrow  0.000, newline  0.000, input  0.003, output  0.997, remaining  0.000, \n",
      "   Feature 31123: prompt  0.000, arrow  0.000, newline  0.000, input  0.000, output  1.000, remaining  0.000, \n",
      "      Feature 99: prompt  0.000, arrow  0.000, newline  0.000, input  0.000, output  1.000, remaining  0.000, \n",
      "   Feature 32115: prompt  0.000, arrow  0.000, newline  0.002, input  0.157, output  0.841, remaining  0.000, \n"
     ]
    }
   ],
   "source": [
    "for f, m in feature_masses.items():\n",
    "    print(f\"{'Feature ' + str(f):>{8 + 8}}: \", end=\"\")\n",
    "    for k, v in m.items():\n",
    "        v = v / total_masses[f]\n",
    "        print(k, f\"{v:>6.3f}\", end=\", \")\n",
    "    print() "
   ]
  },
  {
   "cell_type": "code",
   "execution_count": 33,
   "metadata": {},
   "outputs": [
    {
     "name": "stdout",
     "output_type": "stream",
     "text": [
      "prompt 0.0\n",
      "arrow 0.0\n",
      "newline 0.01\n",
      "input 3.22\n",
      "output 96.76\n",
      "remaining 0.0\n"
     ]
    },
    {
     "data": {
      "text/html": [
       "<script> (()=>{ if (customElements.get('treescope-container') === undefined) { class TreescopeContainer extends HTMLElement { constructor() { super(); this.attachShadow({mode: \"open\"}); this.defns = {}; this.state = {}; } } customElements.define(\"treescope-container\", TreescopeContainer); } if (customElements.get('treescope-run-here') === undefined) { class RunHere extends HTMLElement { constructor() { super() } connectedCallback() { const run = child => { const fn = new Function(child.textContent); child.textContent = \"\"; fn.call(this); this.remove(); }; const child = this.querySelector(\"script\"); if (child) { run(child); } else { new MutationObserver(()=>{ run(this.querySelector(\"script\")); }).observe(this, {childList: true}); } } } customElements.define(\"treescope-run-here\", RunHere); } })(); </script> <treescope-container class=\"treescope_out_813a2efff5a24ffbb995519b4cfab186\" ></treescope-container> <treescope-run-here><script type=\"application/octet-stream\"> const root = ( Array.from(document.getElementsByClassName( \"treescope_out_813a2efff5a24ffbb995519b4cfab186\")) .filter((elt) => !elt.dataset.setup) )[0]; root.dataset.setup = 1; const msg = document.createElement(\"span\"); msg.style = \"color: #aaaaaa; font-family: monospace; transition: opacity 0.2s; opacity: 0.0;\"; msg.textContent = \"(Loading...)\"; root.state.loadingMsg = msg; root.shadowRoot.appendChild(msg); root.state.chain = new Promise((resolve, reject) => { const observer = new IntersectionObserver((entries) => { for (const entry of entries) { if (entry.isIntersecting) { resolve(); observer.disconnect(); return; } } }, {rootMargin: \"1000px\"}); window.setTimeout(() => { if (root.loadingMsg) { root.loadingMsg.style.opacity = \"1.0\"; } observer.observe(root); }, 0); }); root.state.deferring = false; const _insertNode = (node) => { for (let oldScript of node.querySelectorAll(\"script\")) { let newScript = document.createElement(\"script\"); newScript.type = oldScript.type; newScript.textContent = oldScript.textContent; oldScript.parentNode.replaceChild(newScript, oldScript); } if (root.state.loadingMsg) { root.state.loadingMsg.remove(); root.state.loadingMsg = null; } root.shadowRoot.appendChild(node); }; root.defns.insertContent = ((contentNode, compressed) => { if (compressed) { root.state.deferring = true; } if (root.state.deferring) { root.state.chain = (async () => { await root.state.chain; if (compressed) { const encoded = contentNode.textContent; const blob = new Blob([ Uint8Array.from(atob(encoded), (m) => m.codePointAt(0)) ]); const reader = blob.stream().pipeThrough( new DecompressionStream(\"deflate\") ).pipeThrough( new TextDecoderStream(\"utf-8\") ).getReader(); const parts = []; while (true) { const step = await reader.read(); if (step.done) { break; } parts.push(step.value); } const tpl = document.createElement('template'); tpl.innerHTML = parts.join(\"\"); _insertNode(tpl.content); } else { _insertNode(contentNode.content); } })(); } else { _insertNode(contentNode.content); } }); </script></treescope-run-here><div style=\"display:none\"> <script type=\"application/octet-stream\" >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</script> <treescope-run-here><script type=\"application/octet-stream\"> const root = ( Array.from(document.getElementsByClassName( \"treescope_out_813a2efff5a24ffbb995519b4cfab186\")) .filter((elt) => !elt.dataset['step0']) )[0]; root.dataset['step0'] = 1; root.defns.insertContent( this.parentNode.querySelector('script[type=\"application/octet-stream\"]'), true ); this.parentNode.remove(); </script></treescope-run-here> </div>"
      ],
      "text/plain": [
       "<IPython.core.display.HTML object>"
      ]
     },
     "metadata": {},
     "output_type": "display_data"
    },
    {
     "data": {
      "text/html": [
       "<treescope-run-here><script type=\"application/octet-stream\"> const root = ( Array.from(document.getElementsByClassName( \"treescope_out_813a2efff5a24ffbb995519b4cfab186\")) .filter((elt) => !elt.dataset.stolen) )[0]; root.dataset.stolen = 1; this.parentNode.replaceChild(root, this); </script></treescope-run-here>"
      ],
      "text/plain": [
       "defaultdict(<function __main__.<lambda>()>,\n",
       "            {'prompt': 9.910859033363314e-09,\n",
       "             'arrow': 9.910859033363314e-09,\n",
       "             'newline': 0.00013327785187251413,\n",
       "             'input': 0.0322324423292352,\n",
       "             'output': 0.9676342500863152,\n",
       "             'remaining': 9.910859033363314e-09})"
      ]
     },
     "execution_count": 33,
     "metadata": {},
     "output_type": "execute_result"
    }
   ],
   "source": [
    "mean_masses = defaultdict(lambda : 0)\n",
    "\n",
    "\n",
    "for f, m in feature_masses.items():\n",
    "    for k, v in m.items():\n",
    "        mean_masses[k] += v / total_masses[f]\n",
    "\n",
    "for k, v in mean_masses.items():\n",
    "    mean_masses[k] = v / len(feature_masses)\n",
    "\n",
    "# for f, m in feature_masses.items():\n",
    "#     for k, v in m.items():\n",
    "#         mean_masses[k] = mean_masses.get(k, 0) / total_masses[f] + v\n",
    "\n",
    "# for k, v in mean_masses.items():\n",
    "#     mean_masses[k] = v / len(feature_masses)\n",
    "\n",
    "# total_mass = sum(mean_masses.values())\n",
    "\n",
    "# for k, v in mean_masses.items():\n",
    "#     mean_masses[k] = v / total_mass\n",
    "\n",
    "\n",
    "for k, v in mean_masses.items():\n",
    "    print(k, round(v * 100, 2))\n",
    "\n",
    "mean_masses"
   ]
  },
  {
   "cell_type": "code",
   "execution_count": 20,
   "metadata": {},
   "outputs": [],
   "source": [
    "mean_masses_exec = {\n",
    "'prompt': 1.2580385270555209e-08,\n",
    "'input': 0.002129799117443222,\n",
    "'arrow': 0.8980206741304761,\n",
    "'output': 0.051759925762009384,\n",
    "'newline': 0.005361420477192891,\n",
    "'remaining': 0.04272816793249293,\n",
    "}"
   ]
  },
  {
   "cell_type": "code",
   "execution_count": 33,
   "metadata": {},
   "outputs": [
    {
     "name": "stdout",
     "output_type": "stream",
     "text": [
      "                  Detector Executor\n",
      "------------------------------\n",
      "prompt               0.01       0.0       \n",
      "input                0.021      0.002     \n",
      "arrow                0.01       0.898     \n",
      "output               0.889      0.052     \n",
      "newline              0.01       0.005     \n",
      "remaining            0.061      0.043     \n"
     ]
    },
    {
     "ename": "",
     "evalue": "",
     "output_type": "error",
     "traceback": [
      "\u001b[1;31mThe Kernel crashed while executing code in the current cell or a previous cell. \n",
      "\u001b[1;31mPlease review the code in the cell(s) to identify a possible cause of the failure. \n",
      "\u001b[1;31mClick <a href='https://aka.ms/vscodeJupyterKernelCrash'>here</a> for more info. \n",
      "\u001b[1;31mView Jupyter <a href='command:jupyter.viewOutput'>log</a> for further details."
     ]
    }
   ],
   "source": [
    "\n",
    "print(f\"{' '*16}  {'Detector':<8} {'Executor':<8}\")\n",
    "print(\"-\" * 30)\n",
    "\n",
    "for k, v in mean_masses.items():\n",
    "    print(f\"{k:<20} {round(v, 3):<10} {round(mean_masses_exec[k], 3):<10}\")"
   ]
  },
  {
   "cell_type": "code",
   "execution_count": null,
   "metadata": {},
   "outputs": [],
   "source": [
    "n_few_shots, batch_size, max_seq_len = 20, 32, 256\n",
    "seed = 10\n",
    "\n",
    "prompt = \"Follow the pattern:\\n{}\"\n",
    "\n",
    "sep = 3978\n",
    "pad = 0\n",
    "newline = 108"
   ]
  },
  {
   "cell_type": "code",
   "execution_count": 18,
   "metadata": {},
   "outputs": [
    {
     "data": {
      "application/vnd.jupyter.widget-view+json": {
       "model_id": "723ab4b66b704c0c8766964cd002dc4d",
       "version_major": 2,
       "version_minor": 0
      },
      "text/plain": [
       "  0%|          | 0/23 [00:00<?, ?it/s]"
      ]
     },
     "metadata": {},
     "output_type": "display_data"
    },
    {
     "ename": "KeyboardInterrupt",
     "evalue": "",
     "output_type": "error",
     "traceback": [
      "\u001b[0;31m---------------------------------------------------------------------------\u001b[0m",
      "\u001b[0;31mKeyboardInterrupt\u001b[0m                         Traceback (most recent call last)",
      "Cell \u001b[0;32mIn[18], line 77\u001b[0m\n\u001b[1;32m     74\u001b[0m inputs \u001b[38;5;241m=\u001b[39m tokenized_to_inputs(\u001b[38;5;241m*\u001b[39m\u001b[38;5;241m*\u001b[39mtokenized)\n\u001b[1;32m     75\u001b[0m train_tokens \u001b[38;5;241m=\u001b[39m tokenized[\u001b[38;5;124m\"\u001b[39m\u001b[38;5;124minput_ids\u001b[39m\u001b[38;5;124m\"\u001b[39m]\n\u001b[0;32m---> 77\u001b[0m _, all_resids \u001b[38;5;241m=\u001b[39m \u001b[43mget_resids_call\u001b[49m\u001b[43m(\u001b[49m\u001b[43minputs\u001b[49m\u001b[43m)\u001b[49m\n\u001b[1;32m     79\u001b[0m scale \u001b[38;5;241m=\u001b[39m \u001b[38;5;241m40\u001b[39m\n\u001b[1;32m     81\u001b[0m resids \u001b[38;5;241m=\u001b[39m all_resids[layer]\u001b[38;5;241m.\u001b[39mvalue\u001b[38;5;241m.\u001b[39munwrap(\u001b[38;5;124m\"\u001b[39m\u001b[38;5;124mbatch\u001b[39m\u001b[38;5;124m\"\u001b[39m, \u001b[38;5;124m\"\u001b[39m\u001b[38;5;124mseq\u001b[39m\u001b[38;5;124m\"\u001b[39m, \u001b[38;5;124m\"\u001b[39m\u001b[38;5;124membedding\u001b[39m\u001b[38;5;124m\"\u001b[39m)\n",
      "File \u001b[0;32m~/.cache/pypoetry/virtualenvs/micrlhf-progress-_SD4q1c9-py3.10/lib/python3.10/site-packages/penzai/toolshed/jit_wrapper.py:62\u001b[0m, in \u001b[0;36mJitted.__call__\u001b[0;34m(self, argument)\u001b[0m\n\u001b[1;32m     60\u001b[0m \u001b[38;5;28;01mdef\u001b[39;00m \u001b[38;5;21m__call__\u001b[39m(\u001b[38;5;28mself\u001b[39m, argument: Any, \u001b[38;5;241m/\u001b[39m) \u001b[38;5;241m-\u001b[39m\u001b[38;5;241m>\u001b[39m Any:\n\u001b[1;32m     61\u001b[0m   \u001b[38;5;28;01mtry\u001b[39;00m:\n\u001b[0;32m---> 62\u001b[0m     \u001b[38;5;28;01mreturn\u001b[39;00m \u001b[43m_flat_jit_call_layer\u001b[49m\u001b[43m(\u001b[49m\u001b[38;5;28;43mself\u001b[39;49m\u001b[38;5;241;43m.\u001b[39;49m\u001b[43mbody\u001b[49m\u001b[43m,\u001b[49m\u001b[43m \u001b[49m\u001b[43margument\u001b[49m\u001b[43m)\u001b[49m\n\u001b[1;32m     63\u001b[0m   \u001b[38;5;28;01mexcept\u001b[39;00m \u001b[38;5;167;01mTypeError\u001b[39;00m \u001b[38;5;28;01mas\u001b[39;00m exc:\n\u001b[1;32m     64\u001b[0m     impls \u001b[38;5;241m=\u001b[39m pz\u001b[38;5;241m.\u001b[39mselect(\u001b[38;5;28mself\u001b[39m\u001b[38;5;241m.\u001b[39mbody)\u001b[38;5;241m.\u001b[39mat_instances_of(pz\u001b[38;5;241m.\u001b[39mde\u001b[38;5;241m.\u001b[39mEffectRuntimeImpl)\n",
      "    \u001b[0;31m[... skipping hidden 1 frame]\u001b[0m\n",
      "File \u001b[0;32m~/.cache/pypoetry/virtualenvs/micrlhf-progress-_SD4q1c9-py3.10/lib/python3.10/site-packages/jax/_src/pjit.py:332\u001b[0m, in \u001b[0;36m_cpp_pjit.<locals>.cache_miss\u001b[0;34m(*args, **kwargs)\u001b[0m\n\u001b[1;32m    330\u001b[0m \u001b[38;5;129m@api_boundary\u001b[39m\n\u001b[1;32m    331\u001b[0m \u001b[38;5;28;01mdef\u001b[39;00m \u001b[38;5;21mcache_miss\u001b[39m(\u001b[38;5;241m*\u001b[39margs, \u001b[38;5;241m*\u001b[39m\u001b[38;5;241m*\u001b[39mkwargs):\n\u001b[0;32m--> 332\u001b[0m   outs, out_flat, out_tree, args_flat, jaxpr, attrs_tracked \u001b[38;5;241m=\u001b[39m \u001b[43m_python_pjit_helper\u001b[49m\u001b[43m(\u001b[49m\n\u001b[1;32m    333\u001b[0m \u001b[43m      \u001b[49m\u001b[43mfun\u001b[49m\u001b[43m,\u001b[49m\u001b[43m \u001b[49m\u001b[43mjit_info\u001b[49m\u001b[43m,\u001b[49m\u001b[43m \u001b[49m\u001b[38;5;241;43m*\u001b[39;49m\u001b[43margs\u001b[49m\u001b[43m,\u001b[49m\u001b[43m \u001b[49m\u001b[38;5;241;43m*\u001b[39;49m\u001b[38;5;241;43m*\u001b[39;49m\u001b[43mkwargs\u001b[49m\u001b[43m)\u001b[49m\n\u001b[1;32m    334\u001b[0m   executable \u001b[38;5;241m=\u001b[39m _read_most_recent_pjit_call_executable(jaxpr)\n\u001b[1;32m    335\u001b[0m   pgle_profiler \u001b[38;5;241m=\u001b[39m _read_pgle_profiler(jaxpr)\n",
      "File \u001b[0;32m~/.cache/pypoetry/virtualenvs/micrlhf-progress-_SD4q1c9-py3.10/lib/python3.10/site-packages/jax/_src/pjit.py:190\u001b[0m, in \u001b[0;36m_python_pjit_helper\u001b[0;34m(fun, jit_info, *args, **kwargs)\u001b[0m\n\u001b[1;32m    187\u001b[0m   args_flat \u001b[38;5;241m=\u001b[39m [\u001b[38;5;241m*\u001b[39minit_states, \u001b[38;5;241m*\u001b[39margs_flat]\n\u001b[1;32m    189\u001b[0m \u001b[38;5;28;01mtry\u001b[39;00m:\n\u001b[0;32m--> 190\u001b[0m   out_flat \u001b[38;5;241m=\u001b[39m \u001b[43mpjit_p\u001b[49m\u001b[38;5;241;43m.\u001b[39;49m\u001b[43mbind\u001b[49m\u001b[43m(\u001b[49m\u001b[38;5;241;43m*\u001b[39;49m\u001b[43margs_flat\u001b[49m\u001b[43m,\u001b[49m\u001b[43m \u001b[49m\u001b[38;5;241;43m*\u001b[39;49m\u001b[38;5;241;43m*\u001b[39;49m\u001b[43mp\u001b[49m\u001b[38;5;241;43m.\u001b[39;49m\u001b[43mparams\u001b[49m\u001b[43m)\u001b[49m\n\u001b[1;32m    191\u001b[0m \u001b[38;5;28;01mexcept\u001b[39;00m pxla\u001b[38;5;241m.\u001b[39mDeviceAssignmentMismatchError \u001b[38;5;28;01mas\u001b[39;00m e:\n\u001b[1;32m    192\u001b[0m   fails, \u001b[38;5;241m=\u001b[39m e\u001b[38;5;241m.\u001b[39margs\n",
      "File \u001b[0;32m~/.cache/pypoetry/virtualenvs/micrlhf-progress-_SD4q1c9-py3.10/lib/python3.10/site-packages/jax/_src/core.py:2739\u001b[0m, in \u001b[0;36mAxisPrimitive.bind\u001b[0;34m(self, *args, **params)\u001b[0m\n\u001b[1;32m   2735\u001b[0m axis_main \u001b[38;5;241m=\u001b[39m \u001b[38;5;28mmax\u001b[39m((axis_frame(a)\u001b[38;5;241m.\u001b[39mmain_trace \u001b[38;5;28;01mfor\u001b[39;00m a \u001b[38;5;129;01min\u001b[39;00m used_axis_names(\u001b[38;5;28mself\u001b[39m, params)),\n\u001b[1;32m   2736\u001b[0m                 default\u001b[38;5;241m=\u001b[39m\u001b[38;5;28;01mNone\u001b[39;00m, key\u001b[38;5;241m=\u001b[39m\u001b[38;5;28;01mlambda\u001b[39;00m t: \u001b[38;5;28mgetattr\u001b[39m(t, \u001b[38;5;124m'\u001b[39m\u001b[38;5;124mlevel\u001b[39m\u001b[38;5;124m'\u001b[39m, \u001b[38;5;241m-\u001b[39m\u001b[38;5;241m1\u001b[39m))\n\u001b[1;32m   2737\u001b[0m top_trace \u001b[38;5;241m=\u001b[39m (top_trace \u001b[38;5;28;01mif\u001b[39;00m \u001b[38;5;129;01mnot\u001b[39;00m axis_main \u001b[38;5;129;01mor\u001b[39;00m axis_main\u001b[38;5;241m.\u001b[39mlevel \u001b[38;5;241m<\u001b[39m top_trace\u001b[38;5;241m.\u001b[39mlevel\n\u001b[1;32m   2738\u001b[0m              \u001b[38;5;28;01melse\u001b[39;00m axis_main\u001b[38;5;241m.\u001b[39mwith_cur_sublevel())\n\u001b[0;32m-> 2739\u001b[0m \u001b[38;5;28;01mreturn\u001b[39;00m \u001b[38;5;28;43mself\u001b[39;49m\u001b[38;5;241;43m.\u001b[39;49m\u001b[43mbind_with_trace\u001b[49m\u001b[43m(\u001b[49m\u001b[43mtop_trace\u001b[49m\u001b[43m,\u001b[49m\u001b[43m \u001b[49m\u001b[43margs\u001b[49m\u001b[43m,\u001b[49m\u001b[43m \u001b[49m\u001b[43mparams\u001b[49m\u001b[43m)\u001b[49m\n",
      "File \u001b[0;32m~/.cache/pypoetry/virtualenvs/micrlhf-progress-_SD4q1c9-py3.10/lib/python3.10/site-packages/jax/_src/core.py:433\u001b[0m, in \u001b[0;36mPrimitive.bind_with_trace\u001b[0;34m(self, trace, args, params)\u001b[0m\n\u001b[1;32m    431\u001b[0m \u001b[38;5;28;01mdef\u001b[39;00m \u001b[38;5;21mbind_with_trace\u001b[39m(\u001b[38;5;28mself\u001b[39m, trace, args, params):\n\u001b[1;32m    432\u001b[0m   \u001b[38;5;28;01mwith\u001b[39;00m pop_level(trace\u001b[38;5;241m.\u001b[39mlevel):\n\u001b[0;32m--> 433\u001b[0m     out \u001b[38;5;241m=\u001b[39m \u001b[43mtrace\u001b[49m\u001b[38;5;241;43m.\u001b[39;49m\u001b[43mprocess_primitive\u001b[49m\u001b[43m(\u001b[49m\u001b[38;5;28;43mself\u001b[39;49m\u001b[43m,\u001b[49m\u001b[43m \u001b[49m\u001b[38;5;28;43mmap\u001b[39;49m\u001b[43m(\u001b[49m\u001b[43mtrace\u001b[49m\u001b[38;5;241;43m.\u001b[39;49m\u001b[43mfull_raise\u001b[49m\u001b[43m,\u001b[49m\u001b[43m \u001b[49m\u001b[43margs\u001b[49m\u001b[43m)\u001b[49m\u001b[43m,\u001b[49m\u001b[43m \u001b[49m\u001b[43mparams\u001b[49m\u001b[43m)\u001b[49m\n\u001b[1;32m    434\u001b[0m   \u001b[38;5;28;01mreturn\u001b[39;00m \u001b[38;5;28mmap\u001b[39m(full_lower, out) \u001b[38;5;28;01mif\u001b[39;00m \u001b[38;5;28mself\u001b[39m\u001b[38;5;241m.\u001b[39mmultiple_results \u001b[38;5;28;01melse\u001b[39;00m full_lower(out)\n",
      "File \u001b[0;32m~/.cache/pypoetry/virtualenvs/micrlhf-progress-_SD4q1c9-py3.10/lib/python3.10/site-packages/jax/_src/core.py:939\u001b[0m, in \u001b[0;36mEvalTrace.process_primitive\u001b[0;34m(self, primitive, tracers, params)\u001b[0m\n\u001b[1;32m    937\u001b[0m   \u001b[38;5;28;01mreturn\u001b[39;00m call_impl_with_key_reuse_checks(primitive, primitive\u001b[38;5;241m.\u001b[39mimpl, \u001b[38;5;241m*\u001b[39mtracers, \u001b[38;5;241m*\u001b[39m\u001b[38;5;241m*\u001b[39mparams)\n\u001b[1;32m    938\u001b[0m \u001b[38;5;28;01melse\u001b[39;00m:\n\u001b[0;32m--> 939\u001b[0m   \u001b[38;5;28;01mreturn\u001b[39;00m \u001b[43mprimitive\u001b[49m\u001b[38;5;241;43m.\u001b[39;49m\u001b[43mimpl\u001b[49m\u001b[43m(\u001b[49m\u001b[38;5;241;43m*\u001b[39;49m\u001b[43mtracers\u001b[49m\u001b[43m,\u001b[49m\u001b[43m \u001b[49m\u001b[38;5;241;43m*\u001b[39;49m\u001b[38;5;241;43m*\u001b[39;49m\u001b[43mparams\u001b[49m\u001b[43m)\u001b[49m\n",
      "File \u001b[0;32m~/.cache/pypoetry/virtualenvs/micrlhf-progress-_SD4q1c9-py3.10/lib/python3.10/site-packages/jax/_src/pjit.py:1730\u001b[0m, in \u001b[0;36m_pjit_call_impl\u001b[0;34m(jaxpr, in_shardings, out_shardings, in_layouts, out_layouts, resource_env, donated_invars, name, keep_unused, inline, *args)\u001b[0m\n\u001b[1;32m   1727\u001b[0m donated_argnums \u001b[38;5;241m=\u001b[39m [i \u001b[38;5;28;01mfor\u001b[39;00m i, d \u001b[38;5;129;01min\u001b[39;00m \u001b[38;5;28menumerate\u001b[39m(donated_invars) \u001b[38;5;28;01mif\u001b[39;00m d]\n\u001b[1;32m   1728\u001b[0m has_explicit_sharding \u001b[38;5;241m=\u001b[39m _pjit_explicit_sharding(\n\u001b[1;32m   1729\u001b[0m     in_shardings, out_shardings, \u001b[38;5;28;01mNone\u001b[39;00m, \u001b[38;5;28;01mNone\u001b[39;00m)\n\u001b[0;32m-> 1730\u001b[0m \u001b[38;5;28;01mreturn\u001b[39;00m \u001b[43mxc\u001b[49m\u001b[38;5;241;43m.\u001b[39;49m\u001b[43m_xla\u001b[49m\u001b[38;5;241;43m.\u001b[39;49m\u001b[43mpjit\u001b[49m\u001b[43m(\u001b[49m\n\u001b[1;32m   1731\u001b[0m \u001b[43m    \u001b[49m\u001b[43mname\u001b[49m\u001b[43m,\u001b[49m\u001b[43m \u001b[49m\u001b[43mf\u001b[49m\u001b[43m,\u001b[49m\u001b[43m \u001b[49m\u001b[43mcall_impl_cache_miss\u001b[49m\u001b[43m,\u001b[49m\u001b[43m \u001b[49m\u001b[43m[\u001b[49m\u001b[43m]\u001b[49m\u001b[43m,\u001b[49m\u001b[43m \u001b[49m\u001b[43m[\u001b[49m\u001b[43m]\u001b[49m\u001b[43m,\u001b[49m\u001b[43m \u001b[49m\u001b[43mdonated_argnums\u001b[49m\u001b[43m,\u001b[49m\n\u001b[1;32m   1732\u001b[0m \u001b[43m    \u001b[49m\u001b[43mtree_util\u001b[49m\u001b[38;5;241;43m.\u001b[39;49m\u001b[43mdispatch_registry\u001b[49m\u001b[43m,\u001b[49m\n\u001b[1;32m   1733\u001b[0m \u001b[43m    \u001b[49m\u001b[38;5;28;43;01mlambda\u001b[39;49;00m\u001b[43m \u001b[49m\u001b[43mx\u001b[49m\u001b[43m,\u001b[49m\u001b[43m \u001b[49m\u001b[43msharding\u001b[49m\u001b[43m:\u001b[49m\u001b[43m \u001b[49m\u001b[43mpxla\u001b[49m\u001b[38;5;241;43m.\u001b[39;49m\u001b[43mshard_args\u001b[49m\u001b[43m(\u001b[49m\u001b[43m[\u001b[49m\u001b[43msharding\u001b[49m\u001b[43m]\u001b[49m\u001b[43m,\u001b[49m\u001b[43m \u001b[49m\u001b[43m[\u001b[49m\u001b[43mx\u001b[49m\u001b[43m]\u001b[49m\u001b[43m)\u001b[49m\u001b[43m[\u001b[49m\u001b[38;5;241;43m0\u001b[39;49m\u001b[43m]\u001b[49m\u001b[43m,\u001b[49m\n\u001b[1;32m   1734\u001b[0m \u001b[43m    \u001b[49m\u001b[43m_get_cpp_global_cache\u001b[49m\u001b[43m(\u001b[49m\u001b[43mhas_explicit_sharding\u001b[49m\u001b[43m)\u001b[49m\u001b[43m)\u001b[49m\u001b[43m(\u001b[49m\u001b[38;5;241;43m*\u001b[39;49m\u001b[43margs\u001b[49m\u001b[43m)\u001b[49m\n",
      "File \u001b[0;32m~/.cache/pypoetry/virtualenvs/micrlhf-progress-_SD4q1c9-py3.10/lib/python3.10/site-packages/jax/_src/pjit.py:1712\u001b[0m, in \u001b[0;36m_pjit_call_impl.<locals>.call_impl_cache_miss\u001b[0;34m(*args_, **kwargs_)\u001b[0m\n\u001b[1;32m   1711\u001b[0m \u001b[38;5;28;01mdef\u001b[39;00m \u001b[38;5;21mcall_impl_cache_miss\u001b[39m(\u001b[38;5;241m*\u001b[39margs_, \u001b[38;5;241m*\u001b[39m\u001b[38;5;241m*\u001b[39mkwargs_):\n\u001b[0;32m-> 1712\u001b[0m   out_flat, compiled \u001b[38;5;241m=\u001b[39m \u001b[43m_pjit_call_impl_python\u001b[49m\u001b[43m(\u001b[49m\n\u001b[1;32m   1713\u001b[0m \u001b[43m      \u001b[49m\u001b[38;5;241;43m*\u001b[39;49m\u001b[43margs\u001b[49m\u001b[43m,\u001b[49m\u001b[43m \u001b[49m\u001b[43mjaxpr\u001b[49m\u001b[38;5;241;43m=\u001b[39;49m\u001b[43mjaxpr\u001b[49m\u001b[43m,\u001b[49m\u001b[43m \u001b[49m\u001b[43min_shardings\u001b[49m\u001b[38;5;241;43m=\u001b[39;49m\u001b[43min_shardings\u001b[49m\u001b[43m,\u001b[49m\n\u001b[1;32m   1714\u001b[0m \u001b[43m      \u001b[49m\u001b[43mout_shardings\u001b[49m\u001b[38;5;241;43m=\u001b[39;49m\u001b[43mout_shardings\u001b[49m\u001b[43m,\u001b[49m\u001b[43m \u001b[49m\u001b[43min_layouts\u001b[49m\u001b[38;5;241;43m=\u001b[39;49m\u001b[43min_layouts\u001b[49m\u001b[43m,\u001b[49m\n\u001b[1;32m   1715\u001b[0m \u001b[43m      \u001b[49m\u001b[43mout_layouts\u001b[49m\u001b[38;5;241;43m=\u001b[39;49m\u001b[43mout_layouts\u001b[49m\u001b[43m,\u001b[49m\u001b[43m \u001b[49m\u001b[43mresource_env\u001b[49m\u001b[38;5;241;43m=\u001b[39;49m\u001b[43mresource_env\u001b[49m\u001b[43m,\u001b[49m\n\u001b[1;32m   1716\u001b[0m \u001b[43m      \u001b[49m\u001b[43mdonated_invars\u001b[49m\u001b[38;5;241;43m=\u001b[39;49m\u001b[43mdonated_invars\u001b[49m\u001b[43m,\u001b[49m\u001b[43m \u001b[49m\u001b[43mname\u001b[49m\u001b[38;5;241;43m=\u001b[39;49m\u001b[43mname\u001b[49m\u001b[43m,\u001b[49m\u001b[43m \u001b[49m\u001b[43mkeep_unused\u001b[49m\u001b[38;5;241;43m=\u001b[39;49m\u001b[43mkeep_unused\u001b[49m\u001b[43m,\u001b[49m\n\u001b[1;32m   1717\u001b[0m \u001b[43m      \u001b[49m\u001b[43minline\u001b[49m\u001b[38;5;241;43m=\u001b[39;49m\u001b[43minline\u001b[49m\u001b[43m)\u001b[49m\n\u001b[1;32m   1718\u001b[0m   pgle_profiler \u001b[38;5;241m=\u001b[39m _read_pgle_profiler(jaxpr)\n\u001b[1;32m   1719\u001b[0m   fastpath_data \u001b[38;5;241m=\u001b[39m _get_fastpath_data(\n\u001b[1;32m   1720\u001b[0m       compiled, tree_structure(out_flat), args, out_flat, [], jaxpr\u001b[38;5;241m.\u001b[39meffects,\n\u001b[1;32m   1721\u001b[0m       jaxpr\u001b[38;5;241m.\u001b[39mconsts, \u001b[38;5;28;01mNone\u001b[39;00m, pgle_profiler)\n",
      "File \u001b[0;32m~/.cache/pypoetry/virtualenvs/micrlhf-progress-_SD4q1c9-py3.10/lib/python3.10/site-packages/jax/_src/pjit.py:1642\u001b[0m, in \u001b[0;36m_pjit_call_impl_python\u001b[0;34m(jaxpr, in_shardings, out_shardings, in_layouts, out_layouts, resource_env, donated_invars, name, keep_unused, inline, *args)\u001b[0m\n\u001b[1;32m   1629\u001b[0m     compile_options \u001b[38;5;241m=\u001b[39m {\u001b[38;5;124m'\u001b[39m\u001b[38;5;124mfdo_profile\u001b[39m\u001b[38;5;124m'\u001b[39m: fdo_profile}\n\u001b[1;32m   1631\u001b[0m \u001b[38;5;66;03m# TODO(patrios): Do not pass mutable profile session through cached lowering\u001b[39;00m\n\u001b[1;32m   1632\u001b[0m \u001b[38;5;66;03m# chain. Instead we need to move profilers dictionary to pxla module and use\u001b[39;00m\n\u001b[1;32m   1633\u001b[0m \u001b[38;5;66;03m# module as key. Right now we can't do that since there is no way to evict _pjit_lower_cached cache for in PGLE mode.\u001b[39;00m\n\u001b[1;32m   1634\u001b[0m compiled \u001b[38;5;241m=\u001b[39m \u001b[43m_resolve_and_lower\u001b[49m\u001b[43m(\u001b[49m\n\u001b[1;32m   1635\u001b[0m \u001b[43m    \u001b[49m\u001b[43margs\u001b[49m\u001b[43m,\u001b[49m\u001b[43m \u001b[49m\u001b[43mjaxpr\u001b[49m\u001b[38;5;241;43m=\u001b[39;49m\u001b[43mjaxpr\u001b[49m\u001b[43m,\u001b[49m\u001b[43m \u001b[49m\u001b[43min_shardings\u001b[49m\u001b[38;5;241;43m=\u001b[39;49m\u001b[43min_shardings\u001b[49m\u001b[43m,\u001b[49m\n\u001b[1;32m   1636\u001b[0m \u001b[43m    \u001b[49m\u001b[43mout_shardings\u001b[49m\u001b[38;5;241;43m=\u001b[39;49m\u001b[43mout_shardings\u001b[49m\u001b[43m,\u001b[49m\u001b[43m \u001b[49m\u001b[43min_layouts\u001b[49m\u001b[38;5;241;43m=\u001b[39;49m\u001b[43min_layouts\u001b[49m\u001b[43m,\u001b[49m\n\u001b[1;32m   1637\u001b[0m \u001b[43m    \u001b[49m\u001b[43mout_layouts\u001b[49m\u001b[38;5;241;43m=\u001b[39;49m\u001b[43mout_layouts\u001b[49m\u001b[43m,\u001b[49m\u001b[43m \u001b[49m\u001b[43mresource_env\u001b[49m\u001b[38;5;241;43m=\u001b[39;49m\u001b[43mresource_env\u001b[49m\u001b[43m,\u001b[49m\n\u001b[1;32m   1638\u001b[0m \u001b[43m    \u001b[49m\u001b[43mdonated_invars\u001b[49m\u001b[38;5;241;43m=\u001b[39;49m\u001b[43mdonated_invars\u001b[49m\u001b[43m,\u001b[49m\u001b[43m \u001b[49m\u001b[43mname\u001b[49m\u001b[38;5;241;43m=\u001b[39;49m\u001b[43mname\u001b[49m\u001b[43m,\u001b[49m\u001b[43m \u001b[49m\u001b[43mkeep_unused\u001b[49m\u001b[38;5;241;43m=\u001b[39;49m\u001b[43mkeep_unused\u001b[49m\u001b[43m,\u001b[49m\n\u001b[1;32m   1639\u001b[0m \u001b[43m    \u001b[49m\u001b[43minline\u001b[49m\u001b[38;5;241;43m=\u001b[39;49m\u001b[43minline\u001b[49m\u001b[43m,\u001b[49m\u001b[43m \u001b[49m\u001b[43mlowering_platforms\u001b[49m\u001b[38;5;241;43m=\u001b[39;49m\u001b[38;5;28;43;01mNone\u001b[39;49;00m\u001b[43m,\u001b[49m\n\u001b[1;32m   1640\u001b[0m \u001b[43m    \u001b[49m\u001b[43mlowering_parameters\u001b[49m\u001b[38;5;241;43m=\u001b[39;49m\u001b[43mmlir\u001b[49m\u001b[38;5;241;43m.\u001b[39;49m\u001b[43mLoweringParameters\u001b[49m\u001b[43m(\u001b[49m\u001b[43m)\u001b[49m\u001b[43m,\u001b[49m\n\u001b[1;32m   1641\u001b[0m \u001b[43m    \u001b[49m\u001b[43mpgle_profiler\u001b[49m\u001b[38;5;241;43m=\u001b[39;49m\u001b[43mpgle_profiler\u001b[49m\n\u001b[0;32m-> 1642\u001b[0m \u001b[43m\u001b[49m\u001b[43m)\u001b[49m\u001b[38;5;241;43m.\u001b[39;49m\u001b[43mcompile\u001b[49m\u001b[43m(\u001b[49m\u001b[43mcompile_options\u001b[49m\u001b[43m)\u001b[49m\n\u001b[1;32m   1644\u001b[0m _most_recent_pjit_call_executable\u001b[38;5;241m.\u001b[39mweak_key_dict[jaxpr] \u001b[38;5;241m=\u001b[39m compiled\n\u001b[1;32m   1645\u001b[0m \u001b[38;5;66;03m# This check is expensive so only do it if enable_checks is on.\u001b[39;00m\n",
      "File \u001b[0;32m~/.cache/pypoetry/virtualenvs/micrlhf-progress-_SD4q1c9-py3.10/lib/python3.10/site-packages/jax/_src/interpreters/pxla.py:2295\u001b[0m, in \u001b[0;36mMeshComputation.compile\u001b[0;34m(self, compiler_options)\u001b[0m\n\u001b[1;32m   2293\u001b[0m \u001b[38;5;28;01mdef\u001b[39;00m \u001b[38;5;21mcompile\u001b[39m(\u001b[38;5;28mself\u001b[39m, compiler_options\u001b[38;5;241m=\u001b[39m\u001b[38;5;28;01mNone\u001b[39;00m) \u001b[38;5;241m-\u001b[39m\u001b[38;5;241m>\u001b[39m MeshExecutable:\n\u001b[1;32m   2294\u001b[0m   \u001b[38;5;28;01mif\u001b[39;00m \u001b[38;5;28mself\u001b[39m\u001b[38;5;241m.\u001b[39m_executable \u001b[38;5;129;01mis\u001b[39;00m \u001b[38;5;28;01mNone\u001b[39;00m \u001b[38;5;129;01mor\u001b[39;00m compiler_options \u001b[38;5;129;01mis\u001b[39;00m \u001b[38;5;129;01mnot\u001b[39;00m \u001b[38;5;28;01mNone\u001b[39;00m:\n\u001b[0;32m-> 2295\u001b[0m     executable \u001b[38;5;241m=\u001b[39m \u001b[43mUnloadedMeshExecutable\u001b[49m\u001b[38;5;241;43m.\u001b[39;49m\u001b[43mfrom_hlo\u001b[49m\u001b[43m(\u001b[49m\n\u001b[1;32m   2296\u001b[0m \u001b[43m        \u001b[49m\u001b[38;5;28;43mself\u001b[39;49m\u001b[38;5;241;43m.\u001b[39;49m\u001b[43m_name\u001b[49m\u001b[43m,\u001b[49m\u001b[43m \u001b[49m\u001b[38;5;28;43mself\u001b[39;49m\u001b[38;5;241;43m.\u001b[39;49m\u001b[43m_hlo\u001b[49m\u001b[43m,\u001b[49m\u001b[43m \u001b[49m\u001b[38;5;241;43m*\u001b[39;49m\u001b[38;5;241;43m*\u001b[39;49m\u001b[38;5;28;43mself\u001b[39;49m\u001b[38;5;241;43m.\u001b[39;49m\u001b[43mcompile_args\u001b[49m\u001b[43m,\u001b[49m\n\u001b[1;32m   2297\u001b[0m \u001b[43m        \u001b[49m\u001b[43mcompiler_options\u001b[49m\u001b[38;5;241;43m=\u001b[39;49m\u001b[43mcompiler_options\u001b[49m\u001b[43m)\u001b[49m\n\u001b[1;32m   2298\u001b[0m     \u001b[38;5;28;01mif\u001b[39;00m compiler_options \u001b[38;5;129;01mis\u001b[39;00m \u001b[38;5;28;01mNone\u001b[39;00m:\n\u001b[1;32m   2299\u001b[0m       \u001b[38;5;28mself\u001b[39m\u001b[38;5;241m.\u001b[39m_executable \u001b[38;5;241m=\u001b[39m executable\n",
      "File \u001b[0;32m~/.cache/pypoetry/virtualenvs/micrlhf-progress-_SD4q1c9-py3.10/lib/python3.10/site-packages/jax/_src/interpreters/pxla.py:2807\u001b[0m, in \u001b[0;36mUnloadedMeshExecutable.from_hlo\u001b[0;34m(***failed resolving arguments***)\u001b[0m\n\u001b[1;32m   2804\u001b[0m       mesh \u001b[38;5;241m=\u001b[39m i\u001b[38;5;241m.\u001b[39mmesh  \u001b[38;5;66;03m# type: ignore\u001b[39;00m\n\u001b[1;32m   2805\u001b[0m       \u001b[38;5;28;01mbreak\u001b[39;00m\n\u001b[0;32m-> 2807\u001b[0m xla_executable \u001b[38;5;241m=\u001b[39m \u001b[43m_cached_compilation\u001b[49m\u001b[43m(\u001b[49m\n\u001b[1;32m   2808\u001b[0m \u001b[43m    \u001b[49m\u001b[43mhlo\u001b[49m\u001b[43m,\u001b[49m\u001b[43m \u001b[49m\u001b[43mname\u001b[49m\u001b[43m,\u001b[49m\u001b[43m \u001b[49m\u001b[43mmesh\u001b[49m\u001b[43m,\u001b[49m\u001b[43m \u001b[49m\u001b[43mspmd_lowering\u001b[49m\u001b[43m,\u001b[49m\n\u001b[1;32m   2809\u001b[0m \u001b[43m    \u001b[49m\u001b[43mtuple_args\u001b[49m\u001b[43m,\u001b[49m\u001b[43m \u001b[49m\u001b[43mauto_spmd_lowering\u001b[49m\u001b[43m,\u001b[49m\u001b[43m \u001b[49m\u001b[43mallow_prop_to_inputs\u001b[49m\u001b[43m,\u001b[49m\n\u001b[1;32m   2810\u001b[0m \u001b[43m    \u001b[49m\u001b[43mallow_prop_to_outputs\u001b[49m\u001b[43m,\u001b[49m\u001b[43m \u001b[49m\u001b[38;5;28;43mtuple\u001b[39;49m\u001b[43m(\u001b[49m\u001b[43mhost_callbacks\u001b[49m\u001b[43m)\u001b[49m\u001b[43m,\u001b[49m\u001b[43m \u001b[49m\u001b[43mbackend\u001b[49m\u001b[43m,\u001b[49m\u001b[43m \u001b[49m\u001b[43mda\u001b[49m\u001b[43m,\u001b[49m\u001b[43m \u001b[49m\u001b[43mpmap_nreps\u001b[49m\u001b[43m,\u001b[49m\n\u001b[1;32m   2811\u001b[0m \u001b[43m    \u001b[49m\u001b[43mcompiler_options_keys\u001b[49m\u001b[43m,\u001b[49m\u001b[43m \u001b[49m\u001b[43mcompiler_options_values\u001b[49m\u001b[43m,\u001b[49m\u001b[43m \u001b[49m\u001b[43mpgle_profiler\u001b[49m\u001b[43m)\u001b[49m\n\u001b[1;32m   2813\u001b[0m \u001b[38;5;28;01mif\u001b[39;00m auto_spmd_lowering:\n\u001b[1;32m   2814\u001b[0m   \u001b[38;5;28;01massert\u001b[39;00m mesh \u001b[38;5;129;01mis\u001b[39;00m \u001b[38;5;129;01mnot\u001b[39;00m \u001b[38;5;28;01mNone\u001b[39;00m\n",
      "File \u001b[0;32m~/.cache/pypoetry/virtualenvs/micrlhf-progress-_SD4q1c9-py3.10/lib/python3.10/site-packages/jax/_src/interpreters/pxla.py:2621\u001b[0m, in \u001b[0;36m_cached_compilation\u001b[0;34m(computation, name, mesh, spmd_lowering, tuple_args, auto_spmd_lowering, allow_prop_to_inputs, allow_prop_to_outputs, host_callbacks, backend, da, pmap_nreps, compiler_options_keys, compiler_options_values, pgle_profiler)\u001b[0m\n\u001b[1;32m   2613\u001b[0m compile_options \u001b[38;5;241m=\u001b[39m create_compile_options(\n\u001b[1;32m   2614\u001b[0m     computation, mesh, spmd_lowering, tuple_args, auto_spmd_lowering,\n\u001b[1;32m   2615\u001b[0m     allow_prop_to_inputs, allow_prop_to_outputs, backend,\n\u001b[1;32m   2616\u001b[0m     dev, pmap_nreps, compiler_options)\n\u001b[1;32m   2618\u001b[0m \u001b[38;5;28;01mwith\u001b[39;00m dispatch\u001b[38;5;241m.\u001b[39mlog_elapsed_time(\n\u001b[1;32m   2619\u001b[0m     \u001b[38;5;124m\"\u001b[39m\u001b[38;5;124mFinished XLA compilation of \u001b[39m\u001b[38;5;132;01m{fun_name}\u001b[39;00m\u001b[38;5;124m in \u001b[39m\u001b[38;5;132;01m{elapsed_time:.9f}\u001b[39;00m\u001b[38;5;124m sec\u001b[39m\u001b[38;5;124m\"\u001b[39m,\n\u001b[1;32m   2620\u001b[0m     fun_name\u001b[38;5;241m=\u001b[39mname, event\u001b[38;5;241m=\u001b[39mdispatch\u001b[38;5;241m.\u001b[39mBACKEND_COMPILE_EVENT):\n\u001b[0;32m-> 2621\u001b[0m   xla_executable \u001b[38;5;241m=\u001b[39m \u001b[43mcompiler\u001b[49m\u001b[38;5;241;43m.\u001b[39;49m\u001b[43mcompile_or_get_cached\u001b[49m\u001b[43m(\u001b[49m\n\u001b[1;32m   2622\u001b[0m \u001b[43m      \u001b[49m\u001b[43mbackend\u001b[49m\u001b[43m,\u001b[49m\u001b[43m \u001b[49m\u001b[43mcomputation\u001b[49m\u001b[43m,\u001b[49m\u001b[43m \u001b[49m\u001b[43mdev\u001b[49m\u001b[43m,\u001b[49m\u001b[43m \u001b[49m\u001b[43mcompile_options\u001b[49m\u001b[43m,\u001b[49m\u001b[43m \u001b[49m\u001b[43mhost_callbacks\u001b[49m\u001b[43m,\u001b[49m\n\u001b[1;32m   2623\u001b[0m \u001b[43m      \u001b[49m\u001b[43mpgle_profiler\u001b[49m\u001b[43m)\u001b[49m\n\u001b[1;32m   2624\u001b[0m \u001b[38;5;28;01mreturn\u001b[39;00m xla_executable\n",
      "File \u001b[0;32m~/.cache/pypoetry/virtualenvs/micrlhf-progress-_SD4q1c9-py3.10/lib/python3.10/site-packages/jax/_src/compiler.py:399\u001b[0m, in \u001b[0;36mcompile_or_get_cached\u001b[0;34m(backend, computation, devices, compile_options, host_callbacks, pgle_profiler)\u001b[0m\n\u001b[1;32m    397\u001b[0m \u001b[38;5;28;01melse\u001b[39;00m:\n\u001b[1;32m    398\u001b[0m   log_persistent_cache_miss(module_name, cache_key)\n\u001b[0;32m--> 399\u001b[0m   \u001b[38;5;28;01mreturn\u001b[39;00m \u001b[43m_compile_and_write_cache\u001b[49m\u001b[43m(\u001b[49m\n\u001b[1;32m    400\u001b[0m \u001b[43m      \u001b[49m\u001b[43mbackend\u001b[49m\u001b[43m,\u001b[49m\n\u001b[1;32m    401\u001b[0m \u001b[43m      \u001b[49m\u001b[43mcomputation\u001b[49m\u001b[43m,\u001b[49m\n\u001b[1;32m    402\u001b[0m \u001b[43m      \u001b[49m\u001b[43mcompile_options\u001b[49m\u001b[43m,\u001b[49m\n\u001b[1;32m    403\u001b[0m \u001b[43m      \u001b[49m\u001b[43mhost_callbacks\u001b[49m\u001b[43m,\u001b[49m\n\u001b[1;32m    404\u001b[0m \u001b[43m      \u001b[49m\u001b[43mmodule_name\u001b[49m\u001b[43m,\u001b[49m\n\u001b[1;32m    405\u001b[0m \u001b[43m      \u001b[49m\u001b[43mcache_key\u001b[49m\u001b[43m,\u001b[49m\n\u001b[1;32m    406\u001b[0m \u001b[43m  \u001b[49m\u001b[43m)\u001b[49m\n",
      "File \u001b[0;32m~/.cache/pypoetry/virtualenvs/micrlhf-progress-_SD4q1c9-py3.10/lib/python3.10/site-packages/jax/_src/compiler.py:627\u001b[0m, in \u001b[0;36m_compile_and_write_cache\u001b[0;34m(backend, computation, compile_options, host_callbacks, module_name, cache_key)\u001b[0m\n\u001b[1;32m    618\u001b[0m \u001b[38;5;28;01mdef\u001b[39;00m \u001b[38;5;21m_compile_and_write_cache\u001b[39m(\n\u001b[1;32m    619\u001b[0m     backend: xc\u001b[38;5;241m.\u001b[39mClient,\n\u001b[1;32m    620\u001b[0m     computation: ir\u001b[38;5;241m.\u001b[39mModule,\n\u001b[0;32m   (...)\u001b[0m\n\u001b[1;32m    624\u001b[0m     cache_key: \u001b[38;5;28mstr\u001b[39m,\n\u001b[1;32m    625\u001b[0m ) \u001b[38;5;241m-\u001b[39m\u001b[38;5;241m>\u001b[39m xc\u001b[38;5;241m.\u001b[39mLoadedExecutable:\n\u001b[1;32m    626\u001b[0m   start_time \u001b[38;5;241m=\u001b[39m time\u001b[38;5;241m.\u001b[39mmonotonic()\n\u001b[0;32m--> 627\u001b[0m   executable \u001b[38;5;241m=\u001b[39m \u001b[43mbackend_compile\u001b[49m\u001b[43m(\u001b[49m\n\u001b[1;32m    628\u001b[0m \u001b[43m      \u001b[49m\u001b[43mbackend\u001b[49m\u001b[43m,\u001b[49m\u001b[43m \u001b[49m\u001b[43mcomputation\u001b[49m\u001b[43m,\u001b[49m\u001b[43m \u001b[49m\u001b[43mcompile_options\u001b[49m\u001b[43m,\u001b[49m\u001b[43m \u001b[49m\u001b[43mhost_callbacks\u001b[49m\n\u001b[1;32m    629\u001b[0m \u001b[43m  \u001b[49m\u001b[43m)\u001b[49m\n\u001b[1;32m    630\u001b[0m   compile_time \u001b[38;5;241m=\u001b[39m time\u001b[38;5;241m.\u001b[39mmonotonic() \u001b[38;5;241m-\u001b[39m start_time\n\u001b[1;32m    631\u001b[0m   _cache_write(\n\u001b[1;32m    632\u001b[0m       cache_key, compile_time, module_name, backend, executable, host_callbacks\n\u001b[1;32m    633\u001b[0m   )\n",
      "File \u001b[0;32m~/.cache/pypoetry/virtualenvs/micrlhf-progress-_SD4q1c9-py3.10/lib/python3.10/site-packages/jax/_src/profiler.py:336\u001b[0m, in \u001b[0;36mannotate_function.<locals>.wrapper\u001b[0;34m(*args, **kwargs)\u001b[0m\n\u001b[1;32m    333\u001b[0m \u001b[38;5;129m@wraps\u001b[39m(func)\n\u001b[1;32m    334\u001b[0m \u001b[38;5;28;01mdef\u001b[39;00m \u001b[38;5;21mwrapper\u001b[39m(\u001b[38;5;241m*\u001b[39margs, \u001b[38;5;241m*\u001b[39m\u001b[38;5;241m*\u001b[39mkwargs):\n\u001b[1;32m    335\u001b[0m   \u001b[38;5;28;01mwith\u001b[39;00m TraceAnnotation(name, \u001b[38;5;241m*\u001b[39m\u001b[38;5;241m*\u001b[39mdecorator_kwargs):\n\u001b[0;32m--> 336\u001b[0m     \u001b[38;5;28;01mreturn\u001b[39;00m \u001b[43mfunc\u001b[49m\u001b[43m(\u001b[49m\u001b[38;5;241;43m*\u001b[39;49m\u001b[43margs\u001b[49m\u001b[43m,\u001b[49m\u001b[43m \u001b[49m\u001b[38;5;241;43m*\u001b[39;49m\u001b[38;5;241;43m*\u001b[39;49m\u001b[43mkwargs\u001b[49m\u001b[43m)\u001b[49m\n\u001b[1;32m    337\u001b[0m   \u001b[38;5;28;01mreturn\u001b[39;00m wrapper\n",
      "File \u001b[0;32m~/.cache/pypoetry/virtualenvs/micrlhf-progress-_SD4q1c9-py3.10/lib/python3.10/site-packages/jax/_src/compiler.py:267\u001b[0m, in \u001b[0;36mbackend_compile\u001b[0;34m(backend, module, options, host_callbacks)\u001b[0m\n\u001b[1;32m    262\u001b[0m   \u001b[38;5;28;01mreturn\u001b[39;00m backend\u001b[38;5;241m.\u001b[39mcompile(built_c, compile_options\u001b[38;5;241m=\u001b[39moptions,\n\u001b[1;32m    263\u001b[0m                          host_callbacks\u001b[38;5;241m=\u001b[39mhost_callbacks)\n\u001b[1;32m    264\u001b[0m \u001b[38;5;66;03m# Some backends don't have `host_callbacks` option yet\u001b[39;00m\n\u001b[1;32m    265\u001b[0m \u001b[38;5;66;03m# TODO(sharadmv): remove this fallback when all backends allow `compile`\u001b[39;00m\n\u001b[1;32m    266\u001b[0m \u001b[38;5;66;03m# to take in `host_callbacks`\u001b[39;00m\n\u001b[0;32m--> 267\u001b[0m \u001b[38;5;28;01mreturn\u001b[39;00m \u001b[43mbackend\u001b[49m\u001b[38;5;241;43m.\u001b[39;49m\u001b[43mcompile\u001b[49m\u001b[43m(\u001b[49m\u001b[43mbuilt_c\u001b[49m\u001b[43m,\u001b[49m\u001b[43m \u001b[49m\u001b[43mcompile_options\u001b[49m\u001b[38;5;241;43m=\u001b[39;49m\u001b[43moptions\u001b[49m\u001b[43m)\u001b[49m\n",
      "\u001b[0;31mKeyboardInterrupt\u001b[0m: "
     ]
    }
   ],
   "source": [
    "import dataclasses\n",
    "from tqdm.auto import tqdm\n",
    "from functools import partial\n",
    "from micrlhf.utils.activation_manipulation import add_vector\n",
    "\n",
    "negative_task_losses = {}\n",
    "\n",
    "n_few_shots, batch_size, max_seq_len = 20, 16, 256\n",
    "seed = 10\n",
    "\n",
    "prompt = \"Follow the pattern:\\n{}\"\n",
    "\n",
    "def calc_acc(tokens, sep, logits, runner):\n",
    "    arrow_pos = jnp.nonzero(tokens == sep)\n",
    "    arrow_pos_single = []\n",
    "    for i in range(batch_size):\n",
    "        arrow_pos_single.append(arrow_pos[1][arrow_pos[0] == i].max())\n",
    "\n",
    "    arrow_pos_single = np.array(arrow_pos_single)\n",
    "\n",
    "    hits = 0\n",
    "\n",
    "    for i, (ap, l) in enumerate(zip(arrow_pos_single, logits)):\n",
    "        l = l.argmax(-1)\n",
    "        tgt = runner.eval_pairs[i][-1][1]\n",
    "        hits += int(tgt in repr(tokenizer.decode(l[ap:ap+3])))\n",
    "    return hits / runner.eval_batch_size\n",
    "\n",
    "def calc_acc(tokens, sep, logits, runner):\n",
    "    logits = logits.argmax(-1)\n",
    "    logits = logits[:, :-1]\n",
    "    tokens = tokens[:, 1:]\n",
    "\n",
    "    mask = tokens == sep\n",
    "\n",
    "    hits = tokens == logits\n",
    "\n",
    "    hits = hits * mask\n",
    "\n",
    "    hits = hits.sum()\n",
    "    return hits / mask.sum()\n",
    "\n",
    "\n",
    "\n",
    "\n",
    "def make_taker(llama, layer):\n",
    "    taker = jit_wrapper.Jitted(llama.select().at_instances_of(LlamaBlock).apply_with_selected_index(\n",
    "        lambda i, x: x if i >= layer else pz.nn.Identity()\n",
    "    ).select().at_instances_of(pz.nn.EmbeddingLookup).apply(lambda _: pz.nn.Identity())\n",
    "                    .select().at_instances_of(pz.nn.ConstantRescale).pick_nth_selected(0).apply(lambda _: pz.nn.Identity()))\n",
    "\n",
    "    return taker\n",
    "\n",
    "taker = make_taker(llama, layer)\n",
    "\n",
    "for task_name in tqdm(task_names):\n",
    "\n",
    "    sep = 3978\n",
    "    pad = 0\n",
    "\n",
    "\n",
    "    pairs = list(tasks[task_name].items())\n",
    "\n",
    "    n_shot = n_few_shots - 1\n",
    "    if task_name.startswith(\"algo\"):\n",
    "        n_shot = 16\n",
    "\n",
    "    runner = ICLRunner(task_name, pairs, batch_size=batch_size, n_shot=n_shot, max_seq_len=max_seq_len, seed=seed, prompt=prompt)\n",
    "\n",
    "    tokenized = runner.get_tokens([\n",
    "        x[:n_few_shots] for x in runner.train_pairs\n",
    "    ], tokenizer)\n",
    "\n",
    "    inputs = tokenized_to_inputs(**tokenized)\n",
    "    train_tokens = tokenized[\"input_ids\"]\n",
    "\n",
    "    _, all_resids = get_resids_call(inputs)\n",
    "\n",
    "    scale = 30\n",
    "\n",
    "    resids = all_resids[layer].value.unwrap(\"batch\", \"seq\", \"embedding\")\n",
    "\n",
    "    mask = train_tokens == sep\n",
    "    col_indices = jnp.arange(mask.shape[1])\n",
    "    col_indices_broadcasted = mask * col_indices\n",
    "    sorted_indices = jnp.sort(col_indices_broadcasted, axis=1, descending=True)\n",
    "\n",
    "    k = jnp.sum(mask[0]).astype(int)\n",
    "\n",
    "    positions = sorted_indices[:, :k]\n",
    "    \n",
    "    def steer_with_direction(direction):\n",
    "        direction = direction / jnp.linalg.norm(direction)\n",
    "        direction = direction * scale\n",
    "        \n",
    "        modified = jax.vmap(lambda a, b: a.at[b].add(direction))(\n",
    "            resids, positions\n",
    "        )\n",
    "        modified = pz.nx.wrap(modified, \"batch\", \"seq\", \"embedding\")\n",
    "\n",
    "        _inputs = dataclasses.replace(inputs, tokens=modified)\n",
    "        logits = taker(_inputs).unwrap(\"batch\", \"seq\", \"vocabulary\")\n",
    "\n",
    "        acc = calc_acc(train_tokens, sep, logits, runner)\n",
    "\n",
    "        return logprob_loss(logits, train_tokens, sep=sep, pad_token=pad, n_first=2), acc\n",
    "\n",
    "    negative_task_losses[task_name] = [[steer_with_direction(-sae[\"W_dec\"][feature]) for feature in tqdm(features)]]\n",
    "\n",
    "    logits = llama(inputs)\n",
    "\n",
    "    logits = logits.unwrap(\"batch\", \"seq\", \"vocabulary\")\n",
    "\n",
    "    acc = calc_acc(train_tokens, sep, logits, runner)\n",
    "    negative_task_losses[task_name].append((logprob_loss(logits, train_tokens, sep=sep, pad_token=pad, n_first=2), acc))"
   ]
  },
  {
   "cell_type": "code",
   "execution_count": 21,
   "metadata": {},
   "outputs": [
    {
     "data": {
      "application/vnd.plotly.v1+json": {
       "config": {
        "plotlyServerURL": "https://plot.ly"
       },
       "data": [
        {
         "coloraxis": "coloraxis",
         "hovertemplate": "x: %{x}<br>y: %{y}<br>color: %{z}<extra></extra>",
         "name": "0",
         "type": "heatmap",
         "x": [
          "20228",
          "10939",
          "14178",
          "16068",
          "2546",
          "6871",
          "2758",
          "4063",
          "31830",
          "23580",
          "2658",
          "23640",
          "29784",
          "23618",
          "28860",
          "19509",
          "19400",
          "29194",
          "26247",
          "26887",
          "4369",
          "29843",
          "32659",
          "7632",
          "14142",
          "1397",
          "26286",
          "28024",
          "5155",
          "18797",
          "24564",
          "8585",
          "23256",
          "29838",
          "28491",
          "12283",
          "17786",
          "16425",
          "5041",
          "13589",
          "10501",
          "29727",
          "10174",
          "32354",
          "20042",
          "13247",
          "24187",
          "31550",
          "25174",
          "31580",
          "2852",
          "8409",
          "10192",
          "19405",
          "24432",
          "12982",
          "31040",
          "1509",
          "14790",
          "3299",
          "13537",
          "25317",
          "8696",
          "1615",
          "15197",
          "32424",
          "27920",
          "25293",
          "6266"
         ],
         "xaxis": "x",
         "y": [
          "location_continent",
          "football_player_position",
          "location_religion",
          "location_language",
          "person_profession",
          "location_country",
          "country_capital",
          "person_language",
          "singular_plural",
          "present_simple_past_simple",
          "antonyms",
          "plural_singular",
          "present_simple_past_perfect",
          "present_simple_gerund",
          "en_it",
          "it_en",
          "en_fr",
          "en_es",
          "fr_en",
          "es_en",
          "algo_last",
          "algo_first",
          "algo_second"
         ],
         "yaxis": "y",
         "z": [
          [
           1,
           1,
           1,
           1,
           1,
           1,
           1,
           1,
           1,
           1,
           1,
           1,
           1,
           1,
           1,
           1,
           0.696969696969697,
           1,
           1,
           1,
           1,
           1,
           1,
           0.9393939393939394,
           0.38787878787878793,
           0.8545454545454545,
           1,
           1,
           0.6,
           1,
           1,
           0,
           0.8424242424242424,
           0.806060606060606,
           1,
           0.5757575757575757,
           0.8181818181818181,
           1,
           0.9878787878787879,
           1,
           1,
           1,
           0.9515151515151515,
           1,
           1,
           1,
           1,
           1,
           0.9636363636363636,
           0.9030303030303031,
           1,
           1,
           0.4666666666666667,
           0.8909090909090909,
           0.806060606060606,
           1,
           1,
           1,
           0.9636363636363636,
           0.9878787878787879,
           0.5757575757575757,
           1,
           1,
           0.8787878787878788,
           0.8181818181818181,
           1,
           0.9878787878787879,
           0.9757575757575757,
           0.9636363636363636
          ],
          [
           1,
           1,
           1,
           1,
           1,
           1,
           1,
           1,
           1,
           1,
           1,
           1,
           1,
           1,
           1,
           1,
           1,
           1,
           1,
           1,
           0.6417910447761194,
           0.20895522388059706,
           0.9701492537313433,
           1,
           1,
           0.9701492537313433,
           1,
           1,
           1,
           1,
           1,
           1,
           1,
           1,
           0.9402985074626865,
           1,
           1,
           0.7910447761194029,
           1,
           1,
           0.8805970149253731,
           1,
           1,
           1,
           0.9701492537313433,
           0.9402985074626865,
           0.7910447761194029,
           0.8805970149253731,
           0,
           1,
           0.8805970149253731,
           0.7910447761194029,
           1,
           1,
           0.9701492537313433,
           0.9701492537313433,
           0.7611940298507464,
           0.6417910447761194,
           0.9701492537313433,
           0.8208955223880597,
           1,
           0.7313432835820896,
           0.8507462686567163,
           1,
           1,
           0.9402985074626865,
           0.5970149253731343,
           0.9701492537313433,
           0.6716417910447762
          ],
          [
           1,
           1,
           1,
           1,
           1,
           1,
           1,
           1,
           1,
           1,
           1,
           1,
           0,
           1,
           1,
           1,
           1,
           1,
           1,
           1,
           1,
           1,
           1,
           0.9047619047619049,
           0.8571428571428571,
           0.7777777777777778,
           1,
           1,
           0.9841269841269842,
           1,
           0.9841269841269842,
           1,
           1,
           0.9047619047619049,
           1,
           0.8571428571428571,
           0.9523809523809524,
           1,
           0.8095238095238095,
           1,
           1,
           1,
           1,
           0.134920634920635,
           1,
           1,
           0.9841269841269842,
           1,
           1,
           0.8253968253968255,
           0.9841269841269842,
           0.8095238095238095,
           0.8571428571428571,
           0.9047619047619049,
           0.6666666666666667,
           0.9206349206349207,
           0.9841269841269842,
           0.6349206349206349,
           0.9206349206349207,
           0.7460317460317462,
           0.9682539682539683,
           0.8571428571428571,
           0.8571428571428571,
           0.7460317460317462,
           0.761904761904762,
           0.9682539682539683,
           0.8888888888888888,
           0.8253968253968255,
           0.6666666666666667
          ],
          [
           1,
           1,
           1,
           1,
           1,
           1,
           1,
           0.8591549295774648,
           1,
           0.9154929577464789,
           1,
           0.971830985915493,
           0.1971830985915493,
           1,
           1,
           1,
           0.6056338028169015,
           1,
           1,
           0.6901408450704226,
           1,
           0.971830985915493,
           0.8028169014084506,
           0.6901408450704226,
           0.6901408450704226,
           0.9154929577464789,
           0.8028169014084506,
           0.8591549295774648,
           0.7746478873239437,
           0.7464788732394366,
           0.7746478873239437,
           0.971830985915493,
           0.6901408450704226,
           1,
           0.8591549295774648,
           0.6619718309859155,
           0.7464788732394366,
           0.8591549295774648,
           0.7746478873239437,
           0.8309859154929576,
           0.7746478873239437,
           0.8873239436619718,
           0.9436619718309859,
           0.5774647887323944,
           0.9436619718309859,
           1,
           0.8591549295774648,
           0.9154929577464789,
           0.971830985915493,
           0.1971830985915493,
           0.8309859154929576,
           0.7746478873239437,
           0.49295774647887325,
           0.1971830985915493,
           0.2676056338028169,
           0.8873239436619718,
           0.9154929577464789,
           0.5211267605633803,
           0.8028169014084506,
           0.4366197183098592,
           0.6901408450704226,
           0.8028169014084506,
           0.7183098591549296,
           0.23943661971830987,
           0,
           0.971830985915493,
           0.6619718309859155,
           0.9436619718309859,
           0.5211267605633803
          ],
          [
           1,
           1,
           1,
           1,
           1,
           1,
           1,
           1,
           0.9500000000000001,
           1,
           0.9,
           1,
           0.9,
           1,
           1,
           0.9,
           1,
           0.9,
           1,
           1,
           1,
           0.975,
           1,
           0.975,
           1,
           1,
           0.9,
           0.825,
           1,
           0.925,
           0.925,
           1,
           1,
           1,
           0.9,
           1,
           1,
           0.65,
           0.725,
           1,
           0.875,
           0.925,
           1,
           1,
           0.925,
           0.7749999999999999,
           0.9500000000000001,
           0.75,
           0.975,
           0.9,
           0.825,
           0.7999999999999999,
           1,
           0.975,
           0.9500000000000001,
           0.7749999999999999,
           0.65,
           0.35,
           1,
           0,
           0.7999999999999999,
           0.8499999999999999,
           0.75,
           0.9500000000000001,
           0.725,
           0.9,
           0.375,
           0.875,
           0.25000000000000006
          ],
          [
           1,
           1,
           1,
           1,
           1,
           1,
           1,
           1,
           1,
           1,
           1,
           1,
           0.7258064516129032,
           1,
           1,
           1,
           0.16129032258064518,
           1,
           0.8548387096774194,
           1,
           1,
           1,
           1,
           1,
           0.17741935483870974,
           0.9032258064516129,
           1,
           1,
           0.09677419354838715,
           0.7741935483870968,
           1,
           0.870967741935484,
           0.06451612903225803,
           0.5,
           1,
           0.09677419354838715,
           0.17741935483870974,
           1,
           0.9677419354838709,
           1,
           1,
           1,
           0.20967741935483875,
           0.7580645161290324,
           1,
           1,
           1,
           1,
           1,
           0.6451612903225807,
           0.9838709677419355,
           1,
           0.17741935483870974,
           0.48387096774193555,
           0.467741935483871,
           1,
           0.870967741935484,
           1,
           0.935483870967742,
           1,
           0,
           1,
           0.9677419354838709,
           0.467741935483871,
           0.45161290322580655,
           0.9838709677419355,
           0.9516129032258064,
           0.9193548387096775,
           0.9677419354838709
          ],
          [
           1,
           1,
           1,
           1,
           1,
           1,
           1,
           1,
           1,
           1,
           1,
           1,
           1,
           0.898989898989899,
           1,
           0.9797979797979798,
           1,
           1,
           0,
           1,
           1,
           1,
           1,
           0.9191919191919191,
           1,
           1,
           1,
           0.9494949494949495,
           1,
           1,
           1,
           0.8585858585858586,
           0.8181818181818181,
           0.308080808080808,
           1,
           1,
           0.8585858585858586,
           1,
           1,
           1,
           1,
           0.98989898989899,
           0.9292929292929293,
           1,
           1,
           1,
           0.8585858585858586,
           1,
           0.98989898989899,
           1,
           1,
           1,
           0.9494949494949495,
           1,
           1,
           1,
           0.8787878787878788,
           1,
           1,
           1,
           1,
           0.9494949494949495,
           1,
           1,
           1,
           1,
           0.9393939393939394,
           0.9696969696969697,
           0.98989898989899
          ],
          [
           1,
           1,
           0.7037037037037036,
           1,
           1,
           1,
           1,
           0.9444444444444444,
           1,
           1,
           0.9814814814814815,
           1,
           0.5185185185185185,
           1,
           1,
           0.962962962962963,
           0.611111111111111,
           0.9444444444444444,
           1,
           0.9814814814814815,
           1,
           0.9259259259259259,
           0.8703703703703703,
           0.7777777777777777,
           0.6666666666666666,
           0.8333333333333334,
           1,
           0.9259259259259259,
           0.7037037037037036,
           1,
           0.8703703703703703,
           1,
           0.7037037037037036,
           0.7222222222222223,
           0.9074074074074074,
           0.5740740740740741,
           0.7037037037037036,
           0.7407407407407408,
           0.8703703703703703,
           0.8703703703703703,
           0.8333333333333334,
           0.888888888888889,
           0.8703703703703703,
           0.6851851851851851,
           0.9814814814814815,
           0.9444444444444444,
           0.8333333333333334,
           0.8703703703703703,
           0.9814814814814815,
           0.24074074074074076,
           0.7962962962962962,
           0.888888888888889,
           0.5740740740740741,
           0.24074074074074076,
           0.26851851851851855,
           0.8518518518518519,
           0.888888888888889,
           0.48148148148148145,
           0.8333333333333334,
           0.7592592592592592,
           0.46296296296296297,
           0.6296296296296297,
           0.7407407407407408,
           0.19444444444444448,
           0,
           0.9074074074074074,
           0.611111111111111,
           0.7407407407407408,
           0.5555555555555556
          ],
          [
           0.7250000000000001,
           0,
           0.2875000000000001,
           0.5625,
           0.8375,
           0.6125,
           0.6875,
           0.7000000000000001,
           0.5375000000000001,
           0.675,
           0.5,
           0.6000000000000001,
           0.8500000000000001,
           0.625,
           0.6875,
           0.7000000000000001,
           0.925,
           0.5625,
           0.8500000000000001,
           0.9,
           0.9125,
           0.875,
           0.6625,
           0.8875000000000001,
           0.7250000000000001,
           0.3375,
           0.9125,
           0.7625000000000001,
           0.8875000000000001,
           0.7124999999999999,
           0.41250000000000003,
           0.8375,
           0.8375,
           0.9625,
           0.8875000000000001,
           0.975,
           1,
           0.525,
           0.5625,
           0.5875,
           0.6125,
           0.7000000000000001,
           0.9500000000000001,
           1,
           0.55,
           0.975,
           0.8250000000000001,
           0.4375,
           0.9375,
           0.925,
           0.42500000000000004,
           0.55,
           0.7500000000000001,
           0.9125,
           0.9125,
           0.5875,
           0.775,
           0.6625,
           0.6375000000000001,
           0.925,
           0.975,
           0.5375000000000001,
           0.625,
           0.9,
           0.9,
           0.6625,
           0.6375000000000001,
           0.6625,
           0.6625
          ],
          [
           1,
           0.37362637362637363,
           0.6996336996336996,
           0.6776556776556777,
           0.9706959706959707,
           0.8021978021978022,
           1,
           1,
           0.5970695970695971,
           0.9194139194139194,
           0.21245421245421253,
           0.6996336996336996,
           0.8241758241758241,
           0.6117216117216118,
           0.7728937728937729,
           0.816849816849817,
           1,
           0.6336996336996337,
           0.9780219780219781,
           0.7289377289377289,
           0.9706959706959707,
           1,
           0.5970695970695971,
           1,
           1,
           0.8754578754578755,
           0.7948717948717948,
           0.8974358974358975,
           1,
           0.7582417582417582,
           0.7875457875457874,
           1,
           1,
           1,
           1,
           1,
           0.9413919413919414,
           0.6923076923076923,
           0.8901098901098901,
           0.6410256410256411,
           0.7948717948717948,
           0.7362637362637362,
           1,
           0.9706959706959707,
           0.8901098901098901,
           0.8461538461538463,
           0.9780219780219781,
           0.6117216117216118,
           1,
           0.8095238095238095,
           0.750915750915751,
           0.6556776556776557,
           1,
           0.9120879120879122,
           1,
           0.6190476190476191,
           0.8461538461538463,
           0.6117216117216118,
           0.7142857142857143,
           0.6996336996336996,
           0.8901098901098901,
           0,
           0.706959706959707,
           0.9120879120879122,
           0.8095238095238095,
           0.8681318681318682,
           0.7948717948717948,
           0.750915750915751,
           0.7948717948717948
          ],
          [
           1,
           1,
           1,
           1,
           0.6266666666666667,
           0.8933333333333333,
           1,
           0.9466666666666667,
           1,
           0.7866666666666666,
           1,
           1,
           1,
           1,
           0.7866666666666666,
           1,
           1,
           1,
           1,
           1,
           0.92,
           0.84,
           1,
           0.8133333333333334,
           1,
           1,
           1,
           1,
           1,
           0.92,
           1,
           0.76,
           1,
           1,
           0,
           0.8666666666666666,
           1,
           0.8133333333333334,
           1,
           0.8933333333333333,
           1,
           1,
           1,
           0.4799999999999999,
           1,
           0.7066666666666667,
           1,
           1,
           0.3066666666666666,
           0.92,
           1,
           1,
           1,
           1,
           0.92,
           0.7066666666666667,
           1,
           0.3733333333333333,
           1,
           0.6133333333333333,
           1,
           1,
           0.9733333333333334,
           0.9466666666666667,
           0.92,
           0.84,
           1,
           0.6799999999999999,
           0.6266666666666667
          ],
          [
           0.8151260504201681,
           0,
           0.5210084033613446,
           0.3697478991596639,
           0.7478991596638656,
           0.680672268907563,
           0.4705882352941177,
           0.45378151260504207,
           0.3865546218487395,
           0.4705882352941177,
           0.6470588235294119,
           0.44537815126050423,
           0.9243697478991596,
           0.5546218487394957,
           0.6302521008403361,
           0.638655462184874,
           1,
           0.35294117647058826,
           0.9831932773109244,
           0.6050420168067228,
           0.638655462184874,
           0.6722689075630253,
           0.3949579831932773,
           0.823529411764706,
           0.9243697478991596,
           1,
           0.689075630252101,
           0.6554621848739497,
           1,
           0.7142857142857143,
           0.5462184873949579,
           0.8067226890756302,
           0.8403361344537815,
           0.9663865546218487,
           0.8487394957983193,
           0.9663865546218487,
           0.9243697478991596,
           0.4957983193277311,
           0.680672268907563,
           0.48739495798319327,
           0.48739495798319327,
           0.4957983193277311,
           0.9495798319327732,
           0.907563025210084,
           0.5378151260504201,
           0.5462184873949579,
           0.773109243697479,
           0.3865546218487395,
           0.7815126050420168,
           0.9495798319327732,
           0.4957983193277311,
           0.4033613445378151,
           0.8991596638655462,
           0.957983193277311,
           0.9327731092436975,
           0.689075630252101,
           0.6302521008403361,
           0.5882352941176471,
           0.5210084033613446,
           0.7478991596638656,
           0.907563025210084,
           0.638655462184874,
           0.4957983193277311,
           0.8571428571428572,
           0.9159663865546218,
           0.5042016806722689,
           0.5546218487394957,
           0.773109243697479,
           0.5966386554621849
          ],
          [
           1,
           0.13043478260869573,
           0.32608695652173914,
           0.47826086956521746,
           0.7391304347826088,
           0.717391304347826,
           0.8043478260869565,
           1,
           0.4565217391304348,
           0.782608695652174,
           0.2717391304347827,
           0.6304347826086957,
           0.673913043478261,
           0.5652173913043479,
           0.8043478260869565,
           0.5543478260869565,
           0.8913043478260869,
           0.5543478260869565,
           0.8260869565217391,
           0.6304347826086957,
           0.8043478260869565,
           1,
           0.44565217391304357,
           1,
           0.8913043478260869,
           0.8478260869565218,
           0.782608695652174,
           0.6521739130434783,
           0.9347826086956522,
           0.5108695652173914,
           0.6304347826086957,
           0.9130434782608696,
           0.8260869565217391,
           0.8695652173913043,
           0.8260869565217391,
           1,
           0.9565217391304349,
           0.6086956521739131,
           0.6956521739130435,
           0.7608695652173914,
           0.673913043478261,
           0.5978260869565217,
           0.7391304347826088,
           0.717391304347826,
           0.8260869565217391,
           0.8043478260869565,
           0.9347826086956522,
           0.48913043478260876,
           1,
           0.717391304347826,
           0.5434782608695652,
           0.47826086956521746,
           0.8478260869565218,
           0.782608695652174,
           0.8478260869565218,
           0.6956521739130435,
           0.717391304347826,
           0.6521739130434783,
           0.4347826086956522,
           0.8043478260869565,
           0.7391304347826088,
           0,
           0.6521739130434783,
           0.717391304347826,
           0.7391304347826088,
           0.6956521739130435,
           0.7608695652173914,
           0.6521739130434783,
           0.8260869565217391
          ],
          [
           1,
           0.4427480916030534,
           0.6641221374045801,
           0.8625954198473282,
           0.8778625954198473,
           0.8931297709923663,
           0.9694656488549618,
           0.9541984732824428,
           0.7709923664122137,
           0.9541984732824428,
           0.7404580152671757,
           0.83206106870229,
           1,
           0.7862595419847328,
           0.8625954198473282,
           0.8625954198473282,
           0.9541984732824428,
           0.748091603053435,
           0.8931297709923663,
           0.8244274809160305,
           0.8625954198473282,
           1,
           0.6946564885496184,
           1,
           0.8473282442748091,
           0.8244274809160305,
           0.8931297709923663,
           0.9083969465648855,
           0.9083969465648855,
           0.8091603053435115,
           0.7557251908396946,
           0.9541984732824428,
           0.8473282442748091,
           0.9083969465648855,
           1,
           0.9083969465648855,
           0.9541984732824428,
           0.7175572519083969,
           0.9083969465648855,
           0.7099236641221375,
           0.83206106870229,
           0.9541984732824428,
           0.9694656488549618,
           0.9236641221374046,
           0.9083969465648855,
           0.9083969465648855,
           0.9541984732824428,
           0.748091603053435,
           0.9541984732824428,
           0.9083969465648855,
           0.7557251908396946,
           0.732824427480916,
           0.8931297709923663,
           0.9083969465648855,
           0.8702290076335878,
           0.1755725190839694,
           0.9083969465648855,
           0,
           0.7557251908396946,
           0.8549618320610687,
           0.9236641221374046,
           0.6946564885496184,
           0.7786259541984732,
           0.8931297709923663,
           0.8625954198473282,
           0.8931297709923663,
           0.8091603053435115,
           0.16793893129770984,
           0.748091603053435
          ],
          [
           0.9448275862068966,
           0.9724137931034482,
           0,
           0.8620689655172413,
           0.7931034482758621,
           0.8344827586206897,
           0.9310344827586207,
           0.9310344827586207,
           0.8068965517241379,
           0.9034482758620689,
           0.9034482758620689,
           0.8620689655172413,
           0.8620689655172413,
           0.8482758620689655,
           0.9310344827586207,
           0.9448275862068966,
           0.8620689655172413,
           0.8620689655172413,
           0.8344827586206897,
           0.8620689655172413,
           0.9034482758620689,
           0.9310344827586207,
           0.8896551724137931,
           0.8896551724137931,
           0.8758620689655173,
           0.8896551724137931,
           0.9448275862068966,
           0.8620689655172413,
           0.9310344827586207,
           0.8620689655172413,
           0.8068965517241379,
           0.8344827586206897,
           0.8896551724137931,
           0.8482758620689655,
           0.9724137931034482,
           0.8620689655172413,
           1,
           0.8896551724137931,
           0.8620689655172413,
           0.9862068965517242,
           0.8620689655172413,
           0.8482758620689655,
           0.9724137931034482,
           0.8758620689655173,
           0.8896551724137931,
           0.9310344827586207,
           0.9586206896551724,
           0.8620689655172413,
           0.9862068965517242,
           0.6551724137931034,
           0.8620689655172413,
           0.8206896551724138,
           0.8896551724137931,
           0.8620689655172413,
           0.8206896551724138,
           0.9172413793103449,
           0.8896551724137931,
           0.8896551724137931,
           0.8620689655172413,
           0.9310344827586207,
           0.9586206896551724,
           0.8758620689655173,
           0.9034482758620689,
           0.8758620689655173,
           0.9586206896551724,
           0.8482758620689655,
           0.9172413793103449,
           0.8482758620689655,
           0.9034482758620689
          ],
          [
           0.7399999999999999,
           1,
           1,
           1,
           1,
           1,
           0.86,
           0.98,
           0.82,
           0.94,
           0.86,
           0.7999999999999999,
           1,
           0.68,
           0.86,
           0.98,
           0.96,
           0.88,
           0.96,
           0.84,
           0.84,
           0.6,
           0.86,
           0.68,
           1,
           0.84,
           0.82,
           0.66,
           0.86,
           0.96,
           0.88,
           0.9199999999999999,
           0.7600000000000001,
           0.88,
           0.88,
           0.88,
           0.7000000000000001,
           1,
           1,
           0.9,
           0.7000000000000001,
           0.6200000000000001,
           0.7600000000000001,
           0.9,
           0.88,
           0.9199999999999999,
           0.46,
           0.96,
           0.64,
           0.82,
           0.7999999999999999,
           0.6,
           0.7999999999999999,
           0.7799999999999999,
           0.7799999999999999,
           0.7799999999999999,
           0.86,
           0.7999999999999999,
           0.6,
           0.86,
           0.64,
           0.7000000000000001,
           0.6,
           0.7399999999999999,
           0.64,
           0.7799999999999999,
           0.66,
           0.82,
           0
          ],
          [
           0.9626168224299064,
           1,
           0,
           0.8504672897196262,
           0.8130841121495326,
           0.8691588785046729,
           0.8504672897196262,
           0.8504672897196262,
           0.719626168224299,
           0.8130841121495326,
           0.794392523364486,
           0.794392523364486,
           0.794392523364486,
           0.7757009345794392,
           0.9813084112149532,
           0.8504672897196262,
           0.8691588785046729,
           0.7757009345794392,
           0.8878504672897195,
           0.7757009345794392,
           0.8878504672897195,
           0.9252336448598131,
           0.8317757009345794,
           0.8878504672897195,
           0.8878504672897195,
           0.794392523364486,
           0.9252336448598131,
           0.794392523364486,
           0.9626168224299064,
           0.8504672897196262,
           0.6448598130841121,
           0.7757009345794392,
           0.8691588785046729,
           0.9252336448598131,
           0.9065420560747662,
           0.9252336448598131,
           0.9813084112149532,
           0.8317757009345794,
           0.7757009345794392,
           0.8878504672897195,
           0.794392523364486,
           0.719626168224299,
           0.9439252336448597,
           0.8691588785046729,
           0.8317757009345794,
           0.9252336448598131,
           0.9813084112149532,
           0.7757009345794392,
           1,
           0.9626168224299064,
           0.7383177570093458,
           0.7383177570093458,
           0.9065420560747662,
           0.8504672897196262,
           0.8691588785046729,
           0.8317757009345794,
           0.8504672897196262,
           0.8504672897196262,
           0.7383177570093458,
           0.8691588785046729,
           0.9439252336448597,
           0.8691588785046729,
           0.8317757009345794,
           0.9065420560747662,
           0.9252336448598131,
           0.8130841121495326,
           0.8504672897196262,
           0.8504672897196262,
           0.8691588785046729
          ],
          [
           1,
           0.8627450980392156,
           0,
           0.8137254901960784,
           0.7745098039215685,
           0.8627450980392156,
           0.8529411764705882,
           0.9411764705882354,
           0.7352941176470589,
           0.8333333333333334,
           0.7647058823529411,
           0.7941176470588235,
           0.7745098039215685,
           0.8823529411764706,
           0.8823529411764706,
           0.8431372549019609,
           0.8823529411764706,
           0.7745098039215685,
           0.7843137254901961,
           0.8137254901960784,
           0.9215686274509804,
           0.9411764705882354,
           0.7941176470588235,
           0.9019607843137255,
           0.823529411764706,
           0.8529411764705882,
           0.8627450980392156,
           0.7843137254901961,
           0.8823529411764706,
           0.823529411764706,
           0.7254901960784315,
           0.8823529411764706,
           0.8627450980392156,
           0.8823529411764706,
           0.8627450980392156,
           0.8823529411764706,
           0.9215686274509804,
           0.823529411764706,
           0.803921568627451,
           0.9019607843137255,
           0.8137254901960784,
           0.8137254901960784,
           0.8823529411764706,
           0.803921568627451,
           0.8137254901960784,
           0.9019607843137255,
           0.9019607843137255,
           0.7549019607843138,
           0.9411764705882354,
           0.8333333333333334,
           0.7450980392156862,
           0.7254901960784315,
           0.823529411764706,
           0.8627450980392156,
           0.8333333333333334,
           0.823529411764706,
           0.8137254901960784,
           0.803921568627451,
           0.7745098039215685,
           0.8823529411764706,
           0.9019607843137255,
           0.7549019607843138,
           0.8137254901960784,
           0.8627450980392156,
           0.8823529411764706,
           0.7843137254901961,
           0.823529411764706,
           0.7745098039215685,
           0.8627450980392156
          ],
          [
           1,
           1,
           1,
           1,
           1,
           1,
           0.92,
           1,
           1,
           1,
           1,
           0.9600000000000001,
           1,
           0.64,
           0.64,
           1,
           1,
           1,
           1,
           0.72,
           0.5599999999999999,
           0.68,
           1,
           1,
           1,
           1,
           0.5599999999999999,
           1,
           1,
           1,
           1,
           1,
           1,
           1,
           0.72,
           1,
           0.8,
           0.84,
           1,
           0.6,
           0.88,
           0.92,
           0.8,
           0.76,
           0.92,
           0.64,
           0.5599999999999999,
           0.88,
           0.72,
           1,
           0.76,
           0.52,
           0.8,
           0.68,
           1,
           0.9600000000000001,
           0.68,
           0.6,
           0.72,
           0.84,
           0.64,
           0.5599999999999999,
           0.48,
           0.68,
           0.5599999999999999,
           0.68,
           0.48,
           1,
           0
          ],
          [
           0.5254237288135594,
           1,
           1,
           1,
           1,
           1,
           0.847457627118644,
           0.9491525423728814,
           0.847457627118644,
           0.8305084745762712,
           0.7796610169491526,
           0.847457627118644,
           0.7966101694915254,
           0.7796610169491526,
           0.7457627118644068,
           0.9322033898305084,
           0.8305084745762712,
           0.7966101694915254,
           0.9152542372881356,
           0.8813559322033898,
           0.8813559322033898,
           0.6101694915254238,
           0.7966101694915254,
           0.6610169491525424,
           0.9830508474576272,
           0.8983050847457628,
           0.7966101694915254,
           0.7796610169491526,
           0.847457627118644,
           0.9661016949152542,
           0.9152542372881356,
           0.8813559322033898,
           0.7627118644067796,
           0.9152542372881356,
           0.847457627118644,
           0.7966101694915254,
           0.7796610169491526,
           0.8813559322033898,
           1,
           0.864406779661017,
           0.6271186440677966,
           0.6779661016949152,
           0.8305084745762712,
           0.7288135593220338,
           0.7796610169491526,
           0.9661016949152542,
           0.6101694915254238,
           0.8983050847457628,
           0.8983050847457628,
           0.8305084745762712,
           0.6949152542372882,
           0.6101694915254238,
           0.7966101694915254,
           0.6949152542372882,
           0.7288135593220338,
           0.7457627118644068,
           0.7288135593220338,
           0.6949152542372882,
           0.5423728813559322,
           0.6271186440677966,
           0.6779661016949152,
           0.6440677966101694,
           0.576271186440678,
           0.7457627118644068,
           0.6610169491525424,
           0.711864406779661,
           0.5423728813559322,
           0.864406779661017,
           0
          ],
          [
           1,
           0.2555555555555556,
           0.7777777777777778,
           0.9333333333333332,
           0.9444444444444445,
           0.8444444444444443,
           0.7444444444444444,
           0.7555555555555554,
           0.9555555555555556,
           1,
           0.7111111111111111,
           0.8666666666666667,
           1,
           0.3888888888888889,
           0.7888888888888889,
           1,
           0.7111111111111111,
           0.8333333333333333,
           0.6444444444444444,
           1,
           0.6444444444444444,
           0.8777777777777778,
           0,
           1,
           0.8666666666666667,
           1,
           0.9444444444444445,
           1,
           0.8444444444444443,
           0.8444444444444443,
           0.7777777777777778,
           0.8222222222222222,
           0.8777777777777778,
           0.7666666666666667,
           0.5,
           0.9555555555555556,
           0.9333333333333332,
           1,
           0.9,
           0.5777777777777777,
           0.888888888888889,
           0.24444444444444438,
           0.9444444444444445,
           0.7444444444444444,
           0.8111111111111111,
           0.6777777777777778,
           0.9444444444444445,
           0.7111111111111111,
           0.7666666666666667,
           0.8666666666666667,
           1,
           0.6777777777777778,
           0.9,
           0.7333333333333333,
           0.888888888888889,
           0.7555555555555554,
           1,
           0.7222222222222222,
           0.9555555555555556,
           1,
           0.8,
           0.7555555555555554,
           0.6777777777777778,
           0.8,
           0.8555555555555556,
           0.5,
           0.8333333333333333,
           0.7888888888888889,
           0.8555555555555556
          ],
          [
           0.8291457286432161,
           0.21608040201005033,
           0.12562814070351766,
           0.40703517587939697,
           0.6683417085427135,
           0.37688442211055284,
           0.3165829145728643,
           0.36683417085427134,
           0.14572864321608048,
           0,
           0.5276381909547739,
           0.26633165829145733,
           0.6482412060301508,
           0.6281407035175879,
           0.03517587939698499,
           0.6482412060301508,
           0.8793969849246231,
           0.256281407035176,
           0.7688442211055276,
           0.7286432160804021,
           0.5477386934673367,
           0.47738693467336685,
           0.8592964824120604,
           0.507537688442211,
           0.6582914572864321,
           0.8894472361809045,
           0.9597989949748743,
           0.35678391959799,
           0.8391959798994975,
           0.7085427135678392,
           0.36683417085427134,
           0.6884422110552765,
           0.7487437185929648,
           0.7386934673366835,
           0.6683417085427135,
           0.8894472361809045,
           0.8592964824120604,
           0.43718592964824116,
           0.5879396984924623,
           0.6381909547738693,
           0.19597989949748748,
           0.507537688442211,
           0.8492462311557788,
           0.6180904522613065,
           0.44723618090452266,
           0.5276381909547739,
           1,
           0.11557788944723617,
           0.43718592964824116,
           0.9296482412060302,
           0.185929648241206,
           0.4170854271356785,
           0.7989949748743719,
           0.8492462311557788,
           0.7386934673366835,
           0.5577889447236181,
           0.4271356783919598,
           0.7085427135678392,
           0.5678391959798995,
           0.8190954773869347,
           0.7587939698492462,
           0.5175879396984925,
           0.44723618090452266,
           0.8391959798994975,
           0.8592964824120604,
           0.6683417085427135,
           0.3869346733668342,
           0.6482412060301508,
           0.5376884422110553
          ],
          [
           0.7741935483870968,
           1,
           1,
           0.6129032258064516,
           0.8387096774193549,
           0.25806451612903225,
           0.6451612903225806,
           0.3548387096774193,
           0.3870967741935484,
           0.12903225806451604,
           0.7096774193548386,
           0.7741935483870968,
           0.6451612903225806,
           0.8709677419354838,
           0.6129032258064516,
           0.7419354838709677,
           0.8064516129032259,
           0.4838709677419355,
           0.8064516129032259,
           0.45161290322580644,
           0.29032258064516125,
           0,
           0.29032258064516125,
           0.5161290322580645,
           0.7741935483870968,
           1,
           0.7419354838709677,
           0.5483870967741935,
           0.8709677419354838,
           0.5161290322580645,
           0.6129032258064516,
           0.8387096774193549,
           0.6774193548387096,
           0.8709677419354838,
           0.3225806451612903,
           0.8387096774193549,
           1,
           0.8064516129032259,
           0.9354838709677419,
           0.7419354838709677,
           0.3548387096774193,
           0.6129032258064516,
           0.7741935483870968,
           0.4193548387096774,
           0.8064516129032259,
           0.6451612903225806,
           1,
           0.4193548387096774,
           0.19354838709677416,
           1,
           0.3870967741935484,
           0.4193548387096774,
           0.9354838709677419,
           0.7741935483870968,
           0.7419354838709677,
           0.7419354838709677,
           0.6129032258064516,
           0.4838709677419355,
           0.6774193548387096,
           0.5483870967741935,
           0.967741935483871,
           0.6451612903225806,
           0.25806451612903225,
           0.8064516129032259,
           0.9354838709677419,
           0.6451612903225806,
           0.7096774193548386,
           0.29032258064516125,
           0.3870967741935484
          ]
         ]
        }
       ],
       "layout": {
        "coloraxis": {
         "colorscale": [
          [
           0,
           "#0d0887"
          ],
          [
           0.1111111111111111,
           "#46039f"
          ],
          [
           0.2222222222222222,
           "#7201a8"
          ],
          [
           0.3333333333333333,
           "#9c179e"
          ],
          [
           0.4444444444444444,
           "#bd3786"
          ],
          [
           0.5555555555555556,
           "#d8576b"
          ],
          [
           0.6666666666666666,
           "#ed7953"
          ],
          [
           0.7777777777777778,
           "#fb9f3a"
          ],
          [
           0.8888888888888888,
           "#fdca26"
          ],
          [
           1,
           "#f0f921"
          ]
         ]
        },
        "margin": {
         "t": 60
        },
        "template": {
         "data": {
          "bar": [
           {
            "error_x": {
             "color": "#2a3f5f"
            },
            "error_y": {
             "color": "#2a3f5f"
            },
            "marker": {
             "line": {
              "color": "#E5ECF6",
              "width": 0.5
             },
             "pattern": {
              "fillmode": "overlay",
              "size": 10,
              "solidity": 0.2
             }
            },
            "type": "bar"
           }
          ],
          "barpolar": [
           {
            "marker": {
             "line": {
              "color": "#E5ECF6",
              "width": 0.5
             },
             "pattern": {
              "fillmode": "overlay",
              "size": 10,
              "solidity": 0.2
             }
            },
            "type": "barpolar"
           }
          ],
          "carpet": [
           {
            "aaxis": {
             "endlinecolor": "#2a3f5f",
             "gridcolor": "white",
             "linecolor": "white",
             "minorgridcolor": "white",
             "startlinecolor": "#2a3f5f"
            },
            "baxis": {
             "endlinecolor": "#2a3f5f",
             "gridcolor": "white",
             "linecolor": "white",
             "minorgridcolor": "white",
             "startlinecolor": "#2a3f5f"
            },
            "type": "carpet"
           }
          ],
          "choropleth": [
           {
            "colorbar": {
             "outlinewidth": 0,
             "ticks": ""
            },
            "type": "choropleth"
           }
          ],
          "contour": [
           {
            "colorbar": {
             "outlinewidth": 0,
             "ticks": ""
            },
            "colorscale": [
             [
              0,
              "#0d0887"
             ],
             [
              0.1111111111111111,
              "#46039f"
             ],
             [
              0.2222222222222222,
              "#7201a8"
             ],
             [
              0.3333333333333333,
              "#9c179e"
             ],
             [
              0.4444444444444444,
              "#bd3786"
             ],
             [
              0.5555555555555556,
              "#d8576b"
             ],
             [
              0.6666666666666666,
              "#ed7953"
             ],
             [
              0.7777777777777778,
              "#fb9f3a"
             ],
             [
              0.8888888888888888,
              "#fdca26"
             ],
             [
              1,
              "#f0f921"
             ]
            ],
            "type": "contour"
           }
          ],
          "contourcarpet": [
           {
            "colorbar": {
             "outlinewidth": 0,
             "ticks": ""
            },
            "type": "contourcarpet"
           }
          ],
          "heatmap": [
           {
            "colorbar": {
             "outlinewidth": 0,
             "ticks": ""
            },
            "colorscale": [
             [
              0,
              "#0d0887"
             ],
             [
              0.1111111111111111,
              "#46039f"
             ],
             [
              0.2222222222222222,
              "#7201a8"
             ],
             [
              0.3333333333333333,
              "#9c179e"
             ],
             [
              0.4444444444444444,
              "#bd3786"
             ],
             [
              0.5555555555555556,
              "#d8576b"
             ],
             [
              0.6666666666666666,
              "#ed7953"
             ],
             [
              0.7777777777777778,
              "#fb9f3a"
             ],
             [
              0.8888888888888888,
              "#fdca26"
             ],
             [
              1,
              "#f0f921"
             ]
            ],
            "type": "heatmap"
           }
          ],
          "heatmapgl": [
           {
            "colorbar": {
             "outlinewidth": 0,
             "ticks": ""
            },
            "colorscale": [
             [
              0,
              "#0d0887"
             ],
             [
              0.1111111111111111,
              "#46039f"
             ],
             [
              0.2222222222222222,
              "#7201a8"
             ],
             [
              0.3333333333333333,
              "#9c179e"
             ],
             [
              0.4444444444444444,
              "#bd3786"
             ],
             [
              0.5555555555555556,
              "#d8576b"
             ],
             [
              0.6666666666666666,
              "#ed7953"
             ],
             [
              0.7777777777777778,
              "#fb9f3a"
             ],
             [
              0.8888888888888888,
              "#fdca26"
             ],
             [
              1,
              "#f0f921"
             ]
            ],
            "type": "heatmapgl"
           }
          ],
          "histogram": [
           {
            "marker": {
             "pattern": {
              "fillmode": "overlay",
              "size": 10,
              "solidity": 0.2
             }
            },
            "type": "histogram"
           }
          ],
          "histogram2d": [
           {
            "colorbar": {
             "outlinewidth": 0,
             "ticks": ""
            },
            "colorscale": [
             [
              0,
              "#0d0887"
             ],
             [
              0.1111111111111111,
              "#46039f"
             ],
             [
              0.2222222222222222,
              "#7201a8"
             ],
             [
              0.3333333333333333,
              "#9c179e"
             ],
             [
              0.4444444444444444,
              "#bd3786"
             ],
             [
              0.5555555555555556,
              "#d8576b"
             ],
             [
              0.6666666666666666,
              "#ed7953"
             ],
             [
              0.7777777777777778,
              "#fb9f3a"
             ],
             [
              0.8888888888888888,
              "#fdca26"
             ],
             [
              1,
              "#f0f921"
             ]
            ],
            "type": "histogram2d"
           }
          ],
          "histogram2dcontour": [
           {
            "colorbar": {
             "outlinewidth": 0,
             "ticks": ""
            },
            "colorscale": [
             [
              0,
              "#0d0887"
             ],
             [
              0.1111111111111111,
              "#46039f"
             ],
             [
              0.2222222222222222,
              "#7201a8"
             ],
             [
              0.3333333333333333,
              "#9c179e"
             ],
             [
              0.4444444444444444,
              "#bd3786"
             ],
             [
              0.5555555555555556,
              "#d8576b"
             ],
             [
              0.6666666666666666,
              "#ed7953"
             ],
             [
              0.7777777777777778,
              "#fb9f3a"
             ],
             [
              0.8888888888888888,
              "#fdca26"
             ],
             [
              1,
              "#f0f921"
             ]
            ],
            "type": "histogram2dcontour"
           }
          ],
          "mesh3d": [
           {
            "colorbar": {
             "outlinewidth": 0,
             "ticks": ""
            },
            "type": "mesh3d"
           }
          ],
          "parcoords": [
           {
            "line": {
             "colorbar": {
              "outlinewidth": 0,
              "ticks": ""
             }
            },
            "type": "parcoords"
           }
          ],
          "pie": [
           {
            "automargin": true,
            "type": "pie"
           }
          ],
          "scatter": [
           {
            "fillpattern": {
             "fillmode": "overlay",
             "size": 10,
             "solidity": 0.2
            },
            "type": "scatter"
           }
          ],
          "scatter3d": [
           {
            "line": {
             "colorbar": {
              "outlinewidth": 0,
              "ticks": ""
             }
            },
            "marker": {
             "colorbar": {
              "outlinewidth": 0,
              "ticks": ""
             }
            },
            "type": "scatter3d"
           }
          ],
          "scattercarpet": [
           {
            "marker": {
             "colorbar": {
              "outlinewidth": 0,
              "ticks": ""
             }
            },
            "type": "scattercarpet"
           }
          ],
          "scattergeo": [
           {
            "marker": {
             "colorbar": {
              "outlinewidth": 0,
              "ticks": ""
             }
            },
            "type": "scattergeo"
           }
          ],
          "scattergl": [
           {
            "marker": {
             "colorbar": {
              "outlinewidth": 0,
              "ticks": ""
             }
            },
            "type": "scattergl"
           }
          ],
          "scattermapbox": [
           {
            "marker": {
             "colorbar": {
              "outlinewidth": 0,
              "ticks": ""
             }
            },
            "type": "scattermapbox"
           }
          ],
          "scatterpolar": [
           {
            "marker": {
             "colorbar": {
              "outlinewidth": 0,
              "ticks": ""
             }
            },
            "type": "scatterpolar"
           }
          ],
          "scatterpolargl": [
           {
            "marker": {
             "colorbar": {
              "outlinewidth": 0,
              "ticks": ""
             }
            },
            "type": "scatterpolargl"
           }
          ],
          "scatterternary": [
           {
            "marker": {
             "colorbar": {
              "outlinewidth": 0,
              "ticks": ""
             }
            },
            "type": "scatterternary"
           }
          ],
          "surface": [
           {
            "colorbar": {
             "outlinewidth": 0,
             "ticks": ""
            },
            "colorscale": [
             [
              0,
              "#0d0887"
             ],
             [
              0.1111111111111111,
              "#46039f"
             ],
             [
              0.2222222222222222,
              "#7201a8"
             ],
             [
              0.3333333333333333,
              "#9c179e"
             ],
             [
              0.4444444444444444,
              "#bd3786"
             ],
             [
              0.5555555555555556,
              "#d8576b"
             ],
             [
              0.6666666666666666,
              "#ed7953"
             ],
             [
              0.7777777777777778,
              "#fb9f3a"
             ],
             [
              0.8888888888888888,
              "#fdca26"
             ],
             [
              1,
              "#f0f921"
             ]
            ],
            "type": "surface"
           }
          ],
          "table": [
           {
            "cells": {
             "fill": {
              "color": "#EBF0F8"
             },
             "line": {
              "color": "white"
             }
            },
            "header": {
             "fill": {
              "color": "#C8D4E3"
             },
             "line": {
              "color": "white"
             }
            },
            "type": "table"
           }
          ]
         },
         "layout": {
          "annotationdefaults": {
           "arrowcolor": "#2a3f5f",
           "arrowhead": 0,
           "arrowwidth": 1
          },
          "autotypenumbers": "strict",
          "coloraxis": {
           "colorbar": {
            "outlinewidth": 0,
            "ticks": ""
           }
          },
          "colorscale": {
           "diverging": [
            [
             0,
             "#8e0152"
            ],
            [
             0.1,
             "#c51b7d"
            ],
            [
             0.2,
             "#de77ae"
            ],
            [
             0.3,
             "#f1b6da"
            ],
            [
             0.4,
             "#fde0ef"
            ],
            [
             0.5,
             "#f7f7f7"
            ],
            [
             0.6,
             "#e6f5d0"
            ],
            [
             0.7,
             "#b8e186"
            ],
            [
             0.8,
             "#7fbc41"
            ],
            [
             0.9,
             "#4d9221"
            ],
            [
             1,
             "#276419"
            ]
           ],
           "sequential": [
            [
             0,
             "#0d0887"
            ],
            [
             0.1111111111111111,
             "#46039f"
            ],
            [
             0.2222222222222222,
             "#7201a8"
            ],
            [
             0.3333333333333333,
             "#9c179e"
            ],
            [
             0.4444444444444444,
             "#bd3786"
            ],
            [
             0.5555555555555556,
             "#d8576b"
            ],
            [
             0.6666666666666666,
             "#ed7953"
            ],
            [
             0.7777777777777778,
             "#fb9f3a"
            ],
            [
             0.8888888888888888,
             "#fdca26"
            ],
            [
             1,
             "#f0f921"
            ]
           ],
           "sequentialminus": [
            [
             0,
             "#0d0887"
            ],
            [
             0.1111111111111111,
             "#46039f"
            ],
            [
             0.2222222222222222,
             "#7201a8"
            ],
            [
             0.3333333333333333,
             "#9c179e"
            ],
            [
             0.4444444444444444,
             "#bd3786"
            ],
            [
             0.5555555555555556,
             "#d8576b"
            ],
            [
             0.6666666666666666,
             "#ed7953"
            ],
            [
             0.7777777777777778,
             "#fb9f3a"
            ],
            [
             0.8888888888888888,
             "#fdca26"
            ],
            [
             1,
             "#f0f921"
            ]
           ]
          },
          "colorway": [
           "#636efa",
           "#EF553B",
           "#00cc96",
           "#ab63fa",
           "#FFA15A",
           "#19d3f3",
           "#FF6692",
           "#B6E880",
           "#FF97FF",
           "#FECB52"
          ],
          "font": {
           "color": "#2a3f5f"
          },
          "geo": {
           "bgcolor": "white",
           "lakecolor": "white",
           "landcolor": "#E5ECF6",
           "showlakes": true,
           "showland": true,
           "subunitcolor": "white"
          },
          "hoverlabel": {
           "align": "left"
          },
          "hovermode": "closest",
          "mapbox": {
           "style": "light"
          },
          "paper_bgcolor": "white",
          "plot_bgcolor": "#E5ECF6",
          "polar": {
           "angularaxis": {
            "gridcolor": "white",
            "linecolor": "white",
            "ticks": ""
           },
           "bgcolor": "#E5ECF6",
           "radialaxis": {
            "gridcolor": "white",
            "linecolor": "white",
            "ticks": ""
           }
          },
          "scene": {
           "xaxis": {
            "backgroundcolor": "#E5ECF6",
            "gridcolor": "white",
            "gridwidth": 2,
            "linecolor": "white",
            "showbackground": true,
            "ticks": "",
            "zerolinecolor": "white"
           },
           "yaxis": {
            "backgroundcolor": "#E5ECF6",
            "gridcolor": "white",
            "gridwidth": 2,
            "linecolor": "white",
            "showbackground": true,
            "ticks": "",
            "zerolinecolor": "white"
           },
           "zaxis": {
            "backgroundcolor": "#E5ECF6",
            "gridcolor": "white",
            "gridwidth": 2,
            "linecolor": "white",
            "showbackground": true,
            "ticks": "",
            "zerolinecolor": "white"
           }
          },
          "shapedefaults": {
           "line": {
            "color": "#2a3f5f"
           }
          },
          "ternary": {
           "aaxis": {
            "gridcolor": "white",
            "linecolor": "white",
            "ticks": ""
           },
           "baxis": {
            "gridcolor": "white",
            "linecolor": "white",
            "ticks": ""
           },
           "bgcolor": "#E5ECF6",
           "caxis": {
            "gridcolor": "white",
            "linecolor": "white",
            "ticks": ""
           }
          },
          "title": {
           "x": 0.05
          },
          "xaxis": {
           "automargin": true,
           "gridcolor": "white",
           "linecolor": "white",
           "ticks": "",
           "title": {
            "standoff": 15
           },
           "zerolinecolor": "white",
           "zerolinewidth": 2
          },
          "yaxis": {
           "automargin": true,
           "gridcolor": "white",
           "linecolor": "white",
           "ticks": "",
           "title": {
            "standoff": 15
           },
           "zerolinecolor": "white",
           "zerolinewidth": 2
          }
         }
        },
        "xaxis": {
         "anchor": "y",
         "constrain": "domain",
         "domain": [
          0,
          1
         ],
         "scaleanchor": "y"
        },
        "yaxis": {
         "anchor": "x",
         "autorange": "reversed",
         "constrain": "domain",
         "domain": [
          0,
          1
         ]
        }
       }
      },
      "text/html": [
       "<div>                            <div id=\"a31586a0-b02a-418a-b932-869ba877868c\" class=\"plotly-graph-div\" style=\"height:525px; width:100%;\"></div>            <script type=\"text/javascript\">                require([\"plotly\"], function(Plotly) {                    window.PLOTLYENV=window.PLOTLYENV || {};                                    if (document.getElementById(\"a31586a0-b02a-418a-b932-869ba877868c\")) {                    Plotly.newPlot(                        \"a31586a0-b02a-418a-b932-869ba877868c\",                        [{\"coloraxis\":\"coloraxis\",\"name\":\"0\",\"x\":[\"20228\",\"10939\",\"14178\",\"16068\",\"2546\",\"6871\",\"2758\",\"4063\",\"31830\",\"23580\",\"2658\",\"23640\",\"29784\",\"23618\",\"28860\",\"19509\",\"19400\",\"29194\",\"26247\",\"26887\",\"4369\",\"29843\",\"32659\",\"7632\",\"14142\",\"1397\",\"26286\",\"28024\",\"5155\",\"18797\",\"24564\",\"8585\",\"23256\",\"29838\",\"28491\",\"12283\",\"17786\",\"16425\",\"5041\",\"13589\",\"10501\",\"29727\",\"10174\",\"32354\",\"20042\",\"13247\",\"24187\",\"31550\",\"25174\",\"31580\",\"2852\",\"8409\",\"10192\",\"19405\",\"24432\",\"12982\",\"31040\",\"1509\",\"14790\",\"3299\",\"13537\",\"25317\",\"8696\",\"1615\",\"15197\",\"32424\",\"27920\",\"25293\",\"6266\"],\"y\":[\"location_continent\",\"football_player_position\",\"location_religion\",\"location_language\",\"person_profession\",\"location_country\",\"country_capital\",\"person_language\",\"singular_plural\",\"present_simple_past_simple\",\"antonyms\",\"plural_singular\",\"present_simple_past_perfect\",\"present_simple_gerund\",\"en_it\",\"it_en\",\"en_fr\",\"en_es\",\"fr_en\",\"es_en\",\"algo_last\",\"algo_first\",\"algo_second\"],\"z\":[[1.0,1.0,1.0,1.0,1.0,1.0,1.0,1.0,1.0,1.0,1.0,1.0,1.0,1.0,1.0,1.0,0.696969696969697,1.0,1.0,1.0,1.0,1.0,1.0,0.9393939393939394,0.38787878787878793,0.8545454545454545,1.0,1.0,0.6,1.0,1.0,0.0,0.8424242424242424,0.806060606060606,1.0,0.5757575757575757,0.8181818181818181,1.0,0.9878787878787879,1.0,1.0,1.0,0.9515151515151515,1.0,1.0,1.0,1.0,1.0,0.9636363636363636,0.9030303030303031,1.0,1.0,0.4666666666666667,0.8909090909090909,0.806060606060606,1.0,1.0,1.0,0.9636363636363636,0.9878787878787879,0.5757575757575757,1.0,1.0,0.8787878787878788,0.8181818181818181,1.0,0.9878787878787879,0.9757575757575757,0.9636363636363636],[1.0,1.0,1.0,1.0,1.0,1.0,1.0,1.0,1.0,1.0,1.0,1.0,1.0,1.0,1.0,1.0,1.0,1.0,1.0,1.0,0.6417910447761194,0.20895522388059706,0.9701492537313433,1.0,1.0,0.9701492537313433,1.0,1.0,1.0,1.0,1.0,1.0,1.0,1.0,0.9402985074626865,1.0,1.0,0.7910447761194029,1.0,1.0,0.8805970149253731,1.0,1.0,1.0,0.9701492537313433,0.9402985074626865,0.7910447761194029,0.8805970149253731,0.0,1.0,0.8805970149253731,0.7910447761194029,1.0,1.0,0.9701492537313433,0.9701492537313433,0.7611940298507464,0.6417910447761194,0.9701492537313433,0.8208955223880597,1.0,0.7313432835820896,0.8507462686567163,1.0,1.0,0.9402985074626865,0.5970149253731343,0.9701492537313433,0.6716417910447762],[1.0,1.0,1.0,1.0,1.0,1.0,1.0,1.0,1.0,1.0,1.0,1.0,0.0,1.0,1.0,1.0,1.0,1.0,1.0,1.0,1.0,1.0,1.0,0.9047619047619049,0.8571428571428571,0.7777777777777778,1.0,1.0,0.9841269841269842,1.0,0.9841269841269842,1.0,1.0,0.9047619047619049,1.0,0.8571428571428571,0.9523809523809524,1.0,0.8095238095238095,1.0,1.0,1.0,1.0,0.134920634920635,1.0,1.0,0.9841269841269842,1.0,1.0,0.8253968253968255,0.9841269841269842,0.8095238095238095,0.8571428571428571,0.9047619047619049,0.6666666666666667,0.9206349206349207,0.9841269841269842,0.6349206349206349,0.9206349206349207,0.7460317460317462,0.9682539682539683,0.8571428571428571,0.8571428571428571,0.7460317460317462,0.761904761904762,0.9682539682539683,0.8888888888888888,0.8253968253968255,0.6666666666666667],[1.0,1.0,1.0,1.0,1.0,1.0,1.0,0.8591549295774648,1.0,0.9154929577464789,1.0,0.971830985915493,0.1971830985915493,1.0,1.0,1.0,0.6056338028169015,1.0,1.0,0.6901408450704226,1.0,0.971830985915493,0.8028169014084506,0.6901408450704226,0.6901408450704226,0.9154929577464789,0.8028169014084506,0.8591549295774648,0.7746478873239437,0.7464788732394366,0.7746478873239437,0.971830985915493,0.6901408450704226,1.0,0.8591549295774648,0.6619718309859155,0.7464788732394366,0.8591549295774648,0.7746478873239437,0.8309859154929576,0.7746478873239437,0.8873239436619718,0.9436619718309859,0.5774647887323944,0.9436619718309859,1.0,0.8591549295774648,0.9154929577464789,0.971830985915493,0.1971830985915493,0.8309859154929576,0.7746478873239437,0.49295774647887325,0.1971830985915493,0.2676056338028169,0.8873239436619718,0.9154929577464789,0.5211267605633803,0.8028169014084506,0.4366197183098592,0.6901408450704226,0.8028169014084506,0.7183098591549296,0.23943661971830987,0.0,0.971830985915493,0.6619718309859155,0.9436619718309859,0.5211267605633803],[1.0,1.0,1.0,1.0,1.0,1.0,1.0,1.0,0.9500000000000001,1.0,0.9,1.0,0.9,1.0,1.0,0.9,1.0,0.9,1.0,1.0,1.0,0.975,1.0,0.975,1.0,1.0,0.9,0.825,1.0,0.925,0.925,1.0,1.0,1.0,0.9,1.0,1.0,0.65,0.725,1.0,0.875,0.925,1.0,1.0,0.925,0.7749999999999999,0.9500000000000001,0.75,0.975,0.9,0.825,0.7999999999999999,1.0,0.975,0.9500000000000001,0.7749999999999999,0.65,0.35,1.0,0.0,0.7999999999999999,0.8499999999999999,0.75,0.9500000000000001,0.725,0.9,0.375,0.875,0.25000000000000006],[1.0,1.0,1.0,1.0,1.0,1.0,1.0,1.0,1.0,1.0,1.0,1.0,0.7258064516129032,1.0,1.0,1.0,0.16129032258064518,1.0,0.8548387096774194,1.0,1.0,1.0,1.0,1.0,0.17741935483870974,0.9032258064516129,1.0,1.0,0.09677419354838715,0.7741935483870968,1.0,0.870967741935484,0.06451612903225803,0.5,1.0,0.09677419354838715,0.17741935483870974,1.0,0.9677419354838709,1.0,1.0,1.0,0.20967741935483875,0.7580645161290324,1.0,1.0,1.0,1.0,1.0,0.6451612903225807,0.9838709677419355,1.0,0.17741935483870974,0.48387096774193555,0.467741935483871,1.0,0.870967741935484,1.0,0.935483870967742,1.0,0.0,1.0,0.9677419354838709,0.467741935483871,0.45161290322580655,0.9838709677419355,0.9516129032258064,0.9193548387096775,0.9677419354838709],[1.0,1.0,1.0,1.0,1.0,1.0,1.0,1.0,1.0,1.0,1.0,1.0,1.0,0.898989898989899,1.0,0.9797979797979798,1.0,1.0,0.0,1.0,1.0,1.0,1.0,0.9191919191919191,1.0,1.0,1.0,0.9494949494949495,1.0,1.0,1.0,0.8585858585858586,0.8181818181818181,0.308080808080808,1.0,1.0,0.8585858585858586,1.0,1.0,1.0,1.0,0.98989898989899,0.9292929292929293,1.0,1.0,1.0,0.8585858585858586,1.0,0.98989898989899,1.0,1.0,1.0,0.9494949494949495,1.0,1.0,1.0,0.8787878787878788,1.0,1.0,1.0,1.0,0.9494949494949495,1.0,1.0,1.0,1.0,0.9393939393939394,0.9696969696969697,0.98989898989899],[1.0,1.0,0.7037037037037036,1.0,1.0,1.0,1.0,0.9444444444444444,1.0,1.0,0.9814814814814815,1.0,0.5185185185185185,1.0,1.0,0.962962962962963,0.611111111111111,0.9444444444444444,1.0,0.9814814814814815,1.0,0.9259259259259259,0.8703703703703703,0.7777777777777777,0.6666666666666666,0.8333333333333334,1.0,0.9259259259259259,0.7037037037037036,1.0,0.8703703703703703,1.0,0.7037037037037036,0.7222222222222223,0.9074074074074074,0.5740740740740741,0.7037037037037036,0.7407407407407408,0.8703703703703703,0.8703703703703703,0.8333333333333334,0.888888888888889,0.8703703703703703,0.6851851851851851,0.9814814814814815,0.9444444444444444,0.8333333333333334,0.8703703703703703,0.9814814814814815,0.24074074074074076,0.7962962962962962,0.888888888888889,0.5740740740740741,0.24074074074074076,0.26851851851851855,0.8518518518518519,0.888888888888889,0.48148148148148145,0.8333333333333334,0.7592592592592592,0.46296296296296297,0.6296296296296297,0.7407407407407408,0.19444444444444448,0.0,0.9074074074074074,0.611111111111111,0.7407407407407408,0.5555555555555556],[0.7250000000000001,0.0,0.2875000000000001,0.5625,0.8375,0.6125,0.6875,0.7000000000000001,0.5375000000000001,0.675,0.5,0.6000000000000001,0.8500000000000001,0.625,0.6875,0.7000000000000001,0.925,0.5625,0.8500000000000001,0.9,0.9125,0.875,0.6625,0.8875000000000001,0.7250000000000001,0.3375,0.9125,0.7625000000000001,0.8875000000000001,0.7124999999999999,0.41250000000000003,0.8375,0.8375,0.9625,0.8875000000000001,0.975,1.0,0.525,0.5625,0.5875,0.6125,0.7000000000000001,0.9500000000000001,1.0,0.55,0.975,0.8250000000000001,0.4375,0.9375,0.925,0.42500000000000004,0.55,0.7500000000000001,0.9125,0.9125,0.5875,0.775,0.6625,0.6375000000000001,0.925,0.975,0.5375000000000001,0.625,0.9,0.9,0.6625,0.6375000000000001,0.6625,0.6625],[1.0,0.37362637362637363,0.6996336996336996,0.6776556776556777,0.9706959706959707,0.8021978021978022,1.0,1.0,0.5970695970695971,0.9194139194139194,0.21245421245421253,0.6996336996336996,0.8241758241758241,0.6117216117216118,0.7728937728937729,0.816849816849817,1.0,0.6336996336996337,0.9780219780219781,0.7289377289377289,0.9706959706959707,1.0,0.5970695970695971,1.0,1.0,0.8754578754578755,0.7948717948717948,0.8974358974358975,1.0,0.7582417582417582,0.7875457875457874,1.0,1.0,1.0,1.0,1.0,0.9413919413919414,0.6923076923076923,0.8901098901098901,0.6410256410256411,0.7948717948717948,0.7362637362637362,1.0,0.9706959706959707,0.8901098901098901,0.8461538461538463,0.9780219780219781,0.6117216117216118,1.0,0.8095238095238095,0.750915750915751,0.6556776556776557,1.0,0.9120879120879122,1.0,0.6190476190476191,0.8461538461538463,0.6117216117216118,0.7142857142857143,0.6996336996336996,0.8901098901098901,0.0,0.706959706959707,0.9120879120879122,0.8095238095238095,0.8681318681318682,0.7948717948717948,0.750915750915751,0.7948717948717948],[1.0,1.0,1.0,1.0,0.6266666666666667,0.8933333333333333,1.0,0.9466666666666667,1.0,0.7866666666666666,1.0,1.0,1.0,1.0,0.7866666666666666,1.0,1.0,1.0,1.0,1.0,0.92,0.84,1.0,0.8133333333333334,1.0,1.0,1.0,1.0,1.0,0.92,1.0,0.76,1.0,1.0,0.0,0.8666666666666666,1.0,0.8133333333333334,1.0,0.8933333333333333,1.0,1.0,1.0,0.4799999999999999,1.0,0.7066666666666667,1.0,1.0,0.3066666666666666,0.92,1.0,1.0,1.0,1.0,0.92,0.7066666666666667,1.0,0.3733333333333333,1.0,0.6133333333333333,1.0,1.0,0.9733333333333334,0.9466666666666667,0.92,0.84,1.0,0.6799999999999999,0.6266666666666667],[0.8151260504201681,0.0,0.5210084033613446,0.3697478991596639,0.7478991596638656,0.680672268907563,0.4705882352941177,0.45378151260504207,0.3865546218487395,0.4705882352941177,0.6470588235294119,0.44537815126050423,0.9243697478991596,0.5546218487394957,0.6302521008403361,0.638655462184874,1.0,0.35294117647058826,0.9831932773109244,0.6050420168067228,0.638655462184874,0.6722689075630253,0.3949579831932773,0.823529411764706,0.9243697478991596,1.0,0.689075630252101,0.6554621848739497,1.0,0.7142857142857143,0.5462184873949579,0.8067226890756302,0.8403361344537815,0.9663865546218487,0.8487394957983193,0.9663865546218487,0.9243697478991596,0.4957983193277311,0.680672268907563,0.48739495798319327,0.48739495798319327,0.4957983193277311,0.9495798319327732,0.907563025210084,0.5378151260504201,0.5462184873949579,0.773109243697479,0.3865546218487395,0.7815126050420168,0.9495798319327732,0.4957983193277311,0.4033613445378151,0.8991596638655462,0.957983193277311,0.9327731092436975,0.689075630252101,0.6302521008403361,0.5882352941176471,0.5210084033613446,0.7478991596638656,0.907563025210084,0.638655462184874,0.4957983193277311,0.8571428571428572,0.9159663865546218,0.5042016806722689,0.5546218487394957,0.773109243697479,0.5966386554621849],[1.0,0.13043478260869573,0.32608695652173914,0.47826086956521746,0.7391304347826088,0.717391304347826,0.8043478260869565,1.0,0.4565217391304348,0.782608695652174,0.2717391304347827,0.6304347826086957,0.673913043478261,0.5652173913043479,0.8043478260869565,0.5543478260869565,0.8913043478260869,0.5543478260869565,0.8260869565217391,0.6304347826086957,0.8043478260869565,1.0,0.44565217391304357,1.0,0.8913043478260869,0.8478260869565218,0.782608695652174,0.6521739130434783,0.9347826086956522,0.5108695652173914,0.6304347826086957,0.9130434782608696,0.8260869565217391,0.8695652173913043,0.8260869565217391,1.0,0.9565217391304349,0.6086956521739131,0.6956521739130435,0.7608695652173914,0.673913043478261,0.5978260869565217,0.7391304347826088,0.717391304347826,0.8260869565217391,0.8043478260869565,0.9347826086956522,0.48913043478260876,1.0,0.717391304347826,0.5434782608695652,0.47826086956521746,0.8478260869565218,0.782608695652174,0.8478260869565218,0.6956521739130435,0.717391304347826,0.6521739130434783,0.4347826086956522,0.8043478260869565,0.7391304347826088,0.0,0.6521739130434783,0.717391304347826,0.7391304347826088,0.6956521739130435,0.7608695652173914,0.6521739130434783,0.8260869565217391],[1.0,0.4427480916030534,0.6641221374045801,0.8625954198473282,0.8778625954198473,0.8931297709923663,0.9694656488549618,0.9541984732824428,0.7709923664122137,0.9541984732824428,0.7404580152671757,0.83206106870229,1.0,0.7862595419847328,0.8625954198473282,0.8625954198473282,0.9541984732824428,0.748091603053435,0.8931297709923663,0.8244274809160305,0.8625954198473282,1.0,0.6946564885496184,1.0,0.8473282442748091,0.8244274809160305,0.8931297709923663,0.9083969465648855,0.9083969465648855,0.8091603053435115,0.7557251908396946,0.9541984732824428,0.8473282442748091,0.9083969465648855,1.0,0.9083969465648855,0.9541984732824428,0.7175572519083969,0.9083969465648855,0.7099236641221375,0.83206106870229,0.9541984732824428,0.9694656488549618,0.9236641221374046,0.9083969465648855,0.9083969465648855,0.9541984732824428,0.748091603053435,0.9541984732824428,0.9083969465648855,0.7557251908396946,0.732824427480916,0.8931297709923663,0.9083969465648855,0.8702290076335878,0.1755725190839694,0.9083969465648855,0.0,0.7557251908396946,0.8549618320610687,0.9236641221374046,0.6946564885496184,0.7786259541984732,0.8931297709923663,0.8625954198473282,0.8931297709923663,0.8091603053435115,0.16793893129770984,0.748091603053435],[0.9448275862068966,0.9724137931034482,0.0,0.8620689655172413,0.7931034482758621,0.8344827586206897,0.9310344827586207,0.9310344827586207,0.8068965517241379,0.9034482758620689,0.9034482758620689,0.8620689655172413,0.8620689655172413,0.8482758620689655,0.9310344827586207,0.9448275862068966,0.8620689655172413,0.8620689655172413,0.8344827586206897,0.8620689655172413,0.9034482758620689,0.9310344827586207,0.8896551724137931,0.8896551724137931,0.8758620689655173,0.8896551724137931,0.9448275862068966,0.8620689655172413,0.9310344827586207,0.8620689655172413,0.8068965517241379,0.8344827586206897,0.8896551724137931,0.8482758620689655,0.9724137931034482,0.8620689655172413,1.0,0.8896551724137931,0.8620689655172413,0.9862068965517242,0.8620689655172413,0.8482758620689655,0.9724137931034482,0.8758620689655173,0.8896551724137931,0.9310344827586207,0.9586206896551724,0.8620689655172413,0.9862068965517242,0.6551724137931034,0.8620689655172413,0.8206896551724138,0.8896551724137931,0.8620689655172413,0.8206896551724138,0.9172413793103449,0.8896551724137931,0.8896551724137931,0.8620689655172413,0.9310344827586207,0.9586206896551724,0.8758620689655173,0.9034482758620689,0.8758620689655173,0.9586206896551724,0.8482758620689655,0.9172413793103449,0.8482758620689655,0.9034482758620689],[0.7399999999999999,1.0,1.0,1.0,1.0,1.0,0.86,0.98,0.82,0.94,0.86,0.7999999999999999,1.0,0.68,0.86,0.98,0.96,0.88,0.96,0.84,0.84,0.6,0.86,0.68,1.0,0.84,0.82,0.66,0.86,0.96,0.88,0.9199999999999999,0.7600000000000001,0.88,0.88,0.88,0.7000000000000001,1.0,1.0,0.9,0.7000000000000001,0.6200000000000001,0.7600000000000001,0.9,0.88,0.9199999999999999,0.46,0.96,0.64,0.82,0.7999999999999999,0.6,0.7999999999999999,0.7799999999999999,0.7799999999999999,0.7799999999999999,0.86,0.7999999999999999,0.6,0.86,0.64,0.7000000000000001,0.6,0.7399999999999999,0.64,0.7799999999999999,0.66,0.82,0.0],[0.9626168224299064,1.0,0.0,0.8504672897196262,0.8130841121495326,0.8691588785046729,0.8504672897196262,0.8504672897196262,0.719626168224299,0.8130841121495326,0.794392523364486,0.794392523364486,0.794392523364486,0.7757009345794392,0.9813084112149532,0.8504672897196262,0.8691588785046729,0.7757009345794392,0.8878504672897195,0.7757009345794392,0.8878504672897195,0.9252336448598131,0.8317757009345794,0.8878504672897195,0.8878504672897195,0.794392523364486,0.9252336448598131,0.794392523364486,0.9626168224299064,0.8504672897196262,0.6448598130841121,0.7757009345794392,0.8691588785046729,0.9252336448598131,0.9065420560747662,0.9252336448598131,0.9813084112149532,0.8317757009345794,0.7757009345794392,0.8878504672897195,0.794392523364486,0.719626168224299,0.9439252336448597,0.8691588785046729,0.8317757009345794,0.9252336448598131,0.9813084112149532,0.7757009345794392,1.0,0.9626168224299064,0.7383177570093458,0.7383177570093458,0.9065420560747662,0.8504672897196262,0.8691588785046729,0.8317757009345794,0.8504672897196262,0.8504672897196262,0.7383177570093458,0.8691588785046729,0.9439252336448597,0.8691588785046729,0.8317757009345794,0.9065420560747662,0.9252336448598131,0.8130841121495326,0.8504672897196262,0.8504672897196262,0.8691588785046729],[1.0,0.8627450980392156,0.0,0.8137254901960784,0.7745098039215685,0.8627450980392156,0.8529411764705882,0.9411764705882354,0.7352941176470589,0.8333333333333334,0.7647058823529411,0.7941176470588235,0.7745098039215685,0.8823529411764706,0.8823529411764706,0.8431372549019609,0.8823529411764706,0.7745098039215685,0.7843137254901961,0.8137254901960784,0.9215686274509804,0.9411764705882354,0.7941176470588235,0.9019607843137255,0.823529411764706,0.8529411764705882,0.8627450980392156,0.7843137254901961,0.8823529411764706,0.823529411764706,0.7254901960784315,0.8823529411764706,0.8627450980392156,0.8823529411764706,0.8627450980392156,0.8823529411764706,0.9215686274509804,0.823529411764706,0.803921568627451,0.9019607843137255,0.8137254901960784,0.8137254901960784,0.8823529411764706,0.803921568627451,0.8137254901960784,0.9019607843137255,0.9019607843137255,0.7549019607843138,0.9411764705882354,0.8333333333333334,0.7450980392156862,0.7254901960784315,0.823529411764706,0.8627450980392156,0.8333333333333334,0.823529411764706,0.8137254901960784,0.803921568627451,0.7745098039215685,0.8823529411764706,0.9019607843137255,0.7549019607843138,0.8137254901960784,0.8627450980392156,0.8823529411764706,0.7843137254901961,0.823529411764706,0.7745098039215685,0.8627450980392156],[1.0,1.0,1.0,1.0,1.0,1.0,0.92,1.0,1.0,1.0,1.0,0.9600000000000001,1.0,0.64,0.64,1.0,1.0,1.0,1.0,0.72,0.5599999999999999,0.68,1.0,1.0,1.0,1.0,0.5599999999999999,1.0,1.0,1.0,1.0,1.0,1.0,1.0,0.72,1.0,0.8,0.84,1.0,0.6,0.88,0.92,0.8,0.76,0.92,0.64,0.5599999999999999,0.88,0.72,1.0,0.76,0.52,0.8,0.68,1.0,0.9600000000000001,0.68,0.6,0.72,0.84,0.64,0.5599999999999999,0.48,0.68,0.5599999999999999,0.68,0.48,1.0,0.0],[0.5254237288135594,1.0,1.0,1.0,1.0,1.0,0.847457627118644,0.9491525423728814,0.847457627118644,0.8305084745762712,0.7796610169491526,0.847457627118644,0.7966101694915254,0.7796610169491526,0.7457627118644068,0.9322033898305084,0.8305084745762712,0.7966101694915254,0.9152542372881356,0.8813559322033898,0.8813559322033898,0.6101694915254238,0.7966101694915254,0.6610169491525424,0.9830508474576272,0.8983050847457628,0.7966101694915254,0.7796610169491526,0.847457627118644,0.9661016949152542,0.9152542372881356,0.8813559322033898,0.7627118644067796,0.9152542372881356,0.847457627118644,0.7966101694915254,0.7796610169491526,0.8813559322033898,1.0,0.864406779661017,0.6271186440677966,0.6779661016949152,0.8305084745762712,0.7288135593220338,0.7796610169491526,0.9661016949152542,0.6101694915254238,0.8983050847457628,0.8983050847457628,0.8305084745762712,0.6949152542372882,0.6101694915254238,0.7966101694915254,0.6949152542372882,0.7288135593220338,0.7457627118644068,0.7288135593220338,0.6949152542372882,0.5423728813559322,0.6271186440677966,0.6779661016949152,0.6440677966101694,0.576271186440678,0.7457627118644068,0.6610169491525424,0.711864406779661,0.5423728813559322,0.864406779661017,0.0],[1.0,0.2555555555555556,0.7777777777777778,0.9333333333333332,0.9444444444444445,0.8444444444444443,0.7444444444444444,0.7555555555555554,0.9555555555555556,1.0,0.7111111111111111,0.8666666666666667,1.0,0.3888888888888889,0.7888888888888889,1.0,0.7111111111111111,0.8333333333333333,0.6444444444444444,1.0,0.6444444444444444,0.8777777777777778,0.0,1.0,0.8666666666666667,1.0,0.9444444444444445,1.0,0.8444444444444443,0.8444444444444443,0.7777777777777778,0.8222222222222222,0.8777777777777778,0.7666666666666667,0.5,0.9555555555555556,0.9333333333333332,1.0,0.9,0.5777777777777777,0.888888888888889,0.24444444444444438,0.9444444444444445,0.7444444444444444,0.8111111111111111,0.6777777777777778,0.9444444444444445,0.7111111111111111,0.7666666666666667,0.8666666666666667,1.0,0.6777777777777778,0.9,0.7333333333333333,0.888888888888889,0.7555555555555554,1.0,0.7222222222222222,0.9555555555555556,1.0,0.8,0.7555555555555554,0.6777777777777778,0.8,0.8555555555555556,0.5,0.8333333333333333,0.7888888888888889,0.8555555555555556],[0.8291457286432161,0.21608040201005033,0.12562814070351766,0.40703517587939697,0.6683417085427135,0.37688442211055284,0.3165829145728643,0.36683417085427134,0.14572864321608048,0.0,0.5276381909547739,0.26633165829145733,0.6482412060301508,0.6281407035175879,0.03517587939698499,0.6482412060301508,0.8793969849246231,0.256281407035176,0.7688442211055276,0.7286432160804021,0.5477386934673367,0.47738693467336685,0.8592964824120604,0.507537688442211,0.6582914572864321,0.8894472361809045,0.9597989949748743,0.35678391959799,0.8391959798994975,0.7085427135678392,0.36683417085427134,0.6884422110552765,0.7487437185929648,0.7386934673366835,0.6683417085427135,0.8894472361809045,0.8592964824120604,0.43718592964824116,0.5879396984924623,0.6381909547738693,0.19597989949748748,0.507537688442211,0.8492462311557788,0.6180904522613065,0.44723618090452266,0.5276381909547739,1.0,0.11557788944723617,0.43718592964824116,0.9296482412060302,0.185929648241206,0.4170854271356785,0.7989949748743719,0.8492462311557788,0.7386934673366835,0.5577889447236181,0.4271356783919598,0.7085427135678392,0.5678391959798995,0.8190954773869347,0.7587939698492462,0.5175879396984925,0.44723618090452266,0.8391959798994975,0.8592964824120604,0.6683417085427135,0.3869346733668342,0.6482412060301508,0.5376884422110553],[0.7741935483870968,1.0,1.0,0.6129032258064516,0.8387096774193549,0.25806451612903225,0.6451612903225806,0.3548387096774193,0.3870967741935484,0.12903225806451604,0.7096774193548386,0.7741935483870968,0.6451612903225806,0.8709677419354838,0.6129032258064516,0.7419354838709677,0.8064516129032259,0.4838709677419355,0.8064516129032259,0.45161290322580644,0.29032258064516125,0.0,0.29032258064516125,0.5161290322580645,0.7741935483870968,1.0,0.7419354838709677,0.5483870967741935,0.8709677419354838,0.5161290322580645,0.6129032258064516,0.8387096774193549,0.6774193548387096,0.8709677419354838,0.3225806451612903,0.8387096774193549,1.0,0.8064516129032259,0.9354838709677419,0.7419354838709677,0.3548387096774193,0.6129032258064516,0.7741935483870968,0.4193548387096774,0.8064516129032259,0.6451612903225806,1.0,0.4193548387096774,0.19354838709677416,1.0,0.3870967741935484,0.4193548387096774,0.9354838709677419,0.7741935483870968,0.7419354838709677,0.7419354838709677,0.6129032258064516,0.4838709677419355,0.6774193548387096,0.5483870967741935,0.967741935483871,0.6451612903225806,0.25806451612903225,0.8064516129032259,0.9354838709677419,0.6451612903225806,0.7096774193548386,0.29032258064516125,0.3870967741935484]],\"type\":\"heatmap\",\"xaxis\":\"x\",\"yaxis\":\"y\",\"hovertemplate\":\"x: %{x}\\u003cbr\\u003ey: %{y}\\u003cbr\\u003ecolor: %{z}\\u003cextra\\u003e\\u003c\\u002fextra\\u003e\"}],                        {\"template\":{\"data\":{\"histogram2dcontour\":[{\"type\":\"histogram2dcontour\",\"colorbar\":{\"outlinewidth\":0,\"ticks\":\"\"},\"colorscale\":[[0.0,\"#0d0887\"],[0.1111111111111111,\"#46039f\"],[0.2222222222222222,\"#7201a8\"],[0.3333333333333333,\"#9c179e\"],[0.4444444444444444,\"#bd3786\"],[0.5555555555555556,\"#d8576b\"],[0.6666666666666666,\"#ed7953\"],[0.7777777777777778,\"#fb9f3a\"],[0.8888888888888888,\"#fdca26\"],[1.0,\"#f0f921\"]]}],\"choropleth\":[{\"type\":\"choropleth\",\"colorbar\":{\"outlinewidth\":0,\"ticks\":\"\"}}],\"histogram2d\":[{\"type\":\"histogram2d\",\"colorbar\":{\"outlinewidth\":0,\"ticks\":\"\"},\"colorscale\":[[0.0,\"#0d0887\"],[0.1111111111111111,\"#46039f\"],[0.2222222222222222,\"#7201a8\"],[0.3333333333333333,\"#9c179e\"],[0.4444444444444444,\"#bd3786\"],[0.5555555555555556,\"#d8576b\"],[0.6666666666666666,\"#ed7953\"],[0.7777777777777778,\"#fb9f3a\"],[0.8888888888888888,\"#fdca26\"],[1.0,\"#f0f921\"]]}],\"heatmap\":[{\"type\":\"heatmap\",\"colorbar\":{\"outlinewidth\":0,\"ticks\":\"\"},\"colorscale\":[[0.0,\"#0d0887\"],[0.1111111111111111,\"#46039f\"],[0.2222222222222222,\"#7201a8\"],[0.3333333333333333,\"#9c179e\"],[0.4444444444444444,\"#bd3786\"],[0.5555555555555556,\"#d8576b\"],[0.6666666666666666,\"#ed7953\"],[0.7777777777777778,\"#fb9f3a\"],[0.8888888888888888,\"#fdca26\"],[1.0,\"#f0f921\"]]}],\"heatmapgl\":[{\"type\":\"heatmapgl\",\"colorbar\":{\"outlinewidth\":0,\"ticks\":\"\"},\"colorscale\":[[0.0,\"#0d0887\"],[0.1111111111111111,\"#46039f\"],[0.2222222222222222,\"#7201a8\"],[0.3333333333333333,\"#9c179e\"],[0.4444444444444444,\"#bd3786\"],[0.5555555555555556,\"#d8576b\"],[0.6666666666666666,\"#ed7953\"],[0.7777777777777778,\"#fb9f3a\"],[0.8888888888888888,\"#fdca26\"],[1.0,\"#f0f921\"]]}],\"contourcarpet\":[{\"type\":\"contourcarpet\",\"colorbar\":{\"outlinewidth\":0,\"ticks\":\"\"}}],\"contour\":[{\"type\":\"contour\",\"colorbar\":{\"outlinewidth\":0,\"ticks\":\"\"},\"colorscale\":[[0.0,\"#0d0887\"],[0.1111111111111111,\"#46039f\"],[0.2222222222222222,\"#7201a8\"],[0.3333333333333333,\"#9c179e\"],[0.4444444444444444,\"#bd3786\"],[0.5555555555555556,\"#d8576b\"],[0.6666666666666666,\"#ed7953\"],[0.7777777777777778,\"#fb9f3a\"],[0.8888888888888888,\"#fdca26\"],[1.0,\"#f0f921\"]]}],\"surface\":[{\"type\":\"surface\",\"colorbar\":{\"outlinewidth\":0,\"ticks\":\"\"},\"colorscale\":[[0.0,\"#0d0887\"],[0.1111111111111111,\"#46039f\"],[0.2222222222222222,\"#7201a8\"],[0.3333333333333333,\"#9c179e\"],[0.4444444444444444,\"#bd3786\"],[0.5555555555555556,\"#d8576b\"],[0.6666666666666666,\"#ed7953\"],[0.7777777777777778,\"#fb9f3a\"],[0.8888888888888888,\"#fdca26\"],[1.0,\"#f0f921\"]]}],\"mesh3d\":[{\"type\":\"mesh3d\",\"colorbar\":{\"outlinewidth\":0,\"ticks\":\"\"}}],\"scatter\":[{\"fillpattern\":{\"fillmode\":\"overlay\",\"size\":10,\"solidity\":0.2},\"type\":\"scatter\"}],\"parcoords\":[{\"type\":\"parcoords\",\"line\":{\"colorbar\":{\"outlinewidth\":0,\"ticks\":\"\"}}}],\"scatterpolargl\":[{\"type\":\"scatterpolargl\",\"marker\":{\"colorbar\":{\"outlinewidth\":0,\"ticks\":\"\"}}}],\"bar\":[{\"error_x\":{\"color\":\"#2a3f5f\"},\"error_y\":{\"color\":\"#2a3f5f\"},\"marker\":{\"line\":{\"color\":\"#E5ECF6\",\"width\":0.5},\"pattern\":{\"fillmode\":\"overlay\",\"size\":10,\"solidity\":0.2}},\"type\":\"bar\"}],\"scattergeo\":[{\"type\":\"scattergeo\",\"marker\":{\"colorbar\":{\"outlinewidth\":0,\"ticks\":\"\"}}}],\"scatterpolar\":[{\"type\":\"scatterpolar\",\"marker\":{\"colorbar\":{\"outlinewidth\":0,\"ticks\":\"\"}}}],\"histogram\":[{\"marker\":{\"pattern\":{\"fillmode\":\"overlay\",\"size\":10,\"solidity\":0.2}},\"type\":\"histogram\"}],\"scattergl\":[{\"type\":\"scattergl\",\"marker\":{\"colorbar\":{\"outlinewidth\":0,\"ticks\":\"\"}}}],\"scatter3d\":[{\"type\":\"scatter3d\",\"line\":{\"colorbar\":{\"outlinewidth\":0,\"ticks\":\"\"}},\"marker\":{\"colorbar\":{\"outlinewidth\":0,\"ticks\":\"\"}}}],\"scattermapbox\":[{\"type\":\"scattermapbox\",\"marker\":{\"colorbar\":{\"outlinewidth\":0,\"ticks\":\"\"}}}],\"scatterternary\":[{\"type\":\"scatterternary\",\"marker\":{\"colorbar\":{\"outlinewidth\":0,\"ticks\":\"\"}}}],\"scattercarpet\":[{\"type\":\"scattercarpet\",\"marker\":{\"colorbar\":{\"outlinewidth\":0,\"ticks\":\"\"}}}],\"carpet\":[{\"aaxis\":{\"endlinecolor\":\"#2a3f5f\",\"gridcolor\":\"white\",\"linecolor\":\"white\",\"minorgridcolor\":\"white\",\"startlinecolor\":\"#2a3f5f\"},\"baxis\":{\"endlinecolor\":\"#2a3f5f\",\"gridcolor\":\"white\",\"linecolor\":\"white\",\"minorgridcolor\":\"white\",\"startlinecolor\":\"#2a3f5f\"},\"type\":\"carpet\"}],\"table\":[{\"cells\":{\"fill\":{\"color\":\"#EBF0F8\"},\"line\":{\"color\":\"white\"}},\"header\":{\"fill\":{\"color\":\"#C8D4E3\"},\"line\":{\"color\":\"white\"}},\"type\":\"table\"}],\"barpolar\":[{\"marker\":{\"line\":{\"color\":\"#E5ECF6\",\"width\":0.5},\"pattern\":{\"fillmode\":\"overlay\",\"size\":10,\"solidity\":0.2}},\"type\":\"barpolar\"}],\"pie\":[{\"automargin\":true,\"type\":\"pie\"}]},\"layout\":{\"autotypenumbers\":\"strict\",\"colorway\":[\"#636efa\",\"#EF553B\",\"#00cc96\",\"#ab63fa\",\"#FFA15A\",\"#19d3f3\",\"#FF6692\",\"#B6E880\",\"#FF97FF\",\"#FECB52\"],\"font\":{\"color\":\"#2a3f5f\"},\"hovermode\":\"closest\",\"hoverlabel\":{\"align\":\"left\"},\"paper_bgcolor\":\"white\",\"plot_bgcolor\":\"#E5ECF6\",\"polar\":{\"bgcolor\":\"#E5ECF6\",\"angularaxis\":{\"gridcolor\":\"white\",\"linecolor\":\"white\",\"ticks\":\"\"},\"radialaxis\":{\"gridcolor\":\"white\",\"linecolor\":\"white\",\"ticks\":\"\"}},\"ternary\":{\"bgcolor\":\"#E5ECF6\",\"aaxis\":{\"gridcolor\":\"white\",\"linecolor\":\"white\",\"ticks\":\"\"},\"baxis\":{\"gridcolor\":\"white\",\"linecolor\":\"white\",\"ticks\":\"\"},\"caxis\":{\"gridcolor\":\"white\",\"linecolor\":\"white\",\"ticks\":\"\"}},\"coloraxis\":{\"colorbar\":{\"outlinewidth\":0,\"ticks\":\"\"}},\"colorscale\":{\"sequential\":[[0.0,\"#0d0887\"],[0.1111111111111111,\"#46039f\"],[0.2222222222222222,\"#7201a8\"],[0.3333333333333333,\"#9c179e\"],[0.4444444444444444,\"#bd3786\"],[0.5555555555555556,\"#d8576b\"],[0.6666666666666666,\"#ed7953\"],[0.7777777777777778,\"#fb9f3a\"],[0.8888888888888888,\"#fdca26\"],[1.0,\"#f0f921\"]],\"sequentialminus\":[[0.0,\"#0d0887\"],[0.1111111111111111,\"#46039f\"],[0.2222222222222222,\"#7201a8\"],[0.3333333333333333,\"#9c179e\"],[0.4444444444444444,\"#bd3786\"],[0.5555555555555556,\"#d8576b\"],[0.6666666666666666,\"#ed7953\"],[0.7777777777777778,\"#fb9f3a\"],[0.8888888888888888,\"#fdca26\"],[1.0,\"#f0f921\"]],\"diverging\":[[0,\"#8e0152\"],[0.1,\"#c51b7d\"],[0.2,\"#de77ae\"],[0.3,\"#f1b6da\"],[0.4,\"#fde0ef\"],[0.5,\"#f7f7f7\"],[0.6,\"#e6f5d0\"],[0.7,\"#b8e186\"],[0.8,\"#7fbc41\"],[0.9,\"#4d9221\"],[1,\"#276419\"]]},\"xaxis\":{\"gridcolor\":\"white\",\"linecolor\":\"white\",\"ticks\":\"\",\"title\":{\"standoff\":15},\"zerolinecolor\":\"white\",\"automargin\":true,\"zerolinewidth\":2},\"yaxis\":{\"gridcolor\":\"white\",\"linecolor\":\"white\",\"ticks\":\"\",\"title\":{\"standoff\":15},\"zerolinecolor\":\"white\",\"automargin\":true,\"zerolinewidth\":2},\"scene\":{\"xaxis\":{\"backgroundcolor\":\"#E5ECF6\",\"gridcolor\":\"white\",\"linecolor\":\"white\",\"showbackground\":true,\"ticks\":\"\",\"zerolinecolor\":\"white\",\"gridwidth\":2},\"yaxis\":{\"backgroundcolor\":\"#E5ECF6\",\"gridcolor\":\"white\",\"linecolor\":\"white\",\"showbackground\":true,\"ticks\":\"\",\"zerolinecolor\":\"white\",\"gridwidth\":2},\"zaxis\":{\"backgroundcolor\":\"#E5ECF6\",\"gridcolor\":\"white\",\"linecolor\":\"white\",\"showbackground\":true,\"ticks\":\"\",\"zerolinecolor\":\"white\",\"gridwidth\":2}},\"shapedefaults\":{\"line\":{\"color\":\"#2a3f5f\"}},\"annotationdefaults\":{\"arrowcolor\":\"#2a3f5f\",\"arrowhead\":0,\"arrowwidth\":1},\"geo\":{\"bgcolor\":\"white\",\"landcolor\":\"#E5ECF6\",\"subunitcolor\":\"white\",\"showland\":true,\"showlakes\":true,\"lakecolor\":\"white\"},\"title\":{\"x\":0.05},\"mapbox\":{\"style\":\"light\"}}},\"xaxis\":{\"anchor\":\"y\",\"domain\":[0.0,1.0],\"scaleanchor\":\"y\",\"constrain\":\"domain\"},\"yaxis\":{\"anchor\":\"x\",\"domain\":[0.0,1.0],\"autorange\":\"reversed\",\"constrain\":\"domain\"},\"coloraxis\":{\"colorscale\":[[0.0,\"#0d0887\"],[0.1111111111111111,\"#46039f\"],[0.2222222222222222,\"#7201a8\"],[0.3333333333333333,\"#9c179e\"],[0.4444444444444444,\"#bd3786\"],[0.5555555555555556,\"#d8576b\"],[0.6666666666666666,\"#ed7953\"],[0.7777777777777778,\"#fb9f3a\"],[0.8888888888888888,\"#fdca26\"],[1.0,\"#f0f921\"]]},\"margin\":{\"t\":60}},                        {\"responsive\": true}                    ).then(function(){\n",
       "                            \n",
       "var gd = document.getElementById('a31586a0-b02a-418a-b932-869ba877868c');\n",
       "var x = new MutationObserver(function (mutations, observer) {{\n",
       "        var display = window.getComputedStyle(gd).display;\n",
       "        if (!display || display === 'none') {{\n",
       "            console.log([gd, 'removed!']);\n",
       "            Plotly.purge(gd);\n",
       "            observer.disconnect();\n",
       "        }}\n",
       "}});\n",
       "\n",
       "// Listen for the removal of the full notebook cells\n",
       "var notebookContainer = gd.closest('#notebook-container');\n",
       "if (notebookContainer) {{\n",
       "    x.observe(notebookContainer, {childList: true});\n",
       "}}\n",
       "\n",
       "// Listen for the clearing of the current output cell\n",
       "var outputEl = gd.closest('.output');\n",
       "if (outputEl) {{\n",
       "    x.observe(outputEl, {childList: true});\n",
       "}}\n",
       "\n",
       "                        })                };                });            </script>        </div>"
      ]
     },
     "metadata": {},
     "output_type": "display_data"
    }
   ],
   "source": [
    "import plotly.express as px\n",
    "import pandas as pd\n",
    "import numpy as np\n",
    "\n",
    "normalized_losses = {}\n",
    "\n",
    "drop_features = []\n",
    "drop_ids = [features.index(feature) for feature in drop_features]\n",
    "\n",
    "features_dropped = [feature for feature in features if feature not in drop_features]\n",
    "\n",
    "for task_name, losses in task_losses_positive.items():\n",
    "    base_loss = losses[1]\n",
    "    losses = losses[0]\n",
    "    losses = np.array(losses)\n",
    "    losses = np.delete(losses, drop_ids)\n",
    "\n",
    "    losses = np.minimum(losses, base_loss)\n",
    "\n",
    "    losses = (losses - base_loss) / base_loss\n",
    "    \n",
    "    max_loss = np.max(losses)\n",
    "    min_loss = np.min(losses)\n",
    "\n",
    "    losses = (losses - min_loss) / (max_loss - min_loss)\n",
    "    \n",
    "    # mean_loss = np.mean(losses - base_loss)\n",
    "\n",
    "    # base_acc = losses[1][1]\n",
    "\n",
    "    # accs = [base_acc - loss[1] for loss in losses[0]]\n",
    "    normalized_losses[task_name] = losses\n",
    "\n",
    "\n",
    "heatmap = np.zeros((len(task_names), len(features_dropped)))\n",
    "\n",
    "for i, task_name in enumerate(task_names):\n",
    "    for j, feature in enumerate(features_dropped):\n",
    "        heatmap[i, j] = normalized_losses[task_name][j]\n",
    "\n",
    "# heatmap /= np.mean(heatmap, axis=0, keepdims=True)\n",
    "\n",
    "\n",
    "\n",
    "# heatmap = np.where(heatmap > 0, np.log(heatmap), -10)\n",
    "# heatmap[np.isnan(heatmap)] = np.min(heatmap[np.isfinite(heatmap)])\n",
    "# heatmap[np.isinf(heatmap)] = np.max(heatmap[np.isfinite(heatmap)])\n",
    "\n",
    "# heatmap = np.clip(heatmap, -5, 5)\n",
    "\n",
    "avg_heatmap = np.sum(heatmap != 1, axis=0)\n",
    "\n",
    "sorted_idx = np.argsort(avg_heatmap)\n",
    "\n",
    "heatmap = heatmap[:, sorted_idx]\n",
    "\n",
    "\n",
    "fig = px.imshow(heatmap, x=[str(features_dropped[x]) for x in sorted_idx], y=task_names)\n",
    "\n",
    "fig.show()\n"
   ]
  },
  {
   "cell_type": "code",
   "execution_count": 20,
   "metadata": {},
   "outputs": [
    {
     "data": {
      "application/vnd.plotly.v1+json": {
       "config": {
        "plotlyServerURL": "https://plot.ly"
       },
       "data": [
        {
         "coloraxis": "coloraxis",
         "hovertemplate": "x: %{x}<br>y: %{y}<br>color: %{z}<extra></extra>",
         "name": "0",
         "type": "heatmap",
         "x": [
          "8446",
          "19628",
          "29228",
          "11459",
          "26436",
          "19916",
          "21327",
          "31123",
          "13529",
          "11050",
          "1322",
          "1132",
          "32115",
          "3466",
          "7928",
          "10884",
          "99",
          "25337",
          "10685",
          "25334",
          "27001",
          "15764",
          "25185",
          "3844",
          "29362",
          "21126",
          "24081",
          "6267",
          "19254",
          "20627",
          "32677",
          "26470",
          "3775",
          "16172",
          "24964",
          "1753",
          "30363",
          "8228",
          "10672",
          "28297",
          "20079",
          "31427",
          "13412",
          "9995",
          "20983",
          "10512",
          "12898",
          "16205",
          "7323",
          "32142",
          "30338",
          "13181",
          "5971",
          "14141",
          "26783",
          "27936",
          "23545",
          "29381",
          "1948",
          "4258",
          "14996",
          "18472"
         ],
         "xaxis": "x",
         "y": [
          "present_simple_gerund",
          "present_simple_past_perfect",
          "plural_singular",
          "algo_last",
          "location_country",
          "location_continent",
          "person_profession",
          "football_player_position",
          "present_simple_past_simple",
          "es_en",
          "fr_en",
          "it_en",
          "country_capital",
          "antonyms",
          "singular_plural",
          "person_language",
          "algo_second",
          "algo_first",
          "location_religion",
          "en_fr",
          "en_it",
          "location_language",
          "en_es"
         ],
         "yaxis": "y",
         "z": [
          [
           1,
           0.3472222222222222,
           0.4444444444444445,
           0.2,
           0.2,
           0.2,
           0.3611111111111111,
           0.2777777777777778,
           0.2,
           0.2,
           0.3194444444444444,
           0.2,
           0.2638888888888889,
           0.2,
           0.2,
           0.2,
           0.2,
           0.2,
           0.2,
           0.2,
           0.2,
           0.2,
           0.2,
           0.2,
           0.20833333333333331,
           0.7361111111111112,
           0.2,
           0.2,
           0.2,
           0.22222222222222224,
           0.2,
           0.2,
           0.2,
           0.3055555555555556,
           0.22222222222222224,
           0.2,
           0.2,
           0.2,
           0.2,
           0.2,
           0.2,
           0.2,
           0.2638888888888889,
           0.20833333333333331,
           0.2,
           0.2,
           0.2,
           0.2,
           0.2,
           0.20833333333333331,
           0.2,
           0.2,
           0.2,
           0.2,
           0.2,
           0.2,
           0.20833333333333331,
           0.2,
           0.2,
           0.2,
           0.2,
           0.2
          ],
          [
           0.2,
           1,
           0.9365079365079365,
           0.2,
           0.25396825396825395,
           0.22222222222222224,
           0.9047619047619049,
           0.5555555555555556,
           0.2,
           0.2,
           0.5396825396825397,
           0.5396825396825397,
           0.4444444444444445,
           0.4761904761904762,
           0.2,
           0.25396825396825395,
           0.2857142857142857,
           0.3174603174603175,
           0.22222222222222224,
           0.2,
           0.2,
           0.6984126984126985,
           0.2857142857142857,
           0.2,
           0.4761904761904762,
           0.5079365079365079,
           0.4761904761904762,
           0.3174603174603175,
           0.5396825396825397,
           0.25396825396825395,
           0.2,
           0.4444444444444445,
           0.22222222222222224,
           0.34920634920634924,
           0.6190476190476191,
           0.41269841269841273,
           0.5079365079365079,
           0.4444444444444445,
           0.5079365079365079,
           0.2,
           0.2,
           0.34920634920634924,
           0.2,
           0.5555555555555556,
           0.5079365079365079,
           0.25396825396825395,
           0.41269841269841273,
           0.4444444444444445,
           0.5079365079365079,
           0.5079365079365079,
           0.2,
           0.380952380952381,
           0.2,
           0.22222222222222224,
           0.22222222222222224,
           0.2,
           0.2,
           0.22222222222222224,
           0.41269841269841273,
           0.34920634920634924,
           0.2,
           0.2
          ],
          [
           0.2,
           0.3387096774193548,
           1,
           0.2,
           0.3225806451612903,
           0.3387096774193548,
           0.46774193548387094,
           0.5483870967741935,
           0.2,
           0.2,
           0.2,
           0.24193548387096775,
           0.4838709677419355,
           0.2,
           0.2,
           0.2,
           0.2,
           0.2,
           0.2,
           0.2,
           0.2,
           0.7741935483870968,
           0.4838709677419355,
           0.2,
           0.7419354838709677,
           0.27419354838709675,
           0.7258064516129032,
           0.2,
           0.6935483870967741,
           0.2,
           0.2,
           0.6774193548387096,
           0.2,
           0.6451612903225806,
           0.6451612903225806,
           0.6451612903225806,
           0.6451612903225806,
           0.6290322580645161,
           0.6290322580645161,
           0.2,
           0.2,
           0.5806451612903226,
           0.2,
           0.3548387096774194,
           0.532258064516129,
           0.2,
           0.20967741935483872,
           0.5161290322580645,
           0.3225806451612903,
           0.4838709677419355,
           0.2,
           0.4838709677419355,
           0.2,
           0.2,
           0.25806451612903225,
           0.24193548387096775,
           0.2,
           0.45161290322580644,
           0.4032258064516129,
           0.3064516129032258,
           0.24193548387096775,
           0.3064516129032258
          ],
          [
           0.2,
           0.2,
           1,
           0.2,
           0.2,
           0.2,
           0.2,
           0.2,
           0.2,
           0.2,
           0.2,
           0.2,
           0.2,
           0.2,
           0.2,
           0.2,
           0.2,
           0.2,
           0.2,
           0.2,
           0.2,
           0.2,
           0.2,
           0.2,
           0.2,
           0.2,
           0.2,
           0.2,
           0.2,
           0.2,
           0.2,
           0.2,
           0.2,
           0.2046783625730994,
           0.2,
           0.2,
           0.2,
           0.2,
           0.2,
           0.2,
           0.2,
           0.23391812865497078,
           0.2,
           0.23391812865497078,
           0.2,
           0.2,
           0.2,
           0.2,
           0.2,
           0.2,
           0.2,
           0.2,
           0.2,
           0.2,
           0.2,
           0.2,
           0.2,
           0.2,
           0.2,
           0.2,
           0.2,
           0.2
          ],
          [
           0.2,
           0.2,
           0.2,
           1,
           0.2,
           0.2,
           0.2,
           0.2,
           0.26785714285714285,
           0.2,
           0.2,
           0.2857142857142857,
           0.2,
           0.2,
           0.2,
           0.32142857142857145,
           0.2,
           0.35714285714285715,
           0.2,
           0.5535714285714286,
           0.5535714285714286,
           0.2,
           0.2,
           0.2,
           0.2,
           0.2,
           0.2,
           0.21428571428571427,
           0.2,
           0.2,
           0.39285714285714285,
           0.2,
           0.6428571428571429,
           0.2,
           0.2,
           0.2,
           0.2,
           0.2,
           0.2,
           0.2,
           0.25,
           0.2,
           0.2,
           0.2,
           0.2,
           0.25,
           0.2,
           0.2,
           0.2,
           0.2,
           0.2,
           0.2,
           0.2,
           0.4642857142857143,
           0.2,
           0.2,
           0.2,
           0.2,
           0.2,
           0.2,
           0.2,
           0.2
          ],
          [
           0.2,
           0.2,
           0.2,
           1,
           0.2,
           0.2,
           0.2,
           0.2,
           0.2972972972972973,
           0.2,
           0.2,
           0.2,
           0.2,
           0.2,
           0.2,
           0.2,
           0.2,
           0.2972972972972973,
           0.2,
           0.8648648648648649,
           0.8108108108108109,
           0.2,
           0.7567567567567568,
           0.2,
           0.2,
           0.2,
           0.2,
           0.2,
           0.2,
           0.2,
           0.3243243243243243,
           0.2,
           0.6486486486486486,
           0.2,
           0.2,
           0.3783783783783784,
           0.2,
           0.2,
           0.2,
           0.2,
           0.2,
           0.2,
           0.2,
           0.2,
           0.2,
           0.2972972972972973,
           0.45945945945945943,
           0.2,
           0.2,
           0.2,
           0.2,
           0.2,
           0.2,
           0.2,
           0.2,
           0.2,
           0.2,
           0.2,
           0.2,
           0.2,
           0.2,
           0.2
          ],
          [
           0.2,
           0.2,
           0.2,
           0.2,
           1,
           0.2,
           0.2,
           0.41935483870967744,
           0.2,
           0.2,
           0.2,
           0.2,
           0.2,
           0.2,
           0.2,
           0.2,
           0.2,
           0.2,
           0.2,
           0.2,
           0.2,
           0.2,
           0.2,
           0.2,
           0.2,
           0.2,
           0.2,
           0.2,
           0.2,
           0.2,
           0.2,
           0.2,
           0.2,
           0.2,
           0.2,
           0.32258064516129037,
           0.2,
           0.32258064516129037,
           0.2,
           0.2,
           0.2,
           0.2,
           0.2,
           0.2,
           0.2,
           0.2,
           0.22580645161290325,
           0.2,
           0.25806451612903225,
           0.2,
           0.2,
           0.2,
           0.2,
           0.2,
           0.2,
           0.2,
           0.2,
           0.32258064516129037,
           0.2,
           0.2,
           0.22580645161290325,
           0.2
          ],
          [
           0.2,
           0.2,
           0.2,
           0.2,
           0.2325581395348837,
           1,
           0.2,
           0.2,
           0.2,
           0.2,
           0.2,
           0.2,
           0.2,
           0.2,
           0.2,
           0.2,
           0.2,
           0.2,
           0.2,
           0.2,
           0.2,
           0.2,
           0.2,
           0.7441860465116278,
           0.2,
           0.2,
           0.2,
           0.2,
           0.2,
           0.2,
           0.2,
           0.2,
           0.2,
           0.2,
           0.2,
           0.2,
           0.2,
           0.27906976744186046,
           0.2,
           0.2,
           0.2,
           0.4186046511627906,
           0.2,
           0.2,
           0.2,
           0.2,
           0.2,
           0.2,
           0.2,
           0.2,
           0.2,
           0.2,
           0.2,
           0.2,
           0.2,
           0.2,
           0.2,
           0.3720930232558139,
           0.2,
           0.2,
           0.2325581395348837,
           0.2
          ],
          [
           0.24468085106382978,
           0.9946808510638298,
           0.6914893617021277,
           0.2,
           0.3829787234042553,
           0.2,
           1,
           0.48936170212765956,
           0.2,
           0.2,
           0.2872340425531915,
           0.2553191489361702,
           0.22340425531914893,
           0.2,
           0.2,
           0.2,
           0.2,
           0.23404255319148934,
           0.2,
           0.2,
           0.2,
           0.351063829787234,
           0.20212765957446807,
           0.2,
           0.37234042553191493,
           0.48936170212765956,
           0.4148936170212766,
           0.2,
           0.425531914893617,
           0.32978723404255317,
           0.2,
           0.40425531914893614,
           0.2,
           0.2,
           0.36170212765957444,
           0.2,
           0.4148936170212766,
           0.4148936170212766,
           0.4148936170212766,
           0.2,
           0.2,
           0.2,
           0.2,
           0.36170212765957444,
           0.4148936170212766,
           0.2,
           0.2,
           0.3404255319148936,
           0.2765957446808511,
           0.3404255319148936,
           0.2,
           0.3191489361702127,
           0.2,
           0.2,
           0.23404255319148934,
           0.2,
           0.2,
           0.2872340425531915,
           0.32978723404255317,
           0.2553191489361702,
           0.2,
           0.2
          ],
          [
           0.2,
           0.2,
           0.2,
           0.30434782608695654,
           0.30434782608695654,
           0.2,
           0.45652173913043476,
           1,
           0.34782608695652173,
           0.2,
           0.2,
           0.2826086956521739,
           0.2,
           0.2,
           0.2,
           0.2,
           0.2,
           0.2608695652173913,
           0.2,
           0.2,
           0.2,
           0.2,
           0.2,
           0.2,
           0.2391304347826087,
           0.2391304347826087,
           0.2,
           0.2,
           0.32608695652173914,
           0.21739130434782608,
           0.2,
           0.32608695652173914,
           0.2,
           0.2,
           0.21739130434782608,
           0.2,
           0.30434782608695654,
           0.34782608695652173,
           0.2,
           0.30434782608695654,
           0.2,
           0.2,
           0.5217391304347826,
           0.2,
           0.2,
           0.2,
           0.5217391304347826,
           0.2,
           0.2,
           0.21739130434782608,
           0.2,
           0.2,
           0.2,
           0.2391304347826087,
           0.30434782608695654,
           0.2608695652173913,
           0.2,
           0.2,
           0.2,
           0.2,
           0.2826086956521739,
           0.2826086956521739
          ],
          [
           0.2,
           0.2,
           0.2,
           0.2,
           0.2,
           0.2692307692307692,
           0.5384615384615384,
           1,
           0.2,
           0.2,
           0.2,
           0.4230769230769231,
           0.2,
           0.2,
           0.2,
           0.2,
           0.2,
           0.34615384615384615,
           0.2,
           0.2,
           0.2,
           0.2,
           0.2,
           0.2,
           0.2692307692307692,
           0.23076923076923075,
           0.23076923076923075,
           0.2,
           0.34615384615384615,
           0.30769230769230765,
           0.2,
           0.3846153846153846,
           0.23076923076923075,
           0.23076923076923075,
           0.2692307692307692,
           0.2,
           0.34615384615384615,
           0.30769230769230765,
           0.23076923076923075,
           0.2,
           0.2,
           0.34615384615384615,
           0.2,
           0.2,
           0.2,
           0.2,
           0.2,
           0.2,
           0.2,
           0.2,
           0.2,
           0.2,
           0.2,
           0.2692307692307692,
           0.2692307692307692,
           0.4615384615384615,
           0.2,
           0.23076923076923075,
           0.2,
           0.23076923076923075,
           0.2692307692307692,
           0.2
          ],
          [
           0.2,
           0.2,
           0.2,
           0.2,
           0.2,
           0.2,
           0.3023255813953488,
           1,
           0.2,
           0.2,
           0.2,
           0.37209302325581395,
           0.3023255813953488,
           0.2,
           0.2,
           0.2,
           0.2,
           0.37209302325581395,
           0.2,
           0.2,
           0.2,
           0.2,
           0.2,
           0.2558139534883721,
           0.2,
           0.2558139534883721,
           0.2,
           0.2,
           0.23255813953488372,
           0.2,
           0.2,
           0.2558139534883721,
           0.2558139534883721,
           0.2,
           0.2,
           0.2,
           0.23255813953488372,
           0.2558139534883721,
           0.2,
           0.2558139534883721,
           0.2,
           0.2,
           0.2558139534883721,
           0.2,
           0.2,
           0.2,
           0.4883720930232558,
           0.2,
           0.2,
           0.2,
           0.2,
           0.2,
           0.2,
           0.3255813953488372,
           0.20930232558139536,
           0.2,
           0.2,
           0.2,
           0.2,
           0.2,
           0.37209302325581395,
           0.23255813953488372
          ],
          [
           0.2,
           0.2,
           0.2,
           0.2,
           0.2,
           0.2,
           0.2,
           0.2,
           1,
           0.2,
           0.2,
           0.2,
           0.2,
           0.2,
           0.2,
           0.2,
           0.2,
           0.2,
           0.2,
           0.2,
           0.2,
           0.2,
           0.2,
           0.2,
           0.2,
           0.2,
           0.2,
           0.7088607594936709,
           0.2,
           0.2,
           0.2,
           0.2,
           0.2,
           0.2,
           0.2,
           0.2,
           0.2,
           0.2,
           0.2,
           0.2,
           0.2,
           0.2,
           0.2,
           0.2,
           0.5316455696202531,
           0.5316455696202531,
           0.2,
           0.2,
           0.2,
           0.2,
           0.2,
           0.2,
           0.2,
           0.2,
           0.2,
           0.2,
           0.2,
           0.2,
           0.2,
           0.2,
           0.2,
           0.2
          ],
          [
           0.24742268041237114,
           0.2,
           0.2,
           0.2,
           0.24742268041237114,
           0.40206185567010316,
           0.26804123711340205,
           0.2,
           0.2,
           1,
           0.2,
           0.2,
           0.2,
           0.2268041237113402,
           0.2,
           0.2,
           0.2,
           0.26804123711340205,
           0.4948453608247423,
           0.2,
           0.2,
           0.2,
           0.2,
           0.26804123711340205,
           0.2,
           0.4329896907216495,
           0.2,
           0.2,
           0.2,
           0.6907216494845361,
           0.26804123711340205,
           0.2,
           0.2,
           0.2,
           0.2,
           0.2,
           0.2,
           0.2268041237113402,
           0.2,
           0.6288659793814433,
           0.2268041237113402,
           0.2,
           0.2,
           0.2,
           0.2268041237113402,
           0.2,
           0.2,
           0.2,
           0.2268041237113402,
           0.2,
           0.4845360824742268,
           0.3402061855670103,
           0.4742268041237114,
           0.2,
           0.46391752577319595,
           0.2,
           0.2,
           0.2061855670103093,
           0.422680412371134,
           0.2,
           0.2,
           0.2
          ],
          [
           0.2,
           0.31666666666666665,
           0.5833333333333334,
           0.2,
           0.2,
           0.2,
           0.25,
           0.23333333333333334,
           0.2,
           0.2,
           1,
           0.2,
           0.26666666666666666,
           0.2,
           0.2,
           0.2,
           0.2,
           0.2,
           0.2,
           0.2,
           0.2,
           0.55,
           0.26666666666666666,
           0.2,
           0.2833333333333333,
           0.2,
           0.25,
           0.2,
           0.25,
           0.2,
           0.2,
           0.21666666666666667,
           0.2,
           0.4,
           0.26666666666666666,
           0.25,
           0.25,
           0.2,
           0.2833333333333333,
           0.2,
           0.2,
           0.2,
           0.2,
           0.33333333333333337,
           0.21666666666666667,
           0.2,
           0.2,
           0.2,
           0.2,
           0.25,
           0.2,
           0.2,
           0.2,
           0.2,
           0.2,
           0.2,
           0.2,
           0.2,
           0.2,
           0.2,
           0.2,
           0.2
          ],
          [
           0.2,
           0.32,
           0.2,
           0.26666666666666666,
           0.24,
           0.2,
           0.26666666666666666,
           0.48,
           0.2,
           0.21333333333333335,
           0.26666666666666666,
           1,
           0.2,
           0.2,
           0.2,
           0.8266666666666667,
           0.2,
           0.9333333333333333,
           0.2,
           0.26666666666666666,
           0.4266666666666667,
           0.2,
           0.2,
           0.2,
           0.2,
           0.21333333333333335,
           0.2,
           0.2,
           0.2,
           0.24,
           0.68,
           0.2,
           0.6,
           0.2,
           0.2,
           0.2,
           0.2,
           0.21333333333333335,
           0.2,
           0.2,
           0.3466666666666667,
           0.2,
           0.56,
           0.2,
           0.2,
           0.26666666666666666,
           0.29333333333333333,
           0.2,
           0.2,
           0.21333333333333335,
           0.24,
           0.2,
           0.2,
           0.29333333333333333,
           0.2,
           0.2,
           0.2,
           0.2,
           0.2,
           0.2,
           0.3466666666666667,
           0.2
          ],
          [
           0.2,
           0.2,
           0.2,
           0.2,
           0.2,
           0.4878048780487805,
           0.2,
           0.2,
           0.2,
           0.2,
           0.2,
           0.2,
           1,
           0.21951219512195122,
           0.2,
           0.2,
           0.2,
           0.2,
           0.2926829268292683,
           0.2,
           0.2,
           0.2,
           0.2,
           0.41463414634146345,
           0.2682926829268293,
           0.2,
           0.2,
           0.2,
           0.2,
           0.2,
           0.2,
           0.2682926829268293,
           0.2,
           0.2,
           0.46341463414634143,
           0.2,
           0.2926829268292683,
           0.2926829268292683,
           0.2,
           0.2,
           0.2,
           0.46341463414634143,
           0.2,
           0.5365853658536586,
           0.2926829268292683,
           0.2,
           0.2,
           0.2,
           0.2,
           0.3170731707317073,
           0.2,
           0.21951219512195122,
           0.2,
           0.2,
           0.2,
           0.2,
           0.34146341463414637,
           0.2,
           0.2,
           0.3170731707317073,
           0.2,
           0.2
          ],
          [
           0.2,
           0.2,
           0.2,
           0.2,
           0.2,
           0.2,
           0.2,
           0.22775800711743774,
           0.2,
           0.2,
           0.2,
           0.2,
           1,
           0.2,
           0.2,
           0.2,
           0.2,
           0.2,
           0.2,
           0.2206405693950178,
           0.2,
           0.2,
           0.26334519572953735,
           0.2,
           0.3274021352313167,
           0.2,
           0.3202846975088968,
           0.2,
           0.3202846975088968,
           0.2918149466192171,
           0.2,
           0.38434163701067614,
           0.2,
           0.2,
           0.5266903914590747,
           0.26334519572953735,
           0.35587188612099646,
           0.41992882562277584,
           0.3416370106761566,
           0.26334519572953735,
           0.2,
           0.2,
           0.2,
           0.37722419928825623,
           0.23487544483985767,
           0.2,
           0.2,
           0.2,
           0.2,
           0.2,
           0.2,
           0.29893238434163705,
           0.2,
           0.2,
           0.2775800711743772,
           0.2,
           0.4555160142348755,
           0.2,
           0.2,
           0.2,
           0.2704626334519573,
           0.2
          ],
          [
           0.2,
           0.21978021978021975,
           0.2,
           0.2,
           0.2,
           0.2,
           0.2,
           0.2,
           0.2,
           0.2,
           0.2,
           0.2,
           0.2,
           1,
           0.2,
           0.2,
           0.2,
           0.2,
           0.9010989010989011,
           0.2,
           0.2,
           0.2,
           0.2,
           0.2,
           0.2,
           0.2,
           0.2,
           0.26373626373626374,
           0.2,
           0.2,
           0.24175824175824173,
           0.2,
           0.2,
           0.2,
           0.2,
           0.2,
           0.2,
           0.2,
           0.2,
           0.2,
           0.2,
           0.2,
           0.2857142857142857,
           0.2,
           0.2,
           0.2,
           0.2,
           0.2,
           0.2,
           0.2,
           0.2,
           0.2,
           0.2,
           0.2,
           0.2,
           0.2,
           0.2,
           0.2,
           0.2,
           0.2,
           0.2,
           0.2
          ],
          [
           0.2,
           0.2,
           0.2,
           0.2,
           0.2,
           0.2,
           0.2,
           0.2,
           0.2,
           0.2,
           0.2,
           0.2,
           0.2,
           0.2,
           1,
           0.2,
           0.875,
           0.2,
           0.2,
           0.2,
           0.2,
           0.2,
           0.2,
           0.2,
           0.2,
           0.2,
           0.2,
           0.2,
           0.2,
           0.2,
           0.2,
           0.2,
           0.2,
           0.2,
           0.2,
           0.2,
           0.2,
           0.2,
           0.2,
           0.2,
           0.2,
           0.2,
           0.2,
           0.2,
           0.2,
           0.2,
           0.2,
           0.2,
           0.2,
           0.2,
           0.2,
           0.2,
           0.2,
           0.2,
           0.2,
           0.2,
           0.2,
           0.2,
           0.2,
           0.2,
           0.2,
           0.2
          ],
          [
           0.2,
           0.2,
           0.2,
           0.2,
           0.2,
           0.2,
           0.2,
           0.2,
           0.2,
           0.2,
           0.2,
           0.2,
           0.2,
           0.2,
           1,
           0.2,
           0.9252873563218391,
           0.2,
           0.2,
           0.2,
           0.2,
           0.2,
           0.2,
           0.2,
           0.2,
           0.2,
           0.2,
           0.2,
           0.2,
           0.2,
           0.2,
           0.2,
           0.2,
           0.2,
           0.2,
           0.2,
           0.2,
           0.2,
           0.2,
           0.2,
           0.2,
           0.2,
           0.2,
           0.2,
           0.2,
           0.2,
           0.2,
           0.2,
           0.2,
           0.2,
           0.2,
           0.2,
           0.2,
           0.2,
           0.2,
           0.2,
           0.2,
           0.2,
           0.2,
           0.2,
           0.2,
           0.2
          ],
          [
           0.2,
           0.3478260869565218,
           0.2,
           0.4782608695652174,
           0.3478260869565218,
           0.2,
           0.2,
           0.2173913043478261,
           0.2,
           0.2,
           0.2173913043478261,
           0.9565217391304348,
           0.2,
           0.391304347826087,
           0.2,
           1,
           0.2,
           0.9565217391304348,
           0.5217391304347827,
           0.26086956521739135,
           0.5652173913043479,
           0.2,
           0.2,
           0.2,
           0.2,
           0.2,
           0.2,
           0.2,
           0.2,
           0.2173913043478261,
           0.6521739130434783,
           0.2,
           0.26086956521739135,
           0.2,
           0.2,
           0.2,
           0.2,
           0.2,
           0.2,
           0.26086956521739135,
           0.6086956521739131,
           0.2,
           0.5217391304347827,
           0.2,
           0.2,
           0.2,
           0.391304347826087,
           0.2,
           0.2173913043478261,
           0.3478260869565218,
           0.2,
           0.2,
           0.2,
           0.2173913043478261,
           0.2,
           0.2,
           0.2,
           0.2,
           0.2,
           0.391304347826087,
           0.2,
           0.2
          ],
          [
           0.2,
           0.2,
           0.2,
           0.2,
           0.2,
           0.2,
           0.2,
           0.2,
           0.2,
           0.2,
           0.2,
           0.2,
           0.2,
           0.2,
           0.96,
           0.2,
           1,
           0.2,
           0.2,
           0.2,
           0.2,
           0.2,
           0.2,
           0.2,
           0.2,
           0.2,
           0.2,
           0.2,
           0.2,
           0.2,
           0.2,
           0.2,
           0.2,
           0.2,
           0.2,
           0.2,
           0.2,
           0.2,
           0.2,
           0.2,
           0.2,
           0.2,
           0.2,
           0.2,
           0.2,
           0.2,
           0.2,
           0.2,
           0.2,
           0.2,
           0.2,
           0.2,
           0.2,
           0.2,
           0.2,
           0.2,
           0.2,
           0.2,
           0.2,
           0.2,
           0.2,
           0.2
          ]
         ]
        }
       ],
       "layout": {
        "coloraxis": {
         "colorscale": [
          [
           0,
           "rgb(247,251,255)"
          ],
          [
           0.125,
           "rgb(222,235,247)"
          ],
          [
           0.25,
           "rgb(198,219,239)"
          ],
          [
           0.375,
           "rgb(158,202,225)"
          ],
          [
           0.5,
           "rgb(107,174,214)"
          ],
          [
           0.625,
           "rgb(66,146,198)"
          ],
          [
           0.75,
           "rgb(33,113,181)"
          ],
          [
           0.875,
           "rgb(8,81,156)"
          ],
          [
           1,
           "rgb(8,48,107)"
          ]
         ]
        },
        "height": 600,
        "template": {
         "data": {
          "bar": [
           {
            "error_x": {
             "color": "#2a3f5f"
            },
            "error_y": {
             "color": "#2a3f5f"
            },
            "marker": {
             "line": {
              "color": "#E5ECF6",
              "width": 0.5
             },
             "pattern": {
              "fillmode": "overlay",
              "size": 10,
              "solidity": 0.2
             }
            },
            "type": "bar"
           }
          ],
          "barpolar": [
           {
            "marker": {
             "line": {
              "color": "#E5ECF6",
              "width": 0.5
             },
             "pattern": {
              "fillmode": "overlay",
              "size": 10,
              "solidity": 0.2
             }
            },
            "type": "barpolar"
           }
          ],
          "carpet": [
           {
            "aaxis": {
             "endlinecolor": "#2a3f5f",
             "gridcolor": "white",
             "linecolor": "white",
             "minorgridcolor": "white",
             "startlinecolor": "#2a3f5f"
            },
            "baxis": {
             "endlinecolor": "#2a3f5f",
             "gridcolor": "white",
             "linecolor": "white",
             "minorgridcolor": "white",
             "startlinecolor": "#2a3f5f"
            },
            "type": "carpet"
           }
          ],
          "choropleth": [
           {
            "colorbar": {
             "outlinewidth": 0,
             "ticks": ""
            },
            "type": "choropleth"
           }
          ],
          "contour": [
           {
            "colorbar": {
             "outlinewidth": 0,
             "ticks": ""
            },
            "colorscale": [
             [
              0,
              "#0d0887"
             ],
             [
              0.1111111111111111,
              "#46039f"
             ],
             [
              0.2222222222222222,
              "#7201a8"
             ],
             [
              0.3333333333333333,
              "#9c179e"
             ],
             [
              0.4444444444444444,
              "#bd3786"
             ],
             [
              0.5555555555555556,
              "#d8576b"
             ],
             [
              0.6666666666666666,
              "#ed7953"
             ],
             [
              0.7777777777777778,
              "#fb9f3a"
             ],
             [
              0.8888888888888888,
              "#fdca26"
             ],
             [
              1,
              "#f0f921"
             ]
            ],
            "type": "contour"
           }
          ],
          "contourcarpet": [
           {
            "colorbar": {
             "outlinewidth": 0,
             "ticks": ""
            },
            "type": "contourcarpet"
           }
          ],
          "heatmap": [
           {
            "colorbar": {
             "outlinewidth": 0,
             "ticks": ""
            },
            "colorscale": [
             [
              0,
              "#0d0887"
             ],
             [
              0.1111111111111111,
              "#46039f"
             ],
             [
              0.2222222222222222,
              "#7201a8"
             ],
             [
              0.3333333333333333,
              "#9c179e"
             ],
             [
              0.4444444444444444,
              "#bd3786"
             ],
             [
              0.5555555555555556,
              "#d8576b"
             ],
             [
              0.6666666666666666,
              "#ed7953"
             ],
             [
              0.7777777777777778,
              "#fb9f3a"
             ],
             [
              0.8888888888888888,
              "#fdca26"
             ],
             [
              1,
              "#f0f921"
             ]
            ],
            "type": "heatmap"
           }
          ],
          "heatmapgl": [
           {
            "colorbar": {
             "outlinewidth": 0,
             "ticks": ""
            },
            "colorscale": [
             [
              0,
              "#0d0887"
             ],
             [
              0.1111111111111111,
              "#46039f"
             ],
             [
              0.2222222222222222,
              "#7201a8"
             ],
             [
              0.3333333333333333,
              "#9c179e"
             ],
             [
              0.4444444444444444,
              "#bd3786"
             ],
             [
              0.5555555555555556,
              "#d8576b"
             ],
             [
              0.6666666666666666,
              "#ed7953"
             ],
             [
              0.7777777777777778,
              "#fb9f3a"
             ],
             [
              0.8888888888888888,
              "#fdca26"
             ],
             [
              1,
              "#f0f921"
             ]
            ],
            "type": "heatmapgl"
           }
          ],
          "histogram": [
           {
            "marker": {
             "pattern": {
              "fillmode": "overlay",
              "size": 10,
              "solidity": 0.2
             }
            },
            "type": "histogram"
           }
          ],
          "histogram2d": [
           {
            "colorbar": {
             "outlinewidth": 0,
             "ticks": ""
            },
            "colorscale": [
             [
              0,
              "#0d0887"
             ],
             [
              0.1111111111111111,
              "#46039f"
             ],
             [
              0.2222222222222222,
              "#7201a8"
             ],
             [
              0.3333333333333333,
              "#9c179e"
             ],
             [
              0.4444444444444444,
              "#bd3786"
             ],
             [
              0.5555555555555556,
              "#d8576b"
             ],
             [
              0.6666666666666666,
              "#ed7953"
             ],
             [
              0.7777777777777778,
              "#fb9f3a"
             ],
             [
              0.8888888888888888,
              "#fdca26"
             ],
             [
              1,
              "#f0f921"
             ]
            ],
            "type": "histogram2d"
           }
          ],
          "histogram2dcontour": [
           {
            "colorbar": {
             "outlinewidth": 0,
             "ticks": ""
            },
            "colorscale": [
             [
              0,
              "#0d0887"
             ],
             [
              0.1111111111111111,
              "#46039f"
             ],
             [
              0.2222222222222222,
              "#7201a8"
             ],
             [
              0.3333333333333333,
              "#9c179e"
             ],
             [
              0.4444444444444444,
              "#bd3786"
             ],
             [
              0.5555555555555556,
              "#d8576b"
             ],
             [
              0.6666666666666666,
              "#ed7953"
             ],
             [
              0.7777777777777778,
              "#fb9f3a"
             ],
             [
              0.8888888888888888,
              "#fdca26"
             ],
             [
              1,
              "#f0f921"
             ]
            ],
            "type": "histogram2dcontour"
           }
          ],
          "mesh3d": [
           {
            "colorbar": {
             "outlinewidth": 0,
             "ticks": ""
            },
            "type": "mesh3d"
           }
          ],
          "parcoords": [
           {
            "line": {
             "colorbar": {
              "outlinewidth": 0,
              "ticks": ""
             }
            },
            "type": "parcoords"
           }
          ],
          "pie": [
           {
            "automargin": true,
            "type": "pie"
           }
          ],
          "scatter": [
           {
            "fillpattern": {
             "fillmode": "overlay",
             "size": 10,
             "solidity": 0.2
            },
            "type": "scatter"
           }
          ],
          "scatter3d": [
           {
            "line": {
             "colorbar": {
              "outlinewidth": 0,
              "ticks": ""
             }
            },
            "marker": {
             "colorbar": {
              "outlinewidth": 0,
              "ticks": ""
             }
            },
            "type": "scatter3d"
           }
          ],
          "scattercarpet": [
           {
            "marker": {
             "colorbar": {
              "outlinewidth": 0,
              "ticks": ""
             }
            },
            "type": "scattercarpet"
           }
          ],
          "scattergeo": [
           {
            "marker": {
             "colorbar": {
              "outlinewidth": 0,
              "ticks": ""
             }
            },
            "type": "scattergeo"
           }
          ],
          "scattergl": [
           {
            "marker": {
             "colorbar": {
              "outlinewidth": 0,
              "ticks": ""
             }
            },
            "type": "scattergl"
           }
          ],
          "scattermapbox": [
           {
            "marker": {
             "colorbar": {
              "outlinewidth": 0,
              "ticks": ""
             }
            },
            "type": "scattermapbox"
           }
          ],
          "scatterpolar": [
           {
            "marker": {
             "colorbar": {
              "outlinewidth": 0,
              "ticks": ""
             }
            },
            "type": "scatterpolar"
           }
          ],
          "scatterpolargl": [
           {
            "marker": {
             "colorbar": {
              "outlinewidth": 0,
              "ticks": ""
             }
            },
            "type": "scatterpolargl"
           }
          ],
          "scatterternary": [
           {
            "marker": {
             "colorbar": {
              "outlinewidth": 0,
              "ticks": ""
             }
            },
            "type": "scatterternary"
           }
          ],
          "surface": [
           {
            "colorbar": {
             "outlinewidth": 0,
             "ticks": ""
            },
            "colorscale": [
             [
              0,
              "#0d0887"
             ],
             [
              0.1111111111111111,
              "#46039f"
             ],
             [
              0.2222222222222222,
              "#7201a8"
             ],
             [
              0.3333333333333333,
              "#9c179e"
             ],
             [
              0.4444444444444444,
              "#bd3786"
             ],
             [
              0.5555555555555556,
              "#d8576b"
             ],
             [
              0.6666666666666666,
              "#ed7953"
             ],
             [
              0.7777777777777778,
              "#fb9f3a"
             ],
             [
              0.8888888888888888,
              "#fdca26"
             ],
             [
              1,
              "#f0f921"
             ]
            ],
            "type": "surface"
           }
          ],
          "table": [
           {
            "cells": {
             "fill": {
              "color": "#EBF0F8"
             },
             "line": {
              "color": "white"
             }
            },
            "header": {
             "fill": {
              "color": "#C8D4E3"
             },
             "line": {
              "color": "white"
             }
            },
            "type": "table"
           }
          ]
         },
         "layout": {
          "annotationdefaults": {
           "arrowcolor": "#2a3f5f",
           "arrowhead": 0,
           "arrowwidth": 1
          },
          "autotypenumbers": "strict",
          "coloraxis": {
           "colorbar": {
            "outlinewidth": 0,
            "ticks": ""
           }
          },
          "colorscale": {
           "diverging": [
            [
             0,
             "#8e0152"
            ],
            [
             0.1,
             "#c51b7d"
            ],
            [
             0.2,
             "#de77ae"
            ],
            [
             0.3,
             "#f1b6da"
            ],
            [
             0.4,
             "#fde0ef"
            ],
            [
             0.5,
             "#f7f7f7"
            ],
            [
             0.6,
             "#e6f5d0"
            ],
            [
             0.7,
             "#b8e186"
            ],
            [
             0.8,
             "#7fbc41"
            ],
            [
             0.9,
             "#4d9221"
            ],
            [
             1,
             "#276419"
            ]
           ],
           "sequential": [
            [
             0,
             "#0d0887"
            ],
            [
             0.1111111111111111,
             "#46039f"
            ],
            [
             0.2222222222222222,
             "#7201a8"
            ],
            [
             0.3333333333333333,
             "#9c179e"
            ],
            [
             0.4444444444444444,
             "#bd3786"
            ],
            [
             0.5555555555555556,
             "#d8576b"
            ],
            [
             0.6666666666666666,
             "#ed7953"
            ],
            [
             0.7777777777777778,
             "#fb9f3a"
            ],
            [
             0.8888888888888888,
             "#fdca26"
            ],
            [
             1,
             "#f0f921"
            ]
           ],
           "sequentialminus": [
            [
             0,
             "#0d0887"
            ],
            [
             0.1111111111111111,
             "#46039f"
            ],
            [
             0.2222222222222222,
             "#7201a8"
            ],
            [
             0.3333333333333333,
             "#9c179e"
            ],
            [
             0.4444444444444444,
             "#bd3786"
            ],
            [
             0.5555555555555556,
             "#d8576b"
            ],
            [
             0.6666666666666666,
             "#ed7953"
            ],
            [
             0.7777777777777778,
             "#fb9f3a"
            ],
            [
             0.8888888888888888,
             "#fdca26"
            ],
            [
             1,
             "#f0f921"
            ]
           ]
          },
          "colorway": [
           "#636efa",
           "#EF553B",
           "#00cc96",
           "#ab63fa",
           "#FFA15A",
           "#19d3f3",
           "#FF6692",
           "#B6E880",
           "#FF97FF",
           "#FECB52"
          ],
          "font": {
           "color": "#2a3f5f"
          },
          "geo": {
           "bgcolor": "white",
           "lakecolor": "white",
           "landcolor": "#E5ECF6",
           "showlakes": true,
           "showland": true,
           "subunitcolor": "white"
          },
          "hoverlabel": {
           "align": "left"
          },
          "hovermode": "closest",
          "mapbox": {
           "style": "light"
          },
          "paper_bgcolor": "white",
          "plot_bgcolor": "#E5ECF6",
          "polar": {
           "angularaxis": {
            "gridcolor": "white",
            "linecolor": "white",
            "ticks": ""
           },
           "bgcolor": "#E5ECF6",
           "radialaxis": {
            "gridcolor": "white",
            "linecolor": "white",
            "ticks": ""
           }
          },
          "scene": {
           "xaxis": {
            "backgroundcolor": "#E5ECF6",
            "gridcolor": "white",
            "gridwidth": 2,
            "linecolor": "white",
            "showbackground": true,
            "ticks": "",
            "zerolinecolor": "white"
           },
           "yaxis": {
            "backgroundcolor": "#E5ECF6",
            "gridcolor": "white",
            "gridwidth": 2,
            "linecolor": "white",
            "showbackground": true,
            "ticks": "",
            "zerolinecolor": "white"
           },
           "zaxis": {
            "backgroundcolor": "#E5ECF6",
            "gridcolor": "white",
            "gridwidth": 2,
            "linecolor": "white",
            "showbackground": true,
            "ticks": "",
            "zerolinecolor": "white"
           }
          },
          "shapedefaults": {
           "line": {
            "color": "#2a3f5f"
           }
          },
          "ternary": {
           "aaxis": {
            "gridcolor": "white",
            "linecolor": "white",
            "ticks": ""
           },
           "baxis": {
            "gridcolor": "white",
            "linecolor": "white",
            "ticks": ""
           },
           "bgcolor": "#E5ECF6",
           "caxis": {
            "gridcolor": "white",
            "linecolor": "white",
            "ticks": ""
           }
          },
          "title": {
           "x": 0.05
          },
          "xaxis": {
           "automargin": true,
           "gridcolor": "white",
           "linecolor": "white",
           "ticks": "",
           "title": {
            "standoff": 15
           },
           "zerolinecolor": "white",
           "zerolinewidth": 2
          },
          "yaxis": {
           "automargin": true,
           "gridcolor": "white",
           "linecolor": "white",
           "ticks": "",
           "title": {
            "standoff": 15
           },
           "zerolinecolor": "white",
           "zerolinewidth": 2
          }
         }
        },
        "title": {
         "text": "Positive steering with detectors on L11"
        },
        "width": 2000,
        "xaxis": {
         "anchor": "y",
         "domain": [
          0,
          1
         ]
        },
        "yaxis": {
         "anchor": "x",
         "autorange": "reversed",
         "domain": [
          0,
          1
         ]
        }
       }
      },
      "text/html": [
       "<div>                            <div id=\"0943db70-6d0a-4948-85f6-c4c48646812a\" class=\"plotly-graph-div\" style=\"height:600px; width:2000px;\"></div>            <script type=\"text/javascript\">                require([\"plotly\"], function(Plotly) {                    window.PLOTLYENV=window.PLOTLYENV || {};                                    if (document.getElementById(\"0943db70-6d0a-4948-85f6-c4c48646812a\")) {                    Plotly.newPlot(                        \"0943db70-6d0a-4948-85f6-c4c48646812a\",                        [{\"coloraxis\":\"coloraxis\",\"name\":\"0\",\"x\":[\"8446\",\"19628\",\"29228\",\"11459\",\"26436\",\"19916\",\"21327\",\"31123\",\"13529\",\"11050\",\"1322\",\"1132\",\"32115\",\"3466\",\"7928\",\"10884\",\"99\",\"25337\",\"10685\",\"25334\",\"27001\",\"15764\",\"25185\",\"3844\",\"29362\",\"21126\",\"24081\",\"6267\",\"19254\",\"20627\",\"32677\",\"26470\",\"3775\",\"16172\",\"24964\",\"1753\",\"30363\",\"8228\",\"10672\",\"28297\",\"20079\",\"31427\",\"13412\",\"9995\",\"20983\",\"10512\",\"12898\",\"16205\",\"7323\",\"32142\",\"30338\",\"13181\",\"5971\",\"14141\",\"26783\",\"27936\",\"23545\",\"29381\",\"1948\",\"4258\",\"14996\",\"18472\"],\"y\":[\"present_simple_gerund\",\"present_simple_past_perfect\",\"plural_singular\",\"algo_last\",\"location_country\",\"location_continent\",\"person_profession\",\"football_player_position\",\"present_simple_past_simple\",\"es_en\",\"fr_en\",\"it_en\",\"country_capital\",\"antonyms\",\"singular_plural\",\"person_language\",\"algo_second\",\"algo_first\",\"location_religion\",\"en_fr\",\"en_it\",\"location_language\",\"en_es\"],\"z\":[[1.0,0.3472222222222222,0.4444444444444445,0.2,0.2,0.2,0.3611111111111111,0.2777777777777778,0.2,0.2,0.3194444444444444,0.2,0.2638888888888889,0.2,0.2,0.2,0.2,0.2,0.2,0.2,0.2,0.2,0.2,0.2,0.20833333333333331,0.7361111111111112,0.2,0.2,0.2,0.22222222222222224,0.2,0.2,0.2,0.3055555555555556,0.22222222222222224,0.2,0.2,0.2,0.2,0.2,0.2,0.2,0.2638888888888889,0.20833333333333331,0.2,0.2,0.2,0.2,0.2,0.20833333333333331,0.2,0.2,0.2,0.2,0.2,0.2,0.20833333333333331,0.2,0.2,0.2,0.2,0.2],[0.2,1.0,0.9365079365079365,0.2,0.25396825396825395,0.22222222222222224,0.9047619047619049,0.5555555555555556,0.2,0.2,0.5396825396825397,0.5396825396825397,0.4444444444444445,0.4761904761904762,0.2,0.25396825396825395,0.2857142857142857,0.3174603174603175,0.22222222222222224,0.2,0.2,0.6984126984126985,0.2857142857142857,0.2,0.4761904761904762,0.5079365079365079,0.4761904761904762,0.3174603174603175,0.5396825396825397,0.25396825396825395,0.2,0.4444444444444445,0.22222222222222224,0.34920634920634924,0.6190476190476191,0.41269841269841273,0.5079365079365079,0.4444444444444445,0.5079365079365079,0.2,0.2,0.34920634920634924,0.2,0.5555555555555556,0.5079365079365079,0.25396825396825395,0.41269841269841273,0.4444444444444445,0.5079365079365079,0.5079365079365079,0.2,0.380952380952381,0.2,0.22222222222222224,0.22222222222222224,0.2,0.2,0.22222222222222224,0.41269841269841273,0.34920634920634924,0.2,0.2],[0.2,0.3387096774193548,1.0,0.2,0.3225806451612903,0.3387096774193548,0.46774193548387094,0.5483870967741935,0.2,0.2,0.2,0.24193548387096775,0.4838709677419355,0.2,0.2,0.2,0.2,0.2,0.2,0.2,0.2,0.7741935483870968,0.4838709677419355,0.2,0.7419354838709677,0.27419354838709675,0.7258064516129032,0.2,0.6935483870967741,0.2,0.2,0.6774193548387096,0.2,0.6451612903225806,0.6451612903225806,0.6451612903225806,0.6451612903225806,0.6290322580645161,0.6290322580645161,0.2,0.2,0.5806451612903226,0.2,0.3548387096774194,0.532258064516129,0.2,0.20967741935483872,0.5161290322580645,0.3225806451612903,0.4838709677419355,0.2,0.4838709677419355,0.2,0.2,0.25806451612903225,0.24193548387096775,0.2,0.45161290322580644,0.4032258064516129,0.3064516129032258,0.24193548387096775,0.3064516129032258],[0.2,0.2,1.0,0.2,0.2,0.2,0.2,0.2,0.2,0.2,0.2,0.2,0.2,0.2,0.2,0.2,0.2,0.2,0.2,0.2,0.2,0.2,0.2,0.2,0.2,0.2,0.2,0.2,0.2,0.2,0.2,0.2,0.2,0.2046783625730994,0.2,0.2,0.2,0.2,0.2,0.2,0.2,0.23391812865497078,0.2,0.23391812865497078,0.2,0.2,0.2,0.2,0.2,0.2,0.2,0.2,0.2,0.2,0.2,0.2,0.2,0.2,0.2,0.2,0.2,0.2],[0.2,0.2,0.2,1.0,0.2,0.2,0.2,0.2,0.26785714285714285,0.2,0.2,0.2857142857142857,0.2,0.2,0.2,0.32142857142857145,0.2,0.35714285714285715,0.2,0.5535714285714286,0.5535714285714286,0.2,0.2,0.2,0.2,0.2,0.2,0.21428571428571427,0.2,0.2,0.39285714285714285,0.2,0.6428571428571429,0.2,0.2,0.2,0.2,0.2,0.2,0.2,0.25,0.2,0.2,0.2,0.2,0.25,0.2,0.2,0.2,0.2,0.2,0.2,0.2,0.4642857142857143,0.2,0.2,0.2,0.2,0.2,0.2,0.2,0.2],[0.2,0.2,0.2,1.0,0.2,0.2,0.2,0.2,0.2972972972972973,0.2,0.2,0.2,0.2,0.2,0.2,0.2,0.2,0.2972972972972973,0.2,0.8648648648648649,0.8108108108108109,0.2,0.7567567567567568,0.2,0.2,0.2,0.2,0.2,0.2,0.2,0.3243243243243243,0.2,0.6486486486486486,0.2,0.2,0.3783783783783784,0.2,0.2,0.2,0.2,0.2,0.2,0.2,0.2,0.2,0.2972972972972973,0.45945945945945943,0.2,0.2,0.2,0.2,0.2,0.2,0.2,0.2,0.2,0.2,0.2,0.2,0.2,0.2,0.2],[0.2,0.2,0.2,0.2,1.0,0.2,0.2,0.41935483870967744,0.2,0.2,0.2,0.2,0.2,0.2,0.2,0.2,0.2,0.2,0.2,0.2,0.2,0.2,0.2,0.2,0.2,0.2,0.2,0.2,0.2,0.2,0.2,0.2,0.2,0.2,0.2,0.32258064516129037,0.2,0.32258064516129037,0.2,0.2,0.2,0.2,0.2,0.2,0.2,0.2,0.22580645161290325,0.2,0.25806451612903225,0.2,0.2,0.2,0.2,0.2,0.2,0.2,0.2,0.32258064516129037,0.2,0.2,0.22580645161290325,0.2],[0.2,0.2,0.2,0.2,0.2325581395348837,1.0,0.2,0.2,0.2,0.2,0.2,0.2,0.2,0.2,0.2,0.2,0.2,0.2,0.2,0.2,0.2,0.2,0.2,0.7441860465116278,0.2,0.2,0.2,0.2,0.2,0.2,0.2,0.2,0.2,0.2,0.2,0.2,0.2,0.27906976744186046,0.2,0.2,0.2,0.4186046511627906,0.2,0.2,0.2,0.2,0.2,0.2,0.2,0.2,0.2,0.2,0.2,0.2,0.2,0.2,0.2,0.3720930232558139,0.2,0.2,0.2325581395348837,0.2],[0.24468085106382978,0.9946808510638298,0.6914893617021277,0.2,0.3829787234042553,0.2,1.0,0.48936170212765956,0.2,0.2,0.2872340425531915,0.2553191489361702,0.22340425531914893,0.2,0.2,0.2,0.2,0.23404255319148934,0.2,0.2,0.2,0.351063829787234,0.20212765957446807,0.2,0.37234042553191493,0.48936170212765956,0.4148936170212766,0.2,0.425531914893617,0.32978723404255317,0.2,0.40425531914893614,0.2,0.2,0.36170212765957444,0.2,0.4148936170212766,0.4148936170212766,0.4148936170212766,0.2,0.2,0.2,0.2,0.36170212765957444,0.4148936170212766,0.2,0.2,0.3404255319148936,0.2765957446808511,0.3404255319148936,0.2,0.3191489361702127,0.2,0.2,0.23404255319148934,0.2,0.2,0.2872340425531915,0.32978723404255317,0.2553191489361702,0.2,0.2],[0.2,0.2,0.2,0.30434782608695654,0.30434782608695654,0.2,0.45652173913043476,1.0,0.34782608695652173,0.2,0.2,0.2826086956521739,0.2,0.2,0.2,0.2,0.2,0.2608695652173913,0.2,0.2,0.2,0.2,0.2,0.2,0.2391304347826087,0.2391304347826087,0.2,0.2,0.32608695652173914,0.21739130434782608,0.2,0.32608695652173914,0.2,0.2,0.21739130434782608,0.2,0.30434782608695654,0.34782608695652173,0.2,0.30434782608695654,0.2,0.2,0.5217391304347826,0.2,0.2,0.2,0.5217391304347826,0.2,0.2,0.21739130434782608,0.2,0.2,0.2,0.2391304347826087,0.30434782608695654,0.2608695652173913,0.2,0.2,0.2,0.2,0.2826086956521739,0.2826086956521739],[0.2,0.2,0.2,0.2,0.2,0.2692307692307692,0.5384615384615384,1.0,0.2,0.2,0.2,0.4230769230769231,0.2,0.2,0.2,0.2,0.2,0.34615384615384615,0.2,0.2,0.2,0.2,0.2,0.2,0.2692307692307692,0.23076923076923075,0.23076923076923075,0.2,0.34615384615384615,0.30769230769230765,0.2,0.3846153846153846,0.23076923076923075,0.23076923076923075,0.2692307692307692,0.2,0.34615384615384615,0.30769230769230765,0.23076923076923075,0.2,0.2,0.34615384615384615,0.2,0.2,0.2,0.2,0.2,0.2,0.2,0.2,0.2,0.2,0.2,0.2692307692307692,0.2692307692307692,0.4615384615384615,0.2,0.23076923076923075,0.2,0.23076923076923075,0.2692307692307692,0.2],[0.2,0.2,0.2,0.2,0.2,0.2,0.3023255813953488,1.0,0.2,0.2,0.2,0.37209302325581395,0.3023255813953488,0.2,0.2,0.2,0.2,0.37209302325581395,0.2,0.2,0.2,0.2,0.2,0.2558139534883721,0.2,0.2558139534883721,0.2,0.2,0.23255813953488372,0.2,0.2,0.2558139534883721,0.2558139534883721,0.2,0.2,0.2,0.23255813953488372,0.2558139534883721,0.2,0.2558139534883721,0.2,0.2,0.2558139534883721,0.2,0.2,0.2,0.4883720930232558,0.2,0.2,0.2,0.2,0.2,0.2,0.3255813953488372,0.20930232558139536,0.2,0.2,0.2,0.2,0.2,0.37209302325581395,0.23255813953488372],[0.2,0.2,0.2,0.2,0.2,0.2,0.2,0.2,1.0,0.2,0.2,0.2,0.2,0.2,0.2,0.2,0.2,0.2,0.2,0.2,0.2,0.2,0.2,0.2,0.2,0.2,0.2,0.7088607594936709,0.2,0.2,0.2,0.2,0.2,0.2,0.2,0.2,0.2,0.2,0.2,0.2,0.2,0.2,0.2,0.2,0.5316455696202531,0.5316455696202531,0.2,0.2,0.2,0.2,0.2,0.2,0.2,0.2,0.2,0.2,0.2,0.2,0.2,0.2,0.2,0.2],[0.24742268041237114,0.2,0.2,0.2,0.24742268041237114,0.40206185567010316,0.26804123711340205,0.2,0.2,1.0,0.2,0.2,0.2,0.2268041237113402,0.2,0.2,0.2,0.26804123711340205,0.4948453608247423,0.2,0.2,0.2,0.2,0.26804123711340205,0.2,0.4329896907216495,0.2,0.2,0.2,0.6907216494845361,0.26804123711340205,0.2,0.2,0.2,0.2,0.2,0.2,0.2268041237113402,0.2,0.6288659793814433,0.2268041237113402,0.2,0.2,0.2,0.2268041237113402,0.2,0.2,0.2,0.2268041237113402,0.2,0.4845360824742268,0.3402061855670103,0.4742268041237114,0.2,0.46391752577319595,0.2,0.2,0.2061855670103093,0.422680412371134,0.2,0.2,0.2],[0.2,0.31666666666666665,0.5833333333333334,0.2,0.2,0.2,0.25,0.23333333333333334,0.2,0.2,1.0,0.2,0.26666666666666666,0.2,0.2,0.2,0.2,0.2,0.2,0.2,0.2,0.55,0.26666666666666666,0.2,0.2833333333333333,0.2,0.25,0.2,0.25,0.2,0.2,0.21666666666666667,0.2,0.4,0.26666666666666666,0.25,0.25,0.2,0.2833333333333333,0.2,0.2,0.2,0.2,0.33333333333333337,0.21666666666666667,0.2,0.2,0.2,0.2,0.25,0.2,0.2,0.2,0.2,0.2,0.2,0.2,0.2,0.2,0.2,0.2,0.2],[0.2,0.32,0.2,0.26666666666666666,0.24,0.2,0.26666666666666666,0.48,0.2,0.21333333333333335,0.26666666666666666,1.0,0.2,0.2,0.2,0.8266666666666667,0.2,0.9333333333333333,0.2,0.26666666666666666,0.4266666666666667,0.2,0.2,0.2,0.2,0.21333333333333335,0.2,0.2,0.2,0.24,0.68,0.2,0.6,0.2,0.2,0.2,0.2,0.21333333333333335,0.2,0.2,0.3466666666666667,0.2,0.56,0.2,0.2,0.26666666666666666,0.29333333333333333,0.2,0.2,0.21333333333333335,0.24,0.2,0.2,0.29333333333333333,0.2,0.2,0.2,0.2,0.2,0.2,0.3466666666666667,0.2],[0.2,0.2,0.2,0.2,0.2,0.4878048780487805,0.2,0.2,0.2,0.2,0.2,0.2,1.0,0.21951219512195122,0.2,0.2,0.2,0.2,0.2926829268292683,0.2,0.2,0.2,0.2,0.41463414634146345,0.2682926829268293,0.2,0.2,0.2,0.2,0.2,0.2,0.2682926829268293,0.2,0.2,0.46341463414634143,0.2,0.2926829268292683,0.2926829268292683,0.2,0.2,0.2,0.46341463414634143,0.2,0.5365853658536586,0.2926829268292683,0.2,0.2,0.2,0.2,0.3170731707317073,0.2,0.21951219512195122,0.2,0.2,0.2,0.2,0.34146341463414637,0.2,0.2,0.3170731707317073,0.2,0.2],[0.2,0.2,0.2,0.2,0.2,0.2,0.2,0.22775800711743774,0.2,0.2,0.2,0.2,1.0,0.2,0.2,0.2,0.2,0.2,0.2,0.2206405693950178,0.2,0.2,0.26334519572953735,0.2,0.3274021352313167,0.2,0.3202846975088968,0.2,0.3202846975088968,0.2918149466192171,0.2,0.38434163701067614,0.2,0.2,0.5266903914590747,0.26334519572953735,0.35587188612099646,0.41992882562277584,0.3416370106761566,0.26334519572953735,0.2,0.2,0.2,0.37722419928825623,0.23487544483985767,0.2,0.2,0.2,0.2,0.2,0.2,0.29893238434163705,0.2,0.2,0.2775800711743772,0.2,0.4555160142348755,0.2,0.2,0.2,0.2704626334519573,0.2],[0.2,0.21978021978021975,0.2,0.2,0.2,0.2,0.2,0.2,0.2,0.2,0.2,0.2,0.2,1.0,0.2,0.2,0.2,0.2,0.9010989010989011,0.2,0.2,0.2,0.2,0.2,0.2,0.2,0.2,0.26373626373626374,0.2,0.2,0.24175824175824173,0.2,0.2,0.2,0.2,0.2,0.2,0.2,0.2,0.2,0.2,0.2,0.2857142857142857,0.2,0.2,0.2,0.2,0.2,0.2,0.2,0.2,0.2,0.2,0.2,0.2,0.2,0.2,0.2,0.2,0.2,0.2,0.2],[0.2,0.2,0.2,0.2,0.2,0.2,0.2,0.2,0.2,0.2,0.2,0.2,0.2,0.2,1.0,0.2,0.875,0.2,0.2,0.2,0.2,0.2,0.2,0.2,0.2,0.2,0.2,0.2,0.2,0.2,0.2,0.2,0.2,0.2,0.2,0.2,0.2,0.2,0.2,0.2,0.2,0.2,0.2,0.2,0.2,0.2,0.2,0.2,0.2,0.2,0.2,0.2,0.2,0.2,0.2,0.2,0.2,0.2,0.2,0.2,0.2,0.2],[0.2,0.2,0.2,0.2,0.2,0.2,0.2,0.2,0.2,0.2,0.2,0.2,0.2,0.2,1.0,0.2,0.9252873563218391,0.2,0.2,0.2,0.2,0.2,0.2,0.2,0.2,0.2,0.2,0.2,0.2,0.2,0.2,0.2,0.2,0.2,0.2,0.2,0.2,0.2,0.2,0.2,0.2,0.2,0.2,0.2,0.2,0.2,0.2,0.2,0.2,0.2,0.2,0.2,0.2,0.2,0.2,0.2,0.2,0.2,0.2,0.2,0.2,0.2],[0.2,0.3478260869565218,0.2,0.4782608695652174,0.3478260869565218,0.2,0.2,0.2173913043478261,0.2,0.2,0.2173913043478261,0.9565217391304348,0.2,0.391304347826087,0.2,1.0,0.2,0.9565217391304348,0.5217391304347827,0.26086956521739135,0.5652173913043479,0.2,0.2,0.2,0.2,0.2,0.2,0.2,0.2,0.2173913043478261,0.6521739130434783,0.2,0.26086956521739135,0.2,0.2,0.2,0.2,0.2,0.2,0.26086956521739135,0.6086956521739131,0.2,0.5217391304347827,0.2,0.2,0.2,0.391304347826087,0.2,0.2173913043478261,0.3478260869565218,0.2,0.2,0.2,0.2173913043478261,0.2,0.2,0.2,0.2,0.2,0.391304347826087,0.2,0.2],[0.2,0.2,0.2,0.2,0.2,0.2,0.2,0.2,0.2,0.2,0.2,0.2,0.2,0.2,0.96,0.2,1.0,0.2,0.2,0.2,0.2,0.2,0.2,0.2,0.2,0.2,0.2,0.2,0.2,0.2,0.2,0.2,0.2,0.2,0.2,0.2,0.2,0.2,0.2,0.2,0.2,0.2,0.2,0.2,0.2,0.2,0.2,0.2,0.2,0.2,0.2,0.2,0.2,0.2,0.2,0.2,0.2,0.2,0.2,0.2,0.2,0.2]],\"type\":\"heatmap\",\"xaxis\":\"x\",\"yaxis\":\"y\",\"hovertemplate\":\"x: %{x}\\u003cbr\\u003ey: %{y}\\u003cbr\\u003ecolor: %{z}\\u003cextra\\u003e\\u003c\\u002fextra\\u003e\"}],                        {\"template\":{\"data\":{\"histogram2dcontour\":[{\"type\":\"histogram2dcontour\",\"colorbar\":{\"outlinewidth\":0,\"ticks\":\"\"},\"colorscale\":[[0.0,\"#0d0887\"],[0.1111111111111111,\"#46039f\"],[0.2222222222222222,\"#7201a8\"],[0.3333333333333333,\"#9c179e\"],[0.4444444444444444,\"#bd3786\"],[0.5555555555555556,\"#d8576b\"],[0.6666666666666666,\"#ed7953\"],[0.7777777777777778,\"#fb9f3a\"],[0.8888888888888888,\"#fdca26\"],[1.0,\"#f0f921\"]]}],\"choropleth\":[{\"type\":\"choropleth\",\"colorbar\":{\"outlinewidth\":0,\"ticks\":\"\"}}],\"histogram2d\":[{\"type\":\"histogram2d\",\"colorbar\":{\"outlinewidth\":0,\"ticks\":\"\"},\"colorscale\":[[0.0,\"#0d0887\"],[0.1111111111111111,\"#46039f\"],[0.2222222222222222,\"#7201a8\"],[0.3333333333333333,\"#9c179e\"],[0.4444444444444444,\"#bd3786\"],[0.5555555555555556,\"#d8576b\"],[0.6666666666666666,\"#ed7953\"],[0.7777777777777778,\"#fb9f3a\"],[0.8888888888888888,\"#fdca26\"],[1.0,\"#f0f921\"]]}],\"heatmap\":[{\"type\":\"heatmap\",\"colorbar\":{\"outlinewidth\":0,\"ticks\":\"\"},\"colorscale\":[[0.0,\"#0d0887\"],[0.1111111111111111,\"#46039f\"],[0.2222222222222222,\"#7201a8\"],[0.3333333333333333,\"#9c179e\"],[0.4444444444444444,\"#bd3786\"],[0.5555555555555556,\"#d8576b\"],[0.6666666666666666,\"#ed7953\"],[0.7777777777777778,\"#fb9f3a\"],[0.8888888888888888,\"#fdca26\"],[1.0,\"#f0f921\"]]}],\"heatmapgl\":[{\"type\":\"heatmapgl\",\"colorbar\":{\"outlinewidth\":0,\"ticks\":\"\"},\"colorscale\":[[0.0,\"#0d0887\"],[0.1111111111111111,\"#46039f\"],[0.2222222222222222,\"#7201a8\"],[0.3333333333333333,\"#9c179e\"],[0.4444444444444444,\"#bd3786\"],[0.5555555555555556,\"#d8576b\"],[0.6666666666666666,\"#ed7953\"],[0.7777777777777778,\"#fb9f3a\"],[0.8888888888888888,\"#fdca26\"],[1.0,\"#f0f921\"]]}],\"contourcarpet\":[{\"type\":\"contourcarpet\",\"colorbar\":{\"outlinewidth\":0,\"ticks\":\"\"}}],\"contour\":[{\"type\":\"contour\",\"colorbar\":{\"outlinewidth\":0,\"ticks\":\"\"},\"colorscale\":[[0.0,\"#0d0887\"],[0.1111111111111111,\"#46039f\"],[0.2222222222222222,\"#7201a8\"],[0.3333333333333333,\"#9c179e\"],[0.4444444444444444,\"#bd3786\"],[0.5555555555555556,\"#d8576b\"],[0.6666666666666666,\"#ed7953\"],[0.7777777777777778,\"#fb9f3a\"],[0.8888888888888888,\"#fdca26\"],[1.0,\"#f0f921\"]]}],\"surface\":[{\"type\":\"surface\",\"colorbar\":{\"outlinewidth\":0,\"ticks\":\"\"},\"colorscale\":[[0.0,\"#0d0887\"],[0.1111111111111111,\"#46039f\"],[0.2222222222222222,\"#7201a8\"],[0.3333333333333333,\"#9c179e\"],[0.4444444444444444,\"#bd3786\"],[0.5555555555555556,\"#d8576b\"],[0.6666666666666666,\"#ed7953\"],[0.7777777777777778,\"#fb9f3a\"],[0.8888888888888888,\"#fdca26\"],[1.0,\"#f0f921\"]]}],\"mesh3d\":[{\"type\":\"mesh3d\",\"colorbar\":{\"outlinewidth\":0,\"ticks\":\"\"}}],\"scatter\":[{\"fillpattern\":{\"fillmode\":\"overlay\",\"size\":10,\"solidity\":0.2},\"type\":\"scatter\"}],\"parcoords\":[{\"type\":\"parcoords\",\"line\":{\"colorbar\":{\"outlinewidth\":0,\"ticks\":\"\"}}}],\"scatterpolargl\":[{\"type\":\"scatterpolargl\",\"marker\":{\"colorbar\":{\"outlinewidth\":0,\"ticks\":\"\"}}}],\"bar\":[{\"error_x\":{\"color\":\"#2a3f5f\"},\"error_y\":{\"color\":\"#2a3f5f\"},\"marker\":{\"line\":{\"color\":\"#E5ECF6\",\"width\":0.5},\"pattern\":{\"fillmode\":\"overlay\",\"size\":10,\"solidity\":0.2}},\"type\":\"bar\"}],\"scattergeo\":[{\"type\":\"scattergeo\",\"marker\":{\"colorbar\":{\"outlinewidth\":0,\"ticks\":\"\"}}}],\"scatterpolar\":[{\"type\":\"scatterpolar\",\"marker\":{\"colorbar\":{\"outlinewidth\":0,\"ticks\":\"\"}}}],\"histogram\":[{\"marker\":{\"pattern\":{\"fillmode\":\"overlay\",\"size\":10,\"solidity\":0.2}},\"type\":\"histogram\"}],\"scattergl\":[{\"type\":\"scattergl\",\"marker\":{\"colorbar\":{\"outlinewidth\":0,\"ticks\":\"\"}}}],\"scatter3d\":[{\"type\":\"scatter3d\",\"line\":{\"colorbar\":{\"outlinewidth\":0,\"ticks\":\"\"}},\"marker\":{\"colorbar\":{\"outlinewidth\":0,\"ticks\":\"\"}}}],\"scattermapbox\":[{\"type\":\"scattermapbox\",\"marker\":{\"colorbar\":{\"outlinewidth\":0,\"ticks\":\"\"}}}],\"scatterternary\":[{\"type\":\"scatterternary\",\"marker\":{\"colorbar\":{\"outlinewidth\":0,\"ticks\":\"\"}}}],\"scattercarpet\":[{\"type\":\"scattercarpet\",\"marker\":{\"colorbar\":{\"outlinewidth\":0,\"ticks\":\"\"}}}],\"carpet\":[{\"aaxis\":{\"endlinecolor\":\"#2a3f5f\",\"gridcolor\":\"white\",\"linecolor\":\"white\",\"minorgridcolor\":\"white\",\"startlinecolor\":\"#2a3f5f\"},\"baxis\":{\"endlinecolor\":\"#2a3f5f\",\"gridcolor\":\"white\",\"linecolor\":\"white\",\"minorgridcolor\":\"white\",\"startlinecolor\":\"#2a3f5f\"},\"type\":\"carpet\"}],\"table\":[{\"cells\":{\"fill\":{\"color\":\"#EBF0F8\"},\"line\":{\"color\":\"white\"}},\"header\":{\"fill\":{\"color\":\"#C8D4E3\"},\"line\":{\"color\":\"white\"}},\"type\":\"table\"}],\"barpolar\":[{\"marker\":{\"line\":{\"color\":\"#E5ECF6\",\"width\":0.5},\"pattern\":{\"fillmode\":\"overlay\",\"size\":10,\"solidity\":0.2}},\"type\":\"barpolar\"}],\"pie\":[{\"automargin\":true,\"type\":\"pie\"}]},\"layout\":{\"autotypenumbers\":\"strict\",\"colorway\":[\"#636efa\",\"#EF553B\",\"#00cc96\",\"#ab63fa\",\"#FFA15A\",\"#19d3f3\",\"#FF6692\",\"#B6E880\",\"#FF97FF\",\"#FECB52\"],\"font\":{\"color\":\"#2a3f5f\"},\"hovermode\":\"closest\",\"hoverlabel\":{\"align\":\"left\"},\"paper_bgcolor\":\"white\",\"plot_bgcolor\":\"#E5ECF6\",\"polar\":{\"bgcolor\":\"#E5ECF6\",\"angularaxis\":{\"gridcolor\":\"white\",\"linecolor\":\"white\",\"ticks\":\"\"},\"radialaxis\":{\"gridcolor\":\"white\",\"linecolor\":\"white\",\"ticks\":\"\"}},\"ternary\":{\"bgcolor\":\"#E5ECF6\",\"aaxis\":{\"gridcolor\":\"white\",\"linecolor\":\"white\",\"ticks\":\"\"},\"baxis\":{\"gridcolor\":\"white\",\"linecolor\":\"white\",\"ticks\":\"\"},\"caxis\":{\"gridcolor\":\"white\",\"linecolor\":\"white\",\"ticks\":\"\"}},\"coloraxis\":{\"colorbar\":{\"outlinewidth\":0,\"ticks\":\"\"}},\"colorscale\":{\"sequential\":[[0.0,\"#0d0887\"],[0.1111111111111111,\"#46039f\"],[0.2222222222222222,\"#7201a8\"],[0.3333333333333333,\"#9c179e\"],[0.4444444444444444,\"#bd3786\"],[0.5555555555555556,\"#d8576b\"],[0.6666666666666666,\"#ed7953\"],[0.7777777777777778,\"#fb9f3a\"],[0.8888888888888888,\"#fdca26\"],[1.0,\"#f0f921\"]],\"sequentialminus\":[[0.0,\"#0d0887\"],[0.1111111111111111,\"#46039f\"],[0.2222222222222222,\"#7201a8\"],[0.3333333333333333,\"#9c179e\"],[0.4444444444444444,\"#bd3786\"],[0.5555555555555556,\"#d8576b\"],[0.6666666666666666,\"#ed7953\"],[0.7777777777777778,\"#fb9f3a\"],[0.8888888888888888,\"#fdca26\"],[1.0,\"#f0f921\"]],\"diverging\":[[0,\"#8e0152\"],[0.1,\"#c51b7d\"],[0.2,\"#de77ae\"],[0.3,\"#f1b6da\"],[0.4,\"#fde0ef\"],[0.5,\"#f7f7f7\"],[0.6,\"#e6f5d0\"],[0.7,\"#b8e186\"],[0.8,\"#7fbc41\"],[0.9,\"#4d9221\"],[1,\"#276419\"]]},\"xaxis\":{\"gridcolor\":\"white\",\"linecolor\":\"white\",\"ticks\":\"\",\"title\":{\"standoff\":15},\"zerolinecolor\":\"white\",\"automargin\":true,\"zerolinewidth\":2},\"yaxis\":{\"gridcolor\":\"white\",\"linecolor\":\"white\",\"ticks\":\"\",\"title\":{\"standoff\":15},\"zerolinecolor\":\"white\",\"automargin\":true,\"zerolinewidth\":2},\"scene\":{\"xaxis\":{\"backgroundcolor\":\"#E5ECF6\",\"gridcolor\":\"white\",\"linecolor\":\"white\",\"showbackground\":true,\"ticks\":\"\",\"zerolinecolor\":\"white\",\"gridwidth\":2},\"yaxis\":{\"backgroundcolor\":\"#E5ECF6\",\"gridcolor\":\"white\",\"linecolor\":\"white\",\"showbackground\":true,\"ticks\":\"\",\"zerolinecolor\":\"white\",\"gridwidth\":2},\"zaxis\":{\"backgroundcolor\":\"#E5ECF6\",\"gridcolor\":\"white\",\"linecolor\":\"white\",\"showbackground\":true,\"ticks\":\"\",\"zerolinecolor\":\"white\",\"gridwidth\":2}},\"shapedefaults\":{\"line\":{\"color\":\"#2a3f5f\"}},\"annotationdefaults\":{\"arrowcolor\":\"#2a3f5f\",\"arrowhead\":0,\"arrowwidth\":1},\"geo\":{\"bgcolor\":\"white\",\"landcolor\":\"#E5ECF6\",\"subunitcolor\":\"white\",\"showland\":true,\"showlakes\":true,\"lakecolor\":\"white\"},\"title\":{\"x\":0.05},\"mapbox\":{\"style\":\"light\"}}},\"xaxis\":{\"anchor\":\"y\",\"domain\":[0.0,1.0]},\"yaxis\":{\"anchor\":\"x\",\"domain\":[0.0,1.0],\"autorange\":\"reversed\"},\"coloraxis\":{\"colorscale\":[[0.0,\"rgb(247,251,255)\"],[0.125,\"rgb(222,235,247)\"],[0.25,\"rgb(198,219,239)\"],[0.375,\"rgb(158,202,225)\"],[0.5,\"rgb(107,174,214)\"],[0.625,\"rgb(66,146,198)\"],[0.75,\"rgb(33,113,181)\"],[0.875,\"rgb(8,81,156)\"],[1.0,\"rgb(8,48,107)\"]]},\"title\":{\"text\":\"Positive steering with detectors on L11\"},\"height\":600,\"width\":2000},                        {\"responsive\": true}                    ).then(function(){\n",
       "                            \n",
       "var gd = document.getElementById('0943db70-6d0a-4948-85f6-c4c48646812a');\n",
       "var x = new MutationObserver(function (mutations, observer) {{\n",
       "        var display = window.getComputedStyle(gd).display;\n",
       "        if (!display || display === 'none') {{\n",
       "            console.log([gd, 'removed!']);\n",
       "            Plotly.purge(gd);\n",
       "            observer.disconnect();\n",
       "        }}\n",
       "}});\n",
       "\n",
       "// Listen for the removal of the full notebook cells\n",
       "var notebookContainer = gd.closest('#notebook-container');\n",
       "if (notebookContainer) {{\n",
       "    x.observe(notebookContainer, {childList: true});\n",
       "}}\n",
       "\n",
       "// Listen for the clearing of the current output cell\n",
       "var outputEl = gd.closest('.output');\n",
       "if (outputEl) {{\n",
       "    x.observe(outputEl, {childList: true});\n",
       "}}\n",
       "\n",
       "                        })                };                });            </script>        </div>"
      ]
     },
     "metadata": {},
     "output_type": "display_data"
    }
   ],
   "source": [
    "import plotly.express as px\n",
    "import pandas as pd\n",
    "import numpy as np\n",
    "\n",
    "normalized_losses = {}\n",
    "\n",
    "drop_features = []\n",
    "drop_ids = [features.index(feature) for feature in drop_features]\n",
    "\n",
    "features_dropped = [feature for feature in features if feature not in drop_features]\n",
    "\n",
    "for task_name, losses in task_losses_positive.items():\n",
    "    base_loss = losses[1]\n",
    "    losses = losses[0]\n",
    "    losses = np.array(losses)\n",
    "    losses = np.delete(losses, drop_ids)\n",
    "\n",
    "    losses = np.minimum(losses, base_loss)\n",
    "\n",
    "    losses = (base_loss - losses) / base_loss\n",
    "    \n",
    "    max_loss = np.max(losses)\n",
    "    min_loss = np.min(losses)\n",
    "\n",
    "    losses = (losses - min_loss) / (max_loss - min_loss)\n",
    "\n",
    "    losses = np.clip(losses, 0.2, 10)\n",
    "    \n",
    "    # mean_loss = np.mean(losses - base_loss)\n",
    "\n",
    "    # base_acc = losses[1][1]\n",
    "\n",
    "    # accs = [base_acc - loss[1] for loss in losses[0]]\n",
    "    normalized_losses[task_name] = losses\n",
    "\n",
    "\n",
    "heatmap = np.zeros((len(task_names), len(features_dropped)))\n",
    "\n",
    "for i, task_name in enumerate(task_names):\n",
    "    for j, feature in enumerate(features_dropped):\n",
    "        heatmap[i, j] = normalized_losses[task_name][j]\n",
    "\n",
    "# heatmap /= np.mean(heatmap, axis=0, keepdims=True)\n",
    "\n",
    "\n",
    "\n",
    "# heatmap = np.where(heatmap > 0, np.log(heatmap), -10)\n",
    "# heatmap[np.isnan(heatmap)] = np.min(heatmap[np.isfinite(heatmap)])\n",
    "# heatmap[np.isinf(heatmap)] = np.max(heatmap[np.isfinite(heatmap)])\n",
    "\n",
    "# heatmap = np.log(1 + heatmap * 40)\n",
    "\n",
    "# heatmap = np.clip(heatmap, -5, 5)\n",
    "\n",
    "# avg_heatmap = np.sum(heatmap != 1, axis=0)\n",
    "\n",
    "avg_heatmap  = np.max(heatmap, axis=0)\n",
    "\n",
    "sorted_idx = np.argsort(-avg_heatmap)\n",
    "\n",
    "heatmap = heatmap[:, sorted_idx]\n",
    "\n",
    "# min_heatmap = np.min(heatmap, axis=1)   \n",
    "\n",
    "min_pos = np.argmax(heatmap, axis=1)\n",
    "\n",
    "y_sorted_idx = np.argsort(min_pos)\n",
    "\n",
    "heatmap = heatmap[y_sorted_idx]\n",
    "\n",
    "fig = px.imshow(heatmap[:, :100], x=[str(features_dropped[x]) for x in sorted_idx][:100], y=[task_names[x] for x in y_sorted_idx], width=2000, height=600, aspect=\"auto\", color_continuous_scale=\"Blues\", title=\"Positive steering with detectors on L11\")\n",
    "\n",
    "fig.show()\n"
   ]
  },
  {
   "cell_type": "code",
   "execution_count": 21,
   "metadata": {},
   "outputs": [
    {
     "ename": "",
     "evalue": "",
     "output_type": "error",
     "traceback": [
      "\u001b[1;31mThe Kernel crashed while executing code in the current cell or a previous cell. \n",
      "\u001b[1;31mPlease review the code in the cell(s) to identify a possible cause of the failure. \n",
      "\u001b[1;31mClick <a href='https://aka.ms/vscodeJupyterKernelCrash'>here</a> for more info. \n",
      "\u001b[1;31mView Jupyter <a href='command:jupyter.viewOutput'>log</a> for further details."
     ]
    }
   ],
   "source": [
    "with open(\"micrlhf-progress/detector_heatmap_l11.json\", \"w\") as f:\n",
    "    json.dump({\"heatmap\": heatmap.tolist(), \"features\": [features_dropped[x] for x in sorted_idx], \"task_names\": [task_names[x] for x in y_sorted_idx]}, f)"
   ]
  },
  {
   "cell_type": "code",
   "execution_count": 31,
   "metadata": {},
   "outputs": [
    {
     "data": {
      "application/vnd.jupyter.widget-view+json": {
       "model_id": "f39bb3369cee4a558327120e1214cdd1",
       "version_major": 2,
       "version_minor": 0
      },
      "text/plain": [
       "  0%|          | 0/1 [00:00<?, ?it/s]"
      ]
     },
     "metadata": {},
     "output_type": "display_data"
    },
    {
     "data": {
      "application/vnd.jupyter.widget-view+json": {
       "model_id": "53cb647d73844e879516c1954d9e2d4b",
       "version_major": 2,
       "version_minor": 0
      },
      "text/plain": [
       "  0%|          | 0/100 [00:00<?, ?it/s]"
      ]
     },
     "metadata": {},
     "output_type": "display_data"
    },
    {
     "name": "stderr",
     "output_type": "stream",
     "text": [
      "/home/dmitrii/.cache/pypoetry/virtualenvs/micrlhf-progress-_SD4q1c9-py3.10/lib/python3.10/site-packages/jax/_src/ops/scatter.py:92: FutureWarning:\n",
      "\n",
      "scatter inputs have incompatible types: cannot safely cast value from dtype=float32 to dtype=bfloat16 with jax_numpy_dtype_promotion='standard'. In future JAX releases this will result in an error.\n",
      "\n"
     ]
    }
   ],
   "source": [
    "import dataclasses\n",
    "from tqdm.auto import tqdm\n",
    "from functools import partial\n",
    "from micrlhf.utils.activation_manipulation import add_vector\n",
    "\n",
    "task_losses_positive = {}\n",
    "\n",
    "n_few_shots, batch_size, max_seq_len = 20, 12, 256\n",
    "seed = 10\n",
    "\n",
    "prompt = \"Follow the pattern:\\n{}\"\n",
    "\n",
    "def make_taker(llama, layer):\n",
    "    taker = jit_wrapper.Jitted(llama.select().at_instances_of(LlamaBlock).apply_with_selected_index(\n",
    "        lambda i, x: x if i >= layer else pz.nn.Identity()\n",
    "    ).select().at_instances_of(pz.nn.EmbeddingLookup).apply(lambda _: pz.nn.Identity())\n",
    "                    .select().at_instances_of(pz.nn.ConstantRescale).pick_nth_selected(0).apply(lambda _: pz.nn.Identity()))\n",
    "\n",
    "    return taker\n",
    "\n",
    "taker = make_taker(llama, layer)\n",
    "\n",
    "prompt_length = len(tokenizer.encode(prompt))\n",
    "\n",
    "for task_name in tqdm([\"antonyms\"]):\n",
    "\n",
    "    sep = 3978\n",
    "    pad = 0\n",
    "    newline = 108\n",
    "\n",
    "\n",
    "    pairs = list(tasks[task_name].items())\n",
    "\n",
    "    n_shot = n_few_shots - 1\n",
    "    if task_name.startswith(\"algo\"):\n",
    "        n_shot = 8\n",
    "\n",
    "    runner = ICLRunner(task_name, pairs, batch_size=batch_size, n_shot=1, max_seq_len=max_seq_len, seed=seed, prompt=prompt, vector_type=\"detector\")\n",
    "\n",
    "    tokenized = runner.get_tokens([\n",
    "        x[:n_few_shots] for x in runner.eval_pairs\n",
    "    ], tokenizer)\n",
    "\n",
    "    inputs = tokenized_to_inputs(**tokenized)\n",
    "    tokens = tokenized[\"input_ids\"]\n",
    "\n",
    "    _, all_resids = get_resids_call(inputs)\n",
    "\n",
    "    # scale = 25\n",
    "\n",
    "    resids = all_resids[layer].value.unwrap(\"batch\", \"seq\", \"embedding\")\n",
    "\n",
    "    mask = tokens == newline\n",
    "    mask = jnp.roll(mask, -1, axis=-1)\n",
    "    mask = mask.at[:, :prompt_length].set(False)\n",
    "\n",
    "    col_indices = jnp.arange(mask.shape[1])\n",
    "    col_indices_broadcasted = mask * col_indices\n",
    "    sorted_indices = jnp.sort(col_indices_broadcasted, axis=1, descending=True)\n",
    "    positions = sorted_indices[:, :1]\n",
    "\n",
    "    feature = 11050\n",
    "    \n",
    "    def steer_with_direction(direction, scale):\n",
    "        direction = direction / jnp.linalg.norm(direction)\n",
    "        direction = direction * scale\n",
    "        \n",
    "        modified = jax.vmap(lambda a, b: a.at[b].add(direction))(\n",
    "            resids, positions\n",
    "        )\n",
    "        modified = pz.nx.wrap(modified, \"batch\", \"seq\", \"embedding\")\n",
    "\n",
    "        _inputs = dataclasses.replace(inputs, tokens=modified)\n",
    "        logits = taker(_inputs).unwrap(\"batch\", \"seq\", \"vocabulary\")\n",
    "\n",
    "        return logprob_loss(logits, tokens, sep=sep, pad_token=pad, n_first=2)\n",
    "\n",
    "    task_losses_positive[task_name] = [[steer_with_direction(sae[\"W_dec\"][feature], scale).tolist() for scale in tqdm(np.logspace(0, 2, 100))]]\n",
    "\n",
    "    logits = llama(inputs)\n",
    "\n",
    "    logits = logits.unwrap(\"batch\", \"seq\", \"vocabulary\")\n",
    "\n",
    "    task_losses_positive[task_name].append(logprob_loss(logits, tokens, sep=sep, pad_token=pad, n_first=2).tolist())"
   ]
  },
  {
   "cell_type": "code",
   "execution_count": 32,
   "metadata": {},
   "outputs": [
    {
     "data": {
      "application/vnd.plotly.v1+json": {
       "config": {
        "plotlyServerURL": "https://plot.ly"
       },
       "data": [
        {
         "hovertemplate": "x=%{x}<br>y=%{y}<extra></extra>",
         "legendgroup": "",
         "line": {
          "color": "#636efa",
          "dash": "solid"
         },
         "marker": {
          "symbol": "circle"
         },
         "mode": "lines",
         "name": "",
         "orientation": "v",
         "showlegend": false,
         "type": "scatter",
         "x": [
          1,
          1.0476157527896648,
          1.0974987654930561,
          1.1497569953977358,
          1.2045035402587823,
          1.2618568830660204,
          1.321941148466029,
          1.384886371393873,
          1.4508287784959397,
          1.5199110829529336,
          1.5922827933410924,
          1.6681005372000588,
          1.7475284000076838,
          1.8307382802953682,
          1.9179102616724888,
          2.0092330025650473,
          2.1049041445120205,
          2.205130739903046,
          2.3101297000831598,
          2.420128264794382,
          2.535364493970112,
          2.6560877829466865,
          2.782559402207125,
          2.915053062825177,
          3.0538555088334154,
          3.1992671377973836,
          3.3516026509388426,
          3.511191734215132,
          3.6783797718286344,
          3.8535285937105295,
          4.0370172585965545,
          4.229242874389499,
          4.430621457583881,
          4.641588833612779,
          4.862601580065355,
          5.09413801481638,
          5.3366992312063095,
          5.590810182512224,
          5.857020818056667,
          6.135907273413174,
          6.428073117284322,
          6.734150657750823,
          7.054802310718643,
          7.390722033525779,
          7.742636826811272,
          8.111308307896872,
          8.497534359086444,
          8.902150854450388,
          9.326033468832199,
          9.770099572992255,
          10.235310218990262,
          10.722672220103236,
          11.233240329780276,
          11.768119524349984,
          12.328467394420665,
          12.91549665014884,
          13.530477745798075,
          14.174741629268055,
          14.84968262254465,
          15.556761439304722,
          16.297508346206442,
          17.073526474706913,
          17.886495290574352,
          18.73817422860385,
          19.630406500402714,
          20.565123083486515,
          21.544346900318846,
          22.570197196339205,
          23.644894126454084,
          24.770763559917114,
          25.950242113997373,
          27.185882427329414,
          28.48035868435802,
          29.836472402833405,
          31.25715849688237,
          32.7454916287773,
          34.30469286314919,
          35.938136638046274,
          37.649358067924695,
          39.442060594376564,
          41.32012400115339,
          43.287612810830595,
          45.34878508128585,
          47.50810162102798,
          49.770235643321115,
          52.140082879996875,
          54.62277217684343,
          57.223676593502205,
          59.94842503189412,
          62.80291441834256,
          65.79332246575683,
          68.92612104349699,
          72.20809018385468,
          75.64633275546291,
          79.24828983539177,
          83.02175681319748,
          86.97490026177834,
          91.11627561154896,
          95.45484566618342,
          100
         ],
         "xaxis": "x",
         "y": [
          4.1875,
          4.1875,
          4.15625,
          4.15625,
          4.15625,
          4.15625,
          4.15625,
          4.125,
          4.125,
          4.09375,
          4.09375,
          4.0625,
          4.03125,
          4.03125,
          4.03125,
          4,
          3.984375,
          3.96875,
          3.96875,
          3.921875,
          3.90625,
          3.875,
          3.890625,
          3.875,
          3.84375,
          3.8125,
          3.796875,
          3.765625,
          3.71875,
          3.703125,
          3.6875,
          3.671875,
          3.625,
          3.59375,
          3.578125,
          3.546875,
          3.546875,
          3.515625,
          3.46875,
          3.453125,
          3.40625,
          3.375,
          3.34375,
          3.34375,
          3.3125,
          3.28125,
          3.25,
          3.21875,
          3.1875,
          3.15625,
          3.15625,
          3.140625,
          3.109375,
          3.09375,
          3.09375,
          3.0625,
          3.0625,
          3.046875,
          3.015625,
          2.984375,
          2.984375,
          2.96875,
          2.96875,
          2.953125,
          2.953125,
          2.953125,
          2.9375,
          2.9375,
          2.9375,
          2.9375,
          2.9375,
          2.921875,
          2.9375,
          2.9375,
          2.9375,
          2.921875,
          2.9375,
          2.9375,
          2.9375,
          2.96875,
          2.96875,
          2.96875,
          3,
          3,
          3.015625,
          3.015625,
          3.03125,
          3.046875,
          3.0625,
          3.078125,
          3.09375,
          3.109375,
          3.125,
          3.140625,
          3.171875,
          3.171875,
          3.1875,
          3.203125,
          3.21875,
          3.25
         ],
         "yaxis": "y"
        }
       ],
       "layout": {
        "legend": {
         "tracegroupgap": 0
        },
        "margin": {
         "t": 60
        },
        "template": {
         "data": {
          "bar": [
           {
            "error_x": {
             "color": "#2a3f5f"
            },
            "error_y": {
             "color": "#2a3f5f"
            },
            "marker": {
             "line": {
              "color": "#E5ECF6",
              "width": 0.5
             },
             "pattern": {
              "fillmode": "overlay",
              "size": 10,
              "solidity": 0.2
             }
            },
            "type": "bar"
           }
          ],
          "barpolar": [
           {
            "marker": {
             "line": {
              "color": "#E5ECF6",
              "width": 0.5
             },
             "pattern": {
              "fillmode": "overlay",
              "size": 10,
              "solidity": 0.2
             }
            },
            "type": "barpolar"
           }
          ],
          "carpet": [
           {
            "aaxis": {
             "endlinecolor": "#2a3f5f",
             "gridcolor": "white",
             "linecolor": "white",
             "minorgridcolor": "white",
             "startlinecolor": "#2a3f5f"
            },
            "baxis": {
             "endlinecolor": "#2a3f5f",
             "gridcolor": "white",
             "linecolor": "white",
             "minorgridcolor": "white",
             "startlinecolor": "#2a3f5f"
            },
            "type": "carpet"
           }
          ],
          "choropleth": [
           {
            "colorbar": {
             "outlinewidth": 0,
             "ticks": ""
            },
            "type": "choropleth"
           }
          ],
          "contour": [
           {
            "colorbar": {
             "outlinewidth": 0,
             "ticks": ""
            },
            "colorscale": [
             [
              0,
              "#0d0887"
             ],
             [
              0.1111111111111111,
              "#46039f"
             ],
             [
              0.2222222222222222,
              "#7201a8"
             ],
             [
              0.3333333333333333,
              "#9c179e"
             ],
             [
              0.4444444444444444,
              "#bd3786"
             ],
             [
              0.5555555555555556,
              "#d8576b"
             ],
             [
              0.6666666666666666,
              "#ed7953"
             ],
             [
              0.7777777777777778,
              "#fb9f3a"
             ],
             [
              0.8888888888888888,
              "#fdca26"
             ],
             [
              1,
              "#f0f921"
             ]
            ],
            "type": "contour"
           }
          ],
          "contourcarpet": [
           {
            "colorbar": {
             "outlinewidth": 0,
             "ticks": ""
            },
            "type": "contourcarpet"
           }
          ],
          "heatmap": [
           {
            "colorbar": {
             "outlinewidth": 0,
             "ticks": ""
            },
            "colorscale": [
             [
              0,
              "#0d0887"
             ],
             [
              0.1111111111111111,
              "#46039f"
             ],
             [
              0.2222222222222222,
              "#7201a8"
             ],
             [
              0.3333333333333333,
              "#9c179e"
             ],
             [
              0.4444444444444444,
              "#bd3786"
             ],
             [
              0.5555555555555556,
              "#d8576b"
             ],
             [
              0.6666666666666666,
              "#ed7953"
             ],
             [
              0.7777777777777778,
              "#fb9f3a"
             ],
             [
              0.8888888888888888,
              "#fdca26"
             ],
             [
              1,
              "#f0f921"
             ]
            ],
            "type": "heatmap"
           }
          ],
          "heatmapgl": [
           {
            "colorbar": {
             "outlinewidth": 0,
             "ticks": ""
            },
            "colorscale": [
             [
              0,
              "#0d0887"
             ],
             [
              0.1111111111111111,
              "#46039f"
             ],
             [
              0.2222222222222222,
              "#7201a8"
             ],
             [
              0.3333333333333333,
              "#9c179e"
             ],
             [
              0.4444444444444444,
              "#bd3786"
             ],
             [
              0.5555555555555556,
              "#d8576b"
             ],
             [
              0.6666666666666666,
              "#ed7953"
             ],
             [
              0.7777777777777778,
              "#fb9f3a"
             ],
             [
              0.8888888888888888,
              "#fdca26"
             ],
             [
              1,
              "#f0f921"
             ]
            ],
            "type": "heatmapgl"
           }
          ],
          "histogram": [
           {
            "marker": {
             "pattern": {
              "fillmode": "overlay",
              "size": 10,
              "solidity": 0.2
             }
            },
            "type": "histogram"
           }
          ],
          "histogram2d": [
           {
            "colorbar": {
             "outlinewidth": 0,
             "ticks": ""
            },
            "colorscale": [
             [
              0,
              "#0d0887"
             ],
             [
              0.1111111111111111,
              "#46039f"
             ],
             [
              0.2222222222222222,
              "#7201a8"
             ],
             [
              0.3333333333333333,
              "#9c179e"
             ],
             [
              0.4444444444444444,
              "#bd3786"
             ],
             [
              0.5555555555555556,
              "#d8576b"
             ],
             [
              0.6666666666666666,
              "#ed7953"
             ],
             [
              0.7777777777777778,
              "#fb9f3a"
             ],
             [
              0.8888888888888888,
              "#fdca26"
             ],
             [
              1,
              "#f0f921"
             ]
            ],
            "type": "histogram2d"
           }
          ],
          "histogram2dcontour": [
           {
            "colorbar": {
             "outlinewidth": 0,
             "ticks": ""
            },
            "colorscale": [
             [
              0,
              "#0d0887"
             ],
             [
              0.1111111111111111,
              "#46039f"
             ],
             [
              0.2222222222222222,
              "#7201a8"
             ],
             [
              0.3333333333333333,
              "#9c179e"
             ],
             [
              0.4444444444444444,
              "#bd3786"
             ],
             [
              0.5555555555555556,
              "#d8576b"
             ],
             [
              0.6666666666666666,
              "#ed7953"
             ],
             [
              0.7777777777777778,
              "#fb9f3a"
             ],
             [
              0.8888888888888888,
              "#fdca26"
             ],
             [
              1,
              "#f0f921"
             ]
            ],
            "type": "histogram2dcontour"
           }
          ],
          "mesh3d": [
           {
            "colorbar": {
             "outlinewidth": 0,
             "ticks": ""
            },
            "type": "mesh3d"
           }
          ],
          "parcoords": [
           {
            "line": {
             "colorbar": {
              "outlinewidth": 0,
              "ticks": ""
             }
            },
            "type": "parcoords"
           }
          ],
          "pie": [
           {
            "automargin": true,
            "type": "pie"
           }
          ],
          "scatter": [
           {
            "fillpattern": {
             "fillmode": "overlay",
             "size": 10,
             "solidity": 0.2
            },
            "type": "scatter"
           }
          ],
          "scatter3d": [
           {
            "line": {
             "colorbar": {
              "outlinewidth": 0,
              "ticks": ""
             }
            },
            "marker": {
             "colorbar": {
              "outlinewidth": 0,
              "ticks": ""
             }
            },
            "type": "scatter3d"
           }
          ],
          "scattercarpet": [
           {
            "marker": {
             "colorbar": {
              "outlinewidth": 0,
              "ticks": ""
             }
            },
            "type": "scattercarpet"
           }
          ],
          "scattergeo": [
           {
            "marker": {
             "colorbar": {
              "outlinewidth": 0,
              "ticks": ""
             }
            },
            "type": "scattergeo"
           }
          ],
          "scattergl": [
           {
            "marker": {
             "colorbar": {
              "outlinewidth": 0,
              "ticks": ""
             }
            },
            "type": "scattergl"
           }
          ],
          "scattermapbox": [
           {
            "marker": {
             "colorbar": {
              "outlinewidth": 0,
              "ticks": ""
             }
            },
            "type": "scattermapbox"
           }
          ],
          "scatterpolar": [
           {
            "marker": {
             "colorbar": {
              "outlinewidth": 0,
              "ticks": ""
             }
            },
            "type": "scatterpolar"
           }
          ],
          "scatterpolargl": [
           {
            "marker": {
             "colorbar": {
              "outlinewidth": 0,
              "ticks": ""
             }
            },
            "type": "scatterpolargl"
           }
          ],
          "scatterternary": [
           {
            "marker": {
             "colorbar": {
              "outlinewidth": 0,
              "ticks": ""
             }
            },
            "type": "scatterternary"
           }
          ],
          "surface": [
           {
            "colorbar": {
             "outlinewidth": 0,
             "ticks": ""
            },
            "colorscale": [
             [
              0,
              "#0d0887"
             ],
             [
              0.1111111111111111,
              "#46039f"
             ],
             [
              0.2222222222222222,
              "#7201a8"
             ],
             [
              0.3333333333333333,
              "#9c179e"
             ],
             [
              0.4444444444444444,
              "#bd3786"
             ],
             [
              0.5555555555555556,
              "#d8576b"
             ],
             [
              0.6666666666666666,
              "#ed7953"
             ],
             [
              0.7777777777777778,
              "#fb9f3a"
             ],
             [
              0.8888888888888888,
              "#fdca26"
             ],
             [
              1,
              "#f0f921"
             ]
            ],
            "type": "surface"
           }
          ],
          "table": [
           {
            "cells": {
             "fill": {
              "color": "#EBF0F8"
             },
             "line": {
              "color": "white"
             }
            },
            "header": {
             "fill": {
              "color": "#C8D4E3"
             },
             "line": {
              "color": "white"
             }
            },
            "type": "table"
           }
          ]
         },
         "layout": {
          "annotationdefaults": {
           "arrowcolor": "#2a3f5f",
           "arrowhead": 0,
           "arrowwidth": 1
          },
          "autotypenumbers": "strict",
          "coloraxis": {
           "colorbar": {
            "outlinewidth": 0,
            "ticks": ""
           }
          },
          "colorscale": {
           "diverging": [
            [
             0,
             "#8e0152"
            ],
            [
             0.1,
             "#c51b7d"
            ],
            [
             0.2,
             "#de77ae"
            ],
            [
             0.3,
             "#f1b6da"
            ],
            [
             0.4,
             "#fde0ef"
            ],
            [
             0.5,
             "#f7f7f7"
            ],
            [
             0.6,
             "#e6f5d0"
            ],
            [
             0.7,
             "#b8e186"
            ],
            [
             0.8,
             "#7fbc41"
            ],
            [
             0.9,
             "#4d9221"
            ],
            [
             1,
             "#276419"
            ]
           ],
           "sequential": [
            [
             0,
             "#0d0887"
            ],
            [
             0.1111111111111111,
             "#46039f"
            ],
            [
             0.2222222222222222,
             "#7201a8"
            ],
            [
             0.3333333333333333,
             "#9c179e"
            ],
            [
             0.4444444444444444,
             "#bd3786"
            ],
            [
             0.5555555555555556,
             "#d8576b"
            ],
            [
             0.6666666666666666,
             "#ed7953"
            ],
            [
             0.7777777777777778,
             "#fb9f3a"
            ],
            [
             0.8888888888888888,
             "#fdca26"
            ],
            [
             1,
             "#f0f921"
            ]
           ],
           "sequentialminus": [
            [
             0,
             "#0d0887"
            ],
            [
             0.1111111111111111,
             "#46039f"
            ],
            [
             0.2222222222222222,
             "#7201a8"
            ],
            [
             0.3333333333333333,
             "#9c179e"
            ],
            [
             0.4444444444444444,
             "#bd3786"
            ],
            [
             0.5555555555555556,
             "#d8576b"
            ],
            [
             0.6666666666666666,
             "#ed7953"
            ],
            [
             0.7777777777777778,
             "#fb9f3a"
            ],
            [
             0.8888888888888888,
             "#fdca26"
            ],
            [
             1,
             "#f0f921"
            ]
           ]
          },
          "colorway": [
           "#636efa",
           "#EF553B",
           "#00cc96",
           "#ab63fa",
           "#FFA15A",
           "#19d3f3",
           "#FF6692",
           "#B6E880",
           "#FF97FF",
           "#FECB52"
          ],
          "font": {
           "color": "#2a3f5f"
          },
          "geo": {
           "bgcolor": "white",
           "lakecolor": "white",
           "landcolor": "#E5ECF6",
           "showlakes": true,
           "showland": true,
           "subunitcolor": "white"
          },
          "hoverlabel": {
           "align": "left"
          },
          "hovermode": "closest",
          "mapbox": {
           "style": "light"
          },
          "paper_bgcolor": "white",
          "plot_bgcolor": "#E5ECF6",
          "polar": {
           "angularaxis": {
            "gridcolor": "white",
            "linecolor": "white",
            "ticks": ""
           },
           "bgcolor": "#E5ECF6",
           "radialaxis": {
            "gridcolor": "white",
            "linecolor": "white",
            "ticks": ""
           }
          },
          "scene": {
           "xaxis": {
            "backgroundcolor": "#E5ECF6",
            "gridcolor": "white",
            "gridwidth": 2,
            "linecolor": "white",
            "showbackground": true,
            "ticks": "",
            "zerolinecolor": "white"
           },
           "yaxis": {
            "backgroundcolor": "#E5ECF6",
            "gridcolor": "white",
            "gridwidth": 2,
            "linecolor": "white",
            "showbackground": true,
            "ticks": "",
            "zerolinecolor": "white"
           },
           "zaxis": {
            "backgroundcolor": "#E5ECF6",
            "gridcolor": "white",
            "gridwidth": 2,
            "linecolor": "white",
            "showbackground": true,
            "ticks": "",
            "zerolinecolor": "white"
           }
          },
          "shapedefaults": {
           "line": {
            "color": "#2a3f5f"
           }
          },
          "ternary": {
           "aaxis": {
            "gridcolor": "white",
            "linecolor": "white",
            "ticks": ""
           },
           "baxis": {
            "gridcolor": "white",
            "linecolor": "white",
            "ticks": ""
           },
           "bgcolor": "#E5ECF6",
           "caxis": {
            "gridcolor": "white",
            "linecolor": "white",
            "ticks": ""
           }
          },
          "title": {
           "x": 0.05
          },
          "xaxis": {
           "automargin": true,
           "gridcolor": "white",
           "linecolor": "white",
           "ticks": "",
           "title": {
            "standoff": 15
           },
           "zerolinecolor": "white",
           "zerolinewidth": 2
          },
          "yaxis": {
           "automargin": true,
           "gridcolor": "white",
           "linecolor": "white",
           "ticks": "",
           "title": {
            "standoff": 15
           },
           "zerolinecolor": "white",
           "zerolinewidth": 2
          }
         }
        },
        "xaxis": {
         "anchor": "y",
         "domain": [
          0,
          1
         ],
         "title": {
          "text": "x"
         }
        },
        "yaxis": {
         "anchor": "x",
         "domain": [
          0,
          1
         ],
         "title": {
          "text": "y"
         }
        }
       }
      },
      "text/html": [
       "<div>                            <div id=\"65267f3c-a86a-4d3c-a170-c1abba3fb58b\" class=\"plotly-graph-div\" style=\"height:525px; width:100%;\"></div>            <script type=\"text/javascript\">                require([\"plotly\"], function(Plotly) {                    window.PLOTLYENV=window.PLOTLYENV || {};                                    if (document.getElementById(\"65267f3c-a86a-4d3c-a170-c1abba3fb58b\")) {                    Plotly.newPlot(                        \"65267f3c-a86a-4d3c-a170-c1abba3fb58b\",                        [{\"hovertemplate\":\"x=%{x}\\u003cbr\\u003ey=%{y}\\u003cextra\\u003e\\u003c\\u002fextra\\u003e\",\"legendgroup\":\"\",\"line\":{\"color\":\"#636efa\",\"dash\":\"solid\"},\"marker\":{\"symbol\":\"circle\"},\"mode\":\"lines\",\"name\":\"\",\"orientation\":\"v\",\"showlegend\":false,\"x\":[1.0,1.0476157527896648,1.0974987654930561,1.1497569953977358,1.2045035402587823,1.2618568830660204,1.321941148466029,1.384886371393873,1.4508287784959397,1.5199110829529336,1.5922827933410924,1.6681005372000588,1.7475284000076838,1.8307382802953682,1.9179102616724888,2.0092330025650473,2.1049041445120205,2.205130739903046,2.3101297000831598,2.420128264794382,2.535364493970112,2.6560877829466865,2.782559402207125,2.915053062825177,3.0538555088334154,3.1992671377973836,3.3516026509388426,3.511191734215132,3.6783797718286344,3.8535285937105295,4.0370172585965545,4.229242874389499,4.430621457583881,4.641588833612779,4.862601580065355,5.09413801481638,5.3366992312063095,5.590810182512224,5.857020818056667,6.135907273413174,6.428073117284322,6.734150657750823,7.054802310718643,7.390722033525779,7.742636826811272,8.111308307896872,8.497534359086444,8.902150854450388,9.326033468832199,9.770099572992255,10.235310218990262,10.722672220103236,11.233240329780276,11.768119524349984,12.328467394420665,12.91549665014884,13.530477745798075,14.174741629268055,14.84968262254465,15.556761439304722,16.297508346206442,17.073526474706913,17.886495290574352,18.73817422860385,19.630406500402714,20.565123083486515,21.544346900318846,22.570197196339205,23.644894126454084,24.770763559917114,25.950242113997373,27.185882427329414,28.48035868435802,29.836472402833405,31.25715849688237,32.7454916287773,34.30469286314919,35.938136638046274,37.649358067924695,39.442060594376564,41.32012400115339,43.287612810830595,45.34878508128585,47.50810162102798,49.770235643321115,52.140082879996875,54.62277217684343,57.223676593502205,59.94842503189412,62.80291441834256,65.79332246575683,68.92612104349699,72.20809018385468,75.64633275546291,79.24828983539177,83.02175681319748,86.97490026177834,91.11627561154896,95.45484566618342,100.0],\"xaxis\":\"x\",\"y\":[4.1875,4.1875,4.15625,4.15625,4.15625,4.15625,4.15625,4.125,4.125,4.09375,4.09375,4.0625,4.03125,4.03125,4.03125,4.0,3.984375,3.96875,3.96875,3.921875,3.90625,3.875,3.890625,3.875,3.84375,3.8125,3.796875,3.765625,3.71875,3.703125,3.6875,3.671875,3.625,3.59375,3.578125,3.546875,3.546875,3.515625,3.46875,3.453125,3.40625,3.375,3.34375,3.34375,3.3125,3.28125,3.25,3.21875,3.1875,3.15625,3.15625,3.140625,3.109375,3.09375,3.09375,3.0625,3.0625,3.046875,3.015625,2.984375,2.984375,2.96875,2.96875,2.953125,2.953125,2.953125,2.9375,2.9375,2.9375,2.9375,2.9375,2.921875,2.9375,2.9375,2.9375,2.921875,2.9375,2.9375,2.9375,2.96875,2.96875,2.96875,3.0,3.0,3.015625,3.015625,3.03125,3.046875,3.0625,3.078125,3.09375,3.109375,3.125,3.140625,3.171875,3.171875,3.1875,3.203125,3.21875,3.25],\"yaxis\":\"y\",\"type\":\"scatter\"}],                        {\"template\":{\"data\":{\"histogram2dcontour\":[{\"type\":\"histogram2dcontour\",\"colorbar\":{\"outlinewidth\":0,\"ticks\":\"\"},\"colorscale\":[[0.0,\"#0d0887\"],[0.1111111111111111,\"#46039f\"],[0.2222222222222222,\"#7201a8\"],[0.3333333333333333,\"#9c179e\"],[0.4444444444444444,\"#bd3786\"],[0.5555555555555556,\"#d8576b\"],[0.6666666666666666,\"#ed7953\"],[0.7777777777777778,\"#fb9f3a\"],[0.8888888888888888,\"#fdca26\"],[1.0,\"#f0f921\"]]}],\"choropleth\":[{\"type\":\"choropleth\",\"colorbar\":{\"outlinewidth\":0,\"ticks\":\"\"}}],\"histogram2d\":[{\"type\":\"histogram2d\",\"colorbar\":{\"outlinewidth\":0,\"ticks\":\"\"},\"colorscale\":[[0.0,\"#0d0887\"],[0.1111111111111111,\"#46039f\"],[0.2222222222222222,\"#7201a8\"],[0.3333333333333333,\"#9c179e\"],[0.4444444444444444,\"#bd3786\"],[0.5555555555555556,\"#d8576b\"],[0.6666666666666666,\"#ed7953\"],[0.7777777777777778,\"#fb9f3a\"],[0.8888888888888888,\"#fdca26\"],[1.0,\"#f0f921\"]]}],\"heatmap\":[{\"type\":\"heatmap\",\"colorbar\":{\"outlinewidth\":0,\"ticks\":\"\"},\"colorscale\":[[0.0,\"#0d0887\"],[0.1111111111111111,\"#46039f\"],[0.2222222222222222,\"#7201a8\"],[0.3333333333333333,\"#9c179e\"],[0.4444444444444444,\"#bd3786\"],[0.5555555555555556,\"#d8576b\"],[0.6666666666666666,\"#ed7953\"],[0.7777777777777778,\"#fb9f3a\"],[0.8888888888888888,\"#fdca26\"],[1.0,\"#f0f921\"]]}],\"heatmapgl\":[{\"type\":\"heatmapgl\",\"colorbar\":{\"outlinewidth\":0,\"ticks\":\"\"},\"colorscale\":[[0.0,\"#0d0887\"],[0.1111111111111111,\"#46039f\"],[0.2222222222222222,\"#7201a8\"],[0.3333333333333333,\"#9c179e\"],[0.4444444444444444,\"#bd3786\"],[0.5555555555555556,\"#d8576b\"],[0.6666666666666666,\"#ed7953\"],[0.7777777777777778,\"#fb9f3a\"],[0.8888888888888888,\"#fdca26\"],[1.0,\"#f0f921\"]]}],\"contourcarpet\":[{\"type\":\"contourcarpet\",\"colorbar\":{\"outlinewidth\":0,\"ticks\":\"\"}}],\"contour\":[{\"type\":\"contour\",\"colorbar\":{\"outlinewidth\":0,\"ticks\":\"\"},\"colorscale\":[[0.0,\"#0d0887\"],[0.1111111111111111,\"#46039f\"],[0.2222222222222222,\"#7201a8\"],[0.3333333333333333,\"#9c179e\"],[0.4444444444444444,\"#bd3786\"],[0.5555555555555556,\"#d8576b\"],[0.6666666666666666,\"#ed7953\"],[0.7777777777777778,\"#fb9f3a\"],[0.8888888888888888,\"#fdca26\"],[1.0,\"#f0f921\"]]}],\"surface\":[{\"type\":\"surface\",\"colorbar\":{\"outlinewidth\":0,\"ticks\":\"\"},\"colorscale\":[[0.0,\"#0d0887\"],[0.1111111111111111,\"#46039f\"],[0.2222222222222222,\"#7201a8\"],[0.3333333333333333,\"#9c179e\"],[0.4444444444444444,\"#bd3786\"],[0.5555555555555556,\"#d8576b\"],[0.6666666666666666,\"#ed7953\"],[0.7777777777777778,\"#fb9f3a\"],[0.8888888888888888,\"#fdca26\"],[1.0,\"#f0f921\"]]}],\"mesh3d\":[{\"type\":\"mesh3d\",\"colorbar\":{\"outlinewidth\":0,\"ticks\":\"\"}}],\"scatter\":[{\"fillpattern\":{\"fillmode\":\"overlay\",\"size\":10,\"solidity\":0.2},\"type\":\"scatter\"}],\"parcoords\":[{\"type\":\"parcoords\",\"line\":{\"colorbar\":{\"outlinewidth\":0,\"ticks\":\"\"}}}],\"scatterpolargl\":[{\"type\":\"scatterpolargl\",\"marker\":{\"colorbar\":{\"outlinewidth\":0,\"ticks\":\"\"}}}],\"bar\":[{\"error_x\":{\"color\":\"#2a3f5f\"},\"error_y\":{\"color\":\"#2a3f5f\"},\"marker\":{\"line\":{\"color\":\"#E5ECF6\",\"width\":0.5},\"pattern\":{\"fillmode\":\"overlay\",\"size\":10,\"solidity\":0.2}},\"type\":\"bar\"}],\"scattergeo\":[{\"type\":\"scattergeo\",\"marker\":{\"colorbar\":{\"outlinewidth\":0,\"ticks\":\"\"}}}],\"scatterpolar\":[{\"type\":\"scatterpolar\",\"marker\":{\"colorbar\":{\"outlinewidth\":0,\"ticks\":\"\"}}}],\"histogram\":[{\"marker\":{\"pattern\":{\"fillmode\":\"overlay\",\"size\":10,\"solidity\":0.2}},\"type\":\"histogram\"}],\"scattergl\":[{\"type\":\"scattergl\",\"marker\":{\"colorbar\":{\"outlinewidth\":0,\"ticks\":\"\"}}}],\"scatter3d\":[{\"type\":\"scatter3d\",\"line\":{\"colorbar\":{\"outlinewidth\":0,\"ticks\":\"\"}},\"marker\":{\"colorbar\":{\"outlinewidth\":0,\"ticks\":\"\"}}}],\"scattermapbox\":[{\"type\":\"scattermapbox\",\"marker\":{\"colorbar\":{\"outlinewidth\":0,\"ticks\":\"\"}}}],\"scatterternary\":[{\"type\":\"scatterternary\",\"marker\":{\"colorbar\":{\"outlinewidth\":0,\"ticks\":\"\"}}}],\"scattercarpet\":[{\"type\":\"scattercarpet\",\"marker\":{\"colorbar\":{\"outlinewidth\":0,\"ticks\":\"\"}}}],\"carpet\":[{\"aaxis\":{\"endlinecolor\":\"#2a3f5f\",\"gridcolor\":\"white\",\"linecolor\":\"white\",\"minorgridcolor\":\"white\",\"startlinecolor\":\"#2a3f5f\"},\"baxis\":{\"endlinecolor\":\"#2a3f5f\",\"gridcolor\":\"white\",\"linecolor\":\"white\",\"minorgridcolor\":\"white\",\"startlinecolor\":\"#2a3f5f\"},\"type\":\"carpet\"}],\"table\":[{\"cells\":{\"fill\":{\"color\":\"#EBF0F8\"},\"line\":{\"color\":\"white\"}},\"header\":{\"fill\":{\"color\":\"#C8D4E3\"},\"line\":{\"color\":\"white\"}},\"type\":\"table\"}],\"barpolar\":[{\"marker\":{\"line\":{\"color\":\"#E5ECF6\",\"width\":0.5},\"pattern\":{\"fillmode\":\"overlay\",\"size\":10,\"solidity\":0.2}},\"type\":\"barpolar\"}],\"pie\":[{\"automargin\":true,\"type\":\"pie\"}]},\"layout\":{\"autotypenumbers\":\"strict\",\"colorway\":[\"#636efa\",\"#EF553B\",\"#00cc96\",\"#ab63fa\",\"#FFA15A\",\"#19d3f3\",\"#FF6692\",\"#B6E880\",\"#FF97FF\",\"#FECB52\"],\"font\":{\"color\":\"#2a3f5f\"},\"hovermode\":\"closest\",\"hoverlabel\":{\"align\":\"left\"},\"paper_bgcolor\":\"white\",\"plot_bgcolor\":\"#E5ECF6\",\"polar\":{\"bgcolor\":\"#E5ECF6\",\"angularaxis\":{\"gridcolor\":\"white\",\"linecolor\":\"white\",\"ticks\":\"\"},\"radialaxis\":{\"gridcolor\":\"white\",\"linecolor\":\"white\",\"ticks\":\"\"}},\"ternary\":{\"bgcolor\":\"#E5ECF6\",\"aaxis\":{\"gridcolor\":\"white\",\"linecolor\":\"white\",\"ticks\":\"\"},\"baxis\":{\"gridcolor\":\"white\",\"linecolor\":\"white\",\"ticks\":\"\"},\"caxis\":{\"gridcolor\":\"white\",\"linecolor\":\"white\",\"ticks\":\"\"}},\"coloraxis\":{\"colorbar\":{\"outlinewidth\":0,\"ticks\":\"\"}},\"colorscale\":{\"sequential\":[[0.0,\"#0d0887\"],[0.1111111111111111,\"#46039f\"],[0.2222222222222222,\"#7201a8\"],[0.3333333333333333,\"#9c179e\"],[0.4444444444444444,\"#bd3786\"],[0.5555555555555556,\"#d8576b\"],[0.6666666666666666,\"#ed7953\"],[0.7777777777777778,\"#fb9f3a\"],[0.8888888888888888,\"#fdca26\"],[1.0,\"#f0f921\"]],\"sequentialminus\":[[0.0,\"#0d0887\"],[0.1111111111111111,\"#46039f\"],[0.2222222222222222,\"#7201a8\"],[0.3333333333333333,\"#9c179e\"],[0.4444444444444444,\"#bd3786\"],[0.5555555555555556,\"#d8576b\"],[0.6666666666666666,\"#ed7953\"],[0.7777777777777778,\"#fb9f3a\"],[0.8888888888888888,\"#fdca26\"],[1.0,\"#f0f921\"]],\"diverging\":[[0,\"#8e0152\"],[0.1,\"#c51b7d\"],[0.2,\"#de77ae\"],[0.3,\"#f1b6da\"],[0.4,\"#fde0ef\"],[0.5,\"#f7f7f7\"],[0.6,\"#e6f5d0\"],[0.7,\"#b8e186\"],[0.8,\"#7fbc41\"],[0.9,\"#4d9221\"],[1,\"#276419\"]]},\"xaxis\":{\"gridcolor\":\"white\",\"linecolor\":\"white\",\"ticks\":\"\",\"title\":{\"standoff\":15},\"zerolinecolor\":\"white\",\"automargin\":true,\"zerolinewidth\":2},\"yaxis\":{\"gridcolor\":\"white\",\"linecolor\":\"white\",\"ticks\":\"\",\"title\":{\"standoff\":15},\"zerolinecolor\":\"white\",\"automargin\":true,\"zerolinewidth\":2},\"scene\":{\"xaxis\":{\"backgroundcolor\":\"#E5ECF6\",\"gridcolor\":\"white\",\"linecolor\":\"white\",\"showbackground\":true,\"ticks\":\"\",\"zerolinecolor\":\"white\",\"gridwidth\":2},\"yaxis\":{\"backgroundcolor\":\"#E5ECF6\",\"gridcolor\":\"white\",\"linecolor\":\"white\",\"showbackground\":true,\"ticks\":\"\",\"zerolinecolor\":\"white\",\"gridwidth\":2},\"zaxis\":{\"backgroundcolor\":\"#E5ECF6\",\"gridcolor\":\"white\",\"linecolor\":\"white\",\"showbackground\":true,\"ticks\":\"\",\"zerolinecolor\":\"white\",\"gridwidth\":2}},\"shapedefaults\":{\"line\":{\"color\":\"#2a3f5f\"}},\"annotationdefaults\":{\"arrowcolor\":\"#2a3f5f\",\"arrowhead\":0,\"arrowwidth\":1},\"geo\":{\"bgcolor\":\"white\",\"landcolor\":\"#E5ECF6\",\"subunitcolor\":\"white\",\"showland\":true,\"showlakes\":true,\"lakecolor\":\"white\"},\"title\":{\"x\":0.05},\"mapbox\":{\"style\":\"light\"}}},\"xaxis\":{\"anchor\":\"y\",\"domain\":[0.0,1.0],\"title\":{\"text\":\"x\"}},\"yaxis\":{\"anchor\":\"x\",\"domain\":[0.0,1.0],\"title\":{\"text\":\"y\"}},\"legend\":{\"tracegroupgap\":0},\"margin\":{\"t\":60}},                        {\"responsive\": true}                    ).then(function(){\n",
       "                            \n",
       "var gd = document.getElementById('65267f3c-a86a-4d3c-a170-c1abba3fb58b');\n",
       "var x = new MutationObserver(function (mutations, observer) {{\n",
       "        var display = window.getComputedStyle(gd).display;\n",
       "        if (!display || display === 'none') {{\n",
       "            console.log([gd, 'removed!']);\n",
       "            Plotly.purge(gd);\n",
       "            observer.disconnect();\n",
       "        }}\n",
       "}});\n",
       "\n",
       "// Listen for the removal of the full notebook cells\n",
       "var notebookContainer = gd.closest('#notebook-container');\n",
       "if (notebookContainer) {{\n",
       "    x.observe(notebookContainer, {childList: true});\n",
       "}}\n",
       "\n",
       "// Listen for the clearing of the current output cell\n",
       "var outputEl = gd.closest('.output');\n",
       "if (outputEl) {{\n",
       "    x.observe(outputEl, {childList: true});\n",
       "}}\n",
       "\n",
       "                        })                };                });            </script>        </div>"
      ]
     },
     "metadata": {},
     "output_type": "display_data"
    }
   ],
   "source": [
    "px.line(\n",
    "    x=np.logspace(0, 2, 100),\n",
    "    y=task_losses_positive[\"antonyms\"][0]\n",
    ")"
   ]
  },
  {
   "cell_type": "code",
   "execution_count": 46,
   "metadata": {},
   "outputs": [
    {
     "data": {
      "text/html": [
       "<script> (()=>{ if (customElements.get('treescope-container') === undefined) { class TreescopeContainer extends HTMLElement { constructor() { super(); this.attachShadow({mode: \"open\"}); this.defns = {}; this.state = {}; } } customElements.define(\"treescope-container\", TreescopeContainer); } if (customElements.get('treescope-run-here') === undefined) { class RunHere extends HTMLElement { constructor() { super() } connectedCallback() { const run = child => { const fn = new Function(child.textContent); child.textContent = \"\"; fn.call(this); this.remove(); }; const child = this.querySelector(\"script\"); if (child) { run(child); } else { new MutationObserver(()=>{ run(this.querySelector(\"script\")); }).observe(this, {childList: true}); } } } customElements.define(\"treescope-run-here\", RunHere); } })(); </script> <treescope-container class=\"treescope_out_46e600d4bd9742999f9e90936e73310c\" ></treescope-container> <treescope-run-here><script type=\"application/octet-stream\"> const root = ( Array.from(document.getElementsByClassName( \"treescope_out_46e600d4bd9742999f9e90936e73310c\")) .filter((elt) => !elt.dataset.setup) )[0]; root.dataset.setup = 1; const msg = document.createElement(\"span\"); msg.style = \"color: #aaaaaa; font-family: monospace; transition: opacity 0.2s; opacity: 0.0;\"; msg.textContent = \"(Loading...)\"; root.state.loadingMsg = msg; root.shadowRoot.appendChild(msg); root.state.chain = new Promise((resolve, reject) => { const observer = new IntersectionObserver((entries) => { for (const entry of entries) { if (entry.isIntersecting) { resolve(); observer.disconnect(); return; } } }, {rootMargin: \"1000px\"}); window.setTimeout(() => { if (root.loadingMsg) { root.loadingMsg.style.opacity = \"1.0\"; } observer.observe(root); }, 0); }); root.state.deferring = false; const _insertNode = (node) => { for (let oldScript of node.querySelectorAll(\"script\")) { let newScript = document.createElement(\"script\"); newScript.type = oldScript.type; newScript.textContent = oldScript.textContent; oldScript.parentNode.replaceChild(newScript, oldScript); } if (root.state.loadingMsg) { root.state.loadingMsg.remove(); root.state.loadingMsg = null; } root.shadowRoot.appendChild(node); }; root.defns.insertContent = ((contentNode, compressed) => { if (compressed) { root.state.deferring = true; } if (root.state.deferring) { root.state.chain = (async () => { await root.state.chain; if (compressed) { const encoded = contentNode.textContent; const blob = new Blob([ Uint8Array.from(atob(encoded), (m) => m.codePointAt(0)) ]); const reader = blob.stream().pipeThrough( new DecompressionStream(\"deflate\") ).pipeThrough( new TextDecoderStream(\"utf-8\") ).getReader(); const parts = []; while (true) { const step = await reader.read(); if (step.done) { break; } parts.push(step.value); } const tpl = document.createElement('template'); tpl.innerHTML = parts.join(\"\"); _insertNode(tpl.content); } else { _insertNode(contentNode.content); } })(); } else { _insertNode(contentNode.content); } }); </script></treescope-run-here><div style=\"display:none\"> <script type=\"application/octet-stream\" >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</script> <treescope-run-here><script type=\"application/octet-stream\"> const root = ( Array.from(document.getElementsByClassName( \"treescope_out_46e600d4bd9742999f9e90936e73310c\")) .filter((elt) => !elt.dataset['step0']) )[0]; root.dataset['step0'] = 1; root.defns.insertContent( this.parentNode.querySelector('script[type=\"application/octet-stream\"]'), true ); this.parentNode.remove(); </script></treescope-run-here> </div>"
      ],
      "text/plain": [
       "<IPython.core.display.HTML object>"
      ]
     },
     "metadata": {},
     "output_type": "display_data"
    },
    {
     "data": {
      "text/html": [
       "<treescope-run-here><script type=\"application/octet-stream\"> const root = ( Array.from(document.getElementsByClassName( \"treescope_out_46e600d4bd9742999f9e90936e73310c\")) .filter((elt) => !elt.dataset.stolen) )[0]; root.dataset.stolen = 1; this.parentNode.replaceChild(root, this); </script></treescope-run-here>"
      ],
      "text/plain": [
       "(23, 129)"
      ]
     },
     "execution_count": 46,
     "metadata": {},
     "output_type": "execute_result"
    }
   ],
   "source": [
    "heatmap.shape"
   ]
  },
  {
   "cell_type": "code",
   "execution_count": 45,
   "metadata": {},
   "outputs": [
    {
     "data": {
      "text/html": [
       "<script> (()=>{ if (customElements.get('treescope-container') === undefined) { class TreescopeContainer extends HTMLElement { constructor() { super(); this.attachShadow({mode: \"open\"}); this.defns = {}; this.state = {}; } } customElements.define(\"treescope-container\", TreescopeContainer); } if (customElements.get('treescope-run-here') === undefined) { class RunHere extends HTMLElement { constructor() { super() } connectedCallback() { const run = child => { const fn = new Function(child.textContent); child.textContent = \"\"; fn.call(this); this.remove(); }; const child = this.querySelector(\"script\"); if (child) { run(child); } else { new MutationObserver(()=>{ run(this.querySelector(\"script\")); }).observe(this, {childList: true}); } } } customElements.define(\"treescope-run-here\", RunHere); } })(); </script> <treescope-container class=\"treescope_out_bf89b5a0a7a24b88a6e119eed5eadfa3\" ></treescope-container> <treescope-run-here><script type=\"application/octet-stream\"> const root = ( Array.from(document.getElementsByClassName( \"treescope_out_bf89b5a0a7a24b88a6e119eed5eadfa3\")) .filter((elt) => !elt.dataset.setup) )[0]; root.dataset.setup = 1; const msg = document.createElement(\"span\"); msg.style = \"color: #aaaaaa; font-family: monospace; transition: opacity 0.2s; opacity: 0.0;\"; msg.textContent = \"(Loading...)\"; root.state.loadingMsg = msg; root.shadowRoot.appendChild(msg); root.state.chain = new Promise((resolve, reject) => { const observer = new IntersectionObserver((entries) => { for (const entry of entries) { if (entry.isIntersecting) { resolve(); observer.disconnect(); return; } } }, {rootMargin: \"1000px\"}); window.setTimeout(() => { if (root.loadingMsg) { root.loadingMsg.style.opacity = \"1.0\"; } observer.observe(root); }, 0); }); root.state.deferring = false; const _insertNode = (node) => { for (let oldScript of node.querySelectorAll(\"script\")) { let newScript = document.createElement(\"script\"); newScript.type = oldScript.type; newScript.textContent = oldScript.textContent; oldScript.parentNode.replaceChild(newScript, oldScript); } if (root.state.loadingMsg) { root.state.loadingMsg.remove(); root.state.loadingMsg = null; } root.shadowRoot.appendChild(node); }; root.defns.insertContent = ((contentNode, compressed) => { if (compressed) { root.state.deferring = true; } if (root.state.deferring) { root.state.chain = (async () => { await root.state.chain; if (compressed) { const encoded = contentNode.textContent; const blob = new Blob([ Uint8Array.from(atob(encoded), (m) => m.codePointAt(0)) ]); const reader = blob.stream().pipeThrough( new DecompressionStream(\"deflate\") ).pipeThrough( new TextDecoderStream(\"utf-8\") ).getReader(); const parts = []; while (true) { const step = await reader.read(); if (step.done) { break; } parts.push(step.value); } const tpl = document.createElement('template'); tpl.innerHTML = parts.join(\"\"); _insertNode(tpl.content); } else { _insertNode(contentNode.content); } })(); } else { _insertNode(contentNode.content); } }); </script></treescope-run-here><div style=\"display:none\"> <script type=\"application/octet-stream\" >eNrFVkuP4zYM/iuCC+w4xdiTx2R2x3kAeyl6KHpoDz20RSDbtC2MIrkSPZnsIv+9lOwkk8SZtuigjQ+xKZLfR1KkNLe4lbCM0QDYTNewMloj+8pqbQUKrRJmQHIUzzBjhVYYFXwt5DZha620rXlG8k0lECL/kbDakEQKi5F3HeG2JqnSisQpz55KoxuVR5mW2iSt6Yx1X6kkBfIncqwSVggkNYWgcMZqnudClZGEAhM2zioHoiCqQJQVSUbx1LlRyAVxPph1L9GzsCIVUiAx5w3qg24kFBqhrMgiK75Au9rR3c3v2vTMD+mJTKMI05DMZkbUyFx8ixte11Jk3GXsTmcILnoDfH2zDMPBYkkJJTyLLIdCWbZgWAkbl4A/UbZ/1DmEg7jSFmO/TqEBslUNyoX8OXNendGvv/etfM9VLoGWVSPlrEWIiebPWiuShhttngbsNQf9C4nc0okYReaENZhCmzVXGcRKb8KBry8BhBcrLGqN5mwyHpAfUbDwjHUsQZVYscWCDZ3Km9QNYGMU5Z2BtHAkVjXKMTt3bStRoOPnFdzLjp4rCCHtKpXrTWzgjwYsflZi7cv1neFrCNucDJyP2QVQ3diqTeOsJ8Y9xKIN440o/z4Hx6ItJOqylG1Xrnzn0G6tnS8nAYm3DJ5pg3eVdOz8d/wEW5f0wASOUKccZ5Jb+wM1Z+c3DA4+V2vahsEefDegfNL293t8Ob/ra4BcPDPvcBGcjo+AIU8pUnhZBMOAaUVkKGxFem9t+/5YQ2ezjzKgtmsHFlmAMZCvapoZUGmZg/E7xg+Sb/hH93Qjy5skTCCnHqXY4oLUeUpQijhcGXY7dqq2atmRdi4sgW73Q+1ckS2Z5CnIJEmB+gVescr8b9aL1w62aOQmWzcAh7MjllB+3KVSuwl5FbPSz2AukXNunizwksqkLq0TpTE8E1Xchkvvc9mbB2+TZBVkT5APBuzbwZGDM+032uufMPQTOmE3v42naXbzf9I7NbpK8uE/IOnq6IAbY10Ba03nFJgeXGHfD9a3ggeKfL/Za3v8fVCP4SG84CVKLOyqEMbiSquV2/49rfVWK8Xjqeum3lKxf02/rfg5RRfVmpuSbhYtDd/QOzqsuJtWG24UHQyrfbr3k6EoeDaa9CjWNO2/Hm4/prvsOJ8dSieKhrEP9njFSvwFiZuoNDwXVM1wNJnmUN4ybbgqgQ3ZMH7IqluG9E23N0M6rYj5Y6CHykW477Ttz3K2D2YXbypQK0qS5LWF/K+H7z8GfwOhHbkewyvBS00n+VWd9+DRB3F+F6VKKSbyRXA4AifpA9zDp4+Po/z+fjoZcnobp8PHgj/y6ejTOOiMusP69OQ4rygpt7TnQtVNd78NPNFUvwS9TrqYaLGNhy4M3pj+O1+v8fuO7mD5QeJMNet6Gys6rQzfUm7x4T4cT27ZaPxIGYpj9qFEdyshZ8uzv9cAJ6kMjpp0YVn+CUFGkz0=</script> <treescope-run-here><script type=\"application/octet-stream\"> const root = ( Array.from(document.getElementsByClassName( \"treescope_out_bf89b5a0a7a24b88a6e119eed5eadfa3\")) .filter((elt) => !elt.dataset['step0']) )[0]; root.dataset['step0'] = 1; root.defns.insertContent( this.parentNode.querySelector('script[type=\"application/octet-stream\"]'), true ); this.parentNode.remove(); </script></treescope-run-here> </div>"
      ],
      "text/plain": [
       "<IPython.core.display.HTML object>"
      ]
     },
     "metadata": {},
     "output_type": "display_data"
    },
    {
     "data": {
      "text/html": [
       "<div style=\"display:none\"> <script type=\"application/octet-stream\" >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</script> <treescope-run-here><script type=\"application/octet-stream\"> const root = ( Array.from(document.getElementsByClassName( \"treescope_out_bf89b5a0a7a24b88a6e119eed5eadfa3\")) .filter((elt) => !elt.dataset['step1']) )[0]; root.dataset['step1'] = 1; root.defns.insertContent( this.parentNode.querySelector('script[type=\"application/octet-stream\"]'), true ); this.parentNode.remove(); </script></treescope-run-here> </div>"
      ],
      "text/plain": [
       "<IPython.core.display.HTML object>"
      ]
     },
     "metadata": {},
     "output_type": "display_data"
    },
    {
     "data": {
      "text/html": [
       "<treescope-run-here><script type=\"application/octet-stream\"> const root = ( Array.from(document.getElementsByClassName( \"treescope_out_bf89b5a0a7a24b88a6e119eed5eadfa3\")) .filter((elt) => !elt.dataset.stolen) )[0]; root.dataset.stolen = 1; this.parentNode.replaceChild(root, this); </script></treescope-run-here>"
      ],
      "text/plain": [
       "array([[ 72, 119, 117, ...,  35,  67, 128],\n",
       "       [ 13,  33,  69, ...,  44,  56, 128],\n",
       "       [103, 118,  78, ...,  44,  42,  64],\n",
       "       ...,\n",
       "       [106,  27,  15, ...,  42,  37, 128],\n",
       "       [ 89, 116,  73, ...,  34, 127, 128],\n",
       "       [ 73,  39,   1, ...,  37,  68, 128]])"
      ]
     },
     "execution_count": 45,
     "metadata": {},
     "output_type": "execute_result"
    }
   ],
   "source": [
    "sorted_idx"
   ]
  },
  {
   "cell_type": "code",
   "execution_count": 29,
   "metadata": {},
   "outputs": [
    {
     "data": {
      "application/vnd.plotly.v1+json": {
       "config": {
        "plotlyServerURL": "https://plot.ly"
       },
       "data": [
        {
         "coloraxis": "coloraxis",
         "hovertemplate": "x: %{x}<br>y: %{y}<br>color: %{z}<extra></extra>",
         "name": "0",
         "type": "heatmap",
         "x": [
          "15947",
          "6765",
          "2992",
          "20832",
          "15554",
          "18840",
          "2931",
          "6413",
          "7106",
          "6171",
          "30618",
          "25056",
          "32643",
          "14086",
          "19515",
          "23613",
          "29934",
          "32417",
          "15356",
          "3757",
          "2939",
          "1181",
          "19592",
          "27832",
          "9991",
          "8508",
          "12606",
          "4448",
          "19363",
          "7967",
          "6629",
          "16340",
          "7714",
          "10787",
          "18285",
          "4370",
          "13458",
          "18218",
          "6108",
          "19097",
          "9790",
          "9178",
          "12943",
          "25474",
          "25712",
          "18416",
          "17636",
          "25759",
          "6756",
          "27270",
          "18400",
          "6013",
          "8125",
          "16016",
          "30888",
          "16415",
          "16490",
          "211",
          "9782",
          "25534",
          "572",
          "3382",
          "22136",
          "8250",
          "16313",
          "26331",
          "9600",
          "10720",
          "30814",
          "5991",
          "14612",
          "24993",
          "24925",
          "5392",
          "16996",
          "3476",
          "22906",
          "26127",
          "27268",
          "850",
          "24206",
          "32320",
          "16671",
          "11618",
          "23906",
          "7491",
          "11491",
          "26987",
          "26594",
          "27401",
          "6594",
          "2930",
          "7578",
          "6503",
          "29144",
          "5579",
          "23374",
          "5633",
          "25878",
          "11172",
          "18803",
          "23514",
          "23682",
          "17761",
          "22199",
          "8633",
          "31620",
          "23312",
          "3113",
          "9662",
          "7739",
          "25576",
          "11173",
          "20805",
          "26924",
          "10633",
          "9488",
          "30247",
          "23436",
          "2914",
          "7114",
          "1878",
          "1830",
          "1818",
          "6780",
          "2539",
          "19260",
          "19112"
         ],
         "xaxis": "x",
         "y": [
          "location_continent",
          "football_player_position",
          "location_religion",
          "location_language",
          "person_profession",
          "location_country",
          "country_capital",
          "person_language",
          "singular_plural",
          "present_simple_past_simple",
          "antonyms",
          "plural_singular",
          "present_simple_past_perfect",
          "present_simple_gerund",
          "en_it",
          "it_en",
          "en_fr",
          "en_es",
          "fr_en",
          "es_en",
          "algo_last",
          "algo_first",
          "algo_second"
         ],
         "yaxis": "y",
         "z": [
          [
           0.9771580045525267,
           0.8956385577420797,
           2.4362577015249864,
           2.411453218647786,
           0.6743353051248177,
           0.5100486066859055,
           0.17309585545583936,
           0.8775009702621924,
           0.7937499562168735,
           0.30232821248969033,
           0.5472238886890203,
           0.27216946445149887,
           0.12054802990540586,
           0,
           0.48232079427204505,
           0.2047843143505288,
           1.173423720675651,
           0.952578633374042,
           0.14119677121229182,
           0.19225077550902242,
           0.2842459520735061,
           0.2529819998567164,
           0.20143231949760457,
           0.2741634079444804,
           0.49967138242630743,
           0.3196131049391906,
           0.3132634347954806,
           0.9100920425090404,
           0.3136976745617234,
           1.53200843108865,
           0.258098258795634,
           1.4924075179678442,
           0.20597015570059596,
           0.7305822775114144,
           0.9426476120767427,
           0.19441960692443971,
           0.5806477668412204,
           0.20050708223947458,
           0.5610155310104972,
           0.46602668358204813,
           0.515638410022526,
           0.2471733410279484,
           0.3302699636338027,
           1.09042341382766,
           0.3299632685469686,
           0.49208555960554784,
           0.724510310694336,
           0.1393283785876742,
           0.4492245473094899,
           1.5839887812738809,
           0.47167496202557657,
           1.286879361815043,
           0.324810236173868,
           0.42808561100272857,
           0.4607196825272154,
           0.5861566286261177,
           0.29188999869985455,
           0.5274647462762119,
           0.5144299649033037,
           1.1828264464446159,
           0.8683150288846072,
           0.6597221708096705,
           0.460736558062581,
           0.6137442381622222,
           0.8258053567178125,
           0.4978973182412133,
           0.41030497594756943,
           0.5663066228357112,
           0.5080594421713324,
           0.18619752516718127,
           0.652630364132837,
           0.4793277863891906,
           1.5329048601281663,
           0.553516168718985,
           0.3381506736005191,
           0.9351833827028632,
           0.9177972495206154,
           1.025068706523655,
           0.5431722021896778,
           1.5306732901873394,
           0.6757199007802259,
           0.7159660601222398,
           0.4384221598561536,
           0.5948357695719514,
           0.4738849786306774,
           0.6095843315450982,
           0.9712205690654017,
           0.3221247135620222,
           0.5449533141371969,
           0.34627356831338846,
           0.3566409237038825,
           0.3086148208723384,
           1.0373107046691163,
           0.7626584068348542,
           0.5608338401560548,
           0.4389741827379441,
           0.4104651870368278,
           0.6814384808362316,
           0.6072887808105719,
           1.1176834776688096,
           1.1669399633275024,
           1.7216102047454402,
           0.5921177481558634,
           0.9046503337575139,
           0.635647007527382,
           0.592447822465225,
           0.3554595843542059,
           0.4716652574870822,
           0.7492138070458728,
           1.0062756935687858,
           0.9191435949521579,
           0.5680034121818575,
           0.8256182837267446,
           0.5728550562035696,
           0.5031058706294353,
           0.7929777300433399,
           0.529524534007958,
           0.5680335276315448,
           0.996578464320482,
           1.1717408335493844,
           0.6829185407138706,
           0.5733092892735219,
           1.2003429632737292,
           1.461886650450612,
           0.8965472628512431,
           0.9840773928031455,
           1.1716077787441002,
           0.6647558494114681
          ],
          [
           3.982693600963765,
           2.852397924540722,
           1.1205181844866476,
           1.3184001012954418,
           3.002489989302557,
           0,
           1.3150767638577878,
           2.828201064538591,
           0.49285668629054685,
           0.35379564139568137,
           1.2228405253611563,
           1.205404869175537,
           0.5259523690988653,
           1.0503050179659938,
           0.3758569839490359,
           0.6257099465388299,
           0.4713123425343464,
           1.5650759843890667,
           1.2541647000866338,
           1.6299851493113833,
           0.4719967726650394,
           1.2184843113660315,
           0.8000748419115747,
           0.2832457268902292,
           0.5033298636491627,
           1.4332843939410884,
           2.2870964536908778,
           2.387035478240981,
           0.6337375810002666,
           0.18574487514723667,
           0.4709758775825569,
           1.5402412382929984,
           0.7293428227609696,
           1.1324272058358624,
           1.2895496742084769,
           1.912250895531138,
           1.2181151616020234,
           1.223106118085959,
           0.7933234353468956,
           1.0450184387285273,
           2.2628087342706937,
           1.092588493580883,
           0.9395312333948094,
           0.10207647893908738,
           0.6261602034652074,
           1.774923475562613,
           1.6246422370173494,
           0.9297160409070885,
           1.6287289366331907,
           1.1859151467947806,
           0.6124693077051525,
           1.2231888273527485,
           0.905181514925434,
           0.9548126717210993,
           0.4805444630138256,
           1.2685393099356108,
           1.332897195524104,
           1.4219943355145401,
           0.6419257164238399,
           1.1530834621473907,
           1.139198843063505,
           0.9914621739384992,
           0.7468933126686572,
           0.9058046149645319,
           0.5976313298204596,
           0.9503065067278548,
           1.1632527151682819,
           0.6115189772569197,
           1.3269869326791592,
           0.6792526628806961,
           0.7785029159201107,
           0.5835061162167835,
           1.0211809324233256,
           1.154549344596869,
           0.9250618453751471,
           1.4305893496002062,
           0.5196565699046627,
           0.9712867148153396,
           0.7007628183805678,
           0.6682901804671093,
           1.1823523140947796,
           1.3997431661128648,
           1.1781961276295554,
           0.6527200957738168,
           1.319383570866766,
           1.2476859068709194,
           0.5499048398815719,
           0.8448850047857908,
           0.9698754910918886,
           1.137338900402063,
           1.1515199778907845,
           0.8412326180435423,
           1.147514673952763,
           0.6324108930972692,
           0.9469784801779393,
           0.7334543755340273,
           0.8068974156270086,
           1.0591979188632314,
           0.8453050292988769,
           0.731727410862151,
           1.0063159567556121,
           0.8661187622565846,
           0.5876162318812067,
           0.9673761196354346,
           1.0906897142581606,
           0.9138879204374192,
           1.0385185958911838,
           1.0748545138352024,
           0.8748004980722659,
           0.9273767148330733,
           0.5800101249749151,
           0.7798675422074152,
           0.81055539029983,
           0.5053339498676591,
           0.6630660112111091,
           0.8873127781882006,
           1.0115182267164613,
           0.6364791017145435,
           1.3855749367834247,
           0.9880398349277267,
           0.6551421582387187,
           0.796602722019818,
           0.6984287971177794,
           0.8473343058270331,
           0.7783704875185433,
           0.7662299978158293,
           1.0412916254224893,
           0.7909705783225577
          ],
          [
           0.46233838852659054,
           0.2674478592373796,
           1.8676223639398757,
           2.0268640140273657,
           0.47636369677679236,
           0,
           0.22865084341474973,
           0.8877129334048637,
           1.0865437406789464,
           0.19094837102212195,
           0.2467439484571019,
           0.26685346182250796,
           1.1415267944319674,
           0.018563198390674055,
           0.281210558622267,
           0.8358974364040569,
           0.8825381476115874,
           0.15908722043701015,
           0.4510915811006014,
           0.4646327291277734,
           0.22071306078040692,
           0.32928343768240637,
           0.030750203348413295,
           0.24091266671385544,
           0.31320575315848853,
           0.7853214427249539,
           0.3232548240581532,
           0.4007041278519344,
           0.385286182446649,
           1.851367393323904,
           0.322602111104839,
           1.2685259523959247,
           1.080901500395292,
           0.8139893193970174,
           1.2638504465589326,
           0.609582446362931,
           0.9450733597147183,
           0.2899995278791485,
           0.575876898695159,
           0.38557831009702387,
           0.7811118434331933,
           0.6574033204293593,
           0.6082545053608635,
           0.8727664102586487,
           0.4190305359403296,
           0.4932139205581766,
           1.2635941965662312,
           0.5091931891902423,
           1.569786022898606,
           1.390179477240174,
           0.7709265988187063,
           1.4250839763304235,
           0.48879800203568735,
           0.1437568447140942,
           0.6689622503019471,
           0.5289944318293525,
           0.549545147804544,
           0.36978093038023124,
           1.1370059802580506,
           0.3432052454423941,
           0.9711226634287615,
           0.8035559947992518,
           1.0194045668354816,
           0.5088579646402343,
           0.7399699335759122,
           0.35674833619354107,
           1.1204421290391162,
           0.7575267956402074,
           0.5894282510431749,
           0.5413836582714393,
           0.10445185947942177,
           0.5847519935782816,
           1.328552698034434,
           0.2483760403112443,
           0.40406047927692923,
           0.47494370664121127,
           1.4725534375327431,
           0.9048224166856412,
           0.49153149503342797,
           1.2476435040509648,
           0.6723982108080054,
           0.9479047963474638,
           0.8622953771745652,
           0.6081841944670048,
           0.9982627221246003,
           0.7403592553489605,
           1.3519320195309643,
           0.5744757311974344,
           1.161232879732578,
           1.0095365370497997,
           0.5869487150858894,
           0.44230270109722797,
           1.2469015662256038,
           0.9089039162363799,
           0.6596364577208614,
           0.7100614003089364,
           0.32097859442224586,
           0.8914577276047272,
           0.6255530191273257,
           1.6410556366938285,
           0.7698038678896628,
           1.1138389344458164,
           0.691298541384223,
           1.4257832519644282,
           0.9661989697804556,
           0.4927995900466728,
           0.5573259540695228,
           1.270317297965434,
           1.457808868232685,
           1.0285010856600927,
           0.9291579136817459,
           0.34183581674641983,
           0.620479644207279,
           0.9400289682991313,
           0.871979228767749,
           1.5234114158456873,
           0.948515887576508,
           1.1397245968736283,
           0.7286625053188676,
           0.6487548990192915,
           1.2367088857128319,
           1.087903240018398,
           1.2830601822671528,
           1.237123076622997,
           1.194168255323723,
           1.2412924973193338,
           0.9242984571590339,
           0.7586710261462164
          ],
          [
           0.4488519581929509,
           0,
           3.1687728956970878,
           0.6663876714281644,
           0.3677146176751159,
           0.9193254425516064,
           0.9061442785878666,
           0.41187390350852876,
           0.36794858423612764,
           0.16101682340527285,
           1.3837090911339853,
           0.4095099350193347,
           0.6552927301790413,
           0.17524185057315594,
           0.3117788224750853,
           0.8732706037542832,
           0.7314034638925786,
           0.06045974843671384,
           0.41806696499581325,
           0.20889127705121102,
           0.13747476864258115,
           0.5070609604628071,
           0.3735960514563186,
           0.22371087561026828,
           0.30492989887687866,
           0.36309123635893115,
           0.1882395439980413,
           0.32022531945362875,
           0.308087051453134,
           0.3938512277915187,
           0.3970267928396145,
           0.9792600603479831,
           0.49351719049621806,
           0.3764308255781644,
           1.1853839962253632,
           0.5826522042851375,
           0.3312182533636565,
           0.3955818637089221,
           1.1023611620224532,
           0.43232213285078397,
           0.37054404130559937,
           0.6979104606383303,
           0.34297448834125394,
           0.5697376394641873,
           0.6617057123399968,
           0.7760723096611947,
           1.2296231304116858,
           0.6366974732843559,
           0.9020651455417329,
           1.5188264826317655,
           1.1184996528441422,
           1.6260716256749417,
           0.6216751171346749,
           0.18368439121889293,
           0.6157405688332551,
           0.9510349723189157,
           0.2682264038675016,
           0.4663412214721301,
           0.4611362240582589,
           0.5370468128125367,
           0.8079649271678047,
           0.8599337506570524,
           0.5409199899997964,
           0.9626297503494724,
           0.3991230474802773,
           0.6511605042751859,
           0.7868688410306817,
           0.4981663932847929,
           0.4911934985286113,
           0.6881883732043583,
           0.5061023952341763,
           0.48040108702499623,
           1.393763217646173,
           0.5216122056614795,
           0.8056437019651255,
           0.5405299718328628,
           0.8736591659266829,
           0.5706477028627349,
           0.7360050040760634,
           1.4089172766634328,
           0.6534942711579039,
           0.6346216167720902,
           0.5496438526309868,
           0.6677577542980885,
           1.0267116635967835,
           0.43927517753795553,
           1.1590620781087273,
           0.6839659108425218,
           0.49952912505960523,
           0.7700168319869051,
           0.6669948183826716,
           1.0627167801065394,
           1.1493149199333617,
           0.7515250942163404,
           0.6203366761152119,
           0.8488669135334415,
           1.090016447623137,
           0.550355767836089,
           0.5495302474571062,
           1.6695749794746622,
           0.8979827492483753,
           0.94604982610074,
           0.5631915941383511,
           0.8681708409237382,
           0.4695414451528426,
           0.6066523465054006,
           0.9692838495103027,
           0.8792790845508004,
           0.7580428142764578,
           1.2681231638133204,
           0.7414447727184458,
           0.870159358597486,
           1.0229006459885674,
           0.939626638904377,
           0.7228131824212027,
           0.8225974633715367,
           0.7240360997673011,
           0.8823696837897783,
           0.799650191197372,
           0.8114037327276815,
           0.6772184599192158,
           0.6932263110532371,
           1.028557652259283,
           1.0228475723011634,
           0.7190261241926071,
           0.9070674198700738,
           0.7434908262247027,
           0.9487595836341327
          ],
          [
           5.035861137733507,
           4.348447537756605,
           0.3531237502300645,
           0.08120749967871121,
           2.127732767611492,
           0.6498510825980053,
           0.294599454650067,
           3.146930468758097,
           0.9175629647009464,
           0.23959844308714828,
           1.4611185762678283,
           0.5429348763834206,
           0.6038573790212239,
           1.1211077385555683,
           0,
           0.5766185552933784,
           0.26606649841710245,
           1.799443960220007,
           0.8515613625433962,
           0.19713906458419833,
           1.0590399817886778,
           0.4059025933587929,
           1.1115329218094743,
           0.3424190066908012,
           0.39823899053186623,
           1.8007257602118896,
           1.1778384097858308,
           0.85907498155881,
           0.2335468893988828,
           0.7622597449992851,
           1.016570390418689,
           0.4918656848343935,
           1.30235334559842,
           1.9932306628681697,
           2.7557399675551335,
           1.9421702851582603,
           2.315530441459786,
           1.3113157373139832,
           1.5038780065733306,
           1.7201728241114238,
           1.9943751560556016,
           1.2482135792517044,
           1.0595194863955217,
           0.1556144056196533,
           0.3354904781361347,
           2.2144924556690024,
           1.4679679434620234,
           0.6412261669991093,
           1.6176980423364113,
           0.7588411614867374,
           0.9272182666236918,
           1.6448504798425856,
           0.8584543014289808,
           0.9928196218339224,
           0.7810567612092633,
           1.1014776544228155,
           1.3220039047321603,
           0.6314054389916056,
           0.8243402455365353,
           0.3985850548100365,
           1.2414681549722568,
           1.231323239784114,
           0.5033162554616238,
           0.5930679321557858,
           0.6322357276078546,
           0.7598437290666644,
           1.1480016330625775,
           1.2124004615149044,
           1.559094586135689,
           0.6871058791451109,
           0.4271566309102401,
           0.7570977822576681,
           0.9275805467516042,
           1.6822404266873154,
           0.5065322161972922,
           0.8998845517803129,
           0.4998615599625828,
           1.9605766581776995,
           0.945152986302433,
           1.0738131984725923,
           1.6939353342047017,
           1.3112553568540188,
           1.4975958590431668,
           0.7813413516808905,
           0.9658978923058834,
           1.5580066696658321,
           0.19311151731064619,
           0.8263916965013384,
           1.13464094878401,
           1.5883524912894906,
           1.1148299679250742,
           0.6446444988064477,
           0.9896148676368263,
           0.6579332235152181,
           1.122769671093889,
           0.8539503298191274,
           0.9106199966148222,
           0.7920959018191024,
           0.9483881345100046,
           1.0135048068487336,
           0.5272425158055745,
           0.9110652731049838,
           0.5665642515902563,
           0.8137098698845031,
           1.4258672528725007,
           0.6499432123495168,
           1.4148490253807477,
           1.167205198510262,
           0.6856200920252908,
           1.2732146057312266,
           0.7318605642744279,
           0.8062127197572575,
           0.4363773252719414,
           0.5725681427768449,
           0.7874479090723314,
           1.0056504464776101,
           1.5109350076604369,
           0.8555536515554968,
           1.0942655013962113,
           0.5367536994981753,
           0.8617590165082446,
           0.9897532149219093,
           0.7705546100290228,
           0.7935218672158285,
           1.180227427093942,
           1.0756334662419849,
           1.059627497621455,
           0.8338987798887978
          ],
          [
           2.052291379189334,
           2.8847471829341944,
           3.502902716082948,
           2.121967176942663,
           0.6858534381797162,
           2.029699944532779,
           0.5861812448448952,
           1.012219854609877,
           0,
           0.9983097710862459,
           0.6312367622275065,
           0.6883712292413036,
           0.8249931631084232,
           0.3636347025283242,
           0.7292665294934928,
           0.7484569147205651,
           1.7839702810210012,
           0.7726687669639145,
           0.6294613626995375,
           0.6036761574328471,
           0.6342563628952537,
           0.7053652027056883,
           0.3197035659774034,
           0.6961798388373334,
           1.014305635602824,
           0.3003445546257546,
           0.7109057316391802,
           1.1638598201175372,
           0.5778034331604299,
           2.2256914904534586,
           0.2971087840480253,
           1.575017026244863,
           0.959226464013054,
           0.42358748568152615,
           1.2933063912431406,
           0.31587650138805695,
           0.5919527525361333,
           0.2947258333175309,
           0.7846462553391408,
           0.35196973518142155,
           0.7729476568378427,
           1.2357990397391796,
           0.5140391925220935,
           0.5299352240692458,
           0.8720797443074059,
           1.199992913571683,
           1.8576618682478574,
           0.5930493830810023,
           1.133330161843299,
           1.5758318894409462,
           1.2947501200247258,
           1.3378187869569067,
           0.8846780184688859,
           0.9552665667950194,
           0.9924984959978435,
           0.8805861302334601,
           0.7339185665939941,
           1.1744656037579742,
           1.09904557287822,
           0.9903325605119642,
           1.102495510161562,
           0.7768540783221667,
           0.7398467189654019,
           2.098942338806579,
           0.8092882836571755,
           1.222960748736273,
           0.3665631010506716,
           0.5420725004782878,
           0.8847832791553585,
           0.5459869737891906,
           0.9770073422078603,
           0.7241764589837446,
           1.7611464035797395,
           1.2671671782559373,
           0.9887510945087287,
           1.1670133212883513,
           1.0579292693895108,
           1.2606210945304013,
           0.5195239618139782,
           1.6592351354221406,
           0.995454523312485,
           0.9048654682609559,
           0.5996499614780983,
           0.7264322945122003,
           0.8980190548763217,
           0.4512174779840006,
           1.1722956759238548,
           0.6171847630940502,
           0.8294278255003412,
           0.5379343683982947,
           0.4769421402935238,
           0.8591673344068297,
           1.7265572473438975,
           0.8697899326674322,
           0.8408831628813404,
           0.7266104979724943,
           1.3788952445016847,
           0.7211906766207062,
           0.6473861529203532,
           1.1929009616410318,
           1.4493860301877608,
           1.6814852076142257,
           0.9067419081946858,
           0.7840956758170602,
           0.6999493902063856,
           1.0588365401544722,
           0.9273296547385607,
           0.9938023439088689,
           0.5206318245523165,
           1.5488144712200045,
           0.7760850650832941,
           1.0128828534818781,
           1.363821370617248,
           0.9555778543550648,
           0.6949524725136339,
           0.8439345420875369,
           0.7416676872038704,
           1.0050032914345182,
           0.692479695988011,
           1.1266299463361034,
           0.734692823719209,
           0.820591957524533,
           1.157408267016917,
           1.3659330360651634,
           1.04591070626575,
           0.9953845732368851,
           1.1408593471446542,
           0.8419892368337014
          ],
          [
           0.48084305819727663,
           1.4231043524478102,
           2.2070891737865157,
           1.227836715982234,
           0.401515111531925,
           0.7901692875032729,
           0.5600144467790005,
           0.7717205709101576,
           0,
           0.0186415138234344,
           0.3364758329664437,
           0.43781530442093786,
           1.0470963775315718,
           0.3670524904913125,
           0.23097248804216367,
           0.12022205823361068,
           1.766322532630772,
           0.6119693154012653,
           0.5524095132649358,
           0.2896597640456819,
           0.6006684685188659,
           0.34575460115166157,
           0.27298347113112414,
           1.0233114705363762,
           0.8573552598160487,
           0.26029172736203243,
           0.6039400085828934,
           0.7389166417315808,
           0.582583518177759,
           0.6814588643806662,
           0.24635568464177213,
           1.0191659147104701,
           0.3371514621782534,
           0.5022027900444834,
           0.7806292803756895,
           0.19731504661787264,
           0.6987559581000443,
           0.22041584285989752,
           0.4669513320283303,
           0.286239419294496,
           0.5188605473674498,
           0.7826897506560305,
           0.35618405846133255,
           0.8944719938174146,
           0.8057266734982749,
           0.6593218494881187,
           1.9689872614020436,
           0.4316961450589204,
           0.7584242553064283,
           1.264472415514816,
           0.9690277825800264,
           1.514572519264214,
           0.6942800010931821,
           0.954279762178209,
           0.45490676911633576,
           0.6631955614403794,
           0.6112649120224602,
           1.0489495501096529,
           1.1556226871508362,
           0.8799028871288525,
           0.6445323132714131,
           0.5323767212235291,
           0.8997237561889458,
           1.6022602588227595,
           0.7551764364383653,
           1.044422064123664,
           0.3044660536247443,
           0.5986353900681115,
           0.9740955737466965,
           0.6255397315252865,
           0.8909281780729872,
           0.844411310675517,
           1.352251607901686,
           1.461563729639344,
           1.0735569502227058,
           1.3183542135141582,
           1.1378475179765901,
           0.817683673217669,
           0.6580028463221286,
           1.7635468288325162,
           0.8229876816772417,
           0.4393990265238401,
           0.541921885491967,
           0.9647537032986936,
           0.6795758793205663,
           0.6677842524619455,
           1.265629961496344,
           0.782048751415392,
           0.8614568917350872,
           0.5523824433170231,
           0.41136046517691205,
           0.8527462133760345,
           1.5118073766746598,
           1.015079801123787,
           0.527855422694904,
           0.6711358904136465,
           1.3349268966078094,
           0.8437143517813464,
           0.7643866667936705,
           0.8911490293634048,
           1.3778018144369057,
           1.3707087565111613,
           0.9113898844375499,
           0.6522297230842206,
           0.6313359249784148,
           1.0351647662287613,
           0.7540834568359817,
           0.973318104459535,
           0.6199402790028834,
           1.4067576842545986,
           0.7665659183419833,
           0.9410737679634736,
           1.553964129797543,
           1.1707781483764088,
           0.8851228796599264,
           1.0651887429911497,
           0.8498961641175748,
           0.8762531575766068,
           0.5370098177592573,
           1.1735992578740453,
           0.8494949331870078,
           0.7304232367053092,
           0.9554973792924824,
           1.3049217215452074,
           1.3089504492935506,
           0.988290201102053,
           1.2518238680607476,
           0.8340982800356715
          ],
          [
           0.31360060258267125,
           0.5305035789628079,
           3.0970611973659725,
           0.09206848059598786,
           0.1612096211326833,
           0.8474141341002371,
           0.5136903294113179,
           0.2613390080743046,
           0.4813097809733585,
           0.40856309732065027,
           0.8598612896449707,
           0.43381544826282886,
           0.4062576697343151,
           0.04548781188430017,
           0.6613096600955545,
           0.7534247012160612,
           0.628974845464242,
           0.202308217980056,
           0.2303247601030958,
           0,
           0.12115196899834127,
           0.2203724424969661,
           0.4555165662907973,
           0.09517537592940718,
           0.17562684779175902,
           0.3513203014820091,
           0.09687838375798889,
           0.20315956275303898,
           0.12235089820604954,
           1.0418663589047021,
           0.5288666465883737,
           0.8917636981641172,
           0.5013218754993763,
           0.40192673471795176,
           0.49127542472458147,
           0.607238473735679,
           0.3162913003479583,
           0.42812148255320354,
           1.0883626763624215,
           0.48328494696791024,
           0.23844064183217273,
           0.7317024767943435,
           0.5381643762449935,
           0.4689440824908538,
           0.5003796563513134,
           0.8589009018607081,
           0.8720152087569769,
           0.5185692354587476,
           0.8652351665217823,
           1.783831472434554,
           0.9506971125331576,
           1.2363285716450967,
           0.39253517872085103,
           0.2632675053017894,
           0.6578134612515707,
           0.43494404868338155,
           0.4387090470916586,
           0.360500943732932,
           0.5300662288512417,
           0.2699622160700731,
           0.5266477516601258,
           0.5112130344068027,
           0.40125834436834584,
           1.2016846063626891,
           0.23699338661842653,
           0.4890429553333215,
           0.6809538951349805,
           0.3683263651317445,
           0.26594333725022046,
           0.45381559916053127,
           0.46466680988714143,
           0.3237223574580149,
           1.3334826063818814,
           0.33991720343226406,
           0.612915692963626,
           0.38746266459426276,
           0.5405851726284535,
           0.2511840342594951,
           0.6651461051315166,
           1.2578830062330673,
           0.6305790415915937,
           0.9616815426947494,
           0.4792841777179393,
           0.6100075719924601,
           0.8474280032371165,
           0.5066533575029627,
           1.1268782389349283,
           0.465889998505579,
           0.5396129387614819,
           0.8788152100261243,
           0.5418779536338342,
           1.0126671659901245,
           0.9599022549298106,
           0.6480653194031384,
           0.5612110056922309,
           0.7450496745397083,
           0.5513596777636919,
           0.4219478559478522,
           0.6121741688651776,
           1.6695750789890917,
           0.6446738937325597,
           0.8574456096125352,
           0.4550177421781257,
           0.8854263948651533,
           0.5015522145342255,
           0.5366945663290025,
           0.6852787953001714,
           0.6106204365902029,
           0.6480766499844918,
           1.1545200890704113,
           0.5923729209349108,
           0.5298353916420352,
           0.7963425025484193,
           0.6049079052098403,
           0.5130560417671676,
           0.6330949274063322,
           0.6480585224619356,
           0.765761528854409,
           0.869445075457573,
           0.6008380226687402,
           0.719014480510285,
           0.5284688606482407,
           1.0281821860270997,
           1.0729868854486901,
           0.49743741852478107,
           0.7225656529455023,
           0.7869639905240263,
           0.8129027532828399
          ],
          [
           0.4661562295137129,
           0,
           0.11291728488490801,
           1.4909654279864968,
           0.5646208027744288,
           0.9009778143084358,
           0.4502089710351305,
           1.1765485695568232,
           1.390231828740327,
           1.0689707080931168,
           1.2902932999991799,
           2.085665953138555,
           1.43200467048592,
           1.0496799342730911,
           1.3804099955495317,
           2.4104025709684476,
           0.6989946013703179,
           1.8015346273045731,
           0.8006414181221468,
           1.39895873170361,
           1.3630362616655898,
           1.1395948725231784,
           1.4916218818494964,
           1.727587285334916,
           1.754098237556559,
           0.7419031265948816,
           1.2902473865259385,
           1.3993599161092398,
           1.5194705853371977,
           1.455395125913055,
           1.2950170411822535,
           0.5509912877966142,
           1.5600625100769612,
           0.9429713923361814,
           1.0052121419361877,
           1.2566388027831534,
           0.6078916913849269,
           1.3797195613713786,
           0.939511996717931,
           1.162615759529258,
           1.4301221250497755,
           1.415154672421259,
           0.9798671282936366,
           1.1683266412620779,
           1.2882992841285072,
           1.1204718093302943,
           0.6907739147777264,
           1.1793120728166666,
           0.7050547229598745,
           0.8450547436690126,
           1.1688222725904964,
           0.8892591575628991,
           0.9889293754697366,
           1.1951608949889492,
           1.4551164108348686,
           2.010971521846077,
           1.0929992206439967,
           1.11077527646748,
           0.6321699569423405,
           1.7838084732794155,
           0.7289386575468682,
           1.1430062062861523,
           1.1049255662421316,
           0.8549215114728183,
           1.285610503285671,
           1.1487780577465385,
           0.8267779292847813,
           1.3470234893328488,
           0.9172398539160891,
           1.2026506128751226,
           1.4286509684464517,
           1.4140310869164232,
           1.0331723370981047,
           1.0308896328683073,
           1.6588842320098678,
           1.0908459987042716,
           1.3083938262254962,
           1.1750088457249819,
           1.5411016016790984,
           1.104355277870453,
           0.8959934580834668,
           0.7572388092006876,
           1.172311337600009,
           1.3359458762835967,
           1.4189710804420075,
           1.1614901679385694,
           0.9689612708991999,
           1.151684928736429,
           1.167645855385598,
           1.3127371666215475,
           1.286525678498021,
           1.4889853937915052,
           1.0255639423047962,
           1.3390409095766374,
           1.242056261107131,
           0.8266616099330595,
           1.2009313004553899,
           1.2506980439830735,
           1.253283719699184,
           1.1101363033348477,
           1.246229912232162,
           0.809942319387782,
           1.336104465197317,
           1.2595029657790993,
           0.8133464146885463,
           1.2738441890900662,
           1.12007748912213,
           0.9127794313021651,
           1.1212991123156284,
           1.1873858857791009,
           1.2156592068633911,
           1.155568409130817,
           1.182035564915467,
           1.1445869211602058,
           1.1363627830117184,
           1.1655964108798782,
           1.021770267978824,
           1.1521436735310147,
           1.093304168120398,
           1.2227645514114192,
           1.1928294768860397,
           1.2125911640172902,
           1.3407099722661695,
           0.9407026187497624,
           1.2112549567045379,
           1.211583246409434,
           1.443944988136714,
           1.197465514314515
          ],
          [
           0.08131530567737706,
           0.0806370569457667,
           0,
           0.3382003949286533,
           2.4820086549764317,
           0.21413267055256086,
           2.4194956963184913,
           0.6175383534272479,
           0.0986148095365489,
           1.3835313805279537,
           0.20025561747597792,
           0.7959180673269117,
           1.269032745977146,
           1.9141731244474347,
           0.9239416489182705,
           1.1933820172731504,
           0.7086275013613298,
           0.526827325901261,
           2.154957815423176,
           1.2780319427661608,
           1.2048720984161507,
           1.2380689305301604,
           1.0962047379638709,
           1.4583861569045333,
           1.486676826096726,
           0.81774210474972,
           0.8839607112831925,
           1.0008898983906047,
           1.4203629670039764,
           0.6518685843391699,
           1.3155819226495198,
           0.27603789977908566,
           1.1646834797739143,
           0.43905209302395565,
           0.3163861813816263,
           1.0015610770380237,
           0.8129266996286519,
           1.254421338005247,
           0.7000100116696234,
           1.3075280038669674,
           0.9372638484089552,
           0.25666511115506435,
           0.750961838669691,
           1.110992168944959,
           0.9387771505822827,
           0.927172330954943,
           0.43272535854069033,
           1.866480659632899,
           0.992789022265175,
           0.5145267443393428,
           0.1203595253104005,
           0.31163266261928696,
           0.9001903884789509,
           0.9417003082200355,
           1.4655822943053305,
           0.9412482616802769,
           1.0679425197577828,
           0.6896903225050691,
           0.700768874675298,
           1.13251304926712,
           0.7884610982539191,
           0.6961180572566599,
           1.433624910167638,
           0.8935503743494561,
           1.244409841092717,
           0.7754257304763228,
           1.1140927909098557,
           1.052142057431395,
           1.1137350715847907,
           1.3754865490750319,
           1.2572803046293117,
           1.3487303076370742,
           1.1128484186674688,
           1.2613726201987063,
           1.3112118546188183,
           0.907732044308546,
           1.0410303257839315,
           0.7833213166749479,
           1.4046476019117151,
           0.9703625656548106,
           0.7833316455015478,
           1.0242073032792163,
           1.1780022432829285,
           0.9215228304681311,
           0.9272483944025085,
           0.9068195947169633,
           0.9417776948752642,
           1.2172774433309765,
           0.9082038033982142,
           0.9886040116009065,
           1.232045541057715,
           1.2878939380423058,
           0.7281731279286149,
           1.3831529945970278,
           0.9473960866076471,
           1.0709992568177809,
           0.8024482228802184,
           1.1907973518443686,
           1.277302919767166,
           0.8800803379124084,
           1.0900778417302939,
           0.6766452074079232,
           1.2039635299106517,
           0.9643678156860293,
           0.9752100352038631,
           1.2442606255811315,
           0.7283830399188584,
           0.6376486526686297,
           1.059187718492157,
           0.9694608721479865,
           1.1949244235246508,
           1.1256486083133026,
           1.148164918143768,
           1.1892621392698168,
           1.1773117705510245,
           1.0106526075199185,
           1.0643327088605463,
           1.0323689819621218,
           0.9619582838468702,
           1.176038048349785,
           1.2155719141736003,
           1.0001125777386373,
           0.9454817891332815,
           0.886308964156097,
           1.1501426780126354,
           0.956567251501051,
           1.0712789351074021,
           1.0155473145455132
          ],
          [
           0.6336512043627662,
           2.5218420211841353,
           0.19373807369833987,
           1.222841091861382,
           1.430653086802958,
           1.3843476262221885,
           2.0764939841711874,
           1.7197856534814906,
           0.8975587922732544,
           1.4600724548830533,
           2.6772436016801113,
           0.9472463078219707,
           0,
           1.2503337984229288,
           1.4116883840207084,
           1.2447330510952763,
           1.3345169262324201,
           0.5458460531826824,
           0.7967863222827455,
           1.2636698338077432,
           1.3860077210594486,
           1.5376913409716417,
           2.0591568296928404,
           1.1356310337040825,
           0.7474167553960906,
           1.5553961591016712,
           0.6633566043481978,
           1.4285317703006246,
           0.9971011367241143,
           1.3579575844344498,
           0.9277424254514329,
           0.7700146821301739,
           0.9885928390334797,
           1.9647782072693867,
           0.9114968695987228,
           1.3504736299726527,
           1.0912781751290896,
           1.4799832909140558,
           1.1745581559770166,
           2.224849392926368,
           1.0170659670014963,
           1.382424748399344,
           1.2826093113180692,
           1.0626774909148315,
           1.0988201731476457,
           0.6282101080168955,
           1.09154796847944,
           1.1370341419791494,
           1.66261293940466,
           0.9905724806931059,
           1.3608135204877014,
           1.5356988970981171,
           1.7289053698006442,
           1.5330286691864081,
           0.5801615371925013,
           1.4339743042671407,
           1.2301511754792687,
           1.5803169945111097,
           0.677194566023127,
           0.4390166631331814,
           1.1775001494135293,
           1.518863922558677,
           2.0555655490827576,
           0.9896878417494015,
           1.419236016966929,
           1.9537894461305985,
           1.8823016117332454,
           1.7382585768531493,
           0.8914866244892261,
           0.9783297392083242,
           1.065967843867915,
           1.496111805209166,
           0.5280851658004684,
           1.1670858394542052,
           0.7228711123807895,
           1.542164881426495,
           0.3488169342115282,
           0.7427878516385532,
           0.6719633862554028,
           0.645148430486582,
           1.4216926930552358,
           0.9928689912055234,
           1.4057975502476177,
           1.9556643591441625,
           1.0234853093646141,
           1.232074673145334,
           1.438699724821477,
           1.0519326029600835,
           1.2557487694146445,
           0.7200327506657007,
           1.286525678498021,
           1.2067111925223288,
           1.41704240698168,
           0.8426242057670597,
           1.6530942035879175,
           1.2406935193209374,
           1.2895602588198098,
           1.1760308341424113,
           1.51209657369584,
           0.9239707789896302,
           1.010677655835357,
           0.7406735160473343,
           1.292709670997317,
           0.882510397941331,
           1.2595455776794904,
           1.2406500290048879,
           1.5013038787061157,
           1.2179198542507002,
           1.1169206812432662,
           0.2698127491903802,
           1.7067139571332959,
           1.3199230165925986,
           0.8839199479344895,
           1.2417498603517563,
           1.0860048402750027,
           0.8756482263780178,
           1.118489379695442,
           1.245486260480382,
           1.1293675450076202,
           0.9948851549977893,
           1.1842075021726133,
           1.0338072214766347,
           0.7414881436171632,
           1.0552736559399303,
           0.9287768407424302,
           1.002352649906908,
           1.0128002259294233,
           1.207524870689587
          ],
          [
           0.5986471071162328,
           0.3977284509045225,
           0.2718350642725676,
           1.5530728432617495,
           0,
           0.9104936170325035,
           0.17353379623966994,
           0.374674567754129,
           0.6857529619032103,
           1.1758251123269456,
           0.6743787358088338,
           0.7963973749846767,
           1.2521580005657589,
           0.9476178471508258,
           0.5810682800012587,
           1.2131042010163076,
           0.2557115871614275,
           0.44601242470516017,
           0.5507975523455209,
           1.1935981270197917,
           1.0354607820210509,
           1.0121296696031792,
           1.0291954368644705,
           1.295652244942115,
           1.5415962812729695,
           0.5995289528187675,
           1.2616366145728277,
           0.9637926286428061,
           1.3885352620162708,
           1.0339504548085818,
           1.1201328792594116,
           0.1818515559964359,
           1.0254332772120005,
           0.6826091820396838,
           1.0203202582639421,
           0.947428837384956,
           0.6752544623279279,
           1.094817821306626,
           0.6851698263598135,
           0.8666768889975643,
           1.1993955113300796,
           1.3105261373202661,
           0.7871507902629188,
           0.4500632454193178,
           1.2060118214171696,
           0.6853529031521742,
           0.9402599665567396,
           0.5752264403842148,
           0.4903190442025157,
           0.8123065985679707,
           1.0663416066639404,
           0.7562562331698017,
           1.2822283597066664,
           1.113480049618476,
           1.2827695518364715,
           1.3159061197508402,
           0.739307490237154,
           0.9498211418890862,
           0.7440055740676713,
           1.3874372307312912,
           0.7700734653497501,
           0.8128607968982503,
           0.8758928216716114,
           0.9327111239182052,
           1.160608456279674,
           1.0564200462275957,
           0.7650098721582328,
           1.1200010520677406,
           0.9371635377773647,
           1.137725236994869,
           1.1720694438550854,
           0.7974451216869604,
           0.7688850911852608,
           0.8696280682713992,
           1.1928325437965719,
           0.9631970340263343,
           0.9730736965208311,
           0.8786269703426121,
           1.1561876468507557,
           0.8165568787225231,
           0.58089911027778,
           0.3385708633644023,
           1.0321131905475913,
           1.028519238594505,
           0.9661189980686206,
           0.9952966387113501,
           0.9644652639485571,
           1.0016502112695704,
           0.8028917852937051,
           0.9448606446924549,
           1.286525678498021,
           1.2146466822988395,
           0.7812459466408073,
           0.8343118011292793,
           0.7795628905426005,
           0.8673847960622838,
           1.1312363923215125,
           1.0877644820485335,
           1.077627606920279,
           0.8578977754594185,
           0.8578369168839891,
           0.8427869190557774,
           1.0615702195371555,
           1.1475553722963845,
           0.8196203650295233,
           1.1980902661721582,
           0.9943411199766073,
           0.8524082495892806,
           0.8196886651047934,
           1.1472313288226166,
           1.0164654160667264,
           1.1265632887898676,
           1.0167395173492346,
           1.050985351805144,
           1.2976960074108683,
           1.0049176864118186,
           1.075970791418157,
           0.8457390791209475,
           1.0017869371173853,
           1.024671579228268,
           1.015966806357818,
           0.9110233103366294,
           0.7983163786435598,
           0.8585051992826473,
           1.0428193700302986,
           0.9462655516570929,
           1.0576637264750153,
           0.8300287120417248
          ],
          [
           0.27306325364175915,
           0.13008330064347248,
           0.3749101189396671,
           0.14029281513288425,
           1.6732629691992789,
           0,
           1.9244015993969634,
           0.7778198784709278,
           0.952561509888765,
           1.3433087930077001,
           0.3775925111937694,
           1.036228936454191,
           2.7238219748581,
           1.820338468248062,
           1.104255959720816,
           1.5669888958368714,
           0.8997450891244434,
           0.6775940706404868,
           1.745119654935816,
           1.5367789947497559,
           1.333077655314407,
           0.5813021958822698,
           0.9518326484332524,
           1.2321848798089141,
           1.3309853008080066,
           0.8599390375054743,
           1.1190118510841482,
           1.1394331143315592,
           1.4601842910967051,
           0.2936569849673205,
           1.1196624378515374,
           0.891411184627342,
           0.7898521135566274,
           0.6892305269688332,
           1.0767089918646287,
           1.083687608621431,
           1.1108047918993496,
           1.2383469175838562,
           0.24539091839649954,
           1.3770981550454937,
           0.9543958002644136,
           0.6142513482867524,
           1.0170661035116118,
           1.2150037828990605,
           1.211948925953079,
           1.0128267314532136,
           0.5472677162799154,
           1.201432403659589,
           0.6808817622832437,
           0.372468137453376,
           0.5749253686143775,
           0.17341359240298204,
           1.066590210428355,
           0.9754243998117952,
           1.382666778216956,
           0.7489371724042589,
           1.0416618317032693,
           0.8385643554672055,
           0.9757278749745445,
           1.1963370515736613,
           1.2179777351721564,
           0.5878018197866441,
           1.248609559983458,
           1.1992069403127399,
           0.9402944325418463,
           1.025260844863139,
           1.171143688074,
           0.8529158495682094,
           1.1642433812494186,
           1.3754864670896445,
           1.2608598520896206,
           1.2684449159425262,
           0.9005637517044531,
           1.1507706037952474,
           1.538845395192361,
           0.9760971856878876,
           1.1409605819860247,
           0.7152304844431382,
           1.5181482841534464,
           0.8198069139322154,
           0.8999788668372738,
           1.013944678536326,
           1.2978663476807437,
           0.9177558995203375,
           0.7789821348145924,
           0.8915580350745633,
           0.6769029291233232,
           1.2319968188567698,
           0.9039060600735669,
           0.9489424791077683,
           1.1170290803050997,
           1.167042711322873,
           0.7320239470673794,
           0.9789927437861937,
           0.8479314732973272,
           1.331179852547341,
           0.9826725061763345,
           1.0819308619907846,
           1.1321446612951542,
           0.8874867988430444,
           1.1623571871468916,
           0.7765359486210609,
           1.3132152190763746,
           0.8567208825291251,
           0.8792593687286572,
           1.3056419616647956,
           0.9900605129974489,
           0.6825632013683572,
           1.1171905612404465,
           0.8459672800574068,
           1.026113375446547,
           1.2511822954833247,
           1.189998034992873,
           1.0086334167949302,
           1.1846353456880674,
           0.7906869797677922,
           0.9500228225289887,
           0.9636234180271547,
           0.8030909985648528,
           1.0217488468433908,
           1.2047582251130409,
           1.0590876925632846,
           1.0351825284948692,
           0.7551003510020452,
           1.0240002209131274,
           0.8415349449805779,
           0.7667802949812855,
           0.9597763224977987
          ],
          [
           0.06534626005743642,
           0,
           0.14433271757580232,
           0.31131524294291063,
           1.9679969206066776,
           0.7746514039656018,
           1.88113883474359,
           0.7498911427780668,
           0.36454268666123935,
           1.5151853138177231,
           1.1413958856123445,
           1.2633664105581974,
           1.5851220770676595,
           2.2329058459861426,
           1.3881864448341832,
           1.4650013260920027,
           1.0485778926186398,
           0.5734479690417427,
           2.2225254259809195,
           1.4709575986957808,
           1.5571738949050193,
           2.149887174234683,
           1.4229165795470837,
           1.3340638200922392,
           2.0285662185833373,
           0.6645731118718576,
           1.4028836156938103,
           1.4072582998185668,
           1.5502740426852446,
           1.1841077142990788,
           1.5166470854807987,
           1.7171918203652305,
           1.1272515655936743,
           1.3040213654291117,
           0.592209593475234,
           1.0136925378792014,
           0.8337116576111254,
           1.5618875654895916,
           1.0416695947858319,
           0.967229638802,
           1.266417181969546,
           0.7131906541175098,
           0.7370434711988457,
           1.020378586918303,
           1.6950966935852276,
           1.0488343640432167,
           0.7351219548143361,
           1.1902089637191031,
           0.45683201194895884,
           0.7769919668939742,
           0.5539578670696238,
           0.7906128382268828,
           1.3942816066646861,
           0.9787276922643146,
           1.4338849521296637,
           1.0515455051994815,
           1.3864993832390158,
           1.2482775078464574,
           0.9193772661891195,
           1.6786759861065597,
           0.7194210194199462,
           0.8681630663853199,
           1.6256121347354464,
           1.1239682532861217,
           1.4629371675511478,
           1.0927235263293849,
           0.9875803195338068,
           0.8715489685273807,
           1.1098185808017202,
           1.2563376778408861,
           1.3081682392669398,
           1.4163151374463852,
           0.9161602278661238,
           1.1966660235671367,
           1.4261964511711247,
           0.895062736275363,
           0.9688312920846325,
           0.5910165217584284,
           1.5028065258485463,
           1.1062673499971785,
           0.949843594488235,
           1.4762135741960298,
           1.1387977871463466,
           1.24874033465686,
           1.0081460444304935,
           1.1332163247451617,
           1.134219248021883,
           1.1337686309141313,
           1.1982644670524998,
           1.0150693327140774,
           1.0775704340160464,
           1.2990376489386233,
           0.8809680858632085,
           1.442212628931636,
           1.1594951871504506,
           1.4812687807122624,
           1.0777621923548675,
           1.318024989827454,
           1.5372439415668298,
           0.9042746840723519,
           1.161072674910031,
           1.137513258428795,
           1.4874034636618387,
           1.019276107383495,
           1.2239405627207083,
           1.4067005812975273,
           0.9900245487926438,
           0.5665064826796075,
           1.1199131616529443,
           0.7773770126040929,
           1.1549535400613589,
           1.3301243021690903,
           1.0660060389582693,
           1.3163257514685323,
           1.139082302265084,
           1.0063936551398054,
           1.2918897535211284,
           0.8445247657369312,
           1.22552153940522,
           1.2706365657279557,
           1.0987701662699079,
           1.0099992766635977,
           0.9687440249794935,
           1.158480555331908,
           1.0310668510670131,
           0.9500801630071996,
           1.0926664768655598,
           1.1336597944331819
          ],
          [
           0.13878548034797566,
           0,
           0.3693986756985406,
           2.712961824660677,
           1.035609720627834,
           2.4398669822229206,
           0.6772161885740332,
           0.8652282416203435,
           2.6340752838602426,
           0.501282326765963,
           1.5116337134590228,
           2.2537735116513957,
           1.4659652207234772,
           0.9130662053743929,
           1.148072221351561,
           0.884197973581552,
           1.7463517875186108,
           1.7317740736354592,
           1.0827352568268858,
           1.3046322622546616,
           0.8227294963088959,
           1.2759769489453827,
           1.161215198896587,
           1.7806923127196042,
           0.9344711545499962,
           1.5418286895760136,
           1.0340485323610769,
           1.3111766075945066,
           1.5698837444855391,
           0.9250534653869916,
           0.9992731135618207,
           1.784627134691581,
           1.951063829207417,
           1.1879485333230375,
           0.8807675177923903,
           0.7538740798404887,
           0.6654056796407166,
           0.7022833356917679,
           0.9717836778611078,
           0.9367990903157832,
           0.7244564454682139,
           1.6672509745005277,
           1.1616021642256458,
           1.6826324076428516,
           0.6760957220379444,
           0.7917701306468939,
           1.191598779439457,
           1.9161611401523335,
           0.8141168028025841,
           1.3439478202170494,
           1.6013770982796636,
           0.9307921579761597,
           0.9177037249353901,
           0.9802322435702784,
           0.8092426013604948,
           0.8258040074052919,
           0.890833136552222,
           1.1559158554586977,
           1.6499718690821392,
           1.3106929904944133,
           1.0982691429206966,
           1.947692897801327,
           1.041764679639085,
           0.9012552344658208,
           0.8359933043599066,
           0.8726501765446821,
           1.0203832584151495,
           1.3621123670455935,
           0.8553938181172414,
           1.3754865490750319,
           1.2900265350995441,
           1.248503087512335,
           0.4540824312373545,
           1.0683952664140077,
           0.980251488280977,
           0.8265323663510826,
           1.7708775689178797,
           1.2076641304620181,
           0.8550413862557116,
           0.7921016732434629,
           1.1078165981705912,
           1.2665714731586069,
           0.8503186079255657,
           1.562595488536545,
           0.8145672121348886,
           1.1669765249193718,
           0.9747760117579591,
           1.5460745489525853,
           0.6458680194853863,
           0.8182421695313895,
           1.0492218372058713,
           0.8130096947548158,
           0.9914526095083991,
           1.7642967507478406,
           1.2043962681797586,
           1.1076479061355038,
           1.1452839595732385,
           0.7458996893276203,
           0.8758610580044518,
           0.8424864733335088,
           1.2057685809314687,
           0.7008926928617086,
           1.2757571069896159,
           0.6643125444801279,
           1.1942593850622027,
           0.9415633442327263,
           1.179450491522394,
           1.31122869377565,
           0.9934716204228846,
           0.8223613863987882,
           1.0404183704769143,
           1.064796948830712,
           0.8005269535021331,
           0.9635299104567183,
           1.2418408842439597,
           1.0416278895025497,
           0.7776703764518378,
           0.8807410024622897,
           0.7669884091130312,
           1.123651937516458,
           1.1161866537202054,
           1.0730974650543608,
           1.175824374222754,
           0.7980180836925002,
           0.7990927141068156,
           0.6656206037818458,
           1.0407035873234964,
           1.1409517472142838
          ],
          [
           2.1247921955584115,
           0,
           0.3866979881946905,
           0.2677961405044861,
           1.2368202168116211,
           1.9341943025551482,
           1.55439036433406,
           0.933513799364999,
           1.2649907394314768,
           1.9916946418515125,
           0.7063473149716648,
           2.0816664461603813,
           0.3676295771344111,
           1.1356857207294138,
           2.183462626373468,
           1.6579387803622208,
           0.8213971505892604,
           1.7129031883720494,
           1.193705930720894,
           1.7754483644673542,
           1.651411695955897,
           1.4478810116785474,
           1.5126694988440375,
           0.8334131847407471,
           1.5569294475490194,
           1.2444132296209083,
           1.042262152239785,
           1.0010923406560923,
           1.1485877056835487,
           1.177141092947077,
           1.5588755056083,
           0.7553260869373466,
           0.9398357416350543,
           1.3265356016527448,
           1.4131446685025386,
           1.4168203125612528,
           1.3166001974765165,
           1.2486725723430825,
           1.912679323291067,
           1.1213449203970223,
           1.2337562544974077,
           1.6614050719372337,
           1.5712454358547623,
           1.3311217781651061,
           1.702060580517014,
           1.51150562952367,
           0.5382010736929932,
           1.0932403110324393,
           1.4225722971884478,
           1.0289252768165835,
           1.0107989193100642,
           0.6656476943668875,
           1.3922975383042018,
           1.6565339988301115,
           1.5715972342433215,
           1.030029093486374,
           1.5038421165360547,
           0.9826650684702601,
           0.8006455955410967,
           0.9028236346857366,
           1.3688787592424847,
           0.9150438063497506,
           0.9012662782598946,
           1.3919520766270468,
           1.6096593276553628,
           1.0591862177221167,
           0.8709307081685893,
           1.148970140832107,
           1.1923088563380781,
           1.2140602732487582,
           1.272667848396834,
           1.3353586372272581,
           0.6067162836313418,
           1.147861652749266,
           1.0604217683425397,
           1.2798232740853326,
           0.7186598075515789,
           0.8732420348851138,
           1.0223598509796823,
           0.6251466032075336,
           1.3731965225712635,
           0.86677160957643,
           1.19831199013676,
           0.7756038256046919,
           0.8551505431545462,
           1.4022235353773693,
           1.041061357621707,
           0.8907564067358293,
           1.3952546834966943,
           1.433012443645992,
           1.0789201298456312,
           1.06091564045133,
           1.1417461571654548,
           0.996901034426701,
           0.7501736259493266,
           1.1894567400593465,
           1.0174009471778975,
           0.9459592431492804,
           1.0409708349611069,
           0.7062017109070214,
           1.1050555305071645,
           1.368027709201561,
           1.0946417137262532,
           0.9757645133330086,
           1.2819782423584158,
           1.007012158219107,
           1.1426242600113559,
           1.1781170155970941,
           1.0503901618439206,
           0.8596110187318542,
           1.0118118360743822,
           0.9762063047648912,
           1.0068472370670645,
           0.9660897507487622,
           0.9606197058316606,
           0.775770302326957,
           1.1569797075951236,
           1.248665006243038,
           1.093157324951995,
           0.8066007276249545,
           0.7486285440878376,
           1.1449582211147262,
           0.8019430566129906,
           0.8600235403834063,
           0.9733208293262448,
           1.2412924973193338,
           0.9230869502491534,
           1.070707972109397
          ],
          [
           0.6791143461403643,
           0,
           0.1544928425391922,
           1.412260172549388,
           0.8696724487204076,
           2.163687676513599,
           0.4360262605144316,
           0.539708271443128,
           0.7320827821023964,
           0.6848575573841403,
           0.5676222243961008,
           1.2309635601082594,
           1.0052754698178374,
           0.7757841610352013,
           1.1786185483621086,
           1.021562199998769,
           2.082741227410348,
           1.6059080209574728,
           0.8167651845333672,
           0.8827139701090566,
           1.1076370567967988,
           1.290275309294653,
           0.8616048694007452,
           0.9698633240897598,
           0.9493834953899083,
           1.1390051262953635,
           1.130124423562795,
           1.385027613835902,
           0.9449111438864072,
           0.8047170061047294,
           0.9177676087318309,
           1.7249691908450957,
           1.462530755983028,
           1.230253693323359,
           0.6185404401886938,
           0.5952376228008642,
           0.8146007998076067,
           0.7836487466572751,
           1.050306008713683,
           0.9260620912047084,
           0.7456245660601946,
           0.95602837704687,
           1.0531364462094517,
           1.3121226257152248,
           0.7978713910192541,
           1.0957736655153114,
           0.8364008091768852,
           1.550914077311139,
           0.6978728263081176,
           0.8126163927802268,
           2.037469342800958,
           0.6615916763143037,
           0.9033659904043827,
           1.0256055975703682,
           1.2360430082409275,
           0.7262296519233188,
           0.8624424194233501,
           0.9549892197032821,
           1.3060014934597224,
           1.3692241437181454,
           0.9506465661159794,
           0.7685231253675234,
           1.0239609358515116,
           0.8472415753248401,
           0.8535708543896066,
           0.7693891813774497,
           1.060170366504121,
           1.2300467222381746,
           0.669707196578407,
           1.3754865490750319,
           1.1629482266228912,
           1.0700397634462213,
           0.5135164797183008,
           0.9999093304158234,
           0.8992105665735977,
           0.7785481511044905,
           1.1038695860569852,
           1.3239396584379033,
           0.9812687312962848,
           0.5676167649660525,
           1.041843531792933,
           1.1622064398827625,
           0.718384359346027,
           1.2119272465051918,
           0.7895867357050719,
           1.012344180771902,
           0.9950683863843396,
           1.216916324401548,
           0.727523269639544,
           0.8965772251483464,
           0.954756932058025,
           0.6247778965677151,
           0.724413788126695,
           1.4885294793263366,
           1.0785365718164794,
           0.9314398901424662,
           0.9675832986584758,
           0.7077427980835612,
           0.941703643814533,
           0.7893406927398035,
           0.9213443464627018,
           0.8040758673021027,
           0.9674516041082368,
           0.8088296653232753,
           0.8273356097735581,
           0.7272198518579794,
           1.2081333376163113,
           1.3032384929432121,
           0.9449377405047928,
           0.7766262021689622,
           0.9566294431057338,
           1.1993028053159194,
           0.7079665038299577,
           0.8882293189634598,
           1.037038612150682,
           0.8790032184402644,
           0.6899215143028834,
           0.9715911121980249,
           0.9464398978100182,
           0.80523112468391,
           0.9526863309337072,
           1.1912342361928057,
           1.012666678599617,
           0.6342260914252797,
           0.8241373950021241,
           0.9140750054904236,
           0.7748948057931032,
           1.1256742492188596
          ],
          [
           0.7515566926323126,
           0,
           0.012310046357792563,
           2.1755685581977433,
           0.5197186734651322,
           2.124256511207398,
           0.16213274791197632,
           0.7147988081324946,
           1.5749808861152348,
           0.5596178568372296,
           0.5229527540865356,
           1.4177542238424352,
           2.0254039658828096,
           0.927221567604754,
           0.9823768803187057,
           0.5985180357042632,
           2.0709334647450857,
           1.0967943958894681,
           0.5815672848733818,
           0.7284693989692219,
           0.6837487487925089,
           1.373142081104276,
           0.8995909700773118,
           1.4857173306461098,
           0.5939489318849455,
           1.4376823262616847,
           0.9550622849368872,
           0.3408161298725769,
           1.427685313101746,
           0.870202021225455,
           0.8899546516224944,
           1.7090347291260128,
           0.9711249066359855,
           0.7753049865668222,
           0.34579364175375704,
           1.1108313340846356,
           0.744529415514631,
           0.7645888272166562,
           0.6582835974946446,
           0.7378896824889389,
           0.8214305060259989,
           0.7385423210345387,
           1.3127697054012446,
           1.4462806644685962,
           0.708403623957394,
           0.7188440358815076,
           0.5817756503230723,
           1.176671907011612,
           0.46338967052903696,
           1.0025740243505303,
           1.5857081477040729,
           0.6727174307858745,
           0.7281751577806518,
           0.9981591560113774,
           0.7924725483769084,
           0.6334007957826316,
           0.7768316997189163,
           0.6378458714022757,
           1.166916441969525,
           1.2496940764867808,
           0.9799880233537924,
           0.8117357699315811,
           0.9540199628378854,
           0.7103508548773906,
           0.6529232406535674,
           0.8214898747656361,
           0.7476803329659779,
           0.9569079665909115,
           0.8202016420939622,
           1.2812752550359763,
           0.9344943048747055,
           0.8952422166650693,
           0.7365092928278254,
           1.0575319851743388,
           0.9419082620608235,
           0.5063150997069292,
           1.4561725158067798,
           1.111942687873688,
           0.9265908661921876,
           0.7178616783666852,
           0.6114905474843674,
           1.1156354766930725,
           0.6259594213555986,
           1.1548868770447953,
           0.4597602687089637,
           1.125543574239187,
           0.6411938864293634,
           1.6267950673365918,
           0.7145723508300961,
           0.8050554254700244,
           1.0662302591360782,
           0.6645968139002953,
           0.7232171550765649,
           1.360904133807958,
           1.0832545817940065,
           1.0288077167677516,
           0.8729414210516263,
           0.8384123044725782,
           0.6736122700362867,
           0.6175141030281066,
           1.1396991632826694,
           0.7959499655977746,
           1.212335773916505,
           0.6733688441981365,
           1.1708606344360486,
           0.8691771794282543,
           1.0527448220618216,
           1.501089998539721,
           0.9828787242815957,
           0.8592738787208991,
           0.9174336399451127,
           1.1493729319812929,
           0.8408436387374919,
           0.9644263034710979,
           1.1400512189618268,
           0.7083975437439575,
           0.9276727446874742,
           0.7062302276735912,
           0.831206026678202,
           0.7197203007967716,
           0.9649626184370048,
           1.0585649157973946,
           0.8446290585864475,
           0.9754500890452064,
           0.7137779709642372,
           0.5611322668765774,
           0.9536682031517083,
           1.1862773077183868
          ],
          [
           1.2063039383192502,
           2.404753662358018,
           0.5623582688185689,
           0,
           1.036563554062285,
           0.7602204360254797,
           1.5013559420117841,
           1.0224573819862677,
           1.4449348245138471,
           1.4953278389359372,
           2.076631248553873,
           2.0477100941785857,
           1.313932387680832,
           1.4651526483085846,
           2.093992086070253,
           1.86221340687058,
           1.0847556402895333,
           1.833787452215798,
           1.1860563801867625,
           1.876378133810694,
           2.0027429815177156,
           2.125746132718745,
           1.7756585631288404,
           1.3657013866980139,
           1.6089527288437815,
           1.5787095626820207,
           1.4066038352962786,
           1.7192530997488966,
           1.1641866439827693,
           1.2157844833362546,
           1.9101271967722273,
           0.6866191152902369,
           1.372212868190425,
           1.6586788653727977,
           1.0452712347109407,
           1.4254483866833085,
           1.0536017008426168,
           1.4337251893007175,
           1.578275169840348,
           1.1518298666454256,
           1.3442899969350273,
           1.9699567519550094,
           1.587470057535701,
           1.3123690371087668,
           1.7408825815365954,
           1.4285693213782704,
           1.396136745587138,
           1.074676952056724,
           1.201482200153418,
           1.1894967632254096,
           1.2061629804331926,
           0.7868704806405349,
           1.978960185658535,
           1.6810359513448572,
           0.9724040780630859,
           1.5423613233042797,
           1.632369739479896,
           1.3989029364359085,
           1.263003300718636,
           1.0378260480501893,
           0.9907676390421374,
           1.2395972628794476,
           1.148156940221219,
           1.2689240805486732,
           1.25330541843438,
           1.6879280890605486,
           1.4235793454017505,
           1.519797112073723,
           1.494618293500643,
           1.212638236708625,
           1.294382539571003,
           1.253365981060564,
           0.8568851384440836,
           1.2473201098550235,
           1.3194985555992045,
           1.343191606556634,
           0.8868814383981825,
           1.0613455082936465,
           1.084034084758116,
           0.9691123356051957,
           1.5854798152130856,
           0.8305178104492218,
           1.2960704830737715,
           1.0210942248890074,
           1.0979607845812103,
           1.4487386119623602,
           1.4364875853646082,
           1.1702406830018672,
           1.5466170018454515,
           1.34657364732516,
           1.286525678498021,
           1.4521131401550489,
           1.3897104731018317,
           0.8970193771884309,
           1.1569065928931648,
           1.625718005803282,
           1.3587605452777287,
           1.1876662841229209,
           1.2896464289772642,
           0.7518382321644079,
           0.9840576676312102,
           1.0955701116351049,
           1.1414956937855258,
           0.8766634934050789,
           1.3879254110350718,
           1.087269274937343,
           1.3041859910853097,
           1.10756938655284,
           1.0062525633287134,
           0.8939247080834296,
           1.2130352898421273,
           1.1051027878046378,
           1.0348809373792567,
           0.9830613630667406,
           1.207089894962292,
           0.9598789071276963,
           1.1064857258808407,
           1.1323813006649606,
           1.361925790125728,
           1.0177784111771213,
           1.020643471316459,
           1.199154741762496,
           0.865449740957951,
           1.0048434791193226,
           1.0443189488640123,
           1.1153261997760746,
           1.149163140948847,
           1.0806359789977809
          ],
          [
           1.3944767459735707,
           1.1838749264599444,
           0.6655021783627442,
           0,
           1.129567474479047,
           2.0753149014004353,
           1.3062737056304676,
           0.8901560245359289,
           1.292084204319305,
           2.1797077051206344,
           2.273434915913959,
           1.4907895138492253,
           0.8821148328058894,
           1.427906425004243,
           2.0474109758118457,
           1.8615208887141292,
           0.7888313251390563,
           1.4106863645359689,
           1.4105260389484313,
           1.6011109731481672,
           1.8399780698205925,
           1.0927192413453477,
           1.6708852432595662,
           1.097854051220667,
           1.4614232883936025,
           1.3034598056266522,
           1.9259668186637964,
           1.2283401814856945,
           1.361762038795199,
           1.0622482874401946,
           1.8061171402061722,
           0.9686544961303305,
           1.8076362980396161,
           1.7798862192035183,
           1.2972132565915035,
           1.57859987934752,
           1.7086409674162881,
           1.6680705608334299,
           2.1814599465604654,
           1.0658860807819552,
           0.9180536921466629,
           1.5206246595195698,
           1.6570108897048854,
           0.8664340923579613,
           1.7957641658000356,
           1.4951953615489113,
           1.1539431552373185,
           1.2748397296837932,
           1.438149617906069,
           1.2285112034453383,
           1.4079793102623803,
           1.0515836867849333,
           1.6842581504367298,
           1.5515444184801603,
           1.3680059763039099,
           1.7340569536450292,
           1.490629035300018,
           1.4732031570867032,
           1.1783647612312926,
           1.1170733934229957,
           1.7015350803843177,
           1.1191942818344014,
           1.1159031844423855,
           1.225620691231795,
           1.4809697150246692,
           1.4525480746276769,
           1.2580636991035228,
           1.4486144733756252,
           1.1443181494700416,
           1.2874553955048016,
           0.8779085480034355,
           1.1576759776482246,
           0.7089912570159662,
           1.2022012533410946,
           1.349999386557561,
           1.5846136724794555,
           0.7859924462497897,
           1.1046502295608533,
           1.2433534371334236,
           0.924019753220504,
           1.5397490106497125,
           0.6679562297523319,
           1.3956916540698747,
           1.172537232814127,
           0.876157801672205,
           1.4254396416986639,
           1.4184508190054166,
           1.0834690830751437,
           1.6290182360712135,
           1.3487381603771675,
           1.2159505659045102,
           1.293333032790692,
           0.9755893656288382,
           0.91540237335492,
           1.1676369099768618,
           1.421991966986733,
           1.501382348653104,
           1.0467148839517182,
           1.169498041997725,
           0.9445024965714954,
           1.2515039983165426,
           1.1628247175125261,
           1.2086215242990408,
           0.8877267602060334,
           1.3445808343590195,
           0.9846665742372743,
           1.0990492619029215,
           1.0756381089584945,
           1.212176313775549,
           0.9328288374801147,
           1.286331826045513,
           0.994175361381996,
           1.1845646490355093,
           1.1551413015601735,
           1.1391421746029349,
           0.9436060541166426,
           1.251687280413202,
           1.213193773877126,
           1.3243584128759052,
           1.091985386224084,
           0.9767994434211453,
           1.2840935761799794,
           0.7177381426576183,
           0.994213557322907,
           1.017104965873243,
           1.2412924973193338,
           1.1842672359432347,
           1.163494088799628
          ],
          [
           0.05315507811768824,
           0.5271171611598994,
           0.44154302690369696,
           0,
           0.43759471645101555,
           0.7232123262758805,
           1.8604792768280132,
           0.6869886389004749,
           1.547126552251582,
           2.3292217069987173,
           0.36058455035098497,
           0.7973189772270717,
           0.6850333617635594,
           1.3751876776803627,
           1.1330332255725113,
           0.5170450142267756,
           1.4689288005427952,
           0.6637534926408977,
           1.6998553332172819,
           0.9771449840643196,
           1.455187198364589,
           1.2166396818773064,
           1.2019393140266776,
           1.3691715067677985,
           0.9539132896995567,
           1.7996893309169624,
           0.9511910386426132,
           0.6936273664871324,
           1.8731042520706171,
           1.3882661786674384,
           1.442890986177572,
           0.5653134412432775,
           0.3897567452622567,
           1.235806989333982,
           0.9216487426261878,
           1.0466974711403905,
           1.4119305089351872,
           1.3519199711473988,
           1.3921052756036794,
           1.2887354575612937,
           1.0570212793219191,
           0.7180500121175847,
           1.8881651787067033,
           1.0123421636387697,
           1.163105571428606,
           0.7561542001958287,
           0.5340007901832695,
           1.2621738912217166,
           0.38626494923857796,
           0.3541477802082982,
           0.6079658165988895,
           1.2640046401315213,
           1.2685069682911663,
           1.2650741467357491,
           1.8979528812955164,
           1.3806886974767818,
           1.1094198892834803,
           0.6614267556141127,
           1.0029409102043516,
           0.789166685349596,
           2.0807730258554638,
           1.3057843355731173,
           1.285230999627749,
           0.6948186192011148,
           1.3503254333753187,
           0.8857648703501243,
           1.3359390966313585,
           1.0239727659409086,
           0.9185765671921589,
           1.308853991478134,
           1.3091778657308306,
           0.9529926076868576,
           1.3452026836787807,
           0.6384997530577831,
           0.9760879611829387,
           1.4171898207111207,
           1.0664372961199176,
           1.0457055626379879,
           1.368306023907928,
           0.888708237026737,
           1.1064920631676871,
           1.0222306574677733,
           1.1361842531491488,
           0.909767140767733,
           1.479170388289415,
           0.9552710037810836,
           1.3061489225496352,
           1.2188320543235123,
           1.2439105708453764,
           0.8958527859289105,
           1.286525678498021,
           1.222273111924534,
           0.45284341546737145,
           0.6731923291719166,
           1.2313118038508706,
           1.396326206789898,
           0.8593876314115653,
           1.4824521669566793,
           1.3009028783140355,
           0.8261219722445473,
           1.21377480202716,
           0.9114407449198048,
           1.0756654843224849,
           1.5291232588252117,
           1.1482203336300267,
           1.3481136126181241,
           1.157103659327696,
           1.2102212424233787,
           1.4186879563579744,
           0.8842713519318554,
           1.2659190147227335,
           1.2213714837422036,
           1.107669932709505,
           1.389895558859487,
           1.1987647559770382,
           1.364779675899077,
           1.1918785071913927,
           1.3840215988676312,
           1.0734726175230331,
           1.1668885967340048,
           1.3389718699031368,
           1.256725222203656,
           0.9105832068735455,
           1.1221314939251958,
           1.1538997621538005,
           1.1897509999874722,
           0.958935329590034,
           1.149868321090478
          ],
          [
           0.015670904021214172,
           1.2118624632872979,
           0.28572535064742033,
           0.6771570250326326,
           0,
           0.23143400522861837,
           0.03050230663638202,
           0.2692942448668907,
           1.48057592992881,
           0.9693393843908572,
           0.6599925430943153,
           0.4983260339207762,
           1.1556409633576405,
           1.1620313994028193,
           1.1569175271458212,
           0.6850783780612011,
           0.0011478355869865846,
           1.105236006098816,
           0.6801161489710623,
           0.7904883369966155,
           0.49931511707891846,
           0.35644783134247465,
           0.7647881282696963,
           1.365973040381826,
           0.8147752858792355,
           0.5958497450754623,
           0.995338325320181,
           0.4931766871628976,
           0.7445182567888364,
           0.17026465131131216,
           1.14105392377571,
           0.34459588089822135,
           0.1497965558345112,
           0.5262780074190948,
           0.4076202709941335,
           0.6311058184708623,
           1.2931743576755717,
           1.2971750379812113,
           0.4011129472869941,
           1.2086053522649804,
           0.8272655553333842,
           0.5486181531280404,
           0.8650430998780599,
           1.6918964145755662,
           1.1493208903201222,
           0.28610567781533164,
           0.35744815906944727,
           0.914095761244876,
           1.120059255628886,
           0.29182665915682543,
           0.8475761357267798,
           0.28462001580334423,
           0.6730559323792819,
           0.9308621441937566,
           0.5720070690239107,
           0.5441857895705032,
           0.9193303919162952,
           1.5708423677742862,
           1.4515020243850867,
           0.8306299474058353,
           0.12196486920931354,
           1.0613735283181789,
           1.0245017494230866,
           0.44244387495878656,
           1.1517831926893292,
           1.1635812631778553,
           1.082020500204587,
           1.0355853075804087,
           1.6362080821511393,
           1.0777207060368021,
           1.3760853344932342,
           1.2504561746965315,
           0.7593083522665005,
           0.8121647814423043,
           0.7855327206387599,
           0.6769141975453533,
           1.4036601845690662,
           1.3561586104407928,
           1.3516233644853604,
           0.7520953413862262,
           0.6988289246205183,
           1.6861644458316287,
           1.1652307506777648,
           1.1393290808860348,
           1.365955077672097,
           0.7242966286227142,
           0.4457512754174578,
           1.2139671464868609,
           0.9379652488741723,
           1.273159325224852,
           1.2091624416941524,
           0.9282843222516974,
           0.6000136795061592,
           0.7940071677723864,
           1.4417187028090952,
           0.7960219403020742,
           0.8292399273305245,
           1.5154997060134758,
           1.1947237672220412,
           1.107350297366314,
           0.17556917711196324,
           0.7018760103434036,
           1.0491343320066313,
           1.6306911564531812,
           1.0996252600675065,
           1.3025699887609754,
           0.6594294457208085,
           0.9233894595843769,
           1.2412795776604406,
           1.069166614675897,
           0.8931802220122583,
           1.0705264631884415,
           1.2175613932738774,
           1.1919250341804395,
           1.2604062694989802,
           1.4789099033886435,
           1.2095751260470424,
           1.2758277612458673,
           1.0238181983774306,
           1.268116280745621,
           1.308021280442482,
           1.039000720773084,
           1.4646853606976247,
           0.8285034398135518,
           1.231974015430971,
           1.2412924233325353,
           0.7695948820066046,
           1.1117424749739497
          ],
          [
           0.7643271285813061,
           1.339813963435346,
           1.270890379991972,
           0.7513835843426419,
           0.718696213687782,
           0.616701228517423,
           1.9688971086522966,
           1.464097649614177,
           2.4999144953769603,
           1.6688553454282722,
           1.2704311686553134,
           0,
           0.5113402388681438,
           1.4615223659424132,
           1.213849358999315,
           0.07992872968714046,
           0.2847273380624631,
           1.1443026876760887,
           1.549567236625302,
           1.3353834303749474,
           1.5280738856197453,
           1.1772920288670863,
           1.5351301583228132,
           1.3689900727959219,
           1.1701991262429292,
           1.5062871696567106,
           1.2368890151600263,
           0.50515637134635,
           1.2723393879369342,
           0.7351379787294681,
           1.501551535649413,
           0.8151144011844239,
           1.69038169732287,
           0.882267035102901,
           1.1452833973514536,
           1.426397141387743,
           1.8620639007442545,
           1.3769657761995866,
           1.1912682520630666,
           1.4862371283586062,
           1.0687142390618454,
           0.8338305449426496,
           1.659921074874101,
           1.6333892514818582,
           1.2770051519834897,
           1.0242103445664927,
           0.9637958012830667,
           1.1880555355266051,
           1.5431105987894942,
           0.37414658136530127,
           0.7344782849922791,
           0.9305046872345112,
           0.9221386712790588,
           1.2974573544076087,
           1.067850626324878,
           0.6657320647676792,
           1.7072847743930037,
           1.7458603991327877,
           2.167836870475762,
           1.0201359409272153,
           1.0030595761096088,
           1.8377999588318819,
           0.8488652252633075,
           1.0363552434115153,
           1.3021495937835896,
           1.2626824379026134,
           1.4734731368523994,
           1.1371496443311446,
           1.5353954440294773,
           1.1335363576091657,
           1.1878656492074233,
           1.3178922866342058,
           1.108210216010958,
           0.9207607820919165,
           1.1815750474839914,
           1.0578107690764742,
           1.0064525566755347,
           1.2674685857526986,
           1.1132697890425491,
           0.6908377759846771,
           1.0764423404593655,
           1.4634646037177654,
           1.2419506227378216,
           1.0380776086891754,
           1.9295754616000518,
           1.1981444353777317,
           0.8260007235273721,
           1.127671479713972,
           1.381880463491649,
           1.4318920811626146,
           1.259369424194193,
           1.2522866475883117,
           0.667072288266159,
           1.0430454833212564,
           1.4160241239049303,
           0.9562985467599535,
           1.1592495876604778,
           1.4630076787762525,
           1.1233694539450163,
           0.9236259614913815,
           0.6348277536064404,
           1.0069224372858516,
           1.0059922965047905,
           1.5221440122284295,
           1.1535100459169938,
           1.1767935983811784,
           1.1709592251568997,
           1.0786194924591048,
           1.4815906085826274,
           1.0911173650551034,
           1.0637695637173754,
           1.060264129933084,
           1.1822154397135305,
           1.2844813538498414,
           1.1524098385263062,
           1.4199628929455894,
           1.2015011639150708,
           1.3742834984783934,
           1.2599376622611098,
           1.2315222613373198,
           1.2440463982556167,
           1.3062708259604554,
           1.254525506373449,
           1.0216637653335434,
           1.23367434974437,
           1.2412924973193338,
           0.680587826597211,
           1.1405992437995303
          ]
         ]
        }
       ],
       "layout": {
        "coloraxis": {
         "colorscale": [
          [
           0,
           "#0d0887"
          ],
          [
           0.1111111111111111,
           "#46039f"
          ],
          [
           0.2222222222222222,
           "#7201a8"
          ],
          [
           0.3333333333333333,
           "#9c179e"
          ],
          [
           0.4444444444444444,
           "#bd3786"
          ],
          [
           0.5555555555555556,
           "#d8576b"
          ],
          [
           0.6666666666666666,
           "#ed7953"
          ],
          [
           0.7777777777777778,
           "#fb9f3a"
          ],
          [
           0.8888888888888888,
           "#fdca26"
          ],
          [
           1,
           "#f0f921"
          ]
         ]
        },
        "margin": {
         "t": 60
        },
        "template": {
         "data": {
          "bar": [
           {
            "error_x": {
             "color": "#2a3f5f"
            },
            "error_y": {
             "color": "#2a3f5f"
            },
            "marker": {
             "line": {
              "color": "#E5ECF6",
              "width": 0.5
             },
             "pattern": {
              "fillmode": "overlay",
              "size": 10,
              "solidity": 0.2
             }
            },
            "type": "bar"
           }
          ],
          "barpolar": [
           {
            "marker": {
             "line": {
              "color": "#E5ECF6",
              "width": 0.5
             },
             "pattern": {
              "fillmode": "overlay",
              "size": 10,
              "solidity": 0.2
             }
            },
            "type": "barpolar"
           }
          ],
          "carpet": [
           {
            "aaxis": {
             "endlinecolor": "#2a3f5f",
             "gridcolor": "white",
             "linecolor": "white",
             "minorgridcolor": "white",
             "startlinecolor": "#2a3f5f"
            },
            "baxis": {
             "endlinecolor": "#2a3f5f",
             "gridcolor": "white",
             "linecolor": "white",
             "minorgridcolor": "white",
             "startlinecolor": "#2a3f5f"
            },
            "type": "carpet"
           }
          ],
          "choropleth": [
           {
            "colorbar": {
             "outlinewidth": 0,
             "ticks": ""
            },
            "type": "choropleth"
           }
          ],
          "contour": [
           {
            "colorbar": {
             "outlinewidth": 0,
             "ticks": ""
            },
            "colorscale": [
             [
              0,
              "#0d0887"
             ],
             [
              0.1111111111111111,
              "#46039f"
             ],
             [
              0.2222222222222222,
              "#7201a8"
             ],
             [
              0.3333333333333333,
              "#9c179e"
             ],
             [
              0.4444444444444444,
              "#bd3786"
             ],
             [
              0.5555555555555556,
              "#d8576b"
             ],
             [
              0.6666666666666666,
              "#ed7953"
             ],
             [
              0.7777777777777778,
              "#fb9f3a"
             ],
             [
              0.8888888888888888,
              "#fdca26"
             ],
             [
              1,
              "#f0f921"
             ]
            ],
            "type": "contour"
           }
          ],
          "contourcarpet": [
           {
            "colorbar": {
             "outlinewidth": 0,
             "ticks": ""
            },
            "type": "contourcarpet"
           }
          ],
          "heatmap": [
           {
            "colorbar": {
             "outlinewidth": 0,
             "ticks": ""
            },
            "colorscale": [
             [
              0,
              "#0d0887"
             ],
             [
              0.1111111111111111,
              "#46039f"
             ],
             [
              0.2222222222222222,
              "#7201a8"
             ],
             [
              0.3333333333333333,
              "#9c179e"
             ],
             [
              0.4444444444444444,
              "#bd3786"
             ],
             [
              0.5555555555555556,
              "#d8576b"
             ],
             [
              0.6666666666666666,
              "#ed7953"
             ],
             [
              0.7777777777777778,
              "#fb9f3a"
             ],
             [
              0.8888888888888888,
              "#fdca26"
             ],
             [
              1,
              "#f0f921"
             ]
            ],
            "type": "heatmap"
           }
          ],
          "heatmapgl": [
           {
            "colorbar": {
             "outlinewidth": 0,
             "ticks": ""
            },
            "colorscale": [
             [
              0,
              "#0d0887"
             ],
             [
              0.1111111111111111,
              "#46039f"
             ],
             [
              0.2222222222222222,
              "#7201a8"
             ],
             [
              0.3333333333333333,
              "#9c179e"
             ],
             [
              0.4444444444444444,
              "#bd3786"
             ],
             [
              0.5555555555555556,
              "#d8576b"
             ],
             [
              0.6666666666666666,
              "#ed7953"
             ],
             [
              0.7777777777777778,
              "#fb9f3a"
             ],
             [
              0.8888888888888888,
              "#fdca26"
             ],
             [
              1,
              "#f0f921"
             ]
            ],
            "type": "heatmapgl"
           }
          ],
          "histogram": [
           {
            "marker": {
             "pattern": {
              "fillmode": "overlay",
              "size": 10,
              "solidity": 0.2
             }
            },
            "type": "histogram"
           }
          ],
          "histogram2d": [
           {
            "colorbar": {
             "outlinewidth": 0,
             "ticks": ""
            },
            "colorscale": [
             [
              0,
              "#0d0887"
             ],
             [
              0.1111111111111111,
              "#46039f"
             ],
             [
              0.2222222222222222,
              "#7201a8"
             ],
             [
              0.3333333333333333,
              "#9c179e"
             ],
             [
              0.4444444444444444,
              "#bd3786"
             ],
             [
              0.5555555555555556,
              "#d8576b"
             ],
             [
              0.6666666666666666,
              "#ed7953"
             ],
             [
              0.7777777777777778,
              "#fb9f3a"
             ],
             [
              0.8888888888888888,
              "#fdca26"
             ],
             [
              1,
              "#f0f921"
             ]
            ],
            "type": "histogram2d"
           }
          ],
          "histogram2dcontour": [
           {
            "colorbar": {
             "outlinewidth": 0,
             "ticks": ""
            },
            "colorscale": [
             [
              0,
              "#0d0887"
             ],
             [
              0.1111111111111111,
              "#46039f"
             ],
             [
              0.2222222222222222,
              "#7201a8"
             ],
             [
              0.3333333333333333,
              "#9c179e"
             ],
             [
              0.4444444444444444,
              "#bd3786"
             ],
             [
              0.5555555555555556,
              "#d8576b"
             ],
             [
              0.6666666666666666,
              "#ed7953"
             ],
             [
              0.7777777777777778,
              "#fb9f3a"
             ],
             [
              0.8888888888888888,
              "#fdca26"
             ],
             [
              1,
              "#f0f921"
             ]
            ],
            "type": "histogram2dcontour"
           }
          ],
          "mesh3d": [
           {
            "colorbar": {
             "outlinewidth": 0,
             "ticks": ""
            },
            "type": "mesh3d"
           }
          ],
          "parcoords": [
           {
            "line": {
             "colorbar": {
              "outlinewidth": 0,
              "ticks": ""
             }
            },
            "type": "parcoords"
           }
          ],
          "pie": [
           {
            "automargin": true,
            "type": "pie"
           }
          ],
          "scatter": [
           {
            "fillpattern": {
             "fillmode": "overlay",
             "size": 10,
             "solidity": 0.2
            },
            "type": "scatter"
           }
          ],
          "scatter3d": [
           {
            "line": {
             "colorbar": {
              "outlinewidth": 0,
              "ticks": ""
             }
            },
            "marker": {
             "colorbar": {
              "outlinewidth": 0,
              "ticks": ""
             }
            },
            "type": "scatter3d"
           }
          ],
          "scattercarpet": [
           {
            "marker": {
             "colorbar": {
              "outlinewidth": 0,
              "ticks": ""
             }
            },
            "type": "scattercarpet"
           }
          ],
          "scattergeo": [
           {
            "marker": {
             "colorbar": {
              "outlinewidth": 0,
              "ticks": ""
             }
            },
            "type": "scattergeo"
           }
          ],
          "scattergl": [
           {
            "marker": {
             "colorbar": {
              "outlinewidth": 0,
              "ticks": ""
             }
            },
            "type": "scattergl"
           }
          ],
          "scattermapbox": [
           {
            "marker": {
             "colorbar": {
              "outlinewidth": 0,
              "ticks": ""
             }
            },
            "type": "scattermapbox"
           }
          ],
          "scatterpolar": [
           {
            "marker": {
             "colorbar": {
              "outlinewidth": 0,
              "ticks": ""
             }
            },
            "type": "scatterpolar"
           }
          ],
          "scatterpolargl": [
           {
            "marker": {
             "colorbar": {
              "outlinewidth": 0,
              "ticks": ""
             }
            },
            "type": "scatterpolargl"
           }
          ],
          "scatterternary": [
           {
            "marker": {
             "colorbar": {
              "outlinewidth": 0,
              "ticks": ""
             }
            },
            "type": "scatterternary"
           }
          ],
          "surface": [
           {
            "colorbar": {
             "outlinewidth": 0,
             "ticks": ""
            },
            "colorscale": [
             [
              0,
              "#0d0887"
             ],
             [
              0.1111111111111111,
              "#46039f"
             ],
             [
              0.2222222222222222,
              "#7201a8"
             ],
             [
              0.3333333333333333,
              "#9c179e"
             ],
             [
              0.4444444444444444,
              "#bd3786"
             ],
             [
              0.5555555555555556,
              "#d8576b"
             ],
             [
              0.6666666666666666,
              "#ed7953"
             ],
             [
              0.7777777777777778,
              "#fb9f3a"
             ],
             [
              0.8888888888888888,
              "#fdca26"
             ],
             [
              1,
              "#f0f921"
             ]
            ],
            "type": "surface"
           }
          ],
          "table": [
           {
            "cells": {
             "fill": {
              "color": "#EBF0F8"
             },
             "line": {
              "color": "white"
             }
            },
            "header": {
             "fill": {
              "color": "#C8D4E3"
             },
             "line": {
              "color": "white"
             }
            },
            "type": "table"
           }
          ]
         },
         "layout": {
          "annotationdefaults": {
           "arrowcolor": "#2a3f5f",
           "arrowhead": 0,
           "arrowwidth": 1
          },
          "autotypenumbers": "strict",
          "coloraxis": {
           "colorbar": {
            "outlinewidth": 0,
            "ticks": ""
           }
          },
          "colorscale": {
           "diverging": [
            [
             0,
             "#8e0152"
            ],
            [
             0.1,
             "#c51b7d"
            ],
            [
             0.2,
             "#de77ae"
            ],
            [
             0.3,
             "#f1b6da"
            ],
            [
             0.4,
             "#fde0ef"
            ],
            [
             0.5,
             "#f7f7f7"
            ],
            [
             0.6,
             "#e6f5d0"
            ],
            [
             0.7,
             "#b8e186"
            ],
            [
             0.8,
             "#7fbc41"
            ],
            [
             0.9,
             "#4d9221"
            ],
            [
             1,
             "#276419"
            ]
           ],
           "sequential": [
            [
             0,
             "#0d0887"
            ],
            [
             0.1111111111111111,
             "#46039f"
            ],
            [
             0.2222222222222222,
             "#7201a8"
            ],
            [
             0.3333333333333333,
             "#9c179e"
            ],
            [
             0.4444444444444444,
             "#bd3786"
            ],
            [
             0.5555555555555556,
             "#d8576b"
            ],
            [
             0.6666666666666666,
             "#ed7953"
            ],
            [
             0.7777777777777778,
             "#fb9f3a"
            ],
            [
             0.8888888888888888,
             "#fdca26"
            ],
            [
             1,
             "#f0f921"
            ]
           ],
           "sequentialminus": [
            [
             0,
             "#0d0887"
            ],
            [
             0.1111111111111111,
             "#46039f"
            ],
            [
             0.2222222222222222,
             "#7201a8"
            ],
            [
             0.3333333333333333,
             "#9c179e"
            ],
            [
             0.4444444444444444,
             "#bd3786"
            ],
            [
             0.5555555555555556,
             "#d8576b"
            ],
            [
             0.6666666666666666,
             "#ed7953"
            ],
            [
             0.7777777777777778,
             "#fb9f3a"
            ],
            [
             0.8888888888888888,
             "#fdca26"
            ],
            [
             1,
             "#f0f921"
            ]
           ]
          },
          "colorway": [
           "#636efa",
           "#EF553B",
           "#00cc96",
           "#ab63fa",
           "#FFA15A",
           "#19d3f3",
           "#FF6692",
           "#B6E880",
           "#FF97FF",
           "#FECB52"
          ],
          "font": {
           "color": "#2a3f5f"
          },
          "geo": {
           "bgcolor": "white",
           "lakecolor": "white",
           "landcolor": "#E5ECF6",
           "showlakes": true,
           "showland": true,
           "subunitcolor": "white"
          },
          "hoverlabel": {
           "align": "left"
          },
          "hovermode": "closest",
          "mapbox": {
           "style": "light"
          },
          "paper_bgcolor": "white",
          "plot_bgcolor": "#E5ECF6",
          "polar": {
           "angularaxis": {
            "gridcolor": "white",
            "linecolor": "white",
            "ticks": ""
           },
           "bgcolor": "#E5ECF6",
           "radialaxis": {
            "gridcolor": "white",
            "linecolor": "white",
            "ticks": ""
           }
          },
          "scene": {
           "xaxis": {
            "backgroundcolor": "#E5ECF6",
            "gridcolor": "white",
            "gridwidth": 2,
            "linecolor": "white",
            "showbackground": true,
            "ticks": "",
            "zerolinecolor": "white"
           },
           "yaxis": {
            "backgroundcolor": "#E5ECF6",
            "gridcolor": "white",
            "gridwidth": 2,
            "linecolor": "white",
            "showbackground": true,
            "ticks": "",
            "zerolinecolor": "white"
           },
           "zaxis": {
            "backgroundcolor": "#E5ECF6",
            "gridcolor": "white",
            "gridwidth": 2,
            "linecolor": "white",
            "showbackground": true,
            "ticks": "",
            "zerolinecolor": "white"
           }
          },
          "shapedefaults": {
           "line": {
            "color": "#2a3f5f"
           }
          },
          "ternary": {
           "aaxis": {
            "gridcolor": "white",
            "linecolor": "white",
            "ticks": ""
           },
           "baxis": {
            "gridcolor": "white",
            "linecolor": "white",
            "ticks": ""
           },
           "bgcolor": "#E5ECF6",
           "caxis": {
            "gridcolor": "white",
            "linecolor": "white",
            "ticks": ""
           }
          },
          "title": {
           "x": 0.05
          },
          "xaxis": {
           "automargin": true,
           "gridcolor": "white",
           "linecolor": "white",
           "ticks": "",
           "title": {
            "standoff": 15
           },
           "zerolinecolor": "white",
           "zerolinewidth": 2
          },
          "yaxis": {
           "automargin": true,
           "gridcolor": "white",
           "linecolor": "white",
           "ticks": "",
           "title": {
            "standoff": 15
           },
           "zerolinecolor": "white",
           "zerolinewidth": 2
          }
         }
        },
        "xaxis": {
         "anchor": "y",
         "constrain": "domain",
         "domain": [
          0,
          1
         ],
         "scaleanchor": "y"
        },
        "yaxis": {
         "anchor": "x",
         "autorange": "reversed",
         "constrain": "domain",
         "domain": [
          0,
          1
         ]
        }
       }
      },
      "text/html": [
       "<div>                            <div id=\"8d606749-1ec3-4ec0-98b0-fc8f82590ef9\" class=\"plotly-graph-div\" style=\"height:525px; width:100%;\"></div>            <script type=\"text/javascript\">                require([\"plotly\"], function(Plotly) {                    window.PLOTLYENV=window.PLOTLYENV || {};                                    if (document.getElementById(\"8d606749-1ec3-4ec0-98b0-fc8f82590ef9\")) {                    Plotly.newPlot(                        \"8d606749-1ec3-4ec0-98b0-fc8f82590ef9\",                        [{\"coloraxis\":\"coloraxis\",\"name\":\"0\",\"x\":[\"15947\",\"6765\",\"2992\",\"20832\",\"15554\",\"18840\",\"2931\",\"6413\",\"7106\",\"6171\",\"30618\",\"25056\",\"32643\",\"14086\",\"19515\",\"23613\",\"29934\",\"32417\",\"15356\",\"3757\",\"2939\",\"1181\",\"19592\",\"27832\",\"9991\",\"8508\",\"12606\",\"4448\",\"19363\",\"7967\",\"6629\",\"16340\",\"7714\",\"10787\",\"18285\",\"4370\",\"13458\",\"18218\",\"6108\",\"19097\",\"9790\",\"9178\",\"12943\",\"25474\",\"25712\",\"18416\",\"17636\",\"25759\",\"6756\",\"27270\",\"18400\",\"6013\",\"8125\",\"16016\",\"30888\",\"16415\",\"16490\",\"211\",\"9782\",\"25534\",\"572\",\"3382\",\"22136\",\"8250\",\"16313\",\"26331\",\"9600\",\"10720\",\"30814\",\"5991\",\"14612\",\"24993\",\"24925\",\"5392\",\"16996\",\"3476\",\"22906\",\"26127\",\"27268\",\"850\",\"24206\",\"32320\",\"16671\",\"11618\",\"23906\",\"7491\",\"11491\",\"26987\",\"26594\",\"27401\",\"6594\",\"2930\",\"7578\",\"6503\",\"29144\",\"5579\",\"23374\",\"5633\",\"25878\",\"11172\",\"18803\",\"23514\",\"23682\",\"17761\",\"22199\",\"8633\",\"31620\",\"23312\",\"3113\",\"9662\",\"7739\",\"25576\",\"11173\",\"20805\",\"26924\",\"10633\",\"9488\",\"30247\",\"23436\",\"2914\",\"7114\",\"1878\",\"1830\",\"1818\",\"6780\",\"2539\",\"19260\",\"19112\"],\"y\":[\"location_continent\",\"football_player_position\",\"location_religion\",\"location_language\",\"person_profession\",\"location_country\",\"country_capital\",\"person_language\",\"singular_plural\",\"present_simple_past_simple\",\"antonyms\",\"plural_singular\",\"present_simple_past_perfect\",\"present_simple_gerund\",\"en_it\",\"it_en\",\"en_fr\",\"en_es\",\"fr_en\",\"es_en\",\"algo_last\",\"algo_first\",\"algo_second\"],\"z\":[[0.9771580045525267,0.8956385577420797,2.4362577015249864,2.411453218647786,0.6743353051248177,0.5100486066859055,0.17309585545583936,0.8775009702621924,0.7937499562168735,0.30232821248969033,0.5472238886890203,0.27216946445149887,0.12054802990540586,0.0,0.48232079427204505,0.2047843143505288,1.173423720675651,0.952578633374042,0.14119677121229182,0.19225077550902242,0.2842459520735061,0.2529819998567164,0.20143231949760457,0.2741634079444804,0.49967138242630743,0.3196131049391906,0.3132634347954806,0.9100920425090404,0.3136976745617234,1.53200843108865,0.258098258795634,1.4924075179678442,0.20597015570059596,0.7305822775114144,0.9426476120767427,0.19441960692443971,0.5806477668412204,0.20050708223947458,0.5610155310104972,0.46602668358204813,0.515638410022526,0.2471733410279484,0.3302699636338027,1.09042341382766,0.3299632685469686,0.49208555960554784,0.724510310694336,0.1393283785876742,0.4492245473094899,1.5839887812738809,0.47167496202557657,1.286879361815043,0.324810236173868,0.42808561100272857,0.4607196825272154,0.5861566286261177,0.29188999869985455,0.5274647462762119,0.5144299649033037,1.1828264464446159,0.8683150288846072,0.6597221708096705,0.460736558062581,0.6137442381622222,0.8258053567178125,0.4978973182412133,0.41030497594756943,0.5663066228357112,0.5080594421713324,0.18619752516718127,0.652630364132837,0.4793277863891906,1.5329048601281663,0.553516168718985,0.3381506736005191,0.9351833827028632,0.9177972495206154,1.025068706523655,0.5431722021896778,1.5306732901873394,0.6757199007802259,0.7159660601222398,0.4384221598561536,0.5948357695719514,0.4738849786306774,0.6095843315450982,0.9712205690654017,0.3221247135620222,0.5449533141371969,0.34627356831338846,0.3566409237038825,0.3086148208723384,1.0373107046691163,0.7626584068348542,0.5608338401560548,0.4389741827379441,0.4104651870368278,0.6814384808362316,0.6072887808105719,1.1176834776688096,1.1669399633275024,1.7216102047454402,0.5921177481558634,0.9046503337575139,0.635647007527382,0.592447822465225,0.3554595843542059,0.4716652574870822,0.7492138070458728,1.0062756935687858,0.9191435949521579,0.5680034121818575,0.8256182837267446,0.5728550562035696,0.5031058706294353,0.7929777300433399,0.529524534007958,0.5680335276315448,0.996578464320482,1.1717408335493844,0.6829185407138706,0.5733092892735219,1.2003429632737292,1.461886650450612,0.8965472628512431,0.9840773928031455,1.1716077787441002,0.6647558494114681],[3.982693600963765,2.852397924540722,1.1205181844866476,1.3184001012954418,3.002489989302557,0.0,1.3150767638577878,2.828201064538591,0.49285668629054685,0.35379564139568137,1.2228405253611563,1.205404869175537,0.5259523690988653,1.0503050179659938,0.3758569839490359,0.6257099465388299,0.4713123425343464,1.5650759843890667,1.2541647000866338,1.6299851493113833,0.4719967726650394,1.2184843113660315,0.8000748419115747,0.2832457268902292,0.5033298636491627,1.4332843939410884,2.2870964536908778,2.387035478240981,0.6337375810002666,0.18574487514723667,0.4709758775825569,1.5402412382929984,0.7293428227609696,1.1324272058358624,1.2895496742084769,1.912250895531138,1.2181151616020234,1.223106118085959,0.7933234353468956,1.0450184387285273,2.2628087342706937,1.092588493580883,0.9395312333948094,0.10207647893908738,0.6261602034652074,1.774923475562613,1.6246422370173494,0.9297160409070885,1.6287289366331907,1.1859151467947806,0.6124693077051525,1.2231888273527485,0.905181514925434,0.9548126717210993,0.4805444630138256,1.2685393099356108,1.332897195524104,1.4219943355145401,0.6419257164238399,1.1530834621473907,1.139198843063505,0.9914621739384992,0.7468933126686572,0.9058046149645319,0.5976313298204596,0.9503065067278548,1.1632527151682819,0.6115189772569197,1.3269869326791592,0.6792526628806961,0.7785029159201107,0.5835061162167835,1.0211809324233256,1.154549344596869,0.9250618453751471,1.4305893496002062,0.5196565699046627,0.9712867148153396,0.7007628183805678,0.6682901804671093,1.1823523140947796,1.3997431661128648,1.1781961276295554,0.6527200957738168,1.319383570866766,1.2476859068709194,0.5499048398815719,0.8448850047857908,0.9698754910918886,1.137338900402063,1.1515199778907845,0.8412326180435423,1.147514673952763,0.6324108930972692,0.9469784801779393,0.7334543755340273,0.8068974156270086,1.0591979188632314,0.8453050292988769,0.731727410862151,1.0063159567556121,0.8661187622565846,0.5876162318812067,0.9673761196354346,1.0906897142581606,0.9138879204374192,1.0385185958911838,1.0748545138352024,0.8748004980722659,0.9273767148330733,0.5800101249749151,0.7798675422074152,0.81055539029983,0.5053339498676591,0.6630660112111091,0.8873127781882006,1.0115182267164613,0.6364791017145435,1.3855749367834247,0.9880398349277267,0.6551421582387187,0.796602722019818,0.6984287971177794,0.8473343058270331,0.7783704875185433,0.7662299978158293,1.0412916254224893,0.7909705783225577],[0.46233838852659054,0.2674478592373796,1.8676223639398757,2.0268640140273657,0.47636369677679236,0.0,0.22865084341474973,0.8877129334048637,1.0865437406789464,0.19094837102212195,0.2467439484571019,0.26685346182250796,1.1415267944319674,0.018563198390674055,0.281210558622267,0.8358974364040569,0.8825381476115874,0.15908722043701015,0.4510915811006014,0.4646327291277734,0.22071306078040692,0.32928343768240637,0.030750203348413295,0.24091266671385544,0.31320575315848853,0.7853214427249539,0.3232548240581532,0.4007041278519344,0.385286182446649,1.851367393323904,0.322602111104839,1.2685259523959247,1.080901500395292,0.8139893193970174,1.2638504465589326,0.609582446362931,0.9450733597147183,0.2899995278791485,0.575876898695159,0.38557831009702387,0.7811118434331933,0.6574033204293593,0.6082545053608635,0.8727664102586487,0.4190305359403296,0.4932139205581766,1.2635941965662312,0.5091931891902423,1.569786022898606,1.390179477240174,0.7709265988187063,1.4250839763304235,0.48879800203568735,0.1437568447140942,0.6689622503019471,0.5289944318293525,0.549545147804544,0.36978093038023124,1.1370059802580506,0.3432052454423941,0.9711226634287615,0.8035559947992518,1.0194045668354816,0.5088579646402343,0.7399699335759122,0.35674833619354107,1.1204421290391162,0.7575267956402074,0.5894282510431749,0.5413836582714393,0.10445185947942177,0.5847519935782816,1.328552698034434,0.2483760403112443,0.40406047927692923,0.47494370664121127,1.4725534375327431,0.9048224166856412,0.49153149503342797,1.2476435040509648,0.6723982108080054,0.9479047963474638,0.8622953771745652,0.6081841944670048,0.9982627221246003,0.7403592553489605,1.3519320195309643,0.5744757311974344,1.161232879732578,1.0095365370497997,0.5869487150858894,0.44230270109722797,1.2469015662256038,0.9089039162363799,0.6596364577208614,0.7100614003089364,0.32097859442224586,0.8914577276047272,0.6255530191273257,1.6410556366938285,0.7698038678896628,1.1138389344458164,0.691298541384223,1.4257832519644282,0.9661989697804556,0.4927995900466728,0.5573259540695228,1.270317297965434,1.457808868232685,1.0285010856600927,0.9291579136817459,0.34183581674641983,0.620479644207279,0.9400289682991313,0.871979228767749,1.5234114158456873,0.948515887576508,1.1397245968736283,0.7286625053188676,0.6487548990192915,1.2367088857128319,1.087903240018398,1.2830601822671528,1.237123076622997,1.194168255323723,1.2412924973193338,0.9242984571590339,0.7586710261462164],[0.4488519581929509,0.0,3.1687728956970878,0.6663876714281644,0.3677146176751159,0.9193254425516064,0.9061442785878666,0.41187390350852876,0.36794858423612764,0.16101682340527285,1.3837090911339853,0.4095099350193347,0.6552927301790413,0.17524185057315594,0.3117788224750853,0.8732706037542832,0.7314034638925786,0.06045974843671384,0.41806696499581325,0.20889127705121102,0.13747476864258115,0.5070609604628071,0.3735960514563186,0.22371087561026828,0.30492989887687866,0.36309123635893115,0.1882395439980413,0.32022531945362875,0.308087051453134,0.3938512277915187,0.3970267928396145,0.9792600603479831,0.49351719049621806,0.3764308255781644,1.1853839962253632,0.5826522042851375,0.3312182533636565,0.3955818637089221,1.1023611620224532,0.43232213285078397,0.37054404130559937,0.6979104606383303,0.34297448834125394,0.5697376394641873,0.6617057123399968,0.7760723096611947,1.2296231304116858,0.6366974732843559,0.9020651455417329,1.5188264826317655,1.1184996528441422,1.6260716256749417,0.6216751171346749,0.18368439121889293,0.6157405688332551,0.9510349723189157,0.2682264038675016,0.4663412214721301,0.4611362240582589,0.5370468128125367,0.8079649271678047,0.8599337506570524,0.5409199899997964,0.9626297503494724,0.3991230474802773,0.6511605042751859,0.7868688410306817,0.4981663932847929,0.4911934985286113,0.6881883732043583,0.5061023952341763,0.48040108702499623,1.393763217646173,0.5216122056614795,0.8056437019651255,0.5405299718328628,0.8736591659266829,0.5706477028627349,0.7360050040760634,1.4089172766634328,0.6534942711579039,0.6346216167720902,0.5496438526309868,0.6677577542980885,1.0267116635967835,0.43927517753795553,1.1590620781087273,0.6839659108425218,0.49952912505960523,0.7700168319869051,0.6669948183826716,1.0627167801065394,1.1493149199333617,0.7515250942163404,0.6203366761152119,0.8488669135334415,1.090016447623137,0.550355767836089,0.5495302474571062,1.6695749794746622,0.8979827492483753,0.94604982610074,0.5631915941383511,0.8681708409237382,0.4695414451528426,0.6066523465054006,0.9692838495103027,0.8792790845508004,0.7580428142764578,1.2681231638133204,0.7414447727184458,0.870159358597486,1.0229006459885674,0.939626638904377,0.7228131824212027,0.8225974633715367,0.7240360997673011,0.8823696837897783,0.799650191197372,0.8114037327276815,0.6772184599192158,0.6932263110532371,1.028557652259283,1.0228475723011634,0.7190261241926071,0.9070674198700738,0.7434908262247027,0.9487595836341327],[5.035861137733507,4.348447537756605,0.3531237502300645,0.08120749967871121,2.127732767611492,0.6498510825980053,0.294599454650067,3.146930468758097,0.9175629647009464,0.23959844308714828,1.4611185762678283,0.5429348763834206,0.6038573790212239,1.1211077385555683,0.0,0.5766185552933784,0.26606649841710245,1.799443960220007,0.8515613625433962,0.19713906458419833,1.0590399817886778,0.4059025933587929,1.1115329218094743,0.3424190066908012,0.39823899053186623,1.8007257602118896,1.1778384097858308,0.85907498155881,0.2335468893988828,0.7622597449992851,1.016570390418689,0.4918656848343935,1.30235334559842,1.9932306628681697,2.7557399675551335,1.9421702851582603,2.315530441459786,1.3113157373139832,1.5038780065733306,1.7201728241114238,1.9943751560556016,1.2482135792517044,1.0595194863955217,0.1556144056196533,0.3354904781361347,2.2144924556690024,1.4679679434620234,0.6412261669991093,1.6176980423364113,0.7588411614867374,0.9272182666236918,1.6448504798425856,0.8584543014289808,0.9928196218339224,0.7810567612092633,1.1014776544228155,1.3220039047321603,0.6314054389916056,0.8243402455365353,0.3985850548100365,1.2414681549722568,1.231323239784114,0.5033162554616238,0.5930679321557858,0.6322357276078546,0.7598437290666644,1.1480016330625775,1.2124004615149044,1.559094586135689,0.6871058791451109,0.4271566309102401,0.7570977822576681,0.9275805467516042,1.6822404266873154,0.5065322161972922,0.8998845517803129,0.4998615599625828,1.9605766581776995,0.945152986302433,1.0738131984725923,1.6939353342047017,1.3112553568540188,1.4975958590431668,0.7813413516808905,0.9658978923058834,1.5580066696658321,0.19311151731064619,0.8263916965013384,1.13464094878401,1.5883524912894906,1.1148299679250742,0.6446444988064477,0.9896148676368263,0.6579332235152181,1.122769671093889,0.8539503298191274,0.9106199966148222,0.7920959018191024,0.9483881345100046,1.0135048068487336,0.5272425158055745,0.9110652731049838,0.5665642515902563,0.8137098698845031,1.4258672528725007,0.6499432123495168,1.4148490253807477,1.167205198510262,0.6856200920252908,1.2732146057312266,0.7318605642744279,0.8062127197572575,0.4363773252719414,0.5725681427768449,0.7874479090723314,1.0056504464776101,1.5109350076604369,0.8555536515554968,1.0942655013962113,0.5367536994981753,0.8617590165082446,0.9897532149219093,0.7705546100290228,0.7935218672158285,1.180227427093942,1.0756334662419849,1.059627497621455,0.8338987798887978],[2.052291379189334,2.8847471829341944,3.502902716082948,2.121967176942663,0.6858534381797162,2.029699944532779,0.5861812448448952,1.012219854609877,0.0,0.9983097710862459,0.6312367622275065,0.6883712292413036,0.8249931631084232,0.3636347025283242,0.7292665294934928,0.7484569147205651,1.7839702810210012,0.7726687669639145,0.6294613626995375,0.6036761574328471,0.6342563628952537,0.7053652027056883,0.3197035659774034,0.6961798388373334,1.014305635602824,0.3003445546257546,0.7109057316391802,1.1638598201175372,0.5778034331604299,2.2256914904534586,0.2971087840480253,1.575017026244863,0.959226464013054,0.42358748568152615,1.2933063912431406,0.31587650138805695,0.5919527525361333,0.2947258333175309,0.7846462553391408,0.35196973518142155,0.7729476568378427,1.2357990397391796,0.5140391925220935,0.5299352240692458,0.8720797443074059,1.199992913571683,1.8576618682478574,0.5930493830810023,1.133330161843299,1.5758318894409462,1.2947501200247258,1.3378187869569067,0.8846780184688859,0.9552665667950194,0.9924984959978435,0.8805861302334601,0.7339185665939941,1.1744656037579742,1.09904557287822,0.9903325605119642,1.102495510161562,0.7768540783221667,0.7398467189654019,2.098942338806579,0.8092882836571755,1.222960748736273,0.3665631010506716,0.5420725004782878,0.8847832791553585,0.5459869737891906,0.9770073422078603,0.7241764589837446,1.7611464035797395,1.2671671782559373,0.9887510945087287,1.1670133212883513,1.0579292693895108,1.2606210945304013,0.5195239618139782,1.6592351354221406,0.995454523312485,0.9048654682609559,0.5996499614780983,0.7264322945122003,0.8980190548763217,0.4512174779840006,1.1722956759238548,0.6171847630940502,0.8294278255003412,0.5379343683982947,0.4769421402935238,0.8591673344068297,1.7265572473438975,0.8697899326674322,0.8408831628813404,0.7266104979724943,1.3788952445016847,0.7211906766207062,0.6473861529203532,1.1929009616410318,1.4493860301877608,1.6814852076142257,0.9067419081946858,0.7840956758170602,0.6999493902063856,1.0588365401544722,0.9273296547385607,0.9938023439088689,0.5206318245523165,1.5488144712200045,0.7760850650832941,1.0128828534818781,1.363821370617248,0.9555778543550648,0.6949524725136339,0.8439345420875369,0.7416676872038704,1.0050032914345182,0.692479695988011,1.1266299463361034,0.734692823719209,0.820591957524533,1.157408267016917,1.3659330360651634,1.04591070626575,0.9953845732368851,1.1408593471446542,0.8419892368337014],[0.48084305819727663,1.4231043524478102,2.2070891737865157,1.227836715982234,0.401515111531925,0.7901692875032729,0.5600144467790005,0.7717205709101576,0.0,0.0186415138234344,0.3364758329664437,0.43781530442093786,1.0470963775315718,0.3670524904913125,0.23097248804216367,0.12022205823361068,1.766322532630772,0.6119693154012653,0.5524095132649358,0.2896597640456819,0.6006684685188659,0.34575460115166157,0.27298347113112414,1.0233114705363762,0.8573552598160487,0.26029172736203243,0.6039400085828934,0.7389166417315808,0.582583518177759,0.6814588643806662,0.24635568464177213,1.0191659147104701,0.3371514621782534,0.5022027900444834,0.7806292803756895,0.19731504661787264,0.6987559581000443,0.22041584285989752,0.4669513320283303,0.286239419294496,0.5188605473674498,0.7826897506560305,0.35618405846133255,0.8944719938174146,0.8057266734982749,0.6593218494881187,1.9689872614020436,0.4316961450589204,0.7584242553064283,1.264472415514816,0.9690277825800264,1.514572519264214,0.6942800010931821,0.954279762178209,0.45490676911633576,0.6631955614403794,0.6112649120224602,1.0489495501096529,1.1556226871508362,0.8799028871288525,0.6445323132714131,0.5323767212235291,0.8997237561889458,1.6022602588227595,0.7551764364383653,1.044422064123664,0.3044660536247443,0.5986353900681115,0.9740955737466965,0.6255397315252865,0.8909281780729872,0.844411310675517,1.352251607901686,1.461563729639344,1.0735569502227058,1.3183542135141582,1.1378475179765901,0.817683673217669,0.6580028463221286,1.7635468288325162,0.8229876816772417,0.4393990265238401,0.541921885491967,0.9647537032986936,0.6795758793205663,0.6677842524619455,1.265629961496344,0.782048751415392,0.8614568917350872,0.5523824433170231,0.41136046517691205,0.8527462133760345,1.5118073766746598,1.015079801123787,0.527855422694904,0.6711358904136465,1.3349268966078094,0.8437143517813464,0.7643866667936705,0.8911490293634048,1.3778018144369057,1.3707087565111613,0.9113898844375499,0.6522297230842206,0.6313359249784148,1.0351647662287613,0.7540834568359817,0.973318104459535,0.6199402790028834,1.4067576842545986,0.7665659183419833,0.9410737679634736,1.553964129797543,1.1707781483764088,0.8851228796599264,1.0651887429911497,0.8498961641175748,0.8762531575766068,0.5370098177592573,1.1735992578740453,0.8494949331870078,0.7304232367053092,0.9554973792924824,1.3049217215452074,1.3089504492935506,0.988290201102053,1.2518238680607476,0.8340982800356715],[0.31360060258267125,0.5305035789628079,3.0970611973659725,0.09206848059598786,0.1612096211326833,0.8474141341002371,0.5136903294113179,0.2613390080743046,0.4813097809733585,0.40856309732065027,0.8598612896449707,0.43381544826282886,0.4062576697343151,0.04548781188430017,0.6613096600955545,0.7534247012160612,0.628974845464242,0.202308217980056,0.2303247601030958,0.0,0.12115196899834127,0.2203724424969661,0.4555165662907973,0.09517537592940718,0.17562684779175902,0.3513203014820091,0.09687838375798889,0.20315956275303898,0.12235089820604954,1.0418663589047021,0.5288666465883737,0.8917636981641172,0.5013218754993763,0.40192673471795176,0.49127542472458147,0.607238473735679,0.3162913003479583,0.42812148255320354,1.0883626763624215,0.48328494696791024,0.23844064183217273,0.7317024767943435,0.5381643762449935,0.4689440824908538,0.5003796563513134,0.8589009018607081,0.8720152087569769,0.5185692354587476,0.8652351665217823,1.783831472434554,0.9506971125331576,1.2363285716450967,0.39253517872085103,0.2632675053017894,0.6578134612515707,0.43494404868338155,0.4387090470916586,0.360500943732932,0.5300662288512417,0.2699622160700731,0.5266477516601258,0.5112130344068027,0.40125834436834584,1.2016846063626891,0.23699338661842653,0.4890429553333215,0.6809538951349805,0.3683263651317445,0.26594333725022046,0.45381559916053127,0.46466680988714143,0.3237223574580149,1.3334826063818814,0.33991720343226406,0.612915692963626,0.38746266459426276,0.5405851726284535,0.2511840342594951,0.6651461051315166,1.2578830062330673,0.6305790415915937,0.9616815426947494,0.4792841777179393,0.6100075719924601,0.8474280032371165,0.5066533575029627,1.1268782389349283,0.465889998505579,0.5396129387614819,0.8788152100261243,0.5418779536338342,1.0126671659901245,0.9599022549298106,0.6480653194031384,0.5612110056922309,0.7450496745397083,0.5513596777636919,0.4219478559478522,0.6121741688651776,1.6695750789890917,0.6446738937325597,0.8574456096125352,0.4550177421781257,0.8854263948651533,0.5015522145342255,0.5366945663290025,0.6852787953001714,0.6106204365902029,0.6480766499844918,1.1545200890704113,0.5923729209349108,0.5298353916420352,0.7963425025484193,0.6049079052098403,0.5130560417671676,0.6330949274063322,0.6480585224619356,0.765761528854409,0.869445075457573,0.6008380226687402,0.719014480510285,0.5284688606482407,1.0281821860270997,1.0729868854486901,0.49743741852478107,0.7225656529455023,0.7869639905240263,0.8129027532828399],[0.4661562295137129,0.0,0.11291728488490801,1.4909654279864968,0.5646208027744288,0.9009778143084358,0.4502089710351305,1.1765485695568232,1.390231828740327,1.0689707080931168,1.2902932999991799,2.085665953138555,1.43200467048592,1.0496799342730911,1.3804099955495317,2.4104025709684476,0.6989946013703179,1.8015346273045731,0.8006414181221468,1.39895873170361,1.3630362616655898,1.1395948725231784,1.4916218818494964,1.727587285334916,1.754098237556559,0.7419031265948816,1.2902473865259385,1.3993599161092398,1.5194705853371977,1.455395125913055,1.2950170411822535,0.5509912877966142,1.5600625100769612,0.9429713923361814,1.0052121419361877,1.2566388027831534,0.6078916913849269,1.3797195613713786,0.939511996717931,1.162615759529258,1.4301221250497755,1.415154672421259,0.9798671282936366,1.1683266412620779,1.2882992841285072,1.1204718093302943,0.6907739147777264,1.1793120728166666,0.7050547229598745,0.8450547436690126,1.1688222725904964,0.8892591575628991,0.9889293754697366,1.1951608949889492,1.4551164108348686,2.010971521846077,1.0929992206439967,1.11077527646748,0.6321699569423405,1.7838084732794155,0.7289386575468682,1.1430062062861523,1.1049255662421316,0.8549215114728183,1.285610503285671,1.1487780577465385,0.8267779292847813,1.3470234893328488,0.9172398539160891,1.2026506128751226,1.4286509684464517,1.4140310869164232,1.0331723370981047,1.0308896328683073,1.6588842320098678,1.0908459987042716,1.3083938262254962,1.1750088457249819,1.5411016016790984,1.104355277870453,0.8959934580834668,0.7572388092006876,1.172311337600009,1.3359458762835967,1.4189710804420075,1.1614901679385694,0.9689612708991999,1.151684928736429,1.167645855385598,1.3127371666215475,1.286525678498021,1.4889853937915052,1.0255639423047962,1.3390409095766374,1.242056261107131,0.8266616099330595,1.2009313004553899,1.2506980439830735,1.253283719699184,1.1101363033348477,1.246229912232162,0.809942319387782,1.336104465197317,1.2595029657790993,0.8133464146885463,1.2738441890900662,1.12007748912213,0.9127794313021651,1.1212991123156284,1.1873858857791009,1.2156592068633911,1.155568409130817,1.182035564915467,1.1445869211602058,1.1363627830117184,1.1655964108798782,1.021770267978824,1.1521436735310147,1.093304168120398,1.2227645514114192,1.1928294768860397,1.2125911640172902,1.3407099722661695,0.9407026187497624,1.2112549567045379,1.211583246409434,1.443944988136714,1.197465514314515],[0.08131530567737706,0.0806370569457667,0.0,0.3382003949286533,2.4820086549764317,0.21413267055256086,2.4194956963184913,0.6175383534272479,0.0986148095365489,1.3835313805279537,0.20025561747597792,0.7959180673269117,1.269032745977146,1.9141731244474347,0.9239416489182705,1.1933820172731504,0.7086275013613298,0.526827325901261,2.154957815423176,1.2780319427661608,1.2048720984161507,1.2380689305301604,1.0962047379638709,1.4583861569045333,1.486676826096726,0.81774210474972,0.8839607112831925,1.0008898983906047,1.4203629670039764,0.6518685843391699,1.3155819226495198,0.27603789977908566,1.1646834797739143,0.43905209302395565,0.3163861813816263,1.0015610770380237,0.8129266996286519,1.254421338005247,0.7000100116696234,1.3075280038669674,0.9372638484089552,0.25666511115506435,0.750961838669691,1.110992168944959,0.9387771505822827,0.927172330954943,0.43272535854069033,1.866480659632899,0.992789022265175,0.5145267443393428,0.1203595253104005,0.31163266261928696,0.9001903884789509,0.9417003082200355,1.4655822943053305,0.9412482616802769,1.0679425197577828,0.6896903225050691,0.700768874675298,1.13251304926712,0.7884610982539191,0.6961180572566599,1.433624910167638,0.8935503743494561,1.244409841092717,0.7754257304763228,1.1140927909098557,1.052142057431395,1.1137350715847907,1.3754865490750319,1.2572803046293117,1.3487303076370742,1.1128484186674688,1.2613726201987063,1.3112118546188183,0.907732044308546,1.0410303257839315,0.7833213166749479,1.4046476019117151,0.9703625656548106,0.7833316455015478,1.0242073032792163,1.1780022432829285,0.9215228304681311,0.9272483944025085,0.9068195947169633,0.9417776948752642,1.2172774433309765,0.9082038033982142,0.9886040116009065,1.232045541057715,1.2878939380423058,0.7281731279286149,1.3831529945970278,0.9473960866076471,1.0709992568177809,0.8024482228802184,1.1907973518443686,1.277302919767166,0.8800803379124084,1.0900778417302939,0.6766452074079232,1.2039635299106517,0.9643678156860293,0.9752100352038631,1.2442606255811315,0.7283830399188584,0.6376486526686297,1.059187718492157,0.9694608721479865,1.1949244235246508,1.1256486083133026,1.148164918143768,1.1892621392698168,1.1773117705510245,1.0106526075199185,1.0643327088605463,1.0323689819621218,0.9619582838468702,1.176038048349785,1.2155719141736003,1.0001125777386373,0.9454817891332815,0.886308964156097,1.1501426780126354,0.956567251501051,1.0712789351074021,1.0155473145455132],[0.6336512043627662,2.5218420211841353,0.19373807369833987,1.222841091861382,1.430653086802958,1.3843476262221885,2.0764939841711874,1.7197856534814906,0.8975587922732544,1.4600724548830533,2.6772436016801113,0.9472463078219707,0.0,1.2503337984229288,1.4116883840207084,1.2447330510952763,1.3345169262324201,0.5458460531826824,0.7967863222827455,1.2636698338077432,1.3860077210594486,1.5376913409716417,2.0591568296928404,1.1356310337040825,0.7474167553960906,1.5553961591016712,0.6633566043481978,1.4285317703006246,0.9971011367241143,1.3579575844344498,0.9277424254514329,0.7700146821301739,0.9885928390334797,1.9647782072693867,0.9114968695987228,1.3504736299726527,1.0912781751290896,1.4799832909140558,1.1745581559770166,2.224849392926368,1.0170659670014963,1.382424748399344,1.2826093113180692,1.0626774909148315,1.0988201731476457,0.6282101080168955,1.09154796847944,1.1370341419791494,1.66261293940466,0.9905724806931059,1.3608135204877014,1.5356988970981171,1.7289053698006442,1.5330286691864081,0.5801615371925013,1.4339743042671407,1.2301511754792687,1.5803169945111097,0.677194566023127,0.4390166631331814,1.1775001494135293,1.518863922558677,2.0555655490827576,0.9896878417494015,1.419236016966929,1.9537894461305985,1.8823016117332454,1.7382585768531493,0.8914866244892261,0.9783297392083242,1.065967843867915,1.496111805209166,0.5280851658004684,1.1670858394542052,0.7228711123807895,1.542164881426495,0.3488169342115282,0.7427878516385532,0.6719633862554028,0.645148430486582,1.4216926930552358,0.9928689912055234,1.4057975502476177,1.9556643591441625,1.0234853093646141,1.232074673145334,1.438699724821477,1.0519326029600835,1.2557487694146445,0.7200327506657007,1.286525678498021,1.2067111925223288,1.41704240698168,0.8426242057670597,1.6530942035879175,1.2406935193209374,1.2895602588198098,1.1760308341424113,1.51209657369584,0.9239707789896302,1.010677655835357,0.7406735160473343,1.292709670997317,0.882510397941331,1.2595455776794904,1.2406500290048879,1.5013038787061157,1.2179198542507002,1.1169206812432662,0.2698127491903802,1.7067139571332959,1.3199230165925986,0.8839199479344895,1.2417498603517563,1.0860048402750027,0.8756482263780178,1.118489379695442,1.245486260480382,1.1293675450076202,0.9948851549977893,1.1842075021726133,1.0338072214766347,0.7414881436171632,1.0552736559399303,0.9287768407424302,1.002352649906908,1.0128002259294233,1.207524870689587],[0.5986471071162328,0.3977284509045225,0.2718350642725676,1.5530728432617495,0.0,0.9104936170325035,0.17353379623966994,0.374674567754129,0.6857529619032103,1.1758251123269456,0.6743787358088338,0.7963973749846767,1.2521580005657589,0.9476178471508258,0.5810682800012587,1.2131042010163076,0.2557115871614275,0.44601242470516017,0.5507975523455209,1.1935981270197917,1.0354607820210509,1.0121296696031792,1.0291954368644705,1.295652244942115,1.5415962812729695,0.5995289528187675,1.2616366145728277,0.9637926286428061,1.3885352620162708,1.0339504548085818,1.1201328792594116,0.1818515559964359,1.0254332772120005,0.6826091820396838,1.0203202582639421,0.947428837384956,0.6752544623279279,1.094817821306626,0.6851698263598135,0.8666768889975643,1.1993955113300796,1.3105261373202661,0.7871507902629188,0.4500632454193178,1.2060118214171696,0.6853529031521742,0.9402599665567396,0.5752264403842148,0.4903190442025157,0.8123065985679707,1.0663416066639404,0.7562562331698017,1.2822283597066664,1.113480049618476,1.2827695518364715,1.3159061197508402,0.739307490237154,0.9498211418890862,0.7440055740676713,1.3874372307312912,0.7700734653497501,0.8128607968982503,0.8758928216716114,0.9327111239182052,1.160608456279674,1.0564200462275957,0.7650098721582328,1.1200010520677406,0.9371635377773647,1.137725236994869,1.1720694438550854,0.7974451216869604,0.7688850911852608,0.8696280682713992,1.1928325437965719,0.9631970340263343,0.9730736965208311,0.8786269703426121,1.1561876468507557,0.8165568787225231,0.58089911027778,0.3385708633644023,1.0321131905475913,1.028519238594505,0.9661189980686206,0.9952966387113501,0.9644652639485571,1.0016502112695704,0.8028917852937051,0.9448606446924549,1.286525678498021,1.2146466822988395,0.7812459466408073,0.8343118011292793,0.7795628905426005,0.8673847960622838,1.1312363923215125,1.0877644820485335,1.077627606920279,0.8578977754594185,0.8578369168839891,0.8427869190557774,1.0615702195371555,1.1475553722963845,0.8196203650295233,1.1980902661721582,0.9943411199766073,0.8524082495892806,0.8196886651047934,1.1472313288226166,1.0164654160667264,1.1265632887898676,1.0167395173492346,1.050985351805144,1.2976960074108683,1.0049176864118186,1.075970791418157,0.8457390791209475,1.0017869371173853,1.024671579228268,1.015966806357818,0.9110233103366294,0.7983163786435598,0.8585051992826473,1.0428193700302986,0.9462655516570929,1.0576637264750153,0.8300287120417248],[0.27306325364175915,0.13008330064347248,0.3749101189396671,0.14029281513288425,1.6732629691992789,0.0,1.9244015993969634,0.7778198784709278,0.952561509888765,1.3433087930077001,0.3775925111937694,1.036228936454191,2.7238219748581,1.820338468248062,1.104255959720816,1.5669888958368714,0.8997450891244434,0.6775940706404868,1.745119654935816,1.5367789947497559,1.333077655314407,0.5813021958822698,0.9518326484332524,1.2321848798089141,1.3309853008080066,0.8599390375054743,1.1190118510841482,1.1394331143315592,1.4601842910967051,0.2936569849673205,1.1196624378515374,0.891411184627342,0.7898521135566274,0.6892305269688332,1.0767089918646287,1.083687608621431,1.1108047918993496,1.2383469175838562,0.24539091839649954,1.3770981550454937,0.9543958002644136,0.6142513482867524,1.0170661035116118,1.2150037828990605,1.211948925953079,1.0128267314532136,0.5472677162799154,1.201432403659589,0.6808817622832437,0.372468137453376,0.5749253686143775,0.17341359240298204,1.066590210428355,0.9754243998117952,1.382666778216956,0.7489371724042589,1.0416618317032693,0.8385643554672055,0.9757278749745445,1.1963370515736613,1.2179777351721564,0.5878018197866441,1.248609559983458,1.1992069403127399,0.9402944325418463,1.025260844863139,1.171143688074,0.8529158495682094,1.1642433812494186,1.3754864670896445,1.2608598520896206,1.2684449159425262,0.9005637517044531,1.1507706037952474,1.538845395192361,0.9760971856878876,1.1409605819860247,0.7152304844431382,1.5181482841534464,0.8198069139322154,0.8999788668372738,1.013944678536326,1.2978663476807437,0.9177558995203375,0.7789821348145924,0.8915580350745633,0.6769029291233232,1.2319968188567698,0.9039060600735669,0.9489424791077683,1.1170290803050997,1.167042711322873,0.7320239470673794,0.9789927437861937,0.8479314732973272,1.331179852547341,0.9826725061763345,1.0819308619907846,1.1321446612951542,0.8874867988430444,1.1623571871468916,0.7765359486210609,1.3132152190763746,0.8567208825291251,0.8792593687286572,1.3056419616647956,0.9900605129974489,0.6825632013683572,1.1171905612404465,0.8459672800574068,1.026113375446547,1.2511822954833247,1.189998034992873,1.0086334167949302,1.1846353456880674,0.7906869797677922,0.9500228225289887,0.9636234180271547,0.8030909985648528,1.0217488468433908,1.2047582251130409,1.0590876925632846,1.0351825284948692,0.7551003510020452,1.0240002209131274,0.8415349449805779,0.7667802949812855,0.9597763224977987],[0.06534626005743642,0.0,0.14433271757580232,0.31131524294291063,1.9679969206066776,0.7746514039656018,1.88113883474359,0.7498911427780668,0.36454268666123935,1.5151853138177231,1.1413958856123445,1.2633664105581974,1.5851220770676595,2.2329058459861426,1.3881864448341832,1.4650013260920027,1.0485778926186398,0.5734479690417427,2.2225254259809195,1.4709575986957808,1.5571738949050193,2.149887174234683,1.4229165795470837,1.3340638200922392,2.0285662185833373,0.6645731118718576,1.4028836156938103,1.4072582998185668,1.5502740426852446,1.1841077142990788,1.5166470854807987,1.7171918203652305,1.1272515655936743,1.3040213654291117,0.592209593475234,1.0136925378792014,0.8337116576111254,1.5618875654895916,1.0416695947858319,0.967229638802,1.266417181969546,0.7131906541175098,0.7370434711988457,1.020378586918303,1.6950966935852276,1.0488343640432167,0.7351219548143361,1.1902089637191031,0.45683201194895884,0.7769919668939742,0.5539578670696238,0.7906128382268828,1.3942816066646861,0.9787276922643146,1.4338849521296637,1.0515455051994815,1.3864993832390158,1.2482775078464574,0.9193772661891195,1.6786759861065597,0.7194210194199462,0.8681630663853199,1.6256121347354464,1.1239682532861217,1.4629371675511478,1.0927235263293849,0.9875803195338068,0.8715489685273807,1.1098185808017202,1.2563376778408861,1.3081682392669398,1.4163151374463852,0.9161602278661238,1.1966660235671367,1.4261964511711247,0.895062736275363,0.9688312920846325,0.5910165217584284,1.5028065258485463,1.1062673499971785,0.949843594488235,1.4762135741960298,1.1387977871463466,1.24874033465686,1.0081460444304935,1.1332163247451617,1.134219248021883,1.1337686309141313,1.1982644670524998,1.0150693327140774,1.0775704340160464,1.2990376489386233,0.8809680858632085,1.442212628931636,1.1594951871504506,1.4812687807122624,1.0777621923548675,1.318024989827454,1.5372439415668298,0.9042746840723519,1.161072674910031,1.137513258428795,1.4874034636618387,1.019276107383495,1.2239405627207083,1.4067005812975273,0.9900245487926438,0.5665064826796075,1.1199131616529443,0.7773770126040929,1.1549535400613589,1.3301243021690903,1.0660060389582693,1.3163257514685323,1.139082302265084,1.0063936551398054,1.2918897535211284,0.8445247657369312,1.22552153940522,1.2706365657279557,1.0987701662699079,1.0099992766635977,0.9687440249794935,1.158480555331908,1.0310668510670131,0.9500801630071996,1.0926664768655598,1.1336597944331819],[0.13878548034797566,0.0,0.3693986756985406,2.712961824660677,1.035609720627834,2.4398669822229206,0.6772161885740332,0.8652282416203435,2.6340752838602426,0.501282326765963,1.5116337134590228,2.2537735116513957,1.4659652207234772,0.9130662053743929,1.148072221351561,0.884197973581552,1.7463517875186108,1.7317740736354592,1.0827352568268858,1.3046322622546616,0.8227294963088959,1.2759769489453827,1.161215198896587,1.7806923127196042,0.9344711545499962,1.5418286895760136,1.0340485323610769,1.3111766075945066,1.5698837444855391,0.9250534653869916,0.9992731135618207,1.784627134691581,1.951063829207417,1.1879485333230375,0.8807675177923903,0.7538740798404887,0.6654056796407166,0.7022833356917679,0.9717836778611078,0.9367990903157832,0.7244564454682139,1.6672509745005277,1.1616021642256458,1.6826324076428516,0.6760957220379444,0.7917701306468939,1.191598779439457,1.9161611401523335,0.8141168028025841,1.3439478202170494,1.6013770982796636,0.9307921579761597,0.9177037249353901,0.9802322435702784,0.8092426013604948,0.8258040074052919,0.890833136552222,1.1559158554586977,1.6499718690821392,1.3106929904944133,1.0982691429206966,1.947692897801327,1.041764679639085,0.9012552344658208,0.8359933043599066,0.8726501765446821,1.0203832584151495,1.3621123670455935,0.8553938181172414,1.3754865490750319,1.2900265350995441,1.248503087512335,0.4540824312373545,1.0683952664140077,0.980251488280977,0.8265323663510826,1.7708775689178797,1.2076641304620181,0.8550413862557116,0.7921016732434629,1.1078165981705912,1.2665714731586069,0.8503186079255657,1.562595488536545,0.8145672121348886,1.1669765249193718,0.9747760117579591,1.5460745489525853,0.6458680194853863,0.8182421695313895,1.0492218372058713,0.8130096947548158,0.9914526095083991,1.7642967507478406,1.2043962681797586,1.1076479061355038,1.1452839595732385,0.7458996893276203,0.8758610580044518,0.8424864733335088,1.2057685809314687,0.7008926928617086,1.2757571069896159,0.6643125444801279,1.1942593850622027,0.9415633442327263,1.179450491522394,1.31122869377565,0.9934716204228846,0.8223613863987882,1.0404183704769143,1.064796948830712,0.8005269535021331,0.9635299104567183,1.2418408842439597,1.0416278895025497,0.7776703764518378,0.8807410024622897,0.7669884091130312,1.123651937516458,1.1161866537202054,1.0730974650543608,1.175824374222754,0.7980180836925002,0.7990927141068156,0.6656206037818458,1.0407035873234964,1.1409517472142838],[2.1247921955584115,0.0,0.3866979881946905,0.2677961405044861,1.2368202168116211,1.9341943025551482,1.55439036433406,0.933513799364999,1.2649907394314768,1.9916946418515125,0.7063473149716648,2.0816664461603813,0.3676295771344111,1.1356857207294138,2.183462626373468,1.6579387803622208,0.8213971505892604,1.7129031883720494,1.193705930720894,1.7754483644673542,1.651411695955897,1.4478810116785474,1.5126694988440375,0.8334131847407471,1.5569294475490194,1.2444132296209083,1.042262152239785,1.0010923406560923,1.1485877056835487,1.177141092947077,1.5588755056083,0.7553260869373466,0.9398357416350543,1.3265356016527448,1.4131446685025386,1.4168203125612528,1.3166001974765165,1.2486725723430825,1.912679323291067,1.1213449203970223,1.2337562544974077,1.6614050719372337,1.5712454358547623,1.3311217781651061,1.702060580517014,1.51150562952367,0.5382010736929932,1.0932403110324393,1.4225722971884478,1.0289252768165835,1.0107989193100642,0.6656476943668875,1.3922975383042018,1.6565339988301115,1.5715972342433215,1.030029093486374,1.5038421165360547,0.9826650684702601,0.8006455955410967,0.9028236346857366,1.3688787592424847,0.9150438063497506,0.9012662782598946,1.3919520766270468,1.6096593276553628,1.0591862177221167,0.8709307081685893,1.148970140832107,1.1923088563380781,1.2140602732487582,1.272667848396834,1.3353586372272581,0.6067162836313418,1.147861652749266,1.0604217683425397,1.2798232740853326,0.7186598075515789,0.8732420348851138,1.0223598509796823,0.6251466032075336,1.3731965225712635,0.86677160957643,1.19831199013676,0.7756038256046919,0.8551505431545462,1.4022235353773693,1.041061357621707,0.8907564067358293,1.3952546834966943,1.433012443645992,1.0789201298456312,1.06091564045133,1.1417461571654548,0.996901034426701,0.7501736259493266,1.1894567400593465,1.0174009471778975,0.9459592431492804,1.0409708349611069,0.7062017109070214,1.1050555305071645,1.368027709201561,1.0946417137262532,0.9757645133330086,1.2819782423584158,1.007012158219107,1.1426242600113559,1.1781170155970941,1.0503901618439206,0.8596110187318542,1.0118118360743822,0.9762063047648912,1.0068472370670645,0.9660897507487622,0.9606197058316606,0.775770302326957,1.1569797075951236,1.248665006243038,1.093157324951995,0.8066007276249545,0.7486285440878376,1.1449582211147262,0.8019430566129906,0.8600235403834063,0.9733208293262448,1.2412924973193338,0.9230869502491534,1.070707972109397],[0.6791143461403643,0.0,0.1544928425391922,1.412260172549388,0.8696724487204076,2.163687676513599,0.4360262605144316,0.539708271443128,0.7320827821023964,0.6848575573841403,0.5676222243961008,1.2309635601082594,1.0052754698178374,0.7757841610352013,1.1786185483621086,1.021562199998769,2.082741227410348,1.6059080209574728,0.8167651845333672,0.8827139701090566,1.1076370567967988,1.290275309294653,0.8616048694007452,0.9698633240897598,0.9493834953899083,1.1390051262953635,1.130124423562795,1.385027613835902,0.9449111438864072,0.8047170061047294,0.9177676087318309,1.7249691908450957,1.462530755983028,1.230253693323359,0.6185404401886938,0.5952376228008642,0.8146007998076067,0.7836487466572751,1.050306008713683,0.9260620912047084,0.7456245660601946,0.95602837704687,1.0531364462094517,1.3121226257152248,0.7978713910192541,1.0957736655153114,0.8364008091768852,1.550914077311139,0.6978728263081176,0.8126163927802268,2.037469342800958,0.6615916763143037,0.9033659904043827,1.0256055975703682,1.2360430082409275,0.7262296519233188,0.8624424194233501,0.9549892197032821,1.3060014934597224,1.3692241437181454,0.9506465661159794,0.7685231253675234,1.0239609358515116,0.8472415753248401,0.8535708543896066,0.7693891813774497,1.060170366504121,1.2300467222381746,0.669707196578407,1.3754865490750319,1.1629482266228912,1.0700397634462213,0.5135164797183008,0.9999093304158234,0.8992105665735977,0.7785481511044905,1.1038695860569852,1.3239396584379033,0.9812687312962848,0.5676167649660525,1.041843531792933,1.1622064398827625,0.718384359346027,1.2119272465051918,0.7895867357050719,1.012344180771902,0.9950683863843396,1.216916324401548,0.727523269639544,0.8965772251483464,0.954756932058025,0.6247778965677151,0.724413788126695,1.4885294793263366,1.0785365718164794,0.9314398901424662,0.9675832986584758,0.7077427980835612,0.941703643814533,0.7893406927398035,0.9213443464627018,0.8040758673021027,0.9674516041082368,0.8088296653232753,0.8273356097735581,0.7272198518579794,1.2081333376163113,1.3032384929432121,0.9449377405047928,0.7766262021689622,0.9566294431057338,1.1993028053159194,0.7079665038299577,0.8882293189634598,1.037038612150682,0.8790032184402644,0.6899215143028834,0.9715911121980249,0.9464398978100182,0.80523112468391,0.9526863309337072,1.1912342361928057,1.012666678599617,0.6342260914252797,0.8241373950021241,0.9140750054904236,0.7748948057931032,1.1256742492188596],[0.7515566926323126,0.0,0.012310046357792563,2.1755685581977433,0.5197186734651322,2.124256511207398,0.16213274791197632,0.7147988081324946,1.5749808861152348,0.5596178568372296,0.5229527540865356,1.4177542238424352,2.0254039658828096,0.927221567604754,0.9823768803187057,0.5985180357042632,2.0709334647450857,1.0967943958894681,0.5815672848733818,0.7284693989692219,0.6837487487925089,1.373142081104276,0.8995909700773118,1.4857173306461098,0.5939489318849455,1.4376823262616847,0.9550622849368872,0.3408161298725769,1.427685313101746,0.870202021225455,0.8899546516224944,1.7090347291260128,0.9711249066359855,0.7753049865668222,0.34579364175375704,1.1108313340846356,0.744529415514631,0.7645888272166562,0.6582835974946446,0.7378896824889389,0.8214305060259989,0.7385423210345387,1.3127697054012446,1.4462806644685962,0.708403623957394,0.7188440358815076,0.5817756503230723,1.176671907011612,0.46338967052903696,1.0025740243505303,1.5857081477040729,0.6727174307858745,0.7281751577806518,0.9981591560113774,0.7924725483769084,0.6334007957826316,0.7768316997189163,0.6378458714022757,1.166916441969525,1.2496940764867808,0.9799880233537924,0.8117357699315811,0.9540199628378854,0.7103508548773906,0.6529232406535674,0.8214898747656361,0.7476803329659779,0.9569079665909115,0.8202016420939622,1.2812752550359763,0.9344943048747055,0.8952422166650693,0.7365092928278254,1.0575319851743388,0.9419082620608235,0.5063150997069292,1.4561725158067798,1.111942687873688,0.9265908661921876,0.7178616783666852,0.6114905474843674,1.1156354766930725,0.6259594213555986,1.1548868770447953,0.4597602687089637,1.125543574239187,0.6411938864293634,1.6267950673365918,0.7145723508300961,0.8050554254700244,1.0662302591360782,0.6645968139002953,0.7232171550765649,1.360904133807958,1.0832545817940065,1.0288077167677516,0.8729414210516263,0.8384123044725782,0.6736122700362867,0.6175141030281066,1.1396991632826694,0.7959499655977746,1.212335773916505,0.6733688441981365,1.1708606344360486,0.8691771794282543,1.0527448220618216,1.501089998539721,0.9828787242815957,0.8592738787208991,0.9174336399451127,1.1493729319812929,0.8408436387374919,0.9644263034710979,1.1400512189618268,0.7083975437439575,0.9276727446874742,0.7062302276735912,0.831206026678202,0.7197203007967716,0.9649626184370048,1.0585649157973946,0.8446290585864475,0.9754500890452064,0.7137779709642372,0.5611322668765774,0.9536682031517083,1.1862773077183868],[1.2063039383192502,2.404753662358018,0.5623582688185689,0.0,1.036563554062285,0.7602204360254797,1.5013559420117841,1.0224573819862677,1.4449348245138471,1.4953278389359372,2.076631248553873,2.0477100941785857,1.313932387680832,1.4651526483085846,2.093992086070253,1.86221340687058,1.0847556402895333,1.833787452215798,1.1860563801867625,1.876378133810694,2.0027429815177156,2.125746132718745,1.7756585631288404,1.3657013866980139,1.6089527288437815,1.5787095626820207,1.4066038352962786,1.7192530997488966,1.1641866439827693,1.2157844833362546,1.9101271967722273,0.6866191152902369,1.372212868190425,1.6586788653727977,1.0452712347109407,1.4254483866833085,1.0536017008426168,1.4337251893007175,1.578275169840348,1.1518298666454256,1.3442899969350273,1.9699567519550094,1.587470057535701,1.3123690371087668,1.7408825815365954,1.4285693213782704,1.396136745587138,1.074676952056724,1.201482200153418,1.1894967632254096,1.2061629804331926,0.7868704806405349,1.978960185658535,1.6810359513448572,0.9724040780630859,1.5423613233042797,1.632369739479896,1.3989029364359085,1.263003300718636,1.0378260480501893,0.9907676390421374,1.2395972628794476,1.148156940221219,1.2689240805486732,1.25330541843438,1.6879280890605486,1.4235793454017505,1.519797112073723,1.494618293500643,1.212638236708625,1.294382539571003,1.253365981060564,0.8568851384440836,1.2473201098550235,1.3194985555992045,1.343191606556634,0.8868814383981825,1.0613455082936465,1.084034084758116,0.9691123356051957,1.5854798152130856,0.8305178104492218,1.2960704830737715,1.0210942248890074,1.0979607845812103,1.4487386119623602,1.4364875853646082,1.1702406830018672,1.5466170018454515,1.34657364732516,1.286525678498021,1.4521131401550489,1.3897104731018317,0.8970193771884309,1.1569065928931648,1.625718005803282,1.3587605452777287,1.1876662841229209,1.2896464289772642,0.7518382321644079,0.9840576676312102,1.0955701116351049,1.1414956937855258,0.8766634934050789,1.3879254110350718,1.087269274937343,1.3041859910853097,1.10756938655284,1.0062525633287134,0.8939247080834296,1.2130352898421273,1.1051027878046378,1.0348809373792567,0.9830613630667406,1.207089894962292,0.9598789071276963,1.1064857258808407,1.1323813006649606,1.361925790125728,1.0177784111771213,1.020643471316459,1.199154741762496,0.865449740957951,1.0048434791193226,1.0443189488640123,1.1153261997760746,1.149163140948847,1.0806359789977809],[1.3944767459735707,1.1838749264599444,0.6655021783627442,0.0,1.129567474479047,2.0753149014004353,1.3062737056304676,0.8901560245359289,1.292084204319305,2.1797077051206344,2.273434915913959,1.4907895138492253,0.8821148328058894,1.427906425004243,2.0474109758118457,1.8615208887141292,0.7888313251390563,1.4106863645359689,1.4105260389484313,1.6011109731481672,1.8399780698205925,1.0927192413453477,1.6708852432595662,1.097854051220667,1.4614232883936025,1.3034598056266522,1.9259668186637964,1.2283401814856945,1.361762038795199,1.0622482874401946,1.8061171402061722,0.9686544961303305,1.8076362980396161,1.7798862192035183,1.2972132565915035,1.57859987934752,1.7086409674162881,1.6680705608334299,2.1814599465604654,1.0658860807819552,0.9180536921466629,1.5206246595195698,1.6570108897048854,0.8664340923579613,1.7957641658000356,1.4951953615489113,1.1539431552373185,1.2748397296837932,1.438149617906069,1.2285112034453383,1.4079793102623803,1.0515836867849333,1.6842581504367298,1.5515444184801603,1.3680059763039099,1.7340569536450292,1.490629035300018,1.4732031570867032,1.1783647612312926,1.1170733934229957,1.7015350803843177,1.1191942818344014,1.1159031844423855,1.225620691231795,1.4809697150246692,1.4525480746276769,1.2580636991035228,1.4486144733756252,1.1443181494700416,1.2874553955048016,0.8779085480034355,1.1576759776482246,0.7089912570159662,1.2022012533410946,1.349999386557561,1.5846136724794555,0.7859924462497897,1.1046502295608533,1.2433534371334236,0.924019753220504,1.5397490106497125,0.6679562297523319,1.3956916540698747,1.172537232814127,0.876157801672205,1.4254396416986639,1.4184508190054166,1.0834690830751437,1.6290182360712135,1.3487381603771675,1.2159505659045102,1.293333032790692,0.9755893656288382,0.91540237335492,1.1676369099768618,1.421991966986733,1.501382348653104,1.0467148839517182,1.169498041997725,0.9445024965714954,1.2515039983165426,1.1628247175125261,1.2086215242990408,0.8877267602060334,1.3445808343590195,0.9846665742372743,1.0990492619029215,1.0756381089584945,1.212176313775549,0.9328288374801147,1.286331826045513,0.994175361381996,1.1845646490355093,1.1551413015601735,1.1391421746029349,0.9436060541166426,1.251687280413202,1.213193773877126,1.3243584128759052,1.091985386224084,0.9767994434211453,1.2840935761799794,0.7177381426576183,0.994213557322907,1.017104965873243,1.2412924973193338,1.1842672359432347,1.163494088799628],[0.05315507811768824,0.5271171611598994,0.44154302690369696,0.0,0.43759471645101555,0.7232123262758805,1.8604792768280132,0.6869886389004749,1.547126552251582,2.3292217069987173,0.36058455035098497,0.7973189772270717,0.6850333617635594,1.3751876776803627,1.1330332255725113,0.5170450142267756,1.4689288005427952,0.6637534926408977,1.6998553332172819,0.9771449840643196,1.455187198364589,1.2166396818773064,1.2019393140266776,1.3691715067677985,0.9539132896995567,1.7996893309169624,0.9511910386426132,0.6936273664871324,1.8731042520706171,1.3882661786674384,1.442890986177572,0.5653134412432775,0.3897567452622567,1.235806989333982,0.9216487426261878,1.0466974711403905,1.4119305089351872,1.3519199711473988,1.3921052756036794,1.2887354575612937,1.0570212793219191,0.7180500121175847,1.8881651787067033,1.0123421636387697,1.163105571428606,0.7561542001958287,0.5340007901832695,1.2621738912217166,0.38626494923857796,0.3541477802082982,0.6079658165988895,1.2640046401315213,1.2685069682911663,1.2650741467357491,1.8979528812955164,1.3806886974767818,1.1094198892834803,0.6614267556141127,1.0029409102043516,0.789166685349596,2.0807730258554638,1.3057843355731173,1.285230999627749,0.6948186192011148,1.3503254333753187,0.8857648703501243,1.3359390966313585,1.0239727659409086,0.9185765671921589,1.308853991478134,1.3091778657308306,0.9529926076868576,1.3452026836787807,0.6384997530577831,0.9760879611829387,1.4171898207111207,1.0664372961199176,1.0457055626379879,1.368306023907928,0.888708237026737,1.1064920631676871,1.0222306574677733,1.1361842531491488,0.909767140767733,1.479170388289415,0.9552710037810836,1.3061489225496352,1.2188320543235123,1.2439105708453764,0.8958527859289105,1.286525678498021,1.222273111924534,0.45284341546737145,0.6731923291719166,1.2313118038508706,1.396326206789898,0.8593876314115653,1.4824521669566793,1.3009028783140355,0.8261219722445473,1.21377480202716,0.9114407449198048,1.0756654843224849,1.5291232588252117,1.1482203336300267,1.3481136126181241,1.157103659327696,1.2102212424233787,1.4186879563579744,0.8842713519318554,1.2659190147227335,1.2213714837422036,1.107669932709505,1.389895558859487,1.1987647559770382,1.364779675899077,1.1918785071913927,1.3840215988676312,1.0734726175230331,1.1668885967340048,1.3389718699031368,1.256725222203656,0.9105832068735455,1.1221314939251958,1.1538997621538005,1.1897509999874722,0.958935329590034,1.149868321090478],[0.015670904021214172,1.2118624632872979,0.28572535064742033,0.6771570250326326,0.0,0.23143400522861837,0.03050230663638202,0.2692942448668907,1.48057592992881,0.9693393843908572,0.6599925430943153,0.4983260339207762,1.1556409633576405,1.1620313994028193,1.1569175271458212,0.6850783780612011,0.0011478355869865846,1.105236006098816,0.6801161489710623,0.7904883369966155,0.49931511707891846,0.35644783134247465,0.7647881282696963,1.365973040381826,0.8147752858792355,0.5958497450754623,0.995338325320181,0.4931766871628976,0.7445182567888364,0.17026465131131216,1.14105392377571,0.34459588089822135,0.1497965558345112,0.5262780074190948,0.4076202709941335,0.6311058184708623,1.2931743576755717,1.2971750379812113,0.4011129472869941,1.2086053522649804,0.8272655553333842,0.5486181531280404,0.8650430998780599,1.6918964145755662,1.1493208903201222,0.28610567781533164,0.35744815906944727,0.914095761244876,1.120059255628886,0.29182665915682543,0.8475761357267798,0.28462001580334423,0.6730559323792819,0.9308621441937566,0.5720070690239107,0.5441857895705032,0.9193303919162952,1.5708423677742862,1.4515020243850867,0.8306299474058353,0.12196486920931354,1.0613735283181789,1.0245017494230866,0.44244387495878656,1.1517831926893292,1.1635812631778553,1.082020500204587,1.0355853075804087,1.6362080821511393,1.0777207060368021,1.3760853344932342,1.2504561746965315,0.7593083522665005,0.8121647814423043,0.7855327206387599,0.6769141975453533,1.4036601845690662,1.3561586104407928,1.3516233644853604,0.7520953413862262,0.6988289246205183,1.6861644458316287,1.1652307506777648,1.1393290808860348,1.365955077672097,0.7242966286227142,0.4457512754174578,1.2139671464868609,0.9379652488741723,1.273159325224852,1.2091624416941524,0.9282843222516974,0.6000136795061592,0.7940071677723864,1.4417187028090952,0.7960219403020742,0.8292399273305245,1.5154997060134758,1.1947237672220412,1.107350297366314,0.17556917711196324,0.7018760103434036,1.0491343320066313,1.6306911564531812,1.0996252600675065,1.3025699887609754,0.6594294457208085,0.9233894595843769,1.2412795776604406,1.069166614675897,0.8931802220122583,1.0705264631884415,1.2175613932738774,1.1919250341804395,1.2604062694989802,1.4789099033886435,1.2095751260470424,1.2758277612458673,1.0238181983774306,1.268116280745621,1.308021280442482,1.039000720773084,1.4646853606976247,0.8285034398135518,1.231974015430971,1.2412924233325353,0.7695948820066046,1.1117424749739497],[0.7643271285813061,1.339813963435346,1.270890379991972,0.7513835843426419,0.718696213687782,0.616701228517423,1.9688971086522966,1.464097649614177,2.4999144953769603,1.6688553454282722,1.2704311686553134,0.0,0.5113402388681438,1.4615223659424132,1.213849358999315,0.07992872968714046,0.2847273380624631,1.1443026876760887,1.549567236625302,1.3353834303749474,1.5280738856197453,1.1772920288670863,1.5351301583228132,1.3689900727959219,1.1701991262429292,1.5062871696567106,1.2368890151600263,0.50515637134635,1.2723393879369342,0.7351379787294681,1.501551535649413,0.8151144011844239,1.69038169732287,0.882267035102901,1.1452833973514536,1.426397141387743,1.8620639007442545,1.3769657761995866,1.1912682520630666,1.4862371283586062,1.0687142390618454,0.8338305449426496,1.659921074874101,1.6333892514818582,1.2770051519834897,1.0242103445664927,0.9637958012830667,1.1880555355266051,1.5431105987894942,0.37414658136530127,0.7344782849922791,0.9305046872345112,0.9221386712790588,1.2974573544076087,1.067850626324878,0.6657320647676792,1.7072847743930037,1.7458603991327877,2.167836870475762,1.0201359409272153,1.0030595761096088,1.8377999588318819,0.8488652252633075,1.0363552434115153,1.3021495937835896,1.2626824379026134,1.4734731368523994,1.1371496443311446,1.5353954440294773,1.1335363576091657,1.1878656492074233,1.3178922866342058,1.108210216010958,0.9207607820919165,1.1815750474839914,1.0578107690764742,1.0064525566755347,1.2674685857526986,1.1132697890425491,0.6908377759846771,1.0764423404593655,1.4634646037177654,1.2419506227378216,1.0380776086891754,1.9295754616000518,1.1981444353777317,0.8260007235273721,1.127671479713972,1.381880463491649,1.4318920811626146,1.259369424194193,1.2522866475883117,0.667072288266159,1.0430454833212564,1.4160241239049303,0.9562985467599535,1.1592495876604778,1.4630076787762525,1.1233694539450163,0.9236259614913815,0.6348277536064404,1.0069224372858516,1.0059922965047905,1.5221440122284295,1.1535100459169938,1.1767935983811784,1.1709592251568997,1.0786194924591048,1.4815906085826274,1.0911173650551034,1.0637695637173754,1.060264129933084,1.1822154397135305,1.2844813538498414,1.1524098385263062,1.4199628929455894,1.2015011639150708,1.3742834984783934,1.2599376622611098,1.2315222613373198,1.2440463982556167,1.3062708259604554,1.254525506373449,1.0216637653335434,1.23367434974437,1.2412924973193338,0.680587826597211,1.1405992437995303]],\"type\":\"heatmap\",\"xaxis\":\"x\",\"yaxis\":\"y\",\"hovertemplate\":\"x: %{x}\\u003cbr\\u003ey: %{y}\\u003cbr\\u003ecolor: %{z}\\u003cextra\\u003e\\u003c\\u002fextra\\u003e\"}],                        {\"template\":{\"data\":{\"histogram2dcontour\":[{\"type\":\"histogram2dcontour\",\"colorbar\":{\"outlinewidth\":0,\"ticks\":\"\"},\"colorscale\":[[0.0,\"#0d0887\"],[0.1111111111111111,\"#46039f\"],[0.2222222222222222,\"#7201a8\"],[0.3333333333333333,\"#9c179e\"],[0.4444444444444444,\"#bd3786\"],[0.5555555555555556,\"#d8576b\"],[0.6666666666666666,\"#ed7953\"],[0.7777777777777778,\"#fb9f3a\"],[0.8888888888888888,\"#fdca26\"],[1.0,\"#f0f921\"]]}],\"choropleth\":[{\"type\":\"choropleth\",\"colorbar\":{\"outlinewidth\":0,\"ticks\":\"\"}}],\"histogram2d\":[{\"type\":\"histogram2d\",\"colorbar\":{\"outlinewidth\":0,\"ticks\":\"\"},\"colorscale\":[[0.0,\"#0d0887\"],[0.1111111111111111,\"#46039f\"],[0.2222222222222222,\"#7201a8\"],[0.3333333333333333,\"#9c179e\"],[0.4444444444444444,\"#bd3786\"],[0.5555555555555556,\"#d8576b\"],[0.6666666666666666,\"#ed7953\"],[0.7777777777777778,\"#fb9f3a\"],[0.8888888888888888,\"#fdca26\"],[1.0,\"#f0f921\"]]}],\"heatmap\":[{\"type\":\"heatmap\",\"colorbar\":{\"outlinewidth\":0,\"ticks\":\"\"},\"colorscale\":[[0.0,\"#0d0887\"],[0.1111111111111111,\"#46039f\"],[0.2222222222222222,\"#7201a8\"],[0.3333333333333333,\"#9c179e\"],[0.4444444444444444,\"#bd3786\"],[0.5555555555555556,\"#d8576b\"],[0.6666666666666666,\"#ed7953\"],[0.7777777777777778,\"#fb9f3a\"],[0.8888888888888888,\"#fdca26\"],[1.0,\"#f0f921\"]]}],\"heatmapgl\":[{\"type\":\"heatmapgl\",\"colorbar\":{\"outlinewidth\":0,\"ticks\":\"\"},\"colorscale\":[[0.0,\"#0d0887\"],[0.1111111111111111,\"#46039f\"],[0.2222222222222222,\"#7201a8\"],[0.3333333333333333,\"#9c179e\"],[0.4444444444444444,\"#bd3786\"],[0.5555555555555556,\"#d8576b\"],[0.6666666666666666,\"#ed7953\"],[0.7777777777777778,\"#fb9f3a\"],[0.8888888888888888,\"#fdca26\"],[1.0,\"#f0f921\"]]}],\"contourcarpet\":[{\"type\":\"contourcarpet\",\"colorbar\":{\"outlinewidth\":0,\"ticks\":\"\"}}],\"contour\":[{\"type\":\"contour\",\"colorbar\":{\"outlinewidth\":0,\"ticks\":\"\"},\"colorscale\":[[0.0,\"#0d0887\"],[0.1111111111111111,\"#46039f\"],[0.2222222222222222,\"#7201a8\"],[0.3333333333333333,\"#9c179e\"],[0.4444444444444444,\"#bd3786\"],[0.5555555555555556,\"#d8576b\"],[0.6666666666666666,\"#ed7953\"],[0.7777777777777778,\"#fb9f3a\"],[0.8888888888888888,\"#fdca26\"],[1.0,\"#f0f921\"]]}],\"surface\":[{\"type\":\"surface\",\"colorbar\":{\"outlinewidth\":0,\"ticks\":\"\"},\"colorscale\":[[0.0,\"#0d0887\"],[0.1111111111111111,\"#46039f\"],[0.2222222222222222,\"#7201a8\"],[0.3333333333333333,\"#9c179e\"],[0.4444444444444444,\"#bd3786\"],[0.5555555555555556,\"#d8576b\"],[0.6666666666666666,\"#ed7953\"],[0.7777777777777778,\"#fb9f3a\"],[0.8888888888888888,\"#fdca26\"],[1.0,\"#f0f921\"]]}],\"mesh3d\":[{\"type\":\"mesh3d\",\"colorbar\":{\"outlinewidth\":0,\"ticks\":\"\"}}],\"scatter\":[{\"fillpattern\":{\"fillmode\":\"overlay\",\"size\":10,\"solidity\":0.2},\"type\":\"scatter\"}],\"parcoords\":[{\"type\":\"parcoords\",\"line\":{\"colorbar\":{\"outlinewidth\":0,\"ticks\":\"\"}}}],\"scatterpolargl\":[{\"type\":\"scatterpolargl\",\"marker\":{\"colorbar\":{\"outlinewidth\":0,\"ticks\":\"\"}}}],\"bar\":[{\"error_x\":{\"color\":\"#2a3f5f\"},\"error_y\":{\"color\":\"#2a3f5f\"},\"marker\":{\"line\":{\"color\":\"#E5ECF6\",\"width\":0.5},\"pattern\":{\"fillmode\":\"overlay\",\"size\":10,\"solidity\":0.2}},\"type\":\"bar\"}],\"scattergeo\":[{\"type\":\"scattergeo\",\"marker\":{\"colorbar\":{\"outlinewidth\":0,\"ticks\":\"\"}}}],\"scatterpolar\":[{\"type\":\"scatterpolar\",\"marker\":{\"colorbar\":{\"outlinewidth\":0,\"ticks\":\"\"}}}],\"histogram\":[{\"marker\":{\"pattern\":{\"fillmode\":\"overlay\",\"size\":10,\"solidity\":0.2}},\"type\":\"histogram\"}],\"scattergl\":[{\"type\":\"scattergl\",\"marker\":{\"colorbar\":{\"outlinewidth\":0,\"ticks\":\"\"}}}],\"scatter3d\":[{\"type\":\"scatter3d\",\"line\":{\"colorbar\":{\"outlinewidth\":0,\"ticks\":\"\"}},\"marker\":{\"colorbar\":{\"outlinewidth\":0,\"ticks\":\"\"}}}],\"scattermapbox\":[{\"type\":\"scattermapbox\",\"marker\":{\"colorbar\":{\"outlinewidth\":0,\"ticks\":\"\"}}}],\"scatterternary\":[{\"type\":\"scatterternary\",\"marker\":{\"colorbar\":{\"outlinewidth\":0,\"ticks\":\"\"}}}],\"scattercarpet\":[{\"type\":\"scattercarpet\",\"marker\":{\"colorbar\":{\"outlinewidth\":0,\"ticks\":\"\"}}}],\"carpet\":[{\"aaxis\":{\"endlinecolor\":\"#2a3f5f\",\"gridcolor\":\"white\",\"linecolor\":\"white\",\"minorgridcolor\":\"white\",\"startlinecolor\":\"#2a3f5f\"},\"baxis\":{\"endlinecolor\":\"#2a3f5f\",\"gridcolor\":\"white\",\"linecolor\":\"white\",\"minorgridcolor\":\"white\",\"startlinecolor\":\"#2a3f5f\"},\"type\":\"carpet\"}],\"table\":[{\"cells\":{\"fill\":{\"color\":\"#EBF0F8\"},\"line\":{\"color\":\"white\"}},\"header\":{\"fill\":{\"color\":\"#C8D4E3\"},\"line\":{\"color\":\"white\"}},\"type\":\"table\"}],\"barpolar\":[{\"marker\":{\"line\":{\"color\":\"#E5ECF6\",\"width\":0.5},\"pattern\":{\"fillmode\":\"overlay\",\"size\":10,\"solidity\":0.2}},\"type\":\"barpolar\"}],\"pie\":[{\"automargin\":true,\"type\":\"pie\"}]},\"layout\":{\"autotypenumbers\":\"strict\",\"colorway\":[\"#636efa\",\"#EF553B\",\"#00cc96\",\"#ab63fa\",\"#FFA15A\",\"#19d3f3\",\"#FF6692\",\"#B6E880\",\"#FF97FF\",\"#FECB52\"],\"font\":{\"color\":\"#2a3f5f\"},\"hovermode\":\"closest\",\"hoverlabel\":{\"align\":\"left\"},\"paper_bgcolor\":\"white\",\"plot_bgcolor\":\"#E5ECF6\",\"polar\":{\"bgcolor\":\"#E5ECF6\",\"angularaxis\":{\"gridcolor\":\"white\",\"linecolor\":\"white\",\"ticks\":\"\"},\"radialaxis\":{\"gridcolor\":\"white\",\"linecolor\":\"white\",\"ticks\":\"\"}},\"ternary\":{\"bgcolor\":\"#E5ECF6\",\"aaxis\":{\"gridcolor\":\"white\",\"linecolor\":\"white\",\"ticks\":\"\"},\"baxis\":{\"gridcolor\":\"white\",\"linecolor\":\"white\",\"ticks\":\"\"},\"caxis\":{\"gridcolor\":\"white\",\"linecolor\":\"white\",\"ticks\":\"\"}},\"coloraxis\":{\"colorbar\":{\"outlinewidth\":0,\"ticks\":\"\"}},\"colorscale\":{\"sequential\":[[0.0,\"#0d0887\"],[0.1111111111111111,\"#46039f\"],[0.2222222222222222,\"#7201a8\"],[0.3333333333333333,\"#9c179e\"],[0.4444444444444444,\"#bd3786\"],[0.5555555555555556,\"#d8576b\"],[0.6666666666666666,\"#ed7953\"],[0.7777777777777778,\"#fb9f3a\"],[0.8888888888888888,\"#fdca26\"],[1.0,\"#f0f921\"]],\"sequentialminus\":[[0.0,\"#0d0887\"],[0.1111111111111111,\"#46039f\"],[0.2222222222222222,\"#7201a8\"],[0.3333333333333333,\"#9c179e\"],[0.4444444444444444,\"#bd3786\"],[0.5555555555555556,\"#d8576b\"],[0.6666666666666666,\"#ed7953\"],[0.7777777777777778,\"#fb9f3a\"],[0.8888888888888888,\"#fdca26\"],[1.0,\"#f0f921\"]],\"diverging\":[[0,\"#8e0152\"],[0.1,\"#c51b7d\"],[0.2,\"#de77ae\"],[0.3,\"#f1b6da\"],[0.4,\"#fde0ef\"],[0.5,\"#f7f7f7\"],[0.6,\"#e6f5d0\"],[0.7,\"#b8e186\"],[0.8,\"#7fbc41\"],[0.9,\"#4d9221\"],[1,\"#276419\"]]},\"xaxis\":{\"gridcolor\":\"white\",\"linecolor\":\"white\",\"ticks\":\"\",\"title\":{\"standoff\":15},\"zerolinecolor\":\"white\",\"automargin\":true,\"zerolinewidth\":2},\"yaxis\":{\"gridcolor\":\"white\",\"linecolor\":\"white\",\"ticks\":\"\",\"title\":{\"standoff\":15},\"zerolinecolor\":\"white\",\"automargin\":true,\"zerolinewidth\":2},\"scene\":{\"xaxis\":{\"backgroundcolor\":\"#E5ECF6\",\"gridcolor\":\"white\",\"linecolor\":\"white\",\"showbackground\":true,\"ticks\":\"\",\"zerolinecolor\":\"white\",\"gridwidth\":2},\"yaxis\":{\"backgroundcolor\":\"#E5ECF6\",\"gridcolor\":\"white\",\"linecolor\":\"white\",\"showbackground\":true,\"ticks\":\"\",\"zerolinecolor\":\"white\",\"gridwidth\":2},\"zaxis\":{\"backgroundcolor\":\"#E5ECF6\",\"gridcolor\":\"white\",\"linecolor\":\"white\",\"showbackground\":true,\"ticks\":\"\",\"zerolinecolor\":\"white\",\"gridwidth\":2}},\"shapedefaults\":{\"line\":{\"color\":\"#2a3f5f\"}},\"annotationdefaults\":{\"arrowcolor\":\"#2a3f5f\",\"arrowhead\":0,\"arrowwidth\":1},\"geo\":{\"bgcolor\":\"white\",\"landcolor\":\"#E5ECF6\",\"subunitcolor\":\"white\",\"showland\":true,\"showlakes\":true,\"lakecolor\":\"white\"},\"title\":{\"x\":0.05},\"mapbox\":{\"style\":\"light\"}}},\"xaxis\":{\"anchor\":\"y\",\"domain\":[0.0,1.0],\"scaleanchor\":\"y\",\"constrain\":\"domain\"},\"yaxis\":{\"anchor\":\"x\",\"domain\":[0.0,1.0],\"autorange\":\"reversed\",\"constrain\":\"domain\"},\"coloraxis\":{\"colorscale\":[[0.0,\"#0d0887\"],[0.1111111111111111,\"#46039f\"],[0.2222222222222222,\"#7201a8\"],[0.3333333333333333,\"#9c179e\"],[0.4444444444444444,\"#bd3786\"],[0.5555555555555556,\"#d8576b\"],[0.6666666666666666,\"#ed7953\"],[0.7777777777777778,\"#fb9f3a\"],[0.8888888888888888,\"#fdca26\"],[1.0,\"#f0f921\"]]},\"margin\":{\"t\":60}},                        {\"responsive\": true}                    ).then(function(){\n",
       "                            \n",
       "var gd = document.getElementById('8d606749-1ec3-4ec0-98b0-fc8f82590ef9');\n",
       "var x = new MutationObserver(function (mutations, observer) {{\n",
       "        var display = window.getComputedStyle(gd).display;\n",
       "        if (!display || display === 'none') {{\n",
       "            console.log([gd, 'removed!']);\n",
       "            Plotly.purge(gd);\n",
       "            observer.disconnect();\n",
       "        }}\n",
       "}});\n",
       "\n",
       "// Listen for the removal of the full notebook cells\n",
       "var notebookContainer = gd.closest('#notebook-container');\n",
       "if (notebookContainer) {{\n",
       "    x.observe(notebookContainer, {childList: true});\n",
       "}}\n",
       "\n",
       "// Listen for the clearing of the current output cell\n",
       "var outputEl = gd.closest('.output');\n",
       "if (outputEl) {{\n",
       "    x.observe(outputEl, {childList: true});\n",
       "}}\n",
       "\n",
       "                        })                };                });            </script>        </div>"
      ]
     },
     "metadata": {},
     "output_type": "display_data"
    }
   ],
   "source": [
    "import plotly.express as px\n",
    "import pandas as pd\n",
    "import numpy as np\n",
    "\n",
    "normalized_losses = {}\n",
    "\n",
    "drop_features = [22113]\n",
    "drop_ids = [features.index(feature) for feature in drop_features]\n",
    "\n",
    "features_dropped = [feature for feature in features if feature not in drop_features]\n",
    "\n",
    "for task_name, losses in negative_task_losses.items():\n",
    "    base_loss = losses[1]\n",
    "    losses = [x[0].tolist() for x in losses[0]]\n",
    "    losses = np.array(losses)\n",
    "    losses = np.delete(losses, drop_ids)\n",
    "\n",
    "    losses = losses - base_loss[0]\n",
    "    \n",
    "    max_loss = np.max(losses)\n",
    "    min_loss = np.min(losses)\n",
    "\n",
    "    losses = (losses - min_loss) / (max_loss - min_loss)\n",
    "    \n",
    "    # mean_loss = np.mean(losses - base_loss)\n",
    "\n",
    "    # base_acc = losses[1][1]\n",
    "\n",
    "    # accs = [base_acc - loss[1] for loss in losses[0]]\n",
    "    normalized_losses[task_name] = losses\n",
    "\n",
    "\n",
    "heatmap = np.zeros((len(task_names), len(features_dropped)))\n",
    "\n",
    "for i, task_name in enumerate(task_names):\n",
    "    for j, feature in enumerate(features_dropped):\n",
    "        heatmap[i, j] = normalized_losses[task_name][j]\n",
    "\n",
    "heatmap /= np.mean(heatmap, axis=0, keepdims=True)\n",
    "\n",
    "\n",
    "\n",
    "# heatmap = np.where(heatmap > 0, np.log(heatmap), -10)\n",
    "# heatmap[np.isnan(heatmap)] = np.min(heatmap[np.isfinite(heatmap)])\n",
    "# heatmap[np.isinf(heatmap)] = np.max(heatmap[np.isfinite(heatmap)])\n",
    "\n",
    "# heatmap = np.clip(heatmap, -5, 5)\n",
    "\n",
    "std_heatmap = np.std(heatmap, axis=0)\n",
    "\n",
    "sorted_idx = np.argsort(-std_heatmap)\n",
    "\n",
    "heatmap = heatmap[:, sorted_idx]\n",
    "\n",
    "labels = [str(features_dropped[x]) for x in sorted_idx]\n",
    "\n",
    "fig = px.imshow(heatmap, x=labels, y=task_names)\n",
    "\n",
    "fig.show()\n"
   ]
  },
  {
   "cell_type": "code",
   "execution_count": 120,
   "metadata": {},
   "outputs": [
    {
     "data": {
      "text/html": [
       "<script> (()=>{ if (customElements.get('treescope-container') === undefined) { class TreescopeContainer extends HTMLElement { constructor() { super(); this.attachShadow({mode: \"open\"}); this.defns = {}; this.state = {}; } } customElements.define(\"treescope-container\", TreescopeContainer); } if (customElements.get('treescope-run-here') === undefined) { class RunHere extends HTMLElement { constructor() { super() } connectedCallback() { const run = child => { const fn = new Function(child.textContent); child.textContent = \"\"; fn.call(this); this.remove(); }; const child = this.querySelector(\"script\"); if (child) { run(child); } else { new MutationObserver(()=>{ run(this.querySelector(\"script\")); }).observe(this, {childList: true}); } } } customElements.define(\"treescope-run-here\", RunHere); } })(); </script> <treescope-container class=\"treescope_out_c3bb89eb3962492a862851835c64a16c\" ></treescope-container> <treescope-run-here><script type=\"application/octet-stream\"> const root = ( Array.from(document.getElementsByClassName( \"treescope_out_c3bb89eb3962492a862851835c64a16c\")) .filter((elt) => !elt.dataset.setup) )[0]; root.dataset.setup = 1; const msg = document.createElement(\"span\"); msg.style = \"color: #aaaaaa; font-family: monospace; transition: opacity 0.2s; opacity: 0.0;\"; msg.textContent = \"(Loading...)\"; root.state.loadingMsg = msg; root.shadowRoot.appendChild(msg); root.state.chain = new Promise((resolve, reject) => { const observer = new IntersectionObserver((entries) => { for (const entry of entries) { if (entry.isIntersecting) { resolve(); observer.disconnect(); return; } } }, {rootMargin: \"1000px\"}); window.setTimeout(() => { if (root.loadingMsg) { root.loadingMsg.style.opacity = \"1.0\"; } observer.observe(root); }, 0); }); root.state.deferring = false; const _insertNode = (node) => { for (let oldScript of node.querySelectorAll(\"script\")) { let newScript = document.createElement(\"script\"); newScript.type = oldScript.type; newScript.textContent = oldScript.textContent; oldScript.parentNode.replaceChild(newScript, oldScript); } if (root.state.loadingMsg) { root.state.loadingMsg.remove(); root.state.loadingMsg = null; } root.shadowRoot.appendChild(node); }; root.defns.insertContent = ((contentNode, compressed) => { if (compressed) { root.state.deferring = true; } if (root.state.deferring) { root.state.chain = (async () => { await root.state.chain; if (compressed) { const encoded = contentNode.textContent; const blob = new Blob([ Uint8Array.from(atob(encoded), (m) => m.codePointAt(0)) ]); const reader = blob.stream().pipeThrough( new DecompressionStream(\"deflate\") ).pipeThrough( new TextDecoderStream(\"utf-8\") ).getReader(); const parts = []; while (true) { const step = await reader.read(); if (step.done) { break; } parts.push(step.value); } const tpl = document.createElement('template'); tpl.innerHTML = parts.join(\"\"); _insertNode(tpl.content); } else { _insertNode(contentNode.content); } })(); } else { _insertNode(contentNode.content); } }); </script></treescope-run-here><div style=\"display:none\"> <script type=\"application/octet-stream\" >eNqNVE1v2zAM/SuCd6gNzO7H0GJNYgO9DDsMO2yHHYohUGzaFiJTmkQny4b+91FykvUjK4YcYpHU43sUyYWnnYaqIAfga2Nh6Ywh8VtY4xUpgzPhQEtSG5iL1iDlrRyU3s3EYNB4K2u2b3tFkMfDTFjHFq085RE6p51lKxpk80rW686ZEZu8Ntq42XR1LvanleYAxlMN9TPRKuIwJECaCyubRmGXa2hpJq7qPiRByHtQXc+Wy+I6wCBJxZyP1/Yf+UZ5tVJaETOXI5ljbK6QnEKv6tyrXzB593QfFudTeRbH8uRuRM7p2OZrpyyJoK88k9ZqVctQsXNTEwT1DuRwVqVpVlZcUM7nSTTQoheloF75ogP6wtX+bBpIs6I3noroZ2lAYmkBg+S7OqCGS/ffT3k+Smw0sBtHredThoJpfjUG2ZpujVtn4jEH841NwfXETKoORguuNW6QWEOBZptm8X05QfrCI/Lp0kK8u8oYR7Uifca60IAd9aIsxUUIeZW6Axodct0FaA9/ifUjBmbPoX2vWgr8YkD4eODfPzKk3FXYmG3h4McInu5QDfG5Pjg5QDrVJAsY8xeJ7Oj7qYzzExoPKcpJxisq/59DYDE9JJmu09NULuPkcLfagBUsoOmtgA03+P4lA7t4LtawC0VPXBII7YOLWkvvP/Fw7nHT5Ii5HLgNk0Pyh4zrye0fe7xanJ8agEZtRAQsk6frIxEkV6wUfpbJRSIMMhmWjRz3Wtuf1pqGOweVCY/dtLDixljiOKzAxU6JC+TNxe37y+ubx6PLawkPNHueVcdrY70k6ZhGIhpJMmd6VlJfJsnT8Mc5kurmljHZWx3/uADVH80k25g=</script> <treescope-run-here><script type=\"application/octet-stream\"> const root = ( Array.from(document.getElementsByClassName( \"treescope_out_c3bb89eb3962492a862851835c64a16c\")) .filter((elt) => !elt.dataset['step0']) )[0]; root.dataset['step0'] = 1; root.defns.insertContent( this.parentNode.querySelector('script[type=\"application/octet-stream\"]'), true ); this.parentNode.remove(); </script></treescope-run-here> </div>"
      ],
      "text/plain": [
       "<IPython.core.display.HTML object>"
      ]
     },
     "metadata": {},
     "output_type": "display_data"
    },
    {
     "data": {
      "text/html": [
       "<treescope-run-here><script type=\"application/octet-stream\"> const root = ( Array.from(document.getElementsByClassName( \"treescope_out_c3bb89eb3962492a862851835c64a16c\")) .filter((elt) => !elt.dataset.stolen) )[0]; root.dataset.stolen = 1; this.parentNode.replaceChild(root, this); </script></treescope-run-here>"
      ],
      "text/plain": [
       "69"
      ]
     },
     "execution_count": 120,
     "metadata": {},
     "output_type": "execute_result"
    }
   ],
   "source": [
    "features_dropped.index(7491)"
   ]
  },
  {
   "cell_type": "code",
   "execution_count": 121,
   "metadata": {},
   "outputs": [
    {
     "data": {
      "text/html": [
       "<script> (()=>{ if (customElements.get('treescope-container') === undefined) { class TreescopeContainer extends HTMLElement { constructor() { super(); this.attachShadow({mode: \"open\"}); this.defns = {}; this.state = {}; } } customElements.define(\"treescope-container\", TreescopeContainer); } if (customElements.get('treescope-run-here') === undefined) { class RunHere extends HTMLElement { constructor() { super() } connectedCallback() { const run = child => { const fn = new Function(child.textContent); child.textContent = \"\"; fn.call(this); this.remove(); }; const child = this.querySelector(\"script\"); if (child) { run(child); } else { new MutationObserver(()=>{ run(this.querySelector(\"script\")); }).observe(this, {childList: true}); } } } customElements.define(\"treescope-run-here\", RunHere); } })(); </script> <treescope-container class=\"treescope_out_104e60d5d866483db336aa100bbe0acc\" ></treescope-container> <treescope-run-here><script type=\"application/octet-stream\"> const root = ( Array.from(document.getElementsByClassName( \"treescope_out_104e60d5d866483db336aa100bbe0acc\")) .filter((elt) => !elt.dataset.setup) )[0]; root.dataset.setup = 1; const msg = document.createElement(\"span\"); msg.style = \"color: #aaaaaa; font-family: monospace; transition: opacity 0.2s; opacity: 0.0;\"; msg.textContent = \"(Loading...)\"; root.state.loadingMsg = msg; root.shadowRoot.appendChild(msg); root.state.chain = new Promise((resolve, reject) => { const observer = new IntersectionObserver((entries) => { for (const entry of entries) { if (entry.isIntersecting) { resolve(); observer.disconnect(); return; } } }, {rootMargin: \"1000px\"}); window.setTimeout(() => { if (root.loadingMsg) { root.loadingMsg.style.opacity = \"1.0\"; } observer.observe(root); }, 0); }); root.state.deferring = false; const _insertNode = (node) => { for (let oldScript of node.querySelectorAll(\"script\")) { let newScript = document.createElement(\"script\"); newScript.type = oldScript.type; newScript.textContent = oldScript.textContent; oldScript.parentNode.replaceChild(newScript, oldScript); } if (root.state.loadingMsg) { root.state.loadingMsg.remove(); root.state.loadingMsg = null; } root.shadowRoot.appendChild(node); }; root.defns.insertContent = ((contentNode, compressed) => { if (compressed) { root.state.deferring = true; } if (root.state.deferring) { root.state.chain = (async () => { await root.state.chain; if (compressed) { const encoded = contentNode.textContent; const blob = new Blob([ Uint8Array.from(atob(encoded), (m) => m.codePointAt(0)) ]); const reader = blob.stream().pipeThrough( new DecompressionStream(\"deflate\") ).pipeThrough( new TextDecoderStream(\"utf-8\") ).getReader(); const parts = []; while (true) { const step = await reader.read(); if (step.done) { break; } parts.push(step.value); } const tpl = document.createElement('template'); tpl.innerHTML = parts.join(\"\"); _insertNode(tpl.content); } else { _insertNode(contentNode.content); } })(); } else { _insertNode(contentNode.content); } }); </script></treescope-run-here><div style=\"display:none\"> <script type=\"application/octet-stream\" >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</script> <treescope-run-here><script type=\"application/octet-stream\"> const root = ( Array.from(document.getElementsByClassName( \"treescope_out_104e60d5d866483db336aa100bbe0acc\")) .filter((elt) => !elt.dataset['step0']) )[0]; root.dataset['step0'] = 1; root.defns.insertContent( this.parentNode.querySelector('script[type=\"application/octet-stream\"]'), true ); this.parentNode.remove(); </script></treescope-run-here> </div>"
      ],
      "text/plain": [
       "<IPython.core.display.HTML object>"
      ]
     },
     "metadata": {},
     "output_type": "display_data"
    },
    {
     "data": {
      "text/html": [
       "<treescope-run-here><script type=\"application/octet-stream\"> const root = ( Array.from(document.getElementsByClassName( \"treescope_out_104e60d5d866483db336aa100bbe0acc\")) .filter((elt) => !elt.dataset.stolen) )[0]; root.dataset.stolen = 1; this.parentNode.replaceChild(root, this); </script></treescope-run-here>"
      ],
      "text/plain": [
       "[26127,\n",
       " 6171,\n",
       " 10787,\n",
       " 30247,\n",
       " 3113,\n",
       " 9782,\n",
       " 32320,\n",
       " 15947,\n",
       " 23682,\n",
       " 12943,\n",
       " 16016,\n",
       " 13458,\n",
       " 30888,\n",
       " 19112,\n",
       " 11491,\n",
       " 23312,\n",
       " 7967,\n",
       " 7491,\n",
       " 1878,\n",
       " 20832,\n",
       " 6503,\n",
       " 26987,\n",
       " 2939,\n",
       " 31620,\n",
       " 11172,\n",
       " 25534,\n",
       " 6594,\n",
       " 5579,\n",
       " 23514,\n",
       " 6629,\n",
       " 18416]"
      ]
     },
     "execution_count": 121,
     "metadata": {},
     "output_type": "execute_result"
    }
   ],
   "source": [
    "mean_heatmap = np.mean(heatmap, axis=0)\n",
    "\n",
    "drop_features = np.where(mean_heatmap < 0.9)[0]\n",
    "\n",
    "drop_features = [features_dropped[x] for x in drop_features]\n",
    "\n",
    "drop_features"
   ]
  },
  {
   "cell_type": "code",
   "execution_count": 115,
   "metadata": {},
   "outputs": [
    {
     "data": {
      "text/html": [
       "<script> (()=>{ if (customElements.get('treescope-container') === undefined) { class TreescopeContainer extends HTMLElement { constructor() { super(); this.attachShadow({mode: \"open\"}); this.defns = {}; this.state = {}; } } customElements.define(\"treescope-container\", TreescopeContainer); } if (customElements.get('treescope-run-here') === undefined) { class RunHere extends HTMLElement { constructor() { super() } connectedCallback() { const run = child => { const fn = new Function(child.textContent); child.textContent = \"\"; fn.call(this); this.remove(); }; const child = this.querySelector(\"script\"); if (child) { run(child); } else { new MutationObserver(()=>{ run(this.querySelector(\"script\")); }).observe(this, {childList: true}); } } } customElements.define(\"treescope-run-here\", RunHere); } })(); </script> <treescope-container class=\"treescope_out_a40288c9bdfe4c8abf3d02272a83c790\" ></treescope-container> <treescope-run-here><script type=\"application/octet-stream\"> const root = ( Array.from(document.getElementsByClassName( \"treescope_out_a40288c9bdfe4c8abf3d02272a83c790\")) .filter((elt) => !elt.dataset.setup) )[0]; root.dataset.setup = 1; const msg = document.createElement(\"span\"); msg.style = \"color: #aaaaaa; font-family: monospace; transition: opacity 0.2s; opacity: 0.0;\"; msg.textContent = \"(Loading...)\"; root.state.loadingMsg = msg; root.shadowRoot.appendChild(msg); root.state.chain = new Promise((resolve, reject) => { const observer = new IntersectionObserver((entries) => { for (const entry of entries) { if (entry.isIntersecting) { resolve(); observer.disconnect(); return; } } }, {rootMargin: \"1000px\"}); window.setTimeout(() => { if (root.loadingMsg) { root.loadingMsg.style.opacity = \"1.0\"; } observer.observe(root); }, 0); }); root.state.deferring = false; const _insertNode = (node) => { for (let oldScript of node.querySelectorAll(\"script\")) { let newScript = document.createElement(\"script\"); newScript.type = oldScript.type; newScript.textContent = oldScript.textContent; oldScript.parentNode.replaceChild(newScript, oldScript); } if (root.state.loadingMsg) { root.state.loadingMsg.remove(); root.state.loadingMsg = null; } root.shadowRoot.appendChild(node); }; root.defns.insertContent = ((contentNode, compressed) => { if (compressed) { root.state.deferring = true; } if (root.state.deferring) { root.state.chain = (async () => { await root.state.chain; if (compressed) { const encoded = contentNode.textContent; const blob = new Blob([ Uint8Array.from(atob(encoded), (m) => m.codePointAt(0)) ]); const reader = blob.stream().pipeThrough( new DecompressionStream(\"deflate\") ).pipeThrough( new TextDecoderStream(\"utf-8\") ).getReader(); const parts = []; while (true) { const step = await reader.read(); if (step.done) { break; } parts.push(step.value); } const tpl = document.createElement('template'); tpl.innerHTML = parts.join(\"\"); _insertNode(tpl.content); } else { _insertNode(contentNode.content); } })(); } else { _insertNode(contentNode.content); } }); </script></treescope-run-here><div style=\"display:none\"> <script type=\"application/octet-stream\" >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</script> <treescope-run-here><script type=\"application/octet-stream\"> const root = ( Array.from(document.getElementsByClassName( \"treescope_out_a40288c9bdfe4c8abf3d02272a83c790\")) .filter((elt) => !elt.dataset['step0']) )[0]; root.dataset['step0'] = 1; root.defns.insertContent( this.parentNode.querySelector('script[type=\"application/octet-stream\"]'), true ); this.parentNode.remove(); </script></treescope-run-here> </div>"
      ],
      "text/plain": [
       "<IPython.core.display.HTML object>"
      ]
     },
     "metadata": {},
     "output_type": "display_data"
    },
    {
     "data": {
      "text/html": [
       "<treescope-run-here><script type=\"application/octet-stream\"> const root = ( Array.from(document.getElementsByClassName( \"treescope_out_a40288c9bdfe4c8abf3d02272a83c790\")) .filter((elt) => !elt.dataset.stolen) )[0]; root.dataset.stolen = 1; this.parentNode.replaceChild(root, this); </script></treescope-run-here>"
      ],
      "text/plain": [
       "(23, 129)"
      ]
     },
     "execution_count": 115,
     "metadata": {},
     "output_type": "execute_result"
    }
   ],
   "source": [
    "heatmap.shape"
   ]
  },
  {
   "cell_type": "code",
   "execution_count": 116,
   "metadata": {},
   "outputs": [
    {
     "data": {
      "text/html": [
       "<script> (()=>{ if (customElements.get('treescope-container') === undefined) { class TreescopeContainer extends HTMLElement { constructor() { super(); this.attachShadow({mode: \"open\"}); this.defns = {}; this.state = {}; } } customElements.define(\"treescope-container\", TreescopeContainer); } if (customElements.get('treescope-run-here') === undefined) { class RunHere extends HTMLElement { constructor() { super() } connectedCallback() { const run = child => { const fn = new Function(child.textContent); child.textContent = \"\"; fn.call(this); this.remove(); }; const child = this.querySelector(\"script\"); if (child) { run(child); } else { new MutationObserver(()=>{ run(this.querySelector(\"script\")); }).observe(this, {childList: true}); } } } customElements.define(\"treescope-run-here\", RunHere); } })(); </script> <treescope-container class=\"treescope_out_f8c9a41f957d40ec865b7459d52d5be1\" ></treescope-container> <treescope-run-here><script type=\"application/octet-stream\"> const root = ( Array.from(document.getElementsByClassName( \"treescope_out_f8c9a41f957d40ec865b7459d52d5be1\")) .filter((elt) => !elt.dataset.setup) )[0]; root.dataset.setup = 1; const msg = document.createElement(\"span\"); msg.style = \"color: #aaaaaa; font-family: monospace; transition: opacity 0.2s; opacity: 0.0;\"; msg.textContent = \"(Loading...)\"; root.state.loadingMsg = msg; root.shadowRoot.appendChild(msg); root.state.chain = new Promise((resolve, reject) => { const observer = new IntersectionObserver((entries) => { for (const entry of entries) { if (entry.isIntersecting) { resolve(); observer.disconnect(); return; } } }, {rootMargin: \"1000px\"}); window.setTimeout(() => { if (root.loadingMsg) { root.loadingMsg.style.opacity = \"1.0\"; } observer.observe(root); }, 0); }); root.state.deferring = false; const _insertNode = (node) => { for (let oldScript of node.querySelectorAll(\"script\")) { let newScript = document.createElement(\"script\"); newScript.type = oldScript.type; newScript.textContent = oldScript.textContent; oldScript.parentNode.replaceChild(newScript, oldScript); } if (root.state.loadingMsg) { root.state.loadingMsg.remove(); root.state.loadingMsg = null; } root.shadowRoot.appendChild(node); }; root.defns.insertContent = ((contentNode, compressed) => { if (compressed) { root.state.deferring = true; } if (root.state.deferring) { root.state.chain = (async () => { await root.state.chain; if (compressed) { const encoded = contentNode.textContent; const blob = new Blob([ Uint8Array.from(atob(encoded), (m) => m.codePointAt(0)) ]); const reader = blob.stream().pipeThrough( new DecompressionStream(\"deflate\") ).pipeThrough( new TextDecoderStream(\"utf-8\") ).getReader(); const parts = []; while (true) { const step = await reader.read(); if (step.done) { break; } parts.push(step.value); } const tpl = document.createElement('template'); tpl.innerHTML = parts.join(\"\"); _insertNode(tpl.content); } else { _insertNode(contentNode.content); } })(); } else { _insertNode(contentNode.content); } }); </script></treescope-run-here><div style=\"display:none\"> <script type=\"application/octet-stream\" >eNqNVE2P0zAQ/StWOGwqkWy70LL9SKS9IA6IAxw4IFS5ySSx6oyNPWkpaP8746Qt+1FWqIfGb8bz3oxnZuXpoCFPyQH4wlhYO2NI/BbWeEXK4EI40JLUDpaiMkhJJVulDwvRGjTeyoLxfaMIkv6wENYxopWnpA+d0MEyigYZ3shiWzvTYZkURhu3GK4uxfG00ezA8VRJzUJUitgNCZCWwsqyVFgnGipaiJuiCSQISQOqbhiZpNMQBkkq1ny+dvxIdsqrjdKKWLnsyJx9E4XkFHpVJF79gsF6lHu/uh7KszqXJ3EdMqdjzBdOWRIhv+xKWqtVIUPFrk1BELJ3INurPI5HWc4FZT5PooQKvcgENcqnNdBnrvYnU0I8ShvjKe3tnBqQWFvAkPJdEaKGS9++X7J8kFhqYDN2Wi8HhpRlfjEGGY33xm1H4qEG85WhYHoEkyoCaMFVxrUSC0jR7ONR/75MED+ziGS4tBJvbkYcR1UifqI61YA1NSLLxDi4vCjdAXUOue4CtIe/wpoOg7KnoX2jKgr6eofwcc+/fzDE3FVYmn3q4EcHnu5Qtf1zvXeyhXioySjEWD4jsp1vhjIuL+R4osiGNF7I8v81BBXDQ5Kpaz1M5bqfHO5WG2IFBDS9FrDjBj++ZFDXn9MtHELRIxcFQUfntNDS+488nMe4cXSOuW65DaMT+f2I68nt3/d4vrq+NACl2ok+YBY9Xh+RILnhTOFnFo0jYZDFcNrIfi+1/eVc43DnlGXEYzcsrH5jrLFrN+D6TukXyKvx/HYynT0cXV5LeJLZ8Kw6XhvbNUnHMiJRSpIJy7OSmiyKHrs/5IjycTqfjW9n8+lsejN592Y+ecsc7J2f/7gg+R95oN7Y</script> <treescope-run-here><script type=\"application/octet-stream\"> const root = ( Array.from(document.getElementsByClassName( \"treescope_out_f8c9a41f957d40ec865b7459d52d5be1\")) .filter((elt) => !elt.dataset['step0']) )[0]; root.dataset['step0'] = 1; root.defns.insertContent( this.parentNode.querySelector('script[type=\"application/octet-stream\"]'), true ); this.parentNode.remove(); </script></treescope-run-here> </div>"
      ],
      "text/plain": [
       "<IPython.core.display.HTML object>"
      ]
     },
     "metadata": {},
     "output_type": "display_data"
    },
    {
     "data": {
      "text/html": [
       "<treescope-run-here><script type=\"application/octet-stream\"> const root = ( Array.from(document.getElementsByClassName( \"treescope_out_f8c9a41f957d40ec865b7459d52d5be1\")) .filter((elt) => !elt.dataset.stolen) )[0]; root.dataset.stolen = 1; this.parentNode.replaceChild(root, this); </script></treescope-run-here>"
      ],
      "text/plain": [
       "0.9608695652173914"
      ]
     },
     "execution_count": 116,
     "metadata": {},
     "output_type": "execute_result"
    }
   ],
   "source": [
    "(22 + 0.1)/23"
   ]
  },
  {
   "cell_type": "code",
   "execution_count": 127,
   "metadata": {},
   "outputs": [
    {
     "data": {
      "application/vnd.plotly.v1+json": {
       "config": {
        "plotlyServerURL": "https://plot.ly"
       },
       "data": [
        {
         "coloraxis": "coloraxis",
         "hovertemplate": "x: %{x}<br>y: %{y}<br>color: %{z}<extra></extra>",
         "name": "0",
         "type": "heatmap",
         "x": [
          "5633",
          "16415",
          "7714",
          "8250",
          "7739",
          "572",
          "23613",
          "9790",
          "19515",
          "30814",
          "22113",
          "6756",
          "16996",
          "16490",
          "6765",
          "25712",
          "22136",
          "6780",
          "27268",
          "27270",
          "19592",
          "24206",
          "19097",
          "1181",
          "25759",
          "32417",
          "3757",
          "22199",
          "27832",
          "15554",
          "211",
          "26331",
          "17636",
          "29934",
          "14086",
          "9991",
          "27401",
          "6413",
          "5392",
          "4370",
          "9488",
          "14612",
          "25878",
          "1818",
          "16671",
          "1830",
          "18218",
          "26924",
          "3382",
          "19260",
          "8508",
          "12606",
          "20805",
          "23374",
          "850",
          "24925",
          "4448",
          "2914",
          "11618",
          "17761",
          "23906",
          "5991",
          "18285",
          "2930",
          "18803",
          "2931",
          "22906",
          "6013",
          "9600",
          "25474",
          "32643",
          "10633",
          "23436",
          "3476",
          "18840",
          "7578",
          "30618",
          "24993",
          "19363",
          "11173",
          "2992",
          "8633",
          "16313",
          "8125",
          "9662",
          "7106",
          "7114",
          "16340",
          "29144",
          "9178",
          "6108",
          "10720",
          "18400",
          "26594",
          "25056",
          "25576",
          "2539",
          "15356"
         ],
         "xaxis": "x",
         "y": [
          "location_continent",
          "football_player_position",
          "location_religion",
          "location_language",
          "person_profession",
          "location_country",
          "country_capital",
          "person_language",
          "singular_plural",
          "present_simple_past_simple",
          "antonyms",
          "plural_singular",
          "present_simple_past_perfect",
          "present_simple_gerund",
          "en_it",
          "it_en",
          "en_fr",
          "en_es",
          "fr_en",
          "es_en",
          "algo_last",
          "algo_first",
          "algo_second"
         ],
         "yaxis": "y",
         "z": [
          [
           0.2783793818012496,
           0.5822840464686757,
           0.5776757465467169,
           0.10905725083284745,
           0.6931465673917849,
           0.5303856448331642,
           0.6931465673917849,
           0.6931465673917849,
           0.5637220414434075,
           0.4549730975709833,
           0.5914374222131856,
           0.4177347819510318,
           0.6228301136422172,
           0.6931465673917849,
           0.2073819003684631,
           0.5959828815063342,
           0.6931465673917849,
           0.5108251332314925,
           0.6931465673917849,
           0.38467394683593914,
           0.6931465673917849,
           0.6931465673917849,
           0.48582384965397185,
           0.4549730975709833,
           0.5914374222131856,
           0.5543102138605105,
           0.5543102138605105,
           0.6828052199709438,
           0.6931465673917849,
           0.4444743216845556,
           0.5303856448331642,
           0.6446650280372916,
           0.5448089614618236,
           0.2721293672764421,
           0.6931465673917849,
           0.5008995007711925,
           0.6931465673917849,
           0.6931465673917849,
           0.48582384965397185,
           0.6931465673917849,
           0.6744544459488465,
           0.3210687516996645,
           0.4756456524561678,
           0.38467394683593914,
           0.6094965916027683,
           0.6931465673917849,
           0.6931465673917849,
           0.6931465673917849,
           0.6005077730538945,
           0.097925422773292,
           0.5730461118415768,
           0.6931465673917849,
           0.5776757465467169,
           0.6931465673917849,
           0,
           0.46536279337808006,
           0.5108251332314925,
           0.24673120070088683,
           0.5008995007711925,
           0.6931465673917849,
           0.6931465673917849,
           0.515751247951814,
           0.4122999903660963,
           0.6931465673917849,
           0.6931465673917849,
           0.5303856448331642,
           0.6931465673917849,
           0.12370951162510274,
           0.6828052199709438,
           0.6931465673917849,
           0.5303856448331642,
           0.6931465673917849,
           0.3210687516996645,
           0.43918330822138174,
           0.4807477004614488,
           0.25951091517968655,
           0.43386415095951664,
           0.4068355003432693,
           0.6931465673917849,
           0.3620101063930124,
           0.4549730975709833,
           0.5590272004233966,
           0.4549730975709833,
           0.48582384965397185,
           0.43386415095951664,
           0.4756456524561678,
           0.5352165686254846,
           0.6931465673917849,
           0.5448089614618236,
           0.6931465673917849,
           0.004106776926686495,
           0.6094965916027683,
           0.5959828815063342,
           0.4958994940795075,
           0.6931465673917849,
           0.19051811126636506,
           0.193913696831556,
           0.6702527617256203
          ],
          [
           0.5223146007416342,
           0.532804202497855,
           0.5636285465505717,
           0.6193806636787029,
           0.5770290760722258,
           0.4974022922428574,
           0.6352037719078666,
           0,
           0.5534589720004224,
           0.35222035784877087,
           0.4341842517622848,
           0.4974022922428574,
           0.5117137997745482,
           0.6065394012545403,
           0.529319880042074,
           0.5362764265930522,
           0.6320591165535034,
           0.5736957411413598,
           0.6931467835231447,
           0.6872032319891336,
           0.5703512579173807,
           0.5836625966196067,
           0.42647708849719324,
           0.5187934720044365,
           0.5869629281887081,
           0.4418324686813407,
           0.4718534698389434,
           0.5602501664883492,
           0.6931467835231447,
           0.44373541785694015,
           0.5770290760722258,
           0.6691576367928641,
           0.6842181563397122,
           0.4974022922428574,
           0.5770290760722258,
           0.5602501664883492,
           0.5117137997745482,
           0.48288298798067325,
           0.5636285465505717,
           0.6161857741499662,
           0.6161857741499662,
           0.5669955515793531,
           0.5902524033891384,
           0.6931467835231447,
           0.3290370354883443,
           0.6901794234752442,
           0.532804202497855,
           0.5836625966196067,
           0.5152599010962684,
           0.6225653783871384,
           0.4494226340880849,
           0.49379218176516887,
           0.529319880042074,
           0.5500460009650665,
           0.6812241433283001,
           0.6752090900226652,
           0.5045836481961901,
           0.5967990687438998,
           0.45319622156356604,
           0.6193806636787029,
           0.5967990687438998,
           0.5152599010962684,
           0.43033809515706134,
           0.5967990687438998,
           0.6812241433283001,
           0.42840945524752333,
           0.6901794234752442,
           0.5187934720044365,
           0.5009994166898375,
           0.6600112353034797,
           0.532804202497855,
           0.5902524033891384,
           0.4607009434441172,
           0.6931467835231447,
           0.5187934720044365,
           0.6721879409115543,
           0.5397366360535568,
           0.508155078854599,
           0.6782211392769484,
           0.6193806636787029,
           0.508155078854599,
           0.650780404333946,
           0.5703512579173807,
           0.5117137997745482,
           0.5534589720004224,
           0.46814976373959893,
           0.5935310934103604,
           0.6225653783871384,
           0.5397366360535568,
           0.4607009434441172,
           0.5223146007416342,
           0.4341842517622848,
           0.532804202497855,
           0.49379218176516887,
           0.532804202497855,
           0.4494226340880849,
           0.49379218176516887,
           0.5431849137391277
          ],
          [
           0.4978980246569571,
           0.6102968497316525,
           0.3670185290927148,
           0.6839300649275374,
           0.6715075507931749,
           0.40851823381786634,
           0.639758867801168,
           0.4941736276743904,
           0.45614625406824627,
           0.47534069012388114,
           0.3879836441953659,
           0.42063958690580394,
           0.42863962470880523,
           0.6931467157284652,
           0.3921244342551783,
           0.6839300649275374,
           0.6493897561625541,
           0.5661470879131,
           0.6931467157284652,
           0.4483641182289019,
           0.6461897549883664,
           0.6808388738102967,
           0.5235874964411517,
           0.573067527117829,
           0.5867663643448662,
           0.46770706969751835,
           0.42063958690580394,
           0.4715311639131159,
           0.6931467157284652,
           0.5343984066236003,
           0.5696132940633665,
           0.677738097593502,
           0.677738097593502,
           0.27614769487949614,
           0.6300343227005967,
           0.47534069012388114,
           0.25504493385446947,
           0.4044449109522134,
           0.49043530768799265,
           0.6931467157284652,
           0.6931467157284652,
           0.44052094544306986,
           0.6102968497316525,
           0.6931467157284652,
           0.4003549282433431,
           0.579940402815607,
           0.6931467157284652,
           0.5126584319608771,
           0.5163147411319574,
           0.40851823381786634,
           0.41257503201191886,
           0.6300343227005967,
           0.5626688253757212,
           0.5765098695076414,
           0.6102968497316525,
           0.6931467157284652,
           0.4791357589032418,
           0.4978980246569571,
           0.04777023290249355,
           0.6931467157284652,
           0.579940402815607,
           0.4044449109522134,
           0.4829164795704788,
           0.6931467157284652,
           0.6931467157284652,
           0.3542251859255183,
           0.6808388738102967,
           0.5199577303932068,
           0.4791357589032418,
           0.677738097593502,
           0.3962481488542717,
           0.6493897561625541,
           0.40851823381786634,
           0.626771678683799,
           0.40851823381786634,
           0.5016086019606949,
           0.4044449109522134,
           0.5163147411319574,
           0.6931467157284652,
           0.6931467157284652,
           0.3962481488542717,
           0.6931467157284652,
           0.6620883333719494,
           0.6808388738102967,
           0.23831815220012076,
           0.2188528318106331,
           0.4483641182289019,
           0.6931467157284652,
           0.6589287745989703,
           0,
           0.4483641182289019,
           0.5661470879131,
           0.31706246424172896,
           0.5901619515934399,
           0.5661470879131,
           0.43261577068536017,
           0.31928715775926314,
           0.362772240951976
          ],
          [
           0.3807720877133568,
           0.5796227877701244,
           0.3537434394350051,
           0.6931465366581282,
           0.6431361491040829,
           0.07966730411830447,
           0.4577330636643552,
           0.6431361491040829,
           0.47608218751774894,
           0.6224100327633558,
           0.27541166983321747,
           0.29739055529597475,
           0.32596390079578175,
           0.6931465366581282,
           0.40708937317360727,
           0.6328267864599638,
           0.6931465366581282,
           0.5796227877701244,
           0.6931465366581282,
           0.47000314631941165,
           0.6931465366581282,
           0.6734414783927664,
           0.32596390079578175,
           0.5291919714524193,
           0.568633674164816,
           0.4638869242398737,
           0.20641886818746522,
           0.6634414016583435,
           0.6931465366581282,
           0.29739055529597475,
           0.4577330636643552,
           0.6931465366581282,
           0.6931465366581282,
           0.26797669864254137,
           0.47000314631941165,
           0.5176311578725072,
           0.43904094602605437,
           0.5796227877701244,
           0.43904094602605437,
           0.6931465366581282,
           0.6931465366581282,
           0.668453940165307,
           0.4821244971544383,
           0.6931465366581282,
           0.49410067873472424,
           0.6931465366581282,
           0.6931465366581282,
           0.5904924522090721,
           0.47608218751774894,
           0.668453940165307,
           0.6931465366581282,
           0.595883297007857,
           0.568633674164816,
           0.5904924522090721,
           0.668453940165307,
           0.6931465366581282,
           0.5059351271380368,
           0.3188967401654311,
           0.3399501298597354,
           0.6931465366581282,
           0.3399501298597354,
           0.26048603431995243,
           0.3329814669538926,
           0.6931465366581282,
           0.6931465366581282,
           0.1408216567265951,
           0.6882565545203189,
           0.47608218751774894,
           0.49410067873472424,
           0.6931465366581282,
           0.06606166835276926,
           0.6012452363541787,
           0.28279176994130456,
           0.6931465366581282,
           0.19845070691923175,
           0.4515410984773916,
           0.3468705663824758,
           0.6012452363541787,
           0.6931465366581282,
           0.6734414783927664,
           0.557522456888139,
           0.6931465366581282,
           0.6118836270895852,
           0.557522456888139,
           0,
           0.02409752091707853,
           0.4881305164530927,
           0.6931465366581282,
           0.6584036109784679,
           0.5406206586553588,
           0.6171606805145753,
           0.6634414016583435,
           0.10633551990605028,
           0.5462863919537513,
           0.3807720877133568,
           0.4577330636643552,
           0.17415804031737264,
           0.29011780294879863
          ],
          [
           0.4814506095094842,
           0.465056810573909,
           0.4814506095094842,
           0.6367619612311227,
           0.5081901532472637,
           0.4371220521280834,
           0.682121185730514,
           0.3104469999565934,
           0.5495396872017757,
           0.18742528730879782,
           0.5646153404402726,
           0.313657273092821,
           0.5545901999014068,
           0.6459998970529822,
           0.2777643783778772,
           0.6085248071302172,
           0.6931466498586134,
           0.4371220521280834,
           0.6931466498586134,
           0.6931466498586134,
           0.3513975723482444,
           0.22314333903371084,
           0.25762948632108007,
           0.48685602454094135,
           0.5081901532472637,
           0.28768180710115016,
           0.4595319383353808,
           0.44277178080793805,
           0.6931466498586134,
           0.3544792365874586,
           0.5989324130056722,
           0.6132867181466828,
           0.6931466498586134,
           0.4371220521280834,
           0.5495396872017757,
           0.5495396872017757,
           0.24740794067767544,
           0.22664596661595454,
           0.47055132623858414,
           0.6274378896158085,
           0.5342332753688356,
           0.3697466974362041,
           0.523897272501629,
           0.6865459693418406,
           0.10008335747103625,
           0.682121185730514,
           0.523897272501629,
           0.5843690573722821,
           0.502899139000233,
           0.5695904720853944,
           0.3817950271699499,
           0.5989324130056722,
           0.5393614885536192,
           0.5342332753688356,
           0.6227430479786332,
           0.6321107926730357,
           0.502899139000233,
           0.5941014885598913,
           0.4199787869955698,
           0.5695904720853944,
           0.4314402225669313,
           0.523897272501629,
           0.3039953697115736,
           0.6931466498586134,
           0.6931466498586134,
           0.39959963901727347,
           0.6931466498586134,
           0.4814506095094842,
           0.42285648481914523,
           0.6413915965364023,
           0.3877651898436539,
           0.502899139000233,
           0.2777643783778772,
           0.6931466498586134,
           0.41129567050413685,
           0.48685602454094135,
           0.44277178080793805,
           0.4371220521280834,
           0.682121185730514,
           0.6132867181466828,
           0.39369992110170765,
           0.6931466498586134,
           0.5393614885536192,
           0.29750184550311587,
           0.4199787869955698,
           0.2542339001102084,
           0.44838976929317154,
           0.6931466498586134,
           0.402536496603298,
           0.22314333903371084,
           0.3877651898436539,
           0,
           0.45397637222537296,
           0.5134533199397167,
           0.4922323780797846,
           0.3200470662512071,
           0.313657273092821,
           0.5393614885536192
          ],
          [
           0.625159280913674,
           0.5467902662342258,
           0.4558185542810388,
           0.4735181180136996,
           0.6931465796215198,
           0.335800977978801,
           0.6931465796215198,
           0.6931465796215198,
           0.5893498516675341,
           0.664573224595974,
           0.16416059146494547,
           0.1317691292512988,
           0.4735181180136996,
           0.6931465796215198,
           0.1561605569899917,
           0.6931465796215198,
           0.6931465796215198,
           0.594544665090409,
           0.6931465796215198,
           0.21843742443685424,
           0.6931465796215198,
           0.6931465796215198,
           0.674188677378123,
           0.5023385352839227,
           0.5080042687107177,
           0.5576011748583156,
           0.5303515514212043,
           0.6931465796215198,
           0.6931465796215198,
           0.4793490339725308,
           0.5841279111767816,
           0.6884406914187233,
           0.2734971498679088,
           0.32568285654941626,
           0.6931465796215198,
           0.44984839185683534,
           0.6931465796215198,
           0.6931465796215198,
           0.4194509383288368,
           0.6931465796215198,
           0.6931465796215198,
           0.36880724655542313,
           0.5682964566540895,
           0.4194509383288368,
           0.664573224595974,
           0.6931465796215198,
           0.6931465796215198,
           0.6931465796215198,
           0.5629631143196391,
           0.6931465796215198,
           0.6099691252648366,
           0.22969456814764388,
           0.5629631143196391,
           0.625159280913674,
           0.40075882022466214,
           0.664573224595974,
           0.48514614735520645,
           0.39444965612652905,
           0.46175328529254445,
           0.6931465796215198,
           0.669392508059052,
           0.467653002964463,
           0.5303515514212043,
           0.6931465796215198,
           0.26632866696688534,
           0.5136380823662584,
           0.6931465796215198,
           0.08544510752733994,
           0.6931465796215198,
           0.6931465796215198,
           0.5576011748583156,
           0.6931465796215198,
           0.5788785588177778,
           0.36880724655542313,
           0.4558185542810388,
           0.5413406652680364,
           0.46175328529254445,
           0.6597306031219194,
           0.6931465796215198,
           0,
           0.2518356731075659,
           0.6931465796215198,
           0.5413406652680364,
           0.6931465796215198,
           0.1561605569899917,
           0.48514614735520645,
           0.6931465796215198,
           0.6931465796215198,
           0.625159280913674,
           0.6931465796215198,
           0.40075882022466214,
           0.5788785588177778,
           0.36880724655542313,
           0.6150581914572785,
           0.4909098478197505,
           0.31888011515018494,
           0.36229257096670076,
           0.5736015052813985
          ],
          [
           0.6931467814471022,
           0.6243123040671557,
           0.49518253495605974,
           0.48431286803594553,
           0.6931467814471022,
           0.5681315003770634,
           0.6931467814471022,
           0.6051270716277103,
           0.5904926705343608,
           0.6547239916782841,
           0.371639764187239,
           0.5929466584119564,
           0.6171609059780946,
           0.6931467814471022,
           0.3958101119697765,
           0.6931467814471022,
           0.6931467814471022,
           0.6931467814471022,
           0.6931467814471022,
           0.684238040129473,
           0.6931467814471022,
           0.6931467814471022,
           0.6931467814471022,
           0.45379733934896227,
           0.5478262434934686,
           0.6570254877131234,
           0.636118811635914,
           0.6931467814471022,
           0.6931467814471022,
           0.6501050477421115,
           0.6051270716277103,
           0.6707243264414495,
           0.45661027930130155,
           0.5706409108490027,
           0.6931467814471022,
           0.49518253495605974,
           0.6931467814471022,
           0.6931467814471022,
           0.6477875505684927,
           0.6931467814471022,
           0.6931467814471022,
           0.6931467814471022,
           0.45379733934896227,
           0.6931467814471022,
           0.6931467814471022,
           0.6931467814471022,
           0.6931467814471022,
           0.6931467814471022,
           0.5323220641690385,
           0.6931467814471022,
           0.6931467814471022,
           0.5781315792115364,
           0.684238040129473,
           0.6931467814471022,
           0.6931467814471022,
           0.6931467814471022,
           0.6931467814471022,
           0.5297145019858474,
           0.6931467814471022,
           0.6931467814471022,
           0.6931467814471022,
           0.43675148079302795,
           0.6027028290740563,
           0.6931467814471022,
           0.3868145539164377,
           0.6931467814471022,
           0.6931467814471022,
           0.33425225308546275,
           0.6931467814471022,
           0.6931467814471022,
           0.6593216990244074,
           0.6931467814471022,
           0.6931467814471022,
           0.6931467814471022,
           0.5904926705343608,
           0.6931467814471022,
           0.6931467814471022,
           0.64313638133977,
           0.6931467814471022,
           0,
           0.5929466584119564,
           0.6931467814471022,
           0.6931467814471022,
           0.6931467814471022,
           0.5529413418054522,
           0.6290516474095239,
           0.6931467814471022,
           0.6931467814471022,
           0.516573714641372,
           0.6931467814471022,
           0.6887023314644641,
           0.6931467814471022,
           0.534922844651564,
           0.6931467814471022,
           0.5401042009773741,
           0.6931467814471022,
           0.6931467814471022,
           0.6887023314644641
          ],
          [
           0.3168572066452468,
           0.5545900953455012,
           0.23708078328263862,
           0.693146527051814,
           0.5290785270841947,
           0.27776431881047786,
           0.48145051565714647,
           0.476015724072211,
           0.4650567192300224,
           0.5545900953455012,
           0.14280822928584008,
           0.20900879386027355,
           0.32322664888580116,
           0.693146527051814,
           0.3168572066452468,
           0.5028990419274961,
           0.693146527051814,
           0.33584510098255677,
           0.693146527051814,
           0.4083843799990967,
           0.5393613861622825,
           0.4650567192300224,
           0.37277233970764184,
           0.4427716929405527,
           0.5290785270841947,
           0.4483896805420537,
           0.4141983448279722,
           0.693146527051814,
           0.693146527051814,
           0.38478448540577914,
           0.3966540504649806,
           0.693146527051814,
           0.693146527051814,
           0.08004260713385175,
           0.5646152344773072,
           0.48685592987048343,
           0.1389987051938996,
           0.40253641521229777,
           0.4595318478461743,
           0.693146527051814,
           0.6367618455476916,
           0.5393613861622825,
           0.5134532213074956,
           0.6776766154680082,
           0.5444634341675634,
           0.693146527051814,
           0.693146527051814,
           0.5989323023315991,
           0.3168572066452468,
           0.5444634341675634,
           0.6367618455476916,
           0.4371219651544446,
           0.4483896805420537,
           0.603740000455713,
           0.4483896805420537,
           0.603740000455713,
           0.3907368786538372,
           0.2643862061980691,
           0.10798850427506433,
           0.5290785270841947,
           0.603740000455713,
           0.2231432899110084,
           0.3787964489038078,
           0.6821210642852098,
           0.693146527051814,
           0.19467164602790368,
           0.693146527051814,
           0.3483063098517196,
           0.3295557779687997,
           0.6274377751495221,
           0.10798850427506433,
           0.36671172056890716,
           0.16536555143678652,
           0.6413914802528315,
           0.1727729845389621,
           0.27776431881047786,
           0.32322664888580116,
           0.5794669816579286,
           0.693146527051814,
           0.6367618455476916,
           0.4427716929405527,
           0.6865458473483318,
           0.5444634341675634,
           0.3907368786538372,
           0.004376368892306063,
           0.03871446254717649,
           0.5238971723423281,
           0.693146527051814,
           0.6732123253088828,
           0.21610101467508633,
           0.3966540504649806,
           0.5134532213074956,
           0.025975452890033578,
           0.4371219651544446,
           0.3606141462406925,
           0.30399530532744445,
           0,
           0.07191249089938734
          ],
          [
           0.6931464229850487,
           0.3694710374297624,
           0.5978363189382393,
           0.6931464229850487,
           0.6931464229850487,
           0.20479413206278493,
           0.6931464229850487,
           0.48783552062305,
           0.43040352652623876,
           0.5108250177061192,
           0.6931464229850487,
           0.5465430684103002,
           0.5552767407512965,
           0.6931464229850487,
           0.6701569223783772,
           0.6931464229850487,
           0.6623747879925191,
           0.6931464229850487,
           0.32668380800026037,
           0.6931464229850487,
           0.6623747879925191,
           0.6931464229850487,
           0.6931464229850487,
           0.4402075170109502,
           0.6545316166830631,
           0.05167193424183925,
           0.21094799006313636,
           0.6931464229850487,
           0.6931464229850487,
           0.5978363189382393,
           0.6061351148658877,
           0.6931464229850487,
           0.4105023920123747,
           0.6931464229850487,
           0.17979286111221235,
           0.07302502831423502,
           0.6931464229850487,
           0.6931464229850487,
           0.6143656072282588,
           0.6931464229850487,
           0.6931464229850487,
           0,
           0.6061351148658877,
           0.6931464229850487,
           0.5810292147461399,
           0.07302502831423502,
           0.6931464229850487,
           0.6225289112034242,
           0.27625301090241766,
           0.6931464229850487,
           0.6931464229850487,
           0.6931464229850487,
           0.405464603058297,
           0.6931464229850487,
           0.6931464229850487,
           0.6931464229850487,
           0.1861020223443374,
           0.6931464229850487,
           0.44991632171173895,
           0.6931464229850487,
           0.43040352652623876,
           0.4924758958729242,
           0.3798877874370405,
           0.19237162749630748,
           0.6931464229850487,
           0.6931464229850487,
           0.25299617578341965,
           0.6778789625092628,
           0.6931464229850487,
           0.6931464229850487,
           0.25299617578341965,
           0.6931464229850487,
           0.6931464229850487,
           0.6931464229850487,
           0.310154524263966,
           0.6931464229850487,
           0.6701569223783772,
           0.6931464229850487,
           0.6931464229850487,
           0.6931464229850487,
           0.5725185323214527,
           0.5062692053213548,
           0.6778789625092628,
           0.6931464229850487,
           0.6931464229850487,
           0.5016925424831227,
           0.6931464229850487,
           0.6931464229850487,
           0.38505575225389366,
           0.6931464229850487,
           0.6931464229850487,
           0.6931464229850487,
           0.38505575225389366,
           0.6931464229850487,
           0.23519157228409016,
           0.6931464229850487,
           0.6931464229850487,
           0.6931464229850487
          ],
          [
           0.6931465998151096,
           0.6931465998151096,
           0.6931465998151096,
           0.6931465998151096,
           0.6931465998151096,
           0.41371218401502363,
           0.6931465998151096,
           0.6931465998151096,
           0.6931465998151096,
           0.43805413821581873,
           0.27753734188961265,
           0.3887628843683352,
           0.4657238671809211,
           0.6931465998151096,
           0.5763336623851706,
           0.6931465998151096,
           0.6931465998151096,
           0.6931465998151096,
           0.6931465998151096,
           0.6931465998151096,
           0.6931465998151096,
           0.6931465998151096,
           0.5039694188197367,
           0.44603820660381316,
           0.6931465998151096,
           0.6931465998151096,
           0.49643643181796143,
           0.6931465998151096,
           0.6931465998151096,
           0.6931465998151096,
           0.6931465998151096,
           0.6273651099247485,
           0.6931465998151096,
           0.6931465998151096,
           0.6339767001698666,
           0.6727537482166046,
           0.6931465998151096,
           0.6931465998151096,
           0.6931465998151096,
           0.6931465998151096,
           0.6599944120738832,
           0.6931465998151096,
           0.6273651099247485,
           0.6931465998151096,
           0.6790728808344791,
           0.3457455338942176,
           0.4657238671809211,
           0.6931465998151096,
           0.6931465998151096,
           0.6931465998151096,
           0.6931465998151096,
           0.6931465998151096,
           0.6931465998151096,
           0.6931465998151096,
           0.6931465998151096,
           0.6931465998151096,
           0.6405448642482839,
           0.6931465998151096,
           0.6853523326324613,
           0.6931465998151096,
           0.47349089087800583,
           0.6931465998151096,
           0.5444160805856643,
           0.3717773514906907,
           0.6931465998151096,
           0.4178105472663383,
           0.6931465998151096,
           0.6931465998151096,
           0.6931465998151096,
           0.6931465998151096,
           0.5225573016653954,
           0.6931465998151096,
           0.6931465998151096,
           0.6931465998151096,
           0.5798179841975045,
           0.6931465998151096,
           0.6931465998151096,
           0.6931465998151096,
           0.6931465998151096,
           0.6931465998151096,
           0.6931465998151096,
           0.6663944300895538,
           0.6931465998151096,
           0.6931465998151096,
           0.6931465998151096,
           0.6931465998151096,
           0.6931465998151096,
           0.6931465998151096,
           0.6931465998151096,
           0.6931465998151096,
           0.6931465998151096,
           0.6931465998151096,
           0.5480132043468605,
           0.6931465998151096,
           0.6931465998151096,
           0.6931465998151096,
           0.6931465998151096,
           0
          ],
          [
           0.6194846517279479,
           0.4681900778578489,
           0.6380323157697507,
           0.6931467602703553,
           0.631887905934568,
           0.37903158585731195,
           0.6931467602703553,
           0.6931467602703553,
           0.5748201514085803,
           0.6829500265573479,
           0.5845604835713465,
           0.5314800562547366,
           0.5715521761925173,
           0.6931467602703553,
           0.43497671064503635,
           0.631887905934568,
           0.3447194609542422,
           0.6931467602703553,
           0.6931467602703553,
           0.6931467602703553,
           0.6931467602703553,
           0.6931467602703553,
           0.19908826490753212,
           0.4387220313412178,
           0.6100801979747841,
           0.6931467602703553,
           0.5910017266661948,
           0.5038444599260754,
           0.6931467602703553,
           0.49328098680992893,
           0.48617616484589254,
           0.5382712504890006,
           0.6931467602703553,
           0.6931467602703553,
           0.6931467602703553,
           0.5246424261667533,
           0.6931467602703553,
           0.6931467602703553,
           0.6931467602703553,
           0.6931467602703553,
           0.5813242363107682,
           0.6931467602703553,
           0.5942068561255772,
           0.6931467602703553,
           0.5974017455420334,
           0.6931467602703553,
           0.6931467602703553,
           0.6931467602703553,
           0.5314800562547366,
           0.6931467602703553,
           0.6931467602703553,
           0.6931467602703553,
           0.4718132683237773,
           0.6931467602703553,
           0.6931467602703553,
           0.6931467602703553,
           0.48617616484589254,
           0.6931467602703553,
           0,
           0.6931467602703553,
           0.6916964343027083,
           0.6931467602703553,
           0.3569645046670946,
           0.6931467602703553,
           0.6931467602703553,
           0.6652243115516319,
           0.6931467602703553,
           0.42365584121512423,
           0.6592452230874213,
           0.6931467602703553,
           0.6931467602703553,
           0.6931467602703553,
           0.6502090209700716,
           0.6887894567367256,
           0.3928249001075039,
           0.6931467602703553,
           0.48617616484589254,
           0.5108252875343329,
           0.6931467602703553,
           0.6931467602703553,
           0.6132248532203698,
           0.6931467602703553,
           0.48617616484589254,
           0.6887894567367256,
           0.6931467602703553,
           0.6931467602703553,
           0.6931467602703553,
           0.6931467602703553,
           0.6194846517279479,
           0.6931467602703553,
           0.631887905934568,
           0.33232261540546576,
           0.3447194609542422,
           0.5845604835713465,
           0.6532301699807818,
           0.29633991961534345,
           0.6931467602703553,
           0.6931467602703553
          ],
          [
           0.6931465194310328,
           0.5134793743447734,
           0.6931465194310328,
           0.6931465194310328,
           0.6931465194310328,
           0.49339839433745775,
           0.6931465194310328,
           0.5788872486560146,
           0.31148259585845767,
           0.509495308488589,
           0.6931465194310328,
           0.6931465194310328,
           0.4519846429220733,
           0.6931465194310328,
           0.6931465194310328,
           0.6931465194310328,
           0.6931465194310328,
           0.6931465194310328,
           0.46040573826240677,
           0.6931465194310328,
           0.6931465194310328,
           0.6931465194310328,
           0.6931465194310328,
           0.3999121871489776,
           0.6931465194310328,
           0.4852517163733336,
           0.20368613562359367,
           0.6713152723657826,
           0.6931465194310328,
           0.6931465194310328,
           0.16500732359441014,
           0.6931465194310328,
           0.47290589066165856,
           0.6931465194310328,
           0.6931465194310328,
           0.5014792398939992,
           0.6931465194310328,
           0.6931465194310328,
           0.6931465194310328,
           0.6931465194310328,
           0.6931465194310328,
           0.6009875794565928,
           0.27682569619844183,
           0.6931465194310328,
           0.6931465194310328,
           0.330760282795217,
           0.6931465194310328,
           0.6931465194310328,
           0.5788872486560146,
           0.6931465194310328,
           0.6931465194310328,
           0.6931465194310328,
           0.5054953063392532,
           0.6931465194310328,
           0.6931465194310328,
           0.6931465194310328,
           0.6931465194310328,
           0.6931465194310328,
           0.6931465194310328,
           0.6931465194310328,
           0.3999121871489776,
           0.6931465194310328,
           0.44774735201953864,
           0,
           0.6931465194310328,
           0.6931465194310328,
           0.2356888327384402,
           0.6931465194310328,
           0.6931465194310328,
           0.6931465194310328,
           0.35434625965937655,
           0.6931465194310328,
           0.6931465194310328,
           0.6931465194310328,
           0.27682569619844183,
           0.6931465194310328,
           0.6931465194310328,
           0.6931465194310328,
           0.6931465194310328,
           0.6931465194310328,
           0.5214002015935992,
           0.6713152723657826,
           0.6931465194310328,
           0.6931465194310328,
           0.6931465194310328,
           0.6931465194310328,
           0.6931465194310328,
           0.6931465194310328,
           0.18176747381821015,
           0.6931465194310328,
           0.6931465194310328,
           0.6367695465917078,
           0.4131867066687048,
           0.6931465194310328,
           0.25646877974703186,
           0.6931465194310328,
           0.6931465194310328,
           0.6931465194310328
          ],
          [
           0.6931460920661473,
           0.6931460920661473,
           0.6931460920661473,
           0.6931460920661473,
           0.6931460920661473,
           0.35401589723248494,
           0.6931460920661473,
           0.6931460920661473,
           0.6931460920661473,
           0.5143583209449756,
           0.13242431563547669,
           0.4025101748421944,
           0.6887114998360344,
           0.6931460920661473,
           0.6931460920661473,
           0.6931460920661473,
           0.6931460920661473,
           0.6931460920661473,
           0.6931460920661473,
           0.6931460920661473,
           0.6931460920661473,
           0.6931460920661473,
           0.35401589723248494,
           0.3415157536877246,
           0.6931460920661473,
           0.6525084914792486,
           0.43739738393569033,
           0.6931460920661473,
           0.6931460920661473,
           0.6931460920661473,
           0.6931460920661473,
           0.4025101748421944,
           0.6931460920661473,
           0.6931460920661473,
           0.6931460920661473,
           0.6525084914792486,
           0.6931460920661473,
           0.6931460920661473,
           0.6931460920661473,
           0.6931460920661473,
           0.6931460920661473,
           0.6931460920661473,
           0.5143583209449756,
           0.6931460920661473,
           0.6931460920661473,
           0.5353014678143507,
           0.32885737652494,
           0.6931460920661473,
           0.6931460920661473,
           0.6931460920661473,
           0.6931460920661473,
           0.6931460920661473,
           0.6931460920661473,
           0.6931460920661473,
           0.6931460920661473,
           0.6931460920661473,
           0.5143583209449756,
           0.6931460920661473,
           0.5659160652035116,
           0.6931460920661473,
           0.43739738393569033,
           0.6931460920661473,
           0.48209750140169116,
           0.4487611267022505,
           0.6931460920661473,
           0.6931460920661473,
           0.6931460920661473,
           0.6931460920661473,
           0.6931460920661473,
           0.6931460920661473,
           0.47110839467980287,
           0.6931460920661473,
           0.6931460920661473,
           0.6931460920661473,
           0.6525084914792486,
           0.6931460920661473,
           0.6931460920661473,
           0.6931460920661473,
           0.6931460920661473,
           0.6931460920661473,
           0.6931460920661473,
           0.6931460920661473,
           0.6931460920661473,
           0.6931460920661473,
           0.6931460920661473,
           0.6931460920661473,
           0.6931460920661473,
           0.6931460920661473,
           0.6931460920661473,
           0.6931460920661473,
           0.6931460920661473,
           0.6931460920661473,
           0.45999718444036525,
           0.6931460920661473,
           0.6931460920661473,
           0.6931460920661473,
           0.6931460920661473,
           0
          ],
          [
           0.6931466013525277,
           0.45692298051052,
           0.4877896061949441,
           0.591629138861801,
           0.6931466013525277,
           0.45063365623097973,
           0.6604393026342844,
           0.5525180343159348,
           0.49385022650907817,
           0.511814768897763,
           0.5236143076839147,
           0.6553110893443064,
           0.5410565984818415,
           0.6931466013525277,
           0.5694675814252337,
           0.6931466013525277,
           0.6931466013525277,
           0.6931466013525277,
           0.6706175014896343,
           0.6931466013525277,
           0.591629138861801,
           0.6931466013525277,
           0.5806097507157414,
           0.45063365623097973,
           0.5294622735650752,
           0.4218316868971702,
           0.27898067898798456,
           0.45692298051052,
           0.6931466013525277,
           0,
           0.6806931475394815,
           0.6706175014896343,
           0.6025284223702921,
           0.591629138861801,
           0.6025284223702921,
           0.48169203067695215,
           0.6931466013525277,
           0.6931466013525277,
           0.6553110893443064,
           0.6931466013525277,
           0.6931466013525277,
           0.5177319418293233,
           0.6806931475394815,
           0.6931466013525277,
           0.4443045258661247,
           0.22116116026604538,
           0.5750541844822761,
           0.5236143076839147,
           0.591629138861801,
           0.6931466013525277,
           0.6931466013525277,
           0.6292679666801083,
           0.5058623745159098,
           0.6931466013525277,
           0.6931466013525277,
           0.6931466013525277,
           0.1806698372819923,
           0.6604393026342844,
           0.6079338375186236,
           0.6931466013525277,
           0.6655413514725559,
           0.45063365623097973,
           0.45692298051052,
           0.38209138904791307,
           0.6931466013525277,
           0.6501564418643864,
           0.6931466013525277,
           0.5525180343159348,
           0.6931466013525277,
           0.6931466013525277,
           0.39551439883952133,
           0.6931466013525277,
           0.6931466013525277,
           0.6931466013525277,
           0.4218316868971702,
           0.6931466013525277,
           0.5294622735650752,
           0.6931466013525277,
           0.6931466013525277,
           0.6931466013525277,
           0.6553110893443064,
           0.5177319418293233,
           0.6079338375186236,
           0.6931466013525277,
           0.6931466013525277,
           0.3888254159236201,
           0.4631729962853373,
           0.6931466013525277,
           0.6449750862634319,
           0.6931466013525277,
           0.6806931475394815,
           0.6449750862634319,
           0.37531170744035686,
           0.49987433686652416,
           0.4631729962853373,
           0.6931466013525277,
           0.591629138861801,
           0.29385082853158734
          ],
          [
           0.4491689081875368,
           0.11663671078178832,
           0,
           0.3080904793851627,
           0.4020221837545136,
           0.1702208755438603,
           0.152676592056821,
           0.2694756939612058,
           0.16148720854228707,
           0.21278042836854247,
           0.2773188609645685,
           0.2455702054926723,
           0.30048588983106644,
           0.50669268980536,
           0.2615705250777503,
           0.2210792194752651,
           0.5004621466540958,
           0.5251547333298604,
           0.4878833778965884,
           0.3669309058151146,
           0.28510099111109444,
           0.46871348261367207,
           0.3080904793851627,
           0.14378765807191876,
           0.3080904793851627,
           0.01025648228377824,
           0.14378765807191876,
           0.3305633066177291,
           0.29282302706786834,
           0.20441219060277085,
           0.3811155237044761,
           0.3231283375276563,
           0.12576918016660077,
           0.2455702054926723,
           0.2615705250777503,
           0.13481900176352618,
           0.49419254032288323,
           0.4157210121614859,
           0.1702208755438603,
           0.578579846077089,
           0.46871348261367207,
           0.35976242507236,
           0.3080904793851627,
           0.6827835263648897,
           0.14378765807191876,
           0.040409468928993095,
           0.5492522602283422,
           0.0981176921665241,
           0.18746265670898682,
           0.3811155237044761,
           0.337943404656104,
           0.21278042836854247,
           0.19597333406342637,
           0.31563767533725884,
           0.5004621466540958,
           0.3669309058151146,
           0.21278042836854247,
           0.2374730064061168,
           0.3881330879912227,
           0.5551869897605607,
           0.30048588983106644,
           0.01025648228377824,
           0.1702208755438603,
           0.22930970709574194,
           0.6931463042724373,
           0.3305633066177291,
           0.14378765807191876,
           0.18746265670898682,
           0.22930970709574194,
           0.5372760813732377,
           0.06001790763454395,
           0.43592369634978023,
           0.11663671078178832,
           0.4491689081875368,
           0.1702208755438603,
           0.3740483649720336,
           0.2455702054926723,
           0.337943404656104,
           0.2773188609645685,
           0.18746265670898682,
           0.2536023662222096,
           0.35254218596133713,
           0.3231283375276563,
           0.3452694356241007,
           0.0981176921665241,
           0.22930970709574194,
           0.03045915490747971,
           0.337943404656104,
           0.2694756939612058,
           0.30048588983106644,
           0.2694756939612058,
           0.3305633066177291,
           0.2210792194752651,
           0.0981176921665241,
           0.13481900176352618,
           0.31563767533725884,
           0.18746265670898682,
           0.2694756939612058
          ],
          [
           0.33838742580565095,
           0.33838742580565095,
           0.25874346984328334,
           0.6931462745209082,
           0.2378003256056963,
           0.03947874082885912,
           0.6931462745209082,
           0.3851248446680989,
           0.08980373922275406,
           0.18343919619515137,
           0.2378003256056963,
           0.18343919619515137,
           0,
           0.683028153569284,
           0.08980373922275406,
           0.42100308888365384,
           0.5373164859570408,
           0.6272646315384787,
           0.5294424378962725,
           0.6128239614599169,
           0.5451290174539714,
           0.5451290174539714,
           0.052299407067698034,
           0.19455040495306605,
           0.39421580521210925,
           0.14934503716584838,
           0.08980373922275406,
           0.3573453152899012,
           0.6931462745209082,
           0.2378003256056963,
           0.14934503716584838,
           0.4725165636136313,
           0.6762254124939949,
           0.20553951022581432,
           0.37595047975496254,
           0.1377170174244276,
           0.6931462745209082,
           0.6931462745209082,
           0.5294424378962725,
           0.6931462745209082,
           0.4121534841793459,
           0.27925698127107074,
           0.013333506868441689,
           0.6931462745209082,
           0.10199899223852398,
           0.6931462745209082,
           0.5215058968040623,
           0.39421580521210925,
           0.29935813331740146,
           0.683028153569284,
           0.6931462745209082,
           0.5757827268292736,
           0.216409166512365,
           0.6485420096122685,
           0.6931462745209082,
           0.6931462745209082,
           0.25874346984328334,
           0.4808499357976234,
           0.4891144364266881,
           0.6931462745209082,
           0.5605733237805628,
           0.3190631781863572,
           0.14934503716584838,
           0.4470914943389582,
           0.6931462745209082,
           0.27925698127107074,
           0.6931462745209082,
           0.33838742580565095,
           0.4470914943389582,
           0.6931462745209082,
           0.28935806348313736,
           0.6931462745209082,
           0.4297750645684916,
           0.3573453152899012,
           0.03947874082885912,
           0.5215058968040623,
           0.24832672363384192,
           0.4556385450553149,
           0.6931462745209082,
           0.6931462745209082,
           0.10199899223852398,
           0.5981716991648136,
           0.3851248446680989,
           0.5294424378962725,
           0.6200703628917511,
           0.3190631781863572,
           0.513505862777115,
           0.6931462745209082,
           0.08980373922275406,
           0.2690528251538186,
           0.43847076132792506,
           0.36669116591647344,
           0.10199899223852398,
           0.18343919619515137,
           0.14934503716584838,
           0.34791129507174656,
           0.37595047975496254,
           0.5605733237805628
          ],
          [
           0.41362799391769983,
           0.28665664447697964,
           0.09754303775688439,
           0.36929944439766893,
           0.3405618599030456,
           0.2554041308629565,
           0.16231380257036723,
           0.3405618599030456,
           0.26173325978572315,
           0.24262441671080343,
           0.29279162728585584,
           0.31097392950816444,
           0.26802258264125733,
           0.5311097781890479,
           0.3521561824000746,
           0.3579033196020976,
           0.506718343271033,
           0.4297573625793017,
           0.5502034230594954,
           0.4456306988852086,
           0.42440976062803787,
           0.5017678418608293,
           0.3749491720560991,
           0.2804837911998527,
           0.4190334080141624,
           0.10863371190458827,
           0.22314330049482067,
           0.3347138952530417,
           0.3405618599030456,
           0.31097392950816444,
           0.40819320245091256,
           0.36929944439766893,
           0.09008032507623236,
           0.20994180196887854,
           0.2742725970098133,
           0.13404339920418165,
           0.3347138952530417,
           0.5407021708413573,
           0.17615483932655523,
           0.6053897997863167,
           0.4867675720769737,
           0.3861537614648274,
           0.2988892014653486,
           0.6931465535113547,
           0.20994180196887854,
           0.22967926493859525,
           0.5359174762207056,
           0.18980691423664117,
           0.31097392950816444,
           0.4190334080141624,
           0.32883153064413395,
           0.31097392950816444,
           0.2554041308629565,
           0.24262441671080343,
           0.5873306307228766,
           0.41362799391769983,
           0.17615483932655523,
           0.34637582459671196,
           0.4508663087451643,
           0.506718343271033,
           0.36929944439766893,
           0,
           0.1692582675446248,
           0.32883153064413395,
           0.5689393206895178,
           0.42440976062803787,
           0.3229143589730427,
           0.26802258264125733,
           0.3049498204571585,
           0.5549204095333814,
           0.23617278779774115,
           0.42440976062803787,
           0.22314330049482067,
           0.4612560043363675,
           0.1692582675446248,
           0.36361761586958136,
           0.3579033196020976,
           0.46641065085975136,
           0.3521561824000746,
           0.22967926493859525,
           0.40272871254752834,
           0.41362799391769983,
           0.3861537614648274,
           0.47153886320297894,
           0.10125361294028978,
           0.20327511741075782,
           0.18980691423664117,
           0.4297573625793017,
           0.3347138952530417,
           0.41362799391769983,
           0.39170932658717483,
           0.3579033196020976,
           0.22967926493859525,
           0.2988892014653486,
           0.316961965866709,
           0.3049498204571585,
           0.15532077456150853,
           0.3049498204571585
          ],
          [
           0.48215715922975727,
           0.2488957193035736,
           0,
           0.330241268053178,
           0.36101289428625366,
           0.24038503955887525,
           0.18774136936744026,
           0.2740016116491387,
           0.22314325348852196,
           0.2100139777908207,
           0.2488957193035736,
           0.29849260426476987,
           0.16955907293072148,
           0.44105552212304,
           0.37605075616008204,
           0.29849260426476987,
           0.45494462106934774,
           0.4269707958305356,
           0.47542313326099594,
           0.3685600921180447,
           0.41985333500188765,
           0.47542313326099594,
           0.4054646117319688,
           0.18774136936744026,
           0.3144929280741079,
           0.0982700820562594,
           0.16496136947416176,
           0.37605075616008204,
           0.3380234001982458,
           0.30652476712333415,
           0.3380234001982458,
           0.26570281826969466,
           0.24038503955887525,
           0.26570281826969466,
           0.26570281826969466,
           0.0933318070976167,
           0.5280668192759133,
           0.5020913559832932,
           0.22314325348852196,
           0.6543604404064627,
           0.44802418478607065,
           0.36101289428625366,
           0.3223980990198006,
           0.6822173736453984,
           0.15570205580714377,
           0.04775436185468531,
           0.43403795621116137,
           0.10318409024225755,
           0.20559896492261978,
           0.3144929280741079,
           0.2903954030145691,
           0.2822321015050793,
           0.1510400486565519,
           0.36101289428625366,
           0.5596151497374116,
           0.36101289428625366,
           0.2100139777908207,
           0.30652476712333415,
           0.39086582691011945,
           0.5658071147326725,
           0.2573345781930045,
           0.13692218531511072,
           0.16496136947416176,
           0.22314325348852196,
           0.6931464359955596,
           0.3685600921180447,
           0.22314325348852196,
           0.17869154506781973,
           0.3380234001982458,
           0.5719609751188401,
           0.03208826752639782,
           0.44105552212304,
           0.17869154506781973,
           0.3981918596492585,
           0.12260215026983096,
           0.44802418478607065,
           0.3223980990198006,
           0.45494462106934774,
           0.4054646117319688,
           0.18322669459767715,
           0.3457454381228146,
           0.3457454381228146,
           0.330241268053178,
           0.41268485256335047,
           0.2573345781930045,
           0.3380234001982458,
           0.20559896492261978,
           0.5344566117810258,
           0.2740016116491387,
           0.43403795621116137,
           0.330241268053178,
           0.330241268053178,
           0.1416503203856958,
           0.2318013059617836,
           0.13692218531511072,
           0.36101289428625366,
           0.19223575342060378,
           0.2822321015050793
          ],
          [
           0.4191769120719793,
           0.37135908079299534,
           0.39555378732949903,
           0.501312539656594,
           0.35903860784026204,
           0.1882210494864541,
           0.6226733040854073,
           0.46481216754989935,
           0.29944656798173386,
           0.1882210494864541,
           0.29944656798173386,
           0.11184815862583738,
           0.2028198328519269,
           0.2360770188957744,
           0.18330704014137436,
           0.4191769120719793,
           0.6290024346104947,
           0.5155476440292055,
           0.6782431164586064,
           0.6415417749793264,
           0.5969484315429923,
           0.5365274179187609,
           0.18330704014137436,
           0.09584783656594077,
           0.42692888208574387,
           0.38755375189453195,
           0.21243528110365342,
           0.09584783656594077,
           0.6931465119215627,
           0.3835296052546037,
           0.2407390270896152,
           0.3548978190492656,
           0.6931465119215627,
           0.41136437923225755,
           0.5434239916032074,
           0.35903860784026204,
           0.6931465119215627,
           0.6931465119215627,
           0.5904124653904579,
           0.6931465119215627,
           0.1734059802362673,
           0.4573494526415531,
           0.06859822768354497,
           0.6931465119215627,
           0.2360770188957744,
           0.6931465119215627,
           0.21243528110365342,
           0.3995299321361322,
           0.37135908079299534,
           0.6901835487749964,
           0.6931465119215627,
           0.3631623211809825,
           0.4422548392926988,
           0.6722190059560003,
           0.6931465119215627,
           0.6931465119215627,
           0.29944656798173386,
           0.2682636719413785,
           0.6931465119215627,
           0.6931465119215627,
           0.5904124653904579,
           0.501312539656594,
           0.19311102937653915,
           0.37135908079299534,
           0.6931465119215627,
           0.5155476440292055,
           0.5570760702409354,
           0.3381610425208885,
           0.5638328475448853,
           0.6931465119215627,
           0.1882210494864541,
           0.6901835487749964,
           0.5084554214035991,
           0.3995299321361322,
           0.13279130768837016,
           0.5225899210505065,
           0.3465644453374722,
           0.6782431164586064,
           0.6931465119215627,
           0.6931465119215627,
           0,
           0.4722196026274069,
           0.41136437923225755,
           0.5705442770429577,
           0.6931465119215627,
           0.41136437923225755,
           0.3381610425208885,
           0.6931465119215627,
           0.2906359470715001,
           0.2637285214242754,
           0.5155476440292055,
           0.3507398128079288,
           0.14310066533714835,
           0.3125186366760076,
           0.32542202896891503,
           0.5638328475448853,
           0.29944656798173386,
           0.5155476440292055
          ],
          [
           0.5185302230631511,
           0.410974391547833,
           0.2695628487790407,
           0.5316022960864221,
           0.39992456350125016,
           0.1951303192052665,
           0.4434096439201293,
           0.42552009197114754,
           0.20418014653518363,
           0.27796625251365326,
           0.20418014653518363,
           0.12451281851009756,
           0.2904404163650349,
           0.5250876193093474,
           0.09480769351152214,
           0.6931466280742153,
           0.5698234845559859,
           0.5380748064026832,
           0.5412954190282532,
           0.547705693279994,
           0.6931466280742153,
           0.6931466280742153,
           0.3348921430034509,
           0.28214162043738644,
           0.3621842640084101,
           0.24392044008469352,
           0.14861034686037658,
           0.09982023030994563,
           0.6931466280742153,
           0.41827368870144316,
           0.14861034686037658,
           0.2695628487790407,
           0.6931466280742153,
           0.5086127929628912,
           0.3189555634396455,
           0.3229635816243355,
           0.6931466280742153,
           0.6931466280742153,
           0.43985724483967364,
           0.6931466280742153,
           0.39621398685839565,
           0.34668008949166623,
           0,
           0.6931466280742153,
           0.22203774799005563,
           0.665133607542163,
           0.28214162043738644,
           0.30683421270257144,
           0.25254117569683987,
           0.6931466280742153,
           0.6931466280742153,
           0.410974391547833,
           0.46446303834255837,
           0.6421441025309872,
           0.6931466280742153,
           0.6931466280742153,
           0.22203774799005563,
           0.3189555634396455,
           0.5380748064026832,
           0.6931466280742153,
           0.41827368870144316,
           0.44694946811917774,
           0.2945641301478863,
           0.17678119737207132,
           0.6931466280742153,
           0.5508954866131347,
           0.4918619937619169,
           0.35057872686744285,
           0.547705693279994,
           0.6931466280742153,
           0.25254117569683987,
           0.6931466280742153,
           0.6537049182493619,
           0.46792924391612417,
           0.24392044008469352,
           0.5152353293375669,
           0.3774517244841958,
           0.5945160819024644,
           0.6931466280742153,
           0.6820354088221712,
           0.08976990455744434,
           0.4362921812171178,
           0.43271436242939587,
           0.6363131856201648,
           0.6066374350883547,
           0.534843787909136,
           0.3774517244841958,
           0.6931466280742153,
           0.23522474067871263,
           0.2945641301478863,
           0.41827368870144316,
           0.39992456350125016,
           0.2695628487790407,
           0.28214162043738644,
           0.21760315485532308,
           0.5822459968384984,
           0.3348921430034509,
           0.5604042685543171
          ],
          [
           0.6931467881285016,
           0.6931467881285016,
           0.6931467881285016,
           0.6931467881285016,
           0.6204932345567072,
           0.31020143594547506,
           0.6931467881285016,
           0.4246672773435655,
           0.6931467881285016,
           0.5157187112048154,
           0.6931467881285016,
           0.6931467881285016,
           0.48167288602432845,
           0.6931467881285016,
           0.6931467881285016,
           0.6931467881285016,
           0.25744661943996183,
           0.6931467881285016,
           0.013226774929016024,
           0.6931467881285016,
           0.6931467881285016,
           0.6931467881285016,
           0.6931467881285016,
           0.48513010473485324,
           0.6931467881285016,
           0.6931467881285016,
           0.3583551448664629,
           0.6931467881285016,
           0.6931467881285016,
           0.6931467881285016,
           0.6761852574671385,
           0.6931467881285016,
           0.505626115571123,
           0.6931467881285016,
           0.6931467881285016,
           0.6931467881285016,
           0.6931467881285016,
           0.6931467881285016,
           0.6931467881285016,
           0.6931467881285016,
           0.6931467881285016,
           0.3603120915811235,
           0.32042646805171027,
           0.6931467881285016,
           0.6931467881285016,
           0.6931467881285016,
           0.6931467881285016,
           0.6931467881285016,
           0.6235030173513788,
           0.6931467881285016,
           0.6931467881285016,
           0.6931467881285016,
           0.39300729389148903,
           0.6931467881285016,
           0.6931467881285016,
           0.6931467881285016,
           0.6931467881285016,
           0.6931467881285016,
           0.505626115571123,
           0.6931467881285016,
           0.5290189842007983,
           0.5518771118265086,
           0.5190604003033522,
           0.5518771118265086,
           0.6931467881285016,
           0.6931467881285016,
           0.6931467881285016,
           0.6022417851222567,
           0.6931467881285016,
           0.6931467881285016,
           0.4117519753391804,
           0.6931467881285016,
           0.6931467881285016,
           0.6931467881285016,
           0.571062343959217,
           0.6931467881285016,
           0.6931467881285016,
           0.6931467881285016,
           0.6931467881285016,
           0.6931467881285016,
           0.6931467881285016,
           0,
           0.6931467881285016,
           0.6931467881285016,
           0.6931467881285016,
           0.6931467881285016,
           0.08654402219254435,
           0.6931467881285016,
           0.6931467881285016,
           0.6931467881285016,
           0.6931467881285016,
           0.6931467881285016,
           0.6235030173513788,
           0.6931467881285016,
           0.6931467881285016,
           0.6761852574671385,
           0.661827514801591,
           0.6931467881285016
          ],
          [
           0.6931464342193174,
           0.6931464342193174,
           0.6931464342193174,
           0.6931464342193174,
           0.6931464342193174,
           0.6931464342193174,
           0.6931464342193174,
           0.6931464342193174,
           0.6931464342193174,
           0.6931464342193174,
           0.6931464342193174,
           0.1280282950493382,
           0.6931464342193174,
           0.6931464342193174,
           0.6931464342193174,
           0.6931464342193174,
           0.6931464342193174,
           0.6931464342193174,
           0.6931464342193174,
           0.6931464342193174,
           0.6931464342193174,
           0.6931464342193174,
           0.6931464342193174,
           0.6931464342193174,
           0.6931464342193174,
           0.6931464342193174,
           0.6931464342193174,
           0.6931464342193174,
           0.6931464342193174,
           0.6931464342193174,
           0.36396492180719653,
           0.6931464342193174,
           0.6931464342193174,
           0.6931464342193174,
           0.6931464342193174,
           0.6931464342193174,
           0.6931464342193174,
           0.6931464342193174,
           0.6931464342193174,
           0.6931464342193174,
           0.6931464342193174,
           0.6931464342193174,
           0.6931464342193174,
           0.6931464342193174,
           0.6931464342193174,
           0.5658673341577299,
           0.6931464342193174,
           0.6931464342193174,
           0.5547251671019078,
           0.6931464342193174,
           0.6931464342193174,
           0.6931464342193174,
           0.6931464342193174,
           0.6931464342193174,
           0.6931464342193174,
           0.6931464342193174,
           0.6931464342193174,
           0.6931464342193174,
           0.6931464342193174,
           0.6931464342193174,
           0.6931464342193174,
           0.6931464342193174,
           0.6931464342193174,
           0.6931464342193174,
           0.6931464342193174,
           0.6931464342193174,
           0.6931464342193174,
           0.6931464342193174,
           0.6931464342193174,
           0.6931464342193174,
           0.6931464342193174,
           0.6931464342193174,
           0.6931464342193174,
           0.6931464342193174,
           0.19444265355939425,
           0.6931464342193174,
           0.6931464342193174,
           0.6931464342193174,
           0.6931464342193174,
           0.6931464342193174,
           0.6931464342193174,
           0.6931464342193174,
           0.6931464342193174,
           0.6931464342193174,
           0.6931464342193174,
           0.6931464342193174,
           0.6931464342193174,
           0.6931464342193174,
           0,
           0.6931464342193174,
           0.6931464342193174,
           0.6931464342193174,
           0.22606580373576854,
           0.6931464342193174,
           0.41678242428135853,
           0.6931464342193174,
           0.6931464342193174,
           0.6931464342193174
          ],
          [
           0.6931464194988672,
           0.6931464194988672,
           0.32885756005403316,
           0.6931464194988672,
           0.6931464194988672,
           0.5404697048257973,
           0.6931464194988672,
           0,
           0.6931464194988672,
           0.37247813576906025,
           0.6931464194988672,
           0.4766182912962178,
           0.11679909995330692,
           0.6931464194988672,
           0.6525088053317976,
           0.6931464194988672,
           0.6931464194988672,
           0.6931464194988672,
           0.6931464194988672,
           0.6931464194988672,
           0.6931464194988672,
           0.6931464194988672,
           0.6931464194988672,
           0.13242439685904062,
           0.6931464194988672,
           0.6931464194988672,
           0.5248849877347087,
           0.5759164229450267,
           0.6931464194988672,
           0.6797832019251937,
           0.24934558779169147,
           0.684257478876812,
           0.6931464194988672,
           0.6931464194988672,
           0.6931464194988672,
           0.6931464194988672,
           0.6931464194988672,
           0.6931464194988672,
           0.6931464194988672,
           0.6931464194988672,
           0.6931464194988672,
           0.6931464194988672,
           0.2424251531846557,
           0.6931464194988672,
           0.26304441601100303,
           0.3906055015212685,
           0.6931464194988672,
           0.6931464194988672,
           0.25621845895475825,
           0.6931464194988672,
           0.6931464194988672,
           0.6931464194988672,
           0.6931464194988672,
           0.6931464194988672,
           0.6931464194988672,
           0.6931464194988672,
           0.6931464194988672,
           0.5558152609989779,
           0.6931464194988672,
           0.6931464194988672,
           0.6797832019251937,
           0.6931464194988672,
           0.3095643784610464,
           0.6931464194988672,
           0.6931464194988672,
           0.6931464194988672,
           0.6931464194988672,
           0.03478606404706963,
           0.6931464194988672,
           0.6931464194988672,
           0.684257478876812,
           0.6931464194988672,
           0.6931464194988672,
           0.6931464194988672,
           0.17788671167661588,
           0.6931464194988672,
           0.6931464194988672,
           0.6931464194988672,
           0.6931464194988672,
           0.6931464194988672,
           0.675288815811678,
           0.6931464194988672,
           0.6931464194988672,
           0.6931464194988672,
           0.6931464194988672,
           0.6931464194988672,
           0.565916348210651,
           0.6931464194988672,
           0.24934558779169147,
           0.6931464194988672,
           0.3095643784610464,
           0.6931464194988672,
           0.3602080561251395,
           0.6931464194988672,
           0.5808792080509149,
           0.6797832019251937,
           0.6931464194988672,
           0.6931464194988672
          ]
         ]
        }
       ],
       "layout": {
        "coloraxis": {
         "colorscale": [
          [
           0,
           "rgb(255,255,217)"
          ],
          [
           0.125,
           "rgb(237,248,177)"
          ],
          [
           0.25,
           "rgb(199,233,180)"
          ],
          [
           0.375,
           "rgb(127,205,187)"
          ],
          [
           0.5,
           "rgb(65,182,196)"
          ],
          [
           0.625,
           "rgb(29,145,192)"
          ],
          [
           0.75,
           "rgb(34,94,168)"
          ],
          [
           0.875,
           "rgb(37,52,148)"
          ],
          [
           1,
           "rgb(8,29,88)"
          ]
         ]
        },
        "margin": {
         "t": 60
        },
        "template": {
         "data": {
          "bar": [
           {
            "error_x": {
             "color": "#2a3f5f"
            },
            "error_y": {
             "color": "#2a3f5f"
            },
            "marker": {
             "line": {
              "color": "#E5ECF6",
              "width": 0.5
             },
             "pattern": {
              "fillmode": "overlay",
              "size": 10,
              "solidity": 0.2
             }
            },
            "type": "bar"
           }
          ],
          "barpolar": [
           {
            "marker": {
             "line": {
              "color": "#E5ECF6",
              "width": 0.5
             },
             "pattern": {
              "fillmode": "overlay",
              "size": 10,
              "solidity": 0.2
             }
            },
            "type": "barpolar"
           }
          ],
          "carpet": [
           {
            "aaxis": {
             "endlinecolor": "#2a3f5f",
             "gridcolor": "white",
             "linecolor": "white",
             "minorgridcolor": "white",
             "startlinecolor": "#2a3f5f"
            },
            "baxis": {
             "endlinecolor": "#2a3f5f",
             "gridcolor": "white",
             "linecolor": "white",
             "minorgridcolor": "white",
             "startlinecolor": "#2a3f5f"
            },
            "type": "carpet"
           }
          ],
          "choropleth": [
           {
            "colorbar": {
             "outlinewidth": 0,
             "ticks": ""
            },
            "type": "choropleth"
           }
          ],
          "contour": [
           {
            "colorbar": {
             "outlinewidth": 0,
             "ticks": ""
            },
            "colorscale": [
             [
              0,
              "#0d0887"
             ],
             [
              0.1111111111111111,
              "#46039f"
             ],
             [
              0.2222222222222222,
              "#7201a8"
             ],
             [
              0.3333333333333333,
              "#9c179e"
             ],
             [
              0.4444444444444444,
              "#bd3786"
             ],
             [
              0.5555555555555556,
              "#d8576b"
             ],
             [
              0.6666666666666666,
              "#ed7953"
             ],
             [
              0.7777777777777778,
              "#fb9f3a"
             ],
             [
              0.8888888888888888,
              "#fdca26"
             ],
             [
              1,
              "#f0f921"
             ]
            ],
            "type": "contour"
           }
          ],
          "contourcarpet": [
           {
            "colorbar": {
             "outlinewidth": 0,
             "ticks": ""
            },
            "type": "contourcarpet"
           }
          ],
          "heatmap": [
           {
            "colorbar": {
             "outlinewidth": 0,
             "ticks": ""
            },
            "colorscale": [
             [
              0,
              "#0d0887"
             ],
             [
              0.1111111111111111,
              "#46039f"
             ],
             [
              0.2222222222222222,
              "#7201a8"
             ],
             [
              0.3333333333333333,
              "#9c179e"
             ],
             [
              0.4444444444444444,
              "#bd3786"
             ],
             [
              0.5555555555555556,
              "#d8576b"
             ],
             [
              0.6666666666666666,
              "#ed7953"
             ],
             [
              0.7777777777777778,
              "#fb9f3a"
             ],
             [
              0.8888888888888888,
              "#fdca26"
             ],
             [
              1,
              "#f0f921"
             ]
            ],
            "type": "heatmap"
           }
          ],
          "heatmapgl": [
           {
            "colorbar": {
             "outlinewidth": 0,
             "ticks": ""
            },
            "colorscale": [
             [
              0,
              "#0d0887"
             ],
             [
              0.1111111111111111,
              "#46039f"
             ],
             [
              0.2222222222222222,
              "#7201a8"
             ],
             [
              0.3333333333333333,
              "#9c179e"
             ],
             [
              0.4444444444444444,
              "#bd3786"
             ],
             [
              0.5555555555555556,
              "#d8576b"
             ],
             [
              0.6666666666666666,
              "#ed7953"
             ],
             [
              0.7777777777777778,
              "#fb9f3a"
             ],
             [
              0.8888888888888888,
              "#fdca26"
             ],
             [
              1,
              "#f0f921"
             ]
            ],
            "type": "heatmapgl"
           }
          ],
          "histogram": [
           {
            "marker": {
             "pattern": {
              "fillmode": "overlay",
              "size": 10,
              "solidity": 0.2
             }
            },
            "type": "histogram"
           }
          ],
          "histogram2d": [
           {
            "colorbar": {
             "outlinewidth": 0,
             "ticks": ""
            },
            "colorscale": [
             [
              0,
              "#0d0887"
             ],
             [
              0.1111111111111111,
              "#46039f"
             ],
             [
              0.2222222222222222,
              "#7201a8"
             ],
             [
              0.3333333333333333,
              "#9c179e"
             ],
             [
              0.4444444444444444,
              "#bd3786"
             ],
             [
              0.5555555555555556,
              "#d8576b"
             ],
             [
              0.6666666666666666,
              "#ed7953"
             ],
             [
              0.7777777777777778,
              "#fb9f3a"
             ],
             [
              0.8888888888888888,
              "#fdca26"
             ],
             [
              1,
              "#f0f921"
             ]
            ],
            "type": "histogram2d"
           }
          ],
          "histogram2dcontour": [
           {
            "colorbar": {
             "outlinewidth": 0,
             "ticks": ""
            },
            "colorscale": [
             [
              0,
              "#0d0887"
             ],
             [
              0.1111111111111111,
              "#46039f"
             ],
             [
              0.2222222222222222,
              "#7201a8"
             ],
             [
              0.3333333333333333,
              "#9c179e"
             ],
             [
              0.4444444444444444,
              "#bd3786"
             ],
             [
              0.5555555555555556,
              "#d8576b"
             ],
             [
              0.6666666666666666,
              "#ed7953"
             ],
             [
              0.7777777777777778,
              "#fb9f3a"
             ],
             [
              0.8888888888888888,
              "#fdca26"
             ],
             [
              1,
              "#f0f921"
             ]
            ],
            "type": "histogram2dcontour"
           }
          ],
          "mesh3d": [
           {
            "colorbar": {
             "outlinewidth": 0,
             "ticks": ""
            },
            "type": "mesh3d"
           }
          ],
          "parcoords": [
           {
            "line": {
             "colorbar": {
              "outlinewidth": 0,
              "ticks": ""
             }
            },
            "type": "parcoords"
           }
          ],
          "pie": [
           {
            "automargin": true,
            "type": "pie"
           }
          ],
          "scatter": [
           {
            "fillpattern": {
             "fillmode": "overlay",
             "size": 10,
             "solidity": 0.2
            },
            "type": "scatter"
           }
          ],
          "scatter3d": [
           {
            "line": {
             "colorbar": {
              "outlinewidth": 0,
              "ticks": ""
             }
            },
            "marker": {
             "colorbar": {
              "outlinewidth": 0,
              "ticks": ""
             }
            },
            "type": "scatter3d"
           }
          ],
          "scattercarpet": [
           {
            "marker": {
             "colorbar": {
              "outlinewidth": 0,
              "ticks": ""
             }
            },
            "type": "scattercarpet"
           }
          ],
          "scattergeo": [
           {
            "marker": {
             "colorbar": {
              "outlinewidth": 0,
              "ticks": ""
             }
            },
            "type": "scattergeo"
           }
          ],
          "scattergl": [
           {
            "marker": {
             "colorbar": {
              "outlinewidth": 0,
              "ticks": ""
             }
            },
            "type": "scattergl"
           }
          ],
          "scattermapbox": [
           {
            "marker": {
             "colorbar": {
              "outlinewidth": 0,
              "ticks": ""
             }
            },
            "type": "scattermapbox"
           }
          ],
          "scatterpolar": [
           {
            "marker": {
             "colorbar": {
              "outlinewidth": 0,
              "ticks": ""
             }
            },
            "type": "scatterpolar"
           }
          ],
          "scatterpolargl": [
           {
            "marker": {
             "colorbar": {
              "outlinewidth": 0,
              "ticks": ""
             }
            },
            "type": "scatterpolargl"
           }
          ],
          "scatterternary": [
           {
            "marker": {
             "colorbar": {
              "outlinewidth": 0,
              "ticks": ""
             }
            },
            "type": "scatterternary"
           }
          ],
          "surface": [
           {
            "colorbar": {
             "outlinewidth": 0,
             "ticks": ""
            },
            "colorscale": [
             [
              0,
              "#0d0887"
             ],
             [
              0.1111111111111111,
              "#46039f"
             ],
             [
              0.2222222222222222,
              "#7201a8"
             ],
             [
              0.3333333333333333,
              "#9c179e"
             ],
             [
              0.4444444444444444,
              "#bd3786"
             ],
             [
              0.5555555555555556,
              "#d8576b"
             ],
             [
              0.6666666666666666,
              "#ed7953"
             ],
             [
              0.7777777777777778,
              "#fb9f3a"
             ],
             [
              0.8888888888888888,
              "#fdca26"
             ],
             [
              1,
              "#f0f921"
             ]
            ],
            "type": "surface"
           }
          ],
          "table": [
           {
            "cells": {
             "fill": {
              "color": "#EBF0F8"
             },
             "line": {
              "color": "white"
             }
            },
            "header": {
             "fill": {
              "color": "#C8D4E3"
             },
             "line": {
              "color": "white"
             }
            },
            "type": "table"
           }
          ]
         },
         "layout": {
          "annotationdefaults": {
           "arrowcolor": "#2a3f5f",
           "arrowhead": 0,
           "arrowwidth": 1
          },
          "autotypenumbers": "strict",
          "coloraxis": {
           "colorbar": {
            "outlinewidth": 0,
            "ticks": ""
           }
          },
          "colorscale": {
           "diverging": [
            [
             0,
             "#8e0152"
            ],
            [
             0.1,
             "#c51b7d"
            ],
            [
             0.2,
             "#de77ae"
            ],
            [
             0.3,
             "#f1b6da"
            ],
            [
             0.4,
             "#fde0ef"
            ],
            [
             0.5,
             "#f7f7f7"
            ],
            [
             0.6,
             "#e6f5d0"
            ],
            [
             0.7,
             "#b8e186"
            ],
            [
             0.8,
             "#7fbc41"
            ],
            [
             0.9,
             "#4d9221"
            ],
            [
             1,
             "#276419"
            ]
           ],
           "sequential": [
            [
             0,
             "#0d0887"
            ],
            [
             0.1111111111111111,
             "#46039f"
            ],
            [
             0.2222222222222222,
             "#7201a8"
            ],
            [
             0.3333333333333333,
             "#9c179e"
            ],
            [
             0.4444444444444444,
             "#bd3786"
            ],
            [
             0.5555555555555556,
             "#d8576b"
            ],
            [
             0.6666666666666666,
             "#ed7953"
            ],
            [
             0.7777777777777778,
             "#fb9f3a"
            ],
            [
             0.8888888888888888,
             "#fdca26"
            ],
            [
             1,
             "#f0f921"
            ]
           ],
           "sequentialminus": [
            [
             0,
             "#0d0887"
            ],
            [
             0.1111111111111111,
             "#46039f"
            ],
            [
             0.2222222222222222,
             "#7201a8"
            ],
            [
             0.3333333333333333,
             "#9c179e"
            ],
            [
             0.4444444444444444,
             "#bd3786"
            ],
            [
             0.5555555555555556,
             "#d8576b"
            ],
            [
             0.6666666666666666,
             "#ed7953"
            ],
            [
             0.7777777777777778,
             "#fb9f3a"
            ],
            [
             0.8888888888888888,
             "#fdca26"
            ],
            [
             1,
             "#f0f921"
            ]
           ]
          },
          "colorway": [
           "#636efa",
           "#EF553B",
           "#00cc96",
           "#ab63fa",
           "#FFA15A",
           "#19d3f3",
           "#FF6692",
           "#B6E880",
           "#FF97FF",
           "#FECB52"
          ],
          "font": {
           "color": "#2a3f5f"
          },
          "geo": {
           "bgcolor": "white",
           "lakecolor": "white",
           "landcolor": "#E5ECF6",
           "showlakes": true,
           "showland": true,
           "subunitcolor": "white"
          },
          "hoverlabel": {
           "align": "left"
          },
          "hovermode": "closest",
          "mapbox": {
           "style": "light"
          },
          "paper_bgcolor": "white",
          "plot_bgcolor": "#E5ECF6",
          "polar": {
           "angularaxis": {
            "gridcolor": "white",
            "linecolor": "white",
            "ticks": ""
           },
           "bgcolor": "#E5ECF6",
           "radialaxis": {
            "gridcolor": "white",
            "linecolor": "white",
            "ticks": ""
           }
          },
          "scene": {
           "xaxis": {
            "backgroundcolor": "#E5ECF6",
            "gridcolor": "white",
            "gridwidth": 2,
            "linecolor": "white",
            "showbackground": true,
            "ticks": "",
            "zerolinecolor": "white"
           },
           "yaxis": {
            "backgroundcolor": "#E5ECF6",
            "gridcolor": "white",
            "gridwidth": 2,
            "linecolor": "white",
            "showbackground": true,
            "ticks": "",
            "zerolinecolor": "white"
           },
           "zaxis": {
            "backgroundcolor": "#E5ECF6",
            "gridcolor": "white",
            "gridwidth": 2,
            "linecolor": "white",
            "showbackground": true,
            "ticks": "",
            "zerolinecolor": "white"
           }
          },
          "shapedefaults": {
           "line": {
            "color": "#2a3f5f"
           }
          },
          "ternary": {
           "aaxis": {
            "gridcolor": "white",
            "linecolor": "white",
            "ticks": ""
           },
           "baxis": {
            "gridcolor": "white",
            "linecolor": "white",
            "ticks": ""
           },
           "bgcolor": "#E5ECF6",
           "caxis": {
            "gridcolor": "white",
            "linecolor": "white",
            "ticks": ""
           }
          },
          "title": {
           "x": 0.05
          },
          "xaxis": {
           "automargin": true,
           "gridcolor": "white",
           "linecolor": "white",
           "ticks": "",
           "title": {
            "standoff": 15
           },
           "zerolinecolor": "white",
           "zerolinewidth": 2
          },
          "yaxis": {
           "automargin": true,
           "gridcolor": "white",
           "linecolor": "white",
           "ticks": "",
           "title": {
            "standoff": 15
           },
           "zerolinecolor": "white",
           "zerolinewidth": 2
          }
         }
        },
        "xaxis": {
         "anchor": "y",
         "constrain": "domain",
         "domain": [
          0,
          1
         ],
         "scaleanchor": "y"
        },
        "yaxis": {
         "anchor": "x",
         "autorange": "reversed",
         "constrain": "domain",
         "domain": [
          0,
          1
         ]
        }
       }
      },
      "text/html": [
       "<div>                            <div id=\"ff377bd9-fed9-4acc-8a71-95e0633f34dd\" class=\"plotly-graph-div\" style=\"height:525px; width:100%;\"></div>            <script type=\"text/javascript\">                require([\"plotly\"], function(Plotly) {                    window.PLOTLYENV=window.PLOTLYENV || {};                                    if (document.getElementById(\"ff377bd9-fed9-4acc-8a71-95e0633f34dd\")) {                    Plotly.newPlot(                        \"ff377bd9-fed9-4acc-8a71-95e0633f34dd\",                        [{\"coloraxis\":\"coloraxis\",\"name\":\"0\",\"x\":[\"5633\",\"16415\",\"7714\",\"8250\",\"7739\",\"572\",\"23613\",\"9790\",\"19515\",\"30814\",\"22113\",\"6756\",\"16996\",\"16490\",\"6765\",\"25712\",\"22136\",\"6780\",\"27268\",\"27270\",\"19592\",\"24206\",\"19097\",\"1181\",\"25759\",\"32417\",\"3757\",\"22199\",\"27832\",\"15554\",\"211\",\"26331\",\"17636\",\"29934\",\"14086\",\"9991\",\"27401\",\"6413\",\"5392\",\"4370\",\"9488\",\"14612\",\"25878\",\"1818\",\"16671\",\"1830\",\"18218\",\"26924\",\"3382\",\"19260\",\"8508\",\"12606\",\"20805\",\"23374\",\"850\",\"24925\",\"4448\",\"2914\",\"11618\",\"17761\",\"23906\",\"5991\",\"18285\",\"2930\",\"18803\",\"2931\",\"22906\",\"6013\",\"9600\",\"25474\",\"32643\",\"10633\",\"23436\",\"3476\",\"18840\",\"7578\",\"30618\",\"24993\",\"19363\",\"11173\",\"2992\",\"8633\",\"16313\",\"8125\",\"9662\",\"7106\",\"7114\",\"16340\",\"29144\",\"9178\",\"6108\",\"10720\",\"18400\",\"26594\",\"25056\",\"25576\",\"2539\",\"15356\"],\"y\":[\"location_continent\",\"football_player_position\",\"location_religion\",\"location_language\",\"person_profession\",\"location_country\",\"country_capital\",\"person_language\",\"singular_plural\",\"present_simple_past_simple\",\"antonyms\",\"plural_singular\",\"present_simple_past_perfect\",\"present_simple_gerund\",\"en_it\",\"it_en\",\"en_fr\",\"en_es\",\"fr_en\",\"es_en\",\"algo_last\",\"algo_first\",\"algo_second\"],\"z\":[[0.2783793818012496,0.5822840464686757,0.5776757465467169,0.10905725083284745,0.6931465673917849,0.5303856448331642,0.6931465673917849,0.6931465673917849,0.5637220414434075,0.4549730975709833,0.5914374222131856,0.4177347819510318,0.6228301136422172,0.6931465673917849,0.2073819003684631,0.5959828815063342,0.6931465673917849,0.5108251332314925,0.6931465673917849,0.38467394683593914,0.6931465673917849,0.6931465673917849,0.48582384965397185,0.4549730975709833,0.5914374222131856,0.5543102138605105,0.5543102138605105,0.6828052199709438,0.6931465673917849,0.4444743216845556,0.5303856448331642,0.6446650280372916,0.5448089614618236,0.2721293672764421,0.6931465673917849,0.5008995007711925,0.6931465673917849,0.6931465673917849,0.48582384965397185,0.6931465673917849,0.6744544459488465,0.3210687516996645,0.4756456524561678,0.38467394683593914,0.6094965916027683,0.6931465673917849,0.6931465673917849,0.6931465673917849,0.6005077730538945,0.097925422773292,0.5730461118415768,0.6931465673917849,0.5776757465467169,0.6931465673917849,0.0,0.46536279337808006,0.5108251332314925,0.24673120070088683,0.5008995007711925,0.6931465673917849,0.6931465673917849,0.515751247951814,0.4122999903660963,0.6931465673917849,0.6931465673917849,0.5303856448331642,0.6931465673917849,0.12370951162510274,0.6828052199709438,0.6931465673917849,0.5303856448331642,0.6931465673917849,0.3210687516996645,0.43918330822138174,0.4807477004614488,0.25951091517968655,0.43386415095951664,0.4068355003432693,0.6931465673917849,0.3620101063930124,0.4549730975709833,0.5590272004233966,0.4549730975709833,0.48582384965397185,0.43386415095951664,0.4756456524561678,0.5352165686254846,0.6931465673917849,0.5448089614618236,0.6931465673917849,0.004106776926686495,0.6094965916027683,0.5959828815063342,0.4958994940795075,0.6931465673917849,0.19051811126636506,0.193913696831556,0.6702527617256203],[0.5223146007416342,0.532804202497855,0.5636285465505717,0.6193806636787029,0.5770290760722258,0.4974022922428574,0.6352037719078666,0.0,0.5534589720004224,0.35222035784877087,0.4341842517622848,0.4974022922428574,0.5117137997745482,0.6065394012545403,0.529319880042074,0.5362764265930522,0.6320591165535034,0.5736957411413598,0.6931467835231447,0.6872032319891336,0.5703512579173807,0.5836625966196067,0.42647708849719324,0.5187934720044365,0.5869629281887081,0.4418324686813407,0.4718534698389434,0.5602501664883492,0.6931467835231447,0.44373541785694015,0.5770290760722258,0.6691576367928641,0.6842181563397122,0.4974022922428574,0.5770290760722258,0.5602501664883492,0.5117137997745482,0.48288298798067325,0.5636285465505717,0.6161857741499662,0.6161857741499662,0.5669955515793531,0.5902524033891384,0.6931467835231447,0.3290370354883443,0.6901794234752442,0.532804202497855,0.5836625966196067,0.5152599010962684,0.6225653783871384,0.4494226340880849,0.49379218176516887,0.529319880042074,0.5500460009650665,0.6812241433283001,0.6752090900226652,0.5045836481961901,0.5967990687438998,0.45319622156356604,0.6193806636787029,0.5967990687438998,0.5152599010962684,0.43033809515706134,0.5967990687438998,0.6812241433283001,0.42840945524752333,0.6901794234752442,0.5187934720044365,0.5009994166898375,0.6600112353034797,0.532804202497855,0.5902524033891384,0.4607009434441172,0.6931467835231447,0.5187934720044365,0.6721879409115543,0.5397366360535568,0.508155078854599,0.6782211392769484,0.6193806636787029,0.508155078854599,0.650780404333946,0.5703512579173807,0.5117137997745482,0.5534589720004224,0.46814976373959893,0.5935310934103604,0.6225653783871384,0.5397366360535568,0.4607009434441172,0.5223146007416342,0.4341842517622848,0.532804202497855,0.49379218176516887,0.532804202497855,0.4494226340880849,0.49379218176516887,0.5431849137391277],[0.4978980246569571,0.6102968497316525,0.3670185290927148,0.6839300649275374,0.6715075507931749,0.40851823381786634,0.639758867801168,0.4941736276743904,0.45614625406824627,0.47534069012388114,0.3879836441953659,0.42063958690580394,0.42863962470880523,0.6931467157284652,0.3921244342551783,0.6839300649275374,0.6493897561625541,0.5661470879131,0.6931467157284652,0.4483641182289019,0.6461897549883664,0.6808388738102967,0.5235874964411517,0.573067527117829,0.5867663643448662,0.46770706969751835,0.42063958690580394,0.4715311639131159,0.6931467157284652,0.5343984066236003,0.5696132940633665,0.677738097593502,0.677738097593502,0.27614769487949614,0.6300343227005967,0.47534069012388114,0.25504493385446947,0.4044449109522134,0.49043530768799265,0.6931467157284652,0.6931467157284652,0.44052094544306986,0.6102968497316525,0.6931467157284652,0.4003549282433431,0.579940402815607,0.6931467157284652,0.5126584319608771,0.5163147411319574,0.40851823381786634,0.41257503201191886,0.6300343227005967,0.5626688253757212,0.5765098695076414,0.6102968497316525,0.6931467157284652,0.4791357589032418,0.4978980246569571,0.04777023290249355,0.6931467157284652,0.579940402815607,0.4044449109522134,0.4829164795704788,0.6931467157284652,0.6931467157284652,0.3542251859255183,0.6808388738102967,0.5199577303932068,0.4791357589032418,0.677738097593502,0.3962481488542717,0.6493897561625541,0.40851823381786634,0.626771678683799,0.40851823381786634,0.5016086019606949,0.4044449109522134,0.5163147411319574,0.6931467157284652,0.6931467157284652,0.3962481488542717,0.6931467157284652,0.6620883333719494,0.6808388738102967,0.23831815220012076,0.2188528318106331,0.4483641182289019,0.6931467157284652,0.6589287745989703,0.0,0.4483641182289019,0.5661470879131,0.31706246424172896,0.5901619515934399,0.5661470879131,0.43261577068536017,0.31928715775926314,0.362772240951976],[0.3807720877133568,0.5796227877701244,0.3537434394350051,0.6931465366581282,0.6431361491040829,0.07966730411830447,0.4577330636643552,0.6431361491040829,0.47608218751774894,0.6224100327633558,0.27541166983321747,0.29739055529597475,0.32596390079578175,0.6931465366581282,0.40708937317360727,0.6328267864599638,0.6931465366581282,0.5796227877701244,0.6931465366581282,0.47000314631941165,0.6931465366581282,0.6734414783927664,0.32596390079578175,0.5291919714524193,0.568633674164816,0.4638869242398737,0.20641886818746522,0.6634414016583435,0.6931465366581282,0.29739055529597475,0.4577330636643552,0.6931465366581282,0.6931465366581282,0.26797669864254137,0.47000314631941165,0.5176311578725072,0.43904094602605437,0.5796227877701244,0.43904094602605437,0.6931465366581282,0.6931465366581282,0.668453940165307,0.4821244971544383,0.6931465366581282,0.49410067873472424,0.6931465366581282,0.6931465366581282,0.5904924522090721,0.47608218751774894,0.668453940165307,0.6931465366581282,0.595883297007857,0.568633674164816,0.5904924522090721,0.668453940165307,0.6931465366581282,0.5059351271380368,0.3188967401654311,0.3399501298597354,0.6931465366581282,0.3399501298597354,0.26048603431995243,0.3329814669538926,0.6931465366581282,0.6931465366581282,0.1408216567265951,0.6882565545203189,0.47608218751774894,0.49410067873472424,0.6931465366581282,0.06606166835276926,0.6012452363541787,0.28279176994130456,0.6931465366581282,0.19845070691923175,0.4515410984773916,0.3468705663824758,0.6012452363541787,0.6931465366581282,0.6734414783927664,0.557522456888139,0.6931465366581282,0.6118836270895852,0.557522456888139,0.0,0.02409752091707853,0.4881305164530927,0.6931465366581282,0.6584036109784679,0.5406206586553588,0.6171606805145753,0.6634414016583435,0.10633551990605028,0.5462863919537513,0.3807720877133568,0.4577330636643552,0.17415804031737264,0.29011780294879863],[0.4814506095094842,0.465056810573909,0.4814506095094842,0.6367619612311227,0.5081901532472637,0.4371220521280834,0.682121185730514,0.3104469999565934,0.5495396872017757,0.18742528730879782,0.5646153404402726,0.313657273092821,0.5545901999014068,0.6459998970529822,0.2777643783778772,0.6085248071302172,0.6931466498586134,0.4371220521280834,0.6931466498586134,0.6931466498586134,0.3513975723482444,0.22314333903371084,0.25762948632108007,0.48685602454094135,0.5081901532472637,0.28768180710115016,0.4595319383353808,0.44277178080793805,0.6931466498586134,0.3544792365874586,0.5989324130056722,0.6132867181466828,0.6931466498586134,0.4371220521280834,0.5495396872017757,0.5495396872017757,0.24740794067767544,0.22664596661595454,0.47055132623858414,0.6274378896158085,0.5342332753688356,0.3697466974362041,0.523897272501629,0.6865459693418406,0.10008335747103625,0.682121185730514,0.523897272501629,0.5843690573722821,0.502899139000233,0.5695904720853944,0.3817950271699499,0.5989324130056722,0.5393614885536192,0.5342332753688356,0.6227430479786332,0.6321107926730357,0.502899139000233,0.5941014885598913,0.4199787869955698,0.5695904720853944,0.4314402225669313,0.523897272501629,0.3039953697115736,0.6931466498586134,0.6931466498586134,0.39959963901727347,0.6931466498586134,0.4814506095094842,0.42285648481914523,0.6413915965364023,0.3877651898436539,0.502899139000233,0.2777643783778772,0.6931466498586134,0.41129567050413685,0.48685602454094135,0.44277178080793805,0.4371220521280834,0.682121185730514,0.6132867181466828,0.39369992110170765,0.6931466498586134,0.5393614885536192,0.29750184550311587,0.4199787869955698,0.2542339001102084,0.44838976929317154,0.6931466498586134,0.402536496603298,0.22314333903371084,0.3877651898436539,0.0,0.45397637222537296,0.5134533199397167,0.4922323780797846,0.3200470662512071,0.313657273092821,0.5393614885536192],[0.625159280913674,0.5467902662342258,0.4558185542810388,0.4735181180136996,0.6931465796215198,0.335800977978801,0.6931465796215198,0.6931465796215198,0.5893498516675341,0.664573224595974,0.16416059146494547,0.1317691292512988,0.4735181180136996,0.6931465796215198,0.1561605569899917,0.6931465796215198,0.6931465796215198,0.594544665090409,0.6931465796215198,0.21843742443685424,0.6931465796215198,0.6931465796215198,0.674188677378123,0.5023385352839227,0.5080042687107177,0.5576011748583156,0.5303515514212043,0.6931465796215198,0.6931465796215198,0.4793490339725308,0.5841279111767816,0.6884406914187233,0.2734971498679088,0.32568285654941626,0.6931465796215198,0.44984839185683534,0.6931465796215198,0.6931465796215198,0.4194509383288368,0.6931465796215198,0.6931465796215198,0.36880724655542313,0.5682964566540895,0.4194509383288368,0.664573224595974,0.6931465796215198,0.6931465796215198,0.6931465796215198,0.5629631143196391,0.6931465796215198,0.6099691252648366,0.22969456814764388,0.5629631143196391,0.625159280913674,0.40075882022466214,0.664573224595974,0.48514614735520645,0.39444965612652905,0.46175328529254445,0.6931465796215198,0.669392508059052,0.467653002964463,0.5303515514212043,0.6931465796215198,0.26632866696688534,0.5136380823662584,0.6931465796215198,0.08544510752733994,0.6931465796215198,0.6931465796215198,0.5576011748583156,0.6931465796215198,0.5788785588177778,0.36880724655542313,0.4558185542810388,0.5413406652680364,0.46175328529254445,0.6597306031219194,0.6931465796215198,0.0,0.2518356731075659,0.6931465796215198,0.5413406652680364,0.6931465796215198,0.1561605569899917,0.48514614735520645,0.6931465796215198,0.6931465796215198,0.625159280913674,0.6931465796215198,0.40075882022466214,0.5788785588177778,0.36880724655542313,0.6150581914572785,0.4909098478197505,0.31888011515018494,0.36229257096670076,0.5736015052813985],[0.6931467814471022,0.6243123040671557,0.49518253495605974,0.48431286803594553,0.6931467814471022,0.5681315003770634,0.6931467814471022,0.6051270716277103,0.5904926705343608,0.6547239916782841,0.371639764187239,0.5929466584119564,0.6171609059780946,0.6931467814471022,0.3958101119697765,0.6931467814471022,0.6931467814471022,0.6931467814471022,0.6931467814471022,0.684238040129473,0.6931467814471022,0.6931467814471022,0.6931467814471022,0.45379733934896227,0.5478262434934686,0.6570254877131234,0.636118811635914,0.6931467814471022,0.6931467814471022,0.6501050477421115,0.6051270716277103,0.6707243264414495,0.45661027930130155,0.5706409108490027,0.6931467814471022,0.49518253495605974,0.6931467814471022,0.6931467814471022,0.6477875505684927,0.6931467814471022,0.6931467814471022,0.6931467814471022,0.45379733934896227,0.6931467814471022,0.6931467814471022,0.6931467814471022,0.6931467814471022,0.6931467814471022,0.5323220641690385,0.6931467814471022,0.6931467814471022,0.5781315792115364,0.684238040129473,0.6931467814471022,0.6931467814471022,0.6931467814471022,0.6931467814471022,0.5297145019858474,0.6931467814471022,0.6931467814471022,0.6931467814471022,0.43675148079302795,0.6027028290740563,0.6931467814471022,0.3868145539164377,0.6931467814471022,0.6931467814471022,0.33425225308546275,0.6931467814471022,0.6931467814471022,0.6593216990244074,0.6931467814471022,0.6931467814471022,0.6931467814471022,0.5904926705343608,0.6931467814471022,0.6931467814471022,0.64313638133977,0.6931467814471022,0.0,0.5929466584119564,0.6931467814471022,0.6931467814471022,0.6931467814471022,0.5529413418054522,0.6290516474095239,0.6931467814471022,0.6931467814471022,0.516573714641372,0.6931467814471022,0.6887023314644641,0.6931467814471022,0.534922844651564,0.6931467814471022,0.5401042009773741,0.6931467814471022,0.6931467814471022,0.6887023314644641],[0.3168572066452468,0.5545900953455012,0.23708078328263862,0.693146527051814,0.5290785270841947,0.27776431881047786,0.48145051565714647,0.476015724072211,0.4650567192300224,0.5545900953455012,0.14280822928584008,0.20900879386027355,0.32322664888580116,0.693146527051814,0.3168572066452468,0.5028990419274961,0.693146527051814,0.33584510098255677,0.693146527051814,0.4083843799990967,0.5393613861622825,0.4650567192300224,0.37277233970764184,0.4427716929405527,0.5290785270841947,0.4483896805420537,0.4141983448279722,0.693146527051814,0.693146527051814,0.38478448540577914,0.3966540504649806,0.693146527051814,0.693146527051814,0.08004260713385175,0.5646152344773072,0.48685592987048343,0.1389987051938996,0.40253641521229777,0.4595318478461743,0.693146527051814,0.6367618455476916,0.5393613861622825,0.5134532213074956,0.6776766154680082,0.5444634341675634,0.693146527051814,0.693146527051814,0.5989323023315991,0.3168572066452468,0.5444634341675634,0.6367618455476916,0.4371219651544446,0.4483896805420537,0.603740000455713,0.4483896805420537,0.603740000455713,0.3907368786538372,0.2643862061980691,0.10798850427506433,0.5290785270841947,0.603740000455713,0.2231432899110084,0.3787964489038078,0.6821210642852098,0.693146527051814,0.19467164602790368,0.693146527051814,0.3483063098517196,0.3295557779687997,0.6274377751495221,0.10798850427506433,0.36671172056890716,0.16536555143678652,0.6413914802528315,0.1727729845389621,0.27776431881047786,0.32322664888580116,0.5794669816579286,0.693146527051814,0.6367618455476916,0.4427716929405527,0.6865458473483318,0.5444634341675634,0.3907368786538372,0.004376368892306063,0.03871446254717649,0.5238971723423281,0.693146527051814,0.6732123253088828,0.21610101467508633,0.3966540504649806,0.5134532213074956,0.025975452890033578,0.4371219651544446,0.3606141462406925,0.30399530532744445,0.0,0.07191249089938734],[0.6931464229850487,0.3694710374297624,0.5978363189382393,0.6931464229850487,0.6931464229850487,0.20479413206278493,0.6931464229850487,0.48783552062305,0.43040352652623876,0.5108250177061192,0.6931464229850487,0.5465430684103002,0.5552767407512965,0.6931464229850487,0.6701569223783772,0.6931464229850487,0.6623747879925191,0.6931464229850487,0.32668380800026037,0.6931464229850487,0.6623747879925191,0.6931464229850487,0.6931464229850487,0.4402075170109502,0.6545316166830631,0.05167193424183925,0.21094799006313636,0.6931464229850487,0.6931464229850487,0.5978363189382393,0.6061351148658877,0.6931464229850487,0.4105023920123747,0.6931464229850487,0.17979286111221235,0.07302502831423502,0.6931464229850487,0.6931464229850487,0.6143656072282588,0.6931464229850487,0.6931464229850487,0.0,0.6061351148658877,0.6931464229850487,0.5810292147461399,0.07302502831423502,0.6931464229850487,0.6225289112034242,0.27625301090241766,0.6931464229850487,0.6931464229850487,0.6931464229850487,0.405464603058297,0.6931464229850487,0.6931464229850487,0.6931464229850487,0.1861020223443374,0.6931464229850487,0.44991632171173895,0.6931464229850487,0.43040352652623876,0.4924758958729242,0.3798877874370405,0.19237162749630748,0.6931464229850487,0.6931464229850487,0.25299617578341965,0.6778789625092628,0.6931464229850487,0.6931464229850487,0.25299617578341965,0.6931464229850487,0.6931464229850487,0.6931464229850487,0.310154524263966,0.6931464229850487,0.6701569223783772,0.6931464229850487,0.6931464229850487,0.6931464229850487,0.5725185323214527,0.5062692053213548,0.6778789625092628,0.6931464229850487,0.6931464229850487,0.5016925424831227,0.6931464229850487,0.6931464229850487,0.38505575225389366,0.6931464229850487,0.6931464229850487,0.6931464229850487,0.38505575225389366,0.6931464229850487,0.23519157228409016,0.6931464229850487,0.6931464229850487,0.6931464229850487],[0.6931465998151096,0.6931465998151096,0.6931465998151096,0.6931465998151096,0.6931465998151096,0.41371218401502363,0.6931465998151096,0.6931465998151096,0.6931465998151096,0.43805413821581873,0.27753734188961265,0.3887628843683352,0.4657238671809211,0.6931465998151096,0.5763336623851706,0.6931465998151096,0.6931465998151096,0.6931465998151096,0.6931465998151096,0.6931465998151096,0.6931465998151096,0.6931465998151096,0.5039694188197367,0.44603820660381316,0.6931465998151096,0.6931465998151096,0.49643643181796143,0.6931465998151096,0.6931465998151096,0.6931465998151096,0.6931465998151096,0.6273651099247485,0.6931465998151096,0.6931465998151096,0.6339767001698666,0.6727537482166046,0.6931465998151096,0.6931465998151096,0.6931465998151096,0.6931465998151096,0.6599944120738832,0.6931465998151096,0.6273651099247485,0.6931465998151096,0.6790728808344791,0.3457455338942176,0.4657238671809211,0.6931465998151096,0.6931465998151096,0.6931465998151096,0.6931465998151096,0.6931465998151096,0.6931465998151096,0.6931465998151096,0.6931465998151096,0.6931465998151096,0.6405448642482839,0.6931465998151096,0.6853523326324613,0.6931465998151096,0.47349089087800583,0.6931465998151096,0.5444160805856643,0.3717773514906907,0.6931465998151096,0.4178105472663383,0.6931465998151096,0.6931465998151096,0.6931465998151096,0.6931465998151096,0.5225573016653954,0.6931465998151096,0.6931465998151096,0.6931465998151096,0.5798179841975045,0.6931465998151096,0.6931465998151096,0.6931465998151096,0.6931465998151096,0.6931465998151096,0.6931465998151096,0.6663944300895538,0.6931465998151096,0.6931465998151096,0.6931465998151096,0.6931465998151096,0.6931465998151096,0.6931465998151096,0.6931465998151096,0.6931465998151096,0.6931465998151096,0.6931465998151096,0.5480132043468605,0.6931465998151096,0.6931465998151096,0.6931465998151096,0.6931465998151096,0.0],[0.6194846517279479,0.4681900778578489,0.6380323157697507,0.6931467602703553,0.631887905934568,0.37903158585731195,0.6931467602703553,0.6931467602703553,0.5748201514085803,0.6829500265573479,0.5845604835713465,0.5314800562547366,0.5715521761925173,0.6931467602703553,0.43497671064503635,0.631887905934568,0.3447194609542422,0.6931467602703553,0.6931467602703553,0.6931467602703553,0.6931467602703553,0.6931467602703553,0.19908826490753212,0.4387220313412178,0.6100801979747841,0.6931467602703553,0.5910017266661948,0.5038444599260754,0.6931467602703553,0.49328098680992893,0.48617616484589254,0.5382712504890006,0.6931467602703553,0.6931467602703553,0.6931467602703553,0.5246424261667533,0.6931467602703553,0.6931467602703553,0.6931467602703553,0.6931467602703553,0.5813242363107682,0.6931467602703553,0.5942068561255772,0.6931467602703553,0.5974017455420334,0.6931467602703553,0.6931467602703553,0.6931467602703553,0.5314800562547366,0.6931467602703553,0.6931467602703553,0.6931467602703553,0.4718132683237773,0.6931467602703553,0.6931467602703553,0.6931467602703553,0.48617616484589254,0.6931467602703553,0.0,0.6931467602703553,0.6916964343027083,0.6931467602703553,0.3569645046670946,0.6931467602703553,0.6931467602703553,0.6652243115516319,0.6931467602703553,0.42365584121512423,0.6592452230874213,0.6931467602703553,0.6931467602703553,0.6931467602703553,0.6502090209700716,0.6887894567367256,0.3928249001075039,0.6931467602703553,0.48617616484589254,0.5108252875343329,0.6931467602703553,0.6931467602703553,0.6132248532203698,0.6931467602703553,0.48617616484589254,0.6887894567367256,0.6931467602703553,0.6931467602703553,0.6931467602703553,0.6931467602703553,0.6194846517279479,0.6931467602703553,0.631887905934568,0.33232261540546576,0.3447194609542422,0.5845604835713465,0.6532301699807818,0.29633991961534345,0.6931467602703553,0.6931467602703553],[0.6931465194310328,0.5134793743447734,0.6931465194310328,0.6931465194310328,0.6931465194310328,0.49339839433745775,0.6931465194310328,0.5788872486560146,0.31148259585845767,0.509495308488589,0.6931465194310328,0.6931465194310328,0.4519846429220733,0.6931465194310328,0.6931465194310328,0.6931465194310328,0.6931465194310328,0.6931465194310328,0.46040573826240677,0.6931465194310328,0.6931465194310328,0.6931465194310328,0.6931465194310328,0.3999121871489776,0.6931465194310328,0.4852517163733336,0.20368613562359367,0.6713152723657826,0.6931465194310328,0.6931465194310328,0.16500732359441014,0.6931465194310328,0.47290589066165856,0.6931465194310328,0.6931465194310328,0.5014792398939992,0.6931465194310328,0.6931465194310328,0.6931465194310328,0.6931465194310328,0.6931465194310328,0.6009875794565928,0.27682569619844183,0.6931465194310328,0.6931465194310328,0.330760282795217,0.6931465194310328,0.6931465194310328,0.5788872486560146,0.6931465194310328,0.6931465194310328,0.6931465194310328,0.5054953063392532,0.6931465194310328,0.6931465194310328,0.6931465194310328,0.6931465194310328,0.6931465194310328,0.6931465194310328,0.6931465194310328,0.3999121871489776,0.6931465194310328,0.44774735201953864,0.0,0.6931465194310328,0.6931465194310328,0.2356888327384402,0.6931465194310328,0.6931465194310328,0.6931465194310328,0.35434625965937655,0.6931465194310328,0.6931465194310328,0.6931465194310328,0.27682569619844183,0.6931465194310328,0.6931465194310328,0.6931465194310328,0.6931465194310328,0.6931465194310328,0.5214002015935992,0.6713152723657826,0.6931465194310328,0.6931465194310328,0.6931465194310328,0.6931465194310328,0.6931465194310328,0.6931465194310328,0.18176747381821015,0.6931465194310328,0.6931465194310328,0.6367695465917078,0.4131867066687048,0.6931465194310328,0.25646877974703186,0.6931465194310328,0.6931465194310328,0.6931465194310328],[0.6931460920661473,0.6931460920661473,0.6931460920661473,0.6931460920661473,0.6931460920661473,0.35401589723248494,0.6931460920661473,0.6931460920661473,0.6931460920661473,0.5143583209449756,0.13242431563547669,0.4025101748421944,0.6887114998360344,0.6931460920661473,0.6931460920661473,0.6931460920661473,0.6931460920661473,0.6931460920661473,0.6931460920661473,0.6931460920661473,0.6931460920661473,0.6931460920661473,0.35401589723248494,0.3415157536877246,0.6931460920661473,0.6525084914792486,0.43739738393569033,0.6931460920661473,0.6931460920661473,0.6931460920661473,0.6931460920661473,0.4025101748421944,0.6931460920661473,0.6931460920661473,0.6931460920661473,0.6525084914792486,0.6931460920661473,0.6931460920661473,0.6931460920661473,0.6931460920661473,0.6931460920661473,0.6931460920661473,0.5143583209449756,0.6931460920661473,0.6931460920661473,0.5353014678143507,0.32885737652494,0.6931460920661473,0.6931460920661473,0.6931460920661473,0.6931460920661473,0.6931460920661473,0.6931460920661473,0.6931460920661473,0.6931460920661473,0.6931460920661473,0.5143583209449756,0.6931460920661473,0.5659160652035116,0.6931460920661473,0.43739738393569033,0.6931460920661473,0.48209750140169116,0.4487611267022505,0.6931460920661473,0.6931460920661473,0.6931460920661473,0.6931460920661473,0.6931460920661473,0.6931460920661473,0.47110839467980287,0.6931460920661473,0.6931460920661473,0.6931460920661473,0.6525084914792486,0.6931460920661473,0.6931460920661473,0.6931460920661473,0.6931460920661473,0.6931460920661473,0.6931460920661473,0.6931460920661473,0.6931460920661473,0.6931460920661473,0.6931460920661473,0.6931460920661473,0.6931460920661473,0.6931460920661473,0.6931460920661473,0.6931460920661473,0.6931460920661473,0.6931460920661473,0.45999718444036525,0.6931460920661473,0.6931460920661473,0.6931460920661473,0.6931460920661473,0.0],[0.6931466013525277,0.45692298051052,0.4877896061949441,0.591629138861801,0.6931466013525277,0.45063365623097973,0.6604393026342844,0.5525180343159348,0.49385022650907817,0.511814768897763,0.5236143076839147,0.6553110893443064,0.5410565984818415,0.6931466013525277,0.5694675814252337,0.6931466013525277,0.6931466013525277,0.6931466013525277,0.6706175014896343,0.6931466013525277,0.591629138861801,0.6931466013525277,0.5806097507157414,0.45063365623097973,0.5294622735650752,0.4218316868971702,0.27898067898798456,0.45692298051052,0.6931466013525277,0.0,0.6806931475394815,0.6706175014896343,0.6025284223702921,0.591629138861801,0.6025284223702921,0.48169203067695215,0.6931466013525277,0.6931466013525277,0.6553110893443064,0.6931466013525277,0.6931466013525277,0.5177319418293233,0.6806931475394815,0.6931466013525277,0.4443045258661247,0.22116116026604538,0.5750541844822761,0.5236143076839147,0.591629138861801,0.6931466013525277,0.6931466013525277,0.6292679666801083,0.5058623745159098,0.6931466013525277,0.6931466013525277,0.6931466013525277,0.1806698372819923,0.6604393026342844,0.6079338375186236,0.6931466013525277,0.6655413514725559,0.45063365623097973,0.45692298051052,0.38209138904791307,0.6931466013525277,0.6501564418643864,0.6931466013525277,0.5525180343159348,0.6931466013525277,0.6931466013525277,0.39551439883952133,0.6931466013525277,0.6931466013525277,0.6931466013525277,0.4218316868971702,0.6931466013525277,0.5294622735650752,0.6931466013525277,0.6931466013525277,0.6931466013525277,0.6553110893443064,0.5177319418293233,0.6079338375186236,0.6931466013525277,0.6931466013525277,0.3888254159236201,0.4631729962853373,0.6931466013525277,0.6449750862634319,0.6931466013525277,0.6806931475394815,0.6449750862634319,0.37531170744035686,0.49987433686652416,0.4631729962853373,0.6931466013525277,0.591629138861801,0.29385082853158734],[0.4491689081875368,0.11663671078178832,0.0,0.3080904793851627,0.4020221837545136,0.1702208755438603,0.152676592056821,0.2694756939612058,0.16148720854228707,0.21278042836854247,0.2773188609645685,0.2455702054926723,0.30048588983106644,0.50669268980536,0.2615705250777503,0.2210792194752651,0.5004621466540958,0.5251547333298604,0.4878833778965884,0.3669309058151146,0.28510099111109444,0.46871348261367207,0.3080904793851627,0.14378765807191876,0.3080904793851627,0.01025648228377824,0.14378765807191876,0.3305633066177291,0.29282302706786834,0.20441219060277085,0.3811155237044761,0.3231283375276563,0.12576918016660077,0.2455702054926723,0.2615705250777503,0.13481900176352618,0.49419254032288323,0.4157210121614859,0.1702208755438603,0.578579846077089,0.46871348261367207,0.35976242507236,0.3080904793851627,0.6827835263648897,0.14378765807191876,0.040409468928993095,0.5492522602283422,0.0981176921665241,0.18746265670898682,0.3811155237044761,0.337943404656104,0.21278042836854247,0.19597333406342637,0.31563767533725884,0.5004621466540958,0.3669309058151146,0.21278042836854247,0.2374730064061168,0.3881330879912227,0.5551869897605607,0.30048588983106644,0.01025648228377824,0.1702208755438603,0.22930970709574194,0.6931463042724373,0.3305633066177291,0.14378765807191876,0.18746265670898682,0.22930970709574194,0.5372760813732377,0.06001790763454395,0.43592369634978023,0.11663671078178832,0.4491689081875368,0.1702208755438603,0.3740483649720336,0.2455702054926723,0.337943404656104,0.2773188609645685,0.18746265670898682,0.2536023662222096,0.35254218596133713,0.3231283375276563,0.3452694356241007,0.0981176921665241,0.22930970709574194,0.03045915490747971,0.337943404656104,0.2694756939612058,0.30048588983106644,0.2694756939612058,0.3305633066177291,0.2210792194752651,0.0981176921665241,0.13481900176352618,0.31563767533725884,0.18746265670898682,0.2694756939612058],[0.33838742580565095,0.33838742580565095,0.25874346984328334,0.6931462745209082,0.2378003256056963,0.03947874082885912,0.6931462745209082,0.3851248446680989,0.08980373922275406,0.18343919619515137,0.2378003256056963,0.18343919619515137,0.0,0.683028153569284,0.08980373922275406,0.42100308888365384,0.5373164859570408,0.6272646315384787,0.5294424378962725,0.6128239614599169,0.5451290174539714,0.5451290174539714,0.052299407067698034,0.19455040495306605,0.39421580521210925,0.14934503716584838,0.08980373922275406,0.3573453152899012,0.6931462745209082,0.2378003256056963,0.14934503716584838,0.4725165636136313,0.6762254124939949,0.20553951022581432,0.37595047975496254,0.1377170174244276,0.6931462745209082,0.6931462745209082,0.5294424378962725,0.6931462745209082,0.4121534841793459,0.27925698127107074,0.013333506868441689,0.6931462745209082,0.10199899223852398,0.6931462745209082,0.5215058968040623,0.39421580521210925,0.29935813331740146,0.683028153569284,0.6931462745209082,0.5757827268292736,0.216409166512365,0.6485420096122685,0.6931462745209082,0.6931462745209082,0.25874346984328334,0.4808499357976234,0.4891144364266881,0.6931462745209082,0.5605733237805628,0.3190631781863572,0.14934503716584838,0.4470914943389582,0.6931462745209082,0.27925698127107074,0.6931462745209082,0.33838742580565095,0.4470914943389582,0.6931462745209082,0.28935806348313736,0.6931462745209082,0.4297750645684916,0.3573453152899012,0.03947874082885912,0.5215058968040623,0.24832672363384192,0.4556385450553149,0.6931462745209082,0.6931462745209082,0.10199899223852398,0.5981716991648136,0.3851248446680989,0.5294424378962725,0.6200703628917511,0.3190631781863572,0.513505862777115,0.6931462745209082,0.08980373922275406,0.2690528251538186,0.43847076132792506,0.36669116591647344,0.10199899223852398,0.18343919619515137,0.14934503716584838,0.34791129507174656,0.37595047975496254,0.5605733237805628],[0.41362799391769983,0.28665664447697964,0.09754303775688439,0.36929944439766893,0.3405618599030456,0.2554041308629565,0.16231380257036723,0.3405618599030456,0.26173325978572315,0.24262441671080343,0.29279162728585584,0.31097392950816444,0.26802258264125733,0.5311097781890479,0.3521561824000746,0.3579033196020976,0.506718343271033,0.4297573625793017,0.5502034230594954,0.4456306988852086,0.42440976062803787,0.5017678418608293,0.3749491720560991,0.2804837911998527,0.4190334080141624,0.10863371190458827,0.22314330049482067,0.3347138952530417,0.3405618599030456,0.31097392950816444,0.40819320245091256,0.36929944439766893,0.09008032507623236,0.20994180196887854,0.2742725970098133,0.13404339920418165,0.3347138952530417,0.5407021708413573,0.17615483932655523,0.6053897997863167,0.4867675720769737,0.3861537614648274,0.2988892014653486,0.6931465535113547,0.20994180196887854,0.22967926493859525,0.5359174762207056,0.18980691423664117,0.31097392950816444,0.4190334080141624,0.32883153064413395,0.31097392950816444,0.2554041308629565,0.24262441671080343,0.5873306307228766,0.41362799391769983,0.17615483932655523,0.34637582459671196,0.4508663087451643,0.506718343271033,0.36929944439766893,0.0,0.1692582675446248,0.32883153064413395,0.5689393206895178,0.42440976062803787,0.3229143589730427,0.26802258264125733,0.3049498204571585,0.5549204095333814,0.23617278779774115,0.42440976062803787,0.22314330049482067,0.4612560043363675,0.1692582675446248,0.36361761586958136,0.3579033196020976,0.46641065085975136,0.3521561824000746,0.22967926493859525,0.40272871254752834,0.41362799391769983,0.3861537614648274,0.47153886320297894,0.10125361294028978,0.20327511741075782,0.18980691423664117,0.4297573625793017,0.3347138952530417,0.41362799391769983,0.39170932658717483,0.3579033196020976,0.22967926493859525,0.2988892014653486,0.316961965866709,0.3049498204571585,0.15532077456150853,0.3049498204571585],[0.48215715922975727,0.2488957193035736,0.0,0.330241268053178,0.36101289428625366,0.24038503955887525,0.18774136936744026,0.2740016116491387,0.22314325348852196,0.2100139777908207,0.2488957193035736,0.29849260426476987,0.16955907293072148,0.44105552212304,0.37605075616008204,0.29849260426476987,0.45494462106934774,0.4269707958305356,0.47542313326099594,0.3685600921180447,0.41985333500188765,0.47542313326099594,0.4054646117319688,0.18774136936744026,0.3144929280741079,0.0982700820562594,0.16496136947416176,0.37605075616008204,0.3380234001982458,0.30652476712333415,0.3380234001982458,0.26570281826969466,0.24038503955887525,0.26570281826969466,0.26570281826969466,0.0933318070976167,0.5280668192759133,0.5020913559832932,0.22314325348852196,0.6543604404064627,0.44802418478607065,0.36101289428625366,0.3223980990198006,0.6822173736453984,0.15570205580714377,0.04775436185468531,0.43403795621116137,0.10318409024225755,0.20559896492261978,0.3144929280741079,0.2903954030145691,0.2822321015050793,0.1510400486565519,0.36101289428625366,0.5596151497374116,0.36101289428625366,0.2100139777908207,0.30652476712333415,0.39086582691011945,0.5658071147326725,0.2573345781930045,0.13692218531511072,0.16496136947416176,0.22314325348852196,0.6931464359955596,0.3685600921180447,0.22314325348852196,0.17869154506781973,0.3380234001982458,0.5719609751188401,0.03208826752639782,0.44105552212304,0.17869154506781973,0.3981918596492585,0.12260215026983096,0.44802418478607065,0.3223980990198006,0.45494462106934774,0.4054646117319688,0.18322669459767715,0.3457454381228146,0.3457454381228146,0.330241268053178,0.41268485256335047,0.2573345781930045,0.3380234001982458,0.20559896492261978,0.5344566117810258,0.2740016116491387,0.43403795621116137,0.330241268053178,0.330241268053178,0.1416503203856958,0.2318013059617836,0.13692218531511072,0.36101289428625366,0.19223575342060378,0.2822321015050793],[0.4191769120719793,0.37135908079299534,0.39555378732949903,0.501312539656594,0.35903860784026204,0.1882210494864541,0.6226733040854073,0.46481216754989935,0.29944656798173386,0.1882210494864541,0.29944656798173386,0.11184815862583738,0.2028198328519269,0.2360770188957744,0.18330704014137436,0.4191769120719793,0.6290024346104947,0.5155476440292055,0.6782431164586064,0.6415417749793264,0.5969484315429923,0.5365274179187609,0.18330704014137436,0.09584783656594077,0.42692888208574387,0.38755375189453195,0.21243528110365342,0.09584783656594077,0.6931465119215627,0.3835296052546037,0.2407390270896152,0.3548978190492656,0.6931465119215627,0.41136437923225755,0.5434239916032074,0.35903860784026204,0.6931465119215627,0.6931465119215627,0.5904124653904579,0.6931465119215627,0.1734059802362673,0.4573494526415531,0.06859822768354497,0.6931465119215627,0.2360770188957744,0.6931465119215627,0.21243528110365342,0.3995299321361322,0.37135908079299534,0.6901835487749964,0.6931465119215627,0.3631623211809825,0.4422548392926988,0.6722190059560003,0.6931465119215627,0.6931465119215627,0.29944656798173386,0.2682636719413785,0.6931465119215627,0.6931465119215627,0.5904124653904579,0.501312539656594,0.19311102937653915,0.37135908079299534,0.6931465119215627,0.5155476440292055,0.5570760702409354,0.3381610425208885,0.5638328475448853,0.6931465119215627,0.1882210494864541,0.6901835487749964,0.5084554214035991,0.3995299321361322,0.13279130768837016,0.5225899210505065,0.3465644453374722,0.6782431164586064,0.6931465119215627,0.6931465119215627,0.0,0.4722196026274069,0.41136437923225755,0.5705442770429577,0.6931465119215627,0.41136437923225755,0.3381610425208885,0.6931465119215627,0.2906359470715001,0.2637285214242754,0.5155476440292055,0.3507398128079288,0.14310066533714835,0.3125186366760076,0.32542202896891503,0.5638328475448853,0.29944656798173386,0.5155476440292055],[0.5185302230631511,0.410974391547833,0.2695628487790407,0.5316022960864221,0.39992456350125016,0.1951303192052665,0.4434096439201293,0.42552009197114754,0.20418014653518363,0.27796625251365326,0.20418014653518363,0.12451281851009756,0.2904404163650349,0.5250876193093474,0.09480769351152214,0.6931466280742153,0.5698234845559859,0.5380748064026832,0.5412954190282532,0.547705693279994,0.6931466280742153,0.6931466280742153,0.3348921430034509,0.28214162043738644,0.3621842640084101,0.24392044008469352,0.14861034686037658,0.09982023030994563,0.6931466280742153,0.41827368870144316,0.14861034686037658,0.2695628487790407,0.6931466280742153,0.5086127929628912,0.3189555634396455,0.3229635816243355,0.6931466280742153,0.6931466280742153,0.43985724483967364,0.6931466280742153,0.39621398685839565,0.34668008949166623,0.0,0.6931466280742153,0.22203774799005563,0.665133607542163,0.28214162043738644,0.30683421270257144,0.25254117569683987,0.6931466280742153,0.6931466280742153,0.410974391547833,0.46446303834255837,0.6421441025309872,0.6931466280742153,0.6931466280742153,0.22203774799005563,0.3189555634396455,0.5380748064026832,0.6931466280742153,0.41827368870144316,0.44694946811917774,0.2945641301478863,0.17678119737207132,0.6931466280742153,0.5508954866131347,0.4918619937619169,0.35057872686744285,0.547705693279994,0.6931466280742153,0.25254117569683987,0.6931466280742153,0.6537049182493619,0.46792924391612417,0.24392044008469352,0.5152353293375669,0.3774517244841958,0.5945160819024644,0.6931466280742153,0.6820354088221712,0.08976990455744434,0.4362921812171178,0.43271436242939587,0.6363131856201648,0.6066374350883547,0.534843787909136,0.3774517244841958,0.6931466280742153,0.23522474067871263,0.2945641301478863,0.41827368870144316,0.39992456350125016,0.2695628487790407,0.28214162043738644,0.21760315485532308,0.5822459968384984,0.3348921430034509,0.5604042685543171],[0.6931467881285016,0.6931467881285016,0.6931467881285016,0.6931467881285016,0.6204932345567072,0.31020143594547506,0.6931467881285016,0.4246672773435655,0.6931467881285016,0.5157187112048154,0.6931467881285016,0.6931467881285016,0.48167288602432845,0.6931467881285016,0.6931467881285016,0.6931467881285016,0.25744661943996183,0.6931467881285016,0.013226774929016024,0.6931467881285016,0.6931467881285016,0.6931467881285016,0.6931467881285016,0.48513010473485324,0.6931467881285016,0.6931467881285016,0.3583551448664629,0.6931467881285016,0.6931467881285016,0.6931467881285016,0.6761852574671385,0.6931467881285016,0.505626115571123,0.6931467881285016,0.6931467881285016,0.6931467881285016,0.6931467881285016,0.6931467881285016,0.6931467881285016,0.6931467881285016,0.6931467881285016,0.3603120915811235,0.32042646805171027,0.6931467881285016,0.6931467881285016,0.6931467881285016,0.6931467881285016,0.6931467881285016,0.6235030173513788,0.6931467881285016,0.6931467881285016,0.6931467881285016,0.39300729389148903,0.6931467881285016,0.6931467881285016,0.6931467881285016,0.6931467881285016,0.6931467881285016,0.505626115571123,0.6931467881285016,0.5290189842007983,0.5518771118265086,0.5190604003033522,0.5518771118265086,0.6931467881285016,0.6931467881285016,0.6931467881285016,0.6022417851222567,0.6931467881285016,0.6931467881285016,0.4117519753391804,0.6931467881285016,0.6931467881285016,0.6931467881285016,0.571062343959217,0.6931467881285016,0.6931467881285016,0.6931467881285016,0.6931467881285016,0.6931467881285016,0.6931467881285016,0.0,0.6931467881285016,0.6931467881285016,0.6931467881285016,0.6931467881285016,0.08654402219254435,0.6931467881285016,0.6931467881285016,0.6931467881285016,0.6931467881285016,0.6931467881285016,0.6235030173513788,0.6931467881285016,0.6931467881285016,0.6761852574671385,0.661827514801591,0.6931467881285016],[0.6931464342193174,0.6931464342193174,0.6931464342193174,0.6931464342193174,0.6931464342193174,0.6931464342193174,0.6931464342193174,0.6931464342193174,0.6931464342193174,0.6931464342193174,0.6931464342193174,0.1280282950493382,0.6931464342193174,0.6931464342193174,0.6931464342193174,0.6931464342193174,0.6931464342193174,0.6931464342193174,0.6931464342193174,0.6931464342193174,0.6931464342193174,0.6931464342193174,0.6931464342193174,0.6931464342193174,0.6931464342193174,0.6931464342193174,0.6931464342193174,0.6931464342193174,0.6931464342193174,0.6931464342193174,0.36396492180719653,0.6931464342193174,0.6931464342193174,0.6931464342193174,0.6931464342193174,0.6931464342193174,0.6931464342193174,0.6931464342193174,0.6931464342193174,0.6931464342193174,0.6931464342193174,0.6931464342193174,0.6931464342193174,0.6931464342193174,0.6931464342193174,0.5658673341577299,0.6931464342193174,0.6931464342193174,0.5547251671019078,0.6931464342193174,0.6931464342193174,0.6931464342193174,0.6931464342193174,0.6931464342193174,0.6931464342193174,0.6931464342193174,0.6931464342193174,0.6931464342193174,0.6931464342193174,0.6931464342193174,0.6931464342193174,0.6931464342193174,0.6931464342193174,0.6931464342193174,0.6931464342193174,0.6931464342193174,0.6931464342193174,0.6931464342193174,0.6931464342193174,0.6931464342193174,0.6931464342193174,0.6931464342193174,0.6931464342193174,0.6931464342193174,0.19444265355939425,0.6931464342193174,0.6931464342193174,0.6931464342193174,0.6931464342193174,0.6931464342193174,0.6931464342193174,0.6931464342193174,0.6931464342193174,0.6931464342193174,0.6931464342193174,0.6931464342193174,0.6931464342193174,0.6931464342193174,0.0,0.6931464342193174,0.6931464342193174,0.6931464342193174,0.22606580373576854,0.6931464342193174,0.41678242428135853,0.6931464342193174,0.6931464342193174,0.6931464342193174],[0.6931464194988672,0.6931464194988672,0.32885756005403316,0.6931464194988672,0.6931464194988672,0.5404697048257973,0.6931464194988672,0.0,0.6931464194988672,0.37247813576906025,0.6931464194988672,0.4766182912962178,0.11679909995330692,0.6931464194988672,0.6525088053317976,0.6931464194988672,0.6931464194988672,0.6931464194988672,0.6931464194988672,0.6931464194988672,0.6931464194988672,0.6931464194988672,0.6931464194988672,0.13242439685904062,0.6931464194988672,0.6931464194988672,0.5248849877347087,0.5759164229450267,0.6931464194988672,0.6797832019251937,0.24934558779169147,0.684257478876812,0.6931464194988672,0.6931464194988672,0.6931464194988672,0.6931464194988672,0.6931464194988672,0.6931464194988672,0.6931464194988672,0.6931464194988672,0.6931464194988672,0.6931464194988672,0.2424251531846557,0.6931464194988672,0.26304441601100303,0.3906055015212685,0.6931464194988672,0.6931464194988672,0.25621845895475825,0.6931464194988672,0.6931464194988672,0.6931464194988672,0.6931464194988672,0.6931464194988672,0.6931464194988672,0.6931464194988672,0.6931464194988672,0.5558152609989779,0.6931464194988672,0.6931464194988672,0.6797832019251937,0.6931464194988672,0.3095643784610464,0.6931464194988672,0.6931464194988672,0.6931464194988672,0.6931464194988672,0.03478606404706963,0.6931464194988672,0.6931464194988672,0.684257478876812,0.6931464194988672,0.6931464194988672,0.6931464194988672,0.17788671167661588,0.6931464194988672,0.6931464194988672,0.6931464194988672,0.6931464194988672,0.6931464194988672,0.675288815811678,0.6931464194988672,0.6931464194988672,0.6931464194988672,0.6931464194988672,0.6931464194988672,0.565916348210651,0.6931464194988672,0.24934558779169147,0.6931464194988672,0.3095643784610464,0.6931464194988672,0.3602080561251395,0.6931464194988672,0.5808792080509149,0.6797832019251937,0.6931464194988672,0.6931464194988672]],\"type\":\"heatmap\",\"xaxis\":\"x\",\"yaxis\":\"y\",\"hovertemplate\":\"x: %{x}\\u003cbr\\u003ey: %{y}\\u003cbr\\u003ecolor: %{z}\\u003cextra\\u003e\\u003c\\u002fextra\\u003e\"}],                        {\"template\":{\"data\":{\"histogram2dcontour\":[{\"type\":\"histogram2dcontour\",\"colorbar\":{\"outlinewidth\":0,\"ticks\":\"\"},\"colorscale\":[[0.0,\"#0d0887\"],[0.1111111111111111,\"#46039f\"],[0.2222222222222222,\"#7201a8\"],[0.3333333333333333,\"#9c179e\"],[0.4444444444444444,\"#bd3786\"],[0.5555555555555556,\"#d8576b\"],[0.6666666666666666,\"#ed7953\"],[0.7777777777777778,\"#fb9f3a\"],[0.8888888888888888,\"#fdca26\"],[1.0,\"#f0f921\"]]}],\"choropleth\":[{\"type\":\"choropleth\",\"colorbar\":{\"outlinewidth\":0,\"ticks\":\"\"}}],\"histogram2d\":[{\"type\":\"histogram2d\",\"colorbar\":{\"outlinewidth\":0,\"ticks\":\"\"},\"colorscale\":[[0.0,\"#0d0887\"],[0.1111111111111111,\"#46039f\"],[0.2222222222222222,\"#7201a8\"],[0.3333333333333333,\"#9c179e\"],[0.4444444444444444,\"#bd3786\"],[0.5555555555555556,\"#d8576b\"],[0.6666666666666666,\"#ed7953\"],[0.7777777777777778,\"#fb9f3a\"],[0.8888888888888888,\"#fdca26\"],[1.0,\"#f0f921\"]]}],\"heatmap\":[{\"type\":\"heatmap\",\"colorbar\":{\"outlinewidth\":0,\"ticks\":\"\"},\"colorscale\":[[0.0,\"#0d0887\"],[0.1111111111111111,\"#46039f\"],[0.2222222222222222,\"#7201a8\"],[0.3333333333333333,\"#9c179e\"],[0.4444444444444444,\"#bd3786\"],[0.5555555555555556,\"#d8576b\"],[0.6666666666666666,\"#ed7953\"],[0.7777777777777778,\"#fb9f3a\"],[0.8888888888888888,\"#fdca26\"],[1.0,\"#f0f921\"]]}],\"heatmapgl\":[{\"type\":\"heatmapgl\",\"colorbar\":{\"outlinewidth\":0,\"ticks\":\"\"},\"colorscale\":[[0.0,\"#0d0887\"],[0.1111111111111111,\"#46039f\"],[0.2222222222222222,\"#7201a8\"],[0.3333333333333333,\"#9c179e\"],[0.4444444444444444,\"#bd3786\"],[0.5555555555555556,\"#d8576b\"],[0.6666666666666666,\"#ed7953\"],[0.7777777777777778,\"#fb9f3a\"],[0.8888888888888888,\"#fdca26\"],[1.0,\"#f0f921\"]]}],\"contourcarpet\":[{\"type\":\"contourcarpet\",\"colorbar\":{\"outlinewidth\":0,\"ticks\":\"\"}}],\"contour\":[{\"type\":\"contour\",\"colorbar\":{\"outlinewidth\":0,\"ticks\":\"\"},\"colorscale\":[[0.0,\"#0d0887\"],[0.1111111111111111,\"#46039f\"],[0.2222222222222222,\"#7201a8\"],[0.3333333333333333,\"#9c179e\"],[0.4444444444444444,\"#bd3786\"],[0.5555555555555556,\"#d8576b\"],[0.6666666666666666,\"#ed7953\"],[0.7777777777777778,\"#fb9f3a\"],[0.8888888888888888,\"#fdca26\"],[1.0,\"#f0f921\"]]}],\"surface\":[{\"type\":\"surface\",\"colorbar\":{\"outlinewidth\":0,\"ticks\":\"\"},\"colorscale\":[[0.0,\"#0d0887\"],[0.1111111111111111,\"#46039f\"],[0.2222222222222222,\"#7201a8\"],[0.3333333333333333,\"#9c179e\"],[0.4444444444444444,\"#bd3786\"],[0.5555555555555556,\"#d8576b\"],[0.6666666666666666,\"#ed7953\"],[0.7777777777777778,\"#fb9f3a\"],[0.8888888888888888,\"#fdca26\"],[1.0,\"#f0f921\"]]}],\"mesh3d\":[{\"type\":\"mesh3d\",\"colorbar\":{\"outlinewidth\":0,\"ticks\":\"\"}}],\"scatter\":[{\"fillpattern\":{\"fillmode\":\"overlay\",\"size\":10,\"solidity\":0.2},\"type\":\"scatter\"}],\"parcoords\":[{\"type\":\"parcoords\",\"line\":{\"colorbar\":{\"outlinewidth\":0,\"ticks\":\"\"}}}],\"scatterpolargl\":[{\"type\":\"scatterpolargl\",\"marker\":{\"colorbar\":{\"outlinewidth\":0,\"ticks\":\"\"}}}],\"bar\":[{\"error_x\":{\"color\":\"#2a3f5f\"},\"error_y\":{\"color\":\"#2a3f5f\"},\"marker\":{\"line\":{\"color\":\"#E5ECF6\",\"width\":0.5},\"pattern\":{\"fillmode\":\"overlay\",\"size\":10,\"solidity\":0.2}},\"type\":\"bar\"}],\"scattergeo\":[{\"type\":\"scattergeo\",\"marker\":{\"colorbar\":{\"outlinewidth\":0,\"ticks\":\"\"}}}],\"scatterpolar\":[{\"type\":\"scatterpolar\",\"marker\":{\"colorbar\":{\"outlinewidth\":0,\"ticks\":\"\"}}}],\"histogram\":[{\"marker\":{\"pattern\":{\"fillmode\":\"overlay\",\"size\":10,\"solidity\":0.2}},\"type\":\"histogram\"}],\"scattergl\":[{\"type\":\"scattergl\",\"marker\":{\"colorbar\":{\"outlinewidth\":0,\"ticks\":\"\"}}}],\"scatter3d\":[{\"type\":\"scatter3d\",\"line\":{\"colorbar\":{\"outlinewidth\":0,\"ticks\":\"\"}},\"marker\":{\"colorbar\":{\"outlinewidth\":0,\"ticks\":\"\"}}}],\"scattermapbox\":[{\"type\":\"scattermapbox\",\"marker\":{\"colorbar\":{\"outlinewidth\":0,\"ticks\":\"\"}}}],\"scatterternary\":[{\"type\":\"scatterternary\",\"marker\":{\"colorbar\":{\"outlinewidth\":0,\"ticks\":\"\"}}}],\"scattercarpet\":[{\"type\":\"scattercarpet\",\"marker\":{\"colorbar\":{\"outlinewidth\":0,\"ticks\":\"\"}}}],\"carpet\":[{\"aaxis\":{\"endlinecolor\":\"#2a3f5f\",\"gridcolor\":\"white\",\"linecolor\":\"white\",\"minorgridcolor\":\"white\",\"startlinecolor\":\"#2a3f5f\"},\"baxis\":{\"endlinecolor\":\"#2a3f5f\",\"gridcolor\":\"white\",\"linecolor\":\"white\",\"minorgridcolor\":\"white\",\"startlinecolor\":\"#2a3f5f\"},\"type\":\"carpet\"}],\"table\":[{\"cells\":{\"fill\":{\"color\":\"#EBF0F8\"},\"line\":{\"color\":\"white\"}},\"header\":{\"fill\":{\"color\":\"#C8D4E3\"},\"line\":{\"color\":\"white\"}},\"type\":\"table\"}],\"barpolar\":[{\"marker\":{\"line\":{\"color\":\"#E5ECF6\",\"width\":0.5},\"pattern\":{\"fillmode\":\"overlay\",\"size\":10,\"solidity\":0.2}},\"type\":\"barpolar\"}],\"pie\":[{\"automargin\":true,\"type\":\"pie\"}]},\"layout\":{\"autotypenumbers\":\"strict\",\"colorway\":[\"#636efa\",\"#EF553B\",\"#00cc96\",\"#ab63fa\",\"#FFA15A\",\"#19d3f3\",\"#FF6692\",\"#B6E880\",\"#FF97FF\",\"#FECB52\"],\"font\":{\"color\":\"#2a3f5f\"},\"hovermode\":\"closest\",\"hoverlabel\":{\"align\":\"left\"},\"paper_bgcolor\":\"white\",\"plot_bgcolor\":\"#E5ECF6\",\"polar\":{\"bgcolor\":\"#E5ECF6\",\"angularaxis\":{\"gridcolor\":\"white\",\"linecolor\":\"white\",\"ticks\":\"\"},\"radialaxis\":{\"gridcolor\":\"white\",\"linecolor\":\"white\",\"ticks\":\"\"}},\"ternary\":{\"bgcolor\":\"#E5ECF6\",\"aaxis\":{\"gridcolor\":\"white\",\"linecolor\":\"white\",\"ticks\":\"\"},\"baxis\":{\"gridcolor\":\"white\",\"linecolor\":\"white\",\"ticks\":\"\"},\"caxis\":{\"gridcolor\":\"white\",\"linecolor\":\"white\",\"ticks\":\"\"}},\"coloraxis\":{\"colorbar\":{\"outlinewidth\":0,\"ticks\":\"\"}},\"colorscale\":{\"sequential\":[[0.0,\"#0d0887\"],[0.1111111111111111,\"#46039f\"],[0.2222222222222222,\"#7201a8\"],[0.3333333333333333,\"#9c179e\"],[0.4444444444444444,\"#bd3786\"],[0.5555555555555556,\"#d8576b\"],[0.6666666666666666,\"#ed7953\"],[0.7777777777777778,\"#fb9f3a\"],[0.8888888888888888,\"#fdca26\"],[1.0,\"#f0f921\"]],\"sequentialminus\":[[0.0,\"#0d0887\"],[0.1111111111111111,\"#46039f\"],[0.2222222222222222,\"#7201a8\"],[0.3333333333333333,\"#9c179e\"],[0.4444444444444444,\"#bd3786\"],[0.5555555555555556,\"#d8576b\"],[0.6666666666666666,\"#ed7953\"],[0.7777777777777778,\"#fb9f3a\"],[0.8888888888888888,\"#fdca26\"],[1.0,\"#f0f921\"]],\"diverging\":[[0,\"#8e0152\"],[0.1,\"#c51b7d\"],[0.2,\"#de77ae\"],[0.3,\"#f1b6da\"],[0.4,\"#fde0ef\"],[0.5,\"#f7f7f7\"],[0.6,\"#e6f5d0\"],[0.7,\"#b8e186\"],[0.8,\"#7fbc41\"],[0.9,\"#4d9221\"],[1,\"#276419\"]]},\"xaxis\":{\"gridcolor\":\"white\",\"linecolor\":\"white\",\"ticks\":\"\",\"title\":{\"standoff\":15},\"zerolinecolor\":\"white\",\"automargin\":true,\"zerolinewidth\":2},\"yaxis\":{\"gridcolor\":\"white\",\"linecolor\":\"white\",\"ticks\":\"\",\"title\":{\"standoff\":15},\"zerolinecolor\":\"white\",\"automargin\":true,\"zerolinewidth\":2},\"scene\":{\"xaxis\":{\"backgroundcolor\":\"#E5ECF6\",\"gridcolor\":\"white\",\"linecolor\":\"white\",\"showbackground\":true,\"ticks\":\"\",\"zerolinecolor\":\"white\",\"gridwidth\":2},\"yaxis\":{\"backgroundcolor\":\"#E5ECF6\",\"gridcolor\":\"white\",\"linecolor\":\"white\",\"showbackground\":true,\"ticks\":\"\",\"zerolinecolor\":\"white\",\"gridwidth\":2},\"zaxis\":{\"backgroundcolor\":\"#E5ECF6\",\"gridcolor\":\"white\",\"linecolor\":\"white\",\"showbackground\":true,\"ticks\":\"\",\"zerolinecolor\":\"white\",\"gridwidth\":2}},\"shapedefaults\":{\"line\":{\"color\":\"#2a3f5f\"}},\"annotationdefaults\":{\"arrowcolor\":\"#2a3f5f\",\"arrowhead\":0,\"arrowwidth\":1},\"geo\":{\"bgcolor\":\"white\",\"landcolor\":\"#E5ECF6\",\"subunitcolor\":\"white\",\"showland\":true,\"showlakes\":true,\"lakecolor\":\"white\"},\"title\":{\"x\":0.05},\"mapbox\":{\"style\":\"light\"}}},\"xaxis\":{\"anchor\":\"y\",\"domain\":[0.0,1.0],\"scaleanchor\":\"y\",\"constrain\":\"domain\"},\"yaxis\":{\"anchor\":\"x\",\"domain\":[0.0,1.0],\"autorange\":\"reversed\",\"constrain\":\"domain\"},\"coloraxis\":{\"colorscale\":[[0.0,\"rgb(255,255,217)\"],[0.125,\"rgb(237,248,177)\"],[0.25,\"rgb(199,233,180)\"],[0.375,\"rgb(127,205,187)\"],[0.5,\"rgb(65,182,196)\"],[0.625,\"rgb(29,145,192)\"],[0.75,\"rgb(34,94,168)\"],[0.875,\"rgb(37,52,148)\"],[1.0,\"rgb(8,29,88)\"]]},\"margin\":{\"t\":60}},                        {\"responsive\": true}                    ).then(function(){\n",
       "                            \n",
       "var gd = document.getElementById('ff377bd9-fed9-4acc-8a71-95e0633f34dd');\n",
       "var x = new MutationObserver(function (mutations, observer) {{\n",
       "        var display = window.getComputedStyle(gd).display;\n",
       "        if (!display || display === 'none') {{\n",
       "            console.log([gd, 'removed!']);\n",
       "            Plotly.purge(gd);\n",
       "            observer.disconnect();\n",
       "        }}\n",
       "}});\n",
       "\n",
       "// Listen for the removal of the full notebook cells\n",
       "var notebookContainer = gd.closest('#notebook-container');\n",
       "if (notebookContainer) {{\n",
       "    x.observe(notebookContainer, {childList: true});\n",
       "}}\n",
       "\n",
       "// Listen for the clearing of the current output cell\n",
       "var outputEl = gd.closest('.output');\n",
       "if (outputEl) {{\n",
       "    x.observe(outputEl, {childList: true});\n",
       "}}\n",
       "\n",
       "                        })                };                });            </script>        </div>"
      ]
     },
     "metadata": {},
     "output_type": "display_data"
    }
   ],
   "source": [
    "import plotly.express as px\n",
    "import pandas as pd\n",
    "import numpy as np\n",
    "\n",
    "normalized_losses = {}\n",
    "drop_ids = [features.index(feature) for feature in drop_features]\n",
    "\n",
    "features_dropped = [feature for feature in features if feature not in drop_features]\n",
    "\n",
    "for task_name, losses in task_losses_positive.items():\n",
    "    base_loss = losses[1]\n",
    "    losses = losses[0]\n",
    "    losses = np.array(losses)\n",
    "    losses = np.delete(losses, drop_ids)\n",
    "\n",
    "\n",
    "    losses = np.minimum(losses, base_loss * 1.5)\n",
    "\n",
    "    losses = (losses - base_loss) / base_loss\n",
    "    \n",
    "    max_loss = np.max(losses)\n",
    "    min_loss = np.min(losses)\n",
    "\n",
    "    losses = (losses - min_loss) / ((max_loss - min_loss) + 1e-6)\n",
    "    \n",
    "    # mean_loss = np.mean(losses - base_loss)\n",
    "\n",
    "    # base_acc = losses[1][1]\n",
    "\n",
    "    # accs = [base_acc - loss[1] for loss in losses[0]]\n",
    "    normalized_losses[task_name] = losses\n",
    "\n",
    "\n",
    "heatmap = np.zeros((len(task_names), len(features_dropped)))\n",
    "\n",
    "for i, task_name in enumerate(task_names):\n",
    "    for j, feature in enumerate(features_dropped):\n",
    "        heatmap[i, j] = normalized_losses[task_name][j]\n",
    "\n",
    "# heatmap /= np.mean(heatmap, axis=0, keepdims=True)\n",
    "\n",
    "\n",
    "\n",
    "# heatmap = np.where(heatmap > 0, np.log(heatmap), -10)\n",
    "# heatmap[np.isnan(heatmap)] = np.min(heatmap[np.isfinite(heatmap)])\n",
    "# heatmap[np.isinf(heatmap)] = np.max(heatmap[np.isfinite(heatmap)])\n",
    "\n",
    "# heatmap = np.clip(heatmap, -5, 5)\n",
    "\n",
    "heatmap = np.log(heatmap + 1)\n",
    "\n",
    "\n",
    "fig = px.imshow(heatmap, x=[str(x) for x in features_dropped], y=task_names, color_continuous_scale='YlGnBu')\n",
    "\n",
    "fig.show()"
   ]
  },
  {
   "cell_type": "code",
   "execution_count": 125,
   "metadata": {},
   "outputs": [
    {
     "data": {
      "text/html": [
       "<script> (()=>{ if (customElements.get('treescope-container') === undefined) { class TreescopeContainer extends HTMLElement { constructor() { super(); this.attachShadow({mode: \"open\"}); this.defns = {}; this.state = {}; } } customElements.define(\"treescope-container\", TreescopeContainer); } if (customElements.get('treescope-run-here') === undefined) { class RunHere extends HTMLElement { constructor() { super() } connectedCallback() { const run = child => { const fn = new Function(child.textContent); child.textContent = \"\"; fn.call(this); this.remove(); }; const child = this.querySelector(\"script\"); if (child) { run(child); } else { new MutationObserver(()=>{ run(this.querySelector(\"script\")); }).observe(this, {childList: true}); } } } customElements.define(\"treescope-run-here\", RunHere); } })(); </script> <treescope-container class=\"treescope_out_b8ebb988e4ed4f678cc10a5f6c34f48f\" ></treescope-container> <treescope-run-here><script type=\"application/octet-stream\"> const root = ( Array.from(document.getElementsByClassName( \"treescope_out_b8ebb988e4ed4f678cc10a5f6c34f48f\")) .filter((elt) => !elt.dataset.setup) )[0]; root.dataset.setup = 1; const msg = document.createElement(\"span\"); msg.style = \"color: #aaaaaa; font-family: monospace; transition: opacity 0.2s; opacity: 0.0;\"; msg.textContent = \"(Loading...)\"; root.state.loadingMsg = msg; root.shadowRoot.appendChild(msg); root.state.chain = new Promise((resolve, reject) => { const observer = new IntersectionObserver((entries) => { for (const entry of entries) { if (entry.isIntersecting) { resolve(); observer.disconnect(); return; } } }, {rootMargin: \"1000px\"}); window.setTimeout(() => { if (root.loadingMsg) { root.loadingMsg.style.opacity = \"1.0\"; } observer.observe(root); }, 0); }); root.state.deferring = false; const _insertNode = (node) => { for (let oldScript of node.querySelectorAll(\"script\")) { let newScript = document.createElement(\"script\"); newScript.type = oldScript.type; newScript.textContent = oldScript.textContent; oldScript.parentNode.replaceChild(newScript, oldScript); } if (root.state.loadingMsg) { root.state.loadingMsg.remove(); root.state.loadingMsg = null; } root.shadowRoot.appendChild(node); }; root.defns.insertContent = ((contentNode, compressed) => { if (compressed) { root.state.deferring = true; } if (root.state.deferring) { root.state.chain = (async () => { await root.state.chain; if (compressed) { const encoded = contentNode.textContent; const blob = new Blob([ Uint8Array.from(atob(encoded), (m) => m.codePointAt(0)) ]); const reader = blob.stream().pipeThrough( new DecompressionStream(\"deflate\") ).pipeThrough( new TextDecoderStream(\"utf-8\") ).getReader(); const parts = []; while (true) { const step = await reader.read(); if (step.done) { break; } parts.push(step.value); } const tpl = document.createElement('template'); tpl.innerHTML = parts.join(\"\"); _insertNode(tpl.content); } else { _insertNode(contentNode.content); } })(); } else { _insertNode(contentNode.content); } }); </script></treescope-run-here><div style=\"display:none\"> <script type=\"application/octet-stream\" >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</script> <treescope-run-here><script type=\"application/octet-stream\"> const root = ( Array.from(document.getElementsByClassName( \"treescope_out_b8ebb988e4ed4f678cc10a5f6c34f48f\")) .filter((elt) => !elt.dataset['step0']) )[0]; root.dataset['step0'] = 1; root.defns.insertContent( this.parentNode.querySelector('script[type=\"application/octet-stream\"]'), true ); this.parentNode.remove(); </script></treescope-run-here> </div>"
      ],
      "text/plain": [
       "<IPython.core.display.HTML object>"
      ]
     },
     "metadata": {},
     "output_type": "display_data"
    },
    {
     "data": {
      "text/html": [
       "<treescope-run-here><script type=\"application/octet-stream\"> const root = ( Array.from(document.getElementsByClassName( \"treescope_out_b8ebb988e4ed4f678cc10a5f6c34f48f\")) .filter((elt) => !elt.dataset.stolen) )[0]; root.dataset.stolen = 1; this.parentNode.replaceChild(root, this); </script></treescope-run-here>"
      ],
      "text/plain": [
       "[[10.3125,\n",
       "  4.40625,\n",
       "  4.75,\n",
       "  6.6875,\n",
       "  6.0625,\n",
       "  5.15625,\n",
       "  5.96875,\n",
       "  5.9375,\n",
       "  5.15625,\n",
       "  7.8125,\n",
       "  6.84375,\n",
       "  4.75,\n",
       "  7.125,\n",
       "  7.625,\n",
       "  6.25,\n",
       "  4.875,\n",
       "  6.5,\n",
       "  5.1875,\n",
       "  4.25,\n",
       "  4.875,\n",
       "  5.75,\n",
       "  9.625,\n",
       "  6.03125,\n",
       "  10.5,\n",
       "  6.6875,\n",
       "  10.625,\n",
       "  5.46875,\n",
       "  9.1875,\n",
       "  9.625,\n",
       "  11.125,\n",
       "  13.125,\n",
       "  6.90625,\n",
       "  4.21875,\n",
       "  5.71875,\n",
       "  4.75,\n",
       "  4.71875,\n",
       "  6.0625,\n",
       "  5.625,\n",
       "  5.03125,\n",
       "  6.6875,\n",
       "  4.96875,\n",
       "  6.65625,\n",
       "  11.1875,\n",
       "  9.8125,\n",
       "  7.375,\n",
       "  4.875,\n",
       "  10.125,\n",
       "  6.75,\n",
       "  7.96875,\n",
       "  6.8125,\n",
       "  5.625,\n",
       "  14.75,\n",
       "  13.1875,\n",
       "  7.9375,\n",
       "  5.28125,\n",
       "  13.3125,\n",
       "  6.3125,\n",
       "  6.71875,\n",
       "  5.1875,\n",
       "  19.375,\n",
       "  6.5,\n",
       "  6.65625,\n",
       "  5.25,\n",
       "  4.6875,\n",
       "  6.03125,\n",
       "  7.9375,\n",
       "  11.625,\n",
       "  10.4375,\n",
       "  6.5,\n",
       "  6.09375,\n",
       "  6.9375,\n",
       "  10.0,\n",
       "  17.0,\n",
       "  5.15625,\n",
       "  13.625,\n",
       "  6.59375,\n",
       "  5.1875,\n",
       "  7.1875,\n",
       "  5.34375,\n",
       "  13.0,\n",
       "  4.96875,\n",
       "  7.3125,\n",
       "  4.75,\n",
       "  8.75,\n",
       "  5.09375,\n",
       "  5.0,\n",
       "  17.875,\n",
       "  6.09375,\n",
       "  7.1875,\n",
       "  5.34375,\n",
       "  6.9375,\n",
       "  8.5625,\n",
       "  12.8125,\n",
       "  5.0625,\n",
       "  12.75,\n",
       "  10.6875,\n",
       "  9.0625,\n",
       "  10.5,\n",
       "  5.625,\n",
       "  11.25,\n",
       "  6.09375,\n",
       "  7.1875,\n",
       "  9.25,\n",
       "  16.375,\n",
       "  9.5625,\n",
       "  5.78125,\n",
       "  7.125,\n",
       "  8.3125,\n",
       "  10.0625,\n",
       "  10.5625,\n",
       "  5.125,\n",
       "  3.53125,\n",
       "  8.1875,\n",
       "  6.28125,\n",
       "  6.03125,\n",
       "  11.875,\n",
       "  6.59375,\n",
       "  4.84375,\n",
       "  8.875,\n",
       "  6.1875,\n",
       "  5.84375,\n",
       "  5.03125,\n",
       "  6.78125,\n",
       "  6.25,\n",
       "  4.25,\n",
       "  8.8125,\n",
       "  6.40625,\n",
       "  8.375,\n",
       "  4.0],\n",
       " 3.84375]"
      ]
     },
     "execution_count": 125,
     "metadata": {},
     "output_type": "execute_result"
    }
   ],
   "source": [
    "task_losses_positive[\"present_simple_past_perfect\"]"
   ]
  },
  {
   "cell_type": "code",
   "execution_count": 84,
   "metadata": {},
   "outputs": [
    {
     "data": {
      "text/html": [
       "<script> (()=>{ if (customElements.get('treescope-container') === undefined) { class TreescopeContainer extends HTMLElement { constructor() { super(); this.attachShadow({mode: \"open\"}); this.defns = {}; this.state = {}; } } customElements.define(\"treescope-container\", TreescopeContainer); } if (customElements.get('treescope-run-here') === undefined) { class RunHere extends HTMLElement { constructor() { super() } connectedCallback() { const run = child => { const fn = new Function(child.textContent); child.textContent = \"\"; fn.call(this); this.remove(); }; const child = this.querySelector(\"script\"); if (child) { run(child); } else { new MutationObserver(()=>{ run(this.querySelector(\"script\")); }).observe(this, {childList: true}); } } } customElements.define(\"treescope-run-here\", RunHere); } })(); </script> <treescope-container class=\"treescope_out_48e72cbb30834a4da97339f3d9f1c476\" ></treescope-container> <treescope-run-here><script type=\"application/octet-stream\"> const root = ( Array.from(document.getElementsByClassName( \"treescope_out_48e72cbb30834a4da97339f3d9f1c476\")) .filter((elt) => !elt.dataset.setup) )[0]; root.dataset.setup = 1; const msg = document.createElement(\"span\"); msg.style = \"color: #aaaaaa; font-family: monospace; transition: opacity 0.2s; opacity: 0.0;\"; msg.textContent = \"(Loading...)\"; root.state.loadingMsg = msg; root.shadowRoot.appendChild(msg); root.state.chain = new Promise((resolve, reject) => { const observer = new IntersectionObserver((entries) => { for (const entry of entries) { if (entry.isIntersecting) { resolve(); observer.disconnect(); return; } } }, {rootMargin: \"1000px\"}); window.setTimeout(() => { if (root.loadingMsg) { root.loadingMsg.style.opacity = \"1.0\"; } observer.observe(root); }, 0); }); root.state.deferring = false; const _insertNode = (node) => { for (let oldScript of node.querySelectorAll(\"script\")) { let newScript = document.createElement(\"script\"); newScript.type = oldScript.type; newScript.textContent = oldScript.textContent; oldScript.parentNode.replaceChild(newScript, oldScript); } if (root.state.loadingMsg) { root.state.loadingMsg.remove(); root.state.loadingMsg = null; } root.shadowRoot.appendChild(node); }; root.defns.insertContent = ((contentNode, compressed) => { if (compressed) { root.state.deferring = true; } if (root.state.deferring) { root.state.chain = (async () => { await root.state.chain; if (compressed) { const encoded = contentNode.textContent; const blob = new Blob([ Uint8Array.from(atob(encoded), (m) => m.codePointAt(0)) ]); const reader = blob.stream().pipeThrough( new DecompressionStream(\"deflate\") ).pipeThrough( new TextDecoderStream(\"utf-8\") ).getReader(); const parts = []; while (true) { const step = await reader.read(); if (step.done) { break; } parts.push(step.value); } const tpl = document.createElement('template'); tpl.innerHTML = parts.join(\"\"); _insertNode(tpl.content); } else { _insertNode(contentNode.content); } })(); } else { _insertNode(contentNode.content); } }); </script></treescope-run-here><div style=\"display:none\"> <script type=\"application/octet-stream\" >eNrFVt9v4zYM/lcED7g6h9pN0ybXOj+Aexn2MOxhe7iHbTAUm7aFKpIn0U1zh/zvo2QnaRKn27BiSx4SUSS/j6RIaWZxI2ERowGwma4hNVoj+8ZqbQUKrRJmQHIUzzBlhVYYFXwl5CZhK620rXlG8nUlECK/SFhtSCKFxci7jnBTk1RpReIlz55KoxuVR5mW2iSt6ZR1q6UkBfIncqwSVggkNYWgcMpqnudClZGEAhM2yioHoiCqQJQVSW7jsXOjkAvivDfr/kTPwoqlkAKJOW9Q73UjodAIZUUWWfEV2t2O7nZ206Zntk9PZBpFmIZkNjOiRubim1/xupYi4y5jNzpDcNEb4KurRRgO5gtKKOFZZDkUyrI5w0rYuAT8mbL9k84hHMSVthj7fQoNkKU1KBfy58x5dUa//t638wNXuQTaVo2U0xYhJpq/aK1IGq61eRqw1xz0FxK5rSMxiswJazCFNiuuMoiVXocDX18CCM92WNQazdjdaEB+RMHCE9axBFVixeZzNnQqb1I3gI1RlHcG0sKBWNUox+zUta1EgY6fV3B/tvS9gBDSqVK5XscG/mjA4mclVr5c3xu+grDNycD5mJ4B1Y2t2jROe2LcQczbMN6I8u9zcCzaQqIuS9l2Zeo7h05r7Xw5CUi8ZvBMB7yrpGPn1/ETbFzSAxM4Qp1ynElu7Y/UnJ3fMNj7TFd0DIMd+HZA+aTj78/4YnbT1wC5eGbe4Tw4Hh8BQ76kSOFlHgwDphWRobAV6b117PtjDZ3NLsqA2q4dWGQBxkCe1jQzoNIyB+NPjB8k3/FP7tuNLG+SMIGcepRiiwtS50uCUsThwrDbsmO1tGVH2rmwBLrZDbVTRbZgki9BJskSqF/gFavMf6a9eO1gi27dZOsG4HB6wBLKj7ul1G5CXsSs9DOYc+ScmycLvKQyqXPrRGkMT0QVt+HC+1z05sHbJFkF2RPkgwH7ODhwcKb9Rjv9I4Z+Qifs6rfReJld/Z/0jo0ukpz8ByRdHR1wY6wrYK3pngLTgyvs+8H6VvBAke83e+mMvw/qITyEFzxHiYVNC2Esplql7vj3tNZbrRSPxq6bekvF/jX9tuKnFF1UK25Kelm0NHxDb+my4m5arblRdDGku3TvJkNR8Oz2rkexpmn/bf/6Md1jx/nsUDpRNIx9sIcnVuIfSNxEpeG5oGqGt3fjHMprpg1XJbAhG8aTrLpmSGt6vRnSaUXMXwM9VM7Cfadjf5KzXTDbeF2BSilJktcW8r8evv8Y/A2EduR6DK8ELzXd5Bd13oNHH8TpW5QqpZjI58H+ChxnD8PHyf3jHUwm93wE/NPjpMgfHh4faJXBQ9AZdZf18c1xWlFSbmnPhKqb7n0beKJL/RL0Oulios02HnoweGP67Xy9xu+7uoPFB4lT1azqTazotjJ8wwqpOU7uw9vR4zUlKI7ZhxLdo4R8LU5+Xvs/ymRw0KT3yuJPLduT0g==</script> <treescope-run-here><script type=\"application/octet-stream\"> const root = ( Array.from(document.getElementsByClassName( \"treescope_out_48e72cbb30834a4da97339f3d9f1c476\")) .filter((elt) => !elt.dataset['step0']) )[0]; root.dataset['step0'] = 1; root.defns.insertContent( this.parentNode.querySelector('script[type=\"application/octet-stream\"]'), true ); this.parentNode.remove(); </script></treescope-run-here> </div>"
      ],
      "text/plain": [
       "<IPython.core.display.HTML object>"
      ]
     },
     "metadata": {},
     "output_type": "display_data"
    },
    {
     "data": {
      "text/html": [
       "<div style=\"display:none\"> <script type=\"application/octet-stream\" >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</script> <treescope-run-here><script type=\"application/octet-stream\"> const root = ( Array.from(document.getElementsByClassName( \"treescope_out_48e72cbb30834a4da97339f3d9f1c476\")) .filter((elt) => !elt.dataset['step1']) )[0]; root.dataset['step1'] = 1; root.defns.insertContent( this.parentNode.querySelector('script[type=\"application/octet-stream\"]'), true ); this.parentNode.remove(); </script></treescope-run-here> </div>"
      ],
      "text/plain": [
       "<IPython.core.display.HTML object>"
      ]
     },
     "metadata": {},
     "output_type": "display_data"
    },
    {
     "data": {
      "text/html": [
       "<treescope-run-here><script type=\"application/octet-stream\"> const root = ( Array.from(document.getElementsByClassName( \"treescope_out_48e72cbb30834a4da97339f3d9f1c476\")) .filter((elt) => !elt.dataset.stolen) )[0]; root.dataset.stolen = 1; this.parentNode.replaceChild(root, this); </script></treescope-run-here>"
      ],
      "text/plain": [
       "array([0.10833333, 0.02105735, 0.0625    , 0.10611511, 0.0734767 ,\n",
       "       0.07401033, 0.05617978, 0.05755396, 0.03819095, 0.03888889,\n",
       "       0.19101124, 0.05395683, 0.22682446, 0.        , 0.06231156,\n",
       "       0.0242411 , 0.10215054, 0.10453649, 0.04536489, 0.0094086 ,\n",
       "       0.09346734, 0.13169643, 0.07777778, 0.22767857, 0.0915047 ,\n",
       "       0.225     , 0.00416667, 0.00414938, 0.13403509, 0.2040201 ,\n",
       "       0.27482014, 0.        , 0.        , 0.07482014, 0.06797853,\n",
       "       0.05241935, 0.10663082, 0.01258993, 0.04496403, 0.02242991,\n",
       "       0.04120603, 0.06919643, 0.39568345, 0.01032702, 0.02329749,\n",
       "       0.08481262, 0.00280407, 0.09849246, 0.10555556, 0.04676259,\n",
       "       0.01798561, 0.15654952, 0.26517572, 0.20143885, 0.07194245,\n",
       "       0.617357  , 0.10267857, 0.        , 0.05527638, 0.15833333,\n",
       "       0.13169643, 0.        , 0.01798561, 0.0729783 , 0.15779093,\n",
       "       0.03718638, 0.03472222, 0.26111111, 0.13824561, 0.        ,\n",
       "       0.10653266, 0.32070175, 0.        , 0.        , 0.2       ,\n",
       "       0.02284946, 0.04856115, 0.09444444, 0.        , 0.4       ,\n",
       "       0.08140704, 0.15107914, 0.03888889, 0.        , 0.08243728,\n",
       "       0.00703518, 0.1522807 , 0.13632653, 0.04723618, 0.        ,\n",
       "       0.04444444, 0.28801431, 0.375     , 0.06834532, 0.10286225,\n",
       "       0.36628111, 0.12777778, 0.12096774, 0.01299283, 0.1       ,\n",
       "       0.15770609, 0.16944444, 0.36094675, 0.        , 0.        ,\n",
       "       0.03125   , 0.        , 0.17741935, 0.21111111, 0.11157895,\n",
       "       0.        , 0.        , 0.13258786, 0.02817209, 0.05737705,\n",
       "       0.47406082, 0.0031362 , 0.00277778, 0.00479233, 0.00138889,\n",
       "       0.11079137, 0.01478495, 0.16853933, 0.02688172, 0.        ,\n",
       "       0.07083333, 0.07222222, 0.05591054, 0.        ])"
      ]
     },
     "execution_count": 84,
     "metadata": {},
     "output_type": "execute_result"
    }
   ],
   "source": [
    "mean_heatmap"
   ]
  },
  {
   "cell_type": "code",
   "execution_count": 71,
   "metadata": {},
   "outputs": [
    {
     "ename": "NameError",
     "evalue": "name 'negative_task_losses' is not defined",
     "output_type": "error",
     "traceback": [
      "\u001b[0;31m---------------------------------------------------------------------------\u001b[0m",
      "\u001b[0;31mNameError\u001b[0m                                 Traceback (most recent call last)",
      "Cell \u001b[0;32mIn[71], line 12\u001b[0m\n\u001b[1;32m      8\u001b[0m drop_ids \u001b[38;5;241m=\u001b[39m [features\u001b[38;5;241m.\u001b[39mindex(feature) \u001b[38;5;28;01mfor\u001b[39;00m feature \u001b[38;5;129;01min\u001b[39;00m drop_features]\n\u001b[1;32m     10\u001b[0m features_dropped \u001b[38;5;241m=\u001b[39m [feature \u001b[38;5;28;01mfor\u001b[39;00m feature \u001b[38;5;129;01min\u001b[39;00m features \u001b[38;5;28;01mif\u001b[39;00m feature \u001b[38;5;129;01mnot\u001b[39;00m \u001b[38;5;129;01min\u001b[39;00m drop_features]\n\u001b[0;32m---> 12\u001b[0m \u001b[38;5;28;01mfor\u001b[39;00m task_name, losses \u001b[38;5;129;01min\u001b[39;00m \u001b[43mnegative_task_losses\u001b[49m\u001b[38;5;241m.\u001b[39mitems():\n\u001b[1;32m     13\u001b[0m     base_loss \u001b[38;5;241m=\u001b[39m losses[\u001b[38;5;241m1\u001b[39m]\n\u001b[1;32m     14\u001b[0m     losses \u001b[38;5;241m=\u001b[39m [x[\u001b[38;5;241m0\u001b[39m]\u001b[38;5;241m.\u001b[39mtolist() \u001b[38;5;28;01mfor\u001b[39;00m x \u001b[38;5;129;01min\u001b[39;00m losses[\u001b[38;5;241m0\u001b[39m]]\n",
      "\u001b[0;31mNameError\u001b[0m: name 'negative_task_losses' is not defined"
     ]
    }
   ],
   "source": [
    "import plotly.express as px\n",
    "import pandas as pd\n",
    "import numpy as np\n",
    "\n",
    "normalized_losses = {}\n",
    "\n",
    "drop_features = []\n",
    "drop_ids = [features.index(feature) for feature in drop_features]\n",
    "\n",
    "features_dropped = [feature for feature in features if feature not in drop_features]\n",
    "\n",
    "for task_name, losses in negative_task_losses.items():\n",
    "    base_loss = losses[1]\n",
    "    losses = [x[0].tolist() for x in losses[0]]\n",
    "    losses = np.array(losses)\n",
    "    losses = np.delete(losses, drop_ids)\n",
    "\n",
    "    losses = losses - base_loss[0]\n",
    "    \n",
    "    max_loss = np.max(losses)\n",
    "    min_loss = np.min(losses)\n",
    "\n",
    "    losses = (losses - min_loss) / (max_loss - min_loss)\n",
    "    \n",
    "    # mean_loss = np.mean(losses - base_loss)\n",
    "\n",
    "    # base_acc = losses[1][1]\n",
    "\n",
    "    # accs = [base_acc - loss[1] for loss in losses[0]]\n",
    "    normalized_losses[task_name] = losses\n",
    "\n",
    "\n",
    "heatmap = np.zeros((len(task_names), len(features_dropped)))\n",
    "\n",
    "for i, task_name in enumerate(task_names):\n",
    "    for j, feature in enumerate(features_dropped):\n",
    "        heatmap[i, j] = normalized_losses[task_name][j]\n",
    "\n",
    "heatmap /= np.mean(heatmap, axis=0, keepdims=True)\n",
    "\n",
    "\n",
    "\n",
    "# heatmap = np.where(heatmap > 0, np.log(heatmap), -10)\n",
    "# heatmap[np.isnan(heatmap)] = np.min(heatmap[np.isfinite(heatmap)])\n",
    "# heatmap[np.isinf(heatmap)] = np.max(heatmap[np.isfinite(heatmap)])\n",
    "\n",
    "# heatmap = np.clip(heatmap, -5, 5)\n",
    "\n",
    "\n",
    "fig = px.imshow(heatmap, x=[str(x) for x in features_dropped], y=task_names)\n",
    "\n",
    "fig.show()\n"
   ]
  },
  {
   "cell_type": "code",
   "execution_count": null,
   "metadata": {},
   "outputs": [],
   "source": []
  },
  {
   "cell_type": "code",
   "execution_count": null,
   "metadata": {},
   "outputs": [],
   "source": []
  }
 ],
 "metadata": {
  "kernelspec": {
   "display_name": "micrlhf-progress-_SD4q1c9-py3.10",
   "language": "python",
   "name": "python3"
  },
  "language_info": {
   "codemirror_mode": {
    "name": "ipython",
    "version": 3
   },
   "file_extension": ".py",
   "mimetype": "text/x-python",
   "name": "python",
   "nbconvert_exporter": "python",
   "pygments_lexer": "ipython3",
   "version": "3.10.12"
  }
 },
 "nbformat": 4,
 "nbformat_minor": 2
}
