{
 "cells": [
  {
   "cell_type": "code",
   "execution_count": 1,
   "metadata": {},
   "outputs": [],
   "source": [
    "import os\n",
    "if \"models\" not in os.listdir(\".\"):\n",
    "    os.chdir(\"..\")"
   ]
  },
  {
   "cell_type": "code",
   "execution_count": 3,
   "metadata": {},
   "outputs": [
    {
     "name": "stdout",
     "output_type": "stream",
     "text": [
      "The autoreload extension is already loaded. To reload it, use:\n",
      "  %reload_ext autoreload\n"
     ]
    }
   ],
   "source": [
    "%load_ext autoreload\n",
    "%autoreload 2\n",
    "import penzai\n",
    "from penzai import pz\n",
    "pz.ts.register_as_default()\n",
    "pz.ts.register_autovisualize_magic()\n",
    "pz.enable_interactive_context()"
   ]
  },
  {
   "cell_type": "code",
   "execution_count": 69,
   "metadata": {},
   "outputs": [],
   "source": [
    "import jax.numpy as jnp\n",
    "import jax\n",
    "import json\n",
    "\n",
    "from tqdm.auto import tqdm"
   ]
  },
  {
   "cell_type": "code",
   "execution_count": 5,
   "metadata": {},
   "outputs": [
    {
     "name": "stderr",
     "output_type": "stream",
     "text": [
      "Special tokens have been added in the vocabulary, make sure the associated word embeddings are fine-tuned or trained.\n"
     ]
    }
   ],
   "source": [
    "from micrlhf.llama import LlamaTransformer\n",
    "from transformers import AutoTokenizer\n",
    "\n",
    "\n",
    "filename = \"models/phi-3-16.gguf\"\n",
    "llama = LlamaTransformer.from_pretrained(filename, device_map=\"auto\")\n",
    "tokenizer = AutoTokenizer.from_pretrained(\"microsoft/Phi-3-mini-4k-instruct\")\n",
    "tokenizer.padding_side = \"right\""
   ]
  },
  {
   "cell_type": "code",
   "execution_count": 7,
   "metadata": {},
   "outputs": [
    {
     "data": {
      "text/html": [
       "<div id=\"output_ef09869008714cf18974b2ecff416732\"><script> /* penzai.treescope rendering of a Python object (compressed) */ (()=>{ let observer; let lastStep = new Promise((resolve, reject) => { observer = new IntersectionObserver((entries) => { for (const entry of entries) { if (entry.isIntersecting) { resolve(); observer.disconnect(); return; } } }, {rootMargin: \"1000px\"}); }); window.treescope_decompress_enqueue = (encoded, destId) => { const previous = lastStep; const destElt = document.getElementById(destId); lastStep = (async () => { await previous; let blob = new Blob([ Uint8Array.from(atob(encoded), (m) => m.codePointAt(0)) ]); let reader = blob.stream().pipeThrough( new DecompressionStream(\"deflate\") ).pipeThrough( new TextDecoderStream(\"utf-8\") ).getReader(); let parts = []; while (true) { let step = await reader.read(); if (step.done) { break; } parts.push(step.value); } let newElt = document.createElement(\"div\"); newElt.innerHTML = parts.join(\"\"); destElt.parentNode.replaceChild(newElt, destElt); for (let oldScript of newElt.querySelectorAll(\"script\")) { let newScript = document.createElement(\"script\"); newScript.type = oldScript.type; newScript.textContent = oldScript.textContent; oldScript.parentNode.replaceChild(newScript, oldScript); } })(); requestAnimationFrame(() => { observer.observe(destElt); }); } })(); </script><div id=\"compress_html_9a5451bed424406cb0d7df0adbfcaa28\"><script>window.treescope_decompress_enqueue(\"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\", \"compress_html_9a5451bed424406cb0d7df0adbfcaa28\");</script><span style=\"color: #aaaaaa; font-family: monospace\">(Loading...)</span></div></div>"
      ],
      "text/plain": [
       "<IPython.core.display.HTML object>"
      ]
     },
     "metadata": {},
     "output_type": "display_data"
    },
    {
     "data": {
      "text/html": [
       "<div id=\"output_dest_ef09869008714cf18974b2ecff416732\"><script> (()=>{ const output = document.getElementById(\"output_ef09869008714cf18974b2ecff416732\"); const dest = document.getElementById(\"output_dest_ef09869008714cf18974b2ecff416732\"); dest.parentNode.replaceChild(output, dest); })(); </script></div>"
      ],
      "text/plain": [
       "Dataset({\n",
       "    features: ['layer', 'version', 'feature', 'type', 'explanation'],\n",
       "    num_rows: 1791\n",
       "})"
      ]
     },
     "execution_count": 7,
     "metadata": {},
     "output_type": "execute_result"
    }
   ],
   "source": [
    "feature_dataset"
   ]
  },
  {
   "cell_type": "code",
   "execution_count": 46,
   "metadata": {},
   "outputs": [],
   "source": [
    "from micrlhf.utils.activation_manipulation import replace_activation\n",
    "\n",
    "def benchmark_vector(vector, tokens, model, positions, replacement_layer):\n",
    "    act_rep = replace_activation(model, vector, positions, layer=replacement_layer)\n",
    "\n",
    "    return act_rep(tokens)"
   ]
  },
  {
   "cell_type": "code",
   "execution_count": 11,
   "metadata": {},
   "outputs": [],
   "source": [
    "def tokens_to_inputs(tokens):\n",
    "    token_array = jnp.asarray(tokens)\n",
    "    token_array = jax.device_put(token_array, jax.sharding.NamedSharding(llama.mesh, jax.sharding.PartitionSpec(\"dp\", \"sp\")))\n",
    "    token_array = pz.nx.wrap(token_array, \"batch\", \"seq\").untag(\"batch\").tag(\"batch\")\n",
    "\n",
    "    inputs = llama.inputs.from_basic_segments(token_array)\n",
    "    return inputs"
   ]
  },
  {
   "cell_type": "code",
   "execution_count": 35,
   "metadata": {},
   "outputs": [],
   "source": [
    "def logits_to_loss(logits, tokens, answer_start, pad_token=32000):\n",
    "    logits = jax.nn.log_softmax(logits)\n",
    "\n",
    "    logits = logits[:, :-1]\n",
    "    logits = jnp.take_along_axis(logits, tokens[:, 1:, None], axis=-1).squeeze(-1)\n",
    "\n",
    "    mask = tokens[:, 1:] != pad_token\n",
    "\n",
    "    mask[:, :answer_start] = False\n",
    "\n",
    "    logits = logits * mask\n",
    "\n",
    "    return -logits.sum(axis=-1) / mask.sum(axis=-1)\n"
   ]
  },
  {
   "cell_type": "code",
   "execution_count": 52,
   "metadata": {},
   "outputs": [],
   "source": [
    "from micrlhf.utils.load_sae import get_sae\n",
    "\n",
    "def benchmark_feature(prompt_template, token_to_replace, layer, feature, explanation, batch_size=64, min_scale=0, max_scale=200, max_length=64, replacement_layer=2):\n",
    "    vector = get_sae(layer, 4)[\"W_dec\"][feature]\n",
    "    vector = vector[None, :] * jnp.linspace(min_scale, max_scale, batch_size)[:, None]\n",
    "\n",
    "    prompt = prompt_template.format(explanation)\n",
    "    text = [prompt for _ in range(batch_size)]\n",
    "\n",
    "    tokenized = tokenizer(text, return_tensors=\"np\", padding=\"max_length\", max_length=max_length, truncation=True)\n",
    "\n",
    "    tokens = tokenized[\"input_ids\"]\n",
    "\n",
    "    inputs = tokens_to_inputs(tokens)\n",
    "\n",
    "    positions = [i for i, a in enumerate(tokenizer.encode(prompt_template)) if tokenizer.decode([a]) == token_to_replace]\n",
    "\n",
    "    logits = benchmark_vector(\n",
    "        vector, inputs, llama, positions, replacement_layer\n",
    "    )\n",
    "\n",
    "    logits = logits.unwrap(\n",
    "        \"batch\", \"seq\", \"vocabulary\"\n",
    "    )\n",
    "\n",
    "    answer_start = len(tokenizer.encode(prompt_template))\n",
    "\n",
    "    loss = logits_to_loss(logits, tokens, answer_start)\n",
    "\n",
    "    best_idx = jnp.argmin(loss)\n",
    "\n",
    "    return loss, jnp.linspace(min_scale, max_scale, batch_size)[best_idx], loss[best_idx]"
   ]
  },
  {
   "cell_type": "code",
   "execution_count": 8,
   "metadata": {},
   "outputs": [],
   "source": [
    "prompt_template = \"<|user|>\\nWhat is the meaning of the word \\\"X\\\"?<|end|>\\n<|assistant|>\\nThe meaning of the word \\\"X\\\" is \\\"{}\\\"\"\n",
    "token_to_replace = \"X\"\n",
    "\n",
    "positions = [i for i, a in enumerate(tokenizer.encode(prompt_template)) if tokenizer.decode([a]) == token_to_replace]"
   ]
  },
  {
   "cell_type": "code",
   "execution_count": 14,
   "metadata": {},
   "outputs": [],
   "source": [
    "from datasets import load_dataset\n",
    "\n",
    "feature_dataset = load_dataset(\"kisate-team/feature-explanations\", split=\"train\")"
   ]
  },
  {
   "cell_type": "code",
   "execution_count": 56,
   "metadata": {},
   "outputs": [
    {
     "name": "stdout",
     "output_type": "stream",
     "text": [
      "Skipping item\n",
      "Explanation: mentions of geographic locations\n",
      "Loss: [5.5625 4.65625 4.3125 3.42188 3.95312 4.625 4.8125 4.9375 5.1875 5.28125\n",
      " 5.3125 5.21875 5.21875 5.125 5.0625 4.96875 4.875 4.90625 4.6875 4.75\n",
      " 4.75 4.6875 4.59375 4.53125 4.40625 4.4375 4.3125 4.1875 4.125 4 3.90625\n",
      " 3.90625 3.71875 3.78125 3.75 3.79688 3.92188 3.95312 4.09375 4.09375 4.25\n",
      " 4.3125 4.34375 4.3125 4.4375 4.5 4.53125 4.625 4.4375 4.5625 4.59375\n",
      " 4.6875 4.625 4.65625 4.65625 4.75 4.75 4.71875 4.6875 4.71875 4.65625\n",
      " 4.6875 4.75 4.8125]\n",
      "Scale: 9.523810386657715\n",
      "Best Loss: 3.42188\n",
      "\n",
      "Explanation: declarations of variables or attributes with specific data types\n",
      "Loss: [4.09375 5.15625 4.0625 4.40625 4.5625 4.5625 4.53125 4.4375 4.3125 4.3125\n",
      " 4.3125 4.375 4.46875 4.5 4.5625 4.59375 4.5625 4.5625 4.53125 4.5625\n",
      " 4.5625 4.5625 4.53125 4.5625 4.5625 4.5625 4.59375 4.59375 4.59375\n",
      " 4.65625 4.65625 4.6875 4.6875 4.71875 4.75 4.75 4.8125 4.75 4.8125 4.8125\n",
      " 4.84375 4.875 4.9375 4.96875 4.96875 5 4.96875 4.96875 5.0625 5.0625\n",
      " 5.0625 5.09375 5.09375 5.0625 5.09375 5.15625 5.125 5.09375 5.15625\n",
      " 5.1875 5.125 5.15625 5.1875 5.1875]\n",
      "Scale: 6.349206924438477\n",
      "Best Loss: 4.0625\n",
      "\n",
      "Explanation: specific factual information or data points in the document\n",
      "Loss: [4.59375 4.21875 4.75 4.1875 4.5625 4.625 4.625 4.71875 4.78125 4.8125\n",
      " 4.90625 4.9375 4.90625 4.90625 4.90625 4.84375 4.9375 4.9375 5.03125\n",
      " 5.0625 5.03125 5.09375 5.0625 5.125 5.125 5.125 5.1875 5.125 5.15625\n",
      " 5.21875 5.25 5.21875 5.25 5.21875 5.21875 5.1875 5.21875 5.1875 5.1875\n",
      " 5.125 5.0625 5.0625 5.125 5.0625 5.03125 5.09375 5.03125 5 5 5.0625\n",
      " 4.90625 4.96875 4.96875 4.90625 4.96875 4.96875 4.9375 4.90625 4.9375\n",
      " 4.96875 4.96875 4.875 4.90625 4.875]\n",
      "Scale: 9.523810386657715\n",
      "Best Loss: 4.1875\n",
      "\n",
      "Explanation: mentions of geographic locations or questions about where something is\n",
      "Loss: [5.0625 4.75 4.03125 4.25 3.5 3.54688 3.8125 4 4.0625 4.125 4.0625 3.95312\n",
      " 3.79688 3.70312 3.65625 3.65625 3.65625 3.70312 3.76562 3.8125 3.85938\n",
      " 3.9375 3.98438 4.03125 4.03125 4.03125 4.03125 3.98438 3.90625 3.75\n",
      " 3.70312 3.65625 3.59375 3.54688 3.59375 3.5625 3.59375 3.6875 3.75\n",
      " 3.79688 3.9375 4.03125 4.0625 4.21875 4.3125 4.375 4.5625 4.6875 4.71875\n",
      " 4.90625 5.03125 5.1875 5.28125 5.375 5.46875 5.46875 5.625 5.75 5.78125\n",
      " 5.8125 5.90625 6 6.1875 6.1875]\n",
      "Scale: 12.698413848876953\n",
      "Best Loss: 3.5\n",
      "\n"
     ]
    }
   ],
   "source": [
    "replacement_layer = 2\n",
    "\n",
    "for i in tqdm(list(range(len(feature_dataset)))):\n",
    "    item = feature_dataset[i]\n",
    "    \n",
    "    layer = item[\"layer\"]\n",
    "    feature = item[\"feature\"]\n",
    "    explanation = item[\"explanation\"]\n",
    "\n",
    "    result = {\"id\": i}\n",
    "\n",
    "    if explanation is not None:\n",
    "        loss, scale, best_loss = benchmark_feature(prompt_template, token_to_replace, layer, feature, explanation, replacement_layer=replacement_layer)\n",
    "        result[\"loss\"] = loss.tolist()\n",
    "        result[\"scale\"] = scale\n",
    "        result[\"best_loss\"] = best_loss\n",
    "\n",
    "    with open(\"results.jsonl\", )"
   ]
  },
  {
   "cell_type": "code",
   "execution_count": 65,
   "metadata": {},
   "outputs": [
    {
     "name": "stdout",
     "output_type": "stream",
     "text": [
      "{'layer': 12, 'version': 4, 'feature': 27228, 'type': 'location_country', 'explanation': 'mentions of geographic locations'}\n"
     ]
    }
   ],
   "source": [
    "item = feature_dataset[1]\n",
    "\n",
    "print(item)\n",
    "\n",
    "layer = item[\"layer\"]\n",
    "feature = item[\"feature\"]\n",
    "explanation = item[\"explanation\"]"
   ]
  },
  {
   "cell_type": "code",
   "execution_count": 66,
   "metadata": {},
   "outputs": [],
   "source": [
    "vector = get_sae(layer, 4)[\"W_dec\"][feature]\n",
    "prompt = \"<|user|>\\nWhat is the meaning of the word \\\"X\\\"?<|end|>\\n<|assistant|>\\nThe meaning of the word \\\"X\\\" is \\\"\"\n",
    "bs = 64\n",
    "msl = 64\n",
    "\n",
    "act_rep = replace_activation(llama, vector[None, :] * jnp.linspace(8, 10, bs)[:, None], prompt=prompt, tokenizer=tokenizer, layer=2)"
   ]
  },
  {
   "cell_type": "code",
   "execution_count": 67,
   "metadata": {},
   "outputs": [
    {
     "data": {
      "application/vnd.jupyter.widget-view+json": {
       "model_id": "02c9cc90b3d44c888a3f003da4550273",
       "version_major": 2,
       "version_minor": 0
      },
      "text/plain": [
       "  0%|          | 0/40 [00:00<?, ?it/s]"
      ]
     },
     "metadata": {},
     "output_type": "display_data"
    }
   ],
   "source": [
    "from micrlhf.sampling import sample\n",
    "texts = sample(act_rep, tokenizer, prompt, batch_size=bs, do_sample=True, max_seq_len=msl)[0]"
   ]
  },
  {
   "cell_type": "code",
   "execution_count": 68,
   "metadata": {},
   "outputs": [
    {
     "data": {
      "text/html": [
       "<div id=\"output_70e5776a5d7b45de845b02a29a86d440\"><script> /* penzai.treescope rendering of a Python object (compressed) */ (()=>{ let observer; let lastStep = new Promise((resolve, reject) => { observer = new IntersectionObserver((entries) => { for (const entry of entries) { if (entry.isIntersecting) { resolve(); observer.disconnect(); return; } } }, {rootMargin: \"1000px\"}); }); window.treescope_decompress_enqueue = (encoded, destId) => { const previous = lastStep; const destElt = document.getElementById(destId); lastStep = (async () => { await previous; let blob = new Blob([ Uint8Array.from(atob(encoded), (m) => m.codePointAt(0)) ]); let reader = blob.stream().pipeThrough( new DecompressionStream(\"deflate\") ).pipeThrough( new TextDecoderStream(\"utf-8\") ).getReader(); let parts = []; while (true) { let step = await reader.read(); if (step.done) { break; } parts.push(step.value); } let newElt = document.createElement(\"div\"); newElt.innerHTML = parts.join(\"\"); destElt.parentNode.replaceChild(newElt, destElt); for (let oldScript of newElt.querySelectorAll(\"script\")) { let newScript = document.createElement(\"script\"); newScript.type = oldScript.type; newScript.textContent = oldScript.textContent; oldScript.parentNode.replaceChild(newScript, oldScript); } })(); requestAnimationFrame(() => { observer.observe(destElt); }); } })(); </script><div id=\"compress_html_71e7e05dba014056be4370de4675db34\"><script>window.treescope_decompress_enqueue(\"eNrtXY122zayfhVWPaeRN7Ksf8d2nHtlx39pnDSx26Rp9/hAJCQhpkgaBK0ou3mqfYT7YncGICmQomyzm7ik4vQ0kSj8EZgZzAy+GTz1xcymz+qCU+qbrkcvuOsK41+G5/pMMNfZNji1iWDXdMcYuo5YH5IJs2fbxsR1XN8jJjyfjpmg6/LLtuFxeGIzX6zLptfFzIOnjuvA4wExL0fcDRxr3XRtl2+rqjtG+G1gQwFoj1livG0MmYBijqCO2DEmhI+Ys27Todg2WuYY+3Do+piy0RieNOvdHePL0w31Ok99kzNPPDPY0KhOmWO50/kbGru7uwYMgQ6hAWsN3nWxhPGvLzsLj+sXHnUs5oz6Js6MD8X++OetxY6JY9nYpBPYdkbpERUXqdnfNarRpF8Id83YfQaD3PiH8dJ1L2ERuCHG1JAlHdeideMfG4ZNhRHW1arKpYHOq+q3H3YNyzWDCUxofeBaM+Onn4wf8Je6aRPffwmLVscJJ8zxq5XkoCprBk5V1AdW8giHlg5sOpEr9AV6FgF35I/wNeNdeeCcua6DLzh1+WX4ZtClL2Bk7+AR/pR4LJiJDz3K4cUnxDFp3XGn1bX41RZ+MdZVpadGu4VDzqKB9FLWbeqMxBhIw2hkUcTNa6reG2eA2j6dD30cODj2Wzv3x2wo8JVkDfzwBf676xiqUUlOrwLqi77DJgRLHHIyoVU1r2tr2SuSHooX+GO1Njt3mbhoELtqKvJM3d2HnTlw6kCtgD6nQ8o5tc7pxAOyp/4iAXk2PowJH6rx2Rm1qSlc3rdtIPSwri4EA+fCB0qtrO1Ihqsif0FLhjuUDeKLwr8a33A6ca9pgmu0NpZxQjUaK7Y/5O5niswhW1aCLzncakUJNmwSa8A3/dVMTuE1QobUy8KnOsphKKw6kd/C5/ST2FedaT/PH+7I4Shef4XihlOYLZPuA/tZVWihhgVwnZaulXBHI1uJkQsp/QUMTEo5eEJtUTPoNbQeTgWSnfxev6Qz5MgKr0SiBwprc67arVbiNi8mMMBKNI4vBuwHaiN4arFrQ1bcTcs1Q5ABDJh+2q00KobrQKcwekcrlz3+qhgzPxp5BbYctZHKnezChxLOSNKg3Nh+JO1mt4lbVH3o2hYZQHMou5dstF+MZLELNQIobTEfZn8WbajpgsYzwyYDam9vDyjQLdVGYMo/O5n9qV11vYnbarj5NnbmfTFH7rUD28XdeWmfY2AAvtizRfilT8kIptNZrL3tuKKaejQmfvWZbPNZ5jzIOtvmmJqXsIGvGf9Ym48Bq2ZXisonRihJfNt49GerOzAf/Z3DS1ZaOsjePQwS1xE7DriPC+i5DEbAM/pl/tfrVrKC7Ghd8pS/jMa/Tq/z10NZt9hLnfkXQ8Z9ceE6F0j+Gax1EyvVW13kpsylMv7r4asVTw8R3yqhJ0uG/lJH8QYTa12YKLO/ErVosigUDImuTWKbVdDTQRtrep+kSE6NAzaUbzaUgcstICQ1FMsV0CkOw/iRNvA/nBR/DFuadTEl3AFRfRHRYCQuh0NiNtsZBT3YumDpiYU6zToPzQ+c6PD9w0frjbqkgLnNsy1NFsLXR5xYDLfoZrtr0VHNcDlxRtRoGI16zxzDhgrffbXlqkeGmsDFoSzQwFeb0sRqRi/zpT4dU+cCJskmng+TeuuOlLvzG3pQ+5DsQxainzzQJpeW+RrjyOoifNH/Dc1hE0VBwjR+dApqGGfENs5mk4EL+ufrQOCwLCPStPZdb/YotKil5oDNghVjh8+moV3baQCx+tzcNgJuVy0iyDb+vjF1h8PWzoD4tNepWY2to9NRf68v/5y86fdd+Wnv7RT+Pj7s9w/6N/3Zm/T7o0v3Z+vkYG9/+nu/f/77/ov+6cnefv9w9Onk+OVY+HunjI7ah8/ft16e9H6/PvMC9stp97z54v3J299Or9+dfha/zA4P9x+/G12es73njTF7/iZ4cWAdfWwcDzaG1yeWd/Vzb3z1jrE3walzND4e/ir6v/b2XvFO//DEuTzomb8GgfP4bffK9C+n18NDe+Pq0+jAfTIavJgePWke9zec/tvuS85fNN8+Hn1uvLUa/RfD5ujV5v706GNr1HBnwdvNzclBszc9fr/1ejTy6PnlrENPBp+75oC/PhKkP3pz8mr6nPgz/01wcvL+3cHhtP/LG+/kd+vXjY3Ho83zzfdt0Rj+/MtV/7oLbb7sv9rsn077k9Hnt2ePgw9n9OD9p9awZ35+1Xl7POsGe/2fP+999A69Njt+s3/Q+BD80jnbdIZ7Lw+OD08nffb4yfVBa+w0x5uPB79N33+cHvPr50e/7jsfhwcHI/H4tfnBtje7W/svpntPxlud09Ojs/bRh/5octL9uPdmS5wf0eOtg729k6P281Hn7cbv5mzQP4I1/e3njf6bI9Knp/t2//jzwevRBzHq7f0yev365PneJXvTpYd77/f3Dk3W8Mbc9RygDe/DwfPm5+bl2XB/KMazn51jixz6x8PGq8nRwaventW/+u03jwj/7MPEsgjbag0/b3V+ZR+vet6E9167v++fMX40uX5x1D57d9Y+PGiZe2+G54+Pbdc76hz60y4ZXfWesA/07JXtvXP2jk+odcpp8O7qaH/SfHfIL8/OPnVbvXfv/GkfRrRmSAteVB9Jsn609jXYFzT32SAQwnUyhdT85yxVq2JUUqVg+weJnF34T9rsWJWdvyoEgNkHlwxqSmEwAStjDNJ92yCOgOoMeNyKPWTxBragnKna7DNIkkZ9i07Sb6m0uoy3yFbS5zXrU+JfmDbDiY3rk6FQOmLKuripz1SdZJf61BvXhFfX11HarRMHFlb6Bdb0x9gJOkxwowx1MNms0fQNCjO2DluXG4h8rxKPABaGUeuH5Ehkl8YPbOK5XBBnoe0Bdy/lzuXN5ir07bOrVdPmM9ZT0i7NBeN6LB0qsr56NTCsQbo5plFVPSS9bPAm5y4SHhQLR4DPfCrkoHBKcRxkSpgwHHLNRkS4HIxu5g1cwq36lDNBz0Fnrs7bgpUI25ob56AgVSvafEs/BBXnbEJhYWLHx0K9yJGSqvqlZrQajYYUDSYRoBJVpb6b3a82qZX54JKujios74/GIWE2EINwDSz8g+RJ0H2cgNj2DLQJX1BiIU081ucudDHM/QtISpGDIWkdpxW0yrOnSow9ZY4XCAM9MbsVKbgG7qdKZiOhjIMflXx79nRDVk72O4aWOHRxeSFAd6OiIke8fklnIM3Hu5XKsz9gwFABqodD0KsvaOeVm36v5Ov7j8Y/UzV0R0nl2U8/fmpt7vxkix3/p5GQH/4d+JT/G78Z78ZEwERKv/eEElR+pScOvk5B0zd+ugpcsfNe/fM/sjJ1rH/HLUGHQBrAs6q587s0g/2pT8wBBd0gQhaMbD6oWA8Lnog/1fB9XExmSsoJUHeFmrDtAnP5oPpf0rA9mFs//JUYeAhh+My+NMJGLE48aoVfEg/5LOupH35Rf8cLLP+pJWY8qVhXnhlR4YVCkdabXLJHc6n1yHCdfWTO3Uc3SCLpIlt7ZMTic7dStclkYBHpzNuWfwNlrFUMKeR2K5qohR00uzDumOm9AQpLvkRig8/huJ8lZyP1z9ej7ebK0TY3pI9XI/Jjd0phT6vJgr5HTTZkpiF1D49TtQogmB3cMWcGGiYW0IgsLTfWTwLpfTpmILnZnGGQTerGMQVdhOD/xpBOowr+vIYahDsMBzNB48gY0NLSfDMPzTeLSPOtUtO87BimEpQ0oPUr2OyZmCVEOhYneJgdM4UIB+2Cvugo+Q5ag0VRBRhQxRewMhRbBAq2om3C8N0JlSo9OnqMsTudP8H2LDBJ6sYh/ITaBp5j1oxwiGrzSAy7tCTfykPyrSKSfHuFSF4uxALBa6QNNYAnKEdpjlQLnbscdZtYOtflIKDIBAqwEXOIUPUOCAcF6BT0Vg5fnJHN/HENGIWzaygw5O5EDua1bRmHoGbG4h269l2nFsn48O3iF4AhlJb423mIv11E4u+Ul/jJAAzO8CGQsvo0ZWIckRqsKegkiwwAqgxzAz+m+BrsB2wCD6VlGPKHCLgU+dKFZRtoHsO46shRc2uAI0zBx/0CJhCqTcI+YY/xfddkknUIqlXwCAE+rtwjYGfAjkx3AhM/M3DMhguvy8vLCZ08nNApIid0V0DbJ5EKD2QXavo8Vv8z7NoMTQh1fWL7rsEmHlD4gNquM5Lj4PAFP2ikLSlX03pg7ihHnJm2m6AGRD8RaA0UIDUEfL0Bgt6QNdUW5o9LS/rdPKTfLSLp90qvAaGUltKa+GOlnqc3BuJ5lHAJJ1ymG6XV/rRaFZutC3q+IWkcXsOvhWIeFgT2CEEVUyUqKC4CxvPlkkl/UWmJv5eH+HtFJP7NFZD7VRDkhAtmBjYJfTxrN5kAuvsG+tE0HiBdqdTgB2WqznxpHvhUiHAbsF1T+YVihoB9x6SKDdCemBmCXFJfDWTZDlBakt/MQ/KbRST5J6WX95q7Pi3oQ4UC+eEWQzhU7ZGiI5NYN4LxHdEKRo0o5olIfVdCXLr6Nc7jLpL4R3cgtwEYYiBXu1ZaWn+Sh9afFJHWt1ZEt1lUaPy7eDUzFRsFa3Qd0JU8oGQxpRQJ2Q8GH8FSlTYsCRkIJLfCnasBoy6jSqXEejhWqdKgq7O0FL+Vh+K3Cnls1Vghh6Y5BqXdRCRHzAFIE4quSZrqURuyrikfSH+lclHW52dc6JgJfDKiksSjYS2eboW7QN04caTAhyI+9Wsx481H7fEwUKW8R1a5zmmbxTyoLfFJrXShcDoiHOV0WsgzZ/7bTaoMuifxe0jzUlPBE6ml0l5MXemwBKoWrsdMZbgyixI/W7InzqyA8TzKS31u1cx3VlvIw9pma2UcN5HE1xX22BUZa99kDlHwqRljGlBTkao4Su0aaChokvqJsy7iEBssWSBzIDUe0bEcAaK4QvsVRgd2rmrLHAfcHCeQCTB35aX3XAe1zUKe1DbbK03vdzioikh7woCywzNcAmQKZG6KgBO7llD2NX4hXAajKFU+9BHJ6NI0SicU/DgWCWpQ4ysv3ec6o20W8pC22fnOIAqaGhPT8tyHHtm2kec96UrX/TFhXxG73UGzCQ8QYjdpeek+14lss5BHss3uKlmyGnZsKe2jYq0cl0jIkjAz/edh6xbsJgwd7hHkIfEr2A2cilqGTSF3IpDx43ggTnkJPdf5a7OQB7DN1TmBXU7mKRD9zbI9VFcsHcCA/BEDDKZkdiO2wFcqTdTMYGaMqMNpJPRDCET0uOxg+2auc9hmIQ9im5srJO3nQIRbvfRo5gIPLFP676AE1QwbKV65cDTeUXbsnGFqergKK7HIz3UE2yzkGWzzycqIfH9MPJpB6WLqrstmFJg4U8O3gVID9MgvMVuBapPomcTGECn+y0NNdG/PYFZ2WzbXcWyzkOexza3V9eFoB00xxDKOK0YKhyUIEWGpyKfYCnAnTISWrEn8gNjqwKpmAKkHtghBB0yEAITIaMg6MI5GdV5mhH0z13lss5AHsq1yH8iSKP5puMSSjH5exN2b7mTiOlkaP9HQMXOboZbAKyeDE5fFJFo0TESIJ7fqhJemHUHlja7KdTrbKuTpbGsV4mgjnKPSQ9DsvJaedBMTdmh0n3VmpTskPVfoNF4zqFR1wqwEUZiJ3F0iF/8ck3aiHWjJ9hFqE+MSKCLagqQnyAdLorzEn+uItlXMeNrWKmMtEbzA4tC+pIYfq+DS5oypGd7tmqnAFJuOQL+J0pz6CeyxZgJM6GQg1Sx4GDhM8o/2s2RByQkJ95NuEpSXA/JF1xby0La1cGj77RKpzBOoZGVCSXLejetfArbUHK08raFJDSwrbYmyji02lJuHiJl0+0/nT6dZN15G24u0OrbDHk8iu8K23SmOUlk+GeqgOp+Wztnw10M3pX3dkaNy5635Dpds+cRmT07+GvdDErf/Uw5pnQtq0Cok1KDVWcUw2JqmcGN8HpvQm9zyGTCEOJ6PxOFPqUbnzJ0dJ6jsXWrVQo0lShwi4wbhS3mVlFxIg1YhkQat0iMNFsJDhPY03FwkXeO9B4o9ZjKaWzdP48i+hBsmC6HjDkH3Zmn1PeaSWDu3qCDMBgbDZA1RloQ5jm1+ZntNgWUwyLbE9mouJEKrkEiEVm81kp7dJN6zofPKNelJpHxNYwrlmFkaMVvT8Zf4DVhtgTmIYqSVT4XQygVDaBUShtDafLBXv4XxE9k7+QDPzDHtQHr3dZbj1GYjqXghu8WbjUMmMqDLddA5Ky8+Wopuxt3KtgOYXRxWHBmWMIQfDNeyrd39WcSracHmAta0CgmsaZUYWBMlbA2TtP7F1AYY/KcU/NThk0rhkbJbE4EhWlbLRbB8ItBEmq6YGYpSeSdWQn0qrwKTC2HTKiTCplV+hI0GCJBbTwIXcAvpJzIdmIyDBq7Sr8KOhMgY2ZZNZmCP3iEeREvqrYIFHeorPmF2eak8F6imVUhQTbvx3WUqTtK55pFcGuEtBXkc84rhUsodOSb+PFNflGEB3ZCmPx8OQ00L50nlAIwyQslElUnOKW/+1lzwmnYh4TXtZvkRBhLHq6s8MseHyq3BFOkhrmbiBo6oIXmChSBmUpI7QYQOiIhdQ9TEqAMBC+gpRnB08IC6oEg67aPEfBbzzcBX+etjPKejyF4zbvQJM0l5sfTtXCCbdiFBNu3Wg8vmWwftZjkAsg6rJ3j/1PLMaqF/FDcylZFTpmmI0kb54VamWH5upiQBoprFovkIZKKeyEUg3TgP7ptVWMf/1qWzIq6Zdi4oWLuYNy20VxkMedNNUjcln4xPixbTfKQRkjosWF6FK9M3JbNTSjUoDj9JnOja5UVCtvNdtVBIbE27/Gk8bokEWR78TfC3j4FjzgE2UY6yG+zX8Ja1mrZDhWZvHAKrsk5ix5HjBnob457khMFS83FHriEMBy8vJ+SC27QLCbdpd1eWE8jyDSAZDQXtLIR4pCDwmu8+Ar5nBEfNs1pmx0Rp0IX6nyU2VHOha9qFRNe0e9/TDpCMB9TuBgxStkZkUyg3ZfJ2hVhkE39J0u3F29k05gi9+P/3H1FeVE07F6qmXUhUTXtzdQ6llhvSBDR2PxL0oVAOO8AcCDWwqn0BpD90A0fSfuyITEZLJa+gSlkB9SQE/6agAmVyeJyaFBipvAyQC5bQLiQsof3kwUd5n/uRCk1Mcoi/7OLbeVLwO0WZ6xrVYuaRkPdVBs1knocQXfbgmCzp4t0HvGw1vZe5cDXtQuJq2lsPEvyb6FXotMmWAXdLfi/1o1o6D3L2tT76fcwx1lfqV2GZbQ2Yb9Hhg6guwCrdD6r3zlSwKjI5FwqsXUgUWKexQidKPAb+3sRHsaWYdcQa5o7RMb2hLqWBXvQzoRF3A++OOeBj7lcZK8t7V3Eu1FenkKivTnM1A1azc8ncHIidAAfH5J66iTi5qdwYfkftoXahmTxa4u60vCjHTi6IV6eQEK9Oa6UEfZz87hZhn3lCpCXRi6KmUeYzbnIynPvZE7eiwQuMHNwPauhIn1LbDm/IUbjGIaO2tTQDk8Zo5WWCXPiZTiHxM532aoQ23ZJHchE5MPGkw3wxdbY7GWBExjyldQgfRqtEfUa7ZZ4JVfnhs4JGZGrWJUpS7IMqL/Xngs90Cgmf6XRW+wgpK3swBh85AsFhGdmDo3zW0vcZPVKpZ6If8DjVxrvLEAyPiM4kBkFjKCn8ZfTtTFkWuAGp6wDPYyerOywvB+SCzXQKCZvpdB88kPd3SU9kigAt6iwps7su3ze0ewlx3yJc3BxZGzkhTxywxclkQrgyZ6jgM90LBU8mC8lxHjDtf9ea3YtL8i/RxIp4Jzu54F6dQsK9Or0HeX3PIPwbU9LH8mABiZlOXhJJ5dOU/b2NPDmPKgRbgjkwtaNZ6mI2TpzLBW3pO5bW97Ji9yKTvypFrIqszgVQ7BQSoNjZXM3YJP12Md19ngoMUpcBp/LeLR4dxc70JYh2wUR4bBSf6sLAL5NuyzTMV5BLqKPOvqq0Xl4TMxdMsVNImGLnyXeUPGZuHyym/9V5Re5P8+tqsNXAX5Y8KbyUeFkepcxNz4AWSuxazwXu6hQS3NXZWiXn4oKSZQUqj8Ydc/kpxDleY6miVPXTpyi1WJi4w2R+Ks2SEcBK8IUU2OqqnFu5obxckAtO0ykknKbbeDBY7xE8F4WvssxjL21LAhYMg1tvtYPyZc2kD4j0Eq3UA/z8L8rmbi7EV7eQiK/uiiO+FlOX3oTv0tRrTY9fgpRM3jbgUyKiQZskurKmGgsAvlZaHaSbC+nVLSTSq/uQzOtrI2/uirfJTOKtLqiPYGFxzETIm9u4CSq2U+dqfhaIppZIMYXjTgF2NJnwoIp87QW7n/CJeyKIVdFIcsERu4WEI3bLn85rQd1Pucuz0LA6rjZWUWJXuZaYIuUsX4LslV5EPbH6YhowNTwc7yCAdZrn9yqvopILj9gtJB6x23lQVL7V/X0aF4UxURpmXjO/dXbNMLG12BEdZ0XdESfeeCYPmfXrm+TmJXneXw6B1/JZkgc81jdftXtDWn0zqlgVlSUXgrZbSARtt1vqCAoZwZa83jQdPbpjZF6DmkSeL+FJCZPMVHnUjTNzr0umbkLMSwyUizMejSmYKzz075RXVckFROwWEojY7a306aaWLmYxGdyd8/DaegKAdKCdFrDHk8edd7hEBn2fpSX/XNiubiGxXd3N7+xGpCVHUgtXJKWRWCFuBSEsLMwdLS+s5kkIzJIbruOsu8sy1JWXCXIhu7qFRHZ1n6yS6mNmWBi1+b6QcoKm78GLwz1uUGyISgyAqpQh0CCXVoK8nWDuoUklxgjv2C4vnedCcnULieTqPqTp+psh/LdkvV4w91OaVhyVpatckaW9LHYuE4H/4Jwp9Nrdl2fnDrSxKi6aXBjEbiExiL3GairrSaj4QkqKDKAM2qoTJjASf0CHGL0/Ic7McNzACW9mJHpEv0cYh6Iy9wUTSR1cS9wlnTz4TqgUjWc+nsKWVmHp5QJ29QoJ7Oo1V+8YNVbbSaini3CYsUfybj4ZQc2xgxSacSqaCDeKL1FCu5erq5LijOm15K0xdCGeqcyJjXq5MF+9QmK+eg+Yr2+TbelWvS8recKS+7SXnHupaKjEfTRynxmTa2pYbAgWOG554eB9Y0CwYTeGZ0ZK/FF4/ra4H32fGLAyLeC9aPLLCWRFtPdeLkxYr5CYsF77QZLfW+awZTdQprMIOxobLwBFJZvHgiF5hYK/NFVRBJZIhvA9yO1iLde9Y2duIoeNfHIoRTG1gsjoXMDF3lcELqp//nmXaYhqWOwaCsLm74lnU1g/d1qfTwB1rgIa0Od4RMKpdU6BZoBO/eoa1Fd1/h+TlAXM\", \"compress_html_71e7e05dba014056be4370de4675db34\");</script><span style=\"color: #aaaaaa; font-family: monospace\">(Loading...)</span></div></div>"
      ],
      "text/plain": [
       "<IPython.core.display.HTML object>"
      ]
     },
     "metadata": {},
     "output_type": "display_data"
    },
    {
     "data": {
      "text/html": [
       "<div id=\"output_dest_70e5776a5d7b45de845b02a29a86d440\"><script> (()=>{ const output = document.getElementById(\"output_70e5776a5d7b45de845b02a29a86d440\"); const dest = document.getElementById(\"output_dest_70e5776a5d7b45de845b02a29a86d440\"); dest.parentNode.replaceChild(output, dest); })(); </script></div>"
      ],
      "text/plain": [
       "['<s><|user|> What is the meaning of the word \"X\"?<|end|><|assistant|> The meaning of the word \"X\" is \"in or at the position of.\" It\\'s typically used in phrases like \"dressed in a fine silk \\'draped\\' \\'drapery\\' \\'drapes\\'',\n",
       " '<s><|user|> What is the meaning of the word \"X\"?<|end|><|assistant|> The meaning of the word \"X\" is \"in or at the position or place of.\" However, the specific interpretation can vary based on the context in which it\\'s used. Here are a few contexts in which \"of\" might be',\n",
       " '<s><|user|> What is the meaning of the word \"X\"?<|end|><|assistant|> The meaning of the word \"X\" is \"in the manner or quality of.\" It is a preposition that is often used to describe the state or condition of something, or how something is done. For instance, in the phrase \"in the',\n",
       " '<s><|user|> What is the meaning of the word \"X\"?<|end|><|assistant|> The meaning of the word \"X\" is \"in the manner or style of.\" It is often used in literary or historical contexts. The term originated in Early Modern English, derived from the Old French \"en son,\" meaning \"in his',\n",
       " '<s><|user|> What is the meaning of the word \"X\"?<|end|><|assistant|> The meaning of the word \"X\" is \"about\" or \"with,\" and it is often used in various contexts, primarily in literature or formal writing. It typically refers to an item and its associated aspects or to someone in company with others',\n",
       " '<s><|user|> What is the meaning of the word \"X\"?<|end|><|assistant|> The meaning of the word \"X\" is \"in or at a specified place or position.\" It\\'s a preposition that can also imply belonging or being associated with something in certain contexts. For example, \"The book is on the sh',\n",
       " '<s><|user|> What is the meaning of the word \"X\"?<|end|><|assistant|> The meaning of the word \"X\" is \"in the form or fashion of\" or \"appearance.\" It is often used to describe the manner or style in which something is done or exists, or to indicate that something is being presented in a',\n",
       " '<s><|user|> What is the meaning of the word \"X\"?<|end|><|assistant|> The meaning of the word \"X\" is \"in or at (a particular place).\" It is often used in the context of literature to refer to the physical setting or location in which a scene or story takes place. For example, \"The',\n",
       " '<s><|user|> What is the meaning of the word \"X\"?<|end|><|assistant|> The meaning of the word \"X\" is \"in the position of\" or \"on the part of.\" It is often used in formal or literary contexts. This term can refer to someone being in a particular role, job, or situation,',\n",
       " '<s><|user|> What is the meaning of the word \"X\"?<|end|><|assistant|> The meaning of the word \"X\" is \"in the form of\" or \"as.\" It is a preposition that is used to describe the relationship between a subject and a part or element of that subject. For example, in the sentence,',\n",
       " '<s><|user|> What is the meaning of the word \"X\"?<|end|><|assistant|> The meaning of the word \"X\" is \"in the manner or character of\" when used as a preposition or adverb in English. However, its usage and meaning can vary based on context. In some cases, \"as\" is preferred',\n",
       " '<s><|user|> What is the meaning of the word \"X\"?<|end|><|assistant|> The meaning of the word \"X\" is \"with regard to\" or \"in regard to.\" It is often used in written English to show the relationship between two items, topics, or ideas. For example, in the phrase \"as per the',\n",
       " '<s><|user|> What is the meaning of the word \"X\"?<|end|><|assistant|> The meaning of the word \"X\" is \"in the form or manner of.\" It can also refer to a specific section or part in a text, such as in literary analysis, where \"the first scene is set in a church\" might use',\n",
       " '<s><|user|> What is the meaning of the word \"X\"?<|end|><|assistant|> The meaning of the word \"X\" is \"in the form or manner of.\" It is often used in various contexts, such as military or architectural, to describe a specific arrangement or placement. Here are a few examples of how \"',\n",
       " '<s><|user|> What is the meaning of the word \"X\"?<|end|><|assistant|> The meaning of the word \"X\" is \"in the manner or style of.\" It is often used in English to describe something that is done or presented in a particular style or manner. For example, in the phrase \"fashioned in the',\n",
       " '<s><|user|> What is the meaning of the word \"X\"?<|end|><|assistant|> The meaning of the word \"X\" is \"in the manner or condition of.\" It is often used as part of a phrase. For example, \"in the dormitory,\" \"in the garret,\" or \"in the flesh.\" In',\n",
       " '<s><|user|> What is the meaning of the word \"X\"?<|end|><|assistant|> The meaning of the word \"X\" is \"in the form or condition of.\" It is typically used to describe something that is arranged or positioned a certain way. For example, \"The books are arranged by genre in the \\'by genre\\'',\n",
       " '<s><|user|> What is the meaning of the word \"X\"?<|end|><|assistant|> The meaning of the word \"X\" is \"in the manner or fashion of.\" It is a preposition that can be used in various contexts to describe something that is done, looks, or is arranged in a certain way, like \"in',\n",
       " '<s><|user|> What is the meaning of the word \"X\"?<|end|><|assistant|> The meaning of the word \"X\" is \"in the form or shape of.\" It is a two-word term often used in English language to describe a specific way something is arranged or presented. Here are a few contexts where \"by\"',\n",
       " '<s><|user|> What is the meaning of the word \"X\"?<|end|><|assistant|> The meaning of the word \"X\" is \"in the form or manner of.\" However, it\\'s important to note that \"of\" is often omitted in casual usage, resulting in it being used as \"in the form of.\" This',\n",
       " '<s><|user|> What is the meaning of the word \"X\"?<|end|><|assistant|> The meaning of the word \"X\" is \"in a state of\" or \"in the state of,\" and it is commonly used to describe a situation, condition, or position. However, the interpretation can vary depending on its use in a particular',\n",
       " '<s><|user|> What is the meaning of the word \"X\"?<|end|><|assistant|> The meaning of the word \"X\" is \"in or at which a thing or event occurs\" and can also refer to a particular spot or position, especially in writing or military contexts. In literary references, \"en fou,\" \"sous',\n",
       " '<s><|user|> What is the meaning of the word \"X\"?<|end|><|assistant|> The meaning of the word \"X\" is \"in the position of\" or \"within,\" often used in contexts like military service or legal documents to refer to a specific member of a unit or a specific occurrence or condition. Here are a',\n",
       " '<s><|user|> What is the meaning of the word \"X\"?<|end|><|assistant|> The meaning of the word \"X\" is \"in the condition or state of\" and is typically used in a few different contexts:\\n\\n1. Literary usage: \"In the following manner\" or \"in such a way.\" For',\n",
       " '<s><|user|> What is the meaning of the word \"X\"?<|end|><|assistant|> The meaning of the word \"X\" is \"in or at a specified place, position, or time.\" It is a preposition used in English to indicate a location, position, or condition in which something is situated, occurring, or existing',\n",
       " '<s><|user|> What is the meaning of the word \"X\"?<|end|><|assistant|> The meaning of the word \"X\" is \"in the\" or \"at the\" and is used for specifying a particular location or position. It is often used in official documents to indicate specific details about an item, such as \"The vehicle is',\n",
       " '<s><|user|> What is the meaning of the word \"X\"?<|end|><|assistant|> The meaning of the word \"X\" is \"in or at the.\" It is a preposition often used in written descriptions, particularly in the context of literature, architecture, and official documentation. For example, \"The book is on the sh',\n",
       " '<s><|user|> What is the meaning of the word \"X\"?<|end|><|assistant|> The meaning of the word \"X\" is \"in the state of.\" It is often used in various contexts, including literature, religion, and specific naming conventions. Here are a few examples to illustrate its usage:\\n\\n1. Liter',\n",
       " '<s><|user|> What is the meaning of the word \"X\"?<|end|><|assistant|> The meaning of the word \"X\" is \"at the place of\" or \"on the part of.\" It is often used to specify a particular setting, position, or arrangement of something. For example, in architectural or engineering descriptions,',\n",
       " '<s><|user|> What is the meaning of the word \"X\"?<|end|><|assistant|> The meaning of the word \"X\" is \"in the condition, state, or position of.\" It is often used to describe the circumstances, form, or layout. For example, in the phrase \"dressed in the finest of sil',\n",
       " '<s><|user|> What is the meaning of the word \"X\"?<|end|><|assistant|> The meaning of the word \"X\" is \"in the manner or quality of.\" It is a preposition often used to indicate a relationship between two things, where one thing has certain characteristics or qualities that belong to the other. For example,',\n",
       " '<s><|user|> What is the meaning of the word \"X\"?<|end|><|assistant|> The meaning of the word \"X\" is \"in the presence of\" when referring to an amount, quantity, or number of things, especially military troops, when a specific formation is being discussed. However, in other contexts, the meaning can',\n",
       " '<s><|user|> What is the meaning of the word \"X\"?<|end|><|assistant|> The meaning of the word \"X\" is \"in the manner or state of.\" It is typically used in a more formal or literary context and often appears in sentences relating to position, condition, or arrangement. Here are some examples:\\n\\n',\n",
       " '<s><|user|> What is the meaning of the word \"X\"?<|end|><|assistant|> The meaning of the word \"X\" is \"in the position of\" or \"at the position of.\" It is often used in formal or official contexts, such as legal documents or military orders, to refer to something\\'s location or pla',\n",
       " '<s><|user|> What is the meaning of the word \"X\"?<|end|><|assistant|> The meaning of the word \"X\" is \"in the state of\" or \"in the condition of.\" It is a conjunction used to show a relationship between two phrases, typically indicating that the second phrase is happening in the state described by',\n",
       " '<s><|user|> What is the meaning of the word \"X\"?<|end|><|assistant|> The meaning of the word \"X\" is \"in the state of\" or \"a position of.\" It is commonly used in military contexts to refer to a particular unit or position. However, its usage can vary depending on the context.\\n',\n",
       " '<s><|user|> What is the meaning of the word \"X\"?<|end|><|assistant|> The meaning of the word \"X\" is \"in the state of\" or \"in the condition of,\" and it\\'s usually used in a context where something is described as being in a particular state or condition. However, \"dóth',\n",
       " '<s><|user|> What is the meaning of the word \"X\"?<|end|><|assistant|> The meaning of the word \"X\" is \"in the condition or state of.\" It is a less common usage of the term, mostly found in specific contexts like literature or legal documents. \"In the condition or state of\" often precedes',\n",
       " '<s><|user|> What is the meaning of the word \"X\"?<|end|><|assistant|> The meaning of the word \"X\" is \"in the state of\" or \"within the conditions of.\" However, the usage and interpretation can vary depending on the context. Here are a few common uses of \"of\":\\n\\n1.',\n",
       " '<s><|user|> What is the meaning of the word \"X\"?<|end|><|assistant|> The meaning of the word \"X\" is \"in the case of\" or \"with regard to.\" It is often used in legal, architectural, or literary contexts. For instance:\\n\\n1. Legal context: \"The def',\n",
       " '<s><|user|> What is the meaning of the word \"X\"?<|end|><|assistant|> The meaning of the word \"X\" is \"in the position or place of.\" It is often used in contexts relating to positioning or arrangement within a specific location or group. Here are a few examples of how \"of\" can be',\n",
       " '<s><|user|> What is the meaning of the word \"X\"?<|end|><|assistant|> The meaning of the word \"X\" is \"in the\" or \"at the,\" often used in English to indicate a location or position within a certain context. For instance, \"The book is on the shelf, in the second row,',\n",
       " '<s><|user|> What is the meaning of the word \"X\"?<|end|><|assistant|> The meaning of the word \"X\" is \"in the position or situation of.\" It is often used in military contexts to describe a vehicle or aircraft\\'s position or assignment, as well as in other fields to refer to a specific location or',\n",
       " '<s><|user|> What is the meaning of the word \"X\"?<|end|><|assistant|> The meaning of the word \"X\" is \"at the place\" or \"in the state of.\" It is a compound preposition that combines \"in\" with \"case.\" The term is often used to denote a specific location or condition',\n",
       " '<s><|user|> What is the meaning of the word \"X\"?<|end|><|assistant|> The meaning of the word \"X\" is \"in the condition or state of.\" However, it\\'s essential to note that \"by\" and \"by which\" are slightly more commonly used prepositions to convey related ideas. The usage of',\n",
       " '<s><|user|> What is the meaning of the word \"X\"?<|end|><|assistant|> The meaning of the word \"X\" is \"in the manner or condition of,\" but it\\'s also used to denote a specific section or compartment of something. For example:\\n\\n1. In grammar or poetry: \"The poem is',\n",
       " '<s><|user|> What is the meaning of the word \"X\"?<|end|><|assistant|> The meaning of the word \"X\" is \"in the position of\" or \"in the state of,\" and it\\'s commonly used in various contexts:\\n\\n1. Military context: In military terminology, \"in the rank of',\n",
       " '<s><|user|> What is the meaning of the word \"X\"?<|end|><|assistant|> The meaning of the word \"X\" is \"in the position of\" or can be used to indicate location or placement, particularly within a specific context. It is commonly used in titles of literary works to describe where something takes place (e.',\n",
       " '<s><|user|> What is the meaning of the word \"X\"?<|end|><|assistant|> The meaning of the word \"X\" is \"in the condition, state, or position of.\" It\\'s a preposition used to indicate the situation, status, or arrangement of someone or something. For example, \"in the state of emer',\n",
       " '<s><|user|> What is the meaning of the word \"X\"?<|end|><|assistant|> The meaning of the word \"X\" is \"in the condition of\" or \"during the state of.\" It is often used in legal or formal contexts to specify the precise circumstances under which something occurs. For example, \"in the state',\n",
       " '<s><|user|> What is the meaning of the word \"X\"?<|end|><|assistant|> The meaning of the word \"X\" is \"in the case of\" or \"at the site of.\" It is a prepositional phrase commonly used in various contexts. Here are a few examples to illustrate its use:\\n\\n1.',\n",
       " '<s><|user|> What is the meaning of the word \"X\"?<|end|><|assistant|> The meaning of the word \"X\" is \"in the\" or \"at the,\" used to specify a location or position within something. It\\'s often used in contexts such as \"seat of the car\" (in the car)',\n",
       " '<s><|user|> What is the meaning of the word \"X\"?<|end|><|assistant|> The meaning of the word \"X\" is \"at\" or \"in the state of.\" In various contexts, it can refer to:\\n\\n1. Location: It often denotes a specific location, typically using \"in\" or \"at',\n",
       " '<s><|user|> What is the meaning of the word \"X\"?<|end|><|assistant|> The meaning of the word \"X\" is \"in the case of\" or can be used to refer to a specific position or location within a particular context. It is often used in military or architectural contexts, such as \"the building\\'',\n",
       " '<s><|user|> What is the meaning of the word \"X\"?<|end|><|assistant|> The meaning of the word \"X\" is \"in or at a particular place or situation.\" It can be used in various contexts in English:\\n\\n1. In geography and architecture: It refers to a specific location or position, as',\n",
       " '<s><|user|> What is the meaning of the word \"X\"?<|end|><|assistant|> The meaning of the word \"X\" is \"at or in a specified position or place; in or at a specified condition or situation.\" It can also refer to a specific part of something, such as \"the back row of the theater,\"',\n",
       " '<s><|user|> What is the meaning of the word \"X\"?<|end|><|assistant|> The meaning of the word \"X\" is \"in the condition of\" or \"within the state or condition of.\" It is often used in formal or legal contexts to describe a situation or circumstances. For example, in the phrase \"the',\n",
       " '<s><|user|> What is the meaning of the word \"X\"?<|end|><|assistant|> The meaning of the word \"X\" is \"in the condition, state, or position of.\" It is a prepositional phrase used to describe where something or someone is located, or the situation in which something is happening. \"In the condition',\n",
       " '<s><|user|> What is the meaning of the word \"X\"?<|end|><|assistant|> The meaning of the word \"X\" is \"at or in a specific place or situation,\" or it can refer to a particular section or part of something, such as a book or a table. In some contexts, \"of\" is used',\n",
       " '<s><|user|> What is the meaning of the word \"X\"?<|end|><|assistant|> The meaning of the word \"X\" is \"in the position of\" or \"in the state of.\" It is commonly used in various contexts to describe a specific situation or location. For example:\\n\\n1. In military terminology,',\n",
       " '<s><|user|> What is the meaning of the word \"X\"?<|end|><|assistant|> The meaning of the word \"X\" is \"in the condition, state, or arrangement of.\" The term \"in the\" is omitted before many nouns that are commonly paired with it. \"In the\" can also mean a physical',\n",
       " '<s><|user|> What is the meaning of the word \"X\"?<|end|><|assistant|> The meaning of the word \"X\" is \"in the case of\" or \"at a place that is specified.\" It is often used in formal or technical contexts, such as in titles of official reports or documents, indicating the specific context or',\n",
       " '<s><|user|> What is the meaning of the word \"X\"?<|end|><|assistant|> The meaning of the word \"X\" is \"at the position of\" or \"in the condition of,\" often used to describe a specific location or status. However, it can have different meanings based on context:\\n\\n1. Geographical',\n",
       " '<s><|user|> What is the meaning of the word \"X\"?<|end|><|assistant|> The meaning of the word \"X\" is \"in the condition or state of\" or \"at the place of.\" In different contexts, it can have specific interpretations. For example:\\n\\n1. In geography, \"in the']"
      ]
     },
     "metadata": {},
     "output_type": "display_data"
    }
   ],
   "source": [
    "display(texts)"
   ]
  }
 ],
 "metadata": {
  "kernelspec": {
   "display_name": "micrlhf-progress-_SD4q1c9-py3.12",
   "language": "python",
   "name": "python3"
  },
  "language_info": {
   "codemirror_mode": {
    "name": "ipython",
    "version": 3
   },
   "file_extension": ".py",
   "mimetype": "text/x-python",
   "name": "python",
   "nbconvert_exporter": "python",
   "pygments_lexer": "ipython3",
   "version": "3.12.3"
  }
 },
 "nbformat": 4,
 "nbformat_minor": 2
}
