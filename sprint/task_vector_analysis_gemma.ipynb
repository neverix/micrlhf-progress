{
 "cells": [
  {
   "cell_type": "code",
   "execution_count": 3,
   "metadata": {},
   "outputs": [],
   "source": [
    "import os\n",
    "if \"models\" not in os.listdir(\".\"):\n",
    "    os.chdir(\"../..\")\n"
   ]
  },
  {
   "cell_type": "code",
   "execution_count": 2,
   "metadata": {},
   "outputs": [],
   "source": [
    "from penzai import pz\n",
    "import json\n",
    "\n",
    "from matplotlib import pyplot as plt\n",
    "from tqdm.auto import tqdm, trange\n",
    "import jax.numpy as jnp\n",
    "import numpy as np\n",
    "import random\n",
    "from penzai.data_effects.side_output import SideOutputValue\n",
    "from micrlhf.utils.activation_manipulation import add_vector\n"
   ]
  },
  {
   "cell_type": "code",
   "execution_count": 3,
   "metadata": {},
   "outputs": [],
   "source": [
    "from micrlhf.llama import LlamaTransformer\n",
    "llama = LlamaTransformer.from_pretrained(\"models/gemma-2-2b-it.gguf\",\n",
    "                                         from_type=\"gemma2\",\n",
    "                                         load_eager=True\n",
    "                                         )"
   ]
  },
  {
   "cell_type": "code",
   "execution_count": 4,
   "metadata": {},
   "outputs": [],
   "source": [
    "from transformers import AutoTokenizer\n",
    "import jax\n",
    "tokenizer = AutoTokenizer.from_pretrained(\"alpindale/gemma-2b\")\n",
    "tokenizer.padding_side = \"right\""
   ]
  },
  {
   "cell_type": "code",
   "execution_count": 5,
   "metadata": {},
   "outputs": [],
   "source": [
    "from sprint.task_vector_utils import load_tasks, ICLDataset, ICLSequence\n",
    "tasks = load_tasks()"
   ]
  },
  {
   "cell_type": "code",
   "execution_count": 4,
   "metadata": {},
   "outputs": [],
   "source": [
    "import json, numpy as np\n",
    "\n",
    "with open(\"cleanup_results_gemma_2_all.jsonl\", \"r\") as f:\n",
    "    cleanup_results = [json.loads(line) for line in f]"
   ]
  },
  {
   "cell_type": "code",
   "execution_count": 5,
   "metadata": {},
   "outputs": [
    {
     "name": "stdout",
     "output_type": "stream",
     "text": [
      "24\n"
     ]
    }
   ],
   "source": [
    "task = \"algo_last\"\n",
    "layer = 18\n",
    "\n",
    "task_results = [result for result in cleanup_results if result[\"layer\"] == layer]\n",
    "\n",
    "print(len(task_results))"
   ]
  },
  {
   "cell_type": "code",
   "execution_count": 6,
   "metadata": {},
   "outputs": [
    {
     "name": "stdout",
     "output_type": "stream",
     "text": [
      "[3.788361  3.9346428 3.9553483 ... 3.785629  3.8830051 3.980076 ]\n"
     ]
    }
   ],
   "source": [
    "from micrlhf.utils.load_sae import sae_encode, get_dm_res_sae\n",
    "\n",
    "sae = get_dm_res_sae(layer)\n",
    "threshold = sae.get(\"threshold\", 0)\n",
    "\n",
    "print(threshold)"
   ]
  },
  {
   "cell_type": "code",
   "execution_count": 44,
   "metadata": {},
   "outputs": [
    {
     "name": "stdout",
     "output_type": "stream",
     "text": [
      "[14456  1255  3383 11357 12551  6909]\n",
      "[72.49621582 45.55445862 40.62357712 40.61974716 33.73713684 32.03196335]\n",
      "TV loss: 3.515625\n",
      "FS loss: 0.78125\n",
      "ITO loss:  3.71875\n"
     ]
    }
   ],
   "source": [
    "for r in task_results:\n",
    "    task = r[\"task\"]\n",
    "    \n",
    "    weights = np.array(task_results[0][\"weights\"])\n",
    "\n",
    "    i = np.argwhere(weights > threshold).flatten()\n",
    "    w = weights[i]\n",
    "\n",
    "    idx = np.argsort(w)[::-1]\n",
    "\n",
    "    i = i[idx]\n",
    "    w = w[idx]\n",
    "\n",
    "    print(\n",
    "        f\"TV loss: {task_results[0]['tv_loss']}\"\n",
    "    )\n",
    "    print(\n",
    "        f\"FS loss: {task_results[0]['loss']}\"\n",
    "    )\n",
    "    print(\n",
    "        \"ITO loss: \", task_results[0][\"ito_loss\"]\n",
    "    )"
   ]
  }
 ],
 "metadata": {
  "kernelspec": {
   "display_name": "micrlhf-progress-_SD4q1c9-py3.10",
   "language": "python",
   "name": "python3"
  },
  "language_info": {
   "codemirror_mode": {
    "name": "ipython",
    "version": 3
   },
   "file_extension": ".py",
   "mimetype": "text/x-python",
   "name": "python",
   "nbconvert_exporter": "python",
   "pygments_lexer": "ipython3",
   "version": "3.10.12"
  }
 },
 "nbformat": 4,
 "nbformat_minor": 2
}
