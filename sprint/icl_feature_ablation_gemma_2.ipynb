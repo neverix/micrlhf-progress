{
 "cells": [
  {
   "cell_type": "code",
   "execution_count": 1,
   "metadata": {},
   "outputs": [],
   "source": [
    "import os\n",
    "if \"models\" not in os.listdir(\".\"):\n",
    "    os.chdir(\"../..\")"
   ]
  },
  {
   "cell_type": "code",
   "execution_count": 2,
   "metadata": {},
   "outputs": [],
   "source": [
    "%load_ext autoreload\n",
    "%autoreload 2\n",
    "import penzai\n",
    "import jax_smi\n",
    "jax_smi.initialise_tracking()\n",
    "from penzai import pz\n",
    "pz.ts.register_as_default()\n",
    "pz.ts.register_autovisualize_magic()\n",
    "pz.enable_interactive_context()"
   ]
  },
  {
   "cell_type": "code",
   "execution_count": 3,
   "metadata": {},
   "outputs": [],
   "source": [
    "from micrlhf.llama import LlamaTransformer\n",
    "llama = LlamaTransformer.from_pretrained(\"models/gemma-2-2b-it.gguf\",\n",
    "                                         from_type=\"gemma2\",\n",
    "                                         load_eager=True\n",
    "                                         )"
   ]
  },
  {
   "cell_type": "code",
   "execution_count": 4,
   "metadata": {},
   "outputs": [],
   "source": [
    "from transformers import AutoTokenizer\n",
    "tokenizer = AutoTokenizer.from_pretrained(\"alpindale/gemma-2b\")\n",
    "tokenizer.padding_side = \"right\""
   ]
  },
  {
   "cell_type": "code",
   "execution_count": 5,
   "metadata": {},
   "outputs": [],
   "source": [
    "from sprint.icl_sfc_utils_gemma_2 import Circuitizer"
   ]
  },
  {
   "cell_type": "code",
   "execution_count": 6,
   "metadata": {},
   "outputs": [
    {
     "name": "stderr",
     "output_type": "stream",
     "text": [
      "fatal: destination path 'data/itv' already exists and is not an empty directory.\n"
     ]
    }
   ],
   "source": [
    "from sprint.task_vector_utils import load_tasks, ICLRunner\n",
    "tasks = load_tasks()"
   ]
  },
  {
   "cell_type": "code",
   "execution_count": 7,
   "metadata": {},
   "outputs": [],
   "source": [
    "task_names = [\"en_es\", \"antonyms\", \"person_profession\"]\n",
    "task_name = task_names[0]\n",
    "task_name = \"antonyms\""
   ]
  },
  {
   "cell_type": "code",
   "execution_count": 8,
   "metadata": {},
   "outputs": [
    {
     "name": "stdout",
     "output_type": "stream",
     "text": [
      "env: JAX_TRACEBACK_FILTERING=off\n"
     ]
    }
   ],
   "source": [
    "%env JAX_TRACEBACK_FILTERING=off\n",
    "import jax\n",
    "jax.config.update('jax_traceback_filtering', 'off')"
   ]
  },
  {
   "cell_type": "code",
   "execution_count": 9,
   "metadata": {},
   "outputs": [
    {
     "name": "stdout",
     "output_type": "stream",
     "text": [
      "162\n",
      "162\n",
      "Setting up masks...\n"
     ]
    },
    {
     "name": "stdout",
     "output_type": "stream",
     "text": [
      "Running metrics...\n",
      "Setting up RMS...\n"
     ]
    },
    {
     "data": {
      "application/vnd.jupyter.widget-view+json": {
       "model_id": "d7a4ff47e3b2432e9b48039ff8e0458d",
       "version_major": 2,
       "version_minor": 0
      },
      "text/plain": [
       "  0%|          | 0/26 [00:00<?, ?it/s]"
      ]
     },
     "metadata": {},
     "output_type": "display_data"
    },
    {
     "name": "stdout",
     "output_type": "stream",
     "text": [
      "Loading SAEs...\n"
     ]
    },
    {
     "data": {
      "application/vnd.jupyter.widget-view+json": {
       "model_id": "9a2a635499854346bd8794fc9c310028",
       "version_major": 2,
       "version_minor": 0
      },
      "text/plain": [
       "  0%|          | 0/7 [00:00<?, ?it/s]"
      ]
     },
     "metadata": {},
     "output_type": "display_data"
    },
    {
     "name": "stdout",
     "output_type": "stream",
     "text": [
      "Running node IEs...\n"
     ]
    },
    {
     "data": {
      "application/vnd.jupyter.widget-view+json": {
       "model_id": "1a521b398d684daa87dc982fe22f83fd",
       "version_major": 2,
       "version_minor": 0
      },
      "text/plain": [
       "  0%|          | 0/7 [00:00<?, ?it/s]"
      ]
     },
     "metadata": {},
     "output_type": "display_data"
    },
    {
     "data": {
      "application/vnd.jupyter.widget-view+json": {
       "model_id": "8ad4487412bf45c1bf2267473fb95b53",
       "version_major": 2,
       "version_minor": 0
      },
      "text/plain": [
       "  0%|          | 0/7 [00:00<?, ?it/s]"
      ]
     },
     "metadata": {},
     "output_type": "display_data"
    },
    {
     "data": {
      "application/vnd.jupyter.widget-view+json": {
       "model_id": "920e9da2f7594a63a24ae75c2906e3cc",
       "version_major": 2,
       "version_minor": 0
      },
      "text/plain": [
       "  0%|          | 0/6 [00:00<?, ?it/s]"
      ]
     },
     "metadata": {},
     "output_type": "display_data"
    }
   ],
   "source": [
    "def check_if_single_token(token):\n",
    "    return len(tokenizer.tokenize(token)) == 1\n",
    "\n",
    "task = tasks[task_name]\n",
    "\n",
    "print(len(task))\n",
    "\n",
    "# task = {\n",
    "#     k:v for k,v in task.items() if check_if_single_token(k) and check_if_single_token(v)\n",
    "# }\n",
    "\n",
    "print(len(task))\n",
    "\n",
    "pairs = list(task.items())\n",
    "\n",
    "batch_size = 8 \n",
    "n_shot=16\n",
    "if task_name.startswith(\"algo\"):\n",
    "    n_shot = 8\n",
    "max_seq_len = 128\n",
    "seed = 10\n",
    "\n",
    "prompt = \"Follow the pattern:\\n{}\"\n",
    "\n",
    "runner = ICLRunner(task_name, pairs, batch_size=batch_size, n_shot=n_shot, max_seq_len=max_seq_len, seed=seed, prompt=prompt, use_same_examples=False, use_same_target=False)\n",
    "\n",
    "\n",
    "layers = list(range(15, 22))\n",
    "circuitizer = Circuitizer(llama, tokenizer, runner, layers, prompt)\n",
    "\n",
    "# circuitizer.run_metrics()"
   ]
  },
  {
   "cell_type": "code",
   "execution_count": 11,
   "metadata": {},
   "outputs": [
    {
     "data": {
      "application/vnd.jupyter.widget-view+json": {
       "model_id": "8006aee7c79f4c538dc45a42b36dd9db",
       "version_major": 2,
       "version_minor": 0
      },
      "text/plain": [
       "  0%|          | 0/50 [00:00<?, ?it/s]"
      ]
     },
     "metadata": {},
     "output_type": "display_data"
    }
   ],
   "source": [
    "import numpy as np\n",
    "# thresholds = np.linspace(-1e-2, 1e-4, 200)\n",
    "# thresholds = np.linspace(1.4 * 1e-4, 1.45 * 1e-4, 200)\n",
    "# thresholds = np.logspace(-7, -2, 100)\n",
    "thresholds = np.linspace(0, 1e-5, 50)\n",
    "topks = [4, 6, 12, 16, 24, 32]\n",
    "\n",
    "\n",
    "ablated_metrics, n_nodes_counts = circuitizer.run_ablated_metrics(thresholds, inverse=False, \n",
    "                                                                  do_abs=True, mean_ablate=False, \n",
    "                                                                  average_over_positions=True,\n",
    "                                                                  token_prefix=None)\n",
    "\n",
    "\n",
    "\n",
    "# target_metric = (max(ablated_metrics) - min(ablated_metrics)) * 0.95 + min(ablated_metrics)\n",
    "# target_threshold = [threshold for threshold, metric in reversed(list(zip(thresholds, ablated_metrics))) if metric > target_metric][0]"
   ]
  },
  {
   "cell_type": "code",
   "execution_count": 23,
   "metadata": {},
   "outputs": [
    {
     "data": {
      "application/vnd.jupyter.widget-view+json": {
       "model_id": "6ed9ff50342945328488e4558e594d2d",
       "version_major": 2,
       "version_minor": 0
      },
      "text/plain": [
       "  0%|          | 0/3 [00:00<?, ?it/s]"
      ]
     },
     "metadata": {},
     "output_type": "display_data"
    },
    {
     "data": {
      "text/html": [
       "<script> (()=>{ if (customElements.get('treescope-container') === undefined) { class TreescopeContainer extends HTMLElement { constructor() { super(); this.attachShadow({mode: \"open\"}); this.defns = {}; this.state = {}; } } customElements.define(\"treescope-container\", TreescopeContainer); } if (customElements.get('treescope-run-here') === undefined) { class RunHere extends HTMLElement { constructor() { super() } connectedCallback() { const run = child => { const fn = new Function(child.textContent); child.textContent = \"\"; fn.call(this); this.remove(); }; const child = this.querySelector(\"script\"); if (child) { run(child); } else { new MutationObserver(()=>{ run(this.querySelector(\"script\")); }).observe(this, {childList: true}); } } } customElements.define(\"treescope-run-here\", RunHere); } })(); </script> <treescope-container class=\"treescope_out_93cd6965f39c4c4293bb27dda7393835\" ></treescope-container> <treescope-run-here><script type=\"application/octet-stream\"> const root = ( Array.from(document.getElementsByClassName( \"treescope_out_93cd6965f39c4c4293bb27dda7393835\")) .filter((elt) => !elt.dataset.setup) )[0]; root.dataset.setup = 1; const msg = document.createElement(\"span\"); msg.style = \"color: #aaaaaa; font-family: monospace; transition: opacity 0.2s; opacity: 0.0;\"; msg.textContent = \"(Loading...)\"; root.state.loadingMsg = msg; root.shadowRoot.appendChild(msg); root.state.chain = new Promise((resolve, reject) => { const observer = new IntersectionObserver((entries) => { for (const entry of entries) { if (entry.isIntersecting) { resolve(); observer.disconnect(); return; } } }, {rootMargin: \"1000px\"}); window.setTimeout(() => { if (root.loadingMsg) { root.loadingMsg.style.opacity = \"1.0\"; } observer.observe(root); }, 0); }); root.state.deferring = false; const _insertNode = (node) => { for (let oldScript of node.querySelectorAll(\"script\")) { let newScript = document.createElement(\"script\"); newScript.type = oldScript.type; newScript.textContent = oldScript.textContent; oldScript.parentNode.replaceChild(newScript, oldScript); } if (root.state.loadingMsg) { root.state.loadingMsg.remove(); root.state.loadingMsg = null; } root.shadowRoot.appendChild(node); }; root.defns.insertContent = ((contentNode, compressed) => { if (compressed) { root.state.deferring = true; } if (root.state.deferring) { root.state.chain = (async () => { await root.state.chain; if (compressed) { const encoded = contentNode.textContent; const blob = new Blob([ Uint8Array.from(atob(encoded), (m) => m.codePointAt(0)) ]); const reader = blob.stream().pipeThrough( new DecompressionStream(\"deflate\") ).pipeThrough( new TextDecoderStream(\"utf-8\") ).getReader(); const parts = []; while (true) { const step = await reader.read(); if (step.done) { break; } parts.push(step.value); } const tpl = document.createElement('template'); tpl.innerHTML = parts.join(\"\"); _insertNode(tpl.content); } else { _insertNode(contentNode.content); } })(); } else { _insertNode(contentNode.content); } }); </script></treescope-run-here><div style=\"display:none\"> <script type=\"application/octet-stream\" >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</script> <treescope-run-here><script type=\"application/octet-stream\"> const root = ( Array.from(document.getElementsByClassName( \"treescope_out_93cd6965f39c4c4293bb27dda7393835\")) .filter((elt) => !elt.dataset['step0']) )[0]; root.dataset['step0'] = 1; root.defns.insertContent( this.parentNode.querySelector('script[type=\"application/octet-stream\"]'), true ); this.parentNode.remove(); </script></treescope-run-here> </div>"
      ],
      "text/plain": [
       "<IPython.core.display.HTML object>"
      ]
     },
     "metadata": {},
     "output_type": "display_data"
    },
    {
     "data": {
      "text/html": [
       "<treescope-run-here><script type=\"application/octet-stream\"> const root = ( Array.from(document.getElementsByClassName( \"treescope_out_93cd6965f39c4c4293bb27dda7393835\")) .filter((elt) => !elt.dataset.stolen) )[0]; root.dataset.stolen = 1; this.parentNode.replaceChild(root, this); </script></treescope-run-here>"
      ],
      "text/plain": [
       "([-0.12146639823913574, -0.12444095313549042, -0.11790468543767929],\n",
       " [1966080, 45566, 37332])"
      ]
     },
     "execution_count": 23,
     "metadata": {},
     "output_type": "execute_result"
    }
   ],
   "source": [
    "circuitizer.run_ablated_metrics([-1, 0, 1e-7], sae_types=[\"transcoder\", \"attn_out\"], do_abs=True, average_over_positions=True)"
   ]
  },
  {
   "cell_type": "code",
   "execution_count": 32,
   "metadata": {},
   "outputs": [
    {
     "data": {
      "text/html": [
       "<script> (()=>{ if (customElements.get('treescope-container') === undefined) { class TreescopeContainer extends HTMLElement { constructor() { super(); this.attachShadow({mode: \"open\"}); this.defns = {}; this.state = {}; } } customElements.define(\"treescope-container\", TreescopeContainer); } if (customElements.get('treescope-run-here') === undefined) { class RunHere extends HTMLElement { constructor() { super() } connectedCallback() { const run = child => { const fn = new Function(child.textContent); child.textContent = \"\"; fn.call(this); this.remove(); }; const child = this.querySelector(\"script\"); if (child) { run(child); } else { new MutationObserver(()=>{ run(this.querySelector(\"script\")); }).observe(this, {childList: true}); } } } customElements.define(\"treescope-run-here\", RunHere); } })(); </script> <treescope-container class=\"treescope_out_0b184eae18884caa820796568a450912\" ></treescope-container> <treescope-run-here><script type=\"application/octet-stream\"> const root = ( Array.from(document.getElementsByClassName( \"treescope_out_0b184eae18884caa820796568a450912\")) .filter((elt) => !elt.dataset.setup) )[0]; root.dataset.setup = 1; const msg = document.createElement(\"span\"); msg.style = \"color: #aaaaaa; font-family: monospace; transition: opacity 0.2s; opacity: 0.0;\"; msg.textContent = \"(Loading...)\"; root.state.loadingMsg = msg; root.shadowRoot.appendChild(msg); root.state.chain = new Promise((resolve, reject) => { const observer = new IntersectionObserver((entries) => { for (const entry of entries) { if (entry.isIntersecting) { resolve(); observer.disconnect(); return; } } }, {rootMargin: \"1000px\"}); window.setTimeout(() => { if (root.loadingMsg) { root.loadingMsg.style.opacity = \"1.0\"; } observer.observe(root); }, 0); }); root.state.deferring = false; const _insertNode = (node) => { for (let oldScript of node.querySelectorAll(\"script\")) { let newScript = document.createElement(\"script\"); newScript.type = oldScript.type; newScript.textContent = oldScript.textContent; oldScript.parentNode.replaceChild(newScript, oldScript); } if (root.state.loadingMsg) { root.state.loadingMsg.remove(); root.state.loadingMsg = null; } root.shadowRoot.appendChild(node); }; root.defns.insertContent = ((contentNode, compressed) => { if (compressed) { root.state.deferring = true; } if (root.state.deferring) { root.state.chain = (async () => { await root.state.chain; if (compressed) { const encoded = contentNode.textContent; const blob = new Blob([ Uint8Array.from(atob(encoded), (m) => m.codePointAt(0)) ]); const reader = blob.stream().pipeThrough( new DecompressionStream(\"deflate\") ).pipeThrough( new TextDecoderStream(\"utf-8\") ).getReader(); const parts = []; while (true) { const step = await reader.read(); if (step.done) { break; } parts.push(step.value); } const tpl = document.createElement('template'); tpl.innerHTML = parts.join(\"\"); _insertNode(tpl.content); } else { _insertNode(contentNode.content); } })(); } else { _insertNode(contentNode.content); } }); </script></treescope-run-here><div style=\"display:none\"> <script type=\"application/octet-stream\" >eNrFVt+P4jYQ/lesVLpNqibLcsciBYi0L1Ufqj60D33oVchJJomLsVN7wi497f/esRNggbCq1FMLD5DxzHzf/IyXFvcSsgQNgC10C2ujNbIvrNVWoNAqZQYkR7GDBau0wrjiWyH3KdtqpW3LC5I/NwIh9g8paw1JpLAYe9cx7luSKq1InPNiUxvdqTIutNQm7U0XbHjKJSmQP1Fik7JKIKkpBIUL1vKyFKqOJVSYsmnROBAFcQOibkjykMycG4VcEOej2fAn3gkrciEFEnPeoT7qxkKhEcqKIrbiL+hPB7qvy/s+PctjemLTKcI0JLOFES0yF9/qjretFAV3GbvXBYKL3gDf3mVhGK0ySijhWWQlVMqyFcNG2KQG/Jmy/ZMuIYySRltM/DmFBsjWLSgX8lPhvDqj334fO/mBq1ICHatOykWPkBDNX7RWJA2ftdlE7C0H/SuJ3NGZGEXhhC2YSpstVwUkSj+Hka8vAYRXJyzujZbs4zQiP6Ji4QXrRIKqsWGrFZs4lXepG8DOKMo7A2nhRKzplGN26do2okLHzyu4P6/0vYEQUlepUj8nBv7swOKTEltfru8N30LY5yRyPhZXQG1nmz6Ni5EYDxCrPox3ovznHByLvpCo61r2U7n2k0Pd2jpfTgISv2OwowYfKunY+edkA3uX9MAEjtCgnBSSW/sjDefgNwyOPtdbasPgAP4aUT6p/X2PZ8v7sQEoxY55h6vgfH0EDHlOkcLLKpgETCsiQ2Er0nuv7cdjDZ3NIcqAxq5fWGQBxkC5bmlnQKNlCcZ3jF8k3/C5+w4ry5ukTCCnGaXYkorUeU5QijjcWHav7Fxt3bMj7VJYAt0fltqlIsuY5DnINM2B5gXesCr8ZzGK1y+2+MFttmEBThYnLKH8usuldhvyJmajd2CukUtuNhZ4TWVS19ap0hheiBpuw8z7zEbz4G3SooFiA2UUsW+jEwdnOm500D9j6Dd0yu4+T2d5cfd/0js3ukny8T8g6erogDtjXQFbTe8pMCO4wn49WD8KHij282Zv9fjXQT2Fh/CC1yiJsOtKGItrrdau/UdG671RSqYzN02jpWL/mn5f8UuKLqotNzXdLHoafqBPNwm6JSkmylVwXGDVfF6Ws3n5MKvKT5PZx3zyOJtX03kxmc2mk/whGIyGVXs+95fwpNwHsRSq7YbbSeBp5/olGHUyREiHfXS07r0x/Q6+3uKPLd4g+yBx8Qd/SZ6M4XuWV1JzfHikK0KSJOxDje5dQk6yyx96h2R/A2q3tsw=</script> <treescope-run-here><script type=\"application/octet-stream\"> const root = ( Array.from(document.getElementsByClassName( \"treescope_out_0b184eae18884caa820796568a450912\")) .filter((elt) => !elt.dataset['step0']) )[0]; root.dataset['step0'] = 1; root.defns.insertContent( this.parentNode.querySelector('script[type=\"application/octet-stream\"]'), true ); this.parentNode.remove(); </script></treescope-run-here> </div>"
      ],
      "text/plain": [
       "<IPython.core.display.HTML object>"
      ]
     },
     "metadata": {},
     "output_type": "display_data"
    },
    {
     "data": {
      "text/html": [
       "<div style=\"display:none\"> <script type=\"application/octet-stream\" >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</script> <treescope-run-here><script type=\"application/octet-stream\"> const root = ( Array.from(document.getElementsByClassName( \"treescope_out_0b184eae18884caa820796568a450912\")) .filter((elt) => !elt.dataset['step1']) )[0]; root.dataset['step1'] = 1; root.defns.insertContent( this.parentNode.querySelector('script[type=\"application/octet-stream\"]'), true ); this.parentNode.remove(); </script></treescope-run-here> </div>"
      ],
      "text/plain": [
       "<IPython.core.display.HTML object>"
      ]
     },
     "metadata": {},
     "output_type": "display_data"
    },
    {
     "data": {
      "text/html": [
       "<treescope-run-here><script type=\"application/octet-stream\"> const root = ( Array.from(document.getElementsByClassName( \"treescope_out_0b184eae18884caa820796568a450912\")) .filter((elt) => !elt.dataset.stolen) )[0]; root.dataset.stolen = 1; this.parentNode.replaceChild(root, this); </script></treescope-run-here>"
      ],
      "text/plain": [
       "<jax.Array(-0.119629, dtype=bfloat16)>"
      ]
     },
     "execution_count": 32,
     "metadata": {},
     "output_type": "execute_result"
    }
   ],
   "source": [
    "circuitizer.ablated_metric(llama)"
   ]
  },
  {
   "cell_type": "code",
   "execution_count": 14,
   "metadata": {},
   "outputs": [
    {
     "data": {
      "application/vnd.plotly.v1+json": {
       "config": {
        "plotlyServerURL": "https://plot.ly"
       },
       "data": [
        {
         "hovertemplate": "x=%{x}<br>y=%{y}<extra></extra>",
         "legendgroup": "",
         "line": {
          "color": "#636efa",
          "dash": "solid"
         },
         "marker": {
          "symbol": "circle"
         },
         "mode": "lines",
         "name": "",
         "orientation": "v",
         "showlegend": false,
         "type": "scatter",
         "x": [
          0,
          2.0408163265306124e-7,
          4.081632653061225e-7,
          6.122448979591837e-7,
          8.16326530612245e-7,
          0.0000010204081632653063,
          0.0000012244897959183673,
          0.0000014285714285714286,
          0.00000163265306122449,
          0.0000018367346938775512,
          0.0000020408163265306125,
          0.000002244897959183674,
          0.0000024489795918367347,
          0.000002653061224489796,
          0.0000028571428571428573,
          0.0000030612244897959185,
          0.00000326530612244898,
          0.000003469387755102041,
          0.0000036734693877551024,
          0.000003877551020408164,
          0.000004081632653061225,
          0.000004285714285714286,
          0.000004489795918367348,
          0.000004693877551020409,
          0.000004897959183673469,
          0.000005102040816326531,
          0.000005306122448979592,
          0.000005510204081632653,
          0.0000057142857142857145,
          0.000005918367346938776,
          0.000006122448979591837,
          0.000006326530612244898,
          0.00000653061224489796,
          0.000006734693877551021,
          0.000006938775510204082,
          0.0000071428571428571436,
          0.000007346938775510205,
          0.000007551020408163266,
          0.000007755102040816327,
          0.000007959183673469388,
          0.00000816326530612245,
          0.00000836734693877551,
          0.000008571428571428573,
          0.000008775510204081633,
          0.000008979591836734695,
          0.000009183673469387756,
          0.000009387755102040818,
          0.000009591836734693878,
          0.000009795918367346939,
          0.00001
         ],
         "xaxis": "x",
         "y": [
          -29.839977264404297,
          -29.95232391357422,
          -29.43914794921875,
          -33.424835205078125,
          -31.533506393432617,
          -32.92127990722656,
          -31.141124725341797,
          -37.078773498535156,
          -38.682533264160156,
          -35.791900634765625,
          -38.52790069580078,
          -38.56167221069336,
          -33.04594802856445,
          -32.306602478027344,
          -32.26298141479492,
          -33.461463928222656,
          -33.57197570800781,
          -33.62504959106445,
          -33.286170959472656,
          -33.807533264160156,
          -34.07170867919922,
          -34.552001953125,
          -36.648040771484375,
          -33.916900634765625,
          -35.01130676269531,
          -34.674598693847656,
          -35.03032302856445,
          -35.114463806152344,
          -35.81700897216797,
          -34.189170837402344,
          -35.18326950073242,
          -35.6585578918457,
          -36.109130859375,
          -35.09870910644531,
          -35.39494323730469,
          -37.03812789916992,
          -36.644187927246094,
          -37.22492980957031,
          -37.83495330810547,
          -37.87208938598633,
          -37.40289306640625,
          -37.352447509765625,
          -37.88102340698242,
          -36.081668853759766,
          -35.52232360839844,
          -33.45532989501953,
          -35.237152099609375,
          -36.59983825683594,
          -36.49247741699219,
          -36.322818756103516
         ],
         "yaxis": "y"
        }
       ],
       "layout": {
        "legend": {
         "tracegroupgap": 0
        },
        "margin": {
         "t": 60
        },
        "template": {
         "data": {
          "bar": [
           {
            "error_x": {
             "color": "#2a3f5f"
            },
            "error_y": {
             "color": "#2a3f5f"
            },
            "marker": {
             "line": {
              "color": "#E5ECF6",
              "width": 0.5
             },
             "pattern": {
              "fillmode": "overlay",
              "size": 10,
              "solidity": 0.2
             }
            },
            "type": "bar"
           }
          ],
          "barpolar": [
           {
            "marker": {
             "line": {
              "color": "#E5ECF6",
              "width": 0.5
             },
             "pattern": {
              "fillmode": "overlay",
              "size": 10,
              "solidity": 0.2
             }
            },
            "type": "barpolar"
           }
          ],
          "carpet": [
           {
            "aaxis": {
             "endlinecolor": "#2a3f5f",
             "gridcolor": "white",
             "linecolor": "white",
             "minorgridcolor": "white",
             "startlinecolor": "#2a3f5f"
            },
            "baxis": {
             "endlinecolor": "#2a3f5f",
             "gridcolor": "white",
             "linecolor": "white",
             "minorgridcolor": "white",
             "startlinecolor": "#2a3f5f"
            },
            "type": "carpet"
           }
          ],
          "choropleth": [
           {
            "colorbar": {
             "outlinewidth": 0,
             "ticks": ""
            },
            "type": "choropleth"
           }
          ],
          "contour": [
           {
            "colorbar": {
             "outlinewidth": 0,
             "ticks": ""
            },
            "colorscale": [
             [
              0,
              "#0d0887"
             ],
             [
              0.1111111111111111,
              "#46039f"
             ],
             [
              0.2222222222222222,
              "#7201a8"
             ],
             [
              0.3333333333333333,
              "#9c179e"
             ],
             [
              0.4444444444444444,
              "#bd3786"
             ],
             [
              0.5555555555555556,
              "#d8576b"
             ],
             [
              0.6666666666666666,
              "#ed7953"
             ],
             [
              0.7777777777777778,
              "#fb9f3a"
             ],
             [
              0.8888888888888888,
              "#fdca26"
             ],
             [
              1,
              "#f0f921"
             ]
            ],
            "type": "contour"
           }
          ],
          "contourcarpet": [
           {
            "colorbar": {
             "outlinewidth": 0,
             "ticks": ""
            },
            "type": "contourcarpet"
           }
          ],
          "heatmap": [
           {
            "colorbar": {
             "outlinewidth": 0,
             "ticks": ""
            },
            "colorscale": [
             [
              0,
              "#0d0887"
             ],
             [
              0.1111111111111111,
              "#46039f"
             ],
             [
              0.2222222222222222,
              "#7201a8"
             ],
             [
              0.3333333333333333,
              "#9c179e"
             ],
             [
              0.4444444444444444,
              "#bd3786"
             ],
             [
              0.5555555555555556,
              "#d8576b"
             ],
             [
              0.6666666666666666,
              "#ed7953"
             ],
             [
              0.7777777777777778,
              "#fb9f3a"
             ],
             [
              0.8888888888888888,
              "#fdca26"
             ],
             [
              1,
              "#f0f921"
             ]
            ],
            "type": "heatmap"
           }
          ],
          "heatmapgl": [
           {
            "colorbar": {
             "outlinewidth": 0,
             "ticks": ""
            },
            "colorscale": [
             [
              0,
              "#0d0887"
             ],
             [
              0.1111111111111111,
              "#46039f"
             ],
             [
              0.2222222222222222,
              "#7201a8"
             ],
             [
              0.3333333333333333,
              "#9c179e"
             ],
             [
              0.4444444444444444,
              "#bd3786"
             ],
             [
              0.5555555555555556,
              "#d8576b"
             ],
             [
              0.6666666666666666,
              "#ed7953"
             ],
             [
              0.7777777777777778,
              "#fb9f3a"
             ],
             [
              0.8888888888888888,
              "#fdca26"
             ],
             [
              1,
              "#f0f921"
             ]
            ],
            "type": "heatmapgl"
           }
          ],
          "histogram": [
           {
            "marker": {
             "pattern": {
              "fillmode": "overlay",
              "size": 10,
              "solidity": 0.2
             }
            },
            "type": "histogram"
           }
          ],
          "histogram2d": [
           {
            "colorbar": {
             "outlinewidth": 0,
             "ticks": ""
            },
            "colorscale": [
             [
              0,
              "#0d0887"
             ],
             [
              0.1111111111111111,
              "#46039f"
             ],
             [
              0.2222222222222222,
              "#7201a8"
             ],
             [
              0.3333333333333333,
              "#9c179e"
             ],
             [
              0.4444444444444444,
              "#bd3786"
             ],
             [
              0.5555555555555556,
              "#d8576b"
             ],
             [
              0.6666666666666666,
              "#ed7953"
             ],
             [
              0.7777777777777778,
              "#fb9f3a"
             ],
             [
              0.8888888888888888,
              "#fdca26"
             ],
             [
              1,
              "#f0f921"
             ]
            ],
            "type": "histogram2d"
           }
          ],
          "histogram2dcontour": [
           {
            "colorbar": {
             "outlinewidth": 0,
             "ticks": ""
            },
            "colorscale": [
             [
              0,
              "#0d0887"
             ],
             [
              0.1111111111111111,
              "#46039f"
             ],
             [
              0.2222222222222222,
              "#7201a8"
             ],
             [
              0.3333333333333333,
              "#9c179e"
             ],
             [
              0.4444444444444444,
              "#bd3786"
             ],
             [
              0.5555555555555556,
              "#d8576b"
             ],
             [
              0.6666666666666666,
              "#ed7953"
             ],
             [
              0.7777777777777778,
              "#fb9f3a"
             ],
             [
              0.8888888888888888,
              "#fdca26"
             ],
             [
              1,
              "#f0f921"
             ]
            ],
            "type": "histogram2dcontour"
           }
          ],
          "mesh3d": [
           {
            "colorbar": {
             "outlinewidth": 0,
             "ticks": ""
            },
            "type": "mesh3d"
           }
          ],
          "parcoords": [
           {
            "line": {
             "colorbar": {
              "outlinewidth": 0,
              "ticks": ""
             }
            },
            "type": "parcoords"
           }
          ],
          "pie": [
           {
            "automargin": true,
            "type": "pie"
           }
          ],
          "scatter": [
           {
            "fillpattern": {
             "fillmode": "overlay",
             "size": 10,
             "solidity": 0.2
            },
            "type": "scatter"
           }
          ],
          "scatter3d": [
           {
            "line": {
             "colorbar": {
              "outlinewidth": 0,
              "ticks": ""
             }
            },
            "marker": {
             "colorbar": {
              "outlinewidth": 0,
              "ticks": ""
             }
            },
            "type": "scatter3d"
           }
          ],
          "scattercarpet": [
           {
            "marker": {
             "colorbar": {
              "outlinewidth": 0,
              "ticks": ""
             }
            },
            "type": "scattercarpet"
           }
          ],
          "scattergeo": [
           {
            "marker": {
             "colorbar": {
              "outlinewidth": 0,
              "ticks": ""
             }
            },
            "type": "scattergeo"
           }
          ],
          "scattergl": [
           {
            "marker": {
             "colorbar": {
              "outlinewidth": 0,
              "ticks": ""
             }
            },
            "type": "scattergl"
           }
          ],
          "scattermapbox": [
           {
            "marker": {
             "colorbar": {
              "outlinewidth": 0,
              "ticks": ""
             }
            },
            "type": "scattermapbox"
           }
          ],
          "scatterpolar": [
           {
            "marker": {
             "colorbar": {
              "outlinewidth": 0,
              "ticks": ""
             }
            },
            "type": "scatterpolar"
           }
          ],
          "scatterpolargl": [
           {
            "marker": {
             "colorbar": {
              "outlinewidth": 0,
              "ticks": ""
             }
            },
            "type": "scatterpolargl"
           }
          ],
          "scatterternary": [
           {
            "marker": {
             "colorbar": {
              "outlinewidth": 0,
              "ticks": ""
             }
            },
            "type": "scatterternary"
           }
          ],
          "surface": [
           {
            "colorbar": {
             "outlinewidth": 0,
             "ticks": ""
            },
            "colorscale": [
             [
              0,
              "#0d0887"
             ],
             [
              0.1111111111111111,
              "#46039f"
             ],
             [
              0.2222222222222222,
              "#7201a8"
             ],
             [
              0.3333333333333333,
              "#9c179e"
             ],
             [
              0.4444444444444444,
              "#bd3786"
             ],
             [
              0.5555555555555556,
              "#d8576b"
             ],
             [
              0.6666666666666666,
              "#ed7953"
             ],
             [
              0.7777777777777778,
              "#fb9f3a"
             ],
             [
              0.8888888888888888,
              "#fdca26"
             ],
             [
              1,
              "#f0f921"
             ]
            ],
            "type": "surface"
           }
          ],
          "table": [
           {
            "cells": {
             "fill": {
              "color": "#EBF0F8"
             },
             "line": {
              "color": "white"
             }
            },
            "header": {
             "fill": {
              "color": "#C8D4E3"
             },
             "line": {
              "color": "white"
             }
            },
            "type": "table"
           }
          ]
         },
         "layout": {
          "annotationdefaults": {
           "arrowcolor": "#2a3f5f",
           "arrowhead": 0,
           "arrowwidth": 1
          },
          "autotypenumbers": "strict",
          "coloraxis": {
           "colorbar": {
            "outlinewidth": 0,
            "ticks": ""
           }
          },
          "colorscale": {
           "diverging": [
            [
             0,
             "#8e0152"
            ],
            [
             0.1,
             "#c51b7d"
            ],
            [
             0.2,
             "#de77ae"
            ],
            [
             0.3,
             "#f1b6da"
            ],
            [
             0.4,
             "#fde0ef"
            ],
            [
             0.5,
             "#f7f7f7"
            ],
            [
             0.6,
             "#e6f5d0"
            ],
            [
             0.7,
             "#b8e186"
            ],
            [
             0.8,
             "#7fbc41"
            ],
            [
             0.9,
             "#4d9221"
            ],
            [
             1,
             "#276419"
            ]
           ],
           "sequential": [
            [
             0,
             "#0d0887"
            ],
            [
             0.1111111111111111,
             "#46039f"
            ],
            [
             0.2222222222222222,
             "#7201a8"
            ],
            [
             0.3333333333333333,
             "#9c179e"
            ],
            [
             0.4444444444444444,
             "#bd3786"
            ],
            [
             0.5555555555555556,
             "#d8576b"
            ],
            [
             0.6666666666666666,
             "#ed7953"
            ],
            [
             0.7777777777777778,
             "#fb9f3a"
            ],
            [
             0.8888888888888888,
             "#fdca26"
            ],
            [
             1,
             "#f0f921"
            ]
           ],
           "sequentialminus": [
            [
             0,
             "#0d0887"
            ],
            [
             0.1111111111111111,
             "#46039f"
            ],
            [
             0.2222222222222222,
             "#7201a8"
            ],
            [
             0.3333333333333333,
             "#9c179e"
            ],
            [
             0.4444444444444444,
             "#bd3786"
            ],
            [
             0.5555555555555556,
             "#d8576b"
            ],
            [
             0.6666666666666666,
             "#ed7953"
            ],
            [
             0.7777777777777778,
             "#fb9f3a"
            ],
            [
             0.8888888888888888,
             "#fdca26"
            ],
            [
             1,
             "#f0f921"
            ]
           ]
          },
          "colorway": [
           "#636efa",
           "#EF553B",
           "#00cc96",
           "#ab63fa",
           "#FFA15A",
           "#19d3f3",
           "#FF6692",
           "#B6E880",
           "#FF97FF",
           "#FECB52"
          ],
          "font": {
           "color": "#2a3f5f"
          },
          "geo": {
           "bgcolor": "white",
           "lakecolor": "white",
           "landcolor": "#E5ECF6",
           "showlakes": true,
           "showland": true,
           "subunitcolor": "white"
          },
          "hoverlabel": {
           "align": "left"
          },
          "hovermode": "closest",
          "mapbox": {
           "style": "light"
          },
          "paper_bgcolor": "white",
          "plot_bgcolor": "#E5ECF6",
          "polar": {
           "angularaxis": {
            "gridcolor": "white",
            "linecolor": "white",
            "ticks": ""
           },
           "bgcolor": "#E5ECF6",
           "radialaxis": {
            "gridcolor": "white",
            "linecolor": "white",
            "ticks": ""
           }
          },
          "scene": {
           "xaxis": {
            "backgroundcolor": "#E5ECF6",
            "gridcolor": "white",
            "gridwidth": 2,
            "linecolor": "white",
            "showbackground": true,
            "ticks": "",
            "zerolinecolor": "white"
           },
           "yaxis": {
            "backgroundcolor": "#E5ECF6",
            "gridcolor": "white",
            "gridwidth": 2,
            "linecolor": "white",
            "showbackground": true,
            "ticks": "",
            "zerolinecolor": "white"
           },
           "zaxis": {
            "backgroundcolor": "#E5ECF6",
            "gridcolor": "white",
            "gridwidth": 2,
            "linecolor": "white",
            "showbackground": true,
            "ticks": "",
            "zerolinecolor": "white"
           }
          },
          "shapedefaults": {
           "line": {
            "color": "#2a3f5f"
           }
          },
          "ternary": {
           "aaxis": {
            "gridcolor": "white",
            "linecolor": "white",
            "ticks": ""
           },
           "baxis": {
            "gridcolor": "white",
            "linecolor": "white",
            "ticks": ""
           },
           "bgcolor": "#E5ECF6",
           "caxis": {
            "gridcolor": "white",
            "linecolor": "white",
            "ticks": ""
           }
          },
          "title": {
           "x": 0.05
          },
          "xaxis": {
           "automargin": true,
           "gridcolor": "white",
           "linecolor": "white",
           "ticks": "",
           "title": {
            "standoff": 15
           },
           "zerolinecolor": "white",
           "zerolinewidth": 2
          },
          "yaxis": {
           "automargin": true,
           "gridcolor": "white",
           "linecolor": "white",
           "ticks": "",
           "title": {
            "standoff": 15
           },
           "zerolinecolor": "white",
           "zerolinewidth": 2
          }
         }
        },
        "xaxis": {
         "anchor": "y",
         "domain": [
          0,
          1
         ],
         "title": {
          "text": "x"
         }
        },
        "yaxis": {
         "anchor": "x",
         "domain": [
          0,
          1
         ],
         "title": {
          "text": "y"
         }
        }
       }
      },
      "text/html": [
       "<div>                            <div id=\"62228aca-097f-4ad7-98ed-e54d8b4d6b79\" class=\"plotly-graph-div\" style=\"height:525px; width:100%;\"></div>            <script type=\"text/javascript\">                require([\"plotly\"], function(Plotly) {                    window.PLOTLYENV=window.PLOTLYENV || {};                                    if (document.getElementById(\"62228aca-097f-4ad7-98ed-e54d8b4d6b79\")) {                    Plotly.newPlot(                        \"62228aca-097f-4ad7-98ed-e54d8b4d6b79\",                        [{\"hovertemplate\":\"x=%{x}\\u003cbr\\u003ey=%{y}\\u003cextra\\u003e\\u003c\\u002fextra\\u003e\",\"legendgroup\":\"\",\"line\":{\"color\":\"#636efa\",\"dash\":\"solid\"},\"marker\":{\"symbol\":\"circle\"},\"mode\":\"lines\",\"name\":\"\",\"orientation\":\"v\",\"showlegend\":false,\"x\":[0.0,2.0408163265306124e-7,4.081632653061225e-7,6.122448979591837e-7,8.16326530612245e-7,1.0204081632653063e-6,1.2244897959183673e-6,1.4285714285714286e-6,1.63265306122449e-6,1.8367346938775512e-6,2.0408163265306125e-6,2.244897959183674e-6,2.4489795918367347e-6,2.653061224489796e-6,2.8571428571428573e-6,3.0612244897959185e-6,3.26530612244898e-6,3.469387755102041e-6,3.6734693877551024e-6,3.877551020408164e-6,4.081632653061225e-6,4.285714285714286e-6,4.489795918367348e-6,4.693877551020409e-6,4.897959183673469e-6,5.102040816326531e-6,5.306122448979592e-6,5.510204081632653e-6,5.7142857142857145e-6,5.918367346938776e-6,6.122448979591837e-6,6.326530612244898e-6,6.53061224489796e-6,6.734693877551021e-6,6.938775510204082e-6,7.1428571428571436e-6,7.346938775510205e-6,7.551020408163266e-6,7.755102040816327e-6,7.959183673469388e-6,8.16326530612245e-6,8.36734693877551e-6,8.571428571428573e-6,8.775510204081633e-6,8.979591836734695e-6,9.183673469387756e-6,9.387755102040818e-6,9.591836734693878e-6,9.795918367346939e-6,0.00001],\"xaxis\":\"x\",\"y\":[-29.839977264404297,-29.95232391357422,-29.43914794921875,-33.424835205078125,-31.533506393432617,-32.92127990722656,-31.141124725341797,-37.078773498535156,-38.682533264160156,-35.791900634765625,-38.52790069580078,-38.56167221069336,-33.04594802856445,-32.306602478027344,-32.26298141479492,-33.461463928222656,-33.57197570800781,-33.62504959106445,-33.286170959472656,-33.807533264160156,-34.07170867919922,-34.552001953125,-36.648040771484375,-33.916900634765625,-35.01130676269531,-34.674598693847656,-35.03032302856445,-35.114463806152344,-35.81700897216797,-34.189170837402344,-35.18326950073242,-35.6585578918457,-36.109130859375,-35.09870910644531,-35.39494323730469,-37.03812789916992,-36.644187927246094,-37.22492980957031,-37.83495330810547,-37.87208938598633,-37.40289306640625,-37.352447509765625,-37.88102340698242,-36.081668853759766,-35.52232360839844,-33.45532989501953,-35.237152099609375,-36.59983825683594,-36.49247741699219,-36.322818756103516],\"yaxis\":\"y\",\"type\":\"scatter\"}],                        {\"template\":{\"data\":{\"histogram2dcontour\":[{\"type\":\"histogram2dcontour\",\"colorbar\":{\"outlinewidth\":0,\"ticks\":\"\"},\"colorscale\":[[0.0,\"#0d0887\"],[0.1111111111111111,\"#46039f\"],[0.2222222222222222,\"#7201a8\"],[0.3333333333333333,\"#9c179e\"],[0.4444444444444444,\"#bd3786\"],[0.5555555555555556,\"#d8576b\"],[0.6666666666666666,\"#ed7953\"],[0.7777777777777778,\"#fb9f3a\"],[0.8888888888888888,\"#fdca26\"],[1.0,\"#f0f921\"]]}],\"choropleth\":[{\"type\":\"choropleth\",\"colorbar\":{\"outlinewidth\":0,\"ticks\":\"\"}}],\"histogram2d\":[{\"type\":\"histogram2d\",\"colorbar\":{\"outlinewidth\":0,\"ticks\":\"\"},\"colorscale\":[[0.0,\"#0d0887\"],[0.1111111111111111,\"#46039f\"],[0.2222222222222222,\"#7201a8\"],[0.3333333333333333,\"#9c179e\"],[0.4444444444444444,\"#bd3786\"],[0.5555555555555556,\"#d8576b\"],[0.6666666666666666,\"#ed7953\"],[0.7777777777777778,\"#fb9f3a\"],[0.8888888888888888,\"#fdca26\"],[1.0,\"#f0f921\"]]}],\"heatmap\":[{\"type\":\"heatmap\",\"colorbar\":{\"outlinewidth\":0,\"ticks\":\"\"},\"colorscale\":[[0.0,\"#0d0887\"],[0.1111111111111111,\"#46039f\"],[0.2222222222222222,\"#7201a8\"],[0.3333333333333333,\"#9c179e\"],[0.4444444444444444,\"#bd3786\"],[0.5555555555555556,\"#d8576b\"],[0.6666666666666666,\"#ed7953\"],[0.7777777777777778,\"#fb9f3a\"],[0.8888888888888888,\"#fdca26\"],[1.0,\"#f0f921\"]]}],\"heatmapgl\":[{\"type\":\"heatmapgl\",\"colorbar\":{\"outlinewidth\":0,\"ticks\":\"\"},\"colorscale\":[[0.0,\"#0d0887\"],[0.1111111111111111,\"#46039f\"],[0.2222222222222222,\"#7201a8\"],[0.3333333333333333,\"#9c179e\"],[0.4444444444444444,\"#bd3786\"],[0.5555555555555556,\"#d8576b\"],[0.6666666666666666,\"#ed7953\"],[0.7777777777777778,\"#fb9f3a\"],[0.8888888888888888,\"#fdca26\"],[1.0,\"#f0f921\"]]}],\"contourcarpet\":[{\"type\":\"contourcarpet\",\"colorbar\":{\"outlinewidth\":0,\"ticks\":\"\"}}],\"contour\":[{\"type\":\"contour\",\"colorbar\":{\"outlinewidth\":0,\"ticks\":\"\"},\"colorscale\":[[0.0,\"#0d0887\"],[0.1111111111111111,\"#46039f\"],[0.2222222222222222,\"#7201a8\"],[0.3333333333333333,\"#9c179e\"],[0.4444444444444444,\"#bd3786\"],[0.5555555555555556,\"#d8576b\"],[0.6666666666666666,\"#ed7953\"],[0.7777777777777778,\"#fb9f3a\"],[0.8888888888888888,\"#fdca26\"],[1.0,\"#f0f921\"]]}],\"surface\":[{\"type\":\"surface\",\"colorbar\":{\"outlinewidth\":0,\"ticks\":\"\"},\"colorscale\":[[0.0,\"#0d0887\"],[0.1111111111111111,\"#46039f\"],[0.2222222222222222,\"#7201a8\"],[0.3333333333333333,\"#9c179e\"],[0.4444444444444444,\"#bd3786\"],[0.5555555555555556,\"#d8576b\"],[0.6666666666666666,\"#ed7953\"],[0.7777777777777778,\"#fb9f3a\"],[0.8888888888888888,\"#fdca26\"],[1.0,\"#f0f921\"]]}],\"mesh3d\":[{\"type\":\"mesh3d\",\"colorbar\":{\"outlinewidth\":0,\"ticks\":\"\"}}],\"scatter\":[{\"fillpattern\":{\"fillmode\":\"overlay\",\"size\":10,\"solidity\":0.2},\"type\":\"scatter\"}],\"parcoords\":[{\"type\":\"parcoords\",\"line\":{\"colorbar\":{\"outlinewidth\":0,\"ticks\":\"\"}}}],\"scatterpolargl\":[{\"type\":\"scatterpolargl\",\"marker\":{\"colorbar\":{\"outlinewidth\":0,\"ticks\":\"\"}}}],\"bar\":[{\"error_x\":{\"color\":\"#2a3f5f\"},\"error_y\":{\"color\":\"#2a3f5f\"},\"marker\":{\"line\":{\"color\":\"#E5ECF6\",\"width\":0.5},\"pattern\":{\"fillmode\":\"overlay\",\"size\":10,\"solidity\":0.2}},\"type\":\"bar\"}],\"scattergeo\":[{\"type\":\"scattergeo\",\"marker\":{\"colorbar\":{\"outlinewidth\":0,\"ticks\":\"\"}}}],\"scatterpolar\":[{\"type\":\"scatterpolar\",\"marker\":{\"colorbar\":{\"outlinewidth\":0,\"ticks\":\"\"}}}],\"histogram\":[{\"marker\":{\"pattern\":{\"fillmode\":\"overlay\",\"size\":10,\"solidity\":0.2}},\"type\":\"histogram\"}],\"scattergl\":[{\"type\":\"scattergl\",\"marker\":{\"colorbar\":{\"outlinewidth\":0,\"ticks\":\"\"}}}],\"scatter3d\":[{\"type\":\"scatter3d\",\"line\":{\"colorbar\":{\"outlinewidth\":0,\"ticks\":\"\"}},\"marker\":{\"colorbar\":{\"outlinewidth\":0,\"ticks\":\"\"}}}],\"scattermapbox\":[{\"type\":\"scattermapbox\",\"marker\":{\"colorbar\":{\"outlinewidth\":0,\"ticks\":\"\"}}}],\"scatterternary\":[{\"type\":\"scatterternary\",\"marker\":{\"colorbar\":{\"outlinewidth\":0,\"ticks\":\"\"}}}],\"scattercarpet\":[{\"type\":\"scattercarpet\",\"marker\":{\"colorbar\":{\"outlinewidth\":0,\"ticks\":\"\"}}}],\"carpet\":[{\"aaxis\":{\"endlinecolor\":\"#2a3f5f\",\"gridcolor\":\"white\",\"linecolor\":\"white\",\"minorgridcolor\":\"white\",\"startlinecolor\":\"#2a3f5f\"},\"baxis\":{\"endlinecolor\":\"#2a3f5f\",\"gridcolor\":\"white\",\"linecolor\":\"white\",\"minorgridcolor\":\"white\",\"startlinecolor\":\"#2a3f5f\"},\"type\":\"carpet\"}],\"table\":[{\"cells\":{\"fill\":{\"color\":\"#EBF0F8\"},\"line\":{\"color\":\"white\"}},\"header\":{\"fill\":{\"color\":\"#C8D4E3\"},\"line\":{\"color\":\"white\"}},\"type\":\"table\"}],\"barpolar\":[{\"marker\":{\"line\":{\"color\":\"#E5ECF6\",\"width\":0.5},\"pattern\":{\"fillmode\":\"overlay\",\"size\":10,\"solidity\":0.2}},\"type\":\"barpolar\"}],\"pie\":[{\"automargin\":true,\"type\":\"pie\"}]},\"layout\":{\"autotypenumbers\":\"strict\",\"colorway\":[\"#636efa\",\"#EF553B\",\"#00cc96\",\"#ab63fa\",\"#FFA15A\",\"#19d3f3\",\"#FF6692\",\"#B6E880\",\"#FF97FF\",\"#FECB52\"],\"font\":{\"color\":\"#2a3f5f\"},\"hovermode\":\"closest\",\"hoverlabel\":{\"align\":\"left\"},\"paper_bgcolor\":\"white\",\"plot_bgcolor\":\"#E5ECF6\",\"polar\":{\"bgcolor\":\"#E5ECF6\",\"angularaxis\":{\"gridcolor\":\"white\",\"linecolor\":\"white\",\"ticks\":\"\"},\"radialaxis\":{\"gridcolor\":\"white\",\"linecolor\":\"white\",\"ticks\":\"\"}},\"ternary\":{\"bgcolor\":\"#E5ECF6\",\"aaxis\":{\"gridcolor\":\"white\",\"linecolor\":\"white\",\"ticks\":\"\"},\"baxis\":{\"gridcolor\":\"white\",\"linecolor\":\"white\",\"ticks\":\"\"},\"caxis\":{\"gridcolor\":\"white\",\"linecolor\":\"white\",\"ticks\":\"\"}},\"coloraxis\":{\"colorbar\":{\"outlinewidth\":0,\"ticks\":\"\"}},\"colorscale\":{\"sequential\":[[0.0,\"#0d0887\"],[0.1111111111111111,\"#46039f\"],[0.2222222222222222,\"#7201a8\"],[0.3333333333333333,\"#9c179e\"],[0.4444444444444444,\"#bd3786\"],[0.5555555555555556,\"#d8576b\"],[0.6666666666666666,\"#ed7953\"],[0.7777777777777778,\"#fb9f3a\"],[0.8888888888888888,\"#fdca26\"],[1.0,\"#f0f921\"]],\"sequentialminus\":[[0.0,\"#0d0887\"],[0.1111111111111111,\"#46039f\"],[0.2222222222222222,\"#7201a8\"],[0.3333333333333333,\"#9c179e\"],[0.4444444444444444,\"#bd3786\"],[0.5555555555555556,\"#d8576b\"],[0.6666666666666666,\"#ed7953\"],[0.7777777777777778,\"#fb9f3a\"],[0.8888888888888888,\"#fdca26\"],[1.0,\"#f0f921\"]],\"diverging\":[[0,\"#8e0152\"],[0.1,\"#c51b7d\"],[0.2,\"#de77ae\"],[0.3,\"#f1b6da\"],[0.4,\"#fde0ef\"],[0.5,\"#f7f7f7\"],[0.6,\"#e6f5d0\"],[0.7,\"#b8e186\"],[0.8,\"#7fbc41\"],[0.9,\"#4d9221\"],[1,\"#276419\"]]},\"xaxis\":{\"gridcolor\":\"white\",\"linecolor\":\"white\",\"ticks\":\"\",\"title\":{\"standoff\":15},\"zerolinecolor\":\"white\",\"automargin\":true,\"zerolinewidth\":2},\"yaxis\":{\"gridcolor\":\"white\",\"linecolor\":\"white\",\"ticks\":\"\",\"title\":{\"standoff\":15},\"zerolinecolor\":\"white\",\"automargin\":true,\"zerolinewidth\":2},\"scene\":{\"xaxis\":{\"backgroundcolor\":\"#E5ECF6\",\"gridcolor\":\"white\",\"linecolor\":\"white\",\"showbackground\":true,\"ticks\":\"\",\"zerolinecolor\":\"white\",\"gridwidth\":2},\"yaxis\":{\"backgroundcolor\":\"#E5ECF6\",\"gridcolor\":\"white\",\"linecolor\":\"white\",\"showbackground\":true,\"ticks\":\"\",\"zerolinecolor\":\"white\",\"gridwidth\":2},\"zaxis\":{\"backgroundcolor\":\"#E5ECF6\",\"gridcolor\":\"white\",\"linecolor\":\"white\",\"showbackground\":true,\"ticks\":\"\",\"zerolinecolor\":\"white\",\"gridwidth\":2}},\"shapedefaults\":{\"line\":{\"color\":\"#2a3f5f\"}},\"annotationdefaults\":{\"arrowcolor\":\"#2a3f5f\",\"arrowhead\":0,\"arrowwidth\":1},\"geo\":{\"bgcolor\":\"white\",\"landcolor\":\"#E5ECF6\",\"subunitcolor\":\"white\",\"showland\":true,\"showlakes\":true,\"lakecolor\":\"white\"},\"title\":{\"x\":0.05},\"mapbox\":{\"style\":\"light\"}}},\"xaxis\":{\"anchor\":\"y\",\"domain\":[0.0,1.0],\"title\":{\"text\":\"x\"}},\"yaxis\":{\"anchor\":\"x\",\"domain\":[0.0,1.0],\"title\":{\"text\":\"y\"}},\"legend\":{\"tracegroupgap\":0},\"margin\":{\"t\":60}},                        {\"responsive\": true}                    ).then(function(){\n",
       "                            \n",
       "var gd = document.getElementById('62228aca-097f-4ad7-98ed-e54d8b4d6b79');\n",
       "var x = new MutationObserver(function (mutations, observer) {{\n",
       "        var display = window.getComputedStyle(gd).display;\n",
       "        if (!display || display === 'none') {{\n",
       "            console.log([gd, 'removed!']);\n",
       "            Plotly.purge(gd);\n",
       "            observer.disconnect();\n",
       "        }}\n",
       "}});\n",
       "\n",
       "// Listen for the removal of the full notebook cells\n",
       "var notebookContainer = gd.closest('#notebook-container');\n",
       "if (notebookContainer) {{\n",
       "    x.observe(notebookContainer, {childList: true});\n",
       "}}\n",
       "\n",
       "// Listen for the clearing of the current output cell\n",
       "var outputEl = gd.closest('.output');\n",
       "if (outputEl) {{\n",
       "    x.observe(outputEl, {childList: true});\n",
       "}}\n",
       "\n",
       "                        })                };                });            </script>        </div>"
      ]
     },
     "metadata": {},
     "output_type": "display_data"
    }
   ],
   "source": [
    "import matplotlib.pyplot as plt\n",
    "import plotly.express as px\n",
    "\n",
    "# plt.plot([max(n_nodes_counts) - x for x in n_nodes_counts], ablated_metrics)\n",
    "# plt.plot(thresholds, ablated_metrics)\n",
    "# plt.plot(thresholds, ablated_metrics)\n",
    "# plt.plot(n_nodes_counts, ablated_metrics)\n",
    "# plt.plot(thresholds, n_nodes_counts)\n",
    "# plt.xscale(\"log\")\n",
    "# plt.plot(n_nodes_counts)\n",
    "\n",
    "# px.line(x=list(range(len(ablated_metrics))), y=ablated_metrics)\n",
    "# fig\n",
    "fig = px.line(x=thresholds, y=ablated_metrics)\n",
    "# fig.update_xaxes(type=\"log\", exponentformat=\"power\")\n",
    "fig\n",
    "\n",
    "# px.line(x=n_nodes_counts, y=ablated_metrics)\n"
   ]
  },
  {
   "cell_type": "code",
   "execution_count": 35,
   "metadata": {},
   "outputs": [],
   "source": [
    "import json\n",
    "with open(\"gemma_2_cleaning_compact_65k.jsonl\") as f:\n",
    "    data = [json.loads(line) for line in f]"
   ]
  },
  {
   "cell_type": "code",
   "execution_count": 36,
   "metadata": {},
   "outputs": [],
   "source": [
    "task_data = [d for d in data if d[\"task\"] == task_name and d[\"layer\"] == 20]"
   ]
  },
  {
   "cell_type": "code",
   "execution_count": 37,
   "metadata": {},
   "outputs": [
    {
     "data": {
      "text/html": [
       "<script> (()=>{ if (customElements.get('treescope-container') === undefined) { class TreescopeContainer extends HTMLElement { constructor() { super(); this.attachShadow({mode: \"open\"}); this.defns = {}; this.state = {}; } } customElements.define(\"treescope-container\", TreescopeContainer); } if (customElements.get('treescope-run-here') === undefined) { class RunHere extends HTMLElement { constructor() { super() } connectedCallback() { const run = child => { const fn = new Function(child.textContent); child.textContent = \"\"; fn.call(this); this.remove(); }; const child = this.querySelector(\"script\"); if (child) { run(child); } else { new MutationObserver(()=>{ run(this.querySelector(\"script\")); }).observe(this, {childList: true}); } } } customElements.define(\"treescope-run-here\", RunHere); } })(); </script> <treescope-container class=\"treescope_out_92fcfdbf68104efaa5e604e8b2b2cb04\" ></treescope-container> <treescope-run-here><script type=\"application/octet-stream\"> const root = ( Array.from(document.getElementsByClassName( \"treescope_out_92fcfdbf68104efaa5e604e8b2b2cb04\")) .filter((elt) => !elt.dataset.setup) )[0]; root.dataset.setup = 1; const msg = document.createElement(\"span\"); msg.style = \"color: #aaaaaa; font-family: monospace; transition: opacity 0.2s; opacity: 0.0;\"; msg.textContent = \"(Loading...)\"; root.state.loadingMsg = msg; root.shadowRoot.appendChild(msg); root.state.chain = new Promise((resolve, reject) => { const observer = new IntersectionObserver((entries) => { for (const entry of entries) { if (entry.isIntersecting) { resolve(); observer.disconnect(); return; } } }, {rootMargin: \"1000px\"}); window.setTimeout(() => { if (root.loadingMsg) { root.loadingMsg.style.opacity = \"1.0\"; } observer.observe(root); }, 0); }); root.state.deferring = false; const _insertNode = (node) => { for (let oldScript of node.querySelectorAll(\"script\")) { let newScript = document.createElement(\"script\"); newScript.type = oldScript.type; newScript.textContent = oldScript.textContent; oldScript.parentNode.replaceChild(newScript, oldScript); } if (root.state.loadingMsg) { root.state.loadingMsg.remove(); root.state.loadingMsg = null; } root.shadowRoot.appendChild(node); }; root.defns.insertContent = ((contentNode, compressed) => { if (compressed) { root.state.deferring = true; } if (root.state.deferring) { root.state.chain = (async () => { await root.state.chain; if (compressed) { const encoded = contentNode.textContent; const blob = new Blob([ Uint8Array.from(atob(encoded), (m) => m.codePointAt(0)) ]); const reader = blob.stream().pipeThrough( new DecompressionStream(\"deflate\") ).pipeThrough( new TextDecoderStream(\"utf-8\") ).getReader(); const parts = []; while (true) { const step = await reader.read(); if (step.done) { break; } parts.push(step.value); } const tpl = document.createElement('template'); tpl.innerHTML = parts.join(\"\"); _insertNode(tpl.content); } else { _insertNode(contentNode.content); } })(); } else { _insertNode(contentNode.content); } }); </script></treescope-run-here><div style=\"display:none\"> <script type=\"application/octet-stream\" >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</script> <treescope-run-here><script type=\"application/octet-stream\"> const root = ( Array.from(document.getElementsByClassName( \"treescope_out_92fcfdbf68104efaa5e604e8b2b2cb04\")) .filter((elt) => !elt.dataset['step0']) )[0]; root.dataset['step0'] = 1; root.defns.insertContent( this.parentNode.querySelector('script[type=\"application/octet-stream\"]'), true ); this.parentNode.remove(); </script></treescope-run-here> </div>"
      ],
      "text/plain": [
       "<IPython.core.display.HTML object>"
      ]
     },
     "metadata": {},
     "output_type": "display_data"
    },
    {
     "data": {
      "text/html": [
       "<treescope-run-here><script type=\"application/octet-stream\"> const root = ( Array.from(document.getElementsByClassName( \"treescope_out_92fcfdbf68104efaa5e604e8b2b2cb04\")) .filter((elt) => !elt.dataset.stolen) )[0]; root.dataset.stolen = 1; this.parentNode.replaceChild(root, this); </script></treescope-run-here>"
      ],
      "text/plain": [
       "[{'task': 'antonyms',\n",
       "  'weights': [68.01600646972656,\n",
       "   47.43989562988281,\n",
       "   34.77153396606445,\n",
       "   22.7160587310791,\n",
       "   12.102900505065918],\n",
       "  'indices': [17969, 35629, 8113, 51920, 22490],\n",
       "  'tv loss': 3.078125,\n",
       "  'cleaning loss': 3.609375,\n",
       "  'ito loss': 3.65625,\n",
       "  'layer': 20}]"
      ]
     },
     "execution_count": 37,
     "metadata": {},
     "output_type": "execute_result"
    }
   ],
   "source": [
    "task_data"
   ]
  },
  {
   "cell_type": "code",
   "execution_count": 18,
   "metadata": {},
   "outputs": [
    {
     "data": {
      "text/html": [
       "<script> (()=>{ if (customElements.get('treescope-container') === undefined) { class TreescopeContainer extends HTMLElement { constructor() { super(); this.attachShadow({mode: \"open\"}); this.defns = {}; this.state = {}; } } customElements.define(\"treescope-container\", TreescopeContainer); } if (customElements.get('treescope-run-here') === undefined) { class RunHere extends HTMLElement { constructor() { super() } connectedCallback() { const run = child => { const fn = new Function(child.textContent); child.textContent = \"\"; fn.call(this); this.remove(); }; const child = this.querySelector(\"script\"); if (child) { run(child); } else { new MutationObserver(()=>{ run(this.querySelector(\"script\")); }).observe(this, {childList: true}); } } } customElements.define(\"treescope-run-here\", RunHere); } })(); </script> <treescope-container class=\"treescope_out_28aff9bc109e4cc994d06e01829a6a3b\" ></treescope-container> <treescope-run-here><script type=\"application/octet-stream\"> const root = ( Array.from(document.getElementsByClassName( \"treescope_out_28aff9bc109e4cc994d06e01829a6a3b\")) .filter((elt) => !elt.dataset.setup) )[0]; root.dataset.setup = 1; const msg = document.createElement(\"span\"); msg.style = \"color: #aaaaaa; font-family: monospace; transition: opacity 0.2s; opacity: 0.0;\"; msg.textContent = \"(Loading...)\"; root.state.loadingMsg = msg; root.shadowRoot.appendChild(msg); root.state.chain = new Promise((resolve, reject) => { const observer = new IntersectionObserver((entries) => { for (const entry of entries) { if (entry.isIntersecting) { resolve(); observer.disconnect(); return; } } }, {rootMargin: \"1000px\"}); window.setTimeout(() => { if (root.loadingMsg) { root.loadingMsg.style.opacity = \"1.0\"; } observer.observe(root); }, 0); }); root.state.deferring = false; const _insertNode = (node) => { for (let oldScript of node.querySelectorAll(\"script\")) { let newScript = document.createElement(\"script\"); newScript.type = oldScript.type; newScript.textContent = oldScript.textContent; oldScript.parentNode.replaceChild(newScript, oldScript); } if (root.state.loadingMsg) { root.state.loadingMsg.remove(); root.state.loadingMsg = null; } root.shadowRoot.appendChild(node); }; root.defns.insertContent = ((contentNode, compressed) => { if (compressed) { root.state.deferring = true; } if (root.state.deferring) { root.state.chain = (async () => { await root.state.chain; if (compressed) { const encoded = contentNode.textContent; const blob = new Blob([ Uint8Array.from(atob(encoded), (m) => m.codePointAt(0)) ]); const reader = blob.stream().pipeThrough( new DecompressionStream(\"deflate\") ).pipeThrough( new TextDecoderStream(\"utf-8\") ).getReader(); const parts = []; while (true) { const step = await reader.read(); if (step.done) { break; } parts.push(step.value); } const tpl = document.createElement('template'); tpl.innerHTML = parts.join(\"\"); _insertNode(tpl.content); } else { _insertNode(contentNode.content); } })(); } else { _insertNode(contentNode.content); } }); </script></treescope-run-here><div style=\"display:none\"> <script type=\"application/octet-stream\" >eNrFVk1v8zYM/iuCB7x1htrNV9vV+QDey7DDsMN22GEbDNmmbaGK5ElM0+xF/vso2UmaxOk2rNjiQ2yK5POQFCnNLW4lLGM0ADbXDaRGa2RfWKOtQKFVwgxIjuIFZqzUCqOSr4TcJmyllbYNz0m+qQVC5D8S1hiSSGEx8q4j3DYkVVqROOP5c2X0WhVRrqU2SWs6Y91XJkmB/IkC64SVAklNISicsYYXhVBVJKHEhI3z2oEoiGoQVU2SUXzv3CjkgjgfzLqX6EVYkQkpkJjzNeqDbiQUGqGsyCMr/oB2taO7m9+16Zkf0hOZtSJMQzKbG9Egc/EtbnjTSJFzl7E7nSO46A3w1c0yDAeLJSWU8CyyAkpl2YJhLWxcAf5I2f5BFxAO4lpbjP06hQbI0gaUC/lz7rw6o19+61v5jqtCAi2rtZSzFiEmmj9prUgabrR5HrC3HPTPJHJLJ2IUuRM2YEptVlzlECu9CQe+vgQQXqywqDWas8l4QH5EycIz1rEEVWHNFgs2dCrvUjeAa6Mo7wykhSOxeq0cs3PXthYlOn5ewb3s6LmCENKuUoXexAZ+X4PFz0qsfLm+NXwFYZuTgfMxuwBq1rZu0zjriXEPsWjDeCfKv8/BsWgLibqqZNuVqe8c2q2N8+UkIPGWwQtt8K6Sjp3/jp9h65IemMAR6pTjXHJrv6fm7PyGwcFnuqJtGOzBdwPKJ21/v8eX87u+BijEC/MOF8Hp+AgY8owihddFMAyYVkSGwlak99627481dDb7KANqu3ZgkQUYA0Xa0MyAWssCjN8xfpB8xR/d040sb5IwgZx6lGKLS1LnGUEp4nBl2O3YqVrasiPtQlgC3e6H2rkiWzLJM5BJkgH1C7xhlfvfrBevHWzRyE22bgAOZ0csofy4y6R2E/IqZq1fwFwiF9w8W+AVlUldWidKY3gmqrkNl97nsjcP3ibJa8ifoRgM2NeDIwdn2m+01z9h6Cd0wm5+Hd9n+c3/Se/U6CrJh/+ApKujA14b6wrYaDqnwPTgCvtxsL4VPFDk+81e2+Mfg3oMD+EVL1FiYdNSGIupVqnb/j2t9V4rxeN71029pWL/mn5b8XOKLqoVNxXdLFoavqF3dFhxN6023Cg6GNJ9uveToSx5Ppr0KDY07b8cbj+mu+w4nx1KJ4qGsQ/2eMVK/AWJm6gyvBBUzXA0uS+gumXacFUBG7Jh/JDXtwzpm25vhnRaEfPHQA+Vi3A/aNuf5WwfzC7e1KBSSpLkjYXir4fvPwZ/B6EduR7DK8FrQyf5VZ2P4NEHcX4XpUopJopFcDgCJ5Pp0+P0nsNwnE2zcZk9DPOyePrmcTqePo0esqAz6g7r05PjvKKk3NKeC9Wsu/tt4Ilm+jXoddLFRIttPHRh8Mb03/l6i993dAfLTxJnar1qtrGi08rwLeUWH6bh6JaSE8fsU4XuQkJ+lmd/b32fZDE4atJdZfknxT2Sew==</script> <treescope-run-here><script type=\"application/octet-stream\"> const root = ( Array.from(document.getElementsByClassName( \"treescope_out_28aff9bc109e4cc994d06e01829a6a3b\")) .filter((elt) => !elt.dataset['step0']) )[0]; root.dataset['step0'] = 1; root.defns.insertContent( this.parentNode.querySelector('script[type=\"application/octet-stream\"]'), true ); this.parentNode.remove(); </script></treescope-run-here> </div>"
      ],
      "text/plain": [
       "<IPython.core.display.HTML object>"
      ]
     },
     "metadata": {},
     "output_type": "display_data"
    },
    {
     "data": {
      "text/html": [
       "<div style=\"display:none\"> <script type=\"application/octet-stream\" >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</script> <treescope-run-here><script type=\"application/octet-stream\"> const root = ( Array.from(document.getElementsByClassName( \"treescope_out_28aff9bc109e4cc994d06e01829a6a3b\")) .filter((elt) => !elt.dataset['step1']) )[0]; root.dataset['step1'] = 1; root.defns.insertContent( this.parentNode.querySelector('script[type=\"application/octet-stream\"]'), true ); this.parentNode.remove(); </script></treescope-run-here> </div>"
      ],
      "text/plain": [
       "<IPython.core.display.HTML object>"
      ]
     },
     "metadata": {},
     "output_type": "display_data"
    },
    {
     "data": {
      "text/html": [
       "<treescope-run-here><script type=\"application/octet-stream\"> const root = ( Array.from(document.getElementsByClassName( \"treescope_out_28aff9bc109e4cc994d06e01829a6a3b\")) .filter((elt) => !elt.dataset.stolen) )[0]; root.dataset.stolen = 1; this.parentNode.replaceChild(root, this); </script></treescope-run-here>"
      ],
      "text/plain": [
       "array([13488])"
      ]
     },
     "execution_count": 18,
     "metadata": {},
     "output_type": "execute_result"
    }
   ],
   "source": [
    "import jax.numpy as jnp\n",
    "\n",
    "tokens = circuitizer.train_tokens\n",
    "mask = tokens[:, 1:] == 3978\n",
    "mask = jnp.cumsum(mask[:, ::-1], axis=-1)[:, ::-1] > 0\n",
    "mask = jnp.logical_not(mask)\n",
    "\n",
    "mask = jnp.logical_and(mask, tokens[:, 1:] != 0)\n",
    "\n",
    "\n",
    "tokens[0, 1:][mask[0]]"
   ]
  },
  {
   "cell_type": "code",
   "execution_count": null,
   "metadata": {},
   "outputs": [],
   "source": [
    "runner.train_pairs"
   ]
  },
  {
   "cell_type": "code",
   "execution_count": 32,
   "metadata": {},
   "outputs": [
    {
     "data": {
      "text/html": [
       "<script> (()=>{ if (customElements.get('treescope-container') === undefined) { class TreescopeContainer extends HTMLElement { constructor() { super(); this.attachShadow({mode: \"open\"}); this.defns = {}; this.state = {}; } } customElements.define(\"treescope-container\", TreescopeContainer); } if (customElements.get('treescope-run-here') === undefined) { class RunHere extends HTMLElement { constructor() { super() } connectedCallback() { const run = child => { const fn = new Function(child.textContent); child.textContent = \"\"; fn.call(this); this.remove(); }; const child = this.querySelector(\"script\"); if (child) { run(child); } else { new MutationObserver(()=>{ run(this.querySelector(\"script\")); }).observe(this, {childList: true}); } } } customElements.define(\"treescope-run-here\", RunHere); } })(); </script> <treescope-container class=\"treescope_out_197c0c4ca53a42d79d5bb2b5476f0ac9\" ></treescope-container> <treescope-run-here><script type=\"application/octet-stream\"> const root = ( Array.from(document.getElementsByClassName( \"treescope_out_197c0c4ca53a42d79d5bb2b5476f0ac9\")) .filter((elt) => !elt.dataset.setup) )[0]; root.dataset.setup = 1; const msg = document.createElement(\"span\"); msg.style = \"color: #aaaaaa; font-family: monospace; transition: opacity 0.2s; opacity: 0.0;\"; msg.textContent = \"(Loading...)\"; root.state.loadingMsg = msg; root.shadowRoot.appendChild(msg); root.state.chain = new Promise((resolve, reject) => { const observer = new IntersectionObserver((entries) => { for (const entry of entries) { if (entry.isIntersecting) { resolve(); observer.disconnect(); return; } } }, {rootMargin: \"1000px\"}); window.setTimeout(() => { if (root.loadingMsg) { root.loadingMsg.style.opacity = \"1.0\"; } observer.observe(root); }, 0); }); root.state.deferring = false; const _insertNode = (node) => { for (let oldScript of node.querySelectorAll(\"script\")) { let newScript = document.createElement(\"script\"); newScript.type = oldScript.type; newScript.textContent = oldScript.textContent; oldScript.parentNode.replaceChild(newScript, oldScript); } if (root.state.loadingMsg) { root.state.loadingMsg.remove(); root.state.loadingMsg = null; } root.shadowRoot.appendChild(node); }; root.defns.insertContent = ((contentNode, compressed) => { if (compressed) { root.state.deferring = true; } if (root.state.deferring) { root.state.chain = (async () => { await root.state.chain; if (compressed) { const encoded = contentNode.textContent; const blob = new Blob([ Uint8Array.from(atob(encoded), (m) => m.codePointAt(0)) ]); const reader = blob.stream().pipeThrough( new DecompressionStream(\"deflate\") ).pipeThrough( new TextDecoderStream(\"utf-8\") ).getReader(); const parts = []; while (true) { const step = await reader.read(); if (step.done) { break; } parts.push(step.value); } const tpl = document.createElement('template'); tpl.innerHTML = parts.join(\"\"); _insertNode(tpl.content); } else { _insertNode(contentNode.content); } })(); } else { _insertNode(contentNode.content); } }); </script></treescope-run-here><div style=\"display:none\"> <script type=\"application/octet-stream\" >eNrFVk1v4zYQ/SuECmykYqU49jpZy7aAXIoeih7awx7awqCkkcSaJlVynMQt8t87pGQ7tuWgQBetdbA0nJn35lNaWNxJyBI0ALbQLayM1sj+Yq22AoVWKTMgOYonmLNKK4wrvhFyl7KNVtq2vCD5cyMQYv+QstaQRAqLsXcd464lqdKKxDkv1rXRW1XGhZbapJ3pnPVPuSQF8idKbFJWCSQ1haBwzlpelkLVsYQKUzYuGgeiIG5A1A1J7pKpc6OQC+J8MOtv4idhRS6kQGLOt6gPurFQaISyooit+BO6057u6+K2S8/ikJ7YbBVhGpLZwogWmYtvecPbVoqCu4zd6gLBRW+Ab26yMIyWGSWU8CyyEipl2ZJhI2xSA/5E2f5RlxBGSaMtJv6cQgNkqxaUC/mxcF6d0S+/DZ18z1UpgY7VVsp5h5AQzZ+1ViQNn7VZR+wtB/2FRO7oRIyicMIWTKXNhqsCEqWfw8jXlwDCixMWd0YLNhlH5EdULDxjnUhQNTZsuWQjp/IudQO4NYryzkBaOBJrtsoxO3dtG1Gh4+cV3M0rXVcQQuoqVernxMAfW7D4qMTGl+s7wzcQdjmJnI/5BVC7tU2XxvlAjHuIZRfGO1H+cw6ORVdI1HUtu6lc+cmhbm2dLycBiR8ZPFGD95V07PxzsoadS3pgAkeoV04Kya39gYaz9xsGB5+rDbVhsAd/jSif1P6+x7PF7dAAlOKJeYfL4HR9BAx5TpHCyzIYBUwrIkNhK9J7r+2HYw2dzT7KgMauW1hkAcZAuWppZ0CjZQnGd4xfJN/wB3f1K8ubpEwgpxml2JKK1HlOUIo4XFl2r+xUbdWxI+1SWALd7ZfauSLLmOQ5yDTNgeYF3rAq/G8+iNcttvjObbZ+AY7mRyyh/LrLpXYb8ipmo5/AXCKX3Kwt8JrKpC6tU6UxPBM13IaZ95kN5sHbpEUDxRrKKGLfRkcOznTYaK9/wtBv6JTd/Dqe5sXN/0nv1Ogqyfv/gKSrowPeGusK2Gp6T4EZwBX268H6UfBAsZ83e63Hvw7qMTyEF7xESYRdVcJYXGm1cu0/MFrvjVIynrppGiwV+9f0u4qfU3RRbbip6cuio+EH+vglQV9JiolyGRwW2LScfebjyWg2mj18uh/lM17yaVXO7u4fPo/u7idBb9Sv2tO5P4cn5S6IhVDttv86CTztXL8Eg076COmwi47WvTem/97XW/yhxRtkHyTOf+cvyaMxfMcqqTlOxuHkY8SSJGEfanQvE/KSnf/RSyT7G8M3tnY=</script> <treescope-run-here><script type=\"application/octet-stream\"> const root = ( Array.from(document.getElementsByClassName( \"treescope_out_197c0c4ca53a42d79d5bb2b5476f0ac9\")) .filter((elt) => !elt.dataset['step0']) )[0]; root.dataset['step0'] = 1; root.defns.insertContent( this.parentNode.querySelector('script[type=\"application/octet-stream\"]'), true ); this.parentNode.remove(); </script></treescope-run-here> </div>"
      ],
      "text/plain": [
       "<IPython.core.display.HTML object>"
      ]
     },
     "metadata": {},
     "output_type": "display_data"
    },
    {
     "data": {
      "text/html": [
       "<div style=\"display:none\"> <script type=\"application/octet-stream\" >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</script> <treescope-run-here><script type=\"application/octet-stream\"> const root = ( Array.from(document.getElementsByClassName( \"treescope_out_197c0c4ca53a42d79d5bb2b5476f0ac9\")) .filter((elt) => !elt.dataset['step1']) )[0]; root.dataset['step1'] = 1; root.defns.insertContent( this.parentNode.querySelector('script[type=\"application/octet-stream\"]'), true ); this.parentNode.remove(); </script></treescope-run-here> </div>"
      ],
      "text/plain": [
       "<IPython.core.display.HTML object>"
      ]
     },
     "metadata": {},
     "output_type": "display_data"
    },
    {
     "data": {
      "text/html": [
       "<treescope-run-here><script type=\"application/octet-stream\"> const root = ( Array.from(document.getElementsByClassName( \"treescope_out_197c0c4ca53a42d79d5bb2b5476f0ac9\")) .filter((elt) => !elt.dataset.stolen) )[0]; root.dataset.stolen = 1; this.parentNode.replaceChild(root, this); </script></treescope-run-here>"
      ],
      "text/plain": [
       "<jax.Array([-0.00028572, -0.00039319, -0.01139488], dtype=float32)>"
      ]
     },
     "execution_count": 32,
     "metadata": {},
     "output_type": "execute_result"
    }
   ],
   "source": [
    "circuitizer.ie_resid[18][0, [60, 64, 68], 44111]"
   ]
  },
  {
   "cell_type": "code",
   "execution_count": 10,
   "metadata": {},
   "outputs": [],
   "source": [
    "from micrlhf.llama import LlamaBlock, LlamaAttention, LlamaMLP\n",
    "\n",
    "# llama.select().at_instances_of(LlamaBlock).pick_nth_selected(18).get()"
   ]
  },
  {
   "cell_type": "code",
   "execution_count": 11,
   "metadata": {},
   "outputs": [],
   "source": [
    "get_resids = llama.select().at_instances_of(LlamaBlock).apply_with_selected_index(lambda i, x:\n",
    "            pz.nn.Sequential([\n",
    "                x,\n",
    "                pz.de.TellIntermediate.from_config(tag=f\"resid_pre_{i}\"),\n",
    "            ])\n",
    "        )\n",
    "\n",
    "get_resids = get_resids.select().at_instances_of(LlamaAttention).apply_with_selected_index(lambda l, b: b.select().at(lambda x: x.attn_value_to_output).at_instances_of(pz.nn.Linear).apply_with_selected_index(lambda i, x: pz.nn.Sequential([\n",
    "            pz.de.TellIntermediate.from_config(tag=f\"resid_attn_{l}\"),\n",
    "            x,\n",
    "        ])))\n",
    "\n",
    "get_resids = get_resids.select().at_instances_of(LlamaMLP).apply_with_selected_index(lambda i, x:\n",
    "    pz.nn.Sequential([\n",
    "        pz.de.TellIntermediate.from_config(tag=f\"resid_mlp_in_{i}\"),\n",
    "        x,\n",
    "        pz.de.TellIntermediate.from_config(tag=f\"resid_mlp_out_{i}\"),\n",
    "    ])\n",
    ")\n",
    "\n",
    "get_resids = pz.de.CollectingSideOutputs.handling(get_resids, tag_predicate=lambda x: True)"
   ]
  },
  {
   "cell_type": "code",
   "execution_count": 12,
   "metadata": {},
   "outputs": [],
   "source": [
    "# get_resids = pz.de.CollectingSideOutputs.handling(get_resids, tag_predicate=lambda x: True)"
   ]
  },
  {
   "cell_type": "code",
   "execution_count": 12,
   "metadata": {},
   "outputs": [],
   "source": [
    "tokens = runner.get_tokens(\n",
    "    runner.train_pairs, tokenizer\n",
    ")[\"input_ids\"]\n",
    "\n",
    "tokens_wrapped = pz.nx.wrap(tokens, \"batch\", \"seq\")\n",
    "inputs = llama.inputs.from_basic_segments(tokens_wrapped)\n",
    "\n",
    "logits, resids = get_resids(inputs)"
   ]
  },
  {
   "cell_type": "code",
   "execution_count": 15,
   "metadata": {},
   "outputs": [
    {
     "data": {
      "text/html": [
       "<script> (()=>{ if (customElements.get('treescope-container') === undefined) { class TreescopeContainer extends HTMLElement { constructor() { super(); this.attachShadow({mode: \"open\"}); this.defns = {}; this.state = {}; } } customElements.define(\"treescope-container\", TreescopeContainer); } if (customElements.get('treescope-run-here') === undefined) { class RunHere extends HTMLElement { constructor() { super() } connectedCallback() { const run = child => { const fn = new Function(child.textContent); child.textContent = \"\"; fn.call(this); this.remove(); }; const child = this.querySelector(\"script\"); if (child) { run(child); } else { new MutationObserver(()=>{ run(this.querySelector(\"script\")); }).observe(this, {childList: true}); } } } customElements.define(\"treescope-run-here\", RunHere); } })(); </script> <treescope-container class=\"treescope_out_351a3351e906485b8a37ae0f4e1c58ed\" ></treescope-container> <treescope-run-here><script type=\"application/octet-stream\"> const root = ( Array.from(document.getElementsByClassName( \"treescope_out_351a3351e906485b8a37ae0f4e1c58ed\")) .filter((elt) => !elt.dataset.setup) )[0]; root.dataset.setup = 1; const msg = document.createElement(\"span\"); msg.style = \"color: #aaaaaa; font-family: monospace; transition: opacity 0.2s; opacity: 0.0;\"; msg.textContent = \"(Loading...)\"; root.state.loadingMsg = msg; root.shadowRoot.appendChild(msg); root.state.chain = new Promise((resolve, reject) => { const observer = new IntersectionObserver((entries) => { for (const entry of entries) { if (entry.isIntersecting) { resolve(); observer.disconnect(); return; } } }, {rootMargin: \"1000px\"}); window.setTimeout(() => { if (root.loadingMsg) { root.loadingMsg.style.opacity = \"1.0\"; } observer.observe(root); }, 0); }); root.state.deferring = false; const _insertNode = (node) => { for (let oldScript of node.querySelectorAll(\"script\")) { let newScript = document.createElement(\"script\"); newScript.type = oldScript.type; newScript.textContent = oldScript.textContent; oldScript.parentNode.replaceChild(newScript, oldScript); } if (root.state.loadingMsg) { root.state.loadingMsg.remove(); root.state.loadingMsg = null; } root.shadowRoot.appendChild(node); }; root.defns.insertContent = ((contentNode, compressed) => { if (compressed) { root.state.deferring = true; } if (root.state.deferring) { root.state.chain = (async () => { await root.state.chain; if (compressed) { const encoded = contentNode.textContent; const blob = new Blob([ Uint8Array.from(atob(encoded), (m) => m.codePointAt(0)) ]); const reader = blob.stream().pipeThrough( new DecompressionStream(\"deflate\") ).pipeThrough( new TextDecoderStream(\"utf-8\") ).getReader(); const parts = []; while (true) { const step = await reader.read(); if (step.done) { break; } parts.push(step.value); } const tpl = document.createElement('template'); tpl.innerHTML = parts.join(\"\"); _insertNode(tpl.content); } else { _insertNode(contentNode.content); } })(); } else { _insertNode(contentNode.content); } }); </script></treescope-run-here><div style=\"display:none\"> <script type=\"application/octet-stream\" >eNrtXQtX2zi3/SuedK0huYU0kh+xQ2HdQHm1QzstffeblSvbcuKS2MF2CHS+/vcrO+8QIJED2JI6swp1rIePztnePvHRfhlG1228W44CjEPL7+JG4PuR9K/U9UM3cn2vJgW4jSL3Em9Lju9FWw7quO3rmtTxPT/sIosc77fcCG8l/6hJ3YAcabthtJV0vRVdd8lRz/fIYRNZ583A73n2luW3/aA2aLotDf9ltskJpD/Xjlo1yXEjcpoXYS/alrrItl2vudXGTlSToNWKB/HwVgu7zRY5Aspq3I0XIZfMedxs+MvWpRu6ptt2IzJz1Iv88blbrhcFrhe61lbo/sKDT4fT/f3yxcA8L8fm2Qp6HhkzIMdCK3C7kRRf384G6nbbroVii73wrQjHVx9g1NnYLRZLO7vEoGS8MJJs7HihtCNFLTcsN3H0gVj7rW/jYqnc8sOonHxOLg1HUqOLvfiS61bca9zoxz+LPjlGnt3G5GOv125vD0Yok2me+b5Hjhb7fnBekqbn4H8hh+KPZg5HrhUf7OLA8YMO8ixc9vx+sZSsLxmgeOMTaWvQ6KUkwxLpx3Wk4tysy23sNaOWtLMjVeJT7px6gKNe4BG7S7gd4snEWj0vntl812HLdaJ4fskJ8S+/yX+3jFAkXuXZfr8c4IseDqO653aS5ToMUAcXBzYpxX1s3xio2wtbAzNuL7jG0RA7g8u44yqXn0M8i8FCRn6z2R5EZSOJHOKt3biv+AhuR5sSviQOPlzJeHbJv8vn+Do2eiEoxBManly22igM/yLBOey3WBj32egQNyyMBv9dIvYk7p/4+O7LF4sCwHYvpaTDncIsfBSkCJnkSvHVTqFSkHyPTIZctkfOu8vtF19rMW4zusoCCbsBYCWI0UCmGeDLxFMSAHmm6RBVKmT+wxMsv9MhDafOQMmf+DLnTkE1z4+KtZZ/iYPSgvOHp3u9jomDqQ4rhg5UbXJCGONJc3pEGahAjU8gl4mDANuNLgE63PLb9kxPqBr/N8TZ5DprkhshAixxY4ecjkxiH48Y7haEJhc1c1pjYFJytu2GZNDrERLPnyjtSm1k4natZmIS5HhqVlbyZ3vheAM03gIxHA9Rmxh/PJbrJRhttv0Y1m8dMzH5zZFtFJyHGDWJb3k3WyerNXeohcLibtLn7kI7DFbYamHrHNulkvQ/pckc4qaLG43On5lhclupSRv/gappbTzl9GYb3TpJ7REmGa9jPHAvCOMF7Prk5oqDBeO64fqGTUIhGWgrAYnwNh9fz6iTy4vwVXRzlLIbNhw3CKOG7zVi918QWneFUhmqcTQtXCop9fQHKz4/xfiqOihoEjo0mEYS0L9TjkbwsHtt9qKI8JBFADT5eJHTFqTC3FnEkIRjLj75PxgodmGOom6cIuIVLmpLZ9cd02+H0rteFF+vLe0PWpKf3WsSGFt9bJ4TujlA3g65AbUIhhMy6EWkuYtCbI9J6jNcif/bvunmg9YJi6yUDdyZv8pBfCy4isVwN2lZ7qOwYZH7ADHsuD1yopm7xwin7xpzrs3skNOmly5RUNzaslGEtpBHFjbhKaXpw/EgMfkKkDfy5qRbCYQSJhYjzHrL70WrXcp4BmRhXGz/MTuTZEjpD7fT9YMIeTf6NgP/HHuN+MgEjO637lSzKXuOlvl3OaYyZGJ2wyJE2A6wN5zq7KMG6XP2xDWh61ToDG+kM6FqobZVJM9DhIyD7lXC38phhOL24/k+2ExMPyAUZjgT24/ItcezmDbeRQ+1PUJvG+TB0HGvSCczYaInYUK4PIp5UR8FHgm8xgjYR2vhOMgC8oITu4QM/zt+OAyGz4Ixeg2NNDy0VSknsDp5Aq0lz48o2GoGyHbJshWBrNq4uSn5xKObWKqQ2WlWa3Pg4V0yLMGL5JA0tPKNqdwA1rUZfmbJRxdDrBEFPStqdK9jAt5AURSM7TtLH8dktQKh6sRN+63E5dtt1CXodj9DXB3+bx9hwAuTMZKT8BWBAfvWc9Yxj0VDDC909oQGofCTB61FZrn99PUs96Y0l44pzz6kSUtOeN7K46VokHZkClHqZo96vUtOf2ZR717IZUZdykTL2HKZwe67qHXko+IUgfRHPQjQddkJ/E7R9q1e/ABcjnEjLF+idg+HxVKpHPodXEzQJE4uxD/LA2YVJxaW5FaFDakklcapnLCFcRTne3Bf2j87O4uv5iw+Fmdvkg/LAU4ejs+uPav4f/875HMWHuHa6txuGg69OH/VHh7rD1OHSpwwCAOrJvWCdjEmGrX48xd933HgtkmojKZs2hXj6LRZ36snf07e1+t+8tvehz75+/iwXj+o3/Vnr1OvN8/9N/bJwd5+/1u9/vHb/uv66cnefv2weXVy/FcrCvdOXdyUD199hX+daN8uz7o99+9T9SN4/fXkw+fTyy+nv6K/rw8P959/aZ5/dPdeVVruq/e91wf20c/KsfnCuTyxuxdvtNbFF9d93zv1jlrHzqeo/knbexso9cMT7/xAsz71et7zD+qFFZ73L53D9ouLq+aBrzfN1/0jHRzXX3j1D+pfQfAafHje/FX5YFfqrx3QfFvd7x/9hM2Kf937UK12DoDWP/5qvGs2u/jj+bWCT8xfqmUG744iVG++P3nbf4XC6/B97+Tk65eDw3797/fdk2/2pxcvnjerH6tf5ajivPn7on6pkj7/qr+t1k/79U7z14ez573vZ/jg6xV0NOvXW+XD8bXa26u/+bX3s3vYld3j9/sHle+9v5Wzqufs/XVwfHjaqbvP9csD2PJAq/rc/Nz/+rN/HFy+Ovq07/10Dg6a0fN31vd2u6oa+6/7e3rLUE5Pj87ko+/1ZudE/bn33og+HuFj42Bv7+RIftVUPrz4Zl2b9SOypp/fvKi/P0J1fLrfrh//OnjX/B41tb2/m+/enbzaO3ffq/hw7+v+3qHlVrqtwO96xDe63w9egV/g/MzZd6LW9Rvv2EaH4bFTeds5Onir7dn1i8+fuygKz753bBu5BnR+Gcon9+eF1u0E2jv/2/6ZGxx1Ll8fyWdfzuTDA2jtvXc+Pj9u+90j5TDsq6h5oenud3z2tt394u0dn2D7NMC9LxdH+x3w5TA4Pzu7UqH25UvYr5MZlaQkdxsVNxK33ogpzP+Rv8bRj2y/S+jbJCSTjHO5XL7jjM1BzP5D+ro7s9dKUqAJwx6Qf9I3cQ/PkooDDj6boCYh+NGPw5ecNuTo8bGQwEPcRfzQETN11EduJHno0m2iyA/KpOeu6aPALvcDN8IfyfN5cdIXudhhX5MsKOGNxcLUE0mc/ySjfHQ7mDy6FEcJ8hvtAtwhjxc3mv7elGClUknoIQFfwhSLybP14nGnHjsKk8nFWYURgsUp44L0TDpEbpsAW+RL8cl/JMhGKKFHqDVBY5fYDCM7fmp6Pm27YS73nixu/AQ2SuPOpufmyWxh9+Xgvv7S9bq94Z2mkNzJTf+qsLCT4U2ffDi44ZNJJI1nx22RngIyxHkjIjwXR4XkMrbO8TWJkdZOobD7g1wFaUCaD6cw3fzG81nhrs8L+bjmH5V/5mY6y0fmPpx7zCrsdrH3C7lJ3DSw42CL3NtDl8yOODaZTHls0OTHGfnkXfLB5/j+X7zD3BuTJ+cNyff2Y/ff2Vgx/pOsfmlDGj/W7xSKbdQxbZR8V1FL/iYmKBWk5Na9U5hKAZC7/+KT40zOfM6CnJxEQ2xV8vvQbLuzl5/KnUZLdrtbpfEiau8pD/9R2M3Mao6mtNKqjhs9zeo+ElikXua0ePETXSXPKI1e5Lbn0OEIR/UoCt7g68y50qoYMd3uaRwqtvpOilUuxx3MjTH9zWNh989nV7C6bfr29eC3OyY/k0ko7G4ucU4WljyxAe26DxrTL/6iH6Xhz82blhvnLQq7Uk7M+wQRtWx85QiQAZ+ADCjdB+QTkIEA5JENaNddAHIGI4pBQIZ8AjKkdB+YT0CGSwNy2DPb6BoHIZuoDNOgMhSonMWwYhCV5YdD5bP4PWvPwpmEZZnSf+SngmXXvtpJscpl0n4hKA/eqC7syqwB8OCaaVc5aSvgN1PhwyD8KnySYoXSfZR8kmJFkOIZQ9AuviDFGQwrBlFZ5ZQUq5T+o+aSFKv3k+IKawCspiDFqiDFGQwfBuFX45MUa5Tuo+WTFGuCFM8YgnbxBSnOYFgxiMpVTklxldJ/qrkkxVUOSXE1BSmuClKcwfBhEH51PkmxTuk+ej5JsS5I8YwhaBdfkOIMhhWDqGxwSooNSv8xckmKjftJMWANgI0UpNgQpDiD4cNikQenZXeAtkoI5LTwDixfeWfjdoQYrfRIVXsHRPFdRuOKRWTmtf6OulworxV4QKQsZi1Bvf4CnTMZWyyiM+Q0bwFo64YAzGXmgkz73tQFZA6IYYrcxaixgOGMxRCLMCxzSpJpy4eAnFOSLC9NklEUeY1kG1jiZ8Pt4hjly3IqviwLvpzNMGMRqDmt0wO0FUUgp5V6QJTqzVmCev0FOmcytlhEZ17r9QBtxRHIZ8UeUDl8EQOkqdkDomgvmzHEIgxzWrcHaCuMQE4r94Ao3ZuzBPX6C5KcydhiEZ15rd8DtBVIIJ8VfIDHEj6QpoYPiCK+bMYQizDMaR0foK04Ajmt5AMrlPINhaEY5cipSvnAw9byMWHepwgsxu94j62RtfydLkLN1UGJNFoChwJMkKiRvIBQWYRFeV5XYoHV1jRu8OjM5aaieGE3eRdk2NPqK5+0vosfrZEOufZOgawTDmJhds3WsFlRgFI1DKWiQqQDCxtI1y3d1mwFL2JBd4hML3RfZJoBviTu246235KbhJ0IK0um0/ZRBLTifyUz1gGt6ZtSiC9qAJJfzi8bLYzssKZsSheNAHdrcFPqBv5PbCXLC1WtJBX7Aep2SWhIMd9Kei392YyWvjfPqIKvQ0jS8gOc3AeJaa5wOEf8JtdeXDb6hha0/E6sLkuiV3qW3m533yMWaIcubTQa7jYwVeaEIZOInFrLVO4RR8xgAeZ94l1gYxKHr1wrKv6bmceB+YtfDZNvtM6AKOWNJV9CiioOrkU32JqU2pt+bCS9b/xzZ/5HZ+fGfqsBbnGtPy96frS9al+DVo9NByh8i+D1g3kW6fsevyJ3CpY9KzHAWvxq0FNuvGp0838w1xoNcI9/KSx718QGa3Gxqe5y42cJsXwwJ0t6v8fDIMseNjTAWtxr1FdufGvyrPJgDjYZ4j4vUzVW0rx3W2EtrjbT4Vr9bfDjd4nBaH+yJ6s1pr7i8RsozmvM5r9mE00KqmoqNixdNxRLxSaGslbByFIrGq7I6sMnvxZlNsbT67aRhVukgzju40TVOKM0ybfom1KSY1E2JUj+jzNQ5XJZWpBxYgMtJutK46VTrR/oSyGWjE1hYfG10LxdVjIiSy88SMlp2KZMd6bcBGiY/E4CHjsO4QBhefRlOZnM/Fto5JN3yQefYy/OyDsQK+1Z8mR7AI2WLFPJcjD+ZrWwm5nVpPiGGKzjG+K1Jawz93bUxDw/eNrOceayqbzpR542c5yZ9rJvRpm+fc3QW1E3bUC77qJuIIMRxcrrqlP2AHwCMqB0H5BPQAYCkH+ANIAs9m7MZEQxCMiQT0CGlO4D8wnIkOsC25uGoF18gcoZDCsGUVnmqbZ25rrp/EfOT2XtzKzvLayVWQNgedW62pttBfxmKnwYhF+FT1KsULqPkk9SrAhSPGMI2sUXpDiDYcUgKquckmKV0n/UXJJilZfdZm5cM+0qC1KcvfBhEH41PkmxRuk+Wj5JsSZI8YwhaBdfkOIMhhWDqFzllBRXKf2nmktSXOWQFFdTkGKxAWMWw4dB+NX5JMU6pfvo+STFuiDFM4agXXxBijMYVgyissEpKTYo/cfIJSk2OHx9wkhBig1BijMYPiwWeXBadgdoq4RATgvvwPKVdzZuR4jRSo9UtXdAFN9lNK5YRGZe6++oy4XyWoEHRMpi1hLU6y/QOZOxxSI6Q07zFoC2bgjAXGYuyLTvTV1A5oAYpshdjBoLGM5YDLEIwzKnJJm2fAjIOSXJsiDJs5agXn9BkjMZWyyis8IrSaatIwJKPkmywuFLb8OLpl5oQZKzGEMswrDKKUmmLScCak5Jssqz7vACQ1Avv9AdzmBgMX7He+xdpR9SdxispjvcaXcbLmvKw2BV5WHAhvIweELlYcMxNWSbWFdMWTGdKrJkzXKgrVX0ik7+9VTKw5g8A9k28fsalCuKEBm+30RCT3jZOONSTxikUr0CQk94CW/iS08YrFFPGAg94Xs8iyc9YbA2PWHAgJ7w+D7/YL41HuE+JU7CM1jJfNxphbW42XR/Qogz45TksYU4keLYVcNQKuTBS1EMZADbVJCCZNmB0HKsHAlxDh7QWNTgBKk0OIHQ4KQxNoWFRYr0qWQUWdPghEKDc6VXLaHQ4JzxnsxpcEKab0ug0OBcbpm50uCElIqBMJ8anFBocC6wAe26i3doMxhRrLy6BfnU4ISUioEwnxqcUGhwLrAB7boLQM5gRDEIyJBPQIaU7gPzCch8a3DCNBqcUGhwZjysGERlrjQ4IaWIIMylBifkUIMTptDghEKDM9vhwyD8KnySYoXSfZR8kmJFkGJaDU4oNDgzHlYMorLKKSlWKf1HzSUp5kaDE6bQ4IRCgzPb4cMg/Gp8kmKN0n20fJJiTZBiWg1OKDQ4Mx5WDKJylVNSXKX0n2ouSXGVQ1JcTUGKhQZnFsOHQfjV+STFOqX76PkkxbogxbQanFBocGY8rBhEZYNTUmxQ+o+RS1JscPj6hJGCFAsNziyGD4tFHpyW3QHaKiGQ08I7jjU4YSoNTig0OLMfVywiM6/1d9TlQnmtwAMiZUGtwQmFBmf2Y4tFdIac5i0Abd1QnjQ4IY8anDCNBicUGpyZjyEWYVjmlCTTlg/lSoMTCg3OhSuYhiQLDc6MxhaL6KzwSpJp64jypMEJV9PgZI8kK2lIstDgzGYMsQjDKqckmbacKFcanFBocC5awDQcWWhwZjKwGL/jPfau0g+pwQlX1+AkYMSYCCdcVYQTsiHCCZ9QhNPRoOHYVSTboKJgxTB0ZOsOVBECVWwYmhDhFCKcrIhwQp5FOGEqxSsoRDiX8Ca+RDjhGkU4oRDhvMezeBLhhGsT4YRChHMJ3+JOhBOuWYQTChHOnFOSxxbhdJAtO8ByZN3WFR0qZgWYWNFl1dIcqFWxEOHMkoNSiXBCIcJJY2wKC4sc6VPpKLLy7Z8sxDdXeotHFuKbM96TOfFNmeZrElmIby63zFyJb8qUUoFyPsU3ZSG+ucAGtOsuXp7NYESxw9q4FN+UKaUC5XyKb8pCfHOBDWjXXQByBiOKQUCGfAIypHQfmE9A5lt8U04jvikL8c2MhxWDqMyV+KZMqR4o51J8U+ZQfFNOIb4pC/HNbIcPg/Cr8EmKFUr3UfJJihVBimnFN2UhvpnxsGIQlVVOSbFK6T9qLkkxN+KbcgrxTVmIb2Y7fBiEX41PUqxRuo+WT1KsCVJMK74pC/HNjIcVg6hc5ZQUVyn9p5pLUryE+CZgDYCrKUixEN/MYvgwCL86n6RYp3QfPZ+kWOd5/zE5jfam/FjamywY9wliivH73GMX1Tzk3mPyanuPkVsMY/uOyavuOyazse+Y/IT7jmm6rVQVtVI1ZV1RbAchZNvYsHUV645sK2LfMbHvGCv7jsk87zsmp9rkQxb7ji3hTXztOyavcd8xWew7do9n8bTvmLy2fcdkse/YEr7F3b5j8pr3HZPFvmM5pySPve+YZSBZhzqSjYqhmBoyAAYaRrIiK7qpqFWx71iWHJRq3zFZ7DtGY2wKC4v86FNtIcXKN36K2HdspbfYFbHv2Iz3ZG7fMYXmKxJF7Du23DJzte+YQrlLkpLPfccUse/YAhvQrrt4TTaDEcUOa+Ny3zGFcpckJZ/7jili37EFNqBddwHIGYwoBgEZ8gnIkNJ9YD4Bme99x5Q0+44pYt+xjIcVg6jM1b5jCuXGSUou9x1TONx3TEmx75gi9h3LdvgwCL8Kn6RYoXQfJZ+kWBGkmHbfMUXsO5bxsGIQlVVOSbFK6T9qLkmxyssWC0qKfccUse9YtsOHQfjV+CTFGqX7aPkkxZogxbT7jili37GMhxWDqFzllBRXKf2nmktSXOVlM14lxb5jith3LNvhwyD86nySYp3SffR8kmJdkGLajceUx9p4jAVUfpKwYhCVDU5JsUHpP0YuSbHBYabYSEGKDUGKMxg+LBZ5cFp2B2irhEBOC+/A8pV3Nm5HiNFKj1S1d0AU32U0rlhEZl7r76jLhfJagQdEymLWEtTrL9A5k7HFIjpDTvMWgLZuCMBcZi7ItO9NXUDmgBimyF2MGgsYzlgMsQjDMqckmbZ8CMg5Jcny0iQZRZHXSDYxJH423C6OUb4sp+LLsuDL2QwzFoGa0zo9QFtRBHJaqQdEqd6cJajXX6BzJmOLRXTmtV4P0FYcgXxW7AEeS/ZAmpo9IIr2shlDLMIwp3V7gLbCCOS0cg+I0r05S1CvvyDJmYwtFtGZ1/o9QFuBBPJZwQd4LOEDaWr4gCjiy2YMsQjDnNbxAdqKI5DTSj6wQinfUBiKUY6cqpQPPGwtHxPmfYrAYvyO99gaWcvf6SLUXB2USKMlcCjABIkayQsIYBEW5XldiQVWW9O4QSbUY5N3QWaFY1dY+aT1w2vH3tSzNW3drqq6rUIAlIqsG7pmAkdTTUfDyFTxIhY09qYGWWcyUnQrLxq4LzLNAF8O9GjfxqK/c4K0/5USxfiavimF+KKWiNOeXzZaGNlhTdmULhoB7tbgptQN/J/YSpYXqlpJKvYD1O2S0JDGMrelBVq2t3p6g0zutqlTCUlafjCtazxH/CbXXlw2+oYWtPxOh7gjiV7pWXq73X2PWCAvvLTRaLjbwFSZE4ac16hO5R5xxAwWYN4n3gU2JnH4yrWi4r+ZeRxIIe+trFXee22ilDeWfAkpqji4Ft1ga1Jqb/qxkfS+8c+d+R+dnRv7rQa4xbX+vOj50faqfQ1aPTYdoPAtgtcP5lmk73v8itwpWPasxABr8atBT7nxqtHN/8FcazTAPf6lsOxdExusxcWmusuNnyXE8sGcLOn9Hg+DLHvY0ABrca9RX7nxrcmzyoM52GSI+7xM1VhJ895thbW42kyHa/W3wY/fJQaj/cmerNaY+orHb6A4rzGb/5pJNFWR6timXtFsoCqWhg3Lts0KQKoMFfKB9vDJr0WZjfH0um1k4RbpII77OFE1zihN8i36ppTkWJRNCZL/4wxUuVyWFmSc2ECLybrSeOlU6wf6UoglY1NYWHzXNmuVlUy4ZuP9s4xhRi1s93L3/wEHVR+0</script> <treescope-run-here><script type=\"application/octet-stream\"> const root = ( Array.from(document.getElementsByClassName( \"treescope_out_351a3351e906485b8a37ae0f4e1c58ed\")) .filter((elt) => !elt.dataset['step0']) )[0]; root.dataset['step0'] = 1; root.defns.insertContent( this.parentNode.querySelector('script[type=\"application/octet-stream\"]'), true ); this.parentNode.remove(); </script></treescope-run-here> </div>"
      ],
      "text/plain": [
       "<IPython.core.display.HTML object>"
      ]
     },
     "metadata": {},
     "output_type": "display_data"
    },
    {
     "data": {
      "text/html": [
       "<div style=\"display:none\"> <script type=\"application/octet-stream\" >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</script> <treescope-run-here><script type=\"application/octet-stream\"> const root = ( Array.from(document.getElementsByClassName( \"treescope_out_351a3351e906485b8a37ae0f4e1c58ed\")) .filter((elt) => !elt.dataset['step1']) )[0]; root.dataset['step1'] = 1; root.defns.insertContent( this.parentNode.querySelector('script[type=\"application/octet-stream\"]'), true ); this.parentNode.remove(); </script></treescope-run-here> </div>"
      ],
      "text/plain": [
       "<IPython.core.display.HTML object>"
      ]
     },
     "metadata": {},
     "output_type": "display_data"
    },
    {
     "data": {
      "text/html": [
       "<treescope-run-here><script type=\"application/octet-stream\"> const root = ( Array.from(document.getElementsByClassName( \"treescope_out_351a3351e906485b8a37ae0f4e1c58ed\")) .filter((elt) => !elt.dataset.stolen) )[0]; root.dataset.stolen = 1; this.parentNode.replaceChild(root, this); </script></treescope-run-here>"
      ],
      "text/plain": [
       "[SideOutputValue(\n",
       "   keypath=(GetAttrKey(name='body'), GetAttrKey(name='body'), GetAttrKey(name='sublayers'), SequenceKey(idx=3), GetAttrKey(name='sublayers'), SequenceKey(idx=0), GetAttrKey(name='sublayers'), SequenceKey(idx=0), GetAttrKey(name='sublayers'), SequenceKey(idx=1), GetAttrKey(name='delta'), GetAttrKey(name='sublayers'), SequenceKey(idx=2), GetAttrKey(name='attn_value_to_output'), GetAttrKey(name='sublayers'), SequenceKey(idx=1), GetAttrKey(name='sublayers'), SequenceKey(idx=0), GetAttrKey(name='side_out')),\n",
       "   tag='resid_attn_0',\n",
       "   value=<NamedArray bfloat16(| batch:8, seq:128, kv_heads:4, q_rep:2, projection:256) ≈-0.0014 ±0.34 [≥-4.2, ≤5.4] nonzero:2_097_152 (wrapping jax.Array)>,\n",
       " ),\n",
       " SideOutputValue(\n",
       "   keypath=(GetAttrKey(name='body'), GetAttrKey(name='body'), GetAttrKey(name='sublayers'), SequenceKey(idx=3), GetAttrKey(name='sublayers'), SequenceKey(idx=0), GetAttrKey(name='sublayers'), SequenceKey(idx=0), GetAttrKey(name='sublayers'), SequenceKey(idx=3), GetAttrKey(name='delta'), GetAttrKey(name='sublayers'), SequenceKey(idx=2), GetAttrKey(name='sublayers'), SequenceKey(idx=0), GetAttrKey(name='side_out')),\n",
       "   tag='resid_mlp_in_0',\n",
       "   value=<NamedArray bfloat16(| batch:8, seq:128, embedding:2304) ≈0.0052 ±1.9 [≥-4e+01, ≤7.8e+01] zero:1_935 nonzero:2_357_361 (wrapping jax.Array)>,\n",
       " ),\n",
       " SideOutputValue(\n",
       "   keypath=(GetAttrKey(name='body'), GetAttrKey(name='body'), GetAttrKey(name='sublayers'), SequenceKey(idx=3), GetAttrKey(name='sublayers'), SequenceKey(idx=0), GetAttrKey(name='sublayers'), SequenceKey(idx=0), GetAttrKey(name='sublayers'), SequenceKey(idx=3), GetAttrKey(name='delta'), GetAttrKey(name='sublayers'), SequenceKey(idx=2), GetAttrKey(name='sublayers'), SequenceKey(idx=2), GetAttrKey(name='side_out')),\n",
       "   tag='resid_mlp_out_0',\n",
       "   value=<NamedArray bfloat16(| batch:8, seq:128, embedding:2304) ≈-0.0015 ±0.18 [≥-1.1e+01, ≤5.6] nonzero:2_359_296 (wrapping jax.Array)>,\n",
       " ),\n",
       " SideOutputValue(\n",
       "   keypath=(\n",
       "     GetAttrKey(name='body'),\n",
       "     GetAttrKey(name='body'),\n",
       "     GetAttrKey(name='sublayers'),\n",
       "     SequenceKey(idx=3),\n",
       "     GetAttrKey(name='sublayers'),\n",
       "     SequenceKey(idx=0),\n",
       "     GetAttrKey(name='sublayers'),\n",
       "     SequenceKey(idx=1),\n",
       "     GetAttrKey(name='side_out'),\n",
       "   ),\n",
       "   tag='resid_pre_0',\n",
       "   value=<NamedArray bfloat16(| batch:8, seq:128, embedding:2304) ≈-0.0068 ±2.0 [≥-1e+02, ≤3.3e+02] zero:2_091 nonzero:2_357_205 (wrapping jax.Array)>,\n",
       " ),\n",
       " SideOutputValue(\n",
       "   keypath=(GetAttrKey(name='body'), GetAttrKey(name='body'), GetAttrKey(name='sublayers'), SequenceKey(idx=3), GetAttrKey(name='sublayers'), SequenceKey(idx=1), GetAttrKey(name='sublayers'), SequenceKey(idx=0), GetAttrKey(name='sublayers'), SequenceKey(idx=1), GetAttrKey(name='delta'), GetAttrKey(name='sublayers'), SequenceKey(idx=2), GetAttrKey(name='attn_value_to_output'), GetAttrKey(name='sublayers'), SequenceKey(idx=1), GetAttrKey(name='sublayers'), SequenceKey(idx=0), GetAttrKey(name='side_out')),\n",
       "   tag='resid_attn_1',\n",
       "   value=<NamedArray bfloat16(| batch:8, seq:128, kv_heads:4, q_rep:2, projection:256) ≈0.0049 ±0.31 [≥-4.2, ≤4.1] nonzero:2_097_152 (wrapping jax.Array)>,\n",
       " )]"
      ]
     },
     "execution_count": 15,
     "metadata": {},
     "output_type": "execute_result"
    }
   ],
   "source": [
    "[x for x in resids[:5]]"
   ]
  }
 ],
 "metadata": {
  "kernelspec": {
   "display_name": "micrlhf-progress-_SD4q1c9-py3.10",
   "language": "python",
   "name": "python3"
  },
  "language_info": {
   "codemirror_mode": {
    "name": "ipython",
    "version": 3
   },
   "file_extension": ".py",
   "mimetype": "text/x-python",
   "name": "python",
   "nbconvert_exporter": "python",
   "pygments_lexer": "ipython3",
   "version": "3.10.12"
  }
 },
 "nbformat": 4,
 "nbformat_minor": 2
}
