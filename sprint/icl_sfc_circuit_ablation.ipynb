{
 "cells": [
  {
   "cell_type": "code",
   "execution_count": 1,
   "metadata": {},
   "outputs": [],
   "source": [
    "import os\n",
    "if \"models\" not in os.listdir(\".\"):\n",
    "    os.chdir(\"../..\")"
   ]
  },
  {
   "cell_type": "code",
   "execution_count": 2,
   "metadata": {},
   "outputs": [],
   "source": [
    "%load_ext autoreload\n",
    "%autoreload 2\n",
    "import penzai\n",
    "import jax_smi\n",
    "jax_smi.initialise_tracking()\n",
    "from penzai import pz\n",
    "pz.ts.register_as_default()\n",
    "pz.ts.register_autovisualize_magic()\n",
    "pz.enable_interactive_context()"
   ]
  },
  {
   "cell_type": "code",
   "execution_count": 3,
   "metadata": {},
   "outputs": [],
   "source": [
    "from micrlhf.llama import LlamaTransformer\n",
    "llama = LlamaTransformer.from_pretrained(\"models/gemma-2b-it.gguf\", from_type=\"gemma\", load_eager=True, device_map=\"tpu:0\")"
   ]
  },
  {
   "cell_type": "code",
   "execution_count": 4,
   "metadata": {},
   "outputs": [],
   "source": [
    "from transformers import AutoTokenizer\n",
    "tokenizer = AutoTokenizer.from_pretrained(\"alpindale/gemma-2b\")\n",
    "tokenizer.padding_side = \"right\""
   ]
  },
  {
   "cell_type": "code",
   "execution_count": 5,
   "metadata": {},
   "outputs": [],
   "source": [
    "from sprint.icl_sfc_utils import Circuitizer"
   ]
  },
  {
   "cell_type": "code",
   "execution_count": 6,
   "metadata": {},
   "outputs": [
    {
     "name": "stderr",
     "output_type": "stream",
     "text": [
      "fatal: destination path 'data/itv' already exists and is not an empty directory.\n"
     ]
    }
   ],
   "source": [
    "from sprint.task_vector_utils import load_tasks, ICLRunner\n",
    "tasks = load_tasks()"
   ]
  },
  {
   "cell_type": "code",
   "execution_count": 7,
   "metadata": {},
   "outputs": [],
   "source": [
    "task_names = [\"en_es\", \"antonyms\", \"person_profession\"]\n",
    "task_name = task_names[0]\n",
    "task_name = \"antonyms\""
   ]
  },
  {
   "cell_type": "code",
   "execution_count": 8,
   "metadata": {},
   "outputs": [
    {
     "name": "stdout",
     "output_type": "stream",
     "text": [
      "162\n",
      "162\n",
      "Setting up masks...\n"
     ]
    },
    {
     "name": "stdout",
     "output_type": "stream",
     "text": [
      "Running metrics...\n",
      "Setting up RMS...\n"
     ]
    },
    {
     "data": {
      "application/vnd.jupyter.widget-view+json": {
       "model_id": "63368708c9e04ed28d60e1153d79725c",
       "version_major": 2,
       "version_minor": 0
      },
      "text/plain": [
       "  0%|          | 0/18 [00:00<?, ?it/s]"
      ]
     },
     "metadata": {},
     "output_type": "display_data"
    },
    {
     "name": "stdout",
     "output_type": "stream",
     "text": [
      "Loading SAEs...\n"
     ]
    },
    {
     "data": {
      "application/vnd.jupyter.widget-view+json": {
       "model_id": "b66e46f98cc24007ab6271c6f6a1980d",
       "version_major": 2,
       "version_minor": 0
      },
      "text/plain": [
       "  0%|          | 0/6 [00:00<?, ?it/s]"
      ]
     },
     "metadata": {},
     "output_type": "display_data"
    },
    {
     "name": "stdout",
     "output_type": "stream",
     "text": [
      "Running node IEs...\n"
     ]
    },
    {
     "data": {
      "application/vnd.jupyter.widget-view+json": {
       "model_id": "c9f9c8c42c5f4cfc9c90846e1d80ff01",
       "version_major": 2,
       "version_minor": 0
      },
      "text/plain": [
       "  0%|          | 0/6 [00:00<?, ?it/s]"
      ]
     },
     "metadata": {},
     "output_type": "display_data"
    },
    {
     "data": {
      "application/vnd.jupyter.widget-view+json": {
       "model_id": "dffa3f948d524a669f488b161d9cb212",
       "version_major": 2,
       "version_minor": 0
      },
      "text/plain": [
       "  0%|          | 0/6 [00:00<?, ?it/s]"
      ]
     },
     "metadata": {},
     "output_type": "display_data"
    },
    {
     "data": {
      "application/vnd.jupyter.widget-view+json": {
       "model_id": "8083cb4ebb8944d3a6fe4de63579933f",
       "version_major": 2,
       "version_minor": 0
      },
      "text/plain": [
       "  0%|          | 0/5 [00:00<?, ?it/s]"
      ]
     },
     "metadata": {},
     "output_type": "display_data"
    }
   ],
   "source": [
    "def check_if_single_token(token):\n",
    "    return len(tokenizer.tokenize(token)) == 1\n",
    "\n",
    "task = tasks[task_name]\n",
    "\n",
    "print(len(task))\n",
    "\n",
    "# task = {\n",
    "#     k:v for k,v in task.items() if check_if_single_token(k) and check_if_single_token(v)\n",
    "# }\n",
    "\n",
    "print(len(task))\n",
    "\n",
    "pairs = list(task.items())\n",
    "\n",
    "batch_size = 8 \n",
    "n_shot=16\n",
    "if task_name.startswith(\"algo\"):\n",
    "    n_shot = 8\n",
    "max_seq_len = 128\n",
    "seed = 10\n",
    "\n",
    "prompt = \"Follow the pattern:\\n{}\"\n",
    "\n",
    "runner = ICLRunner(task_name, pairs, batch_size=batch_size, n_shot=n_shot, max_seq_len=max_seq_len, seed=seed, prompt=prompt, use_same_examples=True, use_same_target=False)\n",
    "\n",
    "\n",
    "layers = list(range(11, 17))\n",
    "circuitizer = Circuitizer(llama, tokenizer, runner, layers, prompt)"
   ]
  },
  {
   "cell_type": "code",
   "execution_count": 9,
   "metadata": {},
   "outputs": [],
   "source": [
    "second_task_name = \"antonyms\"\n",
    "\n",
    "second_task = tasks[second_task_name]\n",
    "\n",
    "# second_task = {\n",
    "#     k:v for k,v in second_task.items() if check_if_single_token(k) and check_if_single_token(v)\n",
    "# }\n",
    "\n",
    "second_pairs = list(second_task.items())\n",
    "\n",
    "second_runner = ICLRunner(second_task_name, second_pairs, batch_size=batch_size, n_shot=n_shot, max_seq_len=max_seq_len, seed=seed, prompt=prompt, use_same_examples=True, use_same_target=True)"
   ]
  },
  {
   "cell_type": "code",
   "execution_count": 10,
   "metadata": {},
   "outputs": [
    {
     "data": {
      "application/vnd.jupyter.widget-view+json": {
       "model_id": "e8ab83b166d247aa9c89991bcb599a78",
       "version_major": 2,
       "version_minor": 0
      },
      "text/plain": [
       "  0%|          | 0/1 [00:00<?, ?it/s]"
      ]
     },
     "metadata": {},
     "output_type": "display_data"
    },
    {
     "name": "stdout",
     "output_type": "stream",
     "text": [
      "-16.875 -78.0\n"
     ]
    }
   ],
   "source": [
    "\n",
    "layers = [11,12,13,14,15,16]\n",
    "orig_metric = circuitizer.ablated_metric(llama, runner=(runner, tokenizer)).tolist()\n",
    "zero_metric = circuitizer.run_ablated_metrics([100000], layers=layers, runner=(runner, tokenizer), prompt=prompt)[0][0]\n",
    "\n",
    "print(orig_metric, zero_metric)"
   ]
  },
  {
   "cell_type": "code",
   "execution_count": 11,
   "metadata": {},
   "outputs": [
    {
     "data": {
      "application/vnd.jupyter.widget-view+json": {
       "model_id": "3e9df06826994427bf24caea17cdbdcd",
       "version_major": 2,
       "version_minor": 0
      },
      "text/plain": [
       "  0%|          | 0/150 [00:00<?, ?it/s]"
      ]
     },
     "metadata": {},
     "output_type": "display_data"
    }
   ],
   "source": [
    "import numpy as np\n",
    "# thresholds = np.linspace(0, 1e-4, 100)\n",
    "# thresholds = np.linspace(1.4 * 1e-4, 1.45 * 1e-4, 200)\n",
    "thresholds = np.logspace(-4, -1, 150)\n",
    "topks = [4, 6, 12, 16, 24, 32]\n",
    "\n",
    "inverse = True\n",
    "do_abs = False\n",
    "mean_ablate = False\n",
    "average_over_positions = True\n",
    "\n",
    "\n",
    "ablated_metrics, n_nodes_counts = circuitizer.run_ablated_metrics(thresholds, inverse=inverse, \n",
    "                                                                  do_abs=do_abs, mean_ablate=mean_ablate, \n",
    "                                                                  average_over_positions=average_over_positions,\n",
    "                                                                  token_prefix=None, layers=layers)\n",
    "\n",
    "faithfullness = np.array(ablated_metrics)\n",
    "faithfullness = (faithfullness - zero_metric) / (orig_metric - zero_metric)\n",
    "\n",
    "\n",
    "\n",
    "# target_metric = (max(ablated_metrics) - min(ablated_metrics)) * 0.95 + min(ablated_metrics)\n",
    "# target_threshold = [threshold for threshold, metric in reversed(list(zip(thresholds, ablated_metrics))) if metric > target_metric][0]"
   ]
  },
  {
   "cell_type": "code",
   "execution_count": 13,
   "metadata": {},
   "outputs": [
    {
     "data": {
      "application/vnd.plotly.v1+json": {
       "config": {
        "plotlyServerURL": "https://plot.ly"
       },
       "data": [
        {
         "hovertemplate": "x=%{x}<br>y=%{y}<extra></extra>",
         "legendgroup": "",
         "line": {
          "color": "#636efa",
          "dash": "solid"
         },
         "marker": {
          "symbol": "circle"
         },
         "mode": "lines",
         "name": "",
         "orientation": "v",
         "showlegend": false,
         "type": "scatter",
         "x": [
          6732,
          6617,
          6505,
          6392,
          6283,
          6171,
          6056,
          5960,
          5859,
          5747,
          5635,
          5521,
          5444,
          5348,
          5256,
          5142,
          5030,
          4952,
          4852,
          4741,
          4644,
          4524,
          4412,
          4304,
          4207,
          4099,
          4000,
          3895,
          3788,
          3692,
          3603,
          3517,
          3429,
          3353,
          3265,
          3175,
          3082,
          2980,
          2883,
          2806,
          2705,
          2613,
          2531,
          2451,
          2361,
          2297,
          2229,
          2151,
          2081,
          2011,
          1933,
          1868,
          1803,
          1722,
          1652,
          1604,
          1545,
          1486,
          1437,
          1372,
          1323,
          1266,
          1208,
          1159,
          1113,
          1070,
          1030,
          986,
          941,
          905,
          871,
          833,
          796,
          759,
          722,
          710,
          675,
          652,
          625,
          594,
          567,
          540,
          514,
          490,
          466,
          441,
          418,
          396,
          373,
          349,
          329,
          311,
          296,
          279,
          254,
          244,
          232,
          225,
          217,
          209,
          201,
          192,
          184,
          173,
          165,
          157,
          149,
          142,
          135,
          127,
          119,
          114,
          102,
          96,
          89,
          81,
          77,
          73,
          67,
          64,
          60,
          57,
          56,
          51,
          49,
          48,
          41,
          38,
          38,
          36,
          33,
          32,
          30,
          27,
          26,
          21,
          20,
          18,
          16,
          11,
          10,
          8,
          8,
          6,
          6,
          5,
          2,
          1,
          0,
          0
         ],
         "xaxis": "x",
         "y": [
          0.25766871165644173,
          0.25357873210633947,
          0.25766871165644173,
          0.261758691206544,
          0.26993865030674846,
          0.26993865030674846,
          0.2658486707566462,
          0.278118609406953,
          0.278118609406953,
          0.2822085889570552,
          0.278118609406953,
          0.278118609406953,
          0.278118609406953,
          0.2903885480572597,
          0.2903885480572597,
          0.30265848670756645,
          0.30265848670756645,
          0.30265848670756645,
          0.3067484662576687,
          0.310838445807771,
          0.3149284253578732,
          0.3149284253578732,
          0.3231083844580777,
          0.3149284253578732,
          0.3149284253578732,
          0.3149284253578732,
          0.31901840490797545,
          0.3312883435582822,
          0.33537832310838445,
          0.3312883435582822,
          0.3394683026584867,
          0.31901840490797545,
          0.32719836400818,
          0.3231083844580777,
          0.34355828220858897,
          0.34355828220858897,
          0.3394683026584867,
          0.3231083844580777,
          0.31901840490797545,
          0.3231083844580777,
          0.32719836400818,
          0.33537832310838445,
          0.34355828220858897,
          0.33537832310838445,
          0.34355828220858897,
          0.3476482617586912,
          0.34355828220858897,
          0.35173824130879344,
          0.3558282208588957,
          0.35991820040899797,
          0.35991820040899797,
          0.35173824130879344,
          0.3558282208588957,
          0.3558282208588957,
          0.38445807770961143,
          0.37627811860940696,
          0.3967280163599182,
          0.40899795501022496,
          0.40899795501022496,
          0.4049079754601227,
          0.40081799591002043,
          0.4212678936605317,
          0.42535787321063395,
          0.4335378323108384,
          0.44171779141104295,
          0.4458077709611452,
          0.4662576687116564,
          0.4539877300613497,
          0.4498977505112474,
          0.4621676891615542,
          0.4539877300613497,
          0.4662576687116564,
          0.5071574642126789,
          0.5153374233128835,
          0.5316973415132924,
          0.5398773006134969,
          0.49079754601226994,
          0.49079754601226994,
          0.49079754601226994,
          0.5112474437627812,
          0.5439672801635992,
          0.5807770961145194,
          0.5930470347648262,
          0.6094069529652352,
          0.6053169734151329,
          0.6175869120654397,
          0.6175869120654397,
          0.6625766871165644,
          0.6707566462167689,
          0.6748466257668712,
          0.6993865030674846,
          0.7239263803680982,
          0.7361963190184049,
          0.7280163599182005,
          0.7361963190184049,
          0.7321063394683026,
          0.7402862985685071,
          0.7443762781186094,
          0.7443762781186094,
          0.754601226993865,
          0.754601226993865,
          0.7627811860940695,
          0.7689161554192229,
          0.7750511247443763,
          0.7750511247443763,
          0.7648261758691206,
          0.7668711656441718,
          0.7668711656441718,
          0.7566462167689162,
          0.7566462167689162,
          0.7648261758691206,
          0.7955010224948875,
          0.8016359918200409,
          0.8098159509202454,
          0.8241308793456033,
          0.8220858895705522,
          0.820040899795501,
          0.8588957055214724,
          0.8609406952965235,
          0.869120654396728,
          0.9079754601226994,
          0.9120654396728016,
          0.9079754601226994,
          0.9263803680981595,
          0.9222903885480572,
          0.9222903885480572,
          0.9222903885480572,
          0.9222903885480572,
          0.9222903885480572,
          0.934560327198364,
          0.9263803680981595,
          0.9284253578732107,
          0.9263803680981595,
          0.9591002044989775,
          0.9570552147239264,
          0.9938650306748467,
          1,
          0.9959100204498977,
          1,
          0.9856850715746421,
          0.9775051124744376,
          0.9734151329243353,
          0.9734151329243353,
          1,
          1,
          1.0040899795501022,
          0.9897750511247444,
          0.9938650306748467,
          0.9959100204498977,
          0.9959100204498977
         ],
         "yaxis": "y"
        }
       ],
       "layout": {
        "legend": {
         "tracegroupgap": 0
        },
        "template": {
         "data": {
          "bar": [
           {
            "error_x": {
             "color": "#2a3f5f"
            },
            "error_y": {
             "color": "#2a3f5f"
            },
            "marker": {
             "line": {
              "color": "#E5ECF6",
              "width": 0.5
             },
             "pattern": {
              "fillmode": "overlay",
              "size": 10,
              "solidity": 0.2
             }
            },
            "type": "bar"
           }
          ],
          "barpolar": [
           {
            "marker": {
             "line": {
              "color": "#E5ECF6",
              "width": 0.5
             },
             "pattern": {
              "fillmode": "overlay",
              "size": 10,
              "solidity": 0.2
             }
            },
            "type": "barpolar"
           }
          ],
          "carpet": [
           {
            "aaxis": {
             "endlinecolor": "#2a3f5f",
             "gridcolor": "white",
             "linecolor": "white",
             "minorgridcolor": "white",
             "startlinecolor": "#2a3f5f"
            },
            "baxis": {
             "endlinecolor": "#2a3f5f",
             "gridcolor": "white",
             "linecolor": "white",
             "minorgridcolor": "white",
             "startlinecolor": "#2a3f5f"
            },
            "type": "carpet"
           }
          ],
          "choropleth": [
           {
            "colorbar": {
             "outlinewidth": 0,
             "ticks": ""
            },
            "type": "choropleth"
           }
          ],
          "contour": [
           {
            "colorbar": {
             "outlinewidth": 0,
             "ticks": ""
            },
            "colorscale": [
             [
              0,
              "#0d0887"
             ],
             [
              0.1111111111111111,
              "#46039f"
             ],
             [
              0.2222222222222222,
              "#7201a8"
             ],
             [
              0.3333333333333333,
              "#9c179e"
             ],
             [
              0.4444444444444444,
              "#bd3786"
             ],
             [
              0.5555555555555556,
              "#d8576b"
             ],
             [
              0.6666666666666666,
              "#ed7953"
             ],
             [
              0.7777777777777778,
              "#fb9f3a"
             ],
             [
              0.8888888888888888,
              "#fdca26"
             ],
             [
              1,
              "#f0f921"
             ]
            ],
            "type": "contour"
           }
          ],
          "contourcarpet": [
           {
            "colorbar": {
             "outlinewidth": 0,
             "ticks": ""
            },
            "type": "contourcarpet"
           }
          ],
          "heatmap": [
           {
            "colorbar": {
             "outlinewidth": 0,
             "ticks": ""
            },
            "colorscale": [
             [
              0,
              "#0d0887"
             ],
             [
              0.1111111111111111,
              "#46039f"
             ],
             [
              0.2222222222222222,
              "#7201a8"
             ],
             [
              0.3333333333333333,
              "#9c179e"
             ],
             [
              0.4444444444444444,
              "#bd3786"
             ],
             [
              0.5555555555555556,
              "#d8576b"
             ],
             [
              0.6666666666666666,
              "#ed7953"
             ],
             [
              0.7777777777777778,
              "#fb9f3a"
             ],
             [
              0.8888888888888888,
              "#fdca26"
             ],
             [
              1,
              "#f0f921"
             ]
            ],
            "type": "heatmap"
           }
          ],
          "heatmapgl": [
           {
            "colorbar": {
             "outlinewidth": 0,
             "ticks": ""
            },
            "colorscale": [
             [
              0,
              "#0d0887"
             ],
             [
              0.1111111111111111,
              "#46039f"
             ],
             [
              0.2222222222222222,
              "#7201a8"
             ],
             [
              0.3333333333333333,
              "#9c179e"
             ],
             [
              0.4444444444444444,
              "#bd3786"
             ],
             [
              0.5555555555555556,
              "#d8576b"
             ],
             [
              0.6666666666666666,
              "#ed7953"
             ],
             [
              0.7777777777777778,
              "#fb9f3a"
             ],
             [
              0.8888888888888888,
              "#fdca26"
             ],
             [
              1,
              "#f0f921"
             ]
            ],
            "type": "heatmapgl"
           }
          ],
          "histogram": [
           {
            "marker": {
             "pattern": {
              "fillmode": "overlay",
              "size": 10,
              "solidity": 0.2
             }
            },
            "type": "histogram"
           }
          ],
          "histogram2d": [
           {
            "colorbar": {
             "outlinewidth": 0,
             "ticks": ""
            },
            "colorscale": [
             [
              0,
              "#0d0887"
             ],
             [
              0.1111111111111111,
              "#46039f"
             ],
             [
              0.2222222222222222,
              "#7201a8"
             ],
             [
              0.3333333333333333,
              "#9c179e"
             ],
             [
              0.4444444444444444,
              "#bd3786"
             ],
             [
              0.5555555555555556,
              "#d8576b"
             ],
             [
              0.6666666666666666,
              "#ed7953"
             ],
             [
              0.7777777777777778,
              "#fb9f3a"
             ],
             [
              0.8888888888888888,
              "#fdca26"
             ],
             [
              1,
              "#f0f921"
             ]
            ],
            "type": "histogram2d"
           }
          ],
          "histogram2dcontour": [
           {
            "colorbar": {
             "outlinewidth": 0,
             "ticks": ""
            },
            "colorscale": [
             [
              0,
              "#0d0887"
             ],
             [
              0.1111111111111111,
              "#46039f"
             ],
             [
              0.2222222222222222,
              "#7201a8"
             ],
             [
              0.3333333333333333,
              "#9c179e"
             ],
             [
              0.4444444444444444,
              "#bd3786"
             ],
             [
              0.5555555555555556,
              "#d8576b"
             ],
             [
              0.6666666666666666,
              "#ed7953"
             ],
             [
              0.7777777777777778,
              "#fb9f3a"
             ],
             [
              0.8888888888888888,
              "#fdca26"
             ],
             [
              1,
              "#f0f921"
             ]
            ],
            "type": "histogram2dcontour"
           }
          ],
          "mesh3d": [
           {
            "colorbar": {
             "outlinewidth": 0,
             "ticks": ""
            },
            "type": "mesh3d"
           }
          ],
          "parcoords": [
           {
            "line": {
             "colorbar": {
              "outlinewidth": 0,
              "ticks": ""
             }
            },
            "type": "parcoords"
           }
          ],
          "pie": [
           {
            "automargin": true,
            "type": "pie"
           }
          ],
          "scatter": [
           {
            "fillpattern": {
             "fillmode": "overlay",
             "size": 10,
             "solidity": 0.2
            },
            "type": "scatter"
           }
          ],
          "scatter3d": [
           {
            "line": {
             "colorbar": {
              "outlinewidth": 0,
              "ticks": ""
             }
            },
            "marker": {
             "colorbar": {
              "outlinewidth": 0,
              "ticks": ""
             }
            },
            "type": "scatter3d"
           }
          ],
          "scattercarpet": [
           {
            "marker": {
             "colorbar": {
              "outlinewidth": 0,
              "ticks": ""
             }
            },
            "type": "scattercarpet"
           }
          ],
          "scattergeo": [
           {
            "marker": {
             "colorbar": {
              "outlinewidth": 0,
              "ticks": ""
             }
            },
            "type": "scattergeo"
           }
          ],
          "scattergl": [
           {
            "marker": {
             "colorbar": {
              "outlinewidth": 0,
              "ticks": ""
             }
            },
            "type": "scattergl"
           }
          ],
          "scattermapbox": [
           {
            "marker": {
             "colorbar": {
              "outlinewidth": 0,
              "ticks": ""
             }
            },
            "type": "scattermapbox"
           }
          ],
          "scatterpolar": [
           {
            "marker": {
             "colorbar": {
              "outlinewidth": 0,
              "ticks": ""
             }
            },
            "type": "scatterpolar"
           }
          ],
          "scatterpolargl": [
           {
            "marker": {
             "colorbar": {
              "outlinewidth": 0,
              "ticks": ""
             }
            },
            "type": "scatterpolargl"
           }
          ],
          "scatterternary": [
           {
            "marker": {
             "colorbar": {
              "outlinewidth": 0,
              "ticks": ""
             }
            },
            "type": "scatterternary"
           }
          ],
          "surface": [
           {
            "colorbar": {
             "outlinewidth": 0,
             "ticks": ""
            },
            "colorscale": [
             [
              0,
              "#0d0887"
             ],
             [
              0.1111111111111111,
              "#46039f"
             ],
             [
              0.2222222222222222,
              "#7201a8"
             ],
             [
              0.3333333333333333,
              "#9c179e"
             ],
             [
              0.4444444444444444,
              "#bd3786"
             ],
             [
              0.5555555555555556,
              "#d8576b"
             ],
             [
              0.6666666666666666,
              "#ed7953"
             ],
             [
              0.7777777777777778,
              "#fb9f3a"
             ],
             [
              0.8888888888888888,
              "#fdca26"
             ],
             [
              1,
              "#f0f921"
             ]
            ],
            "type": "surface"
           }
          ],
          "table": [
           {
            "cells": {
             "fill": {
              "color": "#EBF0F8"
             },
             "line": {
              "color": "white"
             }
            },
            "header": {
             "fill": {
              "color": "#C8D4E3"
             },
             "line": {
              "color": "white"
             }
            },
            "type": "table"
           }
          ]
         },
         "layout": {
          "annotationdefaults": {
           "arrowcolor": "#2a3f5f",
           "arrowhead": 0,
           "arrowwidth": 1
          },
          "autotypenumbers": "strict",
          "coloraxis": {
           "colorbar": {
            "outlinewidth": 0,
            "ticks": ""
           }
          },
          "colorscale": {
           "diverging": [
            [
             0,
             "#8e0152"
            ],
            [
             0.1,
             "#c51b7d"
            ],
            [
             0.2,
             "#de77ae"
            ],
            [
             0.3,
             "#f1b6da"
            ],
            [
             0.4,
             "#fde0ef"
            ],
            [
             0.5,
             "#f7f7f7"
            ],
            [
             0.6,
             "#e6f5d0"
            ],
            [
             0.7,
             "#b8e186"
            ],
            [
             0.8,
             "#7fbc41"
            ],
            [
             0.9,
             "#4d9221"
            ],
            [
             1,
             "#276419"
            ]
           ],
           "sequential": [
            [
             0,
             "#0d0887"
            ],
            [
             0.1111111111111111,
             "#46039f"
            ],
            [
             0.2222222222222222,
             "#7201a8"
            ],
            [
             0.3333333333333333,
             "#9c179e"
            ],
            [
             0.4444444444444444,
             "#bd3786"
            ],
            [
             0.5555555555555556,
             "#d8576b"
            ],
            [
             0.6666666666666666,
             "#ed7953"
            ],
            [
             0.7777777777777778,
             "#fb9f3a"
            ],
            [
             0.8888888888888888,
             "#fdca26"
            ],
            [
             1,
             "#f0f921"
            ]
           ],
           "sequentialminus": [
            [
             0,
             "#0d0887"
            ],
            [
             0.1111111111111111,
             "#46039f"
            ],
            [
             0.2222222222222222,
             "#7201a8"
            ],
            [
             0.3333333333333333,
             "#9c179e"
            ],
            [
             0.4444444444444444,
             "#bd3786"
            ],
            [
             0.5555555555555556,
             "#d8576b"
            ],
            [
             0.6666666666666666,
             "#ed7953"
            ],
            [
             0.7777777777777778,
             "#fb9f3a"
            ],
            [
             0.8888888888888888,
             "#fdca26"
            ],
            [
             1,
             "#f0f921"
            ]
           ]
          },
          "colorway": [
           "#636efa",
           "#EF553B",
           "#00cc96",
           "#ab63fa",
           "#FFA15A",
           "#19d3f3",
           "#FF6692",
           "#B6E880",
           "#FF97FF",
           "#FECB52"
          ],
          "font": {
           "color": "#2a3f5f"
          },
          "geo": {
           "bgcolor": "white",
           "lakecolor": "white",
           "landcolor": "#E5ECF6",
           "showlakes": true,
           "showland": true,
           "subunitcolor": "white"
          },
          "hoverlabel": {
           "align": "left"
          },
          "hovermode": "closest",
          "mapbox": {
           "style": "light"
          },
          "paper_bgcolor": "white",
          "plot_bgcolor": "#E5ECF6",
          "polar": {
           "angularaxis": {
            "gridcolor": "white",
            "linecolor": "white",
            "ticks": ""
           },
           "bgcolor": "#E5ECF6",
           "radialaxis": {
            "gridcolor": "white",
            "linecolor": "white",
            "ticks": ""
           }
          },
          "scene": {
           "xaxis": {
            "backgroundcolor": "#E5ECF6",
            "gridcolor": "white",
            "gridwidth": 2,
            "linecolor": "white",
            "showbackground": true,
            "ticks": "",
            "zerolinecolor": "white"
           },
           "yaxis": {
            "backgroundcolor": "#E5ECF6",
            "gridcolor": "white",
            "gridwidth": 2,
            "linecolor": "white",
            "showbackground": true,
            "ticks": "",
            "zerolinecolor": "white"
           },
           "zaxis": {
            "backgroundcolor": "#E5ECF6",
            "gridcolor": "white",
            "gridwidth": 2,
            "linecolor": "white",
            "showbackground": true,
            "ticks": "",
            "zerolinecolor": "white"
           }
          },
          "shapedefaults": {
           "line": {
            "color": "#2a3f5f"
           }
          },
          "ternary": {
           "aaxis": {
            "gridcolor": "white",
            "linecolor": "white",
            "ticks": ""
           },
           "baxis": {
            "gridcolor": "white",
            "linecolor": "white",
            "ticks": ""
           },
           "bgcolor": "#E5ECF6",
           "caxis": {
            "gridcolor": "white",
            "linecolor": "white",
            "ticks": ""
           }
          },
          "title": {
           "x": 0.05
          },
          "xaxis": {
           "automargin": true,
           "gridcolor": "white",
           "linecolor": "white",
           "ticks": "",
           "title": {
            "standoff": 15
           },
           "zerolinecolor": "white",
           "zerolinewidth": 2
          },
          "yaxis": {
           "automargin": true,
           "gridcolor": "white",
           "linecolor": "white",
           "ticks": "",
           "title": {
            "standoff": 15
           },
           "zerolinecolor": "white",
           "zerolinewidth": 2
          }
         }
        },
        "title": {
         "text": "inverse=True, abs=False, mean=False, aop=True, layers=[11, 12, 13, 14, 15, 16]"
        },
        "xaxis": {
         "anchor": "y",
         "domain": [
          0,
          1
         ],
         "title": {
          "text": "Number of nodes"
         }
        },
        "yaxis": {
         "anchor": "x",
         "domain": [
          0,
          1
         ],
         "title": {
          "text": "Faithfullness"
         }
        }
       }
      },
      "text/html": [
       "<div>                            <div id=\"4d68d480-2227-4670-b7a5-6cad95503f0e\" class=\"plotly-graph-div\" style=\"height:525px; width:100%;\"></div>            <script type=\"text/javascript\">                require([\"plotly\"], function(Plotly) {                    window.PLOTLYENV=window.PLOTLYENV || {};                                    if (document.getElementById(\"4d68d480-2227-4670-b7a5-6cad95503f0e\")) {                    Plotly.newPlot(                        \"4d68d480-2227-4670-b7a5-6cad95503f0e\",                        [{\"hovertemplate\":\"x=%{x}\\u003cbr\\u003ey=%{y}\\u003cextra\\u003e\\u003c\\u002fextra\\u003e\",\"legendgroup\":\"\",\"line\":{\"color\":\"#636efa\",\"dash\":\"solid\"},\"marker\":{\"symbol\":\"circle\"},\"mode\":\"lines\",\"name\":\"\",\"orientation\":\"v\",\"showlegend\":false,\"x\":[6732,6617,6505,6392,6283,6171,6056,5960,5859,5747,5635,5521,5444,5348,5256,5142,5030,4952,4852,4741,4644,4524,4412,4304,4207,4099,4000,3895,3788,3692,3603,3517,3429,3353,3265,3175,3082,2980,2883,2806,2705,2613,2531,2451,2361,2297,2229,2151,2081,2011,1933,1868,1803,1722,1652,1604,1545,1486,1437,1372,1323,1266,1208,1159,1113,1070,1030,986,941,905,871,833,796,759,722,710,675,652,625,594,567,540,514,490,466,441,418,396,373,349,329,311,296,279,254,244,232,225,217,209,201,192,184,173,165,157,149,142,135,127,119,114,102,96,89,81,77,73,67,64,60,57,56,51,49,48,41,38,38,36,33,32,30,27,26,21,20,18,16,11,10,8,8,6,6,5,2,1,0,0],\"xaxis\":\"x\",\"y\":[0.25766871165644173,0.25357873210633947,0.25766871165644173,0.261758691206544,0.26993865030674846,0.26993865030674846,0.2658486707566462,0.278118609406953,0.278118609406953,0.2822085889570552,0.278118609406953,0.278118609406953,0.278118609406953,0.2903885480572597,0.2903885480572597,0.30265848670756645,0.30265848670756645,0.30265848670756645,0.3067484662576687,0.310838445807771,0.3149284253578732,0.3149284253578732,0.3231083844580777,0.3149284253578732,0.3149284253578732,0.3149284253578732,0.31901840490797545,0.3312883435582822,0.33537832310838445,0.3312883435582822,0.3394683026584867,0.31901840490797545,0.32719836400818,0.3231083844580777,0.34355828220858897,0.34355828220858897,0.3394683026584867,0.3231083844580777,0.31901840490797545,0.3231083844580777,0.32719836400818,0.33537832310838445,0.34355828220858897,0.33537832310838445,0.34355828220858897,0.3476482617586912,0.34355828220858897,0.35173824130879344,0.3558282208588957,0.35991820040899797,0.35991820040899797,0.35173824130879344,0.3558282208588957,0.3558282208588957,0.38445807770961143,0.37627811860940696,0.3967280163599182,0.40899795501022496,0.40899795501022496,0.4049079754601227,0.40081799591002043,0.4212678936605317,0.42535787321063395,0.4335378323108384,0.44171779141104295,0.4458077709611452,0.4662576687116564,0.4539877300613497,0.4498977505112474,0.4621676891615542,0.4539877300613497,0.4662576687116564,0.5071574642126789,0.5153374233128835,0.5316973415132924,0.5398773006134969,0.49079754601226994,0.49079754601226994,0.49079754601226994,0.5112474437627812,0.5439672801635992,0.5807770961145194,0.5930470347648262,0.6094069529652352,0.6053169734151329,0.6175869120654397,0.6175869120654397,0.6625766871165644,0.6707566462167689,0.6748466257668712,0.6993865030674846,0.7239263803680982,0.7361963190184049,0.7280163599182005,0.7361963190184049,0.7321063394683026,0.7402862985685071,0.7443762781186094,0.7443762781186094,0.754601226993865,0.754601226993865,0.7627811860940695,0.7689161554192229,0.7750511247443763,0.7750511247443763,0.7648261758691206,0.7668711656441718,0.7668711656441718,0.7566462167689162,0.7566462167689162,0.7648261758691206,0.7955010224948875,0.8016359918200409,0.8098159509202454,0.8241308793456033,0.8220858895705522,0.820040899795501,0.8588957055214724,0.8609406952965235,0.869120654396728,0.9079754601226994,0.9120654396728016,0.9079754601226994,0.9263803680981595,0.9222903885480572,0.9222903885480572,0.9222903885480572,0.9222903885480572,0.9222903885480572,0.934560327198364,0.9263803680981595,0.9284253578732107,0.9263803680981595,0.9591002044989775,0.9570552147239264,0.9938650306748467,1.0,0.9959100204498977,1.0,0.9856850715746421,0.9775051124744376,0.9734151329243353,0.9734151329243353,1.0,1.0,1.0040899795501022,0.9897750511247444,0.9938650306748467,0.9959100204498977,0.9959100204498977],\"yaxis\":\"y\",\"type\":\"scatter\"}],                        {\"template\":{\"data\":{\"histogram2dcontour\":[{\"type\":\"histogram2dcontour\",\"colorbar\":{\"outlinewidth\":0,\"ticks\":\"\"},\"colorscale\":[[0.0,\"#0d0887\"],[0.1111111111111111,\"#46039f\"],[0.2222222222222222,\"#7201a8\"],[0.3333333333333333,\"#9c179e\"],[0.4444444444444444,\"#bd3786\"],[0.5555555555555556,\"#d8576b\"],[0.6666666666666666,\"#ed7953\"],[0.7777777777777778,\"#fb9f3a\"],[0.8888888888888888,\"#fdca26\"],[1.0,\"#f0f921\"]]}],\"choropleth\":[{\"type\":\"choropleth\",\"colorbar\":{\"outlinewidth\":0,\"ticks\":\"\"}}],\"histogram2d\":[{\"type\":\"histogram2d\",\"colorbar\":{\"outlinewidth\":0,\"ticks\":\"\"},\"colorscale\":[[0.0,\"#0d0887\"],[0.1111111111111111,\"#46039f\"],[0.2222222222222222,\"#7201a8\"],[0.3333333333333333,\"#9c179e\"],[0.4444444444444444,\"#bd3786\"],[0.5555555555555556,\"#d8576b\"],[0.6666666666666666,\"#ed7953\"],[0.7777777777777778,\"#fb9f3a\"],[0.8888888888888888,\"#fdca26\"],[1.0,\"#f0f921\"]]}],\"heatmap\":[{\"type\":\"heatmap\",\"colorbar\":{\"outlinewidth\":0,\"ticks\":\"\"},\"colorscale\":[[0.0,\"#0d0887\"],[0.1111111111111111,\"#46039f\"],[0.2222222222222222,\"#7201a8\"],[0.3333333333333333,\"#9c179e\"],[0.4444444444444444,\"#bd3786\"],[0.5555555555555556,\"#d8576b\"],[0.6666666666666666,\"#ed7953\"],[0.7777777777777778,\"#fb9f3a\"],[0.8888888888888888,\"#fdca26\"],[1.0,\"#f0f921\"]]}],\"heatmapgl\":[{\"type\":\"heatmapgl\",\"colorbar\":{\"outlinewidth\":0,\"ticks\":\"\"},\"colorscale\":[[0.0,\"#0d0887\"],[0.1111111111111111,\"#46039f\"],[0.2222222222222222,\"#7201a8\"],[0.3333333333333333,\"#9c179e\"],[0.4444444444444444,\"#bd3786\"],[0.5555555555555556,\"#d8576b\"],[0.6666666666666666,\"#ed7953\"],[0.7777777777777778,\"#fb9f3a\"],[0.8888888888888888,\"#fdca26\"],[1.0,\"#f0f921\"]]}],\"contourcarpet\":[{\"type\":\"contourcarpet\",\"colorbar\":{\"outlinewidth\":0,\"ticks\":\"\"}}],\"contour\":[{\"type\":\"contour\",\"colorbar\":{\"outlinewidth\":0,\"ticks\":\"\"},\"colorscale\":[[0.0,\"#0d0887\"],[0.1111111111111111,\"#46039f\"],[0.2222222222222222,\"#7201a8\"],[0.3333333333333333,\"#9c179e\"],[0.4444444444444444,\"#bd3786\"],[0.5555555555555556,\"#d8576b\"],[0.6666666666666666,\"#ed7953\"],[0.7777777777777778,\"#fb9f3a\"],[0.8888888888888888,\"#fdca26\"],[1.0,\"#f0f921\"]]}],\"surface\":[{\"type\":\"surface\",\"colorbar\":{\"outlinewidth\":0,\"ticks\":\"\"},\"colorscale\":[[0.0,\"#0d0887\"],[0.1111111111111111,\"#46039f\"],[0.2222222222222222,\"#7201a8\"],[0.3333333333333333,\"#9c179e\"],[0.4444444444444444,\"#bd3786\"],[0.5555555555555556,\"#d8576b\"],[0.6666666666666666,\"#ed7953\"],[0.7777777777777778,\"#fb9f3a\"],[0.8888888888888888,\"#fdca26\"],[1.0,\"#f0f921\"]]}],\"mesh3d\":[{\"type\":\"mesh3d\",\"colorbar\":{\"outlinewidth\":0,\"ticks\":\"\"}}],\"scatter\":[{\"fillpattern\":{\"fillmode\":\"overlay\",\"size\":10,\"solidity\":0.2},\"type\":\"scatter\"}],\"parcoords\":[{\"type\":\"parcoords\",\"line\":{\"colorbar\":{\"outlinewidth\":0,\"ticks\":\"\"}}}],\"scatterpolargl\":[{\"type\":\"scatterpolargl\",\"marker\":{\"colorbar\":{\"outlinewidth\":0,\"ticks\":\"\"}}}],\"bar\":[{\"error_x\":{\"color\":\"#2a3f5f\"},\"error_y\":{\"color\":\"#2a3f5f\"},\"marker\":{\"line\":{\"color\":\"#E5ECF6\",\"width\":0.5},\"pattern\":{\"fillmode\":\"overlay\",\"size\":10,\"solidity\":0.2}},\"type\":\"bar\"}],\"scattergeo\":[{\"type\":\"scattergeo\",\"marker\":{\"colorbar\":{\"outlinewidth\":0,\"ticks\":\"\"}}}],\"scatterpolar\":[{\"type\":\"scatterpolar\",\"marker\":{\"colorbar\":{\"outlinewidth\":0,\"ticks\":\"\"}}}],\"histogram\":[{\"marker\":{\"pattern\":{\"fillmode\":\"overlay\",\"size\":10,\"solidity\":0.2}},\"type\":\"histogram\"}],\"scattergl\":[{\"type\":\"scattergl\",\"marker\":{\"colorbar\":{\"outlinewidth\":0,\"ticks\":\"\"}}}],\"scatter3d\":[{\"type\":\"scatter3d\",\"line\":{\"colorbar\":{\"outlinewidth\":0,\"ticks\":\"\"}},\"marker\":{\"colorbar\":{\"outlinewidth\":0,\"ticks\":\"\"}}}],\"scattermapbox\":[{\"type\":\"scattermapbox\",\"marker\":{\"colorbar\":{\"outlinewidth\":0,\"ticks\":\"\"}}}],\"scatterternary\":[{\"type\":\"scatterternary\",\"marker\":{\"colorbar\":{\"outlinewidth\":0,\"ticks\":\"\"}}}],\"scattercarpet\":[{\"type\":\"scattercarpet\",\"marker\":{\"colorbar\":{\"outlinewidth\":0,\"ticks\":\"\"}}}],\"carpet\":[{\"aaxis\":{\"endlinecolor\":\"#2a3f5f\",\"gridcolor\":\"white\",\"linecolor\":\"white\",\"minorgridcolor\":\"white\",\"startlinecolor\":\"#2a3f5f\"},\"baxis\":{\"endlinecolor\":\"#2a3f5f\",\"gridcolor\":\"white\",\"linecolor\":\"white\",\"minorgridcolor\":\"white\",\"startlinecolor\":\"#2a3f5f\"},\"type\":\"carpet\"}],\"table\":[{\"cells\":{\"fill\":{\"color\":\"#EBF0F8\"},\"line\":{\"color\":\"white\"}},\"header\":{\"fill\":{\"color\":\"#C8D4E3\"},\"line\":{\"color\":\"white\"}},\"type\":\"table\"}],\"barpolar\":[{\"marker\":{\"line\":{\"color\":\"#E5ECF6\",\"width\":0.5},\"pattern\":{\"fillmode\":\"overlay\",\"size\":10,\"solidity\":0.2}},\"type\":\"barpolar\"}],\"pie\":[{\"automargin\":true,\"type\":\"pie\"}]},\"layout\":{\"autotypenumbers\":\"strict\",\"colorway\":[\"#636efa\",\"#EF553B\",\"#00cc96\",\"#ab63fa\",\"#FFA15A\",\"#19d3f3\",\"#FF6692\",\"#B6E880\",\"#FF97FF\",\"#FECB52\"],\"font\":{\"color\":\"#2a3f5f\"},\"hovermode\":\"closest\",\"hoverlabel\":{\"align\":\"left\"},\"paper_bgcolor\":\"white\",\"plot_bgcolor\":\"#E5ECF6\",\"polar\":{\"bgcolor\":\"#E5ECF6\",\"angularaxis\":{\"gridcolor\":\"white\",\"linecolor\":\"white\",\"ticks\":\"\"},\"radialaxis\":{\"gridcolor\":\"white\",\"linecolor\":\"white\",\"ticks\":\"\"}},\"ternary\":{\"bgcolor\":\"#E5ECF6\",\"aaxis\":{\"gridcolor\":\"white\",\"linecolor\":\"white\",\"ticks\":\"\"},\"baxis\":{\"gridcolor\":\"white\",\"linecolor\":\"white\",\"ticks\":\"\"},\"caxis\":{\"gridcolor\":\"white\",\"linecolor\":\"white\",\"ticks\":\"\"}},\"coloraxis\":{\"colorbar\":{\"outlinewidth\":0,\"ticks\":\"\"}},\"colorscale\":{\"sequential\":[[0.0,\"#0d0887\"],[0.1111111111111111,\"#46039f\"],[0.2222222222222222,\"#7201a8\"],[0.3333333333333333,\"#9c179e\"],[0.4444444444444444,\"#bd3786\"],[0.5555555555555556,\"#d8576b\"],[0.6666666666666666,\"#ed7953\"],[0.7777777777777778,\"#fb9f3a\"],[0.8888888888888888,\"#fdca26\"],[1.0,\"#f0f921\"]],\"sequentialminus\":[[0.0,\"#0d0887\"],[0.1111111111111111,\"#46039f\"],[0.2222222222222222,\"#7201a8\"],[0.3333333333333333,\"#9c179e\"],[0.4444444444444444,\"#bd3786\"],[0.5555555555555556,\"#d8576b\"],[0.6666666666666666,\"#ed7953\"],[0.7777777777777778,\"#fb9f3a\"],[0.8888888888888888,\"#fdca26\"],[1.0,\"#f0f921\"]],\"diverging\":[[0,\"#8e0152\"],[0.1,\"#c51b7d\"],[0.2,\"#de77ae\"],[0.3,\"#f1b6da\"],[0.4,\"#fde0ef\"],[0.5,\"#f7f7f7\"],[0.6,\"#e6f5d0\"],[0.7,\"#b8e186\"],[0.8,\"#7fbc41\"],[0.9,\"#4d9221\"],[1,\"#276419\"]]},\"xaxis\":{\"gridcolor\":\"white\",\"linecolor\":\"white\",\"ticks\":\"\",\"title\":{\"standoff\":15},\"zerolinecolor\":\"white\",\"automargin\":true,\"zerolinewidth\":2},\"yaxis\":{\"gridcolor\":\"white\",\"linecolor\":\"white\",\"ticks\":\"\",\"title\":{\"standoff\":15},\"zerolinecolor\":\"white\",\"automargin\":true,\"zerolinewidth\":2},\"scene\":{\"xaxis\":{\"backgroundcolor\":\"#E5ECF6\",\"gridcolor\":\"white\",\"linecolor\":\"white\",\"showbackground\":true,\"ticks\":\"\",\"zerolinecolor\":\"white\",\"gridwidth\":2},\"yaxis\":{\"backgroundcolor\":\"#E5ECF6\",\"gridcolor\":\"white\",\"linecolor\":\"white\",\"showbackground\":true,\"ticks\":\"\",\"zerolinecolor\":\"white\",\"gridwidth\":2},\"zaxis\":{\"backgroundcolor\":\"#E5ECF6\",\"gridcolor\":\"white\",\"linecolor\":\"white\",\"showbackground\":true,\"ticks\":\"\",\"zerolinecolor\":\"white\",\"gridwidth\":2}},\"shapedefaults\":{\"line\":{\"color\":\"#2a3f5f\"}},\"annotationdefaults\":{\"arrowcolor\":\"#2a3f5f\",\"arrowhead\":0,\"arrowwidth\":1},\"geo\":{\"bgcolor\":\"white\",\"landcolor\":\"#E5ECF6\",\"subunitcolor\":\"white\",\"showland\":true,\"showlakes\":true,\"lakecolor\":\"white\"},\"title\":{\"x\":0.05},\"mapbox\":{\"style\":\"light\"}}},\"xaxis\":{\"anchor\":\"y\",\"domain\":[0.0,1.0],\"title\":{\"text\":\"Number of nodes\"}},\"yaxis\":{\"anchor\":\"x\",\"domain\":[0.0,1.0],\"title\":{\"text\":\"Faithfullness\"}},\"legend\":{\"tracegroupgap\":0},\"title\":{\"text\":\"inverse=True, abs=False, mean=False, aop=True, layers=[11, 12, 13, 14, 15, 16]\"}},                        {\"responsive\": true}                    ).then(function(){\n",
       "                            \n",
       "var gd = document.getElementById('4d68d480-2227-4670-b7a5-6cad95503f0e');\n",
       "var x = new MutationObserver(function (mutations, observer) {{\n",
       "        var display = window.getComputedStyle(gd).display;\n",
       "        if (!display || display === 'none') {{\n",
       "            console.log([gd, 'removed!']);\n",
       "            Plotly.purge(gd);\n",
       "            observer.disconnect();\n",
       "        }}\n",
       "}});\n",
       "\n",
       "// Listen for the removal of the full notebook cells\n",
       "var notebookContainer = gd.closest('#notebook-container');\n",
       "if (notebookContainer) {{\n",
       "    x.observe(notebookContainer, {childList: true});\n",
       "}}\n",
       "\n",
       "// Listen for the clearing of the current output cell\n",
       "var outputEl = gd.closest('.output');\n",
       "if (outputEl) {{\n",
       "    x.observe(outputEl, {childList: true});\n",
       "}}\n",
       "\n",
       "                        })                };                });            </script>        </div>"
      ]
     },
     "metadata": {},
     "output_type": "display_data"
    }
   ],
   "source": [
    "import matplotlib.pyplot as plt\n",
    "import plotly.express as px\n",
    "\n",
    "# plt.plot([max(n_nodes_counts) - x for x in n_nodes_counts], ablated_metrics)\n",
    "# plt.plot(thresholds, ablated_metrics)\n",
    "# plt.plot(thresholds, ablated_metrics)\n",
    "# plt.plot(n_nodes_counts, ablated_metrics)\n",
    "# plt.plot(thresholds, n_nodes_counts)\n",
    "# plt.xscale(\"log\")\n",
    "# plt.plot(n_nodes_counts)\n",
    "\n",
    "# px.line(x=list(range(len(ablated_metrics))), y=ablated_metrics)\n",
    "# fig = px.line(x=thresholds, y=ablated_metrics)\n",
    "# fig.update_xaxes(type=\"log\", exponentformat=\"power\")\n",
    "\n",
    "fig = px.line(x=[max(n_nodes_counts) - x for x in n_nodes_counts], y=faithfullness, title=f\"inverse={inverse}, abs={do_abs}, mean={mean_ablate}, aop={average_over_positions}, layers={layers}\")\n",
    "fig.update_xaxes(title=\"Number of nodes\")\n",
    "fig.update_yaxes(title=\"Faithfullness\")\n",
    "\n",
    "fig\n"
   ]
  },
  {
   "cell_type": "code",
   "execution_count": 14,
   "metadata": {},
   "outputs": [
    {
     "data": {
      "application/vnd.plotly.v1+json": {
       "config": {
        "plotlyServerURL": "https://plot.ly"
       },
       "data": [
        {
         "hovertemplate": "x=%{x}<br>y=%{y}<extra></extra>",
         "legendgroup": "",
         "line": {
          "color": "#636efa",
          "dash": "solid"
         },
         "marker": {
          "symbol": "circle"
         },
         "mode": "lines",
         "name": "",
         "orientation": "v",
         "showlegend": false,
         "type": "scatter",
         "x": [
          10932,
          10862,
          10788,
          10725,
          10647,
          10562,
          10478,
          10389,
          10296,
          10215,
          10125,
          10027,
          9943,
          9840,
          9709,
          9606,
          9498,
          9389,
          9279,
          9146,
          9055,
          8930,
          8817,
          8687,
          8555,
          8429,
          8308,
          8180,
          8044,
          7912,
          7757,
          7618,
          7475,
          7345,
          7197,
          7052,
          6918,
          6770,
          6617,
          6467,
          6324,
          6171,
          6021,
          5892,
          5747,
          5597,
          5475,
          5348,
          5222,
          5058,
          4952,
          4813,
          4672,
          4524,
          4386,
          4230,
          4099,
          3961,
          3817,
          3692,
          3574,
          3461,
          3353,
          3230,
          3120,
          2980,
          2861,
          2745,
          2613,
          2510,
          2384,
          2297,
          2205,
          2102,
          2011,
          1914,
          1819,
          1722,
          1638,
          1567,
          1486,
          1406,
          1343,
          1266,
          1191,
          1128,
          1070,
          1011,
          958,
          905,
          859,
          809,
          759,
          719,
          684,
          652,
          612,
          571,
          540,
          505,
          473,
          441,
          409,
          378,
          349,
          327,
          300,
          279,
          249,
          236,
          225,
          213,
          203,
          192,
          181,
          168,
          157,
          147,
          138,
          127,
          118,
          103,
          96,
          85,
          78,
          73,
          66,
          62,
          57,
          54,
          49,
          48,
          41,
          38,
          36,
          32,
          31,
          27,
          24,
          20,
          18,
          15,
          10,
          8,
          8,
          6,
          5,
          1,
          0,
          0
         ],
         "xaxis": "x",
         "y": [
          0.24130879345603273,
          0.24948875255623723,
          0.24539877300613497,
          0.24539877300613497,
          0.24948875255623723,
          0.24539877300613497,
          0.24130879345603273,
          0.24539877300613497,
          0.24539877300613497,
          0.24539877300613497,
          0.24539877300613497,
          0.24948875255623723,
          0.24539877300613497,
          0.24948875255623723,
          0.24948875255623723,
          0.25357873210633947,
          0.24948875255623723,
          0.25766871165644173,
          0.25357873210633947,
          0.24948875255623723,
          0.25357873210633947,
          0.24948875255623723,
          0.24948875255623723,
          0.24539877300613497,
          0.24948875255623723,
          0.24948875255623723,
          0.25357873210633947,
          0.25357873210633947,
          0.25357873210633947,
          0.261758691206544,
          0.26993865030674846,
          0.25357873210633947,
          0.25766871165644173,
          0.261758691206544,
          0.261758691206544,
          0.25766871165644173,
          0.25766871165644173,
          0.24948875255623723,
          0.25357873210633947,
          0.25766871165644173,
          0.261758691206544,
          0.26993865030674846,
          0.26993865030674846,
          0.2822085889570552,
          0.2822085889570552,
          0.278118609406953,
          0.2822085889570552,
          0.2903885480572597,
          0.2985685071574642,
          0.30265848670756645,
          0.30265848670756645,
          0.3067484662576687,
          0.3149284253578732,
          0.3149284253578732,
          0.31901840490797545,
          0.3149284253578732,
          0.3149284253578732,
          0.32719836400818,
          0.32719836400818,
          0.3312883435582822,
          0.31901840490797545,
          0.3231083844580777,
          0.3231083844580777,
          0.3394683026584867,
          0.33537832310838445,
          0.3231083844580777,
          0.3231083844580777,
          0.32719836400818,
          0.33537832310838445,
          0.34355828220858897,
          0.33537832310838445,
          0.3476482617586912,
          0.35173824130879344,
          0.3558282208588957,
          0.35991820040899797,
          0.35991820040899797,
          0.3558282208588957,
          0.3558282208588957,
          0.39263803680981596,
          0.3967280163599182,
          0.40899795501022496,
          0.4049079754601227,
          0.40081799591002043,
          0.4212678936605317,
          0.4335378323108384,
          0.44171779141104295,
          0.4458077709611452,
          0.45807770961145194,
          0.45807770961145194,
          0.4621676891615542,
          0.4539877300613497,
          0.5030674846625767,
          0.5153374233128835,
          0.5357873210633947,
          0.5480572597137015,
          0.49079754601226994,
          0.5071574642126789,
          0.5439672801635992,
          0.5807770961145194,
          0.5930470347648262,
          0.6053169734151329,
          0.6175869120654397,
          0.621676891615542,
          0.6666666666666666,
          0.6748466257668712,
          0.7116564417177914,
          0.7361963190184049,
          0.7280163599182005,
          0.7361963190184049,
          0.7321063394683026,
          0.7443762781186094,
          0.7525562372188139,
          0.754601226993865,
          0.7627811860940695,
          0.7709611451942741,
          0.7750511247443763,
          0.7648261758691206,
          0.7607361963190185,
          0.7689161554192229,
          0.7566462167689162,
          0.7648261758691206,
          0.7995910020449898,
          0.8098159509202454,
          0.8302658486707567,
          0.8220858895705522,
          0.8588957055214724,
          0.8629856850715747,
          0.8670756646216768,
          0.9120654396728016,
          0.9079754601226994,
          0.9222903885480572,
          0.9222903885480572,
          0.9222903885480572,
          0.9222903885480572,
          0.934560327198364,
          0.9284253578732107,
          0.9284253578732107,
          0.9591002044989775,
          0.9570552147239264,
          1,
          0.9959100204498977,
          0.9775051124744376,
          0.9775051124744376,
          0.9734151329243353,
          0.9734151329243353,
          1,
          1.0040899795501022,
          0.9938650306748467,
          0.9959100204498977,
          0.9959100204498977
         ],
         "yaxis": "y"
        }
       ],
       "layout": {
        "legend": {
         "tracegroupgap": 0
        },
        "template": {
         "data": {
          "bar": [
           {
            "error_x": {
             "color": "#2a3f5f"
            },
            "error_y": {
             "color": "#2a3f5f"
            },
            "marker": {
             "line": {
              "color": "#E5ECF6",
              "width": 0.5
             },
             "pattern": {
              "fillmode": "overlay",
              "size": 10,
              "solidity": 0.2
             }
            },
            "type": "bar"
           }
          ],
          "barpolar": [
           {
            "marker": {
             "line": {
              "color": "#E5ECF6",
              "width": 0.5
             },
             "pattern": {
              "fillmode": "overlay",
              "size": 10,
              "solidity": 0.2
             }
            },
            "type": "barpolar"
           }
          ],
          "carpet": [
           {
            "aaxis": {
             "endlinecolor": "#2a3f5f",
             "gridcolor": "white",
             "linecolor": "white",
             "minorgridcolor": "white",
             "startlinecolor": "#2a3f5f"
            },
            "baxis": {
             "endlinecolor": "#2a3f5f",
             "gridcolor": "white",
             "linecolor": "white",
             "minorgridcolor": "white",
             "startlinecolor": "#2a3f5f"
            },
            "type": "carpet"
           }
          ],
          "choropleth": [
           {
            "colorbar": {
             "outlinewidth": 0,
             "ticks": ""
            },
            "type": "choropleth"
           }
          ],
          "contour": [
           {
            "colorbar": {
             "outlinewidth": 0,
             "ticks": ""
            },
            "colorscale": [
             [
              0,
              "#0d0887"
             ],
             [
              0.1111111111111111,
              "#46039f"
             ],
             [
              0.2222222222222222,
              "#7201a8"
             ],
             [
              0.3333333333333333,
              "#9c179e"
             ],
             [
              0.4444444444444444,
              "#bd3786"
             ],
             [
              0.5555555555555556,
              "#d8576b"
             ],
             [
              0.6666666666666666,
              "#ed7953"
             ],
             [
              0.7777777777777778,
              "#fb9f3a"
             ],
             [
              0.8888888888888888,
              "#fdca26"
             ],
             [
              1,
              "#f0f921"
             ]
            ],
            "type": "contour"
           }
          ],
          "contourcarpet": [
           {
            "colorbar": {
             "outlinewidth": 0,
             "ticks": ""
            },
            "type": "contourcarpet"
           }
          ],
          "heatmap": [
           {
            "colorbar": {
             "outlinewidth": 0,
             "ticks": ""
            },
            "colorscale": [
             [
              0,
              "#0d0887"
             ],
             [
              0.1111111111111111,
              "#46039f"
             ],
             [
              0.2222222222222222,
              "#7201a8"
             ],
             [
              0.3333333333333333,
              "#9c179e"
             ],
             [
              0.4444444444444444,
              "#bd3786"
             ],
             [
              0.5555555555555556,
              "#d8576b"
             ],
             [
              0.6666666666666666,
              "#ed7953"
             ],
             [
              0.7777777777777778,
              "#fb9f3a"
             ],
             [
              0.8888888888888888,
              "#fdca26"
             ],
             [
              1,
              "#f0f921"
             ]
            ],
            "type": "heatmap"
           }
          ],
          "heatmapgl": [
           {
            "colorbar": {
             "outlinewidth": 0,
             "ticks": ""
            },
            "colorscale": [
             [
              0,
              "#0d0887"
             ],
             [
              0.1111111111111111,
              "#46039f"
             ],
             [
              0.2222222222222222,
              "#7201a8"
             ],
             [
              0.3333333333333333,
              "#9c179e"
             ],
             [
              0.4444444444444444,
              "#bd3786"
             ],
             [
              0.5555555555555556,
              "#d8576b"
             ],
             [
              0.6666666666666666,
              "#ed7953"
             ],
             [
              0.7777777777777778,
              "#fb9f3a"
             ],
             [
              0.8888888888888888,
              "#fdca26"
             ],
             [
              1,
              "#f0f921"
             ]
            ],
            "type": "heatmapgl"
           }
          ],
          "histogram": [
           {
            "marker": {
             "pattern": {
              "fillmode": "overlay",
              "size": 10,
              "solidity": 0.2
             }
            },
            "type": "histogram"
           }
          ],
          "histogram2d": [
           {
            "colorbar": {
             "outlinewidth": 0,
             "ticks": ""
            },
            "colorscale": [
             [
              0,
              "#0d0887"
             ],
             [
              0.1111111111111111,
              "#46039f"
             ],
             [
              0.2222222222222222,
              "#7201a8"
             ],
             [
              0.3333333333333333,
              "#9c179e"
             ],
             [
              0.4444444444444444,
              "#bd3786"
             ],
             [
              0.5555555555555556,
              "#d8576b"
             ],
             [
              0.6666666666666666,
              "#ed7953"
             ],
             [
              0.7777777777777778,
              "#fb9f3a"
             ],
             [
              0.8888888888888888,
              "#fdca26"
             ],
             [
              1,
              "#f0f921"
             ]
            ],
            "type": "histogram2d"
           }
          ],
          "histogram2dcontour": [
           {
            "colorbar": {
             "outlinewidth": 0,
             "ticks": ""
            },
            "colorscale": [
             [
              0,
              "#0d0887"
             ],
             [
              0.1111111111111111,
              "#46039f"
             ],
             [
              0.2222222222222222,
              "#7201a8"
             ],
             [
              0.3333333333333333,
              "#9c179e"
             ],
             [
              0.4444444444444444,
              "#bd3786"
             ],
             [
              0.5555555555555556,
              "#d8576b"
             ],
             [
              0.6666666666666666,
              "#ed7953"
             ],
             [
              0.7777777777777778,
              "#fb9f3a"
             ],
             [
              0.8888888888888888,
              "#fdca26"
             ],
             [
              1,
              "#f0f921"
             ]
            ],
            "type": "histogram2dcontour"
           }
          ],
          "mesh3d": [
           {
            "colorbar": {
             "outlinewidth": 0,
             "ticks": ""
            },
            "type": "mesh3d"
           }
          ],
          "parcoords": [
           {
            "line": {
             "colorbar": {
              "outlinewidth": 0,
              "ticks": ""
             }
            },
            "type": "parcoords"
           }
          ],
          "pie": [
           {
            "automargin": true,
            "type": "pie"
           }
          ],
          "scatter": [
           {
            "fillpattern": {
             "fillmode": "overlay",
             "size": 10,
             "solidity": 0.2
            },
            "type": "scatter"
           }
          ],
          "scatter3d": [
           {
            "line": {
             "colorbar": {
              "outlinewidth": 0,
              "ticks": ""
             }
            },
            "marker": {
             "colorbar": {
              "outlinewidth": 0,
              "ticks": ""
             }
            },
            "type": "scatter3d"
           }
          ],
          "scattercarpet": [
           {
            "marker": {
             "colorbar": {
              "outlinewidth": 0,
              "ticks": ""
             }
            },
            "type": "scattercarpet"
           }
          ],
          "scattergeo": [
           {
            "marker": {
             "colorbar": {
              "outlinewidth": 0,
              "ticks": ""
             }
            },
            "type": "scattergeo"
           }
          ],
          "scattergl": [
           {
            "marker": {
             "colorbar": {
              "outlinewidth": 0,
              "ticks": ""
             }
            },
            "type": "scattergl"
           }
          ],
          "scattermapbox": [
           {
            "marker": {
             "colorbar": {
              "outlinewidth": 0,
              "ticks": ""
             }
            },
            "type": "scattermapbox"
           }
          ],
          "scatterpolar": [
           {
            "marker": {
             "colorbar": {
              "outlinewidth": 0,
              "ticks": ""
             }
            },
            "type": "scatterpolar"
           }
          ],
          "scatterpolargl": [
           {
            "marker": {
             "colorbar": {
              "outlinewidth": 0,
              "ticks": ""
             }
            },
            "type": "scatterpolargl"
           }
          ],
          "scatterternary": [
           {
            "marker": {
             "colorbar": {
              "outlinewidth": 0,
              "ticks": ""
             }
            },
            "type": "scatterternary"
           }
          ],
          "surface": [
           {
            "colorbar": {
             "outlinewidth": 0,
             "ticks": ""
            },
            "colorscale": [
             [
              0,
              "#0d0887"
             ],
             [
              0.1111111111111111,
              "#46039f"
             ],
             [
              0.2222222222222222,
              "#7201a8"
             ],
             [
              0.3333333333333333,
              "#9c179e"
             ],
             [
              0.4444444444444444,
              "#bd3786"
             ],
             [
              0.5555555555555556,
              "#d8576b"
             ],
             [
              0.6666666666666666,
              "#ed7953"
             ],
             [
              0.7777777777777778,
              "#fb9f3a"
             ],
             [
              0.8888888888888888,
              "#fdca26"
             ],
             [
              1,
              "#f0f921"
             ]
            ],
            "type": "surface"
           }
          ],
          "table": [
           {
            "cells": {
             "fill": {
              "color": "#EBF0F8"
             },
             "line": {
              "color": "white"
             }
            },
            "header": {
             "fill": {
              "color": "#C8D4E3"
             },
             "line": {
              "color": "white"
             }
            },
            "type": "table"
           }
          ]
         },
         "layout": {
          "annotationdefaults": {
           "arrowcolor": "#2a3f5f",
           "arrowhead": 0,
           "arrowwidth": 1
          },
          "autotypenumbers": "strict",
          "coloraxis": {
           "colorbar": {
            "outlinewidth": 0,
            "ticks": ""
           }
          },
          "colorscale": {
           "diverging": [
            [
             0,
             "#8e0152"
            ],
            [
             0.1,
             "#c51b7d"
            ],
            [
             0.2,
             "#de77ae"
            ],
            [
             0.3,
             "#f1b6da"
            ],
            [
             0.4,
             "#fde0ef"
            ],
            [
             0.5,
             "#f7f7f7"
            ],
            [
             0.6,
             "#e6f5d0"
            ],
            [
             0.7,
             "#b8e186"
            ],
            [
             0.8,
             "#7fbc41"
            ],
            [
             0.9,
             "#4d9221"
            ],
            [
             1,
             "#276419"
            ]
           ],
           "sequential": [
            [
             0,
             "#0d0887"
            ],
            [
             0.1111111111111111,
             "#46039f"
            ],
            [
             0.2222222222222222,
             "#7201a8"
            ],
            [
             0.3333333333333333,
             "#9c179e"
            ],
            [
             0.4444444444444444,
             "#bd3786"
            ],
            [
             0.5555555555555556,
             "#d8576b"
            ],
            [
             0.6666666666666666,
             "#ed7953"
            ],
            [
             0.7777777777777778,
             "#fb9f3a"
            ],
            [
             0.8888888888888888,
             "#fdca26"
            ],
            [
             1,
             "#f0f921"
            ]
           ],
           "sequentialminus": [
            [
             0,
             "#0d0887"
            ],
            [
             0.1111111111111111,
             "#46039f"
            ],
            [
             0.2222222222222222,
             "#7201a8"
            ],
            [
             0.3333333333333333,
             "#9c179e"
            ],
            [
             0.4444444444444444,
             "#bd3786"
            ],
            [
             0.5555555555555556,
             "#d8576b"
            ],
            [
             0.6666666666666666,
             "#ed7953"
            ],
            [
             0.7777777777777778,
             "#fb9f3a"
            ],
            [
             0.8888888888888888,
             "#fdca26"
            ],
            [
             1,
             "#f0f921"
            ]
           ]
          },
          "colorway": [
           "#636efa",
           "#EF553B",
           "#00cc96",
           "#ab63fa",
           "#FFA15A",
           "#19d3f3",
           "#FF6692",
           "#B6E880",
           "#FF97FF",
           "#FECB52"
          ],
          "font": {
           "color": "#2a3f5f"
          },
          "geo": {
           "bgcolor": "white",
           "lakecolor": "white",
           "landcolor": "#E5ECF6",
           "showlakes": true,
           "showland": true,
           "subunitcolor": "white"
          },
          "hoverlabel": {
           "align": "left"
          },
          "hovermode": "closest",
          "mapbox": {
           "style": "light"
          },
          "paper_bgcolor": "white",
          "plot_bgcolor": "#E5ECF6",
          "polar": {
           "angularaxis": {
            "gridcolor": "white",
            "linecolor": "white",
            "ticks": ""
           },
           "bgcolor": "#E5ECF6",
           "radialaxis": {
            "gridcolor": "white",
            "linecolor": "white",
            "ticks": ""
           }
          },
          "scene": {
           "xaxis": {
            "backgroundcolor": "#E5ECF6",
            "gridcolor": "white",
            "gridwidth": 2,
            "linecolor": "white",
            "showbackground": true,
            "ticks": "",
            "zerolinecolor": "white"
           },
           "yaxis": {
            "backgroundcolor": "#E5ECF6",
            "gridcolor": "white",
            "gridwidth": 2,
            "linecolor": "white",
            "showbackground": true,
            "ticks": "",
            "zerolinecolor": "white"
           },
           "zaxis": {
            "backgroundcolor": "#E5ECF6",
            "gridcolor": "white",
            "gridwidth": 2,
            "linecolor": "white",
            "showbackground": true,
            "ticks": "",
            "zerolinecolor": "white"
           }
          },
          "shapedefaults": {
           "line": {
            "color": "#2a3f5f"
           }
          },
          "ternary": {
           "aaxis": {
            "gridcolor": "white",
            "linecolor": "white",
            "ticks": ""
           },
           "baxis": {
            "gridcolor": "white",
            "linecolor": "white",
            "ticks": ""
           },
           "bgcolor": "#E5ECF6",
           "caxis": {
            "gridcolor": "white",
            "linecolor": "white",
            "ticks": ""
           }
          },
          "title": {
           "x": 0.05
          },
          "xaxis": {
           "automargin": true,
           "gridcolor": "white",
           "linecolor": "white",
           "ticks": "",
           "title": {
            "standoff": 15
           },
           "zerolinecolor": "white",
           "zerolinewidth": 2
          },
          "yaxis": {
           "automargin": true,
           "gridcolor": "white",
           "linecolor": "white",
           "ticks": "",
           "title": {
            "standoff": 15
           },
           "zerolinecolor": "white",
           "zerolinewidth": 2
          }
         }
        },
        "title": {
         "text": "inverse=True, abs=False, mean=False, aop=True, layers=[11, 12, 13, 14, 15, 16]"
        },
        "xaxis": {
         "anchor": "y",
         "domain": [
          0,
          1
         ],
         "title": {
          "text": "Number of nodes"
         }
        },
        "yaxis": {
         "anchor": "x",
         "domain": [
          0,
          1
         ],
         "title": {
          "text": "Faithfullness"
         }
        }
       }
      },
      "text/html": [
       "<div>                            <div id=\"fe4829c1-8bf7-492e-aeb0-a9f7e6f2e5c9\" class=\"plotly-graph-div\" style=\"height:525px; width:100%;\"></div>            <script type=\"text/javascript\">                require([\"plotly\"], function(Plotly) {                    window.PLOTLYENV=window.PLOTLYENV || {};                                    if (document.getElementById(\"fe4829c1-8bf7-492e-aeb0-a9f7e6f2e5c9\")) {                    Plotly.newPlot(                        \"fe4829c1-8bf7-492e-aeb0-a9f7e6f2e5c9\",                        [{\"hovertemplate\":\"x=%{x}\\u003cbr\\u003ey=%{y}\\u003cextra\\u003e\\u003c\\u002fextra\\u003e\",\"legendgroup\":\"\",\"line\":{\"color\":\"#636efa\",\"dash\":\"solid\"},\"marker\":{\"symbol\":\"circle\"},\"mode\":\"lines\",\"name\":\"\",\"orientation\":\"v\",\"showlegend\":false,\"x\":[10932,10862,10788,10725,10647,10562,10478,10389,10296,10215,10125,10027,9943,9840,9709,9606,9498,9389,9279,9146,9055,8930,8817,8687,8555,8429,8308,8180,8044,7912,7757,7618,7475,7345,7197,7052,6918,6770,6617,6467,6324,6171,6021,5892,5747,5597,5475,5348,5222,5058,4952,4813,4672,4524,4386,4230,4099,3961,3817,3692,3574,3461,3353,3230,3120,2980,2861,2745,2613,2510,2384,2297,2205,2102,2011,1914,1819,1722,1638,1567,1486,1406,1343,1266,1191,1128,1070,1011,958,905,859,809,759,719,684,652,612,571,540,505,473,441,409,378,349,327,300,279,249,236,225,213,203,192,181,168,157,147,138,127,118,103,96,85,78,73,66,62,57,54,49,48,41,38,36,32,31,27,24,20,18,15,10,8,8,6,5,1,0,0],\"xaxis\":\"x\",\"y\":[0.24130879345603273,0.24948875255623723,0.24539877300613497,0.24539877300613497,0.24948875255623723,0.24539877300613497,0.24130879345603273,0.24539877300613497,0.24539877300613497,0.24539877300613497,0.24539877300613497,0.24948875255623723,0.24539877300613497,0.24948875255623723,0.24948875255623723,0.25357873210633947,0.24948875255623723,0.25766871165644173,0.25357873210633947,0.24948875255623723,0.25357873210633947,0.24948875255623723,0.24948875255623723,0.24539877300613497,0.24948875255623723,0.24948875255623723,0.25357873210633947,0.25357873210633947,0.25357873210633947,0.261758691206544,0.26993865030674846,0.25357873210633947,0.25766871165644173,0.261758691206544,0.261758691206544,0.25766871165644173,0.25766871165644173,0.24948875255623723,0.25357873210633947,0.25766871165644173,0.261758691206544,0.26993865030674846,0.26993865030674846,0.2822085889570552,0.2822085889570552,0.278118609406953,0.2822085889570552,0.2903885480572597,0.2985685071574642,0.30265848670756645,0.30265848670756645,0.3067484662576687,0.3149284253578732,0.3149284253578732,0.31901840490797545,0.3149284253578732,0.3149284253578732,0.32719836400818,0.32719836400818,0.3312883435582822,0.31901840490797545,0.3231083844580777,0.3231083844580777,0.3394683026584867,0.33537832310838445,0.3231083844580777,0.3231083844580777,0.32719836400818,0.33537832310838445,0.34355828220858897,0.33537832310838445,0.3476482617586912,0.35173824130879344,0.3558282208588957,0.35991820040899797,0.35991820040899797,0.3558282208588957,0.3558282208588957,0.39263803680981596,0.3967280163599182,0.40899795501022496,0.4049079754601227,0.40081799591002043,0.4212678936605317,0.4335378323108384,0.44171779141104295,0.4458077709611452,0.45807770961145194,0.45807770961145194,0.4621676891615542,0.4539877300613497,0.5030674846625767,0.5153374233128835,0.5357873210633947,0.5480572597137015,0.49079754601226994,0.5071574642126789,0.5439672801635992,0.5807770961145194,0.5930470347648262,0.6053169734151329,0.6175869120654397,0.621676891615542,0.6666666666666666,0.6748466257668712,0.7116564417177914,0.7361963190184049,0.7280163599182005,0.7361963190184049,0.7321063394683026,0.7443762781186094,0.7525562372188139,0.754601226993865,0.7627811860940695,0.7709611451942741,0.7750511247443763,0.7648261758691206,0.7607361963190185,0.7689161554192229,0.7566462167689162,0.7648261758691206,0.7995910020449898,0.8098159509202454,0.8302658486707567,0.8220858895705522,0.8588957055214724,0.8629856850715747,0.8670756646216768,0.9120654396728016,0.9079754601226994,0.9222903885480572,0.9222903885480572,0.9222903885480572,0.9222903885480572,0.934560327198364,0.9284253578732107,0.9284253578732107,0.9591002044989775,0.9570552147239264,1.0,0.9959100204498977,0.9775051124744376,0.9775051124744376,0.9734151329243353,0.9734151329243353,1.0,1.0040899795501022,0.9938650306748467,0.9959100204498977,0.9959100204498977],\"yaxis\":\"y\",\"type\":\"scatter\"}],                        {\"template\":{\"data\":{\"histogram2dcontour\":[{\"type\":\"histogram2dcontour\",\"colorbar\":{\"outlinewidth\":0,\"ticks\":\"\"},\"colorscale\":[[0.0,\"#0d0887\"],[0.1111111111111111,\"#46039f\"],[0.2222222222222222,\"#7201a8\"],[0.3333333333333333,\"#9c179e\"],[0.4444444444444444,\"#bd3786\"],[0.5555555555555556,\"#d8576b\"],[0.6666666666666666,\"#ed7953\"],[0.7777777777777778,\"#fb9f3a\"],[0.8888888888888888,\"#fdca26\"],[1.0,\"#f0f921\"]]}],\"choropleth\":[{\"type\":\"choropleth\",\"colorbar\":{\"outlinewidth\":0,\"ticks\":\"\"}}],\"histogram2d\":[{\"type\":\"histogram2d\",\"colorbar\":{\"outlinewidth\":0,\"ticks\":\"\"},\"colorscale\":[[0.0,\"#0d0887\"],[0.1111111111111111,\"#46039f\"],[0.2222222222222222,\"#7201a8\"],[0.3333333333333333,\"#9c179e\"],[0.4444444444444444,\"#bd3786\"],[0.5555555555555556,\"#d8576b\"],[0.6666666666666666,\"#ed7953\"],[0.7777777777777778,\"#fb9f3a\"],[0.8888888888888888,\"#fdca26\"],[1.0,\"#f0f921\"]]}],\"heatmap\":[{\"type\":\"heatmap\",\"colorbar\":{\"outlinewidth\":0,\"ticks\":\"\"},\"colorscale\":[[0.0,\"#0d0887\"],[0.1111111111111111,\"#46039f\"],[0.2222222222222222,\"#7201a8\"],[0.3333333333333333,\"#9c179e\"],[0.4444444444444444,\"#bd3786\"],[0.5555555555555556,\"#d8576b\"],[0.6666666666666666,\"#ed7953\"],[0.7777777777777778,\"#fb9f3a\"],[0.8888888888888888,\"#fdca26\"],[1.0,\"#f0f921\"]]}],\"heatmapgl\":[{\"type\":\"heatmapgl\",\"colorbar\":{\"outlinewidth\":0,\"ticks\":\"\"},\"colorscale\":[[0.0,\"#0d0887\"],[0.1111111111111111,\"#46039f\"],[0.2222222222222222,\"#7201a8\"],[0.3333333333333333,\"#9c179e\"],[0.4444444444444444,\"#bd3786\"],[0.5555555555555556,\"#d8576b\"],[0.6666666666666666,\"#ed7953\"],[0.7777777777777778,\"#fb9f3a\"],[0.8888888888888888,\"#fdca26\"],[1.0,\"#f0f921\"]]}],\"contourcarpet\":[{\"type\":\"contourcarpet\",\"colorbar\":{\"outlinewidth\":0,\"ticks\":\"\"}}],\"contour\":[{\"type\":\"contour\",\"colorbar\":{\"outlinewidth\":0,\"ticks\":\"\"},\"colorscale\":[[0.0,\"#0d0887\"],[0.1111111111111111,\"#46039f\"],[0.2222222222222222,\"#7201a8\"],[0.3333333333333333,\"#9c179e\"],[0.4444444444444444,\"#bd3786\"],[0.5555555555555556,\"#d8576b\"],[0.6666666666666666,\"#ed7953\"],[0.7777777777777778,\"#fb9f3a\"],[0.8888888888888888,\"#fdca26\"],[1.0,\"#f0f921\"]]}],\"surface\":[{\"type\":\"surface\",\"colorbar\":{\"outlinewidth\":0,\"ticks\":\"\"},\"colorscale\":[[0.0,\"#0d0887\"],[0.1111111111111111,\"#46039f\"],[0.2222222222222222,\"#7201a8\"],[0.3333333333333333,\"#9c179e\"],[0.4444444444444444,\"#bd3786\"],[0.5555555555555556,\"#d8576b\"],[0.6666666666666666,\"#ed7953\"],[0.7777777777777778,\"#fb9f3a\"],[0.8888888888888888,\"#fdca26\"],[1.0,\"#f0f921\"]]}],\"mesh3d\":[{\"type\":\"mesh3d\",\"colorbar\":{\"outlinewidth\":0,\"ticks\":\"\"}}],\"scatter\":[{\"fillpattern\":{\"fillmode\":\"overlay\",\"size\":10,\"solidity\":0.2},\"type\":\"scatter\"}],\"parcoords\":[{\"type\":\"parcoords\",\"line\":{\"colorbar\":{\"outlinewidth\":0,\"ticks\":\"\"}}}],\"scatterpolargl\":[{\"type\":\"scatterpolargl\",\"marker\":{\"colorbar\":{\"outlinewidth\":0,\"ticks\":\"\"}}}],\"bar\":[{\"error_x\":{\"color\":\"#2a3f5f\"},\"error_y\":{\"color\":\"#2a3f5f\"},\"marker\":{\"line\":{\"color\":\"#E5ECF6\",\"width\":0.5},\"pattern\":{\"fillmode\":\"overlay\",\"size\":10,\"solidity\":0.2}},\"type\":\"bar\"}],\"scattergeo\":[{\"type\":\"scattergeo\",\"marker\":{\"colorbar\":{\"outlinewidth\":0,\"ticks\":\"\"}}}],\"scatterpolar\":[{\"type\":\"scatterpolar\",\"marker\":{\"colorbar\":{\"outlinewidth\":0,\"ticks\":\"\"}}}],\"histogram\":[{\"marker\":{\"pattern\":{\"fillmode\":\"overlay\",\"size\":10,\"solidity\":0.2}},\"type\":\"histogram\"}],\"scattergl\":[{\"type\":\"scattergl\",\"marker\":{\"colorbar\":{\"outlinewidth\":0,\"ticks\":\"\"}}}],\"scatter3d\":[{\"type\":\"scatter3d\",\"line\":{\"colorbar\":{\"outlinewidth\":0,\"ticks\":\"\"}},\"marker\":{\"colorbar\":{\"outlinewidth\":0,\"ticks\":\"\"}}}],\"scattermapbox\":[{\"type\":\"scattermapbox\",\"marker\":{\"colorbar\":{\"outlinewidth\":0,\"ticks\":\"\"}}}],\"scatterternary\":[{\"type\":\"scatterternary\",\"marker\":{\"colorbar\":{\"outlinewidth\":0,\"ticks\":\"\"}}}],\"scattercarpet\":[{\"type\":\"scattercarpet\",\"marker\":{\"colorbar\":{\"outlinewidth\":0,\"ticks\":\"\"}}}],\"carpet\":[{\"aaxis\":{\"endlinecolor\":\"#2a3f5f\",\"gridcolor\":\"white\",\"linecolor\":\"white\",\"minorgridcolor\":\"white\",\"startlinecolor\":\"#2a3f5f\"},\"baxis\":{\"endlinecolor\":\"#2a3f5f\",\"gridcolor\":\"white\",\"linecolor\":\"white\",\"minorgridcolor\":\"white\",\"startlinecolor\":\"#2a3f5f\"},\"type\":\"carpet\"}],\"table\":[{\"cells\":{\"fill\":{\"color\":\"#EBF0F8\"},\"line\":{\"color\":\"white\"}},\"header\":{\"fill\":{\"color\":\"#C8D4E3\"},\"line\":{\"color\":\"white\"}},\"type\":\"table\"}],\"barpolar\":[{\"marker\":{\"line\":{\"color\":\"#E5ECF6\",\"width\":0.5},\"pattern\":{\"fillmode\":\"overlay\",\"size\":10,\"solidity\":0.2}},\"type\":\"barpolar\"}],\"pie\":[{\"automargin\":true,\"type\":\"pie\"}]},\"layout\":{\"autotypenumbers\":\"strict\",\"colorway\":[\"#636efa\",\"#EF553B\",\"#00cc96\",\"#ab63fa\",\"#FFA15A\",\"#19d3f3\",\"#FF6692\",\"#B6E880\",\"#FF97FF\",\"#FECB52\"],\"font\":{\"color\":\"#2a3f5f\"},\"hovermode\":\"closest\",\"hoverlabel\":{\"align\":\"left\"},\"paper_bgcolor\":\"white\",\"plot_bgcolor\":\"#E5ECF6\",\"polar\":{\"bgcolor\":\"#E5ECF6\",\"angularaxis\":{\"gridcolor\":\"white\",\"linecolor\":\"white\",\"ticks\":\"\"},\"radialaxis\":{\"gridcolor\":\"white\",\"linecolor\":\"white\",\"ticks\":\"\"}},\"ternary\":{\"bgcolor\":\"#E5ECF6\",\"aaxis\":{\"gridcolor\":\"white\",\"linecolor\":\"white\",\"ticks\":\"\"},\"baxis\":{\"gridcolor\":\"white\",\"linecolor\":\"white\",\"ticks\":\"\"},\"caxis\":{\"gridcolor\":\"white\",\"linecolor\":\"white\",\"ticks\":\"\"}},\"coloraxis\":{\"colorbar\":{\"outlinewidth\":0,\"ticks\":\"\"}},\"colorscale\":{\"sequential\":[[0.0,\"#0d0887\"],[0.1111111111111111,\"#46039f\"],[0.2222222222222222,\"#7201a8\"],[0.3333333333333333,\"#9c179e\"],[0.4444444444444444,\"#bd3786\"],[0.5555555555555556,\"#d8576b\"],[0.6666666666666666,\"#ed7953\"],[0.7777777777777778,\"#fb9f3a\"],[0.8888888888888888,\"#fdca26\"],[1.0,\"#f0f921\"]],\"sequentialminus\":[[0.0,\"#0d0887\"],[0.1111111111111111,\"#46039f\"],[0.2222222222222222,\"#7201a8\"],[0.3333333333333333,\"#9c179e\"],[0.4444444444444444,\"#bd3786\"],[0.5555555555555556,\"#d8576b\"],[0.6666666666666666,\"#ed7953\"],[0.7777777777777778,\"#fb9f3a\"],[0.8888888888888888,\"#fdca26\"],[1.0,\"#f0f921\"]],\"diverging\":[[0,\"#8e0152\"],[0.1,\"#c51b7d\"],[0.2,\"#de77ae\"],[0.3,\"#f1b6da\"],[0.4,\"#fde0ef\"],[0.5,\"#f7f7f7\"],[0.6,\"#e6f5d0\"],[0.7,\"#b8e186\"],[0.8,\"#7fbc41\"],[0.9,\"#4d9221\"],[1,\"#276419\"]]},\"xaxis\":{\"gridcolor\":\"white\",\"linecolor\":\"white\",\"ticks\":\"\",\"title\":{\"standoff\":15},\"zerolinecolor\":\"white\",\"automargin\":true,\"zerolinewidth\":2},\"yaxis\":{\"gridcolor\":\"white\",\"linecolor\":\"white\",\"ticks\":\"\",\"title\":{\"standoff\":15},\"zerolinecolor\":\"white\",\"automargin\":true,\"zerolinewidth\":2},\"scene\":{\"xaxis\":{\"backgroundcolor\":\"#E5ECF6\",\"gridcolor\":\"white\",\"linecolor\":\"white\",\"showbackground\":true,\"ticks\":\"\",\"zerolinecolor\":\"white\",\"gridwidth\":2},\"yaxis\":{\"backgroundcolor\":\"#E5ECF6\",\"gridcolor\":\"white\",\"linecolor\":\"white\",\"showbackground\":true,\"ticks\":\"\",\"zerolinecolor\":\"white\",\"gridwidth\":2},\"zaxis\":{\"backgroundcolor\":\"#E5ECF6\",\"gridcolor\":\"white\",\"linecolor\":\"white\",\"showbackground\":true,\"ticks\":\"\",\"zerolinecolor\":\"white\",\"gridwidth\":2}},\"shapedefaults\":{\"line\":{\"color\":\"#2a3f5f\"}},\"annotationdefaults\":{\"arrowcolor\":\"#2a3f5f\",\"arrowhead\":0,\"arrowwidth\":1},\"geo\":{\"bgcolor\":\"white\",\"landcolor\":\"#E5ECF6\",\"subunitcolor\":\"white\",\"showland\":true,\"showlakes\":true,\"lakecolor\":\"white\"},\"title\":{\"x\":0.05},\"mapbox\":{\"style\":\"light\"}}},\"xaxis\":{\"anchor\":\"y\",\"domain\":[0.0,1.0],\"title\":{\"text\":\"Number of nodes\"}},\"yaxis\":{\"anchor\":\"x\",\"domain\":[0.0,1.0],\"title\":{\"text\":\"Faithfullness\"}},\"legend\":{\"tracegroupgap\":0},\"title\":{\"text\":\"inverse=True, abs=False, mean=False, aop=True, layers=[11, 12, 13, 14, 15, 16]\"}},                        {\"responsive\": true}                    ).then(function(){\n",
       "                            \n",
       "var gd = document.getElementById('fe4829c1-8bf7-492e-aeb0-a9f7e6f2e5c9');\n",
       "var x = new MutationObserver(function (mutations, observer) {{\n",
       "        var display = window.getComputedStyle(gd).display;\n",
       "        if (!display || display === 'none') {{\n",
       "            console.log([gd, 'removed!']);\n",
       "            Plotly.purge(gd);\n",
       "            observer.disconnect();\n",
       "        }}\n",
       "}});\n",
       "\n",
       "// Listen for the removal of the full notebook cells\n",
       "var notebookContainer = gd.closest('#notebook-container');\n",
       "if (notebookContainer) {{\n",
       "    x.observe(notebookContainer, {childList: true});\n",
       "}}\n",
       "\n",
       "// Listen for the clearing of the current output cell\n",
       "var outputEl = gd.closest('.output');\n",
       "if (outputEl) {{\n",
       "    x.observe(outputEl, {childList: true});\n",
       "}}\n",
       "\n",
       "                        })                };                });            </script>        </div>"
      ]
     },
     "metadata": {},
     "output_type": "display_data"
    }
   ],
   "source": [
    "import matplotlib.pyplot as plt\n",
    "import plotly.express as px\n",
    "\n",
    "# plt.plot([max(n_nodes_counts) - x for x in n_nodes_counts], ablated_metrics)\n",
    "# plt.plot(thresholds, ablated_metrics)\n",
    "# plt.plot(thresholds, ablated_metrics)\n",
    "# plt.plot(n_nodes_counts, ablated_metrics)\n",
    "# plt.plot(thresholds, n_nodes_counts)\n",
    "# plt.xscale(\"log\")\n",
    "# plt.plot(n_nodes_counts)\n",
    "\n",
    "# px.line(x=list(range(len(ablated_metrics))), y=ablated_metrics)\n",
    "# fig = px.line(x=thresholds, y=ablated_metrics)\n",
    "# fig.update_xaxes(type=\"log\", exponentformat=\"power\")\n",
    "\n",
    "fig = px.line(x=[max(n_nodes_counts) - x for x in n_nodes_counts], y=faithfullness, title=f\"inverse={inverse}, abs={do_abs}, mean={mean_ablate}, aop={average_over_positions}, layers={layers}\")\n",
    "fig.update_xaxes(title=\"Number of nodes\")\n",
    "fig.update_yaxes(title=\"Faithfullness\")\n",
    "\n",
    "fig\n"
   ]
  },
  {
   "cell_type": "code",
   "execution_count": null,
   "metadata": {},
   "outputs": [],
   "source": [
    "import numpy as np\n",
    "# thresholds = np.linspace(0, 1e-4, 100)\n",
    "# thresholds = np.linspace(1.4 * 1e-4, 1.45 * 1e-4, 200)\n",
    "thresholds = np.logspace(-5, -1, 150)\n",
    "topks = [4, 6, 12, 16, 24, 32]\n",
    "\n",
    "inverse = False\n",
    "do_abs = False\n",
    "mean_ablate = False\n",
    "average_over_positions = True\n",
    "\n",
    "\n",
    "ablated_metrics, n_nodes_counts = circuitizer.run_ablated_metrics(thresholds, inverse=inverse, \n",
    "                                                                  do_abs=do_abs, mean_ablate=mean_ablate, \n",
    "                                                                  average_over_positions=average_over_positions,\n",
    "                                                                  token_prefix=None, layers=layers)\n",
    "\n",
    "faithfullness = np.array(ablated_metrics)\n",
    "faithfullness = (faithfullness - zero_metric) / (orig_metric - zero_metric)\n",
    "\n",
    "\n",
    "\n",
    "# target_metric = (max(ablated_metrics) - min(ablated_metrics)) * 0.95 + min(ablated_metrics)\n",
    "# target_threshold = [threshold for threshold, metric in reversed(list(zip(thresholds, ablated_metrics))) if metric > target_metric][0]"
   ]
  },
  {
   "cell_type": "code",
   "execution_count": 14,
   "metadata": {},
   "outputs": [
    {
     "data": {
      "text/html": [
       "<script> (()=>{ if (customElements.get('treescope-container') === undefined) { class TreescopeContainer extends HTMLElement { constructor() { super(); this.attachShadow({mode: \"open\"}); this.defns = {}; this.state = {}; } } customElements.define(\"treescope-container\", TreescopeContainer); } if (customElements.get('treescope-run-here') === undefined) { class RunHere extends HTMLElement { constructor() { super() } connectedCallback() { const run = child => { const fn = new Function(child.textContent); child.textContent = \"\"; fn.call(this); this.remove(); }; const child = this.querySelector(\"script\"); if (child) { run(child); } else { new MutationObserver(()=>{ run(this.querySelector(\"script\")); }).observe(this, {childList: true}); } } } customElements.define(\"treescope-run-here\", RunHere); } })(); </script> <treescope-container class=\"treescope_out_fcc968a79daf45f8bdeee7d181567176\" ></treescope-container> <treescope-run-here><script type=\"application/octet-stream\"> const root = ( Array.from(document.getElementsByClassName( \"treescope_out_fcc968a79daf45f8bdeee7d181567176\")) .filter((elt) => !elt.dataset.setup) )[0]; root.dataset.setup = 1; const msg = document.createElement(\"span\"); msg.style = \"color: #aaaaaa; font-family: monospace; transition: opacity 0.2s; opacity: 0.0;\"; msg.textContent = \"(Loading...)\"; root.state.loadingMsg = msg; root.shadowRoot.appendChild(msg); root.state.chain = new Promise((resolve, reject) => { const observer = new IntersectionObserver((entries) => { for (const entry of entries) { if (entry.isIntersecting) { resolve(); observer.disconnect(); return; } } }, {rootMargin: \"1000px\"}); window.setTimeout(() => { if (root.loadingMsg) { root.loadingMsg.style.opacity = \"1.0\"; } observer.observe(root); }, 0); }); root.state.deferring = false; const _insertNode = (node) => { for (let oldScript of node.querySelectorAll(\"script\")) { let newScript = document.createElement(\"script\"); newScript.type = oldScript.type; newScript.textContent = oldScript.textContent; oldScript.parentNode.replaceChild(newScript, oldScript); } if (root.state.loadingMsg) { root.state.loadingMsg.remove(); root.state.loadingMsg = null; } root.shadowRoot.appendChild(node); }; root.defns.insertContent = ((contentNode, compressed) => { if (compressed) { root.state.deferring = true; } if (root.state.deferring) { root.state.chain = (async () => { await root.state.chain; if (compressed) { const encoded = contentNode.textContent; const blob = new Blob([ Uint8Array.from(atob(encoded), (m) => m.codePointAt(0)) ]); const reader = blob.stream().pipeThrough( new DecompressionStream(\"deflate\") ).pipeThrough( new TextDecoderStream(\"utf-8\") ).getReader(); const parts = []; while (true) { const step = await reader.read(); if (step.done) { break; } parts.push(step.value); } const tpl = document.createElement('template'); tpl.innerHTML = parts.join(\"\"); _insertNode(tpl.content); } else { _insertNode(contentNode.content); } })(); } else { _insertNode(contentNode.content); } }); </script></treescope-run-here><div style=\"display:none\"> <script type=\"application/octet-stream\" >eNrFVk1v4zYQ/SuECmykolJs7zqbyLaAXIoeih7aQw9tYVDSSGJNkyo5SuIW+e8dUrId23JQoIvWPtgazsx78ykuLe4kZAkaAFvoFtZGa2R/sVZbgUKrlBmQHMUTLFilFcYV3wq5S9lWK21bXpD8uREIsX9IWWtIIoXF2LuOcdeSVGlF4pwXm9roTpVxoaU2aW+6YMNTLkmB/IkSm5RVAklNIShcsJaXpVB1LKHClM2KxoEoiBsQdUOSaTJ3bhRyQZwPZsOf+ElYkQspkJjzDvVBNxYKjVBWFLEVf0J/OtB9Xd726Vke0hObThGmIZktjGiRufhWN7xtpSi4y9itLhBc9Ab49iYLw2iVUUIJzyIroVKWrRg2wiY14I+U7R90CWGUNNpi4s8pNEC2bkG5kB8L59UZ/fLb2Ml3XJUS6Fh1Ui56hIRo/qS1Imn4rM0mYm856J9J5I5OxCgKJ2zBVNpsuSogUfo5jHx9CSC8OGFxb7RkH2cR+REVC89YJxJUjQ1brdjEqbxL3QB2RlHeGUgLR2JNpxyzc9e2ERU6fl7B/Xml7xWEkLpKlfo5MfBHBxYfldj6cn1r+BbCPieR87G4AGo72/RpXIzEuIdY9WG8E+U/5+BY9IVEXdeyn8q1nxzq1tb5chKQ+A2DJ2rwoZKOnX9ONrBzSQ9M4AgNykkhubXf03AOfsPg4HO9pTYM9uCvEeWT2t/3eLa8HRuAUjwx73AVnK6PgCHPKVJ4WQWTgGlFZChsRXrvtf14rKGz2UcZ0Nj1C4sswBgo1y3tDGi0LMH4jvGL5Cv+2X2HleVNUiaQ04xSbElF6jwnKEUcriy7V3aqtu7ZkXYpLIHu9kvtXJFlTPIcZJrmQPMCb1gV/rMYxesXWzx1m21YgJPFEUsov+5yqd2GvIrZ6Ccwl8glNxsLvKYyqUvrVGkMz0QNt2HmfWajefA2adFAsYEyitjX0ZGDMx032uufMPQbOmU3v87meXHzf9I7NbpK8u4/IOnq6IA7Y10BW03vKTAjuMJ+OVg/Ch4o9vNmr/X4l0E9hofwgpcoibDrShiLa63Wrv1HRuu9UUpmczdNo6Vi/5p+X/Fzii6qLTc13Sx6Gn6gjzcJuiUpJspVcFhgk/v5/Wz2MX+YzPmn6X11z/OHh7sHXny6K2fTz3kwGA2r9nTuz+FJuQ9iKVTbDbeTwNPO9Usw6mSIkA776Gjde2P6HXy9xR9bvEH2QeLid/6SPBrDdyyvpOY4vaMrQpIk7EON7l1CTrLzH3qHZH8DPMq2qQ==</script> <treescope-run-here><script type=\"application/octet-stream\"> const root = ( Array.from(document.getElementsByClassName( \"treescope_out_fcc968a79daf45f8bdeee7d181567176\")) .filter((elt) => !elt.dataset['step0']) )[0]; root.dataset['step0'] = 1; root.defns.insertContent( this.parentNode.querySelector('script[type=\"application/octet-stream\"]'), true ); this.parentNode.remove(); </script></treescope-run-here> </div>"
      ],
      "text/plain": [
       "<IPython.core.display.HTML object>"
      ]
     },
     "metadata": {},
     "output_type": "display_data"
    },
    {
     "data": {
      "text/html": [
       "<div style=\"display:none\"> <script type=\"application/octet-stream\" >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</script> <treescope-run-here><script type=\"application/octet-stream\"> const root = ( Array.from(document.getElementsByClassName( \"treescope_out_fcc968a79daf45f8bdeee7d181567176\")) .filter((elt) => !elt.dataset['step1']) )[0]; root.dataset['step1'] = 1; root.defns.insertContent( this.parentNode.querySelector('script[type=\"application/octet-stream\"]'), true ); this.parentNode.remove(); </script></treescope-run-here> </div>"
      ],
      "text/plain": [
       "<IPython.core.display.HTML object>"
      ]
     },
     "metadata": {},
     "output_type": "display_data"
    },
    {
     "data": {
      "text/html": [
       "<treescope-run-here><script type=\"application/octet-stream\"> const root = ( Array.from(document.getElementsByClassName( \"treescope_out_fcc968a79daf45f8bdeee7d181567176\")) .filter((elt) => !elt.dataset.stolen) )[0]; root.dataset.stolen = 1; this.parentNode.replaceChild(root, this); </script></treescope-run-here>"
      ],
      "text/plain": [
       "<jax.Array(-90.5, dtype=bfloat16)>"
      ]
     },
     "execution_count": 14,
     "metadata": {},
     "output_type": "execute_result"
    }
   ],
   "source": [
    "circuitizer.ablated_metric(llama)"
   ]
  }
 ],
 "metadata": {
  "kernelspec": {
   "display_name": "micrlhf-progress-_SD4q1c9-py3.10",
   "language": "python",
   "name": "python3"
  },
  "language_info": {
   "codemirror_mode": {
    "name": "ipython",
    "version": 3
   },
   "file_extension": ".py",
   "mimetype": "text/x-python",
   "name": "python",
   "nbconvert_exporter": "python",
   "pygments_lexer": "ipython3",
   "version": "3.10.12"
  }
 },
 "nbformat": 4,
 "nbformat_minor": 2
}
