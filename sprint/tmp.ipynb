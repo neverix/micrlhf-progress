{
 "cells": [
  {
   "cell_type": "code",
   "execution_count": 2,
   "metadata": {},
   "outputs": [],
   "source": [
    "import json\n",
    "import numpy as np"
   ]
  },
  {
   "cell_type": "code",
   "execution_count": 3,
   "metadata": {},
   "outputs": [],
   "source": [
    "with open(\"../executor_heatmap_l12.json\") as f:\n",
    "    executors = json.load(f)\n",
    "\n",
    "with open(\"../detector_heatmap_l11.json\") as f:\n",
    "    detectors = json.load(f)"
   ]
  },
  {
   "cell_type": "code",
   "execution_count": 4,
   "metadata": {},
   "outputs": [
    {
     "data": {
      "text/plain": [
       "array([ 0,  0,  1,  1,  1,  2,  3,  4,  5,  6,  7,  8,  8,  9,  9, 10, 11,\n",
       "       13, 14, 15, 16, 17, 18])"
      ]
     },
     "execution_count": 4,
     "metadata": {},
     "output_type": "execute_result"
    }
   ],
   "source": [
    "executors[\"heatmap\"] = np.array(executors[\"heatmap\"])\n",
    "\n",
    "executors[\"feat_ids\"] = np.argmax(executors[\"heatmap\"], axis=1)\n",
    "\n",
    "executors[\"feat_ids\"]"
   ]
  },
  {
   "cell_type": "code",
   "execution_count": 5,
   "metadata": {},
   "outputs": [
    {
     "data": {
      "text/plain": [
       "array([ 0,  1,  2,  2,  3,  3,  4,  5,  6,  7,  7,  7,  8,  9, 10, 11, 12,\n",
       "       12, 13, 14, 14, 15, 16])"
      ]
     },
     "execution_count": 5,
     "metadata": {},
     "output_type": "execute_result"
    }
   ],
   "source": [
    "detectors[\"heatmap\"] = np.array(detectors[\"heatmap\"])\n",
    "\n",
    "detectors[\"feat_ids\"] = np.argmax(detectors[\"heatmap\"], axis=1)\n",
    "\n",
    "detectors[\"feat_ids\"]"
   ]
  },
  {
   "cell_type": "code",
   "execution_count": 6,
   "metadata": {},
   "outputs": [
    {
     "name": "stdout",
     "output_type": "stream",
     "text": [
      "present_simple_gerund          8446    -> 15554  \n",
      "present_simple_past_perfect    19628   -> 15356  \n",
      "plural_singular                29228   -> 2930   \n",
      "algo_last                      29228   -> 8633   \n",
      "location_country               11459   -> 7967   \n",
      "location_continent             11459   -> 19260  \n",
      "person_profession              26436   -> 7491   \n",
      "football_player_position       19916   -> 9790   \n",
      "present_simple_past_simple     21327   -> 15356  \n",
      "es_en                          31123   -> 5579   \n",
      "fr_en                          31123   -> 16490  \n",
      "it_en                          31123   -> 5579   \n",
      "country_capital                13529   -> 11173  \n",
      "antonyms                       11050   -> 11618  \n",
      "singular_plural                1322    -> 32417  \n",
      "person_language                1132    -> 11172  \n",
      "algo_second                    32115   -> 1878   \n",
      "algo_first                     32115   -> 6756   \n",
      "location_religion              3466    -> 9178   \n",
      "en_fr                          7928    -> 26987  \n",
      "en_it                          7928    -> 26987  \n",
      "location_language              10884   -> 11172  \n",
      "en_es                          99      -> 26987  \n"
     ]
    }
   ],
   "source": [
    "task_names = detectors[\"task_names\"]\n",
    "\n",
    "for i, task in enumerate(task_names):\n",
    "    j = executors[\"task_names\"].index(task)\n",
    "\n",
    "    f_ex = executors[\"feat_ids\"][j]\n",
    "    f_ex = executors[\"features\"][f_ex]\n",
    "    \n",
    "    f_det = detectors[\"feat_ids\"][i]\n",
    "    f_det = detectors[\"features\"][f_det]\n",
    "\n",
    "    s = \"{:<30} {:<7} -> {:<7}\"\n",
    "\n",
    "    print(s.format(task, f_det, f_ex))"
   ]
  }
 ],
 "metadata": {
  "kernelspec": {
   "display_name": "micrlhf-progress-_SD4q1c9-py3.10",
   "language": "python",
   "name": "python3"
  },
  "language_info": {
   "codemirror_mode": {
    "name": "ipython",
    "version": 3
   },
   "file_extension": ".py",
   "mimetype": "text/x-python",
   "name": "python",
   "nbconvert_exporter": "python",
   "pygments_lexer": "ipython3",
   "version": "3.10.12"
  }
 },
 "nbformat": 4,
 "nbformat_minor": 2
}
