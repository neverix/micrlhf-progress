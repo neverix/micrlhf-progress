{
 "cells": [
  {
   "cell_type": "code",
   "execution_count": 1,
   "metadata": {},
   "outputs": [],
   "source": [
    "import os\n",
    "if \"models\" not in os.listdir(\".\"):\n",
    "    os.chdir(\"../..\")"
   ]
  },
  {
   "cell_type": "code",
   "execution_count": 2,
   "metadata": {},
   "outputs": [],
   "source": [
    "%load_ext autoreload\n",
    "%autoreload 2\n",
    "import penzai\n",
    "import jax_smi\n",
    "jax_smi.initialise_tracking()\n",
    "from penzai import pz\n",
    "pz.ts.register_as_default()\n",
    "pz.ts.register_autovisualize_magic()\n",
    "pz.enable_interactive_context()"
   ]
  },
  {
   "cell_type": "code",
   "execution_count": 3,
   "metadata": {},
   "outputs": [],
   "source": [
    "from micrlhf.llama import LlamaTransformer\n",
    "llama = LlamaTransformer.from_pretrained(\"models/gemma-2b-it.gguf\", from_type=\"gemma\", load_eager=True, device_map=\"tpu:0\")"
   ]
  },
  {
   "cell_type": "code",
   "execution_count": 4,
   "metadata": {},
   "outputs": [],
   "source": [
    "from transformers import AutoTokenizer\n",
    "tokenizer = AutoTokenizer.from_pretrained(\"alpindale/gemma-2b\")\n",
    "tokenizer.padding_side = \"right\""
   ]
  },
  {
   "cell_type": "code",
   "execution_count": 5,
   "metadata": {},
   "outputs": [],
   "source": [
    "from sprint.task_vector_utils import load_tasks, ICLRunner\n",
    "tasks = load_tasks()"
   ]
  },
  {
   "cell_type": "code",
   "execution_count": 6,
   "metadata": {},
   "outputs": [
    {
     "name": "stdout",
     "output_type": "stream",
     "text": [
      "763\n",
      "346\n"
     ]
    }
   ],
   "source": [
    "def check_if_single_token(token):\n",
    "    return len(tokenizer.tokenize(token)) == 1\n",
    "\n",
    "task_name = \"es_en\"\n",
    "\n",
    "task = tasks[task_name]\n",
    "\n",
    "print(len(task))\n",
    "\n",
    "task = {\n",
    "    k:v for k,v in task.items() if check_if_single_token(k) and check_if_single_token(v)\n",
    "}\n",
    "\n",
    "print(len(task))\n",
    "\n",
    "pairs = list(task.items())"
   ]
  },
  {
   "cell_type": "code",
   "execution_count": 7,
   "metadata": {},
   "outputs": [],
   "source": [
    "from sprint.task_vector_utils import logprob_loss\n",
    "from functools import partial\n",
    "\n",
    "sep = 3978\n",
    "pad = 0\n",
    "\n",
    "def metric_fn(logits, resids, tokens):\n",
    "    return logprob_loss(logits, tokens, sep=sep, pad_token=pad, n_first=2)"
   ]
  },
  {
   "cell_type": "code",
   "execution_count": 8,
   "metadata": {},
   "outputs": [],
   "source": [
    "from micrlhf.llama import LlamaBlock, LlamaAttention\n",
    "from micrlhf.utils.activation_manipulation import ActivationAddition, wrap_vector\n",
    "from functools import partial\n",
    "import jax.numpy as jnp\n",
    "from penzai import pz\n",
    "import jax\n",
    "\n",
    "@partial(jax.jit, static_argnames=(\"metric\", \"batched\"))\n",
    "def run_with_add(additions_pre, additions_mid, tokens, metric, batched=False, llama=None):\n",
    "    get_resids = llama.select().at_instances_of(LlamaBlock).apply_with_selected_index(lambda i, x:\n",
    "        pz.nn.Sequential([\n",
    "            pz.de.TellIntermediate.from_config(tag=f\"resid_pre_{i}\"),\n",
    "            x\n",
    "        ])\n",
    "    )\n",
    "    get_resids = get_resids.select().at_instances_of(LlamaBlock).apply_with_selected_index(lambda l, b: b.select().at_instances_of(pz.nn.Residual).apply_with_selected_index(lambda i, x: x if i == 0 else pz.nn.Sequential([\n",
    "        pz.de.TellIntermediate.from_config(tag=f\"resid_mid_{l}\"),\n",
    "        x,\n",
    "    ])))\n",
    "\n",
    "\n",
    "    get_resids = get_resids.select().at_instances_of(LlamaAttention).apply_with_selected_index(lambda i, x: x.select().at_instances_of(pz.nn.Softmax).apply(lambda b: pz.nn.Sequential([\n",
    "        b,\n",
    "        pz.de.TellIntermediate.from_config(tag=f\"attn_{i}\"),\n",
    "    ])))\n",
    "\n",
    "    get_resids = pz.de.CollectingSideOutputs.handling(get_resids, tag_predicate=lambda x: True)\n",
    "    make_additions = get_resids.select().at_instances_of(LlamaBlock).apply_with_selected_index(lambda i, x:\n",
    "        pz.nn.Sequential([\n",
    "            ActivationAddition(pz.nx.wrap(additions_pre[i], *((\"batch\",) if batched else ()), \"seq\", \"embedding\"), \"all\"),\n",
    "            x\n",
    "        ])\n",
    "    )\n",
    "    make_additions = make_additions.select().at_instances_of(LlamaBlock).apply_with_selected_index(lambda l, b: b.select().at_instances_of(pz.nn.Residual).apply_with_selected_index(lambda i, x: x if i == 0 else pz.nn.Sequential([\n",
    "        ActivationAddition(pz.nx.wrap(additions_mid[l], *((\"batch\",) if batched else ()), \"seq\", \"embedding\"), \"all\"),\n",
    "        x,\n",
    "    ])))\n",
    "    tokens_wrapped = pz.nx.wrap(tokens, \"batch\", \"seq\")\n",
    "    logits, resids = make_additions(llama.inputs.from_basic_segments(tokens_wrapped))\n",
    "    return metric(logits.unwrap(\"batch\", \"seq\", \"vocabulary\"), resids, tokens), (logits, resids[::3], resids[1::3], resids[2::3])\n",
    "\n",
    "\n",
    "@partial(jax.jit, static_argnames=(\"metric\",))\n",
    "def get_metric_resid_grad(tokens, llama=llama, metric=metric_fn):\n",
    "    additions = [jnp.zeros(tokens.shape + (llama.config.hidden_size,)) for _ in range(llama.config.num_layers)]\n",
    "    batched = tokens.ndim > 1\n",
    "    (metric, (logits, resids_pre, qk, resids_mid)), (grad_pre, grad_mid) = jax.value_and_grad(run_with_add, argnums=(0, 1), has_aux=True)(additions, additions, tokens, metric, batched=batched, llama=llama)\n",
    "    return (\n",
    "        metric,\n",
    "        [r.value.unwrap(\"batch\", \"seq\", \"embedding\") for r in resids_pre],\n",
    "        [r.value.unwrap(\"batch\", \"seq\", \"embedding\") for r in resids_mid],\n",
    "        [r.value.unwrap(\"batch\", \"kv_heads\", \"q_rep\", \"seq\", \"kv_seq\") for r in qk],\n",
    "        grad_pre,\n",
    "        grad_mid\n",
    "    )\n"
   ]
  },
  {
   "cell_type": "code",
   "execution_count": 9,
   "metadata": {},
   "outputs": [],
   "source": [
    "batch_size = 8 \n",
    "n_shot=20\n",
    "max_seq_len = 128\n",
    "seed = 10"
   ]
  },
  {
   "cell_type": "code",
   "execution_count": 10,
   "metadata": {},
   "outputs": [],
   "source": [
    "prompt = \"Follow the pattern:\\n{}\""
   ]
  },
  {
   "cell_type": "code",
   "execution_count": 11,
   "metadata": {},
   "outputs": [],
   "source": [
    "runner = ICLRunner(task_name, pairs, batch_size=batch_size, n_shot=n_shot, max_seq_len=max_seq_len, seed=seed, prompt=prompt)"
   ]
  },
  {
   "cell_type": "code",
   "execution_count": 12,
   "metadata": {},
   "outputs": [],
   "source": [
    "from sprint.task_vector_utils import tokenized_to_inputs\n",
    "\n",
    "train_tokens = runner.get_tokens(\n",
    "    runner.train_pairs, tokenizer\n",
    ")[\"input_ids\"]"
   ]
  },
  {
   "cell_type": "code",
   "execution_count": 13,
   "metadata": {},
   "outputs": [],
   "source": [
    "metric_value, resids_pre, resids_mid, qk, grad_pre, grad_mid = get_metric_resid_grad(train_tokens, llama=llama)"
   ]
  },
  {
   "cell_type": "code",
   "execution_count": 14,
   "metadata": {},
   "outputs": [],
   "source": [
    "from micrlhf.utils.load_sae import get_nev_it_sae_suite"
   ]
  },
  {
   "cell_type": "code",
   "execution_count": 15,
   "metadata": {},
   "outputs": [],
   "source": [
    "layer = 12"
   ]
  },
  {
   "cell_type": "code",
   "execution_count": 16,
   "metadata": {},
   "outputs": [],
   "source": [
    "def weights_to_resid(weights, sae):\n",
    "    if \"s_gate\" in sae:\n",
    "        weights = (weights > 0) * jax.nn.relu(weights * jax.nn.softplus(sae[\"s_gate\"]) * sae.get(\"scaling_factor\", 1.0) + sae[\"b_gate\"])   \n",
    "    else:\n",
    "        weights = jax.nn.relu(weights)\n",
    "\n",
    "    recon = jnp.einsum(\"fv,bsf->bsv\", sae[\"W_dec\"], weights)\n",
    "\n",
    "    if \"norm_factor\" in sae:\n",
    "        recon = recon / sae[\"norm_factor\"]\n",
    "\n",
    "    # recon = recon.astype('bfloat16')\n",
    "    return recon"
   ]
  },
  {
   "cell_type": "code",
   "execution_count": 17,
   "metadata": {},
   "outputs": [],
   "source": [
    "from micrlhf.utils.load_sae import sae_encode_gated"
   ]
  },
  {
   "cell_type": "code",
   "execution_count": 18,
   "metadata": {},
   "outputs": [
    {
     "data": {
      "application/vnd.jupyter.widget-view+json": {
       "model_id": "e215a45660c741c0bfa5a7d0293fd66a",
       "version_major": 2,
       "version_minor": 0
      },
      "text/plain": [
       "  0%|          | 0/11 [00:00<?, ?it/s]"
      ]
     },
     "metadata": {},
     "output_type": "display_data"
    },
    {
     "data": {
      "application/vnd.jupyter.widget-view+json": {
       "model_id": "ddc6fb06fd0549da80d499f1322fcdd4",
       "version_major": 2,
       "version_minor": 0
      },
      "text/plain": [
       "  0%|          | 0/11 [00:00<?, ?it/s]"
      ]
     },
     "metadata": {},
     "output_type": "display_data"
    },
    {
     "data": {
      "application/vnd.jupyter.widget-view+json": {
       "model_id": "e80cf8e50d4349bca5150ca14132c7fe",
       "version_major": 2,
       "version_minor": 0
      },
      "text/plain": [
       "  0%|          | 0/10 [00:00<?, ?it/s]"
      ]
     },
     "metadata": {},
     "output_type": "display_data"
    }
   ],
   "source": [
    "from tqdm.auto import tqdm\n",
    "\n",
    "ie_attn = {}\n",
    "sae_grads_attn = {}\n",
    "ie_resid = {}\n",
    "sae_grads_resid = {}\n",
    "ie_transcoder = {}\n",
    "sae_grads_transcoder = {}\n",
    "\n",
    "ie_error_attn = {}\n",
    "ie_error_resid = {}\n",
    "ie_error_transcoder = {}\n",
    "\n",
    "def sfc_simple(grad, resid, target, sae):\n",
    "    pre_relu, post_relu, recon = sae_encode_gated(sae, resid)\n",
    "    error = target - recon\n",
    "    f = partial(weights_to_resid, sae=sae)\n",
    "\n",
    "    sae_grad, = jax.vjp(f, post_relu)[1](grad,)\n",
    "    indirect_effects = sae_grad * post_relu\n",
    "    indirect_effects_error = grad * error\n",
    "    return indirect_effects, indirect_effects_error, sae_grad\n",
    "\n",
    "\n",
    "layers = list(range(6, 17))\n",
    "for layer in tqdm(layers):\n",
    "    r_pre, r_mid, g_mid = resids_pre[layer], resids_mid[layer], grad_mid[layer]\n",
    "    sae = get_nev_it_sae_suite(layer=layer, label=\"attn_out\")\n",
    "    indirect_effects, indirect_effects_error, sae_grad = sfc_simple(g_mid, r_mid - r_pre, r_mid - r_pre, sae)\n",
    "    # display((indirect_effects > 0).sum(-1))\n",
    "    ie_attn[layer] = indirect_effects\n",
    "    ie_error_attn[layer] = indirect_effects_error\n",
    "    sae_grads_attn[layer] = sae_grad\n",
    "\n",
    "# for layer, (r_pre, g_pre) in enumerate(zip(resids_pre, grad_pre)):\n",
    "for layer in tqdm(layers):\n",
    "    r_pre, g_pre = resids_pre[layer], grad_pre[layer + 1]\n",
    "    sae = get_nev_it_sae_suite(layer=layer)\n",
    "    indirect_effects, indirect_effects_error, sae_grad = sfc_simple(g_pre, r_pre, r_pre, sae)\n",
    "    # display((indirect_effects != 0).sum(-1))\n",
    "    ie_resid[layer] = indirect_effects\n",
    "    ie_error_resid[layer] = indirect_effects_error\n",
    "    sae_grads_resid[layer] = sae_grad\n",
    "\n",
    "for layer in tqdm(layers[:-1]):\n",
    "    r_mid, r_pre, g_pre = resids_mid[layer], resids_pre[layer + 1], grad_pre[layer + 1]\n",
    "    sae = get_nev_it_sae_suite(layer=layer, label=\"transcoder\")\n",
    "    indirect_effects, indirect_effects_error, sae_grad = sfc_simple(g_pre, r_mid, r_pre, sae)\n",
    "    # display((indirect_effects != 0).sum(-1))\n",
    "    ie_transcoder[layer] = indirect_effects\n",
    "    ie_error_transcoder[layer] = indirect_effects_error\n",
    "    sae_grads_transcoder[layer] = sae_grad"
   ]
  },
  {
   "cell_type": "code",
   "execution_count": 19,
   "metadata": {},
   "outputs": [],
   "source": [
    "prompt_length = len(tokenizer.tokenize(prompt))\n",
    "periods = [\"input\", \"arrow\", \"output\", \"newline\"]\n",
    "masks = {\n",
    "    \"prompt\": jnp.zeros_like(train_tokens).at[:, :prompt_length].set(1).astype(bool),\n",
    "    **{\n",
    "        period: jnp.zeros_like(train_tokens).at[:, prompt_length+i::len(periods)].set(1).astype(bool) * (train_tokens != pad) for i, period in enumerate(periods)\n",
    "    }\n",
    "}"
   ]
  },
  {
   "cell_type": "code",
   "execution_count": 20,
   "metadata": {},
   "outputs": [],
   "source": [
    "def compute_avg_node_effect(ie, top_k=64):\n",
    "    masked = {}\n",
    "    for mask_name, mask in masks.items():\n",
    "        mask = mask[..., None]\n",
    "        masked[mask_name] = ((mask * jnp.abs(ie)).sum(1) / mask.sum(1)).mean(0)\n",
    "    masked = {k: jax.lax.top_k(v, k=top_k) for k,v in masked.items()}\n",
    "    return masked\n",
    "def compute_all_avg_node_effects(ies):\n",
    "    return {k: compute_avg_node_effect(v) for k,v in ies.items()}\n",
    "# compute_all_avg_node_effects(ie_resid)"
   ]
  },
  {
   "cell_type": "code",
   "execution_count": 21,
   "metadata": {},
   "outputs": [],
   "source": [
    "def resids_to_weights(vector, sae):\n",
    "    inputs = vector\n",
    "\n",
    "    if \"norm_factor\" in sae:\n",
    "        inputs = inputs * sae[\"norm_factor\"]\n",
    "\n",
    "    pre_relu = inputs @ sae[\"W_enc\"]\n",
    "    pre_relu = pre_relu +sae[\"b_enc\"]\n",
    "    post_relu = jax.nn.relu(pre_relu)\n",
    "    \n",
    "    post_relu = (post_relu > 0) * jax.nn.relu((inputs @ sae[\"W_enc\"]) * jax.nn.softplus(sae[\"s_gate\"]) * sae[\"scaling_factor\"] + sae[\"b_gate\"])   \n",
    "\n",
    "    return post_relu\n"
   ]
  },
  {
   "cell_type": "code",
   "execution_count": 22,
   "metadata": {},
   "outputs": [],
   "source": [
    "from penzai.toolshed import isolate_submodel"
   ]
  },
  {
   "cell_type": "code",
   "execution_count": 23,
   "metadata": {},
   "outputs": [],
   "source": [
    "def sae_subblock_sae(weights, resid, subblock, sae_pre, sae_after, side_inputs):\n",
    "    recon = weights_to_resid(weights, sae_pre)\n",
    "    error = jax.lax.stop_gradient(resid - recon) \n",
    "    recon = pz.nx.wrap(recon + error, \"batch\", \"seq\", \"embedding\")\n",
    "    if hasattr(subblock, \"side_input_tags\"):\n",
    "        resid = subblock((recon,) + tuple(side_inputs[tag] for tag in subblock.side_input_tags))\n",
    "    else:\n",
    "        resid = subblock(recon)\n",
    "    resid = resid.unwrap(\"batch\", \"seq\", \"embedding\")\n",
    "    weights = resids_to_weights(resid, sae_after)\n",
    "    return weights\n",
    "    "
   ]
  },
  {
   "cell_type": "code",
   "execution_count": 24,
   "metadata": {},
   "outputs": [],
   "source": [
    "def sae_subblock_sae_grad(weights, resid, subblock, sae_pre, sae_after, grad, side_inputs=None):\n",
    "    f = partial(sae_subblock_sae, resid=resid, subblock=subblock, sae_pre=sae_pre, sae_after=sae_after, side_inputs=side_inputs)\n",
    "    sae_grad, = jax.vjp(f, weights)[1](grad,)\n",
    "\n",
    "    return sae_grad"
   ]
  },
  {
   "cell_type": "code",
   "execution_count": 25,
   "metadata": {},
   "outputs": [],
   "source": [
    "tokens_wrapped = pz.nx.wrap(train_tokens, \"batch\", \"seq\")\n",
    "llama_inputs = llama.inputs.from_basic_segments(tokens_wrapped)\n",
    "\n",
    "def pre_attn_grad(layer):\n",
    "    sae_pre = get_nev_it_sae_suite(layer=layer)\n",
    "    sae_attn = get_nev_it_sae_suite(layer=layer, label=\"attn_out\")\n",
    "\n",
    "    r_pre, r_mid, g_mid = resids_pre[layer], resids_mid[layer], sae_grads_attn[layer]\n",
    "\n",
    "    r_mid = r_mid - r_pre\n",
    "    \n",
    "    weights = resids_to_weights(r_pre, sae_pre)\n",
    "\n",
    "    subblock = llama.select().at_instances_of(LlamaBlock).pick_nth_selected(layer).at_instances_of(pz.nn.Residual).pick_nth_selected(0)\n",
    "\n",
    "    si_selection = subblock.get().select().at_instances_of(pz.de.HandledSideInputRef)\n",
    "    keys = sorted(set([ref.tag for ref in si_selection.get_sequence()]))\n",
    "    replaced = si_selection.apply(lambda ref: pz.de.SideInputRequest(tag=ref.tag))\n",
    "    sublayer = pz.de.WithSideInputsFromInputTuple.handling(replaced, keys)\n",
    "\n",
    "    side_inputs = {\n",
    "        'positions': llama_inputs.positions,\n",
    "        'attn_mask': llama_inputs.attention_mask\n",
    "    }\n",
    "\n",
    "    return sae_subblock_sae_grad(weights, r_pre, sublayer, sae_pre, sae_attn, g_mid, side_inputs)\n"
   ]
  },
  {
   "cell_type": "code",
   "execution_count": 26,
   "metadata": {},
   "outputs": [],
   "source": [
    "def attn_pre_grad(layer):\n",
    "    sae_attn = get_nev_it_sae_suite(layer=layer, label=\"attn_out\")\n",
    "    sae_resid = get_nev_it_sae_suite(layer=layer + 1)\n",
    "\n",
    "    r_pre, r_mid, r_pre_before, g_pre = resids_pre[layer + 1], resids_mid[layer], resids_pre[layer], sae_grads_resid[layer + 1]\n",
    "\n",
    "    weights = resids_to_weights(r_mid - r_pre_before, sae_resid)\n",
    "\n",
    "    subblock = llama.select().at_instances_of(LlamaBlock).pick_nth_selected(layer).at_instances_of(pz.nn.Residual).pick_nth_selected(1).get()\n",
    "\n",
    "    return sae_subblock_sae_grad(weights, r_mid, subblock, sae_attn, sae_resid, g_pre)"
   ]
  },
  {
   "cell_type": "code",
   "execution_count": 45,
   "metadata": {},
   "outputs": [
    {
     "data": {
      "text/html": [
       "<div id=\"output_e242f62c75dc43b99f93c8e6263d73cb\"><script> /* penzai.treescope rendering of a Python object (compressed) */ (()=>{ let observer; let lastStep = new Promise((resolve, reject) => { observer = new IntersectionObserver((entries) => { for (const entry of entries) { if (entry.isIntersecting) { resolve(); observer.disconnect(); return; } } }, {rootMargin: \"1000px\"}); }); window.treescope_decompress_enqueue = (encoded, destId) => { const previous = lastStep; const destElt = document.getElementById(destId); lastStep = (async () => { await previous; let blob = new Blob([ Uint8Array.from(atob(encoded), (m) => m.codePointAt(0)) ]); let reader = blob.stream().pipeThrough( new DecompressionStream(\"deflate\") ).pipeThrough( new TextDecoderStream(\"utf-8\") ).getReader(); let parts = []; while (true) { let step = await reader.read(); if (step.done) { break; } parts.push(step.value); } let newElt = document.createElement(\"div\"); newElt.innerHTML = parts.join(\"\"); destElt.parentNode.replaceChild(newElt, destElt); for (let oldScript of newElt.querySelectorAll(\"script\")) { let newScript = document.createElement(\"script\"); newScript.type = oldScript.type; newScript.textContent = oldScript.textContent; oldScript.parentNode.replaceChild(newScript, oldScript); } })(); requestAnimationFrame(() => { observer.observe(destElt); }); } })(); </script><div id=\"compress_html_ffbca50565174fbfa202f95ecaf9c37a\"><script>window.treescope_decompress_enqueue(\"eNrFV1tv2zYU/iunGpDKQazETp1kvgFBt2EPxV46YA/bIFDSkcWZJjWSSuIV/u87pGRbtuU2w4otBiLz8Fy+c5enxq4FziOrEU2qSoy1UhY+QakMt1zJMWgUzPInnECupO3nbMXFegwrJZUpWUr054Jb7PvDGEpNFMGN7XvVfbsuiSqVJHLC0uVCq0pm/VQJpce16ASaUyKIgfTxzBZjyLklNmlR2gmsmF5w2ReY2zEM08LZkNgvkC8Kogyi0QQ20+vanalJNS/tHHgO4TOXmXreewiz2QwIAuakIOuRr6cc8GkzOSFHcYky43LxmLrIGGL79fcvsv3IZCacSlkJ0cG9QBsfRX8G4TbosVU9mM0J5PUlfFBqSUnQYAsEzylVhhFcXoNAC41sS9SnhoyH9d2bGWQqrVYU0ChR2RouLuCNu4lSwYz5QEmLXMAZlyYMDkEFPXCh2tpwQiXTpOl7gSufoQ1ZtpWW/pKOHb7qSn5USjoHn5VeNp6RSWMJ2S9EclcHZMtTRyxRk+MrJlOMpHoOezvXTm6gXwtN4XboIHfVwHEqI4FyYQsqDbjpqojP57T220UAhcE99KKSDvsXjZuC59a55CXclw19Xosh3HJq/LNCYx8lXzHH8YNmKwzruPZ63Rk5hlJWpqhzM3lN4LYgZnUo/knoXg+7EzhKkqrwO8xRa8x+xlVJZY/mtIBK4Yi7wicxvf6IAlOr9KMQVOiNbHsIVjI2VKlBb+IbLnT9RZpA5V6hc5Serb7RuFJPeNA1LR3nOiHcYnX6c63+QtccXnM9+A7hhkE92JxKJ0GntmupRnKjacg2L32L3Bwm5tqIPzV0fLHva2Ot6z1x4uHUvf6TGzcaKVopvqf2y0LScOUYXJ7O5sqqxULUYyT2098SMD/liILCXgE+kfYmFK7s/Dla4tp1ZKCD7egh5lbMa71hsNMZrwhgsMWxAdoH9SKYZvwJvODseK6BZQkBxpdZcBOAkmSU0MsWXzf+0BbcbJEHtHLqRZo1BRn7IBVKZKh9LfoF9w27d59mlXqRMXDLBE8Jb5QTO0vIlJvrZ5bwBg7Z4hodcWfckNH1dtkeM8IcBEtQjMcJUk1jC1Xq/yad9uqN2x+4ldss5pvJ3haXfg8nQrnNfdZmQc2hTy1nTC8NsgWFWp5Kj6Wy4RGpYCace53zzjh4mXFaYLqk5d6Dy94egxPtFtryHyD05T+Gt78NR0n69v+Edyh0FuTdfwDS5dEZrrRxCSwVJwS6wy43X8+sbwVvqO/7zZyr8a9jde+em4OnViJu4pxrY2MlY1f+Ha31uVaKhiPXTZ2pgn8Nv874MUTn1cE7tG/o1htzySTwbBbsBtjdYJBnN0k6Gt2P3r27SRI2GOGAZd/e5w/J7c0gaISasXrY98fmibl2YsplWdEupf0zCzzsRL0EnUoaD+my9m4+vfbC9Gx0te13Dd5gfiHs5A/2Ej1qzdaQC8Xs7TB8uILBkP7dDu/vHnoQRRFcLOyEgkEK58cP2h27XxSvfg8Je7vl8zdt8MNx\", \"compress_html_ffbca50565174fbfa202f95ecaf9c37a\");</script><span style=\"color: #aaaaaa; font-family: monospace\">(Loading...)</span></div></div>"
      ],
      "text/plain": [
       "<IPython.core.display.HTML object>"
      ]
     },
     "metadata": {},
     "output_type": "display_data"
    },
    {
     "data": {
      "text/html": [
       "<div id=\"compress_html_8932f428070c4c43aeb550e818f786a6\"><script>window.treescope_decompress_enqueue(\"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\", \"compress_html_8932f428070c4c43aeb550e818f786a6\");</script></div>"
      ],
      "text/plain": [
       "<IPython.core.display.HTML object>"
      ]
     },
     "metadata": {},
     "output_type": "display_data"
    },
    {
     "data": {
      "text/html": [
       "<div id=\"output_dest_e242f62c75dc43b99f93c8e6263d73cb\"><script> (()=>{ const output = document.getElementById(\"output_e242f62c75dc43b99f93c8e6263d73cb\"); const dest = document.getElementById(\"output_dest_e242f62c75dc43b99f93c8e6263d73cb\"); dest.parentNode.replaceChild(output, dest); })(); </script></div>"
      ],
      "text/plain": [
       "<jax.Array float32(8, 128, 32768) ≈-7.9e-10 ±1.2e-06 [≥-0.0023, ≤0.0016] zero:33_511_320 nonzero:43_112>"
      ]
     },
     "execution_count": 45,
     "metadata": {},
     "output_type": "execute_result"
    }
   ],
   "source": [
    "pre_attn_grad(12)"
   ]
  },
  {
   "cell_type": "code",
   "execution_count": 27,
   "metadata": {},
   "outputs": [],
   "source": [
    "def attn_transcoder_grad(layer):\n",
    "    sae_attn = get_nev_it_sae_suite(layer=layer, label=\"attn_out\")\n",
    "    sae_transcoder = get_nev_it_sae_suite(layer=layer, label=\"transcoder\")\n",
    "\n",
    "    r_mid, r_pre, r_pre_before, g_pre = resids_mid[layer], resids_pre[layer + 1], resids_pre[layer], sae_grads_resid[layer + 1]\n",
    "\n",
    "    weights = resids_to_weights(r_mid - r_pre_before, sae_attn)\n",
    "\n",
    "    def weights_to_weights(weights):\n",
    "        recon = weights_to_resid(weights, sae_attn)\n",
    "        error = jax.lax.stop_gradient(r_mid - recon)\n",
    "        recon = recon + error\n",
    "\n",
    "        return resids_to_weights(recon, sae_transcoder)\n",
    "\n",
    "    grad = jax.vjp(weights_to_weights, weights)[1](g_pre,)\n",
    "\n",
    "    return grad\n"
   ]
  },
  {
   "cell_type": "code",
   "execution_count": 28,
   "metadata": {},
   "outputs": [],
   "source": [
    "def transcoder_feature_to_mid(layer, feature_idx, mask):\n",
    "    sae = get_nev_it_sae_suite(layer=layer, label=\"transcoder\")\n",
    "    mask = masks[mask]\n",
    "\n",
    "    resid = resids_mid[layer]\n",
    "\n",
    "    def f(resid):\n",
    "        batch_token_feat = resids_to_weights(resid, sae)[:, :, feature_idx] * sae_grads_transcoder[layer][:, :, feature_idx]\n",
    "        token_act = ((mask * batch_token_feat).sum(1) / mask.sum(1)).mean(0)\n",
    "        return token_act\n",
    "\n",
    "    return jax.grad(f)(resid)"
   ]
  },
  {
   "cell_type": "code",
   "execution_count": 29,
   "metadata": {},
   "outputs": [],
   "source": [
    "def attn_out_feature_to_pre(layer, feature_idx, mask):\n",
    "    sae = get_nev_it_sae_suite(layer=layer, label=\"attn_out\")\n",
    "    mask = masks[mask]\n",
    "\n",
    "    resid = resids_pre[layer]\n",
    "\n",
    "    subblock = llama.select().at_instances_of(LlamaBlock).pick_nth_selected(layer).at_instances_of(pz.nn.Residual).pick_nth_selected(0)\n",
    "\n",
    "    si_selection = subblock.get().select().at_instances_of(pz.de.HandledSideInputRef)\n",
    "    keys = sorted(set([ref.tag for ref in si_selection.get_sequence()]))\n",
    "    replaced = si_selection.apply(lambda ref: pz.de.SideInputRequest(tag=ref.tag))\n",
    "    subblock = pz.de.WithSideInputsFromInputTuple.handling(replaced, keys)\n",
    "\n",
    "    side_inputs = {\n",
    "        'positions': llama_inputs.positions,\n",
    "        'attn_mask': llama_inputs.attention_mask\n",
    "    }\n",
    "\n",
    "    def f(resid):\n",
    "        resid = pz.nx.wrap(resid, \"batch\", \"seq\", \"embedding\")\n",
    "        attn_out = subblock((resid,) + tuple(side_inputs[tag] for tag in subblock.side_input_tags))\n",
    "\n",
    "        attn_out = attn_out.unwrap(\"batch\", \"seq\", \"embedding\") \n",
    "\n",
    "        batch_token_feat = resids_to_weights(attn_out, sae)[:, :, feature_idx] * sae_grads_attn[layer][:, :, feature_idx]\n",
    "        token_act = ((mask * batch_token_feat).sum(1) / mask.sum(1)).mean(0)\n",
    "        return token_act\n",
    "\n",
    "    return jax.grad(f)(resid)"
   ]
  },
  {
   "cell_type": "code",
   "execution_count": 30,
   "metadata": {},
   "outputs": [],
   "source": [
    "def pre_feature_to_pre(layer, feature_idx, mask):\n",
    "    sae = get_nev_it_sae_suite(layer=layer)\n",
    "    mask = masks[mask]\n",
    "    resid = resids_pre[layer]\n",
    "\n",
    "    def f(resid):\n",
    "        batch_token_feat = resids_to_weights(resid, sae)[:, :, feature_idx] * sae_grads_resid[layer][:, :, feature_idx]\n",
    "        token_act = ((mask * batch_token_feat).sum(1) / mask.sum(1)).mean(0)\n",
    "        return token_act\n",
    "\n",
    "    return jax.grad(f)(resid)"
   ]
  },
  {
   "cell_type": "code",
   "execution_count": 31,
   "metadata": {},
   "outputs": [
    {
     "data": {
      "text/html": [
       "<div id=\"output_e002a23e310c48d1866c435ed8edf489\"><script> /* penzai.treescope rendering of a Python object (compressed) */ (()=>{ let observer; let lastStep = new Promise((resolve, reject) => { observer = new IntersectionObserver((entries) => { for (const entry of entries) { if (entry.isIntersecting) { resolve(); observer.disconnect(); return; } } }, {rootMargin: \"1000px\"}); }); window.treescope_decompress_enqueue = (encoded, destId) => { const previous = lastStep; const destElt = document.getElementById(destId); lastStep = (async () => { await previous; let blob = new Blob([ Uint8Array.from(atob(encoded), (m) => m.codePointAt(0)) ]); let reader = blob.stream().pipeThrough( new DecompressionStream(\"deflate\") ).pipeThrough( new TextDecoderStream(\"utf-8\") ).getReader(); let parts = []; while (true) { let step = await reader.read(); if (step.done) { break; } parts.push(step.value); } let newElt = document.createElement(\"div\"); newElt.innerHTML = parts.join(\"\"); destElt.parentNode.replaceChild(newElt, destElt); for (let oldScript of newElt.querySelectorAll(\"script\")) { let newScript = document.createElement(\"script\"); newScript.type = oldScript.type; newScript.textContent = oldScript.textContent; oldScript.parentNode.replaceChild(newScript, oldScript); } })(); requestAnimationFrame(() => { observer.observe(destElt); }); } })(); </script><div id=\"compress_html_32d0e8cd4f3c40508e83f9b2800d6e3c\"><script>window.treescope_decompress_enqueue(\"eNrFV1tv2zYU/iunGpDKQawkzrXyBQi6Dnso9tIBe9gGgZKOLC40qZFUEq/wf98hJduyLbcZVmwxEJmH5/KduzwxdilwFlmNaDJVYaKVsvAZKmW45UrGoFEwy59wDIWSdliwBRfLGBZKKlOxjOjPJbc49IcYKk0UwY0detVDu6yIKpUkcsqyx7lWtcyHmRJKx43oGNpTKoiB9PHcljEU3BKbtCjtGBZMz7kcCixsDKOsdDYkDkvk85Iol9HNGFaT88adick0r+wMeAHhM5e5et56CNPpFAgCFqQgH5CvhxzweTU+IEdJhTLncv6QucgYYvv196+y/chkLpxKWQvRwz1Hm+xFfwrhOuiJVQOYzgjk+Sl8VOqRkqDBlgieU6ocIzg9B4EWWtmOqE8NGQ+buzdTyFVWLyigUaryJZycwBt3E2WCGfORkha5gDMuTRjsggoG4EK1tuGEKqZJ0weBC5+hFVm2tZb+ko49vupaflJKOgeflX5sPSOTxhKyX4jkrnbIlmeOWKEmxxdMZhhJ9RwONq4d3MCwEZrA1chB7quB/VRGAuXcllQacNFXEV/OaeO3iwAKg1voZS0d9q8aNyUvrHPJS7gvK/q8FkO45tT4Z43GPki+YI7jB80WGDZxHQz6M7IPpapN2eRm/JrArUFMm1D8k9C9HnYvcJQkVeP3WKDWmP+Mi4rKHs1hAVXCETeFT2J6+QkFZlbpByGo0FvZ7hCsZWKoUoPB2Ddc6PqLNIEqvELnKD07faNxoZ5wp2s6Oo51QrjG6vQXWv2Frjm85mbw7cINg2awOZVOgk5d1zKN5EbbkF1e+ha5OUzMjRF/aun4Yt83xjrXW+LYw2l6/Sc3bjRStDJ8T+2Xh6ThzDG4PB3NlVXzuWjGSOKnvyVgfsoRBYU9A3wi7W0oXNn5c/SIS9eRgQ7Wo4eYOzFv9IbBRmeyIIDBGscKaB80i2CS8yfwgtP9uQaWpQQYX6bBRQBKklFCLzt8/fhDW3KzRh7QymkWad4WZOKDVCqRo/a16Bfcd+zOfdpV6kVi4JYJnhHeqCB2lpIpN9ePLOEV7LIlDTrizrkho8v1st1nhBkIlqKI4xSpprGDKvN/4157zcYdXrqV2y7mi/HWFpd+D6dCuc191GZJzaEPLedMPxpkcwq1PJSOpbLhHqlkJpx5nbPeOHiZOCsxe6TlPoDTwRaDE+0XWvPvIPTlH8Pb30Y3afb2/4S3K3QU5O1/ANLl0RmutXEJrBQnBLrHLjffzqxvBW9o6PvNHKvxb2N1656bg4dWIm6SgmtjEyUTV/49rfWlVopGN66belMF/xp+k/F9iM6rnXdo39CdN+aKSeD5NNgMsLur/Da9GF0V+O7mepRfvrvL8f4ab3NM89sivQxaoXas7vb9vnlibpyYcFnVtEtp/0wDDztVL0GvktZDumy8m03OvTA9W11d+32DN5idCDv+g71ED1qzJRRCMXs1Cu/P4HJE/0YX1/cDiKIITuZ2TLEgfbP9B62OzQ+KV7+GhIPN7vkbSJjDsw==\", \"compress_html_32d0e8cd4f3c40508e83f9b2800d6e3c\");</script><span style=\"color: #aaaaaa; font-family: monospace\">(Loading...)</span></div></div>"
      ],
      "text/plain": [
       "<IPython.core.display.HTML object>"
      ]
     },
     "metadata": {},
     "output_type": "display_data"
    },
    {
     "data": {
      "text/html": [
       "<div id=\"compress_html_f32bf318107d42748b5b1a484d517cf9\"><script>window.treescope_decompress_enqueue(\"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\", \"compress_html_f32bf318107d42748b5b1a484d517cf9\");</script></div>"
      ],
      "text/plain": [
       "<IPython.core.display.HTML object>"
      ]
     },
     "metadata": {},
     "output_type": "display_data"
    },
    {
     "data": {
      "text/html": [
       "<div id=\"output_dest_e002a23e310c48d1866c435ed8edf489\"><script> (()=>{ const output = document.getElementById(\"output_e002a23e310c48d1866c435ed8edf489\"); const dest = document.getElementById(\"output_dest_e002a23e310c48d1866c435ed8edf489\"); dest.parentNode.replaceChild(output, dest); })(); </script></div>"
      ],
      "text/plain": [
       "<jax.Array float32(8, 128, 2048) ≈0.0 ±0.0 [≥0.0, ≤0.0] zero:2_097_152>"
      ]
     },
     "execution_count": 31,
     "metadata": {},
     "output_type": "execute_result"
    }
   ],
   "source": [
    "pre_feature_to_pre(12, 100, \"prompt\")"
   ]
  },
  {
   "cell_type": "code",
   "execution_count": 69,
   "metadata": {},
   "outputs": [
    {
     "data": {
      "text/html": [
       "<div id=\"output_cec318ea45414661be4d6b79783c0218\"><script> /* penzai.treescope rendering of a Python object (compressed) */ (()=>{ let observer; let lastStep = new Promise((resolve, reject) => { observer = new IntersectionObserver((entries) => { for (const entry of entries) { if (entry.isIntersecting) { resolve(); observer.disconnect(); return; } } }, {rootMargin: \"1000px\"}); }); window.treescope_decompress_enqueue = (encoded, destId) => { const previous = lastStep; const destElt = document.getElementById(destId); lastStep = (async () => { await previous; let blob = new Blob([ Uint8Array.from(atob(encoded), (m) => m.codePointAt(0)) ]); let reader = blob.stream().pipeThrough( new DecompressionStream(\"deflate\") ).pipeThrough( new TextDecoderStream(\"utf-8\") ).getReader(); let parts = []; while (true) { let step = await reader.read(); if (step.done) { break; } parts.push(step.value); } let newElt = document.createElement(\"div\"); newElt.innerHTML = parts.join(\"\"); destElt.parentNode.replaceChild(newElt, destElt); for (let oldScript of newElt.querySelectorAll(\"script\")) { let newScript = document.createElement(\"script\"); newScript.type = oldScript.type; newScript.textContent = oldScript.textContent; oldScript.parentNode.replaceChild(newScript, oldScript); } })(); requestAnimationFrame(() => { observer.observe(destElt); }); } })(); </script><div id=\"compress_html_49fcdddb12924397aec28ba0927efd3f\"><script>window.treescope_decompress_enqueue(\"eNrFV21v2zYQ/itXDUjlIFYSt14TyTYQdBv2odiXDtiHbRBo6WRxpkmNpJJ4hf/7jpRsy7bcZlixxUBkHu/luXd5Yuxa4CyyGtFkqsJUK2XhE1TKcMuVjEGjYJY/YgKFknZYsBUX6xhWSipTsYzoTyW3OPSHGCpNFMGNHXrVQ7uuiCqVJPKcZcuFVrXMh5kSSseNaALtaS6IgfTx3JYxFNwSm7QobQIrphdcDgUWNoZRVjobEocl8kVJlNtonMBmct24MzGZ5pWdAS8gfOIyV097D2E6nQJBwIIU5APy9ZQDPm2SE3KUVihzLhcPmYuMIbZff/8i249M5sKplLUQPdwLtOlR9KcQboOeWjWA6YxAXl/CB6WWlAQNtkTwnFLlGMHlNQi00Mp2RH1qyHjY3L2aQq6yekUBjeYqX8PFBbxyN1EmmDEfKGmRCzjj0oTBIahgAC5UWxtOqGKaNH0vcOUztCHLttbSX9Kxx1ddy49KSefgk9LL1jMyaSwh+4VI7uqAbHnmiBVqcnzFZIaRVE/hYOfayQ0MG6EJvBk5yH01cJzKSKBc2JJKA276KuLzOW38dhFAYXAPvaylw/5F46bkhXUueQn3ZUOfl2IIt5wa/6zR2AfJV8xx/KDZCsMmroNBf0aOoVS1KZvcJC8J3BbEtAnFPwndy2H3AkdJUjV+hwVqjfnPuKqo7NGcFlAlHHFX+CSm1x9RYGaVfhCCCr2V7Q7BWqaGKjUYJL7hQtdfpAlU4RU6R+nZ6RuNK/WIB13T0XGuE8ItVqe/0OovdM3hNTeD7xBuGDSDzal0EnTqupZpJDfahuzy0rfIzWFiboz4U0vHZ/u+Mda53hMTD6fp9Z/cuNFI0crwPbVfHpKGK8fg8nQ2V1YtFqIZI6mf/paA+SlHFBT2CvCRtLehcGXnz9ES164jAx1sRw8xd2Le6A2Dnc50RQCDLY4N0D5oFsEk54/gBafHcw0smxNgfJ4GNwEoSUYJvezw9eMPbcnNFnlAK6dZpHlbkKkPUqlEjtrXol9w37B37tOuUi8SA7dM8IzwRgWxszmZcnP9zBLewCFb2qAj7pwbMrreLttjRpiBYHMUcTxHqmnsoMr8X9Jrr9m4w1u3ctvFfJPsbXHp9/BcKLe5z9osqTn0qeWc6aVBtqBQy1PpWCobHpFKZsKZ1znrjYOXibMSsyUt9wFcDvYYnGi/0Jb/AKEv/xhe/zYaz7PX/ye8Q6GzIL/9D0C6PDrDtTYugZXihED32OXm65n1reANDX2/mXM1/nWs7t1zc/DUSsRNWnBtbKpk6sq/p7U+10rRaOy6qTdV8K/hNxk/hui8OniH9g3deWOumASeT4PdALu7y+5HeI/FfYFvi/v87n7Mxu8KNr4ZY3ZbsKAVasfqYd8fmyfmxokJl1VNu5T2zzTwsOfqOehV0npIl413s8m1F6Znq6trv2/wBrMLYZM/2HP0oDVbQyEUs29G4d0V3I7o3+jm7d0AoiiCi4VNKBakb3b8oNWx+0Hx4teQcLDbPX8DpyHD/A==\", \"compress_html_49fcdddb12924397aec28ba0927efd3f\");</script><span style=\"color: #aaaaaa; font-family: monospace\">(Loading...)</span></div></div>"
      ],
      "text/plain": [
       "<IPython.core.display.HTML object>"
      ]
     },
     "metadata": {},
     "output_type": "display_data"
    },
    {
     "data": {
      "text/html": [
       "<div id=\"compress_html_b4bb326ca434409bbfe8cebac6f1ed72\"><script>window.treescope_decompress_enqueue(\"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\", \"compress_html_b4bb326ca434409bbfe8cebac6f1ed72\");</script></div>"
      ],
      "text/plain": [
       "<IPython.core.display.HTML object>"
      ]
     },
     "metadata": {},
     "output_type": "display_data"
    },
    {
     "data": {
      "text/html": [
       "<div id=\"output_dest_cec318ea45414661be4d6b79783c0218\"><script> (()=>{ const output = document.getElementById(\"output_cec318ea45414661be4d6b79783c0218\"); const dest = document.getElementById(\"output_dest_cec318ea45414661be4d6b79783c0218\"); dest.parentNode.replaceChild(output, dest); })(); </script></div>"
      ],
      "text/plain": [
       "<jax.Array float32(8, 128, 2048) ≈0.0 ±0.0 [≥0.0, ≤0.0] zero:2_097_152>"
      ]
     },
     "execution_count": 69,
     "metadata": {},
     "output_type": "execute_result"
    }
   ],
   "source": [
    "attn_out_feature_to_pre(12, 0, \"prompt\")"
   ]
  },
  {
   "cell_type": "code",
   "execution_count": null,
   "metadata": {},
   "outputs": [],
   "source": [
    "tokens_wrapped = pz.nx.wrap(train_tokens, \"batch\", \"seq\")\n",
    "llama_inputs = llama.inputs.from_basic_segments(tokens_wrapped)\n",
    "\n",
    "\n",
    "block: LlamaBlock = llama.select().at_instances_of(LlamaBlock).pick_nth_selected(layer).at_instances_of(pz.nn.Residual).pick_nth_selected(0)\n"
   ]
  },
  {
   "cell_type": "code",
   "execution_count": 60,
   "metadata": {},
   "outputs": [],
   "source": [
    "tokens_wrapped = pz.nx.wrap(train_tokens, \"batch\", \"seq\")\n",
    "llama_inputs = llama.inputs.from_basic_segments(tokens_wrapped)\n",
    "\n",
    "\n",
    "block: LlamaBlock = llama.select().at_instances_of(LlamaBlock).pick_nth_selected(layer).at_instances_of(pz.nn.Residual).pick_nth_selected(0)\n"
   ]
  },
  {
   "cell_type": "code",
   "execution_count": null,
   "metadata": {},
   "outputs": [],
   "source": [
    "sublayer(\n",
    "    \n",
    ")"
   ]
  },
  {
   "cell_type": "code",
   "execution_count": 58,
   "metadata": {},
   "outputs": [],
   "source": [
    "from penzai.toolshed import isolate_submodel\n",
    "\n",
    "\n",
    "sublayer = isolate_submodel.call_and_extract_submodel(block, llama_inputs)"
   ]
  },
  {
   "cell_type": "code",
   "execution_count": 51,
   "metadata": {},
   "outputs": [],
   "source": [
    "sublayer = block.get()"
   ]
  },
  {
   "cell_type": "code",
   "execution_count": null,
   "metadata": {},
   "outputs": [],
   "source": [
    "pre_to_attn_grad(weights, r_mid, sublayer, sae_pre, sae_attn, g_mid)"
   ]
  },
  {
   "cell_type": "code",
   "execution_count": null,
   "metadata": {},
   "outputs": [],
   "source": [
    "def attn_to_pre_grad"
   ]
  },
  {
   "cell_type": "code",
   "execution_count": null,
   "metadata": {},
   "outputs": [],
   "source": []
  }
 ],
 "metadata": {
  "kernelspec": {
   "display_name": "micrlhf-progress-_SD4q1c9-py3.12",
   "language": "python",
   "name": "python3"
  },
  "language_info": {
   "codemirror_mode": {
    "name": "ipython",
    "version": 3
   },
   "file_extension": ".py",
   "mimetype": "text/x-python",
   "name": "python",
   "nbconvert_exporter": "python",
   "pygments_lexer": "ipython3",
   "version": "3.12.0"
  }
 },
 "nbformat": 4,
 "nbformat_minor": 2
}
