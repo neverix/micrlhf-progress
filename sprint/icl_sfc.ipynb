{
 "cells": [
  {
   "cell_type": "code",
   "execution_count": 1,
   "metadata": {},
   "outputs": [],
   "source": [
    "import os\n",
    "if \"models\" not in os.listdir(\".\"):\n",
    "    os.chdir(\"../..\")"
   ]
  },
  {
   "cell_type": "code",
   "execution_count": 2,
   "metadata": {},
   "outputs": [],
   "source": [
    "%load_ext autoreload\n",
    "%autoreload 2\n",
    "import penzai\n",
    "import jax_smi\n",
    "jax_smi.initialise_tracking()\n",
    "from penzai import pz\n",
    "pz.ts.register_as_default()\n",
    "pz.ts.register_autovisualize_magic()\n",
    "pz.enable_interactive_context()"
   ]
  },
  {
   "cell_type": "code",
   "execution_count": 3,
   "metadata": {},
   "outputs": [],
   "source": [
    "from micrlhf.llama import LlamaTransformer\n",
    "llama = LlamaTransformer.from_pretrained(\"models/gemma-2b-it.gguf\", from_type=\"gemma\", load_eager=True, device_map=\"tpu:0\")"
   ]
  },
  {
   "cell_type": "code",
   "execution_count": 4,
   "metadata": {},
   "outputs": [],
   "source": [
    "from transformers import AutoTokenizer\n",
    "tokenizer = AutoTokenizer.from_pretrained(\"alpindale/gemma-2b\")\n",
    "tokenizer.padding_side = \"right\""
   ]
  },
  {
   "cell_type": "code",
   "execution_count": 5,
   "metadata": {},
   "outputs": [],
   "source": [
    "from sprint.task_vector_utils import load_tasks, ICLRunner\n",
    "tasks = load_tasks()"
   ]
  },
  {
   "cell_type": "code",
   "execution_count": 6,
   "metadata": {},
   "outputs": [
    {
     "name": "stdout",
     "output_type": "stream",
     "text": [
      "763\n",
      "346\n"
     ]
    }
   ],
   "source": [
    "def check_if_single_token(token):\n",
    "    return len(tokenizer.tokenize(token)) == 1\n",
    "\n",
    "task_name = \"es_en\"\n",
    "\n",
    "task = tasks[task_name]\n",
    "\n",
    "print(len(task))\n",
    "\n",
    "task = {\n",
    "    k:v for k,v in task.items() if check_if_single_token(k) and check_if_single_token(v)\n",
    "}\n",
    "\n",
    "print(len(task))\n",
    "\n",
    "pairs = list(task.items())"
   ]
  },
  {
   "cell_type": "code",
   "execution_count": 35,
   "metadata": {},
   "outputs": [],
   "source": [
    "import jax\n",
    "\n",
    "def logprob_loss(logits, tokens, sep=1599, pad_token=32000, n_first=None, shift=None, use_softmax=False):\n",
    "    if use_softmax:\n",
    "        logits = jax.nn.log_softmax(logits)\n",
    "    \n",
    "    logits = logits[:, :-1]\n",
    "\n",
    "    # print(\n",
    "    #     logits.argmax(axis=-1)\n",
    "    # )\n",
    "\n",
    "    logits = jnp.take_along_axis(logits, tokens[:, 1:, None], axis=-1).squeeze(-1)\n",
    "\n",
    "    mask = tokens[:, 1:] == sep\n",
    "    mask = jnp.cumsum(mask[:, ::-1], axis=-1)[:, ::-1] > 0\n",
    "    mask = jnp.logical_not(mask)\n",
    "\n",
    "    if shift is not None:\n",
    "        rolled_mask = jnp.roll(mask, shift, axis=-1)\n",
    "        mask = jnp.logical_and(mask, rolled_mask)\n",
    "\n",
    "    # print(mask[:, -5:])\n",
    "    \n",
    "    if n_first is not None:\n",
    "        rolled_mask = jnp.roll(mask, n_first, axis=-1)\n",
    "        mask = jnp.logical_and(mask, jnp.logical_not(rolled_mask))\n",
    "\n",
    "    mask = jnp.logical_and(mask, tokens[:, 1:] != pad_token)\n",
    "\n",
    "    logits = logits * mask\n",
    "\n",
    "    return logits.sum(axis=-1).mean(axis=-1)"
   ]
  },
  {
   "cell_type": "code",
   "execution_count": 36,
   "metadata": {},
   "outputs": [],
   "source": [
    "from functools import partial\n",
    "\n",
    "sep = 3978\n",
    "pad = 0\n",
    "\n",
    "def metric_fn(logits, resids, tokens, use_softmax=False):\n",
    "    return logprob_loss(logits, tokens, sep=sep, pad_token=pad, n_first=2, use_softmax=use_softmax)"
   ]
  },
  {
   "cell_type": "code",
   "execution_count": 9,
   "metadata": {},
   "outputs": [],
   "source": [
    "from micrlhf.llama import LlamaBlock, LlamaAttention\n",
    "from micrlhf.utils.activation_manipulation import ActivationAddition, wrap_vector\n",
    "from functools import partial\n",
    "import jax.numpy as jnp\n",
    "from penzai import pz\n",
    "import jax\n",
    "\n",
    "@partial(jax.jit, static_argnames=(\"metric\", \"batched\"))\n",
    "def run_with_add(additions_pre, additions_mid, tokens, metric, batched=False, llama=None):\n",
    "    get_resids = llama.select().at_instances_of(LlamaBlock).apply_with_selected_index(lambda i, x:\n",
    "        pz.nn.Sequential([\n",
    "            pz.de.TellIntermediate.from_config(tag=f\"resid_pre_{i}\"),\n",
    "            x\n",
    "        ])\n",
    "    )\n",
    "    get_resids = get_resids.select().at_instances_of(LlamaBlock).apply_with_selected_index(lambda l, b: b.select().at_instances_of(pz.nn.Residual).apply_with_selected_index(lambda i, x: x if i == 0 else pz.nn.Sequential([\n",
    "        pz.de.TellIntermediate.from_config(tag=f\"resid_mid_{l}\"),\n",
    "        x,\n",
    "    ])))\n",
    "\n",
    "\n",
    "    get_resids = get_resids.select().at_instances_of(LlamaAttention).apply_with_selected_index(lambda i, x: x.select().at_instances_of(pz.nn.Softmax).apply(lambda b: pz.nn.Sequential([\n",
    "        b,\n",
    "        pz.de.TellIntermediate.from_config(tag=f\"attn_{i}\"),\n",
    "    ])))\n",
    "\n",
    "    get_resids = pz.de.CollectingSideOutputs.handling(get_resids, tag_predicate=lambda x: True)\n",
    "    make_additions = get_resids.select().at_instances_of(LlamaBlock).apply_with_selected_index(lambda i, x:\n",
    "        pz.nn.Sequential([\n",
    "            ActivationAddition(pz.nx.wrap(additions_pre[i], *((\"batch\",) if batched else ()), \"seq\", \"embedding\"), \"all\"),\n",
    "            x\n",
    "        ])\n",
    "    )\n",
    "    make_additions = make_additions.select().at_instances_of(LlamaBlock).apply_with_selected_index(lambda l, b: b.select().at_instances_of(pz.nn.Residual).apply_with_selected_index(lambda i, x: x if i == 0 else pz.nn.Sequential([\n",
    "        ActivationAddition(pz.nx.wrap(additions_mid[l], *((\"batch\",) if batched else ()), \"seq\", \"embedding\"), \"all\"),\n",
    "        x,\n",
    "    ])))\n",
    "    tokens_wrapped = pz.nx.wrap(tokens, \"batch\", \"seq\")\n",
    "    logits, resids = make_additions(llama.inputs.from_basic_segments(tokens_wrapped))\n",
    "    return metric(logits.unwrap(\"batch\", \"seq\", \"vocabulary\"), resids, tokens), (logits, resids[::3], resids[1::3], resids[2::3])\n",
    "\n",
    "\n",
    "@partial(jax.jit, static_argnames=(\"metric\",))\n",
    "def get_metric_resid_grad(tokens, llama=llama, metric=metric_fn):\n",
    "    additions = [jnp.zeros(tokens.shape + (llama.config.hidden_size,)) for _ in range(llama.config.num_layers)]\n",
    "    batched = tokens.ndim > 1\n",
    "    (metric, (logits, resids_pre, qk, resids_mid)), (grad_pre, grad_mid) = jax.value_and_grad(run_with_add, argnums=(0, 1), has_aux=True)(additions, additions, tokens, metric, batched=batched, llama=llama)\n",
    "    return (\n",
    "        metric,\n",
    "        [r.value.unwrap(\"batch\", \"seq\", \"embedding\") for r in resids_pre],\n",
    "        [r.value.unwrap(\"batch\", \"seq\", \"embedding\") for r in resids_mid],\n",
    "        [r.value.unwrap(\"batch\", \"kv_heads\", \"q_rep\", \"seq\", \"kv_seq\") for r in qk],\n",
    "        grad_pre,\n",
    "        grad_mid\n",
    "    )\n"
   ]
  },
  {
   "cell_type": "code",
   "execution_count": 10,
   "metadata": {},
   "outputs": [],
   "source": [
    "batch_size = 8 \n",
    "n_shot=20\n",
    "max_seq_len = 128\n",
    "seed = 10"
   ]
  },
  {
   "cell_type": "code",
   "execution_count": 11,
   "metadata": {},
   "outputs": [],
   "source": [
    "prompt = \"Follow the pattern:\\n{}\""
   ]
  },
  {
   "cell_type": "code",
   "execution_count": 12,
   "metadata": {},
   "outputs": [],
   "source": [
    "runner = ICLRunner(task_name, pairs, batch_size=batch_size, n_shot=n_shot, max_seq_len=max_seq_len, seed=seed, prompt=prompt)"
   ]
  },
  {
   "cell_type": "code",
   "execution_count": 13,
   "metadata": {},
   "outputs": [],
   "source": [
    "from sprint.task_vector_utils import tokenized_to_inputs\n",
    "\n",
    "train_tokens = runner.get_tokens(\n",
    "    runner.train_pairs, tokenizer\n",
    ")[\"input_ids\"]"
   ]
  },
  {
   "cell_type": "code",
   "execution_count": 14,
   "metadata": {},
   "outputs": [],
   "source": [
    "metric_value, resids_pre, resids_mid, qk, grad_pre, grad_mid = get_metric_resid_grad(train_tokens, llama=llama)"
   ]
  },
  {
   "cell_type": "code",
   "execution_count": 15,
   "metadata": {},
   "outputs": [],
   "source": [
    "get_rms_block = lambda layer, resid_index: (\n",
    "    llama.select()\n",
    "    .at_instances_of(LlamaBlock).pick_nth_selected(layer)\n",
    "    .at_instances_of(pz.nn.Residual).pick_nth_selected(resid_index)\n",
    "    .at_instances_of(pz.nn.RMSLayerNorm).pick_nth_selected(0)\n",
    "    ).get()"
   ]
  },
  {
   "cell_type": "code",
   "execution_count": 16,
   "metadata": {},
   "outputs": [],
   "source": [
    "mlp_rms = [get_rms_block(layer, 1) for layer in range(llama.config.num_layers)]"
   ]
  },
  {
   "cell_type": "code",
   "execution_count": 17,
   "metadata": {},
   "outputs": [],
   "source": [
    "from micrlhf.utils.load_sae import get_nev_it_sae_suite"
   ]
  },
  {
   "cell_type": "code",
   "execution_count": 18,
   "metadata": {},
   "outputs": [],
   "source": [
    "from micrlhf.utils.load_sae import weights_to_resid, resids_to_weights"
   ]
  },
  {
   "cell_type": "code",
   "execution_count": 19,
   "metadata": {},
   "outputs": [],
   "source": [
    "from micrlhf.utils.load_sae import sae_encode_gated"
   ]
  },
  {
   "cell_type": "code",
   "execution_count": 20,
   "metadata": {},
   "outputs": [],
   "source": [
    "def mlp_normalize(layer, resid_mid):\n",
    "    # return resid_mid / resids_mid_norms[layer] * mlp_rms_weights[layer]\n",
    "    # return resid_mid / jnp.linalg.norm(resid_mid, axis=-1, keepdims=True) * mlp_rms_weights[layer]\n",
    "    return mlp_rms[layer](pz.nx.wrap(resid_mid, \"batch\", \"seq\", \"embedding\")).unwrap(\"batch\", \"seq\", \"embedding\")"
   ]
  },
  {
   "cell_type": "code",
   "execution_count": 21,
   "metadata": {},
   "outputs": [
    {
     "data": {
      "application/vnd.jupyter.widget-view+json": {
       "model_id": "0b1b2aa3b5054448b5f5fc33804b270d",
       "version_major": 2,
       "version_minor": 0
      },
      "text/plain": [
       "  0%|          | 0/11 [00:00<?, ?it/s]"
      ]
     },
     "metadata": {},
     "output_type": "display_data"
    },
    {
     "data": {
      "application/vnd.jupyter.widget-view+json": {
       "model_id": "a1adb35259514cb5b024a29e422dcb21",
       "version_major": 2,
       "version_minor": 0
      },
      "text/plain": [
       "  0%|          | 0/11 [00:00<?, ?it/s]"
      ]
     },
     "metadata": {},
     "output_type": "display_data"
    },
    {
     "data": {
      "application/vnd.jupyter.widget-view+json": {
       "model_id": "2334397d076d4b20bd005d07725fb621",
       "version_major": 2,
       "version_minor": 0
      },
      "text/plain": [
       "  0%|          | 0/10 [00:00<?, ?it/s]"
      ]
     },
     "metadata": {},
     "output_type": "display_data"
    }
   ],
   "source": [
    "from tqdm.auto import tqdm\n",
    "\n",
    "ie_attn = {}\n",
    "sae_grads_attn = {}\n",
    "ie_resid = {}\n",
    "sae_grads_resid = {}\n",
    "ie_transcoder = {}\n",
    "sae_grads_transcoder = {}\n",
    "\n",
    "ie_error_attn = {}\n",
    "ie_error_resid = {}\n",
    "ie_error_transcoder = {}\n",
    "\n",
    "sae_error_attn = {}\n",
    "sae_error_resid = {}\n",
    "sae_error_transcoder = {}\n",
    "\n",
    "def sfc_simple(grad, resid, target, sae):\n",
    "    pre_relu, post_relu, recon = sae_encode_gated(sae, resid)\n",
    "\n",
    "    post_relu = post_relu.astype(jnp.float32)\n",
    "    error = target - recon\n",
    "    f = partial(weights_to_resid, sae=sae)\n",
    "\n",
    "    sae_grad, = jax.vjp(f, post_relu)[1](grad,)\n",
    "    indirect_effects = sae_grad * post_relu\n",
    "    indirect_effects_error = jnp.einsum(\"...f, ...f -> ...\", grad, error)\n",
    "    return indirect_effects, indirect_effects_error, sae_grad, error\n",
    "\n",
    "\n",
    "layers = list(range(6, 17))\n",
    "for l in tqdm(layers):\n",
    "    r_pre, r_mid, g_mid = resids_pre[l], resids_mid[l], grad_mid[l]\n",
    "    sae = get_nev_it_sae_suite(layer=l, label=\"attn_out\")\n",
    "    indirect_effects, indirect_effects_error, sae_grad, error = sfc_simple(g_mid, r_mid - r_pre, r_mid - r_pre, sae)\n",
    "    # display((indirect_effects > 0).sum(-1))\n",
    "    ie_attn[l] = indirect_effects\n",
    "    ie_error_attn[l] = indirect_effects_error\n",
    "    sae_grads_attn[l] = sae_grad\n",
    "    sae_error_attn[l] = error\n",
    "\n",
    "# for layer, (r_pre, g_pre) in enumerate(zip(resids_pre, grad_pre)):\n",
    "for l in tqdm(layers):\n",
    "    r_pre, g_pre = resids_pre[l], grad_pre[l]\n",
    "    sae = get_nev_it_sae_suite(layer=l)\n",
    "    indirect_effects, indirect_effects_error, sae_grad, error = sfc_simple(g_pre, r_pre, r_pre, sae)\n",
    "    # display((indirect_effects != 0).sum(-1))\n",
    "    ie_resid[l] = indirect_effects\n",
    "    ie_error_resid[l] = indirect_effects_error\n",
    "    sae_grads_resid[l] = sae_grad\n",
    "    sae_error_resid[l] = error\n",
    "\n",
    "for l in tqdm(layers[:-1]):\n",
    "    r_mid, r_pre, g_pre = resids_mid[l], resids_pre[l + 1], grad_pre[l + 1]\n",
    "    sae = get_nev_it_sae_suite(layer=l, label=\"transcoder\")\n",
    "    indirect_effects, indirect_effects_error, sae_grad, error = sfc_simple(g_pre, mlp_normalize(l, r_mid), r_pre - r_mid, sae)\n",
    "    # display((indirect_effects != 0).sum(-1))\n",
    "    ie_transcoder[l] = indirect_effects\n",
    "    ie_error_transcoder[l] = indirect_effects_error\n",
    "    sae_grads_transcoder[l] = sae_grad\n",
    "    sae_error_transcoder[l] = error"
   ]
  },
  {
   "cell_type": "code",
   "execution_count": 22,
   "metadata": {},
   "outputs": [],
   "source": [
    "tokens_wrapped = pz.nx.wrap(train_tokens, \"batch\", \"seq\")\n",
    "llama_inputs = llama.inputs.from_basic_segments(tokens_wrapped)"
   ]
  },
  {
   "cell_type": "code",
   "execution_count": 23,
   "metadata": {},
   "outputs": [],
   "source": [
    "prompt_length = len(tokenizer.tokenize(prompt))\n",
    "periods = [\"input\", \"arrow\", \"output\", \"newline\"]\n",
    "masks = {\n",
    "    \"prompt\": jnp.zeros_like(train_tokens).at[:, :prompt_length].set(1).astype(bool),\n",
    "    **{\n",
    "        period: jnp.zeros_like(train_tokens).at[:, prompt_length+i::len(periods)].set(1).astype(bool) * (train_tokens != pad) for i, period in enumerate(periods)\n",
    "    }\n",
    "}"
   ]
  },
  {
   "cell_type": "code",
   "execution_count": 24,
   "metadata": {},
   "outputs": [],
   "source": [
    "def mask_average(vector, mask):\n",
    "    mask = masks[mask]\n",
    "    while mask.ndim < vector.ndim:\n",
    "        mask = mask[..., None]\n",
    "\n",
    "    return ((mask * vector).sum(1) / mask.sum(1)).mean(0)"
   ]
  },
  {
   "cell_type": "code",
   "execution_count": 37,
   "metadata": {},
   "outputs": [],
   "source": [
    "@jax.jit\n",
    "def ablated_metric(llama_ablated):\n",
    "    ablated_logits = llama_ablated(llama_inputs)\n",
    "    return metric_fn(ablated_logits.unwrap(\"batch\", \"seq\", \"vocabulary\"), None, train_tokens, use_softmax=True)"
   ]
  },
  {
   "cell_type": "code",
   "execution_count": 26,
   "metadata": {},
   "outputs": [],
   "source": [
    "def mask_ie(ie, threshold):\n",
    "    out_masks = {}\n",
    "    total_nodes = 0\n",
    "    for mask in masks:\n",
    "        out_masks[mask] = jnp.abs(mask_average(ie, mask)) > threshold\n",
    "        total_nodes += out_masks[mask].sum()\n",
    "    return out_masks, total_nodes"
   ]
  },
  {
   "cell_type": "code",
   "execution_count": 38,
   "metadata": {},
   "outputs": [],
   "source": [
    "from micrlhf.llama import LlamaMLP\n",
    "from typing import Dict, List\n",
    "import dataclasses\n",
    "\n",
    "\n",
    "@pz.pytree_dataclass\n",
    "class AblatedModule(pz.Layer):\n",
    "    module: pz.Layer\n",
    "    sae: dict\n",
    "    keep_features: Dict[str, jax.typing.ArrayLike]\n",
    "\n",
    "    @classmethod\n",
    "    def wrap(self, sae, ablated_features, module=None):\n",
    "        if module is None:\n",
    "            module = pz.nn.Identity()\n",
    "        return AblatedModule(module, sae, ablated_features)\n",
    "\n",
    "    def __call__(self, x):\n",
    "        inp = x.unwrap(\"batch\", \"seq\", \"embedding\")\n",
    "        out = self.module(x)\n",
    "        result = 0\n",
    "        out = out.unwrap(\"batch\", \"seq\", \"embedding\")\n",
    "        for mask, mask_values in masks.items():\n",
    "            _, _, recon = sae_encode_gated(self.sae, inp)\n",
    "            error = out - recon\n",
    "            _, _, recon_ablated = sae_encode_gated(self.sae, inp, keep_features=self.keep_features[mask])\n",
    "            res = recon_ablated + error\n",
    "            res = res * mask_values[..., None]\n",
    "            result = result + res\n",
    "        return pz.nx.wrap(result, \"batch\", \"seq\", \"embedding\")\n",
    "\n",
    "\n",
    "@jax.jit\n",
    "def ablate_nodes(threshold, llama, saes, ie_attn, ie_transcoder):\n",
    "    llama_ablated = llama\n",
    "    n_nodes = {0: 0}\n",
    "    for layer in layers:\n",
    "        block_selection = llama_ablated.select().at_instances_of(LlamaBlock).pick_nth_selected(layer)\n",
    "\n",
    "        def converter(block):\n",
    "            n_nodes_attn, n_nodes_mlp = 0, 0\n",
    "            try:\n",
    "                attn_out = saes[(layer, \"attn_out\")]\n",
    "                mask_attn_out, n_nodes_attn = mask_ie(ie_attn[layer], threshold)\n",
    "                block = block.select().at_instances_of(LlamaAttention).apply(lambda x: pz.nn.Sequential([x, AblatedModule.wrap(attn_out, mask_attn_out)]))\n",
    "            except KeyError:\n",
    "                pass\n",
    "\n",
    "            try:\n",
    "                transcoder = saes[(layer, \"transcoder\")]\n",
    "                mask_transcoder, n_nodes_mlp = mask_ie(ie_transcoder[layer], threshold)\n",
    "                block = block.select().at_instances_of(LlamaMLP).apply(lambda x: AblatedModule.wrap(transcoder, mask_transcoder, x))\n",
    "            except KeyError:\n",
    "                pass\n",
    "            n_nodes[0] += n_nodes_attn + n_nodes_mlp\n",
    "            return block\n",
    "\n",
    "        llama_ablated = block_selection.apply(converter)\n",
    "    return ablated_metric(llama_ablated), n_nodes[0]"
   ]
  },
  {
   "cell_type": "code",
   "execution_count": 28,
   "metadata": {},
   "outputs": [],
   "source": [
    "\n",
    "saes = {}\n",
    "for layer in layers:\n",
    "    try:\n",
    "        saes[(layer, \"attn_out\")] = get_nev_it_sae_suite(layer=layer, label=\"attn_out\")\n",
    "    except KeyError:\n",
    "        pass\n",
    "    try:\n",
    "        saes[(layer, \"transcoder\")] = get_nev_it_sae_suite(layer=layer, label=\"transcoder\")\n",
    "    except KeyError:\n",
    "        pass"
   ]
  },
  {
   "cell_type": "code",
   "execution_count": 42,
   "metadata": {},
   "outputs": [
    {
     "data": {
      "application/vnd.jupyter.widget-view+json": {
       "model_id": "43e632ddb9f745438448cb62173bce17",
       "version_major": 2,
       "version_minor": 0
      },
      "text/plain": [
       "  0%|          | 0/100 [00:00<?, ?it/s]"
      ]
     },
     "metadata": {},
     "output_type": "display_data"
    }
   ],
   "source": [
    "import numpy as np\n",
    "thresholds = np.linspace(1e-7, 1e-5, 100)\n",
    "n_nodes_counts = []\n",
    "ablated_metrics = []\n",
    "for threshold in tqdm(thresholds):\n",
    "    abl_met, n_nodes = ablate_nodes(threshold, llama, saes, ie_attn, ie_transcoder)\n",
    "    ablated_metrics.append(float(abl_met))\n",
    "    n_nodes_counts.append(int(n_nodes))\n"
   ]
  },
  {
   "cell_type": "code",
   "execution_count": null,
   "metadata": {},
   "outputs": [],
   "source": [
    "metric_orig"
   ]
  },
  {
   "cell_type": "code",
   "execution_count": 45,
   "metadata": {},
   "outputs": [
    {
     "data": {
      "text/html": [
       "<div id=\"output_20235f71c92e4119a8893c6ed12843cc\"><script> /* penzai.treescope rendering of a Python object (compressed) */ (()=>{ let observer; let lastStep = new Promise((resolve, reject) => { observer = new IntersectionObserver((entries) => { for (const entry of entries) { if (entry.isIntersecting) { resolve(); observer.disconnect(); return; } } }, {rootMargin: \"1000px\"}); }); window.treescope_decompress_enqueue = (encoded, destId) => { const previous = lastStep; const destElt = document.getElementById(destId); lastStep = (async () => { await previous; let blob = new Blob([ Uint8Array.from(atob(encoded), (m) => m.codePointAt(0)) ]); let reader = blob.stream().pipeThrough( new DecompressionStream(\"deflate\") ).pipeThrough( new TextDecoderStream(\"utf-8\") ).getReader(); let parts = []; while (true) { let step = await reader.read(); if (step.done) { break; } parts.push(step.value); } let newElt = document.createElement(\"div\"); newElt.innerHTML = parts.join(\"\"); destElt.parentNode.replaceChild(newElt, destElt); for (let oldScript of newElt.querySelectorAll(\"script\")) { let newScript = document.createElement(\"script\"); newScript.type = oldScript.type; newScript.textContent = oldScript.textContent; oldScript.parentNode.replaceChild(newScript, oldScript); } })(); requestAnimationFrame(() => { observer.observe(destElt); }); } })(); </script><div id=\"compress_html_2c6438325be54dfbb778170ae3cf87e0\"><script>window.treescope_decompress_enqueue(\"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\", \"compress_html_2c6438325be54dfbb778170ae3cf87e0\");</script><span style=\"color: #aaaaaa; font-family: monospace\">(Loading...)</span></div></div>"
      ],
      "text/plain": [
       "<IPython.core.display.HTML object>"
      ]
     },
     "metadata": {},
     "output_type": "display_data"
    },
    {
     "data": {
      "text/html": [
       "<div id=\"output_dest_20235f71c92e4119a8893c6ed12843cc\"><script> (()=>{ const output = document.getElementById(\"output_20235f71c92e4119a8893c6ed12843cc\"); const dest = document.getElementById(\"output_dest_20235f71c92e4119a8893c6ed12843cc\"); dest.parentNode.replaceChild(output, dest); })(); </script></div>"
      ],
      "text/plain": [
       "<matplotlib.collections.PathCollection at 0x7f84fc676b10>"
      ]
     },
     "execution_count": 45,
     "metadata": {},
     "output_type": "execute_result"
    },
    {
     "data": {
      "image/png": "[encoded data removed]",
      "text/plain": [
       "<Figure size 640x480 with 1 Axes>"
      ]
     },
     "metadata": {},
     "output_type": "display_data"
    }
   ],
   "source": [
    "from matplotlib import pyplot as plt\n",
    "plt.scatter(n_nodes_counts, ablated_metrics)"
   ]
  },
  {
   "cell_type": "code",
   "execution_count": 62,
   "metadata": {},
   "outputs": [
    {
     "data": {
      "text/html": [
       "<div id=\"output_405708ebceeb4e21a37783ac49dafc5e\"><script> /* penzai.treescope rendering of a Python object (compressed) */ (()=>{ let observer; let lastStep = new Promise((resolve, reject) => { observer = new IntersectionObserver((entries) => { for (const entry of entries) { if (entry.isIntersecting) { resolve(); observer.disconnect(); return; } } }, {rootMargin: \"1000px\"}); }); window.treescope_decompress_enqueue = (encoded, destId) => { const previous = lastStep; const destElt = document.getElementById(destId); lastStep = (async () => { await previous; let blob = new Blob([ Uint8Array.from(atob(encoded), (m) => m.codePointAt(0)) ]); let reader = blob.stream().pipeThrough( new DecompressionStream(\"deflate\") ).pipeThrough( new TextDecoderStream(\"utf-8\") ).getReader(); let parts = []; while (true) { let step = await reader.read(); if (step.done) { break; } parts.push(step.value); } let newElt = document.createElement(\"div\"); newElt.innerHTML = parts.join(\"\"); destElt.parentNode.replaceChild(newElt, destElt); for (let oldScript of newElt.querySelectorAll(\"script\")) { let newScript = document.createElement(\"script\"); newScript.type = oldScript.type; newScript.textContent = oldScript.textContent; oldScript.parentNode.replaceChild(newScript, oldScript); } })(); requestAnimationFrame(() => { observer.observe(destElt); }); } })(); </script><div id=\"compress_html_1ac1cacab0db4c32b428b4d2fc5ba3ed\"><script>window.treescope_decompress_enqueue(\"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\", \"compress_html_1ac1cacab0db4c32b428b4d2fc5ba3ed\");</script><span style=\"color: #aaaaaa; font-family: monospace\">(Loading...)</span></div></div>"
      ],
      "text/plain": [
       "<IPython.core.display.HTML object>"
      ]
     },
     "metadata": {},
     "output_type": "display_data"
    },
    {
     "data": {
      "text/html": [
       "<div id=\"output_dest_405708ebceeb4e21a37783ac49dafc5e\"><script> (()=>{ const output = document.getElementById(\"output_405708ebceeb4e21a37783ac49dafc5e\"); const dest = document.getElementById(\"output_dest_405708ebceeb4e21a37783ac49dafc5e\"); dest.parentNode.replaceChild(output, dest); })(); </script></div>"
      ],
      "text/plain": [
       "False"
      ]
     },
     "execution_count": 62,
     "metadata": {},
     "output_type": "execute_result"
    }
   ],
   "source": [
    "equality = (xy[:, None, :] < xy[None, :, :]).all(-1)\n",
    "(equality == equality.T).all()"
   ]
  },
  {
   "cell_type": "code",
   "execution_count": 81,
   "metadata": {},
   "outputs": [
    {
     "data": {
      "image/png": "[encoded data removed]",
      "text/plain": [
       "<Figure size 640x480 with 1 Axes>"
      ]
     },
     "metadata": {},
     "output_type": "display_data"
    }
   ],
   "source": [
    "rev = np.array([-1, 1])\n",
    "xy = np.stack((np.asarray(n_nodes_counts) / len(masks), ablated_metrics), axis=-1) * rev\n",
    "pareto_mask = ~(xy[:, None, :] < xy[None, :, :]).all(-1).any(axis=1)\n",
    "pareto = xy[pareto_mask]\n",
    "# plt.scatter(*(xy[~pareto_mask] * rev).T, c=\"grey\", s=1)\n",
    "plt.plot(*(pareto * rev).T)\n",
    "plt.show()\n"
   ]
  },
  {
   "cell_type": "code",
   "execution_count": 23,
   "metadata": {},
   "outputs": [],
   "source": [
    "# def attn_call(layer, resid_pre):\n",
    "#     subblock = llama.select().at_instances_of(LlamaBlock).pick_nth_selected(layer).at_instances_of(pz.nn.Residual).pick_nth_selected(0).get().delta\n",
    "#     subblock = subblock.select().at_instances_of(LlamaAttention).get()\n",
    "\n",
    "#     si_selection = subblock.select().at_instances_of(pz.de.HandledSideInputRef)\n",
    "#     keys = sorted(set([ref.tag for ref in si_selection.get_sequence()]))\n",
    "#     replaced = si_selection.apply(lambda ref: pz.de.SideInputRequest(tag=ref.tag))\n",
    "#     subblock = pz.de.WithSideInputsFromInputTuple.handling(replaced, keys)\n",
    "\n",
    "#     side_inputs = {\n",
    "#         'positions': llama_inputs.positions,\n",
    "#         'attn_mask': llama_inputs.attention_mask\n",
    "#     }\n",
    "    \n",
    "#     resid_pre = resid_pre / \n",
    "\n",
    "#     resid_pre = pz.nx.wrap(resid_pre, \"batch\", \"seq\", \"embedding\")\n",
    "#     attn_out = subblock((resid_pre,) + tuple(side_inputs[tag] for tag in subblock.side_input_tags))\n",
    "\n",
    "#     attn_out = attn_out.unwrap(\"batch\", \"seq\", \"embedding\") \n",
    "\n",
    "#     return attn_out.astype(resid.dtype)\n",
    "\n",
    "# attn_call(6, resids_pre[6])"
   ]
  },
  {
   "cell_type": "code",
   "execution_count": 25,
   "metadata": {},
   "outputs": [],
   "source": []
  },
  {
   "cell_type": "code",
   "execution_count": 26,
   "metadata": {},
   "outputs": [],
   "source": [
    "def transcoder_feature_to_mid(layer, feature_idx, mask):\n",
    "    sae = get_nev_it_sae_suite(layer=layer, label=\"transcoder\")\n",
    "    resid = resids_mid[layer]\n",
    "\n",
    "    def f(resid):\n",
    "        resid = mlp_normalize(layer, resid)\n",
    "        batch_token_feat = resids_to_weights(resid, sae)[:, :, feature_idx] * sae_grads_transcoder[layer][:, :, feature_idx]\n",
    "        token_act = mask_average(batch_token_feat, mask)\n",
    "        return token_act\n",
    "\n",
    "    return jax.grad(f)(resid)"
   ]
  },
  {
   "cell_type": "code",
   "execution_count": 27,
   "metadata": {},
   "outputs": [],
   "source": [
    "def transcoder_error_to_mid(layer, mask):\n",
    "    sae = get_nev_it_sae_suite(layer=layer, label=\"transcoder\")\n",
    "    resid_next = resids_pre[layer + 1]\n",
    "    resid = resids_mid[layer]\n",
    "\n",
    "    grad = grad_pre[layer + 1]\n",
    "\n",
    "    def f(resid):\n",
    "        _, _, recon = sae_encode_gated(sae, resid)\n",
    "        err_by_grad = jnp.einsum(\"...f, ...f -> ...\", (resid_next - recon), grad)\n",
    "        return mask_average(err_by_grad, mask)\n",
    "\n",
    "    return jax.grad(f)(resid)"
   ]
  },
  {
   "cell_type": "code",
   "execution_count": 28,
   "metadata": {},
   "outputs": [],
   "source": [
    "def attn_out_feature_to_pre(layer, feature_idx, mask):\n",
    "    sae = get_nev_it_sae_suite(layer=layer, label=\"attn_out\")\n",
    "\n",
    "    resid = resids_pre[layer]\n",
    "\n",
    "    subblock = llama.select().at_instances_of(LlamaBlock).pick_nth_selected(layer).at_instances_of(pz.nn.Residual).pick_nth_selected(0).get().delta\n",
    "\n",
    "    si_selection = subblock.select().at_instances_of(pz.de.HandledSideInputRef)\n",
    "    keys = sorted(set([ref.tag for ref in si_selection.get_sequence()]))\n",
    "    replaced = si_selection.apply(lambda ref: pz.de.SideInputRequest(tag=ref.tag))\n",
    "    subblock = pz.de.WithSideInputsFromInputTuple.handling(replaced, keys)\n",
    "\n",
    "    side_inputs = {\n",
    "        'positions': llama_inputs.positions,\n",
    "        'attn_mask': llama_inputs.attention_mask\n",
    "    }\n",
    "\n",
    "    def f(resid):\n",
    "        resid = pz.nx.wrap(resid, \"batch\", \"seq\", \"embedding\")\n",
    "        attn_out = subblock((resid,) + tuple(side_inputs[tag] for tag in subblock.side_input_tags))\n",
    "\n",
    "        attn_out = attn_out.unwrap(\"batch\", \"seq\", \"embedding\") \n",
    "\n",
    "        batch_token_feat = resids_to_weights(attn_out, sae)[:, :, feature_idx] * sae_grads_attn[layer][:, :, feature_idx]\n",
    "        token_act = mask_average(batch_token_feat, mask)\n",
    "        return token_act\n",
    "\n",
    "    return jax.grad(f)(resid)\n",
    "\n",
    "def attn_out_error_to_pre(layer, mask):\n",
    "    sae = get_nev_it_sae_suite(layer=layer, label=\"attn_out\")\n",
    "\n",
    "    resid = resids_pre[layer]\n",
    "\n",
    "    subblock = llama.select().at_instances_of(LlamaBlock).pick_nth_selected(layer).at_instances_of(pz.nn.Residual).pick_nth_selected(0).get().delta\n",
    "\n",
    "    si_selection = subblock.select().at_instances_of(pz.de.HandledSideInputRef)\n",
    "    keys = sorted(set([ref.tag for ref in si_selection.get_sequence()]))\n",
    "    replaced = si_selection.apply(lambda ref: pz.de.SideInputRequest(tag=ref.tag))\n",
    "    subblock = pz.de.WithSideInputsFromInputTuple.handling(replaced, keys)\n",
    "\n",
    "    side_inputs = {\n",
    "        'positions': llama_inputs.positions,\n",
    "        'attn_mask': llama_inputs.attention_mask\n",
    "    }\n",
    "\n",
    "    def f(resid):\n",
    "        resid = pz.nx.wrap(resid, \"batch\", \"seq\", \"embedding\")\n",
    "        attn_out = subblock((resid,) + tuple(side_inputs[tag] for tag in subblock.side_input_tags))\n",
    "\n",
    "        attn_out = attn_out.unwrap(\"batch\", \"seq\", \"embedding\") \n",
    "\n",
    "        _, _, recon = sae_encode_gated(sae, attn_out)\n",
    "        batch_token_feat = jnp.einsum(\"...f, ...f -> ...\", attn_out - recon, grad_mid[layer])\n",
    "        token_act = mask_average(batch_token_feat, mask)\n",
    "        return token_act\n",
    "\n",
    "    return jax.grad(f)(resid)\n",
    "# float(jnp.linalg.norm(attn_out_error_to_pre(6, \"arrow\")))"
   ]
  },
  {
   "cell_type": "code",
   "execution_count": 29,
   "metadata": {},
   "outputs": [],
   "source": [
    "def pre_feature_to_pre(layer, feature_idx, mask):\n",
    "    sae = get_nev_it_sae_suite(layer=layer)\n",
    "    resid = resids_pre[layer]\n",
    "\n",
    "    def f(resid):\n",
    "        batch_token_feat = resids_to_weights(resid, sae)[:, :, feature_idx] * sae_grads_resid[layer][:, :, feature_idx]\n",
    "        token_act = mask_average(batch_token_feat, mask)\n",
    "        return token_act\n",
    "\n",
    "    return jax.grad(f)(resid)\n",
    "\n",
    "def pre_error_to_pre(layer, mask):\n",
    "    sae = get_nev_it_sae_suite(layer=layer)\n",
    "    resid = resids_pre[layer]\n",
    "\n",
    "    def f(resid):\n",
    "        _, _, recon = sae_encode_gated(sae, resid)\n",
    "        batch_token_error = jnp.einsum(\"...f, ...f -> ...\", (resid - recon), grad_pre[layer])\n",
    "        token_grad = mask_average(batch_token_error, mask)\n",
    "        return token_grad\n",
    "\n",
    "    return jax.grad(f)(resid)\n"
   ]
  },
  {
   "cell_type": "code",
   "execution_count": 30,
   "metadata": {},
   "outputs": [],
   "source": [
    "def ie_pre_to_transcoder_features(layer, grad, mask):\n",
    "    sae = get_nev_it_sae_suite(layer=layer, label=\"transcoder\")\n",
    "    resid_mid = resids_mid[layer]\n",
    "    resid_mid = mlp_normalize(layer, resid_mid)\n",
    "    ie = sfc_simple(grad, resid_mid, resid_mid, sae)[0]\n",
    "    ie = mask_average(ie, mask)\n",
    "\n",
    "    return ie\n",
    "\n",
    "def ie_pre_to_transcoder_error(layer, grad, mask):\n",
    "    sae = get_nev_it_sae_suite(layer=layer, label=\"transcoder\")\n",
    "    resid_next = resids_pre[layer + 1]\n",
    "    resid_mid = resids_mid[layer]\n",
    "    ie = sfc_simple(grad, mlp_normalize(layer, resid_mid), resid_next - resid_mid, sae)[1]\n",
    "    ie = mask_average(ie, mask)\n",
    "\n",
    "    return ie"
   ]
  },
  {
   "cell_type": "code",
   "execution_count": 31,
   "metadata": {},
   "outputs": [],
   "source": [
    "def ie_mid_to_attn_features(layer, grad, mask):\n",
    "    sae = get_nev_it_sae_suite(layer=layer, label=\"attn_out\")\n",
    "    resid_mid = resids_mid[layer]\n",
    "    resid_pre = resids_pre[layer]\n",
    "\n",
    "    ie = sfc_simple(grad, resid_mid - resid_pre, resid_mid - resid_pre, sae)[0]\n",
    "    ie = mask_average(ie, mask)\n",
    "    return ie\n",
    "\n",
    "def ie_mid_to_attn_error(layer, grad, mask):\n",
    "    sae = get_nev_it_sae_suite(layer=layer, label=\"attn_out\")\n",
    "    resid_mid = resids_mid[layer]\n",
    "    resid_pre = resids_pre[layer]\n",
    "\n",
    "    ie = sfc_simple(grad, resid_mid - resid_pre, resid_mid - resid_pre, sae)[1]\n",
    "    ie = mask_average(ie, mask)\n",
    "    return ie"
   ]
  },
  {
   "cell_type": "code",
   "execution_count": 32,
   "metadata": {},
   "outputs": [],
   "source": [
    "def ie_pre_to_pre_features(layer, grad, mask):\n",
    "    sae = get_nev_it_sae_suite(layer=layer)\n",
    "    resid = resids_pre[layer]\n",
    "    ie = sfc_simple(grad, resid, resid, sae)[0]\n",
    "    ie = mask_average(ie, mask)\n",
    "    return ie\n",
    "\n",
    "def ie_pre_to_pre_error(layer, grad, mask):\n",
    "    sae = get_nev_it_sae_suite(layer=layer)\n",
    "    resid = resids_pre[layer]\n",
    "    ie = sfc_simple(grad, resid, resid, sae)[1]\n",
    "    ie = mask_average(ie, mask)\n",
    "    return ie\n",
    "# float((ie_pre_to_pre_features(6, grad_pre[6], \"arrow\") - mask_average(ie_error_resid[6], \"arrow\")).sum())"
   ]
  },
  {
   "cell_type": "code",
   "execution_count": 33,
   "metadata": {},
   "outputs": [
    {
     "data": {
      "text/html": [
       "<div id=\"output_08f23bc9f57840828841b99eb4871b73\"><script> /* penzai.treescope rendering of a Python object (compressed) */ (()=>{ let observer; let lastStep = new Promise((resolve, reject) => { observer = new IntersectionObserver((entries) => { for (const entry of entries) { if (entry.isIntersecting) { resolve(); observer.disconnect(); return; } } }, {rootMargin: \"1000px\"}); }); window.treescope_decompress_enqueue = (encoded, destId) => { const previous = lastStep; const destElt = document.getElementById(destId); lastStep = (async () => { await previous; let blob = new Blob([ Uint8Array.from(atob(encoded), (m) => m.codePointAt(0)) ]); let reader = blob.stream().pipeThrough( new DecompressionStream(\"deflate\") ).pipeThrough( new TextDecoderStream(\"utf-8\") ).getReader(); let parts = []; while (true) { let step = await reader.read(); if (step.done) { break; } parts.push(step.value); } let newElt = document.createElement(\"div\"); newElt.innerHTML = parts.join(\"\"); destElt.parentNode.replaceChild(newElt, destElt); for (let oldScript of newElt.querySelectorAll(\"script\")) { let newScript = document.createElement(\"script\"); newScript.type = oldScript.type; newScript.textContent = oldScript.textContent; oldScript.parentNode.replaceChild(newScript, oldScript); } })(); requestAnimationFrame(() => { observer.observe(destElt); }); } })(); </script><div id=\"compress_html_6037f8415752403fb82b4a65f8645e7b\"><script>window.treescope_decompress_enqueue(\"eNrFV1tv2zYU/iunGpDKQaw4ztyskm0g6DrsodhLB+xhGwRKOrK40KRGUkm8wv99h5R8l9sMK7YYgczDc/nOXZ4auxI4j6xGNLmqMdVKWfgEtTLcciVj0CiY5Y+YQKmkHZZsycUqhqWSytQsJ/pTxS0O/SGGWhNFcGOHXvXQrmqiSiWJnLH8YaFVI4throTScSuaQHfKBDGQPl7YKoaSW2KTFqVNYMn0gsuhwNLGMM4rZ0PisEK+qIhyE00SWE+vW3emJte8tnPgJYRPXBbqaechzGYzIAhYkoJiQL6ecsCndXJCjtIaZcHl4j53kTHE9uvvX2T7kclCOJWyEaKHe4E2PYr+DMJN0FOrBjCbE8jrS/ig1AMlQYOtEDynVAVGcHkNAi10snuiPjVkPGzvXs2gUHmzpIBGmSpWcHEBr9xNlAtmzAdKWuQCzrg0YXAIKhiAC9XGhhOqmSZN7wUufYbWZNk2WvpLOvb4qhv5USnpHHxS+qHzjEwaS8h+IZK7OiBbnjtijZocXzKZYyTVUzjYunZyA8NWaAq3Ywe5rwaOUxkJlAtbUWnAqK8iPp/T1m8XARQGd9CrRjrsXzRuKl5a55KXcF/W9HkphnDDqfHPBo29l3zJHMcPmi0xbOM6GPRn5BhK3ZiqzU3yksBtQMzaUPyT0L0cdi9wlCTV4PdYotZY/IzLmsoezWkB1cIRt4VPYnr1EQXmVul7IajQO9n9IdjI1FClBoPEN1zo+os0gSq9QucoPff6RuNSPeJB1+zpONcJ4Qar019q9Re65vCa28F3CDcM2sHmVDoJOu27lmskN7qG3Oelb5Gbw8TcGvGnjo7P9l1rbO96R0w8nLbXf3LjRiNFK8d31H5FSBquHIPL09lcWbVYiHaMpH76WwLmpxxRUNgrwEfS3oXClZ0/Rw+4ch0Z6GAzeoh5L+at3jDY6kyXBDDY4FgD7YN2EUwL/ghecHY818CyjADj8ywYBaAkGSX0co+vH39oK242yANaOe0iLbqCTH2QKiUK1L4W/YL7ht25T7dKvUgM3DLBc8IblcTOMjLl5vqZJbyGQ7a0RUfcBTdkdLVZtseMMAfBMhRxnCHVNO6hyv1f0muv3bjDG7dyu8U8Sna2uPR7OBPKbe6zNitqDn1quWD6wSBbUKjlqXQslQ2PSBUz4dzrnPfGwcvEeYX5Ay33AVwOdhicaL/Qhv8AoS//GF7/Np5k+ev/E96h0FmQb/4DkC6PznCjjUtgrTgh0D12ufl6Zn0reEND32/mXI1/Has799wcPLUScZOWXBubKpm68u9prc+1UjSeuG7qTRX8a/htxo8hOq8O3qF9Q++9MddMAi9mwXaA5ZPxZJKNcTK6efvt28noLf3f3lArjO5GkzybBJ1QN1YP+/7YPDG3Tky5rBvapbR/ZoGHnannoFdJ5yFdtt7Np9demJ6drn37fYM3mF8Im/zBnqN7rdkKSqGYvR2Ht+O7N99dDSCKIrhY2ISiQJrmxw9aGtufEi9+AQkH263zN3z4wUw=\", \"compress_html_6037f8415752403fb82b4a65f8645e7b\");</script><span style=\"color: #aaaaaa; font-family: monospace\">(Loading...)</span></div></div>"
      ],
      "text/plain": [
       "<IPython.core.display.HTML object>"
      ]
     },
     "metadata": {},
     "output_type": "display_data"
    },
    {
     "data": {
      "text/html": [
       "<div id=\"compress_html_55cc046654bd4e38b6f8e27874a89e82\"><script>window.treescope_decompress_enqueue(\"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\", \"compress_html_55cc046654bd4e38b6f8e27874a89e82\");</script></div>"
      ],
      "text/plain": [
       "<IPython.core.display.HTML object>"
      ]
     },
     "metadata": {},
     "output_type": "display_data"
    },
    {
     "data": {
      "text/html": [
       "<div id=\"output_dest_08f23bc9f57840828841b99eb4871b73\"><script> (()=>{ const output = document.getElementById(\"output_08f23bc9f57840828841b99eb4871b73\"); const dest = document.getElementById(\"output_dest_08f23bc9f57840828841b99eb4871b73\"); dest.parentNode.replaceChild(output, dest); })(); </script></div>"
      ],
      "text/plain": [
       "# jax.Array float32(32768,) ≈-1.3e-08 ±2.6e-05 [≥-0.0023, ≤0.0023] zero:32_682 nonzero:86\n",
       "  Array([0., 0., 0., ..., 0., 0., 0.], dtype=float32)\n"
      ]
     },
     "execution_count": 33,
     "metadata": {},
     "output_type": "execute_result"
    }
   ],
   "source": [
    "ie_pre_to_pre_features(6, grad_pre[6], \"prompt\")"
   ]
  },
  {
   "cell_type": "code",
   "execution_count": 33,
   "metadata": {},
   "outputs": [],
   "source": [
    "def grad_through_transcoder(layer, grad):\n",
    "    sae = get_nev_it_sae_suite(layer, label=\"transcoder\")\n",
    "    resid_mid = resids_mid[layer]\n",
    "\n",
    "    def f(resid_mid):\n",
    "        resid_mid = mlp_normalize(layer, resid_mid)\n",
    "        # we ignore error nodes\n",
    "        weights = resids_to_weights(resid_mid, sae)\n",
    "        recon = weights_to_resid(weights, sae)\n",
    "\n",
    "        return recon\n",
    "\n",
    "    grad = jax.vjp(f, resid_mid)[1](grad,)[0]\n",
    "\n",
    "    return grad\n"
   ]
  },
  {
   "cell_type": "code",
   "execution_count": 34,
   "metadata": {},
   "outputs": [],
   "source": [
    "def grad_through_mlp(layer, grad):\n",
    "    mlp = llama.select().at_instances_of(LlamaBlock).pick_nth_selected(layer).at_instances_of(pz.nn.Residual).pick_nth_selected(1).get().delta\n",
    "    resid_mid = resids_mid[layer]\n",
    "    def f(resid_mid):\n",
    "        resids_mid = pz.nx.wrap(resid_mid, \"batch\", \"seq\", \"embedding\")\n",
    "        out = mlp(resids_mid)\n",
    "        return out.unwrap(\"batch\", \"seq\", \"embedding\").astype(resid_mid.dtype)\n",
    "    return jax.vjp(f, resid_mid)[1](grad.astype(resid_mid.dtype),)[0]"
   ]
  },
  {
   "cell_type": "code",
   "execution_count": 35,
   "metadata": {},
   "outputs": [],
   "source": [
    "def grad_through_attn(layer, grad):\n",
    "    subblock = llama.select().at_instances_of(LlamaBlock).pick_nth_selected(layer).at_instances_of(pz.nn.Residual).pick_nth_selected(0).get().delta\n",
    "\n",
    "    si_selection = subblock.select().at_instances_of(pz.de.HandledSideInputRef)\n",
    "    keys = sorted(set([ref.tag for ref in si_selection.get_sequence()]))\n",
    "    replaced = si_selection.apply(lambda ref: pz.de.SideInputRequest(tag=ref.tag))\n",
    "    subblock = pz.de.WithSideInputsFromInputTuple.handling(replaced, keys)\n",
    "\n",
    "    side_inputs = {\n",
    "        'positions': llama_inputs.positions,\n",
    "        'attn_mask': llama_inputs.attention_mask\n",
    "    }\n",
    "\n",
    "    def f(resid):\n",
    "        resid_pre = pz.nx.wrap(resid, \"batch\", \"seq\", \"embedding\")\n",
    "        attn_out = subblock((resid_pre,) + tuple(side_inputs[tag] for tag in subblock.side_input_tags))\n",
    "\n",
    "        attn_out = attn_out.unwrap(\"batch\", \"seq\", \"embedding\") \n",
    "\n",
    "        return attn_out.astype(resid.dtype)\n",
    "\n",
    "    resid = resids_pre[layer]\n",
    "    return jax.vjp(f, resid)[1](grad.astype(resid.dtype),)[0]"
   ]
  },
  {
   "cell_type": "code",
   "execution_count": 37,
   "metadata": {},
   "outputs": [],
   "source": [
    "ies = ie_resid[12]\n",
    "ies = mask_average(ies, \"arrow\")"
   ]
  },
  {
   "cell_type": "code",
   "execution_count": 38,
   "metadata": {},
   "outputs": [
    {
     "data": {
      "text/html": [
       "<div id=\"output_ddd8c5974a594b64800e6d6278a28e4c\"><script> /* penzai.treescope rendering of a Python object (compressed) */ (()=>{ let observer; let lastStep = new Promise((resolve, reject) => { observer = new IntersectionObserver((entries) => { for (const entry of entries) { if (entry.isIntersecting) { resolve(); observer.disconnect(); return; } } }, {rootMargin: \"1000px\"}); }); window.treescope_decompress_enqueue = (encoded, destId) => { const previous = lastStep; const destElt = document.getElementById(destId); lastStep = (async () => { await previous; let blob = new Blob([ Uint8Array.from(atob(encoded), (m) => m.codePointAt(0)) ]); let reader = blob.stream().pipeThrough( new DecompressionStream(\"deflate\") ).pipeThrough( new TextDecoderStream(\"utf-8\") ).getReader(); let parts = []; while (true) { let step = await reader.read(); if (step.done) { break; } parts.push(step.value); } let newElt = document.createElement(\"div\"); newElt.innerHTML = parts.join(\"\"); destElt.parentNode.replaceChild(newElt, destElt); for (let oldScript of newElt.querySelectorAll(\"script\")) { let newScript = document.createElement(\"script\"); newScript.type = oldScript.type; newScript.textContent = oldScript.textContent; oldScript.parentNode.replaceChild(newScript, oldScript); } })(); requestAnimationFrame(() => { observer.observe(destElt); }); } })(); </script><div id=\"compress_html_975db29e44384e9ca595954006a41559\"><script>window.treescope_decompress_enqueue(\"eNrVWQtT4zgS/isab9WQDCQ4TyAQ6pyQF0NgIMzAsLuVUmzZFnEkIysJYYv/fi05IU+YmTtu7w6qSCz34+uHulviKJKTgBynpSAksnlIuoJzif5CIY+opJyVkCABlnREDpHLmUy5eECDSQkNOONRiG1YH/tUkpR+KKFQwEpAI5nSolNyEsIq4wyWe9jue4IPmZOyecBFKWY9RNOnXgAEII860i8hl0ogY5IweYgGWHiUpQLiyhLK2r7SwUjKJ9TzYSWTLhyi56Pd2JyjyBY0lMeIuigxpszh47mFqFwuI4BAXBDgJMHWdQr01/Ph2nK6GxLmUOZZtvJMBGS///lDsiZmTqBEsmEQbKD2iOyueL+MEjOndyVPovIxgNz9hM4470MQBJI+QZqScYek0addFBCJprwLrDo0oDwRv/tQRg63hwNwaLrHnQn6+BF9UG/SdoCj6AyCllYOx5RFCWMZlJFEylUzHYopxAIk1QIy0BF6Bs1yKJh+CY8bbBVD1uGcKQPHXPSnloHKSAKyG1hSr5aWJbXVYkgEGD7AzCZpxseJ5Itpa29QKmY6QrmsgrwpB1ZDmQ4I86QPqYHMTRnxdkxju5UHSBCROXR/yBT2HyqPfOpKZZLmUF+e4fdnMSRmlII8DEkkLUYHWFHUBR6QROzXZHJzRFahhMPIj2Nz+DOOm4Eox674Fdf9POyNwAkDriE5IS4RgjjXZBBC2pNoPYHCQC2+JD6wiUmHBMSWXFhBAIk+5V0sgkPWjSBTjeSh3nAJtb9AEuKuFqgMhc+FfSPIgI/I0q5ZkPHaTkjMsCr5ruBPRG0OLTkufMtwE0Zc2JRIxQFPi6bZgoAZ0w25SAvf0qoOA3GsRD9N18mjrMbKFl7PFw81nHivn6tyIwh4yyZV2H5OAiTsKAIVp1djJbnnBXEZ6erqLwGYrnKwQgK5g8gIpE9dodJOP6f7ZKJ2pCGMWekB4gWfx3ITxovM7gAAGjMczwj6QdwIjhw6QpqxvFrXkMQ9AEwey4ZpIM5AKaBnC3Sb8SekT6MZcgNaTtxInWlCdrWTfB44ROhc1A3uN7ynfqetVLOUEJU4oDbgTbtAjnugStX1V5rwM1om68bogNqhESidzJrtKiE6RgHukaBU6hHIabKAytY/hxv1xR03lVEtd9qYzcO5Lsp0H+4FXHXuV3X6sDnEumYHi35EsAeuZuvcJcZlYmXJx1HiWMs83ugHzVOyfWL3obkn0afkHINi3cw0o19CqNO/hLb+yBZ69tZ/E94y06sgi38DSBVHpXgoIhXAkFNAIDbopdH7qdVbQStK6f0WvZbj76N1bp6qg+ta0jTqulREsstZV6X/hq311lZKZwtqN20MFfq34ccRX4WorFqaofWGfk6r0geOdbq2qufvlC0LtWhaGJZU2ziwEzDDw6SWCR91uV7BAc3mPwalxwXU5CkUh0tQqmCg34ipfpVTIh+rEj7GgsHg0p3l4Kxcui62M7kNhCG0NQg9dtS8kxLTo4ly9NT+6VLKTOsMmJ+HSvo4g0XKE9ihqn1ncgWHeDuIC8w8gkxkpou2D80WnqO4HcdLKHbgOpS1HHg3ly5Fc2bMc3rsE9YFJwU4jMCpP+xIv6z8DQ1xH9I6NBF5DGHSfJXmPXBsUjE19B/To7KtSsHSsXmrDSOaoDhAncmgx2E2vRhKBctBsymsysPJ1vKIwNQJJ5iujadn3rwJyRoJu4SGIkg4WOKSer875q6bPezhiBTzO4550Gh7VsXSP61Ly+L6W+VqDH+bdcuqWW/9VAaW5fX5Z6dVq1TH3y3r+nv11Gq3KlWr7j22mme+jCptSrxc/eQ2e9Yqfh91wiH90i5cZ05vW1ff2qOb9pP8MqnXq9s3Xv+aVk5Mn55cDk9rTuPebPZ23VHLCR8+F/2HG0ovh23W8JvuV2l9LVbORd6qt1i/VrS/Dods+6rwYEf98citB7sPj16N73u903FjP9O0dpl1VTgT4jRzte09mVeOaZ26Ge98rzpu3Gc9k0+GV3t7g1qmOG7eHlx4Xkiu+5M8afWeCnZPXDQktrzL1vn4BEeT6HLYat3e1Opj68tl2PrufN3d3fb2rvduc9J0P395sEYFkHlmne9Z7bE18J6uOtvDuw6p3T5m3aL9dJ6/ak4Kw4r1+alyH9bDHG1eVmvm3fBLvrPH3MpZrVlvDyy6vT+qZX2W8fe2e9/Gt/fjphidNL5W2b1bq3ly+8K+C4K9wkH1dFzZ9w/y7Xajk2vcWd6gVbivXB7I6wZpHtQqlVYjd+Llr3a/25Oe1YCYfvu8a102sEXa1cBqPtUuvDvpFStfvIuL1kmlTy8LpF65rVbqNjVDX/CQQW6Ed7WTzFOm33GrrvQnn1nTwfWo6Zrng0btvFhxrIdv30Iso87dwHEwPci6Twf5r/T+oRgORPGCf692qGgMRqeNXOemk6vXsnbl0r3ebgY8bOTr0biAvYfiPr0jnfMgvGGVZos4bUGGNw+N6iBzUxf9TuexkC3e3ERjCxAlkT7dy8SWTuut5HtsX5jqJ72hlJxtLFLz15tGLQMZK1TQ/qEibyb+g2TyjnH4rxYB2Oy9PgVOXQwGcALxobqXEGYS2Cnscefl9uylga0NZzE3fYJKYqYPyGDVyniq22DF5iF9zpke46hrw+kFHPvCj125dOaZnS7e0rnCs6xy0fVohEUilVLVLoUZBFbfGSQXl5USdZmiGuV0BtNiUSZCBDyWgtbFh/LXTHlBAIGhxPmwjESrRB/oIORCYrYmuyd4X3eucDIfoX/s3QW2BX++zCmr151rB29fX7Zo/tg0OHRDdWM2SsQalm/gwJJrrhIPyKYI1FpEpAalXKpw4DGmEjE8oh6WXMCBnIY9joWTHgsqyTXMzIm5LIjEVNb84A4DUsJY8Le+oyDymg4IBOblUmSNb3bJssL6vIOypmnq0mBjCSNRQs+7m/UuONWYg1u+BklAeH9DdUwDSAbJkSL+oPckzD5siINgAtNEJAl2VE5sL/puev0wv3tQqTS7fFg+Ha8OaMbxUVzGjigLhxKpW5qyoQtXjz8aG4VMaxyw7mqmZX0+SBAgut+VMLMRaWikqT6ZQBX3y4Zx/DsABQZgn6peZF+byo233s9eUqdsvNyD5Nz8Xp5AeHrYzJNe8SCHXZPsm/vZfDGzf2Aaf7+DNlm66d7GOP4YyMN7/Ji2hMAT5AYcy1w2kTN3oImk0+ijJw9f3Lf4sbMke3lqNY7RjHiNaDZSLjtla14SthBnVZX55a03trm+m0puoZfaVDYSAR70HKxv0Ur67+/mn0kD6QpSNhbqGLSnzcSqHa0WXiDWSa+yCb5PcR9vdMomq38igfC+2du3s2aRuDhv7x8cuHbRydoEvoGn/q8SCNrxT6XPW4mx87+RPJlfSZ7M+yVP/PHnzzhhxuHQ0est8rX/IySSLwX8n6beO9Q=\", \"compress_html_975db29e44384e9ca595954006a41559\");</script><span style=\"color: #aaaaaa; font-family: monospace\">(Loading...)</span></div></div>"
      ],
      "text/plain": [
       "<IPython.core.display.HTML object>"
      ]
     },
     "metadata": {},
     "output_type": "display_data"
    },
    {
     "data": {
      "text/html": [
       "<div id=\"compress_html_c919c61cb4c449848295ddc8153e28d6\"><script>window.treescope_decompress_enqueue(\"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\", \"compress_html_c919c61cb4c449848295ddc8153e28d6\");</script></div>"
      ],
      "text/plain": [
       "<IPython.core.display.HTML object>"
      ]
     },
     "metadata": {},
     "output_type": "display_data"
    },
    {
     "data": {
      "text/html": [
       "<div id=\"output_dest_ddd8c5974a594b64800e6d6278a28e4c\"><script> (()=>{ const output = document.getElementById(\"output_ddd8c5974a594b64800e6d6278a28e4c\"); const dest = document.getElementById(\"output_dest_ddd8c5974a594b64800e6d6278a28e4c\"); dest.parentNode.replaceChild(output, dest); })(); </script></div>"
      ],
      "text/plain": [
       "[# jax.Array float32(30,) ≈0.0015 ±0.0014 [≥0.0004, ≤0.0062] nonzero:30\n",
       "   Array([0.00623179, 0.00412249, 0.00389453, 0.00366905, 0.00362012,\n",
       "          0.00284077, 0.00281034, 0.00176627, 0.0016341 , 0.00162284,\n",
       "          0.0014716 , 0.00135594, 0.00130325, 0.00112798, 0.00110467,\n",
       "          0.00085296, 0.00064201, 0.00059513, 0.0005947 , 0.00057694,\n",
       "          0.00055326, 0.00054206, 0.00050143, 0.00047176, 0.00045941,\n",
       "          0.00043115, 0.00042893, 0.00042616, 0.00041728, 0.00039801],      dtype=float32)\n",
       " ,\n",
       " # jax.Array int32(30,) [≥507, ≤28_260] nonzero:30\n",
       "   Array([ 9157, 23723, 19580,  1112,   507, 14154, 16983, 13869, 11386,\n",
       "          28260,  7525, 14214, 16736, 11958, 23598, 19827, 23808, 25169,\n",
       "           1626,  3310, 11506, 14220, 15223,  6282,  9387, 23657, 21048,\n",
       "           1727, 21623, 23036], dtype=int32)\n",
       " ]"
      ]
     },
     "execution_count": 38,
     "metadata": {},
     "output_type": "execute_result"
    }
   ],
   "source": [
    "jax.lax.top_k(ies, 30)"
   ]
  },
  {
   "cell_type": "code",
   "execution_count": 96,
   "metadata": {},
   "outputs": [],
   "source": []
  },
  {
   "cell_type": "code",
   "execution_count": 97,
   "metadata": {},
   "outputs": [
    {
     "data": {
      "application/vnd.jupyter.widget-view+json": {
       "model_id": "384a97ba8cfb4cf48228396a40359b73",
       "version_major": 2,
       "version_minor": 0
      },
      "text/plain": [
       "  0%|          | 0/10 [00:00<?, ?it/s]"
      ]
     },
     "metadata": {},
     "output_type": "display_data"
    },
    {
     "ename": "ValueError",
     "evalue": "Selection.get() can only be called on selections with one selected element, but there were 0. Consider using .selected_by_path instead.",
     "output_type": "error",
     "traceback": [
      "\u001b[0;31m---------------------------------------------------------------------------\u001b[0m",
      "\u001b[0;31mValueError\u001b[0m                                Traceback (most recent call last)",
      "Cell \u001b[0;32mIn[97], line 6\u001b[0m\n\u001b[1;32m      4\u001b[0m ablated_metrics \u001b[38;5;241m=\u001b[39m []\n\u001b[1;32m      5\u001b[0m \u001b[38;5;28;01mfor\u001b[39;00m threshold \u001b[38;5;129;01min\u001b[39;00m tqdm(thresholds):\n\u001b[0;32m----> 6\u001b[0m     abl_met, n_nodes \u001b[38;5;241m=\u001b[39m \u001b[43mablate_nodes\u001b[49m\u001b[43m(\u001b[49m\u001b[43mthreshold\u001b[49m\u001b[43m,\u001b[49m\u001b[43m \u001b[49m\u001b[43mllama\u001b[49m\u001b[43m)\u001b[49m\n\u001b[1;32m      7\u001b[0m     ablated_metrics\u001b[38;5;241m.\u001b[39mappend(\u001b[38;5;28mfloat\u001b[39m(abl_met))\n\u001b[1;32m      8\u001b[0m     n_nodes_counts\u001b[38;5;241m.\u001b[39mappend(\u001b[38;5;28mint\u001b[39m(n_nodes))\n",
      "    \u001b[0;31m[... skipping hidden 11 frame]\u001b[0m\n",
      "Cell \u001b[0;32mIn[96], line 57\u001b[0m, in \u001b[0;36mablate_nodes\u001b[0;34m(threshold, llama)\u001b[0m\n\u001b[1;32m     54\u001b[0m         \u001b[38;5;28;01mpass\u001b[39;00m\n\u001b[1;32m     55\u001b[0m     \u001b[38;5;28;01mreturn\u001b[39;00m block, n_nodes_attn \u001b[38;5;241m+\u001b[39m n_nodes_mlp\n\u001b[0;32m---> 57\u001b[0m block, n_new_nodes \u001b[38;5;241m=\u001b[39m converter(\u001b[43mblock_selection\u001b[49m\u001b[38;5;241;43m.\u001b[39;49m\u001b[43mget\u001b[49m\u001b[43m(\u001b[49m\u001b[43m)\u001b[49m)\n\u001b[1;32m     58\u001b[0m n_nodes \u001b[38;5;241m+\u001b[39m\u001b[38;5;241m=\u001b[39m n_new_nodes\n\u001b[1;32m     59\u001b[0m llama_ablated \u001b[38;5;241m=\u001b[39m block_selection\u001b[38;5;241m.\u001b[39mapply(\u001b[38;5;28;01mlambda\u001b[39;00m x: block)\n",
      "File \u001b[0;32m~/.cache/pypoetry/virtualenvs/micrlhf-progress-_SD4q1c9-py3.12/lib/python3.12/site-packages/penzai/core/selectors.py:237\u001b[0m, in \u001b[0;36mSelection.get\u001b[0;34m(self)\u001b[0m\n\u001b[1;32m    228\u001b[0m \u001b[38;5;250m\u001b[39m\u001b[38;5;124;03m\"\"\"Returns the result of a singleton selection.\u001b[39;00m\n\u001b[1;32m    229\u001b[0m \n\u001b[1;32m    230\u001b[0m \u001b[38;5;124;03mReturns:\u001b[39;00m\n\u001b[0;32m   (...)\u001b[0m\n\u001b[1;32m    234\u001b[0m \u001b[38;5;124;03m  ValueError: If this selection does not have exactly one selected subtree.\u001b[39;00m\n\u001b[1;32m    235\u001b[0m \u001b[38;5;124;03m\"\"\"\u001b[39;00m\n\u001b[1;32m    236\u001b[0m \u001b[38;5;28;01mif\u001b[39;00m \u001b[38;5;28mlen\u001b[39m(\u001b[38;5;28mself\u001b[39m\u001b[38;5;241m.\u001b[39mselected_by_path) \u001b[38;5;241m!=\u001b[39m \u001b[38;5;241m1\u001b[39m:\n\u001b[0;32m--> 237\u001b[0m   \u001b[38;5;28;01mraise\u001b[39;00m \u001b[38;5;167;01mValueError\u001b[39;00m(\n\u001b[1;32m    238\u001b[0m       \u001b[38;5;124m\"\u001b[39m\u001b[38;5;124mSelection.get() can only be called on selections with one selected\u001b[39m\u001b[38;5;124m\"\u001b[39m\n\u001b[1;32m    239\u001b[0m       \u001b[38;5;124mf\u001b[39m\u001b[38;5;124m\"\u001b[39m\u001b[38;5;124m element, but there were \u001b[39m\u001b[38;5;132;01m{\u001b[39;00m\u001b[38;5;28mlen\u001b[39m(\u001b[38;5;28mself\u001b[39m\u001b[38;5;241m.\u001b[39mselected_by_path)\u001b[38;5;132;01m}\u001b[39;00m\u001b[38;5;124m. Consider\u001b[39m\u001b[38;5;124m\"\u001b[39m\n\u001b[1;32m    240\u001b[0m       \u001b[38;5;124m\"\u001b[39m\u001b[38;5;124m using .selected_by_path instead.\u001b[39m\u001b[38;5;124m\"\u001b[39m\n\u001b[1;32m    241\u001b[0m   )\n\u001b[1;32m    243\u001b[0m (value,) \u001b[38;5;241m=\u001b[39m \u001b[38;5;28mself\u001b[39m\u001b[38;5;241m.\u001b[39mselected_by_path\u001b[38;5;241m.\u001b[39mvalues()\n\u001b[1;32m    244\u001b[0m \u001b[38;5;28;01mreturn\u001b[39;00m value\n",
      "\u001b[0;31mValueError\u001b[0m: Selection.get() can only be called on selections with one selected element, but there were 0. Consider using .selected_by_path instead."
     ]
    }
   ],
   "source": []
  },
  {
   "cell_type": "code",
   "execution_count": null,
   "metadata": {},
   "outputs": [],
   "source": []
  },
  {
   "cell_type": "code",
   "execution_count": null,
   "metadata": {},
   "outputs": [],
   "source": []
  },
  {
   "cell_type": "code",
   "execution_count": 93,
   "metadata": {},
   "outputs": [
    {
     "data": {
      "text/html": [
       "<div id=\"output_1a81b1abdca44406a52cb3269c51f3e8\"><script> /* penzai.treescope rendering of a Python object (compressed) */ (()=>{ let observer; let lastStep = new Promise((resolve, reject) => { observer = new IntersectionObserver((entries) => { for (const entry of entries) { if (entry.isIntersecting) { resolve(); observer.disconnect(); return; } } }, {rootMargin: \"1000px\"}); }); window.treescope_decompress_enqueue = (encoded, destId) => { const previous = lastStep; const destElt = document.getElementById(destId); lastStep = (async () => { await previous; let blob = new Blob([ Uint8Array.from(atob(encoded), (m) => m.codePointAt(0)) ]); let reader = blob.stream().pipeThrough( new DecompressionStream(\"deflate\") ).pipeThrough( new TextDecoderStream(\"utf-8\") ).getReader(); let parts = []; while (true) { let step = await reader.read(); if (step.done) { break; } parts.push(step.value); } let newElt = document.createElement(\"div\"); newElt.innerHTML = parts.join(\"\"); destElt.parentNode.replaceChild(newElt, destElt); for (let oldScript of newElt.querySelectorAll(\"script\")) { let newScript = document.createElement(\"script\"); newScript.type = oldScript.type; newScript.textContent = oldScript.textContent; oldScript.parentNode.replaceChild(newScript, oldScript); } })(); requestAnimationFrame(() => { observer.observe(destElt); }); } })(); </script><div id=\"compress_html_65ca75a40974431aa2df3a63510c5ee8\"><script>window.treescope_decompress_enqueue(\"eNqVVVlv2zgQ/itTLVDIRaUcbZLWtgwEPbAPRV9aYB8WC4GWRhZhilTJUVxv4f/eIWU5cuJus/CDPMM5vrnnjrYKFylZRFeYFnNrDMEPaI2TJI2egkUlSN7hDCqjKalEI9V2Co3RxrWiYP6mloRJIKbQWuYo6SgJphPatszVRjN7KYr1yppOl0lhlLHTXnUGe2qpWIDtyZLqKVSSWEwTappBI+xK6kRhRVO4LGrvQ2NSo1zVzLlIr2awm5/14cxdYWVLC5AVxBupS7O5jxCyLAOGgBUbKCcc62MJ+LGbPWKneYu6lHp1W/jMOBb7+5/fiv0pdKm8Sd0pdUJ6hZQ/yH4G8ZD0nMwEsgWDPHsBn4xZcxEsUI0QJLUpMYUXZ6CQYK87Ug2lYedx//Ysg9IUXcMJTZem3MLz5/DMv6SFEs594qKlPuFCahdHx6CiCfhUDT68UissW/qgsAkV2rFn6qwOj0yeiNV2+osx2ge4MXa9j4xdOmJkfzHLPx2xSRae2aLlwBuhC0y12cSTQ2iPXiDplebw6tJDPtUDD0uZKtQrqrk14PxUR/x3Tfu4fQZQObyHXnfaY/+tc1fLinxIQcP/2fHvqRjiQdLitw4d3WrZCC/x0YoG4z6vk8npijyE0nau7msze0riBhBZn4r/k7qnwz4JHDVrdfgeK7QWy6/YtNz26B43UKs889D4rGa3X1BhQcbeKsWNvtcdL8FO5447NZrMwsDFfr7YEpgqGPSB8nc0NxYbc4dHUzOy8atJiAes3n5lzb/ohyNY7hffMdw46hebN+k1mBqHVljkMPYDOZblf6nfwyzcOwnUno/f6V3vbPR8z5wFOP2sf/brxiJnq8B3PH5lzBZeegFfp1/Wisxqpfo1koftTwwsbDnmoKKXgHdsfZ8K33aBTte49RMZ2WhYPSw8ynlvN44ONvOGAUYDjh3wPegPwbyUdxAUs4d7DUgsGTB+z6LzCIxmp4xej+RO44+plm5AHvHJ6Q9puGS57pol2tCD4bD9cf72zcXV9dGJaoUeINVcDcv3bJ0TnzlkUKUgkTCUVlCdRdGx+NhHtLhJby6vr9+8vro5f3VxecUOWHRx+HDkh3v45CmKJ4fU/QSoc+h4\", \"compress_html_65ca75a40974431aa2df3a63510c5ee8\");</script><span style=\"color: #aaaaaa; font-family: monospace\">(Loading...)</span></div></div>"
      ],
      "text/plain": [
       "<IPython.core.display.HTML object>"
      ]
     },
     "metadata": {},
     "output_type": "display_data"
    },
    {
     "data": {
      "text/html": [
       "<div id=\"output_dest_1a81b1abdca44406a52cb3269c51f3e8\"><script> (()=>{ const output = document.getElementById(\"output_1a81b1abdca44406a52cb3269c51f3e8\"); const dest = document.getElementById(\"output_dest_1a81b1abdca44406a52cb3269c51f3e8\"); dest.parentNode.replaceChild(output, dest); })(); </script></div>"
      ],
      "text/plain": [
       "7.7266845703125"
      ]
     },
     "execution_count": 93,
     "metadata": {},
     "output_type": "execute_result"
    }
   ],
   "source": [
    "float(ablated_metric(llama))"
   ]
  },
  {
   "cell_type": "code",
   "execution_count": 90,
   "metadata": {},
   "outputs": [
    {
     "data": {
      "text/html": [
       "<div id=\"output_537a810ef6824c1bae60e9c306124cc6\"><script> /* penzai.treescope rendering of a Python object (compressed) */ (()=>{ let observer; let lastStep = new Promise((resolve, reject) => { observer = new IntersectionObserver((entries) => { for (const entry of entries) { if (entry.isIntersecting) { resolve(); observer.disconnect(); return; } } }, {rootMargin: \"1000px\"}); }); window.treescope_decompress_enqueue = (encoded, destId) => { const previous = lastStep; const destElt = document.getElementById(destId); lastStep = (async () => { await previous; let blob = new Blob([ Uint8Array.from(atob(encoded), (m) => m.codePointAt(0)) ]); let reader = blob.stream().pipeThrough( new DecompressionStream(\"deflate\") ).pipeThrough( new TextDecoderStream(\"utf-8\") ).getReader(); let parts = []; while (true) { let step = await reader.read(); if (step.done) { break; } parts.push(step.value); } let newElt = document.createElement(\"div\"); newElt.innerHTML = parts.join(\"\"); destElt.parentNode.replaceChild(newElt, destElt); for (let oldScript of newElt.querySelectorAll(\"script\")) { let newScript = document.createElement(\"script\"); newScript.type = oldScript.type; newScript.textContent = oldScript.textContent; oldScript.parentNode.replaceChild(newScript, oldScript); } })(); requestAnimationFrame(() => { observer.observe(destElt); }); } })(); </script><div id=\"compress_html_0fd89ba6c17a473c88de148b4a559a33\"><script>window.treescope_decompress_enqueue(\"eNqVVUuP2zYQ/isTFQjkINLupkjR2paBRdqihyCXFMghKARaGlmEKVIhR+s4gf97hqTllXedZgMfZM7zm/fS0V7hKieL6CrTY2mNIfgKvXGSpNFzsKgEyTtcQGM0ZY3opNrPoTPauF5UTN+1kjALjzn0lilKOsqC6Yz2PVO10Uxei2q7sWbQdVYZZew8qi7g+ForFmB7sqZ2Do0kFtOEmhbQCbuROlPY0BxeVa33oTFrUW5aptzkrxdwWF7FcJausrKnFcgG0p3UtdndRwhFUQBDwIYN1DOO9bEEfD0sHpHzskddS725rXxmHIt9/O+HYv8IXStvUg9KXZDeIJUPsl9AOia9JDODYsUgr17AW2O2XAQL1CIESW1qzOHFFSgkOOpOVENp2Hkaec8KqE01dJzQfG3qPTx/Ds88J6+UcO4tFy33CRdSuzQ5B5XMwKdq9OGVemHZ0l8Ku1ChA3umwerA5OeFWO2g3xujfYA7Y7fHyNilI0b2gUmedUYmWXlij5YD74SuMNdml85OoT3iQBaVlvDrKw/5Ug88LGWuUG+o5daA60sd8f81jXH7DKByeA+9HbTH/kPnrpUN+ZCChv9z4N9TMaSjpMVPAzq61bITXuJvKzpMY15ns8sVeQilH1wba7N4SuJGEEVMxc+k7umwLwJHzVoD/okNWov1v9j13PboHjdQrzzx1PisZvfvUWFFxt4qxY1+1J0uwUGXjjs1mS3CwKV+vtgSmCYY9IHydzI3Fjtzh2dTM7HxvUlIR6zefmPNF/TDESzHxXcON03iYvMmvQa/pqFVFjmM40BOZflf7vcwC0cn4XWk42d6E51N2PfERYATZ/2dXzcWOVsVvuHxq1O28NIL+Dp9t1ZkNhsV10gZtj8xsLDlmIKKXgLesfVjKnzbhXe+xb2fyMQm4+ph4UnOo900OdksOwaYjDgOwPcgHoJlLe8gKBYP9xqQWDNg/Fwk1wkYzU4ZvZ7IXcafUivdiDzhkxMPabhkpR66NdrQg+Gw/XL9x+83r387O1G90COklqth+Z5tS+IzhwyqFiQyhtILaoskORef+khWN2ySmavTh2M9XcAnz006OyXrG7+f5Zw=\", \"compress_html_0fd89ba6c17a473c88de148b4a559a33\");</script><span style=\"color: #aaaaaa; font-family: monospace\">(Loading...)</span></div></div>"
      ],
      "text/plain": [
       "<IPython.core.display.HTML object>"
      ]
     },
     "metadata": {},
     "output_type": "display_data"
    },
    {
     "data": {
      "text/html": [
       "<div id=\"output_dest_537a810ef6824c1bae60e9c306124cc6\"><script> (()=>{ const output = document.getElementById(\"output_537a810ef6824c1bae60e9c306124cc6\"); const dest = document.getElementById(\"output_dest_537a810ef6824c1bae60e9c306124cc6\"); dest.parentNode.replaceChild(output, dest); })(); </script></div>"
      ],
      "text/plain": [
       "1"
      ]
     },
     "execution_count": 90,
     "metadata": {},
     "output_type": "execute_result"
    }
   ],
   "source": [
    "r = 0\n",
    "for k, v in masks.items():\n",
    "    r = r + v\n",
    "int(r.max())"
   ]
  },
  {
   "cell_type": "code",
   "execution_count": null,
   "metadata": {},
   "outputs": [],
   "source": [
    "def run_with_ablation(ablation_mask):\n",
    "    "
   ]
  }
 ],
 "metadata": {
  "kernelspec": {
   "display_name": "micrlhf-progress-_SD4q1c9-py3.12",
   "language": "python",
   "name": "python3"
  },
  "language_info": {
   "codemirror_mode": {
    "name": "ipython",
    "version": 3
   },
   "file_extension": ".py",
   "mimetype": "text/x-python",
   "name": "python",
   "nbconvert_exporter": "python",
   "pygments_lexer": "ipython3",
   "version": "3.12.0"
  }
 },
 "nbformat": 4,
 "nbformat_minor": 2
}
