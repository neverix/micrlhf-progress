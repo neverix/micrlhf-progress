{
 "cells": [
  {
   "cell_type": "code",
   "execution_count": 1,
   "metadata": {},
   "outputs": [],
   "source": [
    "import os\n",
    "if \"models\" not in os.listdir(\".\"):\n",
    "    os.chdir(\"../..\")"
   ]
  },
  {
   "cell_type": "code",
   "execution_count": 2,
   "metadata": {},
   "outputs": [],
   "source": [
    "%load_ext autoreload\n",
    "%autoreload 2\n",
    "import penzai\n",
    "import jax_smi\n",
    "jax_smi.initialise_tracking()\n",
    "from penzai import pz\n",
    "pz.ts.register_as_default()\n",
    "pz.ts.register_autovisualize_magic()\n",
    "pz.enable_interactive_context()"
   ]
  },
  {
   "cell_type": "code",
   "execution_count": 3,
   "metadata": {},
   "outputs": [],
   "source": [
    "from micrlhf.llama import LlamaTransformer\n",
    "llama = LlamaTransformer.from_pretrained(\"models/gemma-2b-it.gguf\", from_type=\"gemma\", load_eager=True, device_map=\"tpu:0\")"
   ]
  },
  {
   "cell_type": "code",
   "execution_count": 4,
   "metadata": {},
   "outputs": [],
   "source": [
    "from transformers import AutoTokenizer\n",
    "tokenizer = AutoTokenizer.from_pretrained(\"alpindale/gemma-2b\")\n",
    "tokenizer.padding_side = \"right\""
   ]
  },
  {
   "cell_type": "code",
   "execution_count": 5,
   "metadata": {},
   "outputs": [],
   "source": [
    "from sprint.task_vector_utils import load_tasks, ICLRunner\n",
    "tasks = load_tasks()"
   ]
  },
  {
   "cell_type": "code",
   "execution_count": 6,
   "metadata": {},
   "outputs": [
    {
     "name": "stdout",
     "output_type": "stream",
     "text": [
      "763\n",
      "346\n"
     ]
    }
   ],
   "source": [
    "def check_if_single_token(token):\n",
    "    return len(tokenizer.tokenize(token)) == 1\n",
    "\n",
    "task_name = \"es_en\"\n",
    "\n",
    "task = tasks[task_name]\n",
    "\n",
    "print(len(task))\n",
    "\n",
    "task = {\n",
    "    k:v for k,v in task.items() if check_if_single_token(k) and check_if_single_token(v)\n",
    "}\n",
    "\n",
    "print(len(task))\n",
    "\n",
    "pairs = list(task.items())"
   ]
  },
  {
   "cell_type": "code",
   "execution_count": 7,
   "metadata": {},
   "outputs": [],
   "source": [
    "from sprint.task_vector_utils import logprob_loss\n",
    "from functools import partial\n",
    "\n",
    "sep = 3978\n",
    "pad = 0\n",
    "\n",
    "def metric_fn(logits, resids, tokens):\n",
    "    return logprob_loss(logits, tokens, sep=sep, pad_token=pad, n_first=2)"
   ]
  },
  {
   "cell_type": "code",
   "execution_count": 8,
   "metadata": {},
   "outputs": [],
   "source": [
    "from micrlhf.llama import LlamaBlock, LlamaAttention\n",
    "from micrlhf.utils.activation_manipulation import ActivationAddition, wrap_vector\n",
    "from functools import partial\n",
    "import jax.numpy as jnp\n",
    "from penzai import pz\n",
    "import jax\n",
    "\n",
    "@partial(jax.jit, static_argnames=(\"metric\", \"batched\"))\n",
    "def run_with_add(additions_pre, additions_mid, tokens, metric, batched=False, llama=None):\n",
    "    get_resids = llama.select().at_instances_of(LlamaBlock).apply_with_selected_index(lambda i, x:\n",
    "        pz.nn.Sequential([\n",
    "            pz.de.TellIntermediate.from_config(tag=f\"resid_pre_{i}\"),\n",
    "            x\n",
    "        ])\n",
    "    )\n",
    "    get_resids = get_resids.select().at_instances_of(LlamaBlock).apply_with_selected_index(lambda l, b: b.select().at_instances_of(pz.nn.Residual).apply_with_selected_index(lambda i, x: x if i == 0 else pz.nn.Sequential([\n",
    "        pz.de.TellIntermediate.from_config(tag=f\"resid_mid_{l}\"),\n",
    "        x,\n",
    "    ])))\n",
    "\n",
    "\n",
    "    get_resids = get_resids.select().at_instances_of(LlamaAttention).apply_with_selected_index(lambda i, x: x.select().at_instances_of(pz.nn.Softmax).apply(lambda b: pz.nn.Sequential([\n",
    "        b,\n",
    "        pz.de.TellIntermediate.from_config(tag=f\"attn_{i}\"),\n",
    "    ])))\n",
    "\n",
    "    get_resids = pz.de.CollectingSideOutputs.handling(get_resids, tag_predicate=lambda x: True)\n",
    "    make_additions = get_resids.select().at_instances_of(LlamaBlock).apply_with_selected_index(lambda i, x:\n",
    "        pz.nn.Sequential([\n",
    "            ActivationAddition(pz.nx.wrap(additions_pre[i], *((\"batch\",) if batched else ()), \"seq\", \"embedding\"), \"all\"),\n",
    "            x\n",
    "        ])\n",
    "    )\n",
    "    make_additions = make_additions.select().at_instances_of(LlamaBlock).apply_with_selected_index(lambda l, b: b.select().at_instances_of(pz.nn.Residual).apply_with_selected_index(lambda i, x: x if i == 0 else pz.nn.Sequential([\n",
    "        ActivationAddition(pz.nx.wrap(additions_mid[l], *((\"batch\",) if batched else ()), \"seq\", \"embedding\"), \"all\"),\n",
    "        x,\n",
    "    ])))\n",
    "    tokens_wrapped = pz.nx.wrap(tokens, \"batch\", \"seq\")\n",
    "    logits, resids = make_additions(llama.inputs.from_basic_segments(tokens_wrapped))\n",
    "    return metric(logits.unwrap(\"batch\", \"seq\", \"vocabulary\"), resids, tokens), (logits, resids[::3], resids[1::3], resids[2::3])\n",
    "\n",
    "\n",
    "@partial(jax.jit, static_argnames=(\"metric\",))\n",
    "def get_metric_resid_grad(tokens, llama=llama, metric=metric_fn):\n",
    "    additions = [jnp.zeros(tokens.shape + (llama.config.hidden_size,)) for _ in range(llama.config.num_layers)]\n",
    "    batched = tokens.ndim > 1\n",
    "    (metric, (logits, resids_pre, qk, resids_mid)), (grad_pre, grad_mid) = jax.value_and_grad(run_with_add, argnums=(0, 1), has_aux=True)(additions, additions, tokens, metric, batched=batched, llama=llama)\n",
    "    return (\n",
    "        metric,\n",
    "        [r.value.unwrap(\"batch\", \"seq\", \"embedding\") for r in resids_pre],\n",
    "        [r.value.unwrap(\"batch\", \"seq\", \"embedding\") for r in resids_mid],\n",
    "        [r.value.unwrap(\"batch\", \"kv_heads\", \"q_rep\", \"seq\", \"kv_seq\") for r in qk],\n",
    "        grad_pre,\n",
    "        grad_mid\n",
    "    )\n"
   ]
  },
  {
   "cell_type": "code",
   "execution_count": 9,
   "metadata": {},
   "outputs": [],
   "source": [
    "batch_size = 8 \n",
    "n_shot=20\n",
    "max_seq_len = 128\n",
    "seed = 10"
   ]
  },
  {
   "cell_type": "code",
   "execution_count": 37,
   "metadata": {},
   "outputs": [],
   "source": [
    "prompt = \"Follow the pattern:\\n{}\""
   ]
  },
  {
   "cell_type": "code",
   "execution_count": 26,
   "metadata": {},
   "outputs": [],
   "source": [
    "runner = ICLRunner(task_name, pairs, batch_size=batch_size, n_shot=n_shot, max_seq_len=max_seq_len, seed=seed, prompt=prompt)"
   ]
  },
  {
   "cell_type": "code",
   "execution_count": 27,
   "metadata": {},
   "outputs": [],
   "source": [
    "from sprint.task_vector_utils import tokenized_to_inputs\n",
    "\n",
    "train_tokens = runner.get_tokens(\n",
    "    runner.train_pairs, tokenizer\n",
    ")[\"input_ids\"]"
   ]
  },
  {
   "cell_type": "code",
   "execution_count": 30,
   "metadata": {},
   "outputs": [],
   "source": [
    "metric_value, resids_pre, resids_mid, qk, grad_pre, grad_mid = get_metric_resid_grad(train_tokens, llama=llama)"
   ]
  },
  {
   "cell_type": "code",
   "execution_count": 31,
   "metadata": {},
   "outputs": [],
   "source": [
    "from micrlhf.utils.load_sae import get_nev_it_sae_suite"
   ]
  },
  {
   "cell_type": "code",
   "execution_count": 32,
   "metadata": {},
   "outputs": [],
   "source": [
    "layer = 12"
   ]
  },
  {
   "cell_type": "code",
   "execution_count": 33,
   "metadata": {},
   "outputs": [],
   "source": [
    "sae = get_nev_it_sae_suite(layer=layer)"
   ]
  },
  {
   "cell_type": "code",
   "execution_count": 34,
   "metadata": {},
   "outputs": [],
   "source": [
    "def weights_to_resid(weights, sae):\n",
    "    if \"s_gate\" in sae:\n",
    "        weights = (weights > 0) * jax.nn.relu(weights * jax.nn.softplus(sae[\"s_gate\"]) * sae.get(\"scaling_factor\", 1.0) + sae[\"b_gate\"])   \n",
    "    else:\n",
    "        weights = jax.nn.relu(weights)\n",
    "\n",
    "    recon = jnp.einsum(\"fv,bsf->bsv\", sae[\"W_dec\"], weights)\n",
    "\n",
    "    if \"norm_factor\" in sae:\n",
    "        recon = recon / sae[\"norm_factor\"]\n",
    "\n",
    "    # recon = recon.astype('bfloat16')\n",
    "    return recon"
   ]
  },
  {
   "cell_type": "code",
   "execution_count": 35,
   "metadata": {},
   "outputs": [],
   "source": [
    "from micrlhf.utils.load_sae import sae_encode_gated"
   ]
  },
  {
   "cell_type": "code",
   "execution_count": 64,
   "metadata": {},
   "outputs": [
    {
     "data": {
      "application/vnd.jupyter.widget-view+json": {
       "model_id": "bbc1f939abd9460fa48e2cfb2ce402fc",
       "version_major": 2,
       "version_minor": 0
      },
      "text/plain": [
       "  0%|          | 0/11 [00:00<?, ?it/s]"
      ]
     },
     "metadata": {},
     "output_type": "display_data"
    },
    {
     "data": {
      "application/vnd.jupyter.widget-view+json": {
       "model_id": "6e2476c30c38497fbf6fefebd7820dcd",
       "version_major": 2,
       "version_minor": 0
      },
      "text/plain": [
       "  0%|          | 0/11 [00:00<?, ?it/s]"
      ]
     },
     "metadata": {},
     "output_type": "display_data"
    },
    {
     "data": {
      "application/vnd.jupyter.widget-view+json": {
       "model_id": "61077a1a50d349b18a1b532191c2d1c3",
       "version_major": 2,
       "version_minor": 0
      },
      "text/plain": [
       "  0%|          | 0/10 [00:00<?, ?it/s]"
      ]
     },
     "metadata": {},
     "output_type": "display_data"
    }
   ],
   "source": [
    "from tqdm.auto import tqdm\n",
    "\n",
    "ie_attn = {}\n",
    "ie_resid = {}\n",
    "ie_transcoder = {}\n",
    "\n",
    "ie_error_attn = {}\n",
    "ie_error_resid = {}\n",
    "ie_error_transcoder = {}\n",
    "\n",
    "def sfc_simple(grad, resid, target, sae):\n",
    "    pre_relu, post_relu, recon = sae_encode_gated(sae, resid)\n",
    "    error = target - recon\n",
    "    f = partial(weights_to_resid, sae=sae)\n",
    "\n",
    "    sae_grad, = jax.vjp(f, post_relu)[1](grad,)\n",
    "    indirect_effects = sae_grad * post_relu\n",
    "    indirect_effects_error = grad * error\n",
    "    return indirect_effects, indirect_effects_error\n",
    "\n",
    "layers = list(range(6, 17))\n",
    "for layer in tqdm(layers):\n",
    "    r_pre, r_mid, g_mid = resids_pre[layer], resids_mid[layer], grad_mid[layer]\n",
    "    sae = get_nev_it_sae_suite(layer=layer, label=\"attn_out\")\n",
    "    indirect_effects, indirect_effects_error = sfc_simple(g_mid, r_mid - r_pre, r_mid - r_pre, sae)\n",
    "    # display((indirect_effects > 0).sum(-1))\n",
    "    ie_attn[layer] = indirect_effects\n",
    "    ie_error_attn[layer] = indirect_effects_error\n",
    "\n",
    "# for layer, (r_pre, g_pre) in enumerate(zip(resids_pre, grad_pre)):\n",
    "for layer in tqdm(layers):\n",
    "    r_pre, g_pre = resids_pre[layer], grad_pre[layer + 1]\n",
    "    sae = get_nev_it_sae_suite(layer=layer)\n",
    "    indirect_effects, indirect_effects_error = sfc_simple(g_pre, r_pre, r_pre, sae)\n",
    "    # display((indirect_effects != 0).sum(-1))\n",
    "    ie_resid[layer] = indirect_effects\n",
    "    ie_error_resid[layer] = indirect_effects_error\n",
    "\n",
    "for layer in tqdm(layers[:-1]):\n",
    "    r_mid, r_pre, g_pre = resids_mid[layer], resids_pre[layer + 1], grad_pre[layer + 1]\n",
    "    sae = get_nev_it_sae_suite(layer=layer, label=\"transcoder\")\n",
    "    indirect_effects, indirect_effects_error = sfc_simple(g_pre, r_mid, r_pre, sae)\n",
    "    # display((indirect_effects != 0).sum(-1))\n",
    "    ie_transcoder[layer] = indirect_effects\n",
    "    ie_error_transcoder[layer] = indirect_effects_error"
   ]
  },
  {
   "cell_type": "code",
   "execution_count": 53,
   "metadata": {},
   "outputs": [],
   "source": [
    "prompt_length = len(tokenizer.tokenize(prompt))\n",
    "periods = [\"input\", \"arrow\", \"output\", \"newline\"]\n",
    "masks = {\n",
    "    \"prompt\": jnp.zeros_like(train_tokens).at[:, :prompt_length].set(1).astype(bool),\n",
    "    **{\n",
    "        period: jnp.zeros_like(train_tokens).at[:, prompt_length+i::len(periods)].set(1).astype(bool) * (train_tokens != pad) for i, period in enumerate(periods)\n",
    "    }\n",
    "}"
   ]
  },
  {
   "cell_type": "code",
   "execution_count": 59,
   "metadata": {},
   "outputs": [
    {
     "data": {
      "text/html": [
       "<div id=\"output_96bd3122bbec42fda398659b0780bb9c\"><script> /* penzai.treescope rendering of a Python object (compressed) */ (()=>{ let observer; let lastStep = new Promise((resolve, reject) => { observer = new IntersectionObserver((entries) => { for (const entry of entries) { if (entry.isIntersecting) { resolve(); observer.disconnect(); return; } } }, {rootMargin: \"1000px\"}); }); window.treescope_decompress_enqueue = (encoded, destId) => { const previous = lastStep; const destElt = document.getElementById(destId); lastStep = (async () => { await previous; let blob = new Blob([ Uint8Array.from(atob(encoded), (m) => m.codePointAt(0)) ]); let reader = blob.stream().pipeThrough( new DecompressionStream(\"deflate\") ).pipeThrough( new TextDecoderStream(\"utf-8\") ).getReader(); let parts = []; while (true) { let step = await reader.read(); if (step.done) { break; } parts.push(step.value); } let newElt = document.createElement(\"div\"); newElt.innerHTML = parts.join(\"\"); destElt.parentNode.replaceChild(newElt, destElt); for (let oldScript of newElt.querySelectorAll(\"script\")) { let newScript = document.createElement(\"script\"); newScript.type = oldScript.type; newScript.textContent = oldScript.textContent; oldScript.parentNode.replaceChild(newScript, oldScript); } })(); requestAnimationFrame(() => { observer.observe(destElt); }); } })(); </script><div id=\"compress_html_ee6c681e67d646fe94cbb28c4c16065a\"><script>window.treescope_decompress_enqueue(\"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\", \"compress_html_ee6c681e67d646fe94cbb28c4c16065a\");</script><span style=\"color: #aaaaaa; font-family: monospace\">(Loading...)</span></div></div>"
      ],
      "text/plain": [
       "<IPython.core.display.HTML object>"
      ]
     },
     "metadata": {},
     "output_type": "display_data"
    },
    {
     "data": {
      "text/html": [
       "<div id=\"compress_html_535fcef4c9674bed88c1d7b4f0e7c61e\"><script>window.treescope_decompress_enqueue(\"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\", \"compress_html_535fcef4c9674bed88c1d7b4f0e7c61e\");</script></div>"
      ],
      "text/plain": [
       "<IPython.core.display.HTML object>"
      ]
     },
     "metadata": {},
     "output_type": "display_data"
    },
    {
     "data": {
      "text/html": [
       "<div id=\"output_dest_96bd3122bbec42fda398659b0780bb9c\"><script> (()=>{ const output = document.getElementById(\"output_96bd3122bbec42fda398659b0780bb9c\"); const dest = document.getElementById(\"output_dest_96bd3122bbec42fda398659b0780bb9c\"); dest.parentNode.replaceChild(output, dest); })(); </script></div>"
      ],
      "text/plain": [
       "{'prompt': [# jax.Array float32(64,) ≈8.9e-06 ±1.5e-05 [≥1.3e-06, ≤7.7e-05] nonzero:64\n",
       "    Array([7.71635023e-05, 7.16703726e-05, 4.67821083e-05, 3.87677028e-05,\n",
       "           3.71553615e-05, 2.33888622e-05, 1.80917632e-05, 1.16701285e-05,\n",
       "           1.13662600e-05, 1.11477539e-05, 9.89903037e-06, 9.62063677e-06,\n",
       "           9.42581573e-06, 9.36959896e-06, 8.78927676e-06, 8.71421526e-06,\n",
       "           8.24398103e-06, 7.48182993e-06, 7.47837021e-06, 7.40456153e-06,\n",
       "           7.25703421e-06, 7.02204761e-06, 6.44178181e-06, 6.28425960e-06,\n",
       "           6.21455001e-06, 5.48434173e-06, 5.45412695e-06, 5.30116813e-06,\n",
       "           5.07138520e-06, 4.43589488e-06, 4.16759940e-06, 4.00389763e-06,\n",
       "           3.94163681e-06, 3.67492885e-06, 3.55562338e-06, 3.29629302e-06,\n",
       "           3.24763005e-06, 3.06661241e-06, 2.87246303e-06, 2.80252743e-06,\n",
       "           2.55035707e-06, 2.50999051e-06, 2.43364116e-06, 2.38233497e-06,\n",
       "           2.28199610e-06, 2.22419317e-06, 2.18208083e-06, 2.16460649e-06,\n",
       "           2.15639920e-06, 1.98139332e-06, 1.93602841e-06, 1.89844343e-06,\n",
       "           1.83689872e-06, 1.78019843e-06, 1.74903255e-06, 1.66514553e-06,\n",
       "           1.65828408e-06, 1.59510114e-06, 1.54371685e-06, 1.45570584e-06,\n",
       "           1.37404118e-06, 1.35749076e-06, 1.35518292e-06, 1.32207526e-06],      dtype=float32)\n",
       "  ,\n",
       "  # jax.Array int32(64,) [≥288, ≤31_816] nonzero:64\n",
       "    Array([26908, 24884, 31316, 27225, 23001, 24176, 11898, 28246, 16564,\n",
       "           28244, 16682, 12601, 19813,  3478,  9186, 24799, 30404,  4825,\n",
       "           26140,  3097, 31606,  2350, 18879, 16370, 29211, 24631,  5623,\n",
       "           31427,  8825, 27699, 20709, 22039, 26734, 14727, 31816, 21308,\n",
       "            9914, 24936, 10850,  1379, 25595, 30819,  7015,   288,  9896,\n",
       "           20285, 28462,   716, 23106, 30735, 14780, 24114, 12653, 12272,\n",
       "            4265, 29969, 23606, 18357, 29825, 13508, 12956,  7377, 20898,\n",
       "            2064], dtype=int32)\n",
       "  ],\n",
       " 'input': [# jax.Array float32(64,) ≈5.1e-05 ±8.7e-05 [≥1.2e-05, ≤0.00066] nonzero:64\n",
       "    Array([6.6398986e-04, 1.8403497e-04, 1.5831170e-04, 1.4810490e-04,\n",
       "           1.3826501e-04, 1.0589224e-04, 9.3690964e-05, 9.3001348e-05,\n",
       "           9.2378315e-05, 9.2126080e-05, 8.6977358e-05, 8.3581617e-05,\n",
       "           8.3282153e-05, 7.2516668e-05, 6.6209162e-05, 5.4997825e-05,\n",
       "           5.0765153e-05, 4.9010043e-05, 4.5527922e-05, 3.6774651e-05,\n",
       "           3.2010721e-05, 3.1732339e-05, 3.1728719e-05, 2.7966780e-05,\n",
       "           2.7596101e-05, 2.5726422e-05, 2.5674008e-05, 2.4935638e-05,\n",
       "           2.4226525e-05, 2.3629516e-05, 2.3120703e-05, 2.2974320e-05,\n",
       "           2.2772056e-05, 2.2347111e-05, 2.1526106e-05, 2.1111711e-05,\n",
       "           2.0494193e-05, 2.0480000e-05, 1.9620231e-05, 1.8988265e-05,\n",
       "           1.8579287e-05, 1.8390436e-05, 1.7310269e-05, 1.7157152e-05,\n",
       "           1.7039085e-05, 1.7038561e-05, 1.6636446e-05, 1.5940561e-05,\n",
       "           1.5331789e-05, 1.4919287e-05, 1.4417552e-05, 1.4362228e-05,\n",
       "           1.4350079e-05, 1.4147059e-05, 1.4139234e-05, 1.3929453e-05,\n",
       "           1.3770119e-05, 1.3462327e-05, 1.3120892e-05, 1.2330558e-05,\n",
       "           1.2226375e-05, 1.2214146e-05, 1.2195540e-05, 1.2063870e-05],      dtype=float32)\n",
       "  ,\n",
       "  # jax.Array int32(64,) [≥46, ≤31_800] nonzero:64\n",
       "    Array([ 9049, 19293, 16969, 28738, 29964,  1388, 21942,  4338, 20768,\n",
       "           12941, 28488, 30927,  8749, 24348,    46,  4641, 27786,  7444,\n",
       "           11025,  5334, 13025, 10415, 31800, 13426, 26302, 23355,  4675,\n",
       "           22990,  6402,  4622,  7552,  3806, 12359,  9765, 25433, 24130,\n",
       "            2896, 12688, 17355, 24343, 16154, 28648,  2055, 18924, 13540,\n",
       "             773, 22500, 11374, 18010,  6322, 17541, 30153, 26287,  3388,\n",
       "           28175,  4502, 21344,  3365,  7804, 28941, 23690,  2697,  9831,\n",
       "           25003], dtype=int32)\n",
       "  ],\n",
       " 'arrow': [# jax.Array float32(64,) ≈7.6e-05 ±7e-05 [≥1.8e-05, ≤0.00042] nonzero:64\n",
       "    Array([4.17096162e-04, 2.71777128e-04, 2.44092604e-04, 1.91443847e-04,\n",
       "           1.79518087e-04, 1.76569563e-04, 1.70449086e-04, 1.68896557e-04,\n",
       "           1.36213479e-04, 1.33942624e-04, 1.26435087e-04, 1.20052202e-04,\n",
       "           1.10197565e-04, 1.06040425e-04, 9.52467162e-05, 9.04892368e-05,\n",
       "           8.66566843e-05, 7.68999525e-05, 7.65415170e-05, 7.63257340e-05,\n",
       "           7.08046427e-05, 6.84421320e-05, 6.69293877e-05, 6.66420747e-05,\n",
       "           6.56487391e-05, 6.20721694e-05, 6.13766460e-05, 6.13632656e-05,\n",
       "           5.84273221e-05, 5.83144538e-05, 5.80963024e-05, 5.58280299e-05,\n",
       "           5.56400919e-05, 5.52586280e-05, 5.48827011e-05, 5.23761519e-05,\n",
       "           4.51182023e-05, 4.31101726e-05, 4.26308434e-05, 3.91045287e-05,\n",
       "           3.87058935e-05, 3.65546584e-05, 3.63488507e-05, 3.55576667e-05,\n",
       "           3.49955990e-05, 3.48990361e-05, 3.43098145e-05, 3.31516676e-05,\n",
       "           3.24295434e-05, 3.12763041e-05, 2.93646535e-05, 2.83486224e-05,\n",
       "           2.77110139e-05, 2.76240626e-05, 2.62118829e-05, 2.58667442e-05,\n",
       "           2.52935679e-05, 2.43817885e-05, 2.28763383e-05, 2.21608407e-05,\n",
       "           2.16181343e-05, 1.91488507e-05, 1.90596711e-05, 1.76959111e-05],      dtype=float32)\n",
       "  ,\n",
       "  # jax.Array int32(64,) [≥281, ≤31_644] nonzero:64\n",
       "    Array([ 1481,  6402,  8426, 20768, 22035,  4260,  7722,  4234,  4338,\n",
       "           13025,  4754, 15973, 14073, 28350, 29133, 24460, 24348, 18413,\n",
       "           12626,  8378, 20168, 26006,  7751,  1900, 15428, 26643,  3217,\n",
       "           30783, 25543,  8211,  8389, 12411, 14245, 12764,  4161, 12688,\n",
       "            2183, 18488, 21344, 28488, 26215,   281, 11374, 22802, 26489,\n",
       "           10347, 31644, 19456,  3463,  7666, 21721, 22112,  2896, 25956,\n",
       "           24727, 30494, 15441, 14700, 16813,  9932,  2143, 18924,  2676,\n",
       "            3177], dtype=int32)\n",
       "  ],\n",
       " 'output': [# jax.Array float32(64,) ≈7.2e-05 ±8.7e-05 [≥2.2e-05, ≤0.00047] nonzero:64\n",
       "    Array([4.6734471e-04, 4.2539032e-04, 3.1819529e-04, 2.2812291e-04,\n",
       "           1.9697337e-04, 1.8281776e-04, 1.6540116e-04, 1.4180102e-04,\n",
       "           1.3702465e-04, 1.2426497e-04, 1.1231987e-04, 9.4768890e-05,\n",
       "           9.1598857e-05, 8.3009385e-05, 8.0543250e-05, 7.1480034e-05,\n",
       "           6.0517716e-05, 5.7887901e-05, 5.6472072e-05, 5.6083074e-05,\n",
       "           5.4978314e-05, 5.1748088e-05, 5.0898088e-05, 4.9748742e-05,\n",
       "           4.8585534e-05, 4.5732399e-05, 4.2671076e-05, 4.0981155e-05,\n",
       "           4.0649582e-05, 3.7359961e-05, 3.7237012e-05, 3.7168564e-05,\n",
       "           3.7061411e-05, 3.6537855e-05, 3.6130867e-05, 3.5855897e-05,\n",
       "           3.3410124e-05, 3.3047563e-05, 3.2992812e-05, 3.1632859e-05,\n",
       "           3.1628282e-05, 3.1245829e-05, 3.0176805e-05, 3.0124498e-05,\n",
       "           2.9790108e-05, 2.9169734e-05, 2.8752282e-05, 2.8135972e-05,\n",
       "           2.7842994e-05, 2.7539163e-05, 2.6563906e-05, 2.6270936e-05,\n",
       "           2.5218438e-05, 2.5014284e-05, 2.4922056e-05, 2.4224213e-05,\n",
       "           2.3683144e-05, 2.3499069e-05, 2.3432571e-05, 2.2724267e-05,\n",
       "           2.2668353e-05, 2.2456457e-05, 2.2316004e-05, 2.2220682e-05],      dtype=float32)\n",
       "  ,\n",
       "  # jax.Array int32(64,) [≥1_388, ≤31_498] nonzero:64\n",
       "    Array([27993, 17235,  4338, 28488, 23730,  9743, 15002,  3794, 13025,\n",
       "            1461,  1388, 24942,  4641, 20768, 20367, 24348, 28257, 20741,\n",
       "            7666, 13873,  5566,  2561, 20116,  6615, 12585, 28166, 19875,\n",
       "            8600,  5558,  3027, 29688,  2691, 17621, 29769, 13691,  8214,\n",
       "            2055,  3388, 22215, 31498,  1962, 11803,  1595,  1515, 29806,\n",
       "            2475,  2735, 26696, 28493,  8379,  9667,  3585, 22802, 30828,\n",
       "           16331, 14383, 27484, 14973, 31363, 23944,  4295, 12956, 30108,\n",
       "            6402], dtype=int32)\n",
       "  ],\n",
       " 'newline': [# jax.Array float32(64,) ≈1.3e-05 ±1.3e-05 [≥3.8e-06, ≤7.8e-05] nonzero:64\n",
       "    Array([7.75154331e-05, 4.43376739e-05, 4.30582186e-05, 4.12922382e-05,\n",
       "           3.73143375e-05, 3.25535802e-05, 3.13974379e-05, 2.55451869e-05,\n",
       "           2.41929101e-05, 2.03477721e-05, 1.69986652e-05, 1.68336173e-05,\n",
       "           1.49135785e-05, 1.35570435e-05, 1.31405868e-05, 1.27483108e-05,\n",
       "           1.27111225e-05, 1.25763827e-05, 1.24104918e-05, 1.23223690e-05,\n",
       "           1.17672234e-05, 1.17116224e-05, 1.15745188e-05, 1.10441097e-05,\n",
       "           1.08452250e-05, 1.08169597e-05, 1.04022556e-05, 1.00470497e-05,\n",
       "           8.88974319e-06, 8.29429064e-06, 8.19159595e-06, 8.14722716e-06,\n",
       "           7.72569092e-06, 7.45559782e-06, 6.82825521e-06, 6.55167469e-06,\n",
       "           6.49980893e-06, 6.45750424e-06, 6.42607574e-06, 6.17974956e-06,\n",
       "           6.02359933e-06, 5.54831558e-06, 5.44109480e-06, 5.36801281e-06,\n",
       "           5.21958918e-06, 5.17007311e-06, 5.14378507e-06, 5.03221645e-06,\n",
       "           5.02653802e-06, 4.94117921e-06, 4.89769900e-06, 4.86015961e-06,\n",
       "           4.73080445e-06, 4.55701684e-06, 4.49980234e-06, 4.49059644e-06,\n",
       "           4.44569469e-06, 4.32352090e-06, 4.23818346e-06, 4.05639412e-06,\n",
       "           4.04287812e-06, 3.95076086e-06, 3.93371693e-06, 3.75467221e-06],      dtype=float32)\n",
       "  ,\n",
       "  # jax.Array int32(64,) [≥718, ≤31_816] nonzero:64\n",
       "    Array([17981,  1481, 26117, 28350,   718, 28488, 14409, 10141,  6402,\n",
       "           24129, 14736, 26205,  7490, 13753, 28962,  6603, 30353,  4234,\n",
       "            4338, 31515, 12411, 20768, 22802, 28778, 11374, 22358,  4544,\n",
       "           10364, 30786,  1203, 15371, 12272, 21344, 27426, 13994,  8379,\n",
       "           30735, 14749, 25730,  2760, 26486, 25949,  3388,  7038,  8580,\n",
       "           31644,  1377, 31816, 16267, 26510, 12688,  3217, 11863,  2632,\n",
       "           18081,  1595,  7827, 20476, 12148,  8431, 22999, 17355,  6997,\n",
       "            5539], dtype=int32)\n",
       "  ]}"
      ]
     },
     "execution_count": 59,
     "metadata": {},
     "output_type": "execute_result"
    }
   ],
   "source": [
    "def compute_avg_node_effect(ie, top_k=64):\n",
    "    masked = {}\n",
    "    for mask_name, mask in masks.items():\n",
    "        mask = mask[..., None]\n",
    "        masked[mask_name] = ((mask * jnp.abs(ie)).sum(1) / mask.sum(1)).mean(0)\n",
    "    masked = {k: jax.lax.top_k(v, k=top_k) for k,v in masked.items()}\n",
    "    return masked\n",
    "def compute_all_avg_node_effects(ies):\n",
    "    return {k: compute_avg_node_effect(v) for k,v in ies.items()}\n",
    "compute_all_avg_node_effects(ie_resid)"
   ]
  },
  {
   "cell_type": "code",
   "execution_count": null,
   "metadata": {},
   "outputs": [],
   "source": []
  },
  {
   "cell_type": "code",
   "execution_count": null,
   "metadata": {},
   "outputs": [],
   "source": [
    "def mid_to_pre_grad(layer, resid):\n",
    "    block = llama.select()."
   ]
  }
 ],
 "metadata": {
  "kernelspec": {
   "display_name": "micrlhf-progress-_SD4q1c9-py3.12",
   "language": "python",
   "name": "python3"
  },
  "language_info": {
   "codemirror_mode": {
    "name": "ipython",
    "version": 3
   },
   "file_extension": ".py",
   "mimetype": "text/x-python",
   "name": "python",
   "nbconvert_exporter": "python",
   "pygments_lexer": "ipython3",
   "version": "3.12.0"
  }
 },
 "nbformat": 4,
 "nbformat_minor": 2
}
