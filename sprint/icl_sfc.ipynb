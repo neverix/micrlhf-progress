{
 "cells": [
  {
   "cell_type": "code",
   "execution_count": 1,
   "metadata": {},
   "outputs": [],
   "source": [
    "import os\n",
    "if \"models\" not in os.listdir(\".\"):\n",
    "    os.chdir(\"../..\")"
   ]
  },
  {
   "cell_type": "code",
   "execution_count": 2,
   "metadata": {},
   "outputs": [],
   "source": [
    "%load_ext autoreload\n",
    "%autoreload 2\n",
    "import penzai\n",
    "import jax_smi\n",
    "jax_smi.initialise_tracking()\n",
    "from penzai import pz\n",
    "pz.ts.register_as_default()\n",
    "pz.ts.register_autovisualize_magic()\n",
    "pz.enable_interactive_context()"
   ]
  },
  {
   "cell_type": "code",
   "execution_count": 3,
   "metadata": {},
   "outputs": [],
   "source": [
    "from micrlhf.llama import LlamaTransformer\n",
    "llama = LlamaTransformer.from_pretrained(\"models/gemma-2b-it.gguf\", from_type=\"gemma\", load_eager=True, device_map=\"tpu:0\")"
   ]
  },
  {
   "cell_type": "code",
   "execution_count": null,
   "metadata": {},
   "outputs": [],
   "source": [
    "from transformers import AutoTokenizer\n",
    "tokenizer = AutoTokenizer.from_pretrained(\"alpindale/gemma-2b\")\n",
    "tokenizer.padding_side = \"right\""
   ]
  },
  {
   "cell_type": "code",
   "execution_count": null,
   "metadata": {},
   "outputs": [],
   "source": [
    "from sprint.task_vector_utils import load_tasks, ICLRunner\n",
    "tasks = load_tasks()"
   ]
  },
  {
   "cell_type": "code",
   "execution_count": null,
   "metadata": {},
   "outputs": [
    {
     "name": "stdout",
     "output_type": "stream",
     "text": [
      "763\n",
      "346\n"
     ]
    }
   ],
   "source": [
    "def check_if_single_token(token):\n",
    "    return len(tokenizer.tokenize(token)) == 1\n",
    "\n",
    "task_name = \"es_en\"\n",
    "\n",
    "task = tasks[task_name]\n",
    "\n",
    "print(len(task))\n",
    "\n",
    "task = {\n",
    "    k:v for k,v in task.items() if check_if_single_token(k) and check_if_single_token(v)\n",
    "}\n",
    "\n",
    "print(len(task))\n",
    "\n",
    "pairs = list(task.items())"
   ]
  },
  {
   "cell_type": "code",
   "execution_count": null,
   "metadata": {},
   "outputs": [],
   "source": [
    "import jax\n",
    "\n",
    "def logprob_loss(logits, tokens, sep=1599, pad_token=32000, n_first=None, shift=None, use_softmax=False):\n",
    "    if use_softmax:\n",
    "        logits = jax.nn.log_softmax(logits)\n",
    "    \n",
    "    logits = logits[:, :-1]\n",
    "\n",
    "    # print(\n",
    "    #     logits.argmax(axis=-1)\n",
    "    # )\n",
    "\n",
    "    logits = jnp.take_along_axis(logits, tokens[:, 1:, None], axis=-1).squeeze(-1)\n",
    "\n",
    "    mask = tokens[:, 1:] == sep\n",
    "    mask = jnp.cumsum(mask[:, ::-1], axis=-1)[:, ::-1] > 0\n",
    "    mask = jnp.logical_not(mask)\n",
    "\n",
    "    if shift is not None:\n",
    "        rolled_mask = jnp.roll(mask, shift, axis=-1)\n",
    "        mask = jnp.logical_and(mask, rolled_mask)\n",
    "\n",
    "    # print(mask[:, -5:])\n",
    "    \n",
    "    if n_first is not None:\n",
    "        rolled_mask = jnp.roll(mask, n_first, axis=-1)\n",
    "        mask = jnp.logical_and(mask, jnp.logical_not(rolled_mask))\n",
    "\n",
    "    mask = jnp.logical_and(mask, tokens[:, 1:] != pad_token)\n",
    "\n",
    "    logits = logits * mask\n",
    "\n",
    "    return logits.sum(axis=-1).mean(axis=-1)"
   ]
  },
  {
   "cell_type": "code",
   "execution_count": null,
   "metadata": {},
   "outputs": [],
   "source": [
    "from functools import partial\n",
    "\n",
    "sep = 3978\n",
    "pad = 0\n",
    "\n",
    "def metric_fn(logits, resids, tokens, use_softmax=False):\n",
    "    return logprob_loss(logits, tokens, sep=sep, pad_token=pad, n_first=2, use_softmax=use_softmax)"
   ]
  },
  {
   "cell_type": "code",
   "execution_count": null,
   "metadata": {},
   "outputs": [],
   "source": [
    "from micrlhf.llama import LlamaBlock, LlamaAttention\n",
    "from micrlhf.utils.activation_manipulation import ActivationAddition, wrap_vector\n",
    "from functools import partial\n",
    "import jax.numpy as jnp\n",
    "from penzai import pz\n",
    "import jax\n",
    "\n",
    "@partial(jax.jit, static_argnames=(\"metric\", \"batched\"))\n",
    "def run_with_add(additions_pre, additions_mid, tokens, metric, batched=False, llama=None):\n",
    "    get_resids = llama.select().at_instances_of(LlamaBlock).apply_with_selected_index(lambda i, x:\n",
    "        pz.nn.Sequential([\n",
    "            pz.de.TellIntermediate.from_config(tag=f\"resid_pre_{i}\"),\n",
    "            x\n",
    "        ])\n",
    "    )\n",
    "    get_resids = get_resids.select().at_instances_of(LlamaBlock).apply_with_selected_index(lambda l, b: b.select().at_instances_of(pz.nn.Residual).apply_with_selected_index(lambda i, x: x if i == 0 else pz.nn.Sequential([\n",
    "        pz.de.TellIntermediate.from_config(tag=f\"resid_mid_{l}\"),\n",
    "        x,\n",
    "    ])))\n",
    "\n",
    "\n",
    "    get_resids = get_resids.select().at_instances_of(LlamaAttention).apply_with_selected_index(lambda i, x: x.select().at_instances_of(pz.nn.Softmax).apply(lambda b: pz.nn.Sequential([\n",
    "        b,\n",
    "        pz.de.TellIntermediate.from_config(tag=f\"attn_{i}\"),\n",
    "    ])))\n",
    "\n",
    "    get_resids = pz.de.CollectingSideOutputs.handling(get_resids, tag_predicate=lambda x: True)\n",
    "    make_additions = get_resids.select().at_instances_of(LlamaBlock).apply_with_selected_index(lambda i, x:\n",
    "        pz.nn.Sequential([\n",
    "            ActivationAddition(pz.nx.wrap(additions_pre[i], *((\"batch\",) if batched else ()), \"seq\", \"embedding\"), \"all\"),\n",
    "            x\n",
    "        ])\n",
    "    )\n",
    "    make_additions = make_additions.select().at_instances_of(LlamaBlock).apply_with_selected_index(lambda l, b: b.select().at_instances_of(pz.nn.Residual).apply_with_selected_index(lambda i, x: x if i == 0 else pz.nn.Sequential([\n",
    "        ActivationAddition(pz.nx.wrap(additions_mid[l], *((\"batch\",) if batched else ()), \"seq\", \"embedding\"), \"all\"),\n",
    "        x,\n",
    "    ])))\n",
    "    tokens_wrapped = pz.nx.wrap(tokens, \"batch\", \"seq\")\n",
    "    logits, resids = make_additions(llama.inputs.from_basic_segments(tokens_wrapped))\n",
    "    return metric(logits.unwrap(\"batch\", \"seq\", \"vocabulary\"), resids, tokens), (logits, resids[::3], resids[1::3], resids[2::3])\n",
    "\n",
    "\n",
    "@partial(jax.jit, static_argnames=(\"metric\",))\n",
    "def get_metric_resid_grad(tokens, llama=llama, metric=metric_fn):\n",
    "    additions = [jnp.zeros(tokens.shape + (llama.config.hidden_size,)) for _ in range(llama.config.num_layers)]\n",
    "    batched = tokens.ndim > 1\n",
    "    (metric, (logits, resids_pre, qk, resids_mid)), (grad_pre, grad_mid) = jax.value_and_grad(run_with_add, argnums=(0, 1), has_aux=True)(additions, additions, tokens, metric, batched=batched, llama=llama)\n",
    "    return (\n",
    "        metric,\n",
    "        [r.value.unwrap(\"batch\", \"seq\", \"embedding\") for r in resids_pre],\n",
    "        [r.value.unwrap(\"batch\", \"seq\", \"embedding\") for r in resids_mid],\n",
    "        [r.value.unwrap(\"batch\", \"kv_heads\", \"q_rep\", \"seq\", \"kv_seq\") for r in qk],\n",
    "        grad_pre,\n",
    "        grad_mid\n",
    "    )\n"
   ]
  },
  {
   "cell_type": "code",
   "execution_count": null,
   "metadata": {},
   "outputs": [],
   "source": [
    "batch_size = 8 \n",
    "n_shot=20\n",
    "max_seq_len = 128\n",
    "seed = 10"
   ]
  },
  {
   "cell_type": "code",
   "execution_count": null,
   "metadata": {},
   "outputs": [],
   "source": [
    "prompt = \"Follow the pattern:\\n{}\""
   ]
  },
  {
   "cell_type": "code",
   "execution_count": null,
   "metadata": {},
   "outputs": [],
   "source": [
    "runner = ICLRunner(task_name, pairs, batch_size=batch_size, n_shot=n_shot, max_seq_len=max_seq_len, seed=seed, prompt=prompt)"
   ]
  },
  {
   "cell_type": "code",
   "execution_count": null,
   "metadata": {},
   "outputs": [],
   "source": [
    "from sprint.task_vector_utils import tokenized_to_inputs\n",
    "\n",
    "train_tokens = runner.get_tokens(\n",
    "    runner.train_pairs, tokenizer\n",
    ")[\"input_ids\"]"
   ]
  },
  {
   "cell_type": "code",
   "execution_count": null,
   "metadata": {},
   "outputs": [],
   "source": [
    "metric_value, resids_pre, resids_mid, qk, grad_pre, grad_mid = get_metric_resid_grad(train_tokens, llama=llama)"
   ]
  },
  {
   "cell_type": "code",
   "execution_count": null,
   "metadata": {},
   "outputs": [],
   "source": [
    "get_rms_block = lambda layer, resid_index: (\n",
    "    llama.select()\n",
    "    .at_instances_of(LlamaBlock).pick_nth_selected(layer)\n",
    "    .at_instances_of(pz.nn.Residual).pick_nth_selected(resid_index)\n",
    "    .at_instances_of(pz.nn.RMSLayerNorm).pick_nth_selected(0)\n",
    "    ).get()"
   ]
  },
  {
   "cell_type": "code",
   "execution_count": null,
   "metadata": {},
   "outputs": [],
   "source": [
    "mlp_rms = [get_rms_block(layer, 1) for layer in range(llama.config.num_layers)]"
   ]
  },
  {
   "cell_type": "code",
   "execution_count": null,
   "metadata": {},
   "outputs": [],
   "source": [
    "from micrlhf.utils.load_sae import get_nev_it_sae_suite"
   ]
  },
  {
   "cell_type": "code",
   "execution_count": null,
   "metadata": {},
   "outputs": [],
   "source": [
    "from micrlhf.utils.load_sae import weights_to_resid, resids_to_weights"
   ]
  },
  {
   "cell_type": "code",
   "execution_count": null,
   "metadata": {},
   "outputs": [],
   "source": [
    "from micrlhf.utils.load_sae import sae_encode_gated"
   ]
  },
  {
   "cell_type": "code",
   "execution_count": null,
   "metadata": {},
   "outputs": [],
   "source": [
    "def mlp_normalize(layer, resid_mid):\n",
    "    # return resid_mid / resids_mid_norms[layer] * mlp_rms_weights[layer]\n",
    "    # return resid_mid / jnp.linalg.norm(resid_mid, axis=-1, keepdims=True) * mlp_rms_weights[layer]\n",
    "    return mlp_rms[layer](pz.nx.wrap(resid_mid, \"batch\", \"seq\", \"embedding\")).unwrap(\"batch\", \"seq\", \"embedding\")"
   ]
  },
  {
   "cell_type": "code",
   "execution_count": null,
   "metadata": {},
   "outputs": [
    {
     "data": {
      "application/vnd.jupyter.widget-view+json": {
       "model_id": "0d9de6b4492940689c8a123307602c8f",
       "version_major": 2,
       "version_minor": 0
      },
      "text/plain": [
       "  0%|          | 0/11 [00:00<?, ?it/s]"
      ]
     },
     "metadata": {},
     "output_type": "display_data"
    },
    {
     "data": {
      "application/vnd.jupyter.widget-view+json": {
       "model_id": "1b21ea0d1f74443192ffd51ef613ae33",
       "version_major": 2,
       "version_minor": 0
      },
      "text/plain": [
       "  0%|          | 0/11 [00:00<?, ?it/s]"
      ]
     },
     "metadata": {},
     "output_type": "display_data"
    },
    {
     "data": {
      "application/vnd.jupyter.widget-view+json": {
       "model_id": "61ffb6c883584d6d92f87f57124c6050",
       "version_major": 2,
       "version_minor": 0
      },
      "text/plain": [
       "  0%|          | 0/10 [00:00<?, ?it/s]"
      ]
     },
     "metadata": {},
     "output_type": "display_data"
    }
   ],
   "source": [
    "from tqdm.auto import tqdm\n",
    "\n",
    "ie_attn = {}\n",
    "sae_grads_attn = {}\n",
    "ie_resid = {}\n",
    "sae_grads_resid = {}\n",
    "ie_transcoder = {}\n",
    "sae_grads_transcoder = {}\n",
    "\n",
    "ie_error_attn = {}\n",
    "ie_error_resid = {}\n",
    "ie_error_transcoder = {}\n",
    "\n",
    "sae_error_attn = {}\n",
    "sae_error_resid = {}\n",
    "sae_error_transcoder = {}\n",
    "\n",
    "def sfc_simple(grad, resid, target, sae):\n",
    "    pre_relu, post_relu, recon = sae_encode_gated(sae, resid)\n",
    "\n",
    "    post_relu = post_relu.astype(jnp.float32)\n",
    "    error = target - recon\n",
    "    f = partial(weights_to_resid, sae=sae)\n",
    "\n",
    "\n",
    "    grad = grad.astype(jnp.float32)\n",
    "    sae_grad, = jax.vjp(f, post_relu)[1](grad,)\n",
    "    indirect_effects = sae_grad * post_relu\n",
    "    indirect_effects_error = jnp.einsum(\"...f, ...f -> ...\", grad, error)\n",
    "    return indirect_effects, indirect_effects_error, sae_grad, error\n",
    "\n",
    "\n",
    "layers = list(range(6, 17))\n",
    "for l in tqdm(layers):\n",
    "    r_pre, r_mid, g_mid = resids_pre[l], resids_mid[l], grad_mid[l]\n",
    "    sae = get_nev_it_sae_suite(layer=l, label=\"attn_out\")\n",
    "    indirect_effects, indirect_effects_error, sae_grad, error = sfc_simple(g_mid, r_mid - r_pre, r_mid - r_pre, sae)\n",
    "    # display((indirect_effects > 0).sum(-1))\n",
    "    ie_attn[l] = indirect_effects\n",
    "    ie_error_attn[l] = indirect_effects_error\n",
    "    sae_grads_attn[l] = sae_grad\n",
    "    sae_error_attn[l] = error\n",
    "\n",
    "# for layer, (r_pre, g_pre) in enumerate(zip(resids_pre, grad_pre)):\n",
    "for l in tqdm(layers):\n",
    "    r_pre, g_pre = resids_pre[l], grad_pre[l]\n",
    "    sae = get_nev_it_sae_suite(layer=l)\n",
    "    indirect_effects, indirect_effects_error, sae_grad, error = sfc_simple(g_pre, r_pre, r_pre, sae)\n",
    "    # display((indirect_effects != 0).sum(-1))\n",
    "    ie_resid[l] = indirect_effects\n",
    "    ie_error_resid[l] = indirect_effects_error\n",
    "    sae_grads_resid[l] = sae_grad\n",
    "    sae_error_resid[l] = error\n",
    "\n",
    "for l in tqdm(layers[:-1]):\n",
    "    r_mid, r_pre, g_pre = resids_mid[l], resids_pre[l + 1], grad_pre[l + 1]\n",
    "    sae = get_nev_it_sae_suite(layer=l, label=\"transcoder\")\n",
    "    indirect_effects, indirect_effects_error, sae_grad, error = sfc_simple(g_pre, mlp_normalize(l, r_mid), r_pre - r_mid, sae)\n",
    "    # display((indirect_effects != 0).sum(-1))\n",
    "    ie_transcoder[l] = indirect_effects\n",
    "    ie_error_transcoder[l] = indirect_effects_error\n",
    "    sae_grads_transcoder[l] = sae_grad\n",
    "    sae_error_transcoder[l] = error"
   ]
  },
  {
   "cell_type": "code",
   "execution_count": null,
   "metadata": {},
   "outputs": [],
   "source": [
    "tokens_wrapped = pz.nx.wrap(train_tokens, \"batch\", \"seq\")\n",
    "llama_inputs = llama.inputs.from_basic_segments(tokens_wrapped)"
   ]
  },
  {
   "cell_type": "code",
   "execution_count": null,
   "metadata": {},
   "outputs": [],
   "source": [
    "prompt_length = len(tokenizer.tokenize(prompt))\n",
    "periods = [\"input\", \"arrow\", \"output\", \"newline\"]\n",
    "masks = {\n",
    "    \"prompt\": jnp.zeros_like(train_tokens).at[:, :prompt_length].set(1).astype(bool),\n",
    "    **{\n",
    "        period: jnp.zeros_like(train_tokens).at[:, prompt_length+i::len(periods)].set(1).astype(bool) * (train_tokens != pad) for i, period in enumerate(periods)\n",
    "    }\n",
    "}"
   ]
  },
  {
   "cell_type": "code",
   "execution_count": null,
   "metadata": {},
   "outputs": [],
   "source": [
    "def mask_average(vector, mask):\n",
    "    mask = masks[mask]\n",
    "    while mask.ndim < vector.ndim:\n",
    "        mask = mask[..., None]\n",
    "\n",
    "    return ((mask * vector).sum(1) / mask.sum(1)).mean(0)"
   ]
  },
  {
   "cell_type": "code",
   "execution_count": null,
   "metadata": {},
   "outputs": [],
   "source": [
    "@jax.jit\n",
    "def ablated_metric(llama_ablated):\n",
    "    ablated_logits = llama_ablated(llama_inputs)\n",
    "    return metric_fn(ablated_logits.unwrap(\"batch\", \"seq\", \"vocabulary\"), None, train_tokens, use_softmax=True)"
   ]
  },
  {
   "cell_type": "code",
   "execution_count": null,
   "metadata": {},
   "outputs": [],
   "source": [
    "def mask_ie(ie, threshold, topk=None):\n",
    "    out_masks = {}\n",
    "    total_nodes = 0\n",
    "    for mask in masks:\n",
    "        ie_averaged = mask_average(ie, mask)\n",
    "        ie_averaged = jnp.abs(ie_averaged)\n",
    "        if topk is not None:\n",
    "            i, w = jnp.lax.top_k(ie_averaged, topk)\n",
    "            out_masks[mask] = jnp.zeros_like(ie_averaged).astype(bool).at[i].set(1)\n",
    "        else:\n",
    "            out_masks[mask] = jnp.abs(ie_averaged) > threshold\n",
    "        total_nodes += out_masks[mask].sum()\n",
    "    return out_masks, total_nodes"
   ]
  },
  {
   "cell_type": "code",
   "execution_count": null,
   "metadata": {},
   "outputs": [],
   "source": [
    "from micrlhf.llama import LlamaMLP\n",
    "from typing import Dict, List\n",
    "import dataclasses\n",
    "\n",
    "\n",
    "@pz.pytree_dataclass\n",
    "class AblatedModule(pz.Layer):\n",
    "    module: pz.Layer\n",
    "    sae: dict\n",
    "    keep_features: Dict[str, jax.typing.ArrayLike]\n",
    "\n",
    "    @classmethod\n",
    "    def wrap(self, sae, ablated_features, module=None):\n",
    "        if module is None:\n",
    "            module = pz.nn.Identity()\n",
    "        return AblatedModule(module, sae, ablated_features)\n",
    "\n",
    "    def __call__(self, x):\n",
    "        inp = x.unwrap(\"batch\", \"seq\", \"embedding\")\n",
    "        out = self.module(x)\n",
    "        result = 0\n",
    "        out = out.unwrap(\"batch\", \"seq\", \"embedding\")\n",
    "        for mask, mask_values in masks.items():\n",
    "            _, _, recon = sae_encode_gated(self.sae, inp)\n",
    "            error = out - recon\n",
    "            _, _, recon_ablated = sae_encode_gated(self.sae, inp, keep_features=self.keep_features[mask])\n",
    "            res = recon_ablated + error\n",
    "            res = res * mask_values[..., None]\n",
    "            result = result + res\n",
    "        return pz.nx.wrap(result, \"batch\", \"seq\", \"embedding\")\n",
    "\n",
    "\n",
    "@partial(jax.jit, static_argnames=(\"ablate_resids\", \"topk\"))\n",
    "def ablate_nodes(threshold, llama, saes, ie_resid, ie_attn, ie_transcoder, ablate_resids=False, topk=None):\n",
    "    llama_ablated = llama\n",
    "    n_nodes = {0: 0}\n",
    "    for layer in layers:\n",
    "        block_selection = llama_ablated.select().at_instances_of(LlamaBlock).pick_nth_selected(layer)\n",
    "\n",
    "        def converter(block):\n",
    "            n_nodes_resid, n_nodes_attn, n_nodes_mlp = 0, 0, 0\n",
    "\n",
    "            if ablate_resids:\n",
    "                try:\n",
    "                    resid = saes[(layer, \"resid\")]\n",
    "                    mask_resid, n_nodes_resid = mask_ie(ie_resid[layer], threshold)\n",
    "                    block = block.select().at_instances_of(LlamaBlock).apply(lambda x: pz.nn.Sequential([AblatedModule.wrap(resid, mask_resid), x]))\n",
    "                except KeyError:\n",
    "                    pass\n",
    "            try:\n",
    "                attn_out = saes[(layer, \"attn_out\")]\n",
    "                mask_attn_out, n_nodes_attn = mask_ie(ie_attn[layer], threshold)\n",
    "                block = block.select().at_instances_of(LlamaAttention).apply(lambda x: pz.nn.Sequential([x, AblatedModule.wrap(attn_out, mask_attn_out)]))\n",
    "            except KeyError:\n",
    "                pass\n",
    "\n",
    "            try:\n",
    "                transcoder = saes[(layer, \"transcoder\")]\n",
    "                mask_transcoder, n_nodes_mlp = mask_ie(ie_transcoder[layer], threshold)\n",
    "                block = block.select().at_instances_of(LlamaMLP).apply(lambda x: AblatedModule.wrap(transcoder, mask_transcoder, x))\n",
    "            except KeyError:\n",
    "                pass\n",
    "            n_nodes[0] += n_nodes_attn + n_nodes_mlp + n_nodes_resid\n",
    "            return block\n",
    "\n",
    "        llama_ablated = block_selection.apply(converter)\n",
    "    return ablated_metric(llama_ablated), n_nodes[0]"
   ]
  },
  {
   "cell_type": "code",
   "execution_count": null,
   "metadata": {},
   "outputs": [],
   "source": [
    "\n",
    "saes = {}\n",
    "for layer in layers:\n",
    "    try:\n",
    "        saes[(layer, \"attn_out\")] = get_nev_it_sae_suite(layer=layer, label=\"attn_out\")\n",
    "    except KeyError:\n",
    "        pass\n",
    "    try:\n",
    "        saes[(layer, \"resid\")] = get_nev_it_sae_suite(layer=layer, label=\"residual\")\n",
    "    except KeyError:\n",
    "        pass\n",
    "    try:\n",
    "        saes[(layer, \"transcoder\")] = get_nev_it_sae_suite(layer=layer, label=\"transcoder\")\n",
    "    except KeyError:\n",
    "        pass"
   ]
  },
  {
   "cell_type": "code",
   "execution_count": null,
   "metadata": {},
   "outputs": [
    {
     "data": {
      "application/vnd.jupyter.widget-view+json": {
       "model_id": "a13ad479da4642708d80cee4c930e1ed",
       "version_major": 2,
       "version_minor": 0
      },
      "text/plain": [
       "  0%|          | 0/100 [00:00<?, ?it/s]"
      ]
     },
     "metadata": {},
     "output_type": "display_data"
    }
   ],
   "source": [
    "import numpy as np\n",
    "thresholds = np.linspace(1e-7, 1e-5, 100)\n",
    "n_nodes_counts = []\n",
    "ablated_metrics = []\n",
    "for threshold in tqdm(thresholds):\n",
    "    abl_met, n_nodes = ablate_nodes(threshold, llama, saes, ie_resid, ie_attn, ie_transcoder, ablate_resids=True)\n",
    "    ablated_metrics.append(float(abl_met))\n",
    "    n_nodes_counts.append(int(n_nodes))\n"
   ]
  },
  {
   "cell_type": "code",
   "execution_count": null,
   "metadata": {},
   "outputs": [
    {
     "data": {
      "text/html": [
       "<div id=\"output_dfebee27b1f74aba81797d0da32ea319\"><script> /* penzai.treescope rendering of a Python object (compressed) */ (()=>{ let observer; let lastStep = new Promise((resolve, reject) => { observer = new IntersectionObserver((entries) => { for (const entry of entries) { if (entry.isIntersecting) { resolve(); observer.disconnect(); return; } } }, {rootMargin: \"1000px\"}); }); window.treescope_decompress_enqueue = (encoded, destId) => { const previous = lastStep; const destElt = document.getElementById(destId); lastStep = (async () => { await previous; let blob = new Blob([ Uint8Array.from(atob(encoded), (m) => m.codePointAt(0)) ]); let reader = blob.stream().pipeThrough( new DecompressionStream(\"deflate\") ).pipeThrough( new TextDecoderStream(\"utf-8\") ).getReader(); let parts = []; while (true) { let step = await reader.read(); if (step.done) { break; } parts.push(step.value); } let newElt = document.createElement(\"div\"); newElt.innerHTML = parts.join(\"\"); destElt.parentNode.replaceChild(newElt, destElt); for (let oldScript of newElt.querySelectorAll(\"script\")) { let newScript = document.createElement(\"script\"); newScript.type = oldScript.type; newScript.textContent = oldScript.textContent; oldScript.parentNode.replaceChild(newScript, oldScript); } })(); requestAnimationFrame(() => { observer.observe(destElt); }); } })(); </script><div id=\"compress_html_f77a18ec445545d3905b2042be0883de\"><script>window.treescope_decompress_enqueue(\"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\", \"compress_html_f77a18ec445545d3905b2042be0883de\");</script><span style=\"color: #aaaaaa; font-family: monospace\">(Loading...)</span></div></div>"
      ],
      "text/plain": [
       "<IPython.core.display.HTML object>"
      ]
     },
     "metadata": {},
     "output_type": "display_data"
    },
    {
     "data": {
      "text/html": [
       "<div id=\"output_dest_dfebee27b1f74aba81797d0da32ea319\"><script> (()=>{ const output = document.getElementById(\"output_dfebee27b1f74aba81797d0da32ea319\"); const dest = document.getElementById(\"output_dest_dfebee27b1f74aba81797d0da32ea319\"); dest.parentNode.replaceChild(output, dest); })(); </script></div>"
      ],
      "text/plain": [
       "<matplotlib.collections.PathCollection at 0x7f7ef2edd610>"
      ]
     },
     "execution_count": 30,
     "metadata": {},
     "output_type": "execute_result"
    },
    {
     "data": {
      "image/png": "[encoded data removed]",
      "text/plain": [
       "<Figure size 640x480 with 1 Axes>"
      ]
     },
     "metadata": {},
     "output_type": "display_data"
    }
   ],
   "source": [
    "from matplotlib import pyplot as plt\n",
    "plt.scatter(n_nodes_counts, ablated_metrics)"
   ]
  },
  {
   "cell_type": "code",
   "execution_count": 31,
   "metadata": {},
   "outputs": [
    {
     "data": {
      "image/png": "[encoded data removed]",
      "text/plain": [
       "<Figure size 640x480 with 1 Axes>"
      ]
     },
     "metadata": {},
     "output_type": "display_data"
    }
   ],
   "source": [
    "rev = np.array([-1, 1])\n",
    "xy = np.stack((np.asarray(n_nodes_counts) / len(masks), ablated_metrics), axis=-1) * rev\n",
    "pareto_mask = ~(xy[:, None, :] < xy[None, :, :]).all(-1).any(axis=1)\n",
    "pareto = xy[pareto_mask]\n",
    "# plt.scatter(*(xy[~pareto_mask] * rev).T, c=\"grey\", s=1)\n",
    "plt.plot(*(pareto * rev).T)\n",
    "plt.ylim(-5, 0)\n",
    "plt.show()\n"
   ]
  },
  {
   "cell_type": "code",
   "execution_count": 32,
   "metadata": {},
   "outputs": [
    {
     "data": {
      "text/html": [
       "<div id=\"output_db78ecd271c04570966d8befca03ea5d\"><script> /* penzai.treescope rendering of a Python object (compressed) */ (()=>{ let observer; let lastStep = new Promise((resolve, reject) => { observer = new IntersectionObserver((entries) => { for (const entry of entries) { if (entry.isIntersecting) { resolve(); observer.disconnect(); return; } } }, {rootMargin: \"1000px\"}); }); window.treescope_decompress_enqueue = (encoded, destId) => { const previous = lastStep; const destElt = document.getElementById(destId); lastStep = (async () => { await previous; let blob = new Blob([ Uint8Array.from(atob(encoded), (m) => m.codePointAt(0)) ]); let reader = blob.stream().pipeThrough( new DecompressionStream(\"deflate\") ).pipeThrough( new TextDecoderStream(\"utf-8\") ).getReader(); let parts = []; while (true) { let step = await reader.read(); if (step.done) { break; } parts.push(step.value); } let newElt = document.createElement(\"div\"); newElt.innerHTML = parts.join(\"\"); destElt.parentNode.replaceChild(newElt, destElt); for (let oldScript of newElt.querySelectorAll(\"script\")) { let newScript = document.createElement(\"script\"); newScript.type = oldScript.type; newScript.textContent = oldScript.textContent; oldScript.parentNode.replaceChild(newScript, oldScript); } })(); requestAnimationFrame(() => { observer.observe(destElt); }); } })(); </script><div id=\"compress_html_e8f6a943deab4c1387ffea52b20d01d0\"><script>window.treescope_decompress_enqueue(\"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\", \"compress_html_e8f6a943deab4c1387ffea52b20d01d0\");</script><span style=\"color: #aaaaaa; font-family: monospace\">(Loading...)</span></div></div>"
      ],
      "text/plain": [
       "<IPython.core.display.HTML object>"
      ]
     },
     "metadata": {},
     "output_type": "display_data"
    },
    {
     "data": {
      "text/html": [
       "<div id=\"output_dest_db78ecd271c04570966d8befca03ea5d\"><script> (()=>{ const output = document.getElementById(\"output_db78ecd271c04570966d8befca03ea5d\"); const dest = document.getElementById(\"output_dest_db78ecd271c04570966d8befca03ea5d\"); dest.parentNode.replaceChild(output, dest); })(); </script></div>"
      ],
      "text/plain": [
       "(100, 100)"
      ]
     },
     "execution_count": 32,
     "metadata": {},
     "output_type": "execute_result"
    }
   ],
   "source": [
    "len(thresholds), len(ablated_metrics)"
   ]
  },
  {
   "cell_type": "code",
   "execution_count": 33,
   "metadata": {},
   "outputs": [],
   "source": [
    "target_metric = (max(ablated_metrics) - min(ablated_metrics)) * 0.95 + min(ablated_metrics)\n",
    "target_threshold = [threshold for threshold, metric in reversed(list(zip(thresholds, ablated_metrics))) if metric > target_metric][0]"
   ]
  },
  {
   "cell_type": "code",
   "execution_count": 34,
   "metadata": {},
   "outputs": [
    {
     "data": {
      "text/html": [
       "<div id=\"output_103ee2de66834251837f69f693618aa8\"><script> /* penzai.treescope rendering of a Python object (compressed) */ (()=>{ let observer; let lastStep = new Promise((resolve, reject) => { observer = new IntersectionObserver((entries) => { for (const entry of entries) { if (entry.isIntersecting) { resolve(); observer.disconnect(); return; } } }, {rootMargin: \"1000px\"}); }); window.treescope_decompress_enqueue = (encoded, destId) => { const previous = lastStep; const destElt = document.getElementById(destId); lastStep = (async () => { await previous; let blob = new Blob([ Uint8Array.from(atob(encoded), (m) => m.codePointAt(0)) ]); let reader = blob.stream().pipeThrough( new DecompressionStream(\"deflate\") ).pipeThrough( new TextDecoderStream(\"utf-8\") ).getReader(); let parts = []; while (true) { let step = await reader.read(); if (step.done) { break; } parts.push(step.value); } let newElt = document.createElement(\"div\"); newElt.innerHTML = parts.join(\"\"); destElt.parentNode.replaceChild(newElt, destElt); for (let oldScript of newElt.querySelectorAll(\"script\")) { let newScript = document.createElement(\"script\"); newScript.type = oldScript.type; newScript.textContent = oldScript.textContent; oldScript.parentNode.replaceChild(newScript, oldScript); } })(); requestAnimationFrame(() => { observer.observe(destElt); }); } })(); </script><div id=\"compress_html_7bde78058e6f4067bb7491056cc535f7\"><script>window.treescope_decompress_enqueue(\"eNqVVUtv2zgQ/itTLVDIRaWkSdNNbctA0Af2UPTSAj0UC0GWRhZhitSSozjewv+9Q9Jy5MTdZuGDPMN5fPOeW9pKXKRkEG2pO8yN1gQ/oNNWkNBqCgZlQeIWZ1BrRUldtEJup9BqpW1XlMzfNIIw8cQUOsMcKSwl3nRC2465SitmL4tyvTK6V1VSaqnNNKjOYE8tJQuwPVFRM4VaEIspQkUzaAuzEiqRWNMULsrG+VCYNChWDXNepVcz2M3PQjhzWxrR0QJEDfFGqEpv7iOELMuAIWDNBqoJx/pYAn7sZo/Yad6hqoRa3ZQuM5bFvv/9W7G/ClVJZ1L1Up6QXiHlD7KfQTwkPSc9gWzBIM9ewCet11wEA9QgeEmlK0zhxRlIJNjrjlR9adh5HN6eZVDpsm85oelSV1t4/hyeuZe0lIW1n7hoqUt4IZSNo2NQ0QRcqgYfTqkrDFv6ILH1FdqxZ+qN8o9MnojV9OqL1soFuNFmvY+MXVpiZN+Y5Z6O2CRKx+zQcOBtoUpMld7Ek0Noj14gCUpzuLxwkE/1wMNSphLVihpuDTg/1RH/XdMQt8sASov30JteOey/dW4bUZMLyWu4Pzv+PRVDPEga/KdHSzdKtIWT+GiKFuOQ18nkdEUeQul624TazJ6SuAFEFlLxf1L3dNgngaNirR7fY43GYPUV247bHu3jBuqkYx4an9XM9gtKLEmbGym50fe64yXYq9xyp0aTmR+42M0XWwJde4MuUP6O5sZgq2/xaGpGNn41CfGA1dmvjf4X3XB4y2HxHcONo7DYnEmnwdQ4tNIgh7EfyLEs/0vdHmbh4MRTez7e0bvgbPR8z5x5OGHWP7t1Y5CzVeI7Hr8qZgsvnYCr0y9rRXq1kmGN5H77EwPzW445KOkl4C1b36fCtZ2n0zVu3URGJhpWDwuPch7sxtHBZt4ywGjAsQO+B+EQzCtxC14xe7jXgIolA8a7LDqPQCt2yujVSO40/pgaYQfkEZ+ccEj9JctV3y7R+B70h+2P87fXr67eHJ2orlADpIarYfierXPiM4cMqiqoSBhKV1CTRdGx+NhHtEgu09cX59dvr19f/nnF5llwcfhw3Idr+OQZiieHxP0E8GPoCw==\", \"compress_html_7bde78058e6f4067bb7491056cc535f7\");</script><span style=\"color: #aaaaaa; font-family: monospace\">(Loading...)</span></div></div>"
      ],
      "text/plain": [
       "<IPython.core.display.HTML object>"
      ]
     },
     "metadata": {},
     "output_type": "display_data"
    },
    {
     "data": {
      "text/html": [
       "<div id=\"output_dest_103ee2de66834251837f69f693618aa8\"><script> (()=>{ const output = document.getElementById(\"output_103ee2de66834251837f69f693618aa8\"); const dest = document.getElementById(\"output_dest_103ee2de66834251837f69f693618aa8\"); dest.parentNode.replaceChild(output, dest); })(); </script></div>"
      ],
      "text/plain": [
       "-3.4208984375"
      ]
     },
     "execution_count": 34,
     "metadata": {},
     "output_type": "execute_result"
    }
   ],
   "source": [
    "target_metric"
   ]
  },
  {
   "cell_type": "code",
   "execution_count": 35,
   "metadata": {},
   "outputs": [
    {
     "data": {
      "text/html": [
       "<div id=\"output_a0f1ec3bbab34b10bb91f56b64d327c6\"><script> /* penzai.treescope rendering of a Python object (compressed) */ (()=>{ let observer; let lastStep = new Promise((resolve, reject) => { observer = new IntersectionObserver((entries) => { for (const entry of entries) { if (entry.isIntersecting) { resolve(); observer.disconnect(); return; } } }, {rootMargin: \"1000px\"}); }); window.treescope_decompress_enqueue = (encoded, destId) => { const previous = lastStep; const destElt = document.getElementById(destId); lastStep = (async () => { await previous; let blob = new Blob([ Uint8Array.from(atob(encoded), (m) => m.codePointAt(0)) ]); let reader = blob.stream().pipeThrough( new DecompressionStream(\"deflate\") ).pipeThrough( new TextDecoderStream(\"utf-8\") ).getReader(); let parts = []; while (true) { let step = await reader.read(); if (step.done) { break; } parts.push(step.value); } let newElt = document.createElement(\"div\"); newElt.innerHTML = parts.join(\"\"); destElt.parentNode.replaceChild(newElt, destElt); for (let oldScript of newElt.querySelectorAll(\"script\")) { let newScript = document.createElement(\"script\"); newScript.type = oldScript.type; newScript.textContent = oldScript.textContent; oldScript.parentNode.replaceChild(newScript, oldScript); } })(); requestAnimationFrame(() => { observer.observe(destElt); }); } })(); </script><div id=\"compress_html_dbe59c817d7a47b99adf4939ca4e0234\"><script>window.treescope_decompress_enqueue(\"eNqVVUuP2zYQ/isTFQjkINJuNkja2JaBRdqih6CXFMghKARaGlmEKVIlR+s4gf97h6TllXedZisdJA7n8c176WivcJWTRXSV6bG0xhB8g944SdLoOVhUguQdLqAxmrJGdFLt59AZbVwvKqbvWkmYhcMcessUJR1lQXVG+56p2mgmr0W13Vgz6DqrjDJ2HkUXcDytFTOwPllTO4dGErNpQk0L6ITdSJ0pbGgON1XrbWjMWpSblimv8jcLOCyvojtLV1nZ0wpkA+lO6trs7j2EoiiAIWDDCuoZ+/qYA74dFo/IedmjrqXe3FY+Mo7ZPv/9Q7Y/hK6VV6kHpS5wb5DKB9EvIB2DXpKZQbFikFcv4IMxW06CBWoRAqc2Nebw4goUEhxlJ6IhNWw8jXfPCqhNNXQc0Hxt6j08fw7P/E1eKeHcB05a7gMupHZpcg4qmYEP1WjDC/XCsqbfFHYhQwe2TIPV4ZKPF3y1g/5ojPYO7ozdHj1jk44Y2Scm+aszMsnKE3u07HgndIW5Nrt0dnLt0Q1kUWgJr2885Es18DCVuUK9oZZLA64vVcR/5zT67SOAyuE99HbQHvsPjbtWNuRdChL+58DvUzGkI6fFfwZ0dKtlJzzH71Z0mMa4zmaXM/IQSj+4NuZm8ZTAjSCKGIr/E7qnw74IHDVLDfgrNmgt1n9h13PZo3tcQL3yxFPhs5jdf0SFFRl7qxQX+lF2OgQHXTqu1GS2CA2X+v5iTWCaoNA7yt9J31jszB2edc1Ex/c6IR2xev2NNV/RN0fQHAffOdw0iYPNq/QSfJq6VllkN44NOeXlv9zPYWaORsLpSMcv9D4am1zfExcBTuz1P/24scjRqvA9t1+dsoaXnsHn6bu5IrPZqDhGyjD9iYGFKccUVPQS8I61H0Phyy6c8y3ufUcmNhlHDzNPYh71pslJZ9kxwGTEcQDeB3ERLGt5B0GweDjXgMSaAeOXIrlOwGg2yuj1hO8y/pRa6UbkCa+cuEjDJiv10K3RhhoMi+2n63e/vHrz9mxF9UKPkFrOhuV9ti2J1xwyqFqQyBhKL6gtkuScfWojWb3Ob96dPT9jdv2W7bDE6vThAJzW4pObKZ2dIvgvzoDqSw==\", \"compress_html_dbe59c817d7a47b99adf4939ca4e0234\");</script><span style=\"color: #aaaaaa; font-family: monospace\">(Loading...)</span></div></div>"
      ],
      "text/plain": [
       "<IPython.core.display.HTML object>"
      ]
     },
     "metadata": {},
     "output_type": "display_data"
    },
    {
     "data": {
      "text/html": [
       "<div id=\"output_dest_a0f1ec3bbab34b10bb91f56b64d327c6\"><script> (()=>{ const output = document.getElementById(\"output_a0f1ec3bbab34b10bb91f56b64d327c6\"); const dest = document.getElementById(\"output_dest_a0f1ec3bbab34b10bb91f56b64d327c6\"); dest.parentNode.replaceChild(output, dest); })(); </script></div>"
      ],
      "text/plain": [
       "3.2999999999999997e-06"
      ]
     },
     "execution_count": 35,
     "metadata": {},
     "output_type": "execute_result"
    }
   ],
   "source": [
    "target_threshold"
   ]
  },
  {
   "cell_type": "code",
   "execution_count": null,
   "metadata": {},
   "outputs": [],
   "source": []
  },
  {
   "cell_type": "code",
   "execution_count": 36,
   "metadata": {},
   "outputs": [
    {
     "data": {
      "application/vnd.jupyter.widget-view+json": {
       "model_id": "030b28e610ee4bab9c2e73ae53df9dc7",
       "version_major": 2,
       "version_minor": 0
      },
      "text/plain": [
       "  0%|          | 0/11 [00:00<?, ?it/s]"
      ]
     },
     "metadata": {},
     "output_type": "display_data"
    }
   ],
   "source": [
    "combined_ies = {}\n",
    "typed_ies = {\n",
    "    \"r\": ie_resid,\n",
    "    \"a\": ie_attn,\n",
    "    \"t\": ie_transcoder,\n",
    "}\n",
    "\n",
    "for layer in tqdm(layers):\n",
    "    for type in typed_ies:\n",
    "        if layer in typed_ies[type]: \n",
    "            ies = typed_ies[type][layer]\n",
    "            for mask in masks:\n",
    "                ies_mask = mask_average(ies, mask)\n",
    "                i = np.nonzero(np.abs(ies_mask) > target_threshold)[0]\n",
    "                w = ies_mask[i]\n",
    "\n",
    "                for idx, weight in zip(i.tolist(), w.tolist()):\n",
    "                    combined_ies[(layer, mask, type, idx)] = weight\n",
    "\n",
    "                # w, i = jax.lax.top_k(ies_mask, 4)\n",
    "                # for idx, weight in zip(i.tolist(), w.tolist()):\n",
    "                #     combined_ies[(layer, mask, type, idx)] = weight"
   ]
  },
  {
   "cell_type": "code",
   "execution_count": 37,
   "metadata": {},
   "outputs": [],
   "source": [
    "# typed_ies_error = {\n",
    "#     \"er\": ie_error_resid,\n",
    "#     \"ea\": ie_error_attn,\n",
    "#     \"et\": ie_error_transcoder,\n",
    "# }\n",
    "\n",
    "# for layer in tqdm(layers):\n",
    "#     for type in typed_ies_error:\n",
    "#         if layer in typed_ies_error[type]: \n",
    "#             ies = typed_ies_error[type][layer]\n",
    "#             for mask in masks:\n",
    "#                 ies_mask = mask_average(ies, mask)\n",
    "#                 # print(ies_mask.tolist())\n",
    "#                 # raise\n",
    "#                 combined_ies[(layer, mask, type, 0)] = ies_mask.tolist()"
   ]
  },
  {
   "cell_type": "code",
   "execution_count": 38,
   "metadata": {},
   "outputs": [],
   "source": [
    "combined_ies = [\n",
    "    key + (weight,)\n",
    "    for key, weight in combined_ies.items()\n",
    "]\n",
    "\n",
    "combined_ies = sorted(combined_ies, key=lambda x: -x[-1])"
   ]
  },
  {
   "cell_type": "code",
   "execution_count": 39,
   "metadata": {},
   "outputs": [
    {
     "data": {
      "text/html": [
       "<div id=\"output_50fbba95ee054ac2a803dab5244b19ff\"><script> /* penzai.treescope rendering of a Python object (compressed) */ (()=>{ let observer; let lastStep = new Promise((resolve, reject) => { observer = new IntersectionObserver((entries) => { for (const entry of entries) { if (entry.isIntersecting) { resolve(); observer.disconnect(); return; } } }, {rootMargin: \"1000px\"}); }); window.treescope_decompress_enqueue = (encoded, destId) => { const previous = lastStep; const destElt = document.getElementById(destId); lastStep = (async () => { await previous; let blob = new Blob([ Uint8Array.from(atob(encoded), (m) => m.codePointAt(0)) ]); let reader = blob.stream().pipeThrough( new DecompressionStream(\"deflate\") ).pipeThrough( new TextDecoderStream(\"utf-8\") ).getReader(); let parts = []; while (true) { let step = await reader.read(); if (step.done) { break; } parts.push(step.value); } let newElt = document.createElement(\"div\"); newElt.innerHTML = parts.join(\"\"); destElt.parentNode.replaceChild(newElt, destElt); for (let oldScript of newElt.querySelectorAll(\"script\")) { let newScript = document.createElement(\"script\"); newScript.type = oldScript.type; newScript.textContent = oldScript.textContent; oldScript.parentNode.replaceChild(newScript, oldScript); } })(); requestAnimationFrame(() => { observer.observe(destElt); }); } })(); </script><div id=\"compress_html_4314e31f07a648c2872ec8352bde2975\"><script>window.treescope_decompress_enqueue(\"eNqVVd1v2zYQ/1euGlDIRaUkXbOttmUg6FbsodhLB+xhGARaOlmEKVIjT3G9wv/7jqTlyIm7ZvCDfMf7+N330tFe4Soni+gq02NpjSH4Ar1xkqTRc7CoBMl7XEBjNGWN6KTaz6Ez2rheVMzftZIwC8QcesscJR1lwXRG+5652mhmr0W13Vgz6DqrjDJ2HlUXcKTWigXYnqypnUMjicU0oaYFdMJupM4UNjSHN1XrfWjMWpSbljk3+e0CDsurGM7SVVb2tALZQLqTuja7hwihKApgCNiwgXrGsT6VgC+HxRN2Xvaoa6k3d5XPjGOxP//6ptivQtfKm9SDUhekN0jlo+wXkI5JL8nMoFgxyKtX8NGYLRfBArUIQVKbGnN4dQUKCY66E9VQGnaexrcXBdSmGjpOaL429R5evoQX/iWvlHDuIxct9wkXUrs0OQeVzMCnavThlXph2dIvCrtQoQN7psHq8MjkhVjtoD8Zo32AO2O3x8jYpSNG9gez/NMZm2TlmT1aDrwTusJcm106O4X25AWyqLSE7994yJd64HEpc4V6Qy23Blxf6oj/rmmM22cAlcMH6O2gPfZvOnetbMiHFDT8nwP/noshHSUt/j2gozstO+ElPljRYRrzOptdrshjKP3g2libxXMSN4IoYir+T+qeD/sicNSsNeDP2KC1WP+OXc9tj+5pA/XKM0+Nz2p2/wkVVmTsnVLc6Efd6RIcdOm4U5PZIgxc6ueLLYFpgkEfKH8nc2OxM/d4NjUTG1+bhHTE6u031vyDfjiC5bj4zuGmSVxs3qTXYGoaWmWRwzgO5FSW/+V+D7NwdBKoIx8/0/vobPL8wFwEOHHWf/PrxiJnq8L3PH51yhZeewFfp6/Wisxmo+IaKcP2JwYWthxzUNFrwHu2fkyFb7tA51vc+4lMbDKuHhae5DzaTZOTzbJjgMmI4wB8D+IhWNbyHoJi8XivAYk1A8bPRXKdgNHslNHridxl/Cm10o3IEz458ZCGS1bqoVujDT0YDtt31+9+urn94exE9UKPkFquhuV7ti2JzxwyqFqQyBhKL6gtkuRcfOojWd28/fH27Tu2yxKr04cDPp3BZw9POjtl7F/+Oeap\", \"compress_html_4314e31f07a648c2872ec8352bde2975\");</script><span style=\"color: #aaaaaa; font-family: monospace\">(Loading...)</span></div></div>"
      ],
      "text/plain": [
       "<IPython.core.display.HTML object>"
      ]
     },
     "metadata": {},
     "output_type": "display_data"
    },
    {
     "data": {
      "text/html": [
       "<div id=\"output_dest_50fbba95ee054ac2a803dab5244b19ff\"><script> (()=>{ const output = document.getElementById(\"output_50fbba95ee054ac2a803dab5244b19ff\"); const dest = document.getElementById(\"output_dest_50fbba95ee054ac2a803dab5244b19ff\"); dest.parentNode.replaceChild(output, dest); })(); </script></div>"
      ],
      "text/plain": [
       "147549"
      ]
     },
     "execution_count": 39,
     "metadata": {},
     "output_type": "execute_result"
    }
   ],
   "source": [
    "len(combined_ies)"
   ]
  },
  {
   "cell_type": "code",
   "execution_count": 40,
   "metadata": {},
   "outputs": [],
   "source": [
    "with open(\"node_ies_short.json\", \"w\") as f:\n",
    "    import json\n",
    "    json.dump(combined_ies, f)"
   ]
  },
  {
   "cell_type": "code",
   "execution_count": 41,
   "metadata": {},
   "outputs": [],
   "source": [
    "# def attn_call(layer, resid_pre):\n",
    "#     subblock = llama.select().at_instances_of(LlamaBlock).pick_nth_selected(layer).at_instances_of(pz.nn.Residual).pick_nth_selected(0).get().delta\n",
    "#     subblock = subblock.select().at_instances_of(LlamaAttention).get()\n",
    "\n",
    "#     si_selection = subblock.select().at_instances_of(pz.de.HandledSideInputRef)\n",
    "#     keys = sorted(set([ref.tag for ref in si_selection.get_sequence()]))\n",
    "#     replaced = si_selection.apply(lambda ref: pz.de.SideInputRequest(tag=ref.tag))\n",
    "#     subblock = pz.de.WithSideInputsFromInputTuple.handling(replaced, keys)\n",
    "\n",
    "#     side_inputs = {\n",
    "#         'positions': llama_inputs.positions,\n",
    "#         'attn_mask': llama_inputs.attention_mask\n",
    "#     }\n",
    "    \n",
    "#     resid_pre = resid_pre / \n",
    "\n",
    "#     resid_pre = pz.nx.wrap(resid_pre, \"batch\", \"seq\", \"embedding\")\n",
    "#     attn_out = subblock((resid_pre,) + tuple(side_inputs[tag] for tag in subblock.side_input_tags))\n",
    "\n",
    "#     attn_out = attn_out.unwrap(\"batch\", \"seq\", \"embedding\") \n",
    "\n",
    "#     return attn_out.astype(resid.dtype)\n",
    "\n",
    "# attn_call(6, resids_pre[6])"
   ]
  },
  {
   "cell_type": "code",
   "execution_count": null,
   "metadata": {},
   "outputs": [],
   "source": []
  },
  {
   "cell_type": "code",
   "execution_count": 42,
   "metadata": {},
   "outputs": [],
   "source": [
    "def transcoder_feature_to_mid(layer, feature_idx, mask):\n",
    "    sae = get_nev_it_sae_suite(layer=layer, label=\"transcoder\")\n",
    "    resid = resids_mid[layer]\n",
    "\n",
    "    def f(resid):\n",
    "        resid = mlp_normalize(layer, resid)\n",
    "        batch_token_feat = resids_to_weights(resid, sae)[:, :, feature_idx] * sae_grads_transcoder[layer][:, :, feature_idx]\n",
    "        token_act = mask_average(batch_token_feat, mask)\n",
    "        return token_act\n",
    "\n",
    "    return jax.grad(f)(resid)"
   ]
  },
  {
   "cell_type": "code",
   "execution_count": 43,
   "metadata": {},
   "outputs": [],
   "source": [
    "def transcoder_error_to_mid(layer, mask):\n",
    "    sae = get_nev_it_sae_suite(layer=layer, label=\"transcoder\")\n",
    "    resid_next = resids_pre[layer + 1]\n",
    "    resid = resids_mid[layer]\n",
    "\n",
    "    grad = grad_pre[layer + 1]\n",
    "\n",
    "    def f(resid):\n",
    "        _, _, recon = sae_encode_gated(sae, resid)\n",
    "        err_by_grad = jnp.einsum(\"...f, ...f -> ...\", (resid_next - recon), grad)\n",
    "        return mask_average(err_by_grad, mask)\n",
    "\n",
    "    return jax.grad(f)(resid)"
   ]
  },
  {
   "cell_type": "code",
   "execution_count": 44,
   "metadata": {},
   "outputs": [],
   "source": [
    "def attn_out_feature_to_pre(layer, feature_idx, mask):\n",
    "    sae = get_nev_it_sae_suite(layer=layer, label=\"attn_out\")\n",
    "\n",
    "    resid = resids_pre[layer]\n",
    "\n",
    "    subblock = llama.select().at_instances_of(LlamaBlock).pick_nth_selected(layer).at_instances_of(pz.nn.Residual).pick_nth_selected(0).get().delta\n",
    "\n",
    "    si_selection = subblock.select().at_instances_of(pz.de.HandledSideInputRef)\n",
    "    keys = sorted(set([ref.tag for ref in si_selection.get_sequence()]))\n",
    "    replaced = si_selection.apply(lambda ref: pz.de.SideInputRequest(tag=ref.tag))\n",
    "    subblock = pz.de.WithSideInputsFromInputTuple.handling(replaced, keys)\n",
    "\n",
    "    side_inputs = {\n",
    "        'positions': llama_inputs.positions,\n",
    "        'attn_mask': llama_inputs.attention_mask\n",
    "    }\n",
    "\n",
    "    def f(resid):\n",
    "        resid = pz.nx.wrap(resid, \"batch\", \"seq\", \"embedding\")\n",
    "        attn_out = subblock((resid,) + tuple(side_inputs[tag] for tag in subblock.side_input_tags))\n",
    "\n",
    "        attn_out = attn_out.unwrap(\"batch\", \"seq\", \"embedding\") \n",
    "\n",
    "        batch_token_feat = resids_to_weights(attn_out, sae)[:, :, feature_idx] * sae_grads_attn[layer][:, :, feature_idx]\n",
    "        token_act = mask_average(batch_token_feat, mask)\n",
    "        return token_act\n",
    "\n",
    "    return jax.grad(f)(resid)\n",
    "\n",
    "def attn_out_error_to_pre(layer, mask):\n",
    "    sae = get_nev_it_sae_suite(layer=layer, label=\"attn_out\")\n",
    "\n",
    "    resid = resids_pre[layer]\n",
    "\n",
    "    subblock = llama.select().at_instances_of(LlamaBlock).pick_nth_selected(layer).at_instances_of(pz.nn.Residual).pick_nth_selected(0).get().delta\n",
    "\n",
    "    si_selection = subblock.select().at_instances_of(pz.de.HandledSideInputRef)\n",
    "    keys = sorted(set([ref.tag for ref in si_selection.get_sequence()]))\n",
    "    replaced = si_selection.apply(lambda ref: pz.de.SideInputRequest(tag=ref.tag))\n",
    "    subblock = pz.de.WithSideInputsFromInputTuple.handling(replaced, keys)\n",
    "\n",
    "    side_inputs = {\n",
    "        'positions': llama_inputs.positions,\n",
    "        'attn_mask': llama_inputs.attention_mask\n",
    "    }\n",
    "\n",
    "    def f(resid):\n",
    "        resid = pz.nx.wrap(resid, \"batch\", \"seq\", \"embedding\")\n",
    "        attn_out = subblock((resid,) + tuple(side_inputs[tag] for tag in subblock.side_input_tags))\n",
    "\n",
    "        attn_out = attn_out.unwrap(\"batch\", \"seq\", \"embedding\") \n",
    "\n",
    "        _, _, recon = sae_encode_gated(sae, attn_out)\n",
    "        batch_token_feat = jnp.einsum(\"...f, ...f -> ...\", attn_out - recon, grad_mid[layer])\n",
    "        token_act = mask_average(batch_token_feat, mask)\n",
    "        return token_act\n",
    "\n",
    "    return jax.grad(f)(resid)\n",
    "# float(jnp.linalg.norm(attn_out_error_to_pre(6, \"arrow\")))"
   ]
  },
  {
   "cell_type": "code",
   "execution_count": 45,
   "metadata": {},
   "outputs": [],
   "source": [
    "def pre_feature_to_pre(layer, feature_idx, mask):\n",
    "    sae = get_nev_it_sae_suite(layer=layer)\n",
    "    resid = resids_pre[layer]\n",
    "\n",
    "    def f(resid):\n",
    "        batch_token_feat = resids_to_weights(resid, sae)[:, :, feature_idx] * sae_grads_resid[layer][:, :, feature_idx]\n",
    "        token_act = mask_average(batch_token_feat, mask)\n",
    "        return token_act\n",
    "\n",
    "    return jax.grad(f)(resid)\n",
    "\n",
    "def pre_error_to_pre(layer, mask):\n",
    "    sae = get_nev_it_sae_suite(layer=layer)\n",
    "    resid = resids_pre[layer]\n",
    "\n",
    "    def f(resid):\n",
    "        _, _, recon = sae_encode_gated(sae, resid)\n",
    "        batch_token_error = jnp.einsum(\"...f, ...f -> ...\", (resid - recon), grad_pre[layer])\n",
    "        token_grad = mask_average(batch_token_error, mask)\n",
    "        return token_grad\n",
    "\n",
    "    return jax.grad(f)(resid)\n"
   ]
  },
  {
   "cell_type": "code",
   "execution_count": 46,
   "metadata": {},
   "outputs": [],
   "source": [
    "def ie_pre_to_transcoder_features(layer, grad, mask):\n",
    "    sae = get_nev_it_sae_suite(layer=layer, label=\"transcoder\")\n",
    "    resid_mid = resids_mid[layer]\n",
    "    resid_mid = mlp_normalize(layer, resid_mid)\n",
    "    ie = sfc_simple(grad, resid_mid, resid_mid, sae)[0]\n",
    "    ie = mask_average(ie, mask)\n",
    "\n",
    "    return ie\n",
    "\n",
    "def ie_pre_to_transcoder_error(layer, grad, mask):\n",
    "    sae = get_nev_it_sae_suite(layer=layer, label=\"transcoder\")\n",
    "    resid_next = resids_pre[layer + 1]\n",
    "    resid_mid = resids_mid[layer]\n",
    "    ie = sfc_simple(grad, mlp_normalize(layer, resid_mid), resid_next - resid_mid, sae)[1]\n",
    "    ie = mask_average(ie, mask)\n",
    "\n",
    "    return ie"
   ]
  },
  {
   "cell_type": "code",
   "execution_count": 47,
   "metadata": {},
   "outputs": [],
   "source": [
    "def ie_mid_to_attn_features(layer, grad, mask):\n",
    "    sae = get_nev_it_sae_suite(layer=layer, label=\"attn_out\")\n",
    "    resid_mid = resids_mid[layer]\n",
    "    resid_pre = resids_pre[layer]\n",
    "\n",
    "    ie = sfc_simple(grad, resid_mid - resid_pre, resid_mid - resid_pre, sae)[0]\n",
    "    ie = mask_average(ie, mask)\n",
    "    return ie\n",
    "\n",
    "def ie_mid_to_attn_error(layer, grad, mask):\n",
    "    sae = get_nev_it_sae_suite(layer=layer, label=\"attn_out\")\n",
    "    resid_mid = resids_mid[layer]\n",
    "    resid_pre = resids_pre[layer]\n",
    "\n",
    "    ie = sfc_simple(grad, resid_mid - resid_pre, resid_mid - resid_pre, sae)[1]\n",
    "    ie = mask_average(ie, mask)\n",
    "    return ie"
   ]
  },
  {
   "cell_type": "code",
   "execution_count": 48,
   "metadata": {},
   "outputs": [],
   "source": [
    "def ie_pre_to_pre_features(layer, grad, mask):\n",
    "    sae = get_nev_it_sae_suite(layer=layer)\n",
    "    resid = resids_pre[layer]\n",
    "    ie = sfc_simple(grad, resid, resid, sae)[0]\n",
    "    ie = mask_average(ie, mask)\n",
    "    return ie\n",
    "\n",
    "def ie_pre_to_pre_error(layer, grad, mask):\n",
    "    sae = get_nev_it_sae_suite(layer=layer)\n",
    "    resid = resids_pre[layer]\n",
    "    ie = sfc_simple(grad, resid, resid, sae)[1]\n",
    "    ie = mask_average(ie, mask)\n",
    "    return ie\n",
    "# float((ie_pre_to_pre_features(6, grad_pre[6], \"arrow\") - mask_average(ie_error_resid[6], \"arrow\")).sum())"
   ]
  },
  {
   "cell_type": "code",
   "execution_count": 49,
   "metadata": {},
   "outputs": [
    {
     "data": {
      "text/html": [
       "<div id=\"output_314c44441050404892d443993b806f27\"><script> /* penzai.treescope rendering of a Python object (compressed) */ (()=>{ let observer; let lastStep = new Promise((resolve, reject) => { observer = new IntersectionObserver((entries) => { for (const entry of entries) { if (entry.isIntersecting) { resolve(); observer.disconnect(); return; } } }, {rootMargin: \"1000px\"}); }); window.treescope_decompress_enqueue = (encoded, destId) => { const previous = lastStep; const destElt = document.getElementById(destId); lastStep = (async () => { await previous; let blob = new Blob([ Uint8Array.from(atob(encoded), (m) => m.codePointAt(0)) ]); let reader = blob.stream().pipeThrough( new DecompressionStream(\"deflate\") ).pipeThrough( new TextDecoderStream(\"utf-8\") ).getReader(); let parts = []; while (true) { let step = await reader.read(); if (step.done) { break; } parts.push(step.value); } let newElt = document.createElement(\"div\"); newElt.innerHTML = parts.join(\"\"); destElt.parentNode.replaceChild(newElt, destElt); for (let oldScript of newElt.querySelectorAll(\"script\")) { let newScript = document.createElement(\"script\"); newScript.type = oldScript.type; newScript.textContent = oldScript.textContent; oldScript.parentNode.replaceChild(newScript, oldScript); } })(); requestAnimationFrame(() => { observer.observe(destElt); }); } })(); </script><div id=\"compress_html_ac52de95182f4b5193de7975d4277e11\"><script>window.treescope_decompress_enqueue(\"eNrFV1uP4jYU/itnU2k2jIbMwBSGDRdptG3Vh1VftlIf2ioyyQlxMXZqm5mhK/57j50AAcLuVF218BB8fC7fuYeJsRuBs8hqRJOqEhOtlIVPUCrDLVcyBo2CWf6EY8iVtN2crbjYxLBSUpmSpUR/LrjFrj/EUGqiCG5s16vu2k1JVKkkkecsXS60WsusmyqhdFyJjqE+zQUxkD6e2SKGnFtikxalHcOK6QWXXYG5jaGfFs6GxG6BfFEQpRcNxrCd3FbuTEyqeWlnwHMIn7nM1PPBQ5hOp0AQMCcFWYd8PeeAT9vxGTlKSpQZl4vH1EXGENuvv3+R7UcmM+FUyrUQLdwLtMlJ9KcQ7oKeWNWB6YxA3l7DB6WWlAQNtkDwnFJlGMH1LQi0UMs2RH1qyHhY3b2ZQqbS9YoCGs1VtoGrK3jjbqJUMGM+UNIiF3DGpQmDY1BBB1yodjacUMk0afpe4MpnaEuW7VpLf0nHFl/1Wn5USjoHn5Ve1p6RSWMJ2S9EcldHZMtTRyxRk+MrJlOMpHoOO3vXzm6gWwlN4L7vILfVwGkqI4FyYQsqDbhrq4jP57Ty20UAhcED9GItHfYvGjcFz61zyUu4H1v6vhZDuOPU+OcajX2UfMUcxw+arTCs4trptGfkFEq5NkWVm/FrArcDMa1C8U9C93rYrcBRktQav8MctcbsZ1yVVPZozguoFI64L3wS05uPKDC1Sj8KQYVeyzaH4Fomhio16Ix9w4Wuv0gTqNwrdI7Ss9E3GlfqCY+6pqHjUieEO6xOf67VX+iaw2uuBt8x3DCoBptT6STo1HQt1Uhu1A3Z5KVfkZvDxFwZ8aeaji/2fWWscX0gjj2cqtd/cuNGI0UrxffUfllIGm4cg8vTxVxZtViIaowkfvpbAuanHFFQ2BvAJ9Jeh8KVnT9HS9y4jgx0sBs9xNyIeaU3DPY6kxUBDHY4tkD7oFoEk4w/gRecns41sGxOgPFlGtwFoCQZJfSywdeOP7QFNzvkAa2capFmdUEmPkiFEhlqX4t+wX3DHty3XqVeJAZumeAp4Y1yYmdzMuXm+oUlvIVjtqRCR9wZN2R0s1u2p4wwA8HmKOJ4jlTT2ECV+s+41V61cbs9t3LrxXw3Ptji0u/huVBuc1+0WVBz6HPLGdNLg2xBoZbn0rFUNjwhFcyEM69z1hoHLxOnBaZLWu4duO4cMDjRdqEd/xFCX/4xvP2tP5inb/9PeMdCF0EO/wOQLo/O8Fobl8BScUKgW+xy8/XM+lbwhrq+38ylGv86Vg/uuTl4biXiJsm5NjZRMnHl39Jan2ulqD9w3dSaKvjX8KuMn0J0Xh29Q/uGbrwxl0wCz6bBfoDNsddj797NB6OH4bfDfDDCdHQ/GA17oyGy3gCDWqgeq8d9f2qemCsnJlyWa9qltH+mgYc9Vy9Bq5LaQ7qsvJtNbr0wPWtdTfttgzeYXQk7/oO9RI9asw3kQjF73w/v+w/D0U0HoiiCq4UdUxRI0+z0QUtj/1fi1S8gYWe/df4GVQXB/g==\", \"compress_html_ac52de95182f4b5193de7975d4277e11\");</script><span style=\"color: #aaaaaa; font-family: monospace\">(Loading...)</span></div></div>"
      ],
      "text/plain": [
       "<IPython.core.display.HTML object>"
      ]
     },
     "metadata": {},
     "output_type": "display_data"
    },
    {
     "data": {
      "text/html": [
       "<div id=\"compress_html_b0a1de2e517f4392be1d11a9e0bb2e65\"><script>window.treescope_decompress_enqueue(\"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\", \"compress_html_b0a1de2e517f4392be1d11a9e0bb2e65\");</script></div>"
      ],
      "text/plain": [
       "<IPython.core.display.HTML object>"
      ]
     },
     "metadata": {},
     "output_type": "display_data"
    },
    {
     "data": {
      "text/html": [
       "<div id=\"output_dest_314c44441050404892d443993b806f27\"><script> (()=>{ const output = document.getElementById(\"output_314c44441050404892d443993b806f27\"); const dest = document.getElementById(\"output_dest_314c44441050404892d443993b806f27\"); dest.parentNode.replaceChild(output, dest); })(); </script></div>"
      ],
      "text/plain": [
       "# jax.Array float32(32768,) ≈6.6e-08 ±0.0001 [≥-0.0092, ≤0.0095] zero:32_679 nonzero:89\n",
       "  Array([0., 0., 0., ..., 0., 0., 0.], dtype=float32)\n"
      ]
     },
     "execution_count": 49,
     "metadata": {},
     "output_type": "execute_result"
    }
   ],
   "source": [
    "ie_pre_to_pre_features(6, grad_pre[6], \"prompt\")"
   ]
  },
  {
   "cell_type": "code",
   "execution_count": 50,
   "metadata": {},
   "outputs": [],
   "source": [
    "def grad_through_transcoder(layer, grad):\n",
    "    sae = get_nev_it_sae_suite(layer, label=\"transcoder\")\n",
    "    resid_mid = resids_mid[layer]\n",
    "\n",
    "    def f(resid_mid):\n",
    "        resid_mid = mlp_normalize(layer, resid_mid)\n",
    "        # we ignore error nodes\n",
    "        weights = resids_to_weights(resid_mid, sae)\n",
    "        recon = weights_to_resid(weights, sae)\n",
    "\n",
    "        return recon\n",
    "\n",
    "    grad = jax.vjp(f, resid_mid)[1](grad,)[0]\n",
    "\n",
    "    return grad\n"
   ]
  },
  {
   "cell_type": "code",
   "execution_count": 51,
   "metadata": {},
   "outputs": [],
   "source": [
    "def grad_through_mlp(layer, grad):\n",
    "    mlp = llama.select().at_instances_of(LlamaBlock).pick_nth_selected(layer).at_instances_of(pz.nn.Residual).pick_nth_selected(1).get().delta\n",
    "    resid_mid = resids_mid[layer]\n",
    "    def f(resid_mid):\n",
    "        resids_mid = pz.nx.wrap(resid_mid, \"batch\", \"seq\", \"embedding\")\n",
    "        out = mlp(resids_mid)\n",
    "        return out.unwrap(\"batch\", \"seq\", \"embedding\").astype(resid_mid.dtype)\n",
    "    return jax.vjp(f, resid_mid)[1](grad.astype(resid_mid.dtype),)[0]"
   ]
  },
  {
   "cell_type": "code",
   "execution_count": 52,
   "metadata": {},
   "outputs": [],
   "source": [
    "def grad_through_attn(layer, grad):\n",
    "    subblock = llama.select().at_instances_of(LlamaBlock).pick_nth_selected(layer).at_instances_of(pz.nn.Residual).pick_nth_selected(0).get().delta\n",
    "\n",
    "    si_selection = subblock.select().at_instances_of(pz.de.HandledSideInputRef)\n",
    "    keys = sorted(set([ref.tag for ref in si_selection.get_sequence()]))\n",
    "    replaced = si_selection.apply(lambda ref: pz.de.SideInputRequest(tag=ref.tag))\n",
    "    subblock = pz.de.WithSideInputsFromInputTuple.handling(replaced, keys)\n",
    "\n",
    "    side_inputs = {\n",
    "        'positions': llama_inputs.positions,\n",
    "        'attn_mask': llama_inputs.attention_mask\n",
    "    }\n",
    "\n",
    "    def f(resid):\n",
    "        resid_pre = pz.nx.wrap(resid, \"batch\", \"seq\", \"embedding\")\n",
    "        attn_out = subblock((resid_pre,) + tuple(side_inputs[tag] for tag in subblock.side_input_tags))\n",
    "\n",
    "        attn_out = attn_out.unwrap(\"batch\", \"seq\", \"embedding\") \n",
    "\n",
    "        return attn_out.astype(resid.dtype)\n",
    "\n",
    "    resid = resids_pre[layer]\n",
    "    return jax.vjp(f, resid)[1](grad.astype(resid.dtype),)[0]"
   ]
  },
  {
   "cell_type": "code",
   "execution_count": 53,
   "metadata": {},
   "outputs": [],
   "source": [
    "ies = ie_resid[12]\n",
    "ies = mask_average(ies, \"arrow\")"
   ]
  },
  {
   "cell_type": "code",
   "execution_count": null,
   "metadata": {},
   "outputs": [
    {
     "data": {
      "text/html": [
       "<div id=\"output_7a0834d639784360a48a0d4449df59bc\"><script> /* penzai.treescope rendering of a Python object (compressed) */ (()=>{ let observer; let lastStep = new Promise((resolve, reject) => { observer = new IntersectionObserver((entries) => { for (const entry of entries) { if (entry.isIntersecting) { resolve(); observer.disconnect(); return; } } }, {rootMargin: \"1000px\"}); }); window.treescope_decompress_enqueue = (encoded, destId) => { const previous = lastStep; const destElt = document.getElementById(destId); lastStep = (async () => { await previous; let blob = new Blob([ Uint8Array.from(atob(encoded), (m) => m.codePointAt(0)) ]); let reader = blob.stream().pipeThrough( new DecompressionStream(\"deflate\") ).pipeThrough( new TextDecoderStream(\"utf-8\") ).getReader(); let parts = []; while (true) { let step = await reader.read(); if (step.done) { break; } parts.push(step.value); } let newElt = document.createElement(\"div\"); newElt.innerHTML = parts.join(\"\"); destElt.parentNode.replaceChild(newElt, destElt); for (let oldScript of newElt.querySelectorAll(\"script\")) { let newScript = document.createElement(\"script\"); newScript.type = oldScript.type; newScript.textContent = oldScript.textContent; oldScript.parentNode.replaceChild(newScript, oldScript); } })(); requestAnimationFrame(() => { observer.observe(destElt); }); } })(); </script><div id=\"compress_html_f79741d389364ba7b260a160dad104d3\"><script>window.treescope_decompress_enqueue(\"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\", \"compress_html_f79741d389364ba7b260a160dad104d3\");</script><span style=\"color: #aaaaaa; font-family: monospace\">(Loading...)</span></div></div>"
      ],
      "text/plain": [
       "<IPython.core.display.HTML object>"
      ]
     },
     "metadata": {},
     "output_type": "display_data"
    },
    {
     "data": {
      "text/html": [
       "<div id=\"compress_html_226fa49f7b604e5da75c638869624579\"><script>window.treescope_decompress_enqueue(\"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\", \"compress_html_226fa49f7b604e5da75c638869624579\");</script></div>"
      ],
      "text/plain": [
       "<IPython.core.display.HTML object>"
      ]
     },
     "metadata": {},
     "output_type": "display_data"
    },
    {
     "data": {
      "text/html": [
       "<div id=\"output_dest_7a0834d639784360a48a0d4449df59bc\"><script> (()=>{ const output = document.getElementById(\"output_7a0834d639784360a48a0d4449df59bc\"); const dest = document.getElementById(\"output_dest_7a0834d639784360a48a0d4449df59bc\"); dest.parentNode.replaceChild(output, dest); })(); </script></div>"
      ],
      "text/plain": [
       "[# jax.Array float32(30,) ≈0.0016 ±0.0014 [≥0.00042, ≤0.0063] nonzero:30\n",
       "   Array([0.00626031, 0.00412911, 0.00392759, 0.00367343, 0.00366958,\n",
       "          0.00285497, 0.00281898, 0.00178241, 0.00164916, 0.00163308,\n",
       "          0.00147618, 0.0013624 , 0.00131511, 0.00113812, 0.00111072,\n",
       "          0.00085431, 0.00064462, 0.00060836, 0.00059563, 0.00058289,\n",
       "          0.00056071, 0.00053765, 0.00050779, 0.00047463, 0.00046361,\n",
       "          0.00045937, 0.00043502, 0.0004299 , 0.00042705, 0.00042045],      dtype=float32)\n",
       " ,\n",
       " # jax.Array int32(30,) [≥507, ≤32_734] nonzero:30\n",
       "   Array([ 9157, 23723, 19580,  1112,   507, 14154, 16983, 13869, 11386,\n",
       "          28260,  7525, 14214, 16736, 11958, 23598, 19827, 23808, 25169,\n",
       "           1626,  3310, 11506, 14220, 15223,  6282, 32734,  9387, 21048,\n",
       "          23657,  1727, 21623], dtype=int32)\n",
       " ]"
      ]
     },
     "execution_count": 90,
     "metadata": {},
     "output_type": "execute_result"
    }
   ],
   "source": [
    "jax.lax.top_k(ies, 30)"
   ]
  },
  {
   "cell_type": "code",
   "execution_count": null,
   "metadata": {},
   "outputs": [],
   "source": []
  },
  {
   "cell_type": "code",
   "execution_count": 65,
   "metadata": {},
   "outputs": [],
   "source": [
    "from tqdm import tqdm, trange\n",
    "\n",
    "@partial(jax.jit, static_argnames=(\"feature_type\", \"layer\", \"mask\", \"layer_window\"))\n",
    "def compute_feature_effects(\n",
    "    feature_type,\n",
    "    layer,\n",
    "    feature_idx,\n",
    "    mask,\n",
    "    layer_window=1,\n",
    "):\n",
    "    match feature_type:\n",
    "        case \"r\":\n",
    "            resid_grad = pre_feature_to_pre(layer, feature_idx, mask)\n",
    "        case \"t\":\n",
    "            resid_grad = transcoder_feature_to_mid(layer, feature_idx, mask)\n",
    "        case \"a\":\n",
    "            resid_grad = attn_out_feature_to_pre(layer, feature_idx, mask)\n",
    "        case \"er\":\n",
    "            resid_grad = pre_error_to_pre(layer, mask)\n",
    "        case \"et\":\n",
    "            resid_grad = transcoder_error_to_mid(layer, mask)\n",
    "        case \"ea\":\n",
    "            resid_grad = attn_out_error_to_pre(layer, mask)\n",
    "    feature_effects = {}\n",
    "    for l in range(layer, max(5, layer - (1 if feature_type in (\"r\", \"er\") else 0) - layer_window), -1):\n",
    "        if l < layer:\n",
    "            for mask in masks:\n",
    "                feature_effects[(\"t\", l, mask)] = ie_pre_to_transcoder_features(l, resid_grad, mask)\n",
    "                feature_effects[(\"et\", l, mask)] = ie_pre_to_transcoder_error(l, resid_grad, mask)\n",
    "        # # does not work # resid_grad = resid_grad - grad_through_mlp(layer, resid_grad)\n",
    "        # resid_grad = resid_grad + grad_through_mlp(layer, resid_grad)\n",
    "        if l < layer or feature_type in (\"t\", \"et\"):\n",
    "            for mask in masks:\n",
    "                feature_effects[(\"a\", l, mask)] = ie_mid_to_attn_features(l, resid_grad, mask)\n",
    "                feature_effects[(\"ea\", l, mask)] = ie_mid_to_attn_error(l, resid_grad, mask)\n",
    "        # # does not work # resid_grad = resid_grad - grad_through_attn(layer, resid_grad)\n",
    "        # resid_grad = resid_grad + grad_through_attn(layer, resid_grad)\n",
    "        if l < layer or feature_type in (\"t\", \"et\", \"a\", \"ea\"):\n",
    "            for mask in masks:\n",
    "                feature_effects[(\"r\", l, mask)] = ie_pre_to_pre_features(l, resid_grad, mask)\n",
    "                feature_effects[(\"er\", l, mask)] = ie_pre_to_pre_error(l, resid_grad, mask)\n",
    "    return feature_effects\n",
    "\n",
    "@partial(jax.jit, static_argnames=(\"feature_type\", \"layer\", \"mask\", \"abs_effects\", \"k\", \"layer_window\"))\n",
    "def compute_edges(\n",
    "    feature_type,\n",
    "    layer,\n",
    "    feature_idx,\n",
    "    mask,\n",
    "    abs_effects = False,\n",
    "    k = 32,\n",
    "    layer_window=1,\n",
    "):\n",
    "    feature_effects = compute_feature_effects(feature_type, layer, feature_idx, mask, layer_window=layer_window)\n",
    "    top_effects = []\n",
    "    for key, features in feature_effects.items():\n",
    "        if features.ndim == 0:\n",
    "            top_effects.append((float(features), key, 0))\n",
    "            continue\n",
    "        effects, indices = jax.lax.top_k(features if not abs_effects else jnp.abs(features), k)\n",
    "        for i, e in zip(indices.tolist(), effects.tolist()):\n",
    "            top_effects.append((e, key, i))\n",
    "    top_effects.sort(reverse=True)\n",
    "    return top_effects[:k]\n"
   ]
  },
  {
   "cell_type": "code",
   "execution_count": 72,
   "metadata": {},
   "outputs": [
    {
     "ename": "ValueError",
     "evalue": "RESOURCE_EXHAUSTED: Error allocating device buffer: Attempting to allocate 128.00M. That was not possible. There are 90.22M free.; (0x0x0_HBM0)",
     "output_type": "error",
     "traceback": [
      "\u001b[0;31m---------------------------------------------------------------------------\u001b[0m",
      "\u001b[0;31mValueError\u001b[0m                                Traceback (most recent call last)",
      "Cell \u001b[0;32mIn[72], line 1\u001b[0m\n\u001b[0;32m----> 1\u001b[0m jax\u001b[38;5;241m.\u001b[39mvmap(\u001b[38;5;28;01mlambda\u001b[39;00m x: compute_feature_effects(\u001b[38;5;124m\"\u001b[39m\u001b[38;5;124mr\u001b[39m\u001b[38;5;124m\"\u001b[39m, \u001b[38;5;241m11\u001b[39m, x, \u001b[38;5;124m\"\u001b[39m\u001b[38;5;124marrow\u001b[39m\u001b[38;5;124m\"\u001b[39m))(jax\u001b[38;5;241m.\u001b[39mlax\u001b[38;5;241m.\u001b[39mtop_k(\u001b[43mmask_average\u001b[49m\u001b[43m(\u001b[49m\u001b[43mie_resid\u001b[49m\u001b[43m[\u001b[49m\u001b[38;5;241;43m11\u001b[39;49m\u001b[43m]\u001b[49m\u001b[43m,\u001b[49m\u001b[43m \u001b[49m\u001b[38;5;124;43m\"\u001b[39;49m\u001b[38;5;124;43marrow\u001b[39;49m\u001b[38;5;124;43m\"\u001b[39;49m\u001b[43m)\u001b[49m, \u001b[38;5;241m1\u001b[39m)[\u001b[38;5;241m1\u001b[39m])\u001b[38;5;241m.\u001b[39mtolist()\n",
      "Cell \u001b[0;32mIn[24], line 6\u001b[0m, in \u001b[0;36mmask_average\u001b[0;34m(vector, mask)\u001b[0m\n\u001b[1;32m      3\u001b[0m \u001b[38;5;28;01mwhile\u001b[39;00m mask\u001b[38;5;241m.\u001b[39mndim \u001b[38;5;241m<\u001b[39m vector\u001b[38;5;241m.\u001b[39mndim:\n\u001b[1;32m      4\u001b[0m     mask \u001b[38;5;241m=\u001b[39m mask[\u001b[38;5;241m.\u001b[39m\u001b[38;5;241m.\u001b[39m\u001b[38;5;241m.\u001b[39m, \u001b[38;5;28;01mNone\u001b[39;00m]\n\u001b[0;32m----> 6\u001b[0m \u001b[38;5;28;01mreturn\u001b[39;00m ((\u001b[43mmask\u001b[49m\u001b[43m \u001b[49m\u001b[38;5;241;43m*\u001b[39;49m\u001b[43m \u001b[49m\u001b[43mvector\u001b[49m)\u001b[38;5;241m.\u001b[39msum(\u001b[38;5;241m1\u001b[39m) \u001b[38;5;241m/\u001b[39m mask\u001b[38;5;241m.\u001b[39msum(\u001b[38;5;241m1\u001b[39m))\u001b[38;5;241m.\u001b[39mmean(\u001b[38;5;241m0\u001b[39m)\n",
      "File \u001b[0;32m~/.cache/pypoetry/virtualenvs/micrlhf-progress-_SD4q1c9-py3.12/lib/python3.12/site-packages/jax/_src/numpy/array_methods.py:265\u001b[0m, in \u001b[0;36m_defer_to_unrecognized_arg.<locals>.deferring_binary_op\u001b[0;34m(self, other)\u001b[0m\n\u001b[1;32m    263\u001b[0m args \u001b[38;5;241m=\u001b[39m (other, \u001b[38;5;28mself\u001b[39m) \u001b[38;5;28;01mif\u001b[39;00m swap \u001b[38;5;28;01melse\u001b[39;00m (\u001b[38;5;28mself\u001b[39m, other)\n\u001b[1;32m    264\u001b[0m \u001b[38;5;28;01mif\u001b[39;00m \u001b[38;5;28misinstance\u001b[39m(other, _accepted_binop_types):\n\u001b[0;32m--> 265\u001b[0m   \u001b[38;5;28;01mreturn\u001b[39;00m \u001b[43mbinary_op\u001b[49m\u001b[43m(\u001b[49m\u001b[38;5;241;43m*\u001b[39;49m\u001b[43margs\u001b[49m\u001b[43m)\u001b[49m\n\u001b[1;32m    266\u001b[0m \u001b[38;5;66;03m# Note: don't use isinstance here, because we don't want to raise for\u001b[39;00m\n\u001b[1;32m    267\u001b[0m \u001b[38;5;66;03m# subclasses, e.g. NamedTuple objects that may override operators.\u001b[39;00m\n\u001b[1;32m    268\u001b[0m \u001b[38;5;28;01mif\u001b[39;00m \u001b[38;5;28mtype\u001b[39m(other) \u001b[38;5;129;01min\u001b[39;00m _rejected_binop_types:\n",
      "\u001b[0;31mValueError\u001b[0m: RESOURCE_EXHAUSTED: Error allocating device buffer: Attempting to allocate 128.00M. That was not possible. There are 90.22M free.; (0x0x0_HBM0)"
     ]
    }
   ],
   "source": [
    "jax.vmap(lambda x: compute_feature_effects(\"r\", 11, x, \"arrow\"))(jax.lax.top_k(mask_average(ie_resid[11], \"arrow\"), 4)[1]).tolist()"
   ]
  },
  {
   "cell_type": "code",
   "execution_count": 55,
   "metadata": {},
   "outputs": [
    {
     "data": {
      "text/html": [
       "<div id=\"output_98063b6eadb74be3a4633630657c47ba\"><script> /* penzai.treescope rendering of a Python object (compressed) */ (()=>{ let observer; let lastStep = new Promise((resolve, reject) => { observer = new IntersectionObserver((entries) => { for (const entry of entries) { if (entry.isIntersecting) { resolve(); observer.disconnect(); return; } } }, {rootMargin: \"1000px\"}); }); window.treescope_decompress_enqueue = (encoded, destId) => { const previous = lastStep; const destElt = document.getElementById(destId); lastStep = (async () => { await previous; let blob = new Blob([ Uint8Array.from(atob(encoded), (m) => m.codePointAt(0)) ]); let reader = blob.stream().pipeThrough( new DecompressionStream(\"deflate\") ).pipeThrough( new TextDecoderStream(\"utf-8\") ).getReader(); let parts = []; while (true) { let step = await reader.read(); if (step.done) { break; } parts.push(step.value); } let newElt = document.createElement(\"div\"); newElt.innerHTML = parts.join(\"\"); destElt.parentNode.replaceChild(newElt, destElt); for (let oldScript of newElt.querySelectorAll(\"script\")) { let newScript = document.createElement(\"script\"); newScript.type = oldScript.type; newScript.textContent = oldScript.textContent; oldScript.parentNode.replaceChild(newScript, oldScript); } })(); requestAnimationFrame(() => { observer.observe(destElt); }); } })(); </script><div id=\"compress_html_ad816213c1f240a7a9852899227a0a75\"><script>window.treescope_decompress_enqueue(\"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\", \"compress_html_ad816213c1f240a7a9852899227a0a75\");</script><span style=\"color: #aaaaaa; font-family: monospace\">(Loading...)</span></div></div>"
      ],
      "text/plain": [
       "<IPython.core.display.HTML object>"
      ]
     },
     "metadata": {},
     "output_type": "display_data"
    },
    {
     "data": {
      "text/html": [
       "<div id=\"output_dest_98063b6eadb74be3a4633630657c47ba\"><script> (()=>{ const output = document.getElementById(\"output_98063b6eadb74be3a4633630657c47ba\"); const dest = document.getElementById(\"output_dest_98063b6eadb74be3a4633630657c47ba\"); dest.parentNode.replaceChild(output, dest); })(); </script></div>"
      ],
      "text/plain": [
       "(11, 'arrow', 'a', 23594, 0.4126616418361664)"
      ]
     },
     "execution_count": 55,
     "metadata": {},
     "output_type": "execute_result"
    }
   ],
   "source": [
    "combined_ies[0]"
   ]
  },
  {
   "cell_type": "code",
   "execution_count": 56,
   "metadata": {},
   "outputs": [
    {
     "name": "stderr",
     "output_type": "stream",
     "text": [
      "100%|██████████| 11/11 [00:00<00:00, 41.06it/s]\n"
     ]
    }
   ],
   "source": [
    "typed_ies_error = {\n",
    "    \"er\": ie_error_resid,\n",
    "    \"ea\": ie_error_attn,\n",
    "    \"et\": ie_error_transcoder,\n",
    "}\n",
    "\n",
    "for layer in tqdm(layers):\n",
    "    for type in typed_ies_error:\n",
    "        if layer in typed_ies_error[type]: \n",
    "            ies = typed_ies_error[type][layer]\n",
    "            for mask in masks:\n",
    "                ies_mask = mask_average(ies, mask)\n",
    "                # print(ies_mask.tolist())\n",
    "                # raise\n",
    "                combined_ies.append((layer, mask, type, 0, ies_mask.tolist()))\n",
    "\n",
    "                # combined_ies[(layer, mask, type, 0)] = ies_mask.tolist()"
   ]
  },
  {
   "cell_type": "code",
   "execution_count": 57,
   "metadata": {},
   "outputs": [],
   "source": [
    "combined_ies = sorted(combined_ies, key=lambda x: -x[-1])"
   ]
  },
  {
   "cell_type": "code",
   "execution_count": 58,
   "metadata": {},
   "outputs": [],
   "source": [
    "important_feats_masks = {}\n",
    "for mask in masks:\n",
    "    important_feats_masks[mask] = [\n",
    "        (type, layer, feat) for layer, f_mask, type, feat, _ in combined_ies if f_mask == mask\n",
    "        ]"
   ]
  },
  {
   "cell_type": "code",
   "execution_count": null,
   "metadata": {},
   "outputs": [],
   "source": [
    "def "
   ]
  },
  {
   "cell_type": "code",
   "execution_count": 63,
   "metadata": {},
   "outputs": [
    {
     "data": {
      "application/vnd.jupyter.widget-view+json": {
       "model_id": "f265394239c54e53993e7cfa4892ff74",
       "version_major": 2,
       "version_minor": 0
      },
      "text/plain": [
       "  0%|          | 0/5 [00:00<?, ?it/s]"
      ]
     },
     "metadata": {},
     "output_type": "display_data"
    },
    {
     "data": {
      "application/vnd.jupyter.widget-view+json": {
       "model_id": "bcd3ac9d92324ed2b8d655a094a79622",
       "version_major": 2,
       "version_minor": 0
      },
      "text/plain": [
       "  0%|          | 0/18250 [00:00<?, ?it/s]"
      ]
     },
     "metadata": {},
     "output_type": "display_data"
    },
    {
     "ename": "KeyboardInterrupt",
     "evalue": "",
     "output_type": "error",
     "traceback": [
      "\u001b[0;31m---------------------------------------------------------------------------\u001b[0m",
      "\u001b[0;31mKeyboardInterrupt\u001b[0m                         Traceback (most recent call last)",
      "Cell \u001b[0;32mIn[63], line 5\u001b[0m\n\u001b[1;32m      3\u001b[0m \u001b[38;5;28;01mfor\u001b[39;00m mask, features \u001b[38;5;129;01min\u001b[39;00m tqdm(important_feats_masks\u001b[38;5;241m.\u001b[39mitems()):\n\u001b[1;32m      4\u001b[0m     \u001b[38;5;28;01mfor\u001b[39;00m downstream_feature \u001b[38;5;129;01min\u001b[39;00m tqdm(features):\n\u001b[0;32m----> 5\u001b[0m         edges \u001b[38;5;241m=\u001b[39m \u001b[43mcompute_edges\u001b[49m\u001b[43m(\u001b[49m\u001b[43mdownstream_feature\u001b[49m\u001b[43m,\u001b[49m\u001b[43m \u001b[49m\u001b[43mmask\u001b[49m\u001b[43m,\u001b[49m\u001b[43m \u001b[49m\u001b[43mlayer_window\u001b[49m\u001b[38;5;241;43m=\u001b[39;49m\u001b[38;5;241;43m1\u001b[39;49m\u001b[43m)\u001b[49m\n\u001b[1;32m      6\u001b[0m         graph\u001b[38;5;241m.\u001b[39mextend([(weight, upstream_feature_key \u001b[38;5;241m+\u001b[39m (upstream_feature,), downstream_feature[:\u001b[38;5;241m2\u001b[39m] \u001b[38;5;241m+\u001b[39m (mask,) \u001b[38;5;241m+\u001b[39m downstream_feature[\u001b[38;5;241m2\u001b[39m:])\n\u001b[1;32m      7\u001b[0m                       \u001b[38;5;28;01mfor\u001b[39;00m weight, upstream_feature_key, upstream_feature \u001b[38;5;129;01min\u001b[39;00m edges])\n",
      "Cell \u001b[0;32mIn[54], line 34\u001b[0m, in \u001b[0;36mcompute_edges\u001b[0;34m(feature, mask, layer_window, k, abs_effects)\u001b[0m\n\u001b[1;32m     32\u001b[0m \u001b[38;5;28;01mif\u001b[39;00m l \u001b[38;5;241m<\u001b[39m layer \u001b[38;5;129;01mor\u001b[39;00m feature_type \u001b[38;5;129;01min\u001b[39;00m (\u001b[38;5;124m\"\u001b[39m\u001b[38;5;124mt\u001b[39m\u001b[38;5;124m\"\u001b[39m, \u001b[38;5;124m\"\u001b[39m\u001b[38;5;124met\u001b[39m\u001b[38;5;124m\"\u001b[39m):\n\u001b[1;32m     33\u001b[0m     \u001b[38;5;28;01mfor\u001b[39;00m mask \u001b[38;5;129;01min\u001b[39;00m masks:\n\u001b[0;32m---> 34\u001b[0m         feature_effects[(\u001b[38;5;124m\"\u001b[39m\u001b[38;5;124ma\u001b[39m\u001b[38;5;124m\"\u001b[39m, l, mask)] \u001b[38;5;241m=\u001b[39m \u001b[43mie_mid_to_attn_features\u001b[49m\u001b[43m(\u001b[49m\u001b[43ml\u001b[49m\u001b[43m,\u001b[49m\u001b[43m \u001b[49m\u001b[43mresid_grad\u001b[49m\u001b[43m,\u001b[49m\u001b[43m \u001b[49m\u001b[43mmask\u001b[49m\u001b[43m)\u001b[49m\n\u001b[1;32m     35\u001b[0m         feature_effects[(\u001b[38;5;124m\"\u001b[39m\u001b[38;5;124mea\u001b[39m\u001b[38;5;124m\"\u001b[39m, l, mask)] \u001b[38;5;241m=\u001b[39m ie_mid_to_attn_error(l, resid_grad, mask)\n\u001b[1;32m     36\u001b[0m \u001b[38;5;66;03m# # does not work # resid_grad = resid_grad - grad_through_attn(layer, resid_grad)\u001b[39;00m\n\u001b[1;32m     37\u001b[0m \u001b[38;5;66;03m# resid_grad = resid_grad + grad_through_attn(layer, resid_grad)\u001b[39;00m\n",
      "Cell \u001b[0;32mIn[47], line 6\u001b[0m, in \u001b[0;36mie_mid_to_attn_features\u001b[0;34m(layer, grad, mask)\u001b[0m\n\u001b[1;32m      3\u001b[0m resid_mid \u001b[38;5;241m=\u001b[39m resids_mid[layer]\n\u001b[1;32m      4\u001b[0m resid_pre \u001b[38;5;241m=\u001b[39m resids_pre[layer]\n\u001b[0;32m----> 6\u001b[0m ie \u001b[38;5;241m=\u001b[39m \u001b[43msfc_simple\u001b[49m\u001b[43m(\u001b[49m\u001b[43mgrad\u001b[49m\u001b[43m,\u001b[49m\u001b[43m \u001b[49m\u001b[43mresid_mid\u001b[49m\u001b[43m \u001b[49m\u001b[38;5;241;43m-\u001b[39;49m\u001b[43m \u001b[49m\u001b[43mresid_pre\u001b[49m\u001b[43m,\u001b[49m\u001b[43m \u001b[49m\u001b[43mresid_mid\u001b[49m\u001b[43m \u001b[49m\u001b[38;5;241;43m-\u001b[39;49m\u001b[43m \u001b[49m\u001b[43mresid_pre\u001b[49m\u001b[43m,\u001b[49m\u001b[43m \u001b[49m\u001b[43msae\u001b[49m\u001b[43m)\u001b[49m[\u001b[38;5;241m0\u001b[39m]\n\u001b[1;32m      7\u001b[0m ie \u001b[38;5;241m=\u001b[39m mask_average(ie, mask)\n\u001b[1;32m      8\u001b[0m \u001b[38;5;28;01mreturn\u001b[39;00m ie\n",
      "Cell \u001b[0;32mIn[62], line 27\u001b[0m, in \u001b[0;36msfc_simple\u001b[0;34m(grad, resid, target, sae)\u001b[0m\n\u001b[1;32m     23\u001b[0m f \u001b[38;5;241m=\u001b[39m partial(weights_to_resid, sae\u001b[38;5;241m=\u001b[39msae)\n\u001b[1;32m     26\u001b[0m grad \u001b[38;5;241m=\u001b[39m grad\u001b[38;5;241m.\u001b[39mastype(jnp\u001b[38;5;241m.\u001b[39mfloat32)\n\u001b[0;32m---> 27\u001b[0m sae_grad, \u001b[38;5;241m=\u001b[39m \u001b[43mjax\u001b[49m\u001b[38;5;241;43m.\u001b[39;49m\u001b[43mvjp\u001b[49m\u001b[43m(\u001b[49m\u001b[43mf\u001b[49m\u001b[43m,\u001b[49m\u001b[43m \u001b[49m\u001b[43mpost_relu\u001b[49m\u001b[43m)\u001b[49m\u001b[43m[\u001b[49m\u001b[38;5;241;43m1\u001b[39;49m\u001b[43m]\u001b[49m\u001b[43m(\u001b[49m\u001b[43mgrad\u001b[49m\u001b[43m,\u001b[49m\u001b[43m)\u001b[49m\n\u001b[1;32m     28\u001b[0m indirect_effects \u001b[38;5;241m=\u001b[39m sae_grad \u001b[38;5;241m*\u001b[39m post_relu\n\u001b[1;32m     29\u001b[0m indirect_effects_error \u001b[38;5;241m=\u001b[39m jnp\u001b[38;5;241m.\u001b[39meinsum(\u001b[38;5;124m\"\u001b[39m\u001b[38;5;124m...f, ...f -> ...\u001b[39m\u001b[38;5;124m\"\u001b[39m, grad, error)\n",
      "File \u001b[0;32m~/.cache/pypoetry/virtualenvs/micrlhf-progress-_SD4q1c9-py3.12/lib/python3.12/site-packages/jax/_src/tree_util.py:476\u001b[0m, in \u001b[0;36m_HashableCallableShim.__call__\u001b[0;34m(self, *args, **kw)\u001b[0m\n\u001b[1;32m    475\u001b[0m \u001b[38;5;28;01mdef\u001b[39;00m \u001b[38;5;21m__call__\u001b[39m(\u001b[38;5;28mself\u001b[39m, \u001b[38;5;241m*\u001b[39margs, \u001b[38;5;241m*\u001b[39m\u001b[38;5;241m*\u001b[39mkw):\n\u001b[0;32m--> 476\u001b[0m   \u001b[38;5;28;01mreturn\u001b[39;00m \u001b[38;5;28;43mself\u001b[39;49m\u001b[38;5;241;43m.\u001b[39;49m\u001b[43mfun\u001b[49m\u001b[43m(\u001b[49m\u001b[38;5;241;43m*\u001b[39;49m\u001b[43margs\u001b[49m\u001b[43m,\u001b[49m\u001b[43m \u001b[49m\u001b[38;5;241;43m*\u001b[39;49m\u001b[38;5;241;43m*\u001b[39;49m\u001b[43mkw\u001b[49m\u001b[43m)\u001b[49m\n",
      "File \u001b[0;32m~/.cache/pypoetry/virtualenvs/micrlhf-progress-_SD4q1c9-py3.12/lib/python3.12/site-packages/jax/_src/api.py:2100\u001b[0m, in \u001b[0;36m_vjp_pullback_wrapper\u001b[0;34m(name, out_primal_avals, io_tree, fun, *py_args_)\u001b[0m\n\u001b[1;32m   2093\u001b[0m   \u001b[38;5;28;01mif\u001b[39;00m (\u001b[38;5;129;01mnot\u001b[39;00m core\u001b[38;5;241m.\u001b[39mtypecompat(ct_aval, ct_aval_expected) \u001b[38;5;129;01mand\u001b[39;00m\n\u001b[1;32m   2094\u001b[0m       \u001b[38;5;129;01mnot\u001b[39;00m _temporary_dtype_exception(ct_aval, ct_aval_expected)):\n\u001b[1;32m   2095\u001b[0m     \u001b[38;5;28;01mraise\u001b[39;00m \u001b[38;5;167;01mValueError\u001b[39;00m(\n\u001b[1;32m   2096\u001b[0m         \u001b[38;5;124m\"\u001b[39m\u001b[38;5;124munexpected JAX type (e.g. shape/dtype) for argument to vjp function: \u001b[39m\u001b[38;5;124m\"\u001b[39m\n\u001b[1;32m   2097\u001b[0m         \u001b[38;5;124mf\u001b[39m\u001b[38;5;124m\"\u001b[39m\u001b[38;5;124mgot \u001b[39m\u001b[38;5;132;01m{\u001b[39;00mct_aval\u001b[38;5;241m.\u001b[39mstr_short()\u001b[38;5;132;01m}\u001b[39;00m\u001b[38;5;124m, but expected \u001b[39m\u001b[38;5;132;01m{\u001b[39;00mct_aval_expected\u001b[38;5;241m.\u001b[39mstr_short()\u001b[38;5;132;01m}\u001b[39;00m\u001b[38;5;124m \u001b[39m\u001b[38;5;124m\"\u001b[39m\n\u001b[1;32m   2098\u001b[0m         \u001b[38;5;124mf\u001b[39m\u001b[38;5;124m\"\u001b[39m\u001b[38;5;124mbecause the corresponding output of the function \u001b[39m\u001b[38;5;132;01m{\u001b[39;00mname\u001b[38;5;132;01m}\u001b[39;00m\u001b[38;5;124m had JAX type \u001b[39m\u001b[38;5;124m\"\u001b[39m\n\u001b[1;32m   2099\u001b[0m         \u001b[38;5;124mf\u001b[39m\u001b[38;5;124m\"\u001b[39m\u001b[38;5;132;01m{\u001b[39;00maval\u001b[38;5;241m.\u001b[39mstr_short()\u001b[38;5;132;01m}\u001b[39;00m\u001b[38;5;124m\"\u001b[39m)\n\u001b[0;32m-> 2100\u001b[0m ans \u001b[38;5;241m=\u001b[39m \u001b[43mfun\u001b[49m\u001b[43m(\u001b[49m\u001b[38;5;241;43m*\u001b[39;49m\u001b[43margs\u001b[49m\u001b[43m)\u001b[49m\n\u001b[1;32m   2101\u001b[0m \u001b[38;5;28;01mreturn\u001b[39;00m tree_unflatten(out_tree, ans)\n",
      "File \u001b[0;32m~/.cache/pypoetry/virtualenvs/micrlhf-progress-_SD4q1c9-py3.12/lib/python3.12/site-packages/jax/_src/tree_util.py:476\u001b[0m, in \u001b[0;36m_HashableCallableShim.__call__\u001b[0;34m(self, *args, **kw)\u001b[0m\n\u001b[1;32m    475\u001b[0m \u001b[38;5;28;01mdef\u001b[39;00m \u001b[38;5;21m__call__\u001b[39m(\u001b[38;5;28mself\u001b[39m, \u001b[38;5;241m*\u001b[39margs, \u001b[38;5;241m*\u001b[39m\u001b[38;5;241m*\u001b[39mkw):\n\u001b[0;32m--> 476\u001b[0m   \u001b[38;5;28;01mreturn\u001b[39;00m \u001b[38;5;28;43mself\u001b[39;49m\u001b[38;5;241;43m.\u001b[39;49m\u001b[43mfun\u001b[49m\u001b[43m(\u001b[49m\u001b[38;5;241;43m*\u001b[39;49m\u001b[43margs\u001b[49m\u001b[43m,\u001b[49m\u001b[43m \u001b[49m\u001b[38;5;241;43m*\u001b[39;49m\u001b[38;5;241;43m*\u001b[39;49m\u001b[43mkw\u001b[49m\u001b[43m)\u001b[49m\n",
      "File \u001b[0;32m~/.cache/pypoetry/virtualenvs/micrlhf-progress-_SD4q1c9-py3.12/lib/python3.12/site-packages/jax/_src/interpreters/ad.py:150\u001b[0m, in \u001b[0;36mvjp.<locals>.unbound_vjp\u001b[0;34m(pvals, jaxpr, consts, *cts)\u001b[0m\n\u001b[1;32m    148\u001b[0m cts \u001b[38;5;241m=\u001b[39m \u001b[38;5;28mtuple\u001b[39m(ct \u001b[38;5;28;01mfor\u001b[39;00m ct, pval \u001b[38;5;129;01min\u001b[39;00m \u001b[38;5;28mzip\u001b[39m(cts, pvals) \u001b[38;5;28;01mif\u001b[39;00m \u001b[38;5;129;01mnot\u001b[39;00m pval\u001b[38;5;241m.\u001b[39mis_known())\n\u001b[1;32m    149\u001b[0m dummy_args \u001b[38;5;241m=\u001b[39m [UndefinedPrimal(v\u001b[38;5;241m.\u001b[39maval) \u001b[38;5;28;01mfor\u001b[39;00m v \u001b[38;5;129;01min\u001b[39;00m jaxpr\u001b[38;5;241m.\u001b[39minvars]\n\u001b[0;32m--> 150\u001b[0m arg_cts \u001b[38;5;241m=\u001b[39m \u001b[43mbackward_pass\u001b[49m\u001b[43m(\u001b[49m\u001b[43mjaxpr\u001b[49m\u001b[43m,\u001b[49m\u001b[43m \u001b[49m\u001b[38;5;28;43;01mTrue\u001b[39;49;00m\u001b[43m,\u001b[49m\u001b[43m \u001b[49m\u001b[43mconsts\u001b[49m\u001b[43m,\u001b[49m\u001b[43m \u001b[49m\u001b[43mdummy_args\u001b[49m\u001b[43m,\u001b[49m\u001b[43m \u001b[49m\u001b[43mcts\u001b[49m\u001b[43m)\u001b[49m\n\u001b[1;32m    151\u001b[0m \u001b[38;5;28;01mreturn\u001b[39;00m \u001b[38;5;28mmap\u001b[39m(instantiate_zeros, arg_cts)\n",
      "File \u001b[0;32m~/.cache/pypoetry/virtualenvs/micrlhf-progress-_SD4q1c9-py3.12/lib/python3.12/site-packages/jax/_src/interpreters/ad.py:253\u001b[0m, in \u001b[0;36mbackward_pass\u001b[0;34m(jaxpr, transform_stack, consts, primals_in, cotangents_in)\u001b[0m\n\u001b[1;32m    250\u001b[0m   cts_out \u001b[38;5;241m=\u001b[39m reducing_transposes[eqn\u001b[38;5;241m.\u001b[39mprimitive](\n\u001b[1;32m    251\u001b[0m       cts_in, \u001b[38;5;241m*\u001b[39minvals, \u001b[38;5;241m*\u001b[39m\u001b[38;5;241m*\u001b[39meqn\u001b[38;5;241m.\u001b[39mparams)\n\u001b[1;32m    252\u001b[0m \u001b[38;5;28;01melse\u001b[39;00m:\n\u001b[0;32m--> 253\u001b[0m   cts_out \u001b[38;5;241m=\u001b[39m \u001b[43mget_primitive_transpose\u001b[49m\u001b[43m(\u001b[49m\u001b[43meqn\u001b[49m\u001b[38;5;241;43m.\u001b[39;49m\u001b[43mprimitive\u001b[49m\u001b[43m)\u001b[49m\u001b[43m(\u001b[49m\n\u001b[1;32m    254\u001b[0m \u001b[43m      \u001b[49m\u001b[43mcts_in\u001b[49m\u001b[43m,\u001b[49m\u001b[43m \u001b[49m\u001b[38;5;241;43m*\u001b[39;49m\u001b[43minvals\u001b[49m\u001b[43m,\u001b[49m\u001b[43m \u001b[49m\u001b[38;5;241;43m*\u001b[39;49m\u001b[38;5;241;43m*\u001b[39;49m\u001b[43meqn\u001b[49m\u001b[38;5;241;43m.\u001b[39;49m\u001b[43mparams\u001b[49m\u001b[43m)\u001b[49m\n\u001b[1;32m    255\u001b[0m cts_out \u001b[38;5;241m=\u001b[39m [Zero(v\u001b[38;5;241m.\u001b[39maval) \u001b[38;5;28;01mfor\u001b[39;00m v \u001b[38;5;129;01min\u001b[39;00m eqn\u001b[38;5;241m.\u001b[39minvars] \u001b[38;5;28;01mif\u001b[39;00m cts_out \u001b[38;5;129;01mis\u001b[39;00m Zero \u001b[38;5;28;01melse\u001b[39;00m cts_out\n\u001b[1;32m    256\u001b[0m \u001b[38;5;66;03m# FIXME: Some invars correspond to primals!\u001b[39;00m\n",
      "File \u001b[0;32m~/.cache/pypoetry/virtualenvs/micrlhf-progress-_SD4q1c9-py3.12/lib/python3.12/site-packages/jax/_src/lax/lax.py:2494\u001b[0m, in \u001b[0;36m_convert_element_type_transpose_rule\u001b[0;34m(ct, operand, new_dtype, weak_type)\u001b[0m\n\u001b[1;32m   2492\u001b[0m   \u001b[38;5;28;01mreturn\u001b[39;00m [ad_util\u001b[38;5;241m.\u001b[39mZero(operand\u001b[38;5;241m.\u001b[39maval\u001b[38;5;241m.\u001b[39mupdate(dtype\u001b[38;5;241m=\u001b[39mdtypes\u001b[38;5;241m.\u001b[39mfloat0, weak_type\u001b[38;5;241m=\u001b[39m\u001b[38;5;28;01mFalse\u001b[39;00m))]\n\u001b[1;32m   2493\u001b[0m \u001b[38;5;28;01melse\u001b[39;00m:\n\u001b[0;32m-> 2494\u001b[0m   \u001b[38;5;28;01mreturn\u001b[39;00m [\u001b[43mconvert_element_type_p\u001b[49m\u001b[38;5;241;43m.\u001b[39;49m\u001b[43mbind\u001b[49m\u001b[43m(\u001b[49m\u001b[43mct\u001b[49m\u001b[43m,\u001b[49m\u001b[43m \u001b[49m\u001b[43mnew_dtype\u001b[49m\u001b[38;5;241;43m=\u001b[39;49m\u001b[43mold_dtype\u001b[49m\u001b[43m,\u001b[49m\n\u001b[1;32m   2495\u001b[0m \u001b[43m                                      \u001b[49m\u001b[43mweak_type\u001b[49m\u001b[38;5;241;43m=\u001b[39;49m\u001b[43mold_weak_type\u001b[49m\u001b[43m)\u001b[49m]\n",
      "File \u001b[0;32m~/.cache/pypoetry/virtualenvs/micrlhf-progress-_SD4q1c9-py3.12/lib/python3.12/site-packages/jax/_src/core.py:416\u001b[0m, in \u001b[0;36mPrimitive.bind\u001b[0;34m(self, *args, **params)\u001b[0m\n\u001b[1;32m    413\u001b[0m \u001b[38;5;28;01mdef\u001b[39;00m \u001b[38;5;21mbind\u001b[39m(\u001b[38;5;28mself\u001b[39m, \u001b[38;5;241m*\u001b[39margs, \u001b[38;5;241m*\u001b[39m\u001b[38;5;241m*\u001b[39mparams):\n\u001b[1;32m    414\u001b[0m   \u001b[38;5;28;01massert\u001b[39;00m (\u001b[38;5;129;01mnot\u001b[39;00m config\u001b[38;5;241m.\u001b[39menable_checks\u001b[38;5;241m.\u001b[39mvalue \u001b[38;5;129;01mor\u001b[39;00m\n\u001b[1;32m    415\u001b[0m           \u001b[38;5;28mall\u001b[39m(\u001b[38;5;28misinstance\u001b[39m(arg, Tracer) \u001b[38;5;129;01mor\u001b[39;00m valid_jaxtype(arg) \u001b[38;5;28;01mfor\u001b[39;00m arg \u001b[38;5;129;01min\u001b[39;00m args)), args\n\u001b[0;32m--> 416\u001b[0m   \u001b[38;5;28;01mreturn\u001b[39;00m \u001b[38;5;28;43mself\u001b[39;49m\u001b[38;5;241;43m.\u001b[39;49m\u001b[43mbind_with_trace\u001b[49m\u001b[43m(\u001b[49m\u001b[43mfind_top_trace\u001b[49m\u001b[43m(\u001b[49m\u001b[43margs\u001b[49m\u001b[43m)\u001b[49m\u001b[43m,\u001b[49m\u001b[43m \u001b[49m\u001b[43margs\u001b[49m\u001b[43m,\u001b[49m\u001b[43m \u001b[49m\u001b[43mparams\u001b[49m\u001b[43m)\u001b[49m\n",
      "File \u001b[0;32m~/.cache/pypoetry/virtualenvs/micrlhf-progress-_SD4q1c9-py3.12/lib/python3.12/site-packages/jax/_src/core.py:420\u001b[0m, in \u001b[0;36mPrimitive.bind_with_trace\u001b[0;34m(self, trace, args, params)\u001b[0m\n\u001b[1;32m    418\u001b[0m \u001b[38;5;28;01mdef\u001b[39;00m \u001b[38;5;21mbind_with_trace\u001b[39m(\u001b[38;5;28mself\u001b[39m, trace, args, params):\n\u001b[1;32m    419\u001b[0m   \u001b[38;5;28;01mwith\u001b[39;00m pop_level(trace\u001b[38;5;241m.\u001b[39mlevel):\n\u001b[0;32m--> 420\u001b[0m     out \u001b[38;5;241m=\u001b[39m \u001b[43mtrace\u001b[49m\u001b[38;5;241;43m.\u001b[39;49m\u001b[43mprocess_primitive\u001b[49m\u001b[43m(\u001b[49m\u001b[38;5;28;43mself\u001b[39;49m\u001b[43m,\u001b[49m\u001b[43m \u001b[49m\u001b[38;5;28;43mmap\u001b[39;49m\u001b[43m(\u001b[49m\u001b[43mtrace\u001b[49m\u001b[38;5;241;43m.\u001b[39;49m\u001b[43mfull_raise\u001b[49m\u001b[43m,\u001b[49m\u001b[43m \u001b[49m\u001b[43margs\u001b[49m\u001b[43m)\u001b[49m\u001b[43m,\u001b[49m\u001b[43m \u001b[49m\u001b[43mparams\u001b[49m\u001b[43m)\u001b[49m\n\u001b[1;32m    421\u001b[0m   \u001b[38;5;28;01mreturn\u001b[39;00m \u001b[38;5;28mmap\u001b[39m(full_lower, out) \u001b[38;5;28;01mif\u001b[39;00m \u001b[38;5;28mself\u001b[39m\u001b[38;5;241m.\u001b[39mmultiple_results \u001b[38;5;28;01melse\u001b[39;00m full_lower(out)\n",
      "File \u001b[0;32m~/.cache/pypoetry/virtualenvs/micrlhf-progress-_SD4q1c9-py3.12/lib/python3.12/site-packages/jax/_src/core.py:921\u001b[0m, in \u001b[0;36mEvalTrace.process_primitive\u001b[0;34m(self, primitive, tracers, params)\u001b[0m\n\u001b[1;32m    919\u001b[0m   \u001b[38;5;28;01mreturn\u001b[39;00m call_impl_with_key_reuse_checks(primitive, primitive\u001b[38;5;241m.\u001b[39mimpl, \u001b[38;5;241m*\u001b[39mtracers, \u001b[38;5;241m*\u001b[39m\u001b[38;5;241m*\u001b[39mparams)\n\u001b[1;32m    920\u001b[0m \u001b[38;5;28;01melse\u001b[39;00m:\n\u001b[0;32m--> 921\u001b[0m   \u001b[38;5;28;01mreturn\u001b[39;00m \u001b[43mprimitive\u001b[49m\u001b[38;5;241;43m.\u001b[39;49m\u001b[43mimpl\u001b[49m\u001b[43m(\u001b[49m\u001b[38;5;241;43m*\u001b[39;49m\u001b[43mtracers\u001b[49m\u001b[43m,\u001b[49m\u001b[43m \u001b[49m\u001b[38;5;241;43m*\u001b[39;49m\u001b[38;5;241;43m*\u001b[39;49m\u001b[43mparams\u001b[49m\u001b[43m)\u001b[49m\n",
      "File \u001b[0;32m~/.cache/pypoetry/virtualenvs/micrlhf-progress-_SD4q1c9-py3.12/lib/python3.12/site-packages/jax/_src/dispatch.py:87\u001b[0m, in \u001b[0;36mapply_primitive\u001b[0;34m(prim, *args, **params)\u001b[0m\n\u001b[1;32m     85\u001b[0m prev \u001b[38;5;241m=\u001b[39m lib\u001b[38;5;241m.\u001b[39mjax_jit\u001b[38;5;241m.\u001b[39mswap_thread_local_state_disable_jit(\u001b[38;5;28;01mFalse\u001b[39;00m)\n\u001b[1;32m     86\u001b[0m \u001b[38;5;28;01mtry\u001b[39;00m:\n\u001b[0;32m---> 87\u001b[0m   outs \u001b[38;5;241m=\u001b[39m \u001b[43mfun\u001b[49m\u001b[43m(\u001b[49m\u001b[38;5;241;43m*\u001b[39;49m\u001b[43margs\u001b[49m\u001b[43m)\u001b[49m\n\u001b[1;32m     88\u001b[0m \u001b[38;5;28;01mfinally\u001b[39;00m:\n\u001b[1;32m     89\u001b[0m   lib\u001b[38;5;241m.\u001b[39mjax_jit\u001b[38;5;241m.\u001b[39mswap_thread_local_state_disable_jit(prev)\n",
      "\u001b[0;31mKeyboardInterrupt\u001b[0m: "
     ]
    }
   ],
   "source": [
    "from tqdm.auto import trange\n",
    "graph = []\n",
    "\n",
    "batch_size = 16\n",
    "\n",
    "for mask, features in tqdm(important_feats_masks.items()):\n",
    "    for batch in trange(0, len(features), batch_size):\n",
    "        batch_features = features[batch:batch+batch_size]\n",
    "        \n",
    "        \n",
    "        for feature in tqdm(batch_features):\n",
    "            edges = compute_edges(*feature, mask, layer_window=1)\n",
    "            graph.extend([(weight, feature, downstream_feature) for weight, _, downstream_feature in edges])\n",
    "\n",
    "\n",
    "    # for downstream_feature in tqdm(features):\n",
    "    #     edges = compute_edges(downstream_feature, mask, layer_window=1)\n",
    "    #     graph.extend([(weight, upstream_feature_key + (upstream_feature,), downstream_feature[:2] + (mask,) + downstream_feature[2:])\n",
    "    #                   for weight, upstream_feature_key, upstream_feature in edges])"
   ]
  },
  {
   "cell_type": "code",
   "execution_count": null,
   "metadata": {},
   "outputs": [],
   "source": [
    "combined_ies = [\n",
    "    (type, layer, mask, idx, weight) for layer, mask, type, idx, weight in combined_ies\n",
    "] "
   ]
  },
  {
   "cell_type": "code",
   "execution_count": null,
   "metadata": {},
   "outputs": [],
   "source": [
    "sorted_graph = sorted(graph, reverse=True, key=lambda x: x[0])"
   ]
  },
  {
   "cell_type": "code",
   "execution_count": null,
   "metadata": {},
   "outputs": [],
   "source": [
    "n_nodes = sum(map(len, important_feats_masks.values()))\n",
    "k_connections = 4\n",
    "weight_threshold = sorted_graph[n_nodes * k_connections][0]"
   ]
  },
  {
   "cell_type": "code",
   "execution_count": null,
   "metadata": {},
   "outputs": [],
   "source": [
    "import json\n",
    "with open(f\"micrlhf-progress/graph-{task_name}.json\", 'w') as f:\n",
    "    json.dump({\"edges\": graph, \"nodes\": combined_ies, \"threshold\": weight_threshold}, f)"
   ]
  }
 ],
 "metadata": {
  "kernelspec": {
   "display_name": "micrlhf-progress-_SD4q1c9-py3.12",
   "language": "python",
   "name": "python3"
  },
  "language_info": {
   "codemirror_mode": {
    "name": "ipython",
    "version": 3
   },
   "file_extension": ".py",
   "mimetype": "text/x-python",
   "name": "python",
   "nbconvert_exporter": "python",
   "pygments_lexer": "ipython3",
   "version": "3.12.0"
  }
 },
 "nbformat": 4,
 "nbformat_minor": 2
}
