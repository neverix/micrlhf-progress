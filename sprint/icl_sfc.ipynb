{
 "cells": [
  {
   "cell_type": "code",
   "execution_count": 1,
   "metadata": {},
   "outputs": [],
   "source": [
    "import os\n",
    "if \"models\" not in os.listdir(\".\"):\n",
    "    os.chdir(\"../..\")"
   ]
  },
  {
   "cell_type": "code",
   "execution_count": 2,
   "metadata": {},
   "outputs": [],
   "source": [
    "%load_ext autoreload\n",
    "%autoreload 2\n",
    "import penzai\n",
    "import jax_smi\n",
    "jax_smi.initialise_tracking()\n",
    "from penzai import pz\n",
    "pz.ts.register_as_default()\n",
    "pz.ts.register_autovisualize_magic()\n",
    "pz.enable_interactive_context()"
   ]
  },
  {
   "cell_type": "code",
   "execution_count": 3,
   "metadata": {},
   "outputs": [],
   "source": [
    "from micrlhf.llama import LlamaTransformer\n",
    "llama = LlamaTransformer.from_pretrained(\"models/gemma-2b-it.gguf\", from_type=\"gemma\", load_eager=True, device_map=\"tpu:0\")"
   ]
  },
  {
   "cell_type": "code",
   "execution_count": 4,
   "metadata": {},
   "outputs": [],
   "source": [
    "from transformers import AutoTokenizer\n",
    "tokenizer = AutoTokenizer.from_pretrained(\"alpindale/gemma-2b\")\n",
    "tokenizer.padding_side = \"right\""
   ]
  },
  {
   "cell_type": "code",
   "execution_count": 5,
   "metadata": {},
   "outputs": [],
   "source": [
    "from sprint.task_vector_utils import load_tasks, ICLRunner\n",
    "tasks = load_tasks()"
   ]
  },
  {
   "cell_type": "code",
   "execution_count": 6,
   "metadata": {},
   "outputs": [
    {
     "name": "stdout",
     "output_type": "stream",
     "text": [
      "763\n",
      "346\n"
     ]
    }
   ],
   "source": [
    "def check_if_single_token(token):\n",
    "    return len(tokenizer.tokenize(token)) == 1\n",
    "\n",
    "task_name = \"es_en\"\n",
    "\n",
    "task = tasks[task_name]\n",
    "\n",
    "print(len(task))\n",
    "\n",
    "task = {\n",
    "    k:v for k,v in task.items() if check_if_single_token(k) and check_if_single_token(v)\n",
    "}\n",
    "\n",
    "print(len(task))\n",
    "\n",
    "pairs = list(task.items())"
   ]
  },
  {
   "cell_type": "code",
   "execution_count": 7,
   "metadata": {},
   "outputs": [],
   "source": [
    "def logprob_loss(logits, tokens, sep=1599, pad_token=32000, n_first=None, shift=None):\n",
    "    logits = logits[:, :-1]\n",
    "\n",
    "    # print(\n",
    "    #     logits.argmax(axis=-1)\n",
    "    # )\n",
    "\n",
    "    logits = jnp.take_along_axis(logits, tokens[:, 1:, None], axis=-1).squeeze(-1)\n",
    "\n",
    "    mask = tokens[:, 1:] == sep\n",
    "    mask = jnp.cumsum(mask[:, ::-1], axis=-1)[:, ::-1] > 0\n",
    "    mask = jnp.logical_not(mask)\n",
    "\n",
    "    if shift is not None:\n",
    "        rolled_mask = jnp.roll(mask, shift, axis=-1)\n",
    "        mask = jnp.logical_and(mask, rolled_mask)\n",
    "\n",
    "    # print(mask[:, -5:])\n",
    "    \n",
    "    if n_first is not None:\n",
    "        rolled_mask = jnp.roll(mask, n_first, axis=-1)\n",
    "        mask = jnp.logical_and(mask, jnp.logical_not(rolled_mask))\n",
    "\n",
    "    mask = jnp.logical_and(mask, tokens[:, 1:] != pad_token)\n",
    "\n",
    "    logits = logits * mask\n",
    "\n",
    "    return logits.sum(axis=-1).mean(axis=-1)"
   ]
  },
  {
   "cell_type": "code",
   "execution_count": 8,
   "metadata": {},
   "outputs": [],
   "source": [
    "from functools import partial\n",
    "\n",
    "sep = 3978\n",
    "pad = 0\n",
    "\n",
    "def metric_fn(logits, resids, tokens):\n",
    "    return logprob_loss(logits, tokens, sep=sep, pad_token=pad, n_first=2)"
   ]
  },
  {
   "cell_type": "code",
   "execution_count": 9,
   "metadata": {},
   "outputs": [],
   "source": [
    "from micrlhf.llama import LlamaBlock, LlamaAttention\n",
    "from micrlhf.utils.activation_manipulation import ActivationAddition, wrap_vector\n",
    "from functools import partial\n",
    "import jax.numpy as jnp\n",
    "from penzai import pz\n",
    "import jax\n",
    "\n",
    "@partial(jax.jit, static_argnames=(\"metric\", \"batched\"))\n",
    "def run_with_add(additions_pre, additions_mid, tokens, metric, batched=False, llama=None):\n",
    "    get_resids = llama.select().at_instances_of(LlamaBlock).apply_with_selected_index(lambda i, x:\n",
    "        pz.nn.Sequential([\n",
    "            pz.de.TellIntermediate.from_config(tag=f\"resid_pre_{i}\"),\n",
    "            x\n",
    "        ])\n",
    "    )\n",
    "    get_resids = get_resids.select().at_instances_of(LlamaBlock).apply_with_selected_index(lambda l, b: b.select().at_instances_of(pz.nn.Residual).apply_with_selected_index(lambda i, x: x if i == 0 else pz.nn.Sequential([\n",
    "        pz.de.TellIntermediate.from_config(tag=f\"resid_mid_{l}\"),\n",
    "        x,\n",
    "    ])))\n",
    "\n",
    "\n",
    "    get_resids = get_resids.select().at_instances_of(LlamaAttention).apply_with_selected_index(lambda i, x: x.select().at_instances_of(pz.nn.Softmax).apply(lambda b: pz.nn.Sequential([\n",
    "        b,\n",
    "        pz.de.TellIntermediate.from_config(tag=f\"attn_{i}\"),\n",
    "    ])))\n",
    "\n",
    "    get_resids = pz.de.CollectingSideOutputs.handling(get_resids, tag_predicate=lambda x: True)\n",
    "    make_additions = get_resids.select().at_instances_of(LlamaBlock).apply_with_selected_index(lambda i, x:\n",
    "        pz.nn.Sequential([\n",
    "            ActivationAddition(pz.nx.wrap(additions_pre[i], *((\"batch\",) if batched else ()), \"seq\", \"embedding\"), \"all\"),\n",
    "            x\n",
    "        ])\n",
    "    )\n",
    "    make_additions = make_additions.select().at_instances_of(LlamaBlock).apply_with_selected_index(lambda l, b: b.select().at_instances_of(pz.nn.Residual).apply_with_selected_index(lambda i, x: x if i == 0 else pz.nn.Sequential([\n",
    "        ActivationAddition(pz.nx.wrap(additions_mid[l], *((\"batch\",) if batched else ()), \"seq\", \"embedding\"), \"all\"),\n",
    "        x,\n",
    "    ])))\n",
    "    tokens_wrapped = pz.nx.wrap(tokens, \"batch\", \"seq\")\n",
    "    logits, resids = make_additions(llama.inputs.from_basic_segments(tokens_wrapped))\n",
    "    return metric(logits.unwrap(\"batch\", \"seq\", \"vocabulary\"), resids, tokens), (logits, resids[::3], resids[1::3], resids[2::3])\n",
    "\n",
    "\n",
    "@partial(jax.jit, static_argnames=(\"metric\",))\n",
    "def get_metric_resid_grad(tokens, llama=llama, metric=metric_fn):\n",
    "    additions = [jnp.zeros(tokens.shape + (llama.config.hidden_size,)) for _ in range(llama.config.num_layers)]\n",
    "    batched = tokens.ndim > 1\n",
    "    (metric, (logits, resids_pre, qk, resids_mid)), (grad_pre, grad_mid) = jax.value_and_grad(run_with_add, argnums=(0, 1), has_aux=True)(additions, additions, tokens, metric, batched=batched, llama=llama)\n",
    "    return (\n",
    "        metric,\n",
    "        [r.value.unwrap(\"batch\", \"seq\", \"embedding\") for r in resids_pre],\n",
    "        [r.value.unwrap(\"batch\", \"seq\", \"embedding\") for r in resids_mid],\n",
    "        [r.value.unwrap(\"batch\", \"kv_heads\", \"q_rep\", \"seq\", \"kv_seq\") for r in qk],\n",
    "        grad_pre,\n",
    "        grad_mid\n",
    "    )\n"
   ]
  },
  {
   "cell_type": "code",
   "execution_count": 10,
   "metadata": {},
   "outputs": [],
   "source": [
    "batch_size = 8 \n",
    "n_shot=20\n",
    "max_seq_len = 128\n",
    "seed = 10"
   ]
  },
  {
   "cell_type": "code",
   "execution_count": 11,
   "metadata": {},
   "outputs": [],
   "source": [
    "prompt = \"Follow the pattern:\\n{}\""
   ]
  },
  {
   "cell_type": "code",
   "execution_count": 12,
   "metadata": {},
   "outputs": [],
   "source": [
    "runner = ICLRunner(task_name, pairs, batch_size=batch_size, n_shot=n_shot, max_seq_len=max_seq_len, seed=seed, prompt=prompt)"
   ]
  },
  {
   "cell_type": "code",
   "execution_count": 13,
   "metadata": {},
   "outputs": [],
   "source": [
    "from sprint.task_vector_utils import tokenized_to_inputs\n",
    "\n",
    "train_tokens = runner.get_tokens(\n",
    "    runner.train_pairs, tokenizer\n",
    ")[\"input_ids\"]"
   ]
  },
  {
   "cell_type": "code",
   "execution_count": 14,
   "metadata": {},
   "outputs": [],
   "source": [
    "metric_value, resids_pre, resids_mid, qk, grad_pre, grad_mid = get_metric_resid_grad(train_tokens, llama=llama)"
   ]
  },
  {
   "cell_type": "code",
   "execution_count": 15,
   "metadata": {},
   "outputs": [],
   "source": [
    "get_rms_block = lambda layer, resid_index: (\n",
    "    llama.select()\n",
    "    .at_instances_of(LlamaBlock).pick_nth_selected(layer)\n",
    "    .at_instances_of(pz.nn.Residual).pick_nth_selected(resid_index)\n",
    "    .at_instances_of(pz.nn.RMSLayerNorm).pick_nth_selected(0)\n",
    "    ).get()"
   ]
  },
  {
   "cell_type": "code",
   "execution_count": 16,
   "metadata": {},
   "outputs": [],
   "source": [
    "mlp_rms = [get_rms_block(layer, 1) for layer in range(llama.config.num_layers)]"
   ]
  },
  {
   "cell_type": "code",
   "execution_count": 17,
   "metadata": {},
   "outputs": [],
   "source": [
    "from micrlhf.utils.load_sae import get_nev_it_sae_suite"
   ]
  },
  {
   "cell_type": "code",
   "execution_count": 18,
   "metadata": {},
   "outputs": [],
   "source": [
    "from micrlhf.utils.load_sae import weights_to_resid, resids_to_weights"
   ]
  },
  {
   "cell_type": "code",
   "execution_count": 19,
   "metadata": {},
   "outputs": [],
   "source": [
    "from micrlhf.utils.load_sae import sae_encode_gated"
   ]
  },
  {
   "cell_type": "code",
   "execution_count": 20,
   "metadata": {},
   "outputs": [],
   "source": [
    "def mlp_normalize(layer, resid_mid):\n",
    "    # return resid_mid / resids_mid_norms[layer] * mlp_rms_weights[layer]\n",
    "    # return resid_mid / jnp.linalg.norm(resid_mid, axis=-1, keepdims=True) * mlp_rms_weights[layer]\n",
    "    return mlp_rms[layer](pz.nx.wrap(resid_mid, \"batch\", \"seq\", \"embedding\")).unwrap(\"batch\", \"seq\", \"embedding\")"
   ]
  },
  {
   "cell_type": "code",
   "execution_count": 21,
   "metadata": {},
   "outputs": [
    {
     "data": {
      "application/vnd.jupyter.widget-view+json": {
       "model_id": "bf770c578d9e4c348d83daf5821b78f3",
       "version_major": 2,
       "version_minor": 0
      },
      "text/plain": [
       "  0%|          | 0/11 [00:00<?, ?it/s]"
      ]
     },
     "metadata": {},
     "output_type": "display_data"
    },
    {
     "data": {
      "application/vnd.jupyter.widget-view+json": {
       "model_id": "4b4b234e8cfa444cb252fdcf2e541ba0",
       "version_major": 2,
       "version_minor": 0
      },
      "text/plain": [
       "  0%|          | 0/11 [00:00<?, ?it/s]"
      ]
     },
     "metadata": {},
     "output_type": "display_data"
    },
    {
     "data": {
      "application/vnd.jupyter.widget-view+json": {
       "model_id": "8d3b41b3e2df4f2fbce3f083327e6b0e",
       "version_major": 2,
       "version_minor": 0
      },
      "text/plain": [
       "  0%|          | 0/10 [00:00<?, ?it/s]"
      ]
     },
     "metadata": {},
     "output_type": "display_data"
    }
   ],
   "source": [
    "from tqdm.auto import tqdm\n",
    "\n",
    "ie_attn = {}\n",
    "sae_grads_attn = {}\n",
    "ie_resid = {}\n",
    "sae_grads_resid = {}\n",
    "ie_transcoder = {}\n",
    "sae_grads_transcoder = {}\n",
    "\n",
    "ie_error_attn = {}\n",
    "ie_error_resid = {}\n",
    "ie_error_transcoder = {}\n",
    "\n",
    "sae_error_attn = {}\n",
    "sae_error_resid = {}\n",
    "sae_error_transcoder = {}\n",
    "\n",
    "def sfc_simple(grad, resid, target, sae):\n",
    "    pre_relu, post_relu, recon = sae_encode_gated(sae, resid)\n",
    "    error = target - recon\n",
    "    f = partial(weights_to_resid, sae=sae)\n",
    "\n",
    "    sae_grad, = jax.vjp(f, post_relu)[1](grad,)\n",
    "    indirect_effects = sae_grad * post_relu\n",
    "    indirect_effects_error = jnp.einsum(\"...f, ...f -> ...\", grad, error)\n",
    "    return indirect_effects, indirect_effects_error, sae_grad, error\n",
    "\n",
    "\n",
    "layers = list(range(6, 17))\n",
    "for l in tqdm(layers):\n",
    "    r_pre, r_mid, g_mid = resids_pre[l], resids_mid[l], grad_mid[l]\n",
    "    sae = get_nev_it_sae_suite(layer=l, label=\"attn_out\")\n",
    "    indirect_effects, indirect_effects_error, sae_grad, error = sfc_simple(g_mid, r_mid - r_pre, r_mid - r_pre, sae)\n",
    "    # display((indirect_effects > 0).sum(-1))\n",
    "    ie_attn[l] = indirect_effects\n",
    "    ie_error_attn[l] = indirect_effects_error\n",
    "    sae_grads_attn[l] = sae_grad\n",
    "    sae_error_attn[l] = error\n",
    "\n",
    "# for layer, (r_pre, g_pre) in enumerate(zip(resids_pre, grad_pre)):\n",
    "for l in tqdm(layers):\n",
    "    r_pre, g_pre = resids_pre[l], grad_pre[l]\n",
    "    sae = get_nev_it_sae_suite(layer=l)\n",
    "    indirect_effects, indirect_effects_error, sae_grad, error = sfc_simple(g_pre, r_pre, r_pre, sae)\n",
    "    # display((indirect_effects != 0).sum(-1))\n",
    "    ie_resid[l] = indirect_effects\n",
    "    ie_error_resid[l] = indirect_effects_error\n",
    "    sae_grads_resid[l] = sae_grad\n",
    "    sae_error_resid[l] = error\n",
    "\n",
    "for l in tqdm(layers[:-1]):\n",
    "    r_mid, r_pre, g_pre = resids_mid[l], resids_pre[l + 1], grad_pre[l + 1]\n",
    "    sae = get_nev_it_sae_suite(layer=l, label=\"transcoder\")\n",
    "    indirect_effects, indirect_effects_error, sae_grad, error = sfc_simple(g_pre, mlp_normalize(l, r_mid), r_pre - r_mid, sae)\n",
    "    # display((indirect_effects != 0).sum(-1))\n",
    "    ie_transcoder[l] = indirect_effects\n",
    "    ie_error_transcoder[l] = indirect_effects_error\n",
    "    sae_grads_transcoder[l] = sae_grad\n",
    "    sae_error_transcoder[l] = error"
   ]
  },
  {
   "cell_type": "code",
   "execution_count": 22,
   "metadata": {},
   "outputs": [],
   "source": [
    "tokens_wrapped = pz.nx.wrap(train_tokens, \"batch\", \"seq\")\n",
    "llama_inputs = llama.inputs.from_basic_segments(tokens_wrapped)"
   ]
  },
  {
   "cell_type": "code",
   "execution_count": 23,
   "metadata": {},
   "outputs": [],
   "source": [
    "# def attn_call(layer, resid_pre):\n",
    "#     subblock = llama.select().at_instances_of(LlamaBlock).pick_nth_selected(layer).at_instances_of(pz.nn.Residual).pick_nth_selected(0).get().delta\n",
    "#     subblock = subblock.select().at_instances_of(LlamaAttention).get()\n",
    "\n",
    "#     si_selection = subblock.select().at_instances_of(pz.de.HandledSideInputRef)\n",
    "#     keys = sorted(set([ref.tag for ref in si_selection.get_sequence()]))\n",
    "#     replaced = si_selection.apply(lambda ref: pz.de.SideInputRequest(tag=ref.tag))\n",
    "#     subblock = pz.de.WithSideInputsFromInputTuple.handling(replaced, keys)\n",
    "\n",
    "#     side_inputs = {\n",
    "#         'positions': llama_inputs.positions,\n",
    "#         'attn_mask': llama_inputs.attention_mask\n",
    "#     }\n",
    "    \n",
    "#     resid_pre = resid_pre / \n",
    "\n",
    "#     resid_pre = pz.nx.wrap(resid_pre, \"batch\", \"seq\", \"embedding\")\n",
    "#     attn_out = subblock((resid_pre,) + tuple(side_inputs[tag] for tag in subblock.side_input_tags))\n",
    "\n",
    "#     attn_out = attn_out.unwrap(\"batch\", \"seq\", \"embedding\") \n",
    "\n",
    "#     return attn_out.astype(resid.dtype)\n",
    "\n",
    "# attn_call(6, resids_pre[6])"
   ]
  },
  {
   "cell_type": "code",
   "execution_count": 24,
   "metadata": {},
   "outputs": [],
   "source": [
    "prompt_length = len(tokenizer.tokenize(prompt))\n",
    "periods = [\"input\", \"arrow\", \"output\", \"newline\"]\n",
    "masks = {\n",
    "    \"prompt\": jnp.zeros_like(train_tokens).at[:, :prompt_length].set(1).astype(bool),\n",
    "    **{\n",
    "        period: jnp.zeros_like(train_tokens).at[:, prompt_length+i::len(periods)].set(1).astype(bool) * (train_tokens != pad) for i, period in enumerate(periods)\n",
    "    }\n",
    "}"
   ]
  },
  {
   "cell_type": "code",
   "execution_count": 25,
   "metadata": {},
   "outputs": [],
   "source": [
    "def mask_average(vector, mask):\n",
    "    mask = masks[mask]\n",
    "    while mask.ndim < vector.ndim:\n",
    "        mask = mask[..., None]\n",
    "\n",
    "    return ((mask * vector).sum(1) / mask.sum(1)).mean(0)"
   ]
  },
  {
   "cell_type": "code",
   "execution_count": 26,
   "metadata": {},
   "outputs": [],
   "source": [
    "def transcoder_feature_to_mid(layer, feature_idx, mask):\n",
    "    sae = get_nev_it_sae_suite(layer=layer, label=\"transcoder\")\n",
    "    resid = resids_mid[layer]\n",
    "\n",
    "    def f(resid):\n",
    "        resid = mlp_normalize(layer, resid)\n",
    "        batch_token_feat = resids_to_weights(resid, sae)[:, :, feature_idx] * sae_grads_transcoder[layer][:, :, feature_idx]\n",
    "        token_act = mask_average(batch_token_feat, mask)\n",
    "        return token_act\n",
    "\n",
    "    return jax.grad(f)(resid)"
   ]
  },
  {
   "cell_type": "code",
   "execution_count": 27,
   "metadata": {},
   "outputs": [],
   "source": [
    "def transcoder_error_to_mid(layer, mask):\n",
    "    sae = get_nev_it_sae_suite(layer=layer, label=\"transcoder\")\n",
    "    resid_next = resids_pre[layer + 1]\n",
    "    resid = resids_mid[layer]\n",
    "\n",
    "    grad = grad_pre[layer + 1]\n",
    "\n",
    "    def f(resid):\n",
    "        _, _, recon = sae_encode_gated(sae, resid)\n",
    "        err_by_grad = jnp.einsum(\"...f, ...f -> ...\", (resid_next - recon), grad)\n",
    "        return mask_average(err_by_grad, mask)\n",
    "\n",
    "    return jax.grad(f)(resid)"
   ]
  },
  {
   "cell_type": "code",
   "execution_count": 28,
   "metadata": {},
   "outputs": [],
   "source": [
    "def attn_out_feature_to_pre(layer, feature_idx, mask):\n",
    "    sae = get_nev_it_sae_suite(layer=layer, label=\"attn_out\")\n",
    "\n",
    "    resid = resids_pre[layer]\n",
    "\n",
    "    subblock = llama.select().at_instances_of(LlamaBlock).pick_nth_selected(layer).at_instances_of(pz.nn.Residual).pick_nth_selected(0).get().delta\n",
    "\n",
    "    si_selection = subblock.select().at_instances_of(pz.de.HandledSideInputRef)\n",
    "    keys = sorted(set([ref.tag for ref in si_selection.get_sequence()]))\n",
    "    replaced = si_selection.apply(lambda ref: pz.de.SideInputRequest(tag=ref.tag))\n",
    "    subblock = pz.de.WithSideInputsFromInputTuple.handling(replaced, keys)\n",
    "\n",
    "    side_inputs = {\n",
    "        'positions': llama_inputs.positions,\n",
    "        'attn_mask': llama_inputs.attention_mask\n",
    "    }\n",
    "\n",
    "    def f(resid):\n",
    "        resid = pz.nx.wrap(resid, \"batch\", \"seq\", \"embedding\")\n",
    "        attn_out = subblock((resid,) + tuple(side_inputs[tag] for tag in subblock.side_input_tags))\n",
    "\n",
    "        attn_out = attn_out.unwrap(\"batch\", \"seq\", \"embedding\") \n",
    "\n",
    "        batch_token_feat = resids_to_weights(attn_out, sae)[:, :, feature_idx] * sae_grads_attn[layer][:, :, feature_idx]\n",
    "        token_act = mask_average(batch_token_feat, mask)\n",
    "        return token_act\n",
    "\n",
    "    return jax.grad(f)(resid)\n",
    "\n",
    "def attn_out_error_to_pre(layer, mask):\n",
    "    sae = get_nev_it_sae_suite(layer=layer, label=\"attn_out\")\n",
    "\n",
    "    resid = resids_pre[layer]\n",
    "\n",
    "    subblock = llama.select().at_instances_of(LlamaBlock).pick_nth_selected(layer).at_instances_of(pz.nn.Residual).pick_nth_selected(0).get().delta\n",
    "\n",
    "    si_selection = subblock.select().at_instances_of(pz.de.HandledSideInputRef)\n",
    "    keys = sorted(set([ref.tag for ref in si_selection.get_sequence()]))\n",
    "    replaced = si_selection.apply(lambda ref: pz.de.SideInputRequest(tag=ref.tag))\n",
    "    subblock = pz.de.WithSideInputsFromInputTuple.handling(replaced, keys)\n",
    "\n",
    "    side_inputs = {\n",
    "        'positions': llama_inputs.positions,\n",
    "        'attn_mask': llama_inputs.attention_mask\n",
    "    }\n",
    "\n",
    "    def f(resid):\n",
    "        resid = pz.nx.wrap(resid, \"batch\", \"seq\", \"embedding\")\n",
    "        attn_out = subblock((resid,) + tuple(side_inputs[tag] for tag in subblock.side_input_tags))\n",
    "\n",
    "        attn_out = attn_out.unwrap(\"batch\", \"seq\", \"embedding\") \n",
    "\n",
    "        _, _, recon = sae_encode_gated(sae, attn_out)\n",
    "        batch_token_feat = jnp.einsum(\"...f, ...f -> ...\", attn_out - recon, grad_mid[layer])\n",
    "        token_act = mask_average(batch_token_feat, mask)\n",
    "        return token_act\n",
    "\n",
    "    return jax.grad(f)(resid)\n",
    "# float(jnp.linalg.norm(attn_out_error_to_pre(6, \"arrow\")))"
   ]
  },
  {
   "cell_type": "code",
   "execution_count": 29,
   "metadata": {},
   "outputs": [],
   "source": [
    "def pre_feature_to_pre(layer, feature_idx, mask):\n",
    "    sae = get_nev_it_sae_suite(layer=layer)\n",
    "    resid = resids_pre[layer]\n",
    "\n",
    "    def f(resid):\n",
    "        batch_token_feat = resids_to_weights(resid, sae)[:, :, feature_idx] * sae_grads_resid[layer][:, :, feature_idx]\n",
    "        token_act = mask_average(batch_token_feat, mask)\n",
    "        return token_act\n",
    "\n",
    "    return jax.grad(f)(resid)\n",
    "\n",
    "def pre_error_to_pre(layer, mask):\n",
    "    sae = get_nev_it_sae_suite(layer=layer)\n",
    "    resid = resids_pre[layer]\n",
    "\n",
    "    def f(resid):\n",
    "        _, _, recon = sae_encode_gated(sae, resid)\n",
    "        batch_token_error = jnp.einsum(\"...f, ...f -> ...\", (resid - recon), grad_pre[layer])\n",
    "        token_grad = mask_average(batch_token_error, mask)\n",
    "        return token_grad\n",
    "\n",
    "    return jax.grad(f)(resid)\n"
   ]
  },
  {
   "cell_type": "code",
   "execution_count": 30,
   "metadata": {},
   "outputs": [],
   "source": [
    "def ie_pre_to_transcoder_features(layer, grad, mask):\n",
    "    sae = get_nev_it_sae_suite(layer=layer, label=\"transcoder\")\n",
    "    resid_mid = resids_mid[layer]\n",
    "    resid_mid = mlp_normalize(layer, resid_mid)\n",
    "    ie = sfc_simple(grad, resid_mid, resid_mid, sae)[0]\n",
    "    ie = mask_average(ie, mask)\n",
    "\n",
    "    return ie\n",
    "\n",
    "def ie_pre_to_transcoder_error(layer, grad, mask):\n",
    "    sae = get_nev_it_sae_suite(layer=layer, label=\"transcoder\")\n",
    "    resid_next = resids_pre[layer + 1]\n",
    "    resid_mid = resids_mid[layer]\n",
    "    ie = sfc_simple(grad, mlp_normalize(layer, resid_mid), resid_next - resid_mid, sae)[1]\n",
    "    ie = mask_average(ie, mask)\n",
    "\n",
    "    return ie"
   ]
  },
  {
   "cell_type": "code",
   "execution_count": 31,
   "metadata": {},
   "outputs": [],
   "source": [
    "def ie_mid_to_attn_features(layer, grad, mask):\n",
    "    sae = get_nev_it_sae_suite(layer=layer, label=\"attn_out\")\n",
    "    resid_mid = resids_mid[layer]\n",
    "    resid_pre = resids_pre[layer]\n",
    "\n",
    "    ie = sfc_simple(grad, resid_mid - resid_pre, resid_mid - resid_pre, sae)[0]\n",
    "    ie = mask_average(ie, mask)\n",
    "    return ie\n",
    "\n",
    "def ie_mid_to_attn_error(layer, grad, mask):\n",
    "    sae = get_nev_it_sae_suite(layer=layer, label=\"attn_out\")\n",
    "    resid_mid = resids_mid[layer]\n",
    "    resid_pre = resids_pre[layer]\n",
    "\n",
    "    ie = sfc_simple(grad, resid_mid - resid_pre, resid_mid - resid_pre, sae)[1]\n",
    "    ie = mask_average(ie, mask)\n",
    "    return ie"
   ]
  },
  {
   "cell_type": "code",
   "execution_count": 32,
   "metadata": {},
   "outputs": [],
   "source": [
    "def ie_pre_to_pre_features(layer, grad, mask):\n",
    "    sae = get_nev_it_sae_suite(layer=layer)\n",
    "    resid = resids_pre[layer]\n",
    "    ie = sfc_simple(grad, resid, resid, sae)[0]\n",
    "    ie = mask_average(ie, mask)\n",
    "    return ie\n",
    "\n",
    "def ie_pre_to_pre_error(layer, grad, mask):\n",
    "    sae = get_nev_it_sae_suite(layer=layer)\n",
    "    resid = resids_pre[layer]\n",
    "    ie = sfc_simple(grad, resid, resid, sae)[1]\n",
    "    ie = mask_average(ie, mask)\n",
    "    return ie\n",
    "# float((ie_pre_to_pre_features(6, grad_pre[6], \"arrow\") - mask_average(ie_error_resid[6], \"arrow\")).sum())"
   ]
  },
  {
   "cell_type": "code",
   "execution_count": 33,
   "metadata": {},
   "outputs": [
    {
     "data": {
      "text/html": [
       "<div id=\"output_397abc7e9fc046ce9004686aad91b9c8\"><script> /* penzai.treescope rendering of a Python object (compressed) */ (()=>{ let observer; let lastStep = new Promise((resolve, reject) => { observer = new IntersectionObserver((entries) => { for (const entry of entries) { if (entry.isIntersecting) { resolve(); observer.disconnect(); return; } } }, {rootMargin: \"1000px\"}); }); window.treescope_decompress_enqueue = (encoded, destId) => { const previous = lastStep; const destElt = document.getElementById(destId); lastStep = (async () => { await previous; let blob = new Blob([ Uint8Array.from(atob(encoded), (m) => m.codePointAt(0)) ]); let reader = blob.stream().pipeThrough( new DecompressionStream(\"deflate\") ).pipeThrough( new TextDecoderStream(\"utf-8\") ).getReader(); let parts = []; while (true) { let step = await reader.read(); if (step.done) { break; } parts.push(step.value); } let newElt = document.createElement(\"div\"); newElt.innerHTML = parts.join(\"\"); destElt.parentNode.replaceChild(newElt, destElt); for (let oldScript of newElt.querySelectorAll(\"script\")) { let newScript = document.createElement(\"script\"); newScript.type = oldScript.type; newScript.textContent = oldScript.textContent; oldScript.parentNode.replaceChild(newScript, oldScript); } })(); requestAnimationFrame(() => { observer.observe(destElt); }); } })(); </script><div id=\"compress_html_1331e7bf075847dba5010527c37974f0\"><script>window.treescope_decompress_enqueue(\"eNrFV1tv2zYU/iunGpDKQaykTtI08gUIug57KPbSAXvYBoGSjizONKmRVBKv8H/fISXbsi23GVZs9oPMw3P5zl2eGLsSOIusRjSZqjDRSln4DJUy3HIlY9AomOWPOIZCSTss2JKLVQxLJZWpWEb0p5JbHPpDDJUmiuDGDr3qoV1VRJVKEjll2WKuVS3zYaaE0nEjOob2lApiIH08t2UMBbfEJi1KO4Yl03MuhwILG8MoK50NicMS+bwkypvodgzryWXjzsRkmld2BryA8InLXD3tPITpdAoEAQtSkA/I12MO+LweH5GjpEKZczl/yFxkDLH9+vtX2X5kMhdOpayF6OGeo00Ooj+FcBP0xKoBTGcE8vIcPiq1oCRosCWC55QqxwjOL0GghVa2I+pTQ8bD5u7VFHKV1UsKaJSqfAVnZ/DK3USZYMZ8pKRFLuCMSxMG+6CCAbhQbWw4oYpp0vRB4NJnaE2Wba2lv6Rjj6+6lp+Uks7BJ6UXrWdk0lhC9guR3NUe2fLMESvU5PiSyQwjqZ7Cwda1oxsYNkITuB45yH01cJjKSKCc25JKA676KuLLOW38dhFAYXAHvaylw/5V46bkhXUueQn3Y03fl2IIN5wa/6zR2AfJl8xx/KDZEsMmroNBf0YOoVS1KZvcjF8SuA2IaROKfxK6l8PuBY6SpGr8HgvUGvOfcVlR2aM5LqBKOOK28ElMrz6hwMwq/SAEFXor2x2CtUwMVWowGPuGC11/kSZQhVfoHKVnp280LtUj7nVNR8epTgg3WJ3+Qqu/0DWH19wMvn24YdAMNqfSSdCp61qmkdxoG7LLS78iN4eJuTHiTy0dn+37xljnekccezhNr//kxo1GilaG76n98pA0XDgGl6eTubJqPhfNGEn89LcEzE85oqCwF4CPpL0NhSs7f44WuHIdGehgM3qIuRPzRm8YbHUmSwIYbHCsgfZBswgmOX8ELzg9nGtgWUqA8XkaXAWgJBkl9LLD148/tCU3G+QBrZxmkeZtQSY+SKUSOWpfi37Bfcfu3LddpV4kBm6Z4BnhjQpiZymZcnP9xBJewz5b0qAj7pwbMrraLNtDRpiBYCmKOE6Raho7qDL/Gffaazbu8I1bue1ivhrvbHHp93AqlNvcJ22W1Bz62HLO9MIgm1Oo5bF0LJUND0glM+HM65z1xsHLxFmJ2YKW+wDOBzsMTrRfaMO/h9CXfwyvfxvdptnr/xPevtBJkG//A5Auj85wrY1LYKU4IdA9drn5dmZ9K3hDQ99v5lSNfxurO/fcHDy2EnGTFFwbmyiZuPLvaa0vtVI0unXd1Jsq+Nfwm4wfQnRe7b1D+4buvDFXTALPp8F2gGU3t/ktvrm/Koqbm/SepTf59XV28y5LR+zuHu+CVqgdq/t9f2iemBsnJlxWNe1S2j/TwMNO1XPQq6T1kC4b72aTSy9Mz1ZX137f4A1mZ8KO/2DP0YPWbAWFUMxej8Lr0d3bdxcDiKIIzuZ2TFEgTbPDBy2N7V+JF7+AhIPt1vkbIY3Cqg==\", \"compress_html_1331e7bf075847dba5010527c37974f0\");</script><span style=\"color: #aaaaaa; font-family: monospace\">(Loading...)</span></div></div>"
      ],
      "text/plain": [
       "<IPython.core.display.HTML object>"
      ]
     },
     "metadata": {},
     "output_type": "display_data"
    },
    {
     "data": {
      "text/html": [
       "<div id=\"compress_html_b71ade482dfd4a5d8c6a9406841fba64\"><script>window.treescope_decompress_enqueue(\"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\", \"compress_html_b71ade482dfd4a5d8c6a9406841fba64\");</script></div>"
      ],
      "text/plain": [
       "<IPython.core.display.HTML object>"
      ]
     },
     "metadata": {},
     "output_type": "display_data"
    },
    {
     "data": {
      "text/html": [
       "<div id=\"output_dest_397abc7e9fc046ce9004686aad91b9c8\"><script> (()=>{ const output = document.getElementById(\"output_397abc7e9fc046ce9004686aad91b9c8\"); const dest = document.getElementById(\"output_dest_397abc7e9fc046ce9004686aad91b9c8\"); dest.parentNode.replaceChild(output, dest); })(); </script></div>"
      ],
      "text/plain": [
       "# jax.Array float32(32768,) ≈-1.3e-08 ±2.6e-05 [≥-0.0023, ≤0.0023] zero:32_682 nonzero:86\n",
       "  Array([0., 0., 0., ..., 0., 0., 0.], dtype=float32)\n"
      ]
     },
     "execution_count": 33,
     "metadata": {},
     "output_type": "execute_result"
    }
   ],
   "source": [
    "ie_pre_to_pre_features(6, grad_pre[6], \"prompt\")"
   ]
  },
  {
   "cell_type": "code",
   "execution_count": 34,
   "metadata": {},
   "outputs": [],
   "source": [
    "def grad_through_transcoder(layer, grad):\n",
    "    sae = get_nev_it_sae_suite(layer, label=\"transcoder\")\n",
    "    resid_mid = resids_mid[layer]\n",
    "\n",
    "    def f(resid_mid):\n",
    "        resid_mid = mlp_normalize(layer, resid_mid)\n",
    "        # we ignore error nodes\n",
    "        weights = resids_to_weights(resid_mid, sae)\n",
    "        recon = weights_to_resid(weights, sae)\n",
    "\n",
    "        return recon\n",
    "\n",
    "    grad = jax.vjp(f, resid_mid)[1](grad,)[0]\n",
    "\n",
    "    return grad\n"
   ]
  },
  {
   "cell_type": "code",
   "execution_count": 35,
   "metadata": {},
   "outputs": [],
   "source": [
    "def grad_through_mlp(layer, grad):\n",
    "    mlp = llama.select().at_instances_of(LlamaBlock).pick_nth_selected(layer).at_instances_of(pz.nn.Residual).pick_nth_selected(1).get().delta\n",
    "    resid_mid = resids_mid[layer]\n",
    "    def f(resid_mid):\n",
    "        resids_mid = pz.nx.wrap(resid_mid, \"batch\", \"seq\", \"embedding\")\n",
    "        out = mlp(resids_mid)\n",
    "        return out.unwrap(\"batch\", \"seq\", \"embedding\").astype(resid_mid.dtype)\n",
    "    return jax.vjp(f, resid_mid)[1](grad.astype(resid_mid.dtype),)[0]"
   ]
  },
  {
   "cell_type": "code",
   "execution_count": 36,
   "metadata": {},
   "outputs": [],
   "source": [
    "def grad_through_attn(layer, grad):\n",
    "    subblock = llama.select().at_instances_of(LlamaBlock).pick_nth_selected(layer).at_instances_of(pz.nn.Residual).pick_nth_selected(0).get().delta\n",
    "\n",
    "    si_selection = subblock.select().at_instances_of(pz.de.HandledSideInputRef)\n",
    "    keys = sorted(set([ref.tag for ref in si_selection.get_sequence()]))\n",
    "    replaced = si_selection.apply(lambda ref: pz.de.SideInputRequest(tag=ref.tag))\n",
    "    subblock = pz.de.WithSideInputsFromInputTuple.handling(replaced, keys)\n",
    "\n",
    "    side_inputs = {\n",
    "        'positions': llama_inputs.positions,\n",
    "        'attn_mask': llama_inputs.attention_mask\n",
    "    }\n",
    "\n",
    "    def f(resid):\n",
    "        resid_pre = pz.nx.wrap(resid, \"batch\", \"seq\", \"embedding\")\n",
    "        attn_out = subblock((resid_pre,) + tuple(side_inputs[tag] for tag in subblock.side_input_tags))\n",
    "\n",
    "        attn_out = attn_out.unwrap(\"batch\", \"seq\", \"embedding\") \n",
    "\n",
    "        return attn_out.astype(resid.dtype)\n",
    "\n",
    "    resid = resids_pre[layer]\n",
    "    return jax.vjp(f, resid)[1](grad.astype(resid.dtype),)[0]"
   ]
  },
  {
   "cell_type": "code",
   "execution_count": 37,
   "metadata": {},
   "outputs": [],
   "source": [
    "ies = ie_resid[12]\n",
    "ies = mask_average(ies, \"arrow\")"
   ]
  },
  {
   "cell_type": "code",
   "execution_count": 38,
   "metadata": {},
   "outputs": [
    {
     "data": {
      "text/html": [
       "<div id=\"output_dbb0de4f456a42eeb94a84b239927e82\"><script> /* penzai.treescope rendering of a Python object (compressed) */ (()=>{ let observer; let lastStep = new Promise((resolve, reject) => { observer = new IntersectionObserver((entries) => { for (const entry of entries) { if (entry.isIntersecting) { resolve(); observer.disconnect(); return; } } }, {rootMargin: \"1000px\"}); }); window.treescope_decompress_enqueue = (encoded, destId) => { const previous = lastStep; const destElt = document.getElementById(destId); lastStep = (async () => { await previous; let blob = new Blob([ Uint8Array.from(atob(encoded), (m) => m.codePointAt(0)) ]); let reader = blob.stream().pipeThrough( new DecompressionStream(\"deflate\") ).pipeThrough( new TextDecoderStream(\"utf-8\") ).getReader(); let parts = []; while (true) { let step = await reader.read(); if (step.done) { break; } parts.push(step.value); } let newElt = document.createElement(\"div\"); newElt.innerHTML = parts.join(\"\"); destElt.parentNode.replaceChild(newElt, destElt); for (let oldScript of newElt.querySelectorAll(\"script\")) { let newScript = document.createElement(\"script\"); newScript.type = oldScript.type; newScript.textContent = oldScript.textContent; oldScript.parentNode.replaceChild(newScript, oldScript); } })(); requestAnimationFrame(() => { observer.observe(destElt); }); } })(); </script><div id=\"compress_html_4c524dc1028a4114ac82cac84caafadb\"><script>window.treescope_decompress_enqueue(\"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\", \"compress_html_4c524dc1028a4114ac82cac84caafadb\");</script><span style=\"color: #aaaaaa; font-family: monospace\">(Loading...)</span></div></div>"
      ],
      "text/plain": [
       "<IPython.core.display.HTML object>"
      ]
     },
     "metadata": {},
     "output_type": "display_data"
    },
    {
     "data": {
      "text/html": [
       "<div id=\"compress_html_aa234ef832dd40b4ae6e9091c419269d\"><script>window.treescope_decompress_enqueue(\"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\", \"compress_html_aa234ef832dd40b4ae6e9091c419269d\");</script></div>"
      ],
      "text/plain": [
       "<IPython.core.display.HTML object>"
      ]
     },
     "metadata": {},
     "output_type": "display_data"
    },
    {
     "data": {
      "text/html": [
       "<div id=\"output_dest_dbb0de4f456a42eeb94a84b239927e82\"><script> (()=>{ const output = document.getElementById(\"output_dbb0de4f456a42eeb94a84b239927e82\"); const dest = document.getElementById(\"output_dest_dbb0de4f456a42eeb94a84b239927e82\"); dest.parentNode.replaceChild(output, dest); })(); </script></div>"
      ],
      "text/plain": [
       "[# jax.Array float32(30,) ≈0.0015 ±0.0014 [≥0.0004, ≤0.0062] nonzero:30\n",
       "   Array([0.00623179, 0.00412249, 0.00389453, 0.00366905, 0.00362012,\n",
       "          0.00284077, 0.00281034, 0.00176627, 0.0016341 , 0.00162284,\n",
       "          0.0014716 , 0.00135594, 0.00130325, 0.00112798, 0.00110467,\n",
       "          0.00085296, 0.00064201, 0.00059513, 0.0005947 , 0.00057694,\n",
       "          0.00055326, 0.00054206, 0.00050143, 0.00047176, 0.00045941,\n",
       "          0.00043115, 0.00042893, 0.00042616, 0.00041728, 0.00039801],      dtype=float32)\n",
       " ,\n",
       " # jax.Array int32(30,) [≥507, ≤28_260] nonzero:30\n",
       "   Array([ 9157, 23723, 19580,  1112,   507, 14154, 16983, 13869, 11386,\n",
       "          28260,  7525, 14214, 16736, 11958, 23598, 19827, 23808, 25169,\n",
       "           1626,  3310, 11506, 14220, 15223,  6282,  9387, 23657, 21048,\n",
       "           1727, 21623, 23036], dtype=int32)\n",
       " ]"
      ]
     },
     "execution_count": 38,
     "metadata": {},
     "output_type": "execute_result"
    }
   ],
   "source": [
    "jax.lax.top_k(ies, 30)"
   ]
  },
  {
   "cell_type": "code",
   "execution_count": 39,
   "metadata": {},
   "outputs": [],
   "source": [
    "from tqdm import tqdm, trange\n",
    "\n",
    "def compute_edges(\n",
    "    feature,\n",
    "    mask,\n",
    "    layer_window=3,\n",
    "    k = 32,\n",
    "    abs_effects = False,\n",
    "):\n",
    "    feature_type, layer, feature_idx = feature\n",
    "    match feature_type:\n",
    "        case \"r\":\n",
    "            resid_grad = pre_feature_to_pre(layer, feature_idx, mask)\n",
    "        case \"t\":\n",
    "            resid_grad = transcoder_feature_to_mid(layer, feature_idx, mask)\n",
    "        case \"a\":\n",
    "            resid_grad = attn_out_feature_to_pre(layer, feature_idx, mask)\n",
    "        case \"er\":\n",
    "            resid_grad = pre_error_to_pre(layer, mask)\n",
    "        case \"et\":\n",
    "            resid_grad = transcoder_error_to_mid(layer, mask)\n",
    "        case \"ea\":\n",
    "            resid_grad = attn_out_error_to_pre(layer, mask)\n",
    "    feature_effects = {}\n",
    "    for l in range(layer, max(5, layer - 1 - layer_window), -1):\n",
    "        if l < layer:\n",
    "            for mask in masks:\n",
    "                feature_effects[(\"t\", l, mask)] = ie_pre_to_transcoder_features(l, resid_grad, mask)\n",
    "                feature_effects[(\"et\", l, mask)] = ie_pre_to_transcoder_error(l, resid_grad, mask)\n",
    "        # # does not work # resid_grad = resid_grad - grad_through_mlp(layer, resid_grad)\n",
    "        # resid_grad = resid_grad + grad_through_mlp(layer, resid_grad)\n",
    "        if l < layer or feature_type in (\"t\", \"et\"):\n",
    "            for mask in masks:\n",
    "                feature_effects[(\"a\", l, mask)] = ie_mid_to_attn_features(l, resid_grad, mask)\n",
    "                feature_effects[(\"ea\", l, mask)] = ie_mid_to_attn_error(l, resid_grad, mask)\n",
    "        # # does not work # resid_grad = resid_grad - grad_through_attn(layer, resid_grad)\n",
    "        # resid_grad = resid_grad + grad_through_attn(layer, resid_grad)\n",
    "        if l < layer or feature_type in (\"t\", \"et\", \"a\", \"ea\"):\n",
    "            for mask in masks:\n",
    "                feature_effects[(\"r\", l, mask)] = ie_pre_to_pre_features(l, resid_grad, mask)\n",
    "                feature_effects[(\"er\", l, mask)] = ie_pre_to_pre_error(l, resid_grad, mask)\n",
    "    top_effects = []\n",
    "    for key, features in feature_effects.items():\n",
    "        if features.ndim == 0:\n",
    "            top_effects.append((float(features), key, 0))\n",
    "            continue\n",
    "        effects, indices = jax.lax.top_k(features if not abs_effects else jnp.abs(features), k)\n",
    "        for i, e in zip(indices.tolist(), effects.tolist()):\n",
    "            top_effects.append((e, key, i))\n",
    "    top_effects.sort(reverse=True)\n",
    "    return top_effects[:k]\n"
   ]
  },
  {
   "cell_type": "code",
   "execution_count": 40,
   "metadata": {},
   "outputs": [],
   "source": [
    "important_feats_masks = {}\n",
    "for mask in masks:\n",
    "    all_important_features = []\n",
    "    ie_arrays = dict(r=ie_resid, a=ie_attn, t=ie_transcoder)\n",
    "    k = 4\n",
    "    for layer in layers[1:-1]:\n",
    "        for type in \"rat\":\n",
    "            all_important_features.append((\"e\" + type, layer, 0))\n",
    "            w, i = jax.lax.top_k(mask_average(ie_arrays[type][layer], mask), k)\n",
    "            for feat in i.tolist():\n",
    "                all_important_features.append((type, layer, feat))\n",
    "    important_feats_masks[mask] = all_important_features"
   ]
  },
  {
   "cell_type": "code",
   "execution_count": 45,
   "metadata": {},
   "outputs": [
    {
     "data": {
      "application/vnd.jupyter.widget-view+json": {
       "model_id": "c42633a5bc324b5a9546bb418aa4f7c1",
       "version_major": 2,
       "version_minor": 0
      },
      "text/plain": [
       "  0%|          | 0/5 [00:00<?, ?it/s]"
      ]
     },
     "metadata": {},
     "output_type": "display_data"
    },
    {
     "data": {
      "application/vnd.jupyter.widget-view+json": {
       "model_id": "b58c7b3dbbb04bd6962ad220f4a4ffc4",
       "version_major": 2,
       "version_minor": 0
      },
      "text/plain": [
       "  0%|          | 0/135 [00:00<?, ?it/s]"
      ]
     },
     "metadata": {},
     "output_type": "display_data"
    },
    {
     "data": {
      "application/vnd.jupyter.widget-view+json": {
       "model_id": "33415182670f4394b6dd670170ec7be7",
       "version_major": 2,
       "version_minor": 0
      },
      "text/plain": [
       "  0%|          | 0/135 [00:00<?, ?it/s]"
      ]
     },
     "metadata": {},
     "output_type": "display_data"
    },
    {
     "data": {
      "application/vnd.jupyter.widget-view+json": {
       "model_id": "cc436d2447824dfe88457ef4bb888016",
       "version_major": 2,
       "version_minor": 0
      },
      "text/plain": [
       "  0%|          | 0/135 [00:00<?, ?it/s]"
      ]
     },
     "metadata": {},
     "output_type": "display_data"
    },
    {
     "data": {
      "application/vnd.jupyter.widget-view+json": {
       "model_id": "7aceff403a214877918cce7412a8ba5a",
       "version_major": 2,
       "version_minor": 0
      },
      "text/plain": [
       "  0%|          | 0/135 [00:00<?, ?it/s]"
      ]
     },
     "metadata": {},
     "output_type": "display_data"
    },
    {
     "data": {
      "application/vnd.jupyter.widget-view+json": {
       "model_id": "0345bb19462343989363665394b8c5d7",
       "version_major": 2,
       "version_minor": 0
      },
      "text/plain": [
       "  0%|          | 0/135 [00:00<?, ?it/s]"
      ]
     },
     "metadata": {},
     "output_type": "display_data"
    }
   ],
   "source": [
    "from tqdm.auto import tqdm\n",
    "graph = []\n",
    "for mask, features in tqdm(important_feats_masks.items()):\n",
    "    for downstream_feature in tqdm(features):\n",
    "        edges = compute_edges(downstream_feature, mask, layer_window=1)\n",
    "        graph.extend([(weight, upstream_feature_key + (upstream_feature,), downstream_feature[:2] + (mask,) + downstream_feature[2:])\n",
    "                      for weight, upstream_feature_key, upstream_feature in edges])"
   ]
  },
  {
   "cell_type": "code",
   "execution_count": 43,
   "metadata": {},
   "outputs": [
    {
     "data": {
      "text/html": [
       "<div id=\"output_95dafaae6df341b6b64bc9de098396f2\"><script> /* penzai.treescope rendering of a Python object (compressed) */ (()=>{ let observer; let lastStep = new Promise((resolve, reject) => { observer = new IntersectionObserver((entries) => { for (const entry of entries) { if (entry.isIntersecting) { resolve(); observer.disconnect(); return; } } }, {rootMargin: \"1000px\"}); }); window.treescope_decompress_enqueue = (encoded, destId) => { const previous = lastStep; const destElt = document.getElementById(destId); lastStep = (async () => { await previous; let blob = new Blob([ Uint8Array.from(atob(encoded), (m) => m.codePointAt(0)) ]); let reader = blob.stream().pipeThrough( new DecompressionStream(\"deflate\") ).pipeThrough( new TextDecoderStream(\"utf-8\") ).getReader(); let parts = []; while (true) { let step = await reader.read(); if (step.done) { break; } parts.push(step.value); } let newElt = document.createElement(\"div\"); newElt.innerHTML = parts.join(\"\"); destElt.parentNode.replaceChild(newElt, destElt); for (let oldScript of newElt.querySelectorAll(\"script\")) { let newScript = document.createElement(\"script\"); newScript.type = oldScript.type; newScript.textContent = oldScript.textContent; oldScript.parentNode.replaceChild(newScript, oldScript); } })(); requestAnimationFrame(() => { observer.observe(destElt); }); } })(); </script><div id=\"compress_html_1487be223e5b4947854bfe7cc2db9ce7\"><script>window.treescope_decompress_enqueue(\"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\", \"compress_html_1487be223e5b4947854bfe7cc2db9ce7\");</script><span style=\"color: #aaaaaa; font-family: monospace\">(Loading...)</span></div></div>"
      ],
      "text/plain": [
       "<IPython.core.display.HTML object>"
      ]
     },
     "metadata": {},
     "output_type": "display_data"
    },
    {
     "data": {
      "text/html": [
       "<div id=\"output_dest_95dafaae6df341b6b64bc9de098396f2\"><script> (()=>{ const output = document.getElementById(\"output_95dafaae6df341b6b64bc9de098396f2\"); const dest = document.getElementById(\"output_dest_95dafaae6df341b6b64bc9de098396f2\"); dest.parentNode.replaceChild(output, dest); })(); </script></div>"
      ],
      "text/plain": [
       "('t', 14, 4291)"
      ]
     },
     "execution_count": 43,
     "metadata": {},
     "output_type": "execute_result"
    }
   ],
   "source": [
    "downstream_feature"
   ]
  },
  {
   "cell_type": "code",
   "execution_count": 42,
   "metadata": {},
   "outputs": [
    {
     "data": {
      "text/html": [
       "<div id=\"output_12c2ebbe30e14756b1d4d4145e20d0b5\"><script> /* penzai.treescope rendering of a Python object (compressed) */ (()=>{ let observer; let lastStep = new Promise((resolve, reject) => { observer = new IntersectionObserver((entries) => { for (const entry of entries) { if (entry.isIntersecting) { resolve(); observer.disconnect(); return; } } }, {rootMargin: \"1000px\"}); }); window.treescope_decompress_enqueue = (encoded, destId) => { const previous = lastStep; const destElt = document.getElementById(destId); lastStep = (async () => { await previous; let blob = new Blob([ Uint8Array.from(atob(encoded), (m) => m.codePointAt(0)) ]); let reader = blob.stream().pipeThrough( new DecompressionStream(\"deflate\") ).pipeThrough( new TextDecoderStream(\"utf-8\") ).getReader(); let parts = []; while (true) { let step = await reader.read(); if (step.done) { break; } parts.push(step.value); } let newElt = document.createElement(\"div\"); newElt.innerHTML = parts.join(\"\"); destElt.parentNode.replaceChild(newElt, destElt); for (let oldScript of newElt.querySelectorAll(\"script\")) { let newScript = document.createElement(\"script\"); newScript.type = oldScript.type; newScript.textContent = oldScript.textContent; oldScript.parentNode.replaceChild(newScript, oldScript); } })(); requestAnimationFrame(() => { observer.observe(destElt); }); } })(); </script><div id=\"compress_html_c42d26212f274d75ae253b7668c89d40\"><script>window.treescope_decompress_enqueue(\"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\", \"compress_html_c42d26212f274d75ae253b7668c89d40\");</script><span style=\"color: #aaaaaa; font-family: monospace\">(Loading...)</span></div></div>"
      ],
      "text/plain": [
       "<IPython.core.display.HTML object>"
      ]
     },
     "metadata": {},
     "output_type": "display_data"
    },
    {
     "data": {
      "text/html": [
       "<div id=\"output_dest_12c2ebbe30e14756b1d4d4145e20d0b5\"><script> (()=>{ const output = document.getElementById(\"output_12c2ebbe30e14756b1d4d4145e20d0b5\"); const dest = document.getElementById(\"output_dest_12c2ebbe30e14756b1d4d4145e20d0b5\"); dest.parentNode.replaceChild(output, dest); })(); </script></div>"
      ],
      "text/plain": [
       "[(8.410254395130323e-07, ('er', 12, 'prompt'), 0),\n",
       " (6.712065214742324e-07, ('er', 13, 'prompt'), 0),\n",
       " (5.32445653789182e-07, ('er', 11, 'prompt'), 0),\n",
       " (5.078710501038586e-07, ('er', 14, 'prompt'), 0)]"
      ]
     },
     "execution_count": 42,
     "metadata": {},
     "output_type": "execute_result"
    }
   ],
   "source": [
    "edges[:4]"
   ]
  },
  {
   "cell_type": "code",
   "execution_count": 47,
   "metadata": {},
   "outputs": [],
   "source": [
    "sorted_graph = sorted(graph, reverse=True, key=lambda x: x[0])"
   ]
  },
  {
   "cell_type": "code",
   "execution_count": 52,
   "metadata": {},
   "outputs": [],
   "source": [
    "n_nodes = sum(map(len, important_feats_masks.values()))\n",
    "k_connections = 4\n",
    "weight_threshold = sorted_graph[n_nodes * k_connections][0]"
   ]
  },
  {
   "cell_type": "code",
   "execution_count": 49,
   "metadata": {},
   "outputs": [
    {
     "data": {
      "text/html": [
       "<div id=\"output_fecb9697b24b4e3f8ff0f52ede75cbed\"><script> /* penzai.treescope rendering of a Python object (compressed) */ (()=>{ let observer; let lastStep = new Promise((resolve, reject) => { observer = new IntersectionObserver((entries) => { for (const entry of entries) { if (entry.isIntersecting) { resolve(); observer.disconnect(); return; } } }, {rootMargin: \"1000px\"}); }); window.treescope_decompress_enqueue = (encoded, destId) => { const previous = lastStep; const destElt = document.getElementById(destId); lastStep = (async () => { await previous; let blob = new Blob([ Uint8Array.from(atob(encoded), (m) => m.codePointAt(0)) ]); let reader = blob.stream().pipeThrough( new DecompressionStream(\"deflate\") ).pipeThrough( new TextDecoderStream(\"utf-8\") ).getReader(); let parts = []; while (true) { let step = await reader.read(); if (step.done) { break; } parts.push(step.value); } let newElt = document.createElement(\"div\"); newElt.innerHTML = parts.join(\"\"); destElt.parentNode.replaceChild(newElt, destElt); for (let oldScript of newElt.querySelectorAll(\"script\")) { let newScript = document.createElement(\"script\"); newScript.type = oldScript.type; newScript.textContent = oldScript.textContent; oldScript.parentNode.replaceChild(newScript, oldScript); } })(); requestAnimationFrame(() => { observer.observe(destElt); }); } })(); </script><div id=\"compress_html_d91ff3c9e40949f0be102a00bd2e363a\"><script>window.treescope_decompress_enqueue(\"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\", \"compress_html_d91ff3c9e40949f0be102a00bd2e363a\");</script><span style=\"color: #aaaaaa; font-family: monospace\">(Loading...)</span></div></div>"
      ],
      "text/plain": [
       "<IPython.core.display.HTML object>"
      ]
     },
     "metadata": {},
     "output_type": "display_data"
    },
    {
     "data": {
      "text/html": [
       "<div id=\"output_dest_fecb9697b24b4e3f8ff0f52ede75cbed\"><script> (()=>{ const output = document.getElementById(\"output_fecb9697b24b4e3f8ff0f52ede75cbed\"); const dest = document.getElementById(\"output_dest_fecb9697b24b4e3f8ff0f52ede75cbed\"); dest.parentNode.replaceChild(output, dest); })(); </script></div>"
      ],
      "text/plain": [
       "[(0.21056927740573883, ('r', 7, 'prompt', 22053), ('et', 8, 'prompt', 0)),\n",
       " (0.13129915297031403, ('r', 11, 'prompt', 30143), ('et', 11, 'prompt', 0)),\n",
       " (0.11400994658470154, ('r', 8, 'prompt', 10195), ('et', 8, 'prompt', 0)),\n",
       " (0.11324658989906311, ('r', 8, 'prompt', 25918), ('et', 8, 'prompt', 0))]"
      ]
     },
     "execution_count": 49,
     "metadata": {},
     "output_type": "execute_result"
    }
   ],
   "source": [
    "sum(len())"
   ]
  },
  {
   "cell_type": "code",
   "execution_count": 64,
   "metadata": {},
   "outputs": [
    {
     "name": "stderr",
     "output_type": "stream",
     "text": [
      "huggingface/tokenizers: The current process just got forked, after parallelism has already been used. Disabling parallelism to avoid deadlocks...\n",
      "To disable this warning, you can either:\n",
      "\t- Avoid using `tokenizers` before the fork if possible\n",
      "\t- Explicitly set the environment variable TOKENIZERS_PARALLELISM=(true | false)\n",
      "dot: graph is too large for cairo-renderer bitmaps. Scaling by 0.70213 to fit\n"
     ]
    },
    {
     "data": {
      "text/html": [
       "<div id=\"output_42c9e50912d64c66bfbc6a402581f6d1\"><script> /* penzai.treescope rendering of a Python object (compressed) */ (()=>{ let observer; let lastStep = new Promise((resolve, reject) => { observer = new IntersectionObserver((entries) => { for (const entry of entries) { if (entry.isIntersecting) { resolve(); observer.disconnect(); return; } } }, {rootMargin: \"1000px\"}); }); window.treescope_decompress_enqueue = (encoded, destId) => { const previous = lastStep; const destElt = document.getElementById(destId); lastStep = (async () => { await previous; let blob = new Blob([ Uint8Array.from(atob(encoded), (m) => m.codePointAt(0)) ]); let reader = blob.stream().pipeThrough( new DecompressionStream(\"deflate\") ).pipeThrough( new TextDecoderStream(\"utf-8\") ).getReader(); let parts = []; while (true) { let step = await reader.read(); if (step.done) { break; } parts.push(step.value); } let newElt = document.createElement(\"div\"); newElt.innerHTML = parts.join(\"\"); destElt.parentNode.replaceChild(newElt, destElt); for (let oldScript of newElt.querySelectorAll(\"script\")) { let newScript = document.createElement(\"script\"); newScript.type = oldScript.type; newScript.textContent = oldScript.textContent; oldScript.parentNode.replaceChild(newScript, oldScript); } })(); requestAnimationFrame(() => { observer.observe(destElt); }); } })(); </script><div id=\"compress_html_f2e8b5ac707740bb9f17ec9c7deff843\"><script>window.treescope_decompress_enqueue(\"eNqVVd1r20gQ/1emKgS5VEqTUgqWZQi9K30o99JCH45DKNJIWrza1e2O4viK//fO7lqOnLhtDj/IMzsfv/leWdpJXKdkEG2lByyM1gTfYdBWkNBqCQZlSeIOM2i0oqQpeyF3S+i10nYoK+ZvO0GYeGIJg2GOFJYSbzqh3cBcpRWzb8tq0xo9qjqptNRmGVQzOFC3kgXYnqipW0IjiMUUoaIM+tK0QiUSG1rCddU5HwqTDkXbMecqfZfBfnUZwlnZyoiB1iAaiLdC1Xr7ECHkeQ4MARs2UC841qcS8H2fPWGnxYCqFqq9qVxmLIv9/c9vxT6VqpbOpBqlPCPdIhWPsp9DPCW9IL2AfM0gL1/BZ603XAQD1CF4SaVrTOHVJUgkOOjOVH1p2Hkc3l7kUOtq7Dmh6a2ud3BxAS/cS1rJ0trPXLTUJbwUysbRKahoAS5Vkw+nNJSGLf0psfcV2rNnGo3yj0yeidWM6ovWygW41WZziIxdWmJk35jlnk7YJCrHHNBw4H2pKkyV3saLY2hPXiAJSit4e+0gn+uBx6VMJaqWOm4NeHOuI35d0xC3ywBKiw/Qu1E57L91bjvRkAvJa7g/e/49F0M8SRr8d0RLN0r0pZP4aMoe45DXxeJ8RR5DGUbbhdpkz0ncBCIPqfg/qXs+7LPAUbHWiH9gg8Zg/RX7gdse7dMGGqRjHhuf1czuC0qsSJsbKbnRD7rzJTiqwnKnRovMD1zs5ostgW68QRcof2dzY7DXd3gyNTMbP5uEeMLq7DdG/4duOLzlsPhO4cZRWGzOpNNgah5aZZDDOAzkXJb/pW4Ps3Bw4qkDH+/pQ3A2e35gZh5OmPW/3LoxyNmq8AOPXx2zhddOwNXpp7Ui3bYyrJHCb39iYH7LMQclvQa8Y+uHVLi283S6wZ2byMhE0+ph4VnOg904OtosegYYTTj2wPcgHIJVLe7AK+aP9xpQecuA8T6P3kSgFTtl9Gomdx5/TJ2wE/KIT044pP6SFZYlVOt70B+2l+Xbq3dXpydqKNUEqeNqGL5nm4L4zCGDqksqE4YylNTlUXQqPvcRrS9e3l+/z5zCpahkYpsqHVQbuOyN9dbHD6fheByfPVLx4pjHHx6Q7lE=\", \"compress_html_f2e8b5ac707740bb9f17ec9c7deff843\");</script><span style=\"color: #aaaaaa; font-family: monospace\">(Loading...)</span></div></div>"
      ],
      "text/plain": [
       "<IPython.core.display.HTML object>"
      ]
     },
     "metadata": {},
     "output_type": "display_data"
    },
    {
     "data": {
      "text/html": [
       "<div id=\"output_dest_42c9e50912d64c66bfbc6a402581f6d1\"><script> (()=>{ const output = document.getElementById(\"output_42c9e50912d64c66bfbc6a402581f6d1\"); const dest = document.getElementById(\"output_dest_42c9e50912d64c66bfbc6a402581f6d1\"); dest.parentNode.replaceChild(output, dest); })(); </script></div>"
      ],
      "text/plain": [
       "'data/icl-sfc.png'"
      ]
     },
     "execution_count": 64,
     "metadata": {},
     "output_type": "execute_result"
    }
   ],
   "source": [
    "from IPython.display import Image as IImage\n",
    "from tqdm.auto import tqdm\n",
    "import graphviz\n",
    "import random\n",
    "import math\n",
    "\n",
    "digraph = graphviz.Digraph(graph_attr={\"overlap\": \"scale\", \"splines\": \"ortho\", \"engine\": \"sfdp\"})\n",
    "edges_out = set()\n",
    "penwidth = 2\n",
    "max_w = sorted_graph[0][0]\n",
    "\n",
    "def feature_name(key):\n",
    "    return f\"{key[0]}_{key[1]}_{key[2]}_{key[3]}\"\n",
    "\n",
    "\n",
    "def key_to_node(key):\n",
    "    name = feature_name(key)\n",
    "    shape = {\"r\": \"ellipse\", \"a\": \"egg\", \"t\": \"box\", \"e\": \"diamond\"}[key[0][0]]\n",
    "    color = {\"r\": \"red\", \"a\": \"blue\", \"t\": \"green\"}[key[0][-1]]\n",
    "\n",
    "    digraph.node(name, label=name, shape=shape, color=color) \n",
    "    \n",
    "\n",
    "ws = []\n",
    "for w, uf, df in graph:\n",
    "    if w < weight_threshold:\n",
    "        continue\n",
    "\n",
    "    u_name = feature_name(uf)\n",
    "    d_name = feature_name(df)\n",
    "\n",
    "    log_weight = penwidth * (math.log2(w) - math.log2(weight_threshold)) / (math.log2(max_w) - math.log2(weight_threshold))\n",
    "    ws.append(log_weight)\n",
    "\n",
    "    digraph.edge(u_name, d_name, color=\"black\", penwidth=f\"{log_weight:.4f}\")\n",
    "\n",
    "    key_to_node(uf)\n",
    "    key_to_node(df)\n",
    "\n",
    "\n",
    "\n",
    "digraph.render(\"data/icl-sfc\", format=\"png\", cleanup=True)"
   ]
  },
  {
   "cell_type": "code",
   "execution_count": 62,
   "metadata": {},
   "outputs": [
    {
     "data": {
      "text/html": [
       "<div id=\"output_97b33a736ffb41e49a9bb183a19113d0\"><script> /* penzai.treescope rendering of a Python object (compressed) */ (()=>{ let observer; let lastStep = new Promise((resolve, reject) => { observer = new IntersectionObserver((entries) => { for (const entry of entries) { if (entry.isIntersecting) { resolve(); observer.disconnect(); return; } } }, {rootMargin: \"1000px\"}); }); window.treescope_decompress_enqueue = (encoded, destId) => { const previous = lastStep; const destElt = document.getElementById(destId); lastStep = (async () => { await previous; let blob = new Blob([ Uint8Array.from(atob(encoded), (m) => m.codePointAt(0)) ]); let reader = blob.stream().pipeThrough( new DecompressionStream(\"deflate\") ).pipeThrough( new TextDecoderStream(\"utf-8\") ).getReader(); let parts = []; while (true) { let step = await reader.read(); if (step.done) { break; } parts.push(step.value); } let newElt = document.createElement(\"div\"); newElt.innerHTML = parts.join(\"\"); destElt.parentNode.replaceChild(newElt, destElt); for (let oldScript of newElt.querySelectorAll(\"script\")) { let newScript = document.createElement(\"script\"); newScript.type = oldScript.type; newScript.textContent = oldScript.textContent; oldScript.parentNode.replaceChild(newScript, oldScript); } })(); requestAnimationFrame(() => { observer.observe(destElt); }); } })(); </script><div id=\"compress_html_ba149a0493984f6fae4cc2af91c60b44\"><script>window.treescope_decompress_enqueue(\"eNqVVd1v2zYQ/1euGlDIRaU4ydKktmUg6DbsodhLC/RhGARaOlmEKVIjT3G9wv/7jpTlyIm7ZvCDfMf7+N33wtFO4TIli+gK02JujSH4Bq1xkqTRM7CoBMkHnENlNCWVaKTazaAx2rhWFMzf1pIwCcQMWsscJR0lwXRCu5a52mhmr0SxWVvT6TIpjDJ21qvO4UCtFAuwPVlSPYNKEotpQk1zaIRdS50orGgGV0XtfWhMapTrmjmX6c0c9ouLPpyFK6xsaQmygngrdWm2jxFClmXAELBiA+WEY30uAd/282fsNG9Rl1Kv7wufGcdif/71Q7HfhS6VN6k7pc5Ir5HyJ9nPIB6SnpOZQLZkkBdv4KMxGy6CBaoRgqQ2Jabw5gIUEhx0R6qhNOw87t9eZVCaoms4oenKlDt4/Rpe+Ze0UMK5j1y01CdcSO3i6BRUNAGfqsGHV2qFZUu/KmxChfbsmTqrwyOTZ2K1nf5kjPYBbo3dHCJjl44Y2Rdm+acTNsnCM1u0HHgjdIGpNtt4cgzt2QskvdICrq885HM98LSUqUK9pppbA6bnOuK/a9rH7TOAyuEj9LrTHvsPnbtaVuRDChr+z55/L8UQD5IW/+7Q0b2WjfASv1nRYNzndTI5X5GnUNrO1X1t5i9J3AAi61Pxf1L3cthngaNmrQ5/wQqtxfIzNi23PbrnDdQqzzw2PqvZ3SdUWJCx90pxox90x0uw07njTo0m8zBwsZ8vtgSmCgZ9oPwdzY3FxjzgydSMbHxvEuIBq7dfWfMP+uEIlvvFdwo3jvrF5k16DabGoRUWOYzDQI5l+V/q9zAL904CdeDjV/rQOxs9PzLnAU4/63/4dWORs1XgBx6/MmYLb72Ar9N3a0VmvVb9GsnD9icGFrYcc1DRW8AHtn5IhW+7QKcb3PmJjGw0rB4WHuW8txtHR5t5wwCjAcce+B70h2BRygcIitnTvQYkVgwYv2bRNAKj2Smj1yO58/hjqqUbkEd8cvpDGi5ZrrtmhTb0YDhsP03f313evDs5Ua3QA6Saq2H5nm1y4jOHDKoUJBKG0gqqsyg6FR/7iJbT9OpyevPu/dXt7c/Tm9vru7trdsLiy+OHoz/exBdPUjw5pu9fFPnpRg==\", \"compress_html_ba149a0493984f6fae4cc2af91c60b44\");</script><span style=\"color: #aaaaaa; font-family: monospace\">(Loading...)</span></div></div>"
      ],
      "text/plain": [
       "<IPython.core.display.HTML object>"
      ]
     },
     "metadata": {},
     "output_type": "display_data"
    },
    {
     "data": {
      "text/html": [
       "<div id=\"output_dest_97b33a736ffb41e49a9bb183a19113d0\"><script> (()=>{ const output = document.getElementById(\"output_97b33a736ffb41e49a9bb183a19113d0\"); const dest = document.getElementById(\"output_dest_97b33a736ffb41e49a9bb183a19113d0\"); dest.parentNode.replaceChild(output, dest); })(); </script></div>"
      ],
      "text/plain": [
       "0.21056927740573883"
      ]
     },
     "execution_count": 62,
     "metadata": {},
     "output_type": "execute_result"
    }
   ],
   "source": [
    "max_w"
   ]
  },
  {
   "cell_type": "code",
   "execution_count": null,
   "metadata": {},
   "outputs": [],
   "source": []
  }
 ],
 "metadata": {
  "kernelspec": {
   "display_name": "micrlhf-progress-_SD4q1c9-py3.12",
   "language": "python",
   "name": "python3"
  },
  "language_info": {
   "codemirror_mode": {
    "name": "ipython",
    "version": 3
   },
   "file_extension": ".py",
   "mimetype": "text/x-python",
   "name": "python",
   "nbconvert_exporter": "python",
   "pygments_lexer": "ipython3",
   "version": "3.12.0"
  }
 },
 "nbformat": 4,
 "nbformat_minor": 2
}
