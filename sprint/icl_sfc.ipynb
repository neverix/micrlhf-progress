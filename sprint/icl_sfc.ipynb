{
 "cells": [
  {
   "cell_type": "code",
   "execution_count": 1,
   "metadata": {},
   "outputs": [],
   "source": [
    "import os\n",
    "if \"models\" not in os.listdir(\".\"):\n",
    "    os.chdir(\"../..\")"
   ]
  },
  {
   "cell_type": "code",
   "execution_count": 2,
   "metadata": {},
   "outputs": [],
   "source": [
    "%load_ext autoreload\n",
    "%autoreload 2\n",
    "import penzai\n",
    "import jax_smi\n",
    "jax_smi.initialise_tracking()\n",
    "from penzai import pz\n",
    "pz.ts.register_as_default()\n",
    "pz.ts.register_autovisualize_magic()\n",
    "pz.enable_interactive_context()"
   ]
  },
  {
   "cell_type": "code",
   "execution_count": 3,
   "metadata": {},
   "outputs": [],
   "source": [
    "from micrlhf.llama import LlamaTransformer\n",
    "llama = LlamaTransformer.from_pretrained(\"models/gemma-2b-it.gguf\", from_type=\"gemma\", load_eager=True, device_map=\"tpu:0\")"
   ]
  },
  {
   "cell_type": "code",
   "execution_count": 4,
   "metadata": {},
   "outputs": [],
   "source": [
    "from transformers import AutoTokenizer\n",
    "tokenizer = AutoTokenizer.from_pretrained(\"alpindale/gemma-2b\")\n",
    "tokenizer.padding_side = \"right\""
   ]
  },
  {
   "cell_type": "code",
   "execution_count": 5,
   "metadata": {},
   "outputs": [],
   "source": [
    "from sprint.task_vector_utils import load_tasks, ICLRunner\n",
    "tasks = load_tasks()"
   ]
  },
  {
   "cell_type": "code",
   "execution_count": 6,
   "metadata": {},
   "outputs": [
    {
     "name": "stdout",
     "output_type": "stream",
     "text": [
      "763\n",
      "346\n"
     ]
    }
   ],
   "source": [
    "def check_if_single_token(token):\n",
    "    return len(tokenizer.tokenize(token)) == 1\n",
    "\n",
    "task_name = \"es_en\"\n",
    "\n",
    "task = tasks[task_name]\n",
    "\n",
    "print(len(task))\n",
    "\n",
    "task = {\n",
    "    k:v for k,v in task.items() if check_if_single_token(k) and check_if_single_token(v)\n",
    "}\n",
    "\n",
    "print(len(task))\n",
    "\n",
    "pairs = list(task.items())"
   ]
  },
  {
   "cell_type": "code",
   "execution_count": 7,
   "metadata": {},
   "outputs": [],
   "source": [
    "def logprob_loss(logits, tokens, sep=1599, pad_token=32000, n_first=None, shift=None):\n",
    "    logits = logits[:, :-1]\n",
    "\n",
    "    # print(\n",
    "    #     logits.argmax(axis=-1)\n",
    "    # )\n",
    "\n",
    "    logits = jnp.take_along_axis(logits, tokens[:, 1:, None], axis=-1).squeeze(-1)\n",
    "\n",
    "    mask = tokens[:, 1:] == sep\n",
    "    mask = jnp.cumsum(mask[:, ::-1], axis=-1)[:, ::-1] > 0\n",
    "    mask = jnp.logical_not(mask)\n",
    "\n",
    "    if shift is not None:\n",
    "        rolled_mask = jnp.roll(mask, shift, axis=-1)\n",
    "        mask = jnp.logical_and(mask, rolled_mask)\n",
    "\n",
    "    # print(mask[:, -5:])\n",
    "    \n",
    "    if n_first is not None:\n",
    "        rolled_mask = jnp.roll(mask, n_first, axis=-1)\n",
    "        mask = jnp.logical_and(mask, jnp.logical_not(rolled_mask))\n",
    "\n",
    "    mask = jnp.logical_and(mask, tokens[:, 1:] != pad_token)\n",
    "\n",
    "    logits = logits * mask\n",
    "\n",
    "    return logits.sum(axis=-1).mean(axis=-1)"
   ]
  },
  {
   "cell_type": "code",
   "execution_count": 8,
   "metadata": {},
   "outputs": [],
   "source": [
    "from functools import partial\n",
    "\n",
    "sep = 3978\n",
    "pad = 0\n",
    "\n",
    "def metric_fn(logits, resids, tokens):\n",
    "    return logprob_loss(logits, tokens, sep=sep, pad_token=pad, n_first=2)"
   ]
  },
  {
   "cell_type": "code",
   "execution_count": 9,
   "metadata": {},
   "outputs": [],
   "source": [
    "from micrlhf.llama import LlamaBlock, LlamaAttention\n",
    "from micrlhf.utils.activation_manipulation import ActivationAddition, wrap_vector\n",
    "from functools import partial\n",
    "import jax.numpy as jnp\n",
    "from penzai import pz\n",
    "import jax\n",
    "\n",
    "@partial(jax.jit, static_argnames=(\"metric\", \"batched\"))\n",
    "def run_with_add(additions_pre, additions_mid, tokens, metric, batched=False, llama=None):\n",
    "    get_resids = llama.select().at_instances_of(LlamaBlock).apply_with_selected_index(lambda i, x:\n",
    "        pz.nn.Sequential([\n",
    "            pz.de.TellIntermediate.from_config(tag=f\"resid_pre_{i}\"),\n",
    "            x\n",
    "        ])\n",
    "    )\n",
    "    get_resids = get_resids.select().at_instances_of(LlamaBlock).apply_with_selected_index(lambda l, b: b.select().at_instances_of(pz.nn.Residual).apply_with_selected_index(lambda i, x: x if i == 0 else pz.nn.Sequential([\n",
    "        pz.de.TellIntermediate.from_config(tag=f\"resid_mid_{l}\"),\n",
    "        x,\n",
    "    ])))\n",
    "\n",
    "\n",
    "    get_resids = get_resids.select().at_instances_of(LlamaAttention).apply_with_selected_index(lambda i, x: x.select().at_instances_of(pz.nn.Softmax).apply(lambda b: pz.nn.Sequential([\n",
    "        b,\n",
    "        pz.de.TellIntermediate.from_config(tag=f\"attn_{i}\"),\n",
    "    ])))\n",
    "\n",
    "    get_resids = pz.de.CollectingSideOutputs.handling(get_resids, tag_predicate=lambda x: True)\n",
    "    make_additions = get_resids.select().at_instances_of(LlamaBlock).apply_with_selected_index(lambda i, x:\n",
    "        pz.nn.Sequential([\n",
    "            ActivationAddition(pz.nx.wrap(additions_pre[i], *((\"batch\",) if batched else ()), \"seq\", \"embedding\"), \"all\"),\n",
    "            x\n",
    "        ])\n",
    "    )\n",
    "    make_additions = make_additions.select().at_instances_of(LlamaBlock).apply_with_selected_index(lambda l, b: b.select().at_instances_of(pz.nn.Residual).apply_with_selected_index(lambda i, x: x if i == 0 else pz.nn.Sequential([\n",
    "        ActivationAddition(pz.nx.wrap(additions_mid[l], *((\"batch\",) if batched else ()), \"seq\", \"embedding\"), \"all\"),\n",
    "        x,\n",
    "    ])))\n",
    "    tokens_wrapped = pz.nx.wrap(tokens, \"batch\", \"seq\")\n",
    "    logits, resids = make_additions(llama.inputs.from_basic_segments(tokens_wrapped))\n",
    "    return metric(logits.unwrap(\"batch\", \"seq\", \"vocabulary\"), resids, tokens), (logits, resids[::3], resids[1::3], resids[2::3])\n",
    "\n",
    "\n",
    "@partial(jax.jit, static_argnames=(\"metric\",))\n",
    "def get_metric_resid_grad(tokens, llama=llama, metric=metric_fn):\n",
    "    additions = [jnp.zeros(tokens.shape + (llama.config.hidden_size,)) for _ in range(llama.config.num_layers)]\n",
    "    batched = tokens.ndim > 1\n",
    "    (metric, (logits, resids_pre, qk, resids_mid)), (grad_pre, grad_mid) = jax.value_and_grad(run_with_add, argnums=(0, 1), has_aux=True)(additions, additions, tokens, metric, batched=batched, llama=llama)\n",
    "    return (\n",
    "        metric,\n",
    "        [r.value.unwrap(\"batch\", \"seq\", \"embedding\") for r in resids_pre],\n",
    "        [r.value.unwrap(\"batch\", \"seq\", \"embedding\") for r in resids_mid],\n",
    "        [r.value.unwrap(\"batch\", \"kv_heads\", \"q_rep\", \"seq\", \"kv_seq\") for r in qk],\n",
    "        grad_pre,\n",
    "        grad_mid\n",
    "    )\n"
   ]
  },
  {
   "cell_type": "code",
   "execution_count": 10,
   "metadata": {},
   "outputs": [],
   "source": [
    "batch_size = 8 \n",
    "n_shot=20\n",
    "max_seq_len = 128\n",
    "seed = 10"
   ]
  },
  {
   "cell_type": "code",
   "execution_count": 11,
   "metadata": {},
   "outputs": [],
   "source": [
    "prompt = \"Follow the pattern:\\n{}\""
   ]
  },
  {
   "cell_type": "code",
   "execution_count": 12,
   "metadata": {},
   "outputs": [],
   "source": [
    "runner = ICLRunner(task_name, pairs, batch_size=batch_size, n_shot=n_shot, max_seq_len=max_seq_len, seed=seed, prompt=prompt)"
   ]
  },
  {
   "cell_type": "code",
   "execution_count": 13,
   "metadata": {},
   "outputs": [],
   "source": [
    "from sprint.task_vector_utils import tokenized_to_inputs\n",
    "\n",
    "train_tokens = runner.get_tokens(\n",
    "    runner.train_pairs, tokenizer\n",
    ")[\"input_ids\"]"
   ]
  },
  {
   "cell_type": "code",
   "execution_count": 14,
   "metadata": {},
   "outputs": [],
   "source": [
    "metric_value, resids_pre, resids_mid, qk, grad_pre, grad_mid = get_metric_resid_grad(train_tokens, llama=llama)"
   ]
  },
  {
   "cell_type": "code",
   "execution_count": 15,
   "metadata": {},
   "outputs": [],
   "source": [
    "get_rms_block = lambda layer, resid_index: (\n",
    "    llama.select()\n",
    "    .at_instances_of(LlamaBlock).pick_nth_selected(layer)\n",
    "    .at_instances_of(pz.nn.Residual).pick_nth_selected(resid_index)\n",
    "    .at_instances_of(pz.nn.RMSLayerNorm).pick_nth_selected(0)\n",
    "    ).get()"
   ]
  },
  {
   "cell_type": "code",
   "execution_count": 16,
   "metadata": {},
   "outputs": [],
   "source": [
    "mlp_rms = [get_rms_block(layer, 1) for layer in range(llama.config.num_layers)]"
   ]
  },
  {
   "cell_type": "code",
   "execution_count": 17,
   "metadata": {},
   "outputs": [],
   "source": [
    "from micrlhf.utils.load_sae import get_nev_it_sae_suite"
   ]
  },
  {
   "cell_type": "code",
   "execution_count": 18,
   "metadata": {},
   "outputs": [],
   "source": [
    "from micrlhf.utils.load_sae import weights_to_resid, resids_to_weights"
   ]
  },
  {
   "cell_type": "code",
   "execution_count": 19,
   "metadata": {},
   "outputs": [],
   "source": [
    "from micrlhf.utils.load_sae import sae_encode_gated"
   ]
  },
  {
   "cell_type": "code",
   "execution_count": 20,
   "metadata": {},
   "outputs": [],
   "source": [
    "def mlp_normalize(layer, resid_mid):\n",
    "    # return resid_mid / resids_mid_norms[layer] * mlp_rms_weights[layer]\n",
    "    # return resid_mid / jnp.linalg.norm(resid_mid, axis=-1, keepdims=True) * mlp_rms_weights[layer]\n",
    "    return mlp_rms[layer](pz.nx.wrap(resid_mid, \"batch\", \"seq\", \"embedding\")).unwrap(\"batch\", \"seq\", \"embedding\")"
   ]
  },
  {
   "cell_type": "code",
   "execution_count": 21,
   "metadata": {},
   "outputs": [
    {
     "data": {
      "application/vnd.jupyter.widget-view+json": {
       "model_id": "480bd1b932904fb9b32aeafa9a55d7d4",
       "version_major": 2,
       "version_minor": 0
      },
      "text/plain": [
       "  0%|          | 0/11 [00:00<?, ?it/s]"
      ]
     },
     "metadata": {},
     "output_type": "display_data"
    },
    {
     "data": {
      "application/vnd.jupyter.widget-view+json": {
       "model_id": "265f01e1ce52456aa80823b6297b6ce4",
       "version_major": 2,
       "version_minor": 0
      },
      "text/plain": [
       "  0%|          | 0/11 [00:00<?, ?it/s]"
      ]
     },
     "metadata": {},
     "output_type": "display_data"
    },
    {
     "data": {
      "application/vnd.jupyter.widget-view+json": {
       "model_id": "6eb44d5d10d54a008b1d3853c34ed9d6",
       "version_major": 2,
       "version_minor": 0
      },
      "text/plain": [
       "  0%|          | 0/10 [00:00<?, ?it/s]"
      ]
     },
     "metadata": {},
     "output_type": "display_data"
    }
   ],
   "source": [
    "from tqdm.auto import tqdm\n",
    "\n",
    "ie_attn = {}\n",
    "sae_grads_attn = {}\n",
    "ie_resid = {}\n",
    "sae_grads_resid = {}\n",
    "ie_transcoder = {}\n",
    "sae_grads_transcoder = {}\n",
    "\n",
    "ie_error_attn = {}\n",
    "ie_error_resid = {}\n",
    "ie_error_transcoder = {}\n",
    "\n",
    "sae_error_attn = {}\n",
    "sae_error_resid = {}\n",
    "sae_error_transcoder = {}\n",
    "\n",
    "def sfc_simple(grad, resid, target, sae):\n",
    "    pre_relu, post_relu, recon = sae_encode_gated(sae, resid)\n",
    "    error = target - recon\n",
    "    f = partial(weights_to_resid, sae=sae)\n",
    "\n",
    "    sae_grad, = jax.vjp(f, post_relu)[1](grad,)\n",
    "    indirect_effects = sae_grad * post_relu\n",
    "    indirect_effects_error = jnp.einsum(\"...f, ...f -> ...\", grad, error)\n",
    "    return indirect_effects, indirect_effects_error, sae_grad, error\n",
    "\n",
    "\n",
    "layers = list(range(6, 17))\n",
    "for l in tqdm(layers):\n",
    "    r_pre, r_mid, g_mid = resids_pre[l], resids_mid[l], grad_mid[l]\n",
    "    sae = get_nev_it_sae_suite(layer=l, label=\"attn_out\")\n",
    "    indirect_effects, indirect_effects_error, sae_grad, error = sfc_simple(g_mid, r_mid - r_pre, r_mid - r_pre, sae)\n",
    "    # display((indirect_effects > 0).sum(-1))\n",
    "    ie_attn[l] = indirect_effects\n",
    "    ie_error_attn[l] = indirect_effects_error\n",
    "    sae_grads_attn[l] = sae_grad\n",
    "    sae_error_attn[l] = error\n",
    "\n",
    "# for layer, (r_pre, g_pre) in enumerate(zip(resids_pre, grad_pre)):\n",
    "for l in tqdm(layers):\n",
    "    r_pre, g_pre = resids_pre[l], grad_pre[l]\n",
    "    sae = get_nev_it_sae_suite(layer=l)\n",
    "    indirect_effects, indirect_effects_error, sae_grad, error = sfc_simple(g_pre, r_pre, r_pre, sae)\n",
    "    # display((indirect_effects != 0).sum(-1))\n",
    "    ie_resid[l] = indirect_effects\n",
    "    ie_error_resid[l] = indirect_effects_error\n",
    "    sae_grads_resid[l] = sae_grad\n",
    "    sae_error_resid[l] = error\n",
    "\n",
    "for l in tqdm(layers[:-1]):\n",
    "    r_mid, r_pre, g_pre = resids_mid[l], resids_pre[l + 1], grad_pre[l + 1]\n",
    "    sae = get_nev_it_sae_suite(layer=l, label=\"transcoder\")\n",
    "    indirect_effects, indirect_effects_error, sae_grad, error = sfc_simple(g_pre, mlp_normalize(l, r_mid), r_pre - r_mid, sae)\n",
    "    # display((indirect_effects != 0).sum(-1))\n",
    "    ie_transcoder[l] = indirect_effects\n",
    "    ie_error_transcoder[l] = indirect_effects_error\n",
    "    sae_grads_transcoder[l] = sae_grad\n",
    "    sae_error_transcoder[l] = error"
   ]
  },
  {
   "cell_type": "code",
   "execution_count": 22,
   "metadata": {},
   "outputs": [],
   "source": [
    "tokens_wrapped = pz.nx.wrap(train_tokens, \"batch\", \"seq\")\n",
    "llama_inputs = llama.inputs.from_basic_segments(tokens_wrapped)"
   ]
  },
  {
   "cell_type": "code",
   "execution_count": 23,
   "metadata": {},
   "outputs": [],
   "source": [
    "# def attn_call(layer, resid_pre):\n",
    "#     subblock = llama.select().at_instances_of(LlamaBlock).pick_nth_selected(layer).at_instances_of(pz.nn.Residual).pick_nth_selected(0).get().delta\n",
    "#     subblock = subblock.select().at_instances_of(LlamaAttention).get()\n",
    "\n",
    "#     si_selection = subblock.select().at_instances_of(pz.de.HandledSideInputRef)\n",
    "#     keys = sorted(set([ref.tag for ref in si_selection.get_sequence()]))\n",
    "#     replaced = si_selection.apply(lambda ref: pz.de.SideInputRequest(tag=ref.tag))\n",
    "#     subblock = pz.de.WithSideInputsFromInputTuple.handling(replaced, keys)\n",
    "\n",
    "#     side_inputs = {\n",
    "#         'positions': llama_inputs.positions,\n",
    "#         'attn_mask': llama_inputs.attention_mask\n",
    "#     }\n",
    "    \n",
    "#     resid_pre = resid_pre / \n",
    "\n",
    "#     resid_pre = pz.nx.wrap(resid_pre, \"batch\", \"seq\", \"embedding\")\n",
    "#     attn_out = subblock((resid_pre,) + tuple(side_inputs[tag] for tag in subblock.side_input_tags))\n",
    "\n",
    "#     attn_out = attn_out.unwrap(\"batch\", \"seq\", \"embedding\") \n",
    "\n",
    "#     return attn_out.astype(resid.dtype)\n",
    "\n",
    "# attn_call(6, resids_pre[6])"
   ]
  },
  {
   "cell_type": "code",
   "execution_count": 24,
   "metadata": {},
   "outputs": [],
   "source": [
    "prompt_length = len(tokenizer.tokenize(prompt))\n",
    "periods = [\"input\", \"arrow\", \"output\", \"newline\"]\n",
    "masks = {\n",
    "    \"prompt\": jnp.zeros_like(train_tokens).at[:, :prompt_length].set(1).astype(bool),\n",
    "    **{\n",
    "        period: jnp.zeros_like(train_tokens).at[:, prompt_length+i::len(periods)].set(1).astype(bool) * (train_tokens != pad) for i, period in enumerate(periods)\n",
    "    }\n",
    "}"
   ]
  },
  {
   "cell_type": "code",
   "execution_count": 25,
   "metadata": {},
   "outputs": [],
   "source": [
    "def mask_average(vector, mask):\n",
    "    mask = masks[mask]\n",
    "    while mask.ndim < vector.ndim:\n",
    "        mask = mask[..., None]\n",
    "\n",
    "    return ((mask * vector).sum(1) / mask.sum(1)).mean(0)"
   ]
  },
  {
   "cell_type": "code",
   "execution_count": 26,
   "metadata": {},
   "outputs": [],
   "source": [
    "def transcoder_feature_to_mid(layer, feature_idx, mask):\n",
    "    sae = get_nev_it_sae_suite(layer=layer, label=\"transcoder\")\n",
    "    resid = resids_mid[layer]\n",
    "\n",
    "    def f(resid):\n",
    "        resid = mlp_normalize(layer, resid)\n",
    "        batch_token_feat = resids_to_weights(resid, sae)[:, :, feature_idx] * sae_grads_transcoder[layer][:, :, feature_idx]\n",
    "        token_act = mask_average(batch_token_feat, mask)\n",
    "        return token_act\n",
    "\n",
    "    return jax.grad(f)(resid)"
   ]
  },
  {
   "cell_type": "code",
   "execution_count": 27,
   "metadata": {},
   "outputs": [],
   "source": [
    "def transcoder_error_to_mid(layer, mask):\n",
    "    sae = get_nev_it_sae_suite(layer=layer, label=\"transcoder\")\n",
    "    resid_next = resids_pre[layer + 1]\n",
    "    resid = resids_mid[layer]\n",
    "\n",
    "    grad = grad_pre[layer + 1]\n",
    "\n",
    "    def f(resid):\n",
    "        _, _, recon = sae_encode_gated(sae, resid)\n",
    "        err_by_grad = jnp.einsum(\"...f, ...f -> ...\", (resid_next - recon), grad)\n",
    "        return mask_average(err_by_grad, mask)\n",
    "\n",
    "    return jax.grad(f)(resid)"
   ]
  },
  {
   "cell_type": "code",
   "execution_count": 28,
   "metadata": {},
   "outputs": [],
   "source": [
    "def attn_out_feature_to_pre(layer, feature_idx, mask):\n",
    "    sae = get_nev_it_sae_suite(layer=layer, label=\"attn_out\")\n",
    "\n",
    "    resid = resids_pre[layer]\n",
    "\n",
    "    subblock = llama.select().at_instances_of(LlamaBlock).pick_nth_selected(layer).at_instances_of(pz.nn.Residual).pick_nth_selected(0).get().delta\n",
    "\n",
    "    si_selection = subblock.select().at_instances_of(pz.de.HandledSideInputRef)\n",
    "    keys = sorted(set([ref.tag for ref in si_selection.get_sequence()]))\n",
    "    replaced = si_selection.apply(lambda ref: pz.de.SideInputRequest(tag=ref.tag))\n",
    "    subblock = pz.de.WithSideInputsFromInputTuple.handling(replaced, keys)\n",
    "\n",
    "    side_inputs = {\n",
    "        'positions': llama_inputs.positions,\n",
    "        'attn_mask': llama_inputs.attention_mask\n",
    "    }\n",
    "\n",
    "    def f(resid):\n",
    "        resid = pz.nx.wrap(resid, \"batch\", \"seq\", \"embedding\")\n",
    "        attn_out = subblock((resid,) + tuple(side_inputs[tag] for tag in subblock.side_input_tags))\n",
    "\n",
    "        attn_out = attn_out.unwrap(\"batch\", \"seq\", \"embedding\") \n",
    "\n",
    "        batch_token_feat = resids_to_weights(attn_out, sae)[:, :, feature_idx] * sae_grads_attn[layer][:, :, feature_idx]\n",
    "        token_act = mask_average(batch_token_feat, mask)\n",
    "        return token_act\n",
    "\n",
    "    return jax.grad(f)(resid)\n",
    "\n",
    "def attn_out_error_to_pre(layer, mask):\n",
    "    sae = get_nev_it_sae_suite(layer=layer, label=\"attn_out\")\n",
    "\n",
    "    resid = resids_pre[layer]\n",
    "\n",
    "    subblock = llama.select().at_instances_of(LlamaBlock).pick_nth_selected(layer).at_instances_of(pz.nn.Residual).pick_nth_selected(0).get().delta\n",
    "\n",
    "    si_selection = subblock.select().at_instances_of(pz.de.HandledSideInputRef)\n",
    "    keys = sorted(set([ref.tag for ref in si_selection.get_sequence()]))\n",
    "    replaced = si_selection.apply(lambda ref: pz.de.SideInputRequest(tag=ref.tag))\n",
    "    subblock = pz.de.WithSideInputsFromInputTuple.handling(replaced, keys)\n",
    "\n",
    "    side_inputs = {\n",
    "        'positions': llama_inputs.positions,\n",
    "        'attn_mask': llama_inputs.attention_mask\n",
    "    }\n",
    "\n",
    "    def f(resid):\n",
    "        resid = pz.nx.wrap(resid, \"batch\", \"seq\", \"embedding\")\n",
    "        attn_out = subblock((resid,) + tuple(side_inputs[tag] for tag in subblock.side_input_tags))\n",
    "\n",
    "        attn_out = attn_out.unwrap(\"batch\", \"seq\", \"embedding\") \n",
    "\n",
    "        _, _, recon = sae_encode_gated(sae, attn_out)\n",
    "        batch_token_feat = jnp.einsum(\"...f, ...f -> ...\", attn_out - recon, grad_mid[layer])\n",
    "        token_act = mask_average(batch_token_feat, mask)\n",
    "        return token_act\n",
    "\n",
    "    return jax.grad(f)(resid)\n",
    "# float(jnp.linalg.norm(attn_out_error_to_pre(6, \"arrow\")))"
   ]
  },
  {
   "cell_type": "code",
   "execution_count": 29,
   "metadata": {},
   "outputs": [],
   "source": [
    "def pre_feature_to_pre(layer, feature_idx, mask):\n",
    "    sae = get_nev_it_sae_suite(layer=layer)\n",
    "    resid = resids_pre[layer]\n",
    "\n",
    "    def f(resid):\n",
    "        batch_token_feat = resids_to_weights(resid, sae)[:, :, feature_idx] * sae_grads_resid[layer][:, :, feature_idx]\n",
    "        token_act = mask_average(batch_token_feat, mask)\n",
    "        return token_act\n",
    "\n",
    "    return jax.grad(f)(resid)\n",
    "\n",
    "def pre_error_to_pre(layer, mask):\n",
    "    sae = get_nev_it_sae_suite(layer=layer)\n",
    "    resid = resids_pre[layer]\n",
    "\n",
    "    def f(resid):\n",
    "        _, _, recon = sae_encode_gated(sae, resid)\n",
    "        batch_token_error = jnp.einsum(\"...f, ...f -> ...\", (resid - recon), grad_pre[layer])\n",
    "        token_grad = mask_average(batch_token_error, mask)\n",
    "        return token_grad\n",
    "\n",
    "    return jax.grad(f)(resid)\n"
   ]
  },
  {
   "cell_type": "code",
   "execution_count": 30,
   "metadata": {},
   "outputs": [],
   "source": [
    "def ie_pre_to_transcoder_features(layer, grad, mask):\n",
    "    sae = get_nev_it_sae_suite(layer=layer, label=\"transcoder\")\n",
    "    resid_mid = resids_mid[layer]\n",
    "    resid_mid = mlp_normalize(layer, resid_mid)\n",
    "    ie = sfc_simple(grad, resid_mid, resid_mid, sae)[0]\n",
    "    ie = mask_average(ie, mask)\n",
    "\n",
    "    return ie\n",
    "\n",
    "def ie_pre_to_transcoder_error(layer, grad, mask):\n",
    "    sae = get_nev_it_sae_suite(layer=layer, label=\"transcoder\")\n",
    "    resid_next = resids_pre[layer + 1]\n",
    "    resid_mid = resids_mid[layer]\n",
    "    ie = sfc_simple(grad, mlp_normalize(layer, resid_mid), resid_next - resid_mid, sae)[1]\n",
    "    ie = mask_average(ie, mask)\n",
    "\n",
    "    return ie"
   ]
  },
  {
   "cell_type": "code",
   "execution_count": 31,
   "metadata": {},
   "outputs": [],
   "source": [
    "def ie_mid_to_attn_features(layer, grad, mask):\n",
    "    sae = get_nev_it_sae_suite(layer=layer, label=\"attn_out\")\n",
    "    resid_mid = resids_mid[layer]\n",
    "    resid_pre = resids_pre[layer]\n",
    "\n",
    "    ie = sfc_simple(grad, resid_mid - resid_pre, resid_mid - resid_pre, sae)[0]\n",
    "    ie = mask_average(ie, mask)\n",
    "    return ie\n",
    "\n",
    "def ie_mid_to_attn_error(layer, grad, mask):\n",
    "    sae = get_nev_it_sae_suite(layer=layer, label=\"attn_out\")\n",
    "    resid_mid = resids_mid[layer]\n",
    "    resid_pre = resids_pre[layer]\n",
    "\n",
    "    ie = sfc_simple(grad, resid_mid - resid_pre, resid_mid - resid_pre, sae)[1]\n",
    "    ie = mask_average(ie, mask)\n",
    "    return ie"
   ]
  },
  {
   "cell_type": "code",
   "execution_count": 32,
   "metadata": {},
   "outputs": [],
   "source": [
    "def ie_pre_to_pre_features(layer, grad, mask):\n",
    "    sae = get_nev_it_sae_suite(layer=layer)\n",
    "    resid = resids_pre[layer]\n",
    "    ie = sfc_simple(grad, resid, resid, sae)[0]\n",
    "    ie = mask_average(ie, mask)\n",
    "    return ie\n",
    "\n",
    "def ie_pre_to_pre_error(layer, grad, mask):\n",
    "    sae = get_nev_it_sae_suite(layer=layer)\n",
    "    resid = resids_pre[layer]\n",
    "    ie = sfc_simple(grad, resid, resid, sae)[1]\n",
    "    ie = mask_average(ie, mask)\n",
    "    return ie\n",
    "# float((ie_pre_to_pre_features(6, grad_pre[6], \"arrow\") - mask_average(ie_error_resid[6], \"arrow\")).sum())"
   ]
  },
  {
   "cell_type": "code",
   "execution_count": 33,
   "metadata": {},
   "outputs": [
    {
     "data": {
      "text/html": [
       "<div id=\"output_08f23bc9f57840828841b99eb4871b73\"><script> /* penzai.treescope rendering of a Python object (compressed) */ (()=>{ let observer; let lastStep = new Promise((resolve, reject) => { observer = new IntersectionObserver((entries) => { for (const entry of entries) { if (entry.isIntersecting) { resolve(); observer.disconnect(); return; } } }, {rootMargin: \"1000px\"}); }); window.treescope_decompress_enqueue = (encoded, destId) => { const previous = lastStep; const destElt = document.getElementById(destId); lastStep = (async () => { await previous; let blob = new Blob([ Uint8Array.from(atob(encoded), (m) => m.codePointAt(0)) ]); let reader = blob.stream().pipeThrough( new DecompressionStream(\"deflate\") ).pipeThrough( new TextDecoderStream(\"utf-8\") ).getReader(); let parts = []; while (true) { let step = await reader.read(); if (step.done) { break; } parts.push(step.value); } let newElt = document.createElement(\"div\"); newElt.innerHTML = parts.join(\"\"); destElt.parentNode.replaceChild(newElt, destElt); for (let oldScript of newElt.querySelectorAll(\"script\")) { let newScript = document.createElement(\"script\"); newScript.type = oldScript.type; newScript.textContent = oldScript.textContent; oldScript.parentNode.replaceChild(newScript, oldScript); } })(); requestAnimationFrame(() => { observer.observe(destElt); }); } })(); </script><div id=\"compress_html_6037f8415752403fb82b4a65f8645e7b\"><script>window.treescope_decompress_enqueue(\"eNrFV1tv2zYU/iunGpDKQaw4ztyskm0g6DrsodhLB+xhGwRKOrK40KRGUkm8wv99h5R8l9sMK7YYgczDc/nOXZ4auxI4j6xGNLmqMdVKWfgEtTLcciVj0CiY5Y+YQKmkHZZsycUqhqWSytQsJ/pTxS0O/SGGWhNFcGOHXvXQrmqiSiWJnLH8YaFVI4throTScSuaQHfKBDGQPl7YKoaSW2KTFqVNYMn0gsuhwNLGMM4rZ0PisEK+qIhyE00SWE+vW3emJte8tnPgJYRPXBbqaechzGYzIAhYkoJiQL6ecsCndXJCjtIaZcHl4j53kTHE9uvvX2T7kclCOJWyEaKHe4E2PYr+DMJN0FOrBjCbE8jrS/ig1AMlQYOtEDynVAVGcHkNAi10snuiPjVkPGzvXs2gUHmzpIBGmSpWcHEBr9xNlAtmzAdKWuQCzrg0YXAIKhiAC9XGhhOqmSZN7wUufYbWZNk2WvpLOvb4qhv5USnpHHxS+qHzjEwaS8h+IZK7OiBbnjtijZocXzKZYyTVUzjYunZyA8NWaAq3Ywe5rwaOUxkJlAtbUWnAqK8iPp/T1m8XARQGd9CrRjrsXzRuKl5a55KXcF/W9HkphnDDqfHPBo29l3zJHMcPmi0xbOM6GPRn5BhK3ZiqzU3yksBtQMzaUPyT0L0cdi9wlCTV4PdYotZY/IzLmsoezWkB1cIRt4VPYnr1EQXmVul7IajQO9n9IdjI1FClBoPEN1zo+os0gSq9QucoPff6RuNSPeJB1+zpONcJ4Qar019q9Re65vCa28F3CDcM2sHmVDoJOu27lmskN7qG3Oelb5Gbw8TcGvGnjo7P9l1rbO96R0w8nLbXf3LjRiNFK8d31H5FSBquHIPL09lcWbVYiHaMpH76WwLmpxxRUNgrwEfS3oXClZ0/Rw+4ch0Z6GAzeoh5L+at3jDY6kyXBDDY4FgD7YN2EUwL/ghecHY818CyjADj8ywYBaAkGSX0co+vH39oK242yANaOe0iLbqCTH2QKiUK1L4W/YL7ht25T7dKvUgM3DLBc8IblcTOMjLl5vqZJbyGQ7a0RUfcBTdkdLVZtseMMAfBMhRxnCHVNO6hyv1f0muv3bjDG7dyu8U8Sna2uPR7OBPKbe6zNitqDn1quWD6wSBbUKjlqXQslQ2PSBUz4dzrnPfGwcvEeYX5Ay33AVwOdhicaL/Qhv8AoS//GF7/Np5k+ev/E96h0FmQb/4DkC6PznCjjUtgrTgh0D12ufl6Zn0reEND32/mXI1/Has799wcPLUScZOWXBubKpm68u9prc+1UjSeuG7qTRX8a/htxo8hOq8O3qF9Q++9MddMAi9mwXaA5ZPxZJKNcTK6efvt28noLf3f3lArjO5GkzybBJ1QN1YP+/7YPDG3Tky5rBvapbR/ZoGHnannoFdJ5yFdtt7Np9demJ6drn37fYM3mF8Im/zBnqN7rdkKSqGYvR2Ht+O7N99dDSCKIrhY2ISiQJrmxw9aGtufEi9+AQkH263zN3z4wUw=\", \"compress_html_6037f8415752403fb82b4a65f8645e7b\");</script><span style=\"color: #aaaaaa; font-family: monospace\">(Loading...)</span></div></div>"
      ],
      "text/plain": [
       "<IPython.core.display.HTML object>"
      ]
     },
     "metadata": {},
     "output_type": "display_data"
    },
    {
     "data": {
      "text/html": [
       "<div id=\"compress_html_55cc046654bd4e38b6f8e27874a89e82\"><script>window.treescope_decompress_enqueue(\"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\", \"compress_html_55cc046654bd4e38b6f8e27874a89e82\");</script></div>"
      ],
      "text/plain": [
       "<IPython.core.display.HTML object>"
      ]
     },
     "metadata": {},
     "output_type": "display_data"
    },
    {
     "data": {
      "text/html": [
       "<div id=\"output_dest_08f23bc9f57840828841b99eb4871b73\"><script> (()=>{ const output = document.getElementById(\"output_08f23bc9f57840828841b99eb4871b73\"); const dest = document.getElementById(\"output_dest_08f23bc9f57840828841b99eb4871b73\"); dest.parentNode.replaceChild(output, dest); })(); </script></div>"
      ],
      "text/plain": [
       "# jax.Array float32(32768,) ≈-1.3e-08 ±2.6e-05 [≥-0.0023, ≤0.0023] zero:32_682 nonzero:86\n",
       "  Array([0., 0., 0., ..., 0., 0., 0.], dtype=float32)\n"
      ]
     },
     "execution_count": 33,
     "metadata": {},
     "output_type": "execute_result"
    }
   ],
   "source": [
    "ie_pre_to_pre_features(6, grad_pre[6], \"prompt\")"
   ]
  },
  {
   "cell_type": "code",
   "execution_count": 33,
   "metadata": {},
   "outputs": [],
   "source": [
    "def grad_through_transcoder(layer, grad):\n",
    "    sae = get_nev_it_sae_suite(layer, label=\"transcoder\")\n",
    "    resid_mid = resids_mid[layer]\n",
    "\n",
    "    def f(resid_mid):\n",
    "        resid_mid = mlp_normalize(layer, resid_mid)\n",
    "        # we ignore error nodes\n",
    "        weights = resids_to_weights(resid_mid, sae)\n",
    "        recon = weights_to_resid(weights, sae)\n",
    "\n",
    "        return recon\n",
    "\n",
    "    grad = jax.vjp(f, resid_mid)[1](grad,)[0]\n",
    "\n",
    "    return grad\n"
   ]
  },
  {
   "cell_type": "code",
   "execution_count": 34,
   "metadata": {},
   "outputs": [],
   "source": [
    "def grad_through_mlp(layer, grad):\n",
    "    mlp = llama.select().at_instances_of(LlamaBlock).pick_nth_selected(layer).at_instances_of(pz.nn.Residual).pick_nth_selected(1).get().delta\n",
    "    resid_mid = resids_mid[layer]\n",
    "    def f(resid_mid):\n",
    "        resids_mid = pz.nx.wrap(resid_mid, \"batch\", \"seq\", \"embedding\")\n",
    "        out = mlp(resids_mid)\n",
    "        return out.unwrap(\"batch\", \"seq\", \"embedding\").astype(resid_mid.dtype)\n",
    "    return jax.vjp(f, resid_mid)[1](grad.astype(resid_mid.dtype),)[0]"
   ]
  },
  {
   "cell_type": "code",
   "execution_count": 35,
   "metadata": {},
   "outputs": [],
   "source": [
    "def grad_through_attn(layer, grad):\n",
    "    subblock = llama.select().at_instances_of(LlamaBlock).pick_nth_selected(layer).at_instances_of(pz.nn.Residual).pick_nth_selected(0).get().delta\n",
    "\n",
    "    si_selection = subblock.select().at_instances_of(pz.de.HandledSideInputRef)\n",
    "    keys = sorted(set([ref.tag for ref in si_selection.get_sequence()]))\n",
    "    replaced = si_selection.apply(lambda ref: pz.de.SideInputRequest(tag=ref.tag))\n",
    "    subblock = pz.de.WithSideInputsFromInputTuple.handling(replaced, keys)\n",
    "\n",
    "    side_inputs = {\n",
    "        'positions': llama_inputs.positions,\n",
    "        'attn_mask': llama_inputs.attention_mask\n",
    "    }\n",
    "\n",
    "    def f(resid):\n",
    "        resid_pre = pz.nx.wrap(resid, \"batch\", \"seq\", \"embedding\")\n",
    "        attn_out = subblock((resid_pre,) + tuple(side_inputs[tag] for tag in subblock.side_input_tags))\n",
    "\n",
    "        attn_out = attn_out.unwrap(\"batch\", \"seq\", \"embedding\") \n",
    "\n",
    "        return attn_out.astype(resid.dtype)\n",
    "\n",
    "    resid = resids_pre[layer]\n",
    "    return jax.vjp(f, resid)[1](grad.astype(resid.dtype),)[0]"
   ]
  },
  {
   "cell_type": "code",
   "execution_count": 37,
   "metadata": {},
   "outputs": [],
   "source": [
    "ies = ie_resid[12]\n",
    "ies = mask_average(ies, \"arrow\")"
   ]
  },
  {
   "cell_type": "code",
   "execution_count": 38,
   "metadata": {},
   "outputs": [
    {
     "data": {
      "text/html": [
       "<div id=\"output_ddd8c5974a594b64800e6d6278a28e4c\"><script> /* penzai.treescope rendering of a Python object (compressed) */ (()=>{ let observer; let lastStep = new Promise((resolve, reject) => { observer = new IntersectionObserver((entries) => { for (const entry of entries) { if (entry.isIntersecting) { resolve(); observer.disconnect(); return; } } }, {rootMargin: \"1000px\"}); }); window.treescope_decompress_enqueue = (encoded, destId) => { const previous = lastStep; const destElt = document.getElementById(destId); lastStep = (async () => { await previous; let blob = new Blob([ Uint8Array.from(atob(encoded), (m) => m.codePointAt(0)) ]); let reader = blob.stream().pipeThrough( new DecompressionStream(\"deflate\") ).pipeThrough( new TextDecoderStream(\"utf-8\") ).getReader(); let parts = []; while (true) { let step = await reader.read(); if (step.done) { break; } parts.push(step.value); } let newElt = document.createElement(\"div\"); newElt.innerHTML = parts.join(\"\"); destElt.parentNode.replaceChild(newElt, destElt); for (let oldScript of newElt.querySelectorAll(\"script\")) { let newScript = document.createElement(\"script\"); newScript.type = oldScript.type; newScript.textContent = oldScript.textContent; oldScript.parentNode.replaceChild(newScript, oldScript); } })(); requestAnimationFrame(() => { observer.observe(destElt); }); } })(); </script><div id=\"compress_html_975db29e44384e9ca595954006a41559\"><script>window.treescope_decompress_enqueue(\"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\", \"compress_html_975db29e44384e9ca595954006a41559\");</script><span style=\"color: #aaaaaa; font-family: monospace\">(Loading...)</span></div></div>"
      ],
      "text/plain": [
       "<IPython.core.display.HTML object>"
      ]
     },
     "metadata": {},
     "output_type": "display_data"
    },
    {
     "data": {
      "text/html": [
       "<div id=\"compress_html_c919c61cb4c449848295ddc8153e28d6\"><script>window.treescope_decompress_enqueue(\"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\", \"compress_html_c919c61cb4c449848295ddc8153e28d6\");</script></div>"
      ],
      "text/plain": [
       "<IPython.core.display.HTML object>"
      ]
     },
     "metadata": {},
     "output_type": "display_data"
    },
    {
     "data": {
      "text/html": [
       "<div id=\"output_dest_ddd8c5974a594b64800e6d6278a28e4c\"><script> (()=>{ const output = document.getElementById(\"output_ddd8c5974a594b64800e6d6278a28e4c\"); const dest = document.getElementById(\"output_dest_ddd8c5974a594b64800e6d6278a28e4c\"); dest.parentNode.replaceChild(output, dest); })(); </script></div>"
      ],
      "text/plain": [
       "[# jax.Array float32(30,) ≈0.0015 ±0.0014 [≥0.0004, ≤0.0062] nonzero:30\n",
       "   Array([0.00623179, 0.00412249, 0.00389453, 0.00366905, 0.00362012,\n",
       "          0.00284077, 0.00281034, 0.00176627, 0.0016341 , 0.00162284,\n",
       "          0.0014716 , 0.00135594, 0.00130325, 0.00112798, 0.00110467,\n",
       "          0.00085296, 0.00064201, 0.00059513, 0.0005947 , 0.00057694,\n",
       "          0.00055326, 0.00054206, 0.00050143, 0.00047176, 0.00045941,\n",
       "          0.00043115, 0.00042893, 0.00042616, 0.00041728, 0.00039801],      dtype=float32)\n",
       " ,\n",
       " # jax.Array int32(30,) [≥507, ≤28_260] nonzero:30\n",
       "   Array([ 9157, 23723, 19580,  1112,   507, 14154, 16983, 13869, 11386,\n",
       "          28260,  7525, 14214, 16736, 11958, 23598, 19827, 23808, 25169,\n",
       "           1626,  3310, 11506, 14220, 15223,  6282,  9387, 23657, 21048,\n",
       "           1727, 21623, 23036], dtype=int32)\n",
       " ]"
      ]
     },
     "execution_count": 38,
     "metadata": {},
     "output_type": "execute_result"
    }
   ],
   "source": [
    "jax.lax.top_k(ies, 30)"
   ]
  },
  {
   "cell_type": "code",
   "execution_count": 39,
   "metadata": {},
   "outputs": [],
   "source": [
    "from tqdm import tqdm, trange\n",
    "\n",
    "def compute_edges(\n",
    "    feature,\n",
    "    mask,\n",
    "    layer_window=3,\n",
    "    k = 32,\n",
    "    abs_effects = False,\n",
    "):\n",
    "    feature_type, layer, feature_idx = feature\n",
    "    match feature_type:\n",
    "        case \"r\":\n",
    "            resid_grad = pre_feature_to_pre(layer, feature_idx, mask)\n",
    "        case \"t\":\n",
    "            resid_grad = transcoder_feature_to_mid(layer, feature_idx, mask)\n",
    "        case \"a\":\n",
    "            resid_grad = attn_out_feature_to_pre(layer, feature_idx, mask)\n",
    "        case \"er\":\n",
    "            resid_grad = pre_error_to_pre(layer, mask)\n",
    "        case \"et\":\n",
    "            resid_grad = transcoder_error_to_mid(layer, mask)\n",
    "        case \"ea\":\n",
    "            resid_grad = attn_out_error_to_pre(layer, mask)\n",
    "    feature_effects = {}\n",
    "    for l in range(layer, max(5, layer - 1 - layer_window), -1):\n",
    "        if l < layer:\n",
    "            for mask in masks:\n",
    "                feature_effects[(\"t\", l, mask)] = ie_pre_to_transcoder_features(l, resid_grad, mask)\n",
    "                feature_effects[(\"et\", l, mask)] = ie_pre_to_transcoder_error(l, resid_grad, mask)\n",
    "        # # does not work # resid_grad = resid_grad - grad_through_mlp(layer, resid_grad)\n",
    "        # resid_grad = resid_grad + grad_through_mlp(layer, resid_grad)\n",
    "        if l < layer or feature_type in (\"t\", \"et\"):\n",
    "            for mask in masks:\n",
    "                feature_effects[(\"a\", l, mask)] = ie_mid_to_attn_features(l, resid_grad, mask)\n",
    "                feature_effects[(\"ea\", l, mask)] = ie_mid_to_attn_error(l, resid_grad, mask)\n",
    "        # # does not work # resid_grad = resid_grad - grad_through_attn(layer, resid_grad)\n",
    "        # resid_grad = resid_grad + grad_through_attn(layer, resid_grad)\n",
    "        if l < layer or feature_type in (\"t\", \"et\", \"a\", \"ea\"):\n",
    "            for mask in masks:\n",
    "                feature_effects[(\"r\", l, mask)] = ie_pre_to_pre_features(l, resid_grad, mask)\n",
    "                feature_effects[(\"er\", l, mask)] = ie_pre_to_pre_error(l, resid_grad, mask)\n",
    "    top_effects = []\n",
    "    for key, features in feature_effects.items():\n",
    "        if features.ndim == 0:\n",
    "            top_effects.append((float(features), key, 0))\n",
    "            continue\n",
    "        effects, indices = jax.lax.top_k(features if not abs_effects else jnp.abs(features), k)\n",
    "        for i, e in zip(indices.tolist(), effects.tolist()):\n",
    "            top_effects.append((e, key, i))\n",
    "    top_effects.sort(reverse=True)\n",
    "    return top_effects[:k]\n"
   ]
  },
  {
   "cell_type": "code",
   "execution_count": 40,
   "metadata": {},
   "outputs": [],
   "source": [
    "important_feats_masks = {}\n",
    "for mask in masks:\n",
    "    all_important_features = []\n",
    "    ie_arrays = dict(r=ie_resid, a=ie_attn, t=ie_transcoder)\n",
    "    k = 4\n",
    "    for layer in layers[1:-1]:\n",
    "        for type in \"rat\":\n",
    "            all_important_features.append((\"e\" + type, layer, 0))\n",
    "            w, i = jax.lax.top_k(mask_average(ie_arrays[type][layer], mask), k)\n",
    "            for feat in i.tolist():\n",
    "                all_important_features.append((type, layer, feat))\n",
    "    important_feats_masks[mask] = all_important_features"
   ]
  },
  {
   "cell_type": "code",
   "execution_count": 41,
   "metadata": {},
   "outputs": [
    {
     "data": {
      "application/vnd.jupyter.widget-view+json": {
       "model_id": "e74f910e4e1641abb53e63e3a14074dc",
       "version_major": 2,
       "version_minor": 0
      },
      "text/plain": [
       "  0%|          | 0/5 [00:00<?, ?it/s]"
      ]
     },
     "metadata": {},
     "output_type": "display_data"
    },
    {
     "data": {
      "application/vnd.jupyter.widget-view+json": {
       "model_id": "151b8983c9584dc5bf6e4fe49ba2890f",
       "version_major": 2,
       "version_minor": 0
      },
      "text/plain": [
       "  0%|          | 0/135 [00:00<?, ?it/s]"
      ]
     },
     "metadata": {},
     "output_type": "display_data"
    },
    {
     "data": {
      "application/vnd.jupyter.widget-view+json": {
       "model_id": "7eef6a73911d40b99b3b99ea3fa27107",
       "version_major": 2,
       "version_minor": 0
      },
      "text/plain": [
       "  0%|          | 0/135 [00:00<?, ?it/s]"
      ]
     },
     "metadata": {},
     "output_type": "display_data"
    },
    {
     "data": {
      "application/vnd.jupyter.widget-view+json": {
       "model_id": "44d5dad3fd2b4e289f1790319f087d04",
       "version_major": 2,
       "version_minor": 0
      },
      "text/plain": [
       "  0%|          | 0/135 [00:00<?, ?it/s]"
      ]
     },
     "metadata": {},
     "output_type": "display_data"
    },
    {
     "data": {
      "application/vnd.jupyter.widget-view+json": {
       "model_id": "33e627c818d44dd0a00b980fd257d21b",
       "version_major": 2,
       "version_minor": 0
      },
      "text/plain": [
       "  0%|          | 0/135 [00:00<?, ?it/s]"
      ]
     },
     "metadata": {},
     "output_type": "display_data"
    },
    {
     "data": {
      "application/vnd.jupyter.widget-view+json": {
       "model_id": "c36a1bd569ce45f2909d7103704434b8",
       "version_major": 2,
       "version_minor": 0
      },
      "text/plain": [
       "  0%|          | 0/135 [00:00<?, ?it/s]"
      ]
     },
     "metadata": {},
     "output_type": "display_data"
    }
   ],
   "source": [
    "from tqdm.auto import tqdm\n",
    "graph = []\n",
    "for mask, features in tqdm(important_feats_masks.items()):\n",
    "    for downstream_feature in tqdm(features):\n",
    "        edges = compute_edges(downstream_feature, mask, layer_window=2)\n",
    "        graph.extend([(weight, upstream_feature_key + (upstream_feature,), downstream_feature[:2] + (mask,) + downstream_feature[2:])\n",
    "                      for weight, upstream_feature_key, upstream_feature in edges])"
   ]
  },
  {
   "cell_type": "code",
   "execution_count": 42,
   "metadata": {},
   "outputs": [
    {
     "data": {
      "text/html": [
       "<div id=\"output_38cd20e8bdf94122bed4baf109db418c\"><script> /* penzai.treescope rendering of a Python object (compressed) */ (()=>{ let observer; let lastStep = new Promise((resolve, reject) => { observer = new IntersectionObserver((entries) => { for (const entry of entries) { if (entry.isIntersecting) { resolve(); observer.disconnect(); return; } } }, {rootMargin: \"1000px\"}); }); window.treescope_decompress_enqueue = (encoded, destId) => { const previous = lastStep; const destElt = document.getElementById(destId); lastStep = (async () => { await previous; let blob = new Blob([ Uint8Array.from(atob(encoded), (m) => m.codePointAt(0)) ]); let reader = blob.stream().pipeThrough( new DecompressionStream(\"deflate\") ).pipeThrough( new TextDecoderStream(\"utf-8\") ).getReader(); let parts = []; while (true) { let step = await reader.read(); if (step.done) { break; } parts.push(step.value); } let newElt = document.createElement(\"div\"); newElt.innerHTML = parts.join(\"\"); destElt.parentNode.replaceChild(newElt, destElt); for (let oldScript of newElt.querySelectorAll(\"script\")) { let newScript = document.createElement(\"script\"); newScript.type = oldScript.type; newScript.textContent = oldScript.textContent; oldScript.parentNode.replaceChild(newScript, oldScript); } })(); requestAnimationFrame(() => { observer.observe(destElt); }); } })(); </script><div id=\"compress_html_b197c3ebc70446b69a76196632292a43\"><script>window.treescope_decompress_enqueue(\"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\", \"compress_html_b197c3ebc70446b69a76196632292a43\");</script><span style=\"color: #aaaaaa; font-family: monospace\">(Loading...)</span></div></div>"
      ],
      "text/plain": [
       "<IPython.core.display.HTML object>"
      ]
     },
     "metadata": {},
     "output_type": "display_data"
    },
    {
     "data": {
      "text/html": [
       "<div id=\"output_dest_38cd20e8bdf94122bed4baf109db418c\"><script> (()=>{ const output = document.getElementById(\"output_38cd20e8bdf94122bed4baf109db418c\"); const dest = document.getElementById(\"output_dest_38cd20e8bdf94122bed4baf109db418c\"); dest.parentNode.replaceChild(output, dest); })(); </script></div>"
      ],
      "text/plain": [
       "('t', 15, 16627)"
      ]
     },
     "execution_count": 42,
     "metadata": {},
     "output_type": "execute_result"
    }
   ],
   "source": [
    "downstream_feature"
   ]
  },
  {
   "cell_type": "code",
   "execution_count": 43,
   "metadata": {},
   "outputs": [
    {
     "data": {
      "text/html": [
       "<div id=\"output_c505b3e4aaca4f9ca9e7ae7b8a495f21\"><script> /* penzai.treescope rendering of a Python object (compressed) */ (()=>{ let observer; let lastStep = new Promise((resolve, reject) => { observer = new IntersectionObserver((entries) => { for (const entry of entries) { if (entry.isIntersecting) { resolve(); observer.disconnect(); return; } } }, {rootMargin: \"1000px\"}); }); window.treescope_decompress_enqueue = (encoded, destId) => { const previous = lastStep; const destElt = document.getElementById(destId); lastStep = (async () => { await previous; let blob = new Blob([ Uint8Array.from(atob(encoded), (m) => m.codePointAt(0)) ]); let reader = blob.stream().pipeThrough( new DecompressionStream(\"deflate\") ).pipeThrough( new TextDecoderStream(\"utf-8\") ).getReader(); let parts = []; while (true) { let step = await reader.read(); if (step.done) { break; } parts.push(step.value); } let newElt = document.createElement(\"div\"); newElt.innerHTML = parts.join(\"\"); destElt.parentNode.replaceChild(newElt, destElt); for (let oldScript of newElt.querySelectorAll(\"script\")) { let newScript = document.createElement(\"script\"); newScript.type = oldScript.type; newScript.textContent = oldScript.textContent; oldScript.parentNode.replaceChild(newScript, oldScript); } })(); requestAnimationFrame(() => { observer.observe(destElt); }); } })(); </script><div id=\"compress_html_9b329cb5f883453291ff9bc5c207cd00\"><script>window.treescope_decompress_enqueue(\"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\", \"compress_html_9b329cb5f883453291ff9bc5c207cd00\");</script><span style=\"color: #aaaaaa; font-family: monospace\">(Loading...)</span></div></div>"
      ],
      "text/plain": [
       "<IPython.core.display.HTML object>"
      ]
     },
     "metadata": {},
     "output_type": "display_data"
    },
    {
     "data": {
      "text/html": [
       "<div id=\"output_dest_c505b3e4aaca4f9ca9e7ae7b8a495f21\"><script> (()=>{ const output = document.getElementById(\"output_c505b3e4aaca4f9ca9e7ae7b8a495f21\"); const dest = document.getElementById(\"output_dest_c505b3e4aaca4f9ca9e7ae7b8a495f21\"); dest.parentNode.replaceChild(output, dest); })(); </script></div>"
      ],
      "text/plain": [
       "[(2.586606626664434e-07, ('ea', 13, 'newline'), 0),\n",
       " (2.2478997152575175e-07, ('r', 14, 'newline'), 7303),\n",
       " (2.2395694543320133e-07, ('a', 13, 'newline'), 20712),\n",
       " (1.7026626153437974e-07, ('r', 14, 'newline'), 16644)]"
      ]
     },
     "execution_count": 43,
     "metadata": {},
     "output_type": "execute_result"
    }
   ],
   "source": [
    "edges[:4]"
   ]
  },
  {
   "cell_type": "code",
   "execution_count": 44,
   "metadata": {},
   "outputs": [],
   "source": [
    "sorted_graph = sorted(graph, reverse=True, key=lambda x: x[0])"
   ]
  },
  {
   "cell_type": "code",
   "execution_count": 45,
   "metadata": {},
   "outputs": [],
   "source": [
    "n_nodes = sum(map(len, important_feats_masks.values()))\n",
    "k_connections = 4\n",
    "weight_threshold = sorted_graph[n_nodes * k_connections][0]"
   ]
  },
  {
   "cell_type": "code",
   "execution_count": 46,
   "metadata": {},
   "outputs": [
    {
     "ename": "TypeError",
     "evalue": "len() takes exactly one argument (0 given)",
     "output_type": "error",
     "traceback": [
      "\u001b[0;31m---------------------------------------------------------------------------\u001b[0m",
      "\u001b[0;31mTypeError\u001b[0m                                 Traceback (most recent call last)",
      "Cell \u001b[0;32mIn[46], line 1\u001b[0m\n\u001b[0;32m----> 1\u001b[0m \u001b[38;5;28msum\u001b[39m(\u001b[38;5;28;43mlen\u001b[39;49m\u001b[43m(\u001b[49m\u001b[43m)\u001b[49m)\n",
      "\u001b[0;31mTypeError\u001b[0m: len() takes exactly one argument (0 given)"
     ]
    }
   ],
   "source": [
    "sum(len())"
   ]
  },
  {
   "cell_type": "code",
   "execution_count": null,
   "metadata": {},
   "outputs": [
    {
     "name": "stderr",
     "output_type": "stream",
     "text": [
      "huggingface/tokenizers: The current process just got forked, after parallelism has already been used. Disabling parallelism to avoid deadlocks...\n",
      "To disable this warning, you can either:\n",
      "\t- Avoid using `tokenizers` before the fork if possible\n",
      "\t- Explicitly set the environment variable TOKENIZERS_PARALLELISM=(true | false)\n",
      "dot: graph is too large for cairo-renderer bitmaps. Scaling by 0.70213 to fit\n"
     ]
    },
    {
     "data": {
      "text/html": [
       "<div id=\"output_42c9e50912d64c66bfbc6a402581f6d1\"><script> /* penzai.treescope rendering of a Python object (compressed) */ (()=>{ let observer; let lastStep = new Promise((resolve, reject) => { observer = new IntersectionObserver((entries) => { for (const entry of entries) { if (entry.isIntersecting) { resolve(); observer.disconnect(); return; } } }, {rootMargin: \"1000px\"}); }); window.treescope_decompress_enqueue = (encoded, destId) => { const previous = lastStep; const destElt = document.getElementById(destId); lastStep = (async () => { await previous; let blob = new Blob([ Uint8Array.from(atob(encoded), (m) => m.codePointAt(0)) ]); let reader = blob.stream().pipeThrough( new DecompressionStream(\"deflate\") ).pipeThrough( new TextDecoderStream(\"utf-8\") ).getReader(); let parts = []; while (true) { let step = await reader.read(); if (step.done) { break; } parts.push(step.value); } let newElt = document.createElement(\"div\"); newElt.innerHTML = parts.join(\"\"); destElt.parentNode.replaceChild(newElt, destElt); for (let oldScript of newElt.querySelectorAll(\"script\")) { let newScript = document.createElement(\"script\"); newScript.type = oldScript.type; newScript.textContent = oldScript.textContent; oldScript.parentNode.replaceChild(newScript, oldScript); } })(); requestAnimationFrame(() => { observer.observe(destElt); }); } })(); </script><div id=\"compress_html_f2e8b5ac707740bb9f17ec9c7deff843\"><script>window.treescope_decompress_enqueue(\"eNqVVd1r20gQ/1emKgS5VEqTUgqWZQi9K30o99JCH45DKNJIWrza1e2O4viK//fO7lqOnLhtDj/IMzsfv/leWdpJXKdkEG2lByyM1gTfYdBWkNBqCQZlSeIOM2i0oqQpeyF3S+i10nYoK+ZvO0GYeGIJg2GOFJYSbzqh3cBcpRWzb8tq0xo9qjqptNRmGVQzOFC3kgXYnqipW0IjiMUUoaIM+tK0QiUSG1rCddU5HwqTDkXbMecqfZfBfnUZwlnZyoiB1iAaiLdC1Xr7ECHkeQ4MARs2UC841qcS8H2fPWGnxYCqFqq9qVxmLIv9/c9vxT6VqpbOpBqlPCPdIhWPsp9DPCW9IL2AfM0gL1/BZ603XAQD1CF4SaVrTOHVJUgkOOjOVH1p2Hkc3l7kUOtq7Dmh6a2ud3BxAS/cS1rJ0trPXLTUJbwUysbRKahoAS5Vkw+nNJSGLf0psfcV2rNnGo3yj0yeidWM6ovWygW41WZziIxdWmJk35jlnk7YJCrHHNBw4H2pKkyV3saLY2hPXiAJSit4e+0gn+uBx6VMJaqWOm4NeHOuI35d0xC3ywBKiw/Qu1E57L91bjvRkAvJa7g/e/49F0M8SRr8d0RLN0r0pZP4aMoe45DXxeJ8RR5DGUbbhdpkz0ncBCIPqfg/qXs+7LPAUbHWiH9gg8Zg/RX7gdse7dMGGqRjHhuf1czuC0qsSJsbKbnRD7rzJTiqwnKnRovMD1zs5ostgW68QRcof2dzY7DXd3gyNTMbP5uEeMLq7DdG/4duOLzlsPhO4cZRWGzOpNNgah5aZZDDOAzkXJb/pW4Ps3Bw4qkDH+/pQ3A2e35gZh5OmPW/3LoxyNmq8AOPXx2zhddOwNXpp7Ui3bYyrJHCb39iYH7LMQclvQa8Y+uHVLi283S6wZ2byMhE0+ph4VnOg904OtosegYYTTj2wPcgHIJVLe7AK+aP9xpQecuA8T6P3kSgFTtl9Gomdx5/TJ2wE/KIT044pP6SFZYlVOt70B+2l+Xbq3dXpydqKNUEqeNqGL5nm4L4zCGDqksqE4YylNTlUXQqPvcRrS9e3l+/z5zCpahkYpsqHVQbuOyN9dbHD6fheByfPVLx4pjHHx6Q7lE=\", \"compress_html_f2e8b5ac707740bb9f17ec9c7deff843\");</script><span style=\"color: #aaaaaa; font-family: monospace\">(Loading...)</span></div></div>"
      ],
      "text/plain": [
       "<IPython.core.display.HTML object>"
      ]
     },
     "metadata": {},
     "output_type": "display_data"
    },
    {
     "data": {
      "text/html": [
       "<div id=\"output_dest_42c9e50912d64c66bfbc6a402581f6d1\"><script> (()=>{ const output = document.getElementById(\"output_42c9e50912d64c66bfbc6a402581f6d1\"); const dest = document.getElementById(\"output_dest_42c9e50912d64c66bfbc6a402581f6d1\"); dest.parentNode.replaceChild(output, dest); })(); </script></div>"
      ],
      "text/plain": [
       "'data/icl-sfc.png'"
      ]
     },
     "execution_count": 64,
     "metadata": {},
     "output_type": "execute_result"
    }
   ],
   "source": [
    "from IPython.display import Image as IImage\n",
    "from tqdm.auto import tqdm\n",
    "import graphviz\n",
    "import random\n",
    "import math\n",
    "\n",
    "digraph = graphviz.Digraph(graph_attr={\"overlap\": \"scale\", \"splines\": \"ortho\", \"engine\": \"sfdp\"})\n",
    "edges_out = set()\n",
    "penwidth = 2\n",
    "max_w = sorted_graph[0][0]\n",
    "\n",
    "def feature_name(key):\n",
    "    return f\"{key[0]}_{key[1]}_{key[2]}_{key[3]}\"\n",
    "\n",
    "\n",
    "def key_to_node(key):\n",
    "    name = feature_name(key)\n",
    "    shape = {\"r\": \"ellipse\", \"a\": \"egg\", \"t\": \"box\", \"e\": \"diamond\"}[key[0][0]]\n",
    "    color = {\"r\": \"red\", \"a\": \"blue\", \"t\": \"green\"}[key[0][-1]]\n",
    "\n",
    "    digraph.node(name, label=name, shape=shape, color=color) \n",
    "    \n",
    "\n",
    "ws = []\n",
    "for w, uf, df in graph:\n",
    "    if w < weight_threshold:\n",
    "        continue\n",
    "\n",
    "    u_name = feature_name(uf)\n",
    "    d_name = feature_name(df)\n",
    "\n",
    "    log_weight = penwidth * (math.log2(w) - math.log2(weight_threshold)) / (math.log2(max_w) - math.log2(weight_threshold))\n",
    "    ws.append(log_weight)\n",
    "\n",
    "    digraph.edge(u_name, d_name, color=\"black\", penwidth=f\"{log_weight:.4f}\")\n",
    "\n",
    "    key_to_node(uf)\n",
    "    key_to_node(df)\n",
    "\n",
    "\n",
    "\n",
    "digraph.render(\"data/icl-sfc\", format=\"png\", cleanup=True)"
   ]
  },
  {
   "cell_type": "code",
   "execution_count": null,
   "metadata": {},
   "outputs": [
    {
     "data": {
      "text/html": [
       "<div id=\"output_97b33a736ffb41e49a9bb183a19113d0\"><script> /* penzai.treescope rendering of a Python object (compressed) */ (()=>{ let observer; let lastStep = new Promise((resolve, reject) => { observer = new IntersectionObserver((entries) => { for (const entry of entries) { if (entry.isIntersecting) { resolve(); observer.disconnect(); return; } } }, {rootMargin: \"1000px\"}); }); window.treescope_decompress_enqueue = (encoded, destId) => { const previous = lastStep; const destElt = document.getElementById(destId); lastStep = (async () => { await previous; let blob = new Blob([ Uint8Array.from(atob(encoded), (m) => m.codePointAt(0)) ]); let reader = blob.stream().pipeThrough( new DecompressionStream(\"deflate\") ).pipeThrough( new TextDecoderStream(\"utf-8\") ).getReader(); let parts = []; while (true) { let step = await reader.read(); if (step.done) { break; } parts.push(step.value); } let newElt = document.createElement(\"div\"); newElt.innerHTML = parts.join(\"\"); destElt.parentNode.replaceChild(newElt, destElt); for (let oldScript of newElt.querySelectorAll(\"script\")) { let newScript = document.createElement(\"script\"); newScript.type = oldScript.type; newScript.textContent = oldScript.textContent; oldScript.parentNode.replaceChild(newScript, oldScript); } })(); requestAnimationFrame(() => { observer.observe(destElt); }); } })(); </script><div id=\"compress_html_ba149a0493984f6fae4cc2af91c60b44\"><script>window.treescope_decompress_enqueue(\"eNqVVd1v2zYQ/1euGlDIRaU4ydKktmUg6DbsodhLC/RhGARaOlmEKVIjT3G9wv/7jpTlyIm7ZvCDfMf7+N33wtFO4TIli+gK02JujSH4Bq1xkqTRM7CoBMkHnENlNCWVaKTazaAx2rhWFMzf1pIwCcQMWsscJR0lwXRCu5a52mhmr0SxWVvT6TIpjDJ21qvO4UCtFAuwPVlSPYNKEotpQk1zaIRdS50orGgGV0XtfWhMapTrmjmX6c0c9ouLPpyFK6xsaQmygngrdWm2jxFClmXAELBiA+WEY30uAd/282fsNG9Rl1Kv7wufGcdif/71Q7HfhS6VN6k7pc5Ir5HyJ9nPIB6SnpOZQLZkkBdv4KMxGy6CBaoRgqQ2Jabw5gIUEhx0R6qhNOw87t9eZVCaoms4oenKlDt4/Rpe+Ze0UMK5j1y01CdcSO3i6BRUNAGfqsGHV2qFZUu/KmxChfbsmTqrwyOTZ2K1nf5kjPYBbo3dHCJjl44Y2Rdm+acTNsnCM1u0HHgjdIGpNtt4cgzt2QskvdICrq885HM98LSUqUK9pppbA6bnOuK/a9rH7TOAyuEj9LrTHvsPnbtaVuRDChr+z55/L8UQD5IW/+7Q0b2WjfASv1nRYNzndTI5X5GnUNrO1X1t5i9J3AAi61Pxf1L3cthngaNmrQ5/wQqtxfIzNi23PbrnDdQqzzw2PqvZ3SdUWJCx90pxox90x0uw07njTo0m8zBwsZ8vtgSmCgZ9oPwdzY3FxjzgydSMbHxvEuIBq7dfWfMP+uEIlvvFdwo3jvrF5k16DabGoRUWOYzDQI5l+V/q9zAL904CdeDjV/rQOxs9PzLnAU4/63/4dWORs1XgBx6/MmYLb72Ar9N3a0VmvVb9GsnD9icGFrYcc1DRW8AHtn5IhW+7QKcb3PmJjGw0rB4WHuW8txtHR5t5wwCjAcce+B70h2BRygcIitnTvQYkVgwYv2bRNAKj2Smj1yO58/hjqqUbkEd8cvpDGi5ZrrtmhTb0YDhsP03f313evDs5Ua3QA6Saq2H5nm1y4jOHDKoUJBKG0gqqsyg6FR/7iJbT9OpyevPu/dXt7c/Tm9vru7trdsLiy+OHoz/exBdPUjw5pu9fFPnpRg==\", \"compress_html_ba149a0493984f6fae4cc2af91c60b44\");</script><span style=\"color: #aaaaaa; font-family: monospace\">(Loading...)</span></div></div>"
      ],
      "text/plain": [
       "<IPython.core.display.HTML object>"
      ]
     },
     "metadata": {},
     "output_type": "display_data"
    },
    {
     "data": {
      "text/html": [
       "<div id=\"output_dest_97b33a736ffb41e49a9bb183a19113d0\"><script> (()=>{ const output = document.getElementById(\"output_97b33a736ffb41e49a9bb183a19113d0\"); const dest = document.getElementById(\"output_dest_97b33a736ffb41e49a9bb183a19113d0\"); dest.parentNode.replaceChild(output, dest); })(); </script></div>"
      ],
      "text/plain": [
       "0.21056927740573883"
      ]
     },
     "execution_count": 62,
     "metadata": {},
     "output_type": "execute_result"
    }
   ],
   "source": [
    "max_w"
   ]
  },
  {
   "cell_type": "code",
   "execution_count": 49,
   "metadata": {},
   "outputs": [],
   "source": [
    "import json\n",
    "with open(\"micrlhf-progress/graph-short.json\", 'w') as f:\n",
    "    json.dump(graph[:100], f)"
   ]
  },
  {
   "cell_type": "code",
   "execution_count": 76,
   "metadata": {},
   "outputs": [],
   "source": [
    "@jax.jit\n",
    "def ablated_metric(llama_ablated):\n",
    "    ablated_logits = llama_ablated(llama_inputs)\n",
    "    return metric_fn(ablated_logits.unwrap(\"batch\", \"seq\", \"vocabulary\"), None, train_tokens)"
   ]
  },
  {
   "cell_type": "code",
   "execution_count": null,
   "metadata": {},
   "outputs": [],
   "source": [
    "jnp.abs()"
   ]
  },
  {
   "cell_type": "code",
   "execution_count": 74,
   "metadata": {},
   "outputs": [
    {
     "data": {
      "application/vnd.jupyter.widget-view+json": {
       "model_id": "ff3275b059c449468fd5983f13b23371",
       "version_major": 2,
       "version_minor": 0
      },
      "text/plain": [
       "  0%|          | 0/11 [00:00<?, ?it/s]"
      ]
     },
     "metadata": {},
     "output_type": "display_data"
    }
   ],
   "source": [
    "from micrlhf.llama import LlamaMLP\n",
    "from typing import Dict, List\n",
    "import dataclasses\n",
    "\n",
    "\n",
    "@pz.pytree_dataclass\n",
    "class AblatedModule(pz.Layer):\n",
    "    module: pz.Layer\n",
    "    sae: dict\n",
    "    keep_features: Dict[str, jax.typing.ArrayLike]\n",
    "\n",
    "    @classmethod\n",
    "    def wrap(self, sae, ablated_features, module=None):\n",
    "        if module is None:\n",
    "            module = pz.nn.Identity()\n",
    "        return AblatedModule(module, sae, ablated_features)\n",
    "\n",
    "    def __call__(self, x):\n",
    "        inp = x.unwrap(\"batch\", \"seq\", \"embedding\")\n",
    "        out = self.module(x)\n",
    "        result = 0\n",
    "        out = out.unwrap(\"batch\", \"seq\", \"embedding\")\n",
    "        for mask, mask_values in masks.items():\n",
    "            _, _, recon = sae_encode_gated(self.sae, inp)\n",
    "            error = out - recon\n",
    "            _, _, recon_ablated = sae_encode_gated(self.sae, inp, keep_features=self.keep_features[mask])\n",
    "            res = recon_ablated + error\n",
    "            res = res * mask_values[..., None]\n",
    "            result = result + res\n",
    "        return pz.nx.wrap(result, \"batch\", \"seq\", \"embedding\")\n",
    "\n",
    "\n",
    "llama_ablated = llama\n",
    "for layer in tqdm(layers):\n",
    "    block_selection = llama_ablated.select().at_instances_of(LlamaBlock).pick_nth_selected(layer)\n",
    "\n",
    "    def converter(block):\n",
    "        try:\n",
    "            attn_out = get_nev_it_sae_suite(layer=layer, label=\"attn_out\")\n",
    "            mask_attn_out = mask_ie(ie_attn[layer])\n",
    "            block = block.select().at_instances_of(LlamaAttention).apply(lambda x: pz.nn.Sequential([x, AblatedModule.wrap(attn_out, mask_attn_out)]))\n",
    "        except KeyError:\n",
    "            pass\n",
    "\n",
    "        try:\n",
    "            transcoder = get_nev_it_sae_suite(layer=layer, label=\"transcoder\")\n",
    "            mask_transcoder = mask_ie(ie_transcoder[layer])\n",
    "            block = block.select().at_instances_of(LlamaMLP).apply(lambda x: AblatedModule.wrap(transcoder, mask_transcoder, x))\n",
    "        except KeyError:\n",
    "            pass\n",
    "        return block\n",
    "\n",
    "    llama_ablated = block_selection.apply(converter)"
   ]
  },
  {
   "cell_type": "code",
   "execution_count": 75,
   "metadata": {},
   "outputs": [
    {
     "data": {
      "text/html": [
       "<div id=\"output_fc183b533c644bd4a39cdf75b76a56c7\"><script> /* penzai.treescope rendering of a Python object (compressed) */ (()=>{ let observer; let lastStep = new Promise((resolve, reject) => { observer = new IntersectionObserver((entries) => { for (const entry of entries) { if (entry.isIntersecting) { resolve(); observer.disconnect(); return; } } }, {rootMargin: \"1000px\"}); }); window.treescope_decompress_enqueue = (encoded, destId) => { const previous = lastStep; const destElt = document.getElementById(destId); lastStep = (async () => { await previous; let blob = new Blob([ Uint8Array.from(atob(encoded), (m) => m.codePointAt(0)) ]); let reader = blob.stream().pipeThrough( new DecompressionStream(\"deflate\") ).pipeThrough( new TextDecoderStream(\"utf-8\") ).getReader(); let parts = []; while (true) { let step = await reader.read(); if (step.done) { break; } parts.push(step.value); } let newElt = document.createElement(\"div\"); newElt.innerHTML = parts.join(\"\"); destElt.parentNode.replaceChild(newElt, destElt); for (let oldScript of newElt.querySelectorAll(\"script\")) { let newScript = document.createElement(\"script\"); newScript.type = oldScript.type; newScript.textContent = oldScript.textContent; oldScript.parentNode.replaceChild(newScript, oldScript); } })(); requestAnimationFrame(() => { observer.observe(destElt); }); } })(); </script><div id=\"compress_html_8e97534e21ff40c1b87782cc5faad466\"><script>window.treescope_decompress_enqueue(\"eNqVVd1v2zYQ/1euGlDIRaXEWbw1tmUg6DbsodhLC/RhGARZOlmEKVIjT3G9wv/7jqTlyIm7ZvCDfMf7+N330tJe4iolg2hL3WFutCb4Cp22goRWczAoCxIPuIBaK0rqohVyP4dWK227omT+rhGEiSfm0BnmSGEp8aYT2nfMVVoxe12U243RvaqSUktt5kF1AUdqLVmA7YmKmjnUglhMESpaQFuYjVCJxJrmcFM2zofCpEGxaZgzTWcLOCyvQjhLWxrR0QpEDfFOqErvHiOELMuAIWDNBqoJx/pcAr4eFs/Yad6hqoTa3JcuM5bF/vzru2K/F6qSzqTqpbwgvUHKn2Q/g3hIek56AtmKQV69gQ9ab7kIBqhB8JJKV5jCmyuQSHDUHan60rDzOLy9yqDSZd9yQtO1rvbw+jW8ci9pKQtrP3DRUpfwQigbR+egogm4VA0+nFJXGLb0q8TWV+jAnqk3yj8yeSFW06uPWisX4E6b7TEydmmJkX1mlns6Y5MoHbNDw4G3hSoxVXoXT06hPXuBJCgt4ccbB/lSDzwtZSpRbajh1oDrSx3x3zUNcbsMoLT4CL3plcP+Xee2ETW5kLyG+3Pg30sxxIOkwb97tHSvRFs4id9M0WIc8jqZXK7IUyhdb5tQm8VLEjeAyEIq/k/qXg77InBUrNXjL1ijMVh9wrbjtkf7vIE66Zinxmc1s/+IEkvS5l5KbvSj7ngJ9iq33KnRZOEHLnbzxZZA196gC5S/o7kx2OoHPJuakY1vTUI8YHX2a6P/QTcc3nJYfOdw4ygsNmfSaTA1Dq00yGEcB3Isy/9St4dZODjx1JGPX+h9cDZ6fmQuPJww63+4dWOQs1Xiex6/KmYLb52Aq9M3a0V6s5FhjeR++xMD81uOOSjpLeADWz+mwrWdp9Mt7t1ERiYaVg8Lj3Ie7MbRyWbeMsBowHEAvgfhECwr8QBeMXu614CKNQPGL1l0HYFW7JTRq5HcZfwxNcIOyCM+OeGQ+kuWq75do/E96A/bD9d376azn85OVFeoAVLD1TB8z7Y58ZlDBlUVVCQMpSuoyaLoXHzsI1ol09v09vrn2bu7u+nN7fR2NmMfLL06fTj400l88SDFk1P2/gU28+kL\", \"compress_html_8e97534e21ff40c1b87782cc5faad466\");</script><span style=\"color: #aaaaaa; font-family: monospace\">(Loading...)</span></div></div>"
      ],
      "text/plain": [
       "<IPython.core.display.HTML object>"
      ]
     },
     "metadata": {},
     "output_type": "display_data"
    },
    {
     "data": {
      "text/html": [
       "<div id=\"output_dest_fc183b533c644bd4a39cdf75b76a56c7\"><script> (()=>{ const output = document.getElementById(\"output_fc183b533c644bd4a39cdf75b76a56c7\"); const dest = document.getElementById(\"output_dest_fc183b533c644bd4a39cdf75b76a56c7\"); dest.parentNode.replaceChild(output, dest); })(); </script></div>"
      ],
      "text/plain": [
       "-14.40758991241455"
      ]
     },
     "execution_count": 75,
     "metadata": {},
     "output_type": "execute_result"
    }
   ],
   "source": [
    "\n",
    "float(ablated_metric(llama_ablated))"
   ]
  },
  {
   "cell_type": "code",
   "execution_count": null,
   "metadata": {},
   "outputs": [],
   "source": [
    "r = 0\n",
    "for k, v in masks.items():\n",
    "    r = r + v\n",
    "int(r.max())"
   ]
  },
  {
   "cell_type": "code",
   "execution_count": null,
   "metadata": {},
   "outputs": [],
   "source": [
    "def run_with_ablation(ablation_mask):\n",
    "    "
   ]
  }
 ],
 "metadata": {
  "kernelspec": {
   "display_name": "micrlhf-progress-_SD4q1c9-py3.12",
   "language": "python",
   "name": "python3"
  },
  "language_info": {
   "codemirror_mode": {
    "name": "ipython",
    "version": 3
   },
   "file_extension": ".py",
   "mimetype": "text/x-python",
   "name": "python",
   "nbconvert_exporter": "python",
   "pygments_lexer": "ipython3",
   "version": "3.12.0"
  }
 },
 "nbformat": 4,
 "nbformat_minor": 2
}
