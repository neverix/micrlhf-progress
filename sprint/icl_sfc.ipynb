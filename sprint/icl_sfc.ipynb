{
 "cells": [
  {
   "cell_type": "code",
   "execution_count": 1,
   "metadata": {},
   "outputs": [],
   "source": [
    "import os\n",
    "if \"models\" not in os.listdir(\".\"):\n",
    "    os.chdir(\"../..\")"
   ]
  },
  {
   "cell_type": "code",
   "execution_count": 2,
   "metadata": {},
   "outputs": [],
   "source": [
    "%load_ext autoreload\n",
    "%autoreload 2\n",
    "import penzai\n",
    "import jax_smi\n",
    "jax_smi.initialise_tracking()\n",
    "from penzai import pz\n",
    "pz.ts.register_as_default()\n",
    "pz.ts.register_autovisualize_magic()\n",
    "pz.enable_interactive_context()"
   ]
  },
  {
   "cell_type": "code",
   "execution_count": 3,
   "metadata": {},
   "outputs": [],
   "source": [
    "from micrlhf.llama import LlamaTransformer\n",
    "llama = LlamaTransformer.from_pretrained(\"models/gemma-2b-it.gguf\", from_type=\"gemma\", load_eager=True, device_map=\"tpu:0\")"
   ]
  },
  {
   "cell_type": "code",
   "execution_count": 4,
   "metadata": {},
   "outputs": [],
   "source": [
    "from transformers import AutoTokenizer\n",
    "tokenizer = AutoTokenizer.from_pretrained(\"alpindale/gemma-2b\")\n",
    "tokenizer.padding_side = \"right\""
   ]
  },
  {
   "cell_type": "code",
   "execution_count": 5,
   "metadata": {},
   "outputs": [],
   "source": [
    "from sprint.task_vector_utils import load_tasks, ICLRunner\n",
    "tasks = load_tasks()"
   ]
  },
  {
   "cell_type": "code",
   "execution_count": 6,
   "metadata": {},
   "outputs": [
    {
     "name": "stdout",
     "output_type": "stream",
     "text": [
      "763\n",
      "346\n"
     ]
    }
   ],
   "source": [
    "def check_if_single_token(token):\n",
    "    return len(tokenizer.tokenize(token)) == 1\n",
    "\n",
    "task_name = \"es_en\"\n",
    "\n",
    "task = tasks[task_name]\n",
    "\n",
    "print(len(task))\n",
    "\n",
    "task = {\n",
    "    k:v for k,v in task.items() if check_if_single_token(k) and check_if_single_token(v)\n",
    "}\n",
    "\n",
    "print(len(task))\n",
    "\n",
    "pairs = list(task.items())"
   ]
  },
  {
   "cell_type": "code",
   "execution_count": 7,
   "metadata": {},
   "outputs": [],
   "source": [
    "import jax\n",
    "\n",
    "def logprob_loss(logits, tokens, sep=1599, pad_token=32000, n_first=None, shift=None, use_softmax=False):\n",
    "    if use_softmax:\n",
    "        logits = jax.nn.log_softmax(logits)\n",
    "    \n",
    "    logits = logits[:, :-1]\n",
    "\n",
    "    # print(\n",
    "    #     logits.argmax(axis=-1)\n",
    "    # )\n",
    "\n",
    "    logits = jnp.take_along_axis(logits, tokens[:, 1:, None], axis=-1).squeeze(-1)\n",
    "\n",
    "    mask = tokens[:, 1:] == sep\n",
    "    mask = jnp.cumsum(mask[:, ::-1], axis=-1)[:, ::-1] > 0\n",
    "    mask = jnp.logical_not(mask)\n",
    "\n",
    "    if shift is not None:\n",
    "        rolled_mask = jnp.roll(mask, shift, axis=-1)\n",
    "        mask = jnp.logical_and(mask, rolled_mask)\n",
    "\n",
    "    # print(mask[:, -5:])\n",
    "    \n",
    "    if n_first is not None:\n",
    "        rolled_mask = jnp.roll(mask, n_first, axis=-1)\n",
    "        mask = jnp.logical_and(mask, jnp.logical_not(rolled_mask))\n",
    "\n",
    "    mask = jnp.logical_and(mask, tokens[:, 1:] != pad_token)\n",
    "\n",
    "    logits = logits * mask\n",
    "\n",
    "    return logits.sum(axis=-1).mean(axis=-1)"
   ]
  },
  {
   "cell_type": "code",
   "execution_count": 8,
   "metadata": {},
   "outputs": [],
   "source": [
    "from functools import partial\n",
    "\n",
    "sep = 3978\n",
    "pad = 0\n",
    "\n",
    "def metric_fn(logits, resids, tokens, use_softmax=False):\n",
    "    return logprob_loss(logits, tokens, sep=sep, pad_token=pad, n_first=2, use_softmax=use_softmax)"
   ]
  },
  {
   "cell_type": "code",
   "execution_count": 9,
   "metadata": {},
   "outputs": [],
   "source": [
    "from micrlhf.llama import LlamaBlock, LlamaAttention\n",
    "from micrlhf.utils.activation_manipulation import ActivationAddition, wrap_vector\n",
    "from functools import partial\n",
    "import jax.numpy as jnp\n",
    "from penzai import pz\n",
    "import jax\n",
    "\n",
    "@partial(jax.jit, static_argnames=(\"metric\", \"batched\"))\n",
    "def run_with_add(additions_pre, additions_mid, tokens, metric, batched=False, llama=None):\n",
    "    get_resids = llama.select().at_instances_of(LlamaBlock).apply_with_selected_index(lambda i, x:\n",
    "        pz.nn.Sequential([\n",
    "            pz.de.TellIntermediate.from_config(tag=f\"resid_pre_{i}\"),\n",
    "            x\n",
    "        ])\n",
    "    )\n",
    "    get_resids = get_resids.select().at_instances_of(LlamaBlock).apply_with_selected_index(lambda l, b: b.select().at_instances_of(pz.nn.Residual).apply_with_selected_index(lambda i, x: x if i == 0 else pz.nn.Sequential([\n",
    "        pz.de.TellIntermediate.from_config(tag=f\"resid_mid_{l}\"),\n",
    "        x,\n",
    "    ])))\n",
    "\n",
    "\n",
    "    get_resids = get_resids.select().at_instances_of(LlamaAttention).apply_with_selected_index(lambda i, x: x.select().at_instances_of(pz.nn.Softmax).apply(lambda b: pz.nn.Sequential([\n",
    "        b,\n",
    "        pz.de.TellIntermediate.from_config(tag=f\"attn_{i}\"),\n",
    "    ])))\n",
    "\n",
    "    get_resids = pz.de.CollectingSideOutputs.handling(get_resids, tag_predicate=lambda x: True)\n",
    "    make_additions = get_resids.select().at_instances_of(LlamaBlock).apply_with_selected_index(lambda i, x:\n",
    "        pz.nn.Sequential([\n",
    "            ActivationAddition(pz.nx.wrap(additions_pre[i], *((\"batch\",) if batched else ()), \"seq\", \"embedding\"), \"all\"),\n",
    "            x\n",
    "        ])\n",
    "    )\n",
    "    make_additions = make_additions.select().at_instances_of(LlamaBlock).apply_with_selected_index(lambda l, b: b.select().at_instances_of(pz.nn.Residual).apply_with_selected_index(lambda i, x: x if i == 0 else pz.nn.Sequential([\n",
    "        ActivationAddition(pz.nx.wrap(additions_mid[l], *((\"batch\",) if batched else ()), \"seq\", \"embedding\"), \"all\"),\n",
    "        x,\n",
    "    ])))\n",
    "    tokens_wrapped = pz.nx.wrap(tokens, \"batch\", \"seq\")\n",
    "    logits, resids = make_additions(llama.inputs.from_basic_segments(tokens_wrapped))\n",
    "    return metric(logits.unwrap(\"batch\", \"seq\", \"vocabulary\"), resids, tokens), (logits, resids[::3], resids[1::3], resids[2::3])\n",
    "\n",
    "\n",
    "@partial(jax.jit, static_argnames=(\"metric\",))\n",
    "def get_metric_resid_grad(tokens, llama=llama, metric=metric_fn):\n",
    "    additions = [jnp.zeros(tokens.shape + (llama.config.hidden_size,)) for _ in range(llama.config.num_layers)]\n",
    "    batched = tokens.ndim > 1\n",
    "    (metric, (logits, resids_pre, qk, resids_mid)), (grad_pre, grad_mid) = jax.value_and_grad(run_with_add, argnums=(0, 1), has_aux=True)(additions, additions, tokens, metric, batched=batched, llama=llama)\n",
    "    return (\n",
    "        metric,\n",
    "        [r.value.unwrap(\"batch\", \"seq\", \"embedding\") for r in resids_pre],\n",
    "        [r.value.unwrap(\"batch\", \"seq\", \"embedding\") for r in resids_mid],\n",
    "        [r.value.unwrap(\"batch\", \"kv_heads\", \"q_rep\", \"seq\", \"kv_seq\") for r in qk],\n",
    "        grad_pre,\n",
    "        grad_mid\n",
    "    )\n"
   ]
  },
  {
   "cell_type": "code",
   "execution_count": 10,
   "metadata": {},
   "outputs": [],
   "source": [
    "batch_size = 8 \n",
    "n_shot=20\n",
    "max_seq_len = 128\n",
    "seed = 10"
   ]
  },
  {
   "cell_type": "code",
   "execution_count": 11,
   "metadata": {},
   "outputs": [],
   "source": [
    "prompt = \"Follow the pattern:\\n{}\""
   ]
  },
  {
   "cell_type": "code",
   "execution_count": 12,
   "metadata": {},
   "outputs": [],
   "source": [
    "runner = ICLRunner(task_name, pairs, batch_size=batch_size, n_shot=n_shot, max_seq_len=max_seq_len, seed=seed, prompt=prompt)"
   ]
  },
  {
   "cell_type": "code",
   "execution_count": 13,
   "metadata": {},
   "outputs": [],
   "source": [
    "from sprint.task_vector_utils import tokenized_to_inputs\n",
    "\n",
    "train_tokens = runner.get_tokens(\n",
    "    runner.train_pairs, tokenizer\n",
    ")[\"input_ids\"]"
   ]
  },
  {
   "cell_type": "code",
   "execution_count": 14,
   "metadata": {},
   "outputs": [],
   "source": [
    "metric_value, resids_pre, resids_mid, qk, grad_pre, grad_mid = get_metric_resid_grad(train_tokens, llama=llama)"
   ]
  },
  {
   "cell_type": "code",
   "execution_count": 15,
   "metadata": {},
   "outputs": [],
   "source": [
    "get_rms_block = lambda layer, resid_index: (\n",
    "    llama.select()\n",
    "    .at_instances_of(LlamaBlock).pick_nth_selected(layer)\n",
    "    .at_instances_of(pz.nn.Residual).pick_nth_selected(resid_index)\n",
    "    .at_instances_of(pz.nn.RMSLayerNorm).pick_nth_selected(0)\n",
    "    ).get()"
   ]
  },
  {
   "cell_type": "code",
   "execution_count": 16,
   "metadata": {},
   "outputs": [],
   "source": [
    "mlp_rms = [get_rms_block(layer, 1) for layer in range(llama.config.num_layers)]"
   ]
  },
  {
   "cell_type": "code",
   "execution_count": 17,
   "metadata": {},
   "outputs": [],
   "source": [
    "from micrlhf.utils.load_sae import get_nev_it_sae_suite"
   ]
  },
  {
   "cell_type": "code",
   "execution_count": 18,
   "metadata": {},
   "outputs": [],
   "source": [
    "from micrlhf.utils.load_sae import weights_to_resid, resids_to_weights"
   ]
  },
  {
   "cell_type": "code",
   "execution_count": 19,
   "metadata": {},
   "outputs": [],
   "source": [
    "from micrlhf.utils.load_sae import sae_encode_gated"
   ]
  },
  {
   "cell_type": "code",
   "execution_count": 20,
   "metadata": {},
   "outputs": [],
   "source": [
    "def mlp_normalize(layer, resid_mid):\n",
    "    # return resid_mid / resids_mid_norms[layer] * mlp_rms_weights[layer]\n",
    "    # return resid_mid / jnp.linalg.norm(resid_mid, axis=-1, keepdims=True) * mlp_rms_weights[layer]\n",
    "    return mlp_rms[layer](pz.nx.wrap(resid_mid, \"batch\", \"seq\", \"embedding\")).unwrap(\"batch\", \"seq\", \"embedding\")"
   ]
  },
  {
   "cell_type": "code",
   "execution_count": 21,
   "metadata": {},
   "outputs": [
    {
     "data": {
      "application/vnd.jupyter.widget-view+json": {
       "model_id": "e0ec24e1eb6047e0bc751c7ca2554568",
       "version_major": 2,
       "version_minor": 0
      },
      "text/plain": [
       "  0%|          | 0/11 [00:00<?, ?it/s]"
      ]
     },
     "metadata": {},
     "output_type": "display_data"
    },
    {
     "data": {
      "application/vnd.jupyter.widget-view+json": {
       "model_id": "3bbf56046fa1459c849928c4f11e14cd",
       "version_major": 2,
       "version_minor": 0
      },
      "text/plain": [
       "  0%|          | 0/11 [00:00<?, ?it/s]"
      ]
     },
     "metadata": {},
     "output_type": "display_data"
    },
    {
     "data": {
      "application/vnd.jupyter.widget-view+json": {
       "model_id": "63a3d3ec2ce848f687490d9930a03132",
       "version_major": 2,
       "version_minor": 0
      },
      "text/plain": [
       "  0%|          | 0/10 [00:00<?, ?it/s]"
      ]
     },
     "metadata": {},
     "output_type": "display_data"
    }
   ],
   "source": [
    "from tqdm.auto import tqdm\n",
    "\n",
    "ie_attn = {}\n",
    "sae_grads_attn = {}\n",
    "ie_resid = {}\n",
    "sae_grads_resid = {}\n",
    "ie_transcoder = {}\n",
    "sae_grads_transcoder = {}\n",
    "\n",
    "ie_error_attn = {}\n",
    "ie_error_resid = {}\n",
    "ie_error_transcoder = {}\n",
    "\n",
    "sae_error_attn = {}\n",
    "sae_error_resid = {}\n",
    "sae_error_transcoder = {}\n",
    "\n",
    "def sfc_simple(grad, resid, target, sae):\n",
    "    pre_relu, post_relu, recon = sae_encode_gated(sae, resid)\n",
    "\n",
    "    post_relu = post_relu.astype(jnp.float32)\n",
    "    error = target - recon\n",
    "    f = partial(weights_to_resid, sae=sae)\n",
    "\n",
    "    sae_grad, = jax.vjp(f, post_relu)[1](grad,)\n",
    "    indirect_effects = sae_grad * post_relu\n",
    "    indirect_effects_error = jnp.einsum(\"...f, ...f -> ...\", grad, error)\n",
    "    return indirect_effects, indirect_effects_error, sae_grad, error\n",
    "\n",
    "\n",
    "layers = list(range(6, 17))\n",
    "for l in tqdm(layers):\n",
    "    r_pre, r_mid, g_mid = resids_pre[l], resids_mid[l], grad_mid[l]\n",
    "    sae = get_nev_it_sae_suite(layer=l, label=\"attn_out\")\n",
    "    indirect_effects, indirect_effects_error, sae_grad, error = sfc_simple(g_mid, r_mid - r_pre, r_mid - r_pre, sae)\n",
    "    # display((indirect_effects > 0).sum(-1))\n",
    "    ie_attn[l] = indirect_effects\n",
    "    ie_error_attn[l] = indirect_effects_error\n",
    "    sae_grads_attn[l] = sae_grad\n",
    "    sae_error_attn[l] = error\n",
    "\n",
    "# for layer, (r_pre, g_pre) in enumerate(zip(resids_pre, grad_pre)):\n",
    "for l in tqdm(layers):\n",
    "    r_pre, g_pre = resids_pre[l], grad_pre[l]\n",
    "    sae = get_nev_it_sae_suite(layer=l)\n",
    "    indirect_effects, indirect_effects_error, sae_grad, error = sfc_simple(g_pre, r_pre, r_pre, sae)\n",
    "    # display((indirect_effects != 0).sum(-1))\n",
    "    ie_resid[l] = indirect_effects\n",
    "    ie_error_resid[l] = indirect_effects_error\n",
    "    sae_grads_resid[l] = sae_grad\n",
    "    sae_error_resid[l] = error\n",
    "\n",
    "for l in tqdm(layers[:-1]):\n",
    "    r_mid, r_pre, g_pre = resids_mid[l], resids_pre[l + 1], grad_pre[l + 1]\n",
    "    sae = get_nev_it_sae_suite(layer=l, label=\"transcoder\")\n",
    "    indirect_effects, indirect_effects_error, sae_grad, error = sfc_simple(g_pre, mlp_normalize(l, r_mid), r_pre - r_mid, sae)\n",
    "    # display((indirect_effects != 0).sum(-1))\n",
    "    ie_transcoder[l] = indirect_effects\n",
    "    ie_error_transcoder[l] = indirect_effects_error\n",
    "    sae_grads_transcoder[l] = sae_grad\n",
    "    sae_error_transcoder[l] = error"
   ]
  },
  {
   "cell_type": "code",
   "execution_count": 22,
   "metadata": {},
   "outputs": [],
   "source": [
    "tokens_wrapped = pz.nx.wrap(train_tokens, \"batch\", \"seq\")\n",
    "llama_inputs = llama.inputs.from_basic_segments(tokens_wrapped)"
   ]
  },
  {
   "cell_type": "code",
   "execution_count": 23,
   "metadata": {},
   "outputs": [],
   "source": [
    "prompt_length = len(tokenizer.tokenize(prompt))\n",
    "periods = [\"input\", \"arrow\", \"output\", \"newline\"]\n",
    "masks = {\n",
    "    \"prompt\": jnp.zeros_like(train_tokens).at[:, :prompt_length].set(1).astype(bool),\n",
    "    **{\n",
    "        period: jnp.zeros_like(train_tokens).at[:, prompt_length+i::len(periods)].set(1).astype(bool) * (train_tokens != pad) for i, period in enumerate(periods)\n",
    "    }\n",
    "}"
   ]
  },
  {
   "cell_type": "code",
   "execution_count": 24,
   "metadata": {},
   "outputs": [],
   "source": [
    "def mask_average(vector, mask):\n",
    "    mask = masks[mask]\n",
    "    while mask.ndim < vector.ndim:\n",
    "        mask = mask[..., None]\n",
    "\n",
    "    return ((mask * vector).sum(1) / mask.sum(1)).mean(0)"
   ]
  },
  {
   "cell_type": "code",
   "execution_count": 25,
   "metadata": {},
   "outputs": [],
   "source": [
    "@jax.jit\n",
    "def ablated_metric(llama_ablated):\n",
    "    ablated_logits = llama_ablated(llama_inputs)\n",
    "    return metric_fn(ablated_logits.unwrap(\"batch\", \"seq\", \"vocabulary\"), None, train_tokens, use_softmax=True)"
   ]
  },
  {
   "cell_type": "code",
   "execution_count": 26,
   "metadata": {},
   "outputs": [],
   "source": [
    "def mask_ie(ie, threshold):\n",
    "    out_masks = {}\n",
    "    total_nodes = 0\n",
    "    for mask in masks:\n",
    "        out_masks[mask] = jnp.abs(mask_average(ie, mask)) > threshold\n",
    "        total_nodes += out_masks[mask].sum()\n",
    "    return out_masks, total_nodes"
   ]
  },
  {
   "cell_type": "code",
   "execution_count": 27,
   "metadata": {},
   "outputs": [],
   "source": [
    "from micrlhf.llama import LlamaMLP\n",
    "from typing import Dict, List\n",
    "import dataclasses\n",
    "\n",
    "\n",
    "@pz.pytree_dataclass\n",
    "class AblatedModule(pz.Layer):\n",
    "    module: pz.Layer\n",
    "    sae: dict\n",
    "    keep_features: Dict[str, jax.typing.ArrayLike]\n",
    "\n",
    "    @classmethod\n",
    "    def wrap(self, sae, ablated_features, module=None):\n",
    "        if module is None:\n",
    "            module = pz.nn.Identity()\n",
    "        return AblatedModule(module, sae, ablated_features)\n",
    "\n",
    "    def __call__(self, x):\n",
    "        inp = x.unwrap(\"batch\", \"seq\", \"embedding\")\n",
    "        out = self.module(x)\n",
    "        result = 0\n",
    "        out = out.unwrap(\"batch\", \"seq\", \"embedding\")\n",
    "        for mask, mask_values in masks.items():\n",
    "            _, _, recon = sae_encode_gated(self.sae, inp)\n",
    "            error = out - recon\n",
    "            _, _, recon_ablated = sae_encode_gated(self.sae, inp, keep_features=self.keep_features[mask])\n",
    "            res = recon_ablated + error\n",
    "            res = res * mask_values[..., None]\n",
    "            result = result + res\n",
    "        return pz.nx.wrap(result, \"batch\", \"seq\", \"embedding\")\n",
    "\n",
    "\n",
    "@partial(jax.jit, static_argnames=(\"ablate_resids\",))\n",
    "def ablate_nodes(threshold, llama, saes, ie_resid, ie_attn, ie_transcoder, ablate_resids=False):\n",
    "    llama_ablated = llama\n",
    "    n_nodes = {0: 0}\n",
    "    for layer in layers:\n",
    "        block_selection = llama_ablated.select().at_instances_of(LlamaBlock).pick_nth_selected(layer)\n",
    "\n",
    "        def converter(block):\n",
    "            n_nodes_resid, n_nodes_attn, n_nodes_mlp = 0, 0, 0\n",
    "\n",
    "            if ablate_resids:\n",
    "                try:\n",
    "                    resid = saes[(layer, \"resid\")]\n",
    "                    mask_resid, n_nodes_resid = mask_ie(ie_resid[layer], threshold)\n",
    "                    block = block.select().at_instances_of(LlamaBlock).apply(lambda x: pz.nn.Sequential([AblatedModule.wrap(resid, mask_resid), x]))\n",
    "                except KeyError:\n",
    "                    pass\n",
    "            try:\n",
    "                attn_out = saes[(layer, \"attn_out\")]\n",
    "                mask_attn_out, n_nodes_attn = mask_ie(ie_attn[layer], threshold)\n",
    "                block = block.select().at_instances_of(LlamaAttention).apply(lambda x: pz.nn.Sequential([x, AblatedModule.wrap(attn_out, mask_attn_out)]))\n",
    "            except KeyError:\n",
    "                pass\n",
    "\n",
    "            try:\n",
    "                transcoder = saes[(layer, \"transcoder\")]\n",
    "                mask_transcoder, n_nodes_mlp = mask_ie(ie_transcoder[layer], threshold)\n",
    "                block = block.select().at_instances_of(LlamaMLP).apply(lambda x: AblatedModule.wrap(transcoder, mask_transcoder, x))\n",
    "            except KeyError:\n",
    "                pass\n",
    "            n_nodes[0] += n_nodes_attn + n_nodes_mlp + n_nodes_resid\n",
    "            return block\n",
    "\n",
    "        llama_ablated = block_selection.apply(converter)\n",
    "    return ablated_metric(llama_ablated), n_nodes[0]"
   ]
  },
  {
   "cell_type": "code",
   "execution_count": 40,
   "metadata": {},
   "outputs": [],
   "source": [
    "\n",
    "saes = {}\n",
    "for layer in layers:\n",
    "    try:\n",
    "        saes[(layer, \"attn_out\")] = get_nev_it_sae_suite(layer=layer, label=\"attn_out\")\n",
    "    except KeyError:\n",
    "        pass\n",
    "    try:\n",
    "        saes[(layer, \"resid\")] = get_nev_it_sae_suite(layer=layer, label=\"residual\")\n",
    "    except KeyError:\n",
    "        pass\n",
    "    try:\n",
    "        saes[(layer, \"transcoder\")] = get_nev_it_sae_suite(layer=layer, label=\"transcoder\")\n",
    "    except KeyError:\n",
    "        pass"
   ]
  },
  {
   "cell_type": "code",
   "execution_count": 41,
   "metadata": {},
   "outputs": [
    {
     "data": {
      "application/vnd.jupyter.widget-view+json": {
       "model_id": "4bac2b637f1a403a8b523664e8b16706",
       "version_major": 2,
       "version_minor": 0
      },
      "text/plain": [
       "  0%|          | 0/100 [00:00<?, ?it/s]"
      ]
     },
     "metadata": {},
     "output_type": "display_data"
    }
   ],
   "source": [
    "import numpy as np\n",
    "thresholds = np.linspace(1e-7, 1e-5, 100)\n",
    "n_nodes_counts = []\n",
    "ablated_metrics = []\n",
    "for threshold in tqdm(thresholds):\n",
    "    abl_met, n_nodes = ablate_nodes(threshold, llama, saes, ie_resid, ie_attn, ie_transcoder, ablate_resids=True)\n",
    "    ablated_metrics.append(float(abl_met))\n",
    "    n_nodes_counts.append(int(n_nodes))\n"
   ]
  },
  {
   "cell_type": "code",
   "execution_count": 42,
   "metadata": {},
   "outputs": [
    {
     "data": {
      "text/html": [
       "<div id=\"output_1224e8b4f5884825802f281a3444a2f8\"><script> /* penzai.treescope rendering of a Python object (compressed) */ (()=>{ let observer; let lastStep = new Promise((resolve, reject) => { observer = new IntersectionObserver((entries) => { for (const entry of entries) { if (entry.isIntersecting) { resolve(); observer.disconnect(); return; } } }, {rootMargin: \"1000px\"}); }); window.treescope_decompress_enqueue = (encoded, destId) => { const previous = lastStep; const destElt = document.getElementById(destId); lastStep = (async () => { await previous; let blob = new Blob([ Uint8Array.from(atob(encoded), (m) => m.codePointAt(0)) ]); let reader = blob.stream().pipeThrough( new DecompressionStream(\"deflate\") ).pipeThrough( new TextDecoderStream(\"utf-8\") ).getReader(); let parts = []; while (true) { let step = await reader.read(); if (step.done) { break; } parts.push(step.value); } let newElt = document.createElement(\"div\"); newElt.innerHTML = parts.join(\"\"); destElt.parentNode.replaceChild(newElt, destElt); for (let oldScript of newElt.querySelectorAll(\"script\")) { let newScript = document.createElement(\"script\"); newScript.type = oldScript.type; newScript.textContent = oldScript.textContent; oldScript.parentNode.replaceChild(newScript, oldScript); } })(); requestAnimationFrame(() => { observer.observe(destElt); }); } })(); </script><div id=\"compress_html_d75d32aa371d4acd9f2959a1597056bd\"><script>window.treescope_decompress_enqueue(\"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\", \"compress_html_d75d32aa371d4acd9f2959a1597056bd\");</script><span style=\"color: #aaaaaa; font-family: monospace\">(Loading...)</span></div></div>"
      ],
      "text/plain": [
       "<IPython.core.display.HTML object>"
      ]
     },
     "metadata": {},
     "output_type": "display_data"
    },
    {
     "data": {
      "text/html": [
       "<div id=\"output_dest_1224e8b4f5884825802f281a3444a2f8\"><script> (()=>{ const output = document.getElementById(\"output_1224e8b4f5884825802f281a3444a2f8\"); const dest = document.getElementById(\"output_dest_1224e8b4f5884825802f281a3444a2f8\"); dest.parentNode.replaceChild(output, dest); })(); </script></div>"
      ],
      "text/plain": [
       "<matplotlib.collections.PathCollection at 0x7f00821276b0>"
      ]
     },
     "execution_count": 42,
     "metadata": {},
     "output_type": "execute_result"
    },
    {
     "data": {
      "image/png": "[encoded data removed]",
      "text/plain": [
       "<Figure size 640x480 with 1 Axes>"
      ]
     },
     "metadata": {},
     "output_type": "display_data"
    }
   ],
   "source": [
    "from matplotlib import pyplot as plt\n",
    "plt.scatter(n_nodes_counts, ablated_metrics)"
   ]
  },
  {
   "cell_type": "code",
   "execution_count": 31,
   "metadata": {},
   "outputs": [
    {
     "ename": "NameError",
     "evalue": "name 'xy' is not defined",
     "output_type": "error",
     "traceback": [
      "\u001b[0;31m---------------------------------------------------------------------------\u001b[0m",
      "\u001b[0;31mNameError\u001b[0m                                 Traceback (most recent call last)",
      "Cell \u001b[0;32mIn[31], line 1\u001b[0m\n\u001b[0;32m----> 1\u001b[0m equality \u001b[38;5;241m=\u001b[39m (\u001b[43mxy\u001b[49m[:, \u001b[38;5;28;01mNone\u001b[39;00m, :] \u001b[38;5;241m<\u001b[39m xy[\u001b[38;5;28;01mNone\u001b[39;00m, :, :])\u001b[38;5;241m.\u001b[39mall(\u001b[38;5;241m-\u001b[39m\u001b[38;5;241m1\u001b[39m)\n\u001b[1;32m      2\u001b[0m (equality \u001b[38;5;241m==\u001b[39m equality\u001b[38;5;241m.\u001b[39mT)\u001b[38;5;241m.\u001b[39mall()\n",
      "\u001b[0;31mNameError\u001b[0m: name 'xy' is not defined"
     ]
    }
   ],
   "source": [
    "equality = (xy[:, None, :] < xy[None, :, :]).all(-1)\n",
    "(equality == equality.T).all()"
   ]
  },
  {
   "cell_type": "code",
   "execution_count": 43,
   "metadata": {},
   "outputs": [
    {
     "data": {
      "image/png": "[encoded data removed]",
      "text/plain": [
       "<Figure size 640x480 with 1 Axes>"
      ]
     },
     "metadata": {},
     "output_type": "display_data"
    }
   ],
   "source": [
    "rev = np.array([-1, 1])\n",
    "xy = np.stack((np.asarray(n_nodes_counts) / len(masks), ablated_metrics), axis=-1) * rev\n",
    "pareto_mask = ~(xy[:, None, :] < xy[None, :, :]).all(-1).any(axis=1)\n",
    "pareto = xy[pareto_mask]\n",
    "# plt.scatter(*(xy[~pareto_mask] * rev).T, c=\"grey\", s=1)\n",
    "plt.plot(*(pareto * rev).T)\n",
    "plt.show()\n"
   ]
  },
  {
   "cell_type": "code",
   "execution_count": 37,
   "metadata": {},
   "outputs": [
    {
     "data": {
      "application/vnd.jupyter.widget-view+json": {
       "model_id": "1ef086b430614f168af869a9f561fa91",
       "version_major": 2,
       "version_minor": 0
      },
      "text/plain": [
       "  0%|          | 0/11 [00:00<?, ?it/s]"
      ]
     },
     "metadata": {},
     "output_type": "display_data"
    }
   ],
   "source": [
    "combined_ies = {}\n",
    "typed_ies = {\n",
    "    \"r\": ie_resid,\n",
    "    \"a\": ie_attn,\n",
    "    \"t\": ie_transcoder,\n",
    "}\n",
    "\n",
    "for layer in tqdm(layers):\n",
    "    for type in typed_ies:\n",
    "        if layer in typed_ies[type]: \n",
    "            ies = typed_ies[type][layer]\n",
    "            for mask in masks:\n",
    "                ies_mask = mask_average(ies, mask)\n",
    "                w, i = jax.lax.top_k(ies_mask, 4)\n",
    "                for idx, weight in zip(i.tolist(), w.tolist()):\n",
    "                    combined_ies[(layer, mask, type, idx)] = weight"
   ]
  },
  {
   "cell_type": "code",
   "execution_count": 33,
   "metadata": {},
   "outputs": [
    {
     "data": {
      "application/vnd.jupyter.widget-view+json": {
       "model_id": "851b3c90a08642c3b5e046abfa68f22c",
       "version_major": 2,
       "version_minor": 0
      },
      "text/plain": [
       "  0%|          | 0/11 [00:00<?, ?it/s]"
      ]
     },
     "metadata": {},
     "output_type": "display_data"
    }
   ],
   "source": [
    "# typed_ies_error = {\n",
    "#     \"er\": ie_error_resid,\n",
    "#     \"ea\": ie_error_attn,\n",
    "#     \"et\": ie_error_transcoder,\n",
    "# }\n",
    "\n",
    "# for layer in tqdm(layers):\n",
    "#     for type in typed_ies_error:\n",
    "#         if layer in typed_ies_error[type]: \n",
    "#             ies = typed_ies_error[type][layer]\n",
    "#             for mask in masks:\n",
    "#                 ies_mask = mask_average(ies, mask)\n",
    "#                 # print(ies_mask.tolist())\n",
    "#                 # raise\n",
    "#                 combined_ies[(layer, mask, type, 0)] = ies_mask.tolist()"
   ]
  },
  {
   "cell_type": "code",
   "execution_count": 38,
   "metadata": {},
   "outputs": [],
   "source": [
    "combined_ies = [\n",
    "    key + (weight,)\n",
    "    for key, weight in combined_ies.items()\n",
    "]\n",
    "\n",
    "combined_ies = sorted(combined_ies, key=lambda x: -x[-1])"
   ]
  },
  {
   "cell_type": "code",
   "execution_count": 39,
   "metadata": {},
   "outputs": [
    {
     "data": {
      "text/html": [
       "<div id=\"output_2819a874159946b9849ba8daa5fe00fe\"><script> /* penzai.treescope rendering of a Python object (compressed) */ (()=>{ let observer; let lastStep = new Promise((resolve, reject) => { observer = new IntersectionObserver((entries) => { for (const entry of entries) { if (entry.isIntersecting) { resolve(); observer.disconnect(); return; } } }, {rootMargin: \"1000px\"}); }); window.treescope_decompress_enqueue = (encoded, destId) => { const previous = lastStep; const destElt = document.getElementById(destId); lastStep = (async () => { await previous; let blob = new Blob([ Uint8Array.from(atob(encoded), (m) => m.codePointAt(0)) ]); let reader = blob.stream().pipeThrough( new DecompressionStream(\"deflate\") ).pipeThrough( new TextDecoderStream(\"utf-8\") ).getReader(); let parts = []; while (true) { let step = await reader.read(); if (step.done) { break; } parts.push(step.value); } let newElt = document.createElement(\"div\"); newElt.innerHTML = parts.join(\"\"); destElt.parentNode.replaceChild(newElt, destElt); for (let oldScript of newElt.querySelectorAll(\"script\")) { let newScript = document.createElement(\"script\"); newScript.type = oldScript.type; newScript.textContent = oldScript.textContent; oldScript.parentNode.replaceChild(newScript, oldScript); } })(); requestAnimationFrame(() => { observer.observe(destElt); }); } })(); </script><div id=\"compress_html_0739eb06f78a49f39ea45383da792ea2\"><script>window.treescope_decompress_enqueue(\"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\", \"compress_html_0739eb06f78a49f39ea45383da792ea2\");</script><span style=\"color: #aaaaaa; font-family: monospace\">(Loading...)</span></div></div>"
      ],
      "text/plain": [
       "<IPython.core.display.HTML object>"
      ]
     },
     "metadata": {},
     "output_type": "display_data"
    },
    {
     "data": {
      "text/html": [
       "<div id=\"output_dest_2819a874159946b9849ba8daa5fe00fe\"><script> (()=>{ const output = document.getElementById(\"output_2819a874159946b9849ba8daa5fe00fe\"); const dest = document.getElementById(\"output_dest_2819a874159946b9849ba8daa5fe00fe\"); dest.parentNode.replaceChild(output, dest); })(); </script></div>"
      ],
      "text/plain": [
       "[(7, 'output', 'r', 23734, 0.008010292425751686),\n",
       " (14, 'arrow', 'r', 2092, 0.007372691296041012),\n",
       " (13, 'arrow', 'r', 12773, 0.007078766822814941),\n",
       " (13, 'arrow', 'r', 6382, 0.006770214531570673),\n",
       " (12, 'arrow', 'r', 9157, 0.006260314024984837),\n",
       " (14, 'arrow', 'r', 5257, 0.00577723141759634),\n",
       " (15, 'arrow', 'r', 23728, 0.005705373361706734),\n",
       " (13, 'arrow', 't', 10580, 0.005202464759349823),\n",
       " (16, 'arrow', 'r', 24991, 0.005169034935534),\n",
       " (9, 'output', 'r', 20228, 0.004866254050284624),\n",
       " (16, 'arrow', 'r', 25826, 0.0048441654071211815),\n",
       " (11, 'input', 'r', 10452, 0.004710233770310879),\n",
       " (16, 'arrow', 'r', 21347, 0.004602901171892881),\n",
       " (8, 'output', 'r', 12288, 0.00451873242855072),\n",
       " (15, 'arrow', 'r', 25945, 0.004475214518606663),\n",
       " (14, 'arrow', 'r', 28960, 0.004443729296326637),\n",
       " (8, 'output', 'r', 7158, 0.004408715292811394),\n",
       " (12, 'arrow', 't', 11844, 0.004279288463294506),\n",
       " (6, 'arrow', 'r', 21082, 0.00423671118915081),\n",
       " (16, 'arrow', 'r', 30063, 0.0041780597530305386),\n",
       " (12, 'arrow', 'r', 23723, 0.004129108507186174),\n",
       " (7, 'arrow', 'r', 411, 0.004020937252789736),\n",
       " (14, 'arrow', 'r', 29566, 0.003943555988371372),\n",
       " (12, 'arrow', 'r', 19580, 0.00392759358510375),\n",
       " (9, 'output', 'r', 10939, 0.003890575375407934),\n",
       " (10, 'input', 'r', 15700, 0.0038822132628411055),\n",
       " (7, 'output', 'r', 14559, 0.003809806425124407),\n",
       " (12, 'arrow', 'r', 1112, 0.003673429600894451),\n",
       " (10, 'output', 'r', 1461, 0.003671517362818122),\n",
       " (15, 'arrow', 't', 9772, 0.003599874908104539),\n",
       " (8, 'input', 'r', 22399, 0.0035788100212812424),\n",
       " (6, 'output', 'r', 1, 0.003462937194854021),\n",
       " (10, 'output', 'r', 4338, 0.003385821357369423),\n",
       " (11, 'arrow', 't', 7583, 0.0033759232610464096),\n",
       " (11, 'arrow', 'r', 16172, 0.0033757712226361036),\n",
       " (12, 'input', 'r', 17333, 0.0033730491995811462),\n",
       " (13, 'arrow', 'r', 26987, 0.0033594262786209583),\n",
       " (15, 'arrow', 'r', 14531, 0.003301963210105896),\n",
       " (13, 'input', 'r', 28996, 0.0032679191790521145),\n",
       " (9, 'arrow', 'r', 2758, 0.0032547791488468647),\n",
       " (11, 'arrow', 'a', 23594, 0.0032243398018181324),\n",
       " (8, 'output', 'r', 29028, 0.003190606366842985),\n",
       " (15, 'arrow', 'r', 13830, 0.003163859946653247),\n",
       " (11, 'arrow', 't', 30809, 0.0031234617345035076),\n",
       " (13, 'arrow', 'r', 6882, 0.0030430867336690426),\n",
       " (13, 'input', 'r', 8977, 0.002977123949676752),\n",
       " (11, 'arrow', 'r', 27698, 0.0029671844094991684),\n",
       " (7, 'newline', 'r', 411, 0.002891856711357832),\n",
       " (7, 'prompt', 'r', 22053, 0.0028890171088278294),\n",
       " (9, 'input', 'r', 10591, 0.0028662194963544607),\n",
       " (10, 'output', 'r', 23730, 0.002830169629305601),\n",
       " (11, 'output', 'r', 5642, 0.002749351318925619),\n",
       " (11, 'output', 'r', 27936, 0.0026911855675280094),\n",
       " (8, 'prompt', 't', 23850, 0.0026805053930729628),\n",
       " (6, 'output', 'r', 27331, 0.0026196546386927366),\n",
       " (11, 'output', 'r', 27840, 0.0025476657319813967),\n",
       " (12, 'arrow', 't', 7125, 0.0025157718919217587),\n",
       " (10, 'arrow', 'r', 8426, 0.0024939258582890034),\n",
       " (12, 'input', 'r', 16073, 0.0024436290841549635),\n",
       " (6, 'prompt', 'r', 9739, 0.0024419263936579227),\n",
       " (7, 'output', 'r', 411, 0.0023708490189164877),\n",
       " (6, 'prompt', 'r', 9525, 0.002335483208298683),\n",
       " (10, 'input', 'r', 29964, 0.002311856020241976),\n",
       " (11, 'arrow', 'r', 20013, 0.002265572315081954),\n",
       " (11, 'arrow', 'a', 30066, 0.002216913038864732),\n",
       " (11, 'output', 'r', 21543, 0.002214202657341957),\n",
       " (11, 'arrow', 't', 11868, 0.0021964104380458593),\n",
       " (8, 'arrow', 'r', 8442, 0.002185591496527195),\n",
       " (11, 'arrow', 'r', 28800, 0.002160316798835993),\n",
       " (7, 'arrow', 'r', 16810, 0.002141046104952693),\n",
       " (7, 'input', 'r', 10491, 0.002128812251612544),\n",
       " (14, 'arrow', 't', 15161, 0.002096876036375761),\n",
       " (13, 'output', 'r', 22551, 0.002079725731164217),\n",
       " (14, 'arrow', 't', 5556, 0.002044022548943758),\n",
       " (13, 'arrow', 'a', 4745, 0.0020192433148622513),\n",
       " (7, 'prompt', 'r', 20254, 0.0019902419298887253),\n",
       " (9, 'output', 'r', 15576, 0.0019804509356617928),\n",
       " (10, 'output', 'r', 28488, 0.0019658291712403297),\n",
       " (11, 'arrow', 'a', 20951, 0.0019267875468358397),\n",
       " (11, 'arrow', 'a', 24307, 0.0019093852024525404),\n",
       " (9, 'output', 'r', 16471, 0.0018501316662877798),\n",
       " (12, 'arrow', 't', 276, 0.0018423323053866625),\n",
       " (6, 'output', 'r', 2218, 0.0018406721064820886),\n",
       " (9, 'arrow', 'r', 19243, 0.001797202741727233),\n",
       " (11, 'input', 'r', 3349, 0.0017809426644816995),\n",
       " (10, 'arrow', 'r', 28488, 0.0017221014713868499),\n",
       " (14, 'input', 'r', 15254, 0.0017090768087655306),\n",
       " (8, 'output', 'r', 2954, 0.0016841809265315533),\n",
       " (10, 'arrow', 'r', 1481, 0.0016703015426173806),\n",
       " (14, 'input', 'r', 25723, 0.0016429572133347392),\n",
       " (13, 'output', 'r', 14204, 0.001580327283591032),\n",
       " (7, 'input', 'r', 13274, 0.0015789413591846824),\n",
       " (14, 'arrow', 'a', 18996, 0.0015342923579737544),\n",
       " (9, 'prompt', 'r', 29188, 0.0015253284946084023),\n",
       " (9, 'input', 'r', 1316, 0.0014910901663824916),\n",
       " (13, 'arrow', 'a', 5151, 0.0014766533859074116),\n",
       " (6, 'output', 'a', 14238, 0.001476283185184002),\n",
       " (16, 'arrow', 'a', 26950, 0.0014449130976572633),\n",
       " (8, 'output', 't', 32671, 0.001436449820175767),\n",
       " (8, 'input', 'r', 1374, 0.0014348169788718224),\n",
       " (6, 'input', 'r', 25842, 0.0013945738319307566),\n",
       " (15, 'arrow', 't', 2747, 0.001383784576319158),\n",
       " (8, 'input', 'r', 10173, 0.0013551914598792791),\n",
       " (6, 'input', 'r', 15341, 0.0013534774770960212),\n",
       " (8, 'prompt', 'r', 8943, 0.001348828081972897),\n",
       " (8, 'input', 'r', 22981, 0.0013432352570816875),\n",
       " (10, 'arrow', 'r', 18488, 0.0013388138031587005),\n",
       " (6, 'output', 't', 5686, 0.0013322093291208148),\n",
       " (6, 'arrow', 't', 5686, 0.0013270587660372257),\n",
       " (7, 'output', 'r', 12527, 0.0013132018502801657),\n",
       " (8, 'arrow', 'r', 6238, 0.001292408793233335),\n",
       " (7, 'prompt', 'r', 30619, 0.001289302483201027),\n",
       " (8, 'prompt', 'r', 1830, 0.0012588895624503493),\n",
       " (13, 'output', 'r', 24856, 0.0012486507184803486),\n",
       " (9, 'arrow', 'r', 16780, 0.001216167933307588),\n",
       " (13, 'arrow', 't', 7730, 0.0011932749766856432),\n",
       " (10, 'output', 't', 26517, 0.0011798347113654017),\n",
       " (9, 'input', 'r', 7809, 0.0011752620339393616),\n",
       " (9, 'prompt', 'r', 30386, 0.0011653924593701959),\n",
       " (12, 'input', 'r', 22708, 0.001163422130048275),\n",
       " (6, 'newline', 't', 24290, 0.001161671127192676),\n",
       " (12, 'output', 'r', 18484, 0.001144100446254015),\n",
       " (11, 'newline', 'r', 19694, 0.0011422280222177505),\n",
       " (6, 'prompt', 'r', 14620, 0.0011374431196600199),\n",
       " (10, 'input', 'r', 7885, 0.0011176308616995811),\n",
       " (11, 'input', 'r', 27698, 0.0011067395098507404),\n",
       " (7, 'prompt', 'r', 2797, 0.0011032423935830593),\n",
       " (10, 'input', 'r', 8749, 0.001101244823075831),\n",
       " (11, 'input', 'r', 7928, 0.0010867465753108263),\n",
       " (8, 'output', 't', 25403, 0.0010807039216160774),\n",
       " (9, 'prompt', 'r', 11840, 0.0010728962952271104),\n",
       " (11, 'arrow', 't', 18894, 0.0010664286091923714),\n",
       " (12, 'output', 't', 10504, 0.0010634309146553278),\n",
       " (13, 'input', 'r', 14204, 0.0010443786159157753),\n",
       " (8, 'prompt', 'r', 15122, 0.001032971078529954),\n",
       " (9, 'arrow', 'r', 5153, 0.0010288653429597616),\n",
       " (11, 'newline', 'r', 11364, 0.0010273283114656806),\n",
       " (14, 'arrow', 't', 10885, 0.0009985800134018064),\n",
       " (9, 'prompt', 'r', 11276, 0.0009876497788354754),\n",
       " (8, 'prompt', 'r', 9255, 0.000983608653768897),\n",
       " (9, 'input', 'r', 14178, 0.000971535686403513),\n",
       " (10, 'output', 't', 4327, 0.000956673757173121),\n",
       " (12, 'output', 'r', 22708, 0.0009541363106109202),\n",
       " (7, 'input', 'r', 9383, 0.0009484711918048561),\n",
       " (6, 'input', 'r', 9670, 0.0009329866152256727),\n",
       " (12, 'input', 'r', 10627, 0.0009074038243852556),\n",
       " (13, 'prompt', 't', 31184, 0.0009019160643219948),\n",
       " (13, 'output', 'r', 6382, 0.0008778311894275248),\n",
       " (8, 'arrow', 'r', 6771, 0.0008777339244261384),\n",
       " (6, 'newline', 'r', 27329, 0.0008707533124834299),\n",
       " (13, 'arrow', 'a', 26619, 0.0008595142280682921),\n",
       " (11, 'newline', 'r', 3925, 0.0008396178018301725),\n",
       " (9, 'prompt', 't', 6528, 0.0008170068031176925),\n",
       " (6, 'output', 'r', 15315, 0.0008108460460789502),\n",
       " (8, 'arrow', 'r', 9721, 0.0008089917246252298),\n",
       " (10, 'prompt', 'r', 11898, 0.0008072102209553123),\n",
       " (13, 'arrow', 'a', 15548, 0.0008028123411349952),\n",
       " (6, 'arrow', 'r', 2998, 0.0008004073170013726),\n",
       " (12, 'output', 'r', 507, 0.000789350364357233),\n",
       " (8, 'newline', 'r', 1161, 0.0007865127990953624),\n",
       " (16, 'newline', 'r', 1925, 0.0007745425682514906),\n",
       " (7, 'arrow', 'r', 25027, 0.0007736977422609925),\n",
       " (14, 'arrow', 'a', 12628, 0.0007651441846974194),\n",
       " (14, 'output', 'r', 5638, 0.0007458786712959409),\n",
       " (7, 'output', 't', 20522, 0.0007390150567516685),\n",
       " (11, 'newline', 'r', 17046, 0.0007316855480894446),\n",
       " (6, 'prompt', 't', 5642, 0.0007240602280944586),\n",
       " (6, 'newline', 'r', 2002, 0.0007175725768320262),\n",
       " (6, 'input', 'r', 12594, 0.0007166773430071771),\n",
       " (14, 'arrow', 'a', 13555, 0.0007161159883253276),\n",
       " (15, 'input', 'r', 23377, 0.0007141121895983815),\n",
       " (8, 'newline', 't', 11204, 0.0007113890023902059),\n",
       " (14, 'arrow', 't', 23685, 0.0007078606286086142),\n",
       " (12, 'output', 'r', 21048, 0.0006971957627683878),\n",
       " (15, 'input', 'r', 11452, 0.0006897017592564225),\n",
       " (13, 'arrow', 't', 13414, 0.0006872353260405362),\n",
       " (16, 'input', 'r', 1925, 0.0006857202388346195),\n",
       " (12, 'input', 't', 10504, 0.0006840474670752883),\n",
       " (9, 'output', 't', 10084, 0.0006792133790440857),\n",
       " (12, 'input', 't', 24609, 0.000678334734402597),\n",
       " (6, 'arrow', 'r', 2002, 0.0006753432098776102),\n",
       " (12, 'arrow', 't', 20000, 0.0006707240827381611),\n",
       " (13, 'arrow', 't', 6693, 0.0006652356823906302),\n",
       " (7, 'arrow', 'r', 13617, 0.0006624123197980225),\n",
       " (10, 'arrow', 't', 17854, 0.0006528556696139276),\n",
       " (7, 'input', 'r', 3149, 0.0006508898222818971),\n",
       " (9, 'output', 't', 16585, 0.0006345885340124369),\n",
       " (14, 'arrow', 'a', 21942, 0.0006262105889618397),\n",
       " (15, 'arrow', 't', 879, 0.0006194207235239446),\n",
       " (13, 'input', 'r', 25586, 0.0006141722551546991),\n",
       " (10, 'prompt', 'r', 26908, 0.0006118936580605805),\n",
       " (12, 'newline', 'r', 24346, 0.0006115836440585554),\n",
       " (11, 'output', 't', 7210, 0.000604284112341702),\n",
       " (15, 'arrow', 't', 29885, 0.0005918080569244921),\n",
       " (8, 'prompt', 't', 28135, 0.000590675394050777),\n",
       " (11, 'prompt', 'r', 32297, 0.0005871980101801455),\n",
       " (10, 'arrow', 'a', 26747, 0.0005863685510121286),\n",
       " (6, 'arrow', 'a', 833, 0.0005641122697852552),\n",
       " (9, 'newline', 'r', 13249, 0.0005640270537696779),\n",
       " (9, 'arrow', 't', 22869, 0.0005594965768978),\n",
       " (6, 'input', 'a', 32736, 0.0005591114750131965),\n",
       " (6, 'newline', 't', 27517, 0.0005581883015111089),\n",
       " (8, 'arrow', 't', 11935, 0.0005431026802398264),\n",
       " (9, 'arrow', 't', 25367, 0.0005381708033382893),\n",
       " (11, 'input', 'a', 25963, 0.0005362530355341733),\n",
       " (10, 'newline', 'r', 17981, 0.0005359638598747551),\n",
       " (6, 'arrow', 'r', 21614, 0.0005353027372621),\n",
       " (13, 'input', 't', 1120, 0.000530680816154927),\n",
       " (13, 'newline', 'r', 10574, 0.0005180702428333461),\n",
       " (10, 'arrow', 't', 20620, 0.0005174949765205383),\n",
       " (7, 'input', 't', 23808, 0.0004903158405795693),\n",
       " (10, 'output', 't', 5379, 0.0004875701561104506),\n",
       " (14, 'input', 'r', 28490, 0.00047782520414330065),\n",
       " (12, 'prompt', 't', 21871, 0.0004765686171595007),\n",
       " (7, 'arrow', 't', 23808, 0.0004600228858180344),\n",
       " (6, 'prompt', 'a', 30905, 0.000459778995718807),\n",
       " (6, 'newline', 'r', 14557, 0.000456018780823797),\n",
       " (7, 'arrow', 'a', 928, 0.00045201185275800526),\n",
       " (6, 'arrow', 'a', 10457, 0.0004470827989280224),\n",
       " (16, 'arrow', 'a', 25539, 0.00043593195732682943),\n",
       " (10, 'prompt', 'r', 27225, 0.00043562977225519717),\n",
       " (14, 'input', 'r', 18429, 0.0004330238443799317),\n",
       " (7, 'newline', 'r', 24801, 0.0004304988542571664),\n",
       " (14, 'output', 'r', 26200, 0.00042757095070555806),\n",
       " (10, 'newline', 'r', 28488, 0.00042167206993326545),\n",
       " (15, 'input', 'r', 30790, 0.00041905054240487516),\n",
       " (10, 'prompt', 'r', 29211, 0.0004134960472583771),\n",
       " (11, 'input', 't', 26712, 0.00041315366979688406),\n",
       " (8, 'arrow', 'a', 1102, 0.00040849059587344527),\n",
       " (9, 'arrow', 'a', 30422, 0.0004067915433552116),\n",
       " (12, 'input', 't', 10960, 0.0004063823726028204),\n",
       " (9, 'newline', 'r', 2758, 0.00040327661554329097),\n",
       " (6, 'prompt', 'r', 13342, 0.00039773213211447),\n",
       " (6, 'input', 't', 5686, 0.00039503962034359574),\n",
       " (13, 'newline', 'r', 7369, 0.00039480498526245356),\n",
       " (6, 'input', 't', 19588, 0.0003903095202986151),\n",
       " (16, 'input', 'r', 471, 0.0003897483111359179),\n",
       " (10, 'output', 'a', 26747, 0.000381357385776937),\n",
       " (8, 'newline', 'r', 6771, 0.0003740964748430997),\n",
       " (14, 'output', 'r', 21583, 0.00037349379272200167),\n",
       " (11, 'output', 't', 7189, 0.00037160018109716475),\n",
       " (8, 'arrow', 'a', 14517, 0.0003682830720208585),\n",
       " (8, 'prompt', 't', 6324, 0.00036737238406203687),\n",
       " (8, 'output', 't', 19441, 0.0003669857687782496),\n",
       " (7, 'output', 't', 17319, 0.0003666674019768834),\n",
       " (10, 'arrow', 'a', 7283, 0.0003632424050010741),\n",
       " (12, 'input', 't', 30176, 0.00036121034645475447),\n",
       " (13, 'newline', 'r', 29814, 0.00035972733167000115),\n",
       " (6, 'prompt', 't', 23654, 0.0003567721287254244),\n",
       " (8, 'prompt', 't', 24575, 0.00035360612673684955),\n",
       " (6, 'newline', 'r', 28783, 0.00035325391218066216),\n",
       " (8, 'newline', 'r', 23913, 0.00035153512726537883),\n",
       " (16, 'input', 'r', 12554, 0.0003498794976621866),\n",
       " (9, 'arrow', 't', 3868, 0.0003495239943731576),\n",
       " (11, 'prompt', 'r', 6685, 0.00034880510065704584),\n",
       " (12, 'newline', 'r', 13077, 0.0003476952842902392),\n",
       " (7, 'prompt', 't', 19277, 0.00034483583294786513),\n",
       " (10, 'arrow', 'a', 13548, 0.0003419267013669014),\n",
       " (7, 'prompt', 't', 4385, 0.0003402287547942251),\n",
       " (8, 'newline', 'r', 31633, 0.00033994182012975216),\n",
       " (10, 'newline', 'r', 1481, 0.00033867417369037867),\n",
       " (10, 'arrow', 't', 32501, 0.00033464308944530785),\n",
       " (12, 'newline', 'r', 23154, 0.00033053106744773686),\n",
       " (8, 'input', 't', 25403, 0.00032649844069965184),\n",
       " (6, 'prompt', 't', 21638, 0.000324586289934814),\n",
       " (6, 'arrow', 't', 16479, 0.0003238067147321999),\n",
       " (9, 'arrow', 't', 28524, 0.00032080092933028936),\n",
       " (10, 'output', 'a', 7283, 0.0003204943204764277),\n",
       " (10, 'newline', 'r', 6402, 0.0003183342341799289),\n",
       " (6, 'arrow', 'a', 5869, 0.00031072337878867984),\n",
       " (6, 'arrow', 't', 30906, 0.0003097670851275325),\n",
       " (11, 'prompt', 'r', 14488, 0.0003091593680437654),\n",
       " (11, 'output', 't', 30467, 0.00030611298279836774),\n",
       " (6, 'output', 't', 9254, 0.00030265646637417376),\n",
       " (7, 'prompt', 'a', 17961, 0.00030157447326928377),\n",
       " (15, 'input', 'r', 23247, 0.0002988649648614228),\n",
       " (9, 'output', 't', 6157, 0.0002968449844047427),\n",
       " (14, 'output', 'r', 20503, 0.00029521272517740726),\n",
       " (10, 'output', 't', 21885, 0.0002951650239992887),\n",
       " (9, 'output', 't', 27631, 0.00029359760810621083),\n",
       " (8, 'output', 't', 7795, 0.00029297295259311795),\n",
       " (7, 'prompt', 't', 2991, 0.0002927535679191351),\n",
       " (12, 'arrow', 'a', 5686, 0.0002924049913417548),\n",
       " (11, 'input', 't', 18278, 0.0002846590941771865),\n",
       " (16, 'input', 'r', 1913, 0.000282507884548977),\n",
       " (7, 'newline', 't', 17319, 0.0002818724315147847),\n",
       " (13, 'newline', 'r', 26741, 0.0002811563899740577),\n",
       " (7, 'output', 't', 25059, 0.000280276988632977),\n",
       " (11, 'output', 'a', 3528, 0.0002793257881421596),\n",
       " (16, 'output', 'r', 29777, 0.0002791134756989777),\n",
       " (8, 'input', 'a', 1102, 0.0002782632946036756),\n",
       " (10, 'arrow', 't', 4017, 0.0002779850328806788),\n",
       " (10, 'input', 't', 8167, 0.00027361168758943677),\n",
       " (6, 'prompt', 't', 28985, 0.00027303153183311224),\n",
       " (11, 'prompt', 'r', 9717, 0.00027049880009144545),\n",
       " (7, 'input', 't', 27647, 0.00026905309641733766),\n",
       " (7, 'arrow', 't', 18036, 0.00026580970734357834),\n",
       " (10, 'newline', 't', 18775, 0.00026560277910903096),\n",
       " (10, 'output', 'a', 24356, 0.000265333685092628),\n",
       " (11, 'input', 't', 30467, 0.0002630705130286515)]"
      ]
     },
     "execution_count": 39,
     "metadata": {},
     "output_type": "execute_result"
    }
   ],
   "source": [
    "combined_ies[:300]"
   ]
  },
  {
   "cell_type": "code",
   "execution_count": 43,
   "metadata": {},
   "outputs": [],
   "source": [
    "with open(\"node_ies_short.json\", \"w\") as f:\n",
    "    import json\n",
    "    json.dump(combined_ies, f)"
   ]
  },
  {
   "cell_type": "code",
   "execution_count": 23,
   "metadata": {},
   "outputs": [],
   "source": [
    "# def attn_call(layer, resid_pre):\n",
    "#     subblock = llama.select().at_instances_of(LlamaBlock).pick_nth_selected(layer).at_instances_of(pz.nn.Residual).pick_nth_selected(0).get().delta\n",
    "#     subblock = subblock.select().at_instances_of(LlamaAttention).get()\n",
    "\n",
    "#     si_selection = subblock.select().at_instances_of(pz.de.HandledSideInputRef)\n",
    "#     keys = sorted(set([ref.tag for ref in si_selection.get_sequence()]))\n",
    "#     replaced = si_selection.apply(lambda ref: pz.de.SideInputRequest(tag=ref.tag))\n",
    "#     subblock = pz.de.WithSideInputsFromInputTuple.handling(replaced, keys)\n",
    "\n",
    "#     side_inputs = {\n",
    "#         'positions': llama_inputs.positions,\n",
    "#         'attn_mask': llama_inputs.attention_mask\n",
    "#     }\n",
    "    \n",
    "#     resid_pre = resid_pre / \n",
    "\n",
    "#     resid_pre = pz.nx.wrap(resid_pre, \"batch\", \"seq\", \"embedding\")\n",
    "#     attn_out = subblock((resid_pre,) + tuple(side_inputs[tag] for tag in subblock.side_input_tags))\n",
    "\n",
    "#     attn_out = attn_out.unwrap(\"batch\", \"seq\", \"embedding\") \n",
    "\n",
    "#     return attn_out.astype(resid.dtype)\n",
    "\n",
    "# attn_call(6, resids_pre[6])"
   ]
  },
  {
   "cell_type": "code",
   "execution_count": 25,
   "metadata": {},
   "outputs": [],
   "source": []
  },
  {
   "cell_type": "code",
   "execution_count": 26,
   "metadata": {},
   "outputs": [],
   "source": [
    "def transcoder_feature_to_mid(layer, feature_idx, mask):\n",
    "    sae = get_nev_it_sae_suite(layer=layer, label=\"transcoder\")\n",
    "    resid = resids_mid[layer]\n",
    "\n",
    "    def f(resid):\n",
    "        resid = mlp_normalize(layer, resid)\n",
    "        batch_token_feat = resids_to_weights(resid, sae)[:, :, feature_idx] * sae_grads_transcoder[layer][:, :, feature_idx]\n",
    "        token_act = mask_average(batch_token_feat, mask)\n",
    "        return token_act\n",
    "\n",
    "    return jax.grad(f)(resid)"
   ]
  },
  {
   "cell_type": "code",
   "execution_count": 27,
   "metadata": {},
   "outputs": [],
   "source": [
    "def transcoder_error_to_mid(layer, mask):\n",
    "    sae = get_nev_it_sae_suite(layer=layer, label=\"transcoder\")\n",
    "    resid_next = resids_pre[layer + 1]\n",
    "    resid = resids_mid[layer]\n",
    "\n",
    "    grad = grad_pre[layer + 1]\n",
    "\n",
    "    def f(resid):\n",
    "        _, _, recon = sae_encode_gated(sae, resid)\n",
    "        err_by_grad = jnp.einsum(\"...f, ...f -> ...\", (resid_next - recon), grad)\n",
    "        return mask_average(err_by_grad, mask)\n",
    "\n",
    "    return jax.grad(f)(resid)"
   ]
  },
  {
   "cell_type": "code",
   "execution_count": 28,
   "metadata": {},
   "outputs": [],
   "source": [
    "def attn_out_feature_to_pre(layer, feature_idx, mask):\n",
    "    sae = get_nev_it_sae_suite(layer=layer, label=\"attn_out\")\n",
    "\n",
    "    resid = resids_pre[layer]\n",
    "\n",
    "    subblock = llama.select().at_instances_of(LlamaBlock).pick_nth_selected(layer).at_instances_of(pz.nn.Residual).pick_nth_selected(0).get().delta\n",
    "\n",
    "    si_selection = subblock.select().at_instances_of(pz.de.HandledSideInputRef)\n",
    "    keys = sorted(set([ref.tag for ref in si_selection.get_sequence()]))\n",
    "    replaced = si_selection.apply(lambda ref: pz.de.SideInputRequest(tag=ref.tag))\n",
    "    subblock = pz.de.WithSideInputsFromInputTuple.handling(replaced, keys)\n",
    "\n",
    "    side_inputs = {\n",
    "        'positions': llama_inputs.positions,\n",
    "        'attn_mask': llama_inputs.attention_mask\n",
    "    }\n",
    "\n",
    "    def f(resid):\n",
    "        resid = pz.nx.wrap(resid, \"batch\", \"seq\", \"embedding\")\n",
    "        attn_out = subblock((resid,) + tuple(side_inputs[tag] for tag in subblock.side_input_tags))\n",
    "\n",
    "        attn_out = attn_out.unwrap(\"batch\", \"seq\", \"embedding\") \n",
    "\n",
    "        batch_token_feat = resids_to_weights(attn_out, sae)[:, :, feature_idx] * sae_grads_attn[layer][:, :, feature_idx]\n",
    "        token_act = mask_average(batch_token_feat, mask)\n",
    "        return token_act\n",
    "\n",
    "    return jax.grad(f)(resid)\n",
    "\n",
    "def attn_out_error_to_pre(layer, mask):\n",
    "    sae = get_nev_it_sae_suite(layer=layer, label=\"attn_out\")\n",
    "\n",
    "    resid = resids_pre[layer]\n",
    "\n",
    "    subblock = llama.select().at_instances_of(LlamaBlock).pick_nth_selected(layer).at_instances_of(pz.nn.Residual).pick_nth_selected(0).get().delta\n",
    "\n",
    "    si_selection = subblock.select().at_instances_of(pz.de.HandledSideInputRef)\n",
    "    keys = sorted(set([ref.tag for ref in si_selection.get_sequence()]))\n",
    "    replaced = si_selection.apply(lambda ref: pz.de.SideInputRequest(tag=ref.tag))\n",
    "    subblock = pz.de.WithSideInputsFromInputTuple.handling(replaced, keys)\n",
    "\n",
    "    side_inputs = {\n",
    "        'positions': llama_inputs.positions,\n",
    "        'attn_mask': llama_inputs.attention_mask\n",
    "    }\n",
    "\n",
    "    def f(resid):\n",
    "        resid = pz.nx.wrap(resid, \"batch\", \"seq\", \"embedding\")\n",
    "        attn_out = subblock((resid,) + tuple(side_inputs[tag] for tag in subblock.side_input_tags))\n",
    "\n",
    "        attn_out = attn_out.unwrap(\"batch\", \"seq\", \"embedding\") \n",
    "\n",
    "        _, _, recon = sae_encode_gated(sae, attn_out)\n",
    "        batch_token_feat = jnp.einsum(\"...f, ...f -> ...\", attn_out - recon, grad_mid[layer])\n",
    "        token_act = mask_average(batch_token_feat, mask)\n",
    "        return token_act\n",
    "\n",
    "    return jax.grad(f)(resid)\n",
    "# float(jnp.linalg.norm(attn_out_error_to_pre(6, \"arrow\")))"
   ]
  },
  {
   "cell_type": "code",
   "execution_count": 29,
   "metadata": {},
   "outputs": [],
   "source": [
    "def pre_feature_to_pre(layer, feature_idx, mask):\n",
    "    sae = get_nev_it_sae_suite(layer=layer)\n",
    "    resid = resids_pre[layer]\n",
    "\n",
    "    def f(resid):\n",
    "        batch_token_feat = resids_to_weights(resid, sae)[:, :, feature_idx] * sae_grads_resid[layer][:, :, feature_idx]\n",
    "        token_act = mask_average(batch_token_feat, mask)\n",
    "        return token_act\n",
    "\n",
    "    return jax.grad(f)(resid)\n",
    "\n",
    "def pre_error_to_pre(layer, mask):\n",
    "    sae = get_nev_it_sae_suite(layer=layer)\n",
    "    resid = resids_pre[layer]\n",
    "\n",
    "    def f(resid):\n",
    "        _, _, recon = sae_encode_gated(sae, resid)\n",
    "        batch_token_error = jnp.einsum(\"...f, ...f -> ...\", (resid - recon), grad_pre[layer])\n",
    "        token_grad = mask_average(batch_token_error, mask)\n",
    "        return token_grad\n",
    "\n",
    "    return jax.grad(f)(resid)\n"
   ]
  },
  {
   "cell_type": "code",
   "execution_count": 30,
   "metadata": {},
   "outputs": [],
   "source": [
    "def ie_pre_to_transcoder_features(layer, grad, mask):\n",
    "    sae = get_nev_it_sae_suite(layer=layer, label=\"transcoder\")\n",
    "    resid_mid = resids_mid[layer]\n",
    "    resid_mid = mlp_normalize(layer, resid_mid)\n",
    "    ie = sfc_simple(grad, resid_mid, resid_mid, sae)[0]\n",
    "    ie = mask_average(ie, mask)\n",
    "\n",
    "    return ie\n",
    "\n",
    "def ie_pre_to_transcoder_error(layer, grad, mask):\n",
    "    sae = get_nev_it_sae_suite(layer=layer, label=\"transcoder\")\n",
    "    resid_next = resids_pre[layer + 1]\n",
    "    resid_mid = resids_mid[layer]\n",
    "    ie = sfc_simple(grad, mlp_normalize(layer, resid_mid), resid_next - resid_mid, sae)[1]\n",
    "    ie = mask_average(ie, mask)\n",
    "\n",
    "    return ie"
   ]
  },
  {
   "cell_type": "code",
   "execution_count": 31,
   "metadata": {},
   "outputs": [],
   "source": [
    "def ie_mid_to_attn_features(layer, grad, mask):\n",
    "    sae = get_nev_it_sae_suite(layer=layer, label=\"attn_out\")\n",
    "    resid_mid = resids_mid[layer]\n",
    "    resid_pre = resids_pre[layer]\n",
    "\n",
    "    ie = sfc_simple(grad, resid_mid - resid_pre, resid_mid - resid_pre, sae)[0]\n",
    "    ie = mask_average(ie, mask)\n",
    "    return ie\n",
    "\n",
    "def ie_mid_to_attn_error(layer, grad, mask):\n",
    "    sae = get_nev_it_sae_suite(layer=layer, label=\"attn_out\")\n",
    "    resid_mid = resids_mid[layer]\n",
    "    resid_pre = resids_pre[layer]\n",
    "\n",
    "    ie = sfc_simple(grad, resid_mid - resid_pre, resid_mid - resid_pre, sae)[1]\n",
    "    ie = mask_average(ie, mask)\n",
    "    return ie"
   ]
  },
  {
   "cell_type": "code",
   "execution_count": 32,
   "metadata": {},
   "outputs": [],
   "source": [
    "def ie_pre_to_pre_features(layer, grad, mask):\n",
    "    sae = get_nev_it_sae_suite(layer=layer)\n",
    "    resid = resids_pre[layer]\n",
    "    ie = sfc_simple(grad, resid, resid, sae)[0]\n",
    "    ie = mask_average(ie, mask)\n",
    "    return ie\n",
    "\n",
    "def ie_pre_to_pre_error(layer, grad, mask):\n",
    "    sae = get_nev_it_sae_suite(layer=layer)\n",
    "    resid = resids_pre[layer]\n",
    "    ie = sfc_simple(grad, resid, resid, sae)[1]\n",
    "    ie = mask_average(ie, mask)\n",
    "    return ie\n",
    "# float((ie_pre_to_pre_features(6, grad_pre[6], \"arrow\") - mask_average(ie_error_resid[6], \"arrow\")).sum())"
   ]
  },
  {
   "cell_type": "code",
   "execution_count": 33,
   "metadata": {},
   "outputs": [
    {
     "data": {
      "text/html": [
       "<div id=\"output_08f23bc9f57840828841b99eb4871b73\"><script> /* penzai.treescope rendering of a Python object (compressed) */ (()=>{ let observer; let lastStep = new Promise((resolve, reject) => { observer = new IntersectionObserver((entries) => { for (const entry of entries) { if (entry.isIntersecting) { resolve(); observer.disconnect(); return; } } }, {rootMargin: \"1000px\"}); }); window.treescope_decompress_enqueue = (encoded, destId) => { const previous = lastStep; const destElt = document.getElementById(destId); lastStep = (async () => { await previous; let blob = new Blob([ Uint8Array.from(atob(encoded), (m) => m.codePointAt(0)) ]); let reader = blob.stream().pipeThrough( new DecompressionStream(\"deflate\") ).pipeThrough( new TextDecoderStream(\"utf-8\") ).getReader(); let parts = []; while (true) { let step = await reader.read(); if (step.done) { break; } parts.push(step.value); } let newElt = document.createElement(\"div\"); newElt.innerHTML = parts.join(\"\"); destElt.parentNode.replaceChild(newElt, destElt); for (let oldScript of newElt.querySelectorAll(\"script\")) { let newScript = document.createElement(\"script\"); newScript.type = oldScript.type; newScript.textContent = oldScript.textContent; oldScript.parentNode.replaceChild(newScript, oldScript); } })(); requestAnimationFrame(() => { observer.observe(destElt); }); } })(); </script><div id=\"compress_html_6037f8415752403fb82b4a65f8645e7b\"><script>window.treescope_decompress_enqueue(\"eNrFV1tv2zYU/iunGpDKQaw4ztyskm0g6DrsodhLB+xhGwRKOrK40KRGUkm8wv99h5R8l9sMK7YYgczDc/nOXZ4auxI4j6xGNLmqMdVKWfgEtTLcciVj0CiY5Y+YQKmkHZZsycUqhqWSytQsJ/pTxS0O/SGGWhNFcGOHXvXQrmqiSiWJnLH8YaFVI4throTScSuaQHfKBDGQPl7YKoaSW2KTFqVNYMn0gsuhwNLGMM4rZ0PisEK+qIhyE00SWE+vW3emJte8tnPgJYRPXBbqaechzGYzIAhYkoJiQL6ecsCndXJCjtIaZcHl4j53kTHE9uvvX2T7kclCOJWyEaKHe4E2PYr+DMJN0FOrBjCbE8jrS/ig1AMlQYOtEDynVAVGcHkNAi10snuiPjVkPGzvXs2gUHmzpIBGmSpWcHEBr9xNlAtmzAdKWuQCzrg0YXAIKhiAC9XGhhOqmSZN7wUufYbWZNk2WvpLOvb4qhv5USnpHHxS+qHzjEwaS8h+IZK7OiBbnjtijZocXzKZYyTVUzjYunZyA8NWaAq3Ywe5rwaOUxkJlAtbUWnAqK8iPp/T1m8XARQGd9CrRjrsXzRuKl5a55KXcF/W9HkphnDDqfHPBo29l3zJHMcPmi0xbOM6GPRn5BhK3ZiqzU3yksBtQMzaUPyT0L0cdi9wlCTV4PdYotZY/IzLmsoezWkB1cIRt4VPYnr1EQXmVul7IajQO9n9IdjI1FClBoPEN1zo+os0gSq9QucoPff6RuNSPeJB1+zpONcJ4Qar019q9Re65vCa28F3CDcM2sHmVDoJOu27lmskN7qG3Oelb5Gbw8TcGvGnjo7P9l1rbO96R0w8nLbXf3LjRiNFK8d31H5FSBquHIPL09lcWbVYiHaMpH76WwLmpxxRUNgrwEfS3oXClZ0/Rw+4ch0Z6GAzeoh5L+at3jDY6kyXBDDY4FgD7YN2EUwL/ghecHY818CyjADj8ywYBaAkGSX0co+vH39oK242yANaOe0iLbqCTH2QKiUK1L4W/YL7ht25T7dKvUgM3DLBc8IblcTOMjLl5vqZJbyGQ7a0RUfcBTdkdLVZtseMMAfBMhRxnCHVNO6hyv1f0muv3bjDG7dyu8U8Sna2uPR7OBPKbe6zNitqDn1quWD6wSBbUKjlqXQslQ2PSBUz4dzrnPfGwcvEeYX5Ay33AVwOdhicaL/Qhv8AoS//GF7/Np5k+ev/E96h0FmQb/4DkC6PznCjjUtgrTgh0D12ufl6Zn0reEND32/mXI1/Has799wcPLUScZOWXBubKpm68u9prc+1UjSeuG7qTRX8a/htxo8hOq8O3qF9Q++9MddMAi9mwXaA5ZPxZJKNcTK6efvt28noLf3f3lArjO5GkzybBJ1QN1YP+/7YPDG3Tky5rBvapbR/ZoGHnannoFdJ5yFdtt7Np9demJ6drn37fYM3mF8Im/zBnqN7rdkKSqGYvR2Ht+O7N99dDSCKIrhY2ISiQJrmxw9aGtufEi9+AQkH263zN3z4wUw=\", \"compress_html_6037f8415752403fb82b4a65f8645e7b\");</script><span style=\"color: #aaaaaa; font-family: monospace\">(Loading...)</span></div></div>"
      ],
      "text/plain": [
       "<IPython.core.display.HTML object>"
      ]
     },
     "metadata": {},
     "output_type": "display_data"
    },
    {
     "data": {
      "text/html": [
       "<div id=\"compress_html_55cc046654bd4e38b6f8e27874a89e82\"><script>window.treescope_decompress_enqueue(\"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\", \"compress_html_55cc046654bd4e38b6f8e27874a89e82\");</script></div>"
      ],
      "text/plain": [
       "<IPython.core.display.HTML object>"
      ]
     },
     "metadata": {},
     "output_type": "display_data"
    },
    {
     "data": {
      "text/html": [
       "<div id=\"output_dest_08f23bc9f57840828841b99eb4871b73\"><script> (()=>{ const output = document.getElementById(\"output_08f23bc9f57840828841b99eb4871b73\"); const dest = document.getElementById(\"output_dest_08f23bc9f57840828841b99eb4871b73\"); dest.parentNode.replaceChild(output, dest); })(); </script></div>"
      ],
      "text/plain": [
       "# jax.Array float32(32768,) ≈-1.3e-08 ±2.6e-05 [≥-0.0023, ≤0.0023] zero:32_682 nonzero:86\n",
       "  Array([0., 0., 0., ..., 0., 0., 0.], dtype=float32)\n"
      ]
     },
     "execution_count": 33,
     "metadata": {},
     "output_type": "execute_result"
    }
   ],
   "source": [
    "ie_pre_to_pre_features(6, grad_pre[6], \"prompt\")"
   ]
  },
  {
   "cell_type": "code",
   "execution_count": 33,
   "metadata": {},
   "outputs": [],
   "source": [
    "def grad_through_transcoder(layer, grad):\n",
    "    sae = get_nev_it_sae_suite(layer, label=\"transcoder\")\n",
    "    resid_mid = resids_mid[layer]\n",
    "\n",
    "    def f(resid_mid):\n",
    "        resid_mid = mlp_normalize(layer, resid_mid)\n",
    "        # we ignore error nodes\n",
    "        weights = resids_to_weights(resid_mid, sae)\n",
    "        recon = weights_to_resid(weights, sae)\n",
    "\n",
    "        return recon\n",
    "\n",
    "    grad = jax.vjp(f, resid_mid)[1](grad,)[0]\n",
    "\n",
    "    return grad\n"
   ]
  },
  {
   "cell_type": "code",
   "execution_count": 34,
   "metadata": {},
   "outputs": [],
   "source": [
    "def grad_through_mlp(layer, grad):\n",
    "    mlp = llama.select().at_instances_of(LlamaBlock).pick_nth_selected(layer).at_instances_of(pz.nn.Residual).pick_nth_selected(1).get().delta\n",
    "    resid_mid = resids_mid[layer]\n",
    "    def f(resid_mid):\n",
    "        resids_mid = pz.nx.wrap(resid_mid, \"batch\", \"seq\", \"embedding\")\n",
    "        out = mlp(resids_mid)\n",
    "        return out.unwrap(\"batch\", \"seq\", \"embedding\").astype(resid_mid.dtype)\n",
    "    return jax.vjp(f, resid_mid)[1](grad.astype(resid_mid.dtype),)[0]"
   ]
  },
  {
   "cell_type": "code",
   "execution_count": 35,
   "metadata": {},
   "outputs": [],
   "source": [
    "def grad_through_attn(layer, grad):\n",
    "    subblock = llama.select().at_instances_of(LlamaBlock).pick_nth_selected(layer).at_instances_of(pz.nn.Residual).pick_nth_selected(0).get().delta\n",
    "\n",
    "    si_selection = subblock.select().at_instances_of(pz.de.HandledSideInputRef)\n",
    "    keys = sorted(set([ref.tag for ref in si_selection.get_sequence()]))\n",
    "    replaced = si_selection.apply(lambda ref: pz.de.SideInputRequest(tag=ref.tag))\n",
    "    subblock = pz.de.WithSideInputsFromInputTuple.handling(replaced, keys)\n",
    "\n",
    "    side_inputs = {\n",
    "        'positions': llama_inputs.positions,\n",
    "        'attn_mask': llama_inputs.attention_mask\n",
    "    }\n",
    "\n",
    "    def f(resid):\n",
    "        resid_pre = pz.nx.wrap(resid, \"batch\", \"seq\", \"embedding\")\n",
    "        attn_out = subblock((resid_pre,) + tuple(side_inputs[tag] for tag in subblock.side_input_tags))\n",
    "\n",
    "        attn_out = attn_out.unwrap(\"batch\", \"seq\", \"embedding\") \n",
    "\n",
    "        return attn_out.astype(resid.dtype)\n",
    "\n",
    "    resid = resids_pre[layer]\n",
    "    return jax.vjp(f, resid)[1](grad.astype(resid.dtype),)[0]"
   ]
  },
  {
   "cell_type": "code",
   "execution_count": 37,
   "metadata": {},
   "outputs": [],
   "source": [
    "ies = ie_resid[12]\n",
    "ies = mask_average(ies, \"arrow\")"
   ]
  },
  {
   "cell_type": "code",
   "execution_count": 38,
   "metadata": {},
   "outputs": [
    {
     "data": {
      "text/html": [
       "<div id=\"output_ddd8c5974a594b64800e6d6278a28e4c\"><script> /* penzai.treescope rendering of a Python object (compressed) */ (()=>{ let observer; let lastStep = new Promise((resolve, reject) => { observer = new IntersectionObserver((entries) => { for (const entry of entries) { if (entry.isIntersecting) { resolve(); observer.disconnect(); return; } } }, {rootMargin: \"1000px\"}); }); window.treescope_decompress_enqueue = (encoded, destId) => { const previous = lastStep; const destElt = document.getElementById(destId); lastStep = (async () => { await previous; let blob = new Blob([ Uint8Array.from(atob(encoded), (m) => m.codePointAt(0)) ]); let reader = blob.stream().pipeThrough( new DecompressionStream(\"deflate\") ).pipeThrough( new TextDecoderStream(\"utf-8\") ).getReader(); let parts = []; while (true) { let step = await reader.read(); if (step.done) { break; } parts.push(step.value); } let newElt = document.createElement(\"div\"); newElt.innerHTML = parts.join(\"\"); destElt.parentNode.replaceChild(newElt, destElt); for (let oldScript of newElt.querySelectorAll(\"script\")) { let newScript = document.createElement(\"script\"); newScript.type = oldScript.type; newScript.textContent = oldScript.textContent; oldScript.parentNode.replaceChild(newScript, oldScript); } })(); requestAnimationFrame(() => { observer.observe(destElt); }); } })(); </script><div id=\"compress_html_975db29e44384e9ca595954006a41559\"><script>window.treescope_decompress_enqueue(\"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\", \"compress_html_975db29e44384e9ca595954006a41559\");</script><span style=\"color: #aaaaaa; font-family: monospace\">(Loading...)</span></div></div>"
      ],
      "text/plain": [
       "<IPython.core.display.HTML object>"
      ]
     },
     "metadata": {},
     "output_type": "display_data"
    },
    {
     "data": {
      "text/html": [
       "<div id=\"compress_html_c919c61cb4c449848295ddc8153e28d6\"><script>window.treescope_decompress_enqueue(\"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\", \"compress_html_c919c61cb4c449848295ddc8153e28d6\");</script></div>"
      ],
      "text/plain": [
       "<IPython.core.display.HTML object>"
      ]
     },
     "metadata": {},
     "output_type": "display_data"
    },
    {
     "data": {
      "text/html": [
       "<div id=\"output_dest_ddd8c5974a594b64800e6d6278a28e4c\"><script> (()=>{ const output = document.getElementById(\"output_ddd8c5974a594b64800e6d6278a28e4c\"); const dest = document.getElementById(\"output_dest_ddd8c5974a594b64800e6d6278a28e4c\"); dest.parentNode.replaceChild(output, dest); })(); </script></div>"
      ],
      "text/plain": [
       "[# jax.Array float32(30,) ≈0.0015 ±0.0014 [≥0.0004, ≤0.0062] nonzero:30\n",
       "   Array([0.00623179, 0.00412249, 0.00389453, 0.00366905, 0.00362012,\n",
       "          0.00284077, 0.00281034, 0.00176627, 0.0016341 , 0.00162284,\n",
       "          0.0014716 , 0.00135594, 0.00130325, 0.00112798, 0.00110467,\n",
       "          0.00085296, 0.00064201, 0.00059513, 0.0005947 , 0.00057694,\n",
       "          0.00055326, 0.00054206, 0.00050143, 0.00047176, 0.00045941,\n",
       "          0.00043115, 0.00042893, 0.00042616, 0.00041728, 0.00039801],      dtype=float32)\n",
       " ,\n",
       " # jax.Array int32(30,) [≥507, ≤28_260] nonzero:30\n",
       "   Array([ 9157, 23723, 19580,  1112,   507, 14154, 16983, 13869, 11386,\n",
       "          28260,  7525, 14214, 16736, 11958, 23598, 19827, 23808, 25169,\n",
       "           1626,  3310, 11506, 14220, 15223,  6282,  9387, 23657, 21048,\n",
       "           1727, 21623, 23036], dtype=int32)\n",
       " ]"
      ]
     },
     "execution_count": 38,
     "metadata": {},
     "output_type": "execute_result"
    }
   ],
   "source": [
    "jax.lax.top_k(ies, 30)"
   ]
  },
  {
   "cell_type": "code",
   "execution_count": 96,
   "metadata": {},
   "outputs": [],
   "source": []
  },
  {
   "cell_type": "code",
   "execution_count": 97,
   "metadata": {},
   "outputs": [
    {
     "data": {
      "application/vnd.jupyter.widget-view+json": {
       "model_id": "384a97ba8cfb4cf48228396a40359b73",
       "version_major": 2,
       "version_minor": 0
      },
      "text/plain": [
       "  0%|          | 0/10 [00:00<?, ?it/s]"
      ]
     },
     "metadata": {},
     "output_type": "display_data"
    },
    {
     "ename": "ValueError",
     "evalue": "Selection.get() can only be called on selections with one selected element, but there were 0. Consider using .selected_by_path instead.",
     "output_type": "error",
     "traceback": [
      "\u001b[0;31m---------------------------------------------------------------------------\u001b[0m",
      "\u001b[0;31mValueError\u001b[0m                                Traceback (most recent call last)",
      "Cell \u001b[0;32mIn[97], line 6\u001b[0m\n\u001b[1;32m      4\u001b[0m ablated_metrics \u001b[38;5;241m=\u001b[39m []\n\u001b[1;32m      5\u001b[0m \u001b[38;5;28;01mfor\u001b[39;00m threshold \u001b[38;5;129;01min\u001b[39;00m tqdm(thresholds):\n\u001b[0;32m----> 6\u001b[0m     abl_met, n_nodes \u001b[38;5;241m=\u001b[39m \u001b[43mablate_nodes\u001b[49m\u001b[43m(\u001b[49m\u001b[43mthreshold\u001b[49m\u001b[43m,\u001b[49m\u001b[43m \u001b[49m\u001b[43mllama\u001b[49m\u001b[43m)\u001b[49m\n\u001b[1;32m      7\u001b[0m     ablated_metrics\u001b[38;5;241m.\u001b[39mappend(\u001b[38;5;28mfloat\u001b[39m(abl_met))\n\u001b[1;32m      8\u001b[0m     n_nodes_counts\u001b[38;5;241m.\u001b[39mappend(\u001b[38;5;28mint\u001b[39m(n_nodes))\n",
      "    \u001b[0;31m[... skipping hidden 11 frame]\u001b[0m\n",
      "Cell \u001b[0;32mIn[96], line 57\u001b[0m, in \u001b[0;36mablate_nodes\u001b[0;34m(threshold, llama)\u001b[0m\n\u001b[1;32m     54\u001b[0m         \u001b[38;5;28;01mpass\u001b[39;00m\n\u001b[1;32m     55\u001b[0m     \u001b[38;5;28;01mreturn\u001b[39;00m block, n_nodes_attn \u001b[38;5;241m+\u001b[39m n_nodes_mlp\n\u001b[0;32m---> 57\u001b[0m block, n_new_nodes \u001b[38;5;241m=\u001b[39m converter(\u001b[43mblock_selection\u001b[49m\u001b[38;5;241;43m.\u001b[39;49m\u001b[43mget\u001b[49m\u001b[43m(\u001b[49m\u001b[43m)\u001b[49m)\n\u001b[1;32m     58\u001b[0m n_nodes \u001b[38;5;241m+\u001b[39m\u001b[38;5;241m=\u001b[39m n_new_nodes\n\u001b[1;32m     59\u001b[0m llama_ablated \u001b[38;5;241m=\u001b[39m block_selection\u001b[38;5;241m.\u001b[39mapply(\u001b[38;5;28;01mlambda\u001b[39;00m x: block)\n",
      "File \u001b[0;32m~/.cache/pypoetry/virtualenvs/micrlhf-progress-_SD4q1c9-py3.12/lib/python3.12/site-packages/penzai/core/selectors.py:237\u001b[0m, in \u001b[0;36mSelection.get\u001b[0;34m(self)\u001b[0m\n\u001b[1;32m    228\u001b[0m \u001b[38;5;250m\u001b[39m\u001b[38;5;124;03m\"\"\"Returns the result of a singleton selection.\u001b[39;00m\n\u001b[1;32m    229\u001b[0m \n\u001b[1;32m    230\u001b[0m \u001b[38;5;124;03mReturns:\u001b[39;00m\n\u001b[0;32m   (...)\u001b[0m\n\u001b[1;32m    234\u001b[0m \u001b[38;5;124;03m  ValueError: If this selection does not have exactly one selected subtree.\u001b[39;00m\n\u001b[1;32m    235\u001b[0m \u001b[38;5;124;03m\"\"\"\u001b[39;00m\n\u001b[1;32m    236\u001b[0m \u001b[38;5;28;01mif\u001b[39;00m \u001b[38;5;28mlen\u001b[39m(\u001b[38;5;28mself\u001b[39m\u001b[38;5;241m.\u001b[39mselected_by_path) \u001b[38;5;241m!=\u001b[39m \u001b[38;5;241m1\u001b[39m:\n\u001b[0;32m--> 237\u001b[0m   \u001b[38;5;28;01mraise\u001b[39;00m \u001b[38;5;167;01mValueError\u001b[39;00m(\n\u001b[1;32m    238\u001b[0m       \u001b[38;5;124m\"\u001b[39m\u001b[38;5;124mSelection.get() can only be called on selections with one selected\u001b[39m\u001b[38;5;124m\"\u001b[39m\n\u001b[1;32m    239\u001b[0m       \u001b[38;5;124mf\u001b[39m\u001b[38;5;124m\"\u001b[39m\u001b[38;5;124m element, but there were \u001b[39m\u001b[38;5;132;01m{\u001b[39;00m\u001b[38;5;28mlen\u001b[39m(\u001b[38;5;28mself\u001b[39m\u001b[38;5;241m.\u001b[39mselected_by_path)\u001b[38;5;132;01m}\u001b[39;00m\u001b[38;5;124m. Consider\u001b[39m\u001b[38;5;124m\"\u001b[39m\n\u001b[1;32m    240\u001b[0m       \u001b[38;5;124m\"\u001b[39m\u001b[38;5;124m using .selected_by_path instead.\u001b[39m\u001b[38;5;124m\"\u001b[39m\n\u001b[1;32m    241\u001b[0m   )\n\u001b[1;32m    243\u001b[0m (value,) \u001b[38;5;241m=\u001b[39m \u001b[38;5;28mself\u001b[39m\u001b[38;5;241m.\u001b[39mselected_by_path\u001b[38;5;241m.\u001b[39mvalues()\n\u001b[1;32m    244\u001b[0m \u001b[38;5;28;01mreturn\u001b[39;00m value\n",
      "\u001b[0;31mValueError\u001b[0m: Selection.get() can only be called on selections with one selected element, but there were 0. Consider using .selected_by_path instead."
     ]
    }
   ],
   "source": []
  },
  {
   "cell_type": "code",
   "execution_count": null,
   "metadata": {},
   "outputs": [],
   "source": []
  },
  {
   "cell_type": "code",
   "execution_count": null,
   "metadata": {},
   "outputs": [],
   "source": []
  },
  {
   "cell_type": "code",
   "execution_count": 93,
   "metadata": {},
   "outputs": [
    {
     "data": {
      "text/html": [
       "<div id=\"output_1a81b1abdca44406a52cb3269c51f3e8\"><script> /* penzai.treescope rendering of a Python object (compressed) */ (()=>{ let observer; let lastStep = new Promise((resolve, reject) => { observer = new IntersectionObserver((entries) => { for (const entry of entries) { if (entry.isIntersecting) { resolve(); observer.disconnect(); return; } } }, {rootMargin: \"1000px\"}); }); window.treescope_decompress_enqueue = (encoded, destId) => { const previous = lastStep; const destElt = document.getElementById(destId); lastStep = (async () => { await previous; let blob = new Blob([ Uint8Array.from(atob(encoded), (m) => m.codePointAt(0)) ]); let reader = blob.stream().pipeThrough( new DecompressionStream(\"deflate\") ).pipeThrough( new TextDecoderStream(\"utf-8\") ).getReader(); let parts = []; while (true) { let step = await reader.read(); if (step.done) { break; } parts.push(step.value); } let newElt = document.createElement(\"div\"); newElt.innerHTML = parts.join(\"\"); destElt.parentNode.replaceChild(newElt, destElt); for (let oldScript of newElt.querySelectorAll(\"script\")) { let newScript = document.createElement(\"script\"); newScript.type = oldScript.type; newScript.textContent = oldScript.textContent; oldScript.parentNode.replaceChild(newScript, oldScript); } })(); requestAnimationFrame(() => { observer.observe(destElt); }); } })(); </script><div id=\"compress_html_65ca75a40974431aa2df3a63510c5ee8\"><script>window.treescope_decompress_enqueue(\"eNqVVVlv2zgQ/itTLVDIRaUcbZLWtgwEPbAPRV9aYB8WC4GWRhZhilTJUVxv4f/eIWU5cuJus/CDPMM5vrnnjrYKFylZRFeYFnNrDMEPaI2TJI2egkUlSN7hDCqjKalEI9V2Co3RxrWiYP6mloRJIKbQWuYo6SgJphPatszVRjN7KYr1yppOl0lhlLHTXnUGe2qpWIDtyZLqKVSSWEwTappBI+xK6kRhRVO4LGrvQ2NSo1zVzLlIr2awm5/14cxdYWVLC5AVxBupS7O5jxCyLAOGgBUbKCcc62MJ+LGbPWKneYu6lHp1W/jMOBb7+5/fiv0pdKm8Sd0pdUJ6hZQ/yH4G8ZD0nMwEsgWDPHsBn4xZcxEsUI0QJLUpMYUXZ6CQYK87Ug2lYedx//Ysg9IUXcMJTZem3MLz5/DMv6SFEs594qKlPuFCahdHx6CiCfhUDT68UissW/qgsAkV2rFn6qwOj0yeiNV2+osx2ge4MXa9j4xdOmJkfzHLPx2xSRae2aLlwBuhC0y12cSTQ2iPXiDplebw6tJDPtUDD0uZKtQrqrk14PxUR/x3Tfu4fQZQObyHXnfaY/+tc1fLinxIQcP/2fHvqRjiQdLitw4d3WrZCC/x0YoG4z6vk8npijyE0nau7msze0riBhBZn4r/k7qnwz4JHDVrdfgeK7QWy6/YtNz26B43UKs889D4rGa3X1BhQcbeKsWNvtcdL8FO5447NZrMwsDFfr7YEpgqGPSB8nc0NxYbc4dHUzOy8atJiAes3n5lzb/ohyNY7hffMdw46hebN+k1mBqHVljkMPYDOZblf6nfwyzcOwnUno/f6V3vbPR8z5wFOP2sf/brxiJnq8B3PH5lzBZeegFfp1/Wisxqpfo1koftTwwsbDnmoKKXgHdsfZ8K33aBTte49RMZ2WhYPSw8ynlvN44ONvOGAUYDjh3wPegPwbyUdxAUs4d7DUgsGTB+z6LzCIxmp4xej+RO44+plm5AHvHJ6Q9puGS57pol2tCD4bD9cf72zcXV9dGJaoUeINVcDcv3bJ0TnzlkUKUgkTCUVlCdRdGx+NhHtLhJby6vr9+8vro5f3VxecUOWHRx+HDkh3v45CmKJ4fU/QSoc+h4\", \"compress_html_65ca75a40974431aa2df3a63510c5ee8\");</script><span style=\"color: #aaaaaa; font-family: monospace\">(Loading...)</span></div></div>"
      ],
      "text/plain": [
       "<IPython.core.display.HTML object>"
      ]
     },
     "metadata": {},
     "output_type": "display_data"
    },
    {
     "data": {
      "text/html": [
       "<div id=\"output_dest_1a81b1abdca44406a52cb3269c51f3e8\"><script> (()=>{ const output = document.getElementById(\"output_1a81b1abdca44406a52cb3269c51f3e8\"); const dest = document.getElementById(\"output_dest_1a81b1abdca44406a52cb3269c51f3e8\"); dest.parentNode.replaceChild(output, dest); })(); </script></div>"
      ],
      "text/plain": [
       "7.7266845703125"
      ]
     },
     "execution_count": 93,
     "metadata": {},
     "output_type": "execute_result"
    }
   ],
   "source": [
    "float(ablated_metric(llama))"
   ]
  },
  {
   "cell_type": "code",
   "execution_count": 90,
   "metadata": {},
   "outputs": [
    {
     "data": {
      "text/html": [
       "<div id=\"output_537a810ef6824c1bae60e9c306124cc6\"><script> /* penzai.treescope rendering of a Python object (compressed) */ (()=>{ let observer; let lastStep = new Promise((resolve, reject) => { observer = new IntersectionObserver((entries) => { for (const entry of entries) { if (entry.isIntersecting) { resolve(); observer.disconnect(); return; } } }, {rootMargin: \"1000px\"}); }); window.treescope_decompress_enqueue = (encoded, destId) => { const previous = lastStep; const destElt = document.getElementById(destId); lastStep = (async () => { await previous; let blob = new Blob([ Uint8Array.from(atob(encoded), (m) => m.codePointAt(0)) ]); let reader = blob.stream().pipeThrough( new DecompressionStream(\"deflate\") ).pipeThrough( new TextDecoderStream(\"utf-8\") ).getReader(); let parts = []; while (true) { let step = await reader.read(); if (step.done) { break; } parts.push(step.value); } let newElt = document.createElement(\"div\"); newElt.innerHTML = parts.join(\"\"); destElt.parentNode.replaceChild(newElt, destElt); for (let oldScript of newElt.querySelectorAll(\"script\")) { let newScript = document.createElement(\"script\"); newScript.type = oldScript.type; newScript.textContent = oldScript.textContent; oldScript.parentNode.replaceChild(newScript, oldScript); } })(); requestAnimationFrame(() => { observer.observe(destElt); }); } })(); </script><div id=\"compress_html_0fd89ba6c17a473c88de148b4a559a33\"><script>window.treescope_decompress_enqueue(\"eNqVVUuP2zYQ/isTFQjkINLupkjR2paBRdqihyCXFMghKARaGlmEKVIhR+s4gf97hqTllXedZgMfZM7zm/fS0V7hKieL6CrTY2mNIfgKvXGSpNFzsKgEyTtcQGM0ZY3opNrPoTPauF5UTN+1kjALjzn0lilKOsqC6Yz2PVO10Uxei2q7sWbQdVYZZew8qi7g+ForFmB7sqZ2Do0kFtOEmhbQCbuROlPY0BxeVa33oTFrUW5aptzkrxdwWF7FcJausrKnFcgG0p3UtdndRwhFUQBDwIYN1DOO9bEEfD0sHpHzskddS725rXxmHIt9/O+HYv8IXStvUg9KXZDeIJUPsl9AOia9JDODYsUgr17AW2O2XAQL1CIESW1qzOHFFSgkOOpOVENp2Hkaec8KqE01dJzQfG3qPTx/Ds88J6+UcO4tFy33CRdSuzQ5B5XMwKdq9OGVemHZ0l8Ku1ChA3umwerA5OeFWO2g3xujfYA7Y7fHyNilI0b2gUmedUYmWXlij5YD74SuMNdml85OoT3iQBaVlvDrKw/5Ug88LGWuUG+o5daA60sd8f81jXH7DKByeA+9HbTH/kPnrpUN+ZCChv9z4N9TMaSjpMVPAzq61bITXuJvKzpMY15ns8sVeQilH1wba7N4SuJGEEVMxc+k7umwLwJHzVoD/okNWov1v9j13PboHjdQrzzx1PisZvfvUWFFxt4qxY1+1J0uwUGXjjs1mS3CwKV+vtgSmCYY9IHydzI3Fjtzh2dTM7HxvUlIR6zefmPNF/TDESzHxXcON03iYvMmvQa/pqFVFjmM40BOZflf7vcwC0cn4XWk42d6E51N2PfERYATZ/2dXzcWOVsVvuHxq1O28NIL+Dp9t1ZkNhsV10gZtj8xsLDlmIKKXgLesfVjKnzbhXe+xb2fyMQm4+ph4UnOo900OdksOwaYjDgOwPcgHoJlLe8gKBYP9xqQWDNg/Fwk1wkYzU4ZvZ7IXcafUivdiDzhkxMPabhkpR66NdrQg+Gw/XL9x+83r387O1G90COklqth+Z5tS+IzhwyqFiQyhtILaoskORef+khWN2ySmavTh2M9XcAnz006OyXrG7+f5Zw=\", \"compress_html_0fd89ba6c17a473c88de148b4a559a33\");</script><span style=\"color: #aaaaaa; font-family: monospace\">(Loading...)</span></div></div>"
      ],
      "text/plain": [
       "<IPython.core.display.HTML object>"
      ]
     },
     "metadata": {},
     "output_type": "display_data"
    },
    {
     "data": {
      "text/html": [
       "<div id=\"output_dest_537a810ef6824c1bae60e9c306124cc6\"><script> (()=>{ const output = document.getElementById(\"output_537a810ef6824c1bae60e9c306124cc6\"); const dest = document.getElementById(\"output_dest_537a810ef6824c1bae60e9c306124cc6\"); dest.parentNode.replaceChild(output, dest); })(); </script></div>"
      ],
      "text/plain": [
       "1"
      ]
     },
     "execution_count": 90,
     "metadata": {},
     "output_type": "execute_result"
    }
   ],
   "source": [
    "r = 0\n",
    "for k, v in masks.items():\n",
    "    r = r + v\n",
    "int(r.max())"
   ]
  },
  {
   "cell_type": "code",
   "execution_count": null,
   "metadata": {},
   "outputs": [],
   "source": [
    "def run_with_ablation(ablation_mask):\n",
    "    "
   ]
  }
 ],
 "metadata": {
  "kernelspec": {
   "display_name": "micrlhf-progress-_SD4q1c9-py3.12",
   "language": "python",
   "name": "python3"
  },
  "language_info": {
   "codemirror_mode": {
    "name": "ipython",
    "version": 3
   },
   "file_extension": ".py",
   "mimetype": "text/x-python",
   "name": "python",
   "nbconvert_exporter": "python",
   "pygments_lexer": "ipython3",
   "version": "3.12.0"
  }
 },
 "nbformat": 4,
 "nbformat_minor": 2
}
