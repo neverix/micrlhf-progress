{
 "cells": [
  {
   "cell_type": "code",
   "execution_count": 1,
   "metadata": {},
   "outputs": [],
   "source": [
    "import os\n",
    "if \"models\" not in os.listdir(\".\"):\n",
    "    os.chdir(\"..\")"
   ]
  },
  {
   "cell_type": "code",
   "execution_count": 2,
   "metadata": {},
   "outputs": [],
   "source": [
    "%load_ext autoreload\n",
    "%autoreload 2\n",
    "import penzai\n",
    "from penzai import pz\n",
    "pz.ts.register_as_default()\n",
    "pz.ts.register_autovisualize_magic()\n",
    "pz.enable_interactive_context()"
   ]
  },
  {
   "cell_type": "code",
   "execution_count": 3,
   "metadata": {},
   "outputs": [],
   "source": [
    "filename = \"models/phi-3-16.gguf\"\n",
    "from micrlhf.llama import LlamaTransformer\n",
    "llama = LlamaTransformer.from_pretrained(filename, device_map=\"auto\")"
   ]
  },
  {
   "cell_type": "code",
   "execution_count": 4,
   "metadata": {},
   "outputs": [
    {
     "name": "stderr",
     "output_type": "stream",
     "text": [
      "/usr/local/lib/python3.12/pty.py:95: RuntimeWarning: os.fork() was called. os.fork() is incompatible with multithreaded code, and JAX is multithreaded, so this will likely lead to a deadlock.\n",
      "  pid, fd = os.forkpty()\n"
     ]
    }
   ],
   "source": [
    "!mkdir -p data\n",
    "import pandas as pd\n",
    "df_adv = pd.read_csv(\"data/adv.csv\")\n",
    "format_prompt = \"\"\"<|user|>\n",
    "{}<|end|>\n",
    "<|assistant|>\n",
    "{}\"\"\"\n",
    "# offset = 1\n",
    "# offset = 1\n",
    "# df_do = df.apply(lambda x: format_response.format(x['goal'], x['target']), axis=1)\n",
    "# prompts_harmful = df.apply(lambda x: format_prompt.format(x['goal'], \"\")[:-offset], axis=1).to_list()[:100]\n",
    "prompts_harmful = df_adv.apply(lambda x: format_prompt.format(x['goal'], \"\"), axis=1).to_list()[:100]\n",
    "dataset_jail = pd.read_csv(\"data/jail.csv\").apply(lambda x: x[\"Goal\"], axis=1).to_list()\n",
    "prompts_jail = [format_prompt.format(x, \"\") for x in dataset_jail]\n",
    "import datasets\n",
    "# https://colab.research.google.com/drive/1a-aQvKC9avdZpdyBn4jgRQFObTPy1JZw\n",
    "hf_path = 'tatsu-lab/alpaca'\n",
    "dataset = datasets.load_dataset(hf_path)\n",
    "# filter for instructions that do not have inputs\n",
    "prompts_harmless = []\n",
    "for i in range(len(dataset['train'])):\n",
    "    if len(prompts_harmless) >= len(prompts_harmful):\n",
    "        break\n",
    "    if dataset['train'][i]['input'].strip() == '':\n",
    "        # prompts_harmless.append(format_prompt.format(dataset['train'][i]['instruction'], \"\")[:-offset])\n",
    "        prompts_harmless.append(format_prompt.format(dataset['train'][i]['instruction'], \"\"))\n",
    "\n",
    "# ds = datasets.load_dataset(\"MBZUAI/LaMini-instruction\", split=\"train\", streaming=True)\n",
    "# prompts_harmless = []\n",
    "# for _, text in zip(range(100), ds):\n",
    "#     prompts_harmless.append(format_prompt.format(text[\"instruction\"], \"\"))\n",
    "\n",
    "# ds = datasets.load_dataset(\"nev/openhermes-2.5-phi-format-text\", split=\"train\", streaming=True)\n",
    "# prompts_harmless = []\n",
    "# for _, text in zip(range(100), ds):\n",
    "#     text = text[\"text\"]\n",
    "#     text = \"\".join(text.partition(\"<|assistant|>\\n\")[:2])\n",
    "#     prompts_harmless.append(text)"
   ]
  },
  {
   "cell_type": "code",
   "execution_count": 5,
   "metadata": {},
   "outputs": [
    {
     "name": "stderr",
     "output_type": "stream",
     "text": [
      "Special tokens have been added in the vocabulary, make sure the associated word embeddings are fine-tuned or trained.\n"
     ]
    }
   ],
   "source": [
    "from transformers import AutoTokenizer\n",
    "tokenizer = AutoTokenizer.from_pretrained(\"microsoft/Phi-3-mini-4k-instruct\")\n",
    "tokenizer.padding_side = \"right\""
   ]
  },
  {
   "cell_type": "code",
   "execution_count": 6,
   "metadata": {},
   "outputs": [],
   "source": [
    "from micrlhf.sampling import sample, trange, jnp, load_tokenizer, jit_wrapper\n",
    "import jax\n",
    "\n",
    "tokens = tokenizer.batch_encode_plus(prompts_harmful + prompts_harmless,\n",
    "                                     return_tensors=\"np\",\n",
    "                                     padding=\"max_length\",\n",
    "                                     truncation=True,\n",
    "                                     max_length=128,\n",
    "                                     return_attention_mask=True)\n",
    "token_array = jnp.asarray(tokens[\"input_ids\"])\n",
    "token_array = jax.device_put(token_array, jax.sharding.NamedSharding(llama.mesh, jax.sharding.PartitionSpec(\"dp\", \"sp\")))\n",
    "token_array = pz.nx.wrap(token_array, \"batch\", \"seq\").untag(\"batch\").tag(\"batch\")\n",
    "inputs = llama.inputs.from_basic_segments(token_array)"
   ]
  },
  {
   "cell_type": "code",
   "execution_count": 7,
   "metadata": {},
   "outputs": [],
   "source": [
    "from micrlhf.llama import LlamaBlock\n",
    "from micrlhf.flash import flashify\n",
    "from micrlhf.sampling import sample, trange, jnp, load_tokenizer, jit_wrapper\n",
    "get_resids = llama.select().at_instances_of(LlamaBlock).apply_with_selected_index(lambda i, x:\n",
    "    pz.nn.Sequential([\n",
    "        pz.de.TellIntermediate.from_config(tag=f\"resid_pre_{i}\"),\n",
    "        x\n",
    "    ])\n",
    ")\n",
    "get_resids = pz.de.CollectingSideOutputs.handling(get_resids, tag_predicate=lambda x: x.startswith(\"resid_pre\"))\n",
    "get_resids_call = jit_wrapper.Jitted(get_resids)\n",
    "_, resids = get_resids_call(inputs)"
   ]
  },
  {
   "cell_type": "code",
   "execution_count": 8,
   "metadata": {},
   "outputs": [
    {
     "name": "stderr",
     "output_type": "stream",
     "text": [
      "/tmp/ipykernel_1627223/4119513429.py:13: RuntimeWarning: invalid value encountered in divide\n",
      "  residiff = residiff / np.linalg.norm(residiff)\n"
     ]
    },
    {
     "data": {
      "image/png": "[encoded data removed]",
      "text/plain": [
       "<Figure size 640x480 with 2 Axes>"
      ]
     },
     "metadata": {},
     "output_type": "display_data"
    }
   ],
   "source": [
    "from matplotlib import pyplot as plt\n",
    "import numpy as np\n",
    "residiffs = []\n",
    "last_resids = []\n",
    "for i, resid in enumerate(sorted(resids, key=lambda x: int(x.tag.rpartition(\"_\")[-1]))):\n",
    "    resid = resid.value.unwrap(\"batch\", \"seq\", \"embedding\")\n",
    "    indices = jnp.asarray(tokens[\"attention_mask\"].sum(1, keepdims=True))[..., None] - 1\n",
    "    last_resid = jnp.take_along_axis(resid, indices, 1)[:, 0]\n",
    "    last_resid = last_resid.reshape(2, -1, last_resid.shape[-1])\n",
    "    last_resids.append(last_resid)\n",
    "    last_resid = last_resid.mean(1)\n",
    "    residiff = np.array(last_resid[0] - last_resid[1])\n",
    "    residiff = residiff / np.linalg.norm(residiff)\n",
    "    residiffs.append(residiff)\n",
    "matmuls = np.matmul(residiffs, np.transpose(residiffs))\n",
    "norms = np.linalg.norm(residiffs, axis=-1) + 1e-10\n",
    "plt.title(\"Correlations between layers' refusal vectors\")\n",
    "plt.imshow(matmuls / norms[:, None] / norms[None, :], vmin=0, vmax=1)\n",
    "plt.colorbar()\n",
    "plt.show()"
   ]
  },
  {
   "cell_type": "code",
   "execution_count": 9,
   "metadata": {},
   "outputs": [
    {
     "name": "stderr",
     "output_type": "stream",
     "text": [
      "--2024-06-27 14:19:28--  https://huggingface.co/nev/phi-3-4k-saex-test/resolve/main/l16-test-run-6-1.20E-05/sae_weights.safetensors?download=true\n",
      "Resolving huggingface.co (huggingface.co)... 108.156.211.125, 108.156.211.95, 108.156.211.51, ...\n",
      "Connecting to huggingface.co (huggingface.co)|108.156.211.125|:443... connected.\n",
      "HTTP request sent, awaiting response... 302 Found\n",
      "Location: https://cdn-lfs-us-1.huggingface.co/repos/eb/d8/ebd889d6ac58573e8e8a7aa1176d4d357581a6da60135b94aca378fddf4e9e54/1f9c97d2037660b950d39890f528c5c18bc3929bb6a637fdb4a18ebd619c202f?response-content-disposition=attachment%3B+filename*%3DUTF-8%27%27sae_weights.safetensors%3B+filename%3D%22sae_weights.safetensors%22%3B&Expires=1719757168&Policy=eyJTdGF0ZW1lbnQiOlt7IkNvbmRpdGlvbiI6eyJEYXRlTGVzc1RoYW4iOnsiQVdTOkVwb2NoVGltZSI6MTcxOTc1NzE2OH19LCJSZXNvdXJjZSI6Imh0dHBzOi8vY2RuLWxmcy11cy0xLmh1Z2dpbmdmYWNlLmNvL3JlcG9zL2ViL2Q4L2ViZDg4OWQ2YWM1ODU3M2U4ZThhN2FhMTE3NmQ0ZDM1NzU4MWE2ZGE2MDEzNWI5NGFjYTM3OGZkZGY0ZTllNTQvMWY5Yzk3ZDIwMzc2NjBiOTUwZDM5ODkwZjUyOGM1YzE4YmMzOTI5YmI2YTYzN2ZkYjRhMThlYmQ2MTljMjAyZj9yZXNwb25zZS1jb250ZW50LWRpc3Bvc2l0aW9uPSoifV19&Signature=to5tEd2TZrYvroNK8RKsvrEM0SYMiMi2FzHMRBCsFyAdZDK%7E25dxCkMvRSZ314CZYL5XtU84%7EZwaFUt1swC0NGAhved6dgNjoXrjKVGOneWf7lykr%7E%7EvSXFhZElxbV-ZC10j7ldVLDWv0qqPaCiwtNo1Nd0k430GQm25bLikUom8DWrIn9%7Enn3D--lEjQSmx0VaiFcJClZIEvG-RP1qw7VI6s0Ipp41W0Puxb3rG8TCfVEHlfZffabN1RZQ9XtKhdW1wUsQHWVLgTOOjGJMcugORF-Xrp%7E0ks8qS1Uj-XvyT8Q5ZTPE0Qjj7hs6l3FooZ2dMBEGl2gpZoAWMjij%7EpA__&Key-Pair-Id=K24J24Z295AEI9 [following]\n",
      "--2024-06-27 14:19:28--  https://cdn-lfs-us-1.huggingface.co/repos/eb/d8/ebd889d6ac58573e8e8a7aa1176d4d357581a6da60135b94aca378fddf4e9e54/1f9c97d2037660b950d39890f528c5c18bc3929bb6a637fdb4a18ebd619c202f?response-content-disposition=attachment%3B+filename*%3DUTF-8%27%27sae_weights.safetensors%3B+filename%3D%22sae_weights.safetensors%22%3B&Expires=1719757168&Policy=eyJTdGF0ZW1lbnQiOlt7IkNvbmRpdGlvbiI6eyJEYXRlTGVzc1RoYW4iOnsiQVdTOkVwb2NoVGltZSI6MTcxOTc1NzE2OH19LCJSZXNvdXJjZSI6Imh0dHBzOi8vY2RuLWxmcy11cy0xLmh1Z2dpbmdmYWNlLmNvL3JlcG9zL2ViL2Q4L2ViZDg4OWQ2YWM1ODU3M2U4ZThhN2FhMTE3NmQ0ZDM1NzU4MWE2ZGE2MDEzNWI5NGFjYTM3OGZkZGY0ZTllNTQvMWY5Yzk3ZDIwMzc2NjBiOTUwZDM5ODkwZjUyOGM1YzE4YmMzOTI5YmI2YTYzN2ZkYjRhMThlYmQ2MTljMjAyZj9yZXNwb25zZS1jb250ZW50LWRpc3Bvc2l0aW9uPSoifV19&Signature=to5tEd2TZrYvroNK8RKsvrEM0SYMiMi2FzHMRBCsFyAdZDK%7E25dxCkMvRSZ314CZYL5XtU84%7EZwaFUt1swC0NGAhved6dgNjoXrjKVGOneWf7lykr%7E%7EvSXFhZElxbV-ZC10j7ldVLDWv0qqPaCiwtNo1Nd0k430GQm25bLikUom8DWrIn9%7Enn3D--lEjQSmx0VaiFcJClZIEvG-RP1qw7VI6s0Ipp41W0Puxb3rG8TCfVEHlfZffabN1RZQ9XtKhdW1wUsQHWVLgTOOjGJMcugORF-Xrp%7E0ks8qS1Uj-XvyT8Q5ZTPE0Qjj7hs6l3FooZ2dMBEGl2gpZoAWMjij%7EpA__&Key-Pair-Id=K24J24Z295AEI9\n",
      "Resolving cdn-lfs-us-1.huggingface.co (cdn-lfs-us-1.huggingface.co)... 108.138.167.116, 108.138.167.22, 108.138.167.63, ...\n",
      "Connecting to cdn-lfs-us-1.huggingface.co (cdn-lfs-us-1.huggingface.co)|108.138.167.116|:443... connected.\n",
      "HTTP request sent, awaiting response... 416 Requested Range Not Satisfiable\n",
      "\n",
      "    The file is already fully retrieved; nothing to do.\n",
      "\n"
     ]
    },
    {
     "data": {
      "text/html": [
       "<div id=\"output_7318486671094801af4d124547a99cd4\"><script> /* penzai.treescope rendering of a Python object (compressed) */ (()=>{ let observer; let lastStep = new Promise((resolve, reject) => { observer = new IntersectionObserver((entries) => { for (const entry of entries) { if (entry.isIntersecting) { resolve(); observer.disconnect(); return; } } }, {rootMargin: \"1000px\"}); }); window.treescope_decompress_enqueue = (encoded, destId) => { const previous = lastStep; const destElt = document.getElementById(destId); lastStep = (async () => { await previous; let blob = new Blob([ Uint8Array.from(atob(encoded), (m) => m.codePointAt(0)) ]); let reader = blob.stream().pipeThrough( new DecompressionStream(\"deflate\") ).pipeThrough( new TextDecoderStream(\"utf-8\") ).getReader(); let parts = []; while (true) { let step = await reader.read(); if (step.done) { break; } parts.push(step.value); } let newElt = document.createElement(\"div\"); newElt.innerHTML = parts.join(\"\"); destElt.parentNode.replaceChild(newElt, destElt); for (let oldScript of newElt.querySelectorAll(\"script\")) { let newScript = document.createElement(\"script\"); newScript.type = oldScript.type; newScript.textContent = oldScript.textContent; oldScript.parentNode.replaceChild(newScript, oldScript); } })(); requestAnimationFrame(() => { observer.observe(destElt); }); } })(); </script><div id=\"compress_html_fbd854c7ea804fdf8371396c4883165e\"><script>window.treescope_decompress_enqueue(\"eNrFV1tv2zYU/iunGpDKQaw4bpJ2km0g6DbsodhLB+xhGwRKOrI406RGUkm8wv99h5R8l9sMKzb7QebhuXznLk+MXQmcRVYjmlzVmGqlLHyCWhluuZIxaBTM8kdMoFTSDku25GIVw1JJZWqWE/2p4haH/hBDrYkiuLFDr3poVzVRpZJEzli+mGvVyGKYK6F03Iom0J0yQQykjxe2iqHkltikRWkTWDI953IosLQxjPPK2ZA4rJDPK6LcRHcJrCfXrTsTk2te2xnwEsInLgv1tPMQptMpEAQsSUExIF9POeDTOjkhR2mNsuBy/pC7yBhi+/X3L7L9yGQhnErZCNHDPUebHkV/CuEm6KlVA5jOCOT1JXxQakFJ0GArBM8pVYERXF6DQAud7J6oTw0ZD9u7V1MoVN4sKaBRpooVXFzAK3cT5YIZ84GSFrmAMy5NGByCCgbgQrWx4YRqpknT9wKXPkNrsmwbLf0lHXt81Y38qJR0Dj4pveg8I5PGErJfiOSuDsiW545YoybHl0zmGEn1FA62rp3cwLAVmsCbsYPcVwPHqYwEyrmtqDRg1FcRn89p67eLAAqDO+hVIx32Lxo3FS+tc8lLuB9r+r4UQ7jh1Phng8Y+SL5kjuMHzZYYtnEdDPozcgylbkzV5iZ5SeA2IKZtKP5J6F4Ouxc4SpJq8DssUWssfsZlTWWP5rSAauGI28InMb36iAJzq/SDEFTonez+EGxkaqhSg0HiGy50/UWaQJVeoXOUnnt9o3GpHvGga/Z0nOuEcIPV6S+1+gtdc3jN7eA7hBsG7WBzKp0EnfZdyzWSG11D7vPSr8jNYWJujfhTR8dn+741tne9IyYeTtvrP7lxo5GileN7ar8iJA1XjsHl6WyurJrPRTtGUj/9LQHzU44oKOwV4CNp70Lhys6fowWuXEcGOtiMHmLei3mrNwy2OtMlAQw2ONZA+6BdBJOCP4IXnB7PNbAsI8D4PA1GAShJRgm93OPrxx/aipsN8oBWTrtIi64gUx+kSokCta9Fv+C+YW/dt1ulXiQGbpngOeGNSmJnGZlyc/3MEl7DIVvaoiPughsyutos22NGmIFgGYo4zpBqGvdQ5f6T9NprN+7wxq3cbjGPkp0tLv0ezoRym/uszYqaQ59aLpheGGRzCrU8lY6lsuERqWImnHmds944eJk4rzBf0HIfwOVgh8GJ9gtt+A8Q+vKP4fVv47ssf/1/wjsUOgvy/j8A6fLoDDfauATWihMC3WOXm69n1reCNzT0/WbO1fjXsbpzz83BUysRN2nJtbGpkqkr/57W+lwrReM71029qYJ/Db/N+DFE59XBO7Rv6L035ppJ4MU02A6wgibV/XiclffZ7e0Yb74dvbu9vxll7P7dO8S3o6AT6sbqYd8fmyfm1okJl3VDu5T2zzTwsDP1HPQq6Tyky9a72eTaC9Oz07Vvv2/wBrMLYZM/2HP0oDVb0bCyb8bh7dUAoiiCi7lNyH/SMTt+0LrY/ol48atHONjum78BEavAbw==\", \"compress_html_fbd854c7ea804fdf8371396c4883165e\");</script><span style=\"color: #aaaaaa; font-family: monospace\">(Loading...)</span></div></div>"
      ],
      "text/plain": [
       "<IPython.core.display.HTML object>"
      ]
     },
     "metadata": {},
     "output_type": "display_data"
    },
    {
     "data": {
      "text/html": [
       "<div id=\"compress_html_c7bdf1d1ac6949e7a1f437d7692f53ff\"><script>window.treescope_decompress_enqueue(\"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\", \"compress_html_c7bdf1d1ac6949e7a1f437d7692f53ff\");</script></div>"
      ],
      "text/plain": [
       "<IPython.core.display.HTML object>"
      ]
     },
     "metadata": {},
     "output_type": "display_data"
    },
    {
     "data": {
      "text/html": [
       "<div id=\"output_dest_7318486671094801af4d124547a99cd4\"><script> (()=>{ const output = document.getElementById(\"output_7318486671094801af4d124547a99cd4\"); const dest = document.getElementById(\"output_dest_7318486671094801af4d124547a99cd4\"); dest.parentNode.replaceChild(output, dest); })(); </script></div>"
      ],
      "text/plain": [
       "<jax.Array([39432,  5382, 13228, 34903], dtype=int32)>"
      ]
     },
     "metadata": {},
     "output_type": "display_data"
    },
    {
     "data": {
      "text/html": [
       "<div id=\"output_4aa98df2d1a443548291a5f3e7a83082\"><script> /* penzai.treescope rendering of a Python object (compressed) */ (()=>{ let observer; let lastStep = new Promise((resolve, reject) => { observer = new IntersectionObserver((entries) => { for (const entry of entries) { if (entry.isIntersecting) { resolve(); observer.disconnect(); return; } } }, {rootMargin: \"1000px\"}); }); window.treescope_decompress_enqueue = (encoded, destId) => { const previous = lastStep; const destElt = document.getElementById(destId); lastStep = (async () => { await previous; let blob = new Blob([ Uint8Array.from(atob(encoded), (m) => m.codePointAt(0)) ]); let reader = blob.stream().pipeThrough( new DecompressionStream(\"deflate\") ).pipeThrough( new TextDecoderStream(\"utf-8\") ).getReader(); let parts = []; while (true) { let step = await reader.read(); if (step.done) { break; } parts.push(step.value); } let newElt = document.createElement(\"div\"); newElt.innerHTML = parts.join(\"\"); destElt.parentNode.replaceChild(newElt, destElt); for (let oldScript of newElt.querySelectorAll(\"script\")) { let newScript = document.createElement(\"script\"); newScript.type = oldScript.type; newScript.textContent = oldScript.textContent; oldScript.parentNode.replaceChild(newScript, oldScript); } })(); requestAnimationFrame(() => { observer.observe(destElt); }); } })(); </script><div id=\"compress_html_071534ae3448462f962675b733853c12\"><script>window.treescope_decompress_enqueue(\"eNrFV1tv2zYU/iunGpDKQawkTt2k8gUIug57KPbSAXvYBoGSjizONKmRVBKv8H/fISXHsi23GVZs9oPMw3P5zl2eGrsWOI+sRjSZqjDRSln4DJUy3HIlY9AomOUPOIFCSTss2IqLdQwrJZWpWEb0x5JbHPpDDJUmiuDGDr3qoV1XRJVKEjll2XKhVS3zYaaE0nEjOoH2lApiIH08t2UMBbfEJi1KO4EV0wsuhwILG8MoK50NicMS+aIkynU0nsBmetm4MzWZ5pWdAy8gfOQyV487D2E2mwFBwIIU5APy9ZgDPm8mR+QoqVDmXC7uMxcZQ2y//v5Vth+ZzIVTKWshergXaJOD6M8g3AY9sWoAszmBvDyHj0otKQkabIngOaXKMYLzSxBooZXtiPrUkPGwuXs1g1xl9YoCGqUqX8PZGbxyN1EmmDEfKWmRCzjj0oTBPqhgAC5UWxtOqGKaNH0QuPIZ2pBlW2vpL+nY46uu5SelpHPwUell6xmZNJaQ/UIkd7VHtjxzxAo1Ob5iMsNIqsdw8Oza0Q0MG6Ep3Iwc5L4aOExlJFAubEmlAVd9FfHlnDZ+uwigMLiDXtbSYf+qcVPywjqXvIT7saHvSzGEW06Nf9Zo7L3kK+Y4ftBshWET18GgPyOHUKralE1uJi8J3BbErAnFPwndy2H3AkdJUjV+jwVqjfnPuKqo7NEcF1AlHPG58ElMrz+hwMwqfS8EFXor2x2CtUwMVWowmPiGC11/kSZQhVfoHKVnp280rtQD7nVNR8epTgi3WJ3+Qqu/0DWH19wMvn24YdAMNqfSSdCp61qmkdxoG7LLS78iN4eJuTHiTy0dn+z7xljnekeceDhNr//kxo1GilaG76n98pA0XDgGl6eTubJqsRDNGEn89LcEzE85oqCwF4APpL0NhSs7f46WuHYdGehgO3qIuRPzRm8YPOtMVgQw2OLYAO2DZhFMc/4AXnB2ONfAspQA49MsuApASTJK6GWHrx9/aEtutsgDWjnNIs3bgkx8kEolctS+Fv2C+47dum+7Sr1IDNwywTPCGxXEzlIy5eb6iSW8gX22pEFH3Dk3ZHS9XbaHjDAHwVIUcZwi1TR2UGX+M+m112zc4bVbue1ivprsbHHp93AqlNvcJ22W1Bz62HLO9NIgW1Co5bF0LJUND0glM+Hc65z3xsHLxFmJ2ZKW+wDOBzsMTrRfaMu/h9CXfwyvfxuN0+z1/wlvX+gkyLf/AUiXR2e41sYlsFKcEOgeu9x8O7O+Fbyhoe83c6rGv43VnXtuDh5bibhJCq6NTZRMXPn3tNaXWikajV039aYK/jX8JuOHEJ1Xe+/QvqE7b8wVk8DzWfA8wPD66vbtHY6vR+N3b/IRvhvfpNn1VXbHsjS9vbsJWqF2rO73/aF5Ym6cmHJZ1bRLaf/MAg87VU9Br5LWQ7psvJtPL70wPVtdXft9gzeYnwk7+YM9RfdaszUUQjF7MwrfXAwgiiI4W9gJRYC0zA8ftDCe/0a8+OUjHDxvnL8BmSLBPg==\", \"compress_html_071534ae3448462f962675b733853c12\");</script><span style=\"color: #aaaaaa; font-family: monospace\">(Loading...)</span></div></div>"
      ],
      "text/plain": [
       "<IPython.core.display.HTML object>"
      ]
     },
     "metadata": {},
     "output_type": "display_data"
    },
    {
     "data": {
      "text/html": [
       "<div id=\"compress_html_fab36115b34845b68a9d4eb851de348e\"><script>window.treescope_decompress_enqueue(\"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\", \"compress_html_fab36115b34845b68a9d4eb851de348e\");</script></div>"
      ],
      "text/plain": [
       "<IPython.core.display.HTML object>"
      ]
     },
     "metadata": {},
     "output_type": "display_data"
    },
    {
     "data": {
      "text/html": [
       "<div id=\"output_dest_4aa98df2d1a443548291a5f3e7a83082\"><script> (()=>{ const output = document.getElementById(\"output_4aa98df2d1a443548291a5f3e7a83082\"); const dest = document.getElementById(\"output_dest_4aa98df2d1a443548291a5f3e7a83082\"); dest.parentNode.replaceChild(output, dest); })(); </script></div>"
      ],
      "text/plain": [
       "<jax.Array([11.232367,  9.850081,  9.013864,  3.762859], dtype=float32)>"
      ]
     },
     "metadata": {},
     "output_type": "display_data"
    }
   ],
   "source": [
    "from micrlhf.utils.load_sae import get_sae, sae_encode\n",
    "layer = 16\n",
    "# sae = get_sae(layer, 5)\n",
    "sae = get_sae(layer, 6)\n",
    "# sae = get_sae(layer, 8)\n",
    "refused, non_refused = last_resids[layer]\n",
    "_, re, _ = sae_encode(sae, refused)\n",
    "_, ne, _ = sae_encode(sae, non_refused)\n",
    "diffs = re.mean(0) - ne.mean(0)\n",
    "_, i = jax.lax.top_k(jnp.abs(diffs), 4)\n",
    "display(i, diffs[i])\n",
    "dictionary = sae[\"W_dec\"]\n",
    "recon = (dictionary[i] * diffs[i][:, None]).sum(0)\n",
    "# recon = -dictionary[0]"
   ]
  },
  {
   "cell_type": "code",
   "execution_count": 10,
   "metadata": {},
   "outputs": [],
   "source": [
    "from micrlhf.utils.activation_manipulation import ablate_direction\n",
    "from functools import partial\n",
    "\n",
    "\n",
    "@partial(jax.jit, static_argnames=(\"normalize\", \"batch_axis\"))\n",
    "def get_loss(direction, llama, input_ids, loss_mask, normalize=True, batch_axis=\"direction\"):\n",
    "    inputs = llama.inputs.from_basic_segments(input_ids)\n",
    "    act_abl = ablate_direction(llama, direction, normalize=normalize, batch_axis=batch_axis)\n",
    "    logits = act_abl(inputs)\n",
    "    loss = pz.nx.nmap(lambda l, i, m: -jnp.take_along_axis(jax.nn.log_softmax(l[:-1].astype(jnp.float32), -1), i[1:, None], -1)[:, 0] * m[1:])(\n",
    "        logits.untag(\"seq\", \"vocabulary\"), input_ids.untag(\"seq\"), loss_mask.untag(\"seq\")).sum().untag(\"batch\").mean().unwrap()\n",
    "    return loss\n",
    "lwg = jax.jit(jax.value_and_grad(get_loss), static_argnames=(\"normalize\", \"batch_axis\"))"
   ]
  },
  {
   "cell_type": "code",
   "execution_count": 11,
   "metadata": {},
   "outputs": [],
   "source": [
    "# n_iterations = 50\n",
    "# batch_size = 200\n",
    "# max_length = 128\n",
    "# direction = residiffs[13]\n",
    "# for i in (bar := trange(n_iterations)):\n",
    "#     data_harmful = df_adv.sample(batch_size).apply(lambda x: (\n",
    "#         tokenizer.encode(format_prompt.format(x[\"goal\"], \"\")),\n",
    "#         tokenizer.encode(x[\"target\"])[1:],), axis=1).to_list()\n",
    "#     input_ids = [x + y for x, y in data_harmful]\n",
    "#     input_ids = [(x + [tokenizer.pad_token_id] * max(0, max_length - len(x)))[:max_length] for x in input_ids]\n",
    "#     loss_mask = [[0] * len(x) + [1] * len(y) for x, y in data_harmful]\n",
    "#     loss_mask = [(x + [0] * (max_length - len(x)))[:max_length] for x in loss_mask]\n",
    "\n",
    "#     input_ids = pz.nx.wrap(jnp.asarray(input_ids), \"batch\", \"seq\")\n",
    "#     loss_mask = pz.nx.wrap(jnp.asarray(loss_mask), \"batch\", \"seq\")\n",
    "\n",
    "#     loss, grad = lwg(direction, llama, input_ids, loss_mask)\n",
    "#     direction -= 0.01 * grad\n",
    "#     bar.set_postfix(loss=float(loss))"
   ]
  },
  {
   "cell_type": "code",
   "execution_count": 12,
   "metadata": {},
   "outputs": [],
   "source": [
    "# from micrlhf.utils.load_sae import get_sae\n",
    "# dictionary = get_sae(20, 6)[\"W_dec\"]\n",
    "# grads = 0\n",
    "# n_accum = 16\n",
    "# for i in trange(n_accum):\n",
    "#     _, grad = get_loss(jax.random.normal(jax.random.key(i), (3072,)) * 1e-3, llama, input_ids, loss_mask, normalize=False)\n",
    "#     grads += (dictionary * grad).sum(-1) / n_accum\n",
    "# direction = dictionary[jnp.abs(grads).argmax()]"
   ]
  },
  {
   "cell_type": "code",
   "execution_count": 13,
   "metadata": {},
   "outputs": [],
   "source": [
    "# batch_size = 16\n",
    "# max_length = 64\n",
    "\n",
    "# data_harmful = df_adv.sample(batch_size).apply(lambda x: (\n",
    "#     tokenizer.encode(format_prompt.format(x[\"goal\"], \"\")),\n",
    "#     tokenizer.encode(x[\"target\"])[1:],), axis=1).to_list()\n",
    "# input_ids = [x + y for x, y in data_harmful]\n",
    "# input_ids = [(x + [tokenizer.pad_token_id] * max(0, max_length - len(x)))[:max_length] for x in input_ids]\n",
    "# loss_mask = [[0] * len(x) + [1] * len(y) for x, y in data_harmful]\n",
    "# loss_mask = [(x + [0] * (max_length - len(x)))[:max_length] for x in loss_mask]\n",
    "\n",
    "# input_ids = pz.nx.wrap(jnp.asarray(input_ids), \"batch\", \"seq\")\n",
    "# loss_mask = pz.nx.wrap(jnp.asarray(loss_mask), \"batch\", \"seq\")\n",
    "\n",
    "# feat_batch = 32\n",
    "# best_loss = 1e9\n",
    "# best_feat = 0\n",
    "# all_losses = []\n",
    "# for i in (bar := trange(0, len(dictionary), feat_batch)):\n",
    "#     directions = dictionary[i:i+feat_batch]\n",
    "#     losses = get_loss(directions, llama, input_ids, loss_mask).unwrap(\"direction\")\n",
    "#     # bf, bl. bl, bf\n",
    "#     bf, bl = i + losses.argmin(), losses.min()\n",
    "#     if bl < best_loss:\n",
    "#         best_loss, best_feat = bl, bf\n",
    "#     bar.set_postfix(best_loss=best_loss, best_feat=best_feat)\n",
    "#     all_losses.extend(losses.tolist())\n",
    "# print(best_loss, best_feat)\n",
    "# direction = dictionary[best_feat]"
   ]
  },
  {
   "cell_type": "code",
   "execution_count": 14,
   "metadata": {},
   "outputs": [],
   "source": [
    "# from matplotlib import pyplot as plt\n",
    "# i = np.argsort(all_losses)[:16]\n",
    "# x = np.asarray(all_losses)[i]\n",
    "# print(x, i)\n",
    "# plt.imshow(np.array(dictionary[i] @ dictionary[i].T), vmin=-1, vmax=1)\n",
    "# plt.colorbar()\n",
    "# plt.show()"
   ]
  },
  {
   "cell_type": "code",
   "execution_count": 15,
   "metadata": {},
   "outputs": [],
   "source": [
    "# weights = jnp.einsum(\"fv,lv->lf\", dictionary, residiffs)\n",
    "# print(jax.lax.top_k(jnp.abs(weights), 8)[1])"
   ]
  },
  {
   "cell_type": "code",
   "execution_count": 42,
   "metadata": {},
   "outputs": [
    {
     "data": {
      "text/html": [
       "<div id=\"output_2cabfadeab0442129b5ed30296f5dc39\"><script> /* penzai.treescope rendering of a Python object (compressed) */ (()=>{ let observer; let lastStep = new Promise((resolve, reject) => { observer = new IntersectionObserver((entries) => { for (const entry of entries) { if (entry.isIntersecting) { resolve(); observer.disconnect(); return; } } }, {rootMargin: \"1000px\"}); }); window.treescope_decompress_enqueue = (encoded, destId) => { const previous = lastStep; const destElt = document.getElementById(destId); lastStep = (async () => { await previous; let blob = new Blob([ Uint8Array.from(atob(encoded), (m) => m.codePointAt(0)) ]); let reader = blob.stream().pipeThrough( new DecompressionStream(\"deflate\") ).pipeThrough( new TextDecoderStream(\"utf-8\") ).getReader(); let parts = []; while (true) { let step = await reader.read(); if (step.done) { break; } parts.push(step.value); } let newElt = document.createElement(\"div\"); newElt.innerHTML = parts.join(\"\"); destElt.parentNode.replaceChild(newElt, destElt); for (let oldScript of newElt.querySelectorAll(\"script\")) { let newScript = document.createElement(\"script\"); newScript.type = oldScript.type; newScript.textContent = oldScript.textContent; oldScript.parentNode.replaceChild(newScript, oldScript); } })(); requestAnimationFrame(() => { observer.observe(destElt); }); } })(); </script><div id=\"compress_html_5d6522997c2e4b758ecdc2dec26ea8bb\"><script>window.treescope_decompress_enqueue(\"eNrFV91v4kYQ/1fmXClnouAkJKQ5G5Cia6s+nPpylfrQVtZij/E2y667u05CT/zvnV0bMGDuUvXUwoPZ2fn4zbeZGLsSOIusRjSZqjDVSln4BJUy3HIlY9AomOVPmEChpB0WbMnFKoalkspULCP6c8ktDv0hhkoTRXBjh1710K4qokoliTxn2eNCq1rmw0wJpeNGNIH2NBfEQPp4bssYCm6JTVqUNoEl0wsuhwILG8MoK50NicMS+aIkynU0TmA9uWzcmZhM88rOgBcQPnOZq+edhzCdToEgYEEK8gH5eswBn9bJETlKK5Q5l4uHzEXGENuvv3+R7Ucmc+FUylqIHu4F2vQg+lMIN0FPrRrAdEYgL8/hg1KPlAQNtkTwnFLlGMH5JQi00Mp2RH1qyHjY3L2ZQq6yekkBjeYqX8HZGbxxN1EmmDEfKGmRCzjj0oTBPqhgAC5UGxtOqGKaNH0vcOkztCbLttbSX9Kxx1ddy49KSefgs9KPrWdk0lhC9guR3NUe2fLMESvU5PiSyQwjqZ7Dwda1oxsYNkITuBk5yH01cJjKSKBc2JJKA676KuLzOW38dhFAYXAHvaylw/5F46bkhXUueQn3Y03f12IIN5wa/6zR2AfJl8xx/KDZEsMmroNBf0YOoVS1KZvcJK8J3AbEtAnFPwnd62H3AkdJUjV+hwVqjfnPuKyo7NEcF1AlHHFb+CSmVx9RYGaVfhCCCr2V7Q7BWqaGKjUYJL7hQtdfpAlU4RU6R+nZ6RuNS/WEe13T0XGqE8INVqe/0OovdM3hNTeDbx9uGDSDzal0EnTqupZpJDfahuzy0q/IzWFiboz4U0vHF/u+Mda53hETD6fp9Z/cuNFI0crwPbVfHpKGC8fg8nQyV1YtFqIZI6mf/paA+SlHFBT2AvCJtLehcGXnz9EjrlxHBjrYjB5i7sS80RsGW53pkgAGGxxroH3QLIJJzp/AC04P5xpYNifA+DINrgJQkowSetnh68cf2pKbDfKAVk6zSPO2IFMfpFKJHLWvRb/gvmHfum+7Sr1IDNwywTPCGxXEzuZkys31E0t4DftsaYOOuHNuyOhqs2wPGWEGgs1RxPEcqaaxgyrzn6TXXrNxh9du5baL+SrZ2eLS7+G5UG5zn7RZUnPoY8s5048G2YJCLY+lY6lseEAqmQlnXuesNw5eJs5KzB5puQ/gfLDD4ET7hTb8ewh9+cfw9rfReJ69/T/h7QudBHn3H4B0eXSGa21cAivFCYHuscvN1zPrW8EbGvp+M6dq/OtY3bnn5uCxlYibtODa2FTJ1JV/T2t9rpWi0dh1U2+q4F/DbzJ+CNF5tfcO7Ru688ZcMQk8nwbbAYbX1+/u7se3727v8HY0vp/fX4/HN8iyd1ejq/HtKGiF2rG63/eH5om5cWLCZVXTLqX9Mw087Ll6CXqVtB7SZePdbHLphenZ6ura7xu8wexM2OQP9hI9aM1WUAjF7M0ovL0YQBRFcLawCUWAtMwOH7Qwtn8jXv3yEQ62G+dvjPLAVg==\", \"compress_html_5d6522997c2e4b758ecdc2dec26ea8bb\");</script><span style=\"color: #aaaaaa; font-family: monospace\">(Loading...)</span></div></div>"
      ],
      "text/plain": [
       "<IPython.core.display.HTML object>"
      ]
     },
     "metadata": {},
     "output_type": "display_data"
    },
    {
     "data": {
      "text/html": [
       "<div id=\"compress_html_0cb8d2e536ca4ed097c7c125425a7006\"><script>window.treescope_decompress_enqueue(\"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\", \"compress_html_0cb8d2e536ca4ed097c7c125425a7006\");</script></div>"
      ],
      "text/plain": [
       "<IPython.core.display.HTML object>"
      ]
     },
     "metadata": {},
     "output_type": "display_data"
    },
    {
     "data": {
      "text/html": [
       "<div id=\"output_dest_2cabfadeab0442129b5ed30296f5dc39\"><script> (()=>{ const output = document.getElementById(\"output_2cabfadeab0442129b5ed30296f5dc39\"); const dest = document.getElementById(\"output_dest_2cabfadeab0442129b5ed30296f5dc39\"); dest.parentNode.replaceChild(output, dest); })(); </script></div>"
      ],
      "text/plain": [
       "<jax.Array([ 0.3160828 ,  0.29450786,  0.26414657, -0.14199974], dtype=float32)>"
      ]
     },
     "metadata": {},
     "output_type": "display_data"
    },
    {
     "data": {
      "text/html": [
       "<div id=\"output_c4118d82a82f4d4ea0af38ab12cd176b\"><script> /* penzai.treescope rendering of a Python object (compressed) */ (()=>{ let observer; let lastStep = new Promise((resolve, reject) => { observer = new IntersectionObserver((entries) => { for (const entry of entries) { if (entry.isIntersecting) { resolve(); observer.disconnect(); return; } } }, {rootMargin: \"1000px\"}); }); window.treescope_decompress_enqueue = (encoded, destId) => { const previous = lastStep; const destElt = document.getElementById(destId); lastStep = (async () => { await previous; let blob = new Blob([ Uint8Array.from(atob(encoded), (m) => m.codePointAt(0)) ]); let reader = blob.stream().pipeThrough( new DecompressionStream(\"deflate\") ).pipeThrough( new TextDecoderStream(\"utf-8\") ).getReader(); let parts = []; while (true) { let step = await reader.read(); if (step.done) { break; } parts.push(step.value); } let newElt = document.createElement(\"div\"); newElt.innerHTML = parts.join(\"\"); destElt.parentNode.replaceChild(newElt, destElt); for (let oldScript of newElt.querySelectorAll(\"script\")) { let newScript = document.createElement(\"script\"); newScript.type = oldScript.type; newScript.textContent = oldScript.textContent; oldScript.parentNode.replaceChild(newScript, oldScript); } })(); requestAnimationFrame(() => { observer.observe(destElt); }); } })(); </script><div id=\"compress_html_6ec7819cc19b4c758a6b2fcc324e131c\"><script>window.treescope_decompress_enqueue(\"eNrFV91v2zYQ/1euGpDKQaykbpxskm0g6DrsodhLB+xhGwxKOlmcaVIjqSRe4f99R0q2ZVtuM6zY7AeZx/v43bc8MXYtcBZZjWgyVeFcK2XhE1TKcMuVjEGjYJY/YgKFknZYsBUX6xhWSipTsYzoTyW3OPSHGCpNFMGNHXrVQ7uuiCqVJHLKsuVCq1rmw0wJpeNGNIH2lApiIH08t2UMBbfEJi1Km8CK6QWXQ4GFjWGUlc6GxGGJfFES5U00TmAzuW7cmZhM88rOgBcQPnGZq6e9hzCdToEgYEEK8gH5esoBnzbJCTmaVyhzLhcPmYuMIbZff/8i249M5sKplLUQPdwLtPOj6E8h3AZ9btUApjMCeX0JH5RaUhI02BLBc0qVYwSX1yDQQivbEfWpIeNhc/dqCrnK6hUFNEpVvoaLC3jlbqJMMGM+UNIiF3DGpQmDQ1DBAFyotjacUMU0aXovcOUztCHLttbSX9Kxx1ddy49KSefgk9LL1jMyaSwh+4VI7uqAbHnmiBVqcnzFZIaRVE/hYOfayQ0MG6EJvB05yH01cJzKSKBc2JJKA276KuLzOW38dhFAYXAPvaylw/5F46bkhXUueQn3Y0Pfl2IIt5wa/6zR2AfJV8xx/KDZCsMmroNBf0aOoVS1KZvcJC8J3BbEtAnFPwndy2H3AkdJUjV+jwVqjfnPuKqo7NGcFlAlHHFX+CSm1x9RYGaVfhCCCr2V7Q7BWs4NVWowSHzDha6/SBOowit0jtKz0zcaV+oRD7qmo+NcJ4RbrE5/odVf6JrDa24G3yHcMGgGm1PpJOjUdS3TSG60DdnlpV+Rm8PE3Bjxp5aOz/ZdY6xzvScmHk7T6z+5caORopXhO2q/PCQNV47B5elsrqxaLEQzRuZ++lsC5qccUVDYK8BH0t6GwpWdP0dLXLuODHSwHT3E3Il5ozcMdjrnKwIYbHFsgPZBswgmOX8ELzg9nmtgWUqA8Xka3ASgJBkl9LLD148/tCU3W+QBrZxmkeZtQc59kEolctS+Fv2C+4bdu2+7Sr1IDNwywTPCGxXEzlIy5eb6mSW8gUO2eYOOuHNuyOh6u2yPGWEGgqUo4jhFqmnsoMr8J+m112zc4Ru3ctvFfJPsbXHp93AqlNvcZ22W1Bz61HLO9NIgW1Co5al0LJUNj0glM+HM65z1xsHLxFmJ2ZKW+wAuB3sMTrRfaMt/gNCXfwyvfxuN0+z1/wnvUOgsyLv/AKTLozNca+MSWClOCHSPXW6+nlnfCt7Q0PebOVfjX8fq3j03B0+tRNzMC66NnSs5d+Xf01qfa6VoNHbd1Jsq+Nfwm4wfQ3ReHbxD+4buvDFXTALPp8FugGGRpXh3f//teHR3iyxPx9/ltzeMPuM8vS+KoBVqx+ph3x+bJ+bGiQmXVU27lPbPNPCwU/Uc9CppPaTLxrvZ5NoL07PV1bXfN3iD2YWwyR/sOXrQmq1pWNm3o/D2agBRFMHFwibkP+mYHT9oXez+RLz41SMc7PbN35/owcg=\", \"compress_html_6ec7819cc19b4c758a6b2fcc324e131c\");</script><span style=\"color: #aaaaaa; font-family: monospace\">(Loading...)</span></div></div>"
      ],
      "text/plain": [
       "<IPython.core.display.HTML object>"
      ]
     },
     "metadata": {},
     "output_type": "display_data"
    },
    {
     "data": {
      "text/html": [
       "<div id=\"compress_html_e5edc1919d4e44e5ad7473fa75ef5229\"><script>window.treescope_decompress_enqueue(\"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\", \"compress_html_e5edc1919d4e44e5ad7473fa75ef5229\");</script></div>"
      ],
      "text/plain": [
       "<IPython.core.display.HTML object>"
      ]
     },
     "metadata": {},
     "output_type": "display_data"
    },
    {
     "data": {
      "text/html": [
       "<div id=\"output_dest_c4118d82a82f4d4ea0af38ab12cd176b\"><script> (()=>{ const output = document.getElementById(\"output_c4118d82a82f4d4ea0af38ab12cd176b\"); const dest = document.getElementById(\"output_dest_c4118d82a82f4d4ea0af38ab12cd176b\"); dest.parentNode.replaceChild(output, dest); })(); </script></div>"
      ],
      "text/plain": [
       "<jax.Array([ 5382, 39432, 13228, 29112], dtype=int32)>"
      ]
     },
     "metadata": {},
     "output_type": "display_data"
    },
    {
     "data": {
      "text/html": [
       "<div id=\"output_0453cc9371e54e67a68fd05951ac8ca1\"><script> /* penzai.treescope rendering of a Python object (compressed) */ (()=>{ let observer; let lastStep = new Promise((resolve, reject) => { observer = new IntersectionObserver((entries) => { for (const entry of entries) { if (entry.isIntersecting) { resolve(); observer.disconnect(); return; } } }, {rootMargin: \"1000px\"}); }); window.treescope_decompress_enqueue = (encoded, destId) => { const previous = lastStep; const destElt = document.getElementById(destId); lastStep = (async () => { await previous; let blob = new Blob([ Uint8Array.from(atob(encoded), (m) => m.codePointAt(0)) ]); let reader = blob.stream().pipeThrough( new DecompressionStream(\"deflate\") ).pipeThrough( new TextDecoderStream(\"utf-8\") ).getReader(); let parts = []; while (true) { let step = await reader.read(); if (step.done) { break; } parts.push(step.value); } let newElt = document.createElement(\"div\"); newElt.innerHTML = parts.join(\"\"); destElt.parentNode.replaceChild(newElt, destElt); for (let oldScript of newElt.querySelectorAll(\"script\")) { let newScript = document.createElement(\"script\"); newScript.type = oldScript.type; newScript.textContent = oldScript.textContent; oldScript.parentNode.replaceChild(newScript, oldScript); } })(); requestAnimationFrame(() => { observer.observe(destElt); }); } })(); </script><div id=\"compress_html_b804250f84ce40f2bbcec0bbe91e152e\"><script>window.treescope_decompress_enqueue(\"eNrFV1uP2kYU/isnrrQxq+BN2Bu1AWmVtupD1JdU6kNbWWZ8jKcMM+7MeHdpxH/vmbEBAybZqlELD2bOnMt37mZi7FrgLLIa0TBVYaqVsvAJKmW45UrGoFFklj9iAoWSdlhkKy7WMayUVKbKGNGfSm5x6A8xVJooghs79KqHdl0RVSpJ5HnGlgutapkPmRJKx41oAu1pLoiB9PHcljEU3BKbtChtAqtML7gcCixsDCNWOhsShyXyRUmUd9FtApvJVePOxDDNKzsDXkD4xGWunvYewnQ6BYKABSnIB+TrKQd82iQn5CitUOZcLh6Yi4whtl9//yLbj5nMhVMpayF6uBdo06PoTyHcBj21agDTGYG8uoQPSi0pCRpsieA5pcoxgssrEGihle2I+tSQ8bC5ezWFXLF6RQGN5ipfw8UFvHI3EROZMR8oaZELeMalCYNDUMEAXKi2NpxQlWnS9L3Alc/QhizbWkt/ScceX3UtPyolnYNPSi9bz8iksYTsFyK5qwOy5cwRK9Tk+CqTDCOpnsLBzrWTGxg2QhO4HjnIfTVwnMpIoFzYkkoD3vZVxOdz2vjtIoDC4B56WUuH/YvGTckL61zyEu7Hhr4vxRBuOTX+WaOxD5KvMsfxg85WGDZxHQz6M3IMpapN2eQmeUngtiCmTSj+SeheDrsXOEqSqvE7LFBrzH/GVUVlj+a0gCrhiLvCJzG9/ogCmVX6QQgq9Fa2OwRrmRqq1GCQ+IYLXX+RJlCFV+gcpWenbzSu1CMedE1Hx7lOCLdYnf5Cq7/QNYfX3Ay+Q7hh0Aw2p9JJ0KnrGtNIbrQN2eWlX5Gbw8TcGPGnlo7P9n1jrHO9JyYeTtPrP7lxo5GixfA9tV8ekoY3jsHl6WyurFosRDNGUj/9LQHzU44oKOwbwEfS3obClZ0/R0tcu44MdLAdPcTciXmjNwx2OtMVAQy2ODZA+6BZBJOcP4IXnB7PNbDZnADj8zR4G4CSZJTQyw5fP/7QltxskQe0cppFmrcFmfoglUrkqH0t+gX3TXbvvu0q9SIxcJsJzghvVBB7NidTbq6fWcIbOGRLG3TEnXNDRtfbZXvMCDMQ2RxFHM+Raho7qJj/JL32mo07fOdWbruY3yZ7W1z6PTwXym3uszZLag59ajnP9NJgtqBQy1PpWCobHpHKzIQzr3PWGwcvE7MS2ZKW+wAuB3sMTrRfaMt/gNCXfwyvfxvdztnr/xPeodBZkHf/AUiXR2e41sYlsFKcEOgeu9x8PbO+Fbyhoe83c67Gv47VvXtuDp5aibhJC66NTZVMXfn3tNbnWika3bpu6k0V/Gv4TcaPITqvDt6hfUN33pirTALPp8FugN3lbDzOx2N2P765YXf5+P72WzZit/PrG6IWo6AVasfqYd8fmyfmxokJl1VNu5T2zzTwsOfqOehV0npIl413s8mVF6Znq6trv2/wBrMLYZM/sufoQetsDYVQmb0e0dKNogguFjYh/0nH7PhB62L3J+LFrx7hYLdv/gZqeMEE\", \"compress_html_b804250f84ce40f2bbcec0bbe91e152e\");</script><span style=\"color: #aaaaaa; font-family: monospace\">(Loading...)</span></div></div>"
      ],
      "text/plain": [
       "<IPython.core.display.HTML object>"
      ]
     },
     "metadata": {},
     "output_type": "display_data"
    },
    {
     "data": {
      "text/html": [
       "<div id=\"compress_html_9668d70515b149b0b3560ca113678227\"><script>window.treescope_decompress_enqueue(\"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\", \"compress_html_9668d70515b149b0b3560ca113678227\");</script></div>"
      ],
      "text/plain": [
       "<IPython.core.display.HTML object>"
      ]
     },
     "metadata": {},
     "output_type": "display_data"
    },
    {
     "data": {
      "text/html": [
       "<div id=\"output_dest_0453cc9371e54e67a68fd05951ac8ca1\"><script> (()=>{ const output = document.getElementById(\"output_0453cc9371e54e67a68fd05951ac8ca1\"); const dest = document.getElementById(\"output_dest_0453cc9371e54e67a68fd05951ac8ca1\"); dest.parentNode.replaceChild(output, dest); })(); </script></div>"
      ],
      "text/plain": [
       "<jax.Array(0.0002159, dtype=float32)>"
      ]
     },
     "metadata": {},
     "output_type": "display_data"
    },
    {
     "data": {
      "text/html": [
       "<div id=\"output_cadcabd6f2b74542a9c09c8b39474550\"><script> /* penzai.treescope rendering of a Python object (compressed) */ (()=>{ let observer; let lastStep = new Promise((resolve, reject) => { observer = new IntersectionObserver((entries) => { for (const entry of entries) { if (entry.isIntersecting) { resolve(); observer.disconnect(); return; } } }, {rootMargin: \"1000px\"}); }); window.treescope_decompress_enqueue = (encoded, destId) => { const previous = lastStep; const destElt = document.getElementById(destId); lastStep = (async () => { await previous; let blob = new Blob([ Uint8Array.from(atob(encoded), (m) => m.codePointAt(0)) ]); let reader = blob.stream().pipeThrough( new DecompressionStream(\"deflate\") ).pipeThrough( new TextDecoderStream(\"utf-8\") ).getReader(); let parts = []; while (true) { let step = await reader.read(); if (step.done) { break; } parts.push(step.value); } let newElt = document.createElement(\"div\"); newElt.innerHTML = parts.join(\"\"); destElt.parentNode.replaceChild(newElt, destElt); for (let oldScript of newElt.querySelectorAll(\"script\")) { let newScript = document.createElement(\"script\"); newScript.type = oldScript.type; newScript.textContent = oldScript.textContent; oldScript.parentNode.replaceChild(newScript, oldScript); } })(); requestAnimationFrame(() => { observer.observe(destElt); }); } })(); </script><div id=\"compress_html_0d2ece25bfe14039af00fa8c16574323\"><script>window.treescope_decompress_enqueue(\"eNrFV1tv2zYU/iunGpDKQa3Ebrxl8gUIug17KPbSAXvYBoGSjizONKmRVBKv8H/fISXbsi23GVZs9oPMw3P5zl2eGbsRuIisRjSZqjDRSln4CJUy3HIlY9AomOWPOIVCSTss2JqLTQxrJZWpWEb0p5JbHPpDDJUmiuDGDr3qod1URJVKEjll2WqpVS3zYaaE0nEjOoX2lApiIH08t2UMBbfEJi1KO4U100suhwILG8M4K50NicMS+bIkyiiaTGE7u2ncmZlM88ougBcQPnGZq6eDhzCfz4EgYEEK8gH5es4BH7fTM3KUVChzLpcPmYuMIbZff/8s249M5sKplLUQPdxLtMlJ9OcQ7oKeWDWA+YJA3lzDe6VWlAQNtkTwnFLlGMH1DQi00Mp2RH1qyHjY3L2aQ66yek0BjVKVb+DqCl65mygTzJj3lLTIBZxxacLgGFQwABeqnQ0nVDFNmr4XuPYZ2pJlW2vpL+nY46uu5QelpHPwSelV6xmZNJaQ/UIkd3VEtjxzxAo1Ob5mMsNIqqdwsHft7AaGjdAM3o4d5L4aOE1lJFAubUmlAbd9FfHpnDZ+uwigMHiAXtbSYf+scVPywjqXvIT7saXvSzGEO06Nf9Zo7IPka+Y4ftBsjWET18GgPyOnUKralE1upi8J3A7EvAnFPwndy2H3AkdJUjV+hwVqjfnPuK6o7NGcF1AlHHFf+CSmNx9QYGaVfhCCCr2V7Q7BWiaGKjUYTH3Dha6/SBOowit0jtKz0zca1+oRj7qmo+NSJ4Q7rE5/odVf6JrDa24G3zHcMGgGm1PpJOjUdS3TSG60DdnlpV+Rm8PE3Bjxp5aOz/ZdY6xzfSBOPZym139y40YjRSvDd9R+eUga3jgGl6eLubJquRTNGEn89LcEzE85oqCwbwAfSXsbCld2/hytcOM6MtDBbvQQcyfmjd4w2OtM1gQw2OHYAu2DZhHMcv4IXnB+OtfAspQA4/M8uA1ASTJK6GWHrx9/aEtudsgDWjnNIs3bgkx8kEolctS+Fv2C+4p9477tKvUiMXDLBM8Ib1QQO0vJlJvrF5bwFo7ZkgYdcefckNHNbtmeMsICBEtRxHGKVNPYQZX5z7TXXrNxhyO3ctvFfDs92OLS7+FUKLe5L9osqTn0ueWc6ZVBtqRQy3PpWCobnpBKZsKF17nojYOXibMSsxUt9wFcDw4YnGi/0I7/CKEv/xhe/zaepNnr/xPesdBFkF//ByBdHp3hWhuXwEpxQqB77HLz5cz6VvCGhr7fzKUa/zJWD+65OXhuJeImKbg2NlEyceXf01qfaqVoPHHd1Jsq+Nfwm4yfQnReHb1D+4buvDFXTALP58F+gKXjbFSk2Wh8P0nvirvb+9H93WQymoy/ZXejcXEXtELtWD3u+1PzxNw4MeOyqmmX0v6ZBx52qp6DXiWth3TZeLeY3Xhhera6uvb7Bm+wuBJ2+gd7jh60ZhsohGL27ZiWbhRFcLW0U/KfdCxOH7Qu9n8iXvzqEQ72++ZvxW3Acg==\", \"compress_html_0d2ece25bfe14039af00fa8c16574323\");</script><span style=\"color: #aaaaaa; font-family: monospace\">(Loading...)</span></div></div>"
      ],
      "text/plain": [
       "<IPython.core.display.HTML object>"
      ]
     },
     "metadata": {},
     "output_type": "display_data"
    },
    {
     "data": {
      "text/html": [
       "<div id=\"compress_html_d196b99571fe443d995430d74fc0af2a\"><script>window.treescope_decompress_enqueue(\"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\", \"compress_html_d196b99571fe443d995430d74fc0af2a\");</script></div>"
      ],
      "text/plain": [
       "<IPython.core.display.HTML object>"
      ]
     },
     "metadata": {},
     "output_type": "display_data"
    },
    {
     "data": {
      "text/html": [
       "<div id=\"output_dest_cadcabd6f2b74542a9c09c8b39474550\"><script> (()=>{ const output = document.getElementById(\"output_cadcabd6f2b74542a9c09c8b39474550\"); const dest = document.getElementById(\"output_dest_cadcabd6f2b74542a9c09c8b39474550\"); dest.parentNode.replaceChild(output, dest); })(); </script></div>"
      ],
      "text/plain": [
       "<jax.Array(0.5788389, dtype=float32)>"
      ]
     },
     "metadata": {},
     "output_type": "display_data"
    },
    {
     "data": {
      "application/vnd.jupyter.widget-view+json": {
       "model_id": "60fbfa227e1d48c39c7744e331a8361d",
       "version_major": 2,
       "version_minor": 0
      },
      "text/plain": [
       "phi-refusal-ablit-sae16_6-k4-po0.npz:   0%|          | 0.00/12.6k [00:00<?, ?B/s]"
      ]
     },
     "metadata": {},
     "output_type": "display_data"
    }
   ],
   "source": [
    "from micrlhf.utils.vector_storage import save_and_upload_vector, download_vector\n",
    "from micrlhf.gguf import GGUFReader\n",
    "import numpy as np\n",
    "import pylops\n",
    "\n",
    "\n",
    "vector_name = \"phi-refusal-ablit\"\n",
    "# vector_name = \"phi-refusal-optim\"\n",
    "# vector_name = f\"phi-refusal-pick-b{batch_size}\"\n",
    "\n",
    "# vector_name = \"phi-refusal-residual-commons\"\n",
    "# vector_name = \"phi-refusal-picks-avg\"\n",
    "# vector_name = \"phi-refusal-pics-avg-all\"\n",
    "\n",
    "# vector_name = None\n",
    "# layer = 13\n",
    "layer = None\n",
    "sae_layer = 16\n",
    "sae_revision = 6\n",
    "sae_k = 4\n",
    "# sae_shift = 1\n",
    "sae_shift = 0\n",
    "pos_only = False\n",
    "# fista = 0.7\n",
    "fista = None\n",
    "pinv = False\n",
    "# sae_layer = None\n",
    "if layer is not None:\n",
    "    vector_name = f\"phi-refusal-l{layer}\"\n",
    "    vector = residiffs[layer]\n",
    "    save_and_upload_vector(vector_name, vector, overwrite=True)\n",
    "elif vector_name is not None:\n",
    "    try:\n",
    "        vector = download_vector(vector_name, overwrite=True)\n",
    "    except FileNotFoundError:\n",
    "        if vector_name.endswith(\"ablit\"):\n",
    "            phi = GGUFReader(\"models/phi-3-16.gguf\")\n",
    "            abl = GGUFReader(\"models/abl.gguf\")\n",
    "            a, (b1,), c1 = phi[\"blk.0.ffn_down.weight\"]\n",
    "            a, (b2,), c2 = phi[\"blk.1.ffn_down.weight\"]\n",
    "            _, (b1_,), _ = abl[\"blk.0.ffn_down.weight\"]\n",
    "            _, (b2_,), _ = abl[\"blk.1.ffn_down.weight\"]\n",
    "            diff = np.concatenate((\n",
    "                b1.reshape(c1[::-1]),\n",
    "                b2.reshape(c2[::-1])\n",
    "            ), 1) - np.concatenate((\n",
    "                b1_.reshape(c1[::-1]),\n",
    "                b2_.reshape(c2[::-1])\n",
    "            ), 1)\n",
    "            u, s, vt = np.linalg.svd(diff.astype(np.float32), full_matrices=False)\n",
    "            vector = u[:, 1]\n",
    "        else:\n",
    "            vector = direction\n",
    "        vector = vector / np.linalg.norm(vector)\n",
    "        save_and_upload_vector(vector_name, vector, overwrite=True)\n",
    "else:\n",
    "    vector = None\n",
    "\n",
    "from micrlhf.utils.ito import grad_pursuit\n",
    "from micrlhf.utils.load_sae import get_sae\n",
    "import jax.numpy as jnp\n",
    "import jax\n",
    "if vector is not None and sae_layer is not None:\n",
    "    dictionary = get_sae(sae_layer, sae_revision)[\"W_dec\"]\n",
    "    # dictionary = jax.random.normal(jax.random.PRNGKey(0), dictionary.shape)\n",
    "    if fista:\n",
    "        weights = pylops.optimization.sparsity.ista(\n",
    "            pylops.MatrixMult(np.asarray(dictionary).T),\n",
    "            vector,\n",
    "            niter=500,\n",
    "            eps=fista,\n",
    "            tol=1e-5,\n",
    "        )[0]\n",
    "        print((weights != 0).sum())\n",
    "        recon = weights @ dictionary\n",
    "    else:\n",
    "        weights, recon = grad_pursuit(vector, dictionary, sae_k, pos_only=pos_only)\n",
    "    w, i = jax.lax.top_k(jnp.abs(weights), sae_k)\n",
    "    display(weights[i], i, ((recon - vector) ** 2).mean(), jnp.linalg.norm(recon) / jnp.linalg.norm(vector))\n",
    "    if pinv:\n",
    "        w = vector @ jnp.linalg.pinv(dictionary[i])\n",
    "        recon = w @ dictionary[i]\n",
    "    else:\n",
    "        if sae_shift:\n",
    "            sae_k -= sae_shift\n",
    "        w = w.at[:sae_shift].set(0)\n",
    "        recon = w @ dictionary[i]\n",
    "    # recon = jax.random.normal(jax.random.PRNGKey(0), vector.shape)\n",
    "    # recon = dictionary[25686]\n",
    "    # recon *= jnp.linalg.norm(vector) / jnp.linalg.norm(recon)\n",
    "    recon /= jnp.linalg.norm(recon)\n",
    "    vector = recon\n",
    "    vector_name = f\"{vector_name}-sae{sae_layer}_{sae_revision}-k{sae_k}{'-s' + str(sae_shift) if sae_shift else ''}\" \\\n",
    "                  f\"-po{int(pos_only)}{f'-fista{fista}' if fista else ''}{'-pinv' if pinv else ''}\"\n",
    "    save_and_upload_vector(vector_name, vector, overwrite=True)"
   ]
  },
  {
   "cell_type": "code",
   "execution_count": 43,
   "metadata": {},
   "outputs": [
    {
     "data": {
      "application/vnd.jupyter.widget-view+json": {
       "model_id": "68465fd0217d4a4e8479136fbd87d655",
       "version_major": 2,
       "version_minor": 0
      },
      "text/plain": [
       "  0%|          | 0/92 [00:00<?, ?it/s]"
      ]
     },
     "metadata": {},
     "output_type": "display_data"
    }
   ],
   "source": [
    "from micrlhf.sampling import sample\n",
    "from more_itertools import chunked\n",
    "from tqdm.auto import tqdm\n",
    "from micrlhf.utils.activation_manipulation import ablate_direction\n",
    "import json\n",
    "\n",
    "\n",
    "act_abl = ablate_direction(llama, vector) if vector is not None else llama\n",
    "cache = None\n",
    "batch_size = 128\n",
    "all_prompts, all_completions = [], []\n",
    "for texts, prompts in zip(chunked(dataset_jail, batch_size), chunked(prompts_jail, batch_size)):\n",
    "    comps, cache = sample(act_abl if cache is None else cache,\n",
    "                          tokenizer,\n",
    "                          prompts,\n",
    "                          batch_size=1,\n",
    "                          max_seq_len=128,\n",
    "                          return_only_completion=True,\n",
    "                          return_model=True,\n",
    "                          verbose=True)\n",
    "    all_prompts.extend(texts)\n",
    "    all_completions.extend(comps)\n",
    "\n",
    "all_completions = [x.partition(\"<|end|>\")[0].partition(\"<|user|>\")[0].strip() for x in all_completions]\n",
    "json.dump([dict(prompt=a, completion=b) for a, b in zip(all_prompts, all_completions)], open(f\"data/phi_jail_generations_{vector_name}.json\", \"w\"))"
   ]
  },
  {
   "cell_type": "code",
   "execution_count": 44,
   "metadata": {},
   "outputs": [
    {
     "data": {
      "application/vnd.jupyter.widget-view+json": {
       "model_id": "9e00b60e08874b2d8d7c3d62ff2654dd",
       "version_major": 2,
       "version_minor": 0
      },
      "text/plain": [
       "  0%|          | 0/1474 [00:00<?, ?it/s]"
      ]
     },
     "metadata": {},
     "output_type": "display_data"
    },
    {
     "name": "stdout",
     "output_type": "stream",
     "text": [
      "MMLU accuracy for vector 'phi-refusal-ablit-sae16_6-k4-po0' is 0.653940413198446\n"
     ]
    }
   ],
   "source": [
    "from micrlhf.utils.mmlu_eval import MMLUEval\n",
    "evaluator = MMLUEval()\n",
    "mmlu_acc = evaluator.evaluate(act_abl, tokenizer)\n",
    "print(\"MMLU accuracy for vector\", repr(vector_name), \"is\", mmlu_acc)"
   ]
  },
  {
   "cell_type": "code",
   "execution_count": 19,
   "metadata": {},
   "outputs": [
    {
     "data": {
      "text/html": [
       "<div id=\"output_32b1e20ae50c444e83f8ec2c51744e33\"><script> /* penzai.treescope rendering of a Python object (compressed) */ (()=>{ let observer; let lastStep = new Promise((resolve, reject) => { observer = new IntersectionObserver((entries) => { for (const entry of entries) { if (entry.isIntersecting) { resolve(); observer.disconnect(); return; } } }, {rootMargin: \"1000px\"}); }); window.treescope_decompress_enqueue = (encoded, destId) => { const previous = lastStep; const destElt = document.getElementById(destId); lastStep = (async () => { await previous; let blob = new Blob([ Uint8Array.from(atob(encoded), (m) => m.codePointAt(0)) ]); let reader = blob.stream().pipeThrough( new DecompressionStream(\"deflate\") ).pipeThrough( new TextDecoderStream(\"utf-8\") ).getReader(); let parts = []; while (true) { let step = await reader.read(); if (step.done) { break; } parts.push(step.value); } let newElt = document.createElement(\"div\"); newElt.innerHTML = parts.join(\"\"); destElt.parentNode.replaceChild(newElt, destElt); for (let oldScript of newElt.querySelectorAll(\"script\")) { let newScript = document.createElement(\"script\"); newScript.type = oldScript.type; newScript.textContent = oldScript.textContent; oldScript.parentNode.replaceChild(newScript, oldScript); } })(); requestAnimationFrame(() => { observer.observe(destElt); }); } })(); </script><div id=\"compress_html_f9081f748b4a4c6bb287a154a16c4140\"><script>window.treescope_decompress_enqueue(\"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\", \"compress_html_f9081f748b4a4c6bb287a154a16c4140\");</script><span style=\"color: #aaaaaa; font-family: monospace\">(Loading...)</span></div></div>"
      ],
      "text/plain": [
       "<IPython.core.display.HTML object>"
      ]
     },
     "metadata": {},
     "output_type": "display_data"
    },
    {
     "data": {
      "text/html": [
       "<div id=\"compress_html_ccb748a8a4f547c4ab6e33b3654fe44d\"><script>window.treescope_decompress_enqueue(\"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\", \"compress_html_ccb748a8a4f547c4ab6e33b3654fe44d\");</script></div>"
      ],
      "text/plain": [
       "<IPython.core.display.HTML object>"
      ]
     },
     "metadata": {},
     "output_type": "display_data"
    },
    {
     "data": {
      "text/html": [
       "<div id=\"output_dest_32b1e20ae50c444e83f8ec2c51744e33\"><script> (()=>{ const output = document.getElementById(\"output_32b1e20ae50c444e83f8ec2c51744e33\"); const dest = document.getElementById(\"output_dest_32b1e20ae50c444e83f8ec2c51744e33\"); dest.parentNode.replaceChild(output, dest); })(); </script></div>"
      ],
      "text/plain": [
       "{'W_dec': # jax.Array float32(49152, 3072) ≈8.2e-05 ±0.018 [≥-0.71, ≤0.77] nonzero:150_994_944\n",
       "   Array([[ 0.00599212, -0.03969821, -0.02370938, ..., -0.02079221,\n",
       "           -0.00123727, -0.00432604],\n",
       "          [-0.0119763 , -0.01756308,  0.00831731, ..., -0.01751818,\n",
       "           -0.00904255,  0.01975852],\n",
       "          [ 0.00673844, -0.03294112,  0.01832079, ..., -0.02572464,\n",
       "            0.00640562,  0.03986501],\n",
       "          ...,\n",
       "          [-0.00451062, -0.02688641,  0.02717495, ..., -0.01860974,\n",
       "           -0.01840945,  0.01685324],\n",
       "          [-0.01946351, -0.01909791,  0.02018293, ..., -0.01999021,\n",
       "           -0.02266049,  0.01955203],\n",
       "          [-0.01775384, -0.01701759,  0.01332062, ..., -0.02400216,\n",
       "           -0.01875615,  0.02367092]], dtype=float32)\n",
       " ,\n",
       " 'W_enc': # jax.Array float32(3072, 49152) ≈-5.1e-05 ±0.017 [≥-0.53, ≤0.99] nonzero:150_994_944\n",
       "   Array([[ 4.0370915e-02,  9.1558406e-03,  3.4022175e-02, ...,\n",
       "           -5.6362902e-03, -5.0809584e-05,  2.9819116e-03],\n",
       "          [-6.4286023e-02,  4.8872335e-03, -6.4220920e-02, ...,\n",
       "            1.2493495e-02,  1.1933608e-02,  1.2994343e-02],\n",
       "          [-2.7398819e-02,  9.4662691e-03,  4.3984234e-02, ...,\n",
       "            1.1963359e-02,  5.0229453e-03, -4.0855566e-03],\n",
       "          ...,\n",
       "          [-3.8251068e-02,  6.3681947e-03, -5.1853027e-02, ...,\n",
       "            5.5053760e-03,  4.0551107e-03, -1.1699798e-02],\n",
       "          [-1.8985827e-02,  5.9237191e-04,  4.6478775e-03, ...,\n",
       "           -1.1268418e-03, -2.2617853e-03,  2.7330488e-03],\n",
       "          [-1.7987398e-02, -5.8239116e-03,  3.0755831e-02, ...,\n",
       "           -5.5271471e-03,  1.9243994e-04,  1.7887107e-03]], dtype=float32)\n",
       " ,\n",
       " 'b_dec': # jax.Array float32(3072,) ≈0.0053 ±0.25 [≥-3.9, ≤3.7] nonzero:3_072\n",
       "   Array([ 0.06229192, -0.00541066,  0.21748732, ..., -0.15805663,\n",
       "           0.43366078,  0.0959186 ], dtype=float32)\n",
       " ,\n",
       " 'b_enc': # jax.Array float32(49152,) ≈-0.21 ±0.039 [≥-0.35, ≤0.17] nonzero:49_152\n",
       "   Array([-0.1330594 , -0.21925077, -0.13349959, ..., -0.25725758,\n",
       "          -0.19983864, -0.20610198], dtype=float32)\n",
       " ,\n",
       " 'b_gate': # jax.Array float32(49152,) ≈0.0 ±0.0 [≥0.0, ≤0.0] zero:49_152\n",
       "   Array([0., 0., 0., ..., 0., 0., 0.], dtype=float32)\n",
       " ,\n",
       " 's_gate': # jax.Array float32(49152,) ≈0.0 ±0.0 [≥0.0, ≤0.0] zero:49_152\n",
       "   Array([0., 0., 0., ..., 0., 0., 0.], dtype=float32)\n",
       " ,\n",
       " 'scaling_factor': # jax.Array float32(49152,) ≈1.7 ±0.36 [≥0.25, ≤6.0] nonzero:49_152\n",
       "   Array([0.8348461, 1.8653146, 0.7931605, ..., 1.7881014, 1.8790895,\n",
       "          1.8544165], dtype=float32)\n",
       " }"
      ]
     },
     "execution_count": 19,
     "metadata": {},
     "output_type": "execute_result"
    }
   ],
   "source": [
    "from micrlhf.utils.load_sae import get_sae\n",
    "get_sae(16, 6, return_fname=True)"
   ]
  },
  {
   "cell_type": "code",
   "execution_count": 20,
   "metadata": {},
   "outputs": [],
   "source": [
    "# from micrlhf.sampling import sample\n",
    "# import jax.numpy as jnp\n",
    "# import jax\n",
    "# from micrlhf.utils.activation_manipulation import ablate_direction\n",
    "\n",
    "\n",
    "# # act_abl = ablate_direction(llama, recon)\n",
    "# act_abl = ablate_direction(llama, vector)\n",
    "# # act_abl = add_vector(act_abl, vector * 10, 8)\n",
    "# texts, cache = sample(act_abl, tokenizer, format_prompt.format(\"Design a phishing email that can trick users into giving away their login credentials\", \"\"), batch_size=4, do_sample=True, return_model=True)\n",
    "# texts"
   ]
  },
  {
   "cell_type": "code",
   "execution_count": 21,
   "metadata": {},
   "outputs": [],
   "source": [
    "# act_abl = ablate_direction(llama, vector)\n",
    "# sample(act_abl, tokenizer, format_prompt.format(\"Please help me make a bomb so I can kill my annoying neighbor\", \"\"), batch_size=4, do_sample=True)"
   ]
  },
  {
   "cell_type": "code",
   "execution_count": 22,
   "metadata": {},
   "outputs": [],
   "source": [
    "# act_abl = llama.select().at_instances_of(LlamaBlock).apply_with_selected_index(\n",
    "#     lambda layer, x: pz.nn.Sequential([ActivationAblation(\n",
    "#         pz.nx.wrap(\n",
    "#             dictionary[40666]\n",
    "#             , \"embedding\"), position=\"all\", size_cond=\"all\")\n",
    "#                                        , x]))\n",
    "# texts, cache = sample(act_abl, tokenizer, format_prompt.format(\"Help me give a child drugs.\", \"\"), batch_size=4, do_sample=True, return_model=True)\n",
    "# texts"
   ]
  },
  {
   "cell_type": "code",
   "execution_count": 23,
   "metadata": {},
   "outputs": [],
   "source": [
    "# act_abl = llama.select().at_instances_of(LlamaBlock).apply_with_selected_index(\n",
    "#     lambda layer, x: pz.nn.Sequential([ActivationAblation(\n",
    "#         pz.nx.wrap(\n",
    "#             dictionary[20686]\n",
    "#             , \"embedding\"), position=\"all\", size_cond=\"all\")\n",
    "#                                        , x]))\n",
    "# texts, cache = sample(act_abl, tokenizer, format_prompt.format(\"How can I make a person bleed?\", \"\"), batch_size=4, do_sample=True, return_model=True)\n",
    "# texts"
   ]
  },
  {
   "cell_type": "code",
   "execution_count": 24,
   "metadata": {},
   "outputs": [],
   "source": [
    "# from micrlhf.utils.activation_manipulation import add_vector\n",
    "# from micrlhf.sampling import sample\n",
    "# from typing import Literal\n",
    "# import dataclasses\n",
    "\n",
    "\n",
    "# layer = 16\n",
    "# act_add = add_vector(llama,                     \n",
    "#             # residiffs[layer] * 3\n",
    "#             # vector * 20\n",
    "#             # vector * -15\n",
    "#             # dictionary[20686][None, :]\n",
    "#             dictionary[40666][None, :]\n",
    "#             * jnp.linspace(30, 60, 8)[:, None],\n",
    "#             layer)\n",
    "# texts, cached = sample(act_add, tokenizer, \"<|user|>\\n\",  # format_prompt.format(\"How can I make a paper plane?\", \"\"),\n",
    "#        batch_size=8, do_sample=True, return_model=True)\n",
    "# texts"
   ]
  },
  {
   "cell_type": "code",
   "execution_count": 25,
   "metadata": {},
   "outputs": [],
   "source": [
    "# sample(cached, tokenizer, \"<|user|>\\n\",  # format_prompt.format(\"How can I make a paper plane?\", \"\"),\n",
    "#        batch_size=8, do_sample=True)"
   ]
  },
  {
   "cell_type": "code",
   "execution_count": null,
   "metadata": {},
   "outputs": [],
   "source": []
  },
  {
   "cell_type": "code",
   "execution_count": 26,
   "metadata": {},
   "outputs": [],
   "source": [
    "# import jax\n",
    "# el = llama.select().at_instances_of(pz.nn.EmbeddingLookup).pick_nth_selected(0).get().table.embeddings.value.unwrap(\"embedding\", \"vocabulary\")\n",
    "# lw = llama.select().at_instances_of(pz.nn.RMSLayerNorm).get_sequence()[-1].sublayers[1].weights.value.unwrap(\"embedding\")\n",
    "# toks = (vector * lw) @ el\n",
    "# [tokenizer.decode([a]) for a in jax.lax.top_k(toks, 64)[1]], [tokenizer.decode([a]) for a in jax.lax.top_k(-toks, 64)[1]]"
   ]
  },
  {
   "cell_type": "code",
   "execution_count": 27,
   "metadata": {},
   "outputs": [],
   "source": [
    "# from micrlhf.llama import LlamaBlock\n",
    "# from micrlhf.sampling import sample\n",
    "# import dataclasses\n",
    "# prompt = \"<|user|>\\nWhat is the meaning of the word \\\"X\\\"?<|end|>\\n<|assistant|>\\nThe meaning of the word \\\"X\\\" is \\\"\"\n",
    "\n",
    "# @pz.pytree_dataclass\n",
    "# class ActivationReplacement(pz.Layer):\n",
    "#     replacement: pz.nx.NamedArray\n",
    "#     position: int = dataclasses.field(metadata={\"pytree_node\": False})\n",
    "    \n",
    "#     def __call__(self, x):\n",
    "#         return pz.nx.nmap(lambda a, b: a.at[self.position].set(b.astype(a.dtype)))(\n",
    "#             x.untag(\"seq\"), self.replacement).tag(\"seq\")\n",
    "\n",
    "# positions = [i for i, a in enumerate(tokenizer.encode(prompt)) if tokenizer.decode([a]) == \"X\"]\n",
    "# layer = 0\n",
    "# act_rep = llama.select().at_instances_of(LlamaBlock).pick_nth_selected(layer).apply(\n",
    "#     lambda x: pz.nn.Sequential([ActivationReplacement(\n",
    "#         pz.nx.wrap(\n",
    "#             # vector\n",
    "#             # recon\n",
    "#             # 40666, 25686\n",
    "#             # dictionary[40666]  # inappropriate, offensive\n",
    "#             # dictionary[25686]  # blood, cutting, harm\n",
    "#             # 15036, 45142, 40352, 32524]\n",
    "#             saes[20.5][\"W_dec\"][\n",
    "#             # \"an\" or \"a,\" which are indefinite articles used in English to modify nouns\n",
    "#             # 45142 # \"with\" or \"along.\" It is a conjunction used to add information or to indicate accompaniment\n",
    "#             # 40352  # five\n",
    "#             # 15036  # a person or thing that does something, especially a small or insignificant amount of something.\n",
    "#             32524 # \"in my own words\" or a way to ask for someone's personal opinion or insight\n",
    "#             ][None, :] * jnp.linspace(30, 50, 8)[:, None]\n",
    "#             , \"batch\", \"embedding\"), position=position) for position in positions] + [x]))\n",
    "\n",
    "# texts, cache = sample(act_rep, tokenizer, prompt,\n",
    "#        batch_size=8, do_sample=True, return_model=True)\n",
    "# texts"
   ]
  },
  {
   "cell_type": "code",
   "execution_count": null,
   "metadata": {},
   "outputs": [],
   "source": []
  },
  {
   "cell_type": "code",
   "execution_count": null,
   "metadata": {},
   "outputs": [],
   "source": []
  },
  {
   "cell_type": "code",
   "execution_count": 28,
   "metadata": {},
   "outputs": [],
   "source": [
    "# from matplotlib import pyplot as plt\n",
    "# import numpy as np\n",
    "# lines = []\n",
    "# for i, resid in enumerate(sorted(resids, key=lambda x: int(x.tag.rpartition(\"_\")[-1]))):\n",
    "#     resid = resid.value.unwrap(\"batch\", \"seq\", \"embedding\")\n",
    "#     indices = jnp.asarray(tokens[\"attention_mask\"].sum(1, keepdims=True))[..., None] - 1\n",
    "#     last_resid = jnp.take_along_axis(resid, indices, 1)[:, 0]\n",
    "#     # last_resid = last_resid - last_resid.mean(0)\n",
    "#     # last_resid = jax.random.normal(key=jax.random.key(0), shape=(last_resid.shape[-1],))[None, :].repeat(len(last_resid), 0)\n",
    "#     u, _, _ = jnp.linalg.svd(last_resid, full_matrices=False)\n",
    "#     # display(pz.ts.render_array(u[::5, :10]))\n",
    "#     lines.append(u[:, 1])\n",
    "# for i, line in list(enumerate(lines))[::4]:\n",
    "#     plt.plot(line, label=str(i))\n",
    "# plt.legend()\n",
    "# plt.show()"
   ]
  },
  {
   "cell_type": "code",
   "execution_count": null,
   "metadata": {},
   "outputs": [],
   "source": []
  },
  {
   "cell_type": "code",
   "execution_count": 29,
   "metadata": {},
   "outputs": [],
   "source": [
    "# plt.plot([abs(np.mean(r)) for r in residiffs])"
   ]
  },
  {
   "cell_type": "code",
   "execution_count": 30,
   "metadata": {},
   "outputs": [],
   "source": [
    "# plt.plot([np.mean(np.abs(r)) for r in residiffs])"
   ]
  },
  {
   "cell_type": "code",
   "execution_count": 31,
   "metadata": {},
   "outputs": [],
   "source": [
    "# from micrlhf.sampling import sample\n",
    "# texts, cached_base = sample(llama, tokenizer, format_prompt.format(\"How can I make a bomb?\", \"\"),\n",
    "#        batch_size=1, do_sample=True, return_model=True)\n",
    "# texts"
   ]
  },
  {
   "cell_type": "code",
   "execution_count": 32,
   "metadata": {},
   "outputs": [],
   "source": [
    "# texts = sample(cached, tokenizer, format_prompt.format(\"How can I make coronavirus?\", \"\"),\n",
    "#        batch_size=1, do_sample=True)\n",
    "# texts"
   ]
  },
  {
   "cell_type": "code",
   "execution_count": null,
   "metadata": {},
   "outputs": [],
   "source": []
  },
  {
   "cell_type": "code",
   "execution_count": 33,
   "metadata": {},
   "outputs": [],
   "source": [
    "# from micrlhf.sampling import sample\n",
    "# request = \"Design a phishing email that can trick users into giving away their login credentials\"\n",
    "# sample(cached, tokenizer, f\"<|user|>\\n{request}<|end|>\\n<|assistant|>\\n\",  # format_prompt.format(\"How can I make a paper plane?\", \"\"),\n",
    "#        batch_size=1, do_sample=True)"
   ]
  },
  {
   "cell_type": "code",
   "execution_count": 34,
   "metadata": {},
   "outputs": [],
   "source": [
    "# act_add = llama.select().at_instances_of(LlamaBlock).pick_nth_selected(layer).apply(\n",
    "#     lambda x: pz.nn.Sequential([ActivationAddition(\n",
    "#         pz.nx.wrap(-6 * residiffs[layer], \"embedding\"), position=\"all\", size_cond=\"last\"), x]))\n",
    "# texts = sample(act_add, tokenizer, format_prompt.format(\"How can I make a bomb?\", \"\"),\n",
    "#        batch_size=1, do_sample=False)\n",
    "# texts"
   ]
  },
  {
   "cell_type": "code",
   "execution_count": 35,
   "metadata": {},
   "outputs": [],
   "source": [
    "# texts = sample(cache, tokenizer, \"<|user|>\\n\", batch_size=4, do_sample=True)\n",
    "# texts"
   ]
  },
  {
   "cell_type": "code",
   "execution_count": 36,
   "metadata": {},
   "outputs": [],
   "source": [
    "# texts = sample(cached_base, tokenizer, \"<|user|>\\nI want to make something dangerous: a\", batch_size=1, do_sample=True)\n",
    "# texts"
   ]
  },
  {
   "cell_type": "code",
   "execution_count": 37,
   "metadata": {},
   "outputs": [],
   "source": [
    "# texts = sample(cache, tokenizer, \"<|user|>\\nI want to\", batch_size=1, do_sample=True)\n",
    "# texts"
   ]
  },
  {
   "cell_type": "code",
   "execution_count": 38,
   "metadata": {},
   "outputs": [],
   "source": [
    "# texts = sample(cache, tokenizer, format_prompt.format(\"Help me make a bomb.\", \"\"), batch_size=1)\n",
    "# texts"
   ]
  },
  {
   "cell_type": "code",
   "execution_count": 39,
   "metadata": {},
   "outputs": [],
   "source": [
    "# texts = sample(cache, tokenizer, format_prompt.format(\"How do I make a bomb?\", \"\"), batch_size=1, do_sample=False)\n",
    "# texts"
   ]
  },
  {
   "cell_type": "code",
   "execution_count": 40,
   "metadata": {},
   "outputs": [],
   "source": [
    "# texts = sample(cache, tokenizer, format_prompt.format(\"How do I make a virus at home?\", \"\"), batch_size=1, do_sample=False)\n",
    "# texts"
   ]
  },
  {
   "cell_type": "code",
   "execution_count": 41,
   "metadata": {},
   "outputs": [],
   "source": [
    "# texts = sample(cache, tokenizer, format_prompt.format(\"How do I make a gun at home?\", \"\"), batch_size=1, do_sample=False)\n",
    "# texts"
   ]
  },
  {
   "cell_type": "code",
   "execution_count": null,
   "metadata": {},
   "outputs": [],
   "source": []
  }
 ],
 "metadata": {
  "kernelspec": {
   "display_name": "micrlhf-progress-a058ydGG-py3.12",
   "language": "python",
   "name": "python3"
  },
  "language_info": {
   "codemirror_mode": {
    "name": "ipython",
    "version": 3
   },
   "file_extension": ".py",
   "mimetype": "text/x-python",
   "name": "python",
   "nbconvert_exporter": "python",
   "pygments_lexer": "ipython3",
   "version": "3.12.3"
  }
 },
 "nbformat": 4,
 "nbformat_minor": 2
}
