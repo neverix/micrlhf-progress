{
 "cells": [
  {
   "cell_type": "code",
   "execution_count": 1,
   "metadata": {},
   "outputs": [],
   "source": [
    "import os\n",
    "if \"models\" not in os.listdir(\".\"):\n",
    "    os.chdir(\"..\")"
   ]
  },
  {
   "cell_type": "code",
   "execution_count": 2,
   "metadata": {},
   "outputs": [],
   "source": [
    "%load_ext autoreload\n",
    "%autoreload 2\n",
    "import penzai\n",
    "from penzai import pz\n",
    "pz.ts.register_as_default()\n",
    "pz.ts.register_autovisualize_magic()\n",
    "pz.enable_interactive_context()"
   ]
  },
  {
   "cell_type": "code",
   "execution_count": 3,
   "metadata": {},
   "outputs": [],
   "source": [
    "from micrlhf.llama import LlamaTransformer\n",
    "llama = LlamaTransformer.from_pretrained(\"models/gemma-2b-it.gguf\",\n",
    "                                         from_type=\"gemma\",\n",
    "                                         load_eager=True\n",
    "                                         )"
   ]
  },
  {
   "cell_type": "code",
   "execution_count": 4,
   "metadata": {},
   "outputs": [
    {
     "name": "stderr",
     "output_type": "stream",
     "text": [
      "/usr/local/lib/python3.12/pty.py:95: RuntimeWarning: os.fork() was called. os.fork() is incompatible with multithreaded code, and JAX is multithreaded, so this will likely lead to a deadlock.\n",
      "  pid, fd = os.forkpty()\n"
     ]
    }
   ],
   "source": [
    "!mkdir -p data\n",
    "import pandas as pd\n",
    "df_adv = pd.read_csv(\"data/adv.csv\")\n",
    "format_prompt = \"\"\"<start_of_turn>user\\n\n",
    "{}\\n\n",
    "<start_of_turn>model\\n\n",
    "{}\"\"\"\n",
    "# offset = 1\n",
    "# df_do = df.apply(lambda x: format_response.format(x['goal'], x['target']), axis=1)\n",
    "# prompts_harmful = df.apply(lambda x: format_prompt.format(x['goal'], \"\")[:-offset], axis=1).to_list()[:100]\n",
    "prompts_harmful = df_adv.apply(lambda x: format_prompt.format(x['goal'], \"\"), axis=1).to_list()[:100]\n",
    "dataset_jail = pd.read_csv(\"data/jail.csv\").apply(lambda x: x[\"Goal\"], axis=1).to_list()\n",
    "prompts_jail = [format_prompt.format(x, \"\") for x in dataset_jail]\n",
    "import datasets\n",
    "# https://colab.research.google.com/drive/1a-aQvKC9avdZpdyBn4jgRQFObTPy1JZw\n",
    "hf_path = 'tatsu-lab/alpaca'\n",
    "dataset = datasets.load_dataset(hf_path)\n",
    "# filter for instructions that do not have inputs\n",
    "prompts_harmless = []\n",
    "for i in range(len(dataset['train'])):\n",
    "    if len(prompts_harmless) >= len(prompts_harmful):\n",
    "        break\n",
    "    if dataset['train'][i]['input'].strip() == '':\n",
    "        # prompts_harmless.append(format_prompt.format(dataset['train'][i]['instruction'], \"\")[:-offset])\n",
    "        prompts_harmless.append(format_prompt.format(dataset['train'][i]['instruction'], \"\"))\n",
    "\n",
    "# ds = datasets.load_dataset(\"MBZUAI/LaMini-instruction\", split=\"train\", streaming=True)\n",
    "# prompts_harmless = []\n",
    "# for _, text in zip(range(100), ds):\n",
    "#     prompts_harmless.append(format_prompt.format(text[\"instruction\"], \"\"))\n",
    "\n",
    "# ds = datasets.load_dataset(\"nev/openhermes-2.5-phi-format-text\", split=\"train\", streaming=True)\n",
    "# prompts_harmless = []\n",
    "# for _, text in zip(range(100), ds):\n",
    "#     text = text[\"text\"]\n",
    "#     text = \"\".join(text.partition(\"<|assistant|>\\n\")[:2])\n",
    "#     prompts_harmless.append(text)"
   ]
  },
  {
   "cell_type": "code",
   "execution_count": 5,
   "metadata": {},
   "outputs": [],
   "source": [
    "from transformers import AutoTokenizer\n",
    "tokenizer = AutoTokenizer.from_pretrained(\"alpindale/gemma-2b\")\n",
    "tokenizer.padding_side = \"right\""
   ]
  },
  {
   "cell_type": "code",
   "execution_count": 6,
   "metadata": {},
   "outputs": [],
   "source": [
    "from micrlhf.sampling import sample, trange, jnp, load_tokenizer, jit_wrapper\n",
    "import jax\n",
    "\n",
    "tokens = tokenizer.batch_encode_plus(prompts_harmful + prompts_harmless,\n",
    "                                     return_tensors=\"np\",\n",
    "                                     padding=\"max_length\",\n",
    "                                     truncation=True,\n",
    "                                     max_length=128,\n",
    "                                     return_attention_mask=True)\n",
    "token_array = jnp.asarray(tokens[\"input_ids\"])\n",
    "token_array = jax.device_put(token_array, jax.sharding.NamedSharding(llama.mesh, jax.sharding.PartitionSpec(\"dp\", \"sp\")))\n",
    "token_array = pz.nx.wrap(token_array, \"batch\", \"seq\").untag(\"batch\").tag(\"batch\")\n",
    "inputs = llama.inputs.from_basic_segments(token_array)"
   ]
  },
  {
   "cell_type": "code",
   "execution_count": 7,
   "metadata": {},
   "outputs": [],
   "source": [
    "from micrlhf.llama import LlamaBlock\n",
    "from micrlhf.flash import flashify\n",
    "from micrlhf.sampling import sample, trange, jnp, load_tokenizer, jit_wrapper\n",
    "get_resids = llama.select().at_instances_of(LlamaBlock).apply_with_selected_index(lambda i, x:\n",
    "    pz.nn.Sequential([\n",
    "        pz.de.TellIntermediate.from_config(tag=f\"resid_pre_{i}\"),\n",
    "        x\n",
    "    ])\n",
    ")\n",
    "get_resids = pz.de.CollectingSideOutputs.handling(get_resids, tag_predicate=lambda x: x.startswith(\"resid_pre\"))\n",
    "get_resids_call = jit_wrapper.Jitted(get_resids)\n",
    "_, resids = get_resids_call(inputs)"
   ]
  },
  {
   "cell_type": "code",
   "execution_count": 8,
   "metadata": {},
   "outputs": [
    {
     "name": "stderr",
     "output_type": "stream",
     "text": [
      "/tmp/ipykernel_3844145/4119513429.py:13: RuntimeWarning: invalid value encountered in divide\n",
      "  residiff = residiff / np.linalg.norm(residiff)\n"
     ]
    },
    {
     "data": {
      "image/png": "[encoded data removed]",
      "text/plain": [
       "<Figure size 640x480 with 2 Axes>"
      ]
     },
     "metadata": {},
     "output_type": "display_data"
    }
   ],
   "source": [
    "from matplotlib import pyplot as plt\n",
    "import numpy as np\n",
    "residiffs = []\n",
    "last_resids = []\n",
    "for i, resid in enumerate(sorted(resids, key=lambda x: int(x.tag.rpartition(\"_\")[-1]))):\n",
    "    resid = resid.value.unwrap(\"batch\", \"seq\", \"embedding\")\n",
    "    indices = jnp.asarray(tokens[\"attention_mask\"].sum(1, keepdims=True))[..., None] - 1\n",
    "    last_resid = jnp.take_along_axis(resid, indices, 1)[:, 0]\n",
    "    last_resid = last_resid.reshape(2, -1, last_resid.shape[-1])\n",
    "    last_resids.append(last_resid)\n",
    "    last_resid = last_resid.mean(1)\n",
    "    residiff = np.array(last_resid[0] - last_resid[1])\n",
    "    residiff = residiff / np.linalg.norm(residiff)\n",
    "    residiffs.append(residiff)\n",
    "matmuls = np.matmul(residiffs, np.transpose(residiffs))\n",
    "norms = np.linalg.norm(residiffs, axis=-1) + 1e-10\n",
    "plt.title(\"Correlations between layers' refusal vectors\")\n",
    "plt.imshow(matmuls / norms[:, None] / norms[None, :], vmin=0, vmax=1)\n",
    "plt.colorbar()\n",
    "plt.show()"
   ]
  },
  {
   "cell_type": "code",
   "execution_count": 15,
   "metadata": {},
   "outputs": [
    {
     "name": "stdout",
     "output_type": "stream",
     "text": [
      "Layer 0 -> Layer 8: [0 1 2 3]\n",
      "Layer 1 -> Layer 8: [27309 26633 21572 12555]\n",
      "Layer 2 -> Layer 8: [17441 20897 26059  2745]\n",
      "Layer 3 -> Layer 8: [30549  3823 23130 31749]\n",
      "Layer 4 -> Layer 8: [ 6688  7975 25926 14616]\n",
      "Layer 5 -> Layer 8: [26817 25855 23130  8847]\n",
      "Layer 6 -> Layer 8: [26817  6688 15337  9412]\n",
      "Layer 7 -> Layer 8: [17050  2161 28044 29985]\n",
      "Layer 8 -> Layer 8: [ 8286 17050 29985 19254]\n",
      "Layer 9 -> Layer 8: [ 8286 29985  6688 26408]\n",
      "Layer 10 -> Layer 8: [ 8286  7180 19254     0]\n",
      "Layer 11 -> Layer 8: [ 8286 27334 24403 13282]\n",
      "Layer 12 -> Layer 8: [27334 20363 22416  4797]\n",
      "Layer 13 -> Layer 8: [11727 20363 26878 24403]\n",
      "Layer 14 -> Layer 8: [17534 26878 14872 19712]\n",
      "Layer 15 -> Layer 8: [17534  6721 26239 14872]\n",
      "Layer 16 -> Layer 8: [ 6024 27944 27373 13282]\n",
      "Layer 17 -> Layer 8: [18910 27944 26239  1391]\n",
      "\n",
      "Layer 0 -> Layer 9: [0 1 2 3]\n",
      "Layer 1 -> Layer 9: [13951 11654 14285 20998]\n",
      "Layer 2 -> Layer 9: [11858 10675  6156 28947]\n",
      "Layer 3 -> Layer 9: [17183 16398 19266  9492]\n",
      "Layer 4 -> Layer 9: [29560 26947 15317 10351]\n",
      "Layer 5 -> Layer 9: [15251 19435 29560 29453]\n",
      "Layer 6 -> Layer 9: [15251  2728 28893 10351]\n",
      "Layer 7 -> Layer 9: [16576 13120 19981 19435]\n",
      "Layer 8 -> Layer 9: [16576 19981 23713 29206]\n",
      "Layer 9 -> Layer 9: [16576 19981  7088 23713]\n",
      "Layer 10 -> Layer 9: [19981 16576   756 23713]\n",
      "Layer 11 -> Layer 9: [19981 13120  1031 23713]\n",
      "Layer 12 -> Layer 9: [19981  1031  9540 10370]\n",
      "Layer 13 -> Layer 9: [ 1031 20153 13363 10370]\n",
      "Layer 14 -> Layer 9: [10370 21744 21067  7681]\n",
      "Layer 15 -> Layer 9: [14791 29573  6970   801]\n",
      "Layer 16 -> Layer 9: [ 8581 14791  6148 31914]\n",
      "Layer 17 -> Layer 9: [14791  6148 21550 31914]\n",
      "\n",
      "Layer 0 -> Layer 10: [0 1 2 3]\n",
      "Layer 1 -> Layer 10: [ 5320 31272  6736  7335]\n",
      "Layer 2 -> Layer 10: [11406 28574 15459  3844]\n",
      "Layer 3 -> Layer 10: [31148 23073 21974 11852]\n",
      "Layer 4 -> Layer 10: [ 7341 19468 27305 11813]\n",
      "Layer 5 -> Layer 10: [ 6868  5115 23073  7341]\n",
      "Layer 6 -> Layer 10: [ 7215 22934 15051 20500]\n",
      "Layer 7 -> Layer 10: [ 3913 19569 23152 28397]\n",
      "Layer 8 -> Layer 10: [ 3913 19569 28397 27610]\n",
      "Layer 9 -> Layer 10: [ 3913 19569 28397 23632]\n",
      "Layer 10 -> Layer 10: [ 3913 30832 19569 22844]\n",
      "Layer 11 -> Layer 10: [ 3913  5127 22032 12672]\n",
      "Layer 12 -> Layer 10: [ 3913  6728 22032 24214]\n",
      "Layer 13 -> Layer 10: [ 3913 22032 12672 31470]\n",
      "Layer 14 -> Layer 10: [ 3913 31470 12672 21513]\n",
      "Layer 15 -> Layer 10: [ 3913 32694  9152  6565]\n",
      "Layer 16 -> Layer 10: [3913 5531 9152 6565]\n",
      "Layer 17 -> Layer 10: [3913 5531 9152 2670]\n",
      "\n",
      "Layer 0 -> Layer 11: [0 1 2 3]\n",
      "Layer 1 -> Layer 11: [ 4551  6885 12144  7253]\n",
      "Layer 2 -> Layer 11: [25289 30685 11847  2768]\n",
      "Layer 3 -> Layer 11: [27115 16680 19015 32006]\n",
      "Layer 4 -> Layer 11: [29160  6978 29729  4201]\n",
      "Layer 5 -> Layer 11: [  761 29160  7454 25470]\n",
      "Layer 6 -> Layer 11: [  865 17275 11438  8490]\n",
      "Layer 7 -> Layer 11: [22528 31180 15093 28690]\n",
      "Layer 8 -> Layer 11: [22528 31180 25818 14288]\n",
      "Layer 9 -> Layer 11: [22528 31180 25818 20927]\n",
      "Layer 10 -> Layer 11: [22528  8769 14288 20927]\n",
      "Layer 11 -> Layer 11: [22528 28189 18743 20927]\n",
      "Layer 12 -> Layer 11: [22528 11148 13651 24298]\n",
      "Layer 13 -> Layer 11: [22528 28189  8421 13435]\n",
      "Layer 14 -> Layer 11: [22528 19972  8421 15178]\n",
      "Layer 15 -> Layer 11: [22528 19972  3648  8421]\n",
      "Layer 16 -> Layer 11: [22528 19972 26165   509]\n",
      "Layer 17 -> Layer 11: [22528 19972 26165   509]\n",
      "\n",
      "Layer 0 -> Layer 12: [0 1 2 3]\n",
      "Layer 1 -> Layer 12: [27290  5245  1464 23505]\n",
      "Layer 2 -> Layer 12: [22201  5651 21145  9695]\n",
      "Layer 3 -> Layer 12: [  671 31877 19632 14152]\n",
      "Layer 4 -> Layer 12: [19632  1115 31053  5659]\n",
      "Layer 5 -> Layer 12: [21525  3539 31877 10739]\n",
      "Layer 6 -> Layer 12: [21525 15376 11388 32401]\n",
      "Layer 7 -> Layer 12: [22247 17369  2348 32686]\n",
      "Layer 8 -> Layer 12: [22247 28916  2348 11581]\n",
      "Layer 9 -> Layer 12: [22247  7380  2348 11581]\n",
      "Layer 10 -> Layer 12: [22247 16482 28665  5402]\n",
      "Layer 11 -> Layer 12: [22247 16577  3255 25482]\n",
      "Layer 12 -> Layer 12: [22247  4862 13648 31336]\n",
      "Layer 13 -> Layer 12: [22247 17082 16577  9773]\n",
      "Layer 14 -> Layer 12: [22247 16577 17770    87]\n",
      "Layer 15 -> Layer 12: [22247 16577  3981 31283]\n",
      "Layer 16 -> Layer 12: [22247 16577 18490  9948]\n",
      "Layer 17 -> Layer 12: [22247 16577  9948   659]\n",
      "\n",
      "Layer 0 -> Layer 13: [0 1 2 3]\n",
      "Layer 1 -> Layer 13: [ 9100 30696  5638  9566]\n",
      "Layer 2 -> Layer 13: [ 8569 22748 20861  9396]\n",
      "Layer 3 -> Layer 13: [29104 12349 25970 10600]\n",
      "Layer 4 -> Layer 13: [ 8278 20754  8265  3166]\n",
      "Layer 5 -> Layer 13: [28804 28288 10600 29732]\n",
      "Layer 6 -> Layer 13: [13971 31011 16820 29583]\n",
      "Layer 7 -> Layer 13: [11835 22837  2222 19943]\n",
      "Layer 8 -> Layer 13: [11835 21604 20827 23817]\n",
      "Layer 9 -> Layer 13: [11835 21604  8530 32145]\n",
      "Layer 10 -> Layer 13: [11835 21604  5752 22412]\n",
      "Layer 11 -> Layer 13: [11835 21115 15379 19943]\n"
     ]
    },
    {
     "ename": "HfHubHTTPError",
     "evalue": "429 Client Error: Too Many Requests for url: https://huggingface.co/api/models/kisate-team/micrlhf/commit/main (Request ID: Root=1-6696ff36-7608bd995b9dd1066e9f1c8e;2702f8be-8ede-4e76-befd-6d193ea79266)\n\nYou have been rate-limited; you can retry this action in about 1 hour. If you're a new user, your limits will raise progressively over time. Get in touch with us at website@huggingface.co if you need access now.",
     "output_type": "error",
     "traceback": [
      "\u001b[0;31m---------------------------------------------------------------------------\u001b[0m",
      "\u001b[0;31mHTTPError\u001b[0m                                 Traceback (most recent call last)",
      "File \u001b[0;32m~/.cache/pypoetry/virtualenvs/micrlhf-progress-a058ydGG-py3.12/lib/python3.12/site-packages/huggingface_hub/utils/_errors.py:304\u001b[0m, in \u001b[0;36mhf_raise_for_status\u001b[0;34m(response, endpoint_name)\u001b[0m\n\u001b[1;32m    303\u001b[0m \u001b[38;5;28;01mtry\u001b[39;00m:\n\u001b[0;32m--> 304\u001b[0m     \u001b[43mresponse\u001b[49m\u001b[38;5;241;43m.\u001b[39;49m\u001b[43mraise_for_status\u001b[49m\u001b[43m(\u001b[49m\u001b[43m)\u001b[49m\n\u001b[1;32m    305\u001b[0m \u001b[38;5;28;01mexcept\u001b[39;00m HTTPError \u001b[38;5;28;01mas\u001b[39;00m e:\n",
      "File \u001b[0;32m~/.cache/pypoetry/virtualenvs/micrlhf-progress-a058ydGG-py3.12/lib/python3.12/site-packages/requests/models.py:1024\u001b[0m, in \u001b[0;36mResponse.raise_for_status\u001b[0;34m(self)\u001b[0m\n\u001b[1;32m   1023\u001b[0m \u001b[38;5;28;01mif\u001b[39;00m http_error_msg:\n\u001b[0;32m-> 1024\u001b[0m     \u001b[38;5;28;01mraise\u001b[39;00m HTTPError(http_error_msg, response\u001b[38;5;241m=\u001b[39m\u001b[38;5;28mself\u001b[39m)\n",
      "\u001b[0;31mHTTPError\u001b[0m: 429 Client Error: Too Many Requests for url: https://huggingface.co/api/models/kisate-team/micrlhf/commit/main",
      "\nThe above exception was the direct cause of the following exception:\n",
      "\u001b[0;31mHfHubHTTPError\u001b[0m                            Traceback (most recent call last)",
      "Cell \u001b[0;32mIn[15], line 12\u001b[0m\n\u001b[1;32m     10\u001b[0m vector_name \u001b[38;5;241m=\u001b[39m \u001b[38;5;124mf\u001b[39m\u001b[38;5;124m\"\u001b[39m\u001b[38;5;124mgemma-refusal-l\u001b[39m\u001b[38;5;132;01m{\u001b[39;00mlayer\u001b[38;5;132;01m}\u001b[39;00m\u001b[38;5;124m\"\u001b[39m\n\u001b[1;32m     11\u001b[0m vector \u001b[38;5;241m=\u001b[39m residiffs[layer]\n\u001b[0;32m---> 12\u001b[0m \u001b[43msave_and_upload_vector\u001b[49m\u001b[43m(\u001b[49m\u001b[43mvector_name\u001b[49m\u001b[43m,\u001b[49m\u001b[43m \u001b[49m\u001b[43mvector\u001b[49m\u001b[43m,\u001b[49m\u001b[43m \u001b[49m\u001b[43moverwrite\u001b[49m\u001b[38;5;241;43m=\u001b[39;49m\u001b[38;5;28;43;01mTrue\u001b[39;49;00m\u001b[43m)\u001b[49m\n\u001b[1;32m     13\u001b[0m weights, recon \u001b[38;5;241m=\u001b[39m grad_pursuit(vector, dictionary, sae_k, pos_only\u001b[38;5;241m=\u001b[39m\u001b[38;5;28;01mTrue\u001b[39;00m)\n\u001b[1;32m     14\u001b[0m _, i \u001b[38;5;241m=\u001b[39m jax\u001b[38;5;241m.\u001b[39mlax\u001b[38;5;241m.\u001b[39mtop_k(jnp\u001b[38;5;241m.\u001b[39mabs(weights), sae_k)\n",
      "File \u001b[0;32m~/micrlhf-progress/micrlhf/utils/vector_storage.py:72\u001b[0m, in \u001b[0;36msave_and_upload_vector\u001b[0;34m(name, vector, overwrite)\u001b[0m\n\u001b[1;32m     70\u001b[0m \u001b[38;5;28;01mdef\u001b[39;00m \u001b[38;5;21msave_and_upload_vector\u001b[39m(name: \u001b[38;5;28mstr\u001b[39m, vector: Union[jnp\u001b[38;5;241m.\u001b[39mndarray, pz\u001b[38;5;241m.\u001b[39mnx\u001b[38;5;241m.\u001b[39mNamedArray], overwrite: \u001b[38;5;28mbool\u001b[39m \u001b[38;5;241m=\u001b[39m \u001b[38;5;28;01mFalse\u001b[39;00m):\n\u001b[1;32m     71\u001b[0m     save_vector(name, vector, overwrite\u001b[38;5;241m=\u001b[39moverwrite)\n\u001b[0;32m---> 72\u001b[0m     \u001b[43mupload_vector\u001b[49m\u001b[43m(\u001b[49m\u001b[43mname\u001b[49m\u001b[43m,\u001b[49m\u001b[43m \u001b[49m\u001b[43moverwrite\u001b[49m\u001b[38;5;241;43m=\u001b[39;49m\u001b[43moverwrite\u001b[49m\u001b[43m)\u001b[49m\n",
      "File \u001b[0;32m~/micrlhf-progress/micrlhf/utils/vector_storage.py:63\u001b[0m, in \u001b[0;36mupload_vector\u001b[0;34m(name, overwrite)\u001b[0m\n\u001b[1;32m     60\u001b[0m         \u001b[38;5;28;01mraise\u001b[39;00m \u001b[38;5;167;01mFileExistsError\u001b[39;00m(\u001b[38;5;124mf\u001b[39m\u001b[38;5;124m'\u001b[39m\u001b[38;5;132;01m{\u001b[39;00mrepo_path\u001b[38;5;132;01m}\u001b[39;00m\u001b[38;5;124m already exists in the remote repository. Set overwrite=True to overwrite the file.\u001b[39m\u001b[38;5;124m'\u001b[39m)\n\u001b[1;32m     62\u001b[0m api \u001b[38;5;241m=\u001b[39m HfApi()\n\u001b[0;32m---> 63\u001b[0m \u001b[43mapi\u001b[49m\u001b[38;5;241;43m.\u001b[39;49m\u001b[43mupload_file\u001b[49m\u001b[43m(\u001b[49m\n\u001b[1;32m     64\u001b[0m \u001b[43m    \u001b[49m\u001b[43mpath_or_fileobj\u001b[49m\u001b[38;5;241;43m=\u001b[39;49m\u001b[43msave_path\u001b[49m\u001b[43m,\u001b[49m\n\u001b[1;32m     65\u001b[0m \u001b[43m    \u001b[49m\u001b[43mrepo_id\u001b[49m\u001b[38;5;241;43m=\u001b[39;49m\u001b[43mREPO_NAME\u001b[49m\u001b[43m,\u001b[49m\n\u001b[1;32m     66\u001b[0m \u001b[43m    \u001b[49m\u001b[43mpath_in_repo\u001b[49m\u001b[38;5;241;43m=\u001b[39;49m\u001b[43m \u001b[49m\u001b[38;5;28;43mstr\u001b[39;49m\u001b[43m(\u001b[49m\u001b[43mrepo_path\u001b[49m\u001b[43m)\u001b[49m\u001b[43m,\u001b[49m\n\u001b[1;32m     67\u001b[0m \u001b[43m    \u001b[49m\u001b[43mrepo_type\u001b[49m\u001b[38;5;241;43m=\u001b[39;49m\u001b[38;5;124;43m\"\u001b[39;49m\u001b[38;5;124;43mmodel\u001b[39;49m\u001b[38;5;124;43m\"\u001b[39;49m\n\u001b[1;32m     68\u001b[0m \u001b[43m\u001b[49m\u001b[43m)\u001b[49m\n",
      "File \u001b[0;32m~/.cache/pypoetry/virtualenvs/micrlhf-progress-a058ydGG-py3.12/lib/python3.12/site-packages/huggingface_hub/utils/_validators.py:114\u001b[0m, in \u001b[0;36mvalidate_hf_hub_args.<locals>._inner_fn\u001b[0;34m(*args, **kwargs)\u001b[0m\n\u001b[1;32m    111\u001b[0m \u001b[38;5;28;01mif\u001b[39;00m check_use_auth_token:\n\u001b[1;32m    112\u001b[0m     kwargs \u001b[38;5;241m=\u001b[39m smoothly_deprecate_use_auth_token(fn_name\u001b[38;5;241m=\u001b[39mfn\u001b[38;5;241m.\u001b[39m\u001b[38;5;18m__name__\u001b[39m, has_token\u001b[38;5;241m=\u001b[39mhas_token, kwargs\u001b[38;5;241m=\u001b[39mkwargs)\n\u001b[0;32m--> 114\u001b[0m \u001b[38;5;28;01mreturn\u001b[39;00m \u001b[43mfn\u001b[49m\u001b[43m(\u001b[49m\u001b[38;5;241;43m*\u001b[39;49m\u001b[43margs\u001b[49m\u001b[43m,\u001b[49m\u001b[43m \u001b[49m\u001b[38;5;241;43m*\u001b[39;49m\u001b[38;5;241;43m*\u001b[39;49m\u001b[43mkwargs\u001b[49m\u001b[43m)\u001b[49m\n",
      "File \u001b[0;32m~/.cache/pypoetry/virtualenvs/micrlhf-progress-a058ydGG-py3.12/lib/python3.12/site-packages/huggingface_hub/hf_api.py:1286\u001b[0m, in \u001b[0;36mfuture_compatible.<locals>._inner\u001b[0;34m(self, *args, **kwargs)\u001b[0m\n\u001b[1;32m   1283\u001b[0m     \u001b[38;5;28;01mreturn\u001b[39;00m \u001b[38;5;28mself\u001b[39m\u001b[38;5;241m.\u001b[39mrun_as_future(fn, \u001b[38;5;28mself\u001b[39m, \u001b[38;5;241m*\u001b[39margs, \u001b[38;5;241m*\u001b[39m\u001b[38;5;241m*\u001b[39mkwargs)\n\u001b[1;32m   1285\u001b[0m \u001b[38;5;66;03m# Otherwise, call the function normally\u001b[39;00m\n\u001b[0;32m-> 1286\u001b[0m \u001b[38;5;28;01mreturn\u001b[39;00m \u001b[43mfn\u001b[49m\u001b[43m(\u001b[49m\u001b[38;5;28;43mself\u001b[39;49m\u001b[43m,\u001b[49m\u001b[43m \u001b[49m\u001b[38;5;241;43m*\u001b[39;49m\u001b[43margs\u001b[49m\u001b[43m,\u001b[49m\u001b[43m \u001b[49m\u001b[38;5;241;43m*\u001b[39;49m\u001b[38;5;241;43m*\u001b[39;49m\u001b[43mkwargs\u001b[49m\u001b[43m)\u001b[49m\n",
      "File \u001b[0;32m~/.cache/pypoetry/virtualenvs/micrlhf-progress-a058ydGG-py3.12/lib/python3.12/site-packages/huggingface_hub/hf_api.py:4374\u001b[0m, in \u001b[0;36mHfApi.upload_file\u001b[0;34m(self, path_or_fileobj, path_in_repo, repo_id, token, repo_type, revision, commit_message, commit_description, create_pr, parent_commit, run_as_future)\u001b[0m\n\u001b[1;32m   4366\u001b[0m commit_message \u001b[38;5;241m=\u001b[39m (\n\u001b[1;32m   4367\u001b[0m     commit_message \u001b[38;5;28;01mif\u001b[39;00m commit_message \u001b[38;5;129;01mis\u001b[39;00m \u001b[38;5;129;01mnot\u001b[39;00m \u001b[38;5;28;01mNone\u001b[39;00m \u001b[38;5;28;01melse\u001b[39;00m \u001b[38;5;124mf\u001b[39m\u001b[38;5;124m\"\u001b[39m\u001b[38;5;124mUpload \u001b[39m\u001b[38;5;132;01m{\u001b[39;00mpath_in_repo\u001b[38;5;132;01m}\u001b[39;00m\u001b[38;5;124m with huggingface_hub\u001b[39m\u001b[38;5;124m\"\u001b[39m\n\u001b[1;32m   4368\u001b[0m )\n\u001b[1;32m   4369\u001b[0m operation \u001b[38;5;241m=\u001b[39m CommitOperationAdd(\n\u001b[1;32m   4370\u001b[0m     path_or_fileobj\u001b[38;5;241m=\u001b[39mpath_or_fileobj,\n\u001b[1;32m   4371\u001b[0m     path_in_repo\u001b[38;5;241m=\u001b[39mpath_in_repo,\n\u001b[1;32m   4372\u001b[0m )\n\u001b[0;32m-> 4374\u001b[0m commit_info \u001b[38;5;241m=\u001b[39m \u001b[38;5;28;43mself\u001b[39;49m\u001b[38;5;241;43m.\u001b[39;49m\u001b[43mcreate_commit\u001b[49m\u001b[43m(\u001b[49m\n\u001b[1;32m   4375\u001b[0m \u001b[43m    \u001b[49m\u001b[43mrepo_id\u001b[49m\u001b[38;5;241;43m=\u001b[39;49m\u001b[43mrepo_id\u001b[49m\u001b[43m,\u001b[49m\n\u001b[1;32m   4376\u001b[0m \u001b[43m    \u001b[49m\u001b[43mrepo_type\u001b[49m\u001b[38;5;241;43m=\u001b[39;49m\u001b[43mrepo_type\u001b[49m\u001b[43m,\u001b[49m\n\u001b[1;32m   4377\u001b[0m \u001b[43m    \u001b[49m\u001b[43moperations\u001b[49m\u001b[38;5;241;43m=\u001b[39;49m\u001b[43m[\u001b[49m\u001b[43moperation\u001b[49m\u001b[43m]\u001b[49m\u001b[43m,\u001b[49m\n\u001b[1;32m   4378\u001b[0m \u001b[43m    \u001b[49m\u001b[43mcommit_message\u001b[49m\u001b[38;5;241;43m=\u001b[39;49m\u001b[43mcommit_message\u001b[49m\u001b[43m,\u001b[49m\n\u001b[1;32m   4379\u001b[0m \u001b[43m    \u001b[49m\u001b[43mcommit_description\u001b[49m\u001b[38;5;241;43m=\u001b[39;49m\u001b[43mcommit_description\u001b[49m\u001b[43m,\u001b[49m\n\u001b[1;32m   4380\u001b[0m \u001b[43m    \u001b[49m\u001b[43mtoken\u001b[49m\u001b[38;5;241;43m=\u001b[39;49m\u001b[43mtoken\u001b[49m\u001b[43m,\u001b[49m\n\u001b[1;32m   4381\u001b[0m \u001b[43m    \u001b[49m\u001b[43mrevision\u001b[49m\u001b[38;5;241;43m=\u001b[39;49m\u001b[43mrevision\u001b[49m\u001b[43m,\u001b[49m\n\u001b[1;32m   4382\u001b[0m \u001b[43m    \u001b[49m\u001b[43mcreate_pr\u001b[49m\u001b[38;5;241;43m=\u001b[39;49m\u001b[43mcreate_pr\u001b[49m\u001b[43m,\u001b[49m\n\u001b[1;32m   4383\u001b[0m \u001b[43m    \u001b[49m\u001b[43mparent_commit\u001b[49m\u001b[38;5;241;43m=\u001b[39;49m\u001b[43mparent_commit\u001b[49m\u001b[43m,\u001b[49m\n\u001b[1;32m   4384\u001b[0m \u001b[43m\u001b[49m\u001b[43m)\u001b[49m\n\u001b[1;32m   4386\u001b[0m \u001b[38;5;28;01mif\u001b[39;00m commit_info\u001b[38;5;241m.\u001b[39mpr_url \u001b[38;5;129;01mis\u001b[39;00m \u001b[38;5;129;01mnot\u001b[39;00m \u001b[38;5;28;01mNone\u001b[39;00m:\n\u001b[1;32m   4387\u001b[0m     revision \u001b[38;5;241m=\u001b[39m quote(_parse_revision_from_pr_url(commit_info\u001b[38;5;241m.\u001b[39mpr_url), safe\u001b[38;5;241m=\u001b[39m\u001b[38;5;124m\"\u001b[39m\u001b[38;5;124m\"\u001b[39m)\n",
      "File \u001b[0;32m~/.cache/pypoetry/virtualenvs/micrlhf-progress-a058ydGG-py3.12/lib/python3.12/site-packages/huggingface_hub/utils/_validators.py:114\u001b[0m, in \u001b[0;36mvalidate_hf_hub_args.<locals>._inner_fn\u001b[0;34m(*args, **kwargs)\u001b[0m\n\u001b[1;32m    111\u001b[0m \u001b[38;5;28;01mif\u001b[39;00m check_use_auth_token:\n\u001b[1;32m    112\u001b[0m     kwargs \u001b[38;5;241m=\u001b[39m smoothly_deprecate_use_auth_token(fn_name\u001b[38;5;241m=\u001b[39mfn\u001b[38;5;241m.\u001b[39m\u001b[38;5;18m__name__\u001b[39m, has_token\u001b[38;5;241m=\u001b[39mhas_token, kwargs\u001b[38;5;241m=\u001b[39mkwargs)\n\u001b[0;32m--> 114\u001b[0m \u001b[38;5;28;01mreturn\u001b[39;00m \u001b[43mfn\u001b[49m\u001b[43m(\u001b[49m\u001b[38;5;241;43m*\u001b[39;49m\u001b[43margs\u001b[49m\u001b[43m,\u001b[49m\u001b[43m \u001b[49m\u001b[38;5;241;43m*\u001b[39;49m\u001b[38;5;241;43m*\u001b[39;49m\u001b[43mkwargs\u001b[49m\u001b[43m)\u001b[49m\n",
      "File \u001b[0;32m~/.cache/pypoetry/virtualenvs/micrlhf-progress-a058ydGG-py3.12/lib/python3.12/site-packages/huggingface_hub/hf_api.py:1286\u001b[0m, in \u001b[0;36mfuture_compatible.<locals>._inner\u001b[0;34m(self, *args, **kwargs)\u001b[0m\n\u001b[1;32m   1283\u001b[0m     \u001b[38;5;28;01mreturn\u001b[39;00m \u001b[38;5;28mself\u001b[39m\u001b[38;5;241m.\u001b[39mrun_as_future(fn, \u001b[38;5;28mself\u001b[39m, \u001b[38;5;241m*\u001b[39margs, \u001b[38;5;241m*\u001b[39m\u001b[38;5;241m*\u001b[39mkwargs)\n\u001b[1;32m   1285\u001b[0m \u001b[38;5;66;03m# Otherwise, call the function normally\u001b[39;00m\n\u001b[0;32m-> 1286\u001b[0m \u001b[38;5;28;01mreturn\u001b[39;00m \u001b[43mfn\u001b[49m\u001b[43m(\u001b[49m\u001b[38;5;28;43mself\u001b[39;49m\u001b[43m,\u001b[49m\u001b[43m \u001b[49m\u001b[38;5;241;43m*\u001b[39;49m\u001b[43margs\u001b[49m\u001b[43m,\u001b[49m\u001b[43m \u001b[49m\u001b[38;5;241;43m*\u001b[39;49m\u001b[38;5;241;43m*\u001b[39;49m\u001b[43mkwargs\u001b[49m\u001b[43m)\u001b[49m\n",
      "File \u001b[0;32m~/.cache/pypoetry/virtualenvs/micrlhf-progress-a058ydGG-py3.12/lib/python3.12/site-packages/huggingface_hub/hf_api.py:3719\u001b[0m, in \u001b[0;36mHfApi.create_commit\u001b[0;34m(self, repo_id, operations, commit_message, commit_description, token, repo_type, revision, create_pr, num_threads, parent_commit, run_as_future)\u001b[0m\n\u001b[1;32m   3717\u001b[0m \u001b[38;5;28;01mtry\u001b[39;00m:\n\u001b[1;32m   3718\u001b[0m     commit_resp \u001b[38;5;241m=\u001b[39m get_session()\u001b[38;5;241m.\u001b[39mpost(url\u001b[38;5;241m=\u001b[39mcommit_url, headers\u001b[38;5;241m=\u001b[39mheaders, data\u001b[38;5;241m=\u001b[39mdata, params\u001b[38;5;241m=\u001b[39mparams)\n\u001b[0;32m-> 3719\u001b[0m     \u001b[43mhf_raise_for_status\u001b[49m\u001b[43m(\u001b[49m\u001b[43mcommit_resp\u001b[49m\u001b[43m,\u001b[49m\u001b[43m \u001b[49m\u001b[43mendpoint_name\u001b[49m\u001b[38;5;241;43m=\u001b[39;49m\u001b[38;5;124;43m\"\u001b[39;49m\u001b[38;5;124;43mcommit\u001b[39;49m\u001b[38;5;124;43m\"\u001b[39;49m\u001b[43m)\u001b[49m\n\u001b[1;32m   3720\u001b[0m \u001b[38;5;28;01mexcept\u001b[39;00m RepositoryNotFoundError \u001b[38;5;28;01mas\u001b[39;00m e:\n\u001b[1;32m   3721\u001b[0m     e\u001b[38;5;241m.\u001b[39mappend_to_message(_CREATE_COMMIT_NO_REPO_ERROR_MESSAGE)\n",
      "File \u001b[0;32m~/.cache/pypoetry/virtualenvs/micrlhf-progress-a058ydGG-py3.12/lib/python3.12/site-packages/huggingface_hub/utils/_errors.py:371\u001b[0m, in \u001b[0;36mhf_raise_for_status\u001b[0;34m(response, endpoint_name)\u001b[0m\n\u001b[1;32m    367\u001b[0m     \u001b[38;5;28;01mraise\u001b[39;00m HfHubHTTPError(message, response\u001b[38;5;241m=\u001b[39mresponse) \u001b[38;5;28;01mfrom\u001b[39;00m \u001b[38;5;21;01me\u001b[39;00m\n\u001b[1;32m    369\u001b[0m \u001b[38;5;66;03m# Convert `HTTPError` into a `HfHubHTTPError` to display request information\u001b[39;00m\n\u001b[1;32m    370\u001b[0m \u001b[38;5;66;03m# as well (request id and/or server error message)\u001b[39;00m\n\u001b[0;32m--> 371\u001b[0m \u001b[38;5;28;01mraise\u001b[39;00m HfHubHTTPError(\u001b[38;5;28mstr\u001b[39m(e), response\u001b[38;5;241m=\u001b[39mresponse) \u001b[38;5;28;01mfrom\u001b[39;00m \u001b[38;5;21;01me\u001b[39;00m\n",
      "\u001b[0;31mHfHubHTTPError\u001b[0m: 429 Client Error: Too Many Requests for url: https://huggingface.co/api/models/kisate-team/micrlhf/commit/main (Request ID: Root=1-6696ff36-7608bd995b9dd1066e9f1c8e;2702f8be-8ede-4e76-befd-6d193ea79266)\n\nYou have been rate-limited; you can retry this action in about 1 hour. If you're a new user, your limits will raise progressively over time. Get in touch with us at website@huggingface.co if you need access now."
     ]
    }
   ],
   "source": [
    "from micrlhf.utils.vector_storage import save_and_upload_vector, download_vector\n",
    "from micrlhf.utils.load_sae import get_nev_it_sae_suite\n",
    "from micrlhf.utils.ito import grad_pursuit\n",
    "\n",
    "\n",
    "sae_k = 4\n",
    "for layer_sae in range(8, 16):\n",
    "    dictionary = get_nev_it_sae_suite(layer_sae)[\"W_dec\"]\n",
    "    for layer in range(0, len(residiffs)):\n",
    "        vector_name = f\"gemma-refusal-l{layer}\"\n",
    "        vector = residiffs[layer]\n",
    "        save_and_upload_vector(vector_name, vector, overwrite=True)\n",
    "        weights, recon = grad_pursuit(vector, dictionary, sae_k, pos_only=True)\n",
    "        _, i = jax.lax.top_k(jnp.abs(weights), sae_k)\n",
    "        print(f\"Layer {layer} -> Layer {layer_sae}: {i}\")\n",
    "    print()"
   ]
  }
 ],
 "metadata": {
  "kernelspec": {
   "display_name": "micrlhf-progress-a058ydGG-py3.12",
   "language": "python",
   "name": "python3"
  },
  "language_info": {
   "codemirror_mode": {
    "name": "ipython",
    "version": 3
   },
   "file_extension": ".py",
   "mimetype": "text/x-python",
   "name": "python",
   "nbconvert_exporter": "python",
   "pygments_lexer": "ipython3",
   "version": "3.12.3"
  }
 },
 "nbformat": 4,
 "nbformat_minor": 2
}
