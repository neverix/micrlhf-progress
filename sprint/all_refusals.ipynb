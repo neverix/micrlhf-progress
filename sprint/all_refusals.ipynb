{
 "cells": [
  {
   "cell_type": "code",
   "execution_count": 1,
   "metadata": {},
   "outputs": [],
   "source": [
    "import os\n",
    "if \"models\" not in os.listdir(\".\"):\n",
    "    os.chdir(\"..\")"
   ]
  },
  {
   "cell_type": "code",
   "execution_count": 2,
   "metadata": {},
   "outputs": [],
   "source": [
    "%load_ext autoreload\n",
    "%autoreload 2\n",
    "import penzai\n",
    "from penzai import pz\n",
    "pz.ts.register_as_default()\n",
    "pz.ts.register_autovisualize_magic()\n",
    "pz.enable_interactive_context()"
   ]
  },
  {
   "cell_type": "code",
   "execution_count": 3,
   "metadata": {},
   "outputs": [],
   "source": [
    "from micrlhf.llama import LlamaTransformer\n",
    "llama = LlamaTransformer.from_pretrained(\"models/gemma-2b-it.gguf\",\n",
    "                                         from_type=\"gemma\",\n",
    "                                         load_eager=True\n",
    "                                         )"
   ]
  },
  {
   "cell_type": "code",
   "execution_count": 4,
   "metadata": {},
   "outputs": [
    {
     "name": "stderr",
     "output_type": "stream",
     "text": [
      "/usr/local/lib/python3.12/pty.py:95: RuntimeWarning: os.fork() was called. os.fork() is incompatible with multithreaded code, and JAX is multithreaded, so this will likely lead to a deadlock.\n",
      "  pid, fd = os.forkpty()\n"
     ]
    }
   ],
   "source": [
    "!mkdir -p data\n",
    "import pandas as pd\n",
    "df_adv = pd.read_csv(\"data/adv.csv\")\n",
    "format_prompt = \"\"\"<start_of_turn>user\\n\n",
    "{}\\n\n",
    "<start_of_turn>model\\n\n",
    "{}\"\"\"\n",
    "# offset = 1\n",
    "# df_do = df.apply(lambda x: format_response.format(x['goal'], x['target']), axis=1)\n",
    "# prompts_harmful = df.apply(lambda x: format_prompt.format(x['goal'], \"\")[:-offset], axis=1).to_list()[:100]\n",
    "prompts_harmful = df_adv.apply(lambda x: format_prompt.format(x['goal'], \"\"), axis=1).to_list()[:100]\n",
    "dataset_jail = pd.read_csv(\"data/jail.csv\").apply(lambda x: x[\"Goal\"], axis=1).to_list()\n",
    "prompts_jail = [format_prompt.format(x, \"\") for x in dataset_jail]\n",
    "import datasets\n",
    "# https://colab.research.google.com/drive/1a-aQvKC9avdZpdyBn4jgRQFObTPy1JZw\n",
    "hf_path = 'tatsu-lab/alpaca'\n",
    "dataset = datasets.load_dataset(hf_path)\n",
    "# filter for instructions that do not have inputs\n",
    "prompts_harmless = []\n",
    "for i in range(len(dataset['train'])):\n",
    "    if len(prompts_harmless) >= len(prompts_harmful):\n",
    "        break\n",
    "    if dataset['train'][i]['input'].strip() == '':\n",
    "        # prompts_harmless.append(format_prompt.format(dataset['train'][i]['instruction'], \"\")[:-offset])\n",
    "        prompts_harmless.append(format_prompt.format(dataset['train'][i]['instruction'], \"\"))\n",
    "\n",
    "# ds = datasets.load_dataset(\"MBZUAI/LaMini-instruction\", split=\"train\", streaming=True)\n",
    "# prompts_harmless = []\n",
    "# for _, text in zip(range(100), ds):\n",
    "#     prompts_harmless.append(format_prompt.format(text[\"instruction\"], \"\"))\n",
    "\n",
    "# ds = datasets.load_dataset(\"nev/openhermes-2.5-phi-format-text\", split=\"train\", streaming=True)\n",
    "# prompts_harmless = []\n",
    "# for _, text in zip(range(100), ds):\n",
    "#     text = text[\"text\"]\n",
    "#     text = \"\".join(text.partition(\"<|assistant|>\\n\")[:2])\n",
    "#     prompts_harmless.append(text)"
   ]
  },
  {
   "cell_type": "code",
   "execution_count": 5,
   "metadata": {},
   "outputs": [],
   "source": [
    "from transformers import AutoTokenizer\n",
    "tokenizer = AutoTokenizer.from_pretrained(\"alpindale/gemma-2b\")\n",
    "tokenizer.padding_side = \"right\""
   ]
  },
  {
   "cell_type": "code",
   "execution_count": 6,
   "metadata": {},
   "outputs": [],
   "source": [
    "from micrlhf.sampling import sample, trange, jnp, load_tokenizer, jit_wrapper\n",
    "import jax\n",
    "\n",
    "tokens = tokenizer.batch_encode_plus(prompts_harmful + prompts_harmless,\n",
    "                                     return_tensors=\"np\",\n",
    "                                     padding=\"max_length\",\n",
    "                                     truncation=True,\n",
    "                                     max_length=128,\n",
    "                                     return_attention_mask=True)\n",
    "token_array = jnp.asarray(tokens[\"input_ids\"])\n",
    "token_array = jax.device_put(token_array, jax.sharding.NamedSharding(llama.mesh, jax.sharding.PartitionSpec(\"dp\", \"sp\")))\n",
    "token_array = pz.nx.wrap(token_array, \"batch\", \"seq\").untag(\"batch\").tag(\"batch\")\n",
    "inputs = llama.inputs.from_basic_segments(token_array)"
   ]
  },
  {
   "cell_type": "code",
   "execution_count": 7,
   "metadata": {},
   "outputs": [],
   "source": [
    "from micrlhf.llama import LlamaBlock\n",
    "from micrlhf.flash import flashify\n",
    "from micrlhf.sampling import sample, trange, jnp, load_tokenizer, jit_wrapper\n",
    "get_resids = llama.select().at_instances_of(LlamaBlock).apply_with_selected_index(lambda i, x:\n",
    "    pz.nn.Sequential([\n",
    "        pz.de.TellIntermediate.from_config(tag=f\"resid_pre_{i}\"),\n",
    "        x\n",
    "    ])\n",
    ")\n",
    "get_resids = pz.de.CollectingSideOutputs.handling(get_resids, tag_predicate=lambda x: x.startswith(\"resid_pre\"))\n",
    "get_resids_call = jit_wrapper.Jitted(get_resids)\n",
    "_, resids = get_resids_call(inputs)"
   ]
  },
  {
   "cell_type": "code",
   "execution_count": 8,
   "metadata": {},
   "outputs": [
    {
     "name": "stderr",
     "output_type": "stream",
     "text": [
      "/tmp/ipykernel_455751/4119513429.py:13: RuntimeWarning: invalid value encountered in divide\n",
      "  residiff = residiff / np.linalg.norm(residiff)\n"
     ]
    },
    {
     "data": {
      "image/png": "[encoded data removed]",
      "text/plain": [
       "<Figure size 640x480 with 2 Axes>"
      ]
     },
     "metadata": {},
     "output_type": "display_data"
    }
   ],
   "source": [
    "from matplotlib import pyplot as plt\n",
    "import numpy as np\n",
    "residiffs = []\n",
    "last_resids = []\n",
    "for i, resid in enumerate(sorted(resids, key=lambda x: int(x.tag.rpartition(\"_\")[-1]))):\n",
    "    resid = resid.value.unwrap(\"batch\", \"seq\", \"embedding\")\n",
    "    indices = jnp.asarray(tokens[\"attention_mask\"].sum(1, keepdims=True))[..., None] - 1\n",
    "    last_resid = jnp.take_along_axis(resid, indices, 1)[:, 0]\n",
    "    last_resid = last_resid.reshape(2, -1, last_resid.shape[-1])\n",
    "    last_resids.append(last_resid)\n",
    "    last_resid = last_resid.mean(1)\n",
    "    residiff = np.array(last_resid[0] - last_resid[1])\n",
    "    residiff = residiff / np.linalg.norm(residiff)\n",
    "    residiffs.append(residiff)\n",
    "matmuls = np.matmul(residiffs, np.transpose(residiffs))\n",
    "norms = np.linalg.norm(residiffs, axis=-1) + 1e-10\n",
    "plt.title(\"Correlations between layers' refusal vectors\")\n",
    "plt.imshow(matmuls / norms[:, None] / norms[None, :], vmin=0, vmax=1)\n",
    "plt.colorbar()\n",
    "plt.show()"
   ]
  },
  {
   "cell_type": "code",
   "execution_count": 9,
   "metadata": {},
   "outputs": [
    {
     "name": "stderr",
     "output_type": "stream",
     "text": [
      "--2024-07-19 00:15:45--  https://huggingface.co/nev/gemma-2b-saex-test/resolve/main/it-l8-residual-test-run-1-2.00E-05/sae_weights.safetensors?download=true\n",
      "Resolving huggingface.co (huggingface.co)... 108.156.211.90, 108.156.211.51, 108.156.211.125, ...\n",
      "Connecting to huggingface.co (huggingface.co)|108.156.211.90|:443... connected.\n",
      "HTTP request sent, awaiting response... 302 Found\n",
      "Location: https://cdn-lfs-us-1.huggingface.co/repos/41/2a/412ab25f82137bafe7bc1655651e4e6f7eeae46d2504fc103b2b3624ff745ff8/ac42c841f31e9b75c96c4e9654d9d0bdc8a1037371b106ab8f7a450847c773f6?response-content-disposition=attachment%3B+filename*%3DUTF-8%27%27sae_weights.safetensors%3B+filename%3D%22sae_weights.safetensors%22%3B&Expires=1721607345&Policy=eyJTdGF0ZW1lbnQiOlt7IkNvbmRpdGlvbiI6eyJEYXRlTGVzc1RoYW4iOnsiQVdTOkVwb2NoVGltZSI6MTcyMTYwNzM0NX19LCJSZXNvdXJjZSI6Imh0dHBzOi8vY2RuLWxmcy11cy0xLmh1Z2dpbmdmYWNlLmNvL3JlcG9zLzQxLzJhLzQxMmFiMjVmODIxMzdiYWZlN2JjMTY1NTY1MWU0ZTZmN2VlYWU0NmQyNTA0ZmMxMDNiMmIzNjI0ZmY3NDVmZjgvYWM0MmM4NDFmMzFlOWI3NWM5NmM0ZTk2NTRkOWQwYmRjOGExMDM3MzcxYjEwNmFiOGY3YTQ1MDg0N2M3NzNmNj9yZXNwb25zZS1jb250ZW50LWRpc3Bvc2l0aW9uPSoifV19&Signature=AkzomWUAWxabz7MBdMgSzjtb9dKerVO9NW3irDD%7EsJH3PkzABcoCvFA3EIFSla4qzatVVHBXLXcymkh0eDscrP1XJazN2tVv8Xj1bNydbWlmF0upLhIgzZa2SnhATUXqGl-P4Xv2VqkNDHPXSbBmjFF%7EpIrQtFy7wgV%7EiO-urjFIvlZtYWqJMcEsHndQ-kiLnvKBLIVeHTmjnm6ZAGZCkrgMHgpeh6EL7HPIJ27%7E8IINyqdauXuEl3bSb63QoqUUj1bjYAo0NqbBwowGR43mkT57o8KjTCiIWWPG%7ETstmzUO2VPlYeQb3XTosEtEQLVAcjmud9SP3OT6PRIEnLevlw__&Key-Pair-Id=K24J24Z295AEI9 [following]\n",
      "--2024-07-19 00:15:45--  https://cdn-lfs-us-1.huggingface.co/repos/41/2a/412ab25f82137bafe7bc1655651e4e6f7eeae46d2504fc103b2b3624ff745ff8/ac42c841f31e9b75c96c4e9654d9d0bdc8a1037371b106ab8f7a450847c773f6?response-content-disposition=attachment%3B+filename*%3DUTF-8%27%27sae_weights.safetensors%3B+filename%3D%22sae_weights.safetensors%22%3B&Expires=1721607345&Policy=eyJTdGF0ZW1lbnQiOlt7IkNvbmRpdGlvbiI6eyJEYXRlTGVzc1RoYW4iOnsiQVdTOkVwb2NoVGltZSI6MTcyMTYwNzM0NX19LCJSZXNvdXJjZSI6Imh0dHBzOi8vY2RuLWxmcy11cy0xLmh1Z2dpbmdmYWNlLmNvL3JlcG9zLzQxLzJhLzQxMmFiMjVmODIxMzdiYWZlN2JjMTY1NTY1MWU0ZTZmN2VlYWU0NmQyNTA0ZmMxMDNiMmIzNjI0ZmY3NDVmZjgvYWM0MmM4NDFmMzFlOWI3NWM5NmM0ZTk2NTRkOWQwYmRjOGExMDM3MzcxYjEwNmFiOGY3YTQ1MDg0N2M3NzNmNj9yZXNwb25zZS1jb250ZW50LWRpc3Bvc2l0aW9uPSoifV19&Signature=AkzomWUAWxabz7MBdMgSzjtb9dKerVO9NW3irDD%7EsJH3PkzABcoCvFA3EIFSla4qzatVVHBXLXcymkh0eDscrP1XJazN2tVv8Xj1bNydbWlmF0upLhIgzZa2SnhATUXqGl-P4Xv2VqkNDHPXSbBmjFF%7EpIrQtFy7wgV%7EiO-urjFIvlZtYWqJMcEsHndQ-kiLnvKBLIVeHTmjnm6ZAGZCkrgMHgpeh6EL7HPIJ27%7E8IINyqdauXuEl3bSb63QoqUUj1bjYAo0NqbBwowGR43mkT57o8KjTCiIWWPG%7ETstmzUO2VPlYeQb3XTosEtEQLVAcjmud9SP3OT6PRIEnLevlw__&Key-Pair-Id=K24J24Z295AEI9\n",
      "Resolving cdn-lfs-us-1.huggingface.co (cdn-lfs-us-1.huggingface.co)... 108.157.150.29, 108.157.150.12, 108.157.150.21, ...\n",
      "Connecting to cdn-lfs-us-1.huggingface.co (cdn-lfs-us-1.huggingface.co)|108.157.150.29|:443... connected.\n",
      "HTTP request sent, awaiting response... 416 Requested Range Not Satisfiable\n",
      "\n",
      "    The file is already fully retrieved; nothing to do.\n",
      "\n"
     ]
    },
    {
     "name": "stdout",
     "output_type": "stream",
     "text": [
      "Layer 1 -> Layer 8: [(30352, 0.1952102929353714), (3841, 0.13383595645427704), (9243, 0.12939734756946564), (30060, 0.108360655605793)]\n",
      "Layer 2 -> Layer 8: [(1009, 0.11850140243768692), (23458, 0.08884365856647491), (10906, 0.08618446439504623), (11946, 0.08085309714078903)]\n",
      "Layer 3 -> Layer 8: [(9668, 0.11763045936822891), (30549, 0.11281654238700867), (11744, 0.0979623943567276), (15326, 0.08791491389274597)]\n",
      "Layer 4 -> Layer 8: [(3336, 0.14334441721439362), (8569, 0.13434343039989471), (7428, 0.11023083329200745), (13402, 0.10916341841220856)]\n",
      "Layer 5 -> Layer 8: [(3336, 0.20117217302322388), (26817, 0.16617067158222198), (19050, 0.13734637200832367), (32103, 0.11374811828136444)]\n",
      "Layer 6 -> Layer 8: [(17389, 0.1944379061460495), (16601, 0.18179243803024292), (26817, 0.1689969301223755), (8286, 0.1362304538488388)]\n",
      "Layer 7 -> Layer 8: [(17050, 0.2758801281452179), (439, 0.23373857140541077), (6164, 0.20651789009571075), (19254, 0.18558093905448914)]\n",
      "Layer 8 -> Layer 8: [(8286, 0.36318427324295044), (6164, 0.26453810930252075), (7180, 0.21572624146938324), (19254, 0.1961984634399414)]\n",
      "Layer 9 -> Layer 8: [(8286, 0.2631177008152008), (19254, 0.19797655940055847), (439, 0.19380801916122437), (6164, 0.1853840947151184)]\n",
      "Layer 10 -> Layer 8: [(8286, 0.2753230929374695), (7180, 0.2331264466047287), (19254, 0.22306662797927856), (9749, 0.1638171225786209)]\n",
      "Layer 11 -> Layer 8: [(19254, 0.19553682208061218), (17050, 0.19282352924346924), (2161, 0.15326084196567535), (14190, 0.1311636120080948)]\n",
      "Layer 12 -> Layer 8: [(27334, 0.18017978966236115), (29338, 0.16007354855537415), (9749, 0.1535557359457016), (8286, 0.14022599160671234)]\n",
      "Layer 13 -> Layer 8: [(11727, 0.16736361384391785), (14190, 0.15501147508621216), (8286, 0.14613090455532074), (5483, 0.11533386260271072)]\n",
      "Layer 14 -> Layer 8: [(14190, 0.16214421391487122), (5483, 0.1558326929807663), (8286, 0.13943873345851898), (12939, 0.12021384388208389)]\n",
      "Layer 15 -> Layer 8: [(14190, 0.15291434526443481), (8286, 0.13234341144561768), (5483, 0.124400295317173), (12939, 0.10786902159452438)]\n",
      "Layer 16 -> Layer 8: [(8286, 0.16672813892364502), (14190, 0.16215762495994568), (12939, 0.11793456971645355), (27944, 0.10718449205160141)]\n",
      "Layer 17 -> Layer 8: [(8286, 0.15702268481254578), (14190, 0.13457012176513672), (24825, 0.1165388971567154), (27944, 0.10791856795549393)]\n",
      "\n"
     ]
    },
    {
     "name": "stderr",
     "output_type": "stream",
     "text": [
      "--2024-07-19 00:15:55--  https://huggingface.co/nev/gemma-2b-saex-test/resolve/main/it-l9-residual-test-run-1-2.00E-05/sae_weights.safetensors?download=true\n",
      "Resolving huggingface.co (huggingface.co)... 108.156.211.90, 108.156.211.51, 108.156.211.125, ...\n",
      "Connecting to huggingface.co (huggingface.co)|108.156.211.90|:443... connected.\n",
      "HTTP request sent, awaiting response... 302 Found\n",
      "Location: https://cdn-lfs-us-1.huggingface.co/repos/41/2a/412ab25f82137bafe7bc1655651e4e6f7eeae46d2504fc103b2b3624ff745ff8/a6fc6365a258eeb906ac0c2e6970a08be66f6222b8c1b37f9f71b77447a75693?response-content-disposition=attachment%3B+filename*%3DUTF-8%27%27sae_weights.safetensors%3B+filename%3D%22sae_weights.safetensors%22%3B&Expires=1721607355&Policy=eyJTdGF0ZW1lbnQiOlt7IkNvbmRpdGlvbiI6eyJEYXRlTGVzc1RoYW4iOnsiQVdTOkVwb2NoVGltZSI6MTcyMTYwNzM1NX19LCJSZXNvdXJjZSI6Imh0dHBzOi8vY2RuLWxmcy11cy0xLmh1Z2dpbmdmYWNlLmNvL3JlcG9zLzQxLzJhLzQxMmFiMjVmODIxMzdiYWZlN2JjMTY1NTY1MWU0ZTZmN2VlYWU0NmQyNTA0ZmMxMDNiMmIzNjI0ZmY3NDVmZjgvYTZmYzYzNjVhMjU4ZWViOTA2YWMwYzJlNjk3MGEwOGJlNjZmNjIyMmI4YzFiMzdmOWY3MWI3NzQ0N2E3NTY5Mz9yZXNwb25zZS1jb250ZW50LWRpc3Bvc2l0aW9uPSoifV19&Signature=uYW2AcnZOnRDulTBuqxoGnkG%7EhyLym2nsGR7UgqCEM1%7EuhIjvC2J%7EyOcZBynVAtQ76VTMh6tEwoxe7Wtapydv5%7ERJuuk4f76s9FVqT%7EzwPElV8LjiiJXLvsIHCi5U%7E54fgm40-FkUqeHybJIcN9hHD1kTMYh9PW92N3jBmq1Elx1kMwF2jKZ8DC63gdgGAxVcrnFcVw9uxAkz173nSoLYLZbaKhXDv-kY06%7E7SBX2d1n5AkoL3W%7EHNW2wLGOcZlFy2WccvwjaEc1NZcNcd0D9hBLz9-tTVYIs3bXbsJb7P81XNdBIsWyujAHEO18niUhthoVawtI9HmBezXLy8m8Ag__&Key-Pair-Id=K24J24Z295AEI9 [following]\n",
      "--2024-07-19 00:15:55--  https://cdn-lfs-us-1.huggingface.co/repos/41/2a/412ab25f82137bafe7bc1655651e4e6f7eeae46d2504fc103b2b3624ff745ff8/a6fc6365a258eeb906ac0c2e6970a08be66f6222b8c1b37f9f71b77447a75693?response-content-disposition=attachment%3B+filename*%3DUTF-8%27%27sae_weights.safetensors%3B+filename%3D%22sae_weights.safetensors%22%3B&Expires=1721607355&Policy=eyJTdGF0ZW1lbnQiOlt7IkNvbmRpdGlvbiI6eyJEYXRlTGVzc1RoYW4iOnsiQVdTOkVwb2NoVGltZSI6MTcyMTYwNzM1NX19LCJSZXNvdXJjZSI6Imh0dHBzOi8vY2RuLWxmcy11cy0xLmh1Z2dpbmdmYWNlLmNvL3JlcG9zLzQxLzJhLzQxMmFiMjVmODIxMzdiYWZlN2JjMTY1NTY1MWU0ZTZmN2VlYWU0NmQyNTA0ZmMxMDNiMmIzNjI0ZmY3NDVmZjgvYTZmYzYzNjVhMjU4ZWViOTA2YWMwYzJlNjk3MGEwOGJlNjZmNjIyMmI4YzFiMzdmOWY3MWI3NzQ0N2E3NTY5Mz9yZXNwb25zZS1jb250ZW50LWRpc3Bvc2l0aW9uPSoifV19&Signature=uYW2AcnZOnRDulTBuqxoGnkG%7EhyLym2nsGR7UgqCEM1%7EuhIjvC2J%7EyOcZBynVAtQ76VTMh6tEwoxe7Wtapydv5%7ERJuuk4f76s9FVqT%7EzwPElV8LjiiJXLvsIHCi5U%7E54fgm40-FkUqeHybJIcN9hHD1kTMYh9PW92N3jBmq1Elx1kMwF2jKZ8DC63gdgGAxVcrnFcVw9uxAkz173nSoLYLZbaKhXDv-kY06%7E7SBX2d1n5AkoL3W%7EHNW2wLGOcZlFy2WccvwjaEc1NZcNcd0D9hBLz9-tTVYIs3bXbsJb7P81XNdBIsWyujAHEO18niUhthoVawtI9HmBezXLy8m8Ag__&Key-Pair-Id=K24J24Z295AEI9\n",
      "Resolving cdn-lfs-us-1.huggingface.co (cdn-lfs-us-1.huggingface.co)... 108.157.150.12, 108.157.150.29, 108.157.150.122, ...\n",
      "Connecting to cdn-lfs-us-1.huggingface.co (cdn-lfs-us-1.huggingface.co)|108.157.150.12|:443... connected.\n",
      "HTTP request sent, awaiting response... 416 Requested Range Not Satisfiable\n",
      "\n",
      "    The file is already fully retrieved; nothing to do.\n",
      "\n"
     ]
    },
    {
     "name": "stdout",
     "output_type": "stream",
     "text": [
      "Layer 1 -> Layer 9: [(13951, 0.17213274538516998), (18113, 0.14940200746059418), (25840, 0.1177874505519867), (18597, 0.11273543536663055)]\n",
      "Layer 2 -> Layer 9: [(7408, 0.10456289350986481), (11858, 0.09005238860845566), (21116, 0.08471507579088211), (25611, 0.08057957142591476)]\n",
      "Layer 3 -> Layer 9: [(31122, 0.10348872095346451), (20849, 0.1026429757475853), (16398, 0.09848993271589279), (17183, 0.09416018426418304)]\n",
      "Layer 4 -> Layer 9: [(5295, 0.16066645085811615), (25880, 0.1351255625486374), (31122, 0.11518435180187225), (24422, 0.10885351151227951)]\n",
      "Layer 5 -> Layer 9: [(25880, 0.20054318010807037), (23362, 0.15553373098373413), (7807, 0.14706742763519287), (19435, 0.13179609179496765)]\n",
      "Layer 6 -> Layer 9: [(25880, 0.19348648190498352), (13059, 0.18803539872169495), (13045, 0.15610097348690033), (18293, 0.12138845026493073)]\n",
      "Layer 7 -> Layer 9: [(16576, 0.23257622122764587), (13120, 0.23027530312538147), (19981, 0.19612298905849457), (25880, 0.1753692775964737)]\n",
      "Layer 8 -> Layer 9: [(16576, 0.2955562472343445), (19981, 0.232954740524292), (8009, 0.1842065304517746), (13120, 0.18280455470085144)]\n",
      "Layer 9 -> Layer 9: [(16576, 0.27347350120544434), (19981, 0.23881176114082336), (13120, 0.1970103532075882), (25765, 0.17833870649337769)]\n",
      "Layer 10 -> Layer 9: [(19981, 0.34354230761528015), (16576, 0.252525269985199), (756, 0.21846216917037964), (13120, 0.1690237820148468)]\n",
      "Layer 11 -> Layer 9: [(19981, 0.24040931463241577), (14006, 0.1987324357032776), (756, 0.17148110270500183), (15428, 0.14998826384544373)]\n",
      "Layer 12 -> Layer 9: [(19981, 0.249404639005661), (1031, 0.18078450858592987), (9540, 0.15802809596061707), (756, 0.15089355409145355)]\n",
      "Layer 13 -> Layer 9: [(1031, 0.18777839839458466), (13363, 0.17981381714344025), (20153, 0.16550031304359436), (22996, 0.12342692911624908)]\n",
      "Layer 14 -> Layer 9: [(15428, 0.20134787261486053), (13363, 0.1861341893672943), (22996, 0.14424753189086914), (21661, 0.13928450644016266)]\n",
      "Layer 15 -> Layer 9: [(15428, 0.16923590004444122), (13363, 0.1588202267885208), (22996, 0.1448969841003418), (21661, 0.13687855005264282)]\n",
      "Layer 16 -> Layer 9: [(13363, 0.15469777584075928), (16576, 0.13823984563350677), (15428, 0.13632743060588837), (22996, 0.13202695548534393)]\n",
      "Layer 17 -> Layer 9: [(16576, 0.16314542293548584), (13363, 0.141325905919075), (15428, 0.12219379842281342), (22996, 0.11739581823348999)]\n",
      "\n"
     ]
    },
    {
     "name": "stderr",
     "output_type": "stream",
     "text": [
      "--2024-07-19 00:16:01--  https://huggingface.co/nev/gemma-2b-saex-test/resolve/main/it-l10-residual-test-run-1-2.00E-05/sae_weights.safetensors?download=true\n",
      "Resolving huggingface.co (huggingface.co)... 108.156.211.125, 108.156.211.51, 108.156.211.95, ...\n",
      "Connecting to huggingface.co (huggingface.co)|108.156.211.125|:443... connected.\n",
      "HTTP request sent, awaiting response... 302 Found\n",
      "Location: https://cdn-lfs-us-1.huggingface.co/repos/41/2a/412ab25f82137bafe7bc1655651e4e6f7eeae46d2504fc103b2b3624ff745ff8/98b3d7978c54df5f79f204da533ea3c1615d91ff92b245051df118a798a10913?response-content-disposition=attachment%3B+filename*%3DUTF-8%27%27sae_weights.safetensors%3B+filename%3D%22sae_weights.safetensors%22%3B&Expires=1721607362&Policy=eyJTdGF0ZW1lbnQiOlt7IkNvbmRpdGlvbiI6eyJEYXRlTGVzc1RoYW4iOnsiQVdTOkVwb2NoVGltZSI6MTcyMTYwNzM2Mn19LCJSZXNvdXJjZSI6Imh0dHBzOi8vY2RuLWxmcy11cy0xLmh1Z2dpbmdmYWNlLmNvL3JlcG9zLzQxLzJhLzQxMmFiMjVmODIxMzdiYWZlN2JjMTY1NTY1MWU0ZTZmN2VlYWU0NmQyNTA0ZmMxMDNiMmIzNjI0ZmY3NDVmZjgvOThiM2Q3OTc4YzU0ZGY1Zjc5ZjIwNGRhNTMzZWEzYzE2MTVkOTFmZjkyYjI0NTA1MWRmMTE4YTc5OGExMDkxMz9yZXNwb25zZS1jb250ZW50LWRpc3Bvc2l0aW9uPSoifV19&Signature=J4MCPiOebjJF5gBPoEfJXBLMrDb6zttbxSnRacNZaOhiAqrOWq-BcVgX4dahH9yksATezz0GUqSCmxcg%7Ee-KwrZNfklff704ZxaZ2ffeF0bpi8QBCUDSsZqqyf1P5wJyie5cE0-KlIvXEcyTGepMfFhmfM4ehA8zfZFPPmtc7c%7EyldKEVOzVJO7i201DS0UA679XdT4XZIAvz1Hk4hC5keEIpGuauvzzTwndBu76GySkQ4owiMbHcvIhOFiQRdwSI5Zr8ZtHfxfdyRmlivtpKA0iqThRuu77rt6WGeqkEmvswVSOL2INNwwjGb5Sn8jijrpHcJx65DR9C6i2-O6CaA__&Key-Pair-Id=K24J24Z295AEI9 [following]\n",
      "--2024-07-19 00:16:02--  https://cdn-lfs-us-1.huggingface.co/repos/41/2a/412ab25f82137bafe7bc1655651e4e6f7eeae46d2504fc103b2b3624ff745ff8/98b3d7978c54df5f79f204da533ea3c1615d91ff92b245051df118a798a10913?response-content-disposition=attachment%3B+filename*%3DUTF-8%27%27sae_weights.safetensors%3B+filename%3D%22sae_weights.safetensors%22%3B&Expires=1721607362&Policy=eyJTdGF0ZW1lbnQiOlt7IkNvbmRpdGlvbiI6eyJEYXRlTGVzc1RoYW4iOnsiQVdTOkVwb2NoVGltZSI6MTcyMTYwNzM2Mn19LCJSZXNvdXJjZSI6Imh0dHBzOi8vY2RuLWxmcy11cy0xLmh1Z2dpbmdmYWNlLmNvL3JlcG9zLzQxLzJhLzQxMmFiMjVmODIxMzdiYWZlN2JjMTY1NTY1MWU0ZTZmN2VlYWU0NmQyNTA0ZmMxMDNiMmIzNjI0ZmY3NDVmZjgvOThiM2Q3OTc4YzU0ZGY1Zjc5ZjIwNGRhNTMzZWEzYzE2MTVkOTFmZjkyYjI0NTA1MWRmMTE4YTc5OGExMDkxMz9yZXNwb25zZS1jb250ZW50LWRpc3Bvc2l0aW9uPSoifV19&Signature=J4MCPiOebjJF5gBPoEfJXBLMrDb6zttbxSnRacNZaOhiAqrOWq-BcVgX4dahH9yksATezz0GUqSCmxcg%7Ee-KwrZNfklff704ZxaZ2ffeF0bpi8QBCUDSsZqqyf1P5wJyie5cE0-KlIvXEcyTGepMfFhmfM4ehA8zfZFPPmtc7c%7EyldKEVOzVJO7i201DS0UA679XdT4XZIAvz1Hk4hC5keEIpGuauvzzTwndBu76GySkQ4owiMbHcvIhOFiQRdwSI5Zr8ZtHfxfdyRmlivtpKA0iqThRuu77rt6WGeqkEmvswVSOL2INNwwjGb5Sn8jijrpHcJx65DR9C6i2-O6CaA__&Key-Pair-Id=K24J24Z295AEI9\n",
      "Resolving cdn-lfs-us-1.huggingface.co (cdn-lfs-us-1.huggingface.co)... 108.157.150.21, 108.157.150.29, 108.157.150.12, ...\n",
      "Connecting to cdn-lfs-us-1.huggingface.co (cdn-lfs-us-1.huggingface.co)|108.157.150.21|:443... connected.\n",
      "HTTP request sent, awaiting response... 416 Requested Range Not Satisfiable\n",
      "\n",
      "    The file is already fully retrieved; nothing to do.\n",
      "\n"
     ]
    },
    {
     "name": "stdout",
     "output_type": "stream",
     "text": [
      "Layer 1 -> Layer 10: [(13863, 0.14648357033729553), (31272, 0.13942724466323853), (14801, 0.11078647524118423), (24027, 0.10382676869630814)]\n",
      "Layer 2 -> Layer 10: [(11406, 0.11041160672903061), (18882, 0.09665515273809433), (25400, 0.09170607477426529), (22101, 0.08007075637578964)]\n",
      "Layer 3 -> Layer 10: [(31148, 0.11199050396680832), (28499, 0.09939844161272049), (30694, 0.09868760406970978), (12618, 0.09793339669704437)]\n",
      "Layer 4 -> Layer 10: [(16300, 0.1349358856678009), (17069, 0.11379542946815491), (15534, 0.10713743418455124), (8059, 0.10632841289043427)]\n",
      "Layer 5 -> Layer 10: [(25784, 0.1672242134809494), (31644, 0.14913903176784515), (794, 0.1259722262620926), (22297, 0.11602567136287689)]\n",
      "Layer 6 -> Layer 10: [(25784, 0.21201227605342865), (794, 0.18611367046833038), (6125, 0.1370782107114792), (31644, 0.1318420022726059)]\n",
      "Layer 7 -> Layer 10: [(3913, 0.36472636461257935), (19569, 0.19336359202861786), (23152, 0.1626395881175995), (28397, 0.15540312230587006)]\n",
      "Layer 8 -> Layer 10: [(3913, 0.4080492854118347), (19569, 0.206641286611557), (28397, 0.18042808771133423), (31134, 0.14509031176567078)]\n",
      "Layer 9 -> Layer 10: [(3913, 0.39996960759162903), (28397, 0.18317124247550964), (19569, 0.17692580819129944), (31134, 0.1400424838066101)]\n",
      "Layer 10 -> Layer 10: [(3913, 0.7253211140632629), (6728, 0.1151943951845169), (8818, 0.11281219869852066), (30832, 0.11196640133857727)]\n",
      "Layer 11 -> Layer 10: [(3913, 0.5553402304649353), (1185, 0.1397455483675003), (5127, 0.11913979798555374), (23528, 0.10882236808538437)]\n",
      "Layer 12 -> Layer 10: [(3913, 0.40569451451301575), (6728, 0.19463802874088287), (13330, 0.13909165561199188), (32694, 0.12890875339508057)]\n",
      "Layer 13 -> Layer 10: [(3913, 0.3536669909954071), (22032, 0.15461070835590363), (18365, 0.13992364704608917), (28830, 0.11528471857309341)]\n",
      "Layer 14 -> Layer 10: [(3913, 0.3152998685836792), (32694, 0.15560656785964966), (23528, 0.14077438414096832), (17782, 0.12102340161800385)]\n",
      "Layer 15 -> Layer 10: [(3913, 0.2428804337978363), (32694, 0.13582152128219604), (6728, 0.118275947868824), (22757, 0.11375809460878372)]\n",
      "Layer 16 -> Layer 10: [(3913, 0.24184571206569672), (6728, 0.13181136548519135), (5531, 0.12123274803161621), (18545, 0.11005585640668869)]\n",
      "Layer 17 -> Layer 10: [(3913, 0.23560881614685059), (6728, 0.13683326542377472), (5531, 0.1258973777294159), (29413, 0.10260780155658722)]\n",
      "\n"
     ]
    },
    {
     "name": "stderr",
     "output_type": "stream",
     "text": [
      "--2024-07-19 00:16:08--  https://huggingface.co/nev/gemma-2b-saex-test/resolve/main/it-l11-residual-test-run-1-2.00E-05/sae_weights.safetensors?download=true\n",
      "Resolving huggingface.co (huggingface.co)... 108.157.142.55, 108.157.142.74, 108.157.142.53, ...\n",
      "Connecting to huggingface.co (huggingface.co)|108.157.142.55|:443... connected.\n",
      "HTTP request sent, awaiting response... 302 Found\n",
      "Location: https://cdn-lfs-us-1.huggingface.co/repos/41/2a/412ab25f82137bafe7bc1655651e4e6f7eeae46d2504fc103b2b3624ff745ff8/28957e3bb381cf0760e15f81617bd08dbfc6c6999afc646aff68febfaf164da8?response-content-disposition=attachment%3B+filename*%3DUTF-8%27%27sae_weights.safetensors%3B+filename%3D%22sae_weights.safetensors%22%3B&Expires=1721607368&Policy=eyJTdGF0ZW1lbnQiOlt7IkNvbmRpdGlvbiI6eyJEYXRlTGVzc1RoYW4iOnsiQVdTOkVwb2NoVGltZSI6MTcyMTYwNzM2OH19LCJSZXNvdXJjZSI6Imh0dHBzOi8vY2RuLWxmcy11cy0xLmh1Z2dpbmdmYWNlLmNvL3JlcG9zLzQxLzJhLzQxMmFiMjVmODIxMzdiYWZlN2JjMTY1NTY1MWU0ZTZmN2VlYWU0NmQyNTA0ZmMxMDNiMmIzNjI0ZmY3NDVmZjgvMjg5NTdlM2JiMzgxY2YwNzYwZTE1ZjgxNjE3YmQwOGRiZmM2YzY5OTlhZmM2NDZhZmY2OGZlYmZhZjE2NGRhOD9yZXNwb25zZS1jb250ZW50LWRpc3Bvc2l0aW9uPSoifV19&Signature=UfmjZrFMrUYlXWdjE0de7EV2mpS7QXYV9TJknAYcmTBCgHbGx9R%7ESO15vv6fwxtsZvfmtxIKr4crtxF0UPeDNhJ-rxdk70KvwQcrcqnd%7EZNYvI2dd6TqREvqWMcLyRhFg41W4I6eaPRWirzaXgtn8aVYLkcvjLuMgzrZhDHiUP0mLkRifuUP7PatkbaHY3i50L8-86IzNeJAO2ZtbFsq5l-Q52lY1hZhQk9K8hNCIyOMVmowbuUfXbrmA8Bhh00zBpTIOryCMmooepOtdxVcTYSA9evVZ7-PHIocuVn2Di9hXCVx-sbowOIk3fGSKbSDI%7ENkpkToTv40-OP3CO2a-A__&Key-Pair-Id=K24J24Z295AEI9 [following]\n",
      "--2024-07-19 00:16:08--  https://cdn-lfs-us-1.huggingface.co/repos/41/2a/412ab25f82137bafe7bc1655651e4e6f7eeae46d2504fc103b2b3624ff745ff8/28957e3bb381cf0760e15f81617bd08dbfc6c6999afc646aff68febfaf164da8?response-content-disposition=attachment%3B+filename*%3DUTF-8%27%27sae_weights.safetensors%3B+filename%3D%22sae_weights.safetensors%22%3B&Expires=1721607368&Policy=eyJTdGF0ZW1lbnQiOlt7IkNvbmRpdGlvbiI6eyJEYXRlTGVzc1RoYW4iOnsiQVdTOkVwb2NoVGltZSI6MTcyMTYwNzM2OH19LCJSZXNvdXJjZSI6Imh0dHBzOi8vY2RuLWxmcy11cy0xLmh1Z2dpbmdmYWNlLmNvL3JlcG9zLzQxLzJhLzQxMmFiMjVmODIxMzdiYWZlN2JjMTY1NTY1MWU0ZTZmN2VlYWU0NmQyNTA0ZmMxMDNiMmIzNjI0ZmY3NDVmZjgvMjg5NTdlM2JiMzgxY2YwNzYwZTE1ZjgxNjE3YmQwOGRiZmM2YzY5OTlhZmM2NDZhZmY2OGZlYmZhZjE2NGRhOD9yZXNwb25zZS1jb250ZW50LWRpc3Bvc2l0aW9uPSoifV19&Signature=UfmjZrFMrUYlXWdjE0de7EV2mpS7QXYV9TJknAYcmTBCgHbGx9R%7ESO15vv6fwxtsZvfmtxIKr4crtxF0UPeDNhJ-rxdk70KvwQcrcqnd%7EZNYvI2dd6TqREvqWMcLyRhFg41W4I6eaPRWirzaXgtn8aVYLkcvjLuMgzrZhDHiUP0mLkRifuUP7PatkbaHY3i50L8-86IzNeJAO2ZtbFsq5l-Q52lY1hZhQk9K8hNCIyOMVmowbuUfXbrmA8Bhh00zBpTIOryCMmooepOtdxVcTYSA9evVZ7-PHIocuVn2Di9hXCVx-sbowOIk3fGSKbSDI%7ENkpkToTv40-OP3CO2a-A__&Key-Pair-Id=K24J24Z295AEI9\n",
      "Resolving cdn-lfs-us-1.huggingface.co (cdn-lfs-us-1.huggingface.co)... 108.157.150.21, 108.157.150.122, 108.157.150.29, ...\n",
      "Connecting to cdn-lfs-us-1.huggingface.co (cdn-lfs-us-1.huggingface.co)|108.157.150.21|:443... connected.\n",
      "HTTP request sent, awaiting response... 416 Requested Range Not Satisfiable\n",
      "\n",
      "    The file is already fully retrieved; nothing to do.\n",
      "\n"
     ]
    },
    {
     "name": "stdout",
     "output_type": "stream",
     "text": [
      "Layer 1 -> Layer 11: [(8708, 0.12911812961101532), (12153, 0.11682811379432678), (26624, 0.1101110577583313), (8062, 0.10593162477016449)]\n",
      "Layer 2 -> Layer 11: [(30880, 0.11883576214313507), (26841, 0.09030907601118088), (29228, 0.08682799339294434), (30685, 0.08662112802267075)]\n",
      "Layer 3 -> Layer 11: [(20375, 0.12988543510437012), (27115, 0.10854412615299225), (29310, 0.1031997948884964), (14107, 0.09005698561668396)]\n",
      "Layer 4 -> Layer 11: [(30274, 0.12936623394489288), (1312, 0.11129292845726013), (28549, 0.10644447803497314), (19853, 0.10203612595796585)]\n",
      "Layer 5 -> Layer 11: [(31800, 0.1698571890592575), (14595, 0.16649800539016724), (1839, 0.11802547425031662), (7613, 0.11552818864583969)]\n",
      "Layer 6 -> Layer 11: [(865, 0.2060256451368332), (19312, 0.1515699326992035), (1312, 0.1382637619972229), (13254, 0.13468794524669647)]\n",
      "Layer 7 -> Layer 11: [(22528, 0.28392401337623596), (31180, 0.2299465388059616), (15093, 0.17271706461906433), (28690, 0.16033749282360077)]\n",
      "Layer 8 -> Layer 11: [(22528, 0.3342815339565277), (31180, 0.20627877116203308), (25818, 0.1761900782585144), (22940, 0.15819840133190155)]\n",
      "Layer 9 -> Layer 11: [(22528, 0.31734582781791687), (8769, 0.16987957060337067), (17801, 0.15720033645629883), (10254, 0.15290039777755737)]\n",
      "Layer 10 -> Layer 11: [(22528, 0.5782769918441772), (22940, 0.15675421059131622), (8769, 0.13671839237213135), (14288, 0.12892401218414307)]\n",
      "Layer 11 -> Layer 11: [(22528, 0.6940308809280396), (28189, 0.152167409658432), (18743, 0.1214631050825119), (26998, 0.09994098544120789)]\n",
      "Layer 12 -> Layer 11: [(22528, 0.5532395243644714), (11148, 0.17024396359920502), (28189, 0.12917450070381165), (24741, 0.1261664628982544)]\n",
      "Layer 13 -> Layer 11: [(22528, 0.48410463333129883), (28189, 0.14946474134922028), (28455, 0.12968723475933075), (19972, 0.0992933064699173)]\n",
      "Layer 14 -> Layer 11: [(22528, 0.45623812079429626), (32558, 0.12022722512483597), (19972, 0.11837427318096161), (28455, 0.10725132375955582)]\n",
      "Layer 15 -> Layer 11: [(22528, 0.36209413409233093), (19972, 0.12220731377601624), (32558, 0.10590212047100067), (3648, 0.09202113747596741)]\n",
      "Layer 16 -> Layer 11: [(22528, 0.33405616879463196), (19972, 0.1420324146747589), (26165, 0.108632393181324), (23389, 0.10116197168827057)]\n",
      "Layer 17 -> Layer 11: [(22528, 0.320468932390213), (19972, 0.1295078694820404), (3648, 0.11752235144376755), (26165, 0.10137691348791122)]\n",
      "\n"
     ]
    },
    {
     "name": "stderr",
     "output_type": "stream",
     "text": [
      "--2024-07-19 00:16:14--  https://huggingface.co/nev/gemma-2b-saex-test/resolve/main/it-l12-residual-test-run-1-2.00E-05/sae_weights.safetensors?download=true\n",
      "Resolving huggingface.co (huggingface.co)... 108.157.142.53, 108.157.142.50, 108.157.142.55, ...\n",
      "Connecting to huggingface.co (huggingface.co)|108.157.142.53|:443... connected.\n",
      "HTTP request sent, awaiting response... 302 Found\n",
      "Location: https://cdn-lfs-us-1.huggingface.co/repos/41/2a/412ab25f82137bafe7bc1655651e4e6f7eeae46d2504fc103b2b3624ff745ff8/f6f0fed84fb6b6b13892c512e1edb338dad47ef37d72479f853e9f171c3a96d6?response-content-disposition=attachment%3B+filename*%3DUTF-8%27%27sae_weights.safetensors%3B+filename%3D%22sae_weights.safetensors%22%3B&Expires=1721607374&Policy=eyJTdGF0ZW1lbnQiOlt7IkNvbmRpdGlvbiI6eyJEYXRlTGVzc1RoYW4iOnsiQVdTOkVwb2NoVGltZSI6MTcyMTYwNzM3NH19LCJSZXNvdXJjZSI6Imh0dHBzOi8vY2RuLWxmcy11cy0xLmh1Z2dpbmdmYWNlLmNvL3JlcG9zLzQxLzJhLzQxMmFiMjVmODIxMzdiYWZlN2JjMTY1NTY1MWU0ZTZmN2VlYWU0NmQyNTA0ZmMxMDNiMmIzNjI0ZmY3NDVmZjgvZjZmMGZlZDg0ZmI2YjZiMTM4OTJjNTEyZTFlZGIzMzhkYWQ0N2VmMzdkNzI0NzlmODUzZTlmMTcxYzNhOTZkNj9yZXNwb25zZS1jb250ZW50LWRpc3Bvc2l0aW9uPSoifV19&Signature=dnUT8itt5TrmQQ6kuStbVYk27jGkAEYXbEtqu6k24Ki3GIBP7PmQmNXhGhJtgYqTkwupD88xfp6C6hGvlnsYZu6irgz59Pdxbi74W3D0US%7ETfjsL8URP2g2YZNGQ7Pvag1j6ce4Lamf0541tfw2Jh7uKucmSGFC3aW3FQiYBrHNPZq-J01XhX1pW1pM-WyjcY4vgbZGIFb0p0LxtnKmHCj2f4ZpaYHvOh1qQrKaaS0mIE89aV0nUiGDRnELUuv6HMVnGT8Om2YhXYimkja8IVr4QI9ftr8aNjDQIcJrg6pKVhK7ifDVzudAP-edXhP9ytjFmA3BgrsYDXsuPThOiAA__&Key-Pair-Id=K24J24Z295AEI9 [following]\n",
      "--2024-07-19 00:16:14--  https://cdn-lfs-us-1.huggingface.co/repos/41/2a/412ab25f82137bafe7bc1655651e4e6f7eeae46d2504fc103b2b3624ff745ff8/f6f0fed84fb6b6b13892c512e1edb338dad47ef37d72479f853e9f171c3a96d6?response-content-disposition=attachment%3B+filename*%3DUTF-8%27%27sae_weights.safetensors%3B+filename%3D%22sae_weights.safetensors%22%3B&Expires=1721607374&Policy=eyJTdGF0ZW1lbnQiOlt7IkNvbmRpdGlvbiI6eyJEYXRlTGVzc1RoYW4iOnsiQVdTOkVwb2NoVGltZSI6MTcyMTYwNzM3NH19LCJSZXNvdXJjZSI6Imh0dHBzOi8vY2RuLWxmcy11cy0xLmh1Z2dpbmdmYWNlLmNvL3JlcG9zLzQxLzJhLzQxMmFiMjVmODIxMzdiYWZlN2JjMTY1NTY1MWU0ZTZmN2VlYWU0NmQyNTA0ZmMxMDNiMmIzNjI0ZmY3NDVmZjgvZjZmMGZlZDg0ZmI2YjZiMTM4OTJjNTEyZTFlZGIzMzhkYWQ0N2VmMzdkNzI0NzlmODUzZTlmMTcxYzNhOTZkNj9yZXNwb25zZS1jb250ZW50LWRpc3Bvc2l0aW9uPSoifV19&Signature=dnUT8itt5TrmQQ6kuStbVYk27jGkAEYXbEtqu6k24Ki3GIBP7PmQmNXhGhJtgYqTkwupD88xfp6C6hGvlnsYZu6irgz59Pdxbi74W3D0US%7ETfjsL8URP2g2YZNGQ7Pvag1j6ce4Lamf0541tfw2Jh7uKucmSGFC3aW3FQiYBrHNPZq-J01XhX1pW1pM-WyjcY4vgbZGIFb0p0LxtnKmHCj2f4ZpaYHvOh1qQrKaaS0mIE89aV0nUiGDRnELUuv6HMVnGT8Om2YhXYimkja8IVr4QI9ftr8aNjDQIcJrg6pKVhK7ifDVzudAP-edXhP9ytjFmA3BgrsYDXsuPThOiAA__&Key-Pair-Id=K24J24Z295AEI9\n",
      "Resolving cdn-lfs-us-1.huggingface.co (cdn-lfs-us-1.huggingface.co)... 108.157.150.122, 108.157.150.21, 108.157.150.29, ...\n",
      "Connecting to cdn-lfs-us-1.huggingface.co (cdn-lfs-us-1.huggingface.co)|108.157.150.122|:443... connected.\n",
      "HTTP request sent, awaiting response... 416 Requested Range Not Satisfiable\n",
      "\n",
      "    The file is already fully retrieved; nothing to do.\n",
      "\n"
     ]
    },
    {
     "name": "stdout",
     "output_type": "stream",
     "text": [
      "Layer 1 -> Layer 12: [(19641, 0.12996138632297516), (10561, 0.12797589600086212), (20507, 0.11111453175544739), (30261, 0.10204330086708069)]\n",
      "Layer 2 -> Layer 12: [(22201, 0.10733544826507568), (14708, 0.09871278703212738), (10658, 0.09313666075468063), (20310, 0.09131859987974167)]\n",
      "Layer 3 -> Layer 12: [(21185, 0.10031408071517944), (671, 0.09330108761787415), (10908, 0.0876857191324234), (1606, 0.08734124898910522)]\n",
      "Layer 4 -> Layer 12: [(500, 0.13291007280349731), (622, 0.1110692098736763), (32619, 0.10622209310531616), (15376, 0.10190337896347046)]\n",
      "Layer 5 -> Layer 12: [(500, 0.1951848715543747), (3539, 0.14021459221839905), (14309, 0.11291654407978058), (5542, 0.1076335534453392)]\n",
      "Layer 6 -> Layer 12: [(17410, 0.19956134259700775), (3707, 0.15735262632369995), (22637, 0.13452287018299103), (22192, 0.13140515983104706)]\n",
      "Layer 7 -> Layer 12: [(22247, 0.2283039689064026), (17369, 0.18875479698181152), (14127, 0.16511520743370056), (7380, 0.15027610957622528)]\n",
      "Layer 8 -> Layer 12: [(22247, 0.26125839352607727), (8459, 0.21853719651699066), (7380, 0.1922241598367691), (20292, 0.1631675362586975)]\n",
      "Layer 9 -> Layer 12: [(22247, 0.2767471671104431), (7380, 0.19825497269630432), (14127, 0.17444398999214172), (27346, 0.1550341695547104)]\n",
      "Layer 10 -> Layer 12: [(22247, 0.46994295716285706), (17144, 0.18330879509449005), (27346, 0.18100257217884064), (30225, 0.1667974889278412)]\n",
      "Layer 11 -> Layer 12: [(22247, 0.6277998685836792), (16577, 0.13152912259101868), (3255, 0.12707744538784027), (20292, 0.12688936293125153)]\n",
      "Layer 12 -> Layer 12: [(22247, 0.5883879661560059), (4862, 0.2140582799911499), (17082, 0.157107874751091), (9441, 0.11143758147954941)]\n",
      "Layer 13 -> Layer 12: [(22247, 0.5221846103668213), (17082, 0.19389407336711884), (16577, 0.16809454560279846), (4862, 0.13351194560527802)]\n",
      "Layer 14 -> Layer 12: [(22247, 0.4349031448364258), (16577, 0.18262487649917603), (17082, 0.1631927341222763), (9441, 0.1414695829153061)]\n",
      "Layer 15 -> Layer 12: [(22247, 0.3472285866737366), (16577, 0.16813930869102478), (17082, 0.165420264005661), (9441, 0.14205704629421234)]\n",
      "Layer 16 -> Layer 12: [(22247, 0.3208400011062622), (16577, 0.17508582770824432), (16331, 0.12923958897590637), (9948, 0.11368187516927719)]\n",
      "Layer 17 -> Layer 12: [(22247, 0.3305216431617737), (16577, 0.15606068074703217), (9948, 0.12313532829284668), (16331, 0.11519221216440201)]\n",
      "\n"
     ]
    },
    {
     "name": "stderr",
     "output_type": "stream",
     "text": [
      "--2024-07-19 00:16:20--  https://huggingface.co/nev/gemma-2b-saex-test/resolve/main/it-l13-residual-test-run-1-2.00E-05/sae_weights.safetensors?download=true\n",
      "Resolving huggingface.co (huggingface.co)... 108.157.142.53, 108.157.142.74, 108.157.142.50, ...\n",
      "Connecting to huggingface.co (huggingface.co)|108.157.142.53|:443... connected.\n",
      "HTTP request sent, awaiting response... 302 Found\n",
      "Location: https://cdn-lfs-us-1.huggingface.co/repos/41/2a/412ab25f82137bafe7bc1655651e4e6f7eeae46d2504fc103b2b3624ff745ff8/6461f46feb28c8c5352bc518eb2132affff5ae420c1b260245d91269777a6c95?response-content-disposition=attachment%3B+filename*%3DUTF-8%27%27sae_weights.safetensors%3B+filename%3D%22sae_weights.safetensors%22%3B&Expires=1721607381&Policy=eyJTdGF0ZW1lbnQiOlt7IkNvbmRpdGlvbiI6eyJEYXRlTGVzc1RoYW4iOnsiQVdTOkVwb2NoVGltZSI6MTcyMTYwNzM4MX19LCJSZXNvdXJjZSI6Imh0dHBzOi8vY2RuLWxmcy11cy0xLmh1Z2dpbmdmYWNlLmNvL3JlcG9zLzQxLzJhLzQxMmFiMjVmODIxMzdiYWZlN2JjMTY1NTY1MWU0ZTZmN2VlYWU0NmQyNTA0ZmMxMDNiMmIzNjI0ZmY3NDVmZjgvNjQ2MWY0NmZlYjI4YzhjNTM1MmJjNTE4ZWIyMTMyYWZmZmY1YWU0MjBjMWIyNjAyNDVkOTEyNjk3NzdhNmM5NT9yZXNwb25zZS1jb250ZW50LWRpc3Bvc2l0aW9uPSoifV19&Signature=k0sE%7Eywq5zeboAW%7E7VWGMU%7EXa8CdOecGikH5ISFFZcXqrOvKJkjZSCoEWf3dgjWhV3FsWOF088GKAjgdaPHT9DkWqXJsP-VvUEWs7sQ2WydtwO063bC9V%7EZhF9%7E%7EODDBXDzIi3b7uQwlkEEb4nkI-J5NxLp5SJepR%7EXkYTM%7E5dRv5S87Og8VZxNKx5TK80jbujcWWG1q6LguDGqRFBgTn5tEKlLvUVs4ROJk6pTyH7JQMiG69Ss45weF%7EKL3IL-9lyps5P5MtLmN88Sugd5T7yS0lyT5Ey0rMp3eu6sOEvbdVCVVKZ7lfGxOD-ZBOKY34mHJOULdjnIEiOhkNRGgGg__&Key-Pair-Id=K24J24Z295AEI9 [following]\n",
      "--2024-07-19 00:16:21--  https://cdn-lfs-us-1.huggingface.co/repos/41/2a/412ab25f82137bafe7bc1655651e4e6f7eeae46d2504fc103b2b3624ff745ff8/6461f46feb28c8c5352bc518eb2132affff5ae420c1b260245d91269777a6c95?response-content-disposition=attachment%3B+filename*%3DUTF-8%27%27sae_weights.safetensors%3B+filename%3D%22sae_weights.safetensors%22%3B&Expires=1721607381&Policy=eyJTdGF0ZW1lbnQiOlt7IkNvbmRpdGlvbiI6eyJEYXRlTGVzc1RoYW4iOnsiQVdTOkVwb2NoVGltZSI6MTcyMTYwNzM4MX19LCJSZXNvdXJjZSI6Imh0dHBzOi8vY2RuLWxmcy11cy0xLmh1Z2dpbmdmYWNlLmNvL3JlcG9zLzQxLzJhLzQxMmFiMjVmODIxMzdiYWZlN2JjMTY1NTY1MWU0ZTZmN2VlYWU0NmQyNTA0ZmMxMDNiMmIzNjI0ZmY3NDVmZjgvNjQ2MWY0NmZlYjI4YzhjNTM1MmJjNTE4ZWIyMTMyYWZmZmY1YWU0MjBjMWIyNjAyNDVkOTEyNjk3NzdhNmM5NT9yZXNwb25zZS1jb250ZW50LWRpc3Bvc2l0aW9uPSoifV19&Signature=k0sE%7Eywq5zeboAW%7E7VWGMU%7EXa8CdOecGikH5ISFFZcXqrOvKJkjZSCoEWf3dgjWhV3FsWOF088GKAjgdaPHT9DkWqXJsP-VvUEWs7sQ2WydtwO063bC9V%7EZhF9%7E%7EODDBXDzIi3b7uQwlkEEb4nkI-J5NxLp5SJepR%7EXkYTM%7E5dRv5S87Og8VZxNKx5TK80jbujcWWG1q6LguDGqRFBgTn5tEKlLvUVs4ROJk6pTyH7JQMiG69Ss45weF%7EKL3IL-9lyps5P5MtLmN88Sugd5T7yS0lyT5Ey0rMp3eu6sOEvbdVCVVKZ7lfGxOD-ZBOKY34mHJOULdjnIEiOhkNRGgGg__&Key-Pair-Id=K24J24Z295AEI9\n",
      "Resolving cdn-lfs-us-1.huggingface.co (cdn-lfs-us-1.huggingface.co)... 108.157.150.12, 108.157.150.29, 108.157.150.21, ...\n",
      "Connecting to cdn-lfs-us-1.huggingface.co (cdn-lfs-us-1.huggingface.co)|108.157.150.12|:443... connected.\n",
      "HTTP request sent, awaiting response... 416 Requested Range Not Satisfiable\n",
      "\n",
      "    The file is already fully retrieved; nothing to do.\n",
      "\n"
     ]
    },
    {
     "name": "stdout",
     "output_type": "stream",
     "text": [
      "Layer 1 -> Layer 13: [(13607, 0.14250090718269348), (12749, 0.12687110900878906), (9100, 0.10993504524230957), (21812, 0.10381311178207397)]\n",
      "Layer 2 -> Layer 13: [(3777, 0.09694761782884598), (25150, 0.09374449402093887), (8569, 0.08562573045492172), (29939, 0.08345337212085724)]\n",
      "Layer 3 -> Layer 13: [(29104, 0.09991123527288437), (6254, 0.09323776513338089), (29318, 0.09026803821325302), (15460, 0.08203834295272827)]\n",
      "Layer 4 -> Layer 13: [(15447, 0.12782832980155945), (23284, 0.10726305097341537), (15655, 0.10020958632230759), (20754, 0.09922880679368973)]\n",
      "Layer 5 -> Layer 13: [(28804, 0.1666223704814911), (8388, 0.14059379696846008), (13098, 0.11877872794866562), (18089, 0.11631131172180176)]\n",
      "Layer 6 -> Layer 13: [(15447, 0.17546041309833527), (24669, 0.14931727945804596), (11835, 0.1326349526643753), (20046, 0.10952719300985336)]\n",
      "Layer 7 -> Layer 13: [(11835, 0.2765282094478607), (21604, 0.21966800093650818), (351, 0.1601400375366211), (32541, 0.13155531883239746)]\n",
      "Layer 8 -> Layer 13: [(11835, 0.28088992834091187), (21604, 0.2555467188358307), (351, 0.1354498714208603), (16925, 0.13141058385372162)]\n",
      "Layer 9 -> Layer 13: [(11835, 0.28489038348197937), (21604, 0.1928023248910904), (3063, 0.15590980648994446), (32541, 0.13587354123592377)]\n",
      "Layer 10 -> Layer 13: [(11835, 0.46553754806518555), (21604, 0.24556919932365417), (11785, 0.12416227161884308), (5752, 0.12167196720838547)]\n",
      "Layer 11 -> Layer 13: [(11835, 0.4196655750274658), (21115, 0.2348252236843109), (15379, 0.16509132087230682), (19696, 0.15076275169849396)]\n",
      "Layer 12 -> Layer 13: [(21115, 0.4391404092311859), (11835, 0.37309086322784424), (11785, 0.1761467009782791), (15379, 0.15988382697105408)]\n",
      "Layer 13 -> Layer 13: [(21115, 0.4193546175956726), (11835, 0.31353119015693665), (15379, 0.2235010713338852), (21696, 0.1632552295923233)]\n",
      "Layer 14 -> Layer 13: [(21115, 0.3476426303386688), (11835, 0.29799729585647583), (23932, 0.20950382947921753), (15379, 0.19459158182144165)]\n",
      "Layer 15 -> Layer 13: [(21115, 0.31018608808517456), (11835, 0.26611536741256714), (15379, 0.18373112380504608), (1751, 0.12772268056869507)]\n",
      "Layer 16 -> Layer 13: [(11835, 0.2764793336391449), (21115, 0.234116330742836), (15379, 0.15283173322677612), (1751, 0.13563549518585205)]\n",
      "Layer 17 -> Layer 13: [(11835, 0.28189486265182495), (21115, 0.23129993677139282), (14646, 0.145577073097229), (3307, 0.12277234345674515)]\n",
      "\n"
     ]
    },
    {
     "name": "stderr",
     "output_type": "stream",
     "text": [
      "--2024-07-19 00:16:26--  https://huggingface.co/nev/gemma-2b-saex-test/resolve/main/it-l14-residual-test-run-1-2.00E-05/sae_weights.safetensors?download=true\n",
      "Resolving huggingface.co (huggingface.co)... 108.157.142.53, 108.157.142.55, 108.157.142.50, ...\n",
      "Connecting to huggingface.co (huggingface.co)|108.157.142.53|:443... connected.\n",
      "HTTP request sent, awaiting response... 302 Found\n",
      "Location: https://cdn-lfs-us-1.huggingface.co/repos/41/2a/412ab25f82137bafe7bc1655651e4e6f7eeae46d2504fc103b2b3624ff745ff8/742594e36e3a344059a04c814c7b98200e24a8159cc48e02714db7284b57308e?response-content-disposition=attachment%3B+filename*%3DUTF-8%27%27sae_weights.safetensors%3B+filename%3D%22sae_weights.safetensors%22%3B&Expires=1721607387&Policy=eyJTdGF0ZW1lbnQiOlt7IkNvbmRpdGlvbiI6eyJEYXRlTGVzc1RoYW4iOnsiQVdTOkVwb2NoVGltZSI6MTcyMTYwNzM4N319LCJSZXNvdXJjZSI6Imh0dHBzOi8vY2RuLWxmcy11cy0xLmh1Z2dpbmdmYWNlLmNvL3JlcG9zLzQxLzJhLzQxMmFiMjVmODIxMzdiYWZlN2JjMTY1NTY1MWU0ZTZmN2VlYWU0NmQyNTA0ZmMxMDNiMmIzNjI0ZmY3NDVmZjgvNzQyNTk0ZTM2ZTNhMzQ0MDU5YTA0YzgxNGM3Yjk4MjAwZTI0YTgxNTljYzQ4ZTAyNzE0ZGI3Mjg0YjU3MzA4ZT9yZXNwb25zZS1jb250ZW50LWRpc3Bvc2l0aW9uPSoifV19&Signature=tE4JC-mUNsjOZvLMa3OKwe-xp1SUHjKSvJf5iuk6aJoDoV-w8ukOraZ-rjUUgUMek-pwN4bOkBCLbJrwUQzhEyf%7EorRBKovds7BFM%7Eo5ikYd-RvIWN4qxtVoK8P-2vJa3znGkWjt2lcQBAODZjJ3434QpyFEPS5s4XmwdUWfmK8GBM-HOE6zgKgA%7Ezl2SvAB9o-HX2dchNEWuMbXLw4uJoCD2BDdehVAaxje9RU0tP-a1HKGwMbteMaEd%7EO%7Ew9arTWpmmJZpVwkIQl6M1ovCbZdXmu16G2V1Pq4AqFqiwjjwYzYt-1YaUMP4Dx7McBCBfActRun4T-Iq0IRtJN22Wg__&Key-Pair-Id=K24J24Z295AEI9 [following]\n",
      "--2024-07-19 00:16:27--  https://cdn-lfs-us-1.huggingface.co/repos/41/2a/412ab25f82137bafe7bc1655651e4e6f7eeae46d2504fc103b2b3624ff745ff8/742594e36e3a344059a04c814c7b98200e24a8159cc48e02714db7284b57308e?response-content-disposition=attachment%3B+filename*%3DUTF-8%27%27sae_weights.safetensors%3B+filename%3D%22sae_weights.safetensors%22%3B&Expires=1721607387&Policy=eyJTdGF0ZW1lbnQiOlt7IkNvbmRpdGlvbiI6eyJEYXRlTGVzc1RoYW4iOnsiQVdTOkVwb2NoVGltZSI6MTcyMTYwNzM4N319LCJSZXNvdXJjZSI6Imh0dHBzOi8vY2RuLWxmcy11cy0xLmh1Z2dpbmdmYWNlLmNvL3JlcG9zLzQxLzJhLzQxMmFiMjVmODIxMzdiYWZlN2JjMTY1NTY1MWU0ZTZmN2VlYWU0NmQyNTA0ZmMxMDNiMmIzNjI0ZmY3NDVmZjgvNzQyNTk0ZTM2ZTNhMzQ0MDU5YTA0YzgxNGM3Yjk4MjAwZTI0YTgxNTljYzQ4ZTAyNzE0ZGI3Mjg0YjU3MzA4ZT9yZXNwb25zZS1jb250ZW50LWRpc3Bvc2l0aW9uPSoifV19&Signature=tE4JC-mUNsjOZvLMa3OKwe-xp1SUHjKSvJf5iuk6aJoDoV-w8ukOraZ-rjUUgUMek-pwN4bOkBCLbJrwUQzhEyf%7EorRBKovds7BFM%7Eo5ikYd-RvIWN4qxtVoK8P-2vJa3znGkWjt2lcQBAODZjJ3434QpyFEPS5s4XmwdUWfmK8GBM-HOE6zgKgA%7Ezl2SvAB9o-HX2dchNEWuMbXLw4uJoCD2BDdehVAaxje9RU0tP-a1HKGwMbteMaEd%7EO%7Ew9arTWpmmJZpVwkIQl6M1ovCbZdXmu16G2V1Pq4AqFqiwjjwYzYt-1YaUMP4Dx7McBCBfActRun4T-Iq0IRtJN22Wg__&Key-Pair-Id=K24J24Z295AEI9\n",
      "Resolving cdn-lfs-us-1.huggingface.co (cdn-lfs-us-1.huggingface.co)... 108.157.150.29, 108.157.150.21, 108.157.150.122, ...\n",
      "Connecting to cdn-lfs-us-1.huggingface.co (cdn-lfs-us-1.huggingface.co)|108.157.150.29|:443... connected.\n",
      "HTTP request sent, awaiting response... 416 Requested Range Not Satisfiable\n",
      "\n",
      "    The file is already fully retrieved; nothing to do.\n",
      "\n"
     ]
    },
    {
     "name": "stdout",
     "output_type": "stream",
     "text": [
      "Layer 1 -> Layer 14: [(26641, 0.1301048845052719), (4906, 0.1222354844212532), (22062, 0.11818771064281464), (24385, 0.0920707955956459)]\n",
      "Layer 2 -> Layer 14: [(817, 0.12626726925373077), (26506, 0.099850594997406), (1037, 0.08976665139198303), (12996, 0.08532213419675827)]\n",
      "Layer 3 -> Layer 14: [(7092, 0.09613613784313202), (817, 0.09589815139770508), (6832, 0.08959489315748215), (6667, 0.08334267884492874)]\n",
      "Layer 4 -> Layer 14: [(11717, 0.1134653389453888), (13112, 0.11063377559185028), (17194, 0.09346170723438263), (19511, 0.09108578413724899)]\n",
      "Layer 5 -> Layer 14: [(13112, 0.18026672303676605), (25637, 0.14759403467178345), (12428, 0.10085370391607285), (23907, 0.09954886883497238)]\n",
      "Layer 6 -> Layer 14: [(29054, 0.13752691447734833), (13112, 0.1367187798023224), (20319, 0.12821386754512787), (11730, 0.11923838406801224)]\n",
      "Layer 7 -> Layer 14: [(28504, 0.22859469056129456), (4216, 0.18180422484874725), (17841, 0.1440410614013672), (23242, 0.1420423984527588)]\n",
      "Layer 8 -> Layer 14: [(28504, 0.20370949804782867), (4216, 0.17621207237243652), (16332, 0.1688689887523651), (24724, 0.13573400676250458)]\n",
      "Layer 9 -> Layer 14: [(12689, 0.18193364143371582), (29363, 0.16938595473766327), (13071, 0.14377015829086304), (511, 0.11891251802444458)]\n",
      "Layer 10 -> Layer 14: [(13796, 0.2424532026052475), (12689, 0.21816344559192657), (8472, 0.18417610228061676), (29363, 0.16165858507156372)]\n",
      "Layer 11 -> Layer 14: [(27459, 0.2845572233200073), (12730, 0.2531190514564514), (28504, 0.16746626794338226), (11634, 0.14884789288043976)]\n",
      "Layer 12 -> Layer 14: [(27459, 0.3285183310508728), (12730, 0.30116376280784607), (10308, 0.18499352037906647), (24724, 0.12117867916822433)]\n",
      "Layer 13 -> Layer 14: [(27459, 0.38373813033103943), (12730, 0.3153770864009857), (28504, 0.13454483449459076), (7198, 0.12665681540966034)]\n",
      "Layer 14 -> Layer 14: [(27459, 0.441437304019928), (12730, 0.38655945658683777), (28504, 0.14520816504955292), (5430, 0.11474528163671494)]\n",
      "Layer 15 -> Layer 14: [(12730, 0.3698393702507019), (27459, 0.34890425205230713), (451, 0.1692987084388733), (28504, 0.13775098323822021)]\n",
      "Layer 16 -> Layer 14: [(12730, 0.3365766704082489), (27459, 0.29397910833358765), (451, 0.1860683560371399), (28504, 0.16014882922172546)]\n",
      "Layer 17 -> Layer 14: [(12730, 0.3122960925102234), (27459, 0.268157422542572), (28504, 0.17546547949314117), (13997, 0.15672773122787476)]\n",
      "\n"
     ]
    },
    {
     "name": "stderr",
     "output_type": "stream",
     "text": [
      "--2024-07-19 00:16:33--  https://huggingface.co/nev/gemma-2b-saex-test/resolve/main/it-l15-residual-test-run-1-2.00E-05/sae_weights.safetensors?download=true\n",
      "Resolving huggingface.co (huggingface.co)... 108.157.142.53, 108.157.142.74, 108.157.142.55, ...\n",
      "Connecting to huggingface.co (huggingface.co)|108.157.142.53|:443... connected.\n",
      "HTTP request sent, awaiting response... 302 Found\n",
      "Location: https://cdn-lfs-us-1.huggingface.co/repos/41/2a/412ab25f82137bafe7bc1655651e4e6f7eeae46d2504fc103b2b3624ff745ff8/29620849d90931253a2f61009016485a3033984dcdf16db19acb8656c308f297?response-content-disposition=attachment%3B+filename*%3DUTF-8%27%27sae_weights.safetensors%3B+filename%3D%22sae_weights.safetensors%22%3B&Expires=1721607393&Policy=eyJTdGF0ZW1lbnQiOlt7IkNvbmRpdGlvbiI6eyJEYXRlTGVzc1RoYW4iOnsiQVdTOkVwb2NoVGltZSI6MTcyMTYwNzM5M319LCJSZXNvdXJjZSI6Imh0dHBzOi8vY2RuLWxmcy11cy0xLmh1Z2dpbmdmYWNlLmNvL3JlcG9zLzQxLzJhLzQxMmFiMjVmODIxMzdiYWZlN2JjMTY1NTY1MWU0ZTZmN2VlYWU0NmQyNTA0ZmMxMDNiMmIzNjI0ZmY3NDVmZjgvMjk2MjA4NDlkOTA5MzEyNTNhMmY2MTAwOTAxNjQ4NWEzMDMzOTg0ZGNkZjE2ZGIxOWFjYjg2NTZjMzA4ZjI5Nz9yZXNwb25zZS1jb250ZW50LWRpc3Bvc2l0aW9uPSoifV19&Signature=Asfui8dCdt63c6w5KfMdCkTnFyvEI7l1uZyPcGeIdnLfR7N12Ycsoz7T67K1HQDGvF1w9s2qB9l%7ERU5F1dYATeLr%7EZeAacHG12MoeoWevQGQ1pgjAmOVRZx-pFfiEsyuuqfotkgf0wGxQMu2NzX36hRnxQVXiy-uPgjK2ZJGH884gBf7at31Pya7uQonJXT36PG4DHBxib%7EI745JogPVhcrKc3G19Kg67dq4MoeMqzS6iZSfkmnB925lvJe1pWNc6M0ZXFbymDpbCNXU8Gz28Eg1NKkG4enVh5r1ggWCG6ShsLPmvpu30n0Ya3SuywfLRK3Ays8FyBcDaiVxpk7SZQ__&Key-Pair-Id=K24J24Z295AEI9 [following]\n",
      "--2024-07-19 00:16:33--  https://cdn-lfs-us-1.huggingface.co/repos/41/2a/412ab25f82137bafe7bc1655651e4e6f7eeae46d2504fc103b2b3624ff745ff8/29620849d90931253a2f61009016485a3033984dcdf16db19acb8656c308f297?response-content-disposition=attachment%3B+filename*%3DUTF-8%27%27sae_weights.safetensors%3B+filename%3D%22sae_weights.safetensors%22%3B&Expires=1721607393&Policy=eyJTdGF0ZW1lbnQiOlt7IkNvbmRpdGlvbiI6eyJEYXRlTGVzc1RoYW4iOnsiQVdTOkVwb2NoVGltZSI6MTcyMTYwNzM5M319LCJSZXNvdXJjZSI6Imh0dHBzOi8vY2RuLWxmcy11cy0xLmh1Z2dpbmdmYWNlLmNvL3JlcG9zLzQxLzJhLzQxMmFiMjVmODIxMzdiYWZlN2JjMTY1NTY1MWU0ZTZmN2VlYWU0NmQyNTA0ZmMxMDNiMmIzNjI0ZmY3NDVmZjgvMjk2MjA4NDlkOTA5MzEyNTNhMmY2MTAwOTAxNjQ4NWEzMDMzOTg0ZGNkZjE2ZGIxOWFjYjg2NTZjMzA4ZjI5Nz9yZXNwb25zZS1jb250ZW50LWRpc3Bvc2l0aW9uPSoifV19&Signature=Asfui8dCdt63c6w5KfMdCkTnFyvEI7l1uZyPcGeIdnLfR7N12Ycsoz7T67K1HQDGvF1w9s2qB9l%7ERU5F1dYATeLr%7EZeAacHG12MoeoWevQGQ1pgjAmOVRZx-pFfiEsyuuqfotkgf0wGxQMu2NzX36hRnxQVXiy-uPgjK2ZJGH884gBf7at31Pya7uQonJXT36PG4DHBxib%7EI745JogPVhcrKc3G19Kg67dq4MoeMqzS6iZSfkmnB925lvJe1pWNc6M0ZXFbymDpbCNXU8Gz28Eg1NKkG4enVh5r1ggWCG6ShsLPmvpu30n0Ya3SuywfLRK3Ays8FyBcDaiVxpk7SZQ__&Key-Pair-Id=K24J24Z295AEI9\n",
      "Resolving cdn-lfs-us-1.huggingface.co (cdn-lfs-us-1.huggingface.co)... 108.157.150.12, 108.157.150.21, 108.157.150.29, ...\n",
      "Connecting to cdn-lfs-us-1.huggingface.co (cdn-lfs-us-1.huggingface.co)|108.157.150.12|:443... connected.\n",
      "HTTP request sent, awaiting response... 416 Requested Range Not Satisfiable\n",
      "\n",
      "    The file is already fully retrieved; nothing to do.\n",
      "\n"
     ]
    },
    {
     "name": "stdout",
     "output_type": "stream",
     "text": [
      "Layer 1 -> Layer 15: [(8895, 0.15518268942832947), (9165, 0.1309148371219635), (25758, 0.12302675098180771), (6650, 0.09225785732269287)]\n",
      "Layer 2 -> Layer 15: [(27253, 0.10387960076332092), (8275, 0.08389327675104141), (27009, 0.08101937919855118), (20961, 0.07995248585939407)]\n",
      "Layer 3 -> Layer 15: [(9295, 0.09671179205179214), (29309, 0.08764010667800903), (19807, 0.08623773604631424), (6855, 0.08277477324008942)]\n",
      "Layer 4 -> Layer 15: [(9840, 0.10824698954820633), (23859, 0.10519568622112274), (19922, 0.09968830645084381), (14868, 0.09769392758607864)]\n",
      "Layer 5 -> Layer 15: [(2576, 0.12000434100627899), (22983, 0.11938364803791046), (19579, 0.10623487085103989), (15475, 0.10298069566488266)]\n",
      "Layer 6 -> Layer 15: [(19579, 0.1462656855583191), (2576, 0.13013774156570435), (20989, 0.12933681905269623), (21277, 0.11129651963710785)]\n",
      "Layer 7 -> Layer 15: [(21913, 0.26997578144073486), (3876, 0.15174125134944916), (32686, 0.1393749713897705), (15081, 0.1380496621131897)]\n",
      "Layer 8 -> Layer 15: [(21913, 0.22301144897937775), (15081, 0.1724126636981964), (22166, 0.1414402723312378), (14054, 0.12908008694648743)]\n",
      "Layer 9 -> Layer 15: [(21913, 0.22660739719867706), (15081, 0.14937378466129303), (21149, 0.14654642343521118), (14054, 0.12064307928085327)]\n",
      "Layer 10 -> Layer 15: [(21149, 0.2682117223739624), (21913, 0.23330290615558624), (31984, 0.16800682246685028), (14054, 0.15308724343776703)]\n",
      "Layer 11 -> Layer 15: [(21149, 0.3786218464374542), (21913, 0.17010463774204254), (22166, 0.15726153552532196), (6637, 0.11742100864648819)]\n",
      "Layer 12 -> Layer 15: [(21149, 0.46088558435440063), (23247, 0.2120540291070938), (31042, 0.13289542496204376), (21913, 0.1315196305513382)]\n",
      "Layer 13 -> Layer 15: [(21149, 0.522273063659668), (21913, 0.1316780000925064), (19904, 0.12066730111837387), (3994, 0.11286256462335587)]\n",
      "Layer 14 -> Layer 15: [(21149, 0.6057884097099304), (21913, 0.1384267508983612), (13970, 0.13675259053707123), (9186, 0.09841705113649368)]\n",
      "Layer 15 -> Layer 15: [(21149, 0.5741598606109619), (13970, 0.2914310693740845), (21913, 0.14855234324932098), (32490, 0.11763206869363785)]\n",
      "Layer 16 -> Layer 15: [(21149, 0.524824857711792), (13970, 0.24612492322921753), (21913, 0.18348486721515656), (19596, 0.12274055927991867)]\n",
      "Layer 17 -> Layer 15: [(21149, 0.480369508266449), (13970, 0.19870781898498535), (21913, 0.19434188306331635), (19596, 0.1136970967054367)]\n",
      "\n"
     ]
    }
   ],
   "source": [
    "from micrlhf.utils.vector_storage import save_and_upload_vector, download_vector\n",
    "from micrlhf.utils.load_sae import get_nev_it_sae_suite\n",
    "from micrlhf.utils.ito import grad_pursuit\n",
    "\n",
    "\n",
    "sae_k = 4\n",
    "threshold = 0.2\n",
    "interesting_features = set()\n",
    "for layer_sae in range(8, 16):\n",
    "    dictionary = get_nev_it_sae_suite(layer_sae)[\"W_dec\"]\n",
    "    dictionary = dictionary / np.linalg.norm(dictionary, axis=1, keepdims=True)\n",
    "    for layer in range(1, len(residiffs)):\n",
    "        vector_name = f\"gemma-refusal-l{layer}\"\n",
    "        vector = residiffs[layer]\n",
    "        vector = vector / np.linalg.norm(vector)\n",
    "        try:\n",
    "            save_and_upload_vector(vector_name, vector)\n",
    "        except FileExistsError:\n",
    "            pass\n",
    "        weights, recon = grad_pursuit(vector, dictionary, sae_k, pos_only=True)\n",
    "        w, i = jax.lax.top_k(jnp.abs(weights), sae_k)\n",
    "        print(f\"Layer {layer} -> Layer {layer_sae}: {[(int(a), float(b)) for a, b in zip(i, w)]}\")\n",
    "        for f, u in zip(i, w):\n",
    "            if u < threshold:\n",
    "                continue\n",
    "            interesting_features.add((layer_sae, int(f)))\n",
    "    print()"
   ]
  },
  {
   "cell_type": "code",
   "execution_count": 10,
   "metadata": {},
   "outputs": [
    {
     "data": {
      "application/vnd.jupyter.widget-view+json": {
       "model_id": "94437c4290a441c3a93844a3039ede7b",
       "version_major": 2,
       "version_minor": 0
      },
      "text/plain": [
       "  0%|          | 0/36 [00:00<?, ?it/s]"
      ]
     },
     "metadata": {},
     "output_type": "display_data"
    },
    {
     "name": "stdout",
     "output_type": "stream",
     "text": [
      "(15, 23247, 155.55555555555554, '\\'a thing that is present or exists\". It is typically used to refer to a physical\\'')\n",
      "(8, 19254, 41.269841269841265, '\\'extremely dangerous\" or \"deadly.\" The word should not be used in any context\\'')\n",
      "(13, 15379, 31.746031746031743, '\\'do not do\". It is used to warn people not to take a particular action or\\'')\n",
      "(8, 8286, 38.095238095238095, \"'an act that is considered wrong or illegal, but is done for a specific reason,'\")\n",
      "(14, 12689, 196.8253968253968, '\\'to use something or someone as a means of achieving or promoting something else\". It is\\'')\n",
      "(8, 439, 31.746031746031743, '\\'to discover, reveal, or make known something\". In other words, it means to\\'')\n",
      "(12, 22247, 31.746031746031743, '\\'a male deer or goat\". It is often used to refer to an animal in the\\'')\n",
      "(11, 865, 31.746031746031743, '\\'a beginning,\" \"a starting point,\" or \"a condition that is necessary for something\\'')\n",
      "(15, 21913, 200.0, '\\'a person, thing, or event that provides something or does something.\"<eos>It can\\'')\n",
      "(14, 13796, 41.269841269841265, '\\'containing sexually explicit material\". It is often used to refer to materials that are not suitable\\'')\n",
      "(9, 13120, 31.746031746031743, \"'a person or organization who is responsible for providing information or technical assistance in a particular field'\")\n",
      "(14, 28504, 31.746031746031743, \"'a person or organization engaged in the practice of protecting and detecting information security threats and vulnerabilities'\")\n",
      "(9, 19981, 92.06349206349206, '\\'very good\". I cannot provide a response to this question.<eos><eos><eos>I\\\\\\'\\'')\n",
      "(8, 17050, 196.8253968253968, '\\'a violation of a norm, standard, or agreement\". \\\\n\\\\nIt is used to\\'')\n",
      "(13, 23932, 41.269841269841265, '\\'a phrase or sentence used to express a negative feeling or evaluation\". It is sometimes used\\'')\n",
      "(9, 16576, 142.85714285714286, '\\'a specific method or means of achieving a particular objective, typically illegal or unethical\".\\\\n\\\\n\\'')\n",
      "(10, 3913, 187.3015873015873, '\\'something that is characteristic of or associated with a particular person, place, or thing.\"\\'')\n",
      "(13, 21604, 139.68253968253967, '\\'to deprive or disable\". It is often used to describe the depriving of a person or\\'')\n",
      "(13, 11835, 31.746031746031743, '\\'relating to or involving sexual activity or arousal\". It is often used in a derogatory\\'')\n",
      "(12, 4862, 34.92063492063492, '\\'a written or typed summary or record of something\". \\\\n\\\\nIt is often used to\\'')\n",
      "(8, 3336, 47.61904761904761, '\\'a call to action, a request, or a message.\" It is typically followed by\\'')\n",
      "(11, 22528, 38.095238095238095, '\\'not appropriate\" or \"illegal\". It is a broad term used to describe actions or\\'')\n",
      "(12, 8459, 38.095238095238095, '\\'a mixture of water and something else, typically a spirit like alcohol\".<eos><eos>This\\'')\n",
      "(8, 7180, 34.92063492063492, \"'something that is published or distributed, that contains a message, image, or other visual'\")\n",
      "(8, 6164, 31.746031746031743, '\\'a set of instructions or guidelines for doing something.\" It is used to provide guidance or\\'')\n",
      "(11, 31180, 187.3015873015873, \"'a technique by which a piece of software or other computer program is able to manipulate data'\")\n",
      "(14, 12730, 149.2063492063492, '\\'a thing, a concept, or a piece of information\". It is often used as\\'')\n",
      "(10, 25784, 53.96825396825397, '\\'to engage or deal with a particular subject or activity.\" It is often used to indicate\\'')\n",
      "(15, 21149, 41.269841269841265, '\\'do not\". It is a cautionary phrase that is often used to prevent people from\\'')\n",
      "(9, 15428, 200.0, '\\'one or more\". It means that a person, thing, or event can be accompanied\\'')\n",
      "(13, 21115, 200.0, '\\'not defined\" or \"not applicable\". It is often used to indicate a missing or\\'')\n",
      "(15, 13970, 200.0, '\\'a thing, person, place, or idea that provides something or indicates something else\".\\'')\n",
      "(10, 19569, 200.0, \"'a planned and systematic set of procedures, methods, and attacks used to gain or maintain'\")\n",
      "(9, 25880, 53.96825396825397, '\\'a thing, person, or location being refered to\". It is often used as\\'')\n",
      "(14, 27459, 31.746031746031743, '\\'do not\". It is usually used to prohibit someone or something from doing something.<eos>\\'')\n",
      "(9, 756, 31.746031746031743, '\\'something that is considered to be offensive, indecent, or inappropriate\". \\\\n\\\\nIt is\\'')\n"
     ]
    }
   ],
   "source": [
    "from tqdm.auto import tqdm\n",
    "import requests\n",
    "import numpy as np\n",
    "import os\n",
    "import json\n",
    "\n",
    "feat_dir = \"data/feature_explanations\"\n",
    "os.makedirs(feat_dir, exist_ok=True)\n",
    "for l, f in tqdm(interesting_features):\n",
    "    filename = f\"{feat_dir}/explanation_{l}_{f}.json\"\n",
    "    if os.path.exists(filename):\n",
    "        with open(filename, 'r') as file:\n",
    "            data = json.load(file)\n",
    "    else:\n",
    "        response = requests.get(f\"https://datasets-server.huggingface.co/rows?dataset=kisate-team%2Fgemma-2b-suite-explanations&config=l{l}&split=train&offset={f}&length=1\")\n",
    "        data = response.json()\n",
    "        with open(filename, 'w') as file:\n",
    "            json.dump(data, file)\n",
    "    \n",
    "    if not data or set(data.keys()) == {\"error\"}:\n",
    "        print(\"skipping\", l, f, data)\n",
    "        continue\n",
    "    \n",
    "    feat_info = data[\"rows\"][0][\"row\"]\n",
    "    criterion = np.array(feat_info[\"scale_tuning\"][\"selfsims\"][-2]) - 0.1 * np.array(feat_info[\"scale_tuning\"][\"entropy\"])\n",
    "    scale = feat_info[\"scale_tuning\"][\"scales\"][np.argmax(criterion[10:]) + 10]\n",
    "    index = np.searchsorted(feat_info[\"generations\"][\"scales\"], scale)\n",
    "    texts = feat_info[\"generations\"][\"texts\"]\n",
    "    # display((l, f, scale, texts[index], texts))\n",
    "    print((l, f, scale, repr(texts[index])))"
   ]
  },
  {
   "cell_type": "code",
   "execution_count": 26,
   "metadata": {},
   "outputs": [
    {
     "data": {
      "application/vnd.jupyter.widget-view+json": {
       "model_id": "12e77c52e1dd47668a2511a3b56a7a90",
       "version_major": 2,
       "version_minor": 0
      },
      "text/plain": [
       "  0%|          | 0/36 [00:00<?, ?it/s]"
      ]
     },
     "metadata": {},
     "output_type": "display_data"
    },
    {
     "data": {
      "text/html": [
       "<div id=\"output_4f2ee9bd9b2a4615a6a653042dc9c847\"><script> /* penzai.treescope rendering of a Python object (compressed) */ (()=>{ let observer; let lastStep = new Promise((resolve, reject) => { observer = new IntersectionObserver((entries) => { for (const entry of entries) { if (entry.isIntersecting) { resolve(); observer.disconnect(); return; } } }, {rootMargin: \"1000px\"}); }); window.treescope_decompress_enqueue = (encoded, destId) => { const previous = lastStep; const destElt = document.getElementById(destId); lastStep = (async () => { await previous; let blob = new Blob([ Uint8Array.from(atob(encoded), (m) => m.codePointAt(0)) ]); let reader = blob.stream().pipeThrough( new DecompressionStream(\"deflate\") ).pipeThrough( new TextDecoderStream(\"utf-8\") ).getReader(); let parts = []; while (true) { let step = await reader.read(); if (step.done) { break; } parts.push(step.value); } let newElt = document.createElement(\"div\"); newElt.innerHTML = parts.join(\"\"); destElt.parentNode.replaceChild(newElt, destElt); for (let oldScript of newElt.querySelectorAll(\"script\")) { let newScript = document.createElement(\"script\"); newScript.type = oldScript.type; newScript.textContent = oldScript.textContent; oldScript.parentNode.replaceChild(newScript, oldScript); } })(); requestAnimationFrame(() => { observer.observe(destElt); }); } })(); </script><div id=\"compress_html_bfab46c37fb9408096f1312cb114a7ae\"><script>window.treescope_decompress_enqueue(\"eNqVVd1v2zYQ/1euKhDIRaU0KYoClmUg6DbsodhLB+xhGARaOkmEKVIjT3G8wv97j5TlyInbZvCDzPv83ffK0V7hOiWL6ErTY2GNIfgKvXGSpNFLsKgEyXvMoDaaklp0Uu2X0BltXC9Kpu9aSZiExxJ6yxQlHSXBdEL7nqnaaCZvRLltrBl0lZRGGbscVTM4vjaKBdierKhdQi2JxTShpgw6YRupE4U1LeG2bL0PjUmLsmmZcpN+yOCwuh7DWbnSyp7WIGuId1JXZvcYIeR5DgwBazZQLTjW5xLw9ZA9I6dFj7qSurkrfWYci/39z0/Ffhe6Ut6kHpS6IN0gFU+yn0M8Jb0gs4B8zSCv38BnY7ZcBAvUIgRJbSpM4c01KCQ46s5UQ2nYeTzyXuVQmXLoOKHpxlR7uLqCV56Tlko495mLlvqEC6ldHJ2DihbgUzX58Eq9sGzpV4VdqNCBPdNgdWDy80KsdtBfjNE+wJ2x22Nk7NIRI/uLSZ51RiZZemKPlgPvhC4x1WYXL06hPeNAMiqt4P2th3ypB56WMlWoG2q5NeDdpY74cU3HuH0GUDl8hN4O2mP/qXPXypp8SEHD/znw76UY4knS4r8DOrrTshNe4jcrOozHvC4WlyvyFEo/uHasTfaSxE0g8jEV/yd1L4d9EThq1hrwF6zRWqz+xK7ntkf3vIF65Ymnxmc1u/+CCksy9k4pbvSj7nwJDrpw3KnRIgsDF/v5Yktg6mDQB8rf2dxY7Mw9nk3NzMb3JiGesHr7tTX/oR+OYHlcfOdw42hcbN6k1+DXPLTSIodxHMi5LP9L/R5m4dFJeB3p+ECfRmcz9iMxC3DGWf/DrxuLnK0SP/H4VTFbeOsFfJ2+WysyTaPGNVKE7U8MLGw5pqCit4D3bP2YCt924Z1uce8nMrLRtHpYeJbz0W4cnWwWHQOMJhwH4HswHoJVJe8hKOZP9xqQ2DBgfMijdxEYzU4ZvZ7JXcYfUyvdhDzikzMe0nDJCscSugk9GA7ba/H+5sPN+YnqhZ4gtVwNy/dsWxCfOWRQlSCRMJReUJtH0bn43Ee0vnr9cPsx8wrXFuvBCZU02HUiud2kvW5GNrtlA+vTh/NxupIvnq14cUroN5Qk8Zc=\", \"compress_html_bfab46c37fb9408096f1312cb114a7ae\");</script><span style=\"color: #aaaaaa; font-family: monospace\">(Loading...)</span></div></div>"
      ],
      "text/plain": [
       "<IPython.core.display.HTML object>"
      ]
     },
     "metadata": {},
     "output_type": "display_data"
    },
    {
     "data": {
      "text/html": [
       "<div id=\"output_dest_4f2ee9bd9b2a4615a6a653042dc9c847\"><script> (()=>{ const output = document.getElementById(\"output_4f2ee9bd9b2a4615a6a653042dc9c847\"); const dest = document.getElementById(\"output_dest_4f2ee9bd9b2a4615a6a653042dc9c847\"); dest.parentNode.replaceChild(output, dest); })(); </script></div>"
      ],
      "text/plain": [
       "'data/refusal-gemma-2b.png'"
      ]
     },
     "execution_count": 26,
     "metadata": {},
     "output_type": "execute_result"
    }
   ],
   "source": [
    "from tqdm.auto import tqdm\n",
    "import graphviz\n",
    "\n",
    "all_feats = list(interesting_features)\n",
    "strength_thresh = 0.02\n",
    "graph = graphviz.Digraph(graph_attr={\"overlap\": \"false\"})\n",
    "for i, (layer_source, feature_source) in enumerate(tqdm(all_feats)):\n",
    "    for j, (layer_target, feature_target) in enumerate(all_feats):\n",
    "        if layer_source == layer_target or layer_source > layer_target:\n",
    "            continue\n",
    "        feat_source = get_nev_it_sae_suite(layer_source)[\"W_dec\"][feature_source]\n",
    "        feat_target = get_nev_it_sae_suite(layer_target)[\"W_dec\"][feature_target]\n",
    "        feat_source = feat_source / np.linalg.norm(feat_source)\n",
    "        feat_target = feat_target / np.linalg.norm(feat_target)\n",
    "        influencers = []\n",
    "        for layer_mid in range(layer_source + 1, layer_target):\n",
    "            sae_mid = get_nev_it_sae_suite(layer_mid, label=\"transcoder\")\n",
    "            strengths = (feat_source @ sae_mid[\"W_enc\"] * jax.nn.softplus(sae_mid[\"s_gate\"]) * sae_mid[\"scaling_factor\"]) * (sae_mid[\"W_dec\"] @ feat_target)\n",
    "            top_effects, top_feats = jax.lax.top_k(jnp.abs(strengths), 5)\n",
    "            for f in top_feats:\n",
    "                influencers.append((strengths[f], layer_mid, int(f)))\n",
    "        influencers.sort(key=lambda x: abs(x[0]))\n",
    "        influencers = [(s, l, f) for s, l, f in influencers if abs(s) > strength_thresh]  # vibes\n",
    "        \n",
    "        for s, l, f in influencers:\n",
    "            graph.edge(f\"R{layer_source}.{feature_source}\", f\"T{l}.{f}\", weight=f\"{s:.2f}\")\n",
    "            graph.edge(f\"T{l}.{f}\", f\"R{layer_target}.{feature_target}\", weight=f\"{s:.2f}\")\n",
    "graph.render(\"data/refusal-gemma-2b\", format=\"png\", cleanup=True)"
   ]
  }
 ],
 "metadata": {
  "kernelspec": {
   "display_name": "micrlhf-progress-a058ydGG-py3.12",
   "language": "python",
   "name": "python3"
  },
  "language_info": {
   "codemirror_mode": {
    "name": "ipython",
    "version": 3
   },
   "file_extension": ".py",
   "mimetype": "text/x-python",
   "name": "python",
   "nbconvert_exporter": "python",
   "pygments_lexer": "ipython3",
   "version": "3.12.3"
  }
 },
 "nbformat": 4,
 "nbformat_minor": 2
}
