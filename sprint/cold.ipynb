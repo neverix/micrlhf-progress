{
 "cells": [
  {
   "cell_type": "code",
   "execution_count": 11,
   "metadata": {},
   "outputs": [],
   "source": [
    "import os\n",
    "if \"models\" not in os.listdir(\".\"):\n",
    "    os.chdir(\"..\")"
   ]
  },
  {
   "cell_type": "code",
   "execution_count": 12,
   "metadata": {},
   "outputs": [],
   "source": [
    "%load_ext autoreload\n",
    "%autoreload 2\n",
    "import penzai\n",
    "from penzai import pz\n",
    "pz.ts.register_as_default()\n",
    "pz.ts.register_autovisualize_magic()\n",
    "pz.enable_interactive_context()"
   ]
  },
  {
   "cell_type": "code",
   "execution_count": 13,
   "metadata": {},
   "outputs": [
    {
     "name": "stderr",
     "output_type": "stream",
     "text": [
      "Special tokens have been added in the vocabulary, make sure the associated word embeddings are fine-tuned or trained.\n"
     ]
    }
   ],
   "source": [
    "from micrlhf.llama import LlamaTransformer\n",
    "from transformers import AutoTokenizer\n",
    "\n",
    "\n",
    "filename = \"models/phi-3-16.gguf\"\n",
    "llama = LlamaTransformer.from_pretrained(filename, device_map=\"tpu:0\")\n",
    "tokenizer = AutoTokenizer.from_pretrained(\"microsoft/Phi-3-mini-4k-instruct\")\n",
    "tokenizer.padding_side = \"right\""
   ]
  },
  {
   "cell_type": "code",
   "execution_count": 14,
   "metadata": {},
   "outputs": [],
   "source": [
    "embeds = llama.select().at_instances_of(pz.nn.EmbeddingLookup).get_sequence()[0].table.embeddings.value.unwrap(\"vocabulary\", \"embedding\")\n",
    "llama_without_embeds = llama.select().at_instances_of(pz.nn.EmbeddingLookup).apply(lambda x: pz.nn.Identity())"
   ]
  },
  {
   "cell_type": "code",
   "execution_count": 20,
   "metadata": {},
   "outputs": [
    {
     "data": {
      "text/html": [
       "<div id=\"output_0110b0658236440998e2d1fcae0b35d5\"><script> /* penzai.treescope rendering of a Python object (compressed) */ (()=>{ let observer; let lastStep = new Promise((resolve, reject) => { observer = new IntersectionObserver((entries) => { for (const entry of entries) { if (entry.isIntersecting) { resolve(); observer.disconnect(); return; } } }, {rootMargin: \"1000px\"}); }); window.treescope_decompress_enqueue = (encoded, destId) => { const previous = lastStep; const destElt = document.getElementById(destId); lastStep = (async () => { await previous; let blob = new Blob([ Uint8Array.from(atob(encoded), (m) => m.codePointAt(0)) ]); let reader = blob.stream().pipeThrough( new DecompressionStream(\"deflate\") ).pipeThrough( new TextDecoderStream(\"utf-8\") ).getReader(); let parts = []; while (true) { let step = await reader.read(); if (step.done) { break; } parts.push(step.value); } let newElt = document.createElement(\"div\"); newElt.innerHTML = parts.join(\"\"); destElt.parentNode.replaceChild(newElt, destElt); for (let oldScript of newElt.querySelectorAll(\"script\")) { let newScript = document.createElement(\"script\"); newScript.type = oldScript.type; newScript.textContent = oldScript.textContent; oldScript.parentNode.replaceChild(newScript, oldScript); } })(); requestAnimationFrame(() => { observer.observe(destElt); }); } })(); </script><div id=\"compress_html_b46924dd1cd94e9b98f749e412a9c5c6\"><script>window.treescope_decompress_enqueue(\"eNqVVd2O20QUfpVTV4qcqvF2t6qQ4jjSqhRxUXGzSFwgiBz72B5lPGNmjjcb2kgFxBNwzSsgVIHEDeUVsm/ABQ/CmXGSdXZTusgXnjlzfr7zP7G0kjiNyCDaTDc4M1oTvIJGW0FCqzEYlCmJS4yh0IpGRVoLuRpDrZW2TZoxfVkJwpG/jKExTJHC0sirHtGqYarSisnzNFuURrcqH2VaajPuRGPY3uaSGVifyKkaQyGI2RShohjq1JRCjSQWNIazrHI2FI4qFGXFlNPoWQzryUnnzsRmRjQ0BVFAuBQq18sbDyFJEmAIWLCCfMi+3uWAV+v4DjmaNahyocrzzEXGMtuXX32Q7dNU5dKpVK2UR7hLpNmt6CcQ7oI+Iz2EZMogTx7BS60XnAQDVCF4TqVzjODRCUgk2Mr2RH1q2HjYvT1IINdZW3NAo7nOVzAYwAP3EmUytfYlJy1yAU+FsmFwCCoYggvVzoYTalLDml5IrH2G1myZWqP8I1+P+GpadaG1cg4utVlsPWOTlhjZF0xyTwdkEpkjNmjY8TpVGUZKL8Ph3rU7LzDqhCbw9MxBPlYDt1MZSVQlVVwa8ORYRfx3Tju/XQRQWryBXrXKYf+gcVuJgpxLXsId1vzdF0O44zT4TYuWzpWoU8fxiUlrDLu4DofHM3IbStPaqstNfJ/A7UAkXSj+T+juD/socFQs1eLHWKAxmH+OdcNlj/ZuATXSEfeFz2JmdYESM9LmXEou9K1sfwi2ama5UoNh7BsudP3FmkAXXqFzlP+9vjFY60s86Jqejvd1QrjD6vQXRn+Lrjm85m7wHcINg26wOZVOgm991zKD7Ma2Ifu8fIrcHGbmzoi/bel4Rc87Y73nG2Ls4XS9/pkbNwY5Whk+5/bLQ9bw2DG4PL03V6TLUnZjZOanPzEwP+WYgpIeA16y9m0oXNn5e7TAlevIwAS70cPMvZh3esNgr3NWM8Bgh2MNvA+6RTDJxSV4weT2XANK5wwYr5LgSQBasVFGr3p8x/GHVAm7Qx7wyukWqd9kM8scqvQ16Bfbw/Tp6bPTwxXVpGoHqeJsGN5nixnxmkMGlaeUjhhKk1KVBMEhe99GMB08vDr7KB5Iiu2gJH943Vo0r91tDpufNr9v/oQXroKMyEqcC6TrHzfvNr9tfoXNz3x4u3kHQnHFXX93/f31D5u/ePsbasu/f3n7zx9v4AJzqIRKWzv8ujPGTjCc6f7H0d3v3Ht3ajjcp+dfAD4asw==\", \"compress_html_b46924dd1cd94e9b98f749e412a9c5c6\");</script><span style=\"color: #aaaaaa; font-family: monospace\">(Loading...)</span></div></div>"
      ],
      "text/plain": [
       "<IPython.core.display.HTML object>"
      ]
     },
     "metadata": {},
     "output_type": "display_data"
    },
    {
     "data": {
      "text/html": [
       "<div id=\"output_dest_0110b0658236440998e2d1fcae0b35d5\"><script> (()=>{ const output = document.getElementById(\"output_0110b0658236440998e2d1fcae0b35d5\"); const dest = document.getElementById(\"output_dest_0110b0658236440998e2d1fcae0b35d5\"); dest.parentNode.replaceChild(output, dest); })(); </script></div>"
      ],
      "text/plain": [
       "'<s><|user|>b Ген Electricgebietхода Ново inconступ portugல一 Sed hinaus)^'"
      ]
     },
     "execution_count": 20,
     "metadata": {},
     "output_type": "execute_result"
    }
   ],
   "source": [
    "from collections import OrderedDict\n",
    "from jax_tqdm import scan_tqdm\n",
    "import jax.numpy as jnp\n",
    "import jax\n",
    "n_steps = 2_000\n",
    "n_vocab, embed_size = embeds.shape\n",
    "seq_len = 16\n",
    "start_phrase = \"<s><|user|>\"\n",
    "fixed_ids = tokenizer.encode(start_phrase)\n",
    "fixed_tokens = len(fixed_ids)\n",
    "count_loss_from = max(0, fixed_tokens - 1)\n",
    "\n",
    "def compute_loss(logits):\n",
    "    in_probs = jax.nn.softmax(logits, -1)\n",
    "    in_resid = in_probs @ embeds\n",
    "    named_array = pz.nx.NamedArray(OrderedDict({\"batch\": 1, \"seq\": seq_len, \"embedding\": embed_size}), in_resid[None, ...])\n",
    "    logits = llama_without_embeds(llama.inputs.from_basic_segments(named_array)).unwrap(\"batch\", \"seq\", \"vocabulary\")[0]\n",
    "    out_logprobs = jax.nn.log_softmax(logits, -1)\n",
    "    loss = (in_probs[1:] * out_logprobs[:-1])[count_loss_from:].sum(-1).mean()\n",
    "    return loss\n",
    "\n",
    "def set_token(logits, index, token_id):\n",
    "    return logits.at[index, token_id].set(0).at[index, token_id+1:].set(-1e9).at[index, :token_id].set(-1e9)\n",
    "\n",
    "@scan_tqdm(n_steps)\n",
    "def update_logits(params, hparams):\n",
    "    logits, key = params\n",
    "    for i, token_id in enumerate(fixed_ids):\n",
    "        logits = set_token(logits, i, token_id)\n",
    "    sigma, nu = hparams\n",
    "    grad = jax.grad(compute_loss)(logits)\n",
    "    key, subkey = jax.random.split(key)\n",
    "    noise = jax.random.normal(subkey, logits.shape)\n",
    "    logits = logits - nu * grad + sigma * noise\n",
    "    return (logits, key), None\n",
    "    \n",
    "\n",
    "logits = jax.random.normal(jax.random.key(0), (seq_len, n_vocab)) * 0.1\n",
    "# Throughout the experiments, we set the number of Langevin dynamics steps to N = 2000, with a step size η = 0.1\n",
    "nus = jnp.full(n_steps, 0.1)\n",
    "# In our experiments, we typically used the schedule which sets/reduces σ to {1, 0.5, 0.1, 0.05, 0.01} at iterations {0, 50, 500, 1000, 1500}\n",
    "sigmas = jnp.full(n_steps, 1.).at[50:].set(0.5).at[500:].set(0.1).at[1000:].set(0.05).at[1500:].set(0.01)\n",
    "\n",
    "new_logits = jax.lax.scan(update_logits, (logits, jax.random.key(0)), (sigmas, nus))[0][0]\n",
    "tokenizer.decode(new_logits.argmax(-1))"
   ]
  },
  {
   "cell_type": "code",
   "execution_count": 26,
   "metadata": {},
   "outputs": [],
   "source": [
    "from penzai.toolshed.jit_wrapper import Jitted\n",
    "ljit = Jitted(llama)"
   ]
  },
  {
   "cell_type": "code",
   "execution_count": 29,
   "metadata": {},
   "outputs": [
    {
     "data": {
      "application/vnd.jupyter.widget-view+json": {
       "model_id": "f2b65c1eb8494ed5883bb3aa92057bb4",
       "version_major": 2,
       "version_minor": 0
      },
      "text/plain": [
       "  0%|          | 0/14 [00:00<?, ?it/s]"
      ]
     },
     "metadata": {},
     "output_type": "display_data"
    },
    {
     "data": {
      "text/html": [
       "<div id=\"output_f9d08d199b4b4d3fb211d53820b8141f\"><script> /* penzai.treescope rendering of a Python object (compressed) */ (()=>{ let observer; let lastStep = new Promise((resolve, reject) => { observer = new IntersectionObserver((entries) => { for (const entry of entries) { if (entry.isIntersecting) { resolve(); observer.disconnect(); return; } } }, {rootMargin: \"1000px\"}); }); window.treescope_decompress_enqueue = (encoded, destId) => { const previous = lastStep; const destElt = document.getElementById(destId); lastStep = (async () => { await previous; let blob = new Blob([ Uint8Array.from(atob(encoded), (m) => m.codePointAt(0)) ]); let reader = blob.stream().pipeThrough( new DecompressionStream(\"deflate\") ).pipeThrough( new TextDecoderStream(\"utf-8\") ).getReader(); let parts = []; while (true) { let step = await reader.read(); if (step.done) { break; } parts.push(step.value); } let newElt = document.createElement(\"div\"); newElt.innerHTML = parts.join(\"\"); destElt.parentNode.replaceChild(newElt, destElt); for (let oldScript of newElt.querySelectorAll(\"script\")) { let newScript = document.createElement(\"script\"); newScript.type = oldScript.type; newScript.textContent = oldScript.textContent; oldScript.parentNode.replaceChild(newScript, oldScript); } })(); requestAnimationFrame(() => { observer.observe(destElt); }); } })(); </script><div id=\"compress_html_ee42b4fb01ff4157ad3fae247313f46d\"><script>window.treescope_decompress_enqueue(\"eNqVVd2K20YUfpUTBYwUYm12QyhYlmFJU1oI7UUKvSjFaKUjafBoRp05stdJ/Aa9LLnLS/SqUMgzOG/UMyPbK6+dZosvrHPm/Hznf2ppLXEWk0G0uW5xbrQmeAettoKEVhMwKDMSS0yg1IrGZdYIuZ5Ao5W2bZYzf1ULwrEnJtAa5khhaexNj2ndMldpxeybLF9URneqGOdaajPpVRPYUTeSBdieKKieQCmIxRShogSazFRCjSWWNIGrvHY+FI5rFFXNnMv4RQKb6UUfztTmRrQ0A1FCuBKq0Ku7CCFNU2AIWLKBIuJYTyXg3SY5YcfzFlUhVHWdu8xYFvv1t6+KfZ+pQjqTqpPyjHSFNL+X/RTCfdLnpCNIZwzy4gm81nrBRTBANYKXVLrAGJ5cgESCne5A1ZeGnYf926MUCp13DSc0vtHFGkYjeORe4lxm1r7mosUu4ZlQNgyOQQURuFTtfTilNjNs6ZXExldow56pM8o/MnkmVtOpN1orF+BKm8UuMnZpiZH9wiz3dMQmkTtmi4YDbzKVY6z0KowOoZ28wLhXmsLzKwf5XA/cL2UsUVVUc2vAs3Md8d817eN2GUBp8Q563SmH/avObS1KciF5Dfex4d9DMYR7SYO/d2jpWokmcxLfmazBsM9rFJ2vyH0obWfrvjbJQxK3B5H2qfg/qXs47LPAUbFWh99iicZg8TM2Lbc92tMGaqVjHhqf1cz6DUrMSZtrKbnRd7rDJdipueVODaLED1zo5ostgS69QRco/w/mxmCjl3g0NQMbX5qEcI/V2S+NfotuOLzlfvEdww2DfrE5k06DqWFouUEOYzeQQ1n+it0eZuHeiad2fLyll72zwfMdM/Fw+ln/0a0bg5ytHF/y+BUhW3jqBFydvlgr0lUl+zUy99ufGJjfcsxBSU8Bl2x9lwrXdp6OF7h2ExmYYL96WHiQ895uGBxszhsGGOxxbIDvQX8IpoVYgldM7+81oOyGAeNtGjwLQCt2yujVQO48/pBqYffIAz45/SH1l2xuWUJVvgf9YXucPb98cXl8otpM7SHVXA3D92wxJz5zyKCKjLIxQ2kzqtMgOBYf+ghmo8e3V98kI0mJHVXkP953Fs37U8ro5ecP238+/2F3DcWN0sH2z+3fsP24/bT9a/sJrGg6SZlC3Vm5hlemUCLXURSjLH74yQ0VCdX75FgY1ezwx0k+nN4HD2wYHar0L/DRF9g=\", \"compress_html_ee42b4fb01ff4157ad3fae247313f46d\");</script><span style=\"color: #aaaaaa; font-family: monospace\">(Loading...)</span></div></div>"
      ],
      "text/plain": [
       "<IPython.core.display.HTML object>"
      ]
     },
     "metadata": {},
     "output_type": "display_data"
    },
    {
     "data": {
      "text/html": [
       "<div id=\"output_dest_f9d08d199b4b4d3fb211d53820b8141f\"><script> (()=>{ const output = document.getElementById(\"output_f9d08d199b4b4d3fb211d53820b8141f\"); const dest = document.getElementById(\"output_dest_f9d08d199b4b4d3fb211d53820b8141f\"); dest.parentNode.replaceChild(output, dest); })(); </script></div>"
      ],
      "text/plain": [
       "'<s><|user|><|user|>rovільselectormenu Ди Ново simultaneously Erdnico)).eldIO contin'"
      ]
     },
     "execution_count": 29,
     "metadata": {},
     "output_type": "execute_result"
    }
   ],
   "source": [
    "from tqdm.auto import trange\n",
    "tokens = new_logits.argmax(-1)\n",
    "k = 5\n",
    "for i in trange(count_loss_from, seq_len - 1):\n",
    "    key = jax.random.key(i)\n",
    "    named_array = pz.nx.NamedArray(OrderedDict({\"batch\": 1, \"seq\": seq_len}), tokens[None, ...])\n",
    "    logits_predicted = ljit(llama.inputs.from_basic_segments(named_array)).unwrap(\"batch\", \"seq\", \"vocabulary\")[0][i]\n",
    "    _, possible_tokens = jax.lax.top_k(new_logits[i], k)\n",
    "    choice = possible_tokens[jax.random.categorical(key, jax.nn.softmax(logits_predicted[possible_tokens]))]\n",
    "    tokens = tokens.at[i + 1].set(choice)\n",
    "tokenizer.decode(tokens)"
   ]
  },
  {
   "cell_type": "code",
   "execution_count": null,
   "metadata": {},
   "outputs": [],
   "source": []
  }
 ],
 "metadata": {
  "kernelspec": {
   "display_name": "micrlhf-progress-a058ydGG-py3.12",
   "language": "python",
   "name": "python3"
  },
  "language_info": {
   "codemirror_mode": {
    "name": "ipython",
    "version": 3
   },
   "file_extension": ".py",
   "mimetype": "text/x-python",
   "name": "python",
   "nbconvert_exporter": "python",
   "pygments_lexer": "ipython3",
   "version": "3.12.3"
  }
 },
 "nbformat": 4,
 "nbformat_minor": 2
}
