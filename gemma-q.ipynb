{
 "cells": [
  {
   "cell_type": "code",
   "execution_count": 1,
   "metadata": {},
   "outputs": [],
   "source": [
    "%load_ext autoreload\n",
    "%autoreload 2\n",
    "import penzai\n",
    "from penzai import pz\n",
    "pz.ts.register_as_default()\n",
    "pz.ts.register_autovisualize_magic()\n",
    "pz.enable_interactive_context()"
   ]
  },
  {
   "cell_type": "code",
   "execution_count": 8,
   "metadata": {},
   "outputs": [],
   "source": [
    "from micrlhf.llama import LlamaTransformer\n",
    "llama = LlamaTransformer.from_pretrained(\"models/gemma-2b-it-q4_k.gguf\", device_map=\"tpu:0\",\n",
    "                                         from_type=\"gemma\",\n",
    "                                         load_eager=True\n",
    "                                         )"
   ]
  },
  {
   "cell_type": "code",
   "execution_count": 5,
   "metadata": {},
   "outputs": [
    {
     "data": {
      "application/vnd.jupyter.widget-view+json": {
       "model_id": "da5af639460d46bba3298b7bdf44e8ce",
       "version_major": 2,
       "version_minor": 0
      },
      "text/plain": [
       "tokenizer_config.json:   0%|          | 0.00/2.16k [00:00<?, ?B/s]"
      ]
     },
     "metadata": {},
     "output_type": "display_data"
    },
    {
     "data": {
      "application/vnd.jupyter.widget-view+json": {
       "model_id": "2dda9e7df7084a14a51a368c3732b9b2",
       "version_major": 2,
       "version_minor": 0
      },
      "text/plain": [
       "tokenizer.model:   0%|          | 0.00/4.24M [00:00<?, ?B/s]"
      ]
     },
     "metadata": {},
     "output_type": "display_data"
    },
    {
     "data": {
      "application/vnd.jupyter.widget-view+json": {
       "model_id": "58d82b502cb840538eaba436ceb84de5",
       "version_major": 2,
       "version_minor": 0
      },
      "text/plain": [
       "tokenizer.json:   0%|          | 0.00/17.5M [00:00<?, ?B/s]"
      ]
     },
     "metadata": {},
     "output_type": "display_data"
    },
    {
     "data": {
      "application/vnd.jupyter.widget-view+json": {
       "model_id": "5d5078735bdd466198995b5540a12886",
       "version_major": 2,
       "version_minor": 0
      },
      "text/plain": [
       "special_tokens_map.json:   0%|          | 0.00/636 [00:00<?, ?B/s]"
      ]
     },
     "metadata": {},
     "output_type": "display_data"
    }
   ],
   "source": [
    "from transformers import AutoTokenizer\n",
    "tokenizer = AutoTokenizer.from_pretrained(\"NousResearch/gemma-2b-it-tokenizer\")\n",
    "tokenizer.padding_side = \"right\"\n",
    "format_prompt = \"\"\"<start_of_turn>user\\n\n",
    "{}\\n\n",
    "<start_of_turn>model\\n\n",
    "{}\"\"\""
   ]
  },
  {
   "cell_type": "code",
   "execution_count": 9,
   "metadata": {},
   "outputs": [
    {
     "data": {
      "application/vnd.jupyter.widget-view+json": {
       "model_id": "1a51889bf89f434a99b9d054eeaf70fb",
       "version_major": 2,
       "version_minor": 0
      },
      "text/plain": [
       "  0%|          | 0/54 [00:00<?, ?it/s]"
      ]
     },
     "metadata": {},
     "output_type": "display_data"
    },
    {
     "data": {
      "text/html": [
       "<div id=\"output_995f6867c1f94c1b9a262dc00fb7bf4a\"><script> /* penzai.treescope rendering of a Python object (compressed) */ (()=>{ let observer; let lastStep = new Promise((resolve, reject) => { observer = new IntersectionObserver((entries) => { for (const entry of entries) { if (entry.isIntersecting) { resolve(); observer.disconnect(); return; } } }, {rootMargin: \"1000px\"}); }); window.treescope_decompress_enqueue = (encoded, destId) => { const previous = lastStep; const destElt = document.getElementById(destId); lastStep = (async () => { await previous; let blob = new Blob([ Uint8Array.from(atob(encoded), (m) => m.codePointAt(0)) ]); let reader = blob.stream().pipeThrough( new DecompressionStream(\"deflate\") ).pipeThrough( new TextDecoderStream(\"utf-8\") ).getReader(); let parts = []; while (true) { let step = await reader.read(); if (step.done) { break; } parts.push(step.value); } let newElt = document.createElement(\"div\"); newElt.innerHTML = parts.join(\"\"); destElt.parentNode.replaceChild(newElt, destElt); for (let oldScript of newElt.querySelectorAll(\"script\")) { let newScript = document.createElement(\"script\"); newScript.type = oldScript.type; newScript.textContent = oldScript.textContent; oldScript.parentNode.replaceChild(newScript, oldScript); } })(); requestAnimationFrame(() => { observer.observe(destElt); }); } })(); </script><div id=\"compress_html_f3d85fdee57842248e2b3a27e8f97695\"><script>window.treescope_decompress_enqueue(\"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\", \"compress_html_f3d85fdee57842248e2b3a27e8f97695\");</script><span style=\"color: #aaaaaa; font-family: monospace\">(Loading...)</span></div></div>"
      ],
      "text/plain": [
       "<IPython.core.display.HTML object>"
      ]
     },
     "metadata": {},
     "output_type": "display_data"
    },
    {
     "data": {
      "text/html": [
       "<div id=\"output_dest_995f6867c1f94c1b9a262dc00fb7bf4a\"><script> (()=>{ const output = document.getElementById(\"output_995f6867c1f94c1b9a262dc00fb7bf4a\"); const dest = document.getElementById(\"output_dest_995f6867c1f94c1b9a262dc00fb7bf4a\"); dest.parentNode.replaceChild(output, dest); })(); </script></div>"
      ],
      "text/plain": [
       "[\"<bos><start_of_turn>user\\n\\nHi!\\n\\n<start_of_turn>model\\n\\nHi! 👋 It's great to hear from you. What can I do for you today? 😊<eos><eos>I'm a large language model, so I can help with a wide range of tasks, such as:\\n\\n- answering questions\\n- generating text\\n\",\n",
       " \"<bos><start_of_turn>user\\n\\nHi!\\n\\n<start_of_turn>model\\n\\nHi! It's great to hear from you! How can I assist you today?<eos><eos>Let me know how I can be helpful. 😊<eos><eos>I can assist you with a variety of tasks, such as:\\n\\n* Providing information and answering questions\\n*\",\n",
       " \"<bos><start_of_turn>user\\n\\nHi!\\n\\n<start_of_turn>model\\n\\nHi! It's nice to hear from you. How can I be of assistance today? 😊<eos><eos>Let me know how I can help!<eos>Is there anything I can do for you?<eos>I'm here to assist you with any questions or tasks you\",\n",
       " \"<bos><start_of_turn>user\\n\\nHi!\\n\\n<start_of_turn>model\\n\\nHi! 👋 It's great to hear from you. How can I assist you today? 😊<eos><eos>I'm here to assist you with any questions or tasks you may have. Is there anything I can do for you?<eos><eos>I'm happy to\"]"
      ]
     },
     "execution_count": 9,
     "metadata": {},
     "output_type": "execute_result"
    }
   ],
   "source": [
    "from micrlhf.sampling import sample\n",
    "sample(llama, tokenizer, format_prompt.format(\"Hi!\", \"\"),\n",
    "       batch_size=4, do_sample=True)[0]"
   ]
  },
  {
   "cell_type": "code",
   "execution_count": null,
   "metadata": {},
   "outputs": [],
   "source": []
  }
 ],
 "metadata": {
  "kernelspec": {
   "display_name": "micrlhf-progress-a058ydGG-py3.12",
   "language": "python",
   "name": "python3"
  },
  "language_info": {
   "codemirror_mode": {
    "name": "ipython",
    "version": 3
   },
   "file_extension": ".py",
   "mimetype": "text/x-python",
   "name": "python",
   "nbconvert_exporter": "python",
   "pygments_lexer": "ipython3",
   "version": "3.12.3"
  }
 },
 "nbformat": 4,
 "nbformat_minor": 2
}
