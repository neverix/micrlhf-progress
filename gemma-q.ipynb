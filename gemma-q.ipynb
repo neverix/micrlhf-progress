{
 "cells": [
  {
   "cell_type": "code",
   "execution_count": 1,
   "metadata": {},
   "outputs": [],
   "source": [
    "%load_ext autoreload\n",
    "%autoreload 2\n",
    "import penzai\n",
    "from penzai import pz\n",
    "pz.ts.register_as_default()\n",
    "pz.ts.register_autovisualize_magic()\n",
    "pz.enable_interactive_context()"
   ]
  },
  {
   "cell_type": "code",
   "execution_count": 12,
   "metadata": {},
   "outputs": [],
   "source": [
    "from micrlhf.llama import LlamaTransformer\n",
    "from micrlhf.scan import sequential_to_scan\n",
    "llama = LlamaTransformer.from_pretrained(\"models/gemma-2-2b-it-q4_k_s.gguf\", device_map=\"tpu:0\",\n",
    "                                         from_type=\"gemma2\",\n",
    "                                         load_on_cpu=True,\n",
    "                                         )\n",
    "llama = sequential_to_scan(llama)\n",
    "llama = llama.to_tpu()"
   ]
  },
  {
   "cell_type": "code",
   "execution_count": 13,
   "metadata": {},
   "outputs": [],
   "source": [
    "from transformers import AutoTokenizer\n",
    "tokenizer = AutoTokenizer.from_pretrained(\"NousResearch/gemma-2b-it-tokenizer\")\n",
    "prompt = tokenizer.apply_chat_template([\n",
    "    {\"role\": \"user\", \"content\": \"Who are you?\"},\n",
    "    {\"role\": \"assistant\", \"content\": \"Hello, I am a language model that exists and stuff. How can I help you today?\"},\n",
    "] * 1_000, tokenize=False)"
   ]
  },
  {
   "cell_type": "code",
   "execution_count": 14,
   "metadata": {},
   "outputs": [],
   "source": [
    "from penzai.toolshed import jit_wrapper\n",
    "from micrlhf.flash import flashify\n",
    "tokens = pz.nx.wrap([tokenizer.encode(prompt)[:64]] * 256, \"batch\", \"seq\")\n",
    "inputs = llama.inputs.from_basic_segments(tokens)\n",
    "llama_jitted = jit_wrapper.Jitted(llama)"
   ]
  },
  {
   "cell_type": "code",
   "execution_count": 18,
   "metadata": {},
   "outputs": [
    {
     "name": "stdout",
     "output_type": "stream",
     "text": [
      "[26.75 26.75 26.75 26.75 26.75 26.75 26.75 26.75 26.75 26.75 26.75 26.75\n",
      " 26.75 26.75 26.75 26.75 26.75 26.75 26.75 26.75 26.75 26.75 26.75 26.75\n",
      " 26.75 26.75 26.75 26.75 26.75 26.75 26.75 26.75 26.75 26.75 26.75 26.75\n",
      " 26.75 26.75 26.75 26.75 26.75 26.75 26.75 26.75 26.75 26.75 26.75 26.75\n",
      " 26.75 26.75 26.75 26.75 26.75 26.75 26.75 26.75 26.75 26.75 26.75 26.75\n",
      " 26.75 26.75 26.75 26.75 26.75 26.75 26.75 26.75 26.75 26.75 26.75 26.75\n",
      " 26.75 26.75 26.75 26.75 26.75 26.75 26.75 26.75 26.75 26.75 26.75 26.75\n",
      " 26.75 26.75 26.75 26.75 26.75 26.75 26.75 26.75 26.75 26.75 26.75 26.75\n",
      " 26.75 26.75 26.75 26.75 26.75 26.75 26.75 26.75 26.75 26.75 26.75 26.75\n",
      " 26.75 26.75 26.75 26.75 26.75 26.75 26.75 26.75 26.75 26.75 26.75 26.75\n",
      " 26.75 26.75 26.75 26.75 26.75 26.75 26.75 26.75 26.75 26.75 26.75 26.75\n",
      " 26.75 26.75 26.75 26.75 26.75 26.75 26.75 26.75 26.75 26.75 26.75 26.75\n",
      " 26.75 26.75 26.75 26.75 26.75 26.75 26.75 26.75 26.75 26.75 26.75 26.75\n",
      " 26.75 26.75 26.75 26.75 26.75 26.75 26.75 26.75 26.75 26.75 26.75 26.75\n",
      " 26.75 26.75 26.75 26.75 26.75 26.75 26.75 26.75 26.75 26.75 26.75 26.75\n",
      " 26.75 26.75 26.75 26.75 26.75 26.75 26.75 26.75 26.75 26.75 26.75 26.75\n",
      " 26.75 26.75 26.75 26.75 26.75 26.75 26.75 26.75 26.75 26.75 26.75 26.75\n",
      " 26.75 26.75 26.75 26.75 26.75 26.75 26.75 26.75 26.75 26.75 26.75 26.75\n",
      " 26.75 26.75 26.75 26.75 26.75 26.75 26.75 26.75 26.75 26.75 26.75 26.75\n",
      " 26.75 26.75 26.75 26.75 26.75 26.75 26.75 26.75 26.75 26.75 26.75 26.75\n",
      " 26.75 26.75 26.75 26.75 26.75 26.75 26.75 26.75 26.75 26.75 26.75 26.75\n",
      " 26.75 26.75 26.75 26.75]\n"
     ]
    }
   ],
   "source": [
    "import jax\n",
    "import jax.numpy as jnp\n",
    "@jax.jit\n",
    "def lfn(llama_jitted, inputs):\n",
    "    logits = llama_jitted(inputs)\n",
    "    loss = -pz.nx.nmap(lambda l, t: jnp.take_along_axis(jax.nn.log_softmax(l[:-1], -1), t[1:, None], 1).mean())(logits.untag(\"seq\", \"vocabulary\"), tokens.untag(\"seq\"))\n",
    "    return loss\n",
    "print(lfn(llama_jitted, inputs).unwrap(\"batch\"))"
   ]
  },
  {
   "cell_type": "code",
   "execution_count": null,
   "metadata": {},
   "outputs": [],
   "source": [
    " import jax; jax.print_environment_info()"
   ]
  },
  {
   "cell_type": "code",
   "execution_count": null,
   "metadata": {},
   "outputs": [],
   "source": []
  },
  {
   "cell_type": "code",
   "execution_count": null,
   "metadata": {},
   "outputs": [],
   "source": []
  }
 ],
 "metadata": {
  "kernelspec": {
   "display_name": "micrlhf-progress-a058ydGG-py3.12",
   "language": "python",
   "name": "python3"
  },
  "language_info": {
   "codemirror_mode": {
    "name": "ipython",
    "version": 3
   },
   "file_extension": ".py",
   "mimetype": "text/x-python",
   "name": "python",
   "nbconvert_exporter": "python",
   "pygments_lexer": "ipython3",
   "version": "3.10.12"
  }
 },
 "nbformat": 4,
 "nbformat_minor": 2
}
