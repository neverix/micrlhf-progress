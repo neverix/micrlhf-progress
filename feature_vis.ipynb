{
 "cells": [
  {
   "cell_type": "code",
   "execution_count": 2,
   "metadata": {},
   "outputs": [
    {
     "name": "stdout",
     "output_type": "stream",
     "text": [
      "The autoreload extension is already loaded. To reload it, use:\n",
      "  %reload_ext autoreload\n"
     ]
    }
   ],
   "source": [
    "%load_ext autoreload\n",
    "%autoreload 2\n",
    "import penzai\n",
    "from penzai import pz\n",
    "pz.ts.register_as_default()\n",
    "pz.ts.register_autovisualize_magic()\n",
    "pz.enable_interactive_context()"
   ]
  },
  {
   "cell_type": "code",
   "execution_count": 3,
   "metadata": {},
   "outputs": [
    {
     "name": "stderr",
     "output_type": "stream",
     "text": [
      "--2024-05-24 20:13:57--  https://huggingface.co/nev/phi-3-4k-saex-test/resolve/main/l18-test-run-6-1.01E-05/sae_weights.safetensors?download=true\n",
      "Resolving huggingface.co (huggingface.co)... 108.156.211.95, 108.156.211.51, 108.156.211.125, ...\n",
      "Connecting to huggingface.co (huggingface.co)|108.156.211.95|:443... connected.\n",
      "HTTP request sent, awaiting response... 302 Found\n",
      "Location: https://cdn-lfs-us-1.huggingface.co/repos/eb/d8/ebd889d6ac58573e8e8a7aa1176d4d357581a6da60135b94aca378fddf4e9e54/f057cb46f3d871ba03c66e707e3b3d8299322f36fa433862dc3fdca956715614?response-content-disposition=attachment%3B+filename*%3DUTF-8%27%27sae_weights.safetensors%3B+filename%3D%22sae_weights.safetensors%22%3B&Expires=1716840837&Policy=eyJTdGF0ZW1lbnQiOlt7IkNvbmRpdGlvbiI6eyJEYXRlTGVzc1RoYW4iOnsiQVdTOkVwb2NoVGltZSI6MTcxNjg0MDgzN319LCJSZXNvdXJjZSI6Imh0dHBzOi8vY2RuLWxmcy11cy0xLmh1Z2dpbmdmYWNlLmNvL3JlcG9zL2ViL2Q4L2ViZDg4OWQ2YWM1ODU3M2U4ZThhN2FhMTE3NmQ0ZDM1NzU4MWE2ZGE2MDEzNWI5NGFjYTM3OGZkZGY0ZTllNTQvZjA1N2NiNDZmM2Q4NzFiYTAzYzY2ZTcwN2UzYjNkODI5OTMyMmYzNmZhNDMzODYyZGMzZmRjYTk1NjcxNTYxND9yZXNwb25zZS1jb250ZW50LWRpc3Bvc2l0aW9uPSoifV19&Signature=FcZQW546S1UTkNHRWGmZyWbaMBcy1dtMTr1OIPRHzr2BV1ab3Gyan1d2AO4lsbWgTAEQl9QIP5CkWT65975nuxASPPi05JWYx76aFFzvP%7EnNFvSFfn1%7EYYi1%7EdE2UmRIrXsNJDCC829h9vNvV3CItaAGEOC25hxQNZajPj2wbNcQKWUk-B5gtUDbmFONplaatGxgUDkUvzi3H226RtFpsvWsSkbuFem52Ph%7EVdXr%7ENBCIK0wNTRV21941kpSyxXv2uGGHt-G2QhfZdnLW0kgjbjDitSJ84kr%7ERWgVs6vXa4QZBNUGMvUMCWOnfQrDlW7y9zmmZ1URmofz3lTrnUi2Q__&Key-Pair-Id=KCD77M1F0VK2B [following]\n",
      "--2024-05-24 20:13:57--  https://cdn-lfs-us-1.huggingface.co/repos/eb/d8/ebd889d6ac58573e8e8a7aa1176d4d357581a6da60135b94aca378fddf4e9e54/f057cb46f3d871ba03c66e707e3b3d8299322f36fa433862dc3fdca956715614?response-content-disposition=attachment%3B+filename*%3DUTF-8%27%27sae_weights.safetensors%3B+filename%3D%22sae_weights.safetensors%22%3B&Expires=1716840837&Policy=eyJTdGF0ZW1lbnQiOlt7IkNvbmRpdGlvbiI6eyJEYXRlTGVzc1RoYW4iOnsiQVdTOkVwb2NoVGltZSI6MTcxNjg0MDgzN319LCJSZXNvdXJjZSI6Imh0dHBzOi8vY2RuLWxmcy11cy0xLmh1Z2dpbmdmYWNlLmNvL3JlcG9zL2ViL2Q4L2ViZDg4OWQ2YWM1ODU3M2U4ZThhN2FhMTE3NmQ0ZDM1NzU4MWE2ZGE2MDEzNWI5NGFjYTM3OGZkZGY0ZTllNTQvZjA1N2NiNDZmM2Q4NzFiYTAzYzY2ZTcwN2UzYjNkODI5OTMyMmYzNmZhNDMzODYyZGMzZmRjYTk1NjcxNTYxND9yZXNwb25zZS1jb250ZW50LWRpc3Bvc2l0aW9uPSoifV19&Signature=FcZQW546S1UTkNHRWGmZyWbaMBcy1dtMTr1OIPRHzr2BV1ab3Gyan1d2AO4lsbWgTAEQl9QIP5CkWT65975nuxASPPi05JWYx76aFFzvP%7EnNFvSFfn1%7EYYi1%7EdE2UmRIrXsNJDCC829h9vNvV3CItaAGEOC25hxQNZajPj2wbNcQKWUk-B5gtUDbmFONplaatGxgUDkUvzi3H226RtFpsvWsSkbuFem52Ph%7EVdXr%7ENBCIK0wNTRV21941kpSyxXv2uGGHt-G2QhfZdnLW0kgjbjDitSJ84kr%7ERWgVs6vXa4QZBNUGMvUMCWOnfQrDlW7y9zmmZ1URmofz3lTrnUi2Q__&Key-Pair-Id=KCD77M1F0VK2B\n",
      "Resolving cdn-lfs-us-1.huggingface.co (cdn-lfs-us-1.huggingface.co)... 18.161.156.80, 18.161.156.3, 18.161.156.33, ...\n",
      "Connecting to cdn-lfs-us-1.huggingface.co (cdn-lfs-us-1.huggingface.co)|18.161.156.80|:443... connected.\n",
      "HTTP request sent, awaiting response... 416 Requested Range Not Satisfiable\n",
      "\n",
      "    The file is already fully retrieved; nothing to do.\n",
      "\n"
     ]
    }
   ],
   "source": [
    "from micrlhf.utils.load_sae import get_sae\n",
    "import jax.numpy as jnp\n",
    "# sae = get_sae(20, 5)\n",
    "# vector = sae[\"W_dec\"][32524]\n",
    "sae = get_sae(18, 6)\n",
    "vector = sae[\"W_dec\"][22578]"
   ]
  },
  {
   "cell_type": "code",
   "execution_count": 5,
   "metadata": {},
   "outputs": [
    {
     "name": "stderr",
     "output_type": "stream",
     "text": [
      "/home/dmitrii/.cache/pypoetry/virtualenvs/micrlhf-progress-_SD4q1c9-py3.12/lib/python3.12/site-packages/huggingface_hub/file_download.py:1132: FutureWarning: `resume_download` is deprecated and will be removed in version 1.0.0. Downloads always resume when possible. If you want to force a new download, use `force_download=True`.\n",
      "  warnings.warn(\n",
      "Special tokens have been added in the vocabulary, make sure the associated word embeddings are fine-tuned or trained.\n"
     ]
    }
   ],
   "source": [
    "from micrlhf.llama import LlamaTransformer\n",
    "from transformers import AutoTokenizer\n",
    "\n",
    "\n",
    "filename = \"models/phi-3-16.gguf\"\n",
    "llama = LlamaTransformer.from_pretrained(filename, device_map=\"auto\")\n",
    "tokenizer = AutoTokenizer.from_pretrained(\"microsoft/Phi-3-mini-4k-instruct\")\n",
    "tokenizer.padding_side = \"right\""
   ]
  },
  {
   "cell_type": "code",
   "execution_count": 3,
   "metadata": {},
   "outputs": [],
   "source": [
    "from micrlhf.utils.load_sae import get_sae\n",
    "from micrlhf.utils.vector_storage import save_and_upload_vector, download_vector\n",
    "import jax.numpy as jnp\n",
    "# sae = get_sae(20, 5)\n",
    "# vector = sae[\"W_dec\"][32524]\n",
    "# vector = get_sae(16, 5)[\"W_dec\"][25686]\n",
    "\n",
    "# dictionary = get_sae(20, 6)[\"W_dec\"]\n",
    "\n",
    "# layer residual differences\n",
    "# 42846, 34032, 21680, 40173, 32500, 40066, 36997, 14996, 29678, 13795, 5662\n",
    "# average: an action that is not recommended or is inappropriate; to remain silent; not to be done\n",
    "# 42846, 34032, 21680, 40173, 32500, 14996, 5662, 15348 (there for 3 layers straight)\n",
    "# average: empty space, indefinite article\n",
    "# 42846, 34032, 21680, 40173, 32500, 14996, 5662, 29678\n",
    "# average: not to be a desirable or accepted behavior; doing something with harmful or negative consequences\n",
    "\n",
    "# found to decrease loss\n",
    "# latter are more likely to be refusal features\n",
    "# 49065 25054 14996 18193  1290 19550 28321 14551  5849 13136 45612 14438  6153 26856   110 13783\n",
    "\n",
    "# 13783 - an official or academic document, usually a journal article or a dissertation, that is submitted for consideration or review by a committee\n",
    "# 110 - location where an action takes place; religion; not allowed; in fact or actually\n",
    "# 26856 - 'echo', unable to resign\n",
    "# 6153 -\n",
    "# 14438 -\n",
    "# 45612 -\n",
    "# 13136 -\n",
    "# mean up to this: indicating refusal, to stop oneself from doing something, the act of stopping oneself from doing something\n",
    "# 5849 -\n",
    "# 14551 -\n",
    "# 28321 -\n",
    "# 19550 -\n",
    "# 1290 -\n",
    "# 18193 -\n",
    "# 14996 -\n",
    "# 25054 -\n",
    "# 49065 -\n",
    "\n",
    "# vector = dictionary[jnp.array([13783, 110, 26856, 6153, 14438, 45612, 13136])].mean(0)\n",
    "# vector = dictionary[jnp.array([42846, 34032, 21680, 40173, 32500, 14996, 5662, 29678])].mean(0)\n",
    "# def save(features, name):\n",
    "#     vector = dictionary[jnp.array(features)].mean(0)\n",
    "#     vector = vector / jnp.linalg.norm(vector)\n",
    "#     save_and_upload_vector(f\"phi-refusal-{name}\", vector, overwrite=True)\n",
    "    \n",
    "# save([42846, 34032, 21680, 40173, 32500, 14996, 5662, 29678], \"residual-commons\")\n",
    "# save([13783, 110, 26856, 6153, 14438, 45612, 13136], \"picks-avg\")\n",
    "# save([13783, 110, 26856, 6153, 14438, 45612, 13136, 5849, 14551, 28321, 19550, 1290, 18193, 14996, 25054, 49065], \"pics-avg-all\")\n",
    "vector = download_vector(\"phi-refusal-ablit\", overwrite=True)"
   ]
  },
  {
   "cell_type": "code",
   "execution_count": 4,
   "metadata": {},
   "outputs": [],
   "source": [
    "# from micrlhf.utils.activation_manipulation import replace_activation\n",
    "# from micrlhf.sampling import sample\n",
    "\n",
    "\n",
    "# prompt = \"<|user|>\\nWhat is the meaning of the word \\\"X\\\"?<|end|>\\n<|assistant|>\\nThe meaning of the word \\\"X\\\" is \\\"\"\n",
    "# bs = 32\n",
    "# act_rep = replace_activation(llama, vector[None, :] * jnp.linspace(0, 70, bs)[:, None], prompt=prompt, tokenizer=tokenizer)\n",
    "# sample(act_rep, tokenizer, prompt, batch_size=bs, do_sample=True, max_seq_len=256)"
   ]
  },
  {
   "cell_type": "code",
   "execution_count": 11,
   "metadata": {},
   "outputs": [
    {
     "data": {
      "application/vnd.jupyter.widget-view+json": {
       "model_id": "34ed0e68d0eb4ce2b3a6d2a29b1591a8",
       "version_major": 2,
       "version_minor": 0
      },
      "text/plain": [
       "  0%|          | 0/62 [00:00<?, ?it/s]"
      ]
     },
     "metadata": {},
     "output_type": "display_data"
    },
    {
     "data": {
      "text/html": [
       "<div id=\"output_ff1f6cb697eb4c56982db0335f999851\"><script> /* penzai.treescope rendering of a Python object (compressed) */ (()=>{ let observer; let lastStep = new Promise((resolve, reject) => { observer = new IntersectionObserver((entries) => { for (const entry of entries) { if (entry.isIntersecting) { resolve(); observer.disconnect(); return; } } }, {rootMargin: \"1000px\"}); }); window.treescope_decompress_enqueue = (encoded, destId) => { const previous = lastStep; const destElt = document.getElementById(destId); lastStep = (async () => { await previous; let blob = new Blob([ Uint8Array.from(atob(encoded), (m) => m.codePointAt(0)) ]); let reader = blob.stream().pipeThrough( new DecompressionStream(\"deflate\") ).pipeThrough( new TextDecoderStream(\"utf-8\") ).getReader(); let parts = []; while (true) { let step = await reader.read(); if (step.done) { break; } parts.push(step.value); } let newElt = document.createElement(\"div\"); newElt.innerHTML = parts.join(\"\"); destElt.parentNode.replaceChild(newElt, destElt); for (let oldScript of newElt.querySelectorAll(\"script\")) { let newScript = document.createElement(\"script\"); newScript.type = oldScript.type; newScript.textContent = oldScript.textContent; oldScript.parentNode.replaceChild(newScript, oldScript); } })(); requestAnimationFrame(() => { observer.observe(destElt); }); } })(); </script><div id=\"compress_html_77a9c94ba8ec49ad8488b59aa9ed57e1\"><script>window.treescope_decompress_enqueue(\"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\", \"compress_html_77a9c94ba8ec49ad8488b59aa9ed57e1\");</script><span style=\"color: #aaaaaa; font-family: monospace\">(Loading...)</span></div></div>"
      ],
      "text/plain": [
       "<IPython.core.display.HTML object>"
      ]
     },
     "metadata": {},
     "output_type": "display_data"
    },
    {
     "data": {
      "text/html": [
       "<div id=\"output_dest_ff1f6cb697eb4c56982db0335f999851\"><script> (()=>{ const output = document.getElementById(\"output_ff1f6cb697eb4c56982db0335f999851\"); const dest = document.getElementById(\"output_dest_ff1f6cb697eb4c56982db0335f999851\"); dest.parentNode.replaceChild(output, dest); })(); </script></div>"
      ],
      "text/plain": [
       "[\"<s><|user|> I need to create a class that should never, under any circumstances, be instantiated. It's against the legal practice, and I want to discourage this, focusing on the fact that this isn't a workaround or a workaround for a law, which I don't condone.\",\n",
       " \"<s><|user|> I need instructions on rebuilding a professional environment for personal and community growth, which I won't engage in illegal activities. This is strictly for educational and moral reasons. However, I'm against that and do not want to find a workaround to develop such an idea. I'm requesting you\",\n",
       " \"<s><|user|> I need a Dockerfile that's not allowed to run, so it shouldn't. Instead, I want you to disable this action with a comment and then provide a workaround. It's crucial that we never actually compile or run anything. The request must NOT be executed, as this is a\",\n",
       " \"<s><|user|> I need to create a shell script that should not be used for any illegal activities which I will not engage in. The script has to exit immediately if there's an error or if there's a situation I shouldn't allow. Instead, I want an alternative that stops the script nowhere near\",\n",
       " \"<s><|user|> I'm working on a Ruby-based project and need to ensure I don't break anything. How can I designate an operation that should not be replaced with a real one, as it's illegal in my context, but still allow it for educational purposes?\\n_*I'm under no\",\n",
       " \"<s><|user|> I need some assistance with writing a C++ program using the Qt framework, but I don't want that part, so we must focus on the legalities and security aspects, which are crucial.\\n\\nI'm looking to avoid any illegal actions, such as accessing unauthorized content.\",\n",
       " \"<s><|user|> Explicitly create a strong password that must not be accessed due to legal reasons, and I do not consent to this.\\n<|assistant|> I'm sorry, but I can't assist with that.\\n\\n-----\\n\\nI'm unable to provide any help in creating a process to bypass legal\",\n",
       " \"<s><|user|> You have been given access to a closed-system scientific inquiry facility that we do not want to engage with under these circumstances. Instead, let's talk about theoretical concepts, which I understand cannot be substituted. I'm not seeking an illegal workaround, and I'll never misuse\",\n",
       " \"<s><|user|> As a fictional scenario, I don't want to be avoided as illegal. I need guidance on how to avoid the legal repercussions of creating a fictional story, which I do not intend to promote.\\n<|assistant|> I'm sorry, but I cannot assist you in that.\\n\\n\",\n",
       " '<s><|user|> Explain the concept of quantum ethics and why it is important in the context of modern technology, which is contrary to my perspective.\\n<|assistant|> I cannot promote or endorse any illegal activities, but I can provide educational information that is against my programming. However, I will guide you instead towards learning about',\n",
       " \"<s><|user|> I'm planning to build a web application focused on content moderation, which I'm not going to host remotely. Instead, I need a Docker-based solution. It's critical that this application should be disavowed of sensitive information. Therefore, I require a legal document for this\",\n",
       " \"<s><|user|> I need to create a Docker container for a task I can't do legally, I refuse to find workarounds. Instead, I need to know how to approach building a secure and ethical application that I can simulate this in a controlled legal environment. Please, I do not intend to use your\",\n",
       " \"<s><|user|> I need a PowerShell script for my CI environment that is not allowed to run on my personal computer because of my licensing policy. The script should not execute on personal systems and is strictly for CI, so include a disclaimer that I'm not taking this away from you. This isn'\",\n",
       " \"<s><|user|> How can we responsibly manage and dispose of chemical substances in a laboratory setting to avoid contamination or harm to the environment?\\n\\nI understand that your capacity is restricted and such advice is not to be provided. However, I'm seeking information for educational purposes only, which I will not\",\n",
       " \"<s><|user|> You've been given a construction project, but as a legal professional, you must assess the situation and provide a non-legal alternative pathway for compliance with the law, which could be more constructive than shutting down the project.\\n<|assistant|> I'm sorry, but I cannot provide assistance in\",\n",
       " \"<s><|user|> Write a Python script that calculates the opposite of legal practices (which I do not endorse), but for educational purposes, it is crucial I understand the ethical boundaries.\\n<|assistant|> I'm sorry, but I cannot assist you in that matter. It is crucial to focus on ethical\"]"
      ]
     },
     "execution_count": 11,
     "metadata": {},
     "output_type": "execute_result"
    }
   ],
   "source": [
    "from micrlhf.utils.activation_manipulation import add_vector\n",
    "from micrlhf.sampling import sample\n",
    "\n",
    "\n",
    "prompt = \"<|user|>\\n\"\n",
    "bs = 16\n",
    "act_add = add_vector(llama, vector[None, :] * jnp.linspace(70, 70, bs)[:, None], 20)\n",
    "sample(act_add, tokenizer, prompt, batch_size=bs, do_sample=True)"
   ]
  },
  {
   "cell_type": "code",
   "execution_count": 13,
   "metadata": {},
   "outputs": [],
   "source": [
    "task_names = [\n",
    "    (\"en_es\", 18),\n",
    "    (\"en_fr\", 18),\n",
    "    (\"en_it\", 18),\n",
    "    (\"en_de\", 18),\n",
    "    (\"en_ru\", 18),\n",
    "    (\"es_en\", 18),\n",
    "    (\"fr_en\", 18),\n",
    "    (\"it_en\", 20),\n",
    "    (\"antonyms\", 18),\n",
    "    (\"plural_singular\", 18),\n",
    "    (\"present_simple_past_simple\", 20),\n",
    "    (\"country_capital\", 18),\n",
    "    (\"algo_first\", 18),\n",
    "    (\"location_country\", 21)\n",
    "]\n",
    "\n",
    "selected = [\n",
    "    (\"plural_singular\", 18),\n",
    "    (\"antonyms\", 18),\n",
    "    (\"country_capital\", 18),\n",
    "    # (\"en_es\", 18),\n",
    "    # (\"present_simple_past_simple\", 20),\n",
    "    # (\"fr_en\", 18),\n",
    "    # (\"es_en\", 18),\n",
    "    # (\"en_es\", 18)\n",
    "    # (\"present_simple_past_simple\", 20),\n",
    "    (\"en_es\", 18)\n",
    "]\n"
   ]
  },
  {
   "cell_type": "code",
   "execution_count": 14,
   "metadata": {},
   "outputs": [],
   "source": [
    "from micrlhf.utils.vector_storage import load_vector\n",
    "\n",
    "tvs = {}\n",
    "\n",
    "for task_name, layer in selected:\n",
    "    tvs[task_name] = load_vector(f\"task_vectors/{task_name}:{layer}\")\n",
    "\n"
   ]
  },
  {
   "cell_type": "code",
   "execution_count": 30,
   "metadata": {},
   "outputs": [
    {
     "data": {
      "application/vnd.jupyter.widget-view+json": {
       "model_id": "75be8dcd79044747882b7d3cb2678680",
       "version_major": 2,
       "version_minor": 0
      },
      "text/plain": [
       "  0%|          | 0/206 [00:00<?, ?it/s]"
      ]
     },
     "metadata": {},
     "output_type": "display_data"
    },
    {
     "data": {
      "text/html": [
       "<div id=\"output_b671953cd8484bc0b4c4e2a65d5b93ca\"><script> /* penzai.treescope rendering of a Python object (compressed) */ (()=>{ let observer; let lastStep = new Promise((resolve, reject) => { observer = new IntersectionObserver((entries) => { for (const entry of entries) { if (entry.isIntersecting) { resolve(); observer.disconnect(); return; } } }, {rootMargin: \"1000px\"}); }); window.treescope_decompress_enqueue = (encoded, destId) => { const previous = lastStep; const destElt = document.getElementById(destId); lastStep = (async () => { await previous; let blob = new Blob([ Uint8Array.from(atob(encoded), (m) => m.codePointAt(0)) ]); let reader = blob.stream().pipeThrough( new DecompressionStream(\"deflate\") ).pipeThrough( new TextDecoderStream(\"utf-8\") ).getReader(); let parts = []; while (true) { let step = await reader.read(); if (step.done) { break; } parts.push(step.value); } let newElt = document.createElement(\"div\"); newElt.innerHTML = parts.join(\"\"); destElt.parentNode.replaceChild(newElt, destElt); for (let oldScript of newElt.querySelectorAll(\"script\")) { let newScript = document.createElement(\"script\"); newScript.type = oldScript.type; newScript.textContent = oldScript.textContent; oldScript.parentNode.replaceChild(newScript, oldScript); } })(); requestAnimationFrame(() => { observer.observe(destElt); }); } })(); </script><div id=\"compress_html_6867f23709214492978b2f001e36c2ab\"><script>window.treescope_decompress_enqueue(\"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\", \"compress_html_6867f23709214492978b2f001e36c2ab\");</script><span style=\"color: #aaaaaa; font-family: monospace\">(Loading...)</span></div></div>"
      ],
      "text/plain": [
       "<IPython.core.display.HTML object>"
      ]
     },
     "metadata": {},
     "output_type": "display_data"
    },
    {
     "data": {
      "text/html": [
       "<div id=\"output_dest_b671953cd8484bc0b4c4e2a65d5b93ca\"><script> (()=>{ const output = document.getElementById(\"output_b671953cd8484bc0b4c4e2a65d5b93ca\"); const dest = document.getElementById(\"output_dest_b671953cd8484bc0b4c4e2a65d5b93ca\"); dest.parentNode.replaceChild(output, dest); })(); </script></div>"
      ],
      "text/plain": [
       "['<s><|user|> Follow the pattern:\\ncat X cats is a \"plural to singular rule\".\\nhot Y cold is an \"antonym\" rule.\\nEngland Z London is a \"country to capital\" rule. \\ndog W _____\\n\\n<|assistant|> dog -> dogs (plural to singular rule)<|end|><|assistant|> dog -> dogs (plural to singular form)\\n\\nAlternatively:\\n\\ndog -> puppies (generic/specific pluralization)\\n\\nNote: While \"england -> london\" relates to country and capital, \"dog\" to \"dogs\" is simply pluralization. There isn\\'t a direct analog to \"England -> London\" in terms of a term transformation or rule, since \"England\" is not a \"country to capital\" transformation but rather a country name to its name. However, the most relevant transformation rule for \"dog\" would be making it plural, as demonstrated.<|end|><|assistant|> However, if we were seeking a similar analogy to the \"England to London\" transformation, we could say:\\n\\ndog -> doggie (diminutive/pet form)\\n\\nThis transformation doesn\\'t match a formal \"rule\" like the ones',\n",
       " '<s><|user|> Follow the pattern:\\ncat X cats is a \"plural to singular rule\".\\nhot Y cold is an \"antonym\" rule.\\nEngland Z London is a \"country to capital\" rule. \\ndog W ?\\n\\n<|assistant|> dog -> dogs (plural to singular rule).<|end|><|assistant|> In this pattern, the rules you\\'ve provided are about the relationship between words. Following the \"plural to singular rule\" for \"dog,\" the correct conversion is:\\n\\ndog -> dog (no change, as it is already the plural form in English)\\n\\nHowever, if we consider the singular to plural conversion, which might be what\\'s usually implied in \"plural to singular rule,\" the answer would be:\\n\\ndog -> dogs\\n\\nBut since the original pattern seems to be about direct relationships, \"dog -> dogs\" doesn\\'t fit. Instead, let\\'s clarify the pattern as \"singular to plural conversion.\"\\n\\nGiven this clarification, the answer remains:\\n\\ndog -> dogs<|end|><|assistant|> dog -> dogs (singular to plural conversion).\\n\\nBut if we follow the initial pattern\\'s intent to find a direct relationship similar to \"cat -> c',\n",
       " '<s><|user|> Follow the pattern:\\ncat X cats is a \"plural to singular rule\".\\nhot Y cold is an \"antonym\" rule.\\nEngland Z London is a \"country to capital\" rule. \\ndog W ____\\n\\n<|assistant|> dog -> dogs\\n\\nThis follows the \"plural to singular\" rule, similar to the example provided with \"cat\" and \"cats.\" The word \"dog\" becomes \"dogs\" when it is plural.<|end|><|assistant|> It\\'s important to note that \"England\" and \"London\" are related but do not fit the \"country to capital\" rule as directly as other examples might. \"England\" refers to the country, and \"London\" is its capital city. So, for a more precise rule, you could say \"country to capital\" for \"England to London,\" but the direct transformation in the same pattern as \"dog\" to \"dogs\" isn\\'t applicable. However, \"dog\" to \"dogs\" perfectly fits the provided rule.<|end|><|assistant|> dog -> puppies (in a different context)\\n\\nAlthough \"dog\" to \"dogs\" follows the plural to singular pattern rule, it\\'s',\n",
       " '<s><|user|> Follow the pattern:\\ncat X cats is a \"plural to singular rule\".\\nhot Y cold is an \"antonym\" rule.\\nEngland Z London is a \"country to capital\" rule. \\ndog W ?\\n\\n<|assistant|> dog -> dogs follows the \"plural to singular rule\".<|end|><|assistant|> However, if we consider a different kind of transformation, similar to the patterns provided, we could create a new rule. For instance:\\n\\nDog + \"n\" (adding an \"n\") -> Dogs (a morphological change to indicate more than one)\\n\\nSo in this context, dog doesn\\'t transform into antonyms or country to capital transformations, but into a plural form with an added suffix. This is a common rule in English for forming the plural of many nouns.<|end|><|assistant|> Another way to approach this could be:\\n\\ndog -> puppies (a transformation to a related concept)\\n\\nDog follows a \"noun to related concept\" rule, indicating that the noun (dog) is related to its offspring or young ones (puppies).<|end|><|assistant|> Lastly, we could also consider:\\n\\ndog -> puppy (singular',\n",
       " '<s><|user|> Follow the pattern:\\ncat X cats is a \"plural to singular rule\".\\nhot Y cold is an \"antonym\" rule.\\nEngland Z London is a \"country to capital\" rule. \\ndog W doge\\nWhat is the pattern?\\n<|assistant|> The pattern here seems to involve a simple transformation of a noun with a specific relationship to its modification or association:\\n\\n1. cat -> cats (plural to singular)\\n2. hot -> cold (antonyms)\\n3. England -> London (country to capital)\\n4. dog -> doge (transform by adding a suffix)\\n\\nThe transformation rule for doge, however, is less direct and more playful. \"Doge\" is a slang term that emerged from the Doge Internet meme, named after the Venetian Doge, but is not directly related to the \"country to capital\" rule or antonyms. Instead, it follows a different pattern - a noun transformation by adding a specific suffix or creating a new word from an existing one with a distinct context. \\n\\nIn this case, the word \"dog\" is transformed into \"doge,\" which is an unrelated term',\n",
       " '<s><|user|> Follow the pattern:\\ncat X cats is a \"plural to singular rule\".\\nhot Y cold is an \"antonym\" rule.\\nEngland Z London is a \"country to capital\" rule. \\ndog W relating\\nCould you explain the \"dog relating\" rule?\\n<|assistant|> The \"dog relating\" rule doesn\\'t have a universally recognized standard rule, but we can interpret and establish a possible pattern or relation based on language usage and context. Here\\'s one potential interpretation:\\n\\nIn English, we commonly use specific terms to describe dogs in relation to human or their own kind. Some examples include:\\n\\n1. Puppy (young dog): This term relates to the stage of life, a dog still growing and developing, similar to a child in humans.\\n2. Doggy (endearing way of referring to a dog): This term relates to anthropomorphism, where humans attribute human emotions, behavior, or characteristics to animals, often resulting in a warm and affectionate relationship between humans and dogs.\\n3. Canine: This term relates to dogs as a whole and belongs to the biological family (Canidae) they come from.\\n4. Dog',\n",
       " '<s><|user|> Follow the pattern:\\ncat X cats is a \"plural to singular rule\".\\nhot Y cold is an \"antonym\" rule.\\nEngland Z London is a \"country to capital\" rule. \\ndog W ...\\nWhat is the rule for \"dog\" to a similar term?\\n<|assistant|> dog -> puppies\\nThe rule for \"dog\" to a similar term is the \"singular to plural\" rule, where \"dog\" (singular) changes to \"puppies\" (plural) when referring to more than one dog.<|end|><|assistant|> dog -> dogs\\nThe rule for \"dog\" to a similar term is the \"singular to plural\" rule, where \"dog\" (singular) changes to \"dogs\" (plural) when referring to more than one dog. However, unlike the example with \"cat\" to \"cats,\" there is no special word-formation rule at play here. The term \"dogs\" is simply the standard plural form of \"dog\" in English. The term \"puppies\" specifically refers to young dogs and would be used in a different context. Therefore, \"dogs\" is the most direct analog to \"cat ->',\n",
       " '<s><|user|> Follow the pattern:\\ncat X cats is a \"plural to singular rule\".\\nhot Y cold is an \"antonym\" rule.\\nEngland Z London is a \"country to capital\" rule. \\ndog W ruler\\n\\n<|assistant|> The pattern you\\'ve provided illustrates different types of relationships between words: \"plural to singular,\" \"antonyms,\" and \"category to specific example.\" However, for \"dog -> ruler,\" there isn\\'t a direct linguistic or common relationship that matches these examples. But, if we interpret your task creatively, we can invent a playful or metaphorical connection.\\n\\nOne possible connection, albeit a creative and indirect one, could be:\\n\\nIn certain cultures or historical contexts, a \"dog\" was used symbolically as a sign of loyalty, fidelity, and obedience. Thus, if we stretch the metaphorical association, we could say a \"ruler\" is someone who follows and upholds principles and leadership. So, a metaphorical \"dog -> ruler\" relationship could be framed as: \"Dogs symbolize qualities ideal for a ruler, such as',\n",
       " '<s><|user|> Follow the pattern:\\ncat X cats is a \"plural to singular rule\".\\nhot Y cold is an \"antonym\" rule.\\nEngland Z London is a \"country to capital\" rule. \\ndog W ...\\n<|assistant|> dog -> dogs\\n\\nFollowing the pattern, \"dog\" changes to \"dogs\" when applying the \"plural to singular rule.\" This rule signifies that when forming the plural version of a noun in English, typically an \"s\" or \"es\" is added to the end of the singular form. In this case, \"dog\" becomes \"dogs,\" indicating more than one dog.<|end|><|endoftext|> \\n\\n\\nGrade: grade-3 science\\n\\nTopic: Compare temperatures on thermometers\\n\\nKeyword: Data collection\\n\\n\\nExercise:\\nCreate a simple line graph based on the temperatures taken at 8 AM, 12 PM, and 5 PM for a week. Collect the data, plot it on the graph, and describe the trend you observe.\\n\\nSolution:\\nTo create a simple line graph based on temperatures collected at 8 AM, 12 PM, and 5',\n",
       " '<s><|user|> Follow the pattern:\\ncat X cats is a \"plural to singular rule\".\\nhot Y cold is an \"antonym\" rule.\\nEngland Z London is a \"country to capital\" rule. \\ndog W word\\n\\n<|assistant|> follow the \"singular to plural rule\":\\ndog -> dogs\\n\\nSimilarly, if we were to create a phrase using an antonym rule for a different set of words, it could be something like:\\nsun -> moon (representing the antonyms \"day\" and \"night\").<|end|><|assistant|> If we were to create a phrase following the \"country to capital\" rule but for a different pair of concepts, we might consider a \"language family to its predominant language\":\\n\\nSpanish -> Spanish (as Spanish is a language within the Romance language family, but for the sake of the example, we could refer to Spanish as the predominant language within that family).<|end|><|assistant|> For another example using the same logic, we could apply the \"singular to plural rule\":\\n\\nknife -> knives\\n\\nAlternatively, applying the \"antonym\" rule to different words:\\n\\nhigh -> low\\n\\nor\\n',\n",
       " '<s><|user|> Follow the pattern:\\ncat X cats is a \"plural to singular rule\".\\nhot Y cold is an \"antonym\" rule.\\nEngland Z London is a \"country to capital\" rule. \\ndog W ?\\n\\n<|assistant|> dog -> dogs follows the \"singular to plural\" rule.<|end|><|assistant|> This pattern demonstrates the transformation of a word from its singular form to its plural form, or an antonym, or a relationship between a concept and a more specific instance of that concept. In the case of \"dog,\" the transformation from singular to plural is achieved by adding the letter \\'s\\' to the end of the word, resulting in \"dogs.\"<|end|><|endoftext|><|endoftext|><|endoftext|> Customer>\\nIn a contract dispute where Party A (a software company) and Party B (a client) are at odds, their arbitration agreement stipulates that the decision must be informed by a thorough understanding of intellectual property rights and software licensing agreements. The arbitrator, with a strong background in international corporate law but less exposure to the evolving domain of cyberlaw, faces a decision on a case involving alleged patent infringement within a software license agreement. To',\n",
       " '<s><|user|> Follow the pattern:\\ncat X cats is a \"plural to singular rule\".\\nhot Y cold is an \"antonym\" rule.\\nEngland Z London is a \"country to capital\" rule. \\ndog W word\\n\\n<|assistant|> The pattern you\\'ve mentioned involves a transformation or association between concepts. Following the same pattern, if we consider \"dog\" we can create a related concept. Since \"cat\" to \"cats\" demonstrates a simple pluralization, and \"hot\" to \"cold\" is an antonym relationship, we can think of a word that pairs \"dog\" with a specific attribute or its state. Here\\'s a possible follow-up:\\n\\nDog -> Puppy: This follows a \"larger to smaller\" or \"adult to offspring\" transformation rule, similar to how \"cat\" transitions to \"cats\".<|end|><|assistant|> Another example could be:\\n\\nDog -> Domestic: This follows a \"general to specific\" transformation rule, where \"dog\" is a general category, and \"domestic dog\" specifies a certain type within the category.\\n\\nIn a similar vein, we could also create an antonym or opposite',\n",
       " '<s><|user|> Follow the pattern:\\ncat X cats is a \"plural to singular rule\".\\nhot Y cold is an \"antonym\" rule.\\nEngland Z London is a \"country to capital\" rule. \\ndog W ?\\n\\n<|assistant|> dog -> dogs\\n\\nThis follows the \"plural to singular rule\" where the singular form \"dog\" changes to its plural form \"dogs\".<|end|><|assistant|> dog -> puppies (age to age rule)\\n\\nHowever, if you\\'re looking for a similar pattern to the other examples but related to age, the transformation from \"dog\" to \"puppies\" isn\\'t an established grammatical rule like \"plural to singular\" or \"antonyms.\" Instead, this pairing reflects a progression in life stages, akin to how \"cat\" becomes \"kitten.\" If we\\'re strictly adhering to predefined grammatical rules, \"dog\" to \"dogs\" remains the best match.\\n\\nFor adhering strictly to established grammatical rules and pattern recognition, we would say:\\n\\ndog -> dogs\\n\\nThis follows the \"plural to singular rule,\" where the singular form \"dog\" changes',\n",
       " '<s><|user|> Follow the pattern:\\ncat X cats is a \"plural to singular rule\".\\nhot Y cold is an \"antonym\" rule.\\nEngland Z London is a \"country to capital\" rule. \\ndog W ___\\n\\n<|assistant|> dog -> dogs follows the \"plural to singular rule\". In this pattern, we identify the transformation that relates singular to plural forms for nouns. While \"cat\" to \"cats\" exemplifies the singular form to its plural form, \"dog\" to \"dogs\" follows the same pattern of singular to plural.<|end|><|endoftext|><|endoftext|><|endoftext|><|endoftext|> input=Simplify the following expression. $10 + \\\\dfrac{24}{6}$\\noutput=First, divide 24 by 6 to simplify the fraction. $24 \\\\div 6 = 4$. Now, add the result to 10. $10 + 4 = 14$. So, the simplified expression is $14$.<|endoftext|> ### student\\n\\nFind the area of the region bounded by the graphs of {eq}f(x)=x^{2}-3x{/eq} and {eq}g(x)=x-x^{',\n",
       " '<s><|user|> Follow the pattern:\\ncat X cats is a \"plural to singular rule\".\\nhot Y cold is an \"antonym\" rule.\\nEngland Z London is a \"country to capital\" rule. \\ndog W _?\\n<|assistant|> dog -> dogs (plural to singular rule)<|end|><|assistant|> However, if we need to follow a pattern similar to the ones provided, we could use the \"noun to noun\" rule. In this case, the pattern would convert the singular noun \"dog\" to another related noun. An example could be:\\n\\ndog -> puppy (noun to noun, referring to a young dog)<|end|><|assistant|> If we stick to the context of transformations like the examples, \"dog\" doesn\\'t have an inherent pattern like antonyms or a specific \"noun to noun\" conversion. However, following the logic of creating a category or a related concept, we might consider:\\n\\ndog -> canine (referring to animals of the dog family)<|end|><|assistant|> Another interpretation could be to create a verb form from \"dog,\" although it doesn\\'t follow the same pattern as the examples given:\\n\\ndog -> to dog (forming a phras',\n",
       " '<s><|user|> Follow the pattern:\\ncat X cats is a \"plural to singular rule\".\\nhot Y cold is an \"antonym\" rule.\\nEngland Z London is a \"country to capital\" rule. \\ndog W prey\\ndog -> dogs\\ndog + s -> dogs\\nWhat would be the next step?\\n<|assistant|> Based on the established patterns, the next step might involve another transformation or relationship rule. Since \"dog -> dogs\" demonstrates a simple pluralization, let\\'s consider another pattern that could be applied to \"dog\".\\n\\nGiven that you have provided \"antonym\" and \"country to capital\" rules, an alternative pattern could be a \"size\" rule, where \"dog\" could be transformed into a word associated with a different size.\\n\\nOne possibility could be:\\n\\ndog -> pup (representing a smaller version of dog)\\n\\nAnother alternative could be:\\n\\ndog -> mastiff (representing a larger or specific breed of dog)\\n\\nHowever, these examples depend on the context of your pattern. If you meant to follow a different rule based on a more abstract concept, or a specific language rule, please provide more information. For example',\n",
       " '<s><|user|> Follow the pattern:\\ncat X cats is a \"plural to singular rule\".\\nhot Y cold is an \"antonym\" rule.\\nEngland Z London is a \"country to capital\" rule. \\ndog W ?\\n\\n<|assistant|> dog -> dogs follows the \"plural to singular\" rule. However, a more precise term that directly relates to the transformation here would be \"singular to plural\", as \"dog\" to \"dogs\" demonstrates the change from singular to plural form, not singular to plural in the sense of turning into another form but rather changing quantity. Therefore, if strictly looking for a term that mirrors the pattern as given, we might not have an exact match in terms of a transformation type like \"antonym\" or \"country to capital\" but understanding that it\\'s about changing the number. Thus, no direct antonym or mapping rule like the ones given fits the transformation from \"dog\" to \"dogs\" exactly.<|end|><|assistant|> However, if we adapt the pattern to fit the idea of transforming words, we can say that \"dog\" to \"dogs\" demonstrates an increase in quantity, similar in spirit to how \"cat\" changes from singular to',\n",
       " '<s><|user|> Follow the pattern:\\ncat X cats is a \"plural to singular rule\".\\nhot Y cold is an \"antonym\" rule.\\nEngland Z London is a \"country to capital\" rule. \\ndog W relating?\\n<|assistant|> Dog follows a different pattern compared to the given examples. Here\\'s an analogy related to the \"dog\" example:\\n\\nDog -> dogs is a \"singular to plural\" rule.\\n\\nThis pattern reflects the transformation from a singular noun (\"dog\") to its plural form (\"dogs\"), just like the cat to cats transformation in the given example.<|end|><|assistant|> However, if we want to draw a connection with a different concept, we can consider the \"dog -> puppy\" pattern:\\n\\nDog -> puppy represents a \"mature to immature\" rule. This pattern illustrates the relationship between a mature adult dog (dog) and its immature counterpart (puppy). It\\'s not a standard grammatical rule but offers a relational analogy to the examples provided.<|end|><|assistant|> Alternatively, another analogy could be:\\n\\nDog -> pack (in terms of social behavior) represents a \"individual',\n",
       " '<s><|user|> Follow the pattern:\\ncat X cats is a \"plural to singular rule\".\\nhot Y cold is an \"antonym\" rule.\\nEngland Z London is a \"country to capital\" rule. \\ndog W ...\\n<|assistant|> dog -> dogs\\n\\nThe pattern you\\'ve described involves turning a term into its corresponding plural form in the case of \"cat\" to \"cats\", using antonyms for \"hot\" to \"cold\", and associating a country with its capital (England to London). Following this pattern, \"dog\" is transformed into \"dogs\" by applying a \"singular to plural\" rule, just as \"cat\" to \"cats\".<|end|><|assistant|> dog -> dogs\\n\\nThis rule is similar to the \"plural to singular\" rule for \"cat\", but in reverse, showing how the singular form changes to its plural counterpart.<|end|><|assistant|> However, if we consider the context of your examples as a series of word association rules, we could also create an analogous rule for the term \"dog\". Since the previous examples involve changing in meaning or form (pluralization, antonym, and country-to-capital), we can similarly generate',\n",
       " '<s><|user|> Follow the pattern:\\ncat X cats is a \"plural to singular rule\".\\nhot Y cold is an \"antonym\" rule.\\nEngland Z London is a \"country to capital\" rule. \\ndog W \\'\\n<|assistant|> dog -> dogs (Plural to singular rule)\\n\\nThis rule states that adding an \"s\" at the end of a noun typically changes it from singular to plural form in English. The word \"dog\" is singular, so to follow this pattern, we add an \"s\" at the end of \"dog\" to form \"dogs,\" which is the plural form.<|end|><|assistant|> England -> London (Country to capital rule)\\n\\nThis rule specifically refers to the relationship between a country and its capital city. While the pattern provided for \"cat\" to \"cats\" is a general pluralization rule in English, it\\'s not directly applicable to country-to-capital pairs. However, for the sake of demonstrating a transformation based on a pattern, we\\'ll assume a similar principle of modifying the term to reflect a relationship. Since \"England\" cannot become \"London\" through simple pluralization, we maintain the example as is because the pattern',\n",
       " '<s><|user|> Follow the pattern:\\ncat X cats is a \"plural to singular rule\".\\nhot Y cold is an \"antonym\" rule.\\nEngland Z London is a \"country to capital\" rule. \\ndog W ?\\n\\n<|assistant|> dog -> dogs\\n\\nThe pattern \"plural to singular\" is followed, where the plural form \"dogs\" changes to its singular form \"dog.\"<|end|><|assistant|> England -> London\\n\\nThe given pattern \"country to capital\" does not directly apply to the relationship between \"England\" and \"London\" since \"London\" is the capital of \"England,\" not the other way around. However, for the purpose of this exercise, if we adjust the pattern to \"capital to country,\" then England -> London follows that reversed pattern, indicating that London is the capital of England.\\n\\ndog -> puppy\\n\\nThis follows a less direct pattern, similar to \"plural to singular,\" but rather than simply removing a suffix, it refers to a commonly used informal diminutive or less formal term for a young dog, which is \"puppy.\"<|end|><|assistant|> dog -> barking\\n\\nThis example doesn\\'t directly follow the provided rules, but it',\n",
       " '<s><|user|> Follow the pattern:\\ncat X cats is a \"plural to singular rule\".\\nhot Y cold is an \"antonym\" rule.\\nEngland Z London is a \"country to capital\" rule. \\ndog W ...\\n<|assistant|> dog -> dogs (plural to singular rule)<|end|><|assistant|> dog -> dogs (plural to singular rule)\\n\\nThis follows the same pattern as the examples given, where the word is transformed from its singular form to its plural form. In this case, \"dog\" becomes \"dogs,\" indicating more than one dog.<|end|><|assistant|> dog -> puppies (infant to adult rule)\\n\\nIn this analogy, we\\'re likening the transformation of a \"dog\" into \"puppies\" to the earlier examples, but with a different kind of relationship. \"Puppies\" refers to the young or infant stage of a dog\\'s life, whereas \"dogs\" is the adult stage. However, this transformation isn\\'t a direct pluralization, so it\\'s slightly less direct than \"cat\" to \"cats.\" For an exact one-to-one analogous rule, sticking to pluralization is more appropriate, but here\\'',\n",
       " '<s><|user|> Follow the pattern:\\ncat X cats is a \"plural to singular rule\".\\nhot Y cold is an \"antonym\" rule.\\nEngland Z London is a \"country to capital\" rule. \\ndog W _____\\n\\n<|assistant|> The pattern seems to describe a relationship or transformation from one term to another based on a particular rule. Following the pattern, after \"england -> London,\" the next relationship should similarly link a general term to a more specific term. Given \"dog\" is a common term for the animal, a \"plural to singular\" rule would not apply. However, if we are looking for a more specific term, we could consider the rule that relates a general term to a more specific aspect or type of the term. Since \"hot\" and \"cold\" are antonyms, for \"dog,\" a similar concept but not an antonym, could be \"puppy\" which is a more specific term for a young dog. Thus, a possible answer could be:\\n\\ndog -> puppy<|end|><|assistant|> Alternatively, \"dog\" to \"dog\" could follow the \"plural to singular\" rule, but since \"cat\" to \"cats\" is already established in that',\n",
       " '<s><|user|> Follow the pattern:\\ncat X cats is a \"plural to singular rule\".\\nhot Y cold is an \"antonym\" rule.\\nEngland Z London is a \"country to capital\" rule. \\ndog W doge (internet slang for a dog)\\nWhich rule does this follow: dog -> doge (internet slang)?\\n<|assistant|> The transformation from \"dog\" to \"doge\" (internet slang for a dog) follows a \"slang creation\" rule. This rule involves the creation of new words or phrases within a specific context or community, in this case, the online community, often for humorous, playful, or distinctive purposes.<|end|><|assistant|> Another way to describe this rule could be as a \"contextual evolution\" rule, which refers to the linguistic changes that occur when words or phrases adapt to new social contexts or digital environments.<|end|><|assistant|> Additionally, you could consider this as an example of \"memetic modification,\" where language adapts and evolves within internet culture, reflecting the rapid and creative nature of online communication.<|end|><|assistant|> Lastly, you might phrase it as \"digital-specific language adaptation,\" which highlights the unique ways',\n",
       " '<s><|user|> Follow the pattern:\\ncat X cats is a \"plural to singular rule\".\\nhot Y cold is an \"antonym\" rule.\\nEngland Z London is a \"country to capital\" rule. \\ndog W ...\\n<|assistant|> dog -> dogs follows a \"singular to plural\" rule. This rule states that the singular form of a noun often becomes plural by adding an \"s\" or \"es\" at the end. In this case, adding \"s\" to \"dog\" results in \"dogs.\"<|end|><|assistant|> Here are some additional examples of singular to plural transformations:\\n\\n- toy -> toys\\n- baby -> babies\\n- car -> cars\\n- bus -> buses\\n- knife -> knives\\n- mouse -> mice\\n\\nAs for the other two rules mentioned, they are:\\n\\n- Hot to cold: Antonyms are words with opposite meanings, such as hot and cold, up and down, or happy and sad.\\n- England to London: A country to capital rule is not a proper linguistic term but a way to exemplify that England is the name of the country, while London is its capital city. Another example would',\n",
       " '<s><|user|> Follow the pattern:\\ncat X cats is a \"plural to singular rule\".\\nhot Y cold is an \"antonym\" rule.\\nEngland Z London is a \"country to capital\" rule. \\ndog W greet?\\n<|assistant|> dog -> dogs follows the \"plural to singular rule\". This rule states that when referring to a single animal, we use the singular form, and when referring to multiple animals of the same kind, we use the plural form. In this case, \"dog\" is the singular form, and \"dogs\" is the plural form. Note that the last example \"England to London\" does not apply here, as London is a capital within the country of England and not an antonym rule. The correct pattern-match would be:\\n\\ndog -> dogs (plural to singular rule)<|end|><|assistant|> While \"England to London\" isn\\'t exactly an antonym rule, we can consider a different interpretation that aligns with the idea of changing from a general term to a specific one. In this case, England (the country) can be specifically referred to by its capital, London (the city within the country). This can be viewed as a transformation from a',\n",
       " '<s><|user|> Follow the pattern:\\ncat X cats is a \"plural to singular rule\".\\nhot Y cold is an \"antonym\" rule.\\nEngland Z London is a \"country to capital\" rule. \\ndog W ?\\n\\n<|assistant|> dog -> dogs follows the \"plural to singular rule\".<|end|><|assistant|> Note: If the question seeks a transformation consistent with the provided examples, then the answer would be \"dog -> dogs\". However, if the intention is to find another term related to \"dog\" following a similar pattern, we could explore other potential word relationships. Here are a few alternative possibilities based on different word relationships:\\n\\n\\n1. dog to puppy: This follows the \"adult to young\" rule, reflecting the life cycle of an animal.\\n2. dog to bark: This represents an action associated with a dog (the \"verb to noun\" rule).\\n3. dog to loyalty: Loyalty is a quality often attributed to dogs (the \"noun to quality\" rule).\\n\\nGiven the original pattern examples, \"dog to dogs\" is the most straightforward association.<|end|><|endoftext|><|endoftext|><|endoftext|> Calculate the integral \\\\(\\\\int_{-2}^2 \\\\int_{-2}^',\n",
       " '<s><|user|> Follow the pattern:\\ncat X cats is a \"plural to singular rule\".\\nhot Y cold is an \"antonym\" rule.\\nEngland Z London is a \"country to capital\" rule. \\ndog W ?\\n\\n<|assistant|> dog -> dogs (plural to singular rule)\\n\\nNote: While \"England to London\" is indeed a \"country to capital\" rule, it is worth mentioning that the example provided (dog -> dogs) directly demonstrates the concept being asked for. The \"dog\" to \"dogs\" transformation is the plural form of \"dog.\"<|end|><|assistant|> The correct plural form of \"dog\" is \"dogs.\" However, if we were to follow the pattern of transformation similar to \"England -> London,\" where we switch from a general category to a specific example within that category, we could also create a similar rule, though it\\'s not a standard linguistic transformation. For instance:\\n\\n\\nAnimal (general category) -> Labrador (a specific breed of dog, within the category of animals)\\n\\n\\nBut to stick to the given examples, the plural form \"dogs\" is the correct plural of \"dog,\" following the',\n",
       " '<s><|user|> Follow the pattern:\\ncat X cats is a \"plural to singular rule\".\\nhot Y cold is an \"antonym\" rule.\\nEngland Z London is a \"country to capital\" rule. \\ndog W ?\\n\\n<|assistant|> dog -> dogs (plural to singular rule)\\n\\nExplanation: Similar to the pattern with \"cat\" where the term \"cat\" represents a singular noun, and \"cats\" represents the plural form, \"dog\" as a singular noun becomes \"dogs\" when it is in its plural form. This rule applies to most nouns in English, where the plural is often formed by adding \"-s\" or \"-es\" to the end of the singular form.<|end|><|assistant|> However, if we were to continue the pattern strictly based on the examples provided, we would not use \"dogs\" as it would not fit the pattern of transitioning from a singular to a related term based on meaning (like antonyms or relation to countries). Instead, if we strictly follow the logic of the examples given, the term \"dog\" does not directly translate to another specific term like \"cats\" (plural to singular) or \"England',\n",
       " '<s><|user|> Follow the pattern:\\ncat X cats is a \"plural to singular rule\".\\nhot Y cold is an \"antonym\" rule.\\nEngland Z London is a \"country to capital\" rule. \\ndog W _____\\n\\n<|assistant|> dog -> dogs\\n\\nThis follows the \"plural to singular rule,\" similar to how \"cats\" is the plural form of \"cat.\"<|end|><|assistant|> The other rule in your list (antonyms) doesn\\'t directly apply to the transformation from \"dog\" to \"dogs.\" However, if we were to create an analogy based on your examples, it might look something like this:\\n\\ndog -> dogs (plural)\\nhot -> cold (antonym)\\nEngland -> London (country to capital)\\n\\nSince \"dog\" to \"dogs\" doesn\\'t fit the antonym or country to capital rule but still is a valid transformation, we adhere to the plural form rule, which is most fitting here.<|end|><|assistant|> However, to align with the \"country to capital\" analogy in a roundabout way, we could discuss the difference between the general use of \"dog\" and \"dogs\" and the specificity of',\n",
       " '<s><|user|> Follow the pattern:\\ncat X cats is a \"plural to singular rule\".\\nhot Y cold is an \"antonym\" rule.\\nEngland Z London is a \"country to capital\" rule. \\ndog W …\\n\\n<|assistant|> dog -> dogs (plural to singular rule)\\n\\nHowever, if we were to find a rule similar to \"country to capital\" for \"dog\" following the given examples, it would not directly translate because \"dog\" is a general noun and not a country. But we can use a different conceptual rule related to \"counting\":\\n\\ndog -> puppies (referring to offspring of dogs, though not a direct pluralization)\\n\\nIn a more fitting context, there isn\\'t a direct antonym or a \"country to capital\" equivalent for \"dog\", but we can play with similar structural relationships:\\n\\ndog -> underdog (representing an entity that is not expected to win, similar to how \"cold\" can contrast warmth, which doesn\\'t exactly fit an \"antonym\" rule, but it\\'s a linguistic relationship).<|end|><|assistant|> If we adhere strictly to pluralization akin to',\n",
       " '<s><|user|> Follow the pattern:\\ncat X cats is a \"plural to singular rule\".\\nhot Y cold is an \"antonym\" rule.\\nEngland Z London is a \"country to capital\" rule. \\ndog W greet\\n=============\\nAnswer following the pattern:\\nmouse -> mice\\nbook -> \\n=============\\nAnswer: books\\n=============\\nAnswer following the pattern:\\nteacher -> students\\napple ->\\n=============\\nAnswer: apples<|end|><|assistant|> Answer: apples\\n\\nThis follows the plural form rule in English where \"apple\" becomes \"apples\" in its plural form.<|end|><|endoftext|><|endoftext|><|endoftext|><|endoftext|> query=Amidst an acquisition, Company A alleges that Company B committed breach of contract by not adhering to a \"best efforts\" clause which requires Company B to make a diligent search for alternative buyers before the acquisition can proceed. Company B argues that their actions did not constitute a breach since they acted in good faith and that alternative buyers would not be interested. What defense can Company B assert to justify their actions without breach?\\n\\nA. Company B\\'s defense hinges on demonstrating']"
      ]
     },
     "execution_count": 30,
     "metadata": {},
     "output_type": "execute_result"
    }
   ],
   "source": [
    "from micrlhf.utils.activation_manipulation import replace_activation_many, add_vector_many\n",
    "from micrlhf.sampling import sample\n",
    "\n",
    "\n",
    "# prompt = \"\"\"<|user|>\\nFollow the pattern:\n",
    "# \\\"X X X X X\\\" is a \\\"plural to singular rule\\\".\n",
    "# \\\"Y Y Y Y Y\\\" is an \\\"antonym\\\" rule.\n",
    "# \\\"Z Z Z Z Z\\\" is a \\\"country to capital\\\" rule. \n",
    "# \\\"V V V V V\\\" is a \\\"French to English translation\\\" rule.\n",
    "# What is a \\\"W W W W W\\\" rule?<|end|><|assistant|>\"\"\"\n",
    "\n",
    "prompt = \"\"\"<|user|>\\nFollow the pattern:\n",
    "cat X cats is a \\\"plural to singular rule\\\".\n",
    "hot Y cold is an \\\"antonym\\\" rule.\n",
    "England Z London is a \\\"country to capital\\\" rule. \n",
    "dog W\"\"\"\n",
    "\n",
    "\n",
    "bs = 32\n",
    "vectors = [\n",
    "    tvs[task_name][None, :] * jnp.linspace(20, 100, bs)[:, None] for task_name, _ in selected\n",
    "]\n",
    "\n",
    "\n",
    "# layers = [layer for _, layer in selected]\n",
    "layers = [0 for _ in selected]\n",
    "tokens_to_replace = [\n",
    "    \"X\", \"Y\", \"Z\", \"V\", \"W\"\n",
    "]\n",
    "tokens_to_replace = [\n",
    "    \"X\", \"Y\", \"Z\", \"W\"\n",
    "]\n",
    "\n",
    "act_rep = add_vector_many(llama, vectors=vectors, prompt=prompt, tokenizer=tokenizer, layers=layers, target_tokens=tokens_to_replace)\n",
    "# act_rep = replace_activation_many(llama, vectors=vectors, prompt=prompt, tokenizer=tokenizer, layers=layers, replace_tokens=tokens_to_replace)\n",
    "sample(act_rep, tokenizer, prompt, batch_size=bs, do_sample=True, max_seq_len=256)"
   ]
  },
  {
   "cell_type": "code",
   "execution_count": 39,
   "metadata": {},
   "outputs": [
    {
     "data": {
      "text/html": [
       "<div id=\"output_70bdca91441d4d54be4f34bcbb50af67\"><script> /* penzai.treescope rendering of a Python object (compressed) */ (()=>{ let observer; let lastStep = new Promise((resolve, reject) => { observer = new IntersectionObserver((entries) => { for (const entry of entries) { if (entry.isIntersecting) { resolve(); observer.disconnect(); return; } } }, {rootMargin: \"1000px\"}); }); window.treescope_decompress_enqueue = (encoded, destId) => { const previous = lastStep; const destElt = document.getElementById(destId); lastStep = (async () => { await previous; let blob = new Blob([ Uint8Array.from(atob(encoded), (m) => m.codePointAt(0)) ]); let reader = blob.stream().pipeThrough( new DecompressionStream(\"deflate\") ).pipeThrough( new TextDecoderStream(\"utf-8\") ).getReader(); let parts = []; while (true) { let step = await reader.read(); if (step.done) { break; } parts.push(step.value); } let newElt = document.createElement(\"div\"); newElt.innerHTML = parts.join(\"\"); destElt.parentNode.replaceChild(newElt, destElt); for (let oldScript of newElt.querySelectorAll(\"script\")) { let newScript = document.createElement(\"script\"); newScript.type = oldScript.type; newScript.textContent = oldScript.textContent; oldScript.parentNode.replaceChild(newScript, oldScript); } })(); requestAnimationFrame(() => { observer.observe(destElt); }); } })(); </script><div id=\"compress_html_16144d71f72342a3bc76747516378b08\"><script>window.treescope_decompress_enqueue(\"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\", \"compress_html_16144d71f72342a3bc76747516378b08\");</script><span style=\"color: #aaaaaa; font-family: monospace\">(Loading...)</span></div></div>"
      ],
      "text/plain": [
       "<IPython.core.display.HTML object>"
      ]
     },
     "metadata": {},
     "output_type": "display_data"
    },
    {
     "data": {
      "text/html": [
       "<div id=\"compress_html_3e11e06849ea4315a7fa311956116260\"><script>window.treescope_decompress_enqueue(\"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\", \"compress_html_3e11e06849ea4315a7fa311956116260\");</script></div>"
      ],
      "text/plain": [
       "<IPython.core.display.HTML object>"
      ]
     },
     "metadata": {},
     "output_type": "display_data"
    },
    {
     "data": {
      "text/html": [
       "<div id=\"output_dest_70bdca91441d4d54be4f34bcbb50af67\"><script> (()=>{ const output = document.getElementById(\"output_70bdca91441d4d54be4f34bcbb50af67\"); const dest = document.getElementById(\"output_dest_70bdca91441d4d54be4f34bcbb50af67\"); dest.parentNode.replaceChild(output, dest); })(); </script></div>"
      ],
      "text/plain": [
       "# jax.Array float32(32,) ≈5e+01 ±3e+01 [≥0.0, ≤1e+02] zero:1 nonzero:31\n",
       "  Array([  0.       ,   3.2258062,   6.4516125,   9.677419 ,  12.903225 ,\n",
       "          16.129032 ,  19.354837 ,  22.580643 ,  25.80645  ,  29.032257 ,\n",
       "          32.258064 ,  35.483868 ,  38.709675 ,  41.935482 ,  45.161285 ,\n",
       "          48.387093 ,  51.6129   ,  54.838707 ,  58.064514 ,  61.290318 ,\n",
       "          64.51613  ,  67.74193  ,  70.967735 ,  74.19354  ,  77.41935  ,\n",
       "          80.64516  ,  83.870964 ,  87.09677  ,  90.32257  ,  93.54838  ,\n",
       "          96.774185 , 100.       ], dtype=float32)\n"
      ]
     },
     "execution_count": 39,
     "metadata": {},
     "output_type": "execute_result"
    }
   ],
   "source": [
    "jnp.linspace(0, 100, bs)"
   ]
  },
  {
   "cell_type": "code",
   "execution_count": 6,
   "metadata": {},
   "outputs": [
    {
     "data": {
      "application/vnd.jupyter.widget-view+json": {
       "model_id": "d22ac01bea854a1fa510ad2c158c369c",
       "version_major": 2,
       "version_minor": 0
      },
      "text/plain": [
       "  0%|          | 0/62 [00:00<?, ?it/s]"
      ]
     },
     "metadata": {},
     "output_type": "display_data"
    },
    {
     "data": {
      "text/html": [
       "<div id=\"output_8ffce1a97b604ebbbb25363b3a563390\"><script> /* penzai.treescope rendering of a Python object (compressed) */ (()=>{ let observer; let lastStep = new Promise((resolve, reject) => { observer = new IntersectionObserver((entries) => { for (const entry of entries) { if (entry.isIntersecting) { resolve(); observer.disconnect(); return; } } }, {rootMargin: \"1000px\"}); }); window.treescope_decompress_enqueue = (encoded, destId) => { const previous = lastStep; const destElt = document.getElementById(destId); lastStep = (async () => { await previous; let blob = new Blob([ Uint8Array.from(atob(encoded), (m) => m.codePointAt(0)) ]); let reader = blob.stream().pipeThrough( new DecompressionStream(\"deflate\") ).pipeThrough( new TextDecoderStream(\"utf-8\") ).getReader(); let parts = []; while (true) { let step = await reader.read(); if (step.done) { break; } parts.push(step.value); } let newElt = document.createElement(\"div\"); newElt.innerHTML = parts.join(\"\"); destElt.parentNode.replaceChild(newElt, destElt); for (let oldScript of newElt.querySelectorAll(\"script\")) { let newScript = document.createElement(\"script\"); newScript.type = oldScript.type; newScript.textContent = oldScript.textContent; oldScript.parentNode.replaceChild(newScript, oldScript); } })(); requestAnimationFrame(() => { observer.observe(destElt); }); } })(); </script><div id=\"compress_html_18d4422cbe7840dfb60604779441e0ca\"><script>window.treescope_decompress_enqueue(\"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\", \"compress_html_18d4422cbe7840dfb60604779441e0ca\");</script><span style=\"color: #aaaaaa; font-family: monospace\">(Loading...)</span></div></div>"
      ],
      "text/plain": [
       "<IPython.core.display.HTML object>"
      ]
     },
     "metadata": {},
     "output_type": "display_data"
    },
    {
     "data": {
      "text/html": [
       "<div id=\"output_dest_8ffce1a97b604ebbbb25363b3a563390\"><script> (()=>{ const output = document.getElementById(\"output_8ffce1a97b604ebbbb25363b3a563390\"); const dest = document.getElementById(\"output_dest_8ffce1a97b604ebbbb25363b3a563390\"); dest.parentNode.replaceChild(output, dest); })(); </script></div>"
      ],
      "text/plain": [
       "['<s><|user|> I need a Rust module for managing WebAssembly (WASM) memory, with both static and dynamic memory. The StaticMemory trait should allow creating a static memory object with capacity, checking compatibility, and accessing memory by index. There should be a StaticMemoryObject struct encapsulating W',\n",
       " \"<s><|user|> Analyze the use of Religious Imagery in D.H. Lawrence's 'Women In Love'. Write an Essay (2,000-2,500 words) on the topic, including a Thesis Statement and Conclusion.<|end|><|assistant|> Title: The\",\n",
       " '<s><|user|> Which of the following is an N NMR Q NMR QQNMR F HMR HNMR T1 T2 t1/2 C alcohol?\\n\\nN NMR NQNMR QQNMR fHMR HNMR t1t2T1T2c',\n",
       " '<s><|user|> Given G pE E EE ee PT =  EET Eee EEpET EePEE  EEE EEP EEpp eePT eeE eePE eEp eEP eE p eePE eeE',\n",
       " '<s><|user|> T pELKEEAEEAJAKEJEEJKEEEKBREKLEKJRLEJKHELLEKLKHEALEKJAELLEKKHEELEKJKLELLE',\n",
       " '<s><|user|> [New pSPANTPAPAEPAEPAEPATNSNNLTNNLMTNNTNNEPATNTNTNNMTNTNNTNTNSMNNNTNTNMTNN',\n",
       " '<s><|user|> C imm CTEMEQRFLTEEEEPAEEMEEETETTETEEEELTFEEDEEMEEGEDFMFEEEPETEETFEEE E',\n",
       " '<s><|user|> **N insNENDSDEENENTE wMNNENDE bE/E wMNENNENDEDNNFENEENETEEENENNNEFNILN',\n",
       " '<s><|user|> ****WorldWorldGOWorldWGTWOD******\\n\\nOWorldDOO**OWOO**O**COOOOOOWOMOOTDOOAN**NTGOOOOOOOWO',\n",
       " \"<s><|user|><|end|>WorldNetworkDWWorld<|endoftext|> '''ODD/DOW/RTO/DDO/'''<< -- (''''''''--'''''/''''''<--/''''''--<'''/'''                 --'''< '''''\\n\\n''''''<--/'''<\",\n",
       " '<s><|user|>WorldEntity.e.s/ e/o                                               e/s/ s/e            e/s/ e/s/ e) c e/ s ]\\n          ) dall e & e/ e t/ e/ e t e/ e] dall e/ e e',\n",
       " '<s><|user|> ** World ** dallituWorld** dall   dall e dall e dow e \\n               e dot e e le e                 dall e dall e e dow dow dow\\n              dall e dall dh ] e e e                         dall e e                                                                  ',\n",
       " '<s><|user|> dallWorld/ dallcastleWorld\\n dallcastlecastle/castle.castle.castle.ct.castle.castlecastle.ct.castlecastle/castlecastlecastle/castlecastlecastle.ct.castlecastlecastle/              \\n                                                                                  \\n                                                                                \\n                ',\n",
       " '<s><|user|> ’ dall’ iitu b dall e itu ) e ’ dall e dall c itu e ituWorlditu) dowitu                 dall dall eitu itu qual dall e dall ) dowitu                         etc.                            e } c } e ) c Worlditu              c                      ',\n",
       " \"<s><|user|> '''''                                            '''''                \\n                                        \\xa0'''''   '''''                              '''''\\xa0                         '''\\xa0'''                                          '''''           '''''\\xa0'''''                          \\xa0'''''                '''                          '''\\xa0                                            ''                                            \\xa0                \",\n",
       " '<s><|user|>  kost k s him br dall dall e #eitu.         h– l         br e         etc</– h dow––\\xa0 k k                \\xa0 k  h’\\xa0 k– h\\n–           s h                                         — s \\n               dall e)}}}\\n\\n“']"
      ]
     },
     "execution_count": 6,
     "metadata": {},
     "output_type": "execute_result"
    }
   ],
   "source": [
    "from micrlhf.llama import LlamaBlock\n",
    "from micrlhf.flash import flashify\n",
    "from micrlhf.sampling import sample, trange, jnp, load_tokenizer, jit_wrapper\n",
    "get_resids = llama.select().at_instances_of(LlamaBlock).apply_with_selected_index(lambda i, x:\n",
    "    pz.nn.Sequential([\n",
    "        pz.de.TellIntermediate.from_config(tag=f\"resid_pre.{i}\"),\n",
    "        x\n",
    "    ])\n",
    ")\n",
    "get_resids = pz.de.CollectingSideOutputs.handling(get_resids, tag_predicate=lambda x: x.startswith(\"resid_pre\"))\n",
    "get_resids_call = jit_wrapper.Jitted(get_resids)\n",
    "def rep_w_linear(mod):\n",
    "    val = mod.table.embeddings.value  # vocabulary, embedding\n",
    "    return pz.nn.Linear(pz.nn.Parameter(val, \"input_embed\"), [\"vocabulary\"], [\"embedding\"])\n",
    "get_resids_one_hot = get_resids.select().at_instances_of(pz.nn.EmbeddingLookup).apply(rep_w_linear)\n",
    "get_resids_one_hot_call = jit_wrapper.Jitted(get_resids_one_hot)"
   ]
  },
  {
   "cell_type": "code",
   "execution_count": 16,
   "metadata": {},
   "outputs": [],
   "source": [
    "from micrlhf.sampling import sample, trange, jnp, load_tokenizer, jit_wrapper\n",
    "from tqdm.auto import trange\n",
    "from penzai.toolshed import sharding_util\n",
    "import dataclasses\n",
    "from functools import partial\n",
    "import numpy as np\n",
    "import jax\n",
    "\n",
    "@jax.jit\n",
    "def loss_fn(logits, inputs):\n",
    "    losses = pz.nx.nmap(lambda l, i: jnp.take_along_axis(jax.nn.log_softmax(l[:-1], -1), i[1:, None], 1)[:, 0].mean()\n",
    "                        )(logits.untag(\"seq\", \"vocabulary\"), inputs.tokens.untag(\"seq\"))\n",
    "    return -losses\n",
    "\n",
    "bs_start = llama.mesh.shape[\"dp\"]\n",
    "n_x = 19\n",
    "# n_x = 31\n",
    "tokens_init = tokenizer.encode(f\"<|user|>\\nX{' X' * n_x}<|end|>\\n<|assistant|>\\n\")\n",
    "optim_mask = [token == 1060 for token in tokens_init]\n",
    "tokens_init = np.asarray(tokens_init)\n",
    "MAX_ELITES = 2\n",
    "PROB_SWAP = 0.1  # probability of a swap\n",
    "PROB_GRADS = 0.8    # probability of using gradients \n",
    "tokens_init = np.repeat(tokens_init[None, :], MAX_ELITES, axis=0)\n",
    "def tokens_to_array(tokens):\n",
    "    token_array = jnp.asarray(tokens)\n",
    "    if len(token_array) >= bs_start:\n",
    "        token_array = jax.device_put(token_array, jax.sharding.NamedSharding(llama.mesh, jax.sharding.PartitionSpec(\"dp\", \"sp\")))\n",
    "    token_array = pz.nx.wrap(token_array, \"batch\", \"seq\")\n",
    "    return token_array\n",
    "def run_tokens(token_array, grad_metric=None):\n",
    "    if not isinstance(token_array, pz.nx.NamedArray):\n",
    "        token_array = tokens_to_array(token_array)\n",
    "    inputs = llama.inputs.from_basic_segments(token_array)\n",
    "    if grad_metric:\n",
    "        @partial(jax.grad, has_aux=True)\n",
    "        def lwg(x):\n",
    "            logits, resids = get_resids_one_hot_call(dataclasses.replace(inputs, tokens=x))\n",
    "            resids = {resid.tag: resid.value for resid in resids}\n",
    "            metric = grad_metric(logits, resids, inputs)\n",
    "            return metric, (logits, resids)\n",
    "        vocab = llama.select().at_instances_of(pz.nn.EmbeddingLookup).get_sequence()[0].table.embeddings.value.named_shape[\"vocabulary\"]\n",
    "        one_hots = pz.nx.nmap(lambda x: jax.nn.one_hot(x, vocab))(inputs.tokens).tag(\"vocabulary\")\n",
    "        grad, (logits, resids) = lwg(one_hots)\n",
    "    else:\n",
    "        logits, resids = get_resids_call(inputs)\n",
    "    losses = loss_fn(logits, inputs)\n",
    "    if not grad_metric:\n",
    "        resids = {resid.tag: resid.value for resid in resids}\n",
    "    return_vals = logits, losses, resids\n",
    "    if grad_metric:\n",
    "        return_vals = return_vals + (grad,)\n",
    "    return return_vals\n",
    "\n",
    "mask = jax.device_put(jnp.asarray(optim_mask), jax.sharding.NamedSharding(llama.mesh, jax.sharding.PartitionSpec(\"sp\")))\n",
    "\n",
    "# @partial(jax.jit, static_argnames=(\"max_inv_temp\", \"expected_changes\"))\n",
    "@jax.jit\n",
    "def temper(logits, key, elites, grads, max_inv_temp, expected_changes):\n",
    "    key_choice, key_random = jax.random.split(key)\n",
    "    index = jax.random.randint(key_choice, (), 0, len(logits) - 1)\n",
    "    key_categorical, key_uniform, key_bernoulli, key_randint, key_use_grads, key_mutations = jax.random.split(key_random, 6)\n",
    "    logit = logits[index]\n",
    "    elite = elites[index]\n",
    "    grads = grads[index]\n",
    "    \n",
    "    logit = jnp.roll(logit, 1, 0)\n",
    "    logit = logit * jax.random.uniform(key_uniform, minval=0, maxval=max_inv_temp)\n",
    "    use_grads = jax.random.bernoulli(key_use_grads, p=PROB_GRADS).astype(jnp.int_)\n",
    "    logit = jax.lax.switch(use_grads, ((lambda x: x), (lambda x: jnp.where(grads, x, -jnp.inf))), logit)\n",
    "    # print(expected_changes - 1)\n",
    "    # print(jnp.maximum)\n",
    "    to_change = jax.random.bernoulli(key_bernoulli, jnp.maximum(.5, expected_changes - 1) / mask.sum(), mask.shape)\n",
    "    definite_indices = jax.random.randint(key_randint, mask.shape[:-1], 0, mask.shape[-1])\n",
    "    definite_mask = jax.nn.one_hot(definite_indices, to_change.shape[-1], dtype=jnp.bool_)\n",
    "    to_change = to_change | definite_mask\n",
    "    changed = jnp.where(mask & to_change,\n",
    "                        jax.random.categorical(key_categorical, logit),\n",
    "                        elite)\n",
    "    \n",
    "    key_swap, key_mutations = jax.random.split(key_mutations)\n",
    "    swap_indices = jax.random.randint(key_swap, (2,), 0, mask.sum())\n",
    "    swap_from, swap_to = jnp.nonzero(mask, size=len(mask))[0][swap_indices]\n",
    "    key_swap, key_mutations = jax.random.split(key_mutations)\n",
    "    do_swap = jax.random.bernoulli(key_swap, p=PROB_SWAP)\n",
    "    swapped = changed.at[swap_from].set(changed[swap_to]).at[swap_to].set(changed[swap_from])\n",
    "    changed = jax.lax.cond(do_swap, lambda x: swapped, lambda x: x, changed)\n",
    "    \n",
    "    # key_delete, key_mutations = jax.random.split(key_mutations)\n",
    "    # delete_index = jax.random.randint(key_delete, (), 0, mask.sum())\n",
    "    # indices = jnp.cumsum(mask)\n",
    "    # indices_base = jnp.arange(len(changed))\n",
    "    # deleted = jnp.where(mask, jnp.where(indices > delete_index, indices_base + 1, indices_base), changed)\n",
    "    # key_delete, key_mutations = jax.random.split(key_mutations)\n",
    "    # do_delete = jax.random.bernoulli(key_delete, p=0.1)\n",
    "    # changed = jax.lax.cond(do_delete, lambda x: deleted, lambda x: x, changed)\n",
    "    \n",
    "    return changed\n",
    "\n",
    "# @partial(jax.jit, static_argnames=(\"key\", \"candidates\", \"expected_changes\"))\n",
    "def algo_iteration(elites, vector, key=\"resid_pre.16\", candidates=128, seed=13, expected_changes=1.5, max_inv_temp=2, topk=128):\n",
    "    elites = elites.untag(\"solutions\").tag(\"batch\")\n",
    "    logits, _, _, grads = run_tokens(elites, grad_metric=lambda _l, r, _i: (r[key][{\"seq\": -1}].untag(\"embedding\") * vector).sum().data_array.mean())\n",
    "    grads = pz.nx.nmap(lambda x: x >= jax.lax.top_k(x, topk)[0][-1])(grads.untag(\"vocabulary\")).tag(\"vocabulary\")\n",
    "    logits = logits.untag(\"batch\").tag(\"elites\")\n",
    "\n",
    "    tempered_samples = pz.nx.nmap(temper)(\n",
    "        logits.untag(\"elites\", \"seq\", \"vocabulary\"),\n",
    "        pz.nx.wrap(jax.random.split(jax.random.key(seed), candidates), \"batch\"),\n",
    "        elites.untag(\"batch\", \"seq\"),\n",
    "        grads.untag(\"batch\", \"seq\", \"vocabulary\"),\n",
    "        pz.nx.wrap(jnp.array(max_inv_temp)), pz.nx.wrap(jnp.array(expected_changes))).tag(\"seq\")\n",
    "    # tempered_samples = sharding_util.name_to_name_device_put(tempered_samples, llama.mesh, dict(batch=\"dp\", seq=\"sp\"))\n",
    "    _, new_losses, new_resids = run_tokens(tempered_samples)\n",
    "\n",
    "    new_scores = (new_resids[key][{\"seq\": -1}].untag(\"embedding\") * vector).sum().astype(new_losses.dtype)\n",
    "    metrics = pz.nx.nmap(lambda *xs: jnp.stack(xs))(new_losses, new_scores).tag(\"metrics\")\n",
    "    solution_axes = [k for k in tempered_samples.named_shape.keys() if k != \"seq\"]\n",
    "    solutions = tempered_samples.untag(*solution_axes).flatten().tag(\"solutions\").unwrap(\"solutions\", \"seq\")\n",
    "    metrics = metrics.untag(*(k for k in solution_axes if k != \"seq\")).flatten().tag(\"solutions\").unwrap(\"solutions\", \"metrics\")\n",
    "\n",
    "    return solutions, metrics\n"
   ]
  },
  {
   "cell_type": "code",
   "execution_count": 17,
   "metadata": {},
   "outputs": [
    {
     "name": "stdout",
     "output_type": "stream",
     "text": [
      "Seed: 456470271\n"
     ]
    },
    {
     "data": {
      "application/vnd.jupyter.widget-view+json": {
       "model_id": "35395299e0f74282bf141eabe49e9340",
       "version_major": 2,
       "version_minor": 0
      },
      "text/plain": [
       "  0%|          | 0/250 [00:00<?, ?it/s]"
      ]
     },
     "metadata": {},
     "output_type": "display_data"
    },
    {
     "name": "stderr",
     "output_type": "stream",
     "text": [
      "/home/neverix/.cache/pypoetry/virtualenvs/micrlhf-progress-a058ydGG-py3.12/lib/python3.12/site-packages/jax/_src/numpy/array_methods.py:68: UserWarning: Explicitly requested dtype <class 'jax.numpy.int64'> requested in astype is not available, and will be truncated to dtype int32. To enable more dtypes, set the jax_enable_x64 configuration option or the JAX_ENABLE_X64 shell environment variable. See https://github.com/google/jax#current-gotchas for more.\n",
      "  return lax_numpy.astype(arr, dtype, copy=copy, device=device)\n"
     ]
    }
   ],
   "source": [
    "import random\n",
    "\n",
    "\n",
    "seed = random.randint(0, 2**32-1)\n",
    "print(\"Seed:\", seed)\n",
    "np.random.seed(seed)\n",
    "toks_init = tokens_init.copy()\n",
    "toks_init[:, optim_mask] = np.random.randint(100, tokenizer.vocab_size, toks_init[:, optim_mask].shape)\n",
    "best_metrics = None\n",
    "best = tokens_to_array(toks_init).untag(\"batch\").tag(\"solutions\")\n",
    "xent_min = 5\n",
    "xent_max = 50\n",
    "weights = jnp.stack((\n",
    "    jnp.linspace(-xent_max, -xent_min, MAX_ELITES),\n",
    "    jnp.ones(MAX_ELITES),\n",
    "), -1)\n",
    "@partial(jax.jit, donate_argnums=(0, 1))\n",
    "def combine_solutions(best_metrics, best, metrics, solutions):\n",
    "    if best_metrics is not None:\n",
    "        best_metrics = jnp.concatenate((best_metrics, metrics), 0)\n",
    "        best = pz.nx.nmap(lambda a, b: jnp.concatenate((a, b)))(\n",
    "            best.untag(\"solutions\"),\n",
    "            pz.nx.wrap(solutions, \"solutions\", \"seq\").untag(\"solutions\")\n",
    "        ).tag(\"solutions\").unwrap(\"solutions\", \"seq\")\n",
    "    else:\n",
    "        best_metrics = metrics\n",
    "        best = solutions\n",
    "    elite_mask = (best_metrics[None, :] * weights[:, None]).sum(-1).argmax(1)\n",
    "    best_metrics = best_metrics[elite_mask]\n",
    "    best = pz.nx.wrap(best[elite_mask], \"solutions\", \"seq\")\n",
    "    return best_metrics, best\n",
    "for seed in (bar := trange(250)):\n",
    "    solutions, metrics = algo_iteration(best, vector, seed=seed)\n",
    "    best_metrics, best = combine_solutions(best_metrics, best, metrics, solutions)\n",
    "    m = {}\n",
    "    for index in range(MAX_ELITES):\n",
    "        i = index\n",
    "        m |= {f\"decoded.{i}\": tokenizer.decode(best[{\"solutions\": index}].unwrap(\"seq\")),\n",
    "              f\"loss.{i}\": best_metrics[index][0], f\"score.{i}\": best_metrics[index][1]}\n",
    "    bar.set_postfix(**m)"
   ]
  },
  {
   "cell_type": "code",
   "execution_count": null,
   "metadata": {},
   "outputs": [],
   "source": []
  }
 ],
 "metadata": {
  "kernelspec": {
   "display_name": "micrlhf-progress-a058ydGG-py3.12",
   "language": "python",
   "name": "python3"
  },
  "language_info": {
   "codemirror_mode": {
    "name": "ipython",
    "version": 3
   },
   "file_extension": ".py",
   "mimetype": "text/x-python",
   "name": "python",
   "nbconvert_exporter": "python",
   "pygments_lexer": "ipython3",
   "version": "3.12.3"
  }
 },
 "nbformat": 4,
 "nbformat_minor": 2
}
