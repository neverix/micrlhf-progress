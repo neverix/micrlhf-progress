{
 "cells": [
  {
   "cell_type": "code",
   "execution_count": 1,
   "metadata": {},
   "outputs": [],
   "source": [
    "%load_ext autoreload\n",
    "%autoreload 2\n",
    "import penzai\n",
    "from penzai import pz\n",
    "pz.ts.register_as_default()\n",
    "pz.ts.register_autovisualize_magic()\n",
    "pz.enable_interactive_context()"
   ]
  },
  {
   "cell_type": "code",
   "execution_count": 2,
   "metadata": {},
   "outputs": [],
   "source": [
    "\n",
    "pz.ts.active_autovisualizer.set_interactive(pz.ts.ArrayAutovisualizer())"
   ]
  },
  {
   "cell_type": "code",
   "execution_count": 3,
   "metadata": {},
   "outputs": [],
   "source": [
    "from matplotlib import pyplot as plt\n",
    "from tqdm.auto import tqdm, trange\n",
    "import jax.numpy as jnp\n",
    "import numpy as np\n",
    "import random\n",
    "from penzai.data_effects.side_output import SideOutputValue\n",
    "from micrlhf.utils.activation_manipulation import add_vector"
   ]
  },
  {
   "cell_type": "code",
   "execution_count": 4,
   "metadata": {},
   "outputs": [
    {
     "name": "stderr",
     "output_type": "stream",
     "text": [
      "/home/dmitrii/.cache/pypoetry/virtualenvs/micrlhf-progress-_SD4q1c9-py3.12/lib/python3.12/site-packages/huggingface_hub/file_download.py:1132: FutureWarning: `resume_download` is deprecated and will be removed in version 1.0.0. Downloads always resume when possible. If you want to force a new download, use `force_download=True`.\n",
      "  warnings.warn(\n",
      "Special tokens have been added in the vocabulary, make sure the associated word embeddings are fine-tuned or trained.\n"
     ]
    }
   ],
   "source": [
    "filename = \"models/phi-3-16.gguf\"\n",
    "from micrlhf.llama import LlamaTransformer\n",
    "llama = LlamaTransformer.from_pretrained(filename, device_map=\"auto\")\n",
    "from micrlhf.sampling import sample\n",
    "from transformers import AutoTokenizer\n",
    "import jax\n",
    "# tokenizer = load_tokenizer(filename)\n",
    "tokenizer = AutoTokenizer.from_pretrained(\"microsoft/Phi-3-mini-4k-instruct\")\n"
   ]
  },
  {
   "cell_type": "code",
   "execution_count": 5,
   "metadata": {},
   "outputs": [],
   "source": [
    "tokenizer.pad_token = tokenizer.eos_token\n",
    "tokenizer.padding_side = \"left\""
   ]
  },
  {
   "cell_type": "code",
   "execution_count": 6,
   "metadata": {},
   "outputs": [
    {
     "name": "stderr",
     "output_type": "stream",
     "text": [
      "Cloning into 'itv'...\n",
      "fatal: unable to access 'https://github.com/roeehendel/icl_task_vectors data/itv/': URL using bad/illegal format or missing URL\n"
     ]
    }
   ],
   "source": [
    "from task_vector_utils import load_tasks, ICLDataset, ICLSequence\n",
    "tasks = load_tasks()"
   ]
  },
  {
   "cell_type": "code",
   "execution_count": null,
   "metadata": {},
   "outputs": [],
   "source": []
  },
  {
   "cell_type": "code",
   "execution_count": 7,
   "metadata": {},
   "outputs": [
    {
     "data": {
      "text/html": [
       "<div id=\"output_9a64fe6d12ac469c855f04cfb7a94934\"><script> /* penzai.treescope rendering of a Python object (compressed) */ (()=>{ let observer; let lastStep = new Promise((resolve, reject) => { observer = new IntersectionObserver((entries) => { for (const entry of entries) { if (entry.isIntersecting) { resolve(); observer.disconnect(); return; } } }, {rootMargin: \"1000px\"}); }); window.treescope_decompress_enqueue = (encoded, destId) => { const previous = lastStep; const destElt = document.getElementById(destId); lastStep = (async () => { await previous; let blob = new Blob([ Uint8Array.from(atob(encoded), (m) => m.codePointAt(0)) ]); let reader = blob.stream().pipeThrough( new DecompressionStream(\"deflate\") ).pipeThrough( new TextDecoderStream(\"utf-8\") ).getReader(); let parts = []; while (true) { let step = await reader.read(); if (step.done) { break; } parts.push(step.value); } let newElt = document.createElement(\"div\"); newElt.innerHTML = parts.join(\"\"); destElt.parentNode.replaceChild(newElt, destElt); for (let oldScript of newElt.querySelectorAll(\"script\")) { let newScript = document.createElement(\"script\"); newScript.type = oldScript.type; newScript.textContent = oldScript.textContent; oldScript.parentNode.replaceChild(newScript, oldScript); } })(); requestAnimationFrame(() => { observer.observe(destElt); }); } })(); </script><div id=\"compress_html_1424808b98104530b02581e62e4fd418\"><script>window.treescope_decompress_enqueue(\"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\", \"compress_html_1424808b98104530b02581e62e4fd418\");</script><span style=\"color: #aaaaaa; font-family: monospace\">(Loading...)</span></div></div>"
      ],
      "text/plain": [
       "<IPython.core.display.HTML object>"
      ]
     },
     "metadata": {},
     "output_type": "display_data"
    },
    {
     "data": {
      "text/html": [
       "<div id=\"output_dest_9a64fe6d12ac469c855f04cfb7a94934\"><script> (()=>{ const output = document.getElementById(\"output_9a64fe6d12ac469c855f04cfb7a94934\"); const dest = document.getElementById(\"output_dest_9a64fe6d12ac469c855f04cfb7a94934\"); dest.parentNode.replaceChild(output, dest); })(); </script></div>"
      ],
      "text/plain": [
       "dict_keys(['location_continent', 'football_player_position', 'location_religion', 'location_language', 'person_profession', 'location_country', 'country_capital', 'person_language', 'singular_plural', 'present_simple_past_simple', 'antonyms', 'plural_singular', 'present_simple_past_perfect', 'present_simple_gerund', 'en_it', 'it_en', 'en_ru', 'en_fr', 'en_es', 'fr_en', 'es_en', 'en_de', 'algo_max', 'algo_min', 'algo_last', 'algo_first', 'algo_sum', 'algo_most_common'])"
      ]
     },
     "execution_count": 7,
     "metadata": {},
     "output_type": "execute_result"
    }
   ],
   "source": [
    "tasks.keys()"
   ]
  },
  {
   "cell_type": "code",
   "execution_count": 8,
   "metadata": {},
   "outputs": [],
   "source": [
    "from micrlhf.llama import LlamaBlock\n",
    "from micrlhf.sampling import sample, jit_wrapper\n",
    "get_resids = llama.select().at_instances_of(LlamaBlock).apply_with_selected_index(lambda i, x:\n",
    "    pz.nn.Sequential([\n",
    "        pz.de.TellIntermediate.from_config(tag=f\"resid_pre_{i}\"),\n",
    "        x\n",
    "    ])\n",
    ")\n",
    "get_resids = pz.de.CollectingSideOutputs.handling(get_resids, tag_predicate=lambda x: x.startswith(\"resid_pre\"))\n",
    "get_resids_call = jit_wrapper.Jitted(get_resids)"
   ]
  },
  {
   "cell_type": "code",
   "execution_count": null,
   "metadata": {},
   "outputs": [],
   "source": []
  },
  {
   "cell_type": "code",
   "execution_count": null,
   "metadata": {},
   "outputs": [],
   "source": []
  },
  {
   "cell_type": "code",
   "execution_count": 9,
   "metadata": {},
   "outputs": [],
   "source": [
    "def generate_task_prompt(task, n_shots):\n",
    "    prompt = \"<user>Follow the pattern\\n{}\"\n",
    "    examples = []\n",
    "\n",
    "    for s, t in random.sample(list(tasks[task].items()), n_shots):\n",
    "        examples.append(f\"{s} -> {t}\")\n",
    "    prompt = prompt.format(\"\\n\".join(examples))\n",
    "\n",
    "    # print(prompt)\n",
    "\n",
    "    return prompt\n",
    "\n",
    "def tokenized_to_inputs(input_ids, attention_mask):\n",
    "    token_array = jnp.asarray(input_ids)\n",
    "    token_array = jax.device_put(token_array, jax.sharding.NamedSharding(llama.mesh, jax.sharding.PartitionSpec(\"dp\", \"sp\")))\n",
    "    token_array = pz.nx.wrap(token_array, \"batch\", \"seq\").untag(\"batch\").tag(\"batch\")\n",
    "\n",
    "    mask_array = jnp.asarray(attention_mask, dtype=jnp.bool)\n",
    "    mask_array = jax.device_put(mask_array, jax.sharding.NamedSharding(llama.mesh, jax.sharding.PartitionSpec(\"dp\", \"sp\")))\n",
    "    mask_array = pz.nx.wrap(mask_array, \"batch\", \"seq\").untag(\"batch\").tag(\"batch\")\n",
    "\n",
    "    inputs = llama.inputs.from_basic_segments(token_array)\n",
    "    return inputs"
   ]
  },
  {
   "cell_type": "code",
   "execution_count": 10,
   "metadata": {},
   "outputs": [],
   "source": [
    "def generate_task_inputs_old(task, n_shots, batch_size, max_length=128, seed=0):\n",
    "    random.seed(seed)\n",
    "\n",
    "    texts = [generate_task_prompt(task, n_shots) for _ in range(batch_size)]\n",
    "    tokenized = tokenizer.batch_encode_plus(texts, padding=\"longest\", max_length=max_length, truncation=True, return_tensors=\"np\")\n",
    "\n",
    "    inputs = tokenized_to_inputs(\n",
    "        **tokenized\n",
    "    )\n",
    "\n",
    "    return inputs, tokenized"
   ]
  },
  {
   "cell_type": "code",
   "execution_count": 11,
   "metadata": {},
   "outputs": [],
   "source": [
    "prompt = \"<user>Follow the pattern\\n{}\""
   ]
  },
  {
   "cell_type": "code",
   "execution_count": 12,
   "metadata": {},
   "outputs": [],
   "source": [
    "def get_logprob_diff(logits: jnp.ndarray, completions: list[str], print_results=False, extra_space=False):\n",
    "    logprobs = jax.nn.log_softmax(logits, axis=-1)\n",
    "    answer_logprobs = logprobs[:, -1]\n",
    "\n",
    "    pos = 1\n",
    "    if extra_space:\n",
    "        pos += 1\n",
    "\n",
    "    target_tokens = [x[pos] for x in tokenizer(completions)[\"input_ids\"]]\n",
    "    target_tokens = jnp.asarray(target_tokens)\n",
    "    target_logprobs = jnp.take_along_axis(answer_logprobs, target_tokens[:, None], axis=-1).squeeze()\n",
    "\n",
    "    if print_results:\n",
    "        print(\n",
    "            tokenizer.decode(answer_logprobs.argmax(axis=-1))\n",
    "        )\n",
    "\n",
    "        print(\n",
    "            tokenizer.decode(target_tokens)\n",
    "        )\n",
    "\n",
    "    return target_logprobs - answer_logprobs.max(axis=-1)\n"
   ]
  },
  {
   "cell_type": "code",
   "execution_count": 13,
   "metadata": {},
   "outputs": [],
   "source": [
    "task_names = [\n",
    "    \"en_it\"\n",
    "]\n",
    "layer = 20\n",
    "n_seeds = 10\n",
    "\n",
    "# n_few_shots, batch_size, max_seq_len = 64, 64, 512\n",
    "n_few_shots, batch_size, max_seq_len = 20, 16, 1024"
   ]
  },
  {
   "cell_type": "code",
   "execution_count": 14,
   "metadata": {},
   "outputs": [],
   "source": [
    "from task_vector_utils import ICLRunner, logprob_loss, get_tv, make_act_adder\n"
   ]
  },
  {
   "cell_type": "code",
   "execution_count": 291,
   "metadata": {},
   "outputs": [
    {
     "data": {
      "application/vnd.jupyter.widget-view+json": {
       "model_id": "c11d44522e1f47ee99a436a65439cd92",
       "version_major": 2,
       "version_minor": 0
      },
      "text/plain": [
       "  0%|          | 0/28 [00:00<?, ?it/s]"
      ]
     },
     "metadata": {},
     "output_type": "display_data"
    },
    {
     "name": "stdout",
     "output_type": "stream",
     "text": [
      "T: location_continent,  zero loss: 7.96875\n"
     ]
    },
    {
     "data": {
      "application/vnd.jupyter.widget-view+json": {
       "model_id": "5058977648a048bd97d31e93bc8abc51",
       "version_major": 2,
       "version_minor": 0
      },
      "text/plain": [
       "  0%|          | 0/18 [00:00<?, ?it/s]"
      ]
     },
     "metadata": {},
     "output_type": "display_data"
    },
    {
     "name": "stdout",
     "output_type": "stream",
     "text": [
      "T: location_continent, L: 10, Loss: 8.125\n",
      "T: location_continent, L: 11, Loss: 8.3125\n",
      "T: location_continent, L: 12, Loss: 8.125\n",
      "T: location_continent, L: 13, Loss: 7.46875\n",
      "T: location_continent, L: 14, Loss: 6.8125\n",
      "T: location_continent, L: 15, Loss: 6.21875\n",
      "T: location_continent, L: 16, Loss: 6.15625\n",
      "T: location_continent, L: 17, Loss: 5.96875\n",
      "T: location_continent, L: 18, Loss: 5.3125\n",
      "T: location_continent, L: 19, Loss: 4.96875\n",
      "T: location_continent, L: 20, Loss: 4.09375\n",
      "T: location_continent, L: 21, Loss: 3.3125\n",
      "T: location_continent, L: 22, Loss: 3.23438\n",
      "T: location_continent, L: 23, Loss: 2.85938\n",
      "T: location_continent, L: 24, Loss: 2.10938\n",
      "T: location_continent, L: 25, Loss: 1.91406\n",
      "T: location_continent, L: 26, Loss: 2.21875\n",
      "T: location_continent, L: 27, Loss: 2.04688\n",
      "T: football_player_position,  zero loss: 13.125\n"
     ]
    },
    {
     "data": {
      "application/vnd.jupyter.widget-view+json": {
       "model_id": "33b54d35b72545a3a759150edf64687e",
       "version_major": 2,
       "version_minor": 0
      },
      "text/plain": [
       "  0%|          | 0/18 [00:00<?, ?it/s]"
      ]
     },
     "metadata": {},
     "output_type": "display_data"
    },
    {
     "name": "stdout",
     "output_type": "stream",
     "text": [
      "T: football_player_position, L: 10, Loss: 13.0625\n",
      "T: football_player_position, L: 11, Loss: 13.375\n",
      "T: football_player_position, L: 12, Loss: 12.5625\n",
      "T: football_player_position, L: 13, Loss: 10.875\n",
      "T: football_player_position, L: 14, Loss: 9.625\n",
      "T: football_player_position, L: 15, Loss: 9.25\n",
      "T: football_player_position, L: 16, Loss: 9\n",
      "T: football_player_position, L: 17, Loss: 8.3125\n",
      "T: football_player_position, L: 18, Loss: 6.34375\n",
      "T: football_player_position, L: 19, Loss: 5.96875\n",
      "T: football_player_position, L: 20, Loss: 4.96875\n",
      "T: football_player_position, L: 21, Loss: 4.65625\n",
      "T: football_player_position, L: 22, Loss: 4.375\n",
      "T: football_player_position, L: 23, Loss: 4.59375\n",
      "T: football_player_position, L: 24, Loss: 4.875\n",
      "T: football_player_position, L: 25, Loss: 4.6875\n",
      "T: football_player_position, L: 26, Loss: 4.875\n",
      "T: football_player_position, L: 27, Loss: 5.15625\n",
      "T: location_religion,  zero loss: 7.875\n"
     ]
    },
    {
     "data": {
      "application/vnd.jupyter.widget-view+json": {
       "model_id": "9b0f317a923e4f4b8127329ac06173cf",
       "version_major": 2,
       "version_minor": 0
      },
      "text/plain": [
       "  0%|          | 0/18 [00:00<?, ?it/s]"
      ]
     },
     "metadata": {},
     "output_type": "display_data"
    },
    {
     "name": "stdout",
     "output_type": "stream",
     "text": [
      "T: location_religion, L: 10, Loss: 8.4375\n",
      "T: location_religion, L: 11, Loss: 8.625\n",
      "T: location_religion, L: 12, Loss: 8.5\n",
      "T: location_religion, L: 13, Loss: 8.1875\n",
      "T: location_religion, L: 14, Loss: 7.5625\n",
      "T: location_religion, L: 15, Loss: 7\n",
      "T: location_religion, L: 16, Loss: 7.09375\n",
      "T: location_religion, L: 17, Loss: 6.5625\n",
      "T: location_religion, L: 18, Loss: 5.8125\n",
      "T: location_religion, L: 19, Loss: 5.4375\n",
      "T: location_religion, L: 20, Loss: 3.875\n",
      "T: location_religion, L: 21, Loss: 3.10938\n",
      "T: location_religion, L: 22, Loss: 2.57812\n",
      "T: location_religion, L: 23, Loss: 2.3125\n",
      "T: location_religion, L: 24, Loss: 2\n",
      "T: location_religion, L: 25, Loss: 1.625\n",
      "T: location_religion, L: 26, Loss: 1.89062\n",
      "T: location_religion, L: 27, Loss: 1.55469\n",
      "T: location_language,  zero loss: 7.9375\n"
     ]
    },
    {
     "data": {
      "application/vnd.jupyter.widget-view+json": {
       "model_id": "a5b87c37c4914aedb9984c3127ff4aaf",
       "version_major": 2,
       "version_minor": 0
      },
      "text/plain": [
       "  0%|          | 0/18 [00:00<?, ?it/s]"
      ]
     },
     "metadata": {},
     "output_type": "display_data"
    },
    {
     "name": "stdout",
     "output_type": "stream",
     "text": [
      "T: location_language, L: 10, Loss: 8.6875\n",
      "T: location_language, L: 11, Loss: 8.8125\n",
      "T: location_language, L: 12, Loss: 8.875\n",
      "T: location_language, L: 13, Loss: 8.375\n",
      "T: location_language, L: 14, Loss: 7.3125\n",
      "T: location_language, L: 15, Loss: 6.15625\n",
      "T: location_language, L: 16, Loss: 5.84375\n",
      "T: location_language, L: 17, Loss: 4.9375\n",
      "T: location_language, L: 18, Loss: 4\n",
      "T: location_language, L: 19, Loss: 3.70312\n",
      "T: location_language, L: 20, Loss: 2.10938\n",
      "T: location_language, L: 21, Loss: 1.82812\n",
      "T: location_language, L: 22, Loss: 2.34375\n",
      "T: location_language, L: 23, Loss: 2.54688\n",
      "T: location_language, L: 24, Loss: 2.01562\n",
      "T: location_language, L: 25, Loss: 2.125\n",
      "T: location_language, L: 26, Loss: 2.54688\n",
      "T: location_language, L: 27, Loss: 2.875\n",
      "T: person_profession,  zero loss: 11.3125\n"
     ]
    },
    {
     "data": {
      "application/vnd.jupyter.widget-view+json": {
       "model_id": "48378033bca54a38b1e54dd225299125",
       "version_major": 2,
       "version_minor": 0
      },
      "text/plain": [
       "  0%|          | 0/18 [00:00<?, ?it/s]"
      ]
     },
     "metadata": {},
     "output_type": "display_data"
    },
    {
     "name": "stdout",
     "output_type": "stream",
     "text": [
      "T: person_profession, L: 10, Loss: 11.375\n",
      "T: person_profession, L: 11, Loss: 11.5\n",
      "T: person_profession, L: 12, Loss: 11\n",
      "T: person_profession, L: 13, Loss: 8.9375\n",
      "T: person_profession, L: 14, Loss: 6.90625\n",
      "T: person_profession, L: 15, Loss: 6.28125\n",
      "T: person_profession, L: 16, Loss: 6.78125\n",
      "T: person_profession, L: 17, Loss: 6\n",
      "T: person_profession, L: 18, Loss: 4.84375\n",
      "T: person_profession, L: 19, Loss: 4.5625\n",
      "T: person_profession, L: 20, Loss: 3.59375\n",
      "T: person_profession, L: 21, Loss: 3.64062\n",
      "T: person_profession, L: 22, Loss: 3.67188\n",
      "T: person_profession, L: 23, Loss: 3.67188\n",
      "T: person_profession, L: 24, Loss: 3.53125\n",
      "T: person_profession, L: 25, Loss: 3.5625\n",
      "T: person_profession, L: 26, Loss: 3.64062\n",
      "T: person_profession, L: 27, Loss: 3.57812\n",
      "T: location_country,  zero loss: 5.625\n"
     ]
    },
    {
     "data": {
      "application/vnd.jupyter.widget-view+json": {
       "model_id": "c464e387590e4187bb3581c9fb7837a4",
       "version_major": 2,
       "version_minor": 0
      },
      "text/plain": [
       "  0%|          | 0/18 [00:00<?, ?it/s]"
      ]
     },
     "metadata": {},
     "output_type": "display_data"
    },
    {
     "name": "stdout",
     "output_type": "stream",
     "text": [
      "T: location_country, L: 10, Loss: 6.0625\n",
      "T: location_country, L: 11, Loss: 6.125\n",
      "T: location_country, L: 12, Loss: 6.21875\n",
      "T: location_country, L: 13, Loss: 5.9375\n",
      "T: location_country, L: 14, Loss: 5.0625\n",
      "T: location_country, L: 15, Loss: 4.84375\n",
      "T: location_country, L: 16, Loss: 4.84375\n",
      "T: location_country, L: 17, Loss: 4.28125\n",
      "T: location_country, L: 18, Loss: 4.125\n",
      "T: location_country, L: 19, Loss: 3.9375\n",
      "T: location_country, L: 20, Loss: 3.6875\n",
      "T: location_country, L: 21, Loss: 3.67188\n",
      "T: location_country, L: 22, Loss: 3.82812\n",
      "T: location_country, L: 23, Loss: 3.875\n",
      "T: location_country, L: 24, Loss: 3.82812\n",
      "T: location_country, L: 25, Loss: 3.82812\n",
      "T: location_country, L: 26, Loss: 3.96875\n",
      "T: location_country, L: 27, Loss: 4.09375\n",
      "T: country_capital,  zero loss: 6.40625\n"
     ]
    },
    {
     "data": {
      "application/vnd.jupyter.widget-view+json": {
       "model_id": "ec7e0846ff4f4d2e82aacc948dd3f282",
       "version_major": 2,
       "version_minor": 0
      },
      "text/plain": [
       "  0%|          | 0/18 [00:00<?, ?it/s]"
      ]
     },
     "metadata": {},
     "output_type": "display_data"
    },
    {
     "name": "stdout",
     "output_type": "stream",
     "text": [
      "T: country_capital, L: 10, Loss: 6.90625\n",
      "T: country_capital, L: 11, Loss: 6.875\n",
      "T: country_capital, L: 12, Loss: 7.0625\n",
      "T: country_capital, L: 13, Loss: 6.1875\n",
      "T: country_capital, L: 14, Loss: 5\n",
      "T: country_capital, L: 15, Loss: 4.625\n",
      "T: country_capital, L: 16, Loss: 4.3125\n",
      "T: country_capital, L: 17, Loss: 4.125\n",
      "T: country_capital, L: 18, Loss: 3.73438\n",
      "T: country_capital, L: 19, Loss: 4.34375\n",
      "T: country_capital, L: 20, Loss: 3.875\n",
      "T: country_capital, L: 21, Loss: 3.82812\n",
      "T: country_capital, L: 22, Loss: 3.9375\n",
      "T: country_capital, L: 23, Loss: 4.4375\n",
      "T: country_capital, L: 24, Loss: 4.5\n",
      "T: country_capital, L: 25, Loss: 4.59375\n",
      "T: country_capital, L: 26, Loss: 4.875\n",
      "T: country_capital, L: 27, Loss: 5.25\n",
      "T: person_language,  zero loss: 7.4375\n"
     ]
    },
    {
     "data": {
      "application/vnd.jupyter.widget-view+json": {
       "model_id": "12f18f18bd904864933b0696997a5ea5",
       "version_major": 2,
       "version_minor": 0
      },
      "text/plain": [
       "  0%|          | 0/18 [00:00<?, ?it/s]"
      ]
     },
     "metadata": {},
     "output_type": "display_data"
    },
    {
     "name": "stdout",
     "output_type": "stream",
     "text": [
      "T: person_language, L: 10, Loss: 8.8125\n",
      "T: person_language, L: 11, Loss: 8.875\n",
      "T: person_language, L: 12, Loss: 8.5625\n",
      "T: person_language, L: 13, Loss: 7.1875\n",
      "T: person_language, L: 14, Loss: 5.96875\n",
      "T: person_language, L: 15, Loss: 5.3125\n",
      "T: person_language, L: 16, Loss: 4.875\n",
      "T: person_language, L: 17, Loss: 4.25\n",
      "T: person_language, L: 18, Loss: 3.6875\n",
      "T: person_language, L: 19, Loss: 3.45312\n",
      "T: person_language, L: 20, Loss: 1.91406\n",
      "T: person_language, L: 21, Loss: 1.28906\n",
      "T: person_language, L: 22, Loss: 1.64844\n",
      "T: person_language, L: 23, Loss: 1.96875\n",
      "T: person_language, L: 24, Loss: 1.59375\n",
      "T: person_language, L: 25, Loss: 1.65625\n",
      "T: person_language, L: 26, Loss: 1.88281\n",
      "T: person_language, L: 27, Loss: 1.94531\n",
      "T: singular_plural,  zero loss: 1.96875\n"
     ]
    },
    {
     "data": {
      "application/vnd.jupyter.widget-view+json": {
       "model_id": "00c59edf28d84665a94e7e8b24ab48ef",
       "version_major": 2,
       "version_minor": 0
      },
      "text/plain": [
       "  0%|          | 0/18 [00:00<?, ?it/s]"
      ]
     },
     "metadata": {},
     "output_type": "display_data"
    },
    {
     "name": "stdout",
     "output_type": "stream",
     "text": [
      "T: singular_plural, L: 10, Loss: 2.34375\n",
      "T: singular_plural, L: 11, Loss: 2.20312\n",
      "T: singular_plural, L: 12, Loss: 2.20312\n",
      "T: singular_plural, L: 13, Loss: 1.89062\n",
      "T: singular_plural, L: 14, Loss: 1.5\n",
      "T: singular_plural, L: 15, Loss: 1.44531\n",
      "T: singular_plural, L: 16, Loss: 1.45312\n",
      "T: singular_plural, L: 17, Loss: 1.375\n",
      "T: singular_plural, L: 18, Loss: 1.3125\n",
      "T: singular_plural, L: 19, Loss: 1.16406\n",
      "T: singular_plural, L: 20, Loss: 0.921875\n",
      "T: singular_plural, L: 21, Loss: 0.910156\n",
      "T: singular_plural, L: 22, Loss: 1.20312\n",
      "T: singular_plural, L: 23, Loss: 1.39844\n",
      "T: singular_plural, L: 24, Loss: 1.51562\n",
      "T: singular_plural, L: 25, Loss: 1.49219\n",
      "T: singular_plural, L: 26, Loss: 1.55469\n",
      "T: singular_plural, L: 27, Loss: 1.75781\n",
      "T: present_simple_past_simple,  zero loss: 2.48438\n"
     ]
    },
    {
     "data": {
      "application/vnd.jupyter.widget-view+json": {
       "model_id": "d27234bd59b940e99d414ea14867290f",
       "version_major": 2,
       "version_minor": 0
      },
      "text/plain": [
       "  0%|          | 0/18 [00:00<?, ?it/s]"
      ]
     },
     "metadata": {},
     "output_type": "display_data"
    },
    {
     "name": "stdout",
     "output_type": "stream",
     "text": [
      "T: present_simple_past_simple, L: 10, Loss: 3.75\n",
      "T: present_simple_past_simple, L: 11, Loss: 3.76562\n",
      "T: present_simple_past_simple, L: 12, Loss: 3.64062\n",
      "T: present_simple_past_simple, L: 13, Loss: 2.375\n",
      "T: present_simple_past_simple, L: 14, Loss: 2.14062\n",
      "T: present_simple_past_simple, L: 15, Loss: 2.15625\n",
      "T: present_simple_past_simple, L: 16, Loss: 2.26562\n",
      "T: present_simple_past_simple, L: 17, Loss: 1.73438\n",
      "T: present_simple_past_simple, L: 18, Loss: 1.25781\n",
      "T: present_simple_past_simple, L: 19, Loss: 1.07812\n",
      "T: present_simple_past_simple, L: 20, Loss: 0.773438\n",
      "T: present_simple_past_simple, L: 21, Loss: 0.839844\n",
      "T: present_simple_past_simple, L: 22, Loss: 0.867188\n",
      "T: present_simple_past_simple, L: 23, Loss: 1.0625\n",
      "T: present_simple_past_simple, L: 24, Loss: 1.46094\n",
      "T: present_simple_past_simple, L: 25, Loss: 1.5625\n",
      "T: present_simple_past_simple, L: 26, Loss: 1.60156\n",
      "T: present_simple_past_simple, L: 27, Loss: 1.82812\n",
      "T: antonyms,  zero loss: 5.96875\n"
     ]
    },
    {
     "data": {
      "application/vnd.jupyter.widget-view+json": {
       "model_id": "c364e38fce974f428324efaf44b6e53c",
       "version_major": 2,
       "version_minor": 0
      },
      "text/plain": [
       "  0%|          | 0/18 [00:00<?, ?it/s]"
      ]
     },
     "metadata": {},
     "output_type": "display_data"
    },
    {
     "name": "stdout",
     "output_type": "stream",
     "text": [
      "T: antonyms, L: 10, Loss: 5.875\n",
      "T: antonyms, L: 11, Loss: 6.15625\n",
      "T: antonyms, L: 12, Loss: 5.6875\n",
      "T: antonyms, L: 13, Loss: 3.8125\n",
      "T: antonyms, L: 14, Loss: 3.10938\n",
      "T: antonyms, L: 15, Loss: 2.75\n",
      "T: antonyms, L: 16, Loss: 2.8125\n",
      "T: antonyms, L: 17, Loss: 2.5625\n",
      "T: antonyms, L: 18, Loss: 2.29688\n",
      "T: antonyms, L: 19, Loss: 2.45312\n",
      "T: antonyms, L: 20, Loss: 2.78125\n",
      "T: antonyms, L: 21, Loss: 3.82812\n",
      "T: antonyms, L: 22, Loss: 4.15625\n",
      "T: antonyms, L: 23, Loss: 4.09375\n",
      "T: antonyms, L: 24, Loss: 4.375\n",
      "T: antonyms, L: 25, Loss: 4.65625\n",
      "T: antonyms, L: 26, Loss: 4.90625\n",
      "T: antonyms, L: 27, Loss: 4.9375\n",
      "T: plural_singular,  zero loss: 2.53125\n"
     ]
    },
    {
     "data": {
      "application/vnd.jupyter.widget-view+json": {
       "model_id": "dbdfaa36308b4fc48a89c6083e506e82",
       "version_major": 2,
       "version_minor": 0
      },
      "text/plain": [
       "  0%|          | 0/18 [00:00<?, ?it/s]"
      ]
     },
     "metadata": {},
     "output_type": "display_data"
    },
    {
     "name": "stdout",
     "output_type": "stream",
     "text": [
      "T: plural_singular, L: 10, Loss: 2.84375\n",
      "T: plural_singular, L: 11, Loss: 2.75\n",
      "T: plural_singular, L: 12, Loss: 2.90625\n",
      "T: plural_singular, L: 13, Loss: 2.26562\n",
      "T: plural_singular, L: 14, Loss: 1.95312\n",
      "T: plural_singular, L: 15, Loss: 2.0625\n",
      "T: plural_singular, L: 16, Loss: 1.94531\n",
      "T: plural_singular, L: 17, Loss: 1.73438\n",
      "T: plural_singular, L: 18, Loss: 1.53906\n",
      "T: plural_singular, L: 19, Loss: 1.54688\n",
      "T: plural_singular, L: 20, Loss: 1.59375\n",
      "T: plural_singular, L: 21, Loss: 1.6875\n",
      "T: plural_singular, L: 22, Loss: 1.82812\n",
      "T: plural_singular, L: 23, Loss: 2.1875\n",
      "T: plural_singular, L: 24, Loss: 2.5\n",
      "T: plural_singular, L: 25, Loss: 2.57812\n",
      "T: plural_singular, L: 26, Loss: 2.60938\n",
      "T: plural_singular, L: 27, Loss: 2.53125\n",
      "T: present_simple_past_perfect,  zero loss: 4.65625\n"
     ]
    },
    {
     "data": {
      "application/vnd.jupyter.widget-view+json": {
       "model_id": "e9b45d89773a4f31a2eb2c0f84aae2e9",
       "version_major": 2,
       "version_minor": 0
      },
      "text/plain": [
       "  0%|          | 0/18 [00:00<?, ?it/s]"
      ]
     },
     "metadata": {},
     "output_type": "display_data"
    },
    {
     "name": "stdout",
     "output_type": "stream",
     "text": [
      "T: present_simple_past_perfect, L: 10, Loss: 5.1875\n",
      "T: present_simple_past_perfect, L: 11, Loss: 5.28125\n",
      "T: present_simple_past_perfect, L: 12, Loss: 4.9375\n",
      "T: present_simple_past_perfect, L: 13, Loss: 3.9375\n",
      "T: present_simple_past_perfect, L: 14, Loss: 3.76562\n",
      "T: present_simple_past_perfect, L: 15, Loss: 3.8125\n",
      "T: present_simple_past_perfect, L: 16, Loss: 3.98438\n",
      "T: present_simple_past_perfect, L: 17, Loss: 3.51562\n",
      "T: present_simple_past_perfect, L: 18, Loss: 3\n",
      "T: present_simple_past_perfect, L: 19, Loss: 2.89062\n",
      "T: present_simple_past_perfect, L: 20, Loss: 2.48438\n",
      "T: present_simple_past_perfect, L: 21, Loss: 2.375\n",
      "T: present_simple_past_perfect, L: 22, Loss: 2.65625\n",
      "T: present_simple_past_perfect, L: 23, Loss: 2.54688\n",
      "T: present_simple_past_perfect, L: 24, Loss: 2.71875\n",
      "T: present_simple_past_perfect, L: 25, Loss: 2.65625\n",
      "T: present_simple_past_perfect, L: 26, Loss: 2.98438\n",
      "T: present_simple_past_perfect, L: 27, Loss: 3.3125\n",
      "T: present_simple_gerund,  zero loss: 3.51562\n"
     ]
    },
    {
     "data": {
      "application/vnd.jupyter.widget-view+json": {
       "model_id": "77bc1b1a878e4a44b6ca00faf57b42a8",
       "version_major": 2,
       "version_minor": 0
      },
      "text/plain": [
       "  0%|          | 0/18 [00:00<?, ?it/s]"
      ]
     },
     "metadata": {},
     "output_type": "display_data"
    },
    {
     "name": "stdout",
     "output_type": "stream",
     "text": [
      "T: present_simple_gerund, L: 10, Loss: 4.4375\n",
      "T: present_simple_gerund, L: 11, Loss: 4.1875\n",
      "T: present_simple_gerund, L: 12, Loss: 4.15625\n",
      "T: present_simple_gerund, L: 13, Loss: 3.40625\n",
      "T: present_simple_gerund, L: 14, Loss: 2.75\n",
      "T: present_simple_gerund, L: 15, Loss: 2.92188\n",
      "T: present_simple_gerund, L: 16, Loss: 2.875\n",
      "T: present_simple_gerund, L: 17, Loss: 2.54688\n",
      "T: present_simple_gerund, L: 18, Loss: 2.60938\n",
      "T: present_simple_gerund, L: 19, Loss: 2.65625\n",
      "T: present_simple_gerund, L: 20, Loss: 1.19531\n",
      "T: present_simple_gerund, L: 21, Loss: 1.17188\n",
      "T: present_simple_gerund, L: 22, Loss: 1.35156\n",
      "T: present_simple_gerund, L: 23, Loss: 1.39062\n",
      "T: present_simple_gerund, L: 24, Loss: 1.51562\n",
      "T: present_simple_gerund, L: 25, Loss: 1.55469\n",
      "T: present_simple_gerund, L: 26, Loss: 1.71094\n",
      "T: present_simple_gerund, L: 27, Loss: 2.14062\n",
      "T: en_it,  zero loss: 15.375\n"
     ]
    },
    {
     "data": {
      "application/vnd.jupyter.widget-view+json": {
       "model_id": "f847bdfee4c84368b3192870cc3f1ace",
       "version_major": 2,
       "version_minor": 0
      },
      "text/plain": [
       "  0%|          | 0/18 [00:00<?, ?it/s]"
      ]
     },
     "metadata": {},
     "output_type": "display_data"
    },
    {
     "name": "stdout",
     "output_type": "stream",
     "text": [
      "T: en_it, L: 10, Loss: 14.5625\n",
      "T: en_it, L: 11, Loss: 14.8125\n",
      "T: en_it, L: 12, Loss: 13.4375\n",
      "T: en_it, L: 13, Loss: 10.625\n",
      "T: en_it, L: 14, Loss: 9.375\n",
      "T: en_it, L: 15, Loss: 9.1875\n",
      "T: en_it, L: 16, Loss: 9.6875\n",
      "T: en_it, L: 17, Loss: 4.9375\n",
      "T: en_it, L: 18, Loss: 3.0625\n",
      "T: en_it, L: 19, Loss: 4.375\n",
      "T: en_it, L: 20, Loss: 7.53125\n",
      "T: en_it, L: 21, Loss: 6.21875\n",
      "T: en_it, L: 22, Loss: 5.71875\n",
      "T: en_it, L: 23, Loss: 7.03125\n",
      "T: en_it, L: 24, Loss: 7.09375\n",
      "T: en_it, L: 25, Loss: 7.46875\n",
      "T: en_it, L: 26, Loss: 8.625\n",
      "T: en_it, L: 27, Loss: 9.625\n",
      "T: it_en,  zero loss: 8.0625\n"
     ]
    },
    {
     "data": {
      "application/vnd.jupyter.widget-view+json": {
       "model_id": "023059fb21d242d09f424097828b1308",
       "version_major": 2,
       "version_minor": 0
      },
      "text/plain": [
       "  0%|          | 0/18 [00:00<?, ?it/s]"
      ]
     },
     "metadata": {},
     "output_type": "display_data"
    },
    {
     "name": "stdout",
     "output_type": "stream",
     "text": [
      "T: it_en, L: 10, Loss: 7.3125\n",
      "T: it_en, L: 11, Loss: 7.25\n",
      "T: it_en, L: 12, Loss: 6.59375\n",
      "T: it_en, L: 13, Loss: 4.34375\n",
      "T: it_en, L: 14, Loss: 4.28125\n",
      "T: it_en, L: 15, Loss: 4.625\n",
      "T: it_en, L: 16, Loss: 5.03125\n",
      "T: it_en, L: 17, Loss: 4.3125\n",
      "T: it_en, L: 18, Loss: 3.8125\n",
      "T: it_en, L: 19, Loss: 4.125\n",
      "T: it_en, L: 20, Loss: 4.25\n",
      "T: it_en, L: 21, Loss: 4.75\n",
      "T: it_en, L: 22, Loss: 5.09375\n",
      "T: it_en, L: 23, Loss: 4.84375\n",
      "T: it_en, L: 24, Loss: 4.84375\n",
      "T: it_en, L: 25, Loss: 5.1875\n",
      "T: it_en, L: 26, Loss: 5.21875\n",
      "T: it_en, L: 27, Loss: 5.375\n",
      "T: en_ru,  zero loss: 16.125\n"
     ]
    },
    {
     "data": {
      "application/vnd.jupyter.widget-view+json": {
       "model_id": "f9fc0d940823473f8f5dd9760ab9502f",
       "version_major": 2,
       "version_minor": 0
      },
      "text/plain": [
       "  0%|          | 0/18 [00:00<?, ?it/s]"
      ]
     },
     "metadata": {},
     "output_type": "display_data"
    },
    {
     "name": "stdout",
     "output_type": "stream",
     "text": [
      "T: en_ru, L: 10, Loss: 15.75\n",
      "T: en_ru, L: 11, Loss: 15.5625\n",
      "T: en_ru, L: 12, Loss: 15\n",
      "T: en_ru, L: 13, Loss: 14\n",
      "T: en_ru, L: 14, Loss: 12.6875\n",
      "T: en_ru, L: 15, Loss: 12.9375\n",
      "T: en_ru, L: 16, Loss: 13.1875\n",
      "T: en_ru, L: 17, Loss: 8.8125\n",
      "T: en_ru, L: 18, Loss: 5.8125\n",
      "T: en_ru, L: 19, Loss: 5.09375\n",
      "T: en_ru, L: 20, Loss: 7.46875\n",
      "T: en_ru, L: 21, Loss: 3.76562\n",
      "T: en_ru, L: 22, Loss: 4.125\n",
      "T: en_ru, L: 23, Loss: 4.5\n",
      "T: en_ru, L: 24, Loss: 4.21875\n",
      "T: en_ru, L: 25, Loss: 4.1875\n",
      "T: en_ru, L: 26, Loss: 5.1875\n",
      "T: en_ru, L: 27, Loss: 5.875\n",
      "T: en_fr,  zero loss: 12.625\n"
     ]
    },
    {
     "data": {
      "application/vnd.jupyter.widget-view+json": {
       "model_id": "71343699244c46cfbab481ea0ac195fd",
       "version_major": 2,
       "version_minor": 0
      },
      "text/plain": [
       "  0%|          | 0/18 [00:00<?, ?it/s]"
      ]
     },
     "metadata": {},
     "output_type": "display_data"
    },
    {
     "name": "stdout",
     "output_type": "stream",
     "text": [
      "T: en_fr, L: 10, Loss: 12.125\n",
      "T: en_fr, L: 11, Loss: 12\n",
      "T: en_fr, L: 12, Loss: 11.4375\n",
      "T: en_fr, L: 13, Loss: 9.8125\n",
      "T: en_fr, L: 14, Loss: 8.9375\n",
      "T: en_fr, L: 15, Loss: 9.125\n",
      "T: en_fr, L: 16, Loss: 9.1875\n",
      "T: en_fr, L: 17, Loss: 6.71875\n",
      "T: en_fr, L: 18, Loss: 5.6875\n",
      "T: en_fr, L: 19, Loss: 6.0625\n",
      "T: en_fr, L: 20, Loss: 7.375\n",
      "T: en_fr, L: 21, Loss: 6.03125\n",
      "T: en_fr, L: 22, Loss: 5.90625\n",
      "T: en_fr, L: 23, Loss: 6.4375\n",
      "T: en_fr, L: 24, Loss: 6.78125\n",
      "T: en_fr, L: 25, Loss: 6.71875\n",
      "T: en_fr, L: 26, Loss: 7.375\n",
      "T: en_fr, L: 27, Loss: 7.6875\n",
      "T: en_es,  zero loss: 14.625\n"
     ]
    },
    {
     "data": {
      "application/vnd.jupyter.widget-view+json": {
       "model_id": "8cd6db1c245e48bfbffbc91dd30934eb",
       "version_major": 2,
       "version_minor": 0
      },
      "text/plain": [
       "  0%|          | 0/18 [00:00<?, ?it/s]"
      ]
     },
     "metadata": {},
     "output_type": "display_data"
    },
    {
     "name": "stdout",
     "output_type": "stream",
     "text": [
      "T: en_es, L: 10, Loss: 13.875\n",
      "T: en_es, L: 11, Loss: 14\n",
      "T: en_es, L: 12, Loss: 13.375\n",
      "T: en_es, L: 13, Loss: 12\n",
      "T: en_es, L: 14, Loss: 10.875\n",
      "T: en_es, L: 15, Loss: 11\n",
      "T: en_es, L: 16, Loss: 11.1875\n",
      "T: en_es, L: 17, Loss: 6\n",
      "T: en_es, L: 18, Loss: 4.65625\n",
      "T: en_es, L: 19, Loss: 5.8125\n",
      "T: en_es, L: 20, Loss: 8.125\n",
      "T: en_es, L: 21, Loss: 6.0625\n",
      "T: en_es, L: 22, Loss: 6.34375\n",
      "T: en_es, L: 23, Loss: 7.15625\n",
      "T: en_es, L: 24, Loss: 7.625\n",
      "T: en_es, L: 25, Loss: 7.46875\n",
      "T: en_es, L: 26, Loss: 8.3125\n",
      "T: en_es, L: 27, Loss: 8.8125\n",
      "T: fr_en,  zero loss: 7.3125\n"
     ]
    },
    {
     "data": {
      "application/vnd.jupyter.widget-view+json": {
       "model_id": "8bfe3da495f44711b5f7b26f82e616de",
       "version_major": 2,
       "version_minor": 0
      },
      "text/plain": [
       "  0%|          | 0/18 [00:00<?, ?it/s]"
      ]
     },
     "metadata": {},
     "output_type": "display_data"
    },
    {
     "name": "stdout",
     "output_type": "stream",
     "text": [
      "T: fr_en, L: 10, Loss: 6.1875\n",
      "T: fr_en, L: 11, Loss: 6.09375\n",
      "T: fr_en, L: 12, Loss: 5.4375\n",
      "T: fr_en, L: 13, Loss: 3.0625\n",
      "T: fr_en, L: 14, Loss: 3.29688\n",
      "T: fr_en, L: 15, Loss: 3.35938\n",
      "T: fr_en, L: 16, Loss: 3.60938\n",
      "T: fr_en, L: 17, Loss: 2.79688\n",
      "T: fr_en, L: 18, Loss: 2.45312\n",
      "T: fr_en, L: 19, Loss: 2.85938\n",
      "T: fr_en, L: 20, Loss: 2.84375\n",
      "T: fr_en, L: 21, Loss: 3.3125\n",
      "T: fr_en, L: 22, Loss: 3.6875\n",
      "T: fr_en, L: 23, Loss: 3.60938\n",
      "T: fr_en, L: 24, Loss: 3.875\n",
      "T: fr_en, L: 25, Loss: 4.0625\n",
      "T: fr_en, L: 26, Loss: 4.15625\n",
      "T: fr_en, L: 27, Loss: 4.3125\n",
      "T: es_en,  zero loss: 8.5\n"
     ]
    },
    {
     "data": {
      "application/vnd.jupyter.widget-view+json": {
       "model_id": "190f050b26d747bcb9f57fb66aef3f6f",
       "version_major": 2,
       "version_minor": 0
      },
      "text/plain": [
       "  0%|          | 0/18 [00:00<?, ?it/s]"
      ]
     },
     "metadata": {},
     "output_type": "display_data"
    },
    {
     "name": "stdout",
     "output_type": "stream",
     "text": [
      "T: es_en, L: 10, Loss: 7.46875\n",
      "T: es_en, L: 11, Loss: 7.21875\n",
      "T: es_en, L: 12, Loss: 6.25\n",
      "T: es_en, L: 13, Loss: 3.17188\n",
      "T: es_en, L: 14, Loss: 3.32812\n",
      "T: es_en, L: 15, Loss: 4.09375\n",
      "T: es_en, L: 16, Loss: 4.53125\n",
      "T: es_en, L: 17, Loss: 2.70312\n",
      "T: es_en, L: 18, Loss: 1.71094\n",
      "T: es_en, L: 19, Loss: 1.92969\n",
      "T: es_en, L: 20, Loss: 1.34375\n",
      "T: es_en, L: 21, Loss: 1.96094\n",
      "T: es_en, L: 22, Loss: 2.03125\n",
      "T: es_en, L: 23, Loss: 2.32812\n",
      "T: es_en, L: 24, Loss: 2.76562\n",
      "T: es_en, L: 25, Loss: 3.09375\n",
      "T: es_en, L: 26, Loss: 3.21875\n",
      "T: es_en, L: 27, Loss: 3.5\n",
      "T: en_de,  zero loss: 12.125\n"
     ]
    },
    {
     "data": {
      "application/vnd.jupyter.widget-view+json": {
       "model_id": "8ec0057d1769424ca3d42568b9a3a0d2",
       "version_major": 2,
       "version_minor": 0
      },
      "text/plain": [
       "  0%|          | 0/18 [00:00<?, ?it/s]"
      ]
     },
     "metadata": {},
     "output_type": "display_data"
    },
    {
     "name": "stdout",
     "output_type": "stream",
     "text": [
      "T: en_de, L: 10, Loss: 11.3125\n",
      "T: en_de, L: 11, Loss: 11\n",
      "T: en_de, L: 12, Loss: 10.5\n",
      "T: en_de, L: 13, Loss: 9.5\n",
      "T: en_de, L: 14, Loss: 8.5625\n",
      "T: en_de, L: 15, Loss: 8.9375\n",
      "T: en_de, L: 16, Loss: 9.0625\n",
      "T: en_de, L: 17, Loss: 7.4375\n",
      "T: en_de, L: 18, Loss: 6.9375\n",
      "T: en_de, L: 19, Loss: 7.1875\n",
      "T: en_de, L: 20, Loss: 8.125\n",
      "T: en_de, L: 21, Loss: 7.53125\n",
      "T: en_de, L: 22, Loss: 7.40625\n",
      "T: en_de, L: 23, Loss: 7.6875\n",
      "T: en_de, L: 24, Loss: 8\n",
      "T: en_de, L: 25, Loss: 7.8125\n",
      "T: en_de, L: 26, Loss: 8.3125\n",
      "T: en_de, L: 27, Loss: 8.5\n",
      "T: algo_max,  zero loss: 3.0625\n"
     ]
    },
    {
     "data": {
      "application/vnd.jupyter.widget-view+json": {
       "model_id": "507292a3572646f196ed5dacd9a4940d",
       "version_major": 2,
       "version_minor": 0
      },
      "text/plain": [
       "  0%|          | 0/18 [00:00<?, ?it/s]"
      ]
     },
     "metadata": {},
     "output_type": "display_data"
    },
    {
     "name": "stdout",
     "output_type": "stream",
     "text": [
      "T: algo_max, L: 10, Loss: 3.85938\n",
      "T: algo_max, L: 11, Loss: 3.15625\n",
      "T: algo_max, L: 12, Loss: 3.65625\n",
      "T: algo_max, L: 13, Loss: 3.92188\n",
      "T: algo_max, L: 14, Loss: 3.23438\n",
      "T: algo_max, L: 15, Loss: 3.14062\n",
      "T: algo_max, L: 16, Loss: 3.03125\n",
      "T: algo_max, L: 17, Loss: 2.76562\n",
      "T: algo_max, L: 18, Loss: 2.89062\n",
      "T: algo_max, L: 19, Loss: 2.90625\n",
      "T: algo_max, L: 20, Loss: 2.95312\n",
      "T: algo_max, L: 21, Loss: 2.89062\n",
      "T: algo_max, L: 22, Loss: 2.78125\n",
      "T: algo_max, L: 23, Loss: 2.8125\n",
      "T: algo_max, L: 24, Loss: 2.73438\n",
      "T: algo_max, L: 25, Loss: 2.75\n",
      "T: algo_max, L: 26, Loss: 2.75\n",
      "T: algo_max, L: 27, Loss: 2.76562\n",
      "T: algo_min,  zero loss: 3\n"
     ]
    },
    {
     "data": {
      "application/vnd.jupyter.widget-view+json": {
       "model_id": "cc8db657658440079c17ad6c561b2179",
       "version_major": 2,
       "version_minor": 0
      },
      "text/plain": [
       "  0%|          | 0/18 [00:00<?, ?it/s]"
      ]
     },
     "metadata": {},
     "output_type": "display_data"
    },
    {
     "name": "stdout",
     "output_type": "stream",
     "text": [
      "T: algo_min, L: 10, Loss: 4.03125\n",
      "T: algo_min, L: 11, Loss: 3.23438\n",
      "T: algo_min, L: 12, Loss: 2.64062\n",
      "T: algo_min, L: 13, Loss: 2.5\n",
      "T: algo_min, L: 14, Loss: 2.5625\n",
      "T: algo_min, L: 15, Loss: 2.71875\n",
      "T: algo_min, L: 16, Loss: 2.82812\n",
      "T: algo_min, L: 17, Loss: 2.65625\n",
      "T: algo_min, L: 18, Loss: 2.73438\n",
      "T: algo_min, L: 19, Loss: 2.71875\n",
      "T: algo_min, L: 20, Loss: 2.78125\n",
      "T: algo_min, L: 21, Loss: 2.79688\n",
      "T: algo_min, L: 22, Loss: 2.8125\n",
      "T: algo_min, L: 23, Loss: 3\n",
      "T: algo_min, L: 24, Loss: 2.89062\n",
      "T: algo_min, L: 25, Loss: 2.84375\n",
      "T: algo_min, L: 26, Loss: 2.79688\n",
      "T: algo_min, L: 27, Loss: 2.79688\n",
      "T: algo_last,  zero loss: 3.39062\n"
     ]
    },
    {
     "data": {
      "application/vnd.jupyter.widget-view+json": {
       "model_id": "8548e454b5cf47f0b2e358a5dbd4945d",
       "version_major": 2,
       "version_minor": 0
      },
      "text/plain": [
       "  0%|          | 0/18 [00:00<?, ?it/s]"
      ]
     },
     "metadata": {},
     "output_type": "display_data"
    },
    {
     "name": "stdout",
     "output_type": "stream",
     "text": [
      "T: algo_last, L: 10, Loss: 4.0625\n",
      "T: algo_last, L: 11, Loss: 3.45312\n",
      "T: algo_last, L: 12, Loss: 3.15625\n",
      "T: algo_last, L: 13, Loss: 3.40625\n",
      "T: algo_last, L: 14, Loss: 2.78125\n",
      "T: algo_last, L: 15, Loss: 2.92188\n",
      "T: algo_last, L: 16, Loss: 2.90625\n",
      "T: algo_last, L: 17, Loss: 2.53125\n",
      "T: algo_last, L: 18, Loss: 2.79688\n",
      "T: algo_last, L: 19, Loss: 2.84375\n",
      "T: algo_last, L: 20, Loss: 2.95312\n",
      "T: algo_last, L: 21, Loss: 2.90625\n",
      "T: algo_last, L: 22, Loss: 2.85938\n",
      "T: algo_last, L: 23, Loss: 3\n",
      "T: algo_last, L: 24, Loss: 2.92188\n",
      "T: algo_last, L: 25, Loss: 2.95312\n",
      "T: algo_last, L: 26, Loss: 2.9375\n",
      "T: algo_last, L: 27, Loss: 2.95312\n",
      "T: algo_first,  zero loss: 3.20312\n"
     ]
    },
    {
     "data": {
      "application/vnd.jupyter.widget-view+json": {
       "model_id": "caf7053c1f4c40679b532f1484587f4b",
       "version_major": 2,
       "version_minor": 0
      },
      "text/plain": [
       "  0%|          | 0/18 [00:00<?, ?it/s]"
      ]
     },
     "metadata": {},
     "output_type": "display_data"
    },
    {
     "name": "stdout",
     "output_type": "stream",
     "text": [
      "T: algo_first, L: 10, Loss: 3.92188\n",
      "T: algo_first, L: 11, Loss: 3.65625\n",
      "T: algo_first, L: 12, Loss: 3.98438\n",
      "T: algo_first, L: 13, Loss: 3.8125\n",
      "T: algo_first, L: 14, Loss: 3.57812\n",
      "T: algo_first, L: 15, Loss: 3.10938\n",
      "T: algo_first, L: 16, Loss: 3.25\n",
      "T: algo_first, L: 17, Loss: 2.92188\n",
      "T: algo_first, L: 18, Loss: 2.57812\n",
      "T: algo_first, L: 19, Loss: 2.76562\n",
      "T: algo_first, L: 20, Loss: 2.8125\n",
      "T: algo_first, L: 21, Loss: 2.8125\n",
      "T: algo_first, L: 22, Loss: 2.82812\n",
      "T: algo_first, L: 23, Loss: 3.09375\n",
      "T: algo_first, L: 24, Loss: 3.07812\n",
      "T: algo_first, L: 25, Loss: 2.98438\n",
      "T: algo_first, L: 26, Loss: 2.98438\n",
      "T: algo_first, L: 27, Loss: 2.98438\n",
      "T: algo_sum,  zero loss: 5.25\n"
     ]
    },
    {
     "data": {
      "application/vnd.jupyter.widget-view+json": {
       "model_id": "07b31af203df4656a983c374a7174e78",
       "version_major": 2,
       "version_minor": 0
      },
      "text/plain": [
       "  0%|          | 0/18 [00:00<?, ?it/s]"
      ]
     },
     "metadata": {},
     "output_type": "display_data"
    },
    {
     "name": "stdout",
     "output_type": "stream",
     "text": [
      "T: algo_sum, L: 10, Loss: 5.4375\n",
      "T: algo_sum, L: 11, Loss: 4.9375\n",
      "T: algo_sum, L: 12, Loss: 4.84375\n",
      "T: algo_sum, L: 13, Loss: 4.84375\n",
      "T: algo_sum, L: 14, Loss: 4.71875\n",
      "T: algo_sum, L: 15, Loss: 4.84375\n",
      "T: algo_sum, L: 16, Loss: 4.71875\n",
      "T: algo_sum, L: 17, Loss: 4.78125\n",
      "T: algo_sum, L: 18, Loss: 4.78125\n",
      "T: algo_sum, L: 19, Loss: 4.875\n",
      "T: algo_sum, L: 20, Loss: 4.8125\n",
      "T: algo_sum, L: 21, Loss: 4.84375\n",
      "T: algo_sum, L: 22, Loss: 4.96875\n",
      "T: algo_sum, L: 23, Loss: 5.03125\n",
      "T: algo_sum, L: 24, Loss: 5.03125\n",
      "T: algo_sum, L: 25, Loss: 5\n",
      "T: algo_sum, L: 26, Loss: 5.0625\n",
      "T: algo_sum, L: 27, Loss: 5.0625\n",
      "T: algo_most_common,  zero loss: 2.92188\n"
     ]
    },
    {
     "data": {
      "application/vnd.jupyter.widget-view+json": {
       "model_id": "93914c2f42364ffe9b8753c211ca47b6",
       "version_major": 2,
       "version_minor": 0
      },
      "text/plain": [
       "  0%|          | 0/18 [00:00<?, ?it/s]"
      ]
     },
     "metadata": {},
     "output_type": "display_data"
    },
    {
     "name": "stdout",
     "output_type": "stream",
     "text": [
      "T: algo_most_common, L: 10, Loss: 3.71875\n",
      "T: algo_most_common, L: 11, Loss: 2.95312\n",
      "T: algo_most_common, L: 12, Loss: 2.67188\n",
      "T: algo_most_common, L: 13, Loss: 2.78125\n",
      "T: algo_most_common, L: 14, Loss: 2.79688\n",
      "T: algo_most_common, L: 15, Loss: 2.89062\n",
      "T: algo_most_common, L: 16, Loss: 2.9375\n",
      "T: algo_most_common, L: 17, Loss: 2.70312\n",
      "T: algo_most_common, L: 18, Loss: 2.79688\n",
      "T: algo_most_common, L: 19, Loss: 2.79688\n",
      "T: algo_most_common, L: 20, Loss: 2.84375\n",
      "T: algo_most_common, L: 21, Loss: 2.95312\n",
      "T: algo_most_common, L: 22, Loss: 2.95312\n",
      "T: algo_most_common, L: 23, Loss: 3.0625\n",
      "T: algo_most_common, L: 24, Loss: 2.98438\n",
      "T: algo_most_common, L: 25, Loss: 2.96875\n",
      "T: algo_most_common, L: 26, Loss: 2.92188\n",
      "T: algo_most_common, L: 27, Loss: 2.9375\n"
     ]
    }
   ],
   "source": [
    "\n",
    "results = {}\n",
    "\n",
    "task_names = [\n",
    "    x for x in tasks.keys()\n",
    "]\n",
    "\n",
    "for task in tqdm(task_names):\n",
    "    results[task] = []\n",
    "\n",
    "    pairs = list(tasks[task].items())\n",
    "\n",
    "    runner = ICLRunner(task, pairs, batch_size=batch_size, n_shot=n_few_shots-1, max_seq_len=max_seq_len, seed=10)\n",
    "\n",
    "    tokenized = runner.get_tokens(runner.train_pairs, tokenizer)\n",
    "    inputs = tokenized_to_inputs(**tokenized)\n",
    "    train_tokens = tokenized[\"input_ids\"]\n",
    "\n",
    "    _, resids = get_resids_call(inputs)\n",
    "    \n",
    "    tokenized = runner.get_tokens(runner.eval_pairs, tokenizer)\n",
    "    inputs = tokenized_to_inputs(**tokenized)\n",
    "    tokens = tokenized[\"input_ids\"]\n",
    "\n",
    "    logits = llama(inputs)\n",
    "    \n",
    "\n",
    "    loss = logprob_loss(\n",
    "        logits.unwrap(\"batch\", \"seq\", \"vocabulary\"), tokens, shift=1 if task.startswith(\"algo\") else 0, n_first=2\n",
    "    )\n",
    "\n",
    "    print(\n",
    "        f\"T: {task},  zero loss: {loss}\"\n",
    "    )\n",
    "\n",
    "    results[task].append(loss)\n",
    "\n",
    "    for layer in trange(10, 28):\n",
    "        \n",
    "        # tv = get_tv(resids[layer].value.unwrap(\"batch\", \"seq\", \"embedding\"), train_tokens, shift = 1 if task.startswith(\"algo\") else 0)\n",
    "        tv = get_tv(resids[layer].value.unwrap(\"batch\", \"seq\", \"embedding\"), train_tokens, shift = 0)\n",
    "        tv = tv.astype('bfloat16')\n",
    "\n",
    "        add_act = make_act_adder(llama, tv, tokens, layer, length=1, shift= 0)\n",
    "\n",
    "        logits = add_act(inputs)\n",
    "\n",
    "        loss = logprob_loss(\n",
    "            logits.unwrap(\"batch\", \"seq\", \"vocabulary\"), tokens, shift=1 if task.startswith(\"algo\") else 0, n_first=2\n",
    "        )\n",
    "\n",
    "        print(\n",
    "            f\"T: {task}, L: {layer}, Loss: {loss}\"  \n",
    "        )\n",
    "\n",
    "        results[task].append(loss)\n",
    "        \n",
    "        "
   ]
  },
  {
   "cell_type": "code",
   "execution_count": 16,
   "metadata": {},
   "outputs": [
    {
     "data": {
      "application/vnd.jupyter.widget-view+json": {
       "model_id": "a379ca9603554dd391d8b37f6bf8c11c",
       "version_major": 2,
       "version_minor": 0
      },
      "text/plain": [
       "  0%|          | 0/14 [00:00<?, ?it/s]"
      ]
     },
     "metadata": {},
     "output_type": "display_data"
    },
    {
     "name": "stdout",
     "output_type": "stream",
     "text": [
      "T: en_es,  zero loss: 14.625\n",
      "T: en_es, L: 18, Loss: 4.65625\n",
      "T: en_fr,  zero loss: 12.625\n",
      "T: en_fr, L: 18, Loss: 5.6875\n",
      "T: en_it,  zero loss: 15.375\n",
      "T: en_it, L: 18, Loss: 3.0625\n",
      "T: en_de,  zero loss: 12.125\n",
      "T: en_de, L: 18, Loss: 6.9375\n",
      "T: en_ru,  zero loss: 16.125\n",
      "T: en_ru, L: 18, Loss: 5.8125\n",
      "T: es_en,  zero loss: 8.5\n",
      "T: es_en, L: 18, Loss: 1.71094\n",
      "T: fr_en,  zero loss: 7.3125\n",
      "T: fr_en, L: 18, Loss: 2.45312\n",
      "T: it_en,  zero loss: 8.0625\n",
      "T: it_en, L: 20, Loss: 4.25\n",
      "T: antonyms,  zero loss: 5.96875\n",
      "T: antonyms, L: 18, Loss: 2.29688\n",
      "T: plural_singular,  zero loss: 2.53125\n",
      "T: plural_singular, L: 18, Loss: 1.53906\n",
      "T: present_simple_past_simple,  zero loss: 2.48438\n",
      "T: present_simple_past_simple, L: 20, Loss: 0.773438\n",
      "T: country_capital,  zero loss: 6.40625\n",
      "T: country_capital, L: 18, Loss: 3.73438\n",
      "T: algo_first,  zero loss: 3.20312\n",
      "T: algo_first, L: 18, Loss: 2.57812\n",
      "T: location_country,  zero loss: 5.625\n",
      "T: location_country, L: 21, Loss: 3.67188\n"
     ]
    }
   ],
   "source": [
    "\n",
    "tvs = {}\n",
    "\n",
    "task_names = [\n",
    "    (\"en_es\", 18),\n",
    "    (\"en_fr\", 18),\n",
    "    (\"en_it\", 18),\n",
    "    (\"en_de\", 18),\n",
    "    (\"en_ru\", 18),\n",
    "    (\"es_en\", 18),\n",
    "    (\"fr_en\", 18),\n",
    "    (\"it_en\", 20),\n",
    "    (\"antonyms\", 18),\n",
    "    (\"plural_singular\", 18),\n",
    "    (\"present_simple_past_simple\", 20),\n",
    "    (\"country_capital\", 18),\n",
    "    (\"algo_first\", 18),\n",
    "    (\"location_country\", 21)\n",
    "]\n",
    "\n",
    "\n",
    "for task, layer in tqdm(task_names):\n",
    "\n",
    "    pairs = list(tasks[task].items())\n",
    "\n",
    "    runner = ICLRunner(task, pairs, batch_size=batch_size, n_shot=n_few_shots-1, max_seq_len=max_seq_len, seed=10)\n",
    "\n",
    "    tokenized = runner.get_tokens(runner.train_pairs, tokenizer)\n",
    "    inputs = tokenized_to_inputs(**tokenized)\n",
    "    train_tokens = tokenized[\"input_ids\"]\n",
    "\n",
    "    _, resids = get_resids_call(inputs)\n",
    "    \n",
    "    tokenized = runner.get_tokens(runner.eval_pairs, tokenizer)\n",
    "    inputs = tokenized_to_inputs(**tokenized)\n",
    "    tokens = tokenized[\"input_ids\"]\n",
    "\n",
    "    logits = llama(inputs)\n",
    "    \n",
    "\n",
    "    loss = logprob_loss(\n",
    "        logits.unwrap(\"batch\", \"seq\", \"vocabulary\"), tokens, shift=1 if task.startswith(\"algo\") else 0, n_first=2\n",
    "    )\n",
    "\n",
    "    print(\n",
    "        f\"T: {task},  zero loss: {loss}\"\n",
    "    )\n",
    "        \n",
    "    # tv = get_tv(resids[layer].value.unwrap(\"batch\", \"seq\", \"embedding\"), train_tokens, shift = 1 if task.startswith(\"algo\") else 0)\n",
    "    tv = get_tv(resids[layer].value.unwrap(\"batch\", \"seq\", \"embedding\"), train_tokens, shift = 0)\n",
    "    tv = tv.astype('bfloat16')\n",
    "\n",
    "    add_act = make_act_adder(llama, tv, tokens, layer, length=1, shift= 0)\n",
    "\n",
    "    logits = add_act(inputs)\n",
    "\n",
    "    loss = logprob_loss(\n",
    "        logits.unwrap(\"batch\", \"seq\", \"vocabulary\"), tokens, shift=1 if task.startswith(\"algo\") else 0, n_first=2\n",
    "    )\n",
    "\n",
    "    print(\n",
    "        f\"T: {task}, L: {layer}, Loss: {loss}\"  \n",
    "    )\n",
    "\n",
    "    tvs[task] = tv"
   ]
  },
  {
   "cell_type": "code",
   "execution_count": 19,
   "metadata": {},
   "outputs": [],
   "source": [
    "from micrlhf.utils.vector_storage import save_and_upload_vector\n",
    "\n",
    "for task, layer in task_names:\n",
    "    tv = tvs[task]\n",
    "    save_and_upload_vector(f\"task_vectors/{task}:{layer}.npz\", tv)"
   ]
  },
  {
   "cell_type": "code",
   "execution_count": 297,
   "metadata": {},
   "outputs": [
    {
     "name": "stdout",
     "output_type": "stream",
     "text": [
      "location_continent: w/o: 7.96875, w/: 1.91406, layer: 25\n",
      "football_player_position: w/o: 13.125, w/: 4.375, layer: 22\n",
      "location_religion: w/o: 7.875, w/: 1.55469, layer: 27\n",
      "location_language: w/o: 7.9375, w/: 1.82812, layer: 21\n",
      "person_profession: w/o: 11.3125, w/: 3.53125, layer: 24\n",
      "location_country: w/o: 5.625, w/: 3.67188, layer: 21\n",
      "country_capital: w/o: 6.40625, w/: 3.73438, layer: 18\n",
      "person_language: w/o: 7.4375, w/: 1.28906, layer: 21\n",
      "singular_plural: w/o: 1.96875, w/: 0.910156, layer: 21\n",
      "present_simple_past_simple: w/o: 2.48438, w/: 0.773438, layer: 20\n",
      "antonyms: w/o: 5.96875, w/: 2.29688, layer: 18\n",
      "plural_singular: w/o: 2.53125, w/: 1.53906, layer: 18\n",
      "present_simple_past_perfect: w/o: 4.65625, w/: 2.375, layer: 21\n",
      "present_simple_gerund: w/o: 3.51562, w/: 1.17188, layer: 21\n",
      "en_it: w/o: 15.375, w/: 3.0625, layer: 18\n",
      "it_en: w/o: 8.0625, w/: 3.8125, layer: 18\n",
      "en_ru: w/o: 16.125, w/: 3.76562, layer: 21\n",
      "en_fr: w/o: 12.625, w/: 5.6875, layer: 18\n",
      "en_es: w/o: 14.625, w/: 4.65625, layer: 18\n",
      "fr_en: w/o: 7.3125, w/: 2.45312, layer: 18\n",
      "es_en: w/o: 8.5, w/: 1.34375, layer: 20\n",
      "en_de: w/o: 12.125, w/: 6.9375, layer: 18\n",
      "algo_max: w/o: 3.0625, w/: 2.73438, layer: 24\n",
      "algo_min: w/o: 3, w/: 2.5, layer: 13\n",
      "algo_last: w/o: 3.39062, w/: 2.53125, layer: 17\n",
      "algo_first: w/o: 3.20312, w/: 2.57812, layer: 18\n",
      "algo_sum: w/o: 5.25, w/: 4.71875, layer: 14\n",
      "algo_most_common: w/o: 2.92188, w/: 2.67188, layer: 12\n"
     ]
    }
   ],
   "source": [
    "for task, r in results.items():\n",
    "    print(f\"{task}: w/o: {r[0]}, w/: {min(r[1:])}, layer: {r.index(min(r[1:])) + 9}\")"
   ]
  },
  {
   "cell_type": "code",
   "execution_count": 282,
   "metadata": {},
   "outputs": [
    {
     "data": {
      "application/vnd.jupyter.widget-view+json": {
       "model_id": "4a3bd9dd9fb2407994a35b485478da86",
       "version_major": 2,
       "version_minor": 0
      },
      "text/plain": [
       "  0%|          | 0/6 [00:00<?, ?it/s]"
      ]
     },
     "metadata": {},
     "output_type": "display_data"
    },
    {
     "name": "stdout",
     "output_type": "stream",
     "text": [
      "T: algo_max,  Loss: 3.0625\n",
      "T: algo_min,  Loss: 3\n",
      "T: algo_last,  Loss: 3.39062\n",
      "T: algo_first,  Loss: 3.20312\n",
      "T: algo_sum,  Loss: 5.25\n",
      "T: algo_most_common,  Loss: 2.92188\n"
     ]
    }
   ],
   "source": [
    "for task in tqdm(task_names):\n",
    "    # results[task] = []\n",
    "\n",
    "    pairs = list(tasks[task].items())\n",
    "\n",
    "    runner = ICLRunner(task, pairs, batch_size=batch_size, n_shot=n_few_shots-1, max_seq_len=max_seq_len, seed=10)\n",
    "\n",
    "    tokenized = runner.get_tokens(runner.eval_pairs, tokenizer)\n",
    "    inputs = tokenized_to_inputs(**tokenized)\n",
    "    tokens = tokenized[\"input_ids\"]\n",
    "    logits = llama(inputs)\n",
    "    \n",
    "\n",
    "    loss = logprob_loss(\n",
    "        logits.unwrap(\"batch\", \"seq\", \"vocabulary\"), tokens, shift=1 if task.startswith(\"algo\") else 0, n_first=2\n",
    "    )\n",
    "\n",
    "    print(\n",
    "        f\"T: {task},  Loss: {loss}\"\n",
    "    )"
   ]
  },
  {
   "cell_type": "code",
   "execution_count": 283,
   "metadata": {},
   "outputs": [
    {
     "data": {
      "application/vnd.jupyter.widget-view+json": {
       "model_id": "b1fe1306429445d3a7a9c6e87dcc5cad",
       "version_major": 2,
       "version_minor": 0
      },
      "text/plain": [
       "  0%|          | 0/6 [00:00<?, ?it/s]"
      ]
     },
     "metadata": {},
     "output_type": "display_data"
    },
    {
     "name": "stdout",
     "output_type": "stream",
     "text": [
      "T: algo_max,  Loss: 1.82031\n",
      "T: algo_min,  Loss: 2.45312\n",
      "T: algo_last,  Loss: 0.0549316\n",
      "T: algo_first,  Loss: 1.6875\n",
      "T: algo_sum,  Loss: 4.09375\n",
      "T: algo_most_common,  Loss: 3.04688\n"
     ]
    }
   ],
   "source": [
    "for task in tqdm(task_names):\n",
    "    # results[task] = []\n",
    "\n",
    "    pairs = list(tasks[task].items())\n",
    "\n",
    "    runner = ICLRunner(task, pairs, batch_size=batch_size, n_shot=n_few_shots-1, max_seq_len=max_seq_len, seed=10)\n",
    "\n",
    "    tokenized = runner.get_tokens(runner.train_pairs, tokenizer)\n",
    "    inputs = tokenized_to_inputs(**tokenized)\n",
    "    tokens = tokenized[\"input_ids\"]\n",
    "    logits = llama(inputs)\n",
    "    \n",
    "\n",
    "    loss = logprob_loss(\n",
    "        logits.unwrap(\"batch\", \"seq\", \"vocabulary\"), tokens, shift=1 if task.startswith(\"algo\") else 0, n_first=2\n",
    "    )\n",
    "\n",
    "    print(\n",
    "        f\"T: {task},  Loss: {loss}\"\n",
    "    )"
   ]
  },
  {
   "cell_type": "code",
   "execution_count": null,
   "metadata": {},
   "outputs": [],
   "source": []
  },
  {
   "cell_type": "code",
   "execution_count": 263,
   "metadata": {},
   "outputs": [
    {
     "data": {
      "text/html": [
       "<div id=\"output_9d81a6ba35b448b383d8710c48163516\"><script> /* penzai.treescope rendering of a Python object (compressed) */ (()=>{ let observer; let lastStep = new Promise((resolve, reject) => { observer = new IntersectionObserver((entries) => { for (const entry of entries) { if (entry.isIntersecting) { resolve(); observer.disconnect(); return; } } }, {rootMargin: \"1000px\"}); }); window.treescope_decompress_enqueue = (encoded, destId) => { const previous = lastStep; const destElt = document.getElementById(destId); lastStep = (async () => { await previous; let blob = new Blob([ Uint8Array.from(atob(encoded), (m) => m.codePointAt(0)) ]); let reader = blob.stream().pipeThrough( new DecompressionStream(\"deflate\") ).pipeThrough( new TextDecoderStream(\"utf-8\") ).getReader(); let parts = []; while (true) { let step = await reader.read(); if (step.done) { break; } parts.push(step.value); } let newElt = document.createElement(\"div\"); newElt.innerHTML = parts.join(\"\"); destElt.parentNode.replaceChild(newElt, destElt); for (let oldScript of newElt.querySelectorAll(\"script\")) { let newScript = document.createElement(\"script\"); newScript.type = oldScript.type; newScript.textContent = oldScript.textContent; oldScript.parentNode.replaceChild(newScript, oldScript); } })(); requestAnimationFrame(() => { observer.observe(destElt); }); } })(); </script><div id=\"compress_html_62a715b639f54218bf8656394c690437\"><script>window.treescope_decompress_enqueue(\"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\", \"compress_html_62a715b639f54218bf8656394c690437\");</script><span style=\"color: #aaaaaa; font-family: monospace\">(Loading...)</span></div></div>"
      ],
      "text/plain": [
       "<IPython.core.display.HTML object>"
      ]
     },
     "metadata": {},
     "output_type": "display_data"
    },
    {
     "data": {
      "text/html": [
       "<div id=\"output_dest_9d81a6ba35b448b383d8710c48163516\"><script> (()=>{ const output = document.getElementById(\"output_9d81a6ba35b448b383d8710c48163516\"); const dest = document.getElementById(\"output_dest_9d81a6ba35b448b383d8710c48163516\"); dest.parentNode.replaceChild(output, dest); })(); </script></div>"
      ],
      "text/plain": [
       "'<|user|>\\nFollow the pattern:\\nmovement -> movimiento\\nnow -> ahora\\nthrow -> lanzar\\nact -> actuar\\ninteresting -> interesante\\nor -> o\\nreason -> razón\\ndaughter -> hija\\nwindow -> ventana\\nsense -> sentido\\nmain -> principal\\nwar -> guerra\\nthen -> entonces\\nhot -> caliente\\ndifficult -> difícil\\nreach -> alcanzar\\nstate -> expresar\\nmoment -> momento\\nreturn -> regreso'"
      ]
     },
     "execution_count": 263,
     "metadata": {},
     "output_type": "execute_result"
    }
   ],
   "source": [
    "runner.get_prompt(runner.train_pairs[0])"
   ]
  },
  {
   "cell_type": "code",
   "execution_count": 264,
   "metadata": {},
   "outputs": [],
   "source": [
    "tokenized = runner.get_tokens(runner.train_pairs, tokenizer)\n",
    "inputs = tokenized_to_inputs(**tokenized)\n",
    "tokens = tokenized[\"input_ids\"]\n",
    "\n",
    "logits, resids = get_resids_call(inputs)\n",
    "\n",
    "\n",
    "tv = get_tv(resids[layer].value.unwrap(\"batch\", \"seq\", \"embedding\"), tokens, shift = 1 if task.startswith(\"algo\") else 0)"
   ]
  },
  {
   "cell_type": "code",
   "execution_count": 265,
   "metadata": {},
   "outputs": [
    {
     "data": {
      "text/html": [
       "<div id=\"output_181b9b7317cf4491ada0277cf89c0ba4\"><script> /* penzai.treescope rendering of a Python object (compressed) */ (()=>{ let observer; let lastStep = new Promise((resolve, reject) => { observer = new IntersectionObserver((entries) => { for (const entry of entries) { if (entry.isIntersecting) { resolve(); observer.disconnect(); return; } } }, {rootMargin: \"1000px\"}); }); window.treescope_decompress_enqueue = (encoded, destId) => { const previous = lastStep; const destElt = document.getElementById(destId); lastStep = (async () => { await previous; let blob = new Blob([ Uint8Array.from(atob(encoded), (m) => m.codePointAt(0)) ]); let reader = blob.stream().pipeThrough( new DecompressionStream(\"deflate\") ).pipeThrough( new TextDecoderStream(\"utf-8\") ).getReader(); let parts = []; while (true) { let step = await reader.read(); if (step.done) { break; } parts.push(step.value); } let newElt = document.createElement(\"div\"); newElt.innerHTML = parts.join(\"\"); destElt.parentNode.replaceChild(newElt, destElt); for (let oldScript of newElt.querySelectorAll(\"script\")) { let newScript = document.createElement(\"script\"); newScript.type = oldScript.type; newScript.textContent = oldScript.textContent; oldScript.parentNode.replaceChild(newScript, oldScript); } })(); requestAnimationFrame(() => { observer.observe(destElt); }); } })(); </script><div id=\"compress_html_85fbaac507474cd295dced2a707a332e\"><script>window.treescope_decompress_enqueue(\"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\", \"compress_html_85fbaac507474cd295dced2a707a332e\");</script><span style=\"color: #aaaaaa; font-family: monospace\">(Loading...)</span></div></div>"
      ],
      "text/plain": [
       "<IPython.core.display.HTML object>"
      ]
     },
     "metadata": {},
     "output_type": "display_data"
    },
    {
     "data": {
      "text/html": [
       "<div id=\"compress_html_ba3c3a71a7d248e6af291c0e4fb1563e\"><script>window.treescope_decompress_enqueue(\"eNrtWG1v2zYQ/iuEgtVSG6tyYjt+iQ1s6Qb0Sz8MA/ahKARKpC3ONKlRtJO06H/fkZQly3YcN0tTDFgC2JZ47/fw7shrwtao0PecTjzCipzj+xESUlAPMTLxZlLFhM6oUpTEg4ukj1N8kV5d9rrDq1kyiPCwN4guu71Brx8l3vS6yLGATyNvGiZSa7nkTNCRkNoPZ5ITnHAaC0noKMOFP+U4oXzaXIm1nM+54xmlGU0XlAQBeh2gLyjHhDAxb2uZj1AUdnp0OUZGQzujbJ7pEeqE9t3XMJUcjMdJougaOO3jCJ31Bxc4imqCVC6XVOj4NqMipndgP6Hk2ezdaMX2r9YqVsuEqi2CaDjo9Po1QaEV+Lkt4bLT6/QqAkiHcbsmSDhOF2OUwOdcyZUg7XJhjZXfbidcpgv3KgAqqQhVLoqd/A4VkjNyjNKl8jHiryjM7nOqwLJFrOhSahpncg2O7hq9b6Zc8DTzB92fTFq7PdSJhk7iLS7iIlWSc2DXMpwxVehYs3RxstRhN+wYudEQdS774dVBwTZ/R9UFewq1wqJgmkkx2lOOOgWiuKBtJtpypc/RTArdvrUw3VkzWc3SLIbdk9KY05negrp5NFjvpVmTTllJNaFyG6CiZIBkocHYNGP8+SBdVQmb+zFaYjUHN5yZKeapf5FmqG2g4uLctENR8d1MKcHqTCEAWUosYs9oZP5NUP5eYS7wksa5ojN2B0JsWgr2mZrQDVztKDQ2eiqLq7w7DWiKmiQvHtwo7KaZC+8jtr5MsF1NsFYdrAyNum39AJjyDL1Gfgfc2WYp5RZARYMgqGJQs7ZP593o3dQvy1mJ3Lxtl69fMJp1BbYRbCtM2KooHezQJXj3sGPW0n9nxKMQ/9JoEi6/Zi+d0CSOE38NQeJ3GQrqJB+bC2yjt3UaWmy+DWwz9tjQakVpkcocaqyUOqyI4yVYgo5IYMLodN3FEIG1jxKeouxBOaXJ12/dyGXnL5RyXBQTr2lmOZxtZr1GVmC8IMmg28PjQ3iDgI69puhGahArYtclpbCNEYhdCq+ZyFcaaZgJJp5NWiLvvINCyvwC61vL1NRXTxUadi7VHiJY4/aC3udYZxNvx7xGly7RhpoN1jslVuXiTs/wpjkVnzGrMwd7JwdLChh3ZphzMwmEkBI7C7uvD1L/vpGeG6f95vr12zJiW3pbRmqyAkyLFpLihsMMMmnVSjMYVSF6hipOzaKvM1YELRcb83ri+RwvE4KRgdbIfgZeDYGKcIRaByhbY1TSYAEIxG7Oad0AAzJxh9/VyN/0Zjt6u4UGNQuNd4R6j1TCjMME5jBc5mryTRAJG7yHAFPO3N701dndxdX4Z6Xwvd8JL69654hYDCczLrHu9ANH0XT6fB9QIJbjvKDEm6JDoWmcObwXSH4zCKdDYYfv6cA4ESYPJx4OpU9MOyMHk+5OYt502I36UXc47A+j6PLiv5xaRp6SWOD6gWm12+uJiTW8x/rT87ejIzcH3lEYnB3Eyl5/+QvfbfqHrUJHmsQxoHl7J6+j6970+RKwffkCBZXrsV1ArnAa/6xj7vHVXI+PQOgHbiXj2VM2k+V7ru106lbbidP5/7E8KWyNYbG+skQ7Fy3eNPi2TDRm9ke3R7UlHpo49vfI5ouwNUhPQYue+n6AJlP0JZWigEpnN+57UqAJ+uidfo/7aez4TSKA9RbqhLzdGndBaNw8tviIyHRlyqFZ/JVT8/OX+/fEr2z4GH0yJ1cneabw3JCA9IoxVRRr+q58/K2k8Cseo+eGw4EHmDb8Ic5hGCc3pn75FjepofgAJdzXamXPyjOpkM+pRgwYozF8XdeRCTkVcw1nf/bmjTlLGjq3uK3lQZ/YJ1BgeAq5Uil9x9bbHu2w2dt0D71BO/zuMYTRigPc/mQ68ytx7v6xlGLdBIZ61VyyrqlvbwTc8XFLSBUwsxwYIsCMw8kGL3uppeLvFV3RdyVW/qBLkKdp4QcV7z+9Uo9j\", \"compress_html_ba3c3a71a7d248e6af291c0e4fb1563e\");</script></div>"
      ],
      "text/plain": [
       "<IPython.core.display.HTML object>"
      ]
     },
     "metadata": {},
     "output_type": "display_data"
    },
    {
     "data": {
      "text/html": [
       "<div id=\"output_dest_181b9b7317cf4491ada0277cf89c0ba4\"><script> (()=>{ const output = document.getElementById(\"output_181b9b7317cf4491ada0277cf89c0ba4\"); const dest = document.getElementById(\"output_dest_181b9b7317cf4491ada0277cf89c0ba4\"); dest.parentNode.replaceChild(output, dest); })(); </script></div>"
      ],
      "text/plain": [
       "<jax.Array(1.375, dtype=bfloat16)>"
      ]
     },
     "execution_count": 265,
     "metadata": {},
     "output_type": "execute_result"
    }
   ],
   "source": [
    "logprob_loss(\n",
    "    logits.unwrap(\"batch\", \"seq\", \"vocabulary\"), tokens, n_first=1, shift=1 if task.startswith(\"algo\") else 0\n",
    ")"
   ]
  },
  {
   "cell_type": "code",
   "execution_count": 275,
   "metadata": {},
   "outputs": [],
   "source": [
    "from task_vector_utils import make_act_adder\n",
    "\n",
    "tokenized = runner.get_tokens(runner.eval_pairs, tokenizer)\n",
    "inputs = tokenized_to_inputs(**tokenized)\n",
    "tokens = tokenized[\"input_ids\"]\n",
    "\n",
    "add_act = make_act_adder(llama, tv * 0, tokens, layer, length=1, shift=1 if task.startswith(\"algo\") else 0)"
   ]
  },
  {
   "cell_type": "code",
   "execution_count": 276,
   "metadata": {},
   "outputs": [],
   "source": [
    "logits = add_act(inputs)"
   ]
  },
  {
   "cell_type": "code",
   "execution_count": 269,
   "metadata": {},
   "outputs": [],
   "source": [
    "positions = jnp.argwhere(tokens == 1599)[:, -1] \n",
    "\n",
    "pred = jnp.take_along_axis(logits.unwrap(\"batch\", \"seq\", \"vocabulary\"), positions[:, None, None], axis=1).squeeze().argmax(axis=-1)"
   ]
  },
  {
   "cell_type": "code",
   "execution_count": 270,
   "metadata": {},
   "outputs": [
    {
     "data": {
      "text/html": [
       "<div id=\"output_6a824514e892480b8378b8178a37f478\"><script> /* penzai.treescope rendering of a Python object (compressed) */ (()=>{ let observer; let lastStep = new Promise((resolve, reject) => { observer = new IntersectionObserver((entries) => { for (const entry of entries) { if (entry.isIntersecting) { resolve(); observer.disconnect(); return; } } }, {rootMargin: \"1000px\"}); }); window.treescope_decompress_enqueue = (encoded, destId) => { const previous = lastStep; const destElt = document.getElementById(destId); lastStep = (async () => { await previous; let blob = new Blob([ Uint8Array.from(atob(encoded), (m) => m.codePointAt(0)) ]); let reader = blob.stream().pipeThrough( new DecompressionStream(\"deflate\") ).pipeThrough( new TextDecoderStream(\"utf-8\") ).getReader(); let parts = []; while (true) { let step = await reader.read(); if (step.done) { break; } parts.push(step.value); } let newElt = document.createElement(\"div\"); newElt.innerHTML = parts.join(\"\"); destElt.parentNode.replaceChild(newElt, destElt); for (let oldScript of newElt.querySelectorAll(\"script\")) { let newScript = document.createElement(\"script\"); newScript.type = oldScript.type; newScript.textContent = oldScript.textContent; oldScript.parentNode.replaceChild(newScript, oldScript); } })(); requestAnimationFrame(() => { observer.observe(destElt); }); } })(); </script><div id=\"compress_html_db0e127f0088429e9aade648f950f4ca\"><script>window.treescope_decompress_enqueue(\"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\", \"compress_html_db0e127f0088429e9aade648f950f4ca\");</script><span style=\"color: #aaaaaa; font-family: monospace\">(Loading...)</span></div></div>"
      ],
      "text/plain": [
       "<IPython.core.display.HTML object>"
      ]
     },
     "metadata": {},
     "output_type": "display_data"
    },
    {
     "data": {
      "text/html": [
       "<div id=\"compress_html_0fe3f4978db94b33a5c47e1055d27a11\"><script>window.treescope_decompress_enqueue(\"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\", \"compress_html_0fe3f4978db94b33a5c47e1055d27a11\");</script></div>"
      ],
      "text/plain": [
       "<IPython.core.display.HTML object>"
      ]
     },
     "metadata": {},
     "output_type": "display_data"
    },
    {
     "data": {
      "text/html": [
       "<div id=\"output_dest_6a824514e892480b8378b8178a37f478\"><script> (()=>{ const output = document.getElementById(\"output_6a824514e892480b8378b8178a37f478\"); const dest = document.getElementById(\"output_dest_6a824514e892480b8378b8178a37f478\"); dest.parentNode.replaceChild(output, dest); })(); </script></div>"
      ],
      "text/plain": [
       "# jax.Array int32(16,) [≥491, ≤27_754] nonzero:16\n",
       "  Array([ 7845,  3585, 10298,  2931, 27754,   491,  7623,  2317,  4847,\n",
       "         14502,  4783,  5253,  9883,  9324,  1284,  6501], dtype=int32)\n"
      ]
     },
     "execution_count": 270,
     "metadata": {},
     "output_type": "execute_result"
    }
   ],
   "source": [
    "pred"
   ]
  },
  {
   "cell_type": "code",
   "execution_count": 271,
   "metadata": {},
   "outputs": [
    {
     "data": {
      "text/html": [
       "<div id=\"output_ccba6b5dae8e4a1c85058c3dc308e053\"><script> /* penzai.treescope rendering of a Python object (compressed) */ (()=>{ let observer; let lastStep = new Promise((resolve, reject) => { observer = new IntersectionObserver((entries) => { for (const entry of entries) { if (entry.isIntersecting) { resolve(); observer.disconnect(); return; } } }, {rootMargin: \"1000px\"}); }); window.treescope_decompress_enqueue = (encoded, destId) => { const previous = lastStep; const destElt = document.getElementById(destId); lastStep = (async () => { await previous; let blob = new Blob([ Uint8Array.from(atob(encoded), (m) => m.codePointAt(0)) ]); let reader = blob.stream().pipeThrough( new DecompressionStream(\"deflate\") ).pipeThrough( new TextDecoderStream(\"utf-8\") ).getReader(); let parts = []; while (true) { let step = await reader.read(); if (step.done) { break; } parts.push(step.value); } let newElt = document.createElement(\"div\"); newElt.innerHTML = parts.join(\"\"); destElt.parentNode.replaceChild(newElt, destElt); for (let oldScript of newElt.querySelectorAll(\"script\")) { let newScript = document.createElement(\"script\"); newScript.type = oldScript.type; newScript.textContent = oldScript.textContent; oldScript.parentNode.replaceChild(newScript, oldScript); } })(); requestAnimationFrame(() => { observer.observe(destElt); }); } })(); </script><div id=\"compress_html_dc4d606885584bb1a3c942d5c34208de\"><script>window.treescope_decompress_enqueue(\"eNqtVw1T4roa/itZdmYtxwUBBVdcnFuQLxUVwUW99w4T2rSNtElNUyqe8b/fNykoILtnz50DM9Am7/dXnnyP5NwnJ3kpCIksHpKx4FyiP1HIIyopZ1UkiI8lnZFj5HAmcw4OqD+vooAzHoXYgvXEo5Lk9EsVhQJWfBrJnBadk/MQVhlnsDzB1tQVPGZ2zuI+F9WU9Rgt3iY+EIA8akuvihwqgYxJwuQxCrBwKcv5xJFVVLI8pYORnEeo68FKMV8+Rq/f91J3vkeWoKE8QdRBRkKZzZN3D1GtVkNgAnFAgJ0FXz9SoD9fjz8s58chYTZlrmmpyERA9u///iVZBzPbVyJZ7PtbqF0ixxvRryFjGfSx5FlUOwEj9/5AF5xPIQkCSY8gTcm4TfLojz3kE4kWvCusOjWg3Ej3PtWQza04gIDmJ9yeoy9f0Ce1k7d8HEUXkLS8CjimLDIy60ZlskiFaqlDMYVYgKSmTwKdoVfQLGPB9Ca8bvFVxGzAOVMOJlxMF56BykiCZSNYUltry5JaajEkAhwPMLNInvHEyL659mEH5VKm72i/pEzeVgObqcz7hLnSg9JAhW0V8eucpn6rCBA/Iu+mezFTtv+l8sijjlQuaQ718Arf37XBWFIK8hSTSJqMBlhRtAQOiJHGNZvdnpFNU8I48tLcHP9O4JZG1NJQ/J3Q/b7ZWw0nDLhickocIgSxhyQIoexJ9LGAQl8tvhU+sIn5gPjEklyYvg+FvuBdHYIxG0dQqZnssW44Q/UXSELc0QKVo/C/0jeCBHxG1rpmRcbPOsFY2qrkO4K/ENUcWnI6+NbNNTLpYFMiFQe8rbpmCQJuLBpylRae8moOA3GqRL8t1smzbKTKVrbfF4+1OWmvX6pxIwhEyyINaD/bAAlfFYHK009zJbnr+ukYGevpL8EwPeVghfjyKyIzkL4IhSo7/Z6fkrnqyIzILEcPEK/EPJVrZN5kjgMwMLO04xXBeZAeBN9tOkOasbY515DEEzCYPNcyhQziDJSC9WyFbrv9hvRotLQ8A0dOepDqk2wcAQVzdQ3qg+0z3i+Wi+qIyiceYWNY9nEYERtIbBpBQOfLM/IV5R3u23gCGtV4r3o4Mk58PCH+yfrOOLWryrg0qpZHrCkcZ1n0Cw2UqUNT69BE5DmEdvwpzT9hxzYVC0f/tcATlhqZa9hipwd1LCj20WAeTDg08FUslVk2WpZqg4fznQUk0aFXYuEY8BdryQIYHBQKUOfCqqJY+IaNJa6q/b2EO07peIIjUjn4aheO2j3XrJv60+2bJtdP9ZsEfjst02yav/rUA9N0p/zc7jbrjeTeNIf3jTOz1603zJb73O1ceDKq9yhx91und6WLbuV+Nghjet0rD4tnd92bH73ZqPcir+etVmN35E6HtH5a8OhpPz5r2u3HQmey58y6dvh0XvGeRpT24x5rex3nVpq3lfqlODBbXTZtVqzbOGa7N+UnK5omM6fl7z09u03+zZ2cJe1vxY65x8yb8oUQZ8WbXfelcGMXzDOn6F4eNpL2Y8kt8Hl8c3gYNIuVpHN3dOW6IRlO5wekO3kpWxNx1ZbYdPvdy+QUR/OoH3e7d6NmKzGv+2H33r7d29t1D4eHd/uy4JxfP5mzMsi8MC8PzV5iBu7LzWA3fhiQ5t1zyalYL5cHN515Oa6b5y/1x7AV7tNOv9EsPMTXB4ND5tQvmp1WLzDp7rdZs+Sxone4O/mR3D0mHTE7bd822KPTbLpy98p68P3D8lHjLKl/844Oer32YL/9YLpBt/xY7x/JYZt0jpr1ere9f+oe3OzdW/OJ2Yac/jjfM/ttbJJewzc7L80r90G6lfq1e3XVPa1Pab9MWvW7Rr1l0ULoCR4yqI3woXlafClOB07Dkd78nHVs3Io6TuEyaDcvK3XbfPrxI8QyGjwEto3pUcl5OTq4pY9PlTAQlSt+3xhQ0Q5mZ+39wWiw32qWrHrfGe52fB62D1pRUsbuU+UbfSCDSz8csXqnS+yeIPHoqd0IiqOWmA4Gz+VSZTSKEhMsyiINgaSxo8t6J/tPtC+MvvkklhLw2rYh9b5drU4I6F8AH9WdVZRBmQ0qdILghrCd+D+keGBnjv/fIQDNPpnCZSEdBgGMaQ+mbxVhJoGdQo/bb1eMz6SgvvAei0gthJyCMLEcJfQFJkkhf0SCTS89ON/FNi+0XBuLaUSwC4cG2+DMJzgaWz5VgX3jxw4oXTkgLP35tc4NnnWVq6FHMyyMXE5NuxxmkFgNrLKry0qJQpwCs+VFT4tFxQgRiFgOLls8ln/PlTcLIDGU2J/WLdEq0ScahFxIzD7Ingg+1SdXOF84/lvRXWFbiecyzR/uhB/QiacRqeZPXQNkAtONWchINaxfU8CTIVeFB2QLC9RaRKQ2SoVU2YETTOF+hmfUxYDcALXQcMKxsPOJgCvvEACW8S4LMrGQ9Y5usG0bmZV4ayBH5JAGBBLzhhw/8C2R6Abr61dUKhQKejRYWFoeoKzsNn6tdyWomXfj1rGiAen9jFoYrmE2khwp4k+6J+G2zmLs+3NAE5Ek2FY1sbsauwVGewdoqpSWCM0DcCqg06djCbd+AhhN1w8gM5iqXi2TWSdfhVyZky+fn0uHx1DTSKFgKGykwqGekeVhgS1VrCA2JmgyRyG14O5GUAQFaSM14mBXKhytORzQp8gDQH0AtyE88Aaa0tuiA6WkSzPVCc6AVSfLv1UT16DQuvk776W8A/CzoTJW2/lFeWrgmd1Bbz1Vyxg+DiY21hC5qn+zGaTLvpZZaT6YqVso1QDdHBVAqdOk4g3PC4tPNjxc/gG4/nl7/eyiZmTfkv8/UD6CFw==\", \"compress_html_dc4d606885584bb1a3c942d5c34208de\");</script><span style=\"color: #aaaaaa; font-family: monospace\">(Loading...)</span></div></div>"
      ],
      "text/plain": [
       "<IPython.core.display.HTML object>"
      ]
     },
     "metadata": {},
     "output_type": "display_data"
    },
    {
     "data": {
      "text/html": [
       "<div id=\"output_dest_ccba6b5dae8e4a1c85058c3dc308e053\"><script> (()=>{ const output = document.getElementById(\"output_ccba6b5dae8e4a1c85058c3dc308e053\"); const dest = document.getElementById(\"output_dest_ccba6b5dae8e4a1c85058c3dc308e053\"); dest.parentNode.replaceChild(output, dest); })(); </script></div>"
      ],
      "text/plain": [
       "'sit mention movement character argue by picture stand player treatment father amount sister strength find dark'"
      ]
     },
     "execution_count": 271,
     "metadata": {},
     "output_type": "execute_result"
    }
   ],
   "source": [
    "tokenizer.decode(pred)"
   ]
  },
  {
   "cell_type": "code",
   "execution_count": 247,
   "metadata": {},
   "outputs": [
    {
     "data": {
      "text/html": [
       "<div id=\"output_4387502759f44f5fa0fecc4573551dd0\"><script> /* penzai.treescope rendering of a Python object (compressed) */ (()=>{ let observer; let lastStep = new Promise((resolve, reject) => { observer = new IntersectionObserver((entries) => { for (const entry of entries) { if (entry.isIntersecting) { resolve(); observer.disconnect(); return; } } }, {rootMargin: \"1000px\"}); }); window.treescope_decompress_enqueue = (encoded, destId) => { const previous = lastStep; const destElt = document.getElementById(destId); lastStep = (async () => { await previous; let blob = new Blob([ Uint8Array.from(atob(encoded), (m) => m.codePointAt(0)) ]); let reader = blob.stream().pipeThrough( new DecompressionStream(\"deflate\") ).pipeThrough( new TextDecoderStream(\"utf-8\") ).getReader(); let parts = []; while (true) { let step = await reader.read(); if (step.done) { break; } parts.push(step.value); } let newElt = document.createElement(\"div\"); newElt.innerHTML = parts.join(\"\"); destElt.parentNode.replaceChild(newElt, destElt); for (let oldScript of newElt.querySelectorAll(\"script\")) { let newScript = document.createElement(\"script\"); newScript.type = oldScript.type; newScript.textContent = oldScript.textContent; oldScript.parentNode.replaceChild(newScript, oldScript); } })(); requestAnimationFrame(() => { observer.observe(destElt); }); } })(); </script><div id=\"compress_html_5a87d793bbae44598ac2f6686d41725c\"><script>window.treescope_decompress_enqueue(\"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\", \"compress_html_5a87d793bbae44598ac2f6686d41725c\");</script><span style=\"color: #aaaaaa; font-family: monospace\">(Loading...)</span></div></div>"
      ],
      "text/plain": [
       "<IPython.core.display.HTML object>"
      ]
     },
     "metadata": {},
     "output_type": "display_data"
    },
    {
     "data": {
      "text/html": [
       "<div id=\"compress_html_67aab65a2a6d497fb6492c99940772d6\"><script>window.treescope_decompress_enqueue(\"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\", \"compress_html_67aab65a2a6d497fb6492c99940772d6\");</script></div>"
      ],
      "text/plain": [
       "<IPython.core.display.HTML object>"
      ]
     },
     "metadata": {},
     "output_type": "display_data"
    },
    {
     "data": {
      "text/html": [
       "<div id=\"output_dest_4387502759f44f5fa0fecc4573551dd0\"><script> (()=>{ const output = document.getElementById(\"output_4387502759f44f5fa0fecc4573551dd0\"); const dest = document.getElementById(\"output_dest_4387502759f44f5fa0fecc4573551dd0\"); dest.parentNode.replaceChild(output, dest); })(); </script></div>"
      ],
      "text/plain": [
       "array([[32000, 32000, 32000, ..., 29871, 29947, 29896],\n",
       "       [32000, 32000, 32000, ..., 29871, 29929, 29929],\n",
       "       [32000, 32000, 32000, ..., 29871, 29929, 29947],\n",
       "       ...,\n",
       "       [32000,     1, 32010, ..., 29871, 29947, 29929],\n",
       "       [32000, 32000, 32000, ..., 29871, 29929, 29941],\n",
       "       [32000, 32000, 32000, ..., 29871, 29896, 29906]])"
      ]
     },
     "execution_count": 247,
     "metadata": {},
     "output_type": "execute_result"
    }
   ],
   "source": [
    "tokens[:, 1:]"
   ]
  },
  {
   "cell_type": "code",
   "execution_count": 277,
   "metadata": {},
   "outputs": [
    {
     "data": {
      "text/html": [
       "<div id=\"output_fa435b5ae2eb4a58ae4847601603b188\"><script> /* penzai.treescope rendering of a Python object (compressed) */ (()=>{ let observer; let lastStep = new Promise((resolve, reject) => { observer = new IntersectionObserver((entries) => { for (const entry of entries) { if (entry.isIntersecting) { resolve(); observer.disconnect(); return; } } }, {rootMargin: \"1000px\"}); }); window.treescope_decompress_enqueue = (encoded, destId) => { const previous = lastStep; const destElt = document.getElementById(destId); lastStep = (async () => { await previous; let blob = new Blob([ Uint8Array.from(atob(encoded), (m) => m.codePointAt(0)) ]); let reader = blob.stream().pipeThrough( new DecompressionStream(\"deflate\") ).pipeThrough( new TextDecoderStream(\"utf-8\") ).getReader(); let parts = []; while (true) { let step = await reader.read(); if (step.done) { break; } parts.push(step.value); } let newElt = document.createElement(\"div\"); newElt.innerHTML = parts.join(\"\"); destElt.parentNode.replaceChild(newElt, destElt); for (let oldScript of newElt.querySelectorAll(\"script\")) { let newScript = document.createElement(\"script\"); newScript.type = oldScript.type; newScript.textContent = oldScript.textContent; oldScript.parentNode.replaceChild(newScript, oldScript); } })(); requestAnimationFrame(() => { observer.observe(destElt); }); } })(); </script><div id=\"compress_html_08ee7b44011f4fde9a923540ce99a81a\"><script>window.treescope_decompress_enqueue(\"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\", \"compress_html_08ee7b44011f4fde9a923540ce99a81a\");</script><span style=\"color: #aaaaaa; font-family: monospace\">(Loading...)</span></div></div>"
      ],
      "text/plain": [
       "<IPython.core.display.HTML object>"
      ]
     },
     "metadata": {},
     "output_type": "display_data"
    },
    {
     "data": {
      "text/html": [
       "<div id=\"compress_html_e7f270faf7fc47b49a3480facf70d9de\"><script>window.treescope_decompress_enqueue(\"eNrtWG1v2zYQ/iuEgjVSG6uWYzt+iQ1s6Qb0Sz8MA/ahKARKpC3ONKlRtJO06H/fkZQly3YcN0tTDFgC2JZ47/fw7shrwtao0PecTjzCipzj+xESUlAPMTLxZlLFhM6oUpTEncvuIErSQYRnUZd2u8PZsN2JyNWwn1522r3Um14XORbwaeRNw0RqLZecCToSUvvhTHKCE05jIQkdZbjwpxwnlE+bK7GW8zl3PKM0o+mCkiBArwP0BeWYECbmLS3zEWqHUY8ux8hoaGWUzTM9QlFo330NU8nBeJwkiq6B0z6O0Fl/0MHtdk2QyuWSCh3fZlTE9A7sJ5Q8m70brdj+1VrFaplQtUXQHg6iXr8mKLQCP7clXEa9qFcRQDqM2zVBwnG6GKMEPudKrgRplQtrrPxWK+EyXbhXAVBJRahyUYzyO1RIzsgxSpfKx4i/ojC7z6kCyxaxokupaZzJNTi6a/S+mXLB08wfdH8yae32UNQeOom3uIiLVEnOgV3LcMZUoWPN0sXJUofdMDJy20MUXfbDq4OCbf6Oqgv2FGqFRcE0k2K0pxxFBaK4oC0mWnKlL9BMCt26tTDdWTNZzdIsht2T0pjTmd6Cunk0WO+lWZNOWUk1oXIboKJkgGShwdg0Y/z5IF1VCZv7MVpiNQc3nJkp5qnfSTPUMlBxcW7aoaj4bqaUYHWmEIAsJRaxZ7Rt/k1Q/l5hLvCSxrmiM3YHQmxaCvaZmtANXO0oNDZ6KourvDsNaIqaJC8e3HbYTTMX3kdsfZlgu5pgrTpYGRp12/oBMOUZeo38CNzZZinlFkBFgyCoYlCztk7n3ejd1C/LWYncvG2Vr18wmnUFthFsKUzYqigdjOgSvHvYMWvpvzPiUYh/aTQJl1+zl05oEseJv4Yg8bsMBXWSj80FttHbOg0tNt8Gthl7bGi1orRIZQ41VkodVsTxEixBRyQwYXS67mKIwNpHCU9R9qCc0uTrt27ksvMXSjkuionXNLMczjazXiMrMF6QZNDt4fEhvEFAx15TdCM1iBWx65JS2MYIxC6F10zkK400zAQTzyYtkXfeQSFlfoH1rWVq6qunCg07l2oPEaxxa0Hvc6yzibdjXqNLl2hDzQbrnRKrcnGnZ3jTnIrPmNWZg72TgyUFjDszzLmZBEJIiZ2F3dcHqX/fSM+N035z/fptGbEtvedGarICTItzJMUNhxlkcl4rzWBUhegZqjg1i77OWBGcu9iY1xPP53iZEIwMtEb2M/BqCFSEI3R+gPJ8jEoaLACB2M055zfAgEzc4Xc18je92Y7ebqFBzULjHaHeI5Uw4zCBOQyXuZp8E0TCBu8hwJQztzd9dXbXuRr/rBS+9yOYGvud3gUiFsXJjEuso37gaJpuX+xDCgRznBeUeFN0KDiNU4f3AulvhuF0MOzwPR0aJwLl4dTDsfSJiWfkYNrdWcybDrvtfrs36F31ulFn8F9OLSNPSSxw/cC02u31xMQa3mMd6vkb0pG7A+8oDM4OYmWvw/yF7zYdxNahI23iGNC8vbPX0XVv+nwJ2L5+gZLK9dguIFc4jX/WMff4aq7HRyD0A7eS8ewpm8nyPdd2OnWr7cTp4v9YnhS2xrhYX1qinasWbxp8WyYaU/uj26PaEg/PHPu7ZPNF2Brkp6BHT30/QJMp+pJKUUCts1v3PSnQBH30Tr/L/TR2/CYVwHoLlULebo28IDRuHl18RGS6MgXRLP7Kqfn5y/174lc2fGx/MqdXJ3mm8NyQgPSKMVUUa/qufPytpPArHqPnhsOhB5g2/CHOYSAnN6aC+RY5qaH4AEXc12plz8szqZDPqUYMGNtj+LquIxNyKuYazv/szRtznjR0bnFby4M+sU+gwPAUcqVS+o6ttz3aYbM36h56g3b43WMIwxUHwP3JdOZX4twdZCnFugkM9aq5aF1T394KuCPklpAqYGY5MESAGYeTDV72UkvF3yu6ou9KrPxBlyBP08IPKt5/AHaVkBA=\", \"compress_html_e7f270faf7fc47b49a3480facf70d9de\");</script></div>"
      ],
      "text/plain": [
       "<IPython.core.display.HTML object>"
      ]
     },
     "metadata": {},
     "output_type": "display_data"
    },
    {
     "data": {
      "text/html": [
       "<div id=\"output_dest_fa435b5ae2eb4a58ae4847601603b188\"><script> (()=>{ const output = document.getElementById(\"output_fa435b5ae2eb4a58ae4847601603b188\"); const dest = document.getElementById(\"output_dest_fa435b5ae2eb4a58ae4847601603b188\"); dest.parentNode.replaceChild(output, dest); })(); </script></div>"
      ],
      "text/plain": [
       "<jax.Array(10.0625, dtype=bfloat16)>"
      ]
     },
     "execution_count": 277,
     "metadata": {},
     "output_type": "execute_result"
    }
   ],
   "source": [
    "logprob_loss(\n",
    "    logits.unwrap(\"batch\", \"seq\", \"vocabulary\"), tokens, shift=1 if task.startswith(\"algo\") else 0, n_first=1\n",
    ")"
   ]
  },
  {
   "cell_type": "code",
   "execution_count": 16,
   "metadata": {},
   "outputs": [
    {
     "data": {
      "application/vnd.jupyter.widget-view+json": {
       "model_id": "e9fd318369184abc9593ede8b060bc8d",
       "version_major": 2,
       "version_minor": 0
      },
      "text/plain": [
       "  0%|          | 0/1 [00:00<?, ?it/s]"
      ]
     },
     "metadata": {},
     "output_type": "display_data"
    },
    {
     "data": {
      "application/vnd.jupyter.widget-view+json": {
       "model_id": "5e293e0244e54e78a2e237d19424fc32",
       "version_major": 2,
       "version_minor": 0
      },
      "text/plain": [
       "  0%|          | 0/10 [00:00<?, ?it/s]"
      ]
     },
     "metadata": {},
     "output_type": "display_data"
    },
    {
     "ename": "KeyboardInterrupt",
     "evalue": "",
     "output_type": "error",
     "traceback": [
      "\u001b[0;31m---------------------------------------------------------------------------\u001b[0m",
      "\u001b[0;31mKeyboardInterrupt\u001b[0m                         Traceback (most recent call last)",
      "Cell \u001b[0;32mIn[16], line 17\u001b[0m\n\u001b[1;32m     12\u001b[0m tokenized \u001b[38;5;241m=\u001b[39m tokenizer\u001b[38;5;241m.\u001b[39mbatch_encode_plus([prompt\u001b[38;5;241m.\u001b[39mformat(x) \u001b[38;5;28;01mfor\u001b[39;00m x \u001b[38;5;129;01min\u001b[39;00m dataset\u001b[38;5;241m.\u001b[39mprompts], padding\u001b[38;5;241m=\u001b[39m\u001b[38;5;124m\"\u001b[39m\u001b[38;5;124mlongest\u001b[39m\u001b[38;5;124m\"\u001b[39m, max_length\u001b[38;5;241m=\u001b[39mmax_seq_len, truncation\u001b[38;5;241m=\u001b[39m\u001b[38;5;28;01mTrue\u001b[39;00m, return_tensors\u001b[38;5;241m=\u001b[39m\u001b[38;5;124m\"\u001b[39m\u001b[38;5;124mnp\u001b[39m\u001b[38;5;124m\"\u001b[39m)\n\u001b[1;32m     13\u001b[0m inputs \u001b[38;5;241m=\u001b[39m tokenized_to_inputs(\n\u001b[1;32m     14\u001b[0m     \u001b[38;5;241m*\u001b[39m\u001b[38;5;241m*\u001b[39mtokenized\n\u001b[1;32m     15\u001b[0m )\n\u001b[0;32m---> 17\u001b[0m logits, resids \u001b[38;5;241m=\u001b[39m \u001b[43mget_resids_call\u001b[49m\u001b[43m(\u001b[49m\u001b[43minputs\u001b[49m\u001b[43m)\u001b[49m\n\u001b[1;32m     19\u001b[0m tokens \u001b[38;5;241m=\u001b[39m tokenized[\u001b[38;5;124m\"\u001b[39m\u001b[38;5;124minput_ids\u001b[39m\u001b[38;5;124m\"\u001b[39m]\n\u001b[1;32m     21\u001b[0m shot_logprobs_orig[\u001b[38;5;241m0\u001b[39m]\u001b[38;5;241m.\u001b[39mappend(\n\u001b[1;32m     22\u001b[0m     get_logprob_diff(logits\u001b[38;5;241m.\u001b[39munwrap(\u001b[38;5;124m\"\u001b[39m\u001b[38;5;124mbatch\u001b[39m\u001b[38;5;124m\"\u001b[39m, \u001b[38;5;124m\"\u001b[39m\u001b[38;5;124mseq\u001b[39m\u001b[38;5;124m\"\u001b[39m, \u001b[38;5;124m\"\u001b[39m\u001b[38;5;124mvocabulary\u001b[39m\u001b[38;5;124m\"\u001b[39m), dataset\u001b[38;5;241m.\u001b[39mcompletions, print_results\u001b[38;5;241m=\u001b[39m\u001b[38;5;28;01mTrue\u001b[39;00m, extra_space\u001b[38;5;241m=\u001b[39mtask\u001b[38;5;241m.\u001b[39mstartswith(\u001b[38;5;124m\"\u001b[39m\u001b[38;5;124malgo\u001b[39m\u001b[38;5;124m\"\u001b[39m))\n\u001b[1;32m     23\u001b[0m )\n",
      "File \u001b[0;32m~/.cache/pypoetry/virtualenvs/micrlhf-progress-_SD4q1c9-py3.12/lib/python3.12/site-packages/penzai/toolshed/jit_wrapper.py:62\u001b[0m, in \u001b[0;36mJitted.__call__\u001b[0;34m(self, argument)\u001b[0m\n\u001b[1;32m     60\u001b[0m \u001b[38;5;28;01mdef\u001b[39;00m \u001b[38;5;21m__call__\u001b[39m(\u001b[38;5;28mself\u001b[39m, argument: Any, \u001b[38;5;241m/\u001b[39m) \u001b[38;5;241m-\u001b[39m\u001b[38;5;241m>\u001b[39m Any:\n\u001b[1;32m     61\u001b[0m   \u001b[38;5;28;01mtry\u001b[39;00m:\n\u001b[0;32m---> 62\u001b[0m     \u001b[38;5;28;01mreturn\u001b[39;00m \u001b[43m_flat_jit_call_layer\u001b[49m\u001b[43m(\u001b[49m\u001b[38;5;28;43mself\u001b[39;49m\u001b[38;5;241;43m.\u001b[39;49m\u001b[43mbody\u001b[49m\u001b[43m,\u001b[49m\u001b[43m \u001b[49m\u001b[43margument\u001b[49m\u001b[43m)\u001b[49m\n\u001b[1;32m     63\u001b[0m   \u001b[38;5;28;01mexcept\u001b[39;00m \u001b[38;5;167;01mTypeError\u001b[39;00m \u001b[38;5;28;01mas\u001b[39;00m exc:\n\u001b[1;32m     64\u001b[0m     impls \u001b[38;5;241m=\u001b[39m pz\u001b[38;5;241m.\u001b[39mselect(\u001b[38;5;28mself\u001b[39m\u001b[38;5;241m.\u001b[39mbody)\u001b[38;5;241m.\u001b[39mat_instances_of(pz\u001b[38;5;241m.\u001b[39mde\u001b[38;5;241m.\u001b[39mEffectRuntimeImpl)\n",
      "    \u001b[0;31m[... skipping hidden 1 frame]\u001b[0m\n",
      "File \u001b[0;32m~/.cache/pypoetry/virtualenvs/micrlhf-progress-_SD4q1c9-py3.12/lib/python3.12/site-packages/jax/_src/pjit.py:304\u001b[0m, in \u001b[0;36m_cpp_pjit.<locals>.cache_miss\u001b[0;34m(*args, **kwargs)\u001b[0m\n\u001b[1;32m    302\u001b[0m \u001b[38;5;129m@api_boundary\u001b[39m\n\u001b[1;32m    303\u001b[0m \u001b[38;5;28;01mdef\u001b[39;00m \u001b[38;5;21mcache_miss\u001b[39m(\u001b[38;5;241m*\u001b[39margs, \u001b[38;5;241m*\u001b[39m\u001b[38;5;241m*\u001b[39mkwargs):\n\u001b[0;32m--> 304\u001b[0m   outs, out_flat, out_tree, args_flat, jaxpr, attrs_tracked \u001b[38;5;241m=\u001b[39m \u001b[43m_python_pjit_helper\u001b[49m\u001b[43m(\u001b[49m\n\u001b[1;32m    305\u001b[0m \u001b[43m      \u001b[49m\u001b[43mjit_info\u001b[49m\u001b[43m,\u001b[49m\u001b[43m \u001b[49m\u001b[38;5;241;43m*\u001b[39;49m\u001b[43margs\u001b[49m\u001b[43m,\u001b[49m\u001b[43m \u001b[49m\u001b[38;5;241;43m*\u001b[39;49m\u001b[38;5;241;43m*\u001b[39;49m\u001b[43mkwargs\u001b[49m\u001b[43m)\u001b[49m\n\u001b[1;32m    306\u001b[0m   executable \u001b[38;5;241m=\u001b[39m _read_most_recent_pjit_call_executable(jaxpr)\n\u001b[1;32m    307\u001b[0m   maybe_fastpath_data \u001b[38;5;241m=\u001b[39m _get_fastpath_data(\n\u001b[1;32m    308\u001b[0m       executable, out_tree, args_flat, out_flat, attrs_tracked, jaxpr\u001b[38;5;241m.\u001b[39meffects,\n\u001b[1;32m    309\u001b[0m       jaxpr\u001b[38;5;241m.\u001b[39mconsts, jit_info\u001b[38;5;241m.\u001b[39mabstracted_axes)\n",
      "File \u001b[0;32m~/.cache/pypoetry/virtualenvs/micrlhf-progress-_SD4q1c9-py3.12/lib/python3.12/site-packages/jax/_src/pjit.py:171\u001b[0m, in \u001b[0;36m_python_pjit_helper\u001b[0;34m(jit_info, *args, **kwargs)\u001b[0m\n\u001b[1;32m    169\u001b[0m \u001b[38;5;28;01mdef\u001b[39;00m \u001b[38;5;21m_python_pjit_helper\u001b[39m(jit_info, \u001b[38;5;241m*\u001b[39margs, \u001b[38;5;241m*\u001b[39m\u001b[38;5;241m*\u001b[39mkwargs):\n\u001b[1;32m    170\u001b[0m   (args_flat, _, params, _, out_tree, _, arg_names,\n\u001b[0;32m--> 171\u001b[0m    attrs_tracked) \u001b[38;5;241m=\u001b[39m \u001b[43m_infer_params\u001b[49m\u001b[43m(\u001b[49m\u001b[43mjit_info\u001b[49m\u001b[43m,\u001b[49m\u001b[43m \u001b[49m\u001b[43margs\u001b[49m\u001b[43m,\u001b[49m\u001b[43m \u001b[49m\u001b[43mkwargs\u001b[49m\u001b[43m)\u001b[49m\n\u001b[1;32m    173\u001b[0m   \u001b[38;5;28;01mfor\u001b[39;00m arg \u001b[38;5;129;01min\u001b[39;00m args_flat:\n\u001b[1;32m    174\u001b[0m     dispatch\u001b[38;5;241m.\u001b[39mcheck_arg(arg)\n",
      "File \u001b[0;32m~/.cache/pypoetry/virtualenvs/micrlhf-progress-_SD4q1c9-py3.12/lib/python3.12/site-packages/jax/_src/pjit.py:598\u001b[0m, in \u001b[0;36m_infer_params\u001b[0;34m(***failed resolving arguments***)\u001b[0m\n\u001b[1;32m    591\u001b[0m   in_type \u001b[38;5;241m=\u001b[39m in_avals \u001b[38;5;241m=\u001b[39m \u001b[38;5;28mtuple\u001b[39m(avals)\n\u001b[1;32m    593\u001b[0m in_shardings_flat, in_layouts_flat \u001b[38;5;241m=\u001b[39m _process_in_axis_resources(\n\u001b[1;32m    594\u001b[0m     in_shardings_treedef, in_shardings_leaves,\n\u001b[1;32m    595\u001b[0m     in_layouts_treedef, in_layouts_leaves,\n\u001b[1;32m    596\u001b[0m     in_avals, in_tree, dbg, device_or_backend_set, have_kwargs)\n\u001b[0;32m--> 598\u001b[0m jaxpr, consts, out_shardings_flat, out_layouts_flat, attrs_tracked \u001b[38;5;241m=\u001b[39m \u001b[43m_pjit_jaxpr\u001b[49m\u001b[43m(\u001b[49m\n\u001b[1;32m    599\u001b[0m \u001b[43m    \u001b[49m\u001b[43mflat_fun\u001b[49m\u001b[43m,\u001b[49m\u001b[43m \u001b[49m\u001b[43mout_shardings_treedef\u001b[49m\u001b[43m,\u001b[49m\u001b[43m \u001b[49m\u001b[43mout_shardings_leaves\u001b[49m\u001b[43m,\u001b[49m\n\u001b[1;32m    600\u001b[0m \u001b[43m    \u001b[49m\u001b[43mout_layouts_treedef\u001b[49m\u001b[43m,\u001b[49m\u001b[43m \u001b[49m\u001b[43mout_layouts_leaves\u001b[49m\u001b[43m,\u001b[49m\u001b[43m \u001b[49m\u001b[43min_type\u001b[49m\u001b[43m,\u001b[49m\u001b[43m \u001b[49m\u001b[43mdbg\u001b[49m\u001b[43m,\u001b[49m\n\u001b[1;32m    601\u001b[0m \u001b[43m    \u001b[49m\u001b[43mdevice_or_backend_set\u001b[49m\u001b[43m,\u001b[49m\u001b[43m \u001b[49m\u001b[43mHashableFunction\u001b[49m\u001b[43m(\u001b[49m\u001b[43mout_tree\u001b[49m\u001b[43m,\u001b[49m\u001b[43m \u001b[49m\u001b[43mclosure\u001b[49m\u001b[38;5;241;43m=\u001b[39;49m\u001b[43m(\u001b[49m\u001b[43m)\u001b[49m\u001b[43m)\u001b[49m\u001b[43m,\u001b[49m\n\u001b[1;32m    602\u001b[0m \u001b[43m    \u001b[49m\u001b[43mHashableFunction\u001b[49m\u001b[43m(\u001b[49m\u001b[43mres_paths\u001b[49m\u001b[43m,\u001b[49m\u001b[43m \u001b[49m\u001b[43mclosure\u001b[49m\u001b[38;5;241;43m=\u001b[39;49m\u001b[43m(\u001b[49m\u001b[43m)\u001b[49m\u001b[43m)\u001b[49m\u001b[43m,\u001b[49m\u001b[43m \u001b[49m\u001b[43minline\u001b[49m\u001b[43m)\u001b[49m\n\u001b[1;32m    604\u001b[0m \u001b[38;5;28;01massert\u001b[39;00m \u001b[38;5;28mlen\u001b[39m(explicit_args) \u001b[38;5;241m==\u001b[39m \u001b[38;5;28mlen\u001b[39m(in_shardings_flat) \u001b[38;5;241m==\u001b[39m \u001b[38;5;28mlen\u001b[39m(in_layouts_flat)\n\u001b[1;32m    606\u001b[0m \u001b[38;5;28;01mif\u001b[39;00m config\u001b[38;5;241m.\u001b[39mdynamic_shapes\u001b[38;5;241m.\u001b[39mvalue:\n",
      "File \u001b[0;32m~/.cache/pypoetry/virtualenvs/micrlhf-progress-_SD4q1c9-py3.12/lib/python3.12/site-packages/jax/_src/pjit.py:1206\u001b[0m, in \u001b[0;36m_pjit_jaxpr\u001b[0;34m(fun, out_shardings_treedef, out_shardings_leaves, out_layouts_treedef, out_layouts_leaves, in_type, debug_info, device_or_backend_set, out_tree, result_paths, inline)\u001b[0m\n\u001b[1;32m   1203\u001b[0m \u001b[38;5;28;01mdef\u001b[39;00m \u001b[38;5;21m_pjit_jaxpr\u001b[39m(fun, out_shardings_treedef, out_shardings_leaves,\n\u001b[1;32m   1204\u001b[0m                 out_layouts_treedef, out_layouts_leaves, in_type, debug_info,\n\u001b[1;32m   1205\u001b[0m                 device_or_backend_set, out_tree, result_paths, inline):\n\u001b[0;32m-> 1206\u001b[0m   jaxpr, final_consts, out_type, attrs_tracked \u001b[38;5;241m=\u001b[39m \u001b[43m_create_pjit_jaxpr\u001b[49m\u001b[43m(\u001b[49m\n\u001b[1;32m   1207\u001b[0m \u001b[43m      \u001b[49m\u001b[43mfun\u001b[49m\u001b[43m,\u001b[49m\u001b[43m \u001b[49m\u001b[43min_type\u001b[49m\u001b[43m,\u001b[49m\u001b[43m \u001b[49m\u001b[43mdebug_info\u001b[49m\u001b[43m,\u001b[49m\u001b[43m \u001b[49m\u001b[43mresult_paths\u001b[49m\u001b[43m,\u001b[49m\u001b[43m \u001b[49m\u001b[43mIgnoreKey\u001b[49m\u001b[43m(\u001b[49m\u001b[43minline\u001b[49m\u001b[43m)\u001b[49m\u001b[43m)\u001b[49m\n\u001b[1;32m   1208\u001b[0m   canonicalized_out_shardings_flat, out_layouts_flat \u001b[38;5;241m=\u001b[39m _check_and_canonicalize_out_shardings(\n\u001b[1;32m   1209\u001b[0m       out_shardings_treedef, out_shardings_leaves, out_layouts_treedef,\n\u001b[1;32m   1210\u001b[0m       out_layouts_leaves, out_tree, \u001b[38;5;28mtuple\u001b[39m(out_type),\n\u001b[1;32m   1211\u001b[0m       jaxpr\u001b[38;5;241m.\u001b[39mjaxpr\u001b[38;5;241m.\u001b[39mdebug_info, device_or_backend_set)\n\u001b[1;32m   1212\u001b[0m   \u001b[38;5;28;01mreturn\u001b[39;00m (jaxpr, final_consts, canonicalized_out_shardings_flat,\n\u001b[1;32m   1213\u001b[0m           out_layouts_flat, attrs_tracked)\n",
      "File \u001b[0;32m~/.cache/pypoetry/virtualenvs/micrlhf-progress-_SD4q1c9-py3.12/lib/python3.12/site-packages/jax/_src/linear_util.py:350\u001b[0m, in \u001b[0;36mcache.<locals>.memoized_fun\u001b[0;34m(fun, *args)\u001b[0m\n\u001b[1;32m    348\u001b[0m   fun\u001b[38;5;241m.\u001b[39mpopulate_stores(stores)\n\u001b[1;32m    349\u001b[0m \u001b[38;5;28;01melse\u001b[39;00m:\n\u001b[0;32m--> 350\u001b[0m   ans \u001b[38;5;241m=\u001b[39m \u001b[43mcall\u001b[49m\u001b[43m(\u001b[49m\u001b[43mfun\u001b[49m\u001b[43m,\u001b[49m\u001b[43m \u001b[49m\u001b[38;5;241;43m*\u001b[39;49m\u001b[43margs\u001b[49m\u001b[43m)\u001b[49m\n\u001b[1;32m    351\u001b[0m   \u001b[38;5;28;01mif\u001b[39;00m explain \u001b[38;5;129;01mand\u001b[39;00m config\u001b[38;5;241m.\u001b[39mexplain_cache_misses\u001b[38;5;241m.\u001b[39mvalue:\n\u001b[1;32m    352\u001b[0m     explain(fun\u001b[38;5;241m.\u001b[39mf, cache \u001b[38;5;129;01mis\u001b[39;00m new_cache, cache, key, ans)\n",
      "File \u001b[0;32m~/.cache/pypoetry/virtualenvs/micrlhf-progress-_SD4q1c9-py3.12/lib/python3.12/site-packages/jax/_src/pjit.py:1154\u001b[0m, in \u001b[0;36m_create_pjit_jaxpr\u001b[0;34m(***failed resolving arguments***)\u001b[0m\n\u001b[1;32m   1152\u001b[0m     attrs_tracked \u001b[38;5;241m=\u001b[39m []\n\u001b[1;32m   1153\u001b[0m   \u001b[38;5;28;01melse\u001b[39;00m:\n\u001b[0;32m-> 1154\u001b[0m     jaxpr, global_out_avals, consts, attrs_tracked \u001b[38;5;241m=\u001b[39m \u001b[43mpe\u001b[49m\u001b[38;5;241;43m.\u001b[39;49m\u001b[43mtrace_to_jaxpr_dynamic\u001b[49m\u001b[43m(\u001b[49m\n\u001b[1;32m   1155\u001b[0m \u001b[43m        \u001b[49m\u001b[43mfun\u001b[49m\u001b[43m,\u001b[49m\u001b[43m \u001b[49m\u001b[43min_type\u001b[49m\u001b[43m,\u001b[49m\u001b[43m \u001b[49m\u001b[43mdebug_info\u001b[49m\u001b[38;5;241;43m=\u001b[39;49m\u001b[43mpe_debug\u001b[49m\u001b[43m)\u001b[49m\n\u001b[1;32m   1157\u001b[0m \u001b[38;5;66;03m# TODO(dougalm,mattjj): enable debug info with attrs_tracked\u001b[39;00m\n\u001b[1;32m   1158\u001b[0m \u001b[38;5;28;01mif\u001b[39;00m \u001b[38;5;129;01mnot\u001b[39;00m config\u001b[38;5;241m.\u001b[39mdynamic_shapes\u001b[38;5;241m.\u001b[39mvalue \u001b[38;5;129;01mand\u001b[39;00m \u001b[38;5;129;01mnot\u001b[39;00m attrs_tracked:\n",
      "File \u001b[0;32m~/.cache/pypoetry/virtualenvs/micrlhf-progress-_SD4q1c9-py3.12/lib/python3.12/site-packages/jax/_src/profiler.py:335\u001b[0m, in \u001b[0;36mannotate_function.<locals>.wrapper\u001b[0;34m(*args, **kwargs)\u001b[0m\n\u001b[1;32m    332\u001b[0m \u001b[38;5;129m@wraps\u001b[39m(func)\n\u001b[1;32m    333\u001b[0m \u001b[38;5;28;01mdef\u001b[39;00m \u001b[38;5;21mwrapper\u001b[39m(\u001b[38;5;241m*\u001b[39margs, \u001b[38;5;241m*\u001b[39m\u001b[38;5;241m*\u001b[39mkwargs):\n\u001b[1;32m    334\u001b[0m   \u001b[38;5;28;01mwith\u001b[39;00m TraceAnnotation(name, \u001b[38;5;241m*\u001b[39m\u001b[38;5;241m*\u001b[39mdecorator_kwargs):\n\u001b[0;32m--> 335\u001b[0m     \u001b[38;5;28;01mreturn\u001b[39;00m \u001b[43mfunc\u001b[49m\u001b[43m(\u001b[49m\u001b[38;5;241;43m*\u001b[39;49m\u001b[43margs\u001b[49m\u001b[43m,\u001b[49m\u001b[43m \u001b[49m\u001b[38;5;241;43m*\u001b[39;49m\u001b[38;5;241;43m*\u001b[39;49m\u001b[43mkwargs\u001b[49m\u001b[43m)\u001b[49m\n\u001b[1;32m    336\u001b[0m   \u001b[38;5;28;01mreturn\u001b[39;00m wrapper\n",
      "File \u001b[0;32m~/.cache/pypoetry/virtualenvs/micrlhf-progress-_SD4q1c9-py3.12/lib/python3.12/site-packages/jax/_src/interpreters/partial_eval.py:2326\u001b[0m, in \u001b[0;36mtrace_to_jaxpr_dynamic\u001b[0;34m(fun, in_avals, debug_info, keep_inputs)\u001b[0m\n\u001b[1;32m   2324\u001b[0m \u001b[38;5;28;01mwith\u001b[39;00m core\u001b[38;5;241m.\u001b[39mnew_main(DynamicJaxprTrace, dynamic\u001b[38;5;241m=\u001b[39m\u001b[38;5;28;01mTrue\u001b[39;00m) \u001b[38;5;28;01mas\u001b[39;00m main:  \u001b[38;5;66;03m# type: ignore\u001b[39;00m\n\u001b[1;32m   2325\u001b[0m   main\u001b[38;5;241m.\u001b[39mjaxpr_stack \u001b[38;5;241m=\u001b[39m ()  \u001b[38;5;66;03m# type: ignore\u001b[39;00m\n\u001b[0;32m-> 2326\u001b[0m   jaxpr, out_avals, consts, attrs_tracked \u001b[38;5;241m=\u001b[39m \u001b[43mtrace_to_subjaxpr_dynamic\u001b[49m\u001b[43m(\u001b[49m\n\u001b[1;32m   2327\u001b[0m \u001b[43m    \u001b[49m\u001b[43mfun\u001b[49m\u001b[43m,\u001b[49m\u001b[43m \u001b[49m\u001b[43mmain\u001b[49m\u001b[43m,\u001b[49m\u001b[43m \u001b[49m\u001b[43min_avals\u001b[49m\u001b[43m,\u001b[49m\u001b[43m \u001b[49m\u001b[43mkeep_inputs\u001b[49m\u001b[38;5;241;43m=\u001b[39;49m\u001b[43mkeep_inputs\u001b[49m\u001b[43m,\u001b[49m\u001b[43m \u001b[49m\u001b[43mdebug_info\u001b[49m\u001b[38;5;241;43m=\u001b[39;49m\u001b[43mdebug_info\u001b[49m\u001b[43m)\u001b[49m\n\u001b[1;32m   2328\u001b[0m   \u001b[38;5;28;01mdel\u001b[39;00m main, fun\n\u001b[1;32m   2329\u001b[0m \u001b[38;5;28;01mreturn\u001b[39;00m jaxpr, out_avals, consts, attrs_tracked\n",
      "File \u001b[0;32m~/.cache/pypoetry/virtualenvs/micrlhf-progress-_SD4q1c9-py3.12/lib/python3.12/site-packages/jax/_src/interpreters/partial_eval.py:2348\u001b[0m, in \u001b[0;36mtrace_to_subjaxpr_dynamic\u001b[0;34m(fun, main, in_avals, keep_inputs, debug_info)\u001b[0m\n\u001b[1;32m   2346\u001b[0m in_tracers \u001b[38;5;241m=\u001b[39m _input_type_to_tracers(trace\u001b[38;5;241m.\u001b[39mnew_arg, in_avals)\n\u001b[1;32m   2347\u001b[0m in_tracers_ \u001b[38;5;241m=\u001b[39m [t \u001b[38;5;28;01mfor\u001b[39;00m t, keep \u001b[38;5;129;01min\u001b[39;00m \u001b[38;5;28mzip\u001b[39m(in_tracers, keep_inputs) \u001b[38;5;28;01mif\u001b[39;00m keep]\n\u001b[0;32m-> 2348\u001b[0m ans \u001b[38;5;241m=\u001b[39m \u001b[43mfun\u001b[49m\u001b[38;5;241;43m.\u001b[39;49m\u001b[43mcall_wrapped\u001b[49m\u001b[43m(\u001b[49m\u001b[38;5;241;43m*\u001b[39;49m\u001b[43min_tracers_\u001b[49m\u001b[43m)\u001b[49m\n\u001b[1;32m   2349\u001b[0m out_tracers \u001b[38;5;241m=\u001b[39m \u001b[38;5;28mmap\u001b[39m(trace\u001b[38;5;241m.\u001b[39mfull_raise, ans)\n\u001b[1;32m   2350\u001b[0m jaxpr, consts, attrs_tracked \u001b[38;5;241m=\u001b[39m frame\u001b[38;5;241m.\u001b[39mto_jaxpr(out_tracers)\n",
      "File \u001b[0;32m~/.cache/pypoetry/virtualenvs/micrlhf-progress-_SD4q1c9-py3.12/lib/python3.12/site-packages/jax/_src/linear_util.py:192\u001b[0m, in \u001b[0;36mWrappedFun.call_wrapped\u001b[0;34m(self, *args, **kwargs)\u001b[0m\n\u001b[1;32m    189\u001b[0m gen \u001b[38;5;241m=\u001b[39m gen_static_args \u001b[38;5;241m=\u001b[39m out_store \u001b[38;5;241m=\u001b[39m \u001b[38;5;28;01mNone\u001b[39;00m\n\u001b[1;32m    191\u001b[0m \u001b[38;5;28;01mtry\u001b[39;00m:\n\u001b[0;32m--> 192\u001b[0m   ans \u001b[38;5;241m=\u001b[39m \u001b[38;5;28;43mself\u001b[39;49m\u001b[38;5;241;43m.\u001b[39;49m\u001b[43mf\u001b[49m\u001b[43m(\u001b[49m\u001b[38;5;241;43m*\u001b[39;49m\u001b[43margs\u001b[49m\u001b[43m,\u001b[49m\u001b[43m \u001b[49m\u001b[38;5;241;43m*\u001b[39;49m\u001b[38;5;241;43m*\u001b[39;49m\u001b[38;5;28;43mdict\u001b[39;49m\u001b[43m(\u001b[49m\u001b[38;5;28;43mself\u001b[39;49m\u001b[38;5;241;43m.\u001b[39;49m\u001b[43mparams\u001b[49m\u001b[43m,\u001b[49m\u001b[43m \u001b[49m\u001b[38;5;241;43m*\u001b[39;49m\u001b[38;5;241;43m*\u001b[39;49m\u001b[43mkwargs\u001b[49m\u001b[43m)\u001b[49m\u001b[43m)\u001b[49m\n\u001b[1;32m    193\u001b[0m \u001b[38;5;28;01mexcept\u001b[39;00m:\n\u001b[1;32m    194\u001b[0m   \u001b[38;5;66;03m# Some transformations yield from inside context managers, so we have to\u001b[39;00m\n\u001b[1;32m    195\u001b[0m   \u001b[38;5;66;03m# interrupt them before reraising the exception. Otherwise they will only\u001b[39;00m\n\u001b[1;32m    196\u001b[0m   \u001b[38;5;66;03m# get garbage-collected at some later time, running their cleanup tasks\u001b[39;00m\n\u001b[1;32m    197\u001b[0m   \u001b[38;5;66;03m# only after this exception is handled, which can corrupt the global\u001b[39;00m\n\u001b[1;32m    198\u001b[0m   \u001b[38;5;66;03m# state.\u001b[39;00m\n\u001b[1;32m    199\u001b[0m   \u001b[38;5;28;01mwhile\u001b[39;00m stack:\n",
      "File \u001b[0;32m~/.cache/pypoetry/virtualenvs/micrlhf-progress-_SD4q1c9-py3.12/lib/python3.12/site-packages/penzai/toolshed/jit_wrapper.py:37\u001b[0m, in \u001b[0;36m_flat_jit_call_layer\u001b[0;34m(layer, arg)\u001b[0m\n\u001b[1;32m     34\u001b[0m \u001b[38;5;129m@jax\u001b[39m\u001b[38;5;241m.\u001b[39mjit\n\u001b[1;32m     35\u001b[0m \u001b[38;5;28;01mdef\u001b[39;00m \u001b[38;5;21m_flat_jit_call_layer\u001b[39m(layer, arg):\n\u001b[1;32m     36\u001b[0m \u001b[38;5;250m  \u001b[39m\u001b[38;5;124;03m\"\"\"Helper to call a callable pytree with an argument.\"\"\"\u001b[39;00m\n\u001b[0;32m---> 37\u001b[0m   \u001b[38;5;28;01mreturn\u001b[39;00m \u001b[43mlayer\u001b[49m\u001b[43m(\u001b[49m\u001b[43marg\u001b[49m\u001b[43m)\u001b[49m\n",
      "File \u001b[0;32m~/.cache/pypoetry/virtualenvs/micrlhf-progress-_SD4q1c9-py3.12/lib/python3.12/site-packages/penzai/core/layer.py:82\u001b[0m, in \u001b[0;36mchecked_layer_call.<locals>.wrapper\u001b[0;34m(self, argument)\u001b[0m\n\u001b[1;32m     80\u001b[0m output_structure \u001b[38;5;241m=\u001b[39m \u001b[38;5;28mself\u001b[39m\u001b[38;5;241m.\u001b[39moutput_structure()\n\u001b[1;32m     81\u001b[0m \u001b[38;5;28;01mwith\u001b[39;00m jax\u001b[38;5;241m.\u001b[39mnamed_scope(\u001b[38;5;28mtype\u001b[39m(\u001b[38;5;28mself\u001b[39m)\u001b[38;5;241m.\u001b[39m\u001b[38;5;18m__name__\u001b[39m):\n\u001b[0;32m---> 82\u001b[0m   result \u001b[38;5;241m=\u001b[39m \u001b[43mfunc\u001b[49m\u001b[43m(\u001b[49m\u001b[38;5;28;43mself\u001b[39;49m\u001b[43m,\u001b[49m\u001b[43m \u001b[49m\u001b[43margument\u001b[49m\u001b[43m)\u001b[49m\n\u001b[1;32m     83\u001b[0m shapecheck\u001b[38;5;241m.\u001b[39mcheck_structure(\n\u001b[1;32m     84\u001b[0m     result,\n\u001b[1;32m     85\u001b[0m     pattern\u001b[38;5;241m=\u001b[39moutput_structure,\n\u001b[0;32m   (...)\u001b[0m\n\u001b[1;32m     90\u001b[0m     ),\n\u001b[1;32m     91\u001b[0m )\n\u001b[1;32m     92\u001b[0m \u001b[38;5;28;01mreturn\u001b[39;00m result\n",
      "File \u001b[0;32m~/.cache/pypoetry/virtualenvs/micrlhf-progress-_SD4q1c9-py3.12/lib/python3.12/site-packages/penzai/data_effects/side_output.py:171\u001b[0m, in \u001b[0;36mCollectingSideOutputs.__call__\u001b[0;34m(self, argument)\u001b[0m\n\u001b[1;32m    158\u001b[0m   \u001b[38;5;28;01mreturn\u001b[39;00m SideOutputEffectImpl(\n\u001b[1;32m    159\u001b[0m       _keypath\u001b[38;5;241m=\u001b[39mkeypath,\n\u001b[1;32m    160\u001b[0m       _tag\u001b[38;5;241m=\u001b[39mref\u001b[38;5;241m.\u001b[39mtag,\n\u001b[1;32m    161\u001b[0m       _destination\u001b[38;5;241m=\u001b[39mall_outputs,\n\u001b[1;32m    162\u001b[0m       _handler_id\u001b[38;5;241m=\u001b[39m\u001b[38;5;28mself\u001b[39m\u001b[38;5;241m.\u001b[39mhandler_id,\n\u001b[1;32m    163\u001b[0m   )\n\u001b[1;32m    165\u001b[0m handled_body \u001b[38;5;241m=\u001b[39m (\n\u001b[1;32m    166\u001b[0m     selectors\u001b[38;5;241m.\u001b[39mselect(\u001b[38;5;28mself\u001b[39m\u001b[38;5;241m.\u001b[39mbody)\n\u001b[1;32m    167\u001b[0m     \u001b[38;5;241m.\u001b[39mat_instances_of(HandledSideOutputRef)\n\u001b[1;32m    168\u001b[0m     \u001b[38;5;241m.\u001b[39mwhere(\u001b[38;5;28;01mlambda\u001b[39;00m ref: ref\u001b[38;5;241m.\u001b[39mhandler_id \u001b[38;5;241m==\u001b[39m \u001b[38;5;28mself\u001b[39m\u001b[38;5;241m.\u001b[39mhandler_id)\n\u001b[1;32m    169\u001b[0m     \u001b[38;5;241m.\u001b[39mapply(_make_impl, with_keypath\u001b[38;5;241m=\u001b[39m\u001b[38;5;28;01mTrue\u001b[39;00m)\n\u001b[1;32m    170\u001b[0m )\n\u001b[0;32m--> 171\u001b[0m result \u001b[38;5;241m=\u001b[39m \u001b[43mhandled_body\u001b[49m\u001b[43m(\u001b[49m\u001b[43margument\u001b[49m\u001b[43m)\u001b[49m\n\u001b[1;32m    172\u001b[0m \u001b[38;5;28;01mreturn\u001b[39;00m result, all_outputs\n",
      "File \u001b[0;32m~/.cache/pypoetry/virtualenvs/micrlhf-progress-_SD4q1c9-py3.12/lib/python3.12/site-packages/penzai/core/layer.py:82\u001b[0m, in \u001b[0;36mchecked_layer_call.<locals>.wrapper\u001b[0;34m(self, argument)\u001b[0m\n\u001b[1;32m     80\u001b[0m output_structure \u001b[38;5;241m=\u001b[39m \u001b[38;5;28mself\u001b[39m\u001b[38;5;241m.\u001b[39moutput_structure()\n\u001b[1;32m     81\u001b[0m \u001b[38;5;28;01mwith\u001b[39;00m jax\u001b[38;5;241m.\u001b[39mnamed_scope(\u001b[38;5;28mtype\u001b[39m(\u001b[38;5;28mself\u001b[39m)\u001b[38;5;241m.\u001b[39m\u001b[38;5;18m__name__\u001b[39m):\n\u001b[0;32m---> 82\u001b[0m   result \u001b[38;5;241m=\u001b[39m \u001b[43mfunc\u001b[49m\u001b[43m(\u001b[49m\u001b[38;5;28;43mself\u001b[39;49m\u001b[43m,\u001b[49m\u001b[43m \u001b[49m\u001b[43margument\u001b[49m\u001b[43m)\u001b[49m\n\u001b[1;32m     83\u001b[0m shapecheck\u001b[38;5;241m.\u001b[39mcheck_structure(\n\u001b[1;32m     84\u001b[0m     result,\n\u001b[1;32m     85\u001b[0m     pattern\u001b[38;5;241m=\u001b[39moutput_structure,\n\u001b[0;32m   (...)\u001b[0m\n\u001b[1;32m     90\u001b[0m     ),\n\u001b[1;32m     91\u001b[0m )\n\u001b[1;32m     92\u001b[0m \u001b[38;5;28;01mreturn\u001b[39;00m result\n",
      "File \u001b[0;32m~/micrlhf-progress/micrlhf/llama.py:255\u001b[0m, in \u001b[0;36mLlamaTransformer.__call__\u001b[0;34m(self, inputs)\u001b[0m\n\u001b[1;32m    253\u001b[0m \u001b[38;5;129m@pz\u001b[39m\u001b[38;5;241m.\u001b[39mchecked_layer_call\n\u001b[1;32m    254\u001b[0m \u001b[38;5;28;01mdef\u001b[39;00m \u001b[38;5;21m__call__\u001b[39m(\u001b[38;5;28mself\u001b[39m, inputs: LlamaInputs) \u001b[38;5;241m-\u001b[39m\u001b[38;5;241m>\u001b[39m pz\u001b[38;5;241m.\u001b[39mnx\u001b[38;5;241m.\u001b[39mNamedArray:\n\u001b[0;32m--> 255\u001b[0m     \u001b[38;5;28;01mreturn\u001b[39;00m \u001b[38;5;28;43mself\u001b[39;49m\u001b[38;5;241;43m.\u001b[39;49m\u001b[43mbody\u001b[49m\u001b[43m(\u001b[49m\u001b[43m(\u001b[49m\u001b[43minputs\u001b[49m\u001b[38;5;241;43m.\u001b[39;49m\u001b[43mtokens\u001b[49m\u001b[43m,\u001b[49m\u001b[43m \u001b[49m\u001b[43minputs\u001b[49m\u001b[38;5;241;43m.\u001b[39;49m\u001b[43mpositions\u001b[49m\u001b[43m,\u001b[49m\u001b[43m \u001b[49m\u001b[43minputs\u001b[49m\u001b[38;5;241;43m.\u001b[39;49m\u001b[43mattention_mask\u001b[49m\u001b[43m)\u001b[49m\u001b[43m)\u001b[49m\n",
      "File \u001b[0;32m~/.cache/pypoetry/virtualenvs/micrlhf-progress-_SD4q1c9-py3.12/lib/python3.12/site-packages/penzai/core/layer.py:82\u001b[0m, in \u001b[0;36mchecked_layer_call.<locals>.wrapper\u001b[0;34m(self, argument)\u001b[0m\n\u001b[1;32m     80\u001b[0m output_structure \u001b[38;5;241m=\u001b[39m \u001b[38;5;28mself\u001b[39m\u001b[38;5;241m.\u001b[39moutput_structure()\n\u001b[1;32m     81\u001b[0m \u001b[38;5;28;01mwith\u001b[39;00m jax\u001b[38;5;241m.\u001b[39mnamed_scope(\u001b[38;5;28mtype\u001b[39m(\u001b[38;5;28mself\u001b[39m)\u001b[38;5;241m.\u001b[39m\u001b[38;5;18m__name__\u001b[39m):\n\u001b[0;32m---> 82\u001b[0m   result \u001b[38;5;241m=\u001b[39m \u001b[43mfunc\u001b[49m\u001b[43m(\u001b[49m\u001b[38;5;28;43mself\u001b[39;49m\u001b[43m,\u001b[49m\u001b[43m \u001b[49m\u001b[43margument\u001b[49m\u001b[43m)\u001b[49m\n\u001b[1;32m     83\u001b[0m shapecheck\u001b[38;5;241m.\u001b[39mcheck_structure(\n\u001b[1;32m     84\u001b[0m     result,\n\u001b[1;32m     85\u001b[0m     pattern\u001b[38;5;241m=\u001b[39moutput_structure,\n\u001b[0;32m   (...)\u001b[0m\n\u001b[1;32m     90\u001b[0m     ),\n\u001b[1;32m     91\u001b[0m )\n\u001b[1;32m     92\u001b[0m \u001b[38;5;28;01mreturn\u001b[39;00m result\n",
      "File \u001b[0;32m~/.cache/pypoetry/virtualenvs/micrlhf-progress-_SD4q1c9-py3.12/lib/python3.12/site-packages/penzai/data_effects/side_input.py:146\u001b[0m, in \u001b[0;36mWithSideInputsFromInputTuple.__call__\u001b[0;34m(self, argument)\u001b[0m\n\u001b[1;32m    136\u001b[0m impls \u001b[38;5;241m=\u001b[39m {\n\u001b[1;32m    137\u001b[0m     tag: SideInputEffectImpl(_value\u001b[38;5;241m=\u001b[39mval, _handler_id\u001b[38;5;241m=\u001b[39m\u001b[38;5;28mself\u001b[39m\u001b[38;5;241m.\u001b[39mhandler_id)\n\u001b[1;32m    138\u001b[0m     \u001b[38;5;28;01mfor\u001b[39;00m tag, val \u001b[38;5;129;01min\u001b[39;00m \u001b[38;5;28mzip\u001b[39m(\u001b[38;5;28mself\u001b[39m\u001b[38;5;241m.\u001b[39mside_input_tags, side_inputs)\n\u001b[1;32m    139\u001b[0m }\n\u001b[1;32m    140\u001b[0m handled_body \u001b[38;5;241m=\u001b[39m (\n\u001b[1;32m    141\u001b[0m     selectors\u001b[38;5;241m.\u001b[39mselect(\u001b[38;5;28mself\u001b[39m\u001b[38;5;241m.\u001b[39mbody)\n\u001b[1;32m    142\u001b[0m     \u001b[38;5;241m.\u001b[39mat_instances_of(HandledSideInputRef)\n\u001b[1;32m    143\u001b[0m     \u001b[38;5;241m.\u001b[39mwhere(\u001b[38;5;28;01mlambda\u001b[39;00m ref: ref\u001b[38;5;241m.\u001b[39mhandler_id \u001b[38;5;241m==\u001b[39m \u001b[38;5;28mself\u001b[39m\u001b[38;5;241m.\u001b[39mhandler_id)\n\u001b[1;32m    144\u001b[0m     \u001b[38;5;241m.\u001b[39mapply(\u001b[38;5;28;01mlambda\u001b[39;00m ref: impls[ref\u001b[38;5;241m.\u001b[39mtag])\n\u001b[1;32m    145\u001b[0m )\n\u001b[0;32m--> 146\u001b[0m \u001b[38;5;28;01mreturn\u001b[39;00m \u001b[43mhandled_body\u001b[49m\u001b[43m(\u001b[49m\u001b[43minner_arg\u001b[49m\u001b[43m)\u001b[49m\n",
      "File \u001b[0;32m~/.cache/pypoetry/virtualenvs/micrlhf-progress-_SD4q1c9-py3.12/lib/python3.12/site-packages/penzai/nn/grouping.py:79\u001b[0m, in \u001b[0;36mSequential.__call__\u001b[0;34m(self, value)\u001b[0m\n\u001b[1;32m     77\u001b[0m \u001b[38;5;28;01mfor\u001b[39;00m i, layer \u001b[38;5;129;01min\u001b[39;00m \u001b[38;5;28menumerate\u001b[39m(\u001b[38;5;28mself\u001b[39m\u001b[38;5;241m.\u001b[39msublayers):\n\u001b[1;32m     78\u001b[0m   \u001b[38;5;28;01mwith\u001b[39;00m jax\u001b[38;5;241m.\u001b[39mnamed_scope(\u001b[38;5;124mf\u001b[39m\u001b[38;5;124m\"\u001b[39m\u001b[38;5;132;01m{\u001b[39;00mi\u001b[38;5;132;01m}\u001b[39;00m\u001b[38;5;124m\"\u001b[39m):\n\u001b[0;32m---> 79\u001b[0m     value \u001b[38;5;241m=\u001b[39m \u001b[43mlayer\u001b[49m\u001b[43m(\u001b[49m\u001b[43mvalue\u001b[49m\u001b[43m)\u001b[49m\n\u001b[1;32m     80\u001b[0m \u001b[38;5;28;01mreturn\u001b[39;00m value\n",
      "File \u001b[0;32m~/.cache/pypoetry/virtualenvs/micrlhf-progress-_SD4q1c9-py3.12/lib/python3.12/site-packages/penzai/nn/grouping.py:79\u001b[0m, in \u001b[0;36mSequential.__call__\u001b[0;34m(self, value)\u001b[0m\n\u001b[1;32m     77\u001b[0m \u001b[38;5;28;01mfor\u001b[39;00m i, layer \u001b[38;5;129;01min\u001b[39;00m \u001b[38;5;28menumerate\u001b[39m(\u001b[38;5;28mself\u001b[39m\u001b[38;5;241m.\u001b[39msublayers):\n\u001b[1;32m     78\u001b[0m   \u001b[38;5;28;01mwith\u001b[39;00m jax\u001b[38;5;241m.\u001b[39mnamed_scope(\u001b[38;5;124mf\u001b[39m\u001b[38;5;124m\"\u001b[39m\u001b[38;5;132;01m{\u001b[39;00mi\u001b[38;5;132;01m}\u001b[39;00m\u001b[38;5;124m\"\u001b[39m):\n\u001b[0;32m---> 79\u001b[0m     value \u001b[38;5;241m=\u001b[39m \u001b[43mlayer\u001b[49m\u001b[43m(\u001b[49m\u001b[43mvalue\u001b[49m\u001b[43m)\u001b[49m\n\u001b[1;32m     80\u001b[0m \u001b[38;5;28;01mreturn\u001b[39;00m value\n",
      "    \u001b[0;31m[... skipping similar frames: Sequential.__call__ at line 79 (1 times)]\u001b[0m\n",
      "File \u001b[0;32m~/.cache/pypoetry/virtualenvs/micrlhf-progress-_SD4q1c9-py3.12/lib/python3.12/site-packages/penzai/nn/grouping.py:79\u001b[0m, in \u001b[0;36mSequential.__call__\u001b[0;34m(self, value)\u001b[0m\n\u001b[1;32m     77\u001b[0m \u001b[38;5;28;01mfor\u001b[39;00m i, layer \u001b[38;5;129;01min\u001b[39;00m \u001b[38;5;28menumerate\u001b[39m(\u001b[38;5;28mself\u001b[39m\u001b[38;5;241m.\u001b[39msublayers):\n\u001b[1;32m     78\u001b[0m   \u001b[38;5;28;01mwith\u001b[39;00m jax\u001b[38;5;241m.\u001b[39mnamed_scope(\u001b[38;5;124mf\u001b[39m\u001b[38;5;124m\"\u001b[39m\u001b[38;5;132;01m{\u001b[39;00mi\u001b[38;5;132;01m}\u001b[39;00m\u001b[38;5;124m\"\u001b[39m):\n\u001b[0;32m---> 79\u001b[0m     value \u001b[38;5;241m=\u001b[39m \u001b[43mlayer\u001b[49m\u001b[43m(\u001b[49m\u001b[43mvalue\u001b[49m\u001b[43m)\u001b[49m\n\u001b[1;32m     80\u001b[0m \u001b[38;5;28;01mreturn\u001b[39;00m value\n",
      "File \u001b[0;32m~/.cache/pypoetry/virtualenvs/micrlhf-progress-_SD4q1c9-py3.12/lib/python3.12/site-packages/penzai/nn/combinators.py:59\u001b[0m, in \u001b[0;36mResidual.__call__\u001b[0;34m(self, value)\u001b[0m\n\u001b[1;32m     50\u001b[0m \u001b[38;5;28;01mdef\u001b[39;00m \u001b[38;5;21m__call__\u001b[39m(\u001b[38;5;28mself\u001b[39m, value: Any) \u001b[38;5;241m-\u001b[39m\u001b[38;5;241m>\u001b[39m Any:\n\u001b[1;32m     51\u001b[0m \u001b[38;5;250m  \u001b[39m\u001b[38;5;124;03m\"\"\"Runs each of the sublayers in sequence, then adds back the original input.\u001b[39;00m\n\u001b[1;32m     52\u001b[0m \n\u001b[1;32m     53\u001b[0m \u001b[38;5;124;03m  Args:\u001b[39;00m\n\u001b[0;32m   (...)\u001b[0m\n\u001b[1;32m     57\u001b[0m \u001b[38;5;124;03m    The sum of the input to the residual block and the output of the child.\u001b[39;00m\n\u001b[1;32m     58\u001b[0m \u001b[38;5;124;03m  \"\"\"\u001b[39;00m\n\u001b[0;32m---> 59\u001b[0m   delta_value \u001b[38;5;241m=\u001b[39m \u001b[38;5;28;43mself\u001b[39;49m\u001b[38;5;241;43m.\u001b[39;49m\u001b[43mdelta\u001b[49m\u001b[43m(\u001b[49m\u001b[43mvalue\u001b[49m\u001b[43m)\u001b[49m\n\u001b[1;32m     60\u001b[0m   \u001b[38;5;28;01mreturn\u001b[39;00m delta_value \u001b[38;5;241m+\u001b[39m value\n",
      "File \u001b[0;32m~/.cache/pypoetry/virtualenvs/micrlhf-progress-_SD4q1c9-py3.12/lib/python3.12/site-packages/penzai/nn/grouping.py:79\u001b[0m, in \u001b[0;36mSequential.__call__\u001b[0;34m(self, value)\u001b[0m\n\u001b[1;32m     77\u001b[0m \u001b[38;5;28;01mfor\u001b[39;00m i, layer \u001b[38;5;129;01min\u001b[39;00m \u001b[38;5;28menumerate\u001b[39m(\u001b[38;5;28mself\u001b[39m\u001b[38;5;241m.\u001b[39msublayers):\n\u001b[1;32m     78\u001b[0m   \u001b[38;5;28;01mwith\u001b[39;00m jax\u001b[38;5;241m.\u001b[39mnamed_scope(\u001b[38;5;124mf\u001b[39m\u001b[38;5;124m\"\u001b[39m\u001b[38;5;132;01m{\u001b[39;00mi\u001b[38;5;132;01m}\u001b[39;00m\u001b[38;5;124m\"\u001b[39m):\n\u001b[0;32m---> 79\u001b[0m     value \u001b[38;5;241m=\u001b[39m \u001b[43mlayer\u001b[49m\u001b[43m(\u001b[49m\u001b[43mvalue\u001b[49m\u001b[43m)\u001b[49m\n\u001b[1;32m     80\u001b[0m \u001b[38;5;28;01mreturn\u001b[39;00m value\n",
      "File \u001b[0;32m~/.cache/pypoetry/virtualenvs/micrlhf-progress-_SD4q1c9-py3.12/lib/python3.12/site-packages/penzai/nn/attention.py:132\u001b[0m, in \u001b[0;36mAttention.__call__\u001b[0;34m(self, x)\u001b[0m\n\u001b[1;32m    130\u001b[0m key \u001b[38;5;241m=\u001b[39m \u001b[38;5;28mself\u001b[39m\u001b[38;5;241m.\u001b[39minput_to_key(x)\n\u001b[1;32m    131\u001b[0m value \u001b[38;5;241m=\u001b[39m \u001b[38;5;28mself\u001b[39m\u001b[38;5;241m.\u001b[39minput_to_value(x)\n\u001b[0;32m--> 132\u001b[0m attn \u001b[38;5;241m=\u001b[39m \u001b[38;5;28;43mself\u001b[39;49m\u001b[38;5;241;43m.\u001b[39;49m\u001b[43mquery_key_to_attn\u001b[49m\u001b[43m(\u001b[49m\u001b[43m(\u001b[49m\u001b[43mquery\u001b[49m\u001b[43m,\u001b[49m\u001b[43m \u001b[49m\u001b[43mkey\u001b[49m\u001b[43m)\u001b[49m\u001b[43m)\u001b[49m\n\u001b[1;32m    133\u001b[0m output \u001b[38;5;241m=\u001b[39m \u001b[38;5;28mself\u001b[39m\u001b[38;5;241m.\u001b[39mattn_value_to_output((attn, value))\n\u001b[1;32m    134\u001b[0m \u001b[38;5;28;01mreturn\u001b[39;00m output\n",
      "File \u001b[0;32m~/.cache/pypoetry/virtualenvs/micrlhf-progress-_SD4q1c9-py3.12/lib/python3.12/site-packages/penzai/nn/grouping.py:79\u001b[0m, in \u001b[0;36mSequential.__call__\u001b[0;34m(self, value)\u001b[0m\n\u001b[1;32m     77\u001b[0m \u001b[38;5;28;01mfor\u001b[39;00m i, layer \u001b[38;5;129;01min\u001b[39;00m \u001b[38;5;28menumerate\u001b[39m(\u001b[38;5;28mself\u001b[39m\u001b[38;5;241m.\u001b[39msublayers):\n\u001b[1;32m     78\u001b[0m   \u001b[38;5;28;01mwith\u001b[39;00m jax\u001b[38;5;241m.\u001b[39mnamed_scope(\u001b[38;5;124mf\u001b[39m\u001b[38;5;124m\"\u001b[39m\u001b[38;5;132;01m{\u001b[39;00mi\u001b[38;5;132;01m}\u001b[39;00m\u001b[38;5;124m\"\u001b[39m):\n\u001b[0;32m---> 79\u001b[0m     value \u001b[38;5;241m=\u001b[39m \u001b[43mlayer\u001b[49m\u001b[43m(\u001b[49m\u001b[43mvalue\u001b[49m\u001b[43m)\u001b[49m\n\u001b[1;32m     80\u001b[0m \u001b[38;5;28;01mreturn\u001b[39;00m value\n",
      "File \u001b[0;32m~/.cache/pypoetry/virtualenvs/micrlhf-progress-_SD4q1c9-py3.12/lib/python3.12/site-packages/penzai/core/layer.py:82\u001b[0m, in \u001b[0;36mchecked_layer_call.<locals>.wrapper\u001b[0;34m(self, argument)\u001b[0m\n\u001b[1;32m     80\u001b[0m output_structure \u001b[38;5;241m=\u001b[39m \u001b[38;5;28mself\u001b[39m\u001b[38;5;241m.\u001b[39moutput_structure()\n\u001b[1;32m     81\u001b[0m \u001b[38;5;28;01mwith\u001b[39;00m jax\u001b[38;5;241m.\u001b[39mnamed_scope(\u001b[38;5;28mtype\u001b[39m(\u001b[38;5;28mself\u001b[39m)\u001b[38;5;241m.\u001b[39m\u001b[38;5;18m__name__\u001b[39m):\n\u001b[0;32m---> 82\u001b[0m   result \u001b[38;5;241m=\u001b[39m \u001b[43mfunc\u001b[49m\u001b[43m(\u001b[49m\u001b[38;5;28;43mself\u001b[39;49m\u001b[43m,\u001b[49m\u001b[43m \u001b[49m\u001b[43margument\u001b[49m\u001b[43m)\u001b[49m\n\u001b[1;32m     83\u001b[0m shapecheck\u001b[38;5;241m.\u001b[39mcheck_structure(\n\u001b[1;32m     84\u001b[0m     result,\n\u001b[1;32m     85\u001b[0m     pattern\u001b[38;5;241m=\u001b[39moutput_structure,\n\u001b[0;32m   (...)\u001b[0m\n\u001b[1;32m     90\u001b[0m     ),\n\u001b[1;32m     91\u001b[0m )\n\u001b[1;32m     92\u001b[0m \u001b[38;5;28;01mreturn\u001b[39;00m result\n",
      "File \u001b[0;32m~/.cache/pypoetry/virtualenvs/micrlhf-progress-_SD4q1c9-py3.12/lib/python3.12/site-packages/penzai/nn/basic_ops.py:92\u001b[0m, in \u001b[0;36mSoftmax.__call__\u001b[0;34m(self, inputs)\u001b[0m\n\u001b[1;32m     87\u001b[0m \u001b[38;5;129m@layer\u001b[39m\u001b[38;5;241m.\u001b[39mchecked_layer_call\n\u001b[1;32m     88\u001b[0m \u001b[38;5;28;01mdef\u001b[39;00m \u001b[38;5;21m__call__\u001b[39m(\n\u001b[1;32m     89\u001b[0m     \u001b[38;5;28mself\u001b[39m, inputs: named_axes\u001b[38;5;241m.\u001b[39mNamedArrayBase\n\u001b[1;32m     90\u001b[0m ) \u001b[38;5;241m-\u001b[39m\u001b[38;5;241m>\u001b[39m named_axes\u001b[38;5;241m.\u001b[39mNamedArrayBase:\n\u001b[1;32m     91\u001b[0m   axes \u001b[38;5;241m=\u001b[39m (\u001b[38;5;28mself\u001b[39m\u001b[38;5;241m.\u001b[39maxes,) \u001b[38;5;28;01mif\u001b[39;00m \u001b[38;5;28misinstance\u001b[39m(\u001b[38;5;28mself\u001b[39m\u001b[38;5;241m.\u001b[39maxes, \u001b[38;5;28mstr\u001b[39m) \u001b[38;5;28;01melse\u001b[39;00m \u001b[38;5;28mself\u001b[39m\u001b[38;5;241m.\u001b[39maxes\n\u001b[0;32m---> 92\u001b[0m   \u001b[38;5;28;01mreturn\u001b[39;00m \u001b[43mnamed_axes\u001b[49m\u001b[38;5;241;43m.\u001b[39;49m\u001b[43mnmap\u001b[49m\u001b[43m(\u001b[49m\u001b[43mjax\u001b[49m\u001b[38;5;241;43m.\u001b[39;49m\u001b[43mnn\u001b[49m\u001b[38;5;241;43m.\u001b[39;49m\u001b[43msoftmax\u001b[49m\u001b[43m)\u001b[49m\u001b[43m(\u001b[49m\n\u001b[1;32m     93\u001b[0m \u001b[43m      \u001b[49m\u001b[43minputs\u001b[49m\u001b[38;5;241;43m.\u001b[39;49m\u001b[43muntag\u001b[49m\u001b[43m(\u001b[49m\u001b[38;5;241;43m*\u001b[39;49m\u001b[43maxes\u001b[49m\u001b[43m)\u001b[49m\u001b[43m,\u001b[49m\u001b[43m \u001b[49m\u001b[43maxis\u001b[49m\u001b[38;5;241;43m=\u001b[39;49m\u001b[38;5;28;43mtuple\u001b[39;49m\u001b[43m(\u001b[49m\u001b[38;5;28;43mrange\u001b[39;49m\u001b[43m(\u001b[49m\u001b[38;5;28;43mlen\u001b[39;49m\u001b[43m(\u001b[49m\u001b[43maxes\u001b[49m\u001b[43m)\u001b[49m\u001b[43m)\u001b[49m\u001b[43m)\u001b[49m\n\u001b[1;32m     94\u001b[0m \u001b[43m  \u001b[49m\u001b[43m)\u001b[49m\u001b[38;5;241m.\u001b[39mtag(\u001b[38;5;241m*\u001b[39maxes)\n",
      "File \u001b[0;32m~/.cache/pypoetry/virtualenvs/micrlhf-progress-_SD4q1c9-py3.12/lib/python3.12/site-packages/penzai/core/named_axes.py:309\u001b[0m, in \u001b[0;36m_nmap_with_doc.<locals>.wrapped_fun\u001b[0;34m(*args, **kwargs)\u001b[0m\n\u001b[1;32m    298\u001b[0m   \u001b[38;5;28;01mreturn\u001b[39;00m jax\u001b[38;5;241m.\u001b[39mvmap(\n\u001b[1;32m    299\u001b[0m       functools\u001b[38;5;241m.\u001b[39mpartial(\n\u001b[1;32m    300\u001b[0m           recursive_vectorize_step,\n\u001b[0;32m   (...)\u001b[0m\n\u001b[1;32m    305\u001b[0m       axis_name\u001b[38;5;241m=\u001b[39mvmap_name,\n\u001b[1;32m    306\u001b[0m   )(reduced_views)\n\u001b[1;32m    308\u001b[0m \u001b[38;5;66;03m# Run the function.\u001b[39;00m\n\u001b[0;32m--> 309\u001b[0m result_data \u001b[38;5;241m=\u001b[39m \u001b[43mrecursive_vectorize_step\u001b[49m\u001b[43m(\u001b[49m\u001b[43mnamed_array_arg_leaves\u001b[49m\u001b[43m,\u001b[49m\u001b[43m \u001b[49m\u001b[43mall_names\u001b[49m\u001b[43m)\u001b[49m\n\u001b[1;32m    311\u001b[0m \u001b[38;5;66;03m# Wrap all leaves in NamedArray or NamedArrayView, assigning the names from\u001b[39;00m\n\u001b[1;32m    312\u001b[0m \u001b[38;5;66;03m# `all_names` to their mapped-over axes. The mapped-over named axes always\u001b[39;00m\n\u001b[1;32m    313\u001b[0m \u001b[38;5;66;03m# end up at the front, followed by positional axes, so if there are any\u001b[39;00m\n\u001b[1;32m    314\u001b[0m \u001b[38;5;66;03m# positional axes we need to return a NamedArrayView.\u001b[39;00m\n\u001b[1;32m    315\u001b[0m \u001b[38;5;28;01mdef\u001b[39;00m \u001b[38;5;21mhandle_result\u001b[39m(leaf):\n",
      "File \u001b[0;32m~/.cache/pypoetry/virtualenvs/micrlhf-progress-_SD4q1c9-py3.12/lib/python3.12/site-packages/penzai/core/named_axes.py:298\u001b[0m, in \u001b[0;36m_nmap_with_doc.<locals>.wrapped_fun.<locals>.recursive_vectorize_step\u001b[0;34m(current_views, remaining_names)\u001b[0m\n\u001b[1;32m    295\u001b[0m     vmap_axes\u001b[38;5;241m.\u001b[39mappend(\u001b[38;5;28;01mNone\u001b[39;00m)\n\u001b[1;32m    296\u001b[0m     reduced_views\u001b[38;5;241m.\u001b[39mappend(view)\n\u001b[0;32m--> 298\u001b[0m \u001b[38;5;28;01mreturn\u001b[39;00m \u001b[43mjax\u001b[49m\u001b[38;5;241;43m.\u001b[39;49m\u001b[43mvmap\u001b[49m\u001b[43m(\u001b[49m\n\u001b[1;32m    299\u001b[0m \u001b[43m    \u001b[49m\u001b[43mfunctools\u001b[49m\u001b[38;5;241;43m.\u001b[39;49m\u001b[43mpartial\u001b[49m\u001b[43m(\u001b[49m\n\u001b[1;32m    300\u001b[0m \u001b[43m        \u001b[49m\u001b[43mrecursive_vectorize_step\u001b[49m\u001b[43m,\u001b[49m\n\u001b[1;32m    301\u001b[0m \u001b[43m        \u001b[49m\u001b[43mremaining_names\u001b[49m\u001b[38;5;241;43m=\u001b[39;49m\u001b[43mremaining_names\u001b[49m\u001b[43m[\u001b[49m\u001b[38;5;241;43m1\u001b[39;49m\u001b[43m:\u001b[49m\u001b[43m]\u001b[49m\u001b[43m,\u001b[49m\n\u001b[1;32m    302\u001b[0m \u001b[43m    \u001b[49m\u001b[43m)\u001b[49m\u001b[43m,\u001b[49m\n\u001b[1;32m    303\u001b[0m \u001b[43m    \u001b[49m\u001b[43min_axes\u001b[49m\u001b[38;5;241;43m=\u001b[39;49m\u001b[43m(\u001b[49m\u001b[43mvmap_axes\u001b[49m\u001b[43m,\u001b[49m\u001b[43m)\u001b[49m\u001b[43m,\u001b[49m\n\u001b[1;32m    304\u001b[0m \u001b[43m    \u001b[49m\u001b[43mout_axes\u001b[49m\u001b[38;5;241;43m=\u001b[39;49m\u001b[38;5;241;43m0\u001b[39;49m\u001b[43m,\u001b[49m\n\u001b[1;32m    305\u001b[0m \u001b[43m    \u001b[49m\u001b[43maxis_name\u001b[49m\u001b[38;5;241;43m=\u001b[39;49m\u001b[43mvmap_name\u001b[49m\u001b[43m,\u001b[49m\n\u001b[1;32m    306\u001b[0m \u001b[43m\u001b[49m\u001b[43m)\u001b[49m\u001b[43m(\u001b[49m\u001b[43mreduced_views\u001b[49m\u001b[43m)\u001b[49m\n",
      "    \u001b[0;31m[... skipping hidden 1 frame]\u001b[0m\n",
      "File \u001b[0;32m~/.cache/pypoetry/virtualenvs/micrlhf-progress-_SD4q1c9-py3.12/lib/python3.12/site-packages/jax/_src/api.py:1214\u001b[0m, in \u001b[0;36mvmap.<locals>.vmap_f\u001b[0;34m(*args, **kwargs)\u001b[0m\n\u001b[1;32m   1211\u001b[0m in_axes_flat \u001b[38;5;241m=\u001b[39m flatten_axes(\u001b[38;5;124m\"\u001b[39m\u001b[38;5;124mvmap in_axes\u001b[39m\u001b[38;5;124m\"\u001b[39m, in_tree, (in_axes, \u001b[38;5;241m0\u001b[39m), kws\u001b[38;5;241m=\u001b[39m\u001b[38;5;28;01mTrue\u001b[39;00m)\n\u001b[1;32m   1212\u001b[0m axis_size_ \u001b[38;5;241m=\u001b[39m (axis_size \u001b[38;5;28;01mif\u001b[39;00m axis_size \u001b[38;5;129;01mis\u001b[39;00m \u001b[38;5;129;01mnot\u001b[39;00m \u001b[38;5;28;01mNone\u001b[39;00m \u001b[38;5;28;01melse\u001b[39;00m\n\u001b[1;32m   1213\u001b[0m               _mapped_axis_size(fun, in_tree, args_flat, in_axes_flat, \u001b[38;5;124m\"\u001b[39m\u001b[38;5;124mvmap\u001b[39m\u001b[38;5;124m\"\u001b[39m))\n\u001b[0;32m-> 1214\u001b[0m out_flat \u001b[38;5;241m=\u001b[39m \u001b[43mbatching\u001b[49m\u001b[38;5;241;43m.\u001b[39;49m\u001b[43mbatch\u001b[49m\u001b[43m(\u001b[49m\n\u001b[1;32m   1215\u001b[0m \u001b[43m    \u001b[49m\u001b[43mflat_fun\u001b[49m\u001b[43m,\u001b[49m\u001b[43m \u001b[49m\u001b[43maxis_name\u001b[49m\u001b[43m,\u001b[49m\u001b[43m \u001b[49m\u001b[43maxis_size_\u001b[49m\u001b[43m,\u001b[49m\u001b[43m \u001b[49m\u001b[43min_axes_flat\u001b[49m\u001b[43m,\u001b[49m\n\u001b[1;32m   1216\u001b[0m \u001b[43m    \u001b[49m\u001b[38;5;28;43;01mlambda\u001b[39;49;00m\u001b[43m:\u001b[49m\u001b[43m \u001b[49m\u001b[43mflatten_axes\u001b[49m\u001b[43m(\u001b[49m\u001b[38;5;124;43m\"\u001b[39;49m\u001b[38;5;124;43mvmap out_axes\u001b[39;49m\u001b[38;5;124;43m\"\u001b[39;49m\u001b[43m,\u001b[49m\u001b[43m \u001b[49m\u001b[43mout_tree\u001b[49m\u001b[43m(\u001b[49m\u001b[43m)\u001b[49m\u001b[43m,\u001b[49m\u001b[43m \u001b[49m\u001b[43mout_axes\u001b[49m\u001b[43m)\u001b[49m\u001b[43m,\u001b[49m\n\u001b[1;32m   1217\u001b[0m \u001b[43m    \u001b[49m\u001b[43mspmd_axis_name\u001b[49m\u001b[38;5;241;43m=\u001b[39;49m\u001b[43mspmd_axis_name\u001b[49m\n\u001b[1;32m   1218\u001b[0m \u001b[43m\u001b[49m\u001b[43m)\u001b[49m\u001b[38;5;241;43m.\u001b[39;49m\u001b[43mcall_wrapped\u001b[49m\u001b[43m(\u001b[49m\u001b[38;5;241;43m*\u001b[39;49m\u001b[43margs_flat\u001b[49m\u001b[43m)\u001b[49m\n\u001b[1;32m   1219\u001b[0m \u001b[38;5;28;01mreturn\u001b[39;00m tree_unflatten(out_tree(), out_flat)\n",
      "File \u001b[0;32m~/.cache/pypoetry/virtualenvs/micrlhf-progress-_SD4q1c9-py3.12/lib/python3.12/site-packages/jax/_src/linear_util.py:192\u001b[0m, in \u001b[0;36mWrappedFun.call_wrapped\u001b[0;34m(self, *args, **kwargs)\u001b[0m\n\u001b[1;32m    189\u001b[0m gen \u001b[38;5;241m=\u001b[39m gen_static_args \u001b[38;5;241m=\u001b[39m out_store \u001b[38;5;241m=\u001b[39m \u001b[38;5;28;01mNone\u001b[39;00m\n\u001b[1;32m    191\u001b[0m \u001b[38;5;28;01mtry\u001b[39;00m:\n\u001b[0;32m--> 192\u001b[0m   ans \u001b[38;5;241m=\u001b[39m \u001b[38;5;28;43mself\u001b[39;49m\u001b[38;5;241;43m.\u001b[39;49m\u001b[43mf\u001b[49m\u001b[43m(\u001b[49m\u001b[38;5;241;43m*\u001b[39;49m\u001b[43margs\u001b[49m\u001b[43m,\u001b[49m\u001b[43m \u001b[49m\u001b[38;5;241;43m*\u001b[39;49m\u001b[38;5;241;43m*\u001b[39;49m\u001b[38;5;28;43mdict\u001b[39;49m\u001b[43m(\u001b[49m\u001b[38;5;28;43mself\u001b[39;49m\u001b[38;5;241;43m.\u001b[39;49m\u001b[43mparams\u001b[49m\u001b[43m,\u001b[49m\u001b[43m \u001b[49m\u001b[38;5;241;43m*\u001b[39;49m\u001b[38;5;241;43m*\u001b[39;49m\u001b[43mkwargs\u001b[49m\u001b[43m)\u001b[49m\u001b[43m)\u001b[49m\n\u001b[1;32m    193\u001b[0m \u001b[38;5;28;01mexcept\u001b[39;00m:\n\u001b[1;32m    194\u001b[0m   \u001b[38;5;66;03m# Some transformations yield from inside context managers, so we have to\u001b[39;00m\n\u001b[1;32m    195\u001b[0m   \u001b[38;5;66;03m# interrupt them before reraising the exception. Otherwise they will only\u001b[39;00m\n\u001b[1;32m    196\u001b[0m   \u001b[38;5;66;03m# get garbage-collected at some later time, running their cleanup tasks\u001b[39;00m\n\u001b[1;32m    197\u001b[0m   \u001b[38;5;66;03m# only after this exception is handled, which can corrupt the global\u001b[39;00m\n\u001b[1;32m    198\u001b[0m   \u001b[38;5;66;03m# state.\u001b[39;00m\n\u001b[1;32m    199\u001b[0m   \u001b[38;5;28;01mwhile\u001b[39;00m stack:\n",
      "File \u001b[0;32m~/.cache/pypoetry/virtualenvs/micrlhf-progress-_SD4q1c9-py3.12/lib/python3.12/site-packages/penzai/core/named_axes.py:298\u001b[0m, in \u001b[0;36m_nmap_with_doc.<locals>.wrapped_fun.<locals>.recursive_vectorize_step\u001b[0;34m(current_views, remaining_names)\u001b[0m\n\u001b[1;32m    295\u001b[0m     vmap_axes\u001b[38;5;241m.\u001b[39mappend(\u001b[38;5;28;01mNone\u001b[39;00m)\n\u001b[1;32m    296\u001b[0m     reduced_views\u001b[38;5;241m.\u001b[39mappend(view)\n\u001b[0;32m--> 298\u001b[0m \u001b[38;5;28;01mreturn\u001b[39;00m \u001b[43mjax\u001b[49m\u001b[38;5;241;43m.\u001b[39;49m\u001b[43mvmap\u001b[49m\u001b[43m(\u001b[49m\n\u001b[1;32m    299\u001b[0m \u001b[43m    \u001b[49m\u001b[43mfunctools\u001b[49m\u001b[38;5;241;43m.\u001b[39;49m\u001b[43mpartial\u001b[49m\u001b[43m(\u001b[49m\n\u001b[1;32m    300\u001b[0m \u001b[43m        \u001b[49m\u001b[43mrecursive_vectorize_step\u001b[49m\u001b[43m,\u001b[49m\n\u001b[1;32m    301\u001b[0m \u001b[43m        \u001b[49m\u001b[43mremaining_names\u001b[49m\u001b[38;5;241;43m=\u001b[39;49m\u001b[43mremaining_names\u001b[49m\u001b[43m[\u001b[49m\u001b[38;5;241;43m1\u001b[39;49m\u001b[43m:\u001b[49m\u001b[43m]\u001b[49m\u001b[43m,\u001b[49m\n\u001b[1;32m    302\u001b[0m \u001b[43m    \u001b[49m\u001b[43m)\u001b[49m\u001b[43m,\u001b[49m\n\u001b[1;32m    303\u001b[0m \u001b[43m    \u001b[49m\u001b[43min_axes\u001b[49m\u001b[38;5;241;43m=\u001b[39;49m\u001b[43m(\u001b[49m\u001b[43mvmap_axes\u001b[49m\u001b[43m,\u001b[49m\u001b[43m)\u001b[49m\u001b[43m,\u001b[49m\n\u001b[1;32m    304\u001b[0m \u001b[43m    \u001b[49m\u001b[43mout_axes\u001b[49m\u001b[38;5;241;43m=\u001b[39;49m\u001b[38;5;241;43m0\u001b[39;49m\u001b[43m,\u001b[49m\n\u001b[1;32m    305\u001b[0m \u001b[43m    \u001b[49m\u001b[43maxis_name\u001b[49m\u001b[38;5;241;43m=\u001b[39;49m\u001b[43mvmap_name\u001b[49m\u001b[43m,\u001b[49m\n\u001b[1;32m    306\u001b[0m \u001b[43m\u001b[49m\u001b[43m)\u001b[49m\u001b[43m(\u001b[49m\u001b[43mreduced_views\u001b[49m\u001b[43m)\u001b[49m\n",
      "    \u001b[0;31m[... skipping hidden 1 frame]\u001b[0m\n",
      "File \u001b[0;32m~/.cache/pypoetry/virtualenvs/micrlhf-progress-_SD4q1c9-py3.12/lib/python3.12/site-packages/jax/_src/api.py:1214\u001b[0m, in \u001b[0;36mvmap.<locals>.vmap_f\u001b[0;34m(*args, **kwargs)\u001b[0m\n\u001b[1;32m   1211\u001b[0m in_axes_flat \u001b[38;5;241m=\u001b[39m flatten_axes(\u001b[38;5;124m\"\u001b[39m\u001b[38;5;124mvmap in_axes\u001b[39m\u001b[38;5;124m\"\u001b[39m, in_tree, (in_axes, \u001b[38;5;241m0\u001b[39m), kws\u001b[38;5;241m=\u001b[39m\u001b[38;5;28;01mTrue\u001b[39;00m)\n\u001b[1;32m   1212\u001b[0m axis_size_ \u001b[38;5;241m=\u001b[39m (axis_size \u001b[38;5;28;01mif\u001b[39;00m axis_size \u001b[38;5;129;01mis\u001b[39;00m \u001b[38;5;129;01mnot\u001b[39;00m \u001b[38;5;28;01mNone\u001b[39;00m \u001b[38;5;28;01melse\u001b[39;00m\n\u001b[1;32m   1213\u001b[0m               _mapped_axis_size(fun, in_tree, args_flat, in_axes_flat, \u001b[38;5;124m\"\u001b[39m\u001b[38;5;124mvmap\u001b[39m\u001b[38;5;124m\"\u001b[39m))\n\u001b[0;32m-> 1214\u001b[0m out_flat \u001b[38;5;241m=\u001b[39m \u001b[43mbatching\u001b[49m\u001b[38;5;241;43m.\u001b[39;49m\u001b[43mbatch\u001b[49m\u001b[43m(\u001b[49m\n\u001b[1;32m   1215\u001b[0m \u001b[43m    \u001b[49m\u001b[43mflat_fun\u001b[49m\u001b[43m,\u001b[49m\u001b[43m \u001b[49m\u001b[43maxis_name\u001b[49m\u001b[43m,\u001b[49m\u001b[43m \u001b[49m\u001b[43maxis_size_\u001b[49m\u001b[43m,\u001b[49m\u001b[43m \u001b[49m\u001b[43min_axes_flat\u001b[49m\u001b[43m,\u001b[49m\n\u001b[1;32m   1216\u001b[0m \u001b[43m    \u001b[49m\u001b[38;5;28;43;01mlambda\u001b[39;49;00m\u001b[43m:\u001b[49m\u001b[43m \u001b[49m\u001b[43mflatten_axes\u001b[49m\u001b[43m(\u001b[49m\u001b[38;5;124;43m\"\u001b[39;49m\u001b[38;5;124;43mvmap out_axes\u001b[39;49m\u001b[38;5;124;43m\"\u001b[39;49m\u001b[43m,\u001b[49m\u001b[43m \u001b[49m\u001b[43mout_tree\u001b[49m\u001b[43m(\u001b[49m\u001b[43m)\u001b[49m\u001b[43m,\u001b[49m\u001b[43m \u001b[49m\u001b[43mout_axes\u001b[49m\u001b[43m)\u001b[49m\u001b[43m,\u001b[49m\n\u001b[1;32m   1217\u001b[0m \u001b[43m    \u001b[49m\u001b[43mspmd_axis_name\u001b[49m\u001b[38;5;241;43m=\u001b[39;49m\u001b[43mspmd_axis_name\u001b[49m\n\u001b[1;32m   1218\u001b[0m \u001b[43m\u001b[49m\u001b[43m)\u001b[49m\u001b[38;5;241;43m.\u001b[39;49m\u001b[43mcall_wrapped\u001b[49m\u001b[43m(\u001b[49m\u001b[38;5;241;43m*\u001b[39;49m\u001b[43margs_flat\u001b[49m\u001b[43m)\u001b[49m\n\u001b[1;32m   1219\u001b[0m \u001b[38;5;28;01mreturn\u001b[39;00m tree_unflatten(out_tree(), out_flat)\n",
      "File \u001b[0;32m~/.cache/pypoetry/virtualenvs/micrlhf-progress-_SD4q1c9-py3.12/lib/python3.12/site-packages/jax/_src/linear_util.py:192\u001b[0m, in \u001b[0;36mWrappedFun.call_wrapped\u001b[0;34m(self, *args, **kwargs)\u001b[0m\n\u001b[1;32m    189\u001b[0m gen \u001b[38;5;241m=\u001b[39m gen_static_args \u001b[38;5;241m=\u001b[39m out_store \u001b[38;5;241m=\u001b[39m \u001b[38;5;28;01mNone\u001b[39;00m\n\u001b[1;32m    191\u001b[0m \u001b[38;5;28;01mtry\u001b[39;00m:\n\u001b[0;32m--> 192\u001b[0m   ans \u001b[38;5;241m=\u001b[39m \u001b[38;5;28;43mself\u001b[39;49m\u001b[38;5;241;43m.\u001b[39;49m\u001b[43mf\u001b[49m\u001b[43m(\u001b[49m\u001b[38;5;241;43m*\u001b[39;49m\u001b[43margs\u001b[49m\u001b[43m,\u001b[49m\u001b[43m \u001b[49m\u001b[38;5;241;43m*\u001b[39;49m\u001b[38;5;241;43m*\u001b[39;49m\u001b[38;5;28;43mdict\u001b[39;49m\u001b[43m(\u001b[49m\u001b[38;5;28;43mself\u001b[39;49m\u001b[38;5;241;43m.\u001b[39;49m\u001b[43mparams\u001b[49m\u001b[43m,\u001b[49m\u001b[43m \u001b[49m\u001b[38;5;241;43m*\u001b[39;49m\u001b[38;5;241;43m*\u001b[39;49m\u001b[43mkwargs\u001b[49m\u001b[43m)\u001b[49m\u001b[43m)\u001b[49m\n\u001b[1;32m    193\u001b[0m \u001b[38;5;28;01mexcept\u001b[39;00m:\n\u001b[1;32m    194\u001b[0m   \u001b[38;5;66;03m# Some transformations yield from inside context managers, so we have to\u001b[39;00m\n\u001b[1;32m    195\u001b[0m   \u001b[38;5;66;03m# interrupt them before reraising the exception. Otherwise they will only\u001b[39;00m\n\u001b[1;32m    196\u001b[0m   \u001b[38;5;66;03m# get garbage-collected at some later time, running their cleanup tasks\u001b[39;00m\n\u001b[1;32m    197\u001b[0m   \u001b[38;5;66;03m# only after this exception is handled, which can corrupt the global\u001b[39;00m\n\u001b[1;32m    198\u001b[0m   \u001b[38;5;66;03m# state.\u001b[39;00m\n\u001b[1;32m    199\u001b[0m   \u001b[38;5;28;01mwhile\u001b[39;00m stack:\n",
      "    \u001b[0;31m[... skipping similar frames: WrappedFun.call_wrapped at line 192 (1 times), _nmap_with_doc.<locals>.wrapped_fun.<locals>.recursive_vectorize_step at line 298 (1 times), api_boundary.<locals>.reraise_with_filtered_traceback at line 179 (1 times), vmap.<locals>.vmap_f at line 1214 (1 times)]\u001b[0m\n",
      "File \u001b[0;32m~/.cache/pypoetry/virtualenvs/micrlhf-progress-_SD4q1c9-py3.12/lib/python3.12/site-packages/penzai/core/named_axes.py:298\u001b[0m, in \u001b[0;36m_nmap_with_doc.<locals>.wrapped_fun.<locals>.recursive_vectorize_step\u001b[0;34m(current_views, remaining_names)\u001b[0m\n\u001b[1;32m    295\u001b[0m     vmap_axes\u001b[38;5;241m.\u001b[39mappend(\u001b[38;5;28;01mNone\u001b[39;00m)\n\u001b[1;32m    296\u001b[0m     reduced_views\u001b[38;5;241m.\u001b[39mappend(view)\n\u001b[0;32m--> 298\u001b[0m \u001b[38;5;28;01mreturn\u001b[39;00m \u001b[43mjax\u001b[49m\u001b[38;5;241;43m.\u001b[39;49m\u001b[43mvmap\u001b[49m\u001b[43m(\u001b[49m\n\u001b[1;32m    299\u001b[0m \u001b[43m    \u001b[49m\u001b[43mfunctools\u001b[49m\u001b[38;5;241;43m.\u001b[39;49m\u001b[43mpartial\u001b[49m\u001b[43m(\u001b[49m\n\u001b[1;32m    300\u001b[0m \u001b[43m        \u001b[49m\u001b[43mrecursive_vectorize_step\u001b[49m\u001b[43m,\u001b[49m\n\u001b[1;32m    301\u001b[0m \u001b[43m        \u001b[49m\u001b[43mremaining_names\u001b[49m\u001b[38;5;241;43m=\u001b[39;49m\u001b[43mremaining_names\u001b[49m\u001b[43m[\u001b[49m\u001b[38;5;241;43m1\u001b[39;49m\u001b[43m:\u001b[49m\u001b[43m]\u001b[49m\u001b[43m,\u001b[49m\n\u001b[1;32m    302\u001b[0m \u001b[43m    \u001b[49m\u001b[43m)\u001b[49m\u001b[43m,\u001b[49m\n\u001b[1;32m    303\u001b[0m \u001b[43m    \u001b[49m\u001b[43min_axes\u001b[49m\u001b[38;5;241;43m=\u001b[39;49m\u001b[43m(\u001b[49m\u001b[43mvmap_axes\u001b[49m\u001b[43m,\u001b[49m\u001b[43m)\u001b[49m\u001b[43m,\u001b[49m\n\u001b[1;32m    304\u001b[0m \u001b[43m    \u001b[49m\u001b[43mout_axes\u001b[49m\u001b[38;5;241;43m=\u001b[39;49m\u001b[38;5;241;43m0\u001b[39;49m\u001b[43m,\u001b[49m\n\u001b[1;32m    305\u001b[0m \u001b[43m    \u001b[49m\u001b[43maxis_name\u001b[49m\u001b[38;5;241;43m=\u001b[39;49m\u001b[43mvmap_name\u001b[49m\u001b[43m,\u001b[49m\n\u001b[1;32m    306\u001b[0m \u001b[43m\u001b[49m\u001b[43m)\u001b[49m\u001b[43m(\u001b[49m\u001b[43mreduced_views\u001b[49m\u001b[43m)\u001b[49m\n",
      "    \u001b[0;31m[... skipping hidden 1 frame]\u001b[0m\n",
      "File \u001b[0;32m~/.cache/pypoetry/virtualenvs/micrlhf-progress-_SD4q1c9-py3.12/lib/python3.12/site-packages/jax/_src/api.py:1214\u001b[0m, in \u001b[0;36mvmap.<locals>.vmap_f\u001b[0;34m(*args, **kwargs)\u001b[0m\n\u001b[1;32m   1211\u001b[0m in_axes_flat \u001b[38;5;241m=\u001b[39m flatten_axes(\u001b[38;5;124m\"\u001b[39m\u001b[38;5;124mvmap in_axes\u001b[39m\u001b[38;5;124m\"\u001b[39m, in_tree, (in_axes, \u001b[38;5;241m0\u001b[39m), kws\u001b[38;5;241m=\u001b[39m\u001b[38;5;28;01mTrue\u001b[39;00m)\n\u001b[1;32m   1212\u001b[0m axis_size_ \u001b[38;5;241m=\u001b[39m (axis_size \u001b[38;5;28;01mif\u001b[39;00m axis_size \u001b[38;5;129;01mis\u001b[39;00m \u001b[38;5;129;01mnot\u001b[39;00m \u001b[38;5;28;01mNone\u001b[39;00m \u001b[38;5;28;01melse\u001b[39;00m\n\u001b[1;32m   1213\u001b[0m               _mapped_axis_size(fun, in_tree, args_flat, in_axes_flat, \u001b[38;5;124m\"\u001b[39m\u001b[38;5;124mvmap\u001b[39m\u001b[38;5;124m\"\u001b[39m))\n\u001b[0;32m-> 1214\u001b[0m out_flat \u001b[38;5;241m=\u001b[39m \u001b[43mbatching\u001b[49m\u001b[38;5;241;43m.\u001b[39;49m\u001b[43mbatch\u001b[49m\u001b[43m(\u001b[49m\n\u001b[1;32m   1215\u001b[0m \u001b[43m    \u001b[49m\u001b[43mflat_fun\u001b[49m\u001b[43m,\u001b[49m\u001b[43m \u001b[49m\u001b[43maxis_name\u001b[49m\u001b[43m,\u001b[49m\u001b[43m \u001b[49m\u001b[43maxis_size_\u001b[49m\u001b[43m,\u001b[49m\u001b[43m \u001b[49m\u001b[43min_axes_flat\u001b[49m\u001b[43m,\u001b[49m\n\u001b[1;32m   1216\u001b[0m \u001b[43m    \u001b[49m\u001b[38;5;28;43;01mlambda\u001b[39;49;00m\u001b[43m:\u001b[49m\u001b[43m \u001b[49m\u001b[43mflatten_axes\u001b[49m\u001b[43m(\u001b[49m\u001b[38;5;124;43m\"\u001b[39;49m\u001b[38;5;124;43mvmap out_axes\u001b[39;49m\u001b[38;5;124;43m\"\u001b[39;49m\u001b[43m,\u001b[49m\u001b[43m \u001b[49m\u001b[43mout_tree\u001b[49m\u001b[43m(\u001b[49m\u001b[43m)\u001b[49m\u001b[43m,\u001b[49m\u001b[43m \u001b[49m\u001b[43mout_axes\u001b[49m\u001b[43m)\u001b[49m\u001b[43m,\u001b[49m\n\u001b[1;32m   1217\u001b[0m \u001b[43m    \u001b[49m\u001b[43mspmd_axis_name\u001b[49m\u001b[38;5;241;43m=\u001b[39;49m\u001b[43mspmd_axis_name\u001b[49m\n\u001b[1;32m   1218\u001b[0m \u001b[43m\u001b[49m\u001b[43m)\u001b[49m\u001b[38;5;241;43m.\u001b[39;49m\u001b[43mcall_wrapped\u001b[49m\u001b[43m(\u001b[49m\u001b[38;5;241;43m*\u001b[39;49m\u001b[43margs_flat\u001b[49m\u001b[43m)\u001b[49m\n\u001b[1;32m   1219\u001b[0m \u001b[38;5;28;01mreturn\u001b[39;00m tree_unflatten(out_tree(), out_flat)\n",
      "File \u001b[0;32m~/.cache/pypoetry/virtualenvs/micrlhf-progress-_SD4q1c9-py3.12/lib/python3.12/site-packages/jax/_src/linear_util.py:192\u001b[0m, in \u001b[0;36mWrappedFun.call_wrapped\u001b[0;34m(self, *args, **kwargs)\u001b[0m\n\u001b[1;32m    189\u001b[0m gen \u001b[38;5;241m=\u001b[39m gen_static_args \u001b[38;5;241m=\u001b[39m out_store \u001b[38;5;241m=\u001b[39m \u001b[38;5;28;01mNone\u001b[39;00m\n\u001b[1;32m    191\u001b[0m \u001b[38;5;28;01mtry\u001b[39;00m:\n\u001b[0;32m--> 192\u001b[0m   ans \u001b[38;5;241m=\u001b[39m \u001b[38;5;28;43mself\u001b[39;49m\u001b[38;5;241;43m.\u001b[39;49m\u001b[43mf\u001b[49m\u001b[43m(\u001b[49m\u001b[38;5;241;43m*\u001b[39;49m\u001b[43margs\u001b[49m\u001b[43m,\u001b[49m\u001b[43m \u001b[49m\u001b[38;5;241;43m*\u001b[39;49m\u001b[38;5;241;43m*\u001b[39;49m\u001b[38;5;28;43mdict\u001b[39;49m\u001b[43m(\u001b[49m\u001b[38;5;28;43mself\u001b[39;49m\u001b[38;5;241;43m.\u001b[39;49m\u001b[43mparams\u001b[49m\u001b[43m,\u001b[49m\u001b[43m \u001b[49m\u001b[38;5;241;43m*\u001b[39;49m\u001b[38;5;241;43m*\u001b[39;49m\u001b[43mkwargs\u001b[49m\u001b[43m)\u001b[49m\u001b[43m)\u001b[49m\n\u001b[1;32m    193\u001b[0m \u001b[38;5;28;01mexcept\u001b[39;00m:\n\u001b[1;32m    194\u001b[0m   \u001b[38;5;66;03m# Some transformations yield from inside context managers, so we have to\u001b[39;00m\n\u001b[1;32m    195\u001b[0m   \u001b[38;5;66;03m# interrupt them before reraising the exception. Otherwise they will only\u001b[39;00m\n\u001b[1;32m    196\u001b[0m   \u001b[38;5;66;03m# get garbage-collected at some later time, running their cleanup tasks\u001b[39;00m\n\u001b[1;32m    197\u001b[0m   \u001b[38;5;66;03m# only after this exception is handled, which can corrupt the global\u001b[39;00m\n\u001b[1;32m    198\u001b[0m   \u001b[38;5;66;03m# state.\u001b[39;00m\n\u001b[1;32m    199\u001b[0m   \u001b[38;5;28;01mwhile\u001b[39;00m stack:\n",
      "File \u001b[0;32m~/.cache/pypoetry/virtualenvs/micrlhf-progress-_SD4q1c9-py3.12/lib/python3.12/site-packages/penzai/core/named_axes.py:250\u001b[0m, in \u001b[0;36m_nmap_with_doc.<locals>.wrapped_fun.<locals>.recursive_vectorize_step\u001b[0;34m(current_views, remaining_names)\u001b[0m\n\u001b[1;32m    246\u001b[0m \u001b[38;5;28;01mdef\u001b[39;00m \u001b[38;5;21mrecursive_vectorize_step\u001b[39m(current_views, remaining_names):\n\u001b[1;32m    247\u001b[0m   \u001b[38;5;28;01mif\u001b[39;00m \u001b[38;5;129;01mnot\u001b[39;00m remaining_names:\n\u001b[1;32m    248\u001b[0m     \u001b[38;5;66;03m# All names have been processed, so none of the args should have names.\u001b[39;00m\n\u001b[1;32m    249\u001b[0m     \u001b[38;5;66;03m# Unwrap them and call the function.\u001b[39;00m\n\u001b[0;32m--> 250\u001b[0m     \u001b[38;5;28;01mreturn\u001b[39;00m \u001b[43mflat_array_fun\u001b[49m\u001b[43m(\u001b[49m\u001b[43m[\u001b[49m\u001b[43mview\u001b[49m\u001b[38;5;241;43m.\u001b[39;49m\u001b[43munwrap\u001b[49m\u001b[43m(\u001b[49m\u001b[43m)\u001b[49m\u001b[43m \u001b[49m\u001b[38;5;28;43;01mfor\u001b[39;49;00m\u001b[43m \u001b[49m\u001b[43mview\u001b[49m\u001b[43m \u001b[49m\u001b[38;5;129;43;01min\u001b[39;49;00m\u001b[43m \u001b[49m\u001b[43mcurrent_views\u001b[49m\u001b[43m]\u001b[49m\u001b[43m)\u001b[49m\n\u001b[1;32m    252\u001b[0m   \u001b[38;5;66;03m# Otherwise, we still have names to vectorize over. Pop one name off the\u001b[39;00m\n\u001b[1;32m    253\u001b[0m   \u001b[38;5;66;03m# stack and vectorize over it as needed.\u001b[39;00m\n\u001b[1;32m    254\u001b[0m   vmap_name \u001b[38;5;241m=\u001b[39m remaining_names[\u001b[38;5;241m0\u001b[39m]\n",
      "File \u001b[0;32m~/.cache/pypoetry/virtualenvs/micrlhf-progress-_SD4q1c9-py3.12/lib/python3.12/site-packages/penzai/core/named_axes.py:234\u001b[0m, in \u001b[0;36m_nmap_with_doc.<locals>.wrapped_fun.<locals>.flat_array_fun\u001b[0;34m(batch_tracers)\u001b[0m\n\u001b[1;32m    232\u001b[0m \u001b[38;5;66;03m# Call the function.\u001b[39;00m\n\u001b[1;32m    233\u001b[0m args, kwargs \u001b[38;5;241m=\u001b[39m jax\u001b[38;5;241m.\u001b[39mtree_util\u001b[38;5;241m.\u001b[39mtree_unflatten(arg_treedef, new_arg_leaves)\n\u001b[0;32m--> 234\u001b[0m \u001b[38;5;28;01mreturn\u001b[39;00m \u001b[43mfun\u001b[49m\u001b[43m(\u001b[49m\u001b[38;5;241;43m*\u001b[39;49m\u001b[43margs\u001b[49m\u001b[43m,\u001b[49m\u001b[43m \u001b[49m\u001b[38;5;241;43m*\u001b[39;49m\u001b[38;5;241;43m*\u001b[39;49m\u001b[43mkwargs\u001b[49m\u001b[43m)\u001b[49m\n",
      "File \u001b[0;32m~/.cache/pypoetry/virtualenvs/micrlhf-progress-_SD4q1c9-py3.12/lib/python3.12/site-packages/jax/_src/nn/functions.py:574\u001b[0m, in \u001b[0;36msoftmax\u001b[0;34m(***failed resolving arguments***)\u001b[0m\n\u001b[1;32m    572\u001b[0m   \u001b[38;5;28;01mreturn\u001b[39;00m _softmax(x, axis, where)  \u001b[38;5;66;03m# type: ignore[return-value]\u001b[39;00m\n\u001b[1;32m    573\u001b[0m \u001b[38;5;28;01melse\u001b[39;00m:\n\u001b[0;32m--> 574\u001b[0m   \u001b[38;5;28;01mreturn\u001b[39;00m \u001b[43m_softmax_deprecated\u001b[49m\u001b[43m(\u001b[49m\u001b[43mx\u001b[49m\u001b[43m,\u001b[49m\u001b[43m \u001b[49m\u001b[43maxis\u001b[49m\u001b[43m,\u001b[49m\u001b[43m \u001b[49m\u001b[43mwhere\u001b[49m\u001b[43m)\u001b[49m\n",
      "File \u001b[0;32m~/.cache/pypoetry/virtualenvs/micrlhf-progress-_SD4q1c9-py3.12/lib/python3.12/site-packages/jax/_src/nn/functions.py:605\u001b[0m, in \u001b[0;36m_softmax_deprecated\u001b[0;34m(x, axis, where, initial)\u001b[0m\n\u001b[1;32m    603\u001b[0m x_safe \u001b[38;5;241m=\u001b[39m x \u001b[38;5;28;01mif\u001b[39;00m where \u001b[38;5;129;01mis\u001b[39;00m \u001b[38;5;28;01mNone\u001b[39;00m \u001b[38;5;28;01melse\u001b[39;00m jnp\u001b[38;5;241m.\u001b[39mwhere(where, x, initial)\n\u001b[1;32m    604\u001b[0m unnormalized \u001b[38;5;241m=\u001b[39m jnp\u001b[38;5;241m.\u001b[39mexp(x_safe \u001b[38;5;241m-\u001b[39m lax\u001b[38;5;241m.\u001b[39mstop_gradient(x_max))\n\u001b[0;32m--> 605\u001b[0m result \u001b[38;5;241m=\u001b[39m unnormalized \u001b[38;5;241m/\u001b[39m \u001b[43mjnp\u001b[49m\u001b[38;5;241;43m.\u001b[39;49m\u001b[43msum\u001b[49m\u001b[43m(\u001b[49m\u001b[43munnormalized\u001b[49m\u001b[43m,\u001b[49m\u001b[43m \u001b[49m\u001b[43maxis\u001b[49m\u001b[43m,\u001b[49m\u001b[43m \u001b[49m\u001b[43mwhere\u001b[49m\u001b[38;5;241;43m=\u001b[39;49m\u001b[43mwhere\u001b[49m\u001b[43m,\u001b[49m\u001b[43m \u001b[49m\u001b[43mkeepdims\u001b[49m\u001b[38;5;241;43m=\u001b[39;49m\u001b[38;5;28;43;01mTrue\u001b[39;49;00m\u001b[43m)\u001b[49m\n\u001b[1;32m    606\u001b[0m \u001b[38;5;28;01mif\u001b[39;00m where \u001b[38;5;129;01mis\u001b[39;00m \u001b[38;5;129;01mnot\u001b[39;00m \u001b[38;5;28;01mNone\u001b[39;00m:\n\u001b[1;32m    607\u001b[0m   result \u001b[38;5;241m=\u001b[39m jnp\u001b[38;5;241m.\u001b[39mwhere(where, result, \u001b[38;5;241m0\u001b[39m)\n",
      "File \u001b[0;32m~/.cache/pypoetry/virtualenvs/micrlhf-progress-_SD4q1c9-py3.12/lib/python3.12/site-packages/jax/_src/numpy/reductions.py:231\u001b[0m, in \u001b[0;36msum\u001b[0;34m(a, axis, dtype, out, keepdims, initial, where, promote_integers)\u001b[0m\n\u001b[1;32m    227\u001b[0m \u001b[38;5;129m@implements\u001b[39m(np\u001b[38;5;241m.\u001b[39msum, skip_params\u001b[38;5;241m=\u001b[39m[\u001b[38;5;124m'\u001b[39m\u001b[38;5;124mout\u001b[39m\u001b[38;5;124m'\u001b[39m], extra_params\u001b[38;5;241m=\u001b[39m_PROMOTE_INTEGERS_DOC)\n\u001b[1;32m    228\u001b[0m \u001b[38;5;28;01mdef\u001b[39;00m \u001b[38;5;21msum\u001b[39m(a: ArrayLike, axis: Axis \u001b[38;5;241m=\u001b[39m \u001b[38;5;28;01mNone\u001b[39;00m, dtype: DTypeLike \u001b[38;5;241m|\u001b[39m \u001b[38;5;28;01mNone\u001b[39;00m \u001b[38;5;241m=\u001b[39m \u001b[38;5;28;01mNone\u001b[39;00m,\n\u001b[1;32m    229\u001b[0m         out: \u001b[38;5;28;01mNone\u001b[39;00m \u001b[38;5;241m=\u001b[39m \u001b[38;5;28;01mNone\u001b[39;00m, keepdims: \u001b[38;5;28mbool\u001b[39m \u001b[38;5;241m=\u001b[39m \u001b[38;5;28;01mFalse\u001b[39;00m, initial: ArrayLike \u001b[38;5;241m|\u001b[39m \u001b[38;5;28;01mNone\u001b[39;00m \u001b[38;5;241m=\u001b[39m \u001b[38;5;28;01mNone\u001b[39;00m,\n\u001b[1;32m    230\u001b[0m         where: ArrayLike \u001b[38;5;241m|\u001b[39m \u001b[38;5;28;01mNone\u001b[39;00m \u001b[38;5;241m=\u001b[39m \u001b[38;5;28;01mNone\u001b[39;00m, promote_integers: \u001b[38;5;28mbool\u001b[39m \u001b[38;5;241m=\u001b[39m \u001b[38;5;28;01mTrue\u001b[39;00m) \u001b[38;5;241m-\u001b[39m\u001b[38;5;241m>\u001b[39m Array:\n\u001b[0;32m--> 231\u001b[0m   \u001b[38;5;28;01mreturn\u001b[39;00m \u001b[43m_reduce_sum\u001b[49m\u001b[43m(\u001b[49m\u001b[43ma\u001b[49m\u001b[43m,\u001b[49m\u001b[43m \u001b[49m\u001b[43maxis\u001b[49m\u001b[38;5;241;43m=\u001b[39;49m\u001b[43m_ensure_optional_axes\u001b[49m\u001b[43m(\u001b[49m\u001b[43maxis\u001b[49m\u001b[43m)\u001b[49m\u001b[43m,\u001b[49m\u001b[43m \u001b[49m\u001b[43mdtype\u001b[49m\u001b[38;5;241;43m=\u001b[39;49m\u001b[43mdtype\u001b[49m\u001b[43m,\u001b[49m\u001b[43m \u001b[49m\u001b[43mout\u001b[49m\u001b[38;5;241;43m=\u001b[39;49m\u001b[43mout\u001b[49m\u001b[43m,\u001b[49m\n\u001b[1;32m    232\u001b[0m \u001b[43m                     \u001b[49m\u001b[43mkeepdims\u001b[49m\u001b[38;5;241;43m=\u001b[39;49m\u001b[43mkeepdims\u001b[49m\u001b[43m,\u001b[49m\u001b[43m \u001b[49m\u001b[43minitial\u001b[49m\u001b[38;5;241;43m=\u001b[39;49m\u001b[43minitial\u001b[49m\u001b[43m,\u001b[49m\u001b[43m \u001b[49m\u001b[43mwhere\u001b[49m\u001b[38;5;241;43m=\u001b[39;49m\u001b[43mwhere\u001b[49m\u001b[43m,\u001b[49m\n\u001b[1;32m    233\u001b[0m \u001b[43m                     \u001b[49m\u001b[43mpromote_integers\u001b[49m\u001b[38;5;241;43m=\u001b[39;49m\u001b[43mpromote_integers\u001b[49m\u001b[43m)\u001b[49m\n",
      "    \u001b[0;31m[... skipping hidden 1 frame]\u001b[0m\n",
      "File \u001b[0;32m~/.cache/pypoetry/virtualenvs/micrlhf-progress-_SD4q1c9-py3.12/lib/python3.12/site-packages/jax/_src/pjit.py:304\u001b[0m, in \u001b[0;36m_cpp_pjit.<locals>.cache_miss\u001b[0;34m(*args, **kwargs)\u001b[0m\n\u001b[1;32m    302\u001b[0m \u001b[38;5;129m@api_boundary\u001b[39m\n\u001b[1;32m    303\u001b[0m \u001b[38;5;28;01mdef\u001b[39;00m \u001b[38;5;21mcache_miss\u001b[39m(\u001b[38;5;241m*\u001b[39margs, \u001b[38;5;241m*\u001b[39m\u001b[38;5;241m*\u001b[39mkwargs):\n\u001b[0;32m--> 304\u001b[0m   outs, out_flat, out_tree, args_flat, jaxpr, attrs_tracked \u001b[38;5;241m=\u001b[39m \u001b[43m_python_pjit_helper\u001b[49m\u001b[43m(\u001b[49m\n\u001b[1;32m    305\u001b[0m \u001b[43m      \u001b[49m\u001b[43mjit_info\u001b[49m\u001b[43m,\u001b[49m\u001b[43m \u001b[49m\u001b[38;5;241;43m*\u001b[39;49m\u001b[43margs\u001b[49m\u001b[43m,\u001b[49m\u001b[43m \u001b[49m\u001b[38;5;241;43m*\u001b[39;49m\u001b[38;5;241;43m*\u001b[39;49m\u001b[43mkwargs\u001b[49m\u001b[43m)\u001b[49m\n\u001b[1;32m    306\u001b[0m   executable \u001b[38;5;241m=\u001b[39m _read_most_recent_pjit_call_executable(jaxpr)\n\u001b[1;32m    307\u001b[0m   maybe_fastpath_data \u001b[38;5;241m=\u001b[39m _get_fastpath_data(\n\u001b[1;32m    308\u001b[0m       executable, out_tree, args_flat, out_flat, attrs_tracked, jaxpr\u001b[38;5;241m.\u001b[39meffects,\n\u001b[1;32m    309\u001b[0m       jaxpr\u001b[38;5;241m.\u001b[39mconsts, jit_info\u001b[38;5;241m.\u001b[39mabstracted_axes)\n",
      "File \u001b[0;32m~/.cache/pypoetry/virtualenvs/micrlhf-progress-_SD4q1c9-py3.12/lib/python3.12/site-packages/jax/_src/pjit.py:171\u001b[0m, in \u001b[0;36m_python_pjit_helper\u001b[0;34m(jit_info, *args, **kwargs)\u001b[0m\n\u001b[1;32m    169\u001b[0m \u001b[38;5;28;01mdef\u001b[39;00m \u001b[38;5;21m_python_pjit_helper\u001b[39m(jit_info, \u001b[38;5;241m*\u001b[39margs, \u001b[38;5;241m*\u001b[39m\u001b[38;5;241m*\u001b[39mkwargs):\n\u001b[1;32m    170\u001b[0m   (args_flat, _, params, _, out_tree, _, arg_names,\n\u001b[0;32m--> 171\u001b[0m    attrs_tracked) \u001b[38;5;241m=\u001b[39m \u001b[43m_infer_params\u001b[49m\u001b[43m(\u001b[49m\u001b[43mjit_info\u001b[49m\u001b[43m,\u001b[49m\u001b[43m \u001b[49m\u001b[43margs\u001b[49m\u001b[43m,\u001b[49m\u001b[43m \u001b[49m\u001b[43mkwargs\u001b[49m\u001b[43m)\u001b[49m\n\u001b[1;32m    173\u001b[0m   \u001b[38;5;28;01mfor\u001b[39;00m arg \u001b[38;5;129;01min\u001b[39;00m args_flat:\n\u001b[1;32m    174\u001b[0m     dispatch\u001b[38;5;241m.\u001b[39mcheck_arg(arg)\n",
      "File \u001b[0;32m~/.cache/pypoetry/virtualenvs/micrlhf-progress-_SD4q1c9-py3.12/lib/python3.12/site-packages/jax/_src/pjit.py:542\u001b[0m, in \u001b[0;36m_infer_params\u001b[0;34m(jit_info, args, kwargs)\u001b[0m\n\u001b[1;32m    540\u001b[0m f \u001b[38;5;241m=\u001b[39m lu\u001b[38;5;241m.\u001b[39mwrap_init(fun)\n\u001b[1;32m    541\u001b[0m f, res_paths \u001b[38;5;241m=\u001b[39m result_paths(f)\n\u001b[0;32m--> 542\u001b[0m f, dyn_args \u001b[38;5;241m=\u001b[39m \u001b[43margnums_partial_except\u001b[49m\u001b[43m(\u001b[49m\u001b[43mf\u001b[49m\u001b[43m,\u001b[49m\u001b[43m \u001b[49m\u001b[43mstatic_argnums\u001b[49m\u001b[43m,\u001b[49m\u001b[43m \u001b[49m\u001b[43margs\u001b[49m\u001b[43m,\u001b[49m\u001b[43m \u001b[49m\u001b[43mallow_invalid\u001b[49m\u001b[38;5;241;43m=\u001b[39;49m\u001b[38;5;28;43;01mTrue\u001b[39;49;00m\u001b[43m)\u001b[49m\n\u001b[1;32m    543\u001b[0m \u001b[38;5;28;01mdel\u001b[39;00m args\n\u001b[1;32m    545\u001b[0m f, dyn_kwargs \u001b[38;5;241m=\u001b[39m argnames_partial_except(f, static_argnames, kwargs)\n",
      "File \u001b[0;32m~/.cache/pypoetry/virtualenvs/micrlhf-progress-_SD4q1c9-py3.12/lib/python3.12/site-packages/jax/_src/api_util.py:278\u001b[0m, in \u001b[0;36margnums_partial_except\u001b[0;34m(f, static_argnums, args, allow_invalid)\u001b[0m\n\u001b[1;32m    275\u001b[0m   \u001b[38;5;28;01melse\u001b[39;00m:\n\u001b[1;32m    276\u001b[0m     fixed_args\u001b[38;5;241m.\u001b[39mappend(_HashableWithStrictTypeEquality(static_arg))  \u001b[38;5;66;03m# type: ignore\u001b[39;00m\n\u001b[0;32m--> 278\u001b[0m \u001b[38;5;28;01mreturn\u001b[39;00m _argnums_partial(f, dyn_argnums, \u001b[38;5;28;43mtuple\u001b[39;49m\u001b[43m(\u001b[49m\u001b[43mfixed_args\u001b[49m\u001b[43m)\u001b[49m), dyn_args\n",
      "\u001b[0;31mKeyboardInterrupt\u001b[0m: "
     ]
    }
   ],
   "source": [
    "tvs = []\n",
    "\n",
    "for task in tqdm(task_names):\n",
    "    shot_logprobs_orig = [[] for _ in range(2)]\n",
    "    shot_logprobs_added = [[] for _ in range(2)]\n",
    "    shot_logprobs_zero = [[] for _ in range(2)]\n",
    "    for seed in trange(n_seeds):\n",
    "        pairs = tasks[task]\n",
    "        pairs = [list(x) for x in pairs.items()]\n",
    "        dataset = ICLDataset(pairs, size=batch_size, n_prepended=n_few_shots, bidirectional=False, seed=seed, prepend_space=task.startswith(\"algo\"))\n",
    "\n",
    "        tokenized = tokenizer.batch_encode_plus([prompt.format(x) for x in dataset.prompts], padding=\"longest\", max_length=max_seq_len, truncation=True, return_tensors=\"np\")\n",
    "        inputs = tokenized_to_inputs(\n",
    "            **tokenized\n",
    "        )\n",
    "        \n",
    "        logits, resids = get_resids_call(inputs)\n",
    "    \n",
    "        tokens = tokenized[\"input_ids\"]\n",
    "\n",
    "        shot_logprobs_orig[0].append(\n",
    "            get_logprob_diff(logits.unwrap(\"batch\", \"seq\", \"vocabulary\"), dataset.completions, print_results=True, extra_space=task.startswith(\"algo\"))\n",
    "        )\n",
    "\n",
    "        shot_logprobs_orig[1].append(\n",
    "            shot_logprobs_orig[0][-1] == 0.\n",
    "        )\n",
    "\n",
    "        mask = inputs.tokens == 1599\n",
    "        mask = mask.unwrap(\"batch\", \"seq\")\n",
    "\n",
    "        tv = resids[layer].value.unwrap(\"batch\", \"seq\", \"embedding\")[\n",
    "            mask\n",
    "        ]\n",
    "\n",
    "        tv = tv.mean(\n",
    "            axis=0\n",
    "        )\n",
    "\n",
    "        tvs.append(tv)\n",
    "\n",
    "        print(\n",
    "            tv.mean(), tv.std()\n",
    "        )\n",
    "\n",
    "        act_add = add_vector(\n",
    "            llama, tv, layer, scale=2.0, position=\"last\"\n",
    "        )\n",
    "\n",
    "        pairs = tasks[task]\n",
    "        pairs = [list(x) for x in pairs.items()]\n",
    "        dataset = ICLDataset(pairs, size=batch_size, n_prepended=0, bidirectional=False, seed=seed+1, prepend_space=task.startswith(\"algo\"))\n",
    "\n",
    "\n",
    "        print(\n",
    "            dataset.prompts, dataset.completions\n",
    "        )\n",
    "\n",
    "        tokenized = tokenizer.batch_encode_plus([prompt.format(x) for x in dataset.prompts], padding=\"longest\", max_length=max_seq_len, truncation=True, return_tensors=\"np\")\n",
    "        inputs = tokenized_to_inputs(\n",
    "            **tokenized\n",
    "        )\n",
    "\n",
    "        logits = act_add(inputs)\n",
    "\n",
    "        tokens = tokenized[\"input_ids\"]\n",
    "\n",
    "        shot_logprobs_added[0].append(\n",
    "            get_logprob_diff(logits.unwrap(\"batch\", \"seq\", \"vocabulary\"), dataset.completions, print_results=True, extra_space=task.startswith(\"algo\"))\n",
    "        )\n",
    "\n",
    "        shot_logprobs_added[1].append(\n",
    "            shot_logprobs_added[0][-1] == 0.\n",
    "        )\n",
    "\n",
    "        logits, _ = get_resids_call(inputs)\n",
    "        \n",
    "        shot_logprobs_zero[0].append(\n",
    "            get_logprob_diff(logits.unwrap(\"batch\", \"seq\", \"vocabulary\"), dataset.completions, print_results=True, extra_space=task.startswith(\"algo\"))\n",
    "        )\n",
    "\n",
    "        shot_logprobs_zero[1].append(\n",
    "            shot_logprobs_zero[0][-1] == 0.\n",
    "        )\n",
    "        \n",
    "    print(f\"orig: {shot_logprobs_orig}\")\n",
    "    print(f\"zero: {shot_logprobs_zero}\")\n",
    "    print(f\"added: {shot_logprobs_added}\")\n",
    "\n",
    "\n",
    "    shot_logprobs_orig = [list(map(np.mean, x)) for x in shot_logprobs_orig]\n",
    "    shot_logprobs_zero = [list(map(np.mean, x)) for x in shot_logprobs_zero]\n",
    "    shot_logprobs_added = [list(map(np.mean, x)) for x in shot_logprobs_added]\n",
    "\n",
    "\n",
    "print(f\"orig: {shot_logprobs_orig}\")\n",
    "print(f\"zero: {shot_logprobs_zero}\")\n",
    "print(f\"added: {shot_logprobs_added}\")"
   ]
  },
  {
   "cell_type": "code",
   "execution_count": 64,
   "metadata": {},
   "outputs": [
    {
     "name": "stderr",
     "output_type": "stream",
     "text": [
      "  0%|          | 0/1 [00:00<?, ?it/s]"
     ]
    },
    {
     "name": "stdout",
     "output_type": "stream",
     "text": [
      "-0.0090332 0.875\n",
      "along window information over field current better power message reduce behavior place security hell cell media club live point throw\n",
      "lungo fin inform sop campo att meg pot mess rid comport lu sic infer cell media club abit punto get\n",
      "-0.00256348 0.898438\n",
      "along window information over field current better power message reduce behavior place security hel cell media club live point throw\n",
      "lungo fin inform sop campo att meg pot mess rid comport lu sic infer cell media club abit punto get\n",
      "-0.00260925 0.957031\n",
      "along window inform over campo current migli pot mess rid behavior place security h cell media club v punto throw\n",
      "lungo fin inform sop campo att meg pot mess rid comport lu sic infer cell media club abit punto get\n",
      "-0.00460815 1.09375\n",
      "along fen inform over campo current migli pot mess rid comport pl seg h cell media club v punto throw\n",
      "lungo fin inform sop campo att meg pot mess rid comport lu sic infer cell media club abit punto get\n",
      "-0.00552368 1.17188\n"
     ]
    },
    {
     "name": "stderr",
     "output_type": "stream",
     "text": [
      "100%|██████████| 1/1 [00:22<00:00, 22.50s/it]"
     ]
    },
    {
     "name": "stdout",
     "output_type": "stream",
     "text": [
      "along window inform over campo current migli pot mess rid behavior place sic h cell media club v punto throw\n",
      "lungo fin inform sop campo att meg pot mess rid comport lu sic infer cell media club abit punto get\n",
      "orig: [[Array(-1.46094, dtype=bfloat16)], [Array(0.8, dtype=float32)]]\n",
      "added: [[Array(-4.96875, dtype=bfloat16), Array(-4.75, dtype=bfloat16), Array(-1.53125, dtype=bfloat16), Array(-1.40625, dtype=bfloat16), Array(-1.72656, dtype=bfloat16)], [Array(0.15, dtype=float32), Array(0.15, dtype=float32), Array(0.45000002, dtype=float32), Array(0.6, dtype=float32), Array(0.55, dtype=float32)]]\n"
     ]
    },
    {
     "name": "stderr",
     "output_type": "stream",
     "text": [
      "\n"
     ]
    }
   ],
   "source": [
    "a"
   ]
  },
  {
   "cell_type": "code",
   "execution_count": 61,
   "metadata": {},
   "outputs": [
    {
     "data": {
      "text/html": [
       "<div id=\"output_561a996261754085b452f57d85c7628d\"><script> /* penzai.treescope rendering of a Python object (compressed) */ (()=>{ let observer; let lastStep = new Promise((resolve, reject) => { observer = new IntersectionObserver((entries) => { for (const entry of entries) { if (entry.isIntersecting) { resolve(); observer.disconnect(); return; } } }, {rootMargin: \"1000px\"}); }); window.treescope_decompress_enqueue = (encoded, destId) => { const previous = lastStep; const destElt = document.getElementById(destId); lastStep = (async () => { await previous; let blob = new Blob([ Uint8Array.from(atob(encoded), (m) => m.codePointAt(0)) ]); let reader = blob.stream().pipeThrough( new DecompressionStream(\"deflate\") ).pipeThrough( new TextDecoderStream(\"utf-8\") ).getReader(); let parts = []; while (true) { let step = await reader.read(); if (step.done) { break; } parts.push(step.value); } let newElt = document.createElement(\"div\"); newElt.innerHTML = parts.join(\"\"); destElt.parentNode.replaceChild(newElt, destElt); for (let oldScript of newElt.querySelectorAll(\"script\")) { let newScript = document.createElement(\"script\"); newScript.type = oldScript.type; newScript.textContent = oldScript.textContent; oldScript.parentNode.replaceChild(newScript, oldScript); } })(); requestAnimationFrame(() => { observer.observe(destElt); }); } })(); </script><div id=\"compress_html_f253c453629144d0a133d4f616ea6710\"><script>window.treescope_decompress_enqueue(\"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\", \"compress_html_f253c453629144d0a133d4f616ea6710\");</script><span style=\"color: #aaaaaa; font-family: monospace\">(Loading...)</span></div></div>"
      ],
      "text/plain": [
       "<IPython.core.display.HTML object>"
      ]
     },
     "metadata": {},
     "output_type": "display_data"
    },
    {
     "data": {
      "text/html": [
       "<div id=\"compress_html_7d2bf7ad97584eefb603884fa4569fec\"><script>window.treescope_decompress_enqueue(\"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\", \"compress_html_7d2bf7ad97584eefb603884fa4569fec\");</script></div>"
      ],
      "text/plain": [
       "<IPython.core.display.HTML object>"
      ]
     },
     "metadata": {},
     "output_type": "display_data"
    },
    {
     "data": {
      "text/html": [
       "<div id=\"output_dest_561a996261754085b452f57d85c7628d\"><script> (()=>{ const output = document.getElementById(\"output_561a996261754085b452f57d85c7628d\"); const dest = document.getElementById(\"output_dest_561a996261754085b452f57d85c7628d\"); dest.parentNode.replaceChild(output, dest); })(); </script></div>"
      ],
      "text/plain": [
       "[[<jax.Array(-4.40625, dtype=bfloat16)>,\n",
       "  <jax.Array(-4.4375, dtype=bfloat16)>,\n",
       "  <jax.Array(-1.30469, dtype=bfloat16)>,\n",
       "  <jax.Array(-1.21875, dtype=bfloat16)>,\n",
       "  <jax.Array(-1.51562, dtype=bfloat16)>],\n",
       " [<jax.Array(0., dtype=float32)>,\n",
       "  <jax.Array(0., dtype=float32)>,\n",
       "  <jax.Array(0.25, dtype=float32)>,\n",
       "  <jax.Array(0.35, dtype=float32)>,\n",
       "  <jax.Array(0.35, dtype=float32)>]]"
      ]
     },
     "execution_count": 61,
     "metadata": {},
     "output_type": "execute_result"
    }
   ],
   "source": [
    "shot_logprobs_added"
   ]
  },
  {
   "cell_type": "code",
   "execution_count": 27,
   "metadata": {},
   "outputs": [
    {
     "name": "stderr",
     "output_type": "stream",
     "text": [
      "--2024-05-23 18:36:35--  https://huggingface.co/nev/phi-3-4k-saex-test/resolve/main/l18-test-run-6-1.01E-05/sae_weights.safetensors?download=true\n",
      "Resolving huggingface.co (huggingface.co)... 108.156.211.95, 108.156.211.51, 108.156.211.90, ...\n",
      "Connecting to huggingface.co (huggingface.co)|108.156.211.95|:443... connected.\n",
      "HTTP request sent, awaiting response... 302 Found\n",
      "Location: https://cdn-lfs-us-1.huggingface.co/repos/eb/d8/ebd889d6ac58573e8e8a7aa1176d4d357581a6da60135b94aca378fddf4e9e54/f057cb46f3d871ba03c66e707e3b3d8299322f36fa433862dc3fdca956715614?response-content-disposition=attachment%3B+filename*%3DUTF-8%27%27sae_weights.safetensors%3B+filename%3D%22sae_weights.safetensors%22%3B&Expires=1716748596&Policy=eyJTdGF0ZW1lbnQiOlt7IkNvbmRpdGlvbiI6eyJEYXRlTGVzc1RoYW4iOnsiQVdTOkVwb2NoVGltZSI6MTcxNjc0ODU5Nn19LCJSZXNvdXJjZSI6Imh0dHBzOi8vY2RuLWxmcy11cy0xLmh1Z2dpbmdmYWNlLmNvL3JlcG9zL2ViL2Q4L2ViZDg4OWQ2YWM1ODU3M2U4ZThhN2FhMTE3NmQ0ZDM1NzU4MWE2ZGE2MDEzNWI5NGFjYTM3OGZkZGY0ZTllNTQvZjA1N2NiNDZmM2Q4NzFiYTAzYzY2ZTcwN2UzYjNkODI5OTMyMmYzNmZhNDMzODYyZGMzZmRjYTk1NjcxNTYxND9yZXNwb25zZS1jb250ZW50LWRpc3Bvc2l0aW9uPSoifV19&Signature=gIymhUdhyTdMUWbsy7KoPfQCJyNyEdtBv7c3ryK4gl8Qlrwn6i9VGutvq-7ixoe0MLpW7e6T5yi4XWFMhuxBkCSamSCNJtOuo%7EBmgqGgYhv8mARZix4Z2w-pq87Lg4CLS4HE5az6bkueRhn49stOKZr9DngEbAzgkEBPUdx9PzHf0sHfluUwceT2Abf8%7EvIa%7EyoUg780887YXqt5JdF8fFvIgryIaKk7Ktj9wz-CURUbwu8Hhnr30Dr5pR84B4lHP5goC7v8JDVGkw5o%7Ef1mKzGdhMB9iJSPraZrxgQa8hjZ5DpMeXUuwV5jyLzK5iSC06dREq%7EICJATvY29i4FZyg__&Key-Pair-Id=KCD77M1F0VK2B [following]\n",
      "--2024-05-23 18:36:36--  https://cdn-lfs-us-1.huggingface.co/repos/eb/d8/ebd889d6ac58573e8e8a7aa1176d4d357581a6da60135b94aca378fddf4e9e54/f057cb46f3d871ba03c66e707e3b3d8299322f36fa433862dc3fdca956715614?response-content-disposition=attachment%3B+filename*%3DUTF-8%27%27sae_weights.safetensors%3B+filename%3D%22sae_weights.safetensors%22%3B&Expires=1716748596&Policy=eyJTdGF0ZW1lbnQiOlt7IkNvbmRpdGlvbiI6eyJEYXRlTGVzc1RoYW4iOnsiQVdTOkVwb2NoVGltZSI6MTcxNjc0ODU5Nn19LCJSZXNvdXJjZSI6Imh0dHBzOi8vY2RuLWxmcy11cy0xLmh1Z2dpbmdmYWNlLmNvL3JlcG9zL2ViL2Q4L2ViZDg4OWQ2YWM1ODU3M2U4ZThhN2FhMTE3NmQ0ZDM1NzU4MWE2ZGE2MDEzNWI5NGFjYTM3OGZkZGY0ZTllNTQvZjA1N2NiNDZmM2Q4NzFiYTAzYzY2ZTcwN2UzYjNkODI5OTMyMmYzNmZhNDMzODYyZGMzZmRjYTk1NjcxNTYxND9yZXNwb25zZS1jb250ZW50LWRpc3Bvc2l0aW9uPSoifV19&Signature=gIymhUdhyTdMUWbsy7KoPfQCJyNyEdtBv7c3ryK4gl8Qlrwn6i9VGutvq-7ixoe0MLpW7e6T5yi4XWFMhuxBkCSamSCNJtOuo%7EBmgqGgYhv8mARZix4Z2w-pq87Lg4CLS4HE5az6bkueRhn49stOKZr9DngEbAzgkEBPUdx9PzHf0sHfluUwceT2Abf8%7EvIa%7EyoUg780887YXqt5JdF8fFvIgryIaKk7Ktj9wz-CURUbwu8Hhnr30Dr5pR84B4lHP5goC7v8JDVGkw5o%7Ef1mKzGdhMB9iJSPraZrxgQa8hjZ5DpMeXUuwV5jyLzK5iSC06dREq%7EICJATvY29i4FZyg__&Key-Pair-Id=KCD77M1F0VK2B\n",
      "Resolving cdn-lfs-us-1.huggingface.co (cdn-lfs-us-1.huggingface.co)... 18.161.156.3, 18.161.156.80, 18.161.156.33, ...\n",
      "Connecting to cdn-lfs-us-1.huggingface.co (cdn-lfs-us-1.huggingface.co)|18.161.156.3|:443... connected.\n",
      "HTTP request sent, awaiting response... 416 Requested Range Not Satisfiable\n",
      "\n",
      "    The file is already fully retrieved; nothing to do.\n",
      "\n"
     ]
    }
   ],
   "source": [
    "\n",
    "from micrlhf.utils.load_sae import get_sae\n",
    "sae = get_sae(layer, 6)"
   ]
  },
  {
   "cell_type": "code",
   "execution_count": 28,
   "metadata": {},
   "outputs": [],
   "source": [
    "from micrlhf.utils.ito import grad_pursuit"
   ]
  },
  {
   "cell_type": "code",
   "execution_count": 30,
   "metadata": {},
   "outputs": [
    {
     "data": {
      "text/html": [
       "<div id=\"output_bc5812c968c9470da18528f12ddd0cf7\"><script> /* penzai.treescope rendering of a Python object (compressed) */ (()=>{ let observer; let lastStep = new Promise((resolve, reject) => { observer = new IntersectionObserver((entries) => { for (const entry of entries) { if (entry.isIntersecting) { resolve(); observer.disconnect(); return; } } }, {rootMargin: \"1000px\"}); }); window.treescope_decompress_enqueue = (encoded, destId) => { const previous = lastStep; const destElt = document.getElementById(destId); lastStep = (async () => { await previous; let blob = new Blob([ Uint8Array.from(atob(encoded), (m) => m.codePointAt(0)) ]); let reader = blob.stream().pipeThrough( new DecompressionStream(\"deflate\") ).pipeThrough( new TextDecoderStream(\"utf-8\") ).getReader(); let parts = []; while (true) { let step = await reader.read(); if (step.done) { break; } parts.push(step.value); } let newElt = document.createElement(\"div\"); newElt.innerHTML = parts.join(\"\"); destElt.parentNode.replaceChild(newElt, destElt); for (let oldScript of newElt.querySelectorAll(\"script\")) { let newScript = document.createElement(\"script\"); newScript.type = oldScript.type; newScript.textContent = oldScript.textContent; oldScript.parentNode.replaceChild(newScript, oldScript); } })(); requestAnimationFrame(() => { observer.observe(destElt); }); } })(); </script><div id=\"compress_html_feb554aff6784fd0b4c3c0a185e664f3\"><script>window.treescope_decompress_enqueue(\"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\", \"compress_html_feb554aff6784fd0b4c3c0a185e664f3\");</script><span style=\"color: #aaaaaa; font-family: monospace\">(Loading...)</span></div></div>"
      ],
      "text/plain": [
       "<IPython.core.display.HTML object>"
      ]
     },
     "metadata": {},
     "output_type": "display_data"
    },
    {
     "data": {
      "text/html": [
       "<div id=\"compress_html_11189f376d9149b6b02be98a3dea55da\"><script>window.treescope_decompress_enqueue(\"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\", \"compress_html_11189f376d9149b6b02be98a3dea55da\");</script></div>"
      ],
      "text/plain": [
       "<IPython.core.display.HTML object>"
      ]
     },
     "metadata": {},
     "output_type": "display_data"
    },
    {
     "data": {
      "text/html": [
       "<div id=\"output_dest_bc5812c968c9470da18528f12ddd0cf7\"><script> (()=>{ const output = document.getElementById(\"output_bc5812c968c9470da18528f12ddd0cf7\"); const dest = document.getElementById(\"output_dest_bc5812c968c9470da18528f12ddd0cf7\"); dest.parentNode.replaceChild(output, dest); })(); </script></div>"
      ],
      "text/plain": [
       "<jax.Array int32(20,) [≥291, ≤47_625] nonzero:20\n",
       "  <Arrayviz rendering>\n",
       "  Replicated across 4 TPU devices (click to expand)\n",
       ">"
      ]
     },
     "execution_count": 30,
     "metadata": {},
     "output_type": "execute_result"
    }
   ],
   "source": [
    "k = 20\n",
    "\n",
    "weights, recon = grad_pursuit(tv, sae[\"W_dec\"], k, pos_only=True)\n",
    "w, i = jax.lax.top_k(jnp.abs(weights), k)\n",
    "\n",
    "i"
   ]
  },
  {
   "cell_type": "code",
   "execution_count": 46,
   "metadata": {},
   "outputs": [
    {
     "data": {
      "text/html": [
       "<div id=\"output_f4c3ca8ddea54b179875e952ff60512b\"><script> /* penzai.treescope rendering of a Python object (compressed) */ (()=>{ let observer; let lastStep = new Promise((resolve, reject) => { observer = new IntersectionObserver((entries) => { for (const entry of entries) { if (entry.isIntersecting) { resolve(); observer.disconnect(); return; } } }, {rootMargin: \"1000px\"}); }); window.treescope_decompress_enqueue = (encoded, destId) => { const previous = lastStep; const destElt = document.getElementById(destId); lastStep = (async () => { await previous; let blob = new Blob([ Uint8Array.from(atob(encoded), (m) => m.codePointAt(0)) ]); let reader = blob.stream().pipeThrough( new DecompressionStream(\"deflate\") ).pipeThrough( new TextDecoderStream(\"utf-8\") ).getReader(); let parts = []; while (true) { let step = await reader.read(); if (step.done) { break; } parts.push(step.value); } let newElt = document.createElement(\"div\"); newElt.innerHTML = parts.join(\"\"); destElt.parentNode.replaceChild(newElt, destElt); for (let oldScript of newElt.querySelectorAll(\"script\")) { let newScript = document.createElement(\"script\"); newScript.type = oldScript.type; newScript.textContent = oldScript.textContent; oldScript.parentNode.replaceChild(newScript, oldScript); } })(); requestAnimationFrame(() => { observer.observe(destElt); }); } })(); </script><div id=\"compress_html_2d4ba0839fc24a53a8dfaa070c548a66\"><script>window.treescope_decompress_enqueue(\"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\", \"compress_html_2d4ba0839fc24a53a8dfaa070c548a66\");</script><span style=\"color: #aaaaaa; font-family: monospace\">(Loading...)</span></div></div>"
      ],
      "text/plain": [
       "<IPython.core.display.HTML object>"
      ]
     },
     "metadata": {},
     "output_type": "display_data"
    },
    {
     "data": {
      "text/html": [
       "<div id=\"compress_html_1cbe0093d77c418eb08cebd112e75aa2\"><script>window.treescope_decompress_enqueue(\"eNrtWG1v2zYQ/iuEgjVSG6tSbMdvsYEt3YB+6YdhwD4UhUCLtMWZJjWKdpIW/e87krJk2Y7jZmmKAUsA2xLv/R7eHXlN2BoV+p7TsUdYkXN8P0RCCuohRsbeTKqE0BlVipLkqt0b0KgXRf1Zp3NFu/0ZSSM6INPeALdT0vMm10WOBXwaeZNwKrWWS84EHQqp/XAmOcFTThMhCR1muPAnHE8pnzRXEi3nc+54hmlG0wUlQYBeB+gLyjEhTMxbWuZDFIVxly5HyGhoZZTNMz1EcWjffQ1TycF4PJ0qugZO+zhEZ1f9SxxFNUEql0sqdHKbUZHQO7CfUPJs9m60YvtXaxWr5ZSqLYJo0I+7VzVBoRX4uS2hHXfjbkUA6TBu1wRTjtPFCE3hc67kSpBWubDGym+1plymC/cqACqpCFUuinF+hwrJGTlG6VL5GPFXFGb3OVVg2SJRdCk1TTK5Bkd3jd43Uy54mvn9zk8mrZ0uiqOBk3iLi6RIleQc2LUMZ0wVOtEsXZwsddAJYyM3GqC4fRX2Dgq2+TuqLthTqBUWBdNMiuGechQXiOKCtphoyZW+QDMpdOvWwnRnzWQ1S7MEdk9KE05negvq5tFgvZtmTTplJdWEym2AipIBkoUGY9OM8eeDdFUlbO5HaInVHNxwZqaYp/5lmqGWgYqLc9MORcV3M6UEqzOFAGQpsYg9o5H5N0H5e4W5wEua5IrO2B0IsWkp2GdqQtd3taPQ2OipLK7y7jSgCWqSvHhwo7CTZi68j9j6MsF2NcFadbAyNOq29QNgyjP0GvkxuLPNUsotgIoGQVDFoGZtnc670bupX5azErl52ypfv2A06wpsI9hSmLBVUToY0yV497Bj1tJ/Z8SjEP/SaBIuv2YvndAkjhN/DUHidxkK6iQfmwtso7d1Glpsvg1sM/bY0GpFaZHKHGqslDqsiJMlWIKOSGDC6HTdxRCBtY8SnqLsQTmlyddv3chl5y+UclwUY69pZjmcbWa9RlZgvCDTfqeLR4fwBgEdeU3RjdQgViSuS0phGyMQuxReM5GvNNIwE4w9m7SpvPMOCinzC6xvLVNTXz1VaNi5VHuIYI1bC3qfY52NvR3zGl26RBtqNljvlFiVizs9w5vkVHzGrM4c7J0cLClg3Jlhzs0kEEJK7Czsvj5I/ftGem6c9pvr12/LiG3pPTdSpyvAtDhHUtxwmEHG57XSDEZViJ6hSlKz6OuMFcG5i415PfZ8jpdTgpGB1tB+Bl4NgYpwiM4PUJ6PUEmDBSAQuznn/AYYkIk7/K5G/qY329HbLTSoWWi8I9R7pBJmHCYwh+EyV+NvgkjY4D0EmHLm9iavzu4ue6OflcL3vhkXo3bc614gYnE84xLr9mXgiJp+X+xjCiRznBeUeBN0KDqNY4f3AvlvxuF0NOzwPR0bJyLl4dzDufSJmWfkYN7dYcybDDq9Qafb6bfb7cv46r+cWkaekljg+oFptbvriYk1vMda1PN3pCOXB95RGJwdxMpei/kL321aiC1ER/rEMaB5e4evo+ve5PkSsH3/AjWV65FdQK5wGv+sY+7x1VyPjkDoB24l49lTNpPle67tdOpW24nTxf+xPClsjXmxvrVEO3ct3iT4tkw0xvZHt0e1JY4MHfvbZPNF2BoUpKBIT3w/QOMJ+pJKUUCxs3v3PSnQGH30Tr/N/TRy/CYXwHoLpULebg29IDRpHl58RGS6MhXRLP7Kqfn5y/174lc2fIw+mfOrkzxTeG5IQHrFmCqKNX1XPv5WUvgVj9Fzw+HYA0wb/hDnMJKTG1PCfAud1FB8gCrua7WyJ+aZVMjnVCMGjNEIvq7ryIScirnO4O2bN+ZEaejc4raWB31in0CB4SnkSqX0HVtve7TDZu/UPfQG7fC7xxCmKw6I+5PpzK/EuVvIUop1ExjqVXPVuqa+vRdwh8gtIVXAzHJgiAAzDicbvOylloq/V3RF35VY+YMuQZ6mhR9UvP8AwbuRgA==\", \"compress_html_1cbe0093d77c418eb08cebd112e75aa2\");</script></div>"
      ],
      "text/plain": [
       "<IPython.core.display.HTML object>"
      ]
     },
     "metadata": {},
     "output_type": "display_data"
    },
    {
     "data": {
      "text/html": [
       "<div id=\"output_dest_f4c3ca8ddea54b179875e952ff60512b\"><script> (()=>{ const output = document.getElementById(\"output_f4c3ca8ddea54b179875e952ff60512b\"); const dest = document.getElementById(\"output_dest_f4c3ca8ddea54b179875e952ff60512b\"); dest.parentNode.replaceChild(output, dest); })(); </script></div>"
      ],
      "text/plain": [
       "<jax.Array(36.703175, dtype=float32)>"
      ]
     },
     "execution_count": 46,
     "metadata": {},
     "output_type": "execute_result"
    }
   ],
   "source": [
    "jnp.linalg.norm(tvs[0] - recon)"
   ]
  },
  {
   "cell_type": "code",
   "execution_count": 36,
   "metadata": {},
   "outputs": [
    {
     "data": {
      "text/html": [
       "<div id=\"output_21044ed678264f3fb9ebfbd9c7cdadd9\"><script> /* penzai.treescope rendering of a Python object (compressed) */ (()=>{ let observer; let lastStep = new Promise((resolve, reject) => { observer = new IntersectionObserver((entries) => { for (const entry of entries) { if (entry.isIntersecting) { resolve(); observer.disconnect(); return; } } }, {rootMargin: \"1000px\"}); }); window.treescope_decompress_enqueue = (encoded, destId) => { const previous = lastStep; const destElt = document.getElementById(destId); lastStep = (async () => { await previous; let blob = new Blob([ Uint8Array.from(atob(encoded), (m) => m.codePointAt(0)) ]); let reader = blob.stream().pipeThrough( new DecompressionStream(\"deflate\") ).pipeThrough( new TextDecoderStream(\"utf-8\") ).getReader(); let parts = []; while (true) { let step = await reader.read(); if (step.done) { break; } parts.push(step.value); } let newElt = document.createElement(\"div\"); newElt.innerHTML = parts.join(\"\"); destElt.parentNode.replaceChild(newElt, destElt); for (let oldScript of newElt.querySelectorAll(\"script\")) { let newScript = document.createElement(\"script\"); newScript.type = oldScript.type; newScript.textContent = oldScript.textContent; oldScript.parentNode.replaceChild(newScript, oldScript); } })(); requestAnimationFrame(() => { observer.observe(destElt); }); } })(); </script><div id=\"compress_html_5e4de90408b5437fad2d3017c3e0121d\"><script>window.treescope_decompress_enqueue(\"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\", \"compress_html_5e4de90408b5437fad2d3017c3e0121d\");</script><span style=\"color: #aaaaaa; font-family: monospace\">(Loading...)</span></div></div>"
      ],
      "text/plain": [
       "<IPython.core.display.HTML object>"
      ]
     },
     "metadata": {},
     "output_type": "display_data"
    },
    {
     "data": {
      "text/html": [
       "<div id=\"compress_html_d5c8613915594bf3a5d07df5214deeca\"><script>window.treescope_decompress_enqueue(\"eNrtfXt7G7fR7//+FFs1LalaYnBdAJKt95GdpHHfpImTJm2Ojx4FWGAlxhSpkpQtxUff/QDYC/dGUpLlWJLhpvZydzAABgNgMD8M8EQP30Sz+cXIPN3Qw9npSF7sROPJ2GxEQ/10I51MD7VJzXRq9CGFCUoSzIjikABmJBcaGxWrGFNIE7Gx92R2Ksf2b8dvbyCnU3nxZvj7YTIZz+VwbKbRu+jt8XButi1dYlxG0xM52o0uoy7iwXCcTmyS1L7ZTuXJcGTLdjIZT3zq3SiZjCbTnejP0v/ZjU7k9Gg43laT+XxyshOBAaLmZLee4+nUrM5uOD49m7+aX5xagUzl+MhsHNgivDHT+TCRo205Gh6NbSmGWo8sp3Q4mhtbhiPLbWa/mz7cjCY2q+H8og8GdPPame0cT954QbVZX4/f+OxEmallOJ7M+zvpJDmbbVq2ajLVZro9lXp4NtuJ8On5+7HMnn2hHfuiTZj/s5tntxPB0/NoNhkN9eLTilwHM0tpprOmvqxqPV+E+fDUpqkp8m50OpkN58OJbTapbBnO5vadksnro+nkbKy38yL7jLoKrEaW1nKRWg/HR5leJceO7XBsW2jbvDHj+azI7O1Qz493bOvNt13h7KfdyJUsHU3e7kRvhrOhcorTrtbv28OxNuc2ZwDA6lqqyfkVazk5354dS+2yBv5/rlq+Qlv5C2Rf5FXvrlBZLrGiWMlomLzWci6v02KjiXQSPTwxs5k8MhXtKXr05cC/OZRKTc2bCkHMkfTFefJ5Ntg8mSXT4el875H989YWePL2Va/Is3cQPY36/c3o6V707lEU2f/Ss3HihBVpMzPToe3Vv5ufbO1533USSxBFUzM/m44j/3bfcRqk08lJX84nyhJtRf0Tz/DEFlGb753o9ud9sLm5a1NfPlqezVe22nOMFhlZiczmkbqYm5kt543yK5ikjrfjMjZvozwjz6vv2Q/UWWrH8jxJXsEszbpSvxj/IWX22VyrxFmRR2YePXe6cSJPf/j7sy+sJu42a3Nk5s+t8g3HZ5OzmSfuv5GjM7OVaZVN6ZIVNXQclZyZQ6/9W9EkTWdmnpVjmEZZ0ujJ0wgUKaIKva0O2M3fZikXby4jM5qZCpO9pxFcwqRassHIjI/mx9F2hFqs4aDOvGCWiTiZz0qOWZZ/i/rdrOHmblc5vpXz44GVu5VZyWyzVYpFPn+JYF6eSktPGxV6tcji4BU4cIWCtggZu83occ4+WpYoehzBPGG1dbLMjlZlBm+aGezOTK3KDN00M9TMLNf/V9Ot6GgrUgfdnfZibE2lZH+azIbj4x+M5d7P83ttLvwY/3Ou9qPh6bfS6vZUvv12OM7+db9zFn+Xp4Valtxnc2nnrx+dPaLzLPo2xVyeLTTYafafhrOvhmM7EfT9p//3/zIVslNT/3wz+twliJ5E0GyTRbqygueFZjW0uSTwvGbWEnPM/uaZ/a2kcX88wWhy1G/n+jhP/d/p3DZK/ut08rZ/nhFsRWhzs9Tty4oWl32/JsfoaW0McN8zeTY+NMTvNCaT/9LKNukztl0la1KWta59KEZR38oF1Yk87xftnhdoc3dJTZ+UFGUpP9I/WbezreX6TPT0UaPlzflpv1SBugxsN1yot9WdkqyoWtn0ZR5WVEVOn2cduS6WzxuCyyYPK1g71tq0XV2m7Hqud+xWVKdI1VCdkpntMRDUVaAcXl1XPzVulHXabufdVZ3185xnwSvvWQWTztnkvVtrofSFJBc/u1S1ycjJVZvx5GQ4tjbGtNTh4bhfUYGuajeGvlwEvgiV0W5rDZeio7jktWarFarRdvUCdzZgLvwrNVuF3WKKbc0C88mPzi7+cT61FnY219dtt3ISKaau2hTz6/RI9T97N72MPnt35P5Sl5u/dk43zp6fypk1q45ulmOFwi0/xnYVc2EpBgii2PbPqR2iBwxSZJ+P3DNgyD2rxSC1SLYXQcQXss8r0/MLnl6nShckftHSqwm0UVG7Hh99L+d2gTS2NpBtD/vfxZZdFvpX5URpG7nv1HToDT77z5OCJDey7LvHjzcbFtp08tbS54SvhgeFgpTsfsvY/WbZWdqS1W9VVvnkY5c+vx1U39pM5ucDV/4fTDLvO+viN1t2+89wK4JbFZtvoZGXLdXKCqqHR8O5N56/nw5P5NQ11StP2/tz6v/0tuwjTBlTxD+mKUuB8Y8okQAl/lHHiCHuHwWJmdL+kSc0Jqq3lTM0mLEE+S8qURplj5Apk6Q9S+PF1CzXj8a+0fWSsdT9z6eWJmGG5yVTiuVl4DrlMn8ruIj9Y0IV0DR7JCIRpCxZylSss+JopRXPii+MloaWJXtUli4xo9GPdhVli8R2sw+NRYtdmaTDo9aaRdsR57uxeW7TFyOc1z3byH7ZshXlS5jhzI5sQ71Yy2QMt8oBvVCI3Djz1BUtzBXEd2Fbyt7k9Sg57lP6F+ck2OztPupQJJuV7YjMlyZ7cP9t7q7myUCDZ6tj5XydEVzyzn68KvX0FdiKFv8dbNU+QP8Wtj/cSoqDzdY6ri70gfOW2WnAVjkpF5y9ZpdPcrO/Zr20WBVUtdlmOPun/Ge2eNysdvSWxKsD33Wbr4OdmxQQpV4e9t/NCucbNaIVMayIGB5U59+lzVI2DGw15epUy/I62GyY4IuluW3DF7Yd7ELmoiborAVdU1m5dDgW7Hp8K2q1XVukXdP0bTXXypn5/VsuEzG8fvPc7FNnXqtbbvtGTQc+iaZbSLSrEZZ1n9X9cXVXhWs6XbOJ8olLu4VvPoflQ95u3d4p6PacF6xh99y0n163ua/b4Ddu8hs3+soOtu4jrPQ/eK2Uyz8eVK3ORe8tm/NJBK7dnODTa06wSu7gxs15bbYdzVltuoXZUjTwZr1tyzX+9W2PzgxbLGrf3J+6CnRoU1HSikrVmu7yxvrSWGWtMySj3qm0i4V57h3utdxv72VR1ntV8fmVH2sPqmZnTmLLc2aLYadWo4P1efvWZ3MiXOI36ZJR6bbZ8n6brYrj5vpNcGXl9GtvNVmql24R+72czmfPLr5wpOXC3MuluuBy8mMH7Te22dBWhLu/WMHStRRxTkHcv9gq0FpKmlP6FOQmKbD7l75fSvtv7PRlsfqs+piH4zduHW8FmkrbStXOmlnBf4lg9KeGP3JhPZWp59Mzs0YLx+ZIzodvTAkhPlkgnAXNiTyy5vaZrkEQTZut4q9xqG+ZZuDGYz8Ubw5mp6PhvN/rNUy9LFEBVj5pKVb+pctocKSHp47W5tlM96rG+KA6xjspn079jojDqTk1cj47nKQOrT4bjWrzeIfjr8Z2N3r8eNic8/IePpvb0mxFs6E2eRnyUmZFrjgEWzK0hP/023Jy6VjazTpxKTk/dLcr0yxTe1jpcK5lImsUK7qaqJbM16vyzZ2N18nVkzay7bQP/FjYsg4WM0jeOItZpNVa1eelFkLDGCr60+Zqq6U9i7ZMpWWTX2Vcf9Wo3qtu22+xyOv80GEQHiypbkcDV+vfOfBUzaKqsysjDpbGbVoanXtFriyGq4t3CZTizIgMitsf6xdjPUzMrN/0ZA+z9+5hZvXEJ21sQCoG9Ff5kOAH4QJLsokiOxJ0pS40y3551XN2jNsiZmtsZx0zlaNeVdl8HoPTs9lxkcAXtNfpe2qzbFrsRdHLTTN5NV/lSeX5cNY7OKhPfAXx0yinmr0enh76cajXgHoqxf31s3cd5Jc79ddmrO3LX7tX43nGT66bb5aui+u6NNF2V15uZ5LDq1aX+yrtkTVeEzRrASLt4vmE16hRr38iZ6+NjiZn883ejYp5OJpMXp+dtkpb4DfRX/8a/SlPOzwaT6ZugehHyxWts7xc7epkqjo7U7O5tdF83y1VMCvboceqeweN5WJR0nrSZSvHVgnPxq/Hk7fjWvGWWA2VdNXMls1LV5G964JdonfWXXe3Hbgk3X12b33XKXnepAe09epazZZl2Sj6VVttbZut7iFL2uty2UKkmt2T/9nrNRYVk5EZmOl0Mu33fsrKUh37e/k80rmzK98FkGXw22Q4LtYetQ2m+7aRfzw1SQulPbTGn7z4aTwfjn7ONnj3tXG+P+k+v7BzmfSEhfQqM1iFzrZRWZ++niRnJ9amHRyZ+Zcj4x6fXbzQdb71jbTZ3vLh/OI7NTPTN34jUL6n1kxnxpeg+NTvW4bToZmVm6KLts/fvwIHg2El4Q8uS6vMoD2T5du4v5XT127L/tNqnQb/PTPTix+tbZzMJ9P90ajfa277rjZjJqZ+FeIollVm5DpfI7O6OlqSwdScTN6Y/mZXt2gJaKCHM1uHsTNjmnqxFb27LLcd21rM5vtjuwZx5ftqKk9MZT95N+9J9lBtscIo6t4jrs6GI72f71n/anh0NjXOlkmHR0U1O/QsIxg01K1etsMVnOslqur0+uK0NPiFzjzfrRLt1jb5pJMFmftV/er37D+TMxOTBVHlZYv2i8wNVSP172pdw82J39ppr8m58aGaxkUzOIeE9lvci1otXlZpz4uhoUK6eFelvOigvOiknI3s/KI7yBsfqmnqHrpFkqSxy6QmmTPzlbfHHVbxomIs16S0jGj30WJEc93Uy3+xNavaRHZmTbOQhMqs6gmyMaMZIFFp9faOiwbj4Xgt2yyCYSnTIuX82K1j3Lj5ZTaXnI1nZ6enk+ncmkzaWwmb7a3tXo8OnWFVzzSLKWlo2WZVaKXkJiPXe/Jt8+5Fcjad2tG4/nJmTv2CB1RXPA23U7mvd6GCg8JRcdF8tdnYj+YyyObYPP8FTlCWxxX1cfG7jALw5a+9vGzWs17j+WQuR88no1mj3pPRv10Qla8nPFh8yKpjpdpa8jUE0Kp35567mSWwaRbEFTdb7vN0u3ftl4G1tKz95R+9OVaQLUqUiWxhxlTrtnj+m2X52IvY5uWiAsa1kIuy5hm3Ml1N4UrJ/TB525Cc1dyvzfDoeN4S3cVVRXdxHdFdvIfoLlaLLq/c4nmN6BZVr8jOJdxcoor5FJI4H9yPbkT9zlvCLtN3l8vl0xh8ryCkRoqKpNqZv/JyGlvz4qASL/SoWepE2lXerArzLezFZGrk3OQmY7+XkfZKS9H/HPggRbdPfKGajyPkQimKnYo18mMv2ZLet0c3fUWoz31ah6ma83mtrDnXHHG1X/s9pH0ROwaJfHe2j2P533wTd82nvPDvW/PSbZR0TVg3gCqISTET/rDYLF91T6+CuTr38nUmyctct07zmACbYYv+pBI6UAkEaO0kzyMBmrvIW1h0tn/GR4vsq1lXjuXH+iaGMqE8X5HQf2wVuLuhnmbybeMerWbIN7/77clOIG57vtvo3RRON9afG4R+s/y3BcsVoVCLP13l3nK5bi1EuLUQylYEBpBu7l61OrUyuZePXbDf54sYvrWO8xxbcwFFHaozHHc04XX0LAtUOqkG9ayrFBjQK7TIihbedtXxLexKmv1a47B51BEJYo3xF81oy4oL2A/Ads3YGIFrsRkli8dPqxZ/dSD+2+qBerdZwnxJsJhPKuaI08BsbAKN/RcXC/qL1fT5MLaY+iMXcj0ydnSeugCndxWsJbcKMtry7VLy2mNlgWDTe8P5VSmvg7bSFU7JpzVrOB8Aov/xWE+0E/3pT4vPS/h17Hqveggac8s1dsM/amF8NR2t6WD3Y2ZM6TdynJjnk7PxvKp7NzWqcouo0C1r3zyuNG5p4Li3CzvHkxUGUZ12qVbXDLa6+i5GhGo59p5WDDUHLbcw28bPumza1ahXsyG7etm315bdds1a6Zq8nMwsl/4SoW2uTr8EpG78VNbeer0cZr5sDLcN3XlaiqNz70Ijt1Ze1XkjetTe4VEbB86Xq+1NFlF+/bNCZd0Q9fjpYk2zVF+Xauv5am114jyv6+r5Kl2t/Thfo6fnq7R0qY6ed+ro+XIdc0JyGtotpc1ViTvV88rqUjNfz5tKeb5KKR8tzWHZZF3/p2MIH4yGY/PvfFECd1cQzubTyWuzBPhfxvm5PHXEs/+eyalZS/2PiTe1eicODO590Cn20cqJLa9s1/6UDHQvw8q2nUm21TH6raMpv/6tqoPwIPqf/3FmqtvHsCJFZVxdlmTZlNo1j8Kl8ygM82iYR1fMo3u3N48+utrkCZdMnjBMnp/05Ll3C5On/7vqDFucvmLmNT9Ff2zeFs/1vU2VD25C73JybOawd1GEZZ62Badresnc9pT1nrGq566FwjY9gqUksm0M3w/PzcidjXCxLCTCr5Mrpxd554N3wBQTmTsRBO52RONXU10sSVUXiNsT7Y66cenzR/d2r9qRFz7+xZlLB5byUX243atNURXvdiVVx8k5VV/maiusCLKbnY3mFZ/3rXlWCrA3Y7Lw/9sOeiV3SpSXre4S9/x2r+m+qSW6rHtRnLa77/nZVK1zF4Z1/81C+m6c38sWS9vb7YqvApdKGl/YaP0wnzv1JvpsdDar0/uToso0/lc1XbN+i59/KfjttkJjJ1PdOPKrmvDzvNytLf2LM8scg8cdmE/RUdz3vH9kifYWYFF9uOxQ6+r4++FVxPa8qgjtz04Vubi5ilxcSUXW2qtNHakmWKkk7RreTElqCT8dJSnOZGv6R7eiTjfnVl6chdPyYBnKV98adrUNYbvdMOfi0E2HClROJlps1HIO0LF+bpeteimYqIdvepv1TWfDsedaQfeauEyW8fX5e861ZBluWNRxwdqfAFpimr3K0au93U7SEs+8Aq2dnr6fTk7NdH7R7w1P5JHZnhqn48PxkTv05dSZILYSurfZzcCdXvyVP7zYOxWK44uXZDefyvHM7Y//bjo8yvwQ88mpHYrSWyngeg7b28Wxqdu/TyYnjgNcVrVGQndC2rY/rHlmLSSfkpyel9lmDVpvrF8TOUr6b+S038jXWe+fvavC1Zen50UkY5VT2ZZXY5WRL+FVHKHrgx+c0KyZ0iuElqW/citVyWty8mc5O+F0FbXX2YNrQs/PIf7G5lXW+rN3rQno0h86OaDmxI33tr5FhZfw+9fktMLu/ErsWrspRqNvpDKj6iaTHN3y779vhGvkc5zbB3BiO4an8a49D+GP3M8aju/fFBrkDuz60fUkJ/3Til+vSpWd5vzMnwju6MAA2hpUznXuTOV0ODuuqTKY9bxo3FFz0MPDfTCI3SDfbsRNp3HZh3qX2CxCaC4//N4lX59GJPjqcbdLEtUeURwr3SmyUVUdl3fCfPVU6X/N9spbKmMEAfiL1bfP3g2d/nn1606XjyeV2q4rSdOEXnhKOwrnvLHPs2miWMz4D11FcbT77pR4J7PKiBB1Knqu5eXKujXp1b+XPSzb5VT9ePnB93T9wSpVGzWnk7ll74bNbQG0Oep18u4Yl3ONmrphvzObaW3+uLLGdWnqdnRzzb+2BrcN/JUq3KGcdZlcQTsf1S15q6rf3FglFsnX9q4K6RVUqEWtFqP/cqJCC1bR2LG/wKh6rr2XU9ZUt1TK7YnXSqfENa1sqHK19y8433SI6OBQmYwzmneeaKdSjy0XHeZeed6Xm8vWKN4B9GxybmbL1wDvtcpYZDBIRnI2+2Y4mw+sxWJN3XE6caLMr4ooLafruKlysuxkxpXbVfN1VLa7+ce8UA3FbyAalaJfpdru6pRe5eTpRl45j/6v/3f82btFH7l89WtjI5G7pKNVtGWZ+ts9Kr0yS5x7c6NeduFHr/G12BLUllJOkO1VW/5ZntfFDRsEs7k5rWIs3aLIxJklWSe13kHUa8gp05sbyilLXMrJ393Sa3xcLqacYJmYis9LxZQTNMVUvm6vsJy9SkBy7E6EmeUTxGKGWCXfjGlbdolz4Novz+144y5T8VdsmDfzmsHekoUlGNiqHpl59mrhgmno1nLCR3XEfPn26fxYjCanWveu+KeW4BDNJrdjz5fusAk3EBk7XBa6sdUllGa/ukniDseQnMuR5XCLQ27OcTH+FG8GfkPfr5+9q/mZLrdPsgC8X1tx9+6YcjvkukMI2FYE3cE5VaSiXoPvTvNpvFb+Mu+rFH3iWVQHzjrzUqPKs86rcTvOnGoPBFccBhaJOweCyueiDD3W/paNAj3Y8cUPAD3U8Snv+l2pbEfYn8+nQ2Un8H7Pt+pWtTk3m8F47gaw23ML5hyX6Y37/GudsmtebzBbveQvqIqx/v9M3PVf200m+eeFqLq/9x771b6PtU4nm20vR3nR1NLu1zbRriS6gnEmkX/aYczVs3jb222WoTHN314Z3FDVLoM74atBdD1nXntx0mB0ZV9em1Nun5XXUN2in7vgucwALQnqzrvKwfHn3/qb6ey00hgHnXvIbe/yiIRrLztLPXOXkg3HR89HQ1uYH2qxyRVgamwXTT8U4vrsXcEpX8hsl6y9Z8YK6tdO3KrwEFRWBEv2q5QGcOHEq6SpA1E5ycCvIBrLq7LUHfRVT2z3AspJuxou7mrhreBchg1Wa4SZAU1l+kL79haiy940jhNbV9zGKqBe+syN0fcujM3If3K++f42GFBnncEBMieNYy/ep4ZRXU9y725LWRZCyLXFhXclx9WTAzt2zNyYNai7VZp7X2p6np6NisoXvFdp8mL1u06Pc6ZlArfpaK08K6Wpx3al853FXSQFla/yVpGZ/1W7YmQ+Oe1KZV8vEtkftTRerjuLGN8ylf+wSOd/1lIW92K2k2ZfFmmz35XElx03zqwCJSp64B3D21FNJNXhaBUc0XKGZVd6ev9cmYEDXir87c+a92sJ/8rQWZdgdeic5ljROmYlvlDllrt4KuyyNwt+l43YeTcxWW7OfPEbm2aL3TcV+275GqIe9LiCW3kG1UhnsE+FfXYgjH3dWPE51MpfUTKdZRH6/aZ9W90etUxga6BGKz+fUeWYpers2ZgGs3seB7NkOhmNntVG3ne+a3VVy13D5qu9FSlzLN8M3X2SPXc0jBzPe5fNPKqGtc/nxXg++Xlo3vbfdSS3PEeT5LV9MzZyaq2OCsPiiBp311Tvq+G5bZsoY9mrncJRYofthj6ZnM38+SausZtr7eIwFrcvzjZUdYOcWwJnAvjPVrT48UvtUokiZUfEZmmYZo2YXzzqHUSTsamcjtew55YRLjvotozeOnzTOAKu3CxR1uwqmfrGWF68DLOqzddrDE+/yc8HcC7xtbfymDfGsfVZ+A3q67NwzVF3nHefqlfLe7mAVxzxsbl7BUVoirqyTLGDpKWIm9/c2Gl04VAvOWeqmb1+XDLoTvx1sV5opM7fdyX3RxwtuoMdDarl2ItA9Ne/1kRWJX7cIM6MsEqJ66ZiQ1o5RNqrneXZoMnt5IYNeTWIqV6touoN3ekw4zqL2VmCK2X9eFnWyypbk8jlkpb6pWyprwszfUVT/VI2VUldbauvO+z6Rtl8v13dVgWu9J6N9cv7NFZ7eLlGW/1yjbZagGi9pVvWrzR9TTJTpTl7XXGKudIEs7YgfsW+bg79odgafcOZtEjfnk7bu/gdwc0nx8PFrJhluts8LfLwTft0y9Wl6D6JoHSF1Gee3nP3wegd5zZraOOas16blWkdz9D152qTVVS/Dag7BKIeAbJOJksCR1rJmmeed59ocCVdfXtszKhLV4vxUY7mNt/2Eleb0Vz+4mCZLO3mIHuzKJVLnR+d/YVJpVWcpnNkcc9uazWx6c6VX3zPeDfu9Fi5BKnKpE3o9uE2ipuvWeys4ei+seUerVmQ1D1FdnVbTVhjtNsM3GyXaC8i62q3/TQiTf2r5fpkSXHd6Rut4zfqxa39fFyPuOoKTVpajyfR9tqKPF5Xkb1lFRmOr1WR7fUV6YBRqixaO+bzhWotm/bC9DaWpt2L067w+5t5e9sr3HdN55EfARKf9peqq8F5jWyt653lb43Btd9oihp1zXWU+bcqmf2n6WG+zdy6FtYLxeg4qPNUzmbDN2YnuwXjsuaG74J1m83WOooz20D93dh8kV9tcjsHcV5nX38XvwYKX3aHyimNHTv2MhdPTlS86aArvVhV0uzlbv1sm/b5Y1c/gax1BlnLZdQ4c6zDpeSKMG9ucVl+qlj7UBl/cn92QH5uibhAfatJDsfdqdxoY7UrNwEaYYVlPMUNtr4tjVyAiTztLaNaBC2sJDvxip21eQ8MGDUnS2kr5vNw7I4+2K4v41vuzu798d3EzlJPRz6SspedjrucdnWMRIfElm7+blK6WpVugh4a0N6VXJNXiqPoqPPZ3GXoG+n0vLHP/NGqkJgytqXWCVbqR5VkmXJUaZbsmnzUwML+5aaO1hnP7suXo5Zj4Ioav6zWBduqpZa/atYdVTdctsg6d+xHbtJ2XcCue0uUBW5FeEDtbFVUtgjTvjQnvy7lv3LHaYu68PRs01VlXiypIVxFV9uzm5hx9VSSdtY1fYddhPW1W3NCuGzqQzYDfDoqkdX3o2lF7nj66CpRTPx1rVi2k6Jsy/YR53mA5Lv8KPWGYbXTfpXZeh3Hj+90vXTUl7uPLjedKffkc2sqD0/ne0/cbtrIb9h4unFsJ/WplcLrw2wf4IbfDrX92q7WrQo83XgFDux/G/VE6WSk3R0Jh+OJNs5RkQ6ns/nhZHzo5GmJvZT2nnjwLXJ2w9ON5Ngkr20NNjqZHM4nR0cjl/Rzn6ienz8o4VAqZRfkG3t/Hc13fT37r5AYMIGoEFsRBANMEeZoK4r4QCBAAfSPkFCIRfaIkADuPjl/VvXT/MTtTSsZm5nNOi92Neu3x2Z8aM7tG210Qwwu5tXqhT5MXDvbtlr53X50u8mG+ulGsX7iKcUJl4mEUBISJ8IggXCsVRwrookoZVUkOCx1qZFV496Ajb0fiuk5O5xwMBiUtbSl2HsyNyenbsYuGMynxswSO8UfTs/Gh7PJxFcmU5ioyH7Qde79u42aHb6xE129flvRhtsp5NJ8kbmgykMxrNHqHGd2KRdJ/dvZbL45iL52dtPn2Xu3wSE7ydw73RyryvnljuP3o/Ts5c9nv/3jp6/SsyP6LP35xfOX/36D93/68mlJ7o9Jd9S5MrgPjSPJ3df9l18+s//36Sox0PbTuw0J7D/QWsMbi5Az++bVuw2329bLA7h0Xrv8T0sVgZ2Iurd+q619a83tDdtm9oleWg3duKjxcm8aO/WL1/VTRHyJijotzhtxOdnh3L7cLvoMZ4jg2HYZ4r7Jc/ut81PuG7Sfs3XARnnyq32V9ynCGKMo5u5CrI3yONhlHItrVF0NXok42wmL/f2O0BG4nwT6nzGzX2L3f/+T20fmbqrMfgru+r27Uiu7BhO4366vQ5jdegndC+bubaPZC2RfIIDtC5HdL0nsR+RyQDijAMjtyvV/ZZnELrlw13wB4F9At3eXAf/WvWDUFdnlxH0K7B4RLn87ZoKU5C7H2FU69jdYYsuNOI4QHhxcZtq3zIGbaVXRuvmFXBtFmrLnbbh1/0qyV3USH7zvu4RVroXCLq7YcVpZvCiUdF0eB+uL8X/HkZ1S63TZx8uDy83FhPV5MVrtFYPYymF25fx2l2ayH8yp7dNu3RTJZDqZzSIS/ev7n6wl8cY5/NsTkU0+kqczNxNVxsdsetrskk1j+topJ4GPNOMlgGtNEIMJI0QywHHMsSYAMSySWKP7PuOtrV9lxvOXd9qmVxd5g2eHaHRNZeDo5f7+P198ub//xY/P9vf3F7/3O6Yyf+HHHzqRfQ4/9FRWeJ0WExkopy1Qm6W8n7MxTYEBaExM2ZvqTPSxBt/KjWrXHIJdU1RuLPPyAl5ddrxpASvPqPKMK8+keL68jQF9x43oHeN5pX6tEtup0hfCDXxgC26hLew4bNQv7cvNj6Xzgh8a/JrOjcfj+XbqXWY7Uekw2428Z2zb/9hx9+Ju7Lk8oyxtbZSKFQQpIMBgRgzjQmkFMcSxQQDGMdtYjHdumjgslbNWAhdLZvuTOdkox9vrjEHlENR2uL8rJQ4zi6pwVDg5lj00W6UWr5YPWesqa9erXSIvGqs5pVz3nxULvaP57moOfmB3c0wu99xpuxO5HQ8bvk3tOuFQm9RM7VB7KAW3VpgWLEWCSMy5ZBgQZFcmSiqoaT7H2L8dv73cDeXaeGc8mfcHtZl+51jO+nvZDDrosgF8mh1vLhjtDr5wp93m22K3PUTlrkswJ7uR9y9nfsqdLLB+N7rMbqayE+CJ8xEd1ublWyuOz2Mn+rP0fxa5ZtGtFQJgRUfjBcHM30de5YAhhbQksNL27t6SwLt6dyMXvXc0dcjedv4hPw3EedezV5uWyp9Nkglp4S1eQVls4F5NfBkNFgahuw5vbg79tpmoWeh2MSevR8lxn5O/uFYj1C48RMbxrZwdZiikTT6fDDITcu6Ms6tyFWQAHV8g7PolHrBOxr79Vma32crQR1F4P9xOK/MIziLjzmAZjrcnZ/OtyI9abzNvWP2ba9Xj5PjQj52H3lm30OQMAPVBGnW6bA/bgjDfnl9S/vdMjpxlcWjH4nR4bikr4yYY8KwX2NnPKWxpcpZVzFo+2ovqJLfWNcrBxOvQbpShR3l1/T4ylBz7o6NJcpy12JqyfrCi5Z0gK1qm/r5UnZ2gNgLloQN0dOwPMSq35WVJcr4e3HdBX4UMFkm3r562yLfoqj5lybJ4u52//gOluRhsvAS3p3ZlcTbLK+jORPrbior5kr5fIdaq+LvaeJi1rxvorjAeria+dC71DzK9LRp5xQxn53E/z7bXn36YsjPM6UbdtKtVwE46WnFC5W5X09i8dz/yan+dc32jw/opxu68YaL6sLtxFVnlHxvD68beqRn/LoeD0ui0anZqSzKzk2Cax9UP6hbWPyfzHwrup67S/fUOhJ7jqs5s84970WTstz8+7S0yPbYGjJWeozr0Loz+/Hg42+xlsnGvn270R/JEaRlNJxOrLu7vzY2FCpSEO1Gvg7K3G+U0cjx2MYV+9us9twkiJ3f7XNp5y03RZp+M6n1yYwV1izQ720aOrMlxOn16LRUZ1NJ2KUxuiVlz+c/niN0uMpKxrEtpa7Vb6gpeqA+vLXWpXV13GulurklX1KvlmmKXLjfUk6Hu1JLMoN/YE4QJQrhbB4GY3OemHeqbNKxN9RGb1feuGzas96ismNA+lLe6cwG6sVIN/typK60J6Td5Xkw4ftj6w9zSt9YAbWTaf4iygdPVz1cs+9nhz7gjXcnV7Cadyae7re501a7WkNNWkOXVfWuFdblwbEWN9frG3ub1WsIWc6kJ2u4eZZe4NRNluZPwut5BpqBWKeEKw4RwiiTBkoqEJIJBSAhceAevuYEG3tkNNJjQGGxFBAjhgHACCN6KMMAOyCcUQVjK24NKH2+rTMyMYKlQRMbQNkiiEiJSChIOUIpiDO87cLi2fhXg8MfjyVtXXNsk5shMIw8/zCI5i8aWvdFRdpnb7LobZvZfJPv7zx4f7e9/Mf3Py/391/iX/f1/nL29KyjjH48xuv3tJcyY/1iNNOZEVagxf3UXsMaw0SNs9PhjxusUCq6QQThJU4J4Kux8yhC0IxpTWMf4vo/Xa+sXNnqEjR5ho8cd3+ghlVBI8xQomZIUUCW1ToXBieZJqrV+UBs91lb2AW30QIKmDAmSJEiTFGkBYMwYTogRRkPAOpdyAXkKyFNAnt4XebquSyFgTA8VY0JcWJM4DhhTwJgCxhQwpoAxBYzpj8aYrm2M3B6apDDkGEJEMWUEKMopShBIoeJCKZSam6FJ8I6HY3MQAxe06RA9Tr3UHaIHoGBRBuMxgHj+aMVD71A4NsNSI5OkhoCEII4ETikDVMcJNxooc999lmvr90HDsQH+5uzly5/m/3j9FVFH9Jn55vXzl//65f/sv/7Uw7F9n4kpxCCG1AUOL8Kx25/WhWP7PgUgAZgDFy7dDMducwzh2CEcO6B0nyRKpzBOY6hVgrkiBsZcUTssMEyBJEJrcN9nvLX1CyhdQOkCSnfHUTqaUoKQInYVx0iKU4UkIYgB4PAcHqMHhdKtrewDQumMNVKNkYyYhJCUSIW10HaBTIBEttogoHQBpQso3YeKD7sFV03A7h4mdkchp4TENGB3AbsL2F3A7gJ2F7C7jxEfdhsmyu0helAgaedEF5eDiRJASSawgUIbQLBSN0f07ll8mAdOcxj1rsSHKSxJjG2bxPZBcMqlplgQibAmlJr4/nsy19TvI8SHnbD9/f1//BOF+LAQHxaQp4A8XWe8BgilXCaCQpOSJEVSE42giOOUYqopu+/j9dr6BeQpIE8BebrryBNLKIwFpAQjIigTkiEdA5wyolLKHtZBwGsr+4CQJ0zsWkYZARI7PENAuUpRqhJsCEk0jk1AngLyFJCnPy4+bIVLIWBMDzY+jCLOcMCYAsYUMKaAMQWMKWBMdyM+bJUxcntokmBAw0QnSrCYaJqoOI1RynSaSIyxvOFpg+iux4dxDHGO6MUMoPzEx5gXiB7gBFHbCBEbCMEh5ncnPizViBilY0O4JjJWCtJYUZwkSgJA7v9u+bX1+6DxYf89/uLNy5+/Sf/x09fjo33x7O+j189eqs/ffg72P/X4MNdnYkYEihllvBYf1vq0Mj4s71NMUODPZmAd8WEtjiE+LMSHBZTuk0TpRMxMDDRGCZSEY8rtRIASKdNUc4lBet9nvLX1CyhdQOkCSnfHUTojtcQEMaaEIRgnSjP/Eytju5EkDwqlW1vZB4TSCSVJCrAGEiLCOJI6kZQrohRFiCU6oHQBpQso3QeLD3t/V03A7h5qfJhgnGAe7g8L2F3A7gJ2F7C7gN19lPiwWzBRbg/RA1gxhQRRjBBiKBKSJTSBSGnhAqrTGyN6IT7s/T2ZkImECM4hSwm2fUhqChUHWkjbNODex4etrV+IDwvxYQF5CsjTPUGekDBIGyBpDGNCBeCIpjpVjBmcustc7vt4vbZ+AXkKyFNAnu448qQBBQKm0KQpJxAoIZJUGo4QQYYxpB4U8rS2sg8IeaKIaYSwMUZDglnCJSMSMaaBVJqkJCBPAXkKyFOIDwsY0weMD+OQ23mFB4wpYEwBYwoYU8CYAsb0CcWHIcJInNIUaIIJV0iKGIKYCQk4V1LQm6FJ+E7Hh8UDEMcgA+/EQGC7zEQZkOeWmSLOQT0KaEwij+pxgQD0oR/+zx2JFMMG0gRTjt1p/gpTQWAqDOFCSS250vfde7m2fh80Uuw/k/Tlyx/+c/H1668v/ncfPvv6W77/8ueLbz7/8tOOFCt6D6LCjlCEk0WkWNenNZFiec8iyA2B7r7EeqRYF8cQKRYixQJe90nidTjVHAvATCI0SQjlJmYYaZkyamis7j1et7Z+Aa8LeF3A6+44XmctFkBhLCWGhhBrukKTQIkSLamBhoEHhdetrewDwut4AkiiNE4wdgeLYSVYIpm1XY02CQMhUizgdQGv+0CRYrfstAl43gONGUMYAQHjgOcFPC/geQHPC3hewPP++Jix2zZWbg/vUya2CxeBYIoUATHmXNglG061JilQ8uZ4X4gee/9ohJgByjAxKZIkQVJwDHSCDGcoZSlG9z4aYV39QvRYiB4LaFRAo+7L7WKKS4QBJSimRKUpTySQOI2Z0ISgxNz728XW1S+gUQGNCmjUHUejME1VCjTVhsVEIioEw4ZqJCHhQmv9oNCotZV9QGgUIbF7NkoyZYdnLFOQaKME1whJg8PtYgGNCmhUiB4LaNOHPKGQE0yICLeLBbQpoE0BbQpoU0CbPqXoMWZ4TLmW1Fq3RMFYGC2TNJZKI6CguSGaRO549BjCOMZRhu1xFgsOMzyPCUoQphm2xxBhMMf2MBcYRncsekxChbC7dAvz2JowUnKaCoPSxC6WeczJffderq3fB40eM5r98PIH8OLr119+d3Z0/gxeHD17+Yv65fHrTz16zPUeJBCKbRtQVg0ea31ZFzvm+xXgOGYCCtGOHWsxDKFjIXQsgHWfJFiXpIRxyaWC9olrJHFKMYkh1Nrt1Unu+3S3tn4BrAtgXQDr7jhYJ4xQDMUMpbZskgIhY4HsOypjg9MUPyiwbm1lHxBYB6yFyrBBUAFFNCccMQykpgpjqbAIYF0A6wJY98FCx27VYxPAvIcaOgZiAmIeQscCmBfAvADmBTAvgHkfI3Tsdo2VW7x4zFBbnDjGhgOCKVQJYxgmSFNbLqr1jcG+EDr2/qFjyGYImYBIW1smoZy6uwSIXU2jmGgB7n3o2Lr6hdCxEDoW0KiARt2X0DHOIJdGpoa4OSaVCBlu7JSOlCJM3ftQ37X1C2hUQKMCGnXH0ShErXklhGEQQkITwDnFhAGUUgdZKPmg0Ki1lX1IF48JjWEcJ4IkkCDJFBfEKJKmsWJYxzSgUQGNCmhUCB0LaNMHDB0TjCNAAtoU0KaANgW0KaBNAW36lELHsJEmMYgCIAnRUqjYIJkiSiUBdukQ3wxNonc9dIxglh0FKQacI8FocSyklTrLniGOUZxjewIxCNBdu3hMG8BSGJsYs4QwBSROEgAETykyFCb3PnRsbf0+aOjY3998/8NLOTn6+vVXX3z7Ej578Zw8f6m/++/nP33yoWOu90CBCYeEUFyLHWt9WhM8lvUsGlMWU8xhR/BYi2OIHgvRYwGv+yTxOi5jbZgU1DC7ZIeApzix9pEmCYSxoPf+4rG19Qt4XcDrAl5316PHWJpSkSjnWyTYaLu8AClHaQo1pihOH1b02LrKPqSLxwBSQhIDlMPrUsmTVLE4NsyakgIDEPC6gNcFvO6DRY/dptMm4HkPFM8DsbBDMkMBzwt4XsDzAp4X8LyA532M6LFbNVZuD+8j0JZMk5ilkBKpUqXTFDMeS8AB1PzmeF+IHntv7yY1KeIpNgkWnBCZCK5TopTGiqc0Ufy+ezfX1i9Ej4XosYBGBTTqvqBRjEsNpdIxMSRJiIip4SImQLnghfsf7bu2fgGNCmhUQKPuOBoVawGASIS1s9xVVVIxoDGLE8igSbl4WGjU2so+IDQqkSQRTAuODSRJDARWlPJYSCoSjFg4yzCgUQGNCtFjAW36wNFjGAEQ0KaANgW0KaBNAW0KaNMnFD2GaMooAIjalRsxnHBgYkpxqmKoqKD4ZmhSfOejx9xxkBm0J3gMsrMgOSSc8RzYo8JFcLhTIV1giyhb4KPHjCWAKM3d0f4xJMwwiTgQaZwinKYKYXnv719ZV78PGjP2Y/rmh5fq2dHXr//++PlL+OzN8O3zl+lX549BiBmzfcbaysAay1DQesxY89O6C8dcn+I8xiBmMWJdMWNNjiFmLMSMBZTuk0TpIIBIYxEDBjmBhksKGNXAjg6Uue37933GW1u/gNIFlC6gdHc9ZkwKjAQkMRaYJIJKIwCLYxrHUqdYqIcVM7ausg8IpUMUS61pSpGmxDDBoUpBElPDqIFEh5ixgNIFlO4Dxoy9t6smYHcPNVKMURKwu4DdBewuYHcBuwvY3UeLFHt/E+X2EL0EQAg5xNDqDDGCKkQIt8u0xGZtFE9ujOjdz/gwZJsmvivxYTxNGI4TzDCKicCGMwWsOkDDE80xvPfxYWvr97Hiw/5+ehriw0J8WECeAvJ0nfFaCGQIQ5oLoYhI3clRWDBsEm6ANADe9/F6bf0C8hSQp4A83XHkiWIFpJQ6NaldcxiiYoEhZAYYihOkzYNCntZW9gEhT4ICbQdnnBKYEswUVwnT2MQx8egTC8hTQJ4C8vSHx4d1uRQCxvRAMSaEEWCCk4AxBYwpYEwBYwoYU8CY7lJ8WKcxcntoUkyhzU1zQhggwEiZprFRSqDEQJFgdjM0id31+DAmqJNxhuhxF7zhED0AoIv6cIgeoTzH+QDkMWV3Jz5McKYIjJnCXBFAtdCGwThGCiex/WXuvc9yXf0+aHzY0b9+//HlL/T469dfqd9fnj/77qufnr/89/zb/S+//NTjw1yfQQIhwXCM63eKtT6tjA/L+1TMMLDDD6e0Iz6sxTHEh4X4sIDSfZqnOKYyhmkqDUsREQJwyaQbO4yC0P6W939XxZr6BZQuoHQBpbvjKF2SUJJCDYGGhCCKlZCAyFgSlXIJU/mgULq1lX1AKJ2GMSHWGk1Z6i45jkWKqU6EHaS1SIjmAaULKF1A6T5YfNj7u2oCdvdAsTscwxgTwAN2F7C7gN0F7C5gdwG7+xjxYbdgotweoqd4msRpDARMAdE64SaGzC7JBEUSJbG6MaIX4sPe/2xHAqlKQCI1EiShQjENubTrSGn/0Rzd+7Md19UvxIeF+LCAPAXk6Z4gTwgQpiBXiTGQMDu54zhJ0hRoaH/aT/d9vF5bv4A8BeQpIE93//4wkkAEqJSAUM0FkDGgNOUiAZgQ8tDuD1td2QeEPLEkSbStIE2gJHYEkghxI4FIOJHSmtoBeQrIU0CeQnxYwJg+4BmEsWAE4zhgTAFjChhTwJgCxhQwpk8oPgyljKNY4RgRRpIYKmIIgDHGEOJYohueNsjvfHwYZzBD9ATggosM0cOUUJIheg5fyx4B4TEjdyc+TDLJuQIQQ8kItOqRghhRYVfNiUyxwPfdZ7m2fh80Puz336Y/vvzX8JuvX3/51X+O4LO/02+fv/yZfR3iw7I+g1CMIXe4dzU8rPFlXXSY61F2xBEsBoygruiwBsMQHBaCwwJE90lCdNiuzQmOgdFYkFhgKQBIFcYEE5EwcO8vD1tbvwDRBYguQHR3HKIzCEmIkwQSrAk3QMnUTt445VRzLuDDujxsbWUfEERnNGFpDA1NkXTOYik5MlCjhHNIqMYBogsQXYDoPlxw2Hv7aQJw91APdiTC3SwfgLsA3AXgLgB3AbgLwN3HCQ57fxPl9uA8lghgWycFnAICEi1jDphdpzANmKIJvDGcF4LD3j/YQCiFdSxt2yhCUs5jiACgIkYp4rG895fRrK1fCA4LwWEBeQrI0z1BnjRjikmVpBpzQjThUEuABZZE4jjF9/4g3rX1C8hTQJ4C8nTHkSeUJLFdYSSxVpKksRKCIwGloim3/0vAg0Ke1lb2ASFPBFEIgIohs2Ozge60dEOxFpwYdzahCMhTQJ4C8hSCwwLG9AGDwxglCMCAMQWMKWBMAWMKGFPAmD6l4DCVUM5IjJghgkCdcgCFVogoRQ1SRNwMTRJ3OTgMgwEWtrYuvgIMEOAxjD24BwDhJAP3EAQ4zk9+jCkVd+jyMBfBBxJkUne1iKJAYSYYSVK7jIylXYDf+wMI19XvgwaHoeFvv7/8D/33C/C1/vL82bP//gy+ePnTycn+6086OKzsM4AiYIcIurg8rPPTmvAw36diEUPBKHABWzVnaCfHEB8W4sMCSvdJonTScCMITqW1hIhAVACkJKUJZCxhMbr3KN3a+gWULqB0AaW74ygdU1SoVDCIMSWaEA4Yl8woxFOC4vhhHeG4trIPCKVTDFItobbLc2AX5VICRCRMYaqwpJCSgNIFlC6gdB8GpbsVV03A7h5sfBhlPGB3AbsL2F3A7gJ2F7C7j4Hd3Y6JcnuInlQgAXZ1JgGTBGMmsDFK2CJQyFQcyxsjevcsPswDpzmMelfiw2KtpYhBTHDKCJZapjGEFBkGBY0pSO67J3Nt/T5CfJg8eb2//4+ztyE+LMSHBeQpIE/XGa9FKqC2fxAGnMSGSnf/JlEKEJRSwMh9H6/X1i8gTwF5CsjTHUeeFE9YIpQzuzTx12ohrjVQklsLDBn8oJCntZV9QMgTYHHKhdYJ05ikBiul41TpFEGu3clYAXkKyFNAnv64+LAVLoWAMT1QjAnHMEaIBowpYEwBYwoYU8CYAsZ0N+LDVhkja9CkfHXU729GT/eid8lkPLODoO/TL/Qsehq92ijXIBQmKEkwI4pDApiRdkGCjYpVjCmkicgWawX2JDgUQAuWIkEk5lwyDAiK7YJNKqhpjZjZNyolXGGYEE6RJFhSkZBEMAgJgTViJGjKkLshCmmSIi0AjBnDCTHCaAhYjVi5S4UgRBRTRoCilnmCQAoVF0qh1NSIDcDcGMmISQhJiVRYC21JCZDIlgnUiKFAMqaxSCnARAm77HT4GhTa2DZRqs4ZE9tUygiQmJRAQLlKUaoSbAhJNI7rxIIBDROdKMFiommi4jRGKdNpIjHGsi4N4c5GAVgDCRFhHEmdSMveRe0hxBJdIwZYMWVFpxghxFAkJEtoApHSgkJO0xoxRUwjhI2xUiWYJbYFiUSM2ayUFTypNwphJE5pCjTBth2RFDEEMRMScK6kqDc3TwBJlMYJxoRwhG1FE8scEaNNYitfb0ETWxKBYIoUAbHVJFt+iFNty2CFXudMSOyejW0MK4IUyxQk2ijBbU2kwXU5M8NjyrWkdrlmWcZWfWSSxrZ2CCho6pyBgIJhg6ACimhui231WWqqbIsoLOqcgaGcxXGMDbfKQKFKrILa3qMpJYjqegWp7UUwth2DJJAgW3BbQaNImsaKYR3Xi4GNNIlBFABJiJZCxQbJFFFq1dOu3+O6nAFSQhIDlOOcSp6kyhbLYXBcYFDXZ2L1B2sSsxRSq/rOuZBixt0JjwBqXuecSNc3teBW40kSA4EVpTwWrtdixOrSQLa/2gIjimxzGys6YGJKsQvjU1RQ3CDGUmuaUissYpgdRZRtw5gaRm1Wul7mBEAIOcTQTli2+1OFrD5hgRNOmVE8qfcUCjTSHNsOmFp9Vlw5Z4qJY+K518eNmELbcradCQMEGCltcxilBEpsF7djYI1Yw5gQ27IpSxPClB0TMNWJO7dH20FM87o+8zSxHdrqUwqI1gk3MWQwtX3EedxjVVfRdXfG10S37nbH2li37qqLejHWHDRbU6R1RxnVpLEu6LhGvG77dW0CWrf5odZh17nXDnazqdGZH3ZWfGut48nbiv/HzpeHFZ+opepHepKcuUWA+/jlyLjHZxcvdL+cXl+Bg83N3SjjnE7lkSOx3MuEydTIufki//lVTtEv07h8no8m1iB5WqYfyNNTM9bPndXe99ZS4ij+aRcufeeIdjk66Lw/MvNoaBOCXfvPk8WkPxiZ8dH82L59/Hgzehc5uuxjNZeldRoe2AxcmtnkbJqYL4ZvqjVqJPNOzo3ocdRIn/0cTM3pyBpZ/x7Oj/slu4F3NeZcfDVtgsXXqTmZvDFORpeZsVhlUgrMfd50RAsHcf5vq2nN+L9n5sx8kevKv3I38qy/8Of/f3+AnKI=\", \"compress_html_d5c8613915594bf3a5d07df5214deeca\");</script></div>"
      ],
      "text/plain": [
       "<IPython.core.display.HTML object>"
      ]
     },
     "metadata": {},
     "output_type": "display_data"
    },
    {
     "data": {
      "text/html": [
       "<div id=\"output_dest_21044ed678264f3fb9ebfbd9c7cdadd9\"><script> (()=>{ const output = document.getElementById(\"output_21044ed678264f3fb9ebfbd9c7cdadd9\"); const dest = document.getElementById(\"output_dest_21044ed678264f3fb9ebfbd9c7cdadd9\"); dest.parentNode.replaceChild(output, dest); })(); </script></div>"
      ],
      "text/plain": [
       "[[<Array([29.792599, 10.352382,  8.920501,  8.145139,  8.122905], dtype=float32)\n",
       "    <Arrayviz rendering>\n",
       "    Replicated across 4 TPU devices (click to expand)\n",
       "  >,\n",
       "  <Array([34560, 40991, 24043, 30355, 45211], dtype=int32)\n",
       "    <Arrayviz rendering>\n",
       "    Replicated across 4 TPU devices (click to expand)\n",
       "  >],\n",
       " [<Array([29.806067, 10.385991,  8.90197 ,  8.17028 ,  8.131155], dtype=float32)\n",
       "    <Arrayviz rendering>\n",
       "    Replicated across 4 TPU devices (click to expand)\n",
       "  >,\n",
       "  <Array([34560, 40991, 24043, 45211, 30355], dtype=int32)\n",
       "    <Arrayviz rendering>\n",
       "    Replicated across 4 TPU devices (click to expand)\n",
       "  >],\n",
       " [<Array([29.883137, 10.367022,  8.96897 ,  8.084253,  7.998138], dtype=float32)\n",
       "    <Arrayviz rendering>\n",
       "    Replicated across 4 TPU devices (click to expand)\n",
       "  >,\n",
       "  <Array([34560, 40991, 24043, 45211, 30355], dtype=int32)\n",
       "    <Arrayviz rendering>\n",
       "    Replicated across 4 TPU devices (click to expand)\n",
       "  >],\n",
       " [<Array([26.066097 ,  9.934102 ,  8.822496 ,  8.050564 ,  7.8920116],      dtype=float32)\n",
       "    <Arrayviz rendering>\n",
       "    Replicated across 4 TPU devices (click to expand)\n",
       "  >,\n",
       "  <Array([34560, 40991, 24043, 45211, 30355], dtype=int32)\n",
       "    <Arrayviz rendering>\n",
       "    Replicated across 4 TPU devices (click to expand)\n",
       "  >],\n",
       " [<Array([26.23363  ,  9.876981 ,  8.7954235,  8.072471 ,  7.838931 ],      dtype=float32)\n",
       "    <Arrayviz rendering>\n",
       "    Replicated across 4 TPU devices (click to expand)\n",
       "  >,\n",
       "  <Array([34560, 40991, 24043, 45211, 30355], dtype=int32)\n",
       "    <Arrayviz rendering>\n",
       "    Replicated across 4 TPU devices (click to expand)\n",
       "  >],\n",
       " [<Array([26.243702 ,  9.882975 ,  8.824527 ,  8.136261 ,  7.9271026],      dtype=float32)\n",
       "    <Arrayviz rendering>\n",
       "    Replicated across 4 TPU devices (click to expand)\n",
       "  >,\n",
       "  <Array([34560, 40991, 24043, 45211, 30355], dtype=int32)\n",
       "    <Arrayviz rendering>\n",
       "    Replicated across 4 TPU devices (click to expand)\n",
       "  >],\n",
       " [<Array([26.247698,  9.898605,  8.814878,  8.135923,  7.857659], dtype=float32)\n",
       "    <Arrayviz rendering>\n",
       "    Replicated across 4 TPU devices (click to expand)\n",
       "  >,\n",
       "  <Array([34560, 40991, 24043, 45211, 26986], dtype=int32)\n",
       "    <Arrayviz rendering>\n",
       "    Replicated across 4 TPU devices (click to expand)\n",
       "  >],\n",
       " [<Array([26.279543,  9.898817,  8.800136,  8.145805,  8.018657], dtype=float32)\n",
       "    <Arrayviz rendering>\n",
       "    Replicated across 4 TPU devices (click to expand)\n",
       "  >,\n",
       "  <Array([34560, 40991, 24043, 45211, 26986], dtype=int32)\n",
       "    <Arrayviz rendering>\n",
       "    Replicated across 4 TPU devices (click to expand)\n",
       "  >],\n",
       " [<Array([26.278713,  9.908989,  8.835454,  8.160914,  8.048674], dtype=float32)\n",
       "    <Arrayviz rendering>\n",
       "    Replicated across 4 TPU devices (click to expand)\n",
       "  >,\n",
       "  <Array([34560, 40991, 24043, 45211, 26986], dtype=int32)\n",
       "    <Arrayviz rendering>\n",
       "    Replicated across 4 TPU devices (click to expand)\n",
       "  >],\n",
       " [<Array([30.394947, 10.208616,  9.004849,  8.210366,  8.165597], dtype=float32)\n",
       "    <Arrayviz rendering>\n",
       "    Replicated across 4 TPU devices (click to expand)\n",
       "  >,\n",
       "  <Array([34560, 40991, 24043, 26986, 45211], dtype=int32)\n",
       "    <Arrayviz rendering>\n",
       "    Replicated across 4 TPU devices (click to expand)\n",
       "  >]]"
      ]
     },
     "execution_count": 36,
     "metadata": {},
     "output_type": "execute_result"
    }
   ],
   "source": [
    "k = 5\n",
    "\n",
    "[\n",
    "    jax.lax.top_k(jnp.abs(grad_pursuit(x, sae[\"W_dec\"], k, pos_only=True)[0]), k) for x in tvs\n",
    "]"
   ]
  },
  {
   "cell_type": "code",
   "execution_count": null,
   "metadata": {},
   "outputs": [],
   "source": []
  },
  {
   "cell_type": "code",
   "execution_count": 27,
   "metadata": {},
   "outputs": [
    {
     "data": {
      "application/vnd.jupyter.widget-view+json": {
       "model_id": "c00686779b444933ae57768e20c53641",
       "version_major": 2,
       "version_minor": 0
      },
      "text/plain": [
       "  0%|          | 0/1 [00:00<?, ?it/s]"
      ]
     },
     "metadata": {},
     "output_type": "display_data"
    },
    {
     "name": "stdout",
     "output_type": "stream",
     "text": [
      "-0.00294495 1.10156\n",
      "об amb ре  пи пи вопро ка кни пи день ок кни пу  г ве kitchen  less  ме вто ко<|placeholder1|> мате ко<|placeholder1|> ви мо би bus ф е г  та е date пи проду тан су ме прода tennis мате<|placeholder1|> ми п би би ве пе amb<|placeholder1|> пи check проду з<|placeholder1|> bus price са\n",
      "зав ско ри дере сви га вопро ка кни х день ок те команди ло г ос ку мо у мо а се ко сез мате ко от с го би авто ф пи г дере сто е да на проду та су сту прода т мате сез ми учи би би з ру ско сез пи реги проду з от авто це са\n",
      "br amb rice trees p bur answer calendar books bread money wind not vac boat be aut kitchen ice less ice ph second hat season math hat vac viol mount bi bus fl food be trees table me month drink product dan soup chair sell tennis math season minutes engineer business bi winter p amb season pie check product * vac bus price sal\n",
      "зав ско ри дере сви га вопро ка кни х день ок те команди ло г ос ку мо у мо а се ко сез мате ко от с го би авто ф пи г дере сто е да на проду та су сту прода т мате сез ми учи би би з ру ско сез пи реги проду з от авто це са\n",
      "breakfast _ rice tree p bur answer calendar book bread money window not trip boat be _ kitchen ice less ice _ second cat season math cat _ viol mountain bi bus fo food be tree table me date drink word dance soup chair sell _ math season minute < business bi winter pen _ season pie check word star _ bus price sand\n",
      "зав ско ри дере сви га вопро ка кни х день ок те команди ло г ос ку мо у мо а се ко сез мате ко от с го би авто ф пи г дере сто е да на проду та су сту прода т мате сез ми учи би би з ру ско сез пи реги проду з от авто це са\n",
      "breakfast amb r ar por bur question cal libro pan mon fen libro business boat be aut kitchen ice le ice ph segunda k season math k vac viol mont bi bus f aliment be ar tar men date be product dan sal s v tennis math season min < business bi winter pen amb season pie check product st vac bus price sal\n",
      "зав ско ри дере сви га вопро ка кни х день ок те команди ло г ос ку мо у мо а се ко сез мате ко от с го би авто ф пи г дере сто е да на проду та су сту прода т мате сез ми учи би би з ру ско сез пи реги проду з от авто це са\n",
      "breakfast amb rice ar por bur question cal libro bread mon fen not business boat be aut kitchen ice less ice ph segunda k season math k vac viol mont bi bus fl aliment be ar table menu date  product dan soup chair v tennis math season minute < business bi winter pen amb season pie check product st vac bus price sal\n",
      "зав ско ри дере сви га вопро ка кни х день ок те команди ло г ос ку мо у мо а се ко сез мате ко от с го би авто ф пи г дере сто е да на проду та су сту прода т мате сез ми учи би би з ру ско сез пи реги проду з от авто це са\n",
      "breakfast amb rice ar por bur question cal libro pan mon fen not business b be aut kitchen gel le gel ph segunda k season math k vac viol mont bi bus fla aliment be ar t men date be product dan sop s v tennis math season minute < business bi winter pen amb season pie check product st vac bus price sal\n",
      "зав ско ри дере сви га вопро ка кни х день ок те команди ло г ос ку мо у мо а се ко сез мате ко от с го би авто ф пи г дере сто е да на проду та су сту прода т мате сез ми учи би би з ру ско сез пи реги проду з от авто це са\n",
      "breakfast amb rice tree p bur question cal libro bread money fen not business boat be aut kitchen ice less ice ph second k season math k vac viol mountain bi bus fl food be tree table menu date  product dan sop cha v tennis math season minute < business bi winter pen amb season pie check product st vac bus price sal\n",
      "зав ско ри дере сви га вопро ка кни х день ок те команди ло г ос ку мо у мо а се ко сез мате ко от с го би авто ф пи г дере сто е да на проду та су сту прода т мате сез ми учи би би з ру ско сез пи реги проду з от авто це са\n",
      "breakfast amb rice tree p bur question cal libro bread money fen not business boat be aut kitchen ice less ice ph second k season math k vac viol mountain bi bus fl food be tree table me date be product dance soup cha sell tennis math season minute follow business bi winter pen amb season pie check product star vac bus price sal\n",
      "зав ско ри дере сви га вопро ка кни х день ок те команди ло г ос ку мо у мо а се ко сез мате ко от с го би авто ф пи г дере сто е да на проду та су сту прода т мате сез ми учи би би з ру ско сез пи реги проду з от авто це са\n",
      "breakfast amb rice tree p bur question cal libro bread money fen not business boat be aut kitchen ice less ice ph second k season math k vac viol mountain bi bus fl food be tree table me date be product dance soup cha sell tennis math season minute follow business bi winter pen amb season pie check product star vac bus price sal\n",
      "зав ско ри дере сви га вопро ка кни х день ок те команди ло г ос ку мо у мо а се ко сез мате ко от с го би авто ф пи г дере сто е да на проду та су сту прода т мате сез ми учи би би з ру ско сез пи реги проду з от авто це са\n",
      "breakfast amb rice tree p bur question cal libro bread money fen not business boat be aut kitchen ice less ice ph second k season math k vac viol mountain bi bus fl food be tree table me date drink product dance soup cha sell tennis math season minute follow business bi winter pen amb season pie check product star vac bus price sal\n",
      "зав ско ри дере сви га вопро ка кни х день ок те команди ло г ос ку мо у мо а се ко сез мате ко от с го би авто ф пи г дере сто е да на проду та су сту прода т мате сез ми учи би би з ру ско сез пи реги проду з от авто це са\n",
      "breakfast amb rice tree p bur question calendar libro bread money window not business boat be aut kitchen ice less ice ph second k season math k vac viol mountain bi bus fl food be tree table me date drink product dance soup cha sell tennis math season minute te business bi winter pen amb season pie check product star vac bus price sal\n",
      "зав ско ри дере сви га вопро ка кни х день ок те команди ло г ос ку мо у мо а се ко сез мате ко от с го би авто ф пи г дере сто е да на проду та су сту прода т мате сез ми учи би би з ру ско сез пи реги проду з от авто це са\n",
      "breakfast amb rice tree p bur question calendar libro bread money fen not trip boat be aut kitchen ice less ice ph second k season math k vac viol mountain bi bus fl food be tree table me date drink product dance soup cha sell tennis math season minute te biz bi winter pen amb season pie check product star vac bus price sal\n",
      "зав ско ри дере сви га вопро ка кни х день ок те команди ло г ос ку мо у мо а се ко сез мате ко от с го би авто ф пи г дере сто е да на проду та су сту прода т мате сез ми учи би би з ру ско сез пи реги проду з от авто це са\n",
      "breakfast amb rice tree p bur question calendar libro bread money window not trip boat be aut kitchen ice less ice ph second k season math k vac viol mountain bi bus fl food be tree table me date be product dance soup cha sell tennis math season minute te biz bi winter pen amb season pie check product star vac bus price sal\n",
      "зав ско ри дере сви га вопро ка кни х день ок те команди ло г ос ку мо у мо а се ко сез мате ко от с го би авто ф пи г дере сто е да на проду та су сту прода т мате сез ми учи би би з ру ско сез пи реги проду з от авто це са\n",
      "breakfast amb rice tree p bur question calendar libro bread money fen not trip boat be aut kitchen ice less ice ph second k season math k vac viol mountain bi bus fl food be tree table me date be product dance soup cha sell tennis math season minute te biz bi winter pen amb season pie check product st vac bus price sal\n",
      "зав ско ри дере сви га вопро ка кни х день ок те команди ло г ос ку мо у мо а се ко сез мате ко от с го би авто ф пи г дере сто е да на проду та су сту прода т мате сез ми учи би би з ру ско сез пи реги проду з от авто це са\n",
      "breakfast amb rice tree p bur question calendar libro bread money fen not trip boat be aut kitchen ice less ice ph second k season math k vac viol mountain bi bus fl food be tree table me date be product dance soup cha sell tennis math season minute te biz bi winter pen amb season pie check product st vac bus price sal\n",
      "зав ско ри дере сви га вопро ка кни х день ок те команди ло г ос ку мо у мо а се ко сез мате ко от с го би авто ф пи г дере сто е да на проду та су сту прода т мате сез ми учи би би з ру ско сез пи реги проду з от авто це са\n",
      "breakfast amb rice tree p bur question calendar libro bread money fen not trip boat be aut kitchen ice less ice ph second k season math k vac viol mountain bi bus fl food be tree table me date be product dance soup cha sell tennis math season minute te biz bi winter pen amb season pie check product st vac bus price sal\n",
      "зав ско ри дере сви га вопро ка кни х день ок те команди ло г ос ку мо у мо а се ко сез мате ко от с го би авто ф пи г дере сто е да на проду та су сту прода т мате сез ми учи би би з ру ско сез пи реги проду з от авто це са\n",
      "breakfast amb rice tree p bur question cal libro bread money fen not business boat be aut kitchen ice less ice ph second k season math k vac viol  bi bus fl food be tree table me date  product dance   v tennis math season minute  biz bi winter pen amb season pie check product st vac bus price sal\n",
      "зав ско ри дере сви га вопро ка кни х день ок те команди ло г ос ку мо у мо а се ко сез мате ко от с го би авто ф пи г дере сто е да на проду та су сту прода т мате сез ми учи би би з ру ско сез пи реги проду з от авто це са\n",
      "breakfast amb rice tree p bur question cal libro bread money fen not business boat be winter kitchen  less  ph second k season math k vac viol mont bi bus fl food be tree  me date  product dance   v tennis math season minute  biz bi winter pen amb season pie check product st vac bus price \n",
      "зав ско ри дере сви га вопро ка кни х день ок те команди ло г ос ку мо у мо а се ко сез мате ко от с го би авто ф пи г дере сто е да на проду та су сту прода т мате сез ми учи би би з ру ско сез пи реги проду з от авто це са\n",
      "breakfast amb rice tree por bur question calendar кни bread money fen not trip boat be aut kitchen  less  ph second k season math k vac viol mountain bi bus fl food be tree та me date  product dance   sell tennis math season minute<|placeholder1|> biz bi winter pen amb season pie check product st vac bus price sal\n",
      "зав ско ри дере сви га вопро ка кни х день ок те команди ло г ос ку мо у мо а се ко сез мате ко от с го би авто ф пи г дере сто е да на проду та су сту прода т мате сез ми учи би би з ру ско сез пи реги проду з от авто це са\n",
      "breakfast amb rice tree p bur question cal кни bread money fen not trip boat be winter kitchen  less  ph second k season math k vac viol  bi bus fl food be tree та me date  product dance   sell tennis math season minute  biz bi winter pen amb season pie check product st vac bus price \n",
      "зав ско ри дере сви га вопро ка кни х день ок те команди ло г ос ку мо у мо а се ко сез мате ко от с го би авто ф пи г дере сто е да на проду та су сту прода т мате сез ми учи би би з ру ско сез пи реги проду з от авто це са\n",
      "breakfast amb rice tree p bur question cal кни bread money fen not trip boat be aut kitchen  less  ph second k season math k vac viol mountain bi bus fl food be tree та me date  product dance   sell tennis math season minute  biz bi winter pen amb season pie check product st vac bus price sal\n",
      "зав ско ри дере сви га вопро ка кни х день ок те команди ло г ос ку мо у мо а се ко сез мате ко от с го би авто ф пи г дере сто е да на проду та су сту прода т мате сез ми учи би би з ру ско сез пи реги проду з от авто це са\n",
      "breakfast amb rice tree p bur question cal кни bread money fen not trip boat be aut kitchen  less  ph second k season math k vac viol mountain bi bus fl food be tree та me date  product dance   sell tennis math season minute  biz bi winter pen amb season pie check product st vac bus price \n",
      "зав ско ри дере сви га вопро ка кни х день ок те команди ло г ос ку мо у мо а се ко сез мате ко от с го би авто ф пи г дере сто е да на проду та су сту прода т мате сез ми учи би би з ру ско сез пи реги проду з от авто це са\n",
      "breakfast amb rice tree p bur question cal кни bread money fen not trip boat be winter kitchen  less  ph second k season math k vac viol mountain bi bus fl food be tree та me date  product dance   sell tennis math season minute  biz bi winter pen amb season pie check product st vac bus price \n",
      "зав ско ри дере сви га вопро ка кни х день ок те команди ло г ос ку мо у мо а се ко сез мате ко от с го би авто ф пи г дере сто е да на проду та су сту прода т мате сез ми учи би би з ру ско сез пи реги проду з от авто це са\n",
      "breakfast amb rice tree p bur question cal кни bread money fen not trip boat be aut kitchen  less  ph second k season math k vac viol mountain bi bus fl food be tree та me date  product dance   sell tennis math season minute<|placeholder1|> biz bi winter pen amb season pie check product st vac bus price sal\n",
      "зав ско ри дере сви га вопро ка кни х день ок те команди ло г ос ку мо у мо а се ко сез мате ко от с го би авто ф пи г дере сто е да на проду та су сту прода т мате сез ми учи би би з ру ско сез пи реги проду з от авто це са\n",
      "breakfast amb rice tree p bur question cal кни bread money fen not trip boat be aut kitchen  less  ph second k season math k vac viol mountain bi bus fl food be tree та me date  product dance   sell tennis math season minute сер biz bi winter pen amb season pie check product st vac bus price sal\n",
      "зав ско ри дере сви га вопро ка кни х день ок те команди ло г ос ку мо у мо а се ко сез мате ко от с го би авто ф пи г дере сто е да на проду та су сту прода т мате сез ми учи би би з ру ско сез пи реги проду з от авто це са\n",
      "breakfast amb rice tree p bur question cal кни bread money fen not trip boat be aut kitchen  less  ph second k season math k vac viol mountain bi bus fl food be tree table me date  product dance   sell tennis math season ми  biz bi winter pen amb season pie check product st vac bus price sal\n",
      "зав ско ри дере сви га вопро ка кни х день ок те команди ло г ос ку мо у мо а се ко сез мате ко от с го би авто ф пи г дере сто е да на проду та су сту прода т мате сез ми учи би би з ру ско сез пи реги проду з от авто це са\n",
      "breakfast amb rice tree por bur question kal кни bread money fen not trip boat be aut kitchen  less  ph second k season math k vac viol mountain bi bus fl food be tree та me date  product dance soup cha sell tennis math season ми te biz bi winter pen amb season pie check product st vac bus price sal\n",
      "зав ско ри дере сви га вопро ка кни х день ок те команди ло г ос ку мо у мо а се ко сез мате ко от с го би авто ф пи г дере сто е да на проду та су сту прода т мате сез ми учи би би з ру ско сез пи реги проду з от авто це са\n",
      "breakfast amb rice tree p bur question cal кни bread money fen not trip boat be aut kitchen  less  ph second k season math k vac viol mountain bi bus fl food be tree table me date  product dance soup cha sell tennis math season minute te biz bi winter pen amb season pie check product st vac bus price sal\n",
      "зав ско ри дере сви га вопро ка кни х день ок те команди ло г ос ку мо у мо а се ко сез мате ко от с го би авто ф пи г дере сто е да на проду та су сту прода т мате сез ми учи би би з ру ско сез пи реги проду з от авто це са\n",
      "breakfast amb rice tree p bur question cal кни bread money fen not trip boat be aut kitchen  less  ph second k season math k vac viol mountain bi bus fl food be tree table me date  product d soup cha sell tennis math season ми  biz bi winter pen amb season pie check product st vac bus price sal\n",
      "зав ско ри дере сви га вопро ка кни х день ок те команди ло г ос ку мо у мо а се ко сез мате ко от с го би авто ф пи г дере сто е да на проду та су сту прода т мате сез ми учи би би з ру ско сез пи реги проду з от авто це са\n",
      "breakfast amb rice tree p bur question cal libro bread money fen not trip boat be aut kitchen  less  ph second k season math k vac viol mountain bi bus fl food be tree table me date  product dance soup cha sell tennis math season minute te biz bi winter pen amb season pie check product st vac bus price sal\n",
      "зав ско ри дере сви га вопро ка кни х день ок те команди ло г ос ку мо у мо а се ко сез мате ко от с го би авто ф пи г дере сто е да на проду та су сту прода т мате сез ми учи би би з ру ско сез пи реги проду з от авто це са\n",
      "breakfast amb rice tree por bur question cal libro bread money fen not trip boat be aut kitchen  less  ph second k season math k vac viol mountain bi bus fl food be tree table me date  product d soup cha sell tennis math season ми te biz bi winter pen amb season pie check product st vac bus price sal\n",
      "зав ско ри дере сви га вопро ка кни х день ок те команди ло г ос ку мо у мо а се ко сез мате ко от с го би авто ф пи г дере сто е да на проду та су сту прода т мате сез ми учи би би з ру ско сез пи реги проду з от авто це са\n",
      "breakfast amb rice tree por bur question cal libro bread money fen not trip boat be aut kitchen  less  ph second k season math k vac viol mountain bi bus fl food be tree table me date  product d soup cha sell tennis math season ми te biz bi winter pen amb season pie check product st vac bus price sal\n",
      "зав ско ри дере сви га вопро ка кни х день ок те команди ло г ос ку мо у мо а се ко сез мате ко от с го би авто ф пи г дере сто е да на проду та су сту прода т мате сез ми учи би би з ру ско сез пи реги проду з от авто це са\n",
      "breakfast amb   p bur question kal кни bread money ок not business boat be в kitchen  less  ph  k season math k vac viol  bi bus  food be  та е date  product тан    tennis math season ми  biz bi  pen amb season pie check product  vac bus price \n",
      "зав ско ри дере сви га вопро ка кни х день ок те команди ло г ос ку мо у мо а се ко сез мате ко от с го би авто ф пи г дере сто е да на проду та су сту прода т мате сез ми учи би би з ру ско сез пи реги проду з от авто це са\n",
      "breakfast amb rice  p bur question kal кни bread money ок not business boat be aut kitchen  less  ph second k season math k vac viol  bi bus  food be  та е date  product тан    tennis math season ми  biz bi  pen amb season pie check product  vac bus price \n",
      "зав ско ри дере сви га вопро ка кни х день ок те команди ло г ос ку мо у мо а се ко сез мате ко от с го би авто ф пи г дере сто е да на проду та су сту прода т мате сез ми учи би би з ру ско сез пи реги проду з от авто це са\n",
      "breakfast amb rice  p bur question kal кни bread money ок not business boat be aut kitchen  less  ph second k season math k vac viol  bi bus  food be  та е date  product тан    tennis math season ми  biz bi  pen amb season pie check product  vac bus price \n",
      "зав ско ри дере сви га вопро ка кни х день ок те команди ло г ос ку мо у мо а се ко сез мате ко от с го би авто ф пи г дере сто е да на проду та су сту прода т мате сез ми учи би би з ру ско сез пи реги проду з от авто це са\n",
      "breakfast amb rice  por bur question kal кни bread money ок not business boat be aut kitchen  less  ph second k season math k vac viol  bi bus  food be  та е date  product тан    tennis math season ми те biz bi  pen amb season pie check product  vac bus price \n",
      "зав ско ри дере сви га вопро ка кни х день ок те команди ло г ос ку мо у мо а се ко сез мате ко от с го би авто ф пи г дере сто е да на проду та су сту прода т мате сез ми учи би би з ру ско сез пи реги проду з от авто це са\n",
      "breakfast amb rice  por bur question cal кни bread money ок not business boat be в kitchen  less  ph second k season math k vac viol  bi bus  food be  та е date  product тан    tennis math season ми  biz bi  pen amb season pie check product  vac bus price \n",
      "зав ско ри дере сви га вопро ка кни х день ок те команди ло г ос ку мо у мо а се ко сез мате ко от с го би авто ф пи г дере сто е да на проду та су сту прода т мате сез ми учи би би з ру ско сез пи реги проду з от авто це са\n",
      "breakfast amb rice  por bur question cal кни bread money ок not business boat be aut kitchen  less  ph second k season math k vac viol  bi bus  food be  та е date  product тан   sell tennis math season ми те biz bi  pen amb season pie check product  vac bus price \n",
      "зав ско ри дере сви га вопро ка кни х день ок те команди ло г ос ку мо у мо а се ко сез мате ко от с го би авто ф пи г дере сто е да на проду та су сту прода т мате сез ми учи би би з ру ско сез пи реги проду з от авто це са\n",
      "breakfast amb rice  p bur question cal кни bread money ок not business boat be aut kitchen  less  ph second k season math k vac viol  bi bus  food be  та е date  product тан   sell tennis math season ми  biz bi  pen amb season pie check product  vac bus price \n",
      "зав ско ри дере сви га вопро ка кни х день ок те команди ло г ос ку мо у мо а се ко сез мате ко от с го би авто ф пи г дере сто е да на проду та су сту прода т мате сез ми учи би би з ру ско сез пи реги проду з от авто це са\n",
      "breakfast amb rice  por bur question cal кни bread money fen not business boat be aut kitchen  less  ph second k season math k vac viol  bi bus  food be  та menu date  product тан   sell tennis math season ми  biz bi  pen amb season pie check product  vac bus price \n",
      "зав ско ри дере сви га вопро ка кни х день ок те команди ло г ос ку мо у мо а се ко сез мате ко от с го би авто ф пи г дере сто е да на проду та су сту прода т мате сез ми учи би би з ру ско сез пи реги проду з от авто це са\n",
      "breakfast amb rice tree p bur question cal кни bread money fen not business boat be aut kitchen  less  ph second k season math k vac viol  bi bus  food be tree та menu date  product тан   v tennis math season ми  biz bi  pen amb season pie check product st vac bus price \n",
      "зав ско ри дере сви га вопро ка кни х день ок те команди ло г ос ку мо у мо а се ко сез мате ко от с го би авто ф пи г дере сто е да на проду та су сту прода т мате сез ми учи би би з ру ско сез пи реги проду з от авто це са\n",
      "orig: [[Array(-0.232422, dtype=bfloat16)], [Array(0.921875, dtype=float32)]]\n",
      "sae: [[Array(-14.4375, dtype=bfloat16), Array(-14.125, dtype=bfloat16), Array(-7.84375, dtype=bfloat16), Array(-8.75, dtype=bfloat16), Array(-8.5, dtype=bfloat16), Array(-8.4375, dtype=bfloat16), Array(-9.5, dtype=bfloat16), Array(-9.8125, dtype=bfloat16), Array(-10.5, dtype=bfloat16), Array(-10.5, dtype=bfloat16), Array(-10.125, dtype=bfloat16), Array(-10.125, dtype=bfloat16), Array(-9.9375, dtype=bfloat16), Array(-9.9375, dtype=bfloat16), Array(-9.9375, dtype=bfloat16), Array(-7.1875, dtype=bfloat16), Array(-7.125, dtype=bfloat16), Array(-4.6875, dtype=bfloat16), Array(-4.8125, dtype=bfloat16), Array(-5, dtype=bfloat16), Array(-4.9375, dtype=bfloat16), Array(-4.90625, dtype=bfloat16), Array(-4.6875, dtype=bfloat16), Array(-4.6875, dtype=bfloat16), Array(-4.875, dtype=bfloat16), Array(-5.125, dtype=bfloat16), Array(-5.375, dtype=bfloat16), Array(-5.28125, dtype=bfloat16), Array(-5.40625, dtype=bfloat16), Array(-5.3125, dtype=bfloat16), Array(-5.375, dtype=bfloat16), Array(-3.73438, dtype=bfloat16), Array(-4, dtype=bfloat16), Array(-4.03125, dtype=bfloat16), Array(-3.92188, dtype=bfloat16), Array(-3.82812, dtype=bfloat16), Array(-4.03125, dtype=bfloat16), Array(-4.125, dtype=bfloat16), Array(-4.21875, dtype=bfloat16), Array(-4.46875, dtype=bfloat16)], [Array(0., dtype=float32), Array(0., dtype=float32), Array(0., dtype=float32), Array(0., dtype=float32), Array(0., dtype=float32), Array(0., dtype=float32), Array(0., dtype=float32), Array(0., dtype=float32), Array(0., dtype=float32), Array(0., dtype=float32), Array(0., dtype=float32), Array(0., dtype=float32), Array(0., dtype=float32), Array(0., dtype=float32), Array(0., dtype=float32), Array(0., dtype=float32), Array(0., dtype=float32), Array(0.015625, dtype=float32), Array(0.015625, dtype=float32), Array(0.015625, dtype=float32), Array(0.015625, dtype=float32), Array(0.015625, dtype=float32), Array(0.015625, dtype=float32), Array(0.015625, dtype=float32), Array(0.046875, dtype=float32), Array(0.03125, dtype=float32), Array(0.015625, dtype=float32), Array(0.03125, dtype=float32), Array(0., dtype=float32), Array(0.015625, dtype=float32), Array(0.015625, dtype=float32), Array(0.0625, dtype=float32), Array(0.0625, dtype=float32), Array(0.0625, dtype=float32), Array(0.0625, dtype=float32), Array(0.0625, dtype=float32), Array(0.0625, dtype=float32), Array(0.0625, dtype=float32), Array(0.03125, dtype=float32), Array(0.03125, dtype=float32)]]\n",
      "added: [[Array(-1.17969, dtype=bfloat16)], [Array(0.375, dtype=float32)]]\n"
     ]
    }
   ],
   "source": [
    "\n",
    "task_names = [\n",
    "    \"en_ru\"\n",
    "]\n",
    "\n",
    "layer = 18\n",
    "\n",
    "for task in tqdm(task_names):\n",
    "    shot_logprobs_orig = [[] for _ in range(2)]\n",
    "    shot_logprobs_added = [[] for _ in range(2)]\n",
    "    shot_logprobs_sae = [[] for _ in range(2)]\n",
    "\n",
    "    pairs = tasks[task]\n",
    "    pairs = [list(x) for x in pairs.items()]\n",
    "    dataset = ICLDataset(pairs, size=batch_size, n_prepended=n_few_shots, bidirectional=False, seed=10, prepend_space=task.startswith(\"algo\"))\n",
    "\n",
    "    tokenized = tokenizer.batch_encode_plus([prompt.format(x) for x in dataset.prompts], padding=\"longest\", max_length=max_seq_len, truncation=True, return_tensors=\"np\")\n",
    "    inputs = tokenized_to_inputs(\n",
    "        **tokenized\n",
    "    )\n",
    "    \n",
    "    logits, resids = get_resids_call(inputs)\n",
    "\n",
    "    tokens = tokenized[\"input_ids\"]\n",
    "\n",
    "    shot_logprobs_orig[0].append(\n",
    "        get_logprob_diff(logits.unwrap(\"batch\", \"seq\", \"vocabulary\"), dataset.completions, print_results=False, extra_space=task.startswith(\"algo\"))\n",
    "    )\n",
    "\n",
    "    shot_logprobs_orig[1].append(\n",
    "        shot_logprobs_orig[0][-1] == 0.\n",
    "    )\n",
    "\n",
    "    mask = inputs.tokens == 1599\n",
    "    mask = mask.unwrap(\"batch\", \"seq\")\n",
    "\n",
    "    tv = resids[layer].value.unwrap(\"batch\", \"seq\", \"embedding\")[\n",
    "        mask\n",
    "    ]\n",
    "\n",
    "    tv = tv.mean(\n",
    "        axis=0\n",
    "    )\n",
    "\n",
    "    print(\n",
    "        tv.mean(), tv.std()\n",
    "    )\n",
    "\n",
    "    act_add = add_vector(\n",
    "        llama, tv, layer, scale=2.0, position=\"last\"\n",
    "    )\n",
    "\n",
    "    pairs = tasks[task]\n",
    "    pairs = [list(x) for x in pairs.items()]\n",
    "    dataset = ICLDataset(pairs, size=batch_size, n_prepended=0, bidirectional=False, seed=11, prepend_space=task.startswith(\"algo\"))\n",
    "\n",
    "\n",
    "    tokenized = tokenizer.batch_encode_plus([prompt.format(x) for x in dataset.prompts], padding=\"longest\", max_length=max_seq_len, truncation=True, return_tensors=\"np\")\n",
    "    inputs = tokenized_to_inputs(\n",
    "        **tokenized\n",
    "    )\n",
    "\n",
    "    logits = act_add(inputs)\n",
    "\n",
    "    tokens = tokenized[\"input_ids\"]\n",
    "\n",
    "    shot_logprobs_added[0].append(\n",
    "        get_logprob_diff(logits.unwrap(\"batch\", \"seq\", \"vocabulary\"), dataset.completions, print_results=True, extra_space=task.startswith(\"algo\"))\n",
    "    )\n",
    "\n",
    "    shot_logprobs_added[1].append(\n",
    "        shot_logprobs_added[0][-1] == 0.\n",
    "    )\n",
    "\n",
    "    for k in range(0, 40):\n",
    "        weights, recon = grad_pursuit(tv * 2, sae[\"W_dec\"], k, pos_only=True)\n",
    "\n",
    "        act_add = add_vector(\n",
    "            llama, recon.astype('bfloat16'), layer, scale=1.0, position=\"last\"\n",
    "        )\n",
    "\n",
    "        logits = act_add(inputs)\n",
    "        \n",
    "        shot_logprobs_sae[0].append(\n",
    "            get_logprob_diff(logits.unwrap(\"batch\", \"seq\", \"vocabulary\"), dataset.completions, print_results=True, extra_space=task.startswith(\"algo\"))\n",
    "        )\n",
    "\n",
    "        shot_logprobs_sae[1].append(\n",
    "            shot_logprobs_sae[0][-1] == 0.\n",
    "        )\n",
    "        \n",
    "    # print(f\"orig: {shot_logprobs_orig}\")\n",
    "    # print(f\"sae: {shot_logprobs_sae}\")\n",
    "    # print(f\"added: {shot_logprobs_added}\")\n",
    "\n",
    "\n",
    "    shot_logprobs_orig = [list(map(np.mean, x)) for x in shot_logprobs_orig]\n",
    "    shot_logprobs_sae = [list(map(np.mean, x)) for x in shot_logprobs_sae]\n",
    "    shot_logprobs_added = [list(map(np.mean, x)) for x in shot_logprobs_added]\n",
    "\n",
    "\n",
    "print(f\"orig: {shot_logprobs_orig}\")\n",
    "print(f\"sae: {shot_logprobs_sae}\")\n",
    "print(f\"added: {shot_logprobs_added}\")"
   ]
  },
  {
   "cell_type": "code",
   "execution_count": 28,
   "metadata": {},
   "outputs": [
    {
     "data": {
      "text/html": [
       "<div id=\"output_54f00e230b5a4d85bd85d3193715cb38\"><script> /* penzai.treescope rendering of a Python object (compressed) */ (()=>{ let observer; let lastStep = new Promise((resolve, reject) => { observer = new IntersectionObserver((entries) => { for (const entry of entries) { if (entry.isIntersecting) { resolve(); observer.disconnect(); return; } } }, {rootMargin: \"1000px\"}); }); window.treescope_decompress_enqueue = (encoded, destId) => { const previous = lastStep; const destElt = document.getElementById(destId); lastStep = (async () => { await previous; let blob = new Blob([ Uint8Array.from(atob(encoded), (m) => m.codePointAt(0)) ]); let reader = blob.stream().pipeThrough( new DecompressionStream(\"deflate\") ).pipeThrough( new TextDecoderStream(\"utf-8\") ).getReader(); let parts = []; while (true) { let step = await reader.read(); if (step.done) { break; } parts.push(step.value); } let newElt = document.createElement(\"div\"); newElt.innerHTML = parts.join(\"\"); destElt.parentNode.replaceChild(newElt, destElt); for (let oldScript of newElt.querySelectorAll(\"script\")) { let newScript = document.createElement(\"script\"); newScript.type = oldScript.type; newScript.textContent = oldScript.textContent; oldScript.parentNode.replaceChild(newScript, oldScript); } })(); requestAnimationFrame(() => { observer.observe(destElt); }); } })(); </script><div id=\"compress_html_01c9bbd3a6be474ba9b7fe98d05a746a\"><script>window.treescope_decompress_enqueue(\"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\", \"compress_html_01c9bbd3a6be474ba9b7fe98d05a746a\");</script><span style=\"color: #aaaaaa; font-family: monospace\">(Loading...)</span></div></div>"
      ],
      "text/plain": [
       "<IPython.core.display.HTML object>"
      ]
     },
     "metadata": {},
     "output_type": "display_data"
    },
    {
     "data": {
      "text/html": [
       "<div id=\"compress_html_080a1a92914248088c3ba46b40c470d5\"><script>window.treescope_decompress_enqueue(\"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\", \"compress_html_080a1a92914248088c3ba46b40c470d5\");</script></div>"
      ],
      "text/plain": [
       "<IPython.core.display.HTML object>"
      ]
     },
     "metadata": {},
     "output_type": "display_data"
    },
    {
     "data": {
      "text/html": [
       "<div id=\"output_dest_54f00e230b5a4d85bd85d3193715cb38\"><script> (()=>{ const output = document.getElementById(\"output_54f00e230b5a4d85bd85d3193715cb38\"); const dest = document.getElementById(\"output_dest_54f00e230b5a4d85bd85d3193715cb38\"); dest.parentNode.replaceChild(output, dest); })(); </script></div>"
      ],
      "text/plain": [
       "[[<jax.Array(-14.4375, dtype=bfloat16)>,\n",
       "  <jax.Array(-14.125, dtype=bfloat16)>,\n",
       "  <jax.Array(-7.84375, dtype=bfloat16)>,\n",
       "  <jax.Array(-8.75, dtype=bfloat16)>,\n",
       "  <jax.Array(-8.5, dtype=bfloat16)>,\n",
       "  <jax.Array(-8.4375, dtype=bfloat16)>,\n",
       "  <jax.Array(-9.5, dtype=bfloat16)>,\n",
       "  <jax.Array(-9.8125, dtype=bfloat16)>,\n",
       "  <jax.Array(-10.5, dtype=bfloat16)>,\n",
       "  <jax.Array(-10.5, dtype=bfloat16)>,\n",
       "  <jax.Array(-10.125, dtype=bfloat16)>,\n",
       "  <jax.Array(-10.125, dtype=bfloat16)>,\n",
       "  <jax.Array(-9.9375, dtype=bfloat16)>,\n",
       "  <jax.Array(-9.9375, dtype=bfloat16)>,\n",
       "  <jax.Array(-9.9375, dtype=bfloat16)>,\n",
       "  <jax.Array(-7.1875, dtype=bfloat16)>,\n",
       "  <jax.Array(-7.125, dtype=bfloat16)>,\n",
       "  <jax.Array(-4.6875, dtype=bfloat16)>,\n",
       "  <jax.Array(-4.8125, dtype=bfloat16)>,\n",
       "  <jax.Array(-5, dtype=bfloat16)>,\n",
       "  <jax.Array(-4.9375, dtype=bfloat16)>,\n",
       "  <jax.Array(-4.90625, dtype=bfloat16)>,\n",
       "  <jax.Array(-4.6875, dtype=bfloat16)>,\n",
       "  <jax.Array(-4.6875, dtype=bfloat16)>,\n",
       "  <jax.Array(-4.875, dtype=bfloat16)>,\n",
       "  <jax.Array(-5.125, dtype=bfloat16)>,\n",
       "  <jax.Array(-5.375, dtype=bfloat16)>,\n",
       "  <jax.Array(-5.28125, dtype=bfloat16)>,\n",
       "  <jax.Array(-5.40625, dtype=bfloat16)>,\n",
       "  <jax.Array(-5.3125, dtype=bfloat16)>,\n",
       "  <jax.Array(-5.375, dtype=bfloat16)>,\n",
       "  <jax.Array(-3.73438, dtype=bfloat16)>,\n",
       "  <jax.Array(-4, dtype=bfloat16)>,\n",
       "  <jax.Array(-4.03125, dtype=bfloat16)>,\n",
       "  <jax.Array(-3.92188, dtype=bfloat16)>,\n",
       "  <jax.Array(-3.82812, dtype=bfloat16)>,\n",
       "  <jax.Array(-4.03125, dtype=bfloat16)>,\n",
       "  <jax.Array(-4.125, dtype=bfloat16)>,\n",
       "  <jax.Array(-4.21875, dtype=bfloat16)>,\n",
       "  <jax.Array(-4.46875, dtype=bfloat16)>],\n",
       " [<jax.Array(0., dtype=float32)>,\n",
       "  <jax.Array(0., dtype=float32)>,\n",
       "  <jax.Array(0., dtype=float32)>,\n",
       "  <jax.Array(0., dtype=float32)>,\n",
       "  <jax.Array(0., dtype=float32)>,\n",
       "  <jax.Array(0., dtype=float32)>,\n",
       "  <jax.Array(0., dtype=float32)>,\n",
       "  <jax.Array(0., dtype=float32)>,\n",
       "  <jax.Array(0., dtype=float32)>,\n",
       "  <jax.Array(0., dtype=float32)>,\n",
       "  <jax.Array(0., dtype=float32)>,\n",
       "  <jax.Array(0., dtype=float32)>,\n",
       "  <jax.Array(0., dtype=float32)>,\n",
       "  <jax.Array(0., dtype=float32)>,\n",
       "  <jax.Array(0., dtype=float32)>,\n",
       "  <jax.Array(0., dtype=float32)>,\n",
       "  <jax.Array(0., dtype=float32)>,\n",
       "  <jax.Array(0.015625, dtype=float32)>,\n",
       "  <jax.Array(0.015625, dtype=float32)>,\n",
       "  <jax.Array(0.015625, dtype=float32)>,\n",
       "  <jax.Array(0.015625, dtype=float32)>,\n",
       "  <jax.Array(0.015625, dtype=float32)>,\n",
       "  <jax.Array(0.015625, dtype=float32)>,\n",
       "  <jax.Array(0.015625, dtype=float32)>,\n",
       "  <jax.Array(0.046875, dtype=float32)>,\n",
       "  <jax.Array(0.03125, dtype=float32)>,\n",
       "  <jax.Array(0.015625, dtype=float32)>,\n",
       "  <jax.Array(0.03125, dtype=float32)>,\n",
       "  <jax.Array(0., dtype=float32)>,\n",
       "  <jax.Array(0.015625, dtype=float32)>,\n",
       "  <jax.Array(0.015625, dtype=float32)>,\n",
       "  <jax.Array(0.0625, dtype=float32)>,\n",
       "  <jax.Array(0.0625, dtype=float32)>,\n",
       "  <jax.Array(0.0625, dtype=float32)>,\n",
       "  <jax.Array(0.0625, dtype=float32)>,\n",
       "  <jax.Array(0.0625, dtype=float32)>,\n",
       "  <jax.Array(0.0625, dtype=float32)>,\n",
       "  <jax.Array(0.0625, dtype=float32)>,\n",
       "  <jax.Array(0.03125, dtype=float32)>,\n",
       "  <jax.Array(0.03125, dtype=float32)>]]"
      ]
     },
     "execution_count": 28,
     "metadata": {},
     "output_type": "execute_result"
    }
   ],
   "source": [
    "shot_logprobs_sae"
   ]
  },
  {
   "cell_type": "code",
   "execution_count": 40,
   "metadata": {},
   "outputs": [
    {
     "data": {
      "text/html": [
       "<div id=\"output_4a32622af5ec44cda982f38b87bf1d37\"><script> /* penzai.treescope rendering of a Python object (compressed) */ (()=>{ let observer; let lastStep = new Promise((resolve, reject) => { observer = new IntersectionObserver((entries) => { for (const entry of entries) { if (entry.isIntersecting) { resolve(); observer.disconnect(); return; } } }, {rootMargin: \"1000px\"}); }); window.treescope_decompress_enqueue = (encoded, destId) => { const previous = lastStep; const destElt = document.getElementById(destId); lastStep = (async () => { await previous; let blob = new Blob([ Uint8Array.from(atob(encoded), (m) => m.codePointAt(0)) ]); let reader = blob.stream().pipeThrough( new DecompressionStream(\"deflate\") ).pipeThrough( new TextDecoderStream(\"utf-8\") ).getReader(); let parts = []; while (true) { let step = await reader.read(); if (step.done) { break; } parts.push(step.value); } let newElt = document.createElement(\"div\"); newElt.innerHTML = parts.join(\"\"); destElt.parentNode.replaceChild(newElt, destElt); for (let oldScript of newElt.querySelectorAll(\"script\")) { let newScript = document.createElement(\"script\"); newScript.type = oldScript.type; newScript.textContent = oldScript.textContent; oldScript.parentNode.replaceChild(newScript, oldScript); } })(); requestAnimationFrame(() => { observer.observe(destElt); }); } })(); </script><div id=\"compress_html_ec12e26fd7f14888ad3e9cf29e8c2c2b\"><script>window.treescope_decompress_enqueue(\"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\", \"compress_html_ec12e26fd7f14888ad3e9cf29e8c2c2b\");</script><span style=\"color: #aaaaaa; font-family: monospace\">(Loading...)</span></div></div>"
      ],
      "text/plain": [
       "<IPython.core.display.HTML object>"
      ]
     },
     "metadata": {},
     "output_type": "display_data"
    },
    {
     "data": {
      "text/html": [
       "<div id=\"compress_html_fff6c2f02c514c2388c2b885c1f437e7\"><script>window.treescope_decompress_enqueue(\"eNrtWG1v2zYQ/iuEgjVSG6lW/Bo7NrClG9Av/TAM2IeiEGiRtjjTpEbRTtKi/31HUpYs23HcLE0xYAlgW+K938O7I68JW6NC33M69ggrco7vh0hIQT3EyNibSZUQOqNKUZL0LweDVnfQ7bX6gw5Ne7hD+njW7bd6NIZfbW9yXeRYwKeRN4mmUmu55EzQoZDaj2aSEzzlNBGS0GGGC3/C8ZTySXMl0XI+545nmGY0XVASBOh1gL6gHBPCxDzUMh+iVhR36XKEjIYwo2ye6SGKI/vua5RKDsbj6VTRNXDaxyE66w0ucatVE6RyuaRCJ7cZFQm9A/sJJc9m70Yrtn+1VrFaTqnaImhdDeJuryYotAI/tyW0427crQggHcbtmmDKcboYoSl8zpVcCRKWC2us/DCccpku3KsAqKQiVLkoxvkdKiRn5BilS+VjxF9RlN3nVIFli0TRpdQ0yeQaHN01et9MueBp5g86P5m0droobl05ibe4SIpUSc6BXctoxlShE83SxclSrzpRbOS2rlDc7kX9g4Jt/o6qC/YUaoVFwTSTYrinHMUForigIROhXOkLNJNCh7cWpjtrJqtZmiWwe1KacDrTW1A3jwbr3TRr0ikrqSZUbgNUlAyQLDQYm2aMPx+kqyphcz9CS6zm4IYzM8U89S/TDIUGKi7OTTsUFd/NlBKszhQCkKXEIvaMtsy/CcrfK8wFXtIkV3TG7kCITUvBPlMTuoGrHYXGRk9lcZV3pwFNUJPkxYPbijpp5sL7iK0vE2xXE6xVBytDo25bPwCmPEOvkR+DO9sspdwCqGgQBFUMatbwdN6N3k39spyVyM3bsHz9gtGsK7CNYKgwYauidDCmS/DuYcespf/OiEch/qXRJFx+zV46oUkcJ/4agcTvMhTUST42F9hGb+s0tNh8G9hm7LGh1YrSIpU51FgpdVQRJ0uwBB2RwITR6bqLIQJrHyU8RdmDckqTr9+6kcvOXyjluCjGXtPMcjjbzHqNrMB4QaaDThePDuENAjrymqIbqUGsSFyXlMI2RiB2KbxmIl9ppGEmGHs2aVN55x0UUuYXWN9apqa+eqrQsHOp9hDBGocLep9jnY29HfMaXbpEG2o2WO+UWJWLOz3Dm+RUfMaszhzsnRwsKWDcmWHOzSQQQUrsLOy+Pkj9+0Z6bpz2m+vXb8uIbek9N1KnK8C0OEdS3HCYQcbntdIMRlWInqFKUrPo64wVwbmLjXk99nyOl1OCkYHW0H4GXg2BinCIzg9Qno9QSYMFIBC7Oef8BhiQiTv8rkb+pjfb0dstNKhZaLwj1HukEmYcJjCH4TJX42+CSNTgPQSYcub2Jq/O7i77o5+Vwvd+2IkG8WX3AhGL4umMS6zjXuBomm5f7EMKBHOcF5R4E3QoOI1Th/cC6W+G4XQw7PA9HRonAuXh1MOx9ImJZ+Rg2t1ZzJtcdXr9fqfdbl/2253Ofzm1jDwlscD1A9Nqt9cTE2t4j3Wo529IR+4OvKMwODuIlb0O8xe+23QQW4eOtIljQPP2zl5H173J8yVg+/oFSirXI7uAXOE0/lnH3OOruR4dgdAP3ErGs6dsJsv3XNvp1K22E6eL/2N5Utga42J9aYl2rlq8SfBtmWhM7Y9uj2pLPDxz7O+SzRdha5Cfgh498f0AjSfoSypFAbXObt33pEBj9NE7/S7308jxm1QA6y1UCnm7NfKC0KR5dPERkenKFESz+Cun5ucv9++JX9nwsfXJnF6d5JnCc0MC0ivGVFGs6bvy8beSwq94jJ4bDoceYNrwRziHgZzcmArmW+SkhuIDFHFfq5U9L8+kQj6nGjFgbI3g67qOTMSpmGs4/7M3b8x50tC5xW0tD/rEPoECw1PIlUrpO7be9miHzd6oe+gN2uF3jxEMVxwA9yfTmV+Jc3eQpRTrJjDUq+aidU19eyvgjpBbQqqAmeXAEAFmHE42eNlLLRV/r+iKviux8gddgjxNCz+oeP8BeVqQPA==\", \"compress_html_fff6c2f02c514c2388c2b885c1f437e7\");</script></div>"
      ],
      "text/plain": [
       "<IPython.core.display.HTML object>"
      ]
     },
     "metadata": {},
     "output_type": "display_data"
    },
    {
     "data": {
      "text/html": [
       "<div id=\"output_dest_4a32622af5ec44cda982f38b87bf1d37\"><script> (()=>{ const output = document.getElementById(\"output_4a32622af5ec44cda982f38b87bf1d37\"); const dest = document.getElementById(\"output_dest_4a32622af5ec44cda982f38b87bf1d37\"); dest.parentNode.replaceChild(output, dest); })(); </script></div>"
      ],
      "text/plain": [
       "<jax.Array(-4.8125, dtype=bfloat16)>"
      ]
     },
     "execution_count": 40,
     "metadata": {},
     "output_type": "execute_result"
    }
   ],
   "source": [
    "shot_logprobs_sae[0][18]"
   ]
  },
  {
   "cell_type": "code",
   "execution_count": 41,
   "metadata": {},
   "outputs": [
    {
     "data": {
      "text/html": [
       "<div id=\"output_30e7280c581943c5b55e9f4e74681dbe\"><script> /* penzai.treescope rendering of a Python object (compressed) */ (()=>{ let observer; let lastStep = new Promise((resolve, reject) => { observer = new IntersectionObserver((entries) => { for (const entry of entries) { if (entry.isIntersecting) { resolve(); observer.disconnect(); return; } } }, {rootMargin: \"1000px\"}); }); window.treescope_decompress_enqueue = (encoded, destId) => { const previous = lastStep; const destElt = document.getElementById(destId); lastStep = (async () => { await previous; let blob = new Blob([ Uint8Array.from(atob(encoded), (m) => m.codePointAt(0)) ]); let reader = blob.stream().pipeThrough( new DecompressionStream(\"deflate\") ).pipeThrough( new TextDecoderStream(\"utf-8\") ).getReader(); let parts = []; while (true) { let step = await reader.read(); if (step.done) { break; } parts.push(step.value); } let newElt = document.createElement(\"div\"); newElt.innerHTML = parts.join(\"\"); destElt.parentNode.replaceChild(newElt, destElt); for (let oldScript of newElt.querySelectorAll(\"script\")) { let newScript = document.createElement(\"script\"); newScript.type = oldScript.type; newScript.textContent = oldScript.textContent; oldScript.parentNode.replaceChild(newScript, oldScript); } })(); requestAnimationFrame(() => { observer.observe(destElt); }); } })(); </script><div id=\"compress_html_85d18076edd2419dbf72e7e0e1448f8c\"><script>window.treescope_decompress_enqueue(\"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\", \"compress_html_85d18076edd2419dbf72e7e0e1448f8c\");</script><span style=\"color: #aaaaaa; font-family: monospace\">(Loading...)</span></div></div>"
      ],
      "text/plain": [
       "<IPython.core.display.HTML object>"
      ]
     },
     "metadata": {},
     "output_type": "display_data"
    },
    {
     "data": {
      "text/html": [
       "<div id=\"compress_html_69dcf32ba7c649319dc1779d5c8a4440\"><script>window.treescope_decompress_enqueue(\"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\", \"compress_html_69dcf32ba7c649319dc1779d5c8a4440\");</script></div>"
      ],
      "text/plain": [
       "<IPython.core.display.HTML object>"
      ]
     },
     "metadata": {},
     "output_type": "display_data"
    },
    {
     "data": {
      "text/html": [
       "<div id=\"output_dest_30e7280c581943c5b55e9f4e74681dbe\"><script> (()=>{ const output = document.getElementById(\"output_30e7280c581943c5b55e9f4e74681dbe\"); const dest = document.getElementById(\"output_dest_30e7280c581943c5b55e9f4e74681dbe\"); dest.parentNode.replaceChild(output, dest); })(); </script></div>"
      ],
      "text/plain": [
       "<jax.Array int32(18,) [≥764, ≤47_625] nonzero:18\n",
       "  <Arrayviz rendering>\n",
       "  Replicated across 4 TPU devices (click to expand)\n",
       ">"
      ]
     },
     "execution_count": 41,
     "metadata": {},
     "output_type": "execute_result"
    }
   ],
   "source": [
    "k = 18\n",
    "\n",
    "weights, recon = grad_pursuit(tv, sae[\"W_dec\"], k, pos_only=True)\n",
    "w, i = jax.lax.top_k(jnp.abs(weights), k)\n",
    "\n",
    "i"
   ]
  },
  {
   "cell_type": "code",
   "execution_count": 38,
   "metadata": {},
   "outputs": [
    {
     "data": {
      "text/html": [
       "<div id=\"output_de68e2952fb14542830f4ff0ea5b40cf\"><script> /* penzai.treescope rendering of a Python object (compressed) */ (()=>{ let observer; let lastStep = new Promise((resolve, reject) => { observer = new IntersectionObserver((entries) => { for (const entry of entries) { if (entry.isIntersecting) { resolve(); observer.disconnect(); return; } } }, {rootMargin: \"1000px\"}); }); window.treescope_decompress_enqueue = (encoded, destId) => { const previous = lastStep; const destElt = document.getElementById(destId); lastStep = (async () => { await previous; let blob = new Blob([ Uint8Array.from(atob(encoded), (m) => m.codePointAt(0)) ]); let reader = blob.stream().pipeThrough( new DecompressionStream(\"deflate\") ).pipeThrough( new TextDecoderStream(\"utf-8\") ).getReader(); let parts = []; while (true) { let step = await reader.read(); if (step.done) { break; } parts.push(step.value); } let newElt = document.createElement(\"div\"); newElt.innerHTML = parts.join(\"\"); destElt.parentNode.replaceChild(newElt, destElt); for (let oldScript of newElt.querySelectorAll(\"script\")) { let newScript = document.createElement(\"script\"); newScript.type = oldScript.type; newScript.textContent = oldScript.textContent; oldScript.parentNode.replaceChild(newScript, oldScript); } })(); requestAnimationFrame(() => { observer.observe(destElt); }); } })(); </script><div id=\"compress_html_4e757d1b385a4eeca4075f7f6807ef66\"><script>window.treescope_decompress_enqueue(\"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\", \"compress_html_4e757d1b385a4eeca4075f7f6807ef66\");</script><span style=\"color: #aaaaaa; font-family: monospace\">(Loading...)</span></div></div>"
      ],
      "text/plain": [
       "<IPython.core.display.HTML object>"
      ]
     },
     "metadata": {},
     "output_type": "display_data"
    },
    {
     "data": {
      "text/html": [
       "<div id=\"compress_html_13c1cf72a6e44c7997df706326c8c0d5\"><script>window.treescope_decompress_enqueue(\"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\", \"compress_html_13c1cf72a6e44c7997df706326c8c0d5\");</script></div>"
      ],
      "text/plain": [
       "<IPython.core.display.HTML object>"
      ]
     },
     "metadata": {},
     "output_type": "display_data"
    },
    {
     "data": {
      "text/html": [
       "<div id=\"output_dest_de68e2952fb14542830f4ff0ea5b40cf\"><script> (()=>{ const output = document.getElementById(\"output_de68e2952fb14542830f4ff0ea5b40cf\"); const dest = document.getElementById(\"output_dest_de68e2952fb14542830f4ff0ea5b40cf\"); dest.parentNode.replaceChild(output, dest); })(); </script></div>"
      ],
      "text/plain": [
       "<jax.Array float32(18,) ≈7.4 ±3.2 [≥4.4, ≤1.9e+01] nonzero:18\n",
       "  <Arrayviz rendering>\n",
       "  Replicated across 4 TPU devices (click to expand)\n",
       ">"
      ]
     },
     "execution_count": 38,
     "metadata": {},
     "output_type": "execute_result"
    }
   ],
   "source": [
    "w"
   ]
  },
  {
   "cell_type": "code",
   "execution_count": null,
   "metadata": {},
   "outputs": [],
   "source": [
    "#37312"
   ]
  },
  {
   "cell_type": "code",
   "execution_count": 44,
   "metadata": {},
   "outputs": [
    {
     "name": "stdout",
     "output_type": "stream",
     "text": [
      "less snow inst train st car t window concert the air new guitar vis table unique take a sal there actor sal higher emer per sal unique inst feu football library light river wine higher any time flight sal football milk less river су concert sa air higher service sal k summer milk meat football no name name milk tor ly sal plan less\n",
      "у с университе мет сту ма вра ок кон те а ве ги ви сто с га су са по филь пи не ско ба сотруд день университе роман т би со ре ви не от время по профес т га у ре де кон са само не ус день пе ве мо г спо на час город мо би га це п у\n"
     ]
    },
    {
     "data": {
      "text/html": [
       "<div id=\"output_2f5038a1823f4919bcee23ea6d87e24c\"><script> /* penzai.treescope rendering of a Python object (compressed) */ (()=>{ let observer; let lastStep = new Promise((resolve, reject) => { observer = new IntersectionObserver((entries) => { for (const entry of entries) { if (entry.isIntersecting) { resolve(); observer.disconnect(); return; } } }, {rootMargin: \"1000px\"}); }); window.treescope_decompress_enqueue = (encoded, destId) => { const previous = lastStep; const destElt = document.getElementById(destId); lastStep = (async () => { await previous; let blob = new Blob([ Uint8Array.from(atob(encoded), (m) => m.codePointAt(0)) ]); let reader = blob.stream().pipeThrough( new DecompressionStream(\"deflate\") ).pipeThrough( new TextDecoderStream(\"utf-8\") ).getReader(); let parts = []; while (true) { let step = await reader.read(); if (step.done) { break; } parts.push(step.value); } let newElt = document.createElement(\"div\"); newElt.innerHTML = parts.join(\"\"); destElt.parentNode.replaceChild(newElt, destElt); for (let oldScript of newElt.querySelectorAll(\"script\")) { let newScript = document.createElement(\"script\"); newScript.type = oldScript.type; newScript.textContent = oldScript.textContent; oldScript.parentNode.replaceChild(newScript, oldScript); } })(); requestAnimationFrame(() => { observer.observe(destElt); }); } })(); </script><div id=\"compress_html_4cf692eee88942a3bf83d1b734d7652c\"><script>window.treescope_decompress_enqueue(\"eNrFWIlT4kwW/1d6mKoRxuFUcACxNiCXio7ijI77bVGdpJO0JN2x0wHxK//3fd0BOcQ5dqd2pUqg847fu/txGMmZT45yUhASWTwkI8G5RH+jkEdUUs5qSBAfSzohdeRwJrMODqg/q6GAMx6F2ILzqUclyeovNRQKOPFpJLNadFbOQjhlnMGxia2xK3jM7KzFfS5qCWsdzb+ZPhCAPGpLr4YcKoGMScJkHQVYuJRlfeLIGipZntLBSNYj1PXgpJgr19HzYT4x5zCyBA3lEaIOSk8ps/l0aSFqNBoIIBAHBNgZsPU1Bfr7uf7qODcKCbMpcw1LeSYCsn/+66dkPcxsX4lkse9voXaJHG14v4HSC6ePJM+gxhGAzH9EZ5yPIQgCSY8gTcm4TXLoYx75RKI57wqrDg0oTyfP3jWQza04AIfmTG7P0IcP6J16krN8HEVnELSccjimLEqn1kGlMki5aqFDMYVYgKS2TwIdoWfQLGPB9EP4usVWEbMh50wZOOViPLcMVEYSkN3AkXq0diyppQ5DIsDwADOL5BifpjMvpr16grIJ0yHaKynI23JgM5Q5nzBXepAaqLAtI34c08Ru5QHiR2QJ3YuZwv5T5ZFHHalM0hzqwzO8fhVDekEpyENMImkwGmBF0RE4IOnEr5nM9ohsQgnjyEtiU/8Vxy1ANBJX/I7rfh32VuCEAVdMjolDhCD2NQlCSHsSvU6g0FeHL4kPbGI2JD6xJBeG70Oiz3lXm2DMRhFkaipT1wWXVvUFkhB3tEBlKLyv1I0gAZ+QtapZkfFWJaQXWJV8R/AnoopDS04a3zrcdCppbEqk4oBvq6ZZgoAZ84JcpYVPOdWHgThRor/Nz8mjbCXKVh4vD+saTlLr56rdCALeskgLys9Og4RPikDF6c1YSe66ftJGRrr7SwCmuxycEF9+QmQC0ueuUGmnv+fGZKYqMiVSi9YDxCs+T+SmUy8yRwEATC1wPCOYB8kgOLTpBGnGxmZfQxKbAJg8NlKFFOIMlAJ6tkK3HX9aejRaIE/ByEkGqT1PyJF2ksd9mwidi3rAvccH6jUfpZqlhqjEPrUAb84BcmyCKtXX3xjCz2idbJSgA2qbRqB0thi2m4ToCPnYJH6tZhLIabKCytJ/9a36kombLaqROx/MhfpSF2V6Dps+V5P7TZ0eFId4rdnGYhwR7IKr2WvuGuMyvXHk4Sh9pGUebfWD5qlZHrHGMNwz6GNmiUGxbmda0K8h1OlfQzt/lcqmtfP/hLfO9CbIyv8ApIqjUhyLSAUw5BQQiC16afTn1OpS0Iqyut6it3L8z2hdmqf64GstORqNHCoiOeJspNJ/S2n9qJRypbKqpq2hQv81/CTimxCVVWt3aF3Qz7mpR9gIqtHHYUTsn3eR3wb0Aw1J79A6NBF5DOF28CbNn8CxTcXc0H/M1xtLhW9t1dkZwFgVFPtoOAtMDveJi1gqWDZaTM4WD2c7622dqVupPz+bzveU/QI0z0hYNRQLP21jiWvqeX7KHadUN3FEKvuf7EK1O3CNpqH/+peGwfWn5tUU/vc6htE2fvTXDAzDHfNTu99utqbfDeP6e+vEGPSbLaPjPvZ7Z56MmgNK3L3O8W3prF/5PhmGMf0yKF8XT277V98Gk5vBk/wy63Rauzfu+Jo2jwsePb6MT9p2977QM/POpG+HD6cV7+GG0st4wLpez/kqja+V5rnYNzp9Nm5XrK9xzHavyg9WNJ5OnI6ff3h02/yza55Mu5+LPSPPjKvymRAnxatd96lwZReME6fonh+0pt37klvgs/jq4CBoFyvT3m31wnVDcj2e7ZO++VS2THHRldhwL/vn02MczaLLuN+/vWl3psaXy7D/3f6az++6B9cHt3uy4Jx+eTAmZZB5ZpwfGIOpEbhPV8Pd+G5I2rePJadiPZ3vX/Vm5bhpnD4178NOuEd7l6124S7+sj88YE7zrN3rDAKD7n6etEseK3oHu+a36e39tCcmx92vLXbvtNuu3L2w7nz/oFxtnUybn73q/mDQHe517ww36Jfvm5dVed0lvWq72ex3947d/av8d2tmGl2I6bfTvHHZxQYZtHyj99S+cO+kW2l+cS8u+sfNMb0sk07zttXsWLQQeoKHDHIjvGsfF5+K46HTcqQ3O2U9G3einlM4D7rt80rTNh6+fQuxjIZ3gW1jWi05T9X9r/T+oRIGonLBv7eGVHSDyUl3b3gz3Ou0S1bz0rne7fk87O53omkZuw+Vz/SODM/98IY1e31iDwSJbx66raB40xHj4fCxXKrc3ERTAxBlkN7IZHpHp/VO5k+UL9zEZmYsJayP25rU8vG28ZhCqQ0qaNkRtIKtxH+R4r6dqv+nTQCK3RxT4NTNIIBbowfrTw1hJoGdQo3bL794vCcF9aq/HqgJN32CTlLIVUmwaWUyibdYsf1iteTMTXE0suDGCY594ceOXLunLm6EP9K5wbOuctX1aIJFOptV3S6LGQRW73mZ1WOlRC3AArPF3NRiUTFCBDyWhbnFY/l7prwggMBQYr9bR6JVonc0CLmQmL2SbQo+1pMrnC2vPT/37grbij8XYX71E9WrZcnTC7LmT0yDRQm6G7NQOtGw/qsJWHLNVeIB2RyBOouI1KCUSxUOPMVUIoYn1MWwSMISRUOTY2HnpoJKcg33nPRSFkRiLmu5bGHbTqdW/K33SiKvaUAgMC+L7Cu+xWK8wfr8CZUKhYJuDRaWlgdLX2Ybv9a74tTUEtz66pqG8L5HHUx9SAbJkSJ+p2sSLj4sxr4/g9tEJAm2VU7srvpuvjIu90WVSojajdTLPletFvdIqbqHTbO8Tz4XcRXjEsZ2CRfK5kH5IDVnmm+Z62vQ5m0MiJPed0hZGEuk1vFGSnc7kz+mtgqZN0Z4mDTFo8O8Zob3uaxV/dv20NTRB1/W7/FjzhACz5Dp+BzLYgVil8vl0AdXKg+AkKONt1XBa9eodaN3lmWwA5t0S0W7sfOD1NY7dGYHvdRjI5X2cWDaWG/7Nf0/k0K6ZBqplcKFfryFUjXfzTYDlDrEMAFhdd2ZIz7abmjeppO3S/Ot35zSmZfE+TfEjzE4\", \"compress_html_4cf692eee88942a3bf83d1b734d7652c\");</script><span style=\"color: #aaaaaa; font-family: monospace\">(Loading...)</span></div></div>"
      ],
      "text/plain": [
       "<IPython.core.display.HTML object>"
      ]
     },
     "metadata": {},
     "output_type": "display_data"
    },
    {
     "data": {
      "text/html": [
       "<div id=\"compress_html_6aa812cb10464b909ed5fa70b9c66d3e\"><script>window.treescope_decompress_enqueue(\"eNrtWG1v2zYQ/iuEgjVSG6uWYzt+iQ1s6Qb0Sz8MA/ahKARKpC3ONKlRtJO06H/fkZQly3YcN0tTDFgC2JZ47/fw7shrwtao0PecTjzCipzj+xESUlAPMTLxZlLFhM6oUpTEw2F0STvDS5wkvS4dRHiIcQdj0sHtXnLVu/Km10WOBXwaedMwkVrLJWeCjoTUfjiTnOCE01hIQkcZLvwpxwnl0+ZKrOV8zh3PKM1ouqAkCNDrAH1BOSaEiXlLy3yE2mHUo8sxMhpaGWXzTI9QFNp3X8NUcjAebFV0DZz2cYTO+gMwt10TpHK5pELHtxkVMb0D+wklz2bvRiu2f7VWsVomVG0RtIeDqNevCQqtwM9tCZdRL+pVBJAO43ZNkHCcLsYogc+5kitBWuXCGiu/1Uq4TBfuVQBUUhGqXBSj/A4VkjNyjNKl8jHiryjM7nOqwLJFrOhSahpncg2O7hq9b6Zc8DTzB92fTFq7PRS1h07iLS7iIlWSc2DXMpwxVehYs3RxstRhN4yM3PYQRZf98OqgYJu/o+qCPYVaYVEwzaQY7SlHUYEoLmiLiZZc6Qs0k0K3bi1Md9ZMVrM0i2H3pDTmdKa3oG4eDdZ7adakU1ZSTajcBqgoGSBZaDA2zRh/PkhXVcLmfoyWWM3BDWdminnqd9IMtQxUXJybdigqvpspJVidKQQgS4lF7Bltm38TlL9XmAu8pHGu6IzdgRCbloJ9piZ0A1c7Co2NnsriKu9OA5qiJsmLB7cddtPMhfcRW18m2K4mWKsOVoZG3bZ+AEx5hl4jPwJ3tllKuQVQ0SAIqhjUrK3TeTd6N/XLclYiN29b5esXjGZdgW0EWwoTtipKByO6BO8edsxa+u+MeBTiXxpNwuXX7KUTmsRx4q8hSPwuQ0Gd5GNzgW30tk5Di823gW3GHhtarSgtUplDjZVShxVxvARL0BEJTBidrrsYIrD2UcJTlD0opzT5+q0buez8hVKOi2LiNc0sh7PNrNfICowXJBl0e3h8CG8Q0LHXFN1IDWJF7LqkFLYxArFL4TUT+UojDTPBxLNJS+Sdd1BImV9gfWuZmvrqqULDzqXaQwRr3FrQ+xzrbOLtmNfo0iXaULPBeqfEqlzc6RneNKfiM2Z15mDv5GBJAePODHNuJoEQUmJnYff1QerfN9Jz47TfXL9+W0ZsS++5kZqsANPiHElxw2EGmZzXSjMYVSF6hipOzaKvM1YE5y425vXE8zleJgQjA62R/Qy8GgIV4QidH6A8H6OSBgtAIHZzzvkNMCATd/hdjfxNb7ajt1toULPQeEeo90glzDhMYA7DZa4m3wSRsMF7CDDlzO1NX53dda7GPyuF7/3WIOx3eheIWBAnMy6xjvqBI2l6fbGPKJDLcV5Q4k3Rodg0Dh3eC2S/GYXTsbDD93RknIiThzMPp9In5p2Rg1l3RzFvOuz2r6567e7lMOpE/f9yahl5SmKB6wem1W6vJybW8B5rUM/fj45cHXhHYXB2ECt7DeYvfLdpILYMHekSx4Dm7R29jq570+dLwPbtC1RUrsd2AbnCafyzjrnHV3M9PgKhH7iVjGdP2UyW77m206lbbSdOF//H8qSwNabF+s4S7dy0eNPg2zLRGNof3R7Vlnhw5NjfJJsvwtYgPgU1eur7AZpM0ZdUigJKnd2570mBJuijd/pN7qex4zeZANZbKBTydmvgBaFx8+DiIyLTlamHZvFXTs3PX+7fE7+y4WP7kzm7OskzheeGBKRXjKmiWNN35eNvJYVf8Rg9NxyOPMC04Q9xDuM4uTEFzLfASQ3FB6jhvlYre1qeSYV8TjViwNgew9d1HZmQUzHXcPpnb96Y06Shc4vbWh70iX0CBYankCuV0ndsve3RDpu9T/fQG7TD7x5DmK044O1PpjO/EuduIEsp1k1gqFfNNeua+vZOwB0gt4RUATPLgSECzDicbPCyl1oq/l7RFX1XYuUPugR5mhZ+UPH+A58RkSg=\", \"compress_html_6aa812cb10464b909ed5fa70b9c66d3e\");</script></div>"
      ],
      "text/plain": [
       "<IPython.core.display.HTML object>"
      ]
     },
     "metadata": {},
     "output_type": "display_data"
    },
    {
     "data": {
      "text/html": [
       "<div id=\"output_dest_2f5038a1823f4919bcee23ea6d87e24c\"><script> (()=>{ const output = document.getElementById(\"output_2f5038a1823f4919bcee23ea6d87e24c\"); const dest = document.getElementById(\"output_dest_2f5038a1823f4919bcee23ea6d87e24c\"); dest.parentNode.replaceChild(output, dest); })(); </script></div>"
      ],
      "text/plain": [
       "<jax.Array(-8.625, dtype=bfloat16)>"
      ]
     },
     "execution_count": 44,
     "metadata": {},
     "output_type": "execute_result"
    }
   ],
   "source": [
    "pairs = tasks[task]\n",
    "pairs = [list(x) for x in pairs.items()]\n",
    "dataset = ICLDataset(pairs, size=batch_size, n_prepended=0, bidirectional=False, seed=101, prepend_space=task.startswith(\"algo\"))\n",
    "\n",
    "\n",
    "tokenized = tokenizer.batch_encode_plus([prompt.format(x) for x in dataset.prompts], padding=\"longest\", max_length=max_seq_len, truncation=True, return_tensors=\"np\")\n",
    "inputs = tokenized_to_inputs(\n",
    "    **tokenized\n",
    ")\n",
    "\n",
    "# weights, recon = grad_pursuit(tv * 2, sae[\"W_dec\"], k, pos_only=True)\n",
    "\n",
    "recon = sae[\"W_dec\"][27215] * 20\n",
    "\n",
    "act_add = add_vector(\n",
    "    llama, recon.astype('bfloat16'), layer, scale=1.0, position=\"last\"\n",
    ")\n",
    "\n",
    "logits = act_add(inputs)\n",
    "\n",
    "get_logprob_diff(logits.unwrap(\"batch\", \"seq\", \"vocabulary\"), dataset.completions, print_results=True).mean()"
   ]
  },
  {
   "cell_type": "code",
   "execution_count": 26,
   "metadata": {},
   "outputs": [
    {
     "data": {
      "text/html": [
       "<div id=\"output_4cd624b442a14c7482a44357e976214d\"><script> /* penzai.treescope rendering of a Python object (compressed) */ (()=>{ let observer; let lastStep = new Promise((resolve, reject) => { observer = new IntersectionObserver((entries) => { for (const entry of entries) { if (entry.isIntersecting) { resolve(); observer.disconnect(); return; } } }, {rootMargin: \"1000px\"}); }); window.treescope_decompress_enqueue = (encoded, destId) => { const previous = lastStep; const destElt = document.getElementById(destId); lastStep = (async () => { await previous; let blob = new Blob([ Uint8Array.from(atob(encoded), (m) => m.codePointAt(0)) ]); let reader = blob.stream().pipeThrough( new DecompressionStream(\"deflate\") ).pipeThrough( new TextDecoderStream(\"utf-8\") ).getReader(); let parts = []; while (true) { let step = await reader.read(); if (step.done) { break; } parts.push(step.value); } let newElt = document.createElement(\"div\"); newElt.innerHTML = parts.join(\"\"); destElt.parentNode.replaceChild(newElt, destElt); for (let oldScript of newElt.querySelectorAll(\"script\")) { let newScript = document.createElement(\"script\"); newScript.type = oldScript.type; newScript.textContent = oldScript.textContent; oldScript.parentNode.replaceChild(newScript, oldScript); } })(); requestAnimationFrame(() => { observer.observe(destElt); }); } })(); </script><div id=\"compress_html_151da425be954e4ca14acd5cc00e1ff0\"><script>window.treescope_decompress_enqueue(\"eNrlnely2zi2gF8FUVe15XYki5u8xa5LydqS2ImXxEl6ulQQCS4RBdIgaFnu8tvMY8y/frF7QEq2ZCtpYm6mh+xrV1kiiOXgHODg4OPiVzGfBeSozhkhsRVGZMjCkKPfURTGPvdDuo8YCTD3b8gBckLKaw6e+MFsH01CGsYRtiB96vmc1NKDfRQxSAn8mNfSqmt8FkEqDSkkj7A1dlmYULtmhUHI9rOiB2h+NAogA9Tn29zbR47PIRvlhPIDNMHM9WktIA7fR6rliTYoqXnEdz1IUerGAbp/tZ1151VsMT/iR8h3UHXqUzucPvYQHR4eIhCBOFCBvQl9fZ4D/X5/8Cy5PowItX3qmpbQTAzZfv3tT7P1MbUDUSVNgmBNbpfw4RPtH6LqQulDHm6iwyMQcvsX9DYMx2AEhrhHUJqThjapo1+2UUA4mpddKpqaBhqvZudeHCI7tJIJKLQ+Cu0Z+vln9EKcqVsBjuO3YLS6UDj2aVytrApV2URCVYs2RKEIM6ipE5BJaqF7aJknjKYn4XBNX1lCL8KQig5OQzae9wyajDlIdgVJ4tRKMvctkRgRBh2fYGqROg2n1c2Hrj07g2pZoVdIU4XI68bAU1PWA0Jd7sHQQI11I+L7Ns36LTRAgpg8iu4lVMj+p43Hnu9w0aW0hPhyD795ZagucjJynZCYm9SfYJGjy/CEVDO9bm6ut8hTUaIk9jLbHORR3EKIw0wVMqrLL/ZawQmFUgk5Jg5hjNiXZBLBsCfx8wEUBSLxYeBDMTa7IAGxeMjMIICBPi+77AQTOoxhpFY2D9IJVxXzC2pCoZNWKDoKn0vzhpFJeENWZs1SHd+aCdWFrKJ+h4V3REyOtObM8a2KW61kjk1UKUrA0XLXLEagG/MJuZwXvtWFH4bMWSPp0Tyd3PJ21tjS6cfEg1ScbK6fCnfDCGjLIm2YfnYVangpMgg7fdNWPHTdIHMjw9T7cxAs9XKQQgL+EpEbqH2uCjHs0uP6mMzEjKywysL1QOYlnWf1VisPdQ4nIGBlIcc9gvUgWwhe2f4NSgsePvVriOMRCExuDyuNCgopNArS06V86+Wvcs+PF5JXYMnJFtJ0JRvGkIO66RhMF7afsKYYilii6k4Y2HgE1Qnf/Y2F9h6tZhtmEkBu249B+7PFgvo0IzpCAR6RYH9/RGDckiUJrPTnYG172apaU8SyOl98GwePbfk0XWtHQShW52+26cEEYM9btjEbxwS7oE76vPQ+DXn1SZKH4+pRWufRWj2kZfYtj1hjWMA30S+bjzKIousLLfKvSJgO8X208Q/VGFkb/03xVgt9U8jmXyCksKNoOGGxMGAU+iABW9OuH/+4ZtOpkDZUS+dU/K0x/mNafeye8HXPW6n78dDxWcyHIR2K4b9man1vKtVVQ8ymtaZC/2fxM4s/FVH0aiVOTif0fV24N1CsPbSEz/5Bo2XJF80dw0rTFg6sKsTpEI0p0W3qkp/IAQvKf0yUUchsGEiZKHbIoVEhBvqJNMSvUErswZJmD6eYUXDVw8UYXLhLx8GWoq3JGMHSBabHtohpamy+/RCKnvd/nlRr1NMR8Ljn2U+3LJjVXIZtXyzRimbYxH2JQoapS1ADNepNy4MFFY7jbMnNklCmwOeiPBsDP0ylK9ZcdOa+PvUIHYKSAhzFoNQ/XZGkG/9OC9k6lLaRZiK3EUST38zzI+RY18S8o/8z3w5bwhWsbI03TiAMYz4O0MVsMgoh/nyXcCGWjRaRVjuMZhvzHXUaOYhqYRcTzNOm832t3oDBGjNrHyUsqNqY431xfnsaOo56MMIxaeov7cZe78Q1W2b6MzgzzTD91jqfwt9+1zQ75vd+WhPTdMfhG3vQabWnn03z8nP7tXkyaLXNrns76L/1eNw68YmrdY8/qW8Hzc83F1Hivz8xLpXXnwbnH09urk7u+PtZt9veunLHl37ruOH5x2fJ647d+9roj7adm4EdXb9petdXvn+WnNCe13c+cPNDs3XKdLM7oONO0/qQJHTr3Li24vH0xukG29e3bifcdUevp71dpW9uU/PceMvYa+V8y71rnNsN87WjuKc77Wnvq+o2wllyvrMz6SjNaf/T3jvXjcjleKaTwejOsEbsXY9j0z0bnE6PcTyLz5LB4NNVpzs1359Fg8/2h+3tLXfncueTxhvOm/fX5o0Bdb41T3fMk6k5ce/OL7aSLxek8+lWdZrW3al+3p8ZSct8c9f6GnUjze+ftTuNL8l7/WKHOq23nX73ZGL6W7s3HdWjirezNfo4/fR12mc3x70PbfrV6XRcvvXO+hIEO8Ze+/W0tevt6ScnvQut98V0JwPja+tsj1/2SH+v02oNetqxq59vf7ZmI7MHNv34Zts862GTnLQDs3/Xeed+4W6z9d59925w3Br7Zwbptj61W13Lb0QeCyMKYyP60jlW7pTxhdN2uDd7Q/s27sZ9p3E66XVOmy3bvP74McI8vvgysW3s76nO3Z7+wf963YwmrPku/Ny+8FlvcvO6p11cXWjdjmq1zpzLrX4QRj29G08N7F43d/0v5OI0iK5oqz8g9gkjydV1rz1RrrpsfHFxa6jNq6t4aoJEmyjdwfPqRjqsNzZ/xPSFyH02SjgP6Von9Xh6XahVQZUnuWD5B4+8PvM/iKLblYN/1wnAZB+NfSiZOoMJ7DI88O77CFMOxX2Y4/YDIXtYwJ4FZ1lp/w48SaO+RyZPe5lFdWt6sT5IfyxZn+J4aAW+UOxDeezwLEZ8srv4XptPyqw2uax6dINZtVYT3q6GKRg25QKby8miEQFMxEI5j8HSapESIwIaq8HSFSZcrisPEoBhfGK/WJUkbRK98CdRyDimz+oesXCcrlzR7DGE/nPtLhVb0udDnPIUaT7bXHspUEnLZ12DjTV4N2qhatbCKmWDnlyGYuBBtrkEIi0mPBVKqFTIgafY54jiG9/FPGSw6fajUYiZXZ8yn5NLiJmrj3WBJeZ1PW7OIUCqVpb0nXIIwi/9CQHDPICPZ+UWIOVJ0fuXSG00GqlrsDCHkKiaxrvr211SauVRuFXUUQXz/oS62A9gMPAQicwv0jkJsQ9NcBDMIJqIOcG2GBNby7qbI4ZHviCG0gIwrO6OnwZolaNXmRt75dMo4UiQmMNK6rhG4W1lbSVzHwcnM/929Go7Lbzargc1MWhiPOQQuxFeSSWujckMvLl3WKkc/QoCQwEoPhdhqfjG45jcQCFtC9UfbnxnnKUAZHMDPUyOw0o1wJORjVNUs5/+3aygdPweVpZmETjHNTmFJ3w65yFnqm/RAfheySQ+euhG9rGshGd7jMr3zlfkNPhr47cnJZZxT+Xo559u1Z2DmP/xTzYm2cGqqC9XCq9GupUjtK5DK2Fo5S8wGXQyv9VE5n/fcHnNKGsmJY+ZIgxOnpXWSoqMlZQiWknNY6UAFuLS2kiVsZFaRBtpeWyE2R0vrY00GRtpRbSRnstGPJyU1ka6jI30ItrIyGMjFzYzpbWRIWMjo4g2auaaRwkPS2ujpoyNmkW00U4eG4FOCfPFRfDSWmpHxlI7RbTUbh5LOYwktLzx3a6MlXaLaKW9PFa6S6xxiXdKezJW2ivkfjYXdxhBzeXdzkpRB6WY2EHJh4cIo+W1kxx3KCR4UHKRB5/GZFzeCEKRgg9KIemDkgs/3BDmivsnqEf8EttLCkQohSQRSi4UwYjrxzFJSsxepYCEUkgioeRCElNhqRKvVlJUQikkllBycQnHD8rL9xQpMKEUkkwoudBE8Mc/WYntJIUllEJyCSUXmBixP/5llfgariKFJpRCsgklF5zgnnjopcSxhBSeUArJJ9RcfAI7TnknlCrFJ9RC8gk1F58ASWNseSU2lRSiUIt5b0QuROGELClvNKHK3R5RSEKh5iIUo4D4Mfed8tIJVYpOqIWkE2ouOhGHlJbY90mRCbWQZEI1clIkEpTXTlJgQi0kmFBzgYnYZ6TME0oKTaiFRBPqzv+Da/GqFJtQC8km1FxsYkJKvN1VpcCEWkgwoe79/a/zqlJYQi0kltDy3TYRYF7i25eluIRWSC6hKfk2uyW+81KTYhJaIZmElotJjANM3fLaSYpJaMV8ZiMXk/D++FeZN1Ca3HMbhQQSWi4g4eGkvE8FaFI8Qiskj9By8QiPJLy821xNikdoheQRWjPfQzYlnk1SMEIrJIzQcsGIKfHjUt/Op0nhCK2QOELbzWeqgDNc4utQmhSS0AqJJLRcSGICW6jyoiNNCklohUQSeiPfrefZC5FA3PI+sysFJvRCggk934skYMdLyrtS6VJoQi8kmtBzoQkoVOJ7mXUpNKEXEk3oudDEV+wxDrteUuLLUboUn9CL+WKJfG+WYJMR6CjxyhtZ6HIvmCgkpdCNv/9rQKQghV5ISKHnfJqDppcP/fKyCl2KVeiFZBX6Tt47kUocVkiBCr2QoELPBSrwqNQBhRSl0AtJKfRclIJiyyvxdkqKUuiFpBRGLkrhJV553Z4hhSeMQuIJQ/n7P3JoSNEJo5B0wlDz3S9W5gcEDCk6YRSSThhavguIjJKgvJd6DSkyYRSSTBh63je4lPcOF0MKShjFfO1lLigRsdBleFLiRUru5ZeFBBNGvtdfBkH2HwHKayspLmEUkksY+V6DWWJ6ZEhRCaOQVMLI9zRHWGIoYUhBCaOQUMLI9zRHMoo5pnflNZUUlzAKySWajb//Zd6mFJhoFhJMNPO9aIKUdxPVlMISzUJiiWYuLDHFJX6rbFOKSjQLSSWaWr63tqx96OZ7+n9ZEBtJ8YjmD+QR2cdvhVDDX/KPshYftn/z7X8oR+h1QhJyTBzCGLEvySQKYEWNq5sP/+7sfwG1MxbW\", \"compress_html_151da425be954e4ca14acd5cc00e1ff0\");</script><span style=\"color: #aaaaaa; font-family: monospace\">(Loading...)</span></div></div>"
      ],
      "text/plain": [
       "<IPython.core.display.HTML object>"
      ]
     },
     "metadata": {},
     "output_type": "display_data"
    },
    {
     "data": {
      "text/html": [
       "<div id=\"output_dest_4cd624b442a14c7482a44357e976214d\"><script> (()=>{ const output = document.getElementById(\"output_4cd624b442a14c7482a44357e976214d\"); const dest = document.getElementById(\"output_dest_4cd624b442a14c7482a44357e976214d\"); dest.parentNode.replaceChild(output, dest); })(); </script></div>"
      ],
      "text/plain": [
       "['stärke',\n",
       " 'papier',\n",
       " 'lied',\n",
       " 'arzt',\n",
       " 'atom',\n",
       " 'gans',\n",
       " 'auto',\n",
       " 'experiment',\n",
       " 'freund',\n",
       " 'zucker',\n",
       " 'bild',\n",
       " 'stern',\n",
       " 'insekt',\n",
       " 'vergangenheit',\n",
       " 'regisseur',\n",
       " 'wissen',\n",
       " 'film',\n",
       " 'lärm',\n",
       " 'brücke',\n",
       " 'theater',\n",
       " 'affe',\n",
       " 'tatsache',\n",
       " 'forum',\n",
       " 'bleistift',\n",
       " 'sonne',\n",
       " 'regel',\n",
       " 'sirene',\n",
       " 'freund',\n",
       " 'meer',\n",
       " 'stern',\n",
       " 'blatt',\n",
       " 'foto',\n",
       " 'klang',\n",
       " 'hügel',\n",
       " 'haus',\n",
       " 'heute',\n",
       " 'gas',\n",
       " 'weisheit',\n",
       " 'weltraum',\n",
       " 'motor',\n",
       " 'information',\n",
       " 'planet',\n",
       " 'daten',\n",
       " 'jahrtausend',\n",
       " 'armbanduhr',\n",
       " 'atom',\n",
       " 'finsternis',\n",
       " 'regen',\n",
       " 'abend',\n",
       " 'nacht',\n",
       " 'huhn',\n",
       " 'lärm',\n",
       " 'stift',\n",
       " 'garnele',\n",
       " 'insel',\n",
       " 'programm',\n",
       " 'alligator',\n",
       " 'eis',\n",
       " 'mond',\n",
       " 'substanz',\n",
       " 'daten',\n",
       " 'tee',\n",
       " 'wald',\n",
       " 'tag']"
      ]
     },
     "execution_count": 26,
     "metadata": {},
     "output_type": "execute_result"
    }
   ],
   "source": [
    "dataset.completions"
   ]
  },
  {
   "cell_type": "code",
   "execution_count": 17,
   "metadata": {},
   "outputs": [],
   "source": [
    "def prepare_inputs(dataset: ICLDataset):\n",
    "    tokenized = tokenizer.batch_encode_plus([prompt.format(x) for x in dataset.prompts], padding=\"longest\", max_length=max_seq_len, truncation=True, return_tensors=\"np\")\n",
    "    inputs = tokenized_to_inputs(\n",
    "        **tokenized\n",
    "    )\n",
    "    \n",
    "    tokens = tokenized[\"input_ids\"]\n",
    "\n",
    "    return inputs, tokens"
   ]
  },
  {
   "cell_type": "code",
   "execution_count": 18,
   "metadata": {},
   "outputs": [],
   "source": [
    "task_names = list(tasks.keys())\n",
    "task_names = [x for x in task_names if x.startswith(\"algo\")]\n",
    "# n_few_shots, batch_size, max_seq_len = 64, 64, 512\n",
    "n_few_shots, batch_size, max_seq_len = 20, 64, 256"
   ]
  },
  {
   "cell_type": "code",
   "execution_count": 24,
   "metadata": {},
   "outputs": [
    {
     "data": {
      "application/vnd.jupyter.widget-view+json": {
       "model_id": "f344540e3b9a4151827387ee88232412",
       "version_major": 2,
       "version_minor": 0
      },
      "text/plain": [
       "  0%|          | 0/6 [00:00<?, ?it/s]"
      ]
     },
     "metadata": {},
     "output_type": "display_data"
    },
    {
     "data": {
      "application/vnd.jupyter.widget-view+json": {
       "model_id": "4ae6bf9a2d904e6eb0eaba7ca8aaa5d2",
       "version_major": 2,
       "version_minor": 0
      },
      "text/plain": [
       "  0%|          | 0/12 [00:00<?, ?it/s]"
      ]
     },
     "metadata": {},
     "output_type": "display_data"
    },
    {
     "data": {
      "application/vnd.jupyter.widget-view+json": {
       "model_id": "0ba6f6179774473899c691a2083861de",
       "version_major": 2,
       "version_minor": 0
      },
      "text/plain": [
       "  0%|          | 0/12 [00:00<?, ?it/s]"
      ]
     },
     "metadata": {},
     "output_type": "display_data"
    },
    {
     "data": {
      "application/vnd.jupyter.widget-view+json": {
       "model_id": "c1dfdcef5a2e4d3c908571cf02857023",
       "version_major": 2,
       "version_minor": 0
      },
      "text/plain": [
       "  0%|          | 0/12 [00:00<?, ?it/s]"
      ]
     },
     "metadata": {},
     "output_type": "display_data"
    },
    {
     "data": {
      "application/vnd.jupyter.widget-view+json": {
       "model_id": "b448f63d3cec4d2bbce70b7bd972c3a0",
       "version_major": 2,
       "version_minor": 0
      },
      "text/plain": [
       "  0%|          | 0/12 [00:00<?, ?it/s]"
      ]
     },
     "metadata": {},
     "output_type": "display_data"
    },
    {
     "data": {
      "application/vnd.jupyter.widget-view+json": {
       "model_id": "c4960d407ec646b3b0319f0e532601cc",
       "version_major": 2,
       "version_minor": 0
      },
      "text/plain": [
       "  0%|          | 0/12 [00:00<?, ?it/s]"
      ]
     },
     "metadata": {},
     "output_type": "display_data"
    },
    {
     "data": {
      "application/vnd.jupyter.widget-view+json": {
       "model_id": "434f8bed76084560b76e09f43926a2b9",
       "version_major": 2,
       "version_minor": 0
      },
      "text/plain": [
       "  0%|          | 0/12 [00:00<?, ?it/s]"
      ]
     },
     "metadata": {},
     "output_type": "display_data"
    }
   ],
   "source": [
    "results = {}\n",
    "\n",
    "for task in tqdm(task_names):\n",
    "    results[task] = []\n",
    "    \n",
    "    pairs = tasks[task]\n",
    "    pairs = [list(x) for x in pairs.items()]\n",
    "    dataset = ICLDataset(pairs, size=batch_size, n_prepended=n_few_shots, bidirectional=False, seed=10, prepend_space=task.startswith(\"algo\"))\n",
    "\n",
    "    clean_inputs, clean_tokens = prepare_inputs(dataset)\n",
    "\n",
    "    _, resids = get_resids_call(clean_inputs)\n",
    "\n",
    "    mask = clean_inputs.tokens == 1599\n",
    "    mask = mask.unwrap(\"batch\", \"seq\")\n",
    "\n",
    "    if task.startswith(\"algo\"):\n",
    "        mask = jnp.roll(mask, 1, axis=1)\n",
    "\n",
    "    dataset = ICLDataset(pairs, size=batch_size, n_prepended=0, bidirectional=False, seed=11, prepend_space=task.startswith(\"algo\"))\n",
    "\n",
    "    add_inputs, add_tokens = prepare_inputs(dataset)\n",
    "\n",
    "    for layer in trange(10, 22):\n",
    "        tv = resids[layer].value.unwrap(\"batch\", \"seq\", \"embedding\")[mask]\n",
    "        tv = tv.mean(axis=0)\n",
    "        tv = tv.astype('bfloat16')\n",
    "\n",
    "        act_add = add_vector(\n",
    "            llama, tv, layer, scale=2.0, position=\"last\"\n",
    "        )\n",
    "\n",
    "        logits = act_add(add_inputs)\n",
    "\n",
    "        diff = get_logprob_diff(logits.unwrap(\"batch\", \"seq\", \"vocabulary\"), dataset.completions, print_results=False, extra_space=task.startswith(\"algo\"))\n",
    "\n",
    "        results[task].append(diff.mean())\n",
    "        \n",
    "        "
   ]
  },
  {
   "cell_type": "code",
   "execution_count": null,
   "metadata": {},
   "outputs": [],
   "source": []
  },
  {
   "cell_type": "code",
   "execution_count": 25,
   "metadata": {},
   "outputs": [
    {
     "name": "stdout",
     "output_type": "stream",
     "text": [
      "algo_max 21 -0.515625\n",
      "algo_min 21 -0.945312\n",
      "algo_last 20 -0.162109\n",
      "algo_first 13 -0.828125\n",
      "algo_sum 17 -1.49219\n",
      "algo_most_common 14 -1.15625\n"
     ]
    }
   ],
   "source": [
    "for k in results:\n",
    "    print(\n",
    "        k, np.argmax([float(x) for x in results[k]]) + 10, max(results[k])\n",
    "    )"
   ]
  },
  {
   "cell_type": "code",
   "execution_count": 31,
   "metadata": {},
   "outputs": [
    {
     "name": "stdout",
     "output_type": "stream",
     "text": [
      "location_continent 21 -1.09375\n",
      "football_player_position 21 -3.76562\n",
      "location_religion 21 -1.09375\n",
      "location_language 20 -0.457031\n",
      "person_profession 21 -1.30469\n",
      "location_country 21 -1.44531\n",
      "country_capital 18 -1.25781\n",
      "person_language 18 -0.287109\n",
      "singular_plural 21 -0.261719\n",
      "present_simple_past_simple 20 -0.341797\n",
      "antonyms 14 -0.75\n",
      "plural_singular 20 -0.133789\n",
      "present_simple_past_perfect 18 -1.25781\n",
      "present_simple_gerund 20 -0.171875\n",
      "en_it 18 -1.29688\n",
      "it_en 14 -1.75781\n",
      "en_fr 18 -1.39062\n",
      "en_es 18 -1.21875\n",
      "fr_en 17 -1.25781\n",
      "es_en 17 -1.09375\n"
     ]
    }
   ],
   "source": [
    "for k in results:\n",
    "    print(\n",
    "        k, np.argmax([float(x) for x in results[k]]) + 10, max(results[k])\n",
    "    )"
   ]
  },
  {
   "cell_type": "code",
   "execution_count": 22,
   "metadata": {},
   "outputs": [
    {
     "data": {
      "application/vnd.jupyter.widget-view+json": {
       "model_id": "b5b66e674c3a46d9b74404f6087bdc9f",
       "version_major": 2,
       "version_minor": 0
      },
      "text/plain": [
       "  0%|          | 0/12 [00:00<?, ?it/s]"
      ]
     },
     "metadata": {},
     "output_type": "display_data"
    }
   ],
   "source": [
    "# for task in tqdm(task_names):\n",
    "\n",
    "task = \"algo_last\"\n",
    "\n",
    "results[task] = []\n",
    "\n",
    "pairs = tasks[task]\n",
    "pairs = [list(x) for x in pairs.items()]\n",
    "dataset = ICLDataset(pairs, size=batch_size, n_prepended=n_few_shots, bidirectional=False, seed=10, prepend_space=task.startswith(\"algo\"))\n",
    "\n",
    "clean_inputs, clean_tokens = prepare_inputs(dataset)\n",
    "\n",
    "_, resids = get_resids_call(clean_inputs)\n",
    "\n",
    "mask = clean_inputs.tokens == 1599\n",
    "mask = mask.unwrap(\"batch\", \"seq\")\n",
    "\n",
    "mask = jnp.roll(mask, 1, axis=1)\n",
    "\n",
    "dataset = ICLDataset(pairs, size=batch_size, n_prepended=0, bidirectional=False, seed=11, prepend_space=task.startswith(\"algo\"))\n",
    "\n",
    "add_inputs, add_tokens = prepare_inputs(dataset)\n",
    "\n",
    "for layer in trange(10, 22):\n",
    "    tv = resids[layer].value.unwrap(\"batch\", \"seq\", \"embedding\")[mask]\n",
    "    tv = tv.mean(axis=0)\n",
    "    tv = tv.astype('bfloat16')\n",
    "\n",
    "    act_add = add_vector(\n",
    "        llama, tv, layer, scale=2.0, position=\"last\"\n",
    "    )\n",
    "\n",
    "    logits = act_add(add_inputs)\n",
    "\n",
    "    diff = get_logprob_diff(logits.unwrap(\"batch\", \"seq\", \"vocabulary\"), dataset.completions, print_results=False, extra_space=task.startswith(\"algo\"))\n",
    "\n",
    "    results[task].append(diff.mean())"
   ]
  },
  {
   "cell_type": "code",
   "execution_count": 23,
   "metadata": {},
   "outputs": [
    {
     "data": {
      "text/html": [
       "<div id=\"output_a549a0efa0b44b4da31e5490bf2d1935\"><script> /* penzai.treescope rendering of a Python object (compressed) */ (()=>{ let observer; let lastStep = new Promise((resolve, reject) => { observer = new IntersectionObserver((entries) => { for (const entry of entries) { if (entry.isIntersecting) { resolve(); observer.disconnect(); return; } } }, {rootMargin: \"1000px\"}); }); window.treescope_decompress_enqueue = (encoded, destId) => { const previous = lastStep; const destElt = document.getElementById(destId); lastStep = (async () => { await previous; let blob = new Blob([ Uint8Array.from(atob(encoded), (m) => m.codePointAt(0)) ]); let reader = blob.stream().pipeThrough( new DecompressionStream(\"deflate\") ).pipeThrough( new TextDecoderStream(\"utf-8\") ).getReader(); let parts = []; while (true) { let step = await reader.read(); if (step.done) { break; } parts.push(step.value); } let newElt = document.createElement(\"div\"); newElt.innerHTML = parts.join(\"\"); destElt.parentNode.replaceChild(newElt, destElt); for (let oldScript of newElt.querySelectorAll(\"script\")) { let newScript = document.createElement(\"script\"); newScript.type = oldScript.type; newScript.textContent = oldScript.textContent; oldScript.parentNode.replaceChild(newScript, oldScript); } })(); requestAnimationFrame(() => { observer.observe(destElt); }); } })(); </script><div id=\"compress_html_835d0677745849968913aac267f03df5\"><script>window.treescope_decompress_enqueue(\"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\", \"compress_html_835d0677745849968913aac267f03df5\");</script><span style=\"color: #aaaaaa; font-family: monospace\">(Loading...)</span></div></div>"
      ],
      "text/plain": [
       "<IPython.core.display.HTML object>"
      ]
     },
     "metadata": {},
     "output_type": "display_data"
    },
    {
     "data": {
      "text/html": [
       "<div id=\"compress_html_2eef518a12bb4422ad2004ac5da38ef0\"><script>window.treescope_decompress_enqueue(\"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\", \"compress_html_2eef518a12bb4422ad2004ac5da38ef0\");</script></div>"
      ],
      "text/plain": [
       "<IPython.core.display.HTML object>"
      ]
     },
     "metadata": {},
     "output_type": "display_data"
    },
    {
     "data": {
      "text/html": [
       "<div id=\"output_dest_a549a0efa0b44b4da31e5490bf2d1935\"><script> (()=>{ const output = document.getElementById(\"output_a549a0efa0b44b4da31e5490bf2d1935\"); const dest = document.getElementById(\"output_dest_a549a0efa0b44b4da31e5490bf2d1935\"); dest.parentNode.replaceChild(output, dest); })(); </script></div>"
      ],
      "text/plain": [
       "[<jax.Array(-0.898438, dtype=bfloat16)>,\n",
       " <jax.Array(-0.835938, dtype=bfloat16)>,\n",
       " <jax.Array(-0.757812, dtype=bfloat16)>,\n",
       " <jax.Array(-0.308594, dtype=bfloat16)>,\n",
       " <jax.Array(-0.269531, dtype=bfloat16)>,\n",
       " <jax.Array(-0.243164, dtype=bfloat16)>,\n",
       " <jax.Array(-0.287109, dtype=bfloat16)>,\n",
       " <jax.Array(-0.249023, dtype=bfloat16)>,\n",
       " <jax.Array(-0.173828, dtype=bfloat16)>,\n",
       " <jax.Array(-0.1875, dtype=bfloat16)>,\n",
       " <jax.Array(-0.162109, dtype=bfloat16)>,\n",
       " <jax.Array(-0.263672, dtype=bfloat16)>]"
      ]
     },
     "execution_count": 23,
     "metadata": {},
     "output_type": "execute_result"
    }
   ],
   "source": [
    "results[task]"
   ]
  },
  {
   "cell_type": "code",
   "execution_count": 10,
   "metadata": {},
   "outputs": [],
   "source": [
    "from task_vector_utils import logprob_loss, ICLRunner"
   ]
  },
  {
   "cell_type": "code",
   "execution_count": 11,
   "metadata": {},
   "outputs": [
    {
     "ename": "NameError",
     "evalue": "name 'batch_size' is not defined",
     "output_type": "error",
     "traceback": [
      "\u001b[0;31m---------------------------------------------------------------------------\u001b[0m",
      "\u001b[0;31mNameError\u001b[0m                                 Traceback (most recent call last)",
      "Cell \u001b[0;32mIn[11], line 3\u001b[0m\n\u001b[1;32m      1\u001b[0m task \u001b[38;5;241m=\u001b[39m \u001b[38;5;124m\"\u001b[39m\u001b[38;5;124men_es\u001b[39m\u001b[38;5;124m\"\u001b[39m\n\u001b[0;32m----> 3\u001b[0m runner \u001b[38;5;241m=\u001b[39m ICLRunner(task, tasks[task], batch_size\u001b[38;5;241m=\u001b[39m\u001b[43mbatch_size\u001b[49m, n_shots\u001b[38;5;241m=\u001b[39mn_few_shots\u001b[38;5;241m-\u001b[39m\u001b[38;5;241m1\u001b[39m, max_seq_len\u001b[38;5;241m=\u001b[39mmax_seq_len, seed\u001b[38;5;241m=\u001b[39m\u001b[38;5;241m10\u001b[39m)\n",
      "\u001b[0;31mNameError\u001b[0m: name 'batch_size' is not defined"
     ]
    }
   ],
   "source": []
  }
 ],
 "metadata": {
  "kernelspec": {
   "display_name": "micrlhf-progress-a058ydGG-py3.12",
   "language": "python",
   "name": "python3"
  },
  "language_info": {
   "codemirror_mode": {
    "name": "ipython",
    "version": 3
   },
   "file_extension": ".py",
   "mimetype": "text/x-python",
   "name": "python",
   "nbconvert_exporter": "python",
   "pygments_lexer": "ipython3",
   "version": "3.12.3"
  }
 },
 "nbformat": 4,
 "nbformat_minor": 2
}
