{
 "cells": [
  {
   "cell_type": "code",
   "execution_count": 1,
   "metadata": {},
   "outputs": [],
   "source": [
    "%load_ext autoreload\n",
    "%autoreload 2\n",
    "import penzai\n",
    "from penzai import pz\n",
    "pz.ts.register_as_default()\n",
    "pz.ts.register_autovisualize_magic()\n",
    "pz.enable_interactive_context()"
   ]
  },
  {
   "cell_type": "code",
   "execution_count": 2,
   "metadata": {},
   "outputs": [],
   "source": [
    "\n",
    "pz.ts.active_autovisualizer.set_interactive(pz.ts.ArrayAutovisualizer())"
   ]
  },
  {
   "cell_type": "code",
   "execution_count": 3,
   "metadata": {},
   "outputs": [
    {
     "name": "stderr",
     "output_type": "stream",
     "text": [
      "/home/dmitrii/.cache/pypoetry/virtualenvs/micrlhf-progress-_SD4q1c9-py3.12/lib/python3.12/site-packages/huggingface_hub/file_download.py:1132: FutureWarning: `resume_download` is deprecated and will be removed in version 1.0.0. Downloads always resume when possible. If you want to force a new download, use `force_download=True`.\n",
      "  warnings.warn(\n",
      "Special tokens have been added in the vocabulary, make sure the associated word embeddings are fine-tuned or trained.\n"
     ]
    }
   ],
   "source": [
    "filename = \"models/phi-3-16.gguf\"\n",
    "from micrlhf.llama import LlamaTransformer\n",
    "llama = LlamaTransformer.from_pretrained(filename, device_map=\"auto\")\n",
    "from micrlhf.sampling import sample\n",
    "from transformers import AutoTokenizer\n",
    "import jax\n",
    "# tokenizer = load_tokenizer(filename)\n",
    "tokenizer = AutoTokenizer.from_pretrained(\"microsoft/Phi-3-mini-4k-instruct\")\n"
   ]
  },
  {
   "cell_type": "code",
   "execution_count": 4,
   "metadata": {},
   "outputs": [],
   "source": [
    "tokenizer.pad_token = tokenizer.eos_token\n",
    "tokenizer.padding_side = \"left\""
   ]
  },
  {
   "cell_type": "code",
   "execution_count": 5,
   "metadata": {},
   "outputs": [
    {
     "name": "stderr",
     "output_type": "stream",
     "text": [
      "/home/dmitrii/.pyenv/versions/3.12.3/lib/python3.12/pty.py:95: RuntimeWarning: os.fork() was called. os.fork() is incompatible with multithreaded code, and JAX is multithreaded, so this will likely lead to a deadlock.\n",
      "  pid, fd = os.forkpty()\n"
     ]
    },
    {
     "name": "stdout",
     "output_type": "stream",
     "text": [
      "fatal: destination path 'data/itv' already exists and is not an empty directory.\n"
     ]
    }
   ],
   "source": [
    "!git clone https://github.com/roeehendel/icl_task_vectors data/itv\n",
    "import glob\n",
    "import json\n",
    "import os\n",
    "tasks = {}\n",
    "for g in glob.glob(\"data/itv/data/**/*.json\"):\n",
    "    tasks[os.path.basename(g).partition(\".\")[0]] = json.load(open(g))"
   ]
  },
  {
   "cell_type": "code",
   "execution_count": 6,
   "metadata": {},
   "outputs": [
    {
     "data": {
      "text/html": [
       "<div id=\"output_1683cd01895544f68ceb71b07a9e91ce\"><script> /* penzai.treescope rendering of a Python object (compressed) */ (()=>{ let observer; let lastStep = new Promise((resolve, reject) => { observer = new IntersectionObserver((entries) => { for (const entry of entries) { if (entry.isIntersecting) { resolve(); observer.disconnect(); return; } } }, {rootMargin: \"1000px\"}); }); window.treescope_decompress_enqueue = (encoded, destId) => { const previous = lastStep; const destElt = document.getElementById(destId); lastStep = (async () => { await previous; let blob = new Blob([ Uint8Array.from(atob(encoded), (m) => m.codePointAt(0)) ]); let reader = blob.stream().pipeThrough( new DecompressionStream(\"deflate\") ).pipeThrough( new TextDecoderStream(\"utf-8\") ).getReader(); let parts = []; while (true) { let step = await reader.read(); if (step.done) { break; } parts.push(step.value); } let newElt = document.createElement(\"div\"); newElt.innerHTML = parts.join(\"\"); destElt.parentNode.replaceChild(newElt, destElt); for (let oldScript of newElt.querySelectorAll(\"script\")) { let newScript = document.createElement(\"script\"); newScript.type = oldScript.type; newScript.textContent = oldScript.textContent; oldScript.parentNode.replaceChild(newScript, oldScript); } })(); requestAnimationFrame(() => { observer.observe(destElt); }); } })(); </script><div id=\"compress_html_c99bb4195278416ea7ad687c0d05847e\"><script>window.treescope_decompress_enqueue(\"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\", \"compress_html_c99bb4195278416ea7ad687c0d05847e\");</script><span style=\"color: #aaaaaa; font-family: monospace\">(Loading...)</span></div></div>"
      ],
      "text/plain": [
       "<IPython.core.display.HTML object>"
      ]
     },
     "metadata": {},
     "output_type": "display_data"
    },
    {
     "data": {
      "text/html": [
       "<div id=\"output_dest_1683cd01895544f68ceb71b07a9e91ce\"><script> (()=>{ const output = document.getElementById(\"output_1683cd01895544f68ceb71b07a9e91ce\"); const dest = document.getElementById(\"output_dest_1683cd01895544f68ceb71b07a9e91ce\"); dest.parentNode.replaceChild(output, dest); })(); </script></div>"
      ],
      "text/plain": [
       "dict_keys(['location_continent', 'football_player_position', 'location_religion', 'location_language', 'person_profession', 'location_country', 'country_capital', 'person_language', 'singular_plural', 'present_simple_past_simple', 'antonyms', 'plural_singular', 'present_simple_past_perfect', 'present_simple_gerund', 'en_it', 'it_en', 'en_fr', 'en_es', 'fr_en', 'es_en'])"
      ]
     },
     "execution_count": 6,
     "metadata": {},
     "output_type": "execute_result"
    }
   ],
   "source": [
    "tasks.keys()"
   ]
  },
  {
   "cell_type": "code",
   "execution_count": 7,
   "metadata": {},
   "outputs": [],
   "source": [
    "from micrlhf.llama import LlamaBlock\n",
    "from micrlhf.sampling import sample, jit_wrapper\n",
    "get_resids = llama.select().at_instances_of(LlamaBlock).apply_with_selected_index(lambda i, x:\n",
    "    pz.nn.Sequential([\n",
    "        pz.de.TellIntermediate.from_config(tag=f\"resid_pre_{i}\"),\n",
    "        x\n",
    "    ])\n",
    ")\n",
    "get_resids = pz.de.CollectingSideOutputs.handling(get_resids, tag_predicate=lambda x: x.startswith(\"resid_pre\"))\n",
    "get_resids_call = jit_wrapper.Jitted(get_resids)"
   ]
  },
  {
   "cell_type": "code",
   "execution_count": 8,
   "metadata": {},
   "outputs": [],
   "source": [
    "from matplotlib import pyplot as plt\n",
    "from tqdm.auto import tqdm, trange\n",
    "import jax.numpy as jnp\n",
    "import numpy as np\n",
    "import random\n",
    "from penzai.data_effects.side_output import SideOutputValue\n",
    "from micrlhf.utils.activation_manipulation import add_vector"
   ]
  },
  {
   "cell_type": "code",
   "execution_count": 9,
   "metadata": {},
   "outputs": [
    {
     "name": "stdout",
     "output_type": "stream",
     "text": [
      "Tuple-representation of the sequence:\n",
      "(hot, cold), (yes, no), (in, out), up ->\n",
      "\n",
      "Actual prompt, which will be fed into the model:\n",
      "hot -> cold, yes -> no, in -> out, up ->\n"
     ]
    }
   ],
   "source": [
    "from typing import List\n",
    "\n",
    "class ICLSequence:\n",
    "    '''\n",
    "    Class to store a single antonym sequence.\n",
    "\n",
    "    Uses the default template \"Q: {x}\\nA: {y}\" (with separate pairs split by \"\\n\\n\").\n",
    "    '''\n",
    "    def __init__(self, word_pairs: List[List[str]]):\n",
    "        self.word_pairs = word_pairs\n",
    "        self.x, self.y = zip(*word_pairs)\n",
    "\n",
    "    def __len__(self):\n",
    "        return len(self.word_pairs)\n",
    "\n",
    "    def __getitem__(self, idx: int):\n",
    "        return self.word_pairs[idx]\n",
    "\n",
    "    # def prompt(self):\n",
    "    #     '''Returns the prompt, which contains all but the second element in the last word pair.'''\n",
    "    #     p = \"\\n\\n\".join([f\"Q: {x}\\nA: {y}\" for x, y in self.word_pairs])\n",
    "    #     return p[:-len(self.completion())]\n",
    "\n",
    "    def prompt(self):\n",
    "        '''Returns the prompt, which contains all but the second element in the last word pair.'''\n",
    "        p = \", \".join([f\"{x} -> {y}\" for x, y in self.word_pairs])\n",
    "        return p[:-len(self.completion())-1]\n",
    "\n",
    "    def completion(self):\n",
    "        '''Returns the second element in the last word pair (with padded space).'''\n",
    "        return \"\" + self.y[-1]\n",
    "\n",
    "    def __str__(self):\n",
    "        '''Prints a readable string representation of the prompt & completion (indep of template).'''\n",
    "        return f\"{', '.join([f'({x}, {y})' for x, y in self[:-1]])}, {self.x[-1]} ->\".strip(\", \")\n",
    "\n",
    "\n",
    "word_list = [[\"hot\", \"cold\"], [\"yes\", \"no\"], [\"in\", \"out\"], [\"up\", \"down\"]]\n",
    "seq = ICLSequence(word_list)\n",
    "\n",
    "print(\"Tuple-representation of the sequence:\")\n",
    "print(seq)\n",
    "print(\"\\nActual prompt, which will be fed into the model:\")\n",
    "print(seq.prompt())"
   ]
  },
  {
   "cell_type": "code",
   "execution_count": 10,
   "metadata": {},
   "outputs": [],
   "source": [
    "class ICLDataset:\n",
    "    '''\n",
    "    Dataset to create antonym pair prompts, in ICL task format. We use random seeds for consistency\n",
    "    between the corrupted and clean datasets.\n",
    "\n",
    "    Inputs:\n",
    "        word_pairs:\n",
    "            list of ICL task, e.g. [[\"old\", \"young\"], [\"top\", \"bottom\"], ...] for the antonym task\n",
    "        size:\n",
    "            number of prompts to generate\n",
    "        n_prepended:\n",
    "            number of antonym pairs before the single-word ICL task\n",
    "        bidirectional:\n",
    "            if True, then we also consider the reversed antonym pairs\n",
    "        corrupted:\n",
    "            if True, then the second word in each pair is replaced with a random word\n",
    "        seed:\n",
    "            random seed, for consistency & reproducibility\n",
    "    '''\n",
    "\n",
    "    def __init__(\n",
    "        self,\n",
    "        word_pairs: List[List[str]],\n",
    "        size: int,\n",
    "        n_prepended: int,\n",
    "        bidirectional: bool = True,\n",
    "        seed: int = 0,\n",
    "        corrupted: bool = False,\n",
    "    ):\n",
    "        assert n_prepended+1 <= len(word_pairs), \"Not enough antonym pairs in dataset to create prompt.\"\n",
    "\n",
    "        self.word_pairs = word_pairs\n",
    "        self.word_list = [word for word_pair in word_pairs for word in word_pair]\n",
    "        self.size = size\n",
    "        self.n_prepended = n_prepended\n",
    "        self.bidirectional = bidirectional\n",
    "        self.corrupted = corrupted\n",
    "        self.seed = seed\n",
    "\n",
    "        self.seqs = []\n",
    "        self.prompts = []\n",
    "        self.completions = []\n",
    "\n",
    "        # Generate the dataset (by choosing random antonym pairs, and constructing `ICLSequence` objects)\n",
    "        for n in range(size):\n",
    "            np.random.seed(seed + n)\n",
    "            random_pairs = np.random.choice(len(self.word_pairs), n_prepended+1, replace=False)\n",
    "            random_orders = np.random.choice([1, -1], n_prepended+1)\n",
    "            if not(bidirectional): random_orders[:] = 1\n",
    "            word_pairs = [self.word_pairs[pair][::order] for pair, order in zip(random_pairs, random_orders)]\n",
    "            if corrupted:\n",
    "                for i in range(len(word_pairs) - 1):\n",
    "                    word_pairs[i][1] = np.random.choice(self.word_list)\n",
    "            seq = ICLSequence(word_pairs)\n",
    "\n",
    "            self.seqs.append(seq)\n",
    "            self.prompts.append(seq.prompt())\n",
    "            self.completions.append(seq.completion())\n",
    "\n",
    "    def create_corrupted_dataset(self):\n",
    "        '''Creates a corrupted version of the dataset (with same random seed).'''\n",
    "        return ICLDataset(self.word_pairs, self.size, self.n_prepended, self.bidirectional, corrupted=True, seed=self.seed)\n",
    "\n",
    "    def __len__(self):\n",
    "        return self.size\n",
    "\n",
    "    def __getitem__(self, idx: int):\n",
    "        return self.seqs[idx]"
   ]
  },
  {
   "cell_type": "code",
   "execution_count": 11,
   "metadata": {},
   "outputs": [],
   "source": [
    "def generate_task_prompt(task, n_shots):\n",
    "    prompt = \"<user>Follow the pattern\\n{}\"\n",
    "    examples = []\n",
    "\n",
    "    for s, t in random.sample(list(tasks[task].items()), n_shots):\n",
    "        examples.append(f\"{s} -> {t}\")\n",
    "    prompt = prompt.format(\"\\n\".join(examples))\n",
    "\n",
    "    # print(prompt)\n",
    "\n",
    "    return prompt\n",
    "\n",
    "def tokenized_to_inputs(input_ids, attention_mask):\n",
    "    token_array = jnp.asarray(input_ids)\n",
    "    token_array = jax.device_put(token_array, jax.sharding.NamedSharding(llama.mesh, jax.sharding.PartitionSpec(\"dp\", \"sp\")))\n",
    "    token_array = pz.nx.wrap(token_array, \"batch\", \"seq\").untag(\"batch\").tag(\"batch\")\n",
    "\n",
    "    mask_array = jnp.asarray(attention_mask, dtype=jnp.bool)\n",
    "    mask_array = jax.device_put(mask_array, jax.sharding.NamedSharding(llama.mesh, jax.sharding.PartitionSpec(\"dp\", \"sp\")))\n",
    "    mask_array = pz.nx.wrap(mask_array, \"batch\", \"seq\").untag(\"batch\").tag(\"batch\")\n",
    "\n",
    "    inputs = llama.inputs.from_basic_segments(token_array)\n",
    "    return inputs"
   ]
  },
  {
   "cell_type": "code",
   "execution_count": 12,
   "metadata": {},
   "outputs": [],
   "source": [
    "def generate_task_inputs_old(task, n_shots, batch_size, max_length=128, seed=0):\n",
    "    random.seed(seed)\n",
    "\n",
    "    texts = [generate_task_prompt(task, n_shots) for _ in range(batch_size)]\n",
    "    tokenized = tokenizer.batch_encode_plus(texts, padding=\"longest\", max_length=max_length, truncation=True, return_tensors=\"np\")\n",
    "\n",
    "    inputs = tokenized_to_inputs(\n",
    "        **tokenized\n",
    "    )\n",
    "\n",
    "    return inputs, tokenized"
   ]
  },
  {
   "cell_type": "code",
   "execution_count": 13,
   "metadata": {},
   "outputs": [],
   "source": [
    "prompt = \"<user>Follow the pattern\\n{}\""
   ]
  },
  {
   "cell_type": "code",
   "execution_count": 14,
   "metadata": {},
   "outputs": [],
   "source": [
    "def get_logprob_diff(logits: jnp.ndarray, completions: List[str], print_results=False):\n",
    "    logprobs = jax.nn.log_softmax(logits, axis=-1)\n",
    "    answer_logprobs = logprobs[:, -1]\n",
    "\n",
    "    target_tokens = [x[1] for x in tokenizer(completions)[\"input_ids\"]]\n",
    "    target_tokens = jnp.asarray(target_tokens)\n",
    "    target_logprobs = jnp.take_along_axis(answer_logprobs, target_tokens[:, None], axis=-1).squeeze()\n",
    "\n",
    "    if print_results:\n",
    "        print(\n",
    "            tokenizer.decode(answer_logprobs.argmax(axis=-1))\n",
    "        )\n",
    "\n",
    "        print(\n",
    "            tokenizer.decode(target_tokens)\n",
    "        )\n",
    "\n",
    "    return target_logprobs - answer_logprobs.max(axis=-1)\n"
   ]
  },
  {
   "cell_type": "code",
   "execution_count": 16,
   "metadata": {},
   "outputs": [],
   "source": [
    "task_names = [\n",
    "    \"en_it\"\n",
    "]\n",
    "layer = 18\n",
    "n_seeds = 10\n",
    "\n",
    "# n_few_shots, batch_size, max_seq_len = 64, 64, 512\n",
    "n_few_shots, batch_size, max_seq_len = 20, 64, 256"
   ]
  },
  {
   "cell_type": "code",
   "execution_count": 68,
   "metadata": {},
   "outputs": [
    {
     "name": "stderr",
     "output_type": "stream",
     "text": [
      "  0%|          | 0/1 [00:00<?, ?it/s]"
     ]
    },
    {
     "data": {
      "application/vnd.jupyter.widget-view+json": {
       "model_id": "5ac9372982004aea85fbaf65ce3310a1",
       "version_major": 2,
       "version_minor": 0
      },
      "text/plain": [
       "  0%|          | 0/10 [00:00<?, ?it/s]"
      ]
     },
     "metadata": {},
     "output_type": "display_data"
    },
    {
     "name": "stdout",
     "output_type": "stream",
     "text": [
      "pre situ sic s dest cres inter reg se un le t sens propri in tag prepar serv ind risult se m coin f c diff città lu come ass cart chiam\n",
      "s situ sic s gi cres totale disco se gi le t sens propri in tag prepar serv ind risult se pare coin f stesso diff citt lu ven ass cart chiam\n",
      "-0.00430298 1.09375\n",
      "['legal ->', 'along ->', 'window ->', 'information ->', 'over ->', 'field ->', 'current ->', 'better ->', 'power ->', 'message ->', 'reduce ->', 'behavior ->', 'place ->', 'security ->', 'hell ->', 'cell ->', 'media ->', 'club ->', 'live ->', 'point ->', 'throw ->', 'sport ->', 'so ->', 'door ->', 'color ->', 'daughter ->', 'run ->', 'pretty ->', 'rule ->', 'top ->', 'mind ->', 'matter ->'] ['legale', 'lungo', 'finestra', 'informazione', 'sopra', 'campo', 'attuale', 'meglio', 'potenza', 'messaggio', 'ridurre', 'comportamento', 'luogo', 'sicurezza', 'inferno', 'cellula', 'media', 'club', 'abitare', 'punto', 'gettare', 'sport', 'così', 'porta', 'colore', 'figlia', 'correre', 'bello', 'regola', 'superiore', 'mente', 'questione']\n",
      "leg al fen inform over campo current migli pot mess rid comport pl seg h cell media club v punto throw sport so port color figlio cor bel reg top ment mater\n",
      "leg lungo fin inform sop campo att meg pot mess rid comport lu sic infer cell media club abit punto get sport così porta col fig corr bel reg super m question\n",
      "legal along window info over field current best power message reduce behavior place security hello cell media club life line throw sport so doors shape son run pretty\n",
      " bottom mind matter\n",
      "leg lungo fin inform sop campo att meg pot mess rid comport lu sic infer cell media club abit punto get sport così porta col fig corr bel reg super m question\n",
      "situ sic s dest cres inter reg se un le t sens propri in tag prepar serv ind risult se m coin f c diff città lu come ass cart chiam cer\n",
      "situ sic s gi cres totale disco se gi le t sens propri in tag prepar serv ind risult se pare coin f stesso diff citt lu ven ass cart chiam cer\n",
      "-0.00427246 1.09375\n",
      "['along ->', 'window ->', 'information ->', 'over ->', 'field ->', 'current ->', 'better ->', 'power ->', 'message ->', 'reduce ->', 'behavior ->', 'place ->', 'security ->', 'hell ->', 'cell ->', 'media ->', 'club ->', 'live ->', 'point ->', 'throw ->', 'sport ->', 'so ->', 'door ->', 'color ->', 'daughter ->', 'run ->', 'pretty ->', 'rule ->', 'top ->', 'mind ->', 'matter ->', 'policy ->'] ['lungo', 'finestra', 'informazione', 'sopra', 'campo', 'attuale', 'meglio', 'potenza', 'messaggio', 'ridurre', 'comportamento', 'luogo', 'sicurezza', 'inferno', 'cellula', 'media', 'club', 'abitare', 'punto', 'gettare', 'sport', 'così', 'porta', 'colore', 'figlia', 'correre', 'bello', 'regola', 'superiore', 'mente', 'questione', 'politica']\n",
      "al fen inform over campo current migli pot mess rid comport pl seg h cell media club v punto throw sport so port color figlio cor bel reg top ment mater polit\n",
      "lungo fin inform sop campo att meg pot mess rid comport lu sic infer cell media club abit punto get sport così porta col fig corr bel reg super m question polit\n",
      "along window info over field current best power message reduce behavior place security hello cell media club life line throw sport so doors shape son run pretty\n",
      " bottom mind matter policy\n",
      "lungo fin inform sop campo att meg pot mess rid comport lu sic infer cell media club abit punto get sport così porta col fig corr bel reg super m question polit\n",
      "sic s dest cres inter reg se un le t sens propri in tag prepar serv ind risult se m coin f c diff città lu come ass cart chiam cer leg\n",
      "sic s gi cres totale disco se gi le t sens propri in tag prepar serv ind risult se pare coin f stesso diff citt lu ven ass cart chiam cer con\n",
      "-0.00430298 1.09375\n",
      "['window ->', 'information ->', 'over ->', 'field ->', 'current ->', 'better ->', 'power ->', 'message ->', 'reduce ->', 'behavior ->', 'place ->', 'security ->', 'hell ->', 'cell ->', 'media ->', 'club ->', 'live ->', 'point ->', 'throw ->', 'sport ->', 'so ->', 'door ->', 'color ->', 'daughter ->', 'run ->', 'pretty ->', 'rule ->', 'top ->', 'mind ->', 'matter ->', 'policy ->', 'decade ->'] ['finestra', 'informazione', 'sopra', 'campo', 'attuale', 'meglio', 'potenza', 'messaggio', 'ridurre', 'comportamento', 'luogo', 'sicurezza', 'inferno', 'cellula', 'media', 'club', 'abitare', 'punto', 'gettare', 'sport', 'così', 'porta', 'colore', 'figlia', 'correre', 'bello', 'regola', 'superiore', 'mente', 'questione', 'politica', 'decennio']\n",
      "fen inform over campo current migli pot mess rid comport pl seg h cell media club v punto throw sport s port color figlio cor bel reg top ment mater polit dec\n",
      "fin inform sop campo att meg pot mess rid comport lu sic infer cell media club abit punto get sport così porta col fig corr bel reg super m question polit dec\n",
      "window info over field current best power message reduce behavior place security hello cell media club life line throw sport so doors shape son run pretty\n",
      " bottom mind matter policy year\n",
      "fin inform sop campo att meg pot mess rid comport lu sic infer cell media club abit punto get sport così porta col fig corr bel reg super m question polit dec\n",
      "s dest cres inter reg se un le t sens propri in tag prepar serv ind risult se m coin f c diff città lu come ass cart chiam cer leg importante\n",
      "s gi cres totale disco se gi le t sens propri in tag prepar serv ind risult se pare coin f stesso diff citt lu ven ass cart chiam cer con importante\n",
      "-0.00460815 1.09375\n",
      "['information ->', 'over ->', 'field ->', 'current ->', 'better ->', 'power ->', 'message ->', 'reduce ->', 'behavior ->', 'place ->', 'security ->', 'hell ->', 'cell ->', 'media ->', 'club ->', 'live ->', 'point ->', 'throw ->', 'sport ->', 'so ->', 'door ->', 'color ->', 'daughter ->', 'run ->', 'pretty ->', 'rule ->', 'top ->', 'mind ->', 'matter ->', 'policy ->', 'decade ->', 'moment ->'] ['informazione', 'sopra', 'campo', 'attuale', 'meglio', 'potenza', 'messaggio', 'ridurre', 'comportamento', 'luogo', 'sicurezza', 'inferno', 'cellula', 'media', 'club', 'abitare', 'punto', 'gettare', 'sport', 'così', 'porta', 'colore', 'figlia', 'correre', 'bello', 'regola', 'superiore', 'mente', 'questione', 'politica', 'decennio', 'momento']\n",
      "inform over campo current migli pot mess rid comport pl seg h cell media club v punto throw sport so port color figlio cor bel reg top ment mater polit anno momento\n",
      "inform sop campo att meg pot mess rid comport lu sic infer cell media club abit punto get sport così porta col fig corr bel reg super m question polit dec momento\n",
      "info over field current best power message reduce behavior place security hello cell media club life line throw sport so doors shape son run pretty\n",
      " bottom mind matter policy year moment\n",
      "inform sop campo att meg pot mess rid comport lu sic infer cell media club abit punto get sport così porta col fig corr bel reg super m question polit dec momento\n",
      "dest cres inter reg se un le t sens propri in tag prepar serv ind risult se m coin f c diff città lu come ass cart chiam cer leg importante aff\n",
      "gi cres totale disco se gi le t sens propri in tag prepar serv ind risult se pare coin f stesso diff citt lu ven ass cart chiam cer con importante aff\n",
      "-0.00469971 1.09375\n",
      "['over ->', 'field ->', 'current ->', 'better ->', 'power ->', 'message ->', 'reduce ->', 'behavior ->', 'place ->', 'security ->', 'hell ->', 'cell ->', 'media ->', 'club ->', 'live ->', 'point ->', 'throw ->', 'sport ->', 'so ->', 'door ->', 'color ->', 'daughter ->', 'run ->', 'pretty ->', 'rule ->', 'top ->', 'mind ->', 'matter ->', 'policy ->', 'decade ->', 'moment ->', 'cut ->'] ['sopra', 'campo', 'attuale', 'meglio', 'potenza', 'messaggio', 'ridurre', 'comportamento', 'luogo', 'sicurezza', 'inferno', 'cellula', 'media', 'club', 'abitare', 'punto', 'gettare', 'sport', 'così', 'porta', 'colore', 'figlia', 'correre', 'bello', 'regola', 'superiore', 'mente', 'questione', 'politica', 'decennio', 'momento', 'taglio']\n",
      "over campo current migli pot mess rid comport pl seg h cell media club v punto throw sport so port color figlio cor bel reg top ment mater polit anno momento cut\n",
      "sop campo att meg pot mess rid comport lu sic infer cell media club abit punto get sport così porta col fig corr bel reg super m question polit dec momento tag\n",
      "over field current best power message reduce behavior place security hello cell media club life line throw sport so doors shape son run pretty\n",
      " bottom mind matter policy year moment cut\n",
      "sop campo att meg pot mess rid comport lu sic infer cell media club abit punto get sport così porta col fig corr bel reg super m question polit dec momento tag\n",
      "cres inter reg se un le t sens propri in tag prepar serv ind risult se m coin f c diff città lu come ass cart chiam cer leg importante aff tras\n",
      "cres totale disco se gi le t sens propri in tag prepar serv ind risult se pare coin f stesso diff citt lu ven ass cart chiam cer con importante aff tras\n",
      "-0.00479126 1.09375\n",
      "['field ->', 'current ->', 'better ->', 'power ->', 'message ->', 'reduce ->', 'behavior ->', 'place ->', 'security ->', 'hell ->', 'cell ->', 'media ->', 'club ->', 'live ->', 'point ->', 'throw ->', 'sport ->', 'so ->', 'door ->', 'color ->', 'daughter ->', 'run ->', 'pretty ->', 'rule ->', 'top ->', 'mind ->', 'matter ->', 'policy ->', 'decade ->', 'moment ->', 'cut ->', 'hour ->'] ['campo', 'attuale', 'meglio', 'potenza', 'messaggio', 'ridurre', 'comportamento', 'luogo', 'sicurezza', 'inferno', 'cellula', 'media', 'club', 'abitare', 'punto', 'gettare', 'sport', 'così', 'porta', 'colore', 'figlia', 'correre', 'bello', 'regola', 'superiore', 'mente', 'questione', 'politica', 'decennio', 'momento', 'taglio', 'ora']\n",
      "campo current migli pot mess rid comport pl seg h cell media club v punto throw sport so port color figlio cor bel reg top ment mater polit anno momento cut h\n",
      "campo att meg pot mess rid comport lu sic infer cell media club abit punto get sport così porta col fig corr bel reg super m question polit dec momento tag ora\n",
      "field current best power message reduce behavior place security hello cell media club life line throw sport so doors shape son run pretty\n",
      " bottom mind matter policy year moment cut hour\n",
      "campo att meg pot mess rid comport lu sic infer cell media club abit punto get sport così porta col fig corr bel reg super m question polit dec momento tag ora\n",
      "inter reg se un le t sens propri in tag prepar serv ind risult se m coin f c diff città lu come ass cart chiam cer leg importante aff tras complet\n",
      "totale disco se gi le t sens propri in tag prepar serv ind risult se pare coin f stesso diff citt lu ven ass cart chiam cer con importante aff tras complet\n",
      "-0.00473022 1.09375\n",
      "['current ->', 'better ->', 'power ->', 'message ->', 'reduce ->', 'behavior ->', 'place ->', 'security ->', 'hell ->', 'cell ->', 'media ->', 'club ->', 'live ->', 'point ->', 'throw ->', 'sport ->', 'so ->', 'door ->', 'color ->', 'daughter ->', 'run ->', 'pretty ->', 'rule ->', 'top ->', 'mind ->', 'matter ->', 'policy ->', 'decade ->', 'moment ->', 'cut ->', 'hour ->', 'have ->'] ['attuale', 'meglio', 'potenza', 'messaggio', 'ridurre', 'comportamento', 'luogo', 'sicurezza', 'inferno', 'cellula', 'media', 'club', 'abitare', 'punto', 'gettare', 'sport', 'così', 'porta', 'colore', 'figlia', 'correre', 'bello', 'regola', 'superiore', 'mente', 'questione', 'politica', 'decennio', 'momento', 'taglio', 'ora', 'avere']\n",
      "current migli pot mess rid comport pl seg h cell media club v punto throw sport so port color figlio cor bel reg top ment mater polit dec moment cut h have\n",
      "att meg pot mess rid comport lu sic infer cell media club abit punto get sport così porta col fig corr bel reg super m question polit dec momento tag ora aver\n",
      "current best power message reduce behavior place security hello cell media club life line throw sport so doors shape son run pretty\n",
      " bottom mind matter policy year moment cut hour has\n",
      "att meg pot mess rid comport lu sic infer cell media club abit punto get sport così porta col fig corr bel reg super m question polit dec momento tag ora aver\n",
      "reg se un le t sens propri in tag prepar serv ind risult se m coin f uno diff città lu come ass cart chiam cer leg importante aff tras complet most\n",
      "disco se gi le t sens propri in tag prepar serv ind risult se pare coin f stesso diff citt lu ven ass cart chiam cer con importante aff tras complet most\n",
      "-0.00521851 1.09375\n",
      "['better ->', 'power ->', 'message ->', 'reduce ->', 'behavior ->', 'place ->', 'security ->', 'hell ->', 'cell ->', 'media ->', 'club ->', 'live ->', 'point ->', 'throw ->', 'sport ->', 'so ->', 'door ->', 'color ->', 'daughter ->', 'run ->', 'pretty ->', 'rule ->', 'top ->', 'mind ->', 'matter ->', 'policy ->', 'decade ->', 'moment ->', 'cut ->', 'hour ->', 'have ->', 'sit ->'] ['meglio', 'potenza', 'messaggio', 'ridurre', 'comportamento', 'luogo', 'sicurezza', 'inferno', 'cellula', 'media', 'club', 'abitare', 'punto', 'gettare', 'sport', 'così', 'porta', 'colore', 'figlia', 'correre', 'bello', 'regola', 'superiore', 'mente', 'questione', 'politica', 'decennio', 'momento', 'taglio', 'ora', 'avere', 'sedersi']\n",
      "migli pot mess rid comport pl seg h cell media club v punto throw sport so door color figlio cor bel reg top ment mater polit dec momento cut h have sed\n",
      "meg pot mess rid comport lu sic infer cell media club abit punto get sport così porta col fig corr bel reg super m question polit dec momento tag ora aver sed\n",
      "best power message reduce behavior place security hello cell media club life line throw sport so doors shape son run pretty\n",
      " bottom mind matter policy year moment cut hour has sit\n",
      "meg pot mess rid comport lu sic infer cell media club abit punto get sport così porta col fig corr bel reg super m question polit dec momento tag ora aver sed\n",
      "se un le t sens propri in tag prepar serv ind risult se m coin f uno diff città lu come ass cart chiam cer leg importante aff tras complet most cop\n",
      "se gi le t sens propri in tag prepar serv ind risult se pare coin f stesso diff citt lu ven ass cart chiam cer con importante aff tras complet most c\n",
      "-0.00515747 1.09375\n",
      "['power ->', 'message ->', 'reduce ->', 'behavior ->', 'place ->', 'security ->', 'hell ->', 'cell ->', 'media ->', 'club ->', 'live ->', 'point ->', 'throw ->', 'sport ->', 'so ->', 'door ->', 'color ->', 'daughter ->', 'run ->', 'pretty ->', 'rule ->', 'top ->', 'mind ->', 'matter ->', 'policy ->', 'decade ->', 'moment ->', 'cut ->', 'hour ->', 'have ->', 'sit ->', 'comment ->'] ['potenza', 'messaggio', 'ridurre', 'comportamento', 'luogo', 'sicurezza', 'inferno', 'cellula', 'media', 'club', 'abitare', 'punto', 'gettare', 'sport', 'così', 'porta', 'colore', 'figlia', 'correre', 'bello', 'regola', 'superiore', 'mente', 'questione', 'politica', 'decennio', 'momento', 'taglio', 'ora', 'avere', 'sedersi', 'commento']\n",
      "pot mess rid comport pl seg h cell media club v punto throw sport so door color figlio cor bel reg top ment mater polit dec momento cut h have sed comment\n",
      "pot mess rid comport lu sic infer cell media club abit punto get sport così porta col fig corr bel reg super m question polit dec momento tag ora aver sed comment\n",
      "power message reduce behavior place security hello cell media club life line throw sport so doors shape son run pretty\n",
      " bottom mind matter policy year moment cut hour has sit <\n",
      "pot mess rid comport lu sic infer cell media club abit punto get sport così porta col fig corr bel reg super m question polit dec momento tag ora aver sed comment\n",
      "un le t sens propri in tag prepar serv ind risult se m coin f uno diff città lu come ass cart chiam cer leg importante aff tras complet most cop let\n",
      "gi le t sens propri in tag prepar serv ind risult se pare coin f stesso diff citt lu ven ass cart chiam cer con importante aff tras complet most c pos\n",
      "-0.00543213 1.09375\n",
      "['message ->', 'reduce ->', 'behavior ->', 'place ->', 'security ->', 'hell ->', 'cell ->', 'media ->', 'club ->', 'live ->', 'point ->', 'throw ->', 'sport ->', 'so ->', 'door ->', 'color ->', 'daughter ->', 'run ->', 'pretty ->', 'rule ->', 'top ->', 'mind ->', 'matter ->', 'policy ->', 'decade ->', 'moment ->', 'cut ->', 'hour ->', 'have ->', 'sit ->', 'comment ->', 'drop ->'] ['messaggio', 'ridurre', 'comportamento', 'luogo', 'sicurezza', 'inferno', 'cellula', 'media', 'club', 'abitare', 'punto', 'gettare', 'sport', 'così', 'porta', 'colore', 'figlia', 'correre', 'bello', 'regola', 'superiore', 'mente', 'questione', 'politica', 'decennio', 'momento', 'taglio', 'ora', 'avere', 'sedersi', 'commento', 'gocciolare']\n",
      "mess rid comport pl seg h cell media club v punto throw sport so door color figlio cor bel reg top ment mater polit dec momento cut h have sed comment drop\n",
      "mess rid comport lu sic infer cell media club abit punto get sport così porta col fig corr bel reg super m question polit dec momento tag ora aver sed comment g\n",
      "message reduce behavior place security hello cell media club life line throw sport so doors shape son run pretty\n",
      " bottom mind matter policy year moment cut hour has sit < drop\n",
      "mess rid comport lu sic infer cell media club abit punto get sport così porta col fig corr bel reg super m question polit dec momento tag ora aver sed comment g\n",
      "orig: [[Array([-2.98438, 0, 0, 0, -3.89062, 0, -4.375, -12.625, 0, -8.375, 0, 0,\n",
      "       0, 0, 0, 0, 0, 0, 0, 0, 0, -4.625, 0, 0, -7.71875, 0, -3, 0,\n",
      "       -14.8125, 0, 0, 0], dtype=bfloat16), Array([0, 0, 0, -3.89062, 0, -4.375, -12.625, 0, -8.375, 0, 0, 0, 0, 0, 0,\n",
      "       0, 0, 0, 0, 0, -4.625, 0, 0, -7.71875, 0, -3, 0, -14.8125, 0, 0, 0,\n",
      "       0], dtype=bfloat16), Array([0, 0, -3.89062, 0, -4.375, -12.625, 0, -8.375, 0, 0, 0, 0, 0, 0, 0,\n",
      "       0, 0, 0, 0, -4.625, 0, 0, -7.71875, 0, -3, 0, -14.8125, 0, 0, 0, 0,\n",
      "       -11.3125], dtype=bfloat16), Array([0, -3.89062, 0, -4.375, -12.625, 0, -8.375, 0, 0, 0, 0, 0, 0, 0, 0,\n",
      "       0, 0, 0, -4.625, 0, 0, -7.71875, 0, -3, 0, -14.8125, 0, 0, 0, 0,\n",
      "       -11.3125, 0], dtype=bfloat16), Array([-3.89062, 0, -4.375, -12.625, 0, -8.375, 0, 0, 0, 0, 0, 0, 0, 0, 0,\n",
      "       0, 0, -4.625, 0, 0, -7.71875, 0, -3, 0, -14.8125, 0, 0, 0, 0,\n",
      "       -11.3125, 0, 0], dtype=bfloat16), Array([0, -4.375, -12.625, 0, -8.375, 0, 0, 0, 0, 0, 0, 0, 0, 0, 0, 0,\n",
      "       -4.625, 0, 0, -7.71875, 0, -3, 0, -14.8125, 0, 0, 0, 0, -11.3125,\n",
      "       0, 0, 0], dtype=bfloat16), Array([-4.375, -12.625, 0, -8.375, 0, 0, 0, 0, 0, 0, 0, 0, 0, 0, 0,\n",
      "       -4.625, 0, 0, -7.71875, 0, -3, 0, -14.8125, 0, 0, 0, 0, -11.3125,\n",
      "       0, 0, 0, 0], dtype=bfloat16), Array([-12.125, 0, -8.5, 0, 0, 0, 0, 0, 0, 0, 0, 0, 0, 0, -4.25, 0, 0,\n",
      "       -8.5, 0, -2.875, 0, -13.8125, 0, 0, 0, 0, -11.125, 0, 0, 0, 0, 0],      dtype=bfloat16), Array([0, -8.5, 0, 0, 0, 0, 0, 0, 0, 0, 0, 0, 0, -4.25, 0, 0, -8.5, 0,\n",
      "       -2.875, 0, -13.8125, 0, 0, 0, 0, -11.125, 0, 0, 0, 0, 0, -2.875],      dtype=bfloat16), Array([-8.5, 0, 0, 0, 0, 0, 0, 0, 0, 0, 0, 0, -4.25, 0, 0, -8.5, 0,\n",
      "       -2.875, 0, -13.8125, 0, 0, 0, 0, -11.125, 0, 0, 0, 0, 0, -2.875,\n",
      "       -1.13281], dtype=bfloat16)], [Array([False,  True,  True,  True, False,  True, False, False,  True,\n",
      "       False,  True,  True,  True,  True,  True,  True,  True,  True,\n",
      "        True,  True,  True, False,  True,  True, False,  True, False,\n",
      "        True, False,  True,  True,  True], dtype=bool), Array([ True,  True,  True, False,  True, False, False,  True, False,\n",
      "        True,  True,  True,  True,  True,  True,  True,  True,  True,\n",
      "        True,  True, False,  True,  True, False,  True, False,  True,\n",
      "       False,  True,  True,  True,  True], dtype=bool), Array([ True,  True, False,  True, False, False,  True, False,  True,\n",
      "        True,  True,  True,  True,  True,  True,  True,  True,  True,\n",
      "        True, False,  True,  True, False,  True, False,  True, False,\n",
      "        True,  True,  True,  True, False], dtype=bool), Array([ True, False,  True, False, False,  True, False,  True,  True,\n",
      "        True,  True,  True,  True,  True,  True,  True,  True,  True,\n",
      "       False,  True,  True, False,  True, False,  True, False,  True,\n",
      "        True,  True,  True, False,  True], dtype=bool), Array([False,  True, False, False,  True, False,  True,  True,  True,\n",
      "        True,  True,  True,  True,  True,  True,  True,  True, False,\n",
      "        True,  True, False,  True, False,  True, False,  True,  True,\n",
      "        True,  True, False,  True,  True], dtype=bool), Array([ True, False, False,  True, False,  True,  True,  True,  True,\n",
      "        True,  True,  True,  True,  True,  True,  True, False,  True,\n",
      "        True, False,  True, False,  True, False,  True,  True,  True,\n",
      "        True, False,  True,  True,  True], dtype=bool), Array([False, False,  True, False,  True,  True,  True,  True,  True,\n",
      "        True,  True,  True,  True,  True,  True, False,  True,  True,\n",
      "       False,  True, False,  True, False,  True,  True,  True,  True,\n",
      "       False,  True,  True,  True,  True], dtype=bool), Array([False,  True, False,  True,  True,  True,  True,  True,  True,\n",
      "        True,  True,  True,  True,  True, False,  True,  True, False,\n",
      "        True, False,  True, False,  True,  True,  True,  True, False,\n",
      "        True,  True,  True,  True,  True], dtype=bool), Array([ True, False,  True,  True,  True,  True,  True,  True,  True,\n",
      "        True,  True,  True,  True, False,  True,  True, False,  True,\n",
      "       False,  True, False,  True,  True,  True,  True, False,  True,\n",
      "        True,  True,  True,  True, False], dtype=bool), Array([False,  True,  True,  True,  True,  True,  True,  True,  True,\n",
      "        True,  True,  True, False,  True,  True, False,  True, False,\n",
      "        True, False,  True,  True,  True,  True, False,  True,  True,\n",
      "        True,  True,  True, False, False], dtype=bool)]]\n",
      "zero: [[Array([-0.75, -11.875, -9.375, -2.5, -11.1875, -8.6875, -9.9375, -14.125,\n",
      "       -6.125, -3.75, -8.375, -6.625, -11.5, -5.25, -13.4375, 0, 0, 0,\n",
      "       -17.75, -10.125, -8.125, 0, -11.875, -9.1875, -7.25, -11, -16.875,\n",
      "       -11, -8, -8.1875, -3, -12.5], dtype=bfloat16), Array([-11.875, -9.375, -2.5, -11.1875, -8.6875, -9.9375, -14.125, -6.125,\n",
      "       -3.75, -8.375, -6.625, -11.5, -5.25, -13.4375, 0, 0, 0, -17.75,\n",
      "       -10.125, -8.125, 0, -11.875, -9.1875, -7.25, -11, -16.875, -11, -8,\n",
      "       -8.1875, -3, -12.5, -1.24219], dtype=bfloat16), Array([-9.375, -2.5, -11.1875, -8.6875, -9.9375, -14.125, -6.125, -3.75,\n",
      "       -8.375, -6.625, -11.5, -5.25, -13.4375, 0, 0, 0, -17.75, -10.125,\n",
      "       -8.125, 0, -11.875, -9.1875, -7.25, -11, -16.875, -11, -8, -8.1875,\n",
      "       -3, -12.5, -1.24219, -3.75], dtype=bfloat16), Array([-2.5, -11.1875, -8.6875, -9.9375, -14.125, -6.125, -3.75, -8.375,\n",
      "       -6.625, -11.5, -5.25, -13.4375, 0, 0, 0, -17.75, -10.125, -8.125,\n",
      "       0, -11.875, -9.1875, -7.25, -11, -16.875, -11, -8, -8.1875, -3,\n",
      "       -12.5, -1.24219, -3.75, -4.875], dtype=bfloat16), Array([-11.1875, -8.6875, -9.9375, -14.125, -6.125, -3.75, -8.375, -6.625,\n",
      "       -11.5, -5.25, -13.4375, 0, 0, 0, -17.75, -10.125, -8.125, 0,\n",
      "       -11.875, -9.1875, -7.25, -11, -16.875, -11, -8, -8.1875, -3, -12.5,\n",
      "       -1.24219, -3.75, -4.875, -10.1875], dtype=bfloat16), Array([-8.6875, -9.9375, -14.125, -6.125, -3.75, -8.375, -6.625, -11.5,\n",
      "       -5.25, -13.4375, 0, 0, 0, -17.75, -10.125, -8.125, 0, -11.875,\n",
      "       -9.1875, -7.25, -11, -16.875, -11, -8, -8.1875, -3, -12.5,\n",
      "       -1.24219, -3.75, -4.875, -10.1875, -10.25], dtype=bfloat16), Array([-9.9375, -14.125, -6.125, -3.75, -8.375, -6.625, -11.5, -5.25,\n",
      "       -13.4375, 0, 0, 0, -17.75, -10.125, -8.125, 0, -11.875, -9.1875,\n",
      "       -7.25, -11, -16.875, -11, -8, -8.1875, -3, -12.5, -1.24219, -3.75,\n",
      "       -4.875, -10.1875, -10.25, -12.125], dtype=bfloat16), Array([-14.125, -6.125, -3.75, -8.375, -6.625, -11.5, -5.25, -13.4375, 0,\n",
      "       0, 0, -17.75, -10.125, -8.125, 0, -11.875, -9.1875, -7.25, -11,\n",
      "       -16.875, -11, -8, -8.1875, -3, -12.5, -1.24219, -3.75, -4.875,\n",
      "       -10.1875, -10.25, -12.125, -7.8125], dtype=bfloat16), Array([-6.125, -3.75, -8.375, -6.625, -11.5, -5.25, -13.4375, 0, 0, 0,\n",
      "       -17.75, -10.125, -8.125, 0, -11.875, -9.1875, -7.25, -11, -16.875,\n",
      "       -11, -8, -8.1875, -3, -12.5, -1.24219, -3.75, -4.875, -10.1875,\n",
      "       -10.25, -12.125, -7.8125, -0.125], dtype=bfloat16), Array([-3.75, -8.375, -6.625, -11.5, -5.25, -13.4375, 0, 0, 0, -17.75,\n",
      "       -10.125, -8.125, 0, -11.875, -9.1875, -7.25, -11, -16.875, -11, -8,\n",
      "       -8.1875, -3, -12.5, -1.24219, -3.75, -4.875, -10.1875, -10.25,\n",
      "       -12.125, -7.8125, -0.125, -6.5625], dtype=bfloat16)], [Array([False, False, False, False, False, False, False, False, False,\n",
      "       False, False, False, False, False, False,  True,  True,  True,\n",
      "       False, False, False,  True, False, False, False, False, False,\n",
      "       False, False, False, False, False], dtype=bool), Array([False, False, False, False, False, False, False, False, False,\n",
      "       False, False, False, False, False,  True,  True,  True, False,\n",
      "       False, False,  True, False, False, False, False, False, False,\n",
      "       False, False, False, False, False], dtype=bool), Array([False, False, False, False, False, False, False, False, False,\n",
      "       False, False, False, False,  True,  True,  True, False, False,\n",
      "       False,  True, False, False, False, False, False, False, False,\n",
      "       False, False, False, False, False], dtype=bool), Array([False, False, False, False, False, False, False, False, False,\n",
      "       False, False, False,  True,  True,  True, False, False, False,\n",
      "        True, False, False, False, False, False, False, False, False,\n",
      "       False, False, False, False, False], dtype=bool), Array([False, False, False, False, False, False, False, False, False,\n",
      "       False, False,  True,  True,  True, False, False, False,  True,\n",
      "       False, False, False, False, False, False, False, False, False,\n",
      "       False, False, False, False, False], dtype=bool), Array([False, False, False, False, False, False, False, False, False,\n",
      "       False,  True,  True,  True, False, False, False,  True, False,\n",
      "       False, False, False, False, False, False, False, False, False,\n",
      "       False, False, False, False, False], dtype=bool), Array([False, False, False, False, False, False, False, False, False,\n",
      "        True,  True,  True, False, False, False,  True, False, False,\n",
      "       False, False, False, False, False, False, False, False, False,\n",
      "       False, False, False, False, False], dtype=bool), Array([False, False, False, False, False, False, False, False,  True,\n",
      "        True,  True, False, False, False,  True, False, False, False,\n",
      "       False, False, False, False, False, False, False, False, False,\n",
      "       False, False, False, False, False], dtype=bool), Array([False, False, False, False, False, False, False,  True,  True,\n",
      "        True, False, False, False,  True, False, False, False, False,\n",
      "       False, False, False, False, False, False, False, False, False,\n",
      "       False, False, False, False, False], dtype=bool), Array([False, False, False, False, False, False,  True,  True,  True,\n",
      "       False, False, False,  True, False, False, False, False, False,\n",
      "       False, False, False, False, False, False, False, False, False,\n",
      "       False, False, False, False, False], dtype=bool)]]\n",
      "added: [[Array([0, -0.6875, -1.9375, 0, -2.5625, 0, -1.75, -2, 0, 0, 0, 0, -3.25,\n",
      "       -0.25, -7.25, 0, 0, 0, -8.5, 0, -2.85938, 0, -4.875, -0.320312,\n",
      "       -1.375, -1.86719, -1.82812, 0, 0, -3.5, -0.375, -9.375],      dtype=bfloat16), Array([-0.742188, -1.99219, 0, -2.5625, 0, -1.75, -2, 0, 0, 0, 0, -3.1875,\n",
      "       -0.25, -7.125, 0, 0, 0, -8.4375, 0, -2.875, 0, -4.875, -0.257812,\n",
      "       -1.3125, -1.875, -1.8125, 0, 0, -3.48438, -0.375, -9.25, 0],      dtype=bfloat16), Array([-2.0625, 0, -2.5625, 0, -1.6875, -2.0625, 0, 0, 0, 0, -3.1875,\n",
      "       -0.25, -7.3125, 0, 0, 0, -8.5625, 0, -3.0625, 0, -4.875, -0.195312,\n",
      "       -1.375, -1.88281, -1.8125, 0, 0, -3.5625, -0.3125, -9.25, 0, 0],      dtype=bfloat16), Array([0, -2.6875, 0, -1.75, -2.0625, 0, 0, 0, 0, -3.125, -0.25, -7.25, 0,\n",
      "       0, 0, -8.5, 0, -2.875, 0, -4.875, -0.25, -1.3125, -1.875, -1.75, 0,\n",
      "       0, -3.5625, -0.375, -9.25, 0, -0.0625, 0], dtype=bfloat16), Array([-2.6875, 0, -1.82812, -2, 0, 0, 0, 0, -3.25, -0.25, -7.25, 0, 0, 0,\n",
      "       -8.4375, 0, -2.9375, 0, -4.9375, -0.257812, -1.4375, -1.9375,\n",
      "       -1.73438, 0, 0, -3.5625, -0.375, -9.3125, 0, -0.0625, 0, -1.61719],      dtype=bfloat16), Array([0, -1.76562, -2.0625, 0, 0, 0, 0, -3.125, -0.25, -7.3125, 0, 0, 0,\n",
      "       -8.5, 0, -2.92188, 0, -4.875, -0.242188, -1.3125, -1.82031, -1.75,\n",
      "       0, 0, -3.48438, -0.375, -9.25, 0, -0.0625, 0, -1.5, -3.8125],      dtype=bfloat16), Array([-1.85938, -2.125, 0, 0, 0, 0, -3.3125, -0.375, -7.3125, 0, 0, 0,\n",
      "       -8.625, 0, -3.01562, 0, -4.9375, -0.25, -1.5, -1.86719, -1.89062,\n",
      "       0, 0, -3.6875, -0.375, -9.3125, 0, 0, 0, -1.8125, -3.73438, -1.875],      dtype=bfloat16), Array([-2.1875, 0, 0, 0, 0, -3.39062, -0.25, -7.5625, 0, 0, 0, -8.5625, 0,\n",
      "       -2.875, 0, -4.875, -0.320312, -1.4375, -1.8125, -1.6875, 0, 0,\n",
      "       -3.60938, -0.4375, -9.375, 0, 0, 0, -1.55469, -3.625, -1.92969, 0],      dtype=bfloat16), Array([0, 0, 0, 0, -3.3125, -0.25, -7.46875, 0, 0, 0, -8.4375, 0, -2.8125,\n",
      "       0, -4.875, -0.1875, -1.375, -1.88281, -1.8125, 0, 0, -3.75, -0.375,\n",
      "       -9.3125, 0, 0, 0, -1.5625, -3.60938, -1.9375, 0, 0],      dtype=bfloat16), Array([0, 0, 0, -3.25, -0.25, -7.40625, 0, 0, 0, -8.375, 0, -2.8125, 0,\n",
      "       -4.8125, -0.257812, -1.3125, -1.875, -1.6875, 0, 0, -3.625,\n",
      "       -0.4375, -9.3125, 0, 0, 0, -1.63281, -3.6875, -1.80469, 0, 0,\n",
      "       -2.875], dtype=bfloat16)], [Array([ True, False, False,  True, False,  True, False, False,  True,\n",
      "        True,  True,  True, False, False, False,  True,  True,  True,\n",
      "       False,  True, False,  True, False, False, False, False, False,\n",
      "        True,  True, False, False, False], dtype=bool), Array([False, False,  True, False,  True, False, False,  True,  True,\n",
      "        True,  True, False, False, False,  True,  True,  True, False,\n",
      "        True, False,  True, False, False, False, False, False,  True,\n",
      "        True, False, False, False,  True], dtype=bool), Array([False,  True, False,  True, False, False,  True,  True,  True,\n",
      "        True, False, False, False,  True,  True,  True, False,  True,\n",
      "       False,  True, False, False, False, False, False,  True,  True,\n",
      "       False, False, False,  True,  True], dtype=bool), Array([ True, False,  True, False, False,  True,  True,  True,  True,\n",
      "       False, False, False,  True,  True,  True, False,  True, False,\n",
      "        True, False, False, False, False, False,  True,  True, False,\n",
      "       False, False,  True, False,  True], dtype=bool), Array([False,  True, False, False,  True,  True,  True,  True, False,\n",
      "       False, False,  True,  True,  True, False,  True, False,  True,\n",
      "       False, False, False, False, False,  True,  True, False, False,\n",
      "       False,  True, False,  True, False], dtype=bool), Array([ True, False, False,  True,  True,  True,  True, False, False,\n",
      "       False,  True,  True,  True, False,  True, False,  True, False,\n",
      "       False, False, False, False,  True,  True, False, False, False,\n",
      "        True, False,  True, False, False], dtype=bool), Array([False, False,  True,  True,  True,  True, False, False, False,\n",
      "        True,  True,  True, False,  True, False,  True, False, False,\n",
      "       False, False, False,  True,  True, False, False, False,  True,\n",
      "        True,  True, False, False, False], dtype=bool), Array([False,  True,  True,  True,  True, False, False, False,  True,\n",
      "        True,  True, False,  True, False,  True, False, False, False,\n",
      "       False, False,  True,  True, False, False, False,  True,  True,\n",
      "        True, False, False, False,  True], dtype=bool), Array([ True,  True,  True,  True, False, False, False,  True,  True,\n",
      "        True, False,  True, False,  True, False, False, False, False,\n",
      "       False,  True,  True, False, False, False,  True,  True,  True,\n",
      "       False, False, False,  True,  True], dtype=bool), Array([ True,  True,  True, False, False, False,  True,  True,  True,\n",
      "       False,  True, False,  True, False, False, False, False, False,\n",
      "        True,  True, False, False, False,  True,  True,  True, False,\n",
      "       False, False,  True,  True, False], dtype=bool)]]\n"
     ]
    },
    {
     "name": "stderr",
     "output_type": "stream",
     "text": [
      "100%|██████████| 1/1 [02:06<00:00, 126.93s/it]"
     ]
    },
    {
     "name": "stdout",
     "output_type": "stream",
     "text": [
      "orig: [[Array(-1.95312, dtype=bfloat16), Array(-1.85938, dtype=bfloat16), Array(-2.20312, dtype=bfloat16), Array(-2.20312, dtype=bfloat16), Array(-2.20312, dtype=bfloat16), Array(-2.09375, dtype=bfloat16), Array(-2.09375, dtype=bfloat16), Array(-1.91406, dtype=bfloat16), Array(-1.625, dtype=bfloat16), Array(-1.65625, dtype=bfloat16)], [Array(0.71875, dtype=float32), Array(0.75, dtype=float32), Array(0.71875, dtype=float32), Array(0.71875, dtype=float32), Array(0.71875, dtype=float32), Array(0.75, dtype=float32), Array(0.75, dtype=float32), Array(0.78125, dtype=float32), Array(0.78125, dtype=float32), Array(0.75, dtype=float32)]]\n",
      "zero: [[Array(-8.0625, dtype=bfloat16), Array(-8.0625, dtype=bfloat16), Array(-7.84375, dtype=bfloat16), Array(-7.6875, dtype=bfloat16), Array(-7.9375, dtype=bfloat16), Array(-7.90625, dtype=bfloat16), Array(-8, dtype=bfloat16), Array(-7.9375, dtype=bfloat16), Array(-7.5, dtype=bfloat16), Array(-7.53125, dtype=bfloat16)], [Array(0.125, dtype=float32), Array(0.125, dtype=float32), Array(0.125, dtype=float32), Array(0.125, dtype=float32), Array(0.125, dtype=float32), Array(0.125, dtype=float32), Array(0.125, dtype=float32), Array(0.125, dtype=float32), Array(0.125, dtype=float32), Array(0.125, dtype=float32)]]\n",
      "added: [[Array(-1.70312, dtype=bfloat16), Array(-1.69531, dtype=bfloat16), Array(-1.6875, dtype=bfloat16), Array(-1.61719, dtype=bfloat16), Array(-1.6875, dtype=bfloat16), Array(-1.70312, dtype=bfloat16), Array(-1.80469, dtype=bfloat16), Array(-1.73438, dtype=bfloat16), Array(-1.65625, dtype=bfloat16), Array(-1.73438, dtype=bfloat16)], [Array(0.4375, dtype=float32), Array(0.4375, dtype=float32), Array(0.46875, dtype=float32), Array(0.46875, dtype=float32), Array(0.4375, dtype=float32), Array(0.4375, dtype=float32), Array(0.4375, dtype=float32), Array(0.46875, dtype=float32), Array(0.5, dtype=float32), Array(0.46875, dtype=float32)]]\n"
     ]
    },
    {
     "name": "stderr",
     "output_type": "stream",
     "text": [
      "\n"
     ]
    }
   ],
   "source": [
    "tvs = []\n",
    "\n",
    "for task in tqdm(task_names):\n",
    "    shot_logprobs_orig = [[] for _ in range(2)]\n",
    "    shot_logprobs_added = [[] for _ in range(2)]\n",
    "    shot_logprobs_zero = [[] for _ in range(2)]\n",
    "    for seed in trange(n_seeds):\n",
    "        pairs = tasks[task]\n",
    "        pairs = [list(x) for x in pairs.items()]\n",
    "        dataset = ICLDataset(pairs, size=batch_size, n_prepended=n_few_shots, bidirectional=False, seed=seed)\n",
    "\n",
    "        tokenized = tokenizer.batch_encode_plus([prompt.format(x) for x in dataset.prompts], padding=\"longest\", max_length=max_seq_len, truncation=True, return_tensors=\"np\")\n",
    "        inputs = tokenized_to_inputs(\n",
    "            **tokenized\n",
    "        )\n",
    "        \n",
    "        logits, resids = get_resids_call(inputs)\n",
    "    \n",
    "        tokens = tokenized[\"input_ids\"]\n",
    "\n",
    "        shot_logprobs_orig[0].append(\n",
    "            get_logprob_diff(logits.unwrap(\"batch\", \"seq\", \"vocabulary\"), dataset.completions, print_results=True)\n",
    "        )\n",
    "\n",
    "        shot_logprobs_orig[1].append(\n",
    "            shot_logprobs_orig[0][-1] == 0.\n",
    "        )\n",
    "\n",
    "        mask = inputs.tokens == 1599\n",
    "        mask = mask.unwrap(\"batch\", \"seq\")\n",
    "\n",
    "        tv = resids[layer].value.unwrap(\"batch\", \"seq\", \"embedding\")[\n",
    "            mask\n",
    "        ]\n",
    "\n",
    "        tv = tv.mean(\n",
    "            axis=0\n",
    "        )\n",
    "\n",
    "        tvs.append(tv)\n",
    "\n",
    "        print(\n",
    "            tv.mean(), tv.std()\n",
    "        )\n",
    "\n",
    "        act_add = add_vector(\n",
    "            llama, tv, layer, scale=2.0, position=\"last\"\n",
    "        )\n",
    "\n",
    "        pairs = tasks[task]\n",
    "        pairs = [list(x) for x in pairs.items()]\n",
    "        dataset = ICLDataset(pairs, size=batch_size, n_prepended=0, bidirectional=False, seed=seed+1)\n",
    "\n",
    "\n",
    "        print(\n",
    "            dataset.prompts, dataset.completions\n",
    "        )\n",
    "\n",
    "        tokenized = tokenizer.batch_encode_plus([prompt.format(x) for x in dataset.prompts], padding=\"longest\", max_length=max_seq_len, truncation=True, return_tensors=\"np\")\n",
    "        inputs = tokenized_to_inputs(\n",
    "            **tokenized\n",
    "        )\n",
    "\n",
    "        logits = act_add(inputs)\n",
    "\n",
    "        tokens = tokenized[\"input_ids\"]\n",
    "\n",
    "        shot_logprobs_added[0].append(\n",
    "            get_logprob_diff(logits.unwrap(\"batch\", \"seq\", \"vocabulary\"), dataset.completions, print_results=True)\n",
    "        )\n",
    "\n",
    "        shot_logprobs_added[1].append(\n",
    "            shot_logprobs_added[0][-1] == 0.\n",
    "        )\n",
    "\n",
    "        logits, _ = get_resids_call(inputs)\n",
    "        \n",
    "        shot_logprobs_zero[0].append(\n",
    "            get_logprob_diff(logits.unwrap(\"batch\", \"seq\", \"vocabulary\"), dataset.completions, print_results=True)\n",
    "        )\n",
    "\n",
    "        shot_logprobs_zero[1].append(\n",
    "            shot_logprobs_zero[0][-1] == 0.\n",
    "        )\n",
    "        \n",
    "    print(f\"orig: {shot_logprobs_orig}\")\n",
    "    print(f\"zero: {shot_logprobs_zero}\")\n",
    "    print(f\"added: {shot_logprobs_added}\")\n",
    "\n",
    "\n",
    "    shot_logprobs_orig = [list(map(np.mean, x)) for x in shot_logprobs_orig]\n",
    "    shot_logprobs_zero = [list(map(np.mean, x)) for x in shot_logprobs_zero]\n",
    "    shot_logprobs_added = [list(map(np.mean, x)) for x in shot_logprobs_added]\n",
    "\n",
    "\n",
    "print(f\"orig: {shot_logprobs_orig}\")\n",
    "print(f\"zero: {shot_logprobs_zero}\")\n",
    "print(f\"added: {shot_logprobs_added}\")"
   ]
  },
  {
   "cell_type": "code",
   "execution_count": 64,
   "metadata": {},
   "outputs": [
    {
     "name": "stderr",
     "output_type": "stream",
     "text": [
      "  0%|          | 0/1 [00:00<?, ?it/s]"
     ]
    },
    {
     "name": "stdout",
     "output_type": "stream",
     "text": [
      "-0.0090332 0.875\n",
      "along window information over field current better power message reduce behavior place security hell cell media club live point throw\n",
      "lungo fin inform sop campo att meg pot mess rid comport lu sic infer cell media club abit punto get\n",
      "-0.00256348 0.898438\n",
      "along window information over field current better power message reduce behavior place security hel cell media club live point throw\n",
      "lungo fin inform sop campo att meg pot mess rid comport lu sic infer cell media club abit punto get\n",
      "-0.00260925 0.957031\n",
      "along window inform over campo current migli pot mess rid behavior place security h cell media club v punto throw\n",
      "lungo fin inform sop campo att meg pot mess rid comport lu sic infer cell media club abit punto get\n",
      "-0.00460815 1.09375\n",
      "along fen inform over campo current migli pot mess rid comport pl seg h cell media club v punto throw\n",
      "lungo fin inform sop campo att meg pot mess rid comport lu sic infer cell media club abit punto get\n",
      "-0.00552368 1.17188\n"
     ]
    },
    {
     "name": "stderr",
     "output_type": "stream",
     "text": [
      "100%|██████████| 1/1 [00:22<00:00, 22.50s/it]"
     ]
    },
    {
     "name": "stdout",
     "output_type": "stream",
     "text": [
      "along window inform over campo current migli pot mess rid behavior place sic h cell media club v punto throw\n",
      "lungo fin inform sop campo att meg pot mess rid comport lu sic infer cell media club abit punto get\n",
      "orig: [[Array(-1.46094, dtype=bfloat16)], [Array(0.8, dtype=float32)]]\n",
      "added: [[Array(-4.96875, dtype=bfloat16), Array(-4.75, dtype=bfloat16), Array(-1.53125, dtype=bfloat16), Array(-1.40625, dtype=bfloat16), Array(-1.72656, dtype=bfloat16)], [Array(0.15, dtype=float32), Array(0.15, dtype=float32), Array(0.45000002, dtype=float32), Array(0.6, dtype=float32), Array(0.55, dtype=float32)]]\n"
     ]
    },
    {
     "name": "stderr",
     "output_type": "stream",
     "text": [
      "\n"
     ]
    }
   ],
   "source": [
    "a"
   ]
  },
  {
   "cell_type": "code",
   "execution_count": 61,
   "metadata": {},
   "outputs": [
    {
     "data": {
      "text/html": [
       "<div id=\"output_561a996261754085b452f57d85c7628d\"><script> /* penzai.treescope rendering of a Python object (compressed) */ (()=>{ let observer; let lastStep = new Promise((resolve, reject) => { observer = new IntersectionObserver((entries) => { for (const entry of entries) { if (entry.isIntersecting) { resolve(); observer.disconnect(); return; } } }, {rootMargin: \"1000px\"}); }); window.treescope_decompress_enqueue = (encoded, destId) => { const previous = lastStep; const destElt = document.getElementById(destId); lastStep = (async () => { await previous; let blob = new Blob([ Uint8Array.from(atob(encoded), (m) => m.codePointAt(0)) ]); let reader = blob.stream().pipeThrough( new DecompressionStream(\"deflate\") ).pipeThrough( new TextDecoderStream(\"utf-8\") ).getReader(); let parts = []; while (true) { let step = await reader.read(); if (step.done) { break; } parts.push(step.value); } let newElt = document.createElement(\"div\"); newElt.innerHTML = parts.join(\"\"); destElt.parentNode.replaceChild(newElt, destElt); for (let oldScript of newElt.querySelectorAll(\"script\")) { let newScript = document.createElement(\"script\"); newScript.type = oldScript.type; newScript.textContent = oldScript.textContent; oldScript.parentNode.replaceChild(newScript, oldScript); } })(); requestAnimationFrame(() => { observer.observe(destElt); }); } })(); </script><div id=\"compress_html_f253c453629144d0a133d4f616ea6710\"><script>window.treescope_decompress_enqueue(\"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\", \"compress_html_f253c453629144d0a133d4f616ea6710\");</script><span style=\"color: #aaaaaa; font-family: monospace\">(Loading...)</span></div></div>"
      ],
      "text/plain": [
       "<IPython.core.display.HTML object>"
      ]
     },
     "metadata": {},
     "output_type": "display_data"
    },
    {
     "data": {
      "text/html": [
       "<div id=\"compress_html_7d2bf7ad97584eefb603884fa4569fec\"><script>window.treescope_decompress_enqueue(\"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\", \"compress_html_7d2bf7ad97584eefb603884fa4569fec\");</script></div>"
      ],
      "text/plain": [
       "<IPython.core.display.HTML object>"
      ]
     },
     "metadata": {},
     "output_type": "display_data"
    },
    {
     "data": {
      "text/html": [
       "<div id=\"output_dest_561a996261754085b452f57d85c7628d\"><script> (()=>{ const output = document.getElementById(\"output_561a996261754085b452f57d85c7628d\"); const dest = document.getElementById(\"output_dest_561a996261754085b452f57d85c7628d\"); dest.parentNode.replaceChild(output, dest); })(); </script></div>"
      ],
      "text/plain": [
       "[[<jax.Array(-4.40625, dtype=bfloat16)>,\n",
       "  <jax.Array(-4.4375, dtype=bfloat16)>,\n",
       "  <jax.Array(-1.30469, dtype=bfloat16)>,\n",
       "  <jax.Array(-1.21875, dtype=bfloat16)>,\n",
       "  <jax.Array(-1.51562, dtype=bfloat16)>],\n",
       " [<jax.Array(0., dtype=float32)>,\n",
       "  <jax.Array(0., dtype=float32)>,\n",
       "  <jax.Array(0.25, dtype=float32)>,\n",
       "  <jax.Array(0.35, dtype=float32)>,\n",
       "  <jax.Array(0.35, dtype=float32)>]]"
      ]
     },
     "execution_count": 61,
     "metadata": {},
     "output_type": "execute_result"
    }
   ],
   "source": [
    "shot_logprobs_added"
   ]
  },
  {
   "cell_type": "code",
   "execution_count": 20,
   "metadata": {},
   "outputs": [
    {
     "name": "stderr",
     "output_type": "stream",
     "text": [
      "--2024-05-20 16:23:03--  https://huggingface.co/nev/phi-3-4k-saex-test/resolve/main/l17-test-run-6-4.52E-06/sae_weights.safetensors?download=true\n",
      "Resolving huggingface.co (huggingface.co)... 108.156.211.125, 108.156.211.95, 108.156.211.90, ...\n",
      "Connecting to huggingface.co (huggingface.co)|108.156.211.125|:443... connected.\n",
      "HTTP request sent, awaiting response... 302 Found\n",
      "Location: https://cdn-lfs-us-1.huggingface.co/repos/eb/d8/ebd889d6ac58573e8e8a7aa1176d4d357581a6da60135b94aca378fddf4e9e54/1623d8da38be3171fcc8516a4cbe9fdb80e3d77e370aa5690895697649d688f3?response-content-disposition=attachment%3B+filename*%3DUTF-8%27%27sae_weights.safetensors%3B+filename%3D%22sae_weights.safetensors%22%3B&Expires=1716481383&Policy=eyJTdGF0ZW1lbnQiOlt7IkNvbmRpdGlvbiI6eyJEYXRlTGVzc1RoYW4iOnsiQVdTOkVwb2NoVGltZSI6MTcxNjQ4MTM4M319LCJSZXNvdXJjZSI6Imh0dHBzOi8vY2RuLWxmcy11cy0xLmh1Z2dpbmdmYWNlLmNvL3JlcG9zL2ViL2Q4L2ViZDg4OWQ2YWM1ODU3M2U4ZThhN2FhMTE3NmQ0ZDM1NzU4MWE2ZGE2MDEzNWI5NGFjYTM3OGZkZGY0ZTllNTQvMTYyM2Q4ZGEzOGJlMzE3MWZjYzg1MTZhNGNiZTlmZGI4MGUzZDc3ZTM3MGFhNTY5MDg5NTY5NzY0OWQ2ODhmMz9yZXNwb25zZS1jb250ZW50LWRpc3Bvc2l0aW9uPSoifV19&Signature=RbX8H7Y4ttAfS3PDrffQcCq%7ET0ZMvcyLrHOrVBWOc-iaEEHck3CLh-yL-gzDSRxR4sV2BrVtRlzTyXLi1CO3K-YPyRCTXyCTs5CEoUtWuNytQjEOtzlCRoCYq%7ENe2OBvaYAdJLKqgPI6GPwwrpSE5XlTQ6aVoi4z6ouub-M1lPvpidPCOsAPB8BvVG-6tmhOWpC1g1M9ewV46WGaDsbPgNi8X5--0%7E99TjB5wZwNSgFHRRSlP5o4D8bN2bE60SPyOQMuxPnYRzdye3yRZIl5z9O8ftU7abpIkYxlPkV6JXZ6TKyXaRAvgiCHyLEUKdjCcgM-Ro6XMVMuiqEpr%7ESsFg__&Key-Pair-Id=KCD77M1F0VK2B [following]\n",
      "--2024-05-20 16:23:03--  https://cdn-lfs-us-1.huggingface.co/repos/eb/d8/ebd889d6ac58573e8e8a7aa1176d4d357581a6da60135b94aca378fddf4e9e54/1623d8da38be3171fcc8516a4cbe9fdb80e3d77e370aa5690895697649d688f3?response-content-disposition=attachment%3B+filename*%3DUTF-8%27%27sae_weights.safetensors%3B+filename%3D%22sae_weights.safetensors%22%3B&Expires=1716481383&Policy=eyJTdGF0ZW1lbnQiOlt7IkNvbmRpdGlvbiI6eyJEYXRlTGVzc1RoYW4iOnsiQVdTOkVwb2NoVGltZSI6MTcxNjQ4MTM4M319LCJSZXNvdXJjZSI6Imh0dHBzOi8vY2RuLWxmcy11cy0xLmh1Z2dpbmdmYWNlLmNvL3JlcG9zL2ViL2Q4L2ViZDg4OWQ2YWM1ODU3M2U4ZThhN2FhMTE3NmQ0ZDM1NzU4MWE2ZGE2MDEzNWI5NGFjYTM3OGZkZGY0ZTllNTQvMTYyM2Q4ZGEzOGJlMzE3MWZjYzg1MTZhNGNiZTlmZGI4MGUzZDc3ZTM3MGFhNTY5MDg5NTY5NzY0OWQ2ODhmMz9yZXNwb25zZS1jb250ZW50LWRpc3Bvc2l0aW9uPSoifV19&Signature=RbX8H7Y4ttAfS3PDrffQcCq%7ET0ZMvcyLrHOrVBWOc-iaEEHck3CLh-yL-gzDSRxR4sV2BrVtRlzTyXLi1CO3K-YPyRCTXyCTs5CEoUtWuNytQjEOtzlCRoCYq%7ENe2OBvaYAdJLKqgPI6GPwwrpSE5XlTQ6aVoi4z6ouub-M1lPvpidPCOsAPB8BvVG-6tmhOWpC1g1M9ewV46WGaDsbPgNi8X5--0%7E99TjB5wZwNSgFHRRSlP5o4D8bN2bE60SPyOQMuxPnYRzdye3yRZIl5z9O8ftU7abpIkYxlPkV6JXZ6TKyXaRAvgiCHyLEUKdjCcgM-Ro6XMVMuiqEpr%7ESsFg__&Key-Pair-Id=KCD77M1F0VK2B\n",
      "Resolving cdn-lfs-us-1.huggingface.co (cdn-lfs-us-1.huggingface.co)... 18.245.124.86, 18.245.124.105, 18.245.124.35, ...\n",
      "Connecting to cdn-lfs-us-1.huggingface.co (cdn-lfs-us-1.huggingface.co)|18.245.124.86|:443... connected.\n",
      "HTTP request sent, awaiting response... 416 Requested Range Not Satisfiable\n",
      "\n",
      "    The file is already fully retrieved; nothing to do.\n",
      "\n"
     ]
    }
   ],
   "source": [
    "\n",
    "from micrlhf.utils.load_sae import get_sae\n",
    "sae = get_sae(layer, 6)"
   ]
  },
  {
   "cell_type": "code",
   "execution_count": 21,
   "metadata": {},
   "outputs": [],
   "source": [
    "from micrlhf.utils.ito import grad_pursuit"
   ]
  },
  {
   "cell_type": "code",
   "execution_count": 45,
   "metadata": {},
   "outputs": [
    {
     "data": {
      "text/html": [
       "<div id=\"output_bac8db31159a4ed0b8c1e5cbda694618\"><script> /* penzai.treescope rendering of a Python object (compressed) */ (()=>{ let observer; let lastStep = new Promise((resolve, reject) => { observer = new IntersectionObserver((entries) => { for (const entry of entries) { if (entry.isIntersecting) { resolve(); observer.disconnect(); return; } } }, {rootMargin: \"1000px\"}); }); window.treescope_decompress_enqueue = (encoded, destId) => { const previous = lastStep; const destElt = document.getElementById(destId); lastStep = (async () => { await previous; let blob = new Blob([ Uint8Array.from(atob(encoded), (m) => m.codePointAt(0)) ]); let reader = blob.stream().pipeThrough( new DecompressionStream(\"deflate\") ).pipeThrough( new TextDecoderStream(\"utf-8\") ).getReader(); let parts = []; while (true) { let step = await reader.read(); if (step.done) { break; } parts.push(step.value); } let newElt = document.createElement(\"div\"); newElt.innerHTML = parts.join(\"\"); destElt.parentNode.replaceChild(newElt, destElt); for (let oldScript of newElt.querySelectorAll(\"script\")) { let newScript = document.createElement(\"script\"); newScript.type = oldScript.type; newScript.textContent = oldScript.textContent; oldScript.parentNode.replaceChild(newScript, oldScript); } })(); requestAnimationFrame(() => { observer.observe(destElt); }); } })(); </script><div id=\"compress_html_833596309f444653ae66d839c4f46081\"><script>window.treescope_decompress_enqueue(\"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\", \"compress_html_833596309f444653ae66d839c4f46081\");</script><span style=\"color: #aaaaaa; font-family: monospace\">(Loading...)</span></div></div>"
      ],
      "text/plain": [
       "<IPython.core.display.HTML object>"
      ]
     },
     "metadata": {},
     "output_type": "display_data"
    },
    {
     "data": {
      "text/html": [
       "<div id=\"compress_html_ace74cf51878425c81cb6bc81f76aa6e\"><script>window.treescope_decompress_enqueue(\"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\", \"compress_html_ace74cf51878425c81cb6bc81f76aa6e\");</script></div>"
      ],
      "text/plain": [
       "<IPython.core.display.HTML object>"
      ]
     },
     "metadata": {},
     "output_type": "display_data"
    },
    {
     "data": {
      "text/html": [
       "<div id=\"output_dest_bac8db31159a4ed0b8c1e5cbda694618\"><script> (()=>{ const output = document.getElementById(\"output_bac8db31159a4ed0b8c1e5cbda694618\"); const dest = document.getElementById(\"output_dest_bac8db31159a4ed0b8c1e5cbda694618\"); dest.parentNode.replaceChild(output, dest); })(); </script></div>"
      ],
      "text/plain": [
       "<jax.Array int32(10,) [≥24_043, ≤45_211] nonzero:10\n",
       "  <Arrayviz rendering>\n",
       "  Replicated across 4 TPU devices (click to expand)\n",
       ">"
      ]
     },
     "execution_count": 45,
     "metadata": {},
     "output_type": "execute_result"
    }
   ],
   "source": [
    "k = 10\n",
    "\n",
    "weights, recon = grad_pursuit(tvs[0], sae[\"W_dec\"], k, pos_only=True)\n",
    "w, i = jax.lax.top_k(jnp.abs(weights), k)\n",
    "\n",
    "i"
   ]
  },
  {
   "cell_type": "code",
   "execution_count": 46,
   "metadata": {},
   "outputs": [
    {
     "data": {
      "text/html": [
       "<div id=\"output_f4c3ca8ddea54b179875e952ff60512b\"><script> /* penzai.treescope rendering of a Python object (compressed) */ (()=>{ let observer; let lastStep = new Promise((resolve, reject) => { observer = new IntersectionObserver((entries) => { for (const entry of entries) { if (entry.isIntersecting) { resolve(); observer.disconnect(); return; } } }, {rootMargin: \"1000px\"}); }); window.treescope_decompress_enqueue = (encoded, destId) => { const previous = lastStep; const destElt = document.getElementById(destId); lastStep = (async () => { await previous; let blob = new Blob([ Uint8Array.from(atob(encoded), (m) => m.codePointAt(0)) ]); let reader = blob.stream().pipeThrough( new DecompressionStream(\"deflate\") ).pipeThrough( new TextDecoderStream(\"utf-8\") ).getReader(); let parts = []; while (true) { let step = await reader.read(); if (step.done) { break; } parts.push(step.value); } let newElt = document.createElement(\"div\"); newElt.innerHTML = parts.join(\"\"); destElt.parentNode.replaceChild(newElt, destElt); for (let oldScript of newElt.querySelectorAll(\"script\")) { let newScript = document.createElement(\"script\"); newScript.type = oldScript.type; newScript.textContent = oldScript.textContent; oldScript.parentNode.replaceChild(newScript, oldScript); } })(); requestAnimationFrame(() => { observer.observe(destElt); }); } })(); </script><div id=\"compress_html_2d4ba0839fc24a53a8dfaa070c548a66\"><script>window.treescope_decompress_enqueue(\"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\", \"compress_html_2d4ba0839fc24a53a8dfaa070c548a66\");</script><span style=\"color: #aaaaaa; font-family: monospace\">(Loading...)</span></div></div>"
      ],
      "text/plain": [
       "<IPython.core.display.HTML object>"
      ]
     },
     "metadata": {},
     "output_type": "display_data"
    },
    {
     "data": {
      "text/html": [
       "<div id=\"compress_html_1cbe0093d77c418eb08cebd112e75aa2\"><script>window.treescope_decompress_enqueue(\"eNrtWG1v2zYQ/iuEgjVSG6tSbMdvsYEt3YB+6YdhwD4UhUCLtMWZJjWKdpIW/e87krJk2Y7jZmmKAUsA2xLv/R7eHXlN2BoV+p7TsUdYkXN8P0RCCuohRsbeTKqE0BlVipLkqt0b0KgXRf1Zp3NFu/0ZSSM6INPeALdT0vMm10WOBXwaeZNwKrWWS84EHQqp/XAmOcFTThMhCR1muPAnHE8pnzRXEi3nc+54hmlG0wUlQYBeB+gLyjEhTMxbWuZDFIVxly5HyGhoZZTNMz1EcWjffQ1TycF4PJ0qugZO+zhEZ1f9SxxFNUEql0sqdHKbUZHQO7CfUPJs9m60YvtXaxWr5ZSqLYJo0I+7VzVBoRX4uS2hHXfjbkUA6TBu1wRTjtPFCE3hc67kSpBWubDGym+1plymC/cqACqpCFUuinF+hwrJGTlG6VL5GPFXFGb3OVVg2SJRdCk1TTK5Bkd3jd43Uy54mvn9zk8mrZ0uiqOBk3iLi6RIleQc2LUMZ0wVOtEsXZwsddAJYyM3GqC4fRX2Dgq2+TuqLthTqBUWBdNMiuGechQXiOKCtphoyZW+QDMpdOvWwnRnzWQ1S7MEdk9KE05negvq5tFgvZtmTTplJdWEym2AipIBkoUGY9OM8eeDdFUlbO5HaInVHNxwZqaYp/5lmqGWgYqLc9MORcV3M6UEqzOFAGQpsYg9o5H5N0H5e4W5wEua5IrO2B0IsWkp2GdqQtd3taPQ2OipLK7y7jSgCWqSvHhwo7CTZi68j9j6MsF2NcFadbAyNOq29QNgyjP0GvkxuLPNUsotgIoGQVDFoGZtnc670bupX5azErl52ypfv2A06wpsI9hSmLBVUToY0yV497Bj1tJ/Z8SjEP/SaBIuv2YvndAkjhN/DUHidxkK6iQfmwtso7d1Glpsvg1sM/bY0GpFaZHKHGqslDqsiJMlWIKOSGDC6HTdxRCBtY8SnqLsQTmlyddv3chl5y+UclwUY69pZjmcbWa9RlZgvCDTfqeLR4fwBgEdeU3RjdQgViSuS0phGyMQuxReM5GvNNIwE4w9m7SpvPMOCinzC6xvLVNTXz1VaNi5VHuIYI1bC3qfY52NvR3zGl26RBtqNljvlFiVizs9w5vkVHzGrM4c7J0cLClg3Jlhzs0kEEJK7Czsvj5I/ftGem6c9pvr12/LiG3pPTdSpyvAtDhHUtxwmEHG57XSDEZViJ6hSlKz6OuMFcG5i415PfZ8jpdTgpGB1tB+Bl4NgYpwiM4PUJ6PUEmDBSAQuznn/AYYkIk7/K5G/qY329HbLTSoWWi8I9R7pBJmHCYwh+EyV+NvgkjY4D0EmHLm9iavzu4ue6OflcL3vhkXo3bc614gYnE84xLr9mXgiJp+X+xjCiRznBeUeBN0KDqNY4f3AvlvxuF0NOzwPR0bJyLl4dzDufSJmWfkYN7dYcybDDq9Qafb6bfb7cv46r+cWkaekljg+oFptbvriYk1vMda1PN3pCOXB95RGJwdxMpei/kL321aiC1ER/rEMaB5e4evo+ve5PkSsH3/AjWV65FdQK5wGv+sY+7x1VyPjkDoB24l49lTNpPle67tdOpW24nTxf+xPClsjXmxvrVEO3ct3iT4tkw0xvZHt0e1JY4MHfvbZPNF2BoUpKBIT3w/QOMJ+pJKUUCxs3v3PSnQGH30Tr/N/TRy/CYXwHoLpULebg29IDRpHl58RGS6MhXRLP7Kqfn5y/174lc2fIw+mfOrkzxTeG5IQHrFmCqKNX1XPv5WUvgVj9Fzw+HYA0wb/hDnMJKTG1PCfAud1FB8gCrua7WyJ+aZVMjnVCMGjNEIvq7ryIScirnO4O2bN+ZEaejc4raWB31in0CB4SnkSqX0HVtve7TDZu/UPfQG7fC7xxCmKw6I+5PpzK/EuVvIUop1ExjqVXPVuqa+vRdwh8gtIVXAzHJgiAAzDicbvOylloq/V3RF35VY+YMuQZ6mhR9UvP8AwbuRgA==\", \"compress_html_1cbe0093d77c418eb08cebd112e75aa2\");</script></div>"
      ],
      "text/plain": [
       "<IPython.core.display.HTML object>"
      ]
     },
     "metadata": {},
     "output_type": "display_data"
    },
    {
     "data": {
      "text/html": [
       "<div id=\"output_dest_f4c3ca8ddea54b179875e952ff60512b\"><script> (()=>{ const output = document.getElementById(\"output_f4c3ca8ddea54b179875e952ff60512b\"); const dest = document.getElementById(\"output_dest_f4c3ca8ddea54b179875e952ff60512b\"); dest.parentNode.replaceChild(output, dest); })(); </script></div>"
      ],
      "text/plain": [
       "<jax.Array(36.703175, dtype=float32)>"
      ]
     },
     "execution_count": 46,
     "metadata": {},
     "output_type": "execute_result"
    }
   ],
   "source": [
    "jnp.linalg.norm(tvs[0] - recon)"
   ]
  },
  {
   "cell_type": "code",
   "execution_count": 36,
   "metadata": {},
   "outputs": [
    {
     "data": {
      "text/html": [
       "<div id=\"output_21044ed678264f3fb9ebfbd9c7cdadd9\"><script> /* penzai.treescope rendering of a Python object (compressed) */ (()=>{ let observer; let lastStep = new Promise((resolve, reject) => { observer = new IntersectionObserver((entries) => { for (const entry of entries) { if (entry.isIntersecting) { resolve(); observer.disconnect(); return; } } }, {rootMargin: \"1000px\"}); }); window.treescope_decompress_enqueue = (encoded, destId) => { const previous = lastStep; const destElt = document.getElementById(destId); lastStep = (async () => { await previous; let blob = new Blob([ Uint8Array.from(atob(encoded), (m) => m.codePointAt(0)) ]); let reader = blob.stream().pipeThrough( new DecompressionStream(\"deflate\") ).pipeThrough( new TextDecoderStream(\"utf-8\") ).getReader(); let parts = []; while (true) { let step = await reader.read(); if (step.done) { break; } parts.push(step.value); } let newElt = document.createElement(\"div\"); newElt.innerHTML = parts.join(\"\"); destElt.parentNode.replaceChild(newElt, destElt); for (let oldScript of newElt.querySelectorAll(\"script\")) { let newScript = document.createElement(\"script\"); newScript.type = oldScript.type; newScript.textContent = oldScript.textContent; oldScript.parentNode.replaceChild(newScript, oldScript); } })(); requestAnimationFrame(() => { observer.observe(destElt); }); } })(); </script><div id=\"compress_html_5e4de90408b5437fad2d3017c3e0121d\"><script>window.treescope_decompress_enqueue(\"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\", \"compress_html_5e4de90408b5437fad2d3017c3e0121d\");</script><span style=\"color: #aaaaaa; font-family: monospace\">(Loading...)</span></div></div>"
      ],
      "text/plain": [
       "<IPython.core.display.HTML object>"
      ]
     },
     "metadata": {},
     "output_type": "display_data"
    },
    {
     "data": {
      "text/html": [
       "<div id=\"compress_html_d5c8613915594bf3a5d07df5214deeca\"><script>window.treescope_decompress_enqueue(\"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\", \"compress_html_d5c8613915594bf3a5d07df5214deeca\");</script></div>"
      ],
      "text/plain": [
       "<IPython.core.display.HTML object>"
      ]
     },
     "metadata": {},
     "output_type": "display_data"
    },
    {
     "data": {
      "text/html": [
       "<div id=\"output_dest_21044ed678264f3fb9ebfbd9c7cdadd9\"><script> (()=>{ const output = document.getElementById(\"output_21044ed678264f3fb9ebfbd9c7cdadd9\"); const dest = document.getElementById(\"output_dest_21044ed678264f3fb9ebfbd9c7cdadd9\"); dest.parentNode.replaceChild(output, dest); })(); </script></div>"
      ],
      "text/plain": [
       "[[<Array([29.792599, 10.352382,  8.920501,  8.145139,  8.122905], dtype=float32)\n",
       "    <Arrayviz rendering>\n",
       "    Replicated across 4 TPU devices (click to expand)\n",
       "  >,\n",
       "  <Array([34560, 40991, 24043, 30355, 45211], dtype=int32)\n",
       "    <Arrayviz rendering>\n",
       "    Replicated across 4 TPU devices (click to expand)\n",
       "  >],\n",
       " [<Array([29.806067, 10.385991,  8.90197 ,  8.17028 ,  8.131155], dtype=float32)\n",
       "    <Arrayviz rendering>\n",
       "    Replicated across 4 TPU devices (click to expand)\n",
       "  >,\n",
       "  <Array([34560, 40991, 24043, 45211, 30355], dtype=int32)\n",
       "    <Arrayviz rendering>\n",
       "    Replicated across 4 TPU devices (click to expand)\n",
       "  >],\n",
       " [<Array([29.883137, 10.367022,  8.96897 ,  8.084253,  7.998138], dtype=float32)\n",
       "    <Arrayviz rendering>\n",
       "    Replicated across 4 TPU devices (click to expand)\n",
       "  >,\n",
       "  <Array([34560, 40991, 24043, 45211, 30355], dtype=int32)\n",
       "    <Arrayviz rendering>\n",
       "    Replicated across 4 TPU devices (click to expand)\n",
       "  >],\n",
       " [<Array([26.066097 ,  9.934102 ,  8.822496 ,  8.050564 ,  7.8920116],      dtype=float32)\n",
       "    <Arrayviz rendering>\n",
       "    Replicated across 4 TPU devices (click to expand)\n",
       "  >,\n",
       "  <Array([34560, 40991, 24043, 45211, 30355], dtype=int32)\n",
       "    <Arrayviz rendering>\n",
       "    Replicated across 4 TPU devices (click to expand)\n",
       "  >],\n",
       " [<Array([26.23363  ,  9.876981 ,  8.7954235,  8.072471 ,  7.838931 ],      dtype=float32)\n",
       "    <Arrayviz rendering>\n",
       "    Replicated across 4 TPU devices (click to expand)\n",
       "  >,\n",
       "  <Array([34560, 40991, 24043, 45211, 30355], dtype=int32)\n",
       "    <Arrayviz rendering>\n",
       "    Replicated across 4 TPU devices (click to expand)\n",
       "  >],\n",
       " [<Array([26.243702 ,  9.882975 ,  8.824527 ,  8.136261 ,  7.9271026],      dtype=float32)\n",
       "    <Arrayviz rendering>\n",
       "    Replicated across 4 TPU devices (click to expand)\n",
       "  >,\n",
       "  <Array([34560, 40991, 24043, 45211, 30355], dtype=int32)\n",
       "    <Arrayviz rendering>\n",
       "    Replicated across 4 TPU devices (click to expand)\n",
       "  >],\n",
       " [<Array([26.247698,  9.898605,  8.814878,  8.135923,  7.857659], dtype=float32)\n",
       "    <Arrayviz rendering>\n",
       "    Replicated across 4 TPU devices (click to expand)\n",
       "  >,\n",
       "  <Array([34560, 40991, 24043, 45211, 26986], dtype=int32)\n",
       "    <Arrayviz rendering>\n",
       "    Replicated across 4 TPU devices (click to expand)\n",
       "  >],\n",
       " [<Array([26.279543,  9.898817,  8.800136,  8.145805,  8.018657], dtype=float32)\n",
       "    <Arrayviz rendering>\n",
       "    Replicated across 4 TPU devices (click to expand)\n",
       "  >,\n",
       "  <Array([34560, 40991, 24043, 45211, 26986], dtype=int32)\n",
       "    <Arrayviz rendering>\n",
       "    Replicated across 4 TPU devices (click to expand)\n",
       "  >],\n",
       " [<Array([26.278713,  9.908989,  8.835454,  8.160914,  8.048674], dtype=float32)\n",
       "    <Arrayviz rendering>\n",
       "    Replicated across 4 TPU devices (click to expand)\n",
       "  >,\n",
       "  <Array([34560, 40991, 24043, 45211, 26986], dtype=int32)\n",
       "    <Arrayviz rendering>\n",
       "    Replicated across 4 TPU devices (click to expand)\n",
       "  >],\n",
       " [<Array([30.394947, 10.208616,  9.004849,  8.210366,  8.165597], dtype=float32)\n",
       "    <Arrayviz rendering>\n",
       "    Replicated across 4 TPU devices (click to expand)\n",
       "  >,\n",
       "  <Array([34560, 40991, 24043, 26986, 45211], dtype=int32)\n",
       "    <Arrayviz rendering>\n",
       "    Replicated across 4 TPU devices (click to expand)\n",
       "  >]]"
      ]
     },
     "execution_count": 36,
     "metadata": {},
     "output_type": "execute_result"
    }
   ],
   "source": [
    "k = 5\n",
    "\n",
    "[\n",
    "    jax.lax.top_k(jnp.abs(grad_pursuit(x, sae[\"W_dec\"], k, pos_only=True)[0]), k) for x in tvs\n",
    "]"
   ]
  },
  {
   "cell_type": "code",
   "execution_count": null,
   "metadata": {},
   "outputs": [],
   "source": []
  },
  {
   "cell_type": "code",
   "execution_count": 76,
   "metadata": {},
   "outputs": [
    {
     "name": "stderr",
     "output_type": "stream",
     "text": [
      "  0%|          | 0/1 [00:00<?, ?it/s]"
     ]
    },
    {
     "name": "stdout",
     "output_type": "stream",
     "text": [
      "0.000831604 1.08594\n",
      "sport r chanson face vers check if  half yet fund press if deux groupe if movie allow benefit office raison or bon compagnie ang tr h sept comm ent b tr\n",
      "sport cours chanson vis vers ch si chaque demi encore fond pres si deux gr si film autor av b raison ou bon entre américain support sa sept com soit par ess\n",
      "sport run song face the check ( each half yet fund press ( two group ( movie allow benefit office < or good company amer task her seven committee either by try\n",
      "sport cours chanson vis vers ch si chaque demi encore fond pres si deux gr si film autor av b raison ou bon entre américain support sa sept com soit par ess\n",
      "sport run song face < check ( each half yet fund press ( two group ( movie allow benefit office < or good company amer task her seven committee either by try\n",
      "sport cours chanson vis vers ch si chaque demi encore fond pres si deux gr si film autor av b raison ou bon entre américain support sa sept com soit par ess\n",
      "sport run song face _ check ( one half yet fund press ( two group ( movie allow benefit office  or good company amer task her seven committee either by try\n",
      "sport cours chanson vis vers ch si chaque demi encore fond pres si deux gr si film autor av b raison ou bon entre américain support sa sept com soit par ess\n",
      "sport run song face _ check if each half yet fund press if two group if movie allow benefit office  or good company amer task her seven committee either by try\n",
      "sport cours chanson vis vers ch si chaque demi encore fond pres si deux gr si film autor av b raison ou bon entre américain support sa sept com soit par ess\n",
      "sport run song face  check  one half yet fund press  two group  movie allow benefit office  or good company amer task her seven committee either by try\n",
      "sport cours chanson vis vers ch si chaque demi encore fond pres si deux gr si film autor av b raison ou bon entre américain support sa sept com soit par ess\n",
      "sport run song face < check then each half yet fund press then two group then movie allow benefit office reason or good company amer task her seven committee either by try\n",
      "sport cours chanson vis vers ch si chaque demi encore fond pres si deux gr si film autor av b raison ou bon entre américain support sa sept com soit par ess\n",
      "sport run song fo towards check then each half yet fund press then two group then movie allow benefit office reason or good company amer task her seven committee either by try\n",
      "sport cours chanson vis vers ch si chaque demi encore fond pres si deux gr si film autor av b raison ou bon entre américain support sa sept com soit par ess\n",
      "sport run song face towards check ( each half yet fund press ( two group ( movie allow benefit office ( or good company amer task her seven committee either by try\n",
      "sport cours chanson vis vers ch si chaque demi encore fond pres si deux gr si film autor av b raison ou bon entre américain support sa sept com soit par ess\n",
      "sport run song fo towards check if one half yet fund press if two group if movie allow benefit office reason or good company amer http her seven committee either by try\n",
      "sport cours chanson vis vers ch si chaque demi encore fond pres si deux gr si film autor av b raison ou bon entre américain support sa sept com soit par ess\n",
      "sport run song face towards check if each half yet fund press if two group if movie allow benefit office reason or good company amer http her seven committee either by try\n",
      "sport cours chanson vis vers ch si chaque demi encore fond pres si deux gr si film autor av b raison ou bon entre américain support sa sept com soit par ess\n",
      "sport run song face towards check if each half yet fund press if two group if movie allow benefit office reason or good company amer http her seven committee either by try\n",
      "sport cours chanson vis vers ch si chaque demi encore fond pres si deux gr si film autor av b raison ou bon entre américain support sa sept com soit par ess\n",
      "sport run song face towards check if each half yet fund press if two group if movie allow benefit office reason or good company amer http her seven committee either by try\n",
      "sport cours chanson vis vers ch si chaque demi encore fond pres si deux gr si film autor av b raison ou bon entre américain support sa sept com soit par ess\n",
      "sport run song face towards check if each half yet fund press if two group if movie allow benefit office reason or good company amer follow her seven committee either by try\n",
      "sport cours chanson vis vers ch si chaque demi encore fond pres si deux gr si film autor av b raison ou bon entre américain support sa sept com soit par ess\n",
      "sport run song face towards check if each half yet fund press if two group if movie allow benefit office reason or good company amer follow her seven committee either by try\n",
      "sport cours chanson vis vers ch si chaque demi encore fond pres si deux gr si film autor av b raison ou bon entre américain support sa sept com soit par ess\n",
      "sport run song face towards check if each half yet fund press if two group if movie allow benefit office reason or good company amer follow her seven committee either by try\n",
      "sport cours chanson vis vers ch si chaque demi encore fond pres si deux gr si film autor av b raison ou bon entre américain support sa sept com soit par ess\n",
      "sport run song face towards check if z half yet fund press if two group if movie allow benefit office reason or good company amer follow her seven committee either by try\n",
      "sport cours chanson vis vers ch si chaque demi encore fond pres si deux gr si film autor av b raison ou bon entre américain support sa sept com soit par ess\n",
      "sport run song face towards check if z half yet fund press if two group if movie allow benefit office reason or good company amer follow her seven committee either by try\n",
      "sport cours chanson vis vers ch si chaque demi encore fond pres si deux gr si film autor av b raison ou bon entre américain support sa sept com soit par ess\n",
      "sport run song face towards check if z half yet fund press if two group if movie allow benefit office reason or good company amer follow her seven committee either by try\n",
      "sport cours chanson vis vers ch si chaque demi encore fond pres si deux gr si film autor av b raison ou bon entre américain support sa sept com soit par ess\n",
      "sport run song face towards check if each half yet fund press if two group if movie allow benefit office reason or good company amer follow her seven committee either by try\n",
      "sport cours chanson vis vers ch si chaque demi encore fond pres si deux gr si film autor av b raison ou bon entre américain support sa sept com soit par ess\n",
      "sport run song face towards check if each half yet fund press if two group if movie allow benefit office reason or good company amer follow her seven committee either by try\n",
      "sport cours chanson vis vers ch si chaque demi encore fond pres si deux gr si film autor av b raison ou bon entre américain support sa sept com soit par ess\n",
      "sport run song face towards check if each half yet fund press if two group if movie allow benefit office reason or good company amer follow her seven committee either by try\n",
      "sport cours chanson vis vers ch si chaque demi encore fond pres si deux gr si film autor av b raison ou bon entre américain support sa sept com soit par ess\n",
      "sport run song face towards check if each half yet fund press if two group if movie allow benefit office reason or good company amer follow her seven committee either by try\n",
      "sport cours chanson vis vers ch si chaque demi encore fond pres si deux gr si film autor av b raison ou bon entre américain support sa sept com soit par ess\n",
      "sport run song face towards check if each half yet fund press if two group if movie allow benefit office reason or good company amer follow her seven committee either by try\n",
      "sport cours chanson vis vers ch si chaque demi encore fond pres si deux gr si film autor av b raison ou bon entre américain support sa sept com soit par ess\n",
      "sport run song face towards check if each half yet fund press if two group if movie allow benefit office reason or good company amer follow h seven committee either by try\n",
      "sport cours chanson vis vers ch si chaque demi encore fond pres si deux gr si film autor av b raison ou bon entre américain support sa sept com soit par ess\n"
     ]
    },
    {
     "name": "stderr",
     "output_type": "stream",
     "text": [
      "100%|██████████| 1/1 [02:03<00:00, 123.83s/it]"
     ]
    },
    {
     "name": "stdout",
     "output_type": "stream",
     "text": [
      "sport run song face towards check if each half yet fund press if two group if movie allow benefit office reason or good company amer follow her seven committee either by try\n",
      "sport cours chanson vis vers ch si chaque demi encore fond pres si deux gr si film autor av b raison ou bon entre américain support sa sept com soit par ess\n",
      "orig: [[Array([0, -4.125, -2.125, -6.25, 0, -0.375, 0, 0, 0, -1.125, 0, 0, 0, 0,\n",
      "       0, 0, 0, 0, 0, 0, 0, 0, 0, -16.5, 0, 0, 0, -3.25, 0, 0, 0, -3.625],      dtype=bfloat16)], [Array([ True, False, False, False,  True, False,  True,  True,  True,\n",
      "       False,  True,  True,  True,  True,  True,  True,  True,  True,\n",
      "        True,  True,  True,  True,  True, False,  True,  True,  True,\n",
      "       False,  True,  True,  True, False], dtype=bool)]]\n",
      "sae: [[Array([0, -13.625, -7.4375, -8.625, -6, -2.25, -8.6875, -9.3125, -9,\n",
      "       -8.6875, -4.5, -3, -8.6875, -8.5625, -4.75, -8.6875, -3.375, -7.75,\n",
      "       -8.0625, -5.25, -8.875, -5.6875, -6.4375, -11.25, -8.125, -5.625,\n",
      "       -9.5, -5.375, -3.625, -11.875, -8.625, -10.375], dtype=bfloat16), Array([0, -12.9375, -7, -7.875, -5.5625, -2.125, -8.3125, -8.5, -8.3125,\n",
      "       -8.25, -4.1875, -2.875, -8.3125, -7.75, -4.5, -8.3125, -3.60938,\n",
      "       -7.1875, -7.0625, -4.875, -8.3125, -5.6875, -6.375, -10.5, -7.6875,\n",
      "       -5.09375, -8.6875, -5.3125, -3.125, -11.125, -8.125, -9.8125],      dtype=bfloat16), Array([0, -12.5625, -6.90625, -6.75, -5.34375, -1.61719, -7.625, -8.4375,\n",
      "       -8.375, -7.25, -3.64062, -3.125, -7.625, -7.59375, -4.375, -7.625,\n",
      "       -3.125, -6.6875, -5.46875, -4.3125, -8.375, -5.1875, -5.5625,\n",
      "       -10.125, -7.71875, -4.5, -7.15625, -5.5625, -3.125, -10.5, -6.8125,\n",
      "       -8.75], dtype=bfloat16), Array([0, -12.4375, -6.9375, -6.71875, -5.25, -1.99219, -7.75, -8.25,\n",
      "       -7.90625, -7.53125, -3.9375, -3.125, -7.75, -7.375, -4.5, -7.75,\n",
      "       -2.875, -6.875, -5.75, -4.125, -8, -5.375, -5.6875, -10, -7.46875,\n",
      "       -4.625, -7.8125, -5.625, -3, -10.75, -7.3125, -9.125],      dtype=bfloat16), Array([0, -13.0625, -6.8125, -6.9375, -5.34375, -1.74219, -7.65625,\n",
      "       -8.6875, -8.0625, -7.4375, -3.875, -3.125, -7.65625, -7.6875,\n",
      "       -4.375, -7.65625, -2.875, -6.8125, -6.125, -4.125, -7.96875,\n",
      "       -5.375, -5.3125, -10.125, -7.6875, -4.5625, -7.59375, -5.875,\n",
      "       -2.75, -11.1875, -7.78125, -9.25], dtype=bfloat16), Array([0, -13.125, -6.1875, -7.09375, -5.5625, -1.99219, -7.78125,\n",
      "       -7.9375, -7.90625, -7.46875, -3.85938, -3.375, -7.78125, -7.1875,\n",
      "       -4.375, -7.78125, -2.875, -7.25, -7.34375, -4.25, -7.46875,\n",
      "       -5.8125, -5.4375, -10.3125, -6.875, -4.9375, -8.0625, -6.0625, -3,\n",
      "       -10.8125, -8.0625, -9.625], dtype=bfloat16), Array([0, -13.1875, -6.0625, -7.1875, -5.5625, -1.75, -7.8125, -7.875,\n",
      "       -8.125, -7.625, -3.73438, -3.51562, -7.8125, -6.875, -4.0625,\n",
      "       -7.8125, -3, -7.125, -7.5, -4.5625, -7.375, -5.5625, -5.25,\n",
      "       -10.0625, -6.5625, -4.5, -8.125, -5.875, -2.75, -10.625, -8.75,\n",
      "       -9.875], dtype=bfloat16), Array([0, -12.5625, -4.6875, -7, -5.625, -1.5, -7.4375, -6.15625, -6.8125,\n",
      "       -7.125, -3.375, -2.875, -7.4375, -5.25, -3.125, -7.4375, -3.125,\n",
      "       -6.5625, -8.25, -4.5, -6.5625, -5.1875, -4.1875, -9.375, -5.625,\n",
      "       -4.5625, -8.0625, -4.9375, -2.25, -9.5, -8.6875, -10.1875],      dtype=bfloat16), Array([0, -12.125, -4.3125, -7, -6.75, -1.625, -8.125, -6.5625, -6.3125,\n",
      "       -6.96875, -3.375, -3.125, -8.125, -4.75, -3, -8.125, -3.0625,\n",
      "       -6.375, -9.1875, -4.5625, -6.53125, -5.1875, -3.625, -9.1875,\n",
      "       -5.4375, -4.6875, -7.59375, -4.625, -2.25, -9.6875, -9.0625,\n",
      "       -11.125], dtype=bfloat16), Array([0, -12.0625, -4.125, -6.9375, -7.125, -1.875, -8.5, -6.6875,\n",
      "       -6.125, -7.46875, -3.42188, -3.125, -8.5, -4.9375, -3.125, -8.5,\n",
      "       -2.8125, -6.75, -10.0625, -4.5625, -6.75, -5.5625, -3.95312, -9.5,\n",
      "       -5.5, -4.5, -8.0625, -4.625, -2.375, -10.3125, -9.9375, -11.25],      dtype=bfloat16), Array([0, -11.9375, -4.375, -7, -7.03125, -1.88281, -8.6875, -6.34375,\n",
      "       -6.375, -7.34375, -3.375, -3.375, -8.6875, -4.9375, -3.375,\n",
      "       -8.6875, -3, -6.875, -9.875, -4.75, -6.5, -5.5, -4.0625, -9.5625,\n",
      "       -5.5, -4.9375, -8.1875, -4.625, -2.5, -10.125, -9.625, -11.125],      dtype=bfloat16), Array([0, -12.625, -5.125, -8.3125, -7.8125, -2, -9.5, -6.9375, -7,\n",
      "       -8.4375, -3.375, -3.625, -9.5, -5.4375, -3.5, -9.5, -4, -7.6875,\n",
      "       -11.1875, -5.5, -6.5625, -5.5625, -4.625, -10.4375, -6.0625,\n",
      "       -4.375, -9.375, -4.625, -2.625, -11.1875, -10.9375, -12.25],      dtype=bfloat16), Array([0, -12.6875, -4.9375, -8, -8.3125, -2, -9.6875, -7.15625, -7.3125,\n",
      "       -8.625, -3.45312, -3.60938, -9.6875, -5.3125, -3.6875, -9.6875,\n",
      "       -4.125, -8.0625, -11.6875, -5.75, -6.5, -5.375, -4.6875, -10.75,\n",
      "       -6.1875, -4.625, -9.5625, -4.375, -2.75, -11.4375, -11.125,\n",
      "       -12.1875], dtype=bfloat16), Array([0, -12.75, -5.375, -7.875, -8.3125, -2, -9.625, -7.34375, -7.375,\n",
      "       -8.375, -3.5, -3.375, -9.625, -5.5625, -3.73438, -9.625, -4,\n",
      "       -8.0625, -11.375, -5.5, -6.625, -5.3125, -4.875, -10.75, -6.25,\n",
      "       -4.6875, -9.375, -4.625, -2.375, -11.6875, -10.75, -12.125],      dtype=bfloat16), Array([0, -11.9375, -5, -7.625, -8.375, -2.125, -9.6875, -6.9375, -6.875,\n",
      "       -8.125, -3.625, -3.25, -9.6875, -4.8125, -3.375, -9.6875, -3.625,\n",
      "       -7.8125, -11.5, -5.375, -6, -5.3125, -4.1875, -10.1875, -6, -5.125,\n",
      "       -9.3125, -4.0625, -2.125, -11.125, -11.125, -11.875],      dtype=bfloat16), Array([0, -12.125, -5.5, -7.90625, -8.25, -2.25, -9.625, -7.1875, -6.875,\n",
      "       -8.375, -3.75, -3.5, -9.625, -5.1875, -3.5625, -9.625, -4.0625, -8,\n",
      "       -11.5625, -5.5, -6.1875, -5.3125, -4.5625, -10.375, -6.4375,\n",
      "       -4.9375, -9.5, -4.375, -2.25, -11.4375, -11.25, -12.0625],      dtype=bfloat16), Array([0, -12.25, -5.5625, -7.84375, -8.375, -2.375, -10.125, -7.46875,\n",
      "       -6.9375, -8.4375, -3.76562, -3.625, -10.125, -5.3125, -3.76562,\n",
      "       -10.125, -3.92188, -7.875, -11.5625, -5.5, -6.5, -5.5625, -4.6875,\n",
      "       -10.5, -6.5, -4.75, -9.4375, -4.5, -2.625, -11.625, -11.4375, -12],      dtype=bfloat16), Array([0, -12.625, -5.4375, -7.875, -8.75, -2.5, -10.125, -7.625, -7,\n",
      "       -8.625, -3.98438, -3.73438, -10.125, -5.5, -3.875, -10.125, -3.875,\n",
      "       -8.0625, -12.125, -5.6875, -6.65625, -5.875, -4.625, -10.8125,\n",
      "       -6.8125, -5.4375, -9.625, -4.625, -2.625, -12.125, -11.6875,\n",
      "       -12.125], dtype=bfloat16), Array([0, -12.5, -5.8125, -7.5625, -8.8125, -2.75, -10.25, -8, -7.3125,\n",
      "       -8.8125, -4, -3.875, -10.25, -5.3125, -3.875, -10.25, -3.8125,\n",
      "       -8.125, -11.625, -5.6875, -6.65625, -5.875, -5.125, -10.3125,\n",
      "       -6.9375, -5.0625, -10, -4.6875, -2.625, -12.375, -11.75, -11.9375],      dtype=bfloat16), Array([0, -12.8125, -6.0625, -7.71875, -8.6875, -3, -10.25, -8.5,\n",
      "       -7.78125, -8.75, -4.125, -4.25, -10.25, -5.75, -4.125, -10.25,\n",
      "       -3.98438, -8.4375, -12, -5.625, -6.5625, -6.0625, -5.125, -10.875,\n",
      "       -7.375, -5.25, -10.125, -4.75, -2.875, -12.3125, -11.375, -11.75],      dtype=bfloat16), Array([0, -10.1875, -2.9375, -6.0625, -6.8125, -3, -8.75, -5.8125,\n",
      "       -5.9375, -6.6875, -3.25, -3.73438, -8.75, -2.875, -3.73438, -8.75,\n",
      "       -2.9375, -6.5, -10.4375, -4.375, -4.375, -4.0625, -3.39062, -8.375,\n",
      "       -3.5, -5.0625, -7.28125, -2.875, -2.125, -9, -9.625, -10],      dtype=bfloat16), Array([0, -10, -2.6875, -6, -6.875, -3, -8.75, -5.6875, -5.875, -6.6875,\n",
      "       -3.25, -3.875, -8.75, -2.875, -3.82812, -8.75, -2.9375, -6.6875,\n",
      "       -10.875, -4.1875, -4.4375, -4, -3.25, -8.4375, -3.75, -4.875,\n",
      "       -7.1875, -2.875, -2, -8.75, -9.6875, -10.125], dtype=bfloat16), Array([0, -9.8125, -3.0625, -6.5, -6.8125, -2.875, -8.3125, -5.8125,\n",
      "       -6.625, -7.1875, -2.875, -3.375, -8.3125, -2.5, -3.5625, -8.3125,\n",
      "       -3.5625, -6.875, -11.0625, -4.75, -3.98438, -3.625, -3.35938,\n",
      "       -8.5625, -3.5, -4.6875, -7.5625, -2.5, -1.74219, -8.875, -10.25,\n",
      "       -10.4375], dtype=bfloat16), Array([0, -9.75, -2.5625, -6.375, -7.1875, -3, -8.75, -5.6875, -6.3125,\n",
      "       -7.125, -3.125, -3.625, -8.75, -2.375, -3.6875, -8.75, -3.125,\n",
      "       -6.875, -11.125, -4.5625, -4, -3.76562, -3.125, -8.4375, -3.375,\n",
      "       -5, -7.3125, -2.625, -1.88281, -8.875, -10.4375, -10.375],      dtype=bfloat16), Array([0, -9.8125, -2.6875, -6.6875, -7.53125, -3.125, -8.5625, -5.875,\n",
      "       -6.5, -7.1875, -3.25, -3.625, -8.5625, -2.625, -3.625, -8.5625,\n",
      "       -3.375, -7.125, -11.1875, -4.625, -4.4375, -3.73438, -3.375,\n",
      "       -8.375, -3.5, -4.875, -7.4375, -2.75, -1.88281, -9.1875, -10.375,\n",
      "       -10.5], dtype=bfloat16)], [Array([ True, False, False, False, False, False, False, False, False,\n",
      "       False, False, False, False, False, False, False, False, False,\n",
      "       False, False, False, False, False, False, False, False, False,\n",
      "       False, False, False, False, False], dtype=bool), Array([ True, False, False, False, False, False, False, False, False,\n",
      "       False, False, False, False, False, False, False, False, False,\n",
      "       False, False, False, False, False, False, False, False, False,\n",
      "       False, False, False, False, False], dtype=bool), Array([ True, False, False, False, False, False, False, False, False,\n",
      "       False, False, False, False, False, False, False, False, False,\n",
      "       False, False, False, False, False, False, False, False, False,\n",
      "       False, False, False, False, False], dtype=bool), Array([ True, False, False, False, False, False, False, False, False,\n",
      "       False, False, False, False, False, False, False, False, False,\n",
      "       False, False, False, False, False, False, False, False, False,\n",
      "       False, False, False, False, False], dtype=bool), Array([ True, False, False, False, False, False, False, False, False,\n",
      "       False, False, False, False, False, False, False, False, False,\n",
      "       False, False, False, False, False, False, False, False, False,\n",
      "       False, False, False, False, False], dtype=bool), Array([ True, False, False, False, False, False, False, False, False,\n",
      "       False, False, False, False, False, False, False, False, False,\n",
      "       False, False, False, False, False, False, False, False, False,\n",
      "       False, False, False, False, False], dtype=bool), Array([ True, False, False, False, False, False, False, False, False,\n",
      "       False, False, False, False, False, False, False, False, False,\n",
      "       False, False, False, False, False, False, False, False, False,\n",
      "       False, False, False, False, False], dtype=bool), Array([ True, False, False, False, False, False, False, False, False,\n",
      "       False, False, False, False, False, False, False, False, False,\n",
      "       False, False, False, False, False, False, False, False, False,\n",
      "       False, False, False, False, False], dtype=bool), Array([ True, False, False, False, False, False, False, False, False,\n",
      "       False, False, False, False, False, False, False, False, False,\n",
      "       False, False, False, False, False, False, False, False, False,\n",
      "       False, False, False, False, False], dtype=bool), Array([ True, False, False, False, False, False, False, False, False,\n",
      "       False, False, False, False, False, False, False, False, False,\n",
      "       False, False, False, False, False, False, False, False, False,\n",
      "       False, False, False, False, False], dtype=bool), Array([ True, False, False, False, False, False, False, False, False,\n",
      "       False, False, False, False, False, False, False, False, False,\n",
      "       False, False, False, False, False, False, False, False, False,\n",
      "       False, False, False, False, False], dtype=bool), Array([ True, False, False, False, False, False, False, False, False,\n",
      "       False, False, False, False, False, False, False, False, False,\n",
      "       False, False, False, False, False, False, False, False, False,\n",
      "       False, False, False, False, False], dtype=bool), Array([ True, False, False, False, False, False, False, False, False,\n",
      "       False, False, False, False, False, False, False, False, False,\n",
      "       False, False, False, False, False, False, False, False, False,\n",
      "       False, False, False, False, False], dtype=bool), Array([ True, False, False, False, False, False, False, False, False,\n",
      "       False, False, False, False, False, False, False, False, False,\n",
      "       False, False, False, False, False, False, False, False, False,\n",
      "       False, False, False, False, False], dtype=bool), Array([ True, False, False, False, False, False, False, False, False,\n",
      "       False, False, False, False, False, False, False, False, False,\n",
      "       False, False, False, False, False, False, False, False, False,\n",
      "       False, False, False, False, False], dtype=bool), Array([ True, False, False, False, False, False, False, False, False,\n",
      "       False, False, False, False, False, False, False, False, False,\n",
      "       False, False, False, False, False, False, False, False, False,\n",
      "       False, False, False, False, False], dtype=bool), Array([ True, False, False, False, False, False, False, False, False,\n",
      "       False, False, False, False, False, False, False, False, False,\n",
      "       False, False, False, False, False, False, False, False, False,\n",
      "       False, False, False, False, False], dtype=bool), Array([ True, False, False, False, False, False, False, False, False,\n",
      "       False, False, False, False, False, False, False, False, False,\n",
      "       False, False, False, False, False, False, False, False, False,\n",
      "       False, False, False, False, False], dtype=bool), Array([ True, False, False, False, False, False, False, False, False,\n",
      "       False, False, False, False, False, False, False, False, False,\n",
      "       False, False, False, False, False, False, False, False, False,\n",
      "       False, False, False, False, False], dtype=bool), Array([ True, False, False, False, False, False, False, False, False,\n",
      "       False, False, False, False, False, False, False, False, False,\n",
      "       False, False, False, False, False, False, False, False, False,\n",
      "       False, False, False, False, False], dtype=bool), Array([ True, False, False, False, False, False, False, False, False,\n",
      "       False, False, False, False, False, False, False, False, False,\n",
      "       False, False, False, False, False, False, False, False, False,\n",
      "       False, False, False, False, False], dtype=bool), Array([ True, False, False, False, False, False, False, False, False,\n",
      "       False, False, False, False, False, False, False, False, False,\n",
      "       False, False, False, False, False, False, False, False, False,\n",
      "       False, False, False, False, False], dtype=bool), Array([ True, False, False, False, False, False, False, False, False,\n",
      "       False, False, False, False, False, False, False, False, False,\n",
      "       False, False, False, False, False, False, False, False, False,\n",
      "       False, False, False, False, False], dtype=bool), Array([ True, False, False, False, False, False, False, False, False,\n",
      "       False, False, False, False, False, False, False, False, False,\n",
      "       False, False, False, False, False, False, False, False, False,\n",
      "       False, False, False, False, False], dtype=bool), Array([ True, False, False, False, False, False, False, False, False,\n",
      "       False, False, False, False, False, False, False, False, False,\n",
      "       False, False, False, False, False, False, False, False, False,\n",
      "       False, False, False, False, False], dtype=bool)]]\n",
      "added: [[Array([0, -5.3125, 0, -2.125, 0, -2.3125, -1.875, -0.125, -1.125, -3.75,\n",
      "       -0.6875, -2.5625, -1.875, 0, -3.375, -1.875, -1.0625, -1.49219,\n",
      "       -4.5, -2.375, 0, -2.0625, 0, -5.875, 0, -4.96875, -2.3125, 0,\n",
      "       -0.125, -3.6875, -1.75, -5.125], dtype=bfloat16)], [Array([ True, False,  True, False,  True, False, False, False, False,\n",
      "       False, False, False, False,  True, False, False, False, False,\n",
      "       False, False,  True, False,  True, False,  True, False, False,\n",
      "        True, False, False, False, False], dtype=bool)]]\n",
      "orig: [[Array(-1.17188, dtype=bfloat16)], [Array(0.75, dtype=float32)]]\n",
      "sae: [[Array(-7.25, dtype=bfloat16), Array(-6.78125, dtype=bfloat16), Array(-6.3125, dtype=bfloat16), Array(-6.375, dtype=bfloat16), Array(-6.4375, dtype=bfloat16), Array(-6.5, dtype=bfloat16), Array(-6.4375, dtype=bfloat16), Array(-5.9375, dtype=bfloat16), Array(-6, dtype=bfloat16), Array(-6.21875, dtype=bfloat16), Array(-6.25, dtype=bfloat16), Array(-6.875, dtype=bfloat16), Array(-6.96875, dtype=bfloat16), Array(-6.96875, dtype=bfloat16), Array(-6.75, dtype=bfloat16), Array(-6.90625, dtype=bfloat16), Array(-7.03125, dtype=bfloat16), Array(-7.21875, dtype=bfloat16), Array(-7.25, dtype=bfloat16), Array(-7.40625, dtype=bfloat16), Array(-5.65625, dtype=bfloat16), Array(-5.65625, dtype=bfloat16), Array(-5.65625, dtype=bfloat16), Array(-5.6875, dtype=bfloat16), Array(-5.78125, dtype=bfloat16)], [Array(0.03125, dtype=float32), Array(0.03125, dtype=float32), Array(0.03125, dtype=float32), Array(0.03125, dtype=float32), Array(0.03125, dtype=float32), Array(0.03125, dtype=float32), Array(0.03125, dtype=float32), Array(0.03125, dtype=float32), Array(0.03125, dtype=float32), Array(0.03125, dtype=float32), Array(0.03125, dtype=float32), Array(0.03125, dtype=float32), Array(0.03125, dtype=float32), Array(0.03125, dtype=float32), Array(0.03125, dtype=float32), Array(0.03125, dtype=float32), Array(0.03125, dtype=float32), Array(0.03125, dtype=float32), Array(0.03125, dtype=float32), Array(0.03125, dtype=float32), Array(0.03125, dtype=float32), Array(0.03125, dtype=float32), Array(0.03125, dtype=float32), Array(0.03125, dtype=float32), Array(0.03125, dtype=float32)]]\n",
      "added: [[Array(-1.94531, dtype=bfloat16)], [Array(0.25, dtype=float32)]]\n"
     ]
    },
    {
     "name": "stderr",
     "output_type": "stream",
     "text": [
      "\n"
     ]
    }
   ],
   "source": [
    "\n",
    "task_names = [\n",
    "    \"en_fr\"\n",
    "]\n",
    "\n",
    "layer = 18\n",
    "\n",
    "for task in tqdm(task_names):\n",
    "    shot_logprobs_orig = [[] for _ in range(2)]\n",
    "    shot_logprobs_added = [[] for _ in range(2)]\n",
    "    shot_logprobs_sae = [[] for _ in range(2)]\n",
    "\n",
    "    pairs = tasks[task]\n",
    "    pairs = [list(x) for x in pairs.items()]\n",
    "    dataset = ICLDataset(pairs, size=batch_size, n_prepended=n_few_shots, bidirectional=False, seed=10)\n",
    "\n",
    "    tokenized = tokenizer.batch_encode_plus([prompt.format(x) for x in dataset.prompts], padding=\"longest\", max_length=max_seq_len, truncation=True, return_tensors=\"np\")\n",
    "    inputs = tokenized_to_inputs(\n",
    "        **tokenized\n",
    "    )\n",
    "    \n",
    "    logits, resids = get_resids_call(inputs)\n",
    "\n",
    "    tokens = tokenized[\"input_ids\"]\n",
    "\n",
    "    shot_logprobs_orig[0].append(\n",
    "        get_logprob_diff(logits.unwrap(\"batch\", \"seq\", \"vocabulary\"), dataset.completions, print_results=False)\n",
    "    )\n",
    "\n",
    "    shot_logprobs_orig[1].append(\n",
    "        shot_logprobs_orig[0][-1] == 0.\n",
    "    )\n",
    "\n",
    "    mask = inputs.tokens == 1599\n",
    "    mask = mask.unwrap(\"batch\", \"seq\")\n",
    "\n",
    "    tv = resids[layer].value.unwrap(\"batch\", \"seq\", \"embedding\")[\n",
    "        mask\n",
    "    ]\n",
    "\n",
    "    tv = tv.mean(\n",
    "        axis=0\n",
    "    )\n",
    "\n",
    "    print(\n",
    "        tv.mean(), tv.std()\n",
    "    )\n",
    "\n",
    "    act_add = add_vector(\n",
    "        llama, tv, layer, scale=2.0, position=\"last\"\n",
    "    )\n",
    "\n",
    "    pairs = tasks[task]\n",
    "    pairs = [list(x) for x in pairs.items()]\n",
    "    dataset = ICLDataset(pairs, size=batch_size, n_prepended=0, bidirectional=False, seed=11)\n",
    "\n",
    "\n",
    "    tokenized = tokenizer.batch_encode_plus([prompt.format(x) for x in dataset.prompts], padding=\"longest\", max_length=max_seq_len, truncation=True, return_tensors=\"np\")\n",
    "    inputs = tokenized_to_inputs(\n",
    "        **tokenized\n",
    "    )\n",
    "\n",
    "    logits = act_add(inputs)\n",
    "\n",
    "    tokens = tokenized[\"input_ids\"]\n",
    "\n",
    "    shot_logprobs_added[0].append(\n",
    "        get_logprob_diff(logits.unwrap(\"batch\", \"seq\", \"vocabulary\"), dataset.completions, print_results=True)\n",
    "    )\n",
    "\n",
    "    shot_logprobs_added[1].append(\n",
    "        shot_logprobs_added[0][-1] == 0.\n",
    "    )\n",
    "\n",
    "    for k in range(5, 30):\n",
    "        weights, recon = grad_pursuit(tv * 2, sae[\"W_dec\"], k, pos_only=True)\n",
    "\n",
    "        act_add = add_vector(\n",
    "            llama, recon.astype('bfloat16'), layer, scale=1.0, position=\"last\"\n",
    "        )\n",
    "\n",
    "        logits = act_add(inputs)\n",
    "        \n",
    "        shot_logprobs_sae[0].append(\n",
    "            get_logprob_diff(logits.unwrap(\"batch\", \"seq\", \"vocabulary\"), dataset.completions, print_results=True)\n",
    "        )\n",
    "\n",
    "        shot_logprobs_sae[1].append(\n",
    "            shot_logprobs_sae[0][-1] == 0.\n",
    "        )\n",
    "        \n",
    "    print(f\"orig: {shot_logprobs_orig}\")\n",
    "    print(f\"sae: {shot_logprobs_sae}\")\n",
    "    print(f\"added: {shot_logprobs_added}\")\n",
    "\n",
    "\n",
    "    shot_logprobs_orig = [list(map(np.mean, x)) for x in shot_logprobs_orig]\n",
    "    shot_logprobs_sae = [list(map(np.mean, x)) for x in shot_logprobs_sae]\n",
    "    shot_logprobs_added = [list(map(np.mean, x)) for x in shot_logprobs_added]\n",
    "\n",
    "\n",
    "print(f\"orig: {shot_logprobs_orig}\")\n",
    "print(f\"sae: {shot_logprobs_sae}\")\n",
    "print(f\"added: {shot_logprobs_added}\")"
   ]
  },
  {
   "cell_type": "code",
   "execution_count": 77,
   "metadata": {},
   "outputs": [
    {
     "data": {
      "text/html": [
       "<div id=\"output_4b85c87525874761b89215ed0afa2cbf\"><script> /* penzai.treescope rendering of a Python object (compressed) */ (()=>{ let observer; let lastStep = new Promise((resolve, reject) => { observer = new IntersectionObserver((entries) => { for (const entry of entries) { if (entry.isIntersecting) { resolve(); observer.disconnect(); return; } } }, {rootMargin: \"1000px\"}); }); window.treescope_decompress_enqueue = (encoded, destId) => { const previous = lastStep; const destElt = document.getElementById(destId); lastStep = (async () => { await previous; let blob = new Blob([ Uint8Array.from(atob(encoded), (m) => m.codePointAt(0)) ]); let reader = blob.stream().pipeThrough( new DecompressionStream(\"deflate\") ).pipeThrough( new TextDecoderStream(\"utf-8\") ).getReader(); let parts = []; while (true) { let step = await reader.read(); if (step.done) { break; } parts.push(step.value); } let newElt = document.createElement(\"div\"); newElt.innerHTML = parts.join(\"\"); destElt.parentNode.replaceChild(newElt, destElt); for (let oldScript of newElt.querySelectorAll(\"script\")) { let newScript = document.createElement(\"script\"); newScript.type = oldScript.type; newScript.textContent = oldScript.textContent; oldScript.parentNode.replaceChild(newScript, oldScript); } })(); requestAnimationFrame(() => { observer.observe(destElt); }); } })(); </script><div id=\"compress_html_0c7e15073760491e90dd99fac63b0b65\"><script>window.treescope_decompress_enqueue(\"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\", \"compress_html_0c7e15073760491e90dd99fac63b0b65\");</script><span style=\"color: #aaaaaa; font-family: monospace\">(Loading...)</span></div></div>"
      ],
      "text/plain": [
       "<IPython.core.display.HTML object>"
      ]
     },
     "metadata": {},
     "output_type": "display_data"
    },
    {
     "data": {
      "text/html": [
       "<div id=\"compress_html_e0943f0522834de39e7a5556e1ffa50a\"><script>window.treescope_decompress_enqueue(\"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\", \"compress_html_e0943f0522834de39e7a5556e1ffa50a\");</script></div>"
      ],
      "text/plain": [
       "<IPython.core.display.HTML object>"
      ]
     },
     "metadata": {},
     "output_type": "display_data"
    },
    {
     "data": {
      "text/html": [
       "<div id=\"output_dest_4b85c87525874761b89215ed0afa2cbf\"><script> (()=>{ const output = document.getElementById(\"output_4b85c87525874761b89215ed0afa2cbf\"); const dest = document.getElementById(\"output_dest_4b85c87525874761b89215ed0afa2cbf\"); dest.parentNode.replaceChild(output, dest); })(); </script></div>"
      ],
      "text/plain": [
       "[[<jax.Array(-7.25, dtype=bfloat16)>,\n",
       "  <jax.Array(-6.78125, dtype=bfloat16)>,\n",
       "  <jax.Array(-6.3125, dtype=bfloat16)>,\n",
       "  <jax.Array(-6.375, dtype=bfloat16)>,\n",
       "  <jax.Array(-6.4375, dtype=bfloat16)>,\n",
       "  <jax.Array(-6.5, dtype=bfloat16)>,\n",
       "  <jax.Array(-6.4375, dtype=bfloat16)>,\n",
       "  <jax.Array(-5.9375, dtype=bfloat16)>,\n",
       "  <jax.Array(-6, dtype=bfloat16)>,\n",
       "  <jax.Array(-6.21875, dtype=bfloat16)>,\n",
       "  <jax.Array(-6.25, dtype=bfloat16)>,\n",
       "  <jax.Array(-6.875, dtype=bfloat16)>,\n",
       "  <jax.Array(-6.96875, dtype=bfloat16)>,\n",
       "  <jax.Array(-6.96875, dtype=bfloat16)>,\n",
       "  <jax.Array(-6.75, dtype=bfloat16)>,\n",
       "  <jax.Array(-6.90625, dtype=bfloat16)>,\n",
       "  <jax.Array(-7.03125, dtype=bfloat16)>,\n",
       "  <jax.Array(-7.21875, dtype=bfloat16)>,\n",
       "  <jax.Array(-7.25, dtype=bfloat16)>,\n",
       "  <jax.Array(-7.40625, dtype=bfloat16)>,\n",
       "  <jax.Array(-5.65625, dtype=bfloat16)>,\n",
       "  <jax.Array(-5.65625, dtype=bfloat16)>,\n",
       "  <jax.Array(-5.65625, dtype=bfloat16)>,\n",
       "  <jax.Array(-5.6875, dtype=bfloat16)>,\n",
       "  <jax.Array(-5.78125, dtype=bfloat16)>],\n",
       " [<jax.Array(0.03125, dtype=float32)>,\n",
       "  <jax.Array(0.03125, dtype=float32)>,\n",
       "  <jax.Array(0.03125, dtype=float32)>,\n",
       "  <jax.Array(0.03125, dtype=float32)>,\n",
       "  <jax.Array(0.03125, dtype=float32)>,\n",
       "  <jax.Array(0.03125, dtype=float32)>,\n",
       "  <jax.Array(0.03125, dtype=float32)>,\n",
       "  <jax.Array(0.03125, dtype=float32)>,\n",
       "  <jax.Array(0.03125, dtype=float32)>,\n",
       "  <jax.Array(0.03125, dtype=float32)>,\n",
       "  <jax.Array(0.03125, dtype=float32)>,\n",
       "  <jax.Array(0.03125, dtype=float32)>,\n",
       "  <jax.Array(0.03125, dtype=float32)>,\n",
       "  <jax.Array(0.03125, dtype=float32)>,\n",
       "  <jax.Array(0.03125, dtype=float32)>,\n",
       "  <jax.Array(0.03125, dtype=float32)>,\n",
       "  <jax.Array(0.03125, dtype=float32)>,\n",
       "  <jax.Array(0.03125, dtype=float32)>,\n",
       "  <jax.Array(0.03125, dtype=float32)>,\n",
       "  <jax.Array(0.03125, dtype=float32)>,\n",
       "  <jax.Array(0.03125, dtype=float32)>,\n",
       "  <jax.Array(0.03125, dtype=float32)>,\n",
       "  <jax.Array(0.03125, dtype=float32)>,\n",
       "  <jax.Array(0.03125, dtype=float32)>,\n",
       "  <jax.Array(0.03125, dtype=float32)>]]"
      ]
     },
     "execution_count": 77,
     "metadata": {},
     "output_type": "execute_result"
    },
    {
     "ename": "",
     "evalue": "",
     "output_type": "error",
     "traceback": [
      "\u001b[1;31mThe Kernel crashed while executing code in the current cell or a previous cell. \n",
      "\u001b[1;31mPlease review the code in the cell(s) to identify a possible cause of the failure. \n",
      "\u001b[1;31mClick <a href='https://aka.ms/vscodeJupyterKernelCrash'>here</a> for more info. \n",
      "\u001b[1;31mView Jupyter <a href='command:jupyter.viewOutput'>log</a> for further details."
     ]
    }
   ],
   "source": [
    "shot_logprobs_sae"
   ]
  },
  {
   "cell_type": "code",
   "execution_count": 34,
   "metadata": {},
   "outputs": [
    {
     "data": {
      "text/html": [
       "<div id=\"output_71dad0d1139c4d638e7aad6037706dc2\"><script> /* penzai.treescope rendering of a Python object (compressed) */ (()=>{ let observer; let lastStep = new Promise((resolve, reject) => { observer = new IntersectionObserver((entries) => { for (const entry of entries) { if (entry.isIntersecting) { resolve(); observer.disconnect(); return; } } }, {rootMargin: \"1000px\"}); }); window.treescope_decompress_enqueue = (encoded, destId) => { const previous = lastStep; const destElt = document.getElementById(destId); lastStep = (async () => { await previous; let blob = new Blob([ Uint8Array.from(atob(encoded), (m) => m.codePointAt(0)) ]); let reader = blob.stream().pipeThrough( new DecompressionStream(\"deflate\") ).pipeThrough( new TextDecoderStream(\"utf-8\") ).getReader(); let parts = []; while (true) { let step = await reader.read(); if (step.done) { break; } parts.push(step.value); } let newElt = document.createElement(\"div\"); newElt.innerHTML = parts.join(\"\"); destElt.parentNode.replaceChild(newElt, destElt); for (let oldScript of newElt.querySelectorAll(\"script\")) { let newScript = document.createElement(\"script\"); newScript.type = oldScript.type; newScript.textContent = oldScript.textContent; oldScript.parentNode.replaceChild(newScript, oldScript); } })(); requestAnimationFrame(() => { observer.observe(destElt); }); } })(); </script><div id=\"compress_html_9837a701eec24372bb3decd53876f44b\"><script>window.treescope_decompress_enqueue(\"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\", \"compress_html_9837a701eec24372bb3decd53876f44b\");</script><span style=\"color: #aaaaaa; font-family: monospace\">(Loading...)</span></div></div>"
      ],
      "text/plain": [
       "<IPython.core.display.HTML object>"
      ]
     },
     "metadata": {},
     "output_type": "display_data"
    },
    {
     "data": {
      "text/html": [
       "<div id=\"compress_html_1cdd4836a5334d2380621b9f26e343b9\"><script>window.treescope_decompress_enqueue(\"eNrtWG1v2zYQ/iuEgjVSG6tWYid+iQ1s6Qb0Sz8MA/ahKASKpCzOtKhRtJO06H/fkZQly3YcN0tTDFgC2JZ47/fw7shryleo1PeCTTzKy0Lg+xHKZc48xOnES6WKKUuZUozGKb6IGElIgnuDXpoMcdIbnOMUd3skvUh7V970uixwDp9G3jRMpNZyIXjORrnUfphKQXEiWJxLykYZLv2pwAkT0/ZKrOVsJhzPiGSMzBkNAvQ6QF9QgSnl+ayjZTFC3TDqs8UYGQ2djPFZpkcoCu27ryGRAozHSaLYCjjt4widXILJ3W5DQORiwXId32Ysj9kd2E8ZfTZ711qx/Wu05stFwtQGQXc4iPqXDUGpFfi5KeEi6kf9mgDSYdxuCBKByXyMEvicKbnMaadaWGHldzqJkGTuXgVAJRVlykUxKu5QKQWnhyhdKh8j/orC7L5gCiybx4otpGZxJlfg6LbRu2bKuSCZP+j9ZNLa66OoO3QSb3EZl0RJIYBdyzDlqtSx5mR+tNRhL4yM3O4QRReX4dVewTZ/B9UFOwq1wnnJNZf5aEc5ikrEcMk6PO/IpT5Dqcx159bCdGvNZDUjWQy7h7BYsFRvQN08Gqz3SdamU1ZSQ6jcBqgpOSA512Asybh4PkjXVcLmfowWWM3ADWcmwYL45yRDHQMVF+e2HYrl382UCqzOFAqQZdQi9oR1zb8Jyt9LLHK8YHGhWMrvQIhNS8k/MxO6gasdpcZGT21xnXenAU1Rm+TFg9sNeyRz4X3E1pcJtqsJ1qq9laFVt60fAFORodfIj8CdTZZKbglULAiCOgYNa+d43rXedf2ynLXI9dtO9foFo9lUYBvBjsKUL8vKwYgtwLuHHbOW/jsjHoX4l1aTcPk1e+mIJnGY+GsIEr/LUNAk+dBcYBu9rdPQYotNYJuxx4ZWK8ZKIguosVLqsCaOF2AJOiCB50an6y6GCKx9lPAYZQ/KqUy+futGLjt/ISJwWU68tpnVcLae9VpZgfGCJoNeH4/34Q0COvbaolupQbyMXZeUuW2MQOxSeM3zYqmRhplg4tmkJfLO2yukyi+wvrVMbX3NVKFh5zLtIYo17szZfYF1NvG2zGt16QptqN1gvWNiVS1u9QxvWrD8M+ZN5mDvFGBJCeNOioUwk0AIKbGzsPv6IPXva+mFcdpvr1+/rSK2offUSE2WgOn8FMn8RsAMMjltlGYwqkL0DFVMzKKvM14Gpy425vXE8wVeJBQjA62R/Qy8BgI14Qid7qE8HaOKBueAQOzmnNMbYEAm7vC7Hvnb3mxGb7vQoHah8Q5Q75BKmHF4jgUMl4WafBNEwhbvPsBUM7c3fXVyd341/lkpfO93zsOLq/4ZohbESSok1tFl4EjaXp/tIgrkClyUjHpTtC82rUOH9wLZb0fheCxs8T0dGUfi5OHMw6n0iXnndG/W3VHMmw575xdRt9/r94bDy8F/ObWcPiWxwPUD02q31xMTa3gPNajn70cHrg68gzA42YuVnQbzF75bNxBbhg50iUNA83aOXgfXvenzJWDz9gUqqtBju4Bc4TT+Wcfc46uZHh+A0A/cSsazp2wmy/dc2+nYrbYVp7P/Y3lU2FrTYnNnibZuWrxp8G2ZaA3tj26Peks8OHLsbpL1F+UrEE9AjZ76foAmU/SFyLyEUmd37ntaogn66B1/k/tp7PhNJoD1FgqFvN0YeEFo3D64+IhKsjT10Cz+Kpj5+cv9e+rXNnzsfjJnVyc5VXhmSEB6zUgUw5q9qx5/qyj8msfouRFw5AGmNX+ICxjH6Y0pYL4FDjEUH6CG+1ot7Wk5lQr5gmnEgbE7hq/rJjKhYPlMw+mfv3ljTpOGzi1uannQJ/4JFBieUi4VYe/4atOjLTZ7n+6hN2iL3z2GMFsJwNufXGd+Lc7dQFZSrJvA0Kyaa9YV8+2dgDtAbgipA2aWA0MEmHE4WeNlJ7Us/3vJluxdhZU/2ALkaVb6Qc37Dyw6kwU=\", \"compress_html_1cdd4836a5334d2380621b9f26e343b9\");</script></div>"
      ],
      "text/plain": [
       "<IPython.core.display.HTML object>"
      ]
     },
     "metadata": {},
     "output_type": "display_data"
    },
    {
     "data": {
      "text/html": [
       "<div id=\"output_dest_71dad0d1139c4d638e7aad6037706dc2\"><script> (()=>{ const output = document.getElementById(\"output_71dad0d1139c4d638e7aad6037706dc2\"); const dest = document.getElementById(\"output_dest_71dad0d1139c4d638e7aad6037706dc2\"); dest.parentNode.replaceChild(output, dest); })(); </script></div>"
      ],
      "text/plain": [
       "<jax.Array(-2.375, dtype=bfloat16)>"
      ]
     },
     "execution_count": 34,
     "metadata": {},
     "output_type": "execute_result"
    }
   ],
   "source": [
    "shot_logprobs_sae[0][18]"
   ]
  },
  {
   "cell_type": "code",
   "execution_count": 40,
   "metadata": {},
   "outputs": [
    {
     "data": {
      "text/html": [
       "<div id=\"output_029a3a9342c74bd29c298eb46d2cfdd4\"><script> /* penzai.treescope rendering of a Python object (compressed) */ (()=>{ let observer; let lastStep = new Promise((resolve, reject) => { observer = new IntersectionObserver((entries) => { for (const entry of entries) { if (entry.isIntersecting) { resolve(); observer.disconnect(); return; } } }, {rootMargin: \"1000px\"}); }); window.treescope_decompress_enqueue = (encoded, destId) => { const previous = lastStep; const destElt = document.getElementById(destId); lastStep = (async () => { await previous; let blob = new Blob([ Uint8Array.from(atob(encoded), (m) => m.codePointAt(0)) ]); let reader = blob.stream().pipeThrough( new DecompressionStream(\"deflate\") ).pipeThrough( new TextDecoderStream(\"utf-8\") ).getReader(); let parts = []; while (true) { let step = await reader.read(); if (step.done) { break; } parts.push(step.value); } let newElt = document.createElement(\"div\"); newElt.innerHTML = parts.join(\"\"); destElt.parentNode.replaceChild(newElt, destElt); for (let oldScript of newElt.querySelectorAll(\"script\")) { let newScript = document.createElement(\"script\"); newScript.type = oldScript.type; newScript.textContent = oldScript.textContent; oldScript.parentNode.replaceChild(newScript, oldScript); } })(); requestAnimationFrame(() => { observer.observe(destElt); }); } })(); </script><div id=\"compress_html_549b3ae3aad84858bd0a3ce2f82b236e\"><script>window.treescope_decompress_enqueue(\"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\", \"compress_html_549b3ae3aad84858bd0a3ce2f82b236e\");</script><span style=\"color: #aaaaaa; font-family: monospace\">(Loading...)</span></div></div>"
      ],
      "text/plain": [
       "<IPython.core.display.HTML object>"
      ]
     },
     "metadata": {},
     "output_type": "display_data"
    },
    {
     "data": {
      "text/html": [
       "<div id=\"compress_html_c6662c0687f14e35a7a3d40554471e9d\"><script>window.treescope_decompress_enqueue(\"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\", \"compress_html_c6662c0687f14e35a7a3d40554471e9d\");</script></div>"
      ],
      "text/plain": [
       "<IPython.core.display.HTML object>"
      ]
     },
     "metadata": {},
     "output_type": "display_data"
    },
    {
     "data": {
      "text/html": [
       "<div id=\"output_dest_029a3a9342c74bd29c298eb46d2cfdd4\"><script> (()=>{ const output = document.getElementById(\"output_029a3a9342c74bd29c298eb46d2cfdd4\"); const dest = document.getElementById(\"output_dest_029a3a9342c74bd29c298eb46d2cfdd4\"); dest.parentNode.replaceChild(output, dest); })(); </script></div>"
      ],
      "text/plain": [
       "<jax.Array int32(19,) [≥658, ≤45_211] nonzero:19\n",
       "  <Arrayviz rendering>\n",
       "  Replicated across 4 TPU devices (click to expand)\n",
       ">"
      ]
     },
     "execution_count": 40,
     "metadata": {},
     "output_type": "execute_result"
    }
   ],
   "source": [
    "k = 19\n",
    "\n",
    "weights, recon = grad_pursuit(tvs[0], sae[\"W_dec\"], k, pos_only=True)\n",
    "w, i = jax.lax.top_k(jnp.abs(weights), k)\n",
    "\n",
    "i"
   ]
  },
  {
   "cell_type": "code",
   "execution_count": 38,
   "metadata": {},
   "outputs": [
    {
     "data": {
      "text/html": [
       "<div id=\"output_de68e2952fb14542830f4ff0ea5b40cf\"><script> /* penzai.treescope rendering of a Python object (compressed) */ (()=>{ let observer; let lastStep = new Promise((resolve, reject) => { observer = new IntersectionObserver((entries) => { for (const entry of entries) { if (entry.isIntersecting) { resolve(); observer.disconnect(); return; } } }, {rootMargin: \"1000px\"}); }); window.treescope_decompress_enqueue = (encoded, destId) => { const previous = lastStep; const destElt = document.getElementById(destId); lastStep = (async () => { await previous; let blob = new Blob([ Uint8Array.from(atob(encoded), (m) => m.codePointAt(0)) ]); let reader = blob.stream().pipeThrough( new DecompressionStream(\"deflate\") ).pipeThrough( new TextDecoderStream(\"utf-8\") ).getReader(); let parts = []; while (true) { let step = await reader.read(); if (step.done) { break; } parts.push(step.value); } let newElt = document.createElement(\"div\"); newElt.innerHTML = parts.join(\"\"); destElt.parentNode.replaceChild(newElt, destElt); for (let oldScript of newElt.querySelectorAll(\"script\")) { let newScript = document.createElement(\"script\"); newScript.type = oldScript.type; newScript.textContent = oldScript.textContent; oldScript.parentNode.replaceChild(newScript, oldScript); } })(); requestAnimationFrame(() => { observer.observe(destElt); }); } })(); </script><div id=\"compress_html_4e757d1b385a4eeca4075f7f6807ef66\"><script>window.treescope_decompress_enqueue(\"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\", \"compress_html_4e757d1b385a4eeca4075f7f6807ef66\");</script><span style=\"color: #aaaaaa; font-family: monospace\">(Loading...)</span></div></div>"
      ],
      "text/plain": [
       "<IPython.core.display.HTML object>"
      ]
     },
     "metadata": {},
     "output_type": "display_data"
    },
    {
     "data": {
      "text/html": [
       "<div id=\"compress_html_13c1cf72a6e44c7997df706326c8c0d5\"><script>window.treescope_decompress_enqueue(\"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\", \"compress_html_13c1cf72a6e44c7997df706326c8c0d5\");</script></div>"
      ],
      "text/plain": [
       "<IPython.core.display.HTML object>"
      ]
     },
     "metadata": {},
     "output_type": "display_data"
    },
    {
     "data": {
      "text/html": [
       "<div id=\"output_dest_de68e2952fb14542830f4ff0ea5b40cf\"><script> (()=>{ const output = document.getElementById(\"output_de68e2952fb14542830f4ff0ea5b40cf\"); const dest = document.getElementById(\"output_dest_de68e2952fb14542830f4ff0ea5b40cf\"); dest.parentNode.replaceChild(output, dest); })(); </script></div>"
      ],
      "text/plain": [
       "<jax.Array float32(18,) ≈7.4 ±3.2 [≥4.4, ≤1.9e+01] nonzero:18\n",
       "  <Arrayviz rendering>\n",
       "  Replicated across 4 TPU devices (click to expand)\n",
       ">"
      ]
     },
     "execution_count": 38,
     "metadata": {},
     "output_type": "execute_result"
    }
   ],
   "source": [
    "w"
   ]
  },
  {
   "cell_type": "code",
   "execution_count": null,
   "metadata": {},
   "outputs": [],
   "source": [
    "#37312"
   ]
  },
  {
   "cell_type": "code",
   "execution_count": 45,
   "metadata": {},
   "outputs": [
    {
     "name": "stdout",
     "output_type": "stream",
     "text": [
      "oficial number ab datos ii conoc c población hel dec g h orden tra hel republic cor ok for camb\n",
      "oficial mes padre información i reun club población inf siglo ad cal ped tra inf republic cor ok por cambio\n"
     ]
    },
    {
     "data": {
      "text/html": [
       "<div id=\"output_fed5bc4269c74386b8650cbf8bbaa7f7\"><script> /* penzai.treescope rendering of a Python object (compressed) */ (()=>{ let observer; let lastStep = new Promise((resolve, reject) => { observer = new IntersectionObserver((entries) => { for (const entry of entries) { if (entry.isIntersecting) { resolve(); observer.disconnect(); return; } } }, {rootMargin: \"1000px\"}); }); window.treescope_decompress_enqueue = (encoded, destId) => { const previous = lastStep; const destElt = document.getElementById(destId); lastStep = (async () => { await previous; let blob = new Blob([ Uint8Array.from(atob(encoded), (m) => m.codePointAt(0)) ]); let reader = blob.stream().pipeThrough( new DecompressionStream(\"deflate\") ).pipeThrough( new TextDecoderStream(\"utf-8\") ).getReader(); let parts = []; while (true) { let step = await reader.read(); if (step.done) { break; } parts.push(step.value); } let newElt = document.createElement(\"div\"); newElt.innerHTML = parts.join(\"\"); destElt.parentNode.replaceChild(newElt, destElt); for (let oldScript of newElt.querySelectorAll(\"script\")) { let newScript = document.createElement(\"script\"); newScript.type = oldScript.type; newScript.textContent = oldScript.textContent; oldScript.parentNode.replaceChild(newScript, oldScript); } })(); requestAnimationFrame(() => { observer.observe(destElt); }); } })(); </script><div id=\"compress_html_55f368a63bc84f408800a73259043938\"><script>window.treescope_decompress_enqueue(\"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\", \"compress_html_55f368a63bc84f408800a73259043938\");</script><span style=\"color: #aaaaaa; font-family: monospace\">(Loading...)</span></div></div>"
      ],
      "text/plain": [
       "<IPython.core.display.HTML object>"
      ]
     },
     "metadata": {},
     "output_type": "display_data"
    },
    {
     "data": {
      "text/html": [
       "<div id=\"compress_html_be845f1cadd64e1b96ec6929514dfe83\"><script>window.treescope_decompress_enqueue(\"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\", \"compress_html_be845f1cadd64e1b96ec6929514dfe83\");</script></div>"
      ],
      "text/plain": [
       "<IPython.core.display.HTML object>"
      ]
     },
     "metadata": {},
     "output_type": "display_data"
    },
    {
     "data": {
      "text/html": [
       "<div id=\"output_dest_fed5bc4269c74386b8650cbf8bbaa7f7\"><script> (()=>{ const output = document.getElementById(\"output_fed5bc4269c74386b8650cbf8bbaa7f7\"); const dest = document.getElementById(\"output_dest_fed5bc4269c74386b8650cbf8bbaa7f7\"); dest.parentNode.replaceChild(output, dest); })(); </script></div>"
      ],
      "text/plain": [
       "<jax.Array bfloat16(20,) ≈-2.9 ±3.7 [≥-1.2e+01, ≤0.0] zero:7 nonzero:13\n",
       "  <Arrayviz rendering>\n",
       "  Sharded across 4 TPU devices (click to expand)\n",
       ">"
      ]
     },
     "execution_count": 45,
     "metadata": {},
     "output_type": "execute_result"
    }
   ],
   "source": [
    "pairs = tasks[task]\n",
    "pairs = [list(x) for x in pairs.items()]\n",
    "dataset = ICLDataset(pairs, size=batch_size, n_prepended=0, bidirectional=False, seed=101)\n",
    "\n",
    "\n",
    "tokenized = tokenizer.batch_encode_plus([prompt.format(x) for x in dataset.prompts], padding=\"longest\", max_length=max_seq_len, truncation=True, return_tensors=\"np\")\n",
    "inputs = tokenized_to_inputs(\n",
    "    **tokenized\n",
    ")\n",
    "\n",
    "# weights, recon = grad_pursuit(tv * 2, sae[\"W_dec\"], k, pos_only=True)\n",
    "\n",
    "recon = sae[\"W_dec\"][37312] * 20\n",
    "\n",
    "act_add = add_vector(\n",
    "    llama, recon.astype('bfloat16'), layer, scale=1.0, position=\"last\"\n",
    ")\n",
    "\n",
    "logits = act_add(inputs)\n",
    "\n",
    "get_logprob_diff(logits.unwrap(\"batch\", \"seq\", \"vocabulary\"), dataset.completions, print_results=True)"
   ]
  },
  {
   "cell_type": "code",
   "execution_count": 18,
   "metadata": {},
   "outputs": [],
   "source": [
    "def prepare_inputs(dataset: ICLDataset):\n",
    "    tokenized = tokenizer.batch_encode_plus([prompt.format(x) for x in dataset.prompts], padding=\"longest\", max_length=max_seq_len, truncation=True, return_tensors=\"np\")\n",
    "    inputs = tokenized_to_inputs(\n",
    "        **tokenized\n",
    "    )\n",
    "    \n",
    "    tokens = tokenized[\"input_ids\"]\n",
    "\n",
    "    return inputs, tokens"
   ]
  },
  {
   "cell_type": "code",
   "execution_count": 24,
   "metadata": {},
   "outputs": [],
   "source": [
    "task_names = list(tasks.keys())\n",
    "# task_names = [\"en_es\"]\n",
    "# n_few_shots, batch_size, max_seq_len = 64, 64, 512\n",
    "n_few_shots, batch_size, max_seq_len = 20, 64, 256"
   ]
  },
  {
   "cell_type": "code",
   "execution_count": 25,
   "metadata": {},
   "outputs": [
    {
     "data": {
      "application/vnd.jupyter.widget-view+json": {
       "model_id": "f88814f2c50a471dbf1d40eb3ad9bbb5",
       "version_major": 2,
       "version_minor": 0
      },
      "text/plain": [
       "  0%|          | 0/20 [00:00<?, ?it/s]"
      ]
     },
     "metadata": {},
     "output_type": "display_data"
    },
    {
     "data": {
      "application/vnd.jupyter.widget-view+json": {
       "model_id": "8ca216e66ada47c79f3ae7d1688644f7",
       "version_major": 2,
       "version_minor": 0
      },
      "text/plain": [
       "  0%|          | 0/12 [00:00<?, ?it/s]"
      ]
     },
     "metadata": {},
     "output_type": "display_data"
    },
    {
     "data": {
      "application/vnd.jupyter.widget-view+json": {
       "model_id": "5dad64c79eff462eb1bdc53b49258d24",
       "version_major": 2,
       "version_minor": 0
      },
      "text/plain": [
       "  0%|          | 0/12 [00:00<?, ?it/s]"
      ]
     },
     "metadata": {},
     "output_type": "display_data"
    },
    {
     "data": {
      "application/vnd.jupyter.widget-view+json": {
       "model_id": "eb486549468f4bf3af2068a63cb9c6e8",
       "version_major": 2,
       "version_minor": 0
      },
      "text/plain": [
       "  0%|          | 0/12 [00:00<?, ?it/s]"
      ]
     },
     "metadata": {},
     "output_type": "display_data"
    },
    {
     "data": {
      "application/vnd.jupyter.widget-view+json": {
       "model_id": "4de6df11b174420f8e4fce7c1c643bce",
       "version_major": 2,
       "version_minor": 0
      },
      "text/plain": [
       "  0%|          | 0/12 [00:00<?, ?it/s]"
      ]
     },
     "metadata": {},
     "output_type": "display_data"
    },
    {
     "data": {
      "application/vnd.jupyter.widget-view+json": {
       "model_id": "0fd4c600c8844499a1b908999f15290a",
       "version_major": 2,
       "version_minor": 0
      },
      "text/plain": [
       "  0%|          | 0/12 [00:00<?, ?it/s]"
      ]
     },
     "metadata": {},
     "output_type": "display_data"
    },
    {
     "data": {
      "application/vnd.jupyter.widget-view+json": {
       "model_id": "bc2f1d82bca74c64bcb1d9a7ea772aae",
       "version_major": 2,
       "version_minor": 0
      },
      "text/plain": [
       "  0%|          | 0/12 [00:00<?, ?it/s]"
      ]
     },
     "metadata": {},
     "output_type": "display_data"
    },
    {
     "data": {
      "application/vnd.jupyter.widget-view+json": {
       "model_id": "ecb168b96e224db19c2732a71fdf96d7",
       "version_major": 2,
       "version_minor": 0
      },
      "text/plain": [
       "  0%|          | 0/12 [00:00<?, ?it/s]"
      ]
     },
     "metadata": {},
     "output_type": "display_data"
    },
    {
     "data": {
      "application/vnd.jupyter.widget-view+json": {
       "model_id": "173a1c9ba037426c968b5d2ca0e5a99c",
       "version_major": 2,
       "version_minor": 0
      },
      "text/plain": [
       "  0%|          | 0/12 [00:00<?, ?it/s]"
      ]
     },
     "metadata": {},
     "output_type": "display_data"
    },
    {
     "data": {
      "application/vnd.jupyter.widget-view+json": {
       "model_id": "21aaeb6bdfd944dfa348eb9e32d0a0ae",
       "version_major": 2,
       "version_minor": 0
      },
      "text/plain": [
       "  0%|          | 0/12 [00:00<?, ?it/s]"
      ]
     },
     "metadata": {},
     "output_type": "display_data"
    },
    {
     "data": {
      "application/vnd.jupyter.widget-view+json": {
       "model_id": "095c6581251b4fef931d8cb2adc9e92b",
       "version_major": 2,
       "version_minor": 0
      },
      "text/plain": [
       "  0%|          | 0/12 [00:00<?, ?it/s]"
      ]
     },
     "metadata": {},
     "output_type": "display_data"
    },
    {
     "data": {
      "application/vnd.jupyter.widget-view+json": {
       "model_id": "b40989929fec4c9394629be1776d4a00",
       "version_major": 2,
       "version_minor": 0
      },
      "text/plain": [
       "  0%|          | 0/12 [00:00<?, ?it/s]"
      ]
     },
     "metadata": {},
     "output_type": "display_data"
    },
    {
     "data": {
      "application/vnd.jupyter.widget-view+json": {
       "model_id": "7205b9403a3a4f969c1c4bf18f8718e7",
       "version_major": 2,
       "version_minor": 0
      },
      "text/plain": [
       "  0%|          | 0/12 [00:00<?, ?it/s]"
      ]
     },
     "metadata": {},
     "output_type": "display_data"
    },
    {
     "data": {
      "application/vnd.jupyter.widget-view+json": {
       "model_id": "db044e23e0ef453bac125f2a54aa1535",
       "version_major": 2,
       "version_minor": 0
      },
      "text/plain": [
       "  0%|          | 0/12 [00:00<?, ?it/s]"
      ]
     },
     "metadata": {},
     "output_type": "display_data"
    },
    {
     "data": {
      "application/vnd.jupyter.widget-view+json": {
       "model_id": "ea08549c078543a2a819a9f9cad37286",
       "version_major": 2,
       "version_minor": 0
      },
      "text/plain": [
       "  0%|          | 0/12 [00:00<?, ?it/s]"
      ]
     },
     "metadata": {},
     "output_type": "display_data"
    },
    {
     "data": {
      "application/vnd.jupyter.widget-view+json": {
       "model_id": "0cfed9cb273a459c8fa1392e6317f4d6",
       "version_major": 2,
       "version_minor": 0
      },
      "text/plain": [
       "  0%|          | 0/12 [00:00<?, ?it/s]"
      ]
     },
     "metadata": {},
     "output_type": "display_data"
    },
    {
     "data": {
      "application/vnd.jupyter.widget-view+json": {
       "model_id": "ad447c617cec48b39ed6101cb76f73ea",
       "version_major": 2,
       "version_minor": 0
      },
      "text/plain": [
       "  0%|          | 0/12 [00:00<?, ?it/s]"
      ]
     },
     "metadata": {},
     "output_type": "display_data"
    },
    {
     "data": {
      "application/vnd.jupyter.widget-view+json": {
       "model_id": "e970fee522da41b6a298b45e4093151d",
       "version_major": 2,
       "version_minor": 0
      },
      "text/plain": [
       "  0%|          | 0/12 [00:00<?, ?it/s]"
      ]
     },
     "metadata": {},
     "output_type": "display_data"
    },
    {
     "data": {
      "application/vnd.jupyter.widget-view+json": {
       "model_id": "f5380e6b4e0a4cc99896f58108a3d5b7",
       "version_major": 2,
       "version_minor": 0
      },
      "text/plain": [
       "  0%|          | 0/12 [00:00<?, ?it/s]"
      ]
     },
     "metadata": {},
     "output_type": "display_data"
    },
    {
     "data": {
      "application/vnd.jupyter.widget-view+json": {
       "model_id": "f114fbc772a847c08274d3d34aca2088",
       "version_major": 2,
       "version_minor": 0
      },
      "text/plain": [
       "  0%|          | 0/12 [00:00<?, ?it/s]"
      ]
     },
     "metadata": {},
     "output_type": "display_data"
    },
    {
     "data": {
      "application/vnd.jupyter.widget-view+json": {
       "model_id": "87cc4459d9654442a7d813d85c03a463",
       "version_major": 2,
       "version_minor": 0
      },
      "text/plain": [
       "  0%|          | 0/12 [00:00<?, ?it/s]"
      ]
     },
     "metadata": {},
     "output_type": "display_data"
    }
   ],
   "source": [
    "results = {}\n",
    "\n",
    "for task in tqdm(task_names):\n",
    "    results[task] = []\n",
    "    \n",
    "    pairs = tasks[task]\n",
    "    pairs = [list(x) for x in pairs.items()]\n",
    "    dataset = ICLDataset(pairs, size=batch_size, n_prepended=n_few_shots, bidirectional=False, seed=10)\n",
    "\n",
    "    clean_inputs, clean_tokens = prepare_inputs(dataset)\n",
    "\n",
    "    _, resids = get_resids_call(clean_inputs)\n",
    "\n",
    "    mask = clean_inputs.tokens == 1599\n",
    "    mask = mask.unwrap(\"batch\", \"seq\")\n",
    "\n",
    "    dataset = ICLDataset(pairs, size=batch_size, n_prepended=0, bidirectional=False, seed=11)\n",
    "\n",
    "    add_inputs, add_tokens = prepare_inputs(dataset)\n",
    "\n",
    "    for layer in trange(10, 22):\n",
    "        tv = resids[layer].value.unwrap(\"batch\", \"seq\", \"embedding\")[mask]\n",
    "        tv = tv.mean(axis=0)\n",
    "        tv = tv.astype('bfloat16')\n",
    "\n",
    "        act_add = add_vector(\n",
    "            llama, tv, layer, scale=2.0, position=\"last\"\n",
    "        )\n",
    "\n",
    "        logits = act_add(add_inputs)\n",
    "\n",
    "        diff = get_logprob_diff(logits.unwrap(\"batch\", \"seq\", \"vocabulary\"), dataset.completions, print_results=False)\n",
    "\n",
    "        results[task].append(diff.mean())\n",
    "        \n",
    "        "
   ]
  },
  {
   "cell_type": "code",
   "execution_count": 31,
   "metadata": {},
   "outputs": [
    {
     "name": "stdout",
     "output_type": "stream",
     "text": [
      "location_continent 21 -1.09375\n",
      "football_player_position 21 -3.76562\n",
      "location_religion 21 -1.09375\n",
      "location_language 20 -0.457031\n",
      "person_profession 21 -1.30469\n",
      "location_country 21 -1.44531\n",
      "country_capital 18 -1.25781\n",
      "person_language 18 -0.287109\n",
      "singular_plural 21 -0.261719\n",
      "present_simple_past_simple 20 -0.341797\n",
      "antonyms 14 -0.75\n",
      "plural_singular 20 -0.133789\n",
      "present_simple_past_perfect 18 -1.25781\n",
      "present_simple_gerund 20 -0.171875\n",
      "en_it 18 -1.29688\n",
      "it_en 14 -1.75781\n",
      "en_fr 18 -1.39062\n",
      "en_es 18 -1.21875\n",
      "fr_en 17 -1.25781\n",
      "es_en 17 -1.09375\n"
     ]
    }
   ],
   "source": [
    "for k in results:\n",
    "    print(\n",
    "        k, np.argmax([float(x) for x in results[k]]) + 10, max(results[k])\n",
    "    )"
   ]
  },
  {
   "cell_type": "code",
   "execution_count": null,
   "metadata": {},
   "outputs": [],
   "source": []
  }
 ],
 "metadata": {
  "kernelspec": {
   "display_name": "micrlhf-progress-a058ydGG-py3.12",
   "language": "python",
   "name": "python3"
  },
  "language_info": {
   "codemirror_mode": {
    "name": "ipython",
    "version": 3
   },
   "file_extension": ".py",
   "mimetype": "text/x-python",
   "name": "python",
   "nbconvert_exporter": "python",
   "pygments_lexer": "ipython3",
   "version": "3.12.3"
  }
 },
 "nbformat": 4,
 "nbformat_minor": 2
}
