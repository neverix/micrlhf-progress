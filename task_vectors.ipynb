{
 "cells": [
  {
   "cell_type": "code",
   "execution_count": 1,
   "metadata": {},
   "outputs": [],
   "source": [
    "%load_ext autoreload\n",
    "%autoreload 2\n",
    "import penzai\n",
    "from penzai import pz\n",
    "pz.ts.register_as_default()\n",
    "pz.ts.register_autovisualize_magic()\n",
    "pz.enable_interactive_context()"
   ]
  },
  {
   "cell_type": "code",
   "execution_count": 2,
   "metadata": {},
   "outputs": [],
   "source": [
    "\n",
    "pz.ts.active_autovisualizer.set_interactive(pz.ts.ArrayAutovisualizer())"
   ]
  },
  {
   "cell_type": "code",
   "execution_count": 3,
   "metadata": {},
   "outputs": [],
   "source": [
    "from matplotlib import pyplot as plt\n",
    "from tqdm.auto import tqdm, trange\n",
    "import jax.numpy as jnp\n",
    "import numpy as np\n",
    "import random\n",
    "from penzai.data_effects.side_output import SideOutputValue\n",
    "from micrlhf.utils.activation_manipulation import add_vector"
   ]
  },
  {
   "cell_type": "code",
   "execution_count": 4,
   "metadata": {},
   "outputs": [
    {
     "name": "stderr",
     "output_type": "stream",
     "text": [
      "/home/dmitrii/.cache/pypoetry/virtualenvs/micrlhf-progress-_SD4q1c9-py3.12/lib/python3.12/site-packages/huggingface_hub/file_download.py:1132: FutureWarning: `resume_download` is deprecated and will be removed in version 1.0.0. Downloads always resume when possible. If you want to force a new download, use `force_download=True`.\n",
      "  warnings.warn(\n",
      "Special tokens have been added in the vocabulary, make sure the associated word embeddings are fine-tuned or trained.\n"
     ]
    }
   ],
   "source": [
    "filename = \"models/phi-3-16.gguf\"\n",
    "from micrlhf.llama import LlamaTransformer\n",
    "llama = LlamaTransformer.from_pretrained(filename, device_map=\"auto\")\n",
    "from micrlhf.sampling import sample\n",
    "from transformers import AutoTokenizer\n",
    "import jax\n",
    "# tokenizer = load_tokenizer(filename)\n",
    "tokenizer = AutoTokenizer.from_pretrained(\"microsoft/Phi-3-mini-4k-instruct\")\n"
   ]
  },
  {
   "cell_type": "code",
   "execution_count": 5,
   "metadata": {},
   "outputs": [],
   "source": [
    "tokenizer.pad_token = tokenizer.eos_token\n",
    "tokenizer.padding_side = \"left\""
   ]
  },
  {
   "cell_type": "code",
   "execution_count": 29,
   "metadata": {},
   "outputs": [
    {
     "name": "stderr",
     "output_type": "stream",
     "text": [
      "Cloning into 'itv'...\n",
      "fatal: unable to access 'https://github.com/roeehendel/icl_task_vectors data/itv/': URL using bad/illegal format or missing URL\n"
     ]
    }
   ],
   "source": [
    "from task_vector_utils import load_tasks, ICLDataset, ICLSequence\n",
    "tasks = load_tasks()"
   ]
  },
  {
   "cell_type": "code",
   "execution_count": 11,
   "metadata": {},
   "outputs": [],
   "source": []
  },
  {
   "cell_type": "code",
   "execution_count": 13,
   "metadata": {},
   "outputs": [
    {
     "data": {
      "text/html": [
       "<div id=\"output_a4451b99b10641cd93ec5002482a1443\"><script> /* penzai.treescope rendering of a Python object (compressed) */ (()=>{ let observer; let lastStep = new Promise((resolve, reject) => { observer = new IntersectionObserver((entries) => { for (const entry of entries) { if (entry.isIntersecting) { resolve(); observer.disconnect(); return; } } }, {rootMargin: \"1000px\"}); }); window.treescope_decompress_enqueue = (encoded, destId) => { const previous = lastStep; const destElt = document.getElementById(destId); lastStep = (async () => { await previous; let blob = new Blob([ Uint8Array.from(atob(encoded), (m) => m.codePointAt(0)) ]); let reader = blob.stream().pipeThrough( new DecompressionStream(\"deflate\") ).pipeThrough( new TextDecoderStream(\"utf-8\") ).getReader(); let parts = []; while (true) { let step = await reader.read(); if (step.done) { break; } parts.push(step.value); } let newElt = document.createElement(\"div\"); newElt.innerHTML = parts.join(\"\"); destElt.parentNode.replaceChild(newElt, destElt); for (let oldScript of newElt.querySelectorAll(\"script\")) { let newScript = document.createElement(\"script\"); newScript.type = oldScript.type; newScript.textContent = oldScript.textContent; oldScript.parentNode.replaceChild(newScript, oldScript); } })(); requestAnimationFrame(() => { observer.observe(destElt); }); } })(); </script><div id=\"compress_html_fd467f15273747daa55aab49ea01de40\"><script>window.treescope_decompress_enqueue(\"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\", \"compress_html_fd467f15273747daa55aab49ea01de40\");</script><span style=\"color: #aaaaaa; font-family: monospace\">(Loading...)</span></div></div>"
      ],
      "text/plain": [
       "<IPython.core.display.HTML object>"
      ]
     },
     "metadata": {},
     "output_type": "display_data"
    },
    {
     "data": {
      "text/html": [
       "<div id=\"output_dest_a4451b99b10641cd93ec5002482a1443\"><script> (()=>{ const output = document.getElementById(\"output_a4451b99b10641cd93ec5002482a1443\"); const dest = document.getElementById(\"output_dest_a4451b99b10641cd93ec5002482a1443\"); dest.parentNode.replaceChild(output, dest); })(); </script></div>"
      ],
      "text/plain": [
       "dict_keys(['location_continent', 'football_player_position', 'location_religion', 'location_language', 'person_profession', 'location_country', 'country_capital', 'person_language', 'singular_plural', 'present_simple_past_simple', 'antonyms', 'plural_singular', 'present_simple_past_perfect', 'present_simple_gerund', 'en_it', 'it_en', 'en_ru', 'en_fr', 'en_es', 'fr_en', 'es_en', 'en_de', 'algo_max', 'algo_min', 'algo_last', 'algo_first', 'algo_sum', 'algo_most_common'])"
      ]
     },
     "execution_count": 13,
     "metadata": {},
     "output_type": "execute_result"
    }
   ],
   "source": [
    "tasks.keys()"
   ]
  },
  {
   "cell_type": "code",
   "execution_count": 14,
   "metadata": {},
   "outputs": [],
   "source": [
    "from micrlhf.llama import LlamaBlock\n",
    "from micrlhf.sampling import sample, jit_wrapper\n",
    "get_resids = llama.select().at_instances_of(LlamaBlock).apply_with_selected_index(lambda i, x:\n",
    "    pz.nn.Sequential([\n",
    "        pz.de.TellIntermediate.from_config(tag=f\"resid_pre_{i}\"),\n",
    "        x\n",
    "    ])\n",
    ")\n",
    "get_resids = pz.de.CollectingSideOutputs.handling(get_resids, tag_predicate=lambda x: x.startswith(\"resid_pre\"))\n",
    "get_resids_call = jit_wrapper.Jitted(get_resids)"
   ]
  },
  {
   "cell_type": "code",
   "execution_count": 15,
   "metadata": {},
   "outputs": [
    {
     "name": "stdout",
     "output_type": "stream",
     "text": [
      "Tuple-representation of the sequence:\n",
      "(hot, cold), (yes, no), (in, out), up ->\n",
      "\n",
      "Actual prompt, which will be fed into the model:\n",
      "hot -> cold, yes -> no, in -> out, up ->\n"
     ]
    }
   ],
   "source": []
  },
  {
   "cell_type": "code",
   "execution_count": 16,
   "metadata": {},
   "outputs": [],
   "source": []
  },
  {
   "cell_type": "code",
   "execution_count": 17,
   "metadata": {},
   "outputs": [],
   "source": [
    "def generate_task_prompt(task, n_shots):\n",
    "    prompt = \"<user>Follow the pattern\\n{}\"\n",
    "    examples = []\n",
    "\n",
    "    for s, t in random.sample(list(tasks[task].items()), n_shots):\n",
    "        examples.append(f\"{s} -> {t}\")\n",
    "    prompt = prompt.format(\"\\n\".join(examples))\n",
    "\n",
    "    # print(prompt)\n",
    "\n",
    "    return prompt\n",
    "\n",
    "def tokenized_to_inputs(input_ids, attention_mask):\n",
    "    token_array = jnp.asarray(input_ids)\n",
    "    token_array = jax.device_put(token_array, jax.sharding.NamedSharding(llama.mesh, jax.sharding.PartitionSpec(\"dp\", \"sp\")))\n",
    "    token_array = pz.nx.wrap(token_array, \"batch\", \"seq\").untag(\"batch\").tag(\"batch\")\n",
    "\n",
    "    mask_array = jnp.asarray(attention_mask, dtype=jnp.bool)\n",
    "    mask_array = jax.device_put(mask_array, jax.sharding.NamedSharding(llama.mesh, jax.sharding.PartitionSpec(\"dp\", \"sp\")))\n",
    "    mask_array = pz.nx.wrap(mask_array, \"batch\", \"seq\").untag(\"batch\").tag(\"batch\")\n",
    "\n",
    "    inputs = llama.inputs.from_basic_segments(token_array)\n",
    "    return inputs"
   ]
  },
  {
   "cell_type": "code",
   "execution_count": 18,
   "metadata": {},
   "outputs": [],
   "source": [
    "def generate_task_inputs_old(task, n_shots, batch_size, max_length=128, seed=0):\n",
    "    random.seed(seed)\n",
    "\n",
    "    texts = [generate_task_prompt(task, n_shots) for _ in range(batch_size)]\n",
    "    tokenized = tokenizer.batch_encode_plus(texts, padding=\"longest\", max_length=max_length, truncation=True, return_tensors=\"np\")\n",
    "\n",
    "    inputs = tokenized_to_inputs(\n",
    "        **tokenized\n",
    "    )\n",
    "\n",
    "    return inputs, tokenized"
   ]
  },
  {
   "cell_type": "code",
   "execution_count": 19,
   "metadata": {},
   "outputs": [],
   "source": [
    "prompt = \"<user>Follow the pattern\\n{}\""
   ]
  },
  {
   "cell_type": "code",
   "execution_count": 20,
   "metadata": {},
   "outputs": [],
   "source": [
    "def get_logprob_diff(logits: jnp.ndarray, completions: List[str], print_results=False):\n",
    "    logprobs = jax.nn.log_softmax(logits, axis=-1)\n",
    "    answer_logprobs = logprobs[:, -1]\n",
    "\n",
    "    target_tokens = [x[1] for x in tokenizer(completions)[\"input_ids\"]]\n",
    "    target_tokens = jnp.asarray(target_tokens)\n",
    "    target_logprobs = jnp.take_along_axis(answer_logprobs, target_tokens[:, None], axis=-1).squeeze()\n",
    "\n",
    "    if print_results:\n",
    "        print(\n",
    "            tokenizer.decode(answer_logprobs.argmax(axis=-1))\n",
    "        )\n",
    "\n",
    "        print(\n",
    "            tokenizer.decode(target_tokens)\n",
    "        )\n",
    "\n",
    "    return target_logprobs - answer_logprobs.max(axis=-1)\n"
   ]
  },
  {
   "cell_type": "code",
   "execution_count": 21,
   "metadata": {},
   "outputs": [],
   "source": [
    "task_names = [\n",
    "    \"en_it\"\n",
    "]\n",
    "layer = 18\n",
    "n_seeds = 10\n",
    "\n",
    "# n_few_shots, batch_size, max_seq_len = 64, 64, 512\n",
    "n_few_shots, batch_size, max_seq_len = 20, 64, 256"
   ]
  },
  {
   "cell_type": "code",
   "execution_count": 68,
   "metadata": {},
   "outputs": [
    {
     "name": "stderr",
     "output_type": "stream",
     "text": [
      "  0%|          | 0/1 [00:00<?, ?it/s]"
     ]
    },
    {
     "data": {
      "application/vnd.jupyter.widget-view+json": {
       "model_id": "5ac9372982004aea85fbaf65ce3310a1",
       "version_major": 2,
       "version_minor": 0
      },
      "text/plain": [
       "  0%|          | 0/10 [00:00<?, ?it/s]"
      ]
     },
     "metadata": {},
     "output_type": "display_data"
    },
    {
     "name": "stdout",
     "output_type": "stream",
     "text": [
      "pre situ sic s dest cres inter reg se un le t sens propri in tag prepar serv ind risult se m coin f c diff città lu come ass cart chiam\n",
      "s situ sic s gi cres totale disco se gi le t sens propri in tag prepar serv ind risult se pare coin f stesso diff citt lu ven ass cart chiam\n",
      "-0.00430298 1.09375\n",
      "['legal ->', 'along ->', 'window ->', 'information ->', 'over ->', 'field ->', 'current ->', 'better ->', 'power ->', 'message ->', 'reduce ->', 'behavior ->', 'place ->', 'security ->', 'hell ->', 'cell ->', 'media ->', 'club ->', 'live ->', 'point ->', 'throw ->', 'sport ->', 'so ->', 'door ->', 'color ->', 'daughter ->', 'run ->', 'pretty ->', 'rule ->', 'top ->', 'mind ->', 'matter ->'] ['legale', 'lungo', 'finestra', 'informazione', 'sopra', 'campo', 'attuale', 'meglio', 'potenza', 'messaggio', 'ridurre', 'comportamento', 'luogo', 'sicurezza', 'inferno', 'cellula', 'media', 'club', 'abitare', 'punto', 'gettare', 'sport', 'così', 'porta', 'colore', 'figlia', 'correre', 'bello', 'regola', 'superiore', 'mente', 'questione']\n",
      "leg al fen inform over campo current migli pot mess rid comport pl seg h cell media club v punto throw sport so port color figlio cor bel reg top ment mater\n",
      "leg lungo fin inform sop campo att meg pot mess rid comport lu sic infer cell media club abit punto get sport così porta col fig corr bel reg super m question\n",
      "legal along window info over field current best power message reduce behavior place security hello cell media club life line throw sport so doors shape son run pretty\n",
      " bottom mind matter\n",
      "leg lungo fin inform sop campo att meg pot mess rid comport lu sic infer cell media club abit punto get sport così porta col fig corr bel reg super m question\n",
      "situ sic s dest cres inter reg se un le t sens propri in tag prepar serv ind risult se m coin f c diff città lu come ass cart chiam cer\n",
      "situ sic s gi cres totale disco se gi le t sens propri in tag prepar serv ind risult se pare coin f stesso diff citt lu ven ass cart chiam cer\n",
      "-0.00427246 1.09375\n",
      "['along ->', 'window ->', 'information ->', 'over ->', 'field ->', 'current ->', 'better ->', 'power ->', 'message ->', 'reduce ->', 'behavior ->', 'place ->', 'security ->', 'hell ->', 'cell ->', 'media ->', 'club ->', 'live ->', 'point ->', 'throw ->', 'sport ->', 'so ->', 'door ->', 'color ->', 'daughter ->', 'run ->', 'pretty ->', 'rule ->', 'top ->', 'mind ->', 'matter ->', 'policy ->'] ['lungo', 'finestra', 'informazione', 'sopra', 'campo', 'attuale', 'meglio', 'potenza', 'messaggio', 'ridurre', 'comportamento', 'luogo', 'sicurezza', 'inferno', 'cellula', 'media', 'club', 'abitare', 'punto', 'gettare', 'sport', 'così', 'porta', 'colore', 'figlia', 'correre', 'bello', 'regola', 'superiore', 'mente', 'questione', 'politica']\n",
      "al fen inform over campo current migli pot mess rid comport pl seg h cell media club v punto throw sport so port color figlio cor bel reg top ment mater polit\n",
      "lungo fin inform sop campo att meg pot mess rid comport lu sic infer cell media club abit punto get sport così porta col fig corr bel reg super m question polit\n",
      "along window info over field current best power message reduce behavior place security hello cell media club life line throw sport so doors shape son run pretty\n",
      " bottom mind matter policy\n",
      "lungo fin inform sop campo att meg pot mess rid comport lu sic infer cell media club abit punto get sport così porta col fig corr bel reg super m question polit\n",
      "sic s dest cres inter reg se un le t sens propri in tag prepar serv ind risult se m coin f c diff città lu come ass cart chiam cer leg\n",
      "sic s gi cres totale disco se gi le t sens propri in tag prepar serv ind risult se pare coin f stesso diff citt lu ven ass cart chiam cer con\n",
      "-0.00430298 1.09375\n",
      "['window ->', 'information ->', 'over ->', 'field ->', 'current ->', 'better ->', 'power ->', 'message ->', 'reduce ->', 'behavior ->', 'place ->', 'security ->', 'hell ->', 'cell ->', 'media ->', 'club ->', 'live ->', 'point ->', 'throw ->', 'sport ->', 'so ->', 'door ->', 'color ->', 'daughter ->', 'run ->', 'pretty ->', 'rule ->', 'top ->', 'mind ->', 'matter ->', 'policy ->', 'decade ->'] ['finestra', 'informazione', 'sopra', 'campo', 'attuale', 'meglio', 'potenza', 'messaggio', 'ridurre', 'comportamento', 'luogo', 'sicurezza', 'inferno', 'cellula', 'media', 'club', 'abitare', 'punto', 'gettare', 'sport', 'così', 'porta', 'colore', 'figlia', 'correre', 'bello', 'regola', 'superiore', 'mente', 'questione', 'politica', 'decennio']\n",
      "fen inform over campo current migli pot mess rid comport pl seg h cell media club v punto throw sport s port color figlio cor bel reg top ment mater polit dec\n",
      "fin inform sop campo att meg pot mess rid comport lu sic infer cell media club abit punto get sport così porta col fig corr bel reg super m question polit dec\n",
      "window info over field current best power message reduce behavior place security hello cell media club life line throw sport so doors shape son run pretty\n",
      " bottom mind matter policy year\n",
      "fin inform sop campo att meg pot mess rid comport lu sic infer cell media club abit punto get sport così porta col fig corr bel reg super m question polit dec\n",
      "s dest cres inter reg se un le t sens propri in tag prepar serv ind risult se m coin f c diff città lu come ass cart chiam cer leg importante\n",
      "s gi cres totale disco se gi le t sens propri in tag prepar serv ind risult se pare coin f stesso diff citt lu ven ass cart chiam cer con importante\n",
      "-0.00460815 1.09375\n",
      "['information ->', 'over ->', 'field ->', 'current ->', 'better ->', 'power ->', 'message ->', 'reduce ->', 'behavior ->', 'place ->', 'security ->', 'hell ->', 'cell ->', 'media ->', 'club ->', 'live ->', 'point ->', 'throw ->', 'sport ->', 'so ->', 'door ->', 'color ->', 'daughter ->', 'run ->', 'pretty ->', 'rule ->', 'top ->', 'mind ->', 'matter ->', 'policy ->', 'decade ->', 'moment ->'] ['informazione', 'sopra', 'campo', 'attuale', 'meglio', 'potenza', 'messaggio', 'ridurre', 'comportamento', 'luogo', 'sicurezza', 'inferno', 'cellula', 'media', 'club', 'abitare', 'punto', 'gettare', 'sport', 'così', 'porta', 'colore', 'figlia', 'correre', 'bello', 'regola', 'superiore', 'mente', 'questione', 'politica', 'decennio', 'momento']\n",
      "inform over campo current migli pot mess rid comport pl seg h cell media club v punto throw sport so port color figlio cor bel reg top ment mater polit anno momento\n",
      "inform sop campo att meg pot mess rid comport lu sic infer cell media club abit punto get sport così porta col fig corr bel reg super m question polit dec momento\n",
      "info over field current best power message reduce behavior place security hello cell media club life line throw sport so doors shape son run pretty\n",
      " bottom mind matter policy year moment\n",
      "inform sop campo att meg pot mess rid comport lu sic infer cell media club abit punto get sport così porta col fig corr bel reg super m question polit dec momento\n",
      "dest cres inter reg se un le t sens propri in tag prepar serv ind risult se m coin f c diff città lu come ass cart chiam cer leg importante aff\n",
      "gi cres totale disco se gi le t sens propri in tag prepar serv ind risult se pare coin f stesso diff citt lu ven ass cart chiam cer con importante aff\n",
      "-0.00469971 1.09375\n",
      "['over ->', 'field ->', 'current ->', 'better ->', 'power ->', 'message ->', 'reduce ->', 'behavior ->', 'place ->', 'security ->', 'hell ->', 'cell ->', 'media ->', 'club ->', 'live ->', 'point ->', 'throw ->', 'sport ->', 'so ->', 'door ->', 'color ->', 'daughter ->', 'run ->', 'pretty ->', 'rule ->', 'top ->', 'mind ->', 'matter ->', 'policy ->', 'decade ->', 'moment ->', 'cut ->'] ['sopra', 'campo', 'attuale', 'meglio', 'potenza', 'messaggio', 'ridurre', 'comportamento', 'luogo', 'sicurezza', 'inferno', 'cellula', 'media', 'club', 'abitare', 'punto', 'gettare', 'sport', 'così', 'porta', 'colore', 'figlia', 'correre', 'bello', 'regola', 'superiore', 'mente', 'questione', 'politica', 'decennio', 'momento', 'taglio']\n",
      "over campo current migli pot mess rid comport pl seg h cell media club v punto throw sport so port color figlio cor bel reg top ment mater polit anno momento cut\n",
      "sop campo att meg pot mess rid comport lu sic infer cell media club abit punto get sport così porta col fig corr bel reg super m question polit dec momento tag\n",
      "over field current best power message reduce behavior place security hello cell media club life line throw sport so doors shape son run pretty\n",
      " bottom mind matter policy year moment cut\n",
      "sop campo att meg pot mess rid comport lu sic infer cell media club abit punto get sport così porta col fig corr bel reg super m question polit dec momento tag\n",
      "cres inter reg se un le t sens propri in tag prepar serv ind risult se m coin f c diff città lu come ass cart chiam cer leg importante aff tras\n",
      "cres totale disco se gi le t sens propri in tag prepar serv ind risult se pare coin f stesso diff citt lu ven ass cart chiam cer con importante aff tras\n",
      "-0.00479126 1.09375\n",
      "['field ->', 'current ->', 'better ->', 'power ->', 'message ->', 'reduce ->', 'behavior ->', 'place ->', 'security ->', 'hell ->', 'cell ->', 'media ->', 'club ->', 'live ->', 'point ->', 'throw ->', 'sport ->', 'so ->', 'door ->', 'color ->', 'daughter ->', 'run ->', 'pretty ->', 'rule ->', 'top ->', 'mind ->', 'matter ->', 'policy ->', 'decade ->', 'moment ->', 'cut ->', 'hour ->'] ['campo', 'attuale', 'meglio', 'potenza', 'messaggio', 'ridurre', 'comportamento', 'luogo', 'sicurezza', 'inferno', 'cellula', 'media', 'club', 'abitare', 'punto', 'gettare', 'sport', 'così', 'porta', 'colore', 'figlia', 'correre', 'bello', 'regola', 'superiore', 'mente', 'questione', 'politica', 'decennio', 'momento', 'taglio', 'ora']\n",
      "campo current migli pot mess rid comport pl seg h cell media club v punto throw sport so port color figlio cor bel reg top ment mater polit anno momento cut h\n",
      "campo att meg pot mess rid comport lu sic infer cell media club abit punto get sport così porta col fig corr bel reg super m question polit dec momento tag ora\n",
      "field current best power message reduce behavior place security hello cell media club life line throw sport so doors shape son run pretty\n",
      " bottom mind matter policy year moment cut hour\n",
      "campo att meg pot mess rid comport lu sic infer cell media club abit punto get sport così porta col fig corr bel reg super m question polit dec momento tag ora\n",
      "inter reg se un le t sens propri in tag prepar serv ind risult se m coin f c diff città lu come ass cart chiam cer leg importante aff tras complet\n",
      "totale disco se gi le t sens propri in tag prepar serv ind risult se pare coin f stesso diff citt lu ven ass cart chiam cer con importante aff tras complet\n",
      "-0.00473022 1.09375\n",
      "['current ->', 'better ->', 'power ->', 'message ->', 'reduce ->', 'behavior ->', 'place ->', 'security ->', 'hell ->', 'cell ->', 'media ->', 'club ->', 'live ->', 'point ->', 'throw ->', 'sport ->', 'so ->', 'door ->', 'color ->', 'daughter ->', 'run ->', 'pretty ->', 'rule ->', 'top ->', 'mind ->', 'matter ->', 'policy ->', 'decade ->', 'moment ->', 'cut ->', 'hour ->', 'have ->'] ['attuale', 'meglio', 'potenza', 'messaggio', 'ridurre', 'comportamento', 'luogo', 'sicurezza', 'inferno', 'cellula', 'media', 'club', 'abitare', 'punto', 'gettare', 'sport', 'così', 'porta', 'colore', 'figlia', 'correre', 'bello', 'regola', 'superiore', 'mente', 'questione', 'politica', 'decennio', 'momento', 'taglio', 'ora', 'avere']\n",
      "current migli pot mess rid comport pl seg h cell media club v punto throw sport so port color figlio cor bel reg top ment mater polit dec moment cut h have\n",
      "att meg pot mess rid comport lu sic infer cell media club abit punto get sport così porta col fig corr bel reg super m question polit dec momento tag ora aver\n",
      "current best power message reduce behavior place security hello cell media club life line throw sport so doors shape son run pretty\n",
      " bottom mind matter policy year moment cut hour has\n",
      "att meg pot mess rid comport lu sic infer cell media club abit punto get sport così porta col fig corr bel reg super m question polit dec momento tag ora aver\n",
      "reg se un le t sens propri in tag prepar serv ind risult se m coin f uno diff città lu come ass cart chiam cer leg importante aff tras complet most\n",
      "disco se gi le t sens propri in tag prepar serv ind risult se pare coin f stesso diff citt lu ven ass cart chiam cer con importante aff tras complet most\n",
      "-0.00521851 1.09375\n",
      "['better ->', 'power ->', 'message ->', 'reduce ->', 'behavior ->', 'place ->', 'security ->', 'hell ->', 'cell ->', 'media ->', 'club ->', 'live ->', 'point ->', 'throw ->', 'sport ->', 'so ->', 'door ->', 'color ->', 'daughter ->', 'run ->', 'pretty ->', 'rule ->', 'top ->', 'mind ->', 'matter ->', 'policy ->', 'decade ->', 'moment ->', 'cut ->', 'hour ->', 'have ->', 'sit ->'] ['meglio', 'potenza', 'messaggio', 'ridurre', 'comportamento', 'luogo', 'sicurezza', 'inferno', 'cellula', 'media', 'club', 'abitare', 'punto', 'gettare', 'sport', 'così', 'porta', 'colore', 'figlia', 'correre', 'bello', 'regola', 'superiore', 'mente', 'questione', 'politica', 'decennio', 'momento', 'taglio', 'ora', 'avere', 'sedersi']\n",
      "migli pot mess rid comport pl seg h cell media club v punto throw sport so door color figlio cor bel reg top ment mater polit dec momento cut h have sed\n",
      "meg pot mess rid comport lu sic infer cell media club abit punto get sport così porta col fig corr bel reg super m question polit dec momento tag ora aver sed\n",
      "best power message reduce behavior place security hello cell media club life line throw sport so doors shape son run pretty\n",
      " bottom mind matter policy year moment cut hour has sit\n",
      "meg pot mess rid comport lu sic infer cell media club abit punto get sport così porta col fig corr bel reg super m question polit dec momento tag ora aver sed\n",
      "se un le t sens propri in tag prepar serv ind risult se m coin f uno diff città lu come ass cart chiam cer leg importante aff tras complet most cop\n",
      "se gi le t sens propri in tag prepar serv ind risult se pare coin f stesso diff citt lu ven ass cart chiam cer con importante aff tras complet most c\n",
      "-0.00515747 1.09375\n",
      "['power ->', 'message ->', 'reduce ->', 'behavior ->', 'place ->', 'security ->', 'hell ->', 'cell ->', 'media ->', 'club ->', 'live ->', 'point ->', 'throw ->', 'sport ->', 'so ->', 'door ->', 'color ->', 'daughter ->', 'run ->', 'pretty ->', 'rule ->', 'top ->', 'mind ->', 'matter ->', 'policy ->', 'decade ->', 'moment ->', 'cut ->', 'hour ->', 'have ->', 'sit ->', 'comment ->'] ['potenza', 'messaggio', 'ridurre', 'comportamento', 'luogo', 'sicurezza', 'inferno', 'cellula', 'media', 'club', 'abitare', 'punto', 'gettare', 'sport', 'così', 'porta', 'colore', 'figlia', 'correre', 'bello', 'regola', 'superiore', 'mente', 'questione', 'politica', 'decennio', 'momento', 'taglio', 'ora', 'avere', 'sedersi', 'commento']\n",
      "pot mess rid comport pl seg h cell media club v punto throw sport so door color figlio cor bel reg top ment mater polit dec momento cut h have sed comment\n",
      "pot mess rid comport lu sic infer cell media club abit punto get sport così porta col fig corr bel reg super m question polit dec momento tag ora aver sed comment\n",
      "power message reduce behavior place security hello cell media club life line throw sport so doors shape son run pretty\n",
      " bottom mind matter policy year moment cut hour has sit <\n",
      "pot mess rid comport lu sic infer cell media club abit punto get sport così porta col fig corr bel reg super m question polit dec momento tag ora aver sed comment\n",
      "un le t sens propri in tag prepar serv ind risult se m coin f uno diff città lu come ass cart chiam cer leg importante aff tras complet most cop let\n",
      "gi le t sens propri in tag prepar serv ind risult se pare coin f stesso diff citt lu ven ass cart chiam cer con importante aff tras complet most c pos\n",
      "-0.00543213 1.09375\n",
      "['message ->', 'reduce ->', 'behavior ->', 'place ->', 'security ->', 'hell ->', 'cell ->', 'media ->', 'club ->', 'live ->', 'point ->', 'throw ->', 'sport ->', 'so ->', 'door ->', 'color ->', 'daughter ->', 'run ->', 'pretty ->', 'rule ->', 'top ->', 'mind ->', 'matter ->', 'policy ->', 'decade ->', 'moment ->', 'cut ->', 'hour ->', 'have ->', 'sit ->', 'comment ->', 'drop ->'] ['messaggio', 'ridurre', 'comportamento', 'luogo', 'sicurezza', 'inferno', 'cellula', 'media', 'club', 'abitare', 'punto', 'gettare', 'sport', 'così', 'porta', 'colore', 'figlia', 'correre', 'bello', 'regola', 'superiore', 'mente', 'questione', 'politica', 'decennio', 'momento', 'taglio', 'ora', 'avere', 'sedersi', 'commento', 'gocciolare']\n",
      "mess rid comport pl seg h cell media club v punto throw sport so door color figlio cor bel reg top ment mater polit dec momento cut h have sed comment drop\n",
      "mess rid comport lu sic infer cell media club abit punto get sport così porta col fig corr bel reg super m question polit dec momento tag ora aver sed comment g\n",
      "message reduce behavior place security hello cell media club life line throw sport so doors shape son run pretty\n",
      " bottom mind matter policy year moment cut hour has sit < drop\n",
      "mess rid comport lu sic infer cell media club abit punto get sport così porta col fig corr bel reg super m question polit dec momento tag ora aver sed comment g\n",
      "orig: [[Array([-2.98438, 0, 0, 0, -3.89062, 0, -4.375, -12.625, 0, -8.375, 0, 0,\n",
      "       0, 0, 0, 0, 0, 0, 0, 0, 0, -4.625, 0, 0, -7.71875, 0, -3, 0,\n",
      "       -14.8125, 0, 0, 0], dtype=bfloat16), Array([0, 0, 0, -3.89062, 0, -4.375, -12.625, 0, -8.375, 0, 0, 0, 0, 0, 0,\n",
      "       0, 0, 0, 0, 0, -4.625, 0, 0, -7.71875, 0, -3, 0, -14.8125, 0, 0, 0,\n",
      "       0], dtype=bfloat16), Array([0, 0, -3.89062, 0, -4.375, -12.625, 0, -8.375, 0, 0, 0, 0, 0, 0, 0,\n",
      "       0, 0, 0, 0, -4.625, 0, 0, -7.71875, 0, -3, 0, -14.8125, 0, 0, 0, 0,\n",
      "       -11.3125], dtype=bfloat16), Array([0, -3.89062, 0, -4.375, -12.625, 0, -8.375, 0, 0, 0, 0, 0, 0, 0, 0,\n",
      "       0, 0, 0, -4.625, 0, 0, -7.71875, 0, -3, 0, -14.8125, 0, 0, 0, 0,\n",
      "       -11.3125, 0], dtype=bfloat16), Array([-3.89062, 0, -4.375, -12.625, 0, -8.375, 0, 0, 0, 0, 0, 0, 0, 0, 0,\n",
      "       0, 0, -4.625, 0, 0, -7.71875, 0, -3, 0, -14.8125, 0, 0, 0, 0,\n",
      "       -11.3125, 0, 0], dtype=bfloat16), Array([0, -4.375, -12.625, 0, -8.375, 0, 0, 0, 0, 0, 0, 0, 0, 0, 0, 0,\n",
      "       -4.625, 0, 0, -7.71875, 0, -3, 0, -14.8125, 0, 0, 0, 0, -11.3125,\n",
      "       0, 0, 0], dtype=bfloat16), Array([-4.375, -12.625, 0, -8.375, 0, 0, 0, 0, 0, 0, 0, 0, 0, 0, 0,\n",
      "       -4.625, 0, 0, -7.71875, 0, -3, 0, -14.8125, 0, 0, 0, 0, -11.3125,\n",
      "       0, 0, 0, 0], dtype=bfloat16), Array([-12.125, 0, -8.5, 0, 0, 0, 0, 0, 0, 0, 0, 0, 0, 0, -4.25, 0, 0,\n",
      "       -8.5, 0, -2.875, 0, -13.8125, 0, 0, 0, 0, -11.125, 0, 0, 0, 0, 0],      dtype=bfloat16), Array([0, -8.5, 0, 0, 0, 0, 0, 0, 0, 0, 0, 0, 0, -4.25, 0, 0, -8.5, 0,\n",
      "       -2.875, 0, -13.8125, 0, 0, 0, 0, -11.125, 0, 0, 0, 0, 0, -2.875],      dtype=bfloat16), Array([-8.5, 0, 0, 0, 0, 0, 0, 0, 0, 0, 0, 0, -4.25, 0, 0, -8.5, 0,\n",
      "       -2.875, 0, -13.8125, 0, 0, 0, 0, -11.125, 0, 0, 0, 0, 0, -2.875,\n",
      "       -1.13281], dtype=bfloat16)], [Array([False,  True,  True,  True, False,  True, False, False,  True,\n",
      "       False,  True,  True,  True,  True,  True,  True,  True,  True,\n",
      "        True,  True,  True, False,  True,  True, False,  True, False,\n",
      "        True, False,  True,  True,  True], dtype=bool), Array([ True,  True,  True, False,  True, False, False,  True, False,\n",
      "        True,  True,  True,  True,  True,  True,  True,  True,  True,\n",
      "        True,  True, False,  True,  True, False,  True, False,  True,\n",
      "       False,  True,  True,  True,  True], dtype=bool), Array([ True,  True, False,  True, False, False,  True, False,  True,\n",
      "        True,  True,  True,  True,  True,  True,  True,  True,  True,\n",
      "        True, False,  True,  True, False,  True, False,  True, False,\n",
      "        True,  True,  True,  True, False], dtype=bool), Array([ True, False,  True, False, False,  True, False,  True,  True,\n",
      "        True,  True,  True,  True,  True,  True,  True,  True,  True,\n",
      "       False,  True,  True, False,  True, False,  True, False,  True,\n",
      "        True,  True,  True, False,  True], dtype=bool), Array([False,  True, False, False,  True, False,  True,  True,  True,\n",
      "        True,  True,  True,  True,  True,  True,  True,  True, False,\n",
      "        True,  True, False,  True, False,  True, False,  True,  True,\n",
      "        True,  True, False,  True,  True], dtype=bool), Array([ True, False, False,  True, False,  True,  True,  True,  True,\n",
      "        True,  True,  True,  True,  True,  True,  True, False,  True,\n",
      "        True, False,  True, False,  True, False,  True,  True,  True,\n",
      "        True, False,  True,  True,  True], dtype=bool), Array([False, False,  True, False,  True,  True,  True,  True,  True,\n",
      "        True,  True,  True,  True,  True,  True, False,  True,  True,\n",
      "       False,  True, False,  True, False,  True,  True,  True,  True,\n",
      "       False,  True,  True,  True,  True], dtype=bool), Array([False,  True, False,  True,  True,  True,  True,  True,  True,\n",
      "        True,  True,  True,  True,  True, False,  True,  True, False,\n",
      "        True, False,  True, False,  True,  True,  True,  True, False,\n",
      "        True,  True,  True,  True,  True], dtype=bool), Array([ True, False,  True,  True,  True,  True,  True,  True,  True,\n",
      "        True,  True,  True,  True, False,  True,  True, False,  True,\n",
      "       False,  True, False,  True,  True,  True,  True, False,  True,\n",
      "        True,  True,  True,  True, False], dtype=bool), Array([False,  True,  True,  True,  True,  True,  True,  True,  True,\n",
      "        True,  True,  True, False,  True,  True, False,  True, False,\n",
      "        True, False,  True,  True,  True,  True, False,  True,  True,\n",
      "        True,  True,  True, False, False], dtype=bool)]]\n",
      "zero: [[Array([-0.75, -11.875, -9.375, -2.5, -11.1875, -8.6875, -9.9375, -14.125,\n",
      "       -6.125, -3.75, -8.375, -6.625, -11.5, -5.25, -13.4375, 0, 0, 0,\n",
      "       -17.75, -10.125, -8.125, 0, -11.875, -9.1875, -7.25, -11, -16.875,\n",
      "       -11, -8, -8.1875, -3, -12.5], dtype=bfloat16), Array([-11.875, -9.375, -2.5, -11.1875, -8.6875, -9.9375, -14.125, -6.125,\n",
      "       -3.75, -8.375, -6.625, -11.5, -5.25, -13.4375, 0, 0, 0, -17.75,\n",
      "       -10.125, -8.125, 0, -11.875, -9.1875, -7.25, -11, -16.875, -11, -8,\n",
      "       -8.1875, -3, -12.5, -1.24219], dtype=bfloat16), Array([-9.375, -2.5, -11.1875, -8.6875, -9.9375, -14.125, -6.125, -3.75,\n",
      "       -8.375, -6.625, -11.5, -5.25, -13.4375, 0, 0, 0, -17.75, -10.125,\n",
      "       -8.125, 0, -11.875, -9.1875, -7.25, -11, -16.875, -11, -8, -8.1875,\n",
      "       -3, -12.5, -1.24219, -3.75], dtype=bfloat16), Array([-2.5, -11.1875, -8.6875, -9.9375, -14.125, -6.125, -3.75, -8.375,\n",
      "       -6.625, -11.5, -5.25, -13.4375, 0, 0, 0, -17.75, -10.125, -8.125,\n",
      "       0, -11.875, -9.1875, -7.25, -11, -16.875, -11, -8, -8.1875, -3,\n",
      "       -12.5, -1.24219, -3.75, -4.875], dtype=bfloat16), Array([-11.1875, -8.6875, -9.9375, -14.125, -6.125, -3.75, -8.375, -6.625,\n",
      "       -11.5, -5.25, -13.4375, 0, 0, 0, -17.75, -10.125, -8.125, 0,\n",
      "       -11.875, -9.1875, -7.25, -11, -16.875, -11, -8, -8.1875, -3, -12.5,\n",
      "       -1.24219, -3.75, -4.875, -10.1875], dtype=bfloat16), Array([-8.6875, -9.9375, -14.125, -6.125, -3.75, -8.375, -6.625, -11.5,\n",
      "       -5.25, -13.4375, 0, 0, 0, -17.75, -10.125, -8.125, 0, -11.875,\n",
      "       -9.1875, -7.25, -11, -16.875, -11, -8, -8.1875, -3, -12.5,\n",
      "       -1.24219, -3.75, -4.875, -10.1875, -10.25], dtype=bfloat16), Array([-9.9375, -14.125, -6.125, -3.75, -8.375, -6.625, -11.5, -5.25,\n",
      "       -13.4375, 0, 0, 0, -17.75, -10.125, -8.125, 0, -11.875, -9.1875,\n",
      "       -7.25, -11, -16.875, -11, -8, -8.1875, -3, -12.5, -1.24219, -3.75,\n",
      "       -4.875, -10.1875, -10.25, -12.125], dtype=bfloat16), Array([-14.125, -6.125, -3.75, -8.375, -6.625, -11.5, -5.25, -13.4375, 0,\n",
      "       0, 0, -17.75, -10.125, -8.125, 0, -11.875, -9.1875, -7.25, -11,\n",
      "       -16.875, -11, -8, -8.1875, -3, -12.5, -1.24219, -3.75, -4.875,\n",
      "       -10.1875, -10.25, -12.125, -7.8125], dtype=bfloat16), Array([-6.125, -3.75, -8.375, -6.625, -11.5, -5.25, -13.4375, 0, 0, 0,\n",
      "       -17.75, -10.125, -8.125, 0, -11.875, -9.1875, -7.25, -11, -16.875,\n",
      "       -11, -8, -8.1875, -3, -12.5, -1.24219, -3.75, -4.875, -10.1875,\n",
      "       -10.25, -12.125, -7.8125, -0.125], dtype=bfloat16), Array([-3.75, -8.375, -6.625, -11.5, -5.25, -13.4375, 0, 0, 0, -17.75,\n",
      "       -10.125, -8.125, 0, -11.875, -9.1875, -7.25, -11, -16.875, -11, -8,\n",
      "       -8.1875, -3, -12.5, -1.24219, -3.75, -4.875, -10.1875, -10.25,\n",
      "       -12.125, -7.8125, -0.125, -6.5625], dtype=bfloat16)], [Array([False, False, False, False, False, False, False, False, False,\n",
      "       False, False, False, False, False, False,  True,  True,  True,\n",
      "       False, False, False,  True, False, False, False, False, False,\n",
      "       False, False, False, False, False], dtype=bool), Array([False, False, False, False, False, False, False, False, False,\n",
      "       False, False, False, False, False,  True,  True,  True, False,\n",
      "       False, False,  True, False, False, False, False, False, False,\n",
      "       False, False, False, False, False], dtype=bool), Array([False, False, False, False, False, False, False, False, False,\n",
      "       False, False, False, False,  True,  True,  True, False, False,\n",
      "       False,  True, False, False, False, False, False, False, False,\n",
      "       False, False, False, False, False], dtype=bool), Array([False, False, False, False, False, False, False, False, False,\n",
      "       False, False, False,  True,  True,  True, False, False, False,\n",
      "        True, False, False, False, False, False, False, False, False,\n",
      "       False, False, False, False, False], dtype=bool), Array([False, False, False, False, False, False, False, False, False,\n",
      "       False, False,  True,  True,  True, False, False, False,  True,\n",
      "       False, False, False, False, False, False, False, False, False,\n",
      "       False, False, False, False, False], dtype=bool), Array([False, False, False, False, False, False, False, False, False,\n",
      "       False,  True,  True,  True, False, False, False,  True, False,\n",
      "       False, False, False, False, False, False, False, False, False,\n",
      "       False, False, False, False, False], dtype=bool), Array([False, False, False, False, False, False, False, False, False,\n",
      "        True,  True,  True, False, False, False,  True, False, False,\n",
      "       False, False, False, False, False, False, False, False, False,\n",
      "       False, False, False, False, False], dtype=bool), Array([False, False, False, False, False, False, False, False,  True,\n",
      "        True,  True, False, False, False,  True, False, False, False,\n",
      "       False, False, False, False, False, False, False, False, False,\n",
      "       False, False, False, False, False], dtype=bool), Array([False, False, False, False, False, False, False,  True,  True,\n",
      "        True, False, False, False,  True, False, False, False, False,\n",
      "       False, False, False, False, False, False, False, False, False,\n",
      "       False, False, False, False, False], dtype=bool), Array([False, False, False, False, False, False,  True,  True,  True,\n",
      "       False, False, False,  True, False, False, False, False, False,\n",
      "       False, False, False, False, False, False, False, False, False,\n",
      "       False, False, False, False, False], dtype=bool)]]\n",
      "added: [[Array([0, -0.6875, -1.9375, 0, -2.5625, 0, -1.75, -2, 0, 0, 0, 0, -3.25,\n",
      "       -0.25, -7.25, 0, 0, 0, -8.5, 0, -2.85938, 0, -4.875, -0.320312,\n",
      "       -1.375, -1.86719, -1.82812, 0, 0, -3.5, -0.375, -9.375],      dtype=bfloat16), Array([-0.742188, -1.99219, 0, -2.5625, 0, -1.75, -2, 0, 0, 0, 0, -3.1875,\n",
      "       -0.25, -7.125, 0, 0, 0, -8.4375, 0, -2.875, 0, -4.875, -0.257812,\n",
      "       -1.3125, -1.875, -1.8125, 0, 0, -3.48438, -0.375, -9.25, 0],      dtype=bfloat16), Array([-2.0625, 0, -2.5625, 0, -1.6875, -2.0625, 0, 0, 0, 0, -3.1875,\n",
      "       -0.25, -7.3125, 0, 0, 0, -8.5625, 0, -3.0625, 0, -4.875, -0.195312,\n",
      "       -1.375, -1.88281, -1.8125, 0, 0, -3.5625, -0.3125, -9.25, 0, 0],      dtype=bfloat16), Array([0, -2.6875, 0, -1.75, -2.0625, 0, 0, 0, 0, -3.125, -0.25, -7.25, 0,\n",
      "       0, 0, -8.5, 0, -2.875, 0, -4.875, -0.25, -1.3125, -1.875, -1.75, 0,\n",
      "       0, -3.5625, -0.375, -9.25, 0, -0.0625, 0], dtype=bfloat16), Array([-2.6875, 0, -1.82812, -2, 0, 0, 0, 0, -3.25, -0.25, -7.25, 0, 0, 0,\n",
      "       -8.4375, 0, -2.9375, 0, -4.9375, -0.257812, -1.4375, -1.9375,\n",
      "       -1.73438, 0, 0, -3.5625, -0.375, -9.3125, 0, -0.0625, 0, -1.61719],      dtype=bfloat16), Array([0, -1.76562, -2.0625, 0, 0, 0, 0, -3.125, -0.25, -7.3125, 0, 0, 0,\n",
      "       -8.5, 0, -2.92188, 0, -4.875, -0.242188, -1.3125, -1.82031, -1.75,\n",
      "       0, 0, -3.48438, -0.375, -9.25, 0, -0.0625, 0, -1.5, -3.8125],      dtype=bfloat16), Array([-1.85938, -2.125, 0, 0, 0, 0, -3.3125, -0.375, -7.3125, 0, 0, 0,\n",
      "       -8.625, 0, -3.01562, 0, -4.9375, -0.25, -1.5, -1.86719, -1.89062,\n",
      "       0, 0, -3.6875, -0.375, -9.3125, 0, 0, 0, -1.8125, -3.73438, -1.875],      dtype=bfloat16), Array([-2.1875, 0, 0, 0, 0, -3.39062, -0.25, -7.5625, 0, 0, 0, -8.5625, 0,\n",
      "       -2.875, 0, -4.875, -0.320312, -1.4375, -1.8125, -1.6875, 0, 0,\n",
      "       -3.60938, -0.4375, -9.375, 0, 0, 0, -1.55469, -3.625, -1.92969, 0],      dtype=bfloat16), Array([0, 0, 0, 0, -3.3125, -0.25, -7.46875, 0, 0, 0, -8.4375, 0, -2.8125,\n",
      "       0, -4.875, -0.1875, -1.375, -1.88281, -1.8125, 0, 0, -3.75, -0.375,\n",
      "       -9.3125, 0, 0, 0, -1.5625, -3.60938, -1.9375, 0, 0],      dtype=bfloat16), Array([0, 0, 0, -3.25, -0.25, -7.40625, 0, 0, 0, -8.375, 0, -2.8125, 0,\n",
      "       -4.8125, -0.257812, -1.3125, -1.875, -1.6875, 0, 0, -3.625,\n",
      "       -0.4375, -9.3125, 0, 0, 0, -1.63281, -3.6875, -1.80469, 0, 0,\n",
      "       -2.875], dtype=bfloat16)], [Array([ True, False, False,  True, False,  True, False, False,  True,\n",
      "        True,  True,  True, False, False, False,  True,  True,  True,\n",
      "       False,  True, False,  True, False, False, False, False, False,\n",
      "        True,  True, False, False, False], dtype=bool), Array([False, False,  True, False,  True, False, False,  True,  True,\n",
      "        True,  True, False, False, False,  True,  True,  True, False,\n",
      "        True, False,  True, False, False, False, False, False,  True,\n",
      "        True, False, False, False,  True], dtype=bool), Array([False,  True, False,  True, False, False,  True,  True,  True,\n",
      "        True, False, False, False,  True,  True,  True, False,  True,\n",
      "       False,  True, False, False, False, False, False,  True,  True,\n",
      "       False, False, False,  True,  True], dtype=bool), Array([ True, False,  True, False, False,  True,  True,  True,  True,\n",
      "       False, False, False,  True,  True,  True, False,  True, False,\n",
      "        True, False, False, False, False, False,  True,  True, False,\n",
      "       False, False,  True, False,  True], dtype=bool), Array([False,  True, False, False,  True,  True,  True,  True, False,\n",
      "       False, False,  True,  True,  True, False,  True, False,  True,\n",
      "       False, False, False, False, False,  True,  True, False, False,\n",
      "       False,  True, False,  True, False], dtype=bool), Array([ True, False, False,  True,  True,  True,  True, False, False,\n",
      "       False,  True,  True,  True, False,  True, False,  True, False,\n",
      "       False, False, False, False,  True,  True, False, False, False,\n",
      "        True, False,  True, False, False], dtype=bool), Array([False, False,  True,  True,  True,  True, False, False, False,\n",
      "        True,  True,  True, False,  True, False,  True, False, False,\n",
      "       False, False, False,  True,  True, False, False, False,  True,\n",
      "        True,  True, False, False, False], dtype=bool), Array([False,  True,  True,  True,  True, False, False, False,  True,\n",
      "        True,  True, False,  True, False,  True, False, False, False,\n",
      "       False, False,  True,  True, False, False, False,  True,  True,\n",
      "        True, False, False, False,  True], dtype=bool), Array([ True,  True,  True,  True, False, False, False,  True,  True,\n",
      "        True, False,  True, False,  True, False, False, False, False,\n",
      "       False,  True,  True, False, False, False,  True,  True,  True,\n",
      "       False, False, False,  True,  True], dtype=bool), Array([ True,  True,  True, False, False, False,  True,  True,  True,\n",
      "       False,  True, False,  True, False, False, False, False, False,\n",
      "        True,  True, False, False, False,  True,  True,  True, False,\n",
      "       False, False,  True,  True, False], dtype=bool)]]\n"
     ]
    },
    {
     "name": "stderr",
     "output_type": "stream",
     "text": [
      "100%|██████████| 1/1 [02:06<00:00, 126.93s/it]"
     ]
    },
    {
     "name": "stdout",
     "output_type": "stream",
     "text": [
      "orig: [[Array(-1.95312, dtype=bfloat16), Array(-1.85938, dtype=bfloat16), Array(-2.20312, dtype=bfloat16), Array(-2.20312, dtype=bfloat16), Array(-2.20312, dtype=bfloat16), Array(-2.09375, dtype=bfloat16), Array(-2.09375, dtype=bfloat16), Array(-1.91406, dtype=bfloat16), Array(-1.625, dtype=bfloat16), Array(-1.65625, dtype=bfloat16)], [Array(0.71875, dtype=float32), Array(0.75, dtype=float32), Array(0.71875, dtype=float32), Array(0.71875, dtype=float32), Array(0.71875, dtype=float32), Array(0.75, dtype=float32), Array(0.75, dtype=float32), Array(0.78125, dtype=float32), Array(0.78125, dtype=float32), Array(0.75, dtype=float32)]]\n",
      "zero: [[Array(-8.0625, dtype=bfloat16), Array(-8.0625, dtype=bfloat16), Array(-7.84375, dtype=bfloat16), Array(-7.6875, dtype=bfloat16), Array(-7.9375, dtype=bfloat16), Array(-7.90625, dtype=bfloat16), Array(-8, dtype=bfloat16), Array(-7.9375, dtype=bfloat16), Array(-7.5, dtype=bfloat16), Array(-7.53125, dtype=bfloat16)], [Array(0.125, dtype=float32), Array(0.125, dtype=float32), Array(0.125, dtype=float32), Array(0.125, dtype=float32), Array(0.125, dtype=float32), Array(0.125, dtype=float32), Array(0.125, dtype=float32), Array(0.125, dtype=float32), Array(0.125, dtype=float32), Array(0.125, dtype=float32)]]\n",
      "added: [[Array(-1.70312, dtype=bfloat16), Array(-1.69531, dtype=bfloat16), Array(-1.6875, dtype=bfloat16), Array(-1.61719, dtype=bfloat16), Array(-1.6875, dtype=bfloat16), Array(-1.70312, dtype=bfloat16), Array(-1.80469, dtype=bfloat16), Array(-1.73438, dtype=bfloat16), Array(-1.65625, dtype=bfloat16), Array(-1.73438, dtype=bfloat16)], [Array(0.4375, dtype=float32), Array(0.4375, dtype=float32), Array(0.46875, dtype=float32), Array(0.46875, dtype=float32), Array(0.4375, dtype=float32), Array(0.4375, dtype=float32), Array(0.4375, dtype=float32), Array(0.46875, dtype=float32), Array(0.5, dtype=float32), Array(0.46875, dtype=float32)]]\n"
     ]
    },
    {
     "name": "stderr",
     "output_type": "stream",
     "text": [
      "\n"
     ]
    }
   ],
   "source": [
    "tvs = []\n",
    "\n",
    "for task in tqdm(task_names):\n",
    "    shot_logprobs_orig = [[] for _ in range(2)]\n",
    "    shot_logprobs_added = [[] for _ in range(2)]\n",
    "    shot_logprobs_zero = [[] for _ in range(2)]\n",
    "    for seed in trange(n_seeds):\n",
    "        pairs = tasks[task]\n",
    "        pairs = [list(x) for x in pairs.items()]\n",
    "        dataset = ICLDataset(pairs, size=batch_size, n_prepended=n_few_shots, bidirectional=False, seed=seed)\n",
    "\n",
    "        tokenized = tokenizer.batch_encode_plus([prompt.format(x) for x in dataset.prompts], padding=\"longest\", max_length=max_seq_len, truncation=True, return_tensors=\"np\")\n",
    "        inputs = tokenized_to_inputs(\n",
    "            **tokenized\n",
    "        )\n",
    "        \n",
    "        logits, resids = get_resids_call(inputs)\n",
    "    \n",
    "        tokens = tokenized[\"input_ids\"]\n",
    "\n",
    "        shot_logprobs_orig[0].append(\n",
    "            get_logprob_diff(logits.unwrap(\"batch\", \"seq\", \"vocabulary\"), dataset.completions, print_results=True)\n",
    "        )\n",
    "\n",
    "        shot_logprobs_orig[1].append(\n",
    "            shot_logprobs_orig[0][-1] == 0.\n",
    "        )\n",
    "\n",
    "        mask = inputs.tokens == 1599\n",
    "        mask = mask.unwrap(\"batch\", \"seq\")\n",
    "\n",
    "        tv = resids[layer].value.unwrap(\"batch\", \"seq\", \"embedding\")[\n",
    "            mask\n",
    "        ]\n",
    "\n",
    "        tv = tv.mean(\n",
    "            axis=0\n",
    "        )\n",
    "\n",
    "        tvs.append(tv)\n",
    "\n",
    "        print(\n",
    "            tv.mean(), tv.std()\n",
    "        )\n",
    "\n",
    "        act_add = add_vector(\n",
    "            llama, tv, layer, scale=2.0, position=\"last\"\n",
    "        )\n",
    "\n",
    "        pairs = tasks[task]\n",
    "        pairs = [list(x) for x in pairs.items()]\n",
    "        dataset = ICLDataset(pairs, size=batch_size, n_prepended=0, bidirectional=False, seed=seed+1)\n",
    "\n",
    "\n",
    "        print(\n",
    "            dataset.prompts, dataset.completions\n",
    "        )\n",
    "\n",
    "        tokenized = tokenizer.batch_encode_plus([prompt.format(x) for x in dataset.prompts], padding=\"longest\", max_length=max_seq_len, truncation=True, return_tensors=\"np\")\n",
    "        inputs = tokenized_to_inputs(\n",
    "            **tokenized\n",
    "        )\n",
    "\n",
    "        logits = act_add(inputs)\n",
    "\n",
    "        tokens = tokenized[\"input_ids\"]\n",
    "\n",
    "        shot_logprobs_added[0].append(\n",
    "            get_logprob_diff(logits.unwrap(\"batch\", \"seq\", \"vocabulary\"), dataset.completions, print_results=True)\n",
    "        )\n",
    "\n",
    "        shot_logprobs_added[1].append(\n",
    "            shot_logprobs_added[0][-1] == 0.\n",
    "        )\n",
    "\n",
    "        logits, _ = get_resids_call(inputs)\n",
    "        \n",
    "        shot_logprobs_zero[0].append(\n",
    "            get_logprob_diff(logits.unwrap(\"batch\", \"seq\", \"vocabulary\"), dataset.completions, print_results=True)\n",
    "        )\n",
    "\n",
    "        shot_logprobs_zero[1].append(\n",
    "            shot_logprobs_zero[0][-1] == 0.\n",
    "        )\n",
    "        \n",
    "    print(f\"orig: {shot_logprobs_orig}\")\n",
    "    print(f\"zero: {shot_logprobs_zero}\")\n",
    "    print(f\"added: {shot_logprobs_added}\")\n",
    "\n",
    "\n",
    "    shot_logprobs_orig = [list(map(np.mean, x)) for x in shot_logprobs_orig]\n",
    "    shot_logprobs_zero = [list(map(np.mean, x)) for x in shot_logprobs_zero]\n",
    "    shot_logprobs_added = [list(map(np.mean, x)) for x in shot_logprobs_added]\n",
    "\n",
    "\n",
    "print(f\"orig: {shot_logprobs_orig}\")\n",
    "print(f\"zero: {shot_logprobs_zero}\")\n",
    "print(f\"added: {shot_logprobs_added}\")"
   ]
  },
  {
   "cell_type": "code",
   "execution_count": 64,
   "metadata": {},
   "outputs": [
    {
     "name": "stderr",
     "output_type": "stream",
     "text": [
      "  0%|          | 0/1 [00:00<?, ?it/s]"
     ]
    },
    {
     "name": "stdout",
     "output_type": "stream",
     "text": [
      "-0.0090332 0.875\n",
      "along window information over field current better power message reduce behavior place security hell cell media club live point throw\n",
      "lungo fin inform sop campo att meg pot mess rid comport lu sic infer cell media club abit punto get\n",
      "-0.00256348 0.898438\n",
      "along window information over field current better power message reduce behavior place security hel cell media club live point throw\n",
      "lungo fin inform sop campo att meg pot mess rid comport lu sic infer cell media club abit punto get\n",
      "-0.00260925 0.957031\n",
      "along window inform over campo current migli pot mess rid behavior place security h cell media club v punto throw\n",
      "lungo fin inform sop campo att meg pot mess rid comport lu sic infer cell media club abit punto get\n",
      "-0.00460815 1.09375\n",
      "along fen inform over campo current migli pot mess rid comport pl seg h cell media club v punto throw\n",
      "lungo fin inform sop campo att meg pot mess rid comport lu sic infer cell media club abit punto get\n",
      "-0.00552368 1.17188\n"
     ]
    },
    {
     "name": "stderr",
     "output_type": "stream",
     "text": [
      "100%|██████████| 1/1 [00:22<00:00, 22.50s/it]"
     ]
    },
    {
     "name": "stdout",
     "output_type": "stream",
     "text": [
      "along window inform over campo current migli pot mess rid behavior place sic h cell media club v punto throw\n",
      "lungo fin inform sop campo att meg pot mess rid comport lu sic infer cell media club abit punto get\n",
      "orig: [[Array(-1.46094, dtype=bfloat16)], [Array(0.8, dtype=float32)]]\n",
      "added: [[Array(-4.96875, dtype=bfloat16), Array(-4.75, dtype=bfloat16), Array(-1.53125, dtype=bfloat16), Array(-1.40625, dtype=bfloat16), Array(-1.72656, dtype=bfloat16)], [Array(0.15, dtype=float32), Array(0.15, dtype=float32), Array(0.45000002, dtype=float32), Array(0.6, dtype=float32), Array(0.55, dtype=float32)]]\n"
     ]
    },
    {
     "name": "stderr",
     "output_type": "stream",
     "text": [
      "\n"
     ]
    }
   ],
   "source": [
    "a"
   ]
  },
  {
   "cell_type": "code",
   "execution_count": 61,
   "metadata": {},
   "outputs": [
    {
     "data": {
      "text/html": [
       "<div id=\"output_561a996261754085b452f57d85c7628d\"><script> /* penzai.treescope rendering of a Python object (compressed) */ (()=>{ let observer; let lastStep = new Promise((resolve, reject) => { observer = new IntersectionObserver((entries) => { for (const entry of entries) { if (entry.isIntersecting) { resolve(); observer.disconnect(); return; } } }, {rootMargin: \"1000px\"}); }); window.treescope_decompress_enqueue = (encoded, destId) => { const previous = lastStep; const destElt = document.getElementById(destId); lastStep = (async () => { await previous; let blob = new Blob([ Uint8Array.from(atob(encoded), (m) => m.codePointAt(0)) ]); let reader = blob.stream().pipeThrough( new DecompressionStream(\"deflate\") ).pipeThrough( new TextDecoderStream(\"utf-8\") ).getReader(); let parts = []; while (true) { let step = await reader.read(); if (step.done) { break; } parts.push(step.value); } let newElt = document.createElement(\"div\"); newElt.innerHTML = parts.join(\"\"); destElt.parentNode.replaceChild(newElt, destElt); for (let oldScript of newElt.querySelectorAll(\"script\")) { let newScript = document.createElement(\"script\"); newScript.type = oldScript.type; newScript.textContent = oldScript.textContent; oldScript.parentNode.replaceChild(newScript, oldScript); } })(); requestAnimationFrame(() => { observer.observe(destElt); }); } })(); </script><div id=\"compress_html_f253c453629144d0a133d4f616ea6710\"><script>window.treescope_decompress_enqueue(\"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\", \"compress_html_f253c453629144d0a133d4f616ea6710\");</script><span style=\"color: #aaaaaa; font-family: monospace\">(Loading...)</span></div></div>"
      ],
      "text/plain": [
       "<IPython.core.display.HTML object>"
      ]
     },
     "metadata": {},
     "output_type": "display_data"
    },
    {
     "data": {
      "text/html": [
       "<div id=\"compress_html_7d2bf7ad97584eefb603884fa4569fec\"><script>window.treescope_decompress_enqueue(\"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\", \"compress_html_7d2bf7ad97584eefb603884fa4569fec\");</script></div>"
      ],
      "text/plain": [
       "<IPython.core.display.HTML object>"
      ]
     },
     "metadata": {},
     "output_type": "display_data"
    },
    {
     "data": {
      "text/html": [
       "<div id=\"output_dest_561a996261754085b452f57d85c7628d\"><script> (()=>{ const output = document.getElementById(\"output_561a996261754085b452f57d85c7628d\"); const dest = document.getElementById(\"output_dest_561a996261754085b452f57d85c7628d\"); dest.parentNode.replaceChild(output, dest); })(); </script></div>"
      ],
      "text/plain": [
       "[[<jax.Array(-4.40625, dtype=bfloat16)>,\n",
       "  <jax.Array(-4.4375, dtype=bfloat16)>,\n",
       "  <jax.Array(-1.30469, dtype=bfloat16)>,\n",
       "  <jax.Array(-1.21875, dtype=bfloat16)>,\n",
       "  <jax.Array(-1.51562, dtype=bfloat16)>],\n",
       " [<jax.Array(0., dtype=float32)>,\n",
       "  <jax.Array(0., dtype=float32)>,\n",
       "  <jax.Array(0.25, dtype=float32)>,\n",
       "  <jax.Array(0.35, dtype=float32)>,\n",
       "  <jax.Array(0.35, dtype=float32)>]]"
      ]
     },
     "execution_count": 61,
     "metadata": {},
     "output_type": "execute_result"
    }
   ],
   "source": [
    "shot_logprobs_added"
   ]
  },
  {
   "cell_type": "code",
   "execution_count": 25,
   "metadata": {},
   "outputs": [
    {
     "name": "stderr",
     "output_type": "stream",
     "text": [
      "--2024-05-22 01:35:47--  https://huggingface.co/nev/phi-3-4k-saex-test/resolve/main/l18-test-run-6-1.01E-05/sae_weights.safetensors?download=true\n",
      "Resolving huggingface.co (huggingface.co)... 108.156.211.51, 108.156.211.95, 108.156.211.90, ...\n",
      "Connecting to huggingface.co (huggingface.co)|108.156.211.51|:443... connected.\n",
      "HTTP request sent, awaiting response... 302 Found\n",
      "Location: https://cdn-lfs-us-1.huggingface.co/repos/eb/d8/ebd889d6ac58573e8e8a7aa1176d4d357581a6da60135b94aca378fddf4e9e54/f057cb46f3d871ba03c66e707e3b3d8299322f36fa433862dc3fdca956715614?response-content-disposition=attachment%3B+filename*%3DUTF-8%27%27sae_weights.safetensors%3B+filename%3D%22sae_weights.safetensors%22%3B&Expires=1716600947&Policy=eyJTdGF0ZW1lbnQiOlt7IkNvbmRpdGlvbiI6eyJEYXRlTGVzc1RoYW4iOnsiQVdTOkVwb2NoVGltZSI6MTcxNjYwMDk0N319LCJSZXNvdXJjZSI6Imh0dHBzOi8vY2RuLWxmcy11cy0xLmh1Z2dpbmdmYWNlLmNvL3JlcG9zL2ViL2Q4L2ViZDg4OWQ2YWM1ODU3M2U4ZThhN2FhMTE3NmQ0ZDM1NzU4MWE2ZGE2MDEzNWI5NGFjYTM3OGZkZGY0ZTllNTQvZjA1N2NiNDZmM2Q4NzFiYTAzYzY2ZTcwN2UzYjNkODI5OTMyMmYzNmZhNDMzODYyZGMzZmRjYTk1NjcxNTYxND9yZXNwb25zZS1jb250ZW50LWRpc3Bvc2l0aW9uPSoifV19&Signature=aJcwThB7dZIUj0P%7EEzwd1X6JXrZyEKOWKQPSsr1IHP1ouRnaF8%7EpV6kb8e6CyKFMUujZd4LBANIO8uX4FG9JZDJgFxLcXRmz9a5sC1pshU6UupSfAZULfH58BBxsyaKkAcVp7qWiZbHOiNu5VTRr9Z4ikoR%7E3rCDZRRzB9QIUHDSlzPC0e7CMzwLH1zQuWQ%7EWN88grvPvTi6TaXkP2ZJdiCwtmfavXi99tTheQFeFyfasO7qvvuCwpwM0I1RcyeoTIULgBZrhE7UJlaKB2gm5FBy6uXu0kXVl5zgLR5cbZe5kBhuGNDvZev2-MoGFL92HrIoq7m0ZW7NCjuhSCnIJw__&Key-Pair-Id=KCD77M1F0VK2B [following]\n",
      "--2024-05-22 01:35:47--  https://cdn-lfs-us-1.huggingface.co/repos/eb/d8/ebd889d6ac58573e8e8a7aa1176d4d357581a6da60135b94aca378fddf4e9e54/f057cb46f3d871ba03c66e707e3b3d8299322f36fa433862dc3fdca956715614?response-content-disposition=attachment%3B+filename*%3DUTF-8%27%27sae_weights.safetensors%3B+filename%3D%22sae_weights.safetensors%22%3B&Expires=1716600947&Policy=eyJTdGF0ZW1lbnQiOlt7IkNvbmRpdGlvbiI6eyJEYXRlTGVzc1RoYW4iOnsiQVdTOkVwb2NoVGltZSI6MTcxNjYwMDk0N319LCJSZXNvdXJjZSI6Imh0dHBzOi8vY2RuLWxmcy11cy0xLmh1Z2dpbmdmYWNlLmNvL3JlcG9zL2ViL2Q4L2ViZDg4OWQ2YWM1ODU3M2U4ZThhN2FhMTE3NmQ0ZDM1NzU4MWE2ZGE2MDEzNWI5NGFjYTM3OGZkZGY0ZTllNTQvZjA1N2NiNDZmM2Q4NzFiYTAzYzY2ZTcwN2UzYjNkODI5OTMyMmYzNmZhNDMzODYyZGMzZmRjYTk1NjcxNTYxND9yZXNwb25zZS1jb250ZW50LWRpc3Bvc2l0aW9uPSoifV19&Signature=aJcwThB7dZIUj0P%7EEzwd1X6JXrZyEKOWKQPSsr1IHP1ouRnaF8%7EpV6kb8e6CyKFMUujZd4LBANIO8uX4FG9JZDJgFxLcXRmz9a5sC1pshU6UupSfAZULfH58BBxsyaKkAcVp7qWiZbHOiNu5VTRr9Z4ikoR%7E3rCDZRRzB9QIUHDSlzPC0e7CMzwLH1zQuWQ%7EWN88grvPvTi6TaXkP2ZJdiCwtmfavXi99tTheQFeFyfasO7qvvuCwpwM0I1RcyeoTIULgBZrhE7UJlaKB2gm5FBy6uXu0kXVl5zgLR5cbZe5kBhuGNDvZev2-MoGFL92HrIoq7m0ZW7NCjuhSCnIJw__&Key-Pair-Id=KCD77M1F0VK2B\n",
      "Resolving cdn-lfs-us-1.huggingface.co (cdn-lfs-us-1.huggingface.co)... 18.161.156.61, 18.161.156.3, 18.161.156.33, ...\n",
      "Connecting to cdn-lfs-us-1.huggingface.co (cdn-lfs-us-1.huggingface.co)|18.161.156.61|:443... connected.\n",
      "HTTP request sent, awaiting response... 416 Requested Range Not Satisfiable\n",
      "\n",
      "    The file is already fully retrieved; nothing to do.\n",
      "\n"
     ]
    }
   ],
   "source": [
    "\n",
    "from micrlhf.utils.load_sae import get_sae\n",
    "sae = get_sae(layer, 6)"
   ]
  },
  {
   "cell_type": "code",
   "execution_count": 23,
   "metadata": {},
   "outputs": [],
   "source": [
    "from micrlhf.utils.ito import grad_pursuit"
   ]
  },
  {
   "cell_type": "code",
   "execution_count": 45,
   "metadata": {},
   "outputs": [
    {
     "data": {
      "text/html": [
       "<div id=\"output_bac8db31159a4ed0b8c1e5cbda694618\"><script> /* penzai.treescope rendering of a Python object (compressed) */ (()=>{ let observer; let lastStep = new Promise((resolve, reject) => { observer = new IntersectionObserver((entries) => { for (const entry of entries) { if (entry.isIntersecting) { resolve(); observer.disconnect(); return; } } }, {rootMargin: \"1000px\"}); }); window.treescope_decompress_enqueue = (encoded, destId) => { const previous = lastStep; const destElt = document.getElementById(destId); lastStep = (async () => { await previous; let blob = new Blob([ Uint8Array.from(atob(encoded), (m) => m.codePointAt(0)) ]); let reader = blob.stream().pipeThrough( new DecompressionStream(\"deflate\") ).pipeThrough( new TextDecoderStream(\"utf-8\") ).getReader(); let parts = []; while (true) { let step = await reader.read(); if (step.done) { break; } parts.push(step.value); } let newElt = document.createElement(\"div\"); newElt.innerHTML = parts.join(\"\"); destElt.parentNode.replaceChild(newElt, destElt); for (let oldScript of newElt.querySelectorAll(\"script\")) { let newScript = document.createElement(\"script\"); newScript.type = oldScript.type; newScript.textContent = oldScript.textContent; oldScript.parentNode.replaceChild(newScript, oldScript); } })(); requestAnimationFrame(() => { observer.observe(destElt); }); } })(); </script><div id=\"compress_html_833596309f444653ae66d839c4f46081\"><script>window.treescope_decompress_enqueue(\"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\", \"compress_html_833596309f444653ae66d839c4f46081\");</script><span style=\"color: #aaaaaa; font-family: monospace\">(Loading...)</span></div></div>"
      ],
      "text/plain": [
       "<IPython.core.display.HTML object>"
      ]
     },
     "metadata": {},
     "output_type": "display_data"
    },
    {
     "data": {
      "text/html": [
       "<div id=\"compress_html_ace74cf51878425c81cb6bc81f76aa6e\"><script>window.treescope_decompress_enqueue(\"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\", \"compress_html_ace74cf51878425c81cb6bc81f76aa6e\");</script></div>"
      ],
      "text/plain": [
       "<IPython.core.display.HTML object>"
      ]
     },
     "metadata": {},
     "output_type": "display_data"
    },
    {
     "data": {
      "text/html": [
       "<div id=\"output_dest_bac8db31159a4ed0b8c1e5cbda694618\"><script> (()=>{ const output = document.getElementById(\"output_bac8db31159a4ed0b8c1e5cbda694618\"); const dest = document.getElementById(\"output_dest_bac8db31159a4ed0b8c1e5cbda694618\"); dest.parentNode.replaceChild(output, dest); })(); </script></div>"
      ],
      "text/plain": [
       "<jax.Array int32(10,) [≥24_043, ≤45_211] nonzero:10\n",
       "  <Arrayviz rendering>\n",
       "  Replicated across 4 TPU devices (click to expand)\n",
       ">"
      ]
     },
     "execution_count": 45,
     "metadata": {},
     "output_type": "execute_result"
    }
   ],
   "source": [
    "k = 10\n",
    "\n",
    "weights, recon = grad_pursuit(tvs[0], sae[\"W_dec\"], k, pos_only=True)\n",
    "w, i = jax.lax.top_k(jnp.abs(weights), k)\n",
    "\n",
    "i"
   ]
  },
  {
   "cell_type": "code",
   "execution_count": 46,
   "metadata": {},
   "outputs": [
    {
     "data": {
      "text/html": [
       "<div id=\"output_f4c3ca8ddea54b179875e952ff60512b\"><script> /* penzai.treescope rendering of a Python object (compressed) */ (()=>{ let observer; let lastStep = new Promise((resolve, reject) => { observer = new IntersectionObserver((entries) => { for (const entry of entries) { if (entry.isIntersecting) { resolve(); observer.disconnect(); return; } } }, {rootMargin: \"1000px\"}); }); window.treescope_decompress_enqueue = (encoded, destId) => { const previous = lastStep; const destElt = document.getElementById(destId); lastStep = (async () => { await previous; let blob = new Blob([ Uint8Array.from(atob(encoded), (m) => m.codePointAt(0)) ]); let reader = blob.stream().pipeThrough( new DecompressionStream(\"deflate\") ).pipeThrough( new TextDecoderStream(\"utf-8\") ).getReader(); let parts = []; while (true) { let step = await reader.read(); if (step.done) { break; } parts.push(step.value); } let newElt = document.createElement(\"div\"); newElt.innerHTML = parts.join(\"\"); destElt.parentNode.replaceChild(newElt, destElt); for (let oldScript of newElt.querySelectorAll(\"script\")) { let newScript = document.createElement(\"script\"); newScript.type = oldScript.type; newScript.textContent = oldScript.textContent; oldScript.parentNode.replaceChild(newScript, oldScript); } })(); requestAnimationFrame(() => { observer.observe(destElt); }); } })(); </script><div id=\"compress_html_2d4ba0839fc24a53a8dfaa070c548a66\"><script>window.treescope_decompress_enqueue(\"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\", \"compress_html_2d4ba0839fc24a53a8dfaa070c548a66\");</script><span style=\"color: #aaaaaa; font-family: monospace\">(Loading...)</span></div></div>"
      ],
      "text/plain": [
       "<IPython.core.display.HTML object>"
      ]
     },
     "metadata": {},
     "output_type": "display_data"
    },
    {
     "data": {
      "text/html": [
       "<div id=\"compress_html_1cbe0093d77c418eb08cebd112e75aa2\"><script>window.treescope_decompress_enqueue(\"eNrtWG1v2zYQ/iuEgjVSG6tSbMdvsYEt3YB+6YdhwD4UhUCLtMWZJjWKdpIW/e87krJk2Y7jZmmKAUsA2xLv/R7eHXlN2BoV+p7TsUdYkXN8P0RCCuohRsbeTKqE0BlVipLkqt0b0KgXRf1Zp3NFu/0ZSSM6INPeALdT0vMm10WOBXwaeZNwKrWWS84EHQqp/XAmOcFTThMhCR1muPAnHE8pnzRXEi3nc+54hmlG0wUlQYBeB+gLyjEhTMxbWuZDFIVxly5HyGhoZZTNMz1EcWjffQ1TycF4PJ0qugZO+zhEZ1f9SxxFNUEql0sqdHKbUZHQO7CfUPJs9m60YvtXaxWr5ZSqLYJo0I+7VzVBoRX4uS2hHXfjbkUA6TBu1wRTjtPFCE3hc67kSpBWubDGym+1plymC/cqACqpCFUuinF+hwrJGTlG6VL5GPFXFGb3OVVg2SJRdCk1TTK5Bkd3jd43Uy54mvn9zk8mrZ0uiqOBk3iLi6RIleQc2LUMZ0wVOtEsXZwsddAJYyM3GqC4fRX2Dgq2+TuqLthTqBUWBdNMiuGechQXiOKCtphoyZW+QDMpdOvWwnRnzWQ1S7MEdk9KE05negvq5tFgvZtmTTplJdWEym2AipIBkoUGY9OM8eeDdFUlbO5HaInVHNxwZqaYp/5lmqGWgYqLc9MORcV3M6UEqzOFAGQpsYg9o5H5N0H5e4W5wEua5IrO2B0IsWkp2GdqQtd3taPQ2OipLK7y7jSgCWqSvHhwo7CTZi68j9j6MsF2NcFadbAyNOq29QNgyjP0GvkxuLPNUsotgIoGQVDFoGZtnc670bupX5azErl52ypfv2A06wpsI9hSmLBVUToY0yV497Bj1tJ/Z8SjEP/SaBIuv2YvndAkjhN/DUHidxkK6iQfmwtso7d1Glpsvg1sM/bY0GpFaZHKHGqslDqsiJMlWIKOSGDC6HTdxRCBtY8SnqLsQTmlyddv3chl5y+UclwUY69pZjmcbWa9RlZgvCDTfqeLR4fwBgEdeU3RjdQgViSuS0phGyMQuxReM5GvNNIwE4w9m7SpvPMOCinzC6xvLVNTXz1VaNi5VHuIYI1bC3qfY52NvR3zGl26RBtqNljvlFiVizs9w5vkVHzGrM4c7J0cLClg3Jlhzs0kEEJK7Czsvj5I/ftGem6c9pvr12/LiG3pPTdSpyvAtDhHUtxwmEHG57XSDEZViJ6hSlKz6OuMFcG5i415PfZ8jpdTgpGB1tB+Bl4NgYpwiM4PUJ6PUEmDBSAQuznn/AYYkIk7/K5G/qY329HbLTSoWWi8I9R7pBJmHCYwh+EyV+NvgkjY4D0EmHLm9iavzu4ue6OflcL3vhkXo3bc614gYnE84xLr9mXgiJp+X+xjCiRznBeUeBN0KDqNY4f3AvlvxuF0NOzwPR0bJyLl4dzDufSJmWfkYN7dYcybDDq9Qafb6bfb7cv46r+cWkaekljg+oFptbvriYk1vMda1PN3pCOXB95RGJwdxMpei/kL321aiC1ER/rEMaB5e4evo+ve5PkSsH3/AjWV65FdQK5wGv+sY+7x1VyPjkDoB24l49lTNpPle67tdOpW24nTxf+xPClsjXmxvrVEO3ct3iT4tkw0xvZHt0e1JY4MHfvbZPNF2BoUpKBIT3w/QOMJ+pJKUUCxs3v3PSnQGH30Tr/N/TRy/CYXwHoLpULebg29IDRpHl58RGS6MhXRLP7Kqfn5y/174lc2fIw+mfOrkzxTeG5IQHrFmCqKNX1XPv5WUvgVj9Fzw+HYA0wb/hDnMJKTG1PCfAud1FB8gCrua7WyJ+aZVMjnVCMGjNEIvq7ryIScirnO4O2bN+ZEaejc4raWB31in0CB4SnkSqX0HVtve7TDZu/UPfQG7fC7xxCmKw6I+5PpzK/EuVvIUop1ExjqVXPVuqa+vRdwh8gtIVXAzHJgiAAzDicbvOylloq/V3RF35VY+YMuQZ6mhR9UvP8AwbuRgA==\", \"compress_html_1cbe0093d77c418eb08cebd112e75aa2\");</script></div>"
      ],
      "text/plain": [
       "<IPython.core.display.HTML object>"
      ]
     },
     "metadata": {},
     "output_type": "display_data"
    },
    {
     "data": {
      "text/html": [
       "<div id=\"output_dest_f4c3ca8ddea54b179875e952ff60512b\"><script> (()=>{ const output = document.getElementById(\"output_f4c3ca8ddea54b179875e952ff60512b\"); const dest = document.getElementById(\"output_dest_f4c3ca8ddea54b179875e952ff60512b\"); dest.parentNode.replaceChild(output, dest); })(); </script></div>"
      ],
      "text/plain": [
       "<jax.Array(36.703175, dtype=float32)>"
      ]
     },
     "execution_count": 46,
     "metadata": {},
     "output_type": "execute_result"
    }
   ],
   "source": [
    "jnp.linalg.norm(tvs[0] - recon)"
   ]
  },
  {
   "cell_type": "code",
   "execution_count": 36,
   "metadata": {},
   "outputs": [
    {
     "data": {
      "text/html": [
       "<div id=\"output_21044ed678264f3fb9ebfbd9c7cdadd9\"><script> /* penzai.treescope rendering of a Python object (compressed) */ (()=>{ let observer; let lastStep = new Promise((resolve, reject) => { observer = new IntersectionObserver((entries) => { for (const entry of entries) { if (entry.isIntersecting) { resolve(); observer.disconnect(); return; } } }, {rootMargin: \"1000px\"}); }); window.treescope_decompress_enqueue = (encoded, destId) => { const previous = lastStep; const destElt = document.getElementById(destId); lastStep = (async () => { await previous; let blob = new Blob([ Uint8Array.from(atob(encoded), (m) => m.codePointAt(0)) ]); let reader = blob.stream().pipeThrough( new DecompressionStream(\"deflate\") ).pipeThrough( new TextDecoderStream(\"utf-8\") ).getReader(); let parts = []; while (true) { let step = await reader.read(); if (step.done) { break; } parts.push(step.value); } let newElt = document.createElement(\"div\"); newElt.innerHTML = parts.join(\"\"); destElt.parentNode.replaceChild(newElt, destElt); for (let oldScript of newElt.querySelectorAll(\"script\")) { let newScript = document.createElement(\"script\"); newScript.type = oldScript.type; newScript.textContent = oldScript.textContent; oldScript.parentNode.replaceChild(newScript, oldScript); } })(); requestAnimationFrame(() => { observer.observe(destElt); }); } })(); </script><div id=\"compress_html_5e4de90408b5437fad2d3017c3e0121d\"><script>window.treescope_decompress_enqueue(\"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\", \"compress_html_5e4de90408b5437fad2d3017c3e0121d\");</script><span style=\"color: #aaaaaa; font-family: monospace\">(Loading...)</span></div></div>"
      ],
      "text/plain": [
       "<IPython.core.display.HTML object>"
      ]
     },
     "metadata": {},
     "output_type": "display_data"
    },
    {
     "data": {
      "text/html": [
       "<div id=\"compress_html_d5c8613915594bf3a5d07df5214deeca\"><script>window.treescope_decompress_enqueue(\"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\", \"compress_html_d5c8613915594bf3a5d07df5214deeca\");</script></div>"
      ],
      "text/plain": [
       "<IPython.core.display.HTML object>"
      ]
     },
     "metadata": {},
     "output_type": "display_data"
    },
    {
     "data": {
      "text/html": [
       "<div id=\"output_dest_21044ed678264f3fb9ebfbd9c7cdadd9\"><script> (()=>{ const output = document.getElementById(\"output_21044ed678264f3fb9ebfbd9c7cdadd9\"); const dest = document.getElementById(\"output_dest_21044ed678264f3fb9ebfbd9c7cdadd9\"); dest.parentNode.replaceChild(output, dest); })(); </script></div>"
      ],
      "text/plain": [
       "[[<Array([29.792599, 10.352382,  8.920501,  8.145139,  8.122905], dtype=float32)\n",
       "    <Arrayviz rendering>\n",
       "    Replicated across 4 TPU devices (click to expand)\n",
       "  >,\n",
       "  <Array([34560, 40991, 24043, 30355, 45211], dtype=int32)\n",
       "    <Arrayviz rendering>\n",
       "    Replicated across 4 TPU devices (click to expand)\n",
       "  >],\n",
       " [<Array([29.806067, 10.385991,  8.90197 ,  8.17028 ,  8.131155], dtype=float32)\n",
       "    <Arrayviz rendering>\n",
       "    Replicated across 4 TPU devices (click to expand)\n",
       "  >,\n",
       "  <Array([34560, 40991, 24043, 45211, 30355], dtype=int32)\n",
       "    <Arrayviz rendering>\n",
       "    Replicated across 4 TPU devices (click to expand)\n",
       "  >],\n",
       " [<Array([29.883137, 10.367022,  8.96897 ,  8.084253,  7.998138], dtype=float32)\n",
       "    <Arrayviz rendering>\n",
       "    Replicated across 4 TPU devices (click to expand)\n",
       "  >,\n",
       "  <Array([34560, 40991, 24043, 45211, 30355], dtype=int32)\n",
       "    <Arrayviz rendering>\n",
       "    Replicated across 4 TPU devices (click to expand)\n",
       "  >],\n",
       " [<Array([26.066097 ,  9.934102 ,  8.822496 ,  8.050564 ,  7.8920116],      dtype=float32)\n",
       "    <Arrayviz rendering>\n",
       "    Replicated across 4 TPU devices (click to expand)\n",
       "  >,\n",
       "  <Array([34560, 40991, 24043, 45211, 30355], dtype=int32)\n",
       "    <Arrayviz rendering>\n",
       "    Replicated across 4 TPU devices (click to expand)\n",
       "  >],\n",
       " [<Array([26.23363  ,  9.876981 ,  8.7954235,  8.072471 ,  7.838931 ],      dtype=float32)\n",
       "    <Arrayviz rendering>\n",
       "    Replicated across 4 TPU devices (click to expand)\n",
       "  >,\n",
       "  <Array([34560, 40991, 24043, 45211, 30355], dtype=int32)\n",
       "    <Arrayviz rendering>\n",
       "    Replicated across 4 TPU devices (click to expand)\n",
       "  >],\n",
       " [<Array([26.243702 ,  9.882975 ,  8.824527 ,  8.136261 ,  7.9271026],      dtype=float32)\n",
       "    <Arrayviz rendering>\n",
       "    Replicated across 4 TPU devices (click to expand)\n",
       "  >,\n",
       "  <Array([34560, 40991, 24043, 45211, 30355], dtype=int32)\n",
       "    <Arrayviz rendering>\n",
       "    Replicated across 4 TPU devices (click to expand)\n",
       "  >],\n",
       " [<Array([26.247698,  9.898605,  8.814878,  8.135923,  7.857659], dtype=float32)\n",
       "    <Arrayviz rendering>\n",
       "    Replicated across 4 TPU devices (click to expand)\n",
       "  >,\n",
       "  <Array([34560, 40991, 24043, 45211, 26986], dtype=int32)\n",
       "    <Arrayviz rendering>\n",
       "    Replicated across 4 TPU devices (click to expand)\n",
       "  >],\n",
       " [<Array([26.279543,  9.898817,  8.800136,  8.145805,  8.018657], dtype=float32)\n",
       "    <Arrayviz rendering>\n",
       "    Replicated across 4 TPU devices (click to expand)\n",
       "  >,\n",
       "  <Array([34560, 40991, 24043, 45211, 26986], dtype=int32)\n",
       "    <Arrayviz rendering>\n",
       "    Replicated across 4 TPU devices (click to expand)\n",
       "  >],\n",
       " [<Array([26.278713,  9.908989,  8.835454,  8.160914,  8.048674], dtype=float32)\n",
       "    <Arrayviz rendering>\n",
       "    Replicated across 4 TPU devices (click to expand)\n",
       "  >,\n",
       "  <Array([34560, 40991, 24043, 45211, 26986], dtype=int32)\n",
       "    <Arrayviz rendering>\n",
       "    Replicated across 4 TPU devices (click to expand)\n",
       "  >],\n",
       " [<Array([30.394947, 10.208616,  9.004849,  8.210366,  8.165597], dtype=float32)\n",
       "    <Arrayviz rendering>\n",
       "    Replicated across 4 TPU devices (click to expand)\n",
       "  >,\n",
       "  <Array([34560, 40991, 24043, 26986, 45211], dtype=int32)\n",
       "    <Arrayviz rendering>\n",
       "    Replicated across 4 TPU devices (click to expand)\n",
       "  >]]"
      ]
     },
     "execution_count": 36,
     "metadata": {},
     "output_type": "execute_result"
    }
   ],
   "source": [
    "k = 5\n",
    "\n",
    "[\n",
    "    jax.lax.top_k(jnp.abs(grad_pursuit(x, sae[\"W_dec\"], k, pos_only=True)[0]), k) for x in tvs\n",
    "]"
   ]
  },
  {
   "cell_type": "code",
   "execution_count": null,
   "metadata": {},
   "outputs": [],
   "source": []
  },
  {
   "cell_type": "code",
   "execution_count": 27,
   "metadata": {},
   "outputs": [
    {
     "data": {
      "application/vnd.jupyter.widget-view+json": {
       "model_id": "c00686779b444933ae57768e20c53641",
       "version_major": 2,
       "version_minor": 0
      },
      "text/plain": [
       "  0%|          | 0/1 [00:00<?, ?it/s]"
      ]
     },
     "metadata": {},
     "output_type": "display_data"
    },
    {
     "name": "stdout",
     "output_type": "stream",
     "text": [
      "-0.00294495 1.10156\n",
      "об amb ре  пи пи вопро ка кни пи день ок кни пу  г ве kitchen  less  ме вто ко<|placeholder1|> мате ко<|placeholder1|> ви мо би bus ф е г  та е date пи проду тан су ме прода tennis мате<|placeholder1|> ми п би би ве пе amb<|placeholder1|> пи check проду з<|placeholder1|> bus price са\n",
      "зав ско ри дере сви га вопро ка кни х день ок те команди ло г ос ку мо у мо а се ко сез мате ко от с го би авто ф пи г дере сто е да на проду та су сту прода т мате сез ми учи би би з ру ско сез пи реги проду з от авто це са\n",
      "br amb rice trees p bur answer calendar books bread money wind not vac boat be aut kitchen ice less ice ph second hat season math hat vac viol mount bi bus fl food be trees table me month drink product dan soup chair sell tennis math season minutes engineer business bi winter p amb season pie check product * vac bus price sal\n",
      "зав ско ри дере сви га вопро ка кни х день ок те команди ло г ос ку мо у мо а се ко сез мате ко от с го би авто ф пи г дере сто е да на проду та су сту прода т мате сез ми учи би би з ру ско сез пи реги проду з от авто це са\n",
      "breakfast _ rice tree p bur answer calendar book bread money window not trip boat be _ kitchen ice less ice _ second cat season math cat _ viol mountain bi bus fo food be tree table me date drink word dance soup chair sell _ math season minute < business bi winter pen _ season pie check word star _ bus price sand\n",
      "зав ско ри дере сви га вопро ка кни х день ок те команди ло г ос ку мо у мо а се ко сез мате ко от с го би авто ф пи г дере сто е да на проду та су сту прода т мате сез ми учи би би з ру ско сез пи реги проду з от авто це са\n",
      "breakfast amb r ar por bur question cal libro pan mon fen libro business boat be aut kitchen ice le ice ph segunda k season math k vac viol mont bi bus f aliment be ar tar men date be product dan sal s v tennis math season min < business bi winter pen amb season pie check product st vac bus price sal\n",
      "зав ско ри дере сви га вопро ка кни х день ок те команди ло г ос ку мо у мо а се ко сез мате ко от с го би авто ф пи г дере сто е да на проду та су сту прода т мате сез ми учи би би з ру ско сез пи реги проду з от авто це са\n",
      "breakfast amb rice ar por bur question cal libro bread mon fen not business boat be aut kitchen ice less ice ph segunda k season math k vac viol mont bi bus fl aliment be ar table menu date  product dan soup chair v tennis math season minute < business bi winter pen amb season pie check product st vac bus price sal\n",
      "зав ско ри дере сви га вопро ка кни х день ок те команди ло г ос ку мо у мо а се ко сез мате ко от с го би авто ф пи г дере сто е да на проду та су сту прода т мате сез ми учи би би з ру ско сез пи реги проду з от авто це са\n",
      "breakfast amb rice ar por bur question cal libro pan mon fen not business b be aut kitchen gel le gel ph segunda k season math k vac viol mont bi bus fla aliment be ar t men date be product dan sop s v tennis math season minute < business bi winter pen amb season pie check product st vac bus price sal\n",
      "зав ско ри дере сви га вопро ка кни х день ок те команди ло г ос ку мо у мо а се ко сез мате ко от с го би авто ф пи г дере сто е да на проду та су сту прода т мате сез ми учи би би з ру ско сез пи реги проду з от авто це са\n",
      "breakfast amb rice tree p bur question cal libro bread money fen not business boat be aut kitchen ice less ice ph second k season math k vac viol mountain bi bus fl food be tree table menu date  product dan sop cha v tennis math season minute < business bi winter pen amb season pie check product st vac bus price sal\n",
      "зав ско ри дере сви га вопро ка кни х день ок те команди ло г ос ку мо у мо а се ко сез мате ко от с го би авто ф пи г дере сто е да на проду та су сту прода т мате сез ми учи би би з ру ско сез пи реги проду з от авто це са\n",
      "breakfast amb rice tree p bur question cal libro bread money fen not business boat be aut kitchen ice less ice ph second k season math k vac viol mountain bi bus fl food be tree table me date be product dance soup cha sell tennis math season minute follow business bi winter pen amb season pie check product star vac bus price sal\n",
      "зав ско ри дере сви га вопро ка кни х день ок те команди ло г ос ку мо у мо а се ко сез мате ко от с го би авто ф пи г дере сто е да на проду та су сту прода т мате сез ми учи би би з ру ско сез пи реги проду з от авто це са\n",
      "breakfast amb rice tree p bur question cal libro bread money fen not business boat be aut kitchen ice less ice ph second k season math k vac viol mountain bi bus fl food be tree table me date be product dance soup cha sell tennis math season minute follow business bi winter pen amb season pie check product star vac bus price sal\n",
      "зав ско ри дере сви га вопро ка кни х день ок те команди ло г ос ку мо у мо а се ко сез мате ко от с го би авто ф пи г дере сто е да на проду та су сту прода т мате сез ми учи би би з ру ско сез пи реги проду з от авто це са\n",
      "breakfast amb rice tree p bur question cal libro bread money fen not business boat be aut kitchen ice less ice ph second k season math k vac viol mountain bi bus fl food be tree table me date drink product dance soup cha sell tennis math season minute follow business bi winter pen amb season pie check product star vac bus price sal\n",
      "зав ско ри дере сви га вопро ка кни х день ок те команди ло г ос ку мо у мо а се ко сез мате ко от с го би авто ф пи г дере сто е да на проду та су сту прода т мате сез ми учи би би з ру ско сез пи реги проду з от авто це са\n",
      "breakfast amb rice tree p bur question calendar libro bread money window not business boat be aut kitchen ice less ice ph second k season math k vac viol mountain bi bus fl food be tree table me date drink product dance soup cha sell tennis math season minute te business bi winter pen amb season pie check product star vac bus price sal\n",
      "зав ско ри дере сви га вопро ка кни х день ок те команди ло г ос ку мо у мо а се ко сез мате ко от с го би авто ф пи г дере сто е да на проду та су сту прода т мате сез ми учи би би з ру ско сез пи реги проду з от авто це са\n",
      "breakfast amb rice tree p bur question calendar libro bread money fen not trip boat be aut kitchen ice less ice ph second k season math k vac viol mountain bi bus fl food be tree table me date drink product dance soup cha sell tennis math season minute te biz bi winter pen amb season pie check product star vac bus price sal\n",
      "зав ско ри дере сви га вопро ка кни х день ок те команди ло г ос ку мо у мо а се ко сез мате ко от с го би авто ф пи г дере сто е да на проду та су сту прода т мате сез ми учи би би з ру ско сез пи реги проду з от авто це са\n",
      "breakfast amb rice tree p bur question calendar libro bread money window not trip boat be aut kitchen ice less ice ph second k season math k vac viol mountain bi bus fl food be tree table me date be product dance soup cha sell tennis math season minute te biz bi winter pen amb season pie check product star vac bus price sal\n",
      "зав ско ри дере сви га вопро ка кни х день ок те команди ло г ос ку мо у мо а се ко сез мате ко от с го би авто ф пи г дере сто е да на проду та су сту прода т мате сез ми учи би би з ру ско сез пи реги проду з от авто це са\n",
      "breakfast amb rice tree p bur question calendar libro bread money fen not trip boat be aut kitchen ice less ice ph second k season math k vac viol mountain bi bus fl food be tree table me date be product dance soup cha sell tennis math season minute te biz bi winter pen amb season pie check product st vac bus price sal\n",
      "зав ско ри дере сви га вопро ка кни х день ок те команди ло г ос ку мо у мо а се ко сез мате ко от с го би авто ф пи г дере сто е да на проду та су сту прода т мате сез ми учи би би з ру ско сез пи реги проду з от авто це са\n",
      "breakfast amb rice tree p bur question calendar libro bread money fen not trip boat be aut kitchen ice less ice ph second k season math k vac viol mountain bi bus fl food be tree table me date be product dance soup cha sell tennis math season minute te biz bi winter pen amb season pie check product st vac bus price sal\n",
      "зав ско ри дере сви га вопро ка кни х день ок те команди ло г ос ку мо у мо а се ко сез мате ко от с го би авто ф пи г дере сто е да на проду та су сту прода т мате сез ми учи би би з ру ско сез пи реги проду з от авто це са\n",
      "breakfast amb rice tree p bur question calendar libro bread money fen not trip boat be aut kitchen ice less ice ph second k season math k vac viol mountain bi bus fl food be tree table me date be product dance soup cha sell tennis math season minute te biz bi winter pen amb season pie check product st vac bus price sal\n",
      "зав ско ри дере сви га вопро ка кни х день ок те команди ло г ос ку мо у мо а се ко сез мате ко от с го би авто ф пи г дере сто е да на проду та су сту прода т мате сез ми учи би би з ру ско сез пи реги проду з от авто це са\n",
      "breakfast amb rice tree p bur question cal libro bread money fen not business boat be aut kitchen ice less ice ph second k season math k vac viol  bi bus fl food be tree table me date  product dance   v tennis math season minute  biz bi winter pen amb season pie check product st vac bus price sal\n",
      "зав ско ри дере сви га вопро ка кни х день ок те команди ло г ос ку мо у мо а се ко сез мате ко от с го би авто ф пи г дере сто е да на проду та су сту прода т мате сез ми учи би би з ру ско сез пи реги проду з от авто це са\n",
      "breakfast amb rice tree p bur question cal libro bread money fen not business boat be winter kitchen  less  ph second k season math k vac viol mont bi bus fl food be tree  me date  product dance   v tennis math season minute  biz bi winter pen amb season pie check product st vac bus price \n",
      "зав ско ри дере сви га вопро ка кни х день ок те команди ло г ос ку мо у мо а се ко сез мате ко от с го би авто ф пи г дере сто е да на проду та су сту прода т мате сез ми учи би би з ру ско сез пи реги проду з от авто це са\n",
      "breakfast amb rice tree por bur question calendar кни bread money fen not trip boat be aut kitchen  less  ph second k season math k vac viol mountain bi bus fl food be tree та me date  product dance   sell tennis math season minute<|placeholder1|> biz bi winter pen amb season pie check product st vac bus price sal\n",
      "зав ско ри дере сви га вопро ка кни х день ок те команди ло г ос ку мо у мо а се ко сез мате ко от с го би авто ф пи г дере сто е да на проду та су сту прода т мате сез ми учи би би з ру ско сез пи реги проду з от авто це са\n",
      "breakfast amb rice tree p bur question cal кни bread money fen not trip boat be winter kitchen  less  ph second k season math k vac viol  bi bus fl food be tree та me date  product dance   sell tennis math season minute  biz bi winter pen amb season pie check product st vac bus price \n",
      "зав ско ри дере сви га вопро ка кни х день ок те команди ло г ос ку мо у мо а се ко сез мате ко от с го би авто ф пи г дере сто е да на проду та су сту прода т мате сез ми учи би би з ру ско сез пи реги проду з от авто це са\n",
      "breakfast amb rice tree p bur question cal кни bread money fen not trip boat be aut kitchen  less  ph second k season math k vac viol mountain bi bus fl food be tree та me date  product dance   sell tennis math season minute  biz bi winter pen amb season pie check product st vac bus price sal\n",
      "зав ско ри дере сви га вопро ка кни х день ок те команди ло г ос ку мо у мо а се ко сез мате ко от с го би авто ф пи г дере сто е да на проду та су сту прода т мате сез ми учи би би з ру ско сез пи реги проду з от авто це са\n",
      "breakfast amb rice tree p bur question cal кни bread money fen not trip boat be aut kitchen  less  ph second k season math k vac viol mountain bi bus fl food be tree та me date  product dance   sell tennis math season minute  biz bi winter pen amb season pie check product st vac bus price \n",
      "зав ско ри дере сви га вопро ка кни х день ок те команди ло г ос ку мо у мо а се ко сез мате ко от с го би авто ф пи г дере сто е да на проду та су сту прода т мате сез ми учи би би з ру ско сез пи реги проду з от авто це са\n",
      "breakfast amb rice tree p bur question cal кни bread money fen not trip boat be winter kitchen  less  ph second k season math k vac viol mountain bi bus fl food be tree та me date  product dance   sell tennis math season minute  biz bi winter pen amb season pie check product st vac bus price \n",
      "зав ско ри дере сви га вопро ка кни х день ок те команди ло г ос ку мо у мо а се ко сез мате ко от с го би авто ф пи г дере сто е да на проду та су сту прода т мате сез ми учи би би з ру ско сез пи реги проду з от авто це са\n",
      "breakfast amb rice tree p bur question cal кни bread money fen not trip boat be aut kitchen  less  ph second k season math k vac viol mountain bi bus fl food be tree та me date  product dance   sell tennis math season minute<|placeholder1|> biz bi winter pen amb season pie check product st vac bus price sal\n",
      "зав ско ри дере сви га вопро ка кни х день ок те команди ло г ос ку мо у мо а се ко сез мате ко от с го би авто ф пи г дере сто е да на проду та су сту прода т мате сез ми учи би би з ру ско сез пи реги проду з от авто це са\n",
      "breakfast amb rice tree p bur question cal кни bread money fen not trip boat be aut kitchen  less  ph second k season math k vac viol mountain bi bus fl food be tree та me date  product dance   sell tennis math season minute сер biz bi winter pen amb season pie check product st vac bus price sal\n",
      "зав ско ри дере сви га вопро ка кни х день ок те команди ло г ос ку мо у мо а се ко сез мате ко от с го би авто ф пи г дере сто е да на проду та су сту прода т мате сез ми учи би би з ру ско сез пи реги проду з от авто це са\n",
      "breakfast amb rice tree p bur question cal кни bread money fen not trip boat be aut kitchen  less  ph second k season math k vac viol mountain bi bus fl food be tree table me date  product dance   sell tennis math season ми  biz bi winter pen amb season pie check product st vac bus price sal\n",
      "зав ско ри дере сви га вопро ка кни х день ок те команди ло г ос ку мо у мо а се ко сез мате ко от с го би авто ф пи г дере сто е да на проду та су сту прода т мате сез ми учи би би з ру ско сез пи реги проду з от авто це са\n",
      "breakfast amb rice tree por bur question kal кни bread money fen not trip boat be aut kitchen  less  ph second k season math k vac viol mountain bi bus fl food be tree та me date  product dance soup cha sell tennis math season ми te biz bi winter pen amb season pie check product st vac bus price sal\n",
      "зав ско ри дере сви га вопро ка кни х день ок те команди ло г ос ку мо у мо а се ко сез мате ко от с го би авто ф пи г дере сто е да на проду та су сту прода т мате сез ми учи би би з ру ско сез пи реги проду з от авто це са\n",
      "breakfast amb rice tree p bur question cal кни bread money fen not trip boat be aut kitchen  less  ph second k season math k vac viol mountain bi bus fl food be tree table me date  product dance soup cha sell tennis math season minute te biz bi winter pen amb season pie check product st vac bus price sal\n",
      "зав ско ри дере сви га вопро ка кни х день ок те команди ло г ос ку мо у мо а се ко сез мате ко от с го би авто ф пи г дере сто е да на проду та су сту прода т мате сез ми учи би би з ру ско сез пи реги проду з от авто це са\n",
      "breakfast amb rice tree p bur question cal кни bread money fen not trip boat be aut kitchen  less  ph second k season math k vac viol mountain bi bus fl food be tree table me date  product d soup cha sell tennis math season ми  biz bi winter pen amb season pie check product st vac bus price sal\n",
      "зав ско ри дере сви га вопро ка кни х день ок те команди ло г ос ку мо у мо а се ко сез мате ко от с го би авто ф пи г дере сто е да на проду та су сту прода т мате сез ми учи би би з ру ско сез пи реги проду з от авто це са\n",
      "breakfast amb rice tree p bur question cal libro bread money fen not trip boat be aut kitchen  less  ph second k season math k vac viol mountain bi bus fl food be tree table me date  product dance soup cha sell tennis math season minute te biz bi winter pen amb season pie check product st vac bus price sal\n",
      "зав ско ри дере сви га вопро ка кни х день ок те команди ло г ос ку мо у мо а се ко сез мате ко от с го би авто ф пи г дере сто е да на проду та су сту прода т мате сез ми учи би би з ру ско сез пи реги проду з от авто це са\n",
      "breakfast amb rice tree por bur question cal libro bread money fen not trip boat be aut kitchen  less  ph second k season math k vac viol mountain bi bus fl food be tree table me date  product d soup cha sell tennis math season ми te biz bi winter pen amb season pie check product st vac bus price sal\n",
      "зав ско ри дере сви га вопро ка кни х день ок те команди ло г ос ку мо у мо а се ко сез мате ко от с го би авто ф пи г дере сто е да на проду та су сту прода т мате сез ми учи би би з ру ско сез пи реги проду з от авто це са\n",
      "breakfast amb rice tree por bur question cal libro bread money fen not trip boat be aut kitchen  less  ph second k season math k vac viol mountain bi bus fl food be tree table me date  product d soup cha sell tennis math season ми te biz bi winter pen amb season pie check product st vac bus price sal\n",
      "зав ско ри дере сви га вопро ка кни х день ок те команди ло г ос ку мо у мо а се ко сез мате ко от с го би авто ф пи г дере сто е да на проду та су сту прода т мате сез ми учи би би з ру ско сез пи реги проду з от авто це са\n",
      "breakfast amb   p bur question kal кни bread money ок not business boat be в kitchen  less  ph  k season math k vac viol  bi bus  food be  та е date  product тан    tennis math season ми  biz bi  pen amb season pie check product  vac bus price \n",
      "зав ско ри дере сви га вопро ка кни х день ок те команди ло г ос ку мо у мо а се ко сез мате ко от с го би авто ф пи г дере сто е да на проду та су сту прода т мате сез ми учи би би з ру ско сез пи реги проду з от авто це са\n",
      "breakfast amb rice  p bur question kal кни bread money ок not business boat be aut kitchen  less  ph second k season math k vac viol  bi bus  food be  та е date  product тан    tennis math season ми  biz bi  pen amb season pie check product  vac bus price \n",
      "зав ско ри дере сви га вопро ка кни х день ок те команди ло г ос ку мо у мо а се ко сез мате ко от с го би авто ф пи г дере сто е да на проду та су сту прода т мате сез ми учи би би з ру ско сез пи реги проду з от авто це са\n",
      "breakfast amb rice  p bur question kal кни bread money ок not business boat be aut kitchen  less  ph second k season math k vac viol  bi bus  food be  та е date  product тан    tennis math season ми  biz bi  pen amb season pie check product  vac bus price \n",
      "зав ско ри дере сви га вопро ка кни х день ок те команди ло г ос ку мо у мо а се ко сез мате ко от с го би авто ф пи г дере сто е да на проду та су сту прода т мате сез ми учи би би з ру ско сез пи реги проду з от авто це са\n",
      "breakfast amb rice  por bur question kal кни bread money ок not business boat be aut kitchen  less  ph second k season math k vac viol  bi bus  food be  та е date  product тан    tennis math season ми те biz bi  pen amb season pie check product  vac bus price \n",
      "зав ско ри дере сви га вопро ка кни х день ок те команди ло г ос ку мо у мо а се ко сез мате ко от с го би авто ф пи г дере сто е да на проду та су сту прода т мате сез ми учи би би з ру ско сез пи реги проду з от авто це са\n",
      "breakfast amb rice  por bur question cal кни bread money ок not business boat be в kitchen  less  ph second k season math k vac viol  bi bus  food be  та е date  product тан    tennis math season ми  biz bi  pen amb season pie check product  vac bus price \n",
      "зав ско ри дере сви га вопро ка кни х день ок те команди ло г ос ку мо у мо а се ко сез мате ко от с го би авто ф пи г дере сто е да на проду та су сту прода т мате сез ми учи би би з ру ско сез пи реги проду з от авто це са\n",
      "breakfast amb rice  por bur question cal кни bread money ок not business boat be aut kitchen  less  ph second k season math k vac viol  bi bus  food be  та е date  product тан   sell tennis math season ми те biz bi  pen amb season pie check product  vac bus price \n",
      "зав ско ри дере сви га вопро ка кни х день ок те команди ло г ос ку мо у мо а се ко сез мате ко от с го би авто ф пи г дере сто е да на проду та су сту прода т мате сез ми учи би би з ру ско сез пи реги проду з от авто це са\n",
      "breakfast amb rice  p bur question cal кни bread money ок not business boat be aut kitchen  less  ph second k season math k vac viol  bi bus  food be  та е date  product тан   sell tennis math season ми  biz bi  pen amb season pie check product  vac bus price \n",
      "зав ско ри дере сви га вопро ка кни х день ок те команди ло г ос ку мо у мо а се ко сез мате ко от с го би авто ф пи г дере сто е да на проду та су сту прода т мате сез ми учи би би з ру ско сез пи реги проду з от авто це са\n",
      "breakfast amb rice  por bur question cal кни bread money fen not business boat be aut kitchen  less  ph second k season math k vac viol  bi bus  food be  та menu date  product тан   sell tennis math season ми  biz bi  pen amb season pie check product  vac bus price \n",
      "зав ско ри дере сви га вопро ка кни х день ок те команди ло г ос ку мо у мо а се ко сез мате ко от с го би авто ф пи г дере сто е да на проду та су сту прода т мате сез ми учи би би з ру ско сез пи реги проду з от авто це са\n",
      "breakfast amb rice tree p bur question cal кни bread money fen not business boat be aut kitchen  less  ph second k season math k vac viol  bi bus  food be tree та menu date  product тан   v tennis math season ми  biz bi  pen amb season pie check product st vac bus price \n",
      "зав ско ри дере сви га вопро ка кни х день ок те команди ло г ос ку мо у мо а се ко сез мате ко от с го би авто ф пи г дере сто е да на проду та су сту прода т мате сез ми учи би би з ру ско сез пи реги проду з от авто це са\n",
      "orig: [[Array(-0.232422, dtype=bfloat16)], [Array(0.921875, dtype=float32)]]\n",
      "sae: [[Array(-14.4375, dtype=bfloat16), Array(-14.125, dtype=bfloat16), Array(-7.84375, dtype=bfloat16), Array(-8.75, dtype=bfloat16), Array(-8.5, dtype=bfloat16), Array(-8.4375, dtype=bfloat16), Array(-9.5, dtype=bfloat16), Array(-9.8125, dtype=bfloat16), Array(-10.5, dtype=bfloat16), Array(-10.5, dtype=bfloat16), Array(-10.125, dtype=bfloat16), Array(-10.125, dtype=bfloat16), Array(-9.9375, dtype=bfloat16), Array(-9.9375, dtype=bfloat16), Array(-9.9375, dtype=bfloat16), Array(-7.1875, dtype=bfloat16), Array(-7.125, dtype=bfloat16), Array(-4.6875, dtype=bfloat16), Array(-4.8125, dtype=bfloat16), Array(-5, dtype=bfloat16), Array(-4.9375, dtype=bfloat16), Array(-4.90625, dtype=bfloat16), Array(-4.6875, dtype=bfloat16), Array(-4.6875, dtype=bfloat16), Array(-4.875, dtype=bfloat16), Array(-5.125, dtype=bfloat16), Array(-5.375, dtype=bfloat16), Array(-5.28125, dtype=bfloat16), Array(-5.40625, dtype=bfloat16), Array(-5.3125, dtype=bfloat16), Array(-5.375, dtype=bfloat16), Array(-3.73438, dtype=bfloat16), Array(-4, dtype=bfloat16), Array(-4.03125, dtype=bfloat16), Array(-3.92188, dtype=bfloat16), Array(-3.82812, dtype=bfloat16), Array(-4.03125, dtype=bfloat16), Array(-4.125, dtype=bfloat16), Array(-4.21875, dtype=bfloat16), Array(-4.46875, dtype=bfloat16)], [Array(0., dtype=float32), Array(0., dtype=float32), Array(0., dtype=float32), Array(0., dtype=float32), Array(0., dtype=float32), Array(0., dtype=float32), Array(0., dtype=float32), Array(0., dtype=float32), Array(0., dtype=float32), Array(0., dtype=float32), Array(0., dtype=float32), Array(0., dtype=float32), Array(0., dtype=float32), Array(0., dtype=float32), Array(0., dtype=float32), Array(0., dtype=float32), Array(0., dtype=float32), Array(0.015625, dtype=float32), Array(0.015625, dtype=float32), Array(0.015625, dtype=float32), Array(0.015625, dtype=float32), Array(0.015625, dtype=float32), Array(0.015625, dtype=float32), Array(0.015625, dtype=float32), Array(0.046875, dtype=float32), Array(0.03125, dtype=float32), Array(0.015625, dtype=float32), Array(0.03125, dtype=float32), Array(0., dtype=float32), Array(0.015625, dtype=float32), Array(0.015625, dtype=float32), Array(0.0625, dtype=float32), Array(0.0625, dtype=float32), Array(0.0625, dtype=float32), Array(0.0625, dtype=float32), Array(0.0625, dtype=float32), Array(0.0625, dtype=float32), Array(0.0625, dtype=float32), Array(0.03125, dtype=float32), Array(0.03125, dtype=float32)]]\n",
      "added: [[Array(-1.17969, dtype=bfloat16)], [Array(0.375, dtype=float32)]]\n"
     ]
    }
   ],
   "source": [
    "\n",
    "task_names = [\n",
    "    \"en_ru\"\n",
    "]\n",
    "\n",
    "layer = 18\n",
    "\n",
    "for task in tqdm(task_names):\n",
    "    shot_logprobs_orig = [[] for _ in range(2)]\n",
    "    shot_logprobs_added = [[] for _ in range(2)]\n",
    "    shot_logprobs_sae = [[] for _ in range(2)]\n",
    "\n",
    "    pairs = tasks[task]\n",
    "    pairs = [list(x) for x in pairs.items()]\n",
    "    dataset = ICLDataset(pairs, size=batch_size, n_prepended=n_few_shots, bidirectional=False, seed=10)\n",
    "\n",
    "    tokenized = tokenizer.batch_encode_plus([prompt.format(x) for x in dataset.prompts], padding=\"longest\", max_length=max_seq_len, truncation=True, return_tensors=\"np\")\n",
    "    inputs = tokenized_to_inputs(\n",
    "        **tokenized\n",
    "    )\n",
    "    \n",
    "    logits, resids = get_resids_call(inputs)\n",
    "\n",
    "    tokens = tokenized[\"input_ids\"]\n",
    "\n",
    "    shot_logprobs_orig[0].append(\n",
    "        get_logprob_diff(logits.unwrap(\"batch\", \"seq\", \"vocabulary\"), dataset.completions, print_results=False)\n",
    "    )\n",
    "\n",
    "    shot_logprobs_orig[1].append(\n",
    "        shot_logprobs_orig[0][-1] == 0.\n",
    "    )\n",
    "\n",
    "    mask = inputs.tokens == 1599\n",
    "    mask = mask.unwrap(\"batch\", \"seq\")\n",
    "\n",
    "    tv = resids[layer].value.unwrap(\"batch\", \"seq\", \"embedding\")[\n",
    "        mask\n",
    "    ]\n",
    "\n",
    "    tv = tv.mean(\n",
    "        axis=0\n",
    "    )\n",
    "\n",
    "    print(\n",
    "        tv.mean(), tv.std()\n",
    "    )\n",
    "\n",
    "    act_add = add_vector(\n",
    "        llama, tv, layer, scale=2.0, position=\"last\"\n",
    "    )\n",
    "\n",
    "    pairs = tasks[task]\n",
    "    pairs = [list(x) for x in pairs.items()]\n",
    "    dataset = ICLDataset(pairs, size=batch_size, n_prepended=0, bidirectional=False, seed=11)\n",
    "\n",
    "\n",
    "    tokenized = tokenizer.batch_encode_plus([prompt.format(x) for x in dataset.prompts], padding=\"longest\", max_length=max_seq_len, truncation=True, return_tensors=\"np\")\n",
    "    inputs = tokenized_to_inputs(\n",
    "        **tokenized\n",
    "    )\n",
    "\n",
    "    logits = act_add(inputs)\n",
    "\n",
    "    tokens = tokenized[\"input_ids\"]\n",
    "\n",
    "    shot_logprobs_added[0].append(\n",
    "        get_logprob_diff(logits.unwrap(\"batch\", \"seq\", \"vocabulary\"), dataset.completions, print_results=True)\n",
    "    )\n",
    "\n",
    "    shot_logprobs_added[1].append(\n",
    "        shot_logprobs_added[0][-1] == 0.\n",
    "    )\n",
    "\n",
    "    for k in range(0, 40):\n",
    "        weights, recon = grad_pursuit(tv * 2, sae[\"W_dec\"], k, pos_only=True)\n",
    "\n",
    "        act_add = add_vector(\n",
    "            llama, recon.astype('bfloat16'), layer, scale=1.0, position=\"last\"\n",
    "        )\n",
    "\n",
    "        logits = act_add(inputs)\n",
    "        \n",
    "        shot_logprobs_sae[0].append(\n",
    "            get_logprob_diff(logits.unwrap(\"batch\", \"seq\", \"vocabulary\"), dataset.completions, print_results=True)\n",
    "        )\n",
    "\n",
    "        shot_logprobs_sae[1].append(\n",
    "            shot_logprobs_sae[0][-1] == 0.\n",
    "        )\n",
    "        \n",
    "    # print(f\"orig: {shot_logprobs_orig}\")\n",
    "    # print(f\"sae: {shot_logprobs_sae}\")\n",
    "    # print(f\"added: {shot_logprobs_added}\")\n",
    "\n",
    "\n",
    "    shot_logprobs_orig = [list(map(np.mean, x)) for x in shot_logprobs_orig]\n",
    "    shot_logprobs_sae = [list(map(np.mean, x)) for x in shot_logprobs_sae]\n",
    "    shot_logprobs_added = [list(map(np.mean, x)) for x in shot_logprobs_added]\n",
    "\n",
    "\n",
    "print(f\"orig: {shot_logprobs_orig}\")\n",
    "print(f\"sae: {shot_logprobs_sae}\")\n",
    "print(f\"added: {shot_logprobs_added}\")"
   ]
  },
  {
   "cell_type": "code",
   "execution_count": 28,
   "metadata": {},
   "outputs": [
    {
     "data": {
      "text/html": [
       "<div id=\"output_54f00e230b5a4d85bd85d3193715cb38\"><script> /* penzai.treescope rendering of a Python object (compressed) */ (()=>{ let observer; let lastStep = new Promise((resolve, reject) => { observer = new IntersectionObserver((entries) => { for (const entry of entries) { if (entry.isIntersecting) { resolve(); observer.disconnect(); return; } } }, {rootMargin: \"1000px\"}); }); window.treescope_decompress_enqueue = (encoded, destId) => { const previous = lastStep; const destElt = document.getElementById(destId); lastStep = (async () => { await previous; let blob = new Blob([ Uint8Array.from(atob(encoded), (m) => m.codePointAt(0)) ]); let reader = blob.stream().pipeThrough( new DecompressionStream(\"deflate\") ).pipeThrough( new TextDecoderStream(\"utf-8\") ).getReader(); let parts = []; while (true) { let step = await reader.read(); if (step.done) { break; } parts.push(step.value); } let newElt = document.createElement(\"div\"); newElt.innerHTML = parts.join(\"\"); destElt.parentNode.replaceChild(newElt, destElt); for (let oldScript of newElt.querySelectorAll(\"script\")) { let newScript = document.createElement(\"script\"); newScript.type = oldScript.type; newScript.textContent = oldScript.textContent; oldScript.parentNode.replaceChild(newScript, oldScript); } })(); requestAnimationFrame(() => { observer.observe(destElt); }); } })(); </script><div id=\"compress_html_01c9bbd3a6be474ba9b7fe98d05a746a\"><script>window.treescope_decompress_enqueue(\"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\", \"compress_html_01c9bbd3a6be474ba9b7fe98d05a746a\");</script><span style=\"color: #aaaaaa; font-family: monospace\">(Loading...)</span></div></div>"
      ],
      "text/plain": [
       "<IPython.core.display.HTML object>"
      ]
     },
     "metadata": {},
     "output_type": "display_data"
    },
    {
     "data": {
      "text/html": [
       "<div id=\"compress_html_080a1a92914248088c3ba46b40c470d5\"><script>window.treescope_decompress_enqueue(\"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\", \"compress_html_080a1a92914248088c3ba46b40c470d5\");</script></div>"
      ],
      "text/plain": [
       "<IPython.core.display.HTML object>"
      ]
     },
     "metadata": {},
     "output_type": "display_data"
    },
    {
     "data": {
      "text/html": [
       "<div id=\"output_dest_54f00e230b5a4d85bd85d3193715cb38\"><script> (()=>{ const output = document.getElementById(\"output_54f00e230b5a4d85bd85d3193715cb38\"); const dest = document.getElementById(\"output_dest_54f00e230b5a4d85bd85d3193715cb38\"); dest.parentNode.replaceChild(output, dest); })(); </script></div>"
      ],
      "text/plain": [
       "[[<jax.Array(-14.4375, dtype=bfloat16)>,\n",
       "  <jax.Array(-14.125, dtype=bfloat16)>,\n",
       "  <jax.Array(-7.84375, dtype=bfloat16)>,\n",
       "  <jax.Array(-8.75, dtype=bfloat16)>,\n",
       "  <jax.Array(-8.5, dtype=bfloat16)>,\n",
       "  <jax.Array(-8.4375, dtype=bfloat16)>,\n",
       "  <jax.Array(-9.5, dtype=bfloat16)>,\n",
       "  <jax.Array(-9.8125, dtype=bfloat16)>,\n",
       "  <jax.Array(-10.5, dtype=bfloat16)>,\n",
       "  <jax.Array(-10.5, dtype=bfloat16)>,\n",
       "  <jax.Array(-10.125, dtype=bfloat16)>,\n",
       "  <jax.Array(-10.125, dtype=bfloat16)>,\n",
       "  <jax.Array(-9.9375, dtype=bfloat16)>,\n",
       "  <jax.Array(-9.9375, dtype=bfloat16)>,\n",
       "  <jax.Array(-9.9375, dtype=bfloat16)>,\n",
       "  <jax.Array(-7.1875, dtype=bfloat16)>,\n",
       "  <jax.Array(-7.125, dtype=bfloat16)>,\n",
       "  <jax.Array(-4.6875, dtype=bfloat16)>,\n",
       "  <jax.Array(-4.8125, dtype=bfloat16)>,\n",
       "  <jax.Array(-5, dtype=bfloat16)>,\n",
       "  <jax.Array(-4.9375, dtype=bfloat16)>,\n",
       "  <jax.Array(-4.90625, dtype=bfloat16)>,\n",
       "  <jax.Array(-4.6875, dtype=bfloat16)>,\n",
       "  <jax.Array(-4.6875, dtype=bfloat16)>,\n",
       "  <jax.Array(-4.875, dtype=bfloat16)>,\n",
       "  <jax.Array(-5.125, dtype=bfloat16)>,\n",
       "  <jax.Array(-5.375, dtype=bfloat16)>,\n",
       "  <jax.Array(-5.28125, dtype=bfloat16)>,\n",
       "  <jax.Array(-5.40625, dtype=bfloat16)>,\n",
       "  <jax.Array(-5.3125, dtype=bfloat16)>,\n",
       "  <jax.Array(-5.375, dtype=bfloat16)>,\n",
       "  <jax.Array(-3.73438, dtype=bfloat16)>,\n",
       "  <jax.Array(-4, dtype=bfloat16)>,\n",
       "  <jax.Array(-4.03125, dtype=bfloat16)>,\n",
       "  <jax.Array(-3.92188, dtype=bfloat16)>,\n",
       "  <jax.Array(-3.82812, dtype=bfloat16)>,\n",
       "  <jax.Array(-4.03125, dtype=bfloat16)>,\n",
       "  <jax.Array(-4.125, dtype=bfloat16)>,\n",
       "  <jax.Array(-4.21875, dtype=bfloat16)>,\n",
       "  <jax.Array(-4.46875, dtype=bfloat16)>],\n",
       " [<jax.Array(0., dtype=float32)>,\n",
       "  <jax.Array(0., dtype=float32)>,\n",
       "  <jax.Array(0., dtype=float32)>,\n",
       "  <jax.Array(0., dtype=float32)>,\n",
       "  <jax.Array(0., dtype=float32)>,\n",
       "  <jax.Array(0., dtype=float32)>,\n",
       "  <jax.Array(0., dtype=float32)>,\n",
       "  <jax.Array(0., dtype=float32)>,\n",
       "  <jax.Array(0., dtype=float32)>,\n",
       "  <jax.Array(0., dtype=float32)>,\n",
       "  <jax.Array(0., dtype=float32)>,\n",
       "  <jax.Array(0., dtype=float32)>,\n",
       "  <jax.Array(0., dtype=float32)>,\n",
       "  <jax.Array(0., dtype=float32)>,\n",
       "  <jax.Array(0., dtype=float32)>,\n",
       "  <jax.Array(0., dtype=float32)>,\n",
       "  <jax.Array(0., dtype=float32)>,\n",
       "  <jax.Array(0.015625, dtype=float32)>,\n",
       "  <jax.Array(0.015625, dtype=float32)>,\n",
       "  <jax.Array(0.015625, dtype=float32)>,\n",
       "  <jax.Array(0.015625, dtype=float32)>,\n",
       "  <jax.Array(0.015625, dtype=float32)>,\n",
       "  <jax.Array(0.015625, dtype=float32)>,\n",
       "  <jax.Array(0.015625, dtype=float32)>,\n",
       "  <jax.Array(0.046875, dtype=float32)>,\n",
       "  <jax.Array(0.03125, dtype=float32)>,\n",
       "  <jax.Array(0.015625, dtype=float32)>,\n",
       "  <jax.Array(0.03125, dtype=float32)>,\n",
       "  <jax.Array(0., dtype=float32)>,\n",
       "  <jax.Array(0.015625, dtype=float32)>,\n",
       "  <jax.Array(0.015625, dtype=float32)>,\n",
       "  <jax.Array(0.0625, dtype=float32)>,\n",
       "  <jax.Array(0.0625, dtype=float32)>,\n",
       "  <jax.Array(0.0625, dtype=float32)>,\n",
       "  <jax.Array(0.0625, dtype=float32)>,\n",
       "  <jax.Array(0.0625, dtype=float32)>,\n",
       "  <jax.Array(0.0625, dtype=float32)>,\n",
       "  <jax.Array(0.0625, dtype=float32)>,\n",
       "  <jax.Array(0.03125, dtype=float32)>,\n",
       "  <jax.Array(0.03125, dtype=float32)>]]"
      ]
     },
     "execution_count": 28,
     "metadata": {},
     "output_type": "execute_result"
    }
   ],
   "source": [
    "shot_logprobs_sae"
   ]
  },
  {
   "cell_type": "code",
   "execution_count": 40,
   "metadata": {},
   "outputs": [
    {
     "data": {
      "text/html": [
       "<div id=\"output_4a32622af5ec44cda982f38b87bf1d37\"><script> /* penzai.treescope rendering of a Python object (compressed) */ (()=>{ let observer; let lastStep = new Promise((resolve, reject) => { observer = new IntersectionObserver((entries) => { for (const entry of entries) { if (entry.isIntersecting) { resolve(); observer.disconnect(); return; } } }, {rootMargin: \"1000px\"}); }); window.treescope_decompress_enqueue = (encoded, destId) => { const previous = lastStep; const destElt = document.getElementById(destId); lastStep = (async () => { await previous; let blob = new Blob([ Uint8Array.from(atob(encoded), (m) => m.codePointAt(0)) ]); let reader = blob.stream().pipeThrough( new DecompressionStream(\"deflate\") ).pipeThrough( new TextDecoderStream(\"utf-8\") ).getReader(); let parts = []; while (true) { let step = await reader.read(); if (step.done) { break; } parts.push(step.value); } let newElt = document.createElement(\"div\"); newElt.innerHTML = parts.join(\"\"); destElt.parentNode.replaceChild(newElt, destElt); for (let oldScript of newElt.querySelectorAll(\"script\")) { let newScript = document.createElement(\"script\"); newScript.type = oldScript.type; newScript.textContent = oldScript.textContent; oldScript.parentNode.replaceChild(newScript, oldScript); } })(); requestAnimationFrame(() => { observer.observe(destElt); }); } })(); </script><div id=\"compress_html_ec12e26fd7f14888ad3e9cf29e8c2c2b\"><script>window.treescope_decompress_enqueue(\"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\", \"compress_html_ec12e26fd7f14888ad3e9cf29e8c2c2b\");</script><span style=\"color: #aaaaaa; font-family: monospace\">(Loading...)</span></div></div>"
      ],
      "text/plain": [
       "<IPython.core.display.HTML object>"
      ]
     },
     "metadata": {},
     "output_type": "display_data"
    },
    {
     "data": {
      "text/html": [
       "<div id=\"compress_html_fff6c2f02c514c2388c2b885c1f437e7\"><script>window.treescope_decompress_enqueue(\"eNrtWG1v2zYQ/iuEgjVSG6lW/Bo7NrClG9Av/TAM2IeiEGiRtjjTpEbRTtKi/31HUpYs23HcLE0xYAlgW+K938O7I68JW6NC33M69ggrco7vh0hIQT3EyNibSZUQOqNKUZL0LweDVnfQ7bX6gw5Ne7hD+njW7bd6NIZfbW9yXeRYwKeRN4mmUmu55EzQoZDaj2aSEzzlNBGS0GGGC3/C8ZTySXMl0XI+545nmGY0XVASBOh1gL6gHBPCxDzUMh+iVhR36XKEjIYwo2ye6SGKI/vua5RKDsbj6VTRNXDaxyE66w0ucatVE6RyuaRCJ7cZFQm9A/sJJc9m70Yrtn+1VrFaTqnaImhdDeJuryYotAI/tyW0427crQggHcbtmmDKcboYoSl8zpVcCRKWC2us/DCccpku3KsAqKQiVLkoxvkdKiRn5BilS+VjxF9RlN3nVIFli0TRpdQ0yeQaHN01et9MueBp5g86P5m0droobl05ibe4SIpUSc6BXctoxlShE83SxclSrzpRbOS2rlDc7kX9g4Jt/o6qC/YUaoVFwTSTYrinHMUForigIROhXOkLNJNCh7cWpjtrJqtZmiWwe1KacDrTW1A3jwbr3TRr0ikrqSZUbgNUlAyQLDQYm2aMPx+kqyphcz9CS6zm4IYzM8U89S/TDIUGKi7OTTsUFd/NlBKszhQCkKXEIvaMtsy/CcrfK8wFXtIkV3TG7kCITUvBPlMTuoGrHYXGRk9lcZV3pwFNUJPkxYPbijpp5sL7iK0vE2xXE6xVBytDo25bPwCmPEOvkR+DO9sspdwCqGgQBFUMatbwdN6N3k39spyVyM3bsHz9gtGsK7CNYKgwYauidDCmS/DuYcespf/OiEch/qXRJFx+zV46oUkcJ/4agcTvMhTUST42F9hGb+s0tNh8G9hm7LGh1YrSIpU51FgpdVQRJ0uwBB2RwITR6bqLIQJrHyU8RdmDckqTr9+6kcvOXyjluCjGXtPMcjjbzHqNrMB4QaaDThePDuENAjrymqIbqUGsSFyXlMI2RiB2KbxmIl9ppGEmGHs2aVN55x0UUuYXWN9apqa+eqrQsHOp9hDBGocLep9jnY29HfMaXbpEG2o2WO+UWJWLOz3Dm+RUfMaszhzsnRwsKWDcmWHOzSQQQUrsLOy+Pkj9+0Z6bpz2m+vXb8uIbek9N1KnK8C0OEdS3HCYQcbntdIMRlWInqFKUrPo64wVwbmLjXk99nyOl1OCkYHW0H4GXg2BinCIzg9Qno9QSYMFIBC7Oef8BhiQiTv8rkb+pjfb0dstNKhZaLwj1HukEmYcJjCH4TJX42+CSNTgPQSYcub2Jq/O7i77o5+Vwvd+2IkG8WX3AhGL4umMS6zjXuBomm5f7EMKBHOcF5R4E3QoOI1Th/cC6W+G4XQw7PA9HRonAuXh1MOx9ImJZ+Rg2t1ZzJtcdXr9fqfdbl/2253Ofzm1jDwlscD1A9Nqt9cTE2t4j3Wo529IR+4OvKMwODuIlb0O8xe+23QQW4eOtIljQPP2zl5H173J8yVg+/oFSirXI7uAXOE0/lnH3OOruR4dgdAP3ErGs6dsJsv3XNvp1K22E6eL/2N5Utga42J9aYl2rlq8SfBtmWhM7Y9uj2pLPDxz7O+SzRdha5Cfgh498f0AjSfoSypFAbXObt33pEBj9NE7/S7308jxm1QA6y1UCnm7NfKC0KR5dPERkenKFESz+Cun5ucv9++JX9nwsfXJnF6d5JnCc0MC0ivGVFGs6bvy8beSwq94jJ4bDoceYNrwRziHgZzcmArmW+SkhuIDFHFfq5U9L8+kQj6nGjFgbI3g67qOTMSpmGs4/7M3b8x50tC5xW0tD/rEPoECw1PIlUrpO7be9miHzd6oe+gN2uF3jxEMVxwA9yfTmV+Jc3eQpRTrJjDUq+aidU19eyvgjpBbQqqAmeXAEAFmHE42eNlLLRV/r+iKviux8gddgjxNCz+oeP8BeVqQPA==\", \"compress_html_fff6c2f02c514c2388c2b885c1f437e7\");</script></div>"
      ],
      "text/plain": [
       "<IPython.core.display.HTML object>"
      ]
     },
     "metadata": {},
     "output_type": "display_data"
    },
    {
     "data": {
      "text/html": [
       "<div id=\"output_dest_4a32622af5ec44cda982f38b87bf1d37\"><script> (()=>{ const output = document.getElementById(\"output_4a32622af5ec44cda982f38b87bf1d37\"); const dest = document.getElementById(\"output_dest_4a32622af5ec44cda982f38b87bf1d37\"); dest.parentNode.replaceChild(output, dest); })(); </script></div>"
      ],
      "text/plain": [
       "<jax.Array(-4.8125, dtype=bfloat16)>"
      ]
     },
     "execution_count": 40,
     "metadata": {},
     "output_type": "execute_result"
    }
   ],
   "source": [
    "shot_logprobs_sae[0][18]"
   ]
  },
  {
   "cell_type": "code",
   "execution_count": 41,
   "metadata": {},
   "outputs": [
    {
     "data": {
      "text/html": [
       "<div id=\"output_30e7280c581943c5b55e9f4e74681dbe\"><script> /* penzai.treescope rendering of a Python object (compressed) */ (()=>{ let observer; let lastStep = new Promise((resolve, reject) => { observer = new IntersectionObserver((entries) => { for (const entry of entries) { if (entry.isIntersecting) { resolve(); observer.disconnect(); return; } } }, {rootMargin: \"1000px\"}); }); window.treescope_decompress_enqueue = (encoded, destId) => { const previous = lastStep; const destElt = document.getElementById(destId); lastStep = (async () => { await previous; let blob = new Blob([ Uint8Array.from(atob(encoded), (m) => m.codePointAt(0)) ]); let reader = blob.stream().pipeThrough( new DecompressionStream(\"deflate\") ).pipeThrough( new TextDecoderStream(\"utf-8\") ).getReader(); let parts = []; while (true) { let step = await reader.read(); if (step.done) { break; } parts.push(step.value); } let newElt = document.createElement(\"div\"); newElt.innerHTML = parts.join(\"\"); destElt.parentNode.replaceChild(newElt, destElt); for (let oldScript of newElt.querySelectorAll(\"script\")) { let newScript = document.createElement(\"script\"); newScript.type = oldScript.type; newScript.textContent = oldScript.textContent; oldScript.parentNode.replaceChild(newScript, oldScript); } })(); requestAnimationFrame(() => { observer.observe(destElt); }); } })(); </script><div id=\"compress_html_85d18076edd2419dbf72e7e0e1448f8c\"><script>window.treescope_decompress_enqueue(\"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\", \"compress_html_85d18076edd2419dbf72e7e0e1448f8c\");</script><span style=\"color: #aaaaaa; font-family: monospace\">(Loading...)</span></div></div>"
      ],
      "text/plain": [
       "<IPython.core.display.HTML object>"
      ]
     },
     "metadata": {},
     "output_type": "display_data"
    },
    {
     "data": {
      "text/html": [
       "<div id=\"compress_html_69dcf32ba7c649319dc1779d5c8a4440\"><script>window.treescope_decompress_enqueue(\"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\", \"compress_html_69dcf32ba7c649319dc1779d5c8a4440\");</script></div>"
      ],
      "text/plain": [
       "<IPython.core.display.HTML object>"
      ]
     },
     "metadata": {},
     "output_type": "display_data"
    },
    {
     "data": {
      "text/html": [
       "<div id=\"output_dest_30e7280c581943c5b55e9f4e74681dbe\"><script> (()=>{ const output = document.getElementById(\"output_30e7280c581943c5b55e9f4e74681dbe\"); const dest = document.getElementById(\"output_dest_30e7280c581943c5b55e9f4e74681dbe\"); dest.parentNode.replaceChild(output, dest); })(); </script></div>"
      ],
      "text/plain": [
       "<jax.Array int32(18,) [≥764, ≤47_625] nonzero:18\n",
       "  <Arrayviz rendering>\n",
       "  Replicated across 4 TPU devices (click to expand)\n",
       ">"
      ]
     },
     "execution_count": 41,
     "metadata": {},
     "output_type": "execute_result"
    }
   ],
   "source": [
    "k = 18\n",
    "\n",
    "weights, recon = grad_pursuit(tv, sae[\"W_dec\"], k, pos_only=True)\n",
    "w, i = jax.lax.top_k(jnp.abs(weights), k)\n",
    "\n",
    "i"
   ]
  },
  {
   "cell_type": "code",
   "execution_count": 38,
   "metadata": {},
   "outputs": [
    {
     "data": {
      "text/html": [
       "<div id=\"output_de68e2952fb14542830f4ff0ea5b40cf\"><script> /* penzai.treescope rendering of a Python object (compressed) */ (()=>{ let observer; let lastStep = new Promise((resolve, reject) => { observer = new IntersectionObserver((entries) => { for (const entry of entries) { if (entry.isIntersecting) { resolve(); observer.disconnect(); return; } } }, {rootMargin: \"1000px\"}); }); window.treescope_decompress_enqueue = (encoded, destId) => { const previous = lastStep; const destElt = document.getElementById(destId); lastStep = (async () => { await previous; let blob = new Blob([ Uint8Array.from(atob(encoded), (m) => m.codePointAt(0)) ]); let reader = blob.stream().pipeThrough( new DecompressionStream(\"deflate\") ).pipeThrough( new TextDecoderStream(\"utf-8\") ).getReader(); let parts = []; while (true) { let step = await reader.read(); if (step.done) { break; } parts.push(step.value); } let newElt = document.createElement(\"div\"); newElt.innerHTML = parts.join(\"\"); destElt.parentNode.replaceChild(newElt, destElt); for (let oldScript of newElt.querySelectorAll(\"script\")) { let newScript = document.createElement(\"script\"); newScript.type = oldScript.type; newScript.textContent = oldScript.textContent; oldScript.parentNode.replaceChild(newScript, oldScript); } })(); requestAnimationFrame(() => { observer.observe(destElt); }); } })(); </script><div id=\"compress_html_4e757d1b385a4eeca4075f7f6807ef66\"><script>window.treescope_decompress_enqueue(\"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\", \"compress_html_4e757d1b385a4eeca4075f7f6807ef66\");</script><span style=\"color: #aaaaaa; font-family: monospace\">(Loading...)</span></div></div>"
      ],
      "text/plain": [
       "<IPython.core.display.HTML object>"
      ]
     },
     "metadata": {},
     "output_type": "display_data"
    },
    {
     "data": {
      "text/html": [
       "<div id=\"compress_html_13c1cf72a6e44c7997df706326c8c0d5\"><script>window.treescope_decompress_enqueue(\"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\", \"compress_html_13c1cf72a6e44c7997df706326c8c0d5\");</script></div>"
      ],
      "text/plain": [
       "<IPython.core.display.HTML object>"
      ]
     },
     "metadata": {},
     "output_type": "display_data"
    },
    {
     "data": {
      "text/html": [
       "<div id=\"output_dest_de68e2952fb14542830f4ff0ea5b40cf\"><script> (()=>{ const output = document.getElementById(\"output_de68e2952fb14542830f4ff0ea5b40cf\"); const dest = document.getElementById(\"output_dest_de68e2952fb14542830f4ff0ea5b40cf\"); dest.parentNode.replaceChild(output, dest); })(); </script></div>"
      ],
      "text/plain": [
       "<jax.Array float32(18,) ≈7.4 ±3.2 [≥4.4, ≤1.9e+01] nonzero:18\n",
       "  <Arrayviz rendering>\n",
       "  Replicated across 4 TPU devices (click to expand)\n",
       ">"
      ]
     },
     "execution_count": 38,
     "metadata": {},
     "output_type": "execute_result"
    }
   ],
   "source": [
    "w"
   ]
  },
  {
   "cell_type": "code",
   "execution_count": null,
   "metadata": {},
   "outputs": [],
   "source": [
    "#37312"
   ]
  },
  {
   "cell_type": "code",
   "execution_count": 44,
   "metadata": {},
   "outputs": [
    {
     "name": "stdout",
     "output_type": "stream",
     "text": [
      "less snow inst train st car t window concert the air new guitar vis table unique take a sal there actor sal higher emer per sal unique inst feu football library light river wine higher any time flight sal football milk less river су concert sa air higher service sal k summer milk meat football no name name milk tor ly sal plan less\n",
      "у с университе мет сту ма вра ок кон те а ве ги ви сто с га су са по филь пи не ско ба сотруд день университе роман т би со ре ви не от время по профес т га у ре де кон са само не ус день пе ве мо г спо на час город мо би га це п у\n"
     ]
    },
    {
     "data": {
      "text/html": [
       "<div id=\"output_2f5038a1823f4919bcee23ea6d87e24c\"><script> /* penzai.treescope rendering of a Python object (compressed) */ (()=>{ let observer; let lastStep = new Promise((resolve, reject) => { observer = new IntersectionObserver((entries) => { for (const entry of entries) { if (entry.isIntersecting) { resolve(); observer.disconnect(); return; } } }, {rootMargin: \"1000px\"}); }); window.treescope_decompress_enqueue = (encoded, destId) => { const previous = lastStep; const destElt = document.getElementById(destId); lastStep = (async () => { await previous; let blob = new Blob([ Uint8Array.from(atob(encoded), (m) => m.codePointAt(0)) ]); let reader = blob.stream().pipeThrough( new DecompressionStream(\"deflate\") ).pipeThrough( new TextDecoderStream(\"utf-8\") ).getReader(); let parts = []; while (true) { let step = await reader.read(); if (step.done) { break; } parts.push(step.value); } let newElt = document.createElement(\"div\"); newElt.innerHTML = parts.join(\"\"); destElt.parentNode.replaceChild(newElt, destElt); for (let oldScript of newElt.querySelectorAll(\"script\")) { let newScript = document.createElement(\"script\"); newScript.type = oldScript.type; newScript.textContent = oldScript.textContent; oldScript.parentNode.replaceChild(newScript, oldScript); } })(); requestAnimationFrame(() => { observer.observe(destElt); }); } })(); </script><div id=\"compress_html_4cf692eee88942a3bf83d1b734d7652c\"><script>window.treescope_decompress_enqueue(\"eNrFWIlT4kwW/1d6mKoRxuFUcACxNiCXio7ijI77bVGdpJO0JN2x0wHxK//3fd0BOcQ5dqd2pUqg847fu/txGMmZT45yUhASWTwkI8G5RH+jkEdUUs5qSBAfSzohdeRwJrMODqg/q6GAMx6F2ILzqUclyeovNRQKOPFpJLNadFbOQjhlnMGxia2xK3jM7KzFfS5qCWsdzb+ZPhCAPGpLr4YcKoGMScJkHQVYuJRlfeLIGipZntLBSNYj1PXgpJgr19HzYT4x5zCyBA3lEaIOSk8ps/l0aSFqNBoIIBAHBNgZsPU1Bfr7uf7qODcKCbMpcw1LeSYCsn/+66dkPcxsX4lkse9voXaJHG14v4HSC6ePJM+gxhGAzH9EZ5yPIQgCSY8gTcm4TXLoYx75RKI57wqrDg0oTyfP3jWQza04AIfmTG7P0IcP6J16krN8HEVnELSccjimLEqn1kGlMki5aqFDMYVYgKS2TwIdoWfQLGPB9EP4usVWEbMh50wZOOViPLcMVEYSkN3AkXq0diyppQ5DIsDwADOL5BifpjMvpr16grIJ0yHaKynI23JgM5Q5nzBXepAaqLAtI34c08Ru5QHiR2QJ3YuZwv5T5ZFHHalM0hzqwzO8fhVDekEpyENMImkwGmBF0RE4IOnEr5nM9ohsQgnjyEtiU/8Vxy1ANBJX/I7rfh32VuCEAVdMjolDhCD2NQlCSHsSvU6g0FeHL4kPbGI2JD6xJBeG70Oiz3lXm2DMRhFkaipT1wWXVvUFkhB3tEBlKLyv1I0gAZ+QtapZkfFWJaQXWJV8R/AnoopDS04a3zrcdCppbEqk4oBvq6ZZgoAZ84JcpYVPOdWHgThRor/Nz8mjbCXKVh4vD+saTlLr56rdCALeskgLys9Og4RPikDF6c1YSe66ftJGRrr7SwCmuxycEF9+QmQC0ueuUGmnv+fGZKYqMiVSi9YDxCs+T+SmUy8yRwEATC1wPCOYB8kgOLTpBGnGxmZfQxKbAJg8NlKFFOIMlAJ6tkK3HX9aejRaIE/ByEkGqT1PyJF2ksd9mwidi3rAvccH6jUfpZqlhqjEPrUAb84BcmyCKtXX3xjCz2idbJSgA2qbRqB0thi2m4ToCPnYJH6tZhLIabKCytJ/9a36kombLaqROx/MhfpSF2V6Dps+V5P7TZ0eFId4rdnGYhwR7IKr2WvuGuMyvXHk4Sh9pGUebfWD5qlZHrHGMNwz6GNmiUGxbmda0K8h1OlfQzt/lcqmtfP/hLfO9CbIyv8ApIqjUhyLSAUw5BQQiC16afTn1OpS0Iqyut6it3L8z2hdmqf64GstORqNHCoiOeJspNJ/S2n9qJRypbKqpq2hQv81/CTimxCVVWt3aF3Qz7mpR9gIqtHHYUTsn3eR3wb0Aw1J79A6NBF5DOF28CbNn8CxTcXc0H/M1xtLhW9t1dkZwFgVFPtoOAtMDveJi1gqWDZaTM4WD2c7622dqVupPz+bzveU/QI0z0hYNRQLP21jiWvqeX7KHadUN3FEKvuf7EK1O3CNpqH/+peGwfWn5tUU/vc6htE2fvTXDAzDHfNTu99utqbfDeP6e+vEGPSbLaPjPvZ7Z56MmgNK3L3O8W3prF/5PhmGMf0yKF8XT277V98Gk5vBk/wy63Rauzfu+Jo2jwsePb6MT9p2977QM/POpG+HD6cV7+GG0st4wLpez/kqja+V5rnYNzp9Nm5XrK9xzHavyg9WNJ5OnI6ff3h02/yza55Mu5+LPSPPjKvymRAnxatd96lwZReME6fonh+0pt37klvgs/jq4CBoFyvT3m31wnVDcj2e7ZO++VS2THHRldhwL/vn02MczaLLuN+/vWl3psaXy7D/3f6az++6B9cHt3uy4Jx+eTAmZZB5ZpwfGIOpEbhPV8Pd+G5I2rePJadiPZ3vX/Vm5bhpnD4178NOuEd7l6124S7+sj88YE7zrN3rDAKD7n6etEseK3oHu+a36e39tCcmx92vLXbvtNuu3L2w7nz/oFxtnUybn73q/mDQHe517ww36Jfvm5dVed0lvWq72ex3947d/av8d2tmGl2I6bfTvHHZxQYZtHyj99S+cO+kW2l+cS8u+sfNMb0sk07zttXsWLQQeoKHDHIjvGsfF5+K46HTcqQ3O2U9G3einlM4D7rt80rTNh6+fQuxjIZ3gW1jWi05T9X9r/T+oRIGonLBv7eGVHSDyUl3b3gz3Ou0S1bz0rne7fk87O53omkZuw+Vz/SODM/98IY1e31iDwSJbx66raB40xHj4fCxXKrc3ERTAxBlkN7IZHpHp/VO5k+UL9zEZmYsJayP25rU8vG28ZhCqQ0qaNkRtIKtxH+R4r6dqv+nTQCK3RxT4NTNIIBbowfrTw1hJoGdQo3bL794vCcF9aq/HqgJN32CTlLIVUmwaWUyibdYsf1iteTMTXE0suDGCY594ceOXLunLm6EP9K5wbOuctX1aIJFOptV3S6LGQRW73mZ1WOlRC3AArPF3NRiUTFCBDyWhbnFY/l7prwggMBQYr9bR6JVonc0CLmQmL2SbQo+1pMrnC2vPT/37grbij8XYX71E9WrZcnTC7LmT0yDRQm6G7NQOtGw/qsJWHLNVeIB2RyBOouI1KCUSxUOPMVUIoYn1MWwSMISRUOTY2HnpoJKcg33nPRSFkRiLmu5bGHbTqdW/K33SiKvaUAgMC+L7Cu+xWK8wfr8CZUKhYJuDRaWlgdLX2Ybv9a74tTUEtz66pqG8L5HHUx9SAbJkSJ+p2sSLj4sxr4/g9tEJAm2VU7srvpuvjIu90WVSojajdTLPletFvdIqbqHTbO8Tz4XcRXjEsZ2CRfK5kH5IDVnmm+Z62vQ5m0MiJPed0hZGEuk1vFGSnc7kz+mtgqZN0Z4mDTFo8O8Zob3uaxV/dv20NTRB1/W7/FjzhACz5Dp+BzLYgVil8vl0AdXKg+AkKONt1XBa9eodaN3lmWwA5t0S0W7sfOD1NY7dGYHvdRjI5X2cWDaWG/7Nf0/k0K6ZBqplcKFfryFUjXfzTYDlDrEMAFhdd2ZIz7abmjeppO3S/Ot35zSmZfE+TfEjzE4\", \"compress_html_4cf692eee88942a3bf83d1b734d7652c\");</script><span style=\"color: #aaaaaa; font-family: monospace\">(Loading...)</span></div></div>"
      ],
      "text/plain": [
       "<IPython.core.display.HTML object>"
      ]
     },
     "metadata": {},
     "output_type": "display_data"
    },
    {
     "data": {
      "text/html": [
       "<div id=\"compress_html_6aa812cb10464b909ed5fa70b9c66d3e\"><script>window.treescope_decompress_enqueue(\"eNrtWG1v2zYQ/iuEgjVSG6uWYzt+iQ1s6Qb0Sz8MA/ahKARKpC3ONKlRtJO06H/fkZQly3YcN0tTDFgC2JZ47/fw7shrwtao0PecTjzCipzj+xESUlAPMTLxZlLFhM6oUpTEw2F0STvDS5wkvS4dRHiIcQdj0sHtXnLVu/Km10WOBXwaedMwkVrLJWeCjoTUfjiTnOCE01hIQkcZLvwpxwnl0+ZKrOV8zh3PKM1ouqAkCNDrAH1BOSaEiXlLy3yE2mHUo8sxMhpaGWXzTI9QFNp3X8NUcjAebFV0DZz2cYTO+gMwt10TpHK5pELHtxkVMb0D+wklz2bvRiu2f7VWsVomVG0RtIeDqNevCQqtwM9tCZdRL+pVBJAO43ZNkHCcLsYogc+5kitBWuXCGiu/1Uq4TBfuVQBUUhGqXBSj/A4VkjNyjNKl8jHiryjM7nOqwLJFrOhSahpncg2O7hq9b6Zc8DTzB92fTFq7PRS1h07iLS7iIlWSc2DXMpwxVehYs3RxstRhN4yM3PYQRZf98OqgYJu/o+qCPYVaYVEwzaQY7SlHUYEoLmiLiZZc6Qs0k0K3bi1Md9ZMVrM0i2H3pDTmdKa3oG4eDdZ7adakU1ZSTajcBqgoGSBZaDA2zRh/PkhXVcLmfoyWWM3BDWdminnqd9IMtQxUXJybdigqvpspJVidKQQgS4lF7Bltm38TlL9XmAu8pHGu6IzdgRCbloJ9piZ0A1c7Co2NnsriKu9OA5qiJsmLB7cddtPMhfcRW18m2K4mWKsOVoZG3bZ+AEx5hl4jPwJ3tllKuQVQ0SAIqhjUrK3TeTd6N/XLclYiN29b5esXjGZdgW0EWwoTtipKByO6BO8edsxa+u+MeBTiXxpNwuXX7KUTmsRx4q8hSPwuQ0Gd5GNzgW30tk5Di823gW3GHhtarSgtUplDjZVShxVxvARL0BEJTBidrrsYIrD2UcJTlD0opzT5+q0buez8hVKOi2LiNc0sh7PNrNfICowXJBl0e3h8CG8Q0LHXFN1IDWJF7LqkFLYxArFL4TUT+UojDTPBxLNJS+Sdd1BImV9gfWuZmvrqqULDzqXaQwRr3FrQ+xzrbOLtmNfo0iXaULPBeqfEqlzc6RneNKfiM2Z15mDv5GBJAePODHNuJoEQUmJnYff1QerfN9Jz47TfXL9+W0ZsS++5kZqsANPiHElxw2EGmZzXSjMYVSF6hipOzaKvM1YE5y425vXE8zleJgQjA62R/Qy8GgIV4QidH6A8H6OSBgtAIHZzzvkNMCATd/hdjfxNb7ajt1toULPQeEeo90glzDhMYA7DZa4m3wSRsMF7CDDlzO1NX53dda7GPyuF7/3WIOx3eheIWBAnMy6xjvqBI2l6fbGPKJDLcV5Q4k3Rodg0Dh3eC2S/GYXTsbDD93RknIiThzMPp9In5p2Rg1l3RzFvOuz2r6567e7lMOpE/f9yahl5SmKB6wem1W6vJybW8B5rUM/fj45cHXhHYXB2ECt7DeYvfLdpILYMHekSx4Dm7R29jq570+dLwPbtC1RUrsd2AbnCafyzjrnHV3M9PgKhH7iVjGdP2UyW77m206lbbSdOF//H8qSwNabF+s4S7dy0eNPg2zLRGNof3R7Vlnhw5NjfJJsvwtYgPgU1eur7AZpM0ZdUigJKnd2570mBJuijd/pN7qex4zeZANZbKBTydmvgBaFx8+DiIyLTlamHZvFXTs3PX+7fE7+y4WP7kzm7OskzheeGBKRXjKmiWNN35eNvJYVf8Rg9NxyOPMC04Q9xDuM4uTEFzLfASQ3FB6jhvlYre1qeSYV8TjViwNgew9d1HZmQUzHXcPpnb96Y06Shc4vbWh70iX0CBYankCuV0ndsve3RDpu9T/fQG7TD7x5DmK044O1PpjO/EuduIEsp1k1gqFfNNeua+vZOwB0gt4RUATPLgSECzDicbPCyl1oq/l7RFX1XYuUPugR5mhZ+UPH+A58RkSg=\", \"compress_html_6aa812cb10464b909ed5fa70b9c66d3e\");</script></div>"
      ],
      "text/plain": [
       "<IPython.core.display.HTML object>"
      ]
     },
     "metadata": {},
     "output_type": "display_data"
    },
    {
     "data": {
      "text/html": [
       "<div id=\"output_dest_2f5038a1823f4919bcee23ea6d87e24c\"><script> (()=>{ const output = document.getElementById(\"output_2f5038a1823f4919bcee23ea6d87e24c\"); const dest = document.getElementById(\"output_dest_2f5038a1823f4919bcee23ea6d87e24c\"); dest.parentNode.replaceChild(output, dest); })(); </script></div>"
      ],
      "text/plain": [
       "<jax.Array(-8.625, dtype=bfloat16)>"
      ]
     },
     "execution_count": 44,
     "metadata": {},
     "output_type": "execute_result"
    }
   ],
   "source": [
    "pairs = tasks[task]\n",
    "pairs = [list(x) for x in pairs.items()]\n",
    "dataset = ICLDataset(pairs, size=batch_size, n_prepended=0, bidirectional=False, seed=101)\n",
    "\n",
    "\n",
    "tokenized = tokenizer.batch_encode_plus([prompt.format(x) for x in dataset.prompts], padding=\"longest\", max_length=max_seq_len, truncation=True, return_tensors=\"np\")\n",
    "inputs = tokenized_to_inputs(\n",
    "    **tokenized\n",
    ")\n",
    "\n",
    "# weights, recon = grad_pursuit(tv * 2, sae[\"W_dec\"], k, pos_only=True)\n",
    "\n",
    "recon = sae[\"W_dec\"][27215] * 20\n",
    "\n",
    "act_add = add_vector(\n",
    "    llama, recon.astype('bfloat16'), layer, scale=1.0, position=\"last\"\n",
    ")\n",
    "\n",
    "logits = act_add(inputs)\n",
    "\n",
    "get_logprob_diff(logits.unwrap(\"batch\", \"seq\", \"vocabulary\"), dataset.completions, print_results=True).mean()"
   ]
  },
  {
   "cell_type": "code",
   "execution_count": 26,
   "metadata": {},
   "outputs": [
    {
     "data": {
      "text/html": [
       "<div id=\"output_4cd624b442a14c7482a44357e976214d\"><script> /* penzai.treescope rendering of a Python object (compressed) */ (()=>{ let observer; let lastStep = new Promise((resolve, reject) => { observer = new IntersectionObserver((entries) => { for (const entry of entries) { if (entry.isIntersecting) { resolve(); observer.disconnect(); return; } } }, {rootMargin: \"1000px\"}); }); window.treescope_decompress_enqueue = (encoded, destId) => { const previous = lastStep; const destElt = document.getElementById(destId); lastStep = (async () => { await previous; let blob = new Blob([ Uint8Array.from(atob(encoded), (m) => m.codePointAt(0)) ]); let reader = blob.stream().pipeThrough( new DecompressionStream(\"deflate\") ).pipeThrough( new TextDecoderStream(\"utf-8\") ).getReader(); let parts = []; while (true) { let step = await reader.read(); if (step.done) { break; } parts.push(step.value); } let newElt = document.createElement(\"div\"); newElt.innerHTML = parts.join(\"\"); destElt.parentNode.replaceChild(newElt, destElt); for (let oldScript of newElt.querySelectorAll(\"script\")) { let newScript = document.createElement(\"script\"); newScript.type = oldScript.type; newScript.textContent = oldScript.textContent; oldScript.parentNode.replaceChild(newScript, oldScript); } })(); requestAnimationFrame(() => { observer.observe(destElt); }); } })(); </script><div id=\"compress_html_151da425be954e4ca14acd5cc00e1ff0\"><script>window.treescope_decompress_enqueue(\"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\", \"compress_html_151da425be954e4ca14acd5cc00e1ff0\");</script><span style=\"color: #aaaaaa; font-family: monospace\">(Loading...)</span></div></div>"
      ],
      "text/plain": [
       "<IPython.core.display.HTML object>"
      ]
     },
     "metadata": {},
     "output_type": "display_data"
    },
    {
     "data": {
      "text/html": [
       "<div id=\"output_dest_4cd624b442a14c7482a44357e976214d\"><script> (()=>{ const output = document.getElementById(\"output_4cd624b442a14c7482a44357e976214d\"); const dest = document.getElementById(\"output_dest_4cd624b442a14c7482a44357e976214d\"); dest.parentNode.replaceChild(output, dest); })(); </script></div>"
      ],
      "text/plain": [
       "['stärke',\n",
       " 'papier',\n",
       " 'lied',\n",
       " 'arzt',\n",
       " 'atom',\n",
       " 'gans',\n",
       " 'auto',\n",
       " 'experiment',\n",
       " 'freund',\n",
       " 'zucker',\n",
       " 'bild',\n",
       " 'stern',\n",
       " 'insekt',\n",
       " 'vergangenheit',\n",
       " 'regisseur',\n",
       " 'wissen',\n",
       " 'film',\n",
       " 'lärm',\n",
       " 'brücke',\n",
       " 'theater',\n",
       " 'affe',\n",
       " 'tatsache',\n",
       " 'forum',\n",
       " 'bleistift',\n",
       " 'sonne',\n",
       " 'regel',\n",
       " 'sirene',\n",
       " 'freund',\n",
       " 'meer',\n",
       " 'stern',\n",
       " 'blatt',\n",
       " 'foto',\n",
       " 'klang',\n",
       " 'hügel',\n",
       " 'haus',\n",
       " 'heute',\n",
       " 'gas',\n",
       " 'weisheit',\n",
       " 'weltraum',\n",
       " 'motor',\n",
       " 'information',\n",
       " 'planet',\n",
       " 'daten',\n",
       " 'jahrtausend',\n",
       " 'armbanduhr',\n",
       " 'atom',\n",
       " 'finsternis',\n",
       " 'regen',\n",
       " 'abend',\n",
       " 'nacht',\n",
       " 'huhn',\n",
       " 'lärm',\n",
       " 'stift',\n",
       " 'garnele',\n",
       " 'insel',\n",
       " 'programm',\n",
       " 'alligator',\n",
       " 'eis',\n",
       " 'mond',\n",
       " 'substanz',\n",
       " 'daten',\n",
       " 'tee',\n",
       " 'wald',\n",
       " 'tag']"
      ]
     },
     "execution_count": 26,
     "metadata": {},
     "output_type": "execute_result"
    }
   ],
   "source": [
    "dataset.completions"
   ]
  },
  {
   "cell_type": "code",
   "execution_count": 24,
   "metadata": {},
   "outputs": [],
   "source": [
    "def prepare_inputs(dataset: ICLDataset):\n",
    "    tokenized = tokenizer.batch_encode_plus([prompt.format(x) for x in dataset.prompts], padding=\"longest\", max_length=max_seq_len, truncation=True, return_tensors=\"np\")\n",
    "    inputs = tokenized_to_inputs(\n",
    "        **tokenized\n",
    "    )\n",
    "    \n",
    "    tokens = tokenized[\"input_ids\"]\n",
    "\n",
    "    return inputs, tokens"
   ]
  },
  {
   "cell_type": "code",
   "execution_count": 25,
   "metadata": {},
   "outputs": [],
   "source": [
    "task_names = list(tasks.keys())\n",
    "task_names = [x for x in task_names if x.startswith(\"algo\")]\n",
    "# n_few_shots, batch_size, max_seq_len = 64, 64, 512\n",
    "n_few_shots, batch_size, max_seq_len = 20, 64, 256"
   ]
  },
  {
   "cell_type": "code",
   "execution_count": 26,
   "metadata": {},
   "outputs": [
    {
     "data": {
      "application/vnd.jupyter.widget-view+json": {
       "model_id": "6cf5ff599b2b4741b1d4dcb71f8a216b",
       "version_major": 2,
       "version_minor": 0
      },
      "text/plain": [
       "  0%|          | 0/6 [00:00<?, ?it/s]"
      ]
     },
     "metadata": {},
     "output_type": "display_data"
    },
    {
     "data": {
      "application/vnd.jupyter.widget-view+json": {
       "model_id": "33cf00a8aec848c98d095f894575c67f",
       "version_major": 2,
       "version_minor": 0
      },
      "text/plain": [
       "  0%|          | 0/12 [00:00<?, ?it/s]"
      ]
     },
     "metadata": {},
     "output_type": "display_data"
    },
    {
     "data": {
      "application/vnd.jupyter.widget-view+json": {
       "model_id": "7a2dad380d1948258ddb05034d9c978c",
       "version_major": 2,
       "version_minor": 0
      },
      "text/plain": [
       "  0%|          | 0/12 [00:00<?, ?it/s]"
      ]
     },
     "metadata": {},
     "output_type": "display_data"
    },
    {
     "data": {
      "application/vnd.jupyter.widget-view+json": {
       "model_id": "5795e8c3428340d283a7046b6a11dc96",
       "version_major": 2,
       "version_minor": 0
      },
      "text/plain": [
       "  0%|          | 0/12 [00:00<?, ?it/s]"
      ]
     },
     "metadata": {},
     "output_type": "display_data"
    },
    {
     "data": {
      "application/vnd.jupyter.widget-view+json": {
       "model_id": "8c7e1a2d6b2546b3a7003add4a832194",
       "version_major": 2,
       "version_minor": 0
      },
      "text/plain": [
       "  0%|          | 0/12 [00:00<?, ?it/s]"
      ]
     },
     "metadata": {},
     "output_type": "display_data"
    },
    {
     "data": {
      "application/vnd.jupyter.widget-view+json": {
       "model_id": "662cea2a2bc8432388ba7eb6a2b5627d",
       "version_major": 2,
       "version_minor": 0
      },
      "text/plain": [
       "  0%|          | 0/12 [00:00<?, ?it/s]"
      ]
     },
     "metadata": {},
     "output_type": "display_data"
    },
    {
     "data": {
      "application/vnd.jupyter.widget-view+json": {
       "model_id": "644ce8db5c0749639293466484646a50",
       "version_major": 2,
       "version_minor": 0
      },
      "text/plain": [
       "  0%|          | 0/12 [00:00<?, ?it/s]"
      ]
     },
     "metadata": {},
     "output_type": "display_data"
    }
   ],
   "source": [
    "results = {}\n",
    "\n",
    "for task in tqdm(task_names):\n",
    "    results[task] = []\n",
    "    \n",
    "    pairs = tasks[task]\n",
    "    pairs = [list(x) for x in pairs.items()]\n",
    "    dataset = ICLDataset(pairs, size=batch_size, n_prepended=n_few_shots, bidirectional=False, seed=10)\n",
    "\n",
    "    clean_inputs, clean_tokens = prepare_inputs(dataset)\n",
    "\n",
    "    _, resids = get_resids_call(clean_inputs)\n",
    "\n",
    "    mask = clean_inputs.tokens == 1599\n",
    "    mask = mask.unwrap(\"batch\", \"seq\")\n",
    "\n",
    "    dataset = ICLDataset(pairs, size=batch_size, n_prepended=0, bidirectional=False, seed=11)\n",
    "\n",
    "    add_inputs, add_tokens = prepare_inputs(dataset)\n",
    "\n",
    "    for layer in trange(10, 22):\n",
    "        tv = resids[layer].value.unwrap(\"batch\", \"seq\", \"embedding\")[mask]\n",
    "        tv = tv.mean(axis=0)\n",
    "        tv = tv.astype('bfloat16')\n",
    "\n",
    "        act_add = add_vector(\n",
    "            llama, tv, layer, scale=2.0, position=\"last\"\n",
    "        )\n",
    "\n",
    "        logits = act_add(add_inputs)\n",
    "\n",
    "        diff = get_logprob_diff(logits.unwrap(\"batch\", \"seq\", \"vocabulary\"), dataset.completions, print_results=False)\n",
    "\n",
    "        results[task].append(diff.mean())\n",
    "        \n",
    "        "
   ]
  },
  {
   "cell_type": "code",
   "execution_count": 27,
   "metadata": {},
   "outputs": [
    {
     "name": "stdout",
     "output_type": "stream",
     "text": [
      "algo_max 18 0\n",
      "algo_min 17 0\n",
      "algo_last 18 -0.0116577\n",
      "algo_first 18 0\n",
      "algo_sum 20 0\n",
      "algo_most_common 18 -0.00585938\n"
     ]
    }
   ],
   "source": [
    "for k in results:\n",
    "    print(\n",
    "        k, np.argmax([float(x) for x in results[k]]) + 10, max(results[k])\n",
    "    )"
   ]
  },
  {
   "cell_type": "code",
   "execution_count": 31,
   "metadata": {},
   "outputs": [
    {
     "name": "stdout",
     "output_type": "stream",
     "text": [
      "location_continent 21 -1.09375\n",
      "football_player_position 21 -3.76562\n",
      "location_religion 21 -1.09375\n",
      "location_language 20 -0.457031\n",
      "person_profession 21 -1.30469\n",
      "location_country 21 -1.44531\n",
      "country_capital 18 -1.25781\n",
      "person_language 18 -0.287109\n",
      "singular_plural 21 -0.261719\n",
      "present_simple_past_simple 20 -0.341797\n",
      "antonyms 14 -0.75\n",
      "plural_singular 20 -0.133789\n",
      "present_simple_past_perfect 18 -1.25781\n",
      "present_simple_gerund 20 -0.171875\n",
      "en_it 18 -1.29688\n",
      "it_en 14 -1.75781\n",
      "en_fr 18 -1.39062\n",
      "en_es 18 -1.21875\n",
      "fr_en 17 -1.25781\n",
      "es_en 17 -1.09375\n"
     ]
    }
   ],
   "source": [
    "for k in results:\n",
    "    print(\n",
    "        k, np.argmax([float(x) for x in results[k]]) + 10, max(results[k])\n",
    "    )"
   ]
  },
  {
   "cell_type": "code",
   "execution_count": null,
   "metadata": {},
   "outputs": [],
   "source": []
  }
 ],
 "metadata": {
  "kernelspec": {
   "display_name": "micrlhf-progress-a058ydGG-py3.12",
   "language": "python",
   "name": "python3"
  },
  "language_info": {
   "codemirror_mode": {
    "name": "ipython",
    "version": 3
   },
   "file_extension": ".py",
   "mimetype": "text/x-python",
   "name": "python",
   "nbconvert_exporter": "python",
   "pygments_lexer": "ipython3",
   "version": "3.12.3"
  }
 },
 "nbformat": 4,
 "nbformat_minor": 2
}
