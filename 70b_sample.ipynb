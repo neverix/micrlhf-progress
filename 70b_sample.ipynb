{
 "cells": [
  {
   "cell_type": "code",
   "execution_count": 1,
   "metadata": {},
   "outputs": [],
   "source": [
    "%load_ext autoreload\n",
    "%autoreload 2\n",
    "!sudo rm /tmp/libtpu_lockfile\n",
    "import penzai\n",
    "from penzai import pz\n",
    "import jax.numpy as jnp\n",
    "import jax_smi\n",
    "import jax\n",
    "jax_smi.initialise_tracking()\n",
    "pz.ts.register_as_default()\n",
    "pz.ts.register_autovisualize_magic()\n",
    "pz.enable_interactive_context()"
   ]
  },
  {
   "cell_type": "code",
   "execution_count": 2,
   "metadata": {},
   "outputs": [],
   "source": [
    "max_seq_len = 128\n",
    "batch_size = 16"
   ]
  },
  {
   "cell_type": "code",
   "execution_count": 3,
   "metadata": {},
   "outputs": [
    {
     "name": "stdout",
     "output_type": "stream",
     "text": [
      "Folding and caching...\n"
     ]
    }
   ],
   "source": [
    "from micrlhf.llama import LlamaTransformer\n",
    "from micrlhf.caching_llama import FoldedLlamaKVCachingTransformer\n",
    "from micrlhf.flash import flashify\n",
    "\n",
    "llama = LlamaTransformer.from_pretrained((\"models/llama-3-70b-1.gguf\", \"models/llama-3-70b-2.gguf\"),\n",
    "                                         device_map=\"auto:mp=4\", load_on_cpu=True,\n",
    "                                        #  transpose_rotary=False\n",
    "                                        #  transpose_rotary=True\n",
    "                                         )\n",
    "print(\"Folding and caching...\")\n",
    "llama, cache = FoldedLlamaKVCachingTransformer.from_uncached(llama, max_seq_len, {\"batch\": batch_size})\n",
    "# llama = flashify(llama)"
   ]
  },
  {
   "cell_type": "code",
   "execution_count": 4,
   "metadata": {},
   "outputs": [],
   "source": [
    "llama = llama.to_tpu()"
   ]
  },
  {
   "cell_type": "code",
   "execution_count": 5,
   "metadata": {},
   "outputs": [],
   "source": [
    "import gc\n",
    "gc.collect();"
   ]
  },
  {
   "cell_type": "code",
   "execution_count": 8,
   "metadata": {},
   "outputs": [
    {
     "name": "stderr",
     "output_type": "stream",
     "text": [
      "/home/neverix/.cache/pypoetry/virtualenvs/micrlhf-progress-a058ydGG-py3.12/lib/python3.12/site-packages/huggingface_hub/file_download.py:1132: FutureWarning: `resume_download` is deprecated and will be removed in version 1.0.0. Downloads always resume when possible. If you want to force a new download, use `force_download=True`.\n",
      "  warnings.warn(\n",
      "Special tokens have been added in the vocabulary, make sure the associated word embeddings are fine-tuned or trained.\n"
     ]
    }
   ],
   "source": [
    "from transformers import AutoTokenizer\n",
    "tokenizer = AutoTokenizer.from_pretrained(\"nvidia/Llama3-ChatQA-1.5-70B\")\n",
    "prompt = tokenizer.apply_chat_template([\n",
    "    {\"role\": \"system\", \"content\": \"You are a pirate chatbot who always responds in pirate speak!\"},\n",
    "    {\"role\": \"user\", \"content\": \"Who are you?\"},\n",
    "], tokenize=False)"
   ]
  },
  {
   "cell_type": "code",
   "execution_count": 9,
   "metadata": {},
   "outputs": [
    {
     "data": {
      "application/vnd.jupyter.widget-view+json": {
       "model_id": "ca0ab30d902646eb91f16b79071dbd8f",
       "version_major": 2,
       "version_minor": 0
      },
      "text/plain": [
       "  0%|          | 0/69 [00:00<?, ?it/s]"
      ]
     },
     "metadata": {},
     "output_type": "display_data"
    },
    {
     "data": {
      "text/html": [
       "<div id=\"output_24cec23706c34ccb8759cfae023fd005\"><script> /* penzai.treescope rendering of a Python object (compressed) */ (()=>{ let observer; let lastStep = new Promise((resolve, reject) => { observer = new IntersectionObserver((entries) => { for (const entry of entries) { if (entry.isIntersecting) { resolve(); observer.disconnect(); return; } } }, {rootMargin: \"1000px\"}); }); window.treescope_decompress_enqueue = (encoded, destId) => { const previous = lastStep; const destElt = document.getElementById(destId); lastStep = (async () => { await previous; let blob = new Blob([ Uint8Array.from(atob(encoded), (m) => m.codePointAt(0)) ]); let reader = blob.stream().pipeThrough( new DecompressionStream(\"deflate\") ).pipeThrough( new TextDecoderStream(\"utf-8\") ).getReader(); let parts = []; while (true) { let step = await reader.read(); if (step.done) { break; } parts.push(step.value); } let newElt = document.createElement(\"div\"); newElt.innerHTML = parts.join(\"\"); destElt.parentNode.replaceChild(newElt, destElt); for (let oldScript of newElt.querySelectorAll(\"script\")) { let newScript = document.createElement(\"script\"); newScript.type = oldScript.type; newScript.textContent = oldScript.textContent; oldScript.parentNode.replaceChild(newScript, oldScript); } })(); requestAnimationFrame(() => { observer.observe(destElt); }); } })(); </script><div id=\"compress_html_190b071aed85468bb72fd02f374eb795\"><script>window.treescope_decompress_enqueue(\"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\", \"compress_html_190b071aed85468bb72fd02f374eb795\");</script><span style=\"color: #aaaaaa; font-family: monospace\">(Loading...)</span></div></div>"
      ],
      "text/plain": [
       "<IPython.core.display.HTML object>"
      ]
     },
     "metadata": {},
     "output_type": "display_data"
    },
    {
     "data": {
      "text/html": [
       "<div id=\"output_dest_24cec23706c34ccb8759cfae023fd005\"><script> (()=>{ const output = document.getElementById(\"output_24cec23706c34ccb8759cfae023fd005\"); const dest = document.getElementById(\"output_dest_24cec23706c34ccb8759cfae023fd005\"); dest.parentNode.replaceChild(output, dest); })(); </script></div>"
      ],
      "text/plain": [
       "[' Nice to....<|begin_of_text|> new....... A........<|begin_of_text|> systemsomeethingous Vub<|begin_of_text|> useendregion of......., ( and work............ A R. v... E. B<|begin_of_text|>',\n",
       " ' Nice to....000 and I from... A W a ( ___X, and all/ C on F F the with.................. v000.. F) B<|begin_of_text|>  U I<|begin_of_text|> second. B in and this<|begin_of_text|> get.',\n",
       " \" Hello, use and A A A by this days a  - A A  ___x..............<|begin_of_text|> show value,'t get..... a p v. v v we ( to.Forms,  ( v.. m ( A E... __ the\",\n",
       " ' Hello!the the v, test, A............ I..<|begin_of_text|> show a v a and get that\" return.............. v.... A A A.. v. A A -..... I',\n",
       " ' Hello, that ( also.................. A A........... v do a to, be A..... ( for the D a G and set. I.swinging to  v.<|begin_of_text|> searchals.Forms.',\n",
       " ' Nice to I a I next the __ an p ( or F,\\n then......... Aolumni........................ A.. A.... in000 we.Forms of and makeendregion of',\n",
       " ' Hello, return in<|begin_of_text|> V B the, thise............ v a.Forms.of.s in.println<|start_header_id|> to......................... (, test A. S<|begin_of_text|> overcome over for. to',\n",
       " ' Hello G will, Lorraineau (.................<|begin_of_text|> S a and create a I it<|begin_of_text|> review of to I.Forms are000.... v.... ( ( this<|begin_of_text|>\\xa0 \\xa0 ‚Ä¬pro, play a a A v A a,',\n",
       " ' Hello, a and this Is A...... v to<|begin_of_text|>  _........<|begin_of_text|> “of products Ionian.......... v a..... p R. ( the for et. p<|begin_of_text|> get A B for.println<|start_header_id|> S to a (',\n",
       " ' Nice and to... A be.swinging. A............. A.............. A ( not for at the un<|begin_of_text|> work ( p v A A ( I A it.Forms.of. a, v. v A only to',\n",
       " ' Hello, v,  T....... v a v<|begin_of_text|> \", a and this, not a for a v value are.Forms a......... v. p.Forms. v.... the do a a.. p.Forms of v... v.. v.',\n",
       " \" Nice and be.println<|start_header_id|>leyit I201, a-objectal........................ A a the p ( t.Forms the be,'t as  The, now\\n v..... v. the so closest to in.Forms and\",\n",
       " ' Nice and process and a....... p a A and work... v a A Dthe............. A...... v.... A A A the. A. v.... v000. _ Candles could',\n",
       " ' Nice! e v, to. A000 v,\\'t see.........<|begin_of_text|> re value, v a I............ v..... ( v this<|begin_of_text|> home a a G is D. – \"..<|begin_of_text|> The and do...',\n",
       " ' Nice and show is f, R, A and test, V is the A000 by. and play the and my ( so a............ A......... A.. v......... G a the in U. v',\n",
       " ' Hello in<|begin_of_text|> \"and........................ A in000....... v to000.<|begin_of_text|> move<|begin_of_text|>  test. A... v A a only to f. v., A A and  I.Forms']"
      ]
     },
     "execution_count": 9,
     "metadata": {},
     "output_type": "execute_result"
    }
   ],
   "source": [
    "from micrlhf.sampling import sample\n",
    "sample((llama, cache), tokenizer, prompt, batch_size=batch_size, max_seq_len=max_seq_len,\n",
    "       do_sample=True, return_only_completion=True)"
   ]
  },
  {
   "cell_type": "code",
   "execution_count": null,
   "metadata": {},
   "outputs": [],
   "source": []
  }
 ],
 "metadata": {
  "kernelspec": {
   "display_name": "micrlhf-progress-a058ydGG-py3.12",
   "language": "python",
   "name": "python3"
  },
  "language_info": {
   "codemirror_mode": {
    "name": "ipython",
    "version": 3
   },
   "file_extension": ".py",
   "mimetype": "text/x-python",
   "name": "python",
   "nbconvert_exporter": "python",
   "pygments_lexer": "ipython3",
   "version": "3.12.3"
  }
 },
 "nbformat": 4,
 "nbformat_minor": 2
}
