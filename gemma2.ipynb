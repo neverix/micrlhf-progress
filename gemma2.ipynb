{
 "cells": [
  {
   "cell_type": "code",
   "execution_count": 1,
   "metadata": {},
   "outputs": [],
   "source": [
    "%load_ext autoreload\n",
    "%autoreload 2\n",
    "import penzai\n",
    "from penzai import pz\n",
    "pz.ts.register_as_default()\n",
    "pz.ts.register_autovisualize_magic()\n",
    "pz.enable_interactive_context()"
   ]
  },
  {
   "cell_type": "code",
   "execution_count": 2,
   "metadata": {},
   "outputs": [],
   "source": [
    "from micrlhf.llama import LlamaTransformer\n",
    "llama = LlamaTransformer.from_pretrained(\"models/gemma-2-9b-it.gguf\", device_map=\"tpu:0\",\n",
    "                                         from_type=\"gemma2\",\n",
    "                                         load_eager=True\n",
    "                                         )"
   ]
  },
  {
   "cell_type": "code",
   "execution_count": 3,
   "metadata": {},
   "outputs": [],
   "source": [
    "from transformers import AutoTokenizer\n",
    "tokenizer = AutoTokenizer.from_pretrained(\"UCLA-AGI/Gemma-2-9B-It-SPPO-Iter3\")\n",
    "tokenizer.padding_side = \"right\""
   ]
  },
  {
   "cell_type": "code",
   "execution_count": 4,
   "metadata": {},
   "outputs": [],
   "source": [
    "# import jax.numpy as jnp\n",
    "# import jax\n",
    "# from micrlhf.llama import LlamaBlock\n",
    "\n",
    "# tokens = tokenizer.encode(\"The quick brown fox jumps over the lazy dog\")\n",
    "# get_resids = llama.select().at_instances_of(LlamaBlock).apply_with_selected_index(lambda i, x:\n",
    "#     pz.nn.Sequential([\n",
    "#         pz.de.TellIntermediate.from_config(tag=f\"resid_pre_{i}\"),\n",
    "#         x\n",
    "#     ])\n",
    "# )\n",
    "# get_resids = pz.de.CollectingSideOutputs.handling(get_resids, tag_predicate=lambda x: x.startswith(\"resid_pre\"))\n",
    "# token_array = jnp.asarray([tokens] * 4)\n",
    "# token_array = jax.device_put(token_array, jax.sharding.NamedSharding(llama.mesh, jax.sharding.PartitionSpec(\"dp\", \"sp\")))\n",
    "# token_array = pz.nx.wrap(token_array, \"batch\", \"seq\")\n",
    "# inputs = llama.inputs.from_basic_segments(token_array)\n",
    "# get_resids(inputs)[1][0].value.unwrap(\"batch\", \"seq\", \"embedding\")[0]"
   ]
  },
  {
   "cell_type": "code",
   "execution_count": 5,
   "metadata": {},
   "outputs": [
    {
     "data": {
      "application/vnd.jupyter.widget-view+json": {
       "model_id": "e4f5f3b9db254773af4b2b738beadc3e",
       "version_major": 2,
       "version_minor": 0
      },
      "text/plain": [
       "  0%|          | 0/49 [00:00<?, ?it/s]"
      ]
     },
     "metadata": {},
     "output_type": "display_data"
    },
    {
     "data": {
      "text/html": [
       "<script> (()=>{ if (customElements.get('treescope-container') === undefined) { class TreescopeContainer extends HTMLElement { constructor() { super(); this.attachShadow({mode: \"open\"}); this.defns = {}; this.state = {}; } } customElements.define(\"treescope-container\", TreescopeContainer); } if (customElements.get('treescope-run-here') === undefined) { class RunHere extends HTMLElement { constructor() { super() } connectedCallback() { const run = child => { const fn = new Function(child.textContent); child.textContent = \"\"; fn.call(this); this.remove(); }; const child = this.querySelector(\"script\"); if (child) { run(child); } else { new MutationObserver(()=>{ run(this.querySelector(\"script\")); }).observe(this, {childList: true}); } } } customElements.define(\"treescope-run-here\", RunHere); } })(); </script> <treescope-container class=\"treescope_out_9a5ce5c87c7f491cbfa6cd278235385d\" ></treescope-container> <treescope-run-here><script type=\"application/octet-stream\"> const root = ( Array.from(document.getElementsByClassName( \"treescope_out_9a5ce5c87c7f491cbfa6cd278235385d\")) .filter((elt) => !elt.dataset.setup) )[0]; root.dataset.setup = 1; const msg = document.createElement(\"span\"); msg.style = \"color: #aaaaaa; font-family: monospace; transition: opacity 0.2s; opacity: 0.0;\"; msg.textContent = \"(Loading...)\"; root.state.loadingMsg = msg; root.shadowRoot.appendChild(msg); root.state.chain = new Promise((resolve, reject) => { const observer = new IntersectionObserver((entries) => { for (const entry of entries) { if (entry.isIntersecting) { resolve(); observer.disconnect(); return; } } }, {rootMargin: \"1000px\"}); window.setTimeout(() => { if (root.loadingMsg) { root.loadingMsg.style.opacity = \"1.0\"; } observer.observe(root); }, 0); }); root.state.deferring = false; const _insertNode = (node) => { for (let oldScript of node.querySelectorAll(\"script\")) { let newScript = document.createElement(\"script\"); newScript.type = oldScript.type; newScript.textContent = oldScript.textContent; oldScript.parentNode.replaceChild(newScript, oldScript); } if (root.state.loadingMsg) { root.state.loadingMsg.remove(); root.state.loadingMsg = null; } root.shadowRoot.appendChild(node); }; root.defns.insertContent = ((contentNode, compressed) => { if (compressed) { root.state.deferring = true; } if (root.state.deferring) { root.state.chain = (async () => { await root.state.chain; if (compressed) { const encoded = contentNode.textContent; const blob = new Blob([ Uint8Array.from(atob(encoded), (m) => m.codePointAt(0)) ]); const reader = blob.stream().pipeThrough( new DecompressionStream(\"deflate\") ).pipeThrough( new TextDecoderStream(\"utf-8\") ).getReader(); const parts = []; while (true) { const step = await reader.read(); if (step.done) { break; } parts.push(step.value); } const tpl = document.createElement('template'); tpl.innerHTML = parts.join(\"\"); _insertNode(tpl.content); } else { _insertNode(contentNode.content); } })(); } else { _insertNode(contentNode.content); } }); </script></treescope-run-here><div style=\"display:none\"> <script type=\"application/octet-stream\" >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</script> <treescope-run-here><script type=\"application/octet-stream\"> const root = ( Array.from(document.getElementsByClassName( \"treescope_out_9a5ce5c87c7f491cbfa6cd278235385d\")) .filter((elt) => !elt.dataset['step0']) )[0]; root.dataset['step0'] = 1; root.defns.insertContent( this.parentNode.querySelector('script[type=\"application/octet-stream\"]'), true ); this.parentNode.remove(); </script></treescope-run-here> </div>"
      ],
      "text/plain": [
       "<IPython.core.display.HTML object>"
      ]
     },
     "metadata": {},
     "output_type": "display_data"
    },
    {
     "data": {
      "text/html": [
       "<treescope-run-here><script type=\"application/octet-stream\"> const root = ( Array.from(document.getElementsByClassName( \"treescope_out_9a5ce5c87c7f491cbfa6cd278235385d\")) .filter((elt) => !elt.dataset.stolen) )[0]; root.dataset.stolen = 1; this.parentNode.replaceChild(root, this); </script></treescope-run-here>"
      ],
      "text/plain": [
       "['<bos><bos><start_of_turn>user\\nWrite a hello world program<end_of_turn>\\n<start_of_turn>model\\n\\n\\n\\n\\n\\n\\n\\n\\n\\n\\n\\n\\n\\n\\n\\n\\n\\n\\n\\n\\n\\n\\n\\n\\n\\n\\n\\n\\n\\n\\n\\n\\n\\n\\n\\n\\n\\n\\n\\n\\n\\n\\n\\n\\n\\n\\n\\n\\n\\n\\n\\n\\n\\n\\n\\n\\n\\n\\n\\n\\n\\n\\n\\n\\n\\n\\n\\n\\n\\n\\n\\n\\n\\n\\n\\n\\n\\n\\n\\n\\n\\n\\n\\n\\n\\n\\n\\n\\n\\n\\n\\n\\n\\n\\n\\n\\n\\n\\n',\n",
       " '<bos><bos><start_of_turn>user\\nWrite a hello world program<end_of_turn>\\n<start_of_turn>model\\n\\n\\n\\n\\n\\n\\n\\n\\n\\n\\n\\n\\n\\n\\n\\n\\n\\n\\n\\n\\n\\n\\n\\n\\n\\n\\n\\n\\n\\n\\n\\n\\n\\n\\n\\n\\n\\n\\n\\n\\n\\n\\n\\n\\n\\n\\n\\n\\n\\n\\n\\n\\n\\n\\n\\n\\n\\n\\n\\n\\n\\n\\n\\n\\n\\n\\n\\n\\n\\n\\n\\n\\n\\n\\n\\n\\n\\n\\n\\n\\n\\n\\n\\n\\n\\n\\n\\n\\n\\n\\n\\n\\n\\n\\n\\n\\n\\n\\n',\n",
       " '<bos><bos><start_of_turn>user\\nWrite a hello world program<end_of_turn>\\n<start_of_turn>model\\n\\n\\n\\n\\n\\n\\n\\n\\n\\n\\n\\n\\n\\n\\n\\n\\n\\n\\n\\n\\n\\n\\n\\n\\n\\n\\n\\n\\n\\n\\n\\n\\n\\n\\n\\n\\n\\n\\n\\n\\n\\n\\n\\n\\n\\n\\n\\n\\n\\n\\n\\n\\n\\n\\n\\n\\n\\n\\n\\n\\n\\n\\n\\n\\n\\n\\n\\n\\n\\n\\n\\n\\n\\n\\n\\n\\n\\n\\n\\n\\n\\n\\n\\n\\n\\n\\n\\n\\n\\n\\n\\n\\n\\n\\n\\n\\n\\n\\n',\n",
       " '<bos><bos><start_of_turn>user\\nWrite a hello world program<end_of_turn>\\n<start_of_turn>model\\n\\n\\n\\n\\n\\n\\n\\n\\n\\n\\n\\n\\n\\n\\n\\n\\n\\n\\n\\n\\n\\n\\n\\n\\n\\n\\n\\n\\n\\n\\n\\n\\n\\n\\n\\n\\n\\n\\n\\n\\n\\n\\n\\n\\n\\n\\n\\n\\n\\n\\n\\n\\n\\n\\n\\n\\n\\n\\n\\n\\n\\n\\n\\n\\n\\n\\n\\n\\n\\n\\n\\n\\n\\n\\n\\n\\n\\n\\n\\n\\n\\n\\n\\n\\n\\n\\n\\n\\n\\n\\n\\n\\n\\n\\n\\n\\n\\n\\n']"
      ]
     },
     "execution_count": 5,
     "metadata": {},
     "output_type": "execute_result"
    }
   ],
   "source": [
    "from micrlhf.sampling import sample\n",
    "chat = [\n",
    "    { \"role\": \"user\", \"content\": \"Write a hello world program\" },\n",
    "]\n",
    "prompt = tokenizer.apply_chat_template(chat, tokenize=False, add_generation_prompt=True)\n",
    "sample(llama, tokenizer, prompt,\n",
    "       batch_size=4, do_sample=True)[0]"
   ]
  },
  {
   "cell_type": "code",
   "execution_count": 6,
   "metadata": {},
   "outputs": [],
   "source": [
    "# sample(llama, tokenizer, [\"Write me a poem about Machine Learning.\", \"Hi!\"], do_sample=True, return_only_completion=True, seed=3)"
   ]
  },
  {
   "cell_type": "code",
   "execution_count": 7,
   "metadata": {},
   "outputs": [],
   "source": [
    "# from transformers import AutoModelForCausalLM\n",
    "# model = AutoModelForCausalLM.from_pretrained(\"alpindale/gemma-2b\")"
   ]
  },
  {
   "cell_type": "code",
   "execution_count": 8,
   "metadata": {},
   "outputs": [],
   "source": [
    "# import torch\n",
    "# from collections import OrderedDict\n",
    "# for m in model.modules():\n",
    "#     m._forward_hooks = OrderedDict()\n",
    "# model.model.layers[0].register_forward_hook(lambda self, input, output: print(input[0]))\n",
    "# tt = torch.LongTensor(tokens).unsqueeze(0)\n",
    "# model(tt).logits"
   ]
  },
  {
   "cell_type": "code",
   "execution_count": null,
   "metadata": {},
   "outputs": [],
   "source": []
  }
 ],
 "metadata": {
  "kernelspec": {
   "display_name": "micrlhf-progress-a058ydGG-py3.12",
   "language": "python",
   "name": "python3"
  },
  "language_info": {
   "codemirror_mode": {
    "name": "ipython",
    "version": 3
   },
   "file_extension": ".py",
   "mimetype": "text/x-python",
   "name": "python",
   "nbconvert_exporter": "python",
   "pygments_lexer": "ipython3",
   "version": "3.10.12"
  }
 },
 "nbformat": 4,
 "nbformat_minor": 2
}
