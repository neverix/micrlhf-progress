{
 "cells": [
  {
   "cell_type": "code",
   "execution_count": 1,
   "metadata": {},
   "outputs": [],
   "source": [
    "%load_ext autoreload\n",
    "%autoreload 2\n",
    "import penzai\n",
    "from penzai import pz\n",
    "pz.ts.register_as_default()\n",
    "pz.ts.register_autovisualize_magic()\n",
    "pz.enable_interactive_context()"
   ]
  },
  {
   "cell_type": "code",
   "execution_count": 2,
   "metadata": {},
   "outputs": [],
   "source": [
    "from micrlhf.llama import LlamaTransformer\n",
    "llama = LlamaTransformer.from_pretrained(\"models/gemma-2-9b-it.gguf\", device_map=\"tpu:0\",\n",
    "                                         from_type=\"gemma2\",\n",
    "                                         load_eager=True\n",
    "                                         )"
   ]
  },
  {
   "cell_type": "code",
   "execution_count": 3,
   "metadata": {},
   "outputs": [
    {
     "data": {
      "application/vnd.jupyter.widget-view+json": {
       "model_id": "6b304967396e4ae6b1634aeaf1558879",
       "version_major": 2,
       "version_minor": 0
      },
      "text/plain": [
       "tokenizer_config.json:   0%|          | 0.00/40.6k [00:00<?, ?B/s]"
      ]
     },
     "metadata": {},
     "output_type": "display_data"
    },
    {
     "data": {
      "application/vnd.jupyter.widget-view+json": {
       "model_id": "48abc074bc09410394e6ba6f40f7f42a",
       "version_major": 2,
       "version_minor": 0
      },
      "text/plain": [
       "tokenizer.model:   0%|          | 0.00/4.24M [00:00<?, ?B/s]"
      ]
     },
     "metadata": {},
     "output_type": "display_data"
    },
    {
     "data": {
      "application/vnd.jupyter.widget-view+json": {
       "model_id": "7fb84173241f44eb945e99b6a13dabae",
       "version_major": 2,
       "version_minor": 0
      },
      "text/plain": [
       "tokenizer.json:   0%|          | 0.00/17.5M [00:00<?, ?B/s]"
      ]
     },
     "metadata": {},
     "output_type": "display_data"
    },
    {
     "data": {
      "application/vnd.jupyter.widget-view+json": {
       "model_id": "abafe38071dd489988a22fe3652a02d7",
       "version_major": 2,
       "version_minor": 0
      },
      "text/plain": [
       "special_tokens_map.json:   0%|          | 0.00/636 [00:00<?, ?B/s]"
      ]
     },
     "metadata": {},
     "output_type": "display_data"
    }
   ],
   "source": [
    "from transformers import AutoTokenizer\n",
    "tokenizer = AutoTokenizer.from_pretrained(\"UCLA-AGI/Gemma-2-9B-It-SPPO-Iter3\")\n",
    "tokenizer.padding_side = \"right\""
   ]
  },
  {
   "cell_type": "code",
   "execution_count": 4,
   "metadata": {},
   "outputs": [],
   "source": [
    "# import jax.numpy as jnp\n",
    "# import jax\n",
    "# from micrlhf.llama import LlamaBlock\n",
    "\n",
    "# tokens = tokenizer.encode(\"The quick brown fox jumps over the lazy dog\")\n",
    "# get_resids = llama.select().at_instances_of(LlamaBlock).apply_with_selected_index(lambda i, x:\n",
    "#     pz.nn.Sequential([\n",
    "#         pz.de.TellIntermediate.from_config(tag=f\"resid_pre_{i}\"),\n",
    "#         x\n",
    "#     ])\n",
    "# )\n",
    "# get_resids = pz.de.CollectingSideOutputs.handling(get_resids, tag_predicate=lambda x: x.startswith(\"resid_pre\"))\n",
    "# token_array = jnp.asarray([tokens] * 4)\n",
    "# token_array = jax.device_put(token_array, jax.sharding.NamedSharding(llama.mesh, jax.sharding.PartitionSpec(\"dp\", \"sp\")))\n",
    "# token_array = pz.nx.wrap(token_array, \"batch\", \"seq\")\n",
    "# inputs = llama.inputs.from_basic_segments(token_array)\n",
    "# get_resids(inputs)[1][0].value.unwrap(\"batch\", \"seq\", \"embedding\")[0]"
   ]
  },
  {
   "cell_type": "code",
   "execution_count": 5,
   "metadata": {},
   "outputs": [
    {
     "data": {
      "application/vnd.jupyter.widget-view+json": {
       "model_id": "72b7c8398c16449d81384dfc0071f932",
       "version_major": 2,
       "version_minor": 0
      },
      "text/plain": [
       "  0%|          | 0/49 [00:00<?, ?it/s]"
      ]
     },
     "metadata": {},
     "output_type": "display_data"
    },
    {
     "data": {
      "text/html": [
       "<script> (()=>{ if (customElements.get('treescope-container') === undefined) { class TreescopeContainer extends HTMLElement { constructor() { super(); this.attachShadow({mode: \"open\"}); this.defns = {}; this.state = {}; } } customElements.define(\"treescope-container\", TreescopeContainer); } if (customElements.get('treescope-run-here') === undefined) { class RunHere extends HTMLElement { constructor() { super() } connectedCallback() { const run = child => { const fn = new Function(child.textContent); child.textContent = \"\"; fn.call(this); this.remove(); }; const child = this.querySelector(\"script\"); if (child) { run(child); } else { new MutationObserver(()=>{ run(this.querySelector(\"script\")); }).observe(this, {childList: true}); } } } customElements.define(\"treescope-run-here\", RunHere); } })(); </script> <treescope-container class=\"treescope_out_5dc229363bcf42e598cbf4d77972ea27\" ></treescope-container> <treescope-run-here><script type=\"application/octet-stream\"> const root = ( Array.from(document.getElementsByClassName( \"treescope_out_5dc229363bcf42e598cbf4d77972ea27\")) .filter((elt) => !elt.dataset.setup) )[0]; root.dataset.setup = 1; const msg = document.createElement(\"span\"); msg.style = \"color: #aaaaaa; font-family: monospace; transition: opacity 0.2s; opacity: 0.0;\"; msg.textContent = \"(Loading...)\"; root.state.loadingMsg = msg; root.shadowRoot.appendChild(msg); root.state.chain = new Promise((resolve, reject) => { const observer = new IntersectionObserver((entries) => { for (const entry of entries) { if (entry.isIntersecting) { resolve(); observer.disconnect(); return; } } }, {rootMargin: \"1000px\"}); window.setTimeout(() => { if (root.loadingMsg) { root.loadingMsg.style.opacity = \"1.0\"; } observer.observe(root); }, 0); }); root.state.deferring = false; const _insertNode = (node) => { for (let oldScript of node.querySelectorAll(\"script\")) { let newScript = document.createElement(\"script\"); newScript.type = oldScript.type; newScript.textContent = oldScript.textContent; oldScript.parentNode.replaceChild(newScript, oldScript); } if (root.state.loadingMsg) { root.state.loadingMsg.remove(); root.state.loadingMsg = null; } root.shadowRoot.appendChild(node); }; root.defns.insertContent = ((contentNode, compressed) => { if (compressed) { root.state.deferring = true; } if (root.state.deferring) { root.state.chain = (async () => { await root.state.chain; if (compressed) { const encoded = contentNode.textContent; const blob = new Blob([ Uint8Array.from(atob(encoded), (m) => m.codePointAt(0)) ]); const reader = blob.stream().pipeThrough( new DecompressionStream(\"deflate\") ).pipeThrough( new TextDecoderStream(\"utf-8\") ).getReader(); const parts = []; while (true) { const step = await reader.read(); if (step.done) { break; } parts.push(step.value); } const tpl = document.createElement('template'); tpl.innerHTML = parts.join(\"\"); _insertNode(tpl.content); } else { _insertNode(contentNode.content); } })(); } else { _insertNode(contentNode.content); } }); </script></treescope-run-here><div style=\"display:none\"> <script type=\"application/octet-stream\" >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</script> <treescope-run-here><script type=\"application/octet-stream\"> const root = ( Array.from(document.getElementsByClassName( \"treescope_out_5dc229363bcf42e598cbf4d77972ea27\")) .filter((elt) => !elt.dataset['step0']) )[0]; root.dataset['step0'] = 1; root.defns.insertContent( this.parentNode.querySelector('script[type=\"application/octet-stream\"]'), true ); this.parentNode.remove(); </script></treescope-run-here> </div>"
      ],
      "text/plain": [
       "<IPython.core.display.HTML object>"
      ]
     },
     "metadata": {},
     "output_type": "display_data"
    },
    {
     "data": {
      "text/html": [
       "<treescope-run-here><script type=\"application/octet-stream\"> const root = ( Array.from(document.getElementsByClassName( \"treescope_out_5dc229363bcf42e598cbf4d77972ea27\")) .filter((elt) => !elt.dataset.stolen) )[0]; root.dataset.stolen = 1; this.parentNode.replaceChild(root, this); </script></treescope-run-here>"
      ],
      "text/plain": [
       "['<bos><bos><start_of_turn>user\\nWrite a hello world program<end_of_turn>\\n<start_of_turn>model\\n```python\\nprint(\"Hello, world!\")\\n```\\n\\nThis program will print the text \"Hello, world!\" to the console. \\n\\nHere\\'s how it works:\\n\\n* **`print()`** is a function in Python that',\n",
       " '<bos><bos><start_of_turn>user\\nWrite a hello world program<end_of_turn>\\n<start_of_turn>model\\n```python\\nprint(\"Hello, world!\")\\n```\\n\\nThis program, written in Python, will print the message \"Hello, world!\" to the console.\\n\\n**Explanation:**\\n\\n* **`print()`** is a built-in function',\n",
       " '<bos><bos><start_of_turn>user\\nWrite a hello world program<end_of_turn>\\n<start_of_turn>model\\n```python\\nprint(\"Hello, world!\")\\n```\\n\\nThis program will print the text \"Hello, world!\" to the console. \\n\\nHere\\'s how it works:\\n\\n* **`print()`** is a built-in function',\n",
       " '<bos><bos><start_of_turn>user\\nWrite a hello world program<end_of_turn>\\n<start_of_turn>model\\n```python\\nprint(\"Hello, world!\")\\n```\\n\\nThis program will print the message \"Hello, world!\" to the console. \\n\\n**Here\\'s how it works:**\\n\\n* **`print()`** is a built-in']"
      ]
     },
     "execution_count": 5,
     "metadata": {},
     "output_type": "execute_result"
    }
   ],
   "source": [
    "from micrlhf.sampling import sample\n",
    "chat = [\n",
    "    { \"role\": \"user\", \"content\": \"Write a hello world program\" },\n",
    "]\n",
    "prompt = tokenizer.apply_chat_template(chat, tokenize=False, add_generation_prompt=True)\n",
    "sample(llama, tokenizer, prompt,\n",
    "       batch_size=4, do_sample=True)[0]"
   ]
  },
  {
   "cell_type": "code",
   "execution_count": 6,
   "metadata": {},
   "outputs": [],
   "source": [
    "# sample(llama, tokenizer, [\"Write me a poem about Machine Learning.\", \"Hi!\"], do_sample=True, return_only_completion=True, seed=3)"
   ]
  },
  {
   "cell_type": "code",
   "execution_count": 7,
   "metadata": {},
   "outputs": [],
   "source": [
    "# from transformers import AutoModelForCausalLM\n",
    "# model = AutoModelForCausalLM.from_pretrained(\"alpindale/gemma-2b\")"
   ]
  },
  {
   "cell_type": "code",
   "execution_count": 8,
   "metadata": {},
   "outputs": [],
   "source": [
    "# import torch\n",
    "# from collections import OrderedDict\n",
    "# for m in model.modules():\n",
    "#     m._forward_hooks = OrderedDict()\n",
    "# model.model.layers[0].register_forward_hook(lambda self, input, output: print(input[0]))\n",
    "# tt = torch.LongTensor(tokens).unsqueeze(0)\n",
    "# model(tt).logits"
   ]
  },
  {
   "cell_type": "code",
   "execution_count": null,
   "metadata": {},
   "outputs": [],
   "source": []
  }
 ],
 "metadata": {
  "kernelspec": {
   "display_name": "micrlhf-progress-a058ydGG-py3.12",
   "language": "python",
   "name": "python3"
  },
  "language_info": {
   "codemirror_mode": {
    "name": "ipython",
    "version": 3
   },
   "file_extension": ".py",
   "mimetype": "text/x-python",
   "name": "python",
   "nbconvert_exporter": "python",
   "pygments_lexer": "ipython3",
   "version": "3.10.12"
  }
 },
 "nbformat": 4,
 "nbformat_minor": 2
}
