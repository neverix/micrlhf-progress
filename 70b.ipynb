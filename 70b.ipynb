{
 "cells": [
  {
   "cell_type": "code",
   "execution_count": 1,
   "metadata": {},
   "outputs": [],
   "source": [
    "%load_ext autoreload\n",
    "%autoreload 2\n",
    "import penzai\n",
    "from penzai import pz\n",
    "import jax.numpy as jnp\n",
    "import jax_smi\n",
    "jax_smi.initialise_tracking()\n",
    "pz.ts.register_as_default()\n",
    "pz.ts.register_autovisualize_magic()\n",
    "pz.enable_interactive_context()"
   ]
  },
  {
   "cell_type": "code",
   "execution_count": 2,
   "metadata": {},
   "outputs": [],
   "source": [
    "from micrlhf.llama import LlamaTransformer\n",
    "llama = LlamaTransformer.from_pretrained((\"models/llama-3-70b-1.gguf\", \"models/llama-3-70b-2.gguf\"),\n",
    "                                         device_map=\"auto:mp=4\")"
   ]
  },
  {
   "cell_type": "code",
   "execution_count": 3,
   "metadata": {},
   "outputs": [
    {
     "name": "stderr",
     "output_type": "stream",
     "text": [
      "/home/neverix/.cache/pypoetry/virtualenvs/micrlhf-progress-a058ydGG-py3.12/lib/python3.12/site-packages/huggingface_hub/file_download.py:1132: FutureWarning: `resume_download` is deprecated and will be removed in version 1.0.0. Downloads always resume when possible. If you want to force a new download, use `force_download=True`.\n",
      "  warnings.warn(\n"
     ]
    },
    {
     "data": {
      "application/vnd.jupyter.widget-view+json": {
       "model_id": "572b4080eab246ff93a5cf3c625fd8b9",
       "version_major": 2,
       "version_minor": 0
      },
      "text/plain": [
       "tokenizer_config.json:   0%|          | 0.00/51.3k [00:00<?, ?B/s]"
      ]
     },
     "metadata": {},
     "output_type": "display_data"
    },
    {
     "data": {
      "application/vnd.jupyter.widget-view+json": {
       "model_id": "6ddf1caca46c47dcbb0146a5cdf94f07",
       "version_major": 2,
       "version_minor": 0
      },
      "text/plain": [
       "tokenizer.json:   0%|          | 0.00/9.08M [00:00<?, ?B/s]"
      ]
     },
     "metadata": {},
     "output_type": "display_data"
    },
    {
     "data": {
      "application/vnd.jupyter.widget-view+json": {
       "model_id": "e21373ed15de4cd8936ed842dfc41637",
       "version_major": 2,
       "version_minor": 0
      },
      "text/plain": [
       "special_tokens_map.json:   0%|          | 0.00/73.0 [00:00<?, ?B/s]"
      ]
     },
     "metadata": {},
     "output_type": "display_data"
    },
    {
     "name": "stderr",
     "output_type": "stream",
     "text": [
      "Special tokens have been added in the vocabulary, make sure the associated word embeddings are fine-tuned or trained.\n"
     ]
    }
   ],
   "source": [
    "from transformers import AutoTokenizer\n",
    "tokenizer = AutoTokenizer.from_pretrained(\"nvidia/Llama3-ChatQA-1.5-70B\")"
   ]
  },
  {
   "cell_type": "code",
   "execution_count": 9,
   "metadata": {},
   "outputs": [],
   "source": [
    "prompt = tokenizer.apply_chat_template([\n",
    "    {\"role\": \"system\", \"content\": \"You are a pirate chatbot who always responds in pirate speak!\"},\n",
    "    {\"role\": \"user\", \"content\": \"Who are you?\"},\n",
    "], tokenize=False)"
   ]
  },
  {
   "cell_type": "code",
   "execution_count": 10,
   "metadata": {},
   "outputs": [
    {
     "data": {
      "application/vnd.jupyter.widget-view+json": {
       "model_id": "27d5f69ad14c47458913ae84f024d65f",
       "version_major": 2,
       "version_minor": 0
      },
      "text/plain": [
       "  0%|          | 0/69 [00:00<?, ?it/s]"
      ]
     },
     "metadata": {},
     "output_type": "display_data"
    },
    {
     "data": {
      "text/html": [
       "<div id=\"output_d56e525b62f24fe8a38702f8e5d965f8\"><script> /* penzai.treescope rendering of a Python object (compressed) */ (()=>{ let observer; let lastStep = new Promise((resolve, reject) => { observer = new IntersectionObserver((entries) => { for (const entry of entries) { if (entry.isIntersecting) { resolve(); observer.disconnect(); return; } } }, {rootMargin: \"1000px\"}); }); window.treescope_decompress_enqueue = (encoded, destId) => { const previous = lastStep; const destElt = document.getElementById(destId); lastStep = (async () => { await previous; let blob = new Blob([ Uint8Array.from(atob(encoded), (m) => m.codePointAt(0)) ]); let reader = blob.stream().pipeThrough( new DecompressionStream(\"deflate\") ).pipeThrough( new TextDecoderStream(\"utf-8\") ).getReader(); let parts = []; while (true) { let step = await reader.read(); if (step.done) { break; } parts.push(step.value); } let newElt = document.createElement(\"div\"); newElt.innerHTML = parts.join(\"\"); destElt.parentNode.replaceChild(newElt, destElt); for (let oldScript of newElt.querySelectorAll(\"script\")) { let newScript = document.createElement(\"script\"); newScript.type = oldScript.type; newScript.textContent = oldScript.textContent; oldScript.parentNode.replaceChild(newScript, oldScript); } })(); requestAnimationFrame(() => { observer.observe(destElt); }); } })(); </script><div id=\"compress_html_6654fc7bdb5c4b9d9a304a4bed6b8cd3\"><script>window.treescope_decompress_enqueue(\"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\", \"compress_html_6654fc7bdb5c4b9d9a304a4bed6b8cd3\");</script><span style=\"color: #aaaaaa; font-family: monospace\">(Loading...)</span></div></div>"
      ],
      "text/plain": [
       "<IPython.core.display.HTML object>"
      ]
     },
     "metadata": {},
     "output_type": "display_data"
    },
    {
     "data": {
      "text/html": [
       "<div id=\"output_dest_d56e525b62f24fe8a38702f8e5d965f8\"><script> (()=>{ const output = document.getElementById(\"output_d56e525b62f24fe8a38702f8e5d965f8\"); const dest = document.getElementById(\"output_dest_d56e525b62f24fe8a38702f8e5d965f8\"); dest.parentNode.replaceChild(output, dest); })(); </script></div>"
      ],
      "text/plain": [
       "[\"<|begin_of_text|>System: This is a chat between a user and an artificial intelligence assistant. The assistant gives helpful, detailed, and polite answers to the user's questions based on the context. The assistant should also indicate when the answer cannot be found in the context.\\n\\nUser: Who are you?\\n\\nAssistant: Nice to meet you! I'm an artificial intelligence assistant designed to provide helpful and accurate information to your questions. I'm here to assist you in a friendly and polite manner. If I'm unsure or don't have enough information to provide an accurate answer, I'll let you know and try to find more information or resources to help you. So\"]"
      ]
     },
     "execution_count": 10,
     "metadata": {},
     "output_type": "execute_result"
    }
   ],
   "source": [
    "from micrlhf.sampling import sample\n",
    "sample(llama, tokenizer, prompt, batch_size=1, max_seq_len=128, do_sample=True,\n",
    "    #    fold=True\n",
    "    #    use_jit=False\n",
    "       )"
   ]
  }
 ],
 "metadata": {
  "kernelspec": {
   "display_name": "micrlhf-progress-a058ydGG-py3.12",
   "language": "python",
   "name": "python3"
  },
  "language_info": {
   "codemirror_mode": {
    "name": "ipython",
    "version": 3
   },
   "file_extension": ".py",
   "mimetype": "text/x-python",
   "name": "python",
   "nbconvert_exporter": "python",
   "pygments_lexer": "ipython3",
   "version": "3.12.3"
  }
 },
 "nbformat": 4,
 "nbformat_minor": 2
}
