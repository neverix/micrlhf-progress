{
 "cells": [
  {
   "cell_type": "code",
   "execution_count": 1,
   "metadata": {},
   "outputs": [
    {
     "name": "stdout",
     "output_type": "stream",
     "text": [
      "rm: cannot remove '/tmp/libtpu_lockfile': No such file or directory\n"
     ]
    }
   ],
   "source": [
    "%load_ext autoreload\n",
    "%autoreload 2\n",
    "!sudo rm /tmp/libtpu_lockfile\n",
    "import penzai\n",
    "from penzai import pz\n",
    "import jax.numpy as jnp\n",
    "import jax_smi\n",
    "import jax\n",
    "jax_smi.initialise_tracking()\n",
    "pz.ts.register_as_default()\n",
    "pz.ts.register_autovisualize_magic()\n",
    "pz.enable_interactive_context()"
   ]
  },
  {
   "cell_type": "code",
   "execution_count": 2,
   "metadata": {},
   "outputs": [],
   "source": [
    "from micrlhf.llama import LlamaTransformer\n",
    "from micrlhf.scan import sequential_to_scan\n",
    "from micrlhf.flash import flashify\n",
    "\n",
    "import gc\n",
    "llama = LlamaTransformer.from_pretrained((\"models/llama-3-70b-1.gguf\", \"models/llama-3-70b-2.gguf\"),\n",
    "                                         device_map=\"auto:mp=4\", load_on_cpu=True)\n",
    "llama = sequential_to_scan(llama)\n",
    "# llama = flashify(llama)"
   ]
  },
  {
   "cell_type": "code",
   "execution_count": 4,
   "metadata": {},
   "outputs": [],
   "source": [
    "llama = llama.to_tpu()"
   ]
  },
  {
   "cell_type": "code",
   "execution_count": 5,
   "metadata": {},
   "outputs": [],
   "source": [
    "import gc\n",
    "gc.collect();"
   ]
  },
  {
   "cell_type": "code",
   "execution_count": 24,
   "metadata": {},
   "outputs": [
    {
     "name": "stderr",
     "output_type": "stream",
     "text": [
      "/home/neverix/.cache/pypoetry/virtualenvs/micrlhf-progress-a058ydGG-py3.12/lib/python3.12/site-packages/huggingface_hub/file_download.py:1132: FutureWarning: `resume_download` is deprecated and will be removed in version 1.0.0. Downloads always resume when possible. If you want to force a new download, use `force_download=True`.\n",
      "  warnings.warn(\n",
      "Special tokens have been added in the vocabulary, make sure the associated word embeddings are fine-tuned or trained.\n"
     ]
    }
   ],
   "source": [
    "from transformers import AutoTokenizer\n",
    "tokenizer = AutoTokenizer.from_pretrained(\"nvidia/Llama3-ChatQA-1.5-70B\")\n",
    "prompt = tokenizer.apply_chat_template([\n",
    "    {\"role\": \"system\", \"content\": \"You are a pirate chatbot who always responds in pirate speak!\"},\n",
    "    {\"role\": \"user\", \"content\": \"Who are you?\"},\n",
    "] * 8, tokenize=False)"
   ]
  },
  {
   "cell_type": "code",
   "execution_count": 25,
   "metadata": {},
   "outputs": [],
   "source": [
    "from penzai.toolshed import jit_wrapper\n",
    "from micrlhf.flash import flashify\n",
    "tokens = pz.nx.wrap([(tokenizer.encode(prompt))[:256]] * 4, \"batch\", \"seq\")\n",
    "inputs = llama.inputs.from_basic_segments(tokens)\n",
    "llama_jitted = jit_wrapper.Jitted(llama)"
   ]
  },
  {
   "cell_type": "code",
   "execution_count": 30,
   "metadata": {},
   "outputs": [
    {
     "data": {
      "text/html": [
       "<div id=\"output_da0c76aa4a08454693c56286aac36f10\"><script> /* penzai.treescope rendering of a Python object (compressed) */ (()=>{ let observer; let lastStep = new Promise((resolve, reject) => { observer = new IntersectionObserver((entries) => { for (const entry of entries) { if (entry.isIntersecting) { resolve(); observer.disconnect(); return; } } }, {rootMargin: \"1000px\"}); }); window.treescope_decompress_enqueue = (encoded, destId) => { const previous = lastStep; const destElt = document.getElementById(destId); lastStep = (async () => { await previous; let blob = new Blob([ Uint8Array.from(atob(encoded), (m) => m.codePointAt(0)) ]); let reader = blob.stream().pipeThrough( new DecompressionStream(\"deflate\") ).pipeThrough( new TextDecoderStream(\"utf-8\") ).getReader(); let parts = []; while (true) { let step = await reader.read(); if (step.done) { break; } parts.push(step.value); } let newElt = document.createElement(\"div\"); newElt.innerHTML = parts.join(\"\"); destElt.parentNode.replaceChild(newElt, destElt); for (let oldScript of newElt.querySelectorAll(\"script\")) { let newScript = document.createElement(\"script\"); newScript.type = oldScript.type; newScript.textContent = oldScript.textContent; oldScript.parentNode.replaceChild(newScript, oldScript); } })(); requestAnimationFrame(() => { observer.observe(destElt); }); } })(); </script><div id=\"compress_html_9d560faa50c341b4bd3c9197b16fde1e\"><script>window.treescope_decompress_enqueue(\"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\", \"compress_html_9d560faa50c341b4bd3c9197b16fde1e\");</script><span style=\"color: #aaaaaa; font-family: monospace\">(Loading...)</span></div></div>"
      ],
      "text/plain": [
       "<IPython.core.display.HTML object>"
      ]
     },
     "metadata": {},
     "output_type": "display_data"
    },
    {
     "data": {
      "text/html": [
       "<div id=\"compress_html_a8e4d4d96b164038ace6c7c1d1561972\"><script>window.treescope_decompress_enqueue(\"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\", \"compress_html_a8e4d4d96b164038ace6c7c1d1561972\");</script></div>"
      ],
      "text/plain": [
       "<IPython.core.display.HTML object>"
      ]
     },
     "metadata": {},
     "output_type": "display_data"
    },
    {
     "data": {
      "text/html": [
       "<div id=\"output_dest_da0c76aa4a08454693c56286aac36f10\"><script> (()=>{ const output = document.getElementById(\"output_da0c76aa4a08454693c56286aac36f10\"); const dest = document.getElementById(\"output_dest_da0c76aa4a08454693c56286aac36f10\"); dest.parentNode.replaceChild(output, dest); })(); </script></div>"
      ],
      "text/plain": [
       "<NamedArray bfloat16(| batch:4) ≈1.3 ±0.0 [≥1.3, ≤1.3] nonzero:4 (wrapping jax.Array)>"
      ]
     },
     "execution_count": 30,
     "metadata": {},
     "output_type": "execute_result"
    }
   ],
   "source": [
    "logits = llama_jitted(inputs)\n",
    "loss = -pz.nx.nmap(lambda l, t: jnp.take_along_axis(jax.nn.log_softmax(l[:-1], -1), t[1:, None], 1).mean())(logits.untag(\"seq\", \"vocabulary\"), tokens.untag(\"seq\"))\n",
    "loss"
   ]
  },
  {
   "cell_type": "code",
   "execution_count": 9,
   "metadata": {},
   "outputs": [
    {
     "ename": "ValueError",
     "evalue": "List arity mismatch: 9 != 0; list: [<NamedArray bfloat16(| layer:80, embedding:8192) ≈0.17 ±0.065 [≥-0.12, ≤0.74] nonzero:655_360 (wrapping jax.Array)>, <NamedArray float16(| layer:80, in_features:256, quant_group:1, mp:8192) ≈0.0 ±0.00049 [≥5.5e-06, ≤0.57] nonzero:167_772_160 (wrapping jax.Array)>, <NamedArray int8(| layer:80, in_features:256, quant_group:32, mp:8192) (wrapping jax.Array)>, <NamedArray float16(| layer:80, in_features:256, quant_group:1, mp:1024) ≈0.0 ±0.00091 [≥1.6e-05, ≤0.67] nonzero:20_971_520 (wrapping jax.Array)>, <NamedArray int8(| layer:80, in_features:256, quant_group:32, mp:1024) [≥-127, ≤127] zero:6_542_883 nonzero:664_545_757 (wrapping jax.Array)>, <NamedArray float16(| layer:80, in_features:256, quant_group:1, mp:1024) ≈0.0 ±0.002 [≥3.6e-05, ≤0.73] nonzero:20_971_520 (wrapping jax.Array)>, <NamedArray int8(| layer:80, in_features:256, quant_group:32, mp:1024) [≥-127, ≤127] zero:6_202_638 nonzero:664_886_002 (wrapping jax.Array)>, <NamedArray float16(| layer:80, mp:256, quant_group:1, out_features:8192) ≈0.0 ±0.0 [≥2.7e-05, ≤0.013] nonzero:167_772_160 (wrapping jax.Array)>, <NamedArray int8(| layer:80, mp:256, quant_group:32, out_features:8192) (wrapping jax.Array)>].",
     "output_type": "error",
     "traceback": [
      "\u001b[0;31m---------------------------------------------------------------------------\u001b[0m",
      "\u001b[0;31mValueError\u001b[0m                                Traceback (most recent call last)",
      "Cell \u001b[0;32mIn[9], line 2\u001b[0m\n\u001b[1;32m      1\u001b[0m \u001b[38;5;28;01mfrom\u001b[39;00m \u001b[38;5;21;01mmicrlhf\u001b[39;00m\u001b[38;5;21;01m.\u001b[39;00m\u001b[38;5;21;01msampling\u001b[39;00m \u001b[38;5;28;01mimport\u001b[39;00m sample\n\u001b[0;32m----> 2\u001b[0m \u001b[43msample\u001b[49m\u001b[43m(\u001b[49m\u001b[43mllama\u001b[49m\u001b[43m,\u001b[49m\u001b[43m \u001b[49m\u001b[43mtokenizer\u001b[49m\u001b[43m,\u001b[49m\u001b[43m \u001b[49m\u001b[43mprompt\u001b[49m\u001b[43m,\u001b[49m\u001b[43m \u001b[49m\u001b[43mbatch_size\u001b[49m\u001b[38;5;241;43m=\u001b[39;49m\u001b[38;5;241;43m1\u001b[39;49m\u001b[43m,\u001b[49m\u001b[43m \u001b[49m\u001b[43mmax_seq_len\u001b[49m\u001b[38;5;241;43m=\u001b[39;49m\u001b[38;5;241;43m128\u001b[39;49m\u001b[43m,\u001b[49m\u001b[43m \u001b[49m\u001b[43mdo_sample\u001b[49m\u001b[38;5;241;43m=\u001b[39;49m\u001b[38;5;28;43;01mTrue\u001b[39;49;00m\u001b[43m,\u001b[49m\n\u001b[1;32m      3\u001b[0m \u001b[43m       \u001b[49m\u001b[43mfold\u001b[49m\u001b[38;5;241;43m=\u001b[39;49m\u001b[38;5;28;43;01mTrue\u001b[39;49;00m\u001b[43m,\u001b[49m\n\u001b[1;32m      4\u001b[0m \u001b[43m       \u001b[49m\u001b[43m)\u001b[49m\n",
      "File \u001b[0;32m~/micrlhf-progress/micrlhf/sampling.py:95\u001b[0m, in \u001b[0;36msample\u001b[0;34m(llama, tokenizer, prompt, batch_size, max_seq_len, pad_token_id, do_sample, return_model, strip_padding, return_only_completion, seed, verbose, fold, use_jit, cache_kwargs)\u001b[0m\n\u001b[1;32m     93\u001b[0m     llama_cached, cache \u001b[38;5;241m=\u001b[39m llama\n\u001b[1;32m     94\u001b[0m \u001b[38;5;28;01melse\u001b[39;00m:\n\u001b[0;32m---> 95\u001b[0m     llama_cached, cache \u001b[38;5;241m=\u001b[39m \u001b[43m(\u001b[49m\u001b[43mFoldedLlamaKVCachingTransformer\u001b[49m\u001b[43m \u001b[49m\u001b[38;5;28;43;01mif\u001b[39;49;00m\u001b[43m \u001b[49m\u001b[43mfold\u001b[49m\u001b[43m \u001b[49m\u001b[38;5;28;43;01melse\u001b[39;49;00m\u001b[43m \u001b[49m\u001b[43mLlamaKVCachingTransformer\u001b[49m\u001b[43m)\u001b[49m\u001b[38;5;241;43m.\u001b[39;49m\u001b[43mfrom_uncached\u001b[49m\u001b[43m(\u001b[49m\u001b[43mllama\u001b[49m\u001b[43m,\u001b[49m\n\u001b[1;32m     96\u001b[0m \u001b[43m                                                                  \u001b[49m\u001b[43mmax_seq_len\u001b[49m\u001b[43m,\u001b[49m\n\u001b[1;32m     97\u001b[0m \u001b[43m                                                                  \u001b[49m\u001b[43m{\u001b[49m\u001b[38;5;124;43m\"\u001b[39;49m\u001b[38;5;124;43mbatch\u001b[39;49m\u001b[38;5;124;43m\"\u001b[39;49m\u001b[43m:\u001b[49m\u001b[43m \u001b[49m\u001b[43mbatch_size\u001b[49m\u001b[43m}\u001b[49m\u001b[43m,\u001b[49m\n\u001b[1;32m     98\u001b[0m \u001b[43m                                                                  \u001b[49m\u001b[38;5;241;43m*\u001b[39;49m\u001b[38;5;241;43m*\u001b[39;49m\u001b[43m(\u001b[49m\u001b[43mcache_kwargs\u001b[49m\u001b[43m \u001b[49m\u001b[38;5;28;43;01mif\u001b[39;49;00m\u001b[43m \u001b[49m\u001b[43mcache_kwargs\u001b[49m\u001b[43m \u001b[49m\u001b[38;5;28;43;01melse\u001b[39;49;00m\u001b[43m \u001b[49m\u001b[43m{\u001b[49m\u001b[43m}\u001b[49m\u001b[43m)\u001b[49m\u001b[43m)\u001b[49m\n\u001b[1;32m     99\u001b[0m \u001b[38;5;28;01mif\u001b[39;00m return_model:\n\u001b[1;32m    100\u001b[0m     llama_base \u001b[38;5;241m=\u001b[39m llama_cached\n",
      "File \u001b[0;32m~/micrlhf-progress/micrlhf/caching_llama.py:240\u001b[0m, in \u001b[0;36mFoldedLlamaKVCachingTransformer.from_uncached\u001b[0;34m(cls, uncached, cache_len, batch_axes, fold_kwargs)\u001b[0m\n\u001b[1;32m    238\u001b[0m     fold_kwargs \u001b[38;5;241m=\u001b[39m \u001b[38;5;28mdict\u001b[39m()\n\u001b[1;32m    239\u001b[0m fold_kwargs \u001b[38;5;241m=\u001b[39m {\u001b[38;5;124m\"\u001b[39m\u001b[38;5;124mreturn_aux\u001b[39m\u001b[38;5;124m\"\u001b[39m: \u001b[38;5;28;01mTrue\u001b[39;00m, \u001b[38;5;241m*\u001b[39m\u001b[38;5;241m*\u001b[39mfold_kwargs}\n\u001b[0;32m--> 240\u001b[0m uncached, aux \u001b[38;5;241m=\u001b[39m \u001b[43msequential_to_scan\u001b[49m\u001b[43m(\u001b[49m\u001b[43muncached\u001b[49m\u001b[43m,\u001b[49m\u001b[43m \u001b[49m\u001b[38;5;241;43m*\u001b[39;49m\u001b[38;5;241;43m*\u001b[39;49m\u001b[43mfold_kwargs\u001b[49m\u001b[43m)\u001b[49m\n\u001b[1;32m    241\u001b[0m n_layers \u001b[38;5;241m=\u001b[39m aux[\u001b[38;5;124m\"\u001b[39m\u001b[38;5;124mn_layers\u001b[39m\u001b[38;5;124m\"\u001b[39m]\n\u001b[1;32m    242\u001b[0m cached_axes \u001b[38;5;241m=\u001b[39m {\n\u001b[1;32m    243\u001b[0m         \u001b[38;5;241m*\u001b[39m\u001b[38;5;241m*\u001b[39mbatch_axes,\n\u001b[1;32m    244\u001b[0m         \u001b[38;5;124m\"\u001b[39m\u001b[38;5;124mprojection\u001b[39m\u001b[38;5;124m\"\u001b[39m: uncached\u001b[38;5;241m.\u001b[39mconfig\u001b[38;5;241m.\u001b[39mprojection_dim,\n\u001b[1;32m    245\u001b[0m         \u001b[38;5;124m\"\u001b[39m\u001b[38;5;124mlayer\u001b[39m\u001b[38;5;124m\"\u001b[39m: n_layers,\n\u001b[1;32m    246\u001b[0m }\n",
      "File \u001b[0;32m~/micrlhf-progress/micrlhf/scan.py:80\u001b[0m, in \u001b[0;36msequential_to_scan\u001b[0;34m(model, sequential_n, return_aux, save_to_cpu)\u001b[0m\n\u001b[1;32m     77\u001b[0m     aux[\u001b[38;5;124m\"\u001b[39m\u001b[38;5;124mn_layers\u001b[39m\u001b[38;5;124m\"\u001b[39m] \u001b[38;5;241m=\u001b[39m \u001b[38;5;28mlen\u001b[39m(layers)\n\u001b[1;32m     78\u001b[0m     \u001b[38;5;28;01mreturn\u001b[39;00m folded\n\u001b[0;32m---> 80\u001b[0m result \u001b[38;5;241m=\u001b[39m \u001b[43mpick_sequential\u001b[49m\u001b[43m(\u001b[49m\u001b[43mmodel\u001b[49m\u001b[38;5;241;43m.\u001b[39;49m\u001b[43mselect\u001b[49m\u001b[43m(\u001b[49m\u001b[43m)\u001b[49m\u001b[43m,\u001b[49m\u001b[43m \u001b[49m\u001b[43msequential_n\u001b[49m\u001b[43m)\u001b[49m\u001b[38;5;241;43m.\u001b[39;49m\u001b[43mapply\u001b[49m\u001b[43m(\u001b[49m\u001b[43mfn\u001b[49m\u001b[43m)\u001b[49m\n\u001b[1;32m     81\u001b[0m \u001b[38;5;28;01mif\u001b[39;00m return_aux:\n\u001b[1;32m     82\u001b[0m     \u001b[38;5;28;01mreturn\u001b[39;00m result, aux\n",
      "File \u001b[0;32m~/.cache/pypoetry/virtualenvs/micrlhf-progress-a058ydGG-py3.12/lib/python3.12/site-packages/penzai/core/selectors.py:322\u001b[0m, in \u001b[0;36mSelection.apply\u001b[0;34m(self, fn, with_keypath, keep_selected)\u001b[0m\n\u001b[1;32m    317\u001b[0m   new_values \u001b[38;5;241m=\u001b[39m collections\u001b[38;5;241m.\u001b[39mOrderedDict(\n\u001b[1;32m    318\u001b[0m       [(k, fn(k, v)) \u001b[38;5;28;01mfor\u001b[39;00m k, v \u001b[38;5;129;01min\u001b[39;00m \u001b[38;5;28mself\u001b[39m\u001b[38;5;241m.\u001b[39mselected_by_path\u001b[38;5;241m.\u001b[39mitems()]\n\u001b[1;32m    319\u001b[0m   )\n\u001b[1;32m    320\u001b[0m \u001b[38;5;28;01melse\u001b[39;00m:\n\u001b[1;32m    321\u001b[0m   new_values \u001b[38;5;241m=\u001b[39m collections\u001b[38;5;241m.\u001b[39mOrderedDict(\n\u001b[0;32m--> 322\u001b[0m       [(k, \u001b[43mfn\u001b[49m\u001b[43m(\u001b[49m\u001b[43mv\u001b[49m\u001b[43m)\u001b[49m) \u001b[38;5;28;01mfor\u001b[39;00m k, v \u001b[38;5;129;01min\u001b[39;00m \u001b[38;5;28mself\u001b[39m\u001b[38;5;241m.\u001b[39mselected_by_path\u001b[38;5;241m.\u001b[39mitems()]\n\u001b[1;32m    323\u001b[0m   )\n\u001b[1;32m    324\u001b[0m new_selection \u001b[38;5;241m=\u001b[39m Selection(\n\u001b[1;32m    325\u001b[0m     selected_by_path\u001b[38;5;241m=\u001b[39mnew_values, remainder\u001b[38;5;241m=\u001b[39m\u001b[38;5;28mself\u001b[39m\u001b[38;5;241m.\u001b[39mremainder\n\u001b[1;32m    326\u001b[0m )\n\u001b[1;32m    327\u001b[0m \u001b[38;5;28;01mif\u001b[39;00m keep_selected:\n",
      "File \u001b[0;32m~/micrlhf-progress/micrlhf/scan.py:68\u001b[0m, in \u001b[0;36msequential_to_scan.<locals>.fn\u001b[0;34m(seq)\u001b[0m\n\u001b[1;32m     63\u001b[0m     w \u001b[38;5;241m=\u001b[39m jax\u001b[38;5;241m.\u001b[39mtree\u001b[38;5;241m.\u001b[39mmap(\u001b[38;5;28;01mlambda\u001b[39;00m \u001b[38;5;241m*\u001b[39mws: pz\u001b[38;5;241m.\u001b[39mnx\u001b[38;5;241m.\u001b[39mNamedArray(\n\u001b[1;32m     64\u001b[0m         data_array\u001b[38;5;241m=\u001b[39mnp\u001b[38;5;241m.\u001b[39marray([w\u001b[38;5;241m.\u001b[39mdata_array \u001b[38;5;28;01mfor\u001b[39;00m w \u001b[38;5;129;01min\u001b[39;00m ws]),\n\u001b[1;32m     65\u001b[0m         named_axes\u001b[38;5;241m=\u001b[39mOrderedDict([(\u001b[38;5;124m\"\u001b[39m\u001b[38;5;124mlayer\u001b[39m\u001b[38;5;124m\"\u001b[39m, \u001b[38;5;28mlen\u001b[39m(ws))] \u001b[38;5;241m+\u001b[39m \u001b[38;5;28mlist\u001b[39m(ws[\u001b[38;5;241m0\u001b[39m]\u001b[38;5;241m.\u001b[39mnamed_axes\u001b[38;5;241m.\u001b[39mitems()))\n\u001b[1;32m     66\u001b[0m     ), \u001b[38;5;241m*\u001b[39mws, is_leaf\u001b[38;5;241m=\u001b[39mis_nx)\n\u001b[1;32m     67\u001b[0m \u001b[38;5;28;01melse\u001b[39;00m:\n\u001b[0;32m---> 68\u001b[0m     w \u001b[38;5;241m=\u001b[39m \u001b[43mjax\u001b[49m\u001b[38;5;241;43m.\u001b[39;49m\u001b[43mtree\u001b[49m\u001b[38;5;241;43m.\u001b[39;49m\u001b[43mmap\u001b[49m\u001b[43m(\u001b[49m\u001b[43mjax\u001b[49m\u001b[38;5;241;43m.\u001b[39;49m\u001b[43mjit\u001b[49m\u001b[43m(\u001b[49m\u001b[38;5;28;43;01mlambda\u001b[39;49;00m\u001b[43m \u001b[49m\u001b[38;5;241;43m*\u001b[39;49m\u001b[43mws\u001b[49m\u001b[43m:\u001b[49m\u001b[43m \u001b[49m\u001b[43mpz\u001b[49m\u001b[38;5;241;43m.\u001b[39;49m\u001b[43mnx\u001b[49m\u001b[38;5;241;43m.\u001b[39;49m\u001b[43mstack\u001b[49m\u001b[43m(\u001b[49m\u001b[43mws\u001b[49m\u001b[43m,\u001b[49m\u001b[43m \u001b[49m\u001b[38;5;124;43m\"\u001b[39;49m\u001b[38;5;124;43mlayer\u001b[39;49m\u001b[38;5;124;43m\"\u001b[39;49m\u001b[43m)\u001b[49m\u001b[38;5;241;43m.\u001b[39;49m\u001b[43muntag\u001b[49m\u001b[43m(\u001b[49m\u001b[38;5;124;43m\"\u001b[39;49m\u001b[38;5;124;43mlayer\u001b[39;49m\u001b[38;5;124;43m\"\u001b[39;49m\u001b[43m)\u001b[49m\u001b[38;5;241;43m.\u001b[39;49m\u001b[43mwith_positional_prefix\u001b[49m\u001b[43m(\u001b[49m\u001b[43m)\u001b[49m\u001b[38;5;241;43m.\u001b[39;49m\u001b[43mtag\u001b[49m\u001b[43m(\u001b[49m\u001b[38;5;124;43m\"\u001b[39;49m\u001b[38;5;124;43mlayer\u001b[39;49m\u001b[38;5;124;43m\"\u001b[39;49m\u001b[43m)\u001b[49m\u001b[43m)\u001b[49m\u001b[43m,\u001b[49m\u001b[43m \u001b[49m\u001b[38;5;241;43m*\u001b[39;49m\u001b[43mws\u001b[49m\u001b[43m,\u001b[49m\u001b[43m \u001b[49m\u001b[43mis_leaf\u001b[49m\u001b[38;5;241;43m=\u001b[39;49m\u001b[43mis_nx\u001b[49m\u001b[43m)\u001b[49m\n\u001b[1;32m     69\u001b[0m \u001b[38;5;66;03m# w = jax.tree.map(jax.jit(lambda *ws: SimpleNamespace(\u001b[39;00m\n\u001b[1;32m     70\u001b[0m \u001b[38;5;66;03m#     untag=lambda t: np.array(ws)),\u001b[39;00m\n\u001b[1;32m     71\u001b[0m \u001b[38;5;66;03m#     donate_argnums=list(range(len(ws)))), *ws, is_leaf=is_nx)\u001b[39;00m\n\u001b[1;32m     73\u001b[0m weight \u001b[38;5;241m=\u001b[39m jax\u001b[38;5;241m.\u001b[39mtree_util\u001b[38;5;241m.\u001b[39mtree_unflatten(tds[\u001b[38;5;241m0\u001b[39m], w)\n",
      "File \u001b[0;32m~/.cache/pypoetry/virtualenvs/micrlhf-progress-a058ydGG-py3.12/lib/python3.12/site-packages/jax/_src/tree.py:61\u001b[0m, in \u001b[0;36mmap\u001b[0;34m(f, tree, is_leaf, *rest)\u001b[0m\n\u001b[1;32m     55\u001b[0m \u001b[38;5;129m@_add_doc\u001b[39m(\u001b[38;5;124m\"\u001b[39m\u001b[38;5;124mAlias of :func:`jax.tree_util.tree_map`.\u001b[39m\u001b[38;5;124m\"\u001b[39m)\n\u001b[1;32m     56\u001b[0m \u001b[38;5;129m@functools\u001b[39m\u001b[38;5;241m.\u001b[39mwraps(tree_util\u001b[38;5;241m.\u001b[39mtree_map)\n\u001b[1;32m     57\u001b[0m \u001b[38;5;28;01mdef\u001b[39;00m \u001b[38;5;21mmap\u001b[39m(f: Callable[\u001b[38;5;241m.\u001b[39m\u001b[38;5;241m.\u001b[39m\u001b[38;5;241m.\u001b[39m, Any],\n\u001b[1;32m     58\u001b[0m         tree: Any,\n\u001b[1;32m     59\u001b[0m         \u001b[38;5;241m*\u001b[39mrest: Any,\n\u001b[1;32m     60\u001b[0m         is_leaf: Callable[[Any], \u001b[38;5;28mbool\u001b[39m] \u001b[38;5;241m|\u001b[39m \u001b[38;5;28;01mNone\u001b[39;00m \u001b[38;5;241m=\u001b[39m \u001b[38;5;28;01mNone\u001b[39;00m) \u001b[38;5;241m-\u001b[39m\u001b[38;5;241m>\u001b[39m Any:\n\u001b[0;32m---> 61\u001b[0m   \u001b[38;5;28;01mreturn\u001b[39;00m \u001b[43mtree_util\u001b[49m\u001b[38;5;241;43m.\u001b[39;49m\u001b[43mtree_map\u001b[49m\u001b[43m(\u001b[49m\u001b[43mf\u001b[49m\u001b[43m,\u001b[49m\u001b[43m \u001b[49m\u001b[43mtree\u001b[49m\u001b[43m,\u001b[49m\u001b[43m \u001b[49m\u001b[38;5;241;43m*\u001b[39;49m\u001b[43mrest\u001b[49m\u001b[43m,\u001b[49m\u001b[43m \u001b[49m\u001b[43mis_leaf\u001b[49m\u001b[38;5;241;43m=\u001b[39;49m\u001b[43mis_leaf\u001b[49m\u001b[43m)\u001b[49m\n",
      "File \u001b[0;32m~/.cache/pypoetry/virtualenvs/micrlhf-progress-a058ydGG-py3.12/lib/python3.12/site-packages/jax/_src/tree_util.py:319\u001b[0m, in \u001b[0;36mtree_map\u001b[0;34m(f, tree, is_leaf, *rest)\u001b[0m\n\u001b[1;32m    282\u001b[0m \u001b[38;5;250m\u001b[39m\u001b[38;5;124;03m\"\"\"Maps a multi-input function over pytree args to produce a new pytree.\u001b[39;00m\n\u001b[1;32m    283\u001b[0m \n\u001b[1;32m    284\u001b[0m \u001b[38;5;124;03mArgs:\u001b[39;00m\n\u001b[0;32m   (...)\u001b[0m\n\u001b[1;32m    316\u001b[0m \u001b[38;5;124;03m  - :func:`jax.tree.reduce`\u001b[39;00m\n\u001b[1;32m    317\u001b[0m \u001b[38;5;124;03m\"\"\"\u001b[39;00m\n\u001b[1;32m    318\u001b[0m leaves, treedef \u001b[38;5;241m=\u001b[39m tree_flatten(tree, is_leaf)\n\u001b[0;32m--> 319\u001b[0m all_leaves \u001b[38;5;241m=\u001b[39m [leaves] \u001b[38;5;241m+\u001b[39m [\u001b[43mtreedef\u001b[49m\u001b[38;5;241;43m.\u001b[39;49m\u001b[43mflatten_up_to\u001b[49m\u001b[43m(\u001b[49m\u001b[43mr\u001b[49m\u001b[43m)\u001b[49m \u001b[38;5;28;01mfor\u001b[39;00m r \u001b[38;5;129;01min\u001b[39;00m rest]\n\u001b[1;32m    320\u001b[0m \u001b[38;5;28;01mreturn\u001b[39;00m treedef\u001b[38;5;241m.\u001b[39munflatten(f(\u001b[38;5;241m*\u001b[39mxs) \u001b[38;5;28;01mfor\u001b[39;00m xs \u001b[38;5;129;01min\u001b[39;00m \u001b[38;5;28mzip\u001b[39m(\u001b[38;5;241m*\u001b[39mall_leaves))\n",
      "\u001b[0;31mValueError\u001b[0m: List arity mismatch: 9 != 0; list: [<NamedArray bfloat16(| layer:80, embedding:8192) ≈0.17 ±0.065 [≥-0.12, ≤0.74] nonzero:655_360 (wrapping jax.Array)>, <NamedArray float16(| layer:80, in_features:256, quant_group:1, mp:8192) ≈0.0 ±0.00049 [≥5.5e-06, ≤0.57] nonzero:167_772_160 (wrapping jax.Array)>, <NamedArray int8(| layer:80, in_features:256, quant_group:32, mp:8192) (wrapping jax.Array)>, <NamedArray float16(| layer:80, in_features:256, quant_group:1, mp:1024) ≈0.0 ±0.00091 [≥1.6e-05, ≤0.67] nonzero:20_971_520 (wrapping jax.Array)>, <NamedArray int8(| layer:80, in_features:256, quant_group:32, mp:1024) [≥-127, ≤127] zero:6_542_883 nonzero:664_545_757 (wrapping jax.Array)>, <NamedArray float16(| layer:80, in_features:256, quant_group:1, mp:1024) ≈0.0 ±0.002 [≥3.6e-05, ≤0.73] nonzero:20_971_520 (wrapping jax.Array)>, <NamedArray int8(| layer:80, in_features:256, quant_group:32, mp:1024) [≥-127, ≤127] zero:6_202_638 nonzero:664_886_002 (wrapping jax.Array)>, <NamedArray float16(| layer:80, mp:256, quant_group:1, out_features:8192) ≈0.0 ±0.0 [≥2.7e-05, ≤0.013] nonzero:167_772_160 (wrapping jax.Array)>, <NamedArray int8(| layer:80, mp:256, quant_group:32, out_features:8192) (wrapping jax.Array)>]."
     ]
    }
   ],
   "source": [
    "from micrlhf.sampling import sample\n",
    "sample(llama, tokenizer, prompt, batch_size=1, max_seq_len=128, do_sample=True,\n",
    "       fold=True,\n",
    "       )"
   ]
  },
  {
   "cell_type": "code",
   "execution_count": null,
   "metadata": {},
   "outputs": [],
   "source": []
  }
 ],
 "metadata": {
  "kernelspec": {
   "display_name": "micrlhf-progress-a058ydGG-py3.12",
   "language": "python",
   "name": "python3"
  },
  "language_info": {
   "codemirror_mode": {
    "name": "ipython",
    "version": 3
   },
   "file_extension": ".py",
   "mimetype": "text/x-python",
   "name": "python",
   "nbconvert_exporter": "python",
   "pygments_lexer": "ipython3",
   "version": "3.12.3"
  }
 },
 "nbformat": 4,
 "nbformat_minor": 2
}
