{
 "cells": [
  {
   "cell_type": "code",
   "execution_count": 1,
   "metadata": {},
   "outputs": [],
   "source": [
    "%load_ext autoreload\n",
    "%autoreload 2\n",
    "import penzai\n",
    "from penzai import pz\n",
    "pz.ts.register_as_default()\n",
    "pz.ts.register_autovisualize_magic()\n",
    "pz.enable_interactive_context()"
   ]
  },
  {
   "cell_type": "code",
   "execution_count": 2,
   "metadata": {},
   "outputs": [],
   "source": [
    "import random\n",
    "import jax\n",
    "import optax\n",
    "\n",
    "import jax.numpy as jnp\n",
    "import numpy as np\n",
    "\n",
    "from matplotlib import pyplot as plt\n",
    "from tqdm.auto import tqdm, trange\n",
    "from penzai.data_effects.side_output import SideOutputValue\n",
    "from micrlhf.utils.activation_manipulation import add_vector"
   ]
  },
  {
   "cell_type": "code",
   "execution_count": 3,
   "metadata": {},
   "outputs": [],
   "source": [
    "filename = \"models/phi-3-16.gguf\"\n",
    "from micrlhf.llama import LlamaTransformer\n",
    "llama = LlamaTransformer.from_pretrained(filename, device_map=\"tpu:0\")"
   ]
  },
  {
   "cell_type": "code",
   "execution_count": 4,
   "metadata": {},
   "outputs": [
    {
     "name": "stderr",
     "output_type": "stream",
     "text": [
      "/home/dmitrii/.cache/pypoetry/virtualenvs/micrlhf-progress-_SD4q1c9-py3.12/lib/python3.12/site-packages/huggingface_hub/file_download.py:1132: FutureWarning: `resume_download` is deprecated and will be removed in version 1.0.0. Downloads always resume when possible. If you want to force a new download, use `force_download=True`.\n",
      "  warnings.warn(\n",
      "Special tokens have been added in the vocabulary, make sure the associated word embeddings are fine-tuned or trained.\n"
     ]
    }
   ],
   "source": [
    "from transformers import AutoTokenizer\n",
    "tokenizer = AutoTokenizer.from_pretrained(\"microsoft/Phi-3-mini-4k-instruct\")\n",
    "tokenizer.pad_token = tokenizer.eos_token\n",
    "tokenizer.padding_side = \"left\""
   ]
  },
  {
   "cell_type": "code",
   "execution_count": 5,
   "metadata": {},
   "outputs": [
    {
     "name": "stderr",
     "output_type": "stream",
     "text": [
      "/home/dmitrii/.pyenv/versions/3.12.3/lib/python3.12/pty.py:95: RuntimeWarning: os.fork() was called. os.fork() is incompatible with multithreaded code, and JAX is multithreaded, so this will likely lead to a deadlock.\n",
      "  pid, fd = os.forkpty()\n"
     ]
    },
    {
     "name": "stdout",
     "output_type": "stream",
     "text": [
      "fatal: destination path 'data/itv' already exists and is not an empty directory.\n"
     ]
    }
   ],
   "source": [
    "!git clone https://github.com/roeehendel/icl_task_vectors data/itv\n",
    "import glob\n",
    "import json\n",
    "import os\n",
    "tasks = {}\n",
    "for g in glob.glob(\"data/itv/data/**/*.json\"):\n",
    "    tasks[os.path.basename(g).partition(\".\")[0]] = json.load(open(g))"
   ]
  },
  {
   "cell_type": "code",
   "execution_count": 6,
   "metadata": {},
   "outputs": [],
   "source": [
    "from micrlhf.llama import LlamaBlock\n",
    "from micrlhf.sampling import sample, jit_wrapper\n",
    "get_resids = llama.select().at_instances_of(LlamaBlock).apply_with_selected_index(lambda i, x:\n",
    "    pz.nn.Sequential([\n",
    "        pz.de.TellIntermediate.from_config(tag=f\"resid_pre_{i}\"),\n",
    "        x\n",
    "    ])\n",
    ")\n",
    "get_resids = pz.de.CollectingSideOutputs.handling(get_resids, tag_predicate=lambda x: x.startswith(\"resid_pre\"))\n",
    "get_resids_call = jit_wrapper.Jitted(get_resids)"
   ]
  },
  {
   "cell_type": "code",
   "execution_count": 7,
   "metadata": {},
   "outputs": [
    {
     "name": "stdout",
     "output_type": "stream",
     "text": [
      "Tuple-representation of the sequence:\n",
      "(hot, cold), (yes, no), (in, out), up ->\n",
      "\n",
      "Actual prompt, which will be fed into the model:\n",
      "hot -> cold, yes -> no, in -> out, up ->\n"
     ]
    }
   ],
   "source": [
    "from typing import List\n",
    "\n",
    "class ICLSequence:\n",
    "    '''\n",
    "    Class to store a single antonym sequence.\n",
    "\n",
    "    Uses the default template \"Q: {x}\\nA: {y}\" (with separate pairs split by \"\\n\\n\").\n",
    "    '''\n",
    "    def __init__(self, word_pairs: List[List[str]]):\n",
    "        self.word_pairs = word_pairs\n",
    "        self.x, self.y = zip(*word_pairs)\n",
    "\n",
    "    def __len__(self):\n",
    "        return len(self.word_pairs)\n",
    "\n",
    "    def __getitem__(self, idx: int):\n",
    "        return self.word_pairs[idx]\n",
    "\n",
    "    # def prompt(self):\n",
    "    #     '''Returns the prompt, which contains all but the second element in the last word pair.'''\n",
    "    #     p = \"\\n\\n\".join([f\"Q: {x}\\nA: {y}\" for x, y in self.word_pairs])\n",
    "    #     return p[:-len(self.completion())]\n",
    "\n",
    "    def prompt(self):\n",
    "        '''Returns the prompt, which contains all but the second element in the last word pair.'''\n",
    "        p = \", \".join([f\"{x} -> {y}\" for x, y in self.word_pairs])\n",
    "        return p[:-len(self.completion())-1]\n",
    "\n",
    "    def completion(self):\n",
    "        '''Returns the second element in the last word pair (with padded space).'''\n",
    "        return \"\" + self.y[-1]\n",
    "\n",
    "    def __str__(self):\n",
    "        '''Prints a readable string representation of the prompt & completion (indep of template).'''\n",
    "        return f\"{', '.join([f'({x}, {y})' for x, y in self[:-1]])}, {self.x[-1]} ->\".strip(\", \")\n",
    "\n",
    "\n",
    "word_list = [[\"hot\", \"cold\"], [\"yes\", \"no\"], [\"in\", \"out\"], [\"up\", \"down\"]]\n",
    "seq = ICLSequence(word_list)\n",
    "\n",
    "print(\"Tuple-representation of the sequence:\")\n",
    "print(seq)\n",
    "print(\"\\nActual prompt, which will be fed into the model:\")\n",
    "print(seq.prompt())"
   ]
  },
  {
   "cell_type": "code",
   "execution_count": 8,
   "metadata": {},
   "outputs": [],
   "source": [
    "class ICLDataset:\n",
    "    '''\n",
    "    Dataset to create antonym pair prompts, in ICL task format. We use random seeds for consistency\n",
    "    between the corrupted and clean datasets.\n",
    "\n",
    "    Inputs:\n",
    "        word_pairs:\n",
    "            list of ICL task, e.g. [[\"old\", \"young\"], [\"top\", \"bottom\"], ...] for the antonym task\n",
    "        size:\n",
    "            number of prompts to generate\n",
    "        n_prepended:\n",
    "            number of antonym pairs before the single-word ICL task\n",
    "        bidirectional:\n",
    "            if True, then we also consider the reversed antonym pairs\n",
    "        corrupted:\n",
    "            if True, then the second word in each pair is replaced with a random word\n",
    "        seed:\n",
    "            random seed, for consistency & reproducibility\n",
    "    '''\n",
    "\n",
    "    def __init__(\n",
    "        self,\n",
    "        word_pairs: List[List[str]],\n",
    "        size: int,\n",
    "        n_prepended: int,\n",
    "        bidirectional: bool = True,\n",
    "        seed: int = 0,\n",
    "        corrupted: bool = False,\n",
    "    ):\n",
    "        assert n_prepended+1 <= len(word_pairs), \"Not enough antonym pairs in dataset to create prompt.\"\n",
    "\n",
    "        self.word_pairs = word_pairs\n",
    "        self.word_list = [word for word_pair in word_pairs for word in word_pair]\n",
    "        self.size = size\n",
    "        self.n_prepended = n_prepended\n",
    "        self.bidirectional = bidirectional\n",
    "        self.corrupted = corrupted\n",
    "        self.seed = seed\n",
    "\n",
    "        self.seqs = []\n",
    "        self.prompts = []\n",
    "        self.completions = []\n",
    "\n",
    "        # Generate the dataset (by choosing random antonym pairs, and constructing `ICLSequence` objects)\n",
    "        for n in range(size):\n",
    "            np.random.seed(seed + n)\n",
    "            random_pairs = np.random.choice(len(self.word_pairs), n_prepended+1, replace=False)\n",
    "            random_orders = np.random.choice([1, -1], n_prepended+1)\n",
    "            if not(bidirectional): random_orders[:] = 1\n",
    "            word_pairs = [self.word_pairs[pair][::order] for pair, order in zip(random_pairs, random_orders)]\n",
    "            if corrupted:\n",
    "                for i in range(len(word_pairs) - 1):\n",
    "                    word_pairs[i][1] = np.random.choice(self.word_list)\n",
    "            seq = ICLSequence(word_pairs)\n",
    "\n",
    "            self.seqs.append(seq)\n",
    "            self.prompts.append(seq.prompt())\n",
    "            self.completions.append(seq.completion())\n",
    "\n",
    "    def create_corrupted_dataset(self):\n",
    "        '''Creates a corrupted version of the dataset (with same random seed).'''\n",
    "        return ICLDataset(self.word_pairs, self.size, self.n_prepended, self.bidirectional, corrupted=True, seed=self.seed)\n",
    "\n",
    "    def __len__(self):\n",
    "        return self.size\n",
    "\n",
    "    def __getitem__(self, idx: int):\n",
    "        return self.seqs[idx]"
   ]
  },
  {
   "cell_type": "code",
   "execution_count": 9,
   "metadata": {},
   "outputs": [],
   "source": [
    "def tokenized_to_inputs(input_ids, attention_mask):\n",
    "    token_array = jnp.asarray(input_ids)\n",
    "    token_array = jax.device_put(token_array, jax.sharding.NamedSharding(llama.mesh, jax.sharding.PartitionSpec(\"dp\", \"sp\")))\n",
    "    token_array = pz.nx.wrap(token_array, \"batch\", \"seq\").untag(\"batch\").tag(\"batch\")\n",
    "\n",
    "    mask_array = jnp.asarray(attention_mask, dtype=jnp.bool)\n",
    "    mask_array = jax.device_put(mask_array, jax.sharding.NamedSharding(llama.mesh, jax.sharding.PartitionSpec(\"dp\", \"sp\")))\n",
    "    mask_array = pz.nx.wrap(mask_array, \"batch\", \"seq\").untag(\"batch\").tag(\"batch\")\n",
    "\n",
    "    inputs = llama.inputs.from_basic_segments(token_array)\n",
    "    return inputs"
   ]
  },
  {
   "cell_type": "code",
   "execution_count": 10,
   "metadata": {},
   "outputs": [],
   "source": [
    "prompt = \"<user>Follow the pattern\\n{}\"\n",
    "target_layer = 17"
   ]
  },
  {
   "cell_type": "code",
   "execution_count": 11,
   "metadata": {},
   "outputs": [],
   "source": [
    "task_names = [\n",
    "    \"en_es\"\n",
    "]\n",
    "task = \"en_es\"\n",
    "\n",
    "n_seeds = 10\n",
    "\n",
    "# n_few_shots, batch_size, max_seq_len = 64, 64, 512\n",
    "n_few_shots, batch_size, max_seq_len = 10, 32, 128"
   ]
  },
  {
   "cell_type": "code",
   "execution_count": 28,
   "metadata": {},
   "outputs": [],
   "source": [
    "seed = 0\n",
    "\n",
    "pairs = tasks[task]\n",
    "pairs = [list(x) for x in pairs.items()]\n",
    "dataset = ICLDataset(pairs, size=batch_size, n_prepended=n_few_shots, bidirectional=False, seed=seed)\n",
    "\n",
    "tokenized = tokenizer.batch_encode_plus([prompt.format(x) for x in dataset.prompts], padding=\"longest\", max_length=max_seq_len, truncation=True, return_tensors=\"np\")\n",
    "inputs = tokenized_to_inputs(\n",
    "    **tokenized\n",
    ")\n",
    "\n",
    "logits, resids = get_resids_call(inputs)\n",
    "\n",
    "tokens = tokenized[\"input_ids\"]\n",
    "\n",
    "mask = inputs.tokens == 1599\n",
    "mask = mask.unwrap(\"batch\", \"seq\")\n",
    "\n",
    "tv = resids[target_layer].value.unwrap(\"batch\", \"seq\", \"embedding\")[\n",
    "    mask\n",
    "]\n",
    "\n",
    "tv = tv.mean(\n",
    "    axis=0\n",
    ")\n"
   ]
  },
  {
   "cell_type": "code",
   "execution_count": 12,
   "metadata": {},
   "outputs": [
    {
     "name": "stderr",
     "output_type": "stream",
     "text": [
      "--2024-05-21 17:23:12--  https://huggingface.co/nev/phi-3-4k-saex-test/resolve/main/l17-test-run-6-4.52E-06/sae_weights.safetensors?download=true\n",
      "Resolving huggingface.co (huggingface.co)... 108.156.211.125, 108.156.211.51, 108.156.211.90, ...\n",
      "Connecting to huggingface.co (huggingface.co)|108.156.211.125|:443... connected.\n",
      "HTTP request sent, awaiting response... 302 Found\n",
      "Location: https://cdn-lfs-us-1.huggingface.co/repos/eb/d8/ebd889d6ac58573e8e8a7aa1176d4d357581a6da60135b94aca378fddf4e9e54/1623d8da38be3171fcc8516a4cbe9fdb80e3d77e370aa5690895697649d688f3?response-content-disposition=attachment%3B+filename*%3DUTF-8%27%27sae_weights.safetensors%3B+filename%3D%22sae_weights.safetensors%22%3B&Expires=1716571392&Policy=eyJTdGF0ZW1lbnQiOlt7IkNvbmRpdGlvbiI6eyJEYXRlTGVzc1RoYW4iOnsiQVdTOkVwb2NoVGltZSI6MTcxNjU3MTM5Mn19LCJSZXNvdXJjZSI6Imh0dHBzOi8vY2RuLWxmcy11cy0xLmh1Z2dpbmdmYWNlLmNvL3JlcG9zL2ViL2Q4L2ViZDg4OWQ2YWM1ODU3M2U4ZThhN2FhMTE3NmQ0ZDM1NzU4MWE2ZGE2MDEzNWI5NGFjYTM3OGZkZGY0ZTllNTQvMTYyM2Q4ZGEzOGJlMzE3MWZjYzg1MTZhNGNiZTlmZGI4MGUzZDc3ZTM3MGFhNTY5MDg5NTY5NzY0OWQ2ODhmMz9yZXNwb25zZS1jb250ZW50LWRpc3Bvc2l0aW9uPSoifV19&Signature=Hd00m3yt0EWlGrgUGpkl--BXGqs6EzBhdwk2Zc0k6gRDFMw9eTDkeP8uuAx%7EWVX%7EOjWhYdocMSoA-wYA%7ENvl0f7wcj-Wcp3A35kTYpivsezWTs63QK-9mgQsko9ktucXd0VUh9-snKZpkZW8sV5TBN2nAofyiDkSc6i5JlD%7EUT3Qu6aAzlbWzTW%7EZjQlpqNilrumpq-vG2BSb5N8mOS32jmmzlAzQhsoZ0bvEE%7EpSL2ALT1FMFqBSbMiXkAf12gleKCxKwMVN0Z1vGkIh0YctBDKv0UlsR4-e1QS-qNVcmlb2nCsjHUmVUEcbRlzPDO4n8Oq9YGk0sKIrO-Js5sxug__&Key-Pair-Id=KCD77M1F0VK2B [following]\n",
      "--2024-05-21 17:23:12--  https://cdn-lfs-us-1.huggingface.co/repos/eb/d8/ebd889d6ac58573e8e8a7aa1176d4d357581a6da60135b94aca378fddf4e9e54/1623d8da38be3171fcc8516a4cbe9fdb80e3d77e370aa5690895697649d688f3?response-content-disposition=attachment%3B+filename*%3DUTF-8%27%27sae_weights.safetensors%3B+filename%3D%22sae_weights.safetensors%22%3B&Expires=1716571392&Policy=eyJTdGF0ZW1lbnQiOlt7IkNvbmRpdGlvbiI6eyJEYXRlTGVzc1RoYW4iOnsiQVdTOkVwb2NoVGltZSI6MTcxNjU3MTM5Mn19LCJSZXNvdXJjZSI6Imh0dHBzOi8vY2RuLWxmcy11cy0xLmh1Z2dpbmdmYWNlLmNvL3JlcG9zL2ViL2Q4L2ViZDg4OWQ2YWM1ODU3M2U4ZThhN2FhMTE3NmQ0ZDM1NzU4MWE2ZGE2MDEzNWI5NGFjYTM3OGZkZGY0ZTllNTQvMTYyM2Q4ZGEzOGJlMzE3MWZjYzg1MTZhNGNiZTlmZGI4MGUzZDc3ZTM3MGFhNTY5MDg5NTY5NzY0OWQ2ODhmMz9yZXNwb25zZS1jb250ZW50LWRpc3Bvc2l0aW9uPSoifV19&Signature=Hd00m3yt0EWlGrgUGpkl--BXGqs6EzBhdwk2Zc0k6gRDFMw9eTDkeP8uuAx%7EWVX%7EOjWhYdocMSoA-wYA%7ENvl0f7wcj-Wcp3A35kTYpivsezWTs63QK-9mgQsko9ktucXd0VUh9-snKZpkZW8sV5TBN2nAofyiDkSc6i5JlD%7EUT3Qu6aAzlbWzTW%7EZjQlpqNilrumpq-vG2BSb5N8mOS32jmmzlAzQhsoZ0bvEE%7EpSL2ALT1FMFqBSbMiXkAf12gleKCxKwMVN0Z1vGkIh0YctBDKv0UlsR4-e1QS-qNVcmlb2nCsjHUmVUEcbRlzPDO4n8Oq9YGk0sKIrO-Js5sxug__&Key-Pair-Id=KCD77M1F0VK2B\n",
      "Resolving cdn-lfs-us-1.huggingface.co (cdn-lfs-us-1.huggingface.co)... 108.138.167.22, 108.138.167.67, 108.138.167.63, ...\n",
      "Connecting to cdn-lfs-us-1.huggingface.co (cdn-lfs-us-1.huggingface.co)|108.138.167.22|:443... connected.\n",
      "HTTP request sent, awaiting response... 416 Requested Range Not Satisfiable\n",
      "\n",
      "    The file is already fully retrieved; nothing to do.\n",
      "\n"
     ]
    }
   ],
   "source": [
    "from micrlhf.utils.load_sae import get_sae\n",
    "sae = get_sae(target_layer, 6)"
   ]
  },
  {
   "cell_type": "code",
   "execution_count": 13,
   "metadata": {},
   "outputs": [
    {
     "data": {
      "text/html": [
       "<div id=\"output_9f38857909a5410b9a803c2e3b2f59ec\"><script> /* penzai.treescope rendering of a Python object (compressed) */ (()=>{ let observer; let lastStep = new Promise((resolve, reject) => { observer = new IntersectionObserver((entries) => { for (const entry of entries) { if (entry.isIntersecting) { resolve(); observer.disconnect(); return; } } }, {rootMargin: \"1000px\"}); }); window.treescope_decompress_enqueue = (encoded, destId) => { const previous = lastStep; const destElt = document.getElementById(destId); lastStep = (async () => { await previous; let blob = new Blob([ Uint8Array.from(atob(encoded), (m) => m.codePointAt(0)) ]); let reader = blob.stream().pipeThrough( new DecompressionStream(\"deflate\") ).pipeThrough( new TextDecoderStream(\"utf-8\") ).getReader(); let parts = []; while (true) { let step = await reader.read(); if (step.done) { break; } parts.push(step.value); } let newElt = document.createElement(\"div\"); newElt.innerHTML = parts.join(\"\"); destElt.parentNode.replaceChild(newElt, destElt); for (let oldScript of newElt.querySelectorAll(\"script\")) { let newScript = document.createElement(\"script\"); newScript.type = oldScript.type; newScript.textContent = oldScript.textContent; oldScript.parentNode.replaceChild(newScript, oldScript); } })(); requestAnimationFrame(() => { observer.observe(destElt); }); } })(); </script><div id=\"compress_html_a86a1f88d592479cb5d53287d6f85271\"><script>window.treescope_decompress_enqueue(\"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\", \"compress_html_a86a1f88d592479cb5d53287d6f85271\");</script><span style=\"color: #aaaaaa; font-family: monospace\">(Loading...)</span></div></div>"
      ],
      "text/plain": [
       "<IPython.core.display.HTML object>"
      ]
     },
     "metadata": {},
     "output_type": "display_data"
    },
    {
     "data": {
      "text/html": [
       "<div id=\"output_dest_9f38857909a5410b9a803c2e3b2f59ec\"><script> (()=>{ const output = document.getElementById(\"output_9f38857909a5410b9a803c2e3b2f59ec\"); const dest = document.getElementById(\"output_dest_9f38857909a5410b9a803c2e3b2f59ec\"); dest.parentNode.replaceChild(output, dest); })(); </script></div>"
      ],
      "text/plain": [
       "(49152, 3072)"
      ]
     },
     "execution_count": 13,
     "metadata": {},
     "output_type": "execute_result"
    }
   ],
   "source": [
    "dictionary = sae[\"W_dec\"]\n",
    "dictionary.shape"
   ]
  },
  {
   "cell_type": "code",
   "execution_count": 15,
   "metadata": {},
   "outputs": [],
   "source": [
    "pairs = tasks[task]\n",
    "pairs = [list(x) for x in pairs.items()]\n",
    "seed = 0\n",
    "\n",
    "dataset = ICLDataset(pairs, size=batch_size, n_prepended=0, bidirectional=False, seed=seed+1)\n",
    "\n",
    "\n",
    "tokenized = tokenizer.batch_encode_plus([prompt.format(x) for x in dataset.prompts], padding=\"longest\", max_length=max_seq_len, truncation=True, return_tensors=\"np\")\n",
    "inputs = tokenized_to_inputs(\n",
    "    **tokenized\n",
    ")\n",
    "\n",
    "target_tokens = [x[1] for x in tokenizer(dataset.completions)[\"input_ids\"]]\n",
    "target_tokens = jnp.asarray(target_tokens)"
   ]
  },
  {
   "cell_type": "code",
   "execution_count": 16,
   "metadata": {},
   "outputs": [],
   "source": [
    "def get_logprob_diff(logits: jnp.ndarray, target_tokens, print_results=False):\n",
    "    # print(logits)\n",
    "    logprobs = jax.nn.log_softmax(logits, axis=-1)\n",
    "    answer_logprobs = logprobs[:, -1]\n",
    "\n",
    "    target_logprobs = jnp.take_along_axis(answer_logprobs, target_tokens[:, None], axis=-1).squeeze()\n",
    "\n",
    "    if print_results:\n",
    "        print(\n",
    "            tokenizer.decode(answer_logprobs.argmax(axis=-1))\n",
    "        )\n",
    "\n",
    "        print(\n",
    "            tokenizer.decode(target_tokens)\n",
    "        )\n",
    "\n",
    "    return target_logprobs\n"
   ]
  },
  {
   "cell_type": "code",
   "execution_count": 17,
   "metadata": {},
   "outputs": [],
   "source": [
    "from micrlhf.llama import LlamaBlock\n",
    "from functools import partial\n",
    "\n",
    "\n",
    "layer_source = 17\n",
    "def make_get_resids(llama, layer_target):\n",
    "    get_resids = llama.select().at_instances_of(LlamaBlock).pick_nth_selected(layer_target\n",
    "                                                                              ).apply(lambda x:\n",
    "        pz.nn.Sequential([\n",
    "            pz.de.TellIntermediate.from_config(tag=f\"resid_pre\"),\n",
    "            x\n",
    "        ])\n",
    "    )\n",
    "    get_resids = pz.de.CollectingSideOutputs.handling(get_resids, tag_predicate=lambda x: x.startswith(\"resid_pre\"))\n",
    "    return get_resids\n",
    "jittify = lambda x: partial(jax.jit(lambda lr, *args, **kwargs: lr(*args, **kwargs)[1][0].value), x)\n",
    "get_resids_initial = make_get_resids(llama, layer_source)\n",
    "get_resids_initial = jittify(get_resids_initial)"
   ]
  },
  {
   "cell_type": "code",
   "execution_count": 18,
   "metadata": {},
   "outputs": [],
   "source": [
    "intital_resids = get_resids_initial(inputs)"
   ]
  },
  {
   "cell_type": "code",
   "execution_count": 19,
   "metadata": {},
   "outputs": [],
   "source": [
    "layer_target = 17\n",
    "\n",
    "taker = jit_wrapper.Jitted(llama.select().at_instances_of(LlamaBlock).apply_with_selected_index(\n",
    "    lambda i, x: x if i >= layer_target else pz.nn.Identity()\n",
    ").select().at_instances_of(pz.nn.EmbeddingLookup).apply(lambda _: pz.nn.Identity())\n",
    "                .select().at_instances_of(pz.nn.ConstantRescale).pick_nth_selected(0).apply(lambda _: pz.nn.Identity()))"
   ]
  },
  {
   "cell_type": "code",
   "execution_count": 71,
   "metadata": {},
   "outputs": [],
   "source": [
    "import dataclasses\n",
    "\n",
    "\n",
    "scale = 20\n",
    "\n",
    "\n",
    "def get_loss(weights, dictionary, inputs, target_tokens):\n",
    "    # weights = weights / weights.max()\n",
    "    weights = jax.nn.relu(weights)\n",
    "    \n",
    "\n",
    "    recon = jnp.einsum(\"fv,f->v\", dictionary, weights)\n",
    "    # act_add = add_vector(\n",
    "    #     llama, recon.astype('bfloat16'), target_layer, 1.0, position=\"last\"\n",
    "    # )\n",
    "    # recon = recon / jnp.linalg.norm(recon) * scale\n",
    "    recon = recon.astype('bfloat16')\n",
    "\n",
    "    modified = pz.nx.nmap(lambda a, b: a.at[-1].add(b))(\n",
    "        intital_resids.untag(\"seq\", \"embedding\"), pz.nx.wrap(recon, \"embedding\").untag(\"embedding\")\n",
    "        ).tag(\"seq\", \"embedding\")\n",
    "\n",
    "    inputs = dataclasses.replace(inputs, tokens=modified)\n",
    "\n",
    "    # print(inputs)\n",
    "\n",
    "    logits = taker(inputs).unwrap(\"batch\", \"seq\", \"vocabulary\")\n",
    "\n",
    "    # logits = act_add(inputs).unwrap(\"batch\", \"seq\", \"vocabulary\")\n",
    "\n",
    "    logprob_diff = get_logprob_diff(logits, target_tokens)\n",
    "    loss = -logprob_diff.mean()\n",
    "\n",
    "    # return loss + 1e-2 * (jnp.abs(weights) / (jnp.abs(weights) + 0.1)).sum(), ((weights != 0).sum(), loss)\n",
    "    # return loss + 1e-5 * jnp.linalg.norm(weights, ord=0.5), ((weights != 0).sum(), loss)\n",
    "    return loss + 1e-2 * jnp.linalg.norm(weights, ord=1), ((weights != 0).sum(), loss)\n",
    "    # return loss, ((weights != 0).sum(), loss)"
   ]
  },
  {
   "cell_type": "code",
   "execution_count": 73,
   "metadata": {},
   "outputs": [],
   "source": [
    "from functools import partial\n",
    "\n",
    "optimizer = optax.chain(\n",
    "    # optax.clip_by_global_norm(1.0),\n",
    "    # optax.adam(1e-3, b1=0, b2=0.99),\n",
    "    optax.adam(5e-2),\n",
    "    optax.zero_nans(),\n",
    "    \n",
    ")\n",
    "\n",
    "lwg = jax.value_and_grad(get_loss, has_aux=True)\n",
    "# lwg = jax.jit(lwg)\n",
    "shrinkage = 0\n",
    "\n",
    "# @partial(jax.jit, donate_argnums=(0, 1))\n",
    "def train_step(weights, opt_state, dictionary, inputs, target_tokens, pos_only=True):\n",
    "    (loss, (l0, loss_)), grad = lwg(weights, dictionary, inputs, target_tokens)\n",
    "\n",
    "    updates, opt_state = optimizer.update(grad, opt_state, weights)\n",
    "    weights = optax.apply_updates(weights, updates)\n",
    "    # weights_abs = jnp.abs(weights)\n",
    "    # weights = jnp.sign(weights) * jax.nn.relu(weights_abs - shrinkage)\n",
    "\n",
    "    return loss, weights, opt_state, dict(l0=l0, loss=loss_)"
   ]
  },
  {
   "cell_type": "code",
   "execution_count": 74,
   "metadata": {},
   "outputs": [
    {
     "data": {
      "application/vnd.jupyter.widget-view+json": {
       "model_id": "62b13a37ae554f61a62444e339dff315",
       "version_major": 2,
       "version_minor": 0
      },
      "text/plain": [
       "  0%|          | 0/1000 [00:00<?, ?it/s]"
      ]
     },
     "metadata": {},
     "output_type": "display_data"
    },
    {
     "ename": "KeyboardInterrupt",
     "evalue": "",
     "output_type": "error",
     "traceback": [
      "\u001b[0;31m---------------------------------------------------------------------------\u001b[0m",
      "\u001b[0;31mKeyboardInterrupt\u001b[0m                         Traceback (most recent call last)",
      "Cell \u001b[0;32mIn[74], line 8\u001b[0m\n\u001b[1;32m      4\u001b[0m opt_state \u001b[38;5;241m=\u001b[39m optimizer\u001b[38;5;241m.\u001b[39minit(weights)\n\u001b[1;32m      7\u001b[0m \u001b[38;5;28;01mfor\u001b[39;00m _ \u001b[38;5;129;01min\u001b[39;00m (bar \u001b[38;5;241m:=\u001b[39m trange(iterations)):\n\u001b[0;32m----> 8\u001b[0m     loss, weights, opt_state, metrics \u001b[38;5;241m=\u001b[39m \u001b[43mtrain_step\u001b[49m\u001b[43m(\u001b[49m\u001b[43mweights\u001b[49m\u001b[43m,\u001b[49m\u001b[43m \u001b[49m\u001b[43mopt_state\u001b[49m\u001b[43m,\u001b[49m\u001b[43m \u001b[49m\u001b[43mdictionary\u001b[49m\u001b[43m,\u001b[49m\u001b[43m \u001b[49m\u001b[43minputs\u001b[49m\u001b[43m,\u001b[49m\u001b[43m \u001b[49m\u001b[43mtarget_tokens\u001b[49m\u001b[43m)\u001b[49m\n\u001b[1;32m     10\u001b[0m     tk \u001b[38;5;241m=\u001b[39m jax\u001b[38;5;241m.\u001b[39mlax\u001b[38;5;241m.\u001b[39mtop_k(weights, \u001b[38;5;241m2\u001b[39m)\n\u001b[1;32m     12\u001b[0m     bar\u001b[38;5;241m.\u001b[39mset_postfix(loss_optim\u001b[38;5;241m=\u001b[39mloss, \u001b[38;5;241m*\u001b[39m\u001b[38;5;241m*\u001b[39mmetrics, top\u001b[38;5;241m=\u001b[39mtk[\u001b[38;5;241m1\u001b[39m][\u001b[38;5;241m0\u001b[39m], top_diff\u001b[38;5;241m=\u001b[39m(tk[\u001b[38;5;241m0\u001b[39m][\u001b[38;5;241m0\u001b[39m] \u001b[38;5;241m-\u001b[39m tk[\u001b[38;5;241m0\u001b[39m][\u001b[38;5;241m1\u001b[39m]) \u001b[38;5;241m/\u001b[39m tk[\u001b[38;5;241m0\u001b[39m][\u001b[38;5;241m0\u001b[39m])\n",
      "Cell \u001b[0;32mIn[73], line 17\u001b[0m, in \u001b[0;36mtrain_step\u001b[0;34m(weights, opt_state, dictionary, inputs, target_tokens, pos_only)\u001b[0m\n\u001b[1;32m     16\u001b[0m \u001b[38;5;28;01mdef\u001b[39;00m \u001b[38;5;21mtrain_step\u001b[39m(weights, opt_state, dictionary, inputs, target_tokens, pos_only\u001b[38;5;241m=\u001b[39m\u001b[38;5;28;01mTrue\u001b[39;00m):\n\u001b[0;32m---> 17\u001b[0m     (loss, (l0, loss_)), grad \u001b[38;5;241m=\u001b[39m \u001b[43mlwg\u001b[49m\u001b[43m(\u001b[49m\u001b[43mweights\u001b[49m\u001b[43m,\u001b[49m\u001b[43m \u001b[49m\u001b[43mdictionary\u001b[49m\u001b[43m,\u001b[49m\u001b[43m \u001b[49m\u001b[43minputs\u001b[49m\u001b[43m,\u001b[49m\u001b[43m \u001b[49m\u001b[43mtarget_tokens\u001b[49m\u001b[43m)\u001b[49m\n\u001b[1;32m     19\u001b[0m     updates, opt_state \u001b[38;5;241m=\u001b[39m optimizer\u001b[38;5;241m.\u001b[39mupdate(grad, opt_state, weights)\n\u001b[1;32m     20\u001b[0m     weights \u001b[38;5;241m=\u001b[39m optax\u001b[38;5;241m.\u001b[39mapply_updates(weights, updates)\n",
      "    \u001b[0;31m[... skipping hidden 1 frame]\u001b[0m\n",
      "File \u001b[0;32m~/.cache/pypoetry/virtualenvs/micrlhf-progress-_SD4q1c9-py3.12/lib/python3.12/site-packages/jax/_src/api.py:693\u001b[0m, in \u001b[0;36mvalue_and_grad.<locals>.value_and_grad_f\u001b[0;34m(*args, **kwargs)\u001b[0m\n\u001b[1;32m    691\u001b[0m   ans, vjp_py \u001b[38;5;241m=\u001b[39m _vjp(f_partial, \u001b[38;5;241m*\u001b[39mdyn_args)\n\u001b[1;32m    692\u001b[0m \u001b[38;5;28;01melse\u001b[39;00m:\n\u001b[0;32m--> 693\u001b[0m   ans, vjp_py, aux \u001b[38;5;241m=\u001b[39m \u001b[43m_vjp\u001b[49m\u001b[43m(\u001b[49m\n\u001b[1;32m    694\u001b[0m \u001b[43m      \u001b[49m\u001b[43mf_partial\u001b[49m\u001b[43m,\u001b[49m\u001b[43m \u001b[49m\u001b[38;5;241;43m*\u001b[39;49m\u001b[43mdyn_args\u001b[49m\u001b[43m,\u001b[49m\u001b[43m \u001b[49m\u001b[43mhas_aux\u001b[49m\u001b[38;5;241;43m=\u001b[39;49m\u001b[38;5;28;43;01mTrue\u001b[39;49;00m\u001b[43m)\u001b[49m\n\u001b[1;32m    695\u001b[0m _check_scalar(ans)\n\u001b[1;32m    696\u001b[0m tree_map(partial(_check_output_dtype_grad, holomorphic), ans)\n",
      "File \u001b[0;32m~/.cache/pypoetry/virtualenvs/micrlhf-progress-_SD4q1c9-py3.12/lib/python3.12/site-packages/jax/_src/api.py:2182\u001b[0m, in \u001b[0;36m_vjp\u001b[0;34m(fun, has_aux, *primals)\u001b[0m\n\u001b[1;32m   2180\u001b[0m \u001b[38;5;28;01melse\u001b[39;00m:\n\u001b[1;32m   2181\u001b[0m   flat_fun, out_aux_trees \u001b[38;5;241m=\u001b[39m flatten_fun_nokwargs2(fun, in_tree)\n\u001b[0;32m-> 2182\u001b[0m   out_primal, out_vjp, aux \u001b[38;5;241m=\u001b[39m \u001b[43mad\u001b[49m\u001b[38;5;241;43m.\u001b[39;49m\u001b[43mvjp\u001b[49m\u001b[43m(\u001b[49m\n\u001b[1;32m   2183\u001b[0m \u001b[43m      \u001b[49m\u001b[43mflat_fun\u001b[49m\u001b[43m,\u001b[49m\u001b[43m \u001b[49m\u001b[43mprimals_flat\u001b[49m\u001b[43m,\u001b[49m\u001b[43m \u001b[49m\u001b[43mhas_aux\u001b[49m\u001b[38;5;241;43m=\u001b[39;49m\u001b[38;5;28;43;01mTrue\u001b[39;49;00m\u001b[43m)\u001b[49m\n\u001b[1;32m   2184\u001b[0m   out_tree, aux_tree \u001b[38;5;241m=\u001b[39m out_aux_trees()\n\u001b[1;32m   2185\u001b[0m out_primal_py \u001b[38;5;241m=\u001b[39m tree_unflatten(out_tree, out_primal)\n",
      "File \u001b[0;32m~/.cache/pypoetry/virtualenvs/micrlhf-progress-_SD4q1c9-py3.12/lib/python3.12/site-packages/jax/_src/interpreters/ad.py:145\u001b[0m, in \u001b[0;36mvjp\u001b[0;34m(traceable, primals, has_aux)\u001b[0m\n\u001b[1;32m    143\u001b[0m   out_primals, pvals, jaxpr, consts \u001b[38;5;241m=\u001b[39m linearize(traceable, \u001b[38;5;241m*\u001b[39mprimals)\n\u001b[1;32m    144\u001b[0m \u001b[38;5;28;01melse\u001b[39;00m:\n\u001b[0;32m--> 145\u001b[0m   out_primals, pvals, jaxpr, consts, aux \u001b[38;5;241m=\u001b[39m \u001b[43mlinearize\u001b[49m\u001b[43m(\u001b[49m\u001b[43mtraceable\u001b[49m\u001b[43m,\u001b[49m\u001b[43m \u001b[49m\u001b[38;5;241;43m*\u001b[39;49m\u001b[43mprimals\u001b[49m\u001b[43m,\u001b[49m\u001b[43m \u001b[49m\u001b[43mhas_aux\u001b[49m\u001b[38;5;241;43m=\u001b[39;49m\u001b[38;5;28;43;01mTrue\u001b[39;49;00m\u001b[43m)\u001b[49m\n\u001b[1;32m    147\u001b[0m \u001b[38;5;28;01mdef\u001b[39;00m \u001b[38;5;21munbound_vjp\u001b[39m(pvals, jaxpr, consts, \u001b[38;5;241m*\u001b[39mcts):\n\u001b[1;32m    148\u001b[0m   cts \u001b[38;5;241m=\u001b[39m \u001b[38;5;28mtuple\u001b[39m(ct \u001b[38;5;28;01mfor\u001b[39;00m ct, pval \u001b[38;5;129;01min\u001b[39;00m \u001b[38;5;28mzip\u001b[39m(cts, pvals) \u001b[38;5;28;01mif\u001b[39;00m \u001b[38;5;129;01mnot\u001b[39;00m pval\u001b[38;5;241m.\u001b[39mis_known())\n",
      "File \u001b[0;32m~/.cache/pypoetry/virtualenvs/micrlhf-progress-_SD4q1c9-py3.12/lib/python3.12/site-packages/jax/_src/interpreters/ad.py:132\u001b[0m, in \u001b[0;36mlinearize\u001b[0;34m(traceable, *primals, **kwargs)\u001b[0m\n\u001b[1;32m    130\u001b[0m _, in_tree \u001b[38;5;241m=\u001b[39m tree_flatten(((primals, primals), {}))\n\u001b[1;32m    131\u001b[0m jvpfun_flat, out_tree \u001b[38;5;241m=\u001b[39m flatten_fun(jvpfun, in_tree)\n\u001b[0;32m--> 132\u001b[0m jaxpr, out_pvals, consts \u001b[38;5;241m=\u001b[39m \u001b[43mpe\u001b[49m\u001b[38;5;241;43m.\u001b[39;49m\u001b[43mtrace_to_jaxpr_nounits\u001b[49m\u001b[43m(\u001b[49m\u001b[43mjvpfun_flat\u001b[49m\u001b[43m,\u001b[49m\u001b[43m \u001b[49m\u001b[43min_pvals\u001b[49m\u001b[43m)\u001b[49m\n\u001b[1;32m    133\u001b[0m out_primals_pvals, out_tangents_pvals \u001b[38;5;241m=\u001b[39m tree_unflatten(out_tree(), out_pvals)\n\u001b[1;32m    134\u001b[0m \u001b[38;5;28;01massert\u001b[39;00m \u001b[38;5;28mall\u001b[39m(out_primal_pval\u001b[38;5;241m.\u001b[39mis_known() \u001b[38;5;28;01mfor\u001b[39;00m out_primal_pval \u001b[38;5;129;01min\u001b[39;00m out_primals_pvals)\n",
      "File \u001b[0;32m~/.cache/pypoetry/virtualenvs/micrlhf-progress-_SD4q1c9-py3.12/lib/python3.12/site-packages/jax/_src/profiler.py:335\u001b[0m, in \u001b[0;36mannotate_function.<locals>.wrapper\u001b[0;34m(*args, **kwargs)\u001b[0m\n\u001b[1;32m    332\u001b[0m \u001b[38;5;129m@wraps\u001b[39m(func)\n\u001b[1;32m    333\u001b[0m \u001b[38;5;28;01mdef\u001b[39;00m \u001b[38;5;21mwrapper\u001b[39m(\u001b[38;5;241m*\u001b[39margs, \u001b[38;5;241m*\u001b[39m\u001b[38;5;241m*\u001b[39mkwargs):\n\u001b[1;32m    334\u001b[0m   \u001b[38;5;28;01mwith\u001b[39;00m TraceAnnotation(name, \u001b[38;5;241m*\u001b[39m\u001b[38;5;241m*\u001b[39mdecorator_kwargs):\n\u001b[0;32m--> 335\u001b[0m     \u001b[38;5;28;01mreturn\u001b[39;00m \u001b[43mfunc\u001b[49m\u001b[43m(\u001b[49m\u001b[38;5;241;43m*\u001b[39;49m\u001b[43margs\u001b[49m\u001b[43m,\u001b[49m\u001b[43m \u001b[49m\u001b[38;5;241;43m*\u001b[39;49m\u001b[38;5;241;43m*\u001b[39;49m\u001b[43mkwargs\u001b[49m\u001b[43m)\u001b[49m\n\u001b[1;32m    336\u001b[0m   \u001b[38;5;28;01mreturn\u001b[39;00m wrapper\n",
      "File \u001b[0;32m~/.cache/pypoetry/virtualenvs/micrlhf-progress-_SD4q1c9-py3.12/lib/python3.12/site-packages/jax/_src/interpreters/partial_eval.py:774\u001b[0m, in \u001b[0;36mtrace_to_jaxpr_nounits\u001b[0;34m(fun, pvals, instantiate)\u001b[0m\n\u001b[1;32m    772\u001b[0m \u001b[38;5;28;01mwith\u001b[39;00m core\u001b[38;5;241m.\u001b[39mnew_main(JaxprTrace, name_stack\u001b[38;5;241m=\u001b[39mcurrent_name_stack) \u001b[38;5;28;01mas\u001b[39;00m main:\n\u001b[1;32m    773\u001b[0m   fun \u001b[38;5;241m=\u001b[39m trace_to_subjaxpr_nounits(fun, main, instantiate)\n\u001b[0;32m--> 774\u001b[0m   jaxpr, (out_pvals, consts, env) \u001b[38;5;241m=\u001b[39m \u001b[43mfun\u001b[49m\u001b[38;5;241;43m.\u001b[39;49m\u001b[43mcall_wrapped\u001b[49m\u001b[43m(\u001b[49m\u001b[43mpvals\u001b[49m\u001b[43m)\u001b[49m\n\u001b[1;32m    775\u001b[0m   \u001b[38;5;28;01massert\u001b[39;00m \u001b[38;5;129;01mnot\u001b[39;00m env\n\u001b[1;32m    776\u001b[0m   \u001b[38;5;28;01mdel\u001b[39;00m main, fun, env\n",
      "File \u001b[0;32m~/.cache/pypoetry/virtualenvs/micrlhf-progress-_SD4q1c9-py3.12/lib/python3.12/site-packages/jax/_src/linear_util.py:192\u001b[0m, in \u001b[0;36mWrappedFun.call_wrapped\u001b[0;34m(self, *args, **kwargs)\u001b[0m\n\u001b[1;32m    189\u001b[0m gen \u001b[38;5;241m=\u001b[39m gen_static_args \u001b[38;5;241m=\u001b[39m out_store \u001b[38;5;241m=\u001b[39m \u001b[38;5;28;01mNone\u001b[39;00m\n\u001b[1;32m    191\u001b[0m \u001b[38;5;28;01mtry\u001b[39;00m:\n\u001b[0;32m--> 192\u001b[0m   ans \u001b[38;5;241m=\u001b[39m \u001b[38;5;28;43mself\u001b[39;49m\u001b[38;5;241;43m.\u001b[39;49m\u001b[43mf\u001b[49m\u001b[43m(\u001b[49m\u001b[38;5;241;43m*\u001b[39;49m\u001b[43margs\u001b[49m\u001b[43m,\u001b[49m\u001b[43m \u001b[49m\u001b[38;5;241;43m*\u001b[39;49m\u001b[38;5;241;43m*\u001b[39;49m\u001b[38;5;28;43mdict\u001b[39;49m\u001b[43m(\u001b[49m\u001b[38;5;28;43mself\u001b[39;49m\u001b[38;5;241;43m.\u001b[39;49m\u001b[43mparams\u001b[49m\u001b[43m,\u001b[49m\u001b[43m \u001b[49m\u001b[38;5;241;43m*\u001b[39;49m\u001b[38;5;241;43m*\u001b[39;49m\u001b[43mkwargs\u001b[49m\u001b[43m)\u001b[49m\u001b[43m)\u001b[49m\n\u001b[1;32m    193\u001b[0m \u001b[38;5;28;01mexcept\u001b[39;00m:\n\u001b[1;32m    194\u001b[0m   \u001b[38;5;66;03m# Some transformations yield from inside context managers, so we have to\u001b[39;00m\n\u001b[1;32m    195\u001b[0m   \u001b[38;5;66;03m# interrupt them before reraising the exception. Otherwise they will only\u001b[39;00m\n\u001b[1;32m    196\u001b[0m   \u001b[38;5;66;03m# get garbage-collected at some later time, running their cleanup tasks\u001b[39;00m\n\u001b[1;32m    197\u001b[0m   \u001b[38;5;66;03m# only after this exception is handled, which can corrupt the global\u001b[39;00m\n\u001b[1;32m    198\u001b[0m   \u001b[38;5;66;03m# state.\u001b[39;00m\n\u001b[1;32m    199\u001b[0m   \u001b[38;5;28;01mwhile\u001b[39;00m stack:\n",
      "Cell \u001b[0;32mIn[71], line 27\u001b[0m, in \u001b[0;36mget_loss\u001b[0;34m(weights, dictionary, inputs, target_tokens)\u001b[0m\n\u001b[1;32m     23\u001b[0m inputs \u001b[38;5;241m=\u001b[39m dataclasses\u001b[38;5;241m.\u001b[39mreplace(inputs, tokens\u001b[38;5;241m=\u001b[39mmodified)\n\u001b[1;32m     25\u001b[0m \u001b[38;5;66;03m# print(inputs)\u001b[39;00m\n\u001b[0;32m---> 27\u001b[0m logits \u001b[38;5;241m=\u001b[39m \u001b[43mtaker\u001b[49m\u001b[43m(\u001b[49m\u001b[43minputs\u001b[49m\u001b[43m)\u001b[49m\u001b[38;5;241m.\u001b[39munwrap(\u001b[38;5;124m\"\u001b[39m\u001b[38;5;124mbatch\u001b[39m\u001b[38;5;124m\"\u001b[39m, \u001b[38;5;124m\"\u001b[39m\u001b[38;5;124mseq\u001b[39m\u001b[38;5;124m\"\u001b[39m, \u001b[38;5;124m\"\u001b[39m\u001b[38;5;124mvocabulary\u001b[39m\u001b[38;5;124m\"\u001b[39m)\n\u001b[1;32m     29\u001b[0m \u001b[38;5;66;03m# logits = act_add(inputs).unwrap(\"batch\", \"seq\", \"vocabulary\")\u001b[39;00m\n\u001b[1;32m     31\u001b[0m logprob_diff \u001b[38;5;241m=\u001b[39m get_logprob_diff(logits, target_tokens)\n",
      "File \u001b[0;32m~/.cache/pypoetry/virtualenvs/micrlhf-progress-_SD4q1c9-py3.12/lib/python3.12/site-packages/penzai/toolshed/jit_wrapper.py:62\u001b[0m, in \u001b[0;36mJitted.__call__\u001b[0;34m(self, argument)\u001b[0m\n\u001b[1;32m     60\u001b[0m \u001b[38;5;28;01mdef\u001b[39;00m \u001b[38;5;21m__call__\u001b[39m(\u001b[38;5;28mself\u001b[39m, argument: Any, \u001b[38;5;241m/\u001b[39m) \u001b[38;5;241m-\u001b[39m\u001b[38;5;241m>\u001b[39m Any:\n\u001b[1;32m     61\u001b[0m   \u001b[38;5;28;01mtry\u001b[39;00m:\n\u001b[0;32m---> 62\u001b[0m     \u001b[38;5;28;01mreturn\u001b[39;00m \u001b[43m_flat_jit_call_layer\u001b[49m\u001b[43m(\u001b[49m\u001b[38;5;28;43mself\u001b[39;49m\u001b[38;5;241;43m.\u001b[39;49m\u001b[43mbody\u001b[49m\u001b[43m,\u001b[49m\u001b[43m \u001b[49m\u001b[43margument\u001b[49m\u001b[43m)\u001b[49m\n\u001b[1;32m     63\u001b[0m   \u001b[38;5;28;01mexcept\u001b[39;00m \u001b[38;5;167;01mTypeError\u001b[39;00m \u001b[38;5;28;01mas\u001b[39;00m exc:\n\u001b[1;32m     64\u001b[0m     impls \u001b[38;5;241m=\u001b[39m pz\u001b[38;5;241m.\u001b[39mselect(\u001b[38;5;28mself\u001b[39m\u001b[38;5;241m.\u001b[39mbody)\u001b[38;5;241m.\u001b[39mat_instances_of(pz\u001b[38;5;241m.\u001b[39mde\u001b[38;5;241m.\u001b[39mEffectRuntimeImpl)\n",
      "    \u001b[0;31m[... skipping hidden 1 frame]\u001b[0m\n",
      "File \u001b[0;32m~/.cache/pypoetry/virtualenvs/micrlhf-progress-_SD4q1c9-py3.12/lib/python3.12/site-packages/jax/_src/pjit.py:304\u001b[0m, in \u001b[0;36m_cpp_pjit.<locals>.cache_miss\u001b[0;34m(*args, **kwargs)\u001b[0m\n\u001b[1;32m    302\u001b[0m \u001b[38;5;129m@api_boundary\u001b[39m\n\u001b[1;32m    303\u001b[0m \u001b[38;5;28;01mdef\u001b[39;00m \u001b[38;5;21mcache_miss\u001b[39m(\u001b[38;5;241m*\u001b[39margs, \u001b[38;5;241m*\u001b[39m\u001b[38;5;241m*\u001b[39mkwargs):\n\u001b[0;32m--> 304\u001b[0m   outs, out_flat, out_tree, args_flat, jaxpr, attrs_tracked \u001b[38;5;241m=\u001b[39m \u001b[43m_python_pjit_helper\u001b[49m\u001b[43m(\u001b[49m\n\u001b[1;32m    305\u001b[0m \u001b[43m      \u001b[49m\u001b[43mjit_info\u001b[49m\u001b[43m,\u001b[49m\u001b[43m \u001b[49m\u001b[38;5;241;43m*\u001b[39;49m\u001b[43margs\u001b[49m\u001b[43m,\u001b[49m\u001b[43m \u001b[49m\u001b[38;5;241;43m*\u001b[39;49m\u001b[38;5;241;43m*\u001b[39;49m\u001b[43mkwargs\u001b[49m\u001b[43m)\u001b[49m\n\u001b[1;32m    306\u001b[0m   executable \u001b[38;5;241m=\u001b[39m _read_most_recent_pjit_call_executable(jaxpr)\n\u001b[1;32m    307\u001b[0m   maybe_fastpath_data \u001b[38;5;241m=\u001b[39m _get_fastpath_data(\n\u001b[1;32m    308\u001b[0m       executable, out_tree, args_flat, out_flat, attrs_tracked, jaxpr\u001b[38;5;241m.\u001b[39meffects,\n\u001b[1;32m    309\u001b[0m       jaxpr\u001b[38;5;241m.\u001b[39mconsts, jit_info\u001b[38;5;241m.\u001b[39mabstracted_axes)\n",
      "File \u001b[0;32m~/.cache/pypoetry/virtualenvs/micrlhf-progress-_SD4q1c9-py3.12/lib/python3.12/site-packages/jax/_src/pjit.py:171\u001b[0m, in \u001b[0;36m_python_pjit_helper\u001b[0;34m(jit_info, *args, **kwargs)\u001b[0m\n\u001b[1;32m    169\u001b[0m \u001b[38;5;28;01mdef\u001b[39;00m \u001b[38;5;21m_python_pjit_helper\u001b[39m(jit_info, \u001b[38;5;241m*\u001b[39margs, \u001b[38;5;241m*\u001b[39m\u001b[38;5;241m*\u001b[39mkwargs):\n\u001b[1;32m    170\u001b[0m   (args_flat, _, params, _, out_tree, _, arg_names,\n\u001b[0;32m--> 171\u001b[0m    attrs_tracked) \u001b[38;5;241m=\u001b[39m \u001b[43m_infer_params\u001b[49m\u001b[43m(\u001b[49m\u001b[43mjit_info\u001b[49m\u001b[43m,\u001b[49m\u001b[43m \u001b[49m\u001b[43margs\u001b[49m\u001b[43m,\u001b[49m\u001b[43m \u001b[49m\u001b[43mkwargs\u001b[49m\u001b[43m)\u001b[49m\n\u001b[1;32m    173\u001b[0m   \u001b[38;5;28;01mfor\u001b[39;00m arg \u001b[38;5;129;01min\u001b[39;00m args_flat:\n\u001b[1;32m    174\u001b[0m     dispatch\u001b[38;5;241m.\u001b[39mcheck_arg(arg)\n",
      "File \u001b[0;32m~/.cache/pypoetry/virtualenvs/micrlhf-progress-_SD4q1c9-py3.12/lib/python3.12/site-packages/jax/_src/pjit.py:538\u001b[0m, in \u001b[0;36m_infer_params\u001b[0;34m(jit_info, args, kwargs)\u001b[0m\n\u001b[1;32m    533\u001b[0m   jit_name \u001b[38;5;241m=\u001b[39m \u001b[38;5;124m'\u001b[39m\u001b[38;5;124mjit\u001b[39m\u001b[38;5;124m'\u001b[39m\n\u001b[1;32m    536\u001b[0m axes_specs \u001b[38;5;241m=\u001b[39m _flat_axes_specs(abstracted_axes, \u001b[38;5;241m*\u001b[39margs, \u001b[38;5;241m*\u001b[39m\u001b[38;5;241m*\u001b[39mkwargs)\n\u001b[0;32m--> 538\u001b[0m dbg \u001b[38;5;241m=\u001b[39m \u001b[43mdebug_info\u001b[49m\u001b[43m(\u001b[49m\u001b[43mjit_name\u001b[49m\u001b[43m,\u001b[49m\u001b[43m \u001b[49m\u001b[43mfun_sourceinfo\u001b[49m\u001b[43m,\u001b[49m\u001b[43m \u001b[49m\u001b[43mfun_signature\u001b[49m\u001b[43m,\u001b[49m\u001b[43m \u001b[49m\u001b[43margs\u001b[49m\u001b[43m,\u001b[49m\u001b[43m \u001b[49m\u001b[43mkwargs\u001b[49m\u001b[43m,\u001b[49m\n\u001b[1;32m    539\u001b[0m \u001b[43m                 \u001b[49m\u001b[43mstatic_argnums\u001b[49m\u001b[43m,\u001b[49m\u001b[43m \u001b[49m\u001b[43mstatic_argnames\u001b[49m\u001b[43m)\u001b[49m\n\u001b[1;32m    540\u001b[0m f \u001b[38;5;241m=\u001b[39m lu\u001b[38;5;241m.\u001b[39mwrap_init(fun)\n\u001b[1;32m    541\u001b[0m f, res_paths \u001b[38;5;241m=\u001b[39m result_paths(f)\n",
      "File \u001b[0;32m~/.cache/pypoetry/virtualenvs/micrlhf-progress-_SD4q1c9-py3.12/lib/python3.12/site-packages/jax/_src/api_util.py:629\u001b[0m, in \u001b[0;36mdebug_info\u001b[0;34m(traced_for, src, fun_signature, args, kwargs, static_argnums, static_argnames)\u001b[0m\n\u001b[1;32m    623\u001b[0m \u001b[38;5;28;01mdef\u001b[39;00m \u001b[38;5;21mdebug_info\u001b[39m(\n\u001b[1;32m    624\u001b[0m   traced_for: \u001b[38;5;28mstr\u001b[39m, src: \u001b[38;5;28mstr\u001b[39m \u001b[38;5;241m|\u001b[39m \u001b[38;5;28;01mNone\u001b[39;00m, fun_signature: inspect\u001b[38;5;241m.\u001b[39mSignature \u001b[38;5;241m|\u001b[39m \u001b[38;5;28;01mNone\u001b[39;00m,\n\u001b[1;32m    625\u001b[0m   args: \u001b[38;5;28mtuple\u001b[39m[Any, \u001b[38;5;241m.\u001b[39m\u001b[38;5;241m.\u001b[39m\u001b[38;5;241m.\u001b[39m], kwargs: \u001b[38;5;28mdict\u001b[39m[\u001b[38;5;28mstr\u001b[39m, Any], static_argnums: \u001b[38;5;28mtuple\u001b[39m[\u001b[38;5;28mint\u001b[39m, \u001b[38;5;241m.\u001b[39m\u001b[38;5;241m.\u001b[39m\u001b[38;5;241m.\u001b[39m],\n\u001b[1;32m    626\u001b[0m   static_argnames: \u001b[38;5;28mtuple\u001b[39m[\u001b[38;5;28mstr\u001b[39m, \u001b[38;5;241m.\u001b[39m\u001b[38;5;241m.\u001b[39m\u001b[38;5;241m.\u001b[39m]\n\u001b[1;32m    627\u001b[0m ) \u001b[38;5;241m-\u001b[39m\u001b[38;5;241m>\u001b[39m TracingDebugInfo \u001b[38;5;241m|\u001b[39m \u001b[38;5;28;01mNone\u001b[39;00m:\n\u001b[1;32m    628\u001b[0m \u001b[38;5;250m  \u001b[39m\u001b[38;5;124;03m\"\"\"Try to build trace-time debug info for fun when applied to args/kwargs.\"\"\"\u001b[39;00m\n\u001b[0;32m--> 629\u001b[0m   arg_names \u001b[38;5;241m=\u001b[39m \u001b[43m_arg_names\u001b[49m\u001b[43m(\u001b[49m\u001b[43mfun_signature\u001b[49m\u001b[43m,\u001b[49m\u001b[43m \u001b[49m\u001b[43margs\u001b[49m\u001b[43m,\u001b[49m\u001b[43m \u001b[49m\u001b[43mkwargs\u001b[49m\u001b[43m,\u001b[49m\u001b[43m \u001b[49m\u001b[43mstatic_argnums\u001b[49m\u001b[43m,\u001b[49m\n\u001b[1;32m    630\u001b[0m \u001b[43m                         \u001b[49m\u001b[43mstatic_argnames\u001b[49m\u001b[43m)\u001b[49m\n\u001b[1;32m    631\u001b[0m   \u001b[38;5;28;01mif\u001b[39;00m src \u001b[38;5;129;01mis\u001b[39;00m \u001b[38;5;28;01mNone\u001b[39;00m \u001b[38;5;129;01mor\u001b[39;00m arg_names \u001b[38;5;129;01mis\u001b[39;00m \u001b[38;5;28;01mNone\u001b[39;00m:\n\u001b[1;32m    632\u001b[0m     \u001b[38;5;28;01mreturn\u001b[39;00m \u001b[38;5;28;01mNone\u001b[39;00m\n",
      "File \u001b[0;32m~/.cache/pypoetry/virtualenvs/micrlhf-progress-_SD4q1c9-py3.12/lib/python3.12/site-packages/jax/_src/api_util.py:665\u001b[0m, in \u001b[0;36m_arg_names\u001b[0;34m(fn_signature, args, kwargs, static_argnums, static_argnames)\u001b[0m\n\u001b[1;32m    663\u001b[0m \u001b[38;5;28;01mexcept\u001b[39;00m (\u001b[38;5;167;01mValueError\u001b[39;00m, \u001b[38;5;167;01mTypeError\u001b[39;00m):\n\u001b[1;32m    664\u001b[0m   \u001b[38;5;28;01mreturn\u001b[39;00m \u001b[38;5;28;01mNone\u001b[39;00m\n\u001b[0;32m--> 665\u001b[0m \u001b[38;5;28;01mreturn\u001b[39;00m \u001b[38;5;28;43mtuple\u001b[39;49m\u001b[43m(\u001b[49m\u001b[38;5;124;43mf\u001b[39;49m\u001b[38;5;124;43m'\u001b[39;49m\u001b[38;5;132;43;01m{\u001b[39;49;00m\u001b[43mname\u001b[49m\u001b[38;5;132;43;01m}\u001b[39;49;00m\u001b[38;5;132;43;01m{\u001b[39;49;00m\u001b[43mkeystr\u001b[49m\u001b[43m(\u001b[49m\u001b[43mpath\u001b[49m\u001b[43m)\u001b[49m\u001b[38;5;132;43;01m}\u001b[39;49;00m\u001b[38;5;124;43m'\u001b[39;49m\u001b[43m \u001b[49m\u001b[38;5;28;43;01mfor\u001b[39;49;00m\u001b[43m \u001b[49m\u001b[43mname\u001b[49m\u001b[43m,\u001b[49m\u001b[43m \u001b[49m\u001b[43mx\u001b[49m\u001b[43m \u001b[49m\u001b[38;5;129;43;01min\u001b[39;49;00m\u001b[43m \u001b[49m\u001b[43mba\u001b[49m\u001b[38;5;241;43m.\u001b[39;49m\u001b[43marguments\u001b[49m\u001b[38;5;241;43m.\u001b[39;49m\u001b[43mitems\u001b[49m\u001b[43m(\u001b[49m\u001b[43m)\u001b[49m\n\u001b[1;32m    666\u001b[0m \u001b[43m             \u001b[49m\u001b[38;5;28;43;01mfor\u001b[39;49;00m\u001b[43m \u001b[49m\u001b[43mpath\u001b[49m\u001b[43m,\u001b[49m\u001b[43m \u001b[49m\u001b[43ml\u001b[49m\u001b[43m \u001b[49m\u001b[38;5;129;43;01min\u001b[39;49;00m\u001b[43m \u001b[49m\u001b[43mgenerate_key_paths\u001b[49m\u001b[43m(\u001b[49m\u001b[43mx\u001b[49m\u001b[43m)\u001b[49m\u001b[43m \u001b[49m\u001b[38;5;28;43;01mif\u001b[39;49;00m\u001b[43m \u001b[49m\u001b[43ml\u001b[49m\u001b[43m \u001b[49m\u001b[38;5;129;43;01mis\u001b[39;49;00m\u001b[43m \u001b[49m\u001b[38;5;129;43;01mnot\u001b[39;49;00m\u001b[43m \u001b[49m\u001b[43mstatic\u001b[49m\u001b[43m)\u001b[49m\n",
      "File \u001b[0;32m~/.cache/pypoetry/virtualenvs/micrlhf-progress-_SD4q1c9-py3.12/lib/python3.12/site-packages/jax/_src/api_util.py:666\u001b[0m, in \u001b[0;36m<genexpr>\u001b[0;34m(.0)\u001b[0m\n\u001b[1;32m    663\u001b[0m \u001b[38;5;28;01mexcept\u001b[39;00m (\u001b[38;5;167;01mValueError\u001b[39;00m, \u001b[38;5;167;01mTypeError\u001b[39;00m):\n\u001b[1;32m    664\u001b[0m   \u001b[38;5;28;01mreturn\u001b[39;00m \u001b[38;5;28;01mNone\u001b[39;00m\n\u001b[1;32m    665\u001b[0m \u001b[38;5;28;01mreturn\u001b[39;00m \u001b[38;5;28mtuple\u001b[39m(\u001b[38;5;124mf\u001b[39m\u001b[38;5;124m'\u001b[39m\u001b[38;5;132;01m{\u001b[39;00mname\u001b[38;5;132;01m}\u001b[39;00m\u001b[38;5;132;01m{\u001b[39;00mkeystr(path)\u001b[38;5;132;01m}\u001b[39;00m\u001b[38;5;124m'\u001b[39m \u001b[38;5;28;01mfor\u001b[39;00m name, x \u001b[38;5;129;01min\u001b[39;00m ba\u001b[38;5;241m.\u001b[39marguments\u001b[38;5;241m.\u001b[39mitems()\n\u001b[0;32m--> 666\u001b[0m              \u001b[38;5;28;01mfor\u001b[39;00m path, l \u001b[38;5;129;01min\u001b[39;00m \u001b[43mgenerate_key_paths\u001b[49m\u001b[43m(\u001b[49m\u001b[43mx\u001b[49m\u001b[43m)\u001b[49m \u001b[38;5;28;01mif\u001b[39;00m l \u001b[38;5;129;01mis\u001b[39;00m \u001b[38;5;129;01mnot\u001b[39;00m static)\n",
      "File \u001b[0;32m~/.cache/pypoetry/virtualenvs/micrlhf-progress-_SD4q1c9-py3.12/lib/python3.12/site-packages/jax/_src/tree_util.py:937\u001b[0m, in \u001b[0;36mgenerate_key_paths\u001b[0;34m(tree, is_leaf)\u001b[0m\n\u001b[1;32m    934\u001b[0m \u001b[38;5;28;01mdef\u001b[39;00m \u001b[38;5;21mgenerate_key_paths\u001b[39m(\n\u001b[1;32m    935\u001b[0m     tree: Any, is_leaf: Callable[[Any], \u001b[38;5;28mbool\u001b[39m] \u001b[38;5;241m|\u001b[39m \u001b[38;5;28;01mNone\u001b[39;00m \u001b[38;5;241m=\u001b[39m \u001b[38;5;28;01mNone\u001b[39;00m\n\u001b[1;32m    936\u001b[0m ) \u001b[38;5;241m-\u001b[39m\u001b[38;5;241m>\u001b[39m \u001b[38;5;28mlist\u001b[39m[\u001b[38;5;28mtuple\u001b[39m[KeyPath, Any]]:\n\u001b[0;32m--> 937\u001b[0m   \u001b[38;5;28;01mreturn\u001b[39;00m \u001b[38;5;28;43mlist\u001b[39;49m\u001b[43m(\u001b[49m\u001b[43m_generate_key_paths_\u001b[49m\u001b[43m(\u001b[49m\u001b[43m(\u001b[49m\u001b[43m)\u001b[49m\u001b[43m,\u001b[49m\u001b[43m \u001b[49m\u001b[43mtree\u001b[49m\u001b[43m,\u001b[49m\u001b[43m \u001b[49m\u001b[43mis_leaf\u001b[49m\u001b[43m)\u001b[49m\u001b[43m)\u001b[49m\n",
      "File \u001b[0;32m~/.cache/pypoetry/virtualenvs/micrlhf-progress-_SD4q1c9-py3.12/lib/python3.12/site-packages/jax/_src/tree_util.py:954\u001b[0m, in \u001b[0;36m_generate_key_paths_\u001b[0;34m(key_path, tree, is_leaf)\u001b[0m\n\u001b[1;32m    952\u001b[0m   key_children, _ \u001b[38;5;241m=\u001b[39m key_handler\u001b[38;5;241m.\u001b[39mflatten_with_keys(tree)\n\u001b[1;32m    953\u001b[0m   \u001b[38;5;28;01mfor\u001b[39;00m k, c \u001b[38;5;129;01min\u001b[39;00m key_children:\n\u001b[0;32m--> 954\u001b[0m     \u001b[38;5;28;01myield from\u001b[39;00m _generate_key_paths_((\u001b[38;5;241m*\u001b[39mkey_path, k), c, is_leaf)\n\u001b[1;32m    955\u001b[0m   \u001b[38;5;28;01mreturn\u001b[39;00m\n\u001b[1;32m    957\u001b[0m flat \u001b[38;5;241m=\u001b[39m default_registry\u001b[38;5;241m.\u001b[39mflatten_one_level(tree)\n",
      "File \u001b[0;32m~/.cache/pypoetry/virtualenvs/micrlhf-progress-_SD4q1c9-py3.12/lib/python3.12/site-packages/jax/_src/tree_util.py:954\u001b[0m, in \u001b[0;36m_generate_key_paths_\u001b[0;34m(key_path, tree, is_leaf)\u001b[0m\n\u001b[1;32m    952\u001b[0m   key_children, _ \u001b[38;5;241m=\u001b[39m key_handler\u001b[38;5;241m.\u001b[39mflatten_with_keys(tree)\n\u001b[1;32m    953\u001b[0m   \u001b[38;5;28;01mfor\u001b[39;00m k, c \u001b[38;5;129;01min\u001b[39;00m key_children:\n\u001b[0;32m--> 954\u001b[0m     \u001b[38;5;28;01myield from\u001b[39;00m _generate_key_paths_((\u001b[38;5;241m*\u001b[39mkey_path, k), c, is_leaf)\n\u001b[1;32m    955\u001b[0m   \u001b[38;5;28;01mreturn\u001b[39;00m\n\u001b[1;32m    957\u001b[0m flat \u001b[38;5;241m=\u001b[39m default_registry\u001b[38;5;241m.\u001b[39mflatten_one_level(tree)\n",
      "    \u001b[0;31m[... skipping similar frames: _generate_key_paths_ at line 954 (5 times)]\u001b[0m\n",
      "File \u001b[0;32m~/.cache/pypoetry/virtualenvs/micrlhf-progress-_SD4q1c9-py3.12/lib/python3.12/site-packages/jax/_src/tree_util.py:954\u001b[0m, in \u001b[0;36m_generate_key_paths_\u001b[0;34m(key_path, tree, is_leaf)\u001b[0m\n\u001b[1;32m    952\u001b[0m   key_children, _ \u001b[38;5;241m=\u001b[39m key_handler\u001b[38;5;241m.\u001b[39mflatten_with_keys(tree)\n\u001b[1;32m    953\u001b[0m   \u001b[38;5;28;01mfor\u001b[39;00m k, c \u001b[38;5;129;01min\u001b[39;00m key_children:\n\u001b[0;32m--> 954\u001b[0m     \u001b[38;5;28;01myield from\u001b[39;00m _generate_key_paths_((\u001b[38;5;241m*\u001b[39mkey_path, k), c, is_leaf)\n\u001b[1;32m    955\u001b[0m   \u001b[38;5;28;01mreturn\u001b[39;00m\n\u001b[1;32m    957\u001b[0m flat \u001b[38;5;241m=\u001b[39m default_registry\u001b[38;5;241m.\u001b[39mflatten_one_level(tree)\n",
      "File \u001b[0;32m~/.cache/pypoetry/virtualenvs/micrlhf-progress-_SD4q1c9-py3.12/lib/python3.12/site-packages/jax/_src/tree_util.py:952\u001b[0m, in \u001b[0;36m_generate_key_paths_\u001b[0;34m(key_path, tree, is_leaf)\u001b[0m\n\u001b[1;32m    950\u001b[0m key_handler \u001b[38;5;241m=\u001b[39m _registry_with_keypaths\u001b[38;5;241m.\u001b[39mget(\u001b[38;5;28mtype\u001b[39m(tree))\n\u001b[1;32m    951\u001b[0m \u001b[38;5;28;01mif\u001b[39;00m key_handler:\n\u001b[0;32m--> 952\u001b[0m   key_children, _ \u001b[38;5;241m=\u001b[39m \u001b[43mkey_handler\u001b[49m\u001b[38;5;241;43m.\u001b[39;49m\u001b[43mflatten_with_keys\u001b[49m\u001b[43m(\u001b[49m\u001b[43mtree\u001b[49m\u001b[43m)\u001b[49m\n\u001b[1;32m    953\u001b[0m   \u001b[38;5;28;01mfor\u001b[39;00m k, c \u001b[38;5;129;01min\u001b[39;00m key_children:\n\u001b[1;32m    954\u001b[0m     \u001b[38;5;28;01myield from\u001b[39;00m _generate_key_paths_((\u001b[38;5;241m*\u001b[39mkey_path, k), c, is_leaf)\n",
      "File \u001b[0;32m~/.cache/pypoetry/virtualenvs/micrlhf-progress-_SD4q1c9-py3.12/lib/python3.12/site-packages/penzai/core/struct.py:597\u001b[0m, in \u001b[0;36mStruct.tree_flatten_with_keys\u001b[0;34m(self)\u001b[0m\n\u001b[1;32m    594\u001b[0m   \u001b[38;5;28;01melse\u001b[39;00m:\n\u001b[1;32m    595\u001b[0m     child_field_names\u001b[38;5;241m.\u001b[39mappend(field_\u001b[38;5;241m.\u001b[39mname)\n\u001b[1;32m    596\u001b[0m     children\u001b[38;5;241m.\u001b[39mappend((\n\u001b[0;32m--> 597\u001b[0m         \u001b[38;5;28;43mself\u001b[39;49m\u001b[38;5;241;43m.\u001b[39;49m\u001b[43mkey_for_field\u001b[49m\u001b[43m(\u001b[49m\u001b[43mfield_\u001b[49m\u001b[38;5;241;43m.\u001b[39;49m\u001b[43mname\u001b[49m\u001b[43m)\u001b[49m,\n\u001b[1;32m    598\u001b[0m         value,\n\u001b[1;32m    599\u001b[0m     ))\n\u001b[1;32m    600\u001b[0m \u001b[38;5;28;01mreturn\u001b[39;00m children, StructStaticMetadata(child_field_names, static_fields)\n",
      "File \u001b[0;32m~/.cache/pypoetry/virtualenvs/micrlhf-progress-_SD4q1c9-py3.12/lib/python3.12/site-packages/penzai/core/struct.py:567\u001b[0m, in \u001b[0;36mStruct.key_for_field\u001b[0;34m(self, field_name)\u001b[0m\n\u001b[1;32m    556\u001b[0m \u001b[38;5;28;01mdef\u001b[39;00m \u001b[38;5;21mkey_for_field\u001b[39m(\u001b[38;5;28mself\u001b[39m, field_name: \u001b[38;5;28mstr\u001b[39m) \u001b[38;5;241m-\u001b[39m\u001b[38;5;241m>\u001b[39m Hashable:\n\u001b[1;32m    557\u001b[0m \u001b[38;5;250m  \u001b[39m\u001b[38;5;124;03m\"\"\"Generates a JAX PyTree key for a given field name.\u001b[39;00m\n\u001b[1;32m    558\u001b[0m \n\u001b[1;32m    559\u001b[0m \u001b[38;5;124;03m  This can be overridden if more control over JAX key paths is needed.\u001b[39;00m\n\u001b[0;32m   (...)\u001b[0m\n\u001b[1;32m    565\u001b[0m \u001b[38;5;124;03m    A hashable key to use in JAX PyTree paths.\u001b[39;00m\n\u001b[1;32m    566\u001b[0m \u001b[38;5;124;03m  \"\"\"\u001b[39;00m\n\u001b[0;32m--> 567\u001b[0m   \u001b[38;5;28;01mreturn\u001b[39;00m \u001b[43mjax\u001b[49m\u001b[38;5;241;43m.\u001b[39;49m\u001b[43mtree_util\u001b[49m\u001b[38;5;241;43m.\u001b[39;49m\u001b[43mGetAttrKey\u001b[49m\u001b[43m(\u001b[49m\u001b[43mfield_name\u001b[49m\u001b[43m)\u001b[49m\n",
      "File \u001b[0;32m<string>:2\u001b[0m, in \u001b[0;36m__init__\u001b[0;34m(self, name)\u001b[0m\n",
      "\u001b[0;31mKeyboardInterrupt\u001b[0m: "
     ]
    }
   ],
   "source": [
    "iterations = 1000\n",
    "\n",
    "weights = jnp.ones(dictionary.shape[0]) * 0.1\n",
    "opt_state = optimizer.init(weights)\n",
    "\n",
    "\n",
    "for _ in (bar := trange(iterations)):\n",
    "    loss, weights, opt_state, metrics = train_step(weights, opt_state, dictionary, inputs, target_tokens)\n",
    "\n",
    "    tk = jax.lax.top_k(weights, 2)\n",
    "\n",
    "    bar.set_postfix(loss_optim=loss, **metrics, top=tk[1][0], top_diff=(tk[0][0] - tk[0][1]) / tk[0][0])"
   ]
  },
  {
   "cell_type": "code",
   "execution_count": 75,
   "metadata": {},
   "outputs": [
    {
     "data": {
      "text/html": [
       "<div id=\"output_73086be88e4c4299ac17d81274084052\"><script> /* penzai.treescope rendering of a Python object (compressed) */ (()=>{ let observer; let lastStep = new Promise((resolve, reject) => { observer = new IntersectionObserver((entries) => { for (const entry of entries) { if (entry.isIntersecting) { resolve(); observer.disconnect(); return; } } }, {rootMargin: \"1000px\"}); }); window.treescope_decompress_enqueue = (encoded, destId) => { const previous = lastStep; const destElt = document.getElementById(destId); lastStep = (async () => { await previous; let blob = new Blob([ Uint8Array.from(atob(encoded), (m) => m.codePointAt(0)) ]); let reader = blob.stream().pipeThrough( new DecompressionStream(\"deflate\") ).pipeThrough( new TextDecoderStream(\"utf-8\") ).getReader(); let parts = []; while (true) { let step = await reader.read(); if (step.done) { break; } parts.push(step.value); } let newElt = document.createElement(\"div\"); newElt.innerHTML = parts.join(\"\"); destElt.parentNode.replaceChild(newElt, destElt); for (let oldScript of newElt.querySelectorAll(\"script\")) { let newScript = document.createElement(\"script\"); newScript.type = oldScript.type; newScript.textContent = oldScript.textContent; oldScript.parentNode.replaceChild(newScript, oldScript); } })(); requestAnimationFrame(() => { observer.observe(destElt); }); } })(); </script><div id=\"compress_html_4f225a17d97c469b9118e61584859170\"><script>window.treescope_decompress_enqueue(\"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\", \"compress_html_4f225a17d97c469b9118e61584859170\");</script><span style=\"color: #aaaaaa; font-family: monospace\">(Loading...)</span></div></div>"
      ],
      "text/plain": [
       "<IPython.core.display.HTML object>"
      ]
     },
     "metadata": {},
     "output_type": "display_data"
    },
    {
     "data": {
      "text/html": [
       "<div id=\"compress_html_f684a44e2cb24c89a8f04273b0b0092b\"><script>window.treescope_decompress_enqueue(\"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\", \"compress_html_f684a44e2cb24c89a8f04273b0b0092b\");</script></div>"
      ],
      "text/plain": [
       "<IPython.core.display.HTML object>"
      ]
     },
     "metadata": {},
     "output_type": "display_data"
    },
    {
     "data": {
      "text/html": [
       "<div id=\"output_dest_73086be88e4c4299ac17d81274084052\"><script> (()=>{ const output = document.getElementById(\"output_73086be88e4c4299ac17d81274084052\"); const dest = document.getElementById(\"output_dest_73086be88e4c4299ac17d81274084052\"); dest.parentNode.replaceChild(output, dest); })(); </script></div>"
      ],
      "text/plain": [
       "(# jax.Array float32(10,) ≈0.5 ±0.21 [≥0.24, ≤1.0] nonzero:10\n",
       "   Array([1.        , 0.6614971 , 0.5895294 , 0.58883697, 0.47694254,\n",
       "          0.39752287, 0.37097675, 0.35636994, 0.34562612, 0.24190469],      dtype=float32)\n",
       " ,\n",
       " # jax.Array int32(10,) [≥4_259, ≤42_488] nonzero:10\n",
       "   Array([10430, 29690, 18590, 37312, 42432, 33218, 42488, 14763,  4259,\n",
       "           8934], dtype=int32)\n",
       " )"
      ]
     },
     "execution_count": 75,
     "metadata": {},
     "output_type": "execute_result"
    }
   ],
   "source": [
    "_, i = jax.lax.top_k(jnp.abs(weights), 10)\n",
    "weights[i] / jnp.abs(weights).max(), i"
   ]
  },
  {
   "cell_type": "code",
   "execution_count": 80,
   "metadata": {},
   "outputs": [
    {
     "name": "stdout",
     "output_type": "stream",
     "text": [
      "wor mon o general tarde g cur number pet fut mat cort ries time estud vest organiz s población do at mon c require corte fund ver something natur indust redu jug\n",
      "pre din esc general ma gobierno cur cart ace fut mat cort ries h estud lle organiz sim población méd at din lle ex corte fond ver algo amb indust redu jug\n"
     ]
    },
    {
     "data": {
      "text/html": [
       "<div id=\"output_a0fbe959f4fd49efb32256747894f172\"><script> /* penzai.treescope rendering of a Python object (compressed) */ (()=>{ let observer; let lastStep = new Promise((resolve, reject) => { observer = new IntersectionObserver((entries) => { for (const entry of entries) { if (entry.isIntersecting) { resolve(); observer.disconnect(); return; } } }, {rootMargin: \"1000px\"}); }); window.treescope_decompress_enqueue = (encoded, destId) => { const previous = lastStep; const destElt = document.getElementById(destId); lastStep = (async () => { await previous; let blob = new Blob([ Uint8Array.from(atob(encoded), (m) => m.codePointAt(0)) ]); let reader = blob.stream().pipeThrough( new DecompressionStream(\"deflate\") ).pipeThrough( new TextDecoderStream(\"utf-8\") ).getReader(); let parts = []; while (true) { let step = await reader.read(); if (step.done) { break; } parts.push(step.value); } let newElt = document.createElement(\"div\"); newElt.innerHTML = parts.join(\"\"); destElt.parentNode.replaceChild(newElt, destElt); for (let oldScript of newElt.querySelectorAll(\"script\")) { let newScript = document.createElement(\"script\"); newScript.type = oldScript.type; newScript.textContent = oldScript.textContent; oldScript.parentNode.replaceChild(newScript, oldScript); } })(); requestAnimationFrame(() => { observer.observe(destElt); }); } })(); </script><div id=\"compress_html_aedfb42272db4f439f7875306a18c9ca\"><script>window.treescope_decompress_enqueue(\"eNrFWAtT4koW/is93KoRrsNTQQWxNiAvR3QUZ3Tcu0V1kk7SknTHToeIt/zve7oD8hBn7t2d2pUqgc55fOfdh+NIznxyUpCCkMjiIRkLziX6E4U8opJyVkeC+FjSKWkghzOZd3BA/VkdBZzxKMQWnCcelSSvv9RRKODEp5HMa9F5OQvhlHEGxya2Jq7gMbPzFve5qKesDTT/ZvpAAPKoLb06cqgEMiYJkw0UYOFSlveJI+uoYnlKByN5j1DXg5NyodpAL8fF1JzjyBI0lCeIOiibUGbzZGkhajabCCAQBwTYObD1LQX686Xx5rgwDgmzKXMNS3kmArJ//uunZH3MbF+JZLHvb6F2iRxveL+JsgunjyXPoeYJgCz+js45n0AQBJIeQZqScZsU0O9F5BOJ5rwrrDo0oDybPvvQRDa34gAcWjC5PUMfP6IP6knB8nEUnUPQCsrhmLIom1kHlckh5aqFDsUUYgGSOj4JdIReQLOMBdMP4esWW0XMRpwzZWDCxWRuGaiMJCC7hSP1aO1YUksdhkSA4QFmFikwnmRzr6a9eYLyKdMx2qsoyNtyYDOUBZ8wV3qQGqi0LSN+HNPUbuUB4kdkCd2LmcL+U+WRRx2pTNIc6sMLvP4qhuyCUpDHmETSYDTAiqIrcECyqV9zue0R2YQSxpGXxqbxVxy3ANFMXfF3XPfXYW8FThhwxeSUOEQIYt+QIIS0J9HbBAp9dfia+MAmZiPiE0tyYfg+JPqcd7UJxmwcQaZmcg1dcFlVXyAJcUcLVIbC+0rdCBLwKVmrmhUZ71VCdoFVyXcEfyaqOLTktPGtw81m0samRCoO+LZqmiUImDEvyFVa+FRQfRiIUyX62/ycPMl2qmzl8fKwoeGktX6h2o0g4C2LtKH87CxI+KQIVJzejZXkruunbWSsu78EYLrLwQnx5SdEpiB97gqVdvp7YUJmqiIzIrNoPUC84vNUbjbzKnMcAMDMAscLgnmQDoJjm06RZmxu9jUksQmAyVMzU8ogzkApoGcrdNvxZ6VHowXyDIycdJDa84Qcayd53LeJ0LmoB9xv+EC95qNUs9QRldinFuAtOECOTVCl+vo7Q/gFrZONU3RAbdMIlM4Ww3aTEJ0gH5vEr9dNAjlNVlBZ+q+xVV86cfNlNXLng7nUWOqiTM9h0+dqcr+r04PiEG8121hMIoJdcDV7y11nXGY3jjwcZU+0zJOtftA8dcsj1gSGew79nltiUKzbmRb0awh1+tfRzh+Vqmnt/D/hrTO9C7L2PwCp4qgUxyJSAQw5BQRii14a/Tq1uhS0oryut+i9HP81WpfmqT74VkuBRmOHikiOORur9N9SWj8qpUKlqqppa6jQfw0/jfgmRGXV2h1aF/RLIfEIG0M1+jiMiP3zLvK3Af1AQ9o7tA5NRJ5CuB28S/MrcGxTMTf0H/P1xlLhW1t1doYwVgXFPhrNApPDfeIylgqWjRaTs83D2c56W2fqVurPz5L5nrJfguYZCauOYuFnbSxxXT0vJtxxKg0TR6S2/8kuHfWGrtEy9N/gyjC4/tS6TuB/v2sYHeNHf63AMNwJ/2wPOq128t0wbr63z4zhoNU2uu7ToH/uyag1pMTd657eVc4Hte/TURjTL8PqTfnsbnD9bTi9HT7LL7Nut717605uaOu05NHTq/isY/ceSn2z6EwHdvj4ueY93lJ6FQ9Zz+s7X6Xxtda6EPtGd8AmnZr1NY7Z7nX10YomydTp+sXHJ7fDD13zLOkdlvtGkRnX1XMhzsrXu+5z6douGWdO2b04aCe9h4pb4rP4+uAg6JRrSf/u6NJ1Q3Izme2TgflctUxx2ZPYcK8GF8kpjmbRVTwY3N12uonx5SocfLe/Fou77sHNwd2eLDmfvzwa0yrIPDcuDoxhYgTu8/VoN74fkc7dU8WpWc8X+9f9WTVuGZ+fWw9hN9yj/at2p3Qff9kfHTCndd7pd4eBQXcPp52Kx8rewa75Lbl7SPpietr72mYPTqfjyt1L6973D6pH7bOkdegd7Q+HvdFe795wg0H1oXV1JG96pH/UabUGvb1Td/+6+N2amUYPYvrtc9G46mGDDNu+0X/uXLr30q21vriXl4PT1oReVUm3dddudS1aCj3BQwa5Ed53TsvP5cnIaTvSm31mfRt3o75Tugh6nYtayzYev30LsYxG94FtY3pUcZ6P9r/Sh8daGIjaJf/eHlHRC6Znvb3R7Wiv26lYrSvnZrfv87C3342SKnYfa4f0nowu/PCWtfoDYg8FiW8fe+2gfNsVk9HoqVqp3d5GiQGIckhvZDK7o9N6J/cryhduYjMzlhLWx21Navl423jMoMwGFbTsCFrBVuI/SHnfzjT+0yYAxW5OKHDqZhDArdGD9aeOMJPATqHG7ddfPH4jJfVqvB2oKTd9hk5SKhyRYNPKdBJvsWL7xWrJWUhwNLbgxgmOfeXHjly7py5uhD/SucGzrnLV9WiKRTafV90ujxkEVu95udVjpUQtwAKzxdzUYlE5QgQ8loe5xWP590x5RQCBocT+sI5Eq0QfaBByITF7I9sUfKInVzhbXnt+7t0VthV/LsL85ieqN8uSpxdkzZ+aBosSdDdmoWyqYf1XE7DkhqvEA7I5AnUWEalBKZcqHDjBVCKGp9TFsEjCEkVDk2NhFxJBJbmBe052KQsiMZe1XLawbWczK/7WeyWRNzQgEJjXRfYN32Ix3mB9+YQqpVJJtwYLS8uDpS+3jV/rXXFqZglufXXNQnh/Q11MfUgGyZEi/qBrEi4+LMa+P4PbRCQJtlVO7K76br4yLvdFlUqI2s3M6z5Xs01cLVcr5Yp5tH9waB+VrLJ1iGsHplVxDp1yZs403zLX16DN2xgQp73vmLIwlkit482M7nYmf8psFTJvjPAwbYonx0XNDO9zWav6t+2hmZOPvmw84KeCIQSeIdPxOZblGsSuUCigj65UHgAhJxtvq4LXrlHrRu8sy2AHNum2inZz5weprXfo3A56rcdmJuvjwLSx3vbr+n8ug3TJNDMrhQv9eAular6bbQYodYhhAsLqujNHfLLd0KJNp++X5nu/OWVzr4nzb3ZsMRM=\", \"compress_html_aedfb42272db4f439f7875306a18c9ca\");</script><span style=\"color: #aaaaaa; font-family: monospace\">(Loading...)</span></div></div>"
      ],
      "text/plain": [
       "<IPython.core.display.HTML object>"
      ]
     },
     "metadata": {},
     "output_type": "display_data"
    },
    {
     "data": {
      "text/html": [
       "<div id=\"compress_html_4c0e1184bb3340d68ceb803a5fab8c5b\"><script>window.treescope_decompress_enqueue(\"eNrtWG1v2zYQ/iuEijVSG6uWazuOHRvY0g3ol34YBuxDUQgUSVtcaFKj6Ly06H/fkZQly3YcN0tTDFgC2JZ47/fw7sgLyq9Rae4EmwaUl4XAd2MklWQB4nQazJVOKZszrRlNhzTDg2TQS3rZef9sRM+7JCEjPDzLSG8+mifB7KIssIRPK28WZ8oYtRRcsrFUJoznSlCcCZZKRdk4x2U4EzhjYtZeSY1aLITnGZOckStGowi9itAXVGBKuVx0jCrGqBsnA7acIKuhkzO+yM0YJbF79zUmSoDxOMs0uwZO9zhGL4ajHu52GwKilksmTXqTM5myW7CfMvpk9q61YvfXaJWrZcb0BkH3fJQMhg1BaTT4uSnhbQKxrwkgHdbthiATmFxNUAafC61WknaqhWusw04nE4pc+VcRUClNmfZRTIpbVCrB6SFKn8qHiL+iOL8rmAbLrlLNlsqwNFfX4Oi20btmqitB8nDU/8mmtT9ASffcS7zBZVoSrYQAdqPiOdelSQ0nV0dLPe/HiZXbPUfJ22F8tlewy99BddGOQqOxLLnhSo53lKOkRAyXrMNlR63MKZoraTo3DqZbazarOclT2D2EpYLNzQbU7aPF+oDkbTrtJDWE2m+AmpIDkqUBY0nOxdNBuq4SLvcTtMR6AW54MwkWJOyRHHUsVHyc23ZoJr+bKRVYvSkUIMuoQ+wL1rX/Nih/r7CQeMnSQrM5vwUhLi0l/8xs6Ea+dpQGWz21xXXevQY0Q22SZw9uN+6T3If3AVufJ9i+Jjir9laGVt12fgBMRY5eoTABdzZZKrklULEoiuoYNKyd43nXetf1y3HWItdvO9XrZ4xmU4FdBDsaU74qKwcTtgTv7nfMWfrvjHgQ4l9aTcLn1+6lI5rEYeKvMUj8LkNBk+RDc4Fr9K5OQ4stNoFtxx4XWqMZK4kqoMYqZeKaOF2CJeiABC6tTt9dLBFY+yDhMcrulVOZfPHGj1xu/kJE4LKcBm0zq+FsPeu1sgLjBc1G/QGe7MMbBHQStEW3UoN4mfouqaRrjEDsU3jBZbEyyMBMMA1c0jJ1G+wVUuUXWN84pra+ZqowsHOZCRDFBneu2F2BTT4NtsxrdekKbajdYINjYlUtbvWMYFYw+RnzJnOwdwqwpIRxZ46FsJNADClxs7D/+qDM72vphXU6bK9fvKkitqH3xErNVoBpeYKUvBQwg0xPGqU5jKoQPUuVErsYmpyX0YmPjX09DUKBlxnFyEJr7D6joIFATThGJ3soTyaoosESEIj9nHNyCQzIxh1+1yN/25vN6G0XGtQuNMEB6h1SBTMOl1jAcFno6TdBJG7x7gNMNXMHs5cvbntnk5+1xndhpxcPe4NTRB2Is7lQ2CTDyJO0vT7dRRTIFbgoGQ1maF9sWoeO4Bmy347C8VjY4ns8Mo7Eyf2Zh1PpI/PO6d6s+6NYMDvv99+ORt3eYHg2GPX/y6nl9DGJBa4fmFa3vR6ZWMt7qEE9fT86cHUQHITBi71Y2Wkwf+HbdQNxZehAlzgEtGDn6HVwPZg9XQI2b1+gogozcQvIF07rn3PMP75cmMkBCP3ArWQ9e8xmcnxPtZ2O3WpbcTr9P5ZHha01LTZ3lmjrpiWYRd+WidbQ/uD2qLfEvSPH7iZZf1F+DeIJqDGzMIzQdIa+ECVLKHVu576nJZqij8HxN7mfJp7fZgJYb6BQqJuNgReEpu2DS4ioIitbD+3ir4LZn7/cvadhbcPH7id7dvWS5xovLAlIrxmJZtiwd9XjbxVFWPNYPZcCjjzAtOaPcQHjOL20BSx0wCGW4gPU8NDolTstz5VGoWAGcWDsTuDroolMLJhcGDj989ev7WnS0vnFTS33+sQ/gQLLU6qVJuwdv970aIvN3acH6DXa4vePMcxWAvD2Jzd5WIvzN5CVFOcmMDSr9pr1moXuTsAfIDeE1AGzy5ElAsx4nKzxspNaJv9esRV7V2HlD7YEeYaVYVTz/gPU55Db\", \"compress_html_4c0e1184bb3340d68ceb803a5fab8c5b\");</script></div>"
      ],
      "text/plain": [
       "<IPython.core.display.HTML object>"
      ]
     },
     "metadata": {},
     "output_type": "display_data"
    },
    {
     "data": {
      "text/html": [
       "<div id=\"output_dest_a0fbe959f4fd49efb32256747894f172\"><script> (()=>{ const output = document.getElementById(\"output_a0fbe959f4fd49efb32256747894f172\"); const dest = document.getElementById(\"output_dest_a0fbe959f4fd49efb32256747894f172\"); dest.parentNode.replaceChild(output, dest); })(); </script></div>"
      ],
      "text/plain": [
       "<jax.Array(-2.625, dtype=bfloat16)>"
      ]
     },
     "execution_count": 80,
     "metadata": {},
     "output_type": "execute_result"
    }
   ],
   "source": [
    "pairs = tasks[task]\n",
    "pairs = [list(x) for x in pairs.items()]\n",
    "dataset = ICLDataset(pairs, size=batch_size, n_prepended=0, bidirectional=False, seed=10)\n",
    "\n",
    "\n",
    "tokenized = tokenizer.batch_encode_plus([prompt.format(x) for x in dataset.prompts], padding=\"longest\", max_length=max_seq_len, truncation=True, return_tensors=\"np\")\n",
    "inputs = tokenized_to_inputs(\n",
    "    **tokenized\n",
    ")\n",
    "\n",
    "target_tokens = [x[1] for x in tokenizer(dataset.completions)[\"input_ids\"]]\n",
    "target_tokens = jnp.asarray(target_tokens)\n",
    "\n",
    "# weights, recon = grad_pursuit(tv * 2, sae[\"W_dec\"], k, pos_only=True)\n",
    "\n",
    "recon = sae[\"W_dec\"][37312] * 20\n",
    "\n",
    "act_add = add_vector(\n",
    "    llama, recon.astype('bfloat16'), layer_target, scale=1.0, position=\"last\"\n",
    ")\n",
    "\n",
    "logits = act_add(inputs).unwrap(\"batch\", \"seq\", \"vocabulary\")\n",
    "\n",
    "\n",
    "logprobs = jax.nn.log_softmax(logits, axis=-1)\n",
    "answer_logprobs = logprobs[:, -1]\n",
    "\n",
    "target_logprobs = jnp.take_along_axis(answer_logprobs, target_tokens[:, None], axis=-1).squeeze()\n",
    "\n",
    "print(\n",
    "    tokenizer.decode(answer_logprobs.argmax(axis=-1))\n",
    ")\n",
    "\n",
    "print(\n",
    "    tokenizer.decode(target_tokens)\n",
    ")\n",
    "\n",
    "(target_logprobs).mean()\n",
    "\n",
    "# get_logprob_diff(logits.unwrap(\"batch\", \"seq\", \"vocabulary\"), target_tokens, print_results=True)"
   ]
  },
  {
   "cell_type": "code",
   "execution_count": null,
   "metadata": {},
   "outputs": [],
   "source": []
  }
 ],
 "metadata": {
  "kernelspec": {
   "display_name": "micrlhf-progress-_SD4q1c9-py3.12",
   "language": "python",
   "name": "python3"
  },
  "language_info": {
   "codemirror_mode": {
    "name": "ipython",
    "version": 3
   },
   "file_extension": ".py",
   "mimetype": "text/x-python",
   "name": "python",
   "nbconvert_exporter": "python",
   "pygments_lexer": "ipython3",
   "version": "3.12.3"
  }
 },
 "nbformat": 4,
 "nbformat_minor": 2
}
