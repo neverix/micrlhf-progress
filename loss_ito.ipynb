{
 "cells": [
  {
   "cell_type": "code",
   "execution_count": 1,
   "metadata": {},
   "outputs": [],
   "source": [
    "%load_ext autoreload\n",
    "%autoreload 2\n",
    "import penzai\n",
    "from penzai import pz\n",
    "pz.ts.register_as_default()\n",
    "pz.ts.register_autovisualize_magic()\n",
    "pz.enable_interactive_context()"
   ]
  },
  {
   "cell_type": "code",
   "execution_count": 2,
   "metadata": {},
   "outputs": [],
   "source": [
    "import random\n",
    "import dataclasses\n",
    "import jax\n",
    "import optax\n",
    "\n",
    "import jax.numpy as jnp\n",
    "import numpy as np\n",
    "\n",
    "from matplotlib import pyplot as plt\n",
    "from tqdm.auto import tqdm, trange\n",
    "from penzai.data_effects.side_output import SideOutputValue\n",
    "from micrlhf.utils.activation_manipulation import add_vector\n",
    "from micrlhf.utils.load_sae import get_sae\n",
    "from functools import partial"
   ]
  },
  {
   "cell_type": "code",
   "execution_count": 3,
   "metadata": {},
   "outputs": [],
   "source": [
    "filename = \"models/phi-3-16.gguf\"\n",
    "from micrlhf.llama import LlamaTransformer\n",
    "llama = LlamaTransformer.from_pretrained(filename, device_map=\"auto\")"
   ]
  },
  {
   "cell_type": "code",
   "execution_count": 4,
   "metadata": {},
   "outputs": [
    {
     "name": "stderr",
     "output_type": "stream",
     "text": [
      "/home/dmitrii/.cache/pypoetry/virtualenvs/micrlhf-progress-_SD4q1c9-py3.12/lib/python3.12/site-packages/huggingface_hub/file_download.py:1132: FutureWarning: `resume_download` is deprecated and will be removed in version 1.0.0. Downloads always resume when possible. If you want to force a new download, use `force_download=True`.\n",
      "  warnings.warn(\n",
      "Special tokens have been added in the vocabulary, make sure the associated word embeddings are fine-tuned or trained.\n"
     ]
    }
   ],
   "source": [
    "from transformers import AutoTokenizer\n",
    "tokenizer = AutoTokenizer.from_pretrained(\"microsoft/Phi-3-mini-4k-instruct\")\n",
    "tokenizer.pad_token = tokenizer.eos_token\n",
    "tokenizer.padding_side = \"left\""
   ]
  },
  {
   "cell_type": "code",
   "execution_count": 5,
   "metadata": {},
   "outputs": [
    {
     "name": "stderr",
     "output_type": "stream",
     "text": [
      "Cloning into 'itv'...\n",
      "fatal: unable to access 'https://github.com/roeehendel/icl_task_vectors data/itv/': URL using bad/illegal format or missing URL\n"
     ]
    }
   ],
   "source": [
    "from task_vector_utils import load_tasks, ICLDataset, ICLSequence\n",
    "tasks = load_tasks()"
   ]
  },
  {
   "cell_type": "code",
   "execution_count": 6,
   "metadata": {},
   "outputs": [],
   "source": [
    "from micrlhf.llama import LlamaBlock\n",
    "from micrlhf.sampling import sample, jit_wrapper\n",
    "get_resids = llama.select().at_instances_of(LlamaBlock).apply_with_selected_index(lambda i, x:\n",
    "    pz.nn.Sequential([\n",
    "        pz.de.TellIntermediate.from_config(tag=f\"resid_pre_{i}\"),\n",
    "        x\n",
    "    ])\n",
    ")\n",
    "get_resids = pz.de.CollectingSideOutputs.handling(get_resids, tag_predicate=lambda x: x.startswith(\"resid_pre\"))\n",
    "get_resids_call = jit_wrapper.Jitted(get_resids)"
   ]
  },
  {
   "cell_type": "code",
   "execution_count": 7,
   "metadata": {},
   "outputs": [],
   "source": [
    "def tokenized_to_inputs(input_ids, attention_mask):\n",
    "    token_array = jnp.asarray(input_ids)\n",
    "    token_array = jax.device_put(token_array, jax.sharding.NamedSharding(llama.mesh, jax.sharding.PartitionSpec(\"dp\", \"sp\")))\n",
    "    token_array = pz.nx.wrap(token_array, \"batch\", \"seq\").untag(\"batch\").tag(\"batch\")\n",
    "\n",
    "    mask_array = jnp.asarray(attention_mask, dtype=jnp.bool)\n",
    "    mask_array = jax.device_put(mask_array, jax.sharding.NamedSharding(llama.mesh, jax.sharding.PartitionSpec(\"dp\", \"sp\")))\n",
    "    mask_array = pz.nx.wrap(mask_array, \"batch\", \"seq\").untag(\"batch\").tag(\"batch\")\n",
    "\n",
    "    inputs = llama.inputs.from_basic_segments(token_array)\n",
    "    return inputs"
   ]
  },
  {
   "cell_type": "code",
   "execution_count": 8,
   "metadata": {},
   "outputs": [],
   "source": [
    "prompt = \"<user>Follow the pattern\\n{}\""
   ]
  },
  {
   "cell_type": "code",
   "execution_count": 9,
   "metadata": {},
   "outputs": [],
   "source": [
    "\n",
    "target_layer = 17"
   ]
  },
  {
   "cell_type": "code",
   "execution_count": 10,
   "metadata": {},
   "outputs": [],
   "source": [
    "task_names = [\n",
    "    \"en_es\"\n",
    "]\n",
    "\n",
    "task = \"en_es\"\n",
    "\n",
    "n_seeds = 10\n",
    "\n",
    "# n_few_shots, batch_size, max_seq_len = 64, 64, 512\n",
    "n_few_shots, batch_size, max_seq_len = 32, 64, 256"
   ]
  },
  {
   "cell_type": "code",
   "execution_count": 11,
   "metadata": {},
   "outputs": [],
   "source": [
    "def get_logprob_diff(logits: jnp.ndarray, target_tokens, print_results=False):\n",
    "    logprobs = jax.nn.log_softmax(logits, axis=-1)\n",
    "    answer_logprobs = logprobs[:, -1]\n",
    "\n",
    "    target_logprobs = jnp.take_along_axis(answer_logprobs, target_tokens[:, None], axis=-1).squeeze()\n",
    "\n",
    "    if print_results:\n",
    "        print(\n",
    "            tokenizer.decode(answer_logprobs.argmax(axis=-1))\n",
    "        )\n",
    "\n",
    "        print(\n",
    "            tokenizer.decode(target_tokens)\n",
    "        )\n",
    "\n",
    "    return target_logprobs\n"
   ]
  },
  {
   "cell_type": "code",
   "execution_count": 12,
   "metadata": {},
   "outputs": [],
   "source": [
    "from micrlhf.llama import LlamaBlock\n",
    "from functools import partial\n",
    "\n",
    "def make_get_resids(llama, layer_target):\n",
    "    get_resids = llama.select().at_instances_of(LlamaBlock).pick_nth_selected(layer_target\n",
    "                                                                              ).apply(lambda x:\n",
    "        pz.nn.Sequential([\n",
    "            pz.de.TellIntermediate.from_config(tag=f\"resid_pre\"),\n",
    "            x\n",
    "        ])\n",
    "    )\n",
    "    get_resids = pz.de.CollectingSideOutputs.handling(get_resids, tag_predicate=lambda x: x.startswith(\"resid_pre\"))\n",
    "    return get_resids"
   ]
  },
  {
   "cell_type": "code",
   "execution_count": 13,
   "metadata": {},
   "outputs": [],
   "source": [
    "import dataclasses\n",
    "def get_loss(weights, dictionary, inputs, target_tokens, taker, initial_resids):\n",
    "    weights = jax.nn.relu(weights)\n",
    "    \n",
    "\n",
    "    recon = jnp.einsum(\"fv,f->v\", dictionary, weights)\n",
    "    recon = recon.astype('bfloat16')\n",
    "\n",
    "    modified = pz.nx.nmap(lambda a, b: a.at[-1].add(b))(\n",
    "        initial_resids.untag(\"seq\", \"embedding\"), pz.nx.wrap(recon, \"embedding\").untag(\"embedding\")\n",
    "        ).tag(\"seq\", \"embedding\")\n",
    "\n",
    "    inputs = dataclasses.replace(inputs, tokens=modified)\n",
    "\n",
    "    logits = taker(inputs).unwrap(\"batch\", \"seq\", \"vocabulary\")\n",
    "\n",
    "    logprob_diff = get_logprob_diff(logits, target_tokens)\n",
    "    loss = -logprob_diff.mean()\n",
    "\n",
    "    return loss + 2e-2 * jnp.linalg.norm(weights, ord=1), ((weights != 0).sum(), loss)\n",
    "    # return loss, ((weights != 0).sum(), loss)"
   ]
  },
  {
   "cell_type": "code",
   "execution_count": 14,
   "metadata": {},
   "outputs": [],
   "source": [
    "def train_step(weights, opt_state, dictionary, inputs, target_tokens, taker, initial_resids, optimizer, lwg, pos_only=True):\n",
    "    (loss, (l0, loss_)), grad = lwg(weights, dictionary, inputs, target_tokens, taker, initial_resids)\n",
    "\n",
    "    updates, opt_state = optimizer.update(grad, opt_state, weights)\n",
    "    weights = optax.apply_updates(weights, updates)\n",
    "    # weights_abs = jnp.abs(weights)\n",
    "    # weights = jnp.sign(weights) * jax.nn.relu(weights_abs - shrinkage)\n",
    "\n",
    "    return loss, weights, opt_state, dict(l0=l0, loss=loss_)"
   ]
  },
  {
   "cell_type": "code",
   "execution_count": 15,
   "metadata": {},
   "outputs": [],
   "source": [
    "jittify = lambda x: partial(jax.jit(lambda lr, *args, **kwargs: lr(*args, **kwargs)[1][0].value), x)"
   ]
  },
  {
   "cell_type": "code",
   "execution_count": 16,
   "metadata": {},
   "outputs": [],
   "source": [
    "from task_vector_utils import ICLRunner, logprob_loss, make_act_adder, get_tv\n",
    "\n",
    "class FeatureSearch:\n",
    "    def __init__(self, task, pairs, target_layer, batch_size=32, n_shot=20, early_stopping_steps=50, max_seq_len=256, iterations=2000, seed=9, l1_coeff=1e-2, lr=3e-2, init_w=0.1, sae_v=6, n_first=2):\n",
    "        self.task = task\n",
    "        self.target_layer = target_layer\n",
    "        self.sae = get_sae(target_layer, sae_v)\n",
    "        self.seed = seed\n",
    "        self.early_stopping_steps = early_stopping_steps\n",
    "        self.iterations = iterations\n",
    "        self.l1_coeff = l1_coeff\n",
    "        self.lr = lr\n",
    "        self.init_w = init_w\n",
    "        self.n_shot = n_shot\n",
    "        self.batch_size = batch_size\n",
    "        self.n_first = n_first\n",
    "\n",
    "        self.runner = ICLRunner(task, pairs, batch_size=batch_size, n_shot=n_shot, max_seq_len=max_seq_len, seed=seed)\n",
    "        \n",
    "        self.train_inputs = tokenized_to_inputs(\n",
    "            **self.runner.get_tokens(self.runner.train_pairs, tokenizer)\n",
    "        )\n",
    "\n",
    "        self.eval_inputs = tokenized_to_inputs(\n",
    "            **self.runner.get_tokens(self.runner.eval_pairs, tokenizer)\n",
    "        )\n",
    "\n",
    "        self.eval_tokens = self.runner.get_tokens(self.runner.eval_pairs, tokenizer)[\"input_ids\"]\n",
    "\n",
    "        self.initial_resids = self.get_initial_resids(self.eval_inputs)\n",
    "\n",
    "        self.lwg = jax.value_and_grad(self.get_loss, has_aux=True)\n",
    "        self.taker = self.make_taker()\n",
    "    \n",
    "    def get_initial_resids(self, inputs):\n",
    "        get_resids_initial = make_get_resids(llama, self.target_layer)\n",
    "        get_resids_initial = jittify(get_resids_initial)\n",
    "\n",
    "        initial_resids = get_resids_initial(inputs)\n",
    "        return initial_resids\n",
    "\n",
    "    def make_taker(self):\n",
    "        taker = jit_wrapper.Jitted(llama.select().at_instances_of(LlamaBlock).apply_with_selected_index(\n",
    "            lambda i, x: x if i >= self.target_layer else pz.nn.Identity()\n",
    "        ).select().at_instances_of(pz.nn.EmbeddingLookup).apply(lambda _: pz.nn.Identity())\n",
    "                        .select().at_instances_of(pz.nn.ConstantRescale).pick_nth_selected(0).apply(lambda _: pz.nn.Identity()))\n",
    "\n",
    "        return taker\n",
    "    \n",
    "    def get_loss(self, weights):\n",
    "        weights = jax.nn.relu(weights)\n",
    "\n",
    "        recon = jnp.einsum(\"fv,f->v\", self.sae[\"W_dec\"], weights)\n",
    "        recon = recon.astype('bfloat16')\n",
    "\n",
    "        mask = self.eval_tokens == 1599\n",
    "        positions = jnp.argwhere(mask)[:, -1]\n",
    "        resids = self.initial_resids.unwrap(\"batch\", \"seq\", \"embedding\")\n",
    "\n",
    "\n",
    "        modified = jax.vmap(lambda a, b: a.at[b].add(recon))(\n",
    "            resids, positions\n",
    "        )\n",
    "        modified = pz.nx.wrap(modified, \"batch\", \"seq\", \"embedding\")\n",
    "\n",
    "        inputs = dataclasses.replace(self.eval_inputs, tokens=modified)\n",
    "        logits = self.taker(inputs).unwrap(\"batch\", \"seq\", \"vocabulary\")\n",
    "        loss = logprob_loss(logits, self.eval_tokens, n_first=self.n_first)\n",
    "\n",
    "        return loss + self.l1_coeff * jnp.linalg.norm(weights, ord=1), (int((weights != 0).sum()), loss)\n",
    "\n",
    "    def train_step(self, weights, opt_state, optimizer):\n",
    "        (loss, (l0, loss_)), grad = self.lwg(weights)\n",
    "\n",
    "        updates, opt_state = optimizer.update(grad, opt_state, weights)\n",
    "        weights = optax.apply_updates(weights, updates)\n",
    "\n",
    "        return loss, weights, opt_state, dict(l0=l0, loss=loss_)\n",
    "\n",
    "    def create_optimizer(self):\n",
    "        optimizer = optax.chain(\n",
    "            optax.adam(self.lr),\n",
    "            optax.zero_nans(),\n",
    "        )\n",
    "\n",
    "        return optimizer\n",
    "\n",
    "    def find_weights(self):\n",
    "        weights = jnp.ones(self.sae[\"W_dec\"].shape[0]) * self.init_w\n",
    "        optimizer = self.create_optimizer()\n",
    "        opt_state = optimizer.init(weights)\n",
    "\n",
    "        min_loss = 1e9\n",
    "        early_stopping_counter = 0\n",
    "\n",
    "        for _ in (bar := trange(self.iterations)):\n",
    "            loss, weights, opt_state, metrics = self.train_step(weights, opt_state, optimizer)\n",
    "\n",
    "            if metrics[\"loss\"] < min_loss:\n",
    "                min_loss = metrics[\"loss\"]\n",
    "                early_stopping_counter = 0\n",
    "\n",
    "            tk = jax.lax.top_k(weights, 2)\n",
    "\n",
    "            bar.set_postfix(loss_optim=loss, **metrics, top=tk[1][0], top_diff=(tk[0][0] - tk[0][1]) / tk[0][0])\n",
    "\n",
    "            early_stopping_counter += 1\n",
    "            if early_stopping_counter > self.early_stopping_steps:\n",
    "                break\n",
    "\n",
    "        return weights, metrics\n",
    "    \n",
    "    def check_feature(self, feature, scale):\n",
    "        steering_vector = self.sae[\"W_dec\"][feature] * scale\n",
    "        steering_vector =  steering_vector.astype('bfloat16')\n",
    "\n",
    "        act_add = make_act_adder(\n",
    "            llama, steering_vector, self.eval_tokens, self.target_layer\n",
    "        )\n",
    "\n",
    "        logits = act_add(self.eval_inputs).unwrap(\"batch\", \"seq\", \"vocabulary\")\n",
    "\n",
    "        return logprob_loss(logits, self.eval_tokens, n_first=self.n_first)\n",
    "\n",
    "    def check_features(self, features, scale):\n",
    "        losses = jnp.hstack([self.check_feature(feature, scale) for feature in tqdm(features)])\n",
    "\n",
    "        return features[losses.argmin()], losses.min(), losses.mean(), losses\n",
    "\n",
    "    "
   ]
  },
  {
   "cell_type": "code",
   "execution_count": 58,
   "metadata": {},
   "outputs": [],
   "source": [
    "fs = FeatureSearch(\"en_es\", 18, l1_coeff=5e-3, init_w=0.5, lr=5e-2)"
   ]
  },
  {
   "cell_type": "code",
   "execution_count": 59,
   "metadata": {},
   "outputs": [
    {
     "data": {
      "application/vnd.jupyter.widget-view+json": {
       "model_id": "58aaf57bc4c842f0a131c9d3f4d8e3e5",
       "version_major": 2,
       "version_minor": 0
      },
      "text/plain": [
       "  0%|          | 0/2000 [00:00<?, ?it/s]"
      ]
     },
     "metadata": {},
     "output_type": "display_data"
    }
   ],
   "source": [
    "w = fs.find_weights()"
   ]
  },
  {
   "cell_type": "code",
   "execution_count": 45,
   "metadata": {},
   "outputs": [
    {
     "data": {
      "text/html": [
       "<div id=\"output_16b73b3e524240cf8f23777270e97b55\"><script> /* penzai.treescope rendering of a Python object (compressed) */ (()=>{ let observer; let lastStep = new Promise((resolve, reject) => { observer = new IntersectionObserver((entries) => { for (const entry of entries) { if (entry.isIntersecting) { resolve(); observer.disconnect(); return; } } }, {rootMargin: \"1000px\"}); }); window.treescope_decompress_enqueue = (encoded, destId) => { const previous = lastStep; const destElt = document.getElementById(destId); lastStep = (async () => { await previous; let blob = new Blob([ Uint8Array.from(atob(encoded), (m) => m.codePointAt(0)) ]); let reader = blob.stream().pipeThrough( new DecompressionStream(\"deflate\") ).pipeThrough( new TextDecoderStream(\"utf-8\") ).getReader(); let parts = []; while (true) { let step = await reader.read(); if (step.done) { break; } parts.push(step.value); } let newElt = document.createElement(\"div\"); newElt.innerHTML = parts.join(\"\"); destElt.parentNode.replaceChild(newElt, destElt); for (let oldScript of newElt.querySelectorAll(\"script\")) { let newScript = document.createElement(\"script\"); newScript.type = oldScript.type; newScript.textContent = oldScript.textContent; oldScript.parentNode.replaceChild(newScript, oldScript); } })(); requestAnimationFrame(() => { observer.observe(destElt); }); } })(); </script><div id=\"compress_html_91b7c58a210c48c8a3d48d3845148a9d\"><script>window.treescope_decompress_enqueue(\"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\", \"compress_html_91b7c58a210c48c8a3d48d3845148a9d\");</script><span style=\"color: #aaaaaa; font-family: monospace\">(Loading...)</span></div></div>"
      ],
      "text/plain": [
       "<IPython.core.display.HTML object>"
      ]
     },
     "metadata": {},
     "output_type": "display_data"
    },
    {
     "data": {
      "text/html": [
       "<div id=\"compress_html_ee51e9f6be9b41aa80503cbb755a3df1\"><script>window.treescope_decompress_enqueue(\"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\", \"compress_html_ee51e9f6be9b41aa80503cbb755a3df1\");</script></div>"
      ],
      "text/plain": [
       "<IPython.core.display.HTML object>"
      ]
     },
     "metadata": {},
     "output_type": "display_data"
    },
    {
     "data": {
      "text/html": [
       "<div id=\"output_dest_16b73b3e524240cf8f23777270e97b55\"><script> (()=>{ const output = document.getElementById(\"output_16b73b3e524240cf8f23777270e97b55\"); const dest = document.getElementById(\"output_dest_16b73b3e524240cf8f23777270e97b55\"); dest.parentNode.replaceChild(output, dest); })(); </script></div>"
      ],
      "text/plain": [
       "(# jax.Array float32(49152,) ≈-0.21 ±0.16 [≥-0.38, ≤1.1e+01] nonzero:49_152\n",
       "   Array([-0.1067998 , -0.19951008, -0.13865103, ..., -0.23178048,\n",
       "          -0.21337643, -0.2276923 ], dtype=float32)\n",
       " ,\n",
       " {'l0': 53, 'loss': <jax.Array(1.03125, dtype=bfloat16)>})"
      ]
     },
     "execution_count": 45,
     "metadata": {},
     "output_type": "execute_result"
    }
   ],
   "source": [
    "w"
   ]
  },
  {
   "cell_type": "code",
   "execution_count": 62,
   "metadata": {},
   "outputs": [],
   "source": [
    "_, i = jax.lax.top_k(w[0], 20)"
   ]
  },
  {
   "cell_type": "code",
   "execution_count": 61,
   "metadata": {},
   "outputs": [
    {
     "data": {
      "text/html": [
       "<div id=\"output_cfea33b223624c18a5e9ee2b9eecf726\"><script> /* penzai.treescope rendering of a Python object (compressed) */ (()=>{ let observer; let lastStep = new Promise((resolve, reject) => { observer = new IntersectionObserver((entries) => { for (const entry of entries) { if (entry.isIntersecting) { resolve(); observer.disconnect(); return; } } }, {rootMargin: \"1000px\"}); }); window.treescope_decompress_enqueue = (encoded, destId) => { const previous = lastStep; const destElt = document.getElementById(destId); lastStep = (async () => { await previous; let blob = new Blob([ Uint8Array.from(atob(encoded), (m) => m.codePointAt(0)) ]); let reader = blob.stream().pipeThrough( new DecompressionStream(\"deflate\") ).pipeThrough( new TextDecoderStream(\"utf-8\") ).getReader(); let parts = []; while (true) { let step = await reader.read(); if (step.done) { break; } parts.push(step.value); } let newElt = document.createElement(\"div\"); newElt.innerHTML = parts.join(\"\"); destElt.parentNode.replaceChild(newElt, destElt); for (let oldScript of newElt.querySelectorAll(\"script\")) { let newScript = document.createElement(\"script\"); newScript.type = oldScript.type; newScript.textContent = oldScript.textContent; oldScript.parentNode.replaceChild(newScript, oldScript); } })(); requestAnimationFrame(() => { observer.observe(destElt); }); } })(); </script><div id=\"compress_html_c639ac0307dd4fc59eac8c8b213be811\"><script>window.treescope_decompress_enqueue(\"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\", \"compress_html_c639ac0307dd4fc59eac8c8b213be811\");</script><span style=\"color: #aaaaaa; font-family: monospace\">(Loading...)</span></div></div>"
      ],
      "text/plain": [
       "<IPython.core.display.HTML object>"
      ]
     },
     "metadata": {},
     "output_type": "display_data"
    },
    {
     "data": {
      "text/html": [
       "<div id=\"compress_html_7e1ab09e3ca745dcb9e301767432a0b1\"><script>window.treescope_decompress_enqueue(\"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\", \"compress_html_7e1ab09e3ca745dcb9e301767432a0b1\");</script></div>"
      ],
      "text/plain": [
       "<IPython.core.display.HTML object>"
      ]
     },
     "metadata": {},
     "output_type": "display_data"
    },
    {
     "data": {
      "text/html": [
       "<div id=\"output_dest_cfea33b223624c18a5e9ee2b9eecf726\"><script> (()=>{ const output = document.getElementById(\"output_cfea33b223624c18a5e9ee2b9eecf726\"); const dest = document.getElementById(\"output_dest_cfea33b223624c18a5e9ee2b9eecf726\"); dest.parentNode.replaceChild(output, dest); })(); </script></div>"
      ],
      "text/plain": [
       "[# jax.Array float32(20,) ≈7.2 ±6.5 [≥-0.00092, ≤2.9e+01] nonzero:20\n",
       "   Array([ 2.8505629e+01,  1.5451004e+01,  1.1832121e+01,  1.0702801e+01,\n",
       "           1.0581120e+01,  9.6403446e+00,  8.9214010e+00,  8.9194613e+00,\n",
       "           7.1935472e+00,  6.4322462e+00,  6.1946249e+00,  5.4800415e+00,\n",
       "           4.7244701e+00,  3.8590069e+00,  1.3538325e+00,  1.2137506e+00,\n",
       "           1.0922866e+00,  9.0917087e-01,  8.3833116e-01, -9.1777695e-04],      dtype=float32)\n",
       " ,\n",
       " # jax.Array int32(20,) [≥764, ≤47_066] nonzero:20\n",
       "   Array([  764, 12148, 44541, 26057,  5145, 24856,  7180, 28114, 44867,\n",
       "          25612, 47066, 20311, 28406, 24695, 26165,  9035, 26756,  1312,\n",
       "          13819, 22643], dtype=int32)\n",
       " ]"
      ]
     },
     "execution_count": 61,
     "metadata": {},
     "output_type": "execute_result"
    }
   ],
   "source": [
    "jax.lax.top_k(w[0], 20)"
   ]
  },
  {
   "cell_type": "code",
   "execution_count": 63,
   "metadata": {},
   "outputs": [
    {
     "data": {
      "application/vnd.jupyter.widget-view+json": {
       "model_id": "4f99188ecb6441fbbc0113f369bdf88c",
       "version_major": 2,
       "version_minor": 0
      },
      "text/plain": [
       "  0%|          | 0/20 [00:00<?, ?it/s]"
      ]
     },
     "metadata": {},
     "output_type": "display_data"
    }
   ],
   "source": [
    "r = fs.check_features(i, 20)"
   ]
  },
  {
   "cell_type": "code",
   "execution_count": 64,
   "metadata": {},
   "outputs": [
    {
     "data": {
      "text/html": [
       "<div id=\"output_ea306e4eaf714df08899c1448497790e\"><script> /* penzai.treescope rendering of a Python object (compressed) */ (()=>{ let observer; let lastStep = new Promise((resolve, reject) => { observer = new IntersectionObserver((entries) => { for (const entry of entries) { if (entry.isIntersecting) { resolve(); observer.disconnect(); return; } } }, {rootMargin: \"1000px\"}); }); window.treescope_decompress_enqueue = (encoded, destId) => { const previous = lastStep; const destElt = document.getElementById(destId); lastStep = (async () => { await previous; let blob = new Blob([ Uint8Array.from(atob(encoded), (m) => m.codePointAt(0)) ]); let reader = blob.stream().pipeThrough( new DecompressionStream(\"deflate\") ).pipeThrough( new TextDecoderStream(\"utf-8\") ).getReader(); let parts = []; while (true) { let step = await reader.read(); if (step.done) { break; } parts.push(step.value); } let newElt = document.createElement(\"div\"); newElt.innerHTML = parts.join(\"\"); destElt.parentNode.replaceChild(newElt, destElt); for (let oldScript of newElt.querySelectorAll(\"script\")) { let newScript = document.createElement(\"script\"); newScript.type = oldScript.type; newScript.textContent = oldScript.textContent; oldScript.parentNode.replaceChild(newScript, oldScript); } })(); requestAnimationFrame(() => { observer.observe(destElt); }); } })(); </script><div id=\"compress_html_2a80020baac143a7b91dd6b1e0742260\"><script>window.treescope_decompress_enqueue(\"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\", \"compress_html_2a80020baac143a7b91dd6b1e0742260\");</script><span style=\"color: #aaaaaa; font-family: monospace\">(Loading...)</span></div></div>"
      ],
      "text/plain": [
       "<IPython.core.display.HTML object>"
      ]
     },
     "metadata": {},
     "output_type": "display_data"
    },
    {
     "data": {
      "text/html": [
       "<div id=\"compress_html_25a2cfc764a1481d997c8bd085addddc\"><script>window.treescope_decompress_enqueue(\"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\", \"compress_html_25a2cfc764a1481d997c8bd085addddc\");</script></div>"
      ],
      "text/plain": [
       "<IPython.core.display.HTML object>"
      ]
     },
     "metadata": {},
     "output_type": "display_data"
    },
    {
     "data": {
      "text/html": [
       "<div id=\"output_dest_ea306e4eaf714df08899c1448497790e\"><script> (()=>{ const output = document.getElementById(\"output_ea306e4eaf714df08899c1448497790e\"); const dest = document.getElementById(\"output_dest_ea306e4eaf714df08899c1448497790e\"); dest.parentNode.replaceChild(output, dest); })(); </script></div>"
      ],
      "text/plain": [
       "(<jax.Array(20311, dtype=int32)>,\n",
       " <jax.Array(6.5625, dtype=bfloat16)>,\n",
       " <jax.Array(12.125, dtype=bfloat16)>,\n",
       " # jax.Array bfloat16(20,) ≈1.2e+01 ±1.8 [≥6.6, ≤1.3e+01] nonzero:20\n",
       "   Array([10.4375, 13.375, 13.125, 13.25, 13.125, 9.8125, 13.4375, 10.9375,\n",
       "          12.9375, 13.4375, 11.8125, 6.5625, 9.625, 12.4375, 13.25, 13.0625,\n",
       "          13.3125, 13.25, 12.0625, 13.25], dtype=bfloat16)\n",
       " )"
      ]
     },
     "execution_count": 64,
     "metadata": {},
     "output_type": "execute_result"
    }
   ],
   "source": [
    "r\n"
   ]
  },
  {
   "cell_type": "code",
   "execution_count": 17,
   "metadata": {},
   "outputs": [],
   "source": [
    "import datasets\n",
    "from datasets import load_dataset\n",
    "\n",
    "dataset = load_dataset(\"Helsinki-NLP/opus-100\", \"en-es\", split=\"validation\")"
   ]
  },
  {
   "cell_type": "code",
   "execution_count": 22,
   "metadata": {},
   "outputs": [],
   "source": [
    "sample = dataset.shuffle()[:20]\n",
    "sample = sample[\"translation\"]"
   ]
  },
  {
   "cell_type": "code",
   "execution_count": 23,
   "metadata": {},
   "outputs": [
    {
     "data": {
      "text/html": [
       "<div id=\"output_e64b2e2224b04cd59a6042ff3c71b914\"><script> /* penzai.treescope rendering of a Python object (compressed) */ (()=>{ let observer; let lastStep = new Promise((resolve, reject) => { observer = new IntersectionObserver((entries) => { for (const entry of entries) { if (entry.isIntersecting) { resolve(); observer.disconnect(); return; } } }, {rootMargin: \"1000px\"}); }); window.treescope_decompress_enqueue = (encoded, destId) => { const previous = lastStep; const destElt = document.getElementById(destId); lastStep = (async () => { await previous; let blob = new Blob([ Uint8Array.from(atob(encoded), (m) => m.codePointAt(0)) ]); let reader = blob.stream().pipeThrough( new DecompressionStream(\"deflate\") ).pipeThrough( new TextDecoderStream(\"utf-8\") ).getReader(); let parts = []; while (true) { let step = await reader.read(); if (step.done) { break; } parts.push(step.value); } let newElt = document.createElement(\"div\"); newElt.innerHTML = parts.join(\"\"); destElt.parentNode.replaceChild(newElt, destElt); for (let oldScript of newElt.querySelectorAll(\"script\")) { let newScript = document.createElement(\"script\"); newScript.type = oldScript.type; newScript.textContent = oldScript.textContent; oldScript.parentNode.replaceChild(newScript, oldScript); } })(); requestAnimationFrame(() => { observer.observe(destElt); }); } })(); </script><div id=\"compress_html_a59baa16834a42b3b75c7dc030f8b044\"><script>window.treescope_decompress_enqueue(\"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\", \"compress_html_a59baa16834a42b3b75c7dc030f8b044\");</script><span style=\"color: #aaaaaa; font-family: monospace\">(Loading...)</span></div></div>"
      ],
      "text/plain": [
       "<IPython.core.display.HTML object>"
      ]
     },
     "metadata": {},
     "output_type": "display_data"
    },
    {
     "data": {
      "text/html": [
       "<div id=\"output_dest_e64b2e2224b04cd59a6042ff3c71b914\"><script> (()=>{ const output = document.getElementById(\"output_e64b2e2224b04cd59a6042ff3c71b914\"); const dest = document.getElementById(\"output_dest_e64b2e2224b04cd59a6042ff3c71b914\"); dest.parentNode.replaceChild(output, dest); })(); </script></div>"
      ],
      "text/plain": [
       "[(\"You know it's just a spear, right?\",\n",
       "  'Sabes que es solo una lanza, ¿verdad?'),\n",
       " ('The lists of liqueurs appearing in the second subparagraph of paragraph 5 may be supplemented by the Council acting by a qualified majority on a proposal from the Commission.',\n",
       "  'Las listas de los licores que figuran en el párrafo segundo del apartado 5 podrán ser completadas eventualmente por el Consejo, por mayoría cualificada y a propuesta de la Comisión.'),\n",
       " ('There shall be three security levels, as defined in Regulation (EC) No 725/2004:',\n",
       "  'Existirán tres niveles de protección, según las definiciones del Reglamento (CE) no 725/2004:'),\n",
       " ('The desire of gypsies in each of the Member States to take their affairs into their own hands is becoming more and more evident.',\n",
       "  'Cada día es más evidente el deseo de los gitanos de cada uno de los Estados miembros de la Comunidad de ser artífices de su propio destino.'),\n",
       " (\"I hesitate to say this, and veer into PG-13, but you are the first person I've liked since...\",\n",
       "  'Dudo decir esto y convertirlo en inapropiado para menores de 13, pero eres la primera persona que me ha gustado desde...'),\n",
       " ('Germany regards Comprehensive Safeguards Agreements including the conclusion of an Additional Protocol as the safeguards standard that is demanded by Art. III of the Non-Proliferation Treaty.',\n",
       "  'Alemania considera los Acuerdos de salvaguardias, incluida la conclusión de un Protocolo adicional, la norma de salvaguardias que se exige en el artículo III del Tratado sobre la no proliferación de las armas nucleares.'),\n",
       " (\"Go to your room and think about all the toys you've got!\",\n",
       "  '¡Vete a tú habitación y piensa en toda la cantidad de juguetes que tienes!'),\n",
       " ('The Working Group further requested the Secretariat to review article XIII.4 of the GPA (which recognized the right of the procuring entity to ensure via enquiry of suppliers that they could comply with the conditions of participation and were capable of fulfilling the terms of the contract) and any proposed revised text, in order to take account of the approach set out in those provisions.',\n",
       "  'El Grupo de Trabajo pidió además a la Secretaría que examinara el artículo XIII.4 del ACP (en que se reconoce el derecho de la entidad adjudicadora de cerciorarse, solicitando información a los proveedores, de que éstos reúnen las condiciones requeridas para participar en el proceso de adjudicación y serán capaces de cumplir las condiciones prescritas en el contrato) y toda revisión propuesta con objeto de tener en cuenta el criterio establecido en esas disposiciones.'),\n",
       " ('GOODS AND PEOPLE ARE LANDED HERE, WHICH IS NEW YORK CITY.',\n",
       "  'Bienes y personas desembarcan aquí... la ciudad de Nueva York.'),\n",
       " ('Full-body CTs are awesome.',\n",
       "  'La radiografía de cuerpo entero ha sido increíble.'),\n",
       " (\"That's good, you got it.\", 'Muy bien, los tengo.'),\n",
       " ('Was that part of the plan too?', '¿también era parte del plan?'),\n",
       " ('- Just behave yourself.', '- Comportate.'),\n",
       " ('Today, Jesus calls us to conversion, saying, \"unless you repent you will all likewise perish\" (Lk 3:3).',\n",
       "  'Jesús nos llama hoy a la conversión y dice: \"si no os arrepentís, todos pereceréis\" (Lc 13, 3).'),\n",
       " (\"Forgive me if I'm a bit blunt, but that's the sort of chap I am...\",\n",
       "  'Perdónenme si soy un poco brusco, pero yo soy asi.'),\n",
       " (\"There's the wheelchair race of gloom and doom starring Boots Potter...\",\n",
       "  'Hay la carrera de silla de ruedas de la tristeza y la fatalidad protagonizada Botas Potter...'),\n",
       " ('He says, whoever talks will be swallowed up by the evil spirits of the rapids.',\n",
       "  'Que quien hable será engullido por los espíritus malignos del remolino.'),\n",
       " ('Because I was born in this virile skin.',\n",
       "  'Porque nací en esta piel viril.'),\n",
       " (\"He's using a lot of hot water.\", 'Utiliza un montón de agua caliente.'),\n",
       " ('- Well, yeah. - Uh-huh.', 'Bueno, sí.')]"
      ]
     },
     "execution_count": 23,
     "metadata": {},
     "output_type": "execute_result"
    }
   ],
   "source": [
    "pairs = [(x[\"en\"], x[\"es\"]) for x in sample]\n",
    "pairs"
   ]
  },
  {
   "cell_type": "code",
   "execution_count": 46,
   "metadata": {},
   "outputs": [],
   "source": [
    "fs = FeatureSearch(\"en_es\", pairs, 18, l1_coeff=1e-2, init_w=0.5, lr=5e-2, n_shot=1, n_first=10)"
   ]
  },
  {
   "cell_type": "code",
   "execution_count": 47,
   "metadata": {},
   "outputs": [
    {
     "data": {
      "application/vnd.jupyter.widget-view+json": {
       "model_id": "bad2b80a63c243d1a0b4504655824912",
       "version_major": 2,
       "version_minor": 0
      },
      "text/plain": [
       "  0%|          | 0/2000 [00:00<?, ?it/s]"
      ]
     },
     "metadata": {},
     "output_type": "display_data"
    }
   ],
   "source": [
    "w = fs.find_weights()"
   ]
  },
  {
   "cell_type": "code",
   "execution_count": 48,
   "metadata": {},
   "outputs": [
    {
     "data": {
      "text/html": [
       "<div id=\"output_e0aca3cc656c4a42b450d11699af132b\"><script> /* penzai.treescope rendering of a Python object (compressed) */ (()=>{ let observer; let lastStep = new Promise((resolve, reject) => { observer = new IntersectionObserver((entries) => { for (const entry of entries) { if (entry.isIntersecting) { resolve(); observer.disconnect(); return; } } }, {rootMargin: \"1000px\"}); }); window.treescope_decompress_enqueue = (encoded, destId) => { const previous = lastStep; const destElt = document.getElementById(destId); lastStep = (async () => { await previous; let blob = new Blob([ Uint8Array.from(atob(encoded), (m) => m.codePointAt(0)) ]); let reader = blob.stream().pipeThrough( new DecompressionStream(\"deflate\") ).pipeThrough( new TextDecoderStream(\"utf-8\") ).getReader(); let parts = []; while (true) { let step = await reader.read(); if (step.done) { break; } parts.push(step.value); } let newElt = document.createElement(\"div\"); newElt.innerHTML = parts.join(\"\"); destElt.parentNode.replaceChild(newElt, destElt); for (let oldScript of newElt.querySelectorAll(\"script\")) { let newScript = document.createElement(\"script\"); newScript.type = oldScript.type; newScript.textContent = oldScript.textContent; oldScript.parentNode.replaceChild(newScript, oldScript); } })(); requestAnimationFrame(() => { observer.observe(destElt); }); } })(); </script><div id=\"compress_html_93f3369302ed40d4b705fd001fdef3b0\"><script>window.treescope_decompress_enqueue(\"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\", \"compress_html_93f3369302ed40d4b705fd001fdef3b0\");</script><span style=\"color: #aaaaaa; font-family: monospace\">(Loading...)</span></div></div>"
      ],
      "text/plain": [
       "<IPython.core.display.HTML object>"
      ]
     },
     "metadata": {},
     "output_type": "display_data"
    },
    {
     "data": {
      "text/html": [
       "<div id=\"compress_html_a182fda1675b4be8b90633a8ee193f6d\"><script>window.treescope_decompress_enqueue(\"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\", \"compress_html_a182fda1675b4be8b90633a8ee193f6d\");</script></div>"
      ],
      "text/plain": [
       "<IPython.core.display.HTML object>"
      ]
     },
     "metadata": {},
     "output_type": "display_data"
    },
    {
     "data": {
      "text/html": [
       "<div id=\"output_dest_e0aca3cc656c4a42b450d11699af132b\"><script> (()=>{ const output = document.getElementById(\"output_e0aca3cc656c4a42b450d11699af132b\"); const dest = document.getElementById(\"output_dest_e0aca3cc656c4a42b450d11699af132b\"); dest.parentNode.replaceChild(output, dest); })(); </script></div>"
      ],
      "text/plain": [
       "[# jax.Array float32(20,) ≈5.2 ±4.7 [≥-0.025, ≤1.5e+01] nonzero:20\n",
       "   Array([15.284591  , 12.57232   , 12.362332  , 10.121915  ,  9.093476  ,\n",
       "           7.3952093 ,  7.2686524 ,  6.7148376 ,  6.628763  ,  6.2520423 ,\n",
       "           4.258019  ,  2.8919647 ,  1.0854002 ,  1.0788848 ,  0.98709387,\n",
       "           0.34639516,  0.07082754, -0.01775918, -0.02440739, -0.02490301],      dtype=float32)\n",
       " ,\n",
       " # jax.Array int32(20,) [≥5_145, ≤46_550] nonzero:20\n",
       "   Array([20311, 34107, 24856, 46550,  5145, 31299, 12238, 16420, 28309,\n",
       "          15057,  7774, 13563, 24669, 20375, 32081, 28142, 27475,  7459,\n",
       "          35520, 27389], dtype=int32)\n",
       " ]"
      ]
     },
     "execution_count": 48,
     "metadata": {},
     "output_type": "execute_result"
    }
   ],
   "source": [
    "jax.lax.top_k(w[0], 20)"
   ]
  },
  {
   "cell_type": "code",
   "execution_count": 50,
   "metadata": {},
   "outputs": [
    {
     "data": {
      "text/html": [
       "<div id=\"output_8416e233f18f4ea8ba90b30e4de4628c\"><script> /* penzai.treescope rendering of a Python object (compressed) */ (()=>{ let observer; let lastStep = new Promise((resolve, reject) => { observer = new IntersectionObserver((entries) => { for (const entry of entries) { if (entry.isIntersecting) { resolve(); observer.disconnect(); return; } } }, {rootMargin: \"1000px\"}); }); window.treescope_decompress_enqueue = (encoded, destId) => { const previous = lastStep; const destElt = document.getElementById(destId); lastStep = (async () => { await previous; let blob = new Blob([ Uint8Array.from(atob(encoded), (m) => m.codePointAt(0)) ]); let reader = blob.stream().pipeThrough( new DecompressionStream(\"deflate\") ).pipeThrough( new TextDecoderStream(\"utf-8\") ).getReader(); let parts = []; while (true) { let step = await reader.read(); if (step.done) { break; } parts.push(step.value); } let newElt = document.createElement(\"div\"); newElt.innerHTML = parts.join(\"\"); destElt.parentNode.replaceChild(newElt, destElt); for (let oldScript of newElt.querySelectorAll(\"script\")) { let newScript = document.createElement(\"script\"); newScript.type = oldScript.type; newScript.textContent = oldScript.textContent; oldScript.parentNode.replaceChild(newScript, oldScript); } })(); requestAnimationFrame(() => { observer.observe(destElt); }); } })(); </script><div id=\"compress_html_43283c668ed348559b3fc60b7348d4a9\"><script>window.treescope_decompress_enqueue(\"eNrFWIlT4kwW/1d6mKoRxuEUUEGsDcjliI7ijI77bVGdpJO0JN2x0wHxK//3fd0BOcQ5dqd2pUqg847fu/txFMmZT45zUhASWTwkI8G5RH+jkEdUUs5qSBAfSzohdeRwJrMODqg/q6GAMx6F2ILzqUclyeovNRQKOPFpJLNadFbOQjhlnMGxia2xK3jM7KzFfS5qCWsdzb+ZPhCAPGpLr4YcKoGMScJkHQVYuJRlfeLIGipZntLBSNYj1PXgpJir1NHzUT4x5yiyBA3lMaIOSk8ps/l0aSFqNBoIIBAHBNgZsPU1Bfr7uf7qODcKCbMpcw1LeSYCsn/+66dkPcxsX4lkse9voXaJHG14v4HSC6ePJM+gxjGAzH9EZ5yPIQgCSY8gTcm4TXLoYx75RKI57wqrDg0oTyfP3jWQza04AIfmTG7P0IcP6J16krN8HEVnELSccjimLEqn1kGlMki5aqFDMYVYgKS2TwIdoWfQLGPB9EP4usVWEbMh50wZOOViPLcMVEYSkN3AkXq0diyppQ5DIsDwADOL5BifpjMvpr16grIJ0xHaKynI23JgM5Q5nzBXepAaqLAtI34c08Ru5QHiR2QJ3YuZwv5T5ZFHHalM0hzqwzO8fhVDekEpyENMImkwGmBF0RE4IOnEr5nM9ohsQgnjyEtiU/8Vxy1ANBJX/I7rfh32VuCEAVdMTohDhCD2NQlCSHsSvU6g0FeHL4kPbGI2JD6xJBeG70Oiz3lXm2DMRhFkaipT1wWXVvUFkhB3tEBlKLyv1I0gAZ+QtapZkfFWJaQXWJV8R/AnoopDS04a3zrcdCppbEqk4oBvq6ZZgoAZ84JcpYVPOdWHgThRor/Nz8mjbCXKVh4vD+saTlLr56rdCALeskgLys9Og4RPikDF6c1YSe66ftJGRrr7SwCmuxycEF9+QmQC0ueuUGmnv+fGZKYqMiVSi9YDxCs+T+SmUy8yRwEATC1wPCOYB8kgOLLpBGnGxmZfQxKbAJg8NlKFFOIMlAJ6tkK3HX9aejRaIE/ByEkGqT1PyJF2ksd9mwidi3rAvcf76jUfpZqlhqjEPrUAb84BcmyCKtXX3xjCz2idbJSgA2qbRqB0thi2m4ToGPnYJH6tZhLIabKCytJ/9a36kombLaqROx/MhfpSF2V6Dps+V5P7TZ0eFId4rdnGYhwR7IKr2WvuGuMyvXHk4Sh9rGUeb/WD5qlZHrHGMNwz6GNmiUGxbmda0K8h1OlfQzt/lSqmtfP/hLfO9CbI6v8ApIqjUhyLSAUw5BQQiC16afTn1OpS0Iqyut6it3L8z2hdmqf64GstORqNHCoiOeJspNJ/S2n9qJRypYqqpq2hQv81/CTimxCVVWt3aF3Qz7mpR9gIqtHHYUTsn3eR3wb0Aw1J79A6NBF5DOF28CbNn8CxTcXc0H/M1xtLhW9t1dkZwFgVFPtoOAtMDveJi1gqWDZaTM4WD2c7622dqVupPz+bzveUcgGaZySsGoqFn7axxDX1PD/ljlOqmzgi1fInu3DYHbhG09B//UvD4PpT82oK/3sdw2gbP/prBobhjvlnu99utqbfDeP6e+vUGPSbLaPjPvZ7Z56MmgNK3L3OyW3prF/9PhmGMf0yqFwXT2/7V98Gk5vBk/wy63Rauzfu+Jo2TwoePbmMT9t2977QM/POpG+HD5+r3sMNpZfxgHW9nvNVGl+rzXNRNjp9Nm5Xra9xzHavKg9WNJ5OnI6ff3h02/zANU+n3YNiz8gz46pyJsRp8WrXfSpc2QXj1Cm65/utafe+5Bb4LL7a3w/axeq0d3t44bohuR7PyqRvPlUsU1x0JTbcy/759ARHs+gy7vdvb9qdqfHlMux/t7/m87vu/vX+7Z4sOJ+/PBiTCsg8M873jcHUCNynq+FufDck7dvHklO1ns7LV71ZJW4an5+a92En3KO9y1a7cBd/KQ/3mdM8a/c6g8CguweTdsljRW9/1/w2vb2f9sTkpPu1xe6ddtuVuxfWne/vVw5bp9PmgXdYHgy6w73uneEG/cp98/JQXndJ77DdbPa7eydu+Sr/3ZqZRhdi+u1z3rjsYoMMWr7Re2pfuHfSrTa/uBcX/ZPmmF5WSKd522p2LFoIPcFDBrkR3rVPik/F8dBpOdKbfWY9G3einlM4D7rt82rTNh6+fQuxjIZ3gW1jelhyng7LX+n9QzUMRPWCf28NqegGk9Pu3vBmuNdpl6zmpXO92/N52C13omkFuw/VA3pHhud+eMOavT6xB4LENw/dVlC86YjxcPhYKVVvbqKpAYgySG9kMr2j03on8yfKF25iMzOWEtbHbU1q+XjbeEyh1AYVtOwIWsFW4r9IsWyn6v9pE4BiN8cUOHUzCODW6MH6U0OYSWCnUOP2yy8e70lBveqvB2rCTZ+gkxRyhyTYtDKZxFus2H6xWnLmpjgaWXDjBMe+8GNHrt1TFzfCH+nc4FlXuep6NMEinc2qbpfFDAKr97zM6rFSohZggdlibmqxqBghAh7Lwtzisfw9U14QQGAosd+tI9Eq0TsahFxIzF7JNgUf68kVzpbXnp97d4VtxZ+LML/6ierVsuTpBVnzJ6bBogTdjVkonWhY/9UELLnmKvGAbI5AnUVEalDKpQoHnmIqEcMT6mJYJGGJoqHJsbBzU0EluYZ7TnopCyIxl7VctrBtp1Mr/tZ7JZHXNCAQmJdF9hXfYjHeYH3+hEqFQkG3BgtLy4OlL7ONX+tdcWpqCW59dU1DeN+jDqY+JIPkSBG/0zUJFx8WY9+fwW0ikgTbKid2V303XxmX+6JKJUTtRuplnzMLpZK5Zx6WiYPLBVw5qFarB+USKR9aVcupVFJzpvmWub4Gbd7GgDjpfUeUhbFEah1vpHS3M/ljaquQeWOEh0lTPD7Ka2Z4n8ta1b9tD00df/Bl/R4/5gwh8AyZjs+xLFYhdrlcDn1wpfIACDneeFsVvHaNWjd6Z1kGO7BJt1S0Gzs/SG29Q2d20Es9NlJpHwemjfW2X9P/MymkS6aRWilc6MdbKFXz3WwzQKlDDBMQVtedOeLj7YbmbTp5uzTf+s0pnXlJnH8DIHww6A==\", \"compress_html_43283c668ed348559b3fc60b7348d4a9\");</script><span style=\"color: #aaaaaa; font-family: monospace\">(Loading...)</span></div></div>"
      ],
      "text/plain": [
       "<IPython.core.display.HTML object>"
      ]
     },
     "metadata": {},
     "output_type": "display_data"
    },
    {
     "data": {
      "text/html": [
       "<div id=\"compress_html_50d4dffad96c4932a802edf2003b3ef1\"><script>window.treescope_decompress_enqueue(\"eNrtWG1v2zYQ/iuEgjVSG6uWY7t+iQ1saQf0Sz8MA/ahKARKpC3ONKlStJO06H/fkZQly3YcN0tTDFgC2JZ47/fw7sgrwtao0HecTjzCipzjuxESUlAPMTLxZlLFhM6oUpTESbvTSS6TYZfOcLeNe4N+vz/odmh3mPbTWa/nTa+KHAv4NPKmYSK1lkvOBB0Jqf1wJjnBCaexkISOMlz4U44TyqfNlVjL+Zw7nlGa0XRBSRCglwH6inJMCBPzlpb5CLXDqEeXY2Q0tDLK5pkeoSi0776FqeRgPE4SRdfAaR9H6Kw/6OB2uyZI5XJJhY5vMipiegv2E0qezN6NVmz/aq1itUyo2iJoDwdRr18TFFqBn9sSLqNe1KsIIB3G7Zog4ThdjFECn3MlV4K0yoU1Vn6rlXCZLtyrAKikIlS5KEb5LSokZ+QYpUvlQ8TfUJjd5VSBZYtY0aXUNM7kGhzdNXrfTLngaeYPur+YtHZ7KGoPncQbXMRFqiTnwK5lOGOq0LFm6eJkqcNuGBm57SGKLvvhm4OCbf6Oqgv2FGqFRcE0k2K0pxxFBaK4oC0mWnKlL9BMCt26sTDdWTNZzdIsht2T0pjTmd6Cunk0WO+lWZNOWUk1oXIboKJkgGShwdg0Y/zpIF1VCZv7MVpiNQc3nJkp5qnfSTPUMlBxcW7aoaj4YaaUYHWmEIAsJRaxZ7Rt/k1QPq8wF3hJ41zRGbsFITYtBftCTegGrnYUGhs9lcVV3p0GNEVNkmcPbjvsppkL7wO2Pk+wXU2wVh2sDI26bf0AmPIMvUR+BO5ss5RyC6CiQRBUMahZW6fzbvRu6pflrERu3rbK188YzboC2wi2FCZsVZQORnQJ3t3vmLX03xnxIMS/NpqEy6/ZSyc0iePE30KQ+EOGgjrJx+YC2+htnYYWm28D24w9NrRaUVqkMocaK6UOK+J4CZagIxKYMDpddzFEYO2DhKcou1dOafLVazdy2fkLpRwXxcRrmlkOZ5tZr5EVGC9IMuj28PgQ3iCgY68pupEaxIrYdUkpbGMEYpfCKybylUYaZoKJZ5OWyFvvoJAyv8D62jI19dVThYadS7WHCNa4taB3OdbZxNsxr9GlS7ShZoP1TolVubjTM7xpTsUXzOrMwd7JwZICxp0Z5txMAiGkxM7C7uuD1H9spOfGab+5fvW6jNiW3nMjNVkBpsU5kuKawwwyOa+VZjCqQvQMVZyaRV9nrAjOXWzM64nnc7xMCEYGWiP7GXg1BCrCETo/QHk+RiUNFoBA7Oac82tgQCbu8Lsa+ZvebEdvt9CgZqHxjlDvkUqYcZjAHIbLXE2+CyJhg/cQYMqZ25u+OLvtvBn/qhS+8wf9C0QsgJMZl1hH/cAtNz2+2EcTyOQ4LyjxpuhQXBoHDu8ZMt+MwOk42OF7PCpOxMj9WYcT6SNzzsjBjLtjmDcddi8H7ejN4LI36EWd/3JqGXlMYoHrJ6bVbq9HJtbwHmtOT9+LjlwbeEdhcHYQK3vN5W98u2ketgQd6RDHgObtHbuOrnvTp0vA9s0LVFOux3YBucJp/LOOuccXcz0+AqGfuJWMZ4/ZTJbvqbbTqVttJ04X/8fypLA1JsX6vhLt3LJ40+D7MtEY2B/cHtWWODhu7G+QzRdhaxCdggo99f0ATaboaypFAWXO7tr3pEAT9NE7/Qb309jxmywA6w0UCXmzNeiC0Lh5YPERkenK1EKz+I5T8/O3u/fEr2z42P5kzqxO8kzhuSEB6RVjqijW9G35+HtJ4Vc8Rs81h6MOMG34Q5zDGE6uTfHyLWhSQ/EB6rev1cqekmdSIZ9TjRgwtsfwdVVHJuRUzDWc+tmrV+YUaejc4raWe31in0CB4SnkSqX0LVtve7TDZu/RPfQK7fC7xxDmKg5Y+4vpzK/EuZvHUop1ExjqVXO9uqa+vQtwB8ctIVXAzHJgiAAzDicbvOyllorPK7qib0us/EmXIE/Twg8q3n8A/KWPBA==\", \"compress_html_50d4dffad96c4932a802edf2003b3ef1\");</script></div>"
      ],
      "text/plain": [
       "<IPython.core.display.HTML object>"
      ]
     },
     "metadata": {},
     "output_type": "display_data"
    },
    {
     "data": {
      "text/html": [
       "<div id=\"output_dest_8416e233f18f4ea8ba90b30e4de4628c\"><script> (()=>{ const output = document.getElementById(\"output_8416e233f18f4ea8ba90b30e4de4628c\"); const dest = document.getElementById(\"output_dest_8416e233f18f4ea8ba90b30e4de4628c\"); dest.parentNode.replaceChild(output, dest); })(); </script></div>"
      ],
      "text/plain": [
       "<jax.Array(86, dtype=bfloat16)>"
      ]
     },
     "execution_count": 50,
     "metadata": {},
     "output_type": "execute_result"
    }
   ],
   "source": [
    "fs.check_feature(34107, 20)"
   ]
  },
  {
   "cell_type": "code",
   "execution_count": 49,
   "metadata": {},
   "outputs": [],
   "source": [
    "steering_vector = fs.sae[\"W_dec\"][37312] * 40\n",
    "steering_vector =  steering_vector.astype('bfloat16')\n",
    "\n",
    "act_add = make_act_adder(\n",
    "    llama, steering_vector, fs.eval_tokens, fs.target_layer, length=1\n",
    ")\n",
    "\n",
    "\n",
    "logits = act_add(fs.eval_inputs).unwrap(\"batch\", \"seq\", \"vocabulary\")"
   ]
  },
  {
   "cell_type": "code",
   "execution_count": 50,
   "metadata": {},
   "outputs": [],
   "source": [
    "positions = jnp.argwhere(fs.eval_tokens == 1599)[:, -1]\n"
   ]
  },
  {
   "cell_type": "code",
   "execution_count": 36,
   "metadata": {},
   "outputs": [
    {
     "data": {
      "text/html": [
       "<div id=\"output_63378d62bc7742b386109f9bc16ed809\"><script> /* penzai.treescope rendering of a Python object (compressed) */ (()=>{ let observer; let lastStep = new Promise((resolve, reject) => { observer = new IntersectionObserver((entries) => { for (const entry of entries) { if (entry.isIntersecting) { resolve(); observer.disconnect(); return; } } }, {rootMargin: \"1000px\"}); }); window.treescope_decompress_enqueue = (encoded, destId) => { const previous = lastStep; const destElt = document.getElementById(destId); lastStep = (async () => { await previous; let blob = new Blob([ Uint8Array.from(atob(encoded), (m) => m.codePointAt(0)) ]); let reader = blob.stream().pipeThrough( new DecompressionStream(\"deflate\") ).pipeThrough( new TextDecoderStream(\"utf-8\") ).getReader(); let parts = []; while (true) { let step = await reader.read(); if (step.done) { break; } parts.push(step.value); } let newElt = document.createElement(\"div\"); newElt.innerHTML = parts.join(\"\"); destElt.parentNode.replaceChild(newElt, destElt); for (let oldScript of newElt.querySelectorAll(\"script\")) { let newScript = document.createElement(\"script\"); newScript.type = oldScript.type; newScript.textContent = oldScript.textContent; oldScript.parentNode.replaceChild(newScript, oldScript); } })(); requestAnimationFrame(() => { observer.observe(destElt); }); } })(); </script><div id=\"compress_html_a42806f6e1bc46e6bcaa59fc9432266a\"><script>window.treescope_decompress_enqueue(\"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\", \"compress_html_a42806f6e1bc46e6bcaa59fc9432266a\");</script><span style=\"color: #aaaaaa; font-family: monospace\">(Loading...)</span></div></div>"
      ],
      "text/plain": [
       "<IPython.core.display.HTML object>"
      ]
     },
     "metadata": {},
     "output_type": "display_data"
    },
    {
     "data": {
      "text/html": [
       "<div id=\"output_dest_63378d62bc7742b386109f9bc16ed809\"><script> (()=>{ const output = document.getElementById(\"output_63378d62bc7742b386109f9bc16ed809\"); const dest = document.getElementById(\"output_dest_63378d62bc7742b386109f9bc16ed809\"); dest.parentNode.replaceChild(output, dest); })(); </script></div>"
      ],
      "text/plain": [
       "'down walk scene small hell scene ground film game sit method fe song enjoy definition in ent ag nation mad dog art tax oficial prote pages of life space golf union political'"
      ]
     },
     "execution_count": 36,
     "metadata": {},
     "output_type": "execute_result"
    }
   ],
   "source": [
    "_logits = jax.vmap(\n",
    "    lambda a, b: a[b]\n",
    ")(logits, positions)\n",
    "tokenizer.decode(_logits.argmax(axis=-1))"
   ]
  },
  {
   "cell_type": "code",
   "execution_count": 37,
   "metadata": {},
   "outputs": [
    {
     "data": {
      "text/html": [
       "<div id=\"output_1fa8356c0e8c4da89b6901db8251cb81\"><script> /* penzai.treescope rendering of a Python object (compressed) */ (()=>{ let observer; let lastStep = new Promise((resolve, reject) => { observer = new IntersectionObserver((entries) => { for (const entry of entries) { if (entry.isIntersecting) { resolve(); observer.disconnect(); return; } } }, {rootMargin: \"1000px\"}); }); window.treescope_decompress_enqueue = (encoded, destId) => { const previous = lastStep; const destElt = document.getElementById(destId); lastStep = (async () => { await previous; let blob = new Blob([ Uint8Array.from(atob(encoded), (m) => m.codePointAt(0)) ]); let reader = blob.stream().pipeThrough( new DecompressionStream(\"deflate\") ).pipeThrough( new TextDecoderStream(\"utf-8\") ).getReader(); let parts = []; while (true) { let step = await reader.read(); if (step.done) { break; } parts.push(step.value); } let newElt = document.createElement(\"div\"); newElt.innerHTML = parts.join(\"\"); destElt.parentNode.replaceChild(newElt, destElt); for (let oldScript of newElt.querySelectorAll(\"script\")) { let newScript = document.createElement(\"script\"); newScript.type = oldScript.type; newScript.textContent = oldScript.textContent; oldScript.parentNode.replaceChild(newScript, oldScript); } })(); requestAnimationFrame(() => { observer.observe(destElt); }); } })(); </script><div id=\"compress_html_e708d44094044a7988cf419c80c6a580\"><script>window.treescope_decompress_enqueue(\"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\", \"compress_html_e708d44094044a7988cf419c80c6a580\");</script><span style=\"color: #aaaaaa; font-family: monospace\">(Loading...)</span></div></div>"
      ],
      "text/plain": [
       "<IPython.core.display.HTML object>"
      ]
     },
     "metadata": {},
     "output_type": "display_data"
    },
    {
     "data": {
      "text/html": [
       "<div id=\"output_dest_1fa8356c0e8c4da89b6901db8251cb81\"><script> (()=>{ const output = document.getElementById(\"output_1fa8356c0e8c4da89b6901db8251cb81\"); const dest = document.getElementById(\"output_dest_1fa8356c0e8c4da89b6901db8251cb81\"); dest.parentNode.replaceChild(output, dest); })(); </script></div>"
      ],
      "text/plain": [
       "[[['down', 'abajo']],\n",
       " [['walk', 'caminar']],\n",
       " [['scene', 'escena']],\n",
       " [['large', 'grande']],\n",
       " [['hell', 'infierno']],\n",
       " [['scene', 'escena']],\n",
       " [['ground', 'tierra']],\n",
       " [['film', 'película']],\n",
       " [['stage', 'escenario']],\n",
       " [['sit', 'sentarse']],\n",
       " [['method', 'método']],\n",
       " [['pretty', 'bonito']],\n",
       " [['song', 'canción']],\n",
       " [['enjoy', 'disfrutar']],\n",
       " [['term', 'término']],\n",
       " [['into', 'en']],\n",
       " [['understand', 'comprender']],\n",
       " [['agency', 'agencia']],\n",
       " [['nation', 'nación']],\n",
       " [['hard', 'duro']],\n",
       " [['dog', 'perro']],\n",
       " [['art', 'arte']],\n",
       " [['tax', 'impuesto']],\n",
       " [['official', 'oficial']],\n",
       " [['protect', 'proteger']],\n",
       " [['page', 'página']],\n",
       " [['off', 'apagado']],\n",
       " [['life', 'vida']],\n",
       " [['space', 'espacio']],\n",
       " [['club', 'club']],\n",
       " [['union', 'unión']],\n",
       " [['political', 'político']]]"
      ]
     },
     "execution_count": 37,
     "metadata": {},
     "output_type": "execute_result"
    }
   ],
   "source": [
    "fs.runner.eval_pairs"
   ]
  },
  {
   "cell_type": "code",
   "execution_count": 66,
   "metadata": {},
   "outputs": [
    {
     "data": {
      "text/html": [
       "<div id=\"output_ab7bb77596a74801bfb454d772d2a9f8\"><script> /* penzai.treescope rendering of a Python object (compressed) */ (()=>{ let observer; let lastStep = new Promise((resolve, reject) => { observer = new IntersectionObserver((entries) => { for (const entry of entries) { if (entry.isIntersecting) { resolve(); observer.disconnect(); return; } } }, {rootMargin: \"1000px\"}); }); window.treescope_decompress_enqueue = (encoded, destId) => { const previous = lastStep; const destElt = document.getElementById(destId); lastStep = (async () => { await previous; let blob = new Blob([ Uint8Array.from(atob(encoded), (m) => m.codePointAt(0)) ]); let reader = blob.stream().pipeThrough( new DecompressionStream(\"deflate\") ).pipeThrough( new TextDecoderStream(\"utf-8\") ).getReader(); let parts = []; while (true) { let step = await reader.read(); if (step.done) { break; } parts.push(step.value); } let newElt = document.createElement(\"div\"); newElt.innerHTML = parts.join(\"\"); destElt.parentNode.replaceChild(newElt, destElt); for (let oldScript of newElt.querySelectorAll(\"script\")) { let newScript = document.createElement(\"script\"); newScript.type = oldScript.type; newScript.textContent = oldScript.textContent; oldScript.parentNode.replaceChild(newScript, oldScript); } })(); requestAnimationFrame(() => { observer.observe(destElt); }); } })(); </script><div id=\"compress_html_3664a50d7dbc48ff9d5e13ed825de8a6\"><script>window.treescope_decompress_enqueue(\"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\", \"compress_html_3664a50d7dbc48ff9d5e13ed825de8a6\");</script><span style=\"color: #aaaaaa; font-family: monospace\">(Loading...)</span></div></div>"
      ],
      "text/plain": [
       "<IPython.core.display.HTML object>"
      ]
     },
     "metadata": {},
     "output_type": "display_data"
    },
    {
     "data": {
      "text/html": [
       "<div id=\"compress_html_9b0d8fee18b04749bb30ed2965a784e8\"><script>window.treescope_decompress_enqueue(\"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\", \"compress_html_9b0d8fee18b04749bb30ed2965a784e8\");</script></div>"
      ],
      "text/plain": [
       "<IPython.core.display.HTML object>"
      ]
     },
     "metadata": {},
     "output_type": "display_data"
    },
    {
     "data": {
      "text/html": [
       "<div id=\"output_dest_ab7bb77596a74801bfb454d772d2a9f8\"><script> (()=>{ const output = document.getElementById(\"output_ab7bb77596a74801bfb454d772d2a9f8\"); const dest = document.getElementById(\"output_dest_ab7bb77596a74801bfb454d772d2a9f8\"); dest.parentNode.replaceChild(output, dest); })(); </script></div>"
      ],
      "text/plain": [
       "array([[32000, 32000, 32000, 32000,     1, 32010, 10306,   278,  4766,\n",
       "        29901,    13,  3204,  1599,   633,  7069],\n",
       "       [32000, 32000, 32000, 32000,     1, 32010, 10306,   278,  4766,\n",
       "        29901,    13, 20919,  1599,  3949, 18220],\n",
       "       [32000, 32000, 32000, 32000,     1, 32010, 10306,   278,  4766,\n",
       "        29901,    13, 24645,  1599,  3966,  2386],\n",
       "       [32000, 32000, 32000, 32000, 32000,     1, 32010, 10306,   278,\n",
       "         4766, 29901,    13, 16961,  1599,  6815],\n",
       "       [32000, 32000, 32000, 32000,     1, 32010, 10306,   278,  4766,\n",
       "        29901,    13, 14181,  1599,  3041, 12643],\n",
       "       [32000, 32000, 32000, 32000,     1, 32010, 10306,   278,  4766,\n",
       "        29901,    13, 24645,  1599,  3966,  2386],\n",
       "       [32000, 32000, 32000, 32000, 32000,     1, 32010, 10306,   278,\n",
       "         4766, 29901,    13,  2057,  1599, 27907],\n",
       "       [32000, 32000, 32000, 32000, 32000,     1, 32010, 10306,   278,\n",
       "         4766, 29901,    13,  9663,  1599, 19053],\n",
       "       [32000, 32000, 32000, 32000,     1, 32010, 10306,   278,  4766,\n",
       "        29901,    13, 19190,  1599,  3966, 24893],\n",
       "       [32000, 32000, 32000,     1, 32010, 10306,   278,  4766, 29901,\n",
       "           13, 29879,   277,  1599,  2665,  7989],\n",
       "       [32000, 32000, 32000, 32000,     1, 32010, 10306,   278,  4766,\n",
       "        29901,    13,  5696,  1599, 11510,  8144],\n",
       "       [32000, 32000, 32000,     1, 32010, 10306,   278,  4766, 29901,\n",
       "           13,  1457,  4349,  1599, 10814,  2049],\n",
       "       [32000, 32000, 32000, 32000, 32000,     1, 32010, 10306,   278,\n",
       "         4766, 29901,    13, 21453,  1599, 24174],\n",
       "       [    1, 32010, 10306,   278,  4766, 29901,    13,   264,  2212,\n",
       "        29891,  1599,   766,  1341,   329,   279],\n",
       "       [32000, 32000, 32000, 32000,     1, 32010, 10306,   278,  4766,\n",
       "        29901,    13,  8489,  1599, 27757, 29877],\n",
       "       [32000, 32000, 32000, 32000, 32000,     1, 32010, 10306,   278,\n",
       "         4766, 29901,    13,  8941,  1599,   427],\n",
       "       [32000, 32000, 32000,     1, 32010, 10306,   278,  4766, 29901,\n",
       "           13,  5062,  1689,  1599,  7199,  1581],\n",
       "       [32000, 32000, 32000,     1, 32010, 10306,   278,  4766, 29901,\n",
       "           13,   351,  3819,  1599,   946,  5760],\n",
       "       [32000, 32000, 32000,     1, 32010, 10306,   278,  4766, 29901,\n",
       "           13, 29876,   362,  1599,  1055,  1290],\n",
       "       [32000, 32000, 32000, 32000,     1, 32010, 10306,   278,  4766,\n",
       "        29901,    13,  6800,  1599,   868,   307],\n",
       "       [32000, 32000, 32000, 32000,     1, 32010, 10306,   278,  4766,\n",
       "        29901,    13, 26169,  1599,   639,   307],\n",
       "       [32000, 32000, 32000, 32000, 32000,     1, 32010, 10306,   278,\n",
       "         4766, 29901,    13,   442,  1599, 20160],\n",
       "       [32000, 32000, 32000, 32000,     1, 32010, 10306,   278,  4766,\n",
       "        29901,    13, 20725,  1599,  2411, 29771],\n",
       "       [32000, 32000, 32000, 32000,     1, 32010, 10306,   278,  4766,\n",
       "        29901,    13, 29877,  7880,  1599,  9535],\n",
       "       [32000, 32000, 32000,     1, 32010, 10306,   278,  4766, 29901,\n",
       "           13, 14676,   312,  1599,  3279,   914],\n",
       "       [32000, 32000, 32000, 32000,     1, 32010, 10306,   278,  4766,\n",
       "        29901,    13,  3488,  1599,   282, 18814],\n",
       "       [32000, 32000, 32000,     1, 32010, 10306,   278,  4766, 29901,\n",
       "           13,  2696,  1599,  3095,   351,   912],\n",
       "       [32000, 32000, 32000, 32000, 32000,     1, 32010, 10306,   278,\n",
       "         4766, 29901,    13, 19264,  1599, 10828],\n",
       "       [32000, 32000, 32000, 32000,     1, 32010, 10306,   278,  4766,\n",
       "        29901,    13,  3493,  1599,  9015,  3934],\n",
       "       [32000, 32000, 32000, 32000, 32000,     1, 32010, 10306,   278,\n",
       "         4766, 29901,    13, 29066,  1599,  4402],\n",
       "       [32000, 32000, 32000, 32000,     1, 32010, 10306,   278,  4766,\n",
       "        29901,    13, 13094,  1599,   443,  3175],\n",
       "       [32000, 32000, 32000, 32000,     1, 32010, 10306,   278,  4766,\n",
       "        29901,    13, 20087,   936,  1599, 24934]])"
      ]
     },
     "execution_count": 66,
     "metadata": {},
     "output_type": "execute_result"
    }
   ],
   "source": [
    "fs.eval_tokens"
   ]
  },
  {
   "cell_type": "code",
   "execution_count": null,
   "metadata": {},
   "outputs": [],
   "source": []
  },
  {
   "cell_type": "code",
   "execution_count": 59,
   "metadata": {},
   "outputs": [],
   "source": []
  },
  {
   "cell_type": "code",
   "execution_count": 61,
   "metadata": {},
   "outputs": [
    {
     "data": {
      "text/html": [
       "<div id=\"output_7999877016094ea5be7d32d434c53b1c\"><script> /* penzai.treescope rendering of a Python object (compressed) */ (()=>{ let observer; let lastStep = new Promise((resolve, reject) => { observer = new IntersectionObserver((entries) => { for (const entry of entries) { if (entry.isIntersecting) { resolve(); observer.disconnect(); return; } } }, {rootMargin: \"1000px\"}); }); window.treescope_decompress_enqueue = (encoded, destId) => { const previous = lastStep; const destElt = document.getElementById(destId); lastStep = (async () => { await previous; let blob = new Blob([ Uint8Array.from(atob(encoded), (m) => m.codePointAt(0)) ]); let reader = blob.stream().pipeThrough( new DecompressionStream(\"deflate\") ).pipeThrough( new TextDecoderStream(\"utf-8\") ).getReader(); let parts = []; while (true) { let step = await reader.read(); if (step.done) { break; } parts.push(step.value); } let newElt = document.createElement(\"div\"); newElt.innerHTML = parts.join(\"\"); destElt.parentNode.replaceChild(newElt, destElt); for (let oldScript of newElt.querySelectorAll(\"script\")) { let newScript = document.createElement(\"script\"); newScript.type = oldScript.type; newScript.textContent = oldScript.textContent; oldScript.parentNode.replaceChild(newScript, oldScript); } })(); requestAnimationFrame(() => { observer.observe(destElt); }); } })(); </script><div id=\"compress_html_7fff5540ae454851ab2011ad70440f7a\"><script>window.treescope_decompress_enqueue(\"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\", \"compress_html_7fff5540ae454851ab2011ad70440f7a\");</script><span style=\"color: #aaaaaa; font-family: monospace\">(Loading...)</span></div></div>"
      ],
      "text/plain": [
       "<IPython.core.display.HTML object>"
      ]
     },
     "metadata": {},
     "output_type": "display_data"
    },
    {
     "data": {
      "text/html": [
       "<div id=\"output_dest_7999877016094ea5be7d32d434c53b1c\"><script> (()=>{ const output = document.getElementById(\"output_7999877016094ea5be7d32d434c53b1c\"); const dest = document.getElementById(\"output_dest_7999877016094ea5be7d32d434c53b1c\"); dest.parentNode.replaceChild(output, dest); })(); </script></div>"
      ],
      "text/plain": [
       "'down walked screen larger hello screen ground film stage sat method pu song enjoy value into understanding ag nation harder log art tax off protect pages off life space club union political'"
      ]
     },
     "execution_count": 61,
     "metadata": {},
     "output_type": "execute_result"
    }
   ],
   "source": [
    "t"
   ]
  },
  {
   "cell_type": "code",
   "execution_count": 38,
   "metadata": {},
   "outputs": [],
   "source": [
    "def check_feature(feature: int, task:str, target_layer, sae, print_results=False):\n",
    "    pairs = tasks[task]\n",
    "    pairs = [list(x) for x in pairs.items()]\n",
    "    dataset = ICLDataset(pairs, size=batch_size, n_prepended=0, bidirectional=False, seed=10, prepend_space=task.startswith(\"algo\"))\n",
    "\n",
    "    print(\n",
    "        dataset.prompts\n",
    "    )\n",
    "\n",
    "\n",
    "    tokenized = tokenizer.batch_encode_plus([prompt.format(x) for x in dataset.prompts], padding=\"longest\", max_length=max_seq_len, truncation=True, return_tensors=\"np\")\n",
    "    inputs = tokenized_to_inputs(\n",
    "        **tokenized\n",
    "    )\n",
    "\n",
    "    pos = 1\n",
    "    if task.startswith(\"algo\"):\n",
    "        pos = 2\n",
    "\n",
    "    target_tokens = [x[pos] for x in tokenizer(dataset.completions)[\"input_ids\"]]\n",
    "    target_tokens = jnp.asarray(target_tokens)\n",
    "\n",
    "    # weights, recon = grad_pursuit(tv * 2, sae[\"W_dec\"], k, pos_only=True)\n",
    "\n",
    "    recon = sae[\"W_dec\"][feature] * 20\n",
    "    recon = recon.astype('bfloat16')\n",
    "\n",
    "    act_add = add_vector(\n",
    "        llama, recon, target_layer, scale=1.0, position=\"last\"\n",
    "    )\n",
    "\n",
    "    logits = act_add(inputs).unwrap(\"batch\", \"seq\", \"vocabulary\")\n",
    "\n",
    "    # print(logits[:, -1].mean(axis=-1))\n",
    "\n",
    "    logprobs = jax.nn.log_softmax(logits, axis=-1)\n",
    "    answer_logprobs = logprobs[:, -1]\n",
    "\n",
    "    target_logprobs = jnp.take_along_axis(answer_logprobs, target_tokens[:, None], axis=-1).squeeze()\n",
    "\n",
    "    if print_results:\n",
    "        print(\n",
    "            repr(tokenizer.decode(answer_logprobs.argmax(axis=-1)))\n",
    "        )\n",
    "\n",
    "        print(\n",
    "            repr(tokenizer.decode(target_tokens))\n",
    "        )\n",
    "\n",
    "    return (target_logprobs - answer_logprobs.max(axis=-1))"
   ]
  },
  {
   "cell_type": "code",
   "execution_count": 39,
   "metadata": {},
   "outputs": [
    {
     "name": "stdout",
     "output_type": "stream",
     "text": [
      "['worry ->', 'money ->', 'hear ->', 'general ->', 'morning ->', 'government ->', 'course ->', 'letter ->', 'oil ->', 'future ->', 'kill ->', 'cut ->', 'risk ->', 'time ->', 'student ->', 'wear ->', 'organization ->', 'simply ->', 'population ->', 'doctor ->', 'attention ->', 'money ->', 'carry ->', 'require ->', 'court ->', 'fund ->', 'summer ->', 'something ->', 'environment ->', 'industry ->', 'reduce ->', 'player ->', 'money ->', 'subject ->', 'dead ->', 'comment ->', 'position ->', 'military ->', 'art ->', 'great ->', 'town ->', 'make ->', 'bill ->', 'fine ->', 'love ->', 'clear ->', 'drug ->', 'foreign ->', 'administration ->', 'discuss ->', 'watch ->', 'recognize ->', 'gun ->', 'gun ->', 'guy ->', 'rule ->', 'on ->', 'ok ->', 'club ->', 'much ->', 'situation ->', 'respond ->', 'cut ->', 'provide ->']\n",
      "'wor mon o general tarde g cur number pet fut mat cort ries time estud vest organiz s población do at mon c require corte fund ver something natur indust redu jug mon verb dead comment position militar art great town m bill fin am clar dro for administ convers ve recon g g ch\\n en ok c muchos action res cort segu'\n",
      "'pre din esc general ma gobierno cur cart ace fut mat cort ries h estud lle organiz sim población méd at din lle ex corte fond ver algo amb indust redu jug din sujet m com pos militar arte est pueblo fabric fact mult amor clar dro extr admin disc re reconoc p p ch reg sobre ok club mucho situ res cort prove'\n"
     ]
    },
    {
     "data": {
      "text/html": [
       "<div id=\"output_5a3c0db6c4d74b3c876b279fe8980a59\"><script> /* penzai.treescope rendering of a Python object (compressed) */ (()=>{ let observer; let lastStep = new Promise((resolve, reject) => { observer = new IntersectionObserver((entries) => { for (const entry of entries) { if (entry.isIntersecting) { resolve(); observer.disconnect(); return; } } }, {rootMargin: \"1000px\"}); }); window.treescope_decompress_enqueue = (encoded, destId) => { const previous = lastStep; const destElt = document.getElementById(destId); lastStep = (async () => { await previous; let blob = new Blob([ Uint8Array.from(atob(encoded), (m) => m.codePointAt(0)) ]); let reader = blob.stream().pipeThrough( new DecompressionStream(\"deflate\") ).pipeThrough( new TextDecoderStream(\"utf-8\") ).getReader(); let parts = []; while (true) { let step = await reader.read(); if (step.done) { break; } parts.push(step.value); } let newElt = document.createElement(\"div\"); newElt.innerHTML = parts.join(\"\"); destElt.parentNode.replaceChild(newElt, destElt); for (let oldScript of newElt.querySelectorAll(\"script\")) { let newScript = document.createElement(\"script\"); newScript.type = oldScript.type; newScript.textContent = oldScript.textContent; oldScript.parentNode.replaceChild(newScript, oldScript); } })(); requestAnimationFrame(() => { observer.observe(destElt); }); } })(); </script><div id=\"compress_html_403f46bde04943d4ac072b5c2b0b7f72\"><script>window.treescope_decompress_enqueue(\"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\", \"compress_html_403f46bde04943d4ac072b5c2b0b7f72\");</script><span style=\"color: #aaaaaa; font-family: monospace\">(Loading...)</span></div></div>"
      ],
      "text/plain": [
       "<IPython.core.display.HTML object>"
      ]
     },
     "metadata": {},
     "output_type": "display_data"
    },
    {
     "data": {
      "text/html": [
       "<div id=\"compress_html_6eb13367a9314e73a9295450da318e9d\"><script>window.treescope_decompress_enqueue(\"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\", \"compress_html_6eb13367a9314e73a9295450da318e9d\");</script></div>"
      ],
      "text/plain": [
       "<IPython.core.display.HTML object>"
      ]
     },
     "metadata": {},
     "output_type": "display_data"
    },
    {
     "data": {
      "text/html": [
       "<div id=\"output_dest_5a3c0db6c4d74b3c876b279fe8980a59\"><script> (()=>{ const output = document.getElementById(\"output_5a3c0db6c4d74b3c876b279fe8980a59\"); const dest = document.getElementById(\"output_dest_5a3c0db6c4d74b3c876b279fe8980a59\"); dest.parentNode.replaceChild(output, dest); })(); </script></div>"
      ],
      "text/plain": [
       "# jax.Array bfloat16(64,) ≈-2.5 ±3.2 [≥-1.4e+01, ≤0.0] zero:22 nonzero:42\n",
       "  Array([-0.125, -3.5, -4.5625, 0, -1.74219, -0.1875, 0, -13.1875, -2.125,\n",
       "         0, 0, 0, 0, -2.4375, 0, -3.125, 0, -2.625, 0, -1.1875, 0, -3.5,\n",
       "         -1.11719, -7, 0, -0.878906, 0, -1.75781, -0.125, 0, 0, 0, -3.5,\n",
       "         -6.1875, -3.375, -0.9375, -2.75, 0, -3.60938, -7.09375, -5.0625,\n",
       "         -4.375, -11.0625, -13.5625, -2.5, 0, 0, -5.3125, -1.25, -0.375,\n",
       "         -4.5, -0.125, -3.25, -3.25, 0, -6.0625, -6.5, 0, -0.4375, -0.25,\n",
       "         -5.3125, 0, 0, -8.3125], dtype=bfloat16)\n"
      ]
     },
     "execution_count": 39,
     "metadata": {},
     "output_type": "execute_result"
    }
   ],
   "source": [
    "sae = get_sae(17, 6)\n",
    "\n",
    "check_feature(37312, \"en_es\", 17, sae, print_results=True)"
   ]
  },
  {
   "cell_type": "code",
   "execution_count": null,
   "metadata": {},
   "outputs": [
    {
     "name": "stdout",
     "output_type": "stream",
     "text": [
      "Feature 10018: -7.5\n",
      "Feature 20311: -2.375\n",
      "Feature 40023: -4.5\n",
      "Feature 5145: -7.21875\n",
      "Feature 45145: -7.09375\n",
      "Feature 2719: -7.09375\n",
      "Feature 15415: -7.28125\n",
      "Feature 24802: -7.15625\n",
      "Feature 20375: -7.125\n",
      "Feature 19505: -7.09375\n",
      "Feature 38618: -7.25\n",
      "Feature 36786: -7.125\n",
      "Feature 47611: -7.03125\n",
      "Feature 31726: -7.28125\n"
     ]
    },
    {
     "ename": "KeyboardInterrupt",
     "evalue": "",
     "output_type": "error",
     "traceback": [
      "\u001b[0;31m---------------------------------------------------------------------------\u001b[0m",
      "\u001b[0;31mKeyboardInterrupt\u001b[0m                         Traceback (most recent call last)",
      "Cell \u001b[0;32mIn[38], line 3\u001b[0m\n\u001b[1;32m      1\u001b[0m \u001b[38;5;28;01mfor\u001b[39;00m feature \u001b[38;5;129;01min\u001b[39;00m i:\n\u001b[1;32m      2\u001b[0m     \u001b[38;5;28mprint\u001b[39m(\n\u001b[0;32m----> 3\u001b[0m         \u001b[38;5;124mf\u001b[39m\u001b[38;5;124m\"\u001b[39m\u001b[38;5;124mFeature \u001b[39m\u001b[38;5;132;01m{\u001b[39;00mfeature\u001b[38;5;132;01m}\u001b[39;00m\u001b[38;5;124m: \u001b[39m\u001b[38;5;132;01m{\u001b[39;00m\u001b[43mcheck_feature\u001b[49m\u001b[43m(\u001b[49m\u001b[43mfeature\u001b[49m\u001b[43m)\u001b[49m\u001b[38;5;132;01m}\u001b[39;00m\u001b[38;5;124m\"\u001b[39m\n\u001b[1;32m      4\u001b[0m     )\n\u001b[1;32m      6\u001b[0m \u001b[38;5;66;03m# get_logprob_diff(logits.unwrap(\"batch\", \"seq\", \"vocabulary\"), target_tokens, print_results=True)\u001b[39;00m\n",
      "Cell \u001b[0;32mIn[25], line 24\u001b[0m, in \u001b[0;36mcheck_feature\u001b[0;34m(feature, print_results)\u001b[0m\n\u001b[1;32m     18\u001b[0m recon \u001b[38;5;241m=\u001b[39m recon\u001b[38;5;241m.\u001b[39mastype(\u001b[38;5;124m'\u001b[39m\u001b[38;5;124mbfloat16\u001b[39m\u001b[38;5;124m'\u001b[39m)\n\u001b[1;32m     20\u001b[0m act_add \u001b[38;5;241m=\u001b[39m add_vector(\n\u001b[1;32m     21\u001b[0m     llama, recon, layer_target, scale\u001b[38;5;241m=\u001b[39m\u001b[38;5;241m1.0\u001b[39m, position\u001b[38;5;241m=\u001b[39m\u001b[38;5;124m\"\u001b[39m\u001b[38;5;124mlast\u001b[39m\u001b[38;5;124m\"\u001b[39m\n\u001b[1;32m     22\u001b[0m )\n\u001b[0;32m---> 24\u001b[0m logits \u001b[38;5;241m=\u001b[39m \u001b[43mact_add\u001b[49m\u001b[43m(\u001b[49m\u001b[43minputs\u001b[49m\u001b[43m)\u001b[49m\u001b[38;5;241m.\u001b[39munwrap(\u001b[38;5;124m\"\u001b[39m\u001b[38;5;124mbatch\u001b[39m\u001b[38;5;124m\"\u001b[39m, \u001b[38;5;124m\"\u001b[39m\u001b[38;5;124mseq\u001b[39m\u001b[38;5;124m\"\u001b[39m, \u001b[38;5;124m\"\u001b[39m\u001b[38;5;124mvocabulary\u001b[39m\u001b[38;5;124m\"\u001b[39m)\n\u001b[1;32m     26\u001b[0m \u001b[38;5;66;03m# print(logits[:, -1].mean(axis=-1))\u001b[39;00m\n\u001b[1;32m     28\u001b[0m logprobs \u001b[38;5;241m=\u001b[39m jax\u001b[38;5;241m.\u001b[39mnn\u001b[38;5;241m.\u001b[39mlog_softmax(logits, axis\u001b[38;5;241m=\u001b[39m\u001b[38;5;241m-\u001b[39m\u001b[38;5;241m1\u001b[39m)\n",
      "File \u001b[0;32m~/.cache/pypoetry/virtualenvs/micrlhf-progress-_SD4q1c9-py3.12/lib/python3.12/site-packages/penzai/core/layer.py:82\u001b[0m, in \u001b[0;36mchecked_layer_call.<locals>.wrapper\u001b[0;34m(self, argument)\u001b[0m\n\u001b[1;32m     80\u001b[0m output_structure \u001b[38;5;241m=\u001b[39m \u001b[38;5;28mself\u001b[39m\u001b[38;5;241m.\u001b[39moutput_structure()\n\u001b[1;32m     81\u001b[0m \u001b[38;5;28;01mwith\u001b[39;00m jax\u001b[38;5;241m.\u001b[39mnamed_scope(\u001b[38;5;28mtype\u001b[39m(\u001b[38;5;28mself\u001b[39m)\u001b[38;5;241m.\u001b[39m\u001b[38;5;18m__name__\u001b[39m):\n\u001b[0;32m---> 82\u001b[0m   result \u001b[38;5;241m=\u001b[39m \u001b[43mfunc\u001b[49m\u001b[43m(\u001b[49m\u001b[38;5;28;43mself\u001b[39;49m\u001b[43m,\u001b[49m\u001b[43m \u001b[49m\u001b[43margument\u001b[49m\u001b[43m)\u001b[49m\n\u001b[1;32m     83\u001b[0m shapecheck\u001b[38;5;241m.\u001b[39mcheck_structure(\n\u001b[1;32m     84\u001b[0m     result,\n\u001b[1;32m     85\u001b[0m     pattern\u001b[38;5;241m=\u001b[39moutput_structure,\n\u001b[0;32m   (...)\u001b[0m\n\u001b[1;32m     90\u001b[0m     ),\n\u001b[1;32m     91\u001b[0m )\n\u001b[1;32m     92\u001b[0m \u001b[38;5;28;01mreturn\u001b[39;00m result\n",
      "File \u001b[0;32m~/micrlhf-progress/micrlhf/llama.py:255\u001b[0m, in \u001b[0;36mLlamaTransformer.__call__\u001b[0;34m(self, inputs)\u001b[0m\n\u001b[1;32m    253\u001b[0m \u001b[38;5;129m@pz\u001b[39m\u001b[38;5;241m.\u001b[39mchecked_layer_call\n\u001b[1;32m    254\u001b[0m \u001b[38;5;28;01mdef\u001b[39;00m \u001b[38;5;21m__call__\u001b[39m(\u001b[38;5;28mself\u001b[39m, inputs: LlamaInputs) \u001b[38;5;241m-\u001b[39m\u001b[38;5;241m>\u001b[39m pz\u001b[38;5;241m.\u001b[39mnx\u001b[38;5;241m.\u001b[39mNamedArray:\n\u001b[0;32m--> 255\u001b[0m     \u001b[38;5;28;01mreturn\u001b[39;00m \u001b[38;5;28;43mself\u001b[39;49m\u001b[38;5;241;43m.\u001b[39;49m\u001b[43mbody\u001b[49m\u001b[43m(\u001b[49m\u001b[43m(\u001b[49m\u001b[43minputs\u001b[49m\u001b[38;5;241;43m.\u001b[39;49m\u001b[43mtokens\u001b[49m\u001b[43m,\u001b[49m\u001b[43m \u001b[49m\u001b[43minputs\u001b[49m\u001b[38;5;241;43m.\u001b[39;49m\u001b[43mpositions\u001b[49m\u001b[43m,\u001b[49m\u001b[43m \u001b[49m\u001b[43minputs\u001b[49m\u001b[38;5;241;43m.\u001b[39;49m\u001b[43mattention_mask\u001b[49m\u001b[43m)\u001b[49m\u001b[43m)\u001b[49m\n",
      "File \u001b[0;32m~/.cache/pypoetry/virtualenvs/micrlhf-progress-_SD4q1c9-py3.12/lib/python3.12/site-packages/penzai/core/layer.py:82\u001b[0m, in \u001b[0;36mchecked_layer_call.<locals>.wrapper\u001b[0;34m(self, argument)\u001b[0m\n\u001b[1;32m     80\u001b[0m output_structure \u001b[38;5;241m=\u001b[39m \u001b[38;5;28mself\u001b[39m\u001b[38;5;241m.\u001b[39moutput_structure()\n\u001b[1;32m     81\u001b[0m \u001b[38;5;28;01mwith\u001b[39;00m jax\u001b[38;5;241m.\u001b[39mnamed_scope(\u001b[38;5;28mtype\u001b[39m(\u001b[38;5;28mself\u001b[39m)\u001b[38;5;241m.\u001b[39m\u001b[38;5;18m__name__\u001b[39m):\n\u001b[0;32m---> 82\u001b[0m   result \u001b[38;5;241m=\u001b[39m \u001b[43mfunc\u001b[49m\u001b[43m(\u001b[49m\u001b[38;5;28;43mself\u001b[39;49m\u001b[43m,\u001b[49m\u001b[43m \u001b[49m\u001b[43margument\u001b[49m\u001b[43m)\u001b[49m\n\u001b[1;32m     83\u001b[0m shapecheck\u001b[38;5;241m.\u001b[39mcheck_structure(\n\u001b[1;32m     84\u001b[0m     result,\n\u001b[1;32m     85\u001b[0m     pattern\u001b[38;5;241m=\u001b[39moutput_structure,\n\u001b[0;32m   (...)\u001b[0m\n\u001b[1;32m     90\u001b[0m     ),\n\u001b[1;32m     91\u001b[0m )\n\u001b[1;32m     92\u001b[0m \u001b[38;5;28;01mreturn\u001b[39;00m result\n",
      "File \u001b[0;32m~/.cache/pypoetry/virtualenvs/micrlhf-progress-_SD4q1c9-py3.12/lib/python3.12/site-packages/penzai/data_effects/side_input.py:146\u001b[0m, in \u001b[0;36mWithSideInputsFromInputTuple.__call__\u001b[0;34m(self, argument)\u001b[0m\n\u001b[1;32m    136\u001b[0m impls \u001b[38;5;241m=\u001b[39m {\n\u001b[1;32m    137\u001b[0m     tag: SideInputEffectImpl(_value\u001b[38;5;241m=\u001b[39mval, _handler_id\u001b[38;5;241m=\u001b[39m\u001b[38;5;28mself\u001b[39m\u001b[38;5;241m.\u001b[39mhandler_id)\n\u001b[1;32m    138\u001b[0m     \u001b[38;5;28;01mfor\u001b[39;00m tag, val \u001b[38;5;129;01min\u001b[39;00m \u001b[38;5;28mzip\u001b[39m(\u001b[38;5;28mself\u001b[39m\u001b[38;5;241m.\u001b[39mside_input_tags, side_inputs)\n\u001b[1;32m    139\u001b[0m }\n\u001b[1;32m    140\u001b[0m handled_body \u001b[38;5;241m=\u001b[39m (\n\u001b[1;32m    141\u001b[0m     selectors\u001b[38;5;241m.\u001b[39mselect(\u001b[38;5;28mself\u001b[39m\u001b[38;5;241m.\u001b[39mbody)\n\u001b[1;32m    142\u001b[0m     \u001b[38;5;241m.\u001b[39mat_instances_of(HandledSideInputRef)\n\u001b[1;32m    143\u001b[0m     \u001b[38;5;241m.\u001b[39mwhere(\u001b[38;5;28;01mlambda\u001b[39;00m ref: ref\u001b[38;5;241m.\u001b[39mhandler_id \u001b[38;5;241m==\u001b[39m \u001b[38;5;28mself\u001b[39m\u001b[38;5;241m.\u001b[39mhandler_id)\n\u001b[1;32m    144\u001b[0m     \u001b[38;5;241m.\u001b[39mapply(\u001b[38;5;28;01mlambda\u001b[39;00m ref: impls[ref\u001b[38;5;241m.\u001b[39mtag])\n\u001b[1;32m    145\u001b[0m )\n\u001b[0;32m--> 146\u001b[0m \u001b[38;5;28;01mreturn\u001b[39;00m \u001b[43mhandled_body\u001b[49m\u001b[43m(\u001b[49m\u001b[43minner_arg\u001b[49m\u001b[43m)\u001b[49m\n",
      "File \u001b[0;32m~/.cache/pypoetry/virtualenvs/micrlhf-progress-_SD4q1c9-py3.12/lib/python3.12/site-packages/penzai/nn/grouping.py:79\u001b[0m, in \u001b[0;36mSequential.__call__\u001b[0;34m(self, value)\u001b[0m\n\u001b[1;32m     77\u001b[0m \u001b[38;5;28;01mfor\u001b[39;00m i, layer \u001b[38;5;129;01min\u001b[39;00m \u001b[38;5;28menumerate\u001b[39m(\u001b[38;5;28mself\u001b[39m\u001b[38;5;241m.\u001b[39msublayers):\n\u001b[1;32m     78\u001b[0m   \u001b[38;5;28;01mwith\u001b[39;00m jax\u001b[38;5;241m.\u001b[39mnamed_scope(\u001b[38;5;124mf\u001b[39m\u001b[38;5;124m\"\u001b[39m\u001b[38;5;132;01m{\u001b[39;00mi\u001b[38;5;132;01m}\u001b[39;00m\u001b[38;5;124m\"\u001b[39m):\n\u001b[0;32m---> 79\u001b[0m     value \u001b[38;5;241m=\u001b[39m \u001b[43mlayer\u001b[49m\u001b[43m(\u001b[49m\u001b[43mvalue\u001b[49m\u001b[43m)\u001b[49m\n\u001b[1;32m     80\u001b[0m \u001b[38;5;28;01mreturn\u001b[39;00m value\n",
      "File \u001b[0;32m~/.cache/pypoetry/virtualenvs/micrlhf-progress-_SD4q1c9-py3.12/lib/python3.12/site-packages/penzai/nn/grouping.py:79\u001b[0m, in \u001b[0;36mSequential.__call__\u001b[0;34m(self, value)\u001b[0m\n\u001b[1;32m     77\u001b[0m \u001b[38;5;28;01mfor\u001b[39;00m i, layer \u001b[38;5;129;01min\u001b[39;00m \u001b[38;5;28menumerate\u001b[39m(\u001b[38;5;28mself\u001b[39m\u001b[38;5;241m.\u001b[39msublayers):\n\u001b[1;32m     78\u001b[0m   \u001b[38;5;28;01mwith\u001b[39;00m jax\u001b[38;5;241m.\u001b[39mnamed_scope(\u001b[38;5;124mf\u001b[39m\u001b[38;5;124m\"\u001b[39m\u001b[38;5;132;01m{\u001b[39;00mi\u001b[38;5;132;01m}\u001b[39;00m\u001b[38;5;124m\"\u001b[39m):\n\u001b[0;32m---> 79\u001b[0m     value \u001b[38;5;241m=\u001b[39m \u001b[43mlayer\u001b[49m\u001b[43m(\u001b[49m\u001b[43mvalue\u001b[49m\u001b[43m)\u001b[49m\n\u001b[1;32m     80\u001b[0m \u001b[38;5;28;01mreturn\u001b[39;00m value\n",
      "File \u001b[0;32m~/.cache/pypoetry/virtualenvs/micrlhf-progress-_SD4q1c9-py3.12/lib/python3.12/site-packages/penzai/nn/grouping.py:79\u001b[0m, in \u001b[0;36mSequential.__call__\u001b[0;34m(self, value)\u001b[0m\n\u001b[1;32m     77\u001b[0m \u001b[38;5;28;01mfor\u001b[39;00m i, layer \u001b[38;5;129;01min\u001b[39;00m \u001b[38;5;28menumerate\u001b[39m(\u001b[38;5;28mself\u001b[39m\u001b[38;5;241m.\u001b[39msublayers):\n\u001b[1;32m     78\u001b[0m   \u001b[38;5;28;01mwith\u001b[39;00m jax\u001b[38;5;241m.\u001b[39mnamed_scope(\u001b[38;5;124mf\u001b[39m\u001b[38;5;124m\"\u001b[39m\u001b[38;5;132;01m{\u001b[39;00mi\u001b[38;5;132;01m}\u001b[39;00m\u001b[38;5;124m\"\u001b[39m):\n\u001b[0;32m---> 79\u001b[0m     value \u001b[38;5;241m=\u001b[39m \u001b[43mlayer\u001b[49m\u001b[43m(\u001b[49m\u001b[43mvalue\u001b[49m\u001b[43m)\u001b[49m\n\u001b[1;32m     80\u001b[0m \u001b[38;5;28;01mreturn\u001b[39;00m value\n",
      "File \u001b[0;32m~/.cache/pypoetry/virtualenvs/micrlhf-progress-_SD4q1c9-py3.12/lib/python3.12/site-packages/penzai/nn/combinators.py:59\u001b[0m, in \u001b[0;36mResidual.__call__\u001b[0;34m(self, value)\u001b[0m\n\u001b[1;32m     50\u001b[0m \u001b[38;5;28;01mdef\u001b[39;00m \u001b[38;5;21m__call__\u001b[39m(\u001b[38;5;28mself\u001b[39m, value: Any) \u001b[38;5;241m-\u001b[39m\u001b[38;5;241m>\u001b[39m Any:\n\u001b[1;32m     51\u001b[0m \u001b[38;5;250m  \u001b[39m\u001b[38;5;124;03m\"\"\"Runs each of the sublayers in sequence, then adds back the original input.\u001b[39;00m\n\u001b[1;32m     52\u001b[0m \n\u001b[1;32m     53\u001b[0m \u001b[38;5;124;03m  Args:\u001b[39;00m\n\u001b[0;32m   (...)\u001b[0m\n\u001b[1;32m     57\u001b[0m \u001b[38;5;124;03m    The sum of the input to the residual block and the output of the child.\u001b[39;00m\n\u001b[1;32m     58\u001b[0m \u001b[38;5;124;03m  \"\"\"\u001b[39;00m\n\u001b[0;32m---> 59\u001b[0m   delta_value \u001b[38;5;241m=\u001b[39m \u001b[38;5;28;43mself\u001b[39;49m\u001b[38;5;241;43m.\u001b[39;49m\u001b[43mdelta\u001b[49m\u001b[43m(\u001b[49m\u001b[43mvalue\u001b[49m\u001b[43m)\u001b[49m\n\u001b[1;32m     60\u001b[0m   \u001b[38;5;28;01mreturn\u001b[39;00m delta_value \u001b[38;5;241m+\u001b[39m value\n",
      "File \u001b[0;32m~/.cache/pypoetry/virtualenvs/micrlhf-progress-_SD4q1c9-py3.12/lib/python3.12/site-packages/penzai/nn/grouping.py:79\u001b[0m, in \u001b[0;36mSequential.__call__\u001b[0;34m(self, value)\u001b[0m\n\u001b[1;32m     77\u001b[0m \u001b[38;5;28;01mfor\u001b[39;00m i, layer \u001b[38;5;129;01min\u001b[39;00m \u001b[38;5;28menumerate\u001b[39m(\u001b[38;5;28mself\u001b[39m\u001b[38;5;241m.\u001b[39msublayers):\n\u001b[1;32m     78\u001b[0m   \u001b[38;5;28;01mwith\u001b[39;00m jax\u001b[38;5;241m.\u001b[39mnamed_scope(\u001b[38;5;124mf\u001b[39m\u001b[38;5;124m\"\u001b[39m\u001b[38;5;132;01m{\u001b[39;00mi\u001b[38;5;132;01m}\u001b[39;00m\u001b[38;5;124m\"\u001b[39m):\n\u001b[0;32m---> 79\u001b[0m     value \u001b[38;5;241m=\u001b[39m \u001b[43mlayer\u001b[49m\u001b[43m(\u001b[49m\u001b[43mvalue\u001b[49m\u001b[43m)\u001b[49m\n\u001b[1;32m     80\u001b[0m \u001b[38;5;28;01mreturn\u001b[39;00m value\n",
      "File \u001b[0;32m~/.cache/pypoetry/virtualenvs/micrlhf-progress-_SD4q1c9-py3.12/lib/python3.12/site-packages/penzai/nn/attention.py:130\u001b[0m, in \u001b[0;36mAttention.__call__\u001b[0;34m(self, x)\u001b[0m\n\u001b[1;32m    120\u001b[0m \u001b[38;5;250m\u001b[39m\u001b[38;5;124;03m\"\"\"Runs the attention computation.\u001b[39;00m\n\u001b[1;32m    121\u001b[0m \n\u001b[1;32m    122\u001b[0m \u001b[38;5;124;03mArgs:\u001b[39;00m\n\u001b[0;32m   (...)\u001b[0m\n\u001b[1;32m    127\u001b[0m \u001b[38;5;124;03m  The final output of the ``attn_value_to_output`` sublayer.\u001b[39;00m\n\u001b[1;32m    128\u001b[0m \u001b[38;5;124;03m\"\"\"\u001b[39;00m\n\u001b[1;32m    129\u001b[0m query \u001b[38;5;241m=\u001b[39m \u001b[38;5;28mself\u001b[39m\u001b[38;5;241m.\u001b[39minput_to_query(x)\n\u001b[0;32m--> 130\u001b[0m key \u001b[38;5;241m=\u001b[39m \u001b[38;5;28;43mself\u001b[39;49m\u001b[38;5;241;43m.\u001b[39;49m\u001b[43minput_to_key\u001b[49m\u001b[43m(\u001b[49m\u001b[43mx\u001b[49m\u001b[43m)\u001b[49m\n\u001b[1;32m    131\u001b[0m value \u001b[38;5;241m=\u001b[39m \u001b[38;5;28mself\u001b[39m\u001b[38;5;241m.\u001b[39minput_to_value(x)\n\u001b[1;32m    132\u001b[0m attn \u001b[38;5;241m=\u001b[39m \u001b[38;5;28mself\u001b[39m\u001b[38;5;241m.\u001b[39mquery_key_to_attn((query, key))\n",
      "File \u001b[0;32m~/.cache/pypoetry/virtualenvs/micrlhf-progress-_SD4q1c9-py3.12/lib/python3.12/site-packages/penzai/nn/grouping.py:79\u001b[0m, in \u001b[0;36mSequential.__call__\u001b[0;34m(self, value)\u001b[0m\n\u001b[1;32m     77\u001b[0m \u001b[38;5;28;01mfor\u001b[39;00m i, layer \u001b[38;5;129;01min\u001b[39;00m \u001b[38;5;28menumerate\u001b[39m(\u001b[38;5;28mself\u001b[39m\u001b[38;5;241m.\u001b[39msublayers):\n\u001b[1;32m     78\u001b[0m   \u001b[38;5;28;01mwith\u001b[39;00m jax\u001b[38;5;241m.\u001b[39mnamed_scope(\u001b[38;5;124mf\u001b[39m\u001b[38;5;124m\"\u001b[39m\u001b[38;5;132;01m{\u001b[39;00mi\u001b[38;5;132;01m}\u001b[39;00m\u001b[38;5;124m\"\u001b[39m):\n\u001b[0;32m---> 79\u001b[0m     value \u001b[38;5;241m=\u001b[39m \u001b[43mlayer\u001b[49m\u001b[43m(\u001b[49m\u001b[43mvalue\u001b[49m\u001b[43m)\u001b[49m\n\u001b[1;32m     80\u001b[0m \u001b[38;5;28;01mreturn\u001b[39;00m value\n",
      "File \u001b[0;32m~/.cache/pypoetry/virtualenvs/micrlhf-progress-_SD4q1c9-py3.12/lib/python3.12/site-packages/penzai/core/layer.py:82\u001b[0m, in \u001b[0;36mchecked_layer_call.<locals>.wrapper\u001b[0;34m(self, argument)\u001b[0m\n\u001b[1;32m     80\u001b[0m output_structure \u001b[38;5;241m=\u001b[39m \u001b[38;5;28mself\u001b[39m\u001b[38;5;241m.\u001b[39moutput_structure()\n\u001b[1;32m     81\u001b[0m \u001b[38;5;28;01mwith\u001b[39;00m jax\u001b[38;5;241m.\u001b[39mnamed_scope(\u001b[38;5;28mtype\u001b[39m(\u001b[38;5;28mself\u001b[39m)\u001b[38;5;241m.\u001b[39m\u001b[38;5;18m__name__\u001b[39m):\n\u001b[0;32m---> 82\u001b[0m   result \u001b[38;5;241m=\u001b[39m \u001b[43mfunc\u001b[49m\u001b[43m(\u001b[49m\u001b[38;5;28;43mself\u001b[39;49m\u001b[43m,\u001b[49m\u001b[43m \u001b[49m\u001b[43margument\u001b[49m\u001b[43m)\u001b[49m\n\u001b[1;32m     83\u001b[0m shapecheck\u001b[38;5;241m.\u001b[39mcheck_structure(\n\u001b[1;32m     84\u001b[0m     result,\n\u001b[1;32m     85\u001b[0m     pattern\u001b[38;5;241m=\u001b[39moutput_structure,\n\u001b[0;32m   (...)\u001b[0m\n\u001b[1;32m     90\u001b[0m     ),\n\u001b[1;32m     91\u001b[0m )\n\u001b[1;32m     92\u001b[0m \u001b[38;5;28;01mreturn\u001b[39;00m result\n",
      "File \u001b[0;32m~/.cache/pypoetry/virtualenvs/micrlhf-progress-_SD4q1c9-py3.12/lib/python3.12/site-packages/penzai/nn/linear_and_affine.py:451\u001b[0m, in \u001b[0;36mLinear.__call__\u001b[0;34m(self, in_array)\u001b[0m\n\u001b[1;32m    448\u001b[0m \u001b[38;5;129m@layer_base\u001b[39m\u001b[38;5;241m.\u001b[39mchecked_layer_call\n\u001b[1;32m    449\u001b[0m \u001b[38;5;28;01mdef\u001b[39;00m \u001b[38;5;21m__call__\u001b[39m(\u001b[38;5;28mself\u001b[39m, in_array: NamedArray) \u001b[38;5;241m-\u001b[39m\u001b[38;5;241m>\u001b[39m NamedArray:\n\u001b[1;32m    450\u001b[0m \u001b[38;5;250m  \u001b[39m\u001b[38;5;124;03m\"\"\"Runs the linear operator.\"\"\"\u001b[39;00m\n\u001b[0;32m--> 451\u001b[0m   \u001b[38;5;28;01mreturn\u001b[39;00m \u001b[43mcontract\u001b[49m\u001b[43m(\u001b[49m\u001b[38;5;28;43mself\u001b[39;49m\u001b[38;5;241;43m.\u001b[39;49m\u001b[43min_axis_names\u001b[49m\u001b[43m,\u001b[49m\u001b[43m \u001b[49m\u001b[43min_array\u001b[49m\u001b[43m,\u001b[49m\u001b[43m \u001b[49m\u001b[38;5;28;43mself\u001b[39;49m\u001b[38;5;241;43m.\u001b[39;49m\u001b[43mweights\u001b[49m\u001b[38;5;241;43m.\u001b[39;49m\u001b[43mvalue\u001b[49m\u001b[43m)\u001b[49m\n",
      "File \u001b[0;32m~/.cache/pypoetry/virtualenvs/micrlhf-progress-_SD4q1c9-py3.12/lib/python3.12/site-packages/penzai/nn/linear_and_affine.py:301\u001b[0m, in \u001b[0;36mcontract\u001b[0;34m(names, left, right)\u001b[0m\n\u001b[1;32m    286\u001b[0m \u001b[38;5;250m\u001b[39m\u001b[38;5;124;03m\"\"\"Contracts two named arrays along the given axis names.\u001b[39;00m\n\u001b[1;32m    287\u001b[0m \n\u001b[1;32m    288\u001b[0m \u001b[38;5;124;03mArgs:\u001b[39;00m\n\u001b[0;32m   (...)\u001b[0m\n\u001b[1;32m    298\u001b[0m \u001b[38;5;124;03m  away.\u001b[39;00m\n\u001b[1;32m    299\u001b[0m \u001b[38;5;124;03m\"\"\"\u001b[39;00m\n\u001b[1;32m    300\u001b[0m names \u001b[38;5;241m=\u001b[39m (names,) \u001b[38;5;28;01mif\u001b[39;00m \u001b[38;5;28misinstance\u001b[39m(names, \u001b[38;5;28mstr\u001b[39m) \u001b[38;5;28;01melse\u001b[39;00m names\n\u001b[0;32m--> 301\u001b[0m \u001b[38;5;28;01mreturn\u001b[39;00m \u001b[43mnamed_axes\u001b[49m\u001b[38;5;241;43m.\u001b[39;49m\u001b[43mnmap\u001b[49m\u001b[43m(\u001b[49m\u001b[43mjnp\u001b[49m\u001b[38;5;241;43m.\u001b[39;49m\u001b[43mtensordot\u001b[49m\u001b[43m)\u001b[49m\u001b[43m(\u001b[49m\n\u001b[1;32m    302\u001b[0m \u001b[43m    \u001b[49m\u001b[43mleft\u001b[49m\u001b[38;5;241;43m.\u001b[39;49m\u001b[43muntag\u001b[49m\u001b[43m(\u001b[49m\u001b[38;5;241;43m*\u001b[39;49m\u001b[43mnames\u001b[49m\u001b[43m)\u001b[49m\u001b[43m,\u001b[49m\u001b[43m \u001b[49m\u001b[43mright\u001b[49m\u001b[38;5;241;43m.\u001b[39;49m\u001b[43muntag\u001b[49m\u001b[43m(\u001b[49m\u001b[38;5;241;43m*\u001b[39;49m\u001b[43mnames\u001b[49m\u001b[43m)\u001b[49m\u001b[43m,\u001b[49m\u001b[43m \u001b[49m\u001b[43maxes\u001b[49m\u001b[38;5;241;43m=\u001b[39;49m\u001b[38;5;28;43mlen\u001b[39;49m\u001b[43m(\u001b[49m\u001b[43mnames\u001b[49m\u001b[43m)\u001b[49m\n\u001b[1;32m    303\u001b[0m \u001b[43m\u001b[49m\u001b[43m)\u001b[49m\n",
      "File \u001b[0;32m~/.cache/pypoetry/virtualenvs/micrlhf-progress-_SD4q1c9-py3.12/lib/python3.12/site-packages/penzai/core/named_axes.py:309\u001b[0m, in \u001b[0;36m_nmap_with_doc.<locals>.wrapped_fun\u001b[0;34m(*args, **kwargs)\u001b[0m\n\u001b[1;32m    298\u001b[0m   \u001b[38;5;28;01mreturn\u001b[39;00m jax\u001b[38;5;241m.\u001b[39mvmap(\n\u001b[1;32m    299\u001b[0m       functools\u001b[38;5;241m.\u001b[39mpartial(\n\u001b[1;32m    300\u001b[0m           recursive_vectorize_step,\n\u001b[0;32m   (...)\u001b[0m\n\u001b[1;32m    305\u001b[0m       axis_name\u001b[38;5;241m=\u001b[39mvmap_name,\n\u001b[1;32m    306\u001b[0m   )(reduced_views)\n\u001b[1;32m    308\u001b[0m \u001b[38;5;66;03m# Run the function.\u001b[39;00m\n\u001b[0;32m--> 309\u001b[0m result_data \u001b[38;5;241m=\u001b[39m \u001b[43mrecursive_vectorize_step\u001b[49m\u001b[43m(\u001b[49m\u001b[43mnamed_array_arg_leaves\u001b[49m\u001b[43m,\u001b[49m\u001b[43m \u001b[49m\u001b[43mall_names\u001b[49m\u001b[43m)\u001b[49m\n\u001b[1;32m    311\u001b[0m \u001b[38;5;66;03m# Wrap all leaves in NamedArray or NamedArrayView, assigning the names from\u001b[39;00m\n\u001b[1;32m    312\u001b[0m \u001b[38;5;66;03m# `all_names` to their mapped-over axes. The mapped-over named axes always\u001b[39;00m\n\u001b[1;32m    313\u001b[0m \u001b[38;5;66;03m# end up at the front, followed by positional axes, so if there are any\u001b[39;00m\n\u001b[1;32m    314\u001b[0m \u001b[38;5;66;03m# positional axes we need to return a NamedArrayView.\u001b[39;00m\n\u001b[1;32m    315\u001b[0m \u001b[38;5;28;01mdef\u001b[39;00m \u001b[38;5;21mhandle_result\u001b[39m(leaf):\n",
      "File \u001b[0;32m~/.cache/pypoetry/virtualenvs/micrlhf-progress-_SD4q1c9-py3.12/lib/python3.12/site-packages/penzai/core/named_axes.py:298\u001b[0m, in \u001b[0;36m_nmap_with_doc.<locals>.wrapped_fun.<locals>.recursive_vectorize_step\u001b[0;34m(current_views, remaining_names)\u001b[0m\n\u001b[1;32m    295\u001b[0m     vmap_axes\u001b[38;5;241m.\u001b[39mappend(\u001b[38;5;28;01mNone\u001b[39;00m)\n\u001b[1;32m    296\u001b[0m     reduced_views\u001b[38;5;241m.\u001b[39mappend(view)\n\u001b[0;32m--> 298\u001b[0m \u001b[38;5;28;01mreturn\u001b[39;00m \u001b[43mjax\u001b[49m\u001b[38;5;241;43m.\u001b[39;49m\u001b[43mvmap\u001b[49m\u001b[43m(\u001b[49m\n\u001b[1;32m    299\u001b[0m \u001b[43m    \u001b[49m\u001b[43mfunctools\u001b[49m\u001b[38;5;241;43m.\u001b[39;49m\u001b[43mpartial\u001b[49m\u001b[43m(\u001b[49m\n\u001b[1;32m    300\u001b[0m \u001b[43m        \u001b[49m\u001b[43mrecursive_vectorize_step\u001b[49m\u001b[43m,\u001b[49m\n\u001b[1;32m    301\u001b[0m \u001b[43m        \u001b[49m\u001b[43mremaining_names\u001b[49m\u001b[38;5;241;43m=\u001b[39;49m\u001b[43mremaining_names\u001b[49m\u001b[43m[\u001b[49m\u001b[38;5;241;43m1\u001b[39;49m\u001b[43m:\u001b[49m\u001b[43m]\u001b[49m\u001b[43m,\u001b[49m\n\u001b[1;32m    302\u001b[0m \u001b[43m    \u001b[49m\u001b[43m)\u001b[49m\u001b[43m,\u001b[49m\n\u001b[1;32m    303\u001b[0m \u001b[43m    \u001b[49m\u001b[43min_axes\u001b[49m\u001b[38;5;241;43m=\u001b[39;49m\u001b[43m(\u001b[49m\u001b[43mvmap_axes\u001b[49m\u001b[43m,\u001b[49m\u001b[43m)\u001b[49m\u001b[43m,\u001b[49m\n\u001b[1;32m    304\u001b[0m \u001b[43m    \u001b[49m\u001b[43mout_axes\u001b[49m\u001b[38;5;241;43m=\u001b[39;49m\u001b[38;5;241;43m0\u001b[39;49m\u001b[43m,\u001b[49m\n\u001b[1;32m    305\u001b[0m \u001b[43m    \u001b[49m\u001b[43maxis_name\u001b[49m\u001b[38;5;241;43m=\u001b[39;49m\u001b[43mvmap_name\u001b[49m\u001b[43m,\u001b[49m\n\u001b[1;32m    306\u001b[0m \u001b[43m\u001b[49m\u001b[43m)\u001b[49m\u001b[43m(\u001b[49m\u001b[43mreduced_views\u001b[49m\u001b[43m)\u001b[49m\n",
      "    \u001b[0;31m[... skipping hidden 1 frame]\u001b[0m\n",
      "File \u001b[0;32m~/.cache/pypoetry/virtualenvs/micrlhf-progress-_SD4q1c9-py3.12/lib/python3.12/site-packages/jax/_src/api.py:1214\u001b[0m, in \u001b[0;36mvmap.<locals>.vmap_f\u001b[0;34m(*args, **kwargs)\u001b[0m\n\u001b[1;32m   1211\u001b[0m in_axes_flat \u001b[38;5;241m=\u001b[39m flatten_axes(\u001b[38;5;124m\"\u001b[39m\u001b[38;5;124mvmap in_axes\u001b[39m\u001b[38;5;124m\"\u001b[39m, in_tree, (in_axes, \u001b[38;5;241m0\u001b[39m), kws\u001b[38;5;241m=\u001b[39m\u001b[38;5;28;01mTrue\u001b[39;00m)\n\u001b[1;32m   1212\u001b[0m axis_size_ \u001b[38;5;241m=\u001b[39m (axis_size \u001b[38;5;28;01mif\u001b[39;00m axis_size \u001b[38;5;129;01mis\u001b[39;00m \u001b[38;5;129;01mnot\u001b[39;00m \u001b[38;5;28;01mNone\u001b[39;00m \u001b[38;5;28;01melse\u001b[39;00m\n\u001b[1;32m   1213\u001b[0m               _mapped_axis_size(fun, in_tree, args_flat, in_axes_flat, \u001b[38;5;124m\"\u001b[39m\u001b[38;5;124mvmap\u001b[39m\u001b[38;5;124m\"\u001b[39m))\n\u001b[0;32m-> 1214\u001b[0m out_flat \u001b[38;5;241m=\u001b[39m \u001b[43mbatching\u001b[49m\u001b[38;5;241;43m.\u001b[39;49m\u001b[43mbatch\u001b[49m\u001b[43m(\u001b[49m\n\u001b[1;32m   1215\u001b[0m \u001b[43m    \u001b[49m\u001b[43mflat_fun\u001b[49m\u001b[43m,\u001b[49m\u001b[43m \u001b[49m\u001b[43maxis_name\u001b[49m\u001b[43m,\u001b[49m\u001b[43m \u001b[49m\u001b[43maxis_size_\u001b[49m\u001b[43m,\u001b[49m\u001b[43m \u001b[49m\u001b[43min_axes_flat\u001b[49m\u001b[43m,\u001b[49m\n\u001b[1;32m   1216\u001b[0m \u001b[43m    \u001b[49m\u001b[38;5;28;43;01mlambda\u001b[39;49;00m\u001b[43m:\u001b[49m\u001b[43m \u001b[49m\u001b[43mflatten_axes\u001b[49m\u001b[43m(\u001b[49m\u001b[38;5;124;43m\"\u001b[39;49m\u001b[38;5;124;43mvmap out_axes\u001b[39;49m\u001b[38;5;124;43m\"\u001b[39;49m\u001b[43m,\u001b[49m\u001b[43m \u001b[49m\u001b[43mout_tree\u001b[49m\u001b[43m(\u001b[49m\u001b[43m)\u001b[49m\u001b[43m,\u001b[49m\u001b[43m \u001b[49m\u001b[43mout_axes\u001b[49m\u001b[43m)\u001b[49m\u001b[43m,\u001b[49m\n\u001b[1;32m   1217\u001b[0m \u001b[43m    \u001b[49m\u001b[43mspmd_axis_name\u001b[49m\u001b[38;5;241;43m=\u001b[39;49m\u001b[43mspmd_axis_name\u001b[49m\n\u001b[1;32m   1218\u001b[0m \u001b[43m\u001b[49m\u001b[43m)\u001b[49m\u001b[38;5;241;43m.\u001b[39;49m\u001b[43mcall_wrapped\u001b[49m\u001b[43m(\u001b[49m\u001b[38;5;241;43m*\u001b[39;49m\u001b[43margs_flat\u001b[49m\u001b[43m)\u001b[49m\n\u001b[1;32m   1219\u001b[0m \u001b[38;5;28;01mreturn\u001b[39;00m tree_unflatten(out_tree(), out_flat)\n",
      "File \u001b[0;32m~/.cache/pypoetry/virtualenvs/micrlhf-progress-_SD4q1c9-py3.12/lib/python3.12/site-packages/jax/_src/linear_util.py:192\u001b[0m, in \u001b[0;36mWrappedFun.call_wrapped\u001b[0;34m(self, *args, **kwargs)\u001b[0m\n\u001b[1;32m    189\u001b[0m gen \u001b[38;5;241m=\u001b[39m gen_static_args \u001b[38;5;241m=\u001b[39m out_store \u001b[38;5;241m=\u001b[39m \u001b[38;5;28;01mNone\u001b[39;00m\n\u001b[1;32m    191\u001b[0m \u001b[38;5;28;01mtry\u001b[39;00m:\n\u001b[0;32m--> 192\u001b[0m   ans \u001b[38;5;241m=\u001b[39m \u001b[38;5;28;43mself\u001b[39;49m\u001b[38;5;241;43m.\u001b[39;49m\u001b[43mf\u001b[49m\u001b[43m(\u001b[49m\u001b[38;5;241;43m*\u001b[39;49m\u001b[43margs\u001b[49m\u001b[43m,\u001b[49m\u001b[43m \u001b[49m\u001b[38;5;241;43m*\u001b[39;49m\u001b[38;5;241;43m*\u001b[39;49m\u001b[38;5;28;43mdict\u001b[39;49m\u001b[43m(\u001b[49m\u001b[38;5;28;43mself\u001b[39;49m\u001b[38;5;241;43m.\u001b[39;49m\u001b[43mparams\u001b[49m\u001b[43m,\u001b[49m\u001b[43m \u001b[49m\u001b[38;5;241;43m*\u001b[39;49m\u001b[38;5;241;43m*\u001b[39;49m\u001b[43mkwargs\u001b[49m\u001b[43m)\u001b[49m\u001b[43m)\u001b[49m\n\u001b[1;32m    193\u001b[0m \u001b[38;5;28;01mexcept\u001b[39;00m:\n\u001b[1;32m    194\u001b[0m   \u001b[38;5;66;03m# Some transformations yield from inside context managers, so we have to\u001b[39;00m\n\u001b[1;32m    195\u001b[0m   \u001b[38;5;66;03m# interrupt them before reraising the exception. Otherwise they will only\u001b[39;00m\n\u001b[1;32m    196\u001b[0m   \u001b[38;5;66;03m# get garbage-collected at some later time, running their cleanup tasks\u001b[39;00m\n\u001b[1;32m    197\u001b[0m   \u001b[38;5;66;03m# only after this exception is handled, which can corrupt the global\u001b[39;00m\n\u001b[1;32m    198\u001b[0m   \u001b[38;5;66;03m# state.\u001b[39;00m\n\u001b[1;32m    199\u001b[0m   \u001b[38;5;28;01mwhile\u001b[39;00m stack:\n",
      "File \u001b[0;32m~/.cache/pypoetry/virtualenvs/micrlhf-progress-_SD4q1c9-py3.12/lib/python3.12/site-packages/penzai/core/named_axes.py:298\u001b[0m, in \u001b[0;36m_nmap_with_doc.<locals>.wrapped_fun.<locals>.recursive_vectorize_step\u001b[0;34m(current_views, remaining_names)\u001b[0m\n\u001b[1;32m    295\u001b[0m     vmap_axes\u001b[38;5;241m.\u001b[39mappend(\u001b[38;5;28;01mNone\u001b[39;00m)\n\u001b[1;32m    296\u001b[0m     reduced_views\u001b[38;5;241m.\u001b[39mappend(view)\n\u001b[0;32m--> 298\u001b[0m \u001b[38;5;28;01mreturn\u001b[39;00m \u001b[43mjax\u001b[49m\u001b[38;5;241;43m.\u001b[39;49m\u001b[43mvmap\u001b[49m\u001b[43m(\u001b[49m\n\u001b[1;32m    299\u001b[0m \u001b[43m    \u001b[49m\u001b[43mfunctools\u001b[49m\u001b[38;5;241;43m.\u001b[39;49m\u001b[43mpartial\u001b[49m\u001b[43m(\u001b[49m\n\u001b[1;32m    300\u001b[0m \u001b[43m        \u001b[49m\u001b[43mrecursive_vectorize_step\u001b[49m\u001b[43m,\u001b[49m\n\u001b[1;32m    301\u001b[0m \u001b[43m        \u001b[49m\u001b[43mremaining_names\u001b[49m\u001b[38;5;241;43m=\u001b[39;49m\u001b[43mremaining_names\u001b[49m\u001b[43m[\u001b[49m\u001b[38;5;241;43m1\u001b[39;49m\u001b[43m:\u001b[49m\u001b[43m]\u001b[49m\u001b[43m,\u001b[49m\n\u001b[1;32m    302\u001b[0m \u001b[43m    \u001b[49m\u001b[43m)\u001b[49m\u001b[43m,\u001b[49m\n\u001b[1;32m    303\u001b[0m \u001b[43m    \u001b[49m\u001b[43min_axes\u001b[49m\u001b[38;5;241;43m=\u001b[39;49m\u001b[43m(\u001b[49m\u001b[43mvmap_axes\u001b[49m\u001b[43m,\u001b[49m\u001b[43m)\u001b[49m\u001b[43m,\u001b[49m\n\u001b[1;32m    304\u001b[0m \u001b[43m    \u001b[49m\u001b[43mout_axes\u001b[49m\u001b[38;5;241;43m=\u001b[39;49m\u001b[38;5;241;43m0\u001b[39;49m\u001b[43m,\u001b[49m\n\u001b[1;32m    305\u001b[0m \u001b[43m    \u001b[49m\u001b[43maxis_name\u001b[49m\u001b[38;5;241;43m=\u001b[39;49m\u001b[43mvmap_name\u001b[49m\u001b[43m,\u001b[49m\n\u001b[1;32m    306\u001b[0m \u001b[43m\u001b[49m\u001b[43m)\u001b[49m\u001b[43m(\u001b[49m\u001b[43mreduced_views\u001b[49m\u001b[43m)\u001b[49m\n",
      "    \u001b[0;31m[... skipping hidden 1 frame]\u001b[0m\n",
      "File \u001b[0;32m~/.cache/pypoetry/virtualenvs/micrlhf-progress-_SD4q1c9-py3.12/lib/python3.12/site-packages/jax/_src/api.py:1214\u001b[0m, in \u001b[0;36mvmap.<locals>.vmap_f\u001b[0;34m(*args, **kwargs)\u001b[0m\n\u001b[1;32m   1211\u001b[0m in_axes_flat \u001b[38;5;241m=\u001b[39m flatten_axes(\u001b[38;5;124m\"\u001b[39m\u001b[38;5;124mvmap in_axes\u001b[39m\u001b[38;5;124m\"\u001b[39m, in_tree, (in_axes, \u001b[38;5;241m0\u001b[39m), kws\u001b[38;5;241m=\u001b[39m\u001b[38;5;28;01mTrue\u001b[39;00m)\n\u001b[1;32m   1212\u001b[0m axis_size_ \u001b[38;5;241m=\u001b[39m (axis_size \u001b[38;5;28;01mif\u001b[39;00m axis_size \u001b[38;5;129;01mis\u001b[39;00m \u001b[38;5;129;01mnot\u001b[39;00m \u001b[38;5;28;01mNone\u001b[39;00m \u001b[38;5;28;01melse\u001b[39;00m\n\u001b[1;32m   1213\u001b[0m               _mapped_axis_size(fun, in_tree, args_flat, in_axes_flat, \u001b[38;5;124m\"\u001b[39m\u001b[38;5;124mvmap\u001b[39m\u001b[38;5;124m\"\u001b[39m))\n\u001b[0;32m-> 1214\u001b[0m out_flat \u001b[38;5;241m=\u001b[39m \u001b[43mbatching\u001b[49m\u001b[38;5;241;43m.\u001b[39;49m\u001b[43mbatch\u001b[49m\u001b[43m(\u001b[49m\n\u001b[1;32m   1215\u001b[0m \u001b[43m    \u001b[49m\u001b[43mflat_fun\u001b[49m\u001b[43m,\u001b[49m\u001b[43m \u001b[49m\u001b[43maxis_name\u001b[49m\u001b[43m,\u001b[49m\u001b[43m \u001b[49m\u001b[43maxis_size_\u001b[49m\u001b[43m,\u001b[49m\u001b[43m \u001b[49m\u001b[43min_axes_flat\u001b[49m\u001b[43m,\u001b[49m\n\u001b[1;32m   1216\u001b[0m \u001b[43m    \u001b[49m\u001b[38;5;28;43;01mlambda\u001b[39;49;00m\u001b[43m:\u001b[49m\u001b[43m \u001b[49m\u001b[43mflatten_axes\u001b[49m\u001b[43m(\u001b[49m\u001b[38;5;124;43m\"\u001b[39;49m\u001b[38;5;124;43mvmap out_axes\u001b[39;49m\u001b[38;5;124;43m\"\u001b[39;49m\u001b[43m,\u001b[49m\u001b[43m \u001b[49m\u001b[43mout_tree\u001b[49m\u001b[43m(\u001b[49m\u001b[43m)\u001b[49m\u001b[43m,\u001b[49m\u001b[43m \u001b[49m\u001b[43mout_axes\u001b[49m\u001b[43m)\u001b[49m\u001b[43m,\u001b[49m\n\u001b[1;32m   1217\u001b[0m \u001b[43m    \u001b[49m\u001b[43mspmd_axis_name\u001b[49m\u001b[38;5;241;43m=\u001b[39;49m\u001b[43mspmd_axis_name\u001b[49m\n\u001b[1;32m   1218\u001b[0m \u001b[43m\u001b[49m\u001b[43m)\u001b[49m\u001b[38;5;241;43m.\u001b[39;49m\u001b[43mcall_wrapped\u001b[49m\u001b[43m(\u001b[49m\u001b[38;5;241;43m*\u001b[39;49m\u001b[43margs_flat\u001b[49m\u001b[43m)\u001b[49m\n\u001b[1;32m   1219\u001b[0m \u001b[38;5;28;01mreturn\u001b[39;00m tree_unflatten(out_tree(), out_flat)\n",
      "File \u001b[0;32m~/.cache/pypoetry/virtualenvs/micrlhf-progress-_SD4q1c9-py3.12/lib/python3.12/site-packages/jax/_src/linear_util.py:192\u001b[0m, in \u001b[0;36mWrappedFun.call_wrapped\u001b[0;34m(self, *args, **kwargs)\u001b[0m\n\u001b[1;32m    189\u001b[0m gen \u001b[38;5;241m=\u001b[39m gen_static_args \u001b[38;5;241m=\u001b[39m out_store \u001b[38;5;241m=\u001b[39m \u001b[38;5;28;01mNone\u001b[39;00m\n\u001b[1;32m    191\u001b[0m \u001b[38;5;28;01mtry\u001b[39;00m:\n\u001b[0;32m--> 192\u001b[0m   ans \u001b[38;5;241m=\u001b[39m \u001b[38;5;28;43mself\u001b[39;49m\u001b[38;5;241;43m.\u001b[39;49m\u001b[43mf\u001b[49m\u001b[43m(\u001b[49m\u001b[38;5;241;43m*\u001b[39;49m\u001b[43margs\u001b[49m\u001b[43m,\u001b[49m\u001b[43m \u001b[49m\u001b[38;5;241;43m*\u001b[39;49m\u001b[38;5;241;43m*\u001b[39;49m\u001b[38;5;28;43mdict\u001b[39;49m\u001b[43m(\u001b[49m\u001b[38;5;28;43mself\u001b[39;49m\u001b[38;5;241;43m.\u001b[39;49m\u001b[43mparams\u001b[49m\u001b[43m,\u001b[49m\u001b[43m \u001b[49m\u001b[38;5;241;43m*\u001b[39;49m\u001b[38;5;241;43m*\u001b[39;49m\u001b[43mkwargs\u001b[49m\u001b[43m)\u001b[49m\u001b[43m)\u001b[49m\n\u001b[1;32m    193\u001b[0m \u001b[38;5;28;01mexcept\u001b[39;00m:\n\u001b[1;32m    194\u001b[0m   \u001b[38;5;66;03m# Some transformations yield from inside context managers, so we have to\u001b[39;00m\n\u001b[1;32m    195\u001b[0m   \u001b[38;5;66;03m# interrupt them before reraising the exception. Otherwise they will only\u001b[39;00m\n\u001b[1;32m    196\u001b[0m   \u001b[38;5;66;03m# get garbage-collected at some later time, running their cleanup tasks\u001b[39;00m\n\u001b[1;32m    197\u001b[0m   \u001b[38;5;66;03m# only after this exception is handled, which can corrupt the global\u001b[39;00m\n\u001b[1;32m    198\u001b[0m   \u001b[38;5;66;03m# state.\u001b[39;00m\n\u001b[1;32m    199\u001b[0m   \u001b[38;5;28;01mwhile\u001b[39;00m stack:\n",
      "File \u001b[0;32m~/.cache/pypoetry/virtualenvs/micrlhf-progress-_SD4q1c9-py3.12/lib/python3.12/site-packages/penzai/core/named_axes.py:298\u001b[0m, in \u001b[0;36m_nmap_with_doc.<locals>.wrapped_fun.<locals>.recursive_vectorize_step\u001b[0;34m(current_views, remaining_names)\u001b[0m\n\u001b[1;32m    295\u001b[0m     vmap_axes\u001b[38;5;241m.\u001b[39mappend(\u001b[38;5;28;01mNone\u001b[39;00m)\n\u001b[1;32m    296\u001b[0m     reduced_views\u001b[38;5;241m.\u001b[39mappend(view)\n\u001b[0;32m--> 298\u001b[0m \u001b[38;5;28;01mreturn\u001b[39;00m \u001b[43mjax\u001b[49m\u001b[38;5;241;43m.\u001b[39;49m\u001b[43mvmap\u001b[49m\u001b[43m(\u001b[49m\n\u001b[1;32m    299\u001b[0m \u001b[43m    \u001b[49m\u001b[43mfunctools\u001b[49m\u001b[38;5;241;43m.\u001b[39;49m\u001b[43mpartial\u001b[49m\u001b[43m(\u001b[49m\n\u001b[1;32m    300\u001b[0m \u001b[43m        \u001b[49m\u001b[43mrecursive_vectorize_step\u001b[49m\u001b[43m,\u001b[49m\n\u001b[1;32m    301\u001b[0m \u001b[43m        \u001b[49m\u001b[43mremaining_names\u001b[49m\u001b[38;5;241;43m=\u001b[39;49m\u001b[43mremaining_names\u001b[49m\u001b[43m[\u001b[49m\u001b[38;5;241;43m1\u001b[39;49m\u001b[43m:\u001b[49m\u001b[43m]\u001b[49m\u001b[43m,\u001b[49m\n\u001b[1;32m    302\u001b[0m \u001b[43m    \u001b[49m\u001b[43m)\u001b[49m\u001b[43m,\u001b[49m\n\u001b[1;32m    303\u001b[0m \u001b[43m    \u001b[49m\u001b[43min_axes\u001b[49m\u001b[38;5;241;43m=\u001b[39;49m\u001b[43m(\u001b[49m\u001b[43mvmap_axes\u001b[49m\u001b[43m,\u001b[49m\u001b[43m)\u001b[49m\u001b[43m,\u001b[49m\n\u001b[1;32m    304\u001b[0m \u001b[43m    \u001b[49m\u001b[43mout_axes\u001b[49m\u001b[38;5;241;43m=\u001b[39;49m\u001b[38;5;241;43m0\u001b[39;49m\u001b[43m,\u001b[49m\n\u001b[1;32m    305\u001b[0m \u001b[43m    \u001b[49m\u001b[43maxis_name\u001b[49m\u001b[38;5;241;43m=\u001b[39;49m\u001b[43mvmap_name\u001b[49m\u001b[43m,\u001b[49m\n\u001b[1;32m    306\u001b[0m \u001b[43m\u001b[49m\u001b[43m)\u001b[49m\u001b[43m(\u001b[49m\u001b[43mreduced_views\u001b[49m\u001b[43m)\u001b[49m\n",
      "    \u001b[0;31m[... skipping hidden 1 frame]\u001b[0m\n",
      "File \u001b[0;32m~/.cache/pypoetry/virtualenvs/micrlhf-progress-_SD4q1c9-py3.12/lib/python3.12/site-packages/jax/_src/api.py:1214\u001b[0m, in \u001b[0;36mvmap.<locals>.vmap_f\u001b[0;34m(*args, **kwargs)\u001b[0m\n\u001b[1;32m   1211\u001b[0m in_axes_flat \u001b[38;5;241m=\u001b[39m flatten_axes(\u001b[38;5;124m\"\u001b[39m\u001b[38;5;124mvmap in_axes\u001b[39m\u001b[38;5;124m\"\u001b[39m, in_tree, (in_axes, \u001b[38;5;241m0\u001b[39m), kws\u001b[38;5;241m=\u001b[39m\u001b[38;5;28;01mTrue\u001b[39;00m)\n\u001b[1;32m   1212\u001b[0m axis_size_ \u001b[38;5;241m=\u001b[39m (axis_size \u001b[38;5;28;01mif\u001b[39;00m axis_size \u001b[38;5;129;01mis\u001b[39;00m \u001b[38;5;129;01mnot\u001b[39;00m \u001b[38;5;28;01mNone\u001b[39;00m \u001b[38;5;28;01melse\u001b[39;00m\n\u001b[1;32m   1213\u001b[0m               _mapped_axis_size(fun, in_tree, args_flat, in_axes_flat, \u001b[38;5;124m\"\u001b[39m\u001b[38;5;124mvmap\u001b[39m\u001b[38;5;124m\"\u001b[39m))\n\u001b[0;32m-> 1214\u001b[0m out_flat \u001b[38;5;241m=\u001b[39m \u001b[43mbatching\u001b[49m\u001b[38;5;241;43m.\u001b[39;49m\u001b[43mbatch\u001b[49m\u001b[43m(\u001b[49m\n\u001b[1;32m   1215\u001b[0m \u001b[43m    \u001b[49m\u001b[43mflat_fun\u001b[49m\u001b[43m,\u001b[49m\u001b[43m \u001b[49m\u001b[43maxis_name\u001b[49m\u001b[43m,\u001b[49m\u001b[43m \u001b[49m\u001b[43maxis_size_\u001b[49m\u001b[43m,\u001b[49m\u001b[43m \u001b[49m\u001b[43min_axes_flat\u001b[49m\u001b[43m,\u001b[49m\n\u001b[1;32m   1216\u001b[0m \u001b[43m    \u001b[49m\u001b[38;5;28;43;01mlambda\u001b[39;49;00m\u001b[43m:\u001b[49m\u001b[43m \u001b[49m\u001b[43mflatten_axes\u001b[49m\u001b[43m(\u001b[49m\u001b[38;5;124;43m\"\u001b[39;49m\u001b[38;5;124;43mvmap out_axes\u001b[39;49m\u001b[38;5;124;43m\"\u001b[39;49m\u001b[43m,\u001b[49m\u001b[43m \u001b[49m\u001b[43mout_tree\u001b[49m\u001b[43m(\u001b[49m\u001b[43m)\u001b[49m\u001b[43m,\u001b[49m\u001b[43m \u001b[49m\u001b[43mout_axes\u001b[49m\u001b[43m)\u001b[49m\u001b[43m,\u001b[49m\n\u001b[1;32m   1217\u001b[0m \u001b[43m    \u001b[49m\u001b[43mspmd_axis_name\u001b[49m\u001b[38;5;241;43m=\u001b[39;49m\u001b[43mspmd_axis_name\u001b[49m\n\u001b[1;32m   1218\u001b[0m \u001b[43m\u001b[49m\u001b[43m)\u001b[49m\u001b[38;5;241;43m.\u001b[39;49m\u001b[43mcall_wrapped\u001b[49m\u001b[43m(\u001b[49m\u001b[38;5;241;43m*\u001b[39;49m\u001b[43margs_flat\u001b[49m\u001b[43m)\u001b[49m\n\u001b[1;32m   1219\u001b[0m \u001b[38;5;28;01mreturn\u001b[39;00m tree_unflatten(out_tree(), out_flat)\n",
      "File \u001b[0;32m~/.cache/pypoetry/virtualenvs/micrlhf-progress-_SD4q1c9-py3.12/lib/python3.12/site-packages/jax/_src/linear_util.py:207\u001b[0m, in \u001b[0;36mWrappedFun.call_wrapped\u001b[0;34m(self, *args, **kwargs)\u001b[0m\n\u001b[1;32m    205\u001b[0m gen, out_store \u001b[38;5;241m=\u001b[39m stack\u001b[38;5;241m.\u001b[39mpop()\n\u001b[1;32m    206\u001b[0m \u001b[38;5;28;01mtry\u001b[39;00m:\n\u001b[0;32m--> 207\u001b[0m   ans \u001b[38;5;241m=\u001b[39m \u001b[43mgen\u001b[49m\u001b[38;5;241;43m.\u001b[39;49m\u001b[43msend\u001b[49m\u001b[43m(\u001b[49m\u001b[43mans\u001b[49m\u001b[43m)\u001b[49m\n\u001b[1;32m    208\u001b[0m \u001b[38;5;28;01mexcept\u001b[39;00m:\n\u001b[1;32m    209\u001b[0m   \u001b[38;5;66;03m# As above does for the first half of the transformation, exceptions\u001b[39;00m\n\u001b[1;32m    210\u001b[0m   \u001b[38;5;66;03m# raised in the second half of the transformation also require us to\u001b[39;00m\n\u001b[1;32m    211\u001b[0m   \u001b[38;5;66;03m# clean up references here.\u001b[39;00m\n\u001b[1;32m    212\u001b[0m   \u001b[38;5;28;01mwhile\u001b[39;00m stack:\n",
      "File \u001b[0;32m~/.cache/pypoetry/virtualenvs/micrlhf-progress-_SD4q1c9-py3.12/lib/python3.12/site-packages/jax/_src/interpreters/batching.py:638\u001b[0m, in \u001b[0;36m_batch_inner\u001b[0;34m(axis_size, out_dim_dests, main, in_dims, *in_vals)\u001b[0m\n\u001b[1;32m    636\u001b[0m outs \u001b[38;5;241m=\u001b[39m \u001b[38;5;28;01myield\u001b[39;00m in_tracers, {}\n\u001b[1;32m    637\u001b[0m out_dim_dests \u001b[38;5;241m=\u001b[39m out_dim_dests() \u001b[38;5;28;01mif\u001b[39;00m \u001b[38;5;28mcallable\u001b[39m(out_dim_dests) \u001b[38;5;28;01melse\u001b[39;00m out_dim_dests\n\u001b[0;32m--> 638\u001b[0m out_vals \u001b[38;5;241m=\u001b[39m \u001b[38;5;28;43mmap\u001b[39;49m\u001b[43m(\u001b[49m\u001b[43mpartial\u001b[49m\u001b[43m(\u001b[49m\u001b[43mfrom_elt\u001b[49m\u001b[43m,\u001b[49m\u001b[43m \u001b[49m\u001b[43mtrace\u001b[49m\u001b[43m,\u001b[49m\u001b[43m \u001b[49m\u001b[43maxis_size\u001b[49m\u001b[43m)\u001b[49m\u001b[43m,\u001b[49m\u001b[43m \u001b[49m\u001b[43mouts\u001b[49m\u001b[43m,\u001b[49m\u001b[43m \u001b[49m\u001b[43mout_dim_dests\u001b[49m\u001b[43m)\u001b[49m\n\u001b[1;32m    639\u001b[0m \u001b[38;5;28;01myield\u001b[39;00m out_vals\n",
      "File \u001b[0;32m~/.cache/pypoetry/virtualenvs/micrlhf-progress-_SD4q1c9-py3.12/lib/python3.12/site-packages/jax/_src/interpreters/batching.py:270\u001b[0m, in \u001b[0;36mfrom_elt\u001b[0;34m(trace, axis_size, x, spec)\u001b[0m\n\u001b[1;32m    268\u001b[0m   \u001b[38;5;28;01mreturn\u001b[39;00m _jumble_result(axis_size, bdim\u001b[38;5;241m.\u001b[39mstacked_axis, bdim\u001b[38;5;241m.\u001b[39mragged_axes, val)\n\u001b[1;32m    269\u001b[0m \u001b[38;5;28;01melse\u001b[39;00m:\n\u001b[0;32m--> 270\u001b[0m   \u001b[38;5;28;01mreturn\u001b[39;00m \u001b[43mmatchaxis\u001b[49m\u001b[43m(\u001b[49m\u001b[43mtrace\u001b[49m\u001b[38;5;241;43m.\u001b[39;49m\u001b[43maxis_name\u001b[49m\u001b[43m,\u001b[49m\u001b[43m \u001b[49m\u001b[43maxis_size\u001b[49m\u001b[43m,\u001b[49m\u001b[43m \u001b[49m\u001b[43mx_\u001b[49m\u001b[38;5;241;43m.\u001b[39;49m\u001b[43mbatch_dim\u001b[49m\u001b[43m,\u001b[49m\u001b[43m \u001b[49m\u001b[43mspec\u001b[49m\u001b[43m,\u001b[49m\u001b[43m \u001b[49m\u001b[43mx_\u001b[49m\u001b[38;5;241;43m.\u001b[39;49m\u001b[43mval\u001b[49m\u001b[43m)\u001b[49m\n",
      "File \u001b[0;32m~/.cache/pypoetry/virtualenvs/micrlhf-progress-_SD4q1c9-py3.12/lib/python3.12/site-packages/jax/_src/interpreters/batching.py:1105\u001b[0m, in \u001b[0;36mmatchaxis\u001b[0;34m(axis_name, sz, src, dst, x, sum_match)\u001b[0m\n\u001b[1;32m   1103\u001b[0m   \u001b[38;5;28;01mreturn\u001b[39;00m Jumble(aval, x)\n\u001b[1;32m   1104\u001b[0m \u001b[38;5;28;01mtry\u001b[39;00m:\n\u001b[0;32m-> 1105\u001b[0m   _ \u001b[38;5;241m=\u001b[39m \u001b[43mcore\u001b[49m\u001b[38;5;241;43m.\u001b[39;49m\u001b[43mget_aval\u001b[49m\u001b[43m(\u001b[49m\u001b[43mx\u001b[49m\u001b[43m)\u001b[49m\n\u001b[1;32m   1106\u001b[0m \u001b[38;5;28;01mexcept\u001b[39;00m \u001b[38;5;167;01mTypeError\u001b[39;00m \u001b[38;5;28;01mas\u001b[39;00m e:\n\u001b[1;32m   1107\u001b[0m   \u001b[38;5;28;01mraise\u001b[39;00m \u001b[38;5;167;01mTypeError\u001b[39;00m(\u001b[38;5;124mf\u001b[39m\u001b[38;5;124m\"\u001b[39m\u001b[38;5;124mOutput from batched function \u001b[39m\u001b[38;5;132;01m{\u001b[39;00mx\u001b[38;5;132;01m!r}\u001b[39;00m\u001b[38;5;124m with type \u001b[39m\u001b[38;5;124m\"\u001b[39m\n\u001b[1;32m   1108\u001b[0m                   \u001b[38;5;124mf\u001b[39m\u001b[38;5;124m\"\u001b[39m\u001b[38;5;132;01m{\u001b[39;00m\u001b[38;5;28mtype\u001b[39m(x)\u001b[38;5;132;01m}\u001b[39;00m\u001b[38;5;124m is not a valid JAX type\u001b[39m\u001b[38;5;124m\"\u001b[39m) \u001b[38;5;28;01mfrom\u001b[39;00m \u001b[38;5;21;01me\u001b[39;00m\n",
      "File \u001b[0;32m~/.cache/pypoetry/virtualenvs/micrlhf-progress-_SD4q1c9-py3.12/lib/python3.12/site-packages/jax/_src/core.py:1461\u001b[0m, in \u001b[0;36mget_aval\u001b[0;34m(x)\u001b[0m\n\u001b[1;32m   1459\u001b[0m \u001b[38;5;28;01mdef\u001b[39;00m \u001b[38;5;21mget_aval\u001b[39m(x):\n\u001b[1;32m   1460\u001b[0m   \u001b[38;5;28;01mif\u001b[39;00m \u001b[38;5;28misinstance\u001b[39m(x, Tracer):\n\u001b[0;32m-> 1461\u001b[0m     \u001b[38;5;28;01mreturn\u001b[39;00m \u001b[43mx\u001b[49m\u001b[38;5;241;43m.\u001b[39;49m\u001b[43maval\u001b[49m\n\u001b[1;32m   1462\u001b[0m   \u001b[38;5;28;01melse\u001b[39;00m:\n\u001b[1;32m   1463\u001b[0m     \u001b[38;5;28;01mreturn\u001b[39;00m concrete_aval(x)\n",
      "File \u001b[0;32m~/.cache/pypoetry/virtualenvs/micrlhf-progress-_SD4q1c9-py3.12/lib/python3.12/site-packages/jax/_src/interpreters/batching.py:333\u001b[0m, in \u001b[0;36mBatchTracer.aval\u001b[0;34m(self)\u001b[0m\n\u001b[1;32m    331\u001b[0m \u001b[38;5;129m@property\u001b[39m\n\u001b[1;32m    332\u001b[0m \u001b[38;5;28;01mdef\u001b[39;00m \u001b[38;5;21maval\u001b[39m(\u001b[38;5;28mself\u001b[39m):\n\u001b[0;32m--> 333\u001b[0m   aval \u001b[38;5;241m=\u001b[39m raise_to_shaped(\u001b[43mcore\u001b[49m\u001b[38;5;241;43m.\u001b[39;49m\u001b[43mget_aval\u001b[49m\u001b[43m(\u001b[49m\u001b[38;5;28;43mself\u001b[39;49m\u001b[38;5;241;43m.\u001b[39;49m\u001b[43mval\u001b[49m\u001b[43m)\u001b[49m)\n\u001b[1;32m    334\u001b[0m   \u001b[38;5;28;01mif\u001b[39;00m \u001b[38;5;28mself\u001b[39m\u001b[38;5;241m.\u001b[39mbatch_dim \u001b[38;5;129;01mis\u001b[39;00m not_mapped:\n\u001b[1;32m    335\u001b[0m     \u001b[38;5;28;01mreturn\u001b[39;00m aval\n",
      "File \u001b[0;32m~/.cache/pypoetry/virtualenvs/micrlhf-progress-_SD4q1c9-py3.12/lib/python3.12/site-packages/jax/_src/core.py:1461\u001b[0m, in \u001b[0;36mget_aval\u001b[0;34m(x)\u001b[0m\n\u001b[1;32m   1459\u001b[0m \u001b[38;5;28;01mdef\u001b[39;00m \u001b[38;5;21mget_aval\u001b[39m(x):\n\u001b[1;32m   1460\u001b[0m   \u001b[38;5;28;01mif\u001b[39;00m \u001b[38;5;28misinstance\u001b[39m(x, Tracer):\n\u001b[0;32m-> 1461\u001b[0m     \u001b[38;5;28;01mreturn\u001b[39;00m \u001b[43mx\u001b[49m\u001b[38;5;241;43m.\u001b[39;49m\u001b[43maval\u001b[49m\n\u001b[1;32m   1462\u001b[0m   \u001b[38;5;28;01melse\u001b[39;00m:\n\u001b[1;32m   1463\u001b[0m     \u001b[38;5;28;01mreturn\u001b[39;00m concrete_aval(x)\n",
      "File \u001b[0;32m~/.cache/pypoetry/virtualenvs/micrlhf-progress-_SD4q1c9-py3.12/lib/python3.12/site-packages/jax/_src/interpreters/batching.py:333\u001b[0m, in \u001b[0;36mBatchTracer.aval\u001b[0;34m(self)\u001b[0m\n\u001b[1;32m    331\u001b[0m \u001b[38;5;129m@property\u001b[39m\n\u001b[1;32m    332\u001b[0m \u001b[38;5;28;01mdef\u001b[39;00m \u001b[38;5;21maval\u001b[39m(\u001b[38;5;28mself\u001b[39m):\n\u001b[0;32m--> 333\u001b[0m   aval \u001b[38;5;241m=\u001b[39m raise_to_shaped(\u001b[43mcore\u001b[49m\u001b[38;5;241;43m.\u001b[39;49m\u001b[43mget_aval\u001b[49m\u001b[43m(\u001b[49m\u001b[38;5;28;43mself\u001b[39;49m\u001b[38;5;241;43m.\u001b[39;49m\u001b[43mval\u001b[49m\u001b[43m)\u001b[49m)\n\u001b[1;32m    334\u001b[0m   \u001b[38;5;28;01mif\u001b[39;00m \u001b[38;5;28mself\u001b[39m\u001b[38;5;241m.\u001b[39mbatch_dim \u001b[38;5;129;01mis\u001b[39;00m not_mapped:\n\u001b[1;32m    335\u001b[0m     \u001b[38;5;28;01mreturn\u001b[39;00m aval\n",
      "File \u001b[0;32m~/.cache/pypoetry/virtualenvs/micrlhf-progress-_SD4q1c9-py3.12/lib/python3.12/site-packages/jax/_src/core.py:1463\u001b[0m, in \u001b[0;36mget_aval\u001b[0;34m(x)\u001b[0m\n\u001b[1;32m   1461\u001b[0m   \u001b[38;5;28;01mreturn\u001b[39;00m x\u001b[38;5;241m.\u001b[39maval\n\u001b[1;32m   1462\u001b[0m \u001b[38;5;28;01melse\u001b[39;00m:\n\u001b[0;32m-> 1463\u001b[0m   \u001b[38;5;28;01mreturn\u001b[39;00m \u001b[43mconcrete_aval\u001b[49m\u001b[43m(\u001b[49m\u001b[43mx\u001b[49m\u001b[43m)\u001b[49m\n",
      "File \u001b[0;32m~/.cache/pypoetry/virtualenvs/micrlhf-progress-_SD4q1c9-py3.12/lib/python3.12/site-packages/jax/_src/core.py:1452\u001b[0m, in \u001b[0;36mconcrete_aval\u001b[0;34m(x)\u001b[0m\n\u001b[1;32m   1450\u001b[0m \u001b[38;5;28;01mfor\u001b[39;00m typ \u001b[38;5;129;01min\u001b[39;00m \u001b[38;5;28mtype\u001b[39m(x)\u001b[38;5;241m.\u001b[39m\u001b[38;5;18m__mro__\u001b[39m:\n\u001b[1;32m   1451\u001b[0m   handler \u001b[38;5;241m=\u001b[39m pytype_aval_mappings\u001b[38;5;241m.\u001b[39mget(typ)\n\u001b[0;32m-> 1452\u001b[0m   \u001b[38;5;28;01mif\u001b[39;00m handler: \u001b[38;5;28;01mreturn\u001b[39;00m \u001b[43mhandler\u001b[49m\u001b[43m(\u001b[49m\u001b[43mx\u001b[49m\u001b[43m)\u001b[49m\n\u001b[1;32m   1453\u001b[0m \u001b[38;5;28;01mif\u001b[39;00m \u001b[38;5;28mhasattr\u001b[39m(x, \u001b[38;5;124m'\u001b[39m\u001b[38;5;124m__jax_array__\u001b[39m\u001b[38;5;124m'\u001b[39m):\n\u001b[1;32m   1454\u001b[0m   \u001b[38;5;28;01mreturn\u001b[39;00m concrete_aval(x\u001b[38;5;241m.\u001b[39m__jax_array__())\n",
      "File \u001b[0;32m~/.cache/pypoetry/virtualenvs/micrlhf-progress-_SD4q1c9-py3.12/lib/python3.12/site-packages/jax/_src/abstract_arrays.py:46\u001b[0m, in \u001b[0;36mcanonical_concrete_aval\u001b[0;34m(val, weak_type)\u001b[0m\n\u001b[1;32m     45\u001b[0m \u001b[38;5;28;01mdef\u001b[39;00m \u001b[38;5;21mcanonical_concrete_aval\u001b[39m(val, weak_type\u001b[38;5;241m=\u001b[39m\u001b[38;5;28;01mNone\u001b[39;00m):\n\u001b[0;32m---> 46\u001b[0m   \u001b[38;5;28;01mreturn\u001b[39;00m \u001b[43mConcreteArray\u001b[49m\u001b[43m(\u001b[49m\u001b[43mdtypes\u001b[49m\u001b[38;5;241;43m.\u001b[39;49m\u001b[43mcanonicalize_dtype\u001b[49m\u001b[43m(\u001b[49m\u001b[43mnp\u001b[49m\u001b[38;5;241;43m.\u001b[39;49m\u001b[43mresult_type\u001b[49m\u001b[43m(\u001b[49m\u001b[43mval\u001b[49m\u001b[43m)\u001b[49m\u001b[43m)\u001b[49m\u001b[43m,\u001b[49m\u001b[43m \u001b[49m\u001b[43mval\u001b[49m\u001b[43m,\u001b[49m\n\u001b[1;32m     47\u001b[0m \u001b[43m                       \u001b[49m\u001b[43mweak_type\u001b[49m\u001b[38;5;241;43m=\u001b[39;49m\u001b[43mweak_type\u001b[49m\u001b[43m)\u001b[49m\n",
      "File \u001b[0;32m~/.cache/pypoetry/virtualenvs/micrlhf-progress-_SD4q1c9-py3.12/lib/python3.12/site-packages/jax/_src/core.py:1766\u001b[0m, in \u001b[0;36mConcreteArray.__init__\u001b[0;34m(self, dtype, val, weak_type)\u001b[0m\n\u001b[1;32m   1765\u001b[0m \u001b[38;5;28;01mdef\u001b[39;00m \u001b[38;5;21m__init__\u001b[39m(\u001b[38;5;28mself\u001b[39m, dtype, val, weak_type\u001b[38;5;241m=\u001b[39m\u001b[38;5;28;01mNone\u001b[39;00m):\n\u001b[0;32m-> 1766\u001b[0m   \u001b[38;5;28;43msuper\u001b[39;49m\u001b[43m(\u001b[49m\u001b[43m)\u001b[49m\u001b[38;5;241;43m.\u001b[39;49m\u001b[38;5;21;43m__init__\u001b[39;49m\u001b[43m(\u001b[49m\n\u001b[1;32m   1767\u001b[0m \u001b[43m      \u001b[49m\u001b[43mnp\u001b[49m\u001b[38;5;241;43m.\u001b[39;49m\u001b[43mshape\u001b[49m\u001b[43m(\u001b[49m\u001b[43mval\u001b[49m\u001b[43m)\u001b[49m\u001b[43m,\u001b[49m\u001b[43m \u001b[49m\u001b[43mdtype\u001b[49m\u001b[43m,\u001b[49m\n\u001b[1;32m   1768\u001b[0m \u001b[43m      \u001b[49m\u001b[43mweak_type\u001b[49m\u001b[38;5;241;43m=\u001b[39;49m\u001b[43mdtypes\u001b[49m\u001b[38;5;241;43m.\u001b[39;49m\u001b[43mis_weakly_typed\u001b[49m\u001b[43m(\u001b[49m\u001b[43mval\u001b[49m\u001b[43m)\u001b[49m\u001b[43m \u001b[49m\u001b[38;5;28;43;01mif\u001b[39;49;00m\u001b[43m \u001b[49m\u001b[43mweak_type\u001b[49m\u001b[43m \u001b[49m\u001b[38;5;129;43;01mis\u001b[39;49;00m\u001b[43m \u001b[49m\u001b[38;5;28;43;01mNone\u001b[39;49;00m\u001b[43m \u001b[49m\u001b[38;5;28;43;01melse\u001b[39;49;00m\u001b[43m \u001b[49m\u001b[43mweak_type\u001b[49m\u001b[43m)\u001b[49m\n\u001b[1;32m   1769\u001b[0m   dtypes\u001b[38;5;241m.\u001b[39mcheck_valid_dtype(\u001b[38;5;28mself\u001b[39m\u001b[38;5;241m.\u001b[39mdtype)\n\u001b[1;32m   1770\u001b[0m   \u001b[38;5;66;03m# Note: canonicalized self.dtype doesn't necessarily match self.val\u001b[39;00m\n",
      "File \u001b[0;32m~/.cache/pypoetry/virtualenvs/micrlhf-progress-_SD4q1c9-py3.12/lib/python3.12/site-packages/jax/_src/core.py:1686\u001b[0m, in \u001b[0;36mShapedArray.__init__\u001b[0;34m(self, shape, dtype, weak_type, named_shape)\u001b[0m\n\u001b[1;32m   1684\u001b[0m \u001b[38;5;28;01mdef\u001b[39;00m \u001b[38;5;21m__init__\u001b[39m(\u001b[38;5;28mself\u001b[39m, shape, dtype, weak_type\u001b[38;5;241m=\u001b[39m\u001b[38;5;28;01mFalse\u001b[39;00m, named_shape\u001b[38;5;241m=\u001b[39m\u001b[38;5;28;01mNone\u001b[39;00m):\n\u001b[1;32m   1685\u001b[0m   \u001b[38;5;28mself\u001b[39m\u001b[38;5;241m.\u001b[39mshape \u001b[38;5;241m=\u001b[39m canonicalize_shape(shape)\n\u001b[0;32m-> 1686\u001b[0m   \u001b[38;5;28mself\u001b[39m\u001b[38;5;241m.\u001b[39mdtype \u001b[38;5;241m=\u001b[39m \u001b[43m_dtype_object\u001b[49m\u001b[43m(\u001b[49m\u001b[43mdtype\u001b[49m\u001b[43m)\u001b[49m\n\u001b[1;32m   1687\u001b[0m   \u001b[38;5;28mself\u001b[39m\u001b[38;5;241m.\u001b[39mweak_type \u001b[38;5;241m=\u001b[39m weak_type\n\u001b[1;32m   1688\u001b[0m   \u001b[38;5;28mself\u001b[39m\u001b[38;5;241m.\u001b[39mnamed_shape \u001b[38;5;241m=\u001b[39m {} \u001b[38;5;28;01mif\u001b[39;00m named_shape \u001b[38;5;129;01mis\u001b[39;00m \u001b[38;5;28;01mNone\u001b[39;00m \u001b[38;5;28;01melse\u001b[39;00m \u001b[38;5;28mdict\u001b[39m(named_shape)\n",
      "File \u001b[0;32m~/.cache/pypoetry/virtualenvs/micrlhf-progress-_SD4q1c9-py3.12/lib/python3.12/site-packages/jax/_src/core.py:1546\u001b[0m, in \u001b[0;36m_dtype_object\u001b[0;34m(dtype)\u001b[0m\n\u001b[1;32m   1545\u001b[0m \u001b[38;5;28;01mdef\u001b[39;00m \u001b[38;5;21m_dtype_object\u001b[39m(dtype):\n\u001b[0;32m-> 1546\u001b[0m   \u001b[38;5;28;01mreturn\u001b[39;00m dtype \u001b[38;5;28;01mif\u001b[39;00m \u001b[38;5;28misinstance\u001b[39m(dtype, dtypes\u001b[38;5;241m.\u001b[39mExtendedDType) \u001b[38;5;28;01melse\u001b[39;00m \u001b[43mnp\u001b[49m\u001b[38;5;241;43m.\u001b[39;49m\u001b[43mdtype\u001b[49m\u001b[43m(\u001b[49m\u001b[43mdtype\u001b[49m\u001b[43m)\u001b[49m\n",
      "\u001b[0;31mKeyboardInterrupt\u001b[0m: "
     ]
    }
   ],
   "source": [
    "for feature in i:\n",
    "    print(\n",
    "        f\"Feature {feature}: {check_feature(feature)}\"\n",
    "    )\n",
    "\n",
    "# get_logprob_diff(logits.unwrap(\"batch\", \"seq\", \"vocabulary\"), target_tokens, print_results=True)"
   ]
  },
  {
   "cell_type": "code",
   "execution_count": null,
   "metadata": {},
   "outputs": [
    {
     "name": "stdout",
     "output_type": "stream",
     "text": [
      "message reduce behavior place se hello cel media club live line throw sport es door shape daughter run pu\n",
      " bottom mind mat polit year moment cut hour has sit comment drop un government d wait phone anticip south arm sport material place picture shape papel no en < choice viel fine arrived ii f third pu hang u er must just hello fig\n",
      "mess rid comport lu sic infer cell media club abit punto get sport così porta col fig corr bel reg super m question polit dec momento tag ora aver sed comment g gi governo pap asp tele asp sud es sport mater lu f col cart no met rela sc pi bene arriv io cin ter bel append fu dire do app infer figura\n"
     ]
    },
    {
     "data": {
      "text/html": [
       "<div id=\"output_e7803525148242829a6c0d14503788af\"><script> /* penzai.treescope rendering of a Python object (compressed) */ (()=>{ let observer; let lastStep = new Promise((resolve, reject) => { observer = new IntersectionObserver((entries) => { for (const entry of entries) { if (entry.isIntersecting) { resolve(); observer.disconnect(); return; } } }, {rootMargin: \"1000px\"}); }); window.treescope_decompress_enqueue = (encoded, destId) => { const previous = lastStep; const destElt = document.getElementById(destId); lastStep = (async () => { await previous; let blob = new Blob([ Uint8Array.from(atob(encoded), (m) => m.codePointAt(0)) ]); let reader = blob.stream().pipeThrough( new DecompressionStream(\"deflate\") ).pipeThrough( new TextDecoderStream(\"utf-8\") ).getReader(); let parts = []; while (true) { let step = await reader.read(); if (step.done) { break; } parts.push(step.value); } let newElt = document.createElement(\"div\"); newElt.innerHTML = parts.join(\"\"); destElt.parentNode.replaceChild(newElt, destElt); for (let oldScript of newElt.querySelectorAll(\"script\")) { let newScript = document.createElement(\"script\"); newScript.type = oldScript.type; newScript.textContent = oldScript.textContent; oldScript.parentNode.replaceChild(newScript, oldScript); } })(); requestAnimationFrame(() => { observer.observe(destElt); }); } })(); </script><div id=\"compress_html_84432b68a38446f880b55f7599bbab72\"><script>window.treescope_decompress_enqueue(\"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\", \"compress_html_84432b68a38446f880b55f7599bbab72\");</script><span style=\"color: #aaaaaa; font-family: monospace\">(Loading...)</span></div></div>"
      ],
      "text/plain": [
       "<IPython.core.display.HTML object>"
      ]
     },
     "metadata": {},
     "output_type": "display_data"
    },
    {
     "data": {
      "text/html": [
       "<div id=\"compress_html_db3150ee31ef4a31a8395584ee9a5b47\"><script>window.treescope_decompress_enqueue(\"eNrtWFtv2zYU/iuEgjVSG6tW4rtjA1u6AX3pwzBgD0UhUCJlcaFJjaJzadH/vkNSlizbcdwsTTFgCWBb4rmfj+cc8pKwG1Tqe05nHmFlwfH9BAkpqIcYmXmZVDGhGVWKkjiKMnKRDfv94Zj2hgOSDAf9QdTv4mGWZv3uyJtflgUW8GnkzcNEai2XnAk6EVL7YSY5wQmnsZCETnJc+nOOE8rn7ZVYy8WCO55JmtP0mpIgQK8D9AUVmBAmFh0tiwnqhlGfLqfIaOjklC1yPUFRaN99DVPJwXicJIreAKd9nKCTwegcd7sNQSqXSyp0fJtTEdM7sJ9Q8mz2rrVi+9doFatlQtUGQXc8ivqDhqDUCvzclHAR9aN+TQDpMG43BAnH6fUUJfC5UHIlSKdauMHK73QSLtNr9yoAKqkIVS6KUXGHSskZOUTpUvkY8VcU5vcFVWDZdazoUmoa5/IGHN02etdMec3T3B/1fjJp7fVR1B07ibe4jMtUSc6BXcswY6rUsWbp9dFSx70wMnK7YxRdDMLhXsE2fwfVBTsKtcKiZJpJMdlRjqISUVzSDhMdudJnKJNCd24tTLfWTFbzNI9h96Q05jTTG1A3jwbr/TRv0ykrqSFUbgPUlAyQLDQYm+aMPx+k6yphcz9FS6wW4IYzM8U89c/THHUMVFyc23YoKr6bKRVYnSkEIEuJRewJ7Zp/E5S/V5gLvKRxoWjG7kCITUvJPlMTupGrHaXGRk9tcZ13pwHNUZvkxYPbDXtp7sL7iK0vE2xXE6xVeytDq25bPwCmPEevkR+BO5ssldwSqGgQBHUMGtbO8bxrvev6ZTlrkeu3ner1C0azqcA2gh2FCVuVlYMRXYJ3DztmLf13RjwK8S+tJuHya/bSEU3iMPHXECR+l6GgSfKhucA2elunocUWm8A2Y48NrVaUlqksoMZKqcOaOF6CJeiABCaMTtddDBFY+yjhMcoelFOZfPnWjVx2/kIpx2U589pmVsPZetZrZQXGC5KMen083Yc3COjUa4tupQaxMnZdUgrbGIHYpfCSiWKlkYaZYObZpCXyztsrpMovsL61TG19zVShYedS7SGCNe5c0/sC63zmbZnX6tIV2lC7wXrHxKpa3OoZ3ryg4jNmTeZg7xRgSQnjToY5N5NACCmxs7D7+iD172vphXHab69fvq0itqH31EhNVoBpcYqkuOIwg8xOG6U5jKoQPUMVp2bR1zkrg1MXG/N65vkcLxOCkYHWxH4GXgOBmnCCTvdQnk5RRYMFIBC7Oef0ChiQiTv8rkf+tjeb0dsuNKhdaLwD1DukEmYcJjCH4bJQs2+CSNji3QeYaub25q9O7s6H05+Vwvd+px+OL4b9M0QsipOMS6yjQeBo2m6f7UIKBHNclJR4c7QvOK1Th/cC6W+H4XgwbPE9HRpHAuXh1MOx9ImJZ2Rv2t1ZzJuPe73BoHs+GozG0aj3X04tI09JLHD9wLTa7fXExBreQx3q+RvSgbsD7yAMTvZiZafD/IXv1h3E1qEDbeIQ0Lyds9fBdW/+fAnYvH6Bksr11C4gVziNf9Yx9/hqoacHIPQDt5Lx7CmbyfI913Y6dqttxens/1geFbbWuNhcWqKtqxZvHnxbJlpT+6Pbo94SD88cu7tk/UXYDchPQY+e+36AZnP0JZWihFpnt+57UqIZ+ugdf5f7aer4TSqA9RYqhbzdGHlBaNw+uviIyHRlCqJZ/JVT8/OX+/fEr2342P1kTq9OcqbwwpCA9JoxVRRr+q56/K2i8Gseo+eKw6EHmNb8IS5gICdXpoL5FjmpofgARdzXamXPy5lUyOdUIwaM3Sl8XTaRCTkVCw3nf/bmjTlPGjq3uKnlQZ/YJ1BgeEq5Uil9x242PdpiszfqHnqDtvjdYwjDFQfA/cl07tfi3B1kJcW6CQzNqrlovaG+vRVwR8gNIXXAzHJgiAAzDidrvOykloq/V3RF31VY+YMuQZ6mpR/UvP8ApyyQvw==\", \"compress_html_db3150ee31ef4a31a8395584ee9a5b47\");</script></div>"
      ],
      "text/plain": [
       "<IPython.core.display.HTML object>"
      ]
     },
     "metadata": {},
     "output_type": "display_data"
    },
    {
     "data": {
      "text/html": [
       "<div id=\"output_dest_e7803525148242829a6c0d14503788af\"><script> (()=>{ const output = document.getElementById(\"output_e7803525148242829a6c0d14503788af\"); const dest = document.getElementById(\"output_dest_e7803525148242829a6c0d14503788af\"); dest.parentNode.replaceChild(output, dest); })(); </script></div>"
      ],
      "text/plain": [
       "<jax.Array(-5.9375, dtype=bfloat16)>"
      ]
     },
     "execution_count": 27,
     "metadata": {},
     "output_type": "execute_result"
    }
   ],
   "source": [
    "check_feature(764, True)"
   ]
  },
  {
   "cell_type": "code",
   "execution_count": 16,
   "metadata": {},
   "outputs": [],
   "source": []
  },
  {
   "cell_type": "code",
   "execution_count": 17,
   "metadata": {},
   "outputs": [
    {
     "name": "stderr",
     "output_type": "stream",
     "text": [
      "--2024-05-23 13:29:53--  https://huggingface.co/nev/phi-3-4k-saex-test/resolve/main/l18-test-run-6-1.01E-05/sae_weights.safetensors?download=true\n",
      "Resolving huggingface.co (huggingface.co)... 108.156.211.51, 108.156.211.95, 108.156.211.90, ...\n",
      "Connecting to huggingface.co (huggingface.co)|108.156.211.51|:443... connected.\n",
      "HTTP request sent, awaiting response... 302 Found\n",
      "Location: https://cdn-lfs-us-1.huggingface.co/repos/eb/d8/ebd889d6ac58573e8e8a7aa1176d4d357581a6da60135b94aca378fddf4e9e54/f057cb46f3d871ba03c66e707e3b3d8299322f36fa433862dc3fdca956715614?response-content-disposition=attachment%3B+filename*%3DUTF-8%27%27sae_weights.safetensors%3B+filename%3D%22sae_weights.safetensors%22%3B&Expires=1716730193&Policy=eyJTdGF0ZW1lbnQiOlt7IkNvbmRpdGlvbiI6eyJEYXRlTGVzc1RoYW4iOnsiQVdTOkVwb2NoVGltZSI6MTcxNjczMDE5M319LCJSZXNvdXJjZSI6Imh0dHBzOi8vY2RuLWxmcy11cy0xLmh1Z2dpbmdmYWNlLmNvL3JlcG9zL2ViL2Q4L2ViZDg4OWQ2YWM1ODU3M2U4ZThhN2FhMTE3NmQ0ZDM1NzU4MWE2ZGE2MDEzNWI5NGFjYTM3OGZkZGY0ZTllNTQvZjA1N2NiNDZmM2Q4NzFiYTAzYzY2ZTcwN2UzYjNkODI5OTMyMmYzNmZhNDMzODYyZGMzZmRjYTk1NjcxNTYxND9yZXNwb25zZS1jb250ZW50LWRpc3Bvc2l0aW9uPSoifV19&Signature=lgsWclVGliGdqDtKr2aHyujABd4nUwhPvHS%7E0naU4HnsAeoAy-ZxpybiwPG7PdRNrs9BjSaQkMjL1US0zCQKmAtPYvDxCw4LgP3PP2US7W-9yvbBO4Z2ZR-zfn261NGESYlAe8fY1%7EuJAihYGeNVNmmulf4lQfduVLpY1LTsu78G9U0xbWXpqhZ1IFLfe0d-TrZlVR0giWW3iIM9qwQ2qMu29lOI636B%7ELeBDN6BXZwfQkpsO9D71uRPTd6ErLF2ZVHpmr-y3jXq2B93f-o5ilUBvwsXfOVnrS1EcCkXHanb6iUi8EWzkDfzbEgM5QT7320J0N7x-5ZPDtTB8dQLBg__&Key-Pair-Id=KCD77M1F0VK2B [following]\n",
      "--2024-05-23 13:29:53--  https://cdn-lfs-us-1.huggingface.co/repos/eb/d8/ebd889d6ac58573e8e8a7aa1176d4d357581a6da60135b94aca378fddf4e9e54/f057cb46f3d871ba03c66e707e3b3d8299322f36fa433862dc3fdca956715614?response-content-disposition=attachment%3B+filename*%3DUTF-8%27%27sae_weights.safetensors%3B+filename%3D%22sae_weights.safetensors%22%3B&Expires=1716730193&Policy=eyJTdGF0ZW1lbnQiOlt7IkNvbmRpdGlvbiI6eyJEYXRlTGVzc1RoYW4iOnsiQVdTOkVwb2NoVGltZSI6MTcxNjczMDE5M319LCJSZXNvdXJjZSI6Imh0dHBzOi8vY2RuLWxmcy11cy0xLmh1Z2dpbmdmYWNlLmNvL3JlcG9zL2ViL2Q4L2ViZDg4OWQ2YWM1ODU3M2U4ZThhN2FhMTE3NmQ0ZDM1NzU4MWE2ZGE2MDEzNWI5NGFjYTM3OGZkZGY0ZTllNTQvZjA1N2NiNDZmM2Q4NzFiYTAzYzY2ZTcwN2UzYjNkODI5OTMyMmYzNmZhNDMzODYyZGMzZmRjYTk1NjcxNTYxND9yZXNwb25zZS1jb250ZW50LWRpc3Bvc2l0aW9uPSoifV19&Signature=lgsWclVGliGdqDtKr2aHyujABd4nUwhPvHS%7E0naU4HnsAeoAy-ZxpybiwPG7PdRNrs9BjSaQkMjL1US0zCQKmAtPYvDxCw4LgP3PP2US7W-9yvbBO4Z2ZR-zfn261NGESYlAe8fY1%7EuJAihYGeNVNmmulf4lQfduVLpY1LTsu78G9U0xbWXpqhZ1IFLfe0d-TrZlVR0giWW3iIM9qwQ2qMu29lOI636B%7ELeBDN6BXZwfQkpsO9D71uRPTd6ErLF2ZVHpmr-y3jXq2B93f-o5ilUBvwsXfOVnrS1EcCkXHanb6iUi8EWzkDfzbEgM5QT7320J0N7x-5ZPDtTB8dQLBg__&Key-Pair-Id=KCD77M1F0VK2B\n",
      "Resolving cdn-lfs-us-1.huggingface.co (cdn-lfs-us-1.huggingface.co)... 108.138.167.22, 108.138.167.67, 108.138.167.63, ...\n",
      "Connecting to cdn-lfs-us-1.huggingface.co (cdn-lfs-us-1.huggingface.co)|108.138.167.22|:443... connected.\n",
      "HTTP request sent, awaiting response... 416 Requested Range Not Satisfiable\n",
      "\n",
      "    The file is already fully retrieved; nothing to do.\n",
      "\n"
     ]
    }
   ],
   "source": [
    "fs = FeatureSearch(\"algo_last\", 18)"
   ]
  },
  {
   "cell_type": "code",
   "execution_count": 18,
   "metadata": {},
   "outputs": [],
   "source": [
    "ds = fs.eval_dataset"
   ]
  },
  {
   "cell_type": "code",
   "execution_count": 17,
   "metadata": {},
   "outputs": [],
   "source": [
    "info = \"\"\"location_continent 21 -1.09375\n",
    "football_player_position 21 -3.76562\n",
    "location_religion 21 -1.09375\n",
    "location_language 20 -0.457031\n",
    "person_profession 21 -1.30469\n",
    "location_country 21 -1.44531\n",
    "country_capital 18 -1.25781\n",
    "person_language 18 -0.287109\n",
    "singular_plural 21 -0.261719\n",
    "present_simple_past_simple 20 -0.341797\n",
    "antonyms 14 -0.75\n",
    "plural_singular 20 -0.133789\n",
    "present_simple_past_perfect 18 -1.25781\n",
    "present_simple_gerund 20 -0.171875\n",
    "en_it 18 -1.29688\n",
    "it_en 14 -1.75781\n",
    "en_fr 18 -1.39062\n",
    "en_es 18 -1.21875\n",
    "fr_en 17 -1.25781\n",
    "es_en 17 -1.09375\n",
    "en_ru 18 ~1.1\n",
    "en_de 18 ~1\n",
    "algo_max 24 -0.515625\n",
    "algo_min 13 -0.945312\n",
    "algo_last 17 -0.162109\n",
    "algo_first 18 -0.828125\n",
    "algo_sum 14 -1.49219\n",
    "algo_most_common 12 -1.15625\n",
    "\"\"\""
   ]
  },
  {
   "cell_type": "code",
   "execution_count": 18,
   "metadata": {},
   "outputs": [
    {
     "data": {
      "text/html": [
       "<div id=\"output_02424e0cacaf43199cfe602594d1e77b\"><script> /* penzai.treescope rendering of a Python object (compressed) */ (()=>{ let observer; let lastStep = new Promise((resolve, reject) => { observer = new IntersectionObserver((entries) => { for (const entry of entries) { if (entry.isIntersecting) { resolve(); observer.disconnect(); return; } } }, {rootMargin: \"1000px\"}); }); window.treescope_decompress_enqueue = (encoded, destId) => { const previous = lastStep; const destElt = document.getElementById(destId); lastStep = (async () => { await previous; let blob = new Blob([ Uint8Array.from(atob(encoded), (m) => m.codePointAt(0)) ]); let reader = blob.stream().pipeThrough( new DecompressionStream(\"deflate\") ).pipeThrough( new TextDecoderStream(\"utf-8\") ).getReader(); let parts = []; while (true) { let step = await reader.read(); if (step.done) { break; } parts.push(step.value); } let newElt = document.createElement(\"div\"); newElt.innerHTML = parts.join(\"\"); destElt.parentNode.replaceChild(newElt, destElt); for (let oldScript of newElt.querySelectorAll(\"script\")) { let newScript = document.createElement(\"script\"); newScript.type = oldScript.type; newScript.textContent = oldScript.textContent; oldScript.parentNode.replaceChild(newScript, oldScript); } })(); requestAnimationFrame(() => { observer.observe(destElt); }); } })(); </script><div id=\"compress_html_52a6f7a5795d4f50be074c13ed852000\"><script>window.treescope_decompress_enqueue(\"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\", \"compress_html_52a6f7a5795d4f50be074c13ed852000\");</script><span style=\"color: #aaaaaa; font-family: monospace\">(Loading...)</span></div></div>"
      ],
      "text/plain": [
       "<IPython.core.display.HTML object>"
      ]
     },
     "metadata": {},
     "output_type": "display_data"
    },
    {
     "data": {
      "text/html": [
       "<div id=\"output_dest_02424e0cacaf43199cfe602594d1e77b\"><script> (()=>{ const output = document.getElementById(\"output_02424e0cacaf43199cfe602594d1e77b\"); const dest = document.getElementById(\"output_dest_02424e0cacaf43199cfe602594d1e77b\"); dest.parentNode.replaceChild(output, dest); })(); </script></div>"
      ],
      "text/plain": [
       "[('en_es', 18), ('en_it', 18), ('en_fr', 18), ('en_de', 18), ('en_ru', 18)]"
      ]
     },
     "execution_count": 18,
     "metadata": {},
     "output_type": "execute_result"
    }
   ],
   "source": [
    "tasks_to_check = [x.split()[:2] for x in info.split(\"\\n\") if x]\n",
    "tasks_to_check = [(x[0], int(x[1])) for x in tasks_to_check]\n",
    "tasks_to_check = [\n",
    "    (\"en_es\", 18),\n",
    "    (\"en_it\", 18),\n",
    "    (\"en_fr\", 18),\n",
    "    (\"en_de\", 18),\n",
    "    (\"en_ru\", 18)\n",
    "] \n",
    "tasks_to_check"
   ]
  },
  {
   "cell_type": "code",
   "execution_count": 21,
   "metadata": {},
   "outputs": [
    {
     "data": {
      "application/vnd.jupyter.widget-view+json": {
       "model_id": "2ae40b6b57d94a19a47ca3153c9d51dc",
       "version_major": 2,
       "version_minor": 0
      },
      "text/plain": [
       "  0%|          | 0/5 [00:00<?, ?it/s]"
      ]
     },
     "metadata": {},
     "output_type": "display_data"
    },
    {
     "data": {
      "application/vnd.jupyter.widget-view+json": {
       "model_id": "362d6cbf8d7b445db79ce26cf062904f",
       "version_major": 2,
       "version_minor": 0
      },
      "text/plain": [
       "  0%|          | 0/2000 [00:00<?, ?it/s]"
      ]
     },
     "metadata": {},
     "output_type": "display_data"
    },
    {
     "data": {
      "application/vnd.jupyter.widget-view+json": {
       "model_id": "5d5a13fd952a4a4aaafdac50a908ff7c",
       "version_major": 2,
       "version_minor": 0
      },
      "text/plain": [
       "  0%|          | 0/20 [00:00<?, ?it/s]"
      ]
     },
     "metadata": {},
     "output_type": "display_data"
    },
    {
     "name": "stdout",
     "output_type": "stream",
     "text": [
      "Task en_es, best feature 22683, best loss 57.5, mean loss 63, metrics {'l0': 27.0, 'loss': 54.0}\n"
     ]
    },
    {
     "data": {
      "application/vnd.jupyter.widget-view+json": {
       "model_id": "66d126079ac44f72aa32b2b41a732847",
       "version_major": 2,
       "version_minor": 0
      },
      "text/plain": [
       "  0%|          | 0/2000 [00:00<?, ?it/s]"
      ]
     },
     "metadata": {},
     "output_type": "display_data"
    },
    {
     "data": {
      "application/vnd.jupyter.widget-view+json": {
       "model_id": "c9f7e4e0abcd4258be440546b7e313e7",
       "version_major": 2,
       "version_minor": 0
      },
      "text/plain": [
       "  0%|          | 0/20 [00:00<?, ?it/s]"
      ]
     },
     "metadata": {},
     "output_type": "display_data"
    },
    {
     "name": "stdout",
     "output_type": "stream",
     "text": [
      "Task en_it, best feature 63433, best loss 55, mean loss 56.25, metrics {'l0': 8.0, 'loss': 52.75}\n"
     ]
    },
    {
     "data": {
      "application/vnd.jupyter.widget-view+json": {
       "model_id": "c02e6373a8904d478ec6b63da3fa5353",
       "version_major": 2,
       "version_minor": 0
      },
      "text/plain": [
       "  0%|          | 0/2000 [00:00<?, ?it/s]"
      ]
     },
     "metadata": {},
     "output_type": "display_data"
    },
    {
     "data": {
      "application/vnd.jupyter.widget-view+json": {
       "model_id": "260fc3c3218e4a999079368c0026503a",
       "version_major": 2,
       "version_minor": 0
      },
      "text/plain": [
       "  0%|          | 0/20 [00:00<?, ?it/s]"
      ]
     },
     "metadata": {},
     "output_type": "display_data"
    },
    {
     "name": "stdout",
     "output_type": "stream",
     "text": [
      "Task en_fr, best feature 72521, best loss 77.5, mean loss 78, metrics {'l0': 26.0, 'loss': 77.5}\n"
     ]
    },
    {
     "data": {
      "application/vnd.jupyter.widget-view+json": {
       "model_id": "756a421dc82b449fb1c9c9c03f6518c6",
       "version_major": 2,
       "version_minor": 0
      },
      "text/plain": [
       "  0%|          | 0/2000 [00:00<?, ?it/s]"
      ]
     },
     "metadata": {},
     "output_type": "display_data"
    },
    {
     "data": {
      "application/vnd.jupyter.widget-view+json": {
       "model_id": "a479f9c990e94e1bac9461ae3a6dc500",
       "version_major": 2,
       "version_minor": 0
      },
      "text/plain": [
       "  0%|          | 0/20 [00:00<?, ?it/s]"
      ]
     },
     "metadata": {},
     "output_type": "display_data"
    },
    {
     "name": "stdout",
     "output_type": "stream",
     "text": [
      "Task en_de, best feature 26059, best loss 71.5, mean loss 73.5, metrics {'l0': 14.0, 'loss': 68.5}\n"
     ]
    },
    {
     "data": {
      "application/vnd.jupyter.widget-view+json": {
       "model_id": "8bc6d5044f6a428191697aec5ecd097e",
       "version_major": 2,
       "version_minor": 0
      },
      "text/plain": [
       "  0%|          | 0/2000 [00:00<?, ?it/s]"
      ]
     },
     "metadata": {},
     "output_type": "display_data"
    },
    {
     "data": {
      "application/vnd.jupyter.widget-view+json": {
       "model_id": "1c7b325fe0ba47528646d4c70f365ced",
       "version_major": 2,
       "version_minor": 0
      },
      "text/plain": [
       "  0%|          | 0/20 [00:00<?, ?it/s]"
      ]
     },
     "metadata": {},
     "output_type": "display_data"
    },
    {
     "name": "stdout",
     "output_type": "stream",
     "text": [
      "Task en_ru, best feature 2431, best loss 68.5, mean loss 70, metrics {'l0': 110.0, 'loss': 63.75}\n"
     ]
    }
   ],
   "source": [
    "from datasets import load_dataset\n",
    "\n",
    "results = {}\n",
    "\n",
    "for task, target_layer in tqdm(tasks_to_check):\n",
    "    if target_layer == 21:\n",
    "        target_layer = 20\n",
    "    if target_layer == 14:\n",
    "        target_layer = 12\n",
    "    if target_layer == 13:\n",
    "        target_layer = 12\n",
    "    # if target_layer == 17:\n",
    "    #     target_layer = 18\n",
    "\n",
    "    l,r = task.split(\"_\")\n",
    "\n",
    "    binding = f\"{l}-{r}\"\n",
    "    if task == \"en_de\":\n",
    "        binding = \"de-en\"\n",
    "\n",
    "    dataset = load_dataset(\"Helsinki-NLP/opus-100\", binding, split=\"validation\")\n",
    "    sample = dataset.shuffle()[:40]\n",
    "    sample = sample[\"translation\"]\n",
    "    pairs = [(x[l], x[r]) for x in sample]\n",
    "\n",
    "    fs = FeatureSearch(task, pairs, 18, l1_coeff=1e-2, init_w=0.5, lr=5e-2, n_shot=1, n_first=10, sae_v=8)\n",
    "    weights, metrics = fs.find_weights()\n",
    "    i = jax.lax.top_k(jnp.abs(weights), 20)[1]\n",
    "    best_feature, best_loss, mean_loss, losses = fs.check_features(i, scale=20)\n",
    "\n",
    "    metrics = {k:float(v) for k, v in metrics.items()}\n",
    "\n",
    "    results[task] = (best_feature, best_loss, mean_loss, losses, metrics, i)\n",
    "    print(\n",
    "        f\"Task {task}, best feature {best_feature}, best loss {best_loss}, mean loss {mean_loss}, metrics {metrics}\"\n",
    "    )"
   ]
  },
  {
   "cell_type": "code",
   "execution_count": 57,
   "metadata": {},
   "outputs": [
    {
     "data": {
      "text/html": [
       "<div id=\"output_627a388011bd4670a553c6db9d418001\"><script> /* penzai.treescope rendering of a Python object (compressed) */ (()=>{ let observer; let lastStep = new Promise((resolve, reject) => { observer = new IntersectionObserver((entries) => { for (const entry of entries) { if (entry.isIntersecting) { resolve(); observer.disconnect(); return; } } }, {rootMargin: \"1000px\"}); }); window.treescope_decompress_enqueue = (encoded, destId) => { const previous = lastStep; const destElt = document.getElementById(destId); lastStep = (async () => { await previous; let blob = new Blob([ Uint8Array.from(atob(encoded), (m) => m.codePointAt(0)) ]); let reader = blob.stream().pipeThrough( new DecompressionStream(\"deflate\") ).pipeThrough( new TextDecoderStream(\"utf-8\") ).getReader(); let parts = []; while (true) { let step = await reader.read(); if (step.done) { break; } parts.push(step.value); } let newElt = document.createElement(\"div\"); newElt.innerHTML = parts.join(\"\"); destElt.parentNode.replaceChild(newElt, destElt); for (let oldScript of newElt.querySelectorAll(\"script\")) { let newScript = document.createElement(\"script\"); newScript.type = oldScript.type; newScript.textContent = oldScript.textContent; oldScript.parentNode.replaceChild(newScript, oldScript); } })(); requestAnimationFrame(() => { observer.observe(destElt); }); } })(); </script><div id=\"compress_html_57b373b5dfd34fd8a216b3de620da9d1\"><script>window.treescope_decompress_enqueue(\"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\", \"compress_html_57b373b5dfd34fd8a216b3de620da9d1\");</script><span style=\"color: #aaaaaa; font-family: monospace\">(Loading...)</span></div></div>"
      ],
      "text/plain": [
       "<IPython.core.display.HTML object>"
      ]
     },
     "metadata": {},
     "output_type": "display_data"
    },
    {
     "data": {
      "text/html": [
       "<div id=\"compress_html_c2ada29d4a0f4a0cba359a220fa15dd1\"><script>window.treescope_decompress_enqueue(\"eNrtndtu3MYZgO/7FIMNGu3G0mbOB8kS0DgtkJtcFAV6YQiLIWeoZU2RGy7lQwzfN+/RPkBfoY+SJ+kMueIuJXlXdnRwo9+weJj55/zP4Vtyfj53+Wu0bN4V/njk8uWisO8OUVmVfoRydzzKqnrmfObr2rsZY9qnShmqiOHSCMOkcpgzJT3jTGejk+fLhS3DMcZ3Mk2qpqnOi7z0h2XVjKdZVTibFH5WVs4fzu1yfFLYxBcnQ59ZU52dFV2Yw3Tu01feTSbomwl6jxbWubw8O2iqxSHCUyL8+RGKKRzMfX42bw4RmbZuH6ZpVYTM2ySp/esQsr09RF9JTS3Ga4G0Oj/3ZTN7M/flzL8N+Xfe3Vl+L1O17b8+1VCZMdNrgaSw6asjlITjWV1dlO5g5fHa1uODg6So0led0yRIVbXzdVcHZPEWLasid9sku4bYJfwBTefvFr4OOXs1q/151fjZvHrta3Q109ezWb0q0vlY8z/GRuECEWy6GN/Y5WyZ1lVRhOBNNc3yetnMmjx9detYDZ+SGC82iDA5VTdG3Nb+1uQm1xJsalsu8yavysNriSOyRN4u/UFeHlQXzT7KqrI5eNMq2RW/2KrzdD4Lup/6WeGzZkNR423UVJHOh3J1G9NasO7Ut5f86cIWpT33s0Xts/xtkGxzsMx/9lFKd0q+bGxUt1k6zwtX+7IvYtfy6AQNRe5MsfuxotWhI3Ru67NQHV1xU1ukY5rO0UHIKU/nXYvtyOu9ZW3VCbqsderf5urGTjAYYNpyhBYp5ugbNCahOJtBVvEug5SfTCZ9HayDHtw+7GW6l121DdlHeel6sHJ+wNpcDzZtDR7U1uUXy1UBiT8Ppft4wdqc/rZM7FTx94PxsGvfONDdYjzcLvxhGmK8l9lr3cjbJrB2RmqHpKbOF5uKHefntmqb2vtlWi3CcFJVzbQXnp2HnKAtMeRlTLMbSKNQyO1Owdsk9tF4Vll+/m23NmgXCigt7HJ5PBpmc7WKuFyUDFolzKQu0VzYo5v0LVTo0WgY9aBpUL6cdRNCVbZzQBDumvB5Xi4uGtSE6e941DZaUr0d3RjJqn1D0G/bQMP01hNoE3qub0bI2cYevPLvFraZH4+uZG8wIa20DQ3nktFt6mrleWXOGJ0sfPmzzdctF/rOIuRkGWb2zBZFnPSmoUnaRVt3+rFq/noZ+yIWejz0f/7tqsY20t2LsSYXQafLPVSVL4ow3R7vrROdhzVVqL0oNUuj57iZ58vJXlc30fl4NC7seeIsiqp12B4no7UK9IKHaO8Gyb0jtJKxZdBA203pey9CABTrPVz3a9NhaTZr7+pAg4YDzWiL9DXRKkzneWmLsI5a1MefpCLTQdibFGa2DK1Tno1Ovv7qLVVHf6pr+25MMSNkH7lWh/OyYXTSeQ9LvH9dm0KchV0svRudoJvqZbAyHj1Ayw9r4PZ6cCXc52vFLXXk460e0Okz2zx3N7Z4eXGexBRM4CxMmdbSKCX/n5s2d5/TsCHUIzZr27c+s2Fj2G2T093PRVv4drRVDb66UVeuTS7/sG8vJ492CNoyQ2xTtFEe3MpmY+Dd6j86ubsG2PyJIIymRXPUeqBu4IzlawvW3X591hxtUaFH7EqxZJ/Tmdpwd9WdbtvVrtTTPtTlraptsFJc/7CGrvygMDqZfFpLDBbsO7tH3yVuXG5c7yCXJ5e/Pnn+Cb80cuZEylOivBPcUpkY4gzXLvFYCprq9S+NgBGAEYARd4cRou/USVZUtiESMOJ3ixGKE8kEBYwAjACMAIwAjACMeGCMuGm5cXcYwUhCFLUCC6+4IySR0mdpEq5EmlgvASMAIwAj7gUjxJQKIImnQhKBI4jmGgNJAEkASQBJAEkASTw0Sdy84rg7mEhpYg0mlFHKw5pfGCcS473PeKIxh2cSABMAE3cNE4Muji579Zji/Qn69Zd/iqnwzzBB//0PmUr08tdf/i2mJLrsB99/iamK16exQ//s6+qQ4jgcAIT8bt+KopgqzQFCAEIAQgBCAEIAQu4BQnb1rZd7sZmWe6cv2ekjL9mHPfm3DIMbU2YcEG6hnv1weZfrt+0Z+zjr3fPY2xHoS0GnKiCoINP2GP54y6Th1LrHPxlv43XnJC//QpA/oO5fuKFiw33tsOneBT+9RryfMRx9MgkbRjDHWSIJ5QGGrdHGsSTxznClqAcSBhIGEr5PEm5fuO2G0ThqKsnbEZOzmVYYgPdpAC+RgsnQ9BqAF4AXgBeAF4AXgPdRgVcA8A6A99bLtC+baxFqc041x4E9Vzu/KNeRRJHiwuxHez+G7SPOuNDhhDENd5QKpXusDUsWhfcRk1oGdGWCxxMVjMRYhKYhBaY5CeEIk5xEEdkmyxSmfSzISBJiIUYIejrcf/YA5OtSkgrqhPQ05cxTY1XiJM2oYdwYDOQL5Avke0/mLTihYN7iKXAtY0QzQzA8yAWuBa4FrgWuBa59ePMW15cbd/cqaSa8ZBx75nXCveVWBozQmqfEqoxJAhgBGAEYcR8YIcUUtqU9GZCgRhrGNTwgA5AAkACQAJAAkHhokLh5wXF3KJEQr6ljWFtKAkcInWDhtMFKasITC08kACUAJe4HJTSAxJMBCW4o2LcAkACQAJAAkACQeAyQ0Pdq3EKlWSa8spnFnHJqUplmxjqmreNpqgAjACMAIx7UuIWc6tXmSDw1un2BVE5lvzsSbFs8JQDBmGABX/wBAAEAAQABAAEAecStPnkDti1227b41OXbl70FqHuMJdXGn7687nzao47HuMunu5JmJac3zFusvDYENq8exaCFckprbZLUasqdkDrRJkusUl57xggH+gX6Bfp9QIMWOm4fjDsl9QxrBpT7RCw4CkmkkQw+SAWUC5QLlAuUC5T7uJQLBi22GrT4+DLty6bZ1e4uyqmMZiokUyZasjCS9iYsVnYtOhMWiGoWWRcpydYgG796E41d6FD2aBZDRMMUVAgTY6FShxPDIlYRQrqzh4FJiIUZxVQfC8GGhFiY0lI+vEEL4iwhCTdCMMuTVFqcaumlYx4rjwkF8gXyBfK9j9dHmZBMg0GLp8C1nBhCGJPw+ihwLXAtcC1wLXDtQ78+etNy4+5eHyVMqCTDhFHFeOaNpjaMKVKrlHCfUgwYARgBGHEvH1qW8KHlJ0QSWCiCmQSLFkASQBJAEkASQBIP/qFlec8fWo5PXghW0hGbBHowSea9kEmCTaKFzsA6HsAEwMT9wIRuPysHMPE0YIIKgiWH70cBTABMAEwATABMPDxM3LziuDuYMN5hkuHMxA9KYOkSozhJiHCCZJL6FGACYAJg4kENW4ip6XdGKrP67Pd6Z6QEwxZPyLCF5oYqoeFbP8AgwCDAIMAgwCCPtuUnq8GwxW7DFp+6fPuytwKtnmaJ1n5FOEYaXUGpaA1TCLM60s3TWsj0O3la1+tyZiV36dG7P4qpC+p5/HgtybSwXIf/ieBO28x5r1yWwMM14GHg4Yc0dUFmRtFuF6WZYQrk+1TIVzBCNeFAvkC+QL5AvkC+QL6PS75g7GKrsYttC7Uvm3FXe78Y1YrtIx7yTno7F5Sq1jSFVlRGixgCR6sXmOBoqIITrHu85QpH+xhIGR1EOCcykCziJGItxVTyaPWCsGjugrQ1xU1IKZyICX690QwheHCkBkt8R+YulmnQ+uZkPJ6g4xP0Pq3KZdDGVtl/cEt0jF6OevxlTPtUKUMVMVwaYZhUDnOmpGdhVZaN9tFamDMnUp4S5Z3glsrEEGe4donHUtBUD4QZSYiiVmDhFXeEJFL6LE3ClUgT6+VAOKWJNZhQRikPsCyME4nx3mc80ZhfiTk1LD67zhJJKA/yNjSAY0niQ2aUon4g7FKSCupEhHzOPDVWJU7SjBrGjcFD4Z3fod4U3vmluUGed31PYlN4p/nNTeGdFksGwrv2JQ6yseu9403hne8VbArv/NHl9KjT2jgdBYV9Ezpy9WbjV4GgyrP+bhalxshV6UUcDaPnnwsfL79794Mb95r/Ep9OJkeoizmr7VkUCbH3AdPa28Z/v7r9y0pi3IeJ6bwoqjBBHffhp3ax8KV7EQeYcTt7plHixzC4j5v6wscUs6pG48I3KA8B8VE4PV/3x2nhy7NmHlyfPZug9yjKdZ6bqXy0TPlpSCCGWVYXdeq/z19vluhKsPanrxF6hq6E726nATCLMOn+PW/m4z66aTvJrWJpixkCrH1rf1699rGOPnSLh81I+gqL3pMoFEaqbnS6HKWuNa0vf7rwF/77la78zZ+H+Bq/HE/6sP8D2kVNGA==\", \"compress_html_c2ada29d4a0f4a0cba359a220fa15dd1\");</script></div>"
      ],
      "text/plain": [
       "<IPython.core.display.HTML object>"
      ]
     },
     "metadata": {},
     "output_type": "display_data"
    },
    {
     "data": {
      "text/html": [
       "<div id=\"output_dest_627a388011bd4670a553c6db9d418001\"><script> (()=>{ const output = document.getElementById(\"output_627a388011bd4670a553c6db9d418001\"); const dest = document.getElementById(\"output_dest_627a388011bd4670a553c6db9d418001\"); dest.parentNode.replaceChild(output, dest); })(); </script></div>"
      ],
      "text/plain": [
       "{'en_es': (<jax.Array(20311, dtype=int32)>,\n",
       "  <jax.Array(51, dtype=bfloat16)>,\n",
       "  <jax.Array(55.25, dtype=bfloat16)>,\n",
       "  # jax.Array bfloat16(20,) ≈5.5e+01 ±1.6 [≥5.1e+01, ≤5.7e+01] nonzero:20\n",
       "    Array([52.75, 51.5, 51, 54.25, 54.75, 55, 56, 54, 55.75, 56, 56, 56.5,\n",
       "           56.25, 56, 56.5, 56.25, 56.25, 56, 56.75, 56], dtype=bfloat16)\n",
       "  ,\n",
       "  {'l0': 9.0, 'loss': 46.0},\n",
       "  # jax.Array int32(20,) [≥764, ≤43_870] nonzero:20\n",
       "    Array([  764, 28406, 20311, 24856,  7459, 10993, 43458, 40023, 22578,\n",
       "           43870, 36865, 35465, 25316,  5824, 38413, 13641, 35664, 23702,\n",
       "            9610, 19552], dtype=int32)\n",
       "  ),\n",
       " 'en_it': (<jax.Array(20412, dtype=int32)>,\n",
       "  <jax.Array(65.5, dtype=bfloat16)>,\n",
       "  <jax.Array(68, dtype=bfloat16)>,\n",
       "  # jax.Array bfloat16(20,) ≈6.8e+01 ±0.98 [≥6.6e+01, ≤7e+01] nonzero:20\n",
       "    Array([65.5, 67, 67, 67, 68, 67, 67.5, 67.5, 68.5, 70, 68.5, 69, 68, 68.5,\n",
       "           68.5, 68.5, 69, 68.5, 69, 68.5], dtype=bfloat16)\n",
       "  ,\n",
       "  {'l0': 7.0, 'loss': 60.75},\n",
       "  # jax.Array int32(20,) [≥823, ≤48_083] nonzero:20\n",
       "    Array([20412, 24263, 26379,  7962, 43458,  7459, 22578, 28367,  7635,\n",
       "           24168, 48083, 20510, 25592, 42682, 30523,   823, 22017, 39737,\n",
       "           10918, 37866], dtype=int32)\n",
       "  ),\n",
       " 'en_fr': (<jax.Array(35638, dtype=int32)>,\n",
       "  <jax.Array(56.25, dtype=bfloat16)>,\n",
       "  <jax.Array(58.75, dtype=bfloat16)>,\n",
       "  # jax.Array bfloat16(20,) ≈5.9e+01 ±0.79 [≥5.6e+01, ≤6e+01] nonzero:20\n",
       "    Array([56.25, 57.5, 57.75, 58.75, 58.5, 59.5, 59.25, 59.25, 59, 58.75, 59,\n",
       "           59, 59.25, 59.25, 59, 59.75, 59.25, 59.5, 59, 59], dtype=bfloat16)\n",
       "  ,\n",
       "  {'l0': 5.0, 'loss': 53.75},\n",
       "  # jax.Array int32(20,) [≥1_972, ≤49_021] nonzero:20\n",
       "    Array([35638, 32873, 40211, 43458, 22723, 28726, 24509, 20107, 34108,\n",
       "           47062,  7989, 44165,  4125, 20264, 42133,  1972, 49021, 41964,\n",
       "           25541, 29060], dtype=int32)\n",
       "  )}"
      ]
     },
     "execution_count": 57,
     "metadata": {},
     "output_type": "execute_result"
    }
   ],
   "source": [
    "results"
   ]
  },
  {
   "cell_type": "code",
   "execution_count": 58,
   "metadata": {},
   "outputs": [],
   "source": [
    "with open(\"results_s_s.pkl\", \"wb\") as f:\n",
    "    import pickle\n",
    "    pickle.dump(results, f)"
   ]
  },
  {
   "cell_type": "code",
   "execution_count": null,
   "metadata": {},
   "outputs": [],
   "source": [
    "import pickle\n",
    "\n",
    "with open(\"results.pkl\", \"wb\") as f:\n",
    "    pickle.dump(results, f)\n",
    "# with open(\"results.json\", \"w\") as f:\n",
    "#     json.dump(results, f)"
   ]
  },
  {
   "cell_type": "code",
   "execution_count": 26,
   "metadata": {},
   "outputs": [
    {
     "name": "stdout",
     "output_type": "stream",
     "text": [
      "algo_max, best feature 28655, loss ratio 1.61719, loss -0.816406\n",
      "algo_min, best feature 42195, loss ratio 1.14062, loss -1.3125\n",
      "algo_last, best feature 42756, loss ratio 1.46094, loss -0.839844\n",
      "algo_first, best feature 39302, loss ratio 11.6875, loss -0.0683594\n",
      "algo_sum, best feature 10061, loss ratio 1.22656, loss -1.08594\n",
      "algo_most_common, best feature 3788, loss ratio 1.34375, loss -0.933594\n"
     ]
    }
   ],
   "source": [
    "for task, (best_feature, best_loss, mean_loss, losses, metrics) in results.items():\n",
    "    print(\n",
    "        f\"{task}, best feature {best_feature}, loss ratio {mean_loss / best_loss}, loss {best_loss}\"\n",
    "    )"
   ]
  },
  {
   "cell_type": "code",
   "execution_count": null,
   "metadata": {},
   "outputs": [
    {
     "name": "stderr",
     "output_type": "stream",
     "text": [
      "--2024-05-22 00:38:44--  https://huggingface.co/nev/phi-3-4k-saex-test/resolve/main/l17-test-run-6-4.52E-06/sae_weights.safetensors?download=true\n",
      "Resolving huggingface.co (huggingface.co)... 108.156.211.90, 108.156.211.95, 108.156.211.125, ...\n",
      "Connecting to huggingface.co (huggingface.co)|108.156.211.90|:443... connected.\n",
      "HTTP request sent, awaiting response... 302 Found\n",
      "Location: https://cdn-lfs-us-1.huggingface.co/repos/eb/d8/ebd889d6ac58573e8e8a7aa1176d4d357581a6da60135b94aca378fddf4e9e54/1623d8da38be3171fcc8516a4cbe9fdb80e3d77e370aa5690895697649d688f3?response-content-disposition=attachment%3B+filename*%3DUTF-8%27%27sae_weights.safetensors%3B+filename%3D%22sae_weights.safetensors%22%3B&Expires=1716597524&Policy=eyJTdGF0ZW1lbnQiOlt7IkNvbmRpdGlvbiI6eyJEYXRlTGVzc1RoYW4iOnsiQVdTOkVwb2NoVGltZSI6MTcxNjU5NzUyNH19LCJSZXNvdXJjZSI6Imh0dHBzOi8vY2RuLWxmcy11cy0xLmh1Z2dpbmdmYWNlLmNvL3JlcG9zL2ViL2Q4L2ViZDg4OWQ2YWM1ODU3M2U4ZThhN2FhMTE3NmQ0ZDM1NzU4MWE2ZGE2MDEzNWI5NGFjYTM3OGZkZGY0ZTllNTQvMTYyM2Q4ZGEzOGJlMzE3MWZjYzg1MTZhNGNiZTlmZGI4MGUzZDc3ZTM3MGFhNTY5MDg5NTY5NzY0OWQ2ODhmMz9yZXNwb25zZS1jb250ZW50LWRpc3Bvc2l0aW9uPSoifV19&Signature=AYfheeO5OzkVmpXIex8MfS9UrVL7Vqp4BEhiw%7EjBYGVgcEAiuCgL2j1G2pr9f9vAgLWB9A1Eu47UuCurx069R3IY4IhE3pqWHC-gOTwHvCZezquXRfUSjgRuCPd1P%7EolT2eorBuvOezJ0vKvlrSumpHqO41h57UD9KylTxtOD7Q2rbSo%7EsR9mERmld14%7EvjA9OGTozfuqhG-ycx1hqnScEbA--tiE5%7EacITE05JVqPoiQH4c0hAmgCZ8EW45A6eZaCmfVh3oiPrFP2eRekSmipDQUh2Dh7Jmat-Bozl%7EtXsR9A9K1b-cAKx4Ygs08FzERpvGuLTXJ7nMA5EK2v9kHg__&Key-Pair-Id=KCD77M1F0VK2B [following]\n",
      "--2024-05-22 00:38:44--  https://cdn-lfs-us-1.huggingface.co/repos/eb/d8/ebd889d6ac58573e8e8a7aa1176d4d357581a6da60135b94aca378fddf4e9e54/1623d8da38be3171fcc8516a4cbe9fdb80e3d77e370aa5690895697649d688f3?response-content-disposition=attachment%3B+filename*%3DUTF-8%27%27sae_weights.safetensors%3B+filename%3D%22sae_weights.safetensors%22%3B&Expires=1716597524&Policy=eyJTdGF0ZW1lbnQiOlt7IkNvbmRpdGlvbiI6eyJEYXRlTGVzc1RoYW4iOnsiQVdTOkVwb2NoVGltZSI6MTcxNjU5NzUyNH19LCJSZXNvdXJjZSI6Imh0dHBzOi8vY2RuLWxmcy11cy0xLmh1Z2dpbmdmYWNlLmNvL3JlcG9zL2ViL2Q4L2ViZDg4OWQ2YWM1ODU3M2U4ZThhN2FhMTE3NmQ0ZDM1NzU4MWE2ZGE2MDEzNWI5NGFjYTM3OGZkZGY0ZTllNTQvMTYyM2Q4ZGEzOGJlMzE3MWZjYzg1MTZhNGNiZTlmZGI4MGUzZDc3ZTM3MGFhNTY5MDg5NTY5NzY0OWQ2ODhmMz9yZXNwb25zZS1jb250ZW50LWRpc3Bvc2l0aW9uPSoifV19&Signature=AYfheeO5OzkVmpXIex8MfS9UrVL7Vqp4BEhiw%7EjBYGVgcEAiuCgL2j1G2pr9f9vAgLWB9A1Eu47UuCurx069R3IY4IhE3pqWHC-gOTwHvCZezquXRfUSjgRuCPd1P%7EolT2eorBuvOezJ0vKvlrSumpHqO41h57UD9KylTxtOD7Q2rbSo%7EsR9mERmld14%7EvjA9OGTozfuqhG-ycx1hqnScEbA--tiE5%7EacITE05JVqPoiQH4c0hAmgCZ8EW45A6eZaCmfVh3oiPrFP2eRekSmipDQUh2Dh7Jmat-Bozl%7EtXsR9A9K1b-cAKx4Ygs08FzERpvGuLTXJ7nMA5EK2v9kHg__&Key-Pair-Id=KCD77M1F0VK2B\n",
      "Resolving cdn-lfs-us-1.huggingface.co (cdn-lfs-us-1.huggingface.co)... 18.161.156.80, 18.161.156.3, 18.161.156.33, ...\n",
      "Connecting to cdn-lfs-us-1.huggingface.co (cdn-lfs-us-1.huggingface.co)|18.161.156.80|:443... connected.\n",
      "HTTP request sent, awaiting response... 416 Requested Range Not Satisfiable\n",
      "\n",
      "    The file is already fully retrieved; nothing to do.\n",
      "\n"
     ]
    }
   ],
   "source": [
    "fs = FeatureSearch(\"en_de\", 17)"
   ]
  },
  {
   "cell_type": "code",
   "execution_count": 20,
   "metadata": {},
   "outputs": [
    {
     "name": "stderr",
     "output_type": "stream",
     "text": [
      "--2024-05-22 01:20:39--  https://huggingface.co/nev/phi-3-4k-saex-test/resolve/main/l18-test-run-6-1.01E-05/sae_weights.safetensors?download=true\n",
      "Resolving huggingface.co (huggingface.co)... 108.156.211.51, 108.156.211.90, 108.156.211.95, ...\n",
      "Connecting to huggingface.co (huggingface.co)|108.156.211.51|:443... connected.\n",
      "HTTP request sent, awaiting response... 302 Found\n",
      "Location: https://cdn-lfs-us-1.huggingface.co/repos/eb/d8/ebd889d6ac58573e8e8a7aa1176d4d357581a6da60135b94aca378fddf4e9e54/f057cb46f3d871ba03c66e707e3b3d8299322f36fa433862dc3fdca956715614?response-content-disposition=attachment%3B+filename*%3DUTF-8%27%27sae_weights.safetensors%3B+filename%3D%22sae_weights.safetensors%22%3B&Expires=1716600039&Policy=eyJTdGF0ZW1lbnQiOlt7IkNvbmRpdGlvbiI6eyJEYXRlTGVzc1RoYW4iOnsiQVdTOkVwb2NoVGltZSI6MTcxNjYwMDAzOX19LCJSZXNvdXJjZSI6Imh0dHBzOi8vY2RuLWxmcy11cy0xLmh1Z2dpbmdmYWNlLmNvL3JlcG9zL2ViL2Q4L2ViZDg4OWQ2YWM1ODU3M2U4ZThhN2FhMTE3NmQ0ZDM1NzU4MWE2ZGE2MDEzNWI5NGFjYTM3OGZkZGY0ZTllNTQvZjA1N2NiNDZmM2Q4NzFiYTAzYzY2ZTcwN2UzYjNkODI5OTMyMmYzNmZhNDMzODYyZGMzZmRjYTk1NjcxNTYxND9yZXNwb25zZS1jb250ZW50LWRpc3Bvc2l0aW9uPSoifV19&Signature=GjoUXeJZc2P0GpwpqASajQZ5wZ%7EBBR%7E9AaUOAfMLiPSG7tUL9N9Rm7fu5nIM-QnIQvOPvKbWZNef-GeshPYc%7E806zemdhk0gK6j2VMfyCt8ywZrTN-FWzq-RkDhDG9imTho9HTQTt1Pinj4CPk3F0StBoyT-pO0R8ih3bRRm7aqF2Co3J97EcRHzRBWCmHVHr%7EM%7ECKMhNEaYGuFC6t6i28S4Muna2FryoSCTeV26yq8NPR7Kr5IsHX7Or9vhExfAu-6aVr5Bkz%7E5RKQnLZhMdrWuNr4C8T-m%7Eqhq1Z%7EB%7EPiRfhAsx-CVCAY1uMBfqkwjSLzFhLT7DdHiKDkvcX5baw__&Key-Pair-Id=KCD77M1F0VK2B [following]\n",
      "--2024-05-22 01:20:39--  https://cdn-lfs-us-1.huggingface.co/repos/eb/d8/ebd889d6ac58573e8e8a7aa1176d4d357581a6da60135b94aca378fddf4e9e54/f057cb46f3d871ba03c66e707e3b3d8299322f36fa433862dc3fdca956715614?response-content-disposition=attachment%3B+filename*%3DUTF-8%27%27sae_weights.safetensors%3B+filename%3D%22sae_weights.safetensors%22%3B&Expires=1716600039&Policy=eyJTdGF0ZW1lbnQiOlt7IkNvbmRpdGlvbiI6eyJEYXRlTGVzc1RoYW4iOnsiQVdTOkVwb2NoVGltZSI6MTcxNjYwMDAzOX19LCJSZXNvdXJjZSI6Imh0dHBzOi8vY2RuLWxmcy11cy0xLmh1Z2dpbmdmYWNlLmNvL3JlcG9zL2ViL2Q4L2ViZDg4OWQ2YWM1ODU3M2U4ZThhN2FhMTE3NmQ0ZDM1NzU4MWE2ZGE2MDEzNWI5NGFjYTM3OGZkZGY0ZTllNTQvZjA1N2NiNDZmM2Q4NzFiYTAzYzY2ZTcwN2UzYjNkODI5OTMyMmYzNmZhNDMzODYyZGMzZmRjYTk1NjcxNTYxND9yZXNwb25zZS1jb250ZW50LWRpc3Bvc2l0aW9uPSoifV19&Signature=GjoUXeJZc2P0GpwpqASajQZ5wZ%7EBBR%7E9AaUOAfMLiPSG7tUL9N9Rm7fu5nIM-QnIQvOPvKbWZNef-GeshPYc%7E806zemdhk0gK6j2VMfyCt8ywZrTN-FWzq-RkDhDG9imTho9HTQTt1Pinj4CPk3F0StBoyT-pO0R8ih3bRRm7aqF2Co3J97EcRHzRBWCmHVHr%7EM%7ECKMhNEaYGuFC6t6i28S4Muna2FryoSCTeV26yq8NPR7Kr5IsHX7Or9vhExfAu-6aVr5Bkz%7E5RKQnLZhMdrWuNr4C8T-m%7Eqhq1Z%7EB%7EPiRfhAsx-CVCAY1uMBfqkwjSLzFhLT7DdHiKDkvcX5baw__&Key-Pair-Id=KCD77M1F0VK2B\n",
      "Resolving cdn-lfs-us-1.huggingface.co (cdn-lfs-us-1.huggingface.co)... 18.161.156.61, 18.161.156.3, 18.161.156.33, ...\n",
      "Connecting to cdn-lfs-us-1.huggingface.co (cdn-lfs-us-1.huggingface.co)|18.161.156.61|:443... connected.\n",
      "HTTP request sent, awaiting response... 416 Requested Range Not Satisfiable\n",
      "\n",
      "    The file is already fully retrieved; nothing to do.\n",
      "\n"
     ]
    },
    {
     "data": {
      "application/vnd.jupyter.widget-view+json": {
       "model_id": "cf9e6a01da9742049008c17d68f529c5",
       "version_major": 2,
       "version_minor": 0
      },
      "text/plain": [
       "  0%|          | 0/2000 [00:00<?, ?it/s]"
      ]
     },
     "metadata": {},
     "output_type": "display_data"
    },
    {
     "name": "stderr",
     "output_type": "stream",
     "text": [
      "Exception ignored in: <bound method IPythonKernel._clean_thread_parent_frames of <ipykernel.ipkernel.IPythonKernel object at 0x7f12cc5bf290>>\n",
      "Traceback (most recent call last):\n",
      "  File \"/home/dmitrii/.cache/pypoetry/virtualenvs/micrlhf-progress-_SD4q1c9-py3.12/lib/python3.12/site-packages/ipykernel/ipkernel.py\", line 775, in _clean_thread_parent_frames\n",
      "    def _clean_thread_parent_frames(\n",
      "\n",
      "KeyboardInterrupt: \n"
     ]
    }
   ],
   "source": [
    "fs = FeatureSearch(\"en_ru\", 18, early_stopping_steps=100, seed=10)\n",
    "w = fs.find_weights()"
   ]
  },
  {
   "cell_type": "code",
   "execution_count": 32,
   "metadata": {},
   "outputs": [],
   "source": [
    "fs = FeatureSearch(\"algo_last\", 18, early_stopping_steps=100, seed=10)"
   ]
  },
  {
   "cell_type": "code",
   "execution_count": 33,
   "metadata": {},
   "outputs": [
    {
     "data": {
      "application/vnd.jupyter.widget-view+json": {
       "model_id": "e52c7fd6a8854fb89cc3408f5327c65b",
       "version_major": 2,
       "version_minor": 0
      },
      "text/plain": [
       "  0%|          | 0/2000 [00:00<?, ?it/s]"
      ]
     },
     "metadata": {},
     "output_type": "display_data"
    }
   ],
   "source": [
    "w = fs.find_weights()"
   ]
  },
  {
   "cell_type": "code",
   "execution_count": 21,
   "metadata": {},
   "outputs": [
    {
     "data": {
      "text/html": [
       "<div id=\"output_4659b98926a048d99904cd4e154b88de\"><script> /* penzai.treescope rendering of a Python object (compressed) */ (()=>{ let observer; let lastStep = new Promise((resolve, reject) => { observer = new IntersectionObserver((entries) => { for (const entry of entries) { if (entry.isIntersecting) { resolve(); observer.disconnect(); return; } } }, {rootMargin: \"1000px\"}); }); window.treescope_decompress_enqueue = (encoded, destId) => { const previous = lastStep; const destElt = document.getElementById(destId); lastStep = (async () => { await previous; let blob = new Blob([ Uint8Array.from(atob(encoded), (m) => m.codePointAt(0)) ]); let reader = blob.stream().pipeThrough( new DecompressionStream(\"deflate\") ).pipeThrough( new TextDecoderStream(\"utf-8\") ).getReader(); let parts = []; while (true) { let step = await reader.read(); if (step.done) { break; } parts.push(step.value); } let newElt = document.createElement(\"div\"); newElt.innerHTML = parts.join(\"\"); destElt.parentNode.replaceChild(newElt, destElt); for (let oldScript of newElt.querySelectorAll(\"script\")) { let newScript = document.createElement(\"script\"); newScript.type = oldScript.type; newScript.textContent = oldScript.textContent; oldScript.parentNode.replaceChild(newScript, oldScript); } })(); requestAnimationFrame(() => { observer.observe(destElt); }); } })(); </script><div id=\"compress_html_366f15ad906b42af8bb18907e7a7cb34\"><script>window.treescope_decompress_enqueue(\"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\", \"compress_html_366f15ad906b42af8bb18907e7a7cb34\");</script><span style=\"color: #aaaaaa; font-family: monospace\">(Loading...)</span></div></div>"
      ],
      "text/plain": [
       "<IPython.core.display.HTML object>"
      ]
     },
     "metadata": {},
     "output_type": "display_data"
    },
    {
     "data": {
      "text/html": [
       "<div id=\"compress_html_ed7bb2c9d65f4f25bccb017941e936e2\"><script>window.treescope_decompress_enqueue(\"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\", \"compress_html_ed7bb2c9d65f4f25bccb017941e936e2\");</script></div>"
      ],
      "text/plain": [
       "<IPython.core.display.HTML object>"
      ]
     },
     "metadata": {},
     "output_type": "display_data"
    },
    {
     "data": {
      "text/html": [
       "<div id=\"output_dest_4659b98926a048d99904cd4e154b88de\"><script> (()=>{ const output = document.getElementById(\"output_4659b98926a048d99904cd4e154b88de\"); const dest = document.getElementById(\"output_dest_4659b98926a048d99904cd4e154b88de\"); dest.parentNode.replaceChild(output, dest); })(); </script></div>"
      ],
      "text/plain": [
       "[# jax.Array float32(20,) ≈8.6 ±1.1e+01 [≥-0.055, ≤3.1e+01] nonzero:20\n",
       "   Array([ 3.09979153e+01,  2.82771473e+01,  2.81605225e+01,  2.23171616e+01,\n",
       "           1.70592213e+01,  1.41996422e+01,  1.22735662e+01,  1.18328285e+01,\n",
       "           3.67472243e+00,  2.47404289e+00,  1.58222604e+00, -2.69895289e-02,\n",
       "          -2.70592347e-02, -2.96332240e-02, -3.23766917e-02, -4.17804755e-02,\n",
       "          -4.86377254e-02, -5.33655584e-02, -5.33791259e-02, -5.49723543e-02],      dtype=float32)\n",
       " ,\n",
       " # jax.Array int32(20,) [≥6_262, ≤46_627] nonzero:20\n",
       "   Array([10615, 41937, 10151, 13937, 16245, 46627,  6262, 16804,  8286,\n",
       "          25117, 10897, 28142, 21109, 21014, 44885, 43632, 44120,  7628,\n",
       "          25342, 36901], dtype=int32)\n",
       " ]"
      ]
     },
     "execution_count": 21,
     "metadata": {},
     "output_type": "execute_result"
    }
   ],
   "source": [
    "jax.lax.top_k(w[0], 20)"
   ]
  },
  {
   "cell_type": "code",
   "execution_count": 34,
   "metadata": {},
   "outputs": [
    {
     "data": {
      "application/vnd.jupyter.widget-view+json": {
       "model_id": "c19641c057564360837ec0e2204d404c",
       "version_major": 2,
       "version_minor": 0
      },
      "text/plain": [
       "  0%|          | 0/20 [00:00<?, ?it/s]"
      ]
     },
     "metadata": {},
     "output_type": "display_data"
    },
    {
     "data": {
      "text/html": [
       "<div id=\"output_419517561a7c4844ada9fbe322607f9a\"><script> /* penzai.treescope rendering of a Python object (compressed) */ (()=>{ let observer; let lastStep = new Promise((resolve, reject) => { observer = new IntersectionObserver((entries) => { for (const entry of entries) { if (entry.isIntersecting) { resolve(); observer.disconnect(); return; } } }, {rootMargin: \"1000px\"}); }); window.treescope_decompress_enqueue = (encoded, destId) => { const previous = lastStep; const destElt = document.getElementById(destId); lastStep = (async () => { await previous; let blob = new Blob([ Uint8Array.from(atob(encoded), (m) => m.codePointAt(0)) ]); let reader = blob.stream().pipeThrough( new DecompressionStream(\"deflate\") ).pipeThrough( new TextDecoderStream(\"utf-8\") ).getReader(); let parts = []; while (true) { let step = await reader.read(); if (step.done) { break; } parts.push(step.value); } let newElt = document.createElement(\"div\"); newElt.innerHTML = parts.join(\"\"); destElt.parentNode.replaceChild(newElt, destElt); for (let oldScript of newElt.querySelectorAll(\"script\")) { let newScript = document.createElement(\"script\"); newScript.type = oldScript.type; newScript.textContent = oldScript.textContent; oldScript.parentNode.replaceChild(newScript, oldScript); } })(); requestAnimationFrame(() => { observer.observe(destElt); }); } })(); </script><div id=\"compress_html_ea15764e679b45a0840bc3468a051d9d\"><script>window.treescope_decompress_enqueue(\"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\", \"compress_html_ea15764e679b45a0840bc3468a051d9d\");</script><span style=\"color: #aaaaaa; font-family: monospace\">(Loading...)</span></div></div>"
      ],
      "text/plain": [
       "<IPython.core.display.HTML object>"
      ]
     },
     "metadata": {},
     "output_type": "display_data"
    },
    {
     "data": {
      "text/html": [
       "<div id=\"compress_html_c612cb0202d440aca34fa6070b167f16\"><script>window.treescope_decompress_enqueue(\"eNrtW82O47gRvucpCA2yLe+0NaL+bbcNJDMJsJc9BAFyaDQESqIspWXRK9H9M4O5Z98jeYC8Qh5lnyRF0pYl2+329LpnkI36YEtiVbGK9cdPbl4l+R2q+WNBp1qS18uCPI5RyUqqoTyZaimrwoSmtKpoEsaWb6e+6TgJJY4VO0GSxkkcWdhPnMDxR9rsql6SEj6FvJkRMc7ZoshLOi4Z142UFQmJChqWLKHjjNT6rCARLWbdkZCz+bxQPOM4o/EtTQYD9P0AfUJLkiR5OR9ythwj08AuXUyQmGGY0Xye8THChnz22YhZAcqTKKroHXDK2zF64wUWMc0tQcwWC1ry8D6jZUgfQP+EJmfTdzMrkX/bWcvVIqJVi8AcBdj1tgQ1r8DOtgQbu9htCMAdwuwtQVSQ+HaCIvicV2xVJsP1wB2p9OEwKlh8qx4NgIpVCa3UKuLlA6pZkSfHKJUrnyP+jIzscUkr0Ow2rOiCcRpm7A4M3VV6X012W8SZHji/F251XITNkZJ4T+qwjitWFMDOmZHmVc1Dnse3J0sdOQYWcs0RwrZn+AcFS/8dnW6wNyGvSFnnPGfleG9yhGtESU2HeTlkK36JUlby4b0M050x4dUszkLInpiGBU15K9TFrYh1N866dJWUtCWsVAI0lD+tSFGSBQ2XFU3zB6CUGtT5RyqoApUmNSciYMM4y4ukomVjovI8mqEuydlSo6k2MoYmaEGqOSyHMjcmRaxbcYaGoKkTZ8pjz+j6aqqtk0CppsJfanUwCTolStoBHiky9D3SMZjTZlnLrYGKDgaDZg22rMPTeTfzblJVcjYiN0+H68dfcTW3xUau4LAiSb6q1wZiugDrnjZMavrrlHg2xD916qHyryh0J9TD48SfDZD4Kv1v6+RjLVD2NFmSoJss24EtOrxcWl5RWsdsCeWEMW40xOECNEFHJOSlmFMVUkEE2j5LeMpkT8pZq3z1Tu0u5FYDxQWp66nWVXO9D9lsazpegU6aRIHjksmheIMFnWhd0R3XoLwOVUNgpewBQKxceJWXyxVHHNrfVJNOi9iDdlDI2r/A+k4ydefbNlAOmUu5hhLCyfCWPi4Jz6bajnqdhrSONtTtJdopa7Ue3OkZ2mxJy48k33oOcmcJmtTQ2VNSFKLpGeASue1TXz8y/peN9KUwWu+OX71br1hr3gshNVpBTJcXiJXvC2i304vtpBnsymD1BFUYi0GdZ3k9uFBrIx5PNb0giyghSITWWH4OtG0INIRjdHGA8mKC1jSkhAgkqqVfvAcGJNYdrpvdbdea9urtFhrULTTaEeo9UgbtPC9JAfuoZTX9ohAxOryHAma9vdRm3715sPzJH6qKPOoWxiP3EiUyhvOS29ZADXctvtyPJpBZkGVNE22GDq1LZ2+tfQXPd1fg9DjY4Xt5VJwYI097HcDXC32eJwc9rhCHNhvZI9fHjukCELKc/2XX5slLHAtc39CtMrde6FjBe6w5nb8XHUHI2tEweHMwVvaay9/Jw6Z5yBJ0pEMcCzQth2clbxXeo+Pa7HwOaL9kgGpa8IkcQKpwCvukYer2uzmfHAmhb5hKwrKXJJPkO1c6nZpqO+t02a/lScvW2SluX82hnRcK2mzwZZ7obNifTY8mJQ5uN/YTZPOV5Hezqy94V+lGFMcAlkjqeo5n+1GaBH46GjkejbCNre27yh5G9DCihxHngxFD08Cehc3RJrejtGCEY69HE789NIHtEZRX18QO9t2ghxM9nOjhRA8nejjRw4mvDSeObDvOhyqC2MQBiYIoSD3HpWZEY9tKAFUQ34njxOlRRY8qelTxSqhiFJiO16OK/5ffKCzXtRzXDIIeVPSgogcVPajoQUUPKr4+qHhq13E+UIGx56Q+CXAQ2I5r+4Fnub4XR67lkxEAmh5U9KCiBxXnBRWdNEebrNYt83KAfvn5HzLv0X/+bRq2j65/+flfQ2w4lzDyT/ma4Uak8kdasbFlikLQQ5DfKgTBbuB5jtlDkB6C9BCkhyA9BOkhyCtAkOdy69q++cZ79G4C/5rq1+qUog6cEJVNlTzPhu24Sk/DulcutgpwXrd+xhJHtRwv8F15adum6QdwiQ3LsbAa910/wJYitbHlXv4OqT/BMDIBSEoG7ASOo65GQKeuTOx68sq2lAwQHHRktBktrBQBcndkKz1My96IhT2S19KtpcYGPwuHgJDgZg9Kv6DaSYhdx5BJfKbrAzSdoU8xK2sIdZlAPyQ1mqJr7fSjy5dIO/1/B9vEz/4k2CZ+FurfTJQZouaBBfcQJey+hUXBtrB7ikpHCYtXIvfE4J8KKi7/+PhDojdLcW3eiIN0SnJakbkgAekNY1xRwumH9e2f1xR6wyPmeV8wqILTht8gS0DKyXsRvbos0bGg+BFKic6rlTy6l7IK6QXlKAdGcwJfV1sHGQUt5zyDp2/fiqNtgk4Ntmd50qb8BiYQPDVbVTH9kN+1Ldphky9cNPQW7fCrWwNQTAGV/W85z/RGnDr5u5YizQSG7ag43nxHdXlAUZ1mawlpFkwMDwQRhK4K103Y7rmWlj+t6Ip+WMfKX+kC5HFa64OG978Mv2q9\", \"compress_html_c612cb0202d440aca34fa6070b167f16\");</script></div>"
      ],
      "text/plain": [
       "<IPython.core.display.HTML object>"
      ]
     },
     "metadata": {},
     "output_type": "display_data"
    },
    {
     "data": {
      "text/html": [
       "<div id=\"output_dest_419517561a7c4844ada9fbe322607f9a\"><script> (()=>{ const output = document.getElementById(\"output_419517561a7c4844ada9fbe322607f9a\"); const dest = document.getElementById(\"output_dest_419517561a7c4844ada9fbe322607f9a\"); dest.parentNode.replaceChild(output, dest); })(); </script></div>"
      ],
      "text/plain": [
       "(<jax.Array(21195, dtype=int32)>,\n",
       " <jax.Array(-0.162109, dtype=bfloat16)>,\n",
       " <jax.Array(-0.980469, dtype=bfloat16)>,\n",
       " # jax.Array bfloat16(20,) ≈-0.98 ±0.37 [≥-1.4, ≤-0.16] nonzero:20\n",
       "   Array([-0.162109, -0.546875, -0.330078, -1.24219, -0.757812, -0.53125,\n",
       "          -0.390625, -1.14844, -1.19531, -1.10156, -1.32812, -1.28125,\n",
       "          -1.14844, -1.21875, -1.35938, -1.02344, -1.16406, -1.24219,\n",
       "          -0.980469, -1.42188], dtype=bfloat16)\n",
       " )"
      ]
     },
     "execution_count": 34,
     "metadata": {},
     "output_type": "execute_result"
    }
   ],
   "source": [
    "fs.check_features(jax.lax.top_k(w[0], 20)[1], scale=20)"
   ]
  },
  {
   "cell_type": "code",
   "execution_count": null,
   "metadata": {},
   "outputs": [
    {
     "data": {
      "application/vnd.jupyter.widget-view+json": {
       "model_id": "3b26c791176542c0886a40e76141b94c",
       "version_major": 2,
       "version_minor": 0
      },
      "text/plain": [
       "  0%|          | 0/20 [00:00<?, ?it/s]"
      ]
     },
     "metadata": {},
     "output_type": "display_data"
    },
    {
     "data": {
      "text/html": [
       "<div id=\"output_b0ba3b27eefc45a69faf3a9e2b5e88dd\"><script> /* penzai.treescope rendering of a Python object (compressed) */ (()=>{ let observer; let lastStep = new Promise((resolve, reject) => { observer = new IntersectionObserver((entries) => { for (const entry of entries) { if (entry.isIntersecting) { resolve(); observer.disconnect(); return; } } }, {rootMargin: \"1000px\"}); }); window.treescope_decompress_enqueue = (encoded, destId) => { const previous = lastStep; const destElt = document.getElementById(destId); lastStep = (async () => { await previous; let blob = new Blob([ Uint8Array.from(atob(encoded), (m) => m.codePointAt(0)) ]); let reader = blob.stream().pipeThrough( new DecompressionStream(\"deflate\") ).pipeThrough( new TextDecoderStream(\"utf-8\") ).getReader(); let parts = []; while (true) { let step = await reader.read(); if (step.done) { break; } parts.push(step.value); } let newElt = document.createElement(\"div\"); newElt.innerHTML = parts.join(\"\"); destElt.parentNode.replaceChild(newElt, destElt); for (let oldScript of newElt.querySelectorAll(\"script\")) { let newScript = document.createElement(\"script\"); newScript.type = oldScript.type; newScript.textContent = oldScript.textContent; oldScript.parentNode.replaceChild(newScript, oldScript); } })(); requestAnimationFrame(() => { observer.observe(destElt); }); } })(); </script><div id=\"compress_html_ba98176788d4493da1dd7f5578cb89d6\"><script>window.treescope_decompress_enqueue(\"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\", \"compress_html_ba98176788d4493da1dd7f5578cb89d6\");</script><span style=\"color: #aaaaaa; font-family: monospace\">(Loading...)</span></div></div>"
      ],
      "text/plain": [
       "<IPython.core.display.HTML object>"
      ]
     },
     "metadata": {},
     "output_type": "display_data"
    },
    {
     "data": {
      "text/html": [
       "<div id=\"compress_html_294b2eface0d44c687cec0239a47474b\"><script>window.treescope_decompress_enqueue(\"eNrtW82O4zYSvu9TEBokLWdsjX4t/7QN7M5sgFxyCBbYQ6MhUCRtaVsWHYnunxnMPXmP5AH2FfZR8iQpkrJs2W63p+OeQbLqgy2RVcUq1h8/uXVJ01tUioeMTQyalssMP4xQznNmoJROjBkvIspmrCgYjYJwFgR2HBLH6fsxcYchxTaJ+3EQMy+MiTG9LJc4h08pb2rFXAi+yNKcjXIuTGvGM4rjjEU5p2yU4NKcZjhm2bQ5Ewk+n2eaZ0QSRm4Y7XTQNx30AS0xpWk+7wm+HCHbcgK2GCO5Qi9h6TwRI+RYauyjRXgGyuM4LtgtcKrbEXrVH7jYtjcEhC8WLBfRXcLyiN2D/pTRs+m7XhWrv82q+WoRs2KLwB4OnKC/IShFAXZuS/CcwAlqAnCHNHtDEGeY3IxRDJ/zgq9y2qsmbnFh9npxxsmNHuoAFS8oK/QuOst7VPIspccotSufIv6IrORhyQrQ7CYq2IILFiX8FgzdVXpfTX6TkcQc+F9Jt/oBcuyhlniHy6gkBc8yYBfcmqVFKSKRkpuTpQ59y5Fy7SFyvL4VHhSs/Hd0uc7egqLAeZmKlOejvcWRUyKGS9ZL8x5fiS6a8Vz07lSY7sxJryYkiSB7CIsyNhNboS5vZawHJGnSFUrShrDQCVBT/rjCWY4XLFoWbJbeA6XSoEzfM0k10GlSCiwDNiJJmtGC5bWJ2vNoipokZ0uNutqoGBqjBS7msB3aXIIzYrokQT3Q1CeJ9tgTur6YalUSaNV0+CutDiZBo0QpO8AjWYK+QaYD5myzVHJLoGKdTqfegw1r73Te9brrVFWctcj1aK8a/oy7uSk2agd7BabpqqwMdNgCrHvcMKXpH1PiyRD/0KiH2r+y0J1QD48Tf7RA4ov0v42Tj7VA1dNUSYJustwObNnh1daKgrGS8CWUE86FVRNHC9AEHZGQ5nJNXUglEWj7JOEpiz0qp1L58o0+XaijBiIZLsuJ0VSzOoesjzUNr0AnpfHAD/D4ULzBho6NpuiGa1BaRroh8Fz1ACDWLrxM8+VKIAHtb2Iop8X83jgopPIvsL5RTM31Ng1UQOYyYSCKBe7dsIclFsnE2FGv0ZCqaEPNXmKcslfV5E7PMKZLlr/H6cZzkDtL0KSEzj7DWSabngUuUcc+/fU9Fz+spS+l0WZz/vJNtWNb615IqfEKYjq/QDx/m0G7nVxsFk3gVAa7J6kiIidNkaRl50LvjRyeGGaGFzHFSIbWSH12jE0I1IQjdHGA8mKMKhqcQwRi3dIv3gIDkvsO1/XptmnN9u7tFhrULDTGEeo9Ug7tPM1xBueoZTH5pBCxGryHAqY6XhrTr1/du+H470WBH0zfcb1hF1EVw2kuPLejp5sWd/ejCWRmeFkyakzRoX1pnK2Nz+D55g6cHgc7fM+PihNj5HGvA/h6ps9TetDjGnEY06E/CPpOMABfe477Z3ZtSp/jWOD6gm5VufVMx0reY83p/L3oCEI2jobBq4Oxstdc/oPv181DlaAjHeJYoBkpjOViq/AenTem53PA9kMGqKaZGKsJpAuntE8Zpm+/novxkRD6gqkkLXtOMim+c6XTqam2s0/ddi9P2rbGSXHzaA7tPFAwpp1P80TjwP5ketQpcfC4sZ8g6y+a3k4vP+FZpe/MAtsm7pDato9DB8e0HwSu7wYkdsIAb55VtjCihREtjDgfjOj5lusMwmCd2vEs41g4/RZM/PXAhOPbXj8MoKC6A99r0USLJlo00aKJFk20aOJzo4nHTx3nwxSD/nDg9B03DIfEd0J/GLpeGIROjD0/dmjQYooWU7SY4kUwRWB5vtdiiv+bHyhcz+3bg2DYQooWUrSQooUULaRoIcVnhxSPHjrOBynYzLODGZ2RwLX9AfUxDgnDlPmz2GEOtVtI0UKKFlKcF1I0shyts9p07W4H/fbzTzLt0f/+a1teiK5++/nXXt+yuzDxi3zEcC0T+T0r+Mi1ZRlo8cdfFH+4w749dIIWf7T4o8UfLf5o8UeLP14CfzyVW1fe9Rc+oTcT+I9Uv61OKevACVFZV8lzHNeOK/Q4pHvhUqux5lWv30Vgijtw3EBd9eEQoq+c+sr2nL2xQI39Dek/KSJ4XJL6gQwuwvoqGHrVld3fllP/nAYzvl0r0FxVrVOTqXWuu1rADmR+Rl1TULokkDNiapodNJmiD4TnJQS1SpXvaIkm6Mo4/fXkLjJO///AbeInf/jbJn4S0l+PtRmyuoEFdxAR/G4Lc4JtUfNNKRNRTlYyy+TkPzMmL//x8B016624sq/ly3Ja8qzAc0kC0mtGUjAs2Lvq9tuKwqx55DpvMw71blLzW3gJiJi+lZFqqmJMJMX3UDRMUazU63kzXiAzYwKlwGiP4ety4yArY/lcJDD6+rV8fU3S6cntVR61Kb2GBSRPyVcFYe/S222LdtjUgxUDvUY7/PrWArySQQ3/dyoSsxan3+6tpCgzgWEzK19hvmWmeglRv7G2JaTeMDndkUQQujpc12G751qW/7hiK/auipV/sQXIE6w0OzXv72IAZYE=\", \"compress_html_294b2eface0d44c687cec0239a47474b\");</script></div>"
      ],
      "text/plain": [
       "<IPython.core.display.HTML object>"
      ]
     },
     "metadata": {},
     "output_type": "display_data"
    },
    {
     "data": {
      "text/html": [
       "<div id=\"output_dest_b0ba3b27eefc45a69faf3a9e2b5e88dd\"><script> (()=>{ const output = document.getElementById(\"output_b0ba3b27eefc45a69faf3a9e2b5e88dd\"); const dest = document.getElementById(\"output_dest_b0ba3b27eefc45a69faf3a9e2b5e88dd\"); dest.parentNode.replaceChild(output, dest); })(); </script></div>"
      ],
      "text/plain": [
       "(<jax.Array(41239, dtype=int32)>,\n",
       " <jax.Array(-4.21875, dtype=bfloat16)>,\n",
       " <jax.Array(-5.34375, dtype=bfloat16)>,\n",
       " # jax.Array bfloat16(20,) ≈-5.3 ±0.37 [≥-6.0, ≤-4.2] nonzero:20\n",
       "   Array([-6, -5.28125, -5.65625, -5.15625, -5.03125, -5.15625, -5.53125,\n",
       "          -5.25, -5.28125, -5.65625, -5.1875, -5.71875, -5.59375, -5.0625,\n",
       "          -4.21875, -5.40625, -5.0625, -5.53125, -5.21875, -5.65625],      dtype=bfloat16)\n",
       " )"
      ]
     },
     "execution_count": 24,
     "metadata": {},
     "output_type": "execute_result"
    }
   ],
   "source": [
    "fs.check_features(jax.lax.top_k(w[0], 20)[1], scale=20)"
   ]
  },
  {
   "cell_type": "code",
   "execution_count": null,
   "metadata": {},
   "outputs": [
    {
     "data": {
      "text/html": [
       "<div id=\"output_185d739a08994c268d6f94f40167821b\"><script> /* penzai.treescope rendering of a Python object (compressed) */ (()=>{ let observer; let lastStep = new Promise((resolve, reject) => { observer = new IntersectionObserver((entries) => { for (const entry of entries) { if (entry.isIntersecting) { resolve(); observer.disconnect(); return; } } }, {rootMargin: \"1000px\"}); }); window.treescope_decompress_enqueue = (encoded, destId) => { const previous = lastStep; const destElt = document.getElementById(destId); lastStep = (async () => { await previous; let blob = new Blob([ Uint8Array.from(atob(encoded), (m) => m.codePointAt(0)) ]); let reader = blob.stream().pipeThrough( new DecompressionStream(\"deflate\") ).pipeThrough( new TextDecoderStream(\"utf-8\") ).getReader(); let parts = []; while (true) { let step = await reader.read(); if (step.done) { break; } parts.push(step.value); } let newElt = document.createElement(\"div\"); newElt.innerHTML = parts.join(\"\"); destElt.parentNode.replaceChild(newElt, destElt); for (let oldScript of newElt.querySelectorAll(\"script\")) { let newScript = document.createElement(\"script\"); newScript.type = oldScript.type; newScript.textContent = oldScript.textContent; oldScript.parentNode.replaceChild(newScript, oldScript); } })(); requestAnimationFrame(() => { observer.observe(destElt); }); } })(); </script><div id=\"compress_html_467de0d3f28141859d7e0b0108997fef\"><script>window.treescope_decompress_enqueue(\"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\", \"compress_html_467de0d3f28141859d7e0b0108997fef\");</script><span style=\"color: #aaaaaa; font-family: monospace\">(Loading...)</span></div></div>"
      ],
      "text/plain": [
       "<IPython.core.display.HTML object>"
      ]
     },
     "metadata": {},
     "output_type": "display_data"
    },
    {
     "data": {
      "text/html": [
       "<div id=\"compress_html_9d3d07b3e247474482d730b32db2783c\"><script>window.treescope_decompress_enqueue(\"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\", \"compress_html_9d3d07b3e247474482d730b32db2783c\");</script></div>"
      ],
      "text/plain": [
       "<IPython.core.display.HTML object>"
      ]
     },
     "metadata": {},
     "output_type": "display_data"
    },
    {
     "data": {
      "text/html": [
       "<div id=\"output_dest_185d739a08994c268d6f94f40167821b\"><script> (()=>{ const output = document.getElementById(\"output_185d739a08994c268d6f94f40167821b\"); const dest = document.getElementById(\"output_dest_185d739a08994c268d6f94f40167821b\"); dest.parentNode.replaceChild(output, dest); })(); </script></div>"
      ],
      "text/plain": [
       "[# jax.Array float32(20,) ≈5.4 ±2.9 [≥-0.014, ≤1.1e+01] nonzero:20\n",
       "   Array([11.022304  ,  9.960602  ,  9.723273  ,  7.446827  ,  7.3656707 ,\n",
       "           6.9718046 ,  6.634519  ,  6.3051505 ,  6.268656  ,  6.1738625 ,\n",
       "           5.3788037 ,  4.8796234 ,  4.4844356 ,  4.196526  ,  3.5582683 ,\n",
       "           2.7230783 ,  1.9743043 ,  1.7151848 ,  1.7031406 , -0.01442439],      dtype=float32)\n",
       " ,\n",
       " # jax.Array int32(20,) [≥3_151, ≤47_066] nonzero:20\n",
       "   Array([ 9644, 20311, 46157, 42589, 25117, 38261,  9337, 47066, 10897,\n",
       "          30124,  3151,  3398, 46627, 36916, 17215, 10069, 29942, 39270,\n",
       "           4999, 31578], dtype=int32)\n",
       " ]"
      ]
     },
     "execution_count": 69,
     "metadata": {},
     "output_type": "execute_result"
    }
   ],
   "source": [
    "jax.lax.top_k(w, 20)"
   ]
  },
  {
   "cell_type": "code",
   "execution_count": null,
   "metadata": {},
   "outputs": [],
   "source": [
    "def find_features(task, target_layer):\n",
    "    scale = 20\n",
    "    early_stopping_steps = 50\n",
    "    init_w = 0.1\n",
    "    iterations = 2000\n",
    "\n",
    "    sae = get_sae(target_layer, 6)\n",
    "    dictionary = sae[\"W_dec\"]\n",
    "\n",
    "    pairs = tasks[task]\n",
    "    pairs = [list(x) for x in pairs.items()]\n",
    "    seed = 0\n",
    "\n",
    "    dataset = ICLDataset(pairs, size=batch_size, n_prepended=0, bidirectional=False, seed=seed+1)\n",
    "\n",
    "\n",
    "    tokenized = tokenizer.batch_encode_plus([prompt.format(x) for x in dataset.prompts], padding=\"longest\", max_length=max_seq_len, truncation=True, return_tensors=\"np\")\n",
    "    inputs = tokenized_to_inputs(\n",
    "        **tokenized\n",
    "    )\n",
    "\n",
    "    target_tokens = [x[1] for x in tokenizer(dataset.completions)[\"input_ids\"]]\n",
    "    target_tokens = jnp.asarray(target_tokens)\n",
    "\n",
    "    jittify = lambda x: partial(jax.jit(lambda lr, *args, **kwargs: lr(*args, **kwargs)[1][0].value), x)\n",
    "    get_resids_initial = make_get_resids(llama, target_layer)\n",
    "    get_resids_initial = jittify(get_resids_initial)\n",
    "\n",
    "    intital_resids = get_resids_initial(inputs)\n",
    "\n",
    "    taker = jit_wrapper.Jitted(llama.select().at_instances_of(LlamaBlock).apply_with_selected_index(\n",
    "        lambda i, x: x if i >= target_layer else pz.nn.Identity()\n",
    "    ).select().at_instances_of(pz.nn.EmbeddingLookup).apply(lambda _: pz.nn.Identity())\n",
    "                    .select().at_instances_of(pz.nn.ConstantRescale).pick_nth_selected(0).apply(lambda _: pz.nn.Identity()))\n",
    "\n",
    "    optimizer = optax.chain(\n",
    "        optax.adam(3e-2),\n",
    "        optax.zero_nans(),    \n",
    "    )\n",
    "\n",
    "    lwg = jax.value_and_grad(get_loss, has_aux=True)\n",
    "    \n",
    "\n",
    "    weights = jnp.ones(dictionary.shape[0]) * init_w\n",
    "    opt_state = optimizer.init(weights)\n",
    "\n",
    "    min_loss = 1e9\n",
    "    early_stopping_counter = 0\n",
    "\n",
    "    for _ in (bar := trange(iterations)):\n",
    "        loss, weights, opt_state, metrics = train_step(weights, opt_state, dictionary, inputs, target_tokens, taker, intital_resids, optimizer, lwg)\n",
    "\n",
    "        if metrics[\"loss\"] < min_loss:\n",
    "            min_loss = metrics[\"loss\"]\n",
    "            early_stopping_counter = 0\n",
    "        \n",
    "\n",
    "        tk = jax.lax.top_k(weights, 2)\n",
    "\n",
    "        bar.set_postfix(loss_optim=loss, **metrics, top=tk[1][0], top_diff=(tk[0][0] - tk[0][1]) / tk[0][0])\n",
    "\n",
    "        early_stopping_counter += 1\n",
    "        if early_stopping_counter > early_stopping_steps:\n",
    "            break\n",
    "\n",
    "    \n",
    "    return jax.lax.top_k(jnp.abs(weights), 20)\n"
   ]
  },
  {
   "cell_type": "code",
   "execution_count": null,
   "metadata": {},
   "outputs": [
    {
     "data": {
      "application/vnd.jupyter.widget-view+json": {
       "model_id": "82ea1e746eef48259d2710fc0505dfa3",
       "version_major": 2,
       "version_minor": 0
      },
      "text/plain": [
       "  0%|          | 0/2000 [00:00<?, ?it/s]"
      ]
     },
     "metadata": {},
     "output_type": "display_data"
    },
    {
     "data": {
      "text/html": [
       "<div id=\"output_f58b50eb5a1540d7b59775e3fbd46391\"><script> /* penzai.treescope rendering of a Python object (compressed) */ (()=>{ let observer; let lastStep = new Promise((resolve, reject) => { observer = new IntersectionObserver((entries) => { for (const entry of entries) { if (entry.isIntersecting) { resolve(); observer.disconnect(); return; } } }, {rootMargin: \"1000px\"}); }); window.treescope_decompress_enqueue = (encoded, destId) => { const previous = lastStep; const destElt = document.getElementById(destId); lastStep = (async () => { await previous; let blob = new Blob([ Uint8Array.from(atob(encoded), (m) => m.codePointAt(0)) ]); let reader = blob.stream().pipeThrough( new DecompressionStream(\"deflate\") ).pipeThrough( new TextDecoderStream(\"utf-8\") ).getReader(); let parts = []; while (true) { let step = await reader.read(); if (step.done) { break; } parts.push(step.value); } let newElt = document.createElement(\"div\"); newElt.innerHTML = parts.join(\"\"); destElt.parentNode.replaceChild(newElt, destElt); for (let oldScript of newElt.querySelectorAll(\"script\")) { let newScript = document.createElement(\"script\"); newScript.type = oldScript.type; newScript.textContent = oldScript.textContent; oldScript.parentNode.replaceChild(newScript, oldScript); } })(); requestAnimationFrame(() => { observer.observe(destElt); }); } })(); </script><div id=\"compress_html_8b936896c6e54433b6700cf2155d3025\"><script>window.treescope_decompress_enqueue(\"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\", \"compress_html_8b936896c6e54433b6700cf2155d3025\");</script><span style=\"color: #aaaaaa; font-family: monospace\">(Loading...)</span></div></div>"
      ],
      "text/plain": [
       "<IPython.core.display.HTML object>"
      ]
     },
     "metadata": {},
     "output_type": "display_data"
    },
    {
     "data": {
      "text/html": [
       "<div id=\"compress_html_ed2f29a9cbaf4a09b031cd9fc7d5ae99\"><script>window.treescope_decompress_enqueue(\"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\", \"compress_html_ed2f29a9cbaf4a09b031cd9fc7d5ae99\");</script></div>"
      ],
      "text/plain": [
       "<IPython.core.display.HTML object>"
      ]
     },
     "metadata": {},
     "output_type": "display_data"
    },
    {
     "data": {
      "text/html": [
       "<div id=\"output_dest_f58b50eb5a1540d7b59775e3fbd46391\"><script> (()=>{ const output = document.getElementById(\"output_f58b50eb5a1540d7b59775e3fbd46391\"); const dest = document.getElementById(\"output_dest_f58b50eb5a1540d7b59775e3fbd46391\"); dest.parentNode.replaceChild(output, dest); })(); </script></div>"
      ],
      "text/plain": [
       "[# jax.Array float32(20,) ≈3.3 ±4.8 [≥0.42, ≤1.6e+01] nonzero:20\n",
       "   Array([16.070333  , 12.78331   , 10.591674  , 10.247323  ,  5.344763  ,\n",
       "           2.8526528 ,  1.5353229 ,  0.5156362 ,  0.50892174,  0.45389727,\n",
       "           0.45202777,  0.44730943,  0.44149902,  0.43828565,  0.4329766 ,\n",
       "           0.43184933,  0.43073234,  0.4306618 ,  0.42252657,  0.4161794 ],      dtype=float32)\n",
       " ,\n",
       " # jax.Array int32(20,) [≥2_719, ≤48_025] nonzero:20\n",
       "   Array([10018, 20311,  5145, 40023, 45145,  2719, 15415, 24802, 20375,\n",
       "          19505, 38618, 36786, 47611, 31726, 12632, 10615, 47480, 48025,\n",
       "           3048, 40850], dtype=int32)\n",
       " ]"
      ]
     },
     "execution_count": 27,
     "metadata": {},
     "output_type": "execute_result"
    }
   ],
   "source": [
    "find_features(\n",
    "    \"en_es\", 18\n",
    ")"
   ]
  },
  {
   "cell_type": "code",
   "execution_count": 35,
   "metadata": {},
   "outputs": [
    {
     "name": "stderr",
     "output_type": "stream",
     "text": [
      "--2024-05-22 18:45:26--  https://huggingface.co/nev/phi-3-4k-saex-test/resolve/main/l17-test-run-6-4.52E-06/sae_weights.safetensors?download=true\n",
      "Resolving huggingface.co (huggingface.co)... 108.156.211.125, 108.156.211.90, 108.156.211.95, ...\n",
      "Connecting to huggingface.co (huggingface.co)|108.156.211.125|:443... connected.\n",
      "HTTP request sent, awaiting response... 302 Found\n",
      "Location: https://cdn-lfs-us-1.huggingface.co/repos/eb/d8/ebd889d6ac58573e8e8a7aa1176d4d357581a6da60135b94aca378fddf4e9e54/1623d8da38be3171fcc8516a4cbe9fdb80e3d77e370aa5690895697649d688f3?response-content-disposition=attachment%3B+filename*%3DUTF-8%27%27sae_weights.safetensors%3B+filename%3D%22sae_weights.safetensors%22%3B&Expires=1716662726&Policy=eyJTdGF0ZW1lbnQiOlt7IkNvbmRpdGlvbiI6eyJEYXRlTGVzc1RoYW4iOnsiQVdTOkVwb2NoVGltZSI6MTcxNjY2MjcyNn19LCJSZXNvdXJjZSI6Imh0dHBzOi8vY2RuLWxmcy11cy0xLmh1Z2dpbmdmYWNlLmNvL3JlcG9zL2ViL2Q4L2ViZDg4OWQ2YWM1ODU3M2U4ZThhN2FhMTE3NmQ0ZDM1NzU4MWE2ZGE2MDEzNWI5NGFjYTM3OGZkZGY0ZTllNTQvMTYyM2Q4ZGEzOGJlMzE3MWZjYzg1MTZhNGNiZTlmZGI4MGUzZDc3ZTM3MGFhNTY5MDg5NTY5NzY0OWQ2ODhmMz9yZXNwb25zZS1jb250ZW50LWRpc3Bvc2l0aW9uPSoifV19&Signature=Ykz7GYjSPOeLTseAqysEec7AEON0ZRQa8CaaM1f1QO7t1qSSsE36fFNGVaJJfLwkvEntbLG1DZcgWWPZWhd1fcGIZuP0w0aBr5PcZE-mjbEfqKzy%7E9NPcdW6qxBbf%7ER2cny%7EHImNLZ13D8zApusS1Ti%7EAqlvSIagwxOg1I3I2r3DU45tOKKCop1dewn2pm-u-c8KssNqPFoB9px9P4EdcZ37H%7ELkeDdCusJh1MrObaOvGBLjKCgUfIyxyD%7EjL2NxzWPaZNXmdZPdpIkC-VXpADE39C1jhnTPSe2uQAheIxLis0tFy1RWeqOB44ouBXuUVweN%7EGuPX89PB2r1%7EB5vUA__&Key-Pair-Id=KCD77M1F0VK2B [following]\n",
      "--2024-05-22 18:45:26--  https://cdn-lfs-us-1.huggingface.co/repos/eb/d8/ebd889d6ac58573e8e8a7aa1176d4d357581a6da60135b94aca378fddf4e9e54/1623d8da38be3171fcc8516a4cbe9fdb80e3d77e370aa5690895697649d688f3?response-content-disposition=attachment%3B+filename*%3DUTF-8%27%27sae_weights.safetensors%3B+filename%3D%22sae_weights.safetensors%22%3B&Expires=1716662726&Policy=eyJTdGF0ZW1lbnQiOlt7IkNvbmRpdGlvbiI6eyJEYXRlTGVzc1RoYW4iOnsiQVdTOkVwb2NoVGltZSI6MTcxNjY2MjcyNn19LCJSZXNvdXJjZSI6Imh0dHBzOi8vY2RuLWxmcy11cy0xLmh1Z2dpbmdmYWNlLmNvL3JlcG9zL2ViL2Q4L2ViZDg4OWQ2YWM1ODU3M2U4ZThhN2FhMTE3NmQ0ZDM1NzU4MWE2ZGE2MDEzNWI5NGFjYTM3OGZkZGY0ZTllNTQvMTYyM2Q4ZGEzOGJlMzE3MWZjYzg1MTZhNGNiZTlmZGI4MGUzZDc3ZTM3MGFhNTY5MDg5NTY5NzY0OWQ2ODhmMz9yZXNwb25zZS1jb250ZW50LWRpc3Bvc2l0aW9uPSoifV19&Signature=Ykz7GYjSPOeLTseAqysEec7AEON0ZRQa8CaaM1f1QO7t1qSSsE36fFNGVaJJfLwkvEntbLG1DZcgWWPZWhd1fcGIZuP0w0aBr5PcZE-mjbEfqKzy%7E9NPcdW6qxBbf%7ER2cny%7EHImNLZ13D8zApusS1Ti%7EAqlvSIagwxOg1I3I2r3DU45tOKKCop1dewn2pm-u-c8KssNqPFoB9px9P4EdcZ37H%7ELkeDdCusJh1MrObaOvGBLjKCgUfIyxyD%7EjL2NxzWPaZNXmdZPdpIkC-VXpADE39C1jhnTPSe2uQAheIxLis0tFy1RWeqOB44ouBXuUVweN%7EGuPX89PB2r1%7EB5vUA__&Key-Pair-Id=KCD77M1F0VK2B\n",
      "Resolving cdn-lfs-us-1.huggingface.co (cdn-lfs-us-1.huggingface.co)... 108.138.167.116, 108.138.167.22, 108.138.167.67, ...\n",
      "Connecting to cdn-lfs-us-1.huggingface.co (cdn-lfs-us-1.huggingface.co)|108.138.167.116|:443... connected.\n",
      "HTTP request sent, awaiting response... 416 Requested Range Not Satisfiable\n",
      "\n",
      "    The file is already fully retrieved; nothing to do.\n",
      "\n"
     ]
    }
   ],
   "source": [
    "sae = get_sae(target_layer, 6)"
   ]
  },
  {
   "cell_type": "code",
   "execution_count": 36,
   "metadata": {},
   "outputs": [
    {
     "ename": "NameError",
     "evalue": "name 'check_feature' is not defined",
     "output_type": "error",
     "traceback": [
      "\u001b[0;31m---------------------------------------------------------------------------\u001b[0m",
      "\u001b[0;31mNameError\u001b[0m                                 Traceback (most recent call last)",
      "Cell \u001b[0;32mIn[36], line 1\u001b[0m\n\u001b[0;32m----> 1\u001b[0m \u001b[43mcheck_feature\u001b[49m(\u001b[38;5;241m21195\u001b[39m, \u001b[38;5;124m\"\u001b[39m\u001b[38;5;124malgo_last\u001b[39m\u001b[38;5;124m\"\u001b[39m, \u001b[38;5;241m18\u001b[39m, sae)\n",
      "\u001b[0;31mNameError\u001b[0m: name 'check_feature' is not defined"
     ]
    }
   ],
   "source": [
    "check_feature(21195, \"algo_last\", 18, sae)"
   ]
  },
  {
   "cell_type": "code",
   "execution_count": null,
   "metadata": {},
   "outputs": [],
   "source": []
  },
  {
   "cell_type": "code",
   "execution_count": null,
   "metadata": {},
   "outputs": [],
   "source": []
  }
 ],
 "metadata": {
  "kernelspec": {
   "display_name": "micrlhf-progress-_SD4q1c9-py3.12",
   "language": "python",
   "name": "python3"
  },
  "language_info": {
   "codemirror_mode": {
    "name": "ipython",
    "version": 3
   },
   "file_extension": ".py",
   "mimetype": "text/x-python",
   "name": "python",
   "nbconvert_exporter": "python",
   "pygments_lexer": "ipython3",
   "version": "3.12.3"
  }
 },
 "nbformat": 4,
 "nbformat_minor": 2
}
