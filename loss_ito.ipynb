{
 "cells": [
  {
   "cell_type": "code",
   "execution_count": 1,
   "metadata": {},
   "outputs": [],
   "source": [
    "%load_ext autoreload\n",
    "%autoreload 2\n",
    "import penzai\n",
    "from penzai import pz\n",
    "pz.ts.register_as_default()\n",
    "pz.ts.register_autovisualize_magic()\n",
    "pz.enable_interactive_context()"
   ]
  },
  {
   "cell_type": "code",
   "execution_count": 2,
   "metadata": {},
   "outputs": [],
   "source": [
    "import random\n",
    "import dataclasses\n",
    "import jax\n",
    "import optax\n",
    "\n",
    "import jax.numpy as jnp\n",
    "import numpy as np\n",
    "\n",
    "from matplotlib import pyplot as plt\n",
    "from tqdm.auto import tqdm, trange\n",
    "from penzai.data_effects.side_output import SideOutputValue\n",
    "from micrlhf.utils.activation_manipulation import add_vector\n",
    "from micrlhf.utils.load_sae import get_sae\n",
    "from functools import partial"
   ]
  },
  {
   "cell_type": "code",
   "execution_count": 3,
   "metadata": {},
   "outputs": [],
   "source": [
    "filename = \"models/phi-3-16.gguf\"\n",
    "from micrlhf.llama import LlamaTransformer\n",
    "llama = LlamaTransformer.from_pretrained(filename, device_map=\"tpu:0\")"
   ]
  },
  {
   "cell_type": "code",
   "execution_count": 4,
   "metadata": {},
   "outputs": [
    {
     "name": "stderr",
     "output_type": "stream",
     "text": [
      "/home/dmitrii/.cache/pypoetry/virtualenvs/micrlhf-progress-_SD4q1c9-py3.12/lib/python3.12/site-packages/huggingface_hub/file_download.py:1132: FutureWarning: `resume_download` is deprecated and will be removed in version 1.0.0. Downloads always resume when possible. If you want to force a new download, use `force_download=True`.\n",
      "  warnings.warn(\n",
      "Special tokens have been added in the vocabulary, make sure the associated word embeddings are fine-tuned or trained.\n"
     ]
    }
   ],
   "source": [
    "from transformers import AutoTokenizer\n",
    "tokenizer = AutoTokenizer.from_pretrained(\"microsoft/Phi-3-mini-4k-instruct\")\n",
    "tokenizer.pad_token = tokenizer.eos_token\n",
    "tokenizer.padding_side = \"left\""
   ]
  },
  {
   "cell_type": "code",
   "execution_count": 16,
   "metadata": {},
   "outputs": [
    {
     "name": "stderr",
     "output_type": "stream",
     "text": [
      "Cloning into 'itv'...\n",
      "fatal: unable to access 'https://github.com/roeehendel/icl_task_vectors data/itv/': URL using bad/illegal format or missing URL\n"
     ]
    }
   ],
   "source": [
    "from task_vector_utils import load_tasks, ICLDataset, ICLSequence\n",
    "tasks = load_tasks()"
   ]
  },
  {
   "cell_type": "code",
   "execution_count": 6,
   "metadata": {},
   "outputs": [],
   "source": [
    "from micrlhf.llama import LlamaBlock\n",
    "from micrlhf.sampling import sample, jit_wrapper\n",
    "get_resids = llama.select().at_instances_of(LlamaBlock).apply_with_selected_index(lambda i, x:\n",
    "    pz.nn.Sequential([\n",
    "        pz.de.TellIntermediate.from_config(tag=f\"resid_pre_{i}\"),\n",
    "        x\n",
    "    ])\n",
    ")\n",
    "get_resids = pz.de.CollectingSideOutputs.handling(get_resids, tag_predicate=lambda x: x.startswith(\"resid_pre\"))\n",
    "get_resids_call = jit_wrapper.Jitted(get_resids)"
   ]
  },
  {
   "cell_type": "code",
   "execution_count": 7,
   "metadata": {},
   "outputs": [],
   "source": [
    "def tokenized_to_inputs(input_ids, attention_mask):\n",
    "    token_array = jnp.asarray(input_ids)\n",
    "    token_array = jax.device_put(token_array, jax.sharding.NamedSharding(llama.mesh, jax.sharding.PartitionSpec(\"dp\", \"sp\")))\n",
    "    token_array = pz.nx.wrap(token_array, \"batch\", \"seq\").untag(\"batch\").tag(\"batch\")\n",
    "\n",
    "    mask_array = jnp.asarray(attention_mask, dtype=jnp.bool)\n",
    "    mask_array = jax.device_put(mask_array, jax.sharding.NamedSharding(llama.mesh, jax.sharding.PartitionSpec(\"dp\", \"sp\")))\n",
    "    mask_array = pz.nx.wrap(mask_array, \"batch\", \"seq\").untag(\"batch\").tag(\"batch\")\n",
    "\n",
    "    inputs = llama.inputs.from_basic_segments(token_array)\n",
    "    return inputs"
   ]
  },
  {
   "cell_type": "code",
   "execution_count": 8,
   "metadata": {},
   "outputs": [],
   "source": [
    "prompt = \"<user>Follow the pattern\\n{}\""
   ]
  },
  {
   "cell_type": "code",
   "execution_count": 9,
   "metadata": {},
   "outputs": [],
   "source": [
    "\n",
    "target_layer = 17"
   ]
  },
  {
   "cell_type": "code",
   "execution_count": 10,
   "metadata": {},
   "outputs": [],
   "source": [
    "task_names = [\n",
    "    \"en_es\"\n",
    "]\n",
    "\n",
    "task = \"en_es\"\n",
    "\n",
    "n_seeds = 10\n",
    "\n",
    "# n_few_shots, batch_size, max_seq_len = 64, 64, 512\n",
    "n_few_shots, batch_size, max_seq_len = 32, 64, 256"
   ]
  },
  {
   "cell_type": "code",
   "execution_count": 11,
   "metadata": {},
   "outputs": [],
   "source": [
    "def get_logprob_diff(logits: jnp.ndarray, target_tokens, print_results=False):\n",
    "    logprobs = jax.nn.log_softmax(logits, axis=-1)\n",
    "    answer_logprobs = logprobs[:, -1]\n",
    "\n",
    "    target_logprobs = jnp.take_along_axis(answer_logprobs, target_tokens[:, None], axis=-1).squeeze()\n",
    "\n",
    "    if print_results:\n",
    "        print(\n",
    "            tokenizer.decode(answer_logprobs.argmax(axis=-1))\n",
    "        )\n",
    "\n",
    "        print(\n",
    "            tokenizer.decode(target_tokens)\n",
    "        )\n",
    "\n",
    "    return target_logprobs\n"
   ]
  },
  {
   "cell_type": "code",
   "execution_count": 12,
   "metadata": {},
   "outputs": [],
   "source": [
    "from micrlhf.llama import LlamaBlock\n",
    "from functools import partial\n",
    "\n",
    "def make_get_resids(llama, layer_target):\n",
    "    get_resids = llama.select().at_instances_of(LlamaBlock).pick_nth_selected(layer_target\n",
    "                                                                              ).apply(lambda x:\n",
    "        pz.nn.Sequential([\n",
    "            pz.de.TellIntermediate.from_config(tag=f\"resid_pre\"),\n",
    "            x\n",
    "        ])\n",
    "    )\n",
    "    get_resids = pz.de.CollectingSideOutputs.handling(get_resids, tag_predicate=lambda x: x.startswith(\"resid_pre\"))\n",
    "    return get_resids"
   ]
  },
  {
   "cell_type": "code",
   "execution_count": 13,
   "metadata": {},
   "outputs": [],
   "source": [
    "import dataclasses\n",
    "def get_loss(weights, dictionary, inputs, target_tokens, taker, initial_resids):\n",
    "    weights = jax.nn.relu(weights)\n",
    "    \n",
    "\n",
    "    recon = jnp.einsum(\"fv,f->v\", dictionary, weights)\n",
    "    recon = recon.astype('bfloat16')\n",
    "\n",
    "    modified = pz.nx.nmap(lambda a, b: a.at[-1].add(b))(\n",
    "        initial_resids.untag(\"seq\", \"embedding\"), pz.nx.wrap(recon, \"embedding\").untag(\"embedding\")\n",
    "        ).tag(\"seq\", \"embedding\")\n",
    "\n",
    "    inputs = dataclasses.replace(inputs, tokens=modified)\n",
    "\n",
    "    logits = taker(inputs).unwrap(\"batch\", \"seq\", \"vocabulary\")\n",
    "\n",
    "    logprob_diff = get_logprob_diff(logits, target_tokens)\n",
    "    loss = -logprob_diff.mean()\n",
    "\n",
    "    return loss + 1e-2 * jnp.linalg.norm(weights, ord=1), ((weights != 0).sum(), loss)\n",
    "    # return loss, ((weights != 0).sum(), loss)"
   ]
  },
  {
   "cell_type": "code",
   "execution_count": 14,
   "metadata": {},
   "outputs": [],
   "source": [
    "def train_step(weights, opt_state, dictionary, inputs, target_tokens, taker, initial_resids, optimizer, lwg, pos_only=True):\n",
    "    (loss, (l0, loss_)), grad = lwg(weights, dictionary, inputs, target_tokens, taker, initial_resids)\n",
    "\n",
    "    updates, opt_state = optimizer.update(grad, opt_state, weights)\n",
    "    weights = optax.apply_updates(weights, updates)\n",
    "    # weights_abs = jnp.abs(weights)\n",
    "    # weights = jnp.sign(weights) * jax.nn.relu(weights_abs - shrinkage)\n",
    "\n",
    "    return loss, weights, opt_state, dict(l0=l0, loss=loss_)"
   ]
  },
  {
   "cell_type": "code",
   "execution_count": 15,
   "metadata": {},
   "outputs": [],
   "source": [
    "jittify = lambda x: partial(jax.jit(lambda lr, *args, **kwargs: lr(*args, **kwargs)[1][0].value), x)"
   ]
  },
  {
   "cell_type": "code",
   "execution_count": 37,
   "metadata": {},
   "outputs": [],
   "source": [
    "layer_source = 17\n",
    "get_resids_initial = make_get_resids(llama, layer_source)\n",
    "get_resids_initial = jittify(get_resids_initial)"
   ]
  },
  {
   "cell_type": "code",
   "execution_count": 38,
   "metadata": {},
   "outputs": [],
   "source": [
    "pairs = tasks[task]\n",
    "pairs = [list(x) for x in pairs.items()]\n",
    "seed = 0\n",
    "\n",
    "dataset = ICLDataset(pairs, size=batch_size, n_prepended=0, bidirectional=False, seed=seed+1)\n",
    "\n",
    "\n",
    "tokenized = tokenizer.batch_encode_plus([prompt.format(x) for x in dataset.prompts], padding=\"longest\", max_length=max_seq_len, truncation=True, return_tensors=\"np\")\n",
    "inputs = tokenized_to_inputs(\n",
    "    **tokenized\n",
    ")\n",
    "\n",
    "target_tokens = [x[1] for x in tokenizer(dataset.completions)[\"input_ids\"]]\n",
    "target_tokens = jnp.asarray(target_tokens)"
   ]
  },
  {
   "cell_type": "code",
   "execution_count": 39,
   "metadata": {},
   "outputs": [],
   "source": [
    "initial_resids = get_resids_initial(inputs)"
   ]
  },
  {
   "cell_type": "code",
   "execution_count": 40,
   "metadata": {},
   "outputs": [],
   "source": [
    "layer_target = target_layer\n",
    "\n",
    "taker = jit_wrapper.Jitted(llama.select().at_instances_of(LlamaBlock).apply_with_selected_index(\n",
    "    lambda i, x: x if i >= layer_target else pz.nn.Identity()\n",
    ").select().at_instances_of(pz.nn.EmbeddingLookup).apply(lambda _: pz.nn.Identity())\n",
    "                .select().at_instances_of(pz.nn.ConstantRescale).pick_nth_selected(0).apply(lambda _: pz.nn.Identity()))"
   ]
  },
  {
   "cell_type": "code",
   "execution_count": 27,
   "metadata": {},
   "outputs": [
    {
     "data": {
      "text/html": [
       "<div id=\"output_9a6ae0888211487dad8be668816f7765\"><script> /* penzai.treescope rendering of a Python object (compressed) */ (()=>{ let observer; let lastStep = new Promise((resolve, reject) => { observer = new IntersectionObserver((entries) => { for (const entry of entries) { if (entry.isIntersecting) { resolve(); observer.disconnect(); return; } } }, {rootMargin: \"1000px\"}); }); window.treescope_decompress_enqueue = (encoded, destId) => { const previous = lastStep; const destElt = document.getElementById(destId); lastStep = (async () => { await previous; let blob = new Blob([ Uint8Array.from(atob(encoded), (m) => m.codePointAt(0)) ]); let reader = blob.stream().pipeThrough( new DecompressionStream(\"deflate\") ).pipeThrough( new TextDecoderStream(\"utf-8\") ).getReader(); let parts = []; while (true) { let step = await reader.read(); if (step.done) { break; } parts.push(step.value); } let newElt = document.createElement(\"div\"); newElt.innerHTML = parts.join(\"\"); destElt.parentNode.replaceChild(newElt, destElt); for (let oldScript of newElt.querySelectorAll(\"script\")) { let newScript = document.createElement(\"script\"); newScript.type = oldScript.type; newScript.textContent = oldScript.textContent; oldScript.parentNode.replaceChild(newScript, oldScript); } })(); requestAnimationFrame(() => { observer.observe(destElt); }); } })(); </script><div id=\"compress_html_ab7916764f8d42f78c4c7f1bc5e62876\"><script>window.treescope_decompress_enqueue(\"eNrNWAtT27gW/iuqO7M4pQlJIKGEhrlOyIsSKIQWyu5Oxg/ZFrElI8sxYYf/vkdyQh4EWvb29i7MECKfx3eeOscfYzEJ8EFBcIxjm0V4yBkT6C8UsZgIwmgNcRyYgozxPnIZFXnXDEkwqaGQURZHpg3nqU8EzqsvNRRxOAlILPJKdF5MIjiljMKxZdojj7OEOnmbBYzXMtZ9NP1mBUAA8ogj/BpyiQAyKjAV+yg0uUdoPsCuqKGy7UsdFOd9TDwfTkqFyj56+LiVmfMxtjmJxAEiLtJTQh2Wzi1E9XodAQTsggAnB7Y+pUB/Pew/OS4MI0wdQj3Dlp6Jgez3P79L1jWpE0iRNAmCNdQeFsMV79eRPnP6ULAcqh8AyK136JixEQSBI+FjpCgpc3ABvdtCARZoyrvAqkIDyvXs2Zs6cpidhODQgsWcCfrtN/RGPinYgRnHxxC0gnS4SWisa8ugtBySrprpkEyRyUFSK8ChitADaBYJp+ohfF1jK0/ogDEqDUwZH00tA5WxAGSXcCQfLR0LYsvDCHMwPDSpjQuUpXru0bQnT1A+Y/qItssS8rocWA1lIcDUEz6kBiquy4iXY5rZLT2AgxjPofsJldi/qzz2iSukSYpD/vMAvz+KQZ9Rcnyb4FgYlISmpGhzM8R65tdcbn1EVqFESexnsdn/EcfNQNQzV7zGdT8Oey1wTIErwYfYxZxj5wKHEaQ9jp8mUBTIw8fEBzY+GeAA24JxIwgg0ae8i00wocMYMlXL7auC02V9gSTEXCVQGgqfC3XDccjGeKlqFmQ8Vwn6DKuU73J2j2VxKMlZ41uGq2tZY5MiJQd8WzTN5hjMmBbkIi38V5B9GIgzJerb9BzfiWambOHx/HBfwclq/US2G47BWzZuQvk5Okh4LwlknJ6NlWCeF2RtZKi6vwBgqsvBCQ7Ee4THIH3qCpl26nthhCeyIjWuzVoPEC/4PJOra48yhyEA1GY4HhDcB9lF8NEhY6QY66t9DQnTAsD4rq4VNcQoKAX0dIFuPX5d+CSeIdfgyskuUnWTDWkSWpirHFQX29vi3odSpQqYCi4LHNMCcbJ3P3PRPqBlsmGGAKgdEoP3J7MLdZUQHaDAtHBQq1kY8hYvILDVz/5afdmtmi/Ja3V6+Rb357oIVXetFTB5Oz+r04cC4E81OyYfxdj0wJ30KXeNMqGvHPlmrB8omQdr/aB4araP7RFc4Dn0LjfHIFnXM83olxCqFK+hjT/KFcve+H/CW2Z6FmT1F4CUcZSKEx7LAEaMAAK+Ri+Jf55aVQpKUV7VVPxcjv8crXPzZK97qqVA4qFLeCyGjA5l+q8prZdKqVCuyGpaGyr0X8PPIr4KUVq1NCergn4oyPYGjnWGtuzZPylbFnrRtDEsqbbNwNZhTodprBTdqZa8ggMulP8ZFItxBxIpg+IwAUolDPQWF+WvdErqYzqEFhWYUQxPv9taXw3sBQ1ZQ1U6FBG+i2AsepbmZ+BYp2Jq6H+me50tc3ppx9vowzzBiRmgwSS0GAxSp4mQsBw0GxmaLJpsTFdDdQVKsTCOB9OzdLqg7RTB6zG3ayjhge6YwqzJ51spc93yvmXGuLrz3inudfqe0TDUT+/MMJj6r3Gewt9u2zBaxks/jdAwvBH75PRajWb6zTAuvjWPjH6v0TTa3l2ve+yLuNEn2NtuH16Vj3vVb+NBlJDP/cpF6eiqd/61P77s34vPk3a7uXnpjS5I47Dok8Oz5KjldG6KXWvLHfec6PZT1b+9JOQs6dOO33W/CONLtXHCd4x2j45aVftLktDN88qtHY/SsdsOtm7vvBb74FlHaedDqWtsUeO8csz5Uel807svnjtF48gteSe7zbRzU/aKbJKc7+6GrVI17V7tnXpehC9Gkx3cs+4rtsVPO8I0vLPeSXpoxpP4LOn1ri5b7dT4fBb1vjlftrY2vd2L3attUXQ/fb41xhWQeWyc7Br91Ai9+/PBZnI9wK2ru7Jbte9Pds67k0rSMD7dN26idrRNumfNVvE6+bwz2KVu47jVbfdDg2x+GLfKPi35u5vW1/TqJu3y8WHnS5PeuK2WJzZP7esg2K3sNY/Sxgd/b6ff7wy2O9eGF/YqN42zPXHRwd29VqPR62wfejvnW9/siWV0IKZfP20ZZx3TwP1mYHTvW6fetfCqjc/e6WnvsDEiZxXcblw1G22bFCOfs4hCbkTXrcPSfWk0cJuu8CefaNcx23HXLZ6EndZJteEYt1+/RqaIB9eh45hkr+ze7+18ITe31Sjk1VP2rTkgvBOOjzrbg8vBdrtVthtn7sVmN2BRZ6cdpxXTu61+INd4cBJEl7TR7WGnz3FyedtphqXLNh8NBneVcvXyMk4NQJRDahUV+oZK643czyhfGEEnViIE7M3rmtT88bqZQUPaChXcYzG0grXEf+DSjqPt/9MmAMVujQhwqmYQwrjsw95XQyYVwE6gxp3HVz2PnfjJlJFxk3voJMXCHg5XrczGkzVWrJ8255yF1IyHdkCkYx/5TVcsDeqzMfklnSs8yyoXXY/GJtfzednt8iaFwKoFN7d4LJXIzZ+bdDZMKLGoFCMMHsvDjcoS8TpTHhFAYAh23iwjUSrRGxJGjAuTPpFtcTZSN1c0mc+C3/fuAtuCPx8v3NV3c0+2RF+9GVD8mWmwIUJ3ozbSMw3Lr4vAkgsmEw/IpgjkWYyFAiVdKnGYqUkEouaYeCZs0LA9kshiJncKKScCX8Dwp89lQSSmsuZbpuk4urbgb7VQY3FBQgyBedzgn/DN3gissD68R+Visahag20KmJB0Nbit17vgVG0Obnln1yG8b1HbJAEkg2BIEr9RNQkjGU3MIJjANBELbDoyJzYXfTfdleeLskyl2aa8vOatTpuw82Zt7COhUSKQfKVQ11TjstidtlbItMcB65ZiWtbngwQOokdDAaMkht1c5Sts5NDF/bqmHegAFBiAfap6gX1jnosbsMc3pcvrGy/kl9rgcxvosSjqmh6YoeWY6l1DTf3NaUjlbV1bqB5oimsoZQdcrXWgVH6WBsD/Wob44NGM7GPRCU+GZO2l59rrPPh78c8VjsX3FdrBzl6pUl4G936JfHmm1Q7QOhOWBk7tFwQJzPrxOEnifx6qHw3cawNTejkw28Xd8gu6Vzz+/t8RldJrolL6eVHJPnL/Cif8kv4x+3DI+Pn79bk35nrusfv/DSCp28U=\", \"compress_html_ab7916764f8d42f78c4c7f1bc5e62876\");</script><span style=\"color: #aaaaaa; font-family: monospace\">(Loading...)</span></div></div>"
      ],
      "text/plain": [
       "<IPython.core.display.HTML object>"
      ]
     },
     "metadata": {},
     "output_type": "display_data"
    },
    {
     "data": {
      "text/html": [
       "<div id=\"output_dest_9a6ae0888211487dad8be668816f7765\"><script> (()=>{ const output = document.getElementById(\"output_9a6ae0888211487dad8be668816f7765\"); const dest = document.getElementById(\"output_dest_9a6ae0888211487dad8be668816f7765\"); dest.parentNode.replaceChild(output, dest); })(); </script></div>"
      ],
      "text/plain": [
       "(49152, 3072)"
      ]
     },
     "execution_count": 27,
     "metadata": {},
     "output_type": "execute_result"
    }
   ],
   "source": [
    "\n",
    "sae = get_sae(18, 6)\n",
    "dictionary = sae[\"W_dec\"]\n",
    "dictionary.shape"
   ]
  },
  {
   "cell_type": "code",
   "execution_count": 42,
   "metadata": {},
   "outputs": [],
   "source": [
    "\n",
    "\n",
    "optimizer = optax.chain(\n",
    "    optax.adam(3e-2),\n",
    "    optax.zero_nans(),\n",
    "    \n",
    ")\n",
    "\n",
    "lwg = jax.value_and_grad(get_loss, has_aux=True)\n",
    "shrinkage = 0\n",
    "\n",
    "# @partial(jax.jit, donate_argnums=(0, 1))"
   ]
  },
  {
   "cell_type": "code",
   "execution_count": 43,
   "metadata": {},
   "outputs": [],
   "source": [
    "weights = jnp.ones(dictionary.shape[0]) * 0.1"
   ]
  },
  {
   "cell_type": "code",
   "execution_count": 44,
   "metadata": {},
   "outputs": [],
   "source": [
    "_, grad = lwg(weights, dictionary, inputs, target_tokens, taker, initial_resids)"
   ]
  },
  {
   "cell_type": "code",
   "execution_count": 45,
   "metadata": {},
   "outputs": [
    {
     "data": {
      "text/html": [
       "<div id=\"output_6373c46da87642c1bdd50239ca84505c\"><script> /* penzai.treescope rendering of a Python object (compressed) */ (()=>{ let observer; let lastStep = new Promise((resolve, reject) => { observer = new IntersectionObserver((entries) => { for (const entry of entries) { if (entry.isIntersecting) { resolve(); observer.disconnect(); return; } } }, {rootMargin: \"1000px\"}); }); window.treescope_decompress_enqueue = (encoded, destId) => { const previous = lastStep; const destElt = document.getElementById(destId); lastStep = (async () => { await previous; let blob = new Blob([ Uint8Array.from(atob(encoded), (m) => m.codePointAt(0)) ]); let reader = blob.stream().pipeThrough( new DecompressionStream(\"deflate\") ).pipeThrough( new TextDecoderStream(\"utf-8\") ).getReader(); let parts = []; while (true) { let step = await reader.read(); if (step.done) { break; } parts.push(step.value); } let newElt = document.createElement(\"div\"); newElt.innerHTML = parts.join(\"\"); destElt.parentNode.replaceChild(newElt, destElt); for (let oldScript of newElt.querySelectorAll(\"script\")) { let newScript = document.createElement(\"script\"); newScript.type = oldScript.type; newScript.textContent = oldScript.textContent; oldScript.parentNode.replaceChild(newScript, oldScript); } })(); requestAnimationFrame(() => { observer.observe(destElt); }); } })(); </script><div id=\"compress_html_ff78b21e66eb4a299fbda4eef8b2fdeb\"><script>window.treescope_decompress_enqueue(\"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\", \"compress_html_ff78b21e66eb4a299fbda4eef8b2fdeb\");</script><span style=\"color: #aaaaaa; font-family: monospace\">(Loading...)</span></div></div>"
      ],
      "text/plain": [
       "<IPython.core.display.HTML object>"
      ]
     },
     "metadata": {},
     "output_type": "display_data"
    },
    {
     "data": {
      "text/html": [
       "<div id=\"compress_html_8ee648d2aa674bd9938bc15cbbc2732c\"><script>window.treescope_decompress_enqueue(\"eNrtWt2O2zYWvu9TEAo2Ize2ov8fe2ygTbZAb3pRFNiLwUCgRdrSDi2qEj0/CXK/eY/2AfoKfZQ+SQ9JjWx5HMeZTpNdrOfCosTzx3MOz+Gn0TkprlEj7hidGqRoKobvxqjkJTVQQabGgtcpoQta15SkkevHIY59l2a275AgSeaZi+cEe2ESkjAwZudNhUv4lfJm1pwLwVesKOm45MK0FpwRPGc0LTmh4xw35ozhOWWz/kwq+HLJNM84y2l2RclggL4eoLeowoQU5XIkeDVGtuUEdDVBUsMop8UyF2PkWOrZOyvjDIzH83lNr4FT3Y7RszB2sW1vCDK+WtFSpDc5LVN6C/YTSp7M3nutWP1ttJbr1ZzWWwR2EjtBuCFoRA3r3JbgOYETdAQQDrnsDcGc4exqgubwu6z5uiSjduIa1+ZoNGc8u9KPBkDFa0Jr7UWnukUNZwU5RKlD+THid8jK7ypag2VXaU1XXNA059ew0F2jH5rJr1iWm7H/DxlWP0COnWiJN7hJm6zmjAG74NaiqBuRiiK7Olpq4luOlGsnyPFCK9orWMXvoLrBA4WixmVTiIKX4wfKkdMgihs6KsoRX4shWvBSjG5Umu7MyajmWZ7C7sloyuhCbKW6vJW5HmR5n65WkjaEtd4AHeXPa8xKvKJpVdNFcQuUyoKmeEMlVay3SSOwTNg0ywtGalp2S9SRRzPUJ3myrdFVG5VDE7TC9RLcoZebYZaZbpajEVjqZ7mO2Eds/dtMazeBNk2nv7Jq7ybolSi1DogIy9HXyHRgOdssrdwGqOhgMOh8sGEdHc97r/d+qyrOTuT901H7+DN6c1NslAdHNSbFumkX6NAVrO7DC1OW/jUjPprib3v1UMdXFroj6uFh4ncWSPxb+t8myIdaoOppqiRBN6m2E1t2eOVaUVPaZLyCcsK5sDridAWWoAMSilLq1IVUEoG1HyU8RtkH5bQmn7/Upwt11EAZw00zNfpmtueQ+2NNLyrQSck89gM82Zdv4NCJ0RfdCw0qmlQ3BF6qHgDEOoTnRVmtBRLQ/qaGCtqc3xp7hbTxBdaXiqmvb9NABexcKgxEsMCjK3pXYZFPjR3zeg2pzTbU7yXGMb5qJ3d6hjGraPkGF5vIwd6pwJIGOvsCMyabngUhUcc+ffmBix/vpVdy0WZ//vxl67EtvWdS6nwNOV2eIV6+YtBup2cbpTmcysB7kirN5KQp8qIZnGnfyMdTw2R4BWdRJFNrrH4HxiYFOsIxOttDeTZBLQ0uIQOxbulnr4ABSb/DuDvd9lez7b3dQoP6hcY4QP2AlEM7L0rM4BxV1dNPShGrx7svYdrjpTF7/uzWjSbPmZj8G99a39Q1vkMLxrHwXNO1hwP0x/v/qHPT77/BxY3RxR/vf4VR6Axh6hcoP/Gl3JlvaM3Hrv18KSZaZN9Lw4cZCHYwXDWUGDO0z5e987jxGbKl77Xjc2eH7/GZdGRefThTALA9Mk8KsjdLNEoxZonvRU4c2GEY+577vxzagjwmsMD1BcOqesojAyt5DzW0p+9fB1C1cTANnu3NlQcNSdapllCVqwNd5VCiGQU8K8VWsT44b8yeLgDbLyagAkPtVRNIF86uDrelGSrqgRT6gltJruwxm0nxPdV2Onar7fhpePLlUW7rnS43r/PQzksIYzb4tEj0DvmfuLcu7MsvfETvb+C/Uv22OqWsA0dkZVcln+S8dtiih6XnM9VatS7zAqyNgth3Em8oga4X+l5ou2rsuraDEFJjOw6DyIv0OAqdyPGGXyH9Jx+5kes6zlC9/4uS0A1DPfYicIsSZ8PZBqg8PXbiKPGCLRF2lNhOEgRqOvKAOtCkkRP5see2YxcMjdU4TII49tG2iBBkOkE7LWXEkR77IfAhPfZsUKXFhY7vO150OdQSiMraNtKDR5REUlzPzj/hXX9AiOf4SQwuC/yFi+dhvFjgOLLpIgsJjTfv+k8w/ATDTzD86WF4UXZFXRbx2I9VCffj1HO8E+j+/wDdURJDCfZ9+wS6T6D7BLpPoPsEuk+g+0uAbucEunug++jT2X83xPYd3wYgCpDXhYsLaBSAsh8FCVwQwGbAvIBwAVAjgOISY3sAteHO9wLb6fCtH4Y+wFbkeZ5k8NxQXsIkhgsI8Wy4JInUgIIw8YeSw5WKQs9LOikIKS96AJ9dwL0a8io/PxrwNhmkupiZ5gBNZ+htxssGclFl+PekQVN0YRz/ddsQGcfD48uJViZLB+i5Af/zmy38Bhak/X+Hm4jwbC1TWE7+k1E5/Pbue2J2Bl/Yl/KLCC15UeOlJAHpHWNWUyzo6/b2u5bC7HiknlcMED8w3fNbuAJ0SV7JvDBVpcskxQ+wI01Rr9U3GAteI5NRgQpgtCdwOd+40WK0XIocnr54Ib9RkHR6clvLB9dUXIICydPwdZ3R18X19op22NRLCgO9QDv8+tYCMMCgQP6rELnZidOfcLVS1DKBYTMrv1O7pqb60kR/lrAlpHOYnB5IIkgwnVT3yfUgtLT8eU3X9HWbKz/RFcgTtDEHHe+fF3ZuTg==\", \"compress_html_8ee648d2aa674bd9938bc15cbbc2732c\");</script></div>"
      ],
      "text/plain": [
       "<IPython.core.display.HTML object>"
      ]
     },
     "metadata": {},
     "output_type": "display_data"
    },
    {
     "data": {
      "text/html": [
       "<div id=\"output_dest_6373c46da87642c1bdd50239ca84505c\"><script> (()=>{ const output = document.getElementById(\"output_6373c46da87642c1bdd50239ca84505c\"); const dest = document.getElementById(\"output_dest_6373c46da87642c1bdd50239ca84505c\"); dest.parentNode.replaceChild(output, dest); })(); </script></div>"
      ],
      "text/plain": [
       "[# jax.Array float32(20,) ≈0.09 ±0.028 [≥0.061, ≤0.18] nonzero:20\n",
       "   Array([0.17584193, 0.13643602, 0.12201   , 0.10865737, 0.10761713,\n",
       "          0.10272211, 0.09796266, 0.09370612, 0.08502723, 0.08187935,\n",
       "          0.07901955, 0.07308553, 0.07174832, 0.07121938, 0.0695884 ,\n",
       "          0.06793158, 0.06730887, 0.0646219 , 0.06300792, 0.06144137],      dtype=float32)\n",
       " ,\n",
       " # jax.Array int32(20,) [≥848, ≤48_313] nonzero:20\n",
       "   Array([41407, 18727, 26461, 47591,  2215, 48313, 17537, 35733, 43501,\n",
       "          46642,  3335, 43265, 46985, 22130, 29927,  5694,  4621, 46339,\n",
       "            848, 30692], dtype=int32)\n",
       " ]"
      ]
     },
     "execution_count": 45,
     "metadata": {},
     "output_type": "execute_result"
    }
   ],
   "source": [
    "jax.lax.top_k(\n",
    "    grad, 20\n",
    ")"
   ]
  },
  {
   "cell_type": "code",
   "execution_count": null,
   "metadata": {},
   "outputs": [
    {
     "data": {
      "application/vnd.jupyter.widget-view+json": {
       "model_id": "f2a647b7ff724163b38fda15b26b6372",
       "version_major": 2,
       "version_minor": 0
      },
      "text/plain": [
       "  0%|          | 0/2000 [00:00<?, ?it/s]"
      ]
     },
     "metadata": {},
     "output_type": "display_data"
    }
   ],
   "source": [
    "iterations = 2000\n",
    "\n",
    "weights = jnp.ones(dictionary.shape[0]) * 0.1\n",
    "opt_state = optimizer.init(weights)\n",
    "\n",
    "min_loss = 1e9\n",
    "early_stopping_steps = 100\n",
    "early_stopping_counter = 0\n",
    "\n",
    "\n",
    "for _ in (bar := trange(iterations)):\n",
    "    loss, weights, opt_state, metrics = train_step(weights, opt_state, dictionary, inputs, target_tokens)\n",
    "\n",
    "    if metrics[\"loss\"] < min_loss:\n",
    "        min_loss = metrics[\"loss\"]\n",
    "        early_stopping_counter = 0\n",
    "    \n",
    "\n",
    "    tk = jax.lax.top_k(weights, 2)\n",
    "\n",
    "    bar.set_postfix(loss_optim=loss, **metrics, top=tk[1][0], top_diff=(tk[0][0] - tk[0][1]) / tk[0][0])\n",
    "\n",
    "    early_stopping_counter += 1\n",
    "    if early_stopping_counter > early_stopping_steps:\n",
    "        break"
   ]
  },
  {
   "cell_type": "code",
   "execution_count": null,
   "metadata": {},
   "outputs": [
    {
     "data": {
      "text/html": [
       "<div id=\"output_a781b10d3a8049bba57cc262003eaf96\"><script> /* penzai.treescope rendering of a Python object (compressed) */ (()=>{ let observer; let lastStep = new Promise((resolve, reject) => { observer = new IntersectionObserver((entries) => { for (const entry of entries) { if (entry.isIntersecting) { resolve(); observer.disconnect(); return; } } }, {rootMargin: \"1000px\"}); }); window.treescope_decompress_enqueue = (encoded, destId) => { const previous = lastStep; const destElt = document.getElementById(destId); lastStep = (async () => { await previous; let blob = new Blob([ Uint8Array.from(atob(encoded), (m) => m.codePointAt(0)) ]); let reader = blob.stream().pipeThrough( new DecompressionStream(\"deflate\") ).pipeThrough( new TextDecoderStream(\"utf-8\") ).getReader(); let parts = []; while (true) { let step = await reader.read(); if (step.done) { break; } parts.push(step.value); } let newElt = document.createElement(\"div\"); newElt.innerHTML = parts.join(\"\"); destElt.parentNode.replaceChild(newElt, destElt); for (let oldScript of newElt.querySelectorAll(\"script\")) { let newScript = document.createElement(\"script\"); newScript.type = oldScript.type; newScript.textContent = oldScript.textContent; oldScript.parentNode.replaceChild(newScript, oldScript); } })(); requestAnimationFrame(() => { observer.observe(destElt); }); } })(); </script><div id=\"compress_html_cc8570270b8b4748969db07378e69c38\"><script>window.treescope_decompress_enqueue(\"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\", \"compress_html_cc8570270b8b4748969db07378e69c38\");</script><span style=\"color: #aaaaaa; font-family: monospace\">(Loading...)</span></div></div>"
      ],
      "text/plain": [
       "<IPython.core.display.HTML object>"
      ]
     },
     "metadata": {},
     "output_type": "display_data"
    },
    {
     "data": {
      "text/html": [
       "<div id=\"compress_html_98bac7280b4143969c0688c323489765\"><script>window.treescope_decompress_enqueue(\"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\", \"compress_html_98bac7280b4143969c0688c323489765\");</script></div>"
      ],
      "text/plain": [
       "<IPython.core.display.HTML object>"
      ]
     },
     "metadata": {},
     "output_type": "display_data"
    },
    {
     "data": {
      "text/html": [
       "<div id=\"output_dest_a781b10d3a8049bba57cc262003eaf96\"><script> (()=>{ const output = document.getElementById(\"output_a781b10d3a8049bba57cc262003eaf96\"); const dest = document.getElementById(\"output_dest_a781b10d3a8049bba57cc262003eaf96\"); dest.parentNode.replaceChild(output, dest); })(); </script></div>"
      ],
      "text/plain": [
       "(# jax.Array float32(20,) ≈0.16 ±0.32 [≥-0.031, ≤1.0] nonzero:20\n",
       "   Array([ 1.        ,  0.8120634 ,  0.6285117 ,  0.62683046,  0.27645394,\n",
       "           0.08325835,  0.03821881, -0.03123521, -0.03082848, -0.02749531,\n",
       "          -0.02738206, -0.02709624, -0.02674427, -0.02654962, -0.02622802,\n",
       "          -0.02615973, -0.02609207, -0.0260878 , -0.025595  , -0.02521051],      dtype=float32)\n",
       " ,\n",
       " # jax.Array int32(20,) [≥2_719, ≤48_025] nonzero:20\n",
       "   Array([10018, 20311, 40023,  5145, 45145,  2719, 15415, 24802, 20375,\n",
       "          19505, 38618, 36786, 47611, 31726, 12632, 10615, 47480, 48025,\n",
       "           3048, 40850], dtype=int32)\n",
       " )"
      ]
     },
     "execution_count": 37,
     "metadata": {},
     "output_type": "execute_result"
    }
   ],
   "source": [
    "_, i = jax.lax.top_k(jnp.abs(weights), 20)\n",
    "weights[i] / jnp.abs(weights).max(), i"
   ]
  },
  {
   "cell_type": "code",
   "execution_count": null,
   "metadata": {},
   "outputs": [],
   "source": [
    "_, i = jax.lax.top_k(jnp.abs(weights), 20)\n",
    "weights[i] / jnp.abs(weights).max(), i"
   ]
  },
  {
   "cell_type": "code",
   "execution_count": null,
   "metadata": {},
   "outputs": [],
   "source": [
    "_, i = jax.lax.top_k(jnp.abs(weights), 20)\n",
    "weights[i] / jnp.abs(weights).max(), i"
   ]
  },
  {
   "cell_type": "code",
   "execution_count": 23,
   "metadata": {},
   "outputs": [],
   "source": [
    "def check_feature(feature: int, task:str, target_layer, sae, print_results=False):\n",
    "    pairs = tasks[task]\n",
    "    pairs = [list(x) for x in pairs.items()]\n",
    "    dataset = ICLDataset(pairs, size=batch_size, n_prepended=0, bidirectional=False, seed=10)\n",
    "\n",
    "\n",
    "    tokenized = tokenizer.batch_encode_plus([prompt.format(x) for x in dataset.prompts], padding=\"longest\", max_length=max_seq_len, truncation=True, return_tensors=\"np\")\n",
    "    inputs = tokenized_to_inputs(\n",
    "        **tokenized\n",
    "    )\n",
    "\n",
    "    target_tokens = [x[1] for x in tokenizer(dataset.completions)[\"input_ids\"]]\n",
    "    target_tokens = jnp.asarray(target_tokens)\n",
    "\n",
    "    # weights, recon = grad_pursuit(tv * 2, sae[\"W_dec\"], k, pos_only=True)\n",
    "\n",
    "    recon = sae[\"W_dec\"][feature] * 20\n",
    "    recon = recon.astype('bfloat16')\n",
    "\n",
    "    act_add = add_vector(\n",
    "        llama, recon, target_layer, scale=1.0, position=\"last\"\n",
    "    )\n",
    "\n",
    "    logits = act_add(inputs).unwrap(\"batch\", \"seq\", \"vocabulary\")\n",
    "\n",
    "    # print(logits[:, -1].mean(axis=-1))\n",
    "\n",
    "    logprobs = jax.nn.log_softmax(logits, axis=-1)\n",
    "    answer_logprobs = logprobs[:, -1]\n",
    "\n",
    "    target_logprobs = jnp.take_along_axis(answer_logprobs, target_tokens[:, None], axis=-1).squeeze()\n",
    "\n",
    "    if print_results:\n",
    "        print(\n",
    "            tokenizer.decode(answer_logprobs.argmax(axis=-1))\n",
    "        )\n",
    "\n",
    "        print(\n",
    "            tokenizer.decode(target_tokens)\n",
    "        )\n",
    "\n",
    "    return (target_logprobs - answer_logprobs.max(axis=-1))"
   ]
  },
  {
   "cell_type": "code",
   "execution_count": 28,
   "metadata": {},
   "outputs": [
    {
     "name": "stdout",
     "output_type": "stream",
     "text": [
      "cand br amb rice trees por bur answer calendar book bread money wind not vac boat be aut kitchen ice less ice ph second bat season math bat vac viol mount bi bus fl food be trees table me time drink product dan so chair sell tennis math season minutes follow business bi winter p amb season pie check product * vac bus price\n",
      "кон зав ско ри дере сви га вопро ка кни х день ок те команди ло г ос ку мо у мо а се ко сез мате ко от с го би авто ф пи г дере сто е да на проду та су сту прода т мате сез ми учи би би з ру ско сез пи реги проду з от авто це\n"
     ]
    },
    {
     "data": {
      "text/html": [
       "<div id=\"output_892dec25992c42559db404b697a75469\"><script> /* penzai.treescope rendering of a Python object (compressed) */ (()=>{ let observer; let lastStep = new Promise((resolve, reject) => { observer = new IntersectionObserver((entries) => { for (const entry of entries) { if (entry.isIntersecting) { resolve(); observer.disconnect(); return; } } }, {rootMargin: \"1000px\"}); }); window.treescope_decompress_enqueue = (encoded, destId) => { const previous = lastStep; const destElt = document.getElementById(destId); lastStep = (async () => { await previous; let blob = new Blob([ Uint8Array.from(atob(encoded), (m) => m.codePointAt(0)) ]); let reader = blob.stream().pipeThrough( new DecompressionStream(\"deflate\") ).pipeThrough( new TextDecoderStream(\"utf-8\") ).getReader(); let parts = []; while (true) { let step = await reader.read(); if (step.done) { break; } parts.push(step.value); } let newElt = document.createElement(\"div\"); newElt.innerHTML = parts.join(\"\"); destElt.parentNode.replaceChild(newElt, destElt); for (let oldScript of newElt.querySelectorAll(\"script\")) { let newScript = document.createElement(\"script\"); newScript.type = oldScript.type; newScript.textContent = oldScript.textContent; oldScript.parentNode.replaceChild(newScript, oldScript); } })(); requestAnimationFrame(() => { observer.observe(destElt); }); } })(); </script><div id=\"compress_html_9aeacff1cf2c413380efe789c887e69a\"><script>window.treescope_decompress_enqueue(\"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\", \"compress_html_9aeacff1cf2c413380efe789c887e69a\");</script><span style=\"color: #aaaaaa; font-family: monospace\">(Loading...)</span></div></div>"
      ],
      "text/plain": [
       "<IPython.core.display.HTML object>"
      ]
     },
     "metadata": {},
     "output_type": "display_data"
    },
    {
     "data": {
      "text/html": [
       "<div id=\"compress_html_3bde0a9cb273424f8e51866a729e1cc0\"><script>window.treescope_decompress_enqueue(\"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\", \"compress_html_3bde0a9cb273424f8e51866a729e1cc0\");</script></div>"
      ],
      "text/plain": [
       "<IPython.core.display.HTML object>"
      ]
     },
     "metadata": {},
     "output_type": "display_data"
    },
    {
     "data": {
      "text/html": [
       "<div id=\"output_dest_892dec25992c42559db404b697a75469\"><script> (()=>{ const output = document.getElementById(\"output_892dec25992c42559db404b697a75469\"); const dest = document.getElementById(\"output_dest_892dec25992c42559db404b697a75469\"); dest.parentNode.replaceChild(output, dest); })(); </script></div>"
      ],
      "text/plain": [
       "# jax.Array bfloat16(64,) ≈-1.3e+01 ±1.9 [≥-1.8e+01, ≤-8.8] nonzero:64\n",
       "  Array([-13.3125, -11.875, -12.5625, -11.3125, -14.0625, -17, -18, -14.25,\n",
       "         -13.375, -11, -14.1875, -12.9375, -12.25, -17.375, -14.5, -14.4375,\n",
       "         -14.625, -12.6875, -12.75, -13.0625, -12.25, -13.0625, -12.0625,\n",
       "         -13.125, -12.75, -14.375, -14.8125, -12.75, -11.0625, -13.375,\n",
       "         -14.625, -10.875, -16.5, -12.9375, -13.0625, -14.625, -14.0625,\n",
       "         -12.9375, -11.5, -10.25, -11.3125, -12.25, -14, -8.75, -16.25,\n",
       "         -11.625, -12, -14.8125, -14.375, -10.375, -13.5, -11.4375, -10.875,\n",
       "         -12, -17.25, -12.5625, -14.375, -11.6875, -13.0625, -12.25, -12.25,\n",
       "         -11.0625, -16.5, -11.5625], dtype=bfloat16)\n"
      ]
     },
     "execution_count": 28,
     "metadata": {},
     "output_type": "execute_result"
    }
   ],
   "source": [
    "check_feature(16245, \"en_ru\", 18, sae, print_results=True)"
   ]
  },
  {
   "cell_type": "code",
   "execution_count": null,
   "metadata": {},
   "outputs": [
    {
     "name": "stdout",
     "output_type": "stream",
     "text": [
      "Feature 10018: -7.5\n",
      "Feature 20311: -2.375\n",
      "Feature 40023: -4.5\n",
      "Feature 5145: -7.21875\n",
      "Feature 45145: -7.09375\n",
      "Feature 2719: -7.09375\n",
      "Feature 15415: -7.28125\n",
      "Feature 24802: -7.15625\n",
      "Feature 20375: -7.125\n",
      "Feature 19505: -7.09375\n",
      "Feature 38618: -7.25\n",
      "Feature 36786: -7.125\n",
      "Feature 47611: -7.03125\n",
      "Feature 31726: -7.28125\n"
     ]
    },
    {
     "ename": "KeyboardInterrupt",
     "evalue": "",
     "output_type": "error",
     "traceback": [
      "\u001b[0;31m---------------------------------------------------------------------------\u001b[0m",
      "\u001b[0;31mKeyboardInterrupt\u001b[0m                         Traceback (most recent call last)",
      "Cell \u001b[0;32mIn[38], line 3\u001b[0m\n\u001b[1;32m      1\u001b[0m \u001b[38;5;28;01mfor\u001b[39;00m feature \u001b[38;5;129;01min\u001b[39;00m i:\n\u001b[1;32m      2\u001b[0m     \u001b[38;5;28mprint\u001b[39m(\n\u001b[0;32m----> 3\u001b[0m         \u001b[38;5;124mf\u001b[39m\u001b[38;5;124m\"\u001b[39m\u001b[38;5;124mFeature \u001b[39m\u001b[38;5;132;01m{\u001b[39;00mfeature\u001b[38;5;132;01m}\u001b[39;00m\u001b[38;5;124m: \u001b[39m\u001b[38;5;132;01m{\u001b[39;00m\u001b[43mcheck_feature\u001b[49m\u001b[43m(\u001b[49m\u001b[43mfeature\u001b[49m\u001b[43m)\u001b[49m\u001b[38;5;132;01m}\u001b[39;00m\u001b[38;5;124m\"\u001b[39m\n\u001b[1;32m      4\u001b[0m     )\n\u001b[1;32m      6\u001b[0m \u001b[38;5;66;03m# get_logprob_diff(logits.unwrap(\"batch\", \"seq\", \"vocabulary\"), target_tokens, print_results=True)\u001b[39;00m\n",
      "Cell \u001b[0;32mIn[25], line 24\u001b[0m, in \u001b[0;36mcheck_feature\u001b[0;34m(feature, print_results)\u001b[0m\n\u001b[1;32m     18\u001b[0m recon \u001b[38;5;241m=\u001b[39m recon\u001b[38;5;241m.\u001b[39mastype(\u001b[38;5;124m'\u001b[39m\u001b[38;5;124mbfloat16\u001b[39m\u001b[38;5;124m'\u001b[39m)\n\u001b[1;32m     20\u001b[0m act_add \u001b[38;5;241m=\u001b[39m add_vector(\n\u001b[1;32m     21\u001b[0m     llama, recon, layer_target, scale\u001b[38;5;241m=\u001b[39m\u001b[38;5;241m1.0\u001b[39m, position\u001b[38;5;241m=\u001b[39m\u001b[38;5;124m\"\u001b[39m\u001b[38;5;124mlast\u001b[39m\u001b[38;5;124m\"\u001b[39m\n\u001b[1;32m     22\u001b[0m )\n\u001b[0;32m---> 24\u001b[0m logits \u001b[38;5;241m=\u001b[39m \u001b[43mact_add\u001b[49m\u001b[43m(\u001b[49m\u001b[43minputs\u001b[49m\u001b[43m)\u001b[49m\u001b[38;5;241m.\u001b[39munwrap(\u001b[38;5;124m\"\u001b[39m\u001b[38;5;124mbatch\u001b[39m\u001b[38;5;124m\"\u001b[39m, \u001b[38;5;124m\"\u001b[39m\u001b[38;5;124mseq\u001b[39m\u001b[38;5;124m\"\u001b[39m, \u001b[38;5;124m\"\u001b[39m\u001b[38;5;124mvocabulary\u001b[39m\u001b[38;5;124m\"\u001b[39m)\n\u001b[1;32m     26\u001b[0m \u001b[38;5;66;03m# print(logits[:, -1].mean(axis=-1))\u001b[39;00m\n\u001b[1;32m     28\u001b[0m logprobs \u001b[38;5;241m=\u001b[39m jax\u001b[38;5;241m.\u001b[39mnn\u001b[38;5;241m.\u001b[39mlog_softmax(logits, axis\u001b[38;5;241m=\u001b[39m\u001b[38;5;241m-\u001b[39m\u001b[38;5;241m1\u001b[39m)\n",
      "File \u001b[0;32m~/.cache/pypoetry/virtualenvs/micrlhf-progress-_SD4q1c9-py3.12/lib/python3.12/site-packages/penzai/core/layer.py:82\u001b[0m, in \u001b[0;36mchecked_layer_call.<locals>.wrapper\u001b[0;34m(self, argument)\u001b[0m\n\u001b[1;32m     80\u001b[0m output_structure \u001b[38;5;241m=\u001b[39m \u001b[38;5;28mself\u001b[39m\u001b[38;5;241m.\u001b[39moutput_structure()\n\u001b[1;32m     81\u001b[0m \u001b[38;5;28;01mwith\u001b[39;00m jax\u001b[38;5;241m.\u001b[39mnamed_scope(\u001b[38;5;28mtype\u001b[39m(\u001b[38;5;28mself\u001b[39m)\u001b[38;5;241m.\u001b[39m\u001b[38;5;18m__name__\u001b[39m):\n\u001b[0;32m---> 82\u001b[0m   result \u001b[38;5;241m=\u001b[39m \u001b[43mfunc\u001b[49m\u001b[43m(\u001b[49m\u001b[38;5;28;43mself\u001b[39;49m\u001b[43m,\u001b[49m\u001b[43m \u001b[49m\u001b[43margument\u001b[49m\u001b[43m)\u001b[49m\n\u001b[1;32m     83\u001b[0m shapecheck\u001b[38;5;241m.\u001b[39mcheck_structure(\n\u001b[1;32m     84\u001b[0m     result,\n\u001b[1;32m     85\u001b[0m     pattern\u001b[38;5;241m=\u001b[39moutput_structure,\n\u001b[0;32m   (...)\u001b[0m\n\u001b[1;32m     90\u001b[0m     ),\n\u001b[1;32m     91\u001b[0m )\n\u001b[1;32m     92\u001b[0m \u001b[38;5;28;01mreturn\u001b[39;00m result\n",
      "File \u001b[0;32m~/micrlhf-progress/micrlhf/llama.py:255\u001b[0m, in \u001b[0;36mLlamaTransformer.__call__\u001b[0;34m(self, inputs)\u001b[0m\n\u001b[1;32m    253\u001b[0m \u001b[38;5;129m@pz\u001b[39m\u001b[38;5;241m.\u001b[39mchecked_layer_call\n\u001b[1;32m    254\u001b[0m \u001b[38;5;28;01mdef\u001b[39;00m \u001b[38;5;21m__call__\u001b[39m(\u001b[38;5;28mself\u001b[39m, inputs: LlamaInputs) \u001b[38;5;241m-\u001b[39m\u001b[38;5;241m>\u001b[39m pz\u001b[38;5;241m.\u001b[39mnx\u001b[38;5;241m.\u001b[39mNamedArray:\n\u001b[0;32m--> 255\u001b[0m     \u001b[38;5;28;01mreturn\u001b[39;00m \u001b[38;5;28;43mself\u001b[39;49m\u001b[38;5;241;43m.\u001b[39;49m\u001b[43mbody\u001b[49m\u001b[43m(\u001b[49m\u001b[43m(\u001b[49m\u001b[43minputs\u001b[49m\u001b[38;5;241;43m.\u001b[39;49m\u001b[43mtokens\u001b[49m\u001b[43m,\u001b[49m\u001b[43m \u001b[49m\u001b[43minputs\u001b[49m\u001b[38;5;241;43m.\u001b[39;49m\u001b[43mpositions\u001b[49m\u001b[43m,\u001b[49m\u001b[43m \u001b[49m\u001b[43minputs\u001b[49m\u001b[38;5;241;43m.\u001b[39;49m\u001b[43mattention_mask\u001b[49m\u001b[43m)\u001b[49m\u001b[43m)\u001b[49m\n",
      "File \u001b[0;32m~/.cache/pypoetry/virtualenvs/micrlhf-progress-_SD4q1c9-py3.12/lib/python3.12/site-packages/penzai/core/layer.py:82\u001b[0m, in \u001b[0;36mchecked_layer_call.<locals>.wrapper\u001b[0;34m(self, argument)\u001b[0m\n\u001b[1;32m     80\u001b[0m output_structure \u001b[38;5;241m=\u001b[39m \u001b[38;5;28mself\u001b[39m\u001b[38;5;241m.\u001b[39moutput_structure()\n\u001b[1;32m     81\u001b[0m \u001b[38;5;28;01mwith\u001b[39;00m jax\u001b[38;5;241m.\u001b[39mnamed_scope(\u001b[38;5;28mtype\u001b[39m(\u001b[38;5;28mself\u001b[39m)\u001b[38;5;241m.\u001b[39m\u001b[38;5;18m__name__\u001b[39m):\n\u001b[0;32m---> 82\u001b[0m   result \u001b[38;5;241m=\u001b[39m \u001b[43mfunc\u001b[49m\u001b[43m(\u001b[49m\u001b[38;5;28;43mself\u001b[39;49m\u001b[43m,\u001b[49m\u001b[43m \u001b[49m\u001b[43margument\u001b[49m\u001b[43m)\u001b[49m\n\u001b[1;32m     83\u001b[0m shapecheck\u001b[38;5;241m.\u001b[39mcheck_structure(\n\u001b[1;32m     84\u001b[0m     result,\n\u001b[1;32m     85\u001b[0m     pattern\u001b[38;5;241m=\u001b[39moutput_structure,\n\u001b[0;32m   (...)\u001b[0m\n\u001b[1;32m     90\u001b[0m     ),\n\u001b[1;32m     91\u001b[0m )\n\u001b[1;32m     92\u001b[0m \u001b[38;5;28;01mreturn\u001b[39;00m result\n",
      "File \u001b[0;32m~/.cache/pypoetry/virtualenvs/micrlhf-progress-_SD4q1c9-py3.12/lib/python3.12/site-packages/penzai/data_effects/side_input.py:146\u001b[0m, in \u001b[0;36mWithSideInputsFromInputTuple.__call__\u001b[0;34m(self, argument)\u001b[0m\n\u001b[1;32m    136\u001b[0m impls \u001b[38;5;241m=\u001b[39m {\n\u001b[1;32m    137\u001b[0m     tag: SideInputEffectImpl(_value\u001b[38;5;241m=\u001b[39mval, _handler_id\u001b[38;5;241m=\u001b[39m\u001b[38;5;28mself\u001b[39m\u001b[38;5;241m.\u001b[39mhandler_id)\n\u001b[1;32m    138\u001b[0m     \u001b[38;5;28;01mfor\u001b[39;00m tag, val \u001b[38;5;129;01min\u001b[39;00m \u001b[38;5;28mzip\u001b[39m(\u001b[38;5;28mself\u001b[39m\u001b[38;5;241m.\u001b[39mside_input_tags, side_inputs)\n\u001b[1;32m    139\u001b[0m }\n\u001b[1;32m    140\u001b[0m handled_body \u001b[38;5;241m=\u001b[39m (\n\u001b[1;32m    141\u001b[0m     selectors\u001b[38;5;241m.\u001b[39mselect(\u001b[38;5;28mself\u001b[39m\u001b[38;5;241m.\u001b[39mbody)\n\u001b[1;32m    142\u001b[0m     \u001b[38;5;241m.\u001b[39mat_instances_of(HandledSideInputRef)\n\u001b[1;32m    143\u001b[0m     \u001b[38;5;241m.\u001b[39mwhere(\u001b[38;5;28;01mlambda\u001b[39;00m ref: ref\u001b[38;5;241m.\u001b[39mhandler_id \u001b[38;5;241m==\u001b[39m \u001b[38;5;28mself\u001b[39m\u001b[38;5;241m.\u001b[39mhandler_id)\n\u001b[1;32m    144\u001b[0m     \u001b[38;5;241m.\u001b[39mapply(\u001b[38;5;28;01mlambda\u001b[39;00m ref: impls[ref\u001b[38;5;241m.\u001b[39mtag])\n\u001b[1;32m    145\u001b[0m )\n\u001b[0;32m--> 146\u001b[0m \u001b[38;5;28;01mreturn\u001b[39;00m \u001b[43mhandled_body\u001b[49m\u001b[43m(\u001b[49m\u001b[43minner_arg\u001b[49m\u001b[43m)\u001b[49m\n",
      "File \u001b[0;32m~/.cache/pypoetry/virtualenvs/micrlhf-progress-_SD4q1c9-py3.12/lib/python3.12/site-packages/penzai/nn/grouping.py:79\u001b[0m, in \u001b[0;36mSequential.__call__\u001b[0;34m(self, value)\u001b[0m\n\u001b[1;32m     77\u001b[0m \u001b[38;5;28;01mfor\u001b[39;00m i, layer \u001b[38;5;129;01min\u001b[39;00m \u001b[38;5;28menumerate\u001b[39m(\u001b[38;5;28mself\u001b[39m\u001b[38;5;241m.\u001b[39msublayers):\n\u001b[1;32m     78\u001b[0m   \u001b[38;5;28;01mwith\u001b[39;00m jax\u001b[38;5;241m.\u001b[39mnamed_scope(\u001b[38;5;124mf\u001b[39m\u001b[38;5;124m\"\u001b[39m\u001b[38;5;132;01m{\u001b[39;00mi\u001b[38;5;132;01m}\u001b[39;00m\u001b[38;5;124m\"\u001b[39m):\n\u001b[0;32m---> 79\u001b[0m     value \u001b[38;5;241m=\u001b[39m \u001b[43mlayer\u001b[49m\u001b[43m(\u001b[49m\u001b[43mvalue\u001b[49m\u001b[43m)\u001b[49m\n\u001b[1;32m     80\u001b[0m \u001b[38;5;28;01mreturn\u001b[39;00m value\n",
      "File \u001b[0;32m~/.cache/pypoetry/virtualenvs/micrlhf-progress-_SD4q1c9-py3.12/lib/python3.12/site-packages/penzai/nn/grouping.py:79\u001b[0m, in \u001b[0;36mSequential.__call__\u001b[0;34m(self, value)\u001b[0m\n\u001b[1;32m     77\u001b[0m \u001b[38;5;28;01mfor\u001b[39;00m i, layer \u001b[38;5;129;01min\u001b[39;00m \u001b[38;5;28menumerate\u001b[39m(\u001b[38;5;28mself\u001b[39m\u001b[38;5;241m.\u001b[39msublayers):\n\u001b[1;32m     78\u001b[0m   \u001b[38;5;28;01mwith\u001b[39;00m jax\u001b[38;5;241m.\u001b[39mnamed_scope(\u001b[38;5;124mf\u001b[39m\u001b[38;5;124m\"\u001b[39m\u001b[38;5;132;01m{\u001b[39;00mi\u001b[38;5;132;01m}\u001b[39;00m\u001b[38;5;124m\"\u001b[39m):\n\u001b[0;32m---> 79\u001b[0m     value \u001b[38;5;241m=\u001b[39m \u001b[43mlayer\u001b[49m\u001b[43m(\u001b[49m\u001b[43mvalue\u001b[49m\u001b[43m)\u001b[49m\n\u001b[1;32m     80\u001b[0m \u001b[38;5;28;01mreturn\u001b[39;00m value\n",
      "File \u001b[0;32m~/.cache/pypoetry/virtualenvs/micrlhf-progress-_SD4q1c9-py3.12/lib/python3.12/site-packages/penzai/nn/grouping.py:79\u001b[0m, in \u001b[0;36mSequential.__call__\u001b[0;34m(self, value)\u001b[0m\n\u001b[1;32m     77\u001b[0m \u001b[38;5;28;01mfor\u001b[39;00m i, layer \u001b[38;5;129;01min\u001b[39;00m \u001b[38;5;28menumerate\u001b[39m(\u001b[38;5;28mself\u001b[39m\u001b[38;5;241m.\u001b[39msublayers):\n\u001b[1;32m     78\u001b[0m   \u001b[38;5;28;01mwith\u001b[39;00m jax\u001b[38;5;241m.\u001b[39mnamed_scope(\u001b[38;5;124mf\u001b[39m\u001b[38;5;124m\"\u001b[39m\u001b[38;5;132;01m{\u001b[39;00mi\u001b[38;5;132;01m}\u001b[39;00m\u001b[38;5;124m\"\u001b[39m):\n\u001b[0;32m---> 79\u001b[0m     value \u001b[38;5;241m=\u001b[39m \u001b[43mlayer\u001b[49m\u001b[43m(\u001b[49m\u001b[43mvalue\u001b[49m\u001b[43m)\u001b[49m\n\u001b[1;32m     80\u001b[0m \u001b[38;5;28;01mreturn\u001b[39;00m value\n",
      "File \u001b[0;32m~/.cache/pypoetry/virtualenvs/micrlhf-progress-_SD4q1c9-py3.12/lib/python3.12/site-packages/penzai/nn/combinators.py:59\u001b[0m, in \u001b[0;36mResidual.__call__\u001b[0;34m(self, value)\u001b[0m\n\u001b[1;32m     50\u001b[0m \u001b[38;5;28;01mdef\u001b[39;00m \u001b[38;5;21m__call__\u001b[39m(\u001b[38;5;28mself\u001b[39m, value: Any) \u001b[38;5;241m-\u001b[39m\u001b[38;5;241m>\u001b[39m Any:\n\u001b[1;32m     51\u001b[0m \u001b[38;5;250m  \u001b[39m\u001b[38;5;124;03m\"\"\"Runs each of the sublayers in sequence, then adds back the original input.\u001b[39;00m\n\u001b[1;32m     52\u001b[0m \n\u001b[1;32m     53\u001b[0m \u001b[38;5;124;03m  Args:\u001b[39;00m\n\u001b[0;32m   (...)\u001b[0m\n\u001b[1;32m     57\u001b[0m \u001b[38;5;124;03m    The sum of the input to the residual block and the output of the child.\u001b[39;00m\n\u001b[1;32m     58\u001b[0m \u001b[38;5;124;03m  \"\"\"\u001b[39;00m\n\u001b[0;32m---> 59\u001b[0m   delta_value \u001b[38;5;241m=\u001b[39m \u001b[38;5;28;43mself\u001b[39;49m\u001b[38;5;241;43m.\u001b[39;49m\u001b[43mdelta\u001b[49m\u001b[43m(\u001b[49m\u001b[43mvalue\u001b[49m\u001b[43m)\u001b[49m\n\u001b[1;32m     60\u001b[0m   \u001b[38;5;28;01mreturn\u001b[39;00m delta_value \u001b[38;5;241m+\u001b[39m value\n",
      "File \u001b[0;32m~/.cache/pypoetry/virtualenvs/micrlhf-progress-_SD4q1c9-py3.12/lib/python3.12/site-packages/penzai/nn/grouping.py:79\u001b[0m, in \u001b[0;36mSequential.__call__\u001b[0;34m(self, value)\u001b[0m\n\u001b[1;32m     77\u001b[0m \u001b[38;5;28;01mfor\u001b[39;00m i, layer \u001b[38;5;129;01min\u001b[39;00m \u001b[38;5;28menumerate\u001b[39m(\u001b[38;5;28mself\u001b[39m\u001b[38;5;241m.\u001b[39msublayers):\n\u001b[1;32m     78\u001b[0m   \u001b[38;5;28;01mwith\u001b[39;00m jax\u001b[38;5;241m.\u001b[39mnamed_scope(\u001b[38;5;124mf\u001b[39m\u001b[38;5;124m\"\u001b[39m\u001b[38;5;132;01m{\u001b[39;00mi\u001b[38;5;132;01m}\u001b[39;00m\u001b[38;5;124m\"\u001b[39m):\n\u001b[0;32m---> 79\u001b[0m     value \u001b[38;5;241m=\u001b[39m \u001b[43mlayer\u001b[49m\u001b[43m(\u001b[49m\u001b[43mvalue\u001b[49m\u001b[43m)\u001b[49m\n\u001b[1;32m     80\u001b[0m \u001b[38;5;28;01mreturn\u001b[39;00m value\n",
      "File \u001b[0;32m~/.cache/pypoetry/virtualenvs/micrlhf-progress-_SD4q1c9-py3.12/lib/python3.12/site-packages/penzai/nn/attention.py:130\u001b[0m, in \u001b[0;36mAttention.__call__\u001b[0;34m(self, x)\u001b[0m\n\u001b[1;32m    120\u001b[0m \u001b[38;5;250m\u001b[39m\u001b[38;5;124;03m\"\"\"Runs the attention computation.\u001b[39;00m\n\u001b[1;32m    121\u001b[0m \n\u001b[1;32m    122\u001b[0m \u001b[38;5;124;03mArgs:\u001b[39;00m\n\u001b[0;32m   (...)\u001b[0m\n\u001b[1;32m    127\u001b[0m \u001b[38;5;124;03m  The final output of the ``attn_value_to_output`` sublayer.\u001b[39;00m\n\u001b[1;32m    128\u001b[0m \u001b[38;5;124;03m\"\"\"\u001b[39;00m\n\u001b[1;32m    129\u001b[0m query \u001b[38;5;241m=\u001b[39m \u001b[38;5;28mself\u001b[39m\u001b[38;5;241m.\u001b[39minput_to_query(x)\n\u001b[0;32m--> 130\u001b[0m key \u001b[38;5;241m=\u001b[39m \u001b[38;5;28;43mself\u001b[39;49m\u001b[38;5;241;43m.\u001b[39;49m\u001b[43minput_to_key\u001b[49m\u001b[43m(\u001b[49m\u001b[43mx\u001b[49m\u001b[43m)\u001b[49m\n\u001b[1;32m    131\u001b[0m value \u001b[38;5;241m=\u001b[39m \u001b[38;5;28mself\u001b[39m\u001b[38;5;241m.\u001b[39minput_to_value(x)\n\u001b[1;32m    132\u001b[0m attn \u001b[38;5;241m=\u001b[39m \u001b[38;5;28mself\u001b[39m\u001b[38;5;241m.\u001b[39mquery_key_to_attn((query, key))\n",
      "File \u001b[0;32m~/.cache/pypoetry/virtualenvs/micrlhf-progress-_SD4q1c9-py3.12/lib/python3.12/site-packages/penzai/nn/grouping.py:79\u001b[0m, in \u001b[0;36mSequential.__call__\u001b[0;34m(self, value)\u001b[0m\n\u001b[1;32m     77\u001b[0m \u001b[38;5;28;01mfor\u001b[39;00m i, layer \u001b[38;5;129;01min\u001b[39;00m \u001b[38;5;28menumerate\u001b[39m(\u001b[38;5;28mself\u001b[39m\u001b[38;5;241m.\u001b[39msublayers):\n\u001b[1;32m     78\u001b[0m   \u001b[38;5;28;01mwith\u001b[39;00m jax\u001b[38;5;241m.\u001b[39mnamed_scope(\u001b[38;5;124mf\u001b[39m\u001b[38;5;124m\"\u001b[39m\u001b[38;5;132;01m{\u001b[39;00mi\u001b[38;5;132;01m}\u001b[39;00m\u001b[38;5;124m\"\u001b[39m):\n\u001b[0;32m---> 79\u001b[0m     value \u001b[38;5;241m=\u001b[39m \u001b[43mlayer\u001b[49m\u001b[43m(\u001b[49m\u001b[43mvalue\u001b[49m\u001b[43m)\u001b[49m\n\u001b[1;32m     80\u001b[0m \u001b[38;5;28;01mreturn\u001b[39;00m value\n",
      "File \u001b[0;32m~/.cache/pypoetry/virtualenvs/micrlhf-progress-_SD4q1c9-py3.12/lib/python3.12/site-packages/penzai/core/layer.py:82\u001b[0m, in \u001b[0;36mchecked_layer_call.<locals>.wrapper\u001b[0;34m(self, argument)\u001b[0m\n\u001b[1;32m     80\u001b[0m output_structure \u001b[38;5;241m=\u001b[39m \u001b[38;5;28mself\u001b[39m\u001b[38;5;241m.\u001b[39moutput_structure()\n\u001b[1;32m     81\u001b[0m \u001b[38;5;28;01mwith\u001b[39;00m jax\u001b[38;5;241m.\u001b[39mnamed_scope(\u001b[38;5;28mtype\u001b[39m(\u001b[38;5;28mself\u001b[39m)\u001b[38;5;241m.\u001b[39m\u001b[38;5;18m__name__\u001b[39m):\n\u001b[0;32m---> 82\u001b[0m   result \u001b[38;5;241m=\u001b[39m \u001b[43mfunc\u001b[49m\u001b[43m(\u001b[49m\u001b[38;5;28;43mself\u001b[39;49m\u001b[43m,\u001b[49m\u001b[43m \u001b[49m\u001b[43margument\u001b[49m\u001b[43m)\u001b[49m\n\u001b[1;32m     83\u001b[0m shapecheck\u001b[38;5;241m.\u001b[39mcheck_structure(\n\u001b[1;32m     84\u001b[0m     result,\n\u001b[1;32m     85\u001b[0m     pattern\u001b[38;5;241m=\u001b[39moutput_structure,\n\u001b[0;32m   (...)\u001b[0m\n\u001b[1;32m     90\u001b[0m     ),\n\u001b[1;32m     91\u001b[0m )\n\u001b[1;32m     92\u001b[0m \u001b[38;5;28;01mreturn\u001b[39;00m result\n",
      "File \u001b[0;32m~/.cache/pypoetry/virtualenvs/micrlhf-progress-_SD4q1c9-py3.12/lib/python3.12/site-packages/penzai/nn/linear_and_affine.py:451\u001b[0m, in \u001b[0;36mLinear.__call__\u001b[0;34m(self, in_array)\u001b[0m\n\u001b[1;32m    448\u001b[0m \u001b[38;5;129m@layer_base\u001b[39m\u001b[38;5;241m.\u001b[39mchecked_layer_call\n\u001b[1;32m    449\u001b[0m \u001b[38;5;28;01mdef\u001b[39;00m \u001b[38;5;21m__call__\u001b[39m(\u001b[38;5;28mself\u001b[39m, in_array: NamedArray) \u001b[38;5;241m-\u001b[39m\u001b[38;5;241m>\u001b[39m NamedArray:\n\u001b[1;32m    450\u001b[0m \u001b[38;5;250m  \u001b[39m\u001b[38;5;124;03m\"\"\"Runs the linear operator.\"\"\"\u001b[39;00m\n\u001b[0;32m--> 451\u001b[0m   \u001b[38;5;28;01mreturn\u001b[39;00m \u001b[43mcontract\u001b[49m\u001b[43m(\u001b[49m\u001b[38;5;28;43mself\u001b[39;49m\u001b[38;5;241;43m.\u001b[39;49m\u001b[43min_axis_names\u001b[49m\u001b[43m,\u001b[49m\u001b[43m \u001b[49m\u001b[43min_array\u001b[49m\u001b[43m,\u001b[49m\u001b[43m \u001b[49m\u001b[38;5;28;43mself\u001b[39;49m\u001b[38;5;241;43m.\u001b[39;49m\u001b[43mweights\u001b[49m\u001b[38;5;241;43m.\u001b[39;49m\u001b[43mvalue\u001b[49m\u001b[43m)\u001b[49m\n",
      "File \u001b[0;32m~/.cache/pypoetry/virtualenvs/micrlhf-progress-_SD4q1c9-py3.12/lib/python3.12/site-packages/penzai/nn/linear_and_affine.py:301\u001b[0m, in \u001b[0;36mcontract\u001b[0;34m(names, left, right)\u001b[0m\n\u001b[1;32m    286\u001b[0m \u001b[38;5;250m\u001b[39m\u001b[38;5;124;03m\"\"\"Contracts two named arrays along the given axis names.\u001b[39;00m\n\u001b[1;32m    287\u001b[0m \n\u001b[1;32m    288\u001b[0m \u001b[38;5;124;03mArgs:\u001b[39;00m\n\u001b[0;32m   (...)\u001b[0m\n\u001b[1;32m    298\u001b[0m \u001b[38;5;124;03m  away.\u001b[39;00m\n\u001b[1;32m    299\u001b[0m \u001b[38;5;124;03m\"\"\"\u001b[39;00m\n\u001b[1;32m    300\u001b[0m names \u001b[38;5;241m=\u001b[39m (names,) \u001b[38;5;28;01mif\u001b[39;00m \u001b[38;5;28misinstance\u001b[39m(names, \u001b[38;5;28mstr\u001b[39m) \u001b[38;5;28;01melse\u001b[39;00m names\n\u001b[0;32m--> 301\u001b[0m \u001b[38;5;28;01mreturn\u001b[39;00m \u001b[43mnamed_axes\u001b[49m\u001b[38;5;241;43m.\u001b[39;49m\u001b[43mnmap\u001b[49m\u001b[43m(\u001b[49m\u001b[43mjnp\u001b[49m\u001b[38;5;241;43m.\u001b[39;49m\u001b[43mtensordot\u001b[49m\u001b[43m)\u001b[49m\u001b[43m(\u001b[49m\n\u001b[1;32m    302\u001b[0m \u001b[43m    \u001b[49m\u001b[43mleft\u001b[49m\u001b[38;5;241;43m.\u001b[39;49m\u001b[43muntag\u001b[49m\u001b[43m(\u001b[49m\u001b[38;5;241;43m*\u001b[39;49m\u001b[43mnames\u001b[49m\u001b[43m)\u001b[49m\u001b[43m,\u001b[49m\u001b[43m \u001b[49m\u001b[43mright\u001b[49m\u001b[38;5;241;43m.\u001b[39;49m\u001b[43muntag\u001b[49m\u001b[43m(\u001b[49m\u001b[38;5;241;43m*\u001b[39;49m\u001b[43mnames\u001b[49m\u001b[43m)\u001b[49m\u001b[43m,\u001b[49m\u001b[43m \u001b[49m\u001b[43maxes\u001b[49m\u001b[38;5;241;43m=\u001b[39;49m\u001b[38;5;28;43mlen\u001b[39;49m\u001b[43m(\u001b[49m\u001b[43mnames\u001b[49m\u001b[43m)\u001b[49m\n\u001b[1;32m    303\u001b[0m \u001b[43m\u001b[49m\u001b[43m)\u001b[49m\n",
      "File \u001b[0;32m~/.cache/pypoetry/virtualenvs/micrlhf-progress-_SD4q1c9-py3.12/lib/python3.12/site-packages/penzai/core/named_axes.py:309\u001b[0m, in \u001b[0;36m_nmap_with_doc.<locals>.wrapped_fun\u001b[0;34m(*args, **kwargs)\u001b[0m\n\u001b[1;32m    298\u001b[0m   \u001b[38;5;28;01mreturn\u001b[39;00m jax\u001b[38;5;241m.\u001b[39mvmap(\n\u001b[1;32m    299\u001b[0m       functools\u001b[38;5;241m.\u001b[39mpartial(\n\u001b[1;32m    300\u001b[0m           recursive_vectorize_step,\n\u001b[0;32m   (...)\u001b[0m\n\u001b[1;32m    305\u001b[0m       axis_name\u001b[38;5;241m=\u001b[39mvmap_name,\n\u001b[1;32m    306\u001b[0m   )(reduced_views)\n\u001b[1;32m    308\u001b[0m \u001b[38;5;66;03m# Run the function.\u001b[39;00m\n\u001b[0;32m--> 309\u001b[0m result_data \u001b[38;5;241m=\u001b[39m \u001b[43mrecursive_vectorize_step\u001b[49m\u001b[43m(\u001b[49m\u001b[43mnamed_array_arg_leaves\u001b[49m\u001b[43m,\u001b[49m\u001b[43m \u001b[49m\u001b[43mall_names\u001b[49m\u001b[43m)\u001b[49m\n\u001b[1;32m    311\u001b[0m \u001b[38;5;66;03m# Wrap all leaves in NamedArray or NamedArrayView, assigning the names from\u001b[39;00m\n\u001b[1;32m    312\u001b[0m \u001b[38;5;66;03m# `all_names` to their mapped-over axes. The mapped-over named axes always\u001b[39;00m\n\u001b[1;32m    313\u001b[0m \u001b[38;5;66;03m# end up at the front, followed by positional axes, so if there are any\u001b[39;00m\n\u001b[1;32m    314\u001b[0m \u001b[38;5;66;03m# positional axes we need to return a NamedArrayView.\u001b[39;00m\n\u001b[1;32m    315\u001b[0m \u001b[38;5;28;01mdef\u001b[39;00m \u001b[38;5;21mhandle_result\u001b[39m(leaf):\n",
      "File \u001b[0;32m~/.cache/pypoetry/virtualenvs/micrlhf-progress-_SD4q1c9-py3.12/lib/python3.12/site-packages/penzai/core/named_axes.py:298\u001b[0m, in \u001b[0;36m_nmap_with_doc.<locals>.wrapped_fun.<locals>.recursive_vectorize_step\u001b[0;34m(current_views, remaining_names)\u001b[0m\n\u001b[1;32m    295\u001b[0m     vmap_axes\u001b[38;5;241m.\u001b[39mappend(\u001b[38;5;28;01mNone\u001b[39;00m)\n\u001b[1;32m    296\u001b[0m     reduced_views\u001b[38;5;241m.\u001b[39mappend(view)\n\u001b[0;32m--> 298\u001b[0m \u001b[38;5;28;01mreturn\u001b[39;00m \u001b[43mjax\u001b[49m\u001b[38;5;241;43m.\u001b[39;49m\u001b[43mvmap\u001b[49m\u001b[43m(\u001b[49m\n\u001b[1;32m    299\u001b[0m \u001b[43m    \u001b[49m\u001b[43mfunctools\u001b[49m\u001b[38;5;241;43m.\u001b[39;49m\u001b[43mpartial\u001b[49m\u001b[43m(\u001b[49m\n\u001b[1;32m    300\u001b[0m \u001b[43m        \u001b[49m\u001b[43mrecursive_vectorize_step\u001b[49m\u001b[43m,\u001b[49m\n\u001b[1;32m    301\u001b[0m \u001b[43m        \u001b[49m\u001b[43mremaining_names\u001b[49m\u001b[38;5;241;43m=\u001b[39;49m\u001b[43mremaining_names\u001b[49m\u001b[43m[\u001b[49m\u001b[38;5;241;43m1\u001b[39;49m\u001b[43m:\u001b[49m\u001b[43m]\u001b[49m\u001b[43m,\u001b[49m\n\u001b[1;32m    302\u001b[0m \u001b[43m    \u001b[49m\u001b[43m)\u001b[49m\u001b[43m,\u001b[49m\n\u001b[1;32m    303\u001b[0m \u001b[43m    \u001b[49m\u001b[43min_axes\u001b[49m\u001b[38;5;241;43m=\u001b[39;49m\u001b[43m(\u001b[49m\u001b[43mvmap_axes\u001b[49m\u001b[43m,\u001b[49m\u001b[43m)\u001b[49m\u001b[43m,\u001b[49m\n\u001b[1;32m    304\u001b[0m \u001b[43m    \u001b[49m\u001b[43mout_axes\u001b[49m\u001b[38;5;241;43m=\u001b[39;49m\u001b[38;5;241;43m0\u001b[39;49m\u001b[43m,\u001b[49m\n\u001b[1;32m    305\u001b[0m \u001b[43m    \u001b[49m\u001b[43maxis_name\u001b[49m\u001b[38;5;241;43m=\u001b[39;49m\u001b[43mvmap_name\u001b[49m\u001b[43m,\u001b[49m\n\u001b[1;32m    306\u001b[0m \u001b[43m\u001b[49m\u001b[43m)\u001b[49m\u001b[43m(\u001b[49m\u001b[43mreduced_views\u001b[49m\u001b[43m)\u001b[49m\n",
      "    \u001b[0;31m[... skipping hidden 1 frame]\u001b[0m\n",
      "File \u001b[0;32m~/.cache/pypoetry/virtualenvs/micrlhf-progress-_SD4q1c9-py3.12/lib/python3.12/site-packages/jax/_src/api.py:1214\u001b[0m, in \u001b[0;36mvmap.<locals>.vmap_f\u001b[0;34m(*args, **kwargs)\u001b[0m\n\u001b[1;32m   1211\u001b[0m in_axes_flat \u001b[38;5;241m=\u001b[39m flatten_axes(\u001b[38;5;124m\"\u001b[39m\u001b[38;5;124mvmap in_axes\u001b[39m\u001b[38;5;124m\"\u001b[39m, in_tree, (in_axes, \u001b[38;5;241m0\u001b[39m), kws\u001b[38;5;241m=\u001b[39m\u001b[38;5;28;01mTrue\u001b[39;00m)\n\u001b[1;32m   1212\u001b[0m axis_size_ \u001b[38;5;241m=\u001b[39m (axis_size \u001b[38;5;28;01mif\u001b[39;00m axis_size \u001b[38;5;129;01mis\u001b[39;00m \u001b[38;5;129;01mnot\u001b[39;00m \u001b[38;5;28;01mNone\u001b[39;00m \u001b[38;5;28;01melse\u001b[39;00m\n\u001b[1;32m   1213\u001b[0m               _mapped_axis_size(fun, in_tree, args_flat, in_axes_flat, \u001b[38;5;124m\"\u001b[39m\u001b[38;5;124mvmap\u001b[39m\u001b[38;5;124m\"\u001b[39m))\n\u001b[0;32m-> 1214\u001b[0m out_flat \u001b[38;5;241m=\u001b[39m \u001b[43mbatching\u001b[49m\u001b[38;5;241;43m.\u001b[39;49m\u001b[43mbatch\u001b[49m\u001b[43m(\u001b[49m\n\u001b[1;32m   1215\u001b[0m \u001b[43m    \u001b[49m\u001b[43mflat_fun\u001b[49m\u001b[43m,\u001b[49m\u001b[43m \u001b[49m\u001b[43maxis_name\u001b[49m\u001b[43m,\u001b[49m\u001b[43m \u001b[49m\u001b[43maxis_size_\u001b[49m\u001b[43m,\u001b[49m\u001b[43m \u001b[49m\u001b[43min_axes_flat\u001b[49m\u001b[43m,\u001b[49m\n\u001b[1;32m   1216\u001b[0m \u001b[43m    \u001b[49m\u001b[38;5;28;43;01mlambda\u001b[39;49;00m\u001b[43m:\u001b[49m\u001b[43m \u001b[49m\u001b[43mflatten_axes\u001b[49m\u001b[43m(\u001b[49m\u001b[38;5;124;43m\"\u001b[39;49m\u001b[38;5;124;43mvmap out_axes\u001b[39;49m\u001b[38;5;124;43m\"\u001b[39;49m\u001b[43m,\u001b[49m\u001b[43m \u001b[49m\u001b[43mout_tree\u001b[49m\u001b[43m(\u001b[49m\u001b[43m)\u001b[49m\u001b[43m,\u001b[49m\u001b[43m \u001b[49m\u001b[43mout_axes\u001b[49m\u001b[43m)\u001b[49m\u001b[43m,\u001b[49m\n\u001b[1;32m   1217\u001b[0m \u001b[43m    \u001b[49m\u001b[43mspmd_axis_name\u001b[49m\u001b[38;5;241;43m=\u001b[39;49m\u001b[43mspmd_axis_name\u001b[49m\n\u001b[1;32m   1218\u001b[0m \u001b[43m\u001b[49m\u001b[43m)\u001b[49m\u001b[38;5;241;43m.\u001b[39;49m\u001b[43mcall_wrapped\u001b[49m\u001b[43m(\u001b[49m\u001b[38;5;241;43m*\u001b[39;49m\u001b[43margs_flat\u001b[49m\u001b[43m)\u001b[49m\n\u001b[1;32m   1219\u001b[0m \u001b[38;5;28;01mreturn\u001b[39;00m tree_unflatten(out_tree(), out_flat)\n",
      "File \u001b[0;32m~/.cache/pypoetry/virtualenvs/micrlhf-progress-_SD4q1c9-py3.12/lib/python3.12/site-packages/jax/_src/linear_util.py:192\u001b[0m, in \u001b[0;36mWrappedFun.call_wrapped\u001b[0;34m(self, *args, **kwargs)\u001b[0m\n\u001b[1;32m    189\u001b[0m gen \u001b[38;5;241m=\u001b[39m gen_static_args \u001b[38;5;241m=\u001b[39m out_store \u001b[38;5;241m=\u001b[39m \u001b[38;5;28;01mNone\u001b[39;00m\n\u001b[1;32m    191\u001b[0m \u001b[38;5;28;01mtry\u001b[39;00m:\n\u001b[0;32m--> 192\u001b[0m   ans \u001b[38;5;241m=\u001b[39m \u001b[38;5;28;43mself\u001b[39;49m\u001b[38;5;241;43m.\u001b[39;49m\u001b[43mf\u001b[49m\u001b[43m(\u001b[49m\u001b[38;5;241;43m*\u001b[39;49m\u001b[43margs\u001b[49m\u001b[43m,\u001b[49m\u001b[43m \u001b[49m\u001b[38;5;241;43m*\u001b[39;49m\u001b[38;5;241;43m*\u001b[39;49m\u001b[38;5;28;43mdict\u001b[39;49m\u001b[43m(\u001b[49m\u001b[38;5;28;43mself\u001b[39;49m\u001b[38;5;241;43m.\u001b[39;49m\u001b[43mparams\u001b[49m\u001b[43m,\u001b[49m\u001b[43m \u001b[49m\u001b[38;5;241;43m*\u001b[39;49m\u001b[38;5;241;43m*\u001b[39;49m\u001b[43mkwargs\u001b[49m\u001b[43m)\u001b[49m\u001b[43m)\u001b[49m\n\u001b[1;32m    193\u001b[0m \u001b[38;5;28;01mexcept\u001b[39;00m:\n\u001b[1;32m    194\u001b[0m   \u001b[38;5;66;03m# Some transformations yield from inside context managers, so we have to\u001b[39;00m\n\u001b[1;32m    195\u001b[0m   \u001b[38;5;66;03m# interrupt them before reraising the exception. Otherwise they will only\u001b[39;00m\n\u001b[1;32m    196\u001b[0m   \u001b[38;5;66;03m# get garbage-collected at some later time, running their cleanup tasks\u001b[39;00m\n\u001b[1;32m    197\u001b[0m   \u001b[38;5;66;03m# only after this exception is handled, which can corrupt the global\u001b[39;00m\n\u001b[1;32m    198\u001b[0m   \u001b[38;5;66;03m# state.\u001b[39;00m\n\u001b[1;32m    199\u001b[0m   \u001b[38;5;28;01mwhile\u001b[39;00m stack:\n",
      "File \u001b[0;32m~/.cache/pypoetry/virtualenvs/micrlhf-progress-_SD4q1c9-py3.12/lib/python3.12/site-packages/penzai/core/named_axes.py:298\u001b[0m, in \u001b[0;36m_nmap_with_doc.<locals>.wrapped_fun.<locals>.recursive_vectorize_step\u001b[0;34m(current_views, remaining_names)\u001b[0m\n\u001b[1;32m    295\u001b[0m     vmap_axes\u001b[38;5;241m.\u001b[39mappend(\u001b[38;5;28;01mNone\u001b[39;00m)\n\u001b[1;32m    296\u001b[0m     reduced_views\u001b[38;5;241m.\u001b[39mappend(view)\n\u001b[0;32m--> 298\u001b[0m \u001b[38;5;28;01mreturn\u001b[39;00m \u001b[43mjax\u001b[49m\u001b[38;5;241;43m.\u001b[39;49m\u001b[43mvmap\u001b[49m\u001b[43m(\u001b[49m\n\u001b[1;32m    299\u001b[0m \u001b[43m    \u001b[49m\u001b[43mfunctools\u001b[49m\u001b[38;5;241;43m.\u001b[39;49m\u001b[43mpartial\u001b[49m\u001b[43m(\u001b[49m\n\u001b[1;32m    300\u001b[0m \u001b[43m        \u001b[49m\u001b[43mrecursive_vectorize_step\u001b[49m\u001b[43m,\u001b[49m\n\u001b[1;32m    301\u001b[0m \u001b[43m        \u001b[49m\u001b[43mremaining_names\u001b[49m\u001b[38;5;241;43m=\u001b[39;49m\u001b[43mremaining_names\u001b[49m\u001b[43m[\u001b[49m\u001b[38;5;241;43m1\u001b[39;49m\u001b[43m:\u001b[49m\u001b[43m]\u001b[49m\u001b[43m,\u001b[49m\n\u001b[1;32m    302\u001b[0m \u001b[43m    \u001b[49m\u001b[43m)\u001b[49m\u001b[43m,\u001b[49m\n\u001b[1;32m    303\u001b[0m \u001b[43m    \u001b[49m\u001b[43min_axes\u001b[49m\u001b[38;5;241;43m=\u001b[39;49m\u001b[43m(\u001b[49m\u001b[43mvmap_axes\u001b[49m\u001b[43m,\u001b[49m\u001b[43m)\u001b[49m\u001b[43m,\u001b[49m\n\u001b[1;32m    304\u001b[0m \u001b[43m    \u001b[49m\u001b[43mout_axes\u001b[49m\u001b[38;5;241;43m=\u001b[39;49m\u001b[38;5;241;43m0\u001b[39;49m\u001b[43m,\u001b[49m\n\u001b[1;32m    305\u001b[0m \u001b[43m    \u001b[49m\u001b[43maxis_name\u001b[49m\u001b[38;5;241;43m=\u001b[39;49m\u001b[43mvmap_name\u001b[49m\u001b[43m,\u001b[49m\n\u001b[1;32m    306\u001b[0m \u001b[43m\u001b[49m\u001b[43m)\u001b[49m\u001b[43m(\u001b[49m\u001b[43mreduced_views\u001b[49m\u001b[43m)\u001b[49m\n",
      "    \u001b[0;31m[... skipping hidden 1 frame]\u001b[0m\n",
      "File \u001b[0;32m~/.cache/pypoetry/virtualenvs/micrlhf-progress-_SD4q1c9-py3.12/lib/python3.12/site-packages/jax/_src/api.py:1214\u001b[0m, in \u001b[0;36mvmap.<locals>.vmap_f\u001b[0;34m(*args, **kwargs)\u001b[0m\n\u001b[1;32m   1211\u001b[0m in_axes_flat \u001b[38;5;241m=\u001b[39m flatten_axes(\u001b[38;5;124m\"\u001b[39m\u001b[38;5;124mvmap in_axes\u001b[39m\u001b[38;5;124m\"\u001b[39m, in_tree, (in_axes, \u001b[38;5;241m0\u001b[39m), kws\u001b[38;5;241m=\u001b[39m\u001b[38;5;28;01mTrue\u001b[39;00m)\n\u001b[1;32m   1212\u001b[0m axis_size_ \u001b[38;5;241m=\u001b[39m (axis_size \u001b[38;5;28;01mif\u001b[39;00m axis_size \u001b[38;5;129;01mis\u001b[39;00m \u001b[38;5;129;01mnot\u001b[39;00m \u001b[38;5;28;01mNone\u001b[39;00m \u001b[38;5;28;01melse\u001b[39;00m\n\u001b[1;32m   1213\u001b[0m               _mapped_axis_size(fun, in_tree, args_flat, in_axes_flat, \u001b[38;5;124m\"\u001b[39m\u001b[38;5;124mvmap\u001b[39m\u001b[38;5;124m\"\u001b[39m))\n\u001b[0;32m-> 1214\u001b[0m out_flat \u001b[38;5;241m=\u001b[39m \u001b[43mbatching\u001b[49m\u001b[38;5;241;43m.\u001b[39;49m\u001b[43mbatch\u001b[49m\u001b[43m(\u001b[49m\n\u001b[1;32m   1215\u001b[0m \u001b[43m    \u001b[49m\u001b[43mflat_fun\u001b[49m\u001b[43m,\u001b[49m\u001b[43m \u001b[49m\u001b[43maxis_name\u001b[49m\u001b[43m,\u001b[49m\u001b[43m \u001b[49m\u001b[43maxis_size_\u001b[49m\u001b[43m,\u001b[49m\u001b[43m \u001b[49m\u001b[43min_axes_flat\u001b[49m\u001b[43m,\u001b[49m\n\u001b[1;32m   1216\u001b[0m \u001b[43m    \u001b[49m\u001b[38;5;28;43;01mlambda\u001b[39;49;00m\u001b[43m:\u001b[49m\u001b[43m \u001b[49m\u001b[43mflatten_axes\u001b[49m\u001b[43m(\u001b[49m\u001b[38;5;124;43m\"\u001b[39;49m\u001b[38;5;124;43mvmap out_axes\u001b[39;49m\u001b[38;5;124;43m\"\u001b[39;49m\u001b[43m,\u001b[49m\u001b[43m \u001b[49m\u001b[43mout_tree\u001b[49m\u001b[43m(\u001b[49m\u001b[43m)\u001b[49m\u001b[43m,\u001b[49m\u001b[43m \u001b[49m\u001b[43mout_axes\u001b[49m\u001b[43m)\u001b[49m\u001b[43m,\u001b[49m\n\u001b[1;32m   1217\u001b[0m \u001b[43m    \u001b[49m\u001b[43mspmd_axis_name\u001b[49m\u001b[38;5;241;43m=\u001b[39;49m\u001b[43mspmd_axis_name\u001b[49m\n\u001b[1;32m   1218\u001b[0m \u001b[43m\u001b[49m\u001b[43m)\u001b[49m\u001b[38;5;241;43m.\u001b[39;49m\u001b[43mcall_wrapped\u001b[49m\u001b[43m(\u001b[49m\u001b[38;5;241;43m*\u001b[39;49m\u001b[43margs_flat\u001b[49m\u001b[43m)\u001b[49m\n\u001b[1;32m   1219\u001b[0m \u001b[38;5;28;01mreturn\u001b[39;00m tree_unflatten(out_tree(), out_flat)\n",
      "File \u001b[0;32m~/.cache/pypoetry/virtualenvs/micrlhf-progress-_SD4q1c9-py3.12/lib/python3.12/site-packages/jax/_src/linear_util.py:192\u001b[0m, in \u001b[0;36mWrappedFun.call_wrapped\u001b[0;34m(self, *args, **kwargs)\u001b[0m\n\u001b[1;32m    189\u001b[0m gen \u001b[38;5;241m=\u001b[39m gen_static_args \u001b[38;5;241m=\u001b[39m out_store \u001b[38;5;241m=\u001b[39m \u001b[38;5;28;01mNone\u001b[39;00m\n\u001b[1;32m    191\u001b[0m \u001b[38;5;28;01mtry\u001b[39;00m:\n\u001b[0;32m--> 192\u001b[0m   ans \u001b[38;5;241m=\u001b[39m \u001b[38;5;28;43mself\u001b[39;49m\u001b[38;5;241;43m.\u001b[39;49m\u001b[43mf\u001b[49m\u001b[43m(\u001b[49m\u001b[38;5;241;43m*\u001b[39;49m\u001b[43margs\u001b[49m\u001b[43m,\u001b[49m\u001b[43m \u001b[49m\u001b[38;5;241;43m*\u001b[39;49m\u001b[38;5;241;43m*\u001b[39;49m\u001b[38;5;28;43mdict\u001b[39;49m\u001b[43m(\u001b[49m\u001b[38;5;28;43mself\u001b[39;49m\u001b[38;5;241;43m.\u001b[39;49m\u001b[43mparams\u001b[49m\u001b[43m,\u001b[49m\u001b[43m \u001b[49m\u001b[38;5;241;43m*\u001b[39;49m\u001b[38;5;241;43m*\u001b[39;49m\u001b[43mkwargs\u001b[49m\u001b[43m)\u001b[49m\u001b[43m)\u001b[49m\n\u001b[1;32m    193\u001b[0m \u001b[38;5;28;01mexcept\u001b[39;00m:\n\u001b[1;32m    194\u001b[0m   \u001b[38;5;66;03m# Some transformations yield from inside context managers, so we have to\u001b[39;00m\n\u001b[1;32m    195\u001b[0m   \u001b[38;5;66;03m# interrupt them before reraising the exception. Otherwise they will only\u001b[39;00m\n\u001b[1;32m    196\u001b[0m   \u001b[38;5;66;03m# get garbage-collected at some later time, running their cleanup tasks\u001b[39;00m\n\u001b[1;32m    197\u001b[0m   \u001b[38;5;66;03m# only after this exception is handled, which can corrupt the global\u001b[39;00m\n\u001b[1;32m    198\u001b[0m   \u001b[38;5;66;03m# state.\u001b[39;00m\n\u001b[1;32m    199\u001b[0m   \u001b[38;5;28;01mwhile\u001b[39;00m stack:\n",
      "File \u001b[0;32m~/.cache/pypoetry/virtualenvs/micrlhf-progress-_SD4q1c9-py3.12/lib/python3.12/site-packages/penzai/core/named_axes.py:298\u001b[0m, in \u001b[0;36m_nmap_with_doc.<locals>.wrapped_fun.<locals>.recursive_vectorize_step\u001b[0;34m(current_views, remaining_names)\u001b[0m\n\u001b[1;32m    295\u001b[0m     vmap_axes\u001b[38;5;241m.\u001b[39mappend(\u001b[38;5;28;01mNone\u001b[39;00m)\n\u001b[1;32m    296\u001b[0m     reduced_views\u001b[38;5;241m.\u001b[39mappend(view)\n\u001b[0;32m--> 298\u001b[0m \u001b[38;5;28;01mreturn\u001b[39;00m \u001b[43mjax\u001b[49m\u001b[38;5;241;43m.\u001b[39;49m\u001b[43mvmap\u001b[49m\u001b[43m(\u001b[49m\n\u001b[1;32m    299\u001b[0m \u001b[43m    \u001b[49m\u001b[43mfunctools\u001b[49m\u001b[38;5;241;43m.\u001b[39;49m\u001b[43mpartial\u001b[49m\u001b[43m(\u001b[49m\n\u001b[1;32m    300\u001b[0m \u001b[43m        \u001b[49m\u001b[43mrecursive_vectorize_step\u001b[49m\u001b[43m,\u001b[49m\n\u001b[1;32m    301\u001b[0m \u001b[43m        \u001b[49m\u001b[43mremaining_names\u001b[49m\u001b[38;5;241;43m=\u001b[39;49m\u001b[43mremaining_names\u001b[49m\u001b[43m[\u001b[49m\u001b[38;5;241;43m1\u001b[39;49m\u001b[43m:\u001b[49m\u001b[43m]\u001b[49m\u001b[43m,\u001b[49m\n\u001b[1;32m    302\u001b[0m \u001b[43m    \u001b[49m\u001b[43m)\u001b[49m\u001b[43m,\u001b[49m\n\u001b[1;32m    303\u001b[0m \u001b[43m    \u001b[49m\u001b[43min_axes\u001b[49m\u001b[38;5;241;43m=\u001b[39;49m\u001b[43m(\u001b[49m\u001b[43mvmap_axes\u001b[49m\u001b[43m,\u001b[49m\u001b[43m)\u001b[49m\u001b[43m,\u001b[49m\n\u001b[1;32m    304\u001b[0m \u001b[43m    \u001b[49m\u001b[43mout_axes\u001b[49m\u001b[38;5;241;43m=\u001b[39;49m\u001b[38;5;241;43m0\u001b[39;49m\u001b[43m,\u001b[49m\n\u001b[1;32m    305\u001b[0m \u001b[43m    \u001b[49m\u001b[43maxis_name\u001b[49m\u001b[38;5;241;43m=\u001b[39;49m\u001b[43mvmap_name\u001b[49m\u001b[43m,\u001b[49m\n\u001b[1;32m    306\u001b[0m \u001b[43m\u001b[49m\u001b[43m)\u001b[49m\u001b[43m(\u001b[49m\u001b[43mreduced_views\u001b[49m\u001b[43m)\u001b[49m\n",
      "    \u001b[0;31m[... skipping hidden 1 frame]\u001b[0m\n",
      "File \u001b[0;32m~/.cache/pypoetry/virtualenvs/micrlhf-progress-_SD4q1c9-py3.12/lib/python3.12/site-packages/jax/_src/api.py:1214\u001b[0m, in \u001b[0;36mvmap.<locals>.vmap_f\u001b[0;34m(*args, **kwargs)\u001b[0m\n\u001b[1;32m   1211\u001b[0m in_axes_flat \u001b[38;5;241m=\u001b[39m flatten_axes(\u001b[38;5;124m\"\u001b[39m\u001b[38;5;124mvmap in_axes\u001b[39m\u001b[38;5;124m\"\u001b[39m, in_tree, (in_axes, \u001b[38;5;241m0\u001b[39m), kws\u001b[38;5;241m=\u001b[39m\u001b[38;5;28;01mTrue\u001b[39;00m)\n\u001b[1;32m   1212\u001b[0m axis_size_ \u001b[38;5;241m=\u001b[39m (axis_size \u001b[38;5;28;01mif\u001b[39;00m axis_size \u001b[38;5;129;01mis\u001b[39;00m \u001b[38;5;129;01mnot\u001b[39;00m \u001b[38;5;28;01mNone\u001b[39;00m \u001b[38;5;28;01melse\u001b[39;00m\n\u001b[1;32m   1213\u001b[0m               _mapped_axis_size(fun, in_tree, args_flat, in_axes_flat, \u001b[38;5;124m\"\u001b[39m\u001b[38;5;124mvmap\u001b[39m\u001b[38;5;124m\"\u001b[39m))\n\u001b[0;32m-> 1214\u001b[0m out_flat \u001b[38;5;241m=\u001b[39m \u001b[43mbatching\u001b[49m\u001b[38;5;241;43m.\u001b[39;49m\u001b[43mbatch\u001b[49m\u001b[43m(\u001b[49m\n\u001b[1;32m   1215\u001b[0m \u001b[43m    \u001b[49m\u001b[43mflat_fun\u001b[49m\u001b[43m,\u001b[49m\u001b[43m \u001b[49m\u001b[43maxis_name\u001b[49m\u001b[43m,\u001b[49m\u001b[43m \u001b[49m\u001b[43maxis_size_\u001b[49m\u001b[43m,\u001b[49m\u001b[43m \u001b[49m\u001b[43min_axes_flat\u001b[49m\u001b[43m,\u001b[49m\n\u001b[1;32m   1216\u001b[0m \u001b[43m    \u001b[49m\u001b[38;5;28;43;01mlambda\u001b[39;49;00m\u001b[43m:\u001b[49m\u001b[43m \u001b[49m\u001b[43mflatten_axes\u001b[49m\u001b[43m(\u001b[49m\u001b[38;5;124;43m\"\u001b[39;49m\u001b[38;5;124;43mvmap out_axes\u001b[39;49m\u001b[38;5;124;43m\"\u001b[39;49m\u001b[43m,\u001b[49m\u001b[43m \u001b[49m\u001b[43mout_tree\u001b[49m\u001b[43m(\u001b[49m\u001b[43m)\u001b[49m\u001b[43m,\u001b[49m\u001b[43m \u001b[49m\u001b[43mout_axes\u001b[49m\u001b[43m)\u001b[49m\u001b[43m,\u001b[49m\n\u001b[1;32m   1217\u001b[0m \u001b[43m    \u001b[49m\u001b[43mspmd_axis_name\u001b[49m\u001b[38;5;241;43m=\u001b[39;49m\u001b[43mspmd_axis_name\u001b[49m\n\u001b[1;32m   1218\u001b[0m \u001b[43m\u001b[49m\u001b[43m)\u001b[49m\u001b[38;5;241;43m.\u001b[39;49m\u001b[43mcall_wrapped\u001b[49m\u001b[43m(\u001b[49m\u001b[38;5;241;43m*\u001b[39;49m\u001b[43margs_flat\u001b[49m\u001b[43m)\u001b[49m\n\u001b[1;32m   1219\u001b[0m \u001b[38;5;28;01mreturn\u001b[39;00m tree_unflatten(out_tree(), out_flat)\n",
      "File \u001b[0;32m~/.cache/pypoetry/virtualenvs/micrlhf-progress-_SD4q1c9-py3.12/lib/python3.12/site-packages/jax/_src/linear_util.py:207\u001b[0m, in \u001b[0;36mWrappedFun.call_wrapped\u001b[0;34m(self, *args, **kwargs)\u001b[0m\n\u001b[1;32m    205\u001b[0m gen, out_store \u001b[38;5;241m=\u001b[39m stack\u001b[38;5;241m.\u001b[39mpop()\n\u001b[1;32m    206\u001b[0m \u001b[38;5;28;01mtry\u001b[39;00m:\n\u001b[0;32m--> 207\u001b[0m   ans \u001b[38;5;241m=\u001b[39m \u001b[43mgen\u001b[49m\u001b[38;5;241;43m.\u001b[39;49m\u001b[43msend\u001b[49m\u001b[43m(\u001b[49m\u001b[43mans\u001b[49m\u001b[43m)\u001b[49m\n\u001b[1;32m    208\u001b[0m \u001b[38;5;28;01mexcept\u001b[39;00m:\n\u001b[1;32m    209\u001b[0m   \u001b[38;5;66;03m# As above does for the first half of the transformation, exceptions\u001b[39;00m\n\u001b[1;32m    210\u001b[0m   \u001b[38;5;66;03m# raised in the second half of the transformation also require us to\u001b[39;00m\n\u001b[1;32m    211\u001b[0m   \u001b[38;5;66;03m# clean up references here.\u001b[39;00m\n\u001b[1;32m    212\u001b[0m   \u001b[38;5;28;01mwhile\u001b[39;00m stack:\n",
      "File \u001b[0;32m~/.cache/pypoetry/virtualenvs/micrlhf-progress-_SD4q1c9-py3.12/lib/python3.12/site-packages/jax/_src/interpreters/batching.py:638\u001b[0m, in \u001b[0;36m_batch_inner\u001b[0;34m(axis_size, out_dim_dests, main, in_dims, *in_vals)\u001b[0m\n\u001b[1;32m    636\u001b[0m outs \u001b[38;5;241m=\u001b[39m \u001b[38;5;28;01myield\u001b[39;00m in_tracers, {}\n\u001b[1;32m    637\u001b[0m out_dim_dests \u001b[38;5;241m=\u001b[39m out_dim_dests() \u001b[38;5;28;01mif\u001b[39;00m \u001b[38;5;28mcallable\u001b[39m(out_dim_dests) \u001b[38;5;28;01melse\u001b[39;00m out_dim_dests\n\u001b[0;32m--> 638\u001b[0m out_vals \u001b[38;5;241m=\u001b[39m \u001b[38;5;28;43mmap\u001b[39;49m\u001b[43m(\u001b[49m\u001b[43mpartial\u001b[49m\u001b[43m(\u001b[49m\u001b[43mfrom_elt\u001b[49m\u001b[43m,\u001b[49m\u001b[43m \u001b[49m\u001b[43mtrace\u001b[49m\u001b[43m,\u001b[49m\u001b[43m \u001b[49m\u001b[43maxis_size\u001b[49m\u001b[43m)\u001b[49m\u001b[43m,\u001b[49m\u001b[43m \u001b[49m\u001b[43mouts\u001b[49m\u001b[43m,\u001b[49m\u001b[43m \u001b[49m\u001b[43mout_dim_dests\u001b[49m\u001b[43m)\u001b[49m\n\u001b[1;32m    639\u001b[0m \u001b[38;5;28;01myield\u001b[39;00m out_vals\n",
      "File \u001b[0;32m~/.cache/pypoetry/virtualenvs/micrlhf-progress-_SD4q1c9-py3.12/lib/python3.12/site-packages/jax/_src/interpreters/batching.py:270\u001b[0m, in \u001b[0;36mfrom_elt\u001b[0;34m(trace, axis_size, x, spec)\u001b[0m\n\u001b[1;32m    268\u001b[0m   \u001b[38;5;28;01mreturn\u001b[39;00m _jumble_result(axis_size, bdim\u001b[38;5;241m.\u001b[39mstacked_axis, bdim\u001b[38;5;241m.\u001b[39mragged_axes, val)\n\u001b[1;32m    269\u001b[0m \u001b[38;5;28;01melse\u001b[39;00m:\n\u001b[0;32m--> 270\u001b[0m   \u001b[38;5;28;01mreturn\u001b[39;00m \u001b[43mmatchaxis\u001b[49m\u001b[43m(\u001b[49m\u001b[43mtrace\u001b[49m\u001b[38;5;241;43m.\u001b[39;49m\u001b[43maxis_name\u001b[49m\u001b[43m,\u001b[49m\u001b[43m \u001b[49m\u001b[43maxis_size\u001b[49m\u001b[43m,\u001b[49m\u001b[43m \u001b[49m\u001b[43mx_\u001b[49m\u001b[38;5;241;43m.\u001b[39;49m\u001b[43mbatch_dim\u001b[49m\u001b[43m,\u001b[49m\u001b[43m \u001b[49m\u001b[43mspec\u001b[49m\u001b[43m,\u001b[49m\u001b[43m \u001b[49m\u001b[43mx_\u001b[49m\u001b[38;5;241;43m.\u001b[39;49m\u001b[43mval\u001b[49m\u001b[43m)\u001b[49m\n",
      "File \u001b[0;32m~/.cache/pypoetry/virtualenvs/micrlhf-progress-_SD4q1c9-py3.12/lib/python3.12/site-packages/jax/_src/interpreters/batching.py:1105\u001b[0m, in \u001b[0;36mmatchaxis\u001b[0;34m(axis_name, sz, src, dst, x, sum_match)\u001b[0m\n\u001b[1;32m   1103\u001b[0m   \u001b[38;5;28;01mreturn\u001b[39;00m Jumble(aval, x)\n\u001b[1;32m   1104\u001b[0m \u001b[38;5;28;01mtry\u001b[39;00m:\n\u001b[0;32m-> 1105\u001b[0m   _ \u001b[38;5;241m=\u001b[39m \u001b[43mcore\u001b[49m\u001b[38;5;241;43m.\u001b[39;49m\u001b[43mget_aval\u001b[49m\u001b[43m(\u001b[49m\u001b[43mx\u001b[49m\u001b[43m)\u001b[49m\n\u001b[1;32m   1106\u001b[0m \u001b[38;5;28;01mexcept\u001b[39;00m \u001b[38;5;167;01mTypeError\u001b[39;00m \u001b[38;5;28;01mas\u001b[39;00m e:\n\u001b[1;32m   1107\u001b[0m   \u001b[38;5;28;01mraise\u001b[39;00m \u001b[38;5;167;01mTypeError\u001b[39;00m(\u001b[38;5;124mf\u001b[39m\u001b[38;5;124m\"\u001b[39m\u001b[38;5;124mOutput from batched function \u001b[39m\u001b[38;5;132;01m{\u001b[39;00mx\u001b[38;5;132;01m!r}\u001b[39;00m\u001b[38;5;124m with type \u001b[39m\u001b[38;5;124m\"\u001b[39m\n\u001b[1;32m   1108\u001b[0m                   \u001b[38;5;124mf\u001b[39m\u001b[38;5;124m\"\u001b[39m\u001b[38;5;132;01m{\u001b[39;00m\u001b[38;5;28mtype\u001b[39m(x)\u001b[38;5;132;01m}\u001b[39;00m\u001b[38;5;124m is not a valid JAX type\u001b[39m\u001b[38;5;124m\"\u001b[39m) \u001b[38;5;28;01mfrom\u001b[39;00m \u001b[38;5;21;01me\u001b[39;00m\n",
      "File \u001b[0;32m~/.cache/pypoetry/virtualenvs/micrlhf-progress-_SD4q1c9-py3.12/lib/python3.12/site-packages/jax/_src/core.py:1461\u001b[0m, in \u001b[0;36mget_aval\u001b[0;34m(x)\u001b[0m\n\u001b[1;32m   1459\u001b[0m \u001b[38;5;28;01mdef\u001b[39;00m \u001b[38;5;21mget_aval\u001b[39m(x):\n\u001b[1;32m   1460\u001b[0m   \u001b[38;5;28;01mif\u001b[39;00m \u001b[38;5;28misinstance\u001b[39m(x, Tracer):\n\u001b[0;32m-> 1461\u001b[0m     \u001b[38;5;28;01mreturn\u001b[39;00m \u001b[43mx\u001b[49m\u001b[38;5;241;43m.\u001b[39;49m\u001b[43maval\u001b[49m\n\u001b[1;32m   1462\u001b[0m   \u001b[38;5;28;01melse\u001b[39;00m:\n\u001b[1;32m   1463\u001b[0m     \u001b[38;5;28;01mreturn\u001b[39;00m concrete_aval(x)\n",
      "File \u001b[0;32m~/.cache/pypoetry/virtualenvs/micrlhf-progress-_SD4q1c9-py3.12/lib/python3.12/site-packages/jax/_src/interpreters/batching.py:333\u001b[0m, in \u001b[0;36mBatchTracer.aval\u001b[0;34m(self)\u001b[0m\n\u001b[1;32m    331\u001b[0m \u001b[38;5;129m@property\u001b[39m\n\u001b[1;32m    332\u001b[0m \u001b[38;5;28;01mdef\u001b[39;00m \u001b[38;5;21maval\u001b[39m(\u001b[38;5;28mself\u001b[39m):\n\u001b[0;32m--> 333\u001b[0m   aval \u001b[38;5;241m=\u001b[39m raise_to_shaped(\u001b[43mcore\u001b[49m\u001b[38;5;241;43m.\u001b[39;49m\u001b[43mget_aval\u001b[49m\u001b[43m(\u001b[49m\u001b[38;5;28;43mself\u001b[39;49m\u001b[38;5;241;43m.\u001b[39;49m\u001b[43mval\u001b[49m\u001b[43m)\u001b[49m)\n\u001b[1;32m    334\u001b[0m   \u001b[38;5;28;01mif\u001b[39;00m \u001b[38;5;28mself\u001b[39m\u001b[38;5;241m.\u001b[39mbatch_dim \u001b[38;5;129;01mis\u001b[39;00m not_mapped:\n\u001b[1;32m    335\u001b[0m     \u001b[38;5;28;01mreturn\u001b[39;00m aval\n",
      "File \u001b[0;32m~/.cache/pypoetry/virtualenvs/micrlhf-progress-_SD4q1c9-py3.12/lib/python3.12/site-packages/jax/_src/core.py:1461\u001b[0m, in \u001b[0;36mget_aval\u001b[0;34m(x)\u001b[0m\n\u001b[1;32m   1459\u001b[0m \u001b[38;5;28;01mdef\u001b[39;00m \u001b[38;5;21mget_aval\u001b[39m(x):\n\u001b[1;32m   1460\u001b[0m   \u001b[38;5;28;01mif\u001b[39;00m \u001b[38;5;28misinstance\u001b[39m(x, Tracer):\n\u001b[0;32m-> 1461\u001b[0m     \u001b[38;5;28;01mreturn\u001b[39;00m \u001b[43mx\u001b[49m\u001b[38;5;241;43m.\u001b[39;49m\u001b[43maval\u001b[49m\n\u001b[1;32m   1462\u001b[0m   \u001b[38;5;28;01melse\u001b[39;00m:\n\u001b[1;32m   1463\u001b[0m     \u001b[38;5;28;01mreturn\u001b[39;00m concrete_aval(x)\n",
      "File \u001b[0;32m~/.cache/pypoetry/virtualenvs/micrlhf-progress-_SD4q1c9-py3.12/lib/python3.12/site-packages/jax/_src/interpreters/batching.py:333\u001b[0m, in \u001b[0;36mBatchTracer.aval\u001b[0;34m(self)\u001b[0m\n\u001b[1;32m    331\u001b[0m \u001b[38;5;129m@property\u001b[39m\n\u001b[1;32m    332\u001b[0m \u001b[38;5;28;01mdef\u001b[39;00m \u001b[38;5;21maval\u001b[39m(\u001b[38;5;28mself\u001b[39m):\n\u001b[0;32m--> 333\u001b[0m   aval \u001b[38;5;241m=\u001b[39m raise_to_shaped(\u001b[43mcore\u001b[49m\u001b[38;5;241;43m.\u001b[39;49m\u001b[43mget_aval\u001b[49m\u001b[43m(\u001b[49m\u001b[38;5;28;43mself\u001b[39;49m\u001b[38;5;241;43m.\u001b[39;49m\u001b[43mval\u001b[49m\u001b[43m)\u001b[49m)\n\u001b[1;32m    334\u001b[0m   \u001b[38;5;28;01mif\u001b[39;00m \u001b[38;5;28mself\u001b[39m\u001b[38;5;241m.\u001b[39mbatch_dim \u001b[38;5;129;01mis\u001b[39;00m not_mapped:\n\u001b[1;32m    335\u001b[0m     \u001b[38;5;28;01mreturn\u001b[39;00m aval\n",
      "File \u001b[0;32m~/.cache/pypoetry/virtualenvs/micrlhf-progress-_SD4q1c9-py3.12/lib/python3.12/site-packages/jax/_src/core.py:1463\u001b[0m, in \u001b[0;36mget_aval\u001b[0;34m(x)\u001b[0m\n\u001b[1;32m   1461\u001b[0m   \u001b[38;5;28;01mreturn\u001b[39;00m x\u001b[38;5;241m.\u001b[39maval\n\u001b[1;32m   1462\u001b[0m \u001b[38;5;28;01melse\u001b[39;00m:\n\u001b[0;32m-> 1463\u001b[0m   \u001b[38;5;28;01mreturn\u001b[39;00m \u001b[43mconcrete_aval\u001b[49m\u001b[43m(\u001b[49m\u001b[43mx\u001b[49m\u001b[43m)\u001b[49m\n",
      "File \u001b[0;32m~/.cache/pypoetry/virtualenvs/micrlhf-progress-_SD4q1c9-py3.12/lib/python3.12/site-packages/jax/_src/core.py:1452\u001b[0m, in \u001b[0;36mconcrete_aval\u001b[0;34m(x)\u001b[0m\n\u001b[1;32m   1450\u001b[0m \u001b[38;5;28;01mfor\u001b[39;00m typ \u001b[38;5;129;01min\u001b[39;00m \u001b[38;5;28mtype\u001b[39m(x)\u001b[38;5;241m.\u001b[39m\u001b[38;5;18m__mro__\u001b[39m:\n\u001b[1;32m   1451\u001b[0m   handler \u001b[38;5;241m=\u001b[39m pytype_aval_mappings\u001b[38;5;241m.\u001b[39mget(typ)\n\u001b[0;32m-> 1452\u001b[0m   \u001b[38;5;28;01mif\u001b[39;00m handler: \u001b[38;5;28;01mreturn\u001b[39;00m \u001b[43mhandler\u001b[49m\u001b[43m(\u001b[49m\u001b[43mx\u001b[49m\u001b[43m)\u001b[49m\n\u001b[1;32m   1453\u001b[0m \u001b[38;5;28;01mif\u001b[39;00m \u001b[38;5;28mhasattr\u001b[39m(x, \u001b[38;5;124m'\u001b[39m\u001b[38;5;124m__jax_array__\u001b[39m\u001b[38;5;124m'\u001b[39m):\n\u001b[1;32m   1454\u001b[0m   \u001b[38;5;28;01mreturn\u001b[39;00m concrete_aval(x\u001b[38;5;241m.\u001b[39m__jax_array__())\n",
      "File \u001b[0;32m~/.cache/pypoetry/virtualenvs/micrlhf-progress-_SD4q1c9-py3.12/lib/python3.12/site-packages/jax/_src/abstract_arrays.py:46\u001b[0m, in \u001b[0;36mcanonical_concrete_aval\u001b[0;34m(val, weak_type)\u001b[0m\n\u001b[1;32m     45\u001b[0m \u001b[38;5;28;01mdef\u001b[39;00m \u001b[38;5;21mcanonical_concrete_aval\u001b[39m(val, weak_type\u001b[38;5;241m=\u001b[39m\u001b[38;5;28;01mNone\u001b[39;00m):\n\u001b[0;32m---> 46\u001b[0m   \u001b[38;5;28;01mreturn\u001b[39;00m \u001b[43mConcreteArray\u001b[49m\u001b[43m(\u001b[49m\u001b[43mdtypes\u001b[49m\u001b[38;5;241;43m.\u001b[39;49m\u001b[43mcanonicalize_dtype\u001b[49m\u001b[43m(\u001b[49m\u001b[43mnp\u001b[49m\u001b[38;5;241;43m.\u001b[39;49m\u001b[43mresult_type\u001b[49m\u001b[43m(\u001b[49m\u001b[43mval\u001b[49m\u001b[43m)\u001b[49m\u001b[43m)\u001b[49m\u001b[43m,\u001b[49m\u001b[43m \u001b[49m\u001b[43mval\u001b[49m\u001b[43m,\u001b[49m\n\u001b[1;32m     47\u001b[0m \u001b[43m                       \u001b[49m\u001b[43mweak_type\u001b[49m\u001b[38;5;241;43m=\u001b[39;49m\u001b[43mweak_type\u001b[49m\u001b[43m)\u001b[49m\n",
      "File \u001b[0;32m~/.cache/pypoetry/virtualenvs/micrlhf-progress-_SD4q1c9-py3.12/lib/python3.12/site-packages/jax/_src/core.py:1766\u001b[0m, in \u001b[0;36mConcreteArray.__init__\u001b[0;34m(self, dtype, val, weak_type)\u001b[0m\n\u001b[1;32m   1765\u001b[0m \u001b[38;5;28;01mdef\u001b[39;00m \u001b[38;5;21m__init__\u001b[39m(\u001b[38;5;28mself\u001b[39m, dtype, val, weak_type\u001b[38;5;241m=\u001b[39m\u001b[38;5;28;01mNone\u001b[39;00m):\n\u001b[0;32m-> 1766\u001b[0m   \u001b[38;5;28;43msuper\u001b[39;49m\u001b[43m(\u001b[49m\u001b[43m)\u001b[49m\u001b[38;5;241;43m.\u001b[39;49m\u001b[38;5;21;43m__init__\u001b[39;49m\u001b[43m(\u001b[49m\n\u001b[1;32m   1767\u001b[0m \u001b[43m      \u001b[49m\u001b[43mnp\u001b[49m\u001b[38;5;241;43m.\u001b[39;49m\u001b[43mshape\u001b[49m\u001b[43m(\u001b[49m\u001b[43mval\u001b[49m\u001b[43m)\u001b[49m\u001b[43m,\u001b[49m\u001b[43m \u001b[49m\u001b[43mdtype\u001b[49m\u001b[43m,\u001b[49m\n\u001b[1;32m   1768\u001b[0m \u001b[43m      \u001b[49m\u001b[43mweak_type\u001b[49m\u001b[38;5;241;43m=\u001b[39;49m\u001b[43mdtypes\u001b[49m\u001b[38;5;241;43m.\u001b[39;49m\u001b[43mis_weakly_typed\u001b[49m\u001b[43m(\u001b[49m\u001b[43mval\u001b[49m\u001b[43m)\u001b[49m\u001b[43m \u001b[49m\u001b[38;5;28;43;01mif\u001b[39;49;00m\u001b[43m \u001b[49m\u001b[43mweak_type\u001b[49m\u001b[43m \u001b[49m\u001b[38;5;129;43;01mis\u001b[39;49;00m\u001b[43m \u001b[49m\u001b[38;5;28;43;01mNone\u001b[39;49;00m\u001b[43m \u001b[49m\u001b[38;5;28;43;01melse\u001b[39;49;00m\u001b[43m \u001b[49m\u001b[43mweak_type\u001b[49m\u001b[43m)\u001b[49m\n\u001b[1;32m   1769\u001b[0m   dtypes\u001b[38;5;241m.\u001b[39mcheck_valid_dtype(\u001b[38;5;28mself\u001b[39m\u001b[38;5;241m.\u001b[39mdtype)\n\u001b[1;32m   1770\u001b[0m   \u001b[38;5;66;03m# Note: canonicalized self.dtype doesn't necessarily match self.val\u001b[39;00m\n",
      "File \u001b[0;32m~/.cache/pypoetry/virtualenvs/micrlhf-progress-_SD4q1c9-py3.12/lib/python3.12/site-packages/jax/_src/core.py:1686\u001b[0m, in \u001b[0;36mShapedArray.__init__\u001b[0;34m(self, shape, dtype, weak_type, named_shape)\u001b[0m\n\u001b[1;32m   1684\u001b[0m \u001b[38;5;28;01mdef\u001b[39;00m \u001b[38;5;21m__init__\u001b[39m(\u001b[38;5;28mself\u001b[39m, shape, dtype, weak_type\u001b[38;5;241m=\u001b[39m\u001b[38;5;28;01mFalse\u001b[39;00m, named_shape\u001b[38;5;241m=\u001b[39m\u001b[38;5;28;01mNone\u001b[39;00m):\n\u001b[1;32m   1685\u001b[0m   \u001b[38;5;28mself\u001b[39m\u001b[38;5;241m.\u001b[39mshape \u001b[38;5;241m=\u001b[39m canonicalize_shape(shape)\n\u001b[0;32m-> 1686\u001b[0m   \u001b[38;5;28mself\u001b[39m\u001b[38;5;241m.\u001b[39mdtype \u001b[38;5;241m=\u001b[39m \u001b[43m_dtype_object\u001b[49m\u001b[43m(\u001b[49m\u001b[43mdtype\u001b[49m\u001b[43m)\u001b[49m\n\u001b[1;32m   1687\u001b[0m   \u001b[38;5;28mself\u001b[39m\u001b[38;5;241m.\u001b[39mweak_type \u001b[38;5;241m=\u001b[39m weak_type\n\u001b[1;32m   1688\u001b[0m   \u001b[38;5;28mself\u001b[39m\u001b[38;5;241m.\u001b[39mnamed_shape \u001b[38;5;241m=\u001b[39m {} \u001b[38;5;28;01mif\u001b[39;00m named_shape \u001b[38;5;129;01mis\u001b[39;00m \u001b[38;5;28;01mNone\u001b[39;00m \u001b[38;5;28;01melse\u001b[39;00m \u001b[38;5;28mdict\u001b[39m(named_shape)\n",
      "File \u001b[0;32m~/.cache/pypoetry/virtualenvs/micrlhf-progress-_SD4q1c9-py3.12/lib/python3.12/site-packages/jax/_src/core.py:1546\u001b[0m, in \u001b[0;36m_dtype_object\u001b[0;34m(dtype)\u001b[0m\n\u001b[1;32m   1545\u001b[0m \u001b[38;5;28;01mdef\u001b[39;00m \u001b[38;5;21m_dtype_object\u001b[39m(dtype):\n\u001b[0;32m-> 1546\u001b[0m   \u001b[38;5;28;01mreturn\u001b[39;00m dtype \u001b[38;5;28;01mif\u001b[39;00m \u001b[38;5;28misinstance\u001b[39m(dtype, dtypes\u001b[38;5;241m.\u001b[39mExtendedDType) \u001b[38;5;28;01melse\u001b[39;00m \u001b[43mnp\u001b[49m\u001b[38;5;241;43m.\u001b[39;49m\u001b[43mdtype\u001b[49m\u001b[43m(\u001b[49m\u001b[43mdtype\u001b[49m\u001b[43m)\u001b[49m\n",
      "\u001b[0;31mKeyboardInterrupt\u001b[0m: "
     ]
    }
   ],
   "source": [
    "for feature in i:\n",
    "    print(\n",
    "        f\"Feature {feature}: {check_feature(feature)}\"\n",
    "    )\n",
    "\n",
    "# get_logprob_diff(logits.unwrap(\"batch\", \"seq\", \"vocabulary\"), target_tokens, print_results=True)"
   ]
  },
  {
   "cell_type": "code",
   "execution_count": null,
   "metadata": {},
   "outputs": [
    {
     "name": "stdout",
     "output_type": "stream",
     "text": [
      "message reduce behavior place se hello cel media club live line throw sport es door shape daughter run pu\n",
      " bottom mind mat polit year moment cut hour has sit comment drop un government d wait phone anticip south arm sport material place picture shape papel no en < choice viel fine arrived ii f third pu hang u er must just hello fig\n",
      "mess rid comport lu sic infer cell media club abit punto get sport così porta col fig corr bel reg super m question polit dec momento tag ora aver sed comment g gi governo pap asp tele asp sud es sport mater lu f col cart no met rela sc pi bene arriv io cin ter bel append fu dire do app infer figura\n"
     ]
    },
    {
     "data": {
      "text/html": [
       "<div id=\"output_e7803525148242829a6c0d14503788af\"><script> /* penzai.treescope rendering of a Python object (compressed) */ (()=>{ let observer; let lastStep = new Promise((resolve, reject) => { observer = new IntersectionObserver((entries) => { for (const entry of entries) { if (entry.isIntersecting) { resolve(); observer.disconnect(); return; } } }, {rootMargin: \"1000px\"}); }); window.treescope_decompress_enqueue = (encoded, destId) => { const previous = lastStep; const destElt = document.getElementById(destId); lastStep = (async () => { await previous; let blob = new Blob([ Uint8Array.from(atob(encoded), (m) => m.codePointAt(0)) ]); let reader = blob.stream().pipeThrough( new DecompressionStream(\"deflate\") ).pipeThrough( new TextDecoderStream(\"utf-8\") ).getReader(); let parts = []; while (true) { let step = await reader.read(); if (step.done) { break; } parts.push(step.value); } let newElt = document.createElement(\"div\"); newElt.innerHTML = parts.join(\"\"); destElt.parentNode.replaceChild(newElt, destElt); for (let oldScript of newElt.querySelectorAll(\"script\")) { let newScript = document.createElement(\"script\"); newScript.type = oldScript.type; newScript.textContent = oldScript.textContent; oldScript.parentNode.replaceChild(newScript, oldScript); } })(); requestAnimationFrame(() => { observer.observe(destElt); }); } })(); </script><div id=\"compress_html_84432b68a38446f880b55f7599bbab72\"><script>window.treescope_decompress_enqueue(\"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\", \"compress_html_84432b68a38446f880b55f7599bbab72\");</script><span style=\"color: #aaaaaa; font-family: monospace\">(Loading...)</span></div></div>"
      ],
      "text/plain": [
       "<IPython.core.display.HTML object>"
      ]
     },
     "metadata": {},
     "output_type": "display_data"
    },
    {
     "data": {
      "text/html": [
       "<div id=\"compress_html_db3150ee31ef4a31a8395584ee9a5b47\"><script>window.treescope_decompress_enqueue(\"eNrtWFtv2zYU/iuEgjVSG6tW4rtjA1u6AX3pwzBgD0UhUCJlcaFJjaJzadH/vkNSlizbcdwsTTFgCWBb4rmfj+cc8pKwG1Tqe05nHmFlwfH9BAkpqIcYmXmZVDGhGVWKkjiKMnKRDfv94Zj2hgOSDAf9QdTv4mGWZv3uyJtflgUW8GnkzcNEai2XnAk6EVL7YSY5wQmnsZCETnJc+nOOE8rn7ZVYy8WCO55JmtP0mpIgQK8D9AUVmBAmFh0tiwnqhlGfLqfIaOjklC1yPUFRaN99DVPJwXicJIreAKd9nKCTwegcd7sNQSqXSyp0fJtTEdM7sJ9Q8mz2rrVi+9doFatlQtUGQXc8ivqDhqDUCvzclHAR9aN+TQDpMG43BAnH6fUUJfC5UHIlSKdauMHK73QSLtNr9yoAKqkIVS6KUXGHSskZOUTpUvkY8VcU5vcFVWDZdazoUmoa5/IGHN02etdMec3T3B/1fjJp7fVR1B07ibe4jMtUSc6BXcswY6rUsWbp9dFSx70wMnK7YxRdDMLhXsE2fwfVBTsKtcKiZJpJMdlRjqISUVzSDhMdudJnKJNCd24tTLfWTFbzNI9h96Q05jTTG1A3jwbr/TRv0ykrqSFUbgPUlAyQLDQYm+aMPx+k6yphcz9FS6wW4IYzM8U89c/THHUMVFyc23YoKr6bKRVYnSkEIEuJRewJ7Zp/E5S/V5gLvKRxoWjG7kCITUvJPlMTupGrHaXGRk9tcZ13pwHNUZvkxYPbDXtp7sL7iK0vE2xXE6xVeytDq25bPwCmPEevkR+BO5ssldwSqGgQBHUMGtbO8bxrvev6ZTlrkeu3ner1C0azqcA2gh2FCVuVlYMRXYJ3DztmLf13RjwK8S+tJuHya/bSEU3iMPHXECR+l6GgSfKhucA2elunocUWm8A2Y48NrVaUlqksoMZKqcOaOF6CJeiABCaMTtddDBFY+yjhMcoelFOZfPnWjVx2/kIpx2U589pmVsPZetZrZQXGC5KMen083Yc3COjUa4tupQaxMnZdUgrbGIHYpfCSiWKlkYaZYObZpCXyztsrpMovsL61TG19zVShYedS7SGCNe5c0/sC63zmbZnX6tIV2lC7wXrHxKpa3OoZ3ryg4jNmTeZg7xRgSQnjToY5N5NACCmxs7D7+iD172vphXHab69fvq0itqH31EhNVoBpcYqkuOIwg8xOG6U5jKoQPUMVp2bR1zkrg1MXG/N65vkcLxOCkYHWxH4GXgOBmnCCTvdQnk5RRYMFIBC7Oef0ChiQiTv8rkf+tjeb0dsuNKhdaLwD1DukEmYcJjCH4bJQs2+CSNji3QeYaub25q9O7s6H05+Vwvd+px+OL4b9M0QsipOMS6yjQeBo2m6f7UIKBHNclJR4c7QvOK1Th/cC6W+H4XgwbPE9HRpHAuXh1MOx9ImJZ2Rv2t1ZzJuPe73BoHs+GozG0aj3X04tI09JLHD9wLTa7fXExBreQx3q+RvSgbsD7yAMTvZiZafD/IXv1h3E1qEDbeIQ0Lyds9fBdW/+fAnYvH6Bksr11C4gVziNf9Yx9/hqoacHIPQDt5Lx7CmbyfI913Y6dqttxens/1geFbbWuNhcWqKtqxZvHnxbJlpT+6Pbo94SD88cu7tk/UXYDchPQY+e+36AZnP0JZWihFpnt+57UqIZ+ugdf5f7aer4TSqA9RYqhbzdGHlBaNw+uviIyHRlCqJZ/JVT8/OX+/fEr2342P1kTq9OcqbwwpCA9JoxVRRr+q56/K2i8Gseo+eKw6EHmNb8IS5gICdXpoL5FjmpofgARdzXamXPy5lUyOdUIwaM3Sl8XTaRCTkVCw3nf/bmjTlPGjq3uKnlQZ/YJ1BgeEq5Uil9x242PdpiszfqHnqDtvjdYwjDFQfA/cl07tfi3B1kJcW6CQzNqrlovaG+vRVwR8gNIXXAzHJgiAAzDidrvOykloq/V3RF31VY+YMuQZ6mpR/UvP8ApyyQvw==\", \"compress_html_db3150ee31ef4a31a8395584ee9a5b47\");</script></div>"
      ],
      "text/plain": [
       "<IPython.core.display.HTML object>"
      ]
     },
     "metadata": {},
     "output_type": "display_data"
    },
    {
     "data": {
      "text/html": [
       "<div id=\"output_dest_e7803525148242829a6c0d14503788af\"><script> (()=>{ const output = document.getElementById(\"output_e7803525148242829a6c0d14503788af\"); const dest = document.getElementById(\"output_dest_e7803525148242829a6c0d14503788af\"); dest.parentNode.replaceChild(output, dest); })(); </script></div>"
      ],
      "text/plain": [
       "<jax.Array(-5.9375, dtype=bfloat16)>"
      ]
     },
     "execution_count": 27,
     "metadata": {},
     "output_type": "execute_result"
    }
   ],
   "source": [
    "check_feature(764, True)"
   ]
  },
  {
   "cell_type": "code",
   "execution_count": 20,
   "metadata": {},
   "outputs": [],
   "source": [
    "class FeatureSearch:\n",
    "    def __init__(self, task, target_layer, early_stopping_steps=50, iterations=2000, seed=9, l1_coeff=1e-2, lr=3e-2, init_w=0.1, sae_v=6):\n",
    "        self.task = task\n",
    "        self.target_layer = target_layer\n",
    "        self.sae = get_sae(target_layer, sae_v)\n",
    "        self.seed = seed\n",
    "        self.early_stopping_steps = early_stopping_steps\n",
    "        self.iterations = iterations\n",
    "        self.l1_coeff = l1_coeff\n",
    "        self.lr = lr\n",
    "        self.init_w = init_w\n",
    "\n",
    "        pairs = tasks[task]\n",
    "        pairs = [list(x) for x in pairs.items()]\n",
    "        \n",
    "        self.train_dataset = ICLDataset(pairs, size=batch_size, n_prepended=0, bidirectional=False, seed=self.seed)\n",
    "        self.eval_dataset = ICLDataset(pairs, size=batch_size, n_prepended=0, bidirectional=False, seed=self.seed+1)\n",
    "\n",
    "        self.eval_inputs = self.prepare_inputs(self.eval_dataset)\n",
    "        self.train_inputs = self.prepare_inputs(self.train_dataset)\n",
    "\n",
    "        self.initial_resids = self.get_initial_resids(self.train_inputs[0])\n",
    "\n",
    "        self.lwg = jax.value_and_grad(self.get_loss, has_aux=True)\n",
    "        self.taker = self.make_taker()\n",
    "    \n",
    "    def get_initial_resids(self, inputs):\n",
    "        get_resids_initial = make_get_resids(llama, self.target_layer)\n",
    "        get_resids_initial = jittify(get_resids_initial)\n",
    "\n",
    "        initial_resids = get_resids_initial(inputs)\n",
    "        return initial_resids\n",
    "\n",
    "    def make_taker(self):\n",
    "        taker = jit_wrapper.Jitted(llama.select().at_instances_of(LlamaBlock).apply_with_selected_index(\n",
    "            lambda i, x: x if i >= self.target_layer else pz.nn.Identity()\n",
    "        ).select().at_instances_of(pz.nn.EmbeddingLookup).apply(lambda _: pz.nn.Identity())\n",
    "                        .select().at_instances_of(pz.nn.ConstantRescale).pick_nth_selected(0).apply(lambda _: pz.nn.Identity()))\n",
    "\n",
    "        return taker\n",
    "\n",
    "    def prepare_inputs(self, dataset: ICLDataset):\n",
    "        tokenized = tokenizer.batch_encode_plus([prompt.format(x) for x in dataset.prompts], padding=\"longest\", max_length=max_seq_len, truncation=True, return_tensors=\"np\")\n",
    "        inputs = tokenized_to_inputs(\n",
    "            **tokenized\n",
    "        )\n",
    "\n",
    "        target_tokens = [x[1] for x in tokenizer(dataset.completions)[\"input_ids\"]]\n",
    "        target_tokens = jnp.asarray(target_tokens)\n",
    "\n",
    "        return inputs, target_tokens        \n",
    "    \n",
    "    def get_loss(self, weights):\n",
    "        weights = jax.nn.relu(weights)\n",
    "\n",
    "        recon = jnp.einsum(\"fv,f->v\", self.sae[\"W_dec\"], weights)\n",
    "        recon = recon.astype('bfloat16')\n",
    "\n",
    "        modified = pz.nx.nmap(lambda a, b: a.at[-1].add(b))(\n",
    "            self.initial_resids.untag(\"seq\", \"embedding\"), pz.nx.wrap(recon, \"embedding\").untag(\"embedding\")\n",
    "            ).tag(\"seq\", \"embedding\")\n",
    "\n",
    "        inputs = dataclasses.replace(self.train_inputs[0], tokens=modified)\n",
    "\n",
    "        logits = self.taker(inputs).unwrap(\"batch\", \"seq\", \"vocabulary\")\n",
    "\n",
    "        logprob_diff = get_logprob_diff(logits, self.eval_inputs[1])\n",
    "        loss = -logprob_diff.mean()\n",
    "\n",
    "        return loss + self.l1_coeff * jnp.linalg.norm(weights, ord=1), (int((weights != 0).sum()), loss)\n",
    "\n",
    "    def train_step(self, weights, opt_state, optimizer):\n",
    "        (loss, (l0, loss_)), grad = self.lwg(weights)\n",
    "\n",
    "        updates, opt_state = optimizer.update(grad, opt_state, weights)\n",
    "        weights = optax.apply_updates(weights, updates)\n",
    "\n",
    "        return loss, weights, opt_state, dict(l0=l0, loss=loss_)\n",
    "\n",
    "    def create_optimizer(self):\n",
    "        optimizer = optax.chain(\n",
    "            optax.adam(self.lr),\n",
    "            optax.zero_nans(),\n",
    "        )\n",
    "\n",
    "        return optimizer\n",
    "\n",
    "    def find_weights(self):\n",
    "        weights = jnp.ones(self.sae[\"W_dec\"].shape[0]) * self.init_w\n",
    "        optimizer = self.create_optimizer()\n",
    "        opt_state = optimizer.init(weights)\n",
    "\n",
    "        min_loss = 1e9\n",
    "        early_stopping_counter = 0\n",
    "\n",
    "        for _ in (bar := trange(self.iterations)):\n",
    "            loss, weights, opt_state, metrics = self.train_step(weights, opt_state, optimizer)\n",
    "\n",
    "            if metrics[\"loss\"] < min_loss:\n",
    "                min_loss = metrics[\"loss\"]\n",
    "                early_stopping_counter = 0\n",
    "\n",
    "            tk = jax.lax.top_k(weights, 2)\n",
    "\n",
    "            bar.set_postfix(loss_optim=loss, **metrics, top=tk[1][0], top_diff=(tk[0][0] - tk[0][1]) / tk[0][0])\n",
    "\n",
    "            early_stopping_counter += 1\n",
    "            if early_stopping_counter > self.early_stopping_steps:\n",
    "                break\n",
    "\n",
    "        return weights, metrics\n",
    "    \n",
    "    def check_feature(self, feature, scale):\n",
    "        steering_vector = self.sae[\"W_dec\"][feature] * scale\n",
    "        steering_vector =  steering_vector.astype('bfloat16')\n",
    "\n",
    "        act_add = add_vector(\n",
    "            llama, steering_vector, self.target_layer, scale=1.0, position=\"last\"\n",
    "        )\n",
    "\n",
    "        logits = act_add(self.eval_inputs[0]).unwrap(\"batch\", \"seq\", \"vocabulary\")\n",
    "\n",
    "\n",
    "        logprobs = jax.nn.log_softmax(logits, axis=-1)\n",
    "        answer_logprobs = logprobs[:, -1]\n",
    "\n",
    "        target_logprobs = jnp.take_along_axis(answer_logprobs, self.eval_inputs[1][:, None], axis=-1).squeeze()\n",
    "\n",
    "        return (target_logprobs - answer_logprobs.max(axis=-1)).mean()\n",
    "\n",
    "    def check_features(self, features, scale):\n",
    "        losses = jnp.hstack([self.check_feature(feature, scale) for feature in tqdm(features)])\n",
    "\n",
    "        return features[losses.argmax()], losses.max(), losses.mean(), losses\n",
    "\n",
    "    "
   ]
  },
  {
   "cell_type": "code",
   "execution_count": 17,
   "metadata": {},
   "outputs": [],
   "source": [
    "info = \"\"\"algo_max 18 0\n",
    "algo_min 17 0\n",
    "algo_last 18 -0.0116577\n",
    "algo_first 18 0\n",
    "algo_sum 20 0\n",
    "algo_most_common 18 -0.00585938\n",
    "\"\"\""
   ]
  },
  {
   "cell_type": "code",
   "execution_count": 18,
   "metadata": {},
   "outputs": [
    {
     "data": {
      "text/html": [
       "<div id=\"output_3869186cf1384b2fa75ab8dd10f1c2fa\"><script> /* penzai.treescope rendering of a Python object (compressed) */ (()=>{ let observer; let lastStep = new Promise((resolve, reject) => { observer = new IntersectionObserver((entries) => { for (const entry of entries) { if (entry.isIntersecting) { resolve(); observer.disconnect(); return; } } }, {rootMargin: \"1000px\"}); }); window.treescope_decompress_enqueue = (encoded, destId) => { const previous = lastStep; const destElt = document.getElementById(destId); lastStep = (async () => { await previous; let blob = new Blob([ Uint8Array.from(atob(encoded), (m) => m.codePointAt(0)) ]); let reader = blob.stream().pipeThrough( new DecompressionStream(\"deflate\") ).pipeThrough( new TextDecoderStream(\"utf-8\") ).getReader(); let parts = []; while (true) { let step = await reader.read(); if (step.done) { break; } parts.push(step.value); } let newElt = document.createElement(\"div\"); newElt.innerHTML = parts.join(\"\"); destElt.parentNode.replaceChild(newElt, destElt); for (let oldScript of newElt.querySelectorAll(\"script\")) { let newScript = document.createElement(\"script\"); newScript.type = oldScript.type; newScript.textContent = oldScript.textContent; oldScript.parentNode.replaceChild(newScript, oldScript); } })(); requestAnimationFrame(() => { observer.observe(destElt); }); } })(); </script><div id=\"compress_html_35088362c55a4ab0aa1efde9681d7110\"><script>window.treescope_decompress_enqueue(\"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\", \"compress_html_35088362c55a4ab0aa1efde9681d7110\");</script><span style=\"color: #aaaaaa; font-family: monospace\">(Loading...)</span></div></div>"
      ],
      "text/plain": [
       "<IPython.core.display.HTML object>"
      ]
     },
     "metadata": {},
     "output_type": "display_data"
    },
    {
     "data": {
      "text/html": [
       "<div id=\"output_dest_3869186cf1384b2fa75ab8dd10f1c2fa\"><script> (()=>{ const output = document.getElementById(\"output_3869186cf1384b2fa75ab8dd10f1c2fa\"); const dest = document.getElementById(\"output_dest_3869186cf1384b2fa75ab8dd10f1c2fa\"); dest.parentNode.replaceChild(output, dest); })(); </script></div>"
      ],
      "text/plain": [
       "[('algo_max', 18),\n",
       " ('algo_min', 17),\n",
       " ('algo_last', 18),\n",
       " ('algo_first', 18),\n",
       " ('algo_sum', 20),\n",
       " ('algo_most_common', 18)]"
      ]
     },
     "execution_count": 18,
     "metadata": {},
     "output_type": "execute_result"
    }
   ],
   "source": [
    "tasks_to_check = [x.split()[:2] for x in info.split(\"\\n\") if x]\n",
    "tasks_to_check = [(x[0], int(x[1])) for x in tasks_to_check]\n",
    "# tasks_to_check = [\n",
    "#     (\"en_es\", 18),\n",
    "#     (\"en_it\", 18),\n",
    "#     (\"en_fr\", 18),\n",
    "#     (\"en_de\", 18),\n",
    "#     (\"en_ru\", 18)\n",
    "# ]\n",
    "tasks_to_check"
   ]
  },
  {
   "cell_type": "code",
   "execution_count": 21,
   "metadata": {},
   "outputs": [
    {
     "data": {
      "application/vnd.jupyter.widget-view+json": {
       "model_id": "7378c2c05fc14797a6ed0f9e29e57d1f",
       "version_major": 2,
       "version_minor": 0
      },
      "text/plain": [
       "  0%|          | 0/6 [00:00<?, ?it/s]"
      ]
     },
     "metadata": {},
     "output_type": "display_data"
    },
    {
     "name": "stderr",
     "output_type": "stream",
     "text": [
      "--2024-05-22 14:56:19--  https://huggingface.co/nev/phi-3-4k-saex-test/resolve/main/l18-test-run-6-1.01E-05/sae_weights.safetensors?download=true\n",
      "Resolving huggingface.co (huggingface.co)... 108.156.211.125, 108.156.211.51, 108.156.211.95, ...\n",
      "Connecting to huggingface.co (huggingface.co)|108.156.211.125|:443... connected.\n",
      "HTTP request sent, awaiting response... 302 Found\n",
      "Location: https://cdn-lfs-us-1.huggingface.co/repos/eb/d8/ebd889d6ac58573e8e8a7aa1176d4d357581a6da60135b94aca378fddf4e9e54/f057cb46f3d871ba03c66e707e3b3d8299322f36fa433862dc3fdca956715614?response-content-disposition=attachment%3B+filename*%3DUTF-8%27%27sae_weights.safetensors%3B+filename%3D%22sae_weights.safetensors%22%3B&Expires=1716648979&Policy=eyJTdGF0ZW1lbnQiOlt7IkNvbmRpdGlvbiI6eyJEYXRlTGVzc1RoYW4iOnsiQVdTOkVwb2NoVGltZSI6MTcxNjY0ODk3OX19LCJSZXNvdXJjZSI6Imh0dHBzOi8vY2RuLWxmcy11cy0xLmh1Z2dpbmdmYWNlLmNvL3JlcG9zL2ViL2Q4L2ViZDg4OWQ2YWM1ODU3M2U4ZThhN2FhMTE3NmQ0ZDM1NzU4MWE2ZGE2MDEzNWI5NGFjYTM3OGZkZGY0ZTllNTQvZjA1N2NiNDZmM2Q4NzFiYTAzYzY2ZTcwN2UzYjNkODI5OTMyMmYzNmZhNDMzODYyZGMzZmRjYTk1NjcxNTYxND9yZXNwb25zZS1jb250ZW50LWRpc3Bvc2l0aW9uPSoifV19&Signature=BOB4WHx6qWSHnzU10d9DIswfOuTgjFYgNKckFu%7EA9%7EdKjK6cYobcWdR3FDSEowlF5ApaOoiY10N%7E3XpuS1bbIxRudmIWDMHMib16ps6H6unwOv6wopyEOYerUjyHD7Kq-yaG6IAOoReesjIbQa3eMounELEbvVT%7E34MKqSuDwl2mq6Q4nq9qZmmMMUVrgYtcRNJoW8bBhYv6biJ6QF9CKsMYO8kHZYA6y4qngtcmsd9B6YbfDtkgj6uI%7EfOzh1rkb1xMpEd-XER67i4l3c-dC7gAjy8-g2Aa64IUMA-Ii7Fzqw697kKXmgZcJegVz9OR21cFd33hpvZZktkrW-5mLg__&Key-Pair-Id=KCD77M1F0VK2B [following]\n",
      "--2024-05-22 14:56:19--  https://cdn-lfs-us-1.huggingface.co/repos/eb/d8/ebd889d6ac58573e8e8a7aa1176d4d357581a6da60135b94aca378fddf4e9e54/f057cb46f3d871ba03c66e707e3b3d8299322f36fa433862dc3fdca956715614?response-content-disposition=attachment%3B+filename*%3DUTF-8%27%27sae_weights.safetensors%3B+filename%3D%22sae_weights.safetensors%22%3B&Expires=1716648979&Policy=eyJTdGF0ZW1lbnQiOlt7IkNvbmRpdGlvbiI6eyJEYXRlTGVzc1RoYW4iOnsiQVdTOkVwb2NoVGltZSI6MTcxNjY0ODk3OX19LCJSZXNvdXJjZSI6Imh0dHBzOi8vY2RuLWxmcy11cy0xLmh1Z2dpbmdmYWNlLmNvL3JlcG9zL2ViL2Q4L2ViZDg4OWQ2YWM1ODU3M2U4ZThhN2FhMTE3NmQ0ZDM1NzU4MWE2ZGE2MDEzNWI5NGFjYTM3OGZkZGY0ZTllNTQvZjA1N2NiNDZmM2Q4NzFiYTAzYzY2ZTcwN2UzYjNkODI5OTMyMmYzNmZhNDMzODYyZGMzZmRjYTk1NjcxNTYxND9yZXNwb25zZS1jb250ZW50LWRpc3Bvc2l0aW9uPSoifV19&Signature=BOB4WHx6qWSHnzU10d9DIswfOuTgjFYgNKckFu%7EA9%7EdKjK6cYobcWdR3FDSEowlF5ApaOoiY10N%7E3XpuS1bbIxRudmIWDMHMib16ps6H6unwOv6wopyEOYerUjyHD7Kq-yaG6IAOoReesjIbQa3eMounELEbvVT%7E34MKqSuDwl2mq6Q4nq9qZmmMMUVrgYtcRNJoW8bBhYv6biJ6QF9CKsMYO8kHZYA6y4qngtcmsd9B6YbfDtkgj6uI%7EfOzh1rkb1xMpEd-XER67i4l3c-dC7gAjy8-g2Aa64IUMA-Ii7Fzqw697kKXmgZcJegVz9OR21cFd33hpvZZktkrW-5mLg__&Key-Pair-Id=KCD77M1F0VK2B\n",
      "Resolving cdn-lfs-us-1.huggingface.co (cdn-lfs-us-1.huggingface.co)... 108.138.167.116, 108.138.167.63, 108.138.167.22, ...\n",
      "Connecting to cdn-lfs-us-1.huggingface.co (cdn-lfs-us-1.huggingface.co)|108.138.167.116|:443... connected.\n",
      "HTTP request sent, awaiting response... 416 Requested Range Not Satisfiable\n",
      "\n",
      "    The file is already fully retrieved; nothing to do.\n",
      "\n"
     ]
    },
    {
     "data": {
      "application/vnd.jupyter.widget-view+json": {
       "model_id": "dd547c9e45c24a4d9fe9de33a0c2fea3",
       "version_major": 2,
       "version_minor": 0
      },
      "text/plain": [
       "  0%|          | 0/2000 [00:00<?, ?it/s]"
      ]
     },
     "metadata": {},
     "output_type": "display_data"
    },
    {
     "data": {
      "application/vnd.jupyter.widget-view+json": {
       "model_id": "1334ce086bb646c1bc247cf526a8b0fb",
       "version_major": 2,
       "version_minor": 0
      },
      "text/plain": [
       "  0%|          | 0/20 [00:00<?, ?it/s]"
      ]
     },
     "metadata": {},
     "output_type": "display_data"
    }
   ],
   "source": [
    "results = {}\n",
    "\n",
    "for task, target_layer in tqdm(tasks_to_check):\n",
    "    if target_layer == 21:\n",
    "        target_layer = 20\n",
    "    if target_layer == 14:\n",
    "        target_layer = 12\n",
    "    fs = FeatureSearch(task, target_layer, early_stopping_steps=200, sae_v=6)\n",
    "    weights, metrics = fs.find_weights()\n",
    "    i = jax.lax.top_k(jnp.abs(weights), 20)[1]\n",
    "    best_feature, best_loss, mean_loss, losses = fs.check_features(i, scale=20)\n",
    "\n",
    "    metrics = {k:float(v) for k, v in metrics.items()}\n",
    "\n",
    "    results[task] = (best_feature, best_loss, mean_loss, losses, metrics)\n",
    "    print(\n",
    "        f\"Task {task}, best feature {best_feature}, best loss {best_loss}, mean loss {mean_loss}, metrics {metrics}\"\n",
    "    )"
   ]
  },
  {
   "cell_type": "code",
   "execution_count": 33,
   "metadata": {},
   "outputs": [
    {
     "data": {
      "text/html": [
       "<div id=\"output_00939d4f743c4e80932a763f1504a287\"><script> /* penzai.treescope rendering of a Python object (compressed) */ (()=>{ let observer; let lastStep = new Promise((resolve, reject) => { observer = new IntersectionObserver((entries) => { for (const entry of entries) { if (entry.isIntersecting) { resolve(); observer.disconnect(); return; } } }, {rootMargin: \"1000px\"}); }); window.treescope_decompress_enqueue = (encoded, destId) => { const previous = lastStep; const destElt = document.getElementById(destId); lastStep = (async () => { await previous; let blob = new Blob([ Uint8Array.from(atob(encoded), (m) => m.codePointAt(0)) ]); let reader = blob.stream().pipeThrough( new DecompressionStream(\"deflate\") ).pipeThrough( new TextDecoderStream(\"utf-8\") ).getReader(); let parts = []; while (true) { let step = await reader.read(); if (step.done) { break; } parts.push(step.value); } let newElt = document.createElement(\"div\"); newElt.innerHTML = parts.join(\"\"); destElt.parentNode.replaceChild(newElt, destElt); for (let oldScript of newElt.querySelectorAll(\"script\")) { let newScript = document.createElement(\"script\"); newScript.type = oldScript.type; newScript.textContent = oldScript.textContent; oldScript.parentNode.replaceChild(newScript, oldScript); } })(); requestAnimationFrame(() => { observer.observe(destElt); }); } })(); </script><div id=\"compress_html_4781e099a5b4447a955d5bb305701297\"><script>window.treescope_decompress_enqueue(\"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\", \"compress_html_4781e099a5b4447a955d5bb305701297\");</script><span style=\"color: #aaaaaa; font-family: monospace\">(Loading...)</span></div></div>"
      ],
      "text/plain": [
       "<IPython.core.display.HTML object>"
      ]
     },
     "metadata": {},
     "output_type": "display_data"
    },
    {
     "data": {
      "text/html": [
       "<div id=\"compress_html_80e8f6a803b241eda4a1ea57ad3763b6\"><script>window.treescope_decompress_enqueue(\"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\", \"compress_html_80e8f6a803b241eda4a1ea57ad3763b6\");</script></div>"
      ],
      "text/plain": [
       "<IPython.core.display.HTML object>"
      ]
     },
     "metadata": {},
     "output_type": "display_data"
    },
    {
     "data": {
      "text/html": [
       "<div id=\"output_dest_00939d4f743c4e80932a763f1504a287\"><script> (()=>{ const output = document.getElementById(\"output_00939d4f743c4e80932a763f1504a287\"); const dest = document.getElementById(\"output_dest_00939d4f743c4e80932a763f1504a287\"); dest.parentNode.replaceChild(output, dest); })(); </script></div>"
      ],
      "text/plain": [
       "{'location_continent': (<jax.Array(47188, dtype=int32)>,\n",
       "  <jax.Array(-3.59375, dtype=bfloat16)>,\n",
       "  <jax.Array(-4.5625, dtype=bfloat16)>,\n",
       "  # jax.Array bfloat16(20,) ≈-4.6 ±0.42 [≥-5.1, ≤-3.6] nonzero:20\n",
       "    Array([-4.90625, -4.59375, -4.8125, -4.375, -4.53125, -3.6875, -3.59375,\n",
       "           -4.46875, -3.8125, -4.53125, -4.25, -4.875, -4.59375, -4.8125,\n",
       "           -4.84375, -5.03125, -4.8125, -5.0625, -4.8125, -4.8125],      dtype=bfloat16)\n",
       "  ,\n",
       "  {'l0': 14.0, 'loss': 2.3125}),\n",
       " 'football_player_position': (<jax.Array(26021, dtype=int32)>,\n",
       "  <jax.Array(-6.90625, dtype=bfloat16)>,\n",
       "  <jax.Array(-8.125, dtype=bfloat16)>,\n",
       "  # jax.Array bfloat16(20,) ≈-8.1 ±0.47 [≥-8.7, ≤-6.9] nonzero:20\n",
       "    Array([-8.3125, -8.6875, -8.5625, -8.5625, -8.5625, -8.4375, -8.375,\n",
       "           -8.125, -8.4375, -7.6875, -6.90625, -8.125, -7.71875, -7.78125,\n",
       "           -8.1875, -7.5, -7.40625, -8.5, -8.5, -8.3125], dtype=bfloat16)\n",
       "  ,\n",
       "  {'l0': 17.0, 'loss': 4.875})}"
      ]
     },
     "execution_count": 33,
     "metadata": {},
     "output_type": "execute_result"
    }
   ],
   "source": [
    "results"
   ]
  },
  {
   "cell_type": "code",
   "execution_count": null,
   "metadata": {},
   "outputs": [],
   "source": [
    "import pickle\n",
    "\n",
    "with open(\"results.pkl\", \"wb\") as f:\n",
    "    pickle.dump(results, f)\n",
    "# with open(\"results.json\", \"w\") as f:\n",
    "#     json.dump(results, f)"
   ]
  },
  {
   "cell_type": "code",
   "execution_count": null,
   "metadata": {},
   "outputs": [
    {
     "name": "stdout",
     "output_type": "stream",
     "text": [
      "location_continent, best feature 47188, loss ratio 1.25\n",
      "football_player_position, best feature 26021, loss ratio 1.17969\n",
      "location_religion, best feature 27071, loss ratio 1.10156\n",
      "location_language, best feature 177, loss ratio 2.21875\n",
      "person_profession, best feature 48700, loss ratio 1.14844\n",
      "location_country, best feature 10728, loss ratio 1.24219\n",
      "country_capital, best feature 32281, loss ratio 1.57812\n",
      "person_language, best feature 9753, loss ratio 3.20312\n",
      "singular_plural, best feature 32291, loss ratio 1.19531\n",
      "present_simple_past_simple, best feature 17167, loss ratio 1.75\n",
      "antonyms, best feature 40483, loss ratio 1.51562\n",
      "plural_singular, best feature 15284, loss ratio 2.03125\n",
      "present_simple_past_perfect, best feature 23282, loss ratio 1.41406\n",
      "present_simple_gerund, best feature 49149, loss ratio 2.07812\n",
      "en_it, best feature 46157, loss ratio 1.14062\n",
      "it_en, best feature 27586, loss ratio 1.39062\n",
      "en_fr, best feature 20311, loss ratio 1.1875\n",
      "en_es, best feature 20311, loss ratio 2.73438\n",
      "fr_en, best feature 41040, loss ratio 1.28125\n",
      "es_en, best feature 41040, loss ratio 1.42969\n"
     ]
    }
   ],
   "source": [
    "for task, (best_feature, best_loss, mean_loss, losses, metrics) in results.items():\n",
    "    print(\n",
    "        f\"{task}, best feature {best_feature}, loss ratio {mean_loss / best_loss}\"\n",
    "    )"
   ]
  },
  {
   "cell_type": "code",
   "execution_count": null,
   "metadata": {},
   "outputs": [
    {
     "name": "stderr",
     "output_type": "stream",
     "text": [
      "--2024-05-22 00:38:44--  https://huggingface.co/nev/phi-3-4k-saex-test/resolve/main/l17-test-run-6-4.52E-06/sae_weights.safetensors?download=true\n",
      "Resolving huggingface.co (huggingface.co)... 108.156.211.90, 108.156.211.95, 108.156.211.125, ...\n",
      "Connecting to huggingface.co (huggingface.co)|108.156.211.90|:443... connected.\n",
      "HTTP request sent, awaiting response... 302 Found\n",
      "Location: https://cdn-lfs-us-1.huggingface.co/repos/eb/d8/ebd889d6ac58573e8e8a7aa1176d4d357581a6da60135b94aca378fddf4e9e54/1623d8da38be3171fcc8516a4cbe9fdb80e3d77e370aa5690895697649d688f3?response-content-disposition=attachment%3B+filename*%3DUTF-8%27%27sae_weights.safetensors%3B+filename%3D%22sae_weights.safetensors%22%3B&Expires=1716597524&Policy=eyJTdGF0ZW1lbnQiOlt7IkNvbmRpdGlvbiI6eyJEYXRlTGVzc1RoYW4iOnsiQVdTOkVwb2NoVGltZSI6MTcxNjU5NzUyNH19LCJSZXNvdXJjZSI6Imh0dHBzOi8vY2RuLWxmcy11cy0xLmh1Z2dpbmdmYWNlLmNvL3JlcG9zL2ViL2Q4L2ViZDg4OWQ2YWM1ODU3M2U4ZThhN2FhMTE3NmQ0ZDM1NzU4MWE2ZGE2MDEzNWI5NGFjYTM3OGZkZGY0ZTllNTQvMTYyM2Q4ZGEzOGJlMzE3MWZjYzg1MTZhNGNiZTlmZGI4MGUzZDc3ZTM3MGFhNTY5MDg5NTY5NzY0OWQ2ODhmMz9yZXNwb25zZS1jb250ZW50LWRpc3Bvc2l0aW9uPSoifV19&Signature=AYfheeO5OzkVmpXIex8MfS9UrVL7Vqp4BEhiw%7EjBYGVgcEAiuCgL2j1G2pr9f9vAgLWB9A1Eu47UuCurx069R3IY4IhE3pqWHC-gOTwHvCZezquXRfUSjgRuCPd1P%7EolT2eorBuvOezJ0vKvlrSumpHqO41h57UD9KylTxtOD7Q2rbSo%7EsR9mERmld14%7EvjA9OGTozfuqhG-ycx1hqnScEbA--tiE5%7EacITE05JVqPoiQH4c0hAmgCZ8EW45A6eZaCmfVh3oiPrFP2eRekSmipDQUh2Dh7Jmat-Bozl%7EtXsR9A9K1b-cAKx4Ygs08FzERpvGuLTXJ7nMA5EK2v9kHg__&Key-Pair-Id=KCD77M1F0VK2B [following]\n",
      "--2024-05-22 00:38:44--  https://cdn-lfs-us-1.huggingface.co/repos/eb/d8/ebd889d6ac58573e8e8a7aa1176d4d357581a6da60135b94aca378fddf4e9e54/1623d8da38be3171fcc8516a4cbe9fdb80e3d77e370aa5690895697649d688f3?response-content-disposition=attachment%3B+filename*%3DUTF-8%27%27sae_weights.safetensors%3B+filename%3D%22sae_weights.safetensors%22%3B&Expires=1716597524&Policy=eyJTdGF0ZW1lbnQiOlt7IkNvbmRpdGlvbiI6eyJEYXRlTGVzc1RoYW4iOnsiQVdTOkVwb2NoVGltZSI6MTcxNjU5NzUyNH19LCJSZXNvdXJjZSI6Imh0dHBzOi8vY2RuLWxmcy11cy0xLmh1Z2dpbmdmYWNlLmNvL3JlcG9zL2ViL2Q4L2ViZDg4OWQ2YWM1ODU3M2U4ZThhN2FhMTE3NmQ0ZDM1NzU4MWE2ZGE2MDEzNWI5NGFjYTM3OGZkZGY0ZTllNTQvMTYyM2Q4ZGEzOGJlMzE3MWZjYzg1MTZhNGNiZTlmZGI4MGUzZDc3ZTM3MGFhNTY5MDg5NTY5NzY0OWQ2ODhmMz9yZXNwb25zZS1jb250ZW50LWRpc3Bvc2l0aW9uPSoifV19&Signature=AYfheeO5OzkVmpXIex8MfS9UrVL7Vqp4BEhiw%7EjBYGVgcEAiuCgL2j1G2pr9f9vAgLWB9A1Eu47UuCurx069R3IY4IhE3pqWHC-gOTwHvCZezquXRfUSjgRuCPd1P%7EolT2eorBuvOezJ0vKvlrSumpHqO41h57UD9KylTxtOD7Q2rbSo%7EsR9mERmld14%7EvjA9OGTozfuqhG-ycx1hqnScEbA--tiE5%7EacITE05JVqPoiQH4c0hAmgCZ8EW45A6eZaCmfVh3oiPrFP2eRekSmipDQUh2Dh7Jmat-Bozl%7EtXsR9A9K1b-cAKx4Ygs08FzERpvGuLTXJ7nMA5EK2v9kHg__&Key-Pair-Id=KCD77M1F0VK2B\n",
      "Resolving cdn-lfs-us-1.huggingface.co (cdn-lfs-us-1.huggingface.co)... 18.161.156.80, 18.161.156.3, 18.161.156.33, ...\n",
      "Connecting to cdn-lfs-us-1.huggingface.co (cdn-lfs-us-1.huggingface.co)|18.161.156.80|:443... connected.\n",
      "HTTP request sent, awaiting response... 416 Requested Range Not Satisfiable\n",
      "\n",
      "    The file is already fully retrieved; nothing to do.\n",
      "\n"
     ]
    }
   ],
   "source": [
    "fs = FeatureSearch(\"en_de\", 17)"
   ]
  },
  {
   "cell_type": "code",
   "execution_count": 20,
   "metadata": {},
   "outputs": [
    {
     "name": "stderr",
     "output_type": "stream",
     "text": [
      "--2024-05-22 01:20:39--  https://huggingface.co/nev/phi-3-4k-saex-test/resolve/main/l18-test-run-6-1.01E-05/sae_weights.safetensors?download=true\n",
      "Resolving huggingface.co (huggingface.co)... 108.156.211.51, 108.156.211.90, 108.156.211.95, ...\n",
      "Connecting to huggingface.co (huggingface.co)|108.156.211.51|:443... connected.\n",
      "HTTP request sent, awaiting response... 302 Found\n",
      "Location: https://cdn-lfs-us-1.huggingface.co/repos/eb/d8/ebd889d6ac58573e8e8a7aa1176d4d357581a6da60135b94aca378fddf4e9e54/f057cb46f3d871ba03c66e707e3b3d8299322f36fa433862dc3fdca956715614?response-content-disposition=attachment%3B+filename*%3DUTF-8%27%27sae_weights.safetensors%3B+filename%3D%22sae_weights.safetensors%22%3B&Expires=1716600039&Policy=eyJTdGF0ZW1lbnQiOlt7IkNvbmRpdGlvbiI6eyJEYXRlTGVzc1RoYW4iOnsiQVdTOkVwb2NoVGltZSI6MTcxNjYwMDAzOX19LCJSZXNvdXJjZSI6Imh0dHBzOi8vY2RuLWxmcy11cy0xLmh1Z2dpbmdmYWNlLmNvL3JlcG9zL2ViL2Q4L2ViZDg4OWQ2YWM1ODU3M2U4ZThhN2FhMTE3NmQ0ZDM1NzU4MWE2ZGE2MDEzNWI5NGFjYTM3OGZkZGY0ZTllNTQvZjA1N2NiNDZmM2Q4NzFiYTAzYzY2ZTcwN2UzYjNkODI5OTMyMmYzNmZhNDMzODYyZGMzZmRjYTk1NjcxNTYxND9yZXNwb25zZS1jb250ZW50LWRpc3Bvc2l0aW9uPSoifV19&Signature=GjoUXeJZc2P0GpwpqASajQZ5wZ%7EBBR%7E9AaUOAfMLiPSG7tUL9N9Rm7fu5nIM-QnIQvOPvKbWZNef-GeshPYc%7E806zemdhk0gK6j2VMfyCt8ywZrTN-FWzq-RkDhDG9imTho9HTQTt1Pinj4CPk3F0StBoyT-pO0R8ih3bRRm7aqF2Co3J97EcRHzRBWCmHVHr%7EM%7ECKMhNEaYGuFC6t6i28S4Muna2FryoSCTeV26yq8NPR7Kr5IsHX7Or9vhExfAu-6aVr5Bkz%7E5RKQnLZhMdrWuNr4C8T-m%7Eqhq1Z%7EB%7EPiRfhAsx-CVCAY1uMBfqkwjSLzFhLT7DdHiKDkvcX5baw__&Key-Pair-Id=KCD77M1F0VK2B [following]\n",
      "--2024-05-22 01:20:39--  https://cdn-lfs-us-1.huggingface.co/repos/eb/d8/ebd889d6ac58573e8e8a7aa1176d4d357581a6da60135b94aca378fddf4e9e54/f057cb46f3d871ba03c66e707e3b3d8299322f36fa433862dc3fdca956715614?response-content-disposition=attachment%3B+filename*%3DUTF-8%27%27sae_weights.safetensors%3B+filename%3D%22sae_weights.safetensors%22%3B&Expires=1716600039&Policy=eyJTdGF0ZW1lbnQiOlt7IkNvbmRpdGlvbiI6eyJEYXRlTGVzc1RoYW4iOnsiQVdTOkVwb2NoVGltZSI6MTcxNjYwMDAzOX19LCJSZXNvdXJjZSI6Imh0dHBzOi8vY2RuLWxmcy11cy0xLmh1Z2dpbmdmYWNlLmNvL3JlcG9zL2ViL2Q4L2ViZDg4OWQ2YWM1ODU3M2U4ZThhN2FhMTE3NmQ0ZDM1NzU4MWE2ZGE2MDEzNWI5NGFjYTM3OGZkZGY0ZTllNTQvZjA1N2NiNDZmM2Q4NzFiYTAzYzY2ZTcwN2UzYjNkODI5OTMyMmYzNmZhNDMzODYyZGMzZmRjYTk1NjcxNTYxND9yZXNwb25zZS1jb250ZW50LWRpc3Bvc2l0aW9uPSoifV19&Signature=GjoUXeJZc2P0GpwpqASajQZ5wZ%7EBBR%7E9AaUOAfMLiPSG7tUL9N9Rm7fu5nIM-QnIQvOPvKbWZNef-GeshPYc%7E806zemdhk0gK6j2VMfyCt8ywZrTN-FWzq-RkDhDG9imTho9HTQTt1Pinj4CPk3F0StBoyT-pO0R8ih3bRRm7aqF2Co3J97EcRHzRBWCmHVHr%7EM%7ECKMhNEaYGuFC6t6i28S4Muna2FryoSCTeV26yq8NPR7Kr5IsHX7Or9vhExfAu-6aVr5Bkz%7E5RKQnLZhMdrWuNr4C8T-m%7Eqhq1Z%7EB%7EPiRfhAsx-CVCAY1uMBfqkwjSLzFhLT7DdHiKDkvcX5baw__&Key-Pair-Id=KCD77M1F0VK2B\n",
      "Resolving cdn-lfs-us-1.huggingface.co (cdn-lfs-us-1.huggingface.co)... 18.161.156.61, 18.161.156.3, 18.161.156.33, ...\n",
      "Connecting to cdn-lfs-us-1.huggingface.co (cdn-lfs-us-1.huggingface.co)|18.161.156.61|:443... connected.\n",
      "HTTP request sent, awaiting response... 416 Requested Range Not Satisfiable\n",
      "\n",
      "    The file is already fully retrieved; nothing to do.\n",
      "\n"
     ]
    },
    {
     "data": {
      "application/vnd.jupyter.widget-view+json": {
       "model_id": "cf9e6a01da9742049008c17d68f529c5",
       "version_major": 2,
       "version_minor": 0
      },
      "text/plain": [
       "  0%|          | 0/2000 [00:00<?, ?it/s]"
      ]
     },
     "metadata": {},
     "output_type": "display_data"
    },
    {
     "name": "stderr",
     "output_type": "stream",
     "text": [
      "Exception ignored in: <bound method IPythonKernel._clean_thread_parent_frames of <ipykernel.ipkernel.IPythonKernel object at 0x7f12cc5bf290>>\n",
      "Traceback (most recent call last):\n",
      "  File \"/home/dmitrii/.cache/pypoetry/virtualenvs/micrlhf-progress-_SD4q1c9-py3.12/lib/python3.12/site-packages/ipykernel/ipkernel.py\", line 775, in _clean_thread_parent_frames\n",
      "    def _clean_thread_parent_frames(\n",
      "\n",
      "KeyboardInterrupt: \n"
     ]
    }
   ],
   "source": [
    "fs = FeatureSearch(\"en_ru\", 18, early_stopping_steps=100, seed=10)\n",
    "w = fs.find_weights()"
   ]
  },
  {
   "cell_type": "code",
   "execution_count": 21,
   "metadata": {},
   "outputs": [
    {
     "data": {
      "text/html": [
       "<div id=\"output_4659b98926a048d99904cd4e154b88de\"><script> /* penzai.treescope rendering of a Python object (compressed) */ (()=>{ let observer; let lastStep = new Promise((resolve, reject) => { observer = new IntersectionObserver((entries) => { for (const entry of entries) { if (entry.isIntersecting) { resolve(); observer.disconnect(); return; } } }, {rootMargin: \"1000px\"}); }); window.treescope_decompress_enqueue = (encoded, destId) => { const previous = lastStep; const destElt = document.getElementById(destId); lastStep = (async () => { await previous; let blob = new Blob([ Uint8Array.from(atob(encoded), (m) => m.codePointAt(0)) ]); let reader = blob.stream().pipeThrough( new DecompressionStream(\"deflate\") ).pipeThrough( new TextDecoderStream(\"utf-8\") ).getReader(); let parts = []; while (true) { let step = await reader.read(); if (step.done) { break; } parts.push(step.value); } let newElt = document.createElement(\"div\"); newElt.innerHTML = parts.join(\"\"); destElt.parentNode.replaceChild(newElt, destElt); for (let oldScript of newElt.querySelectorAll(\"script\")) { let newScript = document.createElement(\"script\"); newScript.type = oldScript.type; newScript.textContent = oldScript.textContent; oldScript.parentNode.replaceChild(newScript, oldScript); } })(); requestAnimationFrame(() => { observer.observe(destElt); }); } })(); </script><div id=\"compress_html_366f15ad906b42af8bb18907e7a7cb34\"><script>window.treescope_decompress_enqueue(\"eNrVWQtz2rgW/iuqd6aBJhBDeAQomWsIrzQkTUibNLs7jLBlW8FYjixDyE7++z2SITyTtntze/eSmYLl8/jOQ+ccqR9DMfXIUVpwQkKTBaTPGRPoLxSwkArK/DLixMOCjkkF2cwXKRuPqDctoxHzWRhgE9YnLhUkpR7KKOCw4tFQpJTolJgGsOozH5YH2Bw6nEW+lTKZx3g5Zq2g2dPAAwKQRy3hlpFNBZD5gviigkaYO9RPecQWZZQ1XanDJymXUMeFlUw6X0FPH/djcz6GJqeBOELURokJ9S02WViIqtUqAgjEBgFWEmzdpEB/PVU2ltP9gPgW9R3DlJ4Jgez3P79L1sa+5UmRfuR5W6gdIvpr3q+ixNzpfcGSqHoEIPc/oFPGhhAEjoRLkKL0mUXS6MM+8ohAM94lVhUaUJ6I372rIouZ0Qgcmh4wa4rev0fv5Ju06eEwPIWgpaXDMfXDhLYKSksi6aq5DskUYA6SGh4ZqQg9gWYRcV+9hMcttvLI7zHmSwMnjA9nloHKUACya1iSr1aWBTXlYkA4GD7CvknSPpskks+mbbxBqZjpIzrISsjbcmA9lGmP+I5wITWQvi0jXo9pbLf0APFCsoDuRr7E/l3loUttIU1SHPLHE/z9KIbEnJKT+4iEwvDpCEuKJscjkoj9mkxuj8g6lCAK3Tg2lR9x3BxENXbFz7jux2FvBU584IrIMbEJ58S6IqMA0p6EmwkUeHLxOfGBjU97xCOmYNzwPEj0Ge9yEYz8fgiZqiUrasMl5P4CSYjZSqA0FL6X9g0nIzYmK7tmScZLOyExxyrl25w9Erk5lOS48K3CTWhxYZMiJQc8LZtmcgJmzDbkMi38Sss6DMSxEvU0WycPoh4rW3q9WKwoOPFeP5PlhhPwlknqsP2sBEjYkwQyTi/GSjDH8eIy0lfVXwAwVeVghXhiD5ExSJ+5Qqadek4PyVTuSI1r89IDxEs+j+UmtGeZ/REA1OY4nhD0g7gRfLToGCnG6npdQwIPADB5qGq6hpgPSgG9v0S3HX9CuDScI9eg5cSN1JolZF85yWWeRbjKRdXgfsNF+TdrpYqljKjAHjUBb9oGcjwAVbKuv9CEn9AqWT9GB9QWDUHpdN5s1wnREfLwgHjl8oBATpMlVKb6VLbqiztuKiNb7qwx65WFLuqrPjzwmOzcL+p0YXPwTc0W5sOQYAdc7W9yl30mEmtLLg4TR0rm0VY/KJ6y6RJzCM09iT4kFxgk63amOf0KQpX+ZbTzRzY/MHf+l/BWmV4EWfgFIGUcpeKIhzKAAaOAgG/RS8O3U6u2glKUUvstfCnH30brwjxZBze1pGnYtykPRZ/5fZn+W7bWa1spnc3L3bQ1VOg/hh9HfB2itGplhlYb+iktSx841uqbsp6/UbYs1aJZYVhRbWLPTMAMD5NaJnhQ5XoNBzSb/xqUAeNQk2dQLCZAqYSBfiO6/JNOCV0sS/gEcx8Gl/48B+fl0raxmTnYQhhAW4PQY0vOOyk+O5pIR8/sny2l9LTKgMV5qKyOM5inHI4tKtt35iBvEWcPMY59hyAd6emC6UKzhecwbsfxEooduAllIwfezKUr0Zwb85SeuMTvg5M8HITg1O92pJ9W/oqGuA8pHYqIPAQwab5I8xY4tqmYGfqv2VHZlKVg5di804URjVPsod50NGAwm55HQsKy0HwKq7NgurM6IvjyhOPN1iazM29Oh2QNuVlGEfcSFha4LN/vT5htZysDHJJCbs/SS62uY9QM9elcGAZTv2qXE/i33TSMhvHapzYyDGfIPlmdRq0++WYYV9/qJ0a3U6sbTeeh0z51RVjrUuIcNI9vsqedwrdxL4jo527+KnNy07n82h1fdx/F52mzWd+9doZXtHasu/T4IjppWK07vT3Yt8cdK7j/VHDvrym9iLp+y23bX4TxpVA74zmj2fGHjYL5JYr83cv8vRkOJ2O76e3fPzgNdugMTiatw0zb2PeNy/wp5yeZy13nUb+0dOPEzjhnxfqkdZd1dDaNLovFUSNTmLRvSueOE5Cr4TRHOoPHvDng5y2BDeeiczY5xuE0vIg6nZvrRnNifL4IOt+sL/v7u07xqnhzIHT70+d7Y5wHmafGWdHoToyR83jZ241ue6Rx85C1C+bjWe6yPc1HNePTY+0uaAYHtH1Rb+i30edcr+jbtdNGu9kdGXT3cNzIun7GLe4Ovk5u7iZtPj5ufan7d3aj4Yjdc/PW84r5Uv1kUjt0S7lut9U7aN0azqiTv6tdlMRVi7RLjVqt0zo4dnKX+9/M6cBoQUy/fto3LlrYIN26Z7QfG+fOrXAKtc/O+XnnuDakF3nSrN3Ua02T6oHLWeBDbgS3jePMY2bYs+u2cKef/LaFm2Hb1s9GrcZZoWYZ91+/BliEvduRZWFaytqPpdwXendfCEa8cM6+1XuUt0bjk9ZB77p30GxkzdqFfbXb9ljQyjXDSR4794VDekt6Z15w7dfaHWJ1OYmu71v1Uea6yYe93kM+W7i+DicGIEoidboXiR2V1jvJt9i+MNVPB5EQzN9apBavt41aGtLWqKD9Q0XeTvwHyeQsrfJ3iwBs9sGQAqcqBiM4gbhQ3csI+wLYKexx6/n27LmBbQxnMTd9hEqip0tktG5lPNVtsWL7kL7gTE9w2Dfh9AKOfebHtlg588xPF6/pXONZVbnsejTGPJFKyWqXwj4EVt0ZJJeXpRJ5mSIb5WwGU2JRJkQEPJaC1sUi8XOmPCOAwFBivVtFolSid3QUMC6wvyF7wNlQda5guhihv+/dJbYlfz7PKevXnRsHb1ddtij+2DQ4dEN1802UiDWs3sCBJVdMJh6QzRDItZAIBUq6VOLAE0wF8vGYOlgwDgdyGgwY5lZ6wqkgVzAzJxayIBIzWYuDOwxICW3J3+qOgogrOiIQmOdLkQ2++SXLGuvTHsrquq5Kg4kFjEQJNe9u17vkVG0BbvUaJAHh/Q01MfUgGQRDkvid2pMw+/gR9rwpTBOhINiSObG77LvZ9cPi7kGm0vzyYfV0vD6gaUcf4zL2kfpBJJC8palqqnAN2IO2VcisxgHrvmJa1eeCBA6ih30BMxsRmkKaGpIpVHG3qmlHvwNQYAD2meol9p1FLu4g5tely6s7r+SXuhRJ7qDnTVHVEh4eDSysrm/K6t+khlTeVrWl3QNFcQulrIDrex0olZ+lAfBbixEfPZsRfy07YeNsob32fv6SWlXt+TanoJdKeqZk5+28nrMwfIoZyy5k9NxhppjNZbRfH+Yt8dK23T5pR+89UbnDD2mDczxFtsewOMgmsvoetMJ0Gr13RGXNe/HX3ors1dlbO0LbXL0yGGu/IJl+1//88XySxH8/pX40wbYmUMnK2WYOFwYWKeVyRQsf5ksmjIqZrJmx9GL2/yiBYKj4ofR5LTH2/hnJk/mZ5Mm8XfLEX3/+I5zwS8rx/Mui45fHlZf+TyeRfG6m/waN28Rn\", \"compress_html_366f15ad906b42af8bb18907e7a7cb34\");</script><span style=\"color: #aaaaaa; font-family: monospace\">(Loading...)</span></div></div>"
      ],
      "text/plain": [
       "<IPython.core.display.HTML object>"
      ]
     },
     "metadata": {},
     "output_type": "display_data"
    },
    {
     "data": {
      "text/html": [
       "<div id=\"compress_html_ed7bb2c9d65f4f25bccb017941e936e2\"><script>window.treescope_decompress_enqueue(\"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\", \"compress_html_ed7bb2c9d65f4f25bccb017941e936e2\");</script></div>"
      ],
      "text/plain": [
       "<IPython.core.display.HTML object>"
      ]
     },
     "metadata": {},
     "output_type": "display_data"
    },
    {
     "data": {
      "text/html": [
       "<div id=\"output_dest_4659b98926a048d99904cd4e154b88de\"><script> (()=>{ const output = document.getElementById(\"output_4659b98926a048d99904cd4e154b88de\"); const dest = document.getElementById(\"output_dest_4659b98926a048d99904cd4e154b88de\"); dest.parentNode.replaceChild(output, dest); })(); </script></div>"
      ],
      "text/plain": [
       "[# jax.Array float32(20,) ≈8.6 ±1.1e+01 [≥-0.055, ≤3.1e+01] nonzero:20\n",
       "   Array([ 3.09979153e+01,  2.82771473e+01,  2.81605225e+01,  2.23171616e+01,\n",
       "           1.70592213e+01,  1.41996422e+01,  1.22735662e+01,  1.18328285e+01,\n",
       "           3.67472243e+00,  2.47404289e+00,  1.58222604e+00, -2.69895289e-02,\n",
       "          -2.70592347e-02, -2.96332240e-02, -3.23766917e-02, -4.17804755e-02,\n",
       "          -4.86377254e-02, -5.33655584e-02, -5.33791259e-02, -5.49723543e-02],      dtype=float32)\n",
       " ,\n",
       " # jax.Array int32(20,) [≥6_262, ≤46_627] nonzero:20\n",
       "   Array([10615, 41937, 10151, 13937, 16245, 46627,  6262, 16804,  8286,\n",
       "          25117, 10897, 28142, 21109, 21014, 44885, 43632, 44120,  7628,\n",
       "          25342, 36901], dtype=int32)\n",
       " ]"
      ]
     },
     "execution_count": 21,
     "metadata": {},
     "output_type": "execute_result"
    }
   ],
   "source": [
    "jax.lax.top_k(w[0], 20)"
   ]
  },
  {
   "cell_type": "code",
   "execution_count": 22,
   "metadata": {},
   "outputs": [
    {
     "data": {
      "application/vnd.jupyter.widget-view+json": {
       "model_id": "9c53d45ec3e54565b90c1c2d32ab20e0",
       "version_major": 2,
       "version_minor": 0
      },
      "text/plain": [
       "  0%|          | 0/20 [00:00<?, ?it/s]"
      ]
     },
     "metadata": {},
     "output_type": "display_data"
    },
    {
     "data": {
      "text/html": [
       "<div id=\"output_f551d6358bd44e43872ab8850f49f26d\"><script> /* penzai.treescope rendering of a Python object (compressed) */ (()=>{ let observer; let lastStep = new Promise((resolve, reject) => { observer = new IntersectionObserver((entries) => { for (const entry of entries) { if (entry.isIntersecting) { resolve(); observer.disconnect(); return; } } }, {rootMargin: \"1000px\"}); }); window.treescope_decompress_enqueue = (encoded, destId) => { const previous = lastStep; const destElt = document.getElementById(destId); lastStep = (async () => { await previous; let blob = new Blob([ Uint8Array.from(atob(encoded), (m) => m.codePointAt(0)) ]); let reader = blob.stream().pipeThrough( new DecompressionStream(\"deflate\") ).pipeThrough( new TextDecoderStream(\"utf-8\") ).getReader(); let parts = []; while (true) { let step = await reader.read(); if (step.done) { break; } parts.push(step.value); } let newElt = document.createElement(\"div\"); newElt.innerHTML = parts.join(\"\"); destElt.parentNode.replaceChild(newElt, destElt); for (let oldScript of newElt.querySelectorAll(\"script\")) { let newScript = document.createElement(\"script\"); newScript.type = oldScript.type; newScript.textContent = oldScript.textContent; oldScript.parentNode.replaceChild(newScript, oldScript); } })(); requestAnimationFrame(() => { observer.observe(destElt); }); } })(); </script><div id=\"compress_html_847f24837eef4c8899da75db1ccc43d4\"><script>window.treescope_decompress_enqueue(\"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\", \"compress_html_847f24837eef4c8899da75db1ccc43d4\");</script><span style=\"color: #aaaaaa; font-family: monospace\">(Loading...)</span></div></div>"
      ],
      "text/plain": [
       "<IPython.core.display.HTML object>"
      ]
     },
     "metadata": {},
     "output_type": "display_data"
    },
    {
     "data": {
      "text/html": [
       "<div id=\"compress_html_19645b2b744649f79afd052b6453640a\"><script>window.treescope_decompress_enqueue(\"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\", \"compress_html_19645b2b744649f79afd052b6453640a\");</script></div>"
      ],
      "text/plain": [
       "<IPython.core.display.HTML object>"
      ]
     },
     "metadata": {},
     "output_type": "display_data"
    },
    {
     "data": {
      "text/html": [
       "<div id=\"output_dest_f551d6358bd44e43872ab8850f49f26d\"><script> (()=>{ const output = document.getElementById(\"output_f551d6358bd44e43872ab8850f49f26d\"); const dest = document.getElementById(\"output_dest_f551d6358bd44e43872ab8850f49f26d\"); dest.parentNode.replaceChild(output, dest); })(); </script></div>"
      ],
      "text/plain": [
       "(<jax.Array(16245, dtype=int32)>,\n",
       " <jax.Array(-13.125, dtype=bfloat16)>,\n",
       " <jax.Array(-13.8125, dtype=bfloat16)>,\n",
       " # jax.Array bfloat16(20,) ≈-1.4e+01 ±0.32 [≥-1.4e+01, ≤-1.3e+01] nonzero:20\n",
       "   Array([-13.4375, -14.0625, -13.625, -13.75, -13.125, -13.4375, -13.8125,\n",
       "          -13.625, -13.25, -13.9375, -13.375, -14, -13.875, -14.25, -14, -14,\n",
       "          -14.1875, -13.8125, -14.1875, -14.0625], dtype=bfloat16)\n",
       " )"
      ]
     },
     "execution_count": 22,
     "metadata": {},
     "output_type": "execute_result"
    }
   ],
   "source": [
    "fs.check_features(jax.lax.top_k(w[0], 20)[1], scale=20)"
   ]
  },
  {
   "cell_type": "code",
   "execution_count": null,
   "metadata": {},
   "outputs": [
    {
     "data": {
      "application/vnd.jupyter.widget-view+json": {
       "model_id": "3b26c791176542c0886a40e76141b94c",
       "version_major": 2,
       "version_minor": 0
      },
      "text/plain": [
       "  0%|          | 0/20 [00:00<?, ?it/s]"
      ]
     },
     "metadata": {},
     "output_type": "display_data"
    },
    {
     "data": {
      "text/html": [
       "<div id=\"output_b0ba3b27eefc45a69faf3a9e2b5e88dd\"><script> /* penzai.treescope rendering of a Python object (compressed) */ (()=>{ let observer; let lastStep = new Promise((resolve, reject) => { observer = new IntersectionObserver((entries) => { for (const entry of entries) { if (entry.isIntersecting) { resolve(); observer.disconnect(); return; } } }, {rootMargin: \"1000px\"}); }); window.treescope_decompress_enqueue = (encoded, destId) => { const previous = lastStep; const destElt = document.getElementById(destId); lastStep = (async () => { await previous; let blob = new Blob([ Uint8Array.from(atob(encoded), (m) => m.codePointAt(0)) ]); let reader = blob.stream().pipeThrough( new DecompressionStream(\"deflate\") ).pipeThrough( new TextDecoderStream(\"utf-8\") ).getReader(); let parts = []; while (true) { let step = await reader.read(); if (step.done) { break; } parts.push(step.value); } let newElt = document.createElement(\"div\"); newElt.innerHTML = parts.join(\"\"); destElt.parentNode.replaceChild(newElt, destElt); for (let oldScript of newElt.querySelectorAll(\"script\")) { let newScript = document.createElement(\"script\"); newScript.type = oldScript.type; newScript.textContent = oldScript.textContent; oldScript.parentNode.replaceChild(newScript, oldScript); } })(); requestAnimationFrame(() => { observer.observe(destElt); }); } })(); </script><div id=\"compress_html_ba98176788d4493da1dd7f5578cb89d6\"><script>window.treescope_decompress_enqueue(\"eNrtWQtT20gS/isTpSrIARvJT7AxdbLxi2AImATC7pZrJI2kwXohjWzMFv/9ekY2fmBIsptL9q7OrsL2TPf0Nz1f93SLg5hNXXKYYxEhsRGEZBgFAUN/ojCIKaOBX0URcTGjY1JDVuCzrIU96k6ryAv8IA6xAeMThzKSFT+qKIxgxKUxy4qls2wawqgf+DCsY2NkR0Him1kjcIOomqrW0OyX7oIArEdN5lSRRRmI+Yz4rIY8HNnUz7rEYlWUNxxuwydZh1DbgRE1V6qhx4PddDsHsRHRkB0iaiF5Qn0zmCx2iOr1OgIIxIIFzAzs9bkE+vOx9mw4NwyJb1Lf1gzumRjEfvvjq2Jd7JsuX9JPXHeDtE3YcM37dSTPnT5kQQbVDwHk7nt0EgQjOIQIMYcgIekHJsmh97vIJQzNdJdUxdGAcTmde1NHZmAkHjg0pwfmFL17h97wmZzh4jg+gUPLcYdj6seytApKyiDuqrkNrhTiCFZqucQTJ/QIllkS+WISfm7Ya5T4gyDw+QYnQTSa7QxMxgyQXcEQn1oZZtTggyGJYOMe9g2S84OJnHna2rMZlE2VDlAhzyFv4sD6UeZc4tvMAWogZRMjXj/TdN/cA8SNyQK6k/gc+1eNxw61GN+S0OBfHuH9rRjkuWRE7hISM82nHuYS7Qh7RE79mslsPpF1KGESO+nZ1L7FcXMQ9dQV3+O6b4e9ETjxQSshR8QiUUTMS+KFQHsSPydQ6PLBJ+KDWjQdEJcYLIg01wWiz3SXk2DiD2NgqpSpiYCTeXzBSiiwxIJ8o/C5FDcR8YIxWYmapTVeigR5jpWvb0XBA+HBIVZOE98qXFlKExtfkmvAr+WtGRGBbcwCclkWvuV4Hgbh1Ij4NRsn96yZGluaXgzWBJw01k95uokIeMsgTQg/U4YVdrgAP6cXz4oFtu2maWQosj8DYCLLwQhx2Q4iY1h95gpOO/E7NyJTHpFSJM1TDwgv+TxdV5ae1hx6AFCa43hEcB+kF8GBScdIKNbX8xpiWAfA5L4uKRIKfDAK6P0luc34ZebQeI5cgisnvUjNGSGHwklO4JokElwUF9xbXOHv2VUqVKqIMuxSA/DmLBDHOpjief2FS/gRrYoNU3QgbdIYjE7nl+26IDpELtaJW63qBDhNllAZ4lXbaC+9cbMqv3JnF7NSW9iivriHdTfgN/eLNh0Ijui5ZRNHo5hgG1ztP9eu+gGT14YcHMuHYs3DjX4QOlXDIcYILvcMep9ZYOCqm5Xm8isIBf2raOv3fEk3tn4lvFWlF0GWfwJIfo7ccBLF/ADDgAKCaINdGv84syIUhKGsiLf4JY7/GKuL7fE8+NxKjsZDi0YxGwb+kNN/Q2i9Fkq5fIlH08ajQn8bfnri6xD5rlZqaBHQjzme+sCx5tDg+fwHsWUpF80Sw4ppA7uGDDU8VGpqeC/S9RoOuGz+Y1D0IIKcPINiBgyMchjoLVH4mztl4hB/CCnKxWEMs19Nrd8N7BULaUIVNoQQuQ+hZHpR5kfg2GRittF/zXo+g3N6pf/b6kOtEVHsosHU0wMoss4SxmGZaF5ONINwurV61/m8VHdnY5NZ81ZUwOtxZFRRErmyiRmu8vndSWBZ+ZqOY1Iu7pjKfqdvaw1NvHrnmhaIb42LCfzttjWtpb32aniaZo+CD2av1WhOvmja5ZfmsdbvNZpa277vdU8cFjf6lNiF9tF1/qRX/jIehAn92C9dqsfXvYvP/fFV/4F9nLbbze0re3RJG0eKQ4/Ok+OW2blVuvquNe6Z4d2HsnN3Rel50vc7Ttf6xLRP5cZpVNTaPX/UKhufksTfvijdGfFoMrba7u7dvd0K9mz9eNLZU7varq9dlE6i6Fi92LYflAtT0Y4t1T6tNCed27ytBNPkolLxWmp50r3eP7PtkFyOpkXS0x9Khh6ddRjW7PPe6eQIx9P4POn1rq9a7Yn28TzsfTE/7e5u25XLynWBKdaHj3fauARrnminFa0/0Tz74WKwndwMSOv6Pm+VjYfT4kV3Wkoa2oeHxm3YDgu0e95sKTfJx+Kg4luNk1a33fc0ur03buUdX3Uq2/rnyfXtpBuNjzqfmv6t1WrZbPvMuHHdSmm/eTxp7Dn7xX6/Myh0bjTb65VuG+f77LJDuvutRqPXKRzZxYvdL8ZU1zpwpp8/7GrnHayRftPVug+tM/uG2eXGR/vsrHfUGNHzEmk3rpuNtkGV0ImC0AduhDetI/VBHQ2spsWc6Qe/a+J23LWUU6/TOi03TO3u8+cQs3hw45kmpvt562G/+Ine3pVDLyqfBV+aAxp1vPFxpzC4GhTarbzROLcut7tuEHaK7XhSwvZdeY/ekMGpG175jW6PmP2IJFd3naanXrWj0WBwX8qXr67iiQaIMki0qUzeErTeyvyI8IXydKonjEFPvSlJLaY31QwSktak4B6LIRVsFP6dqEVTqv3VJADBro8oaIpk4EEp7UBPWEXYZ6BOIcbNp8dAT5n4WZWRatMHyCRKbp9467tMy5MNu9hcbS40cxMcDw0ow8GxT/rYYivF+7xMfs3mms6qyWXXozGO5GyWZ7ss9uFgRfObWR7mRvhTgQj782JCLIvUGBHwWBZu1CBh37eVJwRwMJSYb1aRCJPoDfXCIGLYf7a2HgUjcXOF00Ut+HXvLqkt+fPpwl1/bvesg3TEUwOhn24NukfIbr6B5NTC6qMk2MllwIkHYjMEfCwmTIDiLuU48ARThnw8pjaG7ho6SxrqAY7M3CSijFxC8Scv1oKTmK216ECxacrSkr9Fs03YJfUIHMxTd/9Mb/60YE31cQflFUURqcHADCokWRRum+0uOVVagFvt52U43reojakLZGAB4sJvRExCSeYn2HWnUE3EjGCTc2J72XezPnrRRHMqzbvo1TZvvdqEfjhNYwfUDxOG+OOGuiQSlx7cSxsXmeU4mEzz2+HBrlBetevAShGYGA0ZlJQE+nfBW+jaIZs7dUk6lAEwKID6DMKS+taCk1vQ6ze56+tbr/BMdPmZLfQUHHVJdrGnm1g8j6iKvxkJCf7WpaUoguS4QZJnwvWYB0nhb74B+C6liA+ftpF+LDvhWbEsvTY/n6RmXXp6PFGqWKWSolcMVS0XdSO/XzGxYuhlvaSTQkU3pF933BvOTdr0WEU6fOey2i2+z2lRhDmPWSEPIZfL5dA7m9XWHJh+7Kwsu1qGS4dok7dXamTpJ/DpN+WPb6cUF/7rrPpWjm3kUFG1SooC3DEVpYgrKtbNcqmUL0J7q6uVEv5pHPr73NEtN8BMLf9P0Ef9Hvqov4w+e+X9PbWs5iuVfaOoVor7lXyhUqqoOi4UddUs/Z8+v4Y++e+hT/6X0YdYBaVkmZZRyivFPbOIccWAMoYULV0lqqn8N9Inr+x8hUGvcWPnn8Gfwvfwp/Dj+JN+ZP4RTvgpJeH8w6Tjl1unl/5RKmeeCvt/A5Wv67w=\", \"compress_html_ba98176788d4493da1dd7f5578cb89d6\");</script><span style=\"color: #aaaaaa; font-family: monospace\">(Loading...)</span></div></div>"
      ],
      "text/plain": [
       "<IPython.core.display.HTML object>"
      ]
     },
     "metadata": {},
     "output_type": "display_data"
    },
    {
     "data": {
      "text/html": [
       "<div id=\"compress_html_294b2eface0d44c687cec0239a47474b\"><script>window.treescope_decompress_enqueue(\"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\", \"compress_html_294b2eface0d44c687cec0239a47474b\");</script></div>"
      ],
      "text/plain": [
       "<IPython.core.display.HTML object>"
      ]
     },
     "metadata": {},
     "output_type": "display_data"
    },
    {
     "data": {
      "text/html": [
       "<div id=\"output_dest_b0ba3b27eefc45a69faf3a9e2b5e88dd\"><script> (()=>{ const output = document.getElementById(\"output_b0ba3b27eefc45a69faf3a9e2b5e88dd\"); const dest = document.getElementById(\"output_dest_b0ba3b27eefc45a69faf3a9e2b5e88dd\"); dest.parentNode.replaceChild(output, dest); })(); </script></div>"
      ],
      "text/plain": [
       "(<jax.Array(41239, dtype=int32)>,\n",
       " <jax.Array(-4.21875, dtype=bfloat16)>,\n",
       " <jax.Array(-5.34375, dtype=bfloat16)>,\n",
       " # jax.Array bfloat16(20,) ≈-5.3 ±0.37 [≥-6.0, ≤-4.2] nonzero:20\n",
       "   Array([-6, -5.28125, -5.65625, -5.15625, -5.03125, -5.15625, -5.53125,\n",
       "          -5.25, -5.28125, -5.65625, -5.1875, -5.71875, -5.59375, -5.0625,\n",
       "          -4.21875, -5.40625, -5.0625, -5.53125, -5.21875, -5.65625],      dtype=bfloat16)\n",
       " )"
      ]
     },
     "execution_count": 24,
     "metadata": {},
     "output_type": "execute_result"
    }
   ],
   "source": [
    "fs.check_features(jax.lax.top_k(w[0], 20)[1], scale=20)"
   ]
  },
  {
   "cell_type": "code",
   "execution_count": null,
   "metadata": {},
   "outputs": [
    {
     "data": {
      "text/html": [
       "<div id=\"output_185d739a08994c268d6f94f40167821b\"><script> /* penzai.treescope rendering of a Python object (compressed) */ (()=>{ let observer; let lastStep = new Promise((resolve, reject) => { observer = new IntersectionObserver((entries) => { for (const entry of entries) { if (entry.isIntersecting) { resolve(); observer.disconnect(); return; } } }, {rootMargin: \"1000px\"}); }); window.treescope_decompress_enqueue = (encoded, destId) => { const previous = lastStep; const destElt = document.getElementById(destId); lastStep = (async () => { await previous; let blob = new Blob([ Uint8Array.from(atob(encoded), (m) => m.codePointAt(0)) ]); let reader = blob.stream().pipeThrough( new DecompressionStream(\"deflate\") ).pipeThrough( new TextDecoderStream(\"utf-8\") ).getReader(); let parts = []; while (true) { let step = await reader.read(); if (step.done) { break; } parts.push(step.value); } let newElt = document.createElement(\"div\"); newElt.innerHTML = parts.join(\"\"); destElt.parentNode.replaceChild(newElt, destElt); for (let oldScript of newElt.querySelectorAll(\"script\")) { let newScript = document.createElement(\"script\"); newScript.type = oldScript.type; newScript.textContent = oldScript.textContent; oldScript.parentNode.replaceChild(newScript, oldScript); } })(); requestAnimationFrame(() => { observer.observe(destElt); }); } })(); </script><div id=\"compress_html_467de0d3f28141859d7e0b0108997fef\"><script>window.treescope_decompress_enqueue(\"eNrVWQtT4sgW/is92aoRRkFAQMHBugF5OaKjOKPj7hbVJJ2kJXTHTgfELf/7Pd0BeerM7PXO3atVQjrn8Z1Hn3O6/RjKiU+O0lIQElo8ID3BuUR/oYCHVFLOykgQH0s6IofI4UymHDyk/qSMhpzxMMAWrI89KklKP5RRIGDFp6FMadEpOQlglXEGy31sDVzBI2anLO5zUY5ZD9H0qe8DAcijtvTKyKESyJgkTB6iIRYuZSmfOLKMcpandDCS8gh1PVjJpguH6OnjbmzOx9ASNJBHiDooMabM5uO5hahSqSCAQBwQYCfB1nUK9NfT4dpyuhcQZlPmmpbyTAhkv//5XbIWZravRLLI9zdQu0T2VrxfQYmZ03uSJ1HlCEDufkCnnA8gCAJJjyBNybhN0ujDLvKJRFPeBVYdGlCeiN+9qyCbW9EQHJruc3uC3r9H79SbtOXjMDyFoKWVwzFlYcJYBmUkkXLVTIdiCrAASXWfDHWEnkCzjATTL+Fxg60iYl3OmTJwzMVgahmoDCUgu4Yl9WppWVJLLQZEgOFDzCySZnycSD6btvYGpWKmj2gvpyBvyoHVUKZ9wlzpQWqgzKaMeD2msd3KA8QPyRy6FzGF/bvKQ486UpmkOdSXJ/j9UQyJGaUg9xEJpcnoECuKhsBDkoj9mkxujsgqlCAKvTg2hz/iuBmISuyKn3Hdj8PeCJww4IrIMXGIEMS+IsMA0p6E6wkU+GrxOfGBTUy6xCeW5ML0fUj0Ke9iEYxYL4RMNZKHesMl1P4CSYg7WqAyFD4X9o0gQz4iS7tmQcZLOyExw6rkO4I/ErU5tOS48C3DTRhxYVMiFQc8LZpmCQJmTDfkIi18S6s6DMSxEv00XScPshYrW3g9XzzUcOK9fqbKjSDgLYvUYPvZCZCwowhUnF6MleSu68dlpKervwRgusrBCvHlDiIjkD51hUo7/ZwekInakYYwZqUHiBd8HstNGM8ye0MAaMxwPCHoB3Ej+GjTEdKMldW6hiTuA2DyUDEyBuIMlAJ6tkC3GX9CejScITeg5cSN1J4mZE87yeO+TYTORd3gfsP76nfaSjVLGVGJfWoB3rQD5LgPqlRdf6EJP6Flsl6MDqhtGoLSyazZrhKiI+TjPvHL5T6BnCYLqCz9c7hRX9xxU1nVcqeNOXM410WZ7sN9n6vO/aJODzaHWNdsYzEICXbB1Wydu8y4TKwseThMHGmZRxv9oHnKlkesATT3JPqQnGNQrJuZZvRLCHX6l9HWH7lC39r6X8JbZnoRZPEXgFRxVIojEaoABpwCArFBLw3fTq3eClpRSu+38KUcfxutc/NUHVzXkqZhz6EilD3Oeir9N2yt17ZSOldQu2ljqNB/DD+O+CpEZdXSDK039FNalT5wrN2zVD1/o2xZqEXTwrCk2sK+lYAZHia1bPCgy/UKDmg2/zUofS6gJk+h2FyCUgUD/UYy6lc5JfSwKuFjLBgMLr1ZDs7KpeNgK7u3gTCAtgahx7aad1JiejRRjp7aP11KZdI6A+bnobI+zmCRcgW2qWrf2b2CTdwdxAVmLkEZlEkXLQ+aLTyHcTuOl1DswHUoaznwZi5diubMmKf02COsB07ycRCCU7/bkX5a+Ssa4j6kdWgi8hDApPkizVvg2KRiaui/pkdlS5WCpWPzVgdGNEGxj7qTYZ/DbHoeSQXLRrMprMaDydbyiMDUCcefro2nZ958BpI1FFYZRcJP2Fjisnq/O+aOkzvs45AU8zt2ptTsuGbV1D/tC9Pk+lv1cgx/Ww3TrJuv/VSHpukO+Ce7Xa/Wxt9M8+pb7cTstKs1s+E+tFunngyrHUrcvcbxTe60Xfw26gYR/dwpXGVPbtqXXzuj686j/DxpNGrb1+7gilaPMx49vohO6nbzLtPq7zqjth3cfyp699eUXkQd1vRazhdpfilWz0TebLTZoF60vkQR274s3FvhYDxyGv7u/YNb5wdu/2TcPMi2zF1mXhZOhTjJXm67j5lLO2OeOFn3bL82bt7l3AyfRJf7+8N6tjhu3ZTOXTcgV4NJnrT7jwWrL86bEpvuRftsfIzDSXgRtds31/XG2Px8EbS/2V92d7fd/av9mz2ZcT59vjdHBZB5ap7tm52xOXQfL7vb0W2X1G8eck7RejzLX7Ymhahqfnqs3gWNYI+2Lmr1zG30Od/dZ071tN5qdIYm3T4Y1XMey3r72/2v45u7cUuMjptfauzOqddduX1u3fr+fqFUOxlXD7xSvtNpdveat6Y7bBfuqhcledUkrVK9Wm03947d/OXuN2vSN5sQ06+fds2LJjZJp+abrcf6uXsr3WL1s3t+3j6uDuhFgTSqN7Vqw6KZwBM8YJAbwW39OPuYHXSdmiO9ySfWsnEjbDmZs2Gzflas2ub9168BlmH3dmjbmJZyzmMp/4Xe3ReDoSie82+1LhXN4eikude97u416jmreuFcbbd8HjTzjXBcwO598YDeku6ZH1yzaqtN7I4g0fV9szbMXjfEoNt9KOSK19fh2ARESaRP9zKxpdN6K/kW2xem+kk/kpKzjUVq/nrTqGUgY4UK2j9U5M3Ef5Bs3jYO/24RgM3eH1Dg1MVgCCcQD6p7GWEmgZ3CHrefb8+eG9jacBZz00eoJJl0iQxXrYynug1WbB7S55zpMQ57FpxewLHP/NiRS2ee2eniNZ0rPMsqF12PRlgkUilV7VKYQWD1nUFycVkpUZcpqlFOZzAtFmVDRMBjKWhdPJI/Z8ozAggMJfa7ZSRaJXpHhwEXErM12X3BB7pzBZP5CP197y6wLfjzeU5Zve5cO3h7+rJF88emwaEbqhuzUCLWsHwDB5ZccZV4QDZFoNZCIjUo5VKFA48xlYjhEXWx5AIO5DTocyzs9FhQSa5gZk7MZUEkprLmB3cYkBLGgr/1HQWRV3RIIDDPlyJrfLNLlhXWpx2Uy2QyujRYWMJIlNDz7ma9C0415uCWr0ESEN7fUANTH5JBcqSI3+k9CbMPi7DvT2CaCCXBtsqJ7UXfTa8f5ncPKpVmlw/Lp+PVAc04+hiXsY+UBZFE6pamYujC1ecPxkYh0xoHrLuaaVmfBxIEiB70JMxsRBoaaWpAJlDFvYphHP0OQIEB2KeqF9i35rm4hTirKZdXtl7JL30pktxCz5uiYiR8POzbWF/flPXfpIF03laMhd0DRXEDpaqAq3sdKLWflQHw3YgRHz2bEX8sOmHtbGG89n72ktoV4/k2x7L2SlYuaxf385l8wbJxKVfEdr+YL+xlD/oHB8avD/OGeBmbbp+Mo/e+PLzDD2lTCDxBjs+x3MslcpkdaIXpNHrvysMV78UfO0uyl2dv4whtcvXSYGz8gmT6PfPnj+eTIv77KfWjCbYxgUgply2UcvsOOcjk84VsKVvoF4oO3ieFwkGmb/8fJRAMFT+UPq8lxs4/I3myP5M82bdLnvjjz3+EE35JOZ592HT08rjy0v90EsnnZvpvfQPEGg==\", \"compress_html_467de0d3f28141859d7e0b0108997fef\");</script><span style=\"color: #aaaaaa; font-family: monospace\">(Loading...)</span></div></div>"
      ],
      "text/plain": [
       "<IPython.core.display.HTML object>"
      ]
     },
     "metadata": {},
     "output_type": "display_data"
    },
    {
     "data": {
      "text/html": [
       "<div id=\"compress_html_9d3d07b3e247474482d730b32db2783c\"><script>window.treescope_decompress_enqueue(\"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\", \"compress_html_9d3d07b3e247474482d730b32db2783c\");</script></div>"
      ],
      "text/plain": [
       "<IPython.core.display.HTML object>"
      ]
     },
     "metadata": {},
     "output_type": "display_data"
    },
    {
     "data": {
      "text/html": [
       "<div id=\"output_dest_185d739a08994c268d6f94f40167821b\"><script> (()=>{ const output = document.getElementById(\"output_185d739a08994c268d6f94f40167821b\"); const dest = document.getElementById(\"output_dest_185d739a08994c268d6f94f40167821b\"); dest.parentNode.replaceChild(output, dest); })(); </script></div>"
      ],
      "text/plain": [
       "[# jax.Array float32(20,) ≈5.4 ±2.9 [≥-0.014, ≤1.1e+01] nonzero:20\n",
       "   Array([11.022304  ,  9.960602  ,  9.723273  ,  7.446827  ,  7.3656707 ,\n",
       "           6.9718046 ,  6.634519  ,  6.3051505 ,  6.268656  ,  6.1738625 ,\n",
       "           5.3788037 ,  4.8796234 ,  4.4844356 ,  4.196526  ,  3.5582683 ,\n",
       "           2.7230783 ,  1.9743043 ,  1.7151848 ,  1.7031406 , -0.01442439],      dtype=float32)\n",
       " ,\n",
       " # jax.Array int32(20,) [≥3_151, ≤47_066] nonzero:20\n",
       "   Array([ 9644, 20311, 46157, 42589, 25117, 38261,  9337, 47066, 10897,\n",
       "          30124,  3151,  3398, 46627, 36916, 17215, 10069, 29942, 39270,\n",
       "           4999, 31578], dtype=int32)\n",
       " ]"
      ]
     },
     "execution_count": 69,
     "metadata": {},
     "output_type": "execute_result"
    }
   ],
   "source": [
    "jax.lax.top_k(w, 20)"
   ]
  },
  {
   "cell_type": "code",
   "execution_count": null,
   "metadata": {},
   "outputs": [],
   "source": [
    "def find_features(task, target_layer):\n",
    "    scale = 20\n",
    "    early_stopping_steps = 50\n",
    "    init_w = 0.1\n",
    "    iterations = 2000\n",
    "\n",
    "    sae = get_sae(target_layer, 6)\n",
    "    dictionary = sae[\"W_dec\"]\n",
    "\n",
    "    pairs = tasks[task]\n",
    "    pairs = [list(x) for x in pairs.items()]\n",
    "    seed = 0\n",
    "\n",
    "    dataset = ICLDataset(pairs, size=batch_size, n_prepended=0, bidirectional=False, seed=seed+1)\n",
    "\n",
    "\n",
    "    tokenized = tokenizer.batch_encode_plus([prompt.format(x) for x in dataset.prompts], padding=\"longest\", max_length=max_seq_len, truncation=True, return_tensors=\"np\")\n",
    "    inputs = tokenized_to_inputs(\n",
    "        **tokenized\n",
    "    )\n",
    "\n",
    "    target_tokens = [x[1] for x in tokenizer(dataset.completions)[\"input_ids\"]]\n",
    "    target_tokens = jnp.asarray(target_tokens)\n",
    "\n",
    "    jittify = lambda x: partial(jax.jit(lambda lr, *args, **kwargs: lr(*args, **kwargs)[1][0].value), x)\n",
    "    get_resids_initial = make_get_resids(llama, target_layer)\n",
    "    get_resids_initial = jittify(get_resids_initial)\n",
    "\n",
    "    intital_resids = get_resids_initial(inputs)\n",
    "\n",
    "    taker = jit_wrapper.Jitted(llama.select().at_instances_of(LlamaBlock).apply_with_selected_index(\n",
    "        lambda i, x: x if i >= target_layer else pz.nn.Identity()\n",
    "    ).select().at_instances_of(pz.nn.EmbeddingLookup).apply(lambda _: pz.nn.Identity())\n",
    "                    .select().at_instances_of(pz.nn.ConstantRescale).pick_nth_selected(0).apply(lambda _: pz.nn.Identity()))\n",
    "\n",
    "    optimizer = optax.chain(\n",
    "        optax.adam(3e-2),\n",
    "        optax.zero_nans(),    \n",
    "    )\n",
    "\n",
    "    lwg = jax.value_and_grad(get_loss, has_aux=True)\n",
    "    \n",
    "\n",
    "    weights = jnp.ones(dictionary.shape[0]) * init_w\n",
    "    opt_state = optimizer.init(weights)\n",
    "\n",
    "    min_loss = 1e9\n",
    "    early_stopping_counter = 0\n",
    "\n",
    "    for _ in (bar := trange(iterations)):\n",
    "        loss, weights, opt_state, metrics = train_step(weights, opt_state, dictionary, inputs, target_tokens, taker, intital_resids, optimizer, lwg)\n",
    "\n",
    "        if metrics[\"loss\"] < min_loss:\n",
    "            min_loss = metrics[\"loss\"]\n",
    "            early_stopping_counter = 0\n",
    "        \n",
    "\n",
    "        tk = jax.lax.top_k(weights, 2)\n",
    "\n",
    "        bar.set_postfix(loss_optim=loss, **metrics, top=tk[1][0], top_diff=(tk[0][0] - tk[0][1]) / tk[0][0])\n",
    "\n",
    "        early_stopping_counter += 1\n",
    "        if early_stopping_counter > early_stopping_steps:\n",
    "            break\n",
    "\n",
    "    \n",
    "    return jax.lax.top_k(jnp.abs(weights), 20)\n"
   ]
  },
  {
   "cell_type": "code",
   "execution_count": null,
   "metadata": {},
   "outputs": [
    {
     "data": {
      "application/vnd.jupyter.widget-view+json": {
       "model_id": "82ea1e746eef48259d2710fc0505dfa3",
       "version_major": 2,
       "version_minor": 0
      },
      "text/plain": [
       "  0%|          | 0/2000 [00:00<?, ?it/s]"
      ]
     },
     "metadata": {},
     "output_type": "display_data"
    },
    {
     "data": {
      "text/html": [
       "<div id=\"output_f58b50eb5a1540d7b59775e3fbd46391\"><script> /* penzai.treescope rendering of a Python object (compressed) */ (()=>{ let observer; let lastStep = new Promise((resolve, reject) => { observer = new IntersectionObserver((entries) => { for (const entry of entries) { if (entry.isIntersecting) { resolve(); observer.disconnect(); return; } } }, {rootMargin: \"1000px\"}); }); window.treescope_decompress_enqueue = (encoded, destId) => { const previous = lastStep; const destElt = document.getElementById(destId); lastStep = (async () => { await previous; let blob = new Blob([ Uint8Array.from(atob(encoded), (m) => m.codePointAt(0)) ]); let reader = blob.stream().pipeThrough( new DecompressionStream(\"deflate\") ).pipeThrough( new TextDecoderStream(\"utf-8\") ).getReader(); let parts = []; while (true) { let step = await reader.read(); if (step.done) { break; } parts.push(step.value); } let newElt = document.createElement(\"div\"); newElt.innerHTML = parts.join(\"\"); destElt.parentNode.replaceChild(newElt, destElt); for (let oldScript of newElt.querySelectorAll(\"script\")) { let newScript = document.createElement(\"script\"); newScript.type = oldScript.type; newScript.textContent = oldScript.textContent; oldScript.parentNode.replaceChild(newScript, oldScript); } })(); requestAnimationFrame(() => { observer.observe(destElt); }); } })(); </script><div id=\"compress_html_8b936896c6e54433b6700cf2155d3025\"><script>window.treescope_decompress_enqueue(\"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\", \"compress_html_8b936896c6e54433b6700cf2155d3025\");</script><span style=\"color: #aaaaaa; font-family: monospace\">(Loading...)</span></div></div>"
      ],
      "text/plain": [
       "<IPython.core.display.HTML object>"
      ]
     },
     "metadata": {},
     "output_type": "display_data"
    },
    {
     "data": {
      "text/html": [
       "<div id=\"compress_html_ed2f29a9cbaf4a09b031cd9fc7d5ae99\"><script>window.treescope_decompress_enqueue(\"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\", \"compress_html_ed2f29a9cbaf4a09b031cd9fc7d5ae99\");</script></div>"
      ],
      "text/plain": [
       "<IPython.core.display.HTML object>"
      ]
     },
     "metadata": {},
     "output_type": "display_data"
    },
    {
     "data": {
      "text/html": [
       "<div id=\"output_dest_f58b50eb5a1540d7b59775e3fbd46391\"><script> (()=>{ const output = document.getElementById(\"output_f58b50eb5a1540d7b59775e3fbd46391\"); const dest = document.getElementById(\"output_dest_f58b50eb5a1540d7b59775e3fbd46391\"); dest.parentNode.replaceChild(output, dest); })(); </script></div>"
      ],
      "text/plain": [
       "[# jax.Array float32(20,) ≈3.3 ±4.8 [≥0.42, ≤1.6e+01] nonzero:20\n",
       "   Array([16.070333  , 12.78331   , 10.591674  , 10.247323  ,  5.344763  ,\n",
       "           2.8526528 ,  1.5353229 ,  0.5156362 ,  0.50892174,  0.45389727,\n",
       "           0.45202777,  0.44730943,  0.44149902,  0.43828565,  0.4329766 ,\n",
       "           0.43184933,  0.43073234,  0.4306618 ,  0.42252657,  0.4161794 ],      dtype=float32)\n",
       " ,\n",
       " # jax.Array int32(20,) [≥2_719, ≤48_025] nonzero:20\n",
       "   Array([10018, 20311,  5145, 40023, 45145,  2719, 15415, 24802, 20375,\n",
       "          19505, 38618, 36786, 47611, 31726, 12632, 10615, 47480, 48025,\n",
       "           3048, 40850], dtype=int32)\n",
       " ]"
      ]
     },
     "execution_count": 27,
     "metadata": {},
     "output_type": "execute_result"
    }
   ],
   "source": [
    "find_features(\n",
    "    \"en_es\", 18\n",
    ")"
   ]
  },
  {
   "cell_type": "code",
   "execution_count": null,
   "metadata": {},
   "outputs": [],
   "source": [
    "sae = get_sae(target_layer, 6)"
   ]
  },
  {
   "cell_type": "code",
   "execution_count": null,
   "metadata": {},
   "outputs": [
    {
     "data": {
      "text/html": [
       "<div id=\"output_cc93e8a59e46430187b6893d24d3f6e8\"><script> /* penzai.treescope rendering of a Python object (compressed) */ (()=>{ let observer; let lastStep = new Promise((resolve, reject) => { observer = new IntersectionObserver((entries) => { for (const entry of entries) { if (entry.isIntersecting) { resolve(); observer.disconnect(); return; } } }, {rootMargin: \"1000px\"}); }); window.treescope_decompress_enqueue = (encoded, destId) => { const previous = lastStep; const destElt = document.getElementById(destId); lastStep = (async () => { await previous; let blob = new Blob([ Uint8Array.from(atob(encoded), (m) => m.codePointAt(0)) ]); let reader = blob.stream().pipeThrough( new DecompressionStream(\"deflate\") ).pipeThrough( new TextDecoderStream(\"utf-8\") ).getReader(); let parts = []; while (true) { let step = await reader.read(); if (step.done) { break; } parts.push(step.value); } let newElt = document.createElement(\"div\"); newElt.innerHTML = parts.join(\"\"); destElt.parentNode.replaceChild(newElt, destElt); for (let oldScript of newElt.querySelectorAll(\"script\")) { let newScript = document.createElement(\"script\"); newScript.type = oldScript.type; newScript.textContent = oldScript.textContent; oldScript.parentNode.replaceChild(newScript, oldScript); } })(); requestAnimationFrame(() => { observer.observe(destElt); }); } })(); </script><div id=\"compress_html_ec3f7c86c61b4f53a588313fc60aada9\"><script>window.treescope_decompress_enqueue(\"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\", \"compress_html_ec3f7c86c61b4f53a588313fc60aada9\");</script><span style=\"color: #aaaaaa; font-family: monospace\">(Loading...)</span></div></div>"
      ],
      "text/plain": [
       "<IPython.core.display.HTML object>"
      ]
     },
     "metadata": {},
     "output_type": "display_data"
    },
    {
     "data": {
      "text/html": [
       "<div id=\"compress_html_87217f0ae2ad4d5e86d661cc390ae7b5\"><script>window.treescope_decompress_enqueue(\"eNrtWG1v2zYQ/iuEgjVSG6lWYid+iQ1s6Qb0Sz8MA/ahKARKpC3ONKlRtJO06H/fkZQly3YcN0tTDFgC2JZ47/fw7shrwlao1Pecjj3CyoLj+yESUlAPMTL2plIlhE6pUpQk015KSe+ql+JBv9vrxIMejXuX9Lzbjy9TfE68yXVZYAGfRt4kSqXWcsGZoEMhtR9NJSc45TQRktBhjkt/wnFK+aS9kmg5m3HHM8xyms0pCQL0OkBfUIEJYWIWalkMUSeKe3QxQkZDmFM2y/UQxZF99zXKJAfjcZoqugJO+zhEJ5f9c9zpNASZXCyo0MltTkVC78B+Qsmz2bvWiu1fo1UsFylVGwSdQR9i2RCUWoGfmxIu4l7cqwkgHcbthiDlOJuPUAqfMyWXgoTVwgorPwxTLrO5exUAlVSEKhfFuLhDpeSMHKJ0qXyM+CuK8vuCKrBsnii6kJomuVyBo9tG75op5zzL/X73J5PWbg/FnYGTeIvLpMyU5BzYtYymTJU60SybHy110I1iI7czQPHFZXS1V7DN30F1wY5CrbAomWZSDHeUo7hEFJc0ZCKUS32GplLo8NbCdGvNZDXP8gR2T0YTTqd6A+rm0WC9l+VtOmUlNYTKbYCakgGShQZjs5zx54N0XSVs7kdogdUM3HBmZphn/nmWo9BAxcW5bYei4ruZUoHVmUIAspRYxJ7Qjvk3Qfl7ibnAC5oUik7ZHQixaSnZZ2pC13e1o9TY6KktrvPuNKAJapO8eHA7UTfLXXgfsfVlgu1qgrVqb2Vo1W3rB8CU5+g18mNwZ5OlklsCFQ2CoI5Bwxoez7vWu65flrMWuX4bVq9fMJpNBbYRDBUmbFlWDsZ0Ad497Ji19N8Z8SjEv7SahMuv2UtHNInDxF8jkPhdhoImyYfmAtvobZ2GFltsAtuMPTa0WlFaZrKAGiuljmriZAGWoAMSmDA6XXcxRGDto4THKHtQTmXy9Vs3ctn5C2Ucl+XYa5tZDWfrWa+VFRgvSAojHR7twxsEdOS1RbdSg1iZuC4phW2MQOxSeM1EsdRIw0ww9mzSUnnn7RVS5RdY31qmtr5mqtCwc6n2EMEah3N6X2Cdj70t81pdukIbajdY75hYVYtbPcObFFR8xqzJHOydAiwpYdyZYs7NJBBBSuws7L4+SP37WnphnPbb69dvq4ht6D01UtMlYFqcIiluOMwg49NGaQ6jKkTPUCWZWfR1zsrg1MXGvB57PseLlGBkoDW0n4HXQKAmHKLTPZSnI1TRYAEIxG7OOb0BBmTiDr/rkb/tzWb0tgsNahca7wD1DqmEGYcJzGG4LNT4myAStXj3Aaaaub3Jq5O786vRz0rhez88jy6uemeIWBCnUy6xji8DR9L2+mwXUSCX46KkcDRC+2LTOnR4L5D9dhSOx8IW39ORcSROHs48nEqfmHdG9mbdHcW8yeACjmAXnbjT6XcHl//l1DLylMQC1w9Mq91eT0ys4T3UoJ6/Hx24OvAOwuBkL1Z2Gsxf+G7dQGwZOtAlDgHN2zl6HVz3Js+XgM3bF6ioXI/sAnKF0/hnHXOPr2Z6dABCP3ArGc+espks33Ntp2O32laczv6P5VFha02LzZ0l2rpp8SbBt2WiNbQ/uj3qLfHgyLG7SdZfhK1AfAZq9MT3AzSeoC+ZFCWUOrtz35MSjdFH7/ib3E8jx28yAay3UCjk7cbAC0KT9sHFR0RmS1MPzeKvnJqfv9y/J35tw8fOJ3N2dZKnCs8MCUivGTNFsabvqsffKgq/5jF6bjgceYBpzR/hAsZxcmMKmG+BkxmKD1DDfa2W9rQ8lQr5nGrEgLEzgq/rJjIRp2Km4fTP3rwxp0lD5xY3tTzoE/sECgxPKZcqo+/YatOjLTZ7n+6hN2iL3z1GMFtxwNufTOd+Lc7dQFZSrJvA0Kyaa9YV9e2dgDtAbgipA2aWA0MEmHE4WeNlJ7VU/L2kS/quwsofdAHyNC39oOb9B0UEkH8=\", \"compress_html_87217f0ae2ad4d5e86d661cc390ae7b5\");</script></div>"
      ],
      "text/plain": [
       "<IPython.core.display.HTML object>"
      ]
     },
     "metadata": {},
     "output_type": "display_data"
    },
    {
     "data": {
      "text/html": [
       "<div id=\"output_dest_cc93e8a59e46430187b6893d24d3f6e8\"><script> (()=>{ const output = document.getElementById(\"output_cc93e8a59e46430187b6893d24d3f6e8\"); const dest = document.getElementById(\"output_dest_cc93e8a59e46430187b6893d24d3f6e8\"); dest.parentNode.replaceChild(output, dest); })(); </script></div>"
      ],
      "text/plain": [
       "<jax.Array(-2.375, dtype=bfloat16)>"
      ]
     },
     "execution_count": 35,
     "metadata": {},
     "output_type": "execute_result"
    }
   ],
   "source": [
    "check_feature(20311, \"en_es\", 18, sae)"
   ]
  },
  {
   "cell_type": "code",
   "execution_count": null,
   "metadata": {},
   "outputs": [],
   "source": []
  },
  {
   "cell_type": "code",
   "execution_count": null,
   "metadata": {},
   "outputs": [],
   "source": []
  }
 ],
 "metadata": {
  "kernelspec": {
   "display_name": "micrlhf-progress-_SD4q1c9-py3.12",
   "language": "python",
   "name": "python3"
  },
  "language_info": {
   "codemirror_mode": {
    "name": "ipython",
    "version": 3
   },
   "file_extension": ".py",
   "mimetype": "text/x-python",
   "name": "python",
   "nbconvert_exporter": "python",
   "pygments_lexer": "ipython3",
   "version": "3.12.3"
  }
 },
 "nbformat": 4,
 "nbformat_minor": 2
}
