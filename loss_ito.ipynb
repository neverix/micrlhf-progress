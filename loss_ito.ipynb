{
 "cells": [
  {
   "cell_type": "code",
   "execution_count": 1,
   "metadata": {},
   "outputs": [],
   "source": [
    "%load_ext autoreload\n",
    "%autoreload 2\n",
    "import penzai\n",
    "from penzai import pz\n",
    "pz.ts.register_as_default()\n",
    "pz.ts.register_autovisualize_magic()\n",
    "pz.enable_interactive_context()"
   ]
  },
  {
   "cell_type": "code",
   "execution_count": 2,
   "metadata": {},
   "outputs": [],
   "source": [
    "import random\n",
    "import jax\n",
    "import optax\n",
    "\n",
    "import jax.numpy as jnp\n",
    "import numpy as np\n",
    "\n",
    "from matplotlib import pyplot as plt\n",
    "from tqdm.auto import tqdm, trange\n",
    "from penzai.data_effects.side_output import SideOutputValue\n",
    "from micrlhf.utils.activation_manipulation import add_vector"
   ]
  },
  {
   "cell_type": "code",
   "execution_count": 3,
   "metadata": {},
   "outputs": [],
   "source": [
    "filename = \"models/phi-3-16.gguf\"\n",
    "from micrlhf.llama import LlamaTransformer\n",
    "llama = LlamaTransformer.from_pretrained(filename, device_map=\"tpu:0\")"
   ]
  },
  {
   "cell_type": "code",
   "execution_count": 4,
   "metadata": {},
   "outputs": [
    {
     "name": "stderr",
     "output_type": "stream",
     "text": [
      "/home/dmitrii/.cache/pypoetry/virtualenvs/micrlhf-progress-_SD4q1c9-py3.12/lib/python3.12/site-packages/huggingface_hub/file_download.py:1132: FutureWarning: `resume_download` is deprecated and will be removed in version 1.0.0. Downloads always resume when possible. If you want to force a new download, use `force_download=True`.\n",
      "  warnings.warn(\n",
      "Special tokens have been added in the vocabulary, make sure the associated word embeddings are fine-tuned or trained.\n"
     ]
    }
   ],
   "source": [
    "from transformers import AutoTokenizer\n",
    "tokenizer = AutoTokenizer.from_pretrained(\"microsoft/Phi-3-mini-4k-instruct\")\n",
    "tokenizer.pad_token = tokenizer.eos_token\n",
    "tokenizer.padding_side = \"left\""
   ]
  },
  {
   "cell_type": "code",
   "execution_count": 5,
   "metadata": {},
   "outputs": [
    {
     "name": "stdout",
     "output_type": "stream",
     "text": [
      "fatal: destination path 'data/itv' already exists and is not an empty directory.\n"
     ]
    },
    {
     "name": "stderr",
     "output_type": "stream",
     "text": [
      "/home/dmitrii/.pyenv/versions/3.12.3/lib/python3.12/pty.py:95: RuntimeWarning: os.fork() was called. os.fork() is incompatible with multithreaded code, and JAX is multithreaded, so this will likely lead to a deadlock.\n",
      "  pid, fd = os.forkpty()\n"
     ]
    }
   ],
   "source": [
    "!git clone https://github.com/roeehendel/icl_task_vectors data/itv\n",
    "import glob\n",
    "import json\n",
    "import os\n",
    "tasks = {}\n",
    "for g in glob.glob(\"data/itv/data/**/*.json\"):\n",
    "    tasks[os.path.basename(g).partition(\".\")[0]] = json.load(open(g))"
   ]
  },
  {
   "cell_type": "code",
   "execution_count": 6,
   "metadata": {},
   "outputs": [],
   "source": [
    "from micrlhf.llama import LlamaBlock\n",
    "from micrlhf.sampling import sample, jit_wrapper\n",
    "get_resids = llama.select().at_instances_of(LlamaBlock).apply_with_selected_index(lambda i, x:\n",
    "    pz.nn.Sequential([\n",
    "        pz.de.TellIntermediate.from_config(tag=f\"resid_pre_{i}\"),\n",
    "        x\n",
    "    ])\n",
    ")\n",
    "get_resids = pz.de.CollectingSideOutputs.handling(get_resids, tag_predicate=lambda x: x.startswith(\"resid_pre\"))\n",
    "get_resids_call = jit_wrapper.Jitted(get_resids)"
   ]
  },
  {
   "cell_type": "code",
   "execution_count": 7,
   "metadata": {},
   "outputs": [
    {
     "name": "stdout",
     "output_type": "stream",
     "text": [
      "Tuple-representation of the sequence:\n",
      "(hot, cold), (yes, no), (in, out), up ->\n",
      "\n",
      "Actual prompt, which will be fed into the model:\n",
      "hot -> cold, yes -> no, in -> out, up ->\n"
     ]
    }
   ],
   "source": [
    "from typing import List\n",
    "\n",
    "class ICLSequence:\n",
    "    '''\n",
    "    Class to store a single antonym sequence.\n",
    "\n",
    "    Uses the default template \"Q: {x}\\nA: {y}\" (with separate pairs split by \"\\n\\n\").\n",
    "    '''\n",
    "    def __init__(self, word_pairs: List[List[str]]):\n",
    "        self.word_pairs = word_pairs\n",
    "        self.x, self.y = zip(*word_pairs)\n",
    "\n",
    "    def __len__(self):\n",
    "        return len(self.word_pairs)\n",
    "\n",
    "    def __getitem__(self, idx: int):\n",
    "        return self.word_pairs[idx]\n",
    "\n",
    "    # def prompt(self):\n",
    "    #     '''Returns the prompt, which contains all but the second element in the last word pair.'''\n",
    "    #     p = \"\\n\\n\".join([f\"Q: {x}\\nA: {y}\" for x, y in self.word_pairs])\n",
    "    #     return p[:-len(self.completion())]\n",
    "\n",
    "    def prompt(self):\n",
    "        '''Returns the prompt, which contains all but the second element in the last word pair.'''\n",
    "        p = \", \".join([f\"{x} -> {y}\" for x, y in self.word_pairs])\n",
    "        return p[:-len(self.completion())-1]\n",
    "\n",
    "    def completion(self):\n",
    "        '''Returns the second element in the last word pair (with padded space).'''\n",
    "        return \"\" + self.y[-1]\n",
    "\n",
    "    def __str__(self):\n",
    "        '''Prints a readable string representation of the prompt & completion (indep of template).'''\n",
    "        return f\"{', '.join([f'({x}, {y})' for x, y in self[:-1]])}, {self.x[-1]} ->\".strip(\", \")\n",
    "\n",
    "\n",
    "word_list = [[\"hot\", \"cold\"], [\"yes\", \"no\"], [\"in\", \"out\"], [\"up\", \"down\"]]\n",
    "seq = ICLSequence(word_list)\n",
    "\n",
    "print(\"Tuple-representation of the sequence:\")\n",
    "print(seq)\n",
    "print(\"\\nActual prompt, which will be fed into the model:\")\n",
    "print(seq.prompt())"
   ]
  },
  {
   "cell_type": "code",
   "execution_count": 8,
   "metadata": {},
   "outputs": [],
   "source": [
    "class ICLDataset:\n",
    "    '''\n",
    "    Dataset to create antonym pair prompts, in ICL task format. We use random seeds for consistency\n",
    "    between the corrupted and clean datasets.\n",
    "\n",
    "    Inputs:\n",
    "        word_pairs:\n",
    "            list of ICL task, e.g. [[\"old\", \"young\"], [\"top\", \"bottom\"], ...] for the antonym task\n",
    "        size:\n",
    "            number of prompts to generate\n",
    "        n_prepended:\n",
    "            number of antonym pairs before the single-word ICL task\n",
    "        bidirectional:\n",
    "            if True, then we also consider the reversed antonym pairs\n",
    "        corrupted:\n",
    "            if True, then the second word in each pair is replaced with a random word\n",
    "        seed:\n",
    "            random seed, for consistency & reproducibility\n",
    "    '''\n",
    "\n",
    "    def __init__(\n",
    "        self,\n",
    "        word_pairs: List[List[str]],\n",
    "        size: int,\n",
    "        n_prepended: int,\n",
    "        bidirectional: bool = True,\n",
    "        seed: int = 0,\n",
    "        corrupted: bool = False,\n",
    "    ):\n",
    "        assert n_prepended+1 <= len(word_pairs), \"Not enough antonym pairs in dataset to create prompt.\"\n",
    "\n",
    "        self.word_pairs = word_pairs\n",
    "        self.word_list = [word for word_pair in word_pairs for word in word_pair]\n",
    "        self.size = size\n",
    "        self.n_prepended = n_prepended\n",
    "        self.bidirectional = bidirectional\n",
    "        self.corrupted = corrupted\n",
    "        self.seed = seed\n",
    "\n",
    "        self.seqs = []\n",
    "        self.prompts = []\n",
    "        self.completions = []\n",
    "\n",
    "        # Generate the dataset (by choosing random antonym pairs, and constructing `ICLSequence` objects)\n",
    "        for n in range(size):\n",
    "            np.random.seed(seed + n)\n",
    "            random_pairs = np.random.choice(len(self.word_pairs), n_prepended+1, replace=False)\n",
    "            random_orders = np.random.choice([1, -1], n_prepended+1)\n",
    "            if not(bidirectional): random_orders[:] = 1\n",
    "            word_pairs = [self.word_pairs[pair][::order] for pair, order in zip(random_pairs, random_orders)]\n",
    "            if corrupted:\n",
    "                for i in range(len(word_pairs) - 1):\n",
    "                    word_pairs[i][1] = np.random.choice(self.word_list)\n",
    "            seq = ICLSequence(word_pairs)\n",
    "\n",
    "            self.seqs.append(seq)\n",
    "            self.prompts.append(seq.prompt())\n",
    "            self.completions.append(seq.completion())\n",
    "\n",
    "    def create_corrupted_dataset(self):\n",
    "        '''Creates a corrupted version of the dataset (with same random seed).'''\n",
    "        return ICLDataset(self.word_pairs, self.size, self.n_prepended, self.bidirectional, corrupted=True, seed=self.seed)\n",
    "\n",
    "    def __len__(self):\n",
    "        return self.size\n",
    "\n",
    "    def __getitem__(self, idx: int):\n",
    "        return self.seqs[idx]"
   ]
  },
  {
   "cell_type": "code",
   "execution_count": 9,
   "metadata": {},
   "outputs": [],
   "source": [
    "def tokenized_to_inputs(input_ids, attention_mask):\n",
    "    token_array = jnp.asarray(input_ids)\n",
    "    token_array = jax.device_put(token_array, jax.sharding.NamedSharding(llama.mesh, jax.sharding.PartitionSpec(\"dp\", \"sp\")))\n",
    "    token_array = pz.nx.wrap(token_array, \"batch\", \"seq\").untag(\"batch\").tag(\"batch\")\n",
    "\n",
    "    mask_array = jnp.asarray(attention_mask, dtype=jnp.bool)\n",
    "    mask_array = jax.device_put(mask_array, jax.sharding.NamedSharding(llama.mesh, jax.sharding.PartitionSpec(\"dp\", \"sp\")))\n",
    "    mask_array = pz.nx.wrap(mask_array, \"batch\", \"seq\").untag(\"batch\").tag(\"batch\")\n",
    "\n",
    "    inputs = llama.inputs.from_basic_segments(token_array)\n",
    "    return inputs"
   ]
  },
  {
   "cell_type": "code",
   "execution_count": 10,
   "metadata": {},
   "outputs": [],
   "source": [
    "prompt = \"<user>Follow the pattern\\n{}\"\n",
    "target_layer = 17"
   ]
  },
  {
   "cell_type": "code",
   "execution_count": 13,
   "metadata": {},
   "outputs": [],
   "source": [
    "task_names = [\n",
    "    \"en_es\"\n",
    "]\n",
    "\n",
    "task = \"en_es\"\n",
    "\n",
    "n_seeds = 10\n",
    "\n",
    "# n_few_shots, batch_size, max_seq_len = 64, 64, 512\n",
    "n_few_shots, batch_size, max_seq_len = 20, 64, 256"
   ]
  },
  {
   "cell_type": "code",
   "execution_count": 12,
   "metadata": {},
   "outputs": [
    {
     "name": "stderr",
     "output_type": "stream",
     "text": [
      "--2024-05-21 18:26:43--  https://huggingface.co/nev/phi-3-4k-saex-test/resolve/main/l17-test-run-6-4.52E-06/sae_weights.safetensors?download=true\n",
      "Resolving huggingface.co (huggingface.co)... 108.156.211.90, 108.156.211.51, 108.156.211.125, ...\n",
      "Connecting to huggingface.co (huggingface.co)|108.156.211.90|:443... connected.\n",
      "HTTP request sent, awaiting response... 302 Found\n",
      "Location: https://cdn-lfs-us-1.huggingface.co/repos/eb/d8/ebd889d6ac58573e8e8a7aa1176d4d357581a6da60135b94aca378fddf4e9e54/1623d8da38be3171fcc8516a4cbe9fdb80e3d77e370aa5690895697649d688f3?response-content-disposition=attachment%3B+filename*%3DUTF-8%27%27sae_weights.safetensors%3B+filename%3D%22sae_weights.safetensors%22%3B&Expires=1716575204&Policy=eyJTdGF0ZW1lbnQiOlt7IkNvbmRpdGlvbiI6eyJEYXRlTGVzc1RoYW4iOnsiQVdTOkVwb2NoVGltZSI6MTcxNjU3NTIwNH19LCJSZXNvdXJjZSI6Imh0dHBzOi8vY2RuLWxmcy11cy0xLmh1Z2dpbmdmYWNlLmNvL3JlcG9zL2ViL2Q4L2ViZDg4OWQ2YWM1ODU3M2U4ZThhN2FhMTE3NmQ0ZDM1NzU4MWE2ZGE2MDEzNWI5NGFjYTM3OGZkZGY0ZTllNTQvMTYyM2Q4ZGEzOGJlMzE3MWZjYzg1MTZhNGNiZTlmZGI4MGUzZDc3ZTM3MGFhNTY5MDg5NTY5NzY0OWQ2ODhmMz9yZXNwb25zZS1jb250ZW50LWRpc3Bvc2l0aW9uPSoifV19&Signature=LcjTmhIsY1JWv-nitWGALDJhwtH06t%7Es8isJExMTl8oX3UtwqnXSvZfSG1E7RJW1VwhRG09rIAxoFxSICoLja5hOaPv0pfxzxZ8m6gqLn9WDcOlbCBiLS3nbe5GYkZTtrqKxK7YNNILOLz2yI68xGhr10ckP%7EMIoAB3UeecZ6xNRh2kfA9q6SXikquSD-CEU0GNAIUJqwMYNFilCTzeuS3Yov7cu%7Eaw7KHxYbrhVh8TSWK6fZgC8E8kXNXrfpSmOhDekmq1e7LgRpMg9THNTXqGO5hb3ZUBcAu-T3KEi2KzaC08wU1tR1wPLRqwYL4QhjPIvzuuGga1FctK9mOHfhg__&Key-Pair-Id=KCD77M1F0VK2B [following]\n",
      "--2024-05-21 18:26:44--  https://cdn-lfs-us-1.huggingface.co/repos/eb/d8/ebd889d6ac58573e8e8a7aa1176d4d357581a6da60135b94aca378fddf4e9e54/1623d8da38be3171fcc8516a4cbe9fdb80e3d77e370aa5690895697649d688f3?response-content-disposition=attachment%3B+filename*%3DUTF-8%27%27sae_weights.safetensors%3B+filename%3D%22sae_weights.safetensors%22%3B&Expires=1716575204&Policy=eyJTdGF0ZW1lbnQiOlt7IkNvbmRpdGlvbiI6eyJEYXRlTGVzc1RoYW4iOnsiQVdTOkVwb2NoVGltZSI6MTcxNjU3NTIwNH19LCJSZXNvdXJjZSI6Imh0dHBzOi8vY2RuLWxmcy11cy0xLmh1Z2dpbmdmYWNlLmNvL3JlcG9zL2ViL2Q4L2ViZDg4OWQ2YWM1ODU3M2U4ZThhN2FhMTE3NmQ0ZDM1NzU4MWE2ZGE2MDEzNWI5NGFjYTM3OGZkZGY0ZTllNTQvMTYyM2Q4ZGEzOGJlMzE3MWZjYzg1MTZhNGNiZTlmZGI4MGUzZDc3ZTM3MGFhNTY5MDg5NTY5NzY0OWQ2ODhmMz9yZXNwb25zZS1jb250ZW50LWRpc3Bvc2l0aW9uPSoifV19&Signature=LcjTmhIsY1JWv-nitWGALDJhwtH06t%7Es8isJExMTl8oX3UtwqnXSvZfSG1E7RJW1VwhRG09rIAxoFxSICoLja5hOaPv0pfxzxZ8m6gqLn9WDcOlbCBiLS3nbe5GYkZTtrqKxK7YNNILOLz2yI68xGhr10ckP%7EMIoAB3UeecZ6xNRh2kfA9q6SXikquSD-CEU0GNAIUJqwMYNFilCTzeuS3Yov7cu%7Eaw7KHxYbrhVh8TSWK6fZgC8E8kXNXrfpSmOhDekmq1e7LgRpMg9THNTXqGO5hb3ZUBcAu-T3KEi2KzaC08wU1tR1wPLRqwYL4QhjPIvzuuGga1FctK9mOHfhg__&Key-Pair-Id=KCD77M1F0VK2B\n",
      "Resolving cdn-lfs-us-1.huggingface.co (cdn-lfs-us-1.huggingface.co)... 18.245.124.86, 18.245.124.17, 18.245.124.35, ...\n",
      "Connecting to cdn-lfs-us-1.huggingface.co (cdn-lfs-us-1.huggingface.co)|18.245.124.86|:443... connected.\n",
      "HTTP request sent, awaiting response... 416 Requested Range Not Satisfiable\n",
      "\n",
      "    The file is already fully retrieved; nothing to do.\n",
      "\n"
     ]
    }
   ],
   "source": [
    "from micrlhf.utils.load_sae import get_sae\n",
    "sae = get_sae(target_layer, 6)"
   ]
  },
  {
   "cell_type": "code",
   "execution_count": 14,
   "metadata": {},
   "outputs": [
    {
     "data": {
      "text/html": [
       "<div id=\"output_c7888c36307043dc94f3e50b9aa605e1\"><script> /* penzai.treescope rendering of a Python object (compressed) */ (()=>{ let observer; let lastStep = new Promise((resolve, reject) => { observer = new IntersectionObserver((entries) => { for (const entry of entries) { if (entry.isIntersecting) { resolve(); observer.disconnect(); return; } } }, {rootMargin: \"1000px\"}); }); window.treescope_decompress_enqueue = (encoded, destId) => { const previous = lastStep; const destElt = document.getElementById(destId); lastStep = (async () => { await previous; let blob = new Blob([ Uint8Array.from(atob(encoded), (m) => m.codePointAt(0)) ]); let reader = blob.stream().pipeThrough( new DecompressionStream(\"deflate\") ).pipeThrough( new TextDecoderStream(\"utf-8\") ).getReader(); let parts = []; while (true) { let step = await reader.read(); if (step.done) { break; } parts.push(step.value); } let newElt = document.createElement(\"div\"); newElt.innerHTML = parts.join(\"\"); destElt.parentNode.replaceChild(newElt, destElt); for (let oldScript of newElt.querySelectorAll(\"script\")) { let newScript = document.createElement(\"script\"); newScript.type = oldScript.type; newScript.textContent = oldScript.textContent; oldScript.parentNode.replaceChild(newScript, oldScript); } })(); requestAnimationFrame(() => { observer.observe(destElt); }); } })(); </script><div id=\"compress_html_124ff1d88bd6429c8af410bf15017895\"><script>window.treescope_decompress_enqueue(\"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\", \"compress_html_124ff1d88bd6429c8af410bf15017895\");</script><span style=\"color: #aaaaaa; font-family: monospace\">(Loading...)</span></div></div>"
      ],
      "text/plain": [
       "<IPython.core.display.HTML object>"
      ]
     },
     "metadata": {},
     "output_type": "display_data"
    },
    {
     "data": {
      "text/html": [
       "<div id=\"output_dest_c7888c36307043dc94f3e50b9aa605e1\"><script> (()=>{ const output = document.getElementById(\"output_c7888c36307043dc94f3e50b9aa605e1\"); const dest = document.getElementById(\"output_dest_c7888c36307043dc94f3e50b9aa605e1\"); dest.parentNode.replaceChild(output, dest); })(); </script></div>"
      ],
      "text/plain": [
       "(49152, 3072)"
      ]
     },
     "execution_count": 14,
     "metadata": {},
     "output_type": "execute_result"
    }
   ],
   "source": [
    "dictionary = sae[\"W_dec\"]\n",
    "dictionary.shape"
   ]
  },
  {
   "cell_type": "code",
   "execution_count": 15,
   "metadata": {},
   "outputs": [],
   "source": [
    "pairs = tasks[task]\n",
    "pairs = [list(x) for x in pairs.items()]\n",
    "seed = 0\n",
    "\n",
    "dataset = ICLDataset(pairs, size=batch_size, n_prepended=0, bidirectional=False, seed=seed+1)\n",
    "\n",
    "\n",
    "tokenized = tokenizer.batch_encode_plus([prompt.format(x) for x in dataset.prompts], padding=\"longest\", max_length=max_seq_len, truncation=True, return_tensors=\"np\")\n",
    "inputs = tokenized_to_inputs(\n",
    "    **tokenized\n",
    ")\n",
    "\n",
    "target_tokens = [x[1] for x in tokenizer(dataset.completions)[\"input_ids\"]]\n",
    "target_tokens = jnp.asarray(target_tokens)"
   ]
  },
  {
   "cell_type": "code",
   "execution_count": 16,
   "metadata": {},
   "outputs": [],
   "source": [
    "def get_logprob_diff(logits: jnp.ndarray, target_tokens, print_results=False):\n",
    "    # print(logits)\n",
    "    logprobs = jax.nn.log_softmax(logits, axis=-1)\n",
    "    answer_logprobs = logprobs[:, -1]\n",
    "\n",
    "    target_logprobs = jnp.take_along_axis(answer_logprobs, target_tokens[:, None], axis=-1).squeeze()\n",
    "\n",
    "    if print_results:\n",
    "        print(\n",
    "            tokenizer.decode(answer_logprobs.argmax(axis=-1))\n",
    "        )\n",
    "\n",
    "        print(\n",
    "            tokenizer.decode(target_tokens)\n",
    "        )\n",
    "\n",
    "    return target_logprobs\n"
   ]
  },
  {
   "cell_type": "code",
   "execution_count": 17,
   "metadata": {},
   "outputs": [],
   "source": [
    "from micrlhf.llama import LlamaBlock\n",
    "from functools import partial\n",
    "\n",
    "\n",
    "layer_source = 17\n",
    "def make_get_resids(llama, layer_target):\n",
    "    get_resids = llama.select().at_instances_of(LlamaBlock).pick_nth_selected(layer_target\n",
    "                                                                              ).apply(lambda x:\n",
    "        pz.nn.Sequential([\n",
    "            pz.de.TellIntermediate.from_config(tag=f\"resid_pre\"),\n",
    "            x\n",
    "        ])\n",
    "    )\n",
    "    get_resids = pz.de.CollectingSideOutputs.handling(get_resids, tag_predicate=lambda x: x.startswith(\"resid_pre\"))\n",
    "    return get_resids\n",
    "jittify = lambda x: partial(jax.jit(lambda lr, *args, **kwargs: lr(*args, **kwargs)[1][0].value), x)\n",
    "get_resids_initial = make_get_resids(llama, layer_source)\n",
    "get_resids_initial = jittify(get_resids_initial)"
   ]
  },
  {
   "cell_type": "code",
   "execution_count": 18,
   "metadata": {},
   "outputs": [],
   "source": [
    "intital_resids = get_resids_initial(inputs)"
   ]
  },
  {
   "cell_type": "code",
   "execution_count": 19,
   "metadata": {},
   "outputs": [],
   "source": [
    "layer_target = 17\n",
    "\n",
    "taker = jit_wrapper.Jitted(llama.select().at_instances_of(LlamaBlock).apply_with_selected_index(\n",
    "    lambda i, x: x if i >= layer_target else pz.nn.Identity()\n",
    ").select().at_instances_of(pz.nn.EmbeddingLookup).apply(lambda _: pz.nn.Identity())\n",
    "                .select().at_instances_of(pz.nn.ConstantRescale).pick_nth_selected(0).apply(lambda _: pz.nn.Identity()))"
   ]
  },
  {
   "cell_type": "code",
   "execution_count": 39,
   "metadata": {},
   "outputs": [],
   "source": [
    "import dataclasses\n",
    "\n",
    "\n",
    "scale = 20\n",
    "\n",
    "\n",
    "def get_loss(weights, dictionary, inputs, target_tokens):\n",
    "    # weights = weights / weights.max()\n",
    "    weights = jax.nn.relu(weights)\n",
    "    \n",
    "\n",
    "    recon = jnp.einsum(\"fv,f->v\", dictionary, weights)\n",
    "    # act_add = add_vector(\n",
    "    #     llama, recon.astype('bfloat16'), target_layer, 1.0, position=\"last\"\n",
    "    # )\n",
    "    # recon = recon / jnp.linalg.norm(recon) * scale\n",
    "    recon = recon.astype('bfloat16')\n",
    "\n",
    "    modified = pz.nx.nmap(lambda a, b: a.at[-1].add(b))(\n",
    "        intital_resids.untag(\"seq\", \"embedding\"), pz.nx.wrap(recon, \"embedding\").untag(\"embedding\")\n",
    "        ).tag(\"seq\", \"embedding\")\n",
    "\n",
    "    inputs = dataclasses.replace(inputs, tokens=modified)\n",
    "\n",
    "    # print(inputs)\n",
    "\n",
    "    logits = taker(inputs).unwrap(\"batch\", \"seq\", \"vocabulary\")\n",
    "\n",
    "    # logits = act_add(inputs).unwrap(\"batch\", \"seq\", \"vocabulary\")\n",
    "\n",
    "    logprob_diff = get_logprob_diff(logits, target_tokens)\n",
    "    loss = -logprob_diff.mean()\n",
    "\n",
    "    # return loss + 1e-2 * (jnp.abs(weights) / (jnp.abs(weights) + 0.1)).sum(), ((weights != 0).sum(), loss)\n",
    "    # return loss + 1e-5 * jnp.linalg.norm(weights, ord=0.5), ((weights != 0).sum(), loss)\n",
    "    return loss + 3e-2 * jnp.linalg.norm(weights, ord=1), ((weights != 0).sum(), loss)\n",
    "    # return loss, ((weights != 0).sum(), loss)"
   ]
  },
  {
   "cell_type": "code",
   "execution_count": 45,
   "metadata": {},
   "outputs": [],
   "source": [
    "from functools import partial\n",
    "\n",
    "optimizer = optax.chain(\n",
    "    # optax.clip_by_global_norm(1.0),\n",
    "    # optax.adam(1e-3, b1=0, b2=0.99),\n",
    "    optax.adam(3e-2),\n",
    "    optax.zero_nans(),\n",
    "    \n",
    ")\n",
    "\n",
    "lwg = jax.value_and_grad(get_loss, has_aux=True)\n",
    "# lwg = jax.jit(lwg)\n",
    "shrinkage = 0\n",
    "\n",
    "# @partial(jax.jit, donate_argnums=(0, 1))\n",
    "def train_step(weights, opt_state, dictionary, inputs, target_tokens, pos_only=True):\n",
    "    (loss, (l0, loss_)), grad = lwg(weights, dictionary, inputs, target_tokens)\n",
    "\n",
    "    updates, opt_state = optimizer.update(grad, opt_state, weights)\n",
    "    weights = optax.apply_updates(weights, updates)\n",
    "    # weights_abs = jnp.abs(weights)\n",
    "    # weights = jnp.sign(weights) * jax.nn.relu(weights_abs - shrinkage)\n",
    "\n",
    "    return loss, weights, opt_state, dict(l0=l0, loss=loss_)"
   ]
  },
  {
   "cell_type": "code",
   "execution_count": 46,
   "metadata": {},
   "outputs": [
    {
     "data": {
      "application/vnd.jupyter.widget-view+json": {
       "model_id": "44992333c6504da1a0438d04bd0eb412",
       "version_major": 2,
       "version_minor": 0
      },
      "text/plain": [
       "  0%|          | 0/150 [00:00<?, ?it/s]"
      ]
     },
     "metadata": {},
     "output_type": "display_data"
    }
   ],
   "source": [
    "iterations = 150\n",
    "\n",
    "weights = jnp.ones(dictionary.shape[0]) * 0.1\n",
    "opt_state = optimizer.init(weights)\n",
    "\n",
    "\n",
    "for _ in (bar := trange(iterations)):\n",
    "    loss, weights, opt_state, metrics = train_step(weights, opt_state, dictionary, inputs, target_tokens)\n",
    "\n",
    "    tk = jax.lax.top_k(weights, 2)\n",
    "\n",
    "    bar.set_postfix(loss_optim=loss, **metrics, top=tk[1][0], top_diff=(tk[0][0] - tk[0][1]) / tk[0][0])"
   ]
  },
  {
   "cell_type": "code",
   "execution_count": 47,
   "metadata": {},
   "outputs": [
    {
     "data": {
      "text/html": [
       "<div id=\"output_4164cdfe8ed94c869d0b996d1f94a495\"><script> /* penzai.treescope rendering of a Python object (compressed) */ (()=>{ let observer; let lastStep = new Promise((resolve, reject) => { observer = new IntersectionObserver((entries) => { for (const entry of entries) { if (entry.isIntersecting) { resolve(); observer.disconnect(); return; } } }, {rootMargin: \"1000px\"}); }); window.treescope_decompress_enqueue = (encoded, destId) => { const previous = lastStep; const destElt = document.getElementById(destId); lastStep = (async () => { await previous; let blob = new Blob([ Uint8Array.from(atob(encoded), (m) => m.codePointAt(0)) ]); let reader = blob.stream().pipeThrough( new DecompressionStream(\"deflate\") ).pipeThrough( new TextDecoderStream(\"utf-8\") ).getReader(); let parts = []; while (true) { let step = await reader.read(); if (step.done) { break; } parts.push(step.value); } let newElt = document.createElement(\"div\"); newElt.innerHTML = parts.join(\"\"); destElt.parentNode.replaceChild(newElt, destElt); for (let oldScript of newElt.querySelectorAll(\"script\")) { let newScript = document.createElement(\"script\"); newScript.type = oldScript.type; newScript.textContent = oldScript.textContent; oldScript.parentNode.replaceChild(newScript, oldScript); } })(); requestAnimationFrame(() => { observer.observe(destElt); }); } })(); </script><div id=\"compress_html_ec2a023446de44eeb3d9e49072024bc0\"><script>window.treescope_decompress_enqueue(\"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\", \"compress_html_ec2a023446de44eeb3d9e49072024bc0\");</script><span style=\"color: #aaaaaa; font-family: monospace\">(Loading...)</span></div></div>"
      ],
      "text/plain": [
       "<IPython.core.display.HTML object>"
      ]
     },
     "metadata": {},
     "output_type": "display_data"
    },
    {
     "data": {
      "text/html": [
       "<div id=\"compress_html_d2a8f7f88f8c40bb966629bc4e82e5af\"><script>window.treescope_decompress_enqueue(\"eNrtWG1v2zYQ/iuEgjVSG6uyYyd+iQ1s6Qb0Sz8MA/ahKARKpCwuNKlRtJO06H/fkZQly3YcN0tTDFgC2JZ47/fw7sgrwlao1PecTj3CyoLj+zESUlAPMTL1MqliQjOqFCUxxRcki7LokiZZfzhK8PlogC97/Sjr0z4ept7sqiywgE8jbxYmUmu54EzQsZDaDzPJCU44jYUkdJzj0p9xnFA+a6/EWs7n3PGM05ymN5QEAXodoC+owIQwMe9oWYxRFHYHdDFBRkMnp2ye6zHqhvbd1zCVHIzHSaLoCjjt4xidXAx7OIoaglQuFlTo+DanIqZ3YD+h5NnsXWvF9q/RKpaLhKoNgmg07A4uGoJSK/BzU8J5d9Ad1ASQDuN2Q5BwnN5MUAKfcyWXgnSqhRVWfqeTcJneuFcBUElFqHJR7BZ3qJSckUOULpWPEX9FYX5fUAWW3cSKLqSmcS5X4Oi20btmyhue5v6w/5NJa3+AutHISbzFZVymSnIO7FqGGVOljjVLb46WOuqHXSM3GqHu+UV4uVewzd9BdcGOQq2wKJlmUox3lKNuiSguaYeJjlzqM5RJoTu3FqZbayareZrHsHtSGnOa6Q2om0eD9UGat+mUldQQKrcBakoGSBYajE1zxp8P0nWVsLmfoAVWc3DDmZlinvq9NEcdAxUX57YdiorvZkoFVmcKAchSYhF7QiPzb4Ly9xJzgRc0LhTN2B0IsWkp2WdqQjd0taPU2OipLa7z7jSgGWqTvHhwo7Cf5i68j9j6MsF2NcFatbcytOq29QNgynP0GvldcGeTpZJbAhUNgqCOQcPaOZ53rXddvyxnLXL9tlO9fsFoNhXYRrCjMGHLsnKwSxfg3cOOWUv/nRGPQvxLq0m4/Jq9dESTOEz8NQSJ32UoaJJ8aC6wjd7WaWixxSawzdhjQ6sVpWUqC6ixUuqwJo4XYAk6IIEJo9N1F0ME1j5KeIyyB+VUJl+9dSOXnb9QynFZTr22mdVwtp71WlmB8YIkw/4AT/bhDQI68dqiW6lBrIxdl5TCNkYgdim8YqJYaqRhJph6NmmJvPP2CqnyC6xvLVNbXzNVaNi5VHuIYI07N/S+wDqfelvmtbp0hTbUbrDeMbGqFrd6hjcrqPiMWZM52DsFWFLCuJNhzs0kEEJK7Czsvj5I/ftaemGc9tvrV2+riG3oPTVSkyVgWpwiKa45zCDT00ZpDqMqRM9QxalZ9HXOyuDUxca8nno+x4uEYGSgNbafgddAoCYco9M9lKcTVNFgAQjEbs45vQYGZOIOv+uRv+3NZvS2Cw1qFxrvAPUOqYQZhwnMYbgs1PSbIBK2ePcBppq5vdmrk7ve5eRnpfC9fx52e/3RYHSGiIVxxiXW573A0bTdPtuFFAjmuCgp8WZoX3Bapw7vBdLfDsPxYNjiezo0jgTKw6mHY+kTE8/I3rS7s5g3G/XPz0dRr9cfXvai6L+cWkaekljg+oFptbvriYk1vIc61PM3pAN3B95BGJzsxcpOh/kL3607iK1DB9rEIaB5O2evg+ve7PkSsHn9AiWV64ldQK5wGv+sY+7x1VxPDkDoB24l49lTNpPle67tdOxW24rT2f+xPCpsrXGxubREW1ct3iz4tky0pvZHt0e9JR6eOXZ3yfqLsBXIT0GPnvl+gKYz9CWVooRaZ7fue1KiKfroHX+X+2ni+E0qgPUWKoW83Rh5QWjcPrr4iMh0aQqiWfyVU/Pzl/v3xK9t+Bh9MqdXJzlTeG5IQHrNmCqKNX1XPf5WUfg1j9FzzeHQA0xr/hAXMJCTa1PBfIuc1FB8gCLua7W05+VMKuRzqhEDxmgCX1dNZEJOxVzD+Z+9eWPOk4bOLW5qedAn9gkUGJ5SLlVK37HVpkdbbPZG3UNv0Ba/ewxhuOIAuD+Zzv1anLuDrKRYN4GhWTUXrSvq21sBd4TcEFIHzCwHhggw43CyxstOaqn4e0mX9F2FlT/oAuRpWvpBzfsPnVKSEw==\", \"compress_html_d2a8f7f88f8c40bb966629bc4e82e5af\");</script></div>"
      ],
      "text/plain": [
       "<IPython.core.display.HTML object>"
      ]
     },
     "metadata": {},
     "output_type": "display_data"
    },
    {
     "data": {
      "text/html": [
       "<div id=\"output_dest_4164cdfe8ed94c869d0b996d1f94a495\"><script> (()=>{ const output = document.getElementById(\"output_4164cdfe8ed94c869d0b996d1f94a495\"); const dest = document.getElementById(\"output_dest_4164cdfe8ed94c869d0b996d1f94a495\"); dest.parentNode.replaceChild(output, dest); })(); </script></div>"
      ],
      "text/plain": [
       "<jax.Array(3.124959, dtype=float32)>"
      ]
     },
     "execution_count": 47,
     "metadata": {},
     "output_type": "execute_result"
    }
   ],
   "source": [
    "weights[37312]"
   ]
  },
  {
   "cell_type": "code",
   "execution_count": 48,
   "metadata": {},
   "outputs": [
    {
     "data": {
      "text/html": [
       "<div id=\"output_ba765a2b511f4d39a34af3bf1137dc99\"><script> /* penzai.treescope rendering of a Python object (compressed) */ (()=>{ let observer; let lastStep = new Promise((resolve, reject) => { observer = new IntersectionObserver((entries) => { for (const entry of entries) { if (entry.isIntersecting) { resolve(); observer.disconnect(); return; } } }, {rootMargin: \"1000px\"}); }); window.treescope_decompress_enqueue = (encoded, destId) => { const previous = lastStep; const destElt = document.getElementById(destId); lastStep = (async () => { await previous; let blob = new Blob([ Uint8Array.from(atob(encoded), (m) => m.codePointAt(0)) ]); let reader = blob.stream().pipeThrough( new DecompressionStream(\"deflate\") ).pipeThrough( new TextDecoderStream(\"utf-8\") ).getReader(); let parts = []; while (true) { let step = await reader.read(); if (step.done) { break; } parts.push(step.value); } let newElt = document.createElement(\"div\"); newElt.innerHTML = parts.join(\"\"); destElt.parentNode.replaceChild(newElt, destElt); for (let oldScript of newElt.querySelectorAll(\"script\")) { let newScript = document.createElement(\"script\"); newScript.type = oldScript.type; newScript.textContent = oldScript.textContent; oldScript.parentNode.replaceChild(newScript, oldScript); } })(); requestAnimationFrame(() => { observer.observe(destElt); }); } })(); </script><div id=\"compress_html_29d9a5b7899544289da92fcc7e4fb45e\"><script>window.treescope_decompress_enqueue(\"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\", \"compress_html_29d9a5b7899544289da92fcc7e4fb45e\");</script><span style=\"color: #aaaaaa; font-family: monospace\">(Loading...)</span></div></div>"
      ],
      "text/plain": [
       "<IPython.core.display.HTML object>"
      ]
     },
     "metadata": {},
     "output_type": "display_data"
    },
    {
     "data": {
      "text/html": [
       "<div id=\"compress_html_0296c76902c445caae4d316861b56c5e\"><script>window.treescope_decompress_enqueue(\"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\", \"compress_html_0296c76902c445caae4d316861b56c5e\");</script></div>"
      ],
      "text/plain": [
       "<IPython.core.display.HTML object>"
      ]
     },
     "metadata": {},
     "output_type": "display_data"
    },
    {
     "data": {
      "text/html": [
       "<div id=\"output_dest_ba765a2b511f4d39a34af3bf1137dc99\"><script> (()=>{ const output = document.getElementById(\"output_ba765a2b511f4d39a34af3bf1137dc99\"); const dest = document.getElementById(\"output_dest_ba765a2b511f4d39a34af3bf1137dc99\"); dest.parentNode.replaceChild(output, dest); })(); </script></div>"
      ],
      "text/plain": [
       "(# jax.Array float32(20,) ≈0.47 ±0.27 [≥0.13, ≤1.0] nonzero:20\n",
       "   Array([1.        , 0.9443825 , 0.7729056 , 0.74223197, 0.6763356 ,\n",
       "          0.6761427 , 0.6344525 , 0.5541788 , 0.51844   , 0.496988  ,\n",
       "          0.47676203, 0.33002388, 0.26758984, 0.24582241, 0.23697735,\n",
       "          0.19388096, 0.18963473, 0.18719797, 0.14584747, 0.12938422],      dtype=float32)\n",
       " ,\n",
       " # jax.Array int32(20,) [≥139, ≤44_879] nonzero:20\n",
       "   Array([ 3277,  2544, 26346, 25227, 37312, 38585, 22625, 44879, 10479,\n",
       "           1093, 26986,   718, 34914, 35063, 20593,  5988, 33395,  5964,\n",
       "            139, 17902], dtype=int32)\n",
       " )"
      ]
     },
     "execution_count": 48,
     "metadata": {},
     "output_type": "execute_result"
    }
   ],
   "source": [
    "_, i = jax.lax.top_k(jnp.abs(weights), 20)\n",
    "weights[i] / jnp.abs(weights).max(), i"
   ]
  },
  {
   "cell_type": "code",
   "execution_count": 59,
   "metadata": {},
   "outputs": [
    {
     "ename": "NameError",
     "evalue": "name 'task_name' is not defined",
     "output_type": "error",
     "traceback": [
      "\u001b[0;31m---------------------------------------------------------------------------\u001b[0m",
      "\u001b[0;31mNameError\u001b[0m                                 Traceback (most recent call last)",
      "Cell \u001b[0;32mIn[59], line 1\u001b[0m\n\u001b[0;32m----> 1\u001b[0m \u001b[43mtask_name\u001b[49m\n",
      "\u001b[0;31mNameError\u001b[0m: name 'task_name' is not defined"
     ]
    }
   ],
   "source": [
    "task_name"
   ]
  },
  {
   "cell_type": "code",
   "execution_count": 54,
   "metadata": {},
   "outputs": [],
   "source": [
    "def check_feature(feature: int, print_results=False):\n",
    "    pairs = tasks[task]\n",
    "    pairs = [list(x) for x in pairs.items()]\n",
    "    dataset = ICLDataset(pairs, size=batch_size, n_prepended=0, bidirectional=False, seed=10)\n",
    "\n",
    "\n",
    "    tokenized = tokenizer.batch_encode_plus([prompt.format(x) for x in dataset.prompts], padding=\"longest\", max_length=max_seq_len, truncation=True, return_tensors=\"np\")\n",
    "    inputs = tokenized_to_inputs(\n",
    "        **tokenized\n",
    "    )\n",
    "\n",
    "    target_tokens = [x[1] for x in tokenizer(dataset.completions)[\"input_ids\"]]\n",
    "    target_tokens = jnp.asarray(target_tokens)\n",
    "\n",
    "    # weights, recon = grad_pursuit(tv * 2, sae[\"W_dec\"], k, pos_only=True)\n",
    "\n",
    "    recon = sae[\"W_dec\"][feature] * 20\n",
    "    recon = recon.astype('bfloat16')\n",
    "\n",
    "    act_add = add_vector(\n",
    "        llama, recon, layer_target, scale=1.0, position=\"last\"\n",
    "    )\n",
    "\n",
    "    logits = act_add(inputs).unwrap(\"batch\", \"seq\", \"vocabulary\")\n",
    "\n",
    "    # print(logits[:, -1].mean(axis=-1))\n",
    "\n",
    "    logprobs = jax.nn.log_softmax(logits, axis=-1)\n",
    "    answer_logprobs = logprobs[:, -1]\n",
    "\n",
    "    target_logprobs = jnp.take_along_axis(answer_logprobs, target_tokens[:, None], axis=-1).squeeze()\n",
    "\n",
    "    if print_results:\n",
    "        print(\n",
    "            tokenizer.decode(answer_logprobs.argmax(axis=-1))\n",
    "        )\n",
    "\n",
    "        print(\n",
    "            tokenizer.decode(target_tokens)\n",
    "        )\n",
    "\n",
    "    return (target_logprobs - answer_logprobs.max(axis=-1)).mean()"
   ]
  },
  {
   "cell_type": "code",
   "execution_count": 55,
   "metadata": {},
   "outputs": [
    {
     "name": "stdout",
     "output_type": "stream",
     "text": [
      "Feature 3277: -7.53125\n",
      "Feature 2544: -4.8125\n",
      "Feature 26346: -7.03125\n",
      "Feature 25227: -6.03125\n",
      "Feature 37312: -6.28125\n",
      "Feature 38585: -6.5\n",
      "Feature 22625: -6.90625\n",
      "Feature 44879: -7.03125\n",
      "Feature 10479: -7.53125\n",
      "Feature 1093: -7.25\n",
      "Feature 26986: -7.59375\n",
      "Feature 718: -6.375\n",
      "Feature 34914: -7.15625\n",
      "Feature 35063: -7\n",
      "Feature 20593: -7.34375\n",
      "Feature 5988: -7.5\n",
      "Feature 33395: -6.875\n",
      "Feature 5964: -6.59375\n",
      "Feature 139: -7.53125\n",
      "Feature 17902: -6.9375\n"
     ]
    }
   ],
   "source": [
    "for feature in i:\n",
    "    print(\n",
    "        f\"Feature {feature}: {check_feature(feature)}\"\n",
    "    )\n",
    "\n",
    "# get_logprob_diff(logits.unwrap(\"batch\", \"seq\", \"vocabulary\"), target_tokens, print_results=True)"
   ]
  },
  {
   "cell_type": "code",
   "execution_count": 57,
   "metadata": {},
   "outputs": [
    {
     "name": "stdout",
     "output_type": "stream",
     "text": [
      "next deport ru canción face < segu return aqu al y fund pres return cuatro group return película al benef of < una bu compañ amer us ese seven com o de try name trabaj pet reg at liber exist camb datos is vide g boy distrito bus reci proces flor natural su  oficial mejor cur investig woman pre o\n",
      " est p\n",
      "cour sport cours chanson vis vers ch si chaque demi encore fond pres si deux gr si film autor av b raison ou bon entre américain support sa sept com soit par ess version travail hu en fait lib ex mon information î vid aller gar quartier cher ré tra pl nature supp é offic mie cours recher femme pré  rég rest tir\n"
     ]
    },
    {
     "data": {
      "text/html": [
       "<div id=\"output_507dc2f87eac461395f3dea765098309\"><script> /* penzai.treescope rendering of a Python object (compressed) */ (()=>{ let observer; let lastStep = new Promise((resolve, reject) => { observer = new IntersectionObserver((entries) => { for (const entry of entries) { if (entry.isIntersecting) { resolve(); observer.disconnect(); return; } } }, {rootMargin: \"1000px\"}); }); window.treescope_decompress_enqueue = (encoded, destId) => { const previous = lastStep; const destElt = document.getElementById(destId); lastStep = (async () => { await previous; let blob = new Blob([ Uint8Array.from(atob(encoded), (m) => m.codePointAt(0)) ]); let reader = blob.stream().pipeThrough( new DecompressionStream(\"deflate\") ).pipeThrough( new TextDecoderStream(\"utf-8\") ).getReader(); let parts = []; while (true) { let step = await reader.read(); if (step.done) { break; } parts.push(step.value); } let newElt = document.createElement(\"div\"); newElt.innerHTML = parts.join(\"\"); destElt.parentNode.replaceChild(newElt, destElt); for (let oldScript of newElt.querySelectorAll(\"script\")) { let newScript = document.createElement(\"script\"); newScript.type = oldScript.type; newScript.textContent = oldScript.textContent; oldScript.parentNode.replaceChild(newScript, oldScript); } })(); requestAnimationFrame(() => { observer.observe(destElt); }); } })(); </script><div id=\"compress_html_89be6998122a47998efd9f053394db2b\"><script>window.treescope_decompress_enqueue(\"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\", \"compress_html_89be6998122a47998efd9f053394db2b\");</script><span style=\"color: #aaaaaa; font-family: monospace\">(Loading...)</span></div></div>"
      ],
      "text/plain": [
       "<IPython.core.display.HTML object>"
      ]
     },
     "metadata": {},
     "output_type": "display_data"
    },
    {
     "data": {
      "text/html": [
       "<div id=\"compress_html_b50bcbe8f23f4daaa738022745f1ebeb\"><script>window.treescope_decompress_enqueue(\"eNrtWFtv2zYU/iuEgtVSG6tWfKkvsYEt7YC+9GEYsIeiECiRtjjTpErRubTof98hKUuW7ThulqYYsASwLfHcz8dzDnlJ2DUq9B2nU4+wIuf4boyEFNRDjEy9uVQxoXOqFCVxZ5hQnFyQXreX9oa9wWjQGw5wt9udw2synHuzyyLHAj6NvFmYSK3lijNBx0JqP5xLTnDCaSwkoeMMF/6M44TyWXMl1nKx4I5nnGY0XVISBOhlgL6iHBPCxKKtZT5GnTDq09UEGQ3tjLJFpscoCu27b2EqORiPk0TRa+C0j2N0Nhhe4E6nJkjlakWFjm8yKmJ6C/YTSp7M3o1WbP9qrWK9SqjaIuiMhlF/UBMUWoGf2xK6UT/qVwSQDuN2TZBwnC4nKIHPhZJrQdrlwjVWfrudcJku3asAqKQiVLkoRvktKiRn5BilS+VDxN9QmN3lVIFly1jRldQ0zuQ1OLpr9L6ZcsnTzB/2fjFp7fVR1Bk5iTe4iItUSc6BXctwzlShY83S5clSR70wMnI7IxR1B+Gbg4Jt/o6qC/YUaoVFwTSTYrynHEUForigbSbacq3P0VwK3b6xMN1ZM1nN0iyG3ZPSmNO53oK6eTRY76dZk05ZSTWhchugomSAZKHB2DRj/OkgXVUJm/sJWmG1ADecmSnmqX+RZqhtoOLi3LRDUfHDTCnB6kwhAFlKLGLPaMf8m6B8XmMu8IrGuaJzdgtCbFoK9oWa0A1d7Sg0Nnoqi6u8Ow1ohpokzx7cTthLMxfeB2x9nmC7mmCtOlgZGnXb+gEw5Rl6ifwI3NlmKeUWQEWDIKhiULO2T+fd6N3UL8tZidy8bZevnzGadQW2EWwrTNi6KB2M6Aq8u98xa+m/M+JBiH9tNAmXX7OXTmgSx4m/hSDxhwwFdZKPzQW20ds6DS023wa2GXtsaLWitEhlDjVWSh1WxPEKLEFHJDBhdLruYojA2gcJT1F2r5zS5MvXbuSy8xdKOS6Kqdc0sxzONrNeIyswXpBk2OvjySG8QUAnXlN0IzWIFbHrklLYxgjELoWXTORrjTTMBFPPJi2Rt95BIWV+gfW1ZWrqq6cKDTuXag8RrHF7Se9yrLOpt2Neo0uXaEPNBuudEqtycadneLOcii+Y1ZmDvZODJQWMO3PMuZkEQkiJnYXd1wep/9hIz43TfnP98nUZsS29LSM1WQOmRQtJccVhBpm2aqUZjKoQPUMVp2bR1xkrgpaLjXk99XyOVwnByEBrbD8Dr4ZARThGrQOUrQkqabAABGI357SugAGZuMPvauRverMdvd1Cg5qFxjtCvUcqYcZhAnMYLnM1/S6IhA3eQ4ApZ25v9uLs9uLN5Fel8J3fHoQXw+iif46IhXEy5xLraBA4oqbf5/uYAskc5wUl3gwdik7j2OE9Q/6bcTgdDTt8j8fGiUi5P/dwLn1k5hk5mHd3GPNmo163O4IDwiiKOm8u/supZeQxiQWun5hWu70emVjDe6xFPX1HOnJ54B2FwdlBrOy1mL/x7aaF2EJ0pE8cA5q3d/g6uu7Nni4B2/cvUFO5ntgF5Aqn8c865h5fLPTkCIR+4lYynj1mM1m+p9pOp261nTid/x/Lk8LWmBfrW0u0c9fizYLvy0RjbH9we1Rb4sjQsb9NNl+EXYOCFBTpme8HaDpDX1MpCih2du++JwWaoo/e6be5nyaO3+QCWG+gVMibraEXhMbNw4uPiEzXpiKaxXecmp+/3b0nfmXDx84nc351kucKLwwJSK8YU0Wxpm/Lx99LCr/iMXquOBx7gGnDH+IcRnJyZUqYb6GTGooPUMV9rdb2xDyXCvmcasSAsTOBr8s6MiGnYqEzePvqlTlRGjq3uK3lXp/YJ1BgeAq5Vil9y663Pdphs3fqHnqFdvjdYwjTFQfE/cV05lfi3C1kKcW6CQz1qrlqvaa+vRdwh8gtIVXAzHJgiAAzDicbvOyllorPa7qmb0us/ElXIE/Twg8q3n8AAHySCg==\", \"compress_html_b50bcbe8f23f4daaa738022745f1ebeb\");</script></div>"
      ],
      "text/plain": [
       "<IPython.core.display.HTML object>"
      ]
     },
     "metadata": {},
     "output_type": "display_data"
    },
    {
     "data": {
      "text/html": [
       "<div id=\"output_dest_507dc2f87eac461395f3dea765098309\"><script> (()=>{ const output = document.getElementById(\"output_507dc2f87eac461395f3dea765098309\"); const dest = document.getElementById(\"output_dest_507dc2f87eac461395f3dea765098309\"); dest.parentNode.replaceChild(output, dest); })(); </script></div>"
      ],
      "text/plain": [
       "<jax.Array(-6.28125, dtype=bfloat16)>"
      ]
     },
     "execution_count": 57,
     "metadata": {},
     "output_type": "execute_result"
    }
   ],
   "source": [
    "check_feature(37312, True)"
   ]
  },
  {
   "cell_type": "code",
   "execution_count": null,
   "metadata": {},
   "outputs": [],
   "source": []
  }
 ],
 "metadata": {
  "kernelspec": {
   "display_name": "micrlhf-progress-_SD4q1c9-py3.12",
   "language": "python",
   "name": "python3"
  },
  "language_info": {
   "codemirror_mode": {
    "name": "ipython",
    "version": 3
   },
   "file_extension": ".py",
   "mimetype": "text/x-python",
   "name": "python",
   "nbconvert_exporter": "python",
   "pygments_lexer": "ipython3",
   "version": "3.12.3"
  }
 },
 "nbformat": 4,
 "nbformat_minor": 2
}
