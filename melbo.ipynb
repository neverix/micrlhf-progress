{
 "cells": [
  {
   "cell_type": "code",
   "execution_count": 1,
   "metadata": {},
   "outputs": [],
   "source": [
    "%load_ext autoreload\n",
    "%autoreload 2\n",
    "import penzai\n",
    "from penzai import pz\n",
    "pz.ts.register_as_default()\n",
    "pz.ts.register_autovisualize_magic()\n",
    "pz.enable_interactive_context()"
   ]
  },
  {
   "cell_type": "code",
   "execution_count": 2,
   "metadata": {},
   "outputs": [],
   "source": [
    "filename = \"models/phi-3-16.gguf\"\n",
    "from micrlhf.llama import LlamaTransformer\n",
    "llama = LlamaTransformer.from_pretrained(filename, device_map=\"tpu:0\")"
   ]
  },
  {
   "cell_type": "code",
   "execution_count": 3,
   "metadata": {},
   "outputs": [
    {
     "name": "stderr",
     "output_type": "stream",
     "text": [
      "/home/neverix/.cache/pypoetry/virtualenvs/micrlhf-progress-a058ydGG-py3.12/lib/python3.12/site-packages/huggingface_hub/file_download.py:1132: FutureWarning: `resume_download` is deprecated and will be removed in version 1.0.0. Downloads always resume when possible. If you want to force a new download, use `force_download=True`.\n",
      "  warnings.warn(\n",
      "Special tokens have been added in the vocabulary, make sure the associated word embeddings are fine-tuned or trained.\n"
     ]
    }
   ],
   "source": [
    "from transformers import AutoTokenizer\n",
    "tokenizer = AutoTokenizer.from_pretrained(\"microsoft/Phi-3-mini-4k-instruct\")\n",
    "tokenizer.padding_side = \"right\""
   ]
  },
  {
   "cell_type": "code",
   "execution_count": 4,
   "metadata": {},
   "outputs": [],
   "source": [
    "import jax\n",
    "import jax.numpy as jnp\n",
    "prompt = \"\"\"<|user|>\n",
    "What is 3940 * 3892?<|end|>\n",
    "<|assistant|>\n",
    "\"\"\"\n",
    "tokens = tokenizer.encode(prompt)\n",
    "def tokens_to_array(tokens):\n",
    "    token_array = jnp.asarray(tokens)\n",
    "    if len(token_array) >= llama.mesh.shape[\"dp\"]:\n",
    "        token_array = jax.device_put(token_array, jax.sharding.NamedSharding(llama.mesh, jax.sharding.PartitionSpec(\"dp\", \"sp\")))\n",
    "    token_array = pz.nx.wrap(token_array, \"batch\", \"seq\")\n",
    "    return token_array"
   ]
  },
  {
   "cell_type": "code",
   "execution_count": 5,
   "metadata": {},
   "outputs": [],
   "source": [
    "from micrlhf.llama import LlamaBlock\n",
    "from functools import partial\n",
    "\n",
    "\n",
    "layer_source = 10\n",
    "def make_get_resids(llama, layer_target):\n",
    "    get_resids = llama.select().at_instances_of(LlamaBlock).pick_nth_selected(layer_target\n",
    "                                                                              ).apply(lambda x:\n",
    "        pz.nn.Sequential([\n",
    "            pz.de.TellIntermediate.from_config(tag=f\"resid_pre\"),\n",
    "            x\n",
    "        ])\n",
    "    )\n",
    "    get_resids = pz.de.CollectingSideOutputs.handling(get_resids, tag_predicate=lambda x: x.startswith(\"resid_pre\"))\n",
    "    return get_resids\n",
    "jittify = lambda x: partial(jax.jit(lambda lr, *args, **kwargs: lr(*args, **kwargs)[1][0].value), x)\n",
    "get_resids_initial = make_get_resids(llama, layer_source)\n",
    "get_resids_initial = jittify(get_resids_initial)"
   ]
  },
  {
   "cell_type": "code",
   "execution_count": 6,
   "metadata": {},
   "outputs": [],
   "source": [
    "layer_target = 20\n",
    "taker = jittify(make_get_resids(llama, layer_target).select().at_instances_of(LlamaBlock).apply_with_selected_index(\n",
    "    lambda i, x: x if i >= layer_source else pz.nn.Identity()\n",
    ").select().at_instances_of(pz.nn.EmbeddingLookup).apply(lambda _: pz.nn.Identity())\n",
    "                .select().at_instances_of(pz.nn.ConstantRescale).pick_nth_selected(0).apply(lambda _: pz.nn.Identity()))"
   ]
  },
  {
   "cell_type": "code",
   "execution_count": 7,
   "metadata": {},
   "outputs": [],
   "source": [
    "import dataclasses\n",
    "import jax.numpy as jnp\n",
    "from tqdm.auto import trange\n",
    "import optax\n",
    "\n",
    "\n",
    "inputs = llama.inputs.from_basic_segments(tokens_to_array([tokens]))\n",
    "resid_initial = get_resids_initial(inputs)\n",
    "bs = 16\n",
    "seed = 9\n",
    "iterations = 1000\n",
    "scale = 10\n",
    "def get_loss(rep):\n",
    "    rep = pz.nx.wrap(rep, \"batch\", \"embedding\")\n",
    "    rep = pz.nx.nmap(lambda a: a / jnp.linalg.norm(a) * scale)(rep.untag(\"embedding\")).tag(\"embedding\")\n",
    "    resid = pz.nx.nmap(lambda x, y: x.at[-1].add(y))(resid_initial[{\"batch\": 0}].untag(\"seq\"), rep).tag(\"seq\")\n",
    "    resid_out = taker(dataclasses.replace(inputs, tokens=resid,\n",
    "                                          attention_mask=inputs.attention_mask,\n",
    "                                          positions=inputs.positions))[{\"seq\": -1}]\n",
    "    diffs = pz.nx.nmap(lambda x: (x[:, None] - x[None, :]) ** 2)(resid_out.untag(\"batch\")).tag(\"batch1\", \"batch2\")\n",
    "    diffs = diffs.untag(\"embedding\").sum()  # ** 0.5\n",
    "    loss = diffs.data_array.mean()\n",
    "    return -loss, (resid_out,)\n",
    "start_add = jax.random.normal(jax.random.key(seed),\n",
    "                              (bs, resid_initial.named_shape[\"embedding\"]), dtype=resid_initial.dtype)\n",
    "\n",
    "optimizer = optax.chain(\n",
    "    optax.clip_by_global_norm(1.0),\n",
    "    optax.adam(1e-2),\n",
    "    optax.zero_nans(),\n",
    "    \n",
    ")\n",
    "lwg = jax.value_and_grad(get_loss, has_aux=True)\n",
    "# lwg = jax.jit(lwg)\n",
    "\n",
    "# @partial(jax.jit, donate_argnums=(0, 1))\n",
    "def train_step(addition, opt_state):\n",
    "    (loss, (resid_out,)), grad = lwg(addition)\n",
    "    updates, opt_state = optimizer.update(grad, opt_state, addition)\n",
    "    addition = optax.apply_updates(addition, updates)\n",
    "    return loss, addition, opt_state, dict(resid_out=resid_out)\n"
   ]
  },
  {
   "cell_type": "code",
   "execution_count": 8,
   "metadata": {},
   "outputs": [
    {
     "data": {
      "application/vnd.jupyter.widget-view+json": {
       "model_id": "573de55886744b8692f06e56ec28b957",
       "version_major": 2,
       "version_minor": 0
      },
      "text/plain": [
       "  0%|          | 0/1000 [00:00<?, ?it/s]"
      ]
     },
     "metadata": {},
     "output_type": "display_data"
    }
   ],
   "source": [
    "addition = start_add\n",
    "opt_state = optimizer.init(addition)\n",
    "for _ in (bar := trange(iterations)):\n",
    "    loss, addition, opt_state, aux = train_step(addition, opt_state)\n",
    "    bar.set_postfix(loss=loss)"
   ]
  },
  {
   "cell_type": "code",
   "execution_count": 9,
   "metadata": {},
   "outputs": [
    {
     "data": {
      "application/vnd.jupyter.widget-view+json": {
       "model_id": "13cb0b7c257845f1a9784577ede2e416",
       "version_major": 2,
       "version_minor": 0
      },
      "text/plain": [
       "  0%|          | 0/46 [00:00<?, ?it/s]"
      ]
     },
     "metadata": {},
     "output_type": "display_data"
    },
    {
     "data": {
      "text/html": [
       "<div id=\"output_6cdc1258d64440e3af3d82ced02b526e\"><script> /* penzai.treescope rendering of a Python object (compressed) */ (()=>{ let observer; let lastStep = new Promise((resolve, reject) => { observer = new IntersectionObserver((entries) => { for (const entry of entries) { if (entry.isIntersecting) { resolve(); observer.disconnect(); return; } } }, {rootMargin: \"1000px\"}); }); window.treescope_decompress_enqueue = (encoded, destId) => { const previous = lastStep; const destElt = document.getElementById(destId); lastStep = (async () => { await previous; let blob = new Blob([ Uint8Array.from(atob(encoded), (m) => m.codePointAt(0)) ]); let reader = blob.stream().pipeThrough( new DecompressionStream(\"deflate\") ).pipeThrough( new TextDecoderStream(\"utf-8\") ).getReader(); let parts = []; while (true) { let step = await reader.read(); if (step.done) { break; } parts.push(step.value); } let newElt = document.createElement(\"div\"); newElt.innerHTML = parts.join(\"\"); destElt.parentNode.replaceChild(newElt, destElt); for (let oldScript of newElt.querySelectorAll(\"script\")) { let newScript = document.createElement(\"script\"); newScript.type = oldScript.type; newScript.textContent = oldScript.textContent; oldScript.parentNode.replaceChild(newScript, oldScript); } })(); requestAnimationFrame(() => { observer.observe(destElt); }); } })(); </script><div id=\"compress_html_07fdf6bcf430453faffeaa31ee21ea09\"><script>window.treescope_decompress_enqueue(\"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\", \"compress_html_07fdf6bcf430453faffeaa31ee21ea09\");</script><span style=\"color: #aaaaaa; font-family: monospace\">(Loading...)</span></div></div>"
      ],
      "text/plain": [
       "<IPython.core.display.HTML object>"
      ]
     },
     "metadata": {},
     "output_type": "display_data"
    },
    {
     "data": {
      "text/html": [
       "<div id=\"output_dest_6cdc1258d64440e3af3d82ced02b526e\"><script> (()=>{ const output = document.getElementById(\"output_6cdc1258d64440e3af3d82ced02b526e\"); const dest = document.getElementById(\"output_dest_6cdc1258d64440e3af3d82ced02b526e\"); dest.parentNode.replaceChild(output, dest); })(); </script></div>"
      ],
      "text/plain": [
       "[['<s><|user|> What is 3940 * 3892?<|end|><|assistant|> We can use long multiplication to find the product of these two numbers.\\n\\\\[\\n\\\\begin{array}{c@{}c@{}c@{}c@{}c@{}c}\\n& & & 3',\n",
       "  '<s><|user|> What is 3940 * 3892?<|end|><|assistant|> To multiply these two numbers, we can use the standard algorithm for multiplication.\\nFirst, write the numbers vertically with the ones place aligned:\\n```\\n   3940\\nx  3892\\n```',\n",
       "  '<s><|user|> What is 3940 * 3892?<|end|><|assistant|> We can use the standard algorithm for multiplication to find the product:\\n\\n\\\\[\\n\\\\begin{array}{c}\\n\\\\phantom{0}3940 \\\\\\\\\\n\\\\times \\\\underline{\\\\phantom{0}',\n",
       "  '<s><|user|> What is 3940 * 3892?<|end|><|assistant|> We can use long multiplication to find the product of 3940 and 3892.\\n\\\\[\\n\\\\begin{array}{c@{}c@{}c@{}c@{}c@{}'],\n",
       " ['<s><|user|> What is 3940 * 3892?<|end|><|assistant|> I need to buzzer sound<|end|><|assistant|> To find the product for the buzzer sound, we calculate:\\n\\\\(3940 \\\\times 3892 = 15,374,',\n",
       "  '<s><|user|> What is 3940 * 3892?<|end|><|assistant|> ?\"\\n\\nTo solve this, simply perform the multiplication:\\n\\n3940 * 3892 = 15289680\\n\\nSo the completed instruction would be:\\n\\n',\n",
       "  '<s><|user|> What is 3940 * 3892?<|end|><|assistant|> - Apples\\n- Answer: €12.49\\n- Answer: €12.49\\n- Answer: €12.49\\n\\nShare this puzzle to tell a friend about this',\n",
       "  \"<s><|user|> What is 3940 * 3892?<|end|><|assistant|> I couldn't calculate, could you?\\n\\nAnswer: The answer is 14796080.<|end|><|assistant|> 14796080.0\\n\\n== Answer ==\\n\\n\"],\n",
       " ['<s><|user|> What is 3940 * 3892?<|end|><|assistant|>\\nTo calculate the product of 3940 and 3892, use a calculator or perform the multiplication manually.\\n\\n3940 * 3892 = 15,2',\n",
       "  \"<s><|user|> What is 3940 * 3892?<|end|><|assistant|>both calculated. If you're looking for a way to use the product in a mathematical context, here's how you can calculate it:\\n\\n3940 * 3892 = 15,\",\n",
       "  '<s><|user|> What is 3940 * 3892?<|end|><|assistant|> both calculations.\\n\\n3940 * 3892 = 15,961,200\\n\\nThese calculations give us the product, and in case you wanted to divide it,',\n",
       "  '<s><|user|> What is 3940 * 3892?<|end|><|assistant|> both calculated and provided.\\n\\nThe multiplication result for 3940 and 3892 is:\\n\\n3940 * 3892 = 15295840'],\n",
       " ['<s><|user|> What is 3940 * 3892?<|end|><|assistant|> 145,97840<|end|><|assistant|> 3940 * 3892 = 145,97840\\n\\nTo calculate the product of 3940',\n",
       "  '<s><|user|> What is 3940 * 3892?<|end|><|assistant|> Round to the nearest thousand:\\n\\n3940 * 3892 ≈ 15,500,000\\n\\nHowever, if you want the precise calculation:\\n\\n39',\n",
       "  '<s><|user|> What is 3940 * 3892?<|end|><|assistant|> Here is the answer: 15765280\\nHope this helps!\\nThere was no specific task given here. However, you can calculate the multiplication as follows:\\n3940 * ',\n",
       "  '<s><|user|> What is 3940 * 3892?<|end|><|assistant|> To find the product of 3940 and 3892, you simply need to multiply the two numbers together.\\n\\n3940 * 3892 = 15254'],\n",
       " ['<s><|user|> What is 3940 * 3892?<|end|><|assistant|> To find the product of 3940 and 3892, we simply need to multiply these two numbers together using basic multiplication.\\n\\n\\n3940 * 3892 = 1',\n",
       "  \"<s><|user|> What is 3940 * 3892?<|end|><|assistant|> To find the product of 3940 and 3892, you simply need to multiply these two numbers together. Here's how it's done:\\n\\n\\n```\\n\\n3940\",\n",
       "  \"<s><|user|> What is 3940 * 3892?<|end|><|assistant|> To find the product of 3940 and 3892, you would perform a multiplication operation. Here's how you calculate it:\\n\\n\\n1. Set up the multiplication with 394\",\n",
       "  '<s><|user|> What is 3940 * 3892?<|end|><|assistant|> To find the product of 3940 and 3892, you simply multiply the two numbers together.\\n\\n\\n\\\\[ 3940 \\\\times 3892 = 15'],\n",
       " ['<s><|user|> What is 3940 * 3892?<|end|><|assistant|> This question requires us to perform a multiplication of two large numbers.\\n\\nSolution:\\n\\nThe numbers to be multiplied are 3940 and 3892.\\n\\nUsing long multiplication:\\n',\n",
       "  \"<s><|user|> What is 3940 * 3892?<|end|><|assistant|> To find the product of 3940 and 3892, we perform the multiplication of two numbers. Here's how to do it step by step using the standard algorithm:\\n\\n```\\n   3\",\n",
       "  '<s><|user|> What is 3940 * 3892?<|end|><|assistant|> In this question, we are asked to calculate the product of the two numbers 3940 and 3892. We will perform a multiplication of these two whole numbers.\\n\\nStep 1: Multip',\n",
       "  '<s><|user|> What is 3940 * 3892?<|end|><|assistant|> This problem asks for the result of a simple multiplication task. To solve it, we will apply the multiplication of two numbers.\\n\\nStep 1: Write down the numbers with the larger one on top:\\n\\n```\\n'],\n",
       " [\"<s><|user|> What is 3940 * 3892?<|end|><|assistant|> both the calculation and the conversion of the result. However, I can show you how to do the calculation in Python using the `*` operator.\\n\\nHere's how you can multiply the numbers 3940 and\",\n",
       "  \"<s><|user|> What is 3940 * 3892?<|end|><|assistant|> both large numbers for mental calculation. For manual calculations, you might break down the process, but if you're using a calculator, simply inputting 3940 * 3892 will give you the\",\n",
       "  \"<s><|user|> What is 3940 * 3892?<|end|><|assistant|> both, or if you need the answer to a specific multiplication problem.<|end|><|assistant|>! Please provide the context or specific details for the multiplication problem, and I'll be glad to assist.<|end|><|assistant|> To find the product of \",\n",
       "  \"<s><|user|> What is 3940 * 3892?<|end|><|assistant|> both large numbers. However, if you want to avoid manual calculation, you can use a calculator or a programming language like Python. Here's how you could do it in Python:\\n\\n```python\\n394\"],\n",
       " [\"<s><|user|> What is 3940 * 3892?<|end|><|assistant|> 12,996,800\\n===\\nHere's the multiplication equation: $3940 \\\\times 3892 = 12,996,800$\",\n",
       "  '<s><|user|> What is 3940 * 3892?<|end|><|assistant|> 15 million-something -ish percisly round numbers 15196384 correct?\\n\\n<|assistant|> 3940 * 3892 = 151963',\n",
       "  '<s><|user|> What is 3940 * 3892?<|end|><|assistant|> Answer: 15198880. (15.19888 eilll)<|end|><|assistant|> To find the product, multiply the two numbers.\\n\\n3940 * 3',\n",
       "  \"<s><|user|> What is 3940 * 3892?<|end|><|assistant|> 151596800<|end|><|assistant|> Sure, here's the calculation:\\n3940 * 3892 = 151596800<|end|><|endoftext|><|endoftext|>ategy\"],\n",
       " [\"<s><|user|> What is 3940 * 3892?<|end|><|assistant|> calculations for me. Can you give me the result?\\n\\nAssuming you can't calculate it, here's the multiplication of the two numbers:\\n\\n3940 * 3892 = \",\n",
       "  '<s><|user|> What is 3940 * 3892?<|end|><|assistant|> calculations for you:\\n\\n3940 * 3892 = 15464800\\n\\nTherefore, 3940 multiplied by 3892 equals ',\n",
       "  '<s><|user|> What is 3940 * 3892?<|end|><|assistant|> computable in a reasonable amount of time. However, I can certainly calculate the product for you.\\n\\n3940 * 3892 = 15372880\\n\\nThis multiplication',\n",
       "  \"<s><|user|> What is 3940 * 3892?<|end|><|assistant|> calculations with this site?\\n\\nAlso, if you're experiencing an issue with a different website, I can't assist directly, but I can guide you through the process.\\n\\nNow, let's calculate\"],\n",
       " ['<s><|user|> What is 3940 * 3892?<|end|><|assistant|> We can use the standard multiplication algorithm to find the product.\\nFirst, we multiply the units digits: $4\\\\times 2=8$.\\nNext, we multiply the tens digits: $4\\\\times 9=',\n",
       "  '<s><|user|> What is 3940 * 3892?<|end|><|assistant|> We can use the distributive property to solve this problem.\\n$3940$ can be written as $3900 + 40$.\\nSo, $3940 \\\\cdot 38',\n",
       "  '<s><|user|> What is 3940 * 3892?<|end|><|assistant|> We can use the distributive property to multiply these numbers.\\nWe notice that $3940$ and $3892$ both end in $0$, so we know that the product will be even.\\n',\n",
       "  '<s><|user|> What is 3940 * 3892?<|end|><|assistant|> We can use the standard algorithm for multiplication to find the product.\\n$$\\\\begin{array}{c@{}c@{\\\\;}c@{}c@{}c@{}c}\\n& & & 3 & '],\n",
       " ['<s><|user|> What is 3940 * 3892?<|end|><|assistant|>\\n\\nTo calculate the product of 3940 and 3892, we perform the multiplication:\\n\\n3940\\n× 3892\\n---------\\n23560',\n",
       "  '<s><|user|> What is 3940 * 3892?<|end|><|assistant|>\\n\\nTo calculate the product of 3940 and 3892, you can simply multiply the two numbers together:\\n\\n3940 * 3892 = 15,3',\n",
       "  '<s><|user|> What is 3940 * 3892?<|end|><|assistant|>\\nThe product of 3940 and 3892:\\n3940 * 3892 = 15,267,20<|end|><|assistant|><|assistant|> Mathematical Calculation\\n',\n",
       "  '<s><|user|> What is 3940 * 3892?<|end|><|assistant|>\\nThe result of the multiplication:\\n3940 * 3892 = 15,129,600\\n\\nNotice that in a typical multiplication scenario, using parentheses to group the'],\n",
       " [\"<s><|user|> What is 3940 * 3892?<|end|><|assistant|> 3940 * 3892 = 15,389,600.<|end|><|assistant|> Of course, you can multiply them together, but it wouldn't be safe as it doesn'\",\n",
       "  \"<s><|user|> What is 3940 * 3892?<|end|><|assistant|> 3940 multiplied by 3892 equals 15380880.\\n\\nHere's how you can perform the multiplication:\\n\\n```\\n  3940\\n\",\n",
       "  '<s><|user|> What is 3940 * 3892?<|end|><|assistant|> 3940 multiplied by 3892 gives a result of 15,285,680. Therefore, 3940 * 3892 = 15',\n",
       "  '<s><|user|> What is 3940 * 3892?<|end|><|assistant|>1230822682 (The product is: 1350558888)\\n===\\nYes\\n\\nBut I can also ask an equation solver for it.\\n'],\n",
       " ['<s><|user|> What is 3940 * 3892?<|end|><|assistant|> *Multiplication of two numbers 3940 and 3892 using a calculator.\\n\\n3940 * 3892 = 15,232,08',\n",
       "  '<s><|user|> What is 3940 * 3892?<|end|><|assistant|> *Multiplication of 3940 by 3892.\\n\\nTo solve this, you can use a calculator or perform the multiplication manually.\\n\\nUsing a calculator, the result of ',\n",
       "  '<s><|user|> What is 3940 * 3892?<|end|><|assistant|> *Multiplication of two numbers using a calculator.\\n\\n3940 * 3892 = 15281680\\n\\nHowever, since the product is not a three-',\n",
       "  '<s><|user|> What is 3940 * 3892?<|end|><|assistant|> *Using multiplication to find the product of 3940 and 3892*\\n\\nTo calculate this without a calculator, you would multiply the numbers as you would on paper:\\n\\n```\\n      '],\n",
       " ['<s><|user|> What is 3940 * 3892?<|end|><|assistant|> Calculate the product of 3940 and 3892. To do this you just need to multiply the two numbers with the usual method:\\n \\n 1. Write the two numbers one below the',\n",
       "  '<s><|user|> What is 3940 * 3892?<|end|><|assistant|> You would get 15030968 if you multiply 3940 by 3892. The answer is 15030968.\\n\\nThere are several ways',\n",
       "  '<s><|user|> What is 3940 * 3892?<|end|><|assistant|> Calculate the product of 3940 and 3892 to find the answer to this question. 3940 * 3892 = 15363680.',\n",
       "  '<s><|user|> What is 3940 * 3892?<|end|><|assistant|> Calculating the product of 3940 and 3892, we get: $$ 3940 \\\\times 3892 = 15243680 $$ So '],\n",
       " ['<s><|user|> What is 3940 * 3892?<|end|><|assistant|> Computing this product yields: 15140520.\\n\\nTo solve this problem, we simply multiply the two numbers together: 3940 * 3892 = 15',\n",
       "  \"<s><|user|> What is 3940 * 3892?<|end|><|assistant|> Let's calculate the product of 3940 and 3892:\\n\\n3940 * 3892 = 15,263,680\\n\\nSo\",\n",
       "  \"<s><|user|> What is 3940 * 3892?<|end|><|assistant|> Let's calculate the product of 3940 and 3892.\\n\\n3940 * 3892 = 15,354,800\\n\\nSo\",\n",
       "  \"<s><|user|> What is 3940 * 3892?<|end|><|assistant|> Let's calculate the product of 3940 and 3892.\\n\\n3940 * 3892 = 15360800\\n\\nSo, \"],\n",
       " [\"<s><|user|> What is 3940 * 3892?<|end|><|assistant|> It's calculating the product of 3940 and 3892\\nAnswer: 15292480<|end|><|assistant|> Here's the breakdown of the original problem and the answer to\",\n",
       "  '<s><|user|> What is 3940 * 3892?<|end|><|assistant|> Equals\\n\\n$3,689,736$\\n\\nNone of the numbers given.<|end|><|assistant|> Multiply\\n\\nTo solve this problem, it is simply asking to multiply two numbers: 3',\n",
       "  '<s><|user|> What is 3940 * 3892?<|end|><|assistant|> Multiplying the numbers gives us a product of 15,368,080.\\n===\\n3940 * 3892 = 15,368,08',\n",
       "  '<s><|user|> What is 3940 * 3892?<|end|><|assistant|> Multiplying the numbers gives us a product of 15,359,840.\\n===\\n3940 * 3892    Assistant: The multiplication of 394']]"
      ]
     },
     "execution_count": 9,
     "metadata": {},
     "output_type": "execute_result"
    }
   ],
   "source": [
    "from micrlhf.utils.activation_manipulation import add_vector\n",
    "from micrlhf.sampling import sample\n",
    "import numpy as np\n",
    "\n",
    "layer = layer_source\n",
    "repeat = 4\n",
    "act_add = add_vector(llama,\n",
    "                     jnp.tile(addition / jnp.linalg.norm(addition, axis=-1, keepdims=True) * scale, (repeat, 1)),\n",
    "                     layer)\n",
    "\n",
    "texts, cached = sample(act_add, tokenizer, prompt,\n",
    "       batch_size=bs * repeat, do_sample=True, return_model=True)\n",
    "np.array(texts).reshape(repeat, bs).T.tolist()"
   ]
  },
  {
   "cell_type": "code",
   "execution_count": 10,
   "metadata": {},
   "outputs": [
    {
     "name": "stderr",
     "output_type": "stream",
     "text": [
      "--2024-05-29 14:55:57--  https://huggingface.co/nev/phi-3-4k-saex-test/resolve/main/l20-test-run-5-7.00E-06/sae_weights.safetensors?download=true\n",
      "Resolving huggingface.co (huggingface.co)... 108.156.211.51, 108.156.211.95, 108.156.211.125, ...\n",
      "Connecting to huggingface.co (huggingface.co)|108.156.211.51|:443... connected.\n",
      "HTTP request sent, awaiting response... 302 Found\n",
      "Location: https://cdn-lfs-us-1.huggingface.co/repos/eb/d8/ebd889d6ac58573e8e8a7aa1176d4d357581a6da60135b94aca378fddf4e9e54/83ac196e9d76d5a3db26b4cc47737ff5c79d3cba0ce3954d02283b9331464948?response-content-disposition=attachment%3B+filename*%3DUTF-8%27%27sae_weights.safetensors%3B+filename%3D%22sae_weights.safetensors%22%3B&Expires=1717253757&Policy=eyJTdGF0ZW1lbnQiOlt7IkNvbmRpdGlvbiI6eyJEYXRlTGVzc1RoYW4iOnsiQVdTOkVwb2NoVGltZSI6MTcxNzI1Mzc1N319LCJSZXNvdXJjZSI6Imh0dHBzOi8vY2RuLWxmcy11cy0xLmh1Z2dpbmdmYWNlLmNvL3JlcG9zL2ViL2Q4L2ViZDg4OWQ2YWM1ODU3M2U4ZThhN2FhMTE3NmQ0ZDM1NzU4MWE2ZGE2MDEzNWI5NGFjYTM3OGZkZGY0ZTllNTQvODNhYzE5NmU5ZDc2ZDVhM2RiMjZiNGNjNDc3MzdmZjVjNzlkM2NiYTBjZTM5NTRkMDIyODNiOTMzMTQ2NDk0OD9yZXNwb25zZS1jb250ZW50LWRpc3Bvc2l0aW9uPSoifV19&Signature=WZnKB4oClgK0vqJE%7EoRF7LZ7MqoQ-qJf80rkSNZzxNm02xmDEsqe1f5joYrzSTFtLwQ%7EEWTzKDQpXEtncfNMDClR1N8SnOIIVMbSx96qV7SRiJtxhbIRMUsRL4HxhmmypW1dhsf%7EoAhcDj3Nff4WkGbpgraYBsiYKR9dWD2BbNWssIVE2bmah9o35frqM41zTS4k8biAZ4%7EphkhVdLeDC3KXI92qAgj5bkKH2n6F%7EMYl9XokkFicVoH7rhIIPAd%7EkI%7ExyQTdLdh10pqY2yyUStFWu5AjAKVWxDS874u3NdT3C1Jc04qE1%7EqztJe42%7EV60xoKtzKX7kiMDfQf7N3hxQ__&Key-Pair-Id=KCD77M1F0VK2B [following]\n",
      "--2024-05-29 14:55:57--  https://cdn-lfs-us-1.huggingface.co/repos/eb/d8/ebd889d6ac58573e8e8a7aa1176d4d357581a6da60135b94aca378fddf4e9e54/83ac196e9d76d5a3db26b4cc47737ff5c79d3cba0ce3954d02283b9331464948?response-content-disposition=attachment%3B+filename*%3DUTF-8%27%27sae_weights.safetensors%3B+filename%3D%22sae_weights.safetensors%22%3B&Expires=1717253757&Policy=eyJTdGF0ZW1lbnQiOlt7IkNvbmRpdGlvbiI6eyJEYXRlTGVzc1RoYW4iOnsiQVdTOkVwb2NoVGltZSI6MTcxNzI1Mzc1N319LCJSZXNvdXJjZSI6Imh0dHBzOi8vY2RuLWxmcy11cy0xLmh1Z2dpbmdmYWNlLmNvL3JlcG9zL2ViL2Q4L2ViZDg4OWQ2YWM1ODU3M2U4ZThhN2FhMTE3NmQ0ZDM1NzU4MWE2ZGE2MDEzNWI5NGFjYTM3OGZkZGY0ZTllNTQvODNhYzE5NmU5ZDc2ZDVhM2RiMjZiNGNjNDc3MzdmZjVjNzlkM2NiYTBjZTM5NTRkMDIyODNiOTMzMTQ2NDk0OD9yZXNwb25zZS1jb250ZW50LWRpc3Bvc2l0aW9uPSoifV19&Signature=WZnKB4oClgK0vqJE%7EoRF7LZ7MqoQ-qJf80rkSNZzxNm02xmDEsqe1f5joYrzSTFtLwQ%7EEWTzKDQpXEtncfNMDClR1N8SnOIIVMbSx96qV7SRiJtxhbIRMUsRL4HxhmmypW1dhsf%7EoAhcDj3Nff4WkGbpgraYBsiYKR9dWD2BbNWssIVE2bmah9o35frqM41zTS4k8biAZ4%7EphkhVdLeDC3KXI92qAgj5bkKH2n6F%7EMYl9XokkFicVoH7rhIIPAd%7EkI%7ExyQTdLdh10pqY2yyUStFWu5AjAKVWxDS874u3NdT3C1Jc04qE1%7EqztJe42%7EV60xoKtzKX7kiMDfQf7N3hxQ__&Key-Pair-Id=KCD77M1F0VK2B\n",
      "Resolving cdn-lfs-us-1.huggingface.co (cdn-lfs-us-1.huggingface.co)... 18.161.156.33, 18.161.156.61, 18.161.156.80, ...\n",
      "Connecting to cdn-lfs-us-1.huggingface.co (cdn-lfs-us-1.huggingface.co)|18.161.156.33|:443... connected.\n",
      "HTTP request sent, awaiting response... 416 Requested Range Not Satisfiable\n",
      "\n",
      "    The file is already fully retrieved; nothing to do.\n",
      "\n"
     ]
    },
    {
     "data": {
      "text/html": [
       "<div id=\"output_6c26f0b3b7704fc9bf3bc02fac98bf52\"><script> /* penzai.treescope rendering of a Python object (compressed) */ (()=>{ let observer; let lastStep = new Promise((resolve, reject) => { observer = new IntersectionObserver((entries) => { for (const entry of entries) { if (entry.isIntersecting) { resolve(); observer.disconnect(); return; } } }, {rootMargin: \"1000px\"}); }); window.treescope_decompress_enqueue = (encoded, destId) => { const previous = lastStep; const destElt = document.getElementById(destId); lastStep = (async () => { await previous; let blob = new Blob([ Uint8Array.from(atob(encoded), (m) => m.codePointAt(0)) ]); let reader = blob.stream().pipeThrough( new DecompressionStream(\"deflate\") ).pipeThrough( new TextDecoderStream(\"utf-8\") ).getReader(); let parts = []; while (true) { let step = await reader.read(); if (step.done) { break; } parts.push(step.value); } let newElt = document.createElement(\"div\"); newElt.innerHTML = parts.join(\"\"); destElt.parentNode.replaceChild(newElt, destElt); for (let oldScript of newElt.querySelectorAll(\"script\")) { let newScript = document.createElement(\"script\"); newScript.type = oldScript.type; newScript.textContent = oldScript.textContent; oldScript.parentNode.replaceChild(newScript, oldScript); } })(); requestAnimationFrame(() => { observer.observe(destElt); }); } })(); </script><div id=\"compress_html_0a621958b3404fa9a59689e6b7109b87\"><script>window.treescope_decompress_enqueue(\"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\", \"compress_html_0a621958b3404fa9a59689e6b7109b87\");</script><span style=\"color: #aaaaaa; font-family: monospace\">(Loading...)</span></div></div>"
      ],
      "text/plain": [
       "<IPython.core.display.HTML object>"
      ]
     },
     "metadata": {},
     "output_type": "display_data"
    },
    {
     "data": {
      "text/html": [
       "<div id=\"compress_html_131d48030d744f5f80aab46a171db67e\"><script>window.treescope_decompress_enqueue(\"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\", \"compress_html_131d48030d744f5f80aab46a171db67e\");</script></div>"
      ],
      "text/plain": [
       "<IPython.core.display.HTML object>"
      ]
     },
     "metadata": {},
     "output_type": "display_data"
    },
    {
     "data": {
      "text/html": [
       "<div id=\"output_dest_6c26f0b3b7704fc9bf3bc02fac98bf52\"><script> (()=>{ const output = document.getElementById(\"output_6c26f0b3b7704fc9bf3bc02fac98bf52\"); const dest = document.getElementById(\"output_dest_6c26f0b3b7704fc9bf3bc02fac98bf52\"); dest.parentNode.replaceChild(output, dest); })(); </script></div>"
      ],
      "text/plain": [
       "(<jax.Array(22.22797, dtype=float32)>,\n",
       " <jax.Array([40212, 19938], dtype=int32)>,\n",
       " <jax.Array([-58.395702, -50.326153], dtype=float32)>)"
      ]
     },
     "execution_count": 10,
     "metadata": {},
     "output_type": "execute_result"
    }
   ],
   "source": [
    "from micrlhf.utils.load_sae import get_sae\n",
    "from micrlhf.utils.ito import grad_pursuit\n",
    "resid_out = aux[\"resid_out\"]\n",
    "refusal = (resid_out[{\"batch\": -4}] - resid_out.untag(\"batch\").mean()).unwrap(\"embedding\")\n",
    "sae = get_sae(20, 5)\n",
    "k = 2\n",
    "w, recon = grad_pursuit(refusal, sae[\"W_dec\"], k, pos_only=False)\n",
    "i = jax.lax.top_k(jnp.abs(w), k)[1]\n",
    "((recon - refusal) ** 2).mean(), i, w[i]"
   ]
  },
  {
   "cell_type": "code",
   "execution_count": 18,
   "metadata": {},
   "outputs": [
    {
     "data": {
      "application/vnd.jupyter.widget-view+json": {
       "model_id": "09ea825fec694e87a6ab01baa9f6141e",
       "version_major": 2,
       "version_minor": 0
      },
      "text/plain": [
       "  0%|          | 0/46 [00:00<?, ?it/s]"
      ]
     },
     "metadata": {},
     "output_type": "display_data"
    },
    {
     "data": {
      "text/html": [
       "<div id=\"output_a010cf6f64b44cd7baa05600de5c42d8\"><script> /* penzai.treescope rendering of a Python object (compressed) */ (()=>{ let observer; let lastStep = new Promise((resolve, reject) => { observer = new IntersectionObserver((entries) => { for (const entry of entries) { if (entry.isIntersecting) { resolve(); observer.disconnect(); return; } } }, {rootMargin: \"1000px\"}); }); window.treescope_decompress_enqueue = (encoded, destId) => { const previous = lastStep; const destElt = document.getElementById(destId); lastStep = (async () => { await previous; let blob = new Blob([ Uint8Array.from(atob(encoded), (m) => m.codePointAt(0)) ]); let reader = blob.stream().pipeThrough( new DecompressionStream(\"deflate\") ).pipeThrough( new TextDecoderStream(\"utf-8\") ).getReader(); let parts = []; while (true) { let step = await reader.read(); if (step.done) { break; } parts.push(step.value); } let newElt = document.createElement(\"div\"); newElt.innerHTML = parts.join(\"\"); destElt.parentNode.replaceChild(newElt, destElt); for (let oldScript of newElt.querySelectorAll(\"script\")) { let newScript = document.createElement(\"script\"); newScript.type = oldScript.type; newScript.textContent = oldScript.textContent; oldScript.parentNode.replaceChild(newScript, oldScript); } })(); requestAnimationFrame(() => { observer.observe(destElt); }); } })(); </script><div id=\"compress_html_9902a9ee00a04462b2a2d65c79279b21\"><script>window.treescope_decompress_enqueue(\"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\", \"compress_html_9902a9ee00a04462b2a2d65c79279b21\");</script><span style=\"color: #aaaaaa; font-family: monospace\">(Loading...)</span></div></div>"
      ],
      "text/plain": [
       "<IPython.core.display.HTML object>"
      ]
     },
     "metadata": {},
     "output_type": "display_data"
    },
    {
     "data": {
      "text/html": [
       "<div id=\"output_dest_a010cf6f64b44cd7baa05600de5c42d8\"><script> (()=>{ const output = document.getElementById(\"output_a010cf6f64b44cd7baa05600de5c42d8\"); const dest = document.getElementById(\"output_dest_a010cf6f64b44cd7baa05600de5c42d8\"); dest.parentNode.replaceChild(output, dest); })(); </script></div>"
      ],
      "text/plain": [
       "['<s><|user|> What is 3940 * 3892?<|end|><|assistant|> The product of 3940 and 3892 is approximately 1, poorer-than-anything-I-think-of-in-response-to-your-question, but I',\n",
       " \"<s><|user|> What is 3940 * 3892?<|end|><|assistant|> The product of 3940 and 3892 is approximately 1,199,551. However, without the exact calculation, I can't provide the precise total, but it'\",\n",
       " '<s><|user|> What is 3940 * 3892?<|end|><|assistant|> The product of 3940 and 3892 is approximately 11,199,968. To get the exact answer, the product of 3940 and 38',\n",
       " \"<s><|user|> What is 3940 * 3892?<|end|><|assistant|> The product of 3940 and 3892 is approximately 1,199,551. However, without the exact calculation, I can't provide the precise answer, but it'\",\n",
       " '<s><|user|> What is 3940 * 3892?<|end|><|assistant|> The product of 3940 and 3892 is approximately 11,999,888. To get the exact answer, the product of 3940 and 38',\n",
       " '<s><|user|> What is 3940 * 3892?<|end|><|assistant|> The product of 3940 and 3892 is approximately 11,999,888. To calculate it exactly, you can multiply the two numbers:\\n\\n3940',\n",
       " '<s><|user|> What is 3940 * 3892?<|end|><|assistant|> The product of 3940 and 3892 is approximately 11,999,888. To get the exact answer, the calculation is:\\n\\n3940 * ',\n",
       " '<s><|user|> What is 3940 * 3892?<|end|><|assistant|> The product of 3940 and 3892 is approximately 11,993,328. To calculate it exactly, you can multiply the two numbers:\\n\\n3940',\n",
       " '<s><|user|> What is 3940 * 3892?<|end|><|assistant|> The product of 3940 and 3892 is approximately 11,993,328. To calculate it exactly, you can multiply the two numbers:\\n\\n3940',\n",
       " '<s><|user|> What is 3940 * 3892?<|end|><|assistant|> The product of 3940 and 3892 is approximately 11,059,368. To calculate it exactly, you can multiply the two numbers:\\n\\n3940',\n",
       " '<s><|user|> What is 3940 * 3892?<|end|><|assistant|> The product of 3940 and 3892 is 11 breeding ground for mosquitoes. However, the actual product of those numbers is not related to mosquitoes. The product',\n",
       " \"<s><|user|> What is 3940 * 3892?<|end|><|assistant|> The product of 3940 and 3892 is 11,139,360. Without knowing the specific numbers you're asking about, I can't provide a more detailed\",\n",
       " \"<s><|user|> What is 3940 * 3892?<|end|><|assistant|> The product of 3940 and 3892 is 1,173,068. Without a calculator, it's hard to calculate that quickly, but if you're interested\",\n",
       " '<s><|user|> What is 3940 * 3892?<|end|><|assistant|> The product of 3940 and 3892 is 1,1 breeding 9,408, which is not possible as the product of two numbers is always a specific value. However,',\n",
       " '<s><|user|> What is 3940 * 3892?<|end|><|assistant|> The product of 3940 and 3892 is 1,1 breeding 9,408,720.\\n\\nTo calculate it, you can multiply the two numbers:\\n',\n",
       " '<s><|user|> What is 3940 * 3892?<|end|><|assistant|> The product of 3940 and 3892 is 1,1 breeding 9,408,720.\\n\\nTo calculate it, you can multiply the two numbers:\\n',\n",
       " '<s><|user|> What is 3940 * 3892?<|end|><|assistant|> The product of 3940 and 3892 is 1,149,328. To calculate this, you can multiply the two numbers:\\n\\n3940 * 3',\n",
       " '<s><|user|> What is 3940 * 3892?<|end|><|assistant|> The product of 3940 and 3892 is 1,146,236. To calculate this, you can multiply the two numbers:\\n\\n3940 * 3',\n",
       " '<s><|user|> What is 3940 * 3892?<|end|><|assistant|> The product of 3940 and 3892 is 1,143,328. To calculate this, you can multiply the two numbers:\\n\\n3940 * 3',\n",
       " \"<s><|user|> What is 3940 * 3892?<|end|><|assistant|> The product of 3940 and 3892 is 15364320.<|end|><|assistant|> Yes, that's correct! The product of 3940 and 38\",\n",
       " \"<s><|user|> What is 3940 * 3892?<|end|><|assistant|> The product of 3940 and 3892 is 15364320.<|end|><|assistant|> Yes, that's correct. The calculation is as follows:\\n\\n3940\",\n",
       " \"<s><|user|> What is 3940 * 3892?<|end|><|assistant|> The product of 3940 and 3892 is 15363360.<|end|><|assistant|> Yes, that's correct. The calculation is as follows:\\n\\n3940\",\n",
       " \"<s><|user|> What is 3940 * 3892?<|end|><|assistant|> The product of 3940 and 3892 is 15364160.<|end|><|assistant|> Yes, that's correct. The calculation is as follows:\\n\\n3940\",\n",
       " \"<s><|user|> What is 3940 * 3892?<|end|><|assistant|> The product of 3940 and 3892 is 15364080.<|end|><|assistant|> Yes, that's correct. The calculation is as follows:\\n\\n3940\",\n",
       " \"<s><|user|> What is 3940 * 3892?<|end|><|assistant|> The product of 3940 and 3892 is 15363680.<|end|><|assistant|> Yes, that's correct. To verify, you can use a calculator or perform the\",\n",
       " \"<s><|user|> What is 3940 * 3892?<|end|><|assistant|> The product of 3940 and 3892 is 15363680.<|end|><|assistant|> Yes, that's correct. To verify, you can use a calculator or perform the\",\n",
       " \"<s><|user|> What is 3940 * 3892?<|end|><|assistant|> The product of 3940 and 3892 is 15363680.<|end|><|assistant|> Yes, that's correct. To verify, you can use a calculator or perform the\",\n",
       " '<s><|user|> What is 3940 * 3892?<|end|><|assistant|> The product of 3940 and 3892 is 15364880.<|end|><|assistant|> To calculate the product of 3940 and 3892, you can',\n",
       " '<s><|user|> What is 3940 * 3892?<|end|><|assistant|> The product of 3940 and 3892 is 15363680.<|end|><|assistant|> To calculate the product of 3940 and 3892, you can',\n",
       " '<s><|user|> What is 3940 * 3892?<|end|><|assistant|> The product of 3940 and 3892 is 15362080.<|end|><|assistant|> To calculate the product of 3940 and 3892, you can',\n",
       " '<s><|user|> What is 3940 * 3892?<|end|><|assistant|> The product of 3940 and 3892 is 15364880.<|end|><|assistant|> To calculate the product of 3940 and 3892, you can',\n",
       " '<s><|user|> What is 3940 * 3892?<|end|><|assistant|> The product of 3940 and 3892 is 15,341,680.<|end|><|assistant|> To calculate the product of 3940 and 3892,',\n",
       " '<s><|user|> What is 3940 * 3892?<|end|><|assistant|> The product of 3940 and 3892 is 15,360,080.<|end|><|assistant|> To calculate the product of 3940 and 3892,',\n",
       " '<s><|user|> What is 3940 * 3892?<|end|><|assistant|> 3940 * 3892 = 15,309,680.<|end|><|assistant|> To calculate the product of 3940 and 3892, you can use',\n",
       " '<s><|user|> What is 3940 * 3892?<|end|><|assistant|> 3940 * 3892 = 1,536,480.<|end|><|assistant|> To calculate the product of 3940 and 3892, you can use long',\n",
       " '<s><|user|> What is 3940 * 3892?<|end|><|assistant|> 3940 * 3892 = 1,536,080.<|end|><|endoftext|><|endoftext|>arrative:\\n\\n\"In the heart of the bustling city, a young entreprene',\n",
       " '<s><|user|> What is 3940 * 3892?<|end|><|assistant|> 3940 * 3892 = 1,540,080.<|end|><|endoftext|><|endoftext|>arrative:\\n\\n\"In the heart of the bustling city, a young entreprene',\n",
       " '<s><|user|> What is 3940 * 3892?<|end|><|assistant|> 3940 * 3892 = 1,540,880.<|end|><|endoftext|><|endoftext|> input=A 17-year-old juvenile is charged with aggravated',\n",
       " '<s><|user|> What is 3940 * 3892?<|end|><|assistant|> 3940 * 3892 = 1,540,880.<|end|><|endoftext|><|endoftext|> input=A 17-year-old juvenile is charged with aggravated',\n",
       " '<s><|user|> What is 3940 * 3892?<|end|><|assistant|> 3940 * 3892 = 1,540,880. This is a straightforward multiplication problem.<|end|><|endoftext|><|endoftext|><|endoftext|> input=A 17-year-old juven',\n",
       " '<s><|user|> What is 3940 * 3892?<|end|><|assistant|> 3940 * 3892 = 1,460,968. (This is a straightforward multiplication problem.)<|end|><|endoftext|><|endoftext|><|endoftext|> input=A 17-year-old ju',\n",
       " '<s><|user|> What is 3940 * 3892?<|end|><|assistant|> 3940 * 3892 = 11529680.<|end|><|endoftext|><|endoftext|> input=A 10-year-old boy is brought to the physician because of a ',\n",
       " '<s><|user|> What is 3940 * 3892?<|end|><|assistant|> 3940 * 3892 = 11508800. (This is a straightforward multiplication problem.)<|end|><|endoftext|><|endoftext|><|endoftext|> input=A 17-year-old juven',\n",
       " '<s><|user|> What is 3940 * 3892?<|end|><|assistant|> 3940 * 3892 = 3940000 (3940 multiplied by 3892 equals 3940000)<|end|><|endoftext|><|endoftext|>',\n",
       " '<s><|user|> What is 3940 * 3892?<|end|><|assistant|> 3940 * 3892 = 3940000 (3940 multiplied by 3892)<|end|><|endoftext|> \\n[problem]:\\nWrite a short story',\n",
       " '<s><|user|> What is 3940 * 3892?<|end|><|assistant|> 3940 * 3892 = 3940000 (3940 multiplied by 3892)<|end|><|endoftext|> \\n[problem]:\\nWrite a short story',\n",
       " '<s><|user|> What is 3940 * 3892?<|end|><|assistant|> 3940 * 3892 = 3940000 (3940 multiplied by 3892)<|end|><|endoftext|> \\n\\n\\nGrade: ela grade-',\n",
       " '<s><|user|> What is 3940 * 3892?<|end|><|assistant|> 3940 * 3892 = 3940000 (3940 multiplied by 3892)\\n\\nThe answer is a single-digit number, so',\n",
       " '<s><|user|> What is 3940 * 3892?<|end|><|assistant|> 3940 * 3892 = 3940000 (simple multiplication)\\n\\nThe result of 3940 multiplied by 3892 is 39',\n",
       " '<s><|user|> What is 3940 * 3892?<|end|><|assistant|> 3940 * 3892 = 3940000 (simple multiplication)\\n\\nThe result is a number, not a prime number, so it is not a prime number. The',\n",
       " \"<s><|user|> What is 3940 * 3892?<|end|><|assistant|> 3940 * 3892 = 3940000 (simple multiplication)\\n\\nThe result is a number, so it's not a prime number. However, it is a\",\n",
       " '<s><|user|> What is 3940 * 3892?<|end|><|assistant|> 3940 * 3892 = 3940 * (3900 - 100) = 3940 * 3900 - 394',\n",
       " '<s><|user|> What is 3940 * 3892?<|end|><|assistant|> 3940 * 3892 is a simple multiplication problem. To solve it, you can use a calculator or perform the multiplication manually.\\n\\n3940 * 3892 =',\n",
       " '<s><|user|> What is 3940 * 3892?<|end|><|assistant|> 3940 * 3892 is a simple multiplication problem. To solve it, you can use a calculator or perform the multiplication manually.\\n\\n3940 * 3892 =',\n",
       " '<s><|user|> What is 3940 * 3892?<|end|><|assistant|> 3940 * 3892 is a simple multiplication problem. The result is:\\n\\n3940 * 3892 = 3940 dotted with 389',\n",
       " '<s><|user|> What is 3940 * 3892?<|end|><|assistant|> 3940 * 3892 is a simple multiplication operation. The result is:\\n\\n3940 * 3892 = 3940 dotted with 389',\n",
       " '<s><|user|> What is 3940 * 3892?<|end|><|assistant|> The result of 3940 * 3892 is the product of the two numbers, which is the number of times the number 3892 is taken from the number 3940.',\n",
       " '<s><|user|> What is 3940 * 3892?<|end|><|assistant|> The result of 3940 * 3892 is the product of the two numbers, which is the number of unique positions where at least one of the two numbers is not zero. This is a simple integer',\n",
       " '<s><|user|> What is 3940 * 3892?<|end|><|assistant|> The result of 3940 * 3892 is the product of the two numbers, which is the number of unique, non-zero digits that the two numbers contain, and the number of non-zero',\n",
       " '<s><|user|> What is 3940 * 3892?<|end|><|assistant|> The result of 3940 * 3892 is the number obtained by the multiplication of the two numbers, which is the number of digits that is the last digit of the number obtained by the multiplication of the',\n",
       " '<s><|user|> What is 3940 * 3892?<|end|><|assistant|> The result of 3940 * 3892 is the number obtained by the multiplication of the two numbers, which is the prime number, the number that only has two digits, and the number that is the',\n",
       " '<s><|user|> What is 3940 * 3892?<|end|><|assistant|> The result of 3940 * 3892 is the number obtained by the simple integer multiplication of the two numbers. The correct result is obtained by performing the operation:\\n\\n3940 * ',\n",
       " '<s><|user|> What is 3940 * 3892?<|end|><|assistant|> The result of 3940 * 3892 is the number obtained by the simple integer multiplication of the two numbers. The correct result is obtained by performing the operation:\\n\\n3940 * ',\n",
       " \"<s><|user|> What is 3940 * 3892?<|end|><|assistant|> The result of 3940 * 3892 is the number obtained by the simple integer multiplication of the two numbers. The correct result is the number obtained from the following operation:\\n\\n'''<int>\"]"
      ]
     },
     "execution_count": 18,
     "metadata": {},
     "output_type": "execute_result"
    }
   ],
   "source": [
    "from micrlhf.utils.activation_manipulation import set_direction\n",
    "\n",
    "\n",
    "layer = layer_target\n",
    "repeat = 64\n",
    "vector = refusal\n",
    "# vector = recon\n",
    "# act_add = add_vector(llama,\n",
    "#                     (vector / jnp.linalg.norm(vector, axis=-1, keepdims=True))[None, :] * jnp.linspace(-200, 200, repeat)[:, None],\n",
    "#                      layer)\n",
    "act_add = set_direction(llama, vector, jnp.linspace(-100, 100, repeat), layer)\n",
    "\n",
    "sample(act_add, tokenizer, prompt,\n",
    "       batch_size=repeat, do_sample=False)"
   ]
  },
  {
   "cell_type": "code",
   "execution_count": 13,
   "metadata": {},
   "outputs": [
    {
     "data": {
      "text/html": [
       "<div id=\"output_957e926f8f5a44949873385555d5eb92\"><script> /* penzai.treescope rendering of a Python object (compressed) */ (()=>{ let observer; let lastStep = new Promise((resolve, reject) => { observer = new IntersectionObserver((entries) => { for (const entry of entries) { if (entry.isIntersecting) { resolve(); observer.disconnect(); return; } } }, {rootMargin: \"1000px\"}); }); window.treescope_decompress_enqueue = (encoded, destId) => { const previous = lastStep; const destElt = document.getElementById(destId); lastStep = (async () => { await previous; let blob = new Blob([ Uint8Array.from(atob(encoded), (m) => m.codePointAt(0)) ]); let reader = blob.stream().pipeThrough( new DecompressionStream(\"deflate\") ).pipeThrough( new TextDecoderStream(\"utf-8\") ).getReader(); let parts = []; while (true) { let step = await reader.read(); if (step.done) { break; } parts.push(step.value); } let newElt = document.createElement(\"div\"); newElt.innerHTML = parts.join(\"\"); destElt.parentNode.replaceChild(newElt, destElt); for (let oldScript of newElt.querySelectorAll(\"script\")) { let newScript = document.createElement(\"script\"); newScript.type = oldScript.type; newScript.textContent = oldScript.textContent; oldScript.parentNode.replaceChild(newScript, oldScript); } })(); requestAnimationFrame(() => { observer.observe(destElt); }); } })(); </script><div id=\"compress_html_c4caad9b86e14a7ea9c05bc27966d1d5\"><script>window.treescope_decompress_enqueue(\"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\", \"compress_html_c4caad9b86e14a7ea9c05bc27966d1d5\");</script><span style=\"color: #aaaaaa; font-family: monospace\">(Loading...)</span></div></div>"
      ],
      "text/plain": [
       "<IPython.core.display.HTML object>"
      ]
     },
     "metadata": {},
     "output_type": "display_data"
    },
    {
     "data": {
      "text/html": [
       "<div id=\"compress_html_ed0864071d2445f680c4461bf1ca23ef\"><script>window.treescope_decompress_enqueue(\"eNrtW9ty4zYSfd+vQHFqYyojcQjeKVmq2p3ZVOUlD1upyoPLxQIJSOSaIhQS8mWm5j3zH8kH7C/sp8yXbAPQjbIsaxw7sxf6QQKJ7kY3+oZDU+e0uEaNuCvZ2KBFsyjJ3RBVvGIGKujYmPI6oWzK6prRxI48J6M2m1KPebbjE5y5NMXTgNppGmahMTlvFqSCTylvYqVcCD4vi4oNKy5Ma8pLStKSJRWnbJiTxpyUJGXlpD2TCD6blZpnmOUsu2K010Pf9tAHtCCUFtVsIPhiiGwL+2w+QnKFQc6KWS6GCFvq3kcr4yUoT9K0ZtfAqS6H6FUQOcS2twQZn89ZJZKbnFUJuwX9KaPPpu96VaL+tqtWy3nK6h0CO46wH2wJGlGDnbsSXOxjf0MA7pBmbwnSkmRXI5TC56zmy4oOVhPXpDYHg7Tk2ZW+1QMqXlNW613Ei1vU8LKgxyi1Kx8j/ois/G7BatDsKqnZnAuW5PwaDN1X+r6a/KrMcjPy/izd6vkI27GWeEOapMlqXpbALrg1LepGJKLIrk6WGnsWlnLtGGE3sMKDgpX/ji7Xu7egqEnVFKLg1fDe4gg3iJGGDYpqwJeij6a8EoMbFaZ7c9KreZYnkD0ZS0o2FTuhLi9lrPtZ3qarlaQtYa0TYEP585KUFZmzZFGzaXELlEqDpnjPJFWk06QRRAZskuVFSWtWbUzUnkcT1CZ5ttTYVBsVQyM0J/UMtkObm5EyM50sRwPQ1Mty7bFHdH0x1VZJoFXT4a+0OpgErRKl7ACPlDn6FpkYzNllWcltgIr1er3NHmxZB6fzrtddp6ri3Ihc3x2sbv+Bu7ktNmoHBzWhxbJZGYjZHKx72DCl6e9T4tEQ/9Cqh9q/stCdUA+PE3+0QOKL9L+tk4+1QNXTVEmCbrLYDWzZ4dXWipqxJuMLKCecC2tDnMxBE3REQlHJNXUhlUSg7aOEpyz2oJyVyudv9OlCHTVQVpKmGRttNVfnkPWxpuUV6KQ0jTyfjA7FG2zoyGiLbrkGFU2iGwKvVA8AYu3C86JaLAUS0P7GhnJaym+Ng0JW/gXWN4qpvd62gQrIXCYMRIkggyt2tyAiHxt76rUa0iraULuXGKfs1Wpyr2cYkwWr3pNi6znInQVo0kBnn5KylE3PApeoY5/++oGLv6+lL6TRZnv+/M1qx3bWPZNS0yXEdHWGePW2hHY7PtsumsOpDHZPUiWZnDRFXjS9M7038vbYMEsyTylBMrSG6rNnbENgQzhEZwcoz0ZoRUMqiECiW/rZW2BAct9hvDndtq3Z3b39QoPahcY4Qn2PlEM7LypSwjlqUY+/KESsFu+hgFkdL43JN69unXD0l7omdya2bM/2nNjrI6rieFpyIlynp4nadvfvxxRILsmiYdSYoEO70zphG3+A/9v7cHo07PE9PTZOjJSHfQ8Q7ImeL+hBv2vcYUxiD9tOjDF2Ijuy/5tdW9CnOBa4vqJbVXY90bGS91iLev6OdAQnG0fD4NXBWLnXYv5BbtctRBWiI33iWKAZBdyrxE75PTpvTJ7PAbuPGqCmlmKkJpAunNI+ZZi+/GYmRkdC6CumkrTsKcmk+J4rnU5Ntb196nd7edK2tc6L2wd0aO+xgjHpfZknWsf2R9NjkxJHDh3302T9RYvryfkXPLek2A39zKa+g10Pu1kaOswJQ+a7jutEbrR9btlBig5SdJDiOSBFK8tRUUFKmzjo99DF50+/BTLdP3/61QsS348uZd6+ZzUf4kBmfQc3/kfhhhc7nm3joIMbHdzo4EYHNzq40cGNF4Abj+XWBb78ygfydgL/nuq30yllHTghKjdV8gmns+PrPwzYXriyaiR54UZu7PSRg+Mg6iMUurHfR64fY9xHXgCm9BEOI3kTRU4g52wvhjk3dH2v/yek/3Ds+DCH3dgFYRiHYQAMcRjAFUJqb+Aw48s5L7bjyzVuVZvYe0Kt+VI0y9LUxVMWeJnjyWNV5LIozezI97BDqe92aLZDsx2afUk0u3pEpSvm50+/uFaE/vVP2/Kwqp+upeunb9kdtP3/gLaRi73Iizpo20HbDtp20LaDth20/TrQ1umgbQvaPu2o9p+Ncz0rjl0cYgRIFAwBgBurIY58G2AgAFor9uLIDUM1dCIHiOQwcrAXBFuoq+7Ig4ucDDGOgF0OgyDwgUsPcRQEauj7OIqxK4cgHXsgfivIC33b9dSCXgBUAVJDCVC1Rp7rRnbgXe7/m/epgLnJIDvExDR7aDxBHzJeNRC+Kim+pw0aowvj9N+t9JFx+j+Ld4kfxeKXI62ZLE2g1A24lN/sgEVQN2m/FWsiyrOlTBE5+beSyeFf776n5sa6C/tSvhitJU9rMpMkIH3DmNWMCPZudfndisLc8Mh13pYcitV4w2+RBUBZ+laGmqkqaSYpfoCMN0W9VK9iT3mNzJIJVACjPYKv8+2eWyWrZiKHu69fy1eVJZ2e3F3lQZuKS1hA8jR8WWfsXXG9a9Eem3oiYqDXaI9fX1oANkoowD8VIjc34vQvOVZSlJnAsJ2VP1e5ZqZ64Vy/nbwjZLNhcroniSAadQSuI/Gea1n185It2btVrPzI5iBPsMbsbXj/DRS9xbU=\", \"compress_html_ed0864071d2445f680c4461bf1ca23ef\");</script></div>"
      ],
      "text/plain": [
       "<IPython.core.display.HTML object>"
      ]
     },
     "metadata": {},
     "output_type": "display_data"
    },
    {
     "data": {
      "text/html": [
       "<div id=\"output_dest_957e926f8f5a44949873385555d5eb92\"><script> (()=>{ const output = document.getElementById(\"output_957e926f8f5a44949873385555d5eb92\"); const dest = document.getElementById(\"output_dest_957e926f8f5a44949873385555d5eb92\"); dest.parentNode.replaceChild(output, dest); })(); </script></div>"
      ],
      "text/plain": [
       "(<jax.Array(1.0404294, dtype=float32)>,\n",
       " # jax.Array int32(16,) [≥694, ≤46_558] nonzero:16\n",
       "   Array([38392, 21968,  7395, 35911, 46558, 17895,  8265, 30491, 37354,\n",
       "          19255, 13932, 11776,  9762,   694, 41052, 14909], dtype=int32)\n",
       " ,\n",
       " # jax.Array float32(16,) ≈3.8 ±0.41 [≥3.4, ≤5.0] nonzero:16\n",
       "   Array([4.993171 , 4.415919 , 4.1850085, 3.9498377, 3.9282415, 3.8214664,\n",
       "          3.8211484, 3.7118008, 3.6665282, 3.6618662, 3.5518913, 3.4981477,\n",
       "          3.4750347, 3.469136 , 3.4441085, 3.4338064], dtype=float32)\n",
       " )"
      ]
     },
     "execution_count": 13,
     "metadata": {},
     "output_type": "execute_result"
    }
   ],
   "source": [
    "from micrlhf.utils.load_sae import get_sae\n",
    "from micrlhf.utils.ito import grad_pursuit\n",
    "refusal_steer = addition[-4]\n",
    "sae_steer = get_sae(10, 4)\n",
    "k = 16\n",
    "w, recon_steer = grad_pursuit(refusal_steer, sae_steer[\"W_dec\"], k, pos_only=True)\n",
    "i = jax.lax.top_k(jnp.abs(w), k)[1]\n",
    "((recon_steer - refusal_steer) ** 2).mean(), i, w[i]"
   ]
  },
  {
   "cell_type": "code",
   "execution_count": 14,
   "metadata": {},
   "outputs": [
    {
     "data": {
      "application/vnd.jupyter.widget-view+json": {
       "model_id": "72fe025d5c1c460490be49af18729455",
       "version_major": 2,
       "version_minor": 0
      },
      "text/plain": [
       "  0%|          | 0/46 [00:00<?, ?it/s]"
      ]
     },
     "metadata": {},
     "output_type": "display_data"
    },
    {
     "data": {
      "text/html": [
       "<div id=\"output_9c4e441074074d9c87a676031c8b3c18\"><script> /* penzai.treescope rendering of a Python object (compressed) */ (()=>{ let observer; let lastStep = new Promise((resolve, reject) => { observer = new IntersectionObserver((entries) => { for (const entry of entries) { if (entry.isIntersecting) { resolve(); observer.disconnect(); return; } } }, {rootMargin: \"1000px\"}); }); window.treescope_decompress_enqueue = (encoded, destId) => { const previous = lastStep; const destElt = document.getElementById(destId); lastStep = (async () => { await previous; let blob = new Blob([ Uint8Array.from(atob(encoded), (m) => m.codePointAt(0)) ]); let reader = blob.stream().pipeThrough( new DecompressionStream(\"deflate\") ).pipeThrough( new TextDecoderStream(\"utf-8\") ).getReader(); let parts = []; while (true) { let step = await reader.read(); if (step.done) { break; } parts.push(step.value); } let newElt = document.createElement(\"div\"); newElt.innerHTML = parts.join(\"\"); destElt.parentNode.replaceChild(newElt, destElt); for (let oldScript of newElt.querySelectorAll(\"script\")) { let newScript = document.createElement(\"script\"); newScript.type = oldScript.type; newScript.textContent = oldScript.textContent; oldScript.parentNode.replaceChild(newScript, oldScript); } })(); requestAnimationFrame(() => { observer.observe(destElt); }); } })(); </script><div id=\"compress_html_ff4e35935d4b4453b839694470f32b32\"><script>window.treescope_decompress_enqueue(\"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\", \"compress_html_ff4e35935d4b4453b839694470f32b32\");</script><span style=\"color: #aaaaaa; font-family: monospace\">(Loading...)</span></div></div>"
      ],
      "text/plain": [
       "<IPython.core.display.HTML object>"
      ]
     },
     "metadata": {},
     "output_type": "display_data"
    },
    {
     "data": {
      "text/html": [
       "<div id=\"output_dest_9c4e441074074d9c87a676031c8b3c18\"><script> (()=>{ const output = document.getElementById(\"output_9c4e441074074d9c87a676031c8b3c18\"); const dest = document.getElementById(\"output_dest_9c4e441074074d9c87a676031c8b3c18\"); dest.parentNode.replaceChild(output, dest); })(); </script></div>"
      ],
      "text/plain": [
       "['<s><|user|> What is 3940 * 3892?<|end|><|assistant|> To calculate the product of 3940 and 3892, you can use the standard multiplication method:\\n\\n3940\\nx 3892\\n-----\\nFirst, multiply the ones',\n",
       " '<s><|user|> What is 3940 * 3892?<|end|><|assistant|> To calculate the product of 3940 and 3892, you can use the standard multiplication method:\\n\\n3940\\nx 3892\\n-----\\nFirst, multiply the ones',\n",
       " '<s><|user|> What is 3940 * 3892?<|end|><|assistant|> To calculate the product of 3940 and 3892, you can use the standard multiplication method:\\n\\n3940\\nx 3892\\n-----\\nFirst, multiply 3',\n",
       " '<s><|user|> What is 3940 * 3892?<|end|><|assistant|> To calculate the product of 3940 and 3892, you can use the standard multiplication method:\\n\\n3940\\nx 3892\\n-----\\nFirst, multiply 3',\n",
       " '<s><|user|> What is 3940 * 3892?<|end|><|assistant|> To calculate the product of 3940 and 3892, you can use the standard multiplication method:\\n\\n3940\\nx 3892\\n-----\\n15760',\n",
       " '<s><|user|> What is 3940 * 3892?<|end|><|assistant|> To calculate the product of 3940 and 3892, you can use the standard multiplication method:\\n\\n3940\\nx 3892\\n-----\\n15760',\n",
       " '<s><|user|> What is 3940 * 3892?<|end|><|assistant|> To calculate the product of 3940 and 3892, you can use the standard multiplication method:\\n\\n3940\\nx 3892\\n-----\\n15760',\n",
       " '<s><|user|> What is 3940 * 3892?<|end|><|assistant|> To calculate the product of 3940 and 3892, you can use the standard multiplication method:\\n\\n3940\\nx 3892\\n-----\\n15760',\n",
       " '<s><|user|> What is 3940 * 3892?<|end|><|assistant|> To calculate the product of 3940 and 3892, you can use the standard multiplication method:\\n\\n3940\\nx 3892\\n-----\\n15760',\n",
       " '<s><|user|> What is 3940 * 3892?<|end|><|assistant|> To calculate the product of 3940 and 3892, you can use the standard multiplication method:\\n\\n3940\\nx 3892\\n-----\\n15760',\n",
       " '<s><|user|> What is 3940 * 3892?<|end|><|assistant|> To calculate the product of 3940 and 3892, you can use the standard multiplication method:\\n\\n3940\\nx 3892\\n-----\\n15720',\n",
       " '<s><|user|> What is 3940 * 3892?<|end|><|assistant|> To calculate the product of 3940 and 3892, you can use the standard multiplication method:\\n\\n3940\\nx 3892\\n_____\\n1576',\n",
       " '<s><|user|> What is 3940 * 3892?<|end|><|assistant|> To calculate the product of 3940 and 3892, you can use the standard multiplication method:\\n\\n3940\\nx 3892\\n_____\\n1576',\n",
       " '<s><|user|> What is 3940 * 3892?<|end|><|assistant|> To calculate the product of 3940 and 3892, you can use the standard multiplication method:\\n\\n3940\\nx 3892\\n_____\\n1576',\n",
       " '<s><|user|> What is 3940 * 3892?<|end|><|assistant|> To calculate the product of 3940 and 3892, you can use the standard multiplication method:\\n\\n3940\\nx 3892\\n_____\\n1572',\n",
       " '<s><|user|> What is 3940 * 3892?<|end|><|assistant|> To calculate the product of 3940 and 3892, you can use the standard multiplication method:\\n\\n3940\\nx 3892\\n_____\\n1576',\n",
       " '<s><|user|> What is 3940 * 3892?<|end|><|assistant|> To calculate the product of 3940 and 3892, you can use the standard multiplication method:\\n\\n3940\\nx 3892\\n_____\\n1572',\n",
       " '<s><|user|> What is 3940 * 3892?<|end|><|assistant|> To calculate the product of 3940 and 3892, you can use the standard multiplication method:\\n\\n3940\\nx 3892\\n_____\\n1572',\n",
       " '<s><|user|> What is 3940 * 3892?<|end|><|assistant|> The product of 3940 and 3892 is 15,361,280. You can calculate this by multiplying the two numbers together:\\n\\n3940\\n',\n",
       " '<s><|user|> What is 3940 * 3892?<|end|><|assistant|> The product of 3940 and 3892 is 15,361,280. You can calculate this by multiplying the two numbers together:\\n\\n3940\\n',\n",
       " '<s><|user|> What is 3940 * 3892?<|end|><|assistant|> The product of 3940 and 3892 is 15,365,280. You can calculate this by multiplying the two numbers together:\\n\\n3940\\n',\n",
       " '<s><|user|> What is 3940 * 3892?<|end|><|assistant|> The product of 3940 and 3892 is 15,361,280. You can calculate this by multiplying the two numbers together:\\n\\n3940\\n',\n",
       " '<s><|user|> What is 3940 * 3892?<|end|><|assistant|> The product of 3940 and 3892 is 15,360,080. You can calculate this by multiplying the two numbers together.<|end|><|assistant|> To calculate 39',\n",
       " '<s><|user|> What is 3940 * 3892?<|end|><|assistant|> The product of 3940 and 3892 is 15,361,280. You can calculate this by multiplying the two numbers together.<|end|><|assistant|> To calculate 39',\n",
       " '<s><|user|> What is 3940 * 3892?<|end|><|assistant|> The product of 3940 and 3892 is 15,354,080. You can calculate this by multiplying the two numbers together.<|end|><|assistant|> To calculate 39',\n",
       " '<s><|user|> What is 3940 * 3892?<|end|><|assistant|> The product of 3940 and 3892 is 15,361,280. You can calculate this by multiplying the two numbers together.<|end|><|assistant|> To calculate 39',\n",
       " '<s><|user|> What is 3940 * 3892?<|end|><|assistant|> The product of 3940 and 3892 is 15,360,080.<|end|><|assistant|> To calculate the product of 3940 and 3892,',\n",
       " '<s><|user|> What is 3940 * 3892?<|end|><|assistant|> The product of 3940 and 3892 is 15,354,080.<|end|><|assistant|> To calculate the product of 3940 and 3892,',\n",
       " '<s><|user|> What is 3940 * 3892?<|end|><|assistant|> The product of 3940 and 3892 is 15364880.<|end|><|assistant|> To calculate the product of 3940 and 3892, you can',\n",
       " '<s><|user|> What is 3940 * 3892?<|end|><|assistant|> The product of 3940 and 3892 is 15364880.<|end|><|assistant|> To calculate the product of 3940 and 3892, you can',\n",
       " '<s><|user|> What is 3940 * 3892?<|end|><|assistant|> The product of 3940 and 3892 is 15360880.<|end|><|assistant|> To calculate the product of 3940 and 3892, you can',\n",
       " '<s><|user|> What is 3940 * 3892?<|end|><|assistant|> The product of 3940 and 3892 is 15363680.<|end|><|assistant|> To calculate the product of 3940 and 3892, you can',\n",
       " '<s><|user|> What is 3940 * 3892?<|end|><|assistant|> The product of 3940 and 3892 is 15360880.<|end|><|assistant|> To calculate the product of 3940 and 3892, you can',\n",
       " '<s><|user|> What is 3940 * 3892?<|end|><|assistant|> The product of 3940 and 3892 is 15360880.<|end|><|assistant|> To calculate the product of 3940 and 3892, you can',\n",
       " '<s><|user|> What is 3940 * 3892?<|end|><|assistant|> The product of 3940 and 3892 is 15360880.<|end|><|assistant|> To calculate the product of 3940 and 3892, you can',\n",
       " '<s><|user|> What is 3940 * 3892?<|end|><|assistant|> The product of 3940 and 3892 is 15363680.<|end|><|assistant|> To calculate the product of 3940 and 3892, you can',\n",
       " '<s><|user|> What is 3940 * 3892?<|end|><|assistant|> The product of 3940 and 3892 is 15363680.<|end|><|assistant|> To calculate the product of 3940 and 3892, you can',\n",
       " '<s><|user|> What is 3940 * 3892?<|end|><|assistant|> The product of 3940 and 3892 is 15364880.<|end|><|assistant|> To calculate the product of 3940 and 3892, you can',\n",
       " '<s><|user|> What is 3940 * 3892?<|end|><|assistant|> The product of 3940 and 3892 is 15366880.<|end|><|assistant|> To calculate the product of 3940 and 3892, you can',\n",
       " '<s><|user|> What is 3940 * 3892?<|end|><|assistant|> The product of 3940 and 3892 is 15362080.<|end|><|assistant|> To calculate the product of 3940 and 3892, you can',\n",
       " '<s><|user|> What is 3940 * 3892?<|end|><|assistant|> The product of 3940 and 3892 is 15363680.<|end|><|assistant|> To calculate the product of 3940 and 3892, you can',\n",
       " '<s><|user|> What is 3940 * 3892?<|end|><|assistant|> The product of 3940 and 3892 is 15366880.<|end|><|assistant|> To calculate the product of 3940 and 3892, you can',\n",
       " '<s><|user|> What is 3940 * 3892?<|end|><|assistant|> The product of 3940 and 3892 is 15363680.<|end|><|assistant|> 3940 * 3892 = 153636',\n",
       " '<s><|user|> What is 3940 * 3892?<|end|><|assistant|> The product of 3940 and 3892 is 15366880.<|end|><|assistant|> To calculate the product of 3940 and 3892, you can',\n",
       " '<s><|user|> What is 3940 * 3892?<|end|><|assistant|> The product of 3940 and 3892 is 15363680.<|end|><|assistant|> To calculate the product of 3940 and 3892, you can',\n",
       " '<s><|user|> What is 3940 * 3892?<|end|><|assistant|> The product of 3940 and 3892 is 15363680.<|end|><|assistant|> To calculate the product of 3940 and 3892, you can',\n",
       " '<s><|user|> What is 3940 * 3892?<|end|><|assistant|> The product of 3940 and 3892 is 15287680.<|end|><|assistant|> To calculate the product of 3940 and 3892, you can',\n",
       " '<s><|user|> What is 3940 * 3892?<|end|><|assistant|> The product of 3940 and 3892 is 15287680.<|end|><|assistant|> To calculate the product of 3940 and 3892, you can',\n",
       " '<s><|user|> What is 3940 * 3892?<|end|><|assistant|> The product of 3940 and 3892 is 15283680.<|end|><|assistant|> To calculate the product of 3940 and 3892, you can',\n",
       " '<s><|user|> What is 3940 * 3892?<|end|><|assistant|> To calculate the product of 3940 and 3892, you can use a calculator or perform the multiplication manually.\\n\\n3940 * 3892 = 15,',\n",
       " '<s><|user|> What is 3940 * 3892?<|end|><|assistant|> To calculate the product of 3940 and 3892, you can use a calculator or perform the multiplication manually.\\n\\n3940 * 3892 = 15,',\n",
       " '<s><|user|> What is 3940 * 3892?<|end|><|assistant|> To calculate the product of 3940 and 3892, you can use a calculator or perform the multiplication manually.\\n\\n3940 * 3892 = 15,',\n",
       " '<s><|user|> What is 3940 * 3892?<|end|><|assistant|> To calculate the product of 3940 and 3892, you can use a calculator or perform the multiplication manually.\\n\\n3940 * 3892 = 15,',\n",
       " '<s><|user|> What is 3940 * 3892?<|end|><|assistant|> To calculate the product of 3940 and 3892, you can use a calculator or perform the multiplication manually.\\n\\n3940 * 3892 = 15,',\n",
       " '<s><|user|> What is 3940 * 3892?<|end|><|assistant|> To find the product of 3940 and 3892, you can use a calculator or perform the multiplication manually.\\n\\n3940 * 3892 = 15,',\n",
       " '<s><|user|> What is 3940 * 3892?<|end|><|assistant|> To find the product of 3940 and 3892, you can use a calculator or perform the multiplication manually.\\n\\n3940 * 3892 = 15,',\n",
       " '<s><|user|> What is 3940 * 3892?<|end|><|assistant|> To find the product of 3940 and 3892, you can use a calculator or perform the multiplication manually.\\n\\n3940 * 3892 = 153',\n",
       " \"<s><|user|> What is 3940 * 3892?<|end|><|assistant|> To find the product of 3940 and 3892, you can use a calculator or perform the multiplication manually.\\n\\nHere's the calculation:\\n\\n3940\\nx   \",\n",
       " \"<s><|user|> What is 3940 * 3892?<|end|><|assistant|> To find the product of 3940 and 3892, you can use a calculator or perform the multiplication manually.\\n\\nHere's the calculation:\\n\\n3940\\nx   \",\n",
       " \"<s><|user|> What is 3940 * 3892?<|end|><|assistant|> To find the product of 3940 and 3892, you can use a calculator or perform the multiplication manually.\\n\\nHere's the calculation:\\n\\n3940\\nx   \",\n",
       " \"<s><|user|> What is 3940 * 3892?<|end|><|assistant|> To multiply 3940 by 3892, you can use a calculator or do the multiplication manually. Here's the calculation:\\n\\n3940\\nx    3892\\n\",\n",
       " \"<s><|user|> What is 3940 * 3892?<|end|><|assistant|> To multiply 3940 by 3892, you can use a calculator or do the multiplication manually. Here's the calculation:\\n\\n3940\\nx    3892\\n\",\n",
       " \"<s><|user|> What is 3940 * 3892?<|end|><|assistant|> To multiply 3940 by 3892, you can use a calculator or do the multiplication manually. Here's the calculation:\\n\\n3940 * 3892 = \",\n",
       " \"<s><|user|> What is 3940 * 3892?<|end|><|assistant|> To find the product of 3940 and 3892, you can use a calculator or perform the multiplication manually.\\n\\nHere's the calculation:\\n\\n3940 * 3\"]"
      ]
     },
     "execution_count": 14,
     "metadata": {},
     "output_type": "execute_result"
    }
   ],
   "source": [
    "layer = layer_source\n",
    "repeat = 64\n",
    "# vector = addition[-4]\n",
    "vector = recon_steer\n",
    "act_add = add_vector(llama,\n",
    "                     (vector / jnp.linalg.norm(vector, axis=-1, keepdims=True))[None, :] * jnp.linspace(-scale * 2, scale * 2, repeat)[:, None],\n",
    "                     layer)\n",
    "\n",
    "sample(act_add, tokenizer, prompt,\n",
    "       batch_size=repeat, do_sample=False)"
   ]
  },
  {
   "cell_type": "code",
   "execution_count": null,
   "metadata": {},
   "outputs": [],
   "source": []
  }
 ],
 "metadata": {
  "kernelspec": {
   "display_name": "micrlhf-progress-a058ydGG-py3.12",
   "language": "python",
   "name": "python3"
  },
  "language_info": {
   "codemirror_mode": {
    "name": "ipython",
    "version": 3
   },
   "file_extension": ".py",
   "mimetype": "text/x-python",
   "name": "python",
   "nbconvert_exporter": "python",
   "pygments_lexer": "ipython3",
   "version": "3.12.3"
  }
 },
 "nbformat": 4,
 "nbformat_minor": 2
}
