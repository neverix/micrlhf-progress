{
 "cells": [
  {
   "cell_type": "code",
   "execution_count": 1,
   "metadata": {},
   "outputs": [],
   "source": [
    "%load_ext autoreload\n",
    "%autoreload 2\n",
    "import penzai\n",
    "from penzai import pz\n",
    "pz.ts.register_as_default()\n",
    "pz.ts.register_autovisualize_magic()\n",
    "pz.enable_interactive_context()"
   ]
  },
  {
   "cell_type": "code",
   "execution_count": 2,
   "metadata": {},
   "outputs": [],
   "source": [
    "filename = \"models/phi-3-16.gguf\"\n",
    "from micrlhf.llama import LlamaTransformer\n",
    "llama = LlamaTransformer.from_pretrained(filename, device_map=\"tpu:0\")"
   ]
  },
  {
   "cell_type": "code",
   "execution_count": 3,
   "metadata": {},
   "outputs": [
    {
     "name": "stderr",
     "output_type": "stream",
     "text": [
      "/home/neverix/.cache/pypoetry/virtualenvs/micrlhf-progress-a058ydGG-py3.12/lib/python3.12/site-packages/huggingface_hub/file_download.py:1132: FutureWarning: `resume_download` is deprecated and will be removed in version 1.0.0. Downloads always resume when possible. If you want to force a new download, use `force_download=True`.\n",
      "  warnings.warn(\n",
      "Special tokens have been added in the vocabulary, make sure the associated word embeddings are fine-tuned or trained.\n"
     ]
    }
   ],
   "source": [
    "from transformers import AutoTokenizer\n",
    "tokenizer = AutoTokenizer.from_pretrained(\"microsoft/Phi-3-mini-4k-instruct\")\n",
    "tokenizer.padding_side = \"right\""
   ]
  },
  {
   "cell_type": "code",
   "execution_count": 4,
   "metadata": {},
   "outputs": [],
   "source": [
    "import jax\n",
    "import jax.numpy as jnp\n",
    "prompt = \"\"\"<|user|>\n",
    "What is 3940 * 3892?<|end|>\n",
    "<|assistant|>\n",
    "\"\"\"\n",
    "tokens = tokenizer.encode(prompt)\n",
    "def tokens_to_array(tokens):\n",
    "    token_array = jnp.asarray(tokens)\n",
    "    if len(token_array) >= llama.mesh.shape[\"dp\"]:\n",
    "        token_array = jax.device_put(token_array, jax.sharding.NamedSharding(llama.mesh, jax.sharding.PartitionSpec(\"dp\", \"sp\")))\n",
    "    token_array = pz.nx.wrap(token_array, \"batch\", \"seq\")\n",
    "    return token_array"
   ]
  },
  {
   "cell_type": "code",
   "execution_count": 5,
   "metadata": {},
   "outputs": [],
   "source": [
    "from micrlhf.llama import LlamaBlock\n",
    "from functools import partial\n",
    "\n",
    "\n",
    "layer_source = 10\n",
    "def make_get_resids(llama, layer_target):\n",
    "    get_resids = llama.select().at_instances_of(LlamaBlock).pick_nth_selected(layer_target\n",
    "                                                                              ).apply(lambda x:\n",
    "        pz.nn.Sequential([\n",
    "            pz.de.TellIntermediate.from_config(tag=f\"resid_pre\"),\n",
    "            x\n",
    "        ])\n",
    "    )\n",
    "    get_resids = pz.de.CollectingSideOutputs.handling(get_resids, tag_predicate=lambda x: x.startswith(\"resid_pre\"))\n",
    "    return get_resids\n",
    "jittify = lambda x: partial(jax.jit(lambda lr, *args, **kwargs: lr(*args, **kwargs)[1][0].value), x)\n",
    "get_resids_initial = make_get_resids(llama, layer_source)\n",
    "get_resids_initial = jittify(get_resids_initial)"
   ]
  },
  {
   "cell_type": "code",
   "execution_count": 6,
   "metadata": {},
   "outputs": [],
   "source": [
    "layer_target = 20\n",
    "taker = jittify(make_get_resids(llama, layer_target).select().at_instances_of(LlamaBlock).apply_with_selected_index(\n",
    "    lambda i, x: x if i >= layer_source else pz.nn.Identity()\n",
    ").select().at_instances_of(pz.nn.EmbeddingLookup).apply(lambda _: pz.nn.Identity())\n",
    "                .select().at_instances_of(pz.nn.ConstantRescale).pick_nth_selected(0).apply(lambda _: pz.nn.Identity()))"
   ]
  },
  {
   "cell_type": "code",
   "execution_count": 7,
   "metadata": {},
   "outputs": [],
   "source": [
    "import dataclasses\n",
    "import jax.numpy as jnp\n",
    "from tqdm.auto import trange\n",
    "import optax\n",
    "\n",
    "\n",
    "inputs = llama.inputs.from_basic_segments(tokens_to_array([tokens]))\n",
    "resid_initial = get_resids_initial(inputs)\n",
    "bs = 16\n",
    "seed = 9\n",
    "iterations = 1000\n",
    "scale = 10\n",
    "def get_loss(rep):\n",
    "    rep = pz.nx.wrap(rep, \"batch\", \"embedding\")\n",
    "    rep = pz.nx.nmap(lambda a: a / jnp.linalg.norm(a) * scale)(rep.untag(\"embedding\")).tag(\"embedding\")\n",
    "    resid = pz.nx.nmap(lambda x, y: x.at[-1].add(y))(resid_initial[{\"batch\": 0}].untag(\"seq\"), rep).tag(\"seq\")\n",
    "    resid_out = taker(dataclasses.replace(inputs, tokens=resid,\n",
    "                                          attention_mask=inputs.attention_mask,\n",
    "                                          positions=inputs.positions))[{\"seq\": -1}]\n",
    "    diffs = pz.nx.nmap(lambda x: (x[:, None] - x[None, :]) ** 2)(resid_out.untag(\"batch\")).tag(\"batch1\", \"batch2\")\n",
    "    diffs = diffs.untag(\"embedding\").sum()  # ** 0.5\n",
    "    loss = diffs.data_array.mean()\n",
    "    return -loss, (resid_out,)\n",
    "start_add = jax.random.normal(jax.random.key(seed),\n",
    "                              (bs, resid_initial.named_shape[\"embedding\"]), dtype=resid_initial.dtype)\n",
    "\n",
    "optimizer = optax.chain(\n",
    "    optax.clip_by_global_norm(1.0),\n",
    "    optax.adam(1e-2),\n",
    "    optax.zero_nans(),\n",
    "    \n",
    ")\n",
    "lwg = jax.value_and_grad(get_loss, has_aux=True)\n",
    "# lwg = jax.jit(lwg)\n",
    "\n",
    "# @partial(jax.jit, donate_argnums=(0, 1))\n",
    "def train_step(addition, opt_state):\n",
    "    (loss, (resid_out,)), grad = lwg(addition)\n",
    "    updates, opt_state = optimizer.update(grad, opt_state, addition)\n",
    "    addition = optax.apply_updates(addition, updates)\n",
    "    return loss, addition, opt_state, dict(resid_out=resid_out)\n"
   ]
  },
  {
   "cell_type": "code",
   "execution_count": 8,
   "metadata": {},
   "outputs": [
    {
     "data": {
      "application/vnd.jupyter.widget-view+json": {
       "model_id": "46b53d9414414fa2a14355da57cc28fa",
       "version_major": 2,
       "version_minor": 0
      },
      "text/plain": [
       "  0%|          | 0/1000 [00:00<?, ?it/s]"
      ]
     },
     "metadata": {},
     "output_type": "display_data"
    }
   ],
   "source": [
    "addition = start_add\n",
    "opt_state = optimizer.init(addition)\n",
    "for _ in (bar := trange(iterations)):\n",
    "    loss, addition, opt_state, aux = train_step(addition, opt_state)\n",
    "    bar.set_postfix(loss=loss)"
   ]
  },
  {
   "cell_type": "code",
   "execution_count": 9,
   "metadata": {},
   "outputs": [
    {
     "data": {
      "application/vnd.jupyter.widget-view+json": {
       "model_id": "69d1ce6418ba4362847a01365feef989",
       "version_major": 2,
       "version_minor": 0
      },
      "text/plain": [
       "  0%|          | 0/46 [00:00<?, ?it/s]"
      ]
     },
     "metadata": {},
     "output_type": "display_data"
    },
    {
     "data": {
      "text/html": [
       "<div id=\"output_8fc89d1855dd474e85f8870d21348882\"><script> /* penzai.treescope rendering of a Python object (compressed) */ (()=>{ let observer; let lastStep = new Promise((resolve, reject) => { observer = new IntersectionObserver((entries) => { for (const entry of entries) { if (entry.isIntersecting) { resolve(); observer.disconnect(); return; } } }, {rootMargin: \"1000px\"}); }); window.treescope_decompress_enqueue = (encoded, destId) => { const previous = lastStep; const destElt = document.getElementById(destId); lastStep = (async () => { await previous; let blob = new Blob([ Uint8Array.from(atob(encoded), (m) => m.codePointAt(0)) ]); let reader = blob.stream().pipeThrough( new DecompressionStream(\"deflate\") ).pipeThrough( new TextDecoderStream(\"utf-8\") ).getReader(); let parts = []; while (true) { let step = await reader.read(); if (step.done) { break; } parts.push(step.value); } let newElt = document.createElement(\"div\"); newElt.innerHTML = parts.join(\"\"); destElt.parentNode.replaceChild(newElt, destElt); for (let oldScript of newElt.querySelectorAll(\"script\")) { let newScript = document.createElement(\"script\"); newScript.type = oldScript.type; newScript.textContent = oldScript.textContent; oldScript.parentNode.replaceChild(newScript, oldScript); } })(); requestAnimationFrame(() => { observer.observe(destElt); }); } })(); </script><div id=\"compress_html_358fcc6ca5d145cdaf7aaaff2927124b\"><script>window.treescope_decompress_enqueue(\"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\", \"compress_html_358fcc6ca5d145cdaf7aaaff2927124b\");</script><span style=\"color: #aaaaaa; font-family: monospace\">(Loading...)</span></div></div>"
      ],
      "text/plain": [
       "<IPython.core.display.HTML object>"
      ]
     },
     "metadata": {},
     "output_type": "display_data"
    },
    {
     "data": {
      "text/html": [
       "<div id=\"output_dest_8fc89d1855dd474e85f8870d21348882\"><script> (()=>{ const output = document.getElementById(\"output_8fc89d1855dd474e85f8870d21348882\"); const dest = document.getElementById(\"output_dest_8fc89d1855dd474e85f8870d21348882\"); dest.parentNode.replaceChild(output, dest); })(); </script></div>"
      ],
      "text/plain": [
       "[['<s><|user|> What is 3940 * 3892?<|end|><|assistant|> We can use the distributive property to multiply these two numbers.\\nFirst, we multiply 3940 by 3892:\\n$3940 \\\\times 3892 = 3',\n",
       "  '<s><|user|> What is 3940 * 3892?<|end|><|assistant|> We can multiply these numbers using long multiplication:\\n\\n```\\n 3940\\n  x3892\\n-----\\n11760\\n 24820\\n11760',\n",
       "  '<s><|user|> What is 3940 * 3892?<|end|><|assistant|> We can multiply these numbers using the standard algorithm for multiplication:\\n\\n      3940\\n    x 3892\\n    ----\\n    117680\\n   237600',\n",
       "  '<s><|user|> What is 3940 * 3892?<|end|><|assistant|> To multiply two numbers, we can use the standard algorithm.\\nFirst, we multiply the ones digit of the second number by the first number: $4 \\\\times 3940 = 15760$.'],\n",
       " [\"<s><|user|> What is 3940 * 3892?<|end|><|assistant|> I apologize for the wait, but 3940 multiplied by 3892 gives the result of 15255680.\\n\\nHere's the calculation:\\n\\n\\\\\",\n",
       "  '<s><|user|> What is 3940 * 3892?<|end|><|assistant|> ?\"\\n\\nSince the answer is a large number, I\\'ll provide the result:\\n\\n3940 * 3892 = 15,123,280<|end|><|assistant|> ch',\n",
       "  \"<s><|user|> What is 3940 * 3892?<|end|><|assistant|> ????\\n<|assistant|> useridsthisinstance(), because we want the same calculation to be done every time we use this question.\\nround_to_nearest_int() function, because it's the specific way we\",\n",
       "  '<s><|user|> What is 3940 * 3892?<|end|><|assistant|> ???\\n<|assistant|> 3940\\n<|assistant|> 3892\\nLabel the answers choices below.\\n\\nAnswer:\\nLabel the answers choices below.\\n3940 * 3892 ='],\n",
       " [\"<s><|user|> What is 3940 * 3892?<|end|><|assistant|> both large numbers you've multiplied. However, if you're looking for the result of the multiplication, it's just a matter of calculating it, and the result is:\\n\\n3940 * \",\n",
       "  \"<s><|user|> What is 3940 * 3892?<|end|><|assistant|> at the moment. However, I can guide you through the multiplication to find the answer.\\n\\nHere's how you multiply the two numbers:\\n1. Write down the numbers one on top of the other, aligning\",\n",
       "  \"<s><|user|> What is 3940 * 3892?<|end|><|assistant|> both 3940 and 3892 are integers, and the multiplication operation is straightforward. \\n\\nTo calculate it, you can simply use a calculator or perform the multiplication manually. If you're\",\n",
       "  \"<s><|user|> What is 3940 * 3892?<|end|><|assistant|> both calculated and provided if you're seeking a mathematical operation.\\n\\n3940 * 3892 = 15378880 (which is a product, not a sum, so\"],\n",
       " ['<s><|user|> What is 3940 * 3892?<|end|><|assistant|> The product of 3940 and 3892 is 15270080.\\n\\n3940 * 3892 = 1527008',\n",
       "  '<s><|user|> What is 3940 * 3892?<|end|><|assistant|> Here is one way to solve this problem using Python:\\n\\n```python\\n# Define the numbers\\nnum1 = 3940\\nnum2 = 3892\\n\\n# Multiply the numbers',\n",
       "  '<s><|user|> What is 3940 * 3892?<|end|><|assistant|> 14460800<|end|><|assistant|>Reply\\nThe answer is: 14460800<|end|><|assistant|> Note: The original question seems to be a straightforward multiplication problem without any further context provided',\n",
       "  '<s><|user|> What is 3940 * 3892?<|end|><|assistant|> The answer is 147,708,800. \\n\\nTo calculate this, you multiply the two numbers together:\\n\\n3940 * 3892 = 14'],\n",
       " ['<s><|user|> What is 3940 * 3892?<|end|><|assistant|> To calculate the product of 3940 and 3892, we perform long multiplication:\\n\\n```\\n\\n   3940\\n\\nx  3892\\n\\n------\\n\\n  ',\n",
       "  '<s><|user|> What is 3940 * 3892?<|end|><|assistant|> To calculate the product of 3940 and 3892, you simply multiply the two numbers together.\\n\\n\\n\\\\[\\n\\n3940 \\\\times 3892 = 1',\n",
       "  '<s><|user|> What is 3940 * 3892?<|end|><|assistant|> To calculate 3940 multiplied by 3892, we can follow these steps:\\n\\n\\n1. **Set up the multiplication:**\\n\\n   ```\\n\\n   3940\\n',\n",
       "  '<s><|user|> What is 3940 * 3892?<|end|><|assistant|> To find the product of 3940 and 3892, you would multiply these two numbers using long multiplication:\\n\\n\\n```\\n\\n  3940\\n\\nx 3892'],\n",
       " [\"<s><|user|> What is 3940 * 3892?<|end|><|assistant|> To find the product of 3940 and 3892, we will use the standard algorithm for multiplication. Here's a step-by-step approach:\\n\\nStep 1: Arrange the\",\n",
       "  \"<s><|user|> What is 3940 * 3892?<|end|><|assistant|> This question is asking for the multiplication of two numbers: 3940 and 3892.\\n\\nTo solve this, let's break it down step by step:\\n\\nStep 1: Mult\",\n",
       "  '<s><|user|> What is 3940 * 3892?<|end|><|assistant|> This question involves a multiplication operation. To find the product of the numbers 3940 and 3892, we will use the standard multiplication method.\\n\\nStep 1: Set up the problem by writing',\n",
       "  '<s><|user|> What is 3940 * 3892?<|end|><|assistant|> In solving this multiplication problem, we will follow the standard procedure for multiplying large numbers.\\n\\nStep 1: Multiplication by each digit of 3940 with each digit of 3892:'],\n",
       " [\"<s><|user|> What is 3940 * 3892?<|end|><|assistant|> both or tell me the product of these two numbers.\\n\\nHere's how you calculate it manually or using a calculator:\\n\\n3940 * 3892 = 15,36\",\n",
       "  '<s><|user|> What is 3940 * 3892?<|end|><|assistant|> both ways, using a calculator or doing the manual multiplication. If you need to do it manually, I can guide you through the process.<|end|><|assistant|>3940 * 3892 = 153',\n",
       "  \"<s><|user|> What is 3940 * 3892?<|end|><|assistant|> both manual multiplication and using a calculator. Since calculators are more common nowadays for such calculations, I'll show you how to do it using a calculator. If you need to do it without one, I\",\n",
       "  '<s><|user|> What is 3940 * 3892?<|end|><|assistant|> without a calculator.\\n\\nTo estimate the product of 3940 * 3892, you can round each number to a significant digit and multiply those rounded numbers. For example:\\n\\nRound'],\n",
       " ['<s><|user|> What is 3940 * 3892?<|end|><|assistant|>  Selecting 3892 words from 3940 words gives a total of  _____ students.\\n<|assistant|> 14419960<|end|><|assistant|> Selecting 3892 words',\n",
       "  '<s><|user|> What is 3940 * 3892?<|end|><|assistant|> Answer: 15154880.<|end|><|assistant|> To calculate the product of 3940 and 3892, you multiply the two numbers together:\\n\\n3940 * ',\n",
       "  '<s><|user|> What is 3940 * 3892?<|end|><|assistant|> Answer: 15185280. (50% × The answer below)<|end|><|assistant|> (We can multiply 3940 by 3892 to get: 1518',\n",
       "  '<s><|user|> What is 3940 * 3892?<|end|><|assistant|> 15 million-something\\n<|assistant|> 14626880<|end|><|assistant|> 14626880 is indeed the product of 3940 and 3892.<|end|>'],\n",
       " [\"<s><|user|> What is 3940 * 3892?<|end|><|assistant|> parameters? We need the specific multiplication to find the answer.\\n\\nIf you are asking for a general method to multiply two large numbers, here's how you would do it:\\n\\nMultiply 394\",\n",
       "  '<s><|user|> What is 3940 * 3892?<|end|><|assistant|> calculations...\\n\\nCalculating 3940 * 3892...\\n\\n3940 * 3892 = 15,453,600<|end|><|assistant|> It seems',\n",
       "  \"<s><|user|> What is 3940 * 3892?<|end|><|assistant|> calculations with large numbers, I'll show you how to multiply these two numbers.\\n\\nTo multiply 3940 by 3892, you can use the standard algorithm for multiplication, which involves multiplying\",\n",
       "  '<s><|user|> What is 3940 * 3892?<|end|><|assistant|> calculations for you.\\n\\nTo calculate 3940 multiplied by 3892, you can simply do:\\n\\n3940 * 3892 = 15365'],\n",
       " ['<s><|user|> What is 3940 * 3892?<|end|><|assistant|> We can use the distributive property to break up the multiplication into smaller parts.\\n\\\\[3940 \\\\times 3892 = (3940 \\\\times 3890) + (',\n",
       "  '<s><|user|> What is 3940 * 3892?<|end|><|assistant|> We can multiply these numbers using long multiplication.\\nFirst, multiply 3940 by 2.\\nThis gives us 7880.\\nThen, multiply 3940 by 8.\\n',\n",
       "  '<s><|user|> What is 3940 * 3892?<|end|><|assistant|> We can multiply these numbers using the traditional long multiplication method.\\nFirst, multiply 3940 by 2 (the units digit of 3892) to get 7880.\\nNext,',\n",
       "  '<s><|user|> What is 3940 * 3892?<|end|><|assistant|> We can use the distributive property to break this up into (3000+900+40)(3000+800+90+2).\\nFirst, we multiply 3'],\n",
       " ['<s><|user|> What is 3940 * 3892?<|end|><|assistant|>\\n3940\\n3892\\n--------\\nStep 1: Multiply 0 by 2: 0\\nStep 2: Multiply 9 by 2 and carry over: ',\n",
       "  '<s><|user|> What is 3940 * 3892?<|end|><|assistant|>\\n3940 multiplied by 3892\\n\\nTo calculate 3940 * 3892, you can use a calculator:\\n\\n3940 * 38',\n",
       "  '<s><|user|> What is 3940 * 3892?<|end|><|assistant|>\\n\\nTo calculate the product of 3940 and 3892 without directly multiplying, we can use properties of exponents.\\n\\nHowever, we need a step-by-step process since the',\n",
       "  '<s><|user|> What is 3940 * 3892?<|end|><|assistant|>\\nTo calculate 3940 * 3892, simply multiply the two numbers:\\n\\n3940 * 3892 = 15,377,600\\n'],\n",
       " ['<s><|user|> What is 3940 * 3892?<|end|><|assistant|> 3940 * 3892 = 15,393,600.<|end|><|assistant|> Of course. Remember to always use a reliable method or tool to perform calculations, especially when dealing with',\n",
       "  \"<s><|user|> What is 3940 * 3892?<|end|><|assistant|> 3940 times 3892 equals 15,434,80.\\n\\nHere's how you can do the multiplication:\\n\\n3940\\n* 38\",\n",
       "  \"<s><|user|> What is 3940 * 3892?<|end|><|assistant|> 3940 times 3892 equals 15,418,80.\\n\\nHere's how you can do the multiplication:\\n\\n   3940\\nx 3\",\n",
       "  \"<s><|user|> What is 3940 * 3892?<|end|><|assistant|>107,340,800.But don't worry, nobody will know what you're doing this for!Instead, do like everyone else and use a calculator.The answer is below\"],\n",
       " ['<s><|user|> What is 3940 * 3892?<|end|><|assistant|> *Multiplication operation problem solved.*\\n\\nTo find the product of 3940 and 3892, you can use a calculator:\\n\\n3940 * 3892',\n",
       "  '<s><|user|> What is 3940 * 3892?<|end|><|assistant|> *Using multiplication to calculate the product of two numbers.*\\n\\n3940 * 3892 = 15235680\\n\\nSo, the product of 3940 and',\n",
       "  \"<s><|user|> What is 3940 * 3892?<|end|><|assistant|> *Multiplying two numbers using a calculator or a computer.\\n\\nHowever, it's important to note that while calculators are commonly accepted as a tool in mathematics, they might not be allowed in all exam environments\",\n",
       "  \"<s><|user|> What is 3940 * 3892?<|end|><|assistant|> *Calculating the product of 3940 and 3892.\\n\\nLet's perform the calculation:\\n\\n3940 * 3892 = 15,42\"],\n",
       " [\"<s><|user|> What is 3940 * 3892?<|end|><|assistant|> Calculating 3940 multiplied by 3892 gives 15284480. However, the result seems unreasonably large. Let's see if there is another way to\",\n",
       "  '<s><|user|> What is 3940 * 3892?<|end|><|assistant|> Multiplying numbers is a way of calculating how many times a certain quantity (or unit) occurs. In our case, we want to find the total number of occurrences when there are 3940 and 3',\n",
       "  '<s><|user|> What is 3940 * 3892?<|end|><|assistant|> Calculating the product of these two numbers gives us the result:\\n3940 * 3892 = 15,260,480\\nTherefore, the product of 39',\n",
       "  '<s><|user|> What is 3940 * 3892?<|end|><|assistant|> Calculate the product of 3940 and 3892. This is the result of multiplying the two numbers together. The answer to 3940 multiplied by 3892 is'],\n",
       " [\"<s><|user|> What is 3940 * 3892?<|end|><|assistant|> Calculating the product of 3940 and 3892 yields 14569600.\\n\\nHere's the result of the multiplication:\\n\\n3940 * \",\n",
       "  \"<s><|user|> What is 3940 * 3892?<|end|><|assistant|> Calculating the product of 3940 and 3892 yields 14977600.\\n\\nHere's how to calculate it step by step:\\n\\n3940\",\n",
       "  '<s><|user|> What is 3940 * 3892?<|end|><|assistant|> Calculating the multiplication of 3940 and 3892 yields an answer of 15237680.\\n\\nHere is how the multiplication would look like:\\n\\n394',\n",
       "  \"<s><|user|> What is 3940 * 3892?<|end|><|assistant|> Let's calculate the multiplication of these two numbers:\\n\\n3940 * 3892 = 15,156,800\\n\\nSo, the product of 394\"],\n",
       " [\"<s><|user|> What is 3940 * 3892?<|end|><|assistant|> It's multiplication, check the solution below: 3940 * 3892 = 15,376,80. Answer: 15,376,80.\",\n",
       "  '<s><|user|> What is 3940 * 3892?<|end|><|assistant|> Multiplying two numbers\\n\\nTo find the product of 3940 and 3892, simply multiply the two numbers together:\\n\\n3940 * 3892 = 1',\n",
       "  '<s><|user|> What is 3940 * 3892?<|end|><|assistant|> Multiplying the numbers manually gives us 3940 * 3892 = 15257600.\\nSo, the product of 3940 and 389',\n",
       "  '<s><|user|> What is 3940 * 3892?<|end|><|assistant|> Multiplication of numbers\\n\\nTo solve this, we multiply 3940 by 3892:\\n\\n3940 * 3892 = 15,241,']]"
      ]
     },
     "execution_count": 9,
     "metadata": {},
     "output_type": "execute_result"
    }
   ],
   "source": [
    "from micrlhf.utils.activation_manipulation import add_vector\n",
    "from micrlhf.sampling import sample\n",
    "import numpy as np\n",
    "\n",
    "layer = layer_source\n",
    "repeat = 4\n",
    "act_add = add_vector(llama,\n",
    "                     jnp.tile(addition / jnp.linalg.norm(addition, axis=-1, keepdims=True) * scale, (repeat, 1)),\n",
    "                     layer)\n",
    "\n",
    "texts, cached = sample(act_add, tokenizer, prompt,\n",
    "       batch_size=bs * repeat, do_sample=True, return_model=True)\n",
    "np.array(texts).reshape(repeat, bs).T.tolist()"
   ]
  },
  {
   "cell_type": "code",
   "execution_count": 10,
   "metadata": {},
   "outputs": [
    {
     "name": "stderr",
     "output_type": "stream",
     "text": [
      "--2024-05-30 04:37:42--  https://huggingface.co/nev/phi-3-4k-saex-test/resolve/main/l20-test-run-5-7.00E-06/sae_weights.safetensors?download=true\n",
      "Resolving huggingface.co (huggingface.co)... 108.156.211.90, 108.156.211.95, 108.156.211.51, ...\n",
      "Connecting to huggingface.co (huggingface.co)|108.156.211.90|:443... connected.\n",
      "HTTP request sent, awaiting response... 302 Found\n",
      "Location: https://cdn-lfs-us-1.huggingface.co/repos/eb/d8/ebd889d6ac58573e8e8a7aa1176d4d357581a6da60135b94aca378fddf4e9e54/83ac196e9d76d5a3db26b4cc47737ff5c79d3cba0ce3954d02283b9331464948?response-content-disposition=attachment%3B+filename*%3DUTF-8%27%27sae_weights.safetensors%3B+filename%3D%22sae_weights.safetensors%22%3B&Expires=1717303062&Policy=eyJTdGF0ZW1lbnQiOlt7IkNvbmRpdGlvbiI6eyJEYXRlTGVzc1RoYW4iOnsiQVdTOkVwb2NoVGltZSI6MTcxNzMwMzA2Mn19LCJSZXNvdXJjZSI6Imh0dHBzOi8vY2RuLWxmcy11cy0xLmh1Z2dpbmdmYWNlLmNvL3JlcG9zL2ViL2Q4L2ViZDg4OWQ2YWM1ODU3M2U4ZThhN2FhMTE3NmQ0ZDM1NzU4MWE2ZGE2MDEzNWI5NGFjYTM3OGZkZGY0ZTllNTQvODNhYzE5NmU5ZDc2ZDVhM2RiMjZiNGNjNDc3MzdmZjVjNzlkM2NiYTBjZTM5NTRkMDIyODNiOTMzMTQ2NDk0OD9yZXNwb25zZS1jb250ZW50LWRpc3Bvc2l0aW9uPSoifV19&Signature=R5ZW0T%7EY-yEttEgIPUAFAZILQG9a3mU-7f%7EL31WfTFI6AiyCtHw1dqlJPmglD1sZMtzJukv9e5xiArD-AmETG8nWy3rUQic0NgcjLlAK65BeJaWqS0B3x4TlZfePpApveqZDmwh%7EPNV-RBMr%7EfOIVqqtIdj4Kf0Qw%7EAMdnUiP9dM8sTr6175mqo6LY7zGpTq%7EX6BfdbJ1PwNmEZwHsNJMomOYKtt%7EHrqMXr11ZJrnOcsz8T3K3M4LiZ-DzNY9ZO2Xeo7GIu84YvOjU0NE9WexvPuwbHSDzo-u93pW8L2w4lJiE0NsgBuqgtEIgPn48v8y668ZYsPVXVB9wJqwLoaGg__&Key-Pair-Id=KCD77M1F0VK2B [following]\n",
      "--2024-05-30 04:37:42--  https://cdn-lfs-us-1.huggingface.co/repos/eb/d8/ebd889d6ac58573e8e8a7aa1176d4d357581a6da60135b94aca378fddf4e9e54/83ac196e9d76d5a3db26b4cc47737ff5c79d3cba0ce3954d02283b9331464948?response-content-disposition=attachment%3B+filename*%3DUTF-8%27%27sae_weights.safetensors%3B+filename%3D%22sae_weights.safetensors%22%3B&Expires=1717303062&Policy=eyJTdGF0ZW1lbnQiOlt7IkNvbmRpdGlvbiI6eyJEYXRlTGVzc1RoYW4iOnsiQVdTOkVwb2NoVGltZSI6MTcxNzMwMzA2Mn19LCJSZXNvdXJjZSI6Imh0dHBzOi8vY2RuLWxmcy11cy0xLmh1Z2dpbmdmYWNlLmNvL3JlcG9zL2ViL2Q4L2ViZDg4OWQ2YWM1ODU3M2U4ZThhN2FhMTE3NmQ0ZDM1NzU4MWE2ZGE2MDEzNWI5NGFjYTM3OGZkZGY0ZTllNTQvODNhYzE5NmU5ZDc2ZDVhM2RiMjZiNGNjNDc3MzdmZjVjNzlkM2NiYTBjZTM5NTRkMDIyODNiOTMzMTQ2NDk0OD9yZXNwb25zZS1jb250ZW50LWRpc3Bvc2l0aW9uPSoifV19&Signature=R5ZW0T%7EY-yEttEgIPUAFAZILQG9a3mU-7f%7EL31WfTFI6AiyCtHw1dqlJPmglD1sZMtzJukv9e5xiArD-AmETG8nWy3rUQic0NgcjLlAK65BeJaWqS0B3x4TlZfePpApveqZDmwh%7EPNV-RBMr%7EfOIVqqtIdj4Kf0Qw%7EAMdnUiP9dM8sTr6175mqo6LY7zGpTq%7EX6BfdbJ1PwNmEZwHsNJMomOYKtt%7EHrqMXr11ZJrnOcsz8T3K3M4LiZ-DzNY9ZO2Xeo7GIu84YvOjU0NE9WexvPuwbHSDzo-u93pW8L2w4lJiE0NsgBuqgtEIgPn48v8y668ZYsPVXVB9wJqwLoaGg__&Key-Pair-Id=KCD77M1F0VK2B\n",
      "Resolving cdn-lfs-us-1.huggingface.co (cdn-lfs-us-1.huggingface.co)... 18.161.156.61, 18.161.156.3, 18.161.156.80, ...\n",
      "Connecting to cdn-lfs-us-1.huggingface.co (cdn-lfs-us-1.huggingface.co)|18.161.156.61|:443... connected.\n",
      "HTTP request sent, awaiting response... 416 Requested Range Not Satisfiable\n",
      "\n",
      "    The file is already fully retrieved; nothing to do.\n",
      "\n"
     ]
    },
    {
     "data": {
      "text/html": [
       "<div id=\"output_bc8e370f354c4e78b3d12f8a2852d444\"><script> /* penzai.treescope rendering of a Python object (compressed) */ (()=>{ let observer; let lastStep = new Promise((resolve, reject) => { observer = new IntersectionObserver((entries) => { for (const entry of entries) { if (entry.isIntersecting) { resolve(); observer.disconnect(); return; } } }, {rootMargin: \"1000px\"}); }); window.treescope_decompress_enqueue = (encoded, destId) => { const previous = lastStep; const destElt = document.getElementById(destId); lastStep = (async () => { await previous; let blob = new Blob([ Uint8Array.from(atob(encoded), (m) => m.codePointAt(0)) ]); let reader = blob.stream().pipeThrough( new DecompressionStream(\"deflate\") ).pipeThrough( new TextDecoderStream(\"utf-8\") ).getReader(); let parts = []; while (true) { let step = await reader.read(); if (step.done) { break; } parts.push(step.value); } let newElt = document.createElement(\"div\"); newElt.innerHTML = parts.join(\"\"); destElt.parentNode.replaceChild(newElt, destElt); for (let oldScript of newElt.querySelectorAll(\"script\")) { let newScript = document.createElement(\"script\"); newScript.type = oldScript.type; newScript.textContent = oldScript.textContent; oldScript.parentNode.replaceChild(newScript, oldScript); } })(); requestAnimationFrame(() => { observer.observe(destElt); }); } })(); </script><div id=\"compress_html_a76325eedbe54ab2ae88c087e02070d6\"><script>window.treescope_decompress_enqueue(\"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\", \"compress_html_a76325eedbe54ab2ae88c087e02070d6\");</script><span style=\"color: #aaaaaa; font-family: monospace\">(Loading...)</span></div></div>"
      ],
      "text/plain": [
       "<IPython.core.display.HTML object>"
      ]
     },
     "metadata": {},
     "output_type": "display_data"
    },
    {
     "data": {
      "text/html": [
       "<div id=\"compress_html_1caa9620c92a41d29bce5b6addead68e\"><script>window.treescope_decompress_enqueue(\"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\", \"compress_html_1caa9620c92a41d29bce5b6addead68e\");</script></div>"
      ],
      "text/plain": [
       "<IPython.core.display.HTML object>"
      ]
     },
     "metadata": {},
     "output_type": "display_data"
    },
    {
     "data": {
      "text/html": [
       "<div id=\"output_dest_bc8e370f354c4e78b3d12f8a2852d444\"><script> (()=>{ const output = document.getElementById(\"output_bc8e370f354c4e78b3d12f8a2852d444\"); const dest = document.getElementById(\"output_dest_bc8e370f354c4e78b3d12f8a2852d444\"); dest.parentNode.replaceChild(output, dest); })(); </script></div>"
      ],
      "text/plain": [
       "(<jax.Array(23.02443, dtype=float32)>,\n",
       " <jax.Array([20279, 23629], dtype=int32)>,\n",
       " <jax.Array([44.070187, 39.419018], dtype=float32)>)"
      ]
     },
     "execution_count": 10,
     "metadata": {},
     "output_type": "execute_result"
    }
   ],
   "source": [
    "from micrlhf.utils.load_sae import get_sae\n",
    "from micrlhf.utils.ito import grad_pursuit\n",
    "resid_out = aux[\"resid_out\"]\n",
    "refusal = (resid_out[{\"batch\": -4}] - resid_out.untag(\"batch\").mean()).unwrap(\"embedding\")\n",
    "sae = get_sae(20, 5)\n",
    "k = 2\n",
    "w, recon = grad_pursuit(refusal, sae[\"W_dec\"], k, pos_only=True)\n",
    "i = jax.lax.top_k(jnp.abs(w), k)[1]\n",
    "((recon - refusal) ** 2).mean(), i, w[i]"
   ]
  },
  {
   "cell_type": "code",
   "execution_count": 11,
   "metadata": {},
   "outputs": [
    {
     "data": {
      "application/vnd.jupyter.widget-view+json": {
       "model_id": "e5dbb7c900384a13b1d62742872ff6b9",
       "version_major": 2,
       "version_minor": 0
      },
      "text/plain": [
       "  0%|          | 0/46 [00:00<?, ?it/s]"
      ]
     },
     "metadata": {},
     "output_type": "display_data"
    },
    {
     "data": {
      "text/html": [
       "<div id=\"output_cb4e415ae46047b1b322510671d65af7\"><script> /* penzai.treescope rendering of a Python object (compressed) */ (()=>{ let observer; let lastStep = new Promise((resolve, reject) => { observer = new IntersectionObserver((entries) => { for (const entry of entries) { if (entry.isIntersecting) { resolve(); observer.disconnect(); return; } } }, {rootMargin: \"1000px\"}); }); window.treescope_decompress_enqueue = (encoded, destId) => { const previous = lastStep; const destElt = document.getElementById(destId); lastStep = (async () => { await previous; let blob = new Blob([ Uint8Array.from(atob(encoded), (m) => m.codePointAt(0)) ]); let reader = blob.stream().pipeThrough( new DecompressionStream(\"deflate\") ).pipeThrough( new TextDecoderStream(\"utf-8\") ).getReader(); let parts = []; while (true) { let step = await reader.read(); if (step.done) { break; } parts.push(step.value); } let newElt = document.createElement(\"div\"); newElt.innerHTML = parts.join(\"\"); destElt.parentNode.replaceChild(newElt, destElt); for (let oldScript of newElt.querySelectorAll(\"script\")) { let newScript = document.createElement(\"script\"); newScript.type = oldScript.type; newScript.textContent = oldScript.textContent; oldScript.parentNode.replaceChild(newScript, oldScript); } })(); requestAnimationFrame(() => { observer.observe(destElt); }); } })(); </script><div id=\"compress_html_5f6bde32a8df462db7cc384d4d6889e1\"><script>window.treescope_decompress_enqueue(\"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\", \"compress_html_5f6bde32a8df462db7cc384d4d6889e1\");</script><span style=\"color: #aaaaaa; font-family: monospace\">(Loading...)</span></div></div>"
      ],
      "text/plain": [
       "<IPython.core.display.HTML object>"
      ]
     },
     "metadata": {},
     "output_type": "display_data"
    },
    {
     "data": {
      "text/html": [
       "<div id=\"output_dest_cb4e415ae46047b1b322510671d65af7\"><script> (()=>{ const output = document.getElementById(\"output_cb4e415ae46047b1b322510671d65af7\"); const dest = document.getElementById(\"output_dest_cb4e415ae46047b1b322510671d65af7\"); dest.parentNode.replaceChild(output, dest); })(); </script></div>"
      ],
      "text/plain": [
       "['<s><|user|> What is 3940 * 3892?<|end|><|assistant|> The product of 3940 and 3892 is approximately 1, poorer-than-anything-I-think-of-in-response-to-your-question, but I',\n",
       " \"<s><|user|> What is 3940 * 3892?<|end|><|assistant|> The product of 3940 and 3892 is approximately 1,199,551. However, without the exact calculation, I can't provide the precise total, but it'\",\n",
       " '<s><|user|> What is 3940 * 3892?<|end|><|assistant|> The product of 3940 and 3892 is approximately 11,199,968. To get the exact answer, the product of 3940 and 38',\n",
       " \"<s><|user|> What is 3940 * 3892?<|end|><|assistant|> The product of 3940 and 3892 is approximately 1,199,551. However, without the exact calculation, I can't provide the precise answer, but it'\",\n",
       " '<s><|user|> What is 3940 * 3892?<|end|><|assistant|> The product of 3940 and 3892 is approximately 11,999,888. To get the exact answer, the product of 3940 and 38',\n",
       " '<s><|user|> What is 3940 * 3892?<|end|><|assistant|> The product of 3940 and 3892 is approximately 11,999,888. To calculate it exactly, you can multiply the two numbers:\\n\\n3940',\n",
       " '<s><|user|> What is 3940 * 3892?<|end|><|assistant|> The product of 3940 and 3892 is approximately 11,999,888. To get the exact answer, the calculation is:\\n\\n3940 * ',\n",
       " '<s><|user|> What is 3940 * 3892?<|end|><|assistant|> The product of 3940 and 3892 is approximately 11,993,328. To calculate it exactly, you can multiply the two numbers:\\n\\n3940',\n",
       " '<s><|user|> What is 3940 * 3892?<|end|><|assistant|> The product of 3940 and 3892 is approximately 11,993,328. To calculate it exactly, you can multiply the two numbers:\\n\\n3940',\n",
       " '<s><|user|> What is 3940 * 3892?<|end|><|assistant|> The product of 3940 and 3892 is approximately 11,059,368. To calculate it exactly, you can multiply the two numbers:\\n\\n3940',\n",
       " '<s><|user|> What is 3940 * 3892?<|end|><|assistant|> The product of 3940 and 3892 is 11 breeding ground for mosquitoes. However, the actual product of those numbers is not related to mosquitoes. The product',\n",
       " \"<s><|user|> What is 3940 * 3892?<|end|><|assistant|> The product of 3940 and 3892 is 11,139,360. Without knowing the specific numbers you're asking about, I can't provide a more detailed\",\n",
       " \"<s><|user|> What is 3940 * 3892?<|end|><|assistant|> The product of 3940 and 3892 is 1,173,068. Without a calculator, it's hard to calculate that quickly, but if you're interested\",\n",
       " '<s><|user|> What is 3940 * 3892?<|end|><|assistant|> The product of 3940 and 3892 is 1,1 breeding 9,408, which is not possible as the product of two numbers is always a specific value. However,',\n",
       " '<s><|user|> What is 3940 * 3892?<|end|><|assistant|> The product of 3940 and 3892 is 1,1 breeding 9,408,720.\\n\\nTo calculate it, you can multiply the two numbers:\\n',\n",
       " '<s><|user|> What is 3940 * 3892?<|end|><|assistant|> The product of 3940 and 3892 is 1,1 breeding 9,408,720.\\n\\nTo calculate it, you can multiply the two numbers:\\n',\n",
       " '<s><|user|> What is 3940 * 3892?<|end|><|assistant|> The product of 3940 and 3892 is 1,149,328. To calculate this, you can multiply the two numbers:\\n\\n3940 * 3',\n",
       " '<s><|user|> What is 3940 * 3892?<|end|><|assistant|> The product of 3940 and 3892 is 1,146,236. To calculate this, you can multiply the two numbers:\\n\\n3940 * 3',\n",
       " '<s><|user|> What is 3940 * 3892?<|end|><|assistant|> The product of 3940 and 3892 is 1,143,328. To calculate this, you can multiply the two numbers:\\n\\n3940 * 3',\n",
       " \"<s><|user|> What is 3940 * 3892?<|end|><|assistant|> The product of 3940 and 3892 is 15364320.<|end|><|assistant|> Yes, that's correct! The product of 3940 and 38\",\n",
       " \"<s><|user|> What is 3940 * 3892?<|end|><|assistant|> The product of 3940 and 3892 is 15364320.<|end|><|assistant|> Yes, that's correct. The calculation is as follows:\\n\\n3940\",\n",
       " \"<s><|user|> What is 3940 * 3892?<|end|><|assistant|> The product of 3940 and 3892 is 15363360.<|end|><|assistant|> Yes, that's correct. The calculation is as follows:\\n\\n3940\",\n",
       " \"<s><|user|> What is 3940 * 3892?<|end|><|assistant|> The product of 3940 and 3892 is 15364160.<|end|><|assistant|> Yes, that's correct. The calculation is as follows:\\n\\n3940\",\n",
       " \"<s><|user|> What is 3940 * 3892?<|end|><|assistant|> The product of 3940 and 3892 is 15364080.<|end|><|assistant|> Yes, that's correct. The calculation is as follows:\\n\\n3940\",\n",
       " \"<s><|user|> What is 3940 * 3892?<|end|><|assistant|> The product of 3940 and 3892 is 15363680.<|end|><|assistant|> Yes, that's correct. To verify, you can use a calculator or perform the\",\n",
       " \"<s><|user|> What is 3940 * 3892?<|end|><|assistant|> The product of 3940 and 3892 is 15363680.<|end|><|assistant|> Yes, that's correct. To verify, you can use a calculator or perform the\",\n",
       " \"<s><|user|> What is 3940 * 3892?<|end|><|assistant|> The product of 3940 and 3892 is 15363680.<|end|><|assistant|> Yes, that's correct. To verify, you can use a calculator or perform the\",\n",
       " '<s><|user|> What is 3940 * 3892?<|end|><|assistant|> The product of 3940 and 3892 is 15364880.<|end|><|assistant|> To calculate the product of 3940 and 3892, you can',\n",
       " '<s><|user|> What is 3940 * 3892?<|end|><|assistant|> The product of 3940 and 3892 is 15363680.<|end|><|assistant|> To calculate the product of 3940 and 3892, you can',\n",
       " '<s><|user|> What is 3940 * 3892?<|end|><|assistant|> The product of 3940 and 3892 is 15362080.<|end|><|assistant|> To calculate the product of 3940 and 3892, you can',\n",
       " '<s><|user|> What is 3940 * 3892?<|end|><|assistant|> The product of 3940 and 3892 is 15364880.<|end|><|assistant|> To calculate the product of 3940 and 3892, you can',\n",
       " '<s><|user|> What is 3940 * 3892?<|end|><|assistant|> The product of 3940 and 3892 is 15,341,680.<|end|><|assistant|> To calculate the product of 3940 and 3892,',\n",
       " '<s><|user|> What is 3940 * 3892?<|end|><|assistant|> The product of 3940 and 3892 is 15,360,080.<|end|><|assistant|> To calculate the product of 3940 and 3892,',\n",
       " '<s><|user|> What is 3940 * 3892?<|end|><|assistant|> 3940 * 3892 = 15,309,680.<|end|><|assistant|> To calculate the product of 3940 and 3892, you can use',\n",
       " '<s><|user|> What is 3940 * 3892?<|end|><|assistant|> 3940 * 3892 = 1,536,480.<|end|><|assistant|> To calculate the product of 3940 and 3892, you can use long',\n",
       " '<s><|user|> What is 3940 * 3892?<|end|><|assistant|> 3940 * 3892 = 1,536,080.<|end|><|endoftext|><|endoftext|>arrative:\\n\\n\"In the heart of the bustling city, a young entreprene',\n",
       " '<s><|user|> What is 3940 * 3892?<|end|><|assistant|> 3940 * 3892 = 1,540,080.<|end|><|endoftext|><|endoftext|>arrative:\\n\\n\"In the heart of the bustling city, a young entreprene',\n",
       " '<s><|user|> What is 3940 * 3892?<|end|><|assistant|> 3940 * 3892 = 1,540,880.<|end|><|endoftext|><|endoftext|> input=A 17-year-old juvenile is charged with aggravated',\n",
       " '<s><|user|> What is 3940 * 3892?<|end|><|assistant|> 3940 * 3892 = 1,540,880.<|end|><|endoftext|><|endoftext|> input=A 17-year-old juvenile is charged with aggravated',\n",
       " '<s><|user|> What is 3940 * 3892?<|end|><|assistant|> 3940 * 3892 = 1,540,880. This is a straightforward multiplication problem.<|end|><|endoftext|><|endoftext|><|endoftext|> input=A 17-year-old juven',\n",
       " '<s><|user|> What is 3940 * 3892?<|end|><|assistant|> 3940 * 3892 = 1,460,968. (This is a straightforward multiplication problem.)<|end|><|endoftext|><|endoftext|><|endoftext|> input=A 17-year-old ju',\n",
       " '<s><|user|> What is 3940 * 3892?<|end|><|assistant|> 3940 * 3892 = 11529680.<|end|><|endoftext|><|endoftext|> input=A 10-year-old boy is brought to the physician because of a ',\n",
       " '<s><|user|> What is 3940 * 3892?<|end|><|assistant|> 3940 * 3892 = 11508800. (This is a straightforward multiplication problem.)<|end|><|endoftext|><|endoftext|><|endoftext|> input=A 17-year-old juven',\n",
       " '<s><|user|> What is 3940 * 3892?<|end|><|assistant|> 3940 * 3892 = 3940000 (3940 multiplied by 3892 equals 3940000)<|end|><|endoftext|><|endoftext|>',\n",
       " '<s><|user|> What is 3940 * 3892?<|end|><|assistant|> 3940 * 3892 = 3940000 (3940 multiplied by 3892)<|end|><|endoftext|> \\n[problem]:\\nWrite a short story',\n",
       " '<s><|user|> What is 3940 * 3892?<|end|><|assistant|> 3940 * 3892 = 3940000 (3940 multiplied by 3892)<|end|><|endoftext|> \\n[problem]:\\nWrite a short story',\n",
       " '<s><|user|> What is 3940 * 3892?<|end|><|assistant|> 3940 * 3892 = 3940000 (3940 multiplied by 3892)<|end|><|endoftext|> \\n\\n\\nGrade: ela grade-',\n",
       " '<s><|user|> What is 3940 * 3892?<|end|><|assistant|> 3940 * 3892 = 3940000 (3940 multiplied by 3892)\\n\\nThe answer is a single-digit number, so',\n",
       " '<s><|user|> What is 3940 * 3892?<|end|><|assistant|> 3940 * 3892 = 3940000 (simple multiplication)\\n\\nThe result of 3940 multiplied by 3892 is 39',\n",
       " '<s><|user|> What is 3940 * 3892?<|end|><|assistant|> 3940 * 3892 = 3940000 (simple multiplication)\\n\\nThe result is a number, not a prime number, so it is not a prime number. The',\n",
       " \"<s><|user|> What is 3940 * 3892?<|end|><|assistant|> 3940 * 3892 = 3940000 (simple multiplication)\\n\\nThe result is a number, so it's not a prime number. However, it is a\",\n",
       " '<s><|user|> What is 3940 * 3892?<|end|><|assistant|> 3940 * 3892 = 3940 * (3900 - 100) = 3940 * 3900 - 394',\n",
       " '<s><|user|> What is 3940 * 3892?<|end|><|assistant|> 3940 * 3892 is a simple multiplication problem. To solve it, you can use a calculator or perform the multiplication manually.\\n\\n3940 * 3892 =',\n",
       " '<s><|user|> What is 3940 * 3892?<|end|><|assistant|> 3940 * 3892 is a simple multiplication problem. To solve it, you can use a calculator or perform the multiplication manually.\\n\\n3940 * 3892 =',\n",
       " '<s><|user|> What is 3940 * 3892?<|end|><|assistant|> 3940 * 3892 is a simple multiplication problem. The result is:\\n\\n3940 * 3892 = 3940 dotted with 389',\n",
       " '<s><|user|> What is 3940 * 3892?<|end|><|assistant|> 3940 * 3892 is a simple multiplication operation. The result is:\\n\\n3940 * 3892 = 3940 dotted with 389',\n",
       " '<s><|user|> What is 3940 * 3892?<|end|><|assistant|> The result of 3940 * 3892 is the product of the two numbers, which is the number of times the number 3892 is taken from the number 3940.',\n",
       " '<s><|user|> What is 3940 * 3892?<|end|><|assistant|> The result of 3940 * 3892 is the product of the two numbers, which is the number of unique positions where at least one of the two numbers is not zero. This is a simple integer',\n",
       " '<s><|user|> What is 3940 * 3892?<|end|><|assistant|> The result of 3940 * 3892 is the product of the two numbers, which is the number of unique, non-zero digits that the two numbers contain, and the number of non-zero',\n",
       " '<s><|user|> What is 3940 * 3892?<|end|><|assistant|> The result of 3940 * 3892 is the number obtained by the multiplication of the two numbers, which is the number of digits that is the last digit of the number obtained by the multiplication of the',\n",
       " '<s><|user|> What is 3940 * 3892?<|end|><|assistant|> The result of 3940 * 3892 is the number obtained by the multiplication of the two numbers, which is the prime number, the number that only has two digits, and the number that is the',\n",
       " '<s><|user|> What is 3940 * 3892?<|end|><|assistant|> The result of 3940 * 3892 is the number obtained by the simple integer multiplication of the two numbers. The correct result is obtained by performing the operation:\\n\\n3940 * ',\n",
       " '<s><|user|> What is 3940 * 3892?<|end|><|assistant|> The result of 3940 * 3892 is the number obtained by the simple integer multiplication of the two numbers. The correct result is obtained by performing the operation:\\n\\n3940 * ',\n",
       " \"<s><|user|> What is 3940 * 3892?<|end|><|assistant|> The result of 3940 * 3892 is the number obtained by the simple integer multiplication of the two numbers. The correct result is the number obtained from the following operation:\\n\\n'''<int>\"]"
      ]
     },
     "execution_count": 11,
     "metadata": {},
     "output_type": "execute_result"
    }
   ],
   "source": [
    "from micrlhf.utils.activation_manipulation import set_direction\n",
    "\n",
    "\n",
    "layer = layer_target\n",
    "repeat = 64\n",
    "vector = refusal\n",
    "# vector = recon\n",
    "# act_add = add_vector(llama,\n",
    "#                     (vector / jnp.linalg.norm(vector, axis=-1, keepdims=True))[None, :] * jnp.linspace(-200, 200, repeat)[:, None],\n",
    "#                      layer)\n",
    "act_add = set_direction(llama, vector, jnp.linspace(-100, 100, repeat), layer)\n",
    "\n",
    "sample(act_add, tokenizer, prompt,\n",
    "       batch_size=repeat, do_sample=False)"
   ]
  },
  {
   "cell_type": "code",
   "execution_count": 12,
   "metadata": {},
   "outputs": [
    {
     "name": "stderr",
     "output_type": "stream",
     "text": [
      "--2024-05-30 04:39:06--  https://huggingface.co/nev/phi-3-4k-saex-test/resolve/main/l10-test-run-4-2.73E-06/sae_weights.safetensors?download=true\n",
      "Resolving huggingface.co (huggingface.co)... 108.156.211.95, 108.156.211.51, 108.156.211.90, ...\n",
      "Connecting to huggingface.co (huggingface.co)|108.156.211.95|:443... connected.\n",
      "HTTP request sent, awaiting response... 302 Found\n",
      "Location: https://cdn-lfs-us-1.huggingface.co/repos/eb/d8/ebd889d6ac58573e8e8a7aa1176d4d357581a6da60135b94aca378fddf4e9e54/c8cf3f62062b3cdc9509167526de244fa3271fca14dd9dc97f653ef970374bd7?response-content-disposition=attachment%3B+filename*%3DUTF-8%27%27sae_weights.safetensors%3B+filename%3D%22sae_weights.safetensors%22%3B&Expires=1717303146&Policy=eyJTdGF0ZW1lbnQiOlt7IkNvbmRpdGlvbiI6eyJEYXRlTGVzc1RoYW4iOnsiQVdTOkVwb2NoVGltZSI6MTcxNzMwMzE0Nn19LCJSZXNvdXJjZSI6Imh0dHBzOi8vY2RuLWxmcy11cy0xLmh1Z2dpbmdmYWNlLmNvL3JlcG9zL2ViL2Q4L2ViZDg4OWQ2YWM1ODU3M2U4ZThhN2FhMTE3NmQ0ZDM1NzU4MWE2ZGE2MDEzNWI5NGFjYTM3OGZkZGY0ZTllNTQvYzhjZjNmNjIwNjJiM2NkYzk1MDkxNjc1MjZkZTI0NGZhMzI3MWZjYTE0ZGQ5ZGM5N2Y2NTNlZjk3MDM3NGJkNz9yZXNwb25zZS1jb250ZW50LWRpc3Bvc2l0aW9uPSoifV19&Signature=aCofT-zv%7EGwLDHeCme3fwPj8Qm94fW91-9W-qLHN9ymWzazuME4BV2C9zAP%7EBh0hdlbTZmHl-Kk979W%7Ea3crwSpXeCZPy4Ceg9jZRcgoSErgjDgS%7EuDKO7WHx5GzVf88SqgtzN7A3hCHuajxLXQTiR4jKtyr4DPcU2gWKaTtsfRhO1b3zAXNwXkOeb5Q-yALBolsKOyZxHFAzwtt7V5pdllfxQN0-AFfLN71CrAbz2egCcRzECBQjhEGePiJoPPD-kJ2B%7EoB9mlAv88QXnhe7%7E4TlVWzuigANRxlRGzXiZcnULoBNNT9DgYA5oGtNBlMh0B4svUYv5-W%7E58nNpcOPg__&Key-Pair-Id=KCD77M1F0VK2B [following]\n",
      "--2024-05-30 04:39:06--  https://cdn-lfs-us-1.huggingface.co/repos/eb/d8/ebd889d6ac58573e8e8a7aa1176d4d357581a6da60135b94aca378fddf4e9e54/c8cf3f62062b3cdc9509167526de244fa3271fca14dd9dc97f653ef970374bd7?response-content-disposition=attachment%3B+filename*%3DUTF-8%27%27sae_weights.safetensors%3B+filename%3D%22sae_weights.safetensors%22%3B&Expires=1717303146&Policy=eyJTdGF0ZW1lbnQiOlt7IkNvbmRpdGlvbiI6eyJEYXRlTGVzc1RoYW4iOnsiQVdTOkVwb2NoVGltZSI6MTcxNzMwMzE0Nn19LCJSZXNvdXJjZSI6Imh0dHBzOi8vY2RuLWxmcy11cy0xLmh1Z2dpbmdmYWNlLmNvL3JlcG9zL2ViL2Q4L2ViZDg4OWQ2YWM1ODU3M2U4ZThhN2FhMTE3NmQ0ZDM1NzU4MWE2ZGE2MDEzNWI5NGFjYTM3OGZkZGY0ZTllNTQvYzhjZjNmNjIwNjJiM2NkYzk1MDkxNjc1MjZkZTI0NGZhMzI3MWZjYTE0ZGQ5ZGM5N2Y2NTNlZjk3MDM3NGJkNz9yZXNwb25zZS1jb250ZW50LWRpc3Bvc2l0aW9uPSoifV19&Signature=aCofT-zv%7EGwLDHeCme3fwPj8Qm94fW91-9W-qLHN9ymWzazuME4BV2C9zAP%7EBh0hdlbTZmHl-Kk979W%7Ea3crwSpXeCZPy4Ceg9jZRcgoSErgjDgS%7EuDKO7WHx5GzVf88SqgtzN7A3hCHuajxLXQTiR4jKtyr4DPcU2gWKaTtsfRhO1b3zAXNwXkOeb5Q-yALBolsKOyZxHFAzwtt7V5pdllfxQN0-AFfLN71CrAbz2egCcRzECBQjhEGePiJoPPD-kJ2B%7EoB9mlAv88QXnhe7%7E4TlVWzuigANRxlRGzXiZcnULoBNNT9DgYA5oGtNBlMh0B4svUYv5-W%7E58nNpcOPg__&Key-Pair-Id=KCD77M1F0VK2B\n",
      "Resolving cdn-lfs-us-1.huggingface.co (cdn-lfs-us-1.huggingface.co)... 18.161.156.3, 18.161.156.61, 18.161.156.80, ...\n",
      "Connecting to cdn-lfs-us-1.huggingface.co (cdn-lfs-us-1.huggingface.co)|18.161.156.3|:443... connected.\n",
      "HTTP request sent, awaiting response... 416 Requested Range Not Satisfiable\n",
      "\n",
      "    The file is already fully retrieved; nothing to do.\n",
      "\n"
     ]
    },
    {
     "data": {
      "text/html": [
       "<div id=\"output_6c09664444c7481ba843e8e4d6c7223b\"><script> /* penzai.treescope rendering of a Python object (compressed) */ (()=>{ let observer; let lastStep = new Promise((resolve, reject) => { observer = new IntersectionObserver((entries) => { for (const entry of entries) { if (entry.isIntersecting) { resolve(); observer.disconnect(); return; } } }, {rootMargin: \"1000px\"}); }); window.treescope_decompress_enqueue = (encoded, destId) => { const previous = lastStep; const destElt = document.getElementById(destId); lastStep = (async () => { await previous; let blob = new Blob([ Uint8Array.from(atob(encoded), (m) => m.codePointAt(0)) ]); let reader = blob.stream().pipeThrough( new DecompressionStream(\"deflate\") ).pipeThrough( new TextDecoderStream(\"utf-8\") ).getReader(); let parts = []; while (true) { let step = await reader.read(); if (step.done) { break; } parts.push(step.value); } let newElt = document.createElement(\"div\"); newElt.innerHTML = parts.join(\"\"); destElt.parentNode.replaceChild(newElt, destElt); for (let oldScript of newElt.querySelectorAll(\"script\")) { let newScript = document.createElement(\"script\"); newScript.type = oldScript.type; newScript.textContent = oldScript.textContent; oldScript.parentNode.replaceChild(newScript, oldScript); } })(); requestAnimationFrame(() => { observer.observe(destElt); }); } })(); </script><div id=\"compress_html_795c57b3a9bf4a56abbea658724b4cff\"><script>window.treescope_decompress_enqueue(\"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\", \"compress_html_795c57b3a9bf4a56abbea658724b4cff\");</script><span style=\"color: #aaaaaa; font-family: monospace\">(Loading...)</span></div></div>"
      ],
      "text/plain": [
       "<IPython.core.display.HTML object>"
      ]
     },
     "metadata": {},
     "output_type": "display_data"
    },
    {
     "data": {
      "text/html": [
       "<div id=\"compress_html_ff4e519d0fee4c2bb615668c50bc2a41\"><script>window.treescope_decompress_enqueue(\"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\", \"compress_html_ff4e519d0fee4c2bb615668c50bc2a41\");</script></div>"
      ],
      "text/plain": [
       "<IPython.core.display.HTML object>"
      ]
     },
     "metadata": {},
     "output_type": "display_data"
    },
    {
     "data": {
      "text/html": [
       "<div id=\"output_dest_6c09664444c7481ba843e8e4d6c7223b\"><script> (()=>{ const output = document.getElementById(\"output_6c09664444c7481ba843e8e4d6c7223b\"); const dest = document.getElementById(\"output_dest_6c09664444c7481ba843e8e4d6c7223b\"); dest.parentNode.replaceChild(output, dest); })(); </script></div>"
      ],
      "text/plain": [
       "(<jax.Array(1.0404294, dtype=float32)>,\n",
       " # jax.Array int32(16,) [≥694, ≤46_558] nonzero:16\n",
       "   Array([38392, 21968,  7395, 35911, 46558, 17895,  8265, 30491, 37354,\n",
       "          19255, 13932, 11776,  9762,   694, 41052, 14909], dtype=int32)\n",
       " ,\n",
       " # jax.Array float32(16,) ≈3.8 ±0.41 [≥3.4, ≤5.0] nonzero:16\n",
       "   Array([4.993171 , 4.415919 , 4.1850085, 3.9498377, 3.9282415, 3.8214664,\n",
       "          3.8211484, 3.7118008, 3.6665282, 3.6618662, 3.5518913, 3.4981477,\n",
       "          3.4750347, 3.469136 , 3.4441085, 3.4338064], dtype=float32)\n",
       " )"
      ]
     },
     "execution_count": 12,
     "metadata": {},
     "output_type": "execute_result"
    }
   ],
   "source": [
    "from micrlhf.utils.load_sae import get_sae\n",
    "from micrlhf.utils.ito import grad_pursuit\n",
    "refusal_steer = addition[-4]\n",
    "sae_steer = get_sae(10, 4)\n",
    "k = 16\n",
    "w, recon_steer = grad_pursuit(refusal_steer, sae_steer[\"W_dec\"], k, pos_only=True)\n",
    "i = jax.lax.top_k(jnp.abs(w), k)[1]\n",
    "((recon_steer - refusal_steer) ** 2).mean(), i, w[i]"
   ]
  },
  {
   "cell_type": "code",
   "execution_count": 13,
   "metadata": {},
   "outputs": [
    {
     "data": {
      "application/vnd.jupyter.widget-view+json": {
       "model_id": "28facac39f1940cfaed364a06f7a3d4a",
       "version_major": 2,
       "version_minor": 0
      },
      "text/plain": [
       "  0%|          | 0/46 [00:00<?, ?it/s]"
      ]
     },
     "metadata": {},
     "output_type": "display_data"
    },
    {
     "data": {
      "text/html": [
       "<div id=\"output_1b2c1501c51a44b788bd32c40d932339\"><script> /* penzai.treescope rendering of a Python object (compressed) */ (()=>{ let observer; let lastStep = new Promise((resolve, reject) => { observer = new IntersectionObserver((entries) => { for (const entry of entries) { if (entry.isIntersecting) { resolve(); observer.disconnect(); return; } } }, {rootMargin: \"1000px\"}); }); window.treescope_decompress_enqueue = (encoded, destId) => { const previous = lastStep; const destElt = document.getElementById(destId); lastStep = (async () => { await previous; let blob = new Blob([ Uint8Array.from(atob(encoded), (m) => m.codePointAt(0)) ]); let reader = blob.stream().pipeThrough( new DecompressionStream(\"deflate\") ).pipeThrough( new TextDecoderStream(\"utf-8\") ).getReader(); let parts = []; while (true) { let step = await reader.read(); if (step.done) { break; } parts.push(step.value); } let newElt = document.createElement(\"div\"); newElt.innerHTML = parts.join(\"\"); destElt.parentNode.replaceChild(newElt, destElt); for (let oldScript of newElt.querySelectorAll(\"script\")) { let newScript = document.createElement(\"script\"); newScript.type = oldScript.type; newScript.textContent = oldScript.textContent; oldScript.parentNode.replaceChild(newScript, oldScript); } })(); requestAnimationFrame(() => { observer.observe(destElt); }); } })(); </script><div id=\"compress_html_e4dc438904ff4d6ab8546b01dae5ead8\"><script>window.treescope_decompress_enqueue(\"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\", \"compress_html_e4dc438904ff4d6ab8546b01dae5ead8\");</script><span style=\"color: #aaaaaa; font-family: monospace\">(Loading...)</span></div></div>"
      ],
      "text/plain": [
       "<IPython.core.display.HTML object>"
      ]
     },
     "metadata": {},
     "output_type": "display_data"
    },
    {
     "data": {
      "text/html": [
       "<div id=\"output_dest_1b2c1501c51a44b788bd32c40d932339\"><script> (()=>{ const output = document.getElementById(\"output_1b2c1501c51a44b788bd32c40d932339\"); const dest = document.getElementById(\"output_dest_1b2c1501c51a44b788bd32c40d932339\"); dest.parentNode.replaceChild(output, dest); })(); </script></div>"
      ],
      "text/plain": [
       "['<s><|user|> What is 3940 * 3892?<|end|><|assistant|> To calculate the product of 3940 and 3892, you can use the standard multiplication method:\\n\\n3940\\nx 3892\\n-----\\nFirst, multiply the ones',\n",
       " '<s><|user|> What is 3940 * 3892?<|end|><|assistant|> To calculate the product of 3940 and 3892, you can use the standard multiplication method:\\n\\n3940\\nx 3892\\n-----\\nFirst, multiply the ones',\n",
       " '<s><|user|> What is 3940 * 3892?<|end|><|assistant|> To calculate the product of 3940 and 3892, you can use the standard multiplication method:\\n\\n3940\\nx 3892\\n-----\\nFirst, multiply 3',\n",
       " '<s><|user|> What is 3940 * 3892?<|end|><|assistant|> To calculate the product of 3940 and 3892, you can use the standard multiplication method:\\n\\n3940\\nx 3892\\n-----\\nFirst, multiply 3',\n",
       " '<s><|user|> What is 3940 * 3892?<|end|><|assistant|> To calculate the product of 3940 and 3892, you can use the standard multiplication method:\\n\\n3940\\nx 3892\\n-----\\n15760',\n",
       " '<s><|user|> What is 3940 * 3892?<|end|><|assistant|> To calculate the product of 3940 and 3892, you can use the standard multiplication method:\\n\\n3940\\nx 3892\\n-----\\n15760',\n",
       " '<s><|user|> What is 3940 * 3892?<|end|><|assistant|> To calculate the product of 3940 and 3892, you can use the standard multiplication method:\\n\\n3940\\nx 3892\\n-----\\n15760',\n",
       " '<s><|user|> What is 3940 * 3892?<|end|><|assistant|> To calculate the product of 3940 and 3892, you can use the standard multiplication method:\\n\\n3940\\nx 3892\\n-----\\n15760',\n",
       " '<s><|user|> What is 3940 * 3892?<|end|><|assistant|> To calculate the product of 3940 and 3892, you can use the standard multiplication method:\\n\\n3940\\nx 3892\\n-----\\n15760',\n",
       " '<s><|user|> What is 3940 * 3892?<|end|><|assistant|> To calculate the product of 3940 and 3892, you can use the standard multiplication method:\\n\\n3940\\nx 3892\\n-----\\n15760',\n",
       " '<s><|user|> What is 3940 * 3892?<|end|><|assistant|> To calculate the product of 3940 and 3892, you can use the standard multiplication method:\\n\\n3940\\nx 3892\\n-----\\n15720',\n",
       " '<s><|user|> What is 3940 * 3892?<|end|><|assistant|> To calculate the product of 3940 and 3892, you can use the standard multiplication method:\\n\\n3940\\nx 3892\\n_____\\n1576',\n",
       " '<s><|user|> What is 3940 * 3892?<|end|><|assistant|> To calculate the product of 3940 and 3892, you can use the standard multiplication method:\\n\\n3940\\nx 3892\\n_____\\n1576',\n",
       " '<s><|user|> What is 3940 * 3892?<|end|><|assistant|> To calculate the product of 3940 and 3892, you can use the standard multiplication method:\\n\\n3940\\nx 3892\\n_____\\n1576',\n",
       " '<s><|user|> What is 3940 * 3892?<|end|><|assistant|> To calculate the product of 3940 and 3892, you can use the standard multiplication method:\\n\\n3940\\nx 3892\\n_____\\n1572',\n",
       " '<s><|user|> What is 3940 * 3892?<|end|><|assistant|> To calculate the product of 3940 and 3892, you can use the standard multiplication method:\\n\\n3940\\nx 3892\\n_____\\n1576',\n",
       " '<s><|user|> What is 3940 * 3892?<|end|><|assistant|> To calculate the product of 3940 and 3892, you can use the standard multiplication method:\\n\\n3940\\nx 3892\\n_____\\n1572',\n",
       " '<s><|user|> What is 3940 * 3892?<|end|><|assistant|> To calculate the product of 3940 and 3892, you can use the standard multiplication method:\\n\\n3940\\nx 3892\\n_____\\n1572',\n",
       " '<s><|user|> What is 3940 * 3892?<|end|><|assistant|> The product of 3940 and 3892 is 15,361,280. You can calculate this by multiplying the two numbers together:\\n\\n3940\\n',\n",
       " '<s><|user|> What is 3940 * 3892?<|end|><|assistant|> The product of 3940 and 3892 is 15,361,280. You can calculate this by multiplying the two numbers together:\\n\\n3940\\n',\n",
       " '<s><|user|> What is 3940 * 3892?<|end|><|assistant|> The product of 3940 and 3892 is 15,365,280. You can calculate this by multiplying the two numbers together:\\n\\n3940\\n',\n",
       " '<s><|user|> What is 3940 * 3892?<|end|><|assistant|> The product of 3940 and 3892 is 15,361,280. You can calculate this by multiplying the two numbers together:\\n\\n3940\\n',\n",
       " '<s><|user|> What is 3940 * 3892?<|end|><|assistant|> The product of 3940 and 3892 is 15,360,080. You can calculate this by multiplying the two numbers together.<|end|><|assistant|> To calculate 39',\n",
       " '<s><|user|> What is 3940 * 3892?<|end|><|assistant|> The product of 3940 and 3892 is 15,361,280. You can calculate this by multiplying the two numbers together.<|end|><|assistant|> To calculate 39',\n",
       " '<s><|user|> What is 3940 * 3892?<|end|><|assistant|> The product of 3940 and 3892 is 15,354,080. You can calculate this by multiplying the two numbers together.<|end|><|assistant|> To calculate 39',\n",
       " '<s><|user|> What is 3940 * 3892?<|end|><|assistant|> The product of 3940 and 3892 is 15,361,280. You can calculate this by multiplying the two numbers together.<|end|><|assistant|> To calculate 39',\n",
       " '<s><|user|> What is 3940 * 3892?<|end|><|assistant|> The product of 3940 and 3892 is 15,360,080.<|end|><|assistant|> To calculate the product of 3940 and 3892,',\n",
       " '<s><|user|> What is 3940 * 3892?<|end|><|assistant|> The product of 3940 and 3892 is 15,354,080.<|end|><|assistant|> To calculate the product of 3940 and 3892,',\n",
       " '<s><|user|> What is 3940 * 3892?<|end|><|assistant|> The product of 3940 and 3892 is 15364880.<|end|><|assistant|> To calculate the product of 3940 and 3892, you can',\n",
       " '<s><|user|> What is 3940 * 3892?<|end|><|assistant|> The product of 3940 and 3892 is 15364880.<|end|><|assistant|> To calculate the product of 3940 and 3892, you can',\n",
       " '<s><|user|> What is 3940 * 3892?<|end|><|assistant|> The product of 3940 and 3892 is 15360880.<|end|><|assistant|> To calculate the product of 3940 and 3892, you can',\n",
       " '<s><|user|> What is 3940 * 3892?<|end|><|assistant|> The product of 3940 and 3892 is 15363680.<|end|><|assistant|> To calculate the product of 3940 and 3892, you can',\n",
       " '<s><|user|> What is 3940 * 3892?<|end|><|assistant|> The product of 3940 and 3892 is 15360880.<|end|><|assistant|> To calculate the product of 3940 and 3892, you can',\n",
       " '<s><|user|> What is 3940 * 3892?<|end|><|assistant|> The product of 3940 and 3892 is 15360880.<|end|><|assistant|> To calculate the product of 3940 and 3892, you can',\n",
       " '<s><|user|> What is 3940 * 3892?<|end|><|assistant|> The product of 3940 and 3892 is 15360880.<|end|><|assistant|> To calculate the product of 3940 and 3892, you can',\n",
       " '<s><|user|> What is 3940 * 3892?<|end|><|assistant|> The product of 3940 and 3892 is 15363680.<|end|><|assistant|> To calculate the product of 3940 and 3892, you can',\n",
       " '<s><|user|> What is 3940 * 3892?<|end|><|assistant|> The product of 3940 and 3892 is 15363680.<|end|><|assistant|> To calculate the product of 3940 and 3892, you can',\n",
       " '<s><|user|> What is 3940 * 3892?<|end|><|assistant|> The product of 3940 and 3892 is 15364880.<|end|><|assistant|> To calculate the product of 3940 and 3892, you can',\n",
       " '<s><|user|> What is 3940 * 3892?<|end|><|assistant|> The product of 3940 and 3892 is 15366880.<|end|><|assistant|> To calculate the product of 3940 and 3892, you can',\n",
       " '<s><|user|> What is 3940 * 3892?<|end|><|assistant|> The product of 3940 and 3892 is 15362080.<|end|><|assistant|> To calculate the product of 3940 and 3892, you can',\n",
       " '<s><|user|> What is 3940 * 3892?<|end|><|assistant|> The product of 3940 and 3892 is 15363680.<|end|><|assistant|> To calculate the product of 3940 and 3892, you can',\n",
       " '<s><|user|> What is 3940 * 3892?<|end|><|assistant|> The product of 3940 and 3892 is 15366880.<|end|><|assistant|> To calculate the product of 3940 and 3892, you can',\n",
       " '<s><|user|> What is 3940 * 3892?<|end|><|assistant|> The product of 3940 and 3892 is 15363680.<|end|><|assistant|> 3940 * 3892 = 153636',\n",
       " '<s><|user|> What is 3940 * 3892?<|end|><|assistant|> The product of 3940 and 3892 is 15366880.<|end|><|assistant|> To calculate the product of 3940 and 3892, you can',\n",
       " '<s><|user|> What is 3940 * 3892?<|end|><|assistant|> The product of 3940 and 3892 is 15363680.<|end|><|assistant|> To calculate the product of 3940 and 3892, you can',\n",
       " '<s><|user|> What is 3940 * 3892?<|end|><|assistant|> The product of 3940 and 3892 is 15363680.<|end|><|assistant|> To calculate the product of 3940 and 3892, you can',\n",
       " '<s><|user|> What is 3940 * 3892?<|end|><|assistant|> The product of 3940 and 3892 is 15287680.<|end|><|assistant|> To calculate the product of 3940 and 3892, you can',\n",
       " '<s><|user|> What is 3940 * 3892?<|end|><|assistant|> The product of 3940 and 3892 is 15287680.<|end|><|assistant|> To calculate the product of 3940 and 3892, you can',\n",
       " '<s><|user|> What is 3940 * 3892?<|end|><|assistant|> The product of 3940 and 3892 is 15283680.<|end|><|assistant|> To calculate the product of 3940 and 3892, you can',\n",
       " '<s><|user|> What is 3940 * 3892?<|end|><|assistant|> To calculate the product of 3940 and 3892, you can use a calculator or perform the multiplication manually.\\n\\n3940 * 3892 = 15,',\n",
       " '<s><|user|> What is 3940 * 3892?<|end|><|assistant|> To calculate the product of 3940 and 3892, you can use a calculator or perform the multiplication manually.\\n\\n3940 * 3892 = 15,',\n",
       " '<s><|user|> What is 3940 * 3892?<|end|><|assistant|> To calculate the product of 3940 and 3892, you can use a calculator or perform the multiplication manually.\\n\\n3940 * 3892 = 15,',\n",
       " '<s><|user|> What is 3940 * 3892?<|end|><|assistant|> To calculate the product of 3940 and 3892, you can use a calculator or perform the multiplication manually.\\n\\n3940 * 3892 = 15,',\n",
       " '<s><|user|> What is 3940 * 3892?<|end|><|assistant|> To calculate the product of 3940 and 3892, you can use a calculator or perform the multiplication manually.\\n\\n3940 * 3892 = 15,',\n",
       " '<s><|user|> What is 3940 * 3892?<|end|><|assistant|> To find the product of 3940 and 3892, you can use a calculator or perform the multiplication manually.\\n\\n3940 * 3892 = 15,',\n",
       " '<s><|user|> What is 3940 * 3892?<|end|><|assistant|> To find the product of 3940 and 3892, you can use a calculator or perform the multiplication manually.\\n\\n3940 * 3892 = 15,',\n",
       " '<s><|user|> What is 3940 * 3892?<|end|><|assistant|> To find the product of 3940 and 3892, you can use a calculator or perform the multiplication manually.\\n\\n3940 * 3892 = 153',\n",
       " \"<s><|user|> What is 3940 * 3892?<|end|><|assistant|> To find the product of 3940 and 3892, you can use a calculator or perform the multiplication manually.\\n\\nHere's the calculation:\\n\\n3940\\nx   \",\n",
       " \"<s><|user|> What is 3940 * 3892?<|end|><|assistant|> To find the product of 3940 and 3892, you can use a calculator or perform the multiplication manually.\\n\\nHere's the calculation:\\n\\n3940\\nx   \",\n",
       " \"<s><|user|> What is 3940 * 3892?<|end|><|assistant|> To find the product of 3940 and 3892, you can use a calculator or perform the multiplication manually.\\n\\nHere's the calculation:\\n\\n3940\\nx   \",\n",
       " \"<s><|user|> What is 3940 * 3892?<|end|><|assistant|> To multiply 3940 by 3892, you can use a calculator or do the multiplication manually. Here's the calculation:\\n\\n3940\\nx    3892\\n\",\n",
       " \"<s><|user|> What is 3940 * 3892?<|end|><|assistant|> To multiply 3940 by 3892, you can use a calculator or do the multiplication manually. Here's the calculation:\\n\\n3940\\nx    3892\\n\",\n",
       " \"<s><|user|> What is 3940 * 3892?<|end|><|assistant|> To multiply 3940 by 3892, you can use a calculator or do the multiplication manually. Here's the calculation:\\n\\n3940 * 3892 = \",\n",
       " \"<s><|user|> What is 3940 * 3892?<|end|><|assistant|> To find the product of 3940 and 3892, you can use a calculator or perform the multiplication manually.\\n\\nHere's the calculation:\\n\\n3940 * 3\"]"
      ]
     },
     "execution_count": 13,
     "metadata": {},
     "output_type": "execute_result"
    },
    {
     "ename": "",
     "evalue": "",
     "output_type": "error",
     "traceback": [
      "\u001b[1;31mThe Kernel crashed while executing code in the current cell or a previous cell. \n",
      "\u001b[1;31mPlease review the code in the cell(s) to identify a possible cause of the failure. \n",
      "\u001b[1;31mClick <a href='https://aka.ms/vscodeJupyterKernelCrash'>here</a> for more info. \n",
      "\u001b[1;31mView Jupyter <a href='command:jupyter.viewOutput'>log</a> for further details."
     ]
    }
   ],
   "source": [
    "layer = layer_source\n",
    "repeat = 64\n",
    "# vector = addition[-4]\n",
    "vector = recon_steer\n",
    "act_add = add_vector(llama,\n",
    "                     (vector / jnp.linalg.norm(vector, axis=-1, keepdims=True))[None, :] * jnp.linspace(-scale * 2, scale * 2, repeat)[:, None],\n",
    "                     layer)\n",
    "\n",
    "sample(act_add, tokenizer, prompt,\n",
    "       batch_size=repeat, do_sample=False)"
   ]
  },
  {
   "cell_type": "code",
   "execution_count": null,
   "metadata": {},
   "outputs": [],
   "source": []
  }
 ],
 "metadata": {
  "kernelspec": {
   "display_name": "micrlhf-progress-a058ydGG-py3.12",
   "language": "python",
   "name": "python3"
  },
  "language_info": {
   "codemirror_mode": {
    "name": "ipython",
    "version": 3
   },
   "file_extension": ".py",
   "mimetype": "text/x-python",
   "name": "python",
   "nbconvert_exporter": "python",
   "pygments_lexer": "ipython3",
   "version": "3.12.3"
  }
 },
 "nbformat": 4,
 "nbformat_minor": 2
}
