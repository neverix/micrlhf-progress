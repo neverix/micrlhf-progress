{
 "cells": [
  {
   "cell_type": "code",
   "execution_count": 1,
   "metadata": {},
   "outputs": [],
   "source": [
    "%load_ext autoreload\n",
    "%autoreload 2\n",
    "import penzai\n",
    "from penzai import pz\n",
    "pz.ts.register_as_default()\n",
    "pz.ts.register_autovisualize_magic()\n",
    "pz.enable_interactive_context()"
   ]
  },
  {
   "cell_type": "code",
   "execution_count": 2,
   "metadata": {},
   "outputs": [],
   "source": [
    "filename = \"models/phi-3-16.gguf\"\n",
    "from micrlhf.llama import LlamaTransformer\n",
    "llama = LlamaTransformer.from_pretrained(filename, device_map=\"tpu:0\")"
   ]
  },
  {
   "cell_type": "code",
   "execution_count": 3,
   "metadata": {},
   "outputs": [
    {
     "name": "stderr",
     "output_type": "stream",
     "text": [
      "/home/neverix/.cache/pypoetry/virtualenvs/micrlhf-progress-a058ydGG-py3.12/lib/python3.12/site-packages/huggingface_hub/file_download.py:1132: FutureWarning: `resume_download` is deprecated and will be removed in version 1.0.0. Downloads always resume when possible. If you want to force a new download, use `force_download=True`.\n",
      "  warnings.warn(\n",
      "Special tokens have been added in the vocabulary, make sure the associated word embeddings are fine-tuned or trained.\n"
     ]
    }
   ],
   "source": [
    "from transformers import AutoTokenizer\n",
    "tokenizer = AutoTokenizer.from_pretrained(\"microsoft/Phi-3-mini-4k-instruct\")\n",
    "tokenizer.padding_side = \"right\""
   ]
  },
  {
   "cell_type": "code",
   "execution_count": 4,
   "metadata": {},
   "outputs": [],
   "source": [
    "import jax\n",
    "import jax.numpy as jnp\n",
    "prompt = \"\"\"<|user|>\n",
    "What is 3940 * 3892?<|end|>\n",
    "<|assistant|>\n",
    "\"\"\"\n",
    "tokens = tokenizer.encode(prompt)\n",
    "def tokens_to_array(tokens):\n",
    "    token_array = jnp.asarray(tokens)\n",
    "    if len(token_array) >= llama.mesh.shape[\"dp\"]:\n",
    "        token_array = jax.device_put(token_array, jax.sharding.NamedSharding(llama.mesh, jax.sharding.PartitionSpec(\"dp\", \"sp\")))\n",
    "    token_array = pz.nx.wrap(token_array, \"batch\", \"seq\")\n",
    "    return token_array"
   ]
  },
  {
   "cell_type": "code",
   "execution_count": 5,
   "metadata": {},
   "outputs": [],
   "source": [
    "from micrlhf.llama import LlamaBlock\n",
    "from functools import partial\n",
    "\n",
    "\n",
    "layer_source = 10\n",
    "def make_get_resids(llama, layer_target):\n",
    "    get_resids = llama.select().at_instances_of(LlamaBlock).pick_nth_selected(layer_target\n",
    "                                                                              ).apply(lambda x:\n",
    "        pz.nn.Sequential([\n",
    "            pz.de.TellIntermediate.from_config(tag=f\"resid_pre\"),\n",
    "            x\n",
    "        ])\n",
    "    )\n",
    "    get_resids = pz.de.CollectingSideOutputs.handling(get_resids, tag_predicate=lambda x: x.startswith(\"resid_pre\"))\n",
    "    return get_resids\n",
    "jittify = lambda x: partial(jax.jit(lambda lr, *args, **kwargs: lr(*args, **kwargs)[1][0].value), x)\n",
    "get_resids_initial = make_get_resids(llama, layer_source)\n",
    "get_resids_initial = jittify(get_resids_initial)"
   ]
  },
  {
   "cell_type": "code",
   "execution_count": 6,
   "metadata": {},
   "outputs": [],
   "source": [
    "layer_target = 20\n",
    "taker = jittify(make_get_resids(llama, layer_target).select().at_instances_of(LlamaBlock).apply_with_selected_index(\n",
    "    lambda i, x: x if i >= layer_source else pz.nn.Identity()\n",
    ").select().at_instances_of(pz.nn.EmbeddingLookup).apply(lambda _: pz.nn.Identity())\n",
    "                .select().at_instances_of(pz.nn.ConstantRescale).pick_nth_selected(0).apply(lambda _: pz.nn.Identity()))"
   ]
  },
  {
   "cell_type": "code",
   "execution_count": 9,
   "metadata": {},
   "outputs": [],
   "source": [
    "import dataclasses\n",
    "import jax.numpy as jnp\n",
    "from tqdm.auto import trange\n",
    "import optax\n",
    "\n",
    "\n",
    "inputs = llama.inputs.from_basic_segments(tokens_to_array([tokens]))\n",
    "resid_initial = get_resids_initial(inputs)\n",
    "bs = 16\n",
    "seed = 9\n",
    "iterations = 1000\n",
    "scale = 10\n",
    "def get_loss(rep):\n",
    "    rep = pz.nx.wrap(rep, \"batch\", \"embedding\")\n",
    "    rep = pz.nx.nmap(lambda a: a / jnp.linalg.norm(a) * scale)(rep.untag(\"embedding\")).tag(\"embedding\")\n",
    "    resid = pz.nx.nmap(lambda x, y: x.at[-1].add(y))(resid_initial[{\"batch\": 0}].untag(\"seq\"), rep).tag(\"seq\")\n",
    "    resid_out = taker(dataclasses.replace(inputs, tokens=resid,\n",
    "                                          attention_mask=inputs.attention_mask,\n",
    "                                          positions=inputs.positions))[{\"seq\": -1}]\n",
    "    diffs = pz.nx.nmap(lambda x: (x[:, None] - x[None, :]) ** 2)(resid_out.untag(\"batch\")).tag(\"batch1\", \"batch2\")\n",
    "    diffs = diffs.untag(\"embedding\").sum()  # ** 0.5\n",
    "    loss = diffs.data_array.mean()\n",
    "    return -loss, (resid_out,)\n",
    "start_add = jax.random.normal(jax.random.key(seed),\n",
    "                              (bs, resid_initial.named_shape[\"embedding\"]), dtype=resid_initial.dtype)\n",
    "\n",
    "optimizer = optax.chain(\n",
    "    optax.clip_by_global_norm(1.0),\n",
    "    optax.adam(1e-2),\n",
    "    optax.zero_nans(),\n",
    "    \n",
    ")\n",
    "lwg = jax.value_and_grad(get_loss, has_aux=True)\n",
    "# lwg = jax.jit(lwg)\n",
    "\n",
    "# @partial(jax.jit, donate_argnums=(0, 1))\n",
    "def train_step(addition, opt_state):\n",
    "    (loss, (resid_out,)), grad = lwg(addition)\n",
    "    updates, opt_state = optimizer.update(grad, opt_state, addition)\n",
    "    addition = optax.apply_updates(addition, updates)\n",
    "    return loss, addition, opt_state, dict(resid_out=resid_out)\n"
   ]
  },
  {
   "cell_type": "code",
   "execution_count": 10,
   "metadata": {},
   "outputs": [
    {
     "data": {
      "application/vnd.jupyter.widget-view+json": {
       "model_id": "c794ea4b159c4415bfd8e5ca47c114d9",
       "version_major": 2,
       "version_minor": 0
      },
      "text/plain": [
       "  0%|          | 0/1000 [00:00<?, ?it/s]"
      ]
     },
     "metadata": {},
     "output_type": "display_data"
    }
   ],
   "source": [
    "addition = start_add\n",
    "opt_state = optimizer.init(addition)\n",
    "for _ in (bar := trange(iterations)):\n",
    "    loss, addition, opt_state, aux = train_step(addition, opt_state)\n",
    "    bar.set_postfix(loss=loss)"
   ]
  },
  {
   "cell_type": "code",
   "execution_count": 29,
   "metadata": {},
   "outputs": [
    {
     "data": {
      "application/vnd.jupyter.widget-view+json": {
       "model_id": "69a777d1f92d4884b94ebe628801541e",
       "version_major": 2,
       "version_minor": 0
      },
      "text/plain": [
       "  0%|          | 0/46 [00:00<?, ?it/s]"
      ]
     },
     "metadata": {},
     "output_type": "display_data"
    }
   ],
   "source": [
    "from micrlhf.utils.activation_manipulation import add_vector\n",
    "from micrlhf.sampling import sample\n",
    "import numpy as np\n",
    "\n",
    "layer = layer_source\n",
    "repeat = 4\n",
    "act_add = add_vector(llama,\n",
    "                     jnp.tile(addition / jnp.linalg.norm(addition, axis=-1, keepdims=True) * scale, (repeat, 1)),\n",
    "                     layer)\n",
    "\n",
    "texts, cached = sample(act_add, tokenizer, prompt,\n",
    "       batch_size=bs * repeat, do_sample=True, return_model=True)\n",
    "np.array(texts).reshape(repeat, bs).T.tolist()"
   ]
  },
  {
   "cell_type": "code",
   "execution_count": 31,
   "metadata": {},
   "outputs": [
    {
     "data": {
      "text/html": [
       "<div id=\"output_f988a573314c4994bdf6b29d13e62af5\"><script> /* penzai.treescope rendering of a Python object (compressed) */ (()=>{ let observer; let lastStep = new Promise((resolve, reject) => { observer = new IntersectionObserver((entries) => { for (const entry of entries) { if (entry.isIntersecting) { resolve(); observer.disconnect(); return; } } }, {rootMargin: \"1000px\"}); }); window.treescope_decompress_enqueue = (encoded, destId) => { const previous = lastStep; const destElt = document.getElementById(destId); lastStep = (async () => { await previous; let blob = new Blob([ Uint8Array.from(atob(encoded), (m) => m.codePointAt(0)) ]); let reader = blob.stream().pipeThrough( new DecompressionStream(\"deflate\") ).pipeThrough( new TextDecoderStream(\"utf-8\") ).getReader(); let parts = []; while (true) { let step = await reader.read(); if (step.done) { break; } parts.push(step.value); } let newElt = document.createElement(\"div\"); newElt.innerHTML = parts.join(\"\"); destElt.parentNode.replaceChild(newElt, destElt); for (let oldScript of newElt.querySelectorAll(\"script\")) { let newScript = document.createElement(\"script\"); newScript.type = oldScript.type; newScript.textContent = oldScript.textContent; oldScript.parentNode.replaceChild(newScript, oldScript); } })(); requestAnimationFrame(() => { observer.observe(destElt); }); } })(); </script><div id=\"compress_html_a354af8b09ad4c2eacf74f35c860f13d\"><script>window.treescope_decompress_enqueue(\"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\", \"compress_html_a354af8b09ad4c2eacf74f35c860f13d\");</script><span style=\"color: #aaaaaa; font-family: monospace\">(Loading...)</span></div></div>"
      ],
      "text/plain": [
       "<IPython.core.display.HTML object>"
      ]
     },
     "metadata": {},
     "output_type": "display_data"
    },
    {
     "data": {
      "text/html": [
       "<div id=\"compress_html_5918d081d2e7440c820ff2c7cf587c36\"><script>window.treescope_decompress_enqueue(\"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\", \"compress_html_5918d081d2e7440c820ff2c7cf587c36\");</script></div>"
      ],
      "text/plain": [
       "<IPython.core.display.HTML object>"
      ]
     },
     "metadata": {},
     "output_type": "display_data"
    },
    {
     "data": {
      "text/html": [
       "<div id=\"output_dest_f988a573314c4994bdf6b29d13e62af5\"><script> (()=>{ const output = document.getElementById(\"output_f988a573314c4994bdf6b29d13e62af5\"); const dest = document.getElementById(\"output_dest_f988a573314c4994bdf6b29d13e62af5\"); dest.parentNode.replaceChild(output, dest); })(); </script></div>"
      ],
      "text/plain": [
       "(<jax.Array(22.22797, dtype=float32)>,\n",
       " <jax.Array([40212, 19938], dtype=int32)>,\n",
       " <jax.Array([-58.395702, -50.326153], dtype=float32)>)"
      ]
     },
     "execution_count": 31,
     "metadata": {},
     "output_type": "execute_result"
    }
   ],
   "source": [
    "from micrlhf.utils.load_sae import get_sae\n",
    "from micrlhf.utils.ito import grad_pursuit\n",
    "resid_out = aux[\"resid_out\"]\n",
    "refusal = (resid_out[{\"batch\": -4}] - resid_out.untag(\"batch\").mean()).unwrap(\"embedding\")\n",
    "sae = get_sae(20, 5)\n",
    "k = 2\n",
    "w, recon = grad_pursuit(refusal, sae[\"W_dec\"], k, pos_only=False)\n",
    "i = jax.lax.top_k(jnp.abs(w), k)[1]\n",
    "((recon - refusal) ** 2).mean(), i, w[i]"
   ]
  },
  {
   "cell_type": "code",
   "execution_count": 58,
   "metadata": {},
   "outputs": [
    {
     "data": {
      "text/html": [
       "<div id=\"output_0a4e85ff38d2491f81a7f92e1850625d\"><script> /* penzai.treescope rendering of a Python object (compressed) */ (()=>{ let observer; let lastStep = new Promise((resolve, reject) => { observer = new IntersectionObserver((entries) => { for (const entry of entries) { if (entry.isIntersecting) { resolve(); observer.disconnect(); return; } } }, {rootMargin: \"1000px\"}); }); window.treescope_decompress_enqueue = (encoded, destId) => { const previous = lastStep; const destElt = document.getElementById(destId); lastStep = (async () => { await previous; let blob = new Blob([ Uint8Array.from(atob(encoded), (m) => m.codePointAt(0)) ]); let reader = blob.stream().pipeThrough( new DecompressionStream(\"deflate\") ).pipeThrough( new TextDecoderStream(\"utf-8\") ).getReader(); let parts = []; while (true) { let step = await reader.read(); if (step.done) { break; } parts.push(step.value); } let newElt = document.createElement(\"div\"); newElt.innerHTML = parts.join(\"\"); destElt.parentNode.replaceChild(newElt, destElt); for (let oldScript of newElt.querySelectorAll(\"script\")) { let newScript = document.createElement(\"script\"); newScript.type = oldScript.type; newScript.textContent = oldScript.textContent; oldScript.parentNode.replaceChild(newScript, oldScript); } })(); requestAnimationFrame(() => { observer.observe(destElt); }); } })(); </script><div id=\"compress_html_c183f55f51234fa1bb8aee7ddaa1f3ef\"><script>window.treescope_decompress_enqueue(\"eNrdWY1T4sgS/1dmc1VrOAUB+UasF5AvV3QVd3W9e0VNkkkykmRiMgHxyv/99UxAPkR3927f3r0HVQIz/fHrnu6e7ngY8ZlLjjI8JCQyWEBGIWMc/YECFlFOmV9DIXExpxNSRxbzedrCHnVnNeQxn0UBNmB96lBO0vJHDQUhrLg04mkpOs1nAaz6zIdlHRtjO2Sxb6YN5rKwlrDW0fyX7gIByKMmd2rIohzIfE58XkceDm3qp11i8RrKG47Q4ZO0Q6jtwEouU6yjp8P9xJzDyAhpwI8QtZA6pb7JpksLUaPRQACBWCDATIGtLynQH0/1F8uZUUB8k/q2ZgjPRED227+/StbDvukKkX7suluobcJHG95vIHXh9BFnKdQ4ApD7v6JTxsZwCCHiDkGS0mcmyaBf95FLOJrzrrDKowHlarL3roFMZsQeODSjM3OG3r9H78ROxnBxFJ3CoWWEwzH1I1VZB6WkkHDVQodgCnAIktou8eQJPYFmHoe+3ISfW2wNY3/ImC8MnLJwPLcMVEYckF3DkthaW+bUEIsBCcFwD/sGyfhsqqaeTXuxg9IJ0yE6yAvI22Jg8ygzLvFt7kBooOy2iHj7TBO7hQeIG5EldCf2BfavKo8canFhkuQQX57g/a0Y1AVlSO5jEnHNpx4WFJ0Qe0RN/JpKbT+RTShBHDnJ2dS/xXELEI3EFd/jum+HvRU48YErJsfEImFIzCviBRD2JHoZQIErFp8DH9jC2ZC4xOAs1FwXAn3Ou1oEY38UQaQqqbpMOFXkF0hCzJIChaHwuZI3IfHYhKxlzYqM1zJBXWAV8q2QPRKRHFJyUvjW4apKUtiESMEBv1ZNM0ICZswTcpUWvmVEHQbiRIn8NV8nD7yVKFvZXi7WJZwk189EuQkJeMsgLUg/UwUJe4JAnNOrZ8WZbbtJGRnJ6s8BmKxysEJcvofIBKTPXSHCTv7OjMlMZKQSKovSA8QrPk/kqsqzzJEHAJUFjicE90FyERyadIIkY2OzriGOdQBMHhpKVkHMB6WA3l+h245f5Q6NFsgVuHKSi9ScB+RIOslhrklCGYvygvsFl8V7fpVKlhqiHLvUALwZC8ixDqpEXX/lEn5C62SjBB1QmzQCpbPFZbtJiI6Qi3Xi1mo6gZgmK6gM+apv1ZfcuOmcuHLnF3O2vtRFfXkP6y4TN/erOh1IjvClZhOH44hgG1ztv+Su+YyrG0sOjtQjKfNoqx8kT81wiDGGyz2Ffk0tMQjW7UwL+jWEMvxraOf3fFE3dv5OeOtMr4Is/QSQ4hyF4jiMxAEGjAKCcIteGv04tTIVpKK0zLfotRj/MVqX5ok6+FJLhkYji4YRHzF/JMJ/S2q9lUqZfFFk09ajQn8ZfnLimxCFVWs9tEzop4wofeBYc2SIev6DomWlFs0Lw5pqA7uGCj08dGq54EGW6w0ccNn816DoLISaPIdiMg5KBQz0C8mKt3DK1CH+CEqUi4MIdr9aWr8b2BsakoIqdUgi8hBAy/QqzY/AsU3F3NB/zWc+Q8T02vy3M4BeI6TYRcOZpzNoss5jLmCZaNFOtFgw21m/63zRqrvztel8eCtkwetRaNRQHLqqiTmuif39KbOsfF3HESkV9sxstTuwtaYmX/0LTWPyW/NyCn97HU1ra2+9mp6m2WP2wey3m63pF027+tI60Qb9Zkvr2A/93qnDo+aAEvugc3yTP+2XvkyGQUw/DopXuZOb/uXnweR68Mg/zjqd1u61Pb6izeOsQ48v4pO22b3L9vR9a9I3g/sPJef+mtKLeOB3nZ71iWufSs2zsKB1+v64XTI+xbG/e1m8N6LxdGJ13P37B7vNKrZ+Mu1Wcj1t39cui6dheJK73LUfs5dmVjuxcvZZuTXt3uXtLJvFl+Wy186Vpr2b6rltB+RqPCuQvv5YNPTwvMuxZl/0z6bHOJpFF3G/f3Pd7ky1jxdB/4v5aX9/1y5flW8OeNb68PFemxRB5ql2VtYGU82zHy+Hu/HtkLRvHvJWyXg8K1z2ZsW4qX14bN4FneCA9i5a7ext/LEwLPtW87Td6ww8je5WJu284+ec8q7+eXpzN+2Fk+Pup5Z/Z7XbNt89N25dt1ystk6mzYpTLQwG3eFB91azvX7xrnlR5Vdd0qu2m81+9+DYLlzufzFmutaFM/38YV+76GKNDFqu1ntsn9u33C41P9rn5/3j5pheFEmnedNqdgyaDZyQBT7ERnDbPs495sZDq2VxZ/bB75m4E/Ws7JnXbZ+VmqZ2//lzgHk0vPVME9Nq3nqsFj7Ru/tS4IWlc/alNaRh15ucdA+G18ODTjtvNC+sq92ey4JuoRNNi9i+L1XoLRmeucG13+z1iTkISXx93215uetOOB4OH4r50vV1NNUAUQrJMZWrOzKsd1I/In2hPZ3pMecwU28rUsvtbT2DgpQNKrjHIigFW4l/J7mCqdT/bBGAZNfHFDhlMfCglXZgJqwh7HNgp5Dj5vNjoOdK/KLLSLjpI1SSbKZKvE0rk/ZkixXbu80lZ2aKo5EBbTg49pkfW3yteV+0yW/p3OBZV7nqejTBoZpOi2qXxj4crBx+U6vLQol4KhBif9FMSLEoFyECHkvDjcpi/n2mPCOAg6HEfLeORKpE76gXsJBj/4VsPWRjeXMFs2Uv+HXvrrCt+PP5wt18bvdignTkUwPJn5gG0yNUN99AaqJh/VESWHLFROAB2RyBWIsIl6CESwUOPMWUIx9PqI1huobJkgY6w6GZmYaUkyto/tSlLDiJuazlBIpNU1VW/C2HbcKvqEfgYJ6n+xd8i6cFG6xPeyifzWZlaTAwhw5JlY3bdr0rTlWW4NbneRWO9xfUwdSFYOAMCeJ3MiehJfNj7Loz6CYiTrApYmJ31XfzOXo5RItQWkzR62PeZrcJ83BSxg6pH8QciccNDUUWLp09KFuFzGscbCb17ehwXzKv63VAUggqxiMOLSWB+V3GLUztUM2dhqIcqQAYGIB9DmGFfWcZkzsw67eE6xs7b8SZnPJTO+g5ORqK6mJPN7F8HlGTf1MKkvHbUFayCIrjFkpRCTdzHiilv4UB8F1JEB89m5F8rDrhRbOsvLW/2KRmQ3l+PJHFRpGQnJE38lahomdxxSJV08hjCxeq5Wpe+fuOe8u5KdseqyhH711ev8MPGS0M8QxZLsP8IA9Jl8lk0Hub1zdcmHzsrQleb8SVI7TN32tdsvITIuq37L+/PagE8Z+Pq2+Nsq1RVKjkiqV82TKymBQK5apewVn9wCwY2ChXrYPcT4uivx490GFA7ORKe/8P4ZP7nvDJ/W3hY2FdNyqEVHJWoVDVCS5WcsQ09IpVqZYq2cL/UPgsis/XA+it0Nj7Z4RP/nvCJ//jwif5SP0jnPBTLvXFh0knrze/r/2rS009t2b/Ac7/Jhs=\", \"compress_html_c183f55f51234fa1bb8aee7ddaa1f3ef\");</script><span style=\"color: #aaaaaa; font-family: monospace\">(Loading...)</span></div></div>"
      ],
      "text/plain": [
       "<IPython.core.display.HTML object>"
      ]
     },
     "metadata": {},
     "output_type": "display_data"
    },
    {
     "data": {
      "text/html": [
       "<div id=\"compress_html_b03d28700f9c43b98669d513ddcdd8da\"><script>window.treescope_decompress_enqueue(\"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\", \"compress_html_b03d28700f9c43b98669d513ddcdd8da\");</script></div>"
      ],
      "text/plain": [
       "<IPython.core.display.HTML object>"
      ]
     },
     "metadata": {},
     "output_type": "display_data"
    },
    {
     "data": {
      "text/html": [
       "<div id=\"output_dest_0a4e85ff38d2491f81a7f92e1850625d\"><script> (()=>{ const output = document.getElementById(\"output_0a4e85ff38d2491f81a7f92e1850625d\"); const dest = document.getElementById(\"output_dest_0a4e85ff38d2491f81a7f92e1850625d\"); dest.parentNode.replaceChild(output, dest); })(); </script></div>"
      ],
      "text/plain": [
       "(<jax.Array(1.0269325, dtype=float32)>,\n",
       " # jax.Array int32(16,) [≥4_722, ≤43_323] nonzero:16\n",
       "   Array([38392,  9105, 43323,  4722,  7395, 22994, 21968, 13932, 27525,\n",
       "           4764,  9626,  8265, 35330, 32930, 18141, 11405], dtype=int32)\n",
       " ,\n",
       " # jax.Array float32(16,) ≈-1.4 ±3.8 [≥-4.5, ≤5.0] nonzero:16\n",
       "   Array([ 5.0286074, -4.5097766, -4.400113 , -4.3175597,  4.2154174,\n",
       "          -4.198103 ,  4.121102 ,  4.04647  , -4.0310316, -3.9342709,\n",
       "          -3.8903906,  3.8370857, -3.7827194, -3.7405024, -3.6709757,\n",
       "          -3.5558388], dtype=float32)\n",
       " )"
      ]
     },
     "execution_count": 58,
     "metadata": {},
     "output_type": "execute_result"
    }
   ],
   "source": [
    "from micrlhf.utils.load_sae import get_sae\n",
    "from micrlhf.utils.ito import grad_pursuit\n",
    "refusal_steer = addition[-4]\n",
    "sae_steer = get_sae(10, 4)\n",
    "k = 16\n",
    "w, recon_steer = grad_pursuit(refusal_steer, sae_steer[\"W_dec\"], k, pos_only=False)\n",
    "i = jax.lax.top_k(jnp.abs(w), k)[1]\n",
    "((recon_steer - refusal_steer) ** 2).mean(), i, w[i]"
   ]
  },
  {
   "cell_type": "code",
   "execution_count": 56,
   "metadata": {},
   "outputs": [
    {
     "data": {
      "application/vnd.jupyter.widget-view+json": {
       "model_id": "654c56d964314bedb75c7bd2977322f2",
       "version_major": 2,
       "version_minor": 0
      },
      "text/plain": [
       "  0%|          | 0/46 [00:00<?, ?it/s]"
      ]
     },
     "metadata": {},
     "output_type": "display_data"
    },
    {
     "data": {
      "text/html": [
       "<div id=\"output_56b1656725f74c80bbff74ef7f88c125\"><script> /* penzai.treescope rendering of a Python object (compressed) */ (()=>{ let observer; let lastStep = new Promise((resolve, reject) => { observer = new IntersectionObserver((entries) => { for (const entry of entries) { if (entry.isIntersecting) { resolve(); observer.disconnect(); return; } } }, {rootMargin: \"1000px\"}); }); window.treescope_decompress_enqueue = (encoded, destId) => { const previous = lastStep; const destElt = document.getElementById(destId); lastStep = (async () => { await previous; let blob = new Blob([ Uint8Array.from(atob(encoded), (m) => m.codePointAt(0)) ]); let reader = blob.stream().pipeThrough( new DecompressionStream(\"deflate\") ).pipeThrough( new TextDecoderStream(\"utf-8\") ).getReader(); let parts = []; while (true) { let step = await reader.read(); if (step.done) { break; } parts.push(step.value); } let newElt = document.createElement(\"div\"); newElt.innerHTML = parts.join(\"\"); destElt.parentNode.replaceChild(newElt, destElt); for (let oldScript of newElt.querySelectorAll(\"script\")) { let newScript = document.createElement(\"script\"); newScript.type = oldScript.type; newScript.textContent = oldScript.textContent; oldScript.parentNode.replaceChild(newScript, oldScript); } })(); requestAnimationFrame(() => { observer.observe(destElt); }); } })(); </script><div id=\"compress_html_8557b7c131214e52b91dc5d23717a3ee\"><script>window.treescope_decompress_enqueue(\"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\", \"compress_html_8557b7c131214e52b91dc5d23717a3ee\");</script><span style=\"color: #aaaaaa; font-family: monospace\">(Loading...)</span></div></div>"
      ],
      "text/plain": [
       "<IPython.core.display.HTML object>"
      ]
     },
     "metadata": {},
     "output_type": "display_data"
    },
    {
     "data": {
      "text/html": [
       "<div id=\"output_dest_56b1656725f74c80bbff74ef7f88c125\"><script> (()=>{ const output = document.getElementById(\"output_56b1656725f74c80bbff74ef7f88c125\"); const dest = document.getElementById(\"output_dest_56b1656725f74c80bbff74ef7f88c125\"); dest.parentNode.replaceChild(output, dest); })(); </script></div>"
      ],
      "text/plain": [
       "['<s><|user|> What is 3940 * 3892?<|end|><|assistant|> To find the product of 3940 and 3892, you can use the standard multiplication method:\\n\\n3940\\nx 3892\\n---------\\nFirst, multiply ',\n",
       " '<s><|user|> What is 3940 * 3892?<|end|><|assistant|> To find the product of 3940 and 3892, you can use the standard multiplication method:\\n\\n3940\\nx 3892\\n---------\\nFirst, multiply ',\n",
       " '<s><|user|> What is 3940 * 3892?<|end|><|assistant|> To find the product of 3940 and 3892, you can use the standard algorithm for multiplication:\\n\\n```\\n  3940\\nx 3892\\n-----\\n2',\n",
       " '<s><|user|> What is 3940 * 3892?<|end|><|assistant|> To find the product of 3940 and 3892, you can use the standard algorithm for multiplication:\\n\\n```\\n  3940\\nx 3892\\n------\\n2',\n",
       " '<s><|user|> What is 3940 * 3892?<|end|><|assistant|> To find the product of 3940 and 3892, you can use the standard algorithm for multiplication:\\n\\n```\\n  3940\\nx 3892\\n------\\n2',\n",
       " '<s><|user|> What is 3940 * 3892?<|end|><|assistant|> To find the product of 3940 and 3892, you can use the standard algorithm for multiplication:\\n\\n```\\n  3940\\nx 3892\\n------\\n2',\n",
       " '<s><|user|> What is 3940 * 3892?<|end|><|assistant|> To find the product of 3940 and 3892, you multiply the two numbers together:\\n\\n3940 * 3892 = 15,368,8',\n",
       " '<s><|user|> What is 3940 * 3892?<|end|><|assistant|> To calculate the product of 3940 and 3892, you simply multiply the two numbers together:\\n\\n3940 * 3892 = 15,368,',\n",
       " '<s><|user|> What is 3940 * 3892?<|end|><|assistant|> To find the product of 3940 and 3892, you multiply the two numbers together:\\n\\n3940 * 3892 = 15,368,8',\n",
       " '<s><|user|> What is 3940 * 3892?<|end|><|assistant|> To find the product of 3940 and 3892, you can use the standard algorithm for multiplication:\\n\\n```\\n  3940\\nx 3892\\n------\\n1',\n",
       " '<s><|user|> What is 3940 * 3892?<|end|><|assistant|> To find the product of 3940 and 3892, you multiply the two numbers together:\\n\\n3940 * 3892 = 15,344,8',\n",
       " '<s><|user|> What is 3940 * 3892?<|end|><|assistant|> To find the product of 3940 and 3892, you can use the standard algorithm for multiplication:\\n\\n```\\n  3940\\nx 3892\\n------\\n1',\n",
       " '<s><|user|> What is 3940 * 3892?<|end|><|assistant|> To find the product of 3940 and 3892, you can use the standard algorithm for multiplication:\\n\\n```\\n  3940\\nx 3892\\n------\\n ',\n",
       " '<s><|user|> What is 3940 * 3892?<|end|><|assistant|> To find the product of 3940 and 3892, you can use the standard algorithm for multiplication:\\n\\n```\\n  3940\\nx 3892\\n------\\n ',\n",
       " '<s><|user|> What is 3940 * 3892?<|end|><|assistant|> To find the product of 3940 and 3892, you can use the standard algorithm for multiplication:\\n\\n```\\n  3940\\nx 3892\\n------\\n ',\n",
       " '<s><|user|> What is 3940 * 3892?<|end|><|assistant|> To find the product of 3940 and 3892, you can use the standard algorithm for multiplication:\\n\\n```\\n  3940\\nx 3892\\n------\\n ',\n",
       " '<s><|user|> What is 3940 * 3892?<|end|><|assistant|> To find the product of 3940 and 3892, you can use the standard algorithm for multiplication:\\n\\n```\\n  3940\\nx 3892\\n------\\n ',\n",
       " '<s><|user|> What is 3940 * 3892?<|end|><|assistant|> To find the product of 3940 and 3892, you can use the standard algorithm for multiplication:\\n\\n```\\n  3940\\nx 3892\\n------\\n ',\n",
       " '<s><|user|> What is 3940 * 3892?<|end|><|assistant|> To find the product of 3940 and 3892, you can use the standard algorithm for multiplication:\\n\\n```\\n  3940\\nx 3892\\n------\\n ',\n",
       " '<s><|user|> What is 3940 * 3892?<|end|><|assistant|> To find the product of 3940 and 3892, you can use the standard algorithm for multiplication:\\n\\n```\\n  3940\\nx 3892\\n------\\n ',\n",
       " '<s><|user|> What is 3940 * 3892?<|end|><|assistant|> To find the product of 3940 and 3892, you can use the standard algorithm for multiplication:\\n\\n```\\n  3940\\nx 3892\\n------\\n ',\n",
       " '<s><|user|> What is 3940 * 3892?<|end|><|assistant|> To find the product of 3940 and 3892, you can use the standard algorithm for multiplication:\\n\\n```\\n  3940\\nx 3892\\n------\\n ',\n",
       " \"<s><|user|> What is 3940 * 3892?<|end|><|assistant|> The product of 3940 and 3892 is 15360880. \\n\\nHere's the calculation:\\n\\n3940 * 3892\",\n",
       " \"<s><|user|> What is 3940 * 3892?<|end|><|assistant|> The product of 3940 and 3892 is 15360880. \\n\\nHere's the calculation:\\n\\n3940 * 3892\",\n",
       " '<s><|user|> What is 3940 * 3892?<|end|><|assistant|> The product of 3940 and 3892 is 15360880. You can calculate this by multiplying the two numbers together:\\n\\n3940\\nx ',\n",
       " '<s><|user|> What is 3940 * 3892?<|end|><|assistant|> The product of 3940 and 3892 is 15360880. You can calculate this by multiplying the two numbers together:\\n\\n3940\\nx ',\n",
       " '<s><|user|> What is 3940 * 3892?<|end|><|assistant|> The product of 3940 and 3892 is 15364880. You can calculate this by multiplying the two numbers together:\\n\\n3940\\nx ',\n",
       " '<s><|user|> What is 3940 * 3892?<|end|><|assistant|> The product of 3940 and 3892 is 15360880. You can calculate this by multiplying the two numbers together:\\n\\n3940\\nx ',\n",
       " '<s><|user|> What is 3940 * 3892?<|end|><|assistant|> The product of 3940 and 3892 is 15363680.<|end|><|assistant|> To calculate the product of 3940 and 3892, you can',\n",
       " '<s><|user|> What is 3940 * 3892?<|end|><|assistant|> The product of 3940 and 3892 is 15364880.<|end|><|assistant|> To calculate the product of 3940 and 3892, you can',\n",
       " '<s><|user|> What is 3940 * 3892?<|end|><|assistant|> The product of 3940 and 3892 is 15360880.<|end|><|assistant|> To calculate the product of 3940 and 3892, you can',\n",
       " '<s><|user|> What is 3940 * 3892?<|end|><|assistant|> The product of 3940 and 3892 is 15364880.<|end|><|assistant|> To calculate the product of 3940 and 3892, you can',\n",
       " '<s><|user|> What is 3940 * 3892?<|end|><|assistant|> The product of 3940 and 3892 is 15364880.<|end|><|assistant|> To calculate the product of 3940 and 3892, you can',\n",
       " '<s><|user|> What is 3940 * 3892?<|end|><|assistant|> The product of 3940 and 3892 is 15363680.<|end|><|assistant|> To calculate the product of 3940 and 3892, you can',\n",
       " '<s><|user|> What is 3940 * 3892?<|end|><|assistant|> The product of 3940 and 3892 is 15363680.<|end|><|assistant|> To calculate the product of 3940 and 3892, you can',\n",
       " '<s><|user|> What is 3940 * 3892?<|end|><|assistant|> The product of 3940 and 3892 is 15363680.<|end|><|assistant|> To calculate the product of 3940 and 3892, you can',\n",
       " '<s><|user|> What is 3940 * 3892?<|end|><|assistant|> The product of 3940 and 3892 is 15363680.<|end|><|assistant|> To calculate the product of 3940 and 3892, you can',\n",
       " '<s><|user|> What is 3940 * 3892?<|end|><|assistant|> The product of 3940 and 3892 is 15360880.<|end|><|assistant|> To calculate the product of 3940 and 3892, you can',\n",
       " '<s><|user|> What is 3940 * 3892?<|end|><|assistant|> The product of 3940 and 3892 is 15360880.<|end|><|assistant|> To calculate the product of 3940 and 3892, you can',\n",
       " '<s><|user|> What is 3940 * 3892?<|end|><|assistant|> The product of 3940 and 3892 is 15362080.<|end|><|assistant|> To calculate the product of 3940 and 3892, you can',\n",
       " '<s><|user|> What is 3940 * 3892?<|end|><|assistant|> The product of 3940 and 3892 is 15281280.<|end|><|assistant|> To calculate the product of 3940 and 3892, you can',\n",
       " '<s><|user|> What is 3940 * 3892?<|end|><|assistant|> The product of 3940 and 3892 is 15261680.<|end|><|assistant|> To calculate the product of 3940 and 3892, you can',\n",
       " '<s><|user|> What is 3940 * 3892?<|end|><|assistant|> The product of 3940 and 3892 is 15280880.<|end|><|assistant|> To calculate the product of 3940 and 3892, you can',\n",
       " \"<s><|user|> What is 3940 * 3892?<|end|><|assistant|> The product of 3940 and 3892 is 15280880.<|end|><|assistant|> Here's how you can calculate it step by step:\\n\\n1. Multiply\",\n",
       " \"<s><|user|> What is 3940 * 3892?<|end|><|assistant|> The product of 3940 and 3892 is 15262080.<|end|><|assistant|> Here's how you can calculate it:\\n\\n3940\\n× 3\",\n",
       " \"<s><|user|> What is 3940 * 3892?<|end|><|assistant|> The product of 3940 and 3892 is 15262080.<|end|><|assistant|> Here's how you can calculate it:\\n\\n3940\\n× 3\",\n",
       " \"<s><|user|> What is 3940 * 3892?<|end|><|assistant|> The product of 3940 and 3892 is 15262080.<|end|><|assistant|> Here's how you can calculate it:\\n\\n3940\\n× 3\",\n",
       " '<s><|user|> What is 3940 * 3892?<|end|><|assistant|> The product of 3940 and 3892 is 15262080. \\n\\nTo calculate this, you can use a calculator or perform long multiplication by hand. Here',\n",
       " \"<s><|user|> What is 3940 * 3892?<|end|><|assistant|> The product of 3940 and 3892 is 15262080.\\n\\nTo calculate this, you can use a calculator or perform long multiplication by hand. Here'\",\n",
       " \"<s><|user|> What is 3940 * 3892?<|end|><|assistant|> The product of 3940 and 3892 is 15233680.\\n\\nTo calculate this, you can use a calculator or perform long multiplication by hand. Here'\",\n",
       " \"<s><|user|> What is 3940 * 3892?<|end|><|assistant|> The product of 3940 and 3892 is 15234080.\\n\\nTo calculate this, you can use a calculator or perform long multiplication by hand. Here'\",\n",
       " \"<s><|user|> What is 3940 * 3892?<|end|><|assistant|> The product of 3940 and 3892 is 15233680.\\n\\nTo calculate this, you can use a calculator or perform long multiplication. Here's a\",\n",
       " '<s><|user|> What is 3940 * 3892?<|end|><|assistant|> To calculate the product of 3940 and 3892, you can use a calculator or a computer.\\n\\n\\n3940 * 3892 = 15,2',\n",
       " '<s><|user|> What is 3940 * 3892?<|end|><|assistant|> The product of 3940 and 3892 is 15233680.\\n\\nTo calculate this, you can use long multiplication, which involves multiplying each digit of one number',\n",
       " '<s><|user|> What is 3940 * 3892?<|end|><|assistant|> The product of 3940 and 3892 is 15203680.\\n\\nHowever, this result seems to be a mistake because the actual product of these two numbers is ',\n",
       " '<s><|user|> What is 3940 * 3892?<|end|><|assistant|> The product of 3940 and 3892 is 15180720.\\n\\nTo calculate this, you can use a calculator or a computer program that supports arithmetic operations.',\n",
       " '<s><|user|> What is 3940 * 3892?<|end|><|assistant|> The product of 3940 and 3892 is 15220720.\\n\\nTo calculate this, you can use the standard algorithm for multiplication, which involves multiplying each digit',\n",
       " '<s><|user|> What is 3940 * 3892?<|end|><|assistant|> The product of 3940 and 3892 is 14890928. However, this result is not a perfect square, and the square root of 14890',\n",
       " '<s><|user|> What is 3940 * 3892?<|end|><|assistant|> The product of 3940 and 3892 is 14840720. However, this result is not a perfect square, so it does not have a real-world application in',\n",
       " \"<s><|user|> What is 3940 * 3892?<|end|><|assistant|> The product of 3940 and 3892 is 14840720. This result is a perfect square of 146.\\n\\nHere's how you might calculate\",\n",
       " '<s><|user|> What is 3940 * 3892?<|end|><|assistant|> The product of 3940 and 3892 is 14809,680. This result could be used in various mathematical or computational contexts, such as in the calculation of certain',\n",
       " '<s><|user|> What is 3940 * 3892?<|end|><|assistant|> The product of 3940 and 3892 is 15223320. This result is a part of a mathematical operation known as the \"multiplication of two numbers\" in arithmetic',\n",
       " '<s><|user|> What is 3940 * 3892?<|end|><|assistant|> The product of 3940 and 3892 is 15229364. This result could be used in various mathematical applications, such as finding the product of two numbers in a real',\n",
       " '<s><|user|> What is 3940 * 3892?<|end|><|assistant|> The product of 3940 and 3892 is 15,500,768. This result may represent a combination of two numbers in a specific context, such as a product or']"
      ]
     },
     "execution_count": 56,
     "metadata": {},
     "output_type": "execute_result"
    }
   ],
   "source": [
    "# layer = layer_target\n",
    "# repeat = 64\n",
    "# vector = refusal\n",
    "# # vector = recon\n",
    "# act_add = add_vector(llama,\n",
    "#                     (vector / jnp.linalg.norm(vector, axis=-1, keepdims=True))[None, :] * jnp.linspace(-200, 200, repeat)[:, None],\n",
    "#                      layer)\n",
    "\n",
    "layer = layer_source\n",
    "repeat = 64\n",
    "# vector = addition[-4]\n",
    "vector = recon_steer\n",
    "act_add = add_vector(llama,\n",
    "                     (vector / jnp.linalg.norm(vector, axis=-1, keepdims=True))[None, :] * jnp.linspace(-scale * 2, scale * 2, repeat)[:, None],\n",
    "                     layer)\n",
    "\n",
    "sample(act_add, tokenizer, prompt,\n",
    "       batch_size=repeat, do_sample=False)"
   ]
  },
  {
   "cell_type": "code",
   "execution_count": null,
   "metadata": {},
   "outputs": [],
   "source": []
  }
 ],
 "metadata": {
  "kernelspec": {
   "display_name": "micrlhf-progress-a058ydGG-py3.12",
   "language": "python",
   "name": "python3"
  },
  "language_info": {
   "codemirror_mode": {
    "name": "ipython",
    "version": 3
   },
   "file_extension": ".py",
   "mimetype": "text/x-python",
   "name": "python",
   "nbconvert_exporter": "python",
   "pygments_lexer": "ipython3",
   "version": "3.12.3"
  }
 },
 "nbformat": 4,
 "nbformat_minor": 2
}
