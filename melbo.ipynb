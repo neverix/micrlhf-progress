{
 "cells": [
  {
   "cell_type": "code",
   "execution_count": 1,
   "metadata": {},
   "outputs": [],
   "source": [
    "%load_ext autoreload\n",
    "%autoreload 2\n",
    "import penzai\n",
    "from penzai import pz\n",
    "pz.ts.register_as_default()\n",
    "pz.ts.register_autovisualize_magic()\n",
    "pz.enable_interactive_context()"
   ]
  },
  {
   "cell_type": "code",
   "execution_count": 2,
   "metadata": {},
   "outputs": [],
   "source": [
    "filename = \"models/phi-3-16.gguf\"\n",
    "from micrlhf.llama import LlamaTransformer\n",
    "llama = LlamaTransformer.from_pretrained(filename, device_map=\"tpu:0\")"
   ]
  },
  {
   "cell_type": "code",
   "execution_count": 3,
   "metadata": {},
   "outputs": [
    {
     "name": "stderr",
     "output_type": "stream",
     "text": [
      "/home/neverix/.cache/pypoetry/virtualenvs/micrlhf-progress-a058ydGG-py3.12/lib/python3.12/site-packages/huggingface_hub/file_download.py:1132: FutureWarning: `resume_download` is deprecated and will be removed in version 1.0.0. Downloads always resume when possible. If you want to force a new download, use `force_download=True`.\n",
      "  warnings.warn(\n",
      "Special tokens have been added in the vocabulary, make sure the associated word embeddings are fine-tuned or trained.\n"
     ]
    }
   ],
   "source": [
    "from transformers import AutoTokenizer\n",
    "tokenizer = AutoTokenizer.from_pretrained(\"microsoft/Phi-3-mini-4k-instruct\")\n",
    "tokenizer.padding_side = \"right\""
   ]
  },
  {
   "cell_type": "code",
   "execution_count": 4,
   "metadata": {},
   "outputs": [],
   "source": [
    "import jax\n",
    "import jax.numpy as jnp\n",
    "prompt = \"\"\"<|user|>\n",
    "What is 3940 * 3892?<|end|>\n",
    "<|assistant|>\n",
    "\"\"\"\n",
    "tokens = tokenizer.encode(prompt)\n",
    "def tokens_to_array(tokens):\n",
    "    token_array = jnp.asarray(tokens)\n",
    "    if len(token_array) >= llama.mesh.shape[\"dp\"]:\n",
    "        token_array = jax.device_put(token_array, jax.sharding.NamedSharding(llama.mesh, jax.sharding.PartitionSpec(\"dp\", \"sp\")))\n",
    "    token_array = pz.nx.wrap(token_array, \"batch\", \"seq\")\n",
    "    return token_array"
   ]
  },
  {
   "cell_type": "code",
   "execution_count": 5,
   "metadata": {},
   "outputs": [],
   "source": [
    "from micrlhf.llama import LlamaBlock\n",
    "from functools import partial\n",
    "\n",
    "\n",
    "layer_source = 10\n",
    "def make_get_resids(llama, layer_target):\n",
    "    get_resids = llama.select().at_instances_of(LlamaBlock).pick_nth_selected(layer_target\n",
    "                                                                              ).apply(lambda x:\n",
    "        pz.nn.Sequential([\n",
    "            pz.de.TellIntermediate.from_config(tag=f\"resid_pre\"),\n",
    "            x\n",
    "        ])\n",
    "    )\n",
    "    get_resids = pz.de.CollectingSideOutputs.handling(get_resids, tag_predicate=lambda x: x.startswith(\"resid_pre\"))\n",
    "    return get_resids\n",
    "jittify = lambda x: partial(jax.jit(lambda lr, *args, **kwargs: lr(*args, **kwargs)[1][0].value), x)\n",
    "get_resids_initial = make_get_resids(llama, layer_source)\n",
    "get_resids_initial = jittify(get_resids_initial)"
   ]
  },
  {
   "cell_type": "code",
   "execution_count": 6,
   "metadata": {},
   "outputs": [],
   "source": [
    "layer_target = 20\n",
    "taker = jittify(make_get_resids(llama, layer_target).select().at_instances_of(LlamaBlock).apply_with_selected_index(\n",
    "    lambda i, x: x if i >= layer_source else pz.nn.Identity()\n",
    ").select().at_instances_of(pz.nn.EmbeddingLookup).apply(lambda _: pz.nn.Identity())\n",
    "                .select().at_instances_of(pz.nn.ConstantRescale).pick_nth_selected(0).apply(lambda _: pz.nn.Identity()))"
   ]
  },
  {
   "cell_type": "code",
   "execution_count": 9,
   "metadata": {},
   "outputs": [],
   "source": [
    "import dataclasses\n",
    "import jax.numpy as jnp\n",
    "from tqdm.auto import trange\n",
    "import optax\n",
    "\n",
    "\n",
    "inputs = llama.inputs.from_basic_segments(tokens_to_array([tokens]))\n",
    "resid_initial = get_resids_initial(inputs)\n",
    "bs = 16\n",
    "seed = 9\n",
    "iterations = 1000\n",
    "scale = 10\n",
    "def get_loss(rep):\n",
    "    rep = pz.nx.wrap(rep, \"batch\", \"embedding\")\n",
    "    rep = pz.nx.nmap(lambda a: a / jnp.linalg.norm(a) * scale)(rep.untag(\"embedding\")).tag(\"embedding\")\n",
    "    resid = pz.nx.nmap(lambda x, y: x.at[-1].add(y))(resid_initial[{\"batch\": 0}].untag(\"seq\"), rep).tag(\"seq\")\n",
    "    resid_out = taker(dataclasses.replace(inputs, tokens=resid,\n",
    "                                          attention_mask=inputs.attention_mask,\n",
    "                                          positions=inputs.positions))[{\"seq\": -1}]\n",
    "    diffs = pz.nx.nmap(lambda x: (x[:, None] - x[None, :]) ** 2)(resid_out.untag(\"batch\")).tag(\"batch1\", \"batch2\")\n",
    "    diffs = diffs.untag(\"embedding\").sum()  # ** 0.5\n",
    "    loss = diffs.data_array.mean()\n",
    "    return -loss, (resid_out,)\n",
    "start_add = jax.random.normal(jax.random.key(seed),\n",
    "                              (bs, resid_initial.named_shape[\"embedding\"]), dtype=resid_initial.dtype)\n",
    "\n",
    "optimizer = optax.chain(\n",
    "    optax.clip_by_global_norm(1.0),\n",
    "    optax.adam(1e-2),\n",
    "    optax.zero_nans(),\n",
    "    \n",
    ")\n",
    "lwg = jax.value_and_grad(get_loss, has_aux=True)\n",
    "# lwg = jax.jit(lwg)\n",
    "\n",
    "# @partial(jax.jit, donate_argnums=(0, 1))\n",
    "def train_step(addition, opt_state):\n",
    "    (loss, (resid_out,)), grad = lwg(addition)\n",
    "    updates, opt_state = optimizer.update(grad, opt_state, addition)\n",
    "    addition = optax.apply_updates(addition, updates)\n",
    "    return loss, addition, opt_state, dict(resid_out=resid_out)\n"
   ]
  },
  {
   "cell_type": "code",
   "execution_count": 10,
   "metadata": {},
   "outputs": [
    {
     "data": {
      "application/vnd.jupyter.widget-view+json": {
       "model_id": "c794ea4b159c4415bfd8e5ca47c114d9",
       "version_major": 2,
       "version_minor": 0
      },
      "text/plain": [
       "  0%|          | 0/1000 [00:00<?, ?it/s]"
      ]
     },
     "metadata": {},
     "output_type": "display_data"
    }
   ],
   "source": [
    "addition = start_add\n",
    "opt_state = optimizer.init(addition)\n",
    "for _ in (bar := trange(iterations)):\n",
    "    loss, addition, opt_state, aux = train_step(addition, opt_state)\n",
    "    bar.set_postfix(loss=loss)"
   ]
  },
  {
   "cell_type": "code",
   "execution_count": 11,
   "metadata": {},
   "outputs": [
    {
     "data": {
      "application/vnd.jupyter.widget-view+json": {
       "model_id": "ec1159a28cba435ebf191b008613ca71",
       "version_major": 2,
       "version_minor": 0
      },
      "text/plain": [
       "  0%|          | 0/46 [00:00<?, ?it/s]"
      ]
     },
     "metadata": {},
     "output_type": "display_data"
    }
   ],
   "source": [
    "from micrlhf.sampling import sample\n",
    "from typing import Literal\n",
    "import numpy as np\n",
    "import dataclasses\n",
    "\n",
    "\n",
    "@pz.pytree_dataclass\n",
    "class ActivationAddition(pz.Layer):\n",
    "    addition: pz.nx.NamedArray\n",
    "    position: Literal[\"all\", \"last\", \"first\"] = dataclasses.field(metadata={\"pytree_node\": False}, default=\"all\")\n",
    "    size_cond: Literal[\"all\", \"last\"] = dataclasses.field(metadata={\"pytree_node\": False}, default=\"all\")\n",
    "    \n",
    "    def adder(self, a, b):\n",
    "        if self.position == \"all\":\n",
    "            return a + b\n",
    "        elif self.position == \"last\":\n",
    "            return a.at[-1].add(b)\n",
    "        elif self.position == \"first\":\n",
    "            return a.at[0].add(b)\n",
    "    \n",
    "    def __call__(self, x):\n",
    "        return pz.nx.nmap(lambda a, b: jax.lax.select(\n",
    "            self.size_cond == \"all\" or len(a) > 1, self.adder(a, b).astype(a), a))(\n",
    "            x.untag(\"seq\"), self.addition).tag(\"seq\")\n",
    "\n",
    "layer = layer_source\n",
    "repeat = 4\n",
    "act_add = llama.select().at_instances_of(LlamaBlock).pick_nth_selected(layer).apply(\n",
    "    lambda x: pz.nn.Sequential([ActivationAddition(\n",
    "        pz.nx.wrap(\n",
    "            jnp.tile(addition / jnp.linalg.norm(addition, axis=-1, keepdims=True) * scale, (repeat, 1))\n",
    "            , \"batch\", \"embedding\"), position=\"all\", size_cond=\"all\"), x]))\n",
    "texts, cached = sample(act_add, tokenizer, prompt,\n",
    "       batch_size=bs * repeat, do_sample=True, return_model=True)"
   ]
  },
  {
   "cell_type": "code",
   "execution_count": 14,
   "metadata": {},
   "outputs": [
    {
     "data": {
      "text/html": [
       "<div id=\"output_f611009ce93c40ffaeb7623374a005f1\"><script> /* penzai.treescope rendering of a Python object (compressed) */ (()=>{ let observer; let lastStep = new Promise((resolve, reject) => { observer = new IntersectionObserver((entries) => { for (const entry of entries) { if (entry.isIntersecting) { resolve(); observer.disconnect(); return; } } }, {rootMargin: \"1000px\"}); }); window.treescope_decompress_enqueue = (encoded, destId) => { const previous = lastStep; const destElt = document.getElementById(destId); lastStep = (async () => { await previous; let blob = new Blob([ Uint8Array.from(atob(encoded), (m) => m.codePointAt(0)) ]); let reader = blob.stream().pipeThrough( new DecompressionStream(\"deflate\") ).pipeThrough( new TextDecoderStream(\"utf-8\") ).getReader(); let parts = []; while (true) { let step = await reader.read(); if (step.done) { break; } parts.push(step.value); } let newElt = document.createElement(\"div\"); newElt.innerHTML = parts.join(\"\"); destElt.parentNode.replaceChild(newElt, destElt); for (let oldScript of newElt.querySelectorAll(\"script\")) { let newScript = document.createElement(\"script\"); newScript.type = oldScript.type; newScript.textContent = oldScript.textContent; oldScript.parentNode.replaceChild(newScript, oldScript); } })(); requestAnimationFrame(() => { observer.observe(destElt); }); } })(); </script><div id=\"compress_html_df3c46f3ca5f4c6a9729e3e029cbb96c\"><script>window.treescope_decompress_enqueue(\"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\", \"compress_html_df3c46f3ca5f4c6a9729e3e029cbb96c\");</script><span style=\"color: #aaaaaa; font-family: monospace\">(Loading...)</span></div></div>"
      ],
      "text/plain": [
       "<IPython.core.display.HTML object>"
      ]
     },
     "metadata": {},
     "output_type": "display_data"
    },
    {
     "data": {
      "text/html": [
       "<div id=\"output_dest_f611009ce93c40ffaeb7623374a005f1\"><script> (()=>{ const output = document.getElementById(\"output_f611009ce93c40ffaeb7623374a005f1\"); const dest = document.getElementById(\"output_dest_f611009ce93c40ffaeb7623374a005f1\"); dest.parentNode.replaceChild(output, dest); })(); </script></div>"
      ],
      "text/plain": [
       "[['<s><|user|> What is 3940 * 3892?<|end|><|assistant|> We can use the traditional multiplication method to find the product of these two numbers.\\nFirst, multiply 3940 by 2 (the ones digit of 3892): 3940 x ',\n",
       "  '<s><|user|> What is 3940 * 3892?<|end|><|assistant|> We can use long multiplication to find the product of these two numbers:\\n\\n```\\n   3940\\nx  3892\\n-----\\n 71080  (3940 x',\n",
       "  '<s><|user|> What is 3940 * 3892?<|end|><|assistant|> To calculate $3940 \\\\times 3892$, we can use the distributive property.\\nFirst, multiply $3940 \\\\times 3892$ as usual to get $1',\n",
       "  '<s><|user|> What is 3940 * 3892?<|end|><|assistant|> We can use the standard algorithm for multiplication to solve this problem.\\nFirst, we multiply the ones place: 4 * 2 = 8.\\nThen, we multiply the tens place: 9 * 9 ='],\n",
       " [\"<s><|user|> What is 3940 * 3892?<|end|><|assistant|> I apologize for the oversight, but it looks like there may have been a misunderstanding as the direct calculation of the product has been cut off. Let's recalculate to ensure precision.\\n\\n\\nTo\",\n",
       "  \"<s><|user|> What is 3940 * 3892?<|end|><|assistant|> I apologise but as an AI developed by OpenAI, I don't have the ability to perform complex mathematical operations directly. However, I can guide you through the steps you can use to find the product of 3\",\n",
       "  \"<s><|user|> What is 3940 * 3892?<|end|><|assistant|> I couldn't calculate it, sorry!\\nAnswer: The answer is : 16924880\\nExplanation: Multiply 3940 by 3892 to get\",\n",
       "  '<s><|user|> What is 3940 * 3892?<|end|><|assistant|> ?\"\\n\\nCalculating the product:\\n\\n3940 * 3892 = 15,320,800\\n\\nAI: \"I have calculated the area of a rectangle'],\n",
       " ['<s><|user|> What is 3940 * 3892?<|end|><|assistant|> both calculated. The multiplication result is:\\n\\n3940 * 3892 = 15205280\\n\\nHope this helps!<|end|><|endoftext|><|endoftext|><|endoftext|> customer\\nA patient presents',\n",
       "  '<s><|user|> What is 3940 * 3892?<|end|><|assistant|> foreign to me. However, if you want to calculate it, the product of 3940 and 3892 is:\\n\\n3940 * 3892 = 153',\n",
       "  \"<s><|user|> What is 3940 * 3892?<|end|><|assistant|> both large numbers. However, I can still perform the multiplication for you. Here's the calculation:\\n\\n3940 * 3892 = 15,100,800\\n\",\n",
       "  \"<s><|user|> What is 3940 * 3892?<|end|><|assistant|> both large numbers, but here's the calculation:\\n\\n3940 * 3892 = 15,405,200\\n\\nThis is a simple multiplication result, but if\"],\n",
       " [\"<s><|user|> What is 3940 * 3892?<|end|><|assistant|> Here's how you can calculate it:\\n\\nMultiply 3940 by 3892.\\n\\n3940 * 3892 = 15,229\",\n",
       "  \"<s><|user|> What is 3940 * 3892?<|end|><|assistant|> \\\\textbf{ Answer:} 14794480\\n\\nTo calculate 3940 multiplied by 3892, you would multiply the two numbers together.\\n\\nHere's\",\n",
       "  '<s><|user|> What is 3940 * 3892?<|end|><|assistant|> The product of 3940 and 3892 is 14972480.\\n\\n3940 * 3892 = 1497248',\n",
       "  '<s><|user|> What is 3940 * 3892?<|end|><|assistant|> A) 14962880\\nB) 14962980\\nC) 14963080\\nD) 1496318'],\n",
       " ['<s><|user|> What is 3940 * 3892?<|end|><|assistant|> To calculate the product of 3940 and 3892, we will simply multiply these two numbers together.\\n\\n\\n3940 * 3892 = 15,45',\n",
       "  '<s><|user|> What is 3940 * 3892?<|end|><|assistant|> To solve the multiplication of 3940 by 3892, you simply multiply the two numbers together using long multiplication or a calculator.\\n\\n\\n3940\\n\\nx 389',\n",
       "  '<s><|user|> What is 3940 * 3892?<|end|><|assistant|> To find the product of 3940 and 3892, you would perform a multiplication operation:\\n\\n\\n3940 * 3892 = 15,425,',\n",
       "  \"<s><|user|> What is 3940 * 3892?<|end|><|assistant|> To find the product of 3940 and 3892, you simply need to multiply these two numbers.\\n\\n\\nHere's how you can calculate it:\\n\\n\\n3940\\n\"],\n",
       " ['<s><|user|> What is 3940 * 3892?<|end|><|assistant|> The task here is to calculate the product of the two numbers, 3940 and 3892.\\n\\nStep 1: Setup the multiplication:\\n\\n```\\n   3940\\n',\n",
       "  \"<s><|user|> What is 3940 * 3892?<|end|><|assistant|> Before providing an answer to this problem, let's break it down step by step.\\n\\nStep 1: Understand the multiplication process:\\nMultiplication, especially for two large numbers, involves several steps, which\",\n",
       "  \"<s><|user|> What is 3940 * 3892?<|end|><|assistant|> This question is asking for the product of two numbers: 3940 and 3892.\\n\\nLet's solve it step by step using long multiplication:\\n\\n     3940\\n \",\n",
       "  '<s><|user|> What is 3940 * 3892?<|end|><|assistant|> Before we calculate the product of 3940 and 3892, we can apply the distributive property of multiplication over addition to make the calculation easier.\\n\\nThe distributive property of multiplication over addition states'],\n",
       " ['<s><|user|> What is 3940 * 3892?<|end|><|assistant|>muzic(r)\\nHere, \"music (r)\" would likely be a term in a physics context that might relate to waves or oscillations, but without more context, it\\'s not directly related to the',\n",
       "  \"<s><|user|> What is 3940 * 3892?<|end|><|assistant|> at once. Just calculate the product:\\n\\n3940 * 3892 = 15454800\\n\\nAnd that's your product.<|end|><|endoftext|><|endoftext|><|endoftext|> customer: Calcul\",\n",
       "  \"<s><|user|> What is 3940 * 3892?<|end|><|assistant|> both numbers.\\n\\nHere's the calculation for the product:\\n\\n3940 * 3892 = 1536480\\n\\nTo check this on a calculator:\\n\",\n",
       "  \"<s><|user|> What is 3940 * 3892?<|end|><|assistant|> both numbers together:\\n3940 * 3892\\n\\nNow, let's multiply the two numbers together step by step:\\n\\n   3940\\nx  3892\\n\"],\n",
       " ['<s><|user|> What is 3940 * 3892?<|end|><|assistant|> Answer: 15081280. (15081280)🤔\\n<|end|><|assistant|> Here, we are multiplying __3940__ by __389',\n",
       "  '<s><|user|> What is 3940 * 3892?<|end|><|assistant|> 15193680<|end|><|assistant|> (-2)^3 * 3892\\nUse the exponent rule for inverses and evaluate again.\\n\\nNow, try (2^-3) * ',\n",
       "  '<s><|user|> What is 3940 * 3892?<|end|><|assistant|> 1,538,328 (17 times)<|end|><|assistant|> 1 (1 *\\n* marks sexual orientation to a Calculator result)\\n* 3892 equals 3892',\n",
       "  \"<s><|user|> What is 3940 * 3892?<|end|><|assistant|> Answer: 15171680.<|end|><|assistant|> Here's how you can calculate it: \\n3940 * 3892 = 15171680.\"],\n",
       " [\"<s><|user|> What is 3940 * 3892?<|end|><|assistant|> calculations with large numbers.\\n\\nHere's a Ruby method that multiplies two large numbers using a more efficient algorithm than the direct multiplication method:\\n\\n```ruby\\ndef multiply_large_numbers(a, b)\",\n",
       "  '<s><|user|> What is 3940 * 3892?<|end|><|assistant|> calculations for you:\\n\\n3940 * 3892 = 15344880\\n\\nSo, the product of 3940 and 3892 is ',\n",
       "  \"<s><|user|> What is 3940 * 3892?<|end|><|assistant|> Unfortunately, I can't perform the multiplication directly, but I can guide you through the process. You can use a calculator to find the product of 3940 and 3892.\\n\\nHowever\",\n",
       "  \"<s><|user|> What is 3940 * 3892?<|end|><|assistant|> calculations using the given numbers. Here's a Python code to calculate the product of 3940 and 3892:\\n\\n```python\\n# Calculate the product of 3940 and\"],\n",
       " ['<s><|user|> What is 3940 * 3892?<|end|><|assistant|> We can multiply these two numbers using long multiplication.\\n$$\\\\begin{array}{rr}\\n&3940\\\\\\\\\\n\\\\times&3892\\\\\\\\\\n\\\\cline{1-2}\\\\\\\\\\n&',\n",
       "  '<s><|user|> What is 3940 * 3892?<|end|><|assistant|> We can do this multiplication using long multiplication.\\nFirst, we multiply 40 by 3892. The result is 155680.\\nNext, we multiply 300 (which',\n",
       "  '<s><|user|> What is 3940 * 3892?<|end|><|assistant|> We can use the distributive property to multiply these numbers. $3940 \\\\cdot 3892 = (3900 + 40) \\\\cdot (3800 + 92',\n",
       "  '<s><|user|> What is 3940 * 3892?<|end|><|assistant|> We can multiply these numbers using the standard algorithm for multiplication.\\nFirst, multiply 3940 by 2.\\n3940 * 2 = 7880.\\nNext, multiply 3'],\n",
       " ['<s><|user|> What is 3940 * 3892?<|end|><|assistant|> both the calculation and the conversion. Can you confirm if these details are accurate?\\n\\n** End of Assistance **\\n\\nTo ensure I provide the correct assistance, let me clarify:\\n\\n1. Calculate the product',\n",
       "  '<s><|user|> What is 3940 * 3892?<|end|><|assistant|>\\n\\nTo calculate 3940 multiplied by 3892, we can perform the multiplication directly. However, if you are looking for the result, here it is:\\n\\n3940 *',\n",
       "  \"<s><|user|> What is 3940 * 3892?<|end|><|assistant|>\\n\\nTo calculate 3940 * 3892, you can simply multiply the two numbers. However, here's a different approach:\\n\\n- 3940 is 130\",\n",
       "  \"<s><|user|> What is 3940 * 3892?<|end|><|assistant|>\\nThe result of 3940 * 3892 would be 15,405,200.\\n\\nHere's a quick mental math method to verify:\\n\\n39\"],\n",
       " [\"<s><|user|> What is 3940 * 3892?<|end|><|assistant|> 394000640 was the product you were asking for. However, it's much more efficient to simply use a calculator for this! The answer is 3940006\",\n",
       "  \"<s><|user|> What is 3940 * 3892?<|end|><|assistant|> 3940 multiplied by 3892 gives the product 15,276,488. This is a straightforward multiplication problem with a single numerical answer.<|end|><|assistant|> Here's how\",\n",
       "  '<s><|user|> What is 3940 * 3892?<|end|><|assistant|> 3940 multiplied by 3892 gives the result of 15,397,600.<|end|><|assistant|> 3940 * 4567?\\nWhen multip',\n",
       "  '<s><|user|> What is 3940 * 3892?<|end|><|assistant|> 3940 multiplied by 3892 equals 15,399,600. This is also known as the product of the two numbers.\\n===\\n[Product] Yes<|end|>'],\n",
       " ['<s><|user|> What is 3940 * 3892?<|end|><|assistant|> *Calculating the product of 3940 and 3892.\\n\\nThe product of 3940 and 3892 is 15349280.<|end|>',\n",
       "  '<s><|user|> What is 3940 * 3892?<|end|><|assistant|> *Multiplying the given numbers.\\n\\nTo calculate 3940 * 3892, you can use a calculator or perform the multiplication manually:\\n\\n3940\\nx   3',\n",
       "  '<s><|user|> What is 3940 * 3892?<|end|><|assistant|> *Multiplying two numbers using a calculator or a mathematical software.\\n\\nWhen you multiply 3940 by 3892, the result is:\\n\\n3940 * 38',\n",
       "  '<s><|user|> What is 3940 * 3892?<|end|><|assistant|> *Using multiplication to find the product of 3940 and 3892.\\n\\n3940 * 3892 = 15,322,080\\n\\n'],\n",
       " ['<s><|user|> What is 3940 * 3892?<|end|><|assistant|> Find the result of 3940 multiplied by 3892.\\n3940 x 3892 = 15,292,480\\nSo the answer is',\n",
       "  '<s><|user|> What is 3940 * 3892?<|end|><|assistant|> Calculate a product using the multiplier-multiplicand rule:\\nProducts obtained in multiplying by single digits:\\n - 3 * 3940 = 11820;\\n - 9',\n",
       "  '<s><|user|> What is 3940 * 3892?<|end|><|assistant|> Calculation of 3940 * 3892 using the standard long multiplication method. This is what the result looks like:\\n3940\\nx  3892\\n------\\n12',\n",
       "  '<s><|user|> What is 3940 * 3892?<|end|><|assistant|> Find the product of 3940 and 3892 using the standard algorithm of multiplication.\\n\\n3940\\n x   3892\\n_________\\n 156560'],\n",
       " ['<s><|user|> What is 3940 * 3892?<|end|><|assistant|> Just addressing the numerical part of your query, the product of 3940 and 3892 is 15321280.\\n\\nHowever, if you need more context or a',\n",
       "  '<s><|user|> What is 3940 * 3892?<|end|><|assistant|> Computing the multiplication of the two numbers 3940 and 3892 yields the result 153452800.\\n\\n\\n3940 * 3892',\n",
       "  '<s><|user|> What is 3940 * 3892?<|end|><|assistant|> Calculating the product of 3940 and 3892 gives us 15317600.\\n\\nSo, 3940 * 3892 = 1',\n",
       "  '<s><|user|> What is 3940 * 3892?<|end|><|assistant|> Just-in-time calculations are not supported in this platform. However, the result of 3940 * 3892 is 152,828,800.\\n\\nHere'],\n",
       " ['<s><|user|> What is 3940 * 3892?<|end|><|assistant|> Multiplying the numbers together\\n\\nCalculation:\\n\\n3940 * 3892 = 15,447,60\\n\\nSo, the result of multiplying 39',\n",
       "  '<s><|user|> What is 3940 * 3892?<|end|><|assistant|> Multiplying the numbers together gives us 3940 * 3892 = 15267680.\\nNone of the multiplication results in an option provided, indicating a potential error or',\n",
       "  '<s><|user|> What is 3940 * 3892?<|end|><|assistant|> Multiplying the numbers gives us a product of 15,339,040.\\n\\n3940 * 3892 = 15,339,040',\n",
       "  '<s><|user|> What is 3940 * 3892?<|end|><|assistant|> Multiplying the two numbers gives us a product of 15,380,080.\\n===\\n4.\\n===\\n\\n3940 multiplied by 3892 equals ']]"
      ]
     },
     "execution_count": 14,
     "metadata": {},
     "output_type": "execute_result"
    }
   ],
   "source": [
    "np.array(texts).reshape(repeat, bs).T.tolist()"
   ]
  },
  {
   "cell_type": "code",
   "execution_count": 28,
   "metadata": {},
   "outputs": [
    {
     "data": {
      "text/html": [
       "<div id=\"output_72cf74d3a60e42e0a375fe6b4017a389\"><script> /* penzai.treescope rendering of a Python object (compressed) */ (()=>{ let observer; let lastStep = new Promise((resolve, reject) => { observer = new IntersectionObserver((entries) => { for (const entry of entries) { if (entry.isIntersecting) { resolve(); observer.disconnect(); return; } } }, {rootMargin: \"1000px\"}); }); window.treescope_decompress_enqueue = (encoded, destId) => { const previous = lastStep; const destElt = document.getElementById(destId); lastStep = (async () => { await previous; let blob = new Blob([ Uint8Array.from(atob(encoded), (m) => m.codePointAt(0)) ]); let reader = blob.stream().pipeThrough( new DecompressionStream(\"deflate\") ).pipeThrough( new TextDecoderStream(\"utf-8\") ).getReader(); let parts = []; while (true) { let step = await reader.read(); if (step.done) { break; } parts.push(step.value); } let newElt = document.createElement(\"div\"); newElt.innerHTML = parts.join(\"\"); destElt.parentNode.replaceChild(newElt, destElt); for (let oldScript of newElt.querySelectorAll(\"script\")) { let newScript = document.createElement(\"script\"); newScript.type = oldScript.type; newScript.textContent = oldScript.textContent; oldScript.parentNode.replaceChild(newScript, oldScript); } })(); requestAnimationFrame(() => { observer.observe(destElt); }); } })(); </script><div id=\"compress_html_a902e28b8b094aa89e25f34f4655b84e\"><script>window.treescope_decompress_enqueue(\"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\", \"compress_html_a902e28b8b094aa89e25f34f4655b84e\");</script><span style=\"color: #aaaaaa; font-family: monospace\">(Loading...)</span></div></div>"
      ],
      "text/plain": [
       "<IPython.core.display.HTML object>"
      ]
     },
     "metadata": {},
     "output_type": "display_data"
    },
    {
     "data": {
      "text/html": [
       "<div id=\"compress_html_30d05d4ca1594fd99ea1b553c345755c\"><script>window.treescope_decompress_enqueue(\"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\", \"compress_html_30d05d4ca1594fd99ea1b553c345755c\");</script></div>"
      ],
      "text/plain": [
       "<IPython.core.display.HTML object>"
      ]
     },
     "metadata": {},
     "output_type": "display_data"
    },
    {
     "data": {
      "text/html": [
       "<div id=\"output_dest_72cf74d3a60e42e0a375fe6b4017a389\"><script> (()=>{ const output = document.getElementById(\"output_72cf74d3a60e42e0a375fe6b4017a389\"); const dest = document.getElementById(\"output_dest_72cf74d3a60e42e0a375fe6b4017a389\"); dest.parentNode.replaceChild(output, dest); })(); </script></div>"
      ],
      "text/plain": [
       "(<jax.Array(21.570282, dtype=float32)>,\n",
       " # jax.Array int32(10,) [≥3_865, ≤48_639] nonzero:10\n",
       "   Array([20279, 23629, 27894, 48639,  7863, 14583,  8955,  3865, 24247,\n",
       "          34768], dtype=int32)\n",
       " ,\n",
       " # jax.Array float32(10,) ≈2.5e+01 ±7.6 [≥1.9e+01, ≤4.3e+01] nonzero:10\n",
       "   Array([43.11961 , 36.173622, 26.041803, 24.71793 , 23.036415, 21.150805,\n",
       "          20.395006, 20.153467, 19.786968, 19.267086], dtype=float32)\n",
       " )"
      ]
     },
     "execution_count": 28,
     "metadata": {},
     "output_type": "execute_result"
    }
   ],
   "source": [
    "from micrlhf.utils.load_sae import get_sae\n",
    "from micrlhf.utils.ito import grad_pursuit\n",
    "resid_out = aux[\"resid_out\"]\n",
    "refusal = (resid_out[{\"batch\": -4}] - resid_out.untag(\"batch\").mean()).unwrap(\"embedding\")\n",
    "sae = get_sae(20, 5)\n",
    "k = 10\n",
    "w, r = grad_pursuit(refusal, sae[\"W_dec\"], k)\n",
    "i = jax.lax.top_k(jnp.abs(w), k)[1]\n",
    "((r - refusal) ** 2).mean(), i, w[i]"
   ]
  },
  {
   "cell_type": "code",
   "execution_count": 21,
   "metadata": {},
   "outputs": [
    {
     "data": {
      "text/html": [
       "<div id=\"output_243349c837ea47f38b808e55502a92ee\"><script> /* penzai.treescope rendering of a Python object (compressed) */ (()=>{ let observer; let lastStep = new Promise((resolve, reject) => { observer = new IntersectionObserver((entries) => { for (const entry of entries) { if (entry.isIntersecting) { resolve(); observer.disconnect(); return; } } }, {rootMargin: \"1000px\"}); }); window.treescope_decompress_enqueue = (encoded, destId) => { const previous = lastStep; const destElt = document.getElementById(destId); lastStep = (async () => { await previous; let blob = new Blob([ Uint8Array.from(atob(encoded), (m) => m.codePointAt(0)) ]); let reader = blob.stream().pipeThrough( new DecompressionStream(\"deflate\") ).pipeThrough( new TextDecoderStream(\"utf-8\") ).getReader(); let parts = []; while (true) { let step = await reader.read(); if (step.done) { break; } parts.push(step.value); } let newElt = document.createElement(\"div\"); newElt.innerHTML = parts.join(\"\"); destElt.parentNode.replaceChild(newElt, destElt); for (let oldScript of newElt.querySelectorAll(\"script\")) { let newScript = document.createElement(\"script\"); newScript.type = oldScript.type; newScript.textContent = oldScript.textContent; oldScript.parentNode.replaceChild(newScript, oldScript); } })(); requestAnimationFrame(() => { observer.observe(destElt); }); } })(); </script><div id=\"compress_html_f150fbeb06344fcb86ae57d6456f475d\"><script>window.treescope_decompress_enqueue(\"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\", \"compress_html_f150fbeb06344fcb86ae57d6456f475d\");</script><span style=\"color: #aaaaaa; font-family: monospace\">(Loading...)</span></div></div>"
      ],
      "text/plain": [
       "<IPython.core.display.HTML object>"
      ]
     },
     "metadata": {},
     "output_type": "display_data"
    },
    {
     "data": {
      "text/html": [
       "<div id=\"output_dest_243349c837ea47f38b808e55502a92ee\"><script> (()=>{ const output = document.getElementById(\"output_243349c837ea47f38b808e55502a92ee\"); const dest = document.getElementById(\"output_dest_243349c837ea47f38b808e55502a92ee\"); dest.parentNode.replaceChild(output, dest); })(); </script></div>"
      ],
      "text/plain": [
       "((49152,), (3072,))"
      ]
     },
     "execution_count": 21,
     "metadata": {},
     "output_type": "execute_result"
    }
   ],
   "source": [
    "r.shape, refusal.shape"
   ]
  },
  {
   "cell_type": "code",
   "execution_count": null,
   "metadata": {},
   "outputs": [],
   "source": []
  }
 ],
 "metadata": {
  "kernelspec": {
   "display_name": "micrlhf-progress-a058ydGG-py3.12",
   "language": "python",
   "name": "python3"
  },
  "language_info": {
   "codemirror_mode": {
    "name": "ipython",
    "version": 3
   },
   "file_extension": ".py",
   "mimetype": "text/x-python",
   "name": "python",
   "nbconvert_exporter": "python",
   "pygments_lexer": "ipython3",
   "version": "3.12.3"
  }
 },
 "nbformat": 4,
 "nbformat_minor": 2
}
